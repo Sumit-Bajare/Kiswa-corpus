{
 "cells": [
  {
   "cell_type": "code",
   "execution_count": 1,
   "metadata": {},
   "outputs": [],
   "source": [
    "# Nov 2021 & Dec 2021"
   ]
  },
  {
   "cell_type": "code",
   "execution_count": 2,
   "metadata": {},
   "outputs": [],
   "source": [
    "import justext\n",
    "import requests\n",
    "import nltk"
   ]
  },
  {
   "cell_type": "code",
   "execution_count": 3,
   "metadata": {},
   "outputs": [
    {
     "data": {
      "text/plain": [
       "'/Users/sumitbajare/Documents/Sussex/Project'"
      ]
     },
     "execution_count": 3,
     "metadata": {},
     "output_type": "execute_result"
    }
   ],
   "source": [
    "import os\n",
    "os.getcwd()"
   ]
  },
  {
   "cell_type": "code",
   "execution_count": 4,
   "metadata": {},
   "outputs": [],
   "source": [
    "def get_document(url):\n",
    "    \n",
    "    '''\n",
    "        \n",
    "        This function will check if the url is valid and then\n",
    "        proceed to parse it to produce a clean text (no html) which\n",
    "        can be used as input to a recommendation engine.\n",
    "\n",
    "    Arguments: url  -- input url that needs to be checked and parsed\n",
    "    Return: text_only -- the text extracted after removing boilerplate content\n",
    "    '''\n",
    "    \n",
    "    try:\n",
    "        r = requests.head(url, allow_redirects = True)\n",
    "        \n",
    "    except requests.exceptions.ConnectionError as e:\n",
    "        raise URLRetrievalError(url, 'Could not connect', e)\n",
    "        \n",
    "    if r.status_code != requests.codes.ok:\n",
    "        raise URLRetrievalError(url, 'Invalid response code from remote server: {}'\n",
    "                                .format(r.status_code))\n",
    "        \n",
    "    if r.headers[\"content-type\"].split(';')[0] not in [\"text/html\",\n",
    "                                                       \"text/plain\"]:\n",
    "        raise URLRetrievalError(url, 'Document has invalid MIME type: {}'\n",
    "                                .format(r.headers[\"content-type\"]))\n",
    "    \n",
    "    response = requests.get(url)\n",
    "    paragraphs = justext.justext(response.content, justext.get_stoplist(\"Swahili\"))\n",
    "    text_only = ''\n",
    "    \n",
    "    for paragraph in paragraphs:\n",
    "        if not paragraph.is_boilerplate:\n",
    "            text_only += ' ' + paragraph.text\n",
    "            \n",
    "    if len(text_only) == 0:\n",
    "        raise DocumentParsingError('Length of document is zero')\n",
    "        \n",
    "    return text_only"
   ]
  },
  {
   "cell_type": "code",
   "execution_count": 5,
   "metadata": {},
   "outputs": [],
   "source": [
    "# Changing the current working directory to store the documents in the desired file\n",
    "os.chdir('/Users/sumitbajare/Documents/Sussex/Project/swa_corpus/taifaleo')"
   ]
  },
  {
   "cell_type": "code",
   "execution_count": 6,
   "metadata": {},
   "outputs": [],
   "source": [
    "def store_document(doc,name):\n",
    "    \n",
    "    '''\n",
    "        This function will store the contents of the url in a text file.\n",
    "        \n",
    "        Argumnets: doc -- the Document to store in a text file \n",
    "        Return: nan\n",
    "    '''\n",
    "    \n",
    "    # Open function to open the file in the same directory in append mode\n",
    "    file = open(name,\"a\")\n",
    "    # writing each string in the file\n",
    "    file.writelines(doc)\n",
    "    # closing the file\n",
    "    file.close()"
   ]
  },
  {
   "cell_type": "code",
   "execution_count": 7,
   "metadata": {},
   "outputs": [],
   "source": [
    "def total_words(file_name):\n",
    "    filename = file_name\n",
    "\n",
    "    with open(filename, 'r') as file:\n",
    "        lines_in_file = file.read()\n",
    "\n",
    "        nltk_tokens = nltk.word_tokenize(lines_in_file)\n",
    "        print (nltk_tokens)\n",
    "        print (\"\\n Number of Words: \" , len(nltk_tokens))\n",
    "        return len(nltk_tokens)"
   ]
  },
  {
   "cell_type": "code",
   "execution_count": 12,
   "metadata": {},
   "outputs": [],
   "source": [
    "# these were the total number of words from the previous 10 notebooks\n",
    "# we will resume the count from 7,79,182\n",
    "total_corpus_words= 779182"
   ]
  },
  {
   "cell_type": "code",
   "execution_count": 13,
   "metadata": {},
   "outputs": [
    {
     "name": "stdout",
     "output_type": "stream",
     "text": [
      "['Mhariri', 'wa', 'zamani', 'wa', 'habari', 'katika', 'NMG', 'afariki', 'TASNIA', 'ya', 'uanahabari', 'nchini', 'imepata', 'pigo', 'baada', 'ya', 'kifo', 'cha', 'Bw', 'Gideon', 'Mulaki', ',', 'aliyehudumu', 'kama', 'Mhariri', 'wa', 'Habari', 'katika', 'shirika', 'la', 'Nation', 'Media', 'Group', '(', 'NMG', ')', ',', 'katika', 'miaka', 'ya', 'themanini', '.', 'Kulingana', 'na', 'mwanawe', ',', 'Bw', 'Kyalo', 'Mulaki', ',', 'babake', 'alikuwa', 'mapumzikoni', 'nyumbani', 'kwake', 'eneo', 'la', 'Ikutha', ',', 'Kaunti', 'ya', 'Kitui', ',', 'alipoanza', 'kukumbwa', 'na', 'matatizo', 'ya', 'kupumua', '.', '“', 'Yeye', 'ni', 'miongoni', 'mwa', 'wanahabari', 'wachache', 'waliokamatwa', 'na', 'serikali', 'ya', 'Kanu', 'kutokana', 'na', 'habari', 'alizoandika', 'kuukosoa', 'utawala', 'huo', ',', '”', 'akasema', 'Bw', 'Wangethi', 'Mwangi', ',', 'aliyehudumu', 'kwa', 'wakati', 'mmoja', 'kama', 'Mhariri', 'Mkuu', 'katika', 'NMG', '.', 'Jamaa', 'wa', 'Gumo', 'aliyetekwa', 'nyara', 'aachiliwa', 'JAMAA', 'wa', 'waziri', 'msaidizi', 'wa', 'zamani', ',', 'Fred', 'Gumo', ',', 'aliyekuwa', 'ametekwa', 'nyara', 'saa', 'chache', 'baada', 'ya', 'kumchukua', 'mwanawe', 'kutoka', 'gereza', 'la', 'Kamiti', 'ambapo', 'alikuwa', 'akitumikia', 'kifungo', 'cha', 'miaka', '10', 'kwa', 'kujihusisha', 'na', 'ugaidi', ',', 'hatimaye', 'aliachiliwa', 'Jumamosi', '.', 'Bi', 'Jacinta', 'Bwire', ',', 'shemeji', 'wa', 'Gumo', ',', 'pamoja', 'na', 'dereva', 'wake', 'Willis', 'Otieno', ',', 'walitekwa', 'nyara', 'na', 'watu', 'wasiojulikana', 'mnamo', 'Ijumaa', '.', 'Wakili', 'wake', 'Prof', 'Hassan', 'Nandwa', 'pia', 'alitoweka', 'muda', 'mfupi', 'baada', 'ya', 'kuripoti', 'kutoweka', 'kwa', 'Bwire', 'katika', 'Kituo', 'cha', 'Polisi', 'cha', 'Central', '.', 'Bi', 'Jacinta', 'Bwire', 'ni', 'dada', 'wa', 'mmoja', 'wa', 'wake', 'wa', 'Bw', 'Gumo', 'na', 'anafanya', 'kazi', 'katika', 'serikali', 'ya', 'Kaunti', 'ya', 'Nairobi', '.', 'Bw', 'Gumo', 'aliagiza', 'dereva', 'wake', 'Bw', 'Otieno', ',', 'kumpeleka', 'Bi', 'Bwire', 'katikati', 'ya', 'jiji', 'la', 'Nairobi', 'kwa', 'kutumia', 'gari', 'aina', 'ya', 'Landcruiser', '.', 'Lakini', 'walipokuwa', 'wakirejea', 'nyumbani', 'katika', 'eneo', 'la', 'Karura', 'jioni', ',', 'waliandamwa', 'na', 'gari', 'aina', 'ya', 'pick-up', 'ambalo', 'liliendeshwa', 'kwa', 'kasi', 'na', 'kuwafungia', 'barabara', 'karibu', 'na', 'lango', 'kuu', 'la', 'kuingia', 'nyumbani', 'kwa', 'Bw', 'Gumo', '.', 'Wanaume', 'watatu', 'walitoka', 'katika', 'gari', 'la', 'pickup', 'na', 'kuagiza', 'Bi', 'Otieno', 'na', 'Bi', 'Bwire', 'kutoka', 'ndani', 'ya', 'gari', 'walilokuwa', 'wameabiri', '.', 'Wawili', 'hao', 'walilazimishwa', 'kuingia', 'ndani', 'ya', 'gari', 'hilo', 'la', 'pick-up', 'na', 'kuondoka', 'nao', '.', 'Mnamo', 'Jumapili', ',', 'familia', 'ilisema', 'kuwa', 'waathiriwa', 'wanaendelea', 'vyema', 'bila', 'kufichua', 'mahali', 'ambapo', 'jamaa', 'zao', 'walizuiliwa', 'tangu', 'Ijumaa', '.', 'Elgiva', ',', 'inadaiwa', 'alinyakwa', 'na', 'watu', 'waliokuwa', 'na', 'silaha', ',', 'muda', 'mfupi', 'baada', 'ya', 'kufikishwa', 'na', 'mama', 'yake', 'katikati', 'ya', 'jiji', 'la', 'Nairobi', 'kutoka', 'Kamiti', '.', 'Mama', 'yake', 'alipofahamishwa', 'kwamba', 'mwanawe', 'alitekwa', 'nyara', ',', 'alienda', 'kumwambia', 'Bw', 'Gumo', 'lakini', 'yeye', 'pia', 'akatekwa', 'siku', 'hiyo', '.', 'Elgiva', 'ambaye', 'pia', 'anajulikana', 'kwa', 'jina', 'la', 'Mohamed', 'Seif', ',', 'alifungwa', 'baada', 'ya', 'kupatikana', 'na', 'hatia', 'ya', 'kumiliki', 'bunduki', ',', 'risasi', 'na', 'gruneti', 'bila', 'leseni', '.', 'Mnamo', '2005', ',', 'Elgiva', 'alijiunga', 'na', 'Uislamu', 'kabla', 'ya', 'kuondoka', 'nchini', 'Kenya', 'kuelekea', 'nchini', 'Somalia', 'kujiunga', 'na', 'kundi', 'la', 'al-Shabaab', '.', 'Mnamo', '2011', ',', 'alirejea', 'Kenya', 'na', 'kuishi', 'mtaani', 'Kayole', 'ambapo', 'alisajili', 'vijana', 'kadhaa', 'kujiunga', 'na', 'kundi', 'hilo', 'la', 'kigaidi.Baadaye', 'mwaka', 'huo', ',', 'alikiri', 'kuwa', 'mwanachama', 'wa', 'al-Shabaab', ',', 'kutekeleza', 'mashambulio', 'mawili', 'ya', 'kigaidi', 'ambapo', 'mtu', 'mmoja', 'aliuawa', 'na', '20', 'wakajeruhiwa', 'na', 'kujaribu', 'kuingia', 'uwanjani', 'Nyayo', 'na', 'gruneti', 'wakati', 'wa', 'maadhimisho', 'ya', 'Siku', 'ya', 'Kenyatta', ',', 'Oktoba', '20', '–', 'ambayo', 'sasa', 'inajulikana', 'kama', 'Mashujaa.Kabla', 'ya', 'kukamatwa', ',', 'mshukiwa', 'pia', 'alifichua', 'kupitia', 'Facebook', 'kwamba', 'alipanga', 'kushambulia', 'maeneo', '13', 'jijini', 'Nairobi', 'kwa', 'gruneti', '.', 'MKU', 'na', 'Unesco', 'kushirikiana', 'kufanikisha', 'mradi', 'wa', 'afya', 'wa', 'o3', 'Plus', 'CHUO', 'Kikuu', 'cha', 'Mount', 'Kenya', 'kinashirikiana', 'na', 'Shirika', 'la', 'Umoja', 'wa', 'Mataifa', 'la', 'Elimu', ',', 'Sayansi', 'na', 'Utamaduni', '(', 'Unesco', ')', 'kufanikisha', 'mradi', 'wa', 'afya', 'wa', 'Our', 'Rights', ',', 'Our', 'Lives', ',', 'Our', 'Future', '(', 'O3', 'Plus', ')', 'yaani', 'Haki', 'Zetu', ',', 'Uhai', 'Wetu', 'na', 'Mustakabali', 'Wetu', '.', 'Ushirikiano', 'huo', 'pia', 'umejumuisha', 'Chuo', 'Kikuu', 'cha', 'Nairobi', 'ambapo', 'pia', 'kutakuwa', 'na', 'ushirikiano', 'na', 'vyuo', 'vingine', 'vya', 'humu', 'nchini', '.', 'Mradi', 'huo', 'unanuia', 'kuona', 'ya', 'kwamba', 'wanafunzi', 'wanajali', 'hali', 'yao', 'ya', 'kiafya', 'na', 'kimaisha', 'kwa', 'kujiepusha', 'na', 'maswala', 'maovu', 'yanayoweza', 'kudhuru', 'afya', 'yao', '.', 'O3', 'Plus', 'ni', 'mradi', 'unaolenga', 'kuhakikisha', 'kwamba', 'vijana', 'wanapata', 'hamasisho', 'kujiepusha', 'na', 'mienendo', 'hatari', 'hivyo', 'kupunguza', 'maambukizi', 'ya', 'Ukimwi', ',', 'wawe', 'na', 'afya', 'nzuri', ',', 'kusawazisha', 'uwakilishi', 'wa', 'kijinsia', 'pamoja', 'na', 'kuepuka', 'dhuluma', 'za', 'kijinsia', 'ikiwemo', 'vurugu', 'dhidi', 'ya', 'jinsia', 'fulani', '.']\n",
      "\n",
      " Number of Words:  647\n"
     ]
    }
   ],
   "source": [
    "file=\"21nov1.txt\"\n",
    "\n",
    "# calling the function and storing the contents in a text variable \n",
    "text1 = get_document(\"https://taifaleo.nation.co.ke/mhariri-wa-zamani-nmg-afariki/\")\n",
    "text2 = get_document(\"https://taifaleo.nation.co.ke/jamaa-wa-gumo-aachiliwa/\")\n",
    "text3 = get_document(\"https://taifaleo.nation.co.ke/kufanikisha-mradi-wa-afya-wa-o3-plus/\")\n",
    "\n",
    "# calling the store_ document function \n",
    "store_document(doc=text1,name=file)\n",
    "store_document(doc=text2,name=file)\n",
    "store_document(doc=text3,name=file)\n",
    "\n",
    "#add the words in this file to the total_corpus_words, to keep count of the number of words in the corpus\n",
    "total_corpus_words+=total_words(file)"
   ]
  },
  {
   "cell_type": "code",
   "execution_count": 14,
   "metadata": {},
   "outputs": [
    {
     "data": {
      "text/plain": [
       "779829"
      ]
     },
     "execution_count": 14,
     "metadata": {},
     "output_type": "execute_result"
    }
   ],
   "source": [
    "total_corpus_words"
   ]
  },
  {
   "cell_type": "code",
   "execution_count": 17,
   "metadata": {},
   "outputs": [
    {
     "name": "stdout",
     "output_type": "stream",
     "text": [
      "['Bw', 'Mutyambai', 'aliyekuwa', 'akizungumza', 'kupitia', 'ukumbi', 'wa', '#', 'EngageTheIG', 'kwenye', 'mtandao', 'wa', 'Twitter', ',', 'alitoa', 'onyo', 'hilo', 'baada', 'ya', 'Wakenya', 'kulalamika', 'kwamba', 'kumekuwa', 'na', 'ongezeko', 'la', 'visa', 'vya', 'maafisa', 'wa', 'polisi', 'kuomba', 'mafuta', 'au', 'hongo', 'wanaporipoti', 'visa', 'vya', 'uhalifu', '.', '“', 'Maafisa', 'wa', 'polisi', 'wanakuomba', 'Sh5,000', 'kwenda', 'kukamata', 'mhalifu', 'aliyekuibia', 'Sh20,000', '.', 'Baada', 'ya', 'kuwapa', ',', 'mkiwa', 'njiani', 'wanakuomba', 'tena', 'Sh3,000', 'za', 'kula', 'nyama', 'choma', 'na', 'Sh2,000', 'za', 'mkubwa', 'wa', 'kituo', '.', 'Hata', 'baada', 'ya', 'kutoa', 'hela', 'hizo', 'mwizi', 'hapatikani', ',', '”', 'akalalama', 'Bw', 'Kinuthia', 'Magera', ',', 'mtumiaji', 'wa', 'Twitter', '.', 'Bi', 'Mercy', 'Okumu', 'alielezea', 'namna', 'alivyonunulia', 'maafisa', 'wa', 'polisi', 'wa', 'eneo', 'la', 'Ngong', ',', 'Kaunti', 'ya', 'Kajiado', ',', 'mafuta', 'ya', 'Sh3,000', 'kumsaidia', 'kumsaka', 'mhalifu', 'aliyekuwa', 'amemtapeli', 'fedha', 'zake', 'lakini', 'mshukiwa', 'hajawahi', 'kukamatwa', 'mwaka', 'mmoja', 'baadaye', '.', '“', 'Wananchi', 'hawafai', 'kununua', 'mafuta', 'ya', 'gari', 'au', 'kutoa', 'hongo', 'ili', 'kupata', 'huduma', 'za', 'polisi', '.', 'Jukumu', 'la', 'wananchi', 'ni', 'kuripoti', 'kisa', 'na', 'kuacha', 'polisi', 'kuchukua', 'hatua', '.', 'Kuitisha', 'hongo', 'ni', 'kinyume', 'cha', 'sheria', ',', '”', 'akasema', 'Bw', 'Mutyambai', '.', 'Inspekta', 'Jenerali', ',', 'hata', 'hivyo', ',', 'hakusema', 'hatua', 'ambayo', 'mtu', 'anafaa', 'kuchukua', 'iwapo', 'maafisa', 'wake', 'watamtaka', 'kuwanunulia', 'mafuta', 'au', 'kutoa', 'hongo', 'ili', 'kumhudumiwa', '.', 'Bw', 'Mutyambai', 'pia', 'alionya', 'maafisa', 'wa', 'polisi', 'walio', 'na', 'mazoea', 'ya', 'kutembea', 'katika', 'maduka', 'ya', 'kuuza', 'pombe', 'wakichukua', 'hongo', 'kila', 'siku', 'jioni.Onyo', 'hilo', 'lilifuatia', 'baada', 'ya', 'watumiaji', 'wa', 'mitandao', 'ya', 'kijamii', 'kudai', 'kwamba', 'maafisa', 'wa', 'Kituo', 'cha', 'Polisi', 'cha', 'Kasarani', ',', 'jijini', 'Nairobi', ',', 'wamekuwa', 'wakikusanya', 'hongo', 'kutoka', 'kwa', 'wamiliki', 'wa', 'baa', 'na', 'maduka', 'ya', 'pombe', 'kila', 'siku', 'jioni', '.', '“', 'Usitoe', 'hongo', 'kwa', 'maafisa', 'wa', 'polisi', '.', 'Vita', 'dhidi', 'ya', 'rushwa', 'ni', 'jukumu', 'la', 'kila', 'Mkenya', ',', '”', 'akasema', 'Bw', 'Mutyambai', '.', 'Ripoti', 'ya', 'Kitengo', 'cha', 'Kupokea', 'Malalamishi', 'dhidi', 'ya', 'Polisi', '(', 'IAU', ')', 'ya', '2020', 'inaonyesha', 'kuwa', 'uchunguzi', 'wa', 'maafisa', 'wanaolalamikiwa', 'huchukua', 'muda', 'mrefu', 'hivyo', 'kuchelewesha', 'haki', 'kwa', 'walalamishi', '.', 'Kati', 'ya', 'malalamishi', '1043', 'yaliyowasilishwa', 'kwa', 'IAU', 'dhidi', 'ya', 'polisi', 'mwaka', 'jana', ',', 'ni', 'asilimia', '25', 'tu', 'ambayo', 'yalifanyiwa', 'uchunguzi', 'kufikia', 'Desemba', '.', 'Malalamishi', '430', 'yaliyowasilishwa', 'kwa', 'IAU', 'yalihusihana', 'na', 'utepetevu', 'ambapo', 'maafisa', 'wa', 'polisi', 'walikosa', 'kuchukua', 'hatua', 'baada', 'ya', 'kupokea', 'ripoti', 'za', 'uhalifu', '.', 'Wamalwa', 'atoa', 'hakikisho', 'la', 'upatikanaji', 'wa', 'haki', 'kwa', 'familia', 'ya', 'Agnes', 'Wanjiru', 'aliyeuawa', 'na', 'mwanajeshi', 'wa', 'Uingereza', 'WAZIRI', 'wa', 'Ulinzi', 'Eugene', 'Wamalwa', ',', 'Jumanne', 'aliwahakikishia', 'wabunge', 'kwamba', 'serikali', 'ya', 'Uingereza', 'imejitolea', 'kushirikiana', 'na', 'Kenya', 'katika', 'juhudi', 'za', 'kuhakikisha', 'kuwa', 'mwanajeshi', 'wake', 'aliyemuua', 'Agnes', 'Wanjiru', 'mjini', 'Nanyuki', ',', 'Kaunti', 'ya', 'Laikipia', 'anaadhibiwa', '.', 'Akiongea', 'alipofika', 'mbele', 'ya', 'Kamati', 'ya', 'Bunge', 'kuhusu', 'Ulinzi', 'na', 'Mahusiano', 'ya', 'Kigeni', 'Bw', 'Wamalwa', 'alisema', 'kuwa', 'amepata', 'hakikisho', 'hilo', 'kutoka', 'kwa', 'Waziri', 'wa', 'Ulinzi', 'wa', 'Uingereza', 'Ben', 'Wallace', 'na', 'Balozi', 'wa', 'Uingereza', 'nchini', 'Jane', 'Marriott', '.', '“', 'Ningependa', 'kuwahakikishia', 'kwamba', 'tumefanya', 'mashauriano', 'na', 'serikali', 'ya', 'Uingereza', 'kuhusu', 'suala', 'hili', 'lenye', 'umuhimu', 'wa', 'kitaifa', '.', 'Leo', 'asubuhi', 'nilikutana', 'na', 'balozi', 'wa', 'Uingereza', 'na', 'mwenzangu', 'wa', 'Uingereza', 'na', 'wamenihakikishia', 'kuwa', 'mwenajeshi', 'huyo', 'ataletwa', 'nchini', 'ili', 'ashtakiwe', 'kwa', 'mujibu', 'wa', 'sheria', 'za', 'nchi', 'hii', ',', '”', 'akaambia', 'kikao', 'cha', 'kamati', 'hiyo', 'kilichoongozwa', 'na', 'Mbunge', 'wa', 'Saku', 'Dida', 'Rasso', '.', '“', 'Hatimaye', 'haki', 'itatendekeka', 'kuhusu', 'suala', 'hili', 'la', 'mauaji', 'ya', 'Agnes', 'Wanjiru', '.', 'Tunajua', 'kwamba', 'familia', 'yake', 'na', 'Wakenya', 'kwa', 'ujumla', 'wanalilia', 'haki', 'ambayo', 'kwa', 'kweli', 'imecheleweshwa', 'kwa', 'kupindi', 'cha', 'miaka', 'tisa', ',', '”', 'Bw', 'Wamalwa', 'akaongeza', '.', 'Waziri', 'alipuuzilia', 'mbali', 'madai', 'kuwa', 'maafisa', 'wa', 'serikali', 'ya', 'Kenya', 'wanaendesha', 'njama', 'ya', 'kuficha', 'ukweli', 'kuhusu', 'mauaji', 'ya', 'mwanamke', 'huyo', 'ili', 'kulinda', 'uhusiano', 'kati', 'ya', 'Kenya', 'na', 'Uingereza', '.', '“', 'Hakuna', 'afisa', 'wa', 'serikali', 'anayetaka', 'kuficha', 'ukweli', 'kuhusu', 'suala', 'hilo', 'muhimu', '.', 'Ni', 'kweli', 'kwamba', 'haki', 'imecheleweshwa', 'kuhusiana', 'na', 'mauaji', 'ya', 'Agnes', 'Wanjiru', 'lakini', 'sharti', 'tufanye', 'kila', 'tuwezalo', 'kuhakikisha', 'kuwa', 'inapatikana', '.', 'Hata', 'hivyo', ',', 'Mbunge', 'wa', 'Yatta', 'Charles', 'Kilonzo', 'alitilia', 'shaka', 'hakikisho', 'hilo', ',', 'akisema', 'miaka', 'tisa', 'ni', 'kipindi', 'kirefu', 'mno', 'ikizingatiwa', 'kuwa', 'marehemu', 'Wanjiru', 'aliuawa', 'na', 'mwanajeshi', 'wa', 'Uingereza', 'mjini', 'Nanyuki', 'mnamo', 'Machi', '31', ',', '2012', '.', '“', 'Kila', 'mtu', 'anataka', 'kuona', 'haki', 'ikitendeka', '.', 'Miaka', 'tisa', 'imepita', 'huku', 'hakikisho', 'hilo', 'likitolewa', '.', 'Sasa', 'wewe', 'waziri', 'Wamalwa', 'unatuambia', 'kwamba', 'unataka', 'sisi', 'kama', 'wabunge', 'tuidhinishe', 'mkataba', 'wa', 'ushirikiano', 'na', 'Uingereza', 'ilhali', 'serikali', 'haina', 'haraka', 'ya', 'kuadhibu', 'mshukiwa', ',', '”', 'akasema', '.', 'Kwa', 'upande', 'wake', ',', 'Mbunge', 'wa', 'Mandera', 'Kaskazini', 'Bashir', 'Abdullahi', 'alitisha', 'kuwa', 'huenda', 'wabunge', 'wakakataa', 'kuidhinisha', 'mkataba', 'mpya', 'wa', 'ushirikiano', 'kati', 'ya', 'Kenya', 'na', 'Uingereza', 'ambao', 'unatarajiwa', 'kuletwa', 'bungeni', 'hivi', 'karibuni', '.', '“', 'Hatuwezi', 'kupitisha', 'mkataba', 'huo', 'hadi', 'pale', 'tutakapopata', 'hakikisho', 'na', 'ushahidi', 'tosha', 'kwamba', 'serikali', 'ya', 'Kenya', 'inashughulikia', 'suala', 'hili', 'kwa', 'lengo', 'la', 'kumleta', 'mshukiwa', 'nchini', 'ili', 'ashtakiwe', 'kwa', 'mujibu', 'wa', 'sheria', 'za', 'humu', 'nchini', ',', '”', 'akaeleza', '.', 'Wanjiru', ',', '21', ',', 'alioenekana', 'mara', 'ya', 'mwisho', 'akiingia', 'katika', 'mkahawa', 'wa', 'Lions', 'Court', 'mjini', 'Nanyuki', 'akiandamana', 'na', 'wanajeshi', 'wawili', 'wa', 'Uingereza', '.', 'Miezi', 'miwili', 'baadaye', 'mwili', 'wake', 'ulipatikana', 'katika', 'shimo', 'la', 'maji', 'taka', '(', 'septic', 'tank', ')', 'karibu', 'na', 'chumba', 'ambacho', 'alidaiwa', 'alilala', '.', 'Uchunguzi', 'kuhusu', 'kifo', 'chake', 'ulifanywa', 'na', 'ikabainika', 'kuwa', 'Wanjiru', 'ambaye', 'alimwacha', 'mtoto', 'mwenye', 'umri', 'wa', 'miaka', 'mitano', ',', 'aliuawa', '.', 'Uchunguzi', 'huo', 'uliendeshwa', 'na', 'mahakama', 'ya', 'Nanyuki', '.', 'Mnamo', 'Jumanne', 'wananchi', 'mjini', 'Nanyuki', 'waliungana', 'na', 'watu', 'wa', 'familia', 'yako', 'kufanya', 'maandamano', 'wakiitisha', 'haki', '.', 'Inspekta', 'Jenerali', 'wa', 'Polisi', 'Hillary', 'Mutyambai', 'kwa', 'mara', 'nyingine', 'ameamuru', 'kuwa', 'Idara', 'ya', 'Upelelezi', 'wa', 'Jinai', '(', 'DCI', ')', 'ishughulikie', 'kesi', 'hiyo', 'kwa', 'lengo', 'la', 'kuhakikisha', 'kuwa', 'mshukiwa', 'amehukumiwa', 'kwa', 'mujibu', 'wa', 'sheria', '.']\n",
      "\n",
      " Number of Words:  870\n"
     ]
    }
   ],
   "source": [
    "file=\"21nov2.txt\"\n",
    "\n",
    "# calling the function and storing the contents in a text variable \n",
    "text2 = get_document(\"https://taifaleo.nation.co.ke/watahadharishwa-kuomba-raia-mafuta/\")\n",
    "text3 = get_document(\"https://taifaleo.nation.co.ke/haki-kwa-familia-ya-agnes-wanjiru/\")\n",
    "\n",
    "# calling the store_ document function \n",
    "store_document(doc=text2,name=file)\n",
    "store_document(doc=text3,name=file)\n",
    "\n",
    "#add the words in this file to the total_corpus_words, to keep count of the number of words in the corpus\n",
    "total_corpus_words+=total_words(file)"
   ]
  },
  {
   "cell_type": "code",
   "execution_count": 18,
   "metadata": {},
   "outputs": [
    {
     "data": {
      "text/plain": [
       "780699"
      ]
     },
     "execution_count": 18,
     "metadata": {},
     "output_type": "execute_result"
    }
   ],
   "source": [
    "total_corpus_words"
   ]
  },
  {
   "cell_type": "code",
   "execution_count": 23,
   "metadata": {},
   "outputs": [
    {
     "name": "stdout",
     "output_type": "stream",
     "text": [
      "['Serikali', 'irejeshe', 'spoti', 'shuleni', '–', 'Kuppet', 'MUUNGANO', 'wa', 'Walimu', 'wa', 'Sekondari', 'nchini', '(', 'Kuppet', ')', 'umetoa', 'wito', 'kwa', 'serikali', 'kurejesha', 'shughuli', 'za', 'spoti', 'shuleni', 'kama', 'njia', 'ya', 'kukabiliana', 'na', 'hali', 'ya', 'wanafunzi', 'kuchoma', 'mabweni', '.', 'Katibu', 'mkuu', 'wa', 'muungano', 'huo', ',', 'Sabala', 'Inyeni', ',', 'alisema', 'kurejeshwa', 'kwa', 'shughuli', 'za', 'michezo', 'hizo', 'zilizopigwa', 'marufuku', 'kutokana', 'na', 'janga', 'la', 'corona', 'itasaidia', 'kupunguza', 'visa', 'vya', 'wanafunzi', 'kuchoma', 'mabweni', 'na', 'kuharibu', 'mali', 'ya', 'shule', '.', '“', 'Baadhi', 'ya', 'wanafunzi', 'wanahisi', 'kuwa', 'wafungwa', '.', 'Tunaomba', 'serikali', 'irejeshe', 'michezo', 'ya', 'mashindano', 'ili', 'kupunguza', 'visa', 'kama', 'hivyo', ',', '”', 'akasema', 'Bw', 'Inyeni', '.', 'Mpango', 'huo', 'ulioanza', 'mwaka', '2020', 'umewafanya', 'wanafunzi', 'kukaa', 'shuleni', 'kwa', 'muda', 'mrefu', 'ili', 'kufidia', 'muda', 'uliopotea', 'wakati', 'shule', 'zilipofungwa', 'kwa', 'takriban', 'miezi', 'tisa', 'kutokana', 'na', 'corona', '.', '“', 'Haya', 'yasipokomeshwa', ',', 'mtihani', 'wa', 'kitaifa', 'utakaofanywa', 'mwaka', 'ujao', 'utaathiriwa', '.', 'Serikali', 'inafaa', 'kuwapa', 'wanafunzi', 'siku', 'chache', 'kupumzika', '.', 'Wanafaa', 'kushiriki', 'katika', 'shughuli', 'za', 'nje', 'kama', 'vile', 'mchezo', '.', 'Tangu', 'spoti', 'kupigwa', 'marufuku', 'miongoni', 'mwa', 'wanafunzi', 'wa', 'sekondari', ',', 'visa', 'vya', 'maandamano', 'na', 'mabweni', 'kuchomwa', 'vimekuwa', 'jambo', 'la', 'kawaida', 'nchini.', '”', 'Alisema', 'kuwa', 'muhula', 'huu', 'hauna', 'mapumziko', 'na', 'wanafunzi', 'wanaweza', 'kusababisha', 'machafuko', 'ili', 'wapate', 'siku', 'chache', 'za', 'kurudi', 'nyumbani', '.', 'Aliomba', 'serikali', 'kutoa', 'fedha', 'za', 'kufadhili', 'shughuli', 'za', 'michezo', 'baina', 'ya', 'wanafunzi', 'hata', 'wakati', 'wakuu', 'wa', 'shule', 'wakiandaa', 'mipango', 'ya', 'shughuli', 'za', 'shule', '.', 'Kwingineko', ',', 'viongozi', 'wa', 'dini', 'chini', 'ya', 'jukwaa', 'la', 'Ushauri', 'la', 'Dini', ',', 'Kaunti', 'ya', 'Vihiga', 'wanaiomba', 'serikali', 'kuwateua', 'wataalamu', 'na', 'makasisi', 'watakaowapa', 'wanafunzi', 'ushauri', 'wakiwa', 'shuleni', '.', 'Uhuru', 'ahimiza', 'viongozi', 'kukabili', 'mabadiliko', 'ya', 'tabianchi', 'RAIS', 'Uhuru', 'Kenyatta', 'ametoa', 'wito', 'kwa', 'viongozi', 'wote', 'ulimwenguni', 'kushirikiana', 'ili', 'kupambana', 'na', 'athari', 'za', 'mabadiliko', 'ya', 'hali', 'ya', 'hewa', '.', 'Akihutubia', 'mkutano', 'wa', 'ukaguzi', 'wa', 'hali', 'ya', 'hewa', '(', 'COP26', ')', ',', 'jijini', 'Glasgow', ',', 'Scotland', ',', 'Rais', 'alisema', 'majanga', 'ya', 'mafuriko', 'na', 'ukame', 'yanayosababishwa', 'na', 'mabadiliko', 'ya', 'hali', 'ya', 'hewa', 'yanasababisha', 'maafa', 'na', 'mazao', 'duni', 'ulimwenguni', '.', 'Alisema', 'wakati', 'umefika', 'ambapo', 'nchi', 'zote', 'ulimwenguni', 'zinafaa', 'kuungana', 'ili', 'kupambana', 'na', 'athari', 'hizo', '.', '“', 'Tunapasa', 'kuweka', 'mikakati', 'ya', 'kupambana', 'na', 'athari', 'za', 'majanga', 'yanayosababishwa', 'na', 'mabadiliko', 'ya', 'hali', 'ya', 'hewa', '.', 'Tukijipanga', 'dhidi', 'ya', 'ukame', 'na', 'mafuriko', ',', 'tutalinda', 'vizazi', 'vijavyo', ',', '”', 'akasema', 'Rais', 'Kenyatta', '.', 'Alisema', 'Kenya', 'imejiandaa', 'kupambana', 'na', 'majanga', 'kama', 'hayo', 'kwa', 'kuteua', 'kamiti', 'itakayosafisha', 'maji', ',', 'kupanda', 'mti', 'na', 'kuhakikisha', 'misitu', 'imelindwa', '.', 'Hali', 'hiyo', 'ni', 'kuhakikisha', 'kuwa', 'mazingira', 'ya', 'nchi', 'yamelindwa', 'na', 'kusaidia', 'Kenya', 'kufikia', 'lengo', 'lake', 'la', 'asilimia', '100', 'ya', 'matumizi', 'ya', 'nishati', 'iliyoboreshwa', 'ifikapo', '2030', '.', 'Rais', 'pia', 'alitoa', 'wito', 'kwa', 'kampuni', 'zinazotoa', 'kaboni', 'duniani', 'kutoa', 'ahadi', 'ya', 'kupunguza', 'uchafuzi', 'huo', '.', '“', 'Nchi', 'zinazoendelea', 'zimeahidiwa', 'dola', 'bilioni', '100', 'kwa', 'mwaka', 'lakini', 'bado', 'hazijafikishwa', '.', 'Tunaomba', 'ahadi', 'kama', 'hizo', 'zitimizwe.', '”', 'Alisema', 'kila', 'mmoja', 'anapasa', 'kuwa', 'jasiri', 'na', 'kuwa', 'na', 'umoja', 'ili', 'kutatua', 'athari', 'zinazosababishwa', 'na', 'madabiliko', 'ya', 'hali', 'ya', 'hewa', '.']\n",
      "\n",
      " Number of Words:  464\n"
     ]
    }
   ],
   "source": [
    "file=\"21nov3.txt\"\n",
    "\n",
    "# calling the function and storing the contents in a text variable \n",
    "text1 = get_document(\"https://taifaleo.nation.co.ke/serikali-irejeshe-spoti-shuleni-kuppet/\")\n",
    "text3 = get_document(\"https://taifaleo.nation.co.ke/uhuru-ahimiza-viongozi-kukabili-mabadiliko-ya-tabianchi/\")\n",
    "\n",
    "# calling the store_ document function \n",
    "store_document(doc=text1,name=file)\n",
    "store_document(doc=text3,name=file)\n",
    "\n",
    "#add the words in this file to the total_corpus_words, to keep count of the number of words in the corpus\n",
    "total_corpus_words+=total_words(file)"
   ]
  },
  {
   "cell_type": "code",
   "execution_count": 24,
   "metadata": {},
   "outputs": [
    {
     "data": {
      "text/plain": [
       "781163"
      ]
     },
     "execution_count": 24,
     "metadata": {},
     "output_type": "execute_result"
    }
   ],
   "source": [
    "total_corpus_words"
   ]
  },
  {
   "cell_type": "code",
   "execution_count": 26,
   "metadata": {},
   "outputs": [
    {
     "name": "stdout",
     "output_type": "stream",
     "text": [
      "['Naomba', 'unikome', '!', 'KISANGA', 'cha', 'mapenzi', 'kugeuka', 'shubiri', 'kati', 'ya', 'Gavana', 'wa', 'Machakos', 'Alfred', 'Mutua', 'na', 'Bi', 'Lilian', 'Nganga', ',', 'kimechukua', 'mkondo', 'mpya', 'huku', 'Bi', 'Nganga', 'akimtaka', 'Dkt', 'Mutua', 'akome', 'kumng', '’', 'ang', '’', 'ania', 'na', 'aendelea', 'na', 'maisha', 'yake', '.', '“', 'Tulipokutana', 'Windsor', 'Golf', 'and', 'Country', 'Club', 'mnamo', 'Septemba', '22', ',', '2021', ',', 'tukiwa', 'pamoja', 'na', 'marafiki', 'zetu', 'wawili', 'na', 'baada', 'ya', 'visa', 'viwili', 'vya', 'uhalifu', ',', 'nilimsihi', 'tuachane', 'kiutu', 'uzima', ',', 'kwa', 'amani', 'na', 'nikamkumbusha', 'kwamba', 'hata', 'hatukuwa', 'tumeoana', '.', 'Bw', 'Mutua', 'kwa', 'hasira', 'alinitaja', 'kama', 'adui', 'wake', 'nambari', 'moja', 'na', 'kutishia', 'kuniponda', 'hadi', 'niwe', '‘', 'majivu', '’', '.', 'Aliapa', 'kunipokonya', 'kila', 'kitu', 'nilicho', 'nacho', 'na', 'ninachomiliki', '.', 'Tayari', 'hayo', 'yameanza', 'kujitokeza', 'kwa', 'kuwa', 'ameniagiza', 'kumrejeshea', 'pesa', 'zote', 'alizowahi', 'kunipa', 'au', 'nilizowahi', 'kutumia', ',', '”', 'Bi', 'Nganga', 'alisimulia', '.', 'Alieleza', 'kuwa', 'licha', 'ya', 'kukatiza', 'uhusiano', 'wa', 'kimapenzi', 'kati', 'yao', 'mapema', 'Juni', '2021', ',', 'mkuu', 'huyo', 'wa', 'Kaunti', 'ya', 'Machakos', 'amekuwa', 'akisema', 'magazetini', 'na', 'mitandaoni', 'kuwa', 'wangali', 'marafiki', 'na', 'waliachana', 'kwa', 'amani', ',', 'akirejelea', 'matamshi', 'ya', 'gavana', 'huyo', 'wiki', 'mbili', 'zilizopita', '.', 'Bi', 'Nganga', 'sasa', 'amemsihi', 'Inspekta', 'Mkuu', 'wa', 'Polisi', ',', 'Hillary', 'Mutyambai', ',', 'na', 'Mkurugenzi', 'wa', 'Mashtaka', 'ya', 'Umma', ',', 'Noordin', 'Haji', ',', 'kuingilia', 'kati', 'akisema', 'anahofia', 'usalama', 'wake', '.', '“', 'Namsihi', 'Inspekta', 'Mkuu', 'wa', 'Polisi', 'na', 'Mkurugenzi', 'wa', 'Mashtaka', 'ya', 'Umma', 'kuharakisha', 'uchunguzi', 'dhidi', 'ya', 'Mutua', 'na', 'kumshtaki', 'kwa', 'makosa', 'aliyotekeleza', 'kufikia', 'sasa', 'kabla', 'ya', 'kunidhuru', 'pamoja', 'na', 'marafiki', 'zangu', ',', '”', 'akasema', '.', 'Wahalifu', 'mtandaoni', 'kuchukuliwa', 'hatua', '–', 'Matiang', '’', 'i', 'WALE', 'watakaoeneza', 'habari', 'za', 'uongo', 'na', 'zinazochochea', 'chuki', 'mtandaoni', 'sasa', 'wataadhibiwa', 'vikali', '.', 'Hii', 'ni', 'baada', 'ya', 'serikali', 'kuzindua', 'Kamati', 'ya', 'Kitaifa', 'ya', 'Kupambana', 'na', 'uhalifu', 'mtandaoni.Waziri', 'wa', 'Masuala', 'ya', 'Ndani', ',', 'Fred', 'Matiang', '’', 'i', 'akishirikiana', 'na', 'Waziri', 'wa', 'masuala', 'ya', 'Habari', 'na', 'Mawasiliano', 'nchini', ',', 'Joe', 'Mucheru', 'na', 'Katibu', 'katika', 'Wizara', 'ya', 'Usalama', 'na', 'Masuala', 'ya', 'Ndani', ',', 'Karanja', 'Kibicho', ',', 'jana', 'Alhamisi', 'walifanya', 'uzinduzi', 'huo', 'katika', 'Taasisi', 'ya', 'Kuboresha', 'Mitaala', 'ya', 'Elimu', 'ya', 'KICD', 'jijini', 'Nairobi', 'ili', 'kupambana', 'na', 'uhalifu', 'mtandaoni', '.', '“', 'Kwa', 'miaka', 'mingi', ',', 'watu', 'wamekuwa', 'wakikandamizwa', 'mtandaoni', '.', 'Maneno', 'ya', 'uongo', 'na', 'ya', 'kuchochea', 'chuki', 'yanasambazwa', 'mtandaoni', '.', 'Wahalifu', 'wengi', 'hawajapata', 'kuchukuliwa', 'hatua', '.', 'Lakini', 'baada', 'ya', 'uzinduzi', 'huu', ',', 'tutawakamata', 'bila', 'huruma', ',', '”', 'akasema', 'Dkt', 'Matiang', '’', 'i', '.', 'Kadhalika', ',', 'alisema', 'uzinduzi', 'huo', 'pia', 'utawezesha', 'ulinzi', 'wa', 'taarifa', 'za', 'kibinafsi', 'za', 'kampuni', ',', 'kuwalinda', 'watoto', 'mtandaoni', 'na', 'nchi', 'kwa', 'jumla', '.', 'Kamati', 'hiyo', 'inajumuisha', 'wasimamizi', 'kutoka', 'wizara', 'ya', 'masuala', 'ya', 'ndani', ',', 'Mawasiliano', ',', 'wapelelezi', 'wa', 'makosa', 'ya', 'jinai', ',', 'vitengo', 'mbalimbali', 'vya', 'maafisa', 'wa', 'polisi', 'na', 'mahakama', 'kuu', '.', 'Aliitaka', 'kamati', 'hiyo', 'itoe', 'mafunzo', 'kwa', 'Tume', 'ya', 'Huduma', 'za', 'Mahakama', 'kuhusiana', 'na', 'masuala', 'ya', 'mtandao', 'na', 'jinsi', 'ya', 'kuwaadhibu', 'wahalifu', 'hao', '.', '“', 'Mahakama', 'ni', 'sehemu', 'muhimu', 'sana', 'katika', 'mpango', 'huu', 'wa', 'kupambana', 'na', 'wahalifu', 'mtandaoni', '.', 'Ikiwa', 'watapata', 'mafunzo', 'kuhusu', 'mtandao', ',', 'wataweza', 'kuwahukumu', 'wahalifu', 'bila', 'huruma', '.', 'Tumepokea', 'ujumbe', 'kuwa', 'kuna', 'mhalifu', 'ambaye', 'ameachiliwa', 'kwa', 'dhamana', 'mara', 'nane', ',', '”', 'akasema', 'Matiang', '’', 'i', '.', '‘', 'Mageuzi', '’', 'Kemsa', 'yapata', 'pingamizi', 'JUMLA', 'ya', 'wafanyakazi', '900', 'wa', 'Mamlaka', 'ya', 'Usambazaji', 'wa', 'Dawa', 'Nchini', '(', 'KEMSA', ')', 'wanakabiliwa', 'na', 'hatari', 'ya', 'kufutwa', 'kazi', 'katika', 'mageuzi', 'yanayolenga', 'kuimarisha', 'utendakazi', 'wake', 'baada', 'ya', 'kuzongwa', 'na', 'sakata', 'ya', 'ufisadi', 'ya', 'Sh7.8', 'bilioni', '.', 'Hata', 'hivyo', ',', 'seneta', 'wa', 'Narok', 'Ledama', 'Ole', 'Kina', 'alipinga', 'mpango', 'huo', 'akidai', 'ni', 'kinyume', 'cha', 'sheria', '.', 'Anataka', 'mpango', 'huo', 'usitishwe', 'mara', 'moja', 'la', 'sivyo', 'awasilishe', 'kesi', 'kortini', '.', 'Alhamisi', ',', 'bodi', 'ya', 'mamlaka', 'hiyo', 'iliamuru', 'wafanyakazi', 'wa', 'ngazi', 'ya', 'chini', 'kufanya', 'kazi', 'kutoka', 'nyumbani', 'kwa', 'mwezi', 'mmoja', 'ili', 'kutoa', 'nafasi', 'kwa', 'maafisa', 'wakuu', 'wa', 'muda', 'kuweka', 'misingi', 'ya', 'mageuzi', '.', 'Amri', 'hiyo', 'inaanza', 'kutekelezwa', 'leo', 'Ijumaa', '.', 'Kwenye', 'taarifa', 'kwa', 'vyombo', 'vya', 'habari', 'Mwenyekiti', 'wa', 'bodi', 'hiyo', 'Chao', 'Mwadime', 'alisema', 'mchango', 'wa', 'wafanyakazi', 'hao', 'kwa', 'Kemsa', 'utafuatiliwa', 'kwa', 'kipindi', 'cha', 'siku', '30', '.', '“', 'Wasimamizi', 'wa', 'muda', 'watafuatilia', 'utendakazi', 'wa', 'wafanyakazi', 'hao', 'kwa', 'kipindi', 'kilichowekwa', 'katika', 'notisi', 'hii', '.', 'Ushauri', 'nasaha', 'na', 'usaidizi', 'hitajika', 'wa', 'kisaikolojia', 'utatolewa', 'kwa', 'wafanyakazi', 'wote', ',', '”', 'Bi', 'Mwadime', 'akaongeza', '.', 'Mwenyekiti', 'huyo', 'alisema', 'kuwa', 'mageuzi', 'katika', 'Kemsa', 'yalipendekezwa', 'na', 'kamati', 'maalum', 'iliyoteuliwa', 'na', 'bodi', 'yake', 'kuchunguza', 'changamoto', 'zinazoikabili', 'na', 'hivyo', 'kuizuia', 'kutekeleza', 'majukumu', 'yake', '.', '“', 'Katika', 'ripoti', 'yake', 'iliyowasilishwa', 'kwa', 'bodi', 'ya', 'Kemsa', ',', 'kamati', 'hiyo', 'ilibaini', 'changamoto', 'kadha', 'zinazoizuia', 'kutimiza', 'mahitaji', 'ya', 'wateja', 'wake', '.', 'Mahitaji', 'hayo', 'ni', 'kama', 'vile', 'dawa', 'na', 'bidhaa', 'zingine', 'za', 'kimatibabu', 'kwa', 'serikali', 'za', 'kaunti', 'na', 'hospitali', 'za', 'rufaa', ',', '”', 'akasema', 'Bi', 'Mwadime', '.', 'Mwenyekiti', 'huyo', 'aliongeza', 'kuwa', 'hali', 'hiyo', 'imehatarisha', 'maisha', 'ya', 'Wakenya', 'na', 'kuhujumu', 'mpango', 'wa', 'Serikali', 'wa', 'Afya', 'kwa', 'Wote', 'ifikapo', 'mwaka', 'wa', '2022', '.', '“', 'Kwa', 'hivyo', 'mageuzi', 'haya', 'yataweka', 'msingi', 'wa', 'kufanikishwa', 'kwa', 'malengo', 'ya', 'Ajenda', 'Nne', 'Kuu', 'za', 'Maendeleo', 'ya', 'Serikali', ',', 'hususan', 'kufanikishwa', 'kwa', 'mipango', 'ya', 'Afya', 'kwa', 'Wote', ',', '”', 'Bi', 'Mwadime', 'akaongeza', '.', 'KEMSA', 'iligonga', 'vichwa', 'vya', 'habari', 'mwaka', 'jana', 'kufuatia', 'kufichuliwa', 'kwa', 'sakata', 'ya', 'ununuzi', 'bidhaa', 'za', 'kutumika', 'kama', 'vita', 'dhidi', 'ya', 'Covid-19', 'kinyume', 'cha', 'sheria', 'na', 'kwa', 'bei', 'ya', 'juu', 'kupita', 'kiasi', '.', 'Bidhaa', 'hizo', 'zilizojumuisha', 'barakoa', 'na', 'magwanda', 'ya', 'kutumiwa', 'na', 'wahudumu', 'wa', 'afya', 'kujikinga', 'dhidi', 'ya', 'maambukizi', '(', 'PPE', ')', 'zilikuwa', 'na', 'thamani', 'ya', 'Sh7.8', 'bilioni', '.', 'Bunge', 'na', 'asasi', 'zingine', 'zilizochunguza', 'sakata', 'hiyo', 'ziligundua', 'kuwa', 'zabuni', 'ya', 'ununuzi', 'wa', 'bidhaa', 'hizo', 'ilitolewa', 'bila', 'idhini', 'ya', 'afisi', 'husika', 'katika', 'Kemsa', 'na', 'Wizara', 'ya', 'Afya', '.', 'Baadhi', 'ya', 'kampuni', 'zilizopewa', 'zabuni', 'ya', 'thamani', 'ya', 'mabilioni', 'ya', 'fedha', 'hazikuwa', 'zimehitimu', 'wala', 'kutimiza', 'masharti', 'ya', 'sheria', 'kuhusu', 'ununuzi', 'wa', 'bidhaa', 'za', 'umma', '.', 'Kufuatia', 'sakata', 'hiyo', 'aliyekuwa', 'Afisa', 'Mkuu', 'Mtendaji', 'wa', 'Kemsa', 'Jonah', 'Manjari', 'alisimamishwa', 'kazi', ',', 'kwa', 'muda', ',', 'kwa', 'tuhuma', 'za', 'kukiuka', 'sheria', 'wakati', 'wa', 'utoaji', 'wa', 'zabuni', 'za', 'ununuzi', 'wa', 'bidhaa', 'hizo', 'za', 'kupambana', 'na', 'corona', '.', 'Wengine', 'waliosimamishwa', 'kazi', 'baada', 'ya', 'kunyoshewa', 'kidole', 'cha', 'lawama', 'katika', 'sakata', 'hiyo', 'ni', 'Mkurugenzi', 'wa', 'Idara', 'ya', 'Ununuzi', 'Charles', 'Juma', 'na', 'Mkurugenzi', 'wa', 'Huduma', 'za', 'Kibiashara', 'Eliud', 'Mureithi', '.', 'Maafisa', 'hao', 'walisimamishwa', 'kazi', 'bodi', 'ya', 'zamani', 'ya', 'Kemsa', 'iliyoongozwa', 'na', 'aliyekuwa', 'Naibu', 'Spika', 'wa', 'Seneti', 'Kembi', 'Gitura', '“', 'ili', 'kutoa', 'nafasi', 'kwa', 'uchunguzi', 'wa', 'kina', '”', '.', 'Lakini', 'hadi', 'wakati', 'huu', 'maafisa', 'hao', 'na', 'wakuu', 'wa', 'kampuni', 'zilizotajwa', 'katika', 'sakata', 'hiyo', 'hawajachukuliwa', 'hatua', 'zozote', '.', 'Alhamisi', ',', 'Bw', 'Ole', 'Kina', 'alidai', 'kuna', 'njama', 'ya', 'kuiweka', 'KEMSA', 'chini', 'ya', 'usimamizi', 'wa', 'jeshi', ',', 'hatua', 'ambayo', 'alisema', 'ni', 'kinyume', 'cha', 'sheria', '.', '“', 'Sio', 'haki', 'wafanyakazi', 'wa', 'ngazi', 'ya', 'chini', 'kufutwa', 'kazi', 'ili', 'Kemsa', 'iwekwe', 'chini', 'ya', 'KDF', 'ilhali', 'maafisa', 'wa', 'waliohusika', 'na', 'sakata', 'ya', 'mabilioni', 'ya', 'fedha', 'wangali', 'wanapokea', 'nusu', 'ya', 'mishahara', 'yao', ',', '”', 'akawaambia', 'wanahabari', 'katika', 'majengo', 'ya', 'bunge', '.', '“', 'Nitatetea', 'wafanyakazi', 'hawa', 'kortini', 'ikiwa', 'bunge', 'halitazima', 'hatua', 'hii', 'inakiuka', 'sheria', 'na', 'haki', 'za', 'kimsingi', 'za', 'wafanyakazi', 'hawa', ',', '”', 'akaongeza', '.']\n",
      "\n",
      " Number of Words:  1106\n"
     ]
    }
   ],
   "source": [
    "file=\"21nov5.txt\"\n",
    "\n",
    "# calling the function and storing the contents in a text variable \n",
    "text1 = get_document(\"https://taifaleo.nation.co.ke/naomba-unikome/\")\n",
    "text2 = get_document(\"https://taifaleo.nation.co.ke/wahalifu-mtandaoni-kuchukuliwa-hatua/\")\n",
    "text3 = get_document(\"https://taifaleo.nation.co.ke/mageuzi-kemsa-yapata-pingamizi/\")\n",
    "\n",
    "# calling the store_ document function \n",
    "store_document(doc=text1,name=file)\n",
    "store_document(doc=text2,name=file)\n",
    "store_document(doc=text3,name=file)\n",
    "\n",
    "#add the words in this file to the total_corpus_words, to keep count of the number of words in the corpus\n",
    "total_corpus_words+=total_words(file)"
   ]
  },
  {
   "cell_type": "code",
   "execution_count": 27,
   "metadata": {},
   "outputs": [
    {
     "data": {
      "text/plain": [
       "782269"
      ]
     },
     "execution_count": 27,
     "metadata": {},
     "output_type": "execute_result"
    }
   ],
   "source": [
    "total_corpus_words"
   ]
  },
  {
   "cell_type": "code",
   "execution_count": 30,
   "metadata": {},
   "outputs": [
    {
     "name": "stdout",
     "output_type": "stream",
     "text": [
      "['Kamishna', 'aamuru', 'ukaguzi', 'kuzuia', 'bidhaa', 'za', 'magendo', 'kutoka', 'Tanzania', 'KAMISHNA', 'Mshirikishi', 'wa', 'eneo', 'la', 'Pwani', ',', 'Bw', 'John', 'Elungata', ',', 'ameamuru', 'vikosi', 'vyote', 'vya', 'usalama', 'eneo', 'hilo', 'kuanzisha', 'operesheni', 'dhidi', 'ya', 'ulanguzi', 'wa', 'bidhaa', 'za', 'magendo', 'kutoka', 'Tanzania', '.', 'Alishauri', 'maafisa', 'wa', 'usalama', 'na', 'Mamlaka', 'ya', 'Ukusanyaji', 'Ushuru', 'Nchini', '(', 'KRA', ')', ',', 'katika', 'mpaka', 'wa', 'Kenya', 'na', 'Tanzania', 'katika', 'Kaunti', 'ya', 'Kwale', ',', 'kukagua', 'bidhaa', 'kwa', 'makini', '.', 'Bw', 'Elungata', 'aliwataka', 'maafisa', 'wa', 'idara', 'ya', 'forodha', 'katika', 'maeneo', 'ya', 'mpakani', 'ya', 'Vanga', 'na', 'Shimoni', 'kuzuia', 'wafanyabiashara', 'walaghai', 'kuingiza', 'bidhaa', 'nchini', 'bila', 'kulipia', 'ushuru', '.', '“', 'Ukaguzi', 'wa', 'kina', 'wa', 'bidhaa', 'zinazoingizwa', 'nchini', 'kupitia', 'eneo', 'la', 'mpakani', 'kutaimarisha', 'ukusanyaji', 'wa', 'mapato', 'kwa', 'manufaa', 'ya', 'uchumi', 'wa', 'nchi', ',', '”', 'Bw', 'Elungata', 'akasema', 'baada', 'ya', 'kutembelea', 'kituo', 'cha', 'mpakani', 'cha', 'Lunga', 'Lunga', '.', 'Afisa', 'huyo', 'pia', 'aliongoza', 'mkutano', 'wa', 'usalama', 'katika', 'kituo', 'hicho', 'ambapo', 'suala', 'la', 'bidhaa', 'za', 'magendo', 'lilijadiliwa', 'kwa', 'kina', '.', '“', 'Tunahitaji', 'kuweka', 'mikakati', 'thabiti', 'ya', 'kudhibiti', 'uovu', 'huu', 'wa', 'uingizwaji', 'wa', 'bidhaa', 'nchini', 'na', 'walaghai', 'ambao', 'hukwepa', 'kulipa', 'ushuru', ',', '”', 'Bw', 'Elungata', 'akasema', '.', 'Mbunge', 'Lempurkel', 'jela', 'mwaka', 'mmoja', 'kavu', 'MUSTAKABALI', 'wa', 'kisiasa', 'wa', 'aliyekuwa', 'Mbunge', 'wa', 'Laikipia', 'Kaskazini', 'Mathew', 'Lempurkel', 'haujulikani', 'baada', 'ya', 'kusukumwa', 'jela', 'mwaka', 'mmoja', 'bila', 'faini', 'kwa', 'kumchapa', 'na', 'kumjeruhi', 'mbunge', 'Sarah', 'Korere', ',', 'miaka', 'mitano', 'iliyopita', '.', 'Hakimu', 'alisema', 'ingawa', 'mshtakiwa', 'ni', 'mkosaji', 'wa', 'mara', 'ya', 'kwanza', ',', 'yeye', 'ni', 'kiongozi', 'na', 'mbunge', 'wa', 'zamani', 'anayeelewa', 'dhuluma', 'dhidi', 'ya', 'wanawake', 'na', 'watoto', 'haziruhusiwi', 'kamwe', '.', '“', 'Kwa', 'vile', 'unajua', 'ukweli', 'dhuluma', 'dhidi', 'ya', 'wanawake', 'na', 'watoto', 'haziruhusiwi', 'kisheria', ',', 'hii', 'mahakama', 'imekupata', 'na', 'hatia', 'jinsi', 'ulivyoshtakiwa', ',', '”', 'alisema', 'Bi', 'Onkwani', '.', 'Akaendelea', ',', '“', 'Utatumikia', 'kifungo', 'cha', 'mwaka', 'mmoja', 'bila', 'faini.', '”', 'Upande', 'wa', 'mashtaka', 'uliwaita', 'mashahidi', '10', 'ikiwa', 'ni', 'pamoja', 'na', 'daktari', 'wa', 'idara', 'ya', 'polisi', 'aliyethibitisha', 'Bi', 'Korere', 'alijeruhiwa', '.', 'Mnamo', 'Septemba', '8', ',', 'mbunge', 'huyo', 'alikamatwa', 'kutokana', 'na', 'kile', 'mshirikishi', 'wa', 'shughuli', 'za', 'serikali', 'ya', 'kitaifa', 'katika', 'eneo', 'la', 'Rift', 'Valley', 'George', 'Natembeya', 'alisema', 'ni', 'mchango', 'wa', 'mbunge', 'huyo', 'katika', 'kuendeleza', 'visa', 'vya', 'ujangili', 'katika', 'Kaunti', 'ya', 'Laikipia', '.', 'Washukiwa', 'saba', 'wa', 'wizi', 'wa', 'simu', 'za', 'rununu', 'wanaswa', 'Thika', 'POLISI', 'mjini', 'Thika', 'mnamo', 'Ijumaa', 'waliwanasa', 'watu', 'saba', 'ambao', 'inadaiwa', 'wamekuwa', 'wakiiba', 'simu', 'za', 'wakazi', '.', 'Kamanda', 'mkuu', 'wa', 'polisi', 'katika', 'Kaunti', 'ya', 'Kiambu', 'Bw', 'Ali', 'Nuno', ',', 'alieleza', 'kuwa', 'kwa', 'muda', 'wa', 'miezi', 'miwili', 'mfululizo', 'washukiwa', 'hao', 'wamewahangaisha', 'wakazi', 'wa', 'Thika', 'kwa', 'kuwaibia', 'simu', 'zao', '.', 'Alisema', 'washukiwa', 'hao', 'walifikishwa', 'mahakamani', 'lakini', 'mmoja', 'wao', 'pekee', 'ndiye', 'aliachiliwa', 'kwa', 'dhamana', 'ya', 'laki', 'mbili', '.', 'Akizungumza', 'na', 'wanahabari', 'katika', 'kitua', 'cha', 'polisi', 'cha', 'Thika', ',', 'kamanda', 'huyo', 'wa', 'polisi', 'alisema', 'wamiliki', 'watatu', 'wa', 'simu', 'hizo', 'zilizoibwa', 'walifika', 'katika', 'kituo', 'cha', 'polisi', 'cha', 'Thika', 'na', 'kutambua', 'simu', 'zao', 'zilizoibwa', 'hivi', 'majuzi', '.', 'Aliwataja', 'washukiwa', 'hao', 'kama', 'hatari', 'kwa', 'usalama', 'kwa', 'sababu', 'walikuwa', 'wakitumia', 'gari', 'na', 'pikipiki', 'wanapotekeleza', 'uhalifu', 'huo', '.', 'Alisema', 'uchunguzi', 'wao', 'unaonyesha', 'wanatekeleza', 'wizi', 'huo', 'asubuhi', 'wananchi', 'wakielekea', 'kazini', 'na', 'jioni', 'wanapotoka', 'katika', 'sehemu', 'zao', 'za', 'kazi', '.', '“', 'Washukiwa', 'hao', 'baada', 'ya', 'kuiba', 'simu', 'wakiwa', 'kwenye', 'pikipiki', ',', 'hurusha', 'ndani', 'ya', 'gari', 'simu', 'hizo', 'halafu', 'linatoka', 'kwa', 'kasi', 'huku', 'nao', 'wakilifuata', 'kwa', 'nyuma', ',', '”', 'alifafanua', 'kamanda', 'huyo', 'wa', 'polisi', '.']\n",
      "\n",
      " Number of Words:  524\n"
     ]
    }
   ],
   "source": [
    "file=\"21nov6.txt\"\n",
    "\n",
    "# calling the function and storing the contents in a text variable \n",
    "text1 = get_document(\"https://taifaleo.nation.co.ke/kamishna-aamuru-ukaguzi-kuzuia-bidhaa-za-magendo-kutoka-tanzania/\")\n",
    "text2 = get_document(\"https://taifaleo.nation.co.ke/lempurkel-jela-mwaka-mmoja-kavu/\")\n",
    "text4 = get_document(\"https://taifaleo.nation.co.ke/wezi-saba-wa-simu-za-rununu-wanaswa-thika/\")\n",
    "\n",
    "# calling the store_ document function \n",
    "store_document(doc=text1,name=file)\n",
    "store_document(doc=text2,name=file)\n",
    "store_document(doc=text4,name=file)\n",
    "\n",
    "#add the words in this file to the total_corpus_words, to keep count of the number of words in the corpus\n",
    "total_corpus_words+=total_words(file)"
   ]
  },
  {
   "cell_type": "code",
   "execution_count": 31,
   "metadata": {},
   "outputs": [
    {
     "data": {
      "text/plain": [
       "782793"
      ]
     },
     "execution_count": 31,
     "metadata": {},
     "output_type": "execute_result"
    }
   ],
   "source": [
    "total_corpus_words"
   ]
  },
  {
   "cell_type": "code",
   "execution_count": 35,
   "metadata": {},
   "outputs": [
    {
     "name": "stdout",
     "output_type": "stream",
     "text": [
      "['“', 'Kwa', 'wakati', 'huu', 'mimi', 'ndiye', 'katibu', 'mkuu', 'wa', 'Knut', 'na', 'nimepewa', 'nguvu', 'na', 'walimu', 'kujadili', 'na', 'kuzungumza', 'kwa', 'niaba', 'yao', ',', 'hivyo', 'mtu', 'mwingine', 'yeyote', 'anayedai', 'kuzungumza', 'kwa', 'niaba', 'ya', 'walimu', 'anafaa', 'kufahamu', 'kuwa', 'hatafaulu', ',', '”', 'alisema', 'Bw', 'Oyuu', '.', 'Serikali', 'imeshindwa', 'kukabili', 'ukame', '–', 'Ripoti', 'SERIKALI', 'imefeli', 'kudhibiti', 'majanga', 'kama', 'vile', 'ukame', 'licha', 'ya', 'kuelekeza', 'mabilioni', 'ya', 'fedha', 'katika', 'mipango', 'ya', 'kupambana', 'na', 'makali', 'yake', ',', 'ripoti', 'mpya', 'imeonyesha', '.', 'Ripoti', 'hiyo', 'iliyoandaliwa', 'na', 'Mkaguzi', 'Mkuu', 'wa', 'Hesabu', 'za', 'Serikali', 'Nancy', 'Gathungu', 'ilisema', 'licha', 'ya', 'Sh25', 'bilioni', 'kutumika', 'katika', 'mipango', 'ya', 'kupambana', 'na', 'ukame', 'tangu', '2015', ',', 'janga', 'hilo', 'bado', 'linasababisha', 'vifo', 'na', 'uharibifu', 'wa', 'mali', '.', 'Ukame', 'ambao', 'sasa', 'unashuhudiwa', 'katika', 'maeneo', 'ya', 'kaskazini', 'mwa', 'Kenya', 'umesalia', 'kuwa', 'chanzo', 'cha', 'changamoto', 'zinazowasibu', 'wakazi', 'katika', 'maeneo', 'hayo', '.', 'Kufikia', 'sasa', ',', 'jumla', 'ya', 'kaunti', '23', 'nchini', 'zinaathiriwa', 'na', 'makali', 'ya', 'ukame', 'na', 'ambako', 'wakazi', 'wanahitaji', 'msaada', 'wa', 'chakula', 'na', 'lishe', 'kwa', 'mifugo', '.', 'Nazo', 'nyingine', 'ni', ';', 'Garissa', ',', 'Isiolo', ',', 'Kitui', ',', 'Mandera', ',', 'Marsabit', ',', 'Samburu', ',', 'Turkana', ',', 'Tana', 'River', 'na', 'Wajir', 'huku', 'kaunti', 'za', 'Narok', ',', 'Embu', 'na', 'Nyeri', 'zikikabiliwa', 'na', 'hatari', 'ndogo', 'ya', 'kuathirika', 'na', 'ukame', '.', 'Katika', 'ripoti', 'hiyo', 'kuhusu', 'juhudi', 'za', 'kudhibiti', 'ukame', 'nchini', 'kati', 'ya', '2015', 'na', '2020', ',', 'Bi', 'Gathungu', 'anasema', 'hakujakuwa', 'na', 'ushirikishi', 'mwafaka', 'kati', 'ya', 'Serikali', 'Kuu', 'na', 'serikali', 'za', 'kaunti', 'katika', 'mchakato', 'huo', '.', ']', '“', 'Vile', 'vile', ',', 'hakujakuwa', 'na', 'ushirikiano', 'mzuri', 'kati', 'ya', 'ngazi', 'hizi', 'za', 'serikali', 'na', 'mashirika', 'yasiyokuwa', 'ya', 'serikali', 'katika', 'vita', 'dhidi', 'ya', 'makali', 'ya', 'ukame', ',', '”', 'anaeleza', 'katika', 'ripoti', 'hiyo', '.', '“', 'Kwa', 'hivyo', ',', 'kushindwa', 'kwa', 'serikali', 'katika', 'kushughulikia', 'mapungufu', 'haya', 'kumefanya', 'hali', 'kuwa', 'mbaya', 'zaidi', ',', '”', 'Bi', 'Gathungu', 'anaongeza', '.', 'Serikali', ',', 'kulingana', 'na', 'ripoti', 'hiyo', ',', 'kwa', 'miaka', 'mingi', 'imefeli', 'kutunga', 'sheria', 'na', 'sera', 'za', 'kuimarisha', 'mpango', 'wa', 'kukabiliana', 'na', 'ukame', '.', '“', 'Vile', 'vile', ',', 'serikali', 'imefeli', 'kushirikisha', 'jamii', 'athirika', 'katika', 'jitihada', 'za', 'kusaka', 'suluhu', 'la', 'kudumu', 'kwa', 'changamoto', 'hili', 'na', 'kufanya', 'hali', 'kuwa', 'mbaya', 'zaidi', ',', '”', 'ripoti', 'hiyo', 'inaongeza', '.', 'Hii', 'ndio', 'maana', 'jamii', 'katika', 'maeneo', 'yaliyoathirika', 'zaidi', 'hayajapata', 'afueni', 'licha', 'miradi', 'mingine', 'iliyoanzishwa', 'kudhibiti', 'hali', 'hiyo', '.', '“', 'Inasikitisha', 'kuwa', 'baadhi', 'ya', 'miradi', 'hiyo', 'kama', 'vile', 'ujenzi', 'wa', 'mabwawa', 'na', 'visima', ',', 'haijakamilika', 'au', 'imefeli', 'kuanzishwa', 'kutokana', 'na', 'ufisadi', 'na', 'utepetevu', 'miongoni', 'mwa', 'maafisa', 'wa', 'serikali', '.', 'Baadhi', 'ya', 'miradi', 'ilisambaratika', 'kutokana', 'wizi', 'wa', 'fedha', 'zilizotengwa', 'kuifanikisha', ',', '”', 'ripoti', 'hiyo', 'inaongeza', '.', 'Uchunguzi', 'huo', 'uliendeshwa', 'kufuatia', 'malalamishi', 'kutoka', 'kwa', 'umma', 'kuhusu', 'jinsi', 'serikali', 'inavyoshughulikia', 'janga', 'la', 'ukame', '.', 'Malalamishi', 'hayo', 'yaliwasilishwa', 'kupitia', 'bungeni', 'na', 'ripoti', 'mbalimbali', 'katika', 'vyombo', 'vya', 'habari', '.', 'Jaji', 'huyo', 'alisema', 'mswada', 'wa', 'kumtimua', 'Bw', 'Nkaduda', 'haukutimiza', 'lengo', 'la', 'kumuondoa', 'ofisini', 'kulingana', 'na', 'sheria', 'ya', 'serikali', 'za', 'kaunti', 'kwa', 'kuwa', 'haikuwa', 'umeungwa', 'na', 'thuluthi', 'moja', 'ya', 'madiwani', 'wa', 'bunge', 'hilo', 'la', 'kaunti', '.', '“', 'Hii', 'ilikuwa', 'ni', 'ukiukaji', 'mkubwa', 'wa', 'haki', 'ya', 'mlalamishi', 'ya', 'kujitetea', '.', 'Hakuna', 'aliyepinga', 'kuwa', 'mlalamishi', 'alikuwa', 'mgonjwa', 'ilivyodhihirishwa', 'kwa', 'kamati', 'ya', 'mawakili', 'wake', ',', '”', 'alisema', 'Jaji', 'Ongaya', '.', 'Jaji', 'Ongaya', 'pia', 'alisema', 'kutimuliwa', 'kwa', 'spika', 'huyo', 'kulifanywa', 'kwa', 'kupuuza', 'haki', 'yake', 'ya', 'kujitetea', 'kwa', 'hivyo', 'mchakato', 'wote', 'ulikuwa', 'na', 'dosari', '.', 'Bw', 'Nkaduda', 'alikuwa', 'amelalamika', 'kuwa', 'mchakato', 'haukusimamiwa', 'na', 'diwani', 'aliyechaguliwa', 'kwa', 'mujibu', 'wa', 'sehemu', '9', '(', '4', ')', 'ya', 'Sheria', 'ya', 'Serikali', 'za', 'Kaunti', 'na', 'hatua', 'ya', 'kamati', 'ya', 'kuwasilisha', 'ripoti', 'kwa', 'bunge', 'la', 'kaunti', 'ilikuwa', 'kudharau', 'mahakama', 'na', 'ilikiuka', 'sheria', '.', 'Spika', 'huyo', 'alishtaki', 'bunge', 'la', 'Kaunti', ',', 'karani', 'wa', 'bunge', 'hilo', 'na', 'madiwani', 'watatu', 'pia', 'wa', 'bunge', 'hilo', '.', 'Alisema', 'bunge', 'la', 'Kaunti', ',', 'likifahamu', 'kuwa', 'mapendekezo', 'yake', 'yakitekelezwa', 'yangefanya', 'aondolewe', 'kutoka', 'ofisi', 'ya', 'umma', ',', 'halikumpa', 'ilani', 'kumweleza', 'aina', 'na', 'sababu', 'za', 'kuchukuliwa', 'hatua', 'ya', 'nidhamu', 'dhidi', 'yake', '.', 'Bw', 'Nkaduda', 'alisema', 'kwamba', 'kamati', 'ya', 'bunge', 'la', 'kaunti', 'ilikuwa', 'njama', 'iliyopangwa', 'kumtimua', 'kutoka', 'ofisini', 'bila', 'kufuatia', 'mchakato', 'unaostahili', 'kisheria', '.', 'Kwa', 'upande', 'wake', ',', 'bunge', 'la', 'kaunti', 'lilisema', 'kwamba', 'lilimsikiliza', 'aliyewasilisha', 'mswada', 'wa', 'kumtimua', 'na', 'baada', 'ya', 'kufanya', 'uchunguzi', 'likampata', 'spika', 'na', 'hatia', 'ya', 'kukosa', 'nidhamu', 'ilivyoelezwa', '.', 'Bunge', 'hilo', 'la', 'kaunti', 'lilisema', 'kwamba', 'lilijadili', 'mswada', 'wa', 'kumuondoa', 'ofisini', 'kwa', 'kuzingatia', 'ripoti', 'ya', 'kamati', '.', 'Wachungaji', 'wapendekeza', 'adhabu', 'ya', 'kiboko', 'irejeshwe', 'shuleni', 'WACHUNGAJI', 'wa', 'kidini', 'wa', 'Evangelical', 'and', 'Indigenous', 'Christian', 'Churches', 'of', 'Kenya', '(', 'FEICCK', ')', 'kutoka', 'Kiambu', 'na', 'Nairobi', ',', 'wametoa', 'wito', 'serikali', 'ichukue', 'hatua', 'kali', 'kwa', 'wanafunzi', 'wanaochoma', 'mabweni', 'shuleni', '.', 'Wakiongozwa', 'na', 'Askofu', 'Mkuu', 'wa', 'Glory', 'Outreach', 'Assembly', '(', 'GOA', ')', 'wa', 'Kahawa', 'Wendani', ',', 'Bw', 'David', 'Munyiri', ',', 'wachungaji', 'hao', 'walipendekeza', 'kuwa', 'serikali', 'iruhusu', 'adhabu', 'ya', 'kiboko', 'shuleni', 'ili', 'wanafunzi', 'waweze', 'kupata', 'funzo', 'kutoka', 'kwa', 'kichapo', '.', '“', 'Tunajua', 'wengi', 'hawatapenda', 'msimamo', 'huo', 'lakini', 'ni', 'sharti', 'amri', 'ya', 'kudumu', 'itekelezwe', 'kwa', 'wanafunzi', 'hao', ',', '”', 'alisema', 'Bw', 'Munyiri', '.', 'Aliwashauri', 'wazazi', 'wawe', 'mstari', 'wa', 'mbele', 'kuwashauri', 'wana', 'wao', 'kabla', 'ya', 'kupeleka', 'matakwa', 'ya', 'nidhamu', 'kushughulikiwa', 'na', 'mwalimu', '.', 'Alieleza', 'kuwa', 'malimbikizo', 'ya', 'ratiba', 'ya', 'masomo', ',', 'maswala', 'ya', 'ugonjwa', 'wa', 'Covid-', '19', ',', 'na', 'kukaribia', 'kwa', 'mtihani', ',', 'ni', 'baadhi', 'ya', 'mambo', 'yanayowatia', 'wanafunzi', 'kiwewe', ',', 'akisema', 'serikali', 'iingilie', 'kati', 'kwa', 'haraka', '.', 'Alieleza', 'kuwa', 'kama', 'wachungaji', ',', 'wanajiandaa', 'kuzuru', 'shule', 'kadha', 'kwa', 'lengo', 'la', 'kuwahamasisha', 'kuhusu', 'kudumisha', 'nidhamu', 'na', 'kujali', 'maisha', 'yao', 'ya', 'baadaye', '.']\n",
      "\n",
      " Number of Words:  854\n"
     ]
    }
   ],
   "source": [
    "file=\"21nov7.txt\"\n",
    "\n",
    "# calling the function and storing the contents in a text variable \n",
    "text1 = get_document(\"https://taifaleo.nation.co.ke/kinara-wa-knut-amrukia-sossion-kuhusu-zogo/\")\n",
    "text2 = get_document(\"https://taifaleo.nation.co.ke/serikali-imeshindwa-kukabili-ukame/\")\n",
    "text3 = get_document(\"https://taifaleo.nation.co.ke/mahakama-yaokoa-spika/\")\n",
    "text5 = get_document(\"https://taifaleo.nation.co.ke/wachungaji-wapendekeza-adhabu-ya-kiboko-irejeshwe-shuleni/\")\n",
    "\n",
    "# calling the store_ document function \n",
    "store_document(doc=text1,name=file)\n",
    "store_document(doc=text2,name=file)\n",
    "store_document(doc=text3,name=file)\n",
    "store_document(doc=text5,name=file)\n",
    "\n",
    "#add the words in this file to the total_corpus_words, to keep count of the number of words in the corpus\n",
    "total_corpus_words+=total_words(file)"
   ]
  },
  {
   "cell_type": "code",
   "execution_count": 36,
   "metadata": {},
   "outputs": [
    {
     "data": {
      "text/plain": [
       "783647"
      ]
     },
     "execution_count": 36,
     "metadata": {},
     "output_type": "execute_result"
    }
   ],
   "source": [
    "total_corpus_words"
   ]
  },
  {
   "cell_type": "code",
   "execution_count": 37,
   "metadata": {},
   "outputs": [
    {
     "name": "stdout",
     "output_type": "stream",
     "text": [
      "['Nani', 'anameza', 'wanaume', 'Pwani', '?', 'WAKAZI', 'wa', 'Pwani', 'wanaishi', 'kwa', 'hofu', 'na', 'wasiwasi', 'mkubwa', 'kufuatia', 'ongezeko', 'la', 'visa', 'vya', 'wanaume', 'kutoweka', 'kiholela', '.', 'Visa', 'hivyo', 'vilianza', 'kuongezeka', 'Kenya', 'ilipoimarisha', 'kampeni', 'dhidi', 'ya', 'ugaidi', 'takribani', 'miaka', '10', 'iliyopita', '.', 'Kulingana', 'na', 'familia', 'za', 'waathiriwa', ',', 'juhudi', 'za', 'kutafuta', 'usaidizi', 'wa', 'polisi', 'hazijafanikiwa', ',', 'hali', 'inayozua', 'shauku', 'kuwa', ',', 'huenda', 'maafisa', 'wa', 'usalama', 'wanahusika', '.', 'Ripoti', 'moja', 'ya', 'serikali', 'ya', 'Amerika', 'ilitaja', 'kutoweka', 'kwa', 'watu', 'miongoni', 'mwa', 'matukio', 'ya', 'kutisha', 'yanayokiuka', 'haki', 'za', 'binadamu', 'Kenya', '.', 'Kufikia', 'Novemba', '2020', ',', 'mashirika', 'yasiyo', 'ya', 'kiserikali', 'ambayo', 'hufuatilia', 'visa', 'hivyo', 'yalipokea', 'ripoti', '127', 'kuhusu', 'watu', 'waliotoweka', 'kwa', 'njia', 'ya', 'kutatanisha', '.', 'Mwaka', 'huu', ',', 'Shirika', 'la', 'Haki', 'Africa', 'lilisema', ',', 'jumla', 'ya', 'watu', '26', 'walitoweka', 'nchini', 'kati', 'ya', 'Januari', 'na', 'Agosti', 'mwaka', 'huu', ',', 'ambapo', '21', 'ni', 'kutoka', 'kaunti', 'za', 'Pwani', 'ilhali', 'watano', 'ni', 'kutoka', 'Nairobi', '.', 'Katika', 'ripoti', 'ambayo', 'shirika', 'hilo', 'lilizindua', 'Agosti', 'wakati', 'wa', 'maadhimisho', 'ya', 'siku', 'ya', 'waliotoweka', 'ulimwenguni', ',', 'ilibainika', 'Kaunti', 'za', 'Kwale', ',', 'Mombasa', 'na', 'Lamu', 'ziliongoza', 'kwa', 'idadi', 'ya', 'waliotoweka', 'wasijulikane', 'walipo', '.', 'Asasi', 'za', 'usalama', 'lazima', 'zitambue', 'kuwa', 'heshima', 'kwa', 'haki', 'za', 'binadamu', 'ni', 'msingi', 'muhimu', 'wa', 'kudumisha', 'usalama', ',', '”', 'Mkurugenzi', 'Mkuu', 'wa', 'Haki', 'Afrika', ',', 'Hussein', 'Khalid', 'alisema', 'wiki', 'jana', '.', 'Matamshi', 'yake', 'yalifuatia', 'kisa', 'ambapo', 'Prof', 'Hassan', 'Nandwa', 'alitoweka', 'baada', 'ya', 'mhukumiwa', 'wa', 'ugaidi', ',', 'Elgiva', 'Bwire', 'kutekwa', 'nyara', 'alipokamilisha', 'kifungo', 'chake', 'cha', 'miaka', '10', 'gerezani', '.', 'Prof', 'Nandwa', 'alikuwa', 'wakili', 'wa', 'Bwire', '.', 'Wengine', 'walio', 'katika', 'orodha', 'iliyotolewa', 'ya', 'washukiwa', 'wa', 'ugaidi', 'wanaosakwa', 'ni', 'Barigi', 'Abdikadir', 'Haila', 'kutoka', 'Moyale', ',', 'Mohammad', 'Abubakar', 'kutoka', 'Mombasa', ',', 'Trevor', 'Ndwiga', 'kutoka', 'Nairobi', 'na', 'Salim', 'Rashid', 'Mohamed', 'kutoka', 'Mombasa', '.', 'Mojawapo', 'ya', 'visa', 'vya', 'watu', 'kutoweka', 'ambavyo', 'viligonga', 'vichwa', 'vya', 'habari', 'Pwani', 'mwaka', 'huu', 'ni', 'kile', 'cha', 'Abdulhakim', 'Salim', 'Sagar', ',', 'ambaye', 'ilisemekana', 'alitoweka', 'baada', 'ya', 'kukamatwa', 'na', 'polisi', 'kuhusu', 'ugaidi', '.', 'Bw', 'Sagar', ',', 'ambaye', 'alipatikana', 'baada', 'ya', 'takribani', 'mwezi', 'mmoja', 'kufuatia', 'lalama', 'za', 'viongozi', 'wa', 'Kiislamu', ',', 'familia', 'yake', 'na', 'mashirika', 'ya', 'kijamii', ',', 'alikuwa', 'na', 'kesi', 'kuhusu', 'madai', 'ya', 'ugaidi', 'na', 'alikuwa', 'akiripoti', 'kwa', 'mpelelezi', 'mara', 'moja', 'kwa', 'mwezi', '.', 'Sawa', 'na', 'visa', 'vingine', 'vya', 'awali', ',', 'familia', 'yake', 'ilidai', 'watu', 'waliomchukua', 'walijitambulisha', 'kuwa', 'ni', 'polisi', '.', 'Hata', 'hivyo', ',', 'kama', 'sasa', 'ilivyo', 'desturi', ',', 'polisi', 'walikana', 'kuhusika', '.', '“', 'Polisi', 'hawateki', 'watu', 'nyara', '.', 'Wanachoweza', 'kufanya', 'ni', 'kukamata', 'watuhumiwa', 'kufuatia', 'ripoti', 'zilizotolewa', 'kwa', 'kituo', 'cha', 'polisi', ',', '”', 'Kamanda', 'wa', 'Polisi', 'wa', 'Kanda', 'ya', 'Pwani', ',', 'Bw', 'Manase', 'Mwania', 'Musyoka', 'alimwambia', 'Jaji', 'wa', 'Mahakama', 'Kuu', 'ya', 'Mombasa', ',', 'Anne', 'Ong', '’', 'injo', 'akijibu', 'kesi', 'iliyowasilishwa', 'na', 'familia', 'ya', 'Bw', 'Sagar', ',', 'ambapo', 'walitaka', 'polisi', 'walazimishwe', 'kumsalimisha', 'kwao', '.', 'Naye', 'Mursal', 'Mohammed', 'Macharia', ',', '25', ',', 'alitoweka', 'Septemba', '28', 'mwaka', 'huu', 'katika', 'eneo', 'la', 'Kiunga', ',', 'Kaunti', 'ya', 'Lamu', 'ambako', 'familia', 'yake', 'inasema', 'alikuwa', 'mhudumu', 'wa', 'bodaboda', '.', 'Kulingana', 'na', 'shangazi', 'yake', ',', 'Bi', 'Faiza', 'Famou', ',', 'kijana', 'huyo', 'alipigiwa', 'simu', 'na', 'rafiki', 'yake', 'ambaye', 'ni', 'afisa', 'wa', 'polisi', 'ili', 'wakakutane', 'katika', 'mkahawa', 'ulio', 'katika', 'kituo', 'cha', 'polisi', '.', '“', 'Mtu', 'huyo', 'ambaye', 'alituambia', 'ni', 'rafiki', 'yake', 'alimpigia', 'simu', 'tena', 'mara', 'ya', 'pili', '.', 'Mursal', 'hakumaliza', 'chakula', 'alichokuwa', 'akila', ',', 'akaenda', 'kukutana', 'na', 'huyo', 'rafiki', 'yake', '.', 'Hiyo', 'ilikuwa', 'mara', 'yetu', 'ya', 'mwisho', 'kumwona', 'na', 'hadi', 'leo', ',', 'hatujasikia', 'chochote', 'kutoka', 'kwake', '.', 'Simu', 'yake', 'ilizimwa', ',', '”', 'akaeleza', ',', 'katika', 'mahojiano', 'ya', 'awali', '.', 'Polisi', 'katika', 'kaunti', 'hiyo', 'walikanusha', 'kufahamu', 'aliko', 'mwanamume', 'huyo', '.', 'Familia', 'mbalimbali', 'na', 'mashirika', 'ya', 'kutetea', 'haki', 'za', 'binadamu', 'yamehusisha', 'visa', 'vingi', 'katika', 'maeneo', 'ya', 'Pwani', 'na', 'vita', 'dhidi', 'ya', 'ugaidi', ',', 'ila', 'katika', 'maeneo', 'mengine', 'kama', 'vile', 'eneo', 'la', 'kati', 'na', 'Nairobi', ',', 'visa', 'aina', 'hiyo', 'hushukiwa', 'kuhusiana', 'na', 'aina', 'nyingine', 'za', 'uhalifu', 'pamoja', 'na', 'migogoro', 'ya', 'kibiashara', 'au', 'kifamilia', '.', 'Familia', 'ya', 'mwanafunzi', 'wa', 'chuo', 'kikuu', 'mwenye', 'umri', 'wa', 'miaka', '22', 'ambaye', 'anasakwa', 'kwa', 'kuhusishwa', 'na', 'magaidi', 'wa', 'Al-Shabaab', 'inataka', 'majibu', 'kutoka', 'kwa', 'serikali', 'kuhusu', 'aliko', '.', 'Bi', 'Zahara', 'Mohamed', 'alikanusha', 'madai', 'kwamba', 'mwanawe', ',', 'Bw', 'Muhamad', 'Abubakar', 'Said', 'ni', 'gaidi', 'au', 'ana', 'uhusiano', 'na', 'wanamgambo', 'hao', '.', '‘', 'Mwanangu', 'hajawahi', 'kuwa', 'na', 'silaha', ',', 'au', 'kuvuka', 'mpaka', 'kwenda', 'Somalia', 'kwa', 'sababu', 'yoyote', ',', '’', 'alisema', '.', 'Bi', 'Mohamed', 'amepuzilia', 'mbali', 'taarifa', 'zinazodai', 'mwanawe', 'ni', 'mmoja', 'wa', 'washukiwa', 'wakuu', 'ambao', 'tayari', 'serikali', 'imetoa', 'ahadi', 'ya', 'Sh10', 'milioni', 'kwa', 'atakayepeana', 'habari', 'kuhusu', 'walipo', '.', 'Bw', 'Muhamad', ',', 'almaarufu', 'Minshawary', ',', 'alidaiwa', 'kutekwa', 'nyara', 'mnamo', 'Oktoba', '14', 'katika', 'eneo', 'la', 'Seven-Up', ',', 'Majengo', 'baada', 'ya', 'kuhudhuria', 'sala', 'ya', 'Ishaa', 'katika', 'msikiti', 'wa', 'Masjid', 'Azhar', 'saa', 'mbili', 'unusu', 'jioni', '.', 'Mwanafunzi', 'huyo', 'wa', 'Chuo', 'Kikuu', 'cha', 'Umma', 'hajaonekana', 'tangu', 'wakati', 'huo', '.', 'Familia', 'yake', 'hata', 'hivyo', 'imeshikilia', 'kuwa', 'idara', 'ya', 'polisi', 'ina', 'ufahamu', 'kuhusu', 'aliko', '.']\n",
      "\n",
      " Number of Words:  766\n"
     ]
    }
   ],
   "source": [
    "file=\"21nov12.txt\"\n",
    "\n",
    "# calling the function and storing the contents in a text variable \n",
    "text1 = get_document(\"https://taifaleo.nation.co.ke/nani-anameza-wanaume-pwani/\")\n",
    "\n",
    "# calling the store_ document function \n",
    "store_document(doc=text1,name=file)\n",
    "\n",
    "#add the words in this file to the total_corpus_words, to keep count of the number of words in the corpus\n",
    "total_corpus_words+=total_words(file)"
   ]
  },
  {
   "cell_type": "code",
   "execution_count": 38,
   "metadata": {},
   "outputs": [
    {
     "data": {
      "text/plain": [
       "784413"
      ]
     },
     "execution_count": 38,
     "metadata": {},
     "output_type": "execute_result"
    }
   ],
   "source": [
    "total_corpus_words"
   ]
  },
  {
   "cell_type": "code",
   "execution_count": 39,
   "metadata": {},
   "outputs": [
    {
     "name": "stdout",
     "output_type": "stream",
     "text": [
      "['Atiwa', 'mbaroni', 'korti', 'ikidumisha', 'Ringera', 'RAIS', 'WA', 'Shirikisho', 'la', 'Kandanda', 'Nchini', '(', 'FKF', ')', 'alikamatwa', 'jana', 'muda', 'mfupi', 'baada', 'ya', 'Mahakama', 'kuu', 'kukataa', 'kusitisha', 'kuteuliwa', 'kwa', 'kamati', 'ya', 'kusimamia', 'kandanda', 'na', 'Waziri', 'wa', 'Michezo', ',', 'Amina', 'Mohamed', '.', 'Mwendwa', 'alikamatwa', 'na', 'maafisa', 'sita', 'kutoka', 'idara', 'ya', 'uchunguzi', 'wa', 'jinai', '(', 'DCI', ')', 'na', 'kuzuiliwa', 'katika', 'makao', 'makuu', 'ya', 'DCI.Msemaji', 'wa', 'Polisi', 'Bruno', 'Shioso', 'alithibitisha', 'kukamatwa', 'kwa', 'Mwendwa', 'ambaye', 'majuzi', 'afisi', 'yake', 'ilivunjiliwa', 'mbali', 'na', 'Serikali', 'kufutaia', 'madai', 'ya', 'ufisadi', '.', 'Katika', 'kesi', 'hiyo', 'FKF', 'imewashtaki', 'Mohamed', ',', 'Msajili', 'wa', 'Vyama', 'vya', 'Umma', ',', 'Kamati', 'ya', 'Usimamizi', 'wa', 'FKF', 'na', 'Mwanasheria', 'mkuu.Wakili', 'Charles', 'Njenga', 'anayewakilisha', 'FKF', ',', 'Mwendwa', 'na', 'Otieno', 'aliomba', 'mahakama', 'kuu', 'isitishe', 'utendakazi', 'wa', 'kamati', 'hiyo', 'ya', 'Ringera', ',', 'akidai', 'Waziri', 'Amina', 'alikaidi', 'sheria', 'alipoiteua', '.', 'Njenga', 'alieleza', 'mahakama', 'uteuzi', 'wa', 'kamati', 'hiyo', 'itakayomulika', 'ubadhirifu', 'wa', 'pesa', 'unakinzana', 'na', 'Katiba', 'na', 'sheria', 'za', 'usimamizi', 'wa', 'dimba', 'nchini.Wakenya', 'wanapoendelea', 'kumpongeza', 'Waziri', 'wa', 'Michezo', 'Amina', 'Mohamed', 'kwa', 'kuvunjilia', 'mbali', 'afisi', 'ya', 'Nick', 'Mwendwa', ',', 'kamati', 'mpya', 'ya', 'kusimamia', 'soka', 'nchini', 'ilianza', 'rasmi', 'kazi', 'yake', 'jana', 'kwa', 'kupiga', 'marufuku', 'ligi', 'zote', 'za', 'juu', 'ikiwemo', 'Ligi', 'Kuu', 'ya', 'Taifa', 'FKF-PL', ')', '.', 'Katika', 'mkutano', 'uliohudhuriwa', 'na', 'wanahabari', 'jana', ',', 'Kamati', 'hiyo', 'ya', 'muda', 'chini', 'ya', 'Jaji', 'Mstaafu', 'Aaron', 'Ringera', 'ilichukua', 'hatua', 'hiyo', 'siku', 'chake', 'tu', 'baada', 'ya', 'kupewa', 'mamlaka', 'na', 'Waziri', 'wa', 'Michezo', 'Amina', 'Mohamed', '.', 'Akizungumza', 'katika', 'mkutano', 'huo', ',', 'Ringera', 'aliwahakikishia', 'washikaji', 'dau', 'wa', 'soka', 'nchini', 'kwamba', 'chini', 'ya', 'utawala', 'wake', 'masuala', 'yote', 'ya', 'soka', 'nchini', 'yataendeshwa', 'kitaaluma', ',', 'huku', 'juhudi', 'mbalimbali', 'zikifanya', 'kwa', 'lengo', 'la', 'kujaribu', 'kurejesha', 'hadhi', 'ya', 'mchezo', 'huo', '.', 'Alitangaza', 'kwamba', 'shughuli', 'yao', 'ni', 'pamoja', 'na', 'kusimamia', 'mechi', 'kati', 'ya', 'Harambee', 'Stars', 'na', 'Rwanda', 'itakayochezwa', 'Jumatatu', 'ugani', 'Nyayo.', '“', 'Kufuatia', 'mkutano', 'uliofanyika', 'leo', 'asubuhi', ',', 'tulikubaliana', 'kwa', 'pamoja', 'kupiga', 'marufuku', 'ligi', 'kubwa', 'za', 'FKF-PL', ',', 'FKF', 'Supa', 'Ligi', 'ya', 'Taifa', '(', 'NSL', ')', ',', 'FKF', 'Daraja', 'la', 'Kwanza', ',', 'FKF', 'Ligi', 'Kuu', 'ya', 'Wanawake', ',', 'FKF', 'Daraja', 'la', 'Kwanza', 'Wanawake', ',', 'Daraja', 'la', 'Kwanza', 'kwa', 'muda', 'wa', 'wiki', 'mbili', '.', '”', 'Kadhalika', 'Ringera', 'alisema', 'kamati', 'yake', 'imechukua', 'jukumu', 'la', 'kusimamia', 'Harambee', 'Stars', 'baada', 'ya', 'afisi', 'ya', 'Mwendwa', 'kuvunjwa', 'na', 'Serikali', 'kufuatia', 'mapendekezo', 'ya', 'Msajili', 'ya', 'Michezo', 'Rose', 'Wasike', '.', 'Mwendwa', 'na', 'kundi', 'lake', 'wamezuiliwa', 'kuingia', 'katika', 'afisi', 'za', 'FKF', 'huku', 'uchunguzi', 'zaidi', 'ukiendelea', 'kufuatia', 'madai', 'kwamba', 'kamati', 'yake', 'ilitumia', 'vibaya', 'pesa', 'za', 'umma', '.', 'Wakati', 'huo', 'huo', ',', 'mwenyekiti', 'wa', 'Congo', 'Boys', 'FC', ',', 'Alamin', 'Ahmed', 'Abdalla', 'amempongeza', 'Waziri', 'wa', 'Michezo', ',', 'Amina', 'Mohamed', 'kwa', 'kuchukua', 'uamuzi', 'wa', 'kuvunjilia', 'mbali', 'Shirikisho', 'la', 'Soka', 'la', 'Kenya', '(', 'FKF', ')', 'na', 'kuchagua', 'kamati', 'itakayosimamia', 'mambo', 'ya', 'mchezo', 'huo', '.']\n",
      "\n",
      " Number of Words:  430\n"
     ]
    }
   ],
   "source": [
    "file=\"21nov13.txt\"\n",
    "\n",
    "# calling the function and storing the contents in a text variable \n",
    "text1 = get_document(\"https://taifaleo.nation.co.ke/atiwa-mbaroni-korti-ikidumisha-ringera/\")\n",
    "\n",
    "# calling the store_ document function \n",
    "store_document(doc=text1,name=file)\n",
    "\n",
    "#add the words in this file to the total_corpus_words, to keep count of the number of words in the corpus\n",
    "total_corpus_words+=total_words(file)"
   ]
  },
  {
   "cell_type": "code",
   "execution_count": 40,
   "metadata": {},
   "outputs": [
    {
     "data": {
      "text/plain": [
       "784843"
      ]
     },
     "execution_count": 40,
     "metadata": {},
     "output_type": "execute_result"
    }
   ],
   "source": [
    "total_corpus_words"
   ]
  },
  {
   "cell_type": "code",
   "execution_count": 42,
   "metadata": {},
   "outputs": [
    {
     "name": "stdout",
     "output_type": "stream",
     "text": [
      "['KMC', 'yabadili', 'sheria', 'ya', 'kununua', 'mifugo', 'katika', 'kaunti', 'kame', 'USIMAMIZI', 'wa', 'Kiwanda', 'cha', 'Nyama', 'nchini', '(', 'KMC', ')', 'umebadilisha', 'sheria', 'ambayo', 'imekuwa', 'ikitumiwa', 'kuwanunua', 'ng', '’', 'ombe', 'kutoka', 'kwa', 'jamii', 'za', 'wafugaji', 'wa', 'kuhamahama', 'katika', 'maeneo', 'yanayokumbwa', 'na', 'ukame', '.', 'Tangu', 'serikali', 'ianzishe', 'mpango', 'wa', 'kununua', 'mifugo', ',', 'kiwanda', 'hicho', 'chenye', 'makao', 'yake', 'Athi', 'River', ',', 'kimekuwa', 'kikiwanunua', 'fahali', 'wanane', 'na', 'majike', 'mawili', ',', 'hii', 'ikichangia', 'asilimia', '80', 'ya', 'ng', '’', 'ombe', 'wote', 'wanaonunuliwa', 'kuchinjwa', 'kwa', 'siku', '.', 'Hivi', 'majuzi', ',', 'wafugaji', 'kutoka', 'kaunti', '23', 'zinazokabiliwa', 'na', 'ukame', ',', 'ikiwemo', 'Kajiado', ',', 'waliibua', 'madai', 'kuwa', 'sheria', 'hiyo', 'ya', 'kuwanunua', 'mifugo', 'ibadilishwe', ',', 'wakisema', 'kuwa', 'ng', '’', 'ombe', 'jike', 'ndio', 'wameathiriwa', 'sana', 'na', 'kiangazi', 'hicho', '.', '“', 'Watu', 'wa', 'KMC', 'wanafaa', 'waruhusu', 'wafugaji', 'wauze', 'mifugo', 'yao', 'bila', 'kujali', 'kama', 'ni', 'ndume', 'au', 'ng', '’', 'ombe', 'jike', '.', 'Maisha', 'ya', 'watu', 'hawa', 'yanategema', 'sana', 'mifugo', 'ambayo', 'imeathirika', 'sana', 'na', 'kiangazi', 'hiki', ',', '”', 'akasema', 'aliyekuwa', 'Seneta', 'wa', 'Kajiado', ',', 'Peter', 'Mositet', '.', 'Mwanasiasa', 'huyo', 'alikuwa', 'amezuru', 'maeneo', 'ya', 'Kajiado', 'Magharibi', 'ambayo', 'yaliathirika', 'sana', 'na', 'ukame', 'huo', 'jana', 'na', 'Jumamosi', '.', 'Wafugaji', 'nao', 'wametakiwa', 'wasikwamilie', 'mifugo', 'yao', 'inayokabiliwa', 'na', 'hatari', 'ya', 'kiangazi', 'na', 'badala', 'yake', 'waiuzie', 'KMC', 'na', 'wanunuzi', 'wengine', 'kisha', 'baadaye', 'wanunue', 'mifugo', 'mingine', 'baada', 'ya', 'ukame', 'huu', 'kukamilika', '.', 'Hata', 'hivyo', ',', 'Mkurugenzi', 'wa', 'KMC', 'Brigedia', 'James', 'Gathaga', ',', 'alisema', 'kuwa', 'sheria', 'ya', 'awali', 'sasa', 'imeondolewa', 'na', 'wafugaji', 'wanafaa', 'wauze', 'ng', '’', 'ombe', 'wao', 'jinsi', 'wanavyotaka', '.', '“', 'Mara', 'nyingi', 'huwa', 'tunawanunua', 'ndume', 'wengi', 'kwa', 'sababu', 'wana', 'nyama', 'nyingi', 'kuliko', 'ng', '’', 'ombe', 'jike', '.', 'Sasa', 'tumeondoa', 'sheria', 'ya', 'kuwananua', 'ndume', 'wanane', 'na', 'ng', '’', 'ombe', 'jike', 'wawili', 'wakati', 'huu', 'ambapo', 'ukame', 'unaendelea', 'kutesa', ',', '”', 'Brigedia', 'Gathanga', 'akasema', '.', 'Aliwataka', 'wafugaji', 'watumie', 'mpango', 'wa', 'ununuzi', 'wa', 'mifugo', 'kujiepusha', 'na', 'hasara', 'ya', 'kuwapoteza', 'mifugo', 'wao', 'huku', 'akisisitiza', 'kuwa', 'mifugo', 'kutoka', 'kaunti', 'hizo', '23', 'wananunuliwa', 'kwa', 'bei', 'ya', 'kuridhisha', '.', '“', 'Tuna', 'jukumu', 'kubwa', 'la', 'kuwasaidia', 'wafugaji', 'wetu', 'hasa', 'wakati', 'huu', 'wa', 'kiangazi', '.', 'Mkulima', 'yeyote', 'hafai', 'kuruhusu', 'ng', '’', 'ombe', 'wake', 'wafe', 'ilhali', 'kuna', 'mpango', 'wa', 'kuwanunua', 'unaoendelea', ',', '”', 'akaongeza', '.', 'KMC', 'imeanzisha', 'vituo', 'vya', 'kuwanunua', 'mifugo', 'na', 'mara', 'nyingi', 'wanyama', 'hao', 'wamekuwa', 'wakichinjwa', 'kisha', 'nyama', 'ya', 'kutolewa', 'kwa', 'jamii', 'za', 'maeneo', 'hayo', 'yanayokabiliwa', 'na', 'ukame', 'kama', 'chakula', 'cha', 'msaada', '.', 'KMC', 'imekuwa', 'ikiwalipa', 'wafugaji', 'pesa', 'zao', 'baada', 'ya', 'saa', '72', 'kama', 'njia', 'ya', 'kuwavutia', 'wafugaji', 'wengi', 'kuwauza', 'ng', '’', 'ombe', 'wao', 'kwa', 'kiwanda', 'hicho', 'ambacho', 'sasa', 'kiko', 'chini', 'ya', 'usimamizi', 'wa', 'jeshi', '.', 'Baadhi', 'ya', 'sehemu', 'za', 'kaunti', 'hizo', '23', 'hasa', 'Kajiado', ',', 'hazijapokea', 'mvua', 'kwa', 'muda', 'wa', 'miaka', 'miwili', 'iliyopita', ',', 'hali', 'ambayo', 'imesababisha', 'ukosefu', 'wa', 'nyasi', 'na', 'maji', 'kwa', 'mifugo', '.', 'Baadhi', 'ya', 'wafugaji', 'nao', 'wamehamia', 'nchi', 'jirani', 'ya', 'Tanzania', 'kusaka', 'lishe', 'kwa', 'mifugo', 'wao', 'kupitia', 'mpaka', 'wa', 'Namanga', 'huku', 'bei', 'yao', 'sokoni', 'pia', 'ikipungua', 'kutokana', 'na', 'wengi', 'wanaotaka', 'kuuza', 'mifugo', 'wao', '.', 'Kiongozi', 'wa', 'ANC', ',', 'Bw', 'Musalia', 'Mudavadi', 'hata', 'hivyo', 'hakuhudhuria', 'mkutano', 'huo', 'wa', 'hadhara', 'kupigia', 'OKA', 'upatu', '.', 'Muungano', 'huo', 'haujatangaza', 'ni', 'nani', 'atakayepeperusha', 'bendera', 'yake', 'kuwania', 'urais', '.', 'Serikali', 'tawala', 'ya', 'Jubilee', ',', 'na', 'ambayo', 'inaongozwa', 'na', 'Rais', 'Uhuru', 'Kenyatta', ',', 'imetajwa', 'kuwa', 'fisadi', 'zaidi', 'katika', 'historia', 'ya', 'Kenya', '.', 'Baadhi', 'ya', 'viongozi', 'wakuu', 'serikalini', 'wamejipata', 'kuandamwa', 'na', 'sakata', 'za', 'ufisadi', ',', 'wengine', 'wakiachishwa', 'kazi', 'na', 'wengine', 'kujiuzulu', ',', 'ila', 'hakuna', 'aliyeadhibiwa', 'kisheria', 'licha', 'ya', 'kufunguliwa', 'mashtaka', 'mahakamani', '.', 'Idara', 'ya', 'Upelelezi', 'wa', 'Jinai', 'na', 'Uhalifu', '(', 'DCI', ')', 'na', 'Tume', 'ya', 'Maadili', 'na', 'Kupambana', 'na', 'Ufisadi', '(', 'EACC', ')', ',', 'imechunguza', 'na', 'kukamata', 'maafisa', 'kadha', 'wa', 'serikali', 'na', 'ambao', 'hata', 'baada', 'ya', 'kushtakiwa', 'na', 'Mkurugenzi', 'Mkuu', 'wa', 'Mashtaka', 'ya', 'Umma', '(', 'DPP', ')', ',', 'wameachiliwa', 'kwa', 'dhamana', '.', 'Kando', 'na', 'kupambana', 'na', 'mafisadi', ',', 'OKA', 'imeahidi', 'elimu', 'ya', 'bure', 'katika', 'shule', 'za', 'upili', 'za', 'umma', ',', 'iwapo', 'itatwaa', 'uongozi', '.', '“', 'Isitoshe', ',', 'tutapunguza', 'ushuru', 'kwa', 'asilimia', '50', ',', '”', 'akasema', 'Bw', 'Moi', '.', 'Licha', 'ya', 'mfumo', 'wa', 'masomo', 'bila', 'malipo', 'katika', 'shule', 'za', 'msingi', 'za', 'umma', 'kuzinduliwa', 'na', 'Rais', 'Mstaafu', ',', 'Mwai', 'Kibaki', 'na', 'kuendelezwa', 'na', 'Rais', 'wa', 'sasa', 'Uhuru', 'Kenyatta', ',', 'wazazi', 'hawajakwepa', 'kulipa', 'karo', '.', 'YUVRAJ', 'Rajput', 'yuko', 'tayari', 'kwa', 'changamoto', 'mpya', 'baada', 'ya', 'kubeba', 'taji', 'la', 'kitaifa', 'la', 'kitengo', 'cha', 'Bambino', 'kwenye', 'Mbio', 'za', 'Magari', 'na', 'Vigari', 'maarufu', 'kama', 'Autocross', 'wakati', 'wa', 'raundi', 'ya', 'tisa', 'kwenye', 'bustani', 'ya', 'Twisty', 'Corners', 'katika', 'kaunti', 'ya', 'Kiambu', '.', 'Yuvraj', ',', 'ambaye', 'ni', 'mtoto', 'wa', 'dereva', 'wa', 'mbio', 'za', 'magari', 'Kirit', 'Rajput', ',', 'alihifadhi', 'ubingwa', 'wa', 'kitaifa', 'baada', 'ya', 'kumzidia', 'ujanja', 'mpinzani', 'wake', 'wa', 'karibu', 'Karamveer', 'Rooprai', 'mnamo', 'Jumapili', '.', 'Alirejesha', 'kigari', 'chake', 'cha', 'Magi-Bug', 'cha', 'injini', 'ya', '500cc', 'katika', 'nafasi', 'ya', 'pili', 'akiwa', 'na', 'muda', 'wake', 'bora', 'kwenye', 'mizunguko', 'minne', 'wa', 'dakika', '6:56.37', '.', 'Amaan', 'Ganatra', 'alitwaa', 'taji', 'la', 'duru', 'hiyo', 'ya', 'tisa', 'kwa', 'dakika', '5:47.07', 'naye', 'Rooprai', 'akaridhika', 'na', 'nafasi', 'ya', 'tatu', '(', '6:59.83', ')', '.', 'Baada', 'ya', 'kuhifadhi', 'taji', 'mnamo', 'Jumapili', ',', 'Yuvraj', 'maarufu', 'kama', 'Yuvi', 'ametangaza', 'kuwa', 'atapanda', 'daraja', 'kushiriki', 'kitengo', 'cha', 'chipukizi', 'cha', '2WD', 'Non-Turbo', ',', 'ambacho', 'vigari', 'vinavyoshiriki', 'vina', 'nguvu', 'zaidi', '.', '“', 'Nafurahi', 'sana', 'kushinda', 'msimu', 'kwa', 'mara', 'ya', 'pili', 'mfululizo', '.', 'Barabara', 'za', 'duru', 'hii', 'ya', 'tisa', 'zilikuwa', 'na', 'udongo', 'tifutifu', ',', 'lakini', 'za', 'kusisimua', 'kwa', 'mashindano', '.', 'Mwaka', 'ujao', ',', 'naingia', 'kitengo', 'cha', 'chipukizi', 'cha', '2WD', 'Non-Turbo', 'ninachotarajia', 'kiwe', 'na', 'ushindani', 'mkali', 'kutoka', 'kwa', 'Neel', 'Gohil', 'na', 'Brandon', 'Ng', '’', 'ang', '’', 'a', ',', '”', 'alisema', 'Yuvraj', 'aliyetawala', 'kitengo', 'cha', 'Bambino', 'mwaka', '2019', 'kabla', 'ya', 'mashindano', 'ya', '2020', 'kufutiliwa', 'mbali', 'baada', 'ya', 'mkurupuko', 'wa', 'virusi', 'vya', 'corona', '.', 'Gurraj', 'Singh', 'alinyakua', 'ubingwa', 'wa', 'kitengo', 'cha', 'Quad', 'baada', 'ya', 'bingwa', 'mtetezi', 'Wayne', 'Fernandes', 'kukamata', 'nambari', 'mbili', 'katika', 'Twisty', 'Corners', '.', 'Kiana', 'ananusia', 'kutawazwa', 'malkia', 'wa', 'Pee', 'Wee', 'msimu', 'huu', '.', 'Anahitaji', 'tu', 'kushiriki', 'duru', 'ya', 'mwisho', 'ili', 'kutimiza', 'sharti', 'la', 'asilimia', '75', 'ya', 'mashindano', '.', 'Duru', 'ya', 'mwisho', 'ya', 'Autocross', 'ni', 'Desemba', 'katika', 'eneo', 'ambalo', 'bado', 'halijatangazwa', '.']\n",
      "\n",
      " Number of Words:  954\n"
     ]
    }
   ],
   "source": [
    "file=\"21nov15.txt\"\n",
    "\n",
    "# calling the function and storing the contents in a text variable \n",
    "text1 = get_document(\"https://taifaleo.nation.co.ke/kmc-yabadili-sheria-kununua-mifugo/\")\n",
    "text2 = get_document(\"https://taifaleo.nation.co.ke/wezi-wa-mali-ya-umma-kukiona/\")\n",
    "text3 = get_document(\"https://taifaleo.nation.co.ke/yuvraj-alenga-changamoto-mpya/\")\n",
    "\n",
    "# calling the store_ document function \n",
    "store_document(doc=text1,name=file)\n",
    "store_document(doc=text2,name=file)\n",
    "store_document(doc=text3,name=file)\n",
    "\n",
    "#add the words in this file to the total_corpus_words, to keep count of the number of words in the corpus\n",
    "total_corpus_words+=total_words(file)"
   ]
  },
  {
   "cell_type": "code",
   "execution_count": 43,
   "metadata": {},
   "outputs": [
    {
     "data": {
      "text/plain": [
       "785797"
      ]
     },
     "execution_count": 43,
     "metadata": {},
     "output_type": "execute_result"
    }
   ],
   "source": [
    "total_corpus_words"
   ]
  },
  {
   "cell_type": "code",
   "execution_count": 48,
   "metadata": {},
   "outputs": [
    {
     "name": "stdout",
     "output_type": "stream",
     "text": [
      "['Matiang', '’', 'i', 'aweka', 'mikakati', 'kuzima', 'visa', 'vya', 'wafungwa', 'kutoroka', 'jela', 'Kwenye', 'taarifa', 'kwa', 'vyombo', 'vya', 'habari', 'Jumatatu', 'usiku', 'baada', 'ya', 'kuzuru', 'gereza', 'hilo', ',', 'Waziri', 'wa', 'Usalama', 'wa', 'Ndani', 'Fred', 'Matiang', '’', 'i', 'alisema', 'uchunguzi', 'umebaini', 'kuwa', 'utepetevu', 'wa', 'maafisa', 'hao', 'ndio', 'ulisababisha', 'kutoroka', 'kwa', 'wafungwa', 'hao', '.', '“', 'Maafisa', 'zaidi', 'watakamatwa', 'baada', 'ya', 'Idara', 'ya', 'Upelelezi', 'wa', 'Jinai', '(', 'DCI', ')', 'kuanzisha', 'rasmi', 'uchunguzi', 'kuhusu', 'kisa', 'hicho', ',', '”', 'Dkt', 'Matiang', '’', 'i', 'akasema', '.', 'Waziri', 'alikuwa', 'alitembelea', 'gereza', 'la', 'Kamiti', 'akiandamana', 'na', 'na', 'Katibu', 'katika', 'wizara', 'yake', 'Karanja', 'Kibicho', ',', 'Inspekta', 'Jenerali', 'wa', 'Polisi', 'Hillary', 'Mutyambai', ',', 'Katibu', 'anayesimamia', 'Idara', 'ya', 'Magereza', 'Zainab', 'Hussein', 'na', 'Mkurugenzi', 'wa', 'DCI', 'George', 'Kinoti', '.', 'Pia', 'alikuwepo', 'Kamishna', 'Mkuu', 'wa', 'Magereza', 'Wycliffe', 'Ogallo', '.', 'Diwani', 'wa', 'Landimawe', 'aafikiana', 'na', 'Nairobi', 'Water', 'kusambaza', 'maji', 'Mukuru-Kayaba', 'DIWANI', 'wa', 'Landimawe', 'katika', 'kaunti', 'ndogo', 'ya', 'Starehe', ',', 'Bw', 'Herman', 'Azangu', 'amewahakikishia', 'wakazi', 'wa', 'mtaa', 'wa', 'mabanda', 'wa', 'Kayaba', 'kwamba', 'watapata', 'maji', 'safi', 'wakati', 'wowote', 'kuanzia', 'wiki', 'hii', '.', 'Aidha', ',', 'alitamka', 'hayo', 'jana', 'baada', 'ya', 'kuandaa', 'kikao', 'na', 'usimamizi', 'wa', 'kampuni', 'ya', 'kusambaza', 'maji', 'katika', 'kaunti', 'ya', 'Nairobi', '(', 'Nairobi', 'Water', 'Company', ')', 'katika', 'makao', 'makuu', 'ya', 'kampuni', 'yalioko', 'kwenye', 'Eneo', 'la', 'Viwanda', '.', 'Maelfu', 'ya', 'wakazi', 'wamehangaika', 'kwa', 'zaidi', 'ya', 'wiki', 'tatu', 'bila', 'maji', 'baada', 'ya', 'kampuni', 'hilo', 'kuondoa', 'mita', 'za', 'maji', 'ili', 'kupisha', 'nafasi', 'kwa', 'ujenzi', 'wa', 'barabara', 'mtaani', 'humo', '.', 'Kwa', 'mujibu', 'wa', 'Bw', 'Azangu', ',', 'mwanakandarasi', 'ameanza', 'rasmi', 'mradi', 'wa', 'ujenzi', 'wa', 'barabara', 'ya', 'lami', 'inayounganisha', 'barabara', 'ya', 'Entreprise', 'na', 'barabara', 'ya', 'Aoko', 'kupitia', 'mtaani', 'humo', '.', '“', 'Wahandisi', 'wa', 'Nairobi', 'Water', 'waliondoa', 'mita', 'zao', 'ili', 'wapeane', 'nafasi', 'ya', 'ujenzi', 'wa', 'barabara', '.', 'Baada', 'ya', 'kufanya', 'kikao', 'na', 'usimamizi', 'wa', 'kampuni', 'hiyo', 'tumeafikiana', 'wakazi', 'wa', 'Kayaba', 'watapeana', 'sehemu', 'watakazowekewa', 'mita', 'za', 'maji', 'ili', 'wasambaziwe', 'maji', 'na', 'hali', 'irudi', 'na', 'kuwa', 'ya', 'kawaida', ',', '”', 'Bw', 'Azangu', 'akasema', '.', 'Fauka', 'ya', 'hayo', ',', 'wakazi', 'walikuwa', 'wakiamka', 'usiku', 'kuchota', 'maji', 'kutoka', 'bomba', 'zinazosambaza', 'maji', 'kutoka', 'mtaa', 'jirani', 'wa', 'mabanda', 'wa', 'Maasai', '.', 'Wlkati', 'wa', 'usiku', 'vurumai', 'na', 'fujo', 'zimeripotiwa', 'huku', 'watu', 'wakipigania', 'maji', 'ambapo', 'wengine', 'walipatikana', 'wamekata', 'paipu', 'za', 'wenyewe', 'na', 'kuchota', 'maji', 'bila', 'kulipa', '.', '“', 'Ili', 'kuzuia', 'maafa', 'kutokana', 'na', 'mzozo', 'wa', 'maji', ',', 'nimechukua', 'hatua', 'ya', 'haraka', 'na', 'kushukuru', 'Nairobi', 'Water', 'kwa', 'kukubaliana', 'kwamba', 'watawapatia', 'wakazi', 'wa', 'mtaa', 'wa', 'manbanda', 'maji', 'tena', ',', '”', 'akanena', '.', 'Vilevile', ',', 'mwanasiasa', 'huyo', 'laiwaomba', 'wakazi', 'kulinda', 'mita', 'zinazowekwa', ',', 'mifereji', 'sawia', 'na', 'maji', 'akisema', 'ni', 'bidhaa', 'muhimu', 'kwa', 'kila', 'mkazi', 'mtaani', '.', 'Awali', ',', 'wakazi', 'walitegemea', 'maji', 'kutoka', 'kisima', 'kilichochimbwa', 'ndani', 'ya', 'Shule', 'ya', 'Msingi', 'ya', 'Sancta', 'Maria-Mukuru', '.', 'Wakazi', 'waliozungumza', 'na', 'Taifa', 'Leo', 'walisema', 'japo', 'maji', 'ya', 'kisima', 'yapo', ',', 'yana', 'ladha', 'ya', 'chumvi', 'na', 'hawanywi', 'bali', 'wanayatumia', 'tu', 'katika', 'kufanya', 'usafi', 'wa', 'nyumbani', '.', '“', 'Tulishauriwa', 'tusinywe', 'maji', 'ya', 'kisima', 'moja', 'kwa', 'moja', 'kwa', 'sababu', 'za', 'kiafya', '.', 'Hata', 'hivyo', ',', 'maji', 'hayo', 'hutumika', 'kwa', 'kufulia', 'nguo', 'na', 'kupiga', 'deki', ',', '”', 'Bi', 'Jane', 'Mbula', 'Peter', ',', 'mhudumu', 'wa', 'afya', 'mtaani', ',', 'akasema', '.', 'Bi', 'Jane', 'aliongeza', 'kwamba', 'sababu', 'nyingine', 'ya', 'ukosefu', 'wa', 'maji', 'mtaani', 'ulitokana', 'na', 'kuharibika', 'kwa', 'mashine', 'ya', 'kupiga', 'maji', 'katika', 'mradi', 'wa', 'kisima', '.', '“', 'Pampu', 'ya', 'kupiga', 'maji', 'katika', 'shule', 'ya', 'Mukuru', 'iliharibika', 'na', 'mradi', 'ukasimama', '.', 'Wakazi', 'walihangaika', 'kwa', 'kukosa', 'maji', 'yanayosambazwa', 'na', 'kampuni', 'ya', 'Nairobi', 'Water', 'na', 'kulazimika', 'kutembea', 'mbali', 'hadi', 'mtaa', 'wa', 'mabanda', 'wa', 'Maasai', ',', '”', 'Bi', 'Regina', 'Nzomo', ',', 'Mwalimu', 'mkuu', 'wa', 'shule', 'ya', 'msingi', 'ya', 'Sancta', 'Maria', 'Mukuru', 'akanena', '.', 'Waandamanaji', 'wapeleka', 'maiti', 'kwa', 'ofisi', 'ya', 'serikali', 'WAANDAMANAJI', 'wenye', 'ghadhabu', 'kisiwani', 'Lamu', ',', 'Jumanne', 'walizua', 'kioja', 'walipobeba', 'maiti', 'ya', 'mwanamume', 'aliyefariki', 'akiwa', 'na', 'umri', 'wa', 'miaka', '32', 'hadi', 'kwenye', 'ofisi', 'ya', 'Naibu', 'Kamishna', 'wa', 'kaunti', 'ya', 'Lamu', 'na', 'kuacha', 'maiti', 'hiyo', 'mlangoni', '.', 'Marehemu', ',', 'Kalume', 'Cheu', ',', 'ambaye', 'ni', 'mfanyakazi', 'wa', 'kuchomelea', 'vyuma', ',', 'alikumbana', 'na', 'mauti', 'yake', 'pale', 'alipovamiwa', 'na', 'genge', 'la', 'wanaume', 'waliojihami', 'kwa', 'visu', 'na', 'mapanga', 'na', 'kumdunga', 'upande', 'wa', 'tumbo', 'na', 'kumuua', 'papo', 'hapo', 'kabla', 'ya', 'kutoweka', 'na', 'simu', 'yake', 'ya', 'mkononi', '.', 'Bw', 'Cheu', 'ni', 'mkazi', 'wa', 'kaunti', 'jirani', 'ya', 'Kilifi', 'na', 'alikuwa', 'akifanya', 'kazi', 'zake', 'za', 'vibarua', 'Lamu', '.', 'Alikimbizwa', 'hospitalini', 'na', 'marafiki', 'pamoja', 'na', 'majirani', 'zake', 'baada', 'ya', 'uvamizi', 'huo', 'wa', 'Jumatatu', 'majira', 'ya', 'saa', 'kumi', 'na', 'mbili', 'jioni', 'lakini', 'akatangazwa', 'kuwa', 'amefariki', 'punde', 'alipofika', 'hospitalini', 'humo', '.', 'Tukio', 'hilo', 'lilizua', 'ghadhabu', 'miongoni', 'mwa', 'wakazi', ',', 'wengi', 'wao', 'wakiwa', 'ni', 'wale', 'wa', 'kutoka', 'kaunti', 'nyingine', 'wanaoishi', 'Lamu', ',', 'ambapo', 'waliafikia', 'kushiriki', 'maandamano', 'makubwa', 'wakiwa', 'wameubeba', 'mwili', 'wa', 'mwendazake', 'hadi', 'kwenye', 'ofisi', 'hiyo', 'ili', 'kudai', 'haki', 'ya', 'mpendwa', 'wao', '.', 'Msemaji', 'wa', 'waandamanaji', 'hao', ',', 'Pascal', 'Kashero', 'alilaani', 'vikali', 'mauaji', 'ya', 'Bw', 'Cheu', 'na', 'kuitaka', 'idara', 'ya', 'usalama', 'Kaunti', 'ya', 'Lamu', 'kuwajibika', 'na', 'kuhakikisha', 'waliohusika', 'na', 'mauaji', 'hayo', 'wanakamatwa', 'na', 'kushtakiwa', '.', 'Lucy', 'Kazungu', 'alieleza', 'masikitiko', 'yake', 'kwamba', 'hakuna', 'yeyote', 'ambaye', 'hadi', 'sasa', 'amehukumiwa', 'kutokana', 'na', 'mauaji', 'ya', 'wenzao', 'yaliyofanyika', 'awali', '.', 'Bi', 'Kazungu', 'aliwakashifu', 'polisi', 'wa', 'Lamu', 'kwa', 'uzembe', 'katika', 'kudhibiti', 'usalama', 'wa', 'wananchi', '.', '“', 'Polisi', 'wa', 'hapa', 'wameelekeza', 'nguvu', 'zao', 'katika', 'kuwakamata', 'wasiovaa', 'barakoa', 'na', 'kuwapora', 'fedha', 'zao', 'lakini', 'hawazingatii', 'usalama', 'wetu', 'kama', 'wananchi', '.', 'Tutaendelea', 'kushuhudia', 'maafa', 'ya', 'mapanga', 'na', 'visu', 'kwa', 'watu', 'wetu', 'hadi', 'lini', '?', 'Polisi', 'wawajibikie', 'jukumu', 'lao', ',', '”', 'akasema', 'Bi', 'Kazungu', '.', 'Binamu', 'ya', 'mwendazake', ',', 'David', 'Ziro', 'alimtaja', 'marehemu', 'kuwa', 'mpenda', 'amani', 'na', 'ambaye', 'hakuwa', 'na', 'kisasi', 'na', 'yeyote', '.', '“', 'Yeye', 'ni', 'mpenda', 'watu', '.', 'Hapendi', 'vita.Ninashangaa', 'kwamba', 'watu', 'wanamvamia', 'kakangu', 'na', 'kumuua', '.', 'Naomba', 'haki', 'itendeke', 'kwa', 'Cheu', ',', '”', 'akasema', 'Bw', 'Ziro', '.', 'Naibu', 'Kamishna', 'wa', 'Lamu', 'ya', 'Kati', ',', 'Philip', 'Oloo', 'na', 'Afisa', 'Mkuu', 'wa', 'Polisi', 'wa', 'eneo', 'hilo', ',', 'Geoffrey', 'Osanane', 'waliwaomba', 'waandamanaji', 'kuwa', 'watulivu', 'wakati', 'uchunguzi', 'ukiendelea', 'kuhusiana', 'na', 'waliohusika', 'na', 'mauaji', 'hayo', '.']\n",
      "\n",
      " Number of Words:  937\n"
     ]
    }
   ],
   "source": [
    "file=\"21nov16.txt\"\n",
    "\n",
    "# calling the function and storing the contents in a text variable \n",
    "text1 = get_document(\"https://taifaleo.nation.co.ke/mikakati-kuzima-wafungwa-kutoroka/\")\n",
    "text2 = get_document(\"https://taifaleo.nation.co.ke/usambazaji-maji-mukuru-kayaba/\")\n",
    "text5 = get_document(\"https://taifaleo.nation.co.ke/waandamanaji-wapeleka-maiti-kwa-ofisi-ya-serikali/\")\n",
    "\n",
    "# calling the store_ document function \n",
    "store_document(doc=text1,name=file)\n",
    "store_document(doc=text2,name=file)\n",
    "store_document(doc=text5,name=file)\n",
    "\n",
    "#add the words in this file to the total_corpus_words, to keep count of the number of words in the corpus\n",
    "total_corpus_words+=total_words(file)"
   ]
  },
  {
   "cell_type": "code",
   "execution_count": 49,
   "metadata": {},
   "outputs": [
    {
     "data": {
      "text/plain": [
       "786734"
      ]
     },
     "execution_count": 49,
     "metadata": {},
     "output_type": "execute_result"
    }
   ],
   "source": [
    "total_corpus_words"
   ]
  },
  {
   "cell_type": "code",
   "execution_count": 52,
   "metadata": {},
   "outputs": [
    {
     "name": "stdout",
     "output_type": "stream",
     "text": [
      "['Ukiukaji', 'wa', 'haki', 'za', 'Miguna', 'hatari', 'kwa', 'nchi', '–', 'Mutunga', 'UJASIRI', 'wa', 'Serikali', 'ya', 'Kenya', 'wa', 'kupuuza', ',', 'kudharau', 'na', 'kukiuka', 'maagizo', 'ya', 'mahakama', 'unafaa', 'kutia', 'wasiwasi', 'raia', 'wa', 'nchi', 'hii', 'wasukume', 'maafisa', 'wa', 'serikali', 'kuheshimu', 'Katiba', 'na', 'utawala', 'wa', 'sheria', ',', 'aliyekuwa', 'Jaji', 'Mkuu', 'Dkt', 'Willy', 'Mutunga', 'ameonya', '.', 'Dkt', 'Miguna', 'alipaswa', 'kuwasili', 'Kenya', 'Jumanne', 'asubuhi', 'lakini', 'kampuni', 'ya', 'ndege', 'ya', 'Ufaranza', 'aliyopaswa', 'kutumia', 'kusafiri', 'ilikataa', 'kumbeba', 'kufuatia', 'onyo', 'kutoka', 'kwa', 'serikali', 'ya', 'Kenya', '.', 'Hatua', 'hiyo', 'ilijiri', 'siku', 'tatu', 'tu', 'baada', 'ya', 'serikali', 'kuambia', 'mahakama', 'kwamba', 'haikuwa', 'imetoa', 'onyo', 'kwa', 'safari', 'za', 'ndege', 'kutombeba', 'Bw', 'Miguna', 'Miguna', 'au', 'raia', 'yeyote', 'wa', 'Kenya', 'anayerejea', 'nchini', 'akiwa', 'na', 'stakaabadhi', 'halali', '.', 'Jumanne', ',', 'Dkt', 'Mutunga', 'aliungana', 'na', 'chama', 'cha', 'wanasheria', 'nchini', 'na', 'wanaharakati', 'kukashifu', 'serikali', 'kwa', 'kuendelea', 'kumnyima', 'Bw', 'Miguna', 'haki', 'zake', 'za', 'kikatiba', 'ikijua', 'wazi', 'kuwa', 'akiwa', 'mzaliwa', 'wa', 'Kenya', ',', 'uraia', 'wake', 'hauwezi', 'kufutwa', '.', '“', 'Hatutalegeza', 'juhudi', 'zetu', 'za', 'kuhakikisha', 'kwamba', 'utawala', 'wa', 'sheria', 'unaheshimiwa', ',', 'haki', 'za', 'kila', 'Mkenya', 'zimelindwa', 'na', 'kuheshimiwa', 'na', 'kwamba', 'mahakama', 'zimeheshimiwa', ',', '”', 'alisema', 'Dkt', 'Mutunga', '.', 'Alisema', 'kwamba', 'kati', 'ya', 'mihimili', 'mitatu', 'ya', 'serikali', 'ni', 'mahakama', 'pekee', 'na', 'mawakili', 'wanaotetea', 'haki', 'za', 'raia', 'dhidi', 'ya', 'dhuluma', 'za', 'maafisa', 'wa', 'serikali', '.', '“', 'Serikali', 'Kuu', 'na', 'Bunge', 'hazijali', 'maslahi', 'ya', 'raia', ',', 'mwokozi', 'wetu', 'kwa', 'wakati', 'huu', 'ni', 'mahakama', ',', '”', 'alisema', '.', 'Dkt', 'Miguna', 'alikashifu', 'serikali', 'kwa', 'kuhadaa', 'mahakama', 'kwamba', 'haikuwa', 'imetoa', 'onyo', 'kwa', 'kampuni', 'za', 'safari', 'za', 'ndege', 'kutombeba', 'Bw', 'Miguna', '.', 'Akizungumza', 'katika', 'ofisi', 'za', 'chama', 'cha', 'United', 'Green', 'Movement', 'Party', ',', 'Dkt', 'Mutunga', 'alitaja', 'onyo', 'la', 'serikali', 'kwa', 'kampuni', 'za', 'safari', 'za', 'ndege', 'kutombeba', 'Bw', 'Miguna', 'kama', 'haramu', 'kwa', 'kuwa', 'kuna', 'agizo', 'la', 'korti', 'kumruhusu', 'wakili', 'huyo', 'kurudi', 'Kenya', '.', 'Rais', 'wa', 'chama', 'cha', 'mawakili', '(', 'LSK', ')', 'alisema', 'Wakenya', 'wanafaa', 'kuwa', 'na', 'hofu', 'na', 'kukasirishwa', 'na', 'hatua', 'ya', 'serikali', 'ya', 'kupuuza', 'maagizo', 'ya', 'mahakama', '.', '“', 'Wanasiasa', 'wamekuwa', 'wakifanya', 'mikutano', 'ya', 'kampeni', 'na', 'kutoa', 'ahadi', 'za', 'kila', 'aina', 'lakini', 'hakuna', 'anayeahidi', 'kuheshimu', 'haki', 'za', 'raia', 'na', 'kulinda', 'katiba', '.', 'Hii', 'inafaa', 'kutupatia', 'wasiwasi', ',', '”', 'alisema', '.', 'Alisema', 'kwamba', 'wamewasilisha', 'kesi', 'kortini', 'kwa', 'lengo', 'la', 'kutaka', 'serikali', 'kuondoa', 'onyo', 'la', 'kumzuia', 'Bw', 'Miguna', 'Miguna', 'kurudi', 'Kenya', '.', 'Katika', 'kesi', 'aliyowasilisha', 'katika', 'Mahakama', 'Kuu', 'Milimani', ',', 'Bw', 'Kioko', 'alisema', 'wanasiasa', 'walitwaa', 'mfumo', 'huu', 'aliouzindua', 'Mei', '31', ',', '2013', 'na', 'kuukabidhi', 'kwa', 'maafisa', 'wakuu', 'serikali', 'waukumbatie', 'katika', 'kuimarisha', 'mapato', 'ya', 'wananchi', 'maskini', '.', 'Kioko', 'amewasilisha', 'ushahidi', 'katika', 'mahakama', 'kuu', 'kuthibitisha', 'jinsi', 'aliwaandikia', ',', 'Rais', 'Uhuru', 'Kenyatta', ',', 'Dkt', 'Ruto', ',', 'Waziri', 'wa', 'Ustawishaji', 'viwanda', ',', 'Spika', 'wa', 'Bunge', 'la', 'Kitaifa', 'na', 'Mwanasheria', 'Mkuu', 'akieleza', 'jinsi', 'serikali', 'inaweza', 'kutumia', 'mfumo', 'huu', 'alioubuni', 'kuwastawisha', 'wakenya', 'wa', 'mapato', 'ya', 'chini', '.', 'Bw', 'Kioko', 'amesema', 'badala', 'ya', 'serikali', 'kutekeleza', 'mfumo', 'huu', ',', 'sasa', 'Dkt', 'Ruto', 'kupitia', 'chama', 'chake', 'cha', 'United', 'Democratic', 'Alliance', '(', 'UDA', ')', 'amekuwa', 'akitembea', 'kote', 'nchini', 'akiwaeleza', 'wananchi', 'atatumia', 'mfumo', 'wa', '“', 'Bottom', 'Up', '”', 'kufufua', 'uchumi', 'wa', 'nchi', 'hii', 'na', 'kuboresha', 'mapato', 'ya', '“', 'Mama', 'Mboga', ',', 'Boda', 'boda', 'na', 'wafanyabiashara', 'wadogo.', '”', '“', 'Miaka', 'mingi', 'imepita', 'tangu', 'niubuni', 'mfumo', 'huu', 'wa', '“', 'Bottom', 'Up', '”', 'mnamo', '2010', 'kisha', 'nikaupeana', 'kwa', 'Serikali', 'kuu', '2013', 'uanze', 'kutekelezwa', ',', '”', 'asema', 'Bw', 'Kioko', '.', '“', 'Niliwaandikia', 'maafisa', 'watano', 'wakuu', 'serikalini', 'ambao', 'ni', 'Rais', ',', 'Naibu', 'wa', 'Rais', ',', 'Waziri', 'wa', 'Ustawishaji', 'Viwanda', ',', 'Spika', 'wa', 'Bunge', 'la', 'Kitaifa', 'na', 'Mwanasheria', 'mkuu', 'jinsi', 'mfumo', 'huu', 'unavyoweza', 'kubadilisha', 'uchumi', 'wa', 'nchi', 'hii', 'lakini', 'ulipuuzwa', ',', '”', 'asema', 'Bw', 'Kioko', '.', 'Utafunaji', 'miraa', 'unaharibu', 'hali', 'ya', 'usafi', '–', 'Jaji', 'JAJI', 'wa', 'Mahakama', 'ya', 'Malindi', ',', 'Bw', 'Stephene', 'Githinji', ',', 'amelaumu', 'uraibu', 'wa', 'utafunaji', 'miraa', 'na', 'muguka', 'kwa', 'uchafuzi', 'wa', 'mazingira', '.', '“', 'Kiwango', 'kubwa', 'ya', 'uchafu', 'ni', 'karatasi', 'za', 'peremende', 'za', 'kutafunia', 'miraa', 'na', 'mugokaa', '.', 'Inadhihirisha', 'kuwa', 'watu', 'wengi', 'hutafuna', 'na', 'kutupa', 'taka', 'kila', 'sehemu', ',', '”', 'akasema', 'akishirikiana', 'na', 'wakazi', 'kusafisha', 'mji', 'wa', 'Malindi', '.', 'Takriban', 'kilo', '168', 'za', 'taka', 'ziliokotwa', 'katika', 'shughuli', 'hiyo', 'iliyohudhuriwa', 'pia', 'na', 'mkuu', 'wa', 'kampuni', 'ya', 'Jambojet', ',', 'Bw', 'Karanja', 'Ndegwa', '.', 'Bw', 'Ndegwa', 'aliwahimiza', 'wananchi', 'kudumisha', 'usafi', 'kila', 'mara', 'na', 'kusema', 'shirika', 'hilo', 'la', 'ndege', 'litaendelea', 'kusaidia', 'katika', 'usafishaji', 'wa', 'mji', 'wa', 'Malindi', '.', 'Mpango', 'wa', 'kusafisha', 'Malindi', 'husimamiwa', 'na', 'kikundi', 'cha', 'Progressive', 'Welfare', 'Association', 'Malindi', '(', 'PWAM', ')', 'kupitia', 'kwa', 'mfumo', 'wa', 'nyumba', 'kumi', '.', 'Mpango', 'huo', 'unajumuisha', 'zaidi', 'ya', 'wadau', '40', 'kutoka', 'sekta', 'mbalimbali', 'wakiwemo', 'waekezaji', 'wa', 'hoteli', ',', 'wafanyabiashara', 'katika', 'fuo', 'za', 'bahari', ',', 'idara', 'ya', 'usalama', 'na', 'wakazi', '.', 'Kaluma', 'afurahia', 'kutiwa', 'saini', 'kwa', 'mswada', 'wa', 'kuzima', '‘', 'mpango', 'wa', 'kando', '’', 'katika', 'urithi', 'MBUNGE', 'wa', 'Homa', 'Bay', 'Mjini', 'Peter', 'Kaluma', 'Jumatano', 'alijawa', 'na', 'furaha', 'baada', 'ya', 'Rais', 'Uhuru', 'Kenyatta', 'kutia', 'saini', 'mswada', 'wa', 'marekebisho', 'ya', 'sheria', 'ya', 'urithi', 'aliyodhamini', 'bungeni', 'mnamo', '2019', '.', 'Mswada', 'huo', 'ambapo', 'unawazima', 'wapenzi', 'wa', 'kisiri', 'kurithi', 'mali', 'ya', 'mtu', 'anapofariki', 'sasa', 'ni', 'sheria', 'kufuatia', 'sahihi', 'hiyo', 'ya', 'kiongozi', 'wa', 'taifa', '.', 'Kwa', 'mahojiano', 'na', 'Taifa', 'Leo', 'Jumatano', 'jioni', ',', 'Bw', 'Kaluma', 'alisema', 'kutiwa', 'saini', 'kwa', 'mswada', 'huo', 'ni', 'ushindi', 'mkubwa', 'kwa', 'wanaume', 'na', 'pigo', 'kubwa', 'kwa', 'wapenzi', 'hao', ',', 'maarufu', 'kama', '“', 'mipango', 'ya', 'kando', '”', 'au', '“', 'slay', 'queens', '”', 'ambao', 'hutokea', 'na', 'kudai', 'wagawiwe', 'mali', 'ya', 'wanaume', 'waliofariki', '.', 'Hii', 'ni', 'licha', 'ya', 'kwamba', 'hawakuwa', 'katika', 'uhusiano', 'halali', 'wa', 'ndoa', 'na', 'wanaume', 'hawa', 'walipokuwa', 'hai', '.', 'Kumekuwa', 'na', 'visa', 'vingi', 'vya', 'familia', 'ya', 'wanaume', ',', 'haswa', 'matajiri', 'au', 'watu', 'wenye', 'ushawishi', 'wa', 'kisiasa', ',', 'kuhangaishwa', 'na', 'wanawake', 'wanaodai', 'mali', 'kwa', 'misingi', 'kuwa', 'walipata', 'watoto', 'katika', 'mahusiano', 'yao', '(', 'haramu', ')', '.', '“', 'Leo', 'ni', 'siku', 'ya', 'furaha', 'kuu', 'kwangu', 'kama', 'mbunge', '.', 'Matapeli', 'ambao', 'wamekuwa', 'wakivizia', 'mali', 'ya', 'wafu', 'wamezimwa', '.', 'Ni', 'wale', 'walioko', 'katika', 'ndoa', 'halali', 'inayotambuliwa', 'chini', 'ya', 'Sheria', 'ya', 'Ndoa', 'ndio', 'sasa', 'watarithi', 'mali', 'ya', 'marehemu', ',', '”', 'Bw', 'Kaluma', 'akaongeza', '.', 'Alisema', 'sheria', 'hiyo', 'inalinda', 'watoto', 'wa', 'mwendazake', 'pekee', 'na', 'wala', 'sio', 'wanawake', 'ambao', 'hutokea', 'na', 'kudai', 'mali', '.', '“', 'Lakini', 'ningetaka', 'ieleweke', 'kuwa', 'watoto', 'wa', 'marehemu', 'aliopata', 'na', 'mkewe', 'wa', 'ndoa', 'au', 'mpenzi', 'wake', 'wa', 'kando', 'wamelindwa', 'na', 'sheria', 'hii', '.', 'Watoto', 'wote', 'wa', 'mwanamume', 'aliyefariki', 'watapata', 'urithi', 'wa', 'mali', 'yake', ',', '”', 'Bw', 'Kaluma', ',', 'ambaye', 'ni', 'mwanasheria', ',', 'alisema', '.']\n",
      "\n",
      " Number of Words:  1004\n"
     ]
    }
   ],
   "source": [
    "file=\"21nov17.txt\"\n",
    "\n",
    "# calling the function and storing the contents in a text variable \n",
    "text1 = get_document(\"https://taifaleo.nation.co.ke/ukiukaji-wa-haki-za-miguna-hatari-kwa-nchi/\")\n",
    "text2 = get_document(\"https://taifaleo.nation.co.ke/mkazi-adai-hakimiliki-za-bottom-up/\")\n",
    "text3 = get_document(\"https://taifaleo.nation.co.ke/utafunaji-miraa-unaharibu-hali-ya-usafi-jaji/\")\n",
    "text5 = get_document(\"https://taifaleo.nation.co.ke/afurahia-kutiwa-saini-kwa-mswada-wa-kuzima-mpango-wa-kando-katika-urithi/\")\n",
    "\n",
    "# calling the store_ document function \n",
    "store_document(doc=text1,name=file)\n",
    "store_document(doc=text2,name=file)\n",
    "store_document(doc=text3,name=file)\n",
    "store_document(doc=text5,name=file)\n",
    "\n",
    "#add the words in this file to the total_corpus_words, to keep count of the number of words in the corpus\n",
    "total_corpus_words+=total_words(file)"
   ]
  },
  {
   "cell_type": "code",
   "execution_count": 53,
   "metadata": {},
   "outputs": [
    {
     "data": {
      "text/plain": [
       "787738"
      ]
     },
     "execution_count": 53,
     "metadata": {},
     "output_type": "execute_result"
    }
   ],
   "source": [
    "total_corpus_words"
   ]
  },
  {
   "cell_type": "code",
   "execution_count": 56,
   "metadata": {},
   "outputs": [
    {
     "name": "stdout",
     "output_type": "stream",
     "text": [
      "['MKU', 'yaendesha', 'kongamano', 'la', 'kibiashara', 'CHUO', 'Kikuu', 'cha', 'Mount', 'Kenya', '(', 'MKU', ')', ',', 'na', 'kituo', 'cha', 'YUNUS', 'Centre', ',', 'zimefanya', 'kongamano', 'la', 'kumi', 'la', 'pamoja', 'la', 'Social', 'Business', 'Academic', 'Conference', '(', 'SBAC', ')', '.', 'Kongamano', 'hilo', 'lililoendeshwa', 'kwa', 'njia', 'mseto', 'ya', 'mtandaoni', 'na', 'pia', 'kuhudhuriwa', 'moja', 'kwa', 'moja', ',', 'liliwaleta', 'pamoja', 'watafiti', ',', 'wasomi', 'na', 'wanafunzi', 'kutoka', 'ulimwenguni', 'kote', 'ambapo', 'walijadiliana', 'maswala', 'ya', 'ubunifu', 'na', 'biashara', '.', 'Kongamano', 'hilo', 'liliendesha', 'kwa', 'siku', 'tatu', 'mfululizo', 'kuanzia', 'Novemba', '4', ',', '2021', 'hadi', 'Novemba', '6', ',', '2021', '.', 'Msomi', 'huyo', 'anatambulika', 'sana', 'kwa', 'maswala', 'ya', 'kibiashara', ',', 'uchumi', ',', 'benki', 'na', 'haki', 'za', 'kibinadamu', '.', 'Profesa', 'Yunus', 'anatambulika', 'kutokana', 'na', 'ubunifu', 'wake', 'wa', 'kuzindua', 'benki', 'ya', 'Grameen', ',', 'na', 'kuanzisha', 'biashara', 'za', 'chini', '.', 'Naibu', 'Chansela', 'wa', 'MKU', 'Profesa', 'Deagratius', 'Jaganyi', ',', 'alitaja', 'chuo', 'hicho', 'kama', 'cha', 'kimataifa', 'kwa', 'hatua', 'ambazo', 'kimepiga', 'kufikia', 'sasa', '.', '“', 'Tunaweza', 'kujivunia', 'hatua', 'ambayo', 'tumepiga', 'ya', 'kukabiliana', 'na', 'kuangamiza', 'umaskini', ',', 'njaa', 'na', 'kuhifadhi', 'mazingira', 'kwa', 'njia', 'zote', ',', '”', 'alifafanua', 'msomi', 'huyo', '.', 'Alisema', 'ushirikiano', 'uliopo', 'kati', 'ya', 'kituo', 'cha', 'Social', 'Business', 'Centre', 'cha', 'Prof', 'Yunus', ',', 'ni', 'hatua', 'kubwa', 'ya', 'kujivunia', 'kwa', 'sababu', 'italeta', 'maendeleo', 'makubwa', '.', 'Kongamano', 'lililofanyika', 'mwaka', 'huu', 'kupitia', 'kituo', 'cha', 'Yunus', 'liliangazia', 'mtaala', 'wa', 'masomo', 'kuhusu', 'biashara', 'na', 'utafiti', 'kwa', 'lengo', 'la', 'kuangazia', 'eneo', 'la', 'Afrika', 'Mashariki', 'na', 'Kati', ',', 'huku', 'yaliyozungumzwa', 'yakijumuisha', 'maoni', 'ya', 'wasomi', 'kutoka', 'ulimwengu', 'mzima', '.', 'Maswala', 'mengi', 'yaliyoangaziwa', 'ni', 'kuhusu', 'jinsi', 'ya', 'kuboresha', 'elimu', 'katika', 'eneo', 'la', 'Afrika', 'Mashariki', '.', 'Wakati', 'wa', 'ufunguzi', 'wa', 'ukumbi', 'wa', 'Mwai', 'Kibaki', 'Convention', 'Centre', 'hivi', 'majuzi', ',', 'Naibu', 'Chansela', 'Profesa', 'Jaganyi', 'alisema', 'una', 'uwezo', 'wa', 'kujaza', 'watu', '2,000', 'kwa', 'wakati', 'moja', 'kwa', 'maswala', 'ya', 'masomo', '.', '“', 'Tunajivunia', 'ukumbi', 'huo', 'kama', 'chuo', 'kwa', 'sababu', 'tutaweza', 'kujumuisha', 'watu', 'wanaoendesha', 'mikutano', 'ya', 'pamoja', ',', 'mikutano', 'ya', 'mameneja', ',', 'na', 'wanafunzi', 'kwa', 'jumla', '.', 'Alisema', 'chuo', 'hicho', 'kinatafuta', 'mbinu', 'ya', 'jinsi', 'ya', 'kupokea', 'mapato', 'ya', 'kifedha', 'ili', 'kuendesha', 'mikutano', 'huku', 'pia', 'wakijaribu', 'kujitambulisha', 'kuwa', 'na', 'raslimali', 'za', 'kisasa', 'na', 'vifaa', 'vya', 'kuvutia', 'wageni', '.', 'Kwa', 'muda', 'mchache', 'sasa', 'ukumbi', 'huo', 'umewaleta', 'pamoja', 'wasomi', 'wengi', 'kwenye', 'makongamano', 'kadha', 'ya', 'hadhi', 'ya', 'kimataifa', '.', 'Ukumbi', 'huo', 'umetajwa', 'kama', 'wa', 'kimataifa', 'kwa', 'sababu', 'vifaa', 'vilivyoko', 'ndani', 'ni', 'vya', 'kisasa', 'vinavyoambatana', 'na', 'viwango', 'vya', 'kimataifa', ',', 'vikiwa', 'na', 'vyumba', 'vingi', 'tofauti', 'vyenye', 'nafasi', 'ya', 'watu', '40', 'kwa', 'kila', 'chumba', 'kwa', 'wakati', 'mmoja', '.', 'Pigo', 'kwa', '‘', 'mpango', 'wa', 'kando', '’', 'Uhuru', 'akisaini', 'sheria', 'kuhusu', 'urithi', 'NI', 'pigo', 'kwa', 'wapenzi', 'wa', 'pembeni', 'baada', 'ya', 'Rais', 'Uhuru', 'Kenyatta', 'kutia', 'saini', 'mswada', 'unaowazima', 'kudai', 'mgao', 'wa', 'urithi', 'wa', 'mali', 'ya', 'marehemu', 'wasiyeoana', 'rasmi', '.', 'Wapenzi', 'hao', ',', 'maarufu', 'kama', 'mpango', 'wa', 'kando', ',', 'na', 'watoto', 'wao', ',', 'wamekuwa', 'wakidai', 'urithi', 'wa', 'mali', 'ya', 'wanaume', 'waliofariki', 'licha', 'ya', 'kwamba', 'hawakuoana', 'rasmi', ',', 'kwa', 'mujibu', 'ya', 'Sheria', 'ya', 'Ndoa', '.', 'Visa', 'hivyo', 'vimekuwa', 'vikitokea', 'baada', 'ya', 'vifo', 'vya', 'wanaume', 'mashuhuri', 'na', 'matajiri', '.', 'Lakini', 'kuanzia', 'sasa', ',', 'wanawake', 'kama', 'hao', 'wataambulia', 'pakavu', 'baada', 'ya', 'Rais', 'Kenyatta', 'kutia', 'saini', 'mswada', 'wa', 'marekebisho', 'ya', 'sheria', 'ya', 'urithi', '.', 'Kulingana', 'na', 'mswada', 'huo', 'uliodhaminiwa', 'na', 'Mbunge', 'wa', 'Homa', 'Bay', 'Mjini', 'Peter', 'Opondo', 'Kaluma', ',', 'ni', 'wanawake', 'na', 'wanaume', 'walioko', 'katika', 'ndoa', 'halali', 'pekee', ',', 'na', 'watoto', 'wao', ',', 'watakaorithi', 'mali', 'ya', 'marehemu', '.', '“', 'Mke', 'au', 'mume', 'ambaye', 'anapaswa', 'kurithi', 'mali', ',', 'sharti', 'awe', 'kwenye', 'ndoa', 'inavyotambuliwa', 'na', 'Sheria', 'ya', 'Ndoa', ',', 'sio', 'rafiki', 'au', 'mpenzi', 'jinsi', 'ilivyo', 'sasa', ',', '”', 'akasema', 'Bw', 'Kaluma', 'katika', 'maelezo', 'kuhusu', 'mswada', 'huo', '.', 'Kulingana', 'na', 'Mbunge', 'huyo', ',', 'ambaye', 'ni', 'wakili', ',', 'nia', 'yake', 'katika', 'kudhamini', 'mswada', 'huo', 'ilikuwa', 'kuzima', 'mazoea', 'ya', 'watu', 'kuchipuza', 'kudai', 'wagawiwe', 'urithi', 'wa', 'mali', 'ya', 'marehemu', 'kwa', 'misingi', 'kuwa', 'walikuwa', 'wapenzi', 'na', 'wakajaaliwa', 'watoto', '.', '“', 'Kumekuwa', 'na', 'visa', 'vingi', 'ambapo', 'watu', ',', 'haswa', 'wanaume', ',', 'hufa', 'na', 'kisha', 'watu', 'ambao', 'hawajahitimu', 'kuwa', 'wake', 'wao', ',', 'kulingana', 'na', 'Sheria', 'ya', 'Ndoa', 'wanatokea', 'wakati', 'mke', 'wako', 'angali', 'anaomboleza', 'na', 'kwenda', 'kortini', 'kudai', 'sehemu', 'ya', 'mali', 'yake', ',', '”', 'Bw', 'Kaluma', 'akaeleza', 'bungeni', 'Agosti', 'wakati', 'wa', 'mjadala', 'kuhusu', 'mswada', 'huo', '.', 'Akaongeza', ':', '“', 'Sio', 'haki', 'kwa', 'mtu', 'ambaye', 'alikuwa', 'akijificha', 'asionekane', 'na', 'familia', 'yake', 'kudai', 'mali', 'ilhali', 'sio', 'mke', 'wako', 'kwa', 'mujibu', 'wa', 'sheria', '.', 'Hii', 'ni', 'sawa', 'na', 'kutapeli', 'familia', 'iliyofiwa.', '”', 'Kwa', 'mfano', ',', 'siku', 'chache', 'baada', 'ya', 'kifo', 'cha', 'aliyekuwa', 'Mbunge', 'wa', 'Matungu', ',', 'Justus', 'Murunga', 'Novemba', '2020', ',', 'mwanamke', 'kwa', 'jina', 'Agnes', 'Wangui', 'aliwasilisha', 'kesi', 'mahakamani', 'akidai', 'wanawe', 'wawili', 'waorodheshwe', 'kama', 'warithi', 'wa', 'mali', 'ya', 'marehemu', '.']\n",
      "\n",
      " Number of Words:  728\n"
     ]
    }
   ],
   "source": [
    "file=\"21nov18.txt\"\n",
    "\n",
    "# calling the function and storing the contents in a text variable \n",
    "text1 = get_document(\"https://taifaleo.nation.co.ke/mku-yaendesha-kongamano-la-kibiashara/\")\n",
    "text2 = get_document(\"https://taifaleo.nation.co.ke/pigo-kwa-mpango-wa-kando/\")\n",
    "\n",
    "# calling the store_ document function \n",
    "store_document(doc=text1,name=file)\n",
    "store_document(doc=text2,name=file)\n",
    "\n",
    "#add the words in this file to the total_corpus_words, to keep count of the number of words in the corpus\n",
    "total_corpus_words+=total_words(file)"
   ]
  },
  {
   "cell_type": "code",
   "execution_count": 57,
   "metadata": {},
   "outputs": [
    {
     "data": {
      "text/plain": [
       "788466"
      ]
     },
     "execution_count": 57,
     "metadata": {},
     "output_type": "execute_result"
    }
   ],
   "source": [
    "total_corpus_words"
   ]
  },
  {
   "cell_type": "code",
   "execution_count": 61,
   "metadata": {},
   "outputs": [
    {
     "name": "stdout",
     "output_type": "stream",
     "text": [
      "['“', 'Hivi', 'majuzi', 'nilisikiliza', 'kesi', 'dhidi', 'ya', 'maafisa', 'wakuu', 'fulani', 'serikalini', 'na', 'kutoa', 'maagizo', 'waadhibiwe', '.', 'Nilishangaa', 'nilipopokea', 'ujumbe', 'kutoka', 'kwa', 'mmoja', 'wao', 'akinitisha', 'na', 'kunionya', 'nijihadhari', ',', '”', 'alisema', 'Jaji', 'Mrima', '.']\n",
      "\n",
      " Number of Words:  33\n"
     ]
    }
   ],
   "source": [
    "file=\"21nov19.txt\"\n",
    "\n",
    "# calling the function and storing the contents in a text variable \n",
    "text1 = get_document(\"https://taifaleo.nation.co.ke/mkuu-wa-dci-ahukumiwa-miezi-minne-jela/\")\n",
    "\n",
    "# calling the store_ document function \n",
    "store_document(doc=text1,name=file)\n",
    "\n",
    "#add the words in this file to the total_corpus_words, to keep count of the number of words in the corpus\n",
    "total_corpus_words+=total_words(file)"
   ]
  },
  {
   "cell_type": "code",
   "execution_count": 62,
   "metadata": {},
   "outputs": [
    {
     "data": {
      "text/plain": [
       "788499"
      ]
     },
     "execution_count": 62,
     "metadata": {},
     "output_type": "execute_result"
    }
   ],
   "source": [
    "total_corpus_words"
   ]
  },
  {
   "cell_type": "code",
   "execution_count": 64,
   "metadata": {},
   "outputs": [
    {
     "name": "stdout",
     "output_type": "stream",
     "text": [
      "['Afueni', 'kwa', 'wakimbizi', 'WAKIMBIZI', 'sasa', 'wamepata', 'afueni', 'baada', 'ya', 'Rais', 'Uhuru', 'Kenyatta', 'kutia', 'saini', 'mswada', 'unaowapa', 'uhuru', 'wa', 'kuendelea', 'kuishi', 'nchini', 'kwa', 'kupata', 'ajira', 'na', 'kuishi', 'popote', '.', 'Kufutia', 'hatua', 'hiyo', ',', 'zaidi', 'ya', 'wakimbizi', '400,000', 'wanaoishi', 'katika', 'kambi', 'ya', 'za', 'Dadaab', 'na', 'Kakuma', 'sasa', 'hawatarejeshwa', 'kwao', 'kwa', 'nguvu', 'jinsi', 'serikali', 'ilivyopanga', 'kufanya', 'miaka', 'miwili', 'iliyopita', '.', 'Kenya', 'ilikuwa', 'inapanga', 'kufunga', 'kambi', 'ya', 'Dadaab', 'iliyoko', 'Kaunti', 'ya', 'Garissa', ',', 'na', 'ile', 'ya', 'Kakuma', 'iliyoko', 'Kaunti', 'ya', 'Turkana', 'kutokana', 'na', 'kile', 'ilichosema', 'ni', '“', 'sababu', 'za', 'kiusalama.', '”', 'Waziri', 'wa', 'Usalama', 'wa', 'Ndani', 'Fred', 'Matiang', '’', 'i', 'mnamo', '2019', 'alitaja', 'kambi', 'hizo', 'kama', 'tishio', 'kwa', 'usalama', 'nchini', 'kwa', 'kugeuzwa', 'vituo', 'vya', 'wafuasi', 'wa', 'makundi', 'ya', 'kigaidi', '.', '“', 'Kambi', 'za', 'wakimbizi', 'hazipaswi', 'kusalia', 'milele', ',', 'zinafaa', 'kuwa', 'vituo', 'vya', 'muda', '.', 'Tunawezaje', 'kubeba', 'mzigo', 'huo', 'kwa', 'miaka', '30', '?', 'Wakati', 'umewadia', 'kwa', 'kambi', 'hizi', 'kufungwa', 'kwa', 'sababu', 'zimegeuka', 'kuwa', 'maficho', 'ya', 'magaidi', ',', '”', 'Dkt', 'Matiang', '’', 'i', 'akasema', '.', 'Lakini', 'sasa', 'kupitia', 'kutiwa', 'saini', 'kwa', 'Mswada', 'wa', 'Marekebisho', 'ya', 'Sheria', 'ya', 'Wakimbizi', '2019', 'na', 'Rais', 'Kenyatta', 'mnamo', 'Alhamisi', ',', 'serikali', 'itasitisha', 'mpango', 'huo', '.', 'Chini', 'ya', 'sheria', 'hii', ',', 'wakimbizi', 'sasa', 'wataruhusiwa', 'kusaka', 'usaidizi', 'wa', 'mahakama', 'za', 'humu', 'nchini', 'endapo', 'watahisi', 'haki', 'zao', 'kuingiliwa', '.', '“', 'Mswada', 'huo', 'pia', 'umefungua', 'milango', 'kwa', 'wafadhili', ',', 'yakiwemo', 'mashiriki', 'ya', 'Umoja', 'ya', 'Mataifa', '(', 'UN', ')', 'kuelekeza', 'pesa', 'za', 'kusaidia', 'wakimbizi', 'wanaoishi', 'nchini', 'Kenya', '.', 'Kenya', 'itapokea', 'zaidi', 'ya', 'Sh4', 'bilioni', 'kila', 'mwaka', 'kwa', 'ajili', 'ya', 'mpango', 'huu', ',', '”', 'akasema', 'Mbunge', 'wa', 'Homa', 'Bay', 'ambaye', 'ni', 'Mwanachama', 'wa', 'Kamati', 'ya', 'Bunge', 'kuhusu', 'Usalama', '.', 'Kwa', 'ujumla', ',', 'Kenya', 'inahifadhi', 'zaidi', 'ya', 'wakimbizi', '520,000', 'kutoka', 'mataifa', 'mbalimbali', 'jirani', '.', 'Wengi', 'wanatoka', 'Somalia', ',', 'Sudan', 'Kusini', ',', 'Ethiopia', 'na', 'Jamhuri', 'ya', 'Kidemokrasia', 'ya', 'Congo', '(', 'DRC', ')', '.']\n",
      "\n",
      " Number of Words:  294\n"
     ]
    }
   ],
   "source": [
    "file=\"21nov20.txt\"\n",
    "\n",
    "# calling the function and storing the contents in a text variable \n",
    "text2 = get_document(\"https://taifaleo.nation.co.ke/afueni-kwa-wakimbizi/\")\n",
    "\n",
    "# calling the store_ document function \n",
    "store_document(doc=text2,name=file)\n",
    "\n",
    "#add the words in this file to the total_corpus_words, to keep count of the number of words in the corpus\n",
    "total_corpus_words+=total_words(file)"
   ]
  },
  {
   "cell_type": "code",
   "execution_count": 65,
   "metadata": {},
   "outputs": [
    {
     "data": {
      "text/plain": [
       "788793"
      ]
     },
     "execution_count": 65,
     "metadata": {},
     "output_type": "execute_result"
    }
   ],
   "source": [
    "total_corpus_words"
   ]
  },
  {
   "cell_type": "code",
   "execution_count": 66,
   "metadata": {},
   "outputs": [
    {
     "name": "stdout",
     "output_type": "stream",
     "text": [
      "['3', 'walazwa', 'hospitalini', 'Marsabit', 'baada', 'ya', 'kushambuliwa', 'WATU', 'watatu', 'wamelazwa', 'katika', 'Hospitali', 'ya', 'Rufaa', 'ya', 'Marsabit', 'wakiwa', 'na', 'majeraha', 'ya', 'risasi', 'baada', 'ya', 'kushambuliwa', 'nyumbani', 'kwao', 'eneo', 'la', 'Kiwanja', 'Ndege', ',', 'Ijumaa', '.', 'Watatu', 'hao', ',', 'mwanamume', ',', 'mwanamke', 'na', 'mtoto', ',', 'walishambuliwa', 'mwendo', 'wa', 'saa', 'kumi', 'alifajiri', 'na', 'watu', 'wasiojulikana', 'waliotoroka', 'kwa', 'pikipiki', '.', 'Naibu', 'Kamishna', 'wa', 'Kaunti', 'ya', 'Marsabit', 'David', 'Saruni', 'alisema', 'maafisa', 'wa', 'usalama', 'wangali', 'wanawafuata', 'washambuliaji', 'hawa', 'wawili', 'ambao', 'inaaminika', 'walitorokea', 'upande', 'wa', 'eneo', 'la', 'Dakabaricha', '.', '“', 'Tunafanya', 'kila', 'tuwezalo', 'kuwakamata', 'wahalifu', 'hao', 'ili', 'wafunguliwe', 'mashtaka', '.', 'Naomba', 'wanajamii', 'kutofanya', 'mashambulio', 'ya', 'kilipiza', 'kisasi', 'ambayo', 'yanaweza', 'kugeuza', 'hali', 'kuwa', 'mbaya', 'zaidi', '.', 'Wakazi', 'sharti', 'waelewe', 'kwamba', 'pikipiki', 'za', 'uchukuzi', 'wa', 'abiria', 'zimepigwa', 'marufuku', 'kuhudumu', 'katikati', 'mwa', 'mji', 'wa', 'Marsabit', '.', 'Marufuku', 'hiyo', 'iliwekwa', 'mnamo', 'Novemba', '6', 'na', 'Makati', 'ya', 'usalama', 'katika', 'kaunti', ',', '”', 'akasema', 'Bw', 'Saruni', '.', 'Marufuku', 'hiyo', 'iliwekwa', 'baada', 'ya', 'uchunguzi', 'kubaini', 'kuwa', 'visa', 'vingine', 'vya', 'watu', 'kuawa', 'mjini', 'Marsabiti', 'vilitekelezwa', 'na', 'watu', 'waliokuwa', 'wakisafiri', 'kwa', 'pikipiki', '.', 'Kisa', 'cha', 'hivi', 'punde', 'kilifanyika', 'Jumatano', 'ambapo', 'mtu', 'moja', 'aliuawa', 'na', 'mwingine', 'akajeruhiwa', 'kwa', 'kushambuliwa', 'na', 'watu', 'wasiojulikana', 'na', 'waliokuwa', 'wakisafiri', 'kwa', 'pikipiki', '.']\n",
      "\n",
      " Number of Words:  190\n"
     ]
    }
   ],
   "source": [
    "file=\"21nov21.txt\"\n",
    "\n",
    "# calling the function and storing the contents in a text variable \n",
    "text1 = get_document(\"https://taifaleo.nation.co.ke/3-walazwa-hospitalini-marsabit-baada-ya-kushambuliwa/\")\n",
    "\n",
    "# calling the store_ document function \n",
    "store_document(doc=text1,name=file)\n",
    "\n",
    "#add the words in this file to the total_corpus_words, to keep count of the number of words in the corpus\n",
    "total_corpus_words+=total_words(file)"
   ]
  },
  {
   "cell_type": "code",
   "execution_count": 67,
   "metadata": {},
   "outputs": [
    {
     "data": {
      "text/plain": [
       "788983"
      ]
     },
     "execution_count": 67,
     "metadata": {},
     "output_type": "execute_result"
    }
   ],
   "source": [
    "total_corpus_words"
   ]
  },
  {
   "cell_type": "code",
   "execution_count": 68,
   "metadata": {},
   "outputs": [
    {
     "name": "stdout",
     "output_type": "stream",
     "text": [
      "['Wakazi', 'wa', 'Thika', 'kunufaika', 'pakubwa', 'ukarabati', 'wa', 'barabara', 'ya', 'kilomita', '20', 'ukiendelea', 'WAKAZI', 'wa', 'Thika', 'na', 'vitongoji', 'vyake', ',', 'watanufaika', 'na', 'ukarabati', 'wa', 'barabara', 'ya', 'kilomita', '20', 'chini', 'ya', 'mpango', 'uliofadhiliwa', 'na', 'serikali', 'ya', 'Kaunti', 'ya', 'Kiambu', '.', 'Gavana', 'wa', 'Kaunti', 'ya', 'Kiambu', 'Dkt', 'James', 'Nyoro', ',', 'alieleza', 'kuwa', 'mradi', 'huo', 'wa', 'barabara', 'unastahili', 'kukamilika', 'chini', 'ya', 'miezi', 'mitatu', 'ijayo', '.', '“', 'Tunataka', 'kuhakikisha', 'vijana', 'wetu', 'wasio', 'na', 'ajira', 'wanapewa', 'nafasi', 'ya', 'kwanza', 'wakati', 'mradi', 'huo', 'unapoendelea', ',', '”', 'alifafanua', 'gavana', 'huyo', '.', 'Kulingana', 'na', 'mipango', 'yake', 'vijana', 'wapatao', '90', 'wataajiriwa', 'kazi', 'ili', 'kujihusisha', 'na', 'ukarabati', 'wa', 'barabara', 'hiyo', '.', 'Gavana', 'wa', 'Kaunti', 'ya', 'Kiambu', 'Dkt', 'James', 'Nyoro', '.', 'PICHA', '|', 'LAWRENCE', 'ONGARO', 'Alieleza', 'kuwa', 'vijana', '30', 'watatoka', 'mjini', 'Thika', ',', 'wengine', '30', 'watatolewa', 'katika', 'kijiji', 'cha', 'Kiandutu', ',', 'halafu', 'idadi', 'nyingine', 'ya', 'vijana', '30', 'watatoka', 'katika', 'kijiji', 'cha', 'Ngoingwa', '.', 'Alieleza', 'kuwa', 'mpango', 'huo', 'utaleta', 'mabadiliko', 'makubwa', 'katika', 'eneo', 'lote', 'la', 'Thika', 'kwa', 'sababu', 'vijana', 'wengi', 'watapata', 'ajira', '.', 'Aliyasema', 'hayo', 'mnamo', 'Ijumaa', 'wiki', 'jana', 'wakati', 'wa', 'uzinduzi', 'wa', 'barabara', 'hiyo', 'katika', 'eneo', 'la', 'Ngoingwa', ',', 'mjini', 'Thika', '.', 'Alieleza', 'wakazi', 'hao', 'kuwa', 'kwa', 'muda', 'wa', 'miezi', 'tisa', 'iliyosalia', 'kabla', 'ya', 'tarehe', 'ya', 'uchaguzi', 'mkuu', 'mwakani', ',', 'Kaunti', 'ya', 'Kiambu', 'itafanya', 'juhudi', 'kuona', 'ya', 'kwamba', 'miradi', 'yote', 'iliyozinduliwa', 'wakati', 'wa', 'uongozi', 'wake', 'inakamilika', 'mara', 'moja', '.', '“', 'Tunajua', 'itakapofika', 'wakati', 'wa', 'kampeni', 'viongozi', 'wengi', 'watakuja', 'kwenu', 'na', 'lugha', 'tamu', 'wakiwaomba', 'kura', '.', 'Kwa', 'hivyo', 'ninawashauri', 'muwe', 'chonjo', 'na', 'viongozi', 'hao', 'kwa', 'kuwachunguza', 'zaidi', ',', '”', 'alifafanua', 'gavana', 'huyo', '.', 'Alisema', 'watu', 'wa', 'Mlima', 'Kenya', 'watatafuta', 'kiongozi', 'ambaye', 'atawahakikishia', 'amani', 'na', 'wawe', 'na', 'mazingira', 'mazuri', 'ya', 'kuendesha', 'biashara', 'zao', '.', '“', 'Hatutamkubali', 'kiongozi', 'yeyote', 'anayetumia', 'matusi', 'kutafuta', 'kura', 'za', 'Mlima', 'Kenya', '.', 'Ni', 'sharti', 'pia', 'kila', 'kiongozi', 'aheshimu', 'afisi', 'ya', 'rais', 'bila', 'kuongeza', 'matusi', ',', '”', 'alieleza', '.', 'Wakati', 'huo', 'pia', 'Askofu', 'wa', 'Kanisa', 'la', 'The', 'Calvary', 'Church', 'mjini', 'Thika', ',', 'Bw', 'David', 'Kariuki', 'Ngari', ',', 'aliwashauri', 'wakazi', 'wa', 'Thika', 'wamchague', 'kiongozi', 'kutoka', 'eneo', 'hilo', 'badala', 'ya', 'kutoka', 'maeneo', 'mengine', '.', '“', 'Nyingi', 'wakazi', 'wa', 'Thika', 'mumekuwa', 'mkiwachagua', 'viongozi', 'wa', 'kutoka', 'nje', 'ya', 'mji', 'wa', 'Thika', 'na', 'ni', 'wazi', 'viongozi', 'hao', 'hawana', 'mwelekeo', 'mwema', 'na', 'nyinyi', ',', '”', 'alifafanua', 'Askofu', 'Ngari', '.', 'Alisema', 'yeye', 'kama', 'mzaliwa', 'wa', 'kijiji', 'cha', 'Munyu', 'na', 'kulelewa', 'Thika', 'angetaka', 'kuwatumikia', 'wakazi', 'wa', 'Thika', 'kama', 'mbunge', 'wao', '.', '“', 'Ninakuja', 'kwa', 'unyenyekevu', 'mbele', 'yenu', 'na', 'kuwajulisha', 'ya', 'kwamba', 'ningetaka', 'mnichague', 'kama', 'mbunge', 'wenu', 'wa', 'kutoka', 'hapa', 'Thika', ',', '”', 'alijitetea', 'kwa', 'wananchi', '.', 'Alisema', 'wakazi', 'wa', 'Thika', 'wanahitaji', 'kufanyiwa', 'mambo', 'mengi', 'ya', 'kimsingi', 'na', 'yeye', 'kama', 'mchungaji', 'ana', 'jawabu', 'kwa', 'hayo', 'yote', '.']\n",
      "\n",
      " Number of Words:  427\n"
     ]
    }
   ],
   "source": [
    "file=\"21nov22.txt\"\n",
    "\n",
    "# calling the function and storing the contents in a text variable \n",
    "text1 = get_document(\"https://taifaleo.nation.co.ke/ukarabati-wa-barabara-thika/\")\n",
    "\n",
    "# calling the store_ document function \n",
    "store_document(doc=text1,name=file)\n",
    "\n",
    "#add the words in this file to the total_corpus_words, to keep count of the number of words in the corpus\n",
    "total_corpus_words+=total_words(file)"
   ]
  },
  {
   "cell_type": "code",
   "execution_count": 69,
   "metadata": {},
   "outputs": [
    {
     "data": {
      "text/plain": [
       "789410"
      ]
     },
     "execution_count": 69,
     "metadata": {},
     "output_type": "execute_result"
    }
   ],
   "source": [
    "total_corpus_words"
   ]
  },
  {
   "cell_type": "code",
   "execution_count": 72,
   "metadata": {},
   "outputs": [
    {
     "name": "stdout",
     "output_type": "stream",
     "text": [
      "['Kulingana', 'na', 'wachanganuzi', 'wa', 'siasa', ',', 'Bw', 'Sonko', 'anatoa', 'vitisho', 'hivyo', 'makusudi', 'kwa', 'kuwa', 'uchaguzi', 'mkuu', 'unakaribia', 'na', 'wanasiasa', 'wengi', 'wanaazimia', 'kugombea', 'viti', 'mbali', 'mbali', '.', '“', 'Bw', 'Sonko', 'anajua', 'anachofanya', '.', 'Analenga', 'wanasiasa', 'na', 'maafisa', 'wa', 'serikali', 'kwa', 'sababu', 'uchaguzi', 'mkuu', 'unakaribia', 'na', 'anaweza', 'kuwa', 'sumu', 'kwa', 'wengi', 'ikizingatiwa', 'alipokuwa', 'gavana', ',', 'alikuwa', 'akitembelewa', 'na', 'kukutana', 'na', 'wengi', 'wao', ',', 'baadhi', 'ambao', 'huenda', 'walitaka', 'wasaidiane', 'kwa', 'njia', 'moja', 'au', 'nyingine', 'viongozi', 'wanavyofanya', 'kila', 'wakati', ',', '”', 'asema', 'mchaganuzi', 'wa', 'siasa', 'Geff', 'Kamwanah', '.', 'KISASI', 'Vile', 'vile', ',', 'anasema', 'kwamba', 'Bw', 'Sonko', 'anaonekana', 'kuwa', 'na', 'kisasi', 'na', 'watu', 'ambao', 'walichangia', 'kwa', 'njia', 'moja', 'au', 'nyingine', 'masaibu', 'yake', 'ya', 'kisiasa', 'na', 'hata', 'kibiashara', '.', '“', 'Anaonekana', 'kuwa', 'na', 'kisasi', 'na', 'baadhi', 'ya', 'watu', 'hasa', 'wale', 'anaohisi', 'walihusika', 'na', 'kutimuliwa', 'kwake', 'ofisini', '.', 'Kwa', 'sasa', 'hakuna', 'anayefahamu', 'ataanika', 'nani', 'siku', 'zijazo', 'hasa', 'kabla', 'ya', 'uchaguzi', 'mkuu', 'ujao', ',', '”', 'asema', 'Bw', 'Kamwanah', '.', 'Wachanganuzi', 'wanasema', 'wanaofaa', 'kuingiwa', 'na', 'wasiwasi', 'ni', 'wale', 'ambao', 'wamewahi', 'kutangamana', 'naye', 'kwa', 'shughuli', 'zisizo', 'rasmi', '.', '“', 'Tabia', 'ya', 'Bw', 'Sonko', 'inaweza', 'kuporomosha', 'maisha', 'ya', 'kisiasa', 'na', 'kitaaluma', 'ya', 'watu', 'wengi', 'hasa', 'walio', 'katika', 'utumishi', 'wa', 'umma', 'na', 'biashara', 'ambazo', 'zinahitaji', 'kulindwa', 'ili', 'kudumisha', 'imani', 'ya', 'wateja', ',', '”', 'asema', 'Bi', 'Beth', 'Wanjira', ',', 'mtaalamu', 'wa', 'masuala', 'maadili', '.', 'Anasema', 'anachofanya', 'Bw', 'Sonko', 'ni', 'kubomoa', 'imani', 'ambayo', 'watu', 'walikuwa', 'nayo', 'kwake', '.', '“', 'Anatoa', 'taswira', 'ya', 'mtu', 'ambaye', 'amekata', 'tamaa', ',', 'anayejitosheleza', 'na', 'ambaye', 'hahitaji', 'watu', 'katika', 'maisha', 'na', 'shughuli', 'zake', 'za', 'kila', 'siku', '.', 'Watu', 'watakuwa', 'wakimuambaa', ',', '”', 'asema', '.', 'Akihojiwa', 'na', 'runinga', 'maarufu', 'nchini', 'wiki', 'jana', ',', 'Bw', 'Sonko', 'alisema', 'kwamba', 'alisema', 'lengo', 'lake', 'la', 'kurekodi', 'mikutano', 'na', 'mawasiliano', 'yake', 'na', 'watu', 'ni', 'kusaidia', 'kupigana', 'na', 'uepukaji', 'wa', 'adhabu', 'nchini', 'kwa', 'wanaofanya', 'makosa', '.', 'Afueni', 'kwa', 'wakimbizi', 'WAKIMBIZI', 'sasa', 'wamepata', 'afueni', 'baada', 'ya', 'Rais', 'Uhuru', 'Kenyatta', 'kutia', 'saini', 'mswada', 'unaowapa', 'uhuru', 'wa', 'kuendelea', 'kuishi', 'nchini', 'kwa', 'kupata', 'ajira', 'na', 'kuishi', 'popote', '.', 'Kufutia', 'hatua', 'hiyo', ',', 'zaidi', 'ya', 'wakimbizi', '400,000', 'wanaoishi', 'katika', 'kambi', 'ya', 'za', 'Dadaab', 'na', 'Kakuma', 'sasa', 'hawatarejeshwa', 'kwao', 'kwa', 'nguvu', 'jinsi', 'serikali', 'ilivyopanga', 'kufanya', 'miaka', 'miwili', 'iliyopita', '.', 'Kenya', 'ilikuwa', 'inapanga', 'kufunga', 'kambi', 'ya', 'Dadaab', 'iliyoko', 'Kaunti', 'ya', 'Garissa', ',', 'na', 'ile', 'ya', 'Kakuma', 'iliyoko', 'Kaunti', 'ya', 'Turkana', 'kutokana', 'na', 'kile', 'ilichosema', 'ni', '“', 'sababu', 'za', 'kiusalama.', '”', 'Waziri', 'wa', 'Usalama', 'wa', 'Ndani', 'Fred', 'Matiang', '’', 'i', 'mnamo', '2019', 'alitaja', 'kambi', 'hizo', 'kama', 'tishio', 'kwa', 'usalama', 'nchini', 'kwa', 'kugeuzwa', 'vituo', 'vya', 'wafuasi', 'wa', 'makundi', 'ya', 'kigaidi', '.', '“', 'Kambi', 'za', 'wakimbizi', 'hazipaswi', 'kusalia', 'milele', ',', 'zinafaa', 'kuwa', 'vituo', 'vya', 'muda', '.', 'Tunawezaje', 'kubeba', 'mzigo', 'huo', 'kwa', 'miaka', '30', '?', 'Wakati', 'umewadia', 'kwa', 'kambi', 'hizi', 'kufungwa', 'kwa', 'sababu', 'zimegeuka', 'kuwa', 'maficho', 'ya', 'magaidi', ',', '”', 'Dkt', 'Matiang', '’', 'i', 'akasema', '.', 'Lakini', 'sasa', 'kupitia', 'kutiwa', 'saini', 'kwa', 'Mswada', 'wa', 'Marekebisho', 'ya', 'Sheria', 'ya', 'Wakimbizi', '2019', 'na', 'Rais', 'Kenyatta', 'mnamo', 'Alhamisi', ',', 'serikali', 'itasitisha', 'mpango', 'huo', '.', 'Chini', 'ya', 'sheria', 'hii', ',', 'wakimbizi', 'sasa', 'wataruhusiwa', 'kusaka', 'usaidizi', 'wa', 'mahakama', 'za', 'humu', 'nchini', 'endapo', 'watahisi', 'haki', 'zao', 'kuingiliwa', '.', '“', 'Mswada', 'huo', 'pia', 'umefungua', 'milango', 'kwa', 'wafadhili', ',', 'yakiwemo', 'mashiriki', 'ya', 'Umoja', 'ya', 'Mataifa', '(', 'UN', ')', 'kuelekeza', 'pesa', 'za', 'kusaidia', 'wakimbizi', 'wanaoishi', 'nchini', 'Kenya', '.', 'Kenya', 'itapokea', 'zaidi', 'ya', 'Sh4', 'bilioni', 'kila', 'mwaka', 'kwa', 'ajili', 'ya', 'mpango', 'huu', ',', '”', 'akasema', 'Mbunge', 'wa', 'Homa', 'Bay', 'ambaye', 'ni', 'Mwanachama', 'wa', 'Kamati', 'ya', 'Bunge', 'kuhusu', 'Usalama', '.', 'Kwa', 'ujumla', ',', 'Kenya', 'inahifadhi', 'zaidi', 'ya', 'wakimbizi', '520,000', 'kutoka', 'mataifa', 'mbalimbali', 'jirani', '.', 'Wengi', 'wanatoka', 'Somalia', ',', 'Sudan', 'Kusini', ',', 'Ethiopia', 'na', 'Jamhuri', 'ya', 'Kidemokrasia', 'ya', 'Congo', '(', 'DRC', ')', '.', 'Wanafunzi', '2,000', 'Mukuru', 'wapigwa', 'jeki', 'kielimu', 'WANAFUNZI', 'zaidi', 'ya', '2,000', 'wamepigwa', 'jeki', 'kielimu', 'baada', 'ya', 'kampuni', 'moja', 'kuahidi', 'kutoa', 'msaada', 'kwa', 'watoto', 'hao', 'eneo', 'la', 'Mukuru', '.', 'Maafisa', 'kutoka', 'kampuni', 'ya', 'Lions', 'Head', 'walitembelea', 'shule', 'mbili', 'za', 'msingi', 'zinazosimamiwa', 'na', 'Mukuru', 'Promotion', 'Centre', '(', 'MPC', ')', 'katika', 'eneobunge', 'la', 'Makadara', ',', 'kaunti', 'ya', 'Nairobi', '.', 'Aidha', ',', 'walizuru', 'katika', 'shule', 'ya', 'msingi', 'ya', 'Sancta', 'Maria-Mukuru', 'na', 'shule', 'ya', 'msingi', 'ya', 'St', 'Catherine', 'ili', 'waone', 'ni', 'msaada', 'upi', 'watakaotoa', '.', 'Shule', 'hizo', 'ni', 'za', 'umma', '.', 'Zaidi', 'ya', 'hayo', ',', 'mkurugenzi', 'mkuu', 'wa', 'MPC', ',', 'Mtawa', 'Mary', 'Killeen', 'aliambia', 'wanahabari', 'kwamba', 'kampuni', 'hiyo', 'itashirikiana', 'na', 'wafadhili', 'wengine-Team', 'Pankaj', 'kufadhili', 'shule', 'zoteb', 'mbili', '.', '“', 'Kampuni', 'ya', 'Lions', 'Head', 'itashirikiana', 'kutoa', 'msaada', 'wake', 'na', 'wenzao', 'wa', 'Team', 'Pankaj-kundi', 'la', 'wahisani', 'wa', 'hapa', 'nchini', 'ambao', 'hutoa', 'msaada', 'wa', 'chakula', 'kwa', 'wanafunzi', 'zaidi', 'ya', '6,000', 'katika', 'shule', 'zetu', 'za', 'MPC', ',', '”', 'Mtawa', 'Mary', 'akasema', '.', 'Hata', 'hivyo', ',', 'mtawa', 'Mary', 'aliongeza', 'kwamba', 'kampuni', 'hiyo', 'haikufafanua', 'zaidi', 'ni', 'msaada', 'wa', 'aina', 'gani', 'watatoa', 'ila', 'kusema', 'watapanga', 'na', 'kuamua', 'kisha', 'kutangaza', 'watasaidia', 'shule', 'hizo', 'kwa', 'namna', 'gani', '.', 'MPC', 'ni', 'shirika', 'la', 'kidini', 'linalotoa', 'msaada', 'kwa', 'wanafunzi', 'katika', 'shule', 'nne', 'za', 'msingi', ',', 'moja', 'ya', 'upili', ',', 'kituo', 'cha', 'watoto', 'wanaorandaranda', 'mitaani', 'na', 'kituo', 'cha', 'mafunzo', 'ya', 'kiufundi', '.', 'Wanafunzi', 'katika', 'shule', 'zote', 'huwa', 'ni', 'watoto', 'kutoka', 'familia', 'maskini', 'katika', 'maeneo', 'ya', 'Mukuru', '.', 'Mtawa', 'Mary', 'alisema', 'shule', 'hizo', 'ni', 'pamoja', 'na', 'shule', 'ya', 'msingi', 'ya', 'St', 'Elizabeth', ',', 'Shule', 'ya', 'msingi', 'ya', 'St', 'Bakhita', 'na', 'Shule', 'ya', 'msingi', 'ya', 'Mukuru', '.', 'Shule', 'nyingine', 'ni', 'Shule', 'ya', 'Msingi', 'ya', 'St', 'Catherine', ',', 'Shule', 'ya', 'Upili', 'ya', 'St', 'Michael', ',', 'Mary', 'Immaculate', 'Rehab', 'na', 'Mukuru', 'Vocational', 'Skills', 'Training', 'Centre', '.', 'Vilevile', ',', 'Shule', 'ya', 'Msingi', 'ya', 'St', 'Elizabeth', 'iko', 'katika', 'tarafa', 'ya', 'Viwandani', 'kwenye', 'kaunti', 'ndogo', 'ya', 'Makadara', '.', 'Shule', 'ya', 'St', 'Bakhita', ',', 'Mukuru', ',', 'St', 'Catherine', ',', 'Shule', 'ya', 'Upili', 'ya', 'St', 'Michael', ',', 'Mary', 'Immaculate', 'Rehab', 'na', 'Mukuru', 'Vocational', 'Skills', 'Training', 'Centre', 'zimo', 'ndani', 'ya', 'tarafa', 'ya', 'South', 'B', ',', 'kwenye', 'kaunti', 'ndogo', 'ya', 'Starehe', '.', 'Baadhi', 'ya', 'wanafunzi', 'katika', 'shule', 'hizi', 'ni', 'pamoja', 'na', 'mayatima', ',', 'watoto', 'ambao', 'akina', 'mama', 'hawajaolewa', ',', 'watoto', 'waliookolewa', 'na', 'polisi', 'na', 'wengine', 'kutoka', 'makao', 'ya', 'watoto', 'mbalimbali', '.', '“', 'Tuko', 'na', 'mseto', 'wa', 'watoto', 'wa', 'aina', 'mbalimbali', 'na', 'walio', 'na', 'historia', 'za', 'huzuni', 'ambao', 'bila', 'shaka', 'ukisimuliwa', 'maisha', 'yao', 'utawahurumia', 'na', 'kuona', 'ni', 'kweli', 'wanastahili', 'kusaidiwa', 'na', 'kupewa', 'fursa', 'ya', 'kujiendeleza', 'kielimu', ',', '”', 'Mtawa', 'Kileen', 'akaeleza', '.']\n",
      "\n",
      " Number of Words:  995\n"
     ]
    }
   ],
   "source": [
    "file=\"21nov29.txt\"\n",
    "\n",
    "# calling the function and storing the contents in a text variable \n",
    "text1 = get_document(\"https://taifaleo.nation.co.ke/sonko-awa-mwiba-kwa-wanasiasa/\")\n",
    "text3 = get_document(\"https://taifaleo.nation.co.ke/wanafunzi-2000-mukuru-wapigwa-jeki-kielimu/\")\n",
    "\n",
    "# calling the store_ document function \n",
    "store_document(doc=text1,name=file)\n",
    "store_document(doc=text3,name=file)\n",
    "\n",
    "#add the words in this file to the total_corpus_words, to keep count of the number of words in the corpus\n",
    "total_corpus_words+=total_words(file)"
   ]
  },
  {
   "cell_type": "code",
   "execution_count": 73,
   "metadata": {},
   "outputs": [
    {
     "data": {
      "text/plain": [
       "790405"
      ]
     },
     "execution_count": 73,
     "metadata": {},
     "output_type": "execute_result"
    }
   ],
   "source": [
    "total_corpus_words"
   ]
  },
  {
   "cell_type": "code",
   "execution_count": 76,
   "metadata": {},
   "outputs": [
    {
     "name": "stdout",
     "output_type": "stream",
     "text": [
      "['Jaji', 'Mrima', 'alitupilia', 'mbali', 'ombi', 'la', 'Bw', 'Kinoti', 'kupitia', 'kwa', 'wakili', 'Cecil', 'Miller', 'kwamba', ',', 'ni', '“', 'bodi', 'ya', 'silaha', 'ambayo', 'inafaa', 'kushtakiwa', 'kwa', 'vile', 'silaha', 'zinazotolewa', 'kwa', 'umma', 'wanaopewa', 'leseni', 'hazihifadhiwi', 'katika', 'afisi', 'yake.', '”', 'Jinsi', 'maafisa', ',', 'viongozi', 'walihusika', 'katika', 'sakata', 'ya', 'uuzaji', 'wa', 'ardhi', 'ya', 'shirika', 'la', 'reli', 'South', 'B', 'IMEFICHUKA', 'kwamba', 'maafisa', 'wa', 'utawala', 'walishirikiana', 'na', 'wenyeviti', 'wa', 'mitaa', 'ya', 'mabanda', 'ya', 'Mukuru', ',', 'South', 'B', 'katika', 'sakata', 'ya', 'kuuza', 'ardhi', 'iliyomilikiwa', 'na', 'Shirika', 'la', 'Reli', 'Nchini', 'kuanzia', 'mwaka', '2000', '.', 'Hii', 'ni', 'baada', 'ya', 'tingatinga', 'linalochimba', 'ardhi', 'katika', 'mradi', 'wa', 'ujenzi', 'wa', 'barabara', 'ya', 'Aoko', 'kuungana', 'na', 'barabara', 'ya', 'Entreprise', 'kufunua', 'mchanga', 'na', 'kupata', 'reli', '.', 'Taifa', 'Leo', 'imebaini', 'kwamba', 'kwenye', 'sakata', 'hiyo', ',', 'watu', 'binafsi', ',', 'makanisa', 'na', 'makundi', 'ya', 'miradi', 'mbalimbali', 'waliuziwa', 'ardhi', 'na', 'kujenga', 'nyumba', 'juu', 'ya', 'reli', '.', 'Mdokezi', 'wetu', 'alisema', 'baadhi', 'ya', 'maafisa', 'wa', 'utawala', 'wa', 'mikoa', 'wakiwemo', 'wakuu', 'wa', 'tarafa', ',', 'machifu', 'na', 'wazee', 'wa', 'mitaa', 'walihusika', 'pakubwa', 'kwenye', 'ufisadi', '.', 'Baada', 'ya', 'kuuziwa', 'eneo', 'reli', 'lililopitia', ',', 'matapeli', 'walimwaga', 'tani', 'nyingi', 'za', 'mchanga', 'na', 'kufunika', 'reli', 'kisha', 'wakajenga', 'nyumba', 'za', 'mabati', 'na', 'za', 'mawe', '.', '“', 'Reli', 'hii', 'ilitumika', 'hadi', 'miaka', 'ya', 'tisini', '(', '1990s', ')', 'ambapo', 'gari', 'la', 'moshi', 'lilileta', 'bidhaa', 'katika', 'Taasisi', 'ya', 'Mafunzo', 'ya', 'Reli', '(', 'RTI', ')', 'kutoka', 'kituo', 'cha', 'reli', 'cha', 'Makadara', ',', '”', 'mdokezi', 'akanena', '.', 'Juzi', ',', 'tingatinga', 'linalotumika', 'katika', 'ujenzi', 'wa', 'barabara', 'katika', 'mtaa', 'wa', 'Mukuru-Hazina', 'lilichimba', 'na', 'kufikia', 'mtambo', 'wa', 'reli', 'na', 'kusitisha', 'shughuli', 'siku', 'hiyo', '.', '‘', '’', 'Hii', 'ni', 'aibu', 'kubwa', 'na', 'inaonyesha', 'jinsi', 'maafisa', 'wa', 'serikali', 'walivyojawa', 'na', 'tamaa', '.', 'Ni', 'lazima', 'wakabiliwe', 'kwa', 'mujibu', 'wa', 'sheria', 'ikiwa', 'nchi', 'itaenda', 'mbele', 'kimaendeleo', ',', '”', 'mama', 'mboga', 'katika', 'mtaa', 'wa', 'Hazina', 'akanena', '.', 'Ili', 'kudhihirisha', 'uozo', 'katika', 'viongozi', ',', 'katika', 'eneo', 'la', 'kisa', ',', 'duka', 'moja', 'linalouza', 'vifaa', 'vya', 'muziki', ',', 'nguo', 'na', 'viatu', 'limesimama', 'juu', 'ya', 'reli', '.', '“', 'Kuna', 'kipande', 'cha', 'reli', 'kilikatwa', 'juu', 'ya', 'mto', 'Ngong', 'ili', 'isionekane', 'vile', 'reli', 'ilivyokuwa', 'ikielekea', 'kutoka', 'upande', 'wa', 'Tetra', 'Pak', ',', 'barabara', 'ya', 'Likoni', 'kuingia', 'mtaa', 'wa', 'mabanda', 'wa', 'Hazina', ',', '”', 'Ofisa', 'wa', 'polisi', 'ambaye', 'hatuwezi', 'kumtaja', 'kwa', 'sababu', 'tunajali', 'usalama', 'wake', ',', 'akafichua', '.', 'Uchunguzi', 'wetu', 'pia', 'ulibainisha', 'kwamba', 'kwa', 'wale', 'walionuia', 'kujenga', 'nyumba', 'katika', 'mtaa', 'wa', 'Hazina', ',', 'waliuziwa', 'ploti', 'moja', 'kuanzia', 'Sh10,000', '.', '“', 'Ukiwa', 'na', 'Sh10,000', 'na', 'umpelekee', 'mzee', 'wa', 'mtaa', 'pamoja', 'na', 'chifu', ',', 'bila', 'shaka', 'unaonyeshwa', 'ploti', 'ya', 'wewe', 'kujenga', 'nyumba', 'ya', 'vyumba', 'vinne', 'kwa', 'hizo', 'pesa', ',', '”', 'mwanamume', 'aliyehudumu', 'katika', 'ofisi', 'ya', 'KANU', 'wakati', 'huo', 'akanena', '.', 'Aliongeza', 'kwamba', 'vijana', 'katika', 'ofisi', 'za', 'KANU', 'enzi', 'za', 'utawala', 'wa', 'Rais', 'Mstaafu', 'Hayati', 'Daniel', 'Arap', 'Moi', 'walikuwa', 'na', 'nguvu', 'nyingi', 'na', 'walikuwa', 'wakiheshimiwa', 'na', 'kuogopwa', 'mitaani', '.', '“', 'Kijana', 'alikuwa', 'na', 'uwezo', 'wa', 'kukukamata', 'na', 'kukupeleka', 'kituoni', 'cha', 'polisi', 'na', 'kukushtaki', '.', 'Isitoshe', ',', 'hungekarabati', 'kibanda', 'cha', 'mboga', 'kabla', 'hujafahamisha', 'ofisi', 'ya', 'KANU', 'wakati', 'huo', ',', '”', 'Bw', 'Cosmas', 'Mutiso', 'akaongeza', '.']\n",
      "\n",
      " Number of Words:  482\n"
     ]
    }
   ],
   "source": [
    "file=\"21nov30.txt\"\n",
    "\n",
    "# calling the function and storing the contents in a text variable \n",
    "text1 = get_document(\"https://taifaleo.nation.co.ke/kinoti-lazima-aende-jela-asisitiza-jaji/\")\n",
    "text2 = get_document(\"https://taifaleo.nation.co.ke/jinsi-maafisa-viongozi-walihusika-katika-sakata-ya-uuzaji-wa-ardhi-ya-shirika-la-reli-south-b/\")\n",
    "\n",
    "# calling the store_ document function \n",
    "store_document(doc=text1,name=file)\n",
    "store_document(doc=text2,name=file)\n",
    "\n",
    "#add the words in this file to the total_corpus_words, to keep count of the number of words in the corpus\n",
    "total_corpus_words+=total_words(file)"
   ]
  },
  {
   "cell_type": "code",
   "execution_count": 77,
   "metadata": {},
   "outputs": [
    {
     "data": {
      "text/plain": [
       "790887"
      ]
     },
     "execution_count": 77,
     "metadata": {},
     "output_type": "execute_result"
    }
   ],
   "source": [
    "total_corpus_words"
   ]
  },
  {
   "cell_type": "code",
   "execution_count": 84,
   "metadata": {},
   "outputs": [
    {
     "name": "stdout",
     "output_type": "stream",
     "text": [
      "['Mikakati', 'ya', 'serikali', 'ilinusuru', 'Kenya', 'kwa', 'corona', '–', 'Uhuru', 'RAIS', 'Uhuru', 'Kenyatta', 'amesema', 'kwamba', 'mikakati', 'ya', 'serikali', 'yake', 'iliokoa', 'nchi', 'mwaka', '2020', ',', 'janga', 'la', 'corona', 'lilipovuruga', 'uchumi', 'na', 'kuathiri', 'nchi', 'nyingi', 'ulimwenguni', '.', 'Alisema', 'kwamba', 'kupitia', 'hatua', 'za', 'kukinga', 'raia', 'kutokana', 'na', 'athari', 'za', 'janga', 'la', 'corona', 'ambazo', 'serikali', 'yake', 'ilichukua', ',', 'uchumi', 'wa', 'Kenya', 'haukuporomoka', 'kama', 'wa', 'baadhi', 'za', 'nchi', 'ulimwenguni', '.', 'Kwenye', 'hotuba', 'yake', 'ya', 'hali', 'ya', 'taifa', 'bungeni', ',', 'Rais', 'Kenyatta', 'alisema', 'kwamba', 'mipango', 'kama', 'vile', 'Kazi', 'Mtaani', 'na', 'kupunguza', 'viwango', 'vya', 'ushuru', ',', 'kusaidia', 'biashara', 'kupitia', 'kupunguza', 'viwango', 'vya', 'riba', 'ilisaidia', 'kuokoa', 'uchumi', '.', 'Alisema', 'kwamba', 'hatua', 'za', 'serikali', 'yake', 'zimefanya', 'uchumi', 'kuanza', 'kufufuka', 'huku', 'Kenya', 'ikiorodheshwa', 'nchi', 'ya', 'sita', 'tajiri', 'barani', 'Afrika', '.', 'Licha', 'ya', 'janga', 'la', 'corona', 'kuathiri', 'sekta', 'kadhaa', 'za', 'uchumi', ',', 'Rais', 'alisema', 'kwamba', 'Mamlaka', 'ya', 'Ukusanyaji', 'Ushuru', 'KRA', 'ilipitisha', 'kiwango', 'cha', 'ushuru', 'ilichokuwa', 'imeweka', 'kutoka', 'Sh1.5', 'trilioni', 'hadi', 'Sh1.67', 'trilioni', '.', 'Alisema', 'kwamba', 'ni', 'kufuatia', 'ufanisi', 'wa', 'mipango', 'hiyo', 'alitangaza', 'awamu', 'ya', 'tatu', 'ya', 'kufufua', 'uchumi', 'ikiwemo', 'Kazi', 'Mtaani', ',', 'kufufua', 'sekta', 'za', 'kilimo', ',', 'mifugo', 'na', 'afya', '.', 'Katika', 'awamu', 'hiyo', ',', 'Wakenya', 'walioshindwa', 'kulipa', 'mikopo', 'katika', 'kipindi', 'cha', 'corona', 'watapata', 'afueni', '.', 'Wakili', 'wa', 'Serikali', 'aagiza', 'Miguna', 'aruhusiwe', 'kurudi', 'WAKILI', 'Mkuu', 'wa', 'Serikali', ',', 'Bw', 'Ken', 'Ogeto', ',', 'ameziagiza', 'wizara', 'za', 'Mashauri', 'ya', 'Kigeni', 'na', 'Usalama', 'wa', 'Ndani', 'kuhakikisha', 'wakili', 'Miguna', 'Miguna', 'amepata', 'stakabadhi', 'za', 'usafiri', 'kutoka', 'kwa', 'ubalozi', 'wa', 'Kenya', 'nchini', 'Canada', 'na', 'Ujerumani', '.', '“', 'Tumepokea', 'hakikisho', 'kutoka', 'kwa', 'Wizara', 'ya', 'Usalama', 'wa', 'Ndani', 'kwamba', 'Idara', 'ya', 'Uhamiaji', 'imewaagiza', 'maafisa', 'wake', 'katika', 'balozi', 'za', 'Kenya', 'jijini', 'Ottawa', '(', 'Canada', ')', 'na', 'Berlin', '(', 'Ujerumani', ')', 'kumpa', 'Dkt', 'Miguna', 'stakababadhi', 'anazohitaji', 'baada', 'yake', 'kujaza', 'fomu', 'maalum', ',', '”', 'akasema', 'Bw', 'Ogeto', '.', 'Dkt', 'Miguna', 'alikuwa', 'amepanga', 'kurejea', 'nchini', 'mnamo', 'Novemba', '16', ',', 'lakini', 'safari', 'yake', 'ikasambaratika', ',', 'baada', 'ya', 'Shirika', 'la', 'Ndege', 'la', 'Air', 'France', 'kusema', 'limepokea', 'agizo', 'kutoka', 'kwa', 'serikali', 'ya', 'Kenya', 'kutomruhusu', 'kusafiri', '.', 'Baadaye', ',', 'alidai', '“', 'kuhangaishwa', '”', 'na', 'maafisa', 'wa', 'ubalozi', 'wa', 'Kenya', 'nchini', 'Ujerumani', ',', 'alipowapelekea', 'agizo', 'la', 'Mahakama', 'Kuu', 'kuwataka', 'kumpa', 'stakabadhi', 'za', 'usafiri', '.', 'Dkt', 'Miguna', 'amekuwa', 'uhamishoni', 'nchini', 'Canada', 'tangu', '2018', ',', 'baada', 'ya', 'kurejeshwa', 'kwa', 'nguvu', 'na', 'serikali', 'kwa', 'kumwapisha', 'kiongozi', 'wa', 'ODM', ',', 'Bw', 'Raila', 'Odinga', 'kama', '“', 'rais', 'wa', 'wananchi.', '”', 'Washukiwa', 'saba', 'wa', 'wizi', 'wa', 'simu', 'za', 'rununu', 'wanaswa', 'Thika', 'POLISI', 'mjini', 'Thika', 'mnamo', 'Ijumaa', 'waliwanasa', 'watu', 'saba', 'ambao', 'inadaiwa', 'wamekuwa', 'wakiiba', 'simu', 'za', 'wakazi', '.', 'Kamanda', 'mkuu', 'wa', 'polisi', 'katika', 'Kaunti', 'ya', 'Kiambu', 'Bw', 'Ali', 'Nuno', ',', 'alieleza', 'kuwa', 'kwa', 'muda', 'wa', 'miezi', 'miwili', 'mfululizo', 'washukiwa', 'hao', 'wamewahangaisha', 'wakazi', 'wa', 'Thika', 'kwa', 'kuwaibia', 'simu', 'zao', '.', 'Alisema', 'washukiwa', 'hao', 'walifikishwa', 'mahakamani', 'lakini', 'mmoja', 'wao', 'pekee', 'ndiye', 'aliachiliwa', 'kwa', 'dhamana', 'ya', 'laki', 'mbili', '.', 'Akizungumza', 'na', 'wanahabari', 'katika', 'kitua', 'cha', 'polisi', 'cha', 'Thika', ',', 'kamanda', 'huyo', 'wa', 'polisi', 'alisema', 'wamiliki', 'watatu', 'wa', 'simu', 'hizo', 'zilizoibwa', 'walifika', 'katika', 'kituo', 'cha', 'polisi', 'cha', 'Thika', 'na', 'kutambua', 'simu', 'zao', 'zilizoibwa', 'hivi', 'majuzi', '.', 'Aliwataja', 'washukiwa', 'hao', 'kama', 'hatari', 'kwa', 'usalama', 'kwa', 'sababu', 'walikuwa', 'wakitumia', 'gari', 'na', 'pikipiki', 'wanapotekeleza', 'uhalifu', 'huo', '.', 'Alisema', 'uchunguzi', 'wao', 'unaonyesha', 'wanatekeleza', 'wizi', 'huo', 'asubuhi', 'wananchi', 'wakielekea', 'kazini', 'na', 'jioni', 'wanapotoka', 'katika', 'sehemu', 'zao', 'za', 'kazi', '.', '“', 'Washukiwa', 'hao', 'baada', 'ya', 'kuiba', 'simu', 'wakiwa', 'kwenye', 'pikipiki', ',', 'hurusha', 'ndani', 'ya', 'gari', 'simu', 'hizo', 'halafu', 'linatoka', 'kwa', 'kasi', 'huku', 'nao', 'wakilifuata', 'kwa', 'nyuma', ',', '”', 'alifafanua', 'kamanda', 'huyo', 'wa', 'polisi', '.', 'Mwanamke', 'ashukiwa', 'kuwa', 'gaidi', 'WAPELELEZI', 'kutoka', 'Idara', 'ya', 'Uchunguzi', 'wa', 'Jinai', '(', 'DCI', ')', 'mnamo', 'Jumatano', ',', 'Disemba', '1', ',', 'walimkamata', 'na', 'kumtia', 'kizuizini', 'mwanamke', 'anayehusishwa', 'na', 'kundi', 'la', 'wapiganaji', 'wa', 'al-Shabaab', '.', 'Haya', 'yamejiri', 'huku', 'serikali', 'ikiimarisha', 'mikakati', 'ya', 'kuhakikisha', 'usalama', 'kote', 'nchini', 'hasa', 'maeneo', 'ya', 'pwani', 'katika', 'msimu', 'huu', 'wa', 'sherehe', '.', 'Mwanamke', 'huyo', 'mwenye', 'umri', 'wa', 'miaka', '22', ',', 'alikamatwa', 'Jumanne', 'jioni', ',', 'Novemba', '30', ',', 'katika', 'eneo', 'la', 'Tinderet', ',', 'Kaunti', 'ya', 'Nandi', '.', 'Maafisa', 'katika', 'Kituo', 'cha', 'Polisi', 'cha', 'Sighor', 'walifanikiwa', 'kumfumania', 'na', 'kumkamata', 'mshukiwa', 'aliyekuwa', 'akiishi', 'na', 'mwanamme', 'katika', 'kijiji', 'cha', 'Kamalambu', ',', 'baada', 'ya', 'kudokezewa', 'na', 'wanakijiji', 'waliomtilia', 'shaka', '.', '“', 'Hofu', 'ya', 'wanakijiji', 'ilithibitishwa', 'wakati', 'mwanamke', 'huyo', 'alipokuwa', 'akihojiwa', '.', 'Aliwaeleza', 'makachero', 'kwamba', 'amekuwa', 'nchini', 'Somalia', 'kwa', 'miaka', 'miwili', 'huku', 'akidai', 'alikuwa', 'ametekwa', 'nyara', 'na', 'wanamgambo', 'wa', 'kundi', 'la', 'kigaidi', 'la', 'Alshabab', ',', 'mjini', 'Kilifi', ',', 'mnamo', '2019', ',', '”', 'ilisema', 'taarifa', 'kutoka', 'kwa', 'DCI', '.', 'Kulingana', 'na', 'DCI', ',', 'mshukiwa', 'alikiri', 'kupokea', 'mafunzo', 'kuhusu', 'ujuzi', 'wa', 'kutumia', 'silaha', ',', 'kushika', 'watu', 'mateka', 'na', 'matumizi', 'mengineyo', 'ya', 'vilipuzi', 'miongoni', 'mwa', 'maarifa', 'mengine', '.', '“', 'Mwanamke', 'huyo', 'anasemekana', 'kuhudhuria', 'shughuli', 'iliyokamilika', 'hivi', 'majuzi', 'ya', 'uteuzi', 'wa', 'makurutu', 'wa', 'KDF', 'katika', 'vituo', 'mbalimbali', ',', '”', '“', 'Makachero', 'wa', 'Kitengo', 'cha', 'Kukabiliana', 'na', 'Ugaidi', 'wameanzisha', 'uchunguzi', 'kuhusu', 'suala', 'hilo', 'na', 'wanaendelea', 'kumhoji', 'mshukiwa', 'ili', 'kupata', 'habari', 'zaidi', ',', '”', 'ilisema', 'DCI', '.', 'DCI', 'ilipongeza', 'wakazi', 'wa', 'Tinderet', 'kwa', 'kutoa', 'habari', 'hizo', 'muhimu', 'zilizowezesha', 'kukamatwa', 'kwa', 'mshukiwa', '.', '“', 'Ushirikiano', 'wa', 'aina', 'hii', 'kati', 'ya', 'umma', 'na', 'maafisa', 'wa', 'polisi', 'unahimizwa', 'mno', 'kwa', 'sababu', 'kudumisha', 'usalama', 'katika', 'taifa', 'ni', 'jukumu', 'letu', 'kwa', 'pamoja', ',', '”', 'ilisema', 'DCI', '.', 'Kisa', 'hiki', 'kinajiri', 'wakati', 'ambapo', 'serikali', 'imeimarisha', 'usalama', 'kote', 'nchini', 'na', 'hasa', 'katika', 'maeneo', 'ya', 'pwani', 'katika', 'mwezi', 'huu', 'wa', 'Disemba', 'unaosheheni', 'sherehe', 'kadhaa', '.']\n",
      "\n",
      " Number of Words:  855\n"
     ]
    }
   ],
   "source": [
    "file=\"21dec1.txt\"\n",
    "\n",
    "# calling the function and storing the contents in a text variable \n",
    "text1 = get_document(\"https://taifaleo.nation.co.ke/mikakati-ya-serikali-ilinusuru-kenya-kwa-corona-uhuru/\")\n",
    "text3 = get_document(\"https://taifaleo.nation.co.ke/wakili-wa-serikali-aagiza-miguna-aruhusiwe-kurudi/\")\n",
    "text5 = get_document(\"https://taifaleo.nation.co.ke/mwanamke-ashukiwa-kuwa-gaidi/\")\n",
    "\n",
    "# calling the store_ document function \n",
    "store_document(doc=text1,name=file)\n",
    "store_document(doc=text3,name=file)\n",
    "store_document(doc=text4,name=file)\n",
    "store_document(doc=text5,name=file)\n",
    "\n",
    "#add the words in this file to the total_corpus_words, to keep count of the number of words in the corpus\n",
    "total_corpus_words+=total_words(file)"
   ]
  },
  {
   "cell_type": "code",
   "execution_count": 85,
   "metadata": {},
   "outputs": [
    {
     "data": {
      "text/plain": [
       "791742"
      ]
     },
     "execution_count": 85,
     "metadata": {},
     "output_type": "execute_result"
    }
   ],
   "source": [
    "total_corpus_words"
   ]
  },
  {
   "cell_type": "code",
   "execution_count": 88,
   "metadata": {},
   "outputs": [
    {
     "name": "stdout",
     "output_type": "stream",
     "text": [
      "['Viongozi', 'wa', 'kanisa', 'warudishia', 'mbunge', 'pesa', 'alizochangisha', 'KANISA', 'Katoliki', ',', 'Dayosisi', 'ya', 'Kisii', ',', 'limemrudishia', 'Mbunge', 'wa', 'Dagoretti', 'Kaskazini', 'Simba', 'Arati', 'mchango', 'wake', 'wa', 'Sh', '100,000', 'alioutoa', 'katika', 'kanisa', 'la', 'Nyamagwa', ',', 'eneobunge', 'la', 'Bobasi', ',', 'kaunti', 'ya', 'Kisii', ',', 'Jumapili', 'iliyopita', '.', 'Hii', 'ni', 'kutokana', 'na', 'hatua', 'ya', 'mbunge', 'huyo', 'kujaribu', 'kuhutubia', 'waumini', 'waliokuwa', 'kanisani', ',', 'kinyume', 'na', 'walivyokuwa', 'wameagiza', 'mapadre', 'washereheshaji', '.', 'Ibada', 'hiyo', 'ya', 'kulitakasa', 'kanisa', 'jipya', 'la', 'Wakristu', 'wa', 'Nyamagwa', 'ilikuwa', 'ikiongozwa', 'na', 'Mwakilishi', 'wa', 'Papa', 'nchini', 'Kenya', 'na', 'Sudan', 'Kusini', ',', 'Hubertus', 'Matheus', 'Maria', 'van', 'Megen', 'na', 'ilikuwa', 'ikiendelea', 'vyema', '.', 'Lakini', 'kuelekea', 'mwisho', 'wa', 'sherehe', ',', 'kulizuka', 'utata', 'pale', 'uongozi', 'wa', 'kanisa', 'uliwaruhusu', 'Seneta', 'wa', 'Bungoma', ',', 'Moses', 'Wetangula', 'na', 'mbunge', 'wa', 'Kiminini', ',', 'Chris', 'Wamalwa', 'kuhutubia', 'waumini', 'ilhali', 'wanasiasa', 'wa', '‘', 'nyumbani', '’', 'waliagizwa', 'wangezungumza', 'nje', 'baada', 'ya', 'misa', '.', 'Ni', 'mbunge', 'wa', 'eneo', 'hilo', 'tu', 'Bw', 'Innocent', 'Obiri', 'aliyezungumza', 'na', 'kazi', 'yake', 'ilikuwa', 'kuwaalika', 'Mabw', 'Wetangula', 'na', 'Wamalwa', '.', 'Padri', 'mmoja', 'ambaye', 'hakutaka', 'jina', 'lake', 'litajwe', ',', 'alisema', 'uongozi', 'wa', 'kanisa', 'Katoliki', 'Kisii', 'ulifikia', 'uamuzi', 'kumrejeshea', 'Bw', 'Arati', 'pesa', 'zake', 'baada', 'ya', 'majadiliano', 'ya', 'kina', '.', '“', 'Tuna', 'wataalamu', 'wa', 'kutosha', 'kutoka', 'serikali', 'ya', 'kitaifa', 'na', 'wale', 'walioajiriwa', 'na', 'hoteli', '.', 'Tumejitolea', 'kulinda', 'kila', 'mgeni', ',', '”', 'alihoji.kwa', 'hivyo', 'wageni', 'watapata', 'usaidizi', 'unapofaa', '.', 'Tumejitolea', 'kulinda', 'kila', 'mgeni', ',', '”', 'akasema', '.', 'Alitoa', 'ushauri', 'pia', 'watu', 'wasitembelee', 'bahari', 'nyakati', 'za', 'usiku', ',', 'akisema', 'visa', 'vingi', 'ambavyo', 'baadhi', 'huhusisha', 'vifo', 'huwa', 'vimetokea', 'usiku', '.', 'Alisisitiza', 'serikali', 'imeeka', 'usalama', 'wa', 'kutosha', 'katika', 'kipindi', 'hiki', 'cha', 'sherehe', '.', 'Jaji', 'akataa', 'malalamiko', 'kuhusu', 'lugha', 'KESI', 'dhidi', 'ya', 'raia', 'wa', 'kigeni', 'ambao', 'walishtakiwa', 'kwa', 'madai', 'ya', 'ulanguzi', 'wa', 'dawa', 'ya', 'kulevya', ',', 'aina', 'ya', 'heroini', 'ya', 'thamani', 'ya', 'Sh1.3', 'billioni', ',', 'itaendelea', 'kusikilizwa', 'licha', 'ya', 'mshtakiwa', 'kulalamika', 'kwamba', 'haelewi', 'lugha', 'inayotumiwa', '.', 'Jaji', 'Anne', 'Ong', '’', 'injo', 'wa', 'Mahakama', 'Kuu', 'mjini', 'Mombasa', 'alikataa', 'ombi', 'la', 'raia', 'wa', 'Iran', ',', 'Pak', 'Abdolghaffer', ',', 'kutaka', 'mkalimani', 'mwingine', 'aletwe', 'akidai', 'haelewi', 'lugha', 'ya', 'Kiurdu', 'inayotumiwa', 'katika', 'kesi', 'hiyo', '.', 'Jaji', 'Anne', 'Ong', '’', 'injo', 'alisema', 'suala', 'la', 'lugha', 'lingesemwa', 'katika', 'hatua', 'za', 'awali', 'kabla', 'ya', 'shahidi', 'wa', 'kwanza', 'wa', 'upande', 'wa', 'mashtaka', 'kutoa', 'ushahidi', 'wake', '.', 'Jaji', 'huyo', 'alishikilia', 'kuwa', 'Bw', 'Abdolghaffer', 'hakuwa', 'na', 'nia', 'njema', 'kwa', 'kuomba', 'kuletewa', 'mkalimani', 'wa', 'lugha', 'ya', 'Kiparsi', 'ilhali', 'amekuwa', 'akiskiza', 'kesi', 'hiyo', 'kupitia', 'kwa', 'mkalimani', 'wa', 'lugha', 'ya', 'Kiurdu', 'tangu', 'mwanzoni', '.', '“', 'Haiwezi', 'kuwa', 'kweli', 'kwamba', 'karibu', 'miaka', 'saba', 'raia', 'huyo', 'wa', 'Iran', 'sasa', 'anadai', 'kwamba', 'haelewi', 'lugha', 'ya', 'Kiurdu', ',', '”', 'alisema', '.', 'Zaidi', 'ya', 'hayo', ',', 'Jaji', 'Ong', '’', 'injo', 'alibainisha', 'kuwa', 'Bw', 'Abdolghaffer', 'hakuwasilisha', 'malalamiko', 'yoyote', 'katika', 'hatua', 'za', 'awali', 'ya', 'kesi', 'hiyo', 'kwamba', 'haelewi', 'lugha', 'hiyo', 'au', 'kwamba', 'Bw', 'Amin', 'Ahmed', ',', 'ambaye', 'amekuwa', 'akitoa', 'huduma', 'za', 'ukalimani', 'kwa', 'lugha', 'ya', 'Kiurdu', ',', 'alitafsiri', 'visivyo', '.', 'Wakati', 'akitaka', 'kusitisha', 'kesi', 'hiyo', ',', 'Bw', 'Abdolghaffer', 'alilalamika', 'kuwa', 'ingawa', 'anazungumza', 'Kifarsi', 'na', 'Kiajemi', ',', 'mahakama', 'ya', 'hakimu', 'ilipuuza', 'ombi', 'lake', 'la', 'kutaka', 'kuwa', 'na', 'mkalimani', 'wa', 'lugha', 'hizo', 'mbili', '.', '“', 'Hii', 'imekiuka', 'haki', 'yangu', 'na', 'kusababisha', 'makosa', 'mengi', 'ambayo', 'yanaweza', 'kufanya', 'nikose', 'kufanyiwa', 'haki', ',', '”', 'akasema', 'kupitia', 'kwa', 'wakili', 'Jacqueline', 'Waihenya', '.', 'Serikali', 'ya', 'Pakistani', 'imeelezea', 'wasiwasi', 'juu', 'ya', 'kucheleweshwa', 'kwa', 'kesi', 'hiyo', 'dhidi', 'ya', 'raia', 'wake', 'sita', 'na', 'inataka', 'ikamilike', 'ili', 'washukiwa', 'hao', 'wajue', 'hatima', 'yao', 'badala', 'ya', 'kuwekwa', 'katika', 'mashaka', 'katika', 'gereza', 'la', 'Shimo', 'La', 'Tewa', '.', 'Akijitetea', 'katika', 'kesi', 'ya', 'ubadhirifu', 'wa', 'Sh1.2b', 'katika', 'sakata', 'ya', 'Anglo-Leasing', ',', 'Bw', 'Obure', 'alisema', ',', 'Mudavadi', 'ndiye', 'alimwandikia', 'barua', 'alipe', 'kampuni', 'moja', 'ya', 'Amerika', 'iliyokuwa', 'inaimarisha', 'huduma', 'za', 'posta', '.', 'Bw', 'Obure', 'ambaye', 'ni', 'waziri', 'msaidizi', 'katika', 'wizara', 'ya', 'uchukuzi', 'alimweleza', 'hakimu', 'mkuu', 'Bi', 'Anne', 'Mwangi', ',', 'kwamba', ',', '“', 'alifahamishwa', 'kwa', 'mara', 'ya', 'kwanza', 'kuhusu', 'mradi', 'wa', 'Anglo-Leasing', 'na', 'Mudavadi', 'alipoomba', 'idhini', 'ya', 'kuwasiliana', 'moja', 'kwa', 'moja', 'na', 'kampuni', 'hiyo', 'ya', 'Amerika.', '”', 'Bw', 'Obure', 'aliyepatikana', 'na', 'kesi', 'ya', 'kujibu', 'katika', 'sakata', 'hiyo', 'ya', 'Anglo-Leasing', 'alisema', 'Mudavadi', 'alimsihi', 'aidhinishe', 'matumizi', 'ya', 'zaidi', 'ya', 'Sh900milioni', 'katika', 'mradi', 'huo', 'wa', 'kuimarisha', 'utenda', 'kazi', 'wa', 'Shirika', 'la', 'Posta', '(', 'PCK', ')', '.', 'Mahakama', 'ilifahamishwa', 'Mudavadi', 'alimweleza', 'Obure', 'mradi', 'huo', 'wa', 'kuimarisha', 'huduma', 'za', 'posta', 'ungelifaidi', 'posta', 'zaidi', 'ya', '900', 'kote', 'nchini', '.', 'Bw', 'Mudavadi', 'alimweleza', 'Obure', 'mradi', 'huo', 'wa', 'kuboresha', 'huduma', 'za', 'posta', 'ulikuwa', 'uchukue', 'muda', 'wa', 'miaka', '10', 'na', 'alitaka', 'wizara', 'ya', 'fedha', 'iufadhili', '.', '“', 'Bw', 'Mudavadi', 'alinisihi', 'niidhishe', 'mradi', 'huo', 'kwa', 'vile', 'ulikuwa', 'mradi', 'wa', 'Serikali', ',', '”', 'Bw', 'Obure', 'alieleza', 'mahakama', '.', 'Akijibu', 'maswali', 'kutoka', 'kwa', 'wakili', 'Chacha', 'Odera', 'anayemtetea', 'katika', 'kesi', 'hiyo', 'aliyoshtakiwa', 'pamoja', 'na', 'Katibu', 'mkuu', 'wa', 'zamani', 'Sammy', 'Kyungu', 'na', 'Bw', 'Samuel', 'Bundotich', ',', 'Bw', 'Obure', 'alisema', 'Bw', 'Mudavadi', 'alimpelekea', 'hati', 'za', 'kandarasi', 'hiyo', 'na', 'kampuni', 'ya', 'Spacenet', 'ya', 'Amerika', 'aziidhinishe', '.', 'Bw', 'Obure', 'alisema', 'Mudavadi', 'alimshawishi', 'amruhusu', 'afanye', 'mashauri', 'ya', 'moja', 'kwa', 'moja', 'na', 'kampuni', 'hiyo', 'kwa', 'vile', 'mradi', 'ulikuwa', 'wa', 'Wizara', 'ya', 'Uchukuzi', 'na', 'Mawasiliano', '.', 'Bw', 'Mudavadi', 'ndiye', 'alikuwa', 'Waziri', 'wa', 'Uchukuzi', 'na', 'Mawasiliano', 'wakati', 'huo', 'Mei', ',', '2002', '.', '“', 'Ulihusika', 'kwa', 'njia', 'gani', 'katika', 'mradi', 'wa', 'Anglo-Leasing', ',', '”', 'Bw', 'Odera', 'alimwuliza', 'Bw', 'Obure', '.', '“', 'Nilihusika', 'katika', 'mradi', 'huu', 'nilipoombwa', 'na', 'Bw', 'Mudavadi', 'aliyekuwa', 'waziri', 'wa', 'uchukuzi', 'na', 'mawasiliano', 'nitie', 'sahihi', 'kandarasi', 'ya', 'kuboresha', 'huduma', 'za', 'posta', 'nchini', ',', '”', 'alijibu', 'Bw', 'Obure', '.', 'Mahakama', 'ilifahamishwa', ',', 'Mudavadi', 'alikuwa', 'amesema', 'huduma', 'hizo', 'zikiboreshwa', 'walimu', ',', 'polisi', ',', 'wahudumu', 'wa', 'posta', 'na', 'watumishi', 'wa', 'umma', 'watafaidika', 'kwa', 'vile', 'mishahara', 'itakuwa', 'inatumwa', 'moja', 'kwa', 'moja', '.', 'Baada', 'ya', 'kupokea', 'hati', 'za', 'kandarasi', 'hiyo', 'alizipeleka', 'kwa', 'aliyekuwa', 'Mwanasheria', 'Mkuu', ',', 'Amos', 'Wako', 'na', 'kuziidhinisha', '.', 'Na', 'wakati', 'huo', 'huo', ',', 'Bw', 'Kyungu', 'alisema', 'aliidhinisha', 'matumizi', 'ya', 'pesa', 'hizo', 'baada', 'ya', 'mradi', 'wa', 'Anglo-Leasing', 'kukubaliwa', 'na', 'serikali', '.']\n",
      "\n",
      " Number of Words:  927\n"
     ]
    }
   ],
   "source": [
    "file=\"21dec2.txt\"\n",
    "\n",
    "# calling the function and storing the contents in a text variable \n",
    "text1 = get_document(\"https://taifaleo.nation.co.ke/viongozi-wa-kanisa-warudishia-mbunge-pesa-alizochangisha/\")\n",
    "text2 = get_document(\"https://taifaleo.nation.co.ke/wageni-pwani-waonywa-kuwa-makini-baharini/\")\n",
    "text3 = get_document(\"https://taifaleo.nation.co.ke/jaji-akataa-malalamiko-kuhusu-lugha/\")\n",
    "text4 = get_document(\"https://taifaleo.nation.co.ke/obure-ahusisha-mudavadi-na-kashfa-ya-anglo-leasing/\")\n",
    "\n",
    "# calling the store_ document function \n",
    "store_document(doc=text1,name=file)\n",
    "store_document(doc=text2,name=file)\n",
    "store_document(doc=text3,name=file)\n",
    "store_document(doc=text4,name=file)\n",
    "\n",
    "#add the words in this file to the total_corpus_words, to keep count of the number of words in the corpus\n",
    "total_corpus_words+=total_words(file)"
   ]
  },
  {
   "cell_type": "code",
   "execution_count": 89,
   "metadata": {},
   "outputs": [
    {
     "data": {
      "text/plain": [
       "792669"
      ]
     },
     "execution_count": 89,
     "metadata": {},
     "output_type": "execute_result"
    }
   ],
   "source": [
    "total_corpus_words"
   ]
  },
  {
   "cell_type": "code",
   "execution_count": 94,
   "metadata": {},
   "outputs": [
    {
     "name": "stdout",
     "output_type": "stream",
     "text": [
      "['KPA', 'imeajiri', 'Wapwani', 'kupita', 'kiasi', ',', 'yadai', 'ripoti', 'MAMLAKA', 'ya', 'Bandari', 'za', 'Kenya', '(', 'KPA', ')', 'huenda', 'ikalazimika', 'kutengea', 'jamii', 'zenye', 'asili', 'ya', 'nje', 'ya', 'Pwani', 'nafasi', 'zaidi', 'za', 'ajira', 'kuliko', 'Wapwani', '.', 'Kamati', 'ya', 'Seneti', 'inayosimamia', 'masuala', 'ya', 'utangamano', 'wa', 'kitaifa', ',', 'imetoa', 'agizo', 'hilo', 'baada', 'ya', 'kubainika', 'idadi', 'ya', 'waajiriwa', 'katika', 'bandari', 'ambao', 'ni', 'Wapwani', 'imezidi', 'idadi', 'inayokubaliwa', 'kisheria', '.', 'Hali', 'hii', 'katika', 'KPA', 'sio', 'tofauti', 'katika', 'mashirika', 'mengine', 'ya', 'umma', 'nchini', ',', 'kwani', 'imekuwa', 'kawaida', 'jamii', 'za', 'eneo', 'yalipo', 'kuwa', 'na', 'wafanyikazi', 'zaidi', 'kuliko', 'wa', 'kutoka', 'maeneo', 'mengine', '.', 'Kwa', 'mujibu', 'wa', 'ripoti', 'iliyowasilishwa', 'katika', 'Seneti', ',', 'waajiriwa', 'kutoka', 'jamii', 'za', 'Wamijikenda', 'ni', '2,274', 'kati', 'ya', 'watu', '6,470', 'walioajiriwa', 'KPA', 'kijumla', '.', 'Wamijikenda', 'wanajumuisha', 'makabila', 'ya', 'Wadigo', ',', 'Wachonyi', ',', 'Wakambe', ',', 'Waduruma', ',', 'Wakauma', ',', 'Waribe', ',', 'Warabai', ',', 'Wajibana', 'na', 'Wagiriama', 'na', 'wengi', 'wao', 'wanapatikana', 'katika', 'Kaunti', 'za', 'Kilifi', 'na', 'Kwale', '.', 'Idadi', 'ya', 'Wataita', 'ambao', 'pia', 'ni', 'mojawapo', 'ya', 'jamii', 'za', 'asili', 'ya', 'Pwani', 'ni', '496', '.', 'Hata', 'hivyo', ',', 'ripoti', 'hiyo', 'inaonyesha', 'kuwa', 'nafasi', 'nyingi', 'za', 'ngazi', 'za', 'juu', 'katika', 'KPA', 'zinashikiliwa', 'na', 'watu', 'wanaotoka', 'katika', 'jamii', 'ambazo', 'si', 'za', 'asili', 'ya', 'Pwani', '.', 'Hawa', 'wanajumuisha', 'waajiriwa', '10', 'kutoka', 'kwa', 'jamii', 'ya', 'Waluo', ',', 'wakifuatwa', 'na', 'tisa', 'kutoka', 'jamii', 'ya', 'Wakikuyu', '.', 'Kwa', 'jumla', ',', 'kuna', 'nafasi', '23', 'kubwa', 'za', 'kiusimamizi', 'katika', 'shirika', 'hilo', 'la', 'kiserikali.Kulingana', 'na', 'Sheria', 'ya', 'Uwiano', 'na', 'Utangamano', 'wa', 'Kitaifa', 'iliyopitishwa', 'mwaka', 'wa', '2008', ',', 'ni', 'marufuku', 'kwa', 'jamii', 'moja', 'kushikilia', 'zaidi', 'ya', 'theluthi', 'moja', 'ya', 'nafasi', 'za', 'kazi', 'katika', 'shirika', 'lolote', 'la', 'kiserikali', '.', '“', 'KPA', 'inafaa', 'ianze', 'mara', 'moja', 'kuchukua', 'hatua', 'za', 'kuhakikisha', 'kuwa', 'kunapotokea', 'nafasi', 'mpya', 'za', 'ajira', 'zitajazwa', 'kwa', 'misingi', 'ya', 'Kikatiba', 'na', 'sheria', 'nyingine', 'zifaazo', 'kuhusu', 'hitaji', 'la', 'kuwa', 'na', 'makabila', 'tofauti', 'ili', 'kuzipa', 'nafasi', 'jamii', 'nyingine', ',', '”', 'kamati', 'hiyo', 'ilisema', '.', 'Ripoti', 'hiyo', 'sasa', 'imetilia', 'shaka', 'madai', 'ya', 'viongozi', 'wa', 'Pwani', 'kuhusu', 'ubaguzi', 'dhidi', 'ya', 'jamii', 'za', 'eneo', 'hilo', 'kiajira', 'katika', 'KPA', 'ambayo', 'husimamia', 'bandari', 'ya', 'Mombasa', '.', 'Ripoti', 'hiyo', 'imetokea', 'wakati', 'KPA', 'inatarajiwa', 'kuanzisha', 'mchakato', 'wa', 'kuajiri', 'watu', 'zaidi', 'ya', '900', 'ambao', 'watachukua', 'nafasi', 'za', 'wale', 'wanaotarajiwa', 'kustaafu', 'kufikia', 'mwaka', 'wa', '2023', '.', '“', 'KPA', 'haikuonyesha', 'thibitisho', 'la', 'hatua', 'ambazo', 'zimepangwa', 'kuchukuliwa', 'kuhakikisha', 'nafasi', 'mpya', 'zitajazwa', 'kwa', 'msingi', 'wa', 'Katiba', 'na', 'sheria', 'nyingine', 'zifaazo', ',', '”', 'kamati', 'ya', 'seneti', 'ikaeleza', '.', 'Kwa', 'miaka', 'mingi', ',', 'suala', 'la', 'ajira', 'bandarini', 'limekuwa', 'likiibua', 'malalamishi', 'mengi', 'kutoka', 'kwa', 'viongozi', 'wa', 'Pwani', 'ambao', 'hutaka', 'nafasi', 'za', 'usimamizi', 'zitengewe', 'Wapwani', 'ili', 'vijana', 'wengi', 'eneo', 'hilo', 'waajiriwe', '.', 'Mnamo', 'Julai', '2021', ',', 'uamuzi', 'wa', 'Mahakama', 'ya', 'Ajira', 'iliyo', 'Mombasa', 'ndio', 'ulifanikisha', 'kuajiriwa', 'kwa', 'Bw', 'John', 'Mwangemi', 'kuwa', 'Mkurugenzi', 'Mkuu', 'wa', 'KPA', 'baada', 'ya', 'mivutano', 'iliyodumu', 'kwa', 'muda', 'mrefu', '.', 'Bw', 'Mwangemi', 'alichukua', 'nafasi', 'ya', 'Bw', 'Rashid', 'Salim', 'ambaye', 'alistaafu', '.', 'Bw', 'Salim', 'alikuwa', 'ameshikilia', 'nafasi', 'hiyo', 'kama', 'kaimu', 'kwa', 'zaidi', 'ya', 'mwaka', 'mmoja', 'baada', 'ya', 'Bw', 'Daniel', 'Manduku', 'kujiuzulu', 'ghafla', 'Machi', '28', ',', '2020', 'alipohusishwa', 'na', 'sakata', 'ya', 'ufisadi', '.', 'EACC', 'yaahidi', 'kuchuja', 'vikali', 'wawaniaji', '2022', 'WANASIASA', 'wanaolenga', 'viti', 'mbalimbali', 'katika', 'uchaguzi', 'mkuu', 'ujao', 'lazima', 'watapitia', 'ukaguzi', 'wa', 'kina', 'kulingana', 'na', 'hitaji', 'la', 'katiba', 'kabla', 'ya', 'kuidhinishwa', 'kuwania', 'nyadhifa', 'hizo', '.', 'Tume', 'ya', 'Maadili', 'na', 'Kupambana', 'na', 'Ufisadi', '(', 'EACC', ')', 'ilisema', 'Alhamisi', 'kuwa', 'hakuna', 'mwanasiasa', 'ambaye', 'atasazwa', 'katika', 'ukaguzi', 'huo', 'ambao', 'utalenga', 'kuhakikisha', 'kuwa', 'wana', 'maadili', 'na', 'wametimiza', 'vigezo', 'kuwania', 'vyeo', 'hivyo', '.', 'Mkurugenzi', 'wa', 'Huduma', 'ya', 'Kisheria', 'David', 'Ruto', 'alisema', 'mbali', 'na', 'kujaza', 'fomu', ',', 'tume', 'hiyo', 'itakuwa', 'ikifanya', 'uchunguzi', 'wake', 'kibinafsi', 'kwa', 'wawaniaji', 'kutoka', 'vyama', 'mbalimbali', '.', '“', 'Wale', 'ambao', 'wanalenga', 'uongozi', 'wanafaa', 'wafahamu', 'kuwa', 'mara', 'hii', 'hatutalegeza', 'kamba', 'kuhakikisha', 'katiba', 'inafuatwa', '.', 'Kama', 'EACC', ',', 'tutafanya', 'kazi', 'pamoja', 'na', 'taasisi', 'nyingine', 'ili', 'tupate', 'viongozi', 'bora', ',', '”', 'akasema', 'Bw', 'Ruto', '.', 'Alikuwa', 'akizungumza', 'jijini', 'Mombasa', 'alipozindua', 'warsha', 'ya', 'wiki', 'moja', 'kuhamasisha', 'umma', 'kabla', 'ya', 'Disemba', '9', 'ambayo', 'ni', 'Siku', 'ya', 'Kupambana', 'na', 'Ufisadi', 'Duniani', '.', 'Aliwatahadharisha', 'wawaniaji', 'dhidi', 'ya', 'kutoa', 'taarifa', 'za', 'uongo', 'wanapojaza', 'fomu', 'za', 'uchaguzi', '.', '“', 'Wawaniaji', 'wanafaa', 'wafahamu', 'kuwa', 'hatutatumia', 'maelezo', 'kwenye', 'fomu', 'pekee', '.', 'Tutaenda', 'hatua', 'moja', 'zaidi', 'na', 'kuanzisha', 'uchunguzi', 'kuhusu', 'madai', 'dhidi', 'yao', 'ikiwemo', 'yale', 'ambayo', 'yametangazwa', 'katika', 'vyombo', 'vya', 'habari', ',', '”', 'akaonya', '.', 'Wakati', 'wa', 'warsha', 'hiyo', ',', 'Bw', 'Ruto', 'alisema', 'tume', 'hiyo', 'ishaanza', 'kuweka', 'mikakati', 'ya', 'kufanikisha', 'ushirikiano', 'wake', 'na', 'asasi', 'mbalimbali', 'za', 'serikali', ',', 'kwa', 'kuwa', 'Wakenya', 'wana', 'haki', 'ya', 'kuwachagua', 'watu', 'wasiokuwa', 'na', 'sifa', 'za', 'uporaji', 'mali', 'katika', 'uchaguzi', 'wa', 'Agosti', '2022', '.', '“', 'Tutaendelea', 'kuimarisha', 'utekelezaji', 'wa', 'kitengo', 'cha', 'sheria', 'na', 'kuhakikisha', 'wanasiasa', 'wanaosaka', 'vyeo', 'wamepita', 'mtihani', 'wa', 'maadili', '.', 'Tunajua', 'kuna', 'wale', 'wajanja', 'watakaolenga', 'kutoa', 'habari', 'za', 'uongo', 'ili', 'waidhinishwe', 'ila', 'nawaonya', 'kuwa', 'tuko', 'nao', 'na', 'tutawakabili', ',', '”', 'akasema', 'Bw', 'Ruto', '.', 'Pia', 'afisa', 'huyo', 'aliwataka', 'wapigakura', 'nao', 'wawe', 'macho', 'na', 'kuzingatia', 'sifa', 'za', 'wanasiasa', 'wanaosaka', 'uongozi', ',', 'akisema', 'hiyo', 'itarahisha', 'kazi', 'zaidi', 'kwa', 'EACC', 'na', 'IEBC', '.', 'Bungeni', ',', 'wanasiasa', 'wamekuwa', 'wakipigania', 'marekebisho', 'kwenye', 'kifungu', 'cha', 'Uongozi', 'na', 'Uwazi', 'ili', 'wanasiasa', 'ambao', 'wanakabiliwa', 'na', 'kesi', 'za', 'uhalifu', 'wasiruhusiwe', 'kuwania', 'vyeo', 'mbalimbali', '.', 'Hata', 'hivyo', ',', 'baadhi', 'ya', 'wabunge', 'wamepinga', 'marekebisho', 'hayo', 'wakisema', 'kuwa', 'sheria', 'yenyewe', 'inasisitiza', 'mtu', 'hana', 'kosa', 'au', 'hatia', 'hadi', 'pale', 'mkondo', 'wa', 'kisheria', 'utathibitisha', 'hivyo', '.', 'Corona', 'yafagia', 'asilimia', '35', 'ya', 'biashara', 'ndogo', 'MAKALI', 'ya', 'janga', 'la', 'Covid-19', 'yalilemaza', 'pakubwa', 'uchumi', 'wa', 'biashara', 'ndogondogo', 'nchini', ',', 'ambapo', 'asilimia', '35', 'ya', 'biashara', 'zote', 'zilifagiliwa', 'kufikia', 'Julai', '2021', '.', 'Hii', 'ni', 'kulingana', 'na', 'ripoti', 'ya', 'hivi', 'punde', 'zaidi', 'kutoka', 'kwa', 'Benki', 'Kuu', 'ya', 'Kenya', '(', 'CBK', ')', ',', 'ambayo', 'kwa', 'mara', 'ya', 'kwanza', 'imeonyesha', 'jinsi', 'biashara', 'hizo', 'za', 'juakali', ',', 'zinazojumuisha', 'asilimia', '98', 'ya', 'biashara', 'zote', 'nchini', ',', 'ziliathirika', 'kati', 'ya', 'Februari', '2020', 'na', 'Julai', '2021', '.', 'Ripoti', 'hiyo', 'ambayo', 'ilitolewa', 'Alhamisi', 'imedokeza', 'kuwa', 'nyingi', 'za', 'biashara', 'hizo', '–', 'ambazo', 'kwa', 'kawaida', 'huajiri', 'hadi', 'wafanyakazi', 'tisa', '–', 'zilifungwa', ',', 'kukosa', 'uwezo', 'wa', 'kuweka', 'hazina', ',', 'kupungukiwa', 'na', 'wateja', 'na', 'familia', 'za', 'wamiliki', 'wake', 'kuteseka', 'kwa', 'njaa', '.', 'Biashara', 'husika', 'ni', 'kama', 'maduka', ',', 'biashara', 'za', 'vibanda', ',', 'vinyozi', ',', 'hoteli', 'ndogo', 'na', 'nyingine', 'ambazo', 'wamiliki', 'wake', 'huzitumia', 'kama', 'chanzo', 'cha', 'mapato', 'yao', '.', '“', 'Kufikia', 'Julai', '2021', ',', 'ni', 'asilimia', '38', 'ya', 'biashara', 'za', 'MSE', 'tu', 'zilizokuwa', 'zimerejelea', 'hali', 'yao', 'ya', 'kabla', 'ya', 'janga', 'la', 'Covid-19', 'kimapato', ',', 'lakini', 'asilimia', '62', 'bado', 'zinapata', 'mapato', 'ya', 'chini', 'ikilinganishwa', 'na', 'Februari', '2020', '.', 'Vilevile', ',', 'biashara', 'zilizofungwa', 'ziliongezeka', '2021', ',', 'huku', 'asilimia', '35', 'ya', 'wamiliki', 'wa', 'biashara', 'waliokua', 'kazini', 'kabla', 'ya', 'Covid-19', 'wakitokomea', 'kufikia', 'Julai', '2021', ',', '”', 'ripoti', 'hiyo', 'ikasema', '.', 'Hii', 'ndiyo', 'ripoti', 'ya', 'kwanza', 'kuonyesha', 'kiwango', 'ambacho', 'janga', 'la', 'Covid-19', 'limeathiri', 'uchumi', 'wa', 'biashara', 'za', 'juakali', 'nchini', ',', 'na', 'inaongeza', 'kusema', 'kuwa', 'wengi', 'wa', 'wafanyabiashara', 'hizo', 'bado', 'hawana', 'imani', 'kuwa', 'mwaka', 'huu', 'hali', 'itakuwa', 'nzuri', ',', 'kutokana', 'na', 'kupungua', 'kwa', 'idadi', 'ya', 'wateja', '.', 'Jumla', 'ya', 'asilimia', '34', 'ya', 'wamiliki', 'wa', 'biashara', 'hizo', 'kufikia', 'Julai', 'walisema', 'kuwa', 'hali', 'ya', 'biashara', 'zao', 'imezorota', ',', 'ikilinganishwa', 'na', 'asilimia', '11', 'waliotoa', 'maoni', 'sawia', 'Novemba', '2020', '.', 'Ripoti', 'hiyo', 'aidha', 'inasema', 'kuwa', 'biashara', 'nyingi', 'nchini', '(', 'asilimia', '68', ')', 'zimekuwa', 'katika', 'hali', 'mbaya', 'na', 'kushindwa', 'kuweka', 'hazina', 'ambayo', 'inaweza', 'kuziokoa', 'wakati', 'wa', 'janga', ',', 'kutoka', 'asilimia', '40', 'ambazo', 'hazikuwa', 'na', 'hazina', 'Februari', '2020', '.', 'Maisha', 'yalipokuwa', 'magumu', 'kwa', 'wamiliki', 'wa', 'biashara', 'hizi', ',', 'wengi', 'wao', 'walishindwa', 'kutimiza', 'majukumu', 'ya', 'kibinafsi', 'kwa', 'familia', 'zao', 'kama', 'kuzipa', 'chakula', ',', 'ripoti', 'hii', 'ikionyesha', 'kuwa', 'takriban', 'nusu', 'ya', 'familia', 'za', 'wamiliki', 'wa', 'biashara', 'za', 'juakali', '(', 'asilimia', '47', ')', 'zilikuwa', 'zikikosa', 'chakula', 'kufikia', 'Julai', '2021', '.', 'Hii', 'ni', 'ikilinganishwa', 'na', 'asilimia', '14', 'ya', 'familia', 'zilizokuwa', 'zikikosa', 'Februari', '2020', ',', 'na', 'asilimia', '61', 'ambayo', 'ndiyo', 'kubwa', 'zaidi', 'kwa', 'familia', 'zilizokosa', 'chakula-', 'kati', 'ya', 'Aprili', 'na', 'Julai', '2020', '.', 'Matokeo', 'ya', 'utafiti', 'huo', 'uliofanyika', 'kati', 'ya', 'Februari', '2020', 'na', 'Julai', '2021', 'yamefichua', 'mateso', 'ambayo', 'familia', 'nyingi', 'zilizokuwa', 'zikitegemea', 'biashara', 'za', 'Jua', 'Kali', 'nchini', 'zimepitia', 'kwa', 'kipindi', 'cha', 'miezi', '17', ',', 'na', 'ambayo', 'bado', 'hayajaisha', 'kutokana', 'na', 'hali', 'ya', 'mfumko', 'wa', 'bei', 'za', 'bidhaa', 'muhimu', 'ambao', 'umekuwepo', 'mwaka', 'huu', '2021', '.', 'Shirika', 'la', 'Kukusanya', 'Takwimu', 'Kenya', '(', 'KNBS', ')', 'mnamo', '2016', 'lilibaini', 'kuwa', 'biashara', 'za', 'juakali', 'zinajumuisha', 'asilimia', '98', 'ya', 'biashara', 'zote', 'Kenya', '.', 'Habari', 'kuhusu', 'nyingi', 'za', 'biashara', 'hizi', 'hazipatikani', 'kwa', 'kuwa', 'hazijarasmisha', 'shughuli', 'zao', ',', 'kwa', 'kukosa', 'usajili', '(', 'asilimia', '92', ')', 'wala', 'leseni', '(', 'asilimia', '65', ')', 'na', 'hivyo', 'imekuwa', 'vigumu', 'kwa', 'serikali', 'kubaini', 'hali', 'yake', '.', 'CBK', 'katika', 'ripoti', 'ya', 'sasa', 'ilibaini', 'kuwa', 'nyingi', 'za', 'biashara', 'hizo', 'sasa', 'zimelazimika', 'kubuni', 'mbinu', 'za', 'kutumia', 'mitandao', 'kwa', 'malipo', 'na', 'mauzo', 'ya', 'bidhaa', ',', 'kama', 'mbinu', 'ya', 'kupata', 'hela', 'zaidi', 'na', 'kuendelea', 'kujikimu', '.', '“', 'Asilimia', '70', 'ya', 'wamiliki', 'wa', 'biashara', 'ndogo', 'zaidi', 'mnamo', 'Juali', '2021', 'walisema', 'kuwa', 'walikuwa', 'wakikubali', 'malipo', 'kidijitali', ',', 'kutoka', 'asilimia', '59', 'waliokuwa', 'wakikubali', 'Februari', '2020', ',', '”', 'ripoti', 'hiyo', 'ikasema', '.', 'Kulingana', 'na', 'ripoti', 'hiyo', ',', 'Gavana', 'Twaha', 'akishirikiana', 'na', 'Katibu', 'wa', 'Kaunti', 'ya', 'Lamu', 'na', 'Mkuu', 'wa', 'Utumishi', 'wa', 'Umma', 'walitoa', 'barua', 'za', 'uajiri', 'kwa', 'watu', '12', 'katika', 'vyeo', 'tofauti', '.', '“', 'Uchunguzi', 'uligundua', 'kuwa', 'watu', 'hao', '12', 'walioajiriwa', 'hawakuwa', 'wamehitimu', 'kielimu', 'na', 'pia', 'waliajiriwa', 'bila', 'kuhusisha', 'Bodi', 'ya', 'Huduma', 'za', 'Kaunti', ',', 'ambayo', 'imepewa', 'jukumu', 'la', 'kuajiri', 'wafanyikazi', 'wa', 'serikali', 'ya', 'kaunti', ',', '”', 'inadokeza', 'sehemu', 'ya', 'ripoti', 'hiyo', '.', 'Kwingineko', ',', 'EACC', 'imependekeza', 'kushtakiwa', 'kwa', 'maafisa', 'wa', 'Mamlaka', 'ya', 'Bandari', '(', 'KPA', ')', 'pamoja', 'na', 'wakurugenzi', 'wa', 'kampuni', 'sita', 'za', 'kibinafsi', 'kwa', 'madai', 'ufisadi', 'katika', 'ununuzi', 'wa', 'maji', 'ya', 'kunywa', 'yaliyosababisha', 'kupotea', 'kwa', 'Sh137.6', 'milioni', '.', 'Tume', 'hiyo', 'inasema', 'ufisadi', 'huo', 'uliohusisha', 'kampuni', 'sita', 'zilizopewa', 'kandarasi', 'ya', 'kuuzia', 'KPA', 'maji', 'bila', 'kufuata', 'kanuni', 'za', 'ununuzi', 'ulifanyika', 'katika', 'mwaka', 'wa', 'fedha', 'wa', '2017/2018', '.', 'EACC', 'inaeleza', 'kuwa', 'uchunguzi', 'wake', 'uligundua', 'baadhi', 'ya', 'kampuni', 'husika', 'zililipwa', 'licha', 'ya', 'kuwa', 'hazikuwasilisha', 'maji', 'kwa', 'KPA', '.', 'EACC', 'kwenye', 'ripoti', 'yake', 'iliyowasilishwa', 'kwa', 'DPP', 'ili', 'kuwachukulia', 'hatua', 'washukiwa', 'inasema', 'imependekeza', 'wafunguliwe', 'mashtaka', 'ya', 'udanganyifu', ',', 'matumizi', 'mabaya', 'ya', 'ofisi', ',', 'kukaidi', 'sheria', 'na', 'kanuni', 'za', 'ununuzi', 'na', 'ulaghai', 'wa', 'mali', 'ya', 'umma', '.', 'KPA', 'pia', 'imemulikwa', 'na', 'EACC', 'kuhusiana', 'na', 'utoaji', 'zabuni', 'ambayo', 'gharama', 'yake', 'imezidi', 'kiasi', 'cha', 'pesa', 'zilizotengwa', 'kwenye', 'bajeti', '.', 'Tume', 'hiyo', 'inasema', 'kampuni', 'ya', 'Alootek', 'Systems', 'Limited', 'ilipewa', 'zabuni', 'hiyo', 'ya', 'kutunza', 'mtambo', 'wa', 'Copco', 'Compressors', 'ya', 'thamani', 'ya', 'Sh8.4', 'milioni', '.', 'Inasema', 'Alootek', 'ilipewa', 'zabuni', 'hiyo', 'moja', 'kwa', 'moja', 'bila', 'kuitisha', 'maombi', 'kutoka', 'kwa', 'kampuni', 'nyingine', '.', 'Sasa', 'EACC', 'inataka', 'maafisa', 'wa', 'KPA', 'waliohusika', 'pamoja', 'na', 'wakurugenzi', 'wa', 'Alootek', 'washtakiwe', '.']\n",
      "\n",
      " Number of Words:  1684\n"
     ]
    }
   ],
   "source": [
    "file=\"21dec3.txt\"\n",
    "\n",
    "# calling the function and storing the contents in a text variable \n",
    "text1 = get_document(\"https://taifaleo.nation.co.ke/kpa-imeajiri-wapwani-kupita-kiasi/\")\n",
    "text2 = get_document(\"https://taifaleo.nation.co.ke/eacc-yaahidi-kuchuja-vikali-wawaniaji-2022/\")\n",
    "text4 = get_document(\"https://taifaleo.nation.co.ke/corona-yafagia-asilimia-35-ya-biashara-ndogo/\")\n",
    "text5 = get_document(\"https://taifaleo.nation.co.ke/eacc-yammulika-gavana-wa-lamu/\")\n",
    "\n",
    "# calling the store_ document function \n",
    "store_document(doc=text1,name=file)\n",
    "store_document(doc=text2,name=file)\n",
    "store_document(doc=text4,name=file)\n",
    "store_document(doc=text5,name=file)\n",
    "\n",
    "#add the words in this file to the total_corpus_words, to keep count of the number of words in the corpus\n",
    "total_corpus_words+=total_words(file)"
   ]
  },
  {
   "cell_type": "code",
   "execution_count": 95,
   "metadata": {},
   "outputs": [
    {
     "data": {
      "text/plain": [
       "794353"
      ]
     },
     "execution_count": 95,
     "metadata": {},
     "output_type": "execute_result"
    }
   ],
   "source": [
    "total_corpus_words"
   ]
  },
  {
   "cell_type": "code",
   "execution_count": 98,
   "metadata": {},
   "outputs": [
    {
     "name": "stdout",
     "output_type": "stream",
     "text": [
      "['Mwanaharakati', 'huyo', 'alitoroka', 'Kenya', '2018', 'akidai', 'kuwa', 'maisha', 'yake', 'yalikuwa', 'hatarini', 'kwa', 'kutishwa', 'na', 'watu', 'wenye', 'ushawishi', 'ambao', 'hawakufurahishwa', 'na', 'juhudi', 'zake', 'za', 'kutetea', 'masikini', '.', '“', 'Nimefurahi', 'kurejea', 'Kenya', 'baada', 'ya', 'miaka', 'mitatu', '.', 'Ninataka', 'serikali', 'ya', 'Kenya', 'kunihakikishia', 'usalama', 'wangu', '.', 'Sitachoka', 'kutetea', 'wanyonge', 'wa', 'nchi', 'hii', 'na', 'ulimwengu', 'kwa', 'jumula', 'kwa', 'sababu', 'huo', 'ndio', 'wito', 'wangu', ',', '”', 'alisema', 'Bw', 'Kimengere', 'ambaye', 'ni', 'katibu', 'mratibu', 'wa', 'chama', 'cha', 'Commonwealth', 'Voters', 'Right', 's', 'and', 'Privileges', 'Association', '(', 'COWEVOPRA', ')', '.', 'Mwanaharakati', 'huyo', 'alisema', 'kwamba', 'wakati', 'huu', 'ambao', 'Kenya', 'inaelekea', 'uchaguzi', 'mkuu', 'mwaka', 'ujao', ',', 'atahamasisha', 'wapigakura', 'kura', 'haki', 'zao', 'ili', 'wafanye', 'uamuzi', 'huru', 'na', 'wa', 'haki', '.', '“', 'Nchi', 'hii', 'itajengwa', 'na', 'wanyonge', 'lakini', 'ni', 'lazima', 'wafahamu', 'haki', 'zao', 'kwanza', '.', 'Kazi', 'yangu', 'kabla', 'ya', 'uchaguzi', 'huo', 'itakuwa', 'ni', 'kuhakikisha', 'wanafahamu', 'haki', 'zao', 'ili', 'waweze', 'kufanya', 'uamuzi', 'huru', 'na', 'wa', 'haki', ',', '”', 'alisema', 'Kimengere', ',', 'mzaliwa', 'wa', 'Othaya', 'kaunti', 'ya', 'Nyeri', '.', 'Alielezea', 'azima', 'yake', 'ya', 'kugombea', 'kiti', 'cha', 'ubunge', 'cha', 'Othaya', 'ambacho', 'aliwania', 'kwenye', 'uchaguzi', 'mkuu', 'wa', '2013', '.', '“', 'Nimerejea', 'nchini', 'wakati', 'wa', 'siasa', 'za', 'uchaguzi', 'mkuu', 'wa', 'mwaka', '2022', 'na', 'watu', 'wa', 'Othaya', 'wameniomba', 'nifikirie', 'kuwa', 'mwakilishi', 'wao', 'bungeni', '.', 'Itakuwa', 'fursa', 'nzuri', 'ya', 'wanyonge', 'wa', 'nchi', 'hii', 'kupata', 'mwakilishi', 'wao', 'katika', 'Bunge', 'la', 'Kitaifa', ',', '”', 'akasema', 'Bw', 'Kimengere', '.', 'Alisisitiza', 'kuwa', 'Kenya', 'inahitaji', 'uongozi', 'unaojali', 'maslahi', 'ya', 'masikini', 'na', 'sio', 'mabwanyenye', 'wanaotoka', 'familia', 'za', 'waliokuwa', 'watawala', '.', '“', 'Tutabadilisha', 'siasa', 'za', 'nchi', 'yetu', '.', 'Tuko', 'na', 'kazi', 'kama', 'wanyonge', 'na', 'tutaifanya', 'bila', 'woga', 'hata', 'tukitishwa', ',', '”', 'alisema', '.', 'Bw', 'Kimengere', 'alishukuru', 'serikali', 'za', 'Norway', 'na', 'Iceland', 'kwa', 'kumpa', 'hifadhi', 'kwa', 'miaka', 'mitatu', '.', 'Mbunge', 'huyo', 'ameshtakiwa', 'kwa', 'madai', 'ya', 'kuilaghai', 'serikali', 'kupitia', 'Hazina', 'ya', 'Kitaifa', 'ya', 'Ustawi', 'wa', 'Maneobunge', '(', 'CDF', ')', 'ya', 'Malindi', 'jumla', 'ya', 'Sh19', 'milioni', ',', 'zilizolipwa', 'kampuni', 'ya', 'Multiserve', 'iliyopewa', 'kandarasi', 'na', 'Bi', 'Jumwa', '.', 'Shirika', 'la', 'PrimRose', 'laokoa', 'walevi', 'Gatundu', 'Kaskazini', 'WAKAZI', 'wa', 'kijiji', 'cha', 'Kawira', 'eneo', 'la', 'Gatundu', 'Kaskazini', ',', 'wanalalamikia', 'jinsi', 'pombe', 'haramu', 'imefanya', 'vijana', 'kushindwa', 'kufanya', 'kazi', '.', 'Mjane', 'mmoja', 'Bi', 'Felista', 'Wambui', 'anasema', 'ya', 'kwamba', 'familia', 'yake', 'ya', 'watoto', '14', 'ni', 'mzigo', 'kwake', 'na', 'tayari', 'vijana', 'wake', 'watatu', 'wametekwa', 'nyara', 'na', 'pombe', 'haramu', '.', 'Alieleza', 'kuwa', 'baada', 'ya', 'mume', 'wake', 'kuaga', 'dunia', 'miaka', 'michache', 'iliyopita', ',', 'aliachwa', 'na', 'familia', 'kubwa', 'ambayo', 'hawezi', 'kuisimamia', 'ipasavyo', '.', '“', 'Tayari', 'mimi', 'ni', 'mjane', 'ambaye', 'amelemewa', 'na', 'mzigo', 'wa', 'familia', '.', 'Vijana', 'wangu', 'wengine', 'ni', 'walevi', 'ambapo', 'hakuna', 'kazi', 'yoyote', 'wanayojishughulisha', 'nayo', ',', '”', 'alifafanua', 'mjane', 'huyo', 'na', 'kuongeza', 'maisha', 'yamenifikisha', 'ukingoni', 'hata', 'sijui', 'nifanyeje', '.', 'Alidai', 'kuwa', 'mtoto', 'wake', 'wa', 'kiume', 'kwa', 'jina', 'la', 'utani', '‘', 'Komero', '’', ',', 'amelemewa', 'na', 'pombe', 'ambapo', 'kutoka', 'asubuhi', 'hadi', 'jioni', 'yeye', 'uraibu', 'wake', 'ni', 'kulewa', 'chakari', 'Hivi', 'majuzi', 'kijana', 'wake', 'mwingine', 'alibomoa', 'paa', 'la', 'nyumba', 'na', 'kuuza', 'mabati', 'hayo', 'ili', 'apate', 'angalau', 'hela', 'ya', 'kupata', '‘', 'kinywaji', '’', '.', '“', 'Kwa', 'sasa', 'anaishi', 'kwa', 'nyumba', 'ambayo', 'imebomolewa', 'paa', 'upande', 'fulani', '.', 'Jambo', 'hilo', 'limenikera', 'na', 'hata', 'kukasirisha', 'wanakijiji', 'wa', 'eneo', 'hili', ',', '”', 'alifafanua', 'Bi', 'Wambui', '.', 'Hata', 'hivyo', ',', 'shirika', 'moja', 'lisilo', 'la', 'kiserikali', 'la', 'Primrose', 'Rehab', 'and', 'Wellness', ',', 'limejitolea', 'kuhifadhi', 'kijana', 'mmoja', 'wa', 'mama', 'huyo', 'ili', 'aweze', 'kupewa', 'mwongozo', 'jinsi', 'ya', 'kurekebisha', 'maisha', 'yake', '.', 'Bw', 'Joseph', 'Kamau', 'ambaye', 'ni', 'mkurugenzi', 'wa', 'shirika', 'hilo', 'alisema', 'walichukua', 'hatua', 'hiyo', 'ya', 'dharura', 'baada', 'ya', 'jambo', 'hilo', 'kuangaziwa', 'katika', 'kituo', 'cha', 'redio', 'cha', 'Inooro', 'wiki', 'moja', 'iliyopita', '.', '“', 'Sisi', 'kama', 'shirika', 'la', 'kurekebisha', 'tabia', 'tuliona', 'ni', 'vyema', 'tuingilie', 'kati', 'ili', 'kuokoa', 'maisha', 'ya', 'kijana', 'huyo', 'ambaye', 'alionekana', 'kuathirika', 'kutokana', 'na', 'unywaji', 'wa', 'pombe', 'haramu', ',', '”', 'alieleza', 'Bw', 'Kamau', '.', 'Alisema', 'watakuwa', 'naye', 'katika', 'kituo', 'hicho', 'kwa', 'muda', 'wa', 'miezi', 'mitatu', 'mfululizo', 'ili', 'kukagua', 'mienendo', 'yake', 'huku', 'akipokea', 'mawaidha', 'na', 'matibabu', '.', 'Alieleza', 'pia', 'kuwa', 'shirika', 'hilo', 'linatetea', 'watu', 'walioathirika', 'kutokana', 'na', 'ulevi', ',', 'dawa', 'za', 'kulevya', 'na', 'waliozamia', 'kwenye', 'mchezo', 'wa', 'kamari', '.', 'Hivi', 'majuzi', 'wakazi', 'wa', 'kijiji', 'hicho', 'walitaka', 'serikali', 'kuingilia', 'kati', 'jambo', 'hilo', 'kwa', 'sababu', 'vijana', 'wengi', 'wameshindwa', 'kuoa', 'na', 'wengine', 'wameasi', 'familia', 'zao', '.', 'Ilidaiwa', 'pia', 'hakuna', 'boma', 'la', 'kujivunia', 'kwa', 'sababu', 'vijana', 'wengi', 'hawapatikani', 'nyumbani', ',', 'kutekeleza', 'majukumu', 'yao', '.', 'Wakazi', 'wa', 'eneo', 'hilo', 'wamepongeza', 'hatua', 'iliyochukuliwa', 'na', 'shirika', 'hilo', 'la', 'Primrose', 'Rehab', 'and', 'Wellness', ',', 'huku', 'wakitaka', 'lifanye', 'juhudi', 'kuwapokea', 'vijana', 'zaidi', 'ili', 'kuwarekebisha', 'tabia', 'na', 'kuwapa', 'mwongozo', 'wa', 'kimaisha', '.']\n",
      "\n",
      " Number of Words:  710\n"
     ]
    }
   ],
   "source": [
    "file=\"21dec4.txt\"\n",
    "\n",
    "# calling the function and storing the contents in a text variable \n",
    "text1 = get_document(\"https://taifaleo.nation.co.ke/david-kimengere-arejea-nchini/\")\n",
    "text2 = get_document(\"https://taifaleo.nation.co.ke/jumwa-na-wengine-6-wataka-kesi-ya-ufisadi-dhidi-yao-isikilizwe-upya/\")\n",
    "text4 = get_document(\"https://taifaleo.nation.co.ke/shirika-la-primrose-laokoa-walevi-gatundu-kaskazini/\")\n",
    "\n",
    "# calling the store_ document function \n",
    "store_document(doc=text1,name=file)\n",
    "store_document(doc=text2,name=file)\n",
    "store_document(doc=text4,name=file)\n",
    "\n",
    "#add the words in this file to the total_corpus_words, to keep count of the number of words in the corpus\n",
    "total_corpus_words+=total_words(file)"
   ]
  },
  {
   "cell_type": "code",
   "execution_count": 99,
   "metadata": {},
   "outputs": [
    {
     "data": {
      "text/plain": [
       "795063"
      ]
     },
     "execution_count": 99,
     "metadata": {},
     "output_type": "execute_result"
    }
   ],
   "source": [
    "total_corpus_words"
   ]
  },
  {
   "cell_type": "code",
   "execution_count": 104,
   "metadata": {},
   "outputs": [
    {
     "name": "stdout",
     "output_type": "stream",
     "text": [
      "['KFS', 'yawahakikishia', 'wakazi', 'huduma', 'za', 'feri', 'zitarejea', 'mwaka', '2022', 'Huduma', 'za', 'feri', 'ambazo', 'zilisitishwa', 'miezi', 'mitatu', 'iliyopita', ',', 'zitarajea', 'baada', 'ya', 'serikali', 'kumaliza', 'ukarabati', 'wa', 'sehemu', 'ya', 'daraja', 'ambalo', 'liliharibika', 'Januari', '.', 'KPA', 'imekuwa', 'ikikarabati', 'daraja', 'hilo', 'kwa', 'kima', 'cha', 'Sh398', 'milioni', 'baada', 'ya', 'sehemu', 'kuharibika', 'mara', 'mbili', 'hali', 'iliyohatarisha', 'maisha', 'ya', 'wasafiri', '.', 'Kamati', 'ya', 'Bunge', 'Kuhusu', 'Uwekezaji', 'imekuwa', 'ikichunguza', 'ubadhirifu', 'wa', 'fedha', 'kwenye', 'ukarabati', 'huo', 'ambao', 'wanakandarasi', 'wamekashifiwa', 'kwa', 'kuzembea', 'na', 'kufanya', 'kazi', 'duni', '.', 'Mkurugenzi', 'wa', 'Huduma', 'za', 'Feri', 'Nchini', '(', 'KFS', ')', 'Bakari', 'Gowa', ',', 'Jumamosi', 'alitetea', 'ukarabati', 'huo', 'ambao', 'umechukua', 'muda', 'mrefu', ',', 'akisema', 'kwa', 'sasa', 'mchakato', 'wa', 'kutoa', 'zabuni', 'unaendelea', 'na', 'mwakani', 'huduma', 'za', 'feri', 'zitarajelewa', '.', '“', 'Tunatarajia', 'huduma', 'zinarejelewa', 'mnamo', 'Januari', '.', 'Vyuma', 'ambavyo', 'ni', 'sehemu', 'ya', 'daraja', 'hilo', 'vilikuwa', 'vimezibwa', 'na', 'maji', 'na', 'sasa', 'kiwango', 'cha', 'maji', 'kinaelekea', 'kupungua', 'ili', 'vichomwe.Kwa', 'sasa', 'ukarabati', 'wa', 'sehemu', 'zote', 'unaendelea', 'vizuri', 'na', 'haja', 'kuu', 'ni', 'kuhakikisha', 'shughuli', 'za', 'usafiri', 'zikirejelewa', 'zitakuwa', 'salama', ',', '”', 'akasema', 'Bw', 'Gowa', '.', 'Mwanzoni', ',', 'Shirika', 'la', 'Huduma', 'za', 'Feri', '(', 'KFS', ')', 'ambalo', 'sasa', 'liko', 'chini', 'ya', 'KPA', ',', 'lilitekeleza', 'ukarabati', 'kwenye', 'daraja', 'hilo', 'ambalo', 'linapakana', 'na', 'Bara', 'Hindi', '.', '“', 'Kwa', 'sasa', 'huduma', 'za', 'usafiri', 'wa', 'feri', 'haziwezi', 'kurejelewa', 'kwa', 'kuwa', 'hiyo', 'itakuwa', 'kuhatarisha', 'maisha', 'ya', 'wasafiri', '.', 'Ni', 'vyema', 'ukarabati', 'wa', 'daraja', 'unaoendelea', 'ukamilike', 'pande', 'zote', ',', '”', 'akaongeza', '.', 'Hapo', 'awali', 'huduma', 'za', 'feri', 'ambazo', 'hutumiwa', 'na', 'watu', '3,000', 'kila', 'siku', 'ziliendelea', 'kwa', 'muda', 'wa', 'miezi', '19', 'baada', 'ya', 'uzinduzi', 'ulioongozwa', 'na', 'Rais', 'Uhuru', 'Kenyatta', '.', '“', 'Hatukuwa', 'na', 'shida', 'wakati', 'huo', 'na', 'usafiri', 'uliendelea', 'vizuri', '.', 'Hata', 'hivyo', ',', 'mnamo', 'Septemba', ',', 'tulifanya', 'uchunguzi', 'wetu', 'na', 'tukapata', 'kulikuwa', 'na', 'uharibifu', 'ambao', 'ungehatarisha', 'maisha', 'ya', 'raia', ',', '”', 'akaongeza', '.', '“', 'Walifanya', 'kazi', 'mbovu', 'na', 'kutumia', 'vifaa', 'vya', 'kiwango', 'cha', 'chini', '.', 'Muda', 'wa', 'miezi', '19', 'ni', 'mchache', 'sana', 'kwa', 'daraja', 'ambalo', 'lilitengenezwa', 'hapo', 'awali', 'kuharibika', '.', 'Lengo', 'la', 'wanakandarasi', 'hawa', 'ni', 'kukula', 'pesa', ',', '”', 'akasema', 'Bw', 'Ashid', 'Kassim', ',', 'mbunge', 'wa', 'Marsabit', 'Magharibi', '.', '“', 'Ninashughulishwa', 'sana', 'na', 'suala', 'hili', 'kwa', 'sababu', 'mradi', 'huu', 'ungekamilika', 'zamani', 'na', 'hata', 'muda', 'huu', 'ambao', 'umesongeshwa', 'hata', 'hawatamaliza', 'kazi', 'hii', '.', 'Huu', 'mradi', 'umekwama', 'kwa', 'muda', 'mwingi', 'na', 'tunafaa', 'kuwahakikishia', 'wakazi', 'wa', 'Pwani', 'kuwa', 'usafiri', 'utarejelewa', 'kama', 'zamani', ',', '”', 'akaongeza', '.', 'Kauli', 'yake', 'iliungwa', 'mkono', 'na', 'Bw', 'Katana', 'ambaye', 'alitaka', 'KPA', 'itoe', 'stakabadhi', 'zote', 'za', 'utoaji', 'zabuni', 'na', 'gharama', 'iliyotumika', 'kwa', 'ukarabati', 'wa', 'mwanzo', 'ndipo', 'bunge', 'ibaini', 'iwapo', 'kulikuwa', 'na', 'ubadhirifu', 'wa', 'pesa', '.', 'Wadudu', 'waharibifu', 'wavamia', 'mashamba', 'ya', 'mahindi', 'Gatundu', 'Kaskazini', 'WAKAZI', 'wa', 'kijiji', 'cha', 'Kianganga', ',', 'Mitero', ',', 'Gatundu', 'Kaskazini', 'wanalalamikia', 'upungufu', 'mahindi', 'katika', 'mashamba', 'yao', '.', 'Walidai', 'ya', 'kwamba', 'viwavijeshi', 'wamevamia', 'mahindi', 'kwenye', 'mashamba', 'yao', 'na', 'kusababisha', 'upungufu', 'wa', 'mahindi', '.', 'Bernard', 'Chege', ',', 'ambaye', 'ni', 'mkazi', 'wa', 'kijiji', 'hicho', ',', 'anasema', 'ni', 'muda', 'wa', 'miaka', 'mitano', 'ambapo', 'wamevuna', 'mahindi', 'kiwango', 'cha', 'chini', 'mno', '.', '“', 'Tunaiomba', 'serikali', 'ifanye', 'juhudi', 'kuona', 'ya', 'kwamba', 'inatuma', 'maafisa', 'wa', 'kilimo', 'vijijini', 'ili', 'kuhamasisha', 'wakulima', 'jinsi', 'ya', 'kukabiliana', 'na', 'wadudu', 'hao', ',', '”', 'alieleza', 'Bw', 'Chege', 'na', 'kuongeza', 'kuwa', 'kwa', 'sasa', 'hawajui', 'la', 'kufanya', '.', 'Alizidi', 'kueleza', 'kuwa', 'hata', 'mvua', 'inayoendelea', 'kuonyesha', 'imeharibu', 'mazao', 'mengi', 'katika', 'eneo', 'hilo', '.', 'Alieleza', 'kuwa', 'jambo', 'muhimu', 'wanalohitaji', 'kutoka', 'kwa', 'serikali', 'ni', 'mbegu', 'za', 'mahindi', 'ili', 'waweze', 'kupanda', '.', 'Naye', 'Bi', 'Monica', 'Wanyoike', 'alisema', 'licha', 'ya', 'kufanya', 'bidii', 'na', 'kupanda', 'mahindi', 'kwa', 'wingi', 'amekosa', 'kupata', 'mavuno', 'ya', 'kuridhisha', '.', '“', 'Sisi', 'kama', 'wakulima', 'wa', 'kijiji', 'hiki', 'tumetuma', 'ujumbe', 'kwa', 'serikali', 'kuona', 'ya', 'kwamba', 'maafisa', 'wa', 'kilimo', 'wanakuja', 'mashinani', 'ili', 'kujionea', 'hasara', 'iliyoko', 'kwenye', 'mashamba', 'yetu', ',', '”', 'alifafanua', 'Bi', 'Wanyoike', '.', 'Rais', 'atoa', 'ahadi', 'ya', 'kuwainua', 'walemavu', 'RAIS', 'Uhuru', 'Kenyatta', 'amekariri', 'kujitolea', 'kwa', 'serikali', 'katika', 'kuboresha', 'maslahi', 'ya', 'walemavu', ',', 'akisema', 'watasaidiwa', 'kushiriki', 'kikamilifu', 'katika', 'ujenzi', 'wa', 'taifa', '.', 'Rais', ',', 'ambaye', 'alizungumza', 'Ijumaa', 'KICC', 'ambako', 'aliongoza', 'kuadhimisha', 'siku', 'ya', 'Umoja', 'wa', 'Mataifa', 'kuhusu', 'Walemavu', ',', 'alisema', 'walemavu', 'wameendelea', 'kuchukua', 'nyadhifa', 'muhimu', 'za', 'uongozi', 'katika', 'nyanja', 'nyingi', 'ikiwemo', 'siasa', '.', 'Ili', 'kuhakikisha', 'kwamba', 'haki', 'za', 'kiafya', 'za', 'walemavu', 'zimelindwa', 'katika', 'mpango', 'unaoendelea', 'wa', 'Afya', 'Bora', 'kwa', 'Wote', ',', 'Rais', 'aliagiza', 'Wizara', 'ya', 'Afya', 'kuhakikisha', 'huduma', 'za', 'matibabu', 'kuwasaidia', 'walemavu', 'kujimudu', 'katika', 'hali', 'waliyo', 'nayo', 'zinatolewa', 'pia', '.']\n",
      "\n",
      " Number of Words:  686\n"
     ]
    }
   ],
   "source": [
    "file=\"21dec5.txt\"\n",
    "\n",
    "# calling the function and storing the contents in a text variable \n",
    "text1 = get_document(\"https://taifaleo.nation.co.ke/kfs-yawahakikishia-wakazi-huduma-za-feri-zitarejea-mwaka-2022/\")\n",
    "text3 = get_document(\"https://taifaleo.nation.co.ke/wadudu-waharibifu-wavamia-mashamba-ya-mahindi-gatundu-kaskazini/\")\n",
    "text5 = get_document(\"https://taifaleo.nation.co.ke/rais-atoa-ahadi-ya-kuwainua-walemavu/\")\n",
    "\n",
    "# calling the store_ document function \n",
    "store_document(doc=text1,name=file)\n",
    "store_document(doc=text3,name=file)\n",
    "store_document(doc=text5,name=file)\n",
    "\n",
    "#add the words in this file to the total_corpus_words, to keep count of the number of words in the corpus\n",
    "total_corpus_words+=total_words(file)"
   ]
  },
  {
   "cell_type": "code",
   "execution_count": 105,
   "metadata": {},
   "outputs": [
    {
     "data": {
      "text/plain": [
       "795749"
      ]
     },
     "execution_count": 105,
     "metadata": {},
     "output_type": "execute_result"
    }
   ],
   "source": [
    "total_corpus_words"
   ]
  },
  {
   "cell_type": "code",
   "execution_count": 106,
   "metadata": {},
   "outputs": [
    {
     "name": "stdout",
     "output_type": "stream",
     "text": [
      "['Naibu', 'Chansela', 'Prof', 'Jaganyi', 'aliwasilisha', 'hundi', 'ya', 'pesa', 'kiasi', 'cha', 'Sh30,000', 'kusaidia', 'shule', 'ya', 'St', 'Patrick', '’', 's', '.', 'Kulingana', 'na', 'msomi', 'huyo', ',', 'kwa', 'miaka', 'miwili', 'iliyopita', ',', 'MKU', 'iliwasajili', 'wanafunzi', 'wenye', 'ulemavu', 'wapatao', '100', 'kutoka', 'katika', 'vyuo', 'vingine', 'tofauti', '.', 'Dkt', 'Sera', 'Kumari', 'alipewa', 'jukumu', 'la', 'kuwaletea', 'pamoja', 'walemavu', 'walio', 'wanafunzi', 'hata', 'kutoka', 'katika', 'jamii', 'ili', 'kuwe', 'na', 'msimamo', 'mmoja', 'wa', 'kuwashughulikia', 'kwa', 'pamoja', '.', 'Mashirika', 'mengine', 'ambayo', 'yametia', 'saini', 'mkataba', 'wa', 'ushirikiano', 'ni', 'kama', 'vile', 'Kilimambogo', 'Blind', 'Trust', 'Association', '(', 'KBTA', ')', ',', 'ambalo', 'linawafadhili', 'wanafunzi', '24', 'wanaoishi', 'na', 'ulemavu', '.', 'Wamewapa', 'vifaa', 'vya', 'kisasa', 'vya', 'kusomea', '20', 'aina', 'ya', 'Orbit', 'Reder', '.', 'Prof', 'Jaganyi', 'alisema', 'kuna', 'haja', 'ya', 'kuweka', 'mikataba', 'na', 'mashirika', 'mengine', 'akisema', 'watashirikiana', 'vyema', 'na', 'shule', 'ya', 'St', 'Patrick', '’', 's', 'na', 'Shirika', 'la', 'Msalaba', 'Mwekundu', 'na', 'shirika', 'la', 'kimataifa', 'la', 'Lions', 'Club', 'International', '.', '“', 'MKU', 'imepiga', 'hatua', 'kwa', 'kuweka', 'mkataba', 'wa', 'miaka', 'mitatu', 'kuanzia', 'mwaka', '2020', 'hadi', '2024', 'kwa', 'kufuata', 'mwongozo', 'wa', 'kipengee', 'cha', 'shirika', 'la', 'kimataifa', 'la', 'Umoja', 'wa', 'Mataifa', 'kuhusu', 'Kuziba', 'Mapengo', 'yaliyopo', 'katika', 'jamii', 'ambacho', 'ni', 'SDG-', '10', ',', '”', 'alisema', 'Prof', 'Jaganyi', '.', 'Hafla', 'hiyo', 'ilihudhuriwa', 'pia', 'na', 'mkuu', 'wa', 'maswala', 'ya', 'chuo', 'cha', 'MKU', 'Prof', 'Peter', 'Wanderi', 'ambaye', 'alipongeza', 'juhudi', 'zilizoendeshwa', 'na', 'chuo', 'hicho', 'katika', 'kushirikiana', 'na', 'mashirika', 'na', 'taasisi', 'nyinginezo', '.']\n",
      "\n",
      " Number of Words:  215\n"
     ]
    }
   ],
   "source": [
    "file=\"21dec6.txt\"\n",
    "\n",
    "# calling the function and storing the contents in a text variable \n",
    "text1 = get_document(\"https://taifaleo.nation.co.ke/mku-kushirikiana-na-shule-spesheli-ya-st-patricks-thika/\")\n",
    "\n",
    "# calling the store_ document function \n",
    "store_document(doc=text1,name=file)\n",
    "\n",
    "#add the words in this file to the total_corpus_words, to keep count of the number of words in the corpus\n",
    "total_corpus_words+=total_words(file)"
   ]
  },
  {
   "cell_type": "code",
   "execution_count": 107,
   "metadata": {},
   "outputs": [
    {
     "data": {
      "text/plain": [
       "795964"
      ]
     },
     "execution_count": 107,
     "metadata": {},
     "output_type": "execute_result"
    }
   ],
   "source": [
    "total_corpus_words"
   ]
  },
  {
   "cell_type": "code",
   "execution_count": 108,
   "metadata": {},
   "outputs": [
    {
     "name": "stdout",
     "output_type": "stream",
     "text": [
      "['WAHITIMU', 'wapatao', '5,000', 'wa', 'Chuo', 'Kikuu', 'cha', 'Mount', 'Kenya', '(', 'MKU', ')', 'wamehimizwa', 'kuonyesha', 'ujuzi', 'wao', 'baada', 'ya', 'kukamilisha', 'masomo', 'yao', '.', 'Katibu', 'katika', 'Wizara', 'ya', 'Elimu', 'anayehusika', 'na', 'Elimu', 'ya', 'Juu', 'na', 'Utafiti', 'Balozi', 'Simon', 'Nabukwesi', 'alipongeza', 'juhudi', 'zinazofanywa', 'na', 'MKU', 'kwa', 'kuzingatia', 'maswala', 'ya', 'utafiti', 'na', 'ubunifu', '.', 'Katibu', 'huyo', 'ambaye', 'alikuwa', 'mgeni', 'wa', 'heshima', 'kwenye', 'hafla', 'ya', 'Ijumaa', '–', 'awamu', 'ya', '20', 'ya', 'kufuzu', '–', 'alipongeza', 'juhudi', 'zinazoendeshwa', 'na', 'chuo', 'hicho', '.', 'Hafla', 'hiyo', 'ilihudhuriwa', 'na', 'wahitimu', 'wachache', 'kwa', 'sababu', 'iliendeshwa', 'kwa', 'mseto', 'ikiwemo', 'kupitia', 'mtandaoni', '.', 'MKU', 'ilizingatia', 'sheria', 'za', 'Wizara', 'ya', 'Afya', 'kuhusu', 'kuzuia', 'usambazaji', 'wa', 'Covid-19', '.', 'Katibu', 'huyo', 'alipongeza', 'MKU', 'kwa', 'kufanya', 'ushirikiano', 'na', 'Chuo', 'Kikuu', 'cha', 'Makerere', 'katika', 'maswala', 'ya', 'fedha', 'za', 'utafiti', 'takribani', 'Sh10', 'milioni', 'tangu', 'mwaka', 'wa', '2018', '.', 'Alieleza', 'heshima', 'aliyopewa', 'Rais', 'mstaafu', 'Mwai', 'Kibaki', 'kwamba', 'ni', 'jambo', 'la', 'kupongezwa', 'na', 'nchi', 'mbili', ',', 'Kenya', 'na', 'Uganda', ',', 'ikizingatiwa', 'aliwahi', 'kusomea', 'katika', 'Chuo', 'Kikuu', 'cha', 'Makerere', 'nchini', 'Uganda', '.', 'Mwanzilishi', 'wa', 'MKU', 'Profesa', 'Simon', 'Gicharu', ',', 'alieleza', 'jinsi', 'chuo', 'hicho', 'kinavyopania', 'kujenga', 'jumba', 'la', 'kisasa', 'la', 'matibabu', 'ambalo', 'litakuwa', 'na', 'makazi', 'ya', 'wanafunzi', ',', 'jumba', 'la', 'masomo', ',', 'na', 'maabara', 'ya', 'kipekee', '.', 'Alieleza', 'jinsi', 'MKU', 'ilivyotumia', 'takribani', 'Sh300', 'milioni', 'kujenga', 'chumba', 'cha', 'upasuaji', 'wa', 'maiti', 'cha', 'General', 'Kago', 'katika', 'hospitali', 'ya', 'Thika', 'Level', 'Five', '.', 'Prof', 'Gicharu', 'alijitolea', 'kufadhili', 'masomo', 'ya', 'mwanafunzi', 'Milly', 'Nafula', 'ambaye', 'alikosa', 'kujiunga', 'na', 'chuo', 'kikuu', 'miaka', '14', 'iliyopita', 'licha', 'ya', 'kupata', 'alama', 'ya', 'A-', 'katika', 'mtihani', 'wa', 'kitaifa', 'wa', 'Kidato', 'cha', 'Nne', '(', 'KCSE', ')', '.', 'Baada', 'ya', 'masaibu', 'ya', 'mwanafunzi', 'huyo', 'kuangazia', 'katika', 'vyombo', 'vya', 'habari', 'aliamua', 'kuchukua', 'jukumu', 'hilo', 'hadi', 'akamilishe', 'masomo', 'yake', '.', 'Chansela', 'wa', 'MKU', 'Prof', 'John', 'Strutters', 'aliyesoma', 'hotuba', 'yake', 'kupitia', 'mtandao', 'akiwa', 'Scotland', ',', 'alipongeza', 'chuo', 'hicho', 'kwa', 'kuendesha', 'kongamano', 'muhimu', 'la', 'Yunus', 'Global', 'Social', 'Business', 'Summit', ',', 'mwezi', 'Novemba', '2021', '.', 'Alieleza', 'kuwa', 'ushirikiano', 'ndio', 'njia', 'ya', 'pekee', 'ambayo', 'itaipa', 'MKU', 'mwongozo', 'wake', 'wa', 'miaka', '10', 'ijayo', '.', 'Wakati', 'wa', 'hafla', 'hiyo', 'MKU', 'ilijivunia', 'kupata', 'wahitimu', 'sita', 'ambao', 'wamepiga', 'hatua', 'katika', 'masomo', 'ya', 'uzamifu', '(', 'pHD', ')', 'ambapo', 'wawili', 'ni', 'wa', 'jinsia', 'ya', 'kiume', 'nao', 'wanne', 'ni', 'wa', 'jinsia', 'ya', 'kike', '.', 'Alisema', 'wanafunzi', 'wengi', 'ni', 'wa', 'kutoka', 'humu', 'nchini', 'lakini', 'pia', 'kuna', 'wa', 'mataifa', 'mengine', '.', 'Baadhi', 'ya', 'wanafunzi', 'wengine', 'walio', 'katika', 'chuo', 'hicho', 'wanatoka', 'nchi', 'za', 'Nigeria', ',', 'Burundi', ',', 'Chad', ',', 'Gabon', ',', 'Cameroon', 'na', 'Tanzania', '.', '“', 'Jambo', 'hilo', 'pekee', 'linaashiria', 'umuhimu', 'wa', 'mwenye', 'ari', 'ya', 'kupata', 'elimu', 'kuamua', 'kujiunga', 'na', 'MKU', ',', '”', 'alisema', 'Prof', 'Jaganyi', '.', 'Alieleza', 'kuwa', 'hivi', 'majuzi', 'chuo', 'hicho', 'kilipata', 'ufadhili', 'wa', 'Sh7', 'milioni', 'kutoka', 'kwa', 'Shirika', 'la', 'International', 'Research', 'and', 'Development', '(', 'IRD', ')', 'kwa', 'lengo', 'la', 'kutoa', 'masomo', 'kuhusu', 'homa', 'hatari', 'ya', 'Covid-19', 'katika', 'kaunti', 'za', 'Kiambu', 'na', 'Nairobi', '.', 'Alipongeza', 'juhudi', 'za', 'chuo', 'hicho', 'kuwafikia', 'wakazi', 'wa', 'mashinani', 'na', 'kuwafadhili', 'na', 'misaada', 'tofauti', '.']\n",
      "\n",
      " Number of Words:  470\n"
     ]
    }
   ],
   "source": [
    "file=\"21dec11.txt\"\n",
    "\n",
    "# calling the function and storing the contents in a text variable \n",
    "text1 = get_document(\"https://taifaleo.nation.co.ke/wasimamizi-waelezea-hatua-ilizopiga-mku-katika-utoaji-mafunzo-ya-chuoni/\")\n",
    "\n",
    "# calling the store_ document function \n",
    "store_document(doc=text1,name=file)\n",
    "\n",
    "#add the words in this file to the total_corpus_words, to keep count of the number of words in the corpus\n",
    "total_corpus_words+=total_words(file)"
   ]
  },
  {
   "cell_type": "code",
   "execution_count": 109,
   "metadata": {},
   "outputs": [
    {
     "data": {
      "text/plain": [
       "796434"
      ]
     },
     "execution_count": 109,
     "metadata": {},
     "output_type": "execute_result"
    }
   ],
   "source": [
    "total_corpus_words"
   ]
  },
  {
   "cell_type": "code",
   "execution_count": 110,
   "metadata": {},
   "outputs": [
    {
     "name": "stdout",
     "output_type": "stream",
     "text": [
      "['WATUMIAJI', 'wa', 'mtandao', 'wa', 'kijamii', 'wa', 'Twitter', 'wameonyesha', 'hisia', 'mseto', 'baada', 'ya', 'Gavana', 'wa', 'Kitui', 'Charity', 'Ngilu', 'kuchapisha', 'picha', 'ya', 'Naibu', 'Rais', 'William', 'Ruto', 'akiwa', 'amevalia', 'mavazi', 'ya', 'kitamaduni', 'na', 'kisha', 'kudai', 'kwamba', 'ni', 'kama', 'alisaka', 'huduma', 'za', 'mganga', '.', 'Kwenye', 'picha', 'zilizomfanya', 'Bi', 'Ngilu', 'kutoa', 'matamshi', 'ya', 'aina', 'yale', ',', 'Naibu', 'Rais', 'alikuwa', 'amejiunga', 'na', 'wakazi', 'wa', 'kaunti', 'ya', 'Turkana', 'katika', 'sherehe', 'za', 'sita', 'za', 'Tobong', '’', 'u', 'Lore', '.', 'Isitoshe', ',', 'Dkt', 'Ruto', 'alikuwa', 'pamoja', 'na', 'magavana', 'kutoka', 'kaunti', 'za', 'Turkana', ',', 'Uasin', 'Gichu', 'na', 'Baringo', '.', 'Vuta', 'nikuvute', 'iliyosheheni', 'mtandaoni', 'ilionyesha', 'misimamo', 'ya', 'wanaomshabikia', 'Naibu', 'Rais', 'kwa', 'upande', 'mmoja', 'na', 'wanaomshabikia', 'kiongozi', 'wa', 'chama', 'cha', 'ODM', ',', 'Raila', 'Odinga', 'kwa', 'upande', 'mwingine', '.', '“', 'Turkana', 'ina', 'utamaduni', 'wa', 'kipekee', 'na', 'ambao', 'wao', 'hulinda', 'kwa', 'fahari', '.', 'Naibu', 'Rais', ',', 'huheshimu', 'utofauti', 'wa', 'utamaduni', 'na', 'aliwaunga', 'wenyeji', 'wa', 'Turkana', 'katika', 'kusherehekea', 'mila', 'zao', '.', 'Ni', 'vibaya', 'kuwaona', 'watu', 'wakikejeli', 'na', 'kutumia', 'maneno', 'kama', 'uganga', ',', '”', 'akasema', 'Milicent', 'Omanga', '.', '“', 'Ni', 'kwa', 'nini', 'wanasiasa', 'wengine', 'pamoja', 'na', 'Wakenya', 'huchafulia', 'wenzao', 'jina', 'huku', 'wakidhani', 'wanajijengea', 'sifa', '?', 'Ni', 'vyema', 'tufanye', 'siasa', 'zinazoongozwa', 'na', 'masuala', 'sio', 'hisia', 'za', 'watu', ',', '”', 'akaeleza', 'Fred', 'Kathanga', '.', '“', 'Hakuna', 'uganga', 'wowote', 'hapa', '.', 'Huu', 'ni', 'utamaduni', 'wa', 'wenyeji', 'wa', 'jamii', 'pana', 'ya', 'Turkana', '.', 'Viongozi', 'wanapaswa', 'kuacha', 'kuwapotosha', 'watu', 'kwa', 'kuzungumza', 'yaliyo', 'kweli', 'na', 'kuheshimu', 'tamaduni', 'za', 'watu', 'wengine', ',', '”', 'akaandika', 'Kariuki', 'Wanjahi', '.', '“', 'Huu', 'ni', 'uganga', 'sisi', 'sio', 'wajinga', ',', '”', 'akasema', 'Brian', 'Luka', '.', '“', 'Unapaswa', 'kuwaomba', 'msamaha', 'wakazi', 'wa', 'Turkana', 'kwa', 'kunasibisha', 'utamaduni', 'wao', 'na', 'uganga', ',', '”', 'akaeleza', 'Makau', 'Muli', '.']\n",
      "\n",
      " Number of Words:  266\n"
     ]
    }
   ],
   "source": [
    "file=\"21dec12.txt\"\n",
    "\n",
    "# calling the function and storing the contents in a text variable \n",
    "text1 = get_document(\"https://taifaleo.nation.co.ke/ngilu-akejeli-mavazi-ya-ruto/\")\n",
    "\n",
    "# calling the store_ document function \n",
    "store_document(doc=text1,name=file)\n",
    "\n",
    "#add the words in this file to the total_corpus_words, to keep count of the number of words in the corpus\n",
    "total_corpus_words+=total_words(file)"
   ]
  },
  {
   "cell_type": "code",
   "execution_count": 111,
   "metadata": {},
   "outputs": [
    {
     "data": {
      "text/plain": [
       "796700"
      ]
     },
     "execution_count": 111,
     "metadata": {},
     "output_type": "execute_result"
    }
   ],
   "source": [
    "total_corpus_words"
   ]
  },
  {
   "cell_type": "code",
   "execution_count": 117,
   "metadata": {},
   "outputs": [
    {
     "name": "stdout",
     "output_type": "stream",
     "text": [
      "['Uhuru', 'arejesha', 'Jamhuri', 'eneo', 'ilikoanzia', 'RAIS', 'Uhuru', 'Kenyatta', 'jana', 'Jumapili', 'alirejesha', 'maadhimisho', 'ya', 'sherehe', 'za', 'Sikukuu', 'ya', 'Jamhuri', 'katika', 'Bustani', 'ya', 'Uhuru', ',', 'Nairobi', ',', 'ambako', 'zilifanyika', 'kwa', 'mara', 'ya', 'kwanza', 'Kenya', 'ikianza', 'kujitawala', 'Desemba', '12', '1964', '.', 'Kwenye', 'hotuba', 'yake', ',', 'Rais', 'Kenyatta', 'alisema', 'hatua', 'hiyo', 'inalenga', 'kuwafahamisha', 'Wakenya', 'kuhusu', 'safari', 'ambayo', 'Kenya', 'imepiga', 'ili', 'kufikia', 'iliko', '.', 'Sherehe', 'hizo', 'zilifanyika', 'kwa', 'mara', 'ya', 'kwanza', 'katika', 'bustani', 'hiyo', 'mnamo', 'Desemba', '12', ',', '1964', ',', 'baada', 'ya', 'Bw', 'Kisoi', 'Munyao', 'kupandisha', 'bendera', 'ya', 'Kenya', 'katika', 'Mlima', 'Kenya', 'na', 'kutoa', 'bendera', 'ya', '‘', 'Union', 'Jack', '’', ',', 'iliyowakilisha', 'utawala', 'wa', 'kikoloni', '.', 'Sherehe', 'hizo', 'ziliongozwa', 'na', 'hayati', 'Mzee', 'Jomo', 'Kenyatta', 'baba', 'yake', 'Rais', 'Uhuru', ',', 'ambaye', 'alikuwa', 'rais', 'wa', 'kwanza', 'wa', 'Kenya', 'huru', '.', 'Hata', 'hivyo', ',', 'mtindo', 'huo', 'ulibadilika', 'kadri', 'miaka', 'ilivyosonga', ',', 'baada', 'ya', 'marais', 'kama', 'marehemu', 'Daniel', 'Moi', ',', 'Mwai', 'Kibaki', 'na', 'sasa', 'Rais', 'Kenyatta', 'kuchagua', 'viwanja', 'vya', 'michezo', 'vya', 'Moi', '(', 'Kasarani', ')', 'ama', 'Nyayo', 'kuadhimisha', 'sherehe', 'hizo', '.', 'Kinyume', 'na', 'ilivyokuwa', 'awali', ',', 'bustani', 'hilo', 'limefanyiwa', 'ukarabati', 'mkubwa', 'chini', 'ya', 'usimamizi', 'wa', 'Jeshi', 'la', 'Kenya', '(', 'KDF', ')', '.', 'Serikali', 'inasema', 'muundo', 'wake', 'mpya', 'unalenga', 'kuwavutia', 'Wakenya', 'na', 'wageni', 'zaidi', 'kuutembelea', ',', 'kama', 'mojawapo', 'ya', 'maeneo', 'ya', 'kihistoria', 'nchini', '.', '“', 'Ni', 'mojawapo', 'ya', 'njia', 'za', 'kulinda', 'na', 'kuhifadhi', 'historia', 'yetu', ',', '”', 'akasema', 'Katibu', 'wa', 'Usalama', 'wa', 'Ndani', ',', 'Dkt', 'Karanja', 'Kibicho', ',', 'ambaye', 'ndiye', 'aliongoza', 'shughuli', 'za', 'maandalizi', 'ya', 'sherehe', 'hizo', '.', '“', 'Nawaomba', 'wanaume', 'kujihusisha', 'na', 'masuala', 'yanayoweza', 'kuwasaidia', 'maishani', 'na', 'kuinua', 'uchumi', 'wa', 'taifa', 'nikisema', 'wanawake', 'wengi', 'wanahusisha', 'kuvunjika', 'kwa', 'ndoa', 'zao', 'na', 'hunywaji', 'wa', 'pombe', 'haramu', 'ya', 'chang', '’', 'aa', ',', '”', 'Bw', 'Odingo', 'akanena', '.', 'Madiwani', '15', 'wa', 'Nyandarua', 'kujibu', 'madai', 'ya', 'kujitengea', 'mamilioni', 'TUME', 'ya', 'Maadili', 'na', 'Kukabiliana', 'na', 'Ufisadi', '(', 'EACC', ')', 'imeagiza', 'madiwani', '15', 'wa', 'Kaunti', 'ya', 'Nyandarua', 'kujibu', 'madai', 'ya', 'kujitengea', 'Sh3.6', 'milioni', 'kinyume', 'cha', 'sheria', 'katika', 'mwaka', 'huu', 'wa', 'kifedha', '.', 'Mkuu', 'wa', 'EACC', 'eneo', 'la', 'Kati', ',', 'Bw', 'Charles', 'Rasugu', ',', 'alisema', 'madiwani', 'hao', 'wanatarajiwa', 'kufika', 'mbele', 'ya', 'wachunguzi', 'Jumanne', ',', 'Jumatano', 'na', 'Alhamisi', 'huku', 'baadhi', 'ya', 'madiwani', 'maalum', ',', 'wakitarajiwa', 'kuitwa', 'baadaye', 'kuhojiwa', 'kuhusiana', 'na', 'madai', 'hayo', '.', 'Hata', 'hivyo', ',', 'madiwani', 'hao', 'walihusisha', 'hatua', 'hiyo', 'na', 'siasa', 'wakisema', 'ni', 'wale', 'wanaompinga', 'Spika', 'Wahome', 'Ndegwa', 'walioitwa', 'kufika', 'mbele', 'ya', 'maafisa', 'wa', 'EACC', '.', 'Diwani', 'wa', 'wadi', 'ya', 'Shamata', ',', 'Bw', 'Gitau', 'Njamba', 'alisema', 'kwamba', 'hawajapokea', 'barua', 'yoyote', 'kutoka', 'kwa', 'EACC', 'na', 'kwamba', 'wako', 'tayari', 'kujiwasilisha', 'wakiitwa', 'rasmi', '.', '“', 'Tumeona', 'nakala', 'ya', 'barua', 'ya', 'EACC', 'inayotaja', 'majina', 'yetu', 'ikisambazwa', 'katika', 'mitandao', 'ya', 'kijamii', '.', 'Hatuelewi', 'ni', 'kwa', 'nini', 'nakala', 'ilisambazwa', 'katika', 'mitandao', 'ya', 'kijamii', 'kabla', 'ya', 'kuwasiliana', 'nasi', 'rasmi', '.', 'Tunaona', 'siasa', 'katika', 'suala', 'hili', 'nzima', 'lakini', 'tuko', 'tayari', 'kufika', 'mbele', 'ya', 'EACC', 'mawasiliano', 'rasmi', 'yakifanywa', '.', 'Hatuna', 'sababu', 'ya', 'kuwa', 'na', 'wasiwasi', ',', 'kuogopa', 'na', 'hatuna', 'chochote', 'cha', 'kuficha', ',', '”', 'alisema', 'Bw', 'Gitau', '.', 'Alipuuza', 'madai', 'kwamba', 'EACC', 'imeingiza', 'siasa', 'na', 'kuungana', 'na', 'Spika', 'Wahome', 'akisema', 'ni', 'jukumu', 'la', 'tume', 'kuchunguza', 'madai', 'yote', 'yanayohusiana', 'na', 'ufisadi', '.', '“', 'Malalamishi', 'ni', 'kwamba', 'madiwani', 'hao', 'walipokea', 'pesa', 'katika', 'akaunti', 'zao', 'binafsi', 'ambazo', 'hawakufaa', 'kupata', '.', 'Hii', 'ilikuwa', 'wakati', 'kulikuwa', 'na', 'mzozo', 'wa', 'uongozi', 'katika', 'bunge', 'la', 'kaunti', ',', 'kama', 'wako', 'hawana', 'kosa', ',', 'EACC', 'haitakuwa', 'na', 'shida', 'nao', ',', '”', 'aliongeza', 'Bw', 'Rasugu', '.', 'Mradi', 'wa', 'maji', 'kuimarisha', 'maisha', 'ya', 'wakulima', 'Gatundu', 'WAKAZI', 'wa', 'wadi', 'ya', 'Mang', '’', 'u', ',', 'Gatundu', 'Kaskazini', 'watanufaika', 'pakubwa', 'kutokana', 'na', 'mradi', 'mkubwa', 'wa', 'maji', 'wa', 'Kamwamba', '.', 'Mradi', 'huo', 'umefadhiliwa', 'na', 'serikali', 'ya', 'Kaunti', 'ya', 'Kiambu', '.', 'Mradi', 'huo', 'uliozinduliwa', 'majuzi', 'na', 'Gavana', 'wa', 'Kaunti', 'ya', 'Kiambu', 'Dkt', 'James', 'Nyoro', 'utanufaisha', 'familia', 'nyingi', 'eneo', 'la', 'Gatundu', 'Kaskazini', 'ambao', 'wanategemea', 'kilimo', '.', 'Kulingana', 'na', 'afisa', 'mkuu', 'wa', 'kaunti', 'ya', 'Kiambu', 'anayesimamia', 'mradi', 'huo', 'Bw', 'Kimani', 'wa', 'Gachihi', ',', 'ni', 'kwamba', 'una', 'manufaa', 'makubwa', 'kwa', 'wakazi', '.', 'Bw', 'Gachihi', 'alisema', 'mradi', 'huo', 'wa', 'Kamwamba', 'ni', 'wa', 'kunyunyuzia', 'maji', 'kwenye', 'mashamba', 'ya', 'wakulima', 'wanaoendesha', 'kilimo', 'tofauti', '.', 'Naye', 'Bw', 'Mwangi', 'Njoroge', 'alisema', 'hapo', 'awali', 'walipata', 'mambo', 'kuwa', 'magumu', 'katika', 'mashamba', 'yao', ',', 'lakini', 'katika', 'siku', 'za', 'hivi', 'karibuni', '“', 'tumepata', 'afueni.', '”', 'Alisema', 'wakazi', 'wanaoishi', 'maeneo', 'yapatayo', 'mraba', 'wa', 'kilomita', 'tatu', '(', '3', ')', 'tayari', 'wamepata', 'maji', 'ya', 'kunyunyuzia', 'kwenye', 'mashamba', 'yao', '.', 'Alisema', 'watazidi', 'kuhamasisha', 'wakazi', 'hao', 'ili', 'waweze', 'kuelewa', 'umuhimu', 'wa', 'kuzidi', 'kufanya', 'kazi', 'za', 'kunyunyuzia', 'maji', 'katika', 'eneo', 'hilo', 'huku', 'wakiwapa', 'mawaidha', 'ili', 'kurejelea', 'kazi', 'yao', 'ya', 'hapo', 'awali', ',', 'ambayo', 'ni', 'kilimo', '.', 'Jaji', 'Onyango', 'alimwamuru', 'Prof', 'Kiama', 'afike', 'kortini', 'baada', 'ya', 'kumpata', 'na', 'hatia', 'ya', 'kukaidi', 'agizo', 'la', 'Mahakama', 'la', 'Julai', '14', ',', '2021', 'ambapo', 'alisimamishwa', 'kufanya', 'mabadiliko', 'makuu', 'katika', 'usimamizi', 'wa', 'chuo', 'hicho', 'kikuu', 'zaidi', 'nchini', '.', 'Prof', 'Kiama', 'alipatikana', 'na', 'hatia', 'ya', 'kukaidi', 'agizo', 'akome', 'kubadilisha', 'muundo', 'msingi', 'wa', 'usimamizi', 'wa', 'chuo', 'hicho', 'kikuu', 'na', 'kufutilia', 'mbali', 'vitivo', 'kadhaa', 'bila', 'ya', 'kuwashirikisha', 'washika', 'dau', '.', 'Agizo', 'la', 'kumzima', 'Prof', 'Kiama', 'kufanya', 'mabadiliko', 'hayo', 'bila', 'kushauriana', 'na', 'wasimamizi', 'wa', 'vitivo', 'mbali', 'mbali', ',', 'Wizara', 'ya', 'Elimu', ',', 'Tume', 'ya', 'Elimu', 'katika', 'Vyuo', 'Vikuu', 'Nchini', '(', 'CUE', ')', ',', 'mwanasheria', 'mkuu', ',', 'Waziri', 'wa', 'Elimu', 'Prof', 'George', 'Magoha', 'na', 'katibu', 'mkuu', 'katika', 'wizara', 'ya', 'elimu', ',', 'lilitolewa', 'mnamo', 'Julai', '14', ',', '2021', '.', 'Chama', 'cha', 'kutetea', 'wafanyakazi', 'katika', 'vyuo', 'vikuu', '(', 'Uasu', ')', 'kupitia', 'kwa', 'wakili', 'Titus', 'Koceyo', 'kilimshtaki', 'Prof', 'Kiama', 'kikisema', 'ameidharau', 'mahakama', 'kwa', 'kutositisha', 'uzinduzi', 'wa', 'usimamizi', 'mpya', 'katika', 'Chuo', 'Kikuu', 'cha', 'Nairobi', '(', 'UoN', ')', '.', 'Bw', 'Koceyo', 'alieleza', 'mahakama', 'Prof', 'Kiama', 'ameendelea', 'kukaidi', 'agizo', 'la', 'korti', 'kwa', 'kuendelea', 'na', 'kufutilia', 'mbali', 'baadhi', 'ya', 'vitivo', 'na', 'kupunguza', 'nyadhifa', 'za', 'wahadhiri', '.', 'Kidero', ',', 'Orengo', 'wahudhuria', 'Azimio', 'La', 'Umoja', 'badala', 'ya', 'korti', 'ALIYEKUWA', 'Gavana', 'wa', 'Nairobi', 'Dkt', 'Evans', 'Kidero', 'anayekabiliwa', 'na', 'kesi', 'ya', 'ufisadi', 'wa', 'Sh68', 'milioni', 'Ijumaa', ',', 'Desemba', '10', ',', '2021', 'alihudhuria', 'hafla', 'ya', 'Azimio', 'La', 'Umoja', 'katika', 'uwanja', 'wa', 'Kasarani', 'badala', 'ya', 'kufika', 'kortini', 'kesi', 'hiyo', 'ilipotajwa', '.', 'Polisi', 'watano', 'wapinga', 'tuhuma', 'katika', 'kesi', 'ambapo', 'mahabusu', 'alifariki', 'ndani', 'ya', 'seli', 'MAAFISA', 'watano', 'wa', 'polisi', 'wanaopinga', 'kushtakiwa', 'kwa', 'mauaji', 'ya', 'mahabusu', 'ndani', 'ya', 'seli', 'wanaomba', 'mahakama', 'kuu', 'isitishe', 'kesi', 'inayowakabili', 'na', 'badala', 'yake', 'iamuru', 'uchunguzi', 'wa', 'kubaini', 'kilichosababisha', 'kifo', 'cha', 'Caleb', 'Otieno', 'Espino', 'mwaka', '2018', '.', 'Otieno', 'alifia', 'katika', 'seli', 'ya', 'Kituo', 'cha', 'Polisi', 'cha', 'Changamwe', 'kaunti', 'ya', 'Mombasa', 'mnamo', 'Septemba', '17', ',', '2018', '.', 'Kwa', 'mujibu', 'wa', 'sheria', 'hizo', 'tatu', ',', 'imeagizwa', 'mshukiwa', 'akifa', 'akiwa', 'mikononi', 'mwa', 'polisi', 'ama', 'idara', 'ya', 'magereza', 'hakimu', 'aliyekaribu', 'na', 'mahala', 'pa', 'maafa', 'anatakiwa', 'kufanya', 'uchunguzi', 'kutathmini', 'kilichosababisha', 'kifo', 'hicho', '.', 'Katika', 'kisa', 'cha', 'Otieno', ',', 'aliyeaga', 'dunia', 'akiwa', 'katika', 'kituo', 'cha', 'polisi', 'cha', 'Changamwe', ',', 'polisi', 'hao', 'wanasema', 'hakimu', 'mkuu', 'wa', 'mahakama', 'ya', 'Mombasa', 'angefanya', 'uchunguzi', 'kubaini', 'kilichosababisha', 'kifo', 'cha', 'mahabusu', 'huyo', '.', 'Polisi', 'hao', 'wanaomba', 'mahakama', 'ibatilishe', 'uamuzi', 'wa', 'hapo', 'awali', '.', 'Watano', 'hao', 'walishtakiwa', 'Septemba', '13', ',', '2021', 'katika', 'Mahakama', 'kuu', 'ya', 'Nairobi', 'kwa', 'kosa', 'la', 'kutekeleza', 'mauaji', '.']\n",
      "\n",
      " Number of Words:  1117\n"
     ]
    }
   ],
   "source": [
    "file=\"21dec13.txt\"\n",
    "\n",
    "# calling the function and storing the contents in a text variable \n",
    "text1 = get_document(\"https://taifaleo.nation.co.ke/uhuru-arejesha-jamhuri-eneo-ilikoanzia/\")\n",
    "text2 = get_document(\"https://taifaleo.nation.co.ke/mshukiwa-mmoja-akamatwa-polisi-wapata-lita-38-za-pombe-haramu-makongeni/\")\n",
    "text3 = get_document(\"https://taifaleo.nation.co.ke/madiwani-15-wa-nyandarua-kujibu-madai-ya-kujitengea-mamilioni/\")\n",
    "text4 = get_document(\"https://taifaleo.nation.co.ke/mradi-wa-maji-kuimarisha-maisha-ya-wakulima-gatundu/\")\n",
    "text5 = get_document(\"https://taifaleo.nation.co.ke/kiama-kusomewa-hukumu-januari-22/\")\n",
    "text7 = get_document(\"https://taifaleo.nation.co.ke/kidero-orengo-wahudhuria-azimio-la-umoja-badala-ya-korti/\")\n",
    "text8 = get_document(\"https://taifaleo.nation.co.ke/kesi-ya-mahabusu-kufariki-selini/\")\n",
    "\n",
    "# calling the store_ document function \n",
    "store_document(doc=text1,name=file)\n",
    "store_document(doc=text2,name=file)\n",
    "store_document(doc=text3,name=file)\n",
    "store_document(doc=text4,name=file)\n",
    "store_document(doc=text5,name=file)\n",
    "store_document(doc=text7,name=file)\n",
    "store_document(doc=text8,name=file)\n",
    "\n",
    "#add the words in this file to the total_corpus_words, to keep count of the number of words in the corpus\n",
    "total_corpus_words+=total_words(file)"
   ]
  },
  {
   "cell_type": "code",
   "execution_count": 118,
   "metadata": {},
   "outputs": [
    {
     "data": {
      "text/plain": [
       "797817"
      ]
     },
     "execution_count": 118,
     "metadata": {},
     "output_type": "execute_result"
    }
   ],
   "source": [
    "total_corpus_words"
   ]
  },
  {
   "cell_type": "code",
   "execution_count": 120,
   "metadata": {},
   "outputs": [
    {
     "name": "stdout",
     "output_type": "stream",
     "text": [
      "['“', 'Sekta', 'ya', 'kilimo', 'itakuwa', 'kwa', 'kiwango', 'kikubwa', 'hatua', 'mahususi', 'zikichukuliwa', ',', 'kuanzia', 'vyuoni.', '”', 'Elgon', 'Kenya', 'ni', 'tajika', 'Ukanda', 'wa', 'Afrika', 'Mashariki', 'katika', 'utengenezaji', 'na', 'usambazaji', 'wa', 'fatalaiza', ',', 'mbegu', 'na', 'dawa', 'dhidi', 'ya', 'magonjwa', 'na', 'wadudu', 'waharibifu', 'shambani', '.', 'Kauli', 'ya', 'Dkt', 'Kantaria', 'imejiri', 'miezi', 'michache', 'baada', 'ya', 'Idara', 'ya', 'Masuala', 'ya', 'Vijana', 'kuelezea', 'wasiwasi', 'kuhusu', 'mtazamo', 'wa', 'vijana', 'katika', 'sekta', 'ya', 'kilimo', 'na', 'ufugaji', '.', 'Julai', 'mwaka', 'huu', ',', 'Katibu', 'katika', 'idara', 'hiyo', ',', 'Bw', 'Charles', 'alisema', 'idadi', 'ya', 'vijana', 'wanaoendeleza', 'kilimo', 'ni', 'ya', 'chini', 'mno', '.', 'Bw', 'Sunkuli', 'aidha', 'alieleza', 'kusikitishwa', 'kwake', 'na', 'mtazamo', 'wa', 'vijana', 'na', 'jamii', 'katika', 'sekta', 'ya', 'kilimo', '.', '“', 'Tumeona', 'baadhi', 'ya', 'wataalamu', 'wakigura', 'sekta', 'ya', 'kilimo', 'na', 'ufugaji', '.', 'Ni', 'jambo', 'la', 'kushangaza', ',', 'na', 'linaibua', 'maswali', 'chungu', 'nzima', 'kuhusu', 'maisha', 'ya', 'usoni', 'ya', 'sekta', 'hii', 'ambayo', 'ni', 'nguzo', 'ya', 'uchumi', 'wa', 'taifa', ',', '”', 'akasema', '.', 'Katibu', 'huyo', 'alitumia', 'mfano', 'wa', 'taasisi', 'zinazotoa', 'mafunzo', 'ya', 'kilimo', 'nchini', ',', 'idadi', 'ya', 'wanafunzi', 'wanaochagua', 'kozi', 'za', 'kilimo', 'akiitaja', 'kuwa', 'ya', 'chini', 'sana', '.', '“', 'Tunahitaji', 'kutathmini', 'mfumo', 'wetu', 'wa', 'elimu', ',', 'usiwe', 'ule', 'wa', 'kusomesha', 'vijana', 'kutegemea', 'kazi', 'za', 'ofisi', 'pekee', '.', 'Ujumuishe', 'kazi', 'za', 'nyanjani', ',', '”', 'Bw', 'Sunkuli', 'akapendekeza', '.', 'Elgon', 'Kenya', 'ni', 'miongoni', 'mwa', 'kampuni', 'zinazotoa', 'huduma', 'za', 'kilimo', 'nchini', ',', 'na', 'ambayo', 'Wizara', 'ya', 'Kilimo', 'imetambua', 'kutokana', 'na', 'mchango', 'wake', 'mkuu', 'na', 'hata', 'kuituza', 'kufuatia', 'jitihada', 'kuboresha', 'sekta', 'ya', 'kilimo', 'Kenya', 'na', 'Afrika', 'Mashariki', 'kwa', 'jumla', '.', 'Hayo', 'yalinenwa', 'Jumanne', 'na', 'mkurugenzi', 'wa', 'The', 'Rock', 'School', 'iliyoko', 'katika', 'mtaa', 'wa', 'Hazina', ',', 'South', 'B', ',', 'kaunti', 'ndogo', 'ya', 'Makadara', ',', 'Bi', 'Christine', 'Kathukya', '.', 'Bi', 'Kathukya', 'alisema', 'hayo', 'wakati', 'wa', 'hafla', 'ya', 'Siku', 'ya', 'Utamaduni', 'iliyofanyika', 'katika', 'uga', 'wa', 'kanisa', 'katoliki', 'la', 'St', 'Margaret', 'South', 'B', '.', '“', 'Serikali', 'inataka', 'kupitia', 'kwa', 'mtaala', 'mpya', 'wa', 'CBC', 'wazazi', 'kushirikiana', 'na', 'watoto', 'kufanya', 'kazi', 'ya', 'ziada', 'wanapokuwa', 'pamoja', 'nyumbani', ',', '”', 'Bi', 'Kathukya', 'akanena', '.', 'Isitoshe', ',', 'alieleza', 'kwamba', 'kuna', 'umuhimu', 'wa', 'wanafunzi', 'kufahamu', 'kuhusu', 'utamaduni', 'wa', 'waafrika', 'ili', 'kujua', 'kuna', 'mema', 'katika', 'mafunzo', 'yake', '.', '“', 'Ni', 'vyema', 'watoto', 'kusomeshwa', 'kuhusu', 'vyakula', 'vya', 'zamani', 'na', 'umuhimu', 'wake', 'katika', 'kuboresha', 'afya', 'ya', 'binadamu', 'maishani', '.', 'Tuna', 'vyakula', 'kama', 'vile', 'maboga', ',', 'viazi', 'vitamu', 'na', 'mihogo', 'miongoni', 'mwa', 'vingine', 'ambayo', 'vina', 'rotuba', 'katika', 'miili', 'yetu', ',', '”', 'akaeleza', '.', 'Bali', 'na', 'hayo', ',', 'watoto', 'na', 'walimu', 'wao', 'walikuwa', 'na', 'kipindi', 'cha', 'kuonyesha', 'wazazi', 'na', 'wageni', 'bidhaa', 'walivyotengeneza', 'baada', 'ya', 'mafunzo', 'ya', 'CBC', '.', 'Ili', 'kuwapatia', 'watoto', 'na', 'walimu', 'motisha', ',', 'wageni', 'na', 'wazazi', 'walinunua', 'bidhaa', 'zilizotengenezwa', 'na', 'wanafunzi', '.', 'Walionunua', 'na', 'kupata', 'fursa', 'ya', 'kuzungumza', 'na', 'Taifa', 'Leo', 'walisema', 'kwa', 'hakika', 'watoto', 'wana', 'vipaji', 'vinavyoweza', 'kuwasaidia', 'katika', 'siku', 'za', 'usoni', '.', 'Mzazi', 'mmoja', 'aliyejitambulisha', 'kwa', 'jina', 'Bi', 'Winnie', 'Mulonzi', 'alisema', 'kuna', 'haja', 'ya', 'wazazi', 'kutambua', 'vipaji', 'vya', 'watoto', 'ndiposa', 'vipaliliwe', 'mapema', '.', '“', 'Ikiwa', 'vipaji', 'vya', 'watoto', 'vitatambuliwa', 'mapema', 'na', 'rasilmali', 'ziwepo', 'ili', 'talanta', 'hizo', 'zipaliliwe', ',', 'bila', 'shaka', 'watoto', 'watajifaidi', 'binafsi', 'sawia', 'na', 'kuifaidi', 'nchi', 'ya', 'Kenya', ',', '”', 'Bi', 'Mulonzi', 'akanena', '.', 'Kwa', 'mfano', 'walionyesha', 'jinsi', 'wanavyotengeneza', 'vifaa', 'vya', 'kuchezea', 'wakitumia', 'vitu', 'vinavyopatikana', 'kwa', 'urahisi', 'katika', 'mazingira', 'wanamoishi', 'nyumbani', '.', 'Baadhi', 'ya', 'walivyoonyesha', 'wazazi', 'na', 'wageni', 'ni', 'pamoja', 'na', 'shanga', ',', 'vitambaa', 'vilivyotiwa', 'nakshi', ',', 'bangili', 'na', 'mikufu', 'miongoni', 'mwa', 'vingine', '.']\n",
      "\n",
      " Number of Words:  534\n"
     ]
    }
   ],
   "source": [
    "file=\"21dec14.txt\"\n",
    "\n",
    "# calling the function and storing the contents in a text variable \n",
    "text1 = get_document(\"https://taifaleo.nation.co.ke/vyuo-vya-kilimo-vyahimizwa-kuwa-na-kozi-fupi/\")\n",
    "text2 = get_document(\"https://taifaleo.nation.co.ke/wito-wazazi-wawafae-watoto-waimarike-kielimu/\")\n",
    "\n",
    "# calling the store_ document function \n",
    "store_document(doc=text1,name=file)\n",
    "store_document(doc=text2,name=file)\n",
    "\n",
    "#add the words in this file to the total_corpus_words, to keep count of the number of words in the corpus\n",
    "total_corpus_words+=total_words(file)"
   ]
  },
  {
   "cell_type": "code",
   "execution_count": 121,
   "metadata": {},
   "outputs": [
    {
     "data": {
      "text/plain": [
       "798351"
      ]
     },
     "execution_count": 121,
     "metadata": {},
     "output_type": "execute_result"
    }
   ],
   "source": [
    "total_corpus_words"
   ]
  },
  {
   "cell_type": "code",
   "execution_count": 131,
   "metadata": {},
   "outputs": [
    {
     "name": "stdout",
     "output_type": "stream",
     "text": [
      "['AKINA', 'dada', '500', 'walikongamana', 'mjini', 'Thika', 'kupata', 'hamasisho', 'kuhusu', 'biashara', '.', 'Idadi', 'hiyo', 'inawakilisha', 'jumla', 'ya', 'akina', 'dada', '10,000', 'walio', 'na', 'ari', 'ya', 'kujiendeleza', 'kibiashara', 'kutoka', 'katika', 'maeneo', 'yote', 'ya', 'Kaunti', 'ya', 'Kiambu', '.', 'Mbunge', 'wa', 'Thika', 'Bw', 'Patrick', '‘', 'Jungle', '’', 'Wainaina', ',', 'alijitolea', 'kuwahamasisha', 'kuhusu', 'uwekezaji', 'wa', 'fedha', 'kupitia', 'mpango', 'wa', 'J-Hela', 'ambao', 'pia', 'unatoa', 'mikopo', 'kwa', 'vikundi', 'vya', 'watu', '.', 'Mbunge', 'huyo', 'aliwahimiza', 'vijana', 'kuwa', 'mstari', 'wa', 'mbele', 'kukumbatia', 'biashara', 'kwa', 'lengo', 'la', 'kujiendeleza', 'zaidi', '.', '“', 'Hakuna', 'haja', 'ya', 'kutegemea', 'ajira', 'kila', 'mara', 'kwa', 'sababu', 'biashara', 'inaleta', 'faida', 'kubwa', 'na', 'pia', 'ni', 'njia', 'bora', 'ya', 'kufanya', 'maendeleo', 'ya', 'haraka', ',', '”', 'alifafanua', 'mbunge', 'huyo', '.', 'Aliwarai', 'akina', 'dada', 'hao', 'kufanya', 'hima', 'na', 'kujiweka', 'kwa', 'makundi', 'ya', 'watu', 'kumi', 'au', 'zaidi', 'ili', 'waweze', 'kupata', 'mikopo', 'ya', 'haraka', 'kupitia', 'mpango', 'wa', 'J-Hela', '.', 'Alitoa', 'mfano', 'wa', 'wahudumu', 'wa', 'bodaboda', 'kutoka', 'Kiganjo', ',', 'Makongeni', ',', 'Thika', 'ambao', 'walijiunga', 'kwa', 'vikundi', 'miaka', 'michache', 'iliyopita', 'na', 'sasa', 'wao', 'ndio', 'wamiliki', 'ya', 'jumba', 'la', 'orofa', 'nne', 'na', 'wanapata', 'kodi', 'kutoka', 'kwa', 'wanaoishi', 'katika', 'vyumba', 'vya', 'jumba', 'hilo', '.', '“', 'Hiyo', 'ni', 'hatua', 'kubwa', 'sana', 'kwa', 'sababu', 'walianza', 'kuweka', 'kwenye', 'hazina', 'yao', 'Sh100', 'kila', 'siku', 'kwa', 'kila', 'mmoja', 'na', 'baada', 'ya', 'muda', 'fulani', 'walipokea', 'mkopo', 'kutoka', 'kwa', 'mpango', 'wa', 'J-Hela', ',', 'ambapo', 'walifanikiwa', 'kujinunulia', 'kipande', 'cha', 'ardhi', 'na', 'wakaanza', 'kujenga', 'jumba', 'la', 'orofa', 'nne', 'polepole', ',', '”', 'alisema', 'mbunge', 'huyo', '.', 'Kwa', 'muda', 'wa', 'zaidi', 'ya', 'miezi', 'sita', ',', 'mbunge', 'huyo', 'amekuwa', 'akihamasisha', 'wakulima', 'na', 'wakazi', 'wa', 'kaunti', 'ya', 'Kiambu', 'jinsi', 'ya', 'kuendesha', 'biashara', 'hasa', 'kwa', 'kujiweka', 'kwa', 'makundi', '.', 'Mmoja', 'wa', 'akina', 'dada', 'waliohudhuria', 'hafla', 'hiyo', 'Sylvia', 'Kitavi', ',', 'alipongeza', 'juhudi', 'za', 'Bw', 'Wainaina', 'za', 'kuwahamasisha', 'ili', 'kujitegemea', 'kibiashara', '.', 'Wito', 'watu', 'wapime', 'kansa', 'ili', 'kupunguza', 'ada', 'za', 'kutibu', 'WAKENYA', 'wameshauriwa', 'wapime', 'kama', 'wana', 'kansa', 'au', 'la', ',', 'ili', 'kupunguza', 'gharama', 'za', 'matibabu', 'kwa', 'kuanza', 'tiba', 'mapema', '.', 'Mwenyekiti', 'wa', 'Jopo', 'Maalumu', 'kuhusu', 'Kansa', ',', 'Dkt', 'Mary', 'Nyangasi', ',', 'anasema', 'watu', 'wengi', 'hujipeleka', 'hospitalini', 'ugonjwa', 'wa', 'kansa', 'unapokuwa', 'katika', 'hatua', 'za', 'mwisho', ',', 'ambapo', 'huwa', 'vigumu', 'kuutibu', '.', '“', 'Kansa', 'ina', 'tiba', ',', 'hasa', 'inapokuwa', 'katika', 'awamu', 'ya', 'kwanza', 'au', 'ya', 'pili', '.', 'Watu', 'wengi', 'hukosa', 'kuzitambua', 'dalili', 'na', 'mapema', '.', 'Wanapofika', 'hospitalini', ',', 'huhitaji', 'mamilioni', 'kutibu', 'kansa', 'inapokuwa', 'imezagaa', 'mwilini', ',', '”', 'akasema', 'Dkt', 'Nyangasi', 'jana', 'Jumanne', 'kwenye', 'mkutano', 'na', 'wanahabari', 'katika', 'hoteli', 'ya', 'Serena', ',', 'Nairobi', '.', 'Baadhi', 'ya', 'dalili', 'za', 'kansa', 'ni', 'sawa', 'na', 'za', 'maradhi', 'mengine', '.', 'Kufanya', 'malengelenge', ',', 'kikohozi', 'kisichoisha', ',', 'kupungua', 'uzani', 'wa', 'mwili', ',', 'kubadilika', 'mfumo', 'wa', 'kwenda', 'haja', 'kubwa', 'na', 'kadhalika', '.', 'Mkurugenzi', 'wa', 'Baraza', 'la', 'Vyombo', 'vya', 'Habari', '(', 'MCK', ')', 'anayesimamia', 'utoaji', 'mafunzo', ',', 'Bw', 'Victor', 'Bwire', ',', 'aliwapa', 'changamoto', 'wanahabari', 'waifanye', 'kansa', 'kuwa', 'mada', 'kuu', 'kwenye', 'kampeni', 'za', 'Uchaguzi', 'Mkuu', 'ujao', '.']\n",
      "\n",
      " Number of Words:  452\n"
     ]
    }
   ],
   "source": [
    "file=\"21dec15.txt\"\n",
    "\n",
    "# calling the function and storing the contents in a text variable \n",
    "text4 = get_document(\"https://taifaleo.nation.co.ke/hamasisho-la-kibiashara-kwa-akina-dada/\")\n",
    "text6 = get_document(\"https://taifaleo.nation.co.ke/wito-watu-wapime-kansa-ili-kupunguza-ada-za-kutibu/\")\n",
    "\n",
    "# calling the store_ document function \n",
    "store_document(doc=text4,name=file)\n",
    "store_document(doc=text6,name=file)\n",
    "\n",
    "#add the words in this file to the total_corpus_words, to keep count of the number of words in the corpus\n",
    "total_corpus_words+=total_words(file)"
   ]
  },
  {
   "cell_type": "code",
   "execution_count": 132,
   "metadata": {},
   "outputs": [
    {
     "data": {
      "text/plain": [
       "798803"
      ]
     },
     "execution_count": 132,
     "metadata": {},
     "output_type": "execute_result"
    }
   ],
   "source": [
    "total_corpus_words"
   ]
  },
  {
   "cell_type": "code",
   "execution_count": 135,
   "metadata": {},
   "outputs": [
    {
     "name": "stdout",
     "output_type": "stream",
     "text": [
      "['Wakulima', 'wa', 'Kiambu', 'wahimizwa', 'kupanda', 'miparachichi', 'na', 'macadamia', 'KILIMO', 'cha', 'parachichi', 'na', 'macadamia', 'ni', 'muhimu', 'kwa', 'kuinua', 'uchumi', 'wa', 'nchi', '.', 'Mbunge', 'wa', 'Thika', 'Bw', 'Patrick', '‘', 'Jungle', '’', 'Wainaina', ',', 'alieleza', 'kuwa', 'kinachosababisha', 'mazao', 'hayo', 'kukosa', 'kuleta', 'faida', 'hapa', 'nchini', 'inavyostahili', 'ni', 'mawakala', 'ambao', 'huingilia', 'kati', 'wakati', 'wa', 'mauzo', 'katika', 'nchi', 'za', 'ng', '’', 'ambo', '.', '“', 'Iwapo', 'mazao', 'hayo', 'yanaweza', 'yakauzwa', 'kwa', 'bei', 'ifaayo', 'katika', 'soko', ',', 'bila', 'shaka', 'nchi', 'hii', 'inaweza', 'kuzoa', 'mabilioni', 'ya', 'fedha', ',', '”', 'alifafanua', 'Bw', 'Wainaina', '.', 'Alisema', 'kulingana', 'na', 'utafiti', 'wake', 'kama', 'mkulima', 'mashuhuri', 'wa', 'mazao', 'hayo', 'mawili', ',', 'iwapo', 'miparachichi', 'inaweza', 'kupandwa', 'kwa', 'wingi', 'hapa', 'nchini', ',', 'bila', 'shaka', 'maparachichi', 'yataweza', 'kuletea', 'nchi', 'hii', 'takribani', 'Sh100', 'bilioni', 'kwa', 'mwaka', '.', '“', 'Fedha', 'hizo', 'zinaonekana', 'ni', 'nyingi', 'ajabu', 'lakini', 'maswala', 'ya', 'soko', 'katika', 'nchi', 'za', 'nje', 'yakizingatiwa', 'kwa', 'uwazi', 'na', 'uwajibikaji', ',', 'bila', 'shaka', 'fedha', 'hizo', 'zitapatikana', 'na', 'huu', 'si', 'utani', ',', '”', 'alifafanua', 'mbunge', 'huyo', '.', 'Mbunge', 'huyo', 'aliyasema', 'hayo', 'mjini', 'Thika', 'alipohamasisha', 'wakulima', 'zaidi', 'ya', '200', 'kutoka', 'maeneo', 'tofauti', 'katika', 'kaunti', 'ya', 'Kiambu', '.', 'Alisema', 'mazao', 'hayo', 'husafirishwa', 'ng', '’', 'ambo', 'katika', 'nchi', 'kama', 'Afrika', 'Kusini', ',', 'bara', 'Uropa', ',', 'Amerika', 'ya', 'Kusini', ',', 'na', 'Uarabuni', '.', 'Bw', 'Wainaina', 'alisema', 'kinachoipa', 'Kenya', 'nafasi', 'njema', 'ya', 'kuvuna', 'parachichi', 'na', 'macadamia', 'ya', 'gredi', 'ya', 'juu', 'ni', 'hali', 'mzuri', 'ya', 'mchanga', '.', 'Alisema', 'nchi', 'ya', 'Kenya', 'iko', 'kwenye', 'nafasi', 'ya', 'tano', 'kwa', 'kuuza', 'zao', 'la', 'parachichi', 'duniani', '.', 'Alisema', 'mafuta', 'ya', 'parachichi', 'hutumika', 'kwa', 'dawa', 'za', 'kudungwa', 'mwilini', ',', 'vipodozi', ',', 'na', 'pia', 'ni', 'mazuru', 'kwa', 'ngozi', '.', 'Alitaja', 'mbolea', 'aina', 'ya', 'asilia', '–', 'organic', '–', 'kama', 'ni', 'muhimu', 'kwa', 'mazao', 'hayo', 'mawili', 'kwa', 'sababu', 'inarutubisha', 'mchanga', 'kwa', 'kiwango', 'cha', 'juu', '.', 'Bw', 'Wainaina', 'aliwarai', 'wakulima', 'hao', 'kuzamia', 'katika', 'kilimo', 'cha', 'mazao', 'hayo', 'mawili', 'kwa', 'sababu', 'hiyo', 'ndiyo', 'njia', 'mojawapo', 'ya', 'kunufaika', 'kifedha', 'na', 'kujenga', 'utajiri', 'wao', '.', 'Alisema', 'tayari', 'amejitolea', 'mhanga', 'kuona', 'ya', 'kwamba', 'katika', 'mwezi', 'wa', 'Disemba', '2021', 'na', 'Januari', '2022', ',', 'atatoa', 'miche', 'mitano', 'ya', 'miparachichi', 'bure', 'kwa', 'kila', 'mkulima', 'atakayeonyesha', 'nia', 'ya', 'kupanda', 'maparachichi', 'na', 'macadamia', 'kwenye', 'shamba', 'lake', '.', 'Ujenzi', 'kando', 'ya', 'Mto', 'Ngong', 'waelekeza', 'maji', 'katika', 'shule', 'ya', 'Songa', 'Mbele', 'ONGEZEKO', 'la', 'ujenzi', 'wa', 'nyumba', 'za', 'orofa', 'katika', 'mtaa', 'mmoja', 'wa', 'mabanda', 'kunatishia', 'usalama', 'wa', 'Shule', 'ya', 'watoto', 'wanaoishi', 'na', 'ulemavu', 'iliyoko', 'katika', 'kaunti', 'ndogo', 'ya', 'Starehe', '.', 'Hayo', 'yalisemwa', 'Jumatano', 'na', 'Usimamizi', 'wa', 'Mukuru', 'Promotion', 'Centre', '(', 'MPC', ')', '–', 'kituo', 'kinachofadhili', 'familia', 'maskini', 'katika', 'maeneo', 'ya', 'Mukuru', '.', 'Kwa', 'mujibu', 'wa', 'mkurugenzi', 'mkuu', 'wa', 'MPC', ',', 'Mtawa', 'Mary', 'Killeen', ',', 'taasisi', 'ya', 'Songa', 'Mbele', 'na', 'Masomo', 'katika', 'mtaa', 'wa', 'mabanda', 'wa', 'Mukuru-Kisii', ',', 'South', 'B', 'iko', 'katika', 'njia', 'panda', '.', 'Hii', 'ni', 'baada', 'ya', 'tetesi', 'kwamba', 'wanyakuzi', 'wa', 'ardhi', 'wamejenga', 'nyumba', 'za', 'orofa', 'ndani', 'ya', 'mto', 'Ngong', 'na', 'kulazimisha', 'maji', 'kuelekea', 'shuleni', '.', '“', 'Watu', 'binafsi', 'wamejenga', 'nyumba', 'za', 'mawe', 'zenye', 'orofa', 'ndani', 'ya', 'mto', 'Ngong', 'katika', 'mtaa', 'wa', 'mabanda', 'wa', 'Mukuru-Kayaba', 'na', 'kulazimisha', 'maji', 'kuchukua', 'mkondo', 'mwingine', '.', 'Kwa', 'sasa', ',', 'maji', 'mtoni', 'yamesukumwa', 'hadi', 'kwenye', 'ukuta', 'wa', 'shule', 'yetu', 'ya', 'walemavu', ',', '”', 'mtawa', 'Mary', 'akaambia', 'Taifa', 'Leo', '.', 'Kinachokera', 'MPC', 'zaidi', 'ni', 'kwamba', 'shule', 'ya', 'Songa', 'Mbele', 'imewasajili', 'watoto', 'kutoka', 'mitaa', 'mbalimbali', 'ya', 'mabanda', 'katika', 'maeneo', 'hayo', '.', 'Hata', 'hivyo', ',', 'baadhi', 'ya', 'wakazi', 'ndio', 'wanaochangia', 'katika', 'masuala', 'ya', 'kutatiza', 'shughuli', 'za', 'kiofisi', 'katika', 'kituo', 'cha', 'MPC', '.', 'Kwa', 'mujibu', 'wa', 'mdokezi', 'wa', 'Taifa', 'Leo', ',', 'yamkini', 'ujenzi', 'wa', 'nyumba', 'kwenye', 'mitaa', 'hiyo', 'umekumbwa', 'na', 'sakata', 'iliyo', 'na', 'historia', 'ndefu', '.', '“', 'Mabwanyenye', 'huuziwa', 'ploti', 'na', 'wazee', 'wa', 'mitaa', 'wanaoshirikiana', 'na', 'maafisa', 'wa', 'utawala', '.', 'Mwanzoni', ',', 'walikuwa', 'wakijenga', 'nyumba', 'za', 'mabati', '(', 'muda', ')', 'wakihofia', 'zitabomolewa', 'na', 'serikali', 'wakati', 'wowote', ',', '”', 'mdokezi', 'wetu', 'asema', '.', 'Fauka', 'ya', 'hayo', ',', 'ni', 'kutokana', 'na', 'nafasi', 'za', 'ardhi', 'kuadimika', 'siku', 'hizi', 'ambapo', 'wamebadili', 'mbinu', '.', '“', 'Wakati', 'huu', ',', 'mabwanyenye', 'hununua', 'nyumba', 'zilizojengwa', 'zamani', 'kwa', 'mabati', 'kisha', 'huzibomoa', 'na', 'kujengwa', 'za', 'kisasa', 'zilizojengwa', 'kwa', 'mawe', 'na', 'za', 'orofa', ',', '”', 'mfichuzi', 'akasema', '.', 'Maafisa', 'wa', 'utawala', 'waliopo', 'ofisini', 'siku', 'hizi', 'wakiwemo', 'manaibu', 'wa', 'machifu', ',', 'machifu', 'sawia', 'na', 'mkuu', 'wa', 'tarafa', 'ya', 'South', 'B', ',', 'Bw', 'Michael', 'Aswani', 'Were', 'walijitenga', 'kando', 'na', 'suala', 'hili', '.', 'Wakijitetea', ',', 'walisema', 'hawana', 'thibitisho', 'kwamba', 'utawala', 'wa', 'awali', 'ulihusika', 'katika', 'sakata', 'hiyo', 'wakiongeza', 'kuwa', 'wao', 'ni', 'wageni', 'na', 'walikuta', 'mitaa', 'ikiwa', 'na', 'nyumba', 'za', 'orofa', '.', 'Vilevile', ',', 'polisi', 'wanashuku', 'washukiwa', 'walikuwa', 'na', 'mpango', 'wa', 'kufanya', 'uhalifu', 'pahali', 'pasipojulikana', 'au', 'wawe', 'walikuwa', 'wakienda', 'kukodisha', 'bastola', 'waliyokuwa', 'nayo', '.', 'Kisa', 'hicho', 'liliwavutia', 'wananchi', 'wengi', 'na', 'kusababisha', 'msongamano', 'wa', 'magari', 'kwenye', 'barabara', 'zilizoko', 'South', 'B', 'na', 'Eneo', 'la', 'Viwandani', 'kwani', 'wafanyakazi', 'wengi', 'walikuwa', 'wakitoka', 'kazini', '.', 'Kufikia', 'usiku', ',', 'maafisa', 'wa', 'polisi', 'walionekana', 'wakiwa', 'wengi', 'katika', 'mitaa', 'ya', 'mabanda', 'katika', 'tarafa', 'hiyo', 'wakiwasaka', 'majambazi', 'waliotoroka', '.', '“', 'Polisi', 'walikuwa', 'wengi', 'usiku', 'ndani', 'ya', 'mitaa', 'ya', 'mabanda', 'huku', 'South', 'B', 'sawia', 'na', 'barabarani', 'huku', 'wasiwasi', 'ukitanda', 'watu', 'wakiongopa', 'kukamatwa', 'katika', 'kukurukakara', 'za', 'msako', 'wa', 'polisi', ',', '”', 'Mmiliki', 'wa', 'kioski', 'mtaani', 'Mariguini', 'ambaye', 'aliogopa', 'kujitambulisha', 'akasema', '.', 'Jumatano', ',', 'serikali', 'kupitia', 'kwa', 'Waziri', 'wa', 'Usalama', 'Fred', 'Matiang', '’', 'i', 'ilisema', 'usalama', 'umethibitiwa', 'vilivyo', 'msimu', 'wa', 'sherehe', 'huku', 'maafisa', 'wote', 'wa', 'polisi', 'walio', 'likizoni', 'wakiamriwa', 'kurudi', 'kazini', '.', '“', 'Kila', 'mkenya', 'amehakikishiwa', 'usala', 'wa', 'kutosha', 'tunapoelekea', ',', 'wakati', 'na', 'baada', 'ya', 'sherehe', 'za', 'Krisimasi', 'na', 'Mwaka', 'Mpya', ',', '’', 'Bw', 'Matiang', '’', 'i', 'akatangaza', '.', '“', 'Hii', 'ndiyo', 'bei', 'ghali', 'zaidi', 'katika', 'tajiriba', 'yangu', 'ya', 'miaka', '30', 'kwenye', 'kilimo', '.', 'Wengine', 'wakisherehekea', 'Jamhuri', ',', 'mimi', 'niko', 'shambani', 'nikikadiria', 'hasara', ',', '”', 'akasema', 'mbunge', 'wa', 'Mathira', ',', 'Bw', 'Rigathi', 'Gachagua', 'wakati', 'wa', 'maadhimisho', 'ya', 'Jamhuri', 'Dei', '2021', '.', 'Huku', 'mbunge', 'huyo', 'akihoji', 'amepanga', 'kuendeleza', 'shughuli', 'za', 'kilimo', 'kama', 'mradi', 'wa', 'kujiendeleza', 'kimaisha', 'baada', 'ya', 'kustaafu', ',', 'alisema', 'ni', 'hasara', 'kwa', 'wakulima', 'wanaofanya', 'kilimo-biashara', 'kutokana', 'na', 'bei', 'ghali', 'ya', 'pembejeo', ',', 'bei', 'ya', 'mazao', 'ikisalia', 'ilipokuwa', 'kitambo', ',', 'miaka', 'nenda', 'miaka', 'rudi', '.', 'Kando', 'na', 'kutozwa', 'ushuru', ',', 'mbegu', 'zimekumbwa', 'na', 'kero', 'ya', 'utengenezaji', 'wa', 'zile', 'bandia', '.', 'Gretsa', 'yatenga', 'Sh100', 'milioni', 'za', 'upanuzi', 'wa', 'chuo', 'WAHITIMU', 'wapatao', '667', 'wa', 'Chuo', 'Kikuu', 'cha', 'Gretsa', 'mjini', 'Thika', ',', 'wameshauriwa', 'kutumia', 'ujuzi', 'walio', 'nao', 'bila', 'kupoteza', 'fursa', 'zilizoko', 'katika', 'soko', 'la', 'ajira', '.', 'Chansela', 'wa', 'chuo', 'hicho', 'Dkt', 'Kibathi', 'Mbugua', ',', 'alisema', 'kuwa', 'licha', 'ya', 'kupitia', 'masaibu', 'mengi', 'wakati', 'wa', 'janga', 'la', 'Covid-19', ',', 'wahadhiri', 'na', 'wanafunzi', 'wa', 'chuo', 'hicho', 'walijitahidi', 'na', 'kuafikia', 'matakwa', 'yao', 'katika', 'elimu', '.', '“', 'Wakati', 'nchi', 'ilikuwa', 'imekabiliwa', 'vilivyo', 'na', 'janga', 'la', 'Covid-19', 'mambo', 'yalikuwa', 'magumu', 'kwa', 'sababu', 'masomo', 'mengi', 'yalifuatiliwa', 'kupitia', 'mitandao', 'huku', 'wanafunzi', 'wakiwa', 'wachache', 'madarasani', ',', '”', 'alifafanua', 'Dkt', 'Mbugua', '.', 'Aliyasema', 'hayo', 'mnamo', 'Alhamisi', ',', 'katika', 'awamu', 'ya', '12', 'ya', 'kufuzu', 'kwa', 'wahitimu', 'katika', 'chuo', 'hicho', '.', 'Alisema', 'wamekuwa', 'na', 'tatizo', 'la', 'ukosefu', 'wa', 'mahali', 'pa', 'malazi', 'kwa', 'wanafunzi', 'na', 'hilo', 'limefanya', 'watafute', 'kipande', 'cha', 'ardhi', 'cha', 'ekari', '60', 'eneo', 'la', 'Makuyu', ',', 'Kaunti', 'ya', 'Murang', '’', 'a', ',', 'ili', 'kuongeza', 'mijengo', 'ya', 'kisasa', '.', '“', 'Tayari', 'tumekamilisha', 'majumba', 'mawili', 'yenye', 'maktaba', ',', 'madarasa', 'kadha', 'na', 'jikoni', '.', 'Tunafanya', 'mipango', 'kuona', 'ya', 'kwamba', 'tunavuta', 'maji', 'safi', 'na', 'umeme', 'katika', 'eneo', 'hilo', ',', '”', 'akasema', '.', 'Alikadiria', 'bajeti', 'ya', 'kukamilisha', 'mradi', 'huo', 'ni', 'takribani', 'Sh100', 'milioni', 'ili', 'kupatikane', 'majumba', 'ya', 'kisasa', 'ya', 'wanafunzi', 'na', 'wahadhiri', '.', 'Wahitimu', 'wa', 'Gretsa', '.', 'PICHA', '|', 'LAWRENCE', 'ONGARO', 'Alitoa', 'wito', 'kwa', 'serikali', 'kutoa', 'mikopo', 'kwa', 'wanafunzi', 'wanaokamilisha', 'masomo', 'vyuoni', 'ili', 'waweze', 'kubuni', 'ajira', 'zao', 'wenyewe', '.', 'Naibu', 'Chansela', 'wa', 'chuo', 'hicho', ',', 'Profesa', 'Wabuke', 'Bibi', ',', 'alisema', 'katika', 'chuo', 'hicho', 'wanazingatia', 'maswala', 'ya', 'utafiti', 'na', 'ubunifu', 'ili', 'kuwapa', 'wanafunzi', 'fursa', 'ya', 'kujiendeleza', 'zaidi', '.', 'Alisema', 'wamegundua', 'ya', 'kwamba', 'masomo', 'ya', 'darasani', 'pekee', 'hayana', 'ukamilifu', 'bila', 'kufanya', 'utafiti', 'kwa', 'jambo', 'fulani', '.', '“', 'Tunataka', 'kuona', 'wanafunzi', 'kutoka', 'chuoni', 'wakijumuika', 'na', 'wananchi', 'na', 'kuendesha', 'utafiti', 'wao', 'kuhusu', 'maswala', 'ya', 'kibiashara', 'wanayopitia', '.', 'Tungetaka', 'kuelewa', 'mengi', 'kuhusu', 'hali', 'ya', 'mashinani', ',', '”', 'alifafanua', 'Prof', 'Bibi', '.', 'Alipongeza', 'wahadhiri', 'wa', 'chuo', 'hicho', 'kwa', 'kukubali', 'kukatwa', 'mishahara', 'kiasi', 'fulani', 'hasa', 'wakati', 'wa', 'janga', 'la', 'Covid-19', '.', '“', 'Wakati', 'huo', 'mambo', 'yalikuwa', 'magumu', 'na', 'tuliendesha', 'mipango', 'yetu', 'jinsi', 'mambo', 'yalivyokuwa', '.', 'Hata', 'wakati', 'mwingi', 'wahadhiri', 'na', 'wanafunzi', 'wengi', 'wakiendesha', 'shughuli', 'zao', 'za', 'kimasomo', 'wakiwa', 'nyumbani', ',', '”', 'alieleza', 'Prof', 'Bibi', '.', 'Alikubaliana', 'na', 'maono', 'ya', 'Dkt', 'Mbugua', 'ya', 'serikali', 'kuwapiga', 'jeki', 'kifedha', 'wanafunzi', 'baada', 'ya', 'kukamilisha', 'masomo', 'yao', '.', '“', 'Ni', 'jambo', 'la', 'kuvunja', 'moyo', 'wakati', 'mwanafunzi', 'anasoma', 'kwa', 'miaka', 'minne', 'halafu', 'baada', 'ya', 'kukamilisha', 'elimu', 'yake', 'anaketi', 'bure', 'nyumbani', 'bila', 'kufanya', 'lolote', ',', '”', 'alieleza', 'msomi', 'huyo', '.', 'Alieleza', 'wanafunzi', 'wanastahili', 'kupewa', 'motisha', 'ili', 'masomo', 'yao', 'chuoni', 'yawe', 'na', 'maana', 'badala', 'ya', 'kuketi', 'bure', 'wakingoja', 'kupata', 'ajira', '.']\n",
      "\n",
      " Number of Words:  1402\n"
     ]
    }
   ],
   "source": [
    "file=\"21dec16.txt\"\n",
    "\n",
    "# calling the function and storing the contents in a text variable \n",
    "text1 = get_document(\"https://taifaleo.nation.co.ke/kupanda-miparachichi-na-macadamia/\")\n",
    "text2 = get_document(\"https://taifaleo.nation.co.ke/ujenzi-kando-ya-mto-waelekeza-maji-shuleni/\")\n",
    "text3 = get_document(\"https://taifaleo.nation.co.ke/mshukiwa-wa-ujambazi-auawa-kwa-risasi/\")\n",
    "text4 = get_document(\"https://taifaleo.nation.co.ke/serikali-kutathmini-vat-inayotozwa-mbegu-za-mboga/\")\n",
    "text5 = get_document(\"https://taifaleo.nation.co.ke/gretsa-yatenga-sh100-milioni-za-upanuzi-wa-chuo/\")\n",
    "\n",
    "# calling the store_ document function \n",
    "store_document(doc=text1,name=file)\n",
    "store_document(doc=text2,name=file)\n",
    "store_document(doc=text3,name=file)\n",
    "store_document(doc=text4,name=file)\n",
    "store_document(doc=text5,name=file)\n",
    "\n",
    "#add the words in this file to the total_corpus_words, to keep count of the number of words in the corpus\n",
    "total_corpus_words+=total_words(file)"
   ]
  },
  {
   "cell_type": "code",
   "execution_count": 136,
   "metadata": {},
   "outputs": [
    {
     "data": {
      "text/plain": [
       "800205"
      ]
     },
     "execution_count": 136,
     "metadata": {},
     "output_type": "execute_result"
    }
   ],
   "source": [
    "total_corpus_words"
   ]
  },
  {
   "cell_type": "code",
   "execution_count": 140,
   "metadata": {},
   "outputs": [
    {
     "name": "stdout",
     "output_type": "stream",
     "text": [
      "['Kampuni', 'za', 'kusaga', 'mahindi', 'zasitisha', 'shughuli', 'zao', 'KAMPUNI', 'za', 'kusaga', 'mahindi', 'katika', 'maeneo', 'ya', 'Magharibi', 'na', 'Kati', 'mwa', 'Kenya', ',', 'zimelazimika', 'kusitisha', 'operesheni', 'zao', 'kufuatia', 'ukosefu', 'wa', 'mahindi', 'wakati', 'ambapo', 'Wakenya', 'milioni', '2.5', 'nao', 'wanakabiliwa', 'na', 'njaa', '.', 'Hatua', 'za', 'kampuni', 'hizo', 'kusitisha', 'operesheni', 'pia', 'zitachangia', 'wengi', 'kupoteza', 'ajira', 'wakati', 'takwimu', 'zinaonyesha', 'idadi', 'ya', 'Wakenya', 'wasiokuwa', 'na', 'kazi', 'inazidi', 'kuongezeka', '.', 'Tayari', 'kampuni', '10', 'ambazo', 'husaga', 'mahindi', 'zimewatuma', 'wafanyakazi', 'wao', 'kwa', 'likizo', 'ya', 'lazima', 'baada', 'ya', 'kusitisha', 'shughuli', 'zao', 'kutokana', 'na', 'ukosefu', 'wa', 'mahindi', 'ambao', 'umechangiwa', 'na', 'mavuno', 'ya', 'chini', '.', 'Idadi', 'ya', 'magunia', 'ya', 'mahindi', 'yaliyovunwa', 'msimu', 'uliopita', 'ni', 'milioni', '44', 'hii', 'ikiwa', 'kiwango', 'cha', 'chini', 'ikilinganishwa', 'na', 'milioni', '42.1', 'msimu', 'wa', '2019', '.', '“', 'Kampuni', 'nyingi', 'za', 'kusaga', 'mahindi', 'zimekosa', 'mazao', 'hayo', 'kwa', 'muda', 'wa', 'wiki', 'mbili', 'iliyopita', '.', 'Bei', 'ya', 'mahindi', 'nayo', 'imepanda', 'hadi', 'Sh3,000', 'kwa', 'kila', 'gunia', 'ya', 'kilo', '90', 'na', 'wamiliki', 'wa', 'kampuni', 'hizo', 'wamesema', 'watarejelea', 'operesheni', 'zao', 'iwapo', 'kutakuwa', 'na', 'mahindi', 'ya', 'kutosha', 'ya', 'kusaga', ',', '”', 'akasema', 'Mwenyekiti', 'wa', 'Muungano', 'wa', 'Wasagaji', 'Mahindi', '(', 'GBMA', ')', ',', 'Bw', 'Kipngetich', 'Mutai', '.', 'Aidha', 'kampuni', 'zilizoathirika', 'zinapatikana', 'Bungoma', ',', 'Busia', ',', 'Kisumu', ',', 'Narok', ',', 'Kajiado', 'na', 'nyingine', 'nne', 'eneo', 'la', 'Kati', '.', 'Ukosefu', 'wa', 'mahindi', 'umechangia', 'kupanda', 'kwa', 'bei', 'ya', 'unga', 'na', 'unatokana', 'na', 'mavuno', 'yasiyoridhisha', 'msimu', 'uliopita', 'na', 'pia', 'hatua', 'ya', 'baadhi', 'ya', 'wakulima', 'kuyahodhi', 'mahindi', 'yao', 'wakisubiri', 'bei', 'ipande', 'zaidi', '.', '“', 'Afadhali', 'kampuni', 'kutoka', 'Kaskazini', 'mwa', 'Bonde', 'la', 'Ufa', 'hasa', 'Eldoret', ',', 'Moi', '’', 's', 'Bridge', 'na', 'Kitale', 'bado', 'zina', 'mahindi', 'ila', 'kiasi', 'walicho', 'nacho', 'hakiwezi', 'kuwafikisha', 'hata', 'miezi', 'miwili', ',', '”', 'akasema', 'Bw', 'David', 'Koskei', 'ambaye', 'anamiliki', 'kampuni', 'ya', 'kusaga', 'mahindi', 'mjini', 'Eldoret', '.', 'Bodi', 'ya', 'Kitaifa', 'ya', 'Nafaka', 'na', 'Mazao', '(', 'NCPB', ')', 'nayo', 'imepandisha', 'bei', 'ya', 'gunia', 'la', 'kilo', '90', 'ya', 'mahindi', 'hadi', 'Sh2,700', '.', 'Hata', 'hivyo', ',', 'kuna', 'ushindani', 'mkali', 'huku', 'kampuni', 'za', 'kusaga', 'mahindi', 'nazo', 'zikipandisha', 'bei', 'hiyo', 'hadi', 'Sh2,900', 'ili', 'kuwashawishi', 'wakulima', 'wawauzie', 'mahindi', '.', 'Wananchi', 'nao', 'wataanza', 'kuumia', 'huku', 'bei', 'ya', 'unga', 'wa', 'mahindi', 'ikipanda', 'hadi', 'Sh105', 'kutoka', 'Sh100', 'kwenye', 'maduka', 'mbalimbali', 'eneo', 'la', 'Mlima', 'Kenya', 'na', 'bei', 'hiyo', 'huenda', 'ikapanda', 'zaidi', '.', 'Wizara', 'ya', 'Kilimo', 'nayo', 'imefichua', 'kuwa', 'Kenya', 'ina', 'mahindi', 'ambayo', 'inaweza', 'kufikisha', 'nchi', 'hadi', 'Machi', 'mwakani', '.', 'Muungano', 'wa', 'Wasaga', 'Nafaka', '(', 'CMA', ')', 'ambao', 'una', 'kampuni', 'tano', 'za', 'kusaga', 'unga-Momabasa', ',', 'Unga', ',', 'Pembe', ',', 'Dolan', 'na', 'Kitui', ',', 'nao', 'umesema', 'kuwa', 'umesalia', 'na', 'magunia', 'machache', 'ya', 'mahindi', 'ya', 'kuwafikisha', 'tu', 'miezi', 'michache', 'ijayo', '.', 'MSIRI', 'wa', 'polisi', 'anayeshtakiwa', 'pamoja', 'na', 'maafisa', 'wanne', 'wa', 'polisi', 'kwa', 'mauaji', 'ya', 'kinyama', 'ya', 'wakili', 'Willie', 'Kimani', ',', 'mteja', 'wake', 'na', 'dereva', 'wa', 'teksi', 'ameungama', 'jinsi', 'watatu', 'hao', 'walivyoangamizwa', 'kisha', 'wakatupa', 'maiti', 'zao', 'katika', 'mto', 'miaka', 'mitano', 'iliyopita', '.', 'Bw', 'Peter', 'Ngugi', 'alisimulia', 'kwa', 'kina', 'jinsi', 'alivyomwandama', 'Kimani', ',', 'mteja', 'wake', 'Josephat', 'Mwenda', 'na', 'dereva', 'wa', 'teksi', 'Joseph', 'Muiruri', 'kutoka', 'mahakama', 'ya', 'Mavoko', '.', 'Bw', 'Ngugi', 'aliyetoa', 'ushahidi', 'akiwa', 'upande', 'wa', 'mashahidi', 'alisema', 'baada', 'ya', 'Kimani', 'na', 'wenzake', 'kutekwa', 'nyara', 'alipeleka', 'gari', 'la', 'Muiruri', 'hadi', 'Limuru', 'akalitupa', 'kisha', 'akarudi', 'Mlolongo', '.', 'Usiku', 'wa', 'Juni', '23/24', ',', '2016', 'walienda', 'kutupa', 'miili', 'ya', 'watatu', 'hao', 'katika', 'mto', 'Athi', 'River', 'eneo', 'la', 'Donyo', 'Sabuk', '.', 'Mshtakiwa', 'huyo', 'aliyeingia', 'siku', 'ya', 'pili', 'akijitetea', 'katika', 'kesi', 'ya', 'mauaji', 'inayomkabili', 'alieleza', 'mahakama', 'baada', 'ya', 'kuacha', 'teksi', 'hiyo', 'Limuru', 'jioni', 'hiyo', 'ya', 'Juni', '23', ',', '2016', ',', 'aliagizwa', 'na', 'afisa', 'wa', 'polisi', 'aliyemtambua', 'kwa', 'jina', 'Kamenchu', 'ampeleke', 'mjini', 'Thika', '.', 'Baada', 'ya', 'kutupa', 'maiti', 'hizo', 'mtoni', 'Athi', 'River', 'Bw', 'Ngugi', 'na', 'maafisa', 'wengine', 'saba', 'wa', 'polisi', 'waliokuwa', 'wameandamana', 'walirudi', 'Mlolongo', 'kuendelea', 'na', 'kazi', 'zao', 'hadi', 'siku', 'ile', 'walipokamatwa', '.', 'Kufikia', 'sasa', 'maafisa', 'wa', 'polisi', 'waliotajwa', 'kwa', 'jina', 'moja', 'moja', 'Kamenchu', ',', 'Kamau', ',', 'Waingo', 'na', 'Mwaniki', 'hawajawahi', 'kukamatwa', '.', 'Ngugi', 'alikanusha', 'pendekezo', 'la', 'Bw', 'Mutuku', 'kwamba', '“', 'ufichuzi', 'wote', 'aliotoa', 'mahakamani', 'jinsi', 'Kimani', ',', 'Mwenda', 'na', 'Muiruri', 'walivyouawa', 'na', 'maafisa', 'wa', 'polisi', 'ni', 'tungo', 'zake', 'tu', 'na', 'wala', 'hazina', 'ukweli.', '”', 'Akijibu', 'Bw', 'Mutuku', 'kuhusu', 'ukweli', 'wa', 'ushahidi', 'wake', ',', 'Bw', 'Ngugi', 'aliapa', 'kwa', 'jina', 'la', 'Mungu', 'akisema', ',', '“', 'Haki', 'ya', 'Mungu', 'nimeeleza', 'hii', 'mahakama', 'ukweli', 'mtupu', '.', 'Hii', 'mahakama', 'ikigudua', 'nimedanganya', 'nichukuliwe', 'hatua', 'kali', '.', '”']\n",
      "\n",
      " Number of Words:  677\n"
     ]
    }
   ],
   "source": [
    "file=\"21dec17.txt\"\n",
    "\n",
    "# calling the function and storing the contents in a text variable \n",
    "text1 = get_document(\"https://taifaleo.nation.co.ke/kampuni-za-kusaga-mahindi-zasitisha-shughuli-zao/\")\n",
    "text3 = get_document(\"https://taifaleo.nation.co.ke/niliitwa-kusaidia-utekelezaji-wa-mauaji-ya-wakili-nikielekea-gikomba-mshtakiwa/\")\n",
    "text4 = get_document(\"https://taifaleo.nation.co.ke/msiri-wa-polisi-alilipwa-sh3000/\")\n",
    "\n",
    "# calling the store_ document function \n",
    "store_document(doc=text1,name=file)\n",
    "store_document(doc=text3,name=file)\n",
    "store_document(doc=text4,name=file)\n",
    "\n",
    "#add the words in this file to the total_corpus_words, to keep count of the number of words in the corpus\n",
    "total_corpus_words+=total_words(file)"
   ]
  },
  {
   "cell_type": "code",
   "execution_count": 141,
   "metadata": {},
   "outputs": [
    {
     "data": {
      "text/plain": [
       "800882"
      ]
     },
     "execution_count": 141,
     "metadata": {},
     "output_type": "execute_result"
    }
   ],
   "source": [
    "total_corpus_words"
   ]
  },
  {
   "cell_type": "code",
   "execution_count": 144,
   "metadata": {},
   "outputs": [
    {
     "name": "stdout",
     "output_type": "stream",
     "text": [
      "['‘', 'Ukosefu', 'wa', 'maji', 'shuleni', 'ni', 'kikwazo', 'kwa', 'juhudi', 'za', 'kukabiliana', 'na', 'Covid-19', '’', 'IMEBAINIKA', 'wazi', 'ya', 'kwamba', 'shule', 'nyingi', 'za', 'msingi', 'katika', 'eneo', 'la', 'Thika', 'na', 'vitongoji', 'vyake', 'zinazotegemea', 'kampuni', 'ya', 'maji', 'ya', 'THIWASCO', 'zimepata', 'bili', 'ya', 'maji', 'ya', 'kiwango', 'cha', 'juu', 'ajabu', 'huku', 'zikikatiwa', 'maji', 'yao', '.', 'Mwalimu', 'mkuu', 'wa', 'Kenyatta', 'Primary', 'iliyoko', 'mjini', 'Thika', 'Bw', 'Francis', 'Nyoike', 'Chege', ',', 'alisema', 'shule', 'yake', 'ilipokea', 'malimbikizo', 'ya', 'bili', 'ya', 'maji', 'ya', 'takribani', 'Sh1.2', 'milioni', 'kwa', 'miezi', 'kadha', 'jambo', 'ambalo', 'linaponza', 'juhudi', 'zake', 'za', 'kupambana', 'na', 'homa', 'ya', 'Covid-19', '.', 'Alisema', 'upungufu', 'wa', 'maji', 'unaikabili', 'shule', 'hiyo', '.', 'Alizidi', 'kueleza', 'kuwa', 'idadi', 'ya', 'wanafunzi', 'walioko', 'katika', 'shule', 'hiyo', 'ni', '1,940', 'na', 'shule', 'hiyo', 'inahitaji', 'maji', 'mengi', 'ya', 'matumizi', '.', 'Bw', 'Chege', 'alipongeza', 'juhudi', 'za', 'mbunge', 'wa', 'Thika', 'za', 'kusambaza', 'matangi', 'ya', 'maji', 'kwa', 'shule', 'za', 'msingi', '36', 'katika', 'eneo', 'lote', 'la', 'Thika', '.', 'Alisema', 'tangi', 'moja', 'lina', 'uwezo', 'wa', 'kuhifadhi', 'maji', 'lita', '10,000', 'kwa', 'wakati', 'mmoja', '.', 'Bi', 'Lydia', 'Wambui', 'ambaye', 'ni', 'mwalimu', 'mkuu', 'wa', 'Shule', 'ya', 'Msingi', 'ya', 'Kiboko', 'mjini', 'Thika', ',', 'alisema', 'pia', 'yeye', 'anapitia', 'masaibu', 'hayo', 'ya', 'bili', 'ya', 'maji', '.', 'Alieleza', 'bili', 'yake', 'ilikuja', 'juu', 'ambapo', 'ni', 'zaidi', 'ya', 'Sh1.5', 'milioni', '.', 'Alisema', 'juhudi', 'za', 'kuwekwa', 'tangi', 'la', 'maji', 'kwa', 'kila', 'shule', 'ni', 'hatua', 'nzuru', 'ya', 'kuhifadhi', 'maji', 'hasa', 'wakati', 'kunaponyesha', 'mvua', '.', 'Mwalimu', 'mkuu', 'wa', 'shule', 'ya', 'msingi', 'ya', 'Barracks', 'mjini', 'Thika', 'Bw', 'John', 'Kiarie', ',', 'alisema', 'wakati', 'wa', 'janga', 'la', 'Covid-19', 'shule', 'nyingi', 'mjini', 'Thika', 'zilipata', 'shida', 'sana', 'kutokana', 'na', 'ukosefu', 'wa', 'maji', 'ya', 'matumizi', '.', '“', 'Hata', 'hivyo', ',', 'matangi', 'tunayoletewa', 'na', 'mbunge', 'wetu', 'wa', 'Thika', 'ni', 'muhimu', 'sana', 'kwa', 'kuhifadhi', 'maji', 'ya', 'kutumiwa', 'na', 'wanafunzi', ',', '”', 'alisema', 'Bw', 'Kiarie', '.', 'Mbunge', 'wa', 'Thika', 'Bw', 'Patrick', '‘', 'Jungle', '’', 'Wainaina', ',', 'alisema', 'mpango', 'huo', 'wa', 'kusambaza', 'matangi', 'kwenye', 'shule', 'za', 'msingi', 'ni', 'muhimu', 'hasa', 'wakati', 'huu', 'wa', 'janga', 'la', 'Covid-19', '.', '“', 'Mpango', 'huo', 'ni', 'kupitia', 'fedha', 'za', 'maendeleo', 'za', 'NG-CDF', ',', 'na', 'umekuwa', 'wa', 'kufana', '.', 'Tukianza', 'mwakani', ',', 'tutazuru', 'shule', 'zote', 'hizo', 'tukisambaza', 'matangi', 'hayo', ',', '”', 'alifafanua', 'mbunge', 'huyo', '.', 'Hata', 'shule', 'hizo', 'alieleza', 'kuwa', 'baada', 'ya', 'kufanyiwa', 'ukarabati', 'madarasa', 'kadha', 'yamerejea', 'kuwa', '‘', 'mapya', '’', 'huku', 'wanafunzi', 'na', 'walimu', 'wakipata', 'motisha', 'katika', 'mazingira', 'mapya', '.', 'Bw', 'Shikondi', 'alitoa', 'wito', 'kwa', 'madereva', 'kuwa', 'waangalifu', 'hasa', 'msimu', 'huu', 'wa', 'Krismasi', '.', '“', 'Baadhi', 'ya', 'ajali', 'zinaweza', 'kuepukika', 'ikiwa', 'tutafuata', 'kanuni', 'zote', 'za', 'trafiki', '.', 'Madereva', 'hawafai', 'kuendesha', 'magari', 'kwa', 'kasi', 'na', 'kusahau', 'kuwa', 'maisha', 'ya', 'abiria', 'yako', 'mikononi', 'mwao', '.', 'Ni', 'wakati', 'wa', 'sherehe', 'na', 'likizo', 'na', 'ni', 'vyema', 'kila', 'mmoja', 'ajihadhari', ',', '”', 'akaonya', 'Bw', 'Shikondi', '.', 'Wiki', 'jana', ',', 'wanafunzi', 'watano', 'wa', 'shule', 'walipata', 'majeraha', 'na', 'dereva', 'kupoteza', 'maisha', 'yake', '.']\n",
      "\n",
      " Number of Words:  443\n"
     ]
    }
   ],
   "source": [
    "file=\"21dec19.txt\"\n",
    "\n",
    "# calling the function and storing the contents in a text variable \n",
    "text1 = get_document(\"https://taifaleo.nation.co.ke/ukosefu-wa-maji-shuleni-ni-kikwazo/\")\n",
    "text2 = get_document(\"https://taifaleo.nation.co.ke/simanzi-wanafunzi-3-dereva-wakifariki-ajalini/\")\n",
    "\n",
    "# calling the store_ document function \n",
    "store_document(doc=text1,name=file)\n",
    "store_document(doc=text2,name=file)\n",
    "\n",
    "#add the words in this file to the total_corpus_words, to keep count of the number of words in the corpus\n",
    "total_corpus_words+=total_words(file)"
   ]
  },
  {
   "cell_type": "code",
   "execution_count": 145,
   "metadata": {},
   "outputs": [
    {
     "data": {
      "text/plain": [
       "801325"
      ]
     },
     "execution_count": 145,
     "metadata": {},
     "output_type": "execute_result"
    }
   ],
   "source": [
    "total_corpus_words"
   ]
  },
  {
   "cell_type": "code",
   "execution_count": 146,
   "metadata": {},
   "outputs": [
    {
     "name": "stdout",
     "output_type": "stream",
     "text": [
      "['Matumaini', 'tele', 'daraja', 'la', 'Ngoliba', 'likikaribia', 'kukamilika', 'WAKAZI', 'wa', 'Ngoliba', 'Thika', 'Mashariki', ',', 'na', 'eneo', 'la', 'Murang', '’', 'a', 'watapata', 'afueni', 'wakati', 'ujenzi', 'wa', 'daraja', 'la', 'kisasa', 'utakapokamilika', '.', 'Kwa', 'zaidi', 'ya', 'mwaka', 'mmoja', 'sasa', ',', 'daraja', 'hilo', 'limekuwa', 'halifanyi', 'kazi', 'baada', 'ya', 'kubomoka', 'wakazi', 'wakibaki', 'kuhangaika', '.', 'Baadhi', 'ya', 'shughuli', 'zilizoathirika', 'ni', 'usafiri', 'wa', 'bodaboda', ',', 'masomo', 'ambapo', 'wanafunzi', 'walitatizika', 'kutoka', 'upande', 'mmoja', 'hadi', 'mwingine', ',', 'na', 'ulishaji', 'mifugo', 'ambapo', 'wakazi', 'hao', 'walikosa', 'kupeleka', 'mifugo', 'kwa', 'malisho', '.', 'Baada', 'ya', 'kupitia', 'masaibu', 'hayo', 'yote', ',', 'wakazi', 'wa', 'Ngoliba', 'walilazimika', 'kutumia', 'boti', 'kama', 'njia', 'moja', 'ya', 'usafiri', 'huku', 'wakitozwa', 'nauli', 'ya', 'kuvushwa', '.', 'Bw', 'Justus', 'Musila', 'mkazi', 'wa', 'Ngoliba', ',', 'alieleza', 'kuwa', 'kwa', 'kila', 'mmoja', 'kuvuka', 'upande', 'wa', 'pili', 'ni', 'sharti', 'alipe', 'ada', 'ya', 'Sh20', '.', 'Halafu', 'wafanyabiashara', 'kuvukishwa', 'upande', 'wa', 'pili', 'wanalipa', 'Sh50', 'pamoja', 'na', 'mizigo', 'yao', '.', '”', 'Sisi', 'kama', 'wakazi', 'wa', 'eneo', 'hili', 'tumepitia', 'masaibu', 'mengi', 'kwa', 'sababu', 'mashua', 'zinazovusha', 'watu', 'ni', 'tatu', 'pekee', 'na', 'kwa', 'hivyo', 'zinachukua', 'muda', 'kutosheleza', 'mahitaji', 'ya', 'kila', 'mmoja', ',', '”', 'alisema', 'Bw', 'Musila', '.', 'Alisema', 'wanafunzi', 'pia', 'huchelewa', 'shuleni', 'kila', 'mara', 'kwa', 'sababu', 'ya', 'kuweka', 'foleni', 'ili', 'kungoja', 'kuvushwa', 'hadi', 'upande', 'wa', 'pili', '.', 'Matumizi', 'ya', 'boti', 'kuvuka', 'kutoka', 'ng', '’', 'ambo', 'moja', 'hadi', 'nyingine', '.', 'PICHA', '|', 'LAWRENCE', 'ONGARO']\n",
      "\n",
      " Number of Words:  209\n"
     ]
    }
   ],
   "source": [
    "file=\"21dec20.txt\"\n",
    "\n",
    "# calling the function and storing the contents in a text variable \n",
    "text1 = get_document(\"https://taifaleo.nation.co.ke/matumaini-tele-daraja-la-ngoliba-likikaribia-kukamilika/\")\n",
    "\n",
    "# calling the store_ document function \n",
    "store_document(doc=text1,name=file)\n",
    "\n",
    "#add the words in this file to the total_corpus_words, to keep count of the number of words in the corpus\n",
    "total_corpus_words+=total_words(file)"
   ]
  },
  {
   "cell_type": "code",
   "execution_count": 147,
   "metadata": {},
   "outputs": [
    {
     "data": {
      "text/plain": [
       "801534"
      ]
     },
     "execution_count": 147,
     "metadata": {},
     "output_type": "execute_result"
    }
   ],
   "source": [
    "total_corpus_words"
   ]
  },
  {
   "cell_type": "code",
   "execution_count": 148,
   "metadata": {},
   "outputs": [
    {
     "name": "stdout",
     "output_type": "stream",
     "text": [
      "['Hata', 'hivyo', ',', 'Bi', 'Jane', 'aliongeza', 'kwamba', 'mwanamke', 'husika', 'alidaiwa', 'kuhamia', 'mtaani', 'humo', 'kutoka', 'mtaa', 'jirani', 'wa', 'Mukuru-Kaiyaba', 'siku', 'mbili', 'zilizopita', '.', '“', 'Inasemekana', 'mwathiriwa', 'alikuwa', 'akipika', 'na', 'kuuza', 'samaki', 'mtaani', 'jirani', 'wa', 'Kaiyaba', 'alikoishi', 'pia', 'kabla', 'ya', 'kuhamia', 'hapa', 'mtaani', 'wa', 'mabanda', 'wa', 'Mukuru', 'Maasai', ',', '”', 'Bi', 'Jane', 'asema', '.', 'Isitoshe', ',', 'Bi', 'Jane', 'aliongeza', 'kwamba', 'alijulishwa', 'kuhusu', 'tukio', 'hili', 'mwendo', 'wa', 'saa', 'tano', 'za', 'mchana', 'na', 'ndipo', 'akasimamisha', 'shughuli', 'zake', 'za', 'nyumbani', 'ili', 'amshughulikie', 'mwathiriwa', '.', 'Bi', 'Jane', ',', 'akionekana', 'kugadhabika', ',', 'aliwalaumu', 'wakazi', 'wa', 'mtaa', 'wa', 'Maasai', 'kwa', 'kunyamazia', 'tukio', 'hilo', 'bila', 'kuwajulisha', 'wazee', ',', 'wamama', 'wa', 'mtaa', ',', 'viongozi', 'wa', 'makanisa', ',', 'msikiti', ',', 'maafisa', 'wa', 'utawala', 'wala', 'polisi', '.', '“', 'Ajabu', 'ni', 'kwamba', 'wakazi', 'wa', 'mtaa', 'huu', 'hawapeani', 'habari', 'kuhusu', 'uhalifu', '.', 'Ni', 'siku', 'chache', 'tangu', 'kisa', 'cha', 'mfanyabiashara', 'kushambuliwa', 'na', 'genge', 'la', 'majambazi', 'waliomdunga', 'mwanamume', 'kisu', 'tumboni', 'wakimpora', 'simu', 'yake', '.', 'Mwanamume', 'huyo', ',', '21', 'alifariki', 'papo', 'hapo', 'hatua', 'chache', 'kutoka', 'eneo', 'la', 'kisa', 'cha', 'leo', ',', '”', 'Bi', 'Jane', 'asema', '.', 'Zaidi', 'ya', 'hayo', 'ni', 'kwamba', 'mwathiriwa', 'alipatikana', 'na', 'wamama', 'wanaouza', 'mboga', 'mtaani', 'huo', 'mwendo', 'wa', 'saa', 'tisa', 'za', 'asubuhi', 'huku', 'nao', 'wasiwajulishe', 'watu', '.', '“', 'Nilijulishwa', 'kisa', 'hiki', 'mchana', 'na', 'mwanamke', 'mmoja', 'aliyepata', 'habari', 'kuhusu', 'mwanamke', 'aliyepatikana', 'mtaani', 'Maasai', 'Village', 'akilala', 'mahali', 'kulikuwa', 'na', 'matope', 'njiani', 'ndani', 'ya', 'mtaa', 'huo', ',', '”', 'Bi', 'Jane', 'akasema', '.', 'Kulingana', 'na', 'stakabadhi', 'zilizopatikana', 'ndani', 'ya', 'nyumba', 'ya', 'mwathiriwa', 'zilionesha', 'anatambulika', 'kwa', 'jina', ',', 'Bi', 'Caren', 'Atieno', ',', '29', '(', 'Bana', 'jina', 'hili', ')', 'Wahudumu', 'wa', 'afya', 'waliowasili', 'kwa', 'ambulensi', 'walimchukua', 'mwathiriwa', 'na', 'kumpeleka', 'hospitalini', 'kwa', 'matibabu', '.', 'Ndani', 'ya', 'nyumba', 'ya', 'mwathiriwa', ',', 'majirani', 'walisema', 'huishi', 'peke', 'yake', 'tangu', 'ahamie', 'mtaani', 'huo', '.', 'Ndani', 'ya', 'nyumba', 'yake', 'mlikuwa', 'na', 'gondoro', 'iliyotandikwa', 'sakafuni', '.', 'Miongoni', 'mwa', 'vingine', 'ni', 'vyombo', 'vichache', 'ikiwemo', 'stovu', ',', 'taa', 'aina', 'ya', 'koroboi', ',', 'mtungi', 'moja', 'wa', 'kuchotea', 'maji', 'wa', 'lita', 'kumi', '.']\n",
      "\n",
      " Number of Words:  312\n"
     ]
    }
   ],
   "source": [
    "file=\"21dec21.txt\"\n",
    "\n",
    "# calling the function and storing the contents in a text variable \n",
    "text1 = get_document(\"https://taifaleo.nation.co.ke/mwanamke-abakwa-na-kutupwa-kwa-maji-machafu-mukuru/\")\n",
    "\n",
    "# calling the store_ document function \n",
    "store_document(doc=text1,name=file)\n",
    "\n",
    "#add the words in this file to the total_corpus_words, to keep count of the number of words in the corpus\n",
    "total_corpus_words+=total_words(file)"
   ]
  },
  {
   "cell_type": "code",
   "execution_count": 149,
   "metadata": {},
   "outputs": [
    {
     "data": {
      "text/plain": [
       "801846"
      ]
     },
     "execution_count": 149,
     "metadata": {},
     "output_type": "execute_result"
    }
   ],
   "source": [
    "total_corpus_words"
   ]
  },
  {
   "cell_type": "code",
   "execution_count": 152,
   "metadata": {},
   "outputs": [
    {
     "name": "stdout",
     "output_type": "stream",
     "text": [
      "['Kanisa', 'lakosoa', 'chanjo', 'ya', 'lazima', 'KANISA', 'Katoliki', 'limepinga', 'pendekezo', 'la', 'serikali', 'kuwa', 'raia', 'wote', 'wanaotafuta', 'huduma', 'za', 'umma', 'wapate', 'chanjo', 'dhidi', 'ya', 'Covid-19', 'kwa', 'lazima', '.', 'Akizungumza', 'mjini', 'Nyeri', 'wakati', 'wa', 'sherehe', 'za', 'Krismasi', 'mnamo', 'Jumamosi', ',', 'Askofu', 'wa', 'Dayosisi', 'ya', 'Katoliki', 'Jimbo', 'la', 'Nyeri', 'Bw', 'Anthony', 'Muheria', ',', 'alisema', 'ingawa', 'hatua', 'hiyo', 'bado', 'haijatekelezwa', ',', 'inaenda', 'kinyume', 'na', 'haki', 'za', 'binadamu', '.', 'Askofu', 'Muheria', 'alieleza', 'kuwa', 'uamuzi', 'huo', 'ulifikiwa', 'kufuatia', 'mkutano', 'wa', 'maaskofu', 'wa', 'kanisa', 'Katoliki', 'nchini', '.', '“', 'Kwa', 'sasa', 'ni', 'asilimia', 'tisa', 'tu', 'ya', 'wananchi', 'ambao', 'wamechanjwa', '.', 'Ina', 'maana', 'kuwa', 'asilimia', 'kubwa', 'ambayo', 'bado', 'haijapokea', 'chanjo', 'itanyimwa', 'huduma', 'za', 'umma', ',', '”', 'akasema', '.', 'Mswada', 'tata', 'wa', 'vyama', 'kujadiliwa', 'Jumatano', 'KAMATI', 'ya', 'Bunge', 'Kuhusu', 'Sheria', 'imekubali', 'malalamishi', 'ya', 'umma', 'na', 'kuamua', 'kupunguza', 'muda', 'ambao', 'vyama', 'vya', 'siasa', 'vitaweka', 'mikataba', 'ya', 'muungano', 'na', 'Ofisi', 'ya', 'Kusajili', 'Vyama', 'vya', 'Kisiasa', '(', 'ORPP', ')', ',', 'iwapo', 'Mswada', 'uliowasilishwa', 'bungeni', 'utapitishwa', '.', 'Mojawapo', 'ya', 'marekebisho', 'yaliyopendekezwa', 'kwenye', 'mswada', 'wa', 'sheria', 'ya', 'vyama', 'vya', 'kisiasa', ',', '2021', ',', 'ni', 'kupunguzwa', 'kwa', 'muda', 'huo', 'kutoka', 'miezi', 'sita', 'hadi', 'miezi', 'mitatu', '.', 'Kamati', 'hiyo', 'inayoongozwa', 'na', 'mbunge', 'wa', 'Mathioya', ',', 'Muturi', 'Kigano', ',', 'pia', 'imeelekeza', 'macho', 'yake', 'katika', 'kifungu', 'cha', '18', 'cha', 'Mswada', 'huo', 'ambacho', 'kikipitishwa', 'kitavipa', 'vyama', 'vya', 'Siasa', 'siku', '120', 'hadi', 'tarehe', 'ya', 'uchaguzi', 'mkuu', 'kuwasilisha', 'majina', 'ya', 'wanachama', 'wake', 'na', 'taarifa', 'ya', 'mali', 'na', 'madeni', 'yao', '.', 'Hata', 'hivyo', ',', 'kamati', 'hiyo', 'inapendekeza', 'muda', 'wa', 'uwasilishaji', 'wa', 'majina', 'ya', 'wanachama', 'upunguzwe', 'kutoka', 'siku', '120', 'hadi', '90', '.', 'Marekebisho', 'hayo', 'huenda', 'yakatuliza', 'hisia', 'za', 'wabunge', 'wanaomuunga', 'mkono', 'Naibu', 'Rais', ',', 'William', 'Ruto', 'ambao', 'wamepinga', 'vikali', 'Mswada', 'huo', 'wakidai', 'huenda', 'sheria', 'hiyo', 'inayopendekezwa', 'ni', 'njama', 'ya', 'Rais', 'Uhuru', 'Kenyatta', 'ya', 'kuwafanya', 'viongozi', 'wanne', 'wa', 'Muungano', 'wa', 'One', 'Kenya', 'Alliance', '(', 'OKA', ')', 'kumuunga', 'mkono', 'kinara', 'wa', 'ODM', ',', 'Raila', 'Odinga', 'katika', 'uchaguzi', 'wa', '2022', '.', 'Walio', 'katika', 'vyama', 'vya', 'kisiasa', 'visivyo', 'na', 'umaarufu', 'pia', 'wameelezea', 'wasiwasi', 'wao', 'kuhusu', 'marekebisho', 'hayo', 'huku', 'wakionya', 'kwamba', ',', 'huenda', 'mswada', 'huo', 'ukawafungia', 'nje', 'kufanya', 'mipango', 'ya', 'muungano', 'kwani', 'miezi', 'sita', 'ni', 'muda', 'mrefu', 'sana', '.', 'Mbunge', 'wa', 'Lugari', ',', 'Ayub', 'Savula', ',', 'ambaye', 'pia', 'aliwasilisha', 'pendekezo', 'la', 'kupunguza', 'muda', 'wa', 'uwasilishaji', 'majina', 'ya', 'wanachama', 'alisema', 'kuwa', 'mswada', 'huo', 'utavifungia', 'vyama', 'vitakavyotaka', 'kuunda', 'muungano', '.', '“', 'Alionekana', 'akishika', 'kisu', 'mkononi', 'na', 'alijidunga', 'mara', 'kadhaa', 'mwilini', 'akikimbia', 'kuelekea', 'barabarani', 'ya', 'Entreprise', 'kabla', 'ya', 'marafiki', 'wake', 'wa', 'karibu', 'kumtuliza', ',', '”', 'Bw', 'mmoja', 'aliyeomba', 'asitajwe', 'jina', 'akanena', '.', 'Duru', 'zilieleza', 'kwamba', 'baadaye', 'alipelekwa', 'katika', 'hospitali', 'moja', 'katika', 'maeneo', 'ya', 'Eastlands', 'jijini', 'Nairobi', 'pale', 'daktari', 'aliwashauri', 'waliompeleka', 'hospitalini', 'wawe', 'karibu', 'naye', 'kwani', 'alipatikana', 'akiwa', 'na', 'msongo', 'wa', 'mawazo', '.', '“', 'Ushauri', 'wa', 'daktari', 'ulikuwa', 'watu', 'wasimwache', 'peke', 'yake', 'kutokana', 'na', 'msongo', 'wa', 'mawazo', 'uliomkumba', ',', '”', 'mama', 'mmoja', 'akasema', '.', 'Mwanamume', 'mwingine', 'kutoka', 'familia', 'ya', 'marehemu', 'aliongeza', 'kwamba', 'kisanga', 'hicho', 'kilitokea', 'wakati', 'babake', 'marehemu', 'alipokuwa', 'amelazwa', 'hospitalini', 'akitibiwa', '.', 'Vilevile', ',', 'mamake', 'marehemu', 'alilazimika', 'kuwacha', 'babake', 'kwenye', 'kitanda', 'cha', 'wodi', 'akimbie', 'mtaani', 'kuona', 'mwanawe', 'baada', 'ya', 'kupashwa', 'kuhusu', 'visanga', 'vya', 'mtoto', 'wake', '.', '“', 'Kinachotuweka', 'huzuni', 'ni', 'kwamba', 'marehemu', 'ndiye', 'mwanamume', 'wa', 'pekee', 'katika', 'watoto', 'wengine', 'ambao', 'ni', 'wasichana', 'tupu', 'wa', 'familia', 'yao', ',', '”', 'mwanamke', 'aliyejitambulisha', 'kwa', 'jina', 'moja', 'Bi', 'Penninah', 'akanena', '.', 'Marehemu', 'alikuwa', 'akifanya', 'kazi', 'ya', 'juakali', 'akihusishwa', 'na', 'biashara', 'ya', 'kununua', 'na', 'kuuza', 'vyuma', 'kuukuu', '.', 'Wanomjua', 'walisema', 'alikuwa', 'mcheshi', ',', 'mtulivu', 'na', 'mwenye', 'kutangamana', 'na', 'watu', '.', 'Lusaka', 'awarai', 'wanasiasa', 'Waluhya', 'wasibuni', 'vyama', 'vingine', 'SPIKA', 'wa', 'Bunge', 'la', 'Seneti', 'Ken', 'Lusaka', 'ametoa', 'wito', 'kwa', 'wanasiasa', 'wa', 'jamii', 'ya', 'Mulembe', 'wakome', 'kubuni', 'vyama', 'vingine', 'vidogo', 'na', 'badala', 'yake', 'wakumbatie', 'au', 'kuunganisha', 'vyama', 'vilivyoko', 'kuelekea', 'uchaguzi', 'wa', '2022', '.', 'Bw', 'Lusaka', 'alisema', 'vyama', 'vinavyowakilisha', 'maslahi', 'ya', 'wakazi', 'wa', 'eneo', 'hilo', 'tayari', 'vipo', 'na', 'vinafaa', 'viimarishwe', 'zaidi', 'badala', 'ya', 'vingine', 'vidogo', 'kubuniwa', '.', 'Alikisia', 'kuwa', 'huenda', 'wanasiasa', 'wanabuni', 'vyama', 'vidogo', 'kwa', 'kuhofia', 'kulemewa', 'wakati', 'wa', 'mchujo', 'wa', 'vyama', 'vikubwa', 'mwaka', '2022', '.', '“', 'Tayari', 'tuna', 'vyama', 'ambavyo', 'vina', 'mizizi', 'na', 'vinamilikiwa', 'na', 'wanasiasa', 'kutoka', 'eneo', 'hili', '.', 'Tunafaa', 'tufanye', 'kazi', 'pamoja', 'badala', 'ya', 'kugawanya', 'jamii', 'yetu', 'kwa', 'kuanzisha', 'vyama', 'vingine', 'zaidi', ',', '”', 'akasema', 'Bw', 'Lusaka', '.', 'Alikuwa', 'akizungumza', 'nyumbani', 'kwake', 'Mapera', 'alipowaandaliwa', 'wakazi', 'sherehe', 'za', 'Krismasi', 'ambapo', 'alisema', 'taifa', 'linafaa', 'kuwa', 'na', 'vyama', 'viwili', 'au', 'vitatu', 'imara', 'kisha', 'raia', 'wenyewe', 'wajiamulie', 'ni', 'chama', 'kipi', 'cha', 'kujiunga', 'nacho', '.', 'Hata', 'hivyo', ',', 'alivitaka', 'vyama', 'vya', 'kisiasa', 'nchini', 'vihakikishe', 'kuwa', 'vinaendeleza', 'demokrasia', 'hasa', 'wakati', 'wa', 'mchujo', 'ili', 'wanasiasa', 'wawe', 'na', 'imani', 'navyo', 'ndipo', 'wasivibuni', 'vyama', 'vidogo', 'vidogo', '.', 'Bw', 'Lusaka', 'ambaye', ',', 'ametangaza', 'kuwa', 'analenga', 'kuwania', 'kiti', 'cha', 'ugavana', 'wa', 'Bungoma', ',', 'alisema', 'kuwa', 'atatangaza', 'hivi', 'karibuni', 'chama', 'ambacho', 'atatumia', 'baadaye', 'akisema', 'kwa', 'sasa', 'anayashughulikia', 'masuala', 'muhimu', 'bungeni', '.', 'Hivi', 'majuzi', 'Waziri', 'wa', 'Ulinzi', 'Eugene', 'Wamalwa', 'alizindua', 'chama', 'cha', 'DAPK', 'ambacho', 'sasa', 'ni', 'nyumbani', 'kwa', 'mbunge', 'wa', 'Kanduyi', 'Wafula', 'Wamunyinyi', 'na', 'mwenzake', 'wa', 'Tongaren', 'Dkt', 'Eseli', 'Simiyu', 'ambao', 'walikuwa', 'kwenye', 'mzozo', 'wa', 'uongozi', 'na', 'nyapara', 'wa', 'Ford', 'Kenya', 'Moses', 'Wetang', '’', 'ula', '.']\n",
      "\n",
      " Number of Words:  804\n"
     ]
    }
   ],
   "source": [
    "file=\"21dec27.txt\"\n",
    "\n",
    "# calling the function and storing the contents in a text variable \n",
    "text1 = get_document(\"https://taifaleo.nation.co.ke/kanisa-lakosoa-chanjo-ya-lazima/\")\n",
    "text2 = get_document(\"https://taifaleo.nation.co.ke/mswada-tata-wa-vyama-kujadiliwa-jumatano/\")\n",
    "text3 = get_document(\"https://taifaleo.nation.co.ke/mwili-wa-mwanamume-wapatikana-ukininginia-nyumbani-south-b/\")\n",
    "text4 = get_document(\"https://taifaleo.nation.co.ke/lusaka-awarai-wanasiasa-waluhya-wasibuni-vyama-vingine/\")\n",
    "\n",
    "# calling the store_ document function \n",
    "store_document(doc=text1,name=file)\n",
    "store_document(doc=text2,name=file)\n",
    "store_document(doc=text3,name=file)\n",
    "store_document(doc=text4,name=file)\n",
    "\n",
    "#add the words in this file to the total_corpus_words, to keep count of the number of words in the corpus\n",
    "total_corpus_words+=total_words(file)"
   ]
  },
  {
   "cell_type": "code",
   "execution_count": 153,
   "metadata": {},
   "outputs": [
    {
     "data": {
      "text/plain": [
       "802650"
      ]
     },
     "execution_count": 153,
     "metadata": {},
     "output_type": "execute_result"
    }
   ],
   "source": [
    "total_corpus_words"
   ]
  },
  {
   "cell_type": "code",
   "execution_count": 156,
   "metadata": {},
   "outputs": [
    {
     "name": "stdout",
     "output_type": "stream",
     "text": [
      "['Washukiwa', '10', 'wakamatwa', 'kwa', 'kuiba', 'mali', 'ya', 'Sh3', 'milioni', 'kutoka', 'kwa', 'bohari', 'WASHUKIWA', '10', 'walikamatwa', 'katika', 'wikendi', 'ya', 'shamrashamra', 'za', 'Krismasi', 'walipopatikana', 'wakiiba', 'mali', 'ya', 'thamani', 'ya', 'Sh3', 'milioni', 'katika', 'Eneo', 'la', 'Viwanda', 'jijini', 'Nairobi', '.', 'Mkuu', 'wa', 'polisi', 'Eneo', 'la', 'Makadara', ',', 'Bw', 'Timon', 'Odingo', 'alisema', 'washukiwa', 'wote', 'walikuwa', 'ni', 'wanaume', 'ambao', 'walipangiwa', 'njama', 'ya', 'wizi', 'huo', 'na', 'mlinzi', 'katika', 'eneo', 'la', 'kisa', '.', '“', 'Kulikuwa', 'na', 'mlinzi', 'aliyekuwa', 'amefutwa', 'kazi', 'kwa', 'jina', 'Bw', 'Oscar', 'Wanjala', ',', '28', 'akishirikiana', 'na', 'mlinzi', 'mwingine', 'kwa', 'jina', 'Bw', 'Alfred', 'Ratemo', 'waliopanga', 'wizi', 'wa', 'vifaa', 'katika', 'bohari', 'lililoko', 'mkabala', 'wa', 'barabara', 'ya', 'Road', 'C', ',', '”', 'Bw', 'Odingo', 'akasema', '.', 'Miongoni', 'mwa', 'vifaa', 'vilivyopatikana', 'ndani', 'ya', 'gari', 'aina', 'ya', 'Mitsubishi', 'Canter', 'KAP', '805', 'W', 'ni', 'pamoja', 'na', 'mashine', 'ya', 'kudhibiti', 'joto', 'yaani', 'air', 'conditioner', 'na', 'vifaa', 'vya', 'kuchunga', 'mafuta', 'ya', 'injini', 'za', 'magari', 'yaani', 'oil', 'filters', '.', 'Bw', 'Odingo', 'alisema', 'washukiwa', 'walifumaniwa', 'na', 'polisi', 'mwendo', 'wa', 'saa', 'mbili', 'usiku', 'baada', 'ya', 'msimamizi', 'wa', 'kampuni', 'ya', 'ulinzi', 'alipoona', 'kitu', 'kikirushwa', 'kutoka', 'nje', 'ya', 'kampuni', 'na', 'kuanguka', 'upande', 'wa', 'ndani', '.', '“', 'Msimamizi', 'huyo', 'aliwapigia', 'simu', 'maafisa', 'wangu', 'na', 'mara', 'moja', 'wakakimbia', 'na', 'kuzingira', 'eneo', 'la', 'kisa', ',', '”', 'Bw', 'Odingo', 'akaambia', 'Taifa', 'Leo', '.']\n",
      "\n",
      " Number of Words:  200\n"
     ]
    }
   ],
   "source": [
    "file=\"21dec28.txt\"\n",
    "\n",
    "# calling the function and storing the contents in a text variable \n",
    "text3 = get_document(\"https://taifaleo.nation.co.ke/washukiwa-10-wakamatwa-kwa-kuiba-mali-ya-sh3-milioni-kutoka-kwa-bohari/\")\n",
    "\n",
    "# calling the store_ document function \n",
    "store_document(doc=text3,name=file)\n",
    "\n",
    "#add the words in this file to the total_corpus_words, to keep count of the number of words in the corpus\n",
    "total_corpus_words+=total_words(file)"
   ]
  },
  {
   "cell_type": "code",
   "execution_count": 157,
   "metadata": {},
   "outputs": [
    {
     "data": {
      "text/plain": [
       "802850"
      ]
     },
     "execution_count": 157,
     "metadata": {},
     "output_type": "execute_result"
    }
   ],
   "source": [
    "total_corpus_words"
   ]
  },
  {
   "cell_type": "code",
   "execution_count": 160,
   "metadata": {},
   "outputs": [
    {
     "name": "stdout",
     "output_type": "stream",
     "text": [
      "['Hofu', 'wazee', 'wakipoteza', 'pesa', 'katika', 'kamari', 'WASIWASI', 'umeibuka', 'kuhusu', 'wazazi', 'na', 'wakazi', 'wa', 'miji', 'mikubwa', 'katika', 'kaunti', 'ya', 'Pokot', 'Magharibi', 'wanaopoteza', 'pesa', 'wakishiriki', 'kamari', '.', 'Baraza', 'la', 'Wazee', 'wa', 'Jamii', 'ya', 'Wapokot', 'wanasema', 'kwamba', 'michezo', 'mingi', 'ya', 'kamari', 'imeibuka', 'katika', 'kaunti', 'hiyo', 'na', 'watu', 'wengi', 'wamekuwa', 'masikini', 'kwa', 'kuishiriki', '.', 'Mwenyekiti', 'wa', 'baraza', 'hilo', 'John', 'Muok', 'alionya', 'wakazi', 'dhidi', 'ya', 'kushiriki', 'michezo', 'hiyo', 'akisema', 'ni', 'hatari', 'kwa', 'maisha', 'yao', '.', '“', 'Watu', 'wanauza', 'mifugo', 'yao', 'kwa', 'wingi', 'na', 'kuweka', 'pesa', 'katika', 'kamari', 'bila', 'kujua', 'kwamba', 'ni', 'mchezo', 'wa', 'pata', 'potea', '.', 'Wengi', 'wao', 'hawajui', 'kwamba', 'katika', 'kamari', ',', 'sio', 'lazima', 'mtu', 'ashinde', '.', 'Mtu', 'hushinda', 'kwa', 'bahati', 'tu', ',', '”', 'alisema', 'akiwa', 'Kapenguria', '.', 'Haya', 'yalijiri', 'wiki', 'moja', 'baada', 'ya', 'kufichuliwa', 'kuwa', 'Wakenya', 'walio', 'na', 'umri', 'wa', 'miaka', '55', 'na', 'zaidi', 'wanaongoza', 'kwa', 'uchezaji', 'kamari', 'nchini', '.', 'Kulingana', 'na', 'afisa', 'wa', 'masuala', 'ya', 'dharura', 'kutoka', 'shirika', 'la', 'kutetea', 'haki', 'za', 'kibinadamu', 'la', 'Muhuri', 'Fransis', 'Auma', ',', 'wamepokea', 'kesi', 'takribani', 'hamsini', 'za', 'watu', 'ambao', 'wamelalamikia', 'kuibiwa', 'pesa', 'zao', 'na', 'matapeli', 'hao', '.', 'Akizungumza', 'na', 'Taifa', 'Leo', 'mjini', 'Kilifi', ',', 'Bw', 'Auma', 'amevilaumu', 'vitengo', 'vya', 'usalama', 'katika', 'kaunti', 'hiyo', 'pamoja', 'na', 'serikali', 'ya', 'kitaifa', 'kwa', 'kile', 'anachodai', 'kuwa', ',', 'kutochukua', 'hata', 'licha', 'ya', 'waathiriwa', 'kuripoti', 'visa', 'hivyo', '.', '“', 'Kumekuwa', 'na', 'visa', 'vingi', 'vya', 'watu', 'kulaghaiwa', 'na', 'kuibiwa', 'pesa', 'zao', 'kupitia', 'kwa', 'simu', 'hasa', 'eneo', 'la', 'Mtwapa', 'na', 'Kilifi', 'mjini', 'lakini', 'chakushangaza', 'ni', 'kwamba', 'licha', 'waathiriwa', 'kuandikisha', 'taarifa', 'kwa', 'polisi', 'hakuna', 'hatua', 'zozote', 'zinazochukuliwa', 'dhidi', 'ya', 'matapeli', 'hao', '.', 'Sasa', 'tunajiuliza', 'kazi', 'ya', 'polisi', 'ni', 'gani', 'ikiwa', 'tatizo', 'kama', 'hili', 'wanashindwa', 'kushughulikia', ',', '’', '’', 'alisema', 'Bw', 'Auma', '.', 'Afisa', 'huyo', 'amevitaka', 'vitengo', 'vya', 'usalama', 'kuwajibikia', 'suala', 'hilo', 'na', 'kuwaepusha', 'watu', 'na', 'ulaghai', 'huo', '.', '“', 'Tunataka', 'polisi', 'wafanye', 'kazi', 'waache', 'kuzembea', 'katika', 'majukumu', 'yao', ',', 'kwa', 'sababu', 'kama', 'tujuavyo', 'kazi', 'ya', 'polisi', 'ni', 'kulinda', 'usalama', 'wa', 'raia', '.', 'Sasa', 'ikiwa', 'watawacha', 'raia', 'waendelee', 'kuhangaishwa', 'na', 'watu', 'wanaojifanya', 'matapeli', 'kazi', 'yao', 'itakuwa', 'ni', 'ipi', ',', '’', '’', 'alisema', 'Bw', 'Auma', '.', 'Ni', 'kauli', 'ambayo', 'iliungwa', 'mkono', 'na', 'Emmanuel', 'Charo', 'ambaye', 'alitapeliwa', 'na', 'walaghai', 'hao', 'zaidi', 'ya', 'elfu', 'kumi', 'na', 'tano', 'wiki', 'iliyopita', '.', 'Mbunge', 'wa', 'Thika', 'Bw', 'Patrick', 'Wainaina', '(', 'mwenye', 'kofia', ')', 'akiwa', 'na', 'baadhi', 'ya', 'vijana', 'walionufaika', 'na', 'kozi', 'za', 'kuwafaa', 'maishani', '.', 'PICHA', '|', 'LAWRENCE', 'ONGARO', 'Vijana', 'wengi', 'waliohojiwa', 'kuhusu', 'hatua', 'iliyochukuliwa', 'na', 'mbunge', 'huyo', ',', 'walisema', 'ya', 'kwamba', 'hiyo', 'ni', 'njia', 'moja', 'ya', 'kuwafunza', 'vijana', 'hao', 'jinsi', 'ya', 'kutega', 'samaki', 'badala', 'ya', 'kupewa', 'kila', 'mara', 'kutoka', 'kwa', 'wazazi', 'ama', 'mtu', 'yeyote', 'yule', '.', 'Vijana', 'hao', 'pia', 'walihimizwa', 'kuwa', 'mstari', 'wa', 'mbele', 'kuzingatia', 'kozi', 'tofauti', 'ili', 'kila', 'mmoja', 'aweze', 'kujitegemea', 'vilivyo', 'katika', 'maisha', 'yake', '.']\n",
      "\n",
      " Number of Words:  436\n"
     ]
    }
   ],
   "source": [
    "file=\"21dec29.txt\"\n",
    "\n",
    "# calling the function and storing the contents in a text variable \n",
    "text1 = get_document(\"https://taifaleo.nation.co.ke/hofu-wazee-wakipoteza-pesa-katika-kamari/\")\n",
    "text2 = get_document(\"https://taifaleo.nation.co.ke/polisi-wahimizwa-wakabili-matapeli-wanaohangaisha-wananchi-eneo-la-mtwapa-na-kilifi/\")\n",
    "text4 = get_document(\"https://taifaleo.nation.co.ke/vijana-200-wa-thika-wakamilisha-kozi-za-kuwafaa-maishani/\")\n",
    "\n",
    "# calling the store_ document function \n",
    "store_document(doc=text1,name=file)\n",
    "store_document(doc=text2,name=file)\n",
    "store_document(doc=text4,name=file)\n",
    "\n",
    "#add the words in this file to the total_corpus_words, to keep count of the number of words in the corpus\n",
    "total_corpus_words+=total_words(file)"
   ]
  },
  {
   "cell_type": "code",
   "execution_count": 161,
   "metadata": {},
   "outputs": [
    {
     "data": {
      "text/plain": [
       "803286"
      ]
     },
     "execution_count": 161,
     "metadata": {},
     "output_type": "execute_result"
    }
   ],
   "source": [
    "total_corpus_words"
   ]
  },
  {
   "cell_type": "code",
   "execution_count": 166,
   "metadata": {
    "scrolled": false
   },
   "outputs": [
    {
     "name": "stdout",
     "output_type": "stream",
     "text": [
      "['Mihadarati', ':', 'Magoha', 'aunga', 'wanafunzi', 'wapimwe', 'WAZIRI', 'wa', 'Elimu', 'Profesa', 'George', 'Magoha', 'amepongeza', 'hatua', 'ya', 'Shule', 'ya', 'Upili', 'ya', 'Maranda', 'Boys', 'ya', 'kuwafanyia', 'wanafunzi', 'wake', 'vipimo', 'vya', 'lazima', 'kubaini', 'iwapo', 'wanatumia', 'mihadarati', '.', 'Waziri', 'Magoha', 'alisema', 'hatua', 'hiyo', 'ndiyo', 'mbinu', 'hakika', 'zaidi', 'ya', 'kuzuia', 'wanafunzi', 'kutumia', 'dawa', 'za', 'kulevya', 'wanapokuwa', 'nje', 'ya', 'shule', '.', 'Akizungumza', 'katika', 'kongamano', 'la', 'walimu', 'wakuu', 'lililoandaliwa', 'katika', 'hoteli', 'ya', 'Acacia', 'Premier', ',', 'Kaunti', 'ya', 'Kisumu', ',', 'waziri', 'Magoha', 'alisema', 'kuwa', 'serikali', 'itawachukulia', 'hatua', 'kali', 'watoto', 'wanaojihusisha', 'na', 'vitendo', 'vya', 'uhalifu', '.', '“', 'Walimu', 'wakuu', 'wasikubali', 'kuwasajili', 'tena', 'wanafunzi', 'walio', 'na', 'historia', 'ya', 'uhalifu', '.', 'Wanafunzi', 'wanaojihusisha', 'na', 'ushoga', 'na', 'usagaji', 'watimuliwe', 'katika', 'shule', 'za', 'bweni', 'na', 'kupelekwa', 'katika', 'shule', 'za', 'mchana', 'zilizo', 'karibu', 'na', 'makwao', ',', '”', 'alisema', 'Profesa', 'Magoha', '.', 'Kwingineko', 'walimu', 'wakuu', 'zaidi', 'ya', '26,000', 'waliokutana', 'Mombasa', 'wanataka', 'kufutiliwa', 'mbalii', 'kwa', 'shule', 'za', 'bweni', 'za', 'sekondari', 'kufuatia', 'kuongezeka', 'kwa', 'visa', 'vya', 'utovu', 'wa', 'nidhamu', 'miongoni', 'mwa', 'wanafunzi', '.', 'Miezi', 'michache', 'iliyopita', ',', 'waziri', 'Magoha', 'alikataa', 'pendekezo', 'hilo', 'baada', 'ya', 'walimu', 'hao', 'kumshinikiza', 'litekelezwe', '.', ',', 'Lakini', 'walimu', 'wakuu', 'wa', 'shule', 'za', 'msingi', 'wanasisitiza', 'kuwa', 'shule', 'za', 'bweni', 'za', 'sekondari', 'zibadilishwe', 'kuwa', 'za', 'kutwa', 'ili', 'kuruhusu', 'wazazi', 'kutekeleza', 'jukumu', 'la', 'kuelekeza', 'watoto', 'wao', '.', '“', 'Aina', 'ya', 'tabia', 'ambayo', 'watoto', 'wameanza', 'kuonyesha', 'katika', 'shule', 'za', 'sekondari', 'inaweza', 'kukomeshwa', 'kwa', 'kuruhusu', 'watoto', 'kuwa', 'na', 'wazazi', 'wao', 'muda', 'mwingi', 'waweze', 'kuwashauri', 'na', 'kuwaelekeza', 'na', 'hii', 'itasaidia', 'walimu', ',', '”', 'alisema', 'mwenyekiti', 'wa', 'chama', 'cha', 'walimu', 'wakuu', 'wa', 'shule', 'za', 'msingi', 'Bw', 'Johnson', 'Nzioka', '.', 'Bw', 'Magoha', 'alisema', 'mtaala', 'mpya', 'wa', 'masomo', '(', 'CBC', ')', ',', 'umebadilisha', 'jinsi', 'watoto', 'wanavyohusiana', 'na', 'wazazi', 'wao', '.', 'Alisema', 'haya', 'katika', 'hafla', 'aliyohudhuria', 'ya', 'kuweka', 'msingi', 'wa', 'ujenzi', 'wa', 'madarasa', 'ya', 'CBC', 'katika', 'Shule', 'ya', 'Sekondari', 'ya', 'Obwolo', ',', 'eneo', 'la', 'Siaya', '.']\n",
      "\n",
      " Number of Words:  292\n"
     ]
    }
   ],
   "source": [
    "file=\"21dec31.txt\"\n",
    "\n",
    "# calling the function and storing the contents in a text variable \n",
    "text3 = get_document(\"https://taifaleo.nation.co.ke/mihadarati-magoha-aunga-wanafunzi-wapimwe/\")\n",
    "\n",
    "# calling the store_ document function \n",
    "store_document(doc=text3,name=file)\n",
    "\n",
    "#add the words in this file to the total_corpus_words, to keep count of the number of words in the corpus\n",
    "total_corpus_words+=total_words(file)"
   ]
  },
  {
   "cell_type": "code",
   "execution_count": 167,
   "metadata": {},
   "outputs": [
    {
     "data": {
      "text/plain": [
       "803578"
      ]
     },
     "execution_count": 167,
     "metadata": {},
     "output_type": "execute_result"
    }
   ],
   "source": [
    "total_corpus_words"
   ]
  },
  {
   "cell_type": "code",
   "execution_count": null,
   "metadata": {},
   "outputs": [],
   "source": []
  },
  {
   "cell_type": "code",
   "execution_count": null,
   "metadata": {},
   "outputs": [],
   "source": []
  },
  {
   "cell_type": "code",
   "execution_count": null,
   "metadata": {},
   "outputs": [],
   "source": []
  },
  {
   "cell_type": "code",
   "execution_count": null,
   "metadata": {},
   "outputs": [],
   "source": []
  }
 ],
 "metadata": {
  "kernelspec": {
   "display_name": "Python 3",
   "language": "python",
   "name": "python3"
  },
  "language_info": {
   "codemirror_mode": {
    "name": "ipython",
    "version": 3
   },
   "file_extension": ".py",
   "mimetype": "text/x-python",
   "name": "python",
   "nbconvert_exporter": "python",
   "pygments_lexer": "ipython3",
   "version": "3.8.3"
  }
 },
 "nbformat": 4,
 "nbformat_minor": 4
}
