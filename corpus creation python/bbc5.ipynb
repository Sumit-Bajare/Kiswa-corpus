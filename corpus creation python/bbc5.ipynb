{
 "cells": [
  {
   "cell_type": "code",
   "execution_count": 1,
   "metadata": {},
   "outputs": [],
   "source": [
    "# from Aug 2020 to jan 2021 "
   ]
  },
  {
   "cell_type": "code",
   "execution_count": 1,
   "metadata": {},
   "outputs": [],
   "source": [
    "import justext\n",
    "import requests\n",
    "import nltk"
   ]
  },
  {
   "cell_type": "code",
   "execution_count": 2,
   "metadata": {},
   "outputs": [
    {
     "data": {
      "text/plain": [
       "'/Users/sumitbajare/Documents/Sussex/Project'"
      ]
     },
     "execution_count": 2,
     "metadata": {},
     "output_type": "execute_result"
    }
   ],
   "source": [
    "import os\n",
    "os.getcwd()"
   ]
  },
  {
   "cell_type": "code",
   "execution_count": 3,
   "metadata": {},
   "outputs": [],
   "source": [
    "def get_document(url):\n",
    "    \n",
    "    '''\n",
    "        \n",
    "        This function will check if the url is valid and then\n",
    "        proceed to parse it to produce a clean text (no html) which\n",
    "        can be used as input to a recommendation engine.\n",
    "\n",
    "    Arguments: url  -- input url that needs to be checked and parsed\n",
    "    Return: text_only -- the text extracted after removing boilerplate content\n",
    "    '''\n",
    "    \n",
    "    try:\n",
    "        r = requests.head(url, allow_redirects = True)\n",
    "        \n",
    "    except requests.exceptions.ConnectionError as e:\n",
    "        raise URLRetrievalError(url, 'Could not connect', e)\n",
    "        \n",
    "    if r.status_code != requests.codes.ok:\n",
    "        raise URLRetrievalError(url, 'Invalid response code from remote server: {}'\n",
    "                                .format(r.status_code))\n",
    "        \n",
    "    if r.headers[\"content-type\"].split(';')[0] not in [\"text/html\",\n",
    "                                                       \"text/plain\"]:\n",
    "        raise URLRetrievalError(url, 'Document has invalid MIME type: {}'\n",
    "                                .format(r.headers[\"content-type\"]))\n",
    "    \n",
    "    response = requests.get(url)\n",
    "    paragraphs = justext.justext(response.content, justext.get_stoplist(\"Swahili\"))\n",
    "    text_only = ''\n",
    "    \n",
    "    for paragraph in paragraphs:\n",
    "        if not paragraph.is_boilerplate:\n",
    "            text_only += ' ' + paragraph.text\n",
    "            \n",
    "    if len(text_only) == 0:\n",
    "        raise DocumentParsingError('Length of document is zero')\n",
    "        \n",
    "    return text_only"
   ]
  },
  {
   "cell_type": "code",
   "execution_count": 4,
   "metadata": {},
   "outputs": [],
   "source": [
    "# Changing the current working directory to store the documents in the desired file\n",
    "os.chdir('/Users/sumitbajare/Documents/Sussex/Project/swa_corpus/BBC')"
   ]
  },
  {
   "cell_type": "code",
   "execution_count": 5,
   "metadata": {},
   "outputs": [],
   "source": [
    "def store_document(doc,name):\n",
    "    \n",
    "    '''\n",
    "        This function will store the contents of the url in a text file.\n",
    "        \n",
    "        Argumnets: doc -- the Document to store in a text file \n",
    "        Return: nan\n",
    "    '''\n",
    "    \n",
    "    # Open function to open the file in the same directory in append mode\n",
    "    file = open(name,\"a\")\n",
    "    # writing each string in the file\n",
    "    file.writelines(doc)\n",
    "    # closing the file\n",
    "    file.close()"
   ]
  },
  {
   "cell_type": "code",
   "execution_count": 6,
   "metadata": {},
   "outputs": [],
   "source": [
    "def total_words(file_name):\n",
    "    filename = file_name\n",
    "\n",
    "    with open(filename, 'r') as file:\n",
    "        lines_in_file = file.read()\n",
    "\n",
    "        nltk_tokens = nltk.word_tokenize(lines_in_file)\n",
    "        print (nltk_tokens)\n",
    "        print (\"\\n Number of Words: \" , len(nltk_tokens))\n",
    "        return len(nltk_tokens)"
   ]
  },
  {
   "cell_type": "code",
   "execution_count": 8,
   "metadata": {},
   "outputs": [],
   "source": [
    "# these were the total number of words from the previous 3 notebooks\n",
    "# we will resume the count from 3,03,197\n",
    "total_corpus_words= 303197"
   ]
  },
  {
   "cell_type": "code",
   "execution_count": 9,
   "metadata": {
    "scrolled": true
   },
   "outputs": [
    {
     "name": "stdout",
     "output_type": "stream",
     "text": [
      "['Virusi', 'vya', 'corona', ':', 'Utamaduni', 'wa', 'Wabukusu', 'Kenya', 'wa', 'kupasha', 'tohara', 'ulivyoathirika', 'na', 'corona', '1', 'Agosti', '2020', 'Chanzo', 'cha', 'picha', ',', 'Kelly', 'Ogome', 'Maelezo', 'ya', 'picha', ',', 'Jamii', 'ikisindikiza', 'wanaokwenda', 'kutahiriwa', 'Jamii', 'ya', 'wabukusu', 'kutoka', 'magharibi', 'mwa', 'Kenya', 'inatambulika', 'kwa', 'kufuata', 'mila', 'yao', 'ya', 'kutahiri', 'watoto', 'wa', 'kiume', '.', 'Jamii', 'hii', 'ambayo', 'ni', 'mojawapo', 'wa', 'makabila', '17', 'ya', 'Waluhya', ',', 'huwa', 'na', 'sherehe', 'ya', 'kipekee', 'ambayo', 'huvutia', 'macho', 'ya', 'watu', 'wengi', 'kutokana', 'na', 'jinsi', 'wanavyoendesha', 'utamaduni', 'huo', '.', 'Agosti', 'mosi', 'ndio', 'siku', 'ya', 'kuanza', 'kwa', 'utamaduni', 'huo', 'ambapo', 'shamra', 'shamra', 'huendelea', 'kwa', 'mwezi', 'mzima', '.', 'Siku', 'hiyo', 'huanza', 'kwa', 'watoto', 'wa', 'ngariba', 'watakaotoa', 'huduma', 'za', 'kutahiri', 'kwa', 'jamii', '.', 'Sinino', 'Omukongolo', 'ni', 'ngariba', 'mkuu', 'katika', 'kaunti', 'ya', 'Bungoma', '.', 'Chanzo', 'cha', 'picha', ',', 'Kelly', 'Ogome', 'Maelezo', 'ya', 'picha', ',', 'Sinino', 'Omukongolo', 'ni', 'ngariba', 'mkuu', 'katika', 'kaunti', 'ya', 'Bungoma', 'Amekuwa', 'akifanya', 'kazi', 'hii', 'kwa', 'miaka', 'nyingi', '.', '``', 'Siku', 'ya', 'kwanza', ',', 'huwa', 'tunawatahiri', 'watoto', 'wa', 'ngariba', 'ili', 'kufungua', 'njia', 'ya', 'kutahiri', 'wengine', '.', 'Hii', 'ni', 'hatua', 'ya', 'pili', '.', 'Hatua', 'ya', 'kwanza', 'ni', 'kutakasa', 'visu', 'ambavyo', 'hutumiwa', 'kutahiri', ',', 'na', 'hii', 'tunafanya', 'siku', 'chache', 'kabla', 'ya', 'tarehe', 'moja', 'Agosti', '``', 'Siku', 'kuu', ',', 'asubuhi', 'na', 'mapema', 'baada', 'ya', 'jogoo', 'kuwika', ',', 'vijana', 'hao', 'huchukuliwa', 'na', 'kupelekwa', 'kwenye', 'mto', 'ambapo', 'huvuliwa', 'nguo', 'na', 'kupakwa', 'udongo', 'mweupe', 'mwili', 'mzima', '.', 'Inaaminiwa', 'kwamba', 'udongo', 'huo', 'ni', 'nguo', 'ambayo', 'itamsitiri', 'hadi', 'wakati', 'atakapopona', '.', 'Chanzo', 'cha', 'picha', ',', 'Kelly', 'Ogome', 'Maelezo', 'ya', 'picha', ',', 'Inaaminiwa', 'kwamba', 'udongo', 'huo', 'ni', 'nguo', 'ambayo', 'itamsitiri', 'hadi', 'wakati', 'atakapopona', 'Nyumba', 'moja', 'baada', 'ya', 'nyingine', ',', 'boma', 'moja', 'baada', 'ya', 'jingine', ',', 'kijiji', 'kimoja', 'baada', 'ya', 'kingine', 'shughuli', 'huwa', 'ni', 'hii', 'tu', 'na', 'hufanyika', 'kutwa', 'kucha', 'kwa', 'mwezi', 'mzima', '.', 'Mwezi', 'wa', 'kumi', ',', 'ngariba', 'hurejea', 'na', 'wazee', 'wengine', 'na', 'kuwashauri', 'vijana', 'waliotahiriwa', '.', 'Msimu', 'huu', 'hukamilika', 'mwezi', 'wa', 'Desemba', 'wakati', 'vijana', 'wanapotoka', 'jandoni', '.', 'Hata', 'hivyo', 'msimu', 'huu', 'hutumiwa', 'pia', 'kutabiri', 'matukio', 'ambayo', 'yanakuja', 'kutokea', 'katika', 'jamii', '.', '``', 'Sisi', 'ngariba', 'huchinja', 'kuku', 'na', 'mbuzi', ',', 'wazazi', 'wa', 'watoto', 'huchinja', \"ng'ombe\", '.', 'Tunapotazama', 'nyama', ',', 'kuna', 'jinsi', 'ambavyo', 'tunaweza', 'kuona', 'na', 'kujua', 'mambo', 'ambayo', 'yanatungoja', 'katika', 'miaka', 'inayofuata', '.', 'Kama', 'kutakuwa', 'na', 'njaa', ',', 'tukiangalia', 'hiyo', 'nyama', 'ya', \"ng'ombe\", 'tutaona…', 'kama', 'kutakuwa', 'na', 'shida', 'za', 'kisiasa', 'tutajua…', 'Tutaangalia', 'nyama', 'na', 'tutajua', \"''\", ',', 'Omukongolo', 'amesema', '.', 'Ni', 'utamaduni', 'wa', 'karne', 'ya', '17', 'ambao', 'umekuwa', 'ukirithishwa', 'kutoka', 'kizazi', 'kimoja', 'hadi', 'kingine', 'licha', 'ya', 'kunyooshewa', 'kidole', 'cha', 'lawama', 'kuhusu', 'visu', 'vinavyotumiwa', 'kuonekana', 'kwamba', 'vinaweza', 'kusababisha', 'kusambaa', 'kwa', 'magonjwa', 'ya', 'kuambukiza', '.', 'Nguvu', 'ya', 'mila', 'Mwaka', 'huu', 'kuzuizi', 'kikubwa', 'kimekuwa', 'ugonjwa', 'wa', 'virusi', 'vya', 'corona', ',', 'kwasababu', 'utamaduni', 'huo', 'unachukuliwa', 'kuwa', 'wenye', 'uwezekano', 'mkubwa', 'wa', 'kusababisha', 'maambukizi', 'ya', 'corona', '.', 'Lakini', 'nguvu', 'ya', 'mila', ',', 'imefanya', 'wenyeji', 'kuona', 'vigumu', 'sana', 'kuahirisha', 'tukio', 'la', 'mwaka', 'huu', '.', '``', 'Hatuwezi', 'kuahirisha…', 'Kuahirisha', 'inamaana', 'kwamba', 'vijana', 'wasitahiriwe', ',', 'na', 'hatua', 'hiyo', 'itaathiri', 'rika', 'la', 'mwaka', 'wa', '2022', '.', 'Utapata', 'mtu', 'ni', 'mzee', 'lakini', 'yuko', 'kwenye', 'rika', 'la', 'watoto', 'na', 'hilo', 'haliwezekani', \"''\", ',', 'Omukongolo', 'amesema', '.', 'Omukongolo', 'anasisitiza', 'kwamba', 'wamechukua', 'tahadhari', 'wakati', 'huu', 'wa', 'corona', 'kwa', 'kuzingatia', 'masharti', 'ya', 'wizara', 'ya', 'afya', '.', 'Chanzo', 'cha', 'picha', ',', 'Kelly', 'Ogome', 'Maelezo', 'ya', 'picha', ',', 'Wakati', 'wa', 'sherehe', 'pia', 'wanaweza', 'kutabiri', 'kitakachotokea', 'siku', 'za', 'usoni', '``', 'Sisi', 'kila', 'wakati', 'huchukua', 'tahadhari…', 'Tuna', 'sheria', 'zetu', 'wenyewe', 'ambazo', 'ni', 'za', 'kuwalinda', 'wanaotahiriwa', 'na', 'pia', 'jamii', '.', 'Kwa', 'mfano', 'mtu', 'ambaye', 'ni', 'chongo', 'hawezi', 'kuwa', 'ngariba', '.', 'Kwa', 'hivyo', 'pia', 'wakati', 'huu', 'tunaelewa', 'hali', 'jinsi', 'ilivyo', 'ndiyo', 'maana', 'tunasema', 'kila', 'mtu', 'avalie', 'barakoa', ',', 'na', 'kukaa', 'umbali', 'wa', 'mita', '2', '.', 'Hata', 'watu', 'watakaosindikiza', 'vijana', 'tumewaweka', 'kwa', 'makudi', 'ya', 'watu', 'ishirini', 'kinyume', 'na', 'awali', \"''\", ',', 'Omukongolo', 'amesema', '.', 'Mapema', 'mwaka', 'huu', ',', 'Rais', 'Uhuru', 'Kenyatta', 'alipiga', 'marufuku', 'mikusanyiko', 'ya', 'watu', 'ikiwemo', 'makanisani', ',', 'mikutano', 'ya', 'kisiasa', ',', 'na', 'sherehe', 'zozote', 'kama', 'njia', 'moja', 'ya', 'kudhibiti', 'maambukizi', 'ya', 'virusi', 'vya', 'corona', '.', 'Hata', 'hivyo', 'sheria', 'hii', 'inaonekana', 'kuwa', 'vigumu', 'kuzingatiwa', 'hasa', 'wakati', 'ambapo', 'sherehe', 'hizi', 'zinaanza', '.', '``', 'Hizi', 'sherehe', 'zetu', 'huvutia', 'umati', 'mkubwa', 'wa', 'watu', 'na', 'kwa', 'kawaida', 'huwa', 'ni', 'vigumu', 'sana', 'kudhibiti', 'umati', 'huo', ',', '..', 'Na', 'wakati', 'huu', 'wa', 'corona', 'itatuletea', 'madhara', 'makubwa', '.', 'Kwa', 'hivyo', 'tunawashauri', 'watu', 'wetu', 'waende', 'hospitalini', '.', 'Kama', 'vile', 'tuliwashauri', 'wasiende', 'makanisani', ',', \"''\", 'anasema', 'Gavana', 'wa', 'Kaunti', 'ya', 'Bungoma', 'Wycliffe', 'Wangamati', '.', 'Iwapo', 'masharti', 'ya', 'serikali', 'ya', 'kuahirisha', 'sherehe', 'hizi', 'yatafuatwa', 'ina', 'maana', 'kwamba', 'sherehe', 'nyengine', 'kama', 'hiyo', 'itafanyika', 'tena', 'mwaka', 'wa', '2022', '.', 'Jamii', 'ya', 'Wabukusu', 'hutahiri', 'vijana', 'wao', 'kila', 'baada', 'ya', 'miaka', 'miwili', 'na', 'kuwaweka', 'katika', 'rika', 'lao', '.', 'Kwa', 'jumla', 'jamii', 'hii', 'ina', 'makundi', 'manane', 'ya', 'marika', '.', 'Watakao', 'tahiriwa', 'mwaka', 'huu', 'watawekwa', 'katika', 'rika', 'la', 'ishirini', 'la', \"'Bakikwameti\", \"'\", 'ishara', 'tosha', 'kwamba', 'wametolewa', 'ngozi', 'ya', 'mama', 'na', 'sasa', 'wamekuwa', 'wanaume', 'kamili', '.']\n",
      "\n",
      " Number of Words:  776\n"
     ]
    }
   ],
   "source": [
    "file=\"20aug1.txt\"\n",
    "\n",
    "# calling the function and storing the contents in a text variable \n",
    "text = get_document(\"https://www.bbc.com/swahili/habari-53621645\")\n",
    "\n",
    "# calling the store_ document function \n",
    "store_document(doc=text,name=file)\n",
    "\n",
    "#add the words in this file to the total_corpus_words, to keep count of the number of words in the corpus\n",
    "total_corpus_words+=total_words(file)"
   ]
  },
  {
   "cell_type": "code",
   "execution_count": 10,
   "metadata": {},
   "outputs": [
    {
     "data": {
      "text/plain": [
       "303973"
      ]
     },
     "execution_count": 10,
     "metadata": {},
     "output_type": "execute_result"
    }
   ],
   "source": [
    "total_corpus_words"
   ]
  },
  {
   "cell_type": "code",
   "execution_count": 11,
   "metadata": {},
   "outputs": [
    {
     "name": "stdout",
     "output_type": "stream",
     "text": [
      "['Ukatili', 'dhidi', 'ya', 'wanawake', 'umeongezeka', 'nchini', 'Kenya', ',', 'hasa', 'wakati', 'huu', 'wa', 'janga', 'la', 'corona', 'huku', 'takwimu', 'za', 'serikali', 'zikionesha', 'kuwa', 'wanawake', 'wanne', 'kati', 'ya', 'kumi', 'wameathirika', '.', 'Aidha', 'uongozi', 'wa', 'kaunti', 'ya', 'Makueni', 'nchini', 'Kenya', 'umezindua', 'makao', 'salama', 'ili', 'kuokoa', 'wanawake', 'ambao', 'wanaishi', 'katika', 'mazingira', 'ya', 'ukatili', '.', 'Mwanamke', 'mwengine', 'aliyekimbilia', 'eneo', 'hilo', 'baada', 'ya', 'kupigwa', 'na', 'mume', 'wake', 'anasema', ':', '``', 'Sasa', 'wakati', 'alinichapa', 'na', 'akaona', 'sitosheki', 'na', 'kupigwa', 'ndio', 'akaendea', 'fimbo', '.', 'Hapo', 'kwangu', 'kuna', 'ovacado', 'mbili', ',', 'akachukua', 'fimbo', 'tunayochunia', 'ovacado', ',', 'akaingia', 'nayo', 'kwa', 'nyumba', 'na', 'akafunga', 'mlango', '.', 'Wakati', 'aliingia', 'kwa', 'nyumba', 'ndio', 'akanichapa', 'hii', 'mkono', 'na', 'mti', '.', 'Na', 'hii', 'mkono', 'ndio', 'ilikuwa', 'imeshika', 'mtoto', '.', 'Akasema', 'anataka', 'laini', 'yake', ',', 'na', 'mimi', 'sikuwa', 'nimeachilia', 'mtoto', 'wangu', '.', 'Nilikuwa', 'nimeamua', 'kama', 'nikufa', 'nikufe', 'na', 'mtoto', 'wangu', 'nikiwa', 'na', 'yeye', \"''\", '.', 'Kulingana', 'na', 'Umoja', 'wa', 'Mataifa', 'masharti', 'yaliyowekwa', 'kuzuia', 'maambukizi', 'ya', 'corona', ',', 'yamesababisha', 'maisha', 'kuwa', 'magumu', 'kwa', 'wanawake', 'hasa', 'nyumbani', '.', 'Ukosefu', 'wa', 'ajira', 'na', 'changamoto', 'za', 'kiuchumi', 'zimesababisha', 'hali', 'kuwa', 'ngumu', 'kwa', 'familia', 'nyingi', '.', 'Makao', 'salama', 'kama', 'yaliyojengwa', 'ni', 'mojawapo', 'ya', 'hatua', 'zilizochukuliwa', 'na', 'serikali', 'ya', 'kaunti', 'ya', 'Makueni', 'kulinda', 'wanawake', '.', 'Adelina', 'Mwau', 'naibu', 'gavana', 'wa', 'kaunti', 'ya', 'Makueni', 'amesema', ':', '``', 'Tulifikiria', 'sana', 'tutaiweka', 'wapi', ',', 'kwasababu', 'haiwezi', 'ikawekwa', 'mahali', 'popote', 'pale', '.', 'Kuna', 'usaidizi', 'wa', 'kitengo', 'cha', 'ushauri', '.', 'Hapo', 'kuna', 'usalama', 'kwa', 'wale', 'wanaokuja', 'wakiwa', 'wamedhulumiwa', '.', 'Wasifuatwe', 'na', 'waume', 'zao', '.', 'Ili', 'wapate', 'amani', 'ya', 'moyo', \"''\", '.', 'Uchunguzi', 'wa', 'kitaifa', 'kuhusu', 'visa', 'vya', 'ukatili', 'dhidi', 'ya', 'wanawake', 'umeanzishwa', 'kama', 'alivyoamuru', 'rais', '.', 'Na', 'matokeo', 'yake', 'yakitarajiwa', 'kutoa', 'mapendekezo', 'yatakayochangia', 'kutafuta', 'suluhu', 'hasa', 'kuhusu', 'usalama', 'wa', 'wanawake', 'nyumbani', '.']\n",
      "\n",
      " Number of Words:  274\n"
     ]
    }
   ],
   "source": [
    "file=\"20aug3.txt\"\n",
    "\n",
    "# calling the function and storing the contents in a text variable \n",
    "text = get_document(\"https://www.bbc.com/swahili/habari-53634953\")\n",
    "\n",
    "# calling the store_ document function \n",
    "store_document(doc=text,name=file)\n",
    "\n",
    "#add the words in this file to the total_corpus_words, to keep count of the number of words in the corpus\n",
    "total_corpus_words+=total_words(file)"
   ]
  },
  {
   "cell_type": "code",
   "execution_count": 12,
   "metadata": {},
   "outputs": [
    {
     "data": {
      "text/plain": [
       "304247"
      ]
     },
     "execution_count": 12,
     "metadata": {},
     "output_type": "execute_result"
    }
   ],
   "source": [
    "total_corpus_words"
   ]
  },
  {
   "cell_type": "code",
   "execution_count": 13,
   "metadata": {},
   "outputs": [
    {
     "name": "stdout",
     "output_type": "stream",
     "text": [
      "['Alizinduka', 'ghafla', 'kwani', 'mwanzoni', 'alidhani', 'ilikuwa', 'tu', 'ndoto', 'ya', 'kuogofya', '.', 'Lakini', 'mwasho', 'ulioandamana', 'na', 'uchungu', 'ulizidi', 'kumwandama', '.', 'Aligundua', 'kwamba', 'ilikuwa', 'si', 'njozi', ',', 'ni', 'mambo', 'yaliyokuwa', 'yakitendeka', 'katika', 'uhalisia', '.', 'Kwa', 'kutatizika', ',', 'aligundua', 'chanzo', 'cha', 'uchungu', 'ule', 'kilikuwa', 'tindikali', ',', 'na', 'mhusika', 'alikuwa', 'mkewe', '.', 'Matakaya', 'alikuwa', 'ni', 'afisa', 'wa', 'polisi', 'aliyekuwa', 'anahudumu', 'katika', 'kituo', 'kimoja', 'kaunti', 'ya', 'Kisii', 'nchini', 'Kenya', 'wakati', 'kisa', 'hicho', 'kilipotokea', 'alfajiri', 'mnamo', '21', 'Septemba', ',', '2013', '.', '``', 'Ni', 'kana', 'kwamba', 'alikuwa', 'na', 'nia', 'ya', 'kuhakikisha', 'kuwa', 'nimepigwa', 'na', 'umeme', '.', 'Nilipiga', 'mayowe', 'hadi', 'majirani', 'wangu', 'walipoitikia', 'kilio', 'changu', '.', 'Ni', 'wao', 'walionikimbiza', 'hospitalini', '.', \"''\", 'Kwa', 'bahati', 'mbaya', 'ile', 'tindikali', 'ilikuwa', \"imemeng'enya\", 'ngozi', 'yake', 'kwenye', 'sehemu', 'ya', 'uso', 'na', 'kichwani', ',', 'kwa', 'kiasi', 'kikubwa', '.', 'Chanzo', 'cha', 'picha', ',', 'Dan', 'Matakaya', 'Maelezo', 'ya', 'picha', ',', 'Kuna', 'kipindi', 'Dan', 'Matakaya', 'alitaka', 'kujitoa', 'uhai', 'Matibabu', 'na', 'upasuaji', 'Alipofikishwa', 'hospitalini', 'Kisii', ',', 'alipewa', 'huduma', 'ya', 'kwanza', 'na', 'baadaye', 'akawa', 'anatibiwa', 'ila', 'madaktari', 'hawangeweza', 'kumtibu', 'zaidi', '.', '``', 'Nilipewa', 'huduma', 'ya', 'kwanza', ',', 'uso', 'wangu', 'ulioshwa', 'na', 'wakati', 'huo', 'nilikuwa', 'na', 'uwezo', 'wa', 'kuona', ',', 'japo', 'uchungu', 'ulikuwa', 'mwingi', 'mno', 'kwenye', 'mwili', 'wangu', '.', 'Wahudumu', 'walijaribu', 'kunipa', 'tembe', 'za', 'kupunguza', 'maumivu', ',', \"''\", 'Dan', 'anakumbuka', '.', 'Baada', 'ya', 'siku', 'mbili', 'alihamishwa', 'hadi', 'hospitali', 'ya', 'Kakamega', 'alipokaa', 'kwa', 'siku', 'mbili', 'na', 'baadaye', 'kuhamishwa', 'hadi', 'hospitali', 'ya', 'taifa', 'ya', 'Kenyatta', '.', 'Dan', 'anasema', 'kuwa', 'akiwa', 'hospitali', 'ya', 'kwanza', 'baada', 'ya', 'muda', 'alipofuka', 'kabisa', '.', '``', 'Inavyoonekana', 'ni', 'kuwa', 'ile', 'tindikali', 'iliendelea', 'kunidhuru', 'macho', 'yangu', 'hata', 'baada', 'ya', 'kemikali', 'ile', 'kuoshwa', 'na', 'kupanguswa', 'usoni', 'mwangu', ',', \"''\", 'amesema', '.', 'Katika', 'hospitali', 'ya', 'Kenyatta', ',', 'alilazwa', 'kuanzia', 'Septemba', '2013', 'hadi', 'Februari', '2014', 'ambapo', 'alifanyiwa', 'upasuaji', 'mara', 'kadha', '.', 'Anakadiria', 'kwamba', 'alifanyiwa', 'upasuaji', 'mara', '15', '.', 'Dan', 'anasema', 'kuwa', 'madaktari', 'walikuwa', 'wanatoa', 'nyama', 'na', 'ngozi', 'kutoka', 'sehemu', 'nyengine', 'za', 'mwili', 'wake', 'na', 'kuzipandikiza', 'sehemu', 'ambazo', 'alikuwa', 'ameathirika', 'mno', '.', 'Upasuaji', 'aliyofanyiwa', 'ulikuwa', 'unamtuliza', 'lakini', 'hali', 'ya', 'kupona', 'iliendelea', 'kwa', 'mwendo', 'wa', 'polepole', 'mno', '.', 'Haikuchukua', 'muda', 'kabla', 'yake', 'kuzidiwa', 'na', 'kurejeshwa', 'katika', 'hospitali', 'ya', 'Nairobi', 'West', 'kwani', 'vidonda', 'vilianza', 'tena', 'kuuma', 'na', 'havikuwa', 'vinakauka', '.', 'Akiwa', 'mle', 'hospitalini', 'alifanyiwa', 'upasuaji', 'mwengine', '.', '``', 'Japo', 'majeraha', 'yanayotokana', 'na', 'kuchomwa', 'na', 'tindikali', 'yalikuwa', 'yanapona', ',', 'kulikuwa', 'bado', 'na', 'matatizo', 'ya', 'viungo', 'vyangu', '.', 'Kwa', 'mfano', 'mikono', 'yangu', 'ilikuwa', 'imepona', ',', 'lakini', 'ilikuwa', 'migumu', 'mno', 'kukunjana', ',', 'shingo', 'pia', 'ilikuwa', 'imepona', 'ila', 'ilikuwa', 'ngumu', 'kiasi', 'kuwa', 'singeweza', 'kuigeuza', 'wala', 'kuinamisha', 'kichwa', 'kama', 'ada', ',', \"''\", 'Dan', 'anasema', '.', 'Changamoto', 'nyengine', 'ilikuwa', 'ni', 'sehemu', 'ya', 'pua', 'lake', ',', 'wataalam', 'walifanya', 'upasuaji', 'ili', 'kufungua', 'mashimo', 'yanayotoa', 'na', 'kuingiza', 'hewa', 'lakini', 'yalifungana', 'siku', 'kadhaa', 'kabla', 'ya', 'mwisho', 'wa', 'mwaka', 'wa', '2014', '.', 'Mwaka', 'wa', '2015', ',', 'alirejea', 'tena', 'hospitali', 'ya', 'Kenyatta', ',', 'ambapo', 'alifanyiwa', 'upasuaji', 'mwengine', 'kwenye', 'pua', 'lake', 'kwani', 'operesheni', 'ya', 'kwanza', 'haikusaidia', 'kutuliza', 'hali', '.', 'Mnamo', 'Septemba', '10', 'mwaka', 'wa', '2019', 'alifanikiwa', 'kupata', 'mdhamini', 'ambaye', 'alikubali', 'kufanikisha', 'upasuaji', 'mwengine', '.', 'Mdhamini', 'mwenye', 'ni', 'Faceforwad', 'International', 'ambalo', 'ni', 'shirika', 'linalosaidia', 'waathiriwa', 'wa', 'dhuluma', 'za', 'kinyumbani', 'na', 'wengineo', '.', 'Baada', 'ya', 'kutafakari', 'tena', 'kuhusu', 'kujiua', 'Dan', 'Matakaya', 'aliona', 'Mungu', 'ana', 'mipango', 'mema', 'juu', 'yake', 'Tumaini', 'baada', 'ya', 'dhiki', 'Aliona', 'hakukuwa', 'na', 'haja', 'ya', 'kujitoa', 'uhai', 'na', 'akagundua', 'kuwa', 'angali', 'na', 'mchango', 'katika', 'ulimwengu', 'huu', '.', '``', 'Nilianza', 'kufikiria', 'mawazo', 'ya', 'kuishi', ',', 'huku', 'nikipata', 'nasaha', 'kutoka', 'kwa', 'wataalamu', 'wa', 'afya', 'kiakili', '.', 'Nilianza', 'kuelewa', 'utamu', 'na', 'uzuri', 'wa', 'maisha', 'kama', 'zawadi', 'kutoka', 'kwa', 'mwenyezi', 'Mungu', ',', \"''\", 'Dan', 'anasema', 'Mwaka', 'wa', '2016', 'aliunda', 'wakfu', 'wa', 'Dan', 'Shieshie', '.', 'Huu', 'ni', 'wakfu', 'ambao', 'huwasaidia', 'wanaume', 'wanaojipata', 'katika', 'ndoa', 'au', 'mahusianoambayo', 'wanadhulumiwa', '.', 'Pia', 'ni', 'nafasi', 'ya', 'wanaume', 'kueleza', 'uzoefu', 'wao', 'kwenye', 'ndoa', 'na', 'jinsi', 'ya', 'kukabiliana', 'na', 'matatizo', 'kwenye', 'ndoa', '.', '``', 'Mimi', 'ninaelewa', 'kuwa', 'wanaume', 'wanaonekana', 'kana', 'kwamba', 'wao', 'ndio', 'wanaoanza', 'dhuluma', 'na', 'vita', 'vya', 'kinyumbani', '.', 'Lakini', 'inapogeuka', 'na', 'kuwa', 'kinyume', 'hata', 'jamii', 'yenyewe', 'haijui', 'ifanyeje', 'nini', 'kwani', 'haiko', 'tayari', 'kusikiliza', 'masaibu', 'ya', 'wanaume', 'wanaodhulumiwa', ',', \"''\", 'Dan', 'anasema', '.', 'Ingawa', 'bado', 'anahudumu', 'kama', 'polisi', ',', 'yeye', 'huwa', 'anafanya', 'kazi', 'za', 'ofisini', 'kutokana', 'na', 'makovu', 'usoni', 'na', 'athari', 'za', 'kuchomwa', 'kwa', 'tindikali', '.']\n",
      "\n",
      " Number of Words:  668\n"
     ]
    }
   ],
   "source": [
    "file=\"20aug4.txt\"\n",
    "\n",
    "# calling the function and storing the contents in a text variable \n",
    "text = get_document(\"https://www.bbc.com/swahili/habari-53646501\")\n",
    "\n",
    "# calling the store_ document function \n",
    "store_document(doc=text,name=file)\n",
    "\n",
    "#add the words in this file to the total_corpus_words, to keep count of the number of words in the corpus\n",
    "total_corpus_words+=total_words(file)"
   ]
  },
  {
   "cell_type": "code",
   "execution_count": 14,
   "metadata": {},
   "outputs": [
    {
     "data": {
      "text/plain": [
       "304915"
      ]
     },
     "execution_count": 14,
     "metadata": {},
     "output_type": "execute_result"
    }
   ],
   "source": [
    "total_corpus_words"
   ]
  },
  {
   "cell_type": "code",
   "execution_count": 18,
   "metadata": {},
   "outputs": [
    {
     "name": "stdout",
     "output_type": "stream",
     "text": [
      "['Barua', 'kutoka', 'Afrika', ':', 'Jinsi', 'ukarimu', 'wa', 'Waafrika', 'ulivyomfanya', 'mwalimu', 'wa', 'Nigeria', 'aangue', 'kilio', '9', 'Agosti', '2020', 'Chanzo', 'cha', 'picha', ',', 'AFP', 'Katika', 'msururu', 'wa', 'barua', 'zetu', 'kutoka', 'kwa', 'waandishi', 'wa', 'habari', 'wa', 'kiafrika', ',', 'Mwandishi', 'wa', 'habari', 'wa', 'Kenya', ',', 'Joseph', 'Warungu', 'anaangalia', 'vitendo', 'vya', 'ukarimu', 'vilivyofanyika', 'kuwasaidia', 'watu', 'wa', 'kawaida', 'kupitia', 'nyakati', 'ngumu', '.', 'Wakati', 'Covid-19', 'ilipolikumba', 'bara', 'la', 'Afrika', ',', 'athari', 'zake', 'zilikua', 'mbaya', 'sana-', 'lakini', 'baadhi', 'ya', 'watu', 'wameathirika', 'zaidi', 'kuliko', 'wengine', ',', 'kwa', 'ugonjwa', 'lakini', 'pia', 'hatua', 'za', 'kukabiliana', 'na', 'ugonjwa', 'wenyewe', '.', 'Waalimu', 'wa', 'shule', 'za', 'kibinafsi', ',', 'ambao', 'nguvu', 'kazi', 'kubwa', 'katika', 'elimu', ',', 'wameathiriwa', 'kwa', 'namna', 'ya', 'kipekee', 'na', 'kufungwa', 'kwa', 'shule', 'kwasababu', 'hazina', 'usalama', 'na', 'baya', 'zaidi', 'hakuna', 'tarehe', 'ya', 'kufunguliwa', 'kwa', 'shulre', 'hadi', 'leo', 'iliyokwisha', 'kutrangazwa=', '.', 'Wengi', 'wamegeuka', 'na', 'kuwa', 'wakulima', ',', 'kufanya', 'shughuli', 'za', 'usafi', 'na', 'uuzaji', 'wa', 'bidhaa', 'mitaani', 'au', 'wamachinga', '.', \"'Usilie\", ',', 'ni', 'sawa', \"'\", 'Ugumu', 'wa', 'maisha', 'umekua', 'sio', 'wa', 'kuvumilika', ',', 'na', 'umewafanya', 'wengi', 'watoe', 'machozi-', 'miongoni', 'mwao', 'ni', '-Akindele', 'Oluwasheun', 'Oladipupo', 'katika', 'mji', 'mjuu', 'wa', 'nigeria', ',', 'Abuja', '.', 'Yeye', 'pamoja', 'na', 'waalimu', 'wengine', ',', 'walikua', 'na', 'matumaini', 'makubwa', 'mwezi', 'Julai', 'wakati', 'serikali', 'ya', 'Nigeria', 'iliposema', 'kuwa', 'itaruhusu', 'shule', 'kufunguliwa', 'kwa', 'ajili', 'ya', 'mitihani', '.', 'Lakini', 'uamuzi', 'huo', 'ulisitishwa', ',', 'uchungu', 'ukapita', 'kiasi', '.', 'Akindele', ',', 'ambaye', 'ameoa', 'akiwa', 'na', 'watoto', 'watatu', 'wote', 'chini', 'ya', 'miaka', 'minane', ',', 'alimuambia', 'mwandishi', 'wa', 'makala', 'haya', 'katika', 'mahojiano', 'ya', 'njia', 'ya', 'simu', 'kwamba', 'alikaa', 'tu', 'kwa', 'mshituko', 'alijaribu', 'kutafakari', 'taarifa', 'hiyo', ',', 'kabla', 'kuanza', 'kutiririka', 'kwenye', 'uso', 'wake', '.', '``', 'Mke', 'wangu', 'aliniambia', ',', \"'Usilie\", ',', 'ni', 'sawa', ',', 'tutaweza', ',', 'kwa', 'namna', 'fulani', '.', \"'\", 'Lakini', 'nilikua', 'ninafikiria', 'juu', 'ya', 'waalimu', 'wengiwengi', 'ambao', 'hawana', 'chakula', 'cha', 'kulisha', 'familia', '.', 'Mara', 'nyingi', ',', 'wote', 'mwanamke', 'na', 'mwanaume', 'unakuta', 'ni', 'waalimu', '.', 'Hiyo', 'inamaanisha', 'kuwa', 'pato', 'lote', 'la', 'familia', 'limeenda-', 'kabisa', \"''\", 'Akindele', 'anasema', 'alirekodi', 'vido', 'hiyo', 'kwa', 'matumaini', 'ya', 'kuwashawishi', 'watu', 'kuwasaidia', 'waalimu', 'wa', 'shulre', 'za', 'kibinafsi', 'wanaohitaji', 'msaada', '.', 'Mwandishi', 'wa', 'habari', 'wa', 'Nigeria', 'Lara', 'Wise', 'alianzisha', 'kampeni', 'ya', 'mtandao', 'wa', 'kijamii', 'wa', 'Facebook', 'kumtafuta', 'Akindele', 'na', 'kumuomba', 'atume', 'sehemu', 'ya', 'pili', 'ya', 'video', 'na', 'maelezo', 'ya', 'akaunti', 'yake', 'ya', 'benki', '.', 'Misaada', 'ilimwagika', 'kutoka', 'kila', 'pembe', 'ya', 'dunia', ':', 'Kwa', 'kuzidiwa', 'na', 'ukarimu', ',', 'Akindele', 'alimua', 'kukugawa', 'zaidi', 'ya', 'Naira', 'milioni', '1.2', '(', '$', '3,100', ';', '£2,400', ')', 'kwa', 'makumi', 'ya', 'waalimu', 'wanaohitaji', 'msaada.', '``', 'Nilijiambia', 'mwenyewe-sasa', 'kwamba', 'Mungu', 'amenijaribu', 'na', 'akafungua', 'njia', 'kwa', 'ajili', 'ya', 'pesa', 'kuingia', ',', 'kama', 'nikikalia', 'pesa', 'hizo', ',', 'ina', 'maanisha', 'kuwa', 'ninakal', ';', 'ia', 'hatma', 'ya', 'watoto', 'wangu', '.', '``', 'Hivyo', 'ndivyo', 'tulivyoanza', 'kuwatafuta', 'waalimu', 'waliokua', 'wakihangaika', '>', 'Tuliwafikia', 'zaidi', 'ya', 'waalimu', '200', 'na', 'tukawapatia', 'chakula', 'cha', 'kutosha', 'ikiwa', 'ni', 'pamoja', 'na', 'mchele', 'na', 'tambi', '.', 'Pia', 'tuliweka', 'pesa', 'kiasi', 'kwenye', 'bahasha', 'na', 'tukawapatia', '.', \"''\", 'Chanzo', 'cha', 'picha', ',', 'Akindele', 'Oluwasheun', 'Oladipupo', 'Akindele', 'alipoanza', 'kugawa', 'mifuko', 'ya', 'misaada', 'ndipo', 'alipobaini', 'ukubwa', 'wa', 'tatizo', '.', 'Waalimu', 'wengi', 'kutoka', 'maeneo', 'mbalimbali', 'ya', 'Nigeria', 'waliomba', 'msaada', 'kutoka', 'kwake', '.', '``', 'Ilikua', 'ni', 'vigumu', 'kusema', 'kweli', 'kuwaona', 'waalimu', 'wazee', 'ambao', 'wamehudumu', 'kwa', 'miaka', 'mingi', 'wakiomba', 'chakula', '.', \"''\", 'Facebook', 'w', 'ilikua', 'imejaa', 'jumbe', 'zilizooonyesha', 'kilio', 'cha', 'waalimu', 'huku', 'pia', 'wakiilaani', 'serikali', 'kwa', 'kuwapuuza', 'waalimu', 'wa', 'shule', 'za', 'kibinafsi', '.', \"'Mungu\", 'mbariki', 'Akindele', \"'\", 'Mnaigeria', 'mmoja', 'alisema', ':', '``', 'Aibu', 'kwa', 'wanasiasa', 'ambao', 'wanakula', 'nchi', 'hii', 'na', 'kuimaliza', '.', 'Kama', 'mwanaume', 'ambaye', 'alipata', 'baraka', 'kutoka', 'kwa', 'Mungu', 'anaweza', 'kufanya', 'hili', ',', 'wanaume', 'wote', 'waliovalia', 'agbadas', '(', 'nguo', 'kubwa', 'za', 'kinigeria', ')', 'na', 'wanawake', 'wanaojificha', 'ndani', 'ya', '(', 'mitandao', 'ya', 'kijamii', ')', ',', 'wanapaswa', 'kuzika', 'sura', 'zao', 'ndani', 'ya', 'aibu', '.', \"''\", 'Licha', 'ya', 'vmatendo', 'yanayowajali', 'wengine', 'yanayofanywa', 'na', 'wahudumu', 'wanaowashughulikia', 'moja', 'kwa', 'moja', 'wagonjwa', 'husususan', 'wahudumu', 'wa', 'afya', 'wanaonusuru', 'maisha', 'ya', 'watu', 'wakati', 'wa', 'janga', ',', 'watu', 'wengi', 'kote', 'barani', 'Afrika', 'wanaweza', 'kumudu', 'maisha', 'kutrokana', 'na', 'ukarimu', 'wa', 'Waafrika', 'wa', 'kawaida', '.', 'Huku', 'akisubiri', 'kuona', 'kama', 'tarehe', 'ya', 'kufunguliwa', 'kwa', 'shule', 'iliyotangazwa', 'itatimizwa', 'baadae', 'mwezi', 'Agosti', ',', 'Akindele', 'anasema', 'roho', 'ya', 'ubuntu', '(', 'roho', 'ya', 'utu', ')', 'na', 'uwajibikaji', '-ilimshitua', '.', 'ilimshangaza', '.', '``', 'Waafrika', 'ni', 'watu', 'wazuri', '.', 'Hilo', 'ndilo', 'nililoliona', 'katika', 'kipindi', 'cha', 'wiki', 'hizi', 'tatu', ',', \"''\", 'anasema', '.', '``', 'Watu', 'ambao', 'sijawahi', 'kukutana', 'nao', 'maishani', 'mwangu-hawanifahamu', ',', 'hawajui', 'ni', 'wapi', 'ninakotoka', ',', 'hawajui', 'kama', 'mimi', 'na', 'tapeli', 'au', 'mwizi-', 'lakini', 'wamekua', 'wakinitumia', 'pesa', 'kwenye', 'akaunti', '.', 'Ninawashukuru', 'sana', 'wote', '.', \"''\", \"'Kuhangaika\", 'kwangu', 'kuliibua', 'huruma', \"'\", 'Nchini', 'Kenya', 'Michael', 'Munene', 'pia', 'amekua', 'akisifiwa', 'kwa', 'roho', 'yake', 'ya', 'kutoa', 'wakati', 'wa', 'janga', 'la', 'corona', '.', 'Akiwa', 'ni', 'mtu', 'aliyezaliwa', 'katika', 'familia', 'masikini', 'ambayo', 'ilikua', 'na', 'ugumu', 'wa', 'kupata', 'mlo', 'mmoja', 'kwa', 'siku', ',', 'anafahamu', 'fika', 'hisia', 'za', 'umasikini', 'na', 'njaa', '.Alipoanza', 'kazi', 'za', 'vibarua', 'alikua', 'anapata', 'shida', 'ya', 'kulipa', 'kodi', 'ya', 'nyumba', '.', 'Alimwambia', 'mwandishi', 'wa', 'makala', 'hii', 'juu', 'ya', 'tukio', 'lililoibua', 'ubuntu', '(', 'utu', ')', 'ndani', 'yake.', '``', 'Mapema', 'siku', 'moja', 'asubuhi', 'mwenye', 'nyumba', 'alimnisubiri', 'nitumie', 'bafu', 'ambalo', 'lilikua', 'nje', 'ya', 'nyumba', ',', 'halafu', 'akanifungia', 'mlamgo', 'haraka', 'mara', 'moja', 'nje', 'ya', 'nyumba', 'yake', 'kwasababu', 'ya', 'madeni', 'ya', 'kodi', 'ya', 'nyumba', '.', '``', 'Nikiwa', 'nimekwama', 'nje', 'bila', 'nguo', ',', 'na', 'pesa', ',', 'niliapa', 'kwake', 'kwamba', 'sitakubali', 'mtu', 'yeyote', 'aaibishwe', 'kama', 'nilivyoaibika', '.', \"''\", 'Leo', 'Michael', 'ni', 'mmiliki', 'wa', 'nyumba', 'za', 'kupangisha', 'kwa', 'karibu', 'miaka', '30', 'akikodisha', 'nyumba', '.', 'Wakati', 'mapato', 'ya', 'wapangaji', 'wake', 'yalipopungua', 'aliwapa', 'likizo', 'ya', 'malipo', 'ya', 'kodi', 'yao', ',', 'ambayo', 'hawajalipa', 'tangu', 'mwezi', 'Mei', '.', '``', 'Ni', 'jambo', 'gumu', 'kwa', 'biashara', 'yangu', ',', 'lakini', 'siwezi', 'kuvumilia', 'kuwaona', 'watu', 'wakiwa', 'hawana', 'nyumba', '.', 'Nimewaambia', 'wapangaji', 'wangu', 'kwamba', 'kwa', 'sasa', 'wanapaswa', 'kuelekeza', 'juhudi', 'zao', 'zaidi', 'katika', 'kuzitafutia', 'familia', 'zao', 'chakula', '.', \"''\", 'Katika', 'mji', 'mkuu', 'wa', 'Ghana', 'Accra', ',', 'wakati', 'amri', 'ya', 'kukaa', 'nyumbani', 'ilipotangazwa', ',', 'ya', 'Elizabeth', 'Yawsony', 'alielekeza', 'mawazo', 'yake', 'kwa', 'watu', 'masikini', 'wanaoishi', 'mitaani', '.']\n",
      "\n",
      " Number of Words:  941\n"
     ]
    }
   ],
   "source": [
    "file=\"20aug9.txt\"\n",
    "\n",
    "# calling the function and storing the contents in a text variable \n",
    "text = get_document(\"https://www.bbc.com/swahili/habari-53712524\")\n",
    "\n",
    "# calling the store_ document function \n",
    "store_document(doc=text,name=file)\n",
    "\n",
    "#add the words in this file to the total_corpus_words, to keep count of the number of words in the corpus\n",
    "total_corpus_words+=total_words(file)"
   ]
  },
  {
   "cell_type": "code",
   "execution_count": 19,
   "metadata": {},
   "outputs": [
    {
     "data": {
      "text/plain": [
       "305856"
      ]
     },
     "execution_count": 19,
     "metadata": {},
     "output_type": "execute_result"
    }
   ],
   "source": [
    "total_corpus_words"
   ]
  },
  {
   "cell_type": "code",
   "execution_count": 20,
   "metadata": {},
   "outputs": [
    {
     "name": "stdout",
     "output_type": "stream",
     "text": [
      "['Vilabu', 'vya', 'pombe', 'na', 'makanisa', 'vyafungwa', 'Malawi', 'Mamlaka', 'ya', 'Malawi', 'imetoa', 'amri', 'ya', 'kufunga', 'vilabu', 'vyote', 'vya', 'pombe', 'na', 'makanisa', '.', 'Agizo', 'hilo', 'limekuja', 'baada', 'ya', 'idadi', 'ya', 'maambukizi', 'ya', 'virusi', 'vya', 'corona', 'kuongezeka', 'mara', 'mbili', 'ndani', 'ya', 'mwezi', 'uliopita', '.', 'Mpaka', 'sasa', 'taifa', 'hilo', 'lina', 'maambukizi', '4,624', 'ya', 'virusi', 'vya', 'corona', 'kwa', 'mujibu', 'wa', 'chuo', 'kikuu', 'cha', 'Johns', 'Hopkins', 'Maafisa', 'wapya', 'wameajiriwa', 'ili', 'kuhakikisha', 'kuwa', 'watu', 'wanafuata', 'muongozo', 'mpya', '.', 'Muongozo', 'huo', 'ni', 'pamoja', 'na', 'kupiga', 'marufuku', 'mkusanyiko', 'wa', 'watu', 'zaidi', 'ya', '10', 'na', 'lazima', 'watu', 'kuvaa', 'barakoa', '.', 'Taifa', 'hilo', 'lilionekana', 'kupuuzia', 'tishio', 'la', 'maambukizi', 'ya', 'virusi', 'vya', 'corona', 'kwa', 'miezi', 'kadhaa', 'wakati', 'wa', 'marudio', 'ya', 'uchaguzi', 'wa', 'rais', 'ambapo', 'upande', 'wa', 'upinzani', 'ulishinda', 'na', 'Lazarus', 'Chakwera', 'kuwa', 'rais', 'mwezi', 'Juni', '.', 'Mahakama', 'ilisitisha', 'marufuku', 'kutoka', 'nje', 'mwezi', 'Aprili', ',', 'wakihofia', 'watu', 'maskini', 'kuwa', 'na', 'wakati', 'mgumu', '.', 'Tanzania', 'yatangaza', 'viwango', 'vya', 'wachezaji', 'kutoka', 'nje', 'Waziri', 'mwenye', 'dhamana', 'ya', 'michezo', 'nchini', 'Tanzania', ',', 'Dkt', '.', 'Harison', 'Mwakyembe', 'ametangaza', 'uamuzi', 'wa', 'Serikali', 'kuendelea', 'kuruhusu', 'idadi', 'ya', 'wachezaji', '10', 'wa', 'kigeni', '.', 'Ingawa', 'idadi', 'ya', 'wachezaji', 'wanaotakiwa', 'kuanza', 'kucheza', 'itabaki', 'chini', 'ya', 'baraza', 'la', 'michezo', 'nchini', 'humo', '.', 'Dkt', 'Mwakyembe', 'amesema', 'Serikali', 'imezingatia', 'maoni', 'ya', 'wadau', 'wa', 'soka', 'na', 'kushirikiana', 'na', 'baraza', 'la', 'michezo', '.', 'Aidha', 'wadau', 'hao', 'wa', 'soka', 'watakaa', 'kujadili', 'aina', 'ama', 'viwango', 'vya', 'wachezaji', 'wanaopaswa', 'kusajiliwa', 'na', 'kuingia', 'nchini', 'humo', '.', 'Angalau', 'nchi', 'zilizopo', 'katika', 'nafasi', 'ya', '50', 'kwa', 'FIFA', 'ndio', 'wasajiliwe', 'hata', 'wa', 'daraja', 'la', 'kwanza', 'ingawa', 'bado', 'hii', 'si', 'sheria', 'ni', 'maoni', 'tu', '.', '``', 'Ni', 'vyema', 'aina', 'ya', 'wachezaji', 'watakaosajiliwa', 'kutoka', 'nje', 'wawe', 'na', 'weledi', 'wawe', 'na', 'uwezo', 'mkubwa', ',', \"''\", 'Waziri', 'Mwakyembe', 'ameeleza', '.', 'Kando', 'na', 'hivyo', 'wizara', 'imeagiza', 'watu', 'wanaoajiriwa', 'nchini', 'wawe', 'na', 'ulazima', 'wa', 'kujifunza', 'Kiswahili', '.', 'DRC', 'kufungua', 'shule', 'baada', 'ya', 'kudhibiti', 'corona', 'Baadhi', 'ya', 'wanafunzi', 'nchini', 'Jamuhuri', 'ya', 'Kidemokrasia', 'ya', 'Kongo', 'wameruhusiwa', 'kurejea', 'shule', 'leo', 'baada', 'ya', 'miezi', 'mitano', 'ya', 'tishio', 'la', 'mlipuko', 'wa', 'virusi', 'vya', 'corona', '.', 'Wanafunzi', 'wanaojiandaa', 'kufanya', 'mitihani', 'yao', 'ya', 'mwisho', 'ndio', 'watarejelea', 'shule', '.', 'Kwa', 'mujibu', 'wa', 'wizara', 'ya', 'elimu', ',', 'waziri', 'wa', 'elimu', 'bwana', 'Willy', 'Bakongo', 'amesema', '“', 'Baada', 'ya', 'miezi', 'tano', 'ya', 'kukabiliana', 'na', 'corona', ',', 'serikali', 'ya', 'Jamuhuri', 'ya', 'Kidemokrasia', 'ya', 'Kongo', 'imeamua', 'kufungua', 'shule', \"''\", '.', 'Wizara', 'ya', 'elimu', 'ilianza', 'wiki', 'iliyopita', 'kutangaza', 'na', 'kutoa', 'barakoa', 'na', 'vifaa', 'vingine', 'vya', 'kinga', 'dhidi', 'yya', 'corona', 'katika', 'shule', 'ambazo', 'zinafunguliwa', 'leo', '.', 'Hata', 'hivyo', 'baadhi', 'ya', 'wazazi', 'wanaonekana', 'kutamani', 'wanafunzi', 'wote', 'waruhusiwe', 'kurejea', 'shuleni', '.', 'BBCCopyright', ':', 'BBC', 'Hatua', 'hii', 'imekuja', 'baada', 'ya', 'rais', 'Felix', 'Tshikedi', 'kutangaza', 'mwisho', 'wa', 'hali', 'ya', 'dharura', 'nchini', 'humo', 'na', 'kusema', 'kuwa', 'maambukizi', 'ya', 'corona', 'yamepungua', 'kutoka', 'asilimia', 'kumi', 'na', 'mbili', 'mpaka', 'asilimia', 'mbili', 'na', 'nusu', '.', 'Hifadhi', 'kubwa', 'ya', 'wanyamapori', 'Kenya', 'yateketea', 'kwa', 'moto', 'Mamlaka', 'ya', 'Kenya', 'imetuma', 'jeshi', 'kusaidia', 'zima', 'moto', 'katika', 'kupambana', 'na', 'moto', 'mkubwa', 'ulioibuka', 'katika', 'hifadhi', 'kubwa', 'ya', 'wanyama', 'pori', 'ya', 'Tsavo', 'ambayo', 'ni', 'kivutio', 'kikubwa', 'cha', 'utalii', 'nchini', 'humo', '.', 'Mamlaka', 'ya', 'huduma', 'za', 'hifadhi', 'za', 'wanyama', 'pori', 'imekilaumu', 'kikosi', 'cha', 'zima', 'moto', 'kwa', 'kushindwa', 'kuzima', 'moto', 'huo', 'ambao', 'umekuwa', 'ukiendelea', 'kwa', 'siku', 'kadhaa', '.', 'Kwa', 'sasa', 'wanajeshi', 'wanatumia', 'helkopta', 'kumwaga', 'maji', 'kuzima', 'moto', 'huo', ',', 'wakati', 'mamia', 'ya', 'watu', 'wamejitolewa', 'kutoa', 'usaidizi', 'pia', '.', 'Moto', 'huo', 'mkubwa', 'umeharibu', 'sehemu', 'kubwa', 'ya', 'ya', 'hifadhi', 'ya', 'Tsavo', ',', 'ambayo', 'iko', 'Kusini', 'Mashariki', 'mwa', 'Kenya', '.', 'Moto', 'huo', 'umehatarisha', 'maisha', 'ya', 'wanyama', 'pori', 'na', 'mimea', '.', 'Hifadhi', 'hiyo', 'ambayo', 'ina', 'mamia', 'ya', 'simba', ',', 'tembo', 'na', 'vifaru', ',', 'Imekuwa', 'ikiwavutia', 'watalii', 'wengi', 'wa', 'kimataifa', 'kila', 'mwaka', 'lakini', 'sasa', 'pameathirika', 'na', 'moto', 'wakati', 'ambao', 'Kenya', 'inakabiliana', 'na', 'janga', 'la', 'corona', 'ambalo', 'limesababisha', 'taifa', 'hilo', 'kupoteza', 'mabilioni', 'ya', 'dola', 'katika', 'pato', 'la', 'taifa', '.']\n",
      "\n",
      " Number of Words:  599\n"
     ]
    }
   ],
   "source": [
    "file=\"20aug10.txt\"\n",
    "\n",
    "# calling the function and storing the contents in a text variable \n",
    "text = get_document(\"https://www.bbc.com/swahili/live/habari-53719458\")\n",
    "\n",
    "# calling the store_ document function \n",
    "store_document(doc=text,name=file)\n",
    "\n",
    "#add the words in this file to the total_corpus_words, to keep count of the number of words in the corpus\n",
    "total_corpus_words+=total_words(file)"
   ]
  },
  {
   "cell_type": "code",
   "execution_count": 21,
   "metadata": {},
   "outputs": [
    {
     "data": {
      "text/plain": [
       "306455"
      ]
     },
     "execution_count": 21,
     "metadata": {},
     "output_type": "execute_result"
    }
   ],
   "source": [
    "total_corpus_words"
   ]
  },
  {
   "cell_type": "code",
   "execution_count": 22,
   "metadata": {},
   "outputs": [
    {
     "name": "stdout",
     "output_type": "stream",
     "text": [
      "['Huo', 'ndio', 'mwisho', 'wa', 'matangazo', 'yetu', 'ya', 'moja', 'kwa', 'moja', 'kwa', 'leo', 'tutaonana', 'tena', 'hapo', 'kesho', '.', 'Wavuvi', '10', 'wa', 'Uganda', 'watekwa', 'DRC', 'Wavuvi', '10', 'wa', 'Uganda', 'wametekwa', 'nyara', 'Ziwa', 'Edward', 'linalounganisha', 'Uganda', 'na', 'DRC', 'wilayani', 'Rukungiri', 'Magharibi', 'mwa', 'Uganda', 'na', 'watu', 'wenye', 'silaha', 'kutoka', 'Congo', '.', 'Kwa', 'mujibu', 'wa', 'mkuu', 'wa', 'wilaya', 'ya', 'Rukungiri', ',', 'wavuvi', 'hao', 'walitekwa', 'mwishoni', 'mwa', 'juma', 'na', 'sasa', 'wanaomba', 'kiasi', 'cha', 'shilingi', 'milioni', '4', 'za', 'Uganda', 'sawa', 'na', 'dola', '$', '1000', 'ili', 'kuachiwa', 'huru', '.', 'Kikosi', 'cha', 'jeshi', 'la', 'wanamaji', 'wa', 'Uganda', 'katika', 'Ziwa', 'Edward', ',', 'kinasema', 'wavuvi', 'hao', 'walikutwa', 'wakivua', 'samaki', 'katika', 'ziwa', 'hilo', 'ndipo', 'waliposhambuliwa', 'na', 'watu', 'wenye', 'silaha', 'na', 'kuwateka', 'hadi', 'nchini', 'DRC', '.', 'Msemaji', 'wa', 'jeshi', 'hilo', 'amesema', 'hii', 'imekuwa', 'tabia', 'ya', 'raia', 'wengi', 'wa', 'Kongo', 'kuomba', 'fedha', 'kila', 'wanapowakamata', 'wavuvi', 'wa', 'Uganda', '.', '``', 'Mara', 'kwa', 'mara', 'wanakuja', 'na', 'kuwatekanyara', 'wavuvi', 'wetu', 'katika', 'maji', 'ya', 'Uganda', 'na', 'kuwapeleka', 'ndani', 'ya', 'nchi', 'yao', ',', 'na', 'baadae', 'wanaomba', 'kikombozi', 'cha', 'fedha', 'kuwaachia', '.', 'Lakini', 'wakati', 'huu', 'tumekataa', 'tumesema', 'haiwezekani', ',', 'maana', 'siku', 'za', 'nyuma', 'jamaa', 'wa', 'wavuvi', 'wanauza', 'vitu', 'vyao', 'kuwakomboa', 'ndugu', 'zao', ',', 'lakini', 'wakati', 'huu', 'tumekataa', 'na', 'kusema', 'imepita', 'kiasi', 'kwani', 'waliwakuta', 'katika', 'eneo', 'la', 'maji', 'ya', 'Uganda', ',', \"''\", 'Kapteni', 'Rwogoma', 'ameeleza', '.', 'Lakini', 'katibu', 'mkuu', 'wa', 'wavuvi', 'wa', 'DRC', 'katika', 'Ziwa', 'Edward', ',', 'Albert', 'Josue', 'Kambusa', 'Mukura', 'aliiambia', 'BBC', 'kuwa', 'hiyo', 'ni', 'njia', 'ya', 'kuilaumu', 'serikali', 'ya', 'DRC', 'na', 'Uganda', 'kushindwa', 'kumaliza', 'mgogoro', 'wa', 'wavuvi', 'kwani', 'majuma', 'mawili', 'yaliopita', 'wanajeshi', 'wa', 'Uganda', 'waliwakamata', 'wavuvi', 'wa', 'Kongo', 'hivyo', 'hiyo', 'ni', 'kama', 'kulipiza', 'kisasi', '.', 'Wavuvi', 'hao', 'wanatarajiwa', 'kufikishwa', 'mahakamani', 'kwa', 'makosa', 'ya', 'kuvua', 'ndani', 'ya', 'DRC', 'bila', 'ruhusa', '.', 'Leo', 'tarehe', '11', 'Agosti', 'katika', 'Dira', 'ya', 'Dunia', '...', 'Video', 'content', 'Video', 'caption', ':', 'Mamlaka', 'ya', 'Mawasiliano', 'Tanzania', 'TCRA', 'yatoa', 'ufafanuzi', 'wa', 'kina', 'kuhusu', 'mabadiliko', 'ya', 'kanuni', 'za', 'utangazaji', 'kwa', 'vyombo', 'vya', 'habari', 'vinavyopeperusha', 'matangazo', 'ya', 'idhaa', 'za', 'kimataifa.Mamlaka', 'ya', 'Mawasiliano', 'Tanzania', 'TCRA', 'yatoa', 'ufafanuzi', 'wa', 'kina', 'kuhusu', 'mabadiliko', 'ya', 'kanuni', 'za', 'utangazaji', 'kwa', 'vyombo', 'vya', 'habari', 'vinavyopeperusha', 'matangazo', 'ya', 'idhaa', 'za', 'kimataifa', '.', 'TCRA', 'yatoa', 'ufafanuzi', 'kuhusu', 'maudhui', 'ya', 'kigeni', 'Mamlaka', 'ya', 'Mawasiliano', 'Tanzania', '(', 'TCRA', ')', 'imetoa', 'ufafanuzi', 'wa', 'kanuni', 'mpya', 'ya', 'vyombo', 'vya', 'habari', 'kuhusu', 'maudhui', 'wanayorusha', 'kutoka', 'vyombo', 'vya', 'kigeni', '.', 'TCRA', 'imesema', 'ili', 'vyombo', 'vya', 'habari', 'vya', 'ndani', 'vyenye', 'leseni', 'ya', 'kuruhusiwa', 'kurusha', 'maudhui', 'kutoka', 'nje', 'ya', 'chombo', 'chake', 'wanapaswa', 'kuwa', 'na', 'kibali', 'maalum', 'kutoka', 'mamlaka', 'hiyo', '.', 'Aidha', 'TCRA', 'imesema', 'hatua', 'hiyo', 'imechukuliwa', 'ili', 'kusimamia', 'maudhui', 'ya', 'nje', 'yanayorushwa', 'mubashara', 'kuwa', 'ni', 'utaratibu', 'wa', 'kawaida', 'wenye', 'lengo', 'la', 'kuleta', 'ufanisi', 'katika', 'usimamizi', 'wa', 'maudhui', 'yanayorushwa', 'na', 'vituo', 'hivyo', '.', 'Kwa', 'vituo', 'ambavyo', 'tayari', 'vinarusha', 'maudhui', 'kutoka', 'vyombo', 'vya', 'nje', 'vinatakiwa', 'kuomba', 'kibali', 'au', 'ruhusa', 'husika', 'na', 'kuwasilisha', 'makubaliano', 'yao', 'TCRA', 'na', 'sio', 'kusimamisha', 'matangazo', 'au', 'makubaliano', 'yaliyopo', '.', 'Vyombo', 'hivyo', 'vimepewa', 'muda', 'wa', 'siku', 'saba', 'kuomba', 'vibali', 'hivyo', '.', 'Katibu', 'Mtendaji', 'wa', 'Baraza', 'la', 'Habari', 'Tanzania', '(', 'MCT', ')', 'Kajubi', 'Mwakajaga', 'ameiambia', 'BBC', 'kwamba', 'kanuni', 'hizo', 'ni', 'muendelezo', 'wa', 'sheria', 'zinazokandamiza', 'uhuru', 'wa', 'habari', '.', \"'Muhuri\", 'wa', 'usalama', \"'\", 'wazinduliwa', 'sekta', 'ya', 'utalii', 'Tanzania', 'Serikali', 'ya', 'Tanzania', 'imezindua', 'muhuri', 'maalum', 'utakaotambulisha', 'Tanzania', 'kuwa', 'sehemu', 'salama', 'ya', 'utalii', '.', 'Waziri', 'wa', 'Maliasili', 'na', 'Utalii', 'nchini', 'Tanzania', ',', 'Dkt.Hamisi', 'Kigwangala', 'amenukuliwa', 'na', 'vyombo', 'vya', 'habari', 'nchini', 'humo', 'kuwa', 'lengo', 'la', 'kuanzishwa', 'kwa', 'muhuri', 'huo', 'ni', 'kuongeza', 'imani', 'kwa', 'wageni', 'kujua', 'hali', 'ya', 'usalama', 'wa', 'nchi', 'hiyo', 'katika', 'sekta', 'ya', 'utalii', '.', 'Barani', 'Afrika', ',', 'Tanzania', 'ni', 'moja', 'kati', 'ya', 'nchi', '5', 'peke', 'yake', 'zilizopata', 'muhuri', 'huu', 'wa', 'usalama', 'ambao', 'unazidi', 'kuitambulisha', 'Tanzania', 'duniani', 'kama', 'ni', 'nchi', 'salama', 'kwa', 'Utalii', '.', 'Jinsi', 'msimu', 'huu', 'ulivyokuwa', 'mgumu', 'kwa', 'kilimo', 'Afrika', 'Mashariki', 'Mwaka', 'huu', ',', 'sekta', 'ya', 'kilimo', 'katika', 'eneo', 'la', 'Afrika', 'Mashariki', 'imekumbwa', 'na', 'uvamizi', 'wa', 'nzige', 'pamoja', 'na', 'changamoto', 'zinazotokana', 'na', 'kanuni', 'za', 'kudhibiti', 'kuenea', 'kwa', 'Covid-19', '.', 'Ikiwa', 'zaidi', 'ya', 'asimilia', '80', 'ya', 'raia', 'wa', 'nchi', 'hizi', 'wanategemea', 'kilimo', 'kama', 'njia', 'moja', 'wapo', 'ya', 'kujikwamua', 'kiuchumi', ',', 'lakini', 'je', 'hali', 'halisi', 'ya', 'sekta', 'yenyewe', 'iko', 'vipi', ',', 'je', 'inaweza', 'kuvutia', 'vijana', 'ili', 'kuendelea', 'kushiriki', 'zaidi', 'na', 'kuwekeza', '?', 'Mwaka', 'huu', ',', 'serikali', 'mbalimbali', 'zilikuwa', 'zinapania', 'kukuza', 'sekta', 'hiyo', 'ili', 'iwe', 'ya', 'manufaa', 'zaidi', 'kwa', 'wakulima', 'na', 'wadau', 'wengine', '.', 'Rais', 'wa', 'Tanzania', 'John', 'Pombe', 'Magufuli', 'aliahidi', 'kuwa', 'serikali', 'itaendelea', 'kuunga', 'mkono', 'wakulima', ',', 'wafugaji', 'na', 'wavuvi', 'na', 'pia', 'kushughulikia', 'changamoto', 'wanazopata', 'ili', 'kuongeza', 'tija', 'katika', 'kazi', 'zao', '.', 'Wakati', 'Uganda', ',', 'katika', 'bajeti', 'yake', 'ya', 'mwaka', '2020/2021', ',', 'serikali', 'iliondoa', 'kodi', '(', 'VAT', ')', 'ya', 'vifaa', 'vya', 'kilimo', 'na', 'pia', 'maziwa', 'yaliyochakatwa', '.', 'Aidha', 'iliongeza', 'mgao', 'kwa', 'sekta', 'ya', 'kilimo', 'kutoka', '$', '272m', 'katika', 'mwaka', 'wa', 'kifedha', 'wa', '2019/2020', 'hadi', '$', '354m', 'katika', 'mwaka', 'wa', 'kifedha', 'wa', '2020/2021', '.', 'Kenya', 'nayo', 'iliongeza', 'mgao', 'wa', 'sekta', 'ya', 'kilimo', 'kwa', 'asilimia', '21', '%', 'kutoka', '$', '462m', 'katika', 'bajeti', 'yake', 'ya', 'mwaka', 'wa', 'kifedha', 'wa', '2019/2020', 'hadi', '$', '561m', 'katika', 'mwaka', 'huu', 'wa', '2020/2021', '.', 'Hii', 'ni', 'miongoni', 'mwa', 'mikakati', 'ambayo', 'serikali', 'mbalimbali', 'zinatekeleza', ',', 'lakini', 'zinatosha', 'kustawisha', 'sekta', 'hii', 'na', 'kuifanya', 'iwe', 'yenye', 'tija', 'zaidi', 'hasa', 'kwa', 'vijana', '?', '“', 'Walikuwa', 'barabarani', 'karibu', 'na', 'nyumbani', 'kwa', 'rafiki', 'yake', ',', 'ambapo', 'ghafla', 'walisikia', 'Flavien', 'akipiga', 'mayowe', 'kuwa', 'amepigwa', 'vibaya', '.', 'Walikuwa', 'ni', 'polisi', ',', 'ambao', 'waliwakamata', 'wote', 'wawili.', '”', '–mwanafamilia', 'iliiambia', 'BBC', '.', 'Prof', 'Lipumba', 'awania', 'urais', 'kwa', 'mara', 'ya', 'tano', 'Mgombea', 'wa', 'urais', 'nchini', 'Tanzania', 'kupitia', 'Chama', 'cha', 'wananchi-CUF', 'Prof.', 'Ibrahim', 'Lipumba', 'na', 'mgombea', 'mwenza', 'Hamida', 'Abdallah', 'Huweishi', ',', 'wamechukua', 'fomu', 'za', 'kugombea', 'urais', 'wa', 'Jamhuri', 'ya', 'Muungano', 'wa', 'Tanzania', 'katika', 'Ofisi', 'za', 'NEC', 'leo', 'hii', 'katka', 'ofisi', 'zilizopo', 'Dodoma', '.', 'Tume', 'ya', 'taifa', 'ya', 'uchaguziCopyright', ':', 'Tume', 'ya', 'taifa', 'ya', 'uchaguzi', 'CUF', 'ilimpitisha', 'Profesa', 'Ibrahim', 'Lipumba', 'kwa', 'kura', '756', 'kati', 'ya', '789', 'kuwa', 'mgombea', 'wake', 'wa', 'urais', 'kwa', 'upande', 'wa', 'Tanzania', 'bara', 'katika', 'uchaguzi', 'mkuu', 'wa', 'Oktoba', '.', 'Kwa', 'maana', 'hiyo', 'Prof', 'Lipumba', 'anaingia', 'katika', \"kinyang'anyiro\", 'cha', 'urais', 'kwa', 'mara', 'ya', 'tano', 'sasa', '.', 'Tume', 'ya', 'taifa', 'ya', 'uchaguziCopyright', ':', 'Tume', 'ya', 'taifa', 'ya', 'uchaguzi', 'Prof', 'Lipumba', 'anajitosa', 'katika', 'nafasi', 'hiyo', 'katika', 'kipindi', 'ambacho', 'chama', 'chake', 'kinauguza', 'majeraha', ',', 'ambayo', 'yametokana', 'na', 'mgogoro', 'wa', 'ndani', 'wa', 'madaraka', '.', 'Na', 'ikiwa', 'Prof', 'Lipumba', 'amerudi', 'ulingoni', 'ili', 'kuirudisha', 'CUF', 'katika', 'hadhi', 'yake', 'ya', 'zamani', ',', 'bila', 'shaka', 'ana', 'kazi', 'kubwa', 'ambayo', 'ni', 'mlima', 'mrefu', 'kuifanikisha', '.', 'Wanaokiuka', 'marufuku', 'ya', 'kutotoka', 'nje', 'usiku', 'Rwanda', 'wanakesha', 'viwanjani', 'Katika', 'juhudi', 'za', 'kukabiliana', 'na', 'kusambaa', 'zaidi', 'kwa', 'virusi', 'vya', 'corona', ',', 'Rwanda', 'imeweka', 'kanuni', 'na', 'sheria', 'mbalimbali', 'ikiwa', 'ni', 'pamoja', 'na', 'marufuku', 'ya', 'kutembea', 'nje', 'baada', 'ya', 'saa', 'tatu', 'za', 'usiku', '.', 'Marufuku', 'ya', 'kutotembea', 'usiku', '(', 'curfew', ')', ',', 'si', 'jambo', 'geni', 'kulisikia', 'hususan', 'nyakati', 'hizi', 'za', 'janga', 'la', 'Covid-19', ',', 'lakini', 'la', 'kushangaza', 'ni', 'adhabu', 'inayotolewa', 'kwa', 'wale', 'wanaokiuka', 'marufuku', 'hiyo', '.', 'Ukikutwa', 'na', 'polisi', 'ukizurura', 'bila', 'sababu', 'ama', 'kwa', 'miguu', 'au', 'unaendesha', 'gari', 'baada', 'ya', 'saa', 'tatu', 'za', 'usiku', 'moja', 'kwa', 'moja', 'unaongozwa', 'na', 'maafisa', 'wa', 'polisi', 'taratibu', 'hadi', 'katika', 'moja', 'ya', 'viwanja', 'vya', 'michezo', '.', 'Huko', 'utakesha', 'ukipewa', 'ukielimishwa', 'juu', 'yahatari', 'na', 'ubaya', 'wa', 'virusi', 'vya', 'corona', 'pamoja', 'na', 'njia', 'za', 'kujiepusha', 'na', 'virusi', 'hivyo', 'mpaka', 'asubuhi', '.', 'Mfano', 'mapema', 'mwezi', 'huu', 'watu', 'zaidi', 'ya', '2000', 'walikamatwa', 'kwa', 'ushirikiano', 'wa', 'maafisa', 'wa', 'polisi', 'na', 'maafisa', 'wengine', 'wa', 'serikali', 'kwa', 'kukiuka', 'marufuku', 'hiyo', 'katika', 'maeneo', 'mbalimbali', 'ya', 'nchi', 'na', 'wote', 'walilala', 'katika', 'viwanja', 'mbalimbali', 'vya', 'michezo', 'nchini', 'humo', 'huku', 'wakipigwa', 'na', 'baridi', 'na', 'kupata', 'darasa', 'juu', 'ya', 'virusi', 'vya', 'corona', 'kutoka', 'kwa', 'maafisa', 'wa', 'afya', 'na', 'polisi', '.', 'Maafisa', 'wanaamini', 'kuwa', 'mbinu', 'hii', 'itawazuia', 'watu', 'kukiuka', 'marufuku', 'ya', 'kutotoka', 'nje', 'wakati', 'wa', 'usiku', 'na', 'hivyo', 'kupunguza', 'maambukizi', 'zaidi', 'ya', 'Covid-19', '.']\n",
      "\n",
      " Number of Words:  1232\n"
     ]
    }
   ],
   "source": [
    "file=\"20aug11.txt\"\n",
    "\n",
    "# calling the function and storing the contents in a text variable \n",
    "text = get_document(\"https://www.bbc.com/swahili/live/habari-53733200\")\n",
    "\n",
    "# calling the store_ document function \n",
    "store_document(doc=text,name=file)\n",
    "\n",
    "#add the words in this file to the total_corpus_words, to keep count of the number of words in the corpus\n",
    "total_corpus_words+=total_words(file)"
   ]
  },
  {
   "cell_type": "code",
   "execution_count": 23,
   "metadata": {},
   "outputs": [
    {
     "data": {
      "text/plain": [
       "307687"
      ]
     },
     "execution_count": 23,
     "metadata": {},
     "output_type": "execute_result"
    }
   ],
   "source": [
    "total_corpus_words"
   ]
  },
  {
   "cell_type": "code",
   "execution_count": 24,
   "metadata": {},
   "outputs": [
    {
     "name": "stdout",
     "output_type": "stream",
     "text": [
      "['``', 'Wajomba', 'na', 'binamu', 'zetu', 'walitutesa', 'sana', 'mimi', 'na', 'dada', 'yangu', '.', 'Tulivuilia', 'matusi', 'ya', 'kila', 'aina', 'kila', 'siku', \"''\", ',', 'Mary', 'anakumbuka', '.', 'Anaeleza', 'kuwa', 'akijaribu', 'kusema', 'siku', 'ambazo', 'walilala', 'njaa', 'na', 'si', 'kwamba', 'hakukuwa', 'na', 'chakula', 'nyumbani', ',', 'si', 'mara', 'moja', 'wala', 'mbili', '.', 'Ilikuwa', 'kama', 'ada', 'kunyimwa', 'chakula', '.', 'Kwa', 'kuwa', 'bibi', 'alikuwa', 'mzee', 'hakuwa', 'na', 'usemi', 'katika', 'mambo', 'mengi', 'yaliokuwa', 'yanafanyika', 'katika', 'boma', 'hilo', '.', 'Mary', 'anasema', 'kilichokuwa', 'kimakirihisha', 'zaidi', 'ni', 'mmoja', 'wa', 'wajomba', 'aliyekuwa', 'na', 'tabia', 'ya', 'kuwaelekeza', 'kwenye', 'kaburi', 'la', 'mama', 'yao', ',', 'eti', 'waufukue', 'mwili', 'wake', 'waule', '.', 'Safari', 'ya', 'kaburini', 'Baada', 'ya', 'muda', ',', 'alianza', 'kuzuru', 'kaburi', 'la', 'mamake', ',', 'lakini', 'si', 'kwa', 'kuufuata', 'ushauri', 'wa', 'yule', 'mjomba', '.', 'Sababu', 'yake', 'ni', 'kwamba', 'alikuwa', 'akipata', 'faraja', 'na', 'amani', 'kwa', 'kujihisi', 'karibu', 'na', 'mamake', 'mzazi', '.', 'Alipata', 'wakati', 'wa', 'kupumua', ',', 'kuyasahau', 'ya', 'dunia', 'na', 'pia', 'kutamani', 'mamake', 'angefufuka', 'wawe', 'pamoja', 'tena', '.', '``', 'Nilikuwa', 'natamani', 'sana', 'mamangu', 'angefufuka', '.', 'Nilijua', 'tu', 'ni', 'mama', 'ambaye', 'angekuwa', 'na', 'uwezo', 'wa', 'kunilinda', 'na', 'kunipenda', 'bila', 'mipaka', ',', \"''\", 'Mary', 'anakumbuka', '.', 'Kwa', 'mara', 'kama', 'tatu', 'hivi', 'anasema', 'alizuru', 'kaburi', 'la', 'marehemu', 'mamake', 'akiwa', 'na', 'lengo', 'la', 'kuufukua', 'mwili', 'wake', ',', 'ila', 'hakufanikiwa', 'kutekeleza', 'lengo', 'hilo', '.', 'Shida', 'zilipozidi', ',', 'Mary', 'alishindwa', 'kuendelea', 'na', 'masomo', '.', 'Anasema', 'njaa', 'ilikuwa', 'sababu', 'kubwa', '.', 'Alionelea', 'ni', 'kheri', 'aajiriwe', 'kama', 'kijakazi', ',', 'wakati', 'huo', 'akiwa', 'na', 'miaka', '16', '.', 'Lakini', 'kazi', 'ile', 'ya', 'nyumbani', 'haikudumu', '.', '``', 'Ni', 'kana', 'kwamba', 'nilikuwa', 'na', 'bahati', 'mbaya', '.', 'Mwajiri', 'wangu', 'alikuwa', 'ni', 'afisa', 'wa', 'polisi', '.', 'Pale', 'kwake', 'alikuwa', 'ananinyima', 'chakula', 'na', 'kila', 'wakati', 'kuzabwa', 'makofi', 'kwa', 'makosa', 'madogo', 'madogo', ',', 'niliamua', 'kuiacha', 'kazi', 'ile', ',', \"''\", 'anasema', '.', 'Hakuwa', 'na', 'kwenda', '.', 'Alipoiacha', 'kazi', 'ile', ',', 'Mary', 'alikutana', 'na', 'swahibu', 'wake', 'kule', 'kule', 'kijijini', 'aliyempa', 'mawaidha', 'ya', 'kuanza', 'kazi', 'kama', 'mhudumu', 'kwenye', 'kilabu', '.', 'Pale', 'alikuwa', 'muuzaji', 'wa', 'kahawa', 'ila', 'wakati', 'mwengine', 'angeuza', 'vileo', 'pia', '.', 'Katika', 'pilikapilika', 'hizo', ',', 'Mary', 'alikutana', 'na', 'mwanamume', 'mmoja', 'aliyeonyesha', 'nia', 'ya', 'kumpenda', 'na', 'kumjali', '.', 'Katika', 'kipindi', 'cha', 'wiki', 'mmoja', 'tu', 'ya', 'kufahamiana', ',', 'walianza', 'maisha', 'ya', 'mume', 'na', 'mke', 'wakati', 'huo', 'akiwa', 'na', 'miaka', '17', '.', 'Alichokuwa', 'hajui', 'Mary', 'ni', 'kwamba', 'alikuwa', 'ametumbukia', 'kwenye', 'shimo', 'jingine', 'la', 'mateso', 'na', 'dhiki', '.', 'Maelezo', 'ya', 'picha', ',', 'Shida', 'zilipozidi', ',', 'Mary', 'alishindwa', 'kuendelea', 'na', 'masomo', '.', 'Mpenzi', 'wake', ',', 'ambaye', 'wakati', 'wa', 'kipindi', 'hicho', 'kifupi', 'cha', 'kuchumbiana', 'alikuwa', 'akimdekeza', ',', 'aligeuka', 'na', 'kuwa', 'kama', 'chuma', 'baridi', '.', 'Yule', 'mumewe', 'Mary', 'alikuwa', 'tayari', 'amempachika', 'mwanamke', 'mwengine', 'mimba', ',', 'na', 'kwa', 'hivyo', 'hata', 'yule', 'mwanamke', 'mwengine', 'alikuwa', 'anamtembelea', 'mle', 'nyumbani', 'bila', 'kujali', 'uwepo', 'wa', 'Mary', '.', '``', 'Mara', 'nyingi', 'mume', 'wangu', 'alikuwa', 'anawapigia', 'wanawake', 'wengine', 'simu', 'nikiwa', 'karibu', 'naye', '.', 'Pia', 'alikuwa', 'na', 'rafiki', 'mwengine', 'wa', 'kike', 'aliyekuwa', 'anamtembelea', 'tulipokuwa', 'tunaishi', ',', \"''\", 'anasema', '.', '``', 'Cha', 'ajabu', 'ni', 'kuwa', 'wangekuwa', 'pamoja', 'usiku', ',', 'huku', 'mimi', 'nikilia', 'pekee', 'yangu', '.', \"''\", 'Mary', 'anasema', 'kuwa', 'hangeondoka', 'kwenye', 'boma', 'la', 'mume', 'wake', ',', 'baba', 'ya', 'mtoto', 'wake', 'kwani', 'angalao', 'kule', 'kulikuwa', 'na', 'chakula', 'na', 'amani', '.', 'Lakini', 'mapenzi', 'ya', 'mume', 'hakuyapata', '.', 'Kwa', 'kipindi', 'cha', 'miaka', 'mitatu', 'aliishi', 'kwa', 'kunyimwa', 'penzi', 'na', 'mume', 'wake', 'na', 'ilifika', 'wakati', 'yule', 'mume', 'wake', 'alimfukuza', 'pale', 'nyumbani', '.', 'Mary', 'na', 'mtoto', 'wake', 'wa', 'kike', 'walikuwa', 'hawana', 'pa', 'kwenda', '.', 'Ni', 'mwanamke', 'mmoja', 'Msamaria', 'mwema', 'aliyempa', 'pa', 'kuishi', 'na', 'vibarua', 'vya', 'hapa', 'na', 'pale', 'kukidhi', 'mahitaji', 'yake', 'ya', 'kila', 'siku', '.', 'Uraibu', 'wa', 'ngono', 'Mary', 'alipoanza', 'kuishi', 'kivyake', ',', 'mwaka', 'wa', '2018', 'alianza', 'kuwa', 'na', 'tabia', 'isio', 'ya', 'kawaida', '.', 'Mary', 'anasema', 'kuwa', 'alitamani', 'kushiriki', 'tendo', 'la', 'ngono', 'na', 'watu', 'tofauti', '.', 'Mary', 'anasema', 'kuwa', 'kwa', 'kila', 'siku', 'wakati', 'huo', 'alikuwa', 'hakosi', 'kushiriki', 'ngono', '.', '``', 'Mwili', 'wangu', 'ulikua', 'na', 'shauku', 'sana', 'ya', 'mapenzi', ',', 'nami', 'nilikuwa', 'na', 'utiifu', '.', 'Kila', 'mwanamume', 'aliyenitongoza', 'kidogo', 'tu', ',', 'hata', 'kama', 'tumepatana', 'naye', 'kwa', 'barabara', 'nilikuwa', 'nakubali', ',', \"''\", 'anasema', '.', 'Anaeleza', 'kuwa', 'ameshiriki', 'tendo', 'la', 'ndoa', 'na', 'wanaume', 'wanaozidi', '50', ',', 'wengi', 'wao', 'wakiwa', 'ni', 'watu', 'ambao', 'hakuwafahamu', '.', 'Wote', 'alikutanishwa', 'nao', 'na', 'hamu', 'ya', 'tendo', 'la', 'ndoa', '.', 'Uraibu', 'huu', 'ulikuwa', 'sugu', 'kwa', 'kiasi', 'cha', 'Mary', 'kutafuta', 'usaidizi', 'kutoka', 'kwa', 'watu', '.', 'Usaidizi', 'wa', 'nasaha', 'na', 'pia', 'kuweka', 'maisha', 'yake', 'yakiwa', 'yamejaa', 'shughuli', 'vilimsaidia', 'kuacha', 'hali', 'hii', '.', '``', 'Nihisi', 'kana', 'kwamba', 'hali', 'ya', 'malezi', 'yangu', ',', 'upweke', 'na', 'kukosa', 'upendwa', 'kulichangia', 'sana', 'mimi', 'kuanza', 'uraibu', 'huu', 'wa', 'ngono', ',', \"''\", 'anasema', '.', '``', 'Nilipokuwa', 'nashiriki', 'ngono', 'na', 'mtu', 'nilijihisi', 'nikiwa', 'na', 'thamani', 'na', 'kukubalika', '.', 'Shida', 'ilikuwa', 'kwamba', 'baada', 'ya', 'ngono', 'wengi', 'walinitoroka', ',', \"''\", 'Mary', 'anakumbuka', '.', 'Harakati', 'za', 'kuacha', 'tabia', 'hii', 'zimemchukua', 'mwaka', 'mmoja', 'sasa', 'tangu', 'Julai', '.', 'Mary', 'anasema', 'katika', 'kipindi', 'hicho', ',', 'amefanikiwa', 'kutoshiriki', 'tendo', 'la', 'ndoa', '.', 'Maelezo', 'ya', 'picha', ',', 'Sadaka', 'Gandi', ',', 'mshauri', 'nasaha', 'Tanzania', 'Bi', 'Sadaka', 'Gandi', 'kutoka', 'Dar', 'es', 'Salaam', ',', 'Tanzania', 'ambaye', 'ni', 'mshauri', 'nasaha', 'anasema', 'kuwa', 'ishara', 'za', 'Bi', 'Mary', 'zinaonyesha', 'wazi', 'mtoto', 'aliyenyimwa', 'penzi', 'la', 'wazazi', 'na', 'ya', 'kukataliwa', 'na', 'watu', '.', 'Anasema', 'kuwa', 'wengi', 'wa', 'watoto', 'wanaonyimwa', 'pendo', 'la', 'wazazi', 'hukabiliwa', 'na', 'matatizo', 'ya', 'kutangamana', 'vyema', 'na', 'watu', 'katika', 'jamii', 'wakati', 'wa', 'utu', 'uzima', 'wao', '.', 'Bi', 'Sadaka', 'anasema', 'kuwa', 'ule', 'uraibu', 'wake', 'Mary', 'ulikuwa', 'ni', 'ishara', 'ya', 'matatizo', 'ya', 'hisia', 'na', 'mahangaiko', 'ya', 'kutafuta', 'penzi', 'na', 'kukubalika', '.', 'Anasema', 'inawezekana', 'mtu', 'mwenye', 'uraibu', 'wa', 'mihemko', 'ya', 'ngono', 'kila', 'wakati', 'kubadilika', ',', 'kwa', 'kuanza', 'kujielewa', 'na', 'kusahau', 'ya', 'kale', ',', 'kwa', 'kutafuta', 'njia', 'za', 'kujikubali', '.', 'Lakini', 'pia', 'ni', 'muhimu', 'kutafuta', 'usaidizi', 'kutoka', 'kwa', 'daktari', 'wa', 'masuala', 'ya', 'kiakili', 'na', 'kisaikolojia', '.', 'Mwanasaikolojia', 'husaidia', 'kuzungumza', 'na', 'mtu', 'kuhusu', 'mambo', 'yaliyojificha', 'katika', 'undani', 'na', 'mtu', 'anapofunguka', ',', 'hilo', 'husaidia', 'safari', 'ya', 'kujinasua', '.']\n",
      "\n",
      " Number of Words:  921\n"
     ]
    }
   ],
   "source": [
    "file=\"20aug12_1.txt\"\n",
    "\n",
    "# calling the function and storing the contents in a text variable \n",
    "text = get_document(\"https://www.bbc.com/swahili/habari-53747220\")\n",
    "\n",
    "# calling the store_ document function \n",
    "store_document(doc=text,name=file)\n",
    "\n",
    "#add the words in this file to the total_corpus_words, to keep count of the number of words in the corpus\n",
    "total_corpus_words+=total_words(file)"
   ]
  },
  {
   "cell_type": "code",
   "execution_count": 25,
   "metadata": {},
   "outputs": [
    {
     "data": {
      "text/plain": [
       "308608"
      ]
     },
     "execution_count": 25,
     "metadata": {},
     "output_type": "execute_result"
    }
   ],
   "source": [
    "total_corpus_words"
   ]
  },
  {
   "cell_type": "code",
   "execution_count": 26,
   "metadata": {},
   "outputs": [
    {
     "name": "stdout",
     "output_type": "stream",
     "text": [
      "['Je', 'uhusiano', 'wa', 'Rwanda', 'na', 'Burundi', 'utarejea', '?', 'Mamlaka', 'ya', 'Rwanda', 'inasema', 'kuwa', 'ina', 'wasiwasi', 'kama', 'Burundi', 'itarejesha', 'uhusiano', 'na', 'nchi', 'yake', 'baada', 'ya', 'rais', 'mpya', 'wa', 'Burundi', 'kusema', '“', 'kamwe', 'hawatakuwa', 'na', 'uhusiano', 'na', 'nchi', 'ambazo', 'hazina', 'msimamo', 'wa', 'kile', 'wanachosema', '”', '.', 'Rais', 'Evariste', 'Ndayishimiye', 'ameishutumu', 'Rwanda', 'kwa', 'kuwateka', 'nyara', 'wakimbizi', 'wa', 'Burundi', 'wapatao', '72,000', ',', 'ambao', 'walikimbilia', 'Rwanda', 'wakati', 'wa', 'migogoro', 'ya', 'kisiasa', 'mwaka', '2015', '.', 'Katika', 'mkutano', 'na', 'waandishi', 'wa', 'habari', ',', 'Waziri', 'wa', 'mambo', 'ya', 'nje', 'nchini', 'Rwanda', ',', 'Vincent', 'Biruta', ',', 'ameonyesha', 'kutokukubaliana', 'na', 'madai', 'ya', 'rais', 'wa', 'Burundi', '.', '“', 'Rwanda', 'ni', 'taifa', 'la', 'tatu', 'ambalo', 'lina', 'wakimbizi', 'wengi', 'wa', 'Burundi', 'hivyo', 'hatuwezi', 'kuwaweka', 'mateka', 'kwa', 'sababu', 'hata', 'wakimbizi', 'wa', 'nchi', 'nyingine', 'waliondoka.', '”', 'alisema', 'bwana', 'Biruta', '.', 'Bwana', 'Biruta', 'aliongeza', 'kuwa', 'Rwanda', 'inataka', 'uhusiano', 'mzuri', 'na', 'majirani', 'zake', 'haswa', 'Burundi', ',', 'lakini', 'hotuba', 'ya', 'rais', 'wa', 'Burundi', 'inawapa', 'wasiwasi', '.', 'Tangu', 'mwaka', '2015', ',', 'uhusiano', 'wa', 'Rwanda', 'na', 'rais', 'wa', 'zamani', 'wa', 'Burundi', 'Pierre', 'Nkurunziza', ',', 'haukuwa', 'mzuri', 'na', 'hivyo', 'kuathiri', 'familia', 'na', 'shughuli', 'za', 'mpakani', '.', 'Jeshi', 'la', 'Tanzania', 'lawataka', 'wananchi', 'kuondoka', 'katika', 'misitu', 'ya', 'mpaka', 'wa', 'Msumbiji', 'Getty', 'ImagesCopyright', ':', 'Getty', 'Images', 'Jeshi', 'la', 'Tanzania', 'limewataka', 'raia', 'wanaoishi', 'katika', 'maeneo', 'ya', 'pori', 'karibu', 'na', 'mpaka', 'wa', 'Msumbuji', 'kuhama', 'eneo', 'hilo', 'wakati', 'wakijiandaa', 'kupambana', 'dhidi', 'ya', 'wanamgambo', ',', 'kwa', 'mujibu', 'wa', 'gazeti', 'la', 'kila', 'siku', 'nchini', 'Tanzania', ',', 'The', 'Citizen', '.', 'Mkuu', 'wa', 'operesheni', 'hiyo', 'alisema', 'jeshi', 'litaanza', 'kuwatafuta', 'wahalifu', 'katika', 'pori', 'la', 'Ruvuma', ',', 'na', 'baadae', 'Mtwara', 'na', 'Lindi', '.', 'Mwezi', 'Mei', ',', 'Tanzania', 'ilipeleka', 'majeshi', 'yake', 'katika', 'mikoa', 'hiyo', 'ya', 'mpakani', 'baada', 'ya', 'kuibuka', 'kwa', 'shambulio', 'la', 'lililotekelezwa', 'na', 'wapiganaji', 'wa', 'kiislamu', 'kaskazini', 'mwa', 'Msumbiji', '.', 'Wapiganaji', 'hao', 'tayari', 'wamevamia', 'miji', 'kadhaa', 'na', 'kuua', 'mamia', 'ya', 'watu', 'na', 'maelfu', 'kuhama', 'makazi', 'yao', '.', 'Uchumi', 'wa', 'Uingereza', 'wadorora', 'kwa', 'kiwango', 'kikubwa', 'zaidi', 'baada', 'ya', 'miaka', '11', 'Getty', 'ImagesCopyright', ':', 'Getty', 'Images', 'Uchumi', 'wa', 'Uingereza', 'umekumbwa', 'na', 'pigo', 'kubwa', 'zaidi', 'kurekodiwa', 'kati', 'ya', 'mwezi', 'Aprili', 'na', 'Juni', 'wakati', 'ambapo', 'kulikuwa', 'na', 'marufuku', 'ya', 'kutoka', 'nje', 'ili', 'kuzuia', 'maambukizi', 'ya', 'corona', '.', 'Kipindi', 'hicho', 'kimelifanya', 'taifa', 'hilo', 'kushuka', 'kiuchumi', 'rasmi', '.', 'Uchumi', 'umeshuka', 'kwa', '20.4', '%', 'ukilinganisha', 'na', 'miezi', 'mitatu', 'ya', 'mwanzo', 'ya', 'mwaka', 'huu', '.', 'Maduka', 'yamelazimika', 'kufungwa', 'wakati', 'viwanda', 'na', 'vifaa', 'vya', 'ujenzi', 'pia', 'vikiwa', 'havina', 'soko', '.', 'Hali', 'hii', 'imeisukuma', 'Uingereza', 'kwa', 'mara', 'kwanza', 'kushuka', 'kiuchumi', 'tangu', 'mwaka', '2009', '.', 'Ofisi', 'ya', 'takwimu', 'ya', 'taifa', '(', 'ONS', ')', 'zimesema', 'uchumi', 'unaweza', 'kurudi', 'katika', 'hali', 'yake', 'mwezi', 'Juni', 'kwa', 'kuwa', 'serikali', 'imeanza', 'kupunguza', 'masharti', 'na', 'mizunguko', 'kuanza', '.', 'Ndani', 'ya', 'mwezi', 'hadi', 'mwezi', ',', 'uchumi', 'umekuwa', 'kwa', 'asilimia', '8.7', 'kwa', 'mwezi', 'Juni', ',', 'baada', 'ya', 'ongezeko', 'la', 'asilimia', '1.8', 'mwezi', 'Mei', '.', 'Lakini', 'mkuu', 'wa', 'Tume', 'ya', 'takwimu', 'ya', 'taifa', ',', 'bwana', 'Jonathan', 'Athow', 'alisema', ',', 'licha', 'ya', 'pato', 'jumla', 'la', 'taifa', 'kushuka', 'mwezi', 'Juni', ',', 'bado', 'ipo', 'nyuma', 'kwa', 'kiwango', 'cha', 'sita', 'mwezi', 'Februari', 'kabla', 'ya', 'virusi', 'vya', 'corona', 'havijajapamba', 'moto', '.', 'Watu', '81', 'wauawa', 'katika', 'zoezi', 'la', 'kukabidhi', 'silaha', 'Sudan', 'Kusini', 'Mamlaka', 'ya', 'Sudan', 'Kusini', 'imesema', 'kuwa', 'takribani', 'watu', '81', 'wamekiwemo', 'raia', '26', 'wameuawa', 'katika', 'mapigano', 'kati', 'ya', 'raia', 'wenye', 'silaha', 'na', 'wanajeshi', ',', 'wakati', 'wa', 'zoezi', 'la', 'kurejesha', 'silaha', '.', 'Msemaji', 'wa', 'jeshi', 'amesema', 'askari', '30', 'ndio', 'wamefariki', 'na', 'wengine', 'wamejeruiwa', '.', 'Vyombo', 'vya', 'habari', 'vya', 'ndani', 'vimeripoti', 'kuwa', 'watu', 'wapatao', '130', 'wameuawa', '.', 'Serikali', 'ilikuwa', 'inafanya', 'zoezi', 'la', 'kuchukua', 'silaha', 'ambazo', 'zinamilikiwa', 'na', 'raia', 'baada', 'ya', 'rais', 'Salva', 'Kiir', 'kutangaza', 'mwezi', 'Julai', 'kuwa', 'zoezi', 'hilo', 'lifanyike', 'ili', 'kusaidia', 'kumaliza', 'vita', 'ya', 'wenyewe', 'kwa', 'wenyewe', 'kwa', 'kuziondoa', 'silaha', 'mikononi', 'mwa', 'raia', '.', 'Inadhaniwa', 'kuwa', 'kuna', 'mamilioni', 'ya', 'bunduki', 'zinazomilikiwa', 'na', 'raia', '.', 'Lakini', 'baadhi', 'ya', 'raia', 'ambao', 'ni', 'jamii', 'ya', 'wafugaji', ',', 'wanataka', 'serikali', 'kuwahakikisha', 'usalama', 'wao', 'kabla', 'hawajakabidhi', 'bunduki', 'zao', '.', 'Muigizaji', 'wa', 'filamu', 'nchini', 'Marekani', 'Dwayne', 'Johnson', ',', 'maarufu', '``', 'The', 'Rock', \"''\", 'ametajwa', 'kuwa', 'muigizaji', 'wa', 'kiume', 'anayelipwa', 'kiasi', 'kikubwa', 'zaidi', 'cha', 'fedha', 'kwa', 'mwaka', 'wa', 'pili', 'sasa', ',', 'kwa', 'mujibu', 'wa', 'jarida', 'la', 'Forbes', '.', 'Mwanamieleka', 'huyo', 'wa', 'zamani', 'ameriptiwa', 'kupokea', 'kiasi', 'cha', 'dola', 'milioni', '87.5', '(', '£67m', ')', 'kati', 'ya', 'Juni', 'Mosi', ',', '2019', 'na', 'Juni', 'Mosi', ',', '2020', ',', 'ikijumlisha', 'na', 'malipo', 'ya', 'filamu', 'ya', 'kwenye', 'Netflix', 'ya', '‘', 'RedNotice', '’', 'ambayo', 'ni', 'dola', 'milioni', '23.5', '.', 'Muigizaji', 'huyo', 'pia', 'ana', 'kampuni', 'ya', 'kutengeneza', 'nguo', ',', 'iitwayo', '‘', 'Project', 'Rock', '’', '.', 'Waigizaji', '10', 'wanaolipwa', 'kiwango', 'cha', 'juu', 'mwaka', 'huu', 'jumla', 'wamepata', 'dola', 'milioni', '545.5', '–zaidi', 'ya', 'robo', 'inayopatikana', 'kutoka', 'kwenye', 'Netflix', ',', 'Forbes', 'imesema', '.', 'Nyota', 'wa', 'filamu', 'ya', 'Red', 'Notice', ',', 'Johnson', 'pamoja', 'na', 'muigizaji', 'mwenzake', 'Ryan', 'Reynolds', 'walikuwa', 'waigizaji', 'wa', 'pili', 'kupata', 'kiwango', 'cha', 'juu', 'zaidi', 'ya', 'malipo', 'ya', 'dola', 'milioni', '71.5', '.', 'Miongoni', 'mwa', 'mikataba', 'ya', 'filamu', 'zake', 'ilikuwa', 'dola', 'milioni', '20', ',', 'pamoja', 'na', 'filamu', 'ya', \"'Red\", 'Notice', \"'\", ',', 'na', 'dola', 'milioni', '20', 'kwa', 'filamu', 'nyingine', 'ambayo', 'haijulikani', 'katika', 'filamu', 'za', 'Netflix', '.', 'Watatu', 'alikuwa', 'muigizaji', 'na', 'muandaaji', ',', 'Mark', 'Wahlberg', ',', 'ambaye', 'alipata', 'dola', 'milioni', '58', ',', 'wakati', 'Ben', 'Afflecka', 'akawa', 'wanne', 'na', 'nafasi', 'ya', 'tano', 'akachukua', 'Vin', 'Diesel', '.', 'Muigizaji', 'wa', 'India', ',', 'Akshay', 'Kumar', 'ndio', 'msanii', 'pekee', 'kutoka', 'Bollywood', 'aliyekuepo', 'katika', '10', 'bora', '.', 'Yeye', 'alikuwa', 'wa', 'sita', 'kwa', 'kiwango', 'cha', 'dola', 'milioni', '48.5', ',', 'ambacho', 'jarida', 'la', 'Forbes', 'lilisema', 'kimetoka', 'katika', 'mikataba', 'yake', 'ya', 'bidhaa', 'nyingine', '.', 'Katika', 'orodha', 'hiyo', 'alikepo', 'mbunifu', 'wa', 'Hamilton', ',', 'Lin-Manuel', 'Miranda', ',', 'actors', 'Will', 'Smith', 'na', 'Adam', 'Sandler', ',', 'na', 'nyota', 'wa', 'filamu', 'ya', 'veteran', 'Jackie', 'Chan', '.', 'Hata', 'hivyo', 'orodha', 'ya', 'muigizaji', 'wa', 'kike', 'anayelipwa', 'kiwango', 'cha', 'juu', 'zaidi', 'bado', 'hakijatolewa', '.', 'Mwaka', 'jana', 'alikuwa', 'Scarlett', 'Johansson', 'ambaye', 'aliongoza', 'kwa', 'kipato', 'cha', 'juu', 'cha', 'dola', 'milioni', '56', '–', 'pungufu', 'ya', 'kiwango', 'hata', 'cha', 'aliyepata', 'muigizaji', 'wa', 'kiume', 'aliyechukua', 'nafasi', 'ya', 'saba', '.', 'Ndege', 'zisizo', 'na', 'rubani', 'kuokoa', 'maisha', 'ya', 'wagonjwa', 'wa', 'saratani', 'Rwanda', 'Sheria', 'ya', 'kutotoka', 'nje', 'ili', 'kudhibiti', 'maambukizi', 'ya', 'Covid19', 'nchini', 'Rwanda', ',', 'iliruhusu', 'mpango', 'mpya', 'kwa', 'wagonjwa', 'wa', 'saratani', 'kupata', 'dawa', 'za', 'kuwasaidia', 'kwa', 'kutumia', 'ndege', 'zisizo', 'na', 'marubani', 'maarufu', 'kama', 'drones', '.', 'Ndege', 'hizo', 'za', 'kampuni', 'ya', 'Marekani', 'ya', 'Zipline', 'zilianza', 'kufanya', 'kazi', 'nchini', 'Rwanda', 'mwaka', '2016', 'zikisaidia', 'kupeleka', 'damu', 'na', 'dawa', 'katika', 'maeneo', 'ya', 'vijiji', 'vilivyotengwa', 'na', 'maeneo', 'mengine', '.', 'Lakini', 'sasa', 'zimeanza', 'kuwahudumia', 'wagonjwa', 'wa', 'saratani', 'ambao', 'maisha', 'yao', 'yangekuwa', 'hatarini', 'bila', 'kumuona', 'daktari', '.', '‘', '’', 'Wakati', 'wa', 'sheria', 'ya', 'kutotoka', 'nje', 'tuliona', 'kwamba', 'ilikuwa', 'ngumu', 'kwa', 'wagonjwa', 'kusafiri', 'kwenda', 'hospitalini', 'kwa', 'ajili', 'ya', 'kupata', 'dawa', 'za', 'kansa', 'kwa', 'sababu', 'lazima', 'watibiwe', 'na', 'wataalamu', '’', '’', 'Daktari', 'Bigirimana', 'Jean', 'Bosco', 'aliiambia', 'BBC', 'ZiplineCopyright', ':', 'Zipline', 'Ndege', 'za', 'kampuni', 'ya', 'Zipline', 'hufanya', 'safari', 'zaidi', 'ya', '20', 'kwa', 'siku', 'kusambaza', 'dawa', 'katika', 'vijiji', 'vya', 'masharikiya', 'Rwanda', 'ambako', 'ni', 'vigumu', 'kwa', 'safari', 'za', 'gari', '.', '‘', '’', 'Ndege', 'ikifika', 'katika', 'hospitali', 'au', 'zahanati', 'hudondosha', 'kifurushi', 'cha', 'dawa', 'kwa', 'njia', 'ya', 'kielectroniki', 'kisha', 'inarudi', 'yenyewe', 'katika', 'kituo', 'chake', 'cha', 'kupakia', 'dawa', 'nyingine.Hii', 'ndiyo', 'njia', 'salama', 'ambayo', 'pia', 'inapunguza', 'urefu', 'wa', 'safari.drone', 'hutumia', 'dakika', '45', 'kwa', 'safari', 'ya', 'masaa', '6', 'ya', 'kutumia', 'gari', '‘', '’', 'Blaise', 'Musabe', 'ni', 'mfanyakazi', 'wa', 'kampuni', 'hiyo', 'amefafanua', '.', 'ZiplineCopyright', ':', 'Zipline', 'Kwa', 'upande', 'wao', 'wagonjwa', 'mpango', 'huu', 'umeonekana', 'kuwa', 'neema', 'kwao', '.', '‘', '’', 'Drone', 'ilitusaidia', 'sana', 'kutufikishia', 'dawa', 'hapa', 'nyumbani', ',', 'tulipopokea', 'sheria', 'ya', 'kutotoka', 'nje', 'kutokana', 'na', 'covid19', 'nilianza', 'kuingiwa', 'na', 'wasiwasi', 'kwamba', 'maisha', 'yangu', 'yatakuwa', 'hatarini', '.', 'Awali', 'nilikuwa', 'natumia', 'kama', 'dola', '30', 'kulipia', 'nauli', ',', 'hapo', 'sijataja', 'uchovu', 'wa', 'safari', 'pamoja', 'na', 'kuacha', 'biashara', 'zangu', ',', 'nafurahi', 'sana', 'mpango', 'huu', 'unatusaidia', '’', '’', 'Marie', 'Louise', 'Kagoyire', ',', 'ni', 'mgonjwa', 'wa', 'kansa', 'ya', 'damu', '.', 'Tangu', 'mwezi', 'Aprili', ',', 'wagonjwa', 'zaidi', '270', 'wa', 'kansa', 'tayari', 'wamesaidiwa', 'kwa', 'kufikishiwa', 'dawa', 'na', 'drone', '.', 'Namibia', 'yakataa', 'fidia', 'ya', 'mauaji', 'ya', 'kimbari', 'iliyotolewa', 'na', 'Ujerumani', 'Rais', 'wa', 'Namibia', 'Hage', 'Geingob', 'amekataa', 'kupokea', 'fidia', 'iliyotolewa', 'na', 'Ujerumani', 'kwa', 'ajili', 'ya', 'mauaji', 'ya', 'kimbari', 'wakati', 'wa', 'ukoloni', '.', 'Jeshi', 'la', 'Ujerumani', 'liliuwa', 'mamia', 'ya', 'maelfu', 'ya', 'watu', 'wa', 'jamii', 'ya', 'Herero', 'na', 'jamii', 'ya', 'Nama', 'kati', 'ya', 'mwaka', '1904', 'na', 'mwaka', '1908', ',', 'wakati', 'wa', 'ghasia', 'za', 'kupinga', 'ukoloni', '.', 'Inadaiwa', 'pia', 'kuwa', 'asilimia', 'sabini', 'na', 'tano', '(', '75', '%', ')', 'ya', 'idadi', 'ya', 'watu', 'wa', 'Herero', 'na', 'nusu', 'ya', 'idadi', 'watu', 'wa', 'Nama', 'waliuawa', '.', 'Nchi', 'hizo', 'mbili', 'zilianza', 'majadiliano', 'juu', 'ya', 'fidia', 'ya', 'kimbari', 'tangu', 'mwaka', '2015', 'na', 'tayari', 'wamekuwa', 'na', 'mazungumzo', 'mara', 'nane', 'hadi', 'sasa.Rais', 'Geingob', 'alikuwa', 'anatoa', 'muktasari', 'wa', 'majadiliano', 'hayo', 'kati', 'ya', 'timu', 'ya', 'majadiliano', 'ya', 'Namibia', 'na', 'wawakilishi', 'kutoka', 'Zed', 'Ngavirue', '.', '``', 'Fidia', 'iliyotolewa', 'sasa', 'na', 'serikali', 'ya', 'Ujerumani', 'bado', 'haijakubaliwa', 'na', 'serikali', 'ya', 'Namibian', ',', \"''\", 'taarifa', 'kutoka', 'kwa', 'Rais', 'ilieleza', '.', 'Aidha', 'hakukuwa', 'na', 'maelezo', 'zaidi', 'yaliyotolewa', 'kufafanua', 'uamuzi', 'huo', '.', '``', 'Ujerumani', 'imekubali', 'kuomba', 'radhi', 'lakini', 'imekataa', 'kufikia', 'maafikiano', 'kati', 'yao', 'ya', 'kuuguza', 'majeraha', 'waliyoyaacha', '”', ',', 'taarifa', 'hiyo', 'iliongeza', '.', 'Ukurasa', 'wa', 'Twitter', 'wa', 'ofisi', 'ya', 'rais', 'wa', 'Namibia', 'uliweka', 'picha', 'ya', 'rais', 'Geingob', 'na', 'Ngavirue', '.']\n",
      "\n",
      " Number of Words:  1450\n"
     ]
    }
   ],
   "source": [
    "file=\"20aug12_2.txt\"\n",
    "\n",
    "# calling the function and storing the contents in a text variable \n",
    "text = get_document(\"https://www.bbc.com/swahili/live/habari-53748122\")\n",
    "\n",
    "# calling the store_ document function \n",
    "store_document(doc=text,name=file)\n",
    "\n",
    "#add the words in this file to the total_corpus_words, to keep count of the number of words in the corpus\n",
    "total_corpus_words+=total_words(file)"
   ]
  },
  {
   "cell_type": "code",
   "execution_count": 27,
   "metadata": {},
   "outputs": [
    {
     "data": {
      "text/plain": [
       "310058"
      ]
     },
     "execution_count": 27,
     "metadata": {},
     "output_type": "execute_result"
    }
   ],
   "source": [
    "total_corpus_words"
   ]
  },
  {
   "cell_type": "code",
   "execution_count": 28,
   "metadata": {},
   "outputs": [
    {
     "name": "stdout",
     "output_type": "stream",
     "text": [
      "['Israel', 'na', 'UAE', 'wamekubaliana', 'kuimarisha', 'uhusiano', 'wao', ',', 'rais', 'wa', 'Marekani', 'Donald', 'Trump', 'ametangaza', '.', 'Taarifa', 'ya', 'pamoja', 'iliotolewa', 'na', 'Trump', ',', 'waziri', 'mkuu', 'wa', 'Israel', 'Benjamin', 'Netanyahu', 'na', 'mwanamfalme', 'wa', 'Abu', 'Dhabi', 'Mohammed', 'bin', 'Zayed', 'imesema', 'kwamba', 'inatumai', 'kwamba', 'makubaliano', 'hayo', 'ya', 'kihistoria', 'yataleta', 'amani', 'katika', 'eneo', 'la', 'mashariki', 'ya', 'kati', '.', 'Kutokana', 'na', 'hilo', ',', 'waliongezea', ',', 'Israel', 'itasimamisha', 'mipango', 'yake', 'ya', 'kuyanyakua', 'maeneo', 'zaidi', 'ya', 'ukanda', 'wa', 'Gaza', '.', 'Hadi', 'kufikia', 'sasa', 'Israel', 'ilikuwa', 'haina', 'uhusiano', 'wa', 'kidiplomasia', 'na', 'mataifa', 'ya', 'kiarabu', 'yalio', 'katika', 'Ghuba', '.', 'Mesut', 'Ozil', ':', 'Hakuna', 'mtu', 'atakayenilazimisha', 'kuondoka', 'Arsenal', 'Kiungo', 'wa', 'kati', 'wa', 'klabu', 'ya', 'Arsenal', 'Mesut', 'Ozil', 'anasema', 'kwamba', 'atasalia', 'katika', 'klabu', 'hiyo', 'hadi', 'siku', 'ya', 'mwisho', 'ya', 'kandarasi', 'yakemwezi', 'Juni', '2021', '.', 'Mchezaji', 'huyo', 'wa', 'zamani', 'wa', 'Ujerumani', 'mwenye', 'umri', 'wa', 'miaka', '31', ',', 'hajashirikishwa', 'kuichezea', 'timu', 'yake', 'tangu', 'ligi', 'ya', 'Premia', 'kurudi', 'mwezi', 'Juni', ',', 'huku', 'mkufunzi', 'wa', 'Arsenal', 'akidai', 'ni', 'kutokana', 'na', 'sababu', 'za', 'mchezo', 'huo', '.', 'Lakini', 'Ozil', 'alikana', 'ripoti', 'kwamba', 'klabu', 'hiyo', 'ilikuwa', 'tayari', 'kumlipa', 'mshahara', 'wake', 'wa', 'mwisho', 'wa', '£350,000', 'kwa', 'wiki', '.', 'Bwana', 'Biruta', 'aliwaambia', 'waandishi', 'wa', 'habari', 'katika', 'mji', 'mkuu', 'wa', 'Kigali', 'kwamba', ',', 'Rwanda', 'inataka', 'uhusiano', 'mzuri', 'na', 'majirani', 'zakehususan', 'Burundi', ',', 'lakini', 'akatilia', 'shaka', 'hatua', 'ya', 'taifa', 'hilo', 'kuimarisha', 'uhusiano', 'wao', '.', 'Tetemeko', 'la', 'ardhi', 'Tanzania', ':', \"'Kiti\", 'changu', 'kiliyumba', 'upande', 'upande', 'Nairobi', '’', 'Raia', 'wa', 'Tanzania', 'na', 'wenzao', 'wa', 'Kenya', 'wamekuwa', 'wakichapisha', 'jumbe', 'za', 'twitter', 'kuhusu', 'walichoshuhudia', 'wakati', 'tetemeko', 'la', 'ardhi', 'lenye', 'nguvu', 'za', '6.0', 'katika', 'vipimo', 'vya', 'Ritcher', 'lilipopiga', 'mji', 'wa', 'kibiashara', 'nchini', 'Tanzania', 'Dar', 'es', 'Salaam', '.', 'Mawimbi', 'ya', 'tetemeko', 'hilo', 'yalisikika', 'katika', 'maeneo', 'ya', 'pwani', 'ya', 'Kenya', 'na', 'mji', 'mkuu', 'wa', 'Nairobi', 'siku', 'ya', 'Jumatano', 'jioni', '.', 'Mustakabali', 'wa', 'wakimbizi', 'wa', 'Burundi', 'waliko', 'Rwanda', 'kujadiliwa', 'Shirika', 'la', 'umoja', 'wa', 'mataifa', 'la', 'wakimbizi', '(', 'UNHCR', ')', 'nchini', 'Rwanda', 'limetangaza', 'kuwa', 'na', 'mkutano', 'wa', 'kwanza', 'wa', 'kujadili', 'suala', 'la', 'wakimbizi', 'wa', 'Burundi', 'walioko', 'Rwanda', '.', 'Mkutano', 'huo', 'umepangwa', 'kufanyika', 'leo', 'baina', 'ya', 'pande', 'tatu', ';', 'Rwanda', ',', 'Burundi', 'na', 'shirika', 'hilo', '.', 'Mkutano', 'huo', 'unaofanyika', 'kwa', 'njia', 'ya', 'Video', 'umekuja', 'baada', 'ya', 'maombi', 'ya', 'baadhi', 'ya', 'wakimbizi', 'wa', 'Burundi', 'kutaka', 'kurejea', 'nchini', 'mwao', 'na', 'pia', 'shutuma', 'za', 'serikali', 'ya', 'Burundi', 'kwamba', 'wakimbizi', 'walishikwa', 'mateka', 'nchini', 'Rwanda', '.', 'Wakati', 'huo', 'huo', 'waziri', 'wa', 'mambo', 'ya', 'nchi', 'za', 'nje', 'wa', 'Rwanda', 'Vicent', 'Biruta', 'ameilaumu', 'Burundi', 'kukosa', 'utashi', 'wa', 'kisiasa', 'katika', 'kurejesha', 'uhusiano', 'kati', 'ya', 'nchi', 'mbili', '.', 'Tetemeko', 'la', 'ardhi', 'Tanzania', 'limetokea', 'wapi', '?', 'Tetemeko', 'la', 'ardhi', 'lenye', 'ukubwa', 'wa', 'kipimo', 'cha', '5.9', 'Jumatano', 'usiku', 'limetikisa', 'baadhi', 'ya', 'maeneo', 'ya', 'Tanzania', 'hususani', 'ukanda', 'wa', 'pwani', 'na', 'kishindo', 'chake', 'Kufika', 'mpaka', 'katika', 'baadhi', 'ya', 'maeneo', 'ya', 'nchi', 'jirani', 'ya', 'Kenya', '.', 'Kwa', 'mujibu', 'wa', 'taasisi', 'ya', 'uchunguzi', 'wa', 'jiolojia', 'ya', 'Marekani', ',', \"'US\", 'Geological', 'Survey', '(', 'USGS', ')', \"'\", ',', 'kitovu', 'cha', 'tetemeko', 'hilo', 'ilikuwa', 'katika', 'eneo', 'lililopo', 'kilomita', '66', 'mashariki', 'mwa', 'mji', 'mdogo', 'wa', 'Vikindu', ',', 'Mkoani', 'Pwani', '.', 'Eneo', 'hilo', 'ni', 'nje', 'kidogo', 'ya', 'jiji', 'kuu', 'la', 'biashara', 'la', 'Tanzania', ',', 'Dar', 'es', 'Salaam', '.', 'Tetemeko', 'hilo', 'lilipiga', 'katika', 'kina', 'cha', 'kilomita', '15.5', '(', 'maili', '9.6', ')', '.', 'Hakuna', 'uharibifu', 'wowote', 'ulioripotiwa', 'baada', 'ya', 'tetemeko', 'hilo', '.', 'Kishindo', 'kilisikika', 'katika', 'pwani', 'ya', 'Kenya', 'Mombasa', 'na', 'baadhi', 'ya', 'maeneo', 'ya', 'Nairobi', '.', 'Tetemeko', 'hilo', 'imekuja', 'siku', 'chache', 'baada', 'ya', 'wakazi', 'wanaoishi', 'pembezoni', 'mwa', 'ziwa', 'Baringo', 'nchini', 'Kenya', 'kuripotiwa', 'kuwa', 'na', 'tetemeko', 'baada', 'ya', 'kiwango', 'cha', 'maji', 'kujaa', 'kwa', 'sababu', 'ya', 'mvua', 'zinazoendelea', '.', 'Tetemeko', 'hilo', 'liliripotiwa', 'na', 'wanaoishi', 'huko', 'kilomita', '7', 'kutoka', 'ziwani', 'na', 'inadaiwa', 'kuwa', 'tetemeko', 'lilitokea', 'kila', 'usiku', 'kwa', 'wiki', 'mbili', 'zilizopita', '.', '‘', 'Hakuna', 'tishio', 'la', 'Tsunami', 'Tanzania', '’', 'Mamlaka', 'ya', 'Hali', 'ya', 'Hewa', 'Tanzania', '(', 'TMA', ')', 'imesema', 'hakuna', 'tishio', 'la', 'kutokea', 'kwa', 'mawimbi', 'makubwa', 'ya', 'tsunami', 'nchini', 'humo', 'kufuatia', 'tetemeko', 'la', 'ardhi', 'la', 'Jumatano', 'usiku', '.', 'Tetemeko', 'la', 'ukubwa', 'wa', 'kipimo', 'cha', '5.9', 'lilitokea', 'saa', 'mbili', 'usiku', 'baharini', 'katika', 'eneo', 'lililopo', 'kusini', 'mashariki', 'mwa', 'Mkoa', 'wa', 'Pwani', '.', 'Kishindo', 'cha', 'tetemeko', 'hilo', 'kimeripotiwa', 'katika', 'maeneo', 'ya', 'jiji', 'la', 'Dar', 'es', 'Salaam', ',', 'Zanzibar', 'na', 'Mombasa', ',', 'Kenya', '.', 'Hata', 'hivyo', ',', 'hakuna', 'madhara', 'makubwa', 'ya', 'miundombinu', 'ama', 'kwa', 'maisha', 'ya', 'binadamu', 'yaliyoripotiwa', 'kufuatia', 'tukio', 'hilo', '.', 'Kutokana', 'na', 'tetemeko', 'hilo', 'kutokea', 'baharini', ',', 'kumekuwa', 'na', 'hofu', 'kuwa', 'linaweza', 'kusababisha', 'mawimbi', 'makubwa', 'ya', 'tsunami', '.', '“', '...', 'Mamlaka', 'ya', 'Hali', 'ya', 'Hewa', 'Tanzania', 'imefanya', 'uchambuzi', 'wa', 'taarifa', 'za', 'tetemeko', 'hilo', 'katika', 'kituo', 'chake', 'cha', 'Tahadhari', 'ya', 'Tsunami', 'ili', 'kuona', 'iwapo', 'kuna', 'uwezekano', 'wowote', 'wa', 'tetemeko', 'hilo', 'kusababisha', 'mawimbi', 'ya', 'Tsunami', 'baharini', '.', 'Matokeo', 'ya', 'uchambuzi', 'huo', 'yanaonesha', 'kuwa', 'hakuna', 'tishio', 'la', 'Tsunami', 'kutokana', 'na', 'tetemeko', 'hilo', ',', '”', 'imeeleza', 'taarifa', 'ya', 'TMA', '.', 'Kwa', 'mujibu', 'wa', 'TMA', 'tetemeko', 'hilo', 'halikuwa', 'nguvu', 'kubwa', 'na', 'hakuna', 'maporomoko', 'ya', 'ardhi', 'yaliyojitokeza', 'baharini', 'ambayo', 'yangeweza', 'kuzalisha', 'tsunami', '.', '“', 'Mamlaka', 'ya', 'Hali', 'ya', 'Hewa', 'Tanzania', 'inawashauri', 'watumiaji', 'wa', 'eneo', 'la', 'bahari', 'ikiwa', 'ni', 'pamoja', 'wananchi', 'wanaoishi', 'katika', 'maeneo', 'yaliyokaribu', 'na', 'bahari', 'ya', 'Hindi', 'kutokuwa', 'na', 'hofu', 'na', 'kuendelea', 'na', 'shughuli', 'kwa', 'kuzingatia', 'taarifa', 'ya', 'hali', 'ya', 'hewa', 'Baharini', 'kama', 'ilivyotolewa', 'awali', 'na', 'Mamlaka', '.', '”']\n",
      "\n",
      " Number of Words:  824\n"
     ]
    }
   ],
   "source": [
    "file=\"20aug13.txt\"\n",
    "\n",
    "# calling the function and storing the contents in a text variable \n",
    "text = get_document(\"https://www.bbc.com/swahili/live/habari-53761397\")\n",
    "\n",
    "# calling the store_ document function \n",
    "store_document(doc=text,name=file)\n",
    "\n",
    "#add the words in this file to the total_corpus_words, to keep count of the number of words in the corpus\n",
    "total_corpus_words+=total_words(file)"
   ]
  },
  {
   "cell_type": "code",
   "execution_count": 29,
   "metadata": {},
   "outputs": [
    {
     "data": {
      "text/plain": [
       "310882"
      ]
     },
     "execution_count": 29,
     "metadata": {},
     "output_type": "execute_result"
    }
   ],
   "source": [
    "total_corpus_words"
   ]
  },
  {
   "cell_type": "code",
   "execution_count": 30,
   "metadata": {},
   "outputs": [
    {
     "name": "stdout",
     "output_type": "stream",
     "text": [
      "['Tetemeko', 'la', 'ardhi', 'Tanzania', ':', 'Raia', 'wa', 'Kenya', 'na', 'Tanzania', 'wasimulia', 'tetemeko', 'la', 'ardhi', 'lililvyotokea', 'Huwezi', 'kusikiliza', 'tena', 'Tetemeko', 'la', 'ardhi', 'Tanzania', ':', 'Raia', 'wa', 'Kenya', 'na', 'Tanzania', 'wasimulia', 'tetemeko', 'la', 'ardhi', 'lililvyotokea', '14', 'Agosti', '2020', 'Raia', 'wa', 'Kenya', 'na', 'wenzao', 'wa', 'Tanzania', 'wamesimulia', 'BBC', 'kuhusu', 'walichoshuhudia', 'wakati', 'tetemeko', 'la', 'ardhi', 'lenye', 'nguvu', 'za', '6.0', 'katika', 'vipimo', 'vya', 'Ritcher', 'lilipopiga', 'mji', 'wa', 'kibiashara', 'nchini', 'Tanzania', 'Dar', 'es', 'Salaam', '.', 'Mawimbi', 'ya', 'tetemeko', 'hilo', 'yalisikika', 'katika', 'maeneo', 'ya', 'pwani', 'ya', 'Kenya', 'na', 'mji', 'mkuu', 'wa', 'Nairobi', 'siku', 'ya', 'Jumatano', 'jioni', '.']\n",
      "\n",
      " Number of Words:  90\n"
     ]
    }
   ],
   "source": [
    "file=\"20aug14.txt\"\n",
    "\n",
    "# calling the function and storing the contents in a text variable \n",
    "text = get_document(\"https://www.bbc.com/swahili/habari-53776825\")\n",
    "\n",
    "# calling the store_ document function \n",
    "store_document(doc=text,name=file)\n",
    "\n",
    "#add the words in this file to the total_corpus_words, to keep count of the number of words in the corpus\n",
    "total_corpus_words+=total_words(file)"
   ]
  },
  {
   "cell_type": "code",
   "execution_count": 31,
   "metadata": {},
   "outputs": [
    {
     "data": {
      "text/plain": [
       "310972"
      ]
     },
     "execution_count": 31,
     "metadata": {},
     "output_type": "execute_result"
    }
   ],
   "source": [
    "total_corpus_words"
   ]
  },
  {
   "cell_type": "code",
   "execution_count": 32,
   "metadata": {},
   "outputs": [
    {
     "name": "stdout",
     "output_type": "stream",
     "text": [
      "['Kenya', ':', 'Je', 'Raila', 'Odinga', 'atauwania', 'urais', 'tena', 'kwa', 'mara', 'ya', 'tano', '?', 'Tangu', 'kuwepo', 'kwa', 'ushirikiano', 'kati', 'ya', 'Rais', 'wa', 'Kenya', 'Uhuru', 'Kenyatta', 'na', 'kiongozi', 'wa', 'upinzani', 'Raila', 'Odinga', 'mnamo', 'Machi', '9', ',', '2018', ',', 'kumekuwepo', 'na', 'maswali', 'chungu', 'nzima', 'kuhusu', 'hatma', 'ya', 'kisiasa', 'ya', 'Bw', '.', 'Raila', 'Odinga', 'katika', 'uchaguzi', 'mkuu', 'wa', 'mwaka', 'wa', '2022', 'nchini', 'Kenya', '.', 'Wengi', 'wamekuwa', 'wakikisia', 'na', 'kujaribu', 'kuweka', 'kwenye', 'mizani', 'suala', 'la', 'iwapo', 'Bw', '.', 'Raila', 'Odinga', 'atakuwa', 'kwenye', 'debe', 'mwaka', 'wa', '2022', 'kuwania', 'Urais', 'kwa', 'mara', 'ya', 'tano', '.', 'Matamshi', 'ya', 'hivi', 'karibuni', 'ya', 'Naibu', 'mwenyekiti', 'wa', 'chama', 'cha', 'Jubilee', 'na', 'ambaye', 'pia', 'ni', 'mwandani', 'wa', 'Rais', 'Kenyatta', 'na', 'Katibu', 'Mkuu', 'wa', 'chama', 'kikuu', 'cha', 'wafanyikazi', 'nchini', 'Kenya', '(', 'COTU', ')', 'Francis', 'Atwoli', 'yanaonekana', 'kuchochea', 'fikra', 'hizi', 'ingawa', 'kinara', 'wa', 'chama', 'cha', 'ODM', 'mwenyewe', 'hajalivalia', 'njuga', 'suala', 'hili', '.', 'Wendani', 'wengi', 'na', 'wafuasi', 'wa', 'kiongozi', 'wa', 'upinzani', 'Bw', '.', 'Raila', 'Odinga', 'wanaamini', 'kwamba', 'ni', 'yeye', 'tu', 'anayeweza', 'kumshinda', 'Naibu', 'Rais', 'William', 'Ruto', ',', 'ambaye', 'uhusiano', 'wake', 'na', 'Rais', 'Kenyatta', 'umeendelea', 'kudorora', 'miezi', 'ya', 'hivi', 'karibuni', ',', 'kwenye', 'uchaguzi', 'wa', '2022', '.', '``', 'Ikiwa', 'kuna', 'mtu', 'ambaye', 'anaweza', 'kumsimamisha', 'huyu', 'mtu', '(', 'Ruto', ')', 'kutokuwa', 'Rais', ',', 'ni', 'aliyekuwa', 'Waziri', 'Mkuu', '.', 'Hakuna', 'mwingine', 'yeyote', '.', \"''\", 'Bw', '.', 'Murathe', 'amenukuliwa', 'akisema', 'mara', 'kwa', 'mara', '.', 'Itakumbukwa', 'kwamba', 'Naibu', 'Rais', ',', 'William', 'Ruto', 'alikuwa', 'akiandaa', 'mikutano', 'mingi', 'ya', 'kisiasa', 'ambayo', 'wengi', 'walioona', 'kama', 'yenye', 'kujitafutia', 'umashuhuri', 'kwa', 'jukwa', 'la', 'kisiasa', 'nchini', 'Kenye', 'na', 'kujiandaa', 'kwa', 'uchaguzi', 'mkuu', 'wa', 'mwaka', 'wa', '2022', '.', 'Miezi', 'ya', 'hivi', 'karibuni', ',', 'Bw', '.', 'Murathe', 'na', 'Seneta', 'wa', 'Siaya', 'James', 'Orengo', 'pia', 'wamekuwa', 'wakitoa', 'matamshi', 'kama', 'haya', 'ya', 'kumuunga', 'mkono', 'Bw', '.', 'Odinga', 'kungangania', 'Urais', 'huku', 'wakisema', 'kuwa', 'Rais', 'Kenyatta', 'na', 'Bw', '.', 'Odinga', 'walikuwa', 'wakiunda', 'muungano', 'ambao', 'ungepelekea', 'kinara', 'wa', 'chama', 'cha', 'ODM', 'kupambana', 'na', 'Naibu', 'Rais', 'William', 'Ruto', 'kwenye', 'uchaguzi', 'mkuu', 'ujao', 'nchini', 'Kenya', '.', 'Bw', '.', 'Murathe', 'amekuwa', 'akieleza', 'kwamba', 'ushirikiano', 'kati', 'ya', 'Rais', 'Kenyatta', 'na', 'Raila', 'Odinga', 'ni', 'jambo', 'muhimu', 'kwa', 'taifa', 'la', 'Kenya', 'na', 'ni', 'kitovu', 'cha', 'msingi', 'wa', 'maendeleo', 'makubwa', 'ya', 'kisiasa', 'nchini', 'kwa', 'miaka', '50', 'ijayo', 'nchini', 'Kenya', '.', 'Jambo', 'hili', 'limeonekana', 'kuashiria', 'kwamba', 'mradi', 'wa', 'BBI', 'na', 'ushirikiano', 'kati', 'ta', 'Rais', 'Kenyatta', 'na', 'Bw', '.', 'Odinga', 'tangu', 'mwaka', 'wa', '2018', 'umekuwa', 'na', 'malengo', 'ya', 'kisiasa', '.', 'Kuna', 'dalili', 'ambazo', 'zimekuwa', 'zikionyesha', 'kuwa', 'ushirikiano', 'baina', 'ya', 'Rais', 'Kenyatta', 'na', 'Bw', '.', 'Odinga', 'haukuwa', 'bure', 'tu', 'bali', 'malengo', 'ya', 'muda', 'mrefu', '.', 'Kwanza', ',', 'tangu', 'ushirikiano', 'wake', 'na', 'Rais', 'Uhuru', 'Kenyatta', 'kuanzia', 'Machi', '9', ',', 'mwaka', 'wa', '2018', ',', 'imekuwa', 'bayana', 'kwamba', 'Bw', '.', 'Odinga', 'ana', 'wadhifa', 'na', 'nafasi', 'maalum', 'kwenye', 'serikali', 'ya', 'Kenya', 'hasa', 'ikizingatiwa', 'uhusiano', 'wake', 'wa', 'karibu', 'na', 'Rais', 'Uhuru', 'Kenyatta', 'ambao', 'umezaa', 'mpango', 'wa', 'maridhiano', 'wa', 'BBI', '.', 'Kuna', 'ishara', 'kwamba', 'BBI', 'ni', 'mhimili', 'mkubwa', 'katika', 'uhusiano', 'wa', 'wawili', 'hao', '.', 'Kabla', 'ya', 'majilio', 'ya', 'Covid-19', ',', 'wawili', 'hawa', 'walikuwa', 'wakifanya', 'mikutano', 'ya', 'kiasiasa', 'pamoja', 'na', 'kuonyesha', 'ishara', 'za', 'kushirikiana', 'pakubwa', 'kwenye', 'shughuli', 'za', 'siasa', 'zao', '.', 'Katika', 'mikutano', 'hiyo', ',', 'Bw', '.', 'Raila', 'Odinga', 'alikuwa', 'akisherehekewa', 'sana', 'kama', 'mwanasiasa', 'shupavu', 'na', 'wakati', 'huo', 'huo', 'kumlinganisha', 'na', 'kumuumbua', 'Naibu', 'Rais', 'Dkt', '.', 'William', 'Ruto', ',', 'na', 'kuwashusha', 'wanasiasa', 'wengine', 'kihadhi', 'kama', 'walio', 'wachanga', 'sana', 'kwenye', 'siasa', 'za', 'Kenya', 'wakilinganishwa', 'na', 'Raila', 'Odinga', '.', 'Kwa', 'upande', 'wake', 'Naibu', 'Rais', ',', 'William', 'Ruto', 'amekuwa', 'akiendelea', 'na', 'kampeini', 'zake', 'akiwashawishi', 'Wakenya', 'kuhusu', 'azma', 'yake', 'ya', 'kuwania', 'Urais', 'mwaka', 'wa', '2022', '.', 'Pili', ',', 'tangu', 'kuingia', 'kwake', 'kwenye', 'ulingo', 'wa', 'siasa', 'za', 'Kenya', ',', 'Bw', '.', 'Raila', 'Odinga', 'hajawahi', 'kuonekana', 'kuwa', 'na', 'nguvu', 'za', 'kisiaza', 'kama', 'zile', 'alizonazo', 'sasa', 'kupitia', 'uhusiano', 'huu', '.', 'Kwa', 'hakika', ',', 'kiongozi', 'huyu', 'wa', 'upinzani', 'hajawahi', 'kuwa', 'na', 'uwezo', 'mkubwa', 'na', 'ushawishi', 'serikalini', 'nchini', 'Kenya', 'hata', 'wakati', 'alipokuwa', 'Waziri', 'Mkuu', 'katika', 'serikali', 'ya', 'Rais', 'Mwai', 'Kibaki', ',', 'ama', 'alipokuwa', 'waziri', 'mara', 'mbili', ',', 'ama', 'hata', 'alipokuwa', 'katibu', 'mkuu', 'wa', 'chama', 'tawala', 'cha', 'Kanu', '.', 'Kihistoria', ',', 'katika', 'siasa', 'za', 'Kenya', ',', 'tangu', 'uhuru', ',', 'hakujawahi', 'kuwepo', 'na', 'mwanasiasa', 'ambaye', 'hajachaguliwa', 'ambaye', 'amewahi', 'kuwa', 'na', 'nguvu', 'na', 'ushawishi', 'mkubwa', 'serikalini', 'miaka', 'miwili', 'kabla', 'ya', 'uchaguzi', 'mkuu', 'kama', 'alivyo', 'Bw', '.', 'Odinga', '.', 'Itakubukwa', 'kwamba', 'Bw', '.', 'Raila', 'Odinga', 'alikuwa', 'na', 'umashuhuri', 'mkubwa', 'miezi', 'ya', 'kuelekea', 'kwenye', 'uchaguzi', 'mkuu', 'wa', 'mwaka', 'wa', '2007', 'ambao', 'ulikumbwa', 'na', 'vita', 'vya', 'ndani', 'kwa', 'ndani', 'na', 'baadaye', 'kuwepo', 'mshirika', 'kama', 'waziri', 'mkuu', 'katika', 'serikali', 'iliyoundwa', 'baadaye', ',', 'chini', 'ya', 'Rais', 'Mwai', 'Kibaki', '.', 'Wakati', 'huo', ',', 'alikuwa', 'akishidana', 'na', 'Rais', 'aliyekuwa', 'mamlakani', ',', 'Mwali', 'Kibaki', '.', 'Tofauti', 'na', 'ilivyokuwa', 'wakti', 'huo', ',', 'sasa', 'Rais', 'aliyepo', 'mamlakani', 'ndiye', 'mshirika', 'wake', 'na', 'mwendani', 'wake', 'mkuu', '.', 'Pia', ',', 'kando', 'na', 'Raila', ',', 'hakuna', 'mwanasiasa', 'yeyote', 'nchini', 'Kenya', 'ambaye', 'hajachaguliwa', 'ambaye', 'amewahi', 'kuwa', 'na', 'ushawishi', 'bila', 'kuwa', 'na', 'afisi', 'kikatiba', 'na', 'muundo', 'msingi', 'vyote', 'ambavyo', 'vinalipwa', 'na', 'ushuru', 'wa', 'Wakenya', '.', 'Bw', '.', 'Raila', 'anayafanya', 'haya', '.', 'Zaidi', 'ni', 'kwamba', ',', 'ni', 'bayana', 'kwamba', 'afisi', 'ya', 'Raila', 'Odinga', ',', 'inashauriwa', 'na', 'kutoa', 'ushauri', 'na', 'mawaziri', ',', 'na', 'wafanyikazi', 'wengine', 'wakuu', 'serikalini', 'kuhusiana', 'na', 'miradi', 'mbali', 'mbali', 'nchini', 'Kenya', '.', 'Pia', ',', 'Bw', '.', 'Odinga', 'huwaagiza', 'wakuu', 'hawa', 'na', 'mawaziri', 'kama', 'kwamba', 'yeye', 'ndiye', 'mkuu', 'wao', '.', 'Hali', 'hii', ',', 'bila', 'shaka', ',', 'ina', 'baraka', 'za', 'Rais', 'Kenyatta', '.', 'Hii', 'inaonyesha', 'kwamba', ',', 'ikiwa', 'atawania', 'Urais', 'nchini', 'Kenya', 'mwaka', 'wa', '2022', ',', 'basi', 'atakuwa', 'mmoja', 'kati', 'ya', 'wale', 'ambao', 'tayari', 'wanaelekeza', 'Kenya', 'na', 'siasa', 'zake', '.', 'Au', 'tuseme', ',', 'labda', 'hii', 'ndiyo', 'BBI', ',', 'gari', 'la', 'kisiasa', 'la', 'Bw', '.', 'Odinga', 'la', 'kumpeleka', 'ikuluni', '?', 'Aidha', ',', 'nguvu', 'na', 'haiba', 'za', 'kiti', 'cha', 'Urais', 'zimetumika', 'kikatiba', 'na', 'kisiasa', ',', 'kichinichini', 'na', 'wazi', ',', 'ili', 'kurahisisha', 'kazi', 'ya', 'kutafuta', 'Urais', 'kwa', 'Raila', 'Odinga', 'Masuala', 'ya', 'mradi', 'wa', 'BBI', 'na', 'ushirikiano', 'kati', 'ya', 'Rais', 'Kenyatta', 'na', 'Bw', '.', 'Odinga', 'ndilo', 'lililopelekea', 'kutengana', 'kisiasa', 'kati', 'ya', 'Rais', 'Kenyatta', 'na', 'naibu', 'wake', ',', 'Dkt', 'William', 'Ruto', '.', 'Kutokana', 'na', 'haya', ',', 'wendani', 'na', 'marafiki', 'wa', 'kisiasa', 'wa', 'Bw', '.', 'Ruto', 'wameondolewa', 'kwenye', 'nyadhifa', 'zao', 'katika', 'bunge', 'la', 'kitaifa', 'na', 'kwenye', 'seneti', '.', 'Hali', 'hii', 'imepelekea', 'Naibu', 'Rais', 'kuonekana', 'kunyanganywa', 'nguvu', 'za', 'kimamlaka', 'na', 'kisiasa', 'huku', 'ukuruba', 'kati', 'ya', 'Rais', 'Kenyatta', 'na', 'kiongozi', 'wa', 'upinzani', 'Raila', 'Odinga', 'ukiendelea', 'kunawiri', '.', 'Rais', 'Kenyatta', 'mwenyewe', 'amenukuliwa', 'mara', 'nyingi', 'akimsifu', 'na', 'kumpa', 'sifa', 'nyingi', 'na', 'kueleza', 'kuwa', 'bila', 'Bw', '.', 'Odinga', ',', 'Kenya', 'haingekuwa', 'na', 'amani', 'iliyonayo', '.', 'Huku', 'Naibu', 'Rais', 'William', 'Ruto', 'akiwa', 'amewekwa', 'kando', 'katika', 'maamuzi', 'muhimu', 'na', 'shughuli', 'za', 'serikali', 'ikiwemo', 'kwenye', 'baraza', 'la', 'mawaziri', ',', 'mikutano', 'ya', 'kisiasa', ',', 'maamuzi', 'muhimu', ',', 'Raila', 'Odinga', 'anaonekana', 'wazi', 'kuwa', 'mwenye', 'wadhifa', 'mkubwa', 'serikalini', ',', 'labda', 'chini', 'tu', 'ya', 'Rais', 'Kenyatta', '.', 'Pia', ',', 'ni', 'bayana', 'kuwa', 'kufika', 'mwaka', 'wa', '2022', ',', 'Mpango', 'wa', 'Rais', 'Uhuru', 'Kenyatta', 'na', 'malengo', 'yake', 'hayatakuwa', 'yamefikiwa', '.', 'Kwa', 'sababu', 'hii', ',', 'njia', 'ya', 'pekee', 'ya', 'kuhakikisha', 'kuwa', 'malengo', 'haya', 'yatafikiwa', ',', 'inavyobainika', ',', 'ni', 'kuhakikisha', 'kuwa', 'kuna', 'uhusiano', 'mzuri', 'kati', 'ya', 'jamii', 'za', 'Agikuyu', 'na', 'Luo', ',', 'uhusiano', 'ambao', 'uliharibika', 'wakati', 'babake', 'alipomsaliti', 'babake', 'Raila', ',', 'Jaramogi', '.', 'Jamii', 'ya', 'Agikuyu', 'imekuwa', 'kimkataa', 'Bw', '.', 'Odinga', 'kisiasa', 'ingawa', 'babake', 'alikataa', 'kuwa', 'waziri', 'mkuu', 'wakati', 'wa', 'ukoloni', ',', 'akisisitiza', 'kuwa', 'hakungekuwepo', 'na', 'uhuru', 'nchini', 'Kenya', 'bila', 'kuachiliwa', 'kwa', 'Kenyatta', 'ambaye', 'alikuwa', 'kizuizini', '.', 'Kutokana', 'na', 'haya', ',', 'Rais', 'Kenyatta', 'anaonekana', 'kutaka', 'kulipa', 'jamii', 'ya', 'waluo', \"'deni\", 'la', 'kisiasa', \"'\", 'ambalo', 'babake', 'alipata', 'kwa', 'kumsaliti', 'Jaramogi', '.', 'Suala', 'linguine', 'ambalo', 'litaonyesha', 'mwelekeo', 'wa', 'kinyanganyiro', 'cha', 'mwaka', 'wa', '2022', 'ni', 'kura', 'ya', 'maamuzi', 'ambayo', 'haijulikani', 'iwapo', 'itakuwepo', 'au', 'la', 'na', 'itafanyika', 'lini', '.', 'Bw', '.', 'Odinga', 'na', 'Rais', 'Kenyatta', 'wamekuwa', 'wakishikilia', 'kwamba', 'kura', 'hii', 'itakuwepo', '.', 'Ikiwa', 'na', 'wakati', 'kura', 'hii', 'ya', 'maamuzi', 'ambayo', 'itakuwa', 'na', 'msingi', 'wake', 'kwenye', 'BBI', 'itafanyika', ',', 'matokeo', 'yake', 'yatakuwa', 'kipimo', 'yakini', 'kuelekea', 'kinyanganyiro', 'cha', 'uchaguzi', 'wa', 'mwaka', 'wa', '2022', '.', 'Hii', 'ni', 'kwa', 'sababu', ',', 'matokeo', 'yake', 'huenda', 'yakaamua', 'mfumo', 'wa', 'serikali', 'ambao', 'utakuwepo', 'hata', 'kabla', 'ya', 'uchaguzi', 'wa', 'mwaka', 'wa', '2022', '.', 'Kwa', 'sababu', 'hii', ',', 'huenda', 'serikali', 'ya', 'mseto', 'ikaundwa', 'na', 'ikifanyika', 'hivi', ',', 'Bw', '.', 'Odinga', 'atakuwa', 'kifua', 'mbele', 'kuelekea', 'uchaguzi', 'wa', '2022', '.', 'Kwa', 'sasa', ',', 'kuna', 'mengi', 'yanayoendelea', 'kufanyika', 'katika', 'siasa', 'za', 'Kenya', 'na', 'yatasaidia', 'sana', 'katika', 'kufikia', 'uamuzi', 'wa', 'iwapo', 'Raila', 'Odinga', 'atawania', 'Urais', 'mwaka', 'wa', '2022', 'au', 'la', '.', 'Pia', 'unaweza', 'kutazama', ':', 'Huwezi', 'kusikiliza', 'tena', 'Maelezo', 'ya', 'sauti', ',', 'Kaka', 'wa', 'Raila', 'Odinga', 'azungumzia', 'tetesi', 'za', 'kuwa', 'yuko', \"ng'ambo\", 'kwa', 'matibabu']\n",
      "\n",
      " Number of Words:  1365\n"
     ]
    }
   ],
   "source": [
    "file=\"20aug15.txt\"\n",
    "\n",
    "# calling the function and storing the contents in a text variable \n",
    "text = get_document(\"https://www.bbc.com/swahili/habari-53775283\")\n",
    "\n",
    "# calling the store_ document function \n",
    "store_document(doc=text,name=file)\n",
    "\n",
    "#add the words in this file to the total_corpus_words, to keep count of the number of words in the corpus\n",
    "total_corpus_words+=total_words(file)"
   ]
  },
  {
   "cell_type": "code",
   "execution_count": 33,
   "metadata": {},
   "outputs": [
    {
     "data": {
      "text/plain": [
       "312337"
      ]
     },
     "execution_count": 33,
     "metadata": {},
     "output_type": "execute_result"
    }
   ],
   "source": [
    "total_corpus_words"
   ]
  },
  {
   "cell_type": "code",
   "execution_count": 34,
   "metadata": {},
   "outputs": [
    {
     "name": "stdout",
     "output_type": "stream",
     "text": [
      "['Virusi', 'vya', 'corona', ':', 'Uvumbuzi', 'kumi', 'wa', 'Kiafrika', 'unaosaidia', 'kupambana', 'na', 'Covid-19', '17', 'Agosti', '2020', 'Chanzo', 'cha', 'picha', ',', 'Ecole', 'Supérieure', 'Polytechnique', 'Dakar', 'Maelezo', 'ya', 'picha', ',', 'Roboti', 'ya', 'gari', 'la', 'Daktari', 'Huku', 'idadi', 'ya', 'watu', 'zaidi', 'ya', 'milioni', 'wakithibitishwa', 'kuwa', 'na', 'maambukizi', 'ya', 'virusi', 'vya', 'coprona', 'Afrika', ',', 'wavumbuzi', 'barani', 'Afrika', 'wamejitokeza', 'kukabiliana', 'na', 'janga', 'kwa', 'aina', 'mbalimbali', 'za', 'ugunduzi', '.', 'Huu', 'hapa', 'ni', 'uvumbuzi', '10', 'tulioweza', 'kukukusanyia', '.', '1', '.', 'Roboti', 'ya', \"'Doctor\", 'Car', \"'\", 'Mwanafunzi', 'kutoka', 'shule', 'ya', 'Dakar', 'Polytechnic', 'School', 'nchini', 'Senegal', 'alijenga', 'roboti', 'inayoweza', 'kufanya', 'mambo', 'mbalimbaliiliyotengenezwa', 'kwa', 'ajili', 'ya', 'kupunguza', 'hatari', 'ya', 'maambukizi', 'ya', 'wahudumu', 'kutoka', 'kwa', 'wagonjwa', 'wa', 'Covid-19', '.', 'Chombo', 'hicho', 'kina', 'kamera', 'na', 'kinaweza', 'kuongozwa', 'kufanya', 'kazi', 'kwa', 'mbali', 'kwa', 'kutumia', 'app', '.', 'Walioitengeneza', 'wanasema', 'inaweza', 'kuzunguka', 'katika', 'vyumba', 'vya', 'wagonjwa', 'waliowekwa', 'karantini', 'kuchukua', 'vipimo', 'vyao', 'vya', 'joto', 'la', 'mwili', 'na', 'kuwapelekea', 'chakula', 'na', 'dawa', '.', '2', '.', 'Mashine', 'ya', 'kunawa', 'mikono', 'Kiosha', 'mikono', 'Chanzo', 'cha', 'picha', ',', 'James', 'Wamukota', 'Maelezo', 'ya', 'picha', ',', 'Stephen', 'alipata', 'tuzo', 'ya', 'rais', 'kwa', 'uvumbuzi', 'wake', 'Mvulana', 'mwenye', 'umri', 'wa', 'miaka', 'tisa', 'mwanafunzi', 'nchini', 'Kenya', 'Stephen', 'Wamukota', 'alivumbua', 'mashine', 'ya', 'mbao', 'ya', 'kunawa', 'mikono', 'ili', 'kusaidia', 'kukabiliana', 'na', 'kusambaa', 'kwa', 'virusi', 'vya', 'corona', '.', 'Mashine', 'inawawezesha', 'watumiaji', 'kuchota', 'maji', 'kwenye', 'ndoo', 'ya', 'maji', 'kunawa', 'mikono', 'yao', 'kwa', 'kutumia', 'ubao', 'unaokanyagwa', 'kwa', 'mguu', '.', 'Hii', 'inawasaidia', 'watumiaji', 'kuepuka', 'kugusa', 'mahali', 'popote', 'na', 'mikono', 'yao', 'na', 'kupunguza', 'hatari', 'ya', 'maambukizi', '.', 'Stephen', 'alipewa', 'tuzo', 'na', 'rais', 'mwezi', 'Juni', '.', '3', '.', 'The', 'Respire-19', 'portable', 'ventilator', '(', 'kifaa', 'kinachosaidia', 'kupumua', ')', 'Huku', 'kukiwa', 'na', 'upungufu', 'wa', 'mashine', 'zinazosaidia', 'wagonjwa', 'kupumua', 'katika', 'wodi', 'za', 'wagonjwa', 'wa', 'Covid-19', 'wards', 'in', 'nchini', 'Nigeria', ',', 'mwanafunzi', 'wa', 'uhandisi', 'mwenye', 'umri', 'wa', 'miaka', '20', 'nchini', 'Nigeria', 'Usman', 'Dalhatu', 'alijaribu', 'kusaidia', 'kupunguza', 'upungufu', 'huo', '.', 'Chanzo', 'cha', 'picha', ',', 'Instagram', '/', 'Usman', 'Dalhatu', 'Maelezo', 'ya', 'picha', ',', 'Usman', 'Dalhatu', 'anasema', 'anasubiri', 'kuidhinishwa', 'kwa', 'matumizi', 'ya', 'mashine', 'yake', 'ya', 'kusaidia', 'kupumua', '(', 'Ventilator', ')', 'Dalhatu', 'alitengeneza', 'ventilator', 'inayotumiwa', 'moja', 'kwa', 'moja', 'ili', 'kuwasaidia', 'watu', 'wenye', 'matatizo', 'ya', 'kupumua', 'ambayo', 'mara', 'nyingi', 'husababishwa', 'na', 'maambukizi', 'ya', 'virusi', 'vya', 'corona', '.', 'Sasa', 'anapanga', 'kutengeneza', 'mashine', 'hizo', '20', '.', '4', '.', 'Chapisho', 'la', '3D', 'Natalie', 'Raphil', 'ni', 'muasisi', 'wa', 'kampuni', 'ya', 'Intelijensia', 'gudhi', 'ya', '-Robots', 'Can', 'Think', 'South', 'Africa', '.', 'Anatumia', 'mfumo', 'wa', '3D', 'wa', 'matbaa', 'kutengeneza', 'barakoa', '100', 'kwa', 'siku', 'katika', 'baadhi', 'ya', 'hospitali', 'kuu', 'za', 'Johannesburg', '.', 'Afrika', 'Kusini', 'ina', 'nusu', 'ya', 'idadi', 'ya', 'watu', 'wote', 'wenye', 'virusi', 'vya', 'corona', 'waliohesabiwa', 'barani', 'Afrika', '.', 'Wakati', 'mikono', 'inapokaribia', 'kifaacha', 'utambuzi', 'kwenye', 'beseni', ',', 'maji', 'ya', 'sabuni', 'hutoka', 'moja', 'kwa', 'moja', '.', \"King'ora\", 'hulia', 'kwa', 'sekunde', '25', 'baadae', 'za', 'kunawa', 'mikono-', 'kipindi', 'ambacho', 'kinashauriwa', 'na', 'Shirika', 'la', 'Afya', 'Duniani', '(', 'WHO', ')', 'cha', 'kunawa', 'mikono', '.', '6', '.', 'Mashine', 'ya', 'X-ray', 'iliyotengenezwa', 'kwa', 'mtandao', 'yakupima', 'mapafu', 'Wahandisi', 'nchini', 'Tunisia', 'wamebuni', 'jukwa', 'la', 'mtandao', 'ambalo', 'linafanya', 'uchunguzi', 'wa', 'skani', '(', 'scan', ')', 'kwa', 'kutumia', 'X-ray', 'kujaribu', 'kubaini', 'iwapo', 'mtu', 'anaweza', 'kuwa', 'anaumwa', 'virusi', 'vya', 'corona', '.', 'Chanzo', 'cha', 'picha', ',', 'Getty', 'Images', 'Wakati', 'X-ray', 'inapopakuliwa', 'kwenye', 'jukwa', 'hilo', ',', 'hufanya', 'vipimo', 'kubaini', 'dalili', 'zinazoweza', 'kuwa', 'ni', 'za', 'maambukizi', 'ya', 'virusi', 'vya', 'corona', '.', 'Watafiti', 'katika', 'Taasisi', 'ya', 'sayansi', 'na', 'teknolojia', 'nchini', 'Tunisia', 'wanasema', 'kuwa', 'kifaa', 'hicho', 'hubaini', 'asilimia', '90', 'ya', 'dalili', 'zinazoweza', 'kuwa', 'za', 'maabukizi', 'ya', 'corona', '.', 'Jukwaa', 'hilo', 'bado', 'linatengenezwa', ',', 'lakini', 'vipimo', 'maelfu', 'kadhaa', 'vya', 'X-ray', 'vya', 'mapafu', 'vimekua', 'vikiingizwa', 'ndani', 'ya', 'mfumo', 'ili', 'kuuwezesha', 'kutambua', 'athari', 'za', 'Covid-19', 'kwa', 'mapafu', '.', '7', '.', 'Roboti', 'za', 'polisi', 'katika', 'doria', 'ya', \"'lockdown\", \"'\", 'Maafisa', 'nchini', 'Tunisi', 'walituma', 'roboti', 'polisi', 'kwenye', 'mitaa', 'ya', 'mji', 'mkuu', 'mwezi', 'Aprili', 'ili', 'kuhakikisha', 'watu', 'wanazingatia', 'hatua', 'zilizotangazwa', 'za', 'amri', 'ya', 'kutotoka', 'nje', '.', 'Chanzo', 'cha', 'picha', ',', 'EPA', 'Maelezo', 'ya', 'picha', ',', 'Roboti', 'ya', 'polisi', 'ikiongea', 'na', 'mtu', 'mjini', 'Tunis', ',', 'Tunisia', 'Uchunguzi', 'wa', 'roboti', ',', 'zinazofahamika', 'kama', 'PGuards', ',', 'uliwafuatilia', 'watu', 'waliokuwa', 'wakitembea', 'katika', 'mtaa', 'na', 'kuwasogelea', 'na', 'kuwauliza', 'ni', 'kwanini', 'walikuwa', 'nje', 'wakati', 'wa', 'amri', 'ya', 'kutotoka', 'nje', '.', 'Waliopatikana', 'na', 'kosa', 'hilo', 'walilazimika', 'kuonyesha', 'vitambulisho', 'vyao', 'na', 'nyaraka', 'nyingine', 'kwenye', 'kamera', 'iliyopo', 'kwenye', 'roboti', 'hizo', '.', 'Roboi', 'hizo', 'zenye', 'magurudumu', 'manne', 'zina', 'kamera', 'na', 'mwanga', 'wa', 'utambuzi', 'na', 'imeunganishwa', 'na', 'teknolojia', 'nyingine', 'kadhaa', 'za', 'mawasiliano', '.']\n",
      "\n",
      " Number of Words:  687\n"
     ]
    }
   ],
   "source": [
    "file=\"20aug17_1.txt\"\n",
    "\n",
    "# calling the function and storing the contents in a text variable \n",
    "text = get_document(\"https://www.bbc.com/swahili/habari-53800515\")\n",
    "\n",
    "# calling the store_ document function \n",
    "store_document(doc=text,name=file)\n",
    "\n",
    "#add the words in this file to the total_corpus_words, to keep count of the number of words in the corpus\n",
    "total_corpus_words+=total_words(file)"
   ]
  },
  {
   "cell_type": "code",
   "execution_count": 35,
   "metadata": {},
   "outputs": [
    {
     "data": {
      "text/plain": [
       "313024"
      ]
     },
     "execution_count": 35,
     "metadata": {},
     "output_type": "execute_result"
    }
   ],
   "source": [
    "total_corpus_words"
   ]
  },
  {
   "cell_type": "code",
   "execution_count": 36,
   "metadata": {},
   "outputs": [
    {
     "name": "stdout",
     "output_type": "stream",
     "text": [
      "['Stephen', 'Wamukota', 'mbunifu', 'wa', 'miaka', '9', 'aangaziwa', 'Huku', 'idadi', 'ya', 'watu', 'walioambukizwa', 'virusi', 'vya', 'corona', 'barani', 'afrika', 'ikifikia', 'milioni', ',', 'watu', 'mbali', 'mbali', 'wanaendelea', 'kubuni', 'vifaa', 'vya', 'kupambana', 'na', 'changamoto', 'za', 'janga', 'hili', '.', 'BBC', 'imeangazia', 'wabunifu', 'kumi', 'mashuhuri', 'ikiwemo', 'Stephen', 'Wamukota', 'kijana', 'wa', 'miaka', '9', 'aliyebuni', 'kifaa', 'cha', 'kuosha', 'mkono', 'alichotengeneza', 'kwa', 'mbao', '.', 'Ni', 'ubunifu', 'upi', 'wakati', 'huu', 'wa', 'janga', 'la', 'corona', 'uliokufurahisha', '?']\n",
      "\n",
      " Number of Words:  66\n"
     ]
    }
   ],
   "source": [
    "file=\"20aug17_2.txt\"\n",
    "\n",
    "# calling the function and storing the contents in a text variable \n",
    "text = get_document(\"https://www.bbc.com/swahili/gnb-53807881\")\n",
    "\n",
    "# calling the store_ document function \n",
    "store_document(doc=text,name=file)\n",
    "\n",
    "#add the words in this file to the total_corpus_words, to keep count of the number of words in the corpus\n",
    "total_corpus_words+=total_words(file)"
   ]
  },
  {
   "cell_type": "code",
   "execution_count": 37,
   "metadata": {},
   "outputs": [
    {
     "data": {
      "text/plain": [
       "313090"
      ]
     },
     "execution_count": 37,
     "metadata": {},
     "output_type": "execute_result"
    }
   ],
   "source": [
    "total_corpus_words"
   ]
  },
  {
   "cell_type": "code",
   "execution_count": 38,
   "metadata": {},
   "outputs": [
    {
     "name": "stdout",
     "output_type": "stream",
     "text": [
      "['Mwandishi', 'wabari', 'wa', 'Kenya', 'Yassin', 'Juma', 'ameachiliwa', 'huru', 'kutoka', 'mahabusu', 'nchini', 'Ethiopia', '–', 'takriban', 'wiki', 'moja', 'baada', 'ya', 'wakili', 'wake', 'kusema', 'kuwa', 'alipatwa', 'na', 'maambukizi', 'ya', 'virusi', 'vya', 'corona', 'gerezani', '.', 'Amehamishiwa', 'kwenye', 'hospitali', 'ya', 'serikali', 'kwa', 'ajili', 'ya', 'matibabu', ',', 'na', 'ataruhusiwa', 'kusafiri', 'kurejea', 'nyumbani', 'Kenya', 'baada', 'ya', 'kupona', '.', 'Bwana', 'Juma', ',', 'ambaye', 'ni', 'mwandishi', 'huru', 'wa', 'habari', ',', 'alikamatwa', 'katika', 'mji', 'mkuu', 'wa', 'Ethiopia', 'Addis', 'Ababa', ',', 'mwezi', 'wa', 'Julai', ',', 'kufuatia', 'ghasia', 'zilizoibuka', 'baada', 'ya', 'kuuawa', 'kwa', 'mwanamuziki', 'maarufu', 'wa', 'jamii', 'ya', 'Oromo', 'Hachalu', 'Hundessa', '.', 'Zimbabwe', 'yataka', 'kujua', 'msimamo', 'wa', 'Vatican', 'juu', 'ya', 'ukosoaji', 'wa', 'Maaskofu', 'Serikali', 'ilizima', 'kwa', 'ghasia', 'maandamano', 'ya', 'upinzani', 'mwezi', 'JulaiImage', 'caption', ':', 'Serikali', 'ilizima', 'kwa', 'ghasia', 'maandamano', 'ya', 'upinzani', 'mwezi', 'Julai', 'Serikali', 'ya', 'Zimbabwe', 'imewasiliana', 'na', 'muwakilishi', 'wa', 'Vatican', 'Askofu', 'Mkuu', 'Marek', 'Zalewski', 'kupata', 'maelezo', 'juu', 'ya', 'ukosoaji', 'wa', 'maaskofu', 'waKikatoliki', 'dhidi', 'yake', '.', 'Hivi', 'karibuni', 'maaskofu', 'hao', 'walitoa', 'barua', 'ya', 'kitume', 'wakielezea', 'ufisadi', ',', 'umasikini', 'na', 'ukiukaji', 'wa', 'haki', 'za', 'binadamu', 'vilivyokithiri', 'nchini', 'humo', '.', 'Walitoa', 'wito', 'wa', 'kutatuliwa', 'haraka', 'wa', 'matatizo', 'ya', 'kiuchumi', 'na', 'kisiasa', 'nchini', 'humo', '.', 'Waziri', 'wa', 'sheria', 'Ziyambi', 'Ziyambi', 'anasema', 'serikali', 'inataka', 'kujua', 'iwapo', 'maaskofu', 'hao', 'walizungumza', 'kwa', 'niaba', 'ya', 'serikali', 'ya', 'Vatican.', '``', 'Serikali', 'inataka', 'kuzungumza', 'na', 'Vatican', 'kuelewa', 'iwapo', 'taarifa', 'ya', 'aina', 'hiyo', 'inaonyesha', 'msimamo', 'rasmi', 'wa', 'mkuu', 'wa', 'Vatican', 'kuelekea', 'utawala', 'wa', 'Zimbabwe', 'au', 'haya', 'ni', 'maoni', 'ya', 'watu', ',', \"''\", 'alisema', '.', 'Bwana', 'Ziyambi', 'amesema', 'kuwa', 'Waziri', 'wa', 'Mambo', 'ya', 'nje', 'Sibusiso', 'Moyo', 'atakutana', 'na', 'muwakili', 'wa', 'Vatican', 'nchini', 'humo', '.', 'Magufuli', 'awataka', 'wajumbe', 'wa', 'CCM', 'Tanzania', 'kuweka', 'maslahi', 'ya', 'nchi', 'mbele', 'Rais', 'John', 'Pombe', 'Magufuli', 'amewataka', 'wajumbe', 'kufanya', 'uteuzi', 'kwa', 'kuweka', 'maslahi', 'ya', 'nchi', 'mbele', 'bila', 'kutumia', 'kigezo', 'cha', 'ukanda', ',', 'udini', ',', 'udugu', 'na', 'kuendelea', '.', 'Rais', 'huyo', 'wa', 'Tanzania', 'ambae', 'pia', 'ni', 'Mwenyekiti', 'wa', 'Chama', 'Tawala', 'CCM', 'alikuwa', 'akifungua', 'kikao', 'cha', 'Halmashauri', 'Kuu', 'ya', 'Chama', 'hicho', 'kitakachofanya', 'uteuzi', 'wa', 'wabunge', 'na', 'wawakilishi', 'watakaopeperusha', 'bendera', 'ya', 'CCM', 'katika', 'uchaguzi', 'mkuu', 'utakaofanyika', 'mwezi', 'Oktoba', 'mwaka', 'huu', '.', 'Katika', 'ufunguzi', 'huo', ',', 'rais', 'Magufuli', 'amesema', 'kazi', 'kubwa', 'tayari', 'imefanywa', 'siku', 'mbili', 'zilizopita', 'ambapo', 'mafaili', '1367', 'yaliangaliwa', 'na', 'wajumbe', 'wa', 'Mkutano', 'Mkuu', 'wa', 'CCM', '.', 'Huenda', 'Kenya', 'ikaanza', 'kujaribu', 'tiba', 'ya', 'corona', 'Kenya', 'ina', 'zaidi', 'ya', 'watu', '31,000', 'wenye', 'virusi', 'vya', 'coronaImage', 'caption', ':', 'Kenya', 'ina', 'zaidi', 'ya', 'watu', '31,000', 'wenye', 'virusi', 'vya', 'corona', 'Huenda', 'Kenya', 'ikaanza', 'kujaribu', 'kuwatibu', 'wagonjwa', 'wa', 'Covid-19', 'kwa', 'kutumia', 'plasma', '.', 'Plasma', 'ni', 'sehemu', 'ya', 'maji', 'maji', 'ya', 'damu', 'ambayo', 'inabakia', 'wakati', 'seli', 'zote', 'nyeupe', 'na', 'nyekundu', 'za', 'damu', 'pamoja', 'na', 'ute', 'mweupe', 'vinapoondolewa', '.', 'Dokta', 'Mercy', 'Mwangangi', 'kutoka', 'Wizara', 'ya', 'Afya', 'anasema', 'kuwa', 'watalaam', 'wanandaa', 'miongozo', 'ambayo', 'itawaruhusu', 'madakatari', 'kutumia', 'sehemu', 'hii', 'ya', 'damu', 'kama', 'tiba', 'ya', 'corona', '.', \"'Katika\", 'uchunguzi', 'huu', ',', 'watalaam', ',', 'watakuwa', 'wanachunguza', 'uwezekano', 'wa', 'kuchukua', 'damu', 'ya', 'mtu', 'ambaye', 'amepona', 'baada', 'ya', 'kuambukizwa', 'corona', 'na', 'kuitumia', 'damu', 'hiyo', 'kumtibu', 'yeyote', 'ambaye', 'amepatikana', 'na', 'maambukizi', 'hayo', ',', '”', 'Dokta', 'Mwangagi', 'aliwaelezea', 'wanahabari', '.', 'Mbinu', 'hiyo', 'ya', 'kutumia', 'damu', 'kumtibu', 'mtu', 'mwingine', 'ni', 'matibabu', 'ya', 'kale', '.', 'Dawa', 'hii', 'inapunguza', 'uvimbe', 'wa', 'mwili', 'kulingana', 'na', 'homoni', 'inayotengenezwa', 'ndani', 'ya', 'mwili', '.', 'Katika', 'janga', 'hili', ',', 'dawa', 'hili', 'hutumika', 'kwa', 'wale', 'ambao', 'wako', 'katika', 'hali', 'mahututi', 'na', 'hawawezi', 'kupuma', 'vizuri', '.', 'Plasma', 'inatumiwa', 'kwasababu', 'ina', 'kinga', 'ya', 'mwili', '.', 'Lakini', ',', 'kwa', 'sasa', 'wataalam', 'hawajui', 'kinga', 'hiyo', 'inadumu', 'kwa', 'muda', 'ngapi', 'au', 'siku', 'ngapi', '.', 'Kuna', 'zaidi', 'ya', 'majaribio', '80', 'ambayo', 'yanalenga', 'kuwasajili', 'wagonjwa', 'kushiriki', 'katika', 'uchunguzi', 'huu', 'kote', 'duniani', '.']\n",
      "\n",
      " Number of Words:  568\n"
     ]
    }
   ],
   "source": [
    "file=\"20aug20.txt\"\n",
    "\n",
    "# calling the function and storing the contents in a text variable \n",
    "text = get_document(\"https://www.bbc.com/swahili/live/habari-53845069\")\n",
    "\n",
    "# calling the store_ document function \n",
    "store_document(doc=text,name=file)\n",
    "\n",
    "#add the words in this file to the total_corpus_words, to keep count of the number of words in the corpus\n",
    "total_corpus_words+=total_words(file)"
   ]
  },
  {
   "cell_type": "code",
   "execution_count": 39,
   "metadata": {},
   "outputs": [
    {
     "data": {
      "text/plain": [
       "313658"
      ]
     },
     "execution_count": 39,
     "metadata": {},
     "output_type": "execute_result"
    }
   ],
   "source": [
    "total_corpus_words"
   ]
  },
  {
   "cell_type": "code",
   "execution_count": 41,
   "metadata": {},
   "outputs": [
    {
     "name": "stdout",
     "output_type": "stream",
     "text": [
      "['Hospitali', 'yazuia', 'umma', 'kuitembelea', 'kutokana', 'na', 'corona', 'Rwanda', 'Kunawa', 'mikono', 'mara', 'kwa', 'mara', 'ni', 'moja', 'ya', 'njia', 'muhimu', 'za', 'kuzuwia', 'maambukizi', 'ya', 'coronaImage', 'caption', ':', 'Kunawa', 'mikono', 'mara', 'kwa', 'mara', 'ni', 'moja', 'ya', 'njia', 'muhimu', 'za', 'kuzuwia', 'maambukizi', 'ya', 'corona', 'Hospitali', 'ya', 'rufaa', 'nchini', 'Rwanda', 'imezuia', 'watu', 'kuwatembelea', 'wagonjwa', 'madaktari', 'na', 'wauguzi', 'wa', 'hospitali', 'hiyo', 'wakipatwa', 'na', 'virusi', 'vya', 'corona', ',', 'maafisa', 'wamesema', '.', 'Dkt', 'Edgar', 'Kalimba', ',', 'afisa', 'katika', 'hospitali', 'hiyo', ',', 'King', 'Faisal', 'hospital', ',', 'ameiambia', 'televisheni', 'ya', 'taifa', 'kwamba', 'madaktari', 'watano', 'na', 'wauguzi', 'kadhaa', 'walipata', 'maambukizi', 'ya', 'virusi', 'hivi', 'karibuni', '.', 'Hospitali', 'hiyo', 'huwapokea', 'wagonjwa', 'kati', 'ya', '600', 'na', '1,000', 'kwa', 'siku', 'na', 'ina', 'wafanyakazi', '500', '.', 'Katika', 'kipindi', 'cha', 'siku', 'saba', 'zilizopita', ',', 'maambukizi', 'ya', 'Covid-19', 'yameongezeka', 'mara', 'tano', 'nchini', 'Rwanda', 'ikilinganishwa', 'na', 'wiki', 'za', 'awali', '.', 'Vifo', 'vinavyotokana', 'na', 'virusi', 'vimefikia', 'hadi', 'watu', '11', 'katika', 'kipindi', 'cha', 'majuma', 'mawili', 'yaliyopita', '.', 'Zaidi', 'ya', 'watu', '2,700', 'wamethibitishwa', 'kupata', 'maambukizi', 'ya', 'Covid-19', 'nchini', 'Rwanda', ',', 'kwa', 'mujibu', 'wa', 'data', 'za', 'wizara', 'ya', 'afya', '.', 'Madaktari', 'wanataka', 'kulipiwa', 'bima', 'kamili', 'ya', 'matibabu', 'na', 'vifaa', 'bora', 'vya', 'kujikinga', 'wanapowashughulikia', 'wagonjwa', 'wa', 'Covid-19', '.', 'Hii', 'si', 'mara', 'ya', 'kwanza', 'kwa', 'madaktari', 'wa', 'Kenya', 'kufanya', 'mgomo', 'wakidai', 'malipo', 'na', 'hali', 'bora', 'za', 'kazi', '.', 'Wahudumu', 'wa', 'afya', '700', 'ni', 'miongoni', 'mwa', 'watu', 'zaidi', 'ya', '30,000', 'waliopata', 'maambukizi', 'ya', 'Covid-19', 'kwa', 'ujumla', 'nchini', 'Kenya', '.', 'Wahudumu', 'kadhaa', 'wa', 'afya', 'ni', 'miongoni', 'mwa', 'watu', 'waliokufa', 'kutokana', 'na', 'virusi', 'vya', 'corona', '.', 'Kampeni', 'ya', 'mtandaoni-hashtag', '#', 'ArrestCovid19Thieves', ',', 'inayohamasisha', 'kukamatwa', 'kwa', 'wezi', 'wa', 'pesa', 'za', 'Covid-19', 'imeenezwa', 'kwenye', 'mitandao', 'ya', 'kijamii', 'nchini', 'Kenya', 'huku', 'wanaharakati', 'wakidai', 'uwajibikaji', 'wa', 'pesa', 'za', 'Covid-19', '.', 'Maandamano', 'hayo', 'yamekuja', 'baada', 'ya', 'ripoti', 'za', 'madai', 'ya', 'matumizi', 'mabaya', 'ya', 'fedha', 'za', 'misaada', 'zilizotolewa', 'kwa', 'ajili', 'ya', 'kupambana', 'na', 'jana', 'la', 'virusi', 'vya', 'corona', '.', 'Serikali', 'hata', 'hivyo', 'imekanusha', 'kuwepo', 'kwa', 'matumizi', 'yoyote', 'mabaya', 'ya', 'pesa', 'hizo', ',', 'licha', 'ya', 'miito', 'ya', 'kutaka', 'uchunguzi', 'ufanyike', 'juu', 'ya', 'madai', 'hayo', '.', 'Mwanaume', 'wa', 'Nigeria', '‘', 'aliyefungwa', 'na', 'familia', 'yake', 'kwa', 'miaka', '30', '’', 'aokolewa', 'Polisi', 'katika', 'jimbo', 'la', 'kaskazini', 'mwa', 'Nigeria', 'la', 'Kano', 'wameumuokoa', 'mwanaume', 'mwenye', 'umri', 'wa', 'mika', '30', 'ambaye', 'alifungwa', 'na', 'familia', 'yake', 'kwa', 'miaka', '30', 'kwasababu', 'alikua', 'na', 'ugonjwa', 'wa', 'akili', ',', 'mwanaharakati', 'wa', 'haki', 'za', 'binadamu', 'Sani', 'Shuaibu', 'meiambia', 'BBC', '.', 'Mwanaume', 'huyo', 'alikuwa', 'amefungiwa', 'kwa', 'miongo', 'kadhaa', 'huku', 'miguu', 'yake', 'ikifungwa', 'pamoja', 'kwa', 'chuma', 'kilichoingizwa', 'kwenye', 'gogo', 'la', 'mti', ',', 'ndani', 'ya', 'chumba', 'ambacho', 'hakikuwa', 'na', 'dirisha', 'wala', 'mlango', ',', 'amesema', 'BwanaShuaibu', 'kutoka', 'mtandao', 'wa', 'haki', 'za', 'binadamu', '(', 'HRN', ')', '.', 'Aliwafahamisha', 'polisi', 'juu', 'ya', 'maisha', 'ya', 'mwanaume', 'huyo', 'baada', 'ya', 'kujulishwa', 'na', 'mtu', ',', 'na', 'akajiunga', 'na', 'harakati', 'za', 'kumuokoa', 'kutoka', 'makazi', 'yao', 'yaliyopo', 'katika', 'mji', 'wa', 'Rogo', '.', '“', 'Ana', 'matatizo', 'ya', 'kiakili', ',', 'alikuwa', 'na', 'fujo', 'na', 'badala', 'ya', 'kuomba', 'msaada', 'mwaka', '1990', 'baba', 'yake', 'akaamua', 'kuwa', 'jambo', 'bora', 'la', 'kufanya', 'ni', 'kumfunga', ',', \"''\", 'Bwana', 'Shuaibu', 'aliiambia', 'BBC', '.', '“', 'Wakati', 'baba', 'yake', 'alipokufa', 'miaka', 'kadhaa', 'iliyopita', 'kaka', 'zake', 'wawili', ',', 'wadogo', 'zake', 'waliendelea', 'kumfunga', 'lakini', 'leo', 'ni', 'mwanaume', 'huru', '.', 'Baadhi', 'ya', 'majirani', 'walioifahamu', 'hali', 'yake', 'walikuwa', 'ni', 'watu', 'muhimu', 'katika', 'uokoaji', 'huu', ',', '”', 'aliongeza', '.', 'Kwa', 'sasa', 'mwanaume', 'huyo', 'yuko', 'katika', 'hospitali', 'kuu', 'ya', 'Rogo', 'ambako', 'anapewa', 'matibabu', ',', 'huku', 'kaka', 'zake', 'wakihojiwa', 'na', 'polisi', '.', 'Huu', 'ni', 'uokoaji', 'wa', 'tatu', 'wa', 'hali', 'ya', 'juu', 'katika', 'kipindi', 'cha', 'wiki', 'mbili', 'wa', 'watu', 'wenye', 'matatizo', 'waliofungwa', 'na', 'familia', 'zao', 'katika', 'eneo', 'hilo', 'la', 'kaskazini', 'mwa', 'Nigeria', '.', 'Mawe', 'mawili', 'yenye', 'thamani', 'ya', 'takriban', 'dola', '350,000', 'yamegunduliwa', 'na', 'wachimba', 'mgodi', 'kusini', 'mwa', 'Australia', '.', 'Brent', 'Shannon', 'na', 'Ethan', 'West', 'aliyapata', 'mawe', 'hayo', 'karibu', 'na', 'mji', 'wenye', 'machimbo', 'ya', 'madini', 'wa', 'Tarnagulla', 'uliopo', 'katika', 'jimbo', 'la', 'Victoria', '.', 'Wawili', 'hao', 'walioneshwa', 'kwenye', 'kipindi', 'cha', 'televisheni', 'cha', 'Aussie', 'Gold', 'Hunters', ',', 'kinachopeperushwa', 'kila', 'siku', 'ya', 'Alhamisi', ',', 'huku', 'wakiwa', 'wamayabeba', 'mawe', 'yao', 'hayo', 'ya', 'thamani', '.', 'Wanaume', 'hao', 'walichimba', 'ardhi', 'na', 'kutumia', 'ving', '’', 'amuzi', 'vya', 'dhahabu', 'katika', 'eneo', '.', '``', 'Bila', 'shaka', 'huu', 'ni', 'moja', 'ya', 'ugunduzi', 'wa', 'muhimu', 'sana', ',', \"''\", 'Ethan', 'West', 'alisema', ',', 'kwa', 'mujibu', 'wa', 'CNN.', \"''\", 'Kuwa', 'na', 'mawe', 'makubwa', 'mawili', 'kwa', 'siku', 'moja', 'inafurahisha', '.', \"''\", 'Waliyapata', 'mawe', 'hayo', 'moja', 'lenye', 'uzito', 'wa', 'kilo', '3.5', 'ndani', 'ya', 'masaa', 'kadhaa', 'tofauti', 'kwa', 'usaidizi', 'wa', 'baba', 'yake', 'na', 'Bwana', 'West', ',', 'kwa', 'mujibu', 'wa', 'kipindi', 'cha', 'televisheni', 'ya', 'Discovery', 'Channel', 'kilichohfuatilia', 'taarifa', 'hiyo', '.', 'Viongozi', 'wa', 'Afrika', 'walaani', 'mapinduzi', 'ya', 'kijeshi', 'Mali', 'Viongozi', 'wa', 'Afrika', 'wamelaani', 'vikali', 'mapinduzi', 'ya', 'kijeshi', 'yaliyofanyika', 'nchini', 'Mali', 'Jumanne', 'wiki', 'hii', 'na', 'wametaka', 'rais', 'Boubacar', 'Keita', '.', 'Wakati', 'wa', 'mapinduzi', 'rais', 'Ibrahim', 'Boubacar', 'Keita', 'alikamatwa', 'na', 'wanajeshi', 'waasi', '.', 'Wakiongozwa', 'na', 'mwenyekiti', 'wa', 'Muungano', 'wa', 'Afrika', ',', 'rais', 'wa', 'Afrika', 'Kusini', 'Cyril', 'Ramaphosa', ',', 'viongozi', 'hao', 'wametoa', 'wito', 'wa', 'kuachiliwa', 'mara', 'moja', 'kwa', 'Keïta', 'na', 'maafisa', 'wa', 'ngazi', 'ya', 'juu', 'wa', 'utawala', 'wake', 'miongoni', 'mwao', 'Waziri', 'mkuu', 'Boubou', 'Cissé', '.', 'Kikao', 'hicho', 'kilichofanyika', 'kwa', 'njia', 'ya', 'video', 'pia', 'kilihudhuriwa', 'na', 'wawakilishi', 'wa', 'Jumuiya', 'ya', 'kiuchumi', 'ya', 'nchi', 'za', 'Afrika', 'Magharibi', '(', 'ECOWAS', ')', '.', 'Mateka', 'wa', 'Iran', 'walioshikiliwa', 'Somalia', 'waachiliwa', 'Mpatanishi', 'kati', 'ya', 'mharamia', 'na', 'mateka', ',', 'John', 'Steed', ',', 'ameiambia', 'BBC', 'kuwa', 'wanaume', 'hao', 'walikua', 'ni', 'wa', 'mwisho', 'kuokolewa', 'miongoni', 'mwa', 'wahudumu', 'wa', 'meli', 'ya', 'uvuvi', 'ya', 'Iran', 'ambayo', 'ilikamtwa', 'na', 'maharamia', 'mwaka', '2015', '.', 'Alisema', 'kuwa', 'kuachiliwa', 'kwao', 'ni', 'mwisho', 'wa', 'maumivu', 'na', 'mateso', 'ya', 'mateka', 'waliosahaulika', 'wa', 'Somalia', '.', 'WHO', 'na', 'Unicef', 'zataka', 'shule', 'zifunguliwe', 'Afrika', 'Baadhi', 'ya', 'nchi', 'zimewaruhusu', 'wanafunzi', 'wa', 'mwaka', 'wa', 'mwisho', 'kurudi', 'shule', 'ili', 'wafanye', 'mitihaniImage', 'caption', ':', 'Baadhi', 'ya', 'nchi', 'zimewaruhusu', 'wanafunzi', 'wa', 'mwaka', 'wa', 'mwisho', 'kurudi', 'shule', 'ili', 'wafanye', 'mitihani', 'Shirika', 'la', 'afya', 'duniani', '(', 'WHO', ')', 'na', 'Shirika', 'la', 'Umoja', 'wa', 'mataifa', 'la', 'watoto-', 'Unicef', 'yameyazitaka', 'serikali', 'za', 'Afrika', 'kufungua', 'shule', 'zenye', 'mazingira', 'salama', 'wakati', 'huu', 'wa', 'janga', 'la', 'corona', '.', 'Wanasema', 'kufungwa', 'kwa', 'shule', 'kwa', 'muda', 'mrefu', 'kuna', 'madhara', 'kwa', 'wanafunzi', 'na', 'mashirika', 'hayo', 'yanazitaka', 'serikali', 'kuwekeza', 'katika', 'huduma', 'za', 'usafi', 'ili', 'kuzuia', 'kusambaa', 'kwa', 'virusi', 'vya', 'corona', 'katika', 'taasisi', 'za', 'masomo', '.', 'Mashirika', 'hayo', 'mawili', 'yamesema', 'kuwa', 'wanafunzi', 'wanawekwa', 'katika', 'hatari', 'ya', 'lishe', 'duni', ',', 'mimba', 'za', 'utotoni', 'na', 'ghasia', 'wakati', 'huu', 'wa', 'kurefushwa', 'kwa', 'muda', 'wa', 'kukaa', 'nyumbani', '.', 'Shule', 'katika', 'bara', 'la', 'Afrika', 'ni', '``', 'mahala', 'salama', '``', 'kwa', 'watoto', ',', 'kwa', 'mujibu', 'wa', 'Mkurugenzi', 'wa', 'kanda', 'ya', 'Afrika', 'wa', 'WHO', 'Matshidiso', 'Moeti', '.', '``', 'Hatupaswi', 'kusahau', 'juhudi', 'zetu', 'za', 'kudhibiti', 'Covid-19', '.', 'Wakati', 'nchi', 'zinafungua', 'shughuli', 'za', 'kila', 'siku', 'kwa', 'kuzingatia', 'usalama', ',', 'tunaweza', 'kufungua', 'tena', 'shule', ',', \"''\", 'alisema', 'katika', 'mkutano', 'wa', 'video', 'Alhamisi', '.', 'Kufungwa', 'kwa', 'muda', 'mrefu', 'kwa', 'shule', 'kunaathiri', 'maisha', 'ya', 'baadae', 'ya', 'watoto', 'na', 'jamii', ',', 'kwa', 'mujibu', 'wa', 'Mkurugenzi', 'mkuu', 'wa', 'Unicef', 'wa', 'kikanda', 'Mohamed', 'Fall', '.', 'Ni', 'nchi', 'sita', 'tu', 'za', 'Afrika', 'ambazo', 'zimefungua', 'kikamilifu', 'shule', ',', 'kwa', 'mujibu', 'wa', 'utafiti', 'uliofanywa', 'katika', 'nchi', '39', 'na', 'WHO', 'na', 'Unicef', '.', 'Baadhi', 'ya', 'nchi', 'zilifunguliwa', 'na', 'baadae', 'kufungwa', 'kutokana', 'na', 'ongezeko', 'la', 'maambukizi', 'ya', 'virusi', 'vya', 'corona', '.', 'Nyingine', 'zinafungua', 'shule', 'kwa', 'wanafunzi', 'wa', 'mwaka', 'wa', 'mwisho', 'wa', 'masomo', 'yao', 'kwa', 'ajili', 'ya', 'kufanya', 'mitihani', 'muhimu', '.']\n",
      "\n",
      " Number of Words:  1156\n"
     ]
    }
   ],
   "source": [
    "file=\"20aug21_1.txt\"\n",
    "\n",
    "# calling the function and storing the contents in a text variable \n",
    "text = get_document(\"https://www.bbc.com/swahili/live/habari-53859047\")\n",
    "\n",
    "# calling the store_ document function \n",
    "store_document(doc=text,name=file)\n",
    "\n",
    "#add the words in this file to the total_corpus_words, to keep count of the number of words in the corpus\n",
    "total_corpus_words+=total_words(file)"
   ]
  },
  {
   "cell_type": "code",
   "execution_count": 42,
   "metadata": {},
   "outputs": [
    {
     "data": {
      "text/plain": [
       "314814"
      ]
     },
     "execution_count": 42,
     "metadata": {},
     "output_type": "execute_result"
    }
   ],
   "source": [
    "total_corpus_words"
   ]
  },
  {
   "cell_type": "code",
   "execution_count": 44,
   "metadata": {},
   "outputs": [
    {
     "name": "stdout",
     "output_type": "stream",
     "text": [
      "['Na', 'mpaka', 'hapo', 'ndio', 'tunafiia', 'mwisho', 'wa', 'matangazo', 'yetu', 'ya', 'moja', 'kwa', 'moja', ',', 'tukutane', 'tena', 'kesho', '.', 'Polisi', 'Ufaransa', 'wanawashikilia', 'mashabiki', '148', 'baada', 'ya', 'PSG', 'kukosa', 'kombe', 'la', 'Ulaya', 'Getty', 'ImagesCopyright', ':', 'Getty', 'Images', 'Maelfu', 'ya', 'Wafaransa', 'walikusanyika', 'nje', 'ya', 'uwanja', 'wa', 'Parc', 'des', 'Princes', 'kufuatilia', 'Championi', 'Ligi', 'kwa', 'njia', 'ya', 'televisheniImage', 'caption', ':', 'Maelfu', 'ya', 'Wafaransa', 'walikusanyika', 'nje', 'ya', 'uwanja', 'wa', 'Parc', 'des', 'Princes', 'kufuatilia', 'Championi', 'Ligi', 'kwa', 'njia', 'ya', 'televisheni', 'Polisi', 'nchini', 'Ufaransa', 'inasema', 'imewatia', 'nguvuni', 'watu', '148', 'kufuatia', 'ghasia', 'zilizoibuka', 'katika', 'mji', 'mkuu', 'wa', 'Ufaransa', 'Paris', ',', 'baada', 'ya', 'timu', 'ya', 'St-Germain', 'Kushindwa', 'na', 'timu', 'ya', 'Ujerumani', 'ya', 'Bayern', 'Munich', 'Jumapili', '.', 'Jumapili', 'usiku', 'PSG', 'walifungwa', '1-0', 'na', 'Bayern', 'Munich', 'ya', 'Ujerumani', 'ambao', 'sasa', 'ni', 'mabingwa', 'wa', 'Ligi', 'ya', 'Ulaya', '.', 'Kulikua', 'na', 'makabiliano', 'baina', 'ya', 'polisi', 'na', 'mashabiki', 'wa', 'timu', 'hiyo', 'waliozua', 'ghasia', 'katika', 'mitaa', 'ya', 'Champs-Élysées', 'na', 'karibu', 'na', 'uwanja', 'wa', 'michezo', 'wa', 'PSG', ',', 'Parc', 'des', 'Princes', ',', 'ambako', 'mashabiki', 'walikua', 'wamekusanyika', 'kutazama', 'mpambano', 'kati', 'ya', 'timu', 'yao', 'na', 'Bayern', 'Munich', '.', 'Shughuli', 'za', 'michezo', '‘', 'kufufuliwa', '’', 'tena', 'Kenya', 'Kusalimiana', 'kwa', 'mikono', ',', 'kukumbatiana', 'na', 'kusherehekea', 'timu', 'ni', 'marufuku', '.', 'kwa', 'mujibu', 'wa', 'muongozo', 'unaopendekezwaImage', 'caption', ':', 'Kusalimiana', 'kwa', 'mikono', ',', 'kukumbatiana', 'na', 'kusherehekea', 'timu', 'ni', 'marufuku', '.', 'kwa', 'mujibu', 'wa', 'muongozo', 'unaopendekezwa', 'Shughuli', 'za', 'michezo', 'zinatarajiwa', 'kufunguliwa', 'tena', 'nchini', 'Kenya', 'katikati', 'ya', 'mwezi', 'wa', 'Septemba', '.', 'Hii', 'ni', 'baada', 'ya', 'serikali', 'kutoa', 'muongozo', 'wa', 'awali', 'wa', 'namna', 'matukio', 'ya', 'michezo', 'yatakavyokuwa', 'yakifanyika', 'kufuatia', 'kufungwa', 'mwezi', 'Machi', 'kutokana', 'na', 'COVID-19', '.', 'Baadhi', 'ya', 'wanariadhawalikua', 'tayari', 'wameanzakushiriki', 'mashindano', 'ya', 'kimataifana', 'sasa', 'Wizara', 'ya', 'michezo', 'nchibni', 'inatarajiwa', 'kufungua', 'tena', 'mashindano', 'ndani', 'ya', 'nchi', '.', 'Kulingana', 'na', 'Mapendekezo', 'ya', 'awali', 'juu', 'ya', 'udhibiti', 'wa', 'viwanja', ',', 'mazoezi', 'na', 'mpangilio', 'wa', 'mashindano', 'Vitatathminiwa', 'na', 'mashirikisho', '.', 'Mpanglio', 'huo', 'ni', 'pamoja', 'na', 'uchunguzi', 'na', 'vipimo', 'vya', 'afya', 'vitakavyochukuliwa', 'kwenye', 'maeneo', 'yote', 'ya', 'kuingilia', 'kwenye', 'matukio', 'ya', 'michezo', ',', 'uvaaji', 'wa', 'barakoa', 'kwa', 'wanamichezo', 'wakati', 'wote', 'na', 'udhibiti', 'wa', 'vyumba', 'vya', 'kubadilisha', 'jezi', 'katika', 'maeneo', 'ya', 'matukio', 'ya', 'michezo', '.', 'Kusalimiana', 'kwa', 'mikono', ',', 'kukumbatiana', 'na', 'kusherehekea', 'timu', 'pia', 'ni', 'marufuku', '.', 'Mtu', 'aliyedhaniwa', 'kuwa', 'ndiye', 'mwenye', 'umri', 'mkubwa', 'zaidi', 'afariki', 'Fredie', 'Blom', '-', 'pichani', 'akiwa', 'ametimiza', 'umri', 'wa', 'miaka', '116-', 'alisema', 'hauna', 'siri', 'ya', 'kuishi', 'kwake', 'maisha', 'marefuImage', 'caption', ':', 'Fredie', 'Blom', '-', 'pichani', 'akiwa', 'ametimiza', 'umri', 'wa', 'miaka', '116-', 'alisema', 'hauna', 'siri', 'ya', 'kuishi', 'kwake', 'maisha', 'marefu', 'Mwanaume', 'wa', 'Afrika', 'Kusini', 'aliyedhaniwa', 'kuwa', 'ndiye', 'mwenye', 'umri', 'mkubwa', 'zaidi', 'amefariki', 'dunia', 'akiwa', 'na', 'umri', 'wa', 'miaka', '116', '.', 'Nyaraka', 'za', 'utambulisho', 'wa', 'Fredie', 'Blom', 'zinaonesha', 'kuwa', 'alizaliwa', 'katika', 'jimbo', 'Eastern', 'Cape', 'mwezi', 'Mei', '1904', ',', 'ingawa', 'hilo', 'halikuwahi', 'kuthibitishwa', 'na', 'rekodi', 'za', 'Guinnes', 'za', 'dunia', '(', 'Guinness', 'World', 'Records', ')', '.', 'Alipokuwa', 'kijana', 'mwenye', 'umri', 'wa', 'barehe', ',', 'watu', 'wote', 'wa', 'familia', 'yake', 'walikufa', 'kutokana', 'na', 'jana', 'la', 'mafua', '-Spanish', 'flu', ',', 'mwaka', '1918', '.', 'Aliishi', 'na', 'kunusurika', 'vita', 'ya', 'kwanza', 'ya', 'dunia', 'pamoja', 'na', 'vita', 'vya', 'mapambano', 'dhidi', 'ya', 'ubaguzi', 'wa', 'rangi', '.', 'Video', 'ya', 'panya', 'yawatia', 'matatani', 'maafisa', 'wa', 'hospitali', 'Zambia', 'Picha', 'ya', 'video', 'ya', 'panya', 'wanaotambaa', 'huru', 'sakafuni', 'katika', 'moja', 'ya', 'hospitali', 'kubwa', 'zaidi', 'nchini', 'Zambia', 'imewatia', 'matatani', 'wasimamizi', 'wa', 'hospitali', 'hiyo', '.', 'Picha', 'hiyo', 'inaonesha', 'panya', 'wakitoka', 'katika', 'mfuko', 'wa', 'plastiki', 'huku', 'mgonjwa', 'aliyekuwa', 'amelazwa', 'tkatika', 'wodi', 'akionekana', 'kando', 'ya', 'plastiki', 'hiyo', '.', 'Waziri', 'wa', 'afya', 'nchini', 'humo', 'Chitalu', 'Chilufya', 'alifanya', 'ziara', 'ya', 'ghafla', 'katika', 'hospitali', 'kuu', 'ya', 'Kitwe', 'iliyopo', 'katika', 'jimbo', 'la', 'Zambia', 'Copperbelt', 'baada', 'ya', 'video', 'hiyo', 'kusambazwa', 'sana', 'kwenye', 'mitandao', 'ya', 'kijamii', ':', 'Kenya', 'itashuhudia', 'idadi', 'kubwa', 'ya', 'watoto', 'watakaozaliwa', 'mwishoni', 'mwa', 'mwaka', 'huu', ',', 'limeripoti', 'gazeti', 'la', 'The', 'Standard', 'nchini', 'humo', '.', 'Kwa', 'mujibu', 'wa', 'ripoti', 'ya', 'Wizara', 'ya', 'afya', 'kuhusu', 'athari', 'za', 'virusi', 'vya', 'corona', 'kwa', 'huduma', 'muhimu', ',', 'kumekuwa', 'na', 'ongezeko', 'la', 'idadi', 'ya', 'wanawake', 'na', 'wasichana', 'wanaopata', 'uja', 'uzito', 'tangu', 'mwezi', 'Machi', 'mwaka', 'huu', 'wakati', 'taifa', 'hilo', 'lilipoweka', 'hatua', 'za', 'kudhibiti', 'maambukizi', 'ya', 'corona', 'baada', 'ya', 'janga', 'kutangazwa', '.', 'Janga', 'la', 'virusi', 'vya', 'corona', 'lilisababisha', 'kuwekwa', 'kwa', 'masharti', 'makali', 'ya', 'matembezi', 'ya', 'watu', 'na', 'kuwalazimisha', 'watu', 'kukaa', 'nyumbani', 'na', 'maagizo', 'kutoka', 'kwa', 'wataalamu', 'yalisababisha', 'kufungwa', 'kwa', 'shule', 'zote', ',', 'makanisa', ',', 'na', 'shughuli', 'zote', 'za', 'burudani', 'zinazofanyika', 'katika', 'maeneo', 'ya', 'kijamii', '.', 'Kwa', 'mujibu', 'wa', 'wizara', 'hiyo', 'uchunguzi', 'wa', 'tathmini', 'ya', 'viashiria', 'vilivyochaguliwa', 'kwa', 'kipindi', 'cha', 'miaka', 'mitatu', 'kuanzia', 'mwaka', '2018', ',', 'kulikua', 'na', 'ongezeko', 'la', 'wanawake', 'wanaotembelea', 'hospitalini', 'kupata', 'huduma', 'za', 'afya', 'ya', 'ujauzito', 'mwezi', 'Juni', 'mwaka', '2020', '.', \"'Watoto\", 'wanaozaliwa', 'na', 'matatizo', 'ya', 'midomo', 'watibiwe', 'mapema', \"'\", 'Wataalamu', 'wanashauri', 'kuwa', 'ni', 'vyema', 'watoto', 'wanaozaliwa', 'na', 'matatizo', 'ya', \"'kasoro\", \"'\", 'za', 'midomo', 'watibiwe', 'mapema', 'kuanzia', 'miezi', 'miwili', '.', 'Ushauri', 'huo', 'umetolewa', 'na', 'Madaktari', 'wataalamu', 'wa', 'upasuaji', 'wa', 'midomo', 'wazi', 'au', 'midomo', 'sungura', 'ambao', 'wameweka', 'kambi', 'kwa', 'muda', 'wa', 'wiki', 'moja', 'ambapo', 'watoto', 'kadhaa', 'waliozaliwa', 'na', 'tatizo', 'hilo', 'watafanyiwa', 'upasuaji', 'Katika', 'mji', 'mkuu', 'wa', 'Tanzania', 'Dodoma', '.', 'Huduma', 'hii', 'inayotolewa', 'bure', 'inafanyika', 'kwa', 'ushirikianio', 'wa', 'Hospitali', 'ya', 'Mkoa', 'Dodoma', 'na', 'taasisi', 'isiyo', 'ya', 'kiserikali', 'ya', 'Same', 'Quality', 'Foundation', '.', 'Dr.', 'Athanase', 'Masele', 'ambae', 'ni', 'daktari', 'bingwa', 'wa', 'kinywa', 'na', 'meno', 'ameniambia', 'kwamba', 'mwitikio', 'ni', 'mkubwa', 'mkoani', 'Dodoma', 'kwa', 'sababu', 'awali', 'walikuwa', 'na', 'malengo', 'ya', 'kuwafanyia', 'upasuaji', 'watoto', '20', ',', 'lakini', 'mpaka', 'sasa', 'waliojiorodhesha', 'ni', 'zaidi', 'ya', 'hao', 'BBCCopyright', ':', 'BBC', 'Hata', 'hivyo', ',', 'licha', 'ya', 'kutokuwepo', 'kwa', 'takwimu', 'zinazoonyesha', 'ukubwa', 'wa', 'tatizo', 'la', 'watoto', 'kuzaliwa', 'na', 'midomo', 'sungura', ',', 'imeelezwa', 'kwamba', 'kanda', 'ya', 'kaskazini', 'mwa', 'Tanzania', 'kuwa', 'na', 'idadi', 'kubwa', 'ya', 'watoto', 'hao', '.', 'Ecowas', 'wafikia', \"'baadhi\", 'ya', 'mapatano', \"'\", 'na', 'viongozi', 'wa', 'mapinduzi', 'Mali', 'Ujumbe', 'kutoka', 'Jumuiya', 'yakiuchumi', 'ya', 'nchi', 'zilizoko', 'magharibi', 'mwa', 'Afrika', ',', 'Ecowas', ',', 'na', 'wajumbe', 'wa', 'jeshi', 'la', 'Malijunta', 'wanasema', 'wamefikia', 'makubalianokuhusu', 'masuala', 'kadhaa', ',', 'siku', 'moja', 'baada', 'ya', 'mazungumzo', 'yanayolenga', 'kurejesha', 'utawala', 'wa', 'kiraia', '.', 'Mazungumzo', 'hayo', 'yanatarajiwa', 'kuendela', 'leo', 'Jumatatu', '.', '``', 'Tumeweza', 'kukubaliana', 'juu', 'ya', 'masuala', 'kadhaa', 'lakini', 'bado', 'hatujajadiliana', ',', \"''\", 'amesema', 'rais', 'wa', 'zamani', 'wa', 'Nigeria', 'Goodluck', 'Jonathan', ',', 'anaongoza', 'harakati', 'za', 'upatanishi', 'alipozungumza', 'na', 'Reuters', '.', 'Viongozi', 'wa', 'kijeshi', 'wamependekeza', 'taasisi', 'ya', 'kijeshi', 'iongoze', 'kwa', 'muda', 'wa', 'miaka', 'mitatu', '``', 'kutathmnini', 'msingi', 'wa', 'taifa', 'la', 'mali', \"''\", ',', 'taarifa', 'za', 'shirika', 'la', 'habari', 'la', 'AFP', 'limemnukuu', 'afisa', 'katika', 'ujumbe', 'wa', 'Ecowas', '.', 'Jeshi', 'la', 'Mali', 'junta', 'pia', 'limekubali', 'kumuachilia', 'rais', 'aliyepinduliwa', 'Boubacar', 'Keïta', ',', 'kulingana', 'AFP', '.', 'Ecowas', 'imeomba', 'mara', 'kwa', 'mara', 'Bwana', 'Keïta', 'arejeshwe', 'mamlakani', ',', 'lakini', 'maelfu', 'ya', 'raia', 'wa', 'Mali', 'waliingia', 'mitaana', 'kuandamanakatika', 'mji', 'Mkuu', 'Bamako', 'kuunga', 'mkono', 'mapinduzi', '.']\n",
      "\n",
      " Number of Words:  1048\n"
     ]
    }
   ],
   "source": [
    "file=\"20aug24.txt\"\n",
    "\n",
    "# calling the function and storing the contents in a text variable \n",
    "text = get_document(\"https://www.bbc.com/swahili/live/habari-53886571\")\n",
    "\n",
    "# calling the store_ document function \n",
    "store_document(doc=text,name=file)\n",
    "\n",
    "#add the words in this file to the total_corpus_words, to keep count of the number of words in the corpus\n",
    "total_corpus_words+=total_words(file)"
   ]
  },
  {
   "cell_type": "code",
   "execution_count": 45,
   "metadata": {},
   "outputs": [
    {
     "data": {
      "text/plain": [
       "315862"
      ]
     },
     "execution_count": 45,
     "metadata": {},
     "output_type": "execute_result"
    }
   ],
   "source": [
    "total_corpus_words"
   ]
  },
  {
   "cell_type": "code",
   "execution_count": 46,
   "metadata": {},
   "outputs": [
    {
     "name": "stdout",
     "output_type": "stream",
     "text": [
      "['Na', 'mpaka', 'hapo', 'ndio', 'tunafikia', 'mwisho', 'ya', 'matangazo', 'yetu', 'ya', 'moja', 'kwa', 'moja', ',', 'tukutane', 'tena', 'kesho', '.', 'Wagombea', 'wa', 'urais', 'Tanzania', 'wakirudisha', 'fomu', 'kwa', 'Picha', 'Nchini', 'Tanzania', ',', 'wagombea', 'wa', 'urais', 'kutoka', 'vyama', 'mbalimbali', 'vya', 'siasa', 'wanaendelea', 'kurejesha', 'fomu', 'na', 'kuteuliwa', 'na', 'Tume', 'ya', 'Taifa', 'ya', 'Uchaguzi', '(', 'NEC', ')', 'kushiriki', 'katika', 'Uchaguzi', 'Mkuu', 'wa', 'nchi', 'hiyo', 'mnamo', 'Oktoba', '28', '.', 'Baadhi', 'ya', 'waliokamilisha', 'mchakato', 'huo', 'ni', 'kama', 'wafuatao', ':', 'NECCopyright', ':', 'NEC', 'Tume', 'ya', 'Taifa', 'ya', 'Uchaguzi', 'imewateuwa', 'wagombea', 'wa', 'kiti', 'cha', 'Rais', 'na', 'Makamu', 'wa', 'Rais', 'kwa', 'tiketi', 'ya', 'SAU', ',', 'Bw', '.', 'Mutamwega', 'Mgaiwa', 'na', 'Bi', '.', 'Satia', 'Musa', 'Bebwa.Image', 'caption', ':', 'Tume', 'ya', 'Taifa', 'ya', 'Uchaguzi', 'imewateuwa', 'wagombea', 'wa', 'kiti', 'cha', 'Rais', 'na', 'Makamu', 'wa', 'Rais', 'kwa', 'tiketi', 'ya', 'SAU', ',', 'Bw', '.', 'Mutamwega', 'Mgaiwa', 'na', 'Bi', '.', 'Satia', 'Musa', 'Bebwa', '.', 'NECCopyright', ':', 'NEC', 'John', 'Shibuda', 'kutoka', 'chama', 'cha', 'ADA-Tadea', 'pia', 'amepitishwa', 'na', 'tume.Image', 'caption', ':', 'John', 'Shibuda', 'kutoka', 'chama', 'cha', 'ADA-Tadea', 'pia', 'amepitishwa', 'na', 'tume', '.', 'NECCopyright', ':', 'NEC', 'Tume', 'ya', 'Taifa', 'ya', 'Uchaguzi', 'imewateuwa', 'wagombea', 'wa', 'kiti', 'cha', 'Rais', 'na', 'Makamu', 'wa', 'Rais', 'kwa', 'tiketi', 'ya', 'Demokrasia', 'Makini', ',', 'Bi', '.', 'Cecilia', 'Augustiono', 'Mwanga', 'na', 'Tabu', 'Mussa', 'Juma.Image', 'caption', ':', 'Tume', 'ya', 'Taifa', 'ya', 'Uchaguzi', 'imewateuwa', 'wagombea', 'wa', 'kiti', 'cha', 'Rais', 'na', 'Makamu', 'wa', 'Rais', 'kwa', 'tiketi', 'ya', 'Demokrasia', 'Makini', ',', 'Bi', '.', 'Cecilia', 'Augustiono', 'Mwanga', 'na', 'Tabu', 'Mussa', 'Juma', '.', 'NECCopyright', ':', 'NEC', 'Tume', 'ya', 'Taifa', 'ya', 'Uchaguzi', 'imewateuwa', 'wagombea', 'wa', 'kiti', 'cha', 'Rais', 'na', 'Makamu', 'wa', 'Rais', 'kwa', 'tiketi', 'ya', 'NRA', ',', 'Bw', '.', 'Leopold', 'Mahona', 'na', 'Hamid', 'Ally', 'Hassan.Image', 'caption', ':', 'Tume', 'ya', 'Taifa', 'ya', 'Uchaguzi', 'imewateuwa', 'wagombea', 'wa', 'kiti', 'cha', 'Rais', 'na', 'Makamu', 'wa', 'Rais', 'kwa', 'tiketi', 'ya', 'NRA', ',', 'Bw', '.', 'Leopold', 'Mahona', 'na', 'Hamid', 'Ally', 'Hassan', '.', 'NECCopyright', ':', 'NEC', 'Wagombea', 'kutoka', 'CCM', 'John', 'Magufuli', 'na', 'Samia', 'Hassan', 'ndio', 'walikuwa', 'wakwanza', 'kupitishwa', 'na', 'NEC.Image', 'caption', ':', 'Wagombea', 'kutoka', 'CCM', 'John', 'Magufuli', 'na', 'Samia', 'Hassan', 'ndio', 'walikuwa', 'wakwanza', 'kupitishwa', 'na', 'NEC', '.', 'NECCopyright', ':', 'NEC', 'Yeremia', 'Maganja', 'wa', 'NCCR-Mageuzi', 'baada', 'ya', 'kupitishwa', 'na', 'NEC.Image', 'caption', ':', 'Yeremia', 'Maganja', 'wa', 'NCCR-Mageuzi', 'baada', 'ya', 'kupitishwa', 'na', 'NEC', '.', 'Kifo', 'chake', 'pia', 'kimethibitishwa', 'kwenye', 'ukurasa', 'wa', 'Facebook', 'na', 'mwanae', 'wa', 'kiume', 'Jeremie', 'Lissouba', ',', 'ambaye', 'pia', 'ni', 'mbunge', '.', 'Bwana', 'Lissouba', 'mbaye', 'alishinda', 'katika', 'uchaguzi', 'wa', 'kwanza', 'wa', 'vyama', 'vingimwaka', '1992', ',', 'alitoroka', 'nchi', 'yake', 'na', 'kwenda', 'Ufaransa', 'baada', 'ya', 'kupinduliwa', 'na', 'rais', 'wa', 'sasa', 'Denis', 'Sassou', 'Nguesso', ',', 'ambaye', 'alishindwa', 'katika', 'uchaguzi', 'huo', '.', 'Serikali', 'ilisema', 'vyuo', 'hivyo', ',', 'University', 'of', 'Kibungo', ',', 'College', 'of', 'Education', 'na', 'Christian', 'University', 'vilikua', 'na', 'kiwango', 'duni', 'cha', 'elimu', '.', '‘', '’', 'Nilikuwa', 'nasomea', 'taaluma', 'ya', 'elimu.kwingine', 'ambako', 'kuna', 'kitivo', 'cha', 'elimu', 'ni', 'mbali.kwenye', 'mkoa', 'wa', 'kusini', 'na', 'pia', 'mji', 'wa', 'Gitshumbi', 'kaskazini', '...', 'ikiwa', 'nitasajiliwa', 'katika', 'moja', 'wapo', 'ya', 'vyuo', 'hivyo', 'nitateseka', 'sana', ',', 'gharama', 'za', 'safari', 'na', 'malazi', 'zitakuwa', 'juu', 'sana', '’', '’', 'Pascifique', 'Mukamana', 'aliyekua', 'katika', 'Christian', 'University', 'aliiambia', 'BBC', 'Makaimu', 'viongozi', 'wa', 'vyuo', 'hivyo', 'wanakiri', 'kuwepo', 'makosa', 'ya', 'kiutendaji', 'na', 'ufujaji', 'wa', 'fedha', '.', 'Waalimu', 'na', 'watumishi', 'wa', 'vyuo', 'hivyo', 'wanadai', 'malimbikizo', 'ya', 'mishahara', 'yao', ',', 'Muvunyi', 'Pierre', 'Celestin', 'alikuwa', 'mwalimu', 'wa', 'chuo', 'cha', 'Kibungo', ':', 'Serikali', 'alisema', 'kwamba', 'wanafunzi', 'kutoka', 'vyuo', 'hivyo', 'watatafutiwa', 'vyuo', 'vingine', 'na', 'kwamba', 'walimu', 'walio', 'na', 'mikataba', 'watafwata', 'sheria', 'ya', 'utumishi', 'Rwanda', '.', 'Watu', 'wenye', 'silaha', 'wawauwa', 'watu', 'wapatao', '15', 'kusini', 'mwa', 'Burundi', 'Takriban', 'watu', '15', 'wameripotiwa', 'kuuawa', 'na', 'wakati', 'watu', 'wenye', 'silaha', 'walipofanya', 'mashambulio', 'Kusini', 'mwa', 'Burundi', '.', 'Mapigano', 'hayo', 'yaliyotokea', 'katika', 'wilaya', 'ya', 'Bugarama', 'katika', 'mkoa', 'wa', 'Rumonge', 'yalianza', 'Jumapili', 'na', 'kuendela', 'hadi', 'Jumatatu', ',', 'yamewalazimisha', 'watu', 'kuzikimbia', 'nyumba', 'zao', 'na', 'kujificha', 'kwenye', 'misitu', 'na', 'vichakani', '.', 'Katika', 'ujumbe', 'wake', 'kwenye', 'mitandao', 'ya', 'kijamii', 'kundi', 'la', 'waasi', 'lenye', 'makao', 'yake', 'katika', 'nchi', 'jirani', 'ya', 'Jamuhuri', 'ya', 'Kidemokrasi', 'ya', 'Kongo', 'lilisema', 'kuwa', 'ndilo', 'lililofanya', 'shambulio', 'hilo', '.', 'Afisa', 'wa', 'ngazi', 'ya', 'juu', 'wa', 'serikali', 'ya', 'Burndi', 'amesema', 'kuwa', 'kuna', 'uwezekano', 'kwamba', 'ghasia', 'hizo', 'zina', 'uhusiano', 'na', 'kurejeshwa', 'nyumbani', 'kwa', 'wakimbizi', 'wa', 'Burundi', 'waliokimbilia', 'Rwanda', 'wakitoroka', 'ghasia', 'nchini', 'mwao', 'mwaka', '2017', '.', 'Jinsi', 'corona', 'ilivyogeuza', 'shule', 'kuwa', 'mahala', 'pa', 'kufugia', 'kuku', 'Kenya', 'Ubao', 'wa', 'mwalimu', 'sasa', 'umeandikwa', 'ratiba', 'ya', 'chanjo', 'za', 'kukuImage', 'caption', ':', 'Ubao', 'wa', 'mwalimu', 'sasa', 'umeandikwa', 'ratiba', 'ya', 'chanjo', 'za', 'kuku', 'Uamuzi', 'wa', 'Kenya', 'kufunga', 'shule', 'zote', 'hadi', 'mwezi', 'Januari', 'mwaka', 'ujao', 'kwasababu', 'ya', 'janga', 'la', 'virusi', 'vya', 'corona', 'umeziacha', 'nyingi', 'kati', 'ya', 'shule', 'za', 'kibinafsi', 'zikihangaika', 'kuendeleza', 'shughuli', 'zake', '.', 'Madarasa', 'katika', 'Shule', 'ya', 'Mwea', 'Brethren', 'School', ',', 'ambayo', 'wakati', 'mmoja', 'yalikuwa', 'yamejaa', 'wanafunzi', 'wanaosoma', 'sasa', 'yamejaa', 'kuku', '.', 'Ubao', 'wa', 'mwalimu', 'wa', 'kufundishia', ',', 'ambao', 'kwa', 'kawaida', 'ungeweza', 'kuandikwa', 'maswali', 'ya', 'hisabati', 'au', 'somo', 'lingine', ',', 'umegeuzwa', 'kuwa', 'wa', 'kuandika', 'ratiba', 'ya', 'chanjo', 'za', 'kuku', '.', 'Joseph', 'Maina', ',', 'ambaye', 'anamiliki', 'shule', 'hiyo', 'eneo', 'la', 'kati', 'mwa', 'Kenya', ',', 'alilazimika', 'kugeuza', 'madarasa', 'kuwa', 'eneo', 'la', 'mifugo', 'ili', 'kupata', 'pesa', 'za', 'kujikimu', 'kimaisha', 'kwani', 'kwa', 'sasa', 'hapati', 'mapato', 'yoyote', 'kwa', 'kutoa', 'elimu', '.', 'Wagombea', 'urais', 'Tanzania', 'warudisha', 'fomu', 'NEC', 'Rais', 'wa', 'Tanzania', 'na', 'mgombea', 'wa', 'urais', 'kupitia', 'chama', 'tawala', 'cha', 'CCM', ',', 'John', 'Pombe', 'Magufuli', 'amerejesha', 'fomu', 'ya', 'kugombea', 'urais', 'Tune', 'ya', 'Taifa', 'ya', 'Uchaguzi', '(', 'NEC', ')', '.', 'NEC', 'inatarajiwa', 'hii', 'leo', 'kuteua', 'wagombea', 'watakaoshiriki', 'uchaguzi', 'wa', 'Oktoba', '28', '.', 'Magufuli', 'ambaye', 'anamaliza', 'muhula', 'wake', 'wa', 'kwanza', 'anawania', 'miaka', 'mitano', 'mingine', 'kumaliza', 'muhula', 'wa', 'pili', 'kwa', 'mujibu', 'wa', 'Katiba', '.', 'Kipindi', 'cha', 'kampeni', 'rasmi', 'zitaanza', 'Jumatano', 'Chana', 'cha', 'Mapinduzi', 'kilituma', 'video', 'ya', 'Rais', 'Magufuli', 'ralipokuwa', 'akitoka', 'katika', 'ofisi', 'ya', 'tume', 'ya', 'uchaguzi', 'kurejesha', 'fomu', 'yake', ':']\n",
      "\n",
      " Number of Words:  897\n"
     ]
    }
   ],
   "source": [
    "file=\"20aug25.txt\"\n",
    "\n",
    "# calling the function and storing the contents in a text variable \n",
    "text = get_document(\"https://www.bbc.com/swahili/live/habari-53900643\")\n",
    "\n",
    "# calling the store_ document function \n",
    "store_document(doc=text,name=file)\n",
    "\n",
    "#add the words in this file to the total_corpus_words, to keep count of the number of words in the corpus\n",
    "total_corpus_words+=total_words(file)"
   ]
  },
  {
   "cell_type": "code",
   "execution_count": 47,
   "metadata": {},
   "outputs": [
    {
     "data": {
      "text/plain": [
       "316759"
      ]
     },
     "execution_count": 47,
     "metadata": {},
     "output_type": "execute_result"
    }
   ],
   "source": [
    "total_corpus_words"
   ]
  },
  {
   "cell_type": "code",
   "execution_count": 48,
   "metadata": {},
   "outputs": [
    {
     "name": "stdout",
     "output_type": "stream",
     "text": [
      "['Waridi', 'wa', 'BBC', ':', 'Mume', 'wangu', 'alikuwa', 'akija', 'nyumbani', 'kulala', 'na', 'wapenzi', 'wake', 'wa', 'nje', 'Anne', 'Ngugi', 'BBC', 'Swahili', '26', 'Agosti', '2020', 'Chanzo', 'cha', 'picha', ',', 'Narumbe', 'Ekiru', 'Maelezo', 'ya', 'picha', ',', 'Narumbe', 'Ekiru', 'akitabasamu', 'Narumbe', 'Ekiru', 'hupenda', 'kutabasamu', 'sana', '.', 'Ukikutana', 'naye', 'utadhani', 'ni', 'mtu', 'mwenye', 'furaha', 'tele', 'maishani', '.', 'lakini', 'hali', 'ni', 'tofauti', '.', 'Kutabasamu', 'kwake', 'huficha', 'ukweli', 'wa', 'mambo', 'yaliyomo', 'ndani', 'ya', 'moyo', 'wake', '.', 'Chanzo', 'chake', 'hasa', 'ni', 'mahangaiko', 'na', 'masikitiko', 'aliyoyapitia', 'katika', 'maisha', 'yake', 'ya', 'ndoa', '.', 'Mwanadada', 'huyu', 'mwenye', 'miaka', '35', 'sasa', ',', 'anapozungumzia', 'ndoa', 'yake', 'ya', 'miaka', '11', ',', 'anaifananisha', 'na', 'matukio', 'kwenye', 'sinema', 'ila', 'yalitendeka', '.', 'Usiku', 'wa', 'kuogofya', 'Mwanamke', 'huyu', 'anasema', 'moja', 'ya', 'siku', 'ambazo', 'hatawahi', 'kuzisahau', 'maishani', 'ni', 'wakati', 'ambapo', 'bila', 'yeye', 'kutarajia', ',', 'mumewe', 'alirejea', 'nyumbani', 'jioni', 'akiwa', 'ameandamana', 'na', 'mwanamke', 'aliyekuwa', 'mpenzi', 'wake', '.', 'Chanzo', 'cha', 'picha', ',', 'Narumbe', 'Ekiru', ':', 'Maelezo', 'ya', 'picha', ',', '``', 'Nilishtuka', 'mume', 'wangu', 'aliponieleza', 'kuwa', 'nitafute', 'kwa', 'kulala', 'ili', 'mradi', 'apate', 'kufurahia', 'usiku', 'na', 'mpenzi', 'wake', 'Alimweleza', 'kuwa', 'usiku', 'huo', 'alikuwa', 'na', 'mgeni', 'mpenzi', 'wake', 'ambaye', 'lazima', 'angelala', 'naye', 'usiku', 'huo', '.', '``', 'Nilishtuka', 'mume', 'wangu', 'aliponieleza', 'kuwa', 'nitafute', 'kwa', 'kulala', 'ili', 'mradi', 'apate', 'kufurahia', 'usiku', 'na', 'mpenzi', 'wake', '.', 'Mume', 'wangu', 'alinieleza', 'kuwa', 'niamue', 'kama', 'ningelala', 'kwenye', 'kochi', 'au', 'nitafute', 'jirani', 'au', 'rafiki', 'yangu', '.', 'Lakini', 'usiku', 'huo', 'ulikuwa', 'wake', 'na', 'mpenzi', 'wake', ',', '``', 'Narumbe', 'anakumbuka', 'Alijikuta', 'tu', 'anaitikia', 'lolote', 'ambalo', 'mume', 'wake', 'alikuwa', 'anamweleza', '.', 'Alishindwa', 'kusema', 'chochote', 'wala', 'kuchukua', 'hatua', 'zozote', 'za', 'kutetea', 'ndoa', 'yake', '.', 'Aliamua', 'kuondoka', 'na', 'kumuacha', 'mume', 'wake', ',', 'baba', 'ya', 'watoto', 'wake', 'na', 'mpenzi', 'wake', ',', 'kulala', 'na', 'mwanamke', 'huyo', 'usiku', 'huo', '.', 'Je', 'Narumbe', 'alikwenda', 'wapi', '?', 'Alipotoka', 'nje', 'na', 'kumuacha', 'mume', 'wake', 'na', 'mpenzi', 'wake', ',', 'alikuwa', 'hajui', 'iwapo', 'abishie', 'majirani', 'milango', ',', 'au', 'alale', 'tu', 'nje', 'ya', 'nyumba', 'yake', '.', '``', 'Kulikuwa', 'na', 'giza', 'nje', ',', 'lakini', 'giza', 'kubwa', 'lilikuwa', 'katika', 'moyo', 'wangu', 'nisijue', 'la', 'kufanya', '.', 'Hapo', 'hapo', 'nilikumbuka', 'kuhusu', 'rafiki', 'yangu', 'wa', 'karibu', 'ambaye', 'hakuwa', 'anaishi', 'mbali', 'na', 'kwangu', '.', 'Ni', 'yeye', 'aliyenipokea', 'na', 'kunipa', 'pa', 'kulala', 'usiku', 'huo', ',', '``', 'Narumbe', 'anakumbuka', '.', 'Narumbe', 'Ekiru', 'alingia', 'kwenye', 'maisha', 'ya', 'ndoa', 'akiwa', 'na', 'umri', 'wa', 'miaka', '19', '.', 'Alijitosa', 'kwenye', 'ndoa', 'na', 'shauku', 'ya', 'kutamani', 'iwe', 'nambari', 'moja', 'kwa', 'hali', 'na', 'mali', '.', 'Mwanamke', 'huyu', 'alifahamu', 'tangu', 'akiwa', 'binti', 'kuwa', 'mwanamke', 'mzuri', 'ni', 'yule', 'ambaye', 'huvumilia', ',', 'na', 'hutafuta', 'kila', 'mbinu', 'kuishi', 'na', 'mume', 'wake', 'bila', 'ugomvi', '.', '``', 'Miaka', 'ya', 'kwanza', 'ya', 'ndoa', 'yangu', 'tulianza', 'na', 'ufukara', 'mkubwa', 'kiasi', 'kuwa', 'tulianza', 'kuishi', 'nyumba', 'ya', 'rafiki', 'wa', 'karibu', 'wa', 'mume', 'wangu', '.', 'Kusema', 'ukweli', 'mume', 'wangu', 'hakuwa', 'na', 'chochote', 'hata', 'kijiko', 'kwahivyo', 'tulianza', 'maisha', 'ya', 'chini', 'mno', 'na', 'tukaanza', 'kupanda', 'polepole', ',', \"''\", 'Narumbe', 'anakumbuka', '.', 'Kando', 'na', 'hayo', 'ni', 'kuwa', 'mwanadada', 'huyu', 'alisumbuka', 'kushika', 'mimba', '.', 'Kwa', 'mara', 'tatu', 'mimba', 'alizokuwa', 'nazo', 'zilitoka', '.', 'Aliposhika', 'mimba', 'kwa', 'mara', 'ya', 'nne', 'ndipo', 'alipojaaliwa', 'mtoto', 'wao', 'wa', 'kwanza', 'mwaka', 'wa', '2007', ',', 'na', 'baada', 'ya', 'hapo', 'alijaliwa', 'watoto', 'wengine', 'wavulana', 'mwaka', 'wa', '2009', 'na', 'mwaka', 'wa', '2012', 'mtawalia', '.', 'Mwanadada', 'huyu', 'anasema', 'kuwa', 'hata', 'kipindi', 'ambacho', 'mume', 'wake', 'alipopatwa', 'na', 'ugonjwa', 'alisimama', 'naye', '.', 'Chanzo', 'cha', 'picha', ',', 'Narumbe', 'Maelezo', 'ya', 'picha', ',', 'Mwanadada', 'huyu', 'anasema', 'kuwa', 'hata', 'kipindi', 'ambacho', 'mume', 'wake', 'alipopatwa', 'na', 'ugonjwa', 'alisimama', 'naye', '.', 'Katika', 'hali', 'hio', 'iliwabidi', 'wahame', 'na', 'kuanza', 'maisha', 'mapya', 'kijijini', 'kwa', 'kukosa', 'namna', 'ya', 'kuishi', 'mijini', '.', 'Baada', 'ya', 'miaka', 'miwili', 'ya', 'kuishi', 'kijijini', 'na', 'mume', 'wake', 'kupata', 'nafuu', 'walihama', 'tena', '.', 'Lakini', 'maisha', 'yalibadilika', 'hususan', 'tabia', 'na', 'mienendo', 'ya', 'mume', 'wake', 'waliporejea', 'tena', 'mjini', 'na', 'kuanza', 'maisha', 'yaliokuwa', 'angalau', 'na', 'ustarehe', '.', 'Visa', 'vya', 'michepuko', 'Waliporejerea', 'maisha', 'ya', 'mjini', ',', 'biashara', 'ya', 'mume', 'wake', 'ilianza', 'kunawiri', ',', 'na', 'kwa', 'hivyo', 'maisha', 'ya', 'ufukara', 'waliyaaga', 'kwaheri', '.', 'Narumbe', 'anasema', 'kuwa', 'mumewe', 'naye', 'alibadilikia', 'wakati', 'huo', '.', 'Akiwa', 'na', 'ujauzito', 'wa', 'mtoto', 'wa', 'pili', ',', 'anakumbuka', 'kuwa', 'mume', 'wake', 'alirejea', 'nyumbani', 'na', 'mwanamke', 'mwengine', 'aliyekuwa', 'na', 'mtoto', 'mdogo', '.', 'Narumbe', 'anasema', 'kuwa', 'waliendelea', 'na', 'uhusiano', 'wa', 'kimapenzi', 'na', 'mumewe', '.', 'Alipangishiwa', 'nyumba', 'kwengine', 'na', 'wakaendelea', 'na', 'uhusiano', 'huo', 'Vuta', 'nikuvute', 'ilipojiri', 'ilibidi', 'mpenzi', 'wa', 'mumewe', 'aondoke', 'Narumbe', 'anasema', 'kuwa', 'waliendelea', 'na', 'uhusiano', 'wa', 'kimapenzi', 'na', 'mumewe', '.', 'Alipangishiwa', 'nyumba', 'kwengine', 'na', 'wakaendelea', 'na', 'uhusiano', 'huo', '.', 'Baada', 'ya', 'hapo', 'kila', 'baada', 'ya', 'muda', 'Narumbe', 'anadai', 'kuwa', 'mume', 'wake', 'alikuwa', 'anaingia', 'kwenye', 'mahusiano', 'ya', 'mapenzi', 'na', 'wanawake', 'tofauti', '.', 'Kilichokuwa', 'kinamkera', 'sana', 'ni', 'kwamba', 'mume', 'wake', 'alikuwa', 'anamueleza', 'kuhusiana', 'na', 'visa', 'na', 'vituko', 'vyake', 'na', 'wale', 'wapenzi', 'wake', '.', '``', 'Katika', 'muda', 'niliokuwa', 'kwenye', 'ndoa', 'yangu', ',', 'mume', 'wangu', 'alikuwa', 'na', 'uhusiano', 'wa', 'kimapenzi', 'na', 'wanawake', 'tisa', '.', 'Wote', 'hao', 'alikuwa', 'ananieleza', 'jinsi', 'walivyo', 'na', 'kila', 'kitu', 'kuhusu', 'maisha', 'yao', '.', 'Hali', 'hiyo', 'ilikuwa', 'inanipa', 'uchungu', 'na', 'kero', 'nyingi', ',', 'ila', 'kila', 'wakati', 'nilidhani', 'kuwa', 'mume', 'wangu', 'angebadilika', 'na', 'kurudi', 'kwangu', 'kama', 'mke', 'wake', ',', 'ila', 'haikuwa', 'hivyo', ',', \"''\", 'Narumbe', 'anakumbuka', 'Wakati', 'mmoja', 'alitoroka', 'ndoa', 'yake', 'kwa', 'kushindwa', 'kuhimili', \"'kuchovyachovya\", \"'\", 'kwa', 'mume', 'wake', '.', 'Licha', 'ya', 'kuwa', 'mbali', 'naye', ',', 'alikuwa', 'anahisi', 'kuwa', 'mke', 'mwema', 'ni', 'yule', 'ambaye', 'huvumilia', 'matukio', 'na', 'changamoto', 'za', 'ndoa', ',', 'ila', 'wakati', 'aliotoroka', 'alihisi', 'kana', 'kwamba', 'hangeweza', 'kuhimili', 'machungu', 'ya', 'mume', 'anayeruka', 'kutoka', 'kwa', 'mpenzi', 'mmoja', 'hadi', 'mwengine', '.', 'Kifo', 'cha', 'mumewe', 'na', 'wanawe', 'wawili', 'Vifo', 'vya', 'watu', 'hawa', 'muhimu', 'katika', 'maisha', 'ya', 'mwanamke', 'huyu', 'vilifanyika', 'miaka', 'tofauti', 'na', 'katika', 'mazingira', 'tofauti', 'kama', 'alivyoelezea', '.', 'Mwana', 'wake', 'wa', 'tatu', 'ndiye', 'aliyefariki', 'kwanza', 'mwaka', 'wa', '2013', 'akiwa', 'na', 'siku', 'saba', 'baada', 'ya', 'kuzaliwa', '.', 'Hii', 'ni', 'baada', 'ya', 'kuugua', 'kwa', 'muda', 'mfupi', '.', 'Mvulana', 'wake', 'wa', 'kwanza', 'akiwa', 'na', 'miaka', '9', 'alianza', 'kuugua', ',', 'Kifua', 'kikuu', '(', 'TB', ')', 'ugonjwa', 'ambao', 'ulimdhoofisha', 'sana', '.', 'Kando', 'na', 'hayo', 'Narumbe', 'anasema', 'kuwa', 'Macho', 'na', 'masikio', 'ya', 'mwana', 'wake', 'yalikuwa', 'yanamsumbua', 'sana', 'na', 'kwa', 'miaka', 'miwili', ',', 'mtoto', 'huyo', \"aling'ang'ana\", 'na', 'usumbufu', 'wa', 'mwili', 'wake', '.', 'Alizidiwa', 'na', 'kufariki', 'mwezi', 'Mei', 'mwaka', 'wa', '2016', '.', '``', 'Wakati', 'huu', 'wote', 'nilikuwa', 'najiuliza', 'ni', 'kwanini', 'watoto', 'wangu', 'wameanza', 'kufariki', '.', 'Vile', 'vile', 'nilikumbuka', 'ugumu', 'na', 'mahangaiko', 'ya', 'kushika', 'mimba', '.', 'Baada', 'ya', 'kupoteza', 'mimba', 'tatu', 'kutoka', 'kabla', 'ya', 'kujifungua', '.', 'Nilijwa', 'na', 'maswali', 'mengi', 'na', 'sikuwa', 'na', 'wakunijibu', ',', \"''\", 'anakumbuka', 'Narumbe', 'Narumbe', 'alikuwa', 'amesalia', 'na', 'mvulana', 'wake', 'mmoja', 'tu', 'na', 'mume', 'wake', 'naye', 'alikuwa', 'tayari', 'amemuoa', 'mwanamke', 'mwengine', 'baada', 'ya', 'Narumbe', 'kuacha', 'ndoa', 'ile', '.', 'Kifo', 'cha', 'mume', 'wake', 'kilitokea', 'wakati', 'ambapo', 'Narumbe', 'anasema', 'alikuwa', 'amejitenga', 'kwa', 'maombi', '.', 'Narumbe', 'anasema', 'kuwa', 'mumewe', 'aliaga', 'mwaka', 'wa', '2017', 'mwezi', 'sawia', 'na', 'wakati', 'ambapo', 'mwana', 'wao', 'wa', 'kwanza', 'alifariki', '.', 'Kulingana', 'na', 'alivyoelezwa', 'ni', 'kuwa', 'mumewe', 'alipatwa', 'na', 'mshtuko', 'wa', 'moyo', 'alipokuwa', 'kwenye', 'bodaboda', ',', 'na', 'juhudi', 'zake', 'kupelekwa', 'hospitalini', 'hazikufua', 'dadu', 'kwani', 'alifariki', 'kabla', 'ya', 'kupewa', 'matibabu', 'yoyote', '.', 'Kuwapata', 'watoto', 'wengine', 'Chanzo', 'cha', 'picha', ',', 'NARUMBE', 'Maelezo', 'ya', 'picha', ',', 'Kwa', 'sasa', 'Ekiru', 'Narumbe', 'amejikakamua', 'kuwa', 'mama', 'mlezi', 'wa', 'watoto', 'zaidi', 'ya', '40', '.', 'Kwa', 'sasa', 'Ekiru', 'Narumbe', 'amejikakamua', 'kuwa', 'mama', 'mlezi', 'wa', 'watoto', 'zaidi', 'ya', '40', '.', 'Hawa', 'anawapa', 'malezi', 'katika', 'makao', 'ya', 'watoto', '.', 'Mwanzoni', 'makao', 'haya', 'yalikuwa', 'yameanzishwa', 'na', 'aliyekuwa', 'mume', 'wake', 'ambaye', 'ni', 'marehemu', 'lakini', 'baada', 'ya', 'kifo', 'chake', 'aliamua', 'kuendeleza', 'kazi', 'ya', 'kuwapa', 'malezi', 'na', 'upendo', 'watoto', 'wanaohitaji', 'usaidizi', '.', 'Kando', 'na', 'kuwa', 'ana', 'jukumu', 'la', 'kumpa', 'malezi', 'na', 'upendo', 'mtoto', 'wake', 'wa', 'kipekee', 'aliyesalia', 'hai', '.', 'Narumbe', 'ni', 'mtoa', 'nasaha', 'ambaye', ';', 'yeye', 'kama', 'mama', 'aliyepitia', 'uchungu', 'wa', 'kufiwa', 'na', 'watu', 'aliowapenda', 'na', 'vilevile', 'kufa', 'kwa', 'ndoa', 'yake', 'anafahamu', 'misukosuko', 'ya', 'maisha', 'jinsi', 'hutokea', 'katika', 'maisha', 'ya', 'mtu', '.']\n",
      "\n",
      " Number of Words:  1224\n"
     ]
    }
   ],
   "source": [
    "file=\"20aug26_1.txt\"\n",
    "\n",
    "# calling the function and storing the contents in a text variable \n",
    "text = get_document(\"https://www.bbc.com/swahili/habari-53915380\")\n",
    "\n",
    "# calling the store_ document function \n",
    "store_document(doc=text,name=file)\n",
    "\n",
    "#add the words in this file to the total_corpus_words, to keep count of the number of words in the corpus\n",
    "total_corpus_words+=total_words(file)"
   ]
  },
  {
   "cell_type": "code",
   "execution_count": 49,
   "metadata": {},
   "outputs": [
    {
     "data": {
      "text/plain": [
       "317983"
      ]
     },
     "execution_count": 49,
     "metadata": {},
     "output_type": "execute_result"
    }
   ],
   "source": [
    "total_corpus_words"
   ]
  },
  {
   "cell_type": "code",
   "execution_count": 50,
   "metadata": {},
   "outputs": [
    {
     "name": "stdout",
     "output_type": "stream",
     "text": [
      "['Rais', 'Kenyatta', 'aongeza', 'muda', 'wa', 'marufuku', 'ya', 'kutotembea', 'usiku', 'Kenya', 'Akihutubia', 'taifa', 'juu', 'ya', 'mkakati', 'wa', 'taifa', 'wa', 'kudhibiti', 'maambukizi', 'ya', 'Covid-19', 'Rais', 'Uhuru', 'amesema', 'amri', 'ya', 'kutotembea', 'kati', 'ya', 'saa', 'tatu', 'usiku', 'na', 'saa', 'kumi', 'alfajiri', 'itaendelea', 'kwa', 'siku', '30.', '``', 'Hakutakua', 'na', 'mauzo', 'ya', 'pombe', 'katika', 'baa', 'au', 'katika', 'migahawa', '``', 'kwa', 'kipindi', 'hicho', '.', 'Rais', 'Kenyatta', '.', 'amewataka', 'wamiliki', 'wa', 'vilabu', 'vya', 'pombe', 'kuunda', 'mbinu', 'za', 'udhibiti', 'wa', 'shughuli', 'yao', 'kama', 'sehemu', 'ya', 'wajibu', 'wao', 'kama', 'raia', 'kwa', 'wateja', 'wao', 'ili', 'kusaidia', 'mchakato', 'wa', 'kufunguliwa', 'kwa', 'biashara', 'yao', '.', 'Hotuba', 'hii', 'imetolewa', 'kufutia', 'kikao', 'cha', 'kamati', 'ya', 'taifa', 'ya', 'dharura', '.', 'Amesema', 'masharti', 'ya', 'uuzaji', 'wa', 'mitumba', 'yametolewa', 'na', 'mwongozo', 'utatolewa', 'juu', 'ya', 'biashara', 'hiyo', 'na', 'serikali', 'yake', '.', 'Bwana', 'Kenyatta', 'pia', 'amesema', 'pia', 'amewapongeza', 'Wakenya', 'kwa', 'kufuata', 'masharti', 'ya', 'kukabiliana', 'na', 'Covid-19', ',', 'akisema', 'kuwa', 'kwasasa', 'kiwango', 'cha', 'maambukizi', 'nchini', 'humo', 'kimeshuka', 'kutoka', 'asilimia', '13', 'mwezi', 'Juni', 'hadi', 'asilimia', '8', 'mwezi', 'wa', 'Agosti', '.', 'Hotuba', 'ya', 'rais', 'inatolewa', 'huku', 'maambukizi', 'mapya', 'ya', 'virusi', 'yakiripotiwa', 'kufikia', '213', 'katika', 'kipindi', 'cha', 'saa', '24', 'na', 'kulifanya', 'taifa', 'hilo', 'kuwa', 'na', 'jumla', 'ya', 'visa', '33,016', '.', 'Vifo', '5', 'pia', 'vimeripotiwa', 'leo', 'na', 'hivyo', 'jumla', 'ya', 'watu', 'waliokufa', 'kufikia', '564', '.', 'Waliopona', 'virusi', 'vya', 'corona', 'ni', 'zaidi', 'ya', '19,000', '.', 'Huenda', 'Kenya', 'ikafungua', 'shule', 'Waziri', 'wa', 'elimu', 'amedokeza', 'juu', 'ya', 'kufunguliwa', 'kwa', 'shule', 'mapema', 'zaidi', 'ya', 'muda', 'uliokua', 'umependekezwa', 'wa', 'Januari', '2021', 'iwapo', 'idadi', 'ya', 'maambukizi', 'itaendelea', 'kupungua', '.', 'George', 'Magoha', 'amesema', 'kuwa', 'taasisi', 'za', 'elimu', 'ya', 'juu', 'zinaweza', 'kufungua', 'mapema', 'kuliko', 'ilivyopangwa', '.', 'Kenya', 'ilifuta', 'muhula', 'wa', 'masomo', 'wa', 'mwaka', '2020', 'mwezi', 'Machi', 'kwasababu', 'ya', 'janga', 'la', 'corona', '.', 'Waziri', 'alisema', 'kuwa', 'itakuwa', 'ni', 'faida', 'kwa', 'wanafunzi', 'kufungua', 'tena', 'shule', 'mapema', 'kama', 'viwango', 'vya', 'maambukizi', 'vitaendela', 'kupungua', 'kama', 'ilivyo', 'sasa', '.', 'Wizara', 'ya', 'afya', 'imekua', 'ikiripoti', 'idadi', 'ya', 'chini', 'ya', 'maambukizi', 'hivi', 'karibuni', 'huku', 'Mkurugenzi', 'Mkuu', 'akisema', 'kuwa', 'viwango', 'hivyo', 'vinahitaji', 'kufikia', 'chini', 'ya', '5', '%', 'kwa', 'kipindi', 'cha', 'wiki', 'mbili', 'ndipo', 'itakapofahamika', 'kuwa', 'viwango', 'vya', 'maambukizi', 'vimepungua', '.', 'Wiki', 'iliyopita', 'Shirika', 'la', 'afya', 'duniani', '-WHO', 'pamoja', 'na', 'Shirika', 'la', 'watoto', 'la', 'Umoja', 'wa', 'Mataifa', 'Unicefyaliyataka', 'mataifa', 'ya', 'Afrika', 'kufikiria', 'kufungua', 'tena', 'shule', 'lakini', 'yawe', 'na', 'miongozo', 'thabiti', 'ya', 'kuzuwia', 'maambukizi', '.', 'Mahakama', 'yaahirisha', 'kesi', 'ya', 'Tundu', 'Lissu', 'Hii', 'ni', 'baada', 'ya', 'Rose', 'Moshi', ',', 'Mdhamini', 'wake', 'kuielezea', 'mahakama', 'kuwa', 'mshitakiwa', 'ameshindwa', 'kuhudhuria', 'kutokana', 'na', 'kuchelewa', 'kukamilisha', 'urejeshaji', 'wa', 'fomu', 'za', 'uteuzi', 'wa', 'kugombea', 'urais', '.', 'Miongoni', 'mwa', 'mashitaka', 'anayoshitakiwa', 'ni', 'pamoja', 'na', 'kutoa', 'maneno', 'ya', 'uchochezi', ',', 'tuhuma', 'ambazo', 'anazikana', '.', 'Waendeshamashitaka', 'wa', 'kimataifa', 'watafuta', 'ushahidi', 'Rwanda', 'dhidi', 'ya', 'Felicien', 'Kabuga', 'Yves', 'Bucyana', 'BBC', 'Swahili', 'BBCCopyright', ':', 'BBC', 'Waendeshamashitaka', 'wa', 'mahakamaya', 'kimataifa', 'ya', 'uhalifu', 'wa', 'Rwanda', 'ICTR', 'wahamishia', 'kazi', 'zao', 'nchini', 'Rwanda', 'kwa', 'lengo', 'la', 'kukusanya', 'ushahidi', 'zaidi', 'na', 'kuandaa', 'faili', 'la', 'mashitaka', 'la', 'mtuhumiwa', 'mkuu', 'wa', 'mauaji', 'ya', 'kimbari', 'Felicien', 'Kabuga', 'kabla', 'ya', 'kesi', 'yake', 'kuanza', 'kusikilizwa', 'rasmi', '.', 'Kabuga', 'alikamatwa', 'nchini', 'Ufaransa', 'mwezi', 'Machi', 'mwaka', 'huu', 'baada', 'ya', 'kuwa', 'mafichoni', 'kwa', 'miaka', '26', '.', 'BBCCopyright', ':', 'BBC', 'Mwendeshamashtaka', 'mkuu', 'wa', 'ICTR', 'Serge', 'Brammertz', 'kushoto', 'na', 'mwendesha', 'mashitaka', 'Mkuu', 'wa', 'Rwanda', ',', 'Aimable', 'HavugiyaremyeImage', 'caption', ':', 'Mwendeshamashtaka', 'mkuu', 'wa', 'ICTR', 'Serge', 'Brammertz', 'kushoto', 'na', 'mwendesha', 'mashitaka', 'Mkuu', 'wa', 'Rwanda', ',', 'Aimable', 'Havugiyaremye', 'Mwendeshamashitaka', 'Mkuu', 'wa', 'mahakama', 'maalum', 'iliyochukua', 'nafasi', 'ya', 'ICTRSERGE', 'Brammertz', 'amesema', 'walilazimika', 'kuongeza', 'idadi', 'ya', 'waendeshamashitaka', 'katika', 'kesi', 'hiyo', 'ili', 'kufanyia', 'kazi', 'faili', 'la', 'mashitaka', 'la', 'Kabugakwa', 'kufanya', 'uchunguzi', 'zaidi', 'wa', 'mashtaka', 'dhidi', 'ya', 'mtuhumiwa', 'huyo', ':', '‘', '’', 'Niliongeza', 'idadi', 'ya', 'wapelelezi', 'na', 'waendeshamashtaka', 'ili', 'kuweza', 'kufanya', 'kazi', 'na', 'Rwanda', 'sababu', 'hata', 'kama', 'tunafurahia', 'kukamatwa', 'kwa', 'Bwana', 'Kabuga', 'ni', 'lazima', 'faili', 'la', 'mashitaka', 'dhidi', 'yake', 'ifanyiwe', 'kazi', 'ipasavyo', '.', 'Lazima', 'tutafute', 'tena', 'mashahidi', 'na', 'waathiriwa', 'waliokuwa', 'wameishatoa', 'ushahidi', '.', 'Tutakuna', 'na', 'mashirika', 'ya', 'manusura', 'wa', 'mauaji', 'ya', 'kimbari', 'kwa', 'sababu', 'tunataka', 'kuoanisha', 'ushahidi', 'wa', 'awali', 'na', 'ushahidimpyana', 'kwa', 'kipindi', 'kifupi', '’', '’', 'Waendesha', 'mashitaka', 'hao', 'wanatarajiwa', 'kukamilisha', 'uchunguzi', 'wao', 'Rwanda', 'katika', 'kipindi', 'cha', 'wiki', 'mbili', '.', 'Walioambukia', 'virusi', 'vya', 'corona', 'Afrika', 'ni', 'karibu', 'milioni', '1.2', 'Mataifa', 'ya', 'Afrika', 'yanashauriwa', 'kupima', 'virusi', 'vya', 'corona', 'zaidiImage', 'caption', ':', 'Mataifa', 'ya', 'Afrika', 'yanashauriwa', 'kupima', 'virusi', 'vya', 'corona', 'zaidi', 'Watu', 'waliopatikana', 'na', 'maambukizi', 'ya', 'virusi', 'vya', 'corona', 'wanakaribia', 'kufikia', 'milioni', '2.1', ',', 'barani', 'Afrika', 'kwa', 'mujibu', 'wa', 'taarifa', 'za', 'hivi', 'punde', 'zilizotolewa', 'na', 'kituo', 'cha', 'udhibiti', 'na', 'uzuwiaji', 'wa', 'magonjwa', '(', 'CDC', ')', '.', 'Kituo', 'hicho', 'kimetuma', 'ujumbe', 'wake', 'wa', 'Twitter', 'kwamba', 'idadi', 'ya', 'maambukizi', 'sasa', 'imefikia', 'watu', '1,196,710', ',', 'vifo', '28', ',', '014', 'huku', 'idadi', 'ya', 'waliopona', 'ikiwa', 'ni', '922', ',', '833', '.', 'Afrika', 'Kusini', 'ndiyo', 'inayoongoza', 'kwa', 'maambukizi', 'ikiwa', 'na', '611,450', 'waliopatwa', 'na', 'virusi', ',', 'ikifuatiwa', 'na', 'Misri', '97,478', ',', 'Morocco', '53,252', ',', 'Nigeria', '52,548', ',', 'Ghana', '43,622', ',', 'Algeria', '42,302', ',', 'Ethiopia', '42,143', 'na', 'Kenya', 'watu', '32,803', '.', 'Kituo', 'cha', 'CDC', 'kimekuwa', 'kikiyataka', 'mataifa', 'kuweka', 'mikakati', 'ya', 'haraka', 'za', 'kukabiliana', 'na', 'janga', 'kwa', 'kuwapima', 'watu', 'zaidi', 'na', 'kutafuta', 'watu', 'waliokutana', 'na', 'wenye', 'maambukizi', 'ili', 'wapimwe', '.', 'Hivi', 'karibuni', 'kituo', 'hicho', 'kilizindua', 'upimaji', 'wa', 'kinga', 'ya', 'mwili', 'ili', 'kutambua', 'makali', 'ya', 'maambukizi', 'ya', 'virusi', 'hivyo', 'barani', 'Afrika', '.']\n",
      "\n",
      " Number of Words:  821\n"
     ]
    }
   ],
   "source": [
    "file=\"20aug26_2.txt\"\n",
    "\n",
    "# calling the function and storing the contents in a text variable \n",
    "text = get_document(\"https://www.bbc.com/swahili/live/habari-53916033\")\n",
    "\n",
    "# calling the store_ document function \n",
    "store_document(doc=text,name=file)\n",
    "\n",
    "#add the words in this file to the total_corpus_words, to keep count of the number of words in the corpus\n",
    "total_corpus_words+=total_words(file)"
   ]
  },
  {
   "cell_type": "code",
   "execution_count": 51,
   "metadata": {},
   "outputs": [
    {
     "data": {
      "text/plain": [
       "318804"
      ]
     },
     "execution_count": 51,
     "metadata": {},
     "output_type": "execute_result"
    }
   ],
   "source": [
    "total_corpus_words"
   ]
  },
  {
   "cell_type": "code",
   "execution_count": 52,
   "metadata": {},
   "outputs": [
    {
     "name": "stdout",
     "output_type": "stream",
     "text": [
      "['Mamlaka', 'ya', 'mawasiliano', 'Tanzania', 'yazuia', 'kwa', 'muda', 'matangazo', 'ya', 'redio', 'na', 'TV', 'TCRA', 'TANZANIA/TWITTERCopyright', ':', 'TCRA', 'TANZANIA/TWITTER', 'Mamlaka', 'ya', 'mawasiliano', 'nchini', 'Tanzania', 'TCRA', 'imepiga', 'marufuku', 'matangazo', 'ya', 'redio', 'na', 'televisheni', 'za', 'kampuni', 'ya', 'Clouds', ',', 'Clauds', 'TV', 'na', 'Clouds', 'FM', 'kwa', 'siku', 'saba', '.', 'Maafisa', 'wa', 'mamlaka', 'hiyo', 'wamesema', 'katika', 'mkutano', 'na', 'waandishi', 'wa', 'habari', 'kuwa', 'kituo', 'hicho', 'kimepigwa', 'marufuku', 'baada', 'ya', 'kutangaza', 'takwimu', 'za', 'matokeo', 'ya', 'uchaguzi', 'ambazo', 'hazikuidhinishwa', 'na', 'Tume', 'ya', 'taifa', 'ya', 'uchaguzi', '(', 'NEC', ')', '.', 'Jumatano', 'NEC', 'ilisema', 'kuwa', 'kituo', 'hicho', 'kilitangaza', 'kwamba', 'wagombea', 'fulani', 'wa', 'wamepita', 'bila', 'kupingwa', 'baada', 'ya', 'wapinzani', 'wao', 'kushindwa', 'kufikia', 'vigezo', 'vya', 'uteuzi', 'katika', 'majimbo', 'fulani', '.', 'Mapema', 'mwezi', 'huu', 'TCRA', 'ilipiga', 'marufuku', 'kipindi', 'cha', 'redio', '(', 'Jahazi', ')', 'cha', 'kituo', 'hicho', 'kwa', 'madai', 'kwa', 'ukiukaji', 'wa', 'maadili', '.', 'Katika', 'taarifa', 'yake', 'ya', 'Jumatano', 'TCRA', 'iliviasa', 'vyombo', 'vya', 'habari', 'kuzingatia', 'sheria', 'na', 'maadili', 'yao', 'na', 'kuonya', 'kuwa', 'itachukua', 'hatua', 'kali', 'za', 'kisheria', 'kwa', 'chombo', 'chochote', 'kitakachoonekana', 'kwenda', 'kinyume', 'na', 'sheria', ',', 'kanuni', 'na', 'taratibu', 'za', 'uchaguzi', 'nchini', 'humo', '.', 'Viongozi', 'wa', 'mapinduzi', 'Mali', \"'wanataka\", 'mamlaka', 'kwa', 'miaka', 'mitatu', \"'\", 'Mapinduzi', 'yaliyoongozwa', 'na', 'jeshi', \"yalimg'oa\", 'mamlakani', 'Rais', 'Ibrahim', 'Boubacar', 'Keïta', ',', 'mwenye', 'umri', 'wa', 'miaka', '75Image', 'caption', ':', 'Mapinduzi', 'yaliyoongozwa', 'na', 'jeshi', \"yalimg'oa\", 'mamlakani', 'Rais', 'Ibrahim', 'Boubacar', 'Keïta', ',', 'mwenye', 'umri', 'wa', 'miaka', '75', 'Wapatanishi', 'wa', 'Afrika', 'Magharibi', 'wanasema', 'kuwa', 'viongozi', 'wa', 'mapinduzi', 'nchini', 'Mali', 'wanataka', 'kubakia', 'madarakani', 'kwa', 'miaka', 'mitatu', 'ya', 'kipindi', 'cha', 'mpito', '.', 'Lakini', 'ujumbe', 'wa', 'Jumuiya', 'ya', 'kiuchumi', 'ya', 'nchi', 'za', 'Magharibi', 'Ecowas', 'unasema', 'umewaambia', 'viongozi', 'wa', 'mapinduzi', 'kwamba', 'serikali', 'ya', 'mpito', ',', 'itakayoongozwa', 'na', 'raia', 'au', 'afisa', 'mstaafu', 'wa', 'jeshi', 'inapaswa', 'kudumu', 'kwa', 'kipindi', 'kisichozidi', 'mwaka', 'mmoja', '.', 'Wapatanishi', 'hao', 'wanaongozwa', 'na', 'rais', 'wa', 'zamani', 'wa', 'Nigeria', 'Goodluck', 'Jonathan', '.', 'Umoja', 'wa', 'Mataifa', 'watahadharisha', 'juu', 'ya', 'njaa', 'na', 'utapiamlo', 'Afrika', 'Mashariki', 'Shirika', 'la', 'mpango', 'wa', 'chakula', 'duniani', '(', 'WFP', ')', 'limesema', 'kuwa', 'njaa', 'kubwa', 'na', 'utapiamlo', 'vinawakabili', 'mamilioni', 'ya', 'wakimbizi', 'walioko', 'mashariki', 'mwa', 'Afrika', 'mashariki', 'wanaoishi', 'kwa', 'kutegemeamsaada', 'kutoka', 'kwa', 'shirika', 'hilo', 'la', 'chakula', '.', 'Limesema', 'kuwa', 'athari', 'za', 'kijamii', 'na', 'kiuchumi', 'za', 'janga', 'Covid-19', 'zimepunguza', 'msaada', 'muhimu', 'kutoka', 'kwa', 'wahisani', '.', 'WFP', 'tayari', 'liimepunguza', 'usambazaji', 'wa', 'chakula', 'au', 'utoaji', 'wa', 'pesa', 'kwa', 'kiwango', 'cha', 'hadi', '30', '%', 'kwa', 'zaidi', 'ya', 'wakimbizi', 'milioni', '2.7', 'waliopo', 'katika', 'mataifa', 'ya', 'Ethiopia', ',', 'Uganda', ',', 'Kenya', ',', 'Sudan', 'Kusini', ',', 'na', 'Djibouti', ',', 'limesema', '.', '``', 'Wakimbizi', 'wanakabiliwa', 'na', 'hatari', 'ya', 'kupatwa', 'na', 'maambukizi', 'ya', 'Covid-19', 'kwasababu', 'ya', 'kukaa', 'pamoja', 'wakiwa', 'wengi', 'katika', 'kambi', ',', 'huku', 'wakikabiliwa', 'na', 'uhaba', 'mkubwa', 'wa', 'maji', 'na', 'usafi', 'duni', ',', \"''\", 'amesema', 'Mkurugenzi', 'wa', 'WFP', 'kanda', 'ya', 'Afrika', 'Mashariki', 'Michael', 'Dunford', '.', 'Maduka', 'kuendesha', 'biashara', 'kwa', 'zamu', 'Rwanda', 'ili', 'kudhibiti', 'corona', 'Masoko', 'kama', 'hili', 'ni', 'mojawapo', 'ya', 'maeneo', 'ambayo', 'yamepatikana', 'na', 'maambukizi', 'mapya', 'ya', 'coronaImage', 'caption', ':', 'Masoko', 'kama', 'hili', 'ni', 'mojawapo', 'ya', 'maeneo', 'ambayo', 'yamepatikana', 'na', 'maambukizi', 'mapya', 'ya', 'corona', 'Masoko', 'na', 'majumba', 'makubwa', 'ya', 'biashara', 'katika', 'mji', 'mkuu', 'wa', 'Kigali', 'Rwanda', 'yameagizwa', 'kuendesha', 'biashara', 'kwa', 'kiwango', 'cha', '50', '%', 'huku', 'yakipokezana', ',', 'kama', 'mojawapo', 'ya', 'hatua', 'mpya', 'za', 'kukabiliana', 'na', 'kusambaa', 'kwa', 'virusi', 'vya', 'corona', '.', 'Agizo', 'hilo', 'lililoidhinishwa', 'na', 'kikao', 'cha', 'baraza', 'la', 'mawaziri', 'limekuja', 'kufuatia', 'kupanda', 'zaidi', 'kwa', 'idadi', 'ya', 'watu', 'wanaoambukizwa', 'virusi', 'vya', 'corona', 'kwa', 'siku', 'hivi', 'karibuni', '.', 'Visa', 'vipya', 'vya', 'watu', 'waliopata', 'maambukizi', 'imefikia', 'karibu', '1000', 'katika', 'kipindi', 'cha', 'wiki', 'moja', 'iliyopita', '.', 'Getty', 'ImagesCopyright', ':', 'Getty', 'Images', 'Maduka', 'yatatakuwa', 'kuendesha', 'biashara', 'kwa', 'awamuImage', 'caption', ':', 'Maduka', 'yatatakuwa', 'kuendesha', 'biashara', 'kwa', 'awamu', 'Wengi', 'kati', 'ya', 'watu', 'waliopata', 'maambukizi', 'walikuwa', 'ni', 'kutoka', 'kwenye', 'masoko', 'ya', 'mji', 'mkuu', 'Kigali', '.', 'Usafiri', 'wa', 'umma', 'kati', 'ya', 'mji', 'mkuu', 'na', 'mikoa', 'mingine', 'umezuiwa', ',', 'hukumarufuku', 'ya', 'kutotembea', 'usiku', 'kote', 'nchini', 'ikiendelea', 'kati', 'ya', 'saa', 'moja', 'jioni', 'na', 'saa', 'kumi', 'na', 'moja', 'alfajiri', '.', 'Watu', 'wengi', 'wamekuwa', 'wakipelekwa', 'kukaa', 'usiku', 'kucha', 'kwenye', 'viwanja', 'vya', 'michezo', 'kwa', 'kukiuka', 'marufuku', 'hiyo', 'baada', 'ya', 'saa', 'tatu', 'usiku', '.', 'Pingamizi', 'la', 'Lissu', 'dhidi', 'ya', 'rais', 'Magufuli', 'na', 'professa', 'Lipumba', 'lashindwa', 'kufurukuta', 'Mgombea', 'wa', 'urais', 'nchini', 'Tanzania', 'kupitia', 'chama', 'cha', 'upinzani', 'cha', 'CHADEMA', 'Tundu', 'Lissu', 'ameshindwa', 'kuwazuia', 'wapinzani', 'wake', 'katika', 'uchaguzi', 'mkuu', 'wa', 'urais', 'wa', 'mwaka', 'huu', 'kuondolewa', 'katika', 'orodha', 'ya', 'watakaogombea', 'wadhfa', 'huo', '.', 'Barcelona', 'yapanga', 'kujenga', 'timu', 'nyuma', 'ya', 'Messi', 'Messi', 'anashikilia', 'nafasi', 'ya', 'kwanza', 'ya', 'Barca', 'ya', 'mchezaji', 'aliyefunga', 'mabao', 'mengi', 'kwa', 'kutikisa', 'wavu', 'mara', '634Image', 'caption', ':', 'Messi', 'anashikilia', 'nafasi', 'ya', 'kwanza', 'ya', 'Barca', 'ya', 'mchezaji', 'aliyefunga', 'mabao', 'mengi', 'kwa', 'kutikisa', 'wavu', 'mara', '634', 'Barcelona', 'bado', 'inapanga', 'kujenga', 'timu', 'kwa', 'kumtumia', 'Lionel', 'Messi', 'na', 'wanajaribu', 'kumshawishi', 'aendelee', 'kubakia', 'katika', 'klabu', 'hiyo', ',', 'anasema', 'Mkurugenzi', 'wa', 'mchezo', 'Ramon', 'Planes', '.', 'Messi', 'mwenye', 'umri', 'wa', 'miaka', '33-anayecheza', 'katika', 'safu', 'ya', 'mashambulizi', 'kutoka', 'Argentina', 'aliiambia', 'klabu', 'hiyo', 'kuwa', 'anataka', 'kutekeleza', 'kipengele', 'cha', 'mkataba', 'wake', 'kinachomruhusu', 'kuondoka', 'bila', 'malipo', '.', 'Mshindi', 'huyo', 'wa', 'mara', 'sita', 'wa', 'tuzo', 'ya', 'Ballon', \"d'Or\", 'ndiye', 'anayeshikilia', 'nafasi', 'ya', 'kwanza', 'ya', 'Barca', 'ya', 'mchezaji', 'aliyefunga', 'mabao', 'mengi', 'kwa', 'kutikisa', 'wavu', 'mara', '634', '.', '``', 'Kile', 'kilichotokea', 'kimetokea', 'na', 'wazo', 'letu', 'ni', 'kuijenga', 'timu', 'kwa', 'kumtumia', 'mchezaji', 'muhimu', 'duniani', ',', \"''\", 'anasema', 'Planes', '.', '``', 'Tunataka', 'kujenga', 'msururu', 'mwingine', 'wa', 'ushindi', 'ukiongozwa', 'na', 'mchezaji', 'bora', 'duniani', ',', 'bora', 'katika', 'historia', '.', '``', 'Barca', 'na', 'Leo', 'ni', 'kama', 'ndoa', ',', 'kwani', 'wote', 'wamejitolea', 'sana', 'miongoni', 'mwao', ',', 'na', 'wameleta', 'furaha', 'sana', 'kwa', 'mashabiki', '.', 'Ninadhani', 'hali', 'ya', 'baadae', 'ni', 'nzuri', '.', 'Nina', 'matumaini', '.', \"''\", 'Messi', '-', 'anataka', 'kuondoka', 'Barcelona', 'baada', 'ya', 'timu', 'hiyo', 'kushindwa', 'kujipatia', 'taji', 'katika', 'msimu', 'uliomalizika', 'kwa', 'kuchapwa', '8-2', 'na', 'Bayern', 'Munich', 'katika', 'michuano', 'ya', 'robo', 'fainali', 'ya', 'kuwania', 'kombe', 'la', 'Ulaya', '.', 'Wanajeshi', 'wa', 'Rwanda', 'na', 'Burundi', 'wakutana', 'kujadili', 'mzozo', 'baina', 'ya', 'nchi', 'zao', 'THENEWTIMESCopyright', ':', 'THENEWTIMES', 'Wanajeshi', 'wa', 'Burundi', '(', 'katikati', ')', 'wakizungumza', 'na', 'manajeshi', 'wa', 'Rwanda', '(', 'kushoto', ')', 'pamoja', 'na', 'mwakilishi', 'wa', 'ICGLR', '(', 'kushoto', ')', 'katika', 'mpaka', 'wa', 'NembaImage', 'caption', ':', 'Wanajeshi', 'wa', 'Burundi', '(', 'katikati', ')', 'wakizungumza', 'na', 'manajeshi', 'wa', 'Rwanda', '(', 'kushoto', ')', 'pamoja', 'na', 'mwakilishi', 'wa', 'ICGLR', '(', 'kushoto', ')', 'katika', 'mpaka', 'wa', 'Nemba', 'Katibu', 'wa', 'Jumuiya', 'ya', 'nchi', 'za', 'maziwa', '(', 'ICGLR', ')', 'amesema', 'kuwa', 'mkutano', 'wa', 'kwanza', 'unaowashirikisha', 'wakuu', 'wa', 'upelelezi', 'wa', 'majeshi', 'ya', 'Rwanda', 'na', 'Burundi', 'ni', 'mwanzo', 'mzuri', 'na', 'fursa', 'kubwa', 'ya', 'mataifa', 'hayo', 'kutatua', 'mzozo', 'baina', 'yao', '.', 'Ujumbe', 'wa', 'Burundi', 'ukiongozwa', 'na', 'Kanali', 'Ernest', 'Musaba', 'na', 'ule', 'wa', 'Rwanda', 'ukiongozwa', 'na', 'Brigadia', 'Jenerali', 'Vincent', 'Nyakarundi', 'umekutana', 'kwenye', 'mpaka', 'wa', 'nchi', 'hizo', 'mbili', 'katika', 'kikao', 'kinachoongozwa', 'na', 'muwakilishi', 'kutoka', 'ICGLR', 'Leon', 'Mahoungou', '.', 'Katibu', 'Mkuu', 'wa', 'ICGLR', 'Zakary', 'Muburi-Muita', 'ameiambia', 'BBC', 'kuwa', 'mkutano', 'huo', 'unalenga', 'kuwezesha', 'nchi', 'hizo', 'kurejesha', 'uhusiano', 'mwema', 'wa', 'kijeshi', 'na', 'baadae', 'kisiasa', '.', '``', 'Mnafahamu', 'kuwa', 'nchi', 'hizi', 'mbili', 'zimekuwa', 'na', 'uhusiano', 'mbaya', 'wa', 'kisiasa', 'na', 'kijeshi', 'kwa', 'muda', 'mrefu', '``', 'Mubur', 'Muita', ',', 'aliiambia', 'BBC', '.', 'Uhusiano', 'baina', 'ya', 'nchi', 'hizi', 'mbili', 'umekua', 'mbaya', 'tangu', 'mwaka', '2015', ',', 'na', 'mwezi', 'Mei', 'kulikuwa', 'na', 'mapigano', 'baina', 'ya', 'majeshi', 'ya', 'pande', 'mbili', 'karibu', 'na', 'mpaka', 'wa', 'nchi', 'mbili', 'eneo', 'la', 'ziwa', 'Rweru', '.', 'Kila', 'upande', 'umekuwa', 'ukiulaumu', 'mwingine', 'kuwaunga', 'mkono', 'waasi', 'wa', 'mwenzake', 'na', 'kuyumbisha', 'usalama', '.', 'Wafuasi', 'wa', 'Laurent', 'Gbagbo', 'wasema', 'atagombea', 'urais', 'Laurent', 'Gbagbo', 'alikuwa', 'rais', 'kuanzia', 'mwaka', '2000', 'hadi', '2011Image', 'caption', ':', 'Laurent', 'Gbagbo', 'alikuwa', 'rais', 'kuanzia', 'mwaka', '2000', 'hadi', '2011', 'Wafuasi', 'wa', 'rais', 'wa', 'zamani', 'wa', 'Ivory', 'Coast', ',', 'Laurent', 'Gbagbo', ',', 'wanasema', 'kuwa', 'watawasilisha', 'fomu', 'zake', 'za', 'kugombea', 'uraiskatika', 'uchaguzi', 'utakaofanyika', 'mwezi', 'Oktoba', 'hata', 'kama', 'mahakama', 'iliamua', 'kuwa', 'hawezi', 'kugombea', 'kwasababu', 'alipatikana', 'na', 'hatia', 'awali', '.', 'Taifa', 'hilo', 'lilikumbwa', 'na', 'vita', 'vya', 'wenyewe', 'kwa', 'wenyewe', 'bada', 'ya', 'uchaguzi', 'wa', 'mwaka', '2010', ',', 'wakati', 'Bwana', 'Gbagbo', 'alipokataa', 'kuondoka', 'madarakani', 'na', 'kukabidhi', 'mamkala', 'ya', 'nchi', 'kwa', 'mshindi', 'Alassane', 'Ouattara', '.', 'Mwaka', 'jana', 'aliondolewa', 'makosa', 'ya', 'uhalifu', 'dhidi', 'ya', 'binadamu', 'na', 'mahakama', 'ya', 'kimataifa', 'ya', 'jinai', 'ICCna', 'tangu', 'wakati', 'huo', 'amekuwa', 'akiishi', 'nchini', 'Ubelgiji', 'akisubiri', 'uwezekano', 'wa', 'kesi', 'ya', 'rufaa', 'kuwasilishwa', 'na', 'upande', 'wa', 'waendesha', 'mashitaka', '.', 'Alihukumiwa', 'kifungo', 'cha', 'miaka', '20', 'jela', 'kwa', 'kuipora', 'benki', 'ya', 'jimbo', 'wakati', 'wa', 'ghasia', 'za', 'baada', 'ya', 'uchaguzi', 'wa', 'mwaka', '2010', '.', 'Hahakuwepo', 'mahakama', 'wakati', 'wa', 'hukumu', 'yake', '.', 'Kampuni', 'za', 'ndege', 'za', 'Kenya', 'zazuiwa', 'kuingiza', 'ndege', 'zake', 'Tanzania', 'Fly540', 'ni', 'moja', 'ya', 'makampuni', 'ya', 'ndege', 'ya', 'Kenya', 'yaliyozuiwa', 'kuingia', 'TanzaniaImage', 'caption', ':', 'Fly540', 'ni', 'moja', 'ya', 'makampuni', 'ya', 'ndege', 'ya', 'Kenya', 'yaliyozuiwa', 'kuingia', 'Tanzania', 'Kampuni', 'tatu', 'za', 'ndege', 'za', 'Kenya', 'zimezuiwa', 'kuingia', 'nchini', 'Tanzania', 'kufuatia', 'hatua', 'za', 'kudhibiti', 'janga', 'la', 'korona', '.', 'Mamlaka', 'ya', 'safari', 'za', 'anga', 'ya', 'Tanzania', 'imezizuwia', 'kampuni', 'za', 'AirKenya', ',', 'Fly540', 'na', 'Safarilink', 'Aviation', 'zote', 'kutoka', 'Nairobi', '.', 'Ndege', 'za', 'makampuni', 'hayo', 'kwa', 'kawaida', 'huwasafirisha', 'watalii', 'kila', 'siku', 'kuelekea', 'katika', 'Kilimanjaro', 'na', 'Zanzibar', '.', 'Mkurugenzi', 'wa', 'TCAA', ',', 'Hamza', 'Johari', 'amethibitisha', 'katika', 'mahojiano', 'na', 'gazeti', 'la', 'Citizen', 'nchini', 'humo', '.', 'Nchi', 'hizi', 'mbili', 'za', 'Afrika', 'Mashariki', 'zipo', 'kwenye', 'mzozo', 'wa', 'kutokukubaliana', 'juu', 'ya', 'namna', 'zinavyokabiliana', 'na', 'janga', 'la', 'virusi', 'vya', 'corona', '.', 'Mwezi', 'huu', 'Kenya', 'ilitoa', 'orodha', 'ya', 'nchi', '130', 'ambazo', 'wasafiri', 'wake', 'hawatawekwa', 'karantini', 'watakapoingia', 'nchini', 'Kenya', ',', 'Tanzania', 'haikuwemo', '.', 'Kampuni', 'ya', 'ndege', 'ya', 'Kenya', '-Kenya', 'Airways', 'pia', 'iliwekewa', 'marufuku', 'ya', 'kuingia', 'Tanzania', 'baada', 'serikali', 'ya', 'Kenya', 'mapema', 'mwezi', 'Agosti', 'kuiondoa', 'katika', 'orodha', 'ya', 'nchi', '19', 'zikiwemo', 'za', 'Afrika', 'mashariki', ',', 'ambazo', 'raia', 'wake', 'hawatalazimika', 'kuwekwa', 'karantini', 'kwa', 'siku', '14', 'watakapoingia', 'nchini', 'humo', '.']\n",
      "\n",
      " Number of Words:  1497\n"
     ]
    }
   ],
   "source": [
    "file=\"20aug27.txt\"\n",
    "\n",
    "# calling the function and storing the contents in a text variable \n",
    "text = get_document(\"https://www.bbc.com/swahili/live/habari-53929002\")\n",
    "\n",
    "# calling the store_ document function \n",
    "store_document(doc=text,name=file)\n",
    "\n",
    "#add the words in this file to the total_corpus_words, to keep count of the number of words in the corpus\n",
    "total_corpus_words+=total_words(file)"
   ]
  },
  {
   "cell_type": "code",
   "execution_count": 53,
   "metadata": {},
   "outputs": [
    {
     "data": {
      "text/plain": [
       "320301"
      ]
     },
     "execution_count": 53,
     "metadata": {},
     "output_type": "execute_result"
    }
   ],
   "source": [
    "total_corpus_words"
   ]
  },
  {
   "cell_type": "code",
   "execution_count": 54,
   "metadata": {},
   "outputs": [
    {
     "name": "stdout",
     "output_type": "stream",
     "text": [
      "['Je', 'FIFA', 'ni', 'inaweza', 'kuwa', 'kimbilio', 'la', 'Drogba', '?', 'Matumaini', 'ya', 'Didier', 'Drogba', 'ya', 'kuwa', 'rais', 'rais', 'ajaye', 'wa', 'shirikisho', 'la', 'soka', 'la', 'Ivory', 'Coast', '(', 'FIF', ')', 'yanaweza', 'kurejeshwa', '.', 'Fifa', 'imeombakusitishwakwa', 'shughuli', 'zote', 'zinazohusiana', 'na', 'uchaguzi', 'hadi', 'itakapopokea', 'nyaraka', 'mbalimbali', '.', 'Kutokana', 'na', 'kwamba', 'mchakato', 'wa', 'uchaguzi', 'unaweza', 'kuwa', 'wa', 'huru', 'na', 'haki', ',', 'Shirikisho', 'la', 'soka', 'duniani', 'limeiomba', 'tume', 'ya', 'uchaguzi', 'ya', 'FIF', ',', 'iwe', 'imelitumia', 'faili', 'tano', 'kufikia', 'Ijumaa', '``', '28', 'Agosti', '2020', 'bila', 'kuchelewa', '``', '.', '``', 'Wakati', 'tukisubiri', 'nyaraka', 'zenu', 'na', 'taarifa', ',', 'tunawaomba', 'muahirishe', 'shughuli', 'zote', 'zinazohusiana', 'na', 'mchakato', 'wa', 'uchaguzi', 'hadibaadae', ',', \"''\", 'Katibu', 'Mkuu', 'wa', 'FIfa', 'Fatma', 'Samoura', 'amesema', '.', 'Barua', 'ya', 'Samoura', 'ilitumwa', 'Alhamisi', 'siku', 'ambayo', 'nahodha', 'wa', 'zamani', 'wa', 'Ivory', 'Coast', 'na', 'nyota', 'wa', 'Chelsea', 'Drogba', 'alikataliwa', 'kugombea', 'nafasi', 'hiyo', '.', 'Siku', 'ya', 'Alhamisi', ',', 'Tume', 'ya', 'uchaguzi', 'iliwachagua', 'wagombea', 'wawili', 'tu', 'kuwania', 'nafasi', 'ya', 'rais', 'ajaye', 'waFIF-', 'Sory', 'Diabate', ',', 'ambaye', 'ni', 'makamu', 'rais', 'wa', 'sasa', 'wa', 'shirikisho', 'na', 'Yacine', 'Idriss', 'Diallo', 'ambaye', 'ni', 'makamu', 'wa', 'tatu', 'wa', 'zamani', 'wa', 'shirikisho', 'hilo', '.', 'Mwandishi', 'wa', 'habari', 'wa', 'Kenya', 'aliyekamatwa', 'Ethiopia', 'aamua', 'kubaki', 'huko', 'Yassin', 'Juma', 'alikamatwa', 'katika', 'nyumba', 'ya', 'mwanaharakati', 'wa', 'upinzani', 'Jawar', 'MohammedImage', 'caption', ':', 'Yassin', 'Juma', 'alikamatwa', 'katika', 'nyumba', 'ya', 'mwanaharakati', 'wa', 'upinzani', 'Jawar', 'Mohammed', 'Mwandishi', 'wa', 'habari', 'ambaye', 'aliachilia', 'huru', 'nchini', 'Ethiopia', 'amechagua', 'kubakia', 'na', 'marafiki', 'zake', 'nchini', 'Ethiopia', ',', 'kwa', 'mujibu', 'wa', 'wizara', 'ya', 'mambo', 'ya', 'nje', 'ya', 'Kenya', '.', 'Yassin', 'Juma', 'alikamatwa', 'katika', 'nyumba', 'ya', 'mwanaharakati', 'wa', 'upinzani', 'wa', 'Jawar', 'Mohammed', 'mapema', 'mwezi', 'Julai', 'wakati', 'wa', 'ghasia', 'za', 'maandamano', 'kufuatia', 'mauaji', 'ya', 'mwanamuziki', 'maarufu', 'Hachalu', 'Hundessa', '.', 'Aliachiliwa', 'huru', 'mwezi', 'huu', 'baada', 'ya', 'wizara', 'ya', 'mambo', 'ya', 'nje', 'ya', 'Kenya', 'kuingilia', 'kati', 'na', 'kuchukuliwa', 'katika', 'kituo', 'cha', 'karantini', 'kinachomilikiwa', 'na', 'serikali', 'mjini', 'Addis', 'Ababa', 'baada', 'ya', 'kupatikana', 'na', 'virusi', 'vya', 'Covid-19', 'alipokua', 'mahabusu', '.', 'Mwandishi', 'huyo', 'alikamilisha', 'siku', '14', 'katika', 'karantini', 'na', 'akaruhusiwa', 'kutoka', 'kwenye', 'kituo', 'cha', 'karantini', 'baada', 'ya', 'kupimwa', 'na', 'kutopatikana', 'na', 'maambukizi', ',', 'kwa', 'mujibu', 'wa', 'taarifa', 'ya', 'waziri', 'wa', 'Kenya', '.', 'Safari', 'ya', 'Wakimbizi', 'wa', 'Burundi', 'walliorejea', 'nyumbani', 'kutoka', 'Rwanda', 'kwa', 'picha', 'BBCCopyright', ':', 'BBC', 'KT', 'PRESSCopyright', ':', 'KT', 'PRESS', 'BBCCopyright', ':', 'BBC', 'BBCCopyright', ':', 'BBC', 'BBCCopyright', ':', 'BBC', 'Waziri', 'wa', 'Mambo', 'ya', 'ndani', 'na', 'usalama', 'Gervais', 'Ndirakobuca', '(', 'kushoto', ')', 'na', 'Waziri', 'wa', 'afya', 'Thaddée', 'Ndikumana', 'waliongoza', 'ujumbe', 'uliowapokea', 'wakimbizi.Image', 'caption', ':', 'Waziri', 'wa', 'Mambo', 'ya', 'ndani', 'na', 'usalama', 'Gervais', 'Ndirakobuca', '(', 'kushoto', ')', 'na', 'Waziri', 'wa', 'afya', 'Thaddée', 'Ndikumana', 'waliongoza', 'ujumbe', 'uliowapokea', 'wakimbizi', '.', 'Wakimbizi', 'hao', '493', 'ni', 'sehemu', 'ya', 'kwanza', 'ya', 'wakimbizi', 'wapatao', '72,000', 'ambao', 'walikimbilia', 'Rwanda', 'mwaka', '2015', 'kufuatia', 'ghasia', 'zilizotokea', 'baada', 'ya', 'uchaguzi', 'wa', 'mwaka', '2015', '.', '6,000', 'kati', 'yao', 'wamekuwa', 'wakiishi', 'katika', 'kambi', 'ya', 'wakimbizi', 'ya', 'Mahama', 'iliyopo', 'mashariki', 'mwa', 'Rwanda', 'huku', 'wengine', 'wakiishi', 'katika', 'Miji', 'ya', 'Kigali', 'na', 'Huye', ',', 'kwa', 'mujibu', 'wa', 'Shirika', 'la', 'Umoja', 'wa', 'mataifa', 'la', 'wakimbizi', 'UNHCR', '.', 'Miongoni', 'mwa', 'maafisa', 'waliowapokea', 'ni', 'Waziri', 'wa', 'mambo', 'ya', 'ndani', 'wa', 'Burundi', 'Gervais', 'Ndirakobuca', 'na', 'waziri', 'wa', 'afya', 'Dkt', 'Thaddée', 'Ndikumana', '.', 'Katika', 'ujumbe', 'wake', 'wa', 'Twitter', ',', 'Rais', 'wa', 'Burundi', 'Evariste', 'Ndayishimiya', 'aliwakaribisha', 'alisema', ':', '‘', '’', 'Karibu', 'ndugu', 'zetu', 'waliotoka', 'ukimbizini', 'mahama', '.', 'Nifuraha', 'kubwa', 'kwa', 'familia', 'zao', 'na', 'kwa', 'Burundi', '.', 'Wahusika', 'wanaombwa', 'kuwasaidia', 'katika', 'mchakato', 'wa', 'kurejea', 'katika', 'maisha', 'ya', 'kawaida', '.', 'Tunawataka', 'nawngine', 'wanaotaka', 'kurejea', 'warudi', ',', 'Burundini', 'yetu', 'sote', '.', 'Karibu', 'kweni', 'pazuri', '!', '’', '’', ',', 'aliandika', 'Ndayishimiye', '.', 'Museveni', 'atangaza', 'maombi', 'ya', 'corona', 'Uganda', 'Rais', 'wa', 'Uganda', 'Yoweri', 'Museveni', 'ametangaza', 'Jumamosi', 'kuwa', 'siku', 'ya', 'kitaifa', 'ya', 'maombi', 'kwa', 'ajili', 'ya', 'Covid-19', '.', 'Rais', 'huyo', 'amesema', 'kuwa', 'alipata', 'wazo', 'kutoka', 'kwa', 'raia', 'wa', 'Ugandaambaye', 'alikuwa', 'na', '``', 'maono', 'kutoka', 'kwa', 'Mungu', '``', '.', '``', 'Mungu', 'alikua', 'amemuambia', 'katika', 'moano', 'kwamba', 'ninapaswa', 'kuanda', 'maombi', ',', 'yaandaliwe', 'kisayansi', ',', 'ili', 'Mungu', 'atuponye', 'na', 'Covid-19', '...', 'Ninatangaza', 'tarehe', '29', 'Agosti', ',', '2020', ',', 'siku', 'ya', 'maombi', 'ya', 'kitaifa', 'na', 'siku', 'ya', 'mapumziko', 'ya', 'umma', '.', 'Kaeni', 'majumbani', 'mwenu', 'au', 'kwenye', 'viwanja', 'vya', 'nyumba', 'zenu', 'na', 'muombe', ',', \"''\", 'Bwana', 'Museveni', 'alisema', 'katika', 'ujumbe', 'wake', 'wa', 'mtandao', 'wa', 'kijamii', '.', 'Hadi', 'sasa', 'Uganda', 'imerekodi', 'watu', '2,679', 'wenye', 'maambukizi', 'ya', 'virusi', 'vya', 'coronana', 'vifo', '28', '.', 'Serikali', 'iliweka', 'masharti', 'ya', 'kudhibiti', 'maambukizi', 'baada', 'ya', 'kuthibitisha', 'kisa', 'cha', 'kwanza', 'mwezi', 'Machi', '.']\n",
      "\n",
      " Number of Words:  693\n"
     ]
    }
   ],
   "source": [
    "file=\"20aug28.txt\"\n",
    "\n",
    "# calling the function and storing the contents in a text variable \n",
    "text = get_document(\"https://www.bbc.com/swahili/live/habari-53943463\")\n",
    "\n",
    "# calling the store_ document function \n",
    "store_document(doc=text,name=file)\n",
    "\n",
    "#add the words in this file to the total_corpus_words, to keep count of the number of words in the corpus\n",
    "total_corpus_words+=total_words(file)"
   ]
  },
  {
   "cell_type": "code",
   "execution_count": 55,
   "metadata": {},
   "outputs": [
    {
     "data": {
      "text/plain": [
       "320994"
      ]
     },
     "execution_count": 55,
     "metadata": {},
     "output_type": "execute_result"
    }
   ],
   "source": [
    "total_corpus_words"
   ]
  },
  {
   "cell_type": "code",
   "execution_count": 56,
   "metadata": {},
   "outputs": [
    {
     "name": "stdout",
     "output_type": "stream",
     "text": [
      "['Precision', 'Air', ':', 'Kenya', 'kuiruhusu', 'kampuni', 'ya', 'ndege', 'kutoka', 'Tanzania', 'licha', 'ya', 'mgogoro', '31', 'Agosti', '2020', 'Chanzo', 'cha', 'picha', ',', 'Precision', 'Air/Twitter', 'Maelezo', 'ya', 'picha', ',', 'Kenya', 'imesema', 'ina', 'haki', 'za', 'usafiri', 'ambazo', 'hazitaathirika', 'kufuatia', 'mgogoro', 'na', 'Tanzania', 'Kenya', 'haitafuta', 'haki', 'za', 'usafiri', 'za', 'kampuni', 'ya', 'ndege', 'yenye', 'makao', 'yake', 'Tanzania', 'Precision', 'Air', 'ambayo', 'itaanza', 'safari', 'zake', 'kuelekea', 'Jijini', 'Nairobi', 'siku', 'ya', 'Alhamisi', 'licha', 'ya', 'mgogoro', 'uliopo', 'ambao', 'umeilazimu', 'Dar', 'es', 'Salaam', 'kusitisha', 'kampuni', 'tatu', 'za', 'ndege', 'kutoka', 'Kenya', 'kuelekea', 'nchini', 'humo', 'kulingana', 'na', 'gazeti', 'la', 'Business', 'Daily', '.', \"''Precision\", 'Air', 'ina', 'haki', 'za', 'usafiri', 'ambazo', 'hazitaathirika', 'kufuatia', 'mgogoro', 'na', 'Tanzania', '``', 'Kenya', 'haitafuta', 'haki', 'za', 'usafiri', 'za', 'kampuni', 'ya', 'ndege', 'yenye', 'makao', 'yake', 'Tanzania', 'Precision', 'Air', 'ambayo', 'itaanza', 'safari', 'zake', 'kuelekea', 'Jijini', 'Nairobi', 'siku', 'ya', 'Alhamisi', 'licha', 'ya', 'mgogoro', 'uliopo', 'ambao', 'umeilazimu', 'Dar', 'es', 'Salaam', 'kusitisha', 'kampuni', 'tatu', 'za', 'ndege', 'kutoka', 'Kenya', 'kuelekea', 'nchini', 'humo', ',', 'kulingana', 'na', 'gazeti', 'la', 'Business', 'Daily', '.', 'Gazeti', 'hilo', 'limemnukuu', 'mkurugenzi', 'mkuu', 'wa', 'Mamlaka', 'ya', 'safari', 'za', 'ndege', 'nchini', 'Kenya', 'KCAA', 'Gilbert', 'Kibe', 'akisema', 'kwamba', 'kampuni', 'ya', 'ndege', 'ya', 'Precision', 'ina', 'haki', 'za', 'usafiri', 'ambazo', 'hazitaathirika', 'kufuatia', 'mgogoro', 'uliopo', 'kati', 'ya', 'Kenya', 'na', 'Tanzania', '.', 'Kampuni', 'ya', 'Kenya', 'Airways', 'ambayo', 'ilikuwa', 'na', 'haki', 'zake', 'za', 'usafiri', 'kuelekea', 'Tanzania', 'mwanzo', 'wa', 'mwezi', 'huu', 'wakati', 'kampuni', 'hiyo', 'ya', 'ndege', 'ilipoendelea', 'na', 'safari', 'zake', 'za', 'kimataifa', ',', 'imezuiwa', 'na', 'mamlaka', 'ya', 'Tanzania', 'kuingia', 'nchini', 'humo', 'kama', 'hatua', 'ya', 'ili', 'kulipa', 'kisasi', 'baada', 'ya', 'Kenya', 'kutoiorodhesha', 'Dar', 'es', 'Salaam', 'katika', 'orodha', 'ya', 'mataifa', 'yalio', 'salama', '.', \"''Kampuni\", 'ya', 'ndege', 'ya', 'Precision', 'ina', 'haki', 'zilizopo', 'na', 'ninachofahamu', 'ni', 'kwamba', 'haitazuiwa', 'kutua', 'Kenya', \"''\", ',', 'alisema', 'bwana', 'Kibe', 'akizungmza', 'na', 'gazeti', 'la', 'Business', 'Daily', '.', 'Bwana', 'Kibe', 'alinukuliwa', 'akisema', 'kwamba', 'anaendelea', 'kufanya', 'majadiliano', 'na', 'wenzake', 'wa', 'Tanzania', 'ili', 'kuondoa', 'masharti', 'yaliowekwa', 'na', 'Tanzania', '.', 'Tanzania', 'ilizipiga', 'marufuku', 'kampuni', 'tatu', 'za', 'ndege', 'kutoka', 'Kenya', 'kuingia', 'nchini', 'humo', 'kama', 'hatua', 'ya', 'kulipiza', 'kisasi', 'vita', 'vya', 'kibiashara', 'ambavyo', 'vimekuwepo', 'kati', 'ya', 'mataifa', 'hayo', 'kuhusu', 'usimamizi', 'wa', 'mlipuko', 'wa', 'virusi', 'vya', 'corona', '.', 'Unaweza', 'pia', 'kutazama', ':', 'Huwezi', 'kusikiliza', 'tena', 'Maelezo', 'ya', 'sauti', ',', 'Kenya', 'Airways', 'yafuta', 'safari', 'za', 'ndege', 'Hatua', 'hiyo', 'iliochukuliwa', 'na', 'Tanzania', 'inajiri', 'baada', 'ya', 'Nairobi', ',', 'kwa', 'mara', 'ya', 'pili', 'mfululizo', ',', 'kuiweka', 'Tanzania', 'miongoni', 'mwa', 'mataifa', 'ambayo', 'sio', 'salama', 'na', 'virusi', 'vya', 'corona', '.', 'Hatua', 'hiyo', 'ina', 'maana', 'kwamba', 'wasafiri', 'kutoka', 'Tanzania', 'wataendelea', 'kukabiliwa', 'na', 'masharti', 'ya', 'lazima', 'ya', 'kuwekwa', 'katika', 'karantini', 'kwa', 'wiki', 'mbili', 'wanapowasili', 'Kenya', 'ili', 'kuzuia', 'maambukizi', 'ya', 'maradhi', 'hayo', '.', 'Wasafiri', 'kutoka', 'mataifa', '130', ',', 'hatahivyo', 'wako', 'huru', 'kuingia', 'nchini', 'Kenya', 'bila', 'masharti', 'yoyote', 'kufuatia', 'hatua', 'ya', 'pili', 'ambapo', 'serikali', 'iliongeza', 'mataifa', 'mengine', '90', 'katika', 'orodha', 'yake', 'ya', 'mataifa', 'yanayostahili', 'kuingia', 'nchini', 'humo', '.', 'Hatua', 'hiyo', 'ilikasirisha', 'mamlaka', 'nchini', 'Tanzania', 'ambayo', 'wiki', 'iliopita', 'ilijibu', 'kwa', 'kuzifungia', 'kampuni', 'tatu', 'za', 'ndege', 'ikiwemo', ',', 'Airkenya', 'Express', ',', 'Fly540', 'na', 'Safarilink', 'Aviation', 'kutosafiri', 'katika', 'maeneo', 'yoyote', 'nchini', 'Tanzania', '.', '``', 'Sababu', 'ya', 'uamuzi', 'wa', 'kufungia', 'kampuni', 'tatu', 'za', 'ndege', 'kutoka', 'Kenya', 'ni', 'mgogoro', 'uliopo', 'kati', 'ya', 'mataifa', 'haya', 'mawili', ',', 'Mkurugenzi', 'mkuu', 'wa', 'mamlaka', 'ya', 'safari', 'za', 'ndege', 'nchini', 'Tanzania', 'TCAA', 'Hamza', 'Johari', 'alithibitisha', 'katika', 'mahojiano', 'na', 'gazeti', 'la', 'Business', 'Daily', 'mjini', 'Dar', 'es', 'Salaam', '.', \"''Baadhi\", 'ya', 'mataifa', 'yanaruhusiwa', 'kuingia', 'Kenya', 'bila', 'masharti', 'kama', 'hayo', 'licha', 'ya', 'kwamba', 'yana', 'viwango', 'vya', 'juu', 'vya', 'maambukizi', 'ya', 'Covid-19', \"''\", ',', 'alisema', 'bwana', 'Johari', '.', 'Kenya', 'na', 'Tanzania', 'katika', 'kipindi', 'cha', 'miaka', 'minne', 'zimekuwa', 'zikizozana', 'kuhusu', 'visa', ',', 'kodi', 'na', 'haki', 'ya', 'kuingia', 'katika', 'soka', 'kwa', 'biadha', 'kama', 'vile', 'sukari', 'na', 'maziwa', '.', 'Hatua', 'hiyo', 'imeathiri', 'biashara', 'kati', 'ya', 'mataifa', 'hayo', 'mawili', ',', 'na', 'kusabavisha', 'misururu', 'ya', 'mikutano', 'ikiwemo', 'mkutano', 'wa', 'Arusha', 'kutoka', 'mwezi', 'Novemba', '12-16', 'mwaka', 'uliopita', 'ili', 'kujaribu', 'kuimarisha', 'uhusiano', '.', 'Afisa', 'mkuu', 'mtendaji', 'wa', 'shirika', 'la', 'ndege', 'la', 'Kenya', 'Airways', 'Allan', 'Kilavuka', 'alisema', 'kwamba', 'njia', 'ya', 'kuelekea', 'Tanzania', 'inasalia', 'kuwa', 'muhimu', 'kutokana', 'na', 'idadi', 'ya', 'wateja', 'inaowaleta', 'Kenya', 'kwa', 'safari', 'nynegine', 'za', 'kimataifa', 'kwa', 'kutumia', 'ndege', 'za', 'kampuni', 'hiyo', '.']\n",
      "\n",
      " Number of Words:  644\n"
     ]
    }
   ],
   "source": [
    "file=\"20aug31.txt\"\n",
    "\n",
    "# calling the function and storing the contents in a text variable \n",
    "text = get_document(\"https://www.bbc.com/swahili/habari-53973525\")\n",
    "\n",
    "# calling the store_ document function \n",
    "store_document(doc=text,name=file)\n",
    "\n",
    "#add the words in this file to the total_corpus_words, to keep count of the number of words in the corpus\n",
    "total_corpus_words+=total_words(file)"
   ]
  },
  {
   "cell_type": "code",
   "execution_count": 57,
   "metadata": {},
   "outputs": [
    {
     "data": {
      "text/plain": [
       "321638"
      ]
     },
     "execution_count": 57,
     "metadata": {},
     "output_type": "execute_result"
    }
   ],
   "source": [
    "total_corpus_words"
   ]
  },
  {
   "cell_type": "code",
   "execution_count": 58,
   "metadata": {},
   "outputs": [
    {
     "name": "stdout",
     "output_type": "stream",
     "text": [
      "['Jane', 'na', 'mumewe', 'Donah', 'Omondi', 'wamekuwa', 'kwenye', 'ndoa', 'kwa', 'miaka', '12', 'bila', 'mtoto', 'Anne', 'Ngugi', 'BBC', 'Swahili', '2', 'Septemba', '2020', 'Chanzo', 'cha', 'picha', ',', 'Jane', 'Aller', 'Unapozitazama', 'video', 'za', 'Jane', 'Aller', 'na', 'nyimbo', 'zake', 'kwenye', 'mitandao', 'ya', 'kijamii', ',', 'huwezi', 'kamwe', 'kudhani', 'kwamba', 'anaupitia', 'mtihani', 'mgumu', 'maishani', '.', 'Kwa', 'muda', 'mrefu', ',', 'yeye', 'na', 'mumewe', 'Donah', 'Omondi', 'walikuwa', 'wakifanya', 'juhudi', 'za', 'kupata', 'mtoto', '.', 'Lakini', 'kila', 'walipokaribia', 'kupata', ',', 'bahati', 'haikuwa', 'upande', 'wao', '.', 'Ni', 'safari', 'ambayo', 'Jane', 'anaamini', 'wanawake', 'wengi', 'wanaipitia', 'kimya', 'kimya', 'bila', 'kujitokeza', 'hadharani', '.', 'Jane', ',', 'ambaye', 'ni', 'mwanamuziki', 'wa', 'nyimbo', 'za', 'Injili', 'nchini', 'Kenya', 'anasema', 'ameamua', 'kuzungumzia', 'changamoto', 'zake', 'kuwatia', 'moyo', 'wengine', '.', 'Je', ',', 'aliingiaje', 'kwenye', 'maisha', 'ya', 'ndoa', '?', 'Alijaaliwa', 'mtoto', 'mwishowe', '?', 'Chanzo', 'cha', 'picha', ',', 'Jane', 'Aller', 'Ndoa', 'na', 'matumaini', 'Jane', 'Aller', 'amekuwa', 'kwenye', 'ndoa', 'kwa', 'miaka', '12', '.', 'Kwa', 'miaka', 'ya', 'kwanza', 'minne', 'ya', 'kwa', 'katika', ',', 'ndoa', 'yake', 'kulitokea', 'msururu', 'wa', 'matukio', 'ambayo', 'hayakuwa', 'ya', 'kawaida', '.', '``', 'Mwaka', 'wa', 'kwanza', 'tu', 'baada', 'ya', 'ndoa', 'nilishika', 'mimba', ',', 'na', 'ikawa', 'ni', 'furaha', 'kuu', 'kwangu', 'na', 'mume', 'wangu', '.', 'Lakini', 'kwa', 'bahati', 'mbaya', 'ile', 'mimba', 'ilitoka', 'yenyewe', 'baada', 'ya', 'kipindi', 'cha', 'miezi', 'mitatu', 'tu', ',', \"''\", 'anakumbuka', '.', 'Na', 'kwa', 'kuwa', 'ilikuwa', 'ni', 'tukio', 'la', 'kwanza', 'alihisi', 'kuwa', 'ilikuwa', 'ni', 'ajali', 'na', 'kwa', 'hayo', 'hakuwa', 'na', 'wasiwasi', 'wowote', '.', 'Alijua', 'fika', 'kwamba', 'angeshika', 'mimba', 'tena', 'na', 'kujifungua', '.', 'Kwa', 'kawaida', 'mwanamke', 'anaposhika', 'mimba', ',', 'mchakato', 'mzima', 'hufanyika', 'katika', 'mfuko', 'wa', 'uzazi', 'ambapo', 'yai', 'la', 'mwanamke', 'hutungishwa', 'mbegu', 'ya', 'mwanamume', 'ndani', 'ya', 'mfuko', 'huo', '.', 'Hapo', 'ndipo', 'mtoto', 'huanza', 'kukua', '.', 'Lakini', 'kwake', 'Jane', ',', 'mara', 'ya', 'pili', 'mchakato', 'wa', 'kushika', 'mimba', 'yake', 'ulifanyika', 'katika', 'mishipa', 'ya', 'uzazi', '.', 'Mimba', 'ya', 'aina', 'hiyo', 'hujulikana', 'kama', 'ectopic', '.', 'Nusura', 'apoteze', 'uhai', 'wake', 'wakati', 'huo', '.', '``', 'Kwa', 'siku', 'nne', 'nilitokwa', 'na', 'damu', 'ndani', 'ya', 'tumbo', 'langu', '(', 'kizazi', ')', ',', 'nisijue', 'kuwa', 'mimba', 'ilikuwa', 'imeharibika', 'na', 'maisha', 'yangu', 'yalikuwa', 'hatarini', ',', \"''\", 'anasema', '.', 'Ni', 'kipindi', 'anachokitaja', 'kuwa', 'cha', 'uchungu', 'mwingi', 'sio', 'tu', 'wa', 'mwili', 'bali', 'pia', 'msongo', 'wa', 'mawazo', 'kwa', 'kupoteza', 'mtoto', 'wao', 'wa', 'pili', '.', '``', 'Kabla', 'ya', 'kuingia', 'kwenye', 'chumba', 'cha', 'upasuaji', 'ilibidi', 'nitolewe', 'damu', 'kwa', 'vipimo', 'vya', 'kawaida', '.', 'Hapo', 'ndipo', 'daktari', 'aliuliza', 'ni', 'vipi', 'mimi', 'niko', 'hai', 'ilhali', 'damu', 'yangu', 'ilikuwa', 'imeshikana', 'na', 'kuganda', ',', \"''\", 'Jane', 'anasema', '.', 'Kipindi', 'hicho', 'Jane', 'alianza', 'kujiuliza', 'maswali', 'mengi', 'mno', ',', 'vile', 'vile', 'akaanza', 'kuwa', 'na', 'kero', 'akiuliza', 'Mwenyezi', 'Mungu', 'ni', 'kwanini', 'alikuwa', 'anakubali', 'yeye', 'apitie', 'hali', 'hiyo', '.', 'Jane', 'anasema', 'kuwa', 'walirejea', 'nyumbani', 'bila', 'mtoto', '.', 'Lakini', 'baada', 'ya', 'muda', 'alishika', 'mimba', 'nyingine', 'ila', 'haikuchukua', 'muda', 'kwa', 'mimba', 'ile', 'kutoka', 'tena', '.', 'Chanzo', 'cha', 'picha', ',', 'Jane', 'Aller', 'Kujiuliza', 'maswali', 'mengi', 'Mwanadada', 'huyu', 'anasema', 'kuwa', 'licha', 'ya', 'kuwa', 'mtumishi', 'wa', 'Mungu', 'yeye', 'na', 'mume', 'wake', 'walishikwa', 'na', 'hisia', 'za', 'hasira', 'na', 'akawa', 'na', 'majonzi', 'mengi', 'mno', '.', 'Hawakupata', 'majibu', 'stahiki', 'kutoka', 'hata', 'kwa', 'madaktari', 'wake', 'kwani', 'alikuwa', 'anaelezwa', 'kuwa', 'kila', 'kitu', 'katika', 'kizazi', 'chake', 'kilikuwa', 'sawa', '.', '``', 'Msimu', 'ambao', 'nilimpoteza', 'mtoto', 'wangu', 'wa', 'tatu', 'nilikuwa', 'katika', 'pilikapilika', 'za', 'uimbaji', ',', 'na', 'kwa', 'kuwa', 'nilikuwa', 'nimefanyiwa', 'upasuaji', ',', 'sehemu', 'iliyoshonwa', 'ilianza', 'kuwa', 'na', 'matatizo', 'katikati', 'ya', 'uimbaji', 'wangu', ',', \"''\", 'anasema', '.', '``', 'Wakati', 'huo', 'nilishindwa', 'kuelewa', 'ni', 'kwanini', 'licha', 'ya', 'utumishi', 'wangu', 'wa', 'uimbaji', 'kwa', 'Mungu', 'nilipitia', 'mapito', 'hayo', ',', \"''\", 'Jane', 'anakumbuka', '.', 'Chanzo', 'cha', 'picha', ',', 'Jane', 'Aller', 'Mwanadada', 'huyu', 'anasema', 'kuwa', 'hakuelewa', 'ni', 'vipi', 'Mwenyezi', 'Mungu', 'alikuwa', 'anamtumia', 'katika', 'hali', 'ya', 'kupoza', 'maisha', 'na', 'nyoyo', 'za', 'watu', 'kupitia', 'uimbaji', 'wake', ',', 'ilhali', 'yeye', 'alikuwa', 'anawapoteza', 'watoto', 'kila', 'aliposhika', 'mimba', '.', 'Kwa', 'hivo', 'msimu', 'huo', 'alipokuwa', 'anashika', 'kipaza', 'sauti', 'katika', 'uimbaji', 'wake', 'alikuwa', 'anadondokwa', 'na', 'machozi', 'mengi', '.', '``', 'Wakati', 'huo', 'nilipokuwa', 'nalia', 'watu', 'walikuwa', 'wanafikiria', 'kuwa', 'niko', 'kwenye', 'maombi', 'makubwa', ',', 'wasijue', 'kuwa', 'nilikuwa', 'nalilia', 'hali', 'yangu', 'ya', 'kupoteza', 'watoto', 'wangu', ',', \"''\", 'Jane', 'anakumbuka', 'Kwa', 'hivyo', 'aliposhika', 'mimba', 'yake', 'ya', 'mtoto', 'wa', 'wanne', 'alikuwa', 'na', 'msisimko', ',', 'lakini', 'Jane', 'na', 'mumewe', 'waliamua', 'kwenda', 'hospitalini', 'ili', 'afanyiwe', 'uchunguzi', 'ilikubaini', 'kuwa', 'kila', 'kitu', 'kilikuwa', 'sawa', '.', 'Matokeo', 'ya', 'uchunguzi', 'huo', 'yalikuwa', 'ya', 'kukatisha', 'tamaa', '.', 'Daktari', 'alimueleza', 'kuwa', 'mimba', 'ilikuwa', 'imeshika', 'katika', 'mshipa', 'wake', ';', 'alionywa', 'kuwa', 'ikiwa', 'mshipa', 'huo', 'ungepasuka', ',', 'basi', 'maisha', 'yake', 'yangekuwa', 'hatarini', '.', 'Kwa', 'hivyo', 'alishauriwa', 'kuwa', 'mimba', 'hiyo', 'lazima', 'itolewe', 'ili', 'asipoteza', 'maisha', 'yake.', '``', 'Kupoteza', 'mimba', 'ya', 'nne', 'haikuwa', 'rahisi', ',', 'nililia', 'kwa', 'siku', 'nyingi', 'mno', ',', 'na', 'sikutaka', 'kuzitizama', 'nguo', 'ambazo', 'nilikuwa', 'nimenunulia', 'watoto', 'wangu', ',', 'kati', 'ya', 'kupoteza', 'mtoto', 'wa', 'kwanza', 'hadi', 'wanne', 'nilikuwa', 'najiuliza', 'je', 'huyu', 'mume', 'wangu', 'ananipenda', 'bado', '?', '``', 'Jane', 'anasema', '.', 'Jane', 'anasema', 'kuwa', 'mwamba', 'mkuu', 'umekuwa', 'ni', 'mume', 'wake', ',', 'kwani', 'amesimama', 'naye', 'katika', 'hali', 'hii', 'ya', 'kupoteza', 'watoto', 'wake', '.', 'Baada', 'ya', 'kupoteza', 'mtoto', 'wao', 'wanne', 'alikaa', 'kwa', 'miaka', 'kadhaa', 'kabla', 'ya', 'kushika', 'mimba', 'tena', '.', 'Ni', 'hadi', 'mwaka', 'uliopita', 'aliposhika', 'mimba', 'yake', 'ya', 'tano', '.', 'Baada', 'ya', 'miezi', 'mitatu', 'ile', 'mimba', 'ya', 'mtoto', 'wa', 'tano', 'ilitoka', '.', 'Kitu', 'ambacho', 'sio', 'cha', 'kawaida', ',', 'Jane', 'anasema', ',', 'ni', 'kuwa', 'ule', 'uchungu', 'wa', 'mwanzo', 'aliokuwa', 'nao', 'ulikuwa', 'haupo', '.', 'Mwanadada', 'huyu', 'anasema', 'kuwa', 'alianza', 'kukubali', 'hali', 'yake', 'na', 'kuamua', 'kumuamini', 'Mwenyezi', 'Mungu', 'kumpa', 'mtoto', 'katika', 'wakati', 'mwafaka', '.', 'Chanzo', 'cha', 'picha', ',', 'Jane', 'Aller', 'Jane', 'na', 'mumewe', 'wamehimilije', 'ndoa', 'ya', 'miaka', '12', 'na', 'hali', 'hii', '?', 'Kama', 'mwimbaji', 'Jane', 'Aller', 'anategemea', 'mume', 'wake', 'kama', 'mtayarishi', 'na', 'mwelekezi', 'wa', 'nyimbo', 'zake', '.', 'Kutokana', 'na', 'hilo', ',', 'wameletwa', 'pamoja', 'na', 'hali', 'yao', 'ya', 'kupenda', 'muziki', 'na', 'pia', 'hali', 'ya', 'huduma', 'ya', 'kuhubiri', '.', 'Kando', 'na', 'kuwa', 'ni', 'mke', 'na', 'mume', ',', 'wanashiriki', 'katika', 'maoni', 'na', 'kazi', 'zao', 'za', 'kila', 'siku', 'ambayo', 'ni', 'huduma', 'ya', 'uimbaji', '.', 'Mwanamke', 'huyu', 'anasema', 'mume', 'wake', 'amekuwa', 'nguzo', 'kuu', 'katika', 'maisha', 'yake', 'hasa', 'changamoto', 'hizi', 'za', 'mimba', 'kutoka', '.', 'Changamoto', 'zimetokana', 'na', 'jinsi', 'jamii', 'inavyochukulia', 'hali', 'yake', 'ila', 'Jane', 'anasema', 'kuwa', 'jamaa', 'wa', 'karibu', 'kwa', 'mfano', 'mama', 'mkwe', 'wamesimama', 'na', 'yeye', 'sana', '.', 'Na', 'anapotoa', 'mawaidha', 'kwa', 'watu', 'ambao', 'wanapitia', 'hali', 'hio', 'anawaomba', 'wasikate', 'tamaa', '.', '``', 'Unajua', 'kuna', 'watu', 'ambao', 'wametengana', 'kutokana', 'na', 'kukosa', 'watoto', 'kwenye', 'ndoa', ',', 'na', 'hata', 'wanapoingia', 'kwenye', 'ndoa', 'mpya', 'bado', 'wanakabiliwa', 'na', 'changamoto', 'hizo', 'hizo', ',', \"''\", 'anasema', '.', '``', 'Ni', 'muhimu', 'kwa', 'watu', 'wanaopitia', 'changamoto', 'hizo', 'kuwa', 'na', 'subira', 'na', 'kudumisha', 'hali', 'ya', 'kupendana', 'na', 'kuvumiliana', ',', \"''\", 'Jane', 'anasema', '.', 'Jane', 'anasema', 'maisha', 'ni', 'kama', 'kuendesha', 'baiskeli', ',', 'ili', 'mtu', 'awe', 'na', 'usawa', 'lazima', 'aendelee', 'kusonga', 'mbele', '.', 'Kwa', 'hivyo', 'mambo', 'mazuri', 'huja', 'kwa', 'watu', 'ambao', 'wanaendelea', 'kuwa', 'na', 'imani', 'wakati', 'ambapo', 'hakuna', 'cha', 'kutumainia', '.', 'Jane', 'Aller', 'na', 'mumewe', 'Donna', 'wanaendelea', 'kutumai', 'kuwa', 'wakati', 'mmoja', 'watapakata', 'mtoto', 'wao', 'mikononi', 'mwao', '.', 'Chanzo', 'cha', 'picha', ',', 'Jane', 'Aller', 'Mimba', 'hutoka', 'kwa', 'nini', '?', 'Mimba', 'kutoka', 'pekee', 'yake', 'au', 'kuharibika', 'kwa', 'mimba', 'hutokea', 'kwa', 'kawaida', 'kwa', 'baadhi', 'ya', 'wanawake', 'kote', 'duniani', '.', 'Wakati', 'mwingine', 'hutokea', 'mapema', 'sana', 'kiasi', 'cha', 'kuwa', 'mwanamke', 'hawezi', 'kufahamu', 'kuwa', 'alikuwa', 'mjamzito', '.', 'Maambukizi', 'ya', 'magonjwa', 'ya', 'zinaa', ',', 'majeraha', ',', 'vurugu', ',', 'na', 'mafadhaiko', 'ya', 'kiakili', 'yanaweza', 'kufanya', 'mimba', 'kutoka', 'mapema', '.', 'Wakati', 'mwingine', 'pia', 'mimba', 'huharibika', 'kwa', 'sababu', 'mwanamke', 'mjamzito', 'amekuwa', 'karibu', 'na', 'sumu', 'au', 'kemikali', 'zilizo', 'na', 'sumu', '.', 'Si', 'rahisi', 'kujua', 'kila', 'wakati', 'kinachosababisha', 'uharibikaji', 'wa', 'mimba', ',', 'lakini', 'baadhi', 'ya', 'sababu', 'zinaweza', 'kuepukika', '.', 'Kuharibika', 'kwa', 'mimba', 'wakati', 'mwingine', 'unaweza', 'kuzuiwa', 'kwa', 'kutibu', 'wanawake', 'kutokana', 'na', 'maradhi', 'na', 'maambukizi', 'na', 'kuwasaidia', 'kuepukana', 'na', 'sumu', 'ya', 'kemikali', 'au', 'maeneo', 'ya', 'hatari', '.', 'Lakini', 'wanawake', 'wengine', 'huwa', 'na', 'uharibikaji', 'wa', 'mimba', 'moja', 'baada', 'ya', 'nyingine', ',', 'na', 'huweza', 'kushindwa', 'kujua', 'ni', 'kwa', 'nini', '.', 'Wanawake', 'walio', 'na', 'historia', 'ya', 'uharibikaji', 'wa', 'mimba', 'unaojirudia', 'wanapaswa', 'kupimwa', 'na', 'kutibiwa', 'katika', 'kituo', 'cha', 'afya', 'kilicho', 'na', 'huduma', 'za', 'kipekee', 'ili', 'kutafuta', 'sababu', 'na', 'kuwasaidia', 'kubeba', 'mimba', 'hadi', 'mwisho', 'wa', 'ujauzito', '.']\n",
      "\n",
      " Number of Words:  1264\n"
     ]
    }
   ],
   "source": [
    "file=\"20sep2_1.txt\"\n",
    "\n",
    "# calling the function and storing the contents in a text variable \n",
    "text = get_document(\"https://www.bbc.com/swahili/habari-53994544\")\n",
    "\n",
    "# calling the store_ document function \n",
    "store_document(doc=text,name=file)\n",
    "\n",
    "#add the words in this file to the total_corpus_words, to keep count of the number of words in the corpus\n",
    "total_corpus_words+=total_words(file)"
   ]
  },
  {
   "cell_type": "code",
   "execution_count": 59,
   "metadata": {},
   "outputs": [
    {
     "data": {
      "text/plain": [
       "322902"
      ]
     },
     "execution_count": 59,
     "metadata": {},
     "output_type": "execute_result"
    }
   ],
   "source": [
    "total_corpus_words"
   ]
  },
  {
   "cell_type": "code",
   "execution_count": 60,
   "metadata": {},
   "outputs": [
    {
     "name": "stdout",
     "output_type": "stream",
     "text": [
      "['Precision', 'Air', 'ilitarajiwa', 'kufanya', 'safari', 'kuelekea', 'Nairobi', 'siku', 'ya', 'Alhamisi', '2', 'Septemba', '2020', 'Chanzo', 'cha', 'picha', ',', 'PRECISION', 'AIR/TWITTER', 'Shirika', 'la', 'ndege', 'Precison', 'Air', 'lenye', 'makazi', 'yake', 'Tanzania', 'limefuta', 'mipango', 'ya', 'kuanza', 'kwa', 'safari', 'za', 'ndege', 'kuelekea', 'Nairobi', 'baada', 'ya', 'serikali', 'ya', 'Kenya', 'kusema', 'kuwa', 'haitafuta', 'haki', 'za', 'usafiri', 'za', 'kampuni', 'hiyo', ',', 'wakati', 'huu', 'kukiwa', 'na', 'mvutano', 'baina', 'ya', 'nchi', 'hizo', 'mbili', ',', 'gazeti', 'la', 'Business', 'Daily', 'limeandika', '.', 'Taarifa', 'iliyochapishwa', 'kwenye', 'ukurasa', 'wake', 'wa', 'twitter', ',', 'imesema', 'inaahirisha', 'mipango', 'hiyo', 'kwasababu', 'ya', 'idadi', 'ndogo', 'ya', 'wateja', 'wanaotaka', 'kusafiri', ',', 'ikiahidi', 'kuwa', 'tarehe', 'nyingine', 'ya', 'safari', 'kuelekea', 'Nairobi', 'itapangwa', 'na', 'kuchapishwa', 'kwenye', 'tovuti', 'yao', 'hivi', 'karibuni', '.', 'Tanzania', 'ilizipiga', 'marufuku', 'kampuni', 'tatu', 'za', 'ndege', 'kutoka', 'Kenya', 'kuingia', 'nchini', 'humo', 'kama', 'hatua', 'ya', 'kulipiza', 'kisasi', 'vita', 'vya', 'kibiashara', 'ambavyo', 'vimekuwepo', 'kati', 'ya', 'mataifa', 'hayo', '.', 'Hatua', 'hiyo', 'iliochukuliwa', 'na', 'Tanzania', 'inajiri', 'baada', 'ya', 'Nairobi', ',', 'kwa', 'mara', 'ya', 'pili', 'mfululizo', ',', 'kuiweka', 'Tanzania', 'miongoni', 'mwa', 'mataifa', 'ambayo', 'sio', 'salama', 'kutokana', 'na', 'virusi', 'vya', 'corona', '.', 'Hii', 'ina', 'maana', 'kwamba', 'wasafiri', 'kutoka', 'Tanzania', 'wataendelea', 'kukabiliwa', 'na', 'masharti', 'ya', 'lazima', 'ya', 'kuwekwa', 'katika', 'karantini', 'kwa', 'wiki', 'mbili', 'wanapowasili', 'Kenya', 'ili', 'kuzuia', 'maambukizi', 'ya', 'maradhi', 'hayo', '.', 'Wasafiri', 'kutoka', 'mataifa', '130', ',', 'hatahivyo', 'wako', 'huru', 'kuingia', 'nchini', 'Kenya', 'bila', 'masharti', 'yoyote', 'kufuatia', 'hatua', 'ya', 'pili', 'ambapo', 'serikali', 'iliongeza', 'mataifa', 'mengine', '90', 'katika', 'orodha', 'yake', 'ya', 'mataifa', 'yanayostahili', 'kuingia', 'nchini', 'humo', '.', 'Mvutano', 'huu', 'umeathiri', 'biashara', 'kati', 'ya', 'mataifa', 'hayo', 'mawili', '.', 'Afisa', 'mkuu', 'mtendaji', 'wa', 'shirika', 'la', 'ndege', 'la', 'Kenya', 'Airways', 'Allan', 'Kilavuka', 'alisema', 'kwamba', 'njia', 'ya', 'kuelekea', 'Tanzania', 'inasalia', 'kuwa', 'muhimu', 'kutokana', 'na', 'idadi', 'ya', 'wateja', 'inaowaleta', 'Kenya', 'kwa', 'safari', 'nyingine', 'za', 'kimataifa', 'kwa', 'kutumia', 'ndege', 'za', 'kampuni', 'hiyo', '.', 'Katika', 'hatua', 'nyingine', ',', 'wadau', 'wa', 'sekta', 'ya', 'utalii', 'wametahadharisha', 'kuhusu', 'mvutano', 'katika', 'sekta', 'ya', 'usafiri', 'wa', 'anga', 'kati', 'ya', 'Kenya', 'na', 'Tanzania', 'kuhusu', 'vikwazo', 'vya', 'kusafiri', 'hali', 'ambayo', 'wameeleza', 'kuwa', 'italeta', 'athari', 'katika', 'sekta', 'hiyo', '.', 'Wadau', 'hao', 'wameitaka', 'Kenya', 'kufikiria', 'tena', 'msimamo', 'wake', 'kuhusu', 'wasafiri', 'Watanzania', ',', 'ambao', 'wanapaswa', 'kukaa', 'karantini', 'kwa', 'siku', '14', 'wanapoingia', 'jijini', 'Nairobi', '.', 'Wadau', 'wa', 'sekta', 'ya', 'utalii', 'wakiongozwa', 'Mohammed', 'Hersi', 'wa', 'Shirikisho', 'la', 'taasisi', 'zinazoshughulika', 'na', 'masuala', 'ya', 'utalii', 'Kenya', '(', 'KTF', ')', 'amenukuliwa', 'na', 'Business', 'Daily', 'akisema', 'kuwa', 'namna', 'ambavyo', 'Kenya', 'inawatendea', 'Tanzania', 'kutaathiri', 'sekta', 'ya', 'usafiri', 'wa', 'anga', '.', 'Mzozo', 'wa', 'kidiplomasia', 'utafanya', 'jitihada', 'za', 'kufufua', 'shirika', 'la', 'ndege', 'la', 'Kenya', ',', 'ambalo', 'tayari', 'limepigwa', 'marufuku', 'kuingia', 'Tanzania', '.']\n",
      "\n",
      " Number of Words:  397\n"
     ]
    }
   ],
   "source": [
    "file=\"20sep2_2.txt\"\n",
    "\n",
    "# calling the function and storing the contents in a text variable \n",
    "text = get_document(\"https://www.bbc.com/swahili/habari-53994548\")\n",
    "\n",
    "# calling the store_ document function \n",
    "store_document(doc=text,name=file)\n",
    "\n",
    "#add the words in this file to the total_corpus_words, to keep count of the number of words in the corpus\n",
    "total_corpus_words+=total_words(file)"
   ]
  },
  {
   "cell_type": "code",
   "execution_count": 61,
   "metadata": {},
   "outputs": [
    {
     "data": {
      "text/plain": [
       "323299"
      ]
     },
     "execution_count": 61,
     "metadata": {},
     "output_type": "execute_result"
    }
   ],
   "source": [
    "total_corpus_words"
   ]
  },
  {
   "cell_type": "code",
   "execution_count": 62,
   "metadata": {},
   "outputs": [
    {
     "name": "stdout",
     "output_type": "stream",
     "text": [
      "['Wanamgambo', \"'wawafurusha\", 'wenyeji', \"'\", 'maeneo', 'ya', 'virusi', 'Msumbiji', 'Wanamgambo', 'wamewafurusha', 'maelfu', 'ya', 'watu', 'kutoka', 'majumbani', 'mwaoImage', 'caption', ':', 'Wanamgambo', 'wamewafurusha', 'maelfu', 'ya', 'watu', 'kutoka', 'majumbani', 'mwao', 'Makabiliano', 'kati', 'ya', 'vikosi', 'vya', 'serikali', 'ya', 'Msumbiji', 'na', 'wanamgambo', 'wa', 'Kiislam', 'kaskazini', 'mwa', 'mkoa', 'wa', 'Cabo', 'Delgado', 'yamewafanya', 'wakazi', 'kukimbilia', 'maeneo', 'yaliyo', 'na', 'viwango', 'vya', 'juu', 'vya', 'maambukizi', 'ya', 'corona', 'kwa', 'mujibu', 'wa', 'Shirika', 'la', 'kimataifa', 'la', 'Mslaba', 'Mwekundu', '(', 'IRCS', ')', '.', 'Baadhi', 'ya', 'wakimbizi', 'hao', 'wako', 'Pemba', 'ambako', 'IRCS', 'lilisaidia', 'kujenga', 'kituo', 'cha', 'matibabu', 'ya', 'virusi', 'vya', 'corona', ',', 'linasema', 'shirika', 'hilo', '.', 'Hali', 'hiyo', 'inawaweka', 'katika', 'hatari', 'ya', 'kupata', 'maambukizi', 'ya', 'virusi', ',', 'anasemamkuu', 'anayesimamia', 'shughuli', 'za', 'IRCS', 'mjini', 'Pemba', 'Raoul', 'Bittel', '.', 'Wanamgambo', 'hao', 'wamekuwa', 'wakifanya', 'mashambulio', 'katika', 'maeneo', 'ya', 'vijijini', 'katika', 'kipindi', 'cha', 'miaka', 'miwili', 'iliyopita', '.', 'Kundi', 'hilo', 'linaloitwa', 'al-Shabab', 'au', 'vijana', 'na', 'wenyeji–', 'linaendesha', 'ajenda', 'za', 'kijihadi', 'lakini', 'limekuwa', 'likitumia', 'changamoto', 'miongo', 'kadhaa', 'zinazokabili', 'jamii', 'kama', 'vile', 'ukosefu', 'wa', 'kazi', ',', 'udanganyifu', 'katika', 'uchaguzi', ',', 'ufisadi', 'na', 'ghasia', 'kujiimarisha', '.', 'Marekani', 'yaomba', 'Rwanda', \"'kutoa\", 'mazingira', 'ya', 'kiutu', \"'\", 'kwa', 'Rusesabagina', 'Naibu', 'wa', 'waziri', 'wa', 'mbambo', 'ya', 'nje', 'wa', 'Marekani', 'kuhusu', 'masuala', 'ya', 'Afrika', 'Tibor', 'Nagy', ',', 'amefanya', 'mazungumzo', 'na', 'balozi', 'wa', 'Rwanda', 'nchini', 'Marekani', 'kujadili', 'kukamatwa', 'kwa', 'Paul', 'Rusesabagina', '``', 'shujaa', \"''\", 'aliyeangaziwa', 'katika', 'filamu', 'ya', 'Hollywood', 'kuhusu', 'mauaji', 'ya', 'kimbari', 'ya', 'Rwanda', '.', '“', 'Marekani', 'inatarajia', 'serikali', 'ya', 'Rwanda', 'itatoa', 'mazingira', 'ya', 'kiutu', ',', 'kwa', 'kuzingatia', 'utawala', 'wa', 'sheria', ',', 'kwa', 'kuendesha', 'machakato', 'wa', 'kisheria', 'ulio', 'wazi', 'na', 'usio', 'na', 'upendelea', 'dhidi', 'ya', 'bwana', 'Rusesabagina', ',', 'bwana', 'Nagy', 'aliandika', 'kwenye', 'Twitter', 'yake', 'baada', 'ya', 'kukutana', 'na', 'balozi', 'wa', 'Rwanda', '.', 'Maafisa', 'wa', 'Rwanda', 'wanasema', 'bwana', 'Rusesabagina', ',', '66', ',', 'alikamatwa', 'kupitia', 'waranti', 'ya', 'kimataifa', 'kwa', 'kuongoza', '``', 'vuguvugu', 'la', 'kigaidi', \"''\", 'Rusesabagina,66', ',', 'mkosoaji', 'mkubwa', 'wa', 'serikali', 'ya', 'Rwanda', 'amabaye', 'anaishi', 'ughaibuni', 'aliangaziwa', 'katika', 'filamu', 'ya', 'Hollywood', 'kuhusu', 'mauaji', 'ya', 'kimbari', 'ya', 'Rwanda', '.', 'Alisimamishwakwa', 'muda', 'mfupi', 'mbele', 'ya', 'wanahabari', 'mjini', 'Kigali', 'siku', 'ya', 'Jumatatu', '.', 'Maafisa', 'hawakuelezea', 'mazingira', 'ya', 'kukamatwa', ',', 'lakini', 'walisema', 'alikamatwa', 'kupitia', 'kibali', 'cha', 'kimataifa', 'kwa', 'kuongoza', '``', 'vuguvugu', 'la', 'kigaidi', \"''\", '.', 'Bwana', 'Rusesabagina', ',', 'Mnyarwanda', 'mwenye', 'uraia', 'wa', 'Ubelgiji', 'na', 'makazi', 'ya', 'kudumu', 'ya', 'kiushi', 'nchini', 'Marekani', 'alikuwa', 'amesafiri', 'kutoka', 'San', 'Antonio', ',', 'Texas', 'kwenda', 'Dubai', 'Alhamisi', 'iliyopita', ',', 'familia', 'na', 'chama', 'chake', 'kiliambia', 'BBC', '.', 'Serikali', 'ya', 'Rwanda', 'haijatoa', 'tamko', 'lolote', 'kuhusiana', 'na', 'madai', 'ya', 'kutekwa', 'kwake', '.', 'UN', 'kuweka', 'kambi', 'mpya', 'Sudan', 'Kusini', 'David', 'Shearer', 'anasema', 'uwepo', 'wa', 'UN', 'utatoa', 'ulinzi', 'katika', 'eneo', 'hiloImage', 'caption', ':', 'David', 'Shearer', 'anasema', 'uwepo', 'wa', 'UN', 'utatoa', 'ulinzi', 'katika', 'eneo', 'hilo', 'Ujumbe', 'wa', 'UN', 'nchini', 'Sudan', 'Kusini', 'imesema', 'utaweka', 'kambi', 'mpya', 'ya', 'walinda', 'amani', 'katika', 'eneo', 'la', 'Lobonok', 'baada', 'ya', 'walinzi', 'sita', 'wa', 'makamu', 'wa', 'rais', 'Wani', 'Igga', 'kuuawa', 'mwezi', 'uliopita', '.', 'Ujumbe', 'huo', 'ulitaja', 'mashambulio', 'mengine', 'dhidi', 'ya', 'raia', 'na', 'misafara', 'ya', 'kibinadamu', 'katika', 'eneo', 'hilo', 'kama', 'sababu', 'ya', 'kuanzisha', 'kambi', 'hiyo', 'mpya', '.', 'Mkuu', 'wa', 'ujunbe', 'huo', ',', 'David', 'Shearer', ',', 'amesema', 'kambi', 'hiyo', 'mpya', 'itasaidia', 'kutoa', 'ulinzi', 'katika', 'eneo', 'hilo', '.', 'Kumeshuhudiwa', 'mashambulio', 'kadhaa', 'dhidi', 'ya', 'wafanyakazi', 'wa', 'kutoa', 'misaaada', 'katika', 'siku', 'chache', 'zilizopita', ',', 'kwa', 'mijibu', 'wa', 'ujumbe', 'wa', 'Umoja', 'wa', 'Mataifa', 'katika', 'eneo', 'hilo', '.', 'Waasi', 'wa', 'kundi', 'la', 'National', 'Salvation', 'Front', '(', 'Nas', ')', 'ambalo', 'linaongozwa', 'na', 'jenerali', 'wa', 'zamani', 'wa', 'jeshi', 'Thomas', 'Cirillo', 'Swaka', ',', 'limekiri', 'kuhusika', 'na', 'shambulio', 'la', 'mwezi', 'uliopita', 'dhidi', 'ya', 'msafara', 'wa', 'makamu', 'wa', 'rais', '.', 'Kundi', 'hilo', 'halikuwa', 'sehemu', 'ya', 'mkataba', 'amani', 'uliotiwa', 'saini', 'kati', 'ya', 'serikali', 'na', 'makundi', 'ya', 'upinzani', 'yaliyojihami', 'mwaka', '2018', 'kukomesha', 'papigano', 'yaliyodumu', 'kwa', 'miaka', 'kadhaa', 'Kenya', 'yazuia', 'mali', 'ya', \"'wafadhili\", \"'\", 'wa', 'Al', 'Shabab', 'Kenya', 'imezuilia', 'mali', 'ya', 'watu', 'tisa', 'wanaotuhumiwa', 'kufadhili', 'kundi', 'la', 'wanamgambo', 'wa', 'Al', 'Shabab', 'nchini', 'Somalia', '.', 'Wizara', 'ya', 'mambo', 'ya', 'ndani', 'imesemahatua', 'hiyo', 'ni', 'sehemu', 'yajuhudi', 'mpya', 'za', 'kukabiliana', 'na', 'ugaidina', 'kudibiti', '‘', '’', 'ugaidi', 'nyumbani', '’', '’', 'Katika', 'taarifa', 'yake', 'waziri', 'wa', 'usalama', 'wa', 'kitaifa', 'Fred', 'Matiangi', 'amesemakuzuiliwa', 'kwamali', 'ya', 'Wakenya', 'hao', 'tisakutahakikishahawawezi', 'tena', 'kufadhili', 'kundi', 'la', 'Al', 'Shabab', '‘', '’', 'ndani', 'ya', 'mipaka', 'yetu', '’', '’', '.', 'Pia', 'ameonya', 'kuwa', 'kundi', 'hilo', 'lilikuwa', 'likiwasajili', ',', 'kuwapa', 'mafuzo', 'na', 'kuwawekamiongoni', 'mwa', 'raia', '‘', '’', 'ili', 'waendeleze', 'ajenda', 'yao', 'ya', 'misimamo', 'mikali', 'na', 'ugaidi', '.', \"''\", 'Tangazo', 'hilo', 'linajiri', 'wakati', 'ambapo', 'Rais', 'Uhuru', 'Kenyatta', 'amewaambia', 'viongozi', 'wa', 'kimataifa', 'kwamba', 'janga', 'la', 'Covid', '19', 'limechangia', 'vitendo', 'vya', 'kigaidi', ',', 'kuzidisha', 'mzozo', 'wa', 'wakimbizi', 'na', 'kuongezeka', 'kwa', 'silaha', 'ndogo', 'ndogo', 'katika', 'eneo', 'la', 'Pembe', 'ya', 'Afrika', '.', 'Kenya', 'imekabiliwa', 'na', 'mashambulio', 'kadhaa', 'kutoka', 'kwa', 'Al', 'Shabab', 'tangu', 'ilipowapeleka', 'wanajeshi', 'wake', 'Somalia', '2011', 'kukabiliana', 'na', 'kundi', 'hilo', 'Rais', 'Kenyatta', 'ailikuwa', 'akizungumza', 'katika', 'mkutano', 'wa', 'Aqaba', 'kuhusu', 'Covi-19', 'uliandaliwa', 'kupitia', 'mfumo', 'wa', 'kidijitali', 'na', 'Mfalme', 'Abdullah', 'wa', 'pili', 'wa', 'Jordan', 'ambao', 'pia', 'ulihudhuriwa', 'na', 'Waziri', 'Mkuu', 'wa', 'Canada', 'Justin', 'Trudeau', ',', 'Rais', 'Rodrigo', 'Duterte', 'wa', 'Ufilipino', 'na', 'Katibu', 'Mkuu', 'wa', 'Umoja', 'wa', 'Mataifa', 'Antonio', 'Guteress', 'kujadili', 'jannga', 'la', 'corona', 'na', 'usalama', 'wa', 'kimataifa', '.']\n",
      "\n",
      " Number of Words:  801\n"
     ]
    }
   ],
   "source": [
    "file=\"20sep3.txt\"\n",
    "\n",
    "# calling the function and storing the contents in a text variable \n",
    "text = get_document(\"https://www.bbc.com/swahili/live/habari-54009082\")\n",
    "\n",
    "# calling the store_ document function \n",
    "store_document(doc=text,name=file)\n",
    "\n",
    "#add the words in this file to the total_corpus_words, to keep count of the number of words in the corpus\n",
    "total_corpus_words+=total_words(file)"
   ]
  },
  {
   "cell_type": "code",
   "execution_count": 63,
   "metadata": {},
   "outputs": [
    {
     "data": {
      "text/plain": [
       "324100"
      ]
     },
     "execution_count": 63,
     "metadata": {},
     "output_type": "execute_result"
    }
   ],
   "source": [
    "total_corpus_words"
   ]
  },
  {
   "cell_type": "code",
   "execution_count": 64,
   "metadata": {},
   "outputs": [
    {
     "name": "stdout",
     "output_type": "stream",
     "text": [
      "['Muhtasari', 'Mkurugenzi', 'wa', 'mashtaka', 'Tanzania', 'aidhinisha', 'kushtakiwa', 'kwa', 'Saed', 'Kubenea', 'Afrika', 'Kusini', 'yashuka', 'kwenye', 'orodha', 'ya', 'Covid-19', 'duniani', 'Keki', 'ya', 'kuadhimisha', 'mwaka', 'mmoja', 'ya', 'Air', 'Uganda', 'yazua', 'gumzo', 'mitandaoni', 'Barbara', 'Gonzalez', 'mkurugenzi', 'mpya', 'wa', 'Simba', 'Waziri', 'wa', 'Uganda', 'kushitakiwa', 'kufuatia', 'kisa', 'cha', 'ufyatulianaji', 'risasi', 'China', \"'kujenga\", \"'\", 'kambi', 'za', 'kijeshi', 'Tanzania', 'na', 'Kenya', 'Tawala', 'hasimu', 'za', 'Libya', 'zanakutana', 'Morocco', 'kwa', 'mazungumzo', 'Habari', 'za', 'moja', 'kwa', 'moja', 'Na', 'Ambia', 'Hirsi', 'time_stated_uk', 'Imepakiwa', 'mnamo', '14:00', '7', 'Septemba', '202014:00', '7', 'Septemba', '2020', 'Tunakamilisha', 'matangazo', 'yetu', 'ya', 'moja', 'kwa', 'moja', 'kwa', 'leo', '.', 'Getty', 'ImagesCopyright', ':', 'Getty', 'Images', 'Lakini', 'tunakuacha', 'na', 'taarifa', 'ya', 'duka', 'la', 'urembo', 'nchini', 'Afrika', 'Kusini', 'kuvamiwa', 'kwa', 'kutoa', 'tangazo', 'la', '‘', 'kibaguzi', \"'\", 'Hii', 'ni', 'baada', 'ya', 'waandamanaji', 'kulalazimisha', 'maduka', 'kadhaa', 'ya', 'urembo', 'yanayomilikiwa', 'na', 'kampuni', 'ya', 'Click', 'kufungwa', 'kufuatia', 'tangazo', 'la', 'biashara', 'lililotolewa', 'na', 'kampani', 'hiyo', 'ambalo', 'wanadai', 'kuwa', 'na', 'ujumbe', 'wa', 'kibaguzi', '.', 'Tangazo', 'hilo', 'lilikuwa', 'na', 'picha', 'inayolinganisha', 'nywele', 'ya', 'mwafrika', 'na', 'mzungu', 'ikiashiria', 'kuwa', 'nywele', 'ya', 'mwafrika', 'imekauka', 'na', 'kuharibika', 'ilihali', 'ya', 'mzungu', 'ni', 'laini', ',', 'nyororo', 'na', 'ya', 'kuvutia', '.', 'Chama', 'cha', 'Economic', 'Freedom', 'Fighters', '(', 'EFF', ')', 'kimetaja', 'tangazo', 'hilo', 'kuwa', 'la', \"''\", 'kibaguzi', \"''\", 'na', 'la', '``', 'kudhalilisha', \"''\", '.', 'Mkurugenzi', 'wa', 'mashtaka', 'Tanzania', 'aidhinisha', 'kushtakiwa', 'kwa', 'Saed', 'Kubenea', 'IPP', 'MediaCopyright', ':', 'IPP', 'Media', 'Jeshi', 'la', 'polisi', 'Tanzania', ',', 'limemkamata', 'mbunge', 'wa', 'zamani', 'wa', 'upinzani', 'Saed', 'Kubenea', 'katika', 'mpaka', 'wa', 'Tanzania', 'na', 'Kenya', ',', 'eneo', 'la', 'Namanga', 'akielekea', 'Arusha', 'mjini', '.', 'Baada', 'ya', 'upekuzi', ',', 'bwana', 'Kubenea', 'alikutwa', 'na', 'kiasi', 'cha', 'Dola', 'za', '8000', 'za', 'Marekani', 'tiketi', 'ya', 'basi', 'ya', 'kutoka', 'jijini', 'Nairobi', 'kwenda', 'Namanga', ',', 'Risiti', 'ya', 'malipo', 'ya', 'hoteli', 'iliyopo', 'jijini', 'Nairobi', 'yenye', 'jina', 'lake', 'kama', 'mgeni', 'aliyelala', 'hotelini', 'hapo', 'kuanzia', 'tarehe', '3', 'mpaka', 'tarehe', '5', 'mwezi', 'Septemba', 'na', 'pasi', 'yake', 'ya', 'kusafiria', '.', 'Taarifa', 'kwa', 'vyombo', 'vya', 'habari', 'iliyosainiwa', 'na', 'Mkurugenzi', 'wa', 'mashtaka', 'Biswalo', 'Eutropius', 'Kachele', 'imesema', 'kuwa', 'mara', 'baada', 'ya', 'kukamatwa', 'Kubenea', 'alieleza', 'kuwa', 'alifika', 'mkoani', 'Arusha', 'tarehe', '2', 'akitokea', 'Dar', 'esSalaam', 'na', 'kulala', 'katika', 'hoteli', 'iliyo', 'Arusha', 'mjini', 'pia', 'tarehe', '3', 'mwezi', 'Sptemba', 'alikwenda', 'kulala', 'kwa', 'kaka', 'yake', 'na', 'tarehe', '4', 'alikwenda', 'Namanga', 'na', 'kupokea', 'fedha', 'taslimu', 'zilizotajwa', 'awali', 'kutoka', 'kwa', 'raia', 'wa', 'Kenya', '.', 'Hivyo', 'baada', 'ya', 'kujiridhisha', 'na', 'uwepo', 'wa', 'ushahidi', 'wa', 'kutosha', 'dhidi', 'yake', ',', 'sambamba', 'na', 'misingi', 'ya', 'kikatiba', 'inayotoa', 'muongozo', 'kwa', 'Mkurugenzi', 'wa', 'mashtaka', ',', 'Mkurugenzi', 'wa', 'Mashtaka', 'aimeidhinisha', 'mashtaka', 'yafuatayo', '.', 'Kuingia', 'nchini', 'Tanzania', 'kinyume', 'na', 'sheria', 'ya', 'uhamiaji', 'sura', 'ya', '54', ',', 'marejeo', 'ya', 'mwaka', '2016', 'na', 'Kuingiza', 'nchini', 'fedha', 'za', 'kigeni', 'bila', 'kutoa', 'tamko', 'kinyume', 'na', 'kanuni', 'za', 'Utoaji', 'Tamko', 'la', 'fedha', 'za', 'mpakani', 'za', 'mwaka', '2016', '.', 'Afrika', 'Kusini', 'yashuka', 'kwenye', 'orodha', 'ya', 'Covid-19', 'duniani', 'Afrika', 'Kusini', 'imeshuka', 'hadi', 'nambari', 'nambari', 'saba', 'katika', 'orodha', 'ya', 'nchi', 'zilizo', 'na', 'idadi', 'ya', 'juu', 'ya', 'watu', 'walioambukizwa', 'virusi', 'vya', 'corona', 'duniani', 'huku', 'viwango', 'vya', 'maambukizi', 'mapya', 'vikiendelea', 'kushuka', ',', 'data', 'rasmi', 'zinaonesha', '.', 'Marekani', ',', 'India', ',', 'Brazil', ',', 'Urusi', ',', 'Peru', 'na', 'Columbia', 'ndio', 'nchi', 'sita', 'zinazoongoza', 'duniani', 'kwa', 'kuwa', 'na', 'viwango', 'vya', 'juu', 'vya', 'maambukizi', '.', 'Afrika', 'Kusini', 'ilitangaza', 'kuwa', 'na', 'visa', 'vipya', '1,633siku', 'ya', 'Jumapili', 'na', 'kufikisha', '638,517', 'jumla', 'ya', 'watu', 'walioambukizwa', 'virusi', 'hivyo', '.', 'Idadi', 'ya', 'watu', 'waliofariki', 'kutokana', 'na', 'janga', 'la', 'corona', 'ni', '14,889', '.', 'Kiwango', 'hicho', 'kilishuka', 'baada', 'ya', 'kupitwa', 'na', 'Peru', ',', 'ambayo', 'inapakana', 'na', 'Colombia', ',', 'mapema', 'wiki', 'iliyopita', '.', 'Perukufikia', 'sasa', 'ina', 'watu', '676,848', 'waliothibitishwa', 'kuwa', 'na', 'virus', 'vya', 'corona', '.', 'Waziri', 'wa', 'Afya', 'wa', 'Afrika', 'Kusini', 'Zweli', 'Mkhize', 'amesema', 'japo', 'viwango', 'vya', 'vya', 'maambukizi', 'vinashuka', ',', 'nchi', 'hiyo', 'bado', 'inahofia', 'huenda', 'ikapanda', '.', 'Keki', 'ya', 'kuadhimisha', 'mwaka', 'mmoja', 'ya', 'Air', 'Uganda', 'yazua', 'gumzo', 'Shirika', 'la', 'ndege', 'la', 'Uganda', 'limeadhimisha', 'mwaka', 'wake', 'wa', 'kwanza', 'kwa', 'kukata', 'keki', 'ambayo', 'umbo', 'lake', 'limezua', 'gumzo', 'katika', 'mitandao', 'ya', 'kijamii', '.', 'Kampuni', 'iliyooka', 'keki', 'hiyo', 'ilibezwa', 'mitandaoni', 'wikendi', 'iliyopita', '.', 'Kampuni', 'hiyo', 'imekiri', 'kuwa', 'haikutoa', 'vyema', 'muundo', 'wa', 'ndege', 'ya', 'shirika', 'la', 'ndege', 'la', 'Uganda', 'na', 'kuanzisha', 'shindano', 'la', 'kuoka', 'keki', 'tena', 'hiyo', '.', 'Air', 'UgandaCopyright', ':', 'Air', 'Uganda', 'Katika', 'taarifa', 'yake', 'kampuni', 'ya', 'Britam', 'ambayo', 'inafadhili', 'shindano', 'hilo', 'ilisema', ':', '‘', '’', 'Tulijaribu', 'kutengeza', 'keki', 'ya', 'muundo', 'wa', 'ndege', 'lakini', 'kama', 'mlivyona', 'kwenye', 'mitandao', 'ya', 'kijamii', 'hatukufanikiwa', '’', '’', 'Wito', 'sasa', 'umetolewa', 'kwa', 'waokaji', 'keki', 'wakubwa', 'kwa', 'wadogo', 'kushiriki', 'katika', 'shindano', 'hilo', 'ambalo', 'mshindi', 'atafadhiliwa', 'na', 'kutengeza', 'keki', 'na', 'kupewa', 'nafasi', 'ya', 'kuiwasilishwa', 'binafsi', 'kwa', 'shirika', 'la', 'ndege', 'la', 'Uganda', '.', 'Barbara', 'Gonzalez', 'mkurugenzi', 'mpya', 'wa', 'Simba', 'Barbara', 'Gonzalez', ',', 'Mkurugenzi', 'mpya', 'wa', 'klabu', 'ya', 'simbaImage', 'caption', ':', 'Barbara', 'Gonzalez', ',', 'Mkurugenzi', 'mpya', 'wa', 'klabu', 'ya', 'simba', 'Hatua', 'ya', 'Klabu', 'ya', 'Simba', 'nchini', 'Tanzania', 'kumtangaza', 'Barbara', 'Gonzalez', 'kuwa', 'mkurugenzi', 'mkuu', 'wake', 'mpya', 'na', 'kumfanya', 'kuwa', 'mwanamke', 'wa', 'kwanza', 'kushika', 'nafasi', 'hiyo', 'kwenye', 'soka', 'la', 'Tanzania', 'imeibua', 'hisia', 'mseto', '.', 'Baadhi', 'ya', 'mashabiki', 'na', 'wanachama', 'wa', 'klabu', 'hiyo', 'wanatilia', 'shaka', 'utendaji', 'wake', 'wengine', 'wakihoji', 'namna', 'alivyopatikana', '.', 'Uteuzi', 'wake', 'umekuja', 'baada', 'ya', 'aliekuwa', 'mkurugenzi', 'mkuu', 'wa', 'klabu', 'hiyo', 'Senzo', 'Mbatha', 'kujiuzulu', 'na', 'kuagana', 'na', 'mahasimu', 'wao', 'Dar', 'young', 'African', '(', 'Yanga', ')', 'Kupitia', 'mtandao', 'wake', 'wa', 'twitter', ',', 'mmoja', 'wa', 'wanachama', 'wa', 'klabu', 'hiyo', 'yenye', 'makao', 'yake', 'makuu', 'mtaa', 'wa', 'Msimbazi', 'Kariakoo', 'jijini', 'Dar', 'es', 'salaam', ',', 'Dr', 'Khamisi', 'Kigwangala', 'amehoji', 'ueledi', 'wa', 'mtendaji', 'huyo', 'mkuu', 'mpya', 'na', 'mchakato', 'uliopitiwa', 'kumpata', '.', 'TWITTERCopyright', ':', 'TWITTER', 'Kupitia', 'taarifa', 'yao', 'rasmi', 'wekundu', 'wa', 'msimbazi', 'wakijibu', 'tuhuma', 'hizo', 'wameelezea', 'uwezo', 'na', 'weledi', 'alionao', 'mtendaji', 'huyo', 'mpya', ',', 'wakieleza', 'amekuwa', 'akifanya', 'kazi', 'nyuma', 'ya', 'pazia', 'na', 'kutoa', 'mchango', 'mkubwa', 'uliochangia', 'kuundwa', 'kwa', 'mfumo', 'wa', 'sheria', 'utakaongoza', 'mabadiliko', 'na', 'uendeshaji', 'mpya', 'wa', 'klabu', '.', 'Bi', 'Gonzalez', ',', 'amesomea', 'shahada', 'ya', 'sanaa', 'katika', 'uchumi', 'na', 'sayansi', 'ya', 'siasa', 'nchini', 'Marekani', 'Mwaka', '2016', '.', 'Barbara', 'alianza', 'kufanya', 'kazi', 'Melt', 'Mohammed', 'Enterprises', 'Limited', 'kama', 'msamiamizi', 'mkuu', 'wa', 'mfuko', 'wa', 'Mo', 'dewji', 'lakini', 'pia', 'amekuwa', 'msaidizi', 'mkuu', 'wa', 'Rais', 'wa', 'makampuni', 'ya', 'MELT', '.', 'China', \"'kujenga\", \"'\", 'kambi', 'za', 'kijeshi', 'Tanzania', 'na', 'Kenya', 'China', 'inafikiria', 'kujenga', 'kambi', 'za', 'kijeshi', 'katika', 'nchi', 'nne', 'za', 'Afrika', ',', 'kwa', 'mujibu', 'wa', 'ripoti', 'ya', 'idara', 'ya', 'ulinzi', 'ya', 'Marekani', '.', 'Tanzania', ',', 'Kenya', ',', 'Ushelisheli', 'na', 'Angola', 'zimetajwa', 'kuwa', 'miongoni', 'mwa', 'nchi', 'kadhaa', 'ambazo', 'China', 'inapania', 'kujenga', 'kambi', 'za', 'kijeshi', '.', 'Serikali', 'za', 'nchi', 'hizo', 'nne', 'za', 'Afrika', 'zilizotajwa', 'na', 'Marekani', 'hazijatoa', 'tamko', 'lolote', 'kuhusiana', 'na', 'suala', 'hilo', '.', 'Ripoti', 'hiyo', 'iliyochapishwa', 'wiki', 'iliyopita', 'imeangaziwa', 'sana', 'na', 'vyombo', 'vya', 'habari', 'wikendi', 'iliopita', ',', 'huku', 'baadhi', 'ya', 'nchi', 'ambazo', 'kambi', 'hizo', 'zitajengwa', 'zikikanusha', 'kufanya', 'mazungumzo', 'na', 'China', '.', '``', 'Kando', 'na', 'kambi', 'yake', 'ya', 'sasa', 'nchini', 'Djibouti', ',', 'Jamhuri', 'ya', 'watu', 'wa', 'China', 'ina', 'mpango', 'wa', 'kuongeza', 'kambi', 'zake', 'za', 'kijeshi', 'ughaibuni', 'kusaidia', 'vikosi', 'vya', 'majini', ',', 'angani', 'na', 'ardhini', ',', \"''\", 'sehemu', 'ya', 'ripoti', 'hiyo', 'ilisema', '.', 'Tawala', 'hasimu', 'za', 'Libya', 'zakutana', 'Morocco', 'kwa', 'mazungumzo', 'Waziri', 'wa', 'mambo', 'ya', 'nje', 'wa', 'Morocco', ',', 'Nasser', 'Bourita', ',', 'akiongoza', 'mkutano', 'huoImage', 'caption', ':', 'Waziri', 'wa', 'mambo', 'ya', 'nje', 'wa', 'Morocco', ',', 'Nasser', 'Bourita', ',', 'akiongoza', 'mkutano', 'huo', 'Wajumbe', 'wa', 'tawala', 'mbili', 'hasimu', 'nchini', 'Libya', 'wamekutana', 'kwa', 'mazungumzo', 'nchini', 'Morocco', 'wiki', 'mbili', 'baada', 'ya', 'pande', 'hiz', 'mbili', 'kusitisha', 'mapigano', '.', 'Wajumbe', 'watano', 'kutoka', 'kila', 'upande', 'ikiwa', 'ni', 'pamoja', 'na', 'ule', 'wa', 'serikali', 'inayotambuliwa', 'na', 'Umoja', 'wa', 'Mataifa', 'iliyo', 'na', 'makao', 'yake', 'Tripoli', 'na', 'bunge', 'hasimu', 'lililo', 'na', 'makao', 'yake', 'katika', 'mji', 'wa', 'mashariki', 'wa', 'Tobruk', '.', 'Akifungua', 'rasmi', 'mkutano', 'huo', 'katika', 'mji', 'wa', 'Bouznika', 'Waziri', 'wa', 'mambo', 'ya', 'nje', 'wa', 'Morocco', 'Nasser', 'Bourita', ',', 'amesema', 'Morocco', 'haina', 'ajenda', 'yoyote', 'bali', 'inataka', 'uwapatia', 'nafasi', 'viongozi', 'wa', 'Libya', 'kadili', 'masuala', 'yanayowagawanya', '.', 'Morocco', 'ilikuwa', 'mwenyeji', 'wa', 'mkutano', 'wa', 'mwaka2015', 'ambao', 'ulichangia', 'kubuniwa', 'kwa', 'serikali', 'inayotambuliwa', 'na', 'Umoja', 'wa', 'Mataifa', 'mjini', 'Tripoli', '.']\n",
      "\n",
      " Number of Words:  1237\n"
     ]
    }
   ],
   "source": [
    "file=\"20sep6.txt\"\n",
    "\n",
    "# calling the function and storing the contents in a text variable \n",
    "text = get_document(\"https://www.bbc.com/swahili/live/habari-54053609\")\n",
    "\n",
    "# calling the store_ document function \n",
    "store_document(doc=text,name=file)\n",
    "\n",
    "#add the words in this file to the total_corpus_words, to keep count of the number of words in the corpus\n",
    "total_corpus_words+=total_words(file)"
   ]
  },
  {
   "cell_type": "code",
   "execution_count": 65,
   "metadata": {},
   "outputs": [
    {
     "data": {
      "text/plain": [
       "325337"
      ]
     },
     "execution_count": 65,
     "metadata": {},
     "output_type": "execute_result"
    }
   ],
   "source": [
    "total_corpus_words"
   ]
  },
  {
   "cell_type": "code",
   "execution_count": 68,
   "metadata": {},
   "outputs": [
    {
     "name": "stdout",
     "output_type": "stream",
     "text": [
      "['Kiongozi', 'mwafrika', 'atafanya', 'mabadiliko', 'gani', 'katika', 'Shirika', 'la', 'Biashara', 'Ulimwenguni', 'Zawadi', 'Mudibo', 'Mhariri', 'wa', 'biashara', 'Afrika', '10', 'Septemba', '2020', 'Chanzo', 'cha', 'picha', ',', 'Getty', 'Images', 'Wagombea', 'watatu', 'kati', 'ya', 'wanane', 'wanaowania', 'kuwa', 'kiongozi', 'anayefuata', 'wa', 'Shirika', 'la', 'Biashara', 'Ulimwenguni', '(', 'WTO', ')', 'ni', 'Waafrika', ',', 'lakini', 'kuna', 'tofauti', 'gani', 'kuwa', 'na', 'Mwafrika', 'kwenye', 'usukani', 'na', 'kutaleta', 'mabadiliko', 'gani', 'barani', '?', 'Kuna', 'hisia', 'inayoongezeka', 'kati', 'ya', 'wanadiplomasia', 'wa', 'Kiafrika', 'kwamba', 'mtu', 'kutoka', 'bara', 'anapaswa', 'kuwa', 'katika', 'uongozi', 'wa', 'moja', 'ya', 'taasisi', 'kuu', 'za', 'uchumi', 'duniani', '.', 'Wakati', 'Mmarekani', 'amekuwa', 'akiongoza', 'Benki', 'ya', 'Dunia', 'kila', 'wakati', ',', 'Mzungu', 'akiwa', 'anaongoza', 'Shirika', 'la', 'Fedha', 'Duniani', ',', 'Mwafrika', 'hajawahi', 'kuchukua', 'wadhifa', 'sawa', '.', 'Lakini', 'ikiwa', 'mmoja', 'kutoka', 'Ngozi', 'Okonjo-Iweala', 'wa', 'Nigeria', ',', 'Amina', 'Mohamed', 'wa', 'Kenya', 'au', 'Abdel-Hamid', 'Mamdouh', 'wa', 'Misri', 'atatoka', 'kwenye', 'mchakato', 'wa', 'uchaguzi', 'mrefu', 'kama', 'mkurugenzi', 'mkuu', 'wa', 'WTO', ',', 'bara', 'linaweza', 'kuhisi', 'kwamba', 'linacheza', 'kwenye', 'ligi', 'sawa', 'na', 'wengine', 'wote', 'ulimwenguni', '.', 'WTO', 'huweka', 'sheria', 'za', 'biashara', 'ya', 'ulimwengu', 'na', 'huamua', 'katika', 'mizozo', 'ya', 'kibiashara', 'kati', 'ya', 'mataifa', '.', 'Pia', ',', 'kulingana', 'na', 'tovuti', 'yake', ',', 'inapaswa', 'kuendeleza', '``', 'biashara', 'wazi', 'kwa', 'faida', 'ya', 'wote', \"''\", '.', 'Uwezo', 'wa', 'shirika', 'lenye', 'makao', 'yake', 'Geneva', 'kupata', 'makubaliano', 'ya', 'ulimwengu', 'ya', 'kanuni', 'za', 'msingi', 'ambazo', 'kila', 'nchi', 'husaini', 'umetiliwa', 'shauku', 'katika', 'miaka', 'ya', 'hivi', 'kariuni', 'lakini', 'kiongozi', 'wa', 'WTO', 'ana', 'ushawishi', 'mkubwa', '.', 'Mkurugenzi', 'mkuu', 'anahudhuria', 'mikutano', 'ya', 'G20', 'na', 'G7', '(', 'mataifa', 'tajiri', 'zaidi', 'duniani', ')', 'na', 'anaweza', 'kutekeleza', 'makubaliano', 'kati', 'ya', 'viongozi', 'wa', 'ulimwengu', '.', 'Lakini', 'kuna', 'zaidi', 'ya', 'kupatikana', 'kwa', 'kiongozi', 'huyu', 'katika', 'Afrika', 'kando', 'na', 'wasifu', 'wa', 'kidiplomasia', '?', 'Chanzo', 'cha', 'picha', ',', 'Getty', 'Images', 'Maelezo', 'ya', 'picha', ',', 'Kiwanda', 'cha', 'nguo', 'nchini', 'Kenya', 'Ingawa', 'jukumu', 'la', 'Mkurugenzi', 'Mkuu', 'huhusisha', 'usimamizi', ',', 'kiongozi', 'wa', 'Kiafrika', 'anaweza', 'kusaidia', 'kuhakikisha', 'kuwa', 'masilahi', 'ya', 'bara', 'yanazingatiwa', 'katika', 'shughuli', 'za', 'WTO', '.', 'Mazungumzo', 'ya', 'biashara', 'yanaweza', 'kuonekana', 'yenye', 'kuzidi', 'muda', 'na', 'kufanyika', 'faraghani', ',', 'lakini', 'matokeo', 'yake', 'yanaweza', 'kugusa', 'maisha', 'ya', 'kila', 'mtu', '.', 'Kutoka', 'kwa', 'mfanyibiashara', 'mdogo', 'ambaye', 'huvuka', 'mpaka', 'mra', 'kadhaa', 'kwa', 'mwezi', ',', 'hadi', 'kwa', 'mteja', 'akinunua', 'bidhaa', 'iliyoagizwa', 'nje', 'kwenye', 'soko', ',', 'kwa', 'mtu', 'aliye', 'na', 'kazi', 'katika', 'tasmnia', 'ya', 'utengenezaji-', 'wote', 'wanaathiriwa', 'na', 'sheria', 'za', 'biashara', '.', 'Barani', 'Afrika', ',', 'biashara', 'inaonekana', 'nguzo', 'ya', 'ukuaji', ',', 'njia', 'ya', 'maendeleo', 'endelevu', 'na', 'kama', 'zana', 'ya', 'kutokomeza', 'umaskini', '.', '``', 'Misaada', 'ya', 'nje', 'haitafaidi', 'Afrika', '.', 'Kama', 'mahali', 'pengine', 'popote', 'katika', 'historia', 'ni', 'biashara', ',', \"''\", 'anasema', 'David', 'Luke', ',', 'mkuu', 'wa', 'kituo', 'cha', 'sera', 'za', 'biashara', 'katika', 'Tume', 'ya', 'Uchumi', 'ya', 'UN', 'ya', 'Afrika', '.', '``', 'Kwa', 'hivyo', 'Waafrika', 'wa', 'kawaida', 'wataelewa', 'kuwa', 'mwafrika', 'anayeongoza', 'WTO', 'anaonyesha', 'tunazingatia', 'biashara', '.', \"''\", 'Bi', 'Okonjo-', 'Iweala', 'aliambia', 'BBC', 'kwamba', 'anajali', 'zaidi', 'mwafrika', 'wa', 'kawaida', 'katika', 'sera', 'zake', '.', 'Alisema', 'kuwa', 'alitaka', '``', 'kujua', 'jinsi', 'ya', 'kupata', 'wanawake', 'na', 'vijana', ',', 'ambao', 'wako', 'nyuma', 'ya', 'injini', 'hizi', 'za', 'ukuaji', 'barani', 'Afrika', ',', 'kufaidika', 'zaidi', 'na', 'biashara', 'ya', 'ulimwengu', \"''\", '.', 'Chanzo', 'cha', 'picha', ',', 'Getty', 'Images', 'Alikuwa', 'na', 'nia', 'ya', 'kuhakikisha', 'kuwa', 'bara', 'linaondoka', 'katika', 'kusafirisha', 'malighafi', 'na', 'badala', 'yake', 'linajishughulisha', 'mno', 'na', '``', 'kuongeza', 'thamani', 'kwa', 'bidhaa', 'tunazozalisha', 'kwa', 'soko', 'la', 'kimataifa', '.', 'Kwa', 'mfano', ',', 'tunaagizia', 'asilimia', '94', 'ya', 'dawa', 'kwenye', 'bara', 'wakati', 'tunaweza', 'kuzalsiha', 'haa', 'Afrika', '.', \"''\", 'Bi', 'Mohamed', ',', 'ambaye', 'amewahi', 'kuwa', 'waziri', 'wa', 'biashara', 'na', 'wa', 'maswala', 'ya', 'nje', 'nchini', 'Kenya', ',', 'aliambia', 'BBC', 'kwamba', 'anaweza', 'kuleta', '``', 'mtazamo', 'mpya', \"''\", 'ambao', 'ulikuwa', '``', 'pana', '[', 'na', ']', 'unaojumuisha', 'kazi', 'hiyo', '.', 'Lakini', 'hakutaka', 'kuhukumiwa', 'wala', 'kuonekana', 'kama', 'kiongozi', 'wa', 'kiafrika', 'au', 'mwanamke', 'tu', ',', 'bali', 'kama', 'kiongozi', 'mzoefu', '[', 'na', ']', 'mjenzi', 'wa', 'makubaliano', \"''\", 'Kwa', 'upande', 'wake', 'Bw', 'Mamdouh', ',', 'ambaye', 'amekuwa', 'akifanya', 'mazungumzo', 'kwa', 'niaba', 'ya', 'Misri', 'tangu', 'mwaka', 'wa', '1985', ',', 'alisema', 'uzoefu', 'wake', 'mkubwa', 'katika', 'shirika', 'hilo', 'la', 'biashara', 'utamwezesha', 'kuona', 'jinsi', 'gani', 'unaweza', 'kulisaidia', 'bara', 'lote', 'zaidi', '.', '``', 'Ajenda', 'yangu', 'kwa', 'Afrika', 'itakuwa', 'kuwajumuisha', 'waafrika', 'zaidi', 'katika', 'mfumo', 'wa', 'biashara', ',', \"''\", 'alisema', '.', '``', 'Pia', 'nitatoa', 'wito', 'kwa', 'viongozi', 'wa', 'kisiasa', 'katika', 'nchi', 'za', 'kiafrika', 'kuzingatia', 'sera', 'zao', 'za', 'kibiashara', '.', \"''\", 'Huwezi', 'kusikiliza', 'tena', 'Maelezo', 'ya', 'video', ',', 'Watu', '8', 'wameteuliwa', 'kuwania', 'wadhfa', 'wa', 'mkurugenzi', 'mpya', 'wa', 'Shirika', 'la', 'biashara', 'Duniani', 'WTO', 'Lakini', 'dhahiri', 'katika', 'jibu', 'hili', 'ni', 'kwamba', 'ingawa', 'mkurugenzi', 'mkuu', 'wa', 'WTO', 'anaweza', 'kushawishi', 'marais', ',', 'yeye', 'hawezi', 'kuwalazimisha', 'kutenda', 'kwa', 'njia', 'fulani', '!', 'Walakini', ',', 'lijapo', 'suala', 'la', 'kusaidia', 'kutambua', 'sera', 'kubwa', 'ya', 'biashara', 'ya', 'Afrika-', 'Mkataba', 'wa', 'Biashara', 'Huria', '(', 'Huru', ')', 'ya', 'Bara', 'la', 'Afrika', '(', 'AfCTA', ')', '-', 'mkuu', 'wa', 'WTO', 'anaweza', 'kuchukua', 'jukumu', '.', 'Makubaliano', 'hayo', 'ambayo', 'utekelezwaji', 'wake', 'umeahirishwa', 'kutokana', 'na', 'janga', 'la', 'virusi', 'vya', 'covid-', '19', ',', 'unatarajia', 'kuanzisha', 'eneo', 'kubwa', 'zaidi', 'la', 'biashara', 'huria', 'duniani', '.', '``', 'Hii', 'itahakikisha', 'bidhaa', 'za', 'hali', 'ya', 'juu', 'zaidi', 'kutoka', 'bara', ',', 'na', 'hivyo', ',', 'kuweka', 'pesa', 'zaidi', 'katika', 'mifuko', 'ya', 'watu', 'na', 'kusaidia', 'kutokomeza', 'umaskini', 'wa', 'muda', 'mrefu', ',', \"''\", 'mtaalam', 'wa', 'biashara', 'Bw', 'Luke', 'alisema', '.', 'Sheria', 'na', 'malengo', 'ya', 'AfCTA', 'yanaambatana', 'na', 'yale', 'ya', 'WTO', ',', 'na', 'kiongozi', 'wa', 'kiafrika', 'wa', 'shirika', 'la', 'biashara', 'anaweza', 'kusaidia', 'kuielekeza', 'kuelekea', 'misaada', 'zaidi', 'kwa', 'bara', '.', 'Hiyo', 'inaweza', 'kuwa', 'katika', 'kutoa', 'msaada', 'wa', 'kiufundi', ',', 'uchambuzi', 'wa', 'biashara', 'na', 'utaalam', 'wa', 'sera', ',', 'na', 'kuleta', 'ndoto', 'ya', 'biasharahuria', 'Afrika', 'kuwa', 'kweli', '.', 'Chanzo', 'cha', 'picha', ',', 'Getty', 'Images', 'Maelezo', 'ya', 'picha', ',', 'Mvutano', 'wa', 'kibiashara', 'kati', 'ya', 'China', 'na', 'Marekani', 'Lakini', 'kama', 'vile', 'Afrika', 'inaelekea', 'katika', 'mazingira', 'huru', 'ya', 'biashara', ',', 'matamshi', 'ya', 'ulinzi', 'katika', 'maeneo', 'mengine', 'ya', 'ulimwengu', 'yanaonekana', 'kuongezeka', '.', 'Vita', 'vya', 'biashara', 'kati', 'ya', 'Marekani', 'na', 'China', ',', 'na', 'sera', 'za', 'Rais', 'wa', 'Marekani', 'Donald', 'Trump', 'za', 'kutekeleza', 'mfumo', 'wa', 'kuipa', 'kipau', 'mbele', 'dhidi', 'ya', 'wandani', 'wa', 'kibiashara', ',', 'almarufu', '``', 'America', 'First', \"''\", ',', 'zinaonekana', 'kugeuza', 'wimbi', 'dhidi', 'ya', 'imani', 'ya', 'biashara', 'huria', '.', 'Vikwazo', 'vilivyowekwa', 'kwa', 'sababu', 'ya', 'kukabili', 'maambukizi', 'ya', 'virusi', 'vya', 'corona', 'pia', 'vimeathiri', 'harakati', 'usafirishaji', 'huduma', 'na', 'bidhaa', 'muhimu', 'kwa', 'wanaozihitaji', '.', 'Kwa', 'kuongezea', ',', 'kukataa', 'kwa', 'Marekani', 'kuidhinisha', 'uteuzi', 'au', 'kuteuliwa', 'tena', 'kwa', 'viongozi/', 'majaji', 'wa', 'WTO', 'wanaosimamia', 'rufaa', 'dhidi', 'ya', 'maamuzi', 'ya', 'shirika', 'hilo', ',', 'imeiweka', 'katika', 'hali', 'ya', 'sintofahamu', '.', 'Pia', 'inatishia', 'kudhoofisha', 'WTO', 'kwa', 'jumla', '.', 'Ufanisi', 'wa', 'WTO', 'katika', 'kuanzisha', 'sheria', 'mpya', 'za', 'msingi', 'ambazo', 'nchi', 'zote', 'zinaweza', 'kukabiliana', 'pia', 'umekuwa', 'changamoto', '.']\n",
      "\n",
      " Number of Words:  1026\n"
     ]
    }
   ],
   "source": [
    "file=\"20sep10.txt\"\n",
    "\n",
    "# calling the function and storing the contents in a text variable \n",
    "text = get_document(\"https://www.bbc.com/swahili/54101906\")\n",
    "\n",
    "# calling the store_ document function \n",
    "store_document(doc=text,name=file)\n",
    "\n",
    "#add the words in this file to the total_corpus_words, to keep count of the number of words in the corpus\n",
    "total_corpus_words+=total_words(file)"
   ]
  },
  {
   "cell_type": "code",
   "execution_count": 69,
   "metadata": {},
   "outputs": [
    {
     "data": {
      "text/plain": [
       "326363"
      ]
     },
     "execution_count": 69,
     "metadata": {},
     "output_type": "execute_result"
    }
   ],
   "source": [
    "total_corpus_words"
   ]
  },
  {
   "cell_type": "code",
   "execution_count": 70,
   "metadata": {},
   "outputs": [
    {
     "name": "stdout",
     "output_type": "stream",
     "text": [
      "['Chombo', 'kingine', 'cha', 'habari', 'chafungiwa', 'Tanzania', 'Mamlaka', 'ya', 'Mawasiliano', 'Tanzania', '(', 'TCRA', ')', 'imekifungia', 'kituo', 'cha', 'utangazaji', 'cha', 'Wasafi', 'FM', 'kwa', 'muda', 'wa', 'siku', 'saba', 'kuanzia', 'Septemba', '12', 'hadi', 'Septemba', '18', 'mwaka', 'huu', '.', 'Hatua', 'hiyo', 'imefikiwa', 'baada', 'ya', 'kituo', 'hicho', 'kukiuka', 'kanuni', 'za', 'Mawasiliano', 'ya', 'kielektroniki', 'na', 'posta', 'katika', 'utangazaji', 'wa', 'radio', 'na', 'televisheni', 'za', 'mwaka', '2018', 'ambazo', 'zinamtaka', 'mtangazaji', 'kutangaza', 'maudhui', 'ya', 'staha', '.', 'Mkurugenzi', 'Mkuu', 'wa', 'TCRA', ',', 'Mhandisi', 'James', 'Kilaba', 'amesema', 'kuwa', 'ukiukwaji', 'huo', 'wa', 'kanuni', 'uliofanyika', 'katika', 'vipindi', 'vya', 'The', 'Switch', 'na', 'Mashamsham', ',', 'utasababisha', 'kituo', 'hicho', 'kusitisha', 'huduma', 'za', 'utangazaji', 'kwa', 'muda', 'wa', 'siku', 'saba', 'na', 'kuomba', 'msamaha', 'kwa', 'siku', 'ya', 'leo', '.', 'Aidha', 'adhabu', 'hiyo', 'si', 'kwamba', 'itakuwa', 'aina', 'hiyo', 'kwa', 'wote', ',', 'bali', 'inaweza', 'kubadilika', '.', 'Mwanzoni', 'mwa', 'mwezi', 'huu', ',', 'chombo', 'kingine', 'cha', 'habari', 'Clouds', 'media', 'kilifungiwa', 'kwa', 'kukiuka', 'kanuni', 'ndogo', 'za', 'uchaguzi', '.', 'Yanga', 'yazindua', 'jezi', 'mpya', 'Klabu', 'ya', 'soka', 'ya', 'Yanga', 'ya', 'Tanzania', 'leo', 'hii', 'imezindua', 'jezi', 'zake', 'itakazotumia', 'katika', 'msimu', 'wa', '2020/', '2021', '.', 'Yanga', 'wamezindua', 'jezi', 'hizo', 'watakazotumia', 'katika', 'msimu', 'huu', 'ikiwa', 'tayari', 'msimu', 'wa', 'ligi', 'kuu', 'Tanzania', 'bara', 'umekwisha', 'anza', 'kwa', 'mzunguko', 'mmoja', 'kuchezwa', '.', 'Katika', 'mchezo', 'wa', 'kwanza', 'wa', 'ligi', 'kuu', 'ya', 'Tanzania', 'Bara', ',', 'Yanga', 'ama', 'wapenzi', 'wa', 'soka', 'wakiita', 'timu', 'ya', 'wananchi', 'walitumia', 'jezi', 'ya', 'msimu', 'uliopita', 'kutokana', 'na', 'jezi', 'hizi', 'zilizozinduliwa', 'kutokuwepo', '.', 'YangaCopyright', ':', 'Yanga', 'Wadhamini', 'wa', 'klabu', 'hiyo', 'kampuni', 'ya', 'GSM', 'walieleza', 'sababu', 'ya', 'kuchelewa', 'kuzinduliwa', 'kwa', 'jezi', 'hizo', 'ni', 'sababu', 'ya', 'usafiri', 'kutokana', 'na', 'janga', 'la', 'Corona', 'hivyo', 'ndio', 'maana', 'jezi', 'hizo', 'zilichelewa', 'kuwasili', 'nchini', 'Tanzania', '.', 'Yanga', 'itashuka', 'dimbani', 'siku', 'ya', 'jumapili', 'kucheza', 'na', 'Mbeya', 'City', 'katika', 'mchezo', 'wa', 'mzunguko', 'wa', 'pili', 'wa', 'ligi', 'kuu', 'ya', 'Tanzania', 'bara', '.', 'Amnesty', 'inalaumu', 'wanajeshi', 'wa', 'Msumbiji', 'kwa', 'ukiukwaji', 'wa', 'haki', 'za', 'binadamuImage', 'caption', ':', 'Amnesty', 'inalaumu', 'wanajeshi', 'wa', 'Msumbiji', 'kwa', 'ukiukwaji', 'wa', 'haki', 'za', 'binadamu', 'Jeshi', 'la', 'Msumbiji', 'limekanusha', 'tuhuma', 'za', 'ukiukwaji', 'wa', 'haki', 'za', 'binadamu', 'iliyotolewa', 'dhidi', 'yake', 'na', 'shirika', 'la', 'kutetea', 'haki', 'la', 'Amnesty', 'International', 'kufuatia', 'juhudi', 'zake', 'za', 'kukabiliana', 'na', 'wanamgambo', 'wa', 'kiislamu', 'katika', 'mkoa', 'wa', 'Cabo', 'Delgado', 'kaskazini', 'mwa', 'nchi', 'hiyo', '.', 'Mapema', 'wiki', 'hii', 'Amnesty', 'International', 'iliwalaumu', 'wanajeshi', 'wa', 'Msumbiji', 'kwa', 'kuekeleza', 'mauaji', ',', 'na', 'kuwatesa', 'wafungwa', 'wanaoazuiliwa', 'katika', 'kile', 'kinadai', 'kuwa', 'mauaji', 'ya', 'kiholela', 'na', 'kusafirisha', 'idadi', 'kubwa', 'ya', 'maiti', 'na', 'kuzizika', 'katika', 'makaburi', 'ya', 'pamoja', '.', 'Shirika', 'hilo', 'linatumia', 'ushahidi', 'ambao', 'linasema', 'ni', 'kanda', 'ya', 'video', 'na', 'picha', 'ambazo', '``', 'limethibitisha', \"''\", 'kutoka', 'eneo', 'hilo', 'zikionesha', 'uhalifu', 'unaotekelezwa', 'dhidi', 'ya', 'wafungwa', 'wanaozuiliwa', 'na', 'maafisa', 'hao', '.', 'Lakini', 'msemaji', 'wa', 'wizara', 'ya', 'ulinzi', 'ya', 'Msumbiji', ',', 'Omar', 'Saranga', ',', 'anasema', 'Amnesty', 'haikuzingatia', 'picha', 'hizo', 'huenda', 'zimetolewa', 'na', 'waasi', 'ili', 'kudhalilisha', 'jeshi', '.', 'Pia', 'amelishutumu', 'Amnesty', 'International', 'kwa', '``', 'kukaa', 'kimya', 'dhidi', 'ya', 'unyama', 'ambao', 'umekuwa', 'ukitekelezwa', 'katika', 'mkoa', 'wa', 'Cabo', 'Delgado', 'tangu', '2017', \"''\", '.', 'WHO', 'na', 'Afrika', 'CDC', 'yazindua', 'mtandao', 'wa', 'maabara', 'ya', 'Covid-19', 'Shirika', 'la', 'Afya', 'Duniani', '(', 'WHO', ')', 'na', 'Kituo', 'cha', 'kuzuia', 'na', 'kudhibiti', 'magonjwa', 'Afrika', '(', 'CDC', ')', 'wamezindua', 'mtandao', 'mpya', 'wa', 'maabara', 'ambao', 'utaimarisha', 'mpangilio', 'wa', 'uchunguzi', 'wa', 'virusi', 'vya', 'corona', 'barani', 'Afrika', '.', 'Mpango', 'huo', 'unachunguza', 'uwezekano', 'wa', 'kuzaana', 'kwa', 'virusi', 'vya', 'corona', 'ili', 'kujiandaa', 'vyema', 'kutoa', 'huduma', 'katika', 'sekta', 'ya', 'afya', 'ya', 'umma', '.', 'Wataalamu', 'kutoka', 'WHO', 'na', 'kituo', 'cha', 'CDC', 'Afrika', 'wanaamini', 'hatua', 'hiyo', 'itasaidia', 'nchi', 'kuelewa', 'tofauti', 'kati', 'ya', 'chembe', 'chembe', 'ya', 'virusi', 'vya', 'SARS', 'na', 'vile', 'vya', 'Cov-2', ',', 'ili', 'kuimarisha', 'uwezo', 'wa', 'nchi', 'kujitayarisha', 'kwa', 'matibabu', 'au', 'uwezekano', 'wa', 'kupata', 'chanjo', '.', 'Maabara', '12', 'maalum', 'zitajumuishwa', 'kwenye', 'mtandao', 'huo', 'barani', 'Afrika', '.', 'Hatua', 'hiyo', 'inakuja', 'baada', 'ya', 'CDC', 'Afrika', 'kusema', 'kuwa', 'ripoti', 'za', 'awali', 'zilikuwa', 'zinaonesha', 'kuwa', 'viwango', 'vya', 'maambukizi', 'ya', 'ugonjwa', 'wa', 'Covid-19', 'vinashuka', 'katika', 'hali', 'ambayo', 'imepunguza', 'idadi', 'ya', 'watu', 'wanaoambukizwa', 'virusi', 'na', 'wale', 'wanaofariki', 'kutokana', 'na', 'virusi', 'hivyo', 'ikilinganishwa', 'na', 'maeneo', 'mengine', 'dunani', '.', 'WHO', 'hata', 'hivyo', 'imeonya', 'hatua', 'ya', 'kusherehekea', 'mapema', 'matokeo', 'hayo', 'kwasababu', 'baadhi', 'ya', 'nchi', 'za', 'Afrika', 'haziwafanyii', 'vipimo', 'raia', 'wao', 'ikilinganishw', 'ana', 'maeneo', 'mengine', 'duniani', '.']\n",
      "\n",
      " Number of Words:  651\n"
     ]
    }
   ],
   "source": [
    "file=\"20sep11_1.txt\"\n",
    "\n",
    "# calling the function and storing the contents in a text variable \n",
    "text = get_document(\"https://www.bbc.com/swahili/live/habari-54114208\")\n",
    "\n",
    "# calling the store_ document function \n",
    "store_document(doc=text,name=file)\n",
    "\n",
    "#add the words in this file to the total_corpus_words, to keep count of the number of words in the corpus\n",
    "total_corpus_words+=total_words(file)"
   ]
  },
  {
   "cell_type": "code",
   "execution_count": 71,
   "metadata": {},
   "outputs": [
    {
     "data": {
      "text/plain": [
       "327014"
      ]
     },
     "execution_count": 71,
     "metadata": {},
     "output_type": "execute_result"
    }
   ],
   "source": [
    "total_corpus_words"
   ]
  },
  {
   "cell_type": "code",
   "execution_count": 74,
   "metadata": {},
   "outputs": [
    {
     "name": "stdout",
     "output_type": "stream",
     "text": [
      "['Elsa', 'Majimbo', ':', 'Mchekeshaji', 'wa', 'Kenya', 'apewa', 'mkataba', 'kukuza', 'nembo', 'ya', 'fesheni', 'ya', 'Rihanna', 'kwa', 'jina', 'Fenty', '14', 'Septemba', '2020', 'Chanzo', 'cha', 'picha', ',', 'Elisha/', 'Twitter', 'Mchekeshaji', 'wa', 'kula', 'viazi', 'Elsa', 'majimbo', 'ambaye', 'alijipatia', 'umaarufu', 'kwa', 'hotuba', 'zake', 'katika', 'mtandao', 'wa', 'twitter', 'na', 'Instagram', 'tangu', 'kuanza', 'kwa', 'mlipuko', 'wa', 'corona', 'amefanikiwa', 'kuingia', 'mkataba', 'na', 'nembo', 'ya', 'fesheni', 'ya', 'Rihanna', 'kwa', 'jina', 'Fenty', '.', 'Mchekeshaji', 'huyo', 'mwenye', 'umri', 'wa', 'miaka', '19', 'alisema', 'kwamba', 'anajivunia', 'mkataba', 'wake', 'wa', 'kukuza', 'nembo', 'hiyo', 'ya', 'Rihanna', '.', 'Nembo', 'hiyo', 'ya', 'Rihanna', 'ilituma', 'ujumbe', 'wa', 'ukanda', 'wa', 'video', 'katika', 'mtandao', 'wa', 'twitter', 'ambapo', 'ilitangaza', 'mpango', 'huo', '.', \"''Naishukuru\", 'familia', 'ya', 'fenty', 'wamekuwa', 'watu', 'wazuri', 'pamoja', 'na', 'Rihanna', 'katika', 'nembo', 'hii', \"''\", ',', 'Elsa', 'alituma', 'ujumbe', 'wa', 'twitter', '.', 'Kanda', 'zake', 'za', 'video', 'alizopiga', 'chumbani', 'mwake', 'mjini', 'Nairobi', 'zimewavutia', 'watazamaji', 'wengi', 'barani', 'Afrika', '.', 'Anakula', 'viazi', 'huku', 'akiwa', 'ametegemea', 'mto', 'wake', 'wakati', 'akizungumza', ',', 'kabla', 'ya', 'kuficha', 'uso', 'kwa', 'kuvalia', 'miwani', 'meusi', '.', 'Kanda', 'zake', 'za', 'video', 'zimevutia', 'makumi', 'ya', 'maelfu', 'ya', 'watazamaji', 'katika', 'mitandao', 'ya', 'kijamii', '.', 'Katika', 'maelezo', 'yake', 'mafupa', 'alioandika', 'katika', 'mtandao', 'wake', 'wa', 'YouTube', 'anasema', 'kwamba', 'anatumia', 'simu', 'aina', 'ya', 'iphone', '6', 'kupiga', 'video', 'hizo', '.', 'Mwezi', 'Julai', ',', 'aliambia', 'gazeti', 'la', 'Uingereza', 'The', 'Guradian', 'kwamba', 'familia', 'yake', 'haipendi', 'video', 'zake', 'lakini', 'sasa', 'wameanza', 'kuzipenda', 'polepole', '.', 'Alisema', 'kwamba', 'katika', 'siku', 'za', 'baadaye', 'atafanya', 'uigizaji', 'na', 'kusoma', 'kidogo', '-', 'ni', 'mwandishi', 'katika', 'chuo', 'kikuu', 'cha', 'Strathmore', 'jijini', 'Nairobi', '.']\n",
      "\n",
      " Number of Words:  236\n"
     ]
    }
   ],
   "source": [
    "file=\"20sep14.txt\"\n",
    "\n",
    "# calling the function and storing the contents in a text variable \n",
    "text = get_document(\"https://www.bbc.com/swahili/habari-54154862\")\n",
    "\n",
    "# calling the store_ document function \n",
    "store_document(doc=text,name=file)\n",
    "\n",
    "#add the words in this file to the total_corpus_words, to keep count of the number of words in the corpus\n",
    "total_corpus_words+=total_words(file)"
   ]
  },
  {
   "cell_type": "code",
   "execution_count": 75,
   "metadata": {},
   "outputs": [
    {
     "data": {
      "text/plain": [
       "327250"
      ]
     },
     "execution_count": 75,
     "metadata": {},
     "output_type": "execute_result"
    }
   ],
   "source": [
    "total_corpus_words"
   ]
  },
  {
   "cell_type": "code",
   "execution_count": 77,
   "metadata": {},
   "outputs": [
    {
     "name": "stdout",
     "output_type": "stream",
     "text": [
      "['Virusi', 'vya', 'corona', ':', 'Kenya', 'yafungua', 'anga', 'lake', 'kwa', 'Tanzania', 'Serikali', 'ya', 'Kenya', 'kwa', 'mara', 'ya', 'kwanza', 'tangu', 'kuanza', 'janga', 'la', 'Covid-19', 'imewajumuisha', 'raia', 'wa', 'Tanzania', 'katika', 'orodha', 'ya', 'nchi', 'ambazo', 'wasafiri', 'wake', 'hawatalazimika', 'kukaa', 'karantini', 'watakapowasili', 'nchini', 'humo', '.', 'Hatua', 'hii', 'inatazamwa', 'kama', 'hatua', 'tata', 'wakati', 'Tanzania', 'ikiwa', 'bado', 'haijatoa', 'taarifa', 'yoyote', 'kuhusu', 'maambukizi', 'ya', 'virusi', 'vya', 'corona', 'kwa', 'miezi', 'kadhaa', 'na', 'Rais', 'wake', ',', 'John', 'Magufuli', ',', 'alitangaza', 'kuwa', 'ugonjwa', 'huo', 'umekwisha', 'Tanzania', '.', 'Baada', 'ya', 'miezi', 'kadhaa', 'ya', 'mvutano', 'kuhusu', 'namna', 'ambavyo', 'nchi', 'hizo', 'mbili', 'zinavyoshughulikia', 'janga', 'la', 'corona', ',', 'sasa', 'mambo', 'yanaonekana', 'kupoa', '.', 'Katika', 'orodha', 'mpya', 'ya', 'nchi', 'ambazo', 'Kenya', 'imeruhusu', 'raia', 'wake', 'kuingia', 'bila', 'kukaa', 'karantini', ',', 'Tanzania', 'pia', 'imeorodheshwa', '.', 'Nchi', 'nyingine', 'ni', 'Afrika', 'Kusini', ',', 'Marekani', ',', 'India', ',', 'Mexico', 'na', 'Uhispania', ',', 'ambazo', 'ni', 'miongoni', 'mwa', 'nchi', 'zilizo', 'na', 'idadi', 'kubwa', 'ya', 'maambukizi', 'duniani', 'kwa', 'mujibu', 'wa', 'Shirika', 'la', 'Afya', 'duniani', ',', 'WHO', 'Kwa', 'muda', 'sasa', 'serikali', 'ya', 'Kenya', 'ilihofia', 'kuwa', 'Tanzania', 'haiko', 'wazi', 'kuhusu', 'namna', 'inavyoshughulika', 'kupambana', 'na', 'janga', 'la', 'corona', '.', 'Rais', 'wa', 'Tanzania', 'John', 'Magufuli', 'alitangaza', 'kuwa', 'ugonjwa', 'huo', 'umekwisha', 'na', 'hivi', 'sasa', 'kuvaa', 'barakoa', 'na', 'kutochangamana', 'ni', 'suala', 'nadra', 'nchini', 'humo', '.', 'Hatahivyo', ',', 'mamlaka', 'za', 'Kenya', 'zinataka', 'wageni', 'wote', 'watakaoingia', 'kuwa', 'na', 'nyaraka', 'maalum', 'zinazoelezea', 'kama', 'wana', 'maambukizi', 'au', 'la', 'Kenya', 'imethibitishwa', 'kuwa', 'na', 'maambukizi', 'ya', 'watu', 'zaidi', 'ya', '36,000', 'na', 'vifo', 'vya', 'zaidi', 'ya', 'watu', '600', '.']\n",
      "\n",
      " Number of Words:  232\n"
     ]
    }
   ],
   "source": [
    "file=\"20sep16_1.txt\"\n",
    "\n",
    "# calling the function and storing the contents in a text variable \n",
    "text = get_document(\"https://www.bbc.com/swahili/habari-54172659\")\n",
    "\n",
    "# calling the store_ document function \n",
    "store_document(doc=text,name=file)\n",
    "\n",
    "#add the words in this file to the total_corpus_words, to keep count of the number of words in the corpus\n",
    "total_corpus_words+=total_words(file)"
   ]
  },
  {
   "cell_type": "code",
   "execution_count": 78,
   "metadata": {},
   "outputs": [
    {
     "data": {
      "text/plain": [
       "327482"
      ]
     },
     "execution_count": 78,
     "metadata": {},
     "output_type": "execute_result"
    }
   ],
   "source": [
    "total_corpus_words"
   ]
  },
  {
   "cell_type": "code",
   "execution_count": 79,
   "metadata": {},
   "outputs": [
    {
     "name": "stdout",
     "output_type": "stream",
     "text": [
      "['Taji', 'alilovaa', 'Notorious', 'B.I.G', 'lauzwa', 'maelfu', 'ya', 'dola', 'Taji', 'alilovaa', 'msanii', 'maarufu', 'wa', 'mtindo', 'wa', 'Hip', 'hop', ',', 'marehemu', 'Notorious', 'B.I.G', 'alilovaa', 'katika', 'picha', 'aliyopigwa', 'muda', 'mfupi', 'kabla', 'ya', 'kuuawa', 'kwake', ',', 'limenunuliwa', 'dola', '594,750', ',', 'kwa', 'mujibu', 'wa', 'kampuni', 'ya', 'biashara', 'Sotheby', 'iliyoliuza', '.', 'Mauzo', 'ya', 'taji', 'hilo', 'yamefanyika', 'katika', 'mnada', 'uliofanyika', 'usiku', 'wa', 'Jumanne', 'mjini', 'New', 'York', 'ambapo', 'pia', 'barua', 'za', 'mapenzi', 'za', 'Tupac', 'Shakur', 'alipokuwa', 'kijana', 'mdogo', 'ziliuzwa', '.', 'Mwezi', 'uliopita', ',', 'kampuni', 'ya', 'Sotheby', \"'s\", 'ilikuwa', 'imesema', 'taji', 'hilo', 'litagharimu', 'kati', 'ya', 'dola', '200,000', 'na', 'dola', '300,000', ',', 'za', 'Marekani', 'na', 'sasa', 'limeuzwa', 'kwa', 'karibu', 'mara', 'mbili', 'ya', 'thamani', 'iliyokadiriwa', 'awali', '.', 'Notorious', 'B.I.G', 'au', 'Biggie', 'alivaa', 'taji', 'hili', 'siku', 'tatu', 'tu', 'kabla', 'ya', 'kupigwa', 'risasi', 'hadi', 'kufa', 'tarehe', '09/03/1997', ',', 'akiwa', 'na', 'umri', 'wa', 'miaka', '24', '.', 'Barua', 'za', 'Tupac', 'Shakur', 'alizomuandikia', 'mpenzi', 'wake', 'waliyekuwa', 'wakisoma', 'pamoja', 'katika', 'shule', 'ya', 'Baltimore', ',', 'ziliuzwa', 'dola', '75,600', '.', 'Marekani', 'yamuwekea', 'vikwazo', 'mke', 'wa', 'rais', 'zamani', 'wa', 'Gambia', 'Wizara', 'ya', 'mambo', 'ya', 'nje', 'ya', 'Marekani', 'imetangaza', 'vikwazo', 'vya', 'kiuchumi', 'dhidi', 'ya', 'Zineb', 'Jammeh', ',', 'mke', 'wa', 'rais', 'wa', 'zamani', 'wa', 'Gambia', ',', 'Yahya', 'Jammeh', '.', 'Zineb', 'anaaminiwa', 'kusaidia', 'au', 'kuruhusu', 'shughuli', 'za', 'ufisadi', 'wakati', 'wa', 'utawala', 'wa', 'mume', 'wake', 'wa', 'miaka', '22', 'katika', 'taifa', 'hilo', 'la', 'magharibi', 'mwa', 'Afrika', '.', '``', 'Zineb', 'Jammeh', 'alitumia', 'nafasi', 'yake', 'kusaidia', 'kwa', 'mali', ',', 'kudhamini', ',', 'au', 'kutoa', 'usaidizi', 'kwa', 'mume', 'wake', '.', 'Alitumia', 'wakfu', 'na', 'misaada', 'kama', 'chambo', 'kusaidia', 'usafirishaji', 'haramu', 'wa', 'pesa', 'kwa', 'mume', 'wake', ',', \"''\", 'taarifa', 'ilisema', '.', 'Rais', 'huyo', 'wa', 'wa', 'zamani', 'aliiongoza', 'Gambia', 'kwa', 'miaka', '20', '.', 'Alitoroka', 'nchi', 'baada', 'ya', 'kushindwa', 'katika', 'uchaguzi', 'wa', 'mwaka', '2017', 'na', 'sasa', 'anaishi', 'Equatorial', 'Guinea', '.', 'Tanzania', 'ilikuwa', 'imeziwekea', 'marufuku', 'ndege', 'za', 'Kenya', 'Airways', ',', 'Fly', '540', ',', 'Safarilink', 'na', 'AirKenya', 'express', 'kama', 'hatua', 'ya', 'kujibu', 'hatua', 'ya', 'karantini', 'iliyowekwa', 'awali', 'na', 'Kenya', '.', 'Hata', 'hivyo', 'ndege', 'hizo', 'sasa', 'zitaruhusiwa', 'kufanya', 'safari', 'zake', 'nchini', 'Tanzania', '.', 'Kenya', 'ilisema', 'ilichukua', 'hatua', 'ya', 'kuwaweka', 'baadhi', 'ya', 'wasafiri', 'karantini', 'baada', 'ya', 'kuwasili', 'nchini', 'humo', 'wakiwemo', 'wale', 'wanaotoka', 'nchini', 'Tanzania', ',', 'kama', 'njia', 'mojawapo', 'ya', 'upunguza', 'kusambaa', 'kwa', 'virusi', 'vya', 'corona', '.', 'Hatua', 'zilizochukuliwa', 'na', 'nchi', 'hizi', 'mbili', 'juu', 'zilizouwia', 'usafiri', 'wa', 'anga', 'baina', 'yake', 'zilitia', 'dosari', 'mahusiano', 'yake', 'ya', 'kidiplomasia', '.', 'Polisi', 'nchini', 'Uganda', 'wametibitisha', 'kuwa', 'kichwa', 'cha', 'mtoto', 'kilichokatwa', ',', 'kilichopatikana', 'katika', 'kikapu', 'cha', 'mwanaume', 'aliyekamatwa', 'kwenye', 'lango', 'la', 'bunge', 'nchini', 'Uganda', 'Jumatatu', ',', 'kilikuwa', 'ni', 'sehemu', 'ya', 'mwili', 'uliopatikana', 'katika', 'wilaya', 'ya', 'masaka', ',', 'kusini-', 'magharibi', 'mwa', 'mji', 'mkuu', 'Kampala', '.', 'Idara', 'ya', 'upelelezi', 'wa', 'makosa', 'ya', 'jinai', 'nchini', 'humo', 'anasema', 'wachunguzi', 'watafanya', 'kipimo', 'cha', 'vinasaba', 'DNA', 'kwa', 'wajumbe', 'wa', 'familia', 'moja', 'ya', 'Masaka', 'ambao', 'waliripoti', 'kupotea', 'kwa', 'mtoto', 'wao', ',', 'kubaini', 'iwapo', 'kweli', 'mtoto', 'huyo', 'aliyekatwa', 'kichwa', 'ni', 'wao', '.', 'Familia', 'iliyompoteza', 'mtoto', 'iliviambia', 'vyombo', 'vya', 'habari', 'nchini', 'humo', 'Jumanne', ',', 'kwamba', 'walikuwa', 'wamemuajiri', 'Joseph', 'Nuwashaba', ',', 'mwenye', 'umri', 'wa', 'miaka', '22', ',', 'ambaye', 'alipatikana', 'na', 'kichwacha', 'mtoto', ',', 'kama', 'mfanyakazi', 'wa', 'shamba', 'leo', '.', 'Uchunguzi', 'bado', 'unaendelea', 'kubaini', 'ni', 'yapi', 'yalikuwa', 'malengo', 'ya', 'Bwana', 'Nuwashaba', ',', 'na', 'polisi', 'wamesema', 'watafanya', 'uchunguzi', 'juu', 'wa', 'akili', 'yake', '.', '‘', 'Shujaa', \"'\", 'wa', 'filamu', 'ya', 'Hoteli', 'Rwanda', 'atapewa', 'haki', 'kisheria', ',', 'yasema', 'Rwanda', 'ReutersCopyright', ':', 'Reuters', 'Msemaji', 'wa', 'uendeshaji', 'mashitaka', 'wa', 'umma', 'nchini', 'Rwanda', 'ameihakikishia', 'familia', 'kuwa', '‘', '‘', 'shujaa', '’', '’', 'wa', 'filamu', 'ya', 'Hoteli', 'Rwanda', 'na', 'mpinzani', 'wa', 'nchini', 'hiyo', 'Paul', 'Rusesabagina', 'atapata', 'haki', 'ya', 'kisheria', 'katika', 'kesi', 'dhidi', 'yake', 'inayoendelea', '.', '‘', '’', 'Hata', 'alipokamatwa', 'ilitangazwa', 'wazi', '...', 'alipouguwa', 'alipata', 'huduma', 'ya', 'matibabu', ',', 'alipewa', 'jopo', 'la', 'mawakili', 'tena', 'bure…', 'Kesi', 'itakuwa', 'wazi', 'kwa', 'umma.', '’', '’', 'Amesema', 'msemaji', 'wa', 'ofisi', 'yauendeshaji', 'mashitaka', 'ya', 'umma', 'nchini', 'Rwanda', 'Paul', 'Nkusi', 'katika', 'mahojiano', 'na', 'kipindi', 'cha', 'BBC', 'Newsday', 'Bwana', 'Nkusi', 'amesema', ',', 'la', 'muhimu', 'ni', 'kwamba', 'alikamatwa', 'katika', 'uwanja', 'wa', 'ndege', 'wa', 'Rwanda', 'na', 'sasa', 'yuko', 'mikononi', 'mwa', 'polisi', 'ili', 'aweze', 'kujibu', 'mashitaka', 'yanayomkabili', '.', 'RIBCopyright', ':', 'RIB', 'Bwana', 'Rusesabagina', 'anakabiliwa', 'na', 'mashitaka', 'ya', 'mauaji', 'ya', 'raia', ',', 'kuwajeruhi', 'raia', ',', 'kupora', 'na', 'kuharibu', 'mali', 'za', 'raia', ',', 'kuunda', 'kundi', 'lenye', 'silaha', 'hususan', 'ni', 'FNL', 'ambalo', 'linawatumikisha', 'watoto', 'vitani', ',', 'na', 'kuhusika', 'katika', 'shuguli', 'za', 'ugaidi', ',', 'amesema', 'Bwana', 'Nkusi', '.', '‘', '’', 'Ninaweza', 'kutaja', 'baadhi', 'ya', 'ushahidi', 'aliousema', 'mwenyewe…alisema', 'alituma', 'pesa', 'kwa', 'njia', 'ya', 'Western', 'Union', 'na', 'kukusanya', 'pesa', 'za', 'kuunga', 'mkono', 'kikundi', 'cha', 'FNL', '’', '’', ',', 'Alisema', 'Bwana', 'Nkusi', '.', 'Familia', 'ya', 'Rusesababigina', 'ambaye', 'alipata', 'umaarufu', 'baada', 'ya', 'kucheza', 'filamu', 'ya', 'Hoteli', 'Rwanda', 'juu', 'ya', 'mauaji', 'ya', 'kimbari', 'ya', 'Rwanda', ',', 'inasema', 'kuwa', 'alitekwa', 'nyara', 'alipokuwa', 'safarini', 'Dubai', 'katika', 'Muungano', 'wa', 'nchi', 'za', 'kiarabu', '.', 'Msemaji', 'huyo', 'wa', 'Ofisi', 'ya', 'mwendesha', 'mashitaka', 'ya', 'umma', 'amesema', 'kuwa', 'kwasasa', 'anashikiliwa', 'katika', 'kituo', 'cha', 'polisi', 'cha', 'Remera', 'na', 'mawakili', 'wake', 'wanamtembelea', '.']\n",
      "\n",
      " Number of Words:  772\n"
     ]
    }
   ],
   "source": [
    "file=\"20sep16_2.txt\"\n",
    "\n",
    "# calling the function and storing the contents in a text variable \n",
    "text = get_document(\"https://www.bbc.com/swahili/live/habari-54173988\")\n",
    "\n",
    "# calling the store_ document function \n",
    "store_document(doc=text,name=file)\n",
    "\n",
    "#add the words in this file to the total_corpus_words, to keep count of the number of words in the corpus\n",
    "total_corpus_words+=total_words(file)"
   ]
  },
  {
   "cell_type": "code",
   "execution_count": 80,
   "metadata": {},
   "outputs": [
    {
     "data": {
      "text/plain": [
       "328254"
      ]
     },
     "execution_count": 80,
     "metadata": {},
     "output_type": "execute_result"
    }
   ],
   "source": [
    "total_corpus_words"
   ]
  },
  {
   "cell_type": "code",
   "execution_count": 81,
   "metadata": {},
   "outputs": [
    {
     "name": "stdout",
     "output_type": "stream",
     "text": [
      "['Serikali', 'za', 'kaunti', 'Kenya', 'zaagizwa', 'kuwapeleka', 'wafanyakazi', 'wake', 'likizo', 'Baraza', 'la', 'magavana', 'nchini', 'Kenya', '(', 'CoG', ')', 'limeagiza', 'serikali', 'zote', 'za', 'kaunti', 'kuwapeleka', 'wafanyakazi', 'wao', 'kwa', 'likizo', 'ya', 'wiki', 'mbili', 'mbali', 'na', 'kuahirisha', 'huduma', 'zote', 'zisizo', 'na', 'umuhimu', 'mkubwa', 'kufuatia', 'mkwamo', 'wa', 'fedha', 'za', 'kuendesha', 'serikali', 'hizo', '.', 'Akizungumza', 'na', 'BBC', 'mwenyekiti', 'wa', 'baraza', 'la', 'magavana', 'ambaye', 'pia', 'ni', 'gavanawa', 'kaunti', 'ya', 'Kakamega', 'Wycliff', 'Oparanya', 'amesema', 'kwamba', 'wameamua', 'kusitisha', 'huduma', 'kwasababu', '``', 'hakuna', 'haja', 'ya', 'watu', 'kukaa', 'bure', 'kama', 'hawana', 'kazi', 'ya', 'kufanya', \"''\", '``', 'Tangu', 'tuanze', 'mwaja', 'huu', 'sisi', 'hatujapata', 'pesa', 'zozote', 'kutoka', 'kwa', 'hazina', 'kuu', 'kwenda', 'kwa', 'kaunti', ',', 'sasa', 'huduma', 'yoyote', 'inaweza', 'kuendeshwa', 'bila', 'fedha', \"''\", 'aliongeza', 'kusema', 'bwana', 'Oparanya', 'Aidha', 'Baraza', 'hilo', 'limesema', 'kwamba', 'vifaa', 'vyote', 'vya', 'huduma', 'za', 'afya', 'katika', 'kaunti', 'hizo', 'havitaruhusu', 'wagonjwa', 'wapya', 'kulazwa', 'huku', 'vikitoa', 'huduma', 'chache', 'kwa', 'wagonjwa', 'wanaotibiwa', 'na', 'kwenda', 'nyumbani', '.', 'Awali', 'katika', 'taarifa', 'iliotumwa', 'kwa', 'vyombo', 'vya', 'habari', 'nchini', 'bwana', 'Oparanya', 'alisema', 'kwamba', 'kufuatia', 'mkutano', 'wa', 'baraza', 'hilo', 'uliofanyika', 'tarehe', '8', 'mwezi', 'Septemba', '2020', ',', 'waliamua', 'kwamba', 'wafanyakazi', 'wote', 'walio', 'katika', 'sekta', 'zisizo', 'muhimu', 'za', 'kaunti', 'watalazimika', 'kwenda', 'likizo', '.', 'Taarifa', 'hiyo', 'ilisema', 'kwamba', 'tatizo', 'la', 'fedha', 'kuendesha', 'serikali', 'hizo', 'za', 'kaunti', 'linatokana', 'na', 'mkwamo', 'uliopo', 'katika', 'bunge', 'la', 'seneti', 'kuhusu', 'kiwango', 'cha', 'fedha', 'zinazopaswa', 'kutolewakwa', 'kila', 'kaunti', '.', \"''Haijulikani\", 'ni', 'lini', 'mgogoro', 'huo', 'utatatuliwa', 'hivyobasi', 'tumelazimika', 'kutoka', 'notisi', 'kwa', 'kaunti', 'zote', 'kama', 'ilivyo', \"''\", ',', 'alisema', 'Oparanya', '.', 'Chanzo', 'cha', 'picha', ',', 'TWITTER', 'Serikali', 'za', 'kaunti', 'nchini', 'Kenya', 'zimeendelea', 'kuendeshwa', 'bila', 'fedha', 'zozote', 'kwa', 'miezi', 'kadhaa', 'sasa', 'vaada', 'ya', 'bunge', 'la', 'seneti', 'kufeli', 'kukubaliana', 'kuhusu', 'mbinu', 'itakayotumiwa', 'na', 'serikali', 'ya', 'kugawanya', 'fedha', 'katika', 'kaunti', 'hizo', '.', 'Serikali', 'za', 'kaunti', 'zimesalia', 'bila', 'fedha', 'kwa', 'miezi', 'kadhaa', 'baada', 'ya', 'bunge', 'la', 'seneti', 'kufeli', 'kukubaliana', 'kuhusu', 'mbinu', 'itakayotumika', 'na', 'serikali', 'kugawanya', 'fedha', 'kwa', 'serikali', 'za', 'kaunti', '.', 'Kwa', 'zaidi', 'ya', 'vikao', 'kumi', ',', 'bunge', 'la', 'seneti', 'lilishindwa', 'kupata', 'njia', 'itakayotumika', ',', 'hatua', 'iliopelekea', 'kubuniwa', 'kwa', 'kamati', 'ya', 'watu', '12', 'ambayo', 'pia', 'nayo', 'iilfeli', 'kupata', 'suluhu', 'jinsi', 'dola', 'bilioni', '3.16', 'zitaganywa', 'kwa', 'serikali', 'hizo', 'za', 'kaunti', '.', 'Wafanyakazi', 'katika', 'kaunti', 'wamefanya', 'kazi', 'bila', 'mishahara', 'kwa', 'miezi', 'kadhaa', ',', 'ikiwemo', 'wafanyakazi', 'wa', 'afya', 'wakati', 'muhimu', 'wa', 'mlipuko', 'wa', 'Covid', '19', '.', 'Mjadala', 'katika', 'bunge', 'hilo', 'la', 'seneti', 'nchini', 'Kenya', 'kuhusu', 'ugavi', 'wa', 'fedha', 'hizo', 'miongoni', 'mwa', 'serikali', 'za', 'kaunti', '47', 'una', 'pande', 'mbili', 'ambazo', 'zimeshindwa', 'kuafikiana', '.', 'Pande', 'moja', 'inadai', 'kwamba', 'idadi', 'ya', 'watu', 'inafaa', 'kutumiwa', 'katika', 'ugavi', 'huo', '.', 'Kundi', 'jingine', 'linapendekeza', 'kwamba', 'ukubwa', 'wa', 'ardhi', 'unapaswa', 'kuwa', 'chanzo', 'cha', 'ugavi', 'wa', 'fedha', 'hizo', '.', 'Mbinu', 'inayoyependekezwa', 'na', 'Tume', 'ya', 'ugavi', 'wa', 'mapato', 'CRA', 'inatokana', 'na', 'idadi', 'ya', 'watu', '.', 'Kiongozi', 'wa', 'chama', 'cha', 'ODM', 'Raila', 'Odinga', 'akiunga', 'mkono', 'mpango', 'huo', ',', 'amehoji', 'kwamba', 'idadi', 'ya', 'watu', 'ina', 'athari', 'kwa', 'huduma', 'kama', 'vile', 'Afya', ',', 'elimu', 'na', 'miundo', 'msingi', '.', 'Pande', 'hizo', 'mbili', 'zinasema', 'kwamba', 'mbinu', 'ya', 'kutumia', 'idadi', 'ya', 'watu', 'inazibagua', 'kaunti', 'za', 'walio', 'wachache', 'ambazo', 'zinaishi', 'wafugaji', '.', 'Zinasema', 'kwamba', 'ubaguzi', 'huo', 'sio', 'ajali', 'bali', 'kitengo', 'cha', 'maendeleo', 'ambacho', 'kinapigania', 'maendeleo', 'ya', 'haraka', 'katika', 'maeneo', 'tofauti', 'ambayo', 'yanaonekana', 'kuwa', 'na', 'maendeleo', 'makubwa', 'ya', 'kiuchumi', 'ikilinganishwa', 'na', 'maeneo', 'mengine', '.', 'Maono', 'yote', 'mawili', 'ni', 'muhimu', 'na', 'hiyo', 'ndio', 'sababu', 'Raila', 'Odinga', ',', 'huku', 'akiunga', 'mkono', 'sera', 'ya', 'idadi', 'ya', 'watu', 'pia', 'anasema', 'kwamba', 'hoja', 'zinazotolewa', 'na', 'wanachama', 'wa', 'jamii', 'za', 'wafugaji', 'zinafaa', 'kutiliwa', 'maanani', 'katika', 'ugavi', 'wa', 'mapato', 'katika', 'siku', 'zijazo', '.', 'Kwa', 'sasa', 'ili', 'kuzuia', 'kusamabaratisha', 'serikali', 'za', 'kaunti', ',', 'kunapaswa', 'kuwa', 'na', 'muafaka', '.']\n",
      "\n",
      " Number of Words:  566\n"
     ]
    }
   ],
   "source": [
    "file=\"20sep16_3.txt\"\n",
    "\n",
    "# calling the function and storing the contents in a text variable \n",
    "text = get_document(\"https://www.bbc.com/swahili/habari-54180259\")\n",
    "\n",
    "# calling the store_ document function \n",
    "store_document(doc=text,name=file)\n",
    "\n",
    "#add the words in this file to the total_corpus_words, to keep count of the number of words in the corpus\n",
    "total_corpus_words+=total_words(file)"
   ]
  },
  {
   "cell_type": "code",
   "execution_count": 82,
   "metadata": {},
   "outputs": [
    {
     "data": {
      "text/plain": [
       "328820"
      ]
     },
     "execution_count": 82,
     "metadata": {},
     "output_type": "execute_result"
    }
   ],
   "source": [
    "total_corpus_words"
   ]
  },
  {
   "cell_type": "code",
   "execution_count": 83,
   "metadata": {},
   "outputs": [
    {
     "name": "stdout",
     "output_type": "stream",
     "text": [
      "['Maya', 'Moore', 'aolewa', 'na', 'mwanaume', 'aliyemsaidia', 'kutoka', 'gerezani', 'Irons', 'na', 'Moore', ',', 'katika', 'picha', 'waliyopiga', 'baada', 'ya', 'kuachiliwa', 'huru', 'kutoka', 'gerezani', 'mwezi', 'Julai', 'mwaka', 'huuImage', 'caption', ':', 'Irons', 'na', 'Moore', ',', 'katika', 'picha', 'waliyopiga', 'baada', 'ya', 'kuachiliwa', 'huru', 'kutoka', 'gerezani', 'mwezi', 'Julai', 'mwaka', 'huu', 'Mchezaji', 'nyota', 'wa', 'mpira', 'wa', 'kikapu', 'nchini', 'Marekani', 'Maya', 'Moore', 'ameolewa', 'na', 'Jonathan', 'Irons', 'manaume', 'aliyemsaidia', 'kumuondoajela', 'baada', 'ya', 'kufungwa', 'miaka', 'bila', 'hatia', '.', 'Irons', 'aliachiliwa', 'huru', 'tarehe', '23', 'Julai', 'baada', 'ya', 'kufungwagerezani', 'kwa', 'miaka', '23', ',', 'na', 'baadaye', 'kubainika', 'kuwa', 'hakutekeleza', 'makossa', 'ya', 'wizi', 'na', 'ghasia', ',', 'na', 'hivyo', 'hukumu', 'yake', 'kufutwa', 'mwezi', 'Machi', '.', 'Moore', 'alikuwa', 'amesitishakucheza', 'katika', 'WNBA', 'mwaka', '2019', 'ili', 'aweze', 'kuhakikisha', 'anaachiliwa', 'huru', '.', '``', 'Tulioana', 'miezi', 'kadhaa', 'iliyopita', 'na', 'tunafurahia', 'kuendelea', 'na', 'ukurasa', 'huu', 'mpya', 'wa', 'maisha', 'pamoja', ',', \"''\", 'Moore', 'mwenye', 'umri', 'wa', 'miaka', '31', ',', 'alikiambia', 'kipindi', 'cha', 'Good', 'Morning', 'America', '.', 'Moore', 'alichaguliwa', 'awali', 'katika', 'awamu', 'ya', 'kwanza', 'ya', 'mchezo', 'kuchezea', 'timu', 'yaMinnesota', 'Lynx', 'mnamo', 'mwaka', '2011', ',', 'akawasaidia', 'kushinda', 'vikombe', 'vinne', 'vya', 'Championi', 'na', 'kutangazwa', 'kama', 'mchezaji', 'bora', 'zaidi', 'au', 'MVP', 'mwaka', '2014', '.', 'Mchezaji', 'huyo', ',', 'ambaye', 'ni', 'mmoja', 'wa', 'wachezaji', 'bora', 'zaidi', 'katika', 'historia', 'ya', 'WNBA', 'pia', 'ana', 'medali', 'ya', 'dhahabu', 'za', 'Olympiki', 'na', 'medali', 'mbili', 'za', 'Shindano', 'la', 'dunia', '.', 'Rais', 'wa', 'Afrika', 'Kusini', 'aomba', 'wimbo', 'wa', 'Jerusalema', 'uchezwe', 'katika', 'sikukuu', 'Rais', 'wa', 'Afrika', 'Kusini', 'Cyril', 'Ramaphosa', 'amewaombaraia', 'wa', 'nchi', 'yake', 'kusherehekea', 'siku', 'ya', 'Urithi', 'yam', 'waka', 'huu', '-Heritage', 'Day', 'kwa', 'kufanya', 'shindano', 'ladensi', 'ya', 'wimbo', 'wa', 'Jerusalema', '.', 'Jerusalema', 'ni', 'wimbo', 'wa', 'mwanamuziki', 'wa', 'Afrika', 'Ksuinina', 'mzalishaji', 'KG', 'ambao', 'umevuma', 'na', 'kusambaa', 'kote', 'duniani', '.', 'Wimbo', 'huo', 'ulinadi', 'densi', 'ya', 'aina', 'yake', 'inayochezwa', 'na', 'makundi', 'ya', 'watu', 'kote', 'dunianiambayo', 'inasambaa', 'kwa', 'kasi', 'katika', 'mitandao', 'ya', 'kijamii', '.', 'Heritage', 'Day', 'ni', 'sikukuu', 'inayosherehekewa', 'kila', 'mwaka', 'tarehe', '24', 'Septemba', 'kwa', 'ajili', 'ya', 'maadhimisho', 'ya', 'utamaduni', 'na', 'utofauti', 'wa', 'watu', 'wa', 'nchi', 'hiyo', '.', '``', 'Hapawezi', 'kuwa', 'na', 'njia', 'nyingine', 'nzuri', 'ya', 'kusherehekea', 'utaifa', 'wetu', 'kuliko', 'kujiunga', 'na', 'jambo', 'ambalo', 'linasambaakote', 'duniani', 'ambalo', 'nidensi', 'ya', 'Jerusalema', 'challenge', ',', \"''\", 'Bwana', 'Ramaphosa', 'alisema', 'katika', 'hotuba', 'yake', 'ya', 'televisheni', '.', '``', 'Kwahiyo', ',', 'ninawaomba', 'nyote', 'kushiriki', 'hili', 'katika', 'shindano', 'la', 'Siku', 'ya', 'urithi-', 'Heritage', 'Day', 'na', 'muoneshe', 'dunia', 'kile', 'tunachoweza', 'kukifanya', '.', \"''\", 'Jimbo', 'la', 'Kaduna', 'laidhinisha', 'sheria', 'ya', 'kuwahasi', 'wabakaji', 'watoto', 'Kumekuwa', 'na', 'malalamiko', 'makubwa', 'juu', 'ya', 'ubakaji', 'kote', 'nchini', 'Nigeria', 'katika', 'miezi', 'ya', 'hivi', 'karibuniImage', 'caption', ':', 'Kumekuwa', 'na', 'malalamiko', 'makubwa', 'juu', 'ya', 'ubakaji', 'kote', 'nchini', 'Nigeria', 'katika', 'miezi', 'ya', 'hivi', 'karibuni', 'Gavana', 'wa', 'jimbo', 'la', 'kaskazini', 'magharibi', 'mwa', 'Nigeria', 'la', 'Kaduna', ',', 'Nasir', 'Ahmad', 'el-Rufai', ',', 'amesaini', 'sheria', 'inayotoa', 'adhabu', 'kali', 'kwa', 'wanaopatikana', 'na', 'hatia', 'ya', 'ubakaji', 'wa', 'watoto', '.', 'Kulingana', 'na', 'sheria', 'hiyo', 'wanaopatikana', 'na', 'hatia', 'ya', 'ubakaji', 'wa', 'watoto', 'walio', 'chini', 'ya', 'umri', 'wa', 'miaka', '14', 'watapewa', 'hukumu', 'ya', 'kufanyiwa', 'upasuaji', 'wa', 'kuwahasi', 'na', 'kifo', 'Pale', 'ambapo', 'muathiriwa', 'atakuwa', 'na', 'umri', 'wa', 'zaidi', 'ya', 'miaka', '14', ',', 'sharia', 'inasema', 'muhalifu', 'atahukumiwakuhasiwa', 'na', 'kifungo', 'cha', 'maisha', '.', 'Wahalifu', 'wa', 'kike', 'watu', 'wazima', 'watakaopatikana', 'na', 'hatia', 'ya', 'kuwabaka', 'watoto', 'watahukumiwa', 'kuondolewa', 'mishipa', 'ya', 'uzazi', '(', 'fallopian', 'tubes', ')', 'na', 'kifo', '.', 'Katika', 'kesi', 'za', 'ubakaji', 'ambapomuathiriwa', 'ana', 'umri', 'wa', 'miaka', '14', ',', 'ripoti', 'ya', 'kimatibabu', 'itakuwa', 'muhimu', 'katika', 'kuthibitisha', 'madai', '.', 'Wabakaji', 'wa', 'watoto', 'pia', 'wataorodheshwa', 'katika', 'kumbukumbu', 'ya', 'watu', 'wenye', 'makossa', 'ya', 'ngono', 'itakayochapishwa', 'katika', 'vyombo', 'vya', 'habari', '.', 'Gavana', 'wa', 'Kaduna', 'alithibitisha', 'kuwa', 'amesaini', 'sheria', 'hiyo', 'katika', 'tweet', 'aliyoituma', 'Jumatano', 'jioni', '.', 'Wabunge', 'wa', 'jimbo', 'hilo', 'waliidhinisha', 'muswada', 'wa', 'sharia', 'hiyo', 'wiki', 'iliyopita', '.', 'Kaduna', 'ni', 'jimbo', 'pekee', 'nchini', 'Nigeria', 'lenye', 'kipengele', 'cha', 'aina', 'hiyo', 'katika', 'sharia', 'yake', 'ya', 'ubakaji', '.', 'Kumekuwa', 'na', 'malalamiko', 'makubwa', 'ya', 'umma', 'dhidi', 'ya', 'ubakajikote', 'nchini', 'Nigeria', 'katika', 'miezi', 'ya', 'hivi', 'karibuni', '.', 'Licha', 'ya', 'kwamba', 'watu', 'kadhaa', 'wamekuwa', 'wakikamatwa', ',', 'inaaminiwa', 'kuwa', 'idadi', 'ya', 'wanaopatikana', 'na', 'hatia', 'ni', 'ya', 'chini', '.']\n",
      "\n",
      " Number of Words:  625\n"
     ]
    }
   ],
   "source": [
    "file=\"20sep17.txt\"\n",
    "\n",
    "# calling the function and storing the contents in a text variable \n",
    "text = get_document(\"https://www.bbc.com/swahili/live/habari-54187971\")\n",
    "\n",
    "# calling the store_ document function \n",
    "store_document(doc=text,name=file)\n",
    "\n",
    "#add the words in this file to the total_corpus_words, to keep count of the number of words in the corpus\n",
    "total_corpus_words+=total_words(file)"
   ]
  },
  {
   "cell_type": "code",
   "execution_count": 84,
   "metadata": {},
   "outputs": [
    {
     "data": {
      "text/plain": [
       "329445"
      ]
     },
     "execution_count": 84,
     "metadata": {},
     "output_type": "execute_result"
    }
   ],
   "source": [
    "total_corpus_words"
   ]
  },
  {
   "cell_type": "code",
   "execution_count": 85,
   "metadata": {},
   "outputs": [
    {
     "name": "stdout",
     "output_type": "stream",
     "text": [
      "['Misri', 'yaondolewa', 'matumaini', 'ya', 'urais', 'wa', 'Shirika', 'la', 'biashara', 'duniani', 'Amina', 'Mohamed', 'wa', 'Kenya', 'na', 'Ngozi', 'Okonjo-Iweala', 'wa', 'Nigeria', 'ni', 'miongoni', 'mwa', 'wagombeaImage', 'caption', ':', 'Amina', 'Mohamed', 'wa', 'Kenya', 'na', 'Ngozi', 'Okonjo-Iweala', 'wa', 'Nigeria', 'ni', 'miongoni', 'mwa', 'wagombea', 'Raia', 'wa', 'Misri', 'Abdel-Hamed', 'Mamdouh', 'ameshindwa', 'katika', 'azma', 'yake', 'ya', 'kugombea', 'urais', 'wa', 'Shirika', 'la', 'biashara', 'dunaini', '(', 'WTO', ')', ',', 'na', 'wagombea', 'wa', 'Mexico', 'na', 'Moldova', 'wameondolewa', 'katika', 'kinyang', '’', 'anyiro', 'hicho', '.', 'Wagombea', 'wengine', 'wa', 'Afrika', 'ni', 'Ngozi', 'Okonjo-Iweala', 'wa', 'Nigeria', 'na', 'Amina', 'Mohamed', 'wa', 'Kenya', '.', 'Watashindana', 'katika', 'awamu', 'ya', 'pili', 'ya', 'mchuano', 'huo', 'wenye', 'wagombea', 'wengine', 'kutoka', 'Korea', 'Kusini', ',', 'Uingereza', 'na', 'Saudi', 'Arabia', '.', 'Rais', 'mpya', 'anatarajiwa', 'kuchukua', 'wadhifa', 'huo', 'mwezi', 'wa', 'Novemba', '.', 'Shirika', 'The', 'WTO', 'hupanga', 'sheria', 'za', 'biashara', 'na', 'kutatua', 'mizozo', 'ya', 'kibiashara', 'baina', 'ya', 'nchi', '.', 'Na', 'kama', 'inavyoonesha', 'katika', 'blogi', 'yake', ',', 'kazi', 'yake', 'ni', 'pamoja', 'na', '``', 'Kufungua', 'milango', 'kwa', 'mipango', 'mipya', 'kwa', 'kila', 'mtu', 'mmoja', \"''\", '.', 'Msafiri', 'huyo', 'aliyekuwa', 'amevaa', 'barakoa', 'yake', 'ya', 'nyoka', 'alikuwa', 'amejizungushia', 'katika', 'shingo', 'na', 'mdomoni', ',', 'alionekana', 'katika', 'basi', 'lililokuwa', 'linatokea', 'Swinton', 'kuelekea', 'mji', 'wa', 'Manchester', 'nchini', 'Uingereza', 'siku', 'ya', 'Jumatatu', '.', 'Mkuu', 'wa', 'usafirishaji', 'wa', 'Manchester', 'amethibitisha', 'kuwa', 'alikuwa', 'ni', 'nyoka', 'na', 'sio', 'barakoa', 'halisi', '.', 'PA', 'MediaCopyright', ':', 'PA', 'Media', 'Shuhuda', 'wa', 'tukio', 'hilo', ',', 'ambaye', 'alitaka', 'kutofahamika', 'alisema', ',', 'ameona', 'kuwa', 'tukio', 'hilo', 'lilikuwa', 'la', 'kuchekesha', 'na', 'kustaajabisha', ',', 'Aliongeza', 'kusema', 'kuwa', 'nyoka', 'huyo', 'hakuwasumbua', 'abiria', 'wenzake', '.', 'Msemaji', 'wa', 'usafiri', 'wa', 'Manchester', 'alisema', ':', '``', 'Muongozo', 'uliotolewa', 'na', 'serikali', 'umesema', 'wazi', 'kabisa', 'kuwa', 'barakoa', 'zinazoruhusiwa', 'sio', 'lazima', 'zile', 'za', 'upasuaji', 'bali', 'abiria', 'anaweza', 'kutengeneza', 'barakoa', 'yake', 'anayoridhika', 'nayo', 'na', 'kuivaa', 'akiwa', 'huru', '.', '``', 'Ingawa', 'kuna', 'kiwango', 'kidogo', 'tu', 'tafsiri', 'kamba', 'inaweza', 'kumaanisha', 'hili', ',', 'hatuamini', 'maagizo', 'hayo', 'yalifikia', 'kiwango', 'cha', 'mpaka', 'kuruhusu', 'ngozi', 'ya', 'nyoka-hususan', 'wakati', 'imeambatana', 'na', 'nyoka', '.', \"''\", 'Serikali', 'ya', 'Kenya', 'yafunga', 'hoteli', 'iliyokwamisha', 'kuhama', 'kwa', 'wanyama', 'Tukio', 'la', 'kuhama', 'kwa', 'wanyama', 'kati', 'ya', 'mbuga', 'za', 'wanyama', 'za', 'Kenya', 'na', 'Tanzania', 'ni', 'maarufu', 'sanaImage', 'caption', ':', 'Tukio', 'la', 'kuhama', 'kwa', 'wanyama', 'kati', 'ya', 'mbuga', 'za', 'wanyama', 'za', 'Kenya', 'na', 'Tanzania', 'ni', 'maarufu', 'sana', 'Nchini', 'Kenya', 'maafisa', 'wameifunga', 'hoteli', 'ya', 'kifahari', 'iliyojengwa', 'katika', 'mbuga', 'ya', 'wanyama', ',', 'ambayo', 'ilionekana', 'kufunga', 'mapito', 'ya', 'wanyama', 'wanaohama', 'katika', 'hifadhi', 'ya', 'wanyama', 'maarufu', 'ya', 'Maasai', 'Mara', 'Game', 'wiki', 'iliyopita', '.', 'Tukio', 'la', 'kuhama', 'kwa', 'wanyama', 'wa', 'mbugani', 'kati', 'ya', 'mbuga', 'za', 'wanyama', 'za', 'Maasai', 'mara', 'nchini', 'Kenya', 'na', 'Serengeti', 'nchini', 'Tanzania', 'ambalo', 'hutokea', 'kila', 'mwaka', 'katika', 'eneo', 'hilo', 'ni', 'maarufu', 'sana', 'na', 'watalii', 'wengi', 'huenda', 'kulishuhudia', 'kila', 'mwaka', '.', 'Wiki', 'iliyopita', 'video', 'ilionesha', 'wanyama', 'wakiwa', 'wamekwama', 'katika', 'mto', ',', 'huku', 'hoteli', 'hiyo', 'ikiwa', 'imefunga', 'njia', 'yao', ',', 'na', 'wafanyakazi', 'wa', 'hoteli', 'wakiwafukuza', 'wanyama', ',', 'iliibua', 'hasira', 'miongoni', 'mwa', 'Wakenya', 'hususan', 'mitandaoni', 'wakiitaka', 'serikali', 'kuchukua', 'hatua', 'na', 'sasa', 'waziri', 'wa', 'utalii', 'ameagiza', 'ifungwe', '.', 'Wanyama', 'hao', 'huhama', 'kila', 'mwaka', 'kwa', 'ajili', 'ya', 'kutafuta', 'malisho', 'na', 'kuzaliana', '.', 'Wasanii', 'Susho', 'na', 'Kenzo', 'waelezea', 'changamoto', 'za', 'mahusiano', 'na', 'ndoa', 'zao', 'Ni', 'watu', 'tunaowaona', 'na', 'kujivunia', '.', 'Ni', 'waimbaji', ',', 'waigizaji', 'ama', 'hata', 'wanahabari', 'maarufu', '.', 'Lakini', 'licha', 'ya', 'umaarufu', 'huo', ',', 'wengi', 'wao', 'wanakabiliwa', 'na', 'changamoto', 'kubwa', ';', 'kudumisha', 'mahusiano', 'yao', ',', 'ama', 'kuwa', 'na', 'ndoa', 'za', 'kudumu', '.', 'Utafiti', 'uliofanywa', 'na', 'jarida', 'la', 'Huffpost', 'unaonesha', 'kuwa', 'takribani', 'asilimia', '52', 'ya', 'ndoa', 'za', 'waigizaji', 'maarufu', 'wa', 'Hollywood', 'huishia', 'kwa', 'talaka', 'na', 'kwa', 'wanawake', 'hali', 'ni', 'mbaya', 'hata', 'zaidi', ',', 'kwani', 'karibu', 'asilimia', '62', 'ya', 'waigizaji', 'wanawake', 'wa', 'Hollywood', 'wamepewa', 'talaka', '.', 'Sababu', 'kadha', 'wa', 'kadha', 'zimetolewa', 'kujaribu', 'kueleza', 'ni', 'kwa', 'nini', 'ndoa', 'za', 'watu', 'maarufu', 'ama', 'mahusiano', 'ya', 'wapenzi', 'miongoni', 'mwa', 'watu', 'mashuhuri', 'huishia', 'kwa', 'majonzi', '.', 'Hii', 'imewaacha', 'wengi', 'na', 'majonzi', '.', 'Huku', 'jamii', 'inayotazama', 'ikijiuliza', 'maswali', 'mengi', ',', 'pasi', 'na', 'kuwa', 'na', 'majibu', '.', 'Ni', 'kwa', 'nini', 'watu', 'ambao', 'walionekana', 'kupendana', 'sana', 'na', 'kuwa', 'na', 'matumaini', 'ya', 'siku', 'za', 'usoni', 'wakosane', 'na', 'kuachana', '?', 'Ni', 'kwa', 'nini', 'mara', 'nyingi', 'mahusiano', 'ya', 'watu', 'mashuhuri', 'yanasambaratika', '?', 'Je', ',', 'ni', 'kweli', 'kwamba', 'haiwezekani', 'kuwa', 'na', 'umaarufu', 'na', 'bado', 'ufaulu', 'kuwa', 'na', 'ndoa', 'yenye', 'furaha', '?', 'Hayo', 'ndio', 'maswali', 'yetu', 'ya', 'leo', '...', 'BBCCopyright', ':', 'BBC', 'Ili', 'kupata', 'jibu', 'la', 'maswali', 'hayo', ',', 'ungana', 'nae', 'Roncliffe', 'Odit', 'na', 'Hamida', 'Aboubakar', 'katika', 'ukurasa', 'wa', 'Facebook', 'wa', 'BBC', 'Swahili', 'inapotimu', 'saa', 'tano', 'na', 'nusu', 'asubuhi', '.', 'Watakuwa', 'pamoja', 'na', 'Christina', 'Shusho', 'ambaye', 'ni', 'muimbaji', 'wa', 'nyimbo', 'za', 'injili', 'kutoka', 'Tanzania', ',', 'pamoja', 'na', 'familia', 'ya', 'Navy', 'Kenzo', ',', 'ambao', 'ni', 'Nahreel', 'na', 'mke', 'wake', 'Aika', ',', 'wote', 'ni', 'wanamziki', 'kutoka', 'Tanzania', '.', 'Maseneta', 'wamaliza', 'mzozo', 'juu', 'ya', 'mgawanyo', 'wa', 'mapato', 'Kenya', 'Maseneta', 'nchini', 'Kenya', 'wamefikia', 'mkataba', 'ambao', 'umetatua', 'mzozo', 'wa', 'muda', 'mrefu', 'juu', 'ya', 'mpango', 'wa', 'kugawanya', 'fedha', 'zilizotengewa', 'kaunti', '47', 'za', 'nchi', 'hiyo', '.', 'Mkataba', 'huo', 'umefikiwa', 'siku', 'moja', 'baada', 'ya', 'magavana', 'wa', 'kaunti', 'kukubaliana', 'kusitisha', 'huduma', 'zote', 'isipokuwa', 'za', 'lazima', 'baada', 'ya', 'kukwama', 'kufikia', 'maafikiano', 'kuhusu', 'mgawanyo', 'huo', 'jambo', 'lililochelewesha', 'kutolewa', 'kwa', 'fedha', 'za', 'mishahara', 'ya', 'kuwalipa', 'wafanyakazi', 'katika', 'kaunti', 'zote', 'nchini', 'humo', '.', 'Rais', 'Uhuru', 'Kenyatta', 'alilazimika', 'kuingilia', 'kati', 'jumanne', 'na', 'kuahidi', 'kwamba', 'waziri', 'wa', 'fedha', 'ataongeza', 'kiwango', 'cha', 'fedha', 'kilichotengwa', 'kwa', 'ajili', 'ya', 'kaunti', 'kutoka', 'kiwango', 'cha', 'sasa', 'cha', 'dola', 'bilioni', '2.9', 'hadi', 'takriban', 'dola', 'bilioni', '3.4', 'katika', 'mwaka', 'ujao', 'wa', 'fedha', '.', 'Mpango', 'huo', 'iliidhinishwa', 'na', 'seneti', 'Alhamisi', 'mchana', ',', 'na', 'hivyo', 'kumaliza', 'miezi', 'kadhaa', 'ya', 'mkwamo', 'wa', 'shughuli', 'za', 'kaunti', ',', 'seneti', 'na', 'serikali', 'ya', 'kitaifa', 'ambayo', 'ilikataa', 'kutoa', 'fedha', 'kwa', 'kaunti', 'hadi', 'mpango', 'utakapoidhinishwa', '.', 'Makampuni', 'ya', 'Somalia', \"'yalitumiwa\", 'kuwalipa', 'wauzaji', 'wa', 'silaha', '’', 'Ripoti', 'kuhusu', 'mifumo', 'maarufu', 'ya', 'usafirishaji', 'wa', 'fedha', 'imebaini', 'kuwa', 'dola', 'milioni', '3.5', 'taslimu', 'zimekuwa', 'zikisafirishwa', 'kati', 'ya', 'watu', 'wanaoshukiwa', 'kuwa', 'wauzaji', 'wa', 'silaha', 'katika', 'miaka', 'ya', 'hivi', 'karibuni', '.', 'Ripoti', 'hiyo', 'ya', 'shirika', 'la', 'kimataifa', 'la', 'mapambano', 'dhidi', 'ya', 'usafirishaji', 'wa', 'pesa', 'za', 'ugaidi', '-', 'The', 'Global', 'Initiative', 'Against', 'Transnational', 'Organized', 'Crime', ',', 'inadai', 'kwamba', 'msambazaji', 'maarufu', 'wa', 'silaha', 'wa', 'Yemen', 'aliweza', 'kupokea', 'maelfu', 'ya', 'dola', 'kwa', 'njia', 'ya', 'malipo', 'au', 'zawadi', ',', 'licha', 'ya', 'kuwekewa', 'vikwazo', 'na', 'Marekani', '.', 'Ufichuzi', 'wa', 'ripoti', 'hiyo', 'unaweza', 'kuzuia', 'zaidi', 'majaribio', 'ya', 'makampuni', 'ya', 'usafirishaji', 'wa', 'fedha', 'ya', 'Kisomali', 'kufanya', 'kazi', 'na', 'benki', 'za', 'kimataifa', 'ambazo', 'zina', 'hofu', 'ya', 'kuvunja', 'sheria', 'za', 'usafirishaji', 'wa', 'fedha', '.', 'Yakijibu', 'ripoti', 'hiyo', ',', 'makampuni', 'ya', 'Kisomali', 'yameliambia', 'shirika', 'la', 'habari', 'la', 'Reuters', 'kwamba', 'walifanya', 'kila', 'wawezavyo', 'kutekeleza', 'sheria', 'za', 'kimataifa', 'za', 'udhibiti', '.']\n",
      "\n",
      " Number of Words:  1032\n"
     ]
    }
   ],
   "source": [
    "file=\"20sep18.txt\"\n",
    "\n",
    "# calling the function and storing the contents in a text variable \n",
    "text = get_document(\"https://www.bbc.com/swahili/live/habari-54202151\")\n",
    "\n",
    "# calling the store_ document function \n",
    "store_document(doc=text,name=file)\n",
    "\n",
    "#add the words in this file to the total_corpus_words, to keep count of the number of words in the corpus\n",
    "total_corpus_words+=total_words(file)"
   ]
  },
  {
   "cell_type": "code",
   "execution_count": 86,
   "metadata": {},
   "outputs": [
    {
     "data": {
      "text/plain": [
       "330477"
      ]
     },
     "execution_count": 86,
     "metadata": {},
     "output_type": "execute_result"
    }
   ],
   "source": [
    "total_corpus_words"
   ]
  },
  {
   "cell_type": "code",
   "execution_count": 87,
   "metadata": {},
   "outputs": [
    {
     "name": "stdout",
     "output_type": "stream",
     "text": [
      "['Kwanini', 'hali', 'katika', 'chama', 'tawala', 'cha', 'Jubilee', 'nchini', 'Kenya', \"'haieleweki\", \"'\", '?', 'Hezron', 'Mogambi', 'Mhadhiri', ',', 'Chuo', 'Kikuu', 'cha', 'Nairobi', '20', 'Septemba', '2020', 'Chanzo', 'cha', 'picha', ',', 'AFP', 'Maelezo', 'ya', 'picha', ',', 'Uhusiano', 'kati', 'ya', 'Rais', 'Uhuru', 'na', 'naibu', 'wake', 'Uhuru', 'Ruto', 'ndani', 'ya', 'chama', 'tawala', 'cha', 'Jubilee', 'umekuwa', 'ukidorora', 'Baada', 'ya', 'kuchaguliwa', 'tena', 'kuongoza', 'kwa', 'miaka', 'mitano', ',', 'jambo', 'ambalo', 'lilitokea', 'baada', 'ya', 'kufutiliwa', 'mbali', 'kwa', 'uchaguzi', 'wao', 'na', 'mahakama', ',', 'Rais', 'Uhuru', 'Kenyatta', 'na', 'naibu', 'wake', 'William', 'Ruto', 'wamekuwa', 'wakivuta', 'kuelekea', 'pande', 'mbili', 'tofauti', '.', 'Kutengana', 'kwao', 'kulianza', 'kuonekana', 'baada', 'ya', 'mwezi', 'wa', 'Machi', ',', '2018', ',', '(', 'Rais', 'Kenyatta', 'alianza', 'kuwa', 'na', 'uhusiano', 'na', 'kiongozi', 'wa', 'upinzani', 'nchini', 'Kenya', ',', 'Raila', 'Odinga', ')', 'na', 'baada', 'ya', 'hapo', ',', 'kumekuwepo', 'na', 'shutuma', 'kutoka', 'pande', 'mbili', 'husika', '.', 'Rais', 'Kenyatta', 'alimshutumu', 'naibu', 'wake', 'kwa', 'kushiriki', 'katika', 'kampeini', 'za', 'kisiasa', 'za', 'kumrithi', 'mapema', 'mno', 'badala', 'ya', 'kulenga', 'miradi', 'waliyokuwa', 'wameahidi', 'Wakenya', '.', 'Kwa', 'upande', 'mwingine', ',', 'naibu', 'Rais', 'William', 'Ruto', 'anaiona', 'hatua', 'hii', 'kama', 'njama', 'ya', 'kumkata', 'mikono', 'katika', 'kumrithi', 'rais', 'Uhuru', 'na', 'kwenda', 'kinyume', 'cha', 'makubaliano', 'yao', 'ya', 'mwaka', 'wa', '2013', 'ambayo', 'yalifanywa', 'wakati', 'wawili', 'hao', 'walikuwa', 'wameshtakiwa', 'kwa', 'makosa', 'ya', 'jinai', 'katika', 'mahakama', 'ya', 'kimataifa', '(', 'ICC', ')', '.', 'Katika', 'chama', 'cha', 'Jubilee', ',', 'uhusiano', 'kati', 'ya', 'Rais', 'Uhuru', 'na', 'naibu', 'wake', 'umekuwa', 'unadorora', '.', 'Chama', 'cha', 'Jubilee', 'ambacho', 'kiliundwa', 'mnamo', 'Septemba', '2016', 'ili', 'kuunda', 'muungano', 'kati', 'ya', 'Uhuru', 'Kenyatta', 'na', 'Ruto', 'sasa', 'unadhibitiwa', 'na', 'Rais', 'Kenyatta', 'huku', 'viongozi', 'wake', 'wengine', 'wakuu', ',', 'akiwemo', 'Bw', '.', 'Ruto', 'wakiwa', 'wameonekana', 'kutengwa', '.', 'Chanzo', 'cha', 'picha', ',', 'BBC', 'Sport', 'Maelezo', 'ya', 'picha', ',', 'Uhusiano', 'wa', 'karibu', 'wa', 'Rais', 'Kenyatta', '(', 'kushoto', ')', 'na', 'Raila', 'Odinga', 'unadaiwa', 'kuwa', 'chanzo', 'cha', 'kutengwa', 'kwa', 'William', 'Ruto', 'Hali', 'hii', 'inatokana', 'na', 'siasa', 'za', 'ndani', 'kwa', 'ndani', 'kwenye', 'chama', 'hicho', 'tawala', 'kuhusiana', 'na', 'suala', 'la', 'vita', 'dhidi', 'ya', 'ufisadi', ',', 'huku', 'Rais', 'Kenyatta', 'akikumbwa', 'na', 'mgawanyiko', 'katika', 'siasa', 'za', 'Mlima', 'Kenya', ',', 'anakotoka', 'Rais', 'Kenyatta', '.', 'Wafuasi', 'wa', 'Rais', 'Kenyatta', 'wamegawanyika', ';', 'wengine', 'wakimuunga', 'mkono', 'Bw', '.', 'Ruto', 'huku', 'wengine', 'wakimuunga', 'mkono', 'Rais', 'Kenyatta', '.', 'Haya', 'yakiendelea', ',', 'wanachama', 'wa', 'chama', 'cha', 'upinzani', 'Orange', 'Democratic', 'Movement', '(', 'ODM', ')', 'wamekuwa', 'wakimtetea', 'Rais', 'Kenyatta', 'kutokana', 'na', 'shutuma', 'za', 'wanajubilee', '.', 'Kwa', 'njia', 'hii', ',', 'Raila', 'Odinga', 'amekuwa', 'mtetezi', 'wa', 'Rais', 'Kenyatta', 'huku', 'Ruto', 'akionekana', 'kuongoza', 'upinzani', 'ndani', 'ya', 'chama', 'tawala', 'cha', 'Jubilee', '.', 'Kwa', 'upande', 'wake', ',', 'Rais', 'Kenyatta', 'ameunda', 'muungano', 'mpya', 'akitumia', 'wapinzani', 'wa', 'kisiasa', 'wa', 'Ruto', 'akimleta', 'karibu', 'kiongozi', 'wa', 'upinzani', 'Raila', 'Odinga', 'wa', 'chama', 'cha', 'Orange', 'Democratic', 'Movement', '(', 'ODM', ')', ',', 'kinara', 'wa', 'Wiper', 'Democratic', 'Movement', '(', 'WDM', ')', 'Kalonzo', 'Musyoka', ',', 'Gideon', 'Moi', 'wa', 'Kanu', 'na', 'Isaac', 'Ruto', 'wa', 'Chama', 'Cha', 'Mashinani', '.', 'Ushirikiano', 'huu', 'na', 'vyama', 'vingine', 'umesababisha', 'fujo', 'katika', 'vyama', 'vya', 'upinzani', 'nchini', 'Kenya', 'huku', 'vyama', 'vingine', 'vikijaribu', 'kusimama', 'imara', 'hasa', 'katika', 'ngome', 'zao', 'za', 'kisiasa', '.', 'Kwa', 'mfano', 'chama', 'cha', 'Ford-K', 'kimekumbwa', 'na', 'migogoro', 'ya', 'kiusimamizi', 'ya', 'ndani', 'kwa', 'ndani', 'na', 'mpaka', 'sasa', 'kina', 'viongozi', 'wawili', '.', 'Makundi', 'mawili', 'ya', 'uongozi', 'sasa', 'yako', 'mahakamani', 'kupigania', 'uongozi', 'wa', 'chama', 'cha', 'Fork-K.', 'Hali', 'hii', 'ndiyo', 'iliyopelekea', 'Rais', 'Kenyatta', 'kuchukua', 'usimamizi', 'dhabiti', 'wa', 'bunge', 'la', 'kitaifa', 'na', 'lile', 'la', 'seneti', 'ambapo', 'kwa', 'sasa', 'mabunge', 'haya', 'hayana', 'upande', 'wa', 'upinzani', '.', 'Naibu', 'wa', 'Spika', 'wa', 'bunge', 'la', 'seneti', ',', 'kiongozi', 'wa', 'wengi', 'na', 'kamati', 'zake', 'zimefanyiwa', 'mabadiliko', 'makubwa', '.', 'Hali', 'hii', 'imekumba', 'bunge', 'la', 'kitaifa', 'ambapo', 'kiongozi', 'wa', 'wengi', 'na', 'naibu', 'wake', 'na', 'kamati', 'zake', 'pia', 'zimefanyiwa', 'mchujo', '.', 'Hali', 'hii', 'mpya', 'inatishia', 'uhuru', 'wa', 'bunge', 'katika', 'utendakazi', 'wake', 'nchini', 'Kenya', '.', 'Miungano', 'mipya', 'katika', 'siasa', 'za', 'Kenya', 'ina', 'misingi', 'yake', 'katika', 'uhusiano', 'kati', 'ya', 'Rais', 'Kenyatta', 'na', 'kiongozi', 'wa', 'upinzani', 'Raila', 'Odinga', 'na', 'huenda', 'pia', 'ikakumbwa', 'na', 'mitetemeko', 'zaidi', 'huku', 'viongozi', 'hawa', 'wawili', 'wakiweka', 'mipango', 'kwa', 'kura', 'ya', 'maamuzi', 'kuhusu', 'katiba', 'ya', 'Kenya', '.', 'Kampeini', 'kuhusiana', 'na', 'jambo', 'hili', 'zilisambaratishwa', 'na', 'ugonjwa', 'wa', 'Covid-19', 'huku', 'Rais', 'Kenyatta', 'na', 'Raila', 'Odinga', 'wakisisitiza', 'siku', 'za', 'hivi', 'karibuni', 'kuwa', 'bado', 'mipango', 'ingalipo', '.', 'Kwa', 'naibu', 'Rais', 'William', 'Ruto', ',', 'kuondolewa', 'kwa', 'wandani', 'wake', 'katika', 'nyadhifa', 'mbali', 'mbali', 'kunamaanisha', 'kuwa', 'ni', 'bayana', 'kwamba', 'makubaliano', 'yake', 'na', 'Rais', 'Kenyatta', 'ya', 'mwaka', 'wa', '2013', 'ambayo', 'yangemfanya', 'kumrithi', 'Kenyatta', 'kama', 'rais', 'wa', 'tano', 'wa', 'Kenya', ',', 'hayapo', 'tena', '.', 'Haya', 'yakimaanisha', 'kuwa', 'ni', 'lazima', 'bwana', 'Ruto', 'apange', 'mkakati', 'mwingine', '.', 'Ni', 'bayana', 'pia', 'kwamba', 'huenda', 'akafaidika', 'kutokana', 'na', 'kutoelewana', 'kwa', 'kundi', 'kubwa', 'lililoletwa', 'pamoja', 'na', 'Rais', 'Kenyatta', '.', 'Mgogoro', 'na', 'uhusiano', 'baina', 'ya', 'Rais', 'Kenyatta', 'na', 'naibu', 'wake', 'huenda', 'ukachacha', 'zaidi', 'iwapo', 'mpango', 'wa', 'marekebisho', 'ya', 'katiba', 'utaanza', 'hivi', 'karibuni', '.', 'Bwana', 'Ruto', 'anatofautiana', 'na', 'Rais', 'kuhusiana', 'na', 'jambo', 'hili', '.', 'Ruto', 'anasema', 'kwamba', 'hakuna', 'dharura', 'katika', 'kuifanyia', 'marekebisho', 'katiba', 'ya', 'Kenya', 'na', 'kwamba', 'fikra', 'ya', 'kutaka', 'kuipanua', 'serikali', 'hasa', 'katika', 'ngazi', 'na', 'nyadhifa', 'za', 'juu', 'kupitia', 'kwa', 'marekebisho', 'haya', 'ni', 'jambo', 'lisilofaa', '.', 'Wengi', 'wanaamini', 'kwamba', 'Ruto', 'amekasirishwa', 'na', 'kuvunjwa', 'moyo', 'baada', 'ya', 'kugundua', 'kwamba', 'Rais', 'Kenyatta', 'huenda', 'asimuunge', 'mkono', 'katika', 'uchaguzi', 'wa', '2022', '.', 'Hali', 'hii', 'imepelekea', 'maswali', 'mengi', 'kuibuka', 'kama', 'chama', 'cha', 'Jubilee', 'kitakuwa', 'imara', 'hadi', 'uchaguzi', 'wa', 'mwaka', 'wa', '2022', '.', 'Kumekuwepo', 'na', 'minongono', 'kwamba', 'Bwana', 'Ruto', 'huenda', 'akakihama', 'chama', 'hicho', 'ambacho', 'amedai', 'hakina', 'udhabiti', 'na', 'kimetekwa', 'nyara', 'na', 'matapeli', 'wa', 'kisiasa', '.', 'Chanzo', 'cha', 'picha', ',', 'Empics', 'Maelezo', 'ya', 'picha', ',', 'Wengi', 'wanaamini', 'kwamba', 'Ruto', 'amekasirika', 'baada', 'ya', 'kugundua', 'kwamba', 'Rais', 'Kenyatta', 'huenda', 'asimuunge', 'mkono', 'katika', 'uchaguzi', 'wa', '2022', 'Bwana', 'Ruto', 'amedokeza', 'pia', 'kuwa', 'huenda', 'akaongoza', 'upande', 'utakaopinga', 'kura', 'ya', 'maamuzi', 'kuhusu', 'katiba', 'ya', 'Kenya', 'huku', 'akikejeli', 'wanaounga', 'mkono', 'suala', 'hili', '.', '``', 'Hata', 'sijui', 'ni', 'nini', 'kitakachobadilishwa…kulingana', 'na', 'ufahamu', 'wangu', ',', 'mabadiliko', 'haya', 'yanasukumwa', 'na', 'viongozi', ',', 'si', 'wananchi', '.', 'Wananchi', 'kwa', 'sasa', 'wanashughulishwa', 'na', 'ukosefu', 'wa', 'ajira', ',', 'na', 'mambo', 'mengine', 'ya', 'kimsingi', 'katika', 'maisha', 'yao', '.', \"''\", 'Bwana', 'Ruto', 'amenukuliwa', 'akisema.Kwa', 'upande', 'wake', ',', 'Rais', 'Kenyatta', 'anasisitiza', 'kwamba', 'kura', 'ya', 'maamuzi', 'ni', 'lazima', 'kufanyika', 'ili', 'kuondoa', 'hali', 'ya', 'wasiwasi', 'ambayo', 'hukumba', 'Kenya', 'kila', 'mara', 'kabla', 'na', 'baada', 'ya', 'uchaguzi', 'mkuu', 'kwa', 'sababu', 'wa', 'jamii', 'fulani', '``', 'kuhisi', 'kutengwa', 'kutoka', 'kwa', 'uongozi', 'wa', 'taifa', \"''\", 'jambo', 'linalopelekea', 'uhasama', 'baina', 'na', 'kati', 'ya', 'jamii', '.', 'Rais', 'Kenyata', 'amekuwa', 'akieleza', 'kuwa', 'ana', 'maono', 'ya', 'kulipokeza', 'taifa', 'hali', 'ya', 'mshikamano', 'na', 'umoja', 'kupitia', 'mchakato', 'wa', 'BBI', ',', 'ambao', 'utakuwa', 'sehemu', 'ya', 'jinsi', 'atakavyokumbukwa', 'akiondoka', 'mamlakani', '.', 'Lakini', 'naibu', 'wake', 'anahoji', 'kuwa', 'mabadiliko', 'ya', 'kikatiba', 'hayawezi', 'kufanywa', 'kuwa', 'jinsi', 'kiongozi', 'yeyote', 'atakavyokumbukwa', '.', '``', 'Mabadiliko', 'ya', 'kikatiba', 'si', 'jambo', 'tunaloweza', 'kuamua', 'kama', 'chama-', 'ni', 'kwa', 'Wakenya', 'wote', 'kuamua', '.', 'Si', 'jambo', 'ambalo', 'ninaweza', 'kusema', 'kwamba', 'nitakumbukwa', 'kwa', 'kubadilisha', 'katiba', ',', \"''\", 'aliambia', 'kituo', 'kimoja', 'cha', 'televisheni', 'nchini', 'Kenya', 'hivi', 'maajuzi', '.', 'Unaweza', 'pia', 'kusoma', ':', 'Itakumbukwa', 'kwamba', 'mnamo', 'mwaka', 'wa', '2005', ',', 'Rais', 'Mstaafu', 'Mwai', 'Kibaki', 'aliwatimua', 'Raila', 'Odinga', 'na', 'wandani', 'wake', 'kwa', 'kuongoza', 'upinzani', 'dhidi', 'ya', 'katiba', 'iliyopendekezwa', 'wakati', 'huo', '.', 'Hata', 'hivyo', ',', 'kulingana', 'na', 'katiba', 'ya', 'Kenya', 'ya', 'sasa', ',', 'Rais', 'Uhuru', 'hana', 'uwezo', 'wa', 'kumtimua', 'naibu', 'wake', 'kutoka', 'wadhifa', 'wake', '.', 'Hata', 'hivyo', ',', 'Rais', 'Kenyatta', 'anaweza', 'kuchukua', 'hatua', 'na', 'kufanya', 'mabadiliko', 'katika', 'serikali', 'kwa', 'jumla', 'na', 'kumpunguzia', 'uwezo', 'wake', '.', 'Rais', 'pia', 'anaweza', 'kuanzisha', 'mswaada', 'wa', 'kutokuwa', 'na', 'Imani', 'na', 'naibu', 'wake', 'bungeni', '.', 'Kwa', 'miezi', 'kadhaa', ',', 'Bwana', 'Ruto', 'amekwepa', 'kumshutumu', 'Rais', 'Kenyatta', 'hadharani', 'lakini', 'siku', 'za', 'hivi', 'karibuni', 'yeye', 'na', 'wandani', 'wake', 'wanaonekana', 'kumshutumu', 'Rais', 'Kenyatta', 'moja', 'kwa', 'moja', 'hadharani', '.', 'Kwa', 'mfano', ',', 'wabunge', 'wawili', 'ambao', 'ni', 'wandani', 'wa', 'Bwana', 'Ruto', 'wametoa', 'matamshi', 'ya', 'kumshutumu', 'Rais', 'Kenyatta', 'na', 'mamake', ',', 'Ngina', 'Kenyatta', ',', 'kwa', 'masaibu', 'yanayokumba', 'Kenya', '.', 'Wabunge', 'hao', ',', 'Oscar', 'Sudi', 'na', 'Johanna', 'Ngeno', 'tayari', 'wameshikwa', 'na', 'kufunguliwa', 'mashtaka', '.', 'Aidha', ',', 'wabunge', 'wengine', 'na', 'wandani', 'wa', 'bwana', 'Ruto', 'wameanza', 'kufuata', 'mkondo', 'huo', 'siku', 'za', 'hivi', 'karibuni', 'jambo', 'ambalo', 'linaonyesha', 'kuwa', 'Bwana', 'Ruto', 'yuko', 'karibu', 'kuondoka', 'serikalini', 'na', 'kulenga', 'kampeini', 'zake', 'za', 'mwaka', 'wa', '2022', '.', 'Wengi', 'wanaamini', 'kwamba', 'msukosuko', 'uliopo', 'katika', 'chama', 'cha', 'Jubilee', 'na', 'uhusiano', 'unaoendelea', 'kudorora', 'baina', 'ya', 'Rais', 'Kenyatta', 'na', 'naibu', 'wake', 'ni', 'mipango', 'ya', 'bwana', 'Ruto', 'ya', 'kuondoka', 'kwenye', 'serikali', 'na', 'kulenga', 'kampeini', 'zake', 'za', 'mwaka', 'wa', '2022', 'huku', 'kura', 'ya', 'maamuzi', 'inayotarajiwa', 'kuhusu', 'katiba', 'ikimpa', 'nafasi', 'nzuri', 'ya', 'kufanya', 'hivi', '.', 'Katika', 'siku', 'za', 'hivi', 'karibuni', ',', 'Bwana', 'Ruto', 'amekuwa', 'akifanya', 'mikutano', 'nyumbani', 'kwake', 'na', 'mingine', 'katika', 'maeneo', 'mbali', 'mbali', 'nchini', 'Kenya', 'ambapo', 'amechagia', 'mamilioni', 'kwa', 'vijana', 'na', 'makundi', 'ya', 'akina', 'mama', '.', 'Pia', ',', 'amekuwa', 'na', 'mikutano', 'na', 'viongozi', 'mbali', 'mbali', 'wa', 'makanisa', 'na', 'washawishi', 'wengine', 'akionekana', 'kupanga', 'kampeini', 'zake', 'bila', 'kumtegemea', 'Rais', 'Kenyatta', '.', 'Aidha', ',', 'baadhi', 'ya', 'viongozi', 'wanaomuunga', 'mkono', 'Bw', '.', 'Ruto', 'wamekuwa', 'wakimrushia', 'cheche', 'za', 'maneno', 'Rais', 'Kenyatta', 'wakimshutumu', 'kwa', 'kumtenga', 'kutoka', 'shughuli', 'muhimu', 'za', 'chama', 'cha', 'Jubilee', ',', 'serikali', ',', 'na', 'kutomuunga', 'mkono', 'naibu', 'wake', 'kisiasa', '.', 'Kwa', 'upande', 'mwingine', ',', 'Bwana', 'Ruto', 'ameshutumiwa', 'na', 'baadhi', 'ya', 'wanasiasa', 'ambao', 'wanatilia', 'shaka', 'ukosoaji', 'wake', 'wa', 'serikali', 'ambayo', 'bado', 'yeye', 'ndiye', 'naibu', 'wa', 'Rais', '.', 'Kilicho', 'wazi', 'katika', 'siasa', 'za', 'Kenya', 'kwa', 'sasa', 'ni', 'kuwa', 'uhusiano', 'baina', 'ya', 'Rais', 'Kenyatta', 'na', 'naibu', 'wake', 'katika', 'chama', 'tawala', 'cha', 'Jubilee', 'na', 'serikali', 'kwa', 'jumla', 'unakumbwa', 'na', 'wakati', 'mgumu', 'hasa', 'nchi', 'inapojishughulisha', 'kuelekea', 'kwenye', 'uchaguzi', 'mkuu', 'wa', 'mwaka', 'wa', '2022', 'huku', 'kila', 'mmoja', 'akivutia', 'kwake', '.', 'Prof', 'Mogambi', 'ni', 'mhadhiri', 'katika', 'Chuo', 'Kikuu', 'cha', 'Nairobi', ':', 'barua', 'pepe', ':', 'hmogambi', '@', 'yahoo.co.uk']\n",
      "\n",
      " Number of Words:  1504\n"
     ]
    }
   ],
   "source": [
    "file=\"20sep20.txt\"\n",
    "\n",
    "# calling the function and storing the contents in a text variable \n",
    "text = get_document(\"https://www.bbc.com/swahili/habari-54225812\")\n",
    "\n",
    "# calling the store_ document function \n",
    "store_document(doc=text,name=file)\n",
    "\n",
    "#add the words in this file to the total_corpus_words, to keep count of the number of words in the corpus\n",
    "total_corpus_words+=total_words(file)"
   ]
  },
  {
   "cell_type": "code",
   "execution_count": 88,
   "metadata": {},
   "outputs": [
    {
     "data": {
      "text/plain": [
       "331981"
      ]
     },
     "execution_count": 88,
     "metadata": {},
     "output_type": "execute_result"
    }
   ],
   "source": [
    "total_corpus_words"
   ]
  },
  {
   "cell_type": "code",
   "execution_count": 89,
   "metadata": {},
   "outputs": [
    {
     "name": "stdout",
     "output_type": "stream",
     "text": [
      "['Spika', 'wa', 'bunge', 'Justin', 'Muturi', 'asema', 'haiwezekani', 'kuvunjwa', 'bunge', 'Kenya', 'Jaji', 'mkuu', 'nchini', 'Kenya', 'David', 'Maraga', 'amemtaka', 'rais', 'Uhuru', 'Kenyatta', 'kulivunja', 'bunge', 'kwasababu', 'halina', 'wabunge', 'wanawake', 'wa', 'kutosha', '.', 'Katika', 'barua', 'kwa', 'rais', 'Kenyatta', ',', 'jaji', 'huyo', 'alisema', 'kwamba', 'kushindwa', 'kuwa', 'na', 'wabunge', 'wengi', 'wa', 'kike', 'ni', 'ukiukaji', 'wa', 'katiba', 'na', 'ubaguzi', 'dhidi', 'ya', 'wanawake', '.', 'Katiba', 'inasema', 'kwamba', 'jinsia', 'moja', 'haiwezi', 'kudhibiti', 'zaidi', 'ya', 'thuluthi', 'mbili', 'ya', 'viti', 'vya', 'bunge', '.', 'Hatahivyo', 'wanawake', 'wana', 'viti', 'vichache', 'ikilinganishwa', 'na', 'viti', '116', 'vinavyohitajika', 'katika', 'bunge', 'hilo', 'la', 'wabunge', '350', '.', 'Lakini', 'akimjibu', ',', 'Spika', 'wa', 'bunge', 'Justin', 'Muturi', 'alisema', 'kwamba', 'kuvunjwa', 'kwa', 'bunge', 'ni', 'chaguo', 'lisilowezekana', '.', 'Katiba', 'mpya', 'ya', 'Kenya', 'ilizinduliwa', '2010', ',', 'na', 'sheria', 'ya', 'jinsia', 'kuhusu', 'thuluthi', 'mbili', 'ilifaa', 'kuidhinishwa', 'baada', 'ya', 'miaka', 'mitano', '.', 'Huku', 'kukiwa', 'kumekuwa', 'na', 'mjadala', 'kuhusu', 'suala', 'hilo', ',', 'bunge', 'hilo', 'lenye', 'wanaume', 'wengi', 'halijapata', 'mbinu', 'ya', 'kupata', 'wanawake', 'wengi', 'bungeni', ',', 'huku', 'baadhi', 'ya', 'wabunge', 'hao', 'wakihoji', 'dhidi', 'ya', 'kubuni', 'viti', 'vingi', 'hususan', 'vya', 'wanawake', 'na', 'badala', 'yake', 'kuwataka', 'wanawake', 'kuingia', 'katika', \"kinyang'anyiro\", 'cha', 'kuwania', 'ubunge', 'mashinani.', '``', 'hatuwezi', 'kusahau', 'kuhusu', 'changamoto', 'zinazotukabili', 'tunapojaribu', 'kuidhinisha', 'suala', 'hili', 'na', 'kuligeuza', 'bunge', 'kuwa', 'eneo', 'la', 'kupigana', 'kutokana', 'na', 'jinsia', ',', 'alisema', 'katika', 'taarifa', 'siku', 'ya', 'Jumatatu', '.', 'Chanzo', 'cha', 'picha', ',', 'JUSTIN', 'MUTURI', '/', 'TWITTER', 'Jaji', 'Maraga', 'alisema', 'kwamba', 'bunge', 'la', '10', 'halikuwa', 'na', 'muda', 'wa', 'kutosha', 'kuidhinisha', 'sheria', 'inayohitajika', 'kuhalalisha', 'sheria', 'hiyo', 'ya', 'jinsia', '.', 'Kulingana', 'na', 'Maraga', ',', 'mahakama', 'ya', 'upeo', 'chini', 'ya', 'aliyekuwa', 'jaji', 'mkuu', 'Willy', 'Mutunga', 'aliagiza', 'bunge', 'kuidhinisha', 'sheria', 'hiyo', 'kufikia', 'tarehe', '27', 'Agosti', '2015', '.']\n",
      "\n",
      " Number of Words:  257\n"
     ]
    }
   ],
   "source": [
    "file=\"20sep22.txt\"\n",
    "\n",
    "# calling the function and storing the contents in a text variable \n",
    "text = get_document(\"https://www.bbc.com/swahili/habari-54232149\")\n",
    "\n",
    "# calling the store_ document function \n",
    "store_document(doc=text,name=file)\n",
    "\n",
    "#add the words in this file to the total_corpus_words, to keep count of the number of words in the corpus\n",
    "total_corpus_words+=total_words(file)"
   ]
  },
  {
   "cell_type": "code",
   "execution_count": 90,
   "metadata": {},
   "outputs": [
    {
     "data": {
      "text/plain": [
       "332238"
      ]
     },
     "execution_count": 90,
     "metadata": {},
     "output_type": "execute_result"
    }
   ],
   "source": [
    "total_corpus_words"
   ]
  },
  {
   "cell_type": "code",
   "execution_count": 91,
   "metadata": {},
   "outputs": [
    {
     "name": "stdout",
     "output_type": "stream",
     "text": [
      "['Waridi', 'wa', 'BBC', ':', 'Masaibu', 'ya', 'Celine', 'Njoki', 'aliyebakwa', 'na', 'wanaume', 'zaidi', 'ya', '20', 'Anne', 'Ngugi', 'BBC', 'Swahili', '23', 'Septemba', '2020', 'Chanzo', 'cha', 'picha', ',', 'Celine', 'Njoki', 'Maelezo', 'ya', 'picha', ',', 'Japo', 'maisha', 'yake', 'yamekumbwa', 'na', 'huzuni', 'kutokana', 'na', 'historia', 'yake', 'ya', 'kubakwa', 'mara', 'tatu', 'katika', 'mazingira', 'tofauti', ',', 'amepiga', 'moyo', 'konde', 'kuishi', 'maisha', 'ya', 'furaha', 'kama', 'alivyosimulia', 'Celine', 'Njoki', 'ana', 'umri', 'wa', 'miaka', '34', ',', 'na', 'ni', 'mama', 'ya', 'watoto', '3', '.', 'Ni', 'vigumu', 'sana', 'kwa', 'mtu', 'kuweka', 'akilini', 'mwake', 'mahangaiko', 'na', 'uchungu', 'mwingi', 'ambao', 'mama', 'huyu', 'amepitia', 'katika', 'miaka', 'yake', 'duniani', '.', 'Japo', 'maisha', 'yake', 'yamekumbwa', 'na', 'huzuni', 'kutokana', 'na', 'historia', 'yake', 'ya', 'kubakwa', 'mara', 'tatu', 'katika', 'mazingira', 'tofauti', ',', 'amepiga', 'moyo', 'konde', 'kuishi', 'maisha', 'ya', 'furaha', 'kama', 'alivyosimulia', '.', 'Simulizi', 'ya', 'ubakaji', 'wa', 'kila', 'mara', '.', 'Mahangaiko', 'yake', 'kutokana', 'na', 'ubakaji', 'yalianza', 'usiku', 'mmoja', 'mwezi', 'Juni', 'mwaka', 'wa', '2016', 'hatasahau', ',', 'wakati', 'ule', 'mama', 'huyu', 'wa', 'watoto', 'watatu', 'hakuwa', 'na', 'makazi', 'ya', 'kuishi', ',', 'kwa', 'hiyo', 'alikuwa', 'analala', 'mitaani', ',', 'katika', 'nyumba', 'moja', 'iliyokuwa', 'mahame', '.', 'Anakumbuka', 'saa', 'za', 'usiku', 'wa', 'manane', 'alivamiwa', 'na', 'wanaume', 'aliowahesabu', 'kuwa', 'kumi', 'na', 'watano', ',', 'wote', \"walim'baka\", 'mmoja', 'baada', 'ya', 'mwingine', ',', 'na', 'kumuacha', 'akiwa', 'ameumizwa', 'sehemu', 'za', 'siri', 'kiasi', 'cha', 'kuhitaji', 'upasuaji', ',', 'alihitaji', 'kushonwa', 'mara', 'kadhaa', 'ili', 'aweze', 'kwenda', 'haja', 'zake', 'kama', 'kawaida', '.', 'Aidha', 'mama', 'huyo', 'anasema', 'kuwa', 'anashuku', 'kuwa', 'wanaume', 'hao', 'walikuwa', 'wezi', ',', 'waliokuwa', 'wametekeleza', 'uhalifu', 'sehemu', 'fulani', 'na', 'walikuwa', 'hapo', 'kugawa', 'mali', 'ya', 'wizi', '.', 'Ndiposa', 'wakamvamia', 'akiwa', 'amelala', 'mle', '.', 'Chanzo', 'cha', 'picha', ',', 'Celine', 'Njoki', 'Maelezo', 'ya', 'picha', ',', 'Maisha', 'yalionekana', 'kurudi', 'kama', 'kawaida', ',', 'na', 'alihisi', 'kuwa', 'angeyasahau', 'yaliomfanyikia', ',', 'ila', 'mengi', 'yalikuwa', 'yanamsubiri', 'mbele', 'Baada', 'ya', 'kisa', 'hicho', 'ilibidi', 'asaidiwe', 'na', 'wasamaria', 'wema', ',', 'kwani', 'alikuwa', 'hana', 'uwezo', 'wa', 'hata', 'kutembea', 'ilikuwa', 'vigumu', 'mno', 'kwake', '.', 'Kwa', 'mwezi', 'mmoja', 'alipata', 'matibabu', ',', 'sio', 'tu', 'ya', 'mwili', 'wake', 'bali', 'pia', 'alipitia', 'matibabu', 'ya', 'kiakili', 'kutokana', 'na', 'unyama', 'aliyofanyiwa', '.Anatambua', 'rafiki', 'wake', 'mmoja', 'aliyemshika', 'mkono', 'kwa', 'kumtambulisha', 'kwa', 'shirika', 'mmoja', 'la', 'kuwasaidia', 'wanawake', ',', 'shirika', 'hilo', 'lilimpangia', 'nyumba', 'na', 'kumsaidia', 'kwa', 'ajira', '.', 'Maisha', 'yalionekana', 'kurudi', 'kama', 'kawaida', ',', 'na', 'alihisi', 'kuwa', 'angeyasahau', 'yaliomfanyikia', ',', 'ila', 'mengi', 'yalikuwa', 'yanamsubiri', 'mbele', '.', 'Siku', 'moja', 'mnamo', 'mwezi', 'Desemba', 'mwaka', 'wa', '2017', 'alipokuwa', 'anatoka', 'kazini', ',', 'masaa', 'ya', 'jioni', 'alivamiwa', 'tena', 'akiwa', 'barabarani', 'na', 'wanaume', 'aliyowahesabu', 'kuwa', 'wasita', ',', 'wote', 'walimbaka', 'mmoja', 'kwa', 'mwengine', '.', 'Maumivu', 'na', 'nyuzi', 'za', 'kale', 'zote', 'ziliraruka', 'kutokana', 'na', 'kasi', 'ya', 'ubakaji', '.', 'Hali', 'hii', 'ya', 'ubakaji', 'mara', 'tatu', ',', 'ilimuacha', 'hoi', ',', 'mwanadada', 'huyu', 'anakumbuka', 'akiwa', 'kama', 'mtu', 'aliyepagawa', 'na', 'ambaye', 'hakuwa', 'anaelewa', 'kinachoendelea', 'katika', 'maisha', 'yake', ',', 'anakiri', 'kuwa', 'wakati', 'huo', 'alihisi', 'kana', 'kwamba', 'alikuwa', 'mzoga', 'uliyosalia', 'kuzikwa', '.', 'Kisa', 'cha', 'ubakaji', 'wa', 'mwisho', 'kilimtoa', 'moyo', 'wa', 'kuendelea', 'na', 'maisha', 'yake', ',', 'kwani', 'alianza', 'kujiuliza', 'ni', 'kwanini', 'anakuwa', 'muathiriwa', 'wa', 'ubakaji', 'kila', 'wakati', '?', 'Vile', 'vile', 'alianza', 'kuwa', 'na', 'uoga', 'wa', 'kutembea', 'pekee', 'yake', 'kwani', 'allikuwa', 'na', 'wasiwasi', 'kila', 'mara', 'alipokuwa', 'anakutana', 'na', 'wanaume', 'barabarani', '.', 'Celine', 'anasema', 'kuwa', 'visa', 'hivyo', 'vyote', 'viliripotiwa', 'katika', 'vituo', 'vya', 'polisi', 'lakini', 'hadi', 'sasa', 'hakuna', 'hata', 'mmoja', 'amekamatwa', '.', 'Pandashuka', 'za', 'malezi', 'na', 'maisha', 'yake', 'Celine', 'Celine', 'Njoki', 'alizaliwa', 'katika', 'mazingira', 'ambayo', 'ndoa', 'kati', 'ya', 'wazazi', 'wake', 'haikudumu', '.', 'Mwanadada', 'huyu', 'anakumbuka', 'akiwa', 'na', 'miaka', 'minne', 'hivi', 'mamake', 'aliondoka', 'na', 'kakake', 'aliyekuwa', 'mdogo', ',', 'tangu', 'wakati', 'huo', 'Celine', 'hakuwahi', 'msikia', 'wala', 'kumuona', 'mama', 'yake', '.', 'Baba', 'yake', 'Celine', 'alifanya', 'kila', 'awezalo', 'kuwapa', 'watoto', 'wake', 'mapenzi', 'ya', 'mama', 'na', 'ya', 'baba', ',', 'na', 'maisha', 'ya', 'kawaida', '.', 'Celine', 'alipohitimu', 'miaka', '7', 'baba', 'yake', 'aliaga', 'dunia', 'baada', 'ya', 'kuugua', '.', 'katika', 'umri', 'mdogo', 'Celine', 'hakuelewa', 'kifo', 'kilimaanisha', 'nini', ',', 'wala', 'hakuna', 'aliyejitolea', 'kuwafariji', 'kwa', 'kupoteza', 'baba', '.Anachofahamu', 'ni', 'kuwa', 'ghafla', 'aligundua', 'baba', 'hayuko', 'tena', ',', 'aliachwa', 'mikononi', 'mwa', 'bibi', 'au', 'nyanya', '.', 'Ila', 'wingu', 'jeusi', 'lilisubiri', 'Celine', 'katika', 'utoto', 'wake', 'wa', 'miaka', '7', 'alianza', 'kubakwa', 'na', 'kunajisiwa', 'na', 'binamu', 'wa', 'baba', 'yake', '.', 'Celine', 'anasema', 'kuwa', 'binamu', 'huyo', 'alikuwa', 'na', 'miaka', 'kati', 'ya', '25-26', 'kitu', 'kilichoanza', 'kama', 'tabia', 'ya', 'binamu', 'wa', 'baba', 'kumtomasa', 'kiliendelea', 'kuwa', 'kitendo', 'cha', 'kila', 'siku', 'cha', 'unajisi', '.', 'Mwanadada', 'huyu', 'hakujua', 'wa', 'kumgeukia', ',', 'tabia', 'yake', 'ilibadilika', 'mno', 'na', 'akawa', 'msichana', 'mtukutu', 'na', 'mwenye', 'vituko', '.', 'Hakuna', 'mtu', 'aliyekuwa', 'anaelewa', 'ni', 'kwanini', 'alikuwa', 'na', 'tabia', 'za', 'usumbufu', '.', 'Celine', 'anasema', 'kuwa', 'alikuwa', 'anaona', 'aibu', 'kumweleza', 'mtu', 'yeyote', ',', 'hata', 'bibi', 'hakufahamu', 'kuwa', 'Celine', 'alikuwa', 'anapitia', 'masaibu', 'ya', 'ubakaji', 'kila', 'siku', '.', 'Kitendo', 'hiki', 'kiliendelea', 'tangu', 'akiwa', 'miaka', '8-14', 'hadi', 'wakati', 'binamu', 'wake', 'aliondoka', 'kule', 'nyumbani', 'kwao', 'na', 'ilisalia', 'kuwa', 'siri', 'Kushika', 'Mimba', '.', 'Celine', 'alipohitimu', 'miaja', '15', 'alianza', 'uhusiano', 'wa', 'kimapenzi', 'na', 'kijana', 'mmoja', ',', 'Mwanadada', 'huyu', 'anasema', 'kuwa', 'kwa', 'mara', 'ya', 'kwanza', 'alihisi', 'kupendwa', ',', 'mara', 'tu', 'alishika', 'mimba', 'na', 'akajifungua', 'mtoto', 'wa', 'kwanza', 'akiwa', 'na', 'miaka', '16', '.', 'Maisha', 'yalibadilika', 'mno', ',', 'alitelekezwa', 'na', 'walezi', 'wake', ',', 'na', 'akaanza', 'maisha', 'ya', 'malezi', 'ya', 'mtoto', '.', 'Uhusiano', 'wake', 'na', 'yule', 'baba', 'ya', 'mtoto', 'uliharibika', 'wakati', 'huo', '.', 'Mtoto', 'alipofikisha', 'mwaka', 'mmoja', 'na', 'miezi', 'kadhaa', 'Celine', 'na', 'yule', 'mpenzi', 'wake', 'walirudia', 'mapenzi', 'tena', 'na', 'akiwa', 'na', 'miaka', '17', 'alijipata', 'ujauzito', 'wa', 'pili', '.', 'Kipindi', 'hicho', 'baba', 'ya', 'watoto', 'wake', 'wawili', 'alifanikiwa', 'kusafiri', 'Marekani', 'kwa', 'ajira', ',', 'lakini', 'wakati', 'huo', 'alikuwa', 'anatuma', 'fedha', 'za', 'matumizi', 'kwake', 'Celine', '.', '``', 'Jamaa', 'wangu', 'walikuwa', 'hawataki', 'hata', 'kuniona', ',', 'walinitizama', 'kama', 'msherati', 'na', 'ambaye', 'hafai', ',', 'hata', 'mtoto', 'wa', 'pili', 'nilijifungulia', 'ndani', 'ya', 'nyumba', 'nikiwa', 'pekee', 'yangu', 'nusura', 'nipoteze', 'uhai', 'wangu', '.', 'Baada', 'ya', 'bibi', 'kufariki', 'ni', 'shangazi', 'mmoja', 'tu', 'aliyekuwa', 'anasimama', 'na', 'mimi', ',', 'kweli', 'maisha', 'yalikuwa', 'machungu', \"''\", 'Celine', 'anasema', 'Baada', 'ya', 'miaka', 'miwili', 'baba', 'ya', 'watoto', 'alirejea', 'kutoka', 'Marekani', ',', 'waliamua', 'kuanza', 'maisha', 'kama', 'mke', 'na', 'mume', ',', 'na', 'hata', 'Celine', 'alishika', 'mimba', 'ya', 'tatu', ',', 'ila', 'mambo', 'yalikuwa', 'tofauti', '.', 'Mume', 'wake', 'alikuwa', 'hajali', ',', 'kwa', 'mfano', 'alikuwa', 'na', 'tabia', 'ya', 'kuwaleta', 'wapenzi', 'wengine', 'ndani', 'ya', 'nyumba', 'yao', '``', 'Nakumbuka', 'nikiwa', 'na', 'mimba', 'ya', 'miezi', '5', ',', 'mume', 'wangu', 'alirejea', 'nyumbani', 'na', 'wanawake', 'wawili', 'wote', 'walikuwa', 'ni', 'walevi', '.', 'Wote', 'watatu', 'waliingia', 'bafuni', 'na', 'kuanza', 'kufanya', 'ngono', 'huku', 'wakipiga', 'kelele', 'za', 'kila', 'aina', ',', 'nilihisi', 'kuwa', 'watoto', 'wangu', 'wakubwa', 'walikuwa', 'wanayasikiza', 'yaliokuwa', 'yanafanyika', ',', 'nilisongea', 'pale', 'bafuni', 'na', 'kumweleza', 'mume', 'wangu', 'wapunguze', 'kelele', ',', 'pale', 'pale', 'alitoka', 'kwa', 'hasira', 'na', 'kuniburuza', 'kwa', 'nguvu', 'hadi', 'nje', ',', 'alinirushia', 'nguo', 'pamoja', 'na', 'watoto', 'wangu', 'na', 'kunieleza', 'niondoke', 'kwake', '``', 'Celine', 'anakumbuka', 'Mwanadada', 'huyu', 'anasema', 'kuwa', 'mume', 'wake', 'alimrushia', 'fedha', 'kama', 'dola', 'mia', 'mbili', ',', 'hapo', 'ndipo', 'alianzia', 'maisha', 'ya', 'malezi', 'ya', 'watoto', 'akiwa', 'mzazi', 'wa', 'kipekee', '.', 'Chanzo', 'cha', 'picha', ',', 'Celine', 'Njoki', 'Maelezo', 'ya', 'picha', ',', 'Maisha', 'ya', 'kuwalea', 'watoto', 'wake', 'hayakuwa', 'rahisi', 'ndiposa', 'wakati', 'mwengine', 'alijipata', 'akilala', 'mitaani', 'au', 'kwenye', 'nyumba', 'ambazo', 'hazina', 'watu', 'Maisha', 'ya', 'kuwalea', 'watoto', 'wake', 'hayakuwa', 'rahisi', 'ndiposa', 'wakati', 'mwengine', 'alijipata', 'akilala', 'mitaani', 'au', 'kwenye', 'nyumba', 'ambazo', 'hazina', 'watu', '.', 'Maisha', 'yalivyo', 'sasa', 'Watoto', 'wake', 'kwa', 'sasa', 'wana', 'umri', 'wa', 'miaka', '18', ',', '16', ',', '10', 'mtawalia', '.', 'Mwezi', 'februari', 'mwaka', 'huu', 'alifunga', 'ndoa', 'na', 'mumewe', 'licha', 'ya', 'masaibu', 'mengi', 'maishani', 'mwake', ',', 'mume', 'wake', 'amemkubali', 'pamoja', 'na', 'kuwaridhi', 'wanae', '.', 'Celine', 'ni', 'mmoja', 'wa', 'wanawake', 'ambao', 'wanazungumzia', 'sana', 'kuhusu', 'ubakaji', 'kama', 'njia', 'ya', 'kuhamasisha', 'jamii', ',', 'na', 'pia', 'kuhakikisha', 'kuwa', 'wasichana', 'au', 'mabinti', 'wanaelewa', 'jinsi', 'ya', 'kujikinga', 'na', 'kujilinda', '.']\n",
      "\n",
      " Number of Words:  1184\n"
     ]
    }
   ],
   "source": [
    "file=\"20sep23.txt\"\n",
    "\n",
    "# calling the function and storing the contents in a text variable \n",
    "text = get_document(\"https://www.bbc.com/swahili/habari-54260891\")\n",
    "\n",
    "# calling the store_ document function \n",
    "store_document(doc=text,name=file)\n",
    "\n",
    "#add the words in this file to the total_corpus_words, to keep count of the number of words in the corpus\n",
    "total_corpus_words+=total_words(file)"
   ]
  },
  {
   "cell_type": "code",
   "execution_count": 92,
   "metadata": {},
   "outputs": [
    {
     "data": {
      "text/plain": [
       "333422"
      ]
     },
     "execution_count": 92,
     "metadata": {},
     "output_type": "execute_result"
    }
   ],
   "source": [
    "total_corpus_words"
   ]
  },
  {
   "cell_type": "code",
   "execution_count": 93,
   "metadata": {},
   "outputs": [
    {
     "name": "stdout",
     "output_type": "stream",
     "text": [
      "['Botswana', 'kuanza', 'kufundisha', 'kiswahili', 'shuleni', 'Botswana', 'ina', 'mpango', 'wa', 'kuanzisha', 'somo', 'la', 'kiswahili', 'shuleni', ',', 'mamlaka', 'ya', 'nchi', 'hiyo', 'imeeleza', 'kwa', 'mujibu', 'wa', 'mtandao', 'wa', 'Nation', 'Africa', '.', 'Waziri', 'wa', 'elimu', 'wa', 'Botswana', 'bwana', 'Fidelis', 'Molao', 'amesema', 'lugha', 'ya', 'kiswahili', 'itaanzishwa', 'nchini', 'humo', 'siku', 'zijazo', '.', 'Kiswahili', 'ni', 'lugha', 'yenye', 'asili', 'ya', 'kibantu', 'inayozungumzwa', 'zaidi', 'katika', 'mataifa', 'ya', 'Afrika', 'mashariki', 'Kenya', ',', 'Tanzania', ',', 'Uganda', ',', 'Burundi', ',', 'Rwanda', 'na', 'mataifa', 'mengine', 'kama', 'DRC', 'na', 'baadhi', 'ya', 'maeneo', 'ya', 'Malawi', '.', 'Kama', 'lugha', 'ya', 'Kiswahili', 'itaanza', 'kufundishwa', 'nchini', 'humo', 'basi', 'lugha', 'hiyo', 'itakuwa', 'ya', 'kwanza', 'kutoka', 'barani', 'Afrika', 'kuzungumzwa', 'na', 'mataifa', 'mengi', 'zaidi', 'duniani', '.', 'Jumuiya', 'ya', 'Maendeleo', 'ya', 'Nchi', 'za', 'Kusini', 'mwa', 'Afrika', '(', 'SADC', ')', 'utakuwa', 'ukanda', 'ambao', 'washirika', 'wake', 'wengi', 'wanazungumza', 'lugha', 'ya', 'kiswahili', 'na', 'Botswana', 'ikiwa', 'miongoni', 'mwa', 'mataifa', 'hayo', ',', 'bwana', 'Molao', 'amesema', '.', 'Aidha', 'wakati', 'rais', 'Magufuli', 'akimaliza', 'muda', 'wake', 'kama', 'mwenyekiti', 'wa', 'SADC', ',', 'alisema', 'baadhi', 'ya', 'mafanikio', 'yaliyopatikana', 'katika', 'kipindi', 'chake', 'cha', 'uenyekiti', 'ni', 'pamoja', 'na', 'Kiswahili', 'kufanywa', 'kuwa', 'lugha', 'ya', 'nne', 'rasmi', 'katika', 'Jumuiya', 'hiyo', '.', 'Wafahamu', 'waafrika', 'waliopo', 'kwenye', 'orodha', 'ya', 'watu', '100', 'wenye', 'ushawishi', 'duniani', 'Getty', 'ImagesCopyright', ':', 'Getty', 'Images', 'Tony', 'Elumelu', 'ambaye', 'ni', 'tajiri', 'mkubwa', 'mjasiriamali', 'NigeriaImage', 'caption', ':', 'Tony', 'Elumelu', 'ambaye', 'ni', 'tajiri', 'mkubwa', 'mjasiriamali', 'Nigeria', 'Orodha', 'ya', 'watu', '100', 'wenye', 'ushawishi', 'zaidi', 'duniani', 'kwa', 'mwaka', '2020', ',', 'kwa', 'mujibu', 'wa', 'jarida', 'la', 'Times', 'imetolewa', 'Jumanne', 'ikiwa', 'imejumuisha', 'watu', 'wanaoshughulika', 'na', 'sekta', 'mbalimbali', 'kama', 'biashara', ',', 'Sanaa', ',', 'michezo', ',', 'muziki', 'na', 'nyingine', 'nyingi', '.', 'Na', 'wafuatao', 'ni', 'miongoni', 'mwa', 'waafrika', 'ambao', 'wako', 'kwenye', 'orodha', 'hiyo', '.', 'Tony', 'Elumelu', 'ni', 'miongoni', 'mwa', 'watu', 'watano', 'wa', 'Afrika', 'wenye', 'ushawishi', 'duniani', ',', 'yeye', 'ni', 'tajiri', 'mkubwa', 'mjasiriamali', 'Nigeria', ',', 'anafahamika', 'pia', 'kwa', 'kutoa', 'ufadhili', 'katika', 'kijamiii', '.', 'Wapili', 'ni', 'mwendesha', 'mashtaka', 'na', 'mwanasheria', 'mkuu', 'wa', 'zamani', 'wa', 'Gambia', 'Abubacarr', 'Tambadou', '.', 'BBCCopyright', ':', 'BBC', 'Mwandishi', 'wa', 'kitabu', 'cha', '``', 'Children', 'of', 'Blood', 'and', 'Bones', \"''\", 'bi.Tomi', 'Adeyemi', 'mwenye', 'umri', 'wa', 'miaka', '27-ni', 'mwandishi', 'wa', 'vitabu', 'vya', 'simulizi', 'na', 'mkufunzi', 'wa', 'uandishi', 'wa', 'vitabu', 'mwenye', 'asili', 'ya', 'Nigeria', '.', 'Wanne', 'akiwa', 'Jean-Jacques', 'Muyembe', 'ambaye', 'ni', 'mkurugenzi', 'wa', 'taasisi', 'ya', 'kitaifa', 'ya', 'utafiti', 'wa', 'sayansi', 'nchini', 'DRC', '.', 'Pamoja', 'na', 'Dkt', 'Tunji', 'Funsho', 'ni', 'mtaalamu', 'wa', 'magonjwa', 'ya', 'moyo', 'nchini', 'Nigeria', 'na', 'mwenyekiti', 'wa', 'mpango', 'wa', 'kutokomeza', 'polio', 'wa', 'shirika', 'la', 'kimataifa', 'la', 'Rotary', '.', 'Ni', 'sharti', 'upime', 'Corona', 'kabla', 'ya', 'kufunga', 'ndoa', 'Rwanda', 'Suala', 'la', 'kuwataka', 'wanandoa', 'na', 'wageni', 'wao', 'kupima', 'Covid-19', 'kwa', 'gharama', 'zao', 'ili', 'kuwaruhusu', 'kufanya', 'sherehe', 'za', 'baada', 'ya', 'kufunga', 'ndoa', ',', 'linaendelea', 'kuzua', 'mjadala', 'mkali', 'nchini', 'Rwanda', '.', 'Wakati', 'huu', 'wa', 'Covid-19', ',', 'ni', 'wageni', '30', 'tu', 'wanaoruhusiwa', 'kuhudhuria', 'sherehe', 'za', 'harusi', 'kulingana', 'na', 'hatua', 'iliyowekwa', 'na', 'serikali', 'ili', 'kuzuia', 'kuenea', 'kwa', 'virusi', 'vya', 'Corona', 'nchini', 'humo', '.', 'Huku', 'gharama', 'za', 'vipimo', 'vya', 'Covid-19', 'kwa', 'mtu', 'mmoja', 'ni', 'dolla', '50', '.', 'Jambo', 'ambalo', 'linawafanya', 'baadhi', 'kuamua', 'kufanya', 'hafla', 'ya', 'kanisani', 'tu', 'pasipo', 'kusherehehekea', 'harusi', 'kwa', 'kuhofia', 'gharama', 'hizo', ',', 'huku', 'wengine', 'wakiahirisha', 'kabisa', 'harusi', 'zao', '.', 'Manzi', 'Jules', '&', 'SolangeCopyright', ':', 'Manzi', 'Jules', '&', 'Solange', 'Manzi', 'Jules', 'na', 'mke', 'wake', 'SolangeImage', 'caption', ':', 'Manzi', 'Jules', 'na', 'mke', 'wake', 'Solange', 'Manzi', 'Jules', 'na', 'mkewe', 'Solange', 'ambao', 'wamefunga', 'pingu', 'za', 'maisha', 'katika', 'kanisa', 'la', 'Mtakatifu', 'Bosco', 'mjini', 'Kigali', 'hawakuwa', 'na', 'sherehe', 'zozote', 'baada', 'ya', 'ibada', 'ya', 'ndoa', '.', 'Na', 'si', 'kwamba', 'sherehe', 'zimekatazwa', ',', 'la', 'hasha', 'ni', 'kuambatana', 'na', 'maagizo', 'yaliyopo', 'ya', 'kuzuia', 'maambukizi', 'ya', 'Covid-19', '.', 'Agizo', 'la', 'serikali', 'linahitaji', 'kwamba', 'kufanya', 'sherehe', 'yoyote', 'ya', 'harusi', ',', 'wanandoa', 'na', 'wageni', 'wao', 'lazima', 'wawe', 'na', 'uthibitisho', 'kuwa', 'walipima', 'Covid-19', 'na', 'hawana', 'virusi', 'hivyo', '.', '‘', '’', 'Masharti', 'haya', 'yalitolewa', 'siku', 'chache', 'kabla', 'ya', 'harusi', 'yangu', '.niliamua', 'kuahirisha', 'harusi', 'na', 'sherehe', 'zake', 'kwani', 'unajua', 'siku', 'ya', 'harusi', 'hutokea', 'mara', 'moja', 'katika', 'maisha', 'ya', 'mtu', '.tunaomba', 'serikali', 'kuturahisishia', 'kwa', 'kupima', 'watu', 'kama', 'ilivyofanya', 'tangu', 'mwanzoni', 'mwa', 'Covid-19', 'au', 'kupunguza', 'gharama', 'ya', 'vipimo', '’', '’', 'Waziri', 'wa', 'mambo', 'ya', 'ndani', 'Anastase', 'Shyaka', 'amesema', 'serikali', 'iliweka', 'masharti', 'hayo', 'ili', 'kuokoa', 'maisha', 'ya', 'wananchi', '.', 'Awali', 'Mashirika', 'yasiyo', 'ya', 'kiserikali', 'yaliiandikia', 'serikali', 'kulalamikia', 'hatua', 'zinazochukuliwa', 'zikiwemo', 'hizi', 'za', 'kuwataka', 'watu', 'kugharamia', 'wenyewe', 'vipimo', 'vya', 'covid19', 'kutokana', 'na', 'hali', 'ya', 'maisha', 'kuzidi', 'kuwa', 'ngumu', 'kwa', 'wananchi', '.', 'Je', 'Ecowas', 'itaiondolea', 'Mali', 'vikwazo', '?', 'Viongozi', 'wa', 'Afrika', 'Magharibi', 'wameonesha', 'kuwa', 'wanaweza', 'kuongeza', 'vikwazo', 'dhidi', 'ya', 'Mali', 'kufuatia', 'mapinduzi', 'yaliyofanyika', 'mwezi', 'uliopita', '.', 'Mwakilishi', 'wao', ',', 'rais', 'wa', 'zamani', 'wa', 'Nigeria', ',', 'Goodluck', 'Jonathan', ',', 'alipowasili', 'Mali', 'alisema', 'kuwa', 'maofisa', 'wa', 'jeshi', 'ambao', 'wamemuondoa', 'madarakani', 'rais', 'Ibrahim', 'Boubacar', 'Keïta', 'walikubali', 'wito', 'wa', 'kimataifa', 'wa', 'kuruhusu', 'uongozi', 'wa', 'mpito', 'utoke', 'kwa', 'raia', '.', 'Maelezo', 'yake', 'yamependekeza', 'kuwa', 'Jumuiya', 'ya', 'kiuchumi', 'ya', 'ukanda', 'wa', 'Afrika', 'magharibi', ',', 'Ecowas', ',', 'inaweza', 'kukubali', 'uteuzi', 'wa', 'aliyekuwa', 'waziri', 'wa', 'ulinzi', 'wa', 'zamani', ',', 'Bah', 'Ndaw', ',', 'kama', 'rais', 'wa', 'mpito', 'huku', 'makamu', 'wake', 'akiwa', 'anatoka', 'upande', 'wa', 'jeshi', ',', 'kaneli', 'Assimi', 'Goita', '.', 'Uagizaji', 'wa', 'bidhaa', 'nchini', 'Mali', 'tangu', 'taifa', 'hilo', 'liwekewe', 'vikwazo', 'vya', 'kibiashara', '.']\n",
      "\n",
      " Number of Words:  805\n"
     ]
    }
   ],
   "source": [
    "file=\"20sep24_1.txt\"\n",
    "\n",
    "# calling the function and storing the contents in a text variable \n",
    "text = get_document(\"https://www.bbc.com/swahili/live/habari-54276481\")\n",
    "\n",
    "# calling the store_ document function \n",
    "store_document(doc=text,name=file)\n",
    "\n",
    "#add the words in this file to the total_corpus_words, to keep count of the number of words in the corpus\n",
    "total_corpus_words+=total_words(file)"
   ]
  },
  {
   "cell_type": "code",
   "execution_count": 94,
   "metadata": {},
   "outputs": [
    {
     "data": {
      "text/plain": [
       "334227"
      ]
     },
     "execution_count": 94,
     "metadata": {},
     "output_type": "execute_result"
    }
   ],
   "source": [
    "total_corpus_words"
   ]
  },
  {
   "cell_type": "code",
   "execution_count": 95,
   "metadata": {},
   "outputs": [
    {
     "name": "stdout",
     "output_type": "stream",
     "text": [
      "['Maafisa', 'waliohusika', 'na', 'ufisadi', 'wa', 'mamilioni', 'ya', 'madola', 'kuhusiana', 'na', 'vifaa', 'vya', 'corona', 'Kenya', 'kutajwa', 'Huwezi', 'kusikiliza', 'tena', 'Maafisa', 'waliohusika', 'na', 'ufisadi', 'wa', 'mamilioni', 'ya', 'madola', 'kuhusiana', 'na', 'vifaa', 'vya', 'corona', 'Kenya', 'kutajwa', '24', 'Septemba', '2020', 'BBC', 'imegundua', 'kwamba', 'takriban', 'maafisa', '15', 'wa', 'Kenya', 'pamoja', 'na', 'wafanyabiashara', 'wamependekezwa', 'kushtakiwa', 'kuhusiana', 'na', 'madai', 'ya', 'wizi', 'wa', 'mamilioni', 'ya', 'madola', 'zilizotolewa', 'kununua', 'vifaa', 'vya', 'kukabiliana', 'na', 'virusi', 'vya', 'corona', '.']\n",
      "\n",
      " Number of Words:  68\n"
     ]
    }
   ],
   "source": [
    "file=\"20sep24_2.txt\"\n",
    "\n",
    "# calling the function and storing the contents in a text variable \n",
    "text = get_document(\"https://www.bbc.com/swahili/habari-54275714\")\n",
    "\n",
    "# calling the store_ document function \n",
    "store_document(doc=text,name=file)\n",
    "\n",
    "#add the words in this file to the total_corpus_words, to keep count of the number of words in the corpus\n",
    "total_corpus_words+=total_words(file)"
   ]
  },
  {
   "cell_type": "code",
   "execution_count": 96,
   "metadata": {},
   "outputs": [
    {
     "data": {
      "text/plain": [
       "334295"
      ]
     },
     "execution_count": 96,
     "metadata": {},
     "output_type": "execute_result"
    }
   ],
   "source": [
    "total_corpus_words"
   ]
  },
  {
   "cell_type": "code",
   "execution_count": 97,
   "metadata": {},
   "outputs": [
    {
     "name": "stdout",
     "output_type": "stream",
     "text": [
      "['Maafisa', 'waliohusika', 'na', 'ufisadi', 'wa', 'mamilioni', 'ya', 'madola', 'kuhusiana', 'na', 'vifaa', 'vya', 'corona', 'Kenya', 'kutajwa', 'Huwezi', 'kusikiliza', 'tena', 'Maafisa', 'waliohusika', 'na', 'ufisadi', 'wa', 'mamilioni', 'ya', 'madola', 'kuhusiana', 'na', 'vifaa', 'vya', 'corona', 'Kenya', 'kutajwa', '24', 'Septemba', '2020', 'BBC', 'imegundua', 'kwamba', 'takriban', 'maafisa', '15', 'wa', 'Kenya', 'pamoja', 'na', 'wafanyabiashara', 'wamependekezwa', 'kushtakiwa', 'kuhusiana', 'na', 'madai', 'ya', 'wizi', 'wa', 'mamilioni', 'ya', 'madola', 'zilizotolewa', 'kununua', 'vifaa', 'vya', 'kukabiliana', 'na', 'virusi', 'vya', 'corona', '.', 'Wachunguzi', 'wamegundua', 'jinsi', 'zabuni', 'za', 'serikali', 'zilivyotolewa', 'kwa', 'watu', 'walio', 'na', 'uhusino', 'wa', 'karibu', 'na', 'wanasiasa', 'na', 'wafanyabiashara', 'kinyume', 'na', 'masharti', 'ya', 'zabuni', 'Kenya', '.']\n",
      "\n",
      " Number of Words:  93\n"
     ]
    }
   ],
   "source": [
    "file=\"20sep24_3.txt\"\n",
    "\n",
    "# calling the function and storing the contents in a text variable \n",
    "text = get_document(\"https://www.bbc.com/swahili/habari-54275716\")\n",
    "\n",
    "# calling the store_ document function \n",
    "store_document(doc=text,name=file)\n",
    "\n",
    "#add the words in this file to the total_corpus_words, to keep count of the number of words in the corpus\n",
    "total_corpus_words+=total_words(file)"
   ]
  },
  {
   "cell_type": "code",
   "execution_count": 98,
   "metadata": {},
   "outputs": [
    {
     "data": {
      "text/plain": [
       "334388"
      ]
     },
     "execution_count": 98,
     "metadata": {},
     "output_type": "execute_result"
    }
   ],
   "source": [
    "total_corpus_words"
   ]
  },
  {
   "cell_type": "code",
   "execution_count": 99,
   "metadata": {},
   "outputs": [
    {
     "name": "stdout",
     "output_type": "stream",
     "text": [
      "['Jamii', 'zinazokodisha', 'ardhi', 'yao', 'kwa', 'utalii', 'mwaka', 'huu', 'waambulia', 'patupu', 'kutokana', 'na', 'corona', 'Huwezi', 'kusikiliza', 'tena', 'Jamii', 'zinazokodisha', 'ardhi', 'yao', 'kwa', 'utalii', 'mwaka', 'huu', 'waambulia', 'patupu', 'kutokana', 'na', 'corona', '25', 'Septemba', '2020', 'Jamii', 'zinazoishi', 'kwenye', 'hifadhi', 'za', 'wanyama', 'pori', 'za', 'kibinafsi', 'nchini', 'Kenya', 'zina', 'wakati', 'mgumu', 'kulisha', 'familia', 'zao', 'huku', 'athari', 'za', 'janga', 'la', 'Covid-19', 'zikiendelea', 'kukithiri', '.', 'Katika', 'hifadhi', 'ya', 'wanyama', 'pori', 'ya', 'Maasai', 'Mara', ',', 'jamii', 'hukodisha', 'ardhi', 'yao', 'kwa', 'wawekezaji', 'na', 'kulipwa', 'kila', 'mwaka', ',', 'ada', 'ambayo', 'kwa', 'mwaka', 'huu', 'wataikosa', 'kwa', 'sababu', 'ya', 'ukosefu', 'wa', 'watalii', ',', 'na', 'hivyo', 'kuwasababishia', 'hasara', 'ya', 'maelfu', 'ya', 'dola', 'kwenye', 'kambi', 'za', 'kitalii', '.', 'Mfumo', 'huu', 'wa', 'uhifadhi', 'huchangia', 'kulinda', 'wanyama', 'huku', 'utamaduni', 'wa', 'Kimaasai', 'ukidumishwa', 'pia', '.']\n",
      "\n",
      " Number of Words:  118\n"
     ]
    }
   ],
   "source": [
    "file=\"20sep25.txt\"\n",
    "\n",
    "# calling the function and storing the contents in a text variable \n",
    "text = get_document(\"https://www.bbc.com/swahili/54301864\")\n",
    "\n",
    "# calling the store_ document function \n",
    "store_document(doc=text,name=file)\n",
    "\n",
    "#add the words in this file to the total_corpus_words, to keep count of the number of words in the corpus\n",
    "total_corpus_words+=total_words(file)"
   ]
  },
  {
   "cell_type": "code",
   "execution_count": 100,
   "metadata": {},
   "outputs": [
    {
     "data": {
      "text/plain": [
       "334506"
      ]
     },
     "execution_count": 100,
     "metadata": {},
     "output_type": "execute_result"
    }
   ],
   "source": [
    "total_corpus_words"
   ]
  },
  {
   "cell_type": "code",
   "execution_count": 101,
   "metadata": {},
   "outputs": [
    {
     "name": "stdout",
     "output_type": "stream",
     "text": [
      "['Jinsi', 'familia', 'tatu', 'za', 'Kenya', 'zilivyotawala', 'siasa', 'za', 'Kenya', ',', 'je', 'kutakuwa', 'na', 'mabadiliko', '?', 'Uchambuzi', 'na', ',', 'Profesa', 'Hezron', 'Mogambi', ',', 'Mhadhiri', 'katika', 'Chuo', 'Kikuu', 'cha', 'Nairobi', '27', 'Septemba', '2020', 'Chanzo', 'cha', 'picha', ',', 'Reuters', 'Maelezo', 'ya', 'picha', ',', 'Raila', 'Odinga', '(', 'kulia', ')', 'na', 'Uhuru', 'Kenyatta', '(', 'kushoto', ')', 'Siasa', 'za', 'nchi', 'ya', 'Kenya-kwa', 'miaka', 'mingi', 'tangu', 'Kenya', 'kupata', 'uhuru', 'wake', 'mwaka', 'wa', '1963', '-', 'zimekuwa', 'zikizunguka', 'sifa', 'na', 'taswira', 'ya', 'familia', 'mbili-', 'familia', 'ya', 'Kenyatta', 'na', 'ile', 'ya', 'Odinga', '.', 'Daniel', 'arap', 'Moi', ',', 'aliyekuwa', 'rais', 'wa', 'pili', 'wa', 'Kenya', ',', 'alikuwa', 'rais', 'aliyekaa', 'mamlakani', 'kwa', 'muda', 'mrefu', 'zaidi', '-', 'miaka', '24', ',', 'na', 'rais', 'wa', 'tatu', ',', 'Mwai', 'Kibaki', 'ambaye', 'alikuwa', 'mamlakani', 'kati', 'ya', '2002-2013', ',', 'lakini', 'unapofuatilia', 'hisia', 'na', 'siasa', 'za', 'Kenya', ',', 'taswira', 'inayotawala', 'ni', 'kati', 'ya', 'familia', 'mbili-ile', 'ya', 'Kenyatta', 'na', 'ile', 'ya', 'Odinga', '.', 'Ikumbukwe', 'kwamba', 'Mzee', 'Jomo', 'Kenyatta', 'na', 'Jaramogi', 'Oginga', 'Odinga', 'walianza', 'kutawala', 'siasa', 'za', 'Kenya', 'hata', 'kabla', 'ya', 'nchi', 'ya', 'Kenya', 'kupata', 'uhuru', '.', 'Wawili', 'hawa', 'walikuwa', 'viongozi', 'shupavu', 'wa', 'jamii', 'zao-', 'Kenyatta', 'akiiongoza', 'jamii', 'ya', 'Agikuyu', 'na', 'Odinga', 'akiongoza', 'jamii', 'ya', 'Luo', '.', 'Wanasiasa', 'hawa', 'wawili', 'walifanya', 'kazi', 'kwa', 'bidii', 'bila', 'woga', 'kuwezesha', 'jamii', 'zao', 'na', 'kuzikinga', 'dhidi', 'ya', 'unyanyasaji', 'wa', 'wakoloni', 'huku', 'wakiwa', 'wamependwa', 'na', 'kutajika', 'katika', 'jamii', 'zao', 'kama', 'viongozi', 'shupavu', 'na', 'wakombazi', '.', 'Mzee', 'Jomo', 'Kenyatta', 'na', 'Jaramogi', 'Oginga', 'Odinga', 'walikuwa', 'mashuhuri', 'nchini', 'Kenya', 'katika', 'harakati', 'na', 'mapambano', 'ya', 'kupigania', 'uhuru', 'wa', 'Kenya', 'na', 'walivutia', 'uungwaji', 'mkono', 'kutoka', 'kwa', 'viongozi', 'wengine', 'mashuhuri', 'nchini', 'Kenya', 'katika', 'harakati', 'za', 'ukombozi', '.', 'Hata', 'hivyo', ',', 'mambo', 'yalibadilika', 'baada', 'ya', 'uhuru', '.', 'Katika', 'kitabu', 'chake', ',', 'Not', 'yet', 'Uhuru', ',', 'Odinga', 'anaeleza', 'kuwa', 'kwa', 'Wakenya', 'wengi', ',', 'uhuru', 'ulikuwa', 'bado', 'haujapatikana', 'kwa', 'sababu', 'mkoloni', 'mpya', 'alikuwa', 'amechukua', 'nafasi', 'ya', 'mwingine', '.', 'Kilichofuatia', 'baada', 'ya', 'uhuru', 'ni', 'kujiuzulu', 'kwa', 'Odinga', 'kutoka', 'serikali', 'ya', 'Kenyatta', 'na', 'hatua', 'za', 'kisiasa', 'zilizofuata', 'zilikuwa', 'ni', 'mabishano', 'makali', 'ya', 'kihistoria', 'baina', 'ya', 'familia', 'hizi', 'mbili', 'mashuhuri', 'nchini', 'Kenya', 'kwa', 'miongo', 'takriban', 'mitano', '.', 'Daniel', 'Moi', 'alipotarajiwa', 'kumrithi', 'Jomo', 'Kenyatta', 'Miaka', 'miwili', 'kabla', 'ya', 'kifo', 'cha', 'rais', 'wa', 'kwanza', 'wa', 'Kenya', ',', 'Jomo', 'Kenyatta', ',', 'mnamo', 'Agosti', '1978', ',', 'na', 'baada', 'ya', 'uchaguzi', 'uliokuwa', 'na', 'ushindani', 'mkali', 'wa', 'mwaka', 'wa', '1974', ',', \"kinyang'anyiro\", 'kilifikia', 'kilele', ',', 'huku', 'washidani', 'wakibishana', 'na', 'kutupiana', 'maneno', 'kwenye', 'mikutano', 'ya', 'hadhara', 'kuwaonya', 'wananchi', 'wa', 'Kenya', 'dhidi', 'ya', 'hatari', 'za', 'uwezekano', 'wa', 'Daniel', 'arap', 'Moi', 'kumrithi', 'Jomo', 'Kenyatta', '.', 'Kikundi', 'hiki', 'kilitaka', 'katiba', 'kubadilishwa', 'ili', 'makamu', 'wa', 'rais', 'asiwe', 'na', 'uwezo', 'wa', 'kumrithi', 'rais', 'iwapo', 'rais', 'atakufa', ',', 'mabadiliko', 'ambayo', 'hayangemruhusu', 'Moi', 'kumrithi', 'Jomo', 'Kenyatta', '.', 'Moi', 'alitoka', 'kabila', 'la', 'Wakalenjin', 'kutoka', 'Baringo', 'na', 'kikundi', 'kilichofahamika', 'kama', '``', 'Kiambu', 'Mafia', \"''\", 'kilimdharau', 'na', 'hakikuweza', 'kuwaza', 'uwezekano', 'wa', 'Moi', 'kuwa', 'rais', 'wa', 'Kenya', '.', 'Baada', 'ya', 'hapo', ',', 'yeye', 'pamoja', 'na', 'mtoto', 'wake', ',', 'Raila', ',', 'walishutumiwa', 'kwa', 'makosa', 'ya', 'kila', 'aina', ',', 'kutupwa', 'kuzuizini', ',', 'kuzuiliwa', 'nyumbani', ',', 'na', 'kuzuiliwa', 'kuzungumza', 'kwenye', 'hadhara', 'ama', 'kuandaa', 'mikutano', 'na', 'shutuma', 'nyingine', 'nyingi', 'zikiwafuata', '.', 'Hatimaye', ',', 'Jomo', 'Kenyatta', 'alimteua', 'Daniel', 'arap', 'Moi', 'kuwa', 'makamu', 'wake', 'na', 'kuonyesha', 'ni', 'nani', 'aliyemtaka', 'kama', 'mrithi', '.', 'Moi', ',', 'aliyetoka', 'kwenye', 'jamii', 'iliyoonekana', 'ndogo-', 'Kalenjin-', 'wakati', 'huo', ',', 'alionekana', 'kama', 'chaguo', 'zuri', 'na', 'kama', 'ngazi', 'ya', 'kuleta', 'jamii', 'pamoja', 'baina', 'ya', 'makundi', 'mbali', 'mbali', '.', 'Uhusiano', 'baina', 'ya', 'faimilia', 'ya', 'Odinga', 'na', 'ile', 'ya', 'Kenyatta', 'haukuweza', 'kuwa', 'mzuri', 'kisiasa', '.', 'Baada', 'ya', 'Daniel', 'Moi', 'kuchukua', 'hatamu', 'za', 'uongozi', 'aliendeleza', 'sera', 'za', 'Mzee', 'Kenyatta', 'kisiasa', 'na', 'kuitenga', 'familia', 'ya', 'Odinga', '.', 'Raila', 'Odinga', 'na', 'babake', ',', 'Jaramogi', ',', 'walitajwa', 'kwenye', 'jaribio', 'la', 'kuipindua', 'serikali', 'ya', 'Kenya', 'lililofanyika', 'mwaka', 'wa', '1982', 'ambalo', 'halikufaulu', '.', 'Raila', 'alizuiliwa', 'kwa', 'miaka', 'sita', 'bila', 'kufikishwa', 'mahakamani', 'lakini', 'aliachiliwa', 'mwaka', 'wa', '1989', '.', 'Hata', 'hivyo', ',', 'Raila', 'alifungwa', 'tena', 'karibu', 'mwaka', 'mmoja', 'baadaye', ',', 'wakati', 'huu', ',', 'pamoja', 'na', 'wakereketwa', 'wengine', 'wa', 'kupigania', 'mfumo', 'wa', 'vyama', 'vingine', 'kama', 'vile', 'Kenneth', 'Matiba', 'na', 'Charles', 'Rubia', '.', 'Aliachiliwa', 'mwaka', 'wa', '1991', 'na', 'akatorokea', 'Norway', ',', 'akihofia', 'maisha', 'yake', '.', 'Mfumo', 'wa', 'vyama', 'vingi', 'Chanzo', 'cha', 'picha', ',', 'AFP/Getty', 'Images', 'Baada', 'ya', 'kurejeshwa', 'kwa', 'mfumo', 'wa', 'vyama', 'vingi', 'nchini', 'Kenya', ',', 'Raila', 'Odinga', 'alirudi', 'Kenya', 'na', 'kujiunga', 'na', 'Forum', 'for', 'the', 'Restoration', 'of', 'Democracy', '(', 'FORD', ',', 'wakati', 'huo', 'ikiongozwa', 'na', 'babake', ',', 'Oginga', 'Odinga', ')', '.', 'Kilichofuata', 'baadaye', 'ni', 'msururu', 'wa', 'kushirikiana', 'kwa', 'vyama', ',', 'miungano', ',', 'na', 'kuundwa', 'kwa', 'vyama', 'vipya', '.', 'Wakati', 'mmoja', ',', 'kwa', 'mshangao', 'mkubwa', ',', 'Raila', 'aliungana', 'na', 'Moi', 'na', 'kuunda', 'chama', 'kipya', 'kilichojulikana', 'kama', 'New', 'Kanu', '.', 'Hali', 'hii', 'ilipelekea', 'baadhi', 'ya', 'wandani', 'wake', ',', 'wapinzani', 'na', 'wafuasi', 'sugu', 'kumuita', 'mtu', 'ambaye', 'yuko', 'tayari', '``', 'kulala', 'na', 'shetani', \"''\", 'ili', 'kufikia', 'lengo', 'lake', 'la', 'kuwa', 'rais', 'wa', 'Kenya', '.', 'Alifanya', 'kazi', 'kama', 'waziri', 'wa', 'kawi', 'katika', 'serikali', 'ya', 'mwisho', 'ya', 'Moi', '.', 'Kinachobainika', 'katika', 'historia', 'ya', 'siasa', 'za', 'Kenya', ',', 'wakati', 'wa', 'hatamu', 'za', 'uongozi', 'wa', 'Moi', ',', 'familia', 'ya', 'Kenyatta', 'haikujishughulisha', 'na', 'siasa', ';', 'badala', 'yake', 'ilizingatia', 'shughuli', 'za', 'kuunda', 'mtandao', 'wa', 'biashara', '.', 'Chanzo', 'cha', 'picha', ',', 'AFP', 'Maelezo', 'ya', 'picha', ',', 'Marehemu', 'Rais', 'Moi', '(', 'kulia', ')', 'alimkuza', 'Rais', 'Uhuru', 'Kenyatta', '(', 'kushoto', ')', 'kisiasa', 'Halafu', ',', 'bila', 'kutarajiwa', ',', 'Moi', 'alimteua', 'Uhuru', 'Kenyatta', 'kama', 'mrithi', 'wake', '.', 'Hili', 'lilifanya', 'wanasiasa', 'wengi', 'kuondoka', 'kwenye', 'chama', 'tawala', 'kwa', 'sababu', 'ya', 'kuhisi', 'kwamba', 'Uhuru', 'Kenyatta', 'alikuwa', 'na', 'ujuzi', 'wa', 'kiwango', 'cha', 'chini', 'katika', 'serikali', 'kuchukua', 'nafasi', 'hii', '.', 'Baadaye', ',', 'Uhuru', 'Kenyatta', 'aliwania', 'Urais', 'kama', 'mgombea', 'kwa', 'tiketi', 'ya', 'Kanu', 'katika', 'uchaguzi', 'mkuu', 'wa', 'mwaka', 'wa', '2002', 'dhidi', 'ya', 'Mwai', 'Kibaki', ',', 'ambaye', 'wakati', 'huo', 'aliungwa', 'mkono', 'na', 'Raila', 'Odinga', '.', 'Kenyatta', 'alishindwa', 'vibaya', 'na', 'akawa', 'kiongozi', 'wa', 'upinzani', '.', 'Chanzo', 'cha', 'picha', ',', 'AFP', 'Maelezo', 'ya', 'picha', ',', 'Raila', 'Odinga', '(', 'kulia', ')', 'na', 'Rais', 'Mstaafu', 'Mwai', 'Kibaki', '(', 'kushoto', ')', 'Hata', 'ingawa', 'alimfanyia', 'kampeni', 'sana', 'Mwai', 'Kibaki', 'hadi', 'kuchaguliwa', 'kuwa', 'Rais', ',', 'Odinga', 'aliachwa', 'bila', 'wadhifa', 'wowote', 'jambo', 'ambalo', 'lilimuudhi', 'kisiasa', 'na', 'kuona', 'kama', 'aliyechezewa', 'shere', '.', 'Vita', 'na', 'hali', 'ya', 'wasiwasi', 'ilimalizika', 'kutokana', 'na', 'makubaliano', 'baina', 'ya', 'Raila', 'Odinga', 'na', 'Mwai', 'Kibaki', 'ambapo', 'serikali', 'ya', 'muungano', 'iliundwa', 'mwaka', 'wa', '2008', 'huku', 'Mwai', 'Kibaki', 'akiwa', 'rais', 'na', 'Raila', 'Odinga', 'akiwa', 'Waziri', 'Mkuu', '.', 'Uhuru', 'Kenyatta', 'alikuwa', 'mojawapo', 'wa', 'watu', 'walioshtakiwa', 'kwenye', 'mahakama', 'ya', 'kimataifa', 'ya', 'ICC', 'kwa', 'kuchochea', 'michafuko', 'nchini', 'Kenya', 'lakini', 'kesi', 'yake', 'haikuendelea', 'kwa', 'ukosefu', 'wa', 'ushahidi', 'na', 'mashahidi', '.', 'Kuelekea', 'uchaguzi', 'mkuu', 'wa', 'mwaka', 'wa', '2013', ',', 'Kenyatta', ',', 'ambaye', 'sasa', 'alikuwa', 'kiongozi', 'wa', 'muungano', 'mpya', ',', 'Jubilee', ',', 'alishindana', 'na', 'Raila', 'kwa', 'mara', 'nyingine', ',', '(', 'wakishirikiana', 'na', 'William', 'Ruto', 'ambaye', 'walikuwa', 'wameshtakiwa', 'naye', 'kwenye', 'mahakama', 'ya', 'ICC', ')', 'ambaye', 'pia', 'alikuwa', 'ameunda', 'muungano', 'mkubwa', ',', 'Coalition', 'For', 'Reform', 'and', 'Democracy', '(', 'CORD', ')', '.', 'Chanzo', 'cha', 'picha', ',', 'AFP', 'Maelezo', 'ya', 'picha', ',', 'Bw', 'Kenyatta', 'na', 'Bw', 'William', 'Ruto', 'waliungana', 'katika', 'uchaguzi', 'mkuu', 'wa', 'mwaka', '2013', 'Ulikuwa', 'mchuano', 'mkubwa', 'lakini', 'mwishowe', ',', 'na', 'hata', 'ingawa', 'kulikuwepo', 'na', 'malalamiko', 'kutoka', 'kwa', 'Raila', 'Odinga', 'kuhusiana', 'na', 'uchaguzi', 'huo', ',', 'Uhuru', 'Kenyatta', 'alitangazwa', 'mshindi', 'katika', 'uchaguzi', 'na', 'kuunda', 'serikali', 'na', 'naibu', 'wake', 'akiwa', 'William', 'Ruto', '.', 'Mnamo', 'Machi', '9', ',', '2018', ',', 'rais', 'Uhuru', 'Kenyatta', 'na', 'mpinzani', 'wake', 'mkuu', ',', 'Raila', 'Odinga', ',', 'katika', 'hatua', 'ya', 'kushangaza', ',', 'walijitokeza', 'nje', 'ya', 'jumba', 'la', 'Harambee', '-', 'makao', 'makuu', 'ya', 'serikali', '-', 'kutangaza', 'hatua', 'ya', 'kusitisha', 'uhasama', 'wao', 'wa', 'kisiasa', 'na', 'kuamua', 'kushirikiana', 'katika', 'kuendeleza', 'taifa', '.', 'Baadaye', ',', 'Raila', ',', 'ambaye', 'alikuwa', 'amefanikiwa', 'kufutiliwa', 'mbali', 'kwa', 'ushindi', 'wa', 'rais', 'Kenyatta', 'mnamo', 'Agosti', '8', ',', '2017', 'kwenye', 'Mahakama', 'ya', 'Kilele', 'ya', 'Kenya', ',', 'na', 'baadaye', 'kutoshiriki', 'kwenye', 'uchaguzi', 'wa', 'rais', 'uliofuta', 'mnamo', 'October', '26', ',', '2017', ',', 'alianza', 'kuzungumzia', 'haja', 'ya', 'kuwa', 'na', 'mabadiliko', 'ya', 'kikatiba', '.', 'Hivi', 'ndivyo', 'shughuli', 'za', 'upatanishi', 'baina', 'ya', 'Uhuru', 'Kenyatta', 'na', 'Raila', 'Odinga', 'zilivyoanza', 'baada', 'ya', 'uchaguzi', 'wa', 'mwaka', 'wa', '2017', 'ambao', 'ulirudiwa', 'kutokana', 'na', 'kufutiliwa', 'mbali', 'na', 'mahakama', ',', 'na', 'ambao', 'Raila', 'Odinga', 'alikataa', 'kushiriki', '.', 'Itakumbukwa', 'kuwa', 'Jopo', 'la', 'Maridhiano', 'nchini', 'Kenya', '(', 'BBI', ')', 'liliundwa', 'kutokana', 'na', 'tofauti', 'zilizozuka', 'baina', 'ya', 'Rais', 'Uhuru', 'Kenyatta', 'na', 'kiongozi', 'wa', 'upinzani', 'Raila', 'Odinga', 'katika', 'uchaguzi', 'mkuu', 'wa', 'Kenya', 'mwaka', 'wa', '2017', 'ambazo', 'zilitishia', 'kuleta', 'utata', 'nchini', 'Kenya', '.', 'Baadaye', ',', 'Rais', 'Uhuru', 'alipoapishwa', 'na', 'kuingia', 'afisini', ',', 'waliamua', 'kuzika', 'tofauti', 'zao', 'na', 'kukutana', 'mnamo', 'Machi', '9', ',', '2018', 'na', 'kuorodhesha', 'ajenda', 'tisa', 'ambazo', 'walisema', 'ndizo', 'zilizowafanya', 'kuanza', 'kufanya', 'kazi', 'pamoja', 'kwa', 'minajili', 'ya', 'kuboresha', 'Kenya', 'na', 'siasa', 'zake', '.', 'Chanzo', 'cha', 'picha', ',', 'AFP', 'Maelezo', 'ya', 'picha', ',', 'Ripoti', 'ya', 'BBI', 'ilizinduliwa', 'kufuatia', 'hisia', 'tofauti', 'Ajenda', 'za', 'kuundwa', 'kwa', 'Jopo', 'la', 'Maridhiano', '(', 'BBI', ')', 'ni', 'pamoja', 'na', 'jinsi', 'ya', 'kumaliza', 'migawanyiko', 'ya', 'kikabila', ',', 'kuwashirikisha', 'watu', 'wote', 'kuhusu', 'masuala', 'ya', 'utawala', 'na', 'siasa', 'za', 'Kenya', ',', 'jinsi', 'ya', 'kushughulikia', 'suala', 'la', 'kumaliza', 'uhasama', 'wa', 'kisiasa', 'unaotokea', 'wakati', 'wa', 'uchaguzi', 'mkuu', ',', 'jinsi', 'ya', 'kuimarisha', 'amani', 'na', 'usalama', ',', 'kukabiliana', 'na', 'janga', 'la', 'ufisadi', ',', 'jinsi', 'ya', 'kukabiliana', 'na', 'ukosefu', 'wa', 'maadili', 'ya', 'kitaifa', ',', 'maswala', 'ya', 'majukumu', 'na', 'haki', 'za', 'raia', ',', 'maswala', 'ya', 'kuwajibika', 'kwa', 'pamoja', 'na', 'jinsi', 'ya', 'kuendeleza', 'serikali', 'za', 'ugatuzi', '.', 'Viongozi', 'hawa', 'wawili', 'wa', 'Kenya', 'wenye', 'ushawishi', 'mkubwa', 'zaidi', 'nchini', 'humo', 'baadaye', 'waliunda', 'kamati', 'ya', 'watu', 'kumi', 'na', 'nne', 'ambao', 'waliandaa', 'mikutano', 'ya', 'umma', 'kwenye', 'majimbo', '47', 'kote', 'nchini', 'Kenya', ',', 'ili', 'kupokea', 'maoni', 'kuhusu', 'mabadiliko', 'wayatakayo', 'Wakenya', '.', 'Kamati', 'hiyo', 'ilikusanya', 'maoni', 'kutoka', 'kwa', 'wakenya', 'wapatao', 'elfu', 'saba', 'na', 'kuandaa', 'ripoti', 'ambayo', 'sasa', 'inaendelea', 'kujadiliwa', 'zaidi', 'na', 'Wakenya', 'ili', 'kuiboresha', '.', '``', 'Wanasema', 'ati', 'BBI', 'ni', 'ya', 'kutafutia', 'Uhuru', 'kazi', '.', 'Mimi', 'sitaki', 'kazi', ',', 'nimechoka', '.', 'Eeeh', ',', 'BBI', 'ni', 'ya', 'kuhakikisha', 'ya', 'kwamba', 'hakuna', 'Mkenya', 'atamwaga', 'damu', 'tena', 'katika', 'nchi', 'yetu', 'kwa', 'sababu', 'ya', 'siasa', '.', 'Tuko', 'pamoja', '?', \"''\", 'aliwahi', 'kusema', 'rais', 'wa', 'Kenya', 'Uhuru', 'Kenyatta', '.', 'Kuna', 'tetesi', 'kwamba', 'mpango', 'wa', 'mabadiliko', 'ya', 'katiba', 'kutokana', 'na', 'jopo', 'la', 'BBI', 'ni', 'njama', 'ya', 'kuendeleza', 'uongozi', 'wa', 'rais', 'Kenyatta', 'na', 'kiongozi', 'wa', 'upinzani', 'Raila', 'Odinga', 'kwenye', 'siasa', 'za', 'Kenya', '.', 'Pia', ',', 'kuna', 'wadadisi', 'wanaodai', 'kuwa', 'kuna', 'njama', 'ya', 'kupitia', 'kwa', 'mchakato', 'huu', ',', 'kumhusisha', 'mwanawe', 'aliyekuwa', 'rais', 'wa', 'pili', 'wa', 'Kenya', 'Daniel', 'Moi', ',', 'Gideon', 'Moi', ',', 'katika', 'serikali', 'ambayo', 'itakuwa', 'na', 'nafasi', 'zaidi', 'kwenye', 'serikali', 'kuu', '.', 'Chanzo', 'cha', 'picha', ',', 'Getty', 'Images', 'Maelezo', 'ya', 'picha', ',', 'Bwana', 'Odinga', 'na', 'Bwana', 'Kenyatta', 'walishikana', 'mikono', 'kama', 'ishara', 'ya', 'kumaliza', 'uhasama', 'wa', 'kisiasa', 'kufuatia', 'uchaguzi', 'wenye', 'utata', 'wa', 'mwaka', '2017', '.', 'Historia', 'hii', 'ya', 'siasa', 'za', 'Kenya', 'inatufahamisha', 'mambo', 'kadhaa', '.', 'Kwanza', ',', 'kuna', 'mirathi', 'mingi', 'ya', 'kiasa', 'nchini', 'Kenya', '.', 'Pamoja', 'na', 'kwamba', 'kuna', 'ushindani', 'mkubwa', 'katika', 'siasa', 'za', 'Kenya', 'mara', 'kwa', 'mara', 'ambao', 'unatawaliwa', 'na', 'kuendeshwa', 'na', 'pesa', 'nyingi', ',', 'ushindani', 'huu', 'huzunguka', 'familia', 'za', 'Kenyatta', 'na', 'Raila', 'Odinga', 'kama', 'ilivyokuwa', 'kwenye', 'uchaguzi', 'mdogo', 'wa', 'mwaka', 'wa', '1966', '.', 'Aidha', ',', 'misingi', 'ya', 'jamii', 'ama', 'kabila', 'inaweza', 'kumsukuma', 'muaniaji', 'kwa', 'kiasi', 'fulani', 'lakini', 'si', 'kote', '.', 'Mnamo', 'mwaka', 'wa', '2013', 'kwa', 'mfano', ',', 'Raila', 'Odinga', 'alimshinda', 'mmoja', 'wa', 'washindani', 'wake', 'Musalia', 'Mudavadi', 'katika', 'kura', 'kwenye', 'maeneo', 'ya', 'anakotoka', 'katika', 'jamii', 'ya', 'Luhya', '.', 'Hali', 'hii', 'iliwezekana', 'kwa', 'sababau', 'Raila', 'Odinga', 'alionekana', 'kama', 'kiongozi', 'shupavu', 'wa', 'upinzani', ',', 'na', 'uhusiano', 'wa', 'kisiasa', 'kati', 'ya', 'Mudavadi', 'na', 'Uhuru', 'Kenyatta', '-', 'uhusiano', 'ambao', 'ulikuwa', 'wa', 'muda', 'mfupi-', 'ulizua', 'maswali', 'kwamba', 'alikuwa', 'mradi', 'wa', 'kisaisa', 'wa', 'Uhuru', 'Kenyatta', '.', 'Kwa', 'upande', 'wa', 'Uhuru', 'Kenyatta', ',', 'pia', 'aliweza', 'kujibadilisha', 'na', 'kuonekana', 'kama', 'kiongozi', 'wa', 'jamii', 'ya', 'Agikuyu', 'hata', 'baada', 'ya', 'kushindwa', 'vibaya', 'kwenye', 'uchaguzi', 'wa', 'mwaka', '2002', 'pia', 'kunaonyesha', 'hili', 'katika', 'siasa', 'za', 'Kenya', '.', 'Aidha', ',', 'kuwa', 'na', 'pesa', 'na', 'raslimali', 'za', 'kufanyia', 'kampeini', 'ni', 'jambo', 'muhimu', '.', 'Familia', 'za', 'Kenyatta', 'na', 'Odinga', 'ni', 'mojawapo', 'za', 'familia', 'tajiri', 'na', 'ukweli', 'kwamba', 'siasa', 'za', 'Kenya', 'zinasukumwa', 'na', 'uwezo', 'wa', 'kifedha', 'na', 'raslimali', 'kumesaidia', 'familia', 'hizi', 'mbili', 'kuendelea', 'kutawala', 'siasa', '.', 'Hii', 'ndio', 'sababu', 'kuna', 'tetesi', 'kwamba', 'Naibu', 'Rais', 'William', 'Ruto', '(', 'pia', 'ana', 'uwezo', 'mkubwa', 'wa', 'kifedha', 'sasa', ')', 'ameanza', 'kujitenga', 'na', 'rais', 'Kenyatta', 'na', 'Raila', 'Odinga', 'kujipanga', 'kwa', 'siasa', 'za', 'mwaka', 'wa', '2022', 'ili', 'anyakue', 'Urais', 'nchini', 'Kenya', '.', 'Kwa', 'zaidi', 'ya', 'miongo', 'mitano', 'ya', 'siasa', 'na', 'mabadiliko', 'yasiyotarajiwa', 'na', 'wakati', 'mwingine', 'yakitokea', 'yasiyotarajiwa', 'na', 'ya', 'kushangaza', ',', 'uaminifu', 'na', 'usaliti', ',', 'ukora', ',', 'ujanja', 'na', 'mbwembwe', 'za', 'kisiasa', ',', 'siasa', 'za', 'Kenya', 'bado', 'zinaonyesha', 'kutawaliwa', 'na', 'msingi', 'mmoja', ':', 'ushindani', 'baina', 'ya', 'familia', 'za', 'Kenyatta', 'na', 'ile', 'ya', 'Raila', 'Odinga', '.']\n",
      "\n",
      " Number of Words:  2007\n"
     ]
    }
   ],
   "source": [
    "file=\"20sep27_1.txt\"\n",
    "\n",
    "# calling the function and storing the contents in a text variable \n",
    "text = get_document(\"https://www.bbc.com/swahili/habari-54315452\")\n",
    "\n",
    "# calling the store_ document function \n",
    "store_document(doc=text,name=file)\n",
    "\n",
    "#add the words in this file to the total_corpus_words, to keep count of the number of words in the corpus\n",
    "total_corpus_words+=total_words(file)"
   ]
  },
  {
   "cell_type": "code",
   "execution_count": 102,
   "metadata": {},
   "outputs": [
    {
     "data": {
      "text/plain": [
       "336513"
      ]
     },
     "execution_count": 102,
     "metadata": {},
     "output_type": "execute_result"
    }
   ],
   "source": [
    "total_corpus_words"
   ]
  },
  {
   "cell_type": "code",
   "execution_count": 103,
   "metadata": {},
   "outputs": [
    {
     "name": "stdout",
     "output_type": "stream",
     "text": [
      "['Uingereza', ':', 'Daktari', 'huko', 'Gamston', 'hawezi', 'kuchangia', 'damu', \"'kwakuwa\", 'mke', 'wake', 'ni', 'Mwafrika', \"'\", '27', 'Septemba', '2020', 'Chanzo', 'cha', 'picha', ',', 'Francis', 'Gĩthae', 'Murĩithi', 'Maelezo', 'ya', 'picha', ',', 'Francis', 'Gĩthae', 'Murĩithi', 'ameelezea', 'sheria', 'hiyo', 'kama', '``', 'isiokuwa', 'na', 'msingi', \"''\", 'Daktari', 'raia', 'wa', 'Kenya', 'nchini', 'Uingereza', 'amesema', 'kuna', 'sheria', 'isiyokuwa', 'na', 'msingi', 'inayomzuia', 'kutochangia', 'damu', 'kwasababu', 'ameoa', 'mke', 'raia', 'wa', 'Kenya', '.', 'Francis', 'Gĩthae', 'Murĩithi', ',', 'ametoa', 'wito', 'wa', 'kubadilishwa', 'kwa', 'sheria', 'hiyo', 'ili', 'kutia', 'moyo', 'wachangia', 'wengi', 'zaidi', 'raia', 'wa', 'Waafrika', '.', 'Wizara', 'ya', 'Afya', 'Uingereza', 'inasema', 'kwamba', 'ni', '``', 'marufuku', 'kwa', 'watu', 'walioa', 'au', 'kufanya', 'mapenzi', 'na', 'mtu', 'ambaye', 'anashukiwa', 'kuwa', 'huenda', 'alishiriki', 'mapenzi', 'na', 'watu', 'wanaoishi', 'nchi', 'zilizoathirika', 'na', 'ugonjwa', 'wa', 'virusi', 'vya', 'ukimwi', 'ikiwemo', \"'nchi\", 'nyingi', 'tu', 'za', 'Afrika', \"'\", 'kuchangia', 'damu', '.', \"''\", 'Kituo', 'cha', 'utoaji', 'damu', 'na', 'upandikizaji', 'Uingereza', ',', 'kimesema', 'kinaweza', 'kuangalia', 'tena', 'kesi', 'ya', 'Murĩithi', '.', 'Daktari', 'Murĩithi', ',', 'ambaye', 'anafanyakazi', 'kama', 'mtalaamu', 'wa', 'uzazi', 'na', 'maradhi', 'ya', 'kina', 'mama', 'huko', 'East', 'Midlands', ',', 'alisema', 'yeye', 'na', 'mke', 'wake', 'wa', 'miaka', 'miaka', 'saba', 'walikuwa', 'katika', 'mahusiano', 'ya', 'mume', 'na', 'mke', 'mmoja', 'na', 'hawajawahi', 'kuachana', '.', 'Kama', 'daktari', ',', 'anasema', 'tayari', 'amefanyiwa', 'vipimo', 'tangu', 'alipomuoa', 'mke', 'wake', 'na', 'kwamba', 'hajawahi', 'kupatikana', 'na', 'virusi', 'vya', 'ukimwi', '.', 'Lakini', 'anasema', 'aliarifiwa', 'kuwa', 'anaweza', 'tu', 'kuchangia', 'damu', 'ikiwa', 'mke', 'wake', 'pia', 'naye', 'atapimwa', 'virusi', 'vya', 'ukimwi', 'na', 'shirika', 'hilo', 'hilo', 'la', 'utoaji', 'damu', 'au', 'kama', 'watajizuia', 'kushiriki', 'tendo', 'la', 'ndo', 'kwa', 'miezi', 'mitatu', '.', \"'Kizuizi\", 'katika', 'uchangiaji', 'wa', 'damu', \"'\", 'Anasema', 'tayari', 'mke', 'wake', 'alipimwa', 'na', 'kuthibitishwa', 'kutokuwa', 'na', 'virusi', 'vya', 'ukimwi', 'wakati', 'akiwa', 'mjamzito', 'lakini', 'alipojaribu', 'kuchangia', 'damu', 'aliambiwa', 'kwamba', 'damu', 'yake', 'haiwezi', 'kuchukuliwa', '.', 'Murĩithi', ',', '38', ',', 'ambaye', 'kwa', 'sasa', 'anaishi', 'na', 'Gamston', ',', 'Nottinghamshire', 'na', 'damu', 'yake', 'ni', 'ile', 'nadra', 'kupatikana', 'ya', 'kundi', 'la', 'AB+', ',', 'alisema', ':', '``', 'Ni', 'sheria', 'isio', 'na', 'msingi', 'inayozuia', 'uchangiaji', 'wa', 'damu', '.', 'Ikiwa', 'utafungia', 'watu', 'kama', 'mimi', ',', 'na', 'uendelee', 'kusema', 'kwamba', 'Waafrika', 'hawajitokezi', 'kuchangia', 'damu', ',', 'itatufanya', 'tuonekane', 'wabaya', 'wakati', 'ambapo', 'mfumo', 'ndio', 'kizuizi', '.', '``', 'Sitaki', 'nionekane', 'kama', 'msumbufu', 'lakini', 'mfumo', 'wa', 'uchangiaji', 'damu', 'wa', 'Uingereza', 'unahitajika', 'kubadilishwa', 'ili', 'kuruhusu', 'watu', 'wengi', 'zaidi', 'kuweza', 'kuchangia', 'damu', '.', '``', 'Ninafuraha', 'kwamba', 'wanaupitia', 'tena', ',', 'wanahitajika', 'kupitisha', 'mfumo', 'wa', 'kuangalia', 'mtu', 'mmoja', 'mmoja', '.', \"''\", 'Chanzo', 'cha', 'picha', ',', 'Getty', 'Images', 'Maelezo', 'ya', 'picha', ',', 'Wizara', 'ya', 'afya', 'imekuwa', 'ikitoa', 'wito', 'wa', 'mara', 'kwa', 'mara', 'kwa', 'watu', 'weusi', 'kuchangia', 'damu', 'Wizara', 'ya', 'afya', 'Uingereza', 'imekuwa', 'ikitoa', 'wito', 'mara', 'kwa', 'mara', 'kwa', 'watu', 'weusi', 'kujitokeza', 'kwa', 'wingi', 'zaidi', 'na', 'kuchangia', 'damu', 'kwasababu', 'wao', 'ndio', 'wenye', 'uwezekano', 'wa', 'juu', 'wa', 'kuwa', 'na', 'aina', 'nadra', 'sana', 'za', 'damu', '.', 'Wizara', 'imesema', 'itakuwa', 'yenye', 'furaha', 'kupitia', 'tena', 'kesi', 'ya', 'daktari', 'Murĩithi', 'hasa', 'kwa', 'kuzingatia', 'kuwa', 'mke', 'wake', 'hana', 'virusi', 'vya', 'ukimwi', '.', 'Mshauri', 'wa', 'Wizara', 'ya', 'Afya', 'Uingereza', ',', 'Su', 'Brailsford', ',', 'amesema', 'sheria', 'za', 'kuwezesha', 'na', 'kutowezesha', 'uchangiaji', 'wa', 'damu', ',', 'msingi', 'wake', 'ni', 'ushauri', 'wa', 'kitaalamu', 'uliolenga', 'kupunguza', 'hatari', 'kwa', 'wanaopokea', 'damu', 'hiyo', '.', 'Lakini', 'aliongeza', ':', '``', 'Tunajua', 'kwamba', 'kutathminiwa', 'kwa', 'hatari', 'zilizopo', 'kwa', 'mtu', 'mmoja', 'mmoja', ',', 'kunaweza', 'kuruhusu', 'watu', 'wengi', 'zaidi', 'kama', 'daktari', 'Murĩithi', 'kuchangia', 'damu', 'kwa', 'njia', 'salama', '.', '``', 'Tumepanga', 'kupitia', 'upya', 'sera', 'hii', 'ambayo', 'tuna', 'matumaini', 'itaanza', 'kufanyakazi', 'kabla', 'ya', 'mwisho', 'wa', 'mwaka', 'huu', '.', \"''\"]\n",
      "\n",
      " Number of Words:  535\n"
     ]
    }
   ],
   "source": [
    "file=\"20sep27_2.txt\"\n",
    "\n",
    "# calling the function and storing the contents in a text variable \n",
    "text = get_document(\"https://www.bbc.com/swahili/habari-54317042\")\n",
    "\n",
    "# calling the store_ document function \n",
    "store_document(doc=text,name=file)\n",
    "\n",
    "#add the words in this file to the total_corpus_words, to keep count of the number of words in the corpus\n",
    "total_corpus_words+=total_words(file)"
   ]
  },
  {
   "cell_type": "code",
   "execution_count": 104,
   "metadata": {},
   "outputs": [
    {
     "data": {
      "text/plain": [
       "337048"
      ]
     },
     "execution_count": 104,
     "metadata": {},
     "output_type": "execute_result"
    }
   ],
   "source": [
    "total_corpus_words"
   ]
  },
  {
   "cell_type": "code",
   "execution_count": 105,
   "metadata": {},
   "outputs": [
    {
     "name": "stdout",
     "output_type": "stream",
     "text": [
      "['Je', 'wazazi', 'Kenya', 'wamejiandaa', 'vipi', 'iwapo', 'shule', 'zitafunguliwa', '?', 'Ni', 'miezi', 'saba', 'sasa', 'tangu', 'kuanza', 'kwa', 'mlipuko', 'wa', 'janga', 'la', 'corona', 'na', 'kusababisha', 'shule', 'zote', 'kufungwa', 'nchini', 'Kenya', 'na', 'kote', 'duniani', '.', 'Hatua', 'hii', 'ya', 'kufunga', 'shule', 'pamoja', 'na', 'vyuo', 'vyote', 'ilikuwa', 'ni', 'njia', 'ya', 'kudhibiti', 'maambukizi', 'ya', 'virusi', 'hivyo', '.', 'Japo', 'awali', 'serikali', 'ilitangaza', 'kwamba', 'shule', 'zitafunguliwa', 'tena', 'mwezi', 'Januari', 'mwaka', 'ujao', 'wa', '2021', ',', 'hili', 'sasa', 'linaelekea', 'kubadilika', 'baada', 'ya', 'wizara', 'ya', 'afya', 'kutangaza', 'kwamba', 'idadi', 'ya', 'maambukizi', 'pamoja', 'na', 'vifo', 'vitokanavyo', 'na', 'Covid-19', 'inaendelea', 'kupungua', '.', 'Katika', 'kipindi', 'chote', 'ambacho', 'wanafunzi', 'wamekuwa', 'majumbani', 'kumetokea', 'changamoto', 'kadhaa', 'kama', 'vile', 'mimba', 'za', 'mapema', '.', 'Changamoto', 'nyingine', 'ni', 'wamilki', 'na', 'walimu', 'wa', 'shule', 'za', 'binafsi', 'kupoteza', 'ajira', 'na', 'huku', 'wengi', 'kama', 'vile', 'walimu', 'na', 'wanafunzi', 'waliokuwa', 'wakisubiri', 'mitihani', 'yao', 'ya', 'mwisho', 'wa', 'mwaka', 'wakiachwa', 'bila', 'kujua', 'la', 'kufanya', '.', 'Huenda', 'sababu', 'hizi', 'zimechangia', 'wizara', 'ya', 'elimu', 'kuchukua', 'hatua', 'ya', 'kuanza', 'mkakati', 'wa', 'kufungua', 'tena', 'shule', ',', 'lakini', 'je', 'wazazi', 'wako', 'tayari', 'kwa', 'hili', '?', 'Brenda', 'Wekulo', 'ni', 'mzazi', 'na', 'mwalimu', 'kutoka', 'kaunti', 'ya', 'Bungoma', '.', 'Ni', 'muhimu', 'watoto', 'kurudi', 'shuleni', 'lakini', 'serikali', 'ihakikishe', 'kila', 'kitu', 'kiko', 'sawa….Wasiangalie', 'tu', 'madawati', ',', 'wazingatie', 'pia', 'usalama', 'wa', 'watoto', ',', 'kule', 'watakapocheza', 'watakapokutana', 'nje', 'ya', 'madarasa', 'na', 'uwiano', 'wa', 'walimu', 'kwa', 'wanafunzi', 'ukoje…', 'kwa', 'sababu', 'tukiangalia', 'tu', 'madarasa', ',', 'hatutakuwa', 'tumekabiliana', 'na', 'shida', 'hiyo', \"''\", '.', 'Kulingana', 'na', 'mwenyekiti', 'wa', 'muungano', 'wa', 'wazazi', ',', 'Nicholas', 'Maiyo', ',', 'wazazi', 'wako', 'tayari', 'shule', 'zifunguliwe', 'lakini', 'wao', 'wanataka', 'mambo', 'fulani', 'kwanza', 'yazingatiwe', '.', '``', 'Oktoba', 'tumesema', 'shule', 'zinaweza', 'kufunguliwa', 'iwapo', 'masharti', 'ambayo', 'yanatakiwa', 'kuwekwa', 'kwenye', 'mazingara', 'ya', 'shule', 'yapo', 'kama', 'vile', 'kuweka', 'tenki', 'la', 'kunawa', 'mikono', ',', 'barakoa', 'za', 'wanafunzi', 'wetu…', \"''\", 'Gharama', 'ambayo', 'itakuwa', 'ya', 'wazazi', 'ni', 'barakoa', 'pekee', ',', 'lakini', 'gharama', 'ya', 'maji', 'na', 'nafasi', 'ya', 'mita', 'mbili', 'kati', 'ya', 'wanafunzi', 'ni', 'gharama', 'ya', 'shule', \"''\", 'Ni', 'changamoto', 'gani', 'zilizopo', 'ikiwa', 'shule', 'zitafunguliwa', 'mapema', '?', 'Aidha', 'kuna', 'wake', 'watakaoathirika', 'ikiwa', 'shule', 'zitafunguliwa', 'mapema', 'tofauti', 'na', 'ilivyotangazwa', 'awali', '.', 'Jamii', 'ya', 'Waluhya', 'kutoka', 'Magharibi', 'mwa', 'Kenya', 'na', 'ile', 'ya', 'Wakalenjin', 'kutoka', 'bonde', 'la', 'ufa', 'kwa', 'msimu', 'huu', 'wako', 'katika', 'shughuli', 'za', 'kuwapeleka', 'watoto', 'jandoni', '.', 'Kutokana', 'na', 'tangazo', 'la', 'serikali', 'la', 'awali', 'ambalo', 'lilitoa', 'pendekezo', 'la', 'uwezekano', 'wa', 'shule', 'kufunguliwa', 'mapema', 'mwaka', 'wa', '2021', ',', 'wazazi', 'wengi', 'kutoa', 'jamii', 'hizi', 'walichukua', 'hatua', 'ya', 'kuwapeleka', 'watoto', 'wao', 'jandoni', '.', 'Kwa', 'kawaida', 'jamii', 'hizi', 'hufanya', 'shughuli', 'mwezi', 'wa', 'Agosti', 'na', 'Desemba', ',', 'lakini', 'kutokana', 'na', 'tangazo', 'hilo', 'la', 'awali', ',', 'kumekuwa', 'na', 'mabadiliko', '.', 'Joshua', 'Kenor', 'ni', 'mzazi', 'kutoka', 'mjini', 'Turbo', 'katika', 'kaunti', 'ya', 'Uasin-Gishu', '.', 'Alikuwa', 'amepanga', 'kuwapeleka', 'watoto', 'wake', 'jandoni', 'msimu', 'huu', '.', '``', 'Kwa', 'kawaida', ',', 'katika', 'jamii', 'ninayotoka', ',', 'msimu', 'ambao', 'huwa', 'tunawapeleka', 'watoto', 'jandoni', 'huwa', 'mfupi', ',', 'lakini', 'mwaka', 'huu', 'tulikuwa', 'tumejipanga', 'kutokana', 'na', 'tangazo', 'la', 'serikali', 'awali', 'la', 'shule', 'kufunguliwa', 'mwaka', '2021', '.', 'Ila', 'kutokana', 'na', 'hili', 'tangazo', 'la', 'juzi', ',', 'mipamgilo', 'yote', 'imeharibika…', 'Na', 'sio', 'tu', 'kwa', 'hilo', ',', 'sare', 'na', 'viatu', 'vya', 'shule', 'vimekuwa', 'ndogo', '.', 'Hii', 'pia', 'ni', 'gharama', 'nyingine', '.', '``', 'Tuko', 'na', 'changamoto', 'kama', 'wazazi', ',', 'wazazi', 'wengi', 'waliwapeleka', 'watoto', 'wao', 'jandoni', 'wakijua', 'kwamba', 'shule', 'zitafunguliwa', 'Januari', '.', 'Wasichana', 'wetu', 'wengine', 'walitungwa', 'mimba', 'na', 'vijana', 'wenzao', 'na', 'sheria', 'ya', 'shule', 'nchini', 'Kenya', 'inakubali', 'msichana', 'wangu', 'akipata', 'mimba', ',', 'arudi', 'shuleni', 'asome', 'akifika', 'wakati', 'wa', 'kujifungua', ',', 'ajifungue', 'kisha', 'arejee', 'shuleni', ',', 'hilo', 'hapa', 'nchini', 'Kenya', 'hatuna', 'tatizo', 'lolote', \"''\", '``', 'Kuhusu', 'jandoni', ',', 'tumeogea', 'na', 'wazazi', 'na', 'tukakubaliana', 'kuandika', 'pendekezo', 'kwa', 'wizara', 'ya', 'elimu', 'ituruhusu…', 'Wale', 'watoto', 'wetu', 'wamalize', 'jandoni', 'kwa', 'sababu', 'wanaenda', 'tu', 'kwa', 'mwezi', 'mmoja', ',', 'na', 'si', 'wengi', 'ni', 'kama', 'wawili', 'au', 'watatu', 'kwa', 'darasa', 'moja', '.', \"''\", 'Iwapo', 'shule', 'zitafunguliwa', 'inasadikiwa', 'kuwa', 'wazazi', 'watakuwa', 'na', 'kibarua', 'kigumu', 'hasa', 'wale', 'ambao', 'watoto', 'wao', 'wanasoma', 'katika', 'shule', 'za', 'binafsi', '.', 'Baadhi', 'ya', 'wamiliki', 'wa', 'shule', 'hizo', 'walibadilisha', 'majengo', 'hayo', 'na', 'kuweka', 'biashara', 'zingine', 'kama', 'vile', 'ufugaji', 'na', 'aina', 'nyingine', 'ya', 'kilimo', '.', 'Kuna', 'wengine', 'nao', 'walilazimika', 'kuuza', 'majengo', 'yao', 'ambayo', 'yalikuwa', 'ni', 'shule', '.', 'Peter', 'Ndoro', 'ni', 'Afisa', 'mkuu', 'mtendaji', 'wa', 'muungano', 'wa', 'shule', 'za', 'kibinafsi.', '``', 'Tuliagiza', 'shule', 'hizo', 'kuwaandikia', 'wazazi', 'barua', 'na', 'kuwaarifu', 'kwamba', 'wakati', 'shule', 'zitakapofunguliwa', ',', 'shule', 'hizo', 'hazitakuwepo', '.', 'Na', 'tumewashauri', 'wazazi', 'kuwapeleka', 'watoto', 'wao', 'katika', 'shule', 'zingine', 'za', 'kibinafsi', 'ama', 'zile', 'za', 'umma', '.', 'Sisi', 'kama', 'shule', 'za', 'kibinafsi', 'tumejipanga', 'na', 'kuongeza', 'nafasi', 'ambazo', 'tunahitajika', 'kuzingatia', 'kulingana', 'na', 'masharti', 'ya', 'serikali', 'na', 'kubakisha', 'zingine', 'ambazo', 'tutawapa', 'wanafunzi', 'ambao', 'shule', 'zao', 'zilifungwa', \"''\", 'Wizara', 'ya', 'elimu', 'imeamuru', 'shule', 'ambazo', 'zilitumiwa', 'kama', 'sehemu', 'za', 'kuwatenga', 'wagonjwa', 'wa', 'covid', '19', 'kurejeshwa', 'kwa', 'wasimamizi', 'wa', 'shule', 'ambao', 'watasimamia', 'unyunyizaji', 'dawa', 'kwa', 'ajili', 'ya', 'matayarisho', 'ya', 'kurejea', 'kwa', 'wanafunzi', '.', 'Mpangilio', 'uliopendekezwa', 'na', 'jopo-kazi', 'lililoteuliwa', 'na', 'Wizara', 'ya', 'elimu', 'inaaminika', 'kuwa', 'wanafunzi', 'wa', 'mwaka', 'wa', 'mwisho', 'watatangulia', 'kurejea', 'shuleni', ',', 'kisha', 'wafuatwe', 'na', 'madarasa', 'mingine', '.', 'Mwongozo', 'kamili', 'unatarajiwa', 'kutolewa', 'baadae', 'hii', 'leo', 'na', 'rais', 'Uhuru', 'Kenyatta', 'atakapohutubia', 'taifa', 'wakati', '.', 'Ni', 'tangazo', 'ambalo', 'linaweza', 'kuvunja', 'wengine', 'moyo', 'huku', 'wengine', 'wakiishia', 'na', 'furaha', '.']\n",
      "\n",
      " Number of Words:  810\n"
     ]
    }
   ],
   "source": [
    "file=\"20sep28.txt\"\n",
    "\n",
    "# calling the function and storing the contents in a text variable \n",
    "text = get_document(\"https://www.bbc.com/swahili/habari-54321822\")\n",
    "\n",
    "# calling the store_ document function \n",
    "store_document(doc=text,name=file)\n",
    "\n",
    "#add the words in this file to the total_corpus_words, to keep count of the number of words in the corpus\n",
    "total_corpus_words+=total_words(file)"
   ]
  },
  {
   "cell_type": "code",
   "execution_count": 106,
   "metadata": {},
   "outputs": [
    {
     "data": {
      "text/plain": [
       "337858"
      ]
     },
     "execution_count": 106,
     "metadata": {},
     "output_type": "execute_result"
    }
   ],
   "source": [
    "total_corpus_words"
   ]
  },
  {
   "cell_type": "code",
   "execution_count": 107,
   "metadata": {},
   "outputs": [
    {
     "name": "stdout",
     "output_type": "stream",
     "text": [
      "['Kumuuguza', 'mama', 'yangu', 'ambaye', 'ni', 'mgonjwa', 'mahututi', 'Janga', 'la', 'virusi', 'vya', 'corona', ',', 'limekuja', 'na', 'changamoto', 'nyingi', 'kote', 'duniani', '.', 'Lakini', 'kwa', 'Sam', 'Loko', '–', '26', ',', 'ambaye', 'hana', 'ajira', 'anayeishi', 'katika', 'kitongoji', 'duni', 'cha', 'Mathare', 'mji', 'mkuu', 'wa', 'Nairobi', 'nchini', 'Kenya', ',', 'anamuuguza', 'mama', 'yake', 'ambaye', 'yuko', 'hali', 'mahututi', 'na', 'amekuwa', 'akipitia', 'changamoto', 'chungu', 'nzima', 'tangu', 'kuanza', 'kwa', 'janga', 'la', 'virusi', 'vya', 'corona', '.', 'Mama', 'yake', 'anashinikizo', 'la', 'juu', 'la', 'damu', ',', 'na', 'pia', 'amepata', 'ugonjwa', 'wa', 'kiharusi', 'pamoja', 'na', 'kupoteza', 'kumbukumbu', 'na', 'hili', 'linamfanya', 'kuwa', 'katika', 'hatari', 'zaidi', 'wakati', 'huu', 'wa', 'janga', '.']\n",
      "\n",
      " Number of Words:  95\n"
     ]
    }
   ],
   "source": [
    "file=\"20sep29.txt\"\n",
    "\n",
    "# calling the function and storing the contents in a text variable \n",
    "text = get_document(\"https://www.bbc.com/swahili/habari-54336476\")\n",
    "\n",
    "# calling the store_ document function \n",
    "store_document(doc=text,name=file)\n",
    "\n",
    "#add the words in this file to the total_corpus_words, to keep count of the number of words in the corpus\n",
    "total_corpus_words+=total_words(file)"
   ]
  },
  {
   "cell_type": "code",
   "execution_count": 108,
   "metadata": {},
   "outputs": [
    {
     "data": {
      "text/plain": [
       "337953"
      ]
     },
     "execution_count": 108,
     "metadata": {},
     "output_type": "execute_result"
    }
   ],
   "source": [
    "total_corpus_words"
   ]
  },
  {
   "cell_type": "code",
   "execution_count": 110,
   "metadata": {},
   "outputs": [
    {
     "name": "stdout",
     "output_type": "stream",
     "text": [
      "['Aliyekuwa', 'mtangazaji', 'maarufu', 'Kenya', 'azungumzia', 'changamoto', 'za', 'kulemewa', 'na', 'maisha', 'Huwezi', 'kusikiliza', 'tena', 'Aliyekuwa', 'mtangazaji', 'maarufu', 'Kenya', 'azungumzia', 'changamoto', 'za', 'kulemewa', 'na', 'maisha', '2', 'Oktoba', '2020', 'Wiki', 'iliyopita', 'mitandao', 'ya', 'kijamii', 'nchini', 'Kenya', 'ilitanda', 'na', 'taarifa', 'kuhusu', 'mmoja', 'wa', 'aliyekuwa', 'mtangazaji', 'maarufu', 'wa', 'televisheni', 'kulemewa', 'na', 'maisha', 'baada', 'ya', 'kustaafu', '.', 'Lolani', 'Kalu', 'alijizolea', 'umaarufu', 'mkubwa', 'kutokana', 'na', 'weledi', 'wake', 'wa', 'matumizi', 'ya', 'lugha', 'ya', 'Kiswahili', ',', 'ufahamu', 'wake', 'wa', 'tamaduni', 'mbali', 'mbali', 'na', 'kuwa', 'na', 'tajriba', 'pana', 'ya', 'masuala', 'ya', 'sanaa', 'kama', 'ushairi', ',', 'michezo', 'ya', 'kuigiza', 'ya', 'radio', 'na', 'televisheni', '.', 'Lakini', 'kwa', 'kipindi', 'cha', 'miaka', 'kadhaa', 'sasa', ',', 'alipotea', 'kutoka', 'anga', 'hizo', 'za', 'uandishi', 'na', 'usanii', '.', 'Mtumizi', 'mmoja', 'wa', 'mtandao', 'wa', 'TWITTER', 'alimuulizia', 'na', 'hapo', 'ndipo', 'wengi', 'wakatamani', 'kujua', 'yaliyomfika', '.', 'Siku', 'chache', 'zilizopita', ',', 'pekua', 'pekua', 'ya', 'wadadisi', 'wa', 'mitandao', 'ya', 'kijamii', 'aliibuka', 'tena', ',', 'japo', 'kwa', 'taarifa', 'kuwa', 'maisha', 'kidogo', 'yamemsibu', '.', 'Lolani', 'Kalu', 'si', 'wa', 'kwanza', 'wala', 'hatakuwa', 'wa', 'mwisho', 'kwa', 'maisha', 'kumlemea', '.', 'Mtangazaji', 'caro', 'Robi', 'amepata', 'fursa', 'ya', 'kuzungumza', 'naye', 'na', 'pamoja', 'na', 'mwanasaikolojia', 'Bupe', 'Mwabenga', 'kutoka', 'Tanzania', 'kujaribu', 'kungamua', 'ya', 'kufanya', 'na', 'kutofanya', 'pale', 'mambo', 'yanapokwenda', 'kombo', '.']\n",
      "\n",
      " Number of Words:  188\n"
     ]
    }
   ],
   "source": [
    "file=\"20oct2_1.txt\"\n",
    "\n",
    "# calling the function and storing the contents in a text variable \n",
    "text = get_document(\"https://www.bbc.com/swahili/habari-54382666\")\n",
    "\n",
    "# calling the store_ document function \n",
    "store_document(doc=text,name=file)\n",
    "\n",
    "#add the words in this file to the total_corpus_words, to keep count of the number of words in the corpus\n",
    "total_corpus_words+=total_words(file)"
   ]
  },
  {
   "cell_type": "code",
   "execution_count": 111,
   "metadata": {},
   "outputs": [
    {
     "data": {
      "text/plain": [
       "338141"
      ]
     },
     "execution_count": 111,
     "metadata": {},
     "output_type": "execute_result"
    }
   ],
   "source": [
    "total_corpus_words"
   ]
  },
  {
   "cell_type": "code",
   "execution_count": 112,
   "metadata": {},
   "outputs": [
    {
     "name": "stdout",
     "output_type": "stream",
     "text": [
      "['William', 'Ruto', ':', 'Chama', 'tawala', 'cha', 'Jubilee', 'chatishia', 'kumtimua', 'naibu', 'wa', 'rais', 'Kenya', '2', 'Oktoba', '2020', 'Chanzo', 'cha', 'picha', ',', 'Getty', 'Images', 'Chama', 'tawala', 'cha', 'Jubilee', 'nchini', 'Kenya', 'kimependekeza', 'kuondolewa', 'kwa', 'naibu', 'wa', 'rais', 'Willima', 'Ruto', 'kutoka', 'kwa', 'wadhfa', 'wake', 'kama', 'naibu', 'kiongozi', 'wa', 'chama', 'hicho', '.', 'Katibu', 'mkuu', 'wa', 'chama', 'hicho', 'Raphael', 'Tuju', 'amemshutumu', 'bwana', 'Ruto', 'kwa', 'kuwa', \"'mjeuri\", ',', 'mwenye', 'madharau', 'na', 'asiyemheshimu', 'Rais', 'Uhuru', 'Kenyatta', \"''\", '.', 'Je', 'katibu', 'mkuu', 'wa', 'Jubilee', 'amesema', 'nini', 'Taarifa', 'iliosomwa', 'hii', 'leo', 'imezungumzia', 'kuhusu', 'matusi', 'ya', 'hivi', 'karibuni', 'yaliotolewa', 'na', 'wandani', 'wa', 'naibu', 'huyo', 'wa', 'rais', 'yakimlenga', 'mamake', 'Uhuru', '{', 'seneta', 'mmoja', 'tayari', 'ameshtakia', 'kwa', 'kutoa', 'matamshi', 'ya', 'chuki', '}', 'walipokuwa', 'wakimuunga', 'mgombea', 'wao', 'katika', 'uchaguzi', 'wa', 'marudio', 'ambapo', 'chama', 'hicho', 'kilikuwa', 'kimeamua', 'kutowakilishwa', 'mbali', 'na', 'kutokuwepo', 'kwa', 'naibu', 'huyo', 'wa', 'rais', 'katika', 'mkutano', 'wa', 'Jumatatu', 'kuhusu', 'corona', 'wakati', 'abapo', 'rais', 'alilegeza', 'baadhi', 'ya', 'masharti', 'ya', 'kukabiliana', 'na', 'ugonja', 'huo', '.', 'Kiti', 'chake', 'kilikuwa', 'kimehifadhiwa', 'katika', 'mkutano', 'huo', '.', 'Taarifa', 'hiyo', 'inajiri', 'siku', 'moja', 'baada', 'ya', 'naibu', 'huyo', 'wa', 'rais', 'kutembelea', 'makao', 'makuu', 'ya', 'chama', 'hicho', 'na', 'zaidi', 'ya', 'wabunge', '35', 'wanaounga', 'mkono', 'ugombea', 'wake', 'wa', 'urais', '.', 'Chama', 'hicho', 'kimeshtumu', 'kwa', 'kujaribu', 'kfanya', 'mapinduzi', 'huku', 'rais', 'akiwa', 'Ufaransa', '.', 'hapo', 'Jana', 'bwana', 'Ruto', 'alijibu', 'katika', 'mtandao', 'wake', 'wa', 'twitter', 'kwamba', 'ameshangaa', 'kwamba', 'ziara', 'yake', 'ya', 'makao', 'makuu', 'ya', 'cham', 'hicho', 'cha', 'Jubilee', 'ilikuwa', 'habari', 'kuu', '.', 'Uongozi', 'wa', 'chama', 'hicho', 'hivi', 'sasa', 'umesema', 'kwamba', 'hautamruhusu', 'kuingia', 'katika', 'makao', 'hayo', ',', 'ukisema', 'kwamba', 'hautamruhusu', 'kuendesha', 'kampeni', 'zake', 'za', 'urais', 'kutoka', 'katika', 'afisi', 'hiyo', 'ili', 'kuwatishia', 'wapinzani', 'wake', '.', 'Je', 'wandani', 'wa', 'Ruto', 'wamejibu', 'vipi', '?', 'Lakini', 'wakiongea', 'katika', 'hafla', 'moja', 'mjini', 'Nakuru', ',', 'Magharibi', 'mwa', 'Kenya', ',', 'ambayo', 'pia', 'ilihudhuriwa', 'na', 'makamu', 'wa', 'rais', 'William', ',', 'Ruto', ',', 'Wabunge', 'kadhaa', 'na', 'maseneta', ',', 'wamekashifu', 'tangazo', 'hilo', 'la', 'bwana', 'Tuju', ',', 'huku', 'wakisema', 'kuwa', ',', 'kama', 'kaimu', 'katibu', 'mkuu', 'wa', 'chama', 'Tuju', 'hana', 'mamlaka', 'hayo', 'na', 'kuwa', 'ofizi', 'za', 'kitaifa', 'za', 'chama', 'ni', 'za', 'wanachama', 'wote', '.', 'Bwana', 'Ruto', 'ameanza', 'kufanya', 'kampeni', 'zake', 'za', 'kuwania', 'urais', '2022', '.', 'Rais', 'Kenyatta', 'amesisitiza', 'kwamba', 'sasa', 'sio', 'muda', 'wa', 'kufanya', 'kampeni', 'na', 'badala', 'yake', 'kutimiza', 'walichoahidi', 'Wakenya', '.', 'Hapo', 'jana', 'katika', 'mahojiano', 'na', 'chombo', 'cha', 'habari', 'cha', 'France21', ',', 'rais', 'Uhuru', 'Kenyatta', 'alikataa', 'kusema', 'iwapo', 'atamuunga', 'mkono', 'William', 'Ruto', 'katika', \"kiny'anga'nyiro\", 'cha', 'urais', 'na', 'kusema', 'kuwa', 'lengo', 'lake', 'sasa', 'ni', 'kuwaleta', 'Wakenya', 'pamoja', '.', 'Rais', 'Kenyatta', 'ameungana', 'na', 'kiongozi', 'wa', 'upinzani', 'Raila', 'Odinga', 'katika', 'mradi', 'kwa', 'jina', 'BBI', ',', 'ambao', 'wanasema', 'unalenga', 'kumaliza', 'hali', 'ya', 'kuwa', 'msimamizi', 'wa', 'kila', 'kitu', 'kwa', 'kila', 'anayeunda', 'serikali', '.', 'Chanzo', 'cha', 'picha', ',', 'Reuters', 'Maelezo', 'ya', 'picha', ',', 'Rais', 'Uhuru', 'Kenyatta', 'Kulia', 'awali', 'aliahidi', 'kuwachia', 'madaraka', 'kwa', 'naibu', 'wake', 'William', 'Ruto', 'Kushoto', '.', 'Mradi', 'wa', 'BBI', 'una', 'jopo', 'linalolenga', 'kubadilisha', 'katiba', 'na', 'kufanyika', 'kwa', 'kura', 'ya', 'maoni', 'kabla', 'ya', 'uchaguzi', 'wa', '2022', '.', 'Bwana', 'Ruto', 'anapinga', 'mradi', 'huo', '.']\n",
      "\n",
      " Number of Words:  470\n"
     ]
    }
   ],
   "source": [
    "file=\"20oct2_2.txt\"\n",
    "\n",
    "# calling the function and storing the contents in a text variable \n",
    "text = get_document(\"https://www.bbc.com/swahili/habari-54389574\")\n",
    "\n",
    "# calling the store_ document function \n",
    "store_document(doc=text,name=file)\n",
    "\n",
    "#add the words in this file to the total_corpus_words, to keep count of the number of words in the corpus\n",
    "total_corpus_words+=total_words(file)"
   ]
  },
  {
   "cell_type": "code",
   "execution_count": 113,
   "metadata": {},
   "outputs": [
    {
     "data": {
      "text/plain": [
       "338611"
      ]
     },
     "execution_count": 113,
     "metadata": {},
     "output_type": "execute_result"
    }
   ],
   "source": [
    "total_corpus_words"
   ]
  },
  {
   "cell_type": "code",
   "execution_count": 114,
   "metadata": {},
   "outputs": [
    {
     "name": "stdout",
     "output_type": "stream",
     "text": [
      "['Watu', '2', 'wauawa', 'kufuatia', 'ghasia', 'kati', 'ya', 'wafuasi', 'wa', 'rais', 'Uhuru', 'Kenyatta', 'na', 'naibu', 'wake', 'William', 'Ruto', 'Kenya', '5', 'Oktoba', '2020', 'Chanzo', 'cha', 'picha', ',', 'AFP', 'Polisi', 'nchini', 'Kenya', 'wamethibitisha', 'kwamba', 'watu', 'wawili', 'walifariki', 'katika', 'makabiliano', 'ya', 'siku', 'ya', 'Jumapili', 'kati', 'ya', 'wafuasi', 'wa', 'Rais', 'Uhuru', 'Kenyatta', 'na', 'naibu', 'wake', 'William', 'Ruto', '.', 'Bw', '.', 'Ruto', ',', 'ambaye', 'alikuwa', 'anahudhuria', 'ibada', 'ya', 'kanisa', 'katika', 'eneo', 'la', 'Murang', \"'\", 'a', ',', 'ngome', 'ya', 'rais', 'Kenyatta', 'iliopo', 'eneo', 'la', 'kati', 'Kenya', ',', 'alilaani', 'tukio', 'hilo', 'lililowalazimu', 'polise', 'kurusha', 'vitoa', 'machozi', 'ndani', 'ya', 'kanisa', 'kuwatawanya', 'vijana', 'waliokuwa', 'wakishambuliana', 'kwa', 'mawe', ',', 'kuchoma', 'magurudumu', 'ya', 'magari', 'na', 'kufunga', 'barabara', 'kuu', 'na', 'kusababisha', 'msongamano', 'mkubwa', 'wa', 'magari', 'katika', 'barabara', 'hiyo', 'yenye', 'shughuli', 'nyingi', '.', 'Rais', 'Kenyatta', '-', 'ambaye', 'yuko', 'nchini', 'Ufaransa', 'kwa', 'ziara', 'ya', 'kikazi', '-', 'na', 'Bw', '.', 'Ruto', 'wametofautiana', 'vikali', 'katika', 'hatua', 'ambayo', 'imewafanya', 'maafisa', 'wa', 'chama', 'tawala', '-', 'Jubilee-', 'kupendekeza', 'naibu', 'wa', 'rais', 'kuondolewa', 'kama', 'naibu', 'kiongozi', 'wa', 'chama', 'hicho', 'kilichobuniwa', 'mwaka', '2012', '.', 'Ruto', 'anapania', 'kumrithi', 'Kenyatta', 'kama', 'rais', 'mwaka', '2022', 'lakini', 'anakabiliwa', 'na', 'upinzani', 'kutoka', 'kwa', 'wafuasi', 'wa', 'Kenyatta', 'wanaodai', 'kuwa', 'ameanza', 'kufanya', 'kampeni', 'mapema', 'miaka', 'miwili', 'kabla', 'ya', 'uchaguzi', 'mkuu', '.', 'Wawili', 'hao', 'waliingia', 'madarakani', 'wakiahidi', 'kuunganisha', 'taifa', 'na', 'kukomesha', 'migawanyiko', 'ya', 'kisiasa', 'lakini', 'serikali', 'yao', 'imelaumiwa', 'kwa', 'kuzidisha', 'migawanyiko', 'ya', 'kikabila', 'na', 'ufisadi', 'ambao', 'umesababisha', 'nchi', 'kupoteza', 'mamilioni', 'ya', 'dola', '-', 'ikiwemo', 'dola', 'milioni', '7.8', 'za', 'kununua', 'vifaa', 'vya', 'kukabiliana', 'na', 'Covid', '19', ',', 'ambayo', 'sasa', 'inaasadikiwa', 'huenda', 'zimeibiwa', '.', 'Uchunguzi', 'wa', 'awali', 'na', 'repoti', 'za', 'Tume', 'ya', 'kukabiliana', 'na', 'ufisadi', ',', 'Kamati', 'ya', 'bunge', 'la', 'Seneti', 'na', 'ya', 'ofisi', 'ya', 'mkaguzi', 'mkuu', 'wa', 'hesabu', 'nchini', 'Kenya', 'zimefichua', 'kuwa', 'wanasiasa', 'na', 'wafanyabishara', 'ambao', 'ni', 'wandani', 'wa', 'mirengo', 'yote', 'miwili', 'ya', 'chama', 'tawala', 'walihusika', 'na', 'ufujaji', 'wa', 'raslimali', 'za', 'umma', '.', 'Ubadhirifu', 'huo', 'na', 'wizi', 'unaodaiwa', 'wa', 'fedha', 'za', 'kukabiliana', 'na', 'virusi', 'vya', 'corona', 'ni', 'masuala', 'ibuka', 'yanayoendelea', 'kuzua', 'mjadala', 'mkali', 'nchini', 'humo', '.', 'Pande', 'zote', 'mbili', 'zimekuwa', 'zikilaumiana', 'kuhusu', 'ni', 'nani', 'aliyeiba', 'fedha', 'za', 'umma', 'ambazo', 'zilitengwa', 'kukabiliana', 'na', 'janga', 'la', 'Covid-19', '.']\n",
      "\n",
      " Number of Words:  335\n"
     ]
    }
   ],
   "source": [
    "file=\"20oct5.txt\"\n",
    "\n",
    "# calling the function and storing the contents in a text variable \n",
    "text = get_document(\"https://www.bbc.com/swahili/habari-54414720\")\n",
    "\n",
    "# calling the store_ document function \n",
    "store_document(doc=text,name=file)\n",
    "\n",
    "#add the words in this file to the total_corpus_words, to keep count of the number of words in the corpus\n",
    "total_corpus_words+=total_words(file)"
   ]
  },
  {
   "cell_type": "code",
   "execution_count": 115,
   "metadata": {},
   "outputs": [
    {
     "data": {
      "text/plain": [
       "338946"
      ]
     },
     "execution_count": 115,
     "metadata": {},
     "output_type": "execute_result"
    }
   ],
   "source": [
    "total_corpus_words"
   ]
  },
  {
   "cell_type": "code",
   "execution_count": 116,
   "metadata": {},
   "outputs": [
    {
     "name": "stdout",
     "output_type": "stream",
     "text": [
      "['Je', ',', 'ushauri', 'wa', 'kuvunjwa', 'kwa', 'bunge', 'la', 'Kenya', 'uliotolewa', 'na', 'jaji', 'mkuu', 'David', 'Maraga', 'kwa', 'rais', 'Kenyatta', 'una', 'maana', 'gani', '?', 'Profesa', 'Hezron', 'Mogambi', 'Mhadhiri', 'Chuo', 'Kikuu', 'cha', 'Nairobi', '8', 'Oktoba', '2020', 'Hivi', 'majuzi', ',', 'Jaji', 'mkuu', 'wa', 'Kenya', 'David', 'Maraga', 'alimshauri', 'Rais', 'wa', 'Kenya', 'Uhuru', 'Kenyatta', 'kuvunja', 'bunge', '.', 'Sababu', 'kuu', 'aliyoitoa', 'Jaji', 'Mkuu', 'ni', 'kushindwa', 'kwa', 'bunge', 'la', 'Kenya', 'kupitisha', 'sheria', 'kuhusiana', 'na', 'maswala', 'ya', 'kijinsia', 'hali', 'inayopelekea', 'wabunge', 'wa', 'kike', 'kuwa', 'wachache', 'kuliko', 'inavyohitajika', 'katika', 'katiba', 'ya', 'nchi', '.', 'Katika', 'barua', 'kwa', 'Rais', 'Kenyatta', ',', 'Jaji', 'Maraga', 'alisema', 'kwamba', 'kushindwa', 'kuwa', 'na', 'wabunge', 'wengi', 'wa', 'kike', 'ni', 'ukiukaji', 'wa', 'katiba', 'na', 'ubaguzi', 'dhidi', 'ya', 'wanawake', '.', 'Katiba', 'inasema', 'kwamba', 'jinsia', 'moja', 'haiwezi', 'kudhibiti', 'zaidi', 'ya', 'thuluthi', 'mbili', 'ya', 'viti', 'vya', 'bunge', '.', 'Hata', 'hivyo', ',', 'wanawake', 'wana', 'viti', 'vichache', 'ikilinganishwa', 'na', 'viti', '116', 'vinavyohitajika', 'katika', 'bunge', 'hilo', 'la', 'wabunge', '350', '.', \"''Bunge\", 'limefeli', 'ama', 'kupuuza', 'sheria', 'zinazohitajika', 'kuidhinisha', 'sheria', 'hiyo', 'ya', 'jinsia', ',', 'licha', 'ya', 'maagizo', 'manne', 'ya', 'mahakama', ',', \"''\", 'alisema', 'Jaji', 'Maraga', '.', 'Kisheria', 'alitarajiwa', 'kumshauri', 'rais', 'kulivunja', 'bunge', ',', 'aliongezea', '.', 'Kwa', 'sasa', 'kuna', 'wabunge', 'wa', 'kike', 'wapatao', 'asilimia', '23', 'katika', 'mabunge', 'mawili', 'ya', 'Kenya', '(', 'Seneti', 'na', 'bunge', 'la', 'kitaifa', ')', '—', 'asilimia', 'ambayo', 'inajumuisha', 'viti', '47', 'ambavyo', 'vimetengewa', 'wanawake', 'tu', 'nchini', 'Kenya', 'katika', 'kaunti', '47', 'nchini', 'Kenya', '.', 'Utata', 'wa', 'kikatiba', 'Hata', 'hivyo', ',', 'ushauri', 'huu', 'wa', 'Jaji', 'Maraga', 'haukutoa', 'makataa', 'kwa', 'Rais', 'Kenyatta', ',', 'na', 'hali', 'inayoweza', 'kumruhusu', 'Rais', 'Kenyatta', 'kuamua', 'kupuuzilia', 'mbali', 'ushauri', 'huo', 'hadi', 'wakati', 'hatamu', 'yake', 'itakapomalizika', 'mwaka', 'wa', '2022', 'uchaguzi', 'mkuu', 'wa', 'Kenya', 'utakapofanyika', 'kulingana', 'na', 'katiba', 'ya', 'Kenya', '.', 'Kulingana', 'na', 'katiba', 'ya', 'Kenya', '2010', ',', 'nchi', 'ilikuwa', 'na', 'miaka', 'mitano', 'kuunda', 'na', 'kutekeleza', 'sheria', 'kuhakikisha', 'kuwa', 'watu', 'wa', 'jinsia', 'moja', 'si', 'zaidi', 'ya', 'theluthi', 'tatu', 'katika', 'uteuzi', 'wa', 'taasisi', 'za', 'umma', '.', 'Kulingana', 'na', 'Jaji', 'Maraga', ',', 'mahakama', 'ya', 'upeo', 'chini', 'ya', 'aliyekuwa', 'Jaji', 'mkuu', 'Willy', 'Mutunga', 'iliagiza', 'bunge', 'kuidhinisha', 'sheria', 'hiyo', 'kufikia', 'tarehe', '27', ',', 'Agosti', '2015', '.', 'Jaji', 'huyo', 'alisema', 'kwamba', 'pingamizi', 'kadhaa', 'ziliwasilishwa', 'mahakamani', 'zikilitaka', 'bunge', 'kuidhinisha', 'sheria', 'hiyo', '.', 'Bunge', '``', 'likishindwa', 'kuunda', 'sheria', 'inayohitajika', ',', \"''\", 'Maraga', 'alisema', 'kwenye', 'taarifa', 'yake', ',', '``', 'Ni', 'jukumu', 'langu', 'la', 'kikatiba', 'kukushauri', ',', 'rais', 'wa', 'jamhuri', 'ya', 'Kenya', ',', 'jukumu', 'ambalo', 'sasa', 'nalitekeleza', ',', 'kuvunja', 'bunge', 'la', 'Kenya', '.', \"''\", 'Hatua', 'ya', 'Jaji', 'Mkuu', 'Davidi', 'Maraga', 'wa', 'Kenya', 'kumshauri', 'Rais', 'Kenyatta', 'kuvunja', 'bunge', 'imeleta', 'utata', 'kwenye', 'siasa', 'za', 'Kenya', 'kwa', 'sababu', 'kadhaa', '.', 'Kwanza', 'kabisa', ',', 'wabunge', 'ambao', 'wanaonekana', 'kulengwa', 'na', 'kuathiriwa', 'zaidi', 'na', 'hatua', 'hii', 'ikiwa', 'itachukuliwa', 'na', 'Rais', 'Kenyatta', 'wanapinga', 'kabisa', 'ushauri', 'huo', 'kuhusu', 'kuvunjwa', 'kwa', 'bunge', 'huku', 'baadhi', 'ya', 'wanasheria', 'wakipinga', 'na', 'wanaharakati', 'wa', 'usawa', 'wa', 'kijinsia', 'wa', 'mashirika', 'ya', 'kiraia', 'wakiunga', 'mkono', 'kama', 'njia', 'ya', 'kupambana', 'na', 'hali', 'ya', 'kutofuata', 'sheria', 'na', 'katiba', 'nchini', 'Kenya', '.', 'Kama', 'ilivyokuwa', 'mnamo', 'Septemba', 'mwaka', 'wa', '2017', 'wakati', 'Jaji', 'David', 'Maraga', 'alipoiongoza', 'mahakama', 'ya', 'kilele', 'katika', 'kufutilia', 'mbali', 'matokeo', 'ya', 'uchaguzi', 'wa', 'Urais', 'nchini', 'Kenya', ',', 'hatua', 'hii', 'ya', 'sasa', 'ya', 'jaji', 'Maraga', 'imeanzisha', 'malumbano', 'ya', 'kisiasa', 'na', 'kisheria', 'nchini', 'Kenya', '.', 'Kwanza', ',', 'ni', 'kuhusu', 'utekelezwaji', 'wa', 'hatua', 'na', 'sheria', 'yenyewe', '.', 'Je', ',', 'ushauri', 'wa', 'jaji', 'Maraga', 'unaweza', 'kutekelezwa', 'kisheria', 'kama', 'ilivyo', 'na', 'kusuluhisha', 'suala', 'tata', 'la', 'kijinsia', 'linalokumba', 'usawa', 'wa', 'kijinsia', 'katika', 'taasisi', 'za', 'umma', 'za', 'Kenya', '?', 'Tatizo', 'kubwa', 'kuhusiana', 'na', 'jambo', 'hili', 'ni', 'kwamba', 'hata', 'kama', 'sheria', 'ingepitishwa', 'bungeni', ',', 'je', ',', 'kutekelezwa', 'kwake', 'kungekuwaje', '?', 'Kwa', 'mfano', ',', 'ikiwa', 'rais', 'atavunja', 'bunge', ',', 'maelekezo', 'haya', 'ya', 'sheria', 'yatatekelezwaje', 'bila', 'mfumo', 'mzima', 'wa', 'sheria', 'na', 'sheria', 'ya', 'vyama', 'kuhusishwa', '?', 'Na', 'iwapo', 'wabunge', 'wapya', 'watakaochaguliwa', 'watakiuka', 'sheria', 'na', 'katiba', 'ilivyo', ',', 'je', ',', 'bunge', 'litavunjwa', 'tena', '?', 'Haya', 'ni', 'maswali', 'muhimu', 'sana', 'kama', 'mjadala', 'unaoendelea', 'nchini', 'Kenya', 'kwa', 'sasa', '.', 'Jukumu', 'ni', 'la', 'nani', '?', 'Pia', ',', 'kuna', 'utata', 'mwingine', 'ambao', 'unahusiana', 'na', 'utekelezwaji', 'wa', 'katiba', 'ya', 'Kenya', '2010', '.', 'Sheria', 'nyingi', 'ambazo', 'zilihitaji', 'kupitishwa', ',', 'zilipitishwa', 'na', 'bunge', 'la', 'kitaifa', 'na', 'wala', 'si', 'seneti', '.', 'Kifungu', 'cha', '261', '(', '2', ')', 'cha', 'katiba', 'ya', 'Kenya', 'kinalipa', 'bunge', 'la', 'kitaifa', 'uwezo', 'wa', 'kuongeza', 'wakati', 'unaofaa', 'kuchukuliwa', 'ili', 'kupitisha', 'na', 'kutekeleza', 'baadhi', 'ya', 'sheria', '.', 'Je', ',', 'seneti', 'inafaa', 'kuadhibiwa', 'pia', 'iwapo', 'bunge', 'la', 'kitaifa', 'litashindwa', 'kuunda', 'na', 'kutekeleza', 'ama', 'kuongeza', 'muda', 'unaohitajika', 'kupitisha', 'sheria', 'fulani', 'inayohitajika', '?', 'Kifungu', 'cha', '259', 'cha', 'katiba', 'kama', 'ilivyoelezwa', 'na', 'uamuzi', 'wa', 'mahakama', 'ya', 'kilele', 'ya', 'Kenya', 'inahitaji', 'kwamba', 'katiba', 'ifafanuliwe', 'na', 'kuelezwa', 'kwa', 'namna', 'ambayo', 'inasaidia', 'kuitekeleza', ',', 'kwa', 'malengo', 'yake', ',', 'maadili', 'na', 'kanuni', '.', 'Je', ',', 'hali', 'hii', 'iliafikiwa', 'kabla', 'ya', 'ushauri', 'wa', 'jaji', 'Maraga', 'kutolewa', '?', 'Na', 'ikiwa', 'ni', 'hivi', ',', 'ikiwa', 'Rais', 'Kenyatta', 'atafuata', 'ushauri', 'wa', 'jaji', 'Maraga', 'na', 'kuvunjilia', 'mbali', 'bunge', ',', 'je', ',', 'kitakachofuata', 'ni', 'uchaguzi', 'mkuu', 'ama', 'uchaguzi', 'mdogo', '?', 'Hili', 'halijabinishwa', 'wazi', 'na', 'katiba', 'ya', 'Kenya', ',', '2010', '.', 'Zaidi', 'ya', 'haya', ',', 'kifungu', '101', '(', '1', ')', 'cha', 'katiba', 'kinaeleza', 'kwamba', 'uchaguzi', 'mkuu', 'wa', 'wabunge', 'utafanywa', 'mnamo', 'Jumanne', 'ya', 'pili', 'mwezi', 'wa', 'Agosti', ',', 'kila', 'mwaka', 'wa', 'tano', '.', 'Wataalam', 'wengi', 'wa', 'sheria', 'wanaeleza', 'kwamba', 'kuna', 'utata', 'kati', 'ya', 'yanayoelezwa', 'kwenye', 'kifungu', 'cha', '101', '(', '1', ')', 'na', '102', '(', '1', ')', '-', 'ambacho', 'kinaeleza', 'kuhusu', 'muhula', 'wa', 'kila', 'bunge', 'ambao', 'unafaa', 'kuwa', 'tarehe', 'ya', 'Uchaguzi', 'Mkuu', 'unaofuata', '-', 'na', 'nguvu', 'za', 'kikatiba', 'alizonazo', 'Rais', 'kulingana', 'na', 'kifungu', '261', '(', '7', ')', '.', 'Kuwachagua', 'watu', 'kwenye', 'nyadhifa', 'sita', 'Aidha', ',', 'aina', 'sita', 'za', 'uchaguzi', 'ambazo', 'wananchi', 'hushiriki', 'na', 'kupiga', 'kura', '-', 'urais', ',', 'ubunge', ',', 'useneta', ',', 'mwakilishi', 'wa', 'akina', 'mama', ',', 'mwakilishi', 'wa', 'wodi', ',', 'na', 'gavana', '-', 'zinafaa', 'kufanyika', 'siku', 'moja', '.', 'Je', ',', 'hii', 'ina', 'maana', 'kwamba', 'bunge', 'likivunjwa', ',', 'rais', ',', 'magavana', ',', 'na', 'wawakilishi', 'wodi', 'pia', 'watahitaji', 'kushiriki', 'katika', 'uchaguzi', 'mwingine', '?', 'Je', ',', 'vifungu', 'hivi', 'vinaonyesha', 'ukinzani', 'kwenye', 'katiba', '?', 'Ni', 'nini', 'kitatokea', 'iwapo', 'bunge', 'litavunjwa', '?', 'Iwapo', 'uchaguzi', 'utafanywa', ',', 'je', 'wabunge', 'watahudumu', 'kwa', 'muda', 'uliobaki', 'tu', 'hadi', '2022', '?', 'Kwa', 'misingi', 'hii', ',', 'ni', 'nini', 'maana', 'ya', '``', 'bunge', 'jipya', \"''\", 'kama', 'inavyoelezwa', 'kwenye', 'kifungu', 'cha', '261', '(', '8', ')', '?', 'Kifungu', 'cha', '100', 'cha', 'katiba', 'ya', 'Kenya', 'kinawapa', 'jukumu', 'wabunge', 'kuunda', 'na', 'kutekeleza', 'sheria', 'zinazoendeleza', 'uwakilishi', 'bungeni', 'wa', 'wanawake', ',', 'walemavu', ',', 'vijana', ',', 'na', 'wale', 'waliotengwa', '.', 'Chanzo', 'cha', 'picha', ',', 'Getty', 'Images', 'Je', ',', 'sheria', 'kama', 'hizo', 'zinaweza', 'kutungwa', 'bila', 'kubadilisha', 'katiba', 'na', 'kuongeza', 'idadi', 'ya', 'wabunge', 'kama', 'inavyoelezwa', 'kwenye', 'katiba', '?', 'Je', ',', 'inawezekana', 'kwamba', 'bunge', 'na', 'jinsi', 'linavyofanya', 'kazi', 'linaweza', 'kubadilishwa', 'na', 'kufuata', 'sheria', 'inayohusu', 'jinsi', 'bila', 'kuwa', 'na', 'kura', 'ya', 'maamuzi', 'yenye', 'nia', 'ya', 'kubadili', 'baadhi', 'ya', 'vipengele', '?', 'Kifungu', 'cha', '27', '(', '3', ')', 'kinaharamisha', 'ubaguzi', '.', 'Wakenya', 'wanafaa', 'kufurahia', 'haki', 'zao', 'kwa', 'kuwachagua', 'wawatakao', '.', 'Kila', 'mmoja', 'ana', 'haki', 'ya', 'kufanya', 'uchaguzi', 'wake', 'kwenye', 'siasa', 'za', 'nchi', 'na', 'kushiriki', 'katika', 'siasa', 'hizo', '.', 'Je', ',', 'itakuwa', 'ni', 'kitendo', 'cha', 'kiubaguzi', 'iwapo', 'maeneo', 'bunge', 'fulani', 'yatatengwa', 'kwa', 'minajili', 'ya', 'jinsi', 'fulani', 'mahususi', '?', 'Je', ',', 'mtu', 'anaweza', 'kulazimishwa', 'kupiga', 'kura', 'kwa', 'njia', 'fulani', 'ili', 'kufikia', 'masharti', 'ya', 'sheria', 'ya', 'kijinsia', '?', 'Ratiba', 'ya', 'Tano', 'ambacho', 'ni', 'kiambatisho', 'katika', 'katiba', 'ya', 'Kenya', 'hakielezi', 'chochote', 'kuhusu', 'kifungu', 'cha', '27', '(', '8', ')', 'na', '81', '(', 'b', ')', 'ambacho', 'kinatwika', 'serikali', 'kuchukua', 'hatua', 'za', 'kuunda', 'sheria', 'na', 'zile', 'za', 'kiusimamizi', 'ili', 'kutekeleza', 'kanuni', 'hiyo', 'ya', 'kijinsia', 'kuwa', 'idadi', 'isiyozidi', 'theluthi', 'mbili', 'ya', 'jinsia', 'moja', 'haifai', 'kuwepo', 'kwenye', 'nyadhifa', 'na', 'nafasi', 'za', 'kuteuliwa', 'ama', 'kuchaguliwa', 'kwenye', 'taasisi', 'zetu', 'Suala', 'la', 'muda', 'wa', 'kutekeleza', 'ushauri', 'Suala', 'lingine', 'kuhusiana', 'na', 'ushauri', 'wa', 'jaji', 'mkuu', 'Davidi', 'Maraga', 'ni', 'kuhusu', 'muda', 'wa', 'kutekeleza', 'ushauri', 'huu', 'wa', 'jaji', 'muu', 'kama', 'inavyoelezwa', 'kwenye', 'katiba', '.', 'Wakosoaji', 'wa', 'ushauri', 'wa', 'jaji', 'Maraga', 'kwa', 'Rais', 'Kenyatta', 'wanasema', 'kwamba', 'katiba', 'haijatoa', 'makataa', 'katika', 'kuundwa', 'kwa', 'sheria', 'kama', 'hizo', 'na', 'bunge', 'la', 'Kenya', '.', 'Je', ',', 'sheria', 'inayohusu', 'suala', 'la', 'kijinsia', 'inaeleza', 'bayana', 'kuwa', 'lazima', 'itekelezwe', 'ndani', 'ya', 'muda', 'wa', 'miaka', 'mitano', '?', 'Kulikuwepo', 'na', 'majaribio', 'yasiyopungua', '10', 'kuhakikisha', 'kuwa', 'yanayoelezwa', 'kwenye', 'vifungu', 'vya', '27', '(', '8', ')', ',', '81', '(', 'b', ')', 'na', '(', 'c', ')', 'na', 'kifungu', '100', 'yanatekelezwa', '.', 'Je', ',', 'baada', 'ya', 'wabunge', 'kuchaguliwa', ',', 'wanafaa', 'kushurutishwa', 'kupiga', 'kura', 'ama', 'kuwa', 'na', 'maoni', 'ya', 'aina', 'fulani', '?', 'Hii', 'ni', 'kwa', 'sababu', 'kuna', 'uhuru', 'wa', 'maoni', 'na', 'wabunge', 'hupiga', 'kura', 'kulingana', 'na', 'maoni', 'yao', 'binafsi', 'nay', 'ale', 'ambayo', 'yamefikishwa', 'bungeni', '.', 'Je', ',', 'hali', 'hii', 'si', 'njia', 'moja', 'ya', 'kuonyesha', 'kuwa', 'idara', 'ya', 'mahakama', 'inaisimamia', 'bunge', 'kwa', 'kuishurutisha', 'kufanya', 'kazi', 'yake', 'kwa', 'namna', 'fulani', 'ilhali', 'kila', 'kitengo', 'kina', 'uhuru', 'wa', 'kufanya', 'kazi', 'yake', 'kulingana', 'na', 'katiba', '?', 'Kesi', 'yawasilishwa', 'mahakamani', 'Juma', 'lililopita', ',', 'Mahakam', 'kuu', ',', 'kupitia', 'kwa', 'Jaji', 'Weldon', 'Korir', 'ilisitisha', 'kwa', 'muda', 'kuchukuliwa', 'kwa', 'hatua', 'yoyote', 'kuhusiana', 'na', 'swala', 'hilo', 'na', 'kuagiza', 'kwamba', 'stakabadhi', 'kuhusiana', 'na', 'kesi', 'hiyo', 'ziwasilishwa', 'kwa', 'jaji', 'mkuu', 'ili', 'aunde', 'kundi', 'la', 'majaji', 'wasiopungua', 'watatu', 'ambao', 'watasikiliza', 'kesi', 'hiyo', 'katika', 'kesi', 'ambayo', 'itatajwa', 'tena', 'mahakamani', 'tarehe', '7', 'Oktoba', '.', 'Amri', 'hii', 'ya', 'mahakama', 'inamruhus', 'Rais', 'Uhuru', 'kutochukua', 'hatua', 'yoyote', 'kuhusiana', 'na', 'ushauri', 'wa', 'jaji', 'mkuu', 'wa', 'kuvunja', 'bunge', '.', 'Tayari', ',', 'chama', 'cha', 'mawakili', 'cha', 'Kenya', 'kilikuwa', 'kimempa', 'Rais', 'hadi', 'Oktoba', '12', 'kuvunja', 'bunge', 'la', 'sivyo', 'kiongoze', 'maandamo', 'nchini', 'Kenya', '.', 'Wakati', 'huo', 'huo', ',', 'wabunge', 'kupitia', 'kwa', 'tume', 'ya', 'huduma', 'za', 'bunge', 'wamewasilisha', 'kesi', 'katika', 'mahakama', 'kuu', 'ya', 'Kenya', 'wakidai', 'kuwa', 'ushauri', 'huo', 'wa', 'jaji', 'mkuu', 'kuvunja', 'bunge', 'la', 'Kenya', 'na', 'kusababisha', 'uchaguzi', 'wa', 'wabunge', 'kinyume', 'cha', 'katiba', 'ya', 'Kenya', 'kuhusiana', 'na', 'kifungu', '131', '(', '2', ')', 'pamoja', 'na', 'kifungu', '261', '(', '7', ')', 'cha', 'katiba', 'ya', 'Kenya', '.', 'Pia', ',', 'wabunge', 'wamedia', 'kwamba', 'ushauri', 'huo', 'wa', 'kuvunja', 'bunge', 'unakwenda', 'kinyume', 'cha', 'katiba', 'inayowapa', 'uwezo', 'Wakenya', ',', 'uwezo', 'ambao', 'unatekelezwa', 'kupitia', 'kwa', 'bunge', '.', 'Chama', 'cha', 'Thirdway', 'Alliance', 'pia', 'kimewasilisha', 'kesi', 'mahakamani', 'kuhusiana', 'na', 'swala', 'hili', 'na', 'huenda', 'kesi', 'nyingine', 'zikawasilishwa', 'kuunga', 'ama', 'kupinga', 'hatua', 'ya', 'kuvunja', 'bunge', 'la', 'Kenya', '.', 'Yamkini', ',', 'vita', 'vya', 'kikatiba', 'mahakamani', 'kuhusiana', 'na', 'ushauri', 'wa', 'jaji', 'mkuu', 'kwa', 'Rais', 'Kenyatta', 'kuvunja', 'bunge', 'ndilo', 'tukio', 'kuu', 'linalofuata', '.', 'Haya', 'huenda', 'yakaendelea', 'hivyo', 'hadi', 'mahakama', 'ya', 'kilele', 'ambako', 'jaji', 'mkuu', 'ndiye', 'rais', 'na', 'ndiye', 'aliyetoa', 'ushauri', 'huo', '.', 'Kwa', 'jumla', ',', 'kinachosikitisha', 'ni', 'kwamba', 'ingawa', 'wabunge', 'walikuwa', 'na', 'miaka', 'tisa', 'na', 'nusu', 'kuratibu', 'na', 'kupitisha', 'kanuni', 'zinazohitajika', 'kufikia', 'matarajio', 'ya', 'katiba', 'kuhusiana', 'na', 'jinsia', 'pamoja', 'na', 'kupuuza', 'uamuzi', 'wa', 'mwaka', 'wa', '2015', 'wa', 'jaji', 'Joseph', 'Onguto', ',', 'mambo', 'huenda', 'yakawapata', 'wabunge', 'wa', 'Kenya', 'pabaya', 'na', 'nchi', 'kwa', 'jumla', '.', 'Iwapo', 'mwishowe', 'bunge', 'litavunjwa', 'na', 'Rais', 'Kenyatta', ',', 'basi', 'tume', 'ya', 'uchaguzi', 'itawajibika', 'kuandaa', 'uchaguzi', 'na', 'kueleza', 'ni', 'lini', 'uchaguzi', 'wa', 'wabunge', 'katika', 'maeneo', 'yote', 'ya', 'bunge', 'utafanyika', '.']\n",
      "\n",
      " Number of Words:  1721\n"
     ]
    }
   ],
   "source": [
    "file=\"20oct8_1.txt\"\n",
    "\n",
    "# calling the function and storing the contents in a text variable \n",
    "text = get_document(\"https://www.bbc.com/swahili/habari-54459651\")\n",
    "\n",
    "# calling the store_ document function \n",
    "store_document(doc=text,name=file)\n",
    "\n",
    "#add the words in this file to the total_corpus_words, to keep count of the number of words in the corpus\n",
    "total_corpus_words+=total_words(file)"
   ]
  },
  {
   "cell_type": "code",
   "execution_count": 117,
   "metadata": {},
   "outputs": [
    {
     "data": {
      "text/plain": [
       "340667"
      ]
     },
     "execution_count": 117,
     "metadata": {},
     "output_type": "execute_result"
    }
   ],
   "source": [
    "total_corpus_words"
   ]
  },
  {
   "cell_type": "code",
   "execution_count": 120,
   "metadata": {},
   "outputs": [
    {
     "name": "stdout",
     "output_type": "stream",
     "text": [
      "['Liban', 'Abdullahi', 'Omar', ':', 'Mshukiwa', 'wa', 'shambulio', 'la', 'Westgate', \"'atekwanyara\", 'na', 'watu', 'waliojihami', \"'\", 'baada', 'ya', 'kuachiliwa', 'Kenya', '9', 'Oktoba', '2020', 'Chanzo', 'cha', 'picha', ',', 'Getty', 'Images', 'Mtu', 'mmoja', 'ambaye', 'hakupatikana', 'na', 'hatia', 'katika', 'shambulio', 'la', 'kigaidi', 'la', 'West', 'Gate', 'nchini', 'Kenya', 'ametekwanyara', 'alipokuwa', 'akielekea', 'nyumbani', '.', 'Vyombo', 'vya', 'habari', 'nchini', 'Kenya', 'vimeripoti', 'kwamba', 'Liban', 'Abdullahi', 'Omar', 'alikuwa', 'ndani', 'ya', 'teksi', 'na', 'dada', 'zake', 'wakati', 'watu', 'waliojihami', 'kwa', 'bunduki', 'waliposimamisha', 'gari', 'lao', 'na', 'kumtekanyara', '.', 'Wakili', 'wake', 'Mbugua', 'Mureithi', ',', 'aliambia', 'Chombo', 'cha', 'habari', 'cha', 'AP', 'kwamba', 'watu', 'hao', 'walijitambulisha', 'kama', 'maafisa', 'wa', 'usalama', '.', 'Polisi', 'imekataa', 'kutoa', 'tamko', '.', 'Walidaiwa', 'kumkamata', 'na', 'kumweka', 'katika', 'eneo', 'la', 'nyuma', 'la', 'gari', 'lao', 'mbali', 'na', 'kuchukua', 'funguo', 'za', 'teksi', 'hiyo', '.', 'Kisa', 'hicho', 'kiliripotiwa', 'katika', 'kituo', 'cha', 'polisi', 'katika', 'mji', 'mkuu', 'wa', 'Nairobi', '.', 'Omar', 'ambaye', 'ni', 'mkimbizi', 'wa', 'Somalia', 'nchini', 'Kenya', 'alikuwa', 'anatoka', 'katika', 'kitengo', 'cha', 'maafisa', 'wa', 'kukabiliana', 'na', 'ugaidi', 'mjini', 'Nairobi', 'wakati', 'alipotekwanyara', 'kulingana', 'na', 'Khelef', 'Khalifa', 'mkurugenzi', 'wa', 'shirika', 'la', 'haki', 'za', 'kibinadamu', 'la', 'Kiislamu', 'Muslim', 'For', 'Human', 'Rights', '..', 'Alikua', 'ameachiliwa', 'kutoka', 'katika', 'jela', 'ya', 'kamiti', 'na', 'kwamba', 'alikuwa', 'anajaza', 'stakhabadhi', 'za', 'kumwachilia', 'huru', 'kama', 'ulivyo', 'utaratibu', 'wa', 'washukiwa', 'wa', 'ugaidi', 'katika', 'afisi', 'za', 'maafisa', 'wa', 'kukabiliana', 'na', 'ugaidi', '..', 'Watu', 'hao', 'walisema', 'walikuwa', 'maafisa', 'wa', 'usalama', 'Wakili', 'wake', 'Mbugua', 'Mureithi', 'aliambia', 'runinga', 'ya', 'NTV', 'kwamba', 'watu', 'hao', 'wlaijitambulisha', 'kuwa', 'maafisa', 'wa', 'usalama', '.', 'Alishtakiwa', 'pamoja', 'na', 'watu', 'wengine', 'wawili', '.', 'Wote', 'wawili', 'walipatikana', 'na', 'hatia', 'ya', 'kuwasaidia', 'washukiwa', 'wa', 'shambulio', 'hilo', 'na', 'kwamba', 'watahukumiwa', 'tarehe', '22', 'mwezi', 'Oktoba', '.', 'Ni', 'akina', 'nani', 'waliohusika', 'katika', 'utekaji', 'huo', '?', 'Uchambuzi', 'wa', 'Mwandishi', 'wa', 'BBC', 'Ferdinand', 'Omondi', 'mjini', 'Nairobi', 'Hakuna', 'anayesema', 'moja', 'kwa', 'moja', '.', 'hakuna', 'mtu', 'anayetaka', 'kukiri', '.', 'Lakini', 'kuna', 'makubaliano', 'kwamba', 'utekaji', 'huo', 'uliofanyika', 'mchana', 'huenda', 'ulitekelezwa', 'na', 'watu', 'wanaoshirikiana', 'na', 'kitengo', 'cha', 'polisi', 'wa', 'kukabiliana', 'na', 'ugaidi', '.', 'Washukiwa', 'wengi', 'wa', 'ugaidi', 'ambao', 'wametoroka', 'ama', 'hata', 'kupatikana', 'na', 'hatia', ',', 'wametoweka', 'ama', 'hata', 'kujuawa', 'katika', 'mauaji', 'mabaya', 'na', 'watu', 'ambao', 'serikali', 'haijawatambua', ',', 'kuwakamata', 'na', 'hata', 'kuwshtaki', '.', 'Masirika', 'ya', 'haki', 'za', 'kibinadamu', 'yamelaumu', 'vikosi', 'vya', 'usalama', 'kwa', 'mauaji', 'mengi', 'ya', 'kiholela', 'na', 'kupotea', 'kwao', ',', 'huku', 'shirika', 'la', 'Amnesty', 'International', 'mara', 'kwlikiwakumbusha', 'polisi', 'kwamba', 'hawawezi', 'kusimamiakila', 'kitu', 'katika', 'kesi', '.', 'Maafisa', 'wa', 'polisi', 'mara', 'kwa', 'mara', 'wamekuwa', 'wakikana', 'mauaji', 'na', 'utekajinyara']\n",
      "\n",
      " Number of Words:  377\n"
     ]
    }
   ],
   "source": [
    "file=\"20oct9.txt\"\n",
    "\n",
    "# calling the function and storing the contents in a text variable \n",
    "text = get_document(\"https://www.bbc.com/swahili/habari-54477390\")\n",
    "\n",
    "# calling the store_ document function \n",
    "store_document(doc=text,name=file)\n",
    "\n",
    "#add the words in this file to the total_corpus_words, to keep count of the number of words in the corpus\n",
    "total_corpus_words+=total_words(file)"
   ]
  },
  {
   "cell_type": "code",
   "execution_count": 121,
   "metadata": {},
   "outputs": [
    {
     "data": {
      "text/plain": [
       "341044"
      ]
     },
     "execution_count": 121,
     "metadata": {},
     "output_type": "execute_result"
    }
   ],
   "source": [
    "total_corpus_words"
   ]
  },
  {
   "cell_type": "code",
   "execution_count": 122,
   "metadata": {},
   "outputs": [
    {
     "name": "stdout",
     "output_type": "stream",
     "text": [
      "['Virusi', 'vya', 'corona', ':', 'Je', 'nini', 'kinachowasubiri', 'wanafunzi', 'shuleni', 'Kenya', '?', 'Shule', 'huenda', 'zikafunguliwa', 'wakati', 'wowote', 'nchini', 'Kenya', 'baada', 'ya', 'kufungwa', 'mapema', 'mwezi', 'Machi', 'kutokana', 'na', 'kuzuka', 'kwa', 'mlipuko', 'wa', 'virusi', 'vya', 'corona', '.', 'Hii', 'ni', 'baada', 'ya', 'mpango', 'wa', 'kuzifungua', 'hii', 'leo', 'Jumtatu', 'tarehe', '12', 'mwezi', 'wa', 'kumi', ',', 'kusitishwa', 'kwa', 'muda', 'kufuatia', 'majadiliano', 'kuhusu', 'hatua', 'zilizochukuliwa', 'na', 'wazazi', 'pamoja', 'na', 'serikali', 'ili', 'kuhakikishia', 'usalama', 'wao', 'wanafunzi', '.', 'Hatahivyo', 'ni', 'wanafunzi', 'wa', 'madarasa', 'ya', 'nne', ',', 'wale', 'wa', 'darasa', 'la', 'nane', 'na', 'wenzao', 'wa', 'kidato', 'cha', 'nne', 'waliotakiwa', 'kuripoti', 'shuleni', '.', 'Baadhi', 'ya', 'wanafunzi', 'katika', 'shule', 'za', 'kibinafsi', 'hatahivyo', 'watalazimilka', 'kusalia', 'majumbani', 'baada', 'ya', 'wamiliki', 'wa', 'shule', 'hizo', 'kuzibadilisha', 'na', 'kuzifanya', 'maeneo', 'ya', 'biashara', '.', 'Hali', 'hiyo', 'inawalazimu', 'wanafunzi', 'waliokuwa', 'katika', 'shule', 'zilizofungwa', 'kutafuta', 'maeneo', 'mbadala', '.', 'Cha', 'kusikitisha', 'ni', 'kwamba', 'wazazai', 'wengi', 'wana', 'wasiwasi', 'kuhusu', 'hali', 'ya', 'usalama', 'wa', 'wanao', 'huku', 'wengi', 'wakishindwa', 'kutafuta', 'karo', 'na', 'kununua', 'vifaa', 'vya', 'kusomea', '.', 'Wengi', 'wa', 'wazazi', 'hawa', 'hawakutarajia', 'kufunguliwa', 'kwa', 'shule', 'na', 'kwamba', 'walidhani', 'hali', 'iliopo', 'hivi', 'sasa', 'itaendelea', 'hadi', 'mwaka', 'ujao', '.', 'Wengine', 'wanalalamika', 'kwamba', 'kufungwa', 'kwa', 'sehemu', 'nyingi', 'za', 'kufanyia', 'kazi', 'mbali', 'na', 'masharti', 'makali', 'ya', 'kukabiliana', 'na', 'virusi', 'vya', 'corona', 'yaliotolewa', 'na', 'serikali', 'kumesababisha', 'hali', 'ngumu', 'ya', 'kiuchumi', '.', '``', 'Unawezaje', 'kumpa', 'mzazi', 'wiki', 'moja', 'kufungua', 'shule', 'ambazo', 'zilikuwa', 'zimefungwa', 'kwa', 'miezi', 'kadhaa', 'wakitarajiwa', 'kununua', 'sare', 'mpya', 'za', 'shule', 'na', 'kulipa', 'karo', '?', ',', 'aliuliza', 'mzazi', 'mmoja']\n",
      "\n",
      " Number of Words:  230\n"
     ]
    }
   ],
   "source": [
    "file=\"20oct12_1.txt\"\n",
    "\n",
    "# calling the function and storing the contents in a text variable \n",
    "text = get_document(\"https://www.bbc.com/swahili/habari-54504837\")\n",
    "\n",
    "# calling the store_ document function \n",
    "store_document(doc=text,name=file)\n",
    "\n",
    "#add the words in this file to the total_corpus_words, to keep count of the number of words in the corpus\n",
    "total_corpus_words+=total_words(file)"
   ]
  },
  {
   "cell_type": "code",
   "execution_count": 123,
   "metadata": {},
   "outputs": [
    {
     "data": {
      "text/plain": [
       "341274"
      ]
     },
     "execution_count": 123,
     "metadata": {},
     "output_type": "execute_result"
    }
   ],
   "source": [
    "total_corpus_words"
   ]
  },
  {
   "cell_type": "code",
   "execution_count": 125,
   "metadata": {},
   "outputs": [
    {
     "name": "stdout",
     "output_type": "stream",
     "text": [
      "['Je', ',', 'Naibu', 'Rais', 'wa', 'Kenya', 'atamudu', 'joto', 'la', 'kisiasa', 'linalomfuata', '?', 'Naibu', 'Rais', 'wa', 'Kenya', ',', 'William', 'Ruto', 'na', 'nia', 'yake', 'ya', 'kuwania', 'Urais', 'mwaka', 'wa', '2022', 'imepandisha', 'joto', 'la', 'kisiasa', 'nchini', 'Kenya', 'mapema', 'zaidi', 'ya', 'mwaka', 'mmoja', 'na', 'nusu', 'kabla', 'wakati', 'wenyewe', 'na', 'kuzua', 'maswali', 'mengi', '.', 'Akiwa', 'ameshtuliwa', 'na', 'kuja', 'pamoja', 'na', 'kuungana', 'kwa', 'wanasiasa', 'wakuu', 'nchini', 'Kenya', 'wanaoonekana', 'kutaka', 'kupinga', 'azma', 'yake', 'ya', 'kutaka', 'kuwa', 'Rais', 'pamoja', 'na', 'kuondolewa', 'kwa', 'washirika', 'wake', 'wa', 'kisiasa', 'kwenye', 'nyadhifa', 'kwenye', 'serikali', 'na', 'bungeni', ',', 'safari', 'ya', 'William', 'Ruto', 'kuelekea', 'mwaka', 'wa', '2022', 'inaonekana', 'kukumbwa', 'na', 'changamoto', 'nyingi', '.', 'Kabla', 'ya', 'hapo', ',', 'kuanzia', 'mwaka', 'wa', '2013', 'wakati', 'wawili', 'hawa', 'walionekana', 'kama', '``', 'mapacha', 'wa', 'kisiasa', \"''\", ',', 'hali', 'ilikuwa', 'shwari', 'kwani', 'walikuwa', 'wameahidiana', 'kwamba', 'watasaidiana', 'kisiasa', 'hadi', 'kila', 'mmoja', 'wao', 'kutawala', 'Kenya', '.', 'Hali', 'sasa', 'ni', 'tofauti', 'kati', 'ya', 'wawili', 'hawa', '.', 'Hali', 'ngumu', 'na', 'chanzo', 'Matatizo', 'haya', 'yote', 'yalianza', 'mnamo', 'Machi', 'mwaka', 'wa', '2018', 'wakati', 'Rais', 'Uhuru', 'Kenyatta', 'alikubaliana', 'kufanya', 'kazi', 'na', 'Raila', 'Odinga', 'baada', 'ya', 'kuwa', 'mahasimu', 'kwenye', 'uchaguzi', 'mkuu', 'wa', 'mwaka', 'wa', '2017', ',', 'makubaliano', 'ambayo', 'sasa', 'William', 'Ruto', 'anayaona', 'kama', 'yenye', 'nia', 'mbaya-mpango', 'wa', 'kumzuia', 'asiwe', 'Rais', 'wa', 'Kenya', '.', 'Baadaye', ',', 'wawili', 'hawa', 'waliunda', 'jopo', 'la', 'maridhiano', 'ambalo', 'limetayarisha', 'ripoti', 'yake', 'ambayo', 'inakisiwa', 'huenda', 'ikatumika', 'kama', 'msingi', 'wa', 'kura', 'ya', 'maoni', '.', 'Kura', 'hii', 'inapingwa', 'na', 'William', 'Ruto', '.', 'Ushirikiano', 'wa', 'Rais', 'Kenyatta', 'na', 'Raila', 'Odinga', 'umepelekea', 'Bwana', 'Ruto', 'kuonekana', 'kama', 'ambaye', 'ametengwa', 'kwenye', 'shughuli', 'za', 'serikali', 'na', 'hata', 'za', 'chama', 'tawala', 'cha', 'Jubilee', '.', 'Kwa', 'upande', 'mwingine', ',', 'Rais', 'Kenyatta', 'ameonekana', 'akiwa', 'na', 'uhusiano', 'mzuri', 'na', 'Raila', 'Odinga', 'kwenye', 'siasa', 'na', 'katika', 'bunge', 'la', 'Kenya', 'ambapo', 'vyama', 'vyao', 'vinashirikiana', '.', 'Katika', 'hali', 'hii', 'ngumu', 'anamojikuta', ',', 'William', 'Ruto', 'anashindwa', 'cha', 'kufanya', 'maana', 'anaonekana', 'kupigana', 'na', 'mkubwa', 'wake', 'kisiasa', ',', 'Rais', 'Kenyatta', ',', 'jambo', 'ambalo', 'wengi', 'wanaamini', 'linaweza', 'kumletea', 'balaa', 'kisiasa', 'kwa', 'sababu', 'ya', 'athari', 'zinazoweza', 'kutokea', '.', 'Kwa', 'upande', 'mwingine', ',', 'kwa', 'sababu', 'ya', 'kuwa', 'na', 'azma', 'ya', 'kuwania', 'kiti', 'cha', 'rais', 'wa', 'Kenya', ',', 'ni', 'lazima', 'ashiriki', 'kwenye', 'shughuli', 'za', 'kisiasa', 'ili', 'kuendelea', 'kujizolea', 'umaarufu', 'nchini', '.', 'Hali', 'hii', 'imepelekea', 'Bwana', 'Ruto', 'kukosa', 'kufika', 'kwenye', 'mikutano', 'muhimu', 'ya', 'baraza', 'la', 'mawaziri', 'na', 'hata', 'mingine', 'ya', 'chama', 'cha', 'Jubilee', 'ambako', 'yeye', 'ni', 'msaidizi', 'kama', 'naibu', 'wa', 'Rais', 'Kenyatta', '.', 'Rungu', 'la', 'kisiasa', 'ambalo', 'Bwana', 'Ruto', 'alirushiwa', 'miezi', 'kadhaa', 'iliyopita', 'na', 'Rais', 'Kenyatta', 'kwenye', 'bunge', 'la', 'seneti', 'na', 'bunge', 'la', 'kitaifa', 'ambapo', 'wandani', 'wake', 'wa', 'karibu', 'waliondolewa', 'kwenye', 'nyadhifa', 'muhimu', 'na', 'uhusiano', 'wa', 'karibu', 'na', 'kiongozi', 'wa', 'upinzani', 'Raila', 'Odinga', 'kunampa', 'changamoto', 'mpya', 'anapopanga', 'siasa', 'zake', 'kwa', 'njia', 'tofauti', 'na', 'alivyopanga', 'hapo', 'awali', 'ili', 'kupigania', 'Urais', 'mwaka', 'wa', '2022', '.', 'Katika', 'mabunge', 'yoye', 'mawili', 'ya', 'Kenya', ',', 'nyadhifa', 'ambazo', 'washirika', 'wake', 'walikuwa', 'nazo', 'sasa', 'haziko', 'na', 'ushawishi', 'wake', 'pia', 'umepunguzwa', 'kisiasa', '.', 'Haya', 'yanatokea', 'kwa', 'sababu', 'ya', 'makubaliano', 'yaliyotiwa', 'saini', 'kati', 'ya', 'vyama', 'vya', 'Kanu', 'na', 'uhusiano', 'wa', 'kisiasa', 'na', 'chama', 'cha', 'Raila', 'Odinga', ',', 'ODM', 'hali', 'ambayo', 'inamnyima', 'idadi', 'ya', 'wabunge', 'ili', 'kupigana', 'na', 'kufanya', 'maamuzi', 'ya', 'kisiasa', 'kwenye', 'mabunge', 'hayo', 'mawili', '.', 'Katika', 'kile', 'kinachoonekana', 'kuwa', 'ishara', 'kubwa', 'kwamba', 'uhusiano', 'baina', 'ya', 'Rais', 'Kenyatta', 'na', 'Raila', 'Odinga', 'huenda', 'ukawa', 'hata', 'mkubwa', 'zaidi', 'kwenye', 'uchaguzi', 'wa', 'mwaka', 'wa', '2022', ',', 'wazee', 'wa', 'jamii', 'ya', 'Agikuyu', 'wapatao', '700', 'na', 'wanasiasa', 'wengine', 'kutoka', 'eneo', 'la', 'Mlima', 'Kenya', 'walimtembelea', 'na', 'kumwombea', 'Raila', 'Odinga', 'nyumbani', 'kwake', 'Kang', \"'\", 'o', 'Ka', 'Jaramogi', 'katika', 'kaunti', 'ya', 'Siaya', '.', 'Ziara', 'hii', 'inatafsiriwa', 'kuwa', 'mpango', 'wa', 'Bwana', 'Raila', 'Odinga', 'kuwania', 'Urais', 'mwaka', 'wa', '2022', '.', 'Kura', 'ya', 'maamuzi', 'Jambo', 'lingine', 'kuu', 'ni', 'msukumo', 'uliopo', 'kwa', 'sasa', 'wenye', 'nia', 'ya', 'kufanywa', 'kwa', 'kura', 'ya', 'maamuzi', 'ambayo', 'wandani', 'wa', 'Bwana', 'Ruto', 'wanaiona', 'kama', 'njama', 'ya', 'kumwondoa', 'kwenye', 'kinyanganyiro', 'au', 'kumfanya', 'asiwe', 'na', 'ushawishi', 'wowote', 'wa', 'kisiasa', 'iwapo', 'atawania', 'na', 'kushinda', 'kiti', 'cha', 'Urais', 'mwaka', 'wa', '2022', '.', 'Bwana', 'Ruto', 'amekuwa', 'akifanya', 'kampeini', 'ambazo', 'zinaonekana', 'kama', 'zenye', 'kupinga', 'kuwepo', 'kwa', 'kura', 'ya', 'maamuzi', ',', 'yenye', 'nia', 'ya', 'kuongeza', 'nyadhifa', 'za', 'uongozi', 'kwenye', 'ngazi', 'ya', 'kitaifa', 'kama', 'mazoezi', 'tu', 'ya', 'kura', 'ya', 'mwaka', 'wa', '2022', '.', 'Hata', 'hivyo', ',', 'uwanja', 'wa', 'kisiasa', 'nchini', 'Kenya', 'umekuwa', 'ukibadilika', 'kila', 'kukicha', 'na', 'mabadiliko', 'haya', 'huenda', 'yakaendelea', 'na', 'kubadili', 'sura', 'ya', 'siasa', 'za', 'Kenya', 'kwa', 'kuwa', 'matokeo', 'ya', 'kura', 'ya', 'maamuzi', ',', 'iwapo', 'itafanyika', ',', 'huenda', 'yakaipa', 'mwelekeo', 'siasa', 'ya', 'mwaka', 'wa', '2022', '.', 'Kumekuwepo', 'na', 'mpango', 'wa', 'kuhakikisha', 'kuwa', ',', 'kadri', 'muda', 'unayoyoma', 'kuelekea', 'uchaguzi', 'wa', 'mwaka', 'wa', '2022', ',', 'nguvu', 'na', 'ushawishi', 'wa', 'Bwana', 'Ruto', 'unaendelea', 'kupunguzwa', 'ndani', 'na', 'nje', 'ya', 'serikali', '.', 'Hatua', 'hizi', 'ambazo', 'zinatekelezwa', 'na', 'serikali', 'ambayo', 'Bwana', 'Ruto', 'ndiye', 'naibu', 'Rais', 'zina', 'nia', 'ya', 'kumpuguzia', 'ushawishi', 'na', 'ndoto', 'yake', 'ya', 'kupigania', 'Urais', 'mwaka', 'wa', '2022', ',', 'kuwatoa', 'pumzi', 'wandani', 'wake', 'wa', 'kisiasa', ',', 'na', 'kuwatawanya', 'ili', 'kumfanya', 'bwana', 'Ruto', 'kufikiria', 'upya', 'kuhusu', 'kupigania', 'Urais', 'mwaka', 'wa', '2022', '.', 'Tatizo', 'jingine', 'ambalo', 'anakumbana', 'nalo', 'bwana', 'Ruto', 'ni', 'seneta', 'wa', 'Baringo', 'Gideon', 'Moi', 'huku', 'kukuwa', 'na', 'madai', 'kwamba', 'seneta', 'huyu', 'anafanya', 'kazi', 'na', 'upinzani', 'ili', 'kufanya', 'kibarua', 'chake', 'cha', 'kutafuta', 'Urais', 'mwaka', 'wa', '2022', 'kuwa', 'kigumu', 'zaidi', '.', 'Purukushani', 'kwenye', 'chama', 'cha', 'Jubilee', 'Chanzo', 'cha', 'picha', ',', 'Reuters', 'Maelezo', 'ya', 'picha', ',', 'Rais', 'Uhuru', 'Kenyatta', 'na', 'naibu', 'wake', 'William', 'Ruto', 'Halafu', 'kuna', 'changamoto', 'inayomkosesha', 'usingizi', 'bwana', 'Ruto', 'kwa', 'sasa', '-', 'ile', 'ya', 'chama', 'chake', 'cha', 'Jubilee', '-', 'jambo', 'ambalo', 'limekifanya', 'chama', 'chake', 'kufunga', 'afisi', 'zake', 'kwa', 'sasa', 'kwa', 'sababu', 'ya', 'mzozo', 'wa', 'uongozi', 'baina', 'yake', 'na', 'maafisa', 'wakuu', 'wa', 'wa', 'chama', '.', 'Kwa', 'sasa', 'hatima', 'yake', 'kwenye', 'chama', 'hicho', 'tawala', 'haijulikani', 'maana', 'inavyoonekana', 'maafisa', 'wengine', 'wakuu', 'wakiongozwa', 'na', 'Rais', 'Kenyatta', 'kwenye', 'chama', 'hicho', 'wamemtenga', 'na', 'hana', 'afueni', 'kisiasa', '.', 'Naibu', 'Mwenyekiti', 'wa', 'chama', 'cha', 'Jubilee', 'David', 'Murathe', ',', 'ambaye', 'ni', 'rafiki', 'wa', 'karibu', 'wa', 'Rais', 'Kenyatta', 'amenukuliwa', 'akisema', 'mara', 'nyingi', 'kwamba', 'tofauti', 'za', 'kisiasa', 'baina', 'ya', 'Rais', 'Kenyatta', 'na', 'naibu', 'wake', 'zimefikia', 'viwango', 'ambapo', 'haziwezi', 'kutatuliwa', 'na', 'kwamba', 'hawawezi', 'kufanya', 'kazi', 'tena', 'pamoja', 'kwenye', 'chama', 'hicho', 'kama', 'ilivyokuwa', 'hapo', 'awali', 'tangu', 'mwaka', 'wa', '2013', '.', 'Je', ',', 'atajiondoa', 'kwenye', 'chama', 'tawala', 'cha', 'Jubilee', '?', 'Kumekuwepo', 'na', 'ripoti', 'za', 'kisiasa', 'kwamba', ',', 'kwa', 'hakika', ',', 'wandani', 'wa', 'Rais', 'Kenyatta', 'wamekuwa', 'wakipanga', 'jinsi', 'ya', 'kupeleka', 'hoja', 'ya', 'kutokuwa', 'na', 'imani', 'bungeni', 'na', 'naibu', 'Rais', 'wa', 'Kenya', 'ili', 'kumwondoa', 'afisini', '.', 'Je', ',', 'hili', 'litafanyika', 'na', 'kufaulu', 'ama', 'hali', 'itakuwaje', '.', 'Likifanyika', ',', 'hatima', 'ya', 'kisiasa', 'ya', 'Bwana', 'Ruto', 'itakuwaje', '?', 'Kando', 'na', 'haya', ',', 'William', 'Ruto', 'mwenyewe', 'amekuwa', 'akijipanga', 'na', 'kuunda', 'mtandao', 'wa', 'marafiki', 'wa', 'kisiasa', 'tangu', 'mwaka', 'wa', '2017', 'ingawa', 'jambo', 'hili', 'limekuwa', 'likimkera', 'Rais', 'Kenyatta', 'ambaye', 'amekuwa', 'akisisitiza', 'kuwa', 'ni', 'wakati', 'wa', 'kufanya', 'kazi', 'na', 'si', 'siasa', '.', 'Ingawa', 'yanayomkumba', 'kwa', 'sasa', 'yanaonekana', 'kuwa', 'mazito', 'ikizingatiwa', 'kuwa', 'yeye', 'ni', 'msaidizi', 'wa', 'Rais', 'Kenyatta', 'ambaye', 'hajaonekana', 'kupendezwa', 'na', 'siasa', 'anazozifanya', '.', 'Hata', 'hivyo', ',', 'Bwana', 'Ruto', 'mwenyewe', 'ameonyesha', 'kutotishwa', 'na', 'changamoto', 'zinazomkumba', 'na', 'badala', 'yake', 'amekuwa', 'akifanya', 'kampeini', 'zake', 'akikutana', 'na', 'Wakenya', 'wa', 'kila', 'tabaka', 'hasa', 'akiwalenga', 'wale', 'anaotaja', 'kuwa', 'wametengwa', 'kwenye', 'jamii', 'kama', 'vijana', 'na', 'akina', 'mama', ',', 'maskini', 'na', 'kuwapa', 'msaada', 'wa', 'kufanya', 'biashara', 'ama', 'ala', 'za', 'kufanyia', 'kazi', 'zao', 'na', 'makundi', 'mengine', 'kama', 'ya', 'kanisa', 'na', 'kijamii', 'kwenye', 'afisi', 'zake', 'na', 'kwake', 'nyumbani', 'jijini', 'Nairobi', '.', 'Katika', 'hatua', 'ambayo', 'ilimpunguzia', 'nguvu', 'za', 'kisiasa', ',', 'Rais', 'Kenyatta', 'alimteua', 'waziri', 'Fred', 'Matiangi', 'kuwa', 'mwenyekiti', 'wa', 'baraza', 'la', 'mawaziri', 'kwenye', 'utekelezaji', 'wa', 'mipango', 'ya', 'serikali', '-', 'kazi', 'ambayo', ',', 'kimsingi', ',', 'bwana', 'Ruto', 'anafaa', 'kuwa', 'anaifanya', '.', 'Juma', 'lililopita', 'waziri', 'Matiangi', 'pia', 'alitwikwa', 'jukumu', 'jingine', 'kama', 'mwenyekiti', 'wa', 'watakaoshughulikia', 'usalama', 'na', 'utulivu', 'nchini', 'Kenya', '.', 'Kampeini', 'za', 'Ruto', 'Changamoto', 'nyingine', 'inayomkumba', 'bwana', 'Ruto', 'kupigania', 'Urais', 'wa', 'Kenya', 'ni', 'kwamba', 'ameifanya', 'ngome', 'ya', 'kisiasa', 'ya', 'Rais', 'Kenya', 'ya', 'Mlima', 'Kenya', 'ngome', 'ambayo', 'angetaka', 'kupata', 'uungwaji', 'mkono', 'zaidi', 'bila', 'kutafuta', 'usaidizi', 'wa', 'Rais', 'Kenyatta', '.', 'Hali', 'hii', 'ya', '``', 'kuvamia', \"''\", 'ngome', 'ya', 'kisiasa', 'ya', 'Rais', 'Kenyatta', 'imewakasirisha', 'wengi', 'wa', 'wandani', 'wa', 'Rais', 'Kenyatta', 'na', 'Rais', 'mwenyewe', '.', 'Hata', 'hivyo', ',', 'Bwana', 'Ruto', 'anafahamu', 'kuwa', 'hawezi', 'kupata', 'usaidizi', 'wa', 'kundi', 'linaloonekana', 'kumpinga', 'na', 'ndipo', 'akaanza', 'kampeini', 'ya', 'kuwafikia', 'wananchi', 'wa', 'mashinani', 'moja', 'kwa', 'moja', '.', 'Bwana', 'Ruto', 'alitumia', 'urafiki', 'wake', 'na', 'baadhi', 'ya', 'wabunge', 'na', 'wawakilishi', 'wodi', 'wa', 'sehemu', 'za', 'Mlima', 'Kenya', 'anakotoka', 'Rais', 'Kenyatta', 'na', 'kufanya', 'shughuli', 'nyingi', 'za', 'kisiasa', 'na', 'kidini', 'tangu', 'mwaka', 'wa', '2013', '.', 'Hali', 'hii', 'imemfanya', 'kuwa', 'na', 'umaarufu', 'kwenye', 'sehemu', 'hii', ',', 'jambo', 'linalowaudhi', 'baadhi', 'ya', 'maafisa', 'wakuu', 'serikalini', 'na', 'kwenye', 'chama', 'cha', 'Jubilee', '.', 'Katika', 'sehemu', 'ambazo', 'zinaonekana', 'kuwa', 'kinyanganyiro', 'cha', 'kisiasa', 'kitakuwa', 'kikali', 'na', 'ambako', 'kutakuwa', 'na', 'kupigania', 'umaarufu', 'kama', 'vile', 'Nairobi', ',', 'Nakuru', ',', 'Kirinyaga', ',', 'Kiambu', ',', 'Murang', \"'\", 'a', 'na', 'Kajiado', 'tayari', 'kinyanganyiro', 'kinaonekana', 'kitakuwa', 'kikali', '.', 'Katika', 'sehemu', 'hizi', 'zote', ',', 'Bwana', 'Ruto', 'amekuwa', 'akifanya', 'ziara', 'za', 'mara', 'kwa', 'mara', 'na', 'akielekeza', 'macho', 'yake', 'kwenye', 'sehemu', 'za', 'pwani', 'ya', 'Kenya', 'ambako', 'ndiko', 'ngome', 'ya', 'kiongozi', 'wa', 'upinzani', 'Raila', 'Odinga', 'na', 'chama', 'cha', 'cha', 'ODM', '.', 'Bwana', 'Ruto', 'amekuwa', 'akijaribu', 'kila', 'njia', 'kuhakikisha', 'kuwa', 'sehemu', 'ya', 'Mlima', 'Kenya', 'anakotoka', 'Rais', 'Kenyatta', 'iko', 'nyuma', 'yake', 'kisiasa', 'kwa', 'sababu', 'anahitaji', 'kura', 'za', 'sehemu', 'hii', 'ili', 'kuweza', 'kujiweka', 'kwenye', 'nafasi', 'nzuri', 'ya', 'kushinda', 'Urais', 'mwaka', 'wa', '2022', '.', 'Aidha', ',', 'jambo', 'hili', 'linatokana', 'pia', 'na', 'shauku', 'ya', 'kisiasa', 'kwamba', 'ahadi', 'za', 'kisiasa', 'si', 'za', 'kuaminiwa', 'maana', 'ahadi', 'aliyompa', 'Rais', 'Kenyatta', 'ya', 'kumuunga', 'mkono', 'kwenye', 'uchaguzi', 'wa', 'mwaka', 'wa', '2022', 'yaonekana', 'imeyeyuka', 'bayana', 'kwa', 'haraka', '.', 'Kura', 'za', 'eneo', 'la', 'Mlima', 'Kenya', 'Maelezo', 'ya', 'picha', ',', 'Rais', 'wa', 'Kenya', 'Uhuru', 'Kenyatta', 'na', 'Naibu', 'Rais', ',', 'William', 'Rutto', 'Tatizo', 'lililopo', 'kwenye', 'kura', 'za', 'Mlima', 'Kenya', 'ni', 'kuwa', 'kuna', 'ushahidi', 'wa', 'kihistoria', 'unaoonyesha', 'kuwa', 'tangu', 'kuanzishwa', 'kwa', 'siasa', 'za', 'vyama', 'vingi', 'nchini', 'Kenya', 'mwaka', 'wa', '1992', ',', 'jamii', 'ya', 'Agikuyu', 'haijawahi', 'kumpigia', 'mwaniaji', 'kutoka', 'nje', 'ya', 'jamii', 'hiyo', 'kura', 'nyingi', 'kwa', 'pamoja', '.', 'Katika', 'mwaka', 'wa', '1992', ',', 'sehemu', 'ya', 'Mlima', 'Kenya', 'iligawanyika', 'katika', 'upigaji', 'kura', 'baina', 'ya', 'Mwai', 'Kibaki', 'na', 'Ken', 'Matiba', '.', 'Katika', 'mwaka', 'wa', '1997', ',', 'Matiba', \"hakung'ang'ania\", 'Urais', ',', 'na', 'wapigaji', 'kura', 'wake', 'wote', 'wakahama', 'na', 'kumpigia', 'kura', 'mpizani', 'wake', ',', 'Mwai', 'Kibaki', '.', 'Katika', 'mwaka', 'wa', '2002', ',', 'kura', 'ya', 'sehemu', 'hii', 'iligawanyika', 'kati', 'ya', 'Mwai', 'Kibaki', 'na', 'Uhuru', 'Kenyatta', ',', 'ambaye', 'hakuwania', 'Urais', 'mwaka', 'wa', '2007', 'lakini', 'akimpigia', 'upatu', 'na', 'kuhakikisha', 'Rais', 'alikuwa', 'Mwai', 'Kibaki', '.', 'Mwaka', 'wa', '2013', ',', 'eneo', 'la', 'Mlima', 'Kenya', 'lilipiga', 'kura', 'kwa', 'kauli', 'moja', 'kwa', 'Uhuruto', '.', 'Kile', 'ambacho', 'hali', 'hii', 'inatuonyesha', 'ni', 'kuwa', 'wakati', 'mwaniaji', 'wa', 'Urais', 'kutoka', 'sehemu', 'ya', 'Mlima', 'Kenya', 'atakapojitokeza', 'akiwa', 'na', 'uwezo', 'wa', 'kuleta', 'matumaini', 'kwa', 'jamii', 'ya', 'eneo', 'hili', ',', 'uungwaji', 'mkono', 'wa', 'kisiasa', 'ambao', 'Bwana', 'Ruto', 'anaonekana', 'kuwa', 'nao', 'unaweza', 'kupotea', 'kwa', 'haraka', 'sana', '.', 'Pia', ',', 'Bwana', 'Ruto', 'ana', 'tatizo', 'jingine', 'la', 'kuhakikisha', 'kuwa', 'yule', 'atakayemchagua', 'kama', 'naibu', 'wake', 'katika', 'kinyangayiro', 'hicho', 'anatoka', 'eneo', 'hili', '.', 'Hali', 'hii', 'inatokana', 'na', 'ukweli', 'kwamba', 'Bwana', 'Ruto', 'amekuwa', 'naibu', 'wa', 'Rais', 'Kenyatta', 'na', 'utakuwa', 'wakati', 'mzuri', 'wa', '``', 'kurudisha', 'mkono', \"''\", '.', 'Lakini', 'hili', 'nalo', 'lina', 'ugiligili', 'wake', 'kwenye', 'siasa', 'za', 'Kenya', 'kwa', 'sababu', 'Wakenya', 'wa', 'maeneo', 'mengine', 'wanaweza', 'kuona', 'kwamba', 'Jubilee', 'ama', 'hali', 'iliyopo', 'Kenya', 'ni', 'utamaduni', 'wa', 'kisiasa', 'wa', 'kubadilisha', 'Urais', 'kwenye', 'jamii', 'mbili', 'tu', '-', 'Wakikikuyu', 'na', 'Wakalenjin', '.', 'Kinachodhihirika', 'ni', 'kwamba', ',', 'joto', 'la', 'kisiasa', 'linavyoendelea', 'kupanda', 'nchini', 'Kenya', 'kuhusiana', 'na', 'uchaguzi', 'wa', 'mwaka', 'wa', '2022', ',', 'naibu', 'Rais', 'William', 'Ruto', 'anajikuta', 'katika', 'hali', 'ngumu', 'ya', 'kufanya', 'maamuzi', 'muhimu', 'ambayo', 'huenda', 'yakafanikisha', 'azma', 'yake', 'ya', 'kuwania', 'urais', 'ama', 'kuivunja', 'azma']\n",
      "\n",
      " Number of Words:  1847\n"
     ]
    }
   ],
   "source": [
    "file=\"20oct13_1.txt\"\n",
    "\n",
    "# calling the function and storing the contents in a text variable \n",
    "text = get_document(\"https://www.bbc.com/swahili/habari-54519760\")\n",
    "\n",
    "# calling the store_ document function \n",
    "store_document(doc=text,name=file)\n",
    "\n",
    "#add the words in this file to the total_corpus_words, to keep count of the number of words in the corpus\n",
    "total_corpus_words+=total_words(file)"
   ]
  },
  {
   "cell_type": "code",
   "execution_count": 126,
   "metadata": {},
   "outputs": [
    {
     "data": {
      "text/plain": [
       "343121"
      ]
     },
     "execution_count": 126,
     "metadata": {},
     "output_type": "execute_result"
    }
   ],
   "source": [
    "total_corpus_words"
   ]
  },
  {
   "cell_type": "code",
   "execution_count": 127,
   "metadata": {},
   "outputs": [
    {
     "name": "stdout",
     "output_type": "stream",
     "text": [
      "['Mfanyakazi', 'wa', 'zamani', 'wa', 'kampuni', 'ya', 'kutengeneza', 'pizza', 'amekamatwa', 'nchini', 'Marekani', 'baada', 'ya', 'mteja', 'kupata', 'wembe', 'ndani', 'ya', 'mkate', 'wa', 'pizza', 'alioununua', ',', 'polisi', 'imesema', '.', 'Duka', 'la', 'bidhaa', 'mbalimbali', '-', 'Saco', 'Hannaford', 'Supermarket', ',', 'lililopo', 'eneo', 'la', 'Maine', 'liliifahamisha', 'polisi', 'baada', 'ya', 'wembe', 'kupatikana', 'katika', 'mkate', 'wa', 'pizza', 'wenye', 'nembo', 'ya', 'Portland', 'Pie', 'ulionunuliwa', 'katika', 'duka', 'hilo', '.', 'Nicholas', 'Mitchell', ',', 'ambaye', 'ni', 'mfanyakazi', 'wa', 'zamani', 'wa', 'kampuni', 'ya', \"'It\", \"'ll\", 'Be', 'Pizza', \"'\", ',', 'ambayo', 'ilitengeneza', 'pizza', 'hiyo', ',', 'alikamatwa', '.', 'Picha', 'ya', 'video', 'ya', 'CCTV', 'katika', 'duka', 'hilo', 'ilikuwa', 'imeonesha', 'mwanaume', 'akichezea', 'bidhaa', '.', 'Haikubainika', 'ni', 'kwa', 'sababu', 'gani', 'aliamua', 'kufanya', 'kitendo', 'hicho', '.', 'Mshukiwa', 'alikamatwa', 'katika', 'kituo', 'cha', 'polisi', 'cha', 'New', 'Hampshire', 'baada', 'ya', 'polisi', 'kuweka', 'rufaa', '.', 'Mteja', 'aliyenunua', 'mkate', 'huo', 'wa', 'pizza', 'kutoka', 'Portland', 'Pie', 'na', 'mkate', 'wa', 'jibini', 'kutoka', 'kampuni', 'hiyo', 'ya', 'Portland', 'Pie', 'katika', 'duka', 'lolote', 'la', 'Hannaford', 'kati', 'ya', 'Agosti', '1', 'na', '11', 'Oktoba', 'wametakiwa', 'kuirejesha', 'dukani', ',', 'limesema', 'duka', 'hilo', '.', '``', 'Baada', 'ya', 'kile', 'kinachoaminiwa', 'kuwa', 'tukio', 'la', 'uchezeaji', 'wenye', 'nia', 'mbaya', 'uliohusisha', 'vifaa', 'vya', 'chuma', 'vilivyoingizwa', 'kwenye', 'bidhaa', 'za', 'Portland', 'Pie', ',', 'Hannaford', 'imeondoa', 'dukani', 'bidhaa', 'zote', 'za', 'Portland', 'Pie', 'na', 'imesitisha', 'kuleta', 'tena', 'bidhaa', 'hizo', 'dukani', 'kwa', 'muda', 'usiojulikana', ',', \"''\", 'Hannaford', 'ilisema', 'katika', 'taarifa', 'yake', '.', 'Hospitali', 'ya', 'Benjamin', 'Mkapa', 'yatoa', 'huduma', 'za', 'matibabu', 'bure', 'Hospitali', 'ya', 'Benjamin', 'Mkapa', 'nchini', 'Tanzania', 'imeandaa', 'kambi', 'ya', 'wiki', 'moja', 'ya', 'ambapo', 'madaktari', 'bingwa', 'wanatoa', 'huduma', 'mbalimbali', 'bure', '.', 'Miongoni', 'mwa', 'huduma', 'hizo', 'ni', 'upimaji', 'wa', 'saratani', 'ya', 'matiti', 'pamoja', 'na', 'shingo', 'ya', 'uzazi', '.', 'Vilevile', 'kuna', 'upimaji', 'wa', 'magonjwa', 'mengine', 'kama', 'macho', '.', 'Upimaji', 'huu', 'pia', 'unaenda', 'sambamba', 'na', 'maadhimisho', 'ya', 'miaka', 'mitano', 'tangu', 'kuanzishwa', 'kwa', 'hospitali', 'hiyo', '.', 'BBCCopyright', ':', 'BBC', 'Miongoni', 'mwa', 'huduma', 'zinazotolewa', 'bure', 'ni', 'pamoja', 'na', 'upimaji', 'wa', 'saratani', 'ya', 'matiti', 'na', 'shingo', 'ya', 'uzaziImage', 'caption', ':', 'Miongoni', 'mwa', 'huduma', 'zinazotolewa', 'bure', 'ni', 'pamoja', 'na', 'upimaji', 'wa', 'saratani', 'ya', 'matiti', 'na', 'shingo', 'ya', 'uzazi', 'BBCCopyright', ':', 'BBC', 'Hospitali', 'ya', 'Benjamin', 'Mkapa', 'ni', 'miongoni', 'mwa', 'hospitali', 'kubwa', 'za', 'rufaa', 'nchini', 'Tanzania', 'ambayo', 'inahudumia', 'zaidi', 'watu', 'wa', 'mikoa', 'ya', 'kanda', 'ya', 'kati', 'kama', 'vile', 'Singida', ',', 'Dodoma', 'na', 'Morogoro', '.', 'Mpaka', 'sasa', 'hospitali', 'BMH', 'mbali', 'na', 'kutibu', 'magonjwa', 'mengine', 'lakini', 'imejikita', 'zaidi', 'katika', 'matibabu', 'ya', 'figo', 'na', 'upandikizaji', 'wake', '.', 'Video', 'ya', 'wasichana', 'wa', 'shule', '‘', 'wakinyunyiziwa', '’', 'dawa', 'ya', 'kuua', 'virusi', \"'\", 'yawakera', 'Wakenya', 'Video', 'inayoonesha', 'wasichana', 'wa', 'shule', 'wakiwa', 'wamejipanga', 'msururu', 'kwa', 'ajili', 'ya', 'kunyunyiziwa', 'dawa', 'kama', 'sehemu', 'ya', 'hatua', 'za', 'kukabiliana', 'na', 'kusambaa', 'kwa', 'virusi', 'vya', 'corona', 'imeleta', 'mgawanyiko', 'miongoni', 'mwa', 'Wakenya', 'mtandaoni', '.', 'Shirika', 'la', 'afya', 'duniani', 'halishauri', 'kuwanyunyizia', 'watu', 'dawa', 'ya', 'kuua', 'virusi', 'na', 'linasema', 'inaweza', 'kuleta', 'madhara', '‘', '’', 'kimwili', ',', 'na', 'kisaikolojia', '’', '’', 'Shule', 'zimefunguliwa', 'Jumatatu', 'nchini', 'Kenya', 'kwa', 'ajili', 'ya', 'wanafunzi', 'wanaohitimu', 'huku', 'miongozo', 'ikitolewa', 'kuhusu', 'utoaji', 'wa', 'vitakasa', 'mikono', 'na', 'mahala', 'pa', 'kunawa', 'mikono', 'na', 'kuzingatiwa', 'kwa', 'sharti', 'la', 'kutosogeleana', 'ili', 'kuzuwia', 'usambaaji', 'wa', 'virusi', 'vya', 'corona', '.', 'Wakenya', 'kwenye', 'mtandao', 'wa', 'kijamii', 'wa', 'Twitter', 'wameelezea', 'maoni', 'yao', 'tofauti', 'kuhusu', 'kunyunyiziwa', 'kwa', 'wanafunzi', '.', '``', 'Vitu', 'kama', 'hivyo', 'na', 'vifaa', 'vya', 'kunyunyiza', 'vilipigwa', 'marufuku', 'na', 'wizara', 'ya', 'afya', 'Kwa', 'vipi', 'watu', 'wazima', 'wanakaa', 'chini', 'na', 'kuamua', 'kwamba', 'kuwanyunyizia', 'watoto', 'kama', 'hivi', 'kutadhibiti', '#', 'Covid19', '?', 'Vipi', 'kuhusu', 'maji', 'na', 'sabuni', '?', '``', 'Dkt', 'Mercy', 'korir', 'aliandika', 'kwenye', 'tweeter', '.', '``', 'Halafu', 'kuanzia', 'siku', 'inayofuata', 'tunakua', 'na', 'matatizo', 'ya', 'ngozi', ',', 'kifua', ',', 'maradhi', 'ya', 'pumu', 'yote', 'kwa', 'sababu', 'ya', 'kisingizio', 'cha', 'pesa', '.', 'Wazazi', 'walilazimika', 'kulipakwa', 'ajili', 'ya', 'watoto', 'wao', 'ili', 'wanyunyiziwe', 'dawa', 'kama', 'ng', '’', 'ombe', ',', \"''\", 'Phill', 'Kamara', 'aliandika', 'tweeter', '.', '``', 'Sioni', 'tatizo', 'lolote', 'kuhusu', 'shughuli', 'hii', '..', 'Ulitarajiwa', 'watatakaswa', 'vipi', 'na', 'maambukizi', '?', '..', 'Baadhi', 'yenu', 'ni', 'waasi', 'tu', 'bila', 'sababu', ',', \"''\", 'Denno', 'Duevshi', 'aliandika', 'mtandaoni', '.', 'Kenya', 'yaitaka', 'Uingereza', 'iwachukulie', 'hatua', 'polisi', 'wake', \"'waliomtesa\", 'Mkenya', \"'\", 'Mitandao', 'ya', 'kijamiiCopyright', ':', 'Mitandao', 'ya', 'kijamii', 'Bw', '.', 'Wycliff', 'Cox', 'ameripotiwa', 'kuwa', 'ana', 'ugonjwa', 'wa', 'akiliImage', 'caption', ':', 'Bw', '.', 'Wycliff', 'Cox', 'ameripotiwa', 'kuwa', 'ana', 'ugonjwa', 'wa', 'akili', 'Kenya', 'imeiandikia', 'Uingereza', 'ikidai', 'haki', 'juu', 'ya', 'ukatili', 'dhidi', 'ya', 'raia', 'wa', 'Kenya', 'unaodaiwa', 'kufanywa', 'na', 'maafisa', 'wa', 'polisi', 'katika', 'eneo', 'la', 'Colchester', ',', 'Essex', 'nchini', 'humo', '.', 'Tukio', 'la', 'ukatili', 'huo', 'lilichukuliwa', 'kwenye', 'picha', 'ya', 'video', 'ambayo', 'ilisambazwa', 'kwenye', 'mitandao', 'ya', 'kijamii', 'na', 'kuibua', 'hasira', 'na', 'vilevile', 'kuchochea', 'vugu', 'vugu', 'la', '‘', 'Black', 'Lives', 'Matter', '’', 'dhidi', 'ya', 'ubaguzi', 'wa', 'rangi', '.', 'Katika', 'video', 'hiyo', ',', 'polisi', 'takriban', 'sita', 'wa', 'Uingereza', 'wanaonekana', 'wakimtesa', 'Mkenya', 'aliyetambuliwa', 'kama', 'Wycliff', 'Cox', 'walipokuwa', 'wakitaka', 'kumkamata', 'kwa', 'madai', 'ya', 'kukiuka', 'sheria', 'za', 'dhamana', '.', 'Maafisa', 'hao', 'wanaonekana', 'wakikandamiza', 'kichwa', 'cha', 'Wycliff', 'ardhini', 'huku', 'wakishikia', 'shingo', 'yake', ',', 'huku', 'watu', 'wa', 'familia', 'yake', 'ikitazama', 'na', 'mama', 'yake', 'akisikika', 'akiomba', ':', '“', 'Usimuue', 'kijana', 'wangu.', '”', 'Huku', 'uso', 'wake', 'ukionekana', 'kutoka', 'damu', ',', 'mikono', 'na', 'miguu', 'ikiwa', 'imefungwa', ',', 'Wycliff', ',', 'ambaye', 'ameripotiwa', 'kuwana', 'ugonjwa', 'wa', 'akili', ',', 'anaonekana', 'akichukuliwa', 'na', 'polisi', 'na', 'kuingizwa', 'ndani', 'ya', 'gari', 'la', 'polisi', 'lililokuwa', 'linasubiri', '.', 'Katika', 'taarifa', 'yake', 'iliyotolewa', 'Jumatatu', ',', 'Ubalozi', 'wa', 'Kenya', 'nchini', 'Uingereza', 'ulitoa', 'wito', 'wa', 'kuchukuliwa', 'kwa', 'hatua', 'dhidi', 'ya', 'mafisa', 'hao', 'kwa', '‘', '’', 'matumizi', 'ya', 'nguvu', 'zisizo', 'za', 'lazima', 'kwa', 'mtu', 'ambaye', 'hakuwa', 'na', 'silaha', '.', '“', 'Ubalozi', 'wa', 'Kenya', 'nchini', 'Uingereza', 'umepokea', 'video', 'ya', 'kusikitisha', 'inayosambaa', 'kwenye', 'mitandao', 'ya', 'kijamii', 'ambapo', 'polisi', 'katika', 'Colchester', ',', 'Essex', 'wanaonekana', 'wakimtesa', 'Mkenya', ',', 'Bw', '.', 'Wycliff', 'Cox', ',', '”', 'alieleza', 'taarifa', 'ya', 'ubalozi', 'wa', 'Kenya', 'nchini', 'Uingereza', ':', 'Yanga', 'SC', 'yamsajili', 'mchezaji', 'wa', 'Burundi', 'aliyeifunga', 'bao', 'Taifa', 'Stars', 'Timu', 'ya', 'soka', 'ya', 'Tanzania', 'Young', 'Africans', 'Sports', 'Club', 'imemsajili', 'mchezaji', 'wa', 'Burundi', 'Saidi', 'Ntibazonkiza', '.', 'Ntibazonkiza', 'ambaye', 'amekuwa', 'akicheza', 'katika', 'safu', 'ya', 'mashambulizi', 'ya', 'timu', 'ya', 'soka', 'ya', 'Burundi', '-Vitalo', 'anahamia', 'Yanga', 'SC', 'baada', 'ya', 'kuifunga', 'timu', 'ya', 'taifa', 'ya', 'Tanzania', '.', 'Taifa', 'Stars', '–', 'katika', 'mchezo', 'wa', 'kirafiki', 'na', 'timu', 'ya', 'taifa', 'ya', 'lake', ',', 'Intamba', 'Murugamba', 'mnamo', 'dakika', 'ya', '85', 'siku', 'ya', 'Jumapili', '.', 'Yanga', 'imetuma', 'imedhihirisha', 'usajiri', 'huu', 'kwenye', 'ukurasa', 'wake', 'wa', 'twitter', ':', 'Rwanda', 'yapunguza', 'muda', 'wa', 'amri', 'ya', 'kutotoka', 'nje', 'usiku', 'Wanaokiuka', 'miongozo', 'ya', 'kukabiliana', 'na', 'corona', 'Rwanda', 'hulazimishwa', 'kuketi', 'hadi', 'siku', 'inayofuataImage', 'caption', ':', 'Wanaokiuka', 'miongozo', 'ya', 'kukabiliana', 'na', 'corona', 'Rwanda', 'hulazimishwa', 'kuketi', 'hadi', 'siku', 'inayofuata', 'Baraza', 'la', 'mawaziri', 'nchini', 'Rwanda', 'limepunguza', 'muda', 'wa', 'amri', 'ya', 'kutotembea', 'nje', 'wakati', 'wa', 'usiku', 'kwa', 'saa', 'mbili', 'huku', 'idadi', 'ya', 'watu', 'wapya', 'wanaopata', 'maambukizi', 'ikipungua', '.', 'Amri', 'ya', 'kutotembea', 'nje', 'usiku', 'sasa', 'itaanza', 'kutekelezwa', 'kuanzia', 'saa', 'nne', 'usiku', 'hadi', 'saa', 'kumi', 'alfajiri', 'kwa', 'saa', 'za', 'Rwanda', '.', 'Sasa', 'mabasi', 'ya', 'abiria', 'ya', 'umma', 'yatajaza', 'viti', 'vyote', 'vya', 'abiria', 'huku', 'idadi', 'ya', 'abiria', 'wanaosimama', 'wakiruhusiwa', 'kuwa', 'nusu', 'ya', 'wale', 'waliokuwa', 'wakiruhusiwa', 'kusimama', 'ndani', 'ya', 'basi', '.', 'Watu', 'wanaohudhuria', 'mikutano', 'hawatahitajika', 'tena', 'kudhihirisha', 'kuwa', 'hawana', 'Covid-19', ',', 'lakini', 'waandalizi', 'watatakiwa', 'kuheshimu', 'miongozo', 'ya', 'kukaa', 'mbali', 'kwa', 'kuwa', 'na', '50', '%', 'ya', 'mahudhurio', 'ya', 'washiriki', '.', 'Baraza', 'la', 'mawaziri', 'limesema', 'kuwa', 'adhabu', 'ya', 'kutovaa', 'barakoa', 'na', 'kukiuka', 'amri', 'ya', 'kutotoka', 'nje', 'itaendelea', 'kutekelezwa', '.', 'Wale', 'wanaopatikana', 'bila', 'kuvaa', 'barakoa', 'katika', 'maeneo', 'ya', 'umma', 'watatozwa', 'faini', 'ya', '$', '10', '.', 'Kiwango', 'hicho', 'cha', 'faini', 'pia', 'kitatozwa', 'kwa', 'wale', 'wasioheshimu', 'miongozo', 'ya', 'kukaa', 'umbali', 'wa', 'mita', '2', 'kati', 'ya', 'mtu', 'na', 'mtu', 'na', 'kupuuza', 'amri', 'ya', 'kutotoka', 'nje', 'nyakatoi', 'za', 'usiku', '.', 'Baadhi', 'ya', 'watu', 'wanaokiuka', 'maagizo', 'hayo', 'hulala', 'kwenye', 'viwanja', 'vya', 'michezo', 'au', 'majengo', 'ya', 'shule', 'ambako', 'huketi', 'hadi', 'asubuhi', 'ya', 'siku', 'inayofuata', '.', 'Hadi', 'sasa', 'Rwanda', 'imethibitisha', 'kuwa', 'watu', '4,905', 'walipatwa', 'na', 'maambukizi', 'ya', 'virusi', 'vya', 'corona', 'Tume', 'ya', 'uchaguzi', 'nchini', 'Tanzania', 'imepinga', 'taarifa', 'zilizotolewa', 'kwenye', 'vyombo', 'vya', 'habari', 'na', 'mitandao', 'ya', 'kijamii', 'na', 'Katibu', 'Mkuu', 'wa', 'chama', 'cha', 'upinzani', 'nchini', 'humo', 'Chadema', ',', 'Bw', 'John', 'Mnyika', 'kuhusu', 'mchakato', 'wa', 'zabuni', 'ya', 'uchapishaji', 'wa', 'makaratasi', 'ya', 'kupigia', 'kura', 'pamoja', 'na', 'jina', 'la', 'mzabuni', '.', 'Tume', 'hiyo', 'imezitaja', 'taarifa', 'za', 'Chadema', 'kuwa', 'ni', 'za', 'upotoshaji', ',', 'na', 'kuongeza', 'kuwa', 'Manunuzi', 'ya', 'jumla', 'ya', 'zabuni', '47', 'ziliorodheshwa', 'ikiwemo', 'zabuni', 'iliyoyohusu', 'uchapishaji', 'wa', 'karatasi', 'za', 'kupigia', 'kura', 'na', 'njia', 'ya', 'kumpata', 'mshindi', 'iliyotangazwa', 'ni', 'ya', 'ushindani', 'wa', 'wazi', 'wa', 'kimataifa', '.', 'Taarifa', 'hiyo', 'ya', 'NEC', 'imetolewa', 'baada', 'ya', 'Chama', 'cha', 'Chadema', 'kupitia', 'Katibu', 'wake', 'Mkuu', 'Bw', 'John', 'Mnyika', 'kuitaka', 'NEC', 'kutaja', 'kampuni', 'ya', 'uchapishaji', 'wa', 'karatasi', 'za', 'kupigia', 'kura', '.', 'Bwana', 'Mnyika', 'amesema', 'hayo', 'katika', 'mazungumzo', 'na', 'waandishi', 'wa', 'habari', ':', '’', '’', 'Kuna', 'jambo', 'ambalo', 'naamini', 'waandishi', 'wa', 'habari', 'hamlifahamu', 'na', 'umma', 'haulifahamu', 'na', 'kupitia', 'kwenu', 'ni', 'vizuri', 'jambo', 'hili', 'likawa', 'wazi', 'kwa', 'umma', '...', 'tarehe', 'nane', 'mwezi', 'Oktoba', ',', 'Tume', 'ya', 'uchaguzi', 'iliitisha', 'kikao', 'cha', 'kwanza', 'cha', 'tume', 'ya', 'taifa', 'cha', 'manunuzi', 'na', 'lojistiki', '...', 'tafsiri', 'yake', 'ni', 'nini', '...', 'toka', 'mchakato', 'wa', 'uchaguzi', 'umeanza', ',', 'tume', 'ya', 'taifa', 'ya', 'uchaguzi', 'imekuwa', 'ikifanya', 'manunuzi', 'na', 'kufanya', 'lojistiki', 'mbali', 'mbali', 'za', 'uchaguzi', 'bila', 'kuhusisha', 'vyama', 'vya', 'siasa', 'mpaka', 'tarehe', 'nane', 'Oktoba', ',', 'wameita', 'kikao', 'ambacho', 'kimsingi', 'ni', 'kuvieleza', 'tu', 'vyama', 'kwamba', 'tayari', 'tume', 'imekwisihafanya', 'manunuzi', 'ya', 'vifaa', 'vya', 'kiuchaguzi', 'katika', 'masuala', 'ambayo', 'yanapaswa', 'kuwa', 'wazi', 'kwa', 'umma', '’', '’', ',', 'Mnyika', 'amesema', '.', 'Taarifa', 'hiyo', 'iliyotolewa', 'na', 'Mkutugenzi', 'wa', 'uchaguzi', 'NEC', 'Dkt', '.', 'Wilson', 'M.Charles', 'imesema', 'licha', 'ya', 'Tume', 'kuvishirikisha', 'vyama', 'vya', 'kisiasa', 'kwenye', 'eneo', 'la', 'upatikanaji', 'wa', 'vifaa', 'vya', 'uchaguzi', 'kikiwemo', 'Chadema', 'vyama', 'hivyo', 'havikuteua', 'wajumbe', 'wa', 'kuunda', 'kamati', 'ya', 'Lojistiki', ',', 'licha', 'ya', 'vyama', 'hivyo', 'kuandikiwa', 'barua', 'na', 'tume', 'tarehe', '30', 'Juni', ',', '2020', '.', 'Tume', 'ya', 'uchaguzi', 'nchini', 'Tanzania', 'ndio', 'yenye', 'mamlaka', 'ya', 'kikatiba', 'ya', 'kusimamia', 'na', 'kuratibu', 'uendeshaji', 'wa', 'uchaguzi', 'wa', 'Rais', 'Wabunge', 'na', 'Madiwani', 'kwa', 'upande', 'wa', 'Tanzania', 'bara', '.', 'Weah', 'aiomba', 'Marekani', 'kusaidia', 'uchunguzi', 'wa', 'mauaji', 'ya', 'ajabu', 'George', 'Weah', 'ambaye', 'ni', 'nyota', 'wa', 'zamani', 'wa', 'soka', 'alikuwa', 'rais', 'wa', 'liberia', '2018Image', 'caption', ':', 'George', 'Weah', 'ambaye', 'ni', 'nyota', 'wa', 'zamani', 'wa', 'soka', 'alikuwa', 'rais', 'wa', 'liberia', '2018', 'Rais', 'wa', 'Liberia', 'George', 'Weah', 'ameiomba', 'Marekani', 'kusaidia', 'katika', 'uchunguzi', 'wa', 'mauaji', 'ya', 'ajabu', 'ya', 'maafisa', 'wa', 'ngazi', 'ya', 'juu', 'katika', 'nyadhifa', 'zinazohusiana', 'na', 'masuala', 'ya', 'fedha', 'nchini', 'mwake', ',', 'limeripoti', 'shirika', 'la', 'habari', 'lenye', 'uhusiano', 'na', 'serikali', 'ya', 'Liberia', '{', 'LINA', '}', 'Vifo', 'vya', 'maafisa', 'hao', 'vimeibua', 'tetesi', 'za', 'kampeni', 'ya', 'mauaji', ',', 'kulingana', 'na', 'taarifa', 'ya', 'shirika', 'la', 'habari', 'la', 'AFP', '.']\n",
      "\n",
      " Number of Words:  1645\n"
     ]
    }
   ],
   "source": [
    "file=\"20oct13_2.txt\"\n",
    "\n",
    "# calling the function and storing the contents in a text variable \n",
    "text = get_document(\"https://www.bbc.com/swahili/live/habari-54520370\")\n",
    "\n",
    "# calling the store_ document function \n",
    "store_document(doc=text,name=file)\n",
    "\n",
    "#add the words in this file to the total_corpus_words, to keep count of the number of words in the corpus\n",
    "total_corpus_words+=total_words(file)"
   ]
  },
  {
   "cell_type": "code",
   "execution_count": 128,
   "metadata": {},
   "outputs": [
    {
     "data": {
      "text/plain": [
       "344766"
      ]
     },
     "execution_count": 128,
     "metadata": {},
     "output_type": "execute_result"
    }
   ],
   "source": [
    "total_corpus_words"
   ]
  },
  {
   "cell_type": "code",
   "execution_count": 129,
   "metadata": {},
   "outputs": [
    {
     "name": "stdout",
     "output_type": "stream",
     "text": [
      "['Lakini', 'matukio', 'yaliokuwa', 'yanatokea', 'mbele', 'ya', 'macho', 'yake', 'yalikuwa', 'tofauti', 'kabisa', 'na', 'matarajio', 'yake', '.', 'Mwanadada', 'huyu', 'alihisi', 'kana', 'kwamba', 'alikuwa', 'kwenye', 'ndoto', '.', '``', 'Nilionyeshwa', 'sehemu', 'ambapo', 'ningelala', 'kwa', 'mwaka', 'mmoja', 'uliofuata', '.', 'Nilipewa', 'chombo', 'cha', 'chuma', 'ambacho', 'ningekitumia', 'kama', 'sahani', '.', 'Hali', 'kadhalika', 'niligundua', 'kuwa', 'gerezani', 'bafu', 'zisizo', 'na', 'mlango', 'na', 'vyoo', 'ambavyo', 'vilikuwa', 'vinatumika', 'na', 'makumi', 'ya', 'wafungwa', 'wenzangu', 'ilikuwa', 'kawaida', ',', \"''\", 'anasema', 'Teresia', '.', '``', 'Haya', 'ni', 'mambo', 'ambayo', 'sikuwa', 'nimezoea', '.', 'Pia', 'niligundua', 'kuwa', 'mfungwa', 'kupata', 'mwangaza', 'wa', 'mchana', 'tu', ',', 'ni', 'kama', 'kupata', 'dhahabu', '.', 'Mwangaza', 'ulitoka', 'kwa', 'matundu', 'madogo', 'juu', 'juu', 'ya', 'ukuta', '.', 'Hakukuwa', 'na', 'kwenda', 'nje', 'bila', 'ruhusa', '.', \"''\", 'Chanzo', 'cha', 'picha', ',', 'Teresa', 'Njoroge', 'Maelezo', 'ya', 'picha', ',', 'Wafungwa', 'wanawake', 'wakiwa', 'katika', 'moja', 'ya', 'magereza', 'nchini', 'Kenya', 'Mwanadada', 'huyu', 'anasema', 'licha', 'ya', 'yote', 'aliyoshuhudia', 'gerezani', ',', 'alikuwa', 'ahudumie', 'kifungo', 'na', 'mtoto', 'wake', 'alikuwa', 'amejifungua', 'miezi', 'mitatu', 'iliyopita', '.', 'Kama', 'mama', 'alihisi', 'kana', 'kwamba', 'amefeli', 'katika', 'majukumu', 'yake', 'kwa', 'kumlea', 'mwanawe', 'katika', 'mazingira', 'ambayo', 'hakuchagua', 'yeye', '.', 'Kuanzia', 'hapo', 'alianza', 'kuwafundisha', 'wafungwa', 'wenzake', 'jinsi', 'ya', 'kusoma', 'na', 'kuandika', ',', 'kupanga', 'bajeti', ',', 'kuhifadhi', 'pesa', 'na', 'kuandika', 'mapendekezo', 'ya', 'biashara', '.', 'Teresa', 'aliondoka', 'gerezani', 'mnamo', 'Novemba', '2011', ',', 'baada', 'ya', 'kuachiliwa', 'huru', 'miezi', 'minne', 'kabla', 'ya', 'kumaliza', 'kifungo', 'chake', 'baada', 'ya', 'kuonesha', 'mwenendo', 'mzuri', '.', 'Mashtaka', 'ya', 'wizi', 'yalikuwa', 'yameondolewa', 'mahakamani', 'lakini', 'hadi', 'mwezi', 'Februari', '2013', 'ndipo', 'ilipothibitishwa', 'na', 'Mahakama', 'ya', 'Rufaa', ',', 'ambayo', 'ilisema', 'kuhukumiwa', 'kwake', 'hakukuwa', 'sahihi', '.', '``', 'Nilifikiri', 'kufugwa', 'jela', 'ndio', 'jambo', 'baya', 'zaidi', 'ambalo', 'lingeweza', 'kunisibu', 'lakini', 'nilipoachiliwa', ',', 'niligundua', 'aina', 'nyingine', 'ya', 'mateso', 'iitwayo', 'unyanyapaa', ',', \"''\", 'anasema', 'Teresa', 'Kulingana', 'na', 'Teresa', ',', 'ile', 'hali', 'ya', 'mtu', 'anayetoka', 'kuhudumia', 'kifungo', 'kujaribu', 'kurejea', 'na', 'kutangamana', 'katika', 'jamii', 'ambayo', 'tayari', 'imeunda', 'mtazamo', 'fulani', 'juu', 'yake', 'huwa', 'ni', 'ngumu', 'sana', '.', 'Anasema', 'kuwa', 'sio', 'wengi', 'wanaotaka', 'kuhusishwa', 'au', 'kuhusiana', 'na', 'mtu', 'aliyetoka', 'kutumikia', 'kifungo', 'gerezani', '.', 'Jamii', 'yake', 'ilimpokeaje', '?', 'Kwa', 'bahati', 'nzuri', ',', 'Teresa', 'anaweza', 'kutegemea', 'familia', 'yake', 'lakini', 'anasema', 'wanawake', 'wengi', 'wakiondoka', 'gerezani', 'hukataliwa', 'na', 'wazazi', ',', 'ndugu', 'na', 'jamaa', 'wengine', '.', '``', 'Unakuwa', 'kama', 'mzigo', 'wa', 'ziada', 'kwa', 'sababu', 'hukutoka', 'na', 'kitu', '.', 'Wewe', 'unakuwa', 'wa', 'kutegemea', 'na', ',', 'kwa', 'hivyo', ',', 'ni', 'dhima', '.', 'Tayari', 'unaporudi', 'kwa', 'familia', 'yako', 'wao', 'pia', 'wana', 'shida', 'zao', 'wanazojaribu', 'kutatua', '.', 'Je', 'wataweza', 'ya', 'kwako', 'wewe', 'uliyotoka', 'gerezani', '?', \"''\", 'Teresa', 'anasema', 'Japo', 'pia', 'mwanadada', 'huyu', 'alipata', 'changamoto', 'ya', 'kupata', 'ajira', '-', 'hakuweza', 'kupata', 'kazi', 'licha', 'ya', 'kuhitaji', 'sana', 'kipato', 'cha', 'kumuwezesha', 'kuhudumia', 'mahitaji', 'yake', 'ya', 'kimsingi', '.', 'Jambo', 'jingine', 'ni', 'kuwa', 'pia', 'ilikuwa', 'vigumu', 'kurudi', 'kwenye', 'mambo', 'aliyokuwa', 'anayafanya', 'hapo', 'zamani', 'kabla', 'ya', 'kufuingwa', 'jela', '.', 'Mara', 'kwa', 'mara', 'alipojaribu', 'kuwapigia', 'simu', 'marafiki', 'wa', 'zamani', 'simu', 'haikujibiwa', 'na', 'wala', 'ujumbe', 'wake', 'kurejeshwa', '.', 'Mwanamke', 'huyu', 'anasema', 'kuwa', 'jamii', 'isipohamasihswa', 'vya', 'kutosha', 'inakuwa', 'kana', 'kwamba', 'mfungwa', 'alisahaulika', 'na', 'jamii', 'inakuwa', 'haina', 'wakati', 'na', 'yeye', '.', 'Mwanzo', 'mpya', 'Teresa', 'alijikuta', 'akivutiwa', 'na', 'wale', 'ambao', 'walijua', 'na', 'kufahamu', 'kutengwa', 'ni', 'nini', '.', 'Anakiri', 'kuwa', 'aligundua', 'kwa', 'haraka', 'kuwa', 'mkondo', 'mpya', 'wa', 'maisha', 'uliashiria', 'kuwa', 'anaanza', 'kufanya', 'kazi', 'na', 'wanawake', 'wanaotoka', 'gerezani', 'na', 'hawajui', 'waanzie', 'wapi', '.', '``', 'Niligundua', 'haraka', 'kuwa', 'kwa', 'uzoefu', 'wangu', 'wa', 'elimu', 'na', 'ushirika', ',', 'ningeweza', 'kuwasaidia', 'wanawake', 'hawa', '.', 'Niliichukua', 'hali', 'hii', 'kama', 'mwito', 'wangu', 'mpya', 'wa', 'maisha', ',', \"''\", 'Teresa', 'anasema', '.', 'Anaamini', 'kuwa', 'ukosefu', 'wa', 'nafasi', 'ya', 'pili', 'ndio', 'unaowapeleka', 'tena', 'gerezani', 'baadhi', 'ya', 'wanawake', 'hawa', 'kwani', 'wanakuwa', 'katika', 'pilkapilka', 'za', 'kutafuta', 'jinsi', 'ya', 'kukidhi', 'mahitaji', 'yao', 'na', 'hawana', 'wa', 'kuwasaidia', '.', 'Hali', 'hii', 'Teresa', 'anaiona', 'kama', 'mtego', 'mbaya', 'wa', 'umaskini', ',', 'unaojirudia.Uhalifu', 'unaowapelekea', 'wanawake', 'wasiokuwa', 'na', 'namna', 'kufungwa', 'tena', 'na', 'tena', '.', 'Wanawake', 'hawa', 'watajikuta', 'wakifanya', 'uhalifu', 'mdogo', 'wa', 'wizi', 'na', 'hata', 'ukahaba', '.', 'Hii', 'ndio', 'ilimfanya', 'Teresa', 'aanze', 'shirika', 'la', 'SMIMS', ',', '(', 'Support', 'Me', 'In', 'My', 'Shoes', ')', '.', 'Hii', 'ni', 'katika', 'hali', 'ya', 'kujaza', 'hitaji', 'la', 'programu', 'za', 'huduma', 'kwa', 'wanawake', 'katika', 'magereza', 'ya', 'Kenya', '.', 'Pia', 'alianzisha', 'mpango', 'wa', 'kuwapa', 'wanawake', 'fursa', 'za', 'kuanza', 'maisha', 'upya', 'ili', 'kuwawezesha', 'wanawake', 'kujimudu', 'kwa', 'kupitia', 'ujasiriamali', ',', 'ajira', 'na', 'mabadiliko', 'ya', 'mawazo', '.', 'Kwa', 'msaada', 'kutoka', 'kwa', 'wataalam', 'wa', 'kujitolea', ',', 'makanisa', ',', 'mashirika', 'na', 'wafadhili', ',', 'wafungwa', 'wa', 'zamani', 'wanaweza', 'kuanzisha', 'biashara', 'na', 'kupata', 'msukumo', 'wa', 'kuendelea', 'na', 'kozi', '.', 'Wanapata', 'pia', 'elimu', 'ya', 'afya', 'na', 'huduma', '.']\n",
      "\n",
      " Number of Words:  698\n"
     ]
    }
   ],
   "source": [
    "file=\"20oct14_1.txt\"\n",
    "\n",
    "# calling the function and storing the contents in a text variable \n",
    "text = get_document(\"https://www.bbc.com/swahili/habari-54526632\")\n",
    "\n",
    "# calling the store_ document function \n",
    "store_document(doc=text,name=file)\n",
    "\n",
    "#add the words in this file to the total_corpus_words, to keep count of the number of words in the corpus\n",
    "total_corpus_words+=total_words(file)"
   ]
  },
  {
   "cell_type": "code",
   "execution_count": 130,
   "metadata": {},
   "outputs": [
    {
     "data": {
      "text/plain": [
       "345464"
      ]
     },
     "execution_count": 130,
     "metadata": {},
     "output_type": "execute_result"
    }
   ],
   "source": [
    "total_corpus_words"
   ]
  },
  {
   "cell_type": "code",
   "execution_count": 131,
   "metadata": {},
   "outputs": [
    {
     "name": "stdout",
     "output_type": "stream",
     "text": [
      "['Wakuu', 'wa', 'shule', 'Kenya', 'watahadharishwa', 'dhidi', 'ya', 'kuwanyunyizia', \"'dawa\", \"'\", 'wanafunzi', 'Wizara', 'ya', 'afya', 'nchini', 'Kenya', 'imewatahadharisha', 'viongozi', 'wa', 'shule', 'dhidi', 'ya', 'kuwanyungizia', 'wanafunzi', 'dawa', 'za', 'kuua', 'vijidudu', 'kama', 'sehemu', 'ya', 'hatua', 'za', 'kukabiliana', 'na', 'virusi', 'vya', 'corona', '.', 'Wanafunzi', 'wanaojiandaa', 'kwa', 'mitihani', 'ya', 'kitaifa', 'katika', 'shule', 'za', 'msingi', 'na', 'upili', '(', 'sekondari', ')', 'walirejea', 'shuleni', 'Jumatatu', 'kwa', 'masomo', 'baada', 'ya', 'kukatiza', 'masomo', 'miezi', 'takriban', 'saba', 'kufuatia', 'mlipuko', 'wa', 'Covid-19', '.', 'Video', 'inayoonesha', 'wasichana', 'wa', 'shule', 'waliojipanga', 'msururu', 'kwa', 'ajili', 'ya', 'kunyunyiziwa', 'dawa', 'iliyotumwa', 'kwenye', 'mtandao', 'wa', 'kijamii', 'wa', 'Twitter', 'wa', 'gazeti', 'nchini', 'humo', 'iliibua', 'hasira', '.', 'Afisa', 'wa', 'utawala', 'katika', 'wizara', 'ya', 'afya', 'Rashid', 'Aman', ',', 'amesema', 'kuwa', 'kemikali', 'iliyotumiwa', 'haifai', 'kwa', 'binadamu', '.', 'Amesema', ',', 'wizara', 'itaagiza', 'shule', 'kuacha', 'kuwanyungizia', 'dawa', 'wanafunzi', '.', 'Miongozo', 'ya', 'Shirika', 'la', 'afya', 'duniani', 'haishauri', 'kuwanyunyizia', 'watu', 'dawa', 'kwani', 'unyunyiziaji', 'huo', 'unaweza', 'kuwasababishia', 'madhara', 'ya', 'kiafya', '.', 'Ofisi', 'ya', 'Bobi', 'Wine', 'yavamiwa', 'Kofia', 'anayoivaa', 'Bobi', 'Wine', 'na', 'wafuasi', 'wake', 'ilitangazwa', 'na', 'serikali', 'ya', 'Uganda', 'kama', 'sare', 'ya', 'jeshiImage', 'caption', ':', 'Kofia', 'anayoivaa', 'Bobi', 'Wine', 'na', 'wafuasi', 'wake', 'ilitangazwa', 'na', 'serikali', 'ya', 'Uganda', 'kama', 'sare', 'ya', 'jeshi', 'Ofisi', 'ya', 'chama', 'cha', 'mgombea', 'wa', 'Urais', 'nchini', 'Uganda', 'Robert', 'Kyagulanyi', ',', 'al', 'maarufu', 'Bobi', 'imevamiwa', 'na', 'makumi', 'ya', 'wanajeshi', 'wenye', 'silaha', 'pamoja', 'na', 'maafisa', 'wa', 'polisi', '.', 'Nyaraka', 'zimeripotiwa', 'kuchukuliwa', 'kutoka', 'kwenye', 'ofisi', 'pamoja', 'na', 'kofia', 'yenye', 'muundo', 'wa', 'kijeshi', 'na', 'magwanda', 'vimechukuliwa', '.', 'Kamera', 'za', 'CCTV', 'pia', 'zimechukuliwa', '.', 'Msemaji', 'wa', 'polisi', 'nchini', 'Uganda', 'Fred', 'Enanga', 'ameiambia', 'BBC', ',', '‘', 'tunafanya', 'operesheni', 'juu', 'ya', 'utumiaji', 'mbaya', 'wa', 'sare', 'za', 'kijeshi', '.', 'Septemba', 'mwaka', 'jana', ',', 'serikali', 'iliidhinisha', 'kofia', 'nyekundu', 'sawa', 'na', 'anayovaa', 'Bobi', 'Wine', 'na', 'wafuasi', 'wake', 'ni', 'sare', 'ya', 'jeshi-ikimaanisha', 'kuwa', 'yeyote', 'anayeonekana', 'ameimiliki', 'au', 'kuivaa', 'kinyume', 'cha', 'sheria', 'anaweza', 'kushitakiwa', '.', 'Bwana', 'Enanga', 'amesema', 'operesheni', 'inaendelea', 'na', 'kwamba', 'maafisa', 'watasaka', 'maeneo', 'mengine', 'pamoja', 'na', 'ofisi', 'za', 'National', 'Unity', '.', 'Bobi', 'Wine', 'amesema', 'kuwa', 'nguvu', 'za', 'dola', 'zinamlenga', 'na', 'chama', 'chake', 'wakati', 'akijiandaa', 'kukabiliana', 'na', 'Rais', 'Yoweri', 'Museveni', 'katika', 'uchaguzi', 'ujao', 'wa', 'mwaka', '2021', '.', 'Lakini', 'msemaji', 'wa', 'polisi', 'anasisitiza', 'kuwa', 'operesheni', 'hiyo', 'haijachochewa', 'kisiasa', '.', 'Waziri', 'Hamis', 'Kigwangala', 'amesema', 'eneo', 'lililoathiriwa', 'na', 'moto', 'ni', 'ngazi', 'ya', 'tatu', 'ya', 'msitu', 'ambayo', 'huwa', 'ina', 'vichakaImage', 'caption', ':', 'Waziri', 'Hamis', 'Kigwangala', 'amesema', 'eneo', 'lililoathiriwa', 'na', 'moto', 'ni', 'ngazi', 'ya', 'tatu', 'ya', 'msitu', 'ambayo', 'huwa', 'ina', 'vichaka', 'Asilimia', 'moja', 'nukta', 'sita', 'ya', 'eneo', 'la', 'hifadhi', 'ndilo', 'liloathiriwa', 'na', 'moto', 'na', 'hakuna', 'madhara', 'makubwa', 'ya', 'kiekolojia', 'na', 'bado', 'mpaka', 'sasa', 'chanzo', 'cha', 'moto', 'huo', 'hakija', 'bainika', 'na', 'bado', 'wanaendela', 'na', 'uchunguzi', 'na', 'hivyo', 'hawataki', 'kumnyooshea', 'yeyote', 'kidole', 'kwa', 'sasa', '.', 'Waziri', 'wa', 'mali', 'asili', 'na', 'utalii', 'nchini', 'Tanzania', 'Hamis', 'Kigwangala', 'amesema', 'moto', 'unaendelea', 'kuwaka', 'kwenye', 'msitu', 'wa', 'mlima', 'Kilimanjaro', 'kwa', 'siku', 'ya', 'nne', 'sasa', 'tayari', 'umedhibitiwa', 'kwa', 'kiasi', 'kikubwa', 'na', 'mvua', 'iliyonyyesha', 'usiku', 'wa', 'kuamkia', 'hii', 'leo', 'imesaidia', 'jitihada', 'za', 'kukabiliana', 'na', 'moto', 'huo', '.', 'Waziri', 'Kigwangala', 'amesema', 'eneo', 'lililoathiriwa', 'na', 'moto', 'huo', 'ni', 'ngazi', 'ya', 'tatu', 'ya', 'msitu', 'ambayo', 'huwa', 'ina', 'vichaka', 'na', 'msitu', 'mzito', 'wa', 'mlima', 'haujaathiriwa', 'kwa', 'namna', 'yoyote', '.', 'Waziri', 'Kigwangala', 'anasema', 'amesha', 'ielekeza', 'mamlaka', 'ya', 'hifadhi', 'za', 'mali', 'asili', 'nchini', 'Tanzania', '(', 'Tanapa', ')', 'kununua', 'vifaa', 'vya', 'kutoshha', 'vya', 'kuzima', 'moto', 'ikiwemo', 'helkopta', 'ili', 'kujiweka', 'tayari', 'iwapo', 'kutaibuka', 'janga', 'jingine', 'kama', 'hilo', 'siku', 'zijazo', '.', 'Post', 'update', 'Facebook', \"'kukabiliana\", 'na', 'taarifa', 'za', 'upotoshaji', \"'\", 'kabla', 'ya', 'uchaguzi', 'wa', 'Tanzania', 'Getty', 'ImagesCopyright', ':', 'Getty', 'Images', 'Facebook', 'imezindua', 'programu', 'kadhaa', 'za', 'kukabiliana', 'na', 'taarifa', 'potofu', 'na', 'uingiliwaji', 'wa', 'uchaguzi', 'nchini', 'Tanzania', 'kabla', 'ya', 'uchaguzi', 'wa', 'mkuu', 'wa', 'Oktoba', '28', 'mwaka', 'huu', ',', 'limeripoti', 'gazeti', 'la', 'Citizen', '.', 'Mkuu', 'wa', 'sera', 'wa', 'kampuni', 'hiyo', 'kubwa', 'ya', 'mtandao', 'wa', 'habari', 'wa', 'kijamii', 'katika', 'eneo', 'la', 'Afrika', 'Mashariki', 'na', 'upande', 'wa', 'Afrika', ',', 'Mercy', 'Ndegwa', ',', 'ametangaza', 'uzinduzi', 'wa', 'siku', 'ya', 'kumbukumbu', 'ya', 'uchaguzi', 'katika', 'Facebook', 'na', 'Instagram', '.', 'Uzinduzi', 'huo', 'utahusisha', 'utoaji', 'wa', 'taarifa', 'rasmi', 'za', 'upigaji', 'kura', 'na', 'kuwaruhusu', 'Watanzania', 'kushirikisha', 'uzoefu', 'wao', 'wa', 'kupiga', 'kura', '.', 'Bi', 'Ndegwa', 'anaripotiwa', 'kusema', 'kuwa', 'Facebook', 'itahakikisha', 'matangazo', 'ya', 'kibiashara', 'ya', 'kampeni', 'katika', 'majukwaa', 'yake', 'yanathibitishwa', 'kwa', 'ajili', 'ya', 'uwazi', '.', 'Vikwazo', 'vya', 'vyombo', 'ya', 'habari', 'vimeongezeka', 'tangu', 'Rais', 'Magufuli', 'anayewania', 'muhula', 'wa', 'pili', 'aingie', 'madarakani', 'mwaka', '2015', '.', 'Mkuu', 'wa', 'polisi', 'nchini', 'Nigeria', 'amesema', 'kikosi', 'kipya', 'kimeundwa', 'ili', 'kuchukua', 'nafasi', 'ya', 'kikosi', 'tata', 'maalumu', 'cha', 'polisi', 'cha', 'kukabiliana', 'na', 'wizi', 'kinachofahamika', 'kama', 'Sars', ',', 'ambacho', 'kilivunjwa', 'kufuatia', 'maandamano', 'ya', 'ukiukaji', 'wa', 'haki', 'za', 'binadamu', 'dhidi', 'yake', '.', 'Kikosi', 'kipya', 'kitajulikana', 'kama', \"'Swat\", \"'\", 'au', 'kikosi', 'maalumu', 'cha', 'cha', 'silaha', 'na', 'mbinu', '–', '(', 'Special', 'Weapons', 'and', 'Tactics', 'Team', ')', '.', 'Waandishi', 'wa', 'habari', 'wanasema', 'Wanigeria', 'wengi', 'hawana', 'Imani', 'na', 'wanaendelea', 'kuandamana', 'wakitaka', 'yafanyike', 'mageuzi', 'makubwa', 'katika', 'polisi', 'ya', 'nchi', 'hiyo', '.', 'Katika', 'juhudi', 'za', 'kutatua', 'kuondoa', 'hofu', 'miongoni', 'mwa', 'Wanigeria', 'mkuu', 'wa', 'polisi', 'amesema', 'kuwa', 'polisi', 'wote', 'kutoka', 'katika', 'kikosi', 'kilichovunjwa', 'watapitia', 'uchunguzi', 'wa', 'kisaikolojia', 'na', 'kimatibabu', 'kabla', 'ya', 'kupata', 'mafunzo', 'zaidi', 'na', 'kupelekwa', 'tena', 'katika', 'sehemu', 'za', 'kazi', '.', 'Pia', 'aliagiza', 'kuachiliwa', 'huru', 'bila', 'masharti', 'yoyote', 'kwa', 'watu', 'wote', 'waliokamatwa', 'wakati', 'wa', 'maandamano', '.']\n",
      "\n",
      " Number of Words:  817\n"
     ]
    }
   ],
   "source": [
    "file=\"20oct14_2.txt\"\n",
    "\n",
    "# calling the function and storing the contents in a text variable \n",
    "text = get_document(\"https://www.bbc.com/swahili/live/habari-54535648\")\n",
    "\n",
    "# calling the store_ document function \n",
    "store_document(doc=text,name=file)\n",
    "\n",
    "#add the words in this file to the total_corpus_words, to keep count of the number of words in the corpus\n",
    "total_corpus_words+=total_words(file)"
   ]
  },
  {
   "cell_type": "code",
   "execution_count": 132,
   "metadata": {},
   "outputs": [
    {
     "data": {
      "text/plain": [
       "346281"
      ]
     },
     "execution_count": 132,
     "metadata": {},
     "output_type": "execute_result"
    }
   ],
   "source": [
    "total_corpus_words"
   ]
  },
  {
   "cell_type": "code",
   "execution_count": 134,
   "metadata": {},
   "outputs": [
    {
     "name": "stdout",
     "output_type": "stream",
     "text": [
      "['Uholanzi', 'yaruhusu', 'mauaji', 'ya', 'huruma', 'kwa', 'watoto', 'Serikali', 'ya', 'Uholanzi', 'imeidhinisha', 'mipango', 'ya', 'kuruhusu', 'kifo', 'cha', 'mapema', 'au', 'mauaji', 'ya', 'huruma', 'kwa', 'watoto', 'wenye', 'ugonjwa', 'usiopona', 'kati', 'ya', 'mwaka', '1', 'na', 'miaka', '12', '...', 'Kwa', 'habari', 'zaidi', 'bofya', 'kiunganishi', 'hiki', ':', 'https', ':', '//www.bbc.com/swahili/54556899', 'Ujerumani', 'yarekodi', 'idadi', 'kubwa', 'zaidi', 'ya', 'waliopatwa', 'na', 'corona', 'kwa', 'siku', 'Ujerumani', 'imekuwa', 'na', 'idadi', 'kubwa', 'zaidi', 'ya', 'maambukizi', 'ya', 'virusi', 'vya', 'corona', 'tangu', 'mlipuko', 'huo', 'ulipotokea', 'nchini', 'humo', '.', 'Zaidi', 'ya', 'watu', '6,600', 'wameripotiwa', 'kupatwa', 'maambukizi', 'hayo', 'ndani', 'ya', 'saa', '24', '.', 'Hii', 'inakuja', 'saa', 'kadhaa', 'baada', 'ya', 'Kansela', 'wa', 'Ujerumani', 'Angela', 'Merkel', 'kusema', 'kuwa', 'hatua', 'za', 'kukaa', 'nyumbani', 'zitaimarishwa', 'katika', 'baadhi', 'ya', 'maeneo', 'ili', 'kuzuwia', 'kusambaa', 'kwa', 'ugonjwa', 'huo', '.', 'Hatua', 'hizo', 'ni', 'pamoja', 'na', 'amri', 'ya', 'kutotoka', 'nje', 'wakati', 'wa', 'usiku', ',', 'ikiwa', 'ni', 'pamoja', 'na', 'marufuku', 'ya', 'pombe', 'na', 'marufuku', 'ya', 'mikusanyiko', 'ya', 'umma', '.', 'Katika', 'nchi', 'jirani', 'ya', 'Ufaransa', ',', 'kugunduliwa', 'kwa', 'watu', '20,000', 'wenye', 'maambukizikwa', 'siku', 'moja', 'kulimlazimisha', 'rais', 'Emmanuel', 'Macron', 'kuweka', 'marufuku', 'ya', 'kutotembea', 'nje', 'usiku', 'mjini', 'paris', 'na', 'miji', 'mingine', 'minane', 'kuanzia', 'Jumamosi', '.', 'Nigeria', 'yapiga', 'marufuku', 'maandamano', 'dhidi', 'ya', 'polisi', '‘', 'katili', '’', 'Serikali', 'ya', 'Nigeria', 'imepiga', 'marufuku', 'maandamano', 'ya', 'kupinga', 'ukatili', 'wa', 'polisi', 'yanayofanywa', 'chini', 'ya', 'kampeni', 'ya', 'EndSars', 'mjini', 'Abuja', ',', 'ikielezea', 'madai', 'ya', 'ukiukaji', 'kanuni', 'za', 'kupambana', 'na', 'usambaaji', 'wa', 'Covid-19', '.', 'Taarifa', 'kuhusu', 'marufuku', 'hiyo', 'imesainiwa', 'na', 'waziri', 'wa', 'habari', 'mjini', 'Abuja', 'Anthony', 'Ogunleye', ':', 'Katika', 'taarifa', 'hiyo', 'serikali', 'imesema', 'kuwa', 'serikali', 'imeelezea', 'hofu', 'yake', 'juu', 'ya', 'kusambaa', 'kwa', 'maandamano', 'ambako', 'kumesababishashinikizo', 'kwa', 'raia', 'wanaoheshimu', 'sheria', ',', 'licha', 'ya', 'Mkuu', 'wa', 'polisi', 'kutangazwa', 'kuvunjwa', 'kwa', 'kikosi', 'kinachodaiwa', 'kutekeleza', 'ukatili', 'dhidi', 'ya', 'raia', 'Ufisadi', 'na', 'ukosefu', 'wa', 'heshima', 'vimekuwa', 'vikitumiwa', 'na', 'serikali', 'kuzima', 'maandamano', '.', 'Shule', 'zafunguliwa', 'tena', 'leo', 'Uganda', 'Shule', 'na', 'taasisi', 'nchini', 'Uganda', 'zimefunguliwa', 'hii', 'leo', 'kote', 'nchini', 'humo', 'baada', 'ya', 'kipindi', 'cha', 'miezi', 'saba', 'kufuatia', 'janga', 'la', 'COVID-19', '.', 'Wanaoruhusiwa', 'kurejea', 'shuleni', 'ni', 'watahiniwa', 'wanaokamilisha', 'masomo', 'yao', 'huku', 'shule', 'na', 'taasisi', 'zikitakiwa', 'kufuata', 'kanuni', 'za', 'kudhibiti', 'maambukizi', 'ya', 'corona', '.', 'Hata', 'hivyo', ',', 'shule', 'kadhaa', 'binafsi', 'zinalalamikia', 'kutosaidiwa', 'na', 'serikali', 'kuweza', 'kufadhili', 'mahitaji', 'ya', 'wanafunzi', 'kama', 'vile', 'vitakasa', 'mikono', 'na', 'vipima', 'joto', ',', 'anasema', 'mwandishi', 'wa', 'BBC', 'Issaac', 'Mumena', '.', 'BBCCopyright', ':', 'BBC', 'Baadhi', 'ya', 'wanafunzi', 'wameshindwa', 'kufika', 'shuleni', 'baada', 'ya', 'kukosa', 'fedha', 'za', 'kununua', 'vifaa', 'vya', 'kudhibiti', 'maambukiziImage', 'caption', ':', 'Baadhi', 'ya', 'wanafunzi', 'wameshindwa', 'kufika', 'shuleni', 'baada', 'ya', 'kukosa', 'fedha', 'za', 'kununua', 'vifaa', 'vya', 'kudhibiti', 'maambukizi', 'Mwezi', 'Septemba', ',', 'Rais', 'Yoweri', 'Museveni', 'wa', 'Uganda', 'alitangaza', 'kufunguliwa', 'kwa', 'shule', 'kwa', 'watahiniwa', 'wa', 'darasa', 'la', 'saba', ',', 'kidato', 'cha', 'nne', ',', 'kidato', 'cha', 'sita', ',', 'wanafunzi', 'wa', 'vyuo', 'vikuu', ',', 'vyuo', 'vya', 'ufundi', 'na', 'bishara', 'wanaomaliza', 'mwaka', 'wao', 'wa', 'mwisho', 'kuanzia', 'leo', '.', 'Shule', 'hizo', 'zinatakiwa', 'kufunguliwa', 'kwa', 'kufauta', 'masharti', 'ya', 'wataalam', 'wa', 'afya', 'ya', 'kudhibiti', 'Covid-19', '.', 'Mwalimu', 'mkuu', 'wa', 'shule', 'ya', 'msingi', 'ya', 'St', 'Daniel', 'Yumbe', 'kaskazini', 'mwa', 'Uganda', ',', 'Aziku', 'Mosese', 'anasema', 'wamejiandaa', 'kwa', 'ajili', 'ya', 'masomo', '.', 'Hata', 'hivyo', 'baadhi', 'ya', 'wanafunzi', 'wanasema', 'wameieleza', 'BBC', 'kuwa', 'hawako', 'tayari', 'kuhudhuria', 'masomo', 'leo', 'kwasababu', 'ya', 'changamoto', 'ya', 'kushindwa', 'kununua', 'vifaa', 'vya', 'kujikinga', 'na', 'maambukizi', 'ya', 'corona', 'kutokana', 'na', 'ukosefu', 'wa', 'fedha', '.', 'Shule', 'zinafunguliwa', 'Uganda', 'kufuatia', 'kulegezwa', 'kwa', 'mashariti', 'ya', 'kudhibiti', 'maambukizi', 'ya', 'virusi', 'vya', 'corona', 'nchini', 'humo', '.', 'Rashford', 'apongeza', 'mpango', 'wa', 'ugawaji', 'wa', 'chakula', 'kwa', 'watoto', 'Wales', '.', 'Marcus', 'Rashford', 'alitunukiwa', 'tuzo', 'kwa', 'kampeni', 'yake', 'ya', 'kupata', 'chakula', 'cha', 'bure', 'kwa', 'ajili', 'ya', 'watoto', 'wakati', 'wa', 'likizo', 'nchini', 'UingerezaImage', 'caption', ':', 'Marcus', 'Rashford', 'alitunukiwa', 'tuzo', 'kwa', 'kampeni', 'yake', 'ya', 'kupata', 'chakula', 'cha', 'bure', 'kwa', 'ajili', 'ya', 'watoto', 'wakati', 'wa', 'likizo', 'nchini', 'Uingereza', 'Chakula', 'cha', 'bure', 'shuleni', 'kitakuwa', 'kikitolewa', 'kwa', 'watoto', 'wakati', 'wa', 'likizo', 'katika', 'eneo', 'la', 'Wales', 'hadi', 'mwezi', 'Aprili', '2021', ',', 'imetangazwa', '.', 'Mchezaji', 'soka', 'wa', 'England', 'Marcus', 'Rashford', ',', 'ambaye', 'alifanikiwa', 'katika', 'kampeni', 'ya', 'suala', 'la', 'ugawaji', 'wa', 'chakula', 'kwa', 'wanafunzi', 'nchini', 'Uingereza', ',', 'amepongeza', 'mpango', 'huo', '.', 'Waziri', 'wa', 'elimu', 'wa', 'Uingereza', 'Kirsty', 'Williams', 'amesema', 'pauni', 'milioni', '11', 'zitalipia', 'mpango', 'wa', 'utoaji', 'wa', 'chakula', 'kwa', 'wanafunzi', 'ikiwa', 'ni', 'pamoja', 'hadi', 'wakati', 'wa', 'likizo', 'ya', 'Pasaka', 'mwaka', '2021', '.', 'Nyota', 'huyo', 'wa', 'Manchester', 'United', 'amesema', 'mpango', 'huo', 'utasaidia', '``', 'watoto', 'wanaoishi', 'katika', 'mazingira', 'magumu', 'nchini', 'humo', \"''\", '.', 'Zaidi', 'ya', 'wanafunzi', '75,000', 'wenye', 'umri', 'kati', 'ya', 'miaka', 'mitano', 'na', '15', 'kutoka', 'familia', 'zenye', 'kipato', 'cha', 'chini', 'wanastahili', 'kupata', 'chakula', 'cha', 'bure', 'kote', 'Wales', '.', 'Mpango', 'huo', 'pia', 'uko', 'wazi', 'kwa', 'watoto', 'wadogo', 'zaidi', 'wanaohudhuria', 'masomo', 'ya', 'chekechea', 'kwa', 'siku', 'nzima', '.', 'Kampeni', 'zaanza', 'Ivory', 'coast', 'kwa', 'ajili', 'ya', 'uchaguzi', 'wa', 'urais', 'Raia', 'wa', 'Ivory', 'Coast', 'wamekua', 'wakikusanya', 'kadi', 'za', 'kupigia', 'kura', 'kabla', 'ya', 'uchaguziImage', 'caption', ':', 'Raia', 'wa', 'Ivory', 'Coast', 'wamekua', 'wakikusanya', 'kadi', 'za', 'kupigia', 'kura', 'kabla', 'ya', 'uchaguzi', 'Kampeni', 'zimeanza', 'leo', 'Alhamisi', 'nchini', 'Ivory', 'Coast', 'kabla', 'ya', 'uchaguzi', 'wa', 'urais', 'unaotarajiwa', 'kufanyika', 'tarehe', '31', 'Oktoba', '.', 'Vyama', 'vya', 'upinzani', 'vimetoa', 'wito', 'unaowataka', 'ukaidi', 'wa', 'raia', 'ili', 'kupinga', 'azma', 'ya', 'rais', 'aliyeko', 'madarakani', ',', 'Alassane', 'Ouattara', ',', 'ya', 'kugomea', 'muhula', 'wa', 'tatu', '.', 'Wapinzani', 'wameitaja', 'azma', 'hiyo', 'kuwa', 'kinyume', 'cha', 'sheria', '.', 'Maelfu', 'ya', 'watu', 'waliandamana', 'dhidi', 'ya', 'hatua', 'hiyo', 'katika', 'mji', 'wa', 'kibiashara', ',', 'Abidjan', ',', 'siku', 'ya', 'Jumamosi', '.', 'Kuna', 'jumla', 'ya', 'wagombea', 'wanne', 'wanaowania', 'kiti', 'cha', 'urais', '.', 'Wapinzani', 'wakuu', 'akiwemo', 'rais', 'wa', 'zamani', 'na', 'waziri', 'mkuu', 'wa', 'zamani', ',', 'walizuiwa', 'kugombea', 'baada', 'ya', 'kushindwa', 'kutimiza', 'vigezo', 'vya', 'uchaguzi', '.', 'Bw', 'Ouattara', 'alikuwa', 'rais', 'miaka', '10', 'iliyopita', 'katika', 'uchaguzi', 'ulioibua', 'mgawanyiko', 'na', 'kukumbwa', 'na', 'ghasia', '.', 'Helikopta', 'kupelekwa', 'katika', 'mlima', 'Kilimanjaro', 'kusaidia', 'kuuzima', 'moto', 'Upepo', 'na', 'nyasi', 'zilizokauka', 'vimetajwa', 'kuwa', 'sababu', 'ya', 'kusambaa', 'zaidi', 'kwa', 'moto', 'katika', 'Mlima', 'KilimanjaroImage', 'caption', ':', 'Upepo', 'na', 'nyasi', 'zilizokauka', 'vimetajwa', 'kuwa', 'sababu', 'ya', 'kusambaa', 'zaidi', 'kwa', 'moto', 'katika', 'Mlima', 'Kilimanjaro', 'Serikali', 'ya', 'Tanzania', 'inatazamiwa', 'kutuma', 'helikopta', 'na', 'ndege', 'katika', 'mlima', 'Kilimanjaro', 'nchini', 'humo', 'kujaribu', 'kuuzima', 'moto', 'unaoendelea', 'kuwaka', 'kwa', 'siku', 'ya', 'saba', 'sasa', '.', 'Hayo', 'ameyasema', 'Waziri', 'wa', 'utalii', 'nchini', 'humo', 'Dkt', 'Hamis', 'Kigwangala', 'baada', 'ya', 'moto', 'kuendelea', 'kuwaka', 'katika', 'mlima', 'huo', '.', 'Jumatano', ',', 'Waziri', 'Kigwangala', 'alitangaza', 'kuwa', 'wameweza', 'kuudhibiti', 'moto', 'huo', ',', 'lakini', 'baadaye', 'moto', 'huo', 'ulisaambazwa', 'zaidi', 'na', 'upepo', 'uliovuma', 'katika', 'mlima', 'huo', '.', 'Katika', 'ujumbe', 'wake', 'wa', 'Twitter', 'Waziri', 'Kigwangala', 'amethibitisha', 'kuwa', 'moto', 'unaendela', 'kuwaka', 'Katika', 'mlima', 'huo', 'mrefu', 'zaidi', 'barani', 'Afrika', '.', 'Bobi', 'Wine', 'adai', 'polisi', \"'walichukua\", \"'\", 'nyaraka', 'za', 'uteuzi', 'wake', 'wa', 'urais', 'Mwanasiasa', 'na', 'mwanamuziki', 'wa', 'Uganda', ',', 'Robert', 'Kyagulanyi', ',', 'al', 'maarufu', 'Bobi', 'Wine', ',', 'ameiambia', 'BBC', 'kuwa', 'nyaraka', 'zinazohitajika', 'kwa', 'ajili', 'ya', 'uteuzi', 'wake', 'wa', 'kugombea', 'urais', 'zimepotea', 'katika', 'ofisi', 'yake', 'baada', 'ya', 'uvamizi', 'wa', 'ofisi', 'hiyo', 'wa', 'vikosi', 'vya', 'usalama', 'siku', 'ya', 'Jumatano', 'mchana', '.', 'Moja', 'ya', 'masharti', 'ya', 'wagombea', 'ni', 'kuwasilisha', 'sahihi', 'za', 'wafuasi', 'wao', '100', 'waliojisajiliwa', 'kupiga', 'kura', 'kutoka', 'katika', 'walau', 'theluthi', 'mbili', 'ya', 'wilaya', 'za', 'Uganda', '.', 'Bobi', 'Wine', 'anasema', 'timu', 'yake', 'ilikuwa', 'tayari', 'imekusanya', 'sahihi', 'milioni', 'sita', 'lakini', 'hizi', 'sasa', 'zimepotea', '.', '“', 'Serikali', 'ya', 'Museveni', 'inajaribu', 'kunizuwia', 'kuteuliwa', 'kama', 'mgombea', 'wa', 'urais', '.', 'Kuanzia', 'kuhoji', 'nyaraka', 'zangu', ',', 'kuhoji', 'umri', 'wangu', '-', 'na', 'sasa', 'wanafanya', 'kila', 'juhudi', 'kukwamisha', 'uteuzi', 'wangu', 'na', 'ninaamini', 'kuwa', 'ndio', 'maana', 'walichukua', 'saini', '.', '”', '``', 'Hatutakata', 'tamaa', ',', 'tumekwisha', 'ripoti', 'mara', 'moja', 'kwa', 'matawi', 'yetu', 'kuhakikisha', 'wanaanza', 'kukusanya', 'saini', 'mara', 'moja', 'na', 'tunatumaini', 'kufikia', 'Ijumaa', 'tutakuwa', 'na', 'saini', 'zinazohitajika', ',', '”', 'alisema', '.', 'Mbunge', 'huyo', 'alikuwa', 'akizungumza', 'na', 'BBC', 'baada', 'ya', 'kutoroka', 'kutoka', 'katika', 'ofisi', 'yake', 'wakati', 'makumi', 'kadhaa', 'ya', 'askari', 'na', 'polisi', 'walipowasili', 'kufanya', 'msako', '.', 'Pia', 'alisema', 'milioni', '23', 'za', 'Uganda', 'milioni', '(', '$', '6,200', ')', 'zilichukuliwa', '.', 'Anasema', 'pesa', 'hizi', 'zilichangishwa', 'kusaidia', 'kulipia', 'garama', 'za', 'uchaguzi', 'kwa', 'ajili', 'ya', 'wanachama', 'wanaotaka', 'kugombea', 'ubunge', '.', 'Polisi', 'hawakujibu', 'wito', 'wa', 'BBC', 'wa', 'kuzungumzia', 'madai', 'ya', 'Bobi', 'Wine', '.', 'Awali', 'walikana', 'kuwa', 'uvamizi', 'huo', 'ulichochewa', 'kisiasa', '.', 'Tume', 'ya', 'uchaguzi', 'iliwapatia', 'wagombea', 'siku', 'ya', 'Ijumaa', 'kuwa', 'muda', 'wa', 'mwisho', 'wa', 'kuwasilisha', 'fomu', 'zao', 'za', 'uteuzi', '..', 'Msemaji', 'wa', 'tume', 'anasema', 'hawezi', 'kuzungumzia', 'juu', 'ya', 'madai', 'ya', 'Bobi', 'Wine', 'ya', 'kutoweka', 'kwa', 'nyaraka', 'lakini', 'anasema', 'muda', 'wa', 'mwisho', 'unaweza', 'kuongezwa', 'kwa', 'mgombea', 'iwapo', 'wataifahamisha', 'tume', 'rasmi', '.']\n",
      "\n",
      " Number of Words:  1299\n"
     ]
    }
   ],
   "source": [
    "file=\"20oct15_1.txt\"\n",
    "\n",
    "# calling the function and storing the contents in a text variable \n",
    "text = get_document(\"https://www.bbc.com/swahili/live/habari-54551277\")\n",
    "\n",
    "# calling the store_ document function \n",
    "store_document(doc=text,name=file)\n",
    "\n",
    "#add the words in this file to the total_corpus_words, to keep count of the number of words in the corpus\n",
    "total_corpus_words+=total_words(file)"
   ]
  },
  {
   "cell_type": "code",
   "execution_count": 135,
   "metadata": {},
   "outputs": [
    {
     "data": {
      "text/plain": [
       "347580"
      ]
     },
     "execution_count": 135,
     "metadata": {},
     "output_type": "execute_result"
    }
   ],
   "source": [
    "total_corpus_words"
   ]
  },
  {
   "cell_type": "code",
   "execution_count": 136,
   "metadata": {},
   "outputs": [
    {
     "name": "stdout",
     "output_type": "stream",
     "text": [
      "['Bingwa', 'wa', 'mbio', 'za', 'London', 'Marathon', 'apigwa', 'marufuku', 'kwa', 'kutumia', 'dawa', 'za', 'kusisimua', 'misuli', '.', 'Mkenya', 'Daniel', 'Wanjiru', ',', 'bingwa', 'wa', 'mbio', 'za', 'London', 'Marathon', 'mwaka', '2017', 'amepigwa', 'marufuku', 'kushiriki', 'riadha', 'hadi', 'mwaka', '2023', 'kwa', 'kosa', 'la', 'kutumia', 'dawa', 'za', 'kusimumua', 'misilu', '.', 'Awali', ',', 'Wanjiru', 'alipigwa', 'marufuku', 'kwa', 'muda', 'hadi', 'Aprili', 'lakini', 'amekanusha', 'madai', 'kwamba', 'alitumia', 'dawa', 'zilizokatazwa', 'na', 'kuomba', 'kufungua', 'kesi', 'mahakamani', '.', 'Shirika', 'la', 'kukabiliana', 'na', 'madawa', 'ya', 'kusisimua', 'misuli', 'duniani', '(', 'AIU', ')', 'sasa', 'limethibitisha', 'kwamba', 'marufuku', 'ya', 'mwanariadha', 'huyo', '(', '28', ')', ',', ',', 'kuwa', 'itaendelea', 'hadi', 'Desemba', '8', ',', '2023', '.', 'Msimamizi', 'wa', 'Wanjiru', 'amesema', 'wamekatishwa', 'tamaa', 'na', 'uamuzi', 'huo', 'na', 'wanafikiria', 'kukata', 'rufaa', 'kupitia', 'mahakama', 'ya', 'michezo', 'ya', 'usuluhishi', 'wa', 'mizozo', '.', '``', 'Wataalamu', 'wetu', 'wametoa', 'maelezo', 'mazuri', 'ya', 'kiwango', 'cha', 'damu', 'na', 'wameonesha', 'uwezekano', 'wa', 'chini', 'wa', 'utumiaji', 'wa', 'dawa', 'za', 'kusisimua', 'misuli', '-', 'ikilinganishwa', 'na', 'ilivyoelezwa', 'na', 'Shirika', 'la', 'Riadha', 'Duniani', ',', \"''\", 'taarifa', 'hiyo', 'imeeleza', '.', '``', 'Tunasisitiza', 'kwamba', 'hakuna', 'chembe', 'za', 'dawa', 'yoyote', 'iliyokatazwa', 'ambayo', 'imewahi', 'kupatikana', 'na', 'tunaamini', 'kwamba', 'Daniel', 'hana', 'hatia', '.', \"''\", 'Taarifa', 'zilizochapishwa', 'na', 'shirika', 'la', 'AIU', 'inaeleza', 'kwamba', 'sampuli', 'ya', 'Wanjiru', 'inaonesha', 'kiwango', 'fulani', 'cha', 'seli', 'nyekundu', 'za', 'damu', 'jambo', 'ambalo', 'halina', 'maelezo', 'yoyote', '.', 'Alifanyiwa', 'vipimo', 'mara', '16', 'kati', 'ta', 'Aprili', '2017', 'na', '2019', '.', 'Katika', 'vipimo', 'vyake', 'vya', '14', '-', 'Machi', '9', ',', '2019', '-', 'alionyesha', 'kiwango', 'cha', 'juu', 'cha', 'hemoglobini', '.', 'Ilihitimishwa', 'kwamba', 'mabadiliko', 'ya', 'viwango', 'vya', 'damu', 'wakati', 'anafanyiwa', 'vipimo', '``', 'hakukuweza', 'kuelezewa', 'kwa', 'sababu', 'yoyote', 'ile', 'zaidi', 'ya', 'udanganyifu', 'wa', 'damu', \"''\", '.']\n",
      "\n",
      " Number of Words:  254\n"
     ]
    }
   ],
   "source": [
    "file=\"20oct15_2.txt\"\n",
    "\n",
    "# calling the function and storing the contents in a text variable \n",
    "text = get_document(\"https://www.bbc.com/swahili/habari-54560553\")\n",
    "\n",
    "# calling the store_ document function \n",
    "store_document(doc=text,name=file)\n",
    "\n",
    "#add the words in this file to the total_corpus_words, to keep count of the number of words in the corpus\n",
    "total_corpus_words+=total_words(file)"
   ]
  },
  {
   "cell_type": "code",
   "execution_count": 137,
   "metadata": {},
   "outputs": [
    {
     "data": {
      "text/plain": [
       "347834"
      ]
     },
     "execution_count": 137,
     "metadata": {},
     "output_type": "execute_result"
    }
   ],
   "source": [
    "total_corpus_words"
   ]
  },
  {
   "cell_type": "code",
   "execution_count": 138,
   "metadata": {},
   "outputs": [
    {
     "name": "stdout",
     "output_type": "stream",
     "text": [
      "['Zitto', 'Kabwe', ':', \"'Nitampigia\", 'Kura', 'Tundu', 'Lissu', 'awe', 'rais', 'wa', 'Tanzania', \"'\", 'Kiongozi', 'wa', 'chama', 'cha', 'upinzani', 'cha', 'ACT-wazalendo', ',', 'Zitto', 'Kabwe', 'ametoa', 'tamko', 'kuwa', 'kura', 'yake', 'itaenda', 'kwa', 'mgombea', 'wa', 'chama', 'cha', 'upinzani', 'cha', 'Chadema', '.', 'Anasema', 'kamati', 'ya', 'Uongozi', 'ya', 'Chama', 'chake', 'cha', 'ACT', 'imeshauriana', 'na', 'kuona', 'kuwa', 'huu', 'ni', 'mwaka', 'wa', 'kihistoria', 'kwa', 'Watanzania', ',', 'mwaka', 'wa', 'kuamua', 'hatma', 'ya', 'Maisha', 'yao', '.', '``', 'Kwa', 'nafasi', 'ya', 'Rais', 'wa', 'Jamhuri', 'ya', 'Muungano', 'wa', 'Tanzania', ',', 'Mimi', 'Zitto', 'Zuberi', 'Ruyagwa', 'Kabwe', 'nitampigia', 'kura', 'kwa', 'ndugu', 'Tundu', 'Antipas', 'Mughwai', 'Lissu', '.', 'Huyu', 'ndiye', 'Mgombea', 'wa', 'Upinzani', 'ambaye', 'ana', 'nguvu', 'ya', 'kumshinda', 'mgombea', 'wa', 'chama', 'tawala', '.', \"''\", 'Anasema', 'hatua', 'hii', 'ya', 'kumuunga', 'mkono', 'mgombea', 'wa', 'chama', 'kingine', 'imesukumwa', 'na', 'dhamira', 'yake', 'ya', 'kuleta', 'mabadiliko', 'ya', 'kumchagua', 'Lissu', '.', 'Kabwe', 'ameyaeleza', 'hayo', 'katika', 'hotuba', 'yake', 'ya', 'kampeni', 'Bangwe', ',', 'Kigoma', 'na', 'kuwataka', 'wafuasi', 'wa', 'chama', 'hicho', 'pia', 'kumpigia', 'kura', 'Lissu', '.', 'Sarkozy', 'akabiliwa', 'na', 'mashitaka', 'ya', '‘', 'kushirikiana', 'na', 'wahalifu', '’', 'Mahakimu', 'wa', 'uchunguzi', 'nchini', 'Ufaransa', 'wametangaza', 'shitaka', 'la', 'nne', 'dhidi', 'ya', 'rais', 'wa', 'zamani', 'wa', 'Ufaransa', 'Nicolas', 'Sarkozy', 'kuhusu', 'madai', 'ya', 'kukubali', 'pesa', 'za', 'Libya', 'kudhamini', 'kampeni', 'ya', 'uchaguzi', 'wa', 'urais', 'mwaka', '2007', '.', 'Anashutumiwa', 'kuwa', '``', 'mjumbe', 'wa', 'kikundi', 'cha', 'uhalifu', \"''\", ',', 'katika', 'uchunguzi', 'wa', 'muda', 'mrefu', '.', 'Mashitaka', 'hayo', 'yanaweza', 'kuwa', 'kesi', '.', 'Baada', 'ya', 'siku', 'nne', 'za', 'maswali', 'alikana', 'mashitaka', 'yote', 'katika', 'ujumbe', 'alioutuma', 'katika', 'mtandao', 'wa', 'Facebook', '.Pia', 'alihojiwa', 'mwaka', 'jana', 'Katika', 'uchunguzi', 'nchini', 'alishitakiwakwa', 'ufisadi', 'mwaka', '2018', ',', 'kuhusiana', 'na', 'ufadhili', 'wa', 'fedha', 'wa', 'kampeni', 'na', 'kunufaika', 'kutokana', 'na', 'ubadhilifu', 'wa', 'mali', 'ya', 'umma', '.', 'Wakulima', 'waadhimisha', 'siku', 'ya', 'chakula', 'Tanzania', 'Wakulima', 'waadhimisha', 'siku', 'ya', 'chakula', 'Tanzania', 'ambapo', 'wadau', 'mbalimbali', 'wakiwemo', 'wakulima', ',', 'wataalamu', 'wa', 'lishe', 'bora', ',', 'watafiti', 'na', 'maafisa', 'ugani', 'wamekutana', 'leo', 'jijini', 'Dodoma', 'katikati', 'mwa', 'Tanzania', 'kwa', 'lengo', 'la', 'kuangazia', 'suala', 'la', 'upatikanaji', 'wa', 'chakula', 'na', 'lishe', 'bora', '.', 'Ingawa', 'katika', 'baadhi', 'ya', 'maeneo', 'nchini', 'Tanzania', ',', 'licha', 'ya', 'chakula', 'kupatikana', 'kwa', 'wingi', 'lakini', 'bado', 'kuna', 'tatizo', 'la', 'utapiamlo', '.', 'Pelagia', 'Gaudence', 'ambae', 'ni', 'mkulima', 'kutoka', 'Arusha', 'amesema', 'tatizo', 'kubwa', 'la', 'utapiamlo', 'linasababishwa', 'na', 'ukosefu', 'wa', 'elimu', 'katika', 'jamii', 'kuhusu', 'lishe', 'bora', '.', 'Wakati', 'huo', 'huo', ',', 'Elibarika', 'Joseph', 'ambae', 'pia', 'ni', 'mkulima', 'anasema', 'kukosa', 'elimu', 'ya', 'lishe', 'bora', 'kumemfanya', 'amekuwa', 'miongoni', 'mwa', 'waathirika', 'wa', 'lishe', 'bora', 'kutokana', 'na', 'ulaji', 'wake', 'kutozingatia', 'virutubisho', 'vinavyotakiwa', '.', 'BBCCopyright', ':', 'BBC', 'Baadhi', 'ya', 'wakulima', 'waliohudhuria', 'kongamano', 'hilo', 'wameonekana', 'kutilia', 'mkazo', 'matumizi', 'ya', 'mbegu', 'za', 'asiliImage', 'caption', ':', 'Baadhi', 'ya', 'wakulima', 'waliohudhuria', 'kongamano', 'hilo', 'wameonekana', 'kutilia', 'mkazo', 'matumizi', 'ya', 'mbegu', 'za', 'asili', 'Maadhimisho', 'haya', 'pia', 'yanaenda', 'sambamba', 'na', 'miaka', '75', 'ya', 'shirika', 'la', 'chakula', 'duniani', 'FAO', '.', 'Kwa', 'mujibu', 'wa', 'Umoja', 'wa', 'mataifa', 'zaidi', 'ya', 'nusu', 'ya', 'watu', 'duniani', 'hushiriki', 'kuzalisha', 'chakula', ',', 'lakini', 'chini', 'ya', 'nusu', 'ya', 'watu', 'duniani', 'hupata', 'chakula', 'bora', '.', 'Kaze', 'anachukua', 'nafasi', 'ya', 'mtangulizi', 'wake', 'Mserbia', ',', 'Zlatko', 'Krmpotic', 'ambaye', 'aliifunza', 'timu', 'hiyo', 'kwa', 'siku', '37', 'pekee', '.', 'Kaze', 'anaanza', 'kazi', 'siku', 'chache', 'tu', 'baada', 'ya', 'mchezaji', 'wa', 'Burundi', 'Saido', 'Ntibazonkiza', 'kusajiriwa', 'na', 'timu', 'ya', 'Yanga', 'wiki', 'hii', '.', 'Kaze', 'mwenye', 'umri', 'wa', 'miaka', '40', ',', 'ni', 'miongoni', 'mwa', 'makocha', 'Warundi', 'wenye', 'umri', 'mdogo', 'na', 'ana', 'kibali', 'cha', 'FIFA', 'cha', 'kuifunza', 'timu', 'ya', 'daraja', 'la', 'kwanza', '.', 'Zamani', 'alikuwa', 'mchezaji', 'wa', 'safu', 'ya', 'kati', 'ya', 'Prince', 'Louis', 'Rwagasore', 'FC', 'ya', 'mjini', 'Bujumbura', ',', 'na', 'baadaye', 'akawa', 'mkufunzi', 'wake', '.', 'Alionesha', 'umahiri', 'wa', 'kazi', 'hiyo', 'alipokuwa', 'mkufunzi', 'wa', 'Atletico', 'Olympic', 'FC', 'iliyoshinda', 'kombe', 'la', 'mashindano', 'ya', 'kitaifa', 'ya', 'soka', 'nchini', 'Burundi', ',', 'na', 'baadaye', 'akawa', 'kocha', 'wa', 'mwaka', '2010/2011', '.', 'Baadaye', 'alikwenda', 'nchini', 'Rwanda', 'ambako', 'alikuwa', 'mkufunzi', 'wa', 'timu', 'ya', 'Mukura', 'VS', '(', '2013', '-', '2014', ')', 'kabla', 'ya', 'kwenda', 'kufundisha', 'soka', 'katika', 'shule', 'ya', 'mpira', 'wa', 'miguu', 'ya', 'Canada', 'Barcelone', '(', 'FC', 'Bescola', 'Soccer', 'School', ')', '.', 'Rusesabagina', \"'ameandika\", 'barua', \"'\", 'kutoka', 'jela', 'Vincent', 'Lurquin', ',', 'wakili', 'Mbelgiji', 'amesema', 'alipokuwa', 'mjini', 'Kigali', 'alipata', 'barua', 'kutoka', 'kwa', 'Paul', 'Rusesabagina', 'inayosema', 'kuwa', 'mawakili', 'anaowataka', 'ni', 'wawili', ',', 'ambao', 'ni', 'miongoni', 'mwa', 'mawakili', 'saba', 'waliopangwa', 'na', 'familia', 'yake', '.', 'Mapema', 'leo', 'asubuhi', '‘', '’', 'shujaa', 'huyo', 'wa', 'filamu', 'ya', 'Hoteli', 'Rwanda', '’', '’', 'alikataliwa', 'dhamana', ',', 'na', 'anashikiliwa', 'katika', 'gereza', 'kuu', 'la', 'Kigali', 'akisubiri', 'kesi', 'ya', 'mashitaka', 'ya', 'ugaidi', 'dhidi', 'yake', ',', 'ambayo', 'hajayakubali', 'bado', '.', 'Katika', 'kikao', 'na', 'waandishi', 'wa', 'habari', 'kilichofanyika', 'kwa', 'njia', 'ya', 'video', 'Alhamisi', 'mawakili', 'wawili', 'kati', 'ya', 'saba', 'waliopangwa', 'na', 'familia', 'yake', 'waliwaambia', 'waandishi', 'wa', 'habari', 'kuwa', 'walipokuwa', 'Kigali', 'walizuiwa', 'kumuona', 'Bw', 'Rusesabagina', '.', 'Mgombea', 'urais', 'wa', 'chama', 'cha', 'ACT', 'Wazalendo', 'kwa', 'upande', 'wa', 'Zanzibar', 'Maalim', 'Seif', 'Sharif', 'Hamad', 'amesimamishwa', 'kufanya', 'kampeni', 'na', 'Kamati', 'ya', 'maadili', 'ya', 'Tume', 'ya', 'Uchaguzi', 'Zanzibar-', 'ZEC', 'kwa', 'muda', '5', '.', 'Adhabu', 'hiyo', 'imetolewa', 'jana', 'jioni', 'baada', 'ya', 'kamati', 'hiyo', 'kukaa', 'na', 'kusikiliza', 'malalamiko', 'yaliyo', 'wasilishwa', 'na', 'Chama', 'cha', 'Demokrasia', 'Makini', 'ambapo', 'imemtuhumu', 'mwanasiasa', 'huyo', 'mkongwe', 'kwa', 'kuhamasisha', 'watu', 'kujitokeza', 'na', 'kupiga', 'kura', 'tarehe', '27', 'ambayo', 'kwa', 'mujibu', 'wa', 'sheria', 'imetengwa', 'kwa', 'watu', 'maalumu', '.', 'ACT', 'Wazalendo', 'kimeituhumu', 'Tume', 'ya', 'uchaguzi', 'ya', 'Zanzibar', 'kwa', 'kuwa', 'na', 'upendeleo', '.', 'Akizungumza', 'na', 'BBC', 'Afisa', 'wa', 'habari', 'na', 'uenezi-', 'Salim', 'Bimani', 'amesema', ':', '‘', '’', 'Tume', 'ya', 'uchaguzi', 'ya', 'Zanzibar', 'ZEC', 'inatumika', 'na', 'inatumika', 'vibaya', 'dhidi', 'ya', 'chama', 'cha', 'ACT', 'Wazalendo', ',', 'tuna', 'ushahidi', 'kwasababu', 'masuala', 'mengi', 'ambayo', 'tumekuwa', 'tukiyadai', ',', 'tukiyaeleza', 'na', 'kuyalalamikia', 'tume', 'hata', 'siku', 'moja', 'haijapata', 'kujibu', ',', 'haijapata', 'kutekeleza', ',', 'taijapata', 'kuwa', 'wazi', ',', 'kile', 'kinachotakikana', 'kwenye', 'CCM', 'ndicho', 'wanachokifanya', '.', 'Kuna', 'mifano', 'mingi', 'kabisa', 'kuwa', 'ZEC', 'imekuwa', 'ikibeba', 'upande', 'mmoja', 'na', 'huu', 'ndio', 'ushahidi', 'wa', 'wazi.', '’', '’', 'BBCCopyright', ':', 'BBC', 'Matamko', 'ambayo', 'yanadaiwa', 'kwenda', 'kinyume', 'na', 'kanuni', 'za', 'uchaguzi', 'za', 'mwaka', '2020', '.', 'Hata', 'hivyo', ',', 'Mkurugenzi', 'wa', 'Uchaguzi', 'Zanzibar', 'Thabit', 'Faina', 'ameiambia', 'BBC', 'kwamba', 'mgombea', 'huyo', 'wa', 'ACT', 'Wazalendo', 'anaweza', 'kukata', 'rufaa', '.']\n",
      "\n",
      " Number of Words:  935\n"
     ]
    }
   ],
   "source": [
    "file=\"20oct16.txt\"\n",
    "\n",
    "# calling the function and storing the contents in a text variable \n",
    "text = get_document(\"https://www.bbc.com/swahili/live/habari-54566621\")\n",
    "\n",
    "# calling the store_ document function \n",
    "store_document(doc=text,name=file)\n",
    "\n",
    "#add the words in this file to the total_corpus_words, to keep count of the number of words in the corpus\n",
    "total_corpus_words+=total_words(file)"
   ]
  },
  {
   "cell_type": "code",
   "execution_count": 139,
   "metadata": {},
   "outputs": [
    {
     "data": {
      "text/plain": [
       "348769"
      ]
     },
     "execution_count": 139,
     "metadata": {},
     "output_type": "execute_result"
    }
   ],
   "source": [
    "total_corpus_words"
   ]
  },
  {
   "cell_type": "code",
   "execution_count": 140,
   "metadata": {},
   "outputs": [
    {
     "name": "stdout",
     "output_type": "stream",
     "text": [
      "['Kenya', 'inaelekea', 'kwa', 'wimbi', 'la', 'pili', 'la', 'virusi', 'vya', 'corona', 'Waziri', 'wa', 'Afya', 'nchini', 'Kenya', 'Mutahi', 'Kagwe', 'amethibitisha', 'kuwa', 'watu', '685', 'wameambukizwa', 'virusi', 'vya', 'corona', 'ndani', 'ya', 'saa', '24', 'huku', 'idadi', 'jumla', 'ya', 'walioambukizwa', 'kufikia', 'sasa', 'ikiwa', '44,881', '.', 'Akiwa', 'anatoa', 'taarifa', 'kuhusu', 'ugonjwa', 'wa', 'virusi', 'nchini', 'humo', ',', 'Waziri', 'Kagwe', 'amesema', 'kuwa', 'maambukizi', 'ya', 'sasa', 'hivi', 'yameongezeka', 'kwa', 'asilimia', '12', 'ikilinganishwa', 'na', 'asilimia', '4', 'wakati', 'Rais', 'Uhuru', 'Kenyatta', 'wa', 'Kenya', 'alipotangaza', 'kulegezwa', 'kwa', 'masharti', 'kidogo', 'na', 'kufunguliwa', 'kwa', 'uchumi', '.', 'Watu', '635', 'ni', 'raia', 'wa', 'Kenya', 'huku', '50', 'wakiwa', 'raia', 'wa', 'kigeni', '.', '``', 'Kati', 'ya', 'walioambukizwa', ',', '456', 'ni', 'wanaume', 'huku', '229', 'wakiwa', 'wanawake', 'mdogo', 'kabisa', 'akiwa', 'na', 'umri', 'wa', 'mwaka', 'mmoja', 'na', 'wa', 'umri', 'wa', 'juu', 'akiwa', 'na', 'miaka', '99', ',', \"''\", 'Kagwe', 'amesema', '.', 'Kagwe', 'pia', 'amesema', 'kuna', 'wasiwasi', 'kuhusiana', 'na', 'idadi', 'ya', 'wanaopelekwa', 'katika', 'vyumba', 'vya', 'wagonjwa', 'mahututi', 'ambayo', 'sasa', 'hivi', 'imefikiwa', 'wagonjwa', '28', '.', '``', 'Kwa', 'muelekeo', 'huu', ',', 'bila', 'shaka', 'Kenya', 'inaelekea', 'kwa', 'wimbi', 'la', 'pili', 'la', 'virusi', 'vya', 'corona', \"''\", ',', 'Waziri', 'Kagwe', 'amesema', '.', 'Aidha', ',', 'amewasihi', 'viongozi', 'ikiwemo', 'wanasiasa', 'kuonesha', 'ushirikiano', 'katika', 'kukabiliana', 'na', 'ugonjwa', 'wa', 'corona', 'na', 'kuwakosoa', 'kwa', 'mikutano', 'ya', 'kisiasi', 'inayoendeshwa', 'bila', 'kuhakikisha', 'hatua', 'zilizowekwa', 'na', 'wizara', 'ya', 'afya', 'zinatekezwa', '.']\n",
      "\n",
      " Number of Words:  204\n"
     ]
    }
   ],
   "source": [
    "file=\"20oct18.txt\"\n",
    "\n",
    "# calling the function and storing the contents in a text variable \n",
    "text = get_document(\"https://www.bbc.com/swahili/54591210\")\n",
    "\n",
    "# calling the store_ document function \n",
    "store_document(doc=text,name=file)\n",
    "\n",
    "#add the words in this file to the total_corpus_words, to keep count of the number of words in the corpus\n",
    "total_corpus_words+=total_words(file)"
   ]
  },
  {
   "cell_type": "code",
   "execution_count": 141,
   "metadata": {},
   "outputs": [
    {
     "data": {
      "text/plain": [
       "348973"
      ]
     },
     "execution_count": 141,
     "metadata": {},
     "output_type": "execute_result"
    }
   ],
   "source": [
    "total_corpus_words"
   ]
  },
  {
   "cell_type": "code",
   "execution_count": 143,
   "metadata": {},
   "outputs": [
    {
     "name": "stdout",
     "output_type": "stream",
     "text": [
      "['Unaweza', 'pia', 'kusoma', ':', 'Uhusiano', 'wa', 'Marekani', 'na', 'Sudan', 'umeimarika', 'tangu', 'rais', 'Omar', 'al-Bashir', 'alipoweza', 'kukabiliana', 'na', 'maandamano', 'makubwa', 'mwaka', 'jana', '.', 'Bwana', 'Bashir', 'aliweza', 'kukabiliana', 'na', 'mgogoro', 'ambao', 'umekuwa', 'ukilikabili', 'taifa', 'hilo', 'la', 'Afrika', 'kwa', 'miaka', '30', '.', 'Kuondolewa', 'kwa', 'Sudan', 'katika', 'orodha', 'ya', 'wafadhili', 'wa', 'ugaidi', 'itakuwa', 'habari', 'njema', 'sana', 'katika', 'nchi', 'hiyo', 'ambayo', 'chakula', ',', 'mafuta', 'na', 'dawa', 'ni', 'ghali', 'na', 'bado', 'vitu', 'vinaendelea', 'kuwa', 'ghali', 'na', 'kushtua', 'wengi', ',', 'mwandishi', 'wa', 'BBC', 'Anne', 'Soy', 'anasema', '.', 'Maelezo', 'ya', 'picha', ',', 'Shambulio', 'la', 'bomu', 'la', 'kigaidi', 'katika', 'ubalozi', 'wa', 'Marekani', 'nchini', 'Kenya', 'Trump', 'amesema', 'nini', 'haswa', '?', 'Katika', 'kurasa', 'yake', 'ya', 'Tweeter', ',', 'Donald', 'Trump', 'ameandika', ':', '``', 'Habari', 'njema', '!', 'Serikali', 'mpya', 'ya', 'Sudan', ',', 'ambayo', 'inachukua', 'jitihada', 'thabiti', ',', 'imekubali', 'kulipa', 'fidia', 'ya', 'dola', 'milioni', '335', 'kwa', 'wahanga', 'wa', 'shambulio', 'la', 'kigaidi', 'na', 'familia', 'zao', '.', '``', 'Muda', 'ambao', 'ntaiondoa', 'Sudan', 'katika', 'orodha', 'ya', 'mataifa', 'yanayowafadhili', 'ugaidi', '.', 'Basi', 'haki', 'itakuwa', 'imetendeka', 'kwa', 'Wamarekani', 'na', 'itakuwa', 'ni', 'hatua', 'kubwa', 'kwa', 'Sudan', '!', \"''\", 'Rais', 'wa', 'Marekani', 'ana', 'mamlaka', 'ya', 'kuliondoa', 'taifa', 'katika', 'orodha', 'ya', 'wafadhili', 'wa', 'ugaidi', '.', 'Sudan', 'ni', 'miongoni', 'mwa', 'mataifa', 'manne', 'ambayo', 'yapo', 'kwenye', 'orodha', 'hiyo', '-', 'pamoja', 'na', 'Korea', 'Kaskazini', ',', 'Iran', ',', 'na', 'Syria', '.', 'Sudan', 'ipo', 'katika', 'nafasi', 'gani', '?', 'Mara', 'baada', 'ya', 'ujumbe', 'huo', 'wa', 'Twitter', 'Bwana', 'Hamdok', 'alitangaza', 'kuwa', 'tayari', 'ametoa', 'fedha', ',', 'TV', 'ya', 'taifa', 'imeripoti', '.', 'Hicho', 'ndicho', 'kigezo', 'cha', 'mwisho', 'ambacho', 'walipewa', 'ili', 'kuondolewa', 'katika', 'orodha', 'ya', 'wafadhili', 'wa', 'ugaidi', '.', 'Bwana', 'Hamdok', 'aliosema', 'Sudan', 'inategemea', 'kupokea', 'taarifa', 'rasmi', 'kutoka', 'serikali', 'ya', 'Marekani.Kuwa', 'katika', 'orodha', 'hiyo', 'kumesababisha', 'athari', 'nyingi', 'katika', 'taifa', 'hilo', '.', 'Zaidi', 'ya', 'watu', '200', 'waliuawa', 'mjini', 'Nairobi', 'na', 'watu', 'wapatao', '11', 'waliuawa', 'Dar', 'es', 'Salaam', ',', 'Tanzania', '.', 'Maelfu', 'ya', 'watu', 'walijeruhiwa', 'na', 'wengi', 'walikuwa', 'raia', '.', 'Kufuatia', 'tangazo', 'la', 'rais', 'wa', 'Marekani', 'la', 'mpango', 'wa', 'kuiondoa', 'Sudan', 'katika', 'orodha', 'ya', 'wafadhili', 'wa', 'ugaidi', ',', 'wahanga', 'wengi', 'wa', 'shambulio', 'la', 'bomu', 'la', 'mwaka', '1998', 'katika', 'balozi', 'za', 'Marekani', 'wamekataa', 'kupokea', 'fidia', 'hiyo', '.', 'Mahakama', 'ya', 'Marekani', 'ahiitaji', 'kuiondoa', 'Sudan', 'katika', 'orodha', 'hiyo', 'ili', 'kupata', 'fursa', 'ya', 'kupata', 'ufadhili', 'wa', 'kimataifa', 'na', 'kuingia', 'katika', 'mkataba', 'kufuatia', 'kuondolewa', 'kwake', '.', 'Sudan', 'ilikataa', 'kuzungumza', 'moja', 'kwa', 'moja', 'na', 'wahanga', 'waliokuwa', 'wanafanya', 'kazi', 'katika', 'ubalozi', 'wa', 'Marekani', 'na', 'wakiwa', 'na', 'matumaini', 'kuwa', 'wanaweza', 'kumaliza', 'kumaliza', 'suala', 'hilo', 'wakati', 'Marekani', 'haina', 'mamlaka', 'ya', 'kutatua', 'mgogoro', 'huo', 'kisheria', '.', 'Zaidi', 'ya', 'wahanga', '500', 'kati', 'ya', '700', 'wamesaini', 'barua', 'ya', 'kukataa', 'fidia', 'iliyotolewa', ',', 'wakidai', 'kuwa', 'hawawezi', 'kuwasaliti', 'wahanga', 'wengi', 'walioungua', 'vibaya', 'katika', 'shambulio', 'lile', '.', 'Na', 'Marekani', 'haina', 'mamlaka', 'ya', 'kutatua', 'madai', 'ya', 'mataifa', 'ya', 'kigeni', ',', 'ila', 'wahanga', 'ndio', 'wana', 'haki', 'na', 'wajibu', 'wa', 'kuafikiana', 'katika', 'suala', 'hilo']\n",
      "\n",
      " Number of Words:  442\n"
     ]
    }
   ],
   "source": [
    "file=\"20oct20.txt\"\n",
    "\n",
    "# calling the function and storing the contents in a text variable \n",
    "text = get_document(\"https://www.bbc.com/swahili/habari-54610782\")\n",
    "\n",
    "# calling the store_ document function \n",
    "store_document(doc=text,name=file)\n",
    "\n",
    "#add the words in this file to the total_corpus_words, to keep count of the number of words in the corpus\n",
    "total_corpus_words+=total_words(file)"
   ]
  },
  {
   "cell_type": "code",
   "execution_count": 144,
   "metadata": {},
   "outputs": [
    {
     "data": {
      "text/plain": [
       "349415"
      ]
     },
     "execution_count": 144,
     "metadata": {},
     "output_type": "execute_result"
    }
   ],
   "source": [
    "total_corpus_words"
   ]
  },
  {
   "cell_type": "code",
   "execution_count": 145,
   "metadata": {},
   "outputs": [
    {
     "name": "stdout",
     "output_type": "stream",
     "text": [
      "['Je', 'ripoti', 'ya', 'BBI', 'ndio', 'suluhisho', 'la', 'amani', 'na', 'umoja', 'wa', 'kudumu', 'Kenya', 'Ripoti', 'kuhusu', 'mchakato', 'rasmi', 'wa', 'kuleta', 'maridhiano', 'ya', 'kitafa', 'nchini', 'Kenya', 'almaarufu', 'BBI', ',', 'iliyowasilishwa', 'jana', 'kwa', 'Rais', 'Uhuru', 'Kenyatta', 'na', 'kiongozi', 'mkuu', 'wa', 'Upinzani', 'Raila', 'Odinga', 'inazidi', 'kuibua', 'maoni', 'mseto', 'miongoni', 'mwa', 'wakenya', '.', 'Ripoti', 'hiyo', 'iwapo', 'itapitishwa', 'italeta', 'mabadiliko', 'makubwa', 'katika', 'mfumo', 'wa', 'uongozi', 'wa', 'kitaifa', ',', 'kwa', 'mfano', 'kurejesha', 'wadhifa', 'wa', 'waziri', 'mkuu', 'na', 'kuondolea', 'mbali', 'wadhifa', 'wa', 'wawakilishi', 'wa', 'wanawake', 'bungeni', '.', 'Wanaoiunga', 'mkono', 'Ripoti', 'hiyo', 'wanainadi', 'kama', 'muongozo', 'wa', 'kuleta', 'amani', 'na', 'umoja', 'wa', 'kudumu', 'nchini', 'Kenya', ',', 'usiojikita', 'kwa', 'siasa', 'za', 'kikabila', 'na', 'mivutano', 'ya', 'viongozi', '.', 'Hiyo', 'itawezekanaje', '?', 'Mwandishiwa', 'BBC', 'Caro', 'Robi', 'amezungumza', 'na', 'Paul', 'Mwangi', ',', 'katibu', 'wa', 'jopo', 'hilo', 'la', 'BBI', '.']\n",
      "\n",
      " Number of Words:  125\n"
     ]
    }
   ],
   "source": [
    "file=\"20oct23.txt\"\n",
    "\n",
    "# calling the function and storing the contents in a text variable \n",
    "text = get_document(\"https://www.bbc.com/swahili/habari-54647658\")\n",
    "\n",
    "# calling the store_ document function \n",
    "store_document(doc=text,name=file)\n",
    "\n",
    "#add the words in this file to the total_corpus_words, to keep count of the number of words in the corpus\n",
    "total_corpus_words+=total_words(file)"
   ]
  },
  {
   "cell_type": "code",
   "execution_count": 146,
   "metadata": {},
   "outputs": [
    {
     "data": {
      "text/plain": [
       "349540"
      ]
     },
     "execution_count": 146,
     "metadata": {},
     "output_type": "execute_result"
    }
   ],
   "source": [
    "total_corpus_words"
   ]
  },
  {
   "cell_type": "code",
   "execution_count": 148,
   "metadata": {},
   "outputs": [
    {
     "name": "stdout",
     "output_type": "stream",
     "text": [
      "['Siasa', 'za', 'Kenya', 'zinaendelea', 'kubadilika', 'kila', 'kukicha', 'Naibu', 'Rais', 'wa', 'Kenya', ',', 'William', 'Ruto', 'na', 'nia', 'yake', 'ya', 'kuwania', 'Urais', 'mwaka', 'wa', '2022', 'imepandisha', 'joto', 'la', 'kisiasa', 'nchini', 'Kenya', 'mapema', 'zaidi', 'ya', 'mwaka', 'mmoja', 'na', 'nunsu', 'kabla', 'wakati', 'wenyewe', 'na', 'kuzua', 'maswali', 'mengi', '.', 'Akiwa', 'ameshtuliwa', 'na', 'kuja', 'pamoja', 'na', 'kuungana', 'kwa', 'wanasiasa', 'wakuu', 'nchini', 'Kenya', 'wanaoonekana', 'kutaka', 'kupinga', 'azma', 'yake', 'ya', 'kutaka', 'kuwa', 'Rais', 'pamoja', 'na', 'kuondolewa', 'kwa', 'washirika', 'wake', 'wa', 'kisiasa', 'kwenye', 'nyadhifa', 'kwenye', 'serikali', 'na', 'bungeni', ',', 'safari', 'ya', 'William', 'Ruto', 'kuelekea', 'mwaka', 'wa', '2022', 'inaonekana', 'kukumbwa', 'na', 'changamoto', 'nyingi', '.', 'Kabla', 'ya', 'hapo', ',', 'kuanzia', 'mwaka', 'wa', '2013', 'wakati', 'wawili', 'hawa', 'walionekana', 'kama', '``', 'mapacha', 'wa', 'kisiasa', \"''\", ',', 'hali', 'ilikuwa', 'shwari', 'kwani', 'walikuwa', 'wameahidiana', 'kwamba', 'watasaidiana', 'kisiasa', 'hadi', 'kila', 'mmoja', 'wao', 'kutawala', 'Kenya', '.', 'Hali', 'sasa', 'ni', 'tofauti', 'kati', 'yao', '.', 'Hali', 'ngumu', 'na', 'chanzo', 'Matatizo', 'haya', 'yote', 'yalianza', 'mnamo', 'Machi', 'mwaka', 'wa', '2018', 'wakati', 'Rais', 'Uhuru', 'Kenyatta', 'walikubaliana', 'kufanya', 'kazi', 'na', 'Raila', 'Odinga', 'baada', 'ya', 'kuwa', 'mahasimu', 'kwenye', 'uchaguzi', 'mkuu', 'wa', 'mwaka', 'wa', '2017', ',', 'makubaliano', 'ambayo', 'sasa', 'William', 'Ruto', 'anayaona', 'kama', 'yenye', 'nia', 'mbaya-mpango', 'wa', 'kumzuia', 'asiwe', 'Rais', 'wa', 'Kenya', '.', 'Chanzo', 'cha', 'picha', ',', 'Ikulu', 'ya', 'Rais', 'Kenya', 'Maelezo', 'ya', 'picha', ',', 'Rais', 'wa', 'Kenya', 'Uhuru', 'Kenyatta', '(', 'Kulia', ')', 'na', 'Kiongozi', 'wa', 'Upinzani', 'Raila', 'Odinga', 'Baadaye', ',', 'wawili', 'hawa', 'waliunda', 'jopo', 'la', 'maridhiano', 'ambalo', 'limetayarisha', 'ripoti', 'yake', 'ambayo', 'inakisiwa', 'huenda', 'ikatumika', 'kama', 'msingi', 'wa', 'kura', 'ya', 'maoni', '.', 'Kura', 'hii', 'inapingwa', 'na', 'William', 'Ruto', '.', 'Ushirikiano', 'wa', 'Rais', 'Kenyatta', 'na', 'Raila', 'Odinga', 'umepelekea', 'Bwana', 'Ruto', 'kuonekana', 'kama', 'ambaye', 'ametengwa', 'kwenye', 'shughuli', 'za', 'serikali', 'na', 'hata', 'za', 'chama', 'tawala', 'cha', 'Jubilee', '.', 'Kwa', 'upande', 'mwingine', ',', 'Rais', 'Kenyatta', 'ameonekana', 'akiwa', 'na', 'uhusiano', 'mzuri', 'na', 'Raila', 'Odinga', 'kwenye', 'siasa', 'na', 'katika', 'bunge', 'la', 'Kenya', 'ambapo', 'vyama', 'vyao', 'vinashirikiana', '.', 'Katika', 'hali', 'hii', 'ngumu', 'anamojikuta', ',', 'William', 'Ruto', 'anashindwa', 'cha', 'kufanya', 'maana', 'anaonekana', 'kupigana', 'na', 'mkubwa', 'wake', 'kisiasa', ',', 'yaani', 'Rais', 'Kenyatta', ',', 'jambo', 'ambalo', 'wengi', 'wanaamini', 'linaweza', 'kumletea', 'balaa', 'kisiasa', 'kwa', 'sababu', 'ya', 'athari', 'zinazoweza', 'kutokea', '.', 'Kwa', 'upande', 'mwingine', ',', 'kwa', 'sababu', 'ya', 'kuwa', 'na', 'azma', 'ya', 'kuwania', 'kiti', 'cha', 'rais', 'wa', 'Kenya', ',', 'ni', 'lazima', 'ashiriki', 'kwenye', 'shughuli', 'za', 'kisiasa', 'ili', 'kuendelea', 'kujizolea', 'umaarufu', 'nchini', '.', 'Hali', 'hii', 'imemfanya', 'Bwana', 'Ruto', 'kukosa', 'kufika', 'kwenye', 'mikutano', 'muhimu', 'ya', 'baraza', 'la', 'mawaziri', 'na', 'hata', 'mingine', 'ya', 'chama', 'cha', 'Jubilee', 'ambako', 'yeye', 'ni', 'msaidizi', 'kama', 'naibu', 'wa', 'Rais', 'Kenyatta', '.', 'Chanzo', 'cha', 'picha', ',', 'Getty', 'Images', 'Maelezo', 'ya', 'picha', ',', 'Naibu', 'wa', 'Rais', 'wa', 'Kenya', 'William', 'Ruto', 'Rungu', 'la', 'kisiasa', 'ambalo', 'Bwana', 'Ruto', 'alirushiwa', 'miezi', 'kadhaa', 'iliyopita', 'na', 'Rais', 'Kenyatta', 'kwenye', 'bunge', 'la', 'seneti', 'na', 'bunge', 'la', 'kitaifa', 'ambapo', 'wendani', 'wake', 'wa', 'karibu', 'waliondolewa', 'kwenye', 'nyadhifa', 'muhimu', 'na', 'uhusiano', 'wa', 'karibu', 'na', 'kiongozi', 'wa', 'upinzani', 'Raila', 'Odinga', 'linampa', 'changamoto', 'mpya', 'anapopanga', 'siasa', 'zake', 'kwa', 'njia', 'tofauti', 'na', 'alivyopanga', 'hapo', 'awali', 'ili', 'kupigania', 'Urais', 'mwaka', 'wa', '2022', '.', 'Katika', 'mabunge', 'yoye', 'mawili', 'ya', 'Kenya', ',', 'nyadhifa', 'ambazo', 'washirika', 'wake', 'walikuwa', 'nazo', 'sasa', 'haziko', 'na', 'ushawishi', 'wake', 'pia', 'umepunguzwa', 'kisiasa', '.', 'Haya', 'yanatokea', 'kwa', 'sababu', 'ya', 'makubaliano', 'yaliyotiwa', 'saini', 'kati', 'ya', 'vyama', 'vya', 'Kanu', 'na', 'uhusiano', 'wa', 'kisiasa', 'na', 'chama', 'cha', 'Raila', 'Odinga', ',', 'ODM', 'hali', 'ambayo', 'inamnyima', 'idadi', 'ya', 'wabunge', 'ili', 'kupigana', 'na', 'kufanya', 'maamuzi', 'ya', 'kisiasa', 'kwenye', 'mabunge', 'hayo', 'mawili', '.', 'Katika', 'kile', 'kinachoonekana', 'kuwa', 'ishara', 'kubwa', 'kwamba', 'uhusiano', 'baina', 'ya', 'Rais', 'Kenyatta', 'na', 'Raila', 'Odinga', 'huenda', 'ukawa', 'hata', 'mkubwa', 'zaidi', 'kwenye', 'uchaguzi', 'wa', 'mwaka', 'wa', '2022', ',', 'wazee', 'wa', 'jamii', 'ya', 'Agikuyu', 'wapatao', '700', 'na', 'wanasiasa', 'wengine', 'kutoka', 'eneo', 'la', 'Mlima', 'Kenya', 'walimtembelea', 'na', 'kumwombea', 'Raila', 'Odinga', 'nyumbani', 'kwake', 'Kang', \"'\", 'o', 'Ka', 'Jaramogi', 'katika', 'kaunti', 'ya', 'Siaya', '.', 'Ziara', 'hii', 'inatafsiriwa', 'kuwa', 'mpango', 'wa', 'Bwana', 'Raila', 'Odinga', 'kuwania', 'Urais', 'mwaka', 'wa', '2022', '.', 'Kura', 'ya', 'maamuzi', 'Jambo', 'lingine', 'kuu', 'ni', 'msukumo', 'uliopo', 'kwa', 'sasa', 'wenye', 'nia', 'ya', 'kufanywa', 'kwa', 'kura', 'ya', 'maamuzi', 'ambayo', 'wendani', 'wa', 'Bwana', 'Ruto', 'wanaiona', 'kama', 'njama', 'ya', 'kumwondoa', 'kwenye', 'kinyanganyiro', 'au', 'kumfanya', 'asiwe', 'na', 'ushawishi', 'wowote', 'wa', 'kisiasa', 'iwapo', 'atawania', 'na', 'kushinda', 'kiti', 'cha', 'Urais', 'mwaka', 'wa', '2022', '.', 'Bwana', 'Ruto', 'amekuwa', 'akifanya', 'kampeini', 'ambazo', 'zinaonekana', 'kama', 'zenye', 'kupinga', 'kuwepo', 'kwa', 'kura', 'ya', 'maamuzi', ',', 'yenye', 'nia', 'ya', 'kuongeza', 'nyadhifa', 'za', 'uongozi', 'kwenye', 'ngazi', 'ya', 'kitaifa', 'kama', 'mazoezi', 'tu', 'ya', 'kura', 'ya', 'mwaka', 'wa', '2022', '.', 'Hata', 'hivyo', ',', 'uwanja', 'wa', 'kisiasa', 'nchini', 'Kenya', 'umekuwa', 'ukibadilika', 'kila', 'kukicha', 'na', 'mabadiliko', 'haya', 'huenda', 'yakaendelea', 'na', 'kubadili', 'sura', 'ya', 'siasa', 'za', 'Kenya', 'kwa', 'kuwa', 'matokeo', 'ya', 'kura', 'ya', 'maamuzi', ',', 'iwapo', 'itafanyika', ',', 'huenda', 'yakazipa', 'mwelekeo', 'siasa', 'za', 'mwaka', 'wa', '2022', '.', 'Kumekuwepo', 'na', 'mpango', 'wa', 'kuhakikisha', 'kuwa', ',', 'kadri', 'muda', 'unayoyoma', 'kuelekea', 'uchaguzi', 'wa', 'mwaka', 'wa', '2022', ',', 'nguvu', 'na', 'ushawishi', 'wa', 'Bwana', 'Ruto', 'unaendelea', 'kupunguzwa', 'ndani', 'na', 'n', 'je', 'ya', 'serikali', '.', 'Hatua', 'hizi', 'ambazo', 'zinatekelezwa', 'na', 'serikali', 'ambayo', 'Bwana', 'Ruto', 'ndiye', 'naibu', 'Rais', 'zina', 'nia', 'ya', 'kumpuguzia', 'ushawishi', 'na', 'ndoto', 'yake', 'ya', 'kupigania', 'Urais', 'mwaka', 'wa', '2022', ',', 'kuwatoa', 'pumzi', 'wendani', 'wake', 'wa', 'kisiasa', ',', 'na', 'kuwatawanya', 'ili', 'kumfanya', 'bwana', 'Ruto', 'kufikiria', 'upya', 'kuhusu', 'kupigania', 'Urais', 'mwaka', 'wa', '2022', '.', 'Tatizo', 'lingine', 'ambalo', 'anakumbana', 'nalo', 'bwana', 'Ruto', 'ni', 'seneta', 'wa', 'Baringo', 'Gideon', 'Moi', 'huku', 'kukiwa', 'na', 'madai', 'kwamba', 'seneta', 'huyu', 'anafanya', 'kazi', 'na', 'upinzani', 'ili', 'kufanya', 'kibarua', 'chake', 'cha', 'kutafuta', 'Urais', 'mwaka', 'wa', '2022', 'kuwa', 'kigumu', 'zaidi', '.', 'Purukushani', 'kwenye', 'chama', 'cha', 'Jubilee', 'Halafu', 'kuna', 'changamoto', 'inayomkosesha', 'usingizi', 'bwana', 'Ruto', 'kwa', 'sasa', '-', 'ile', 'ya', 'chama', 'chake', 'cha', 'Jubilee', '-jambo', 'ambalo', 'limekifanya', 'chama', 'chake', 'kufunga', 'afisi', 'zake', 'kwa', 'sasa', 'kwa', 'sababu', 'ya', 'mzozo', 'wa', 'uongozi', 'baina', 'yake', 'na', 'maafisa', 'wakuu', 'wa', 'chama', '.', 'Kwa', 'sasa', 'hatima', 'yake', 'kwenye', 'chama', 'hicho', 'tawala', 'haijulikani', 'maana', 'inavyoonekana', 'maafisa', 'wengine', 'wakuu', 'wakiongozwa', 'na', 'Rais', 'Kenyatta', 'kwenye', 'chama', 'hicho', 'wamemtenga', 'na', 'hana', 'afueni', 'kisiasa', '.', 'Naibu', 'Mwenyekiti', 'wa', 'chama', 'cha', 'Jubilee', 'David', 'Murathe', ',', 'ambaye', 'ni', 'rafiki', 'wa', 'karibu', 'wa', 'Rais', 'Kenyatta', 'amenukuliwa', 'akisema', 'mara', 'nyingi', 'kwamba', 'tofauti', 'za', 'kisiasa', 'baina', 'ya', 'Rais', 'Kenyatta', 'na', 'naibu', 'wake', 'zimefikia', 'viwango', 'ambapo', 'haziwezi', 'kutatuliwa', 'na', 'kwamba', 'hawawezi', 'kufanya', 'kazi', 'tena', 'pamoja', 'kwenye', 'chama', 'hicho', 'kama', 'ilivyokuwa', 'hapo', 'awali', 'tangu', 'mwaka', 'wa', '2013', '.', 'Je', ',', 'atajiondoa', 'kwenye', 'chama', 'tawala', 'cha', 'Jubilee', '?', 'Chanzo', 'cha', 'picha', ',', 'Reuters', 'Maelezo', 'ya', 'picha', ',', 'Rais', 'Uhuru', 'Kenyatta', 'Kulia', 'awali', 'aliahidi', 'kumwachia', 'madaraka', 'kwa', 'naibu', 'wake', 'William', 'Ruto', 'Kushoto', '.', 'Kumekuwepo', 'na', 'ripoti', 'za', 'kisiasa', 'kwamba', ',', 'kwa', 'hakika', ',', 'wendani', 'wa', 'Rais', 'Kenyatta', 'wamekuwa', 'wakipanga', 'jinsi', 'ya', 'kupeleka', 'hoja', 'ya', 'kutokuwa', 'na', 'imani', 'bungeni', 'na', 'naibu', 'Rais', 'wa', 'Kenya', 'ili', 'kumwondoa', 'afisini', '.', 'Je', ',', 'hili', 'litafanyika', 'na', 'kufaulu', 'ama', 'hali', 'itakuwaje', '.', 'Likifanyika', ',', 'hatima', 'ya', 'kisiasa', 'ya', 'Bwana', 'Ruto', 'itakuwaje', '?', 'Kando', 'na', 'haya', ',', 'William', 'Ruto', 'mwenyewe', 'amekuwa', 'akijipanga', 'na', 'kuunda', 'mtandao', 'wa', 'marafiki', 'wa', 'kisiasa', 'tangu', 'mwaka', 'wa', '2017', 'ingawa', 'jambo', 'hili', 'limekuwa', 'likimkera', 'Rais', 'Kenyatta', 'ambaye', 'amekuwa', 'akisisitiza', 'kuwa', 'ni', 'wakati', 'wa', 'kufanya', 'kazi', 'na', 'si', 'siasa', '.', 'Ingawa', 'yanayomkuba', 'kwa', 'sasa', 'yanaonekana', 'kuwa', 'mazito', 'ikizingatiwa', 'kuwa', 'yeye', 'ni', 'msaidizi', 'wa', 'Rais', 'Kenyatta', 'ambaye', 'hajaonekana', 'kupendezwa', 'na', 'siasa', 'anazozifanya', '.', 'Hata', 'hivyo', ',', 'Bwana', 'Ruto', 'mwenyewe', 'ameonyeshwa', 'kutotishwa', 'na', 'changamoto', 'zinazomkumba', 'na', 'badala', 'yake', 'amekuwa', 'akifanya', 'kampeini', 'zake', 'akikutana', 'na', 'Wakenya', 'wa', 'kila', 'tabaka', 'hasa', 'akiwalenga', 'wale', 'anaotaja', 'kuwa', 'wametengwa', 'kwenye', 'jamii', 'kama', 'vijana', 'na', 'akina', 'mama', ',', 'maskini', 'na', 'kuwapa', 'msaada', 'wa', 'kufanya', 'biashara', 'ama', 'ala', 'za', 'kufanyia', 'kazi', 'zao', 'na', 'makundi', 'mengine', 'kama', 'ya', 'kanisa', 'na', 'kijamii', 'kwenye', 'afisi', 'zake', 'na', 'kwake', 'nyumbani', 'jijini', 'Nairobi', '.', 'Katika', 'hatua', 'ambayo', 'ilimpunguzia', 'nguvu', 'za', 'kisiasa', ',', 'Rais', 'Kenyatta', 'alimteua', 'waziri', 'Fred', 'Matiangi', 'kuwa', 'mwenyekiti', 'wa', 'baraza', 'la', 'mawaziri', 'kwenye', 'utekelezaji', 'wa', 'mipango', 'ya', 'serikali', 'kazi', 'ambayo', ',', 'kimsingi', ',', 'bwana', 'Ruto', 'anafaa', 'kuifanya', '.', 'Juma', 'lililopita', 'waziri', 'Matiangi', 'pia', 'alitwikwa', 'jukumu', 'lingine', 'kama', 'mwenyekiti', 'wa', 'watakaoshughulikia', 'usalama', 'na', 'utulivu', 'nchini', 'Kenya', '.', 'Kampeini', 'za', 'Ruto', 'Changamoto', 'nyingine', 'inayomkumba', 'bwana', 'Ruto', 'kupigania', 'Urais', 'wa', 'Kenya', 'ni', 'kwamba', 'ameifanya', 'ngome', 'ya', 'kisiasa', 'ya', 'Rais', 'Kenyatta', 'ya', 'Mlima', 'Kenya', 'ngome', 'ambako', 'angetaka', 'kupata', 'uungwaji', 'mkono', 'zaidi', 'bila', 'kutafuta', 'usaidizi', 'wa', 'Rais', 'Kenyatta', '.', 'Hali', 'hii', 'ya', '``', 'kuvamia', \"''\", 'ngome', 'ya', 'kisiasa', 'ya', 'Rais', 'Kenyatta', 'imewakasirisha', 'wengi', 'wa', 'wendani', 'wa', 'Rais', 'Kenyatta', 'na', 'Rais', 'mwenyewe', '.', 'Hata', 'hivyo', ',', 'Bwana', 'Ruto', 'anafahamu', 'kuwa', 'hawezi', 'kupata', 'usaidizi', 'wa', 'kundi', 'linaloonekana', 'kumpinga', 'na', 'ndipo', 'akaanza', 'kampeini', 'ya', 'kuwafikia', 'wananchi', 'wa', 'mashinani', 'moja', 'kwa', 'moja', '.', 'Bwana', 'Ruto', 'alitumia', 'urafiki', 'wake', 'na', 'baadhi', 'ya', 'wabunge', 'na', 'wawakilishi', 'wodi', 'wa', 'sehemu', 'za', 'Mlima', 'Kenya', 'anakotoka', 'Rais', 'Kenyatta', 'na', 'kufanya', 'shughuli', 'nyingi', 'za', 'kisiasa', 'na', 'kidini', 'tangu', 'mwaka', 'wa', '2013', '.', 'Hali', 'hii', 'imemfanya', 'kuwa', 'na', 'umaarufu', 'kwenye', 'sehemu', 'hii', ',', 'jambo', 'linalowaudhi', 'baadhi', 'ya', 'maafisa', 'wakuu', 'serikalini', 'na', 'kwenye', 'chama', 'cha', 'Jubilee', '.', 'Katika', 'sehemu', 'ambazo', 'zinaonekana', 'kuwa', 'kinyanganyiro', 'cha', 'kisiasa', 'kitakuwa', 'kikali', 'na', 'ambako', 'kutakuwa', 'na', 'kupigania', 'umaarufu', 'kama', 'vile', 'Nairobi', ',', 'Nakuru', ',', 'Kirinyaga', ',', 'Kiambu', ',', 'Murang', \"'\", 'a', 'na', 'Kajiado', 'tayari', 'kinyanganyiro', 'kinaonekana', 'kitakuwa', 'kikali', '.', 'Katika', 'sehemu', 'hizi', 'zote', ',', 'Bwana', 'Ruto', 'amekuwa', 'akifanya', 'ziara', 'za', 'mara', 'kwa', 'mara', 'na', 'akielekeza', 'macho', 'yake', 'kwenye', 'sehemu', 'za', 'pwani', 'ya', 'Kenya', 'ambako', 'ndiko', 'ngome', 'ya', 'kiongozi', 'wa', 'upinzani', 'Raila', 'Odinga', 'na', 'chama', 'cha', 'cha', 'ODM', '.', 'Bwana', 'Ruto', 'amekuwa', 'akijaribu', 'kila', 'njia', 'kuhakikisha', 'kuwa', 'sehemu', 'ya', 'Mlima', 'Kenya', 'anakotoka', 'Rais', 'Kenyatta', 'iko', 'nyuma', 'yake', 'kisiasa', 'kwa', 'sababu', 'anahitaji', 'kura', 'za', 'sehemu', 'hii', 'ili', 'kuweza', 'kujiweka', 'kwenye', 'nafasi', 'nzuri', 'ya', 'kushinda', 'Urais', 'mwaka', 'wa', '2022', '.', 'Aidha', ',', 'jambo', 'hili', 'linatokana', 'pia', 'na', 'shauku', 'ya', 'kisiasa', 'kwamba', 'ahadi', 'za', 'kisiasa', 'si', 'za', 'kuaminiwa', 'maana', 'ahadi', 'aliyompa', 'Rais', 'Kenyatta', 'ya', 'kumuunga', 'mkono', 'kwenye', 'uchaguzi', 'wa', 'mwaka', 'wa', '2022', 'inaonekana', 'imeyeyuka', 'bayana', 'kwa', 'haraka', '.', 'Kura', 'za', 'eneo', 'la', 'Mlima', 'Kenya', 'Tatizo', 'lililopo', 'kwenye', 'kura', 'za', 'Mlima', 'Kenya', 'ni', 'kuwa', 'kuna', 'ushahidi', 'wa', 'kihistoria', 'unaoonyesha', 'kuwa', 'tangu', 'kuanzishwa', 'kwa', 'siasa', 'za', 'vyama', 'vingi', 'nchini', 'Kenya', 'mwaka', 'wa', '1992', ',', 'jamii', 'ya', 'Agikuyu', 'haijawahi', 'kumpigia', 'mwaniaji', 'kutoka', 'nje', 'ya', 'jamii', 'hiyo', 'kura', 'nyingi', 'kwa', 'pamoja', '.', 'Katika', 'mwaka', 'wa', '1992', ',', 'sehemu', 'ya', 'Mlima', 'Kenya', 'iligawanyika', 'katika', 'upigaji', 'kura', 'baina', 'ya', 'Mwai', 'Kibaki', 'na', 'Ken', 'Matiba', '.', 'Katika', 'mwaka', 'wa', '1997', ',', 'Matiba', 'hakungangania', 'Urais', ',', 'na', 'wapigaji', 'kura', 'wake', 'wote', 'wakahama', 'na', 'kumpigia', 'kura', 'mpizani', 'wake', ',', 'Mwai', 'Kibaki', '.', 'Katika', 'mwaka', 'wa', '2002', ',', 'kura', 'ya', 'sehemu', 'hii', 'iligawanyika', 'kati', 'ya', 'Mwai', 'Kibaki', 'na', 'Uhuru', 'Kenyatta', ',', 'ambaye', 'hakuwania', 'Urais', 'mwaka', 'wa', '2007', 'lakini', 'akimpigia', 'upatu', 'na', 'kuhakikisha', 'Rais', 'alikuwa', 'Mwai', 'Kibaki', '.', 'Mwaka', 'wa', '2013', ',', 'eneo', 'la', 'Mlima', 'Kenya', 'lilipiga', 'kura', 'kwa', 'kauli', 'moja', 'kwa', 'Uhuruto', '.', 'Kile', 'ambacho', 'hali', 'hii', 'inatuonyesha', 'ni', 'kuwa', 'wakati', 'mwaniaji', 'wa', 'Urais', 'kutoka', 'sehemu', 'ya', 'Mlima', 'Kenya', 'atakapojitokeza', 'akiwa', 'na', 'uwezo', 'wa', 'kuleta', 'matumaini', 'kwa', 'jamii', 'ya', 'eneo', 'hili', ',', 'uungwaji', 'mkono', 'wa', 'kisiasa', 'ambao', 'Bwana', 'Ruto', 'anaonekana', 'kuwa', 'nao', 'unaweza', 'kupotea', 'kwa', 'haraka', 'sana', '.', 'Pia', ',', 'Bwana', 'Ruto', 'ana', 'tatizo', 'lingine', 'la', 'kuhakikisha', 'kuwa', 'yule', 'atakayemchagua', 'kama', 'naibu', 'wake', 'katika', 'kinyangayiro', 'hicho', 'anatoka', 'eneo', 'hili', '.', 'Hali', 'hii', 'inatokana', 'na', 'ukweli', 'kwamba', 'Bwana', 'Ruto', 'amekuwa', 'naibu', 'wa', 'Rais', 'Kenyatta', 'na', 'utakuwa', 'wakati', 'mzuri', 'wa', '``', 'kurudisha', 'mkono', \"''\", '.', 'Lakini', 'hili', 'nalo', 'lina', 'ugiligili', 'wake', 'kwenye', 'siasa', 'za', 'Kenya', 'kwa', 'sababu', 'Wakenya', 'wa', 'maeneo', 'mengine', 'wanaweza', 'kuona', 'kwamba', 'Jubilee', 'ama', 'hali', 'iliyopo', 'Kenya', 'ni', 'utamaduni', 'wa', 'kisiasa', 'wa', 'kubadilisha', 'Urais', 'kwenye', 'jamii', 'mbili', 'tu-', 'Wakikuyu', 'na', 'Wakalenjin', '.', 'Kinachodhihirika', 'ni', 'kwamba', ',', 'joto', 'la', 'kisiasa', 'linavyoendelea', 'kupanda', 'nchini', 'Kenya', 'kuhusiana', 'na', 'uchaguzi', 'wa', 'mwaka', 'wa', '2022', ',', 'naibu', 'Rais', 'William', 'Ruto', 'anajikuta', 'katika', 'hali', 'ngumu', 'ya', 'kufanya', 'maamuzi', 'muhimu', 'ambayo', 'huenda', 'yakafanikisha', 'azma', 'yake', 'ya', 'kuwania', 'urais', 'ama', 'kuivunja', 'azma', 'hiyo', '.']\n",
      "\n",
      " Number of Words:  1874\n"
     ]
    }
   ],
   "source": [
    "file=\"20oct24.txt\"\n",
    "\n",
    "# calling the function and storing the contents in a text variable \n",
    "text = get_document(\"https://www.bbc.com/swahili/michezo-54673613\")\n",
    "\n",
    "# calling the store_ document function \n",
    "store_document(doc=text,name=file)\n",
    "\n",
    "#add the words in this file to the total_corpus_words, to keep count of the number of words in the corpus\n",
    "total_corpus_words+=total_words(file)"
   ]
  },
  {
   "cell_type": "code",
   "execution_count": 149,
   "metadata": {},
   "outputs": [
    {
     "data": {
      "text/plain": [
       "351414"
      ]
     },
     "execution_count": 149,
     "metadata": {},
     "output_type": "execute_result"
    }
   ],
   "source": [
    "total_corpus_words"
   ]
  },
  {
   "cell_type": "code",
   "execution_count": 150,
   "metadata": {},
   "outputs": [
    {
     "name": "stdout",
     "output_type": "stream",
     "text": [
      "['``', 'Nikiwa', 'mdogo', 'nilikuwa', 'na', 'shati', 'moja', 'tu', 'nililokuwa', 'nikilivua', 'likikauka', 'ninalivaa', 'tena', ',', 'na', 'kuna', 'wakati', 'nilikuwa', 'nikiazima', 'nguo', 'kutoka', 'kwa', 'marafiki', 'kama', 'ninataka', 'kwenda', 'kutembea', 'mahali', ',', 'nikimuomba', 'rafiki', 'ananijibu', 'vibaya', 'labda', 'ananitusi', 'au', 'ananicheka', ',', \"''\", 'anasema', '.', '``', 'Ndipo', 'nikamuomba', 'Mungu', 'anipe', 'taji', 'ambayo', 'watu', 'wengine', 'hawana', ',', 'ndio', 'wajue', 'kuna', 'Mungu', 'tofauti', 'na', 'yule', 'walikuwa', 'wanamjua', ',', \"''\", 'anasema', 'Mwangi', 'Maelezo', 'ya', 'picha', ',', 'Mwangi', 'anasema', 'suti', 'moja', 'inaweza', 'kumgharimu', 'kati', 'ya', 'shilingi', '10,000', 'pesa', 'za', 'Kenya', 'au', 'dola', '100', 'na', 'shilingi', '80,000', 'au', 'dola', '800', '.', 'Hadi', 'sasa', 'Bw', 'Mwangi', 'anasema', 'anamiliki', 'zaidi', 'ya', 'suti', '150', ',', 'zaidi', 'ya', 'jozi', '200', 'za', 'viatu', 'na', 'kofia', 'zaidi', 'ya', '300', 'mavazi', 'ambayo', 'amekuwa', 'akiyanunua', 'nchini', 'Kenya', 'na', 'kuagiza', 'mengine', 'kutoka', 'nchini', 'za', 'kigeni', 'zikiwemo', 'Afrika', 'Kusini', ',', 'Italia', ',', 'Uhispania', ',', 'Ufaransa', 'na', 'Ujerumani', '.', 'Anasema', 'anamiliki', 'suti', 'za', 'kila', 'rangi', 'inayopatikana', 'duniani', 'na', 'huwa', 'kawaida', 'anavaa', 'rangi', 'moja', 'kuanzia', 'kofia', ',', 'miwani', ',', 'shati', ',', 'tai', ',', 'suti', 'yenyewe', ',', 'viatu', ',', 'soksi', 'saa', ',', 'rangi', 'ya', 'simu', 'na', 'hata', 'nguo', 'za', 'ndani', '.', 'Mwangi', 'anesema', 'suti', 'moja', 'inaweza', 'kumgharimu', 'kati', 'ya', 'shilingi', '10,000', 'pesa', 'za', 'Kenya', 'au', 'dola', '100', 'na', 'shilingi', '80,000', 'au', 'dola', '800', '.', 'Maelezo', 'ya', 'picha', ',', 'Hata', 'simu', 'huhakikisha', 'mfuko', 'wake', 'unafanana', 'na', 'mavazi', 'mengine', '``', 'Mimi', 'ni', 'kama', 'kioo', 'kwa', 'wananchi', ',', 'watu', 'wakiniona', 'nimevaa', 'hivi', 'hufurahi', 'sana', ',', 'wao', 'hunisimamisha', ',', 'hunisalimia', 'na', 'kuzungumza', 'nami', 'na', 'kunipa', 'moyo', 'kuendelea', 'kuvaa', 'hivi', ',', 'na', 'pia', 'kuniombea', 'mema', ',', 'nafikiri', 'ni', 'mimi', 'ndiye', 'mtu', 'maridadi', 'zaidi', 'Afrika', ',', \"''\", 'Bw', 'Mwangi', 'anasema', '.', 'Anasema', 'kuwa', 'kuvaa', 'nadhifu', 'lilikuwa', 'ni', 'ombi', 'alilomuomba', 'Mungu', 'tangu', 'utotoni', 'na', 'anasema', 'kuwa', 'atazidi', 'kuvalia', 'hivyo', 'hadi', 'ile', 'miaka', 'Mungu', 'atamruhusu', 'kuishi', 'ulimwengu', 'huu', '.', 'Miradi', 'kwa', 'vijana', 'Kando', 'na', 'mavazi', 'ambayo', 'yemechangia', 'Bw', 'Mwangi', 'kujulikana', 'sehemu', 'tofauti', 'duniani', ',', 'amekuwa', 'pia', 'kiongozi', 'wa', 'vijana', 'katika', 'miradi', 'mbali', 'mbali', 'ambayo', 'imewasaidia', 'vijana', 'tangu', 'mwaka', '1993', '.', 'Chanzo', 'cha', 'picha', ',', 'James', 'Mwangi', 'Maelezo', 'ya', 'picha', ',', 'Pete', 'na', 'hata', 'miwani', 'ni', 'mtindo', 'huo', 'huo', 'Amesema', 'ameongoza', 'kuanzishwa', 'kwa', 'miradi', 'ya', 'vijana', 'tangu', 'uongozi', 'wa', 'rais', 'mstaafu', 'Daniel', 'arap', 'Moi', ',', 'ikiwemo', 'ya', 'uchukuzi', 'wa', 'mijini', 'maarufu', 'kama', \"'matatu\", \"'\", 'iliyowaajiri', 'vijana', 'wengi', '.', 'Amechangia', 'ia', 'miradi', 'mingine', 'ya', 'kuosha', 'magari', '.', 'Maelezo', 'ya', 'picha', ',', 'Mambo', 'yako', 'sawa', 'kabisa', 'hapa', 'Bw', 'Mwangi', 'pia', 'anasema', 'alipendekeza', 'kuanzishwa', 'kwa', 'miradi', 'ya', 'ujenzi', 'wa', 'masoko', 'sehemu', 'tofatu', 'za', 'nchi', 'likiwemo', 'soko', 'maarufu', 'la', 'Muthurwa', 'lililo', 'mjini', 'Nairobi', ',', 'na', 'pia', 'mradi', 'wa', 'umeme', 'ambao', 'uliwawezesha', 'watu', 'kupata', 'umeme', 'sehemu', 'za', 'mashambani', 'maarufu', 'kama', 'Rural', 'Eletrification', 'Project', 'wakati', 'wa', 'utawala', 'wa', 'rais', 'mstaafu', 'Mwai', 'Kibaki', '.', '``', 'Nilipendekeza', 'kuwepo', 'miradi', 'ya', 'kujengwa', 'barabara', 'za', 'mashambani', 'na', 'hadi', 'sasa', 'miradi', 'hii', 'imewaajiri', 'vijana', 'na', 'vijana', 'wako', 'na', 'kazi', '.', \"''\", 'Mwangi', 'anatoa', 'ushauri', 'kwa', 'yeyote', 'ambaye', 'angependa', 'kuiga', 'mfano', 'wake', 'kumheshimu', 'Mungu', 'Kwanza', '.', '``', 'Ukimheshimu', 'Mungu', 'na', 'kufanya', 'yanayostahili', ',', 'Mungu', 'atakuinua', 'na', 'kukupa', 'taji', 'kushinda', 'watu', 'wengine', 'na', 'utakuwa', 'mfano', 'na', 'kielelezo', 'kwa', 'dunia', '.', \"''\", 'Changamoto', 'ambazo', 'Mwangi', 'anasema', 'anakumbana', 'nazo', 'ni', 'kuweza', 'kupata', 'mavazi', 'ya', 'rangi', 'sawa', 'kwa', 'wakati', 'mmoja', '.', '``', 'Mara', 'nyingi', 'inachukua', 'muda', 'mrefu', 'kuweza', 'kupata', 'mavazi', 'yote', 'kwa', 'pamoja', 'kwa', 'sababu', 'ninaweza', 'kupata', 'suti', 'na', 'kofia', 'lakini', 'viatu', 'viwe', 'vimechelewa', 'kutokana', 'na', 'kukosekana', 'kwa', 'rangi', 'ifaayo', ',', 'kwa', 'hivyo', 'inanilazimu', 'kusubiri', 'muda', 'mrefu', '.', \"''\", 'anasema', 'Chanzo', 'cha', 'picha', ',', 'James', 'Mwangi', 'Maelezo', 'ya', 'picha', ',', 'Anasema', 'alimuomba', 'Mungu', 'kumpa', 'hekima', 'yenye', 'watu', 'wengine', 'hawana', 'Kuna', 'tofauti', 'kati', 'ya', 'mtindo', 'wa', 'kuvaa', 'wa', 'Mwangi', 'na', 'ule', 'wa', 'Sapewa', 'Afrika', 'ya', 'Kati', '?', 'Bw', 'Mwangi', 'anasema', 'kuwa', 'hajaiga', 'mtindo', 'wa', 'kimavazi', 'maarufu', 'sana', 'nchini', 'Jamhuri', 'ya', 'Kidemokrasia', 'ya', 'Congo', '(', 'DRC', ')', 'na', 'maeneo', 'ya', 'Afrika', 'ya', 'Kati', 'kwa', 'jina', 'Sape', '.', 'Maelezo', 'ya', 'picha', ',', 'Mwangi', 'hulinganisha', 'pia', 'saa', 'za', 'mkono', ',', 'mikanda', 'na', 'vitambaa', 'na', 'rangi', 'ya', 'suti', 'zake', 'Mambo', 'yalibadilika', 'nchini', 'DRC', 'muda', 'mfupi', 'baada', 'ya', 'uhuru', 'na', 'wakati', 'Joseph', 'Mobutu', 'alichukua', 'uongozi', ',', 'alibadilisha', 'jina', 'la', 'nchi', 'hiyo', 'na', 'kuiita', 'Zaire', 'na', 'kuanzisha', 'mtindo', 'wa', 'mavazi', 'usio', 'ule', 'wa', 'nchi', 'magharibi', '.', 'Hata', 'hivyo', 'mwanamuziki', 'Papa', 'Wemba', 'alionekana', 'kulipinga', 'hilo', 'lakini', 'si', 'kupitia', 'kwa', 'muziki', '.', 'Maelezo', 'ya', 'picha', ',', 'Mwangi', 'hujaribu', 'kwa', 'vyovyote', 'vile', 'kulinganisha', 'kwa', 'rangi', 'mavazi', 'yake', 'yote', 'Kwa', 'hivyo', 'alibuni', 'mtindo', 'wa', 'kuvaa', 'unaofahamika', 'hadi', 'sasa', 'kama', 'Sepe', 'unaomaanisha', 'jamii', 'ya', 'watu', 'nadhifu', 'au', 'wa', 'kupendeza', '.', 'Kwa', 'kuvisha', 'bendi', 'yake', 'mavazi', 'ya', 'mtindo', 'wa', 'Sape', 'watu', 'nchini', 'DRC', 'nao', 'wakaufuata', 'mtindo', 'huo', '.', 'Chanzo', 'cha', 'picha', ',', 'James', 'Mwangi', 'Maelezo', 'ya', 'picha', ',', 'Anasema', 'watu', 'umpongeza', 'sana', 'na', 'kumpa', 'motisha', 'Huwezi', 'kusikiliza', 'tena', 'Maelezo', 'ya', 'video', ',', 'Watu', 'wapenda', 'mavazi', 'ya', 'madaha', 'DRC', 'Tangu', 'wakati', 'huo', 'na', 'kutokana', 'na', 'vile', 'mtindo', 'huo', 'umewapa', 'watu', 'uhuru', 'wa', 'kujieleza', ',', 'umewavutia', 'wafuasi', 'wengi', 'eneo', 'la', 'Afrika', 'ya', 'kati', 'na', 'hata', 'mbali', '.', 'Chanzo', 'cha', 'picha', ',', 'James', 'Mwangi', 'Maelezo', 'ya', 'picha', ',', 'Hata', 'gari', 'pia', 'huifananisha', 'Mtindo', 'wa', 'Sapeur', 'kwa', 'sehemu', 'fulani', 'ni', 'kama', 'utamaduni', 'na', 'kwa', 'sehemu', 'kubwa', 'ni', 'wa', 'kuonyesha', 'mavazi', 'hasa', 'yale', 'ya', 'nembo', 'maarufu', 'na', 'ghali', 'kutoka', 'nchi', 'za', \"ng'ambo\", 'na', 'wale', 'wanaovaa', 'mtindo', 'huo', 'hawatili', 'sana', 'maanani', 'kulinganishwa', 'kwa', 'rangi', 'mavazi', 'yote', 'kama', 'suti', ',', 'kofia', 'na', 'hata', 'viatu', '.', 'Basi', 'tofauti', 'iliyowazi', 'katika', 'mtindo', 'na', 'Sape', 'na', 'wa', 'Mwangi', 'ni', 'kwama', 'Mwangi', 'hujaribu', 'kwa', 'vyovyote', 'vile', 'kulinganisha', 'kwa', 'rangi', 'mavazi', 'yake', 'yote', 'yaliyo', 'kwenye', 'mwili', 'wake', 'kwa', 'wakati', 'mmoja', '.']\n",
      "\n",
      " Number of Words:  889\n"
     ]
    }
   ],
   "source": [
    "file=\"20oct26_1.txt\"\n",
    "\n",
    "# calling the function and storing the contents in a text variable \n",
    "text = get_document(\"https://www.bbc.com/swahili/habari-44612192\")\n",
    "\n",
    "# calling the store_ document function \n",
    "store_document(doc=text,name=file)\n",
    "\n",
    "#add the words in this file to the total_corpus_words, to keep count of the number of words in the corpus\n",
    "total_corpus_words+=total_words(file)"
   ]
  },
  {
   "cell_type": "code",
   "execution_count": 151,
   "metadata": {},
   "outputs": [
    {
     "data": {
      "text/plain": [
       "352303"
      ]
     },
     "execution_count": 151,
     "metadata": {},
     "output_type": "execute_result"
    }
   ],
   "source": [
    "total_corpus_words"
   ]
  },
  {
   "cell_type": "code",
   "execution_count": 153,
   "metadata": {},
   "outputs": [
    {
     "name": "stdout",
     "output_type": "stream",
     "text": [
      "['Matokeo', 'ya', 'Uchaguzi', 'Tanzania', '2020', ':', 'Rais', 'wa', 'Kenya', 'ampongeza', 'Magufuli', 'Rais', 'wa', 'Kenya', 'Uhuru', 'Kenyatta', '(', 'Kushoto', ')', 'alifanya', 'ziara', 'binafsi', 'ya', 'siku', 'mbili', 'nchini', 'Tanzania', 'mwaka', '2019', 'Rais', 'wa', 'Kenya', 'Uhuru', 'Kenyatta', 'amemtumia', 'salamu', 'za', 'heri', 'kwa', 'rais', 'mwenzake', 'wa', 'Tanzania', 'John', 'Pombe', 'Magufuli', 'kwa', 'kushinda', 'uchaguzi', 'uliomalizika', 'hivi', 'punde', '.', 'Rais', 'Kenyatta', 'amesema', 'kuchaguliwa', 'tena', 'kwa', 'Magufuli', 'ni', 'ishara', 'ya', 'upendo', 'na', 'imani', 'waliyo', 'nayo', 'Watanzania', 'kwa', 'uongozi', 'wake', '.', '``', 'Kwa', 'niaba', 'ya', 'Watu', ',', 'Serikali', 'ya', 'Kenya', 'na', 'Mimi', 'mwenyewe', 'nampongeza', 'ndugu', 'yangu', ',', 'Dkt', 'John', 'Pombe', 'Magufuli', 'kwa', 'ushindi', 'wako', 'na', 'wa', 'Chama', 'Cha', 'Mapinduzi', ',', 'katika', 'uchaguzi', 'uliomalizika', \"''\", ',', 'alisema', 'rais', 'Kenyatta', '.', 'Aliongeza', 'kuandika', ':', '``', 'Nchi', 'ya', 'Kenya', 'inatarajia', 'kuendelea', 'kufanya', 'kazi', 'na', 'Utawala', 'wako', 'kwa', 'faida', 'ya', 'watu', 'wa', 'mataifa', 'yetu', 'mawili', ',', 'kwa', 'ustawi', 'wa', 'Afrika', 'Mashariki', 'na', 'kwa', 'amani', ',', 'utulivu', 'na', 'ukuaji', 'wa', 'bara', 'la', 'Afrika', '.', 'Rais', 'Kenyatta', 'pia', 'amemtakia', 'rais', 'mwenzake', 'wa', 'Tanzania', 'afya', 'njema', 'na', 'ufanisi', 'anapojiandaa', 'kuhudumu', 'kwa', 'muhula', 'wa', 'pili', 'madarakani', 'na', 'kumhakikishia', 'ushirikiano', 'wa', 'Kenya', 'na', 'kwa', 'utawala', 'wake', '.', 'Rais', 'wa', 'Tanzania', 'John', 'Pombe', 'Magufuli', 'ametetea', 'nafasi', 'yake', 'baada', 'ya', 'kushinda', 'kwa', 'kishindo', 'Uchaguzi', 'Mkuu', 'uliofanyika', 'Jumatano', 'wiki', 'hii', '.', 'Magufuli', 'ameshinda', 'kwa', 'kupata', 'kura', '12,516,252', 'ambayo', 'ni', 'asilimia', '84', 'ya', 'kura', 'zote', 'zilizopigwa', '.', 'Tundu', 'Lissu', 'kutoka', 'chama', 'cha', 'upinzani', 'cha', 'Chadema', 'ameshika', 'nafasi', 'ya', 'pili', 'kwa', 'kupata', 'kura', '1,933,271', 'ya', 'kura', 'zote', 'ziizopigwa', '.', 'Jumla', 'ya', 'watu', '15,91950', 'walipiga', 'kura', 'hizo', 'wakati', 'waliojiandikisha', 'kupiga', 'kura', 'walikuwa', '29,754,699', 'kwa', 'mujibu', 'wa', 'Tume', 'ya', 'taifa', 'ya', 'Uchaguzi', '(', 'NEC', ')', '.', 'Hata', 'hivyo', 'vyama', 'vikuu', 'vya', 'upinzani', 'wamekataa', 'matokeo', 'ya', 'uchaguzi', 'huo', 'wakidai', 'uligubikwa', 'na', 'udanganyifu', '.', 'Uchaguzi', 'huu', 'ambao', 'Magufuli', 'alikuwa', 'akiwania', 'nafasi', 'hiyo', 'ya', 'juu', 'alikuwa', 'na', 'washindani', 'wengine', '14', '.']\n",
      "\n",
      " Number of Words:  294\n"
     ]
    }
   ],
   "source": [
    "file=\"20oct31.txt\"\n",
    "\n",
    "# calling the function and storing the contents in a text variable \n",
    "text = get_document(\"https://www.bbc.com/swahili/habari-54760333\")\n",
    "\n",
    "# calling the store_ document function \n",
    "store_document(doc=text,name=file)\n",
    "\n",
    "#add the words in this file to the total_corpus_words, to keep count of the number of words in the corpus\n",
    "total_corpus_words+=total_words(file)"
   ]
  },
  {
   "cell_type": "code",
   "execution_count": 154,
   "metadata": {},
   "outputs": [
    {
     "data": {
      "text/plain": [
       "352597"
      ]
     },
     "execution_count": 154,
     "metadata": {},
     "output_type": "execute_result"
    }
   ],
   "source": [
    "total_corpus_words"
   ]
  },
  {
   "cell_type": "code",
   "execution_count": 155,
   "metadata": {},
   "outputs": [
    {
     "name": "stdout",
     "output_type": "stream",
     "text": [
      "['Je', ',', 'Rais', 'Kenyatta', 'atamteua', 'nani', 'kuwa', 'mrithi', 'wake', 'mwaka', 'wa', '2022', '?', '..', 'Ikiwa', 'kuna', 'swala', 'ambalo', 'linatawala', 'mazungumzo', 'na', 'siasa', 'za', 'Kenya', 'ni', 'suala', 'la', 'atakayemrithi', 'Rais', 'Uhuru', 'Kenyatta', 'baada', 'ya', 'uchaguzi', 'wa', 'mwaka', 'wa', '2022', '.', 'Hili', 'linatokana', 'na', 'uhusiano', 'kati', 'ya', 'Rais', 'Kenyatta', 'na', 'naibu', 'wake', ',', 'William', 'Ruto', ',', 'ambao', 'umekuwa', 'ukidorora', 'tangu', 'Machi', ',', '2018', 'wakati', 'Rais', 'Kenyatta', 'alipoanza', 'kushirikiana', 'na', 'kiongozi', 'wa', 'upinzani', 'nchini', 'Kenya', ',', 'Raila', 'odinga', '.', 'Tofauti', 'kati', 'ya', 'Rais', 'Kenyatta', 'na', 'naibu', 'wake', ',', 'William', 'Ruto', ',', 'zimekuwa', 'zikiendelea', 'kuonekana', 'hadharani', '.', 'Huku', 'Rais', 'Kenyatta', 'akishikilia', 'kuzingatia', 'shughuli', 'za', 'kimaendeleo', ',', 'naibu', 'wake', 'amekuwa', 'akijipigia', 'upatu', 'na', 'kuzuru', 'maeneo', 'mbali', 'mbali', 'kujitayarisha', 'kwa', 'uchaguzi', 'wa', 'mwaka', 'wa', '2022', '.', 'Hali', 'hii', 'imewafanya', 'wawili', 'hawa', 'waliokuwa', 'marafiki', 'wa', 'karibu', 'kisiasa', 'tangu', 'walipochaguliwa', 'mwaka', 'wa', '2013', 'kila', 'mmoja', 'kuonekana', 'kuchukua', 'mkondo', 'tofauti', '.', 'Tofauti', 'hizi', ',', 'zimepelekea', 'Rais', 'Kenyatta', 'kuchukua', 'hatua', 'kadhaa', 'ambazo', 'zinaonyesha', 'kuwa', 'amebadili', 'nia', 'kumhusu', 'naibu', 'wake', 'kuwa', 'mrithi', 'kwenye', 'uchaguzi', 'wa', 'mwaka', 'wa', '2022', '.', 'Ushirikiano', 'kati', 'ya', 'Rais', 'Uhuru', 'na', 'Raila', 'Odinga', 'Ushirikiano', 'kati', 'ya', 'Rais', 'Kenyatta', 'na', 'Raila', 'Odinga', 'umepelekea', 'Bwana', 'Ruto', 'kuonekana', 'kutengwa', 'kwenye', 'shughuli', 'za', 'serikali', 'na', 'hata', 'za', 'chama', 'tawala', 'cha', 'Jubilee', '.', 'Kwa', 'upande', 'mwingine', ',', 'Rais', 'Kenyatta', 'ameonekana', 'kuhusiana', 'zaidi', 'na', 'Raila', 'Odinga', 'kwenye', 'siasa', ',', 'shughuli', 'rasmi', 'na', 'katika', 'bunge', 'la', 'Kenya', 'ambapo', 'vyama', 'vyao', 'sasa', 'vinashirikiana', 'wazi', 'wazi', '.', 'Itakumbukwa', 'kwamba', 'miezi', 'kadhaa', 'iliyopita', ',', 'Rais', 'Kenyatta', 'alichukua', 'usimamizi', 'dhabiti', 'wa', 'bunge', 'la', 'kitaifa', 'na', 'lile', 'la', 'seneti', 'ambapo', 'kwa', 'sasa', 'mabunge', 'haya', 'hayana', 'upande', 'wa', 'upinzani', '.', 'Naibu', 'wa', 'Spika', 'wa', 'bunge', 'la', 'seneti', ',', 'kiongozi', 'wa', 'wengi', 'na', 'kamati', 'zake', 'zimefanyiwa', 'mabadiliko', 'makubwa', '.', 'Hali', 'hii', 'imekumba', 'bunge', 'la', 'kitaifa', 'ambapo', 'kiongozi', 'wa', 'wengi', 'na', 'naibu', 'wake', 'na', 'kamati', 'zake', 'pia', 'zimefanyiwa', 'mchujo', '.', 'Pigo', 'kwa', 'Ruto', 'Tofauti', 'hizi', 'zimepelekea', 'mabadiliko', 'kwenye', 'uongozi', 'wa', 'seneti', 'na', 'bunge', 'la', 'kitaifa', 'ambapo', 'wandani', 'wa', 'naibu', 'rais', 'William', 'Ruto', 'wameondolewa', '.', 'Miezi', 'ya', 'hivi', 'karibuni', ',', 'kumekuwepo', 'na', 'tofauti', 'ambapo', 'zimejitokeza', 'hadharani', 'kati', 'ya', 'rais', 'na', 'naibu', 'wake', 'jambo', 'ambalo', 'limewafanya', 'wengi', 'kushuku', 'kwamba', 'huenda', 'William', 'Ruto', 'asiwe', 'kwenye', 'mahesabu', 'ya', 'Rais', 'Kenyatta', 'kuhusiana', 'na', 'uchaguzi', 'wa', 'mwaka', 'wa', '2022', 'pamoja', 'na', 'atakayekuwa', 'mrithi', 'wake', 'baada', 'ya', 'kuhudumu', 'kwa', 'miaka', '10', 'kama', 'katiba', 'ya', 'Kenya', 'inavyoruhusu', '.', 'Mgogoro', 'na', 'uhusiano', 'baina', 'ya', 'Rais', 'Kenyatta', 'na', 'naibu', 'wake', 'huenda', 'ukachacha', 'zaidi', 'kufuatia', 'kutolewa', 'kwa', 'ripoti', 'ya', 'marekebisho', 'ya', 'katiba', 'BBI', '.', 'Bwana', 'Ruto', 'anatofautiana', 'na', 'Rais', 'kuhusiana', 'na', 'jambo', 'hili', '.', 'Ruto', 'anasema', 'kwamba', 'hakuna', 'dharura', 'katika', 'kuifanyia', 'marekebisho', 'katiba', 'ya', 'Kenya', 'na', 'kwamba', 'fikra', 'ya', 'kutaka', 'kuipanua', 'serikali', 'hasa', 'katika', 'ngazi', 'na', 'nyadhifa', 'za', 'juu', 'kupitia', 'kwa', 'marekebisho', 'haya', 'ni', 'jambo', 'lisilofaa', '.', 'Kwa', 'sasa', ',', 'wengi', 'nchini', 'Kenya', 'wanaamini', 'kwamba', 'Ruto', 'amekasirishwa', 'na', 'kuvunjwa', 'moyo', 'baada', 'ya', 'kugundua', 'kwamba', 'Rais', 'Kenyatta', 'huenda', 'asimuunge', 'mkono', 'katika', 'uchaguzi', 'wa', '2022', '.', 'Kutafuta', 'mrithi', 'wa', 'Rais', 'Kenyatta', 'Kutokana', 'na', 'tofauti', 'hizi', ',', 'ni', 'bayana', 'kwamba', 'wandani', 'wa', 'karibu', 'wa', 'Rais', 'Kenyatta', 'na', 'viongozi', 'wa', 'chama', 'cha', 'Jubilee', 'wamekuwa', 'wakijikuna', 'vichwa', 'kuhusu', 'uteuzi', 'wa', 'atakayefaa', 'kumrithi', 'ambaye', 'ataweza', 'kukubalika', 'na', 'Wakenya', 'baada', 'ya', 'kupendekezwa', '.', 'Huku', 'mchakato', 'wa', 'BBI', 'ukiwa', 'umeanza', 'na', 'ripoti', 'yenyewe', 'kupokelewa', 'na', 'Rais', 'Kenyatta', 'na', 'Raila', 'Odinga', ',', 'kuna', 'uwezekano', 'kwamba', 'atakayemrithi', 'Rais', 'Kenyatta', 'anaweza', 'kupendekezwa', 'kupitia', 'mchakato', 'huu', 'na', 'kuweza', ',', 'na', 'hatimaye', ',', 'kuchukua', 'hatamu', 'za', 'kuongoza', 'Kenya', '.', 'Hata', 'hivyo', ',', 'hali', 'hii', 'ya', 'mrithi', 'wa', 'Rais', 'Kenyatta', 'itategemea', 'hatma', 'ya', 'mchakato', 'wa', 'BBI', '.', 'Kundi', 'lenye', 'kipaumbele', 'Kwanza', 'kabisa', ',', 'kuna', 'kikundi', 'ambacho', 'kinajumuisha', 'kinara', 'wa', 'chama', 'cha', 'ODM', 'ambaye', 'pia', 'ni', 'kiongozi', 'wa', 'upinzani', 'nchini', 'Kenya', ',', 'Raila', 'Odinga', ',', 'mwenyekiti', 'wa', 'Kanu', 'Gideon', 'Moi', ',', 'ambaye', 'chama', 'chake', 'kimeingia', 'kwenye', 'makubaliano', 'na', 'chama', 'Jubilee', ',', 'kiongozi', 'wa', 'chama', 'cha', 'ANC', ',', 'Musalia', 'Mudavadi', 'na', 'kinara', 'wa', 'Wiper', ',', 'Kalonzo', 'Musyoka', '.', 'Tayari', 'kuna', 'ripoti', 'ambazo', 'zinaonyesha', 'kwamba', 'kati', 'ya', 'viongozi', 'hawa', ',', 'ndipo', 'kuliko', 'na', 'wale', 'watakaochuana', 'na', 'kuongoza', 'Kenya', 'baada', 'ya', 'uchaguzi', 'wa', 'mwaka', 'wa', '2022', '.', 'Kwa', 'umbali', ',', 'mpango', 'wa', 'kumrithi', 'Rais', 'Uhuru', 'Kenyatta', 'unaonekana', 'kuwa', 'mpango', 'wa', 'muda', 'mrefu', 'ambao', 'unaendelezwa', 'hadi', 'kwenye', 'uchaguzi', 'wa', 'mwaka', 'wa', '2027', '.', 'Chini', 'ya', 'mpango', 'huu', 'wa', 'kisiasa', 'ambao', 'yamkini', 'ni', 'fiche', 'lakini', 'unaonekana', 'kwenye', 'shughuli', 'zinazoendelea', 'za', 'kisiasa', ',', 'viongozi', 'wanaofanya', 'kazi', 'kwa', 'karibu', 'na', 'Rais', 'Kenyatta', 'wanataka', 'kuwa', 'na', 'muundo', 'wa', 'serikali', 'ambao', 'utakuwa', 'na', 'Rais', 'wa', 'nchi', ',', 'waziri', 'mkuu', ',', 'manaibu', 'wawili', 'wa', 'waziri', 'mkuu', 'na', 'naibu', 'wa', 'rais', '.', 'Nafasi', 'nyingine', 'ambazo', 'zinasemekana', 'kuwa', 'katika', 'mpango', 'huu', 'wa', 'wandani', 'wa', 'rais', 'ni', 'maspika', 'wa', 'mabunge', 'ye', 'seneti', 'na', 'lile', 'la', 'kitaifa', '.', 'Hata', 'hivyo', ',', 'mpango', 'huu', 'utaanza', 'kubainika', 'zaidi', 'baada', 'ya', 'mchakato', 'wa', 'BBI', 'na', 'kura', 'ya', 'maoni', 'nchini', 'Kenya', '.', 'Hii', 'ndio', 'sababu', 'ya', 'sheria', 'kuhusu', 'kura', 'ya', 'maoni', 'kuwasilishwa', 'bungeni', 'ili', 'iweze', 'kushughulikia', 'masuala', 'haya', 'yote', '.', 'Raila', 'Odinga', 'na', 'BBI', 'Pili', ',', 'kuna', 'Raila', 'Odinga', 'ambaye', 'ndiye', 'mshirika', 'wa', 'karibu', 'wa', 'Rais', 'Kenyatta', 'katika', 'mchakato', 'wa', 'BBI', 'na', 'ndiye', 'walianzisha', 'naye', 'safari', 'nzima', 'ya', 'BBI', '.', 'Yamkini', 'jinsi', 'siasa', 'zinavyokwenda', ',', 'duru', 'zinaarifu', 'kwamba', 'Raila', 'Odinga', 'yuko', 'kifua', 'mbele', 'kumrithi', 'Rais', 'Kenyatta', '``', 'kama', 'daraja', 'la', 'muda', \"''\", 'kabla', 'ya', 'kutoa', 'nafasi', 'kwa', '``', 'anayefaa', \"''\", 'katika', 'uchaguzi', 'utakaofuata', 'kwa', 'sababu', ',', 'kwa', 'sasa', ',', 'mwanasiasa', 'huyo', 'hana', 'uungwaji', 'mkono', 'wa', 'kutosha', 'kitaifa', '.', 'Nafasi', 'hii', 'ya', 'miaka', 'mitano', 'itampa', 'nafasi', 'ya', 'kujijenga', 'kisiasa', '.', 'Orodha', 'ya', 'wanasiasa', 'wanafikiriwa', 'zaidi', 'kwenye', 'mpango', 'huu', 'ni', 'pamoja', 'na', 'seneta', 'wa', 'Baringo', 'Gideon', 'Moi', '(', 'Kanu', ')', ',', 'Bwana', 'Kalonzo', 'Musyoka', '(', 'Wiper', ')', 'na', 'Bwana', 'Musalia', 'Mudavadi', '(', 'ANC', ')', '.', 'Wiki', 'mbili', 'zilizopita', ',', 'mwanasiasa', 'Peter', 'Kenneth', 'aliongoza', 'kundi', 'la', 'wazee', 'wa', 'jamii', 'ya', 'Wakikuyu', 'kukutana', 'na', 'Raila', 'Odinga', 'nyumbani', 'kwake', ',', 'Bondo', '.', 'Mkutano', 'huu', 'ulionekana', 'kama', 'njia', 'mojawapo', 'ya', 'kuleta', 'jamii', 'za', 'Agikuyu', 'na', 'Luo', 'pamoja', ',', 'jamii', 'ambazo', 'zimekuwa', 'na', 'uhasama', 'wa', 'kisiasa', 'tangu', 'Kenya', 'kujipatia', 'uhuru', '.', 'Mipango', 'inaendelea', 'kufanyika', 'kwa', 'wazee', 'wa', 'jamii', 'ya', 'Luo', 'kutembelea', 'eneo', 'la', 'Mlima', 'Kenya', 'kuendelea', 'kujenga', 'uhusiano', 'huo', 'wa', 'kisiasa', 'na', 'kijamii', '.', 'Jambo', 'hili', 'linaonyesha', 'taswira', 'ya', 'mambo', '.', 'Hata', 'ingawa', 'kiongozi', 'wa', 'upinzani', 'Raila', 'Odinga', 'anaonekana', 'kuwa', 'mbele', 'kwenye', 'kinyanganyiro', 'cha', 'kuwania', 'urais', 'kwa', 'sababu', 'ya', 'kuwa', 'mmoja', 'wa', 'waanzilishi', 'wa', 'BBI', 'pamoja', 'na', 'Rais', 'Kenyatta', ',', 'duru', 'nyingine', 'zinaarifu', 'pia', 'kwamba', 'kuna', 'makundi', 'mengine', 'yenye', 'ushawishi', 'mkubwa', 'serikalini', 'wasiompendelea', '.', 'Hata', 'hivyo', ',', 'bwana', 'Odinga', 'ana', 'sifa', 'ambazo', 'zinamweka', 'kipuaumbele', 'kwenye', 'kinyanganyiro', 'cha', 'mwaka', 'wa', '2022', 'kwa', 'sababu', 'ya', 'umri', ',', 'raslimali', 'za', 'kuwezesha', 'kampeini', 'ya', 'urais', 'na', 'sifa', 'zake', 'nzuri', 'za', 'kufanya', 'kampeini', 'kambambe', 'za', 'kitaifa', '.', 'Ikiwa', 'mpango', 'huu', 'wa', 'kisiasa', 'utaafiki', ',', 'Bwana', 'Odinga', 'atawania', 'urais', ',', 'Bwana', 'Gidoen', 'Moi', 'awe', 'naibu', 'wake', 'huku', 'Bwana', 'Kalonzo', 'au', 'Bwana', 'Mudavadi', 'akiwa', 'mmoja', 'wa', 'manaibu', '.', 'Mpango', 'mbadala', 'ni', 'kutokuwepo', 'kabisa', 'kwa', 'Uhuru', 'Kenyatta', 'kwenye', 'mahesabu', 'haya', ',', 'na', 'ambapo', ',', 'Gideon', 'Moi', 'atawania', 'urais', 'ili', 'kugawanya', 'kura', 'za', 'eneo', 'la', 'bonde', 'la', 'ufa', 'na', 'William', 'Ruto', ',', 'huku', 'Raila', 'Odinga', 'akiwa', 'waziri', 'Mkuu', '.', 'Hali', 'hii', 'itamwacha', 'Bwana', 'Kalonzo', 'Musyoka', 'na', 'kiongozi', 'mwingine', 'kutoka', 'magharibi', 'mwa', 'Kenya', 'wakichukua', 'naibu', 'wa', 'waziri', 'mkuu', 'kwani', 'makamu', 'wa', 'rais', 'itabidi', 'afikiriwe', 'kutoka', 'kwenye', 'eneo', 'la', 'Mlima', 'Kenya', '.', 'Aidha', ',', 'kuna', 'mpango', 'mbadala', 'wa', 'kumhusisha', 'kiongozi', 'kutoka', 'magharibi', 'mwa', 'Kenya-hasa', 'Bwana', 'Mudavadi', '-', 'awanie', 'Urais', ',', 'mwanasiasa', 'kutoka', 'eneo', 'la', 'Mlima', 'Kenya', 'awe', 'naibu', 'wake', ',', 'huku', 'Bwana', 'Odinga', 'akiwa', 'Waziri', 'Mkuu', 'na', 'Gideon', 'Moi', 'na', 'Bwana', 'Kalonzo', 'Musyoka', 'wakiwa', 'manaibu', '.', 'Aidha', ',', 'kuna', 'mpango', 'wa', 'kumhusisha', 'mtu', 'mashuhuri', 'kutoka', 'sehemu', 'za', 'pwani', 'ya', 'Kenya', 'ili', 'kupewa', 'nafasi', 'kubwa', 'ya', 'kitaifa', ',', 'kama', 'spika', 'wa', 'seneti', 'ama', 'bunge', 'la', 'kitaifa', '.', 'Hata', 'hivyo', ',', 'kufikia', 'sasa', ',', 'haijabainika', 'wazi', 'mipango', 'ya', 'kisiasa', 'itakavyokwenda', 'maana', 'Bwana', 'Musyoka', 'na', 'Mwana', 'Mudavadi', 'wote', 'wanashikilia', 'kwamba', 'watawania', 'urais', 'mwaka', 'wa', '2022', 'huku', 'Raila', 'Odinga', 'akieleza', 'kwamba', 'ataeleza', 'mpango', 'wake', 'wazi', 'baada', 'ya', 'kura', 'ya', 'maamuzi', '.', 'Sifa', 'za', 'Mwaniaji', 'Urais', '``', 'Wanafikiria', 'kwa', 'sababu', 'Uhuru', 'anaondoka', 'uongozini', 'na', 'kwenda', 'nyumbani', 'mwaka', 'wa', '2022', ',', 'hatakuwa', 'na', 'nguvu', 'zozote', 'kuhusu', 'ni', 'nini', 'kitatokea', 'kwenye', 'siasa', 'za', 'Kenya', '.', 'Ninawaambia', 'kwamba', 'wakati', 'mwafaka', 'ukifika', ',', 'nitakuwa', 'na', 'cha', 'kusema', ',', \"''\", 'Rais', 'Kenyatta', 'alisema', 'kwenye', 'mkutano', 'wa', 'kisiasa', 'mjini', 'Nyeri', ',', 'mnamo', 'Novemba', ',', '2018', '.', 'Kuna', 'masuala', 'mbali', 'mbali', 'ambayo', 'Rais', 'Kenyatta', 'atazingatia', 'kuhusiana', 'na', 'ni', 'mwaniaji', 'yupi', 'ambaye', 'atamuunga', 'mkono', 'kwenye', 'uchaguzi', 'wa', 'mwaka', 'wa', '2022', 'pamoja', 'na', '``', 'uungwaji', 'mkono', 'mkubwa', 'wa', 'kisiasa', 'kwa', 'sababu', 'hataki', 'kuwa', 'kwenye', 'mchezo', 'wa', 'pata', 'potea', 'na', 'mipango', 'yake', 'na', 'kukumbukwa', 'visivyo', '.', \"''\", 'Kwa', 'vyovyote', 'vile', ',', 'ni', 'wazi', 'kwamba', 'Rais', 'Kenyatta', 'atakuwa', 'na', 'ushawishi', 'mkubwa', 'kuhusu', 'atakayemrithi', 'baada', 'ya', 'uchaguzi', 'wa', 'mwaka', 'wa', '2022', '.', 'Hili', 'ni', 'bayana', 'zaidi', 'kwa', 'sababu', 'Raila', 'Odinga', 'ambaye', 'wanashirikiana', 'kwa', 'sasa', 'chini', 'ya', 'mwavuli', 'wa', 'BBI', 'amekuwa', 'kwenye', 'siasa', 'za', 'Kenya', 'kwa', 'muda', 'mrefu', 'na', 'anawazia', 'zaidi', 'pia', 'jinsi', 'atakavyokumbukwa', ',', 'jinsi', 'ilivyo', 'kwa', 'Rais', 'Uhuru', 'Kenyatta', 'mwenyewe', 'ambaye', 'atakuwa', 'akiondoka', 'uongozini', 'baada', 'ya', 'miaka', '10', '.', 'Kinachojitokeza', 'wazi', 'sasa', 'ni', 'kuwa', 'Rais', 'Kenyatta', 'ameanza', 'kuonyesha', 'mpango', 'kuhusu', 'atakayemrithi', 'kwenye', 'uchaguzi', 'wa', 'mwaka', 'wa', '2022', 'ambao', ',', 'yamkini', ',', 'inavyokwenda', 'kwa', 'sasa', ',', 'haumhusishi', 'William', 'Ruto', '.', 'Mpango', 'unaoendelea', 'wa', 'kuwa', 'na', 'ushirikiano', 'wa', 'vyama', 'vikuu', 'vikiwemo', 'Jubilee', ',', 'Wiper', ',', 'ANC', ',', 'CCM', 'na', 'labda', 'Ford-K', 'na', 'vingine', 'ni', 'moja', 'kati', 'ya', 'mikakati', 'yenye', 'lengo', 'la', 'kuhakikisha', 'kuwa', 'Rais', 'Kenyatta', 'anapata', 'nafasi', 'mwafaka', 'kumteua', 'mrithi', 'wake', 'apendavyo', '.']\n",
      "\n",
      " Number of Words:  1541\n"
     ]
    }
   ],
   "source": [
    "file=\"20nov1.txt\"\n",
    "\n",
    "# calling the function and storing the contents in a text variable \n",
    "text = get_document(\"https://www.bbc.com/swahili/54768451\")\n",
    "\n",
    "# calling the store_ document function \n",
    "store_document(doc=text,name=file)\n",
    "\n",
    "#add the words in this file to the total_corpus_words, to keep count of the number of words in the corpus\n",
    "total_corpus_words+=total_words(file)"
   ]
  },
  {
   "cell_type": "code",
   "execution_count": 156,
   "metadata": {},
   "outputs": [
    {
     "data": {
      "text/plain": [
       "354138"
      ]
     },
     "execution_count": 156,
     "metadata": {},
     "output_type": "execute_result"
    }
   ],
   "source": [
    "total_corpus_words"
   ]
  },
  {
   "cell_type": "code",
   "execution_count": 157,
   "metadata": {},
   "outputs": [
    {
     "name": "stdout",
     "output_type": "stream",
     "text": [
      "['Na', 'hadi', 'kufikia', 'hapo', 'ndio', 'nakamilisha', 'matangazo', 'yetu', 'ya', 'moja', 'kwa', 'moja', 'kwa', 'hii', 'leo', '.', 'Asante', 'kwa', 'kuwa', 'nasi', 'na', 'kwaheri', '.', 'Mkenya', 'aliyekuwa', 'akitafutwa', 'na', 'ICC', 'ajisalimisha', 'Wakili', 'nchini', 'Kenya', 'aliyekuwa', 'akitafutwa', 'na', 'mahakama', 'ya', 'kimataifa', 'ya', 'uhalifu', 'wa', 'jinai', '(', 'ICC', ')', 'amejisalimisha', 'baada', 'ya', 'miaka', 'mitano', 'tangu', 'mahakama', 'hiyo', 'ilipotoa', 'kibali', 'cha', 'kukamatwa', 'kwake', ',', 'kuhusiana', 'na', 'ghasia', 'za', 'baada', 'ya', 'uchaguzi', 'mkuu', 'nchini', 'Kenya', '.', 'Mahakama', 'hiyo', 'ilimshtaki', 'Paul', 'Gicheru', 'na', 'wengine', 'wawili', 'kwa', 'kuingilia', 'mfumo', 'wa', 'sheria', 'na', 'kuwashtumu', 'kwa', 'kuingilia', 'mashahidi', 'wa', 'waendesha', 'mashtaka', 'katika', 'kesi', 'dhidi', 'ya', 'wanaodiwa', 'kuwa', 'waandaaji', 'na', 'wafadhili', 'wa', 'ghasia', 'za', 'mwaka', '2007', '.', 'Shule', 'zafunguliwa', 'rasmi', 'Rwanda', 'baada', 'ya', 'miezi', 'nane', 'Shule', 'zimefunguliwa', 'rasmi', 'leo', 'nchini', 'Rwanda', 'baada', 'ya', 'kufungwa', 'kwa', 'miezi', 'nane', 'kufuatia', 'mikakati', 'ya', 'nchi', 'hiyo', 'kudhibiti', 'maambukizi', 'ya', 'virusi', 'vya', 'Corona', '.', 'Wizara', 'ya', 'elimu', 'nchini', 'humo', 'imesema', 'shule', 'zitafunguliwa', 'kwa', 'awamu', 'tofauti', 'na', 'kila', 'shule', 'lazima', 'kuzingatia', 'masharti', 'ya', 'kujilinda', 'na', 'Covid19', '.', 'Baadhi', 'ya', 'wazazi', 'wanasema', 'hali', 'ya', 'kiuchumi', 'iliyosababishwa', 'na', 'covid19', 'inawatatiza', 'kuwarudisha', 'watoto', 'wao', 'shuleni', '.', 'BBCCopyright', ':', 'BBC', 'Katika', 'Shule', 'nyingi', 'mjini', 'Kigali', 'kumewekwa', 'sehemu', 'ya', 'wanafunzi', 'kuosha', 'mikono.Kabla', 'ya', 'kuingia', 'shuleni', 'kila', 'mmoja', 'anapimwa', 'joto', 'na', 'lazima', 'kuvaa', 'barakoa', 'kwa', 'wanafunzi', 'na', 'waalimu', '.', 'BBCCopyright', ':', 'BBC', 'Wizara', 'ya', 'elimu', 'imesema', 'kwamba', 'muda', 'wa', 'vipindi', 'vya', 'masomo', 'utapungua', 'katika', 'shule', 'nyingi', 'za', 'serikali', 'kutokana', 'na', 'kwamba', 'wanafunzi', 'watalazimika', 'kusoma', 'kwa', 'kupishana', 'kwa', 'zamu', 'ili', 'kuheshimu', 'masharti', 'ya', 'kujilinda', 'yakiwemo', 'kuacha', 'mwanya', 'baina', 'ya', 'wanafunzi', '.', 'Na', 'kwa', 'wanafunzi', 'wa', 'sekondari', 'wanaoishi', 'shuleni', 'watalazimika', 'kuendelea', 'kukaa', 'shuleni', 'hadi', 'mwezi', 'wa', 'tano', 'mwakani', 'pasipo', 'kutembelewa', 'na', 'wazazi', '.', 'BBCCopyright', ':', 'BBC', 'Darasa', 'moja', 'limetakiwa', 'kubeba', 'wanafunzi', '23', 'ili', 'kuweka', 'mwanya', 'wa', 'mita', 'moja', 'baina', 'ya', 'wanafunzi', '.', 'Kenya', 'huenda', 'ikafungwa', 'tena', 'kwa', 'wimbi', 'la', 'pili', 'la', 'maambukizi', 'Kenya', 'huenda', 'ikakabiliwa', 'tena', 'na', 'hatua', 'za', 'kufunga', 'shughuli', 'za', 'kiuchumi', 'kama', 'njia', 'moja', 'ya', 'kukabiliana', 'wimbi', 'la', 'pili', 'la', 'maambukizi', 'ya', 'virusi', 'vya', 'corona', '.', 'Raisi', 'Uhuru', 'Kenyatta', 'hapo', 'jana', 'katika', 'maaadhimisho', 'ya', 'miaka', 'hamsi', 'ya', 'Kanisa', 'la', 'All', 'Saints', 'Cathedral', 'alionesha', 'changamoto', 'zilizopo', 'na', 'uwezekano', 'wa', 'kufikiria', 'kuchukua', 'tena', 'hatua', 'za', 'kuwezesha', 'kupunguza', 'kwa', 'maambukizi', '.', 'Siku', 'za', 'hivi', 'karibuni', ',', 'Kenya', 'imekuwa', 'ikishuhudia', 'ongezeko', 'la', 'maambukizi', 'ya', 'ugonjwa', 'wa', 'virusi', 'vya', 'corona', ',', 'huku', 'rais', 'akiashiria', 'kukumbwa', 'na', 'kipindi', 'kigumu', 'cha', 'maamuzi', '.', '‘', '’', 'Tunapitia', 'kipindi', 'kigumu', 'cha', 'kusema', 'sasa', ',', 'tutafanya', 'nini', 'tena', '?', 'Je', 'tufunge', '?', 'Tutazungumzia', 'hilo', ',', 'sio', 'leo', 'lakini', 'karibuni', ',', '’', '’', 'alisema', 'rais', 'Kenyatta', '.', 'Raia', 'wamekuwa', 'wakionekana', 'kama', 'wasiofuatilia', 'kanuni', 'za', 'afya', 'za', 'kupamba', 'na', 'virusi', 'vya', 'corona', 'zilizowekwa', 'tofauti', 'na', 'kipindi', 'cha', 'nyuma', '.', 'Bwana', 'Kenyatta', 'aliongeza', 'kuwa', 'ugonjwa', 'wa', 'Covid-19', 'ni', 'tatizo', 'na', 'ana', 'wasiwasi', 'kuwa', 'idadi', 'ya', 'waliopata', 'maambukizi', 'imekuwa', 'ikiongezeka', 'wiki', 'kadhaa', 'zilizopita', '.', '‘', '’', 'Hatungekuwa', 'na', 'haja', 'ya', 'kufanya', 'hivyo', 'ikiwa', 'tu', 'watu', 'wangefuatilia', 'hatua', 'za', 'kiafya', 'zilizowekwa', 'na', 'kujali', 'wengine.', '’', '’', 'Rais', 'anatarajiwa', 'kuitisha', 'mkutano', 'wa', 'dharura', 'na', 'viongozi', 'wa', 'kaunti', 'kujadiliana', 'suala', 'la', 'kuongezeka', 'kwa', 'maambukizi', 'mapya', 'na', 'athari', 'zake', '.', 'Museveni', 'ateuliwa', 'kuwania', 'nafasi', 'ya', 'urais', 'kwa', 'mara', 'nyingine', 'tena', 'Wafuasi', 'wa', 'NRM', 'wakimusubiri', 'Mseveni', 'kupata', 'mafuta', 'ya', 'bureImage', 'caption', ':', 'Wafuasi', 'wa', 'NRM', 'wakimusubiri', 'Mseveni', 'kupata', 'mafuta', 'ya', 'bure', 'Rais', 'Yoweri', 'Museveni', 'amekuwa', 'wa', 'kwanza', 'kuteuliwa', 'na', 'tume', 'ya', 'uchaguzi', 'kugombea', 'kiti', 'cha', 'urais', 'katika', 'uchaguzi', 'mkuu', 'ujao', 'wa', 'mwaka', '2021', '.', 'Mwenyekiti', 'wa', 'tume', 'ya', 'uchaguzi', 'Jaji', 'Simon', 'Byabakama', 'na', 'jopo', 'lake', 'wamemuhidhinisha', 'rais', 'Museveni', 'baada', 'ya', 'kuhakiki', 'nyaraka', 'zake', 'zote', 'vikiwemo', 'vyeti', 'vyake', 'vya', 'elimu', ',', 'risiti', 'ya', 'benki', 'ya', 'kuhakikisha', 'kama', 'amelipa', 'milioni', '20', 'za', 'usajili', 'na', 'cheti', 'cha', 'wanaomuunga', 'mkono', 'kutoka', 'katika', 'wilaya', '98', '.', 'Wengine', 'wanaoteuliwa', 'leo', 'ni', 'Jenerali', 'Tumukunde', 'Henery', 'ambaye', 'ni', 'mgombea', 'wa', 'kujitegemea', 'asiyekuwa', 'na', 'chama', '.', 'Mgombea', 'mwingine', 'ni', 'Katumba', 'John', 'wa', 'kujitegemea', ',', 'kiongozi', 'wa', 'chama', 'cha', 'ANT', 'Jenerali', 'Mugisha', 'Muntu', 'na', 'mgombea', 'wa', 'mwisho', 'kuteuliwa', 'ni', 'mwanamke', 'pekee', 'katika', 'uchaguzi', 'huu', 'Kalembe', 'Nancy', 'Linda', '.', 'BBCCopyright', ':', 'BBC', 'Zoezi', 'hilo', 'litaendelea', 'hapo', 'kesho', 'na', 'kiongozi', 'wa', 'chama', 'cha', 'NUP', 'Msanii', 'Robert', 'Kyagulanyi', 'maarufu', 'Bobi', 'Wine', 'ndiye', 'atakuwa', 'wa', 'kwanza', 'kuteuliwa', ',', 'wengine', 'ni', 'Mayambala', 'Willy', ',', 'Amuria', 'Oboi', 'Patrick', 'wa', 'chama', 'cha', 'FDC', ',', 'Mwesigye', 'Fred', 'wa', 'kujitegemea', 'na', 'mwandishi', 'habari', 'ambaye', 'ni', 'mgombea', 'wa', 'kujitegemea', 'Josephy', 'Kabuleta', '.', 'CUF', \"'Hatutashiriki\", 'tena', 'Uchaguzi', 'bila', 'Tume', 'huru', \"'\", 'Mwenyekiti', 'wa', 'chama', 'cha', 'upinzani', 'cha', 'CUF', ',', 'nchini', 'Tanzania', 'kimesema', 'chama', 'chake', 'hakitashiriki', 'tena', 'uchaguzi', 'nchini', 'humo', 'mpaka', 'Tume', 'huru', 'ya', 'uchaguzi', 'iundwe', '.', 'Profesa', 'Ibrahimu', 'Lipumba', 'amesema', 'hakubaliani', 'na', 'matokeo', 'ya', 'uchaguzi', 'uliofanyika', 'Oktoba', '28', ',', 'kwa', 'kuwa', 'umegubikwa', 'na', 'mapungufu', '.', '``', 'Zoezi', 'la', 'kuwaapisha', 'mawakala', 'liliendeshwa', 'kinyume', 'Cha', 'taratibu', ',', 'Uchaguzi', 'wa', 'Mwaka', 'huu', 'haukuwa', 'na', 'siri', '.', 'kwa', 'sababu', 'kwenye', 'karatasi', 'za', 'kupiga', 'kura', 'ziko', 'namba', 'za', 'vitambulisho', 'vya', 'wapiga', 'kura', '.', \"''\", 'BBCCopyright', ':', 'BBC', 'CUF', 'imefikia', 'maazimio', 'ya', 'kuhamasisha', 'wananchi', 'na', 'wadau', 'wengine', 'kudai', 'katiba', 'mpya', 'yenye', 'misingi', 'ya', 'demokrasia', 'na', 'utawala', 'bora', '.', 'Na', 'chama', 'hicho', 'kinaomba', 'wanachama', 'na', 'watanzania', 'kwa', 'ujumla', 'kufunga', 'kula', 'chakula', 'cha', 'mchana', 'siku', 'ya', 'Alhamis', 'na', 'kufanya', 'Dua', 'kila', 'mmoja', 'na', 'imani', 'yake', 'kumuomba', 'Mungu', 'hukumu', 'ya', 'haki', 'kwa', 'kilichotokea', 'katika', 'uchaguzi', 'mkuuwa', 'mwaka', 'huu', '.', 'Aliongeza', 'kusema', 'CUF', 'itaaanzisha', 'mazungumzo', 'na', 'Jumuiya', 'ya', 'Kimataifa', 'kuhusiana', 'na', 'suala', 'hili', '.', 'Mgogoro', 'wa', 'ukubwa', 'wa', 'kaburi', 'wachelewesha', 'mazishi', 'Mazishi', 'yalicheleweshwa', 'kwa', 'muda', 'wa', 'saa', 'mbili', 'baada', 'ya', 'mgogoro', 'wa', 'ukubwa', 'wa', 'kaburi', 'kuibuka', 'katika', 'mazishi', 'ya', 'mzee', 'mwenye', 'miaka', '98', '.', 'Mtoto', 'wa', 'marehemu', ',', 'Peter', 'Worby', 'alisema', 'baba', 'yake', 'William', 'alitakiwa', 'kuzikwa', 'lakini', 'Padre', 'kutoka', 'kanisa', 'la', 'Old', 'Hall', 'Green', 'huko', 'Hertfordshire', 'alisema', 'kina', 'cha', 'kaburi', 'hilo', 'ni', 'kifupi', 'kuliko', 'inavyostahili', 'hivyo', 'hawezi', 'kuendesha', 'ibada', 'ya', 'maziko', 'hayo', '.', 'Baada', 'ya', 'kufikiwa', 'kwa', 'makubaliano', ',', 'kasisi', 'huyo', 'aliruhusu', 'mazishi', 'ya', 'mzee', 'huyo', 'kuendelea', ',', 'lakini', 'Bwana', 'Worby', 'alisema', 'familia', 'yake', 'ilinyimwa', '``', 'muda', 'wa', 'kuomboleza', \"''\", '.', 'Aidha', 'askofu', 'wa', 'Kanisa', 'Katoliki', 'aliomba', 'msamaha', 'kwa', 'kuwaongezea', 'msongo', 'wa', 'mawazo', '.', 'Kwa', 'mujibu', 'wa', 'chama', 'kinachoshughulikia', 'masuala', 'ya', 'waliokufa', 'kilisema', ',', 'hakuna', 'kina', 'maalum', 'ambacho', 'kimepitishwa', 'kisheria', 'lakini', 'Wizara', 'ya', 'Sheria', 'inapendekeza', 'angalau', 'kaburi', 'liwe', 'na', 'kina', 'cha', 'sentimita', '61', 'kuanzia', 'kwenye', 'mchanga', 'wa', 'jeneza', 'linapoishia', 'hadi', 'eneo', 'la', 'juu', 'ya', 'ardhi', '.', 'Upinzani', 'Ivory', 'coast', 'waonywa', 'dhidi', 'ya', 'vurugu', 'baada', 'ya', 'matokeo', 'ya', 'uchaguzi', 'EPACopyright', ':', 'EPA', 'Chama', 'tawala', 'nchini', 'Ivory', 'Coast', 'kimewaonya', 'viongozi', 'wa', 'upinzani', 'dhidi', 'ya', 'jaribio', 'lolote', 'la', 'kusababisha', 'vurugu', 'nchini', 'humo', 'baada', 'ya', 'kukataa', 'matokeo', 'ya', 'uchaguzi', 'wa', 'Jumamosi', 'ambapo', 'rais', 'aliye', 'madarakani', 'Alassane', 'Ouattara', 'aliwania', 'kuchaguliwa', 'tena', 'kwa', 'muhula', 'wa', 'tatu', '.', 'Upinzani', 'ambao', 'ulisusia', 'uchaguzi', 'huo', 'umeitisha', 'maandamano', 'kuzuia', 'kile', 'wanachokielezea', 'kama', 'uchaguzi', 'wa', 'kulazimisha', 'madaraka', '.', 'Bwana', 'Ouattara', 'ameanza', 'kuchukua', 'uongozi', 'wa', 'mapema', 'kwa', 'kupata', 'asilimia', '99', 'ya', 'kura', 'katika', 'baadhi', 'ya', 'maeneo', 'ambayo', 'ni', 'ngome', 'ya', 'chama', 'tawala', '.', 'Zaidi', 'ya', 'watu', '30', 'wameuawa', 'katika', 'ghasia', 'za', 'Bwana', 'Ouattara', 'alitangaza', 'kwamba', 'anagombea', 'tena', 'baada', 'ya', 'aliyekuwa', 'amechaguliwa', 'na', 'chama', 'chake', 'kumrithi', 'kufariki', 'dunia', 'ghafla', 'mwezi', 'Julai', '.', '``', 'Mtu', 'niliyekutana', 'naye', 'hivi', 'karibuni', 'amebainika', 'kuwa', 'na', 'maambukizi', 'ya', 'virusi', 'vya', 'corona', '.', 'Niko', 'sawa', 'kuwa', 'sina', 'dalili', 'zozote', 'lakini', 'nitajitenga', 'kwa', 'siku', 'kadhaa', 'zijazo', ',', 'kama', 'ilivyo', 'katika', 'muongozo', 'wa', 'WHO', ',', 'na', 'kufanya', 'kazi', 'nyumbani', ',', \"''\", 'ameandika', 'kwenye', 'ujumbe', 'wa', 'Twitter', '.', '``', 'Wafanyakazi', 'wenzangu', 'wa', 'WHO', 'na', 'mimi', 'tutaendelea', 'kushirikiana', 'na', 'wengine', 'kuokoa', 'maisha', 'na', 'kulinda', 'maisha', 'ya', 'walio', 'hatarini', ',', \"''\", 'aliongeza', '.', 'Dkt.Tedros', 'mwenye', 'miaka', '55', ',', 'alikuwa', 'waziri', 'wa', 'afya', 'nchini', 'Ethiopian', 'alisema', '``', 'ni', 'muhimu', 'sana', 'kufuata', 'muongozo', 'wa', 'wizara', 'ya', 'afya', \"''\", '.', '``', 'Kwa', 'njia', 'hii', ',', 'ndio', 'tutafanikiwa', 'kukabiliana', 'na', 'usambaaji', 'wa', 'ugonjwa', 'wa', 'Covid-19', 'kukabiliana', 'na', 'kirusi', 'hichi', ',', 'na', 'kulinda', 'mifumo', 'ya', 'afya', '.', \"''\", 'Dkt', 'Tedros', ',', 'kama', 'anavyopenda', 'kufahamika', ',', 'ni', 'kiongozi', 'wa', 'kwanza', 'wa', 'Afrika', 'katika', 'shirika', 'la', 'WHO', '.']\n",
      "\n",
      " Number of Words:  1274\n"
     ]
    }
   ],
   "source": [
    "file=\"20nov2.txt\"\n",
    "\n",
    "# calling the function and storing the contents in a text variable \n",
    "text = get_document(\"https://www.bbc.com/swahili/live/habari-54776688\")\n",
    "\n",
    "# calling the store_ document function \n",
    "store_document(doc=text,name=file)\n",
    "\n",
    "#add the words in this file to the total_corpus_words, to keep count of the number of words in the corpus\n",
    "total_corpus_words+=total_words(file)"
   ]
  },
  {
   "cell_type": "code",
   "execution_count": 158,
   "metadata": {},
   "outputs": [
    {
     "data": {
      "text/plain": [
       "355412"
      ]
     },
     "execution_count": 158,
     "metadata": {},
     "output_type": "execute_result"
    }
   ],
   "source": [
    "total_corpus_words"
   ]
  },
  {
   "cell_type": "code",
   "execution_count": 161,
   "metadata": {},
   "outputs": [
    {
     "name": "stdout",
     "output_type": "stream",
     "text": [
      "['Fahamu', 'kwa', 'nini', 'wazee', 'katika', 'eneo', 'la', 'Kilifi', 'huko', 'Kenya', 'wanahofia', 'maisha', 'yao', '?', 'Roncliff', 'Odit', 'BBC', 'Swahili', '9', 'Novemba', '2020', 'Visa', 'vya', 'wazee', 'kuuwawa', 'katika', 'jimbo', 'la', 'Kilifi', ',', 'pwani', 'ya', 'Kenya', 'si', 'jambo', 'jipya', '.', 'Aidha', 'katika', 'kipindi', 'cha', 'miaka', 'miwili', 'pekee', ',', 'zaidi', 'ya', 'wazee', '150', 'wameuwawa', 'kwa', 'madai', 'ya', 'kuwa', 'wachawi', ',', 'ama', 'washirikina', '.', 'Lakini', 'ni', 'nini', 'haswa', 'chanzo', 'cha', 'mauaji', 'hayo', '?', 'Mwanahabari', 'wa', 'BBC', 'Roncliffe', 'Odit', 'amezuru', 'kijiji', 'cha', 'Buni', 'Kisimani', ',', 'jimbo', 'la', 'Kilifi', ',', 'ili', 'kutupatia', 'taswira', 'halisi', 'ya', 'mauaji', 'hayo', '.', 'Makaburi', 'ndio', 'yanayokukaribisha', 'katika', 'kijiji', 'cha', 'Buni', 'Kisimani', ',', 'jimbo', 'la', 'Kilifi', 'nchini', 'Kenya', '.', 'Eneo', 'hili', 'limejaa', 'vijana', 'wanaoendesha', 'boda', 'boda', ';', 'lakini', 'wazee', 'wenye', 'mvi', ',', 'au', 'nywele', 'nyeupe', 'hawaonekani', '.', 'Na', 'katika', 'Eneo', 'hili', 'la', 'jamii', 'ya', 'Mijikenda', ',', 'kila', 'unapotaja', 'jina', 'mzee', ',', 'kiwewe', 'kinawaingia', '.', 'Kwanza', 'nimekutana', 'na', 'Bi', 'Chirindo', 'Chisubi', ',', 'mwenye', 'umri', 'wa', 'miaka', '63', ',', 'aliyeachwa', 'mjane', 'baada', 'ya', 'mumewe', 'kuuwawa', 'kwa', 'kisingizio', 'cha', 'kuwa', 'mchawi', '.', 'Mjane', 'huyu', 'anasema', 'mumewe', 'aliuwawa', 'na', 'kakake', ',', 'na', 'japo', 'alidhaniwa', 'kuwa', 'mchawi', ',', 'yeye', 'anaamini', 'sababu', 'kubwa', 'ni', 'kipande', 'cha', 'ardhi', 'ambacho', 'walirithishwa', 'na', 'wazazi', 'wao', '.', \"'Niliulizwa\", 'hata', 'na', 'polisi', ',', 'je', 'mumeo', 'ni', 'mchawi', '?', 'Nikawaambia', 'mimi', 'tangu', 'anioe', 'sijawahi', 'kuona', 'chochote…', 'maana', 'wana', 'shamba', 'la', 'baba', 'yao', ',', 'alipokufa', 'sasa', 'ilikuwa', 'wamuite', 'mtu', 'wa', 'ukaguzi', 'ili', 'wagawane', '.', \"'\", 'Mita', 'chache', 'tu', 'kutoka', 'hapa', 'ni', 'kaburi', 'la', 'babake', 'Mwakoyo', 'Dzayo', 'aliyeuwawa', 'mwaka', 'huu', '.', 'Aidha', 'Mwakoyo', 'Dzayo', 'pia', 'anakiri', 'kwamba', 'babake', 'aliuwawa', 'kwa', 'kisingizio', 'cha', 'kuwa', 'mshirikina', ',', 'madai', 'ambayo', 'yeye', 'anakana', '.', \"'Sijamuona\", 'hata', 'siku', 'moja', ',', 'kwa', 'sababu', 'mchawi', 'ni', 'yule', 'ambaye', 'katika', 'kizazi', 'chake', 'unaweza', 'kupata', 'mtoto', 'mmoja', 'ambaye', 'ni', 'mlemavu', ',', 'au', 'hata', 'upate', 'kitu', 'ambacho', 'kitaashiria', 'uchawi', ',', 'lakini', 'kwa', 'babangu', 'sijawahi', 'kuona', 'chochote', 'kama', 'hicho', '.', \"'\", 'Sasa', 'ukweli', 'ni', 'nini', 'kuhusu', 'mauaji', 'haya', '?', 'Kamanda', 'wa', 'Polisi', 'Jimbo', 'dogo', 'la', 'Rabai', 'Fred', 'Abuga', 'anasema', 'tamaa', 'ya', 'kuwa', 'na', 'mali', 'ya', 'haraka', 'ndio', 'inayochochea', 'mauaji', 'haya', '.', \"'Chanzo\", 'haswa', 'cha', 'haya', 'maneno', 'kulingana', 'na', 'uchunguzi', 'wetu', 'ni', 'mambo', 'ya', 'mashamba', '.', 'Unapata', 'kwamba', 'wazee', 'wengi', 'wakongwe', 'ndio', 'bado', 'wenye', 'vyeti', 'vya', 'mashamba', '.', 'Sasa', 'vijana', 'ambao', 'wamekuwa', 'hawajahusishwa', 'kikamili', ',', 'hawana', 'mashamba', ',', 'na', 'hawana', 'njiia', 'ya', 'kukithi', 'mahitaji', 'yao', '>', \"'\", 'Lakini', 'sasa', 'nini', 'kinachopaswa', 'kufanywa', 'ili', 'kujaribu', 'kupunguza', 'mauaji', 'haya', '?', 'Khamisi', 'Mwaguzo', 'ni', 'mratibu', 'wa', 'shirika', 'la', 'Kenya', 'Muslim', 'Youth', 'Alliance', 'ambalo', 'linajaribu', 'kutatua', 'kitendawili', 'hiki', '.', 'Mwaguzo', 'anasema', 'lazima', 'kila', 'mtu', 'ahusishwe', 'kikamilifu', 'katika', 'kutafuta', 'suluhu', '.', \"'Wakristo\", ',', 'Waislamu', ',', 'na', 'hata', 'Wazee', 'wa', 'Kaya', '(', 'dini', 'ya', 'kitamaduni', ')', 'lazima', 'waje', 'pamoja', 'na', 'kuhubiri', 'amani', ',', 'na', 'kuieleza', 'jamii', 'kwamba', 'hakuna', 'uchawi', '.', 'Pia', 'lazima', 'vijana', 'waelimishwe', 'jinsi', 'ya', 'kujitafutia', 'wenyewe', 'mali', ',', 'badala', 'ya', 'kutegemea', 'mashamba', 'ya', 'wazee', 'wao', '.', \"'\", 'Lakini', 'wakati', 'familia', 'zilizopoteza', 'wapendwa', 'wao', 'zikiendelea', 'kuomboleza', ',', 'walio', 'hai', 'kwa', 'sasa', 'wanaishi', 'kwa', 'uoga', 'wa', 'kufumaniwa', 'na', 'kuuwawa', 'kwa', 'kisingizio', 'cha', 'uchawi', '.', 'Daniel', 'Mwawara', 'Garero', 'ni', 'mwenyekiti', 'wa', 'wazee', 'wa', 'Kaya', 'hapa', 'Rabai', '.', \"'Wakati\", 'tukiendelea', 'na', 'haya', 'mazungumzo', 'kuna', 'mzee', 'wetu', 'wa', 'Kaya', 'Chonyi', 'yuko', 'Chumba', 'cha', 'Kuhifadhia', 'Maiti', 'cha', 'Kilifi', '.', 'Na', 'hata', 'kwa', 'boma', 'letu', ',', 'kuna', 'mzee', 'amechinjwa', 'juzi', 'tu', ',', 'kwa', 'hiyo', 'bado', 'mauaji', 'yako', 'na', 'sote', 'tunaishi', 'na', 'uoga', '.', \"'\"]\n",
      "\n",
      " Number of Words:  544\n"
     ]
    }
   ],
   "source": [
    "file=\"20nov9_1.txt\"\n",
    "\n",
    "# calling the function and storing the contents in a text variable \n",
    "text = get_document(\"https://www.bbc.com/swahili/habari-54868892\")\n",
    "\n",
    "# calling the store_ document function \n",
    "store_document(doc=text,name=file)\n",
    "\n",
    "#add the words in this file to the total_corpus_words, to keep count of the number of words in the corpus\n",
    "total_corpus_words+=total_words(file)"
   ]
  },
  {
   "cell_type": "code",
   "execution_count": 162,
   "metadata": {},
   "outputs": [
    {
     "data": {
      "text/plain": [
       "355956"
      ]
     },
     "execution_count": 162,
     "metadata": {},
     "output_type": "execute_result"
    }
   ],
   "source": [
    "total_corpus_words"
   ]
  },
  {
   "cell_type": "code",
   "execution_count": 164,
   "metadata": {},
   "outputs": [
    {
     "name": "stdout",
     "output_type": "stream",
     "text": [
      "['Serengeti', 'inajivunia', 'umaarufu', 'kwa', 'msafara', 'wa', 'nyumbu', 'wahamao', 'zaidi', 'ya', 'milioni', 'mojana', 'nusu', ',', 'aina', 'mbalimbali', 'za', 'wanyamapori', 'wanaopatikana', 'kwa', 'wingi', ',', 'mandhari', 'nzuri', 'ya', 'kuvutia', 'pamoja', 'na', 'shughuli', 'mbalimbali', 'zinazowavutia', 'watalii', 'wengi', '.', 'Vibarua', 'mpaka', 'wa', 'DRC', 'na', 'Rwanda', 'walalamikia', 'hali', 'ngumu', 'ya', 'maisha', 'Mpaka', 'wa', 'Rusizi-Bukavu', 'umefungwa', 'kwa', 'miezi', '8', 'isipokuwa', 'kwa', 'malori', 'ya', 'bidhaa.Image', 'caption', ':', 'Mpaka', 'wa', 'Rusizi-Bukavu', 'umefungwa', 'kwa', 'miezi', '8', 'isipokuwa', 'kwa', 'malori', 'ya', 'bidhaa', '.', 'Ni', 'miezi', 'nane', 'sasa', 'tangu', 'mpaka', 'wa', 'Rusizi-Bukavu', 'kufungwa', ',', 'maelfu', 'ya', 'watu', 'ambao', 'walikuwa', 'wanalazimika', 'kuvuka', 'kwenda', 'Bukavu', 'nchini', 'DRC', 'kutoka', 'mji', 'wa', 'Rusizi', 'nchini', 'Rwanda', ',', 'wanasema', 'maisha', 'yamekuwa', 'magumu', 'sana', 'kwao', '.', 'Mipaka', 'ilifungwa', 'tangu', 'mwezi', 'Machi', ',', 'kwa', 'sababu', 'ya', 'janga', 'la', 'corona', '.', 'Hivi', 'karibuni', ',', 'Rwanda', 'na', 'DRC', 'walikubaliana', 'kufungua', 'mpaka', 'kwa', 'idadi', 'ndogo', 'ya', 'watu', 'walio', 'na', 'sababu', 'maalum', 'huku', 'watu', 'hao', 'wakijigharamia', 'katika', 'vipimo', 'vya', 'Covid', '19', '.', 'Jambo', 'ambalo', 'halijaleta', 'mabadiliko', 'makubwa', 'katika', 'upande', 'wa', 'ajira', ',', 'kwa', 'kuwa', 'idadi', 'ni', 'ndogo', 'bado', '.', 'Wananchi', 'wa', 'eneo', 'hilo', 'wanasema', 'hali', 'ya', 'kiuchumi', 'na', 'maisha', 'yamebadilika', 'mno', 'hakuna', 'aliyepata', 'msaada', 'wa', 'chakula', 'serikalini', 'wakati', 'wa', 'sheria', 'ya', 'kutotoka', 'nyumbani', '.', '``', 'Maisha', 'yalisimama', 'kwa', 'sababu', 'mpaka', 'huu', 'ndio', 'ulikuwa', 'riziki', 'yetu.', '’', '’', '``', 'Badala', 'yake', ',', 'tuna', 'madeni', 'mengi', ',', 'tumekuwa', 'omba', 'omba', '...', 'mara', 'kilo', 'ya', 'sukari', ',', 'mara', 'mchele', 'ili', 'kunusuru', 'maisha', 'ya', 'watoto', 'yaani', 'tuko', 'katika', 'maisha', 'magumu', '’', '’', 'Uwamahoro', 'Olive', 'anasema', 'alikuwa', 'akivuka', 'mpaka', 'kila', 'siku', 'kwenda', 'Bukavu', 'kufanya', 'kazi', 'ya', 'kutengeneza', 'bustani', '.', 'BBCCopyright', ':', 'BBC', '‘', '’', 'Mimi', 'kazi', 'yangu', 'ni', 'ya', 'kutengeneza', 'bustani', ',', 'nilifanya', 'kazi', 'hiyo', 'mjini', 'Bukavu', 'kwa', 'miaka', '8', 'sasa', '.', '.ni', 'kazi', 'iliyokuwa', 'inaingiza', 'kila', 'mwezi', 'nilikuwa', 'napata', 'takriban', 'dolla', '80.Tangu', 'mipaka', 'kufungwa', 'tunahangaika', 'sana', 'hata', 'kupata', 'chakula', 'ni', 'shida', '’', '’', ',', 'alisema', 'mkazi', 'mwingine', '.', 'Fundi', 'mwingine', 'wa', 'ujenzi', 'anayeishi', 'katika', 'mji', 'wa', 'Rusizi', 'alisema', ':', \"''\", 'Kule', 'Congo', 'kuna', 'kazi', 'nyingi', 'za', 'kufanywa', ',', 'hata', 'wakati', 'mwingine', 'wanakuita', 'wenyewe', 'kwa', 'ajili', 'ya', 'kazi', ',', 'huwezi', 'kuenda', 'Congo', 'na', 'kurudi', 'nyumbani', 'mikono', 'mitupu.', '’', '’', 'Rwanda', 'imeishafungua', 'viwanja', 'vya', 'ndege', ',', 'lakini', 'haijafahamika', 'lini', 'itakapofungua', 'mipaka', 'ya', 'ardhini', '.', 'Muigizaji', 'wa', 'Nigeria', 'kushtakiwa', 'mahakamani', 'baada', 'ya', 'picha', 'zake', 'kuzua', 'mjadala', 'mtandaoni', 'Getty', 'ImagesCopyright', ':', 'Getty', 'Images', 'Mwanazuoni', 'wa', 'dini', 'ya', 'Kiislamu', 'Kaskazini', 'mwa', 'Nigeria', 'ametaka', 'muigizaji', 'Rahama', 'Sadau', 'ashtakiwe', 'katika', 'mahakama', 'ya', 'Kiislamu', 'kwa', 'madai', 'ya', 'kuchochea', 'maoni', 'ya', 'kashfa', 'juu', 'ya', 'Nabii', 'Muhammad', ',', 'baada', 'ya', 'kuweka', 'picha', 'zake', 'akiwa', 'amevalia', 'mavazi', 'ya', 'yanayomuonesha', 'mgongo', 'wazi', 'kwenye', 'mitandao', 'ya', 'kijamii', 'ambayo', 'yalichukuliwa', 'na', 'watu', 'wengine', 'kuwa', 'ya', 'aibu', '.', 'Muigizaji', 'huyo', 'aliomba', 'radhi', 'na', 'kufuta', 'picha', 'hizo', 'baada', 'ya', 'kusababisha', 'ghadhabu', 'kwa', 'raia', 'wengi', 'hasa', 'wa', 'Kaskazini', 'mwa', 'Nigeria', '.', 'Hatahivyo', ',', 'hiyo', 'haikutosha', 'kumzuia', 'mtaalamu', 'huyu', 'kutaka', 'kesi', 'yake', 'isikilizwe', 'kwenye', 'mahakama', 'ya', 'Kiislamu', ',', 'si', 'kwa', 'sababu', 'ya', 'picha', 'zenyewe', 'bali', 'kwa', 'sababu', 'ya', 'namna', 'watu', 'walivyozungumzia', 'kitendo', 'hicho', '.', 'Watu', 'waliomtetea', 'Sadau', 'kuhusu', 'picha', 'hizo', 'pia', 'walimkosoa', 'Nabii', '.', 'Aliyu', 'Dahiru', ',', 'ambaye', 'anatafiti', 'masuala', 'ya', 'kijinsia', 'kaskazini', 'mwa', 'Nigeria', ',', 'amesema', 'upande', 'wa', 'mashtaka', 'umejaribu', '``', 'kujibu', 'kupita', 'kiasi', \"''\", 'na', 'kuongeza', 'kuwa', '``', 'hali', 'ya', 'kuwachukia', 'wanawake', 'kaskazini', 'inasababisha', 'uonevu', 'wa', 'mtandao', \"''\", '.', 'Sadau', 'alisimamishwa', 'kushiriki', 'kwenye', 'tasnia', 'ya', 'sinema', 'eneo', 'la', 'kaskazini', 'kwa', 'kuhusika', 'kwenye', 'video', 'ya', 'muziki', 'akionekana', 'kumkumbatia', 'msanii', 'wa', 'kiume', '.', 'Waziri', 'Mkuu', 'wa', 'Ethiopia', 'Abiy', 'Ahmed', 'amesema', '‘', '’', 'Operesheni', 'ya', 'kusimamia', 'sheria', '’', '’', 'katika', 'jimbo', 'la', 'Kaskazini', 'la', 'Tigray', '‘', '’', 'inaendelea', 'kama', 'ilivyopangwa', '’', '’', '.', 'Alisema', 'katika', 'ukurasa', 'wake', 'wa', 'Twitter', 'kuwa', 'operesheni', 'itakoma', '‘', '’', 'baada', 'ya', 'jeshi', 'la', 'Junta', 'kudhibitiwa', ',', 'utawala', 'halali', 'kurejeshwa', 'katika', 'eneo', ',', 'pia', 'waliokimbia', 'kuhakikisha', 'wanafikishwa', 'kwenye', 'vyombo', 'vya', 'kisheria', '’', '’', '.', 'Rais', 'wa', 'Ivory', 'Coast', 'amualika', 'mpinzani', 'wake', 'kwa', 'ajili', 'ya', 'mazungumzo', 'Rais', 'wa', 'Ivory', 'Coast', 'Alassane', 'Ouattara', 'amemualika', 'mpinzani', 'wake', ',', 'Rais', 'wa', 'zamani', 'Henri', 'Konan', 'Bédié', 'kwa', 'ajili', 'ya', 'mazungumzo', 'baada', 'ya', 'kutokea', 'vurugu', 'zilizosababishwa', 'na', 'ushindi', 'wake', 'wa', 'kishindo', 'kuelekea', 'kuliongoza', 'taifa', 'hilo', 'kwa', 'muhula', 'wa', 'tatu', '.', 'Viongozi', 'wa', 'upinzani', 'walisusia', 'kura', 'za', 'mwezi', 'uliopita', 'na', 'kuapa', 'kuunda', 'serikali', 'ya', 'mpito', 'ambayo', 'itaandaa', 'uchaguzi', 'mpya', '.', 'Siku', 'ya', 'Jumatatu', 'mahakama', 'ya', 'kikatiba', 'ilithibitisha', 'ushindi', 'wa', 'Bw.Ouattara', '.', 'Alipata', '94.27', '%', 'ya', 'kura', 'zilizopigwa', '.', 'Hakuna', 'rufaa', 'dhidi', 'ya', 'uchaguzi', 'wa', 'rais', 'unaowezekana', 'sasa', ',', 'kwa', 'mujibu', 'wa', 'sheria', 'ya', 'nchi', 'hiyo', '.', 'Rais', 'Outtara', 'alimualika', 'Bw', '.', 'Bédié', 'kwenye', '‘', '’', 'mkutano', 'siku', 'chache', 'zijazo', 'kwa', 'ajili', 'ya', 'mazungumzo', 'ya', 'wazi', 'na', 'ya', 'kweli', 'kusaidia', 'kurudisha', 'uaminifu', ',', '’', '’', 'Shirika', 'la', 'habari', 'la', 'Ufaransa', 'limeripoti', '.', 'Viongozi', 'kadhaa', 'wa', 'upinzani', 'wanakabiliwa', 'na', 'mashtaka', 'ya', 'ugaidi', 'na', 'uchochezi', 'baada', 'ya', 'kupinga', 'kuchaguliwa', 'tena', 'kwa', 'Rais', 'Ouattara', '.', 'Takribani', 'watu', '40', 'wameuawa', 'kutokana', 'na', 'vurugu', 'zinazohusiana', 'na', 'uchaguzi', 'tangu', 'mwezi', 'Agosti', '.', 'Mwanasheria', 'nchini', 'Nigeria', 'ataka', 'maandishi', 'ya', 'kiarabu', 'kwenye', 'fedha', 'yaondolewe', 'Getty', 'ImagesCopyright', ':', 'Getty', 'Images', 'Mahakama', 'mjini', 'Lagos', 'Nigeria', 'inatarajia', 'kusikiliza', 'kesi', 'iliyofunguliwa', 'na', 'mwanasheria', 'dhidi', 'ya', 'Benki', 'Kuu', 'ya', 'Nigeria', 'akitaka', 'kuondolewa', 'kwa', 'maandishi', 'ya', 'kiarabu', 'kwenye', 'fedha', 'za', 'nchi', 'hiyo', '.', 'Malcolm', 'Omirhobo', 'pia', 'anataka', 'jeshi', 'la', 'Nigeria', 'kuondoa', 'maandishi', 'kutoka', 'kwenye', 'nembo', 'ya', 'jeshi', 'yanayoashiria', 'kuwa', 'Nigeria', 'ni', 'nchi', 'ya', 'Kiislamu', ',', 'kinyume', 'na', 'katiba', 'ya', 'nchi', 'hiyo', 'kuwa', 'ni', 'taifa', 'lisilofungamana', 'na', 'dini', 'yoyote', '.', 'Mwanasheria', 'huyo', 'anataka', 'maandishi', 'hayo', 'yawekwe', 'kwa', 'lugha', 'ya', 'Kiingereza', 'au', 'kwa', 'lugha', 'yoyote', 'miongoni', 'mwa', 'lugha', 'tatu', 'zinazotumika', 'nchini', 'humo', '–Hausa', ',', 'Yoruba', 'au', 'Igbo', '.', 'Hatahivyo', ',', 'Benki', 'Kuu', 'imekana', 'kuwa', 'maandishi', 'hayo', 'ni', 'ishara', 'ya', 'Uislamu', '.', 'Watu', 'wengi', 'nchini', 'humo', ',', 'hasa', 'eneo', 'la', 'Kaskazini', ',', 'huongea', 'Kiarabu', '.', 'Hata', 'hivyo', 'Kiingereza', 'ni', 'lugha', 'kuu', 'ya', 'mawasiliano', 'nchini', 'humo', '.', 'Job', 'Ndugai', 'achaguliwa', 'kuwa', 'Spika', 'wa', 'Bunge', 'Tanzania', 'Job', 'Ndugai', 'amechaguliwa', 'kuwa', 'spika', 'wa', 'Bunge', 'la', 'Tanzania', 'hii', 'leo', 'kwa', 'ushindi', 'wa', 'asilimia', '99.7', '.', 'Ndugai', 'aliliongoza', 'bunge', 'hilo', 'akiwa', 'spika', 'kwa', 'kipindi', 'cha', 'miaka', 'mitano', ',', 'ambapo', 'hii', 'leo', 'akmekitetea', 'kiti', 'chake', 'kwa', 'ajili', 'ya', 'kukitumikia', 'kwa', 'miaka', 'mitano', 'mingine', '.', 'Awali', 'Katibu', 'wa', 'Bunge', ',', 'Stephen', 'Kigaigaialisema', 'kuwaamemuengua', 'Bonaventura', 'Peter', 'Ndekenja', 'wa', 'chama', 'cha', 'NRA', 'aliyemtumia', 'barua', 'pepe', 'akieleza', 'nia', 'yake', 'ya', 'kutaka', 'kuwa', 'Spika', 'wa', 'Bunge', 'la', 'Jamuhuri', 'ya', 'Muungano', 'wa', 'Tanzania', '.', \"''Yeye\", 'si', 'mbunge', 'hivyo', 'chama', 'chake', 'kilipaswa', 'kuwasilishajina', 'lake', 'Tume', 'ya', 'Taifa', 'ya', 'uchaguzi', '(', 'NEC', ')', 'kuthibitisha', 'kama', 'ana', 'vigezo', 'vya', 'kuwa', 'mbunge', \"''\", 'kwa', 'kutofanya', 'hivyo', 'ndugu', 'Ngegenja', 'amekosa', 'sifa', ',', \"''\", 'alinukuliwa', 'Kigaigai', 'na', 'gazeti', 'la', 'Mwananchi', '.', 'Kutokana', 'na', 'hilo', 'Job', 'Ndugai', 'alikuwamgombea', 'pekee', 'wa', 'nafasi', 'hiyo', 'aliyepigiwa', 'kura', 'kwa', 'ajili', 'ya', 'nafasi', 'hiyo', '.', 'Sasa', 'Spika', 'Ndugai', 'ana', 'jukumu', 'la', 'kuwaongoze', 'wabunge', 'wateule', 'kula', 'kiapo', 'cha', 'utii', '.']\n",
      "\n",
      " Number of Words:  1087\n"
     ]
    }
   ],
   "source": [
    "file=\"20nov10_1.txt\"\n",
    "\n",
    "# calling the function and storing the contents in a text variable \n",
    "text = get_document(\"https://www.bbc.com/swahili/live/habari-54883957\")\n",
    "\n",
    "# calling the store_ document function \n",
    "store_document(doc=text,name=file)\n",
    "\n",
    "#add the words in this file to the total_corpus_words, to keep count of the number of words in the corpus\n",
    "total_corpus_words+=total_words(file)"
   ]
  },
  {
   "cell_type": "code",
   "execution_count": 165,
   "metadata": {},
   "outputs": [
    {
     "data": {
      "text/plain": [
       "357043"
      ]
     },
     "execution_count": 165,
     "metadata": {},
     "output_type": "execute_result"
    }
   ],
   "source": [
    "total_corpus_words"
   ]
  },
  {
   "cell_type": "code",
   "execution_count": 168,
   "metadata": {},
   "outputs": [
    {
     "name": "stdout",
     "output_type": "stream",
     "text": [
      "['Ajali', 'za', 'kivuko', 'cha', 'likoni', ':', 'Je', 'abiria', 'wa', 'feri', 'ya', 'Likoni', 'mjini', 'Mombasa', 'wako', 'salama', '?', '12', 'Novemba', '2020', 'Chanzo', 'cha', 'picha', ',', 'BAKARI', 'GOWA', 'Jumatatu', 'Septemba', '30', 'mwaka', '2019', ',', 'biwi', 'la', 'simanzi', 'lilitanda', 'katika', 'kivuko', 'cha', 'Likoni', 'Ferry', 'mjini', 'Mombasa', ',', 'Kenya', ',', 'baada', 'ya', 'mama', 'mmoja', 'na', 'binti', 'yake', 'kutumbukia', 'baharini', 'na', 'kufa', 'maji', '.', 'Ni', 'tukio', 'ambalo', 'lilishutumiwa', 'vikali', 'na', 'watumizi', 'wa', 'Ferry', 'pamoja', 'na', 'viongozi', 'mbali', 'mbali', ',', 'huku', 'mamlaka', 'husika', 'ikiahidi', 'kushughulikia', 'usalama', 'wa', 'abiria', 'wote', 'wanaotumia', 'kivuko', 'hicho', '.', 'Lakini', 'mwaka', 'mmoja', 'baadaye', ',', 'hali', 'iko', 'vipi', '?', 'Mwanahabari', 'wetu', 'Roncliffe', 'Odit', 'ametoka', 'Likoni', 'kujionea', 'hali', 'ilivyo…', 'Ilikuwa', 'Septemba', '30', 'mwaka', 'jana', 'katika', 'kivuko', 'cha', 'Likoni', 'Ferry', 'mjini', 'Mombasa', ',', 'ambapo', 'Mariam', 'Kighenda', 'na', 'binti', 'yake', 'Amanda', 'Mutheu', 'walifariki', 'baada', 'ya', 'gari', 'lao', 'kutumbukia', 'majini', '.', 'Kwa', 'mujibu', 'wa', 'mashuhuda', ',', 'gari', 'lao', 'lilirejea', 'nyuma', 'na', 'kutumbukia', 'baharini', ',', 'mama', 'na', 'bintiye', 'wakalia', ',', 'wakaitana', ',', 'wakawapungia', 'mikono', ',', 'lakini', 'hakuna', 'mtu', 'wa', 'aliyewasaidia', '.', 'Ni', 'ajali', 'ambayo', 'mashuhuda', 'wanasema', 'ingeweza', 'kuepukika', ',', 'lakini', 'msaada', 'ulichelewa', '.', 'Sasa', 'zaidi', 'ya', 'mwaka', 'mmoja', 'baadaye', ',', 'je', ',', 'usalama', 'wa', 'abiria', 'umeimarishwa', 'katika', 'kivuko', 'hicho', '?', 'Chanzo', 'cha', 'picha', ',', 'HISANI', 'Saa', 'kumi', 'na', 'mbili', 'jioni', 'kuna', 'msongamano', 'mkubwa', 'wa', 'watu', 'na', 'magari', ',', 'kila', 'mmoja', 'anajaribu', 'awahi', 'kabla', 'masaa', 'kupita', '.', 'Miongoni', 'mwa', 'abiria', 'wengi', 'hapa', 'ni', 'Hamisi', 'Mbete', 'ambaye', 'ni', 'mtaalam', 'wa', 'masuala', 'ya', 'baharini', ',', 'anayesema', 'kwamba', 'hali', 'imebadilika', 'kidogo', '.', \"'Ile\", 'ajali', 'ilipotokea', ',', 'na', 'kufariki', 'kwa', 'yule', 'mama', 'na', 'mtoto', 'wake', ',', 'ilileta', 'changamoto', 'kubwa', 'sana', '.', 'Kila', 'mmoja', 'aliyekuwa', 'amelala', 'kazini', 'sasa', 'ameamka', '.', \"'\", 'Abiria', 'mwingine', 'hapa', ',', 'Pamela', 'Johnson', 'ambaye', 'huvuka', 'kwa', 'Ferry', 'kila', 'siku', 'pia', 'anakubali', 'kwamba', 'kuna', 'mabadiliko', 'kidogo', 'tangu', 'ajali', 'hiyo', 'ya', 'mwaka', 'jana', '.', \"'Siku\", 'hizi', 'tunapokuwa', 'ndani', 'ya', 'Ferry', 'huwa', 'tunatangaziwa', 'kuhusu', 'zile', 'jaketi', 'za', 'kuvaa', 'ili', 'kujisadia', 'wakati', 'wa', 'ajali', '.', 'Japo', 'ajali', 'ni', 'jamabo', 'la', 'dharura', ',', 'lakini', 'siku', 'hizi', 'tukiwa', 'ndani', 'ya', 'kivukio', 'huwa', 'tunatahadharishwa', '.', \"'\", 'Chanzo', 'cha', 'picha', ',', 'HISANI', 'Lakini', 'kando', 'na', 'matangazo', 'hayo', 'ya', 'usalama', 'yanayotolewa', 'ndani', 'ya', 'Ferry', ',', 'nini', 'kingine', 'kinahitajika', 'ili', 'kuwahakikishia', 'abiria', 'usalama', 'wao', '?', \"'Kunapaswa\", 'kuwa', 'na', 'watu', 'ambao', 'wako', 'pale', 'kila', 'wakati', ',', 'ikiwa', 'mtu', 'ataanguka', 'baharini', 'wanaweza', 'kupiga', 'mbizi', 'na', 'kumuokoa', '.', 'Pia', 'lazima', 'kuwe', 'na', 'drills', '(', 'yaani', 'majaribio', ')', 'kila', 'mara', 'ili', 'watu', 'wawe', 'na', 'uzoefu', \"'\", ',', 'anasema', 'Hamisi', 'Mbete', 'ambaye', 'pia', 'ni', 'baharia', '.', 'Aidha', 'wataalam', 'wanasema', 'ni', 'muhimu', 'pia', 'kuwe', 'na', 'boti', 'za', 'kutosha', 'na', 'maboya', 'ya', 'kujiokoa', 'wakati', 'wa', 'ajali', '.', 'Lakini', 'Lucy', 'Mwaka', 'ambaye', 'huvuka', 'kwa', 'Ferry', 'kila', 'siku', 'anasema', 'hajui', 'kutumia', 'boya', 'la', 'kujiokoa', 'iwapo', 'kutatokea', 'ajali', '.', \"'Hayo\", 'maboya', 'sidhani', 'kama', 'kuna', 'mtu', 'hata', 'mmoja', 'anayejua', 'kuyatumia', '.', 'Hata', 'mimi', 'nikipatwa', 'na', 'shida', ',', 'sijui', 'nitaanzia', 'wapi', '.', \"'\", 'Sasa', 'kama', 'yeye', 'hajui', 'ni', 'nani', 'anayejua', '?', 'Maelezo', 'ya', 'picha', ',', 'Mkurugenzi', 'wa', 'KENYA', 'FERRY', 'Bakari', 'Gowa', '(', 'kulia', ')', 'na', 'Kamishina', 'wa', 'Jimbo', 'la', 'Mombasa', 'Gilbert', 'Kitiyo', 'Mkurugenzi', 'Mkuu', 'wa', 'Shirika', 'la', 'Ferry', 'nchini', 'Kenya', 'Bakari', 'Gowa', 'anasema', 'hilo', 'ni', 'tatizo', 'ambalo', 'wanalishughulikia', 'kwa', 'kutoa', 'mafunzo', 'ya', 'mara', 'kwa', 'mara', 'kwa', 'abiria', 'wa', 'Ferry', '.', \"'Tumehakikisha\", 'kuwa', 'milango', 'ya', 'Ferry', 'iko', 'katika', 'hali', 'ya', 'sawasawa', '.', 'Na', 'ndani', 'ya', 'Ferry', 'itakuwa', 'vigumu', 'sana', 'kwa', 'mtu', 'kutumbukia', 'ndani', 'ya', 'maji', '.', 'Pia', 'tunazungumza', 'na', 'wananchi', 'na', 'kuwasisitizia', 'kwamba', 'wakiingia', 'ndani', 'ya', 'Ferry', 'wazime', 'magari', 'ili', 'kuwa', 'salama', '.', \"'\", 'Aidha', 'Gowa', 'anasema', 'kwamba', 'sasa', 'abiria', 'wengi', 'pia', 'wamekuwa', 'waangalifu', 'zaidi', ',', 'licha', 'ya', 'kuwa', 'wamefanyia', 'milango', 'ya', 'Ferry', 'marekebisho', '.', 'Zaidi', 'ya', 'mwaka', 'mmoja', 'tangu', 'ajali', 'hiyo', 'ya', 'kusikitisha', ',', 'familia', 'ya', 'Mariam', 'Kighenda', 'na', 'binti', 'yake', 'Amanda', 'Mutheu', 'imejikokota', 'kurejelea', 'maisha', 'ya', 'kawaida', '.', 'Na', 'japo', 'mume', 'wake', 'John', 'Wambua', 'bado', 'hana', 'nguvu', 'za', 'kuizungumzia', 'siku', 'hiyo', ',', 'hapa', 'kwenye', 'kivuko', 'cha', 'Likoni', 'Ferry', ',', 'bado', 'abiria', 'wengi', 'wana', 'kumbukumbu', 'ya', 'kilichotokea', '.', 'Lakini', 'licha', 'ya', 'kumbukumbu', 'hiyo', ',', 'abiria', 'wa', 'Ferry', 'wanavuka', 'wakiwa', 'na', 'matumaini', 'kwamba', 'hilo', 'ni', 'wingu', 'lililopita', 'na', 'halitawahi', 'kurudi', 'tena', '.']\n",
      "\n",
      " Number of Words:  659\n"
     ]
    }
   ],
   "source": [
    "file=\"20nov12_1.txt\"\n",
    "\n",
    "# calling the function and storing the contents in a text variable \n",
    "text = get_document(\"https://www.bbc.com/swahili/54905825\")\n",
    "\n",
    "# calling the store_ document function \n",
    "store_document(doc=text,name=file)\n",
    "\n",
    "#add the words in this file to the total_corpus_words, to keep count of the number of words in the corpus\n",
    "total_corpus_words+=total_words(file)"
   ]
  },
  {
   "cell_type": "code",
   "execution_count": 169,
   "metadata": {},
   "outputs": [
    {
     "data": {
      "text/plain": [
       "357702"
      ]
     },
     "execution_count": 169,
     "metadata": {},
     "output_type": "execute_result"
    }
   ],
   "source": [
    "total_corpus_words"
   ]
  },
  {
   "cell_type": "code",
   "execution_count": 170,
   "metadata": {},
   "outputs": [
    {
     "name": "stdout",
     "output_type": "stream",
     "text": [
      "['Rais', 'wa', 'zamani', 'wa', 'Ghana', ',', 'Jerry', 'Rawlings', 'aaga', 'dunia', 'Afisa', 'wa', 'juu', 'wa', 'kikosi', 'cha', 'anga', 'cha', 'Ghana', ',', 'aliongoza', 'mapinduzi', 'mara', 'mbili', ',', 'kwanza', 'mwaka', '1979', ',', 'akikabidhi', 'madaraka', 'kwa', 'serikali', 'ya', 'kiraia', ',', 'na', 'kisha', 'miaka', 'miwili', 'baadae', '.', 'Alikuwa', 'kiongozi', 'wa', 'jeshi', 'la', 'Junta', 'mpaka', 'wakati', 'wa', 'uchaguzi', 'uliohusisha', 'vyama', 'vingi', 'mwaka', '1992', ',', 'alipokuwa', 'rais', 'wa', 'kwanza', 'mteule', '.', 'Aliondoka', 'madarakani', 'mwaka', '2001', 'baada', 'ya', 'kuhudumu', 'kwa', 'mihula', 'miwili', '.', 'Mtu', 'mwenye', 'haiba', ',', 'aliingia', 'madarakani', 'mnamo', '1979', 'akipambana', 'na', 'ufisadi', 'Ripoti', 'kutoka', 'Ghana', 'zinasema', 'kuwa', 'rais', 'huyo', 'wa', 'zamani', 'alifariki', 'hospitalini', 'katika', 'mji', 'mkuu', ',', 'Accra', ',', 'baada', 'ya', 'kuugua', 'kwa', 'muda', 'mfupi', '.', 'Katika', 'miezi', 'michache', 'ambayo', 'aliongoza', 'nchi', 'mnamo', '1979', ',', 'alikuwa', 'na', 'jukumu', 'la', 'kutekeleza', 'adhabu', 'ya', 'kifo', 'dhidi', 'ya', 'wakuu', 'kadhaa', 'wa', 'zamani', 'wa', 'serikali', 'na', 'majenerali', 'wa', 'jeshi', 'kwa', 'madai', 'ya', 'ufisadi', 'na', 'usimamizi', 'mbaya', '.', 'Alionekana', 'pia', 'kama', 'mwokozi', 'wa', 'maskini', 'na', 'alitumia', 'muda', 'wake', 'madarakani', 'kama', 'mjamaa', 'aliyejitolea', '.', 'Baadaye', 'alianzisha', 'mageuzi', 'ya', 'soko', 'huria', 'na', 'akaanzisha', 'kipindi', 'kirefu', 'cha', 'utulivu', 'wa', 'kisiasa', ',', 'ambao', 'unaendelea', 'leo', ',', 'baada', 'ya', 'msururu', 'wa', 'mapinduzi', 'katika', 'miaka', 'ya', '1960', 'na', '1970', '.', 'Msajili', 'wa', 'mahakama', 'amesema', 'Kabuga', 'hakuwahi', 'kukataza', 'watu', 'kufanya', 'mauaji', ',', 'kupeleka', 'mbele', 'ya', 'vyombo', 'vyasheria', 'wala', 'kusimamisha', 'msaada', 'wa', 'hali', 'na', 'mali', 'kwa', 'wauaji', '.', 'Pia', 'alisema', 'kwamba', 'kuna', 'matamshi', 'ya', 'Kabuga', 'mwenyewe', 'akihamasisha', 'mauaji', '.', 'MsajiliamesemaKabugamwenyewealiomba', '‘', '’', '``', 'adui', 'auawe', 'mahali', 'popote', 'alipo', \"''\", 'na', 'kwamba', 'aliposema', 'neno', \"''\", 'adui', '‘', '’', 'alikuwa', 'anajua', 'vizuri', 'kwamba', 'hata', 'wanamgambo', 'Interahamwe', 'walikuwa', 'wanafahamu', 'vizuri', 'kwamba', 'anazungumzia', 'watu', 'wa', 'kabila', 'la', '’', '’', 'Watutsi', '’', '’', '.', 'Kabuga', 'aamua', 'kukaa', 'kimya', 'Kwa', 'upande', 'wa', 'mshtakiwa', ',', 'wakili', 'wa', 'Kabuga', ',', 'Me', 'Altit', 'Emmanuel', ',', 'alisema', 'walizungumza', 'kwanza', 'na', 'mteja', 'wake', 'juu', 'ya', 'uamuzi', 'wake', 'wa', 'kutosema', 'lolote', 'mahakamani', '.', 'Alisema', ':', '’', '’', 'tulikuwa', 'tumeshauriana', ',', 'hatazungumza', 'lolote', 'kutokana', 'afya', 'yake', ',', 'naomba', 'mkubali', 'kwamba', 'hatasema', 'lolote', ',', 'hii', 'pia', 'ina', 'maana', 'kwamba', 'anakana', 'mashtaka', 'dhidi', 'yake.', '’', '’', 'KadhalikaBwana', 'Altit', 'amesisitizaafya', 'ya', 'mwili', 'na', 'akili', 'ya', 'Kabuga', 'na', 'hali', 'yake', 'kwa', 'ujumla', 'ichunguzwe', 'kabla', 'ya', 'kesi', 'kuanza', '.', 'Amesema', 'wanataka', 'kujiandaa', 'vyema', 'kwa', 'kuzungumza', 'tena', 'na', 'mashahidi', 'na', 'jinsi', 'watakavyotoa', 'ushahidi', 'wao', 'wakiwa', 'nchini', 'Rwanda', ',', 'kutafsiri', 'jalada', 'la', 'mashtaka', 'na', 'kuliweka', 'katika', 'lugha', 'ya', 'kinyarwanda', 'kama', 'ilivyopendekezwa', 'na', 'mtuhumiwa', 'na', 'kadhalika', '.', 'Jaji', 'Iain', 'Bonomy', 'alisema', 'anakwendakusoma', 'hoja', 'za', 'pande', 'zote', 'mbili', 'na', 'korti', 'itatangaza', 'uamuzi', 'kuhusu', 'lini', 'kesi', 'hiyo', 'itaendelea', '.', 'Mashirika', 'yashindwa', 'kupeleka', 'misaada', 'Tigray', 'Umoja', 'wa', 'Mataifa', 'umesema', 'mashirika', 'ya', 'misaada', 'yanapata', 'taabu', 'kufikisha', 'misaada', 'katika', 'jimbo', 'la', 'Tigray', 'nchini', 'Ethiopia', ',', 'ambapo', 'serikali', 'ya', 'nchi', 'hiyo', 'inafanya', 'operesheni', 'zake', 'dhidi', 'ya', 'vikosi', 'vilivyo', 'vitiifu', 'kwa', 'mamlaka', 'za', 'jimbo', 'hilo', '.', 'Mratibu', 'wa', 'misaada', 'ya', 'kibinadamu', 'wa', 'Umoja', 'wa', 'Mataifa', 'nchini', 'Ethiopia', ',', 'Catherine', 'Sozi', ',', 'ameiambia', 'BBC', 'kuwa', 'kutoa', 'misaada', 'ya', 'binadamu', 'imekuwa', 'vigumu', 'tangu', 'mzozo', 'ulipoanza', '.', 'Mashirika', 'ya', 'misaada', 'imetahadharisha', 'kuwa', 'huduma', 'za', 'chakula', 'na', 'za', 'kiafya', 'zimezuiwa', 'kuingia', 'Tigray', '.', 'Lakini', ',', 'katika', 'mtandao', 'wa', 'Twitter', 'siku', 'ya', 'Alhamisi', ',', 'Waziri', 'Mkuu', 'Abiy', 'Ahmed', 'alisema', 'serikali', 'ilikuwa', 'ikitoa', 'msaada', 'katika', 'maeneo', 'ya', 'Tigray', 'yanayodhibitiwa', 'na', 'jeshi', 'la', 'nchi', '.', 'Pande', 'zote', 'za', 'mamlaka', 'ya', 'Tigray', 'na', 'serikali', 'ya', 'Ethiopia', 'zimekuwa', 'zikiongeza', 'rasilimali', 'zake', '–hatua', 'inayoashiria', 'kuwa', 'mzozo', 'huo', 'utaendelea', 'kwa', 'muda', '.', 'Kampeni', 'za', 'kuchangia', 'damu-', 'zilizoratibiwa', 'na', 'mamlaka', 'zimekuwa', 'zikifanyika', 'katika', 'baadhi', 'ya', 'maeneo', 'Kusini', 'mwa', 'Ethiopia', 'na', 'makundi', 'yanayounga', 'mkono', 'jeshi', 'la', 'taifa', '.', 'Ni', 'zaidi', 'ya', 'wiki', 'moja', 'sasa', 'tangu', 'mapambano', 'yalipoibuka', 'katika', 'jimbo', 'hilo', 'la', 'Kaskazini', 'na', 'athari', 'zake', 'zimeonekana', 'mpaka', 'nchi', 'jirani', 'ya', 'Sudan-', 'wakati', 'maelfu', 'ya', 'watu', 'wakivuka', 'mpaka', 'wakikimbia', 'mapigano', '.', 'Serikali', 'ya', 'Msumbiji', 'imekana', 'ripoti', 'kuwa', 'kumekuwa', 'watu', 'wamekuwa', 'wakikatwa', 'vichwa', 'na', 'wanamgambo', 'wa', 'kiislamu', 'katika', 'mji', 'wa', 'Cabo', 'Delgado', '.', 'Gavana', 'wa', 'eneo', 'hilo', 'lenye', 'utajiri', 'wa', 'mafuta', ',', 'Valige', 'Tauabo', ',', 'amesema', 'kuwa', 'hakuna', 'matukio', 'ya', 'mauaji', 'ya', 'hivi', 'karibuni', 'katika', 'wilaya', 'yoyote', 'ya', 'mji', 'huo', ',', 'tofauti', 'na', 'ripoti', 'zinavyoeleza', '.', 'Aliongeza', 'kuwa', 'ripoti', 'ya', 'mwisho', 'ya', 'mauaji', 'yaliyotekelezwa', 'na', 'wanamgambo', 'wa', 'Kiislamu', 'yalikuwa', 'tarehe', '6', 'mwezi', 'Aprili', '.', 'Vyombo', 'vya', 'habari', 'viliripoti', 'kuwa', 'zaidi', 'ya', 'watu', '50', 'walikatwa', 'vichwa', 'na', 'wanamgambokatika', 'uwanja', 'wa', 'mpira', 'wa', 'miguu', 'katika', 'kijiji', ',', 'wilaya', 'ya', 'Miudumbe', '.', 'Watu', 'wenye', 'silaha', 'waliimba', '``', 'Allahu', 'Akbar', \"''\", '(', 'Mungu', 'ni', 'Mkubwa', ')', ',', 'walifyatua', 'risasi', ',', 'na', 'kuchoma', 'moto', 'makazi', 'ya', 'watu', 'walipovamia', 'kijiji', 'cha', 'Nanjaba', ',', 'usiku', 'wa', 'Ijumaa', ',', 'Shirika', 'la', 'habari', 'la', 'Msumbijililiwanukuu', 'manusura', 'wa', 'tukio', 'hilo', '.', 'Gavana', 'Tauabo', 'alisema', 'kumekuwa', 'na', 'tu', '``', 'uvamizi', 'wa', 'waovu', \"''\", 'ambao', 'walikuwa', 'wakifuatiliwa', 'na', 'jeshi', '.', 'Aliongeza', 'kuwa', 'serikali', 'inasikitishwa', 'kuhusu', 'kuenea', 'kwa', 'ghasia', 'za', 'silaha', 'huko', 'Cabo', 'Delgado', '.', 'Jiwe', 'kubwa', 'la', 'almasi', 'lagunduliwa', 'Botswana', 'Moja', 'kati', 'ya', 'mawe', 'makubwa', 'ya', 'almasilimechimbwa', 'nchini', 'Botswana', 'na', 'mchimbaji', 'mdogowa', 'Canada', ',', 'ambaye', 'ameendelea', 'kugundua', 'mawe', 'makubwa', '.', 'Kampuni', 'ya', 'Lucara', 'Diamond', 'Corp.', 'imesema', 'imebaini', 'almasi', 'nyeupe', 'ya', 'karati', '998', ',', 'na', 'kufanya', 'kuwa', 'miongoni', 'mwa', 'mawe', 'makubwa', 'matano', 'kuwahi', 'kugunduliwa', '.', 'Lucara', 'amesema', 'almasi', 'hiyo', 'itahitajika', 'kuigawa', 'vipande', 'kabla', 'ya', 'kuisafisha', '.', 'Mgodi', 'wa', 'Karowe', 'umekuwa', 'maarufu', 'kwa', 'kugundua', 'mawe', 'makubwa', '.', 'Mwaka', '2015', ',', 'kampuni', 'iligundua', 'jiwe', 'la', 'karati', '1,109', 'Lesedi', 'La', 'Rona', ',', 'lililouzwa', 'kwa', 'dola', 'milioni', '53', ',', 'na', 'pia', 'jiwe', 'la', 'karati', '813', 'lililoweka', 'rekodi', 'ya', 'kuuzwa', 'kwa', 'dola', 'za', 'Marekani', 'milioni', '63', '.', 'Kwa', 'mujibu', 'wa', 'gazeti', 'la', 'Bloomberg', ',', 'Jiwe', 'kubwa', 'kabisa', 'la', 'almasi', 'kuwahi', 'kugunduliwa', 'ni', 'la', 'karati', '3,106', 'Cullinan', ',', 'lililogunduliwa', 'Nchini', 'Afrika', 'Kusini', 'mwaka', '1905', '.', 'Kwa', 'mujibu', 'wa', 'Forbes', 'Lucara', ',', 'ambayo', 'iliuza', 'mawe', 'yake', 'mawili', 'mwakubwa', 'kwaLouis', 'Vuitton', ',', 'imesema', 'inafanya', 'tathimini', 'hatua', 'zinazofuata', 'na', 'mshirika', 'wake', 'wa', 'shughuli', 'za', 'kukata', 'na', 'kusafisha', 'HB', 'Antwerp', '.']\n",
      "\n",
      " Number of Words:  936\n"
     ]
    }
   ],
   "source": [
    "file=\"20nov12_2.txt\"\n",
    "\n",
    "# calling the function and storing the contents in a text variable \n",
    "text = get_document(\"https://www.bbc.com/swahili/live/habari-54913646\")\n",
    "\n",
    "# calling the store_ document function \n",
    "store_document(doc=text,name=file)\n",
    "\n",
    "#add the words in this file to the total_corpus_words, to keep count of the number of words in the corpus\n",
    "total_corpus_words+=total_words(file)"
   ]
  },
  {
   "cell_type": "code",
   "execution_count": 171,
   "metadata": {},
   "outputs": [
    {
     "data": {
      "text/plain": [
       "358638"
      ]
     },
     "execution_count": 171,
     "metadata": {},
     "output_type": "execute_result"
    }
   ],
   "source": [
    "total_corpus_words"
   ]
  },
  {
   "cell_type": "code",
   "execution_count": 172,
   "metadata": {},
   "outputs": [
    {
     "name": "stdout",
     "output_type": "stream",
     "text": [
      "['Siku', 'ya', 'Alhamisi', ',', 'bunge', 'la', 'taifa', 'lilimvua', 'kinga', 'ya', 'kutoshtakiwa', 'gavana', 'wa', 'Tigray', '.', 'Debretsion', 'Gebremichael', 'alichaguliwa', 'kuwa', 'rais', 'wa', 'jimbo', 'tarehe', '24', 'mwezi', 'Septemba', 'baada', 'ya', 'jimbo', 'hilo', 'kufanya', 'uchaguzi', 'wake', 'wakikiuka', 'uamuzi', 'wa', 'serikali', 'ya', 'Ethiopia', 'ya', 'kuahirisha', 'uchaguzi', 'kitaifa', 'kutokana', 'na', 'Covid-19', '.', 'Bw', '.', 'Debretsion', 'amekuwa', 'akikaimu', 'nafasi', 'ya', 'ugavana', 'tangu', 'Januari', 'mwaka', '2018', '.', 'Daftari', 'la', 'wapiga', 'kura', 'wa', 'Uganda', 'lapelekwa', 'Uholanzi', 'kuhakikiwa', 'Gazeti', 'la', 'Daily', 'Monitor', 'la', 'Uganda', 'linaripoti', 'kuwa', 'daftari', 'la', 'kitaifa', 'la', 'wapiga', 'kura', 'limepelekwa', 'Uholanzi', 'kwa', 'ajili', 'ya', 'kuhakikiwa', '.', 'Tume', 'ya', 'uchaguzi', 'imeipa', 'zabuni', 'kampuni', 'ya', 'Uholanzi', 'kuondoa', 'majina', 'ya', 'watu', 'walioandikishwa', 'zaidi', 'ya', 'mara', 'moja', 'wakati', 'nchi', 'hiyo', 'ikielekea', 'kwenye', 'uchaguzi', 'mkuu', 'mwezi', 'Januari', '.', '``', 'Tumeanza', 'mchakato', 'wa', 'kuwathibitisha', 'wapiga', 'kura', 'ili', 'kuhakikisha', 'kuwa', 'wapiga', 'kura', 'wanaostahili', 'tu', 'wanaonekana', 'kwenye', 'daftari', 'na', 'kwamba', 'watapiga', 'kura', 'mara', 'moja', ',', \"''\", 'msemaji', 'wa', 'tume', 'hiyo', 'Paul', 'Bukenya', 'amenukuliwa', 'akisema', '.', 'Haijulikani', 'kama', 'vyama', 'vya', 'siasa', 'vilijulishwa', 'kuhusu', 'hatua', 'hiyo', '.', 'Raia', 'wa', 'Uganda', 'watapiga', 'kura', 'kuchagua', 'rais', 'na', 'wabunge', 'tarehe', '14', 'mwezi', 'Januari', '.', 'Wagombea', '11-', 'akiwemo', 'Rais', 'Yoweri', 'Museveni-', 'watawania', 'nafasi', 'hiyo', 'ya', 'juu', '.', 'Leo', 'bungeni', ':', 'Rais', 'Magufuli', 'afungua', 'rasmi', 'bunge', 'la', '12', 'Tanzania', 'Rais', 'wa', 'Tanzania', ',', 'John', 'Magufuli', 'amefungua', 'Bunge', 'la', '12', 'mjini', 'Dodoma', 'na', 'kulihutubia', 'Bunge', 'hii', 'leo', '.', 'Akiwahutubia', 'wabunge', 'hii', 'leo', ',', 'Magufuli', 'ametoa', 'dira', 'ya', 'serikali', 'yake', 'baada', 'ya', 'kumaliza', 'awamu', 'ya', 'kwanza', '.', 'Rais', 'Magufuli', 'amesema', 'mambo', 'muhimu', 'anayoyapa', 'kipaumbele', 'katika', 'miaka', 'mitano', 'ijayo', 'ni', ';', 'Kuendelea', 'kulinda', 'na', 'kudumisha', 'tunu', 'za', 'taifa', ',', 'yaani', 'amani', ',', 'umoja', 'na', 'mshikamano', ',', 'uhuru', 'wa', 'nchi', ',', 'Muungano', 'na', 'mapinduzi', 'Matukufu', 'ya', 'Zanzibar', '.', '``', 'Katika', 'hilo', 'ninaahidi', 'kushirikiana', 'kwa', 'ukaribu', 'sana', 'na', 'Rais', 'mpya', 'wa', 'Zanzibar', ',', 'Dkt', 'Hussein', 'Mwinyi', '.', 'Kamwe', 'hatutakuwa', 'na', 'mzaha', 'na', 'yeyote', 'mwenye', 'kutaka', 'kuhatarisha', 'amani', 'ya', 'nchi', 'yetu', '.', 'Mwenye', 'nia', 'ya', 'kuvuruga', 'umoja', 'na', 'mshikamano', 'wetu', ',', 'pia', 'mwenye', 'kutaka', 'kutishia', 'uhuru', 'wetu', ',', 'Muungano', 'pamoja', 'na', 'Mapinduzi', 'Matukufu', 'ya', 'Zanzibar', '.', \"''\", 'alisema', 'Rais', 'Magufuli', '.', 'Rais', 'Magufuli', 'amemuahidi', 'Dkt', 'Hussein', 'Mwinyi', 'kuwa', 'katika', 'kipindi', 'cha', 'miaka', 'mitano', 'ijayo', 'serikali', 'ya', 'Jamuhuri', 'ya', 'Muungano', 'wa', 'Tanzania', 'itafanya', 'kazi', 'kwa', 'karibu', 'sana', 'na', 'Serikali', 'ya', 'Zanzibar', 'ili', 'kuleta', 'maendeleo', 'kwa', 'pande', 'zote', 'mbili', 'za', 'Muungano', '.', 'MAPAMBANO', 'DHIDI', 'YA', 'UFISADI', 'Rais', 'Magufuli', 'ameahidi', 'kuimarisha', 'utawala', 'bora', 'hasa', 'kusimamia', 'nidhamu', 'katika', 'utumishi', 'wa', 'Umma', 'pamoja', 'na', 'kupambana', 'na', 'ufisadi', ',', 'wizi', ',', 'rushwa', 'na', 'ubadhirifu', 'wa', 'mali', 'za', 'Umma.', '``', 'Kwenye', 'miaka', 'mitano', 'iliyopita', 'tuliwachukulia', 'hatua', 'za', 'kinidhamu', 'watumishi', '32,555', 'na', 'kuiwezesha', 'nchi', 'yetu', 'kushika', 'nafasi', 'ya', 'kwanza', 'kati', 'ya', 'nchi', '35', 'za', 'Afrika', 'kwa', 'kupambana', 'na', 'rushwa', ',', 'kwa', 'mujibu', 'wa', 'Transparency', 'International', 'na', 'pia', 'kushika', 'nafasi', 'ya', '28', 'kati', 'ya', 'nchi', '136', 'duniani', 'kwa', 'matumizi', 'mazuri', 'ya', 'fedha', 'za', 'Umma', 'kwa', 'mujibu', 'wa', 'utafiti', 'wa', 'Jukwaa', 'la', 'uchumi', 'la', 'dunia', '(', 'World', 'economic', 'forum', ')', 'wa', 'mwaka', '2019', '.', \"''\", 'Alisema', 'Magufuli', '.', 'Hata', 'hivyo', ',', 'Magufuli', 'amesema', 'kuwa', 'watumishi', 'wazembe', ',', 'wala', 'rushwa', ',', 'wezi', 'na', 'wabadhirifu', 'wa', 'mali', 'za', 'Umma', 'bado', 'wapo', ',', 'hivyo', 'amesema', 'miaka', 'mitano', 'ijayo', 'ataendelea', 'kushughulikia', 'suala', 'hilo', '.', 'Waziri', 'Mkuu', 'wa', 'Ethiopia', 'ashutumu', 'vikosi', 'vya', 'Tigray', 'kutekeleza', 'mauaji', 'Waziri', 'Mkuu', 'wa', 'Ethiopia', ',', 'Abiy', 'Ahmed', ',', 'ameshutumu', 'vikosi', 'vya', 'serikali', 'vya', 'Tigray', 'kwa', 'kutekeleza', 'mauaji', 'siku', 'ya', 'Jumatatu', 'ambayo', 'shirika', 'la', 'Amnesty', 'International', 'limesema', 'raia', 'wengi', 'huenda', 'wameuawa', '.', 'Katika', 'taarifa', 'ya', 'video', 'iliyochapishwa', 'kwenye', 'mtandao', 'wa', 'Facebook', ',', 'Bwana', 'Ahmed', 'alisema', 'vikosi', 'vyake', 'vimekomboa', 'sehemu', 'ya', 'Magharibi', 'ya', 'Tigray', 'kutoka', 'kwenye', 'udhibiti', 'wa', 'chama', 'cha', 'TPLF', 'baada', 'ya', 'shambulio', 'hilo', 'la', 'kikatili', '.', 'Amnesty', 'ilisema', 'waathiriwa', 'walichomwa', 'visu', 'hadi', 'kufa', 'katika', 'mji', 'wa', 'Mai-Kadra', 'Kusini', 'Magharibi', 'mwa', 'Tigray', '.', 'Rais', 'Magufuli', 'kufungua', 'bunge', 'leo', 'Tanzania', 'Rais', 'wa', 'nchi', 'Tanzania', 'John', 'Magufuli', 'hii', 'leo', 'atalihutubia', 'taifa', 'kupitia', 'bunge', 'la', '12', 'na', 'kulifungua', 'rasmi', 'huko', 'katika', 'mji', 'mkuu', 'wa', 'Dodoma', '.', 'Watanzania', 'kutoka', 'maeneo', 'mbalimbali', 'ya', 'nchi', 'wanaisuburi', 'kwa', 'hamu', 'hotuba', 'ya', 'rais', 'ambayo', 'inategemewa', 'kutoa', 'dira', 'ya', 'serikali', 'baada', 'ya', 'uchaguzi', 'mkuu', 'uliofanyika', 'mwishoni', 'mwa', 'mwezi', 'uliopita', 'na', 'kumpa', 'ushindi', 'wa', 'asilimia', '84.4', 'huku', 'chama', 'tawala', 'kikijizolea', 'ushindi', 'wa', 'wabunge', 'kwa', 'zaidi', 'ya', 'asilimia', 'tisini', '.', 'Hata', 'hivyo', ',', 'mpaka', 'sasa', 'baadhi', 'ya', 'vyama', 'vya', 'upinzani', 'nchini', 'humo', 'hawajakubali', 'matokeo', 'ya', 'Uchaguzi', 'uliopita', 'kwa', 'madai', 'uligubikwa', 'na', 'mazingira', 'ambayo', 'hayakuwa', 'huru', '.']\n",
      "\n",
      " Number of Words:  707\n"
     ]
    }
   ],
   "source": [
    "file=\"20nov13.txt\"\n",
    "\n",
    "# calling the function and storing the contents in a text variable \n",
    "text = get_document(\"https://www.bbc.com/swahili/live/habari-54927797\")\n",
    "\n",
    "# calling the store_ document function \n",
    "store_document(doc=text,name=file)\n",
    "\n",
    "#add the words in this file to the total_corpus_words, to keep count of the number of words in the corpus\n",
    "total_corpus_words+=total_words(file)"
   ]
  },
  {
   "cell_type": "code",
   "execution_count": 173,
   "metadata": {},
   "outputs": [
    {
     "data": {
      "text/plain": [
       "359345"
      ]
     },
     "execution_count": 173,
     "metadata": {},
     "output_type": "execute_result"
    }
   ],
   "source": [
    "total_corpus_words"
   ]
  },
  {
   "cell_type": "code",
   "execution_count": 174,
   "metadata": {},
   "outputs": [
    {
     "name": "stdout",
     "output_type": "stream",
     "text": [
      "['Ikitumia', 'timu', 'ya', 'wachunguzi', 'wa', 'siri', ',', 'BBC', 'Africa', 'Eye', 'iliingia', 'kwenye', 'safu', 'ya', 'mitandao', 'haramu', ',', 'ikishuhudia', 'watoto', 'wakiibiwa', 'kutoka', 'kwa', 'mama', 'wasio', 'na', 'makazi', 'na', 'kuuzwa', 'mitaani', 'kwa', 'kima', 'cha', 'dola', 'za', 'Kimarekani', '450', '.', 'Mtoto', 'wa', 'kiume', 'anaweza', 'kuuzwa', 'kwa', 'dola', '3000', 'za', 'kimarekani', '.', 'Lakini', 'biashara', 'hii', 'ya', 'kusikitisha', 'haishii', 'hapo', '.', 'Pia', 'uumebainika', 'ushahidi', 'wa', 'watoto', 'waliozaliwa', 'wakiuzwa', 'katika', 'kliniki', 'haramu', ',', 'na', 'watoto', 'waliotelekezwa', 'wakiuzwa', 'na', 'wafanyikazi', 'wa', 'afya', 'katika', 'hospitali', 'ya', 'Mama', 'Lucy', 'Kibaki', 'jijini', 'Nairobi', '.', 'Usimamizi', 'wa', 'hospitali', 'haukujibu', 'madai', 'hayo', '...']\n",
      "\n",
      " Number of Words:  91\n"
     ]
    }
   ],
   "source": [
    "file=\"20nov16.txt\"\n",
    "\n",
    "# calling the function and storing the contents in a text variable \n",
    "text = get_document(\"https://www.bbc.com/swahili/habari-54955912\")\n",
    "\n",
    "# calling the store_ document function \n",
    "store_document(doc=text,name=file)\n",
    "\n",
    "#add the words in this file to the total_corpus_words, to keep count of the number of words in the corpus\n",
    "total_corpus_words+=total_words(file)"
   ]
  },
  {
   "cell_type": "code",
   "execution_count": 175,
   "metadata": {},
   "outputs": [
    {
     "data": {
      "text/plain": [
       "359436"
      ]
     },
     "execution_count": 175,
     "metadata": {},
     "output_type": "execute_result"
    }
   ],
   "source": [
    "total_corpus_words"
   ]
  },
  {
   "cell_type": "code",
   "execution_count": 176,
   "metadata": {},
   "outputs": [
    {
     "name": "stdout",
     "output_type": "stream",
     "text": [
      "['Sanaa', 'ya', 'Mashairi', 'yavuma', 'Mombasa', 'Sauti', 'tamu', 'za', 'watoto', 'ndizo', 'zinazokukaribisha', 'katika', 'kijiji', 'cha', 'Ujamaa', ',', 'eneo', 'bunge', 'la', 'Likoni', ',', 'Mombasa', ',', 'Kenya', 'Sauti', 'tamu', 'za', 'watoto', 'ndizo', 'zinazokukaribisha', 'katika', 'kijiji', 'cha', 'Ujamaa', ',', 'eneo', 'bunge', 'la', 'Likoni', ',', 'Mombasa', ',', 'Kenya', 'Wakati', 'huu', 'ambapo', 'janga', 'la', 'Corona', 'limerindima', 'na', 'kulazimu', 'shule', 'kufungwa', 'nchini', 'Kenya', ',', 'watoto', 'hao', 'wananoa', 'makali', 'yao', 'katika', 'sanaa', 'hii', 'ya', 'Kiswahili', '.', 'Hili', 'ni', 'wazo', 'la', 'Hamisi', 'Mwagarashi', ',', 'mshairi', 'mahiri', 'wa', 'Mombasa', 'ambaye', 'anasema', 'kwamba', 'amewaleta', 'pamoja', 'watoto', 'hao', 'ili', 'kuhakikisha', 'kwamba', 'wanakuza', 'vipaji', 'vyao', ',', 'lakini', 'pia', 'hawajihusishi', 'na', 'tabia', 'potofu', 'wakati', 'huu', 'ambapo', 'shule', 'zimefungwa', '.', \"'Watoto\", 'hawa', 'wako', 'hapa', 'kwa', 'lengo', 'la', 'kusoma', '.', 'Wazo', 'hili', 'lilinijia', 'baada', 'ya', 'mimi', 'kupitia', 'changamoto', 'kadhaa', 'maishani', ',', 'kisha', 'nikajiuliza', 'kama', 'kesho', 'sitakuwepo', 'nani', 'atakayeendeleza', 'sanaa', 'hii', 'ya', 'kughani', 'mashairi', '?', \"'\", 'anauliza', 'Mwagarashi', '.', 'Ushairi', 'ni', 'utungo', 'wa', 'kisanaa', 'unaotumia', 'lugha', 'teule', 'na', 'mpangilio', 'fulani', 'wa', 'maneno', 'badala', 'ya', 'kutumia', 'lugha', 'natharia', 'au', 'lugha', 'mfululizo', '.', 'Aidha', 'ushairi', 'unaweza', 'pia', 'kutajwa', 'kama', 'kipera', 'cha', 'fasihi', 'simulizi', '(', 'au', 'nyimbo', ')', 'na', 'pia', 'katika', 'fasihi', 'andishi', 'kwa', 'sababu', 'mashairi', 'yanaweza', 'kuwasilishwa', 'kwa', 'njia', 'ya', 'kukariri', 'na', 'pia', 'kwa', 'njia', 'ya', 'maandishi', '.', 'Mashairi', 'yanayoghanwa', 'badala', 'ya', 'kuimbwa', 'huitwa', 'maghani', '.', 'Mmoja', 'wa', 'wanafunzi', 'hapa', 'ni', 'Hassani', 'Iddi', 'Chano', 'mwenye', 'umri', 'wa', 'miaka', '11', 'ambaye', 'amepata', 'umaarufu', 'mkubwa', 'mitandaoni', 'baada', 'ya', 'video', 'zake', 'za', 'mashairi', 'kusambaa', '.', \"'Mimi\", 'nilipomsikia', 'Mwagarashi', 'akiimba', 'mara', 'ya', 'kwanza', 'nilimwambia', 'nataka', 'anifunze', '.', 'Na', 'mimi', 'sasa', 'nafurahia', 'sana', 'kughani', 'mashairi', '.', \"'\", 'Lakini', 'umaarufu', 'wa', 'sanaa', 'hii', 'umepungua', 'katika', 'siku', 'za', 'hivi', 'karibuni', ',', 'kama', 'anavyoeleza', 'Mwagarashi', '.', 'Wamekufa', 'wakiishi', 'kwa', 'nyumba', 'za', 'nyasi', ',', 'wengine', 'wakilala', 'kwa', 'nyumba', 'za', 'kuku', '.', 'Sasa', 'washairi', 'wa', 'sasa', 'wameona', 'hakuna', 'faida', 'bali', 'ni', 'hasara', 'tupu', '.', \"'\", 'Hata', 'hivyo', ',', 'licha', 'ya', 'taswira', 'hiyo', ',', 'mwalimu', 'huyu', 'wa', 'Kiswahili', 'anasisitiza', 'kwamba', 'mashairi', 'ni', 'ajira', 'na', 'sanaa', 'hiyo', 'inapaswa', 'kupewa', 'kipaumbele', '.', 'Maelezo', 'ya', 'picha', ',', 'Mwalimu', 'Mathias', 'Momanyi', 'Matamshi', 'yake', 'yanaungwa', 'mkono', 'na', 'Mwalimu', 'Mathias', 'Momanyi', ',', 'mtaalam', 'wa', 'Kiswahili', 'kutoka', 'Nairobi', 'Kenya', '.', \"'Mashairi\", 'huelimisha', ',', 'hukosoa', ',', 'hurekebisha', 'jamii', ',', 'hususan', 'jamii', 'inapoelekea', 'kupotoka', '.', 'Lakini', 'sasa', 'hivi', 'kuna', 'uhaba', 'mkubwa', 'wa', 'malenga', 'na', 'washairi', 'wanaoweza', 'kuzungumzia', 'madhila', 'katika', 'jamii', 'yetu', '.', \"'\", 'Sasa', 'nini', 'kinapaswa', 'kufanywa', 'ili', 'kuhakikisha', 'kwamba', 'sanaa', 'hii', 'ya', 'tangu', 'jadi', 'haitokomei', 'kabisa', '?', 'Wasomi', 'wa', 'Kiswahili', 'wanasisitiza', 'ushairi', 'kupewa', 'uzito', 'katika', 'mtaala', 'wa', 'masomo', 'shuleni', '.', 'Na', 'pia', 'wazazi', 'kuwahimiza', 'watoto', 'wao', 'wenye', 'vipaji', 'vya', 'utunzi', 'na', 'uimbaji', 'wa', 'mashairi', 'kuzingatia', 'kukuza', 'vipaji', 'hivyo', '.', \"'Shule\", 'zinapaswa', 'kuwa', 'na', 'kitengo', 'maalum', 'cha', 'mashairi', 'kama', 'vile', 'kuna', 'vitengo', 'vya', 'michezo', 'ya', 'Karate', ',', 'ama', 'Uogeleaji', 'mashuleni', '.', 'Maelezo', 'ya', 'picha', ',', 'Hamisi', 'Mwagarashi', ',', 'mshairi', 'mahiri', 'wa', 'Mombasa', 'Hiyo', 'itasaidia', 'katika', 'kukuza', 'vipaji', 'vya', 'watoto', 'ambao', 'wanaipenda', 'sanaa', 'hii', 'ya', 'kughani', 'mashairi', ',', \"'\", 'anasema', 'Bi', 'Fatma', 'Alfan', ',', 'ambaye', 'watoto', 'wake', 'watatu', 'ni', 'wanafunzi', 'wa', 'kughani', 'mashairi', '.', 'Basi', 'wakati', 'wasomi', 'na', 'wataalamu', 'wa', 'elimu', 'wakijikita', 'katika', 'kuhakikisha', 'elimu', 'ya', 'sasa', 'ni', 'yenye', 'manufaa', 'kwa', 'kizazi', 'kijacho', ',', 'hapa', 'Ujamaa', 'katika', 'eneo', 'bunge', 'la', 'Likoni', ',', 'Mombasa', 'Kenya', ',', 'Hamisi', 'Mwagarashi', 'anajitahidi', 'kukuza', 'kizazi', 'chenye', 'sanaa', 'na', 'vipaji', ',', 'kwa', 'shairi', 'moja', 'kila', 'siku', '.']\n",
      "\n",
      " Number of Words:  531\n"
     ]
    }
   ],
   "source": [
    "file=\"20nov17.txt\"\n",
    "\n",
    "# calling the function and storing the contents in a text variable \n",
    "text = get_document(\"https://www.bbc.com/swahili/54969816\")\n",
    "\n",
    "# calling the store_ document function \n",
    "store_document(doc=text,name=file)\n",
    "\n",
    "#add the words in this file to the total_corpus_words, to keep count of the number of words in the corpus\n",
    "total_corpus_words+=total_words(file)"
   ]
  },
  {
   "cell_type": "code",
   "execution_count": 177,
   "metadata": {},
   "outputs": [
    {
     "data": {
      "text/plain": [
       "359967"
      ]
     },
     "execution_count": 177,
     "metadata": {},
     "output_type": "execute_result"
    }
   ],
   "source": [
    "total_corpus_words"
   ]
  },
  {
   "cell_type": "code",
   "execution_count": 178,
   "metadata": {},
   "outputs": [
    {
     "name": "stdout",
     "output_type": "stream",
     "text": [
      "['Mwanadada', 'huyu', 'anasema', 'kuwa', 'ilifika', 'wakati', 'akachoka', 'kunyoa', 'ndevu', 'kila', 'siku', '.', 'Na', 'hapo', 'ndipo', 'watu', 'walipoanza', 'kugundua', 'kwamba', 'alikuwa', 'na', 'siri', 'aliyoificha', '.', 'Mtu', 'wa', 'kwanza', 'kugundua', 'alikuwa', 'shangazi', 'yake', '.', '``', 'Ni', 'hali', 'moja', 'kukubali', 'una', 'kasoro', 'ya', 'maumbile', 'lakini', 'inazua', 'uoga', 'mno', 'unapoanza', 'kufikiria', 'kuwa', 'watu', 'wengine', 'wataanza', 'kufahamu', 'siri', 'hii', ',', \"''\", 'Faith', 'anasema', '.', 'Mwanadada', 'huyu', 'anasema', 'kuwa', 'hakujua', 'jinsi', 'ya', 'kukabiliana', 'na', 'hisia', 'za', 'watu', 'kuhusu', 'ndevu', 'zake', '.', 'Wakati', 'mmoja', 'akiwa', 'kwenye', 'pilika', 'pilika', 'za', 'kawaida', 'anakumbuka', 'akiwa', 'akitafuta', 'huduma', 'kwenye', 'benki', 'mmoja', '.', 'Aligundua', 'kuwa', 'wanaume', 'wawili', 'waliokuwa', 'kando', 'yake', 'walikuwa', 'wanamsema', ',', 'huku', 'wakinyoosha', 'mikono', 'yao', 'yakimwelekea', 'huku', 'wakimkejeli', '.', '``', 'Nilifahamu', 'wananicheka', 'lakini', 'sasa', 'ningefanyaje', '?', 'Maisha', 'ya', 'wanawake', 'wenye', 'ndevu', 'yana', 'kejeli', 'zinazoandamana', 'na', 'unyanyapaa', \"''\", 'Faith', 'anasema', 'Mwanamke', 'huyu', 'anasema', 'kuwa', 'kabla', 'ya', 'kukubali', 'hali', 'yake', ',', 'aliona', 'aibu', 'juu', 'ya', 'ndevu', 'zake', ',', 'ila', 'ilibidi', 'apige', 'moyo', 'konde', 'na', 'kuendeleza', 'maisha', 'yake', '.', 'Visa', 'vingi', 'vilivyoandamana', 'na', 'unyanyapaa', 'vimemzonga', ',', 'hadi', 'karibu', 'akate', 'tamaa', 'ya', 'kutangamana', 'na', 'watu', 'na', 'kuhisi', 'kana', 'kwamba', 'hana', 'pumzi', 'za', 'kutosha', 'kusimama', 'mbele', 'ya', 'watu', 'wengi', 'kwa', 'kukosa', 'ujasiri', '.', 'Wakati', 'mmoja', 'aliamua', 'kwenda', 'hospitalini', ',', 'kutafuta', 'suluhu', '.', 'Hospitali', 'ya', 'kwanza', 'aliyoizuru', 'daktari', 'alimtuma', 'kwa', 'wataalam', 'wengine', 'katika', 'hospitali', 'nyingine', 'kupata', 'huduma', 'spesheli', 'kuhusiana', 'na', 'hali', 'yake', '.', '``', 'Nilipopimwa', ',', 'matokeo', 'yalikuwa', 'kwamba', 'nimekosa', 'usawa', 'katika', 'homoni', 'zangu', '.', 'Nilielekezwa', 'kwa', 'mtaalamu', 'wa', 'ngozi', 'ambaye', 'alinipa', 'ushauri', 'kuhusu', 'mafuta', 'ya', 'kupaka', 'kusaidia', 'kuondoa', 'mandevu', 'yanapomea', ',', 'pia', 'alinieleza', 'kuwa', 'nitanyoa', 'ndevu', 'hadi', 'mwisho', 'wa', 'maisha', 'yangu', ',', \"''\", 'Faith', 'anakumbuka', 'Kero', 'la', 'kutafuta', 'mpenzi', 'Ndevu', 'zimeekuwa', 'kikwazo', 'katika', 'maisha', 'yake', 'ya', 'huba', '.', 'Wanaume', 'wengi', 'wamekuwa', 'wakiogopa', 'ndevu', 'hizo', ',', 'na', 'kila', 'wanapogundua', 'hilo', 'humtoroka', '.', 'Kwanza', 'alikutana', 'na', 'mwanamume', 'ambaye', 'walikuwa', 'pamoja', 'kwa', 'miaka', 'minne', 'lakini', 'alitoroka', 'ghafla', 'asijulikane', 'alikokwenda', '``', 'Nadhani', 'alitamaushwa', 'na', 'ndevu', ',', 'nafikiria', 'kuwa', 'ndani', 'yake', 'alikuwa', 'anapigana', 'na', 'ile', 'hali', 'ya', 'kujiuliza', 'kama', 'angemuoa', 'mwanamke', 'mwenye', 'ndevu', 'mwishowe', 'akaona', 'kheri', 'anitoroke', '.', 'Alibadilisha', 'hadi', 'nambari', 'za', 'simu', 'zisimpate', 'tena', ',', \"''\", 'anakumbuka', 'Faith', 'Mwanamke', 'huyu', 'anasema', 'umekuwa', 'kama', 'mtindo', 'kwa', 'wanaume', 'kumkimbia', '.', 'Baadaye', ',', 'alimpata', 'mwanamume', 'mwengine', 'ambaye', 'wakati', 'wa', 'kwanza', 'kukutana', 'alihakikisha', 'alikuwa', 'amenyoa', 'ndevu', 'vizuri', '.', 'ila', 'shida', 'ilitokea', 'walipokuwa', 'wanakumbatiana', 'kwa', 'salamu', ',', 'mabubutu', 'ya', 'za', 'nywele', 'za', 'kidevu', 'yalimchoma', 'mwenzake', '.', 'Hilo', 'lilimfanya', 'yule', 'mwanamume', 'kutupa', 'jicho', 'la', 'pili', 'katika', 'kidevu', 'chake', 'na', 'ndipo', 'akagundua', 'shida', 'yake', '.', 'Huo', 'ulikuwa', 'mkutano', 'wa', 'kwanza', 'na', 'wa', 'mwisho', 'kwao', ',', 'mwenzake', 'alikata', 'mawasiliano', '.', 'Kujaliwa', 'mtoto', 'Faith', 'alijifungua', 'mtoto', 'wa', 'kiume', '2011', ',', 'ambaye', 'pia', 'amegundua', 'mama', 'yake', 'ana', 'ndevu', '.']\n",
      "\n",
      " Number of Words:  430\n"
     ]
    }
   ],
   "source": [
    "file=\"20nov18_1.txt\"\n",
    "\n",
    "# calling the function and storing the contents in a text variable \n",
    "text = get_document(\"https://www.bbc.com/swahili/54970381\")\n",
    "\n",
    "# calling the store_ document function \n",
    "store_document(doc=text,name=file)\n",
    "\n",
    "#add the words in this file to the total_corpus_words, to keep count of the number of words in the corpus\n",
    "total_corpus_words+=total_words(file)"
   ]
  },
  {
   "cell_type": "code",
   "execution_count": 179,
   "metadata": {},
   "outputs": [
    {
     "data": {
      "text/plain": [
       "360397"
      ]
     },
     "execution_count": 179,
     "metadata": {},
     "output_type": "execute_result"
    }
   ],
   "source": [
    "total_corpus_words"
   ]
  },
  {
   "cell_type": "code",
   "execution_count": 180,
   "metadata": {},
   "outputs": [
    {
     "name": "stdout",
     "output_type": "stream",
     "text": [
      "['BBC', 'Africa', 'Eye', ':', 'Kenya', 'yaukamata', 'mtandao', 'wa', 'wezi', 'wa', 'watoto', 'Polisi', 'nchini', 'Kenya', 'imesema', 'kuwa', 'imebaini', 'mtandao', 'unaohusika', 'na', 'wizi', 'wa', 'watoto', 'katika', 'jiji', 'la', 'Nairobi', 'nchini', 'Kenya', '.', 'Sakata', 'hii', 'imebainika', 'baada', 'ya', 'kipindi', 'cha', 'uchunguzi', 'cha', 'BBC', 'Africa', 'Eye', 'kupeperushwa', 'hewani', 'ambacho', 'kilionesha', 'uhalifu', 'unaotendeka', 'katika', 'maeneo', 'mbalimbali', 'na', 'hospitali', 'za', 'umma', '.', 'Maafisa', 'watatu', 'wa', 'matibabu', 'wa', 'hospitali', 'za', 'umma', 'wamekamatwa', 'na', 'polisi', 'na', 'imedokeza', 'kuwa', 'bado', 'kuna', 'wengi', 'ambao', 'wanatafutwa', '.', 'Kwa', 'mujibu', 'wa', 'taarifa', 'iliyotolewa', 'na', 'Inspekta', 'Generali', 'wa', 'polisi', 'Hillary', 'Mutyambai', ',', 'ilisema', 'uchunguzi', 'na', 'taarifa', 'kutoka', 'kwa', 'washirika', 'umeonesha', 'maafisa', 'waandamizi', 'wa', 'matibabu', 'wanahusika', 'kwa', 'kiasi', 'kikubwa', 'na', 'wizi', 'wa', 'watoto', '.', 'Mamlaka', 'imehaidi', 'kuboresha', 'ulinzi', 'wa', 'watoto', '.', 'Katika', 'mkutano', 'na', 'waandishi', 'wa', 'habari', 'serikali', 'iliweka', 'wazi', 'kuwa', 'wahusika', 'wa', 'biashara', 'hiyo', 'haramu', '-', 'wauzaji', 'na', 'wanaonunua', '-', 'watafikishwa', 'katika', 'mikono', 'ya', 'kisheria', '.', 'Waziri', 'wa', 'kazi', 'na', 'masuala', 'ya', 'jamii', ',', 'Simon', 'Chelugui', ',', 'alisema', 'uchunguzi', 'wa', 'uhalifu', 'huo', 'unaendelea', '.', 'Alisema', 'ni', 'muhimu', 'kuboresha', 'huduma', 'ya', 'usalama', 'kwa', 'watoto', ',', 'serikali', 'haiwezi', 'kuvumilia', 'vitendo', 'hivi', 'vya', 'kinyama', '.', 'Huwezi', 'kusikiliza', 'tena', 'Maelezo', 'ya', 'video', ',', 'Uchunguzi', 'wa', 'BBC', 'wabaini', 'watoto', 'wanaotoka', 'katika', 'mazingira', 'magumu', 'Kenya', 'wanauzwa', 'BBC', 'Africa', 'Eye', 'iliingia', 'kwenye', 'safu', 'ya', 'mitandao', 'haramu', ',', 'ikishuhudia', 'watoto', 'wakiibiwa', 'kutoka', 'kwa', 'mama', 'wasio', 'na', 'makazi', 'na', 'kuuzwa', 'mitaani', 'kwa', 'kima', 'cha', 'dola', 'za', 'Kimarekani', '450', '.', 'Mtoto', 'wa', 'kiume', 'anaweza', 'kuuzwa', 'kwa', 'dola', '3000', 'za', 'kimarekani', '.', 'Lakini', 'biashara', 'hii', 'ya', 'kusikitisha', 'haishii', 'hapo', '.', 'Pia', 'uumebainika', 'ushahidi', 'wa', 'watoto', 'waliozaliwa', 'wakiuzwa', 'katika', 'kliniki', 'haramu', ',', 'na', 'watoto', 'waliotelekezwa', 'wakiuzwa', 'na', 'wafanyikazi', 'wa', 'afya', 'katika', 'hospitali', 'ya', 'Mama', 'Lucy', 'Kibaki', 'jijini', 'Nairobi', '.', 'Usimamizi', 'wa', 'hospitali', 'haukujibu', 'madai', 'hay']\n",
      "\n",
      " Number of Words:  280\n"
     ]
    }
   ],
   "source": [
    "file=\"20nov18_2.txt\"\n",
    "\n",
    "# calling the function and storing the contents in a text variable \n",
    "text = get_document(\"https://www.bbc.com/swahili/54983004\")\n",
    "\n",
    "# calling the store_ document function \n",
    "store_document(doc=text,name=file)\n",
    "\n",
    "#add the words in this file to the total_corpus_words, to keep count of the number of words in the corpus\n",
    "total_corpus_words+=total_words(file)"
   ]
  },
  {
   "cell_type": "code",
   "execution_count": 181,
   "metadata": {},
   "outputs": [
    {
     "data": {
      "text/plain": [
       "360677"
      ]
     },
     "execution_count": 181,
     "metadata": {},
     "output_type": "execute_result"
    }
   ],
   "source": [
    "total_corpus_words"
   ]
  },
  {
   "cell_type": "code",
   "execution_count": 182,
   "metadata": {},
   "outputs": [
    {
     "name": "stdout",
     "output_type": "stream",
     "text": [
      "['Na', 'kufikia', 'hapo', 'ndio', 'nakamilisha', 'matangazo', 'yetu', 'ya', 'moja', 'kwa', 'moja', 'kwa', 'hii', 'leo', '.', 'Mola', 'akiridhia', 'kesho', 'pia', 'ni', 'siku', '.', 'Kwaheri', '.', 'Ndege', 'aina', 'ya', 'Boeing', '737', 'iliyosababisha', 'ajali', 'yaruhusiwa', 'kuanza', 'tena', 'safari', 'za', 'abiria', 'Getty', 'ImagesCopyright', ':', 'Getty', 'Images', 'Mkuu', 'wa', 'Mamlaka', 'ya', 'Safari', 'za', 'Anga', 'Marekani', '(', 'FAA', ')', ',', 'Steve', 'Dickson', ',', 'ametia', 'saini', 'agizo', 'linaloruhusu', 'ndege', 'aina', 'ya', 'Boeing', '737', 'kuanza', 'tena', 'safari', 'zake', 'kwa', 'abiria', '.', 'Bwana', 'Dickson', 'alisema', 'ana', 'uhakika', 'wa', 'asilimia', '100', 'juu', 'ya', 'usalama', 'wa', 'ndege', 'hizo', 'ambazo', 'zilipigwa', 'marufuku', 'kusafiri', 'baada', 'ya', 'kutokea', 'kwa', 'ajali', 'mbili', 'za', 'abiria', 'nchini', 'Indonesia', 'na', 'Ethiopia', ',', 'na', 'kusababisha', 'vifo', 'kwa', 'watu', '346', '.', 'Uamuzi', 'huo', 'wa', 'Mamlaka', 'ya', 'Safari', 'za', 'Anga', 'Marekani', '(', 'FAA', ')', ',', 'unamaanisha', 'kuwa', 'ndege', 'hizo', 'zinaweza', 'kuanza', 'tena', 'safari', 'za', 'abiria', 'kufikia', 'mwisho', 'wa', 'mwaka', 'huu', '.', 'Mamlaka', 'hiyo', 'imetoa', 'wito', 'marubani', 'kupewa', 'mafunzo', 'zaidi', 'ili', 'waweze', 'kutumia', 'kwa', 'ubora', 'wa', 'juu', 'kifaa', 'kipya', 'cha', 'usalama', 'kilichowekwa', 'kwenye', 'ndege', 'aina', 'ya', 'Boeing', '737', '.', 'Aidha', ',', 'wamiliki', 'wa', 'ndege', 'ya', 'Boeing', 'wamefurahishwa', 'na', 'hatua', 'ya', 'FAA', 'na', 'kusema', 'kuwa', 'imejifunza', 'kutokana', 'na', 'makosa', 'yake', 'yaliyotokea', 'awali', '.', 'Marekani', 'kuondoa', 'wanajeshi', 'wake', 'Afghanistan', 'na', 'Iraq', 'Wajumbe', 'wa', 'Republicans', 'na', 'washirika', 'wa', 'Marekani', 'wameonesha', 'wasiwasi', 'wao', 'baada', 'ya', 'kutangazwa', 'kuwa', 'Marekani', 'itaondoa', 'wanajeshi', 'wake', 'katika', 'nchi', 'za', 'Afghanistan', 'and', 'Iraq', '.', 'Marekani', 'itaondoa', 'wanajeshi', 'wapatao', '2,500', 'kutoka', 'nchi', 'zote', 'hizo', 'mbili', 'kufikia', 'katikati', 'ya', 'mwezi', 'Januari', ',', 'Wizara', 'ya', 'Mambo', 'ya', 'Nje', 'imethibitisha', '.', 'Rais', 'Donald', 'Trump', 'kwa', 'kipindi', 'kirefu', 'amekuwa', 'akitaka', 'majeshi', 'ya', 'Marekani', 'kurejea', 'nyumbani', 'na', 'amekosoa', 'muingilio', 'wa', 'Marekani', 'kwa', 'nchi', 'za', 'nje', '.', 'Hata', 'hivyo', ',', 'mkuu', 'wa', 'shirika', 'la', 'Nato', 'ameonya', 'kuwa', 'hatua', 'hiyo', 'huenda', 'ikawa', 'na', 'athari', 'mbaya', 'huku', 'kiongozi', 'wa', 'Bunge', 'la', 'Seneti', 'Mitch', 'McConnell', 'akitaja', 'mpanga', 'huo', 'kama', '``', 'makosa', 'makubwa', \"''\", '.', 'Bwana', 'Trump', 'bado', 'hajakiri', 'kuwa', 'alishindwa', 'na', 'mpinzani', 'wake', 'Joe', 'Biden', 'na', 'hatua', 'ya', 'kurejea', 'nyumbani', 'kwa', 'wanajeshi', 'imepangiwa', 'kufanyika', 'siku', 'tano', 'kabla', 'ya', 'Bwana', 'Biden', 'kuingia', 'madarakani', 'Januari', '20', ',', '2021', '.', 'Rais', 'mteule', 'Joe', 'Biden', ',', 'pia', 'naye', 'amesema', 'kuwa', '``', 'amechoshwa', 'na', 'vita', 'vya', 'Afghanistan', 'ambavyo', 'vimedumu', 'kwa', 'muda', 'mrefu', 'lakini', 'pia', 'kuna', 'haja', 'ya', 'kumaliza', 'vita', 'hivyo', 'kwa', 'njia', 'ya', 'uwajibikaji', 'na', 'kwa', 'namna', 'ambayo', 'inahakikisha', 'ulinzi', 'dhidi', 'ya', 'vitisho', 'kwa', 'nchi', 'yetu', 'na', 'tusiwe', 'na', 'haja', 'ya', 'kurejea', 'tena', 'huko', \"''\", '.', 'Timu', 'ya', 'mpito', 'ya', 'Biden', 'bado', 'haijasema', 'lolote', 'kuhusiana', 'na', 'tangazo', 'la', 'mpango', 'huo', '.', 'Nchini', 'Iraq', 'idadi', 'ya', 'wanajeshi', 'wa', 'Marekani', 'itapunguzwa', 'kwa', '500', 'hadi', '2,500', 'huku', 'idadi', 'ya', 'maafisa', 'wa', 'Marekani', 'nchini', 'Afghanistan', 'ikipungua', 'kutoka', '4,500', 'hadi', '2,500', '.', 'Kulingana', 'na', 'taarifa', 'za', 'gazeti', 'la', 'Daily', 'Monitor', ',', 'Bobi', 'Wine', 'alikuwa', 'amepangiwa', 'kuhutubia', 'wafuasi', 'wake', 'katika', 'eneo', 'hilo', '.', 'Polisi', 'imeshtumiwa', 'kwa', 'ukiukaji', 'wa', 'hatua', 'za', 'kukabiliana', 'na', 'ugonjwa', 'wa', 'corona', 'kama', 'vile', 'kufanya', 'mikutano', 'ya', 'hadhara', 'kama', 'ilivyoagizwa', 'na', 'tume', 'ya', 'uchaguzi', ',', 'kulingana', 'na', 'gazeti', 'hilo', '.', 'Aidha', ',', 'Polisi', 'wamekuwa', 'wakikabiliana', 'na', 'wafuasi', 'wa', 'Bobi', 'Wine', 'baada', 'ya', 'kukamatwa', 'kwa', 'mgombea', 'huyo', 'wa', 'urais', '.', 'Kulingana', 'na', 'gazeti', 'la', 'Daily', 'Monitor', ',', 'maandamano', 'yalianza', 'muda', 'mfupi', 'baada', 'ya', 'wafuasi', 'wake', 'kupata', 'taarifa', 'kuwa', 'Bobi', 'Wine', 'amekamatwa', '.', 'Inspekta', 'jenerali', 'wa', 'polisi', 'nchini', 'humo', 'Martin', 'Okoth', 'Ochola', 'ameonya', 'wagombea', 'urais', 'na', 'wanaharakati', 'wengine', 'wa', 'kisiasa', 'pamoja', 'na', 'wagombea', 'wengine', 'dhidi', 'ya', 'kukiuka', 'miongozi', 'ya', 'Tume', 'ya', 'Uchaguzi', 'wakati', 'kampeni', 'zinaendelea', 'kushika', 'kasi', '.', 'Raia', 'nchini', 'Uganda', 'watapiga', 'kura', 'katika', 'uchaguzi', 'mkuu', 'kumchagua', 'rais', 'pamoja', 'na', 'wabunge', 'Januari', '14', '.', 'Polisi', 'Kenya', 'watambua', 'wezi', 'wa', 'watoto', 'Polisi', 'nchini', 'Kenya', 'imesema', 'kuwa', 'imebaini', 'mtandao', 'unaohusika', 'na', 'wizi', 'wa', 'watoto', 'katika', 'jiji', 'la', 'Nairobi', '.', 'Sakata', 'hii', 'imebainika', 'baada', 'ya', 'kipindi', 'cha', 'uchunguzi', 'cha', 'BBC', 'Africa', 'Eye', 'kupeperushwa', 'hewani', 'ambacho', 'kilionesha', 'uhalifu', 'unaotendeka', 'katika', 'maeneo', 'mbalimbali', 'na', 'hospitali', 'za', 'umma', '.', 'Maafisa', 'watatu', 'wa', 'matibabu', 'wa', 'hospitali', 'za', 'umma', 'wamekamatwa', 'na', 'polisi', 'imedokeza', 'kuwa', 'bado', 'kuna', 'wengi', 'ambao', 'wanatafutwa', '.', 'Kwa', 'mujibu', 'wa', 'taarifa', 'iliyotolewa', 'na', 'Inspekta', 'Generali', 'wa', 'polisi', 'Hillary', 'Mutyambai', ',', 'ilisema', 'uchunguzi', 'na', 'taarifa', 'kutoka', 'kwa', 'washirika', 'umeonesha', 'maafisa', 'waandamizi', 'wa', 'matibabu', 'ndio', 'wanaohusika', 'kwa', 'kiasi', 'kikubwa', 'na', 'wizi', 'wa', 'watoto', '.', 'Taarifa', 'hiyo', 'ilisema', 'hospitali', 'za', 'umma', 'na', 'makao', 'ya', 'watoto', 'ndani', 'ya', 'jiji', 'la', 'Nairobi', 'pia', 'vinahusika', 'katika', 'sakata', 'hiyo', '.', 'Inspekta', 'Mutyambai', 'ameagiza', 'makamanda', 'wa', 'polisi', 'mjini', 'Nairobi', 'kufanya', 'uchunguzi', 'mara', 'moja', 'katika', 'hospitali', 'za', 'umma', 'na', 'za', 'kibinafsi', 'pamoja', 'makazi', 'ya', 'watoto', '.', 'Agizo', 'hilo', 'linakuja', 'siku', 'mbili', 'tu', 'baada', 'ya', 'kipindi', 'cha', 'BBC', 'Afrika', 'Eye', 'kupeperusha', 'makala', 'iliyoweka', 'wazi', 'jinsi', 'mitandao', 'haramu', 'inavyofaidika', 'na', 'wizi', 'wa', 'watoto', 'ambao', 'huuzwa', 'hata', 'kwa', 'pesa', 'kidogo', 'tu', 'kiasi', 'cha', 'dola', '450', 'za', 'Marekani', '.', 'Viongozi', 'wa', 'Al-', 'Shabaab', 'wapigwa', 'marufuku', 'kuingia', 'Marekani', 'Marekani', 'imewawekea', 'vikwazo', 'viongozi', 'wawili', 'waandamizi', 'wa', 'kundi', 'la', 'kigaidi', 'la', 'Al-Shabab', 'waliohusika', 'na', 'utekelezaji', 'wa', 'shambulio', 'la', 'kigaidi', 'katika', 'kambi', 'ya', 'jeshi', 'nchini', 'Kenya', '.', 'Afisa', 'mmoja', 'wa', 'jeshi', 'la', 'Marekani', 'na', 'wanakandarasi', 'wawili', 'waliuawa', 'mnamo', 'mwezi', 'Januari', 'katika', 'shambulio', 'lililtokea', 'kambi', 'ya', 'Simba', 'kisiwa', 'cha', 'Manda', '.', 'Hilo', 'lilikuwa', 'shambulio', 'la', 'kwanza', 'kutekelezwa', 'na', 'kundi', 'la', 'Al-Shabab', 'dhidi', 'ya', 'jeshi', 'la', 'Marekani', 'nchini', 'Kenya', '.', 'Wizara', 'wa', 'Mambo', 'ya', 'Nje', 'Marekani', 'imesema', 'kuwa', 'imewatambua', 'Abdullahi', 'Osman', 'Mohamed', 'na', 'Maalim', 'Ayman', 'katika', 'orodha', 'ya', 'magaidi', 'wa', 'kimataifa', '.', 'Taarifa', 'kutoka', 'wizara', 'hiyo', 'imesema', 'Bwana', 'Mohamed', 'ni', 'mtaalamu', 'mwandamizi', 'wa', 'vilipuzi', 'wa', 'kundi', 'la', 'Al-Shabab', 'na', 'kiongozi', 'wa', 'mausala', 'yao', 'ya', 'mawasiliano', 'huku', 'Bwana', 'Ayman', 'akihusishwa', 'na', 'kupanga', 'shambulizi', 'lililotokea', 'katika', 'kambi', 'ya', 'Simba', '.', '``', 'Raia', 'wa', 'Marekani', 'wamepigwa', 'marufuku', 'kujihusisha', 'na', 'shughuli', 'za', 'muamala', 'za', 'aina', 'yoyote', 'na', 'Mohamed', 'and', 'Ayman', '.', 'Mali', 'zao', 'nchini', 'Marekani', 'zimezuiwa', ',', \"''\", 'Wizara', 'ya', 'mambo', 'ya', 'nje', 'ya', 'Marekani', 'imesema', '.', 'Makataa', 'ya', 'siku', 'tatu', 'ya', 'kujisalimisha', 'kwa', 'vikosi', 'vya', 'Tigray', 'yakamilika', 'Getty', 'ImagesCopyright', ':', 'Getty', 'Images', 'Waziri', 'mkuu', 'wa', 'Ethiopia', 'Abiy', 'Ahmed', 'amesema', 'kuwa', 'oparesheni', 'ya', 'kijeshi', 'dhidi', 'ya', 'vikosi', 'vya', 'waasi', 'kaskazini', 'mwa', 'Tigray', 'inaingia', 'katika', 'awamu', 'ya', 'mwisho', '.', 'Abiy', 'Ahmed', 'amesema', 'kuwa', 'siku', 'tatu', 'za', 'kujisalimisha', 'zilizotolewa', 'kwa', 'vikosi', 'vya', 'Tigray', 'sasa', 'zimekamilika', '.', 'Inasemekana', 'kuwa', 'mamia', 'ya', 'watu', 'wamefariki', 'dunia', 'katika', 'kipindi', 'cha', 'karibu', 'wiki', 'mbili', 'kwasababu', 'ya', 'mapigano', 'kati', 'ya', 'waasi', 'na', 'jeshi', '.', 'Pia', 'watu', 'takriban', '27,000', 'wanakadiriwa', 'kutorokea', 'Sudan', '.', 'Ethiopia', 'imesema', 'kuwa', 'vikosi', 'vyake', 'vimeingia', 'katika', 'eneo', 'la', 'kaskazini', 'mwa', 'Tigray', 'na', 'sasa', 'hivi', 'vimefika', 'eneo', 'la', 'mji', 'wa', 'Mekelle', '.', 'Pia', 'inasemekana', 'wanamgambo', 'wa', 'Tigray', 'wamekita', 'kambi', 'katika', 'mji', 'mwingine', 'wa', 'Alamata', '.', 'Raia', 'wengi', 'wamelazimika', 'kuhama', 'makazi', 'yao', 'huko', 'Tigray', 'ndani', 'ya', 'wiki', 'mbili', 'tangu', 'kuanza', 'tena', 'kwa', 'vita', '.', 'Mratibu', 'wa', 'misaada', 'ya', 'dharura', ',', 'Mark', 'Lowcock', ',', 'amesema', 'kuwa', 'watu', 'hao', 'wanataabika', 'kwa', 'ukosefu', 'wa', 'chakula', 'na', 'mafuta', 'lakini', 'pia', 'kukatizwa', 'kwa', 'mawasiliano', 'eneo', 'hilo', 'kunamaanisha', 'kwamba', 'msaada', 'wa', 'kibinadamu', 'hauwezi', 'kufikika', '.', 'Shirika', 'la', 'wakimbizi', 'la', 'Umoja', 'wa', 'Mataifa', 'limeonya', 'uwezekano', 'wa', 'kutokea', 'kwa', 'athari', 'zaidi', 'za', 'kibinadamu', '.']\n",
      "\n",
      " Number of Words:  1119\n"
     ]
    }
   ],
   "source": [
    "file=\"20nov18_3.txt\"\n",
    "\n",
    "# calling the function and storing the contents in a text variable \n",
    "text = get_document(\"https://www.bbc.com/swahili/live/habari-54983714\")\n",
    "\n",
    "# calling the store_ document function \n",
    "store_document(doc=text,name=file)\n",
    "\n",
    "#add the words in this file to the total_corpus_words, to keep count of the number of words in the corpus\n",
    "total_corpus_words+=total_words(file)"
   ]
  },
  {
   "cell_type": "code",
   "execution_count": 183,
   "metadata": {},
   "outputs": [
    {
     "data": {
      "text/plain": [
       "361796"
      ]
     },
     "execution_count": 183,
     "metadata": {},
     "output_type": "execute_result"
    }
   ],
   "source": [
    "total_corpus_words"
   ]
  },
  {
   "cell_type": "code",
   "execution_count": 185,
   "metadata": {},
   "outputs": [
    {
     "name": "stdout",
     "output_type": "stream",
     "text": [
      "['Mchakato', 'na', 'kura', 'ya', 'maamuzi', 'kuhusu', 'BBI', 'unamweka', 'Naibu', 'Rais', 'Ruto', 'kwenye', 'njia', 'panda', 'Hezron', 'Mogambi', 'Mhadhiri', ',', 'Chuo', 'Kikuu', 'cha', 'Nairobi', '19', 'Novemba', '2020', 'Naibu', 'Rais', 'wa', 'Kenya', ',', 'William', 'Ruto', 'amejikuta', 'katika', 'hali', 'ngumu', 'ya', 'kisiasa', 'kuhusiana', 'na', 'mchakato', 'na', 'kura', 'ya', 'maamuzi', 'inayotarajiwa', 'mwaka', 'ujao', 'kuhusu', 'ripoti', 'ya', 'Mpango', 'wa', 'Maridhiano', '(', 'BBI', ')', 'inayolenga', 'kuleta', 'mageuzi', 'ya', 'kikatiba', ',', 'huku', 'uhusiano', 'wake', 'na', 'Rais', 'Uhuru', 'Kenyatta', 'na', 'kiongozi', 'wa', 'upinzani', ',', 'Raila', 'Odinga', 'ukiwa', 'njia', 'panda', '.', 'Hali', 'anamojikuta', 'Bw', 'Ruto', 'kwa', 'sasa', 'inatokana', 'na', 'hali', 'na', 'mjadala', 'kuhusu', 'marekebisho', 'ya', 'katiba', 'na', 'kile', 'kinachoonekana', 'kama', 'hali', 'iliyotokea', 'mwaka', 'wa', '2010', 'wakati', 'kulipokuwepo', 'na', 'kura', 'ya', 'maamuzi', 'kuhusu', 'katiba', 'ambapo', 'kulikuwepo', 'na', 'kundi', 'na', '``', 'ndio', \"''\", 'na', 'lingine', 'la', '``', 'hapana', \"''\", '.', 'Makundi', 'mawili', 'pinzani', 'kuhusu', 'BBI', 'Tayari', ',', 'kama', 'inavyoonekana', ',', 'kuna', 'makundi', 'mawili', ':', 'moja', 'linalohodhi', 'na', 'kudai', 'kusimamia', 'na', 'kuongoza', 'utaratibu', 'wa', 'marekebisho', 'ya', 'katiba', 'na', 'lingine', 'linaloonekana', 'kupinga', 'na', 'kutaka', 'kuwekwa', 'wazi', 'kwa', 'utaratibu', 'wenyewe', 'ili', 'maoni', 'zaidi', 'ya', 'Wakenya', 'yajumuishwe', 'kwenye', 'ripoti', 'ya', 'jopo', 'lililojulikana', 'kama', 'Building', 'Bridges', 'Initiative', '(', 'BBI', ')', '.', 'Jopo', 'hilo', 'lililoundwa', 'na', 'Rais', 'Uhuru', 'Kenyatta', 'na', 'kiongozi', 'wa', 'upinzani', 'Raila', 'Odinga', 'mnamo', 'Machi', '2018', ',', 'lilipaswa', 'kuangazia', 'masuala', 'tisa', 'yakiwemo', 'ukabila', ',', 'ufisadi', 'na', 'ugatuzi', '-', 'ikiwa', 'ni', 'miongoni', 'mwa', 'changamoto', 'kuu', 'tangu', 'Kenya', 'kupata', 'uhuru', 'mwaka', 'wa', '1963', '.', 'Inayoonekana', 'kwa', 'sasa', ',', 'makundi', 'haya', 'mawili', 'yanajitayarisha', 'kwa', 'mapambano', 'katika', 'kile', 'kinaoonekana', 'kuwa', 'mchuano', 'mkali', 'wa', 'kisiasa', 'wa', 'mwaka', 'ujao', '.', 'Ni', 'juma', 'hili', 'tu', 'ambapo', 'kiongozi', 'wa', 'chama', 'cha', 'ODM', 'Raila', 'Odinga', 'aliwasuta', 'kwa', 'maneno', 'makali', 'wale', 'wanaoonekana', 'kupinga', 'ripoti', 'ya', 'BBI', 'kuhusiana', 'na', 'mabadiliko', 'ya', 'kikatiba', 'nchini', 'Kenya', '.', 'Huku', 'naibu', 'rais', 'William', 'Ruto', ',', 'kiongozi', 'wa', 'chama', 'cha', 'Amani', 'National', 'Congress', '(', 'ANC', ')', 'Musalia', 'Mudavadi', ',', 'baadhi', 'ya', 'viongozi', 'wa', 'makanisa', ',', 'wawakilishi', 'kaunti', ',', 'magavana', 'na', 'wawakilishi', 'wa', 'makundi', 'mbali', 'mbali', 'wakiwarai', 'viongozi', 'wakuu', 'wa', 'mchakato', 'wa', 'BBI', ',', 'Rais', 'Uhuru', 'Kenyatta', 'na', 'Raila', 'Odinga', ',', 'kukubali', 'ripoti', 'ya', 'BBI', 'kufanyiwa', 'marekebisho', 'ya', 'mwisho', 'kabla', 'ya', 'kura', 'ya', 'maamuzi', 'ambayo', 'imepangwa', 'kufanywa', 'mnamo', 'Juni', 'mwaka', 'ujao', ',', 'kile', 'kinachojitokeza', 'ni', 'kuwa', 'kuna', 'masuala', 'yanayoleta', 'utata', 'kati', 'ya', 'pande', 'mbili', 'husika', '.', 'Anayoyapinga', 'Ruto', 'Kwenye', 'BBI', 'Chanzo', 'cha', 'picha', ',', 'AFP', 'Hata', 'hivyo', ',', 'Rais', 'Uhuru', 'Kenyatta', 'na', 'kiongozi', 'wa', 'upinzani', 'Raila', 'Odinga', 'wamekuwa', 'wakishikilia', 'kuwa', 'kutayarishwa', 'kwa', 'ripoti', 'hiyo', 'kumechukua', 'muda', 'wa', 'miaka', 'miwili', 'na', 'kuwa', ',', 'muda', 'umeyoyoma', 'kwa', 'sasa', 'kwani', 'ripoti', 'imefikia', 'kikomo', 'kutayarishwa', 'kwa', 'kura', 'ya', 'maamuzi', 'wala', 'si', 'maoni', 'zaidi', '.', 'Itakumbukwa', 'kwamba', 'katika', 'tangu', 'kuanzishwa', 'kwa', 'jopo', 'la', 'BBI', ',', 'naibu', 'Rais', 'William', 'Ruto', 'amekuwa', 'akionyesha', 'kupinga', 'shughuli', 'nzima', 'ya', 'jopo', 'hilo', '.', 'Wadadisi', 'wengi', 'nchini', 'Kenya', 'wamekuwa', 'wakisema', 'kwamba', 'Bw', '.', 'Ruto', 'hajakuwa', 'akiunga', 'mkono', 'shughuli', 'au', 'hata', 'ajenda', 'ya', 'jopo', 'hilo', 'wala', 'mapendekezo', 'ya', 'jopo', 'lenyewe', '.', 'Hii', 'ndiyo', 'sababu', ',', 'wakati', 'wa', 'uzinduzi', 'wa', 'awamu', 'ya', 'kwanza', 'wa', 'ripoti', 'ya', 'BBI', 'uliofanyika', 'katika', 'ukumbi', 'huo', 'mnamo', 'Novemba', 'mwaka', 'jana', ',', 'Bw', 'Ruto', 'alihudhuria', 'japo', 'alionekana', 'kukerwa', 'na', 'kutotosheka', 'na', 'shughuli', 'nzima', 'ya', 'mchakato', 'huo', '.', 'Kudhibitisha', 'haya', ',', 'wakati', 'wa', 'uzinduzi', 'wa', 'ripoti', 'yenyewe', 'mwezi', 'uliopita', 'katika', 'ukumbi', 'wa', 'Bomas', 'jijini', 'Nairobi', ',', 'akizingumza', 'mbele', 'ya', 'Rais', 'Uhuru', 'Kenyatta', 'na', 'mshirika', 'wake', 'katika', 'mchakato', 'huo', 'Raila', 'Odinga', ',', 'Dkt', 'Ruto', 'alikosoa', 'baadhi', 'ya', 'mapendekezo', 'ya', 'jopo', 'la', 'BBI', 'yakiwemo', 'kubadilisha', 'Tume', 'Huru', 'ya', 'Uchaguzi', '(', 'IEBC', ')', ',', 'pendekezo', 'la', 'kubuni', 'wadhifa', 'wa', 'afisa', 'wa', 'kupokea', 'malalamishi', 'katika', 'Idara', 'ya', 'Mahakama', 'atakayeteuliwa', 'na', 'rais', ',', 'hatua', 'za', 'kupokonya', 'Seneti', 'jukumu', 'la', 'kuamua', 'mgao', 'kwa', 'kaunti', ',', 'pendekezo', 'la', 'kubuniwa', 'kwa', 'Baraza', 'la', 'Polisi', 'litakalosimamiwa', 'na', 'waziri', 'wa', 'usalama', 'wa', 'ndani', 'na', 'hatua', 'ya', 'kubuni', 'nyadhifa', 'za', 'waziri', 'mkuu', 'na', 'manaibu', 'wake', '.', 'Dkt', 'Ruto', 'alitaja', 'hatua', 'ya', 'kubuni', 'wadhifa', 'wa', 'afisa', 'wa', 'kupokea', 'malalamishi', 'kuhusu', 'mahakama', 'kama', 'itakayopokonya', 'idara', 'hiyo', 'uhuru', 'wake', 'na', 'kuifanya', 'ithibitiwe', 'na', 'serikali', 'kuu', '.', 'Alieleza', 'kuwa', 'mahakama', 'inafaa', 'kutengewa', 'pesa', 'zaidi', 'kujenga', 'korti', 'nchini', 'ili', 'kuimarisha', 'utoaji', 'wa', 'haki', 'kwa', 'Wakenya', '.', 'Kinachobainika', 'kwa', 'sasa', 'ni', 'kuwa', 'kiongozi', 'wa', 'upinzani', 'Raila', 'Odinga', 'na', 'naibu', 'Rais', 'William', 'Ruto', 'huenda', 'wakawa', 'kwenye', 'pande', 'mbili', 'tofauti', 'kuhusiana', 'na', 'suala', 'BBI', 'na', 'labda', ',', 'uchaguzi', 'mkuu', 'wa', 'mwakwa', 'wa', '2022', '.', 'Kwa', 'Raila', ',', 'ripoti', 'ya', 'BBI', 'na', 'kura', 'ya', 'maamuzi', 'itampa', 'nafasi', 'nzuri', 'ya', 'kurudi', 'kwa', 'kishindo', 'kwa', 'shughuli', 'za', 'kisiasa', 'baada', 'ya', 'kushindwa', 'mara', 'nne', 'katika', 'chaguzi', 'za', 'awali', 'pamoja', 'na', 'uchaguzi', 'wa', 'mwaka', '2017', ',', 'matokeo', 'ambayo', 'aliyapinga', 'mahakamani', '.', 'Kwa', 'upande', 'mwingine', ',', 'labda', ',', 'utakuwa', 'wakati', 'mzuri', 'kwa', 'William', 'Ruto', 'kuondoka', 'kwenye', 'upande', 'wa', 'serikali', 'na', 'kurudia', 'alichokifanya', 'kwenye', 'kura', 'ya', 'maamuzi', 'ya', 'mwaka', 'wa', '2010', ',', 'ambapo', 'alijijengea', 'jina', 'kwa', 'kupinga', 'katiba', 'ya', 'mwaka', 'wa', '2010', '.', 'Kwa', 'misingi', 'hii', ',', 'shughuli', 'nzima', 'ya', 'BBI', 'inaonekana', 'kuwa', 'na', 'sifa', 'kubwa', 'sana', 'za', 'kisiasa', 'na', 'kushiriki', 'au', 'kutoshiriki', 'pamoja', 'na', 'matokeo', 'yake', 'kwa', 'wanasiasa', 'wakuu', 'nchini', 'Kenya', 'kuna', 'umuhimu', 'wake', 'kwa', 'uchaguzi', 'wa', 'mwaka', 'wa', '2022', '.', 'Hii', 'ndio', 'sababu', 'kuna', 'vuta', 'nikuvute', 'kuhusiana', 'na', 'shughuli', 'nzima', 'za', 'mchakato', 'wa', 'BBI', '.', 'Hili', 'lina', 'msingi', 'wake', 'kwenye', 'kampeini', 'za', 'BBI', 'ambazo', 'zinatoa', 'nafasi', 'mwafaka', 'kwa', 'wanasiasa', 'wawili', 'wenye', 'ushawishi', 'mkubwa', 'nchini', 'Kenya', 'kuonyesha', 'ni', 'nani', 'mwenye', 'ushawishi', 'zaidi', 'na', 'ni', 'nani', 'hafifu', 'kisiasa', '.', 'Hivyo', 'ripoti', 'ya', 'BBI', 'itasaidia', 'pande', 'zote-upande', 'wa', 'Rais', 'Uhuru', 'Kenyatta', 'na', 'Raila', 'na', 'upande', 'ule', 'mwingine-', 'ule', 'wa', 'Ruto-', 'kujipima', 'kuhusiana', 'na', 'uchaguzi', 'wa', 'mwaka', 'wa', '2022', '.', 'Aidha', ',', 'wamekuwa', 'wakidai', 'kwamba', 'mabadiliko', 'kwa', 'katiba', 'kwa', 'sasa', 'si', 'jambo', 'muhimu', 'huku', 'wakisisitiza', 'kwamba', 'masuala', 'ya', 'Covid-19', 'na', 'uchumi', 'uliodorora', 'yanafaa', 'kupewa', 'kipaumbele', 'nchini', 'Kenya', 'kwa', 'sasa', '.', 'Hata', 'ingawa', 'akionekana', 'kutopendezwa', 'na', 'shughuli', 'nzima', 'ya', 'mchakato', 'wa', 'BBI', 'na', 'kura', 'ya', 'maamuzi', 'itakayoandaliwa', ',', 'kinachomtatiza', 'Bw', '.', 'William', 'Ruto', 'ni', 'uwezekano', 'wa', 'kushiriki', 'kwenye', 'kampeni', 'mbili', 'za', 'kisiasa', ';', 'ya', 'kura', 'ya', 'maamuzi', 'kuhusu', 'marekebisho', 'ya', 'katiba', 'na', 'baada', 'ya', 'hapo', ',', 'uchaguzi', 'Mkuu', 'wa', '2022', '.', 'Katika', 'siku', 'za', 'hivi', 'karibuni', ',', 'Bw', '.', 'Ruto', 'amekuwa', 'akionyesha', 'wazi', 'kwamba', 'huenda', 'asiwe', 'kwenye', 'kundi', 'litakalopinga', 'mabadiliko', 'ya', 'katiba', 'kwa', 'sababu', ',', 'kulingana', 'na', 'wandani', 'wake', 'na', 'wachanganuzi', 'wengine', ',', 'hatua', 'kama', 'hiyo', 'inaweza', 'kutatiza', 'lengo', 'lake', 'kwenye', 'uchaguzi', 'wa', 'mwaka', 'wa', '2022', '.', 'Njia', 'hii', 'panda', 'ya', 'kisiasa', 'imemletea', 'Bw', '.', 'Ruto', 'mkwaruzo', 'wa', 'mawazo', '.', 'Lakini', 'Bw', '.', 'Ruto', 'ameamuaje', 'kuhusu', 'suala', 'hili', '?', 'Kulingana', 'na', 'duru', 'za', 'kuaminika', ',', 'Bw', '.', 'Ruto', 'anapanga', 'kuendelea', 'na', 'mipango', 'na', 'miradi', 'yake', 'kwenye', 'sehemu', 'mbali', 'mbali', 'nchini', 'Kenya', 'ambayo', 'inayonuiwa', 'kumchora', 'kama', 'mwanasiasa', 'anayewajali', 'wananchi', 'wa', 'kawaida', 'na', 'maskini', 'huku', 'akiendeleza', 'azma', 'yake', 'ya', 'kuwania', 'Urais', 'mwaka', 'wa', '2022', '.', 'Jambo', 'hili', 'linatokana', 'na', 'ukweli', 'kwamba', 'kushiriki', 'kwake', 'kamili', 'kwenye', 'kampeini', 'ya', 'kupinga', 'ripoti', 'ya', 'BBI', 'huenda', 'iwe', 'kikwazo', 'kwake', 'katika', 'harakati', 'za', 'kujipigia', 'debe', 'na', 'kuwania', 'umaarufu', 'kwenye', 'uchaguzi', 'wa', '2022', '.', 'Huwezi', 'kusikiliza', 'tena', 'Maelezo', 'ya', 'sauti', ',', 'Je', 'ripoti', 'ya', 'BBI', 'ndio', 'suluhisho', 'la', 'amani', 'na', 'umoja', 'wa', 'kudumu', 'Kenya', '``', 'Ni', 'wazi', 'kwetu', 'kwamba', 'yeyote', 'ambaye', 'ana', 'wazo', 'tofauti', 'na', 'yale', 'yaliyo', 'kwenye', 'ripoti', 'ya', 'BBI', 'ambayo', 'yanaweza', 'kuboresha', 'ripoti', 'hiyo', 'sasa', 'anaambiwa', 'kwenda', 'kwenye', 'kundi', 'la', '``', 'la', \"''\", 'ama', 'wanaopinga.Mbona', 'mnataka', 'kulazimisha', 'watu', 'kwenda', 'upande', 'huo', 'ilhali', 'tunaweza', 'kuungana', 'sote', 'kwa', 'maelewano', 'na', 'kuunda', 'nchi', 'yenye', 'umoja', '?', '``', 'aliuliza', 'wiki', 'hii', 'alipokutana', 'na', 'wawakilishi', 'wodi', 'kutoka', 'Kaunti', 'ya', 'Wajir', 'huku', 'akieleza', 'kwamba', 'hali', 'iliyoko', 'ni', 'mtego', 'kwake', 'na', 'amefahamu', 'hilo', '.', 'Kura', 'ya', 'maamuzi', 'ni', '``', 'uchaguzi', 'wa', 'mapema', \"''\", 'Seneta', 'wa', 'Bomet', 'Christopher', \"Lang'at\", 'aliwashtumu', 'wale', 'wanaopinga', 'kuongezwa', 'kwa', 'mabadiliko', 'kwa', 'ripoti', 'ya', 'BBI', 'kwa', 'kuwa', 'na', 'njama', 'ya', '``', 'uchaguzi', 'wa', 'mapema', \"''\", 'ili', 'kutathmini', 'umaarufu', 'wa', 'Bw', 'Ruto', ',', 'jambo', 'ambalo', '``', 'tumelikatalia', 'mbali', \"''\", '.', 'Wanasiasa', 'wengi', 'wakuu', 'wanaomuunga', 'mkono', 'Bw', '.', 'Ruto', 'wanakubaliana', 'kwamba', 'hakuna', 'haja', 'ya', 'kushiriki', 'kwenye', 'kampeini', 'ya', 'kupinga', 'ripoti', 'ya', 'BBI', 'huku', 'mbunge', 'wa', 'Kimilili', 'Didmus', 'Barasa', 'na', 'mwenzake', 'wa', 'Keiyo', 'Kusini', 'Daniel', 'Rono', 'wakisema', 'hakuna', 'haja', 'ya', 'kupoteza', 'pesa', 'nyingi', 'kupinga', 'ripoti', 'ya', 'BBI', 'ilhali', 'lengo', 'lao', 'ni', 'uchaguzi', 'wa', '2022', '.', 'Pamoja', 'na', 'walakini', 'huu', 'kwenye', 'kambi', 'ya', 'Bw', '.', 'Ruto', ',', 'kuna', 'masuala', 'fulani', 'ambayo', 'ni', 'vivutio', 'kwa', 'wadau', 'wa', 'sekta', 'mbali', 'mbali', 'ambayo', 'huenda', 'yakawafanya', 'Wakenya', 'kuipigia', 'kura', 'ripoti', 'ya', 'BBI', ',', 'jambo', 'ambalo', 'kambi', 'ya', 'Ruto', 'haitaki', 'kutathmini', 'wakati', 'huu', '.', 'Haya', 'ni', 'pamoja', 'na', 'kuongezwa', 'kwa', 'fedha', 'zinazotolewa', 'kwa', 'serikali', 'za', 'kaunti', 'kutoka', 'asilimia', '15', 'ya', 'sasa', 'hadi', 'asilimia', '35', ',', 'kubuniwa', 'kwa', 'hazina', 'ya', 'ustawishaji', 'wa', 'Wadi', ',', 'vijana', 'wanaoanzisha', 'biashara', 'kupata', 'afua', 'ya', 'kutolipa', 'ushuru', 'kwa', 'kipindi', 'cha', 'miaka', 'saba', ',', 'nafuu', 'kwa', 'vijana', 'walionufaika', 'na', 'fedha', 'kutoka', 'kwa', 'Bodi', 'ya', 'Mikopo', 'ya', 'Elimu', 'ya', 'Vyuoni', '(', 'HELB', ')', 'kuongezewa', 'muda', 'wa', 'kuanza', 'kulipa', 'kwa', 'miaka', 'minne', 'baada', 'ya', 'kuhitimu', ',', 'Ili', 'kuwavutia', 'wanawake', ',', 'ripoti', 'ya', 'BBI', 'na', 'mswada', 'wake', 'unapendekeza', 'kuwa', 'kila', 'kaunti', 'itawachagua', 'maseneta', 'wawili', ';', 'mwanamke', 'na', 'mwanaume', '.', 'Suala', 'hili', 'bado', 'linatatiza', 'wadau', 'wengi', 'na', 'inasemekana', 'linashughulikiwa', 'ili', 'kuhakikisha', 'suala', 'la', 'jinsia', 'katika', 'bunge', 'la', 'kitaifa', 'na', 'seneti', 'linashughulikiwa', 'ipasavyo', '.', 'Chanzo', 'cha', 'picha', ',', 'IKULU', 'KENYA', 'Rais', 'Uhuru', 'Kenyatta', 'na', 'Bw', 'Odinga', 'wamekuwa', 'wakipigia', 'debe', 'BBI', 'huku', 'Bw', 'Odinga', 'akisisitiza', 'kuwa', 'mchakato', 'wa', 'kukusanya', 'saini', 'milioni', 'moja', 'za', 'raia', 'utaanza', 'rasmi', 'wiki', 'hii', 'licha', 'ya', 'pingamizi', 'kutoka', 'kwa', 'baadhi', 'ya', 'viongozi', 'wanaotaka', 'pawepo', 'mazungumzo', 'kwanza', '.', 'Hata', 'hivyo', ',', 'Dkt', 'Ruto', 'anasisitiza', 'kuwa', 'taifa', 'litapoteza', 'umoja', 'wake', 'iwapo', 'wanasiasa', 'watagawanyika', 'katika', 'mirengo', 'ya', \"'Ndiyo\", \"'\", 'na', \"'La\", \"'\", 'ilhali', 'bado', 'kuna', 'muda', 'wa', 'kuhakikisha', 'pande', 'zote', 'zinakubaliana', 'kuhusu', 'yaliyomo', 'kwenye', 'BBI', '.', 'Amekuwa', 'akishikilia', 'kwamba', 'licha', 'ya', 'kamati', 'ya', 'BBI', 'kuchukua', 'muda', 'wa', 'miaka', 'miwili', 'kuiandaa', ',', 'ripoti', 'hiyo', 'haiwezi', 'kupigiwa', 'kura', 'jinsi', 'ilivyo', 'kutokana', 'na', 'masuala', 'mengi', 'ndani', 'yake', 'yanayokinzana', '.', 'Aidha', ',', 'alishikilia', 'kuwa', 'atawaongoza', 'wafuasi', 'wake', 'kuunga', 'BBI', 'iwapo', 'marekebisho', 'yanayohimizwa', 'na', 'kwamba', 'maoni', 'ya', 'mashirika', 'mbalimbali', 'yatajumuishwa', 'katika', 'ripoti', 'hiyo', '.', 'Hata', 'hivyo', ',', 'pendekezo', 'hili', 'limetupiliwa', 'mbali', 'na', 'Raila', 'Odinga', 'akisema', 'muda', 'tayari', 'umepita', 'kwa', 'shughuli', 'kama', 'hiyo', '.', 'Ilivyo', ',', 'hali', 'ni', 'tete', '.', 'Linalobainika', 'kwenye', 'vuta', 'nikuvute', 'kwenye', 'mchakato', 'wa', 'ripoti', 'ya', 'jopo', 'la', 'BBI', 'ni', 'kuwa', 'siasa', 'za', 'uchaguzi', 'wa', 'mwaka', 'wa', '2022', 'zimezama', 'kwenye', 'mchakato', 'mzima', '.']\n",
      "\n",
      " Number of Words:  1657\n"
     ]
    }
   ],
   "source": [
    "file=\"20nov19.txt\"\n",
    "\n",
    "# calling the function and storing the contents in a text variable \n",
    "text = get_document(\"https://www.bbc.com/swahili/54997300\")\n",
    "\n",
    "# calling the store_ document function \n",
    "store_document(doc=text,name=file)\n",
    "\n",
    "#add the words in this file to the total_corpus_words, to keep count of the number of words in the corpus\n",
    "total_corpus_words+=total_words(file)"
   ]
  },
  {
   "cell_type": "code",
   "execution_count": 186,
   "metadata": {},
   "outputs": [
    {
     "data": {
      "text/plain": [
       "363453"
      ]
     },
     "execution_count": 186,
     "metadata": {},
     "output_type": "execute_result"
    }
   ],
   "source": [
    "total_corpus_words"
   ]
  },
  {
   "cell_type": "code",
   "execution_count": 187,
   "metadata": {},
   "outputs": [
    {
     "name": "stdout",
     "output_type": "stream",
     "text": [
      "['Kenya', ':', 'Polisi', 'yabaini', 'genge', 'la', 'wahalifu', 'linalowadanganya', 'wasichana', 'kwa', 'njia', 'ya', 'mtandao', 'Idara', 'ya', 'upelelezi', 'wa', 'makosa', 'ya', 'jinai', 'DCI', 'nchini', 'Kenya', ',', 'inachunguza', '``', 'genge', 'la', 'mtandaoni', \"''\", 'ambalo', 'linalenga', 'wasichana', 'wa', 'shule', 'waliokwama', 'majumbani', 'kwasababu', 'ya', 'virusi', 'vya', 'corona', 'na', 'kuwashawishi', 'katika', 'kile', 'maafisa', 'wanakielezea', 'ni', 'kuwadanganya', 'na', 'kuwapotosha', 'kimaadili', '.', 'Hayo', 'yanawadia', 'baada', 'ya', 'wasichana', 'watatu', 'vijana', 'waliokuwa', 'wamepotea', 'kuokolewa', 'na', 'maafisa', 'wa', 'polisi', 'mjini', 'Nairobi', '.', 'Watatu', 'hao', 'wamewaambia', 'polisi', 'kuwa', 'waliona', 'akaunti', 'kwenye', 'mtandao', 'wa', 'kijamii', 'unaowaalika', 'katika', 'tafrija', 'au', 'sherehe', 'mjini', 'Nairobi', '.', 'Aidha', ',', 'polisi', 'imewataka', 'wazazi', 'kufuatilia', 'mienendo', 'ya', 'watoto', 'wao', 'kwa', 'karibu', '.', 'Ofisi', 'ya', 'idara', 'ya', 'upelelezi', 'wa', 'makosa', 'ya', 'jinai', '(', 'DCI', ')', ',', 'ingependa', 'kuwafahamisha', 'kuwa', 'tunawatafuta', 'wafuasi', 'wa', 'genge', 'hilo', 'na', 'watakamatwa', 'kujibu', 'maswali', 'ya', 'uhalifu', 'wao', ',', \"''\", 'Idara', 'hiyo', 'ya', 'polisi', 'imesema', 'kupitia', 'mtandao', 'wa', 'Twitter', '.', 'Visa', 'vya', 'wasichana', 'wadogo', 'kupotea', 'vimejitokeza', 'sana', 'siku', 'za', 'hivi', 'karibuni', 'baadhi', 'wakisema', 'waliahidiwa', 'kazi', '.', 'Mapema', 'wiki', 'hii', 'jamaa', 'ya', 'msichana', 'mmoja', 'aliweka', 'ujumbe', 'wa', 'kusikitisha', 'katika', 'mtandao', 'wa', 'Twitter', 'akihofia', 'kuwa', 'pengine', 'msichana', 'wao', 'ametekwa', 'nyara', 'au', 'kunaswa', 'na', 'wasafirishaji', 'watu', 'kwa', 'njia', 'ya', 'haramu', '.', 'Jamaa', 'ya', 'msichana', 'huyo', 'alisema', 'msichana', 'wao', 'alipotea', 'mjini', 'Nairobi', 'tangu', 'Jumamosi', 'baada', 'ya', 'kushawishiwa', 'na', 'waliokuwa', 'wamemuahidi', 'kazi', 'ya', 'maonesho', 'ya', 'urembo', '.', '``', 'Binamu', 'yangu', 'pamoja', 'na', 'wasichana', 'wengine', ',', '16', ',', 'wakiwa', 'kundi', 'la', 'watu', 'sita', ',', 'wamepotea', 'tangu', 'wakati', 'huo', ',', \"''\", 'mwanamke', 'huyo', 'amesema', 'kwenye', 'ujumbe', 'alioutuma', 'kwa', 'njia', 'ya', 'video', '.', 'Ijumaa', ',', 'polisi', 'iliandika', 'ujumbe', 'kwenye', 'mtandao', 'wa', 'Twitter', 'kuwa', 'maafisa', 'wa', 'idara', 'ya', 'upelelezi', 'na', 'ulinzi', 'wa', 'watoto', 'wamenusuru', 'wasichana', 'watatu', 'kati', 'ya', 'saba', 'walioripotiwa', 'kupotea', '.', 'Juhudi', 'za', 'kutafuta', 'wasichana', 'wengine', 'zinaendelea', ',', 'ilimesema', '.', 'Idara', 'hiyo', 'ya', 'upepelezi', 'haikutoa', 'taarifa', 'zozote', 'kuhusu', 'walikokuwa', 'wasichana', 'hao', 'au', 'kama', 'kuna', 'yeyote', 'aliyekamatwa', '.', 'Ofisi', 'ya', 'DCI', 'imesema', 'genge', 'hilo', 'linaendesha', 'shughuli', 'zake', 'mjini', 'Nairobi', 'na', 'linatumia', 'nambari', 'ya', 'simu', 'ya', 'kimataifa', 'iliyosajiliwa', '.', '``', 'Wakati', 'uchunguzi', 'unaendelea', ',', 'tungependa', 'kutoa', 'onyo', 'kwa', 'watu', 'wanaotumia', 'ugonjwa', 'wa', 'Covid-19', 'vibaya', 'na', 'kuwinda', 'wasichana', 'wa', 'shule', ',', 'Siku', 'zao', 'zimeisha', ',', \"''\", 'ofisi', 'ya', 'DCI', 'imesema', 'kwenye', 'mtandao', 'wa', 'Twitter', '.', 'Mapema', 'mwezi', 'huu', ',', 'Kenya', 'iliyo', 'Afrika', 'Mashariki', ',', 'iliongeza', 'masharti', 'ya', 'kukabiliana', 'na', 'virusi', 'vya', 'corona', 'kwasababu', 'ya', 'kuongezeka', 'kwa', 'idadi', 'ya', 'maambukizi', 'ya', 'ugonjwa', 'huo', 'na', 'vifo', '.', 'Mkusanyiko', 'wa', 'watu', 'umepigwa', 'marufuku', 'na', 'amri', 'za', 'kutotoka', 'nje', 'usiku', 'imewekwa', '.', 'Shule', 'zilifungwa', 'mnamo', 'mwezi', 'Machi', 'mwaka', 'huu', 'lakini', 'mwezi', 'Oktoba', 'zikafunguliwa', 'kwa', 'wanafunzi', 'wa', 'mwaka', 'wa', 'mwisho', 'pekee', 'huku', 'serikali', 'ikitangaza', 'kuwa', 'shule', 'zitafunguliwa', 'tena', 'kikamilifu', 'Januari', 'mwakani', '.', 'Kenya', 'yenye', 'idadi', 'ya', 'watu', 'milioni', '53', ',', 'hadi', 'kufikia', 'sasa', 'imetangaza', 'maambukizi', 'zaidi', 'ya', '75,000', 'na', 'vifo', '1,349', ',', 'kulingana', 'na', 'idadi', 'jumla', 'ya', 'Chuo', 'Kikuu', 'cha', 'John', 'Hopkins', '.', 'Pia', 'unaweza', 'kutazama', ':', 'Huwezi', 'kusikiliza', 'tena', 'Maelezo', 'ya', 'video', ',', 'Virusi', 'vya', 'corono', ':', \"'Wazazi\", 'hawana', 'uwezo', 'wa', 'kuniwezesha', 'kudurusu', 'mtandaoni', \"'\"]\n",
      "\n",
      " Number of Words:  483\n"
     ]
    }
   ],
   "source": [
    "file=\"20nov22.txt\"\n",
    "\n",
    "# calling the function and storing the contents in a text variable \n",
    "text = get_document(\"https://www.bbc.com/swahili/habari-55033396\")\n",
    "\n",
    "# calling the store_ document function \n",
    "store_document(doc=text,name=file)\n",
    "\n",
    "#add the words in this file to the total_corpus_words, to keep count of the number of words in the corpus\n",
    "total_corpus_words+=total_words(file)"
   ]
  },
  {
   "cell_type": "code",
   "execution_count": 188,
   "metadata": {},
   "outputs": [
    {
     "data": {
      "text/plain": [
       "363936"
      ]
     },
     "execution_count": 188,
     "metadata": {},
     "output_type": "execute_result"
    }
   ],
   "source": [
    "total_corpus_words"
   ]
  },
  {
   "cell_type": "code",
   "execution_count": 189,
   "metadata": {},
   "outputs": [
    {
     "name": "stdout",
     "output_type": "stream",
     "text": [
      "['Ni', 'nani', 'anayepigania', 'kujitenga', 'kwa', 'Tigrey', 'na', 'Ethiopia', '?', 'Mbabe', 'wa', 'kivita', 'wa', 'zamani', 'ambaye', 'alikuwa', 'akivuruga', 'mtandao', 'wa', 'mawasiliano', 'ya', 'majeshi', 'ya', 'Ethiopia', 'Debretsion', 'Gebremichael', 'sasa', 'anaongoza', 'mapigano', 'dhidi', 'ya', 'serikali', 'ya', 'Waziri', 'Mkuu', 'Abiy', 'Ahmed', 'kudhibiti', 'eneo', 'la', 'kaskazini', 'la', 'Tigray', ',', 'linalotajwa', 'kama', '``', 'uzao', \"''\", 'wa', 'nchi', '.', 'Bonyeza', 'hapa', 'kupata', 'taarifa', 'zaidi', ':', 'Biden', 'amteua', 'waziri', 'wa', 'mambo', 'ya', 'nje', 'Duru', 'za', 'kisiasa', 'nchini', 'Marekani', 'zimeripoti', 'kuwa', 'rais', 'mteule', 'wa', 'Marekani', 'Joe', 'Biden', 'amemteua', 'Anthony', 'Blinken', 'kuwa', 'Waziri', 'wa', 'mamno', 'ya', 'nje', ',', 'atakapochukua', 'kiti', 'cha', 'urais', 'rasmi', '.', 'Bw', '.', 'Blinken', 'ana', 'uhusiano', 'wa', 'karibu', 'na', 'Bw', 'Biden', 'kwa', 'takriban', 'miaka', '20', 'na', 'ana', 'uzoefu', 'wa', 'masuala', 'ya', 'kigeni', '.', 'Anafahamika', 'kama', 'mtu', 'anayeunga', 'mkono', 'ushirika', 'dhabiti', 'na', 'mataifa', 'mengi', ',', 'akisema', 'mapema', 'mwaka', 'huu', 'kwamba', 'matatizo', 'kama', 'vile', 'mabadiliko', 'ya', 'hali', 'ya', 'hewa', ',', 'janga', 'la', 'corona', 'na', 'utengenezaji', 'wa', 'silaha', 'hatari', 'hayawezi', 'kutatuliwa', 'na', 'Marekani', 'peke', 'yake', '.', 'Wakati', 'mmoja', 'aliwahi', 'kuwa', 'Naibu', 'waziri', 'wa', 'mambo', 'ya', 'nje', 'chini', 'ya', 'utawala', 'wa', 'rais', 'wa', 'zamani', 'Barack', 'Obama', 'ambapo', 'alisaidia', 'kuboresha', 'masuala', 'ya', 'ushirikiano', 'na', 'mataifa', 'yaMashariki', 'ya', 'kati', '.', 'Bw', 'Bilken', ',', 'mwenye', 'umri', 'wa', 'miaka', '58', ',', 'alisomea', 'Ufaransa', ',', 'na', 'baadaye', 'katika', 'Chuo', 'Kikuu', 'cha', 'Harvard', 'University', 'na', 'Cho', 'Kikuu', 'cha', 'Sheria', 'cha', 'Colombia', '.', 'Jaji', 'kuwasilisha', 'malalamiko', 'ya', 'uhalifu', 'dhidi', 'ya', 'Zuma', 'Jacob', 'Zuma', 'alilazimishwa', 'kujiuzulu', 'mwaka', '2018', 'baada', 'ya', 'kukumbwa', 'na', 'madai', 'ya', 'ufisadiImage', 'caption', ':', 'Jacob', 'Zuma', 'alilazimishwa', 'kujiuzulu', 'mwaka', '2018', 'baada', 'ya', 'kukumbwa', 'na', 'madai', 'ya', 'ufisadi', 'Jaji', 'anayeongoza', 'uchunguzi', 'wa', 'ufisadi', 'nchini', 'Afrika', 'Kusini', 'amesema', 'kuwa', 'malalamiko', 'ya', 'ufisadi', 'yatawasilishwa', 'dhidi', 'ya', 'Rais', 'Jacob', 'Zuma', 'baada', 'ya', 'kuondoka', 'nje', 'ya', 'kikao', 'cha', 'kamati', 'kilichokuwa', 'kikifanya', 'uchunguzi', 'dhidi', 'yake', '.', 'Lakini', 'wakati', 'lengo', 'lake', 'lilipogonga', 'mwamba', ',', 'rais', 'huyo', 'wa', 'zamani', 'na', 'wakili', 'wake', 'hawakurejea', 'tena', 'mbele', 'ya', 'kikao', 'hicho', 'kukabiliana', 'na', 'maswali', 'kuhusu', 'ufisadi', '.', 'Takriban', 'mashahidi', '34', 'wamemshutumu', 'kwa', 'njia', 'ya', 'moja', 'kwa', 'moja', 'au', 'isiyo', 'ya', 'moja', 'kwa', 'moja', 'Bwa', 'Zuma', '.', 'Alikana', 'kufanya', 'kosa', 'lolote', 'lile', '.', 'Kamati', ',', 'ambayo', 'imekuwa', 'ikisikiliza', 'ushahidi', 'tangu', 'mwaka', '2018', ',', 'imesema', 'kuwa', 'iliwasiliana', 'mara', 'moja', 'na', 'Mahakama', 'ya', 'juu', 'zaidi', 'ya', 'Afrika', 'Kusini', ',', 'Mahakama', 'ya', 'Katiba', ',', 'katika', 'juhudi', 'za', 'kumlazimisha', 'Bw', 'Zuma', 'aitikie', 'wito', 'wa', 'kuhojiwa', '.', 'Idadi', 'ya', 'watu', 'waliokufa', 'katika', 'maandamano', 'Uganda', 'wafikia', '45', 'Polisi', 'nchini', 'Uganda', 'imesema', 'kuwa', 'idadi', 'ya', 'vifo', 'vilivyotokea', 'katika', 'maandamano', 'ya', 'wiki', 'iliyopita', 'imeongezeka', 'na', 'kufikia', 'watu', '45', '.', 'Akizungumza', 'katika', 'mkutano', 'na', 'waandishi', 'wa', 'habari', 'Jumatatu', ',', 'msemaji', 'wa', 'polisi', 'Fred', 'Enanga', ',', 'amesema', 'waliokufa', 'ni', 'wanaume', '39', 'na', 'wanawake', 'sita', '.', 'Chombo', 'kimoja', 'cha', 'habari', 'nchini', 'humo', 'kimevinukuu', 'vyanzo', 'vya', 'usalama', 'vikisema', 'kuwa', 'ufyatuaji', 'mkubwa', 'wa', 'risasi', 'ulifanywa', 'na', 'watu', 'ambao', 'hawakuwa', 'wamevaa', 'sare', ',', 'ambao', 'walirekodiwa', 'na', 'umma', 'wakinadi', 'bunduki', 'kwenye', 'mitaa', '.', 'Waziri', 'wa', 'usalama', 'nchini', 'humo', 'Jenerali', 'Elly', 'Tumwiine', 'aliwaambia', 'waandishi', 'wa', 'habari', 'Ijumaa', 'kuwa', 'polisi', 'na', 'vikosi', 'vingine', 'vya', 'usalama', 'wana', 'haki', 'ya', 'kufyatua', 'risasi', 'na', 'kuua', '.', 'Kama', 'waandamanaji', '``', 'wanafikia', 'kiwango', 'fulani', 'cha', 'ghasia', '.', \"''\", 'Polisi', 'ilisema', 'kuwa', 'maafisa', 'wa', 'polisi', '11', 'walishambuliwa', 'na', 'kujeruhiwa', 'na', 'waandamanaji', '.', 'Maandamano', 'yaliibuka', 'katika', 'maeneo', 'mbalimbali', 'katika', 'mji', 'mkuu', 'Kampala', ',', 'huku', 'waandamanaji', 'wakitoa', 'wito', 'wa', 'kuachiliwa', 'huru', 'kwa', 'mgombea', 'wa', 'urais', 'Robert', 'Kyagulanyi', ',', 'al', 'maarufu', 'Bobi', 'Wine', ',', 'ambaye', 'alikuwa', 'amekamatwa', 'katika', 'mkutano', 'wa', 'kampeni', '.', 'Baada', 'ya', 'kushikiliwa', 'kwa', 'siku', 'mbili', 'mahabusu', ',', 'alishitakiwa', 'kwa', 'kukiuka', 'sheria', 'za', 'kudhibiti', 'virusi', 'vya', 'corona', ',', 'na', 'kupewa', 'dhamana', '.', 'Kwa', 'sasa', 'amerejea', 'katika', 'msururu', 'wa', 'kampeni', '.', 'Watoto', 'wa', 'shule', 'waliolaghaiwa', 'Kenya', 'wapewa', 'ushauri', 'nasaha', 'Mzazi', 'mmoja', 'wa', 'kati', 'ya', 'watoto', '44', 'waliokamatwa', 'na', 'maafisa', 'wa', 'upelelezi', 'katika', 'nyumba', 'moja', 'usiku', ',', 'baada', 'ya', 'kulaghaiwa', 'ameiambia', 'BBC', 'kuwa', 'wanapewa', 'ushauri', 'nasaha', '.', 'Mwishoni', 'mwa', 'juma', 'wapelelezi', 'kutoka', 'idara', 'ya', 'upelelezi', 'wa', 'makosa', 'ya', 'jinai', 'nchini', 'Kenya', '(', 'DCI', ')', 'waliwakamata', 'watoto', 'hao', 'wa', 'shule', '44', 'na', 'mwenyeji', 'wao', ',', 'na', 'kukamata', 'aina', 'tofauti', 'za', 'vileo', 'na', 'bangi', 'katika', 'nyumba', 'iliyopo', 'jijini', 'Nairobi', '.', 'Watoto', 'hao', 'wavulana', '26', 'na', 'wasichana', '18', '–wana', 'umri', 'kati', 'ya', 'miaka', '14', 'na', '17', '.', 'Mzazi', 'huyo', 'amesema', 'ushauri', 'huo', 'nasaha', 'unatolewa', 'kwa', 'wiki', 'nzima', 'kwa', 'wazazi', 'na', 'watoto', 'kwa', 'pamoja', ',', 'na', 'wameshauriwa', 'wasiwakaripie', 'wala', 'kuwapiga', 'watoto', 'wao', '.', 'Ameongeza', 'kuwa', 'watoto', 'hao', 'wanafanyiwa', 'vipimo', 'vya', 'kimatibabu', ',', 'ikiwa', 'ni', 'pamoja', 'na', 'kuchunguzwa', 'iwapo', 'walidhalilishwa', 'kingono', '.', 'Hii', 'inaendelea', 'huku', 'uchunguzi', 'ukiendelea', 'Idara', 'ya', 'upelelezi', 'wa', 'makosa', 'ya', 'jinai', 'DCI', 'nchini', 'Kenya', ',', 'ikiendelea', 'na', 'uchunguzi', 'kuhusu', \"''\", 'genge', 'la', 'mtandaoni', \"''\", 'ambalo', 'linalenga', 'wasichana', 'wa', 'shule', 'waliokwama', 'majumbani', 'kwa', 'sababu', 'ya', 'virusi', 'vya', 'corona', 'na', 'kuwashawishi', 'katika', 'kile', 'maafisa', 'wanakielezea', 'ni', 'kuwadanganya', 'na', 'kuwapotosha', 'kimaadili', '.', 'Kulingana', 'na', 'DCI', 'watakao', 'patikana', 'na', 'hatia', 'ya', 'kuwalaghai', 'watoto', 'hao', 'wanakabiliwa', 'na', 'kifungo', 'cha', 'miaka', 'isiyo', 'chini', 'ya', 'miaka', 'saba', '.', 'Wanafunzi', 'wa', 'kidato', 'cha', 'nne', 'Tanzania', 'waanza', 'mtihani', 'Jumla', 'ya', 'wanafunzi', '490,103', 'ndio', 'waliotarajiwa', 'kufanya', 'mtihani', 'kuo', 'wa', 'kumaliza', 'awamu', 'ya', 'kwanza', 'ya', 'elimu', 'ya', 'sekondari', ',', 'huku', 'watakaofaulu', 'vyema', 'wakitarajiwa', 'kuendelea', 'hadi', 'kidato', 'cha', 'sita', 'kabla', 'ya', 'kujiunga', 'na', 'vyuo', 'vikuu', '.', 'Kulingana', 'na', 'ratiba', 'ya', 'mtihani', 'huo', 'leo', 'wanafanya', 'mtihani', 'wa', 'Kiswahili', 'na', 'Geografia', ':', 'Uganda', 'itawaruhusu', 'raia', 'wake', 'kusafiri', 'Tanzania', 'Wafanyabiashara', ',', 'wanafunzi', 'na', 'wasafiri', 'wengine', 'wanaovuka', 'mpaka', 'kutoka', 'Uganda', 'kuelekea', 'Tanzania', 'sasa', 'wanaweza', 'kusafiri', 'kwa', 'mabasi', 'kama', 'kawaida', ',', 'limeripoti', 'gazeti', 'la', 'Daily', 'Monitor', 'Uganda', 'Wafanyabiashara', ',', 'wanafunzi', 'na', 'wasafiri', 'wengine', 'wanaovuka', 'mpaka', 'kutoka', 'Uganda', 'kuelekea', 'Tanzania', 'sasa', 'wanaweza', 'kusafiri', 'kwa', 'mabasi', 'kama', 'kawaida', '.', 'Usafiri', 'wa', 'basi', 'ulikuwa', 'umepigwa', 'marufuku', 'tangu', 'mwezi', 'Machi', 'wakati', 'serikali', 'ya', 'nchi', 'hiyo', 'ilipofunga', 'mipaka', 'yake', 'na', 'kupiga', 'marufuku', 'safari', 'za', 'umma', 'ili', 'kukabiliana', 'na', 'Covid-19', ',', 'ambapo', 'hadi', 'sasa', 'umekwisha', 'wauwa', 'watu', 'zaidi', 'ya140', 'nchini', 'humo', '.', 'Wasafiri', 'wanaoingia', 'nchini', 'Uganda', 'hupitia', 'mpaka', 'wa', 'Mutukula', 'kwa', 'kutumia', 'mabasi', 'yanayopita', 'katika', 'nchi', 'za', 'Tanzania', ',', 'Burundi', ',', 'Rwanda', 'na', 'Zambia', '.', 'Ethiopia', 'yatakiwa', \"'kuwaepusha\", 'rais', 'wa', 'Tigray', 'na', 'madhara', \"'\", 'Shirika', 'la', 'kutetea', 'haki', 'za', 'binadamu', '-Rights', 'group', 'Human', 'Rights', 'Watch', '(', 'HRW', ')', ',', 'limeitaka', 'Ethiopia', 'kuwalinda', 'raia', 'wanaoishi', 'katika', 'mji', 'mkuu', 'wa', 'jimbo', 'la', 'Tigray', ',', 'Mekelle', ',', 'huku', 'vikosi', 'vya', 'serikali', 'vikisonga', 'mbele', 'kuelekea', 'katika', 'mji', 'huo', '.', 'Waziri', 'wa', 'Ethiopia', 'Mkuu', 'Abiy', 'Ahmed', 'Jumapili', 'alivipa', 'vikosi', 'vya', 'Tigray', 'muda', 'wa', 'saa', '72', 'viwe', 'vimejisalimisha', 'lakini', 'vikosi', 'hivyo', '–', 'Tigray', 'People', \"'s\", 'Liberation', 'Front', '(', 'TPLF', ')', ',', 'ambavyo', 'vinalidhibiti', 'jimbo', 'hilo', 'lililoko', 'katika', 'maeneo', 'ya', 'milima', ',', 'vimeapa', 'kuendelea', 'na', 'mapigano', '.', 'Mkurugenzi', 'mkuu', 'wa', 'Human', 'Rights', 'Watch', ',', 'Kenneth', 'Roth', ',', 'ametuma', 'tweet', 'akisema', 'wanajeshi', 'wa', 'Ethiopia', '``', 'wanapaswa', 'kuwaepusha', 'na', 'mathara', 'watu', 'wote', 'hata', 'wale', 'wanaoishi', 'katika', 'mji', 'wa', 'Mekelle', ',', 'lisitishie', 'tu', 'kwamba', \"'hakutakuwa\", 'na', 'huruma', \"'\", \"''\", '.']\n",
      "\n",
      " Number of Words:  1091\n"
     ]
    }
   ],
   "source": [
    "file=\"20nov23_1.txt\"\n",
    "\n",
    "# calling the function and storing the contents in a text variable \n",
    "text = get_document(\"https://www.bbc.com/swahili/live/habari-55040655\")\n",
    "\n",
    "# calling the store_ document function \n",
    "store_document(doc=text,name=file)\n",
    "\n",
    "#add the words in this file to the total_corpus_words, to keep count of the number of words in the corpus\n",
    "total_corpus_words+=total_words(file)"
   ]
  },
  {
   "cell_type": "code",
   "execution_count": 190,
   "metadata": {},
   "outputs": [
    {
     "data": {
      "text/plain": [
       "365027"
      ]
     },
     "execution_count": 190,
     "metadata": {},
     "output_type": "execute_result"
    }
   ],
   "source": [
    "total_corpus_words"
   ]
  },
  {
   "cell_type": "code",
   "execution_count": 192,
   "metadata": {},
   "outputs": [
    {
     "name": "stdout",
     "output_type": "stream",
     "text": [
      "['Awali', ',', 'Chadema', 'iligoma', 'kuteua', 'wabunge', 'wa', 'viti', 'maalumu', 'wakidai', 'kuwa', 'hawatambui', 'matokeo', 'ya', 'uchaguzi', 'uliopita', 'wakisema', 'ulikuwa', 'na', 'kasoro', 'lukuki', '.', 'Uongozi', 'wa', 'chama', 'hicho', 'ulidai', 'kuwa', 'na', 'kutuma', 'wabunge', 'wa', 'vti', 'maalumu', 'ni', 'kuhalalisha', 'uchaguzi', 'huo', '.', 'Tanzania', 'yajipanga', 'kwa', 'utalii', 'wa', 'Disemba', 'Bodi', 'ya', 'utalii', 'ya', 'Tanzania', 'pamoja', 'na', 'wawekezaji', 'katika', 'sekta', 'ya', 'utalii', 'wanasema', 'wanaweka', 'juhudi', 'kubwa', 'zaidi', 'katika', 'kuwavutia', 'watalii', 'kutoka', 'Afrika', 'Mashariki', 'katika', 'likizo', 'ya', 'Disemba', 'ambapo', 'watu', 'wengi', 'husafiri', 'na', 'kutumia', 'fedha', 'zao', 'kuvinjari', '.', 'Sekta', 'ya', 'utalii', 'imepata', 'pigo', 'kutokana', 'na', 'kupungua', 'kwa', 'watalii', 'kutoka', 'nje', ',', 'na', 'baada', 'ya', 'serikali', 'nyingi', 'kusitisha', 'safari', 'za', 'ndege', 'ili', 'kuzuia', 'kuenea', 'kwa', 'Covid-19', '.', 'Hata', 'hivyo', 'hatua', 'hii', 'imekuwa', 'ya', 'baraka', 'kwa', 'upande', 'mwingine', 'hususan', 'utalii', 'wa', 'ndani', '.', '‘', '’', 'Kati', 'ya', 'miezi', 'ya', 'Machi', 'na', 'Agosti', 'mwaka', 'huu', ',', 'mbuga', 'ya', 'wanyama', 'ya', 'Serengeti', 'ambayo', 'ni', 'kivutio', 'kikuu', 'cha', 'utalii', 'ilipokea', 'wageni', '43,452', 'kutoka', 'Afrika', 'Mashariki', 'na', 'watalii', '9,791', 'kutoka', 'nje', '’', '’', ',', 'anasema', 'Joseph', 'Sendwa', 'ambaye', 'ni', 'Meneja', 'wa', 'masoko', 'ya', 'ndani', 'na', 'ya', 'kikanda', 'katika', 'Bodi', 'ya', 'Utalii', 'ya', 'Tanzania', '.', 'Takwimu', 'hizi', 'zimefanya', 'baadhi', 'ya', 'makampuni', 'nchini', 'Tanzania', 'kuanza', 'kulizingatia', 'zaidi', 'soko', 'la', 'nyumbani', ',', 'anasema', 'Nancy', 'Cosmas', 'Ngotea', 'ni', 'Afisa', 'wa', 'masoko', 'katika', 'kampuni', 'ya', 'utalii', 'ya', 'Zara', 'Tours', 'iliyopo', 'eneo', 'la', 'Kilimanjaro', '.', '‘', '‘', 'Kampuni', 'yetu', 'ni', 'kubwa', 'na', 'ilikuwa', 'na', 'wafanyakazi', 'wengi', 'sana', 'ila', 'imebidi', 'watu', 'kuachishwa', 'kazi', '.', 'Kwa', 'wakati', 'huu', 'pia', 'tumepata', 'maombi', 'mengi', 'kutoka', 'kwa', 'watanzania', 'na', 'watu', 'kutoka', 'Afrika', 'Mashariki', ',', 'na', 'tumeandaa', 'vifurushi', 'nafuu', 'na', 'kupunguza', 'bei', 'sana', 'kwa', 'mfano', 'ukiwa', 'na', 'Tsh', '1,200,000', '(', 'USD', '517', ')', 'unaweza', 'kupanda', 'mlima', 'Kilimanjaro', 'ambapo', 'mwanzoni', 'haikuwa', 'hivo', ',', 'na', 'mkiwa', 'wengi', 'zaidi', 'bei', 'inapungua', ',', '’', '’', 'anasema', 'Nancy', '.', 'Hata', 'hivyo', 'wapo', 'wajasiriamali', 'ambao', 'wamekuwa', 'wakilenga', 'soko', 'la', 'ndani', 'tangu', 'zamani', 'kama', 'vile', 'Juma', 'Rasheed', ',', 'mwanzilishi', 'wa', 'ExplorePhotoTrip', '.', 'Kampuni', 'hiyo', 'imepata', 'ufanisi', 'mkubwa', 'kwa', 'kuwasafirisha', 'watalii', 'katika', 'Pwani', 'ya', 'Kenya', 'na', 'nchini', 'Tanzania', '.', 'Rasheed', 'anasema', ':', '‘', '‘', 'tuliona', 'pengo', 'katika', 'utalii', 'wa', 'ndani', 'na', 'tukaanza', 'kutoa', 'bei', 'nafuu', 'kwa', 'Wakenya', 'na', 'raia', 'wa', 'Afrika', 'Mashariki', '.', 'Tulianzia', 'Mombasa', 'na', 'kuenea', 'hadi', 'Kenya', 'nzima', 'na', 'Tanzania', '.', 'Tulipata', 'mapokeo', 'mazuri', '.', 'Wakati', 'huu', 'wa', 'Covid-19', 'tulipoteza', 'biashara', '.', 'Lakini', 'kuanzia', 'mwezi', 'wa', 'tano', 'tulianza', 'mambo', 'kama', 'vile', 'kuendesha', 'baiskeli', 'na', 'madau', 'madogo', 'madogo', ',', 'na', 'wengi', 'waliweza', 'kutulipa', 'ili', 'watalii', 'nasi', '’', '’', '.', 'Je', ',', 'bodi', 'ya', 'utalii', 'ya', 'Tanzania', 'inafanya', 'nini', 'zaidi', 'kuimarisha', 'hali', '?', 'Sendwa', 'anasema', 'kuwa', 'wametoautambulisho', 'mpya', 'kwa', 'vivutio', 'nchini', 'humo', 'kwa', 'jina', '‘', 'Tanzania', 'Unforgettable', '’', 'pamoja', 'na', 'kuweka', 'matangazo', 'ya', 'kidijitali', 'yaani', 'dijital', 'marketing', 'kulenga', 'masoko', 'ya', 'nje', '.', '‘', '‘', 'Sisi', 'kikawaida', 'matangazo', 'yetu', 'huwa', 'tunaenda', 'kwenye', 'maonyesho', 'ya', 'ng', '’', 'ambo', 'kama', 'vile', 'ITB', '(', 'Internationale', 'Tourismus', 'Börse', ')', 'Berlin', ',', 'WTM', '(', 'World', 'Travel', 'Market', ')', 'ila', 'hilo', 'sasa', 'haliwezekani', '.', 'Kwa', 'hivyo', 'sasa', 'tunawahusisha', 'mabalozi', 'wetu', 'katika', 'nchi', 'za', 'nje', ',', '’', '’', 'anasema', 'Sendwa', '.', 'Umoja', 'wa', 'Mataifa', 'wasema', 'misaada', 'ya', 'kiutu', 'inaisha', 'Tigray', 'Watoto', 'wakicheza', 'karibu', 'na', 'soko', 'katika', 'mji', 'wa', 'kaskazini', 'wa', 'Humera', 'ambao', 'ulichukuliwa', 'na', 'jeshi', 'kutoka', 'kwa', 'wapiganaji', 'wa', 'TigrayImage', 'caption', ':', 'Watoto', 'wakicheza', 'karibu', 'na', 'soko', 'katika', 'mji', 'wa', 'kaskazini', 'wa', 'Humera', 'ambao', 'ulichukuliwa', 'na', 'jeshi', 'kutoka', 'kwa', 'wapiganaji', 'wa', 'Tigray', 'Wafanyakazi', 'wa', 'misaada', 'wa', 'Umoja', 'wa', 'Mataifa', 'wameonya', 'kwamba', 'misaada', 'ya', 'kiutu', 'inaelekea', 'kuisha', 'katika', 'jimbo', 'la', 'Ethiopia', 'la', 'Tigray', 'baada', 'ya', 'wiki', 'za', 'mashambulio', 'katika', 'jimbo', 'hilo', '.', 'Msemaji', 'wa', 'shirika', 'la', 'Umoja', 'wa', 'Mataifa', 'la', 'masuala', 'ya', 'kiutu', ',', 'Saviano', 'Abreu', ',', 'alisema', 'kuwa', 'shirika', 'hilo', 'limezuiwa', 'kutuma', 'wahudumu', 'na', 'misaada', '.', 'Katika', 'mkutano', 'na', 'BBC', ',', 'ametoa', 'wito', 'wa', 'uhuru', 'wa', 'matembezi', 'pamoja', 'na', 'kuwa', 'huru', 'kwa', 'raia', '.', 'Shirika', 'la', 'huduma', 'kwa', 'wakimbizi', 'la', 'Umoja', 'wa', 'Mataifa', 'linasema', 'idadi', 'ya', 'raia', 'waliovuka', 'mpaka', 'na', 'kuingia', 'Sudan', 'imeongezeka', 'na', 'kufikia', 'hadi', 'watu', '40,000', '.', 'Baraza', 'lausalama', 'la', 'Umoja', 'wa', 'Mataifa', 'linatarajia', 'kufanya', 'mkutanoJumanne', 'kujadili', 'mzozo', 'wa', 'mapigano', 'wa', 'Tigray', '.', 'Trump', 'aweka', 'sheria', 'mpya', 'kwa', 'wasafiri', 'kutoka', 'baadhi', 'ya', 'mataifa', 'ya', 'Afrika', 'AFPCopyright', ':', 'AFP', 'Raia', 'wa', 'nchi', '15', 'za', 'Afrika', 'watatakiwa', 'kutuma', 'hawala', 'za', 'hadi', 'dola', '15,000', '(', '£11,000', ')', 'ili', 'kuruhusiwa', 'kuingia', 'nchini', 'Marekani', ',', 'kwa', 'mujibu', 'wa', 'sheria', 'mpya', 'za', 'zitakazoanza', 'kutekelezwa', 'kuanzia', 'tarehe', '24', 'Disemba', '.', 'Mpango', 'wa', 'miezi', 'sita', 'wa', 'majaribio-unaowalenga', 'wale', 'wanaotafuta', 'Viza', 'za', 'matembezi', 'na', 'biashara-zitatumika', 'kama', 'malipo', 'kwa', 'wale', 'watakaokaa', 'zaidi', 'ya', 'vibali', 'vyao', 'vya', 'kuishi', 'nchini', 'humo', '.', 'Rais', 'Trump', 'ambaye', 'anaondoka', 'madarakani', ',', 'ambaye', 'alishindwa', 'katika', 'azma', 'yake', 'ya', 'kugombea', 'muhula', 'wa', 'pili', ',', 'aliweka', 'masharti', 'ya', 'uhamiaji', 'kama', 'sehemu', 'kuu', 'ya', 'mpango', 'wake', 'wa', 'miaka', 'minne', 'madarakani', '.', 'Rais', 'mteule', 'wa', 'Marekani', 'Joe', 'Biden', ',', 'kutoka', 'chama', 'cha', 'Democrat', ',', 'ameahidi', 'kubadilisha', 'nyingi', 'kati', 'ya', 'sera', 'za', 'Trump', 'za', 'uhamiaji', ',', 'lakini', 'mamia', 'ya', 'mabadiliko', 'ya', 'sheria', 'hizo', 'yanaweza', 'kuchukua', 'miezi', 'au', 'miaka', 'kadhaa', '.', 'Sheria', 'ya', 'hawala', 'ya', 'Viza', 'inazilenga', 'nchi', 'ambazo', 'raia', 'wake', 'walikuwa', 'na', 'kiwango', 'cha', '‘', '’', 'kukaa', 'zaidi', 'ya', 'muda', 'wa', 'unaokubalika', '’', '’', 'cha', '10', '%', 'au', 'cha', 'juu', 'zaidi', 'mwaka', '2019', 'na', 'sasa', 'watatakiwa', 'kulipa', 'hawala', 'ya', 'dola', '5,000', ',', '10,000', 'au', 'milioni', '15,000', 'ambazo', 'wanaweza', 'kurudishiwa', '..', 'Huku', 'nchi', 'hizo', 'zikiwa', 'na', 'viwango', 'vya', 'juu', 'vya', 'kuishi', 'zaidi', 'ya', 'muda', ',', 'raia', 'wake', 'wanaosafiri', 'kwenda', 'Marekani', 'ni', 'wachache', ',', 'linasema', 'Shirika', 'la', 'habari', 'la', 'Reuters', '.', 'Nchi', 'za', 'Afrika', 'zinazoathriwa', 'na', 'sheria', 'hii', 'mpya', 'ya', 'Trump', 'ni', 'pamoja', 'na', ':', 'Angola', ',', 'Burkina', 'Faso', ',', 'Chad', ',', 'Jamuhuri', 'ya', 'Kidemokrasi', 'ya', 'Kongo', ',', 'Djibouti', ',', 'Eritrea', ',', 'Gambia', ',', 'Guinea-Bissau', ',', 'Liberia', ',', 'Libya', ',', 'Mauritania', ',', 'Sudan', ',', 'Sao', 'Tome', 'na', 'Principe', ',', 'Cape', 'Verde', ',', 'na', 'Burundi', '.', 'Mbwa', 'kutumia', 'kuwatambua', 'wenye', 'mambukizi', 'ya', 'corona', 'Rwanda', 'Rwanda', 'na', 'Ujerumani', 'wamesaini', 'makubaliano', 'ya', 'ushirikiano', 'katika', 'mradi', 'wa', 'kutumia', 'mbwa', 'kuwatambua', 'walioambukia', 'virusi', 'vya', 'Corona', '.', 'Makubaliano', 'hayo', 'yamesainiwa', 'kati', 'ya', 'Balozi', 'wa', 'Rwanda', 'nchini', 'Ujerumani', 'Dkt', 'Thomas', 'Kurz', 'na', 'Mkuu', 'wa', 'kituo', 'cha', 'kitaifa', 'cha', 'utambuzi', 'wa', 'utambulisha', 'wa', 'watu', '(', 'RBC', ')', 'Dkt', 'Nzanimana', 'Sabin', '.', 'BBCCopyright', ':', 'BBC', 'Mradi', 'huo', 'uliopewa', 'jina', 'la', '‘', '’', 'utambuaji', 'wa', 'harufu', '’', '’', '(', 'scent', 'Identification', ')', 'utawahusisha', 'mbwa', 'waliopewa', 'mafunzo', 'maalum', 'ya', 'utambuzi', 'wa', 'watu', 'wenye', 'maambukizi', 'ya', 'Covid', '-19', 'na', 'hivyo', 'kuharakisha', 'juhudi', 'za', 'kuzuwia', 'usambaaji', 'zaidi', 'wa', 'virusi', 'vya', 'corona', '.', 'Elon', 'Musk', 'ampiku', 'Bill', 'Gates', 'na', 'kuwa', 'mtu', 'wa', 'pili', 'tajiri', 'zaidi', 'duniani', 'Utajiri', 'wa', 'Elon', 'Musk', ',', 'umetoana', 'na', 'kupanda', 'kwa', 'bei', 'ya', 'hisa', 'za', 'kampuni', 'yakeImage', 'caption', ':', 'Utajiri', 'wa', 'Elon', 'Musk', ',', 'umetoana', 'na', 'kupanda', 'kwa', 'bei', 'ya', 'hisa', 'za', 'kampuni', 'yake', 'Baada', 'ya', 'kumpiku', 'Mkurugenzi', 'mkuu', 'na', 'muasisi', 'wa', 'Facebook', ',', 'Mark', 'Zuckerberg', 'katika', 'orodha', 'ya', 'watu', 'tajiri', 'zaidi', 'duniani', '—', 'Mkurugenzi', 'mkuu', 'waTesla', 'CEO', 'bilionea', 'Elon', 'Musk', 'sasa', 'amempitaBill', 'Gates', 'na', 'kuchukua', 'nafasi', 'ya', 'pili', 'miongoni', 'mwa', 'watu', 'tajiri', 'zaidi', 'duniani', '.', 'Utajiri', 'wa', 'jumla', 'wa', 'Musk', 'umepanda', 'na', 'kufikia', 'hadi', 'ya', 'dola', 'bilioni', '7.2mwezi', 'Novemba', '23', ',', 'kutokana', 'na', 'bei', 'ya', 'hisa', 'za', 'kampuni', 'yake', 'ya', 'magari', 'ya', 'umeme-Tesla', ',', 'kwa', 'mujibu', 'wa', 'makadirio', 'Bloomberg', 'ya', 'kiwango', 'cha', 'utajiri', '.', 'Utajiri', 'wa', 'Elon', 'Musk', 'kwa', 'sasa', 'dola', 'bilioni', '127.9', 'Hii', 'ni', 'moja', 'ya', 'faida', 'ya', 'utajiri', 'miongoni', 'mwa', 'watu', '500', 'matajiri', 'zaidi', 'duniani', '.', 'Musk', 'aliongeza', 'zaidi', 'ya', 'dola', 'bilioni100.3', 'juu', 'ya', 'utajiri', 'aliokuwa', 'nao', 'mwaka', 'huu', '.', 'ReutersCopyright', ':', 'Reuters', 'Elon', 'Musk', '(', 'kushoto', ')', 'sasa', 'ndiye', 'anayechukua', 'nafasi', 'ya', 'pili', 'ya', 'mtu', 'tajiri', 'zaidi', 'akimfuata', 'Jeff', 'Bezos', '(', 'kulia', ')', 'Image', 'caption', ':', 'Elon', 'Musk', '(', 'kushoto', ')', 'sasa', 'ndiye', 'anayechukua', 'nafasi', 'ya', 'pili', 'ya', 'mtu', 'tajiri', 'zaidi', 'akimfuata', 'Jeff', 'Bezos', '(', 'kulia', ')', 'Mwezi', 'Januari', 'mwaka', '2020', ',', 'alikuwa', 'nambari', '35', 'katika', 'orodha', 'ya', 'matajiri', 'duniani', ',', 'lakini', 'kuongezeka', 'kwa', 'bei', 'ya', 'hisa', 'za', 'kampuni', 'yake', 'ya', 'Tesla', 'kumemfanya', 'awapite', 'mabilionea', 'wengine', 'duniani', '.', 'Kupanda', 'kwa', 'utajiri', 'wa', 'Musk', 'kunakuja', 'huku', 'soko', 'la', 'hisa', 'za', 'magari', 'ya', 'umeme', '-Tesla', 'zikiongezeka', 'na', 'kufikia', 'karibu', 'milioni', '500', 'Jumatatu', '.', 'Hii', 'ni', 'mara', 'ya', 'pili', 'katika', 'historia', 'ya', 'orodha', 'ya', 'mabilionea', 'ya', 'Bloomberg', 'ambapo', 'Bill', 'Gates', 'ameshuka', 'chini', 'ya', 'namba', 'mbili', '.', 'Gates', 'alishikilia', 'nafasi', 'ya', 'kwanza', 'kabla', 'ya', 'nafasi', 'hiyo', 'kunyakuliwa', 'na', 'muasisi', 'wa', 'kampuni', 'ya', 'mauzo', 'ya', 'mtandanoni', ',', 'Amazon', ',', 'Jeff', 'Bezos', 'mwaka', '2017', '.', 'ReutersCopyright', ':', 'Reuters', 'Utajiri', 'wa', 'Bill', 'Gates', 'umepungua', 'baada', 'ya', 'kuutumia', 'kwa', 'shughuli', 'za', 'misaadaImage', 'caption', ':', 'Utajiri', 'wa', 'Bill', 'Gates', 'umepungua', 'baada', 'ya', 'kuutumia', 'kwa', 'shughuli', 'za', 'misaada', 'Bill', 'Gates', 'kwa', 'sasa', 'ana', 'jumla', 'ya', 'utajiri', 'wa', 'thamani', 'yadola', 'bilioni', '127.7', ',', 'na', 'angekuwa', 'wa', 'kwanza', 'asingetoa', 'msaada', 'kwa', 'mashirika', 'ya', 'misaada', 'ya', 'kiutu', 'kwa', 'miaka', 'mingi', '.', 'Gates', 'ametoa', 'msaada', 'wa', 'zaidi', 'ya', 'dola', 'bilioni', '27', 'kupitia', 'Wakfu', 'wa', 'Bill', '&', 'Melinda', 'Gates', ',', 'tangu', 'mwaka', '2006', ',', 'kwa', 'mujibu', 'wa', 'Bloomberg', '.', 'Si', 'Musk', 'peke', 'yake', 'aliyeongeza', 'utajiri', '.', 'Mwaka', 'huu', 'umekuwa', 'wa', 'neema', 'kwa', 'matajiri', 'zaidi', 'duniani', 'licha', 'ya', 'janga', 'la', 'corona', 'kukwamisha', 'biashara', 'nyingi', '.', 'Ni', 'kwanini', 'wakazi', 'eneo', 'la', 'Kunduchi', 'Mtongani', 'Tanzania', 'wanashauriwa', 'wahame', '?', 'BBCCopyright', ':', 'BBC', 'Athari', 'za', 'hali', 'ya', 'kijiolojia', 'inayofahamika', 'kitaalamu', 'kama', 'liquefaction', 'nchini', 'IndonesiaImage', 'caption', ':', 'Athari', 'za', 'hali', 'ya', 'kijiolojia', 'inayofahamika', 'kitaalamu', 'kama', 'liquefaction', 'nchini', 'Indonesia', 'Wakazi', 'wa', 'Kunduchi', 'Mtongani', 'Jijini', 'Dar', 'es', 'Salaam', 'wameshauriwa', 'kuhama', 'maeneo', 'yao', 'baada', 'ya', 'kutokea', 'kwa', 'hali', 'ya', 'kijiolojia', 'inayofahamika', 'kwa', 'lugha', 'ya', 'kitaalamu', 'kama', \"'Liquefaction\", \"'\", '.', 'Akizungumza', 'na', 'BBC', 'mtaalamu', 'wa', 'jiolojia', 'nchini', 'Tanzania', ',', 'Gabriel', 'Mbogoni', 'amesema', 'hali', 'hii', 'hutokana', 'na', 'mabadiliko', 'ya', 'jiolojia', 'ambayo', 'mara', 'nyingi', 'hutokea', 'sehemu', 'ambayo', 'kuna', 'mchanga', 'au', 'udongo', 'ambao', 'haujajishindilia', 'vyema', 'na', 'hivyo', 'kunakuwa', 'na', 'sehemu', 'za', 'wazi', 'katika', 'udongo', 'ambazo', 'huchanganyikana', 'na', 'maji', 'na', 'hivyo', 'kutengeneza', 'tope', 'linalojitokeza', 'juu', 'ya', 'ardhi', '.', 'BBCCopyright', ':', 'BBC', 'Nchini', 'Indonesia', 'Liquefaction', 'ilihamisha', 'eneo', 'lote', 'la', 'kijijiImage', 'caption', ':', 'Nchini', 'Indonesia', 'Liquefaction', 'ilihamisha', 'eneo', 'lote', 'la', 'kijiji', 'Kwa', 'kawaida', 'udongo', 'huwa', 'na', 'chembechembe', ',', 'lakini', 'katika', 'eneo', 'kama', 'la', 'Kunduchi', 'Mtongani', 'chembechembe', 'za', 'udongo', 'huacha', 'nafasi', 'ambazo', 'hujazwa', 'na', 'maji', 'na', 'hivyo', 'kuifanya', 'ardhi', 'kutokuwa', 'thabiti', 'kuweza', 'kuhimili', 'uzito', 'wa', 'vitu', 'kama', 'majengo', 'ya', 'nyumba', ',', 'na', 'shughuli', 'mbalimbali', 'za', 'binadamu', 'na', 'wanyama', ',', 'anasema', 'Bw', 'Gabriel', 'Mbogoni', '.', 'Aidha', 'anasema', 'kutokana', 'na', 'hali', 'hii', 'ya', 'kijiolojia', 'maeneo', 'kama', 'Kunduchi', 'Mtongani', 'yana', 'uwezekano', 'mkubwa', 'wa', 'kupata', 'matetemeko', 'ya', 'ardhi', 'na', 'hivyo', 'kuhatarisha', 'nyumba', 'zilizojengwa', 'katika', 'ardhi', 'ambayo', 'sio', 'imara', '.', '‘', '’', 'Wakazi', 'wa', 'maeneo', 'haya', 'wanashauriwa', 'kuondoka', 'mahali', 'hapo', 'kwasababu', 'ardhi', 'ya', 'hapo', 'kutoweza', 'kuhimili', 'uzito', 'wa', 'majengo', '’', '’', ',', 'amesema', 'Bw', 'Mbogoni', '.', 'Jumapili', 'Mkuu', 'wa', 'Mkoa', 'wa', 'Dar', 'es', 'salaam', 'Bw', 'Aboubakar', 'Kunenge', 'aliwaelekeza', 'baadhi', 'ya', 'Wakazi', 'wa', 'eneo', 'la', 'Kunduchi', 'Mtongani', 'ambao', 'nyumba', 'zao', 'zimepitiwa', 'na', 'uji', 'uji', 'wa', 'tope', 'linalofuka', 'kutoka', 'ardhini', ',', 'hivyo', 'kuhama', 'mara', 'moja', 'ili', 'kujikinga', 'na', 'maafa', 'wakati', 'Serikali', 'inaendelea', 'kufanya', 'utafiti', 'wa', 'kujua', 'ukubwa', 'wa', 'eneo', 'lililoathirika', 'ndio', 'jambo', 'muhimu', '.', 'Bunge', 'la', 'Uingereza', 'laidhinisha', 'vikwazo', 'dhidi', 'maafisa', 'wa', 'Nigeria', 'Maandamano', 'ya', 'kupinga', 'ukatili', 'wa', 'polisi', 'nchini', 'Nigeria', 'yalisababisha', 'vuguvugu', 'kubwa', 'la', 'kijamiiImage', 'caption', ':', 'Maandamano', 'ya', 'kupinga', 'ukatili', 'wa', 'polisi', 'nchini', 'Nigeria', 'yalisababisha', 'vuguvugu', 'kubwa', 'la', 'kijamii', 'Bunge', 'la', 'Uingereza', 'limepiga', 'kura', 'ya', 'kuunga', 'mkono', 'uwezekano', 'wa', 'serikali', 'wa', 'kuwawekea', 'vkwazo', 'maafisa', 'wa', 'Nigeria', 'waliohusika', 'katika', 'madai', 'ya', 'matumizi', 'ya', 'nguvu', 'dhidi', 'ya', 'waandamanaji', 'waliokuwa', 'wakiandamana', 'kwa', 'amani', 'mwezi', 'uliopita', 'ya', 'kupinga', 'ukatili', 'wa', 'polisi', '.', 'Kura', 'hiyo', 'ilikuwa', 'ni', 'matokeo', 'ya', 'ombi', 'lililoletwa', 'mbele', 'ya', 'bunge', 'la', 'Uingereza', 'ambalo', 'lilisainiwa', 'na', 'watu', 'zaidi', 'ya', '220,000', '.', 'Wabunge', 'wa', 'Uingereza', 'walisema', 'kuwa', 'vikwazo', 'dhidi', 'ya', 'Nigeria', 'vinaweza', 'kuumiza', 'umma', 'wa', 'Wanigeria', '.', 'Kwahiyo', 'walitoa', 'wito', 'wa', 'kufanyika', 'kwa', 'uchunguzi', 'huru', 'kuhusiana', 'na', 'unyanyasaji', 'na', 'wakaitaka', 'serikali', 'ya', 'Uingereza', 'kuwalenga', 'maafisa', 'waliohusika', 'katika', 'ufyatuaji', 'wa', 'risasi', 'dhidi', 'ya', 'waandamanaji', 'katika', 'maandamano', 'ya', 'mwezi', 'uliopita', 'dhidi', 'ya', 'ukatili', 'wa', 'polisi', '.', 'Wabunge', 'walirejelea', 'mara', 'kwa', 'mara', 'madai', 'ya', 'matumizi', 'ya', 'nguvu', 'ya', 'polisi', 'dhidi', 'ya', 'waandamanaji', 'katika', 'eneo', 'la', 'Lekki', 'tollgate', 'mjini', 'Lagos', '.', 'Pia', 'walilaani', 'kitendo', 'cha', 'kufuja', 'akaunti', 'za', 'benki', 'za', 'waandalizi', 'wa', 'maandamano', 'ya', 'amani', 'ambayo', 'yalikuwa', 'ni', 'muhimu', 'kwa', 'demokrasia', '.', 'Baadhi', 'ya', 'wabunge', 'walihoji', 'nafasi', 'ya', 'Uingereza', 'katika', 'kutoa', 'mafunzo', 'kwa', 'vikosi', 'vya', 'Nigeria', 'na', 'silaha', 'kwa', 'kwa', 'nchi', 'hiyo', '.', 'Mbunge', 'aliyezungumza', 'kwa', 'niaba', 'ya', 'waziri', 'wa', 'Uingereza', 'wa', 'masuala', 'ya', 'Afrika', 'aliafiki', 'uamuzi', 'wa', 'Nigeria', 'wa', 'kuchunguza', 'madai', 'ya', 'ukiukaji', 'wa', 'haki', 'za', 'binadamu', 'na', 'kuvunjwa', 'kwa', 'kikosi', 'tata', 'cha', 'polisi-', 'cha', 'kukabiliana', 'na', 'ujambazi', '.', 'Lakini', 'bila', 'utelezwaji', 'wa', 'wazo', 'la', 'kuweka', 'vikwazo', 'Wabunge', 'walisema', 'Uingereza', 'itaendelea', 'kushinikiza', 'serikali', 'ya', 'Nigeria', 'kuheshimu', 'haki', 'za', 'binadamu', '.', 'Chanjo', 'ya', 'corana', 'kuuzwa', 'kwa', 'bei', 'nafuu', 'kwa', 'nchi', 'masikini', 'Shirika', 'la', 'Unicef', 'limetangaza', 'kuhusu', 'mkakati', 'wake', 'wa', 'kusambaza', 'chanjo', 'ya', 'Covid-19', 'kwa', 'Kenya', 'na', 'nchi', 'nyingine', 'zinazoendelea', ',', 'limeripoti', 'gazeti', 'la', 'daily', 'Nation', 'nchini', 'Kenya', '.', 'Chanjo', 'zote', 'zitakazonunuliwa', 'kupitia', 'Covax', 'zitauzwa', 'kwa', 'shilingi', '300', 'za', 'Kenya', '(', 'takriban', 'dola', '3', ')', 'kwa', 'nchi', 'zinazoendelea', '.', 'Shirika', 'hilo', 'la', 'watoto', 'duniani', 'linasema', 'kuwa', 'limefanya', 'mkataba', 'na', 'zaidi', 'ya', 'ndege', '350', 'na', 'makampuni', 'mengine', 'ya', 'safari', 'za', 'anga', 'kwa', 'ajili', 'ya', 'kusambaza', 'sindano', 'bilioni', 'billion', 'na', 'chanjo', '.', 'Takriban', 'sindano', 'milioni', '500', 'za', 'chanjo', 'zitaletwa', 'mwaka', 'ujao', '.', 'Shirika', 'hilo', 'Jumatatu', 'lilisema', 'kuwa', 'hii', 'itakuwa', 'ni', 'operesheni', 'kubwa', 'na', 'ya', 'haraka', 'ya', 'aina', 'yake', 'kuwahi', 'kufanywa', 'na', 'shirika', 'hilo', '.', 'Wataalamu', 'wa', 'Kenya', 'wanatarajia', 'kupokea', 'chanjo', 'za', 'Covid-19', 'kwa', 'asilimia', '20', 'kwa', 'ajili', 'ya', 'Wakenya', '.', 'Wahudumu', 'wa', 'afya', 'watakuwa', 'wa', 'kwanza', 'kunufaika', 'kwa', 'kuchanjwa', ',', 'wakifuatiwa', 'na', 'makundi', 'yaliyomo', 'katika', 'hatari', 'zaidi', 'kama', 'vile', 'wazee', '.', 'Likiwa', 'ni', 'mnunuzi', 'mkubwa', 'wa', 'chanjo', 'duniani', ',', 'Unicef', 'kwa', 'kawaida', 'hununua', 'zaidi', 'ya', 'dozi', 'zaidi', 'ya', 'bilioni', 'mbili', 'kwa', 'mwaka', 'kwa', 'ajili', 'ya', 'chanjo', 'ya', 'kawaida', 'na', 'kwa', 'ajili', 'ya', 'milipuko', 'ya', 'magonjwa', 'kwa', 'niaba', 'ya', 'karibu', 'nusu', 'ya', 'nchi', '100', '.', 'Jumatatu', ',', 'Chuo', 'kikuu', 'cha', 'Oxford', 'na', 'Astrazeneca', 'pia', 'walitangaza', 'matokeo', 'ya', 'hatua', 'ya', 'tatu', 'ya', 'uchunguzi', 'wa', 'chanjo', 'zao', '.', 'Hii', 'ndio', 'chanjo', 'ambayo', 'inafanyiwa', 'majaribio', 'katika', 'eneo', 'la', 'Kilifi', ',', 'lakini', 'matokeo', 'yaliyotangazwa', 'hayajumuishi', 'data', 'kutoka', 'Kenya', '.']\n",
      "\n",
      " Number of Words:  2280\n"
     ]
    }
   ],
   "source": [
    "file=\"20nov24_1.txt\"\n",
    "\n",
    "# calling the function and storing the contents in a text variable \n",
    "text = get_document(\"https://www.bbc.com/swahili/live/habari-55055159\")\n",
    "\n",
    "# calling the store_ document function \n",
    "store_document(doc=text,name=file)\n",
    "\n",
    "#add the words in this file to the total_corpus_words, to keep count of the number of words in the corpus\n",
    "total_corpus_words+=total_words(file)"
   ]
  },
  {
   "cell_type": "code",
   "execution_count": 193,
   "metadata": {},
   "outputs": [
    {
     "data": {
      "text/plain": [
       "367307"
      ]
     },
     "execution_count": 193,
     "metadata": {},
     "output_type": "execute_result"
    }
   ],
   "source": [
    "total_corpus_words"
   ]
  },
  {
   "cell_type": "code",
   "execution_count": 194,
   "metadata": {},
   "outputs": [
    {
     "name": "stdout",
     "output_type": "stream",
     "text": [
      "['Mkurugenzi', 'wa', 'uchunguzi', 'wa', 'mashtaka', 'ya', 'jinai', 'nchini', 'Kenya', 'George', 'Kinoti', 'amefafanua', 'kwana', 'ofisi', 'yake', 'haina', 'mpango', 'wa', 'kufufua', 'upya', 'kesi', 'zilizopita', 'za', 'ghasia', 'za', 'baada', 'ya', 'uchaguzi', 'wa', 'maka', '2007', 'kama', 'inavyodaiwa', 'na', 'baadhi', 'ya', 'viongozo', 'nchini', 'humo', '.', 'Katika', 'taarifa', 'iliyochapishwa', 'katika', 'Twitter', 'yake', 'rasmi', 'Bwana', 'Kinoti', 'amesema', 'kesi', 'zinachunguzwa', 'na', 'ofisi', 'yake', 'ni', 'zile', 'zilizoripotiwa', 'hivi', 'karibuni', '.', \"''DCI\", 'hivi', 'karibuni', 'imepokea', 'malalamishi', 'kutoka', 'kwa', 'baadhi', 'ya', 'watu', 'wanaohofia', 'maisha', 'na', 'mali', 'yao', 'imo', 'hatarini', 'baada', 'ya', 'kupokea', 'vitisho', \"''\", 'ilisema', 'taarifa', 'hiyo', '.', 'Jukumu', 'ka', 'DCI', 'kila', 'inapo', 'pokea', 'malalmishi', 'kama', 'hayo', 'kutoka', 'kwa', 'mtu', 'au', 'makundi', 'ya', 'watu', 'kuhusu', 'vitisho', 'dhidi', 'ya', 'usalama', 'wao', ',', 'jukumu', 'letu', 'ni', 'kuchunguza', 'kwa', 'makini', 'bila', 'kupendelea', 'upande', 'wowote', '.', 'Na', 'kulingana', 'na', 'matokeo', 'ya', 'uchunguzi', 'tunafungua', 'mashtaka', 'ushaidi', 'ukipatikana', 'au', 'kufunga', 'kesi', 'hiyo', 'ushahidi', 'ukikosekana', 'na', 'polisi', 'haichukui', 'hatua', 'nyingine', 'baada', 'ya', 'hapo', \"''\", 'Akiashiria', 'uchunguzi', 'wa', 'sasa', 'Bwana', 'Kinoti', 'amesema', 'tangazo', 'yake', 'la', 'siku', 'ya', 'Jumatatu', 'kwa', 'umma', 'halihusiani', 'kwa', 'nia', 'yoyote', 'na', 'kesi', 'zilizopita', 'ambazo', 'zilichunguzwa', 'na', 'na', 'kufungwa', '.', 'Pia', 'ametoa', 'wito', 'kwa', 'kwatu', 'wanaopotosha', 'umma', 'kuhusu', 'taarifa', 'yake', 'ya', 'awali', '.', 'Viongozi', 'mbalimbali', 'nchini', 'Kenya', 'wamemshutumu', 'mkurugenzi', 'wa', 'uchunguzi', 'wa', 'mashtaka', 'ya', 'jinai', 'nchini', 'Kenya', 'George', 'Kinoti', 'kufuatia', 'hatua', 'yake', 'ya', 'kufufua', 'kesi', 'za', 'ghasia', 'za', 'baada', 'ya', 'uchaguzi', 'wa', '2007/08', '.', 'Hatahivyo', 'kulingana', 'na', 'taarifa', 'iliochapishwa', 'na', 'afisi', 'ya', 'mkurugenzi', 'huyo', 'katika', 'mtandao', 'wa', 'twitter', 'amesisitiza', 'kwamba', 'ni', 'kesi', 'mpya', 'pekee', 'ambazo', 'zitashughulikiwa', '.', 'Hapo', 'Jana', 'kiongozi', 'wa', 'chama', 'cha', 'kisiasa', 'cha', 'Narc', 'Kenya', 'Martha', 'Karua', 'alisema', 'kwamba', 'hatoomba', 'msamaha', 'kwa', 'kumuwakilisha', 'rais', 'wa', 'zamani', 'Mwai', 'Kibaki', 'mwaka', '2007', 'baada', 'ya', 'jina', 'kulitaja', 'jina', 'lake', 'katika', 'kesi', 'hiyo', '.', '``', 'Watu', 'waliowaagiza', 'wafuasi', 'wao', 'kuua', ',', 'kupora', 'na', 'kutekeleza', 'ghasia', 'kama', 'njia', 'ya', 'kuchukua', 'mamlaka', 'kwa', 'nguvu', ',', 'wanapaswa', 'kubeba', 'msalaba', 'wao', 'wa', 'kusababisha', 'ghasia', 'za', 'PEV', '.', 'Huwezi', 'kufuta', 'historia', 'kwa', 'kutumia', 'jina', 'langu', 'kuwasafisha', ',', 'wala', 'huwezi', 'kunitisha', 'au', 'kunizuia', 'kwa', 'kusema', 'uwongo', \"''\", '.', 'Wakitoa', 'maoni', 'yao', 'kupitia', 'mitandao', 'ya', 'kijamii', ',', 'viongozi', 'mbalimbali', 'walitaja', 'hatua', 'hiyo', 'ya', 'bwana', 'Kinoti', 'kama', 'ilioshinikizwa', 'kisiasa', 'kabla', 'ya', 'uchaguzi', 'wa', '2022', '.', 'Seneta', 'wa', 'Nakuru', 'Susan', 'Kihika', 'alimshutumu', 'bwana', 'Kinoti', 'kwa', 'kujaribu', 'kuchochea', 'jamii', 'na', 'kuzua', 'hali', 'ya', 'wasiwasi', 'nchini', 'Aliionya', 'serikali', 'kwa', 'kutumia', 'vifaa', 'vya', 'serikali', 'kwa', 'lengo', 'la', 'kuwanyamazisha', 'wapinzani', 'wa', 'kisiasa', '.', \"''Munapomtumia\", 'mtu', 'kama', 'Kinoti', 'ili', 'kujaribu', 'kuongeza', 'wasiwasi', 'na', 'kuchochea', 'jamii', 'dhidi', 'yazo', 'utajua', 'wanatapatapa', '.', 'Tunatumai', 'hawatawauwa', 'watu', ',', 'kuchoma', 'nyumba', 'ili', 'kuafikia', 'taarifa', 'ya', 'kinoti', \"''\", ',', 'alichapisha', 'ujumbe', 'katika', 'mtandao', 'wa', 'twitter', ',', 'akiongezea', 'kwamba', 'Wakenya', 'wanapaswa', 'kuishi', 'kwa', 'amani', '.', 'Kwa', 'upande', 'wake', 'Seneta', 'wa', 'Kericho', 'Aaron', 'Cheruiyot', 'alitaja', 'hatua', 'hiyo', 'kama', 'ya', 'aibu', 'akisema', 'kwamba', 'Kinoti', 'hatofanikiwa', 'zaidi', 'ya', 'Shirika', 'la', 'haki', 'za', 'kibinadamu', 'la', 'Kenya', 'Human', 'Rights', 'na', 'tume', 'ya', 'kuchunguza', 'ghasia', 'za', 'baada', 'ya', 'uchaguzi', 'CIPEV', '.', '``', 'Ni', 'aibu', 'sana', 'kwa', 'bwana', 'Kinoti', 'kuzua', 'tena', 'masuala', 'kama', 'hayo', 'yasioisha', 'kwa', 'kuwatumia', 'waathiriwa', 'wa', 'ghasia', 'hizo', 'za', '2007', '.', 'Hawezi', 'kusema', 'kwamba', 'ana', 'uwezo', 'kufanya', 'uchunguzi', 'zaidi', 'ya', 'KNHRC', 'na', 'tume', 'ya', 'waki', \"''\", ',', 'alisema', '.', 'Upande', 'wake', 'Seneta', 'Mutula', 'Kilonzo', 'Jnr', 'pia', 'aliingilia', 'mjadala', 'huo', 'aksema', 'kwamba', 'ufufuzi', 'wa', 'kesi', 'hizo', 'kwa', 'lengo', 'la', 'kuwatishia', 'watu', 'binafsi', 'unapaswa', 'kuchunguzwa', '.', 'Alishangazwa', 'kwanini', 'vifaa', 'vya', 'usalama', 'vya', 'serikali', 'vilikosa', 'kupata', 'ushahidi', 'mwaka', '2008', 'ili', 'kuwashtaki', 'wahusika', 'kabla', 'ya', 'kubadilika', 'na', 'kudai', 'kwamba', 'vinaandaa', 'kesi', 'kali', 'dhidi', 'ya', 'washukiwa', '.', 'Je', 'Mkurugenzi', 'huyo', 'wa', 'uhalifu', 'wa', 'Jinai', 'alisema', 'nini', '?', 'Siku', 'ya', 'Jumatatu', 'mkurugenzi', 'huyo', 'wa', 'jinai', 'aliahidi', 'kuwasilisha', 'mahakamani', 'kesi', 'nzito', 'yenye', 'ushahidi', 'dhidi', 'ya', 'washukiwa', 'wa', 'ghasia', 'za', 'baada', 'ya', 'uchaguzi', 'wa', '2007', 'baada', 'ya', 'kupokea', 'taarifa', 'kutoka', 'kwa', 'baadhi', 'ya', 'waathiriwa', 'katika', 'makao', 'makuu', 'ya', 'jinai', '.', 'Alisema', 'kwamba', 'maafisa', 'wa', 'polisi', 'tayari', 'wamekusanya', 'sampuli', '118', 'za', 'kesi', 'kutoka', 'kwa', 'mashahidi', 'na', 'walalamishi', 'ambazo', 'zinashirikisha', 'kesi', '48', 'za', 'kuwafurusha', 'watu', 'kwa', 'kutumia', 'nguvu', 'katika', 'makaazi', 'yao', '.', 'Alisema', 'kwamba', 'ana', 'matumaini', 'katika', 'ukusanyaji', 'wa', 'ushhaidi', 'akisema', 'kwamba', 'polisi', 'wataanzaa', 'kesi', 'kali', 'ambayo', 'wahalifu', 'hawataweza', 'kuikwepa', '.', 'Tutabeba', 'biblia', 'na', 'kuapa', 'mbele', 'ya', 'mahakama', 'tukisema', 'kwamba', 'mtu', 'huyu', 'alimuua', 'mwenzake', 'na', 'kuchukua', 'ardhi', 'yake', ',', 'alisema', '.', 'Akizungumza', 'kwa', 'hasira', ',', 'Kinoti', 'alizungumzia', 'kuhusu', 'kiongozi', 'mmoja', 'wa', 'dini', 'ambaye', 'alifariki', 'mbele', 'ya', 'washambuliaji', 'wake', 'akiwa', 'amepiga', 'magoti', 'akiwaomba', 'kumwachilia', 'lakini', 'hawakumsikiza', '.', 'Ghasia', 'za', 'baada', 'ya', 'uchaguzi', 'Baada', 'ya', 'uchaguzi', 'wa', 'mwaka', '2007/8', 'kiongozi', 'wa', 'upinzania', 'Raila', 'Odinga', 'alisema', 'kuwa', 'wafuasi', 'wa', 'aliyekuwa', 'rais', 'Mwai', 'Kibaki', \"'walimuibia\", 'kura', \"'\", 'hali', 'iliyowapelekea', 'kufanya', 'maandamano', 'na', 'ghasia', '.', 'Punde', 'baadaye', ',', 'hali', 'iliyoibuka', 'ilikuwa', 'mashambulizi', 'ya', 'kulipiza', 'kisasi', 'kwa', 'misingi', 'ya', 'ukabila', ',', 'hususan', 'katika', 'maeneo', 'ya', 'watu', 'wengi', 'wenye', 'mchanganyiko', 'wa', 'makabila', ',', '.', 'Takriban', 'watu', '1,000', 'waliuawa', 'na', 'wengine', 'laki', 'sita', 'kuachwa', 'bila', 'makao', '.', 'Wakenya', 'wanne', 'akiwemo', 'rais', 'Uhuru', 'Kenyatta', 'na', 'naibu', 'wake', 'William', 'Ruto', 'walikabiliwa', 'na', 'mashtaka', 'katika', 'mahakama', 'kuhusu', 'uhalifu', 'wa', 'kivita', 'iliopo', 'the', 'Hague', 'mwezi', 'Aprili', '.', 'Hatahivyo', 'kesi', 'hiyo', 'ilikosa', 'ushahidi', 'wa', 'kutosha', 'na', 'kutupiliwa', 'mbali', 'na', 'mahakama', 'hiyo', ',', 'huku', 'washukiwa', 'hao', 'wakiachiliwa', 'huru', '.']\n",
      "\n",
      " Number of Words:  822\n"
     ]
    }
   ],
   "source": [
    "file=\"20nov24_2.txt\"\n",
    "\n",
    "# calling the function and storing the contents in a text variable \n",
    "text = get_document(\"https://www.bbc.com/swahili/habari-55054007\")\n",
    "\n",
    "# calling the store_ document function \n",
    "store_document(doc=text,name=file)\n",
    "\n",
    "#add the words in this file to the total_corpus_words, to keep count of the number of words in the corpus\n",
    "total_corpus_words+=total_words(file)"
   ]
  },
  {
   "cell_type": "code",
   "execution_count": 195,
   "metadata": {},
   "outputs": [
    {
     "data": {
      "text/plain": [
       "368129"
      ]
     },
     "execution_count": 195,
     "metadata": {},
     "output_type": "execute_result"
    }
   ],
   "source": [
    "total_corpus_words"
   ]
  },
  {
   "cell_type": "code",
   "execution_count": 197,
   "metadata": {},
   "outputs": [
    {
     "name": "stdout",
     "output_type": "stream",
     "text": [
      "['Rais', 'Kenyatta', 'azindua', 'rasmi', 'mchakato', 'wa', 'mbadiliko', 'ya', 'katiba', 'Rais', 'wa', 'Kenya', 'Uhuru', 'Kenyatta', 'amezindua', 'rasmi', 'mpango', 'maalum', 'wa', 'kukusanya', 'saini', 'zitakazo', 'anzisha', 'mchakato', 'wa', 'kura', 'ya', 'maoni', 'ili', 'kufanyia', 'marekebisho', 'katiba', '.', 'Kinyume', 'na', 'ahadi', 'ya', 'Rais', 'Uhuru', 'Kenyatta', 'kuwa', 'mchakato', 'huo', 'ni', 'wa', 'kuunganisha', 'wakenya', 'wote', ',', 'Naibu', 'wa', 'Rais', 'William', 'Ruto', 'na', 'baadhi', 'ya', 'wabunge', 'wanaomuunga', 'mkono', 'walisusia', 'zoezi', 'hilo', '.', 'Juhudi', 'za', 'Bwana', 'Ruto', 'za', 'kupinga', 'mageuzi', 'ya', 'katiba', ',', 'kama', 'inavyopendekezwa', 'na', 'rais', 'Uhuru', 'Kenya', 'na', 'aliyekuwa', 'waziri', 'mkuu', 'Raila', 'Odinga', ',', 'zinaonekana', 'kugonga', 'mwamba', 'baada', 'ya', 'Rais', 'kenyatta', 'kuzindua', 'rasmi', 'mchakato', 'wa', 'kukusanya', 'sahihi', 'ili', 'kuidhinisha', 'kura', 'ya', 'maoni', 'ya', 'kubadili', 'katiba', '.', 'Ruto', 'ambaye', 'amekuwa', 'mkosoaji', 'wa', 'mchakato', 'huo', 'wa', 'kufanya', 'mageuzi', 'ya', 'kikataba', 'hakuhuduria', 'hafla', 'hiyo', 'sawa', 'na', 'wabunge', 'wanaomuunga', 'mkono', 'ambao', 'wote', 'wamedai', 'kuwa', 'zoezi', 'la', 'kubadili', 'katiba', 'sio', 'suala', 'la', 'dharura', 'na', 'badala', 'yake', 'fedha', 'ambazo', 'zitatumika', 'katika', 'mpango', 'huo', 'kutumiwa', 'kukabiliana', 'na', 'janga', 'la', 'corona', 'na', 'kufadhili', 'miradi', 'ya', 'maendeleo', 'ili', 'kupunguza', 'viwango', 'vya', 'umaskini', '.', 'Lakini', 'akiongea', 'wakati', 'wa', 'hafla', 'hiyo', 'Rais', 'Kenyatta', 'alisema', 'mpango', 'huo', 'wa', 'kubadilisha', 'katiba', 'unadhamiria', 'kumaliza', 'mizozo', 'ya', 'kisiasa', 'ambayo', 'imeshuhudiwa', 'nchini', 'kenya', 'kila', 'baada', 'ya', 'uchaguzi', 'mkuu', '.', 'Hata', 'hivyo', 'Wakenya', 'wengi', 'wanasema', 'kuwa', 'licha', 'ya', 'rais', 'Uhuru', 'Kenyatta', 'kushinikiza', 'kuidhinishwa', 'kwa', 'katiba', 'mpya', ',', 'wao', 'hawajapokea', 'nakala', 'ya', 'rasimu', 'hiyo', 'ya', 'katiba', 'au', 'hawafahamu', 'yaliyomo', 'kwenye', 'mapendekezo', 'mapya', '.', 'Shughuli', 'ya', 'kukusanya', 'saini', 'hizo', 'itaendelea', 'kwa', 'muda', 'wa', 'wiki', 'moja', 'kabla', 'ya', 'kuwasilisha', 'kwa', 'tume', 'ya', 'uchaguzi', '.', 'BBI', 'inapendekeza', 'nini', '?', 'Ajenda', 'za', 'kuundwa', 'kwa', 'Jopo', 'la', 'Maridhiano', '(', 'BBI', ')', 'zilikuwa', 'pamoja', 'na', 'jinsi', 'ya', 'kumaliza', 'migawanyiko', 'ya', 'kikabila', ',', 'kuwashirikisha', 'watu', 'wote', 'kuhusu', 'masuala', 'ya', 'utawala', 'na', 'siasa', 'za', 'Kenya', ',', 'jinsi', 'ya', 'kushughulikia', 'suala', 'la', 'kumaliza', 'uhasama', 'wa', 'kisiasa', 'unaotokea', 'wakati', 'wa', 'uchaguzi', 'mkuu', ',', 'kuimarisha', 'amani', 'na', 'usalama', ',', 'kukabiliana', 'na', 'janga', 'la', 'ufisadi', ',', 'kukabiliana', 'na', 'ukosefu', 'wa', 'maadili', 'ya', 'kitaifa', ',', 'masuala', 'ya', 'majukumu', 'na', 'haki', 'za', 'raia', ',', 'kuwajibika', 'kwa', 'pamoja', 'na', 'jinsi', 'ya', 'kuendeleza', 'serikali', 'za', 'ugatuzi', '.', 'Chanzo', 'cha', 'picha', ',', 'IKULU', 'KENYA', 'Jopo', 'hilo', 'ilikusanya', 'maoni', 'kutoka', 'kwa', 'Wakenya', 'elfu', 'saba', 'na', 'kuandaa', 'ripoti', 'ambayo', 'ilizinduliwa', 'na', 'baadaye', 'kuwasilishwa', 'kwa', 'Wakenya', 'kwa', 'mjadala', 'zaidi', 'ili', 'kuiboresha', ',', 'zao', 'la', 'ripoti', 'ya', 'sasa', '.', 'Ikiwa', 'Wakenya', 'watakubaliana', 'na', 'yaliyomo', 'kwenye', 'ripoti', 'hiyo', ',', 'huenda', 'kura', 'ya', 'maoni', 'ikaitishwa', 'na', 'kubadili', 'katiba', 'ya', 'mwaka', 'wa', '2010', 'ambayo', 'itasababisha', 'mabadiliko', 'katika', 'muundo', 'wa', 'serikali', '.', 'Jambo', 'hili', 'ndilo', 'limekuwa', 'likiwatia', 'kiwewe', 'baadhi', 'ya', 'wanasiasa', 'wa', 'Kenya', \"waking'ang'ania\", 'kuwa', 'mchakato', 'wa', 'BBI', 'na', 'ripoti', 'yenyewe', 'ni', 'mpango', 'wa', 'kisiri', 'wa', 'kumnyima', 'naibu', 'rais', 'William', 'Ruto', 'kuwania', 'na', 'kushinda', 'urais', 'katika', 'kinyanganyiro', 'cha', 'uchaguzi', 'mkuu', 'wa', '2022', '.', 'Ripoti', 'ya', 'jopo', 'la', 'maridhiano', 'ina', 'masuala', 'na', 'sifa', 'kadhaa', 'ambazo', 'huenda', 'zikabadilisha', 'siasa', 'na', 'mfumo', 'wa', 'serikali', 'nchini', 'Kenya', 'iwapo', 'ripoti', 'hiyo', 'itaidhinishwa', 'na', 'Wakenya', 'kwenye', 'kura', 'ya', 'maamuzi', '.', 'Kupanuliwa', 'kwa', 'Serikali', 'Ripoti', 'iliyofanyiwa', 'marekebisho', 'ya', 'BBI', 'inapendekeza', 'kupanuliwa', 'kwa', 'serikali', 'ili', 'kuhakikisha', 'kuwa', 'kila', 'Mkenya', 'anajumuishwa', 'serikalini', 'na', 'kuondoa', 'mtindo', 'wa', 'awali', 'ambapo', 'mshindi', 'wa', 'kiti', 'cha', 'urais', 'anatwaa', 'mamlaka', 'yote', '.', 'Ripoti', 'hiyo', 'inapendekeza', 'kubuniwa', 'kwa', 'afisi', 'ya', 'waziri', 'mkuu', 'na', 'manaibu', 'wake', 'wawili', '.', 'Aidha', ',', 'inapendekeza', 'kuwa', 'mawaziri', 'wanaweza', 'kuteuliwa', 'kutoka', 'bunge', 'la', 'taifa', 'pamoja', 'na', 'wataalam', 'wengine', 'kutoka', 'nje', 'ya', 'bunge', 'hilo', '.', 'Ripoti', 'hiyo', 'pia', 'inapendekeza', 'kurekebishwa', 'kwa', 'sura', 'ya', 'nane', 'ya', 'katiba', 'kuhusu', 'mfumo', 'wa', 'bunge', 'na', 'kuwarejesha', 'maafisa', 'wakuu', 'wa', 'serikali', 'bungeni', 'wakiwemo', 'waziri', 'mkuu', ',', 'manaibu', 'wake', 'wawili', ',', 'mawaziri', ',', 'mkuu', 'wa', 'sheria', 'na', 'kiongozi', 'mkuu', 'wa', 'upinzani', '.', 'Waziri', 'mkuu', 'anayependekezwa', 'kwenye', 'ripoti', 'ya', 'BBI', 'atateuliwa', 'na', 'rais', 'kutoka', 'kwa', 'chama', 'au', 'muungano', 'wa', 'vyama', 'ambao', 'una', 'wabunge', 'wengi', 'zaidi', 'katika', 'bunge', 'la', 'Kenya', '.', 'Ripoti', 'hiyo', 'pia', 'inapendekeza', 'kuongezwa', 'kwa', 'nyadhifa', 'za', 'uongozi', 'katika', 'ngazi', 'ya', 'kitaifa', 'ili', 'kuhakikisha', 'kuwa', 'jamii', 'zaidi', 'zinawakilishwa', 'katika', 'utawala', 'wa', 'nchi', '.', 'Suala', 'la', 'Uwakilishi', 'Chanzo', 'cha', 'picha', ',', 'IKULU', 'KENYA', 'Siasa', 'za', 'migawanyiko', 'ambazo', 'zimekuwa', 'kama', 'desturi', 'nchini', 'Kenya', 'wakati', 'wa', 'kipindi', 'cha', 'uchaguzi', ',', 'huenda', 'zikapungua', 'iwapo', 'mapendekezo', 'ya', 'ripoti', 'iliyofanyiwa', 'marekebisho', 'ya', 'jopo', 'la', 'mairidhiano', ',', 'BBI', 'yataidhinishwa', 'na', 'Wakenya', '.', 'Jopo', 'hilo', 'linataka', 'sura', 'ya', 'saba', 'ya', 'katiba', 'kuhusu', 'uwakilishi', 'kurekebishwa', ',', 'ili', 'kuhakikisha', 'kuna', 'uwazi', 'na', 'usawa', 'katika', 'mfumo', 'wa', 'uchaguzi', ',', 'na', 'pia', 'kurekebishwa', 'kwa', 'mfumo', 'wa', 'usimamizi', 'wa', 'tume', 'huru', 'ya', 'uchaguzi', 'na', 'mipaka', 'nchini', ',', 'IEBC', '.', 'Aidha', ',', 'jopo', 'hilo', 'linapendekeza', 'mashindano', 'ya', 'kisiasa', 'kuandaliwa', 'kwa', 'misingi', 'ya', 'sera', ',', 'madili', 'na', 'utu', ',', 'na', 'wala', 'sio', 'chuki', 'kama', 'jinsi', 'imekuwa', 'mtindo', 'wakati', 'wa', 'uchaguzi', 'nchini', 'Kenya', '.', 'Swala', 'la', 'uwakilishi', 'wa', 'kijinsia', 'wa', 'thuluthi', 'mbili', ',', 'ambalo', 'limepiga', 'chenga', 'bunge', 'kwa', 'miaka', 'kadhaa', ',', 'pia', 'limeangaziwa', 'kwenye', 'ripoti', 'hiyo', ',', 'kwa', 'kutoa', 'mapendekezo', 'kadhaa', '.', 'Swala', 'hilo', 'ni', 'moja', 'ya', 'maswala', 'tano', 'muhimu', 'ambayo', 'jopo', 'hilo', 'limependekeza', 'yafanyiwe', 'marekebisho', '.', 'Uwajibikaji', 'kwenye', 'Idara', 'ya', 'Mahakama', 'Ripoti', 'ya', 'jopo', 'la', 'BBI', 'ina', 'baadhi', 'ya', 'mapendekezo', 'kadhaa', 'ambayo', 'yatahitaji', 'kushughulikiwa', 'kupitia', 'bunge', '.', 'Jopo', 'hilo', 'katika', 'kutayarisha', 'miswada', 'ya', 'kurekebisha', 'sheria', 'husika', ',', 'limeangazia', 'maoni', 'yaliyopewa', 'kipa', 'umbele', 'wakati', 'wa', 'mchakato', 'wa', 'uhalalishaji', 'wa', 'ripoti', 'hiyo', '.', 'Sura', 'ya', 'kumi', 'inapendekeza', 'kuwekwa', 'mikakati', 'ya', 'kuhakikisha', 'idara', 'ya', 'mahakama', 'inawajibika', 'kwa', 'Wakenya', '.', 'Hii', 'inamaanisha', 'kwamba', 'ingawaje', 'uhuru', 'wa', 'idara', 'ya', 'mahakama', 'unalindwa', ',', 'sharti', 'iwajibikie', 'Wakenya', 'katika', 'utekelezaji', 'wa', 'majukumu', 'yake', '.', 'Hivyo', 'basi', ',', 'jopo', 'hilo', 'limependekeza', 'kubuniwa', 'kwa', 'ofisi', 'ya', 'kusikiliza', 'malalamiko', 'ya', 'umma', 'kuhusu', 'idara', 'ya', 'mahakama', ',', 'ofisi', 'ambayo', 'itakuwa', 'na', 'mwakilishi', 'katika', 'tume', 'ya', 'huduma', 'za', 'idara', 'ya', 'mahakama', '(', 'JSC', ')', '.Hazina', 'ya', 'kustawisha', 'wadi', '.', 'Ripoti', 'ya', 'BBI', 'imetoa', 'mapendekezo', 'ambayo', 'yanahitaji', 'kuhusishwa', 'kwa', 'bunge', 'hasa', 'kuhusu', 'wodi', 'zote', 'nchini', 'Kenya', '.', 'Kamati', 'tekelezi', 'ilizingatia', 'maoni', 'iliyokusanya', 'na', 'kuratibu', 'miswada', 'kadhaa', 'muhimu', 'ya', 'marekebisho', '.', 'Miongoni', 'mwa', 'miswada', 'hiyo', 'ni', 'mswada', 'wa', 'hazina', 'ya', 'kustawisha', 'wodi', 'mbalimbali', 'katika', 'kaunti', 'wa', 'mwaka', 'wa', '2020', '.', 'Malengo', 'ya', 'mswada', 'huo', 'uliopendekezwa', 'ni', 'kutoa', 'mkakati', 'wa', 'kisheria', 'wa', 'utekelezaji', 'wa', 'hazina', 'ya', 'kustawisha', 'wodi', 'ambayo', 'inalenga', 'kuanzishwa', 'kupitia', 'marekebisho', 'ya', 'katiba', '.', 'Muhimu', 'ni', 'kuwa', 'ripoti', 'hiyo', 'pia', 'inapendekeza', 'nyongeza', 'ya', 'pesa', 'kwa', 'kaunti', 'kutoka', 'asilimia', '15', 'hadi', 'angalau', 'asilimia', '35', ',', 'kutokana', 'na', 'akaunti', 'za', 'mwisho', 'zilizokaguliwa', 'na', 'kuhakikisha', 'kuwa', 'wanaangazia', 'utoaji', 'wa', 'huduma', 'hasa', 'watu', 'wanaoishi', 'katika', 'mipaka', 'ya', 'mbali', 'ya', 'kaunti', '.', 'Kama', 'njia', 'ya', 'kupigana', 'dhidi', 'ya', 'ufisadi', ',', 'ripoti', 'ya', 'BBI', 'inapiga', 'marufuku', 'wafanyikazi', 'wa', 'serikali', 'dhidi', 'ya', 'kufanya', 'biashara', 'na', 'serikali', 'na', 'kupendekeza', 'utekelezaji', 'wa', 'ripoti', 'mbali', 'mbali', 'zilizotayarishwa', 'miaka', 'ya', 'nyuma', ',', 'hasa', 'kuhusu', 'ardhi', '.', 'Pia', ',', 'ripoti', 'hiyo', 'inapendekeza', 'kusawazishwa', 'kwa', 'mishahara', 'katika', 'idara', 'zote', 'za', 'serikali', ',', 'mahakama', ',', 'bunge', 'na', 'serikali', 'pamoja', 'na', 'mashirika', 'yote', 'ya', 'serikali', 'na', 'tume', '.', 'Ili', 'kuwezesha', 'uchumi', ',', 'ripoti', 'hiyo', 'inapendekeza', 'mpango', 'wa', 'miaka', '50', 'ambao', 'utalenga', 'viwanda', 'na', 'kilimo', '.', 'Ili', 'kufikia', 'haya', ',', 'kuna', 'haja', 'ya', 'kutekeleza', 'sera', 'ambazo', 'zinawezesha', 'kuanzishwa', 'kwa', 'biashara', 'mpya', 'na', 'kuziendesha', 'pamoja', 'na', 'kupunguza', 'ushuru', '.', 'Kwenye', 'mfumo', 'wa', 'utawala', ',', 'ripoti', 'hiyo', 'inapendekeza', 'Rais', 'kumchagua', 'Waziri', 'Mkuu', 'kutoka', 'kwa', 'chama', 'chenye', 'viti', 'vingi', 'bungeni', 'ama', 'muungano', 'mkubwa', 'bungeni', 'ambaye', 'atachukua', 'nafasi', 'hiyo', 'baada', 'ya', 'kuidhinishwa', 'na', 'bunge', '.', 'Rais', 'mwenyewe', 'atachaguliwa', 'na', 'wananchi', 'kwa', 'kipindi', 'cha', 'miaka', 'mitano', '(', 'kisichozidi', 'awamu', 'mbili', ')', 'na', 'lazima', 'apate', 'asilimia', '50', 'za', 'kura', 'na', 'zaidi', 'na', 'asilimia', '25', 'katika', 'zaidi', 'ya', 'nusu', 'ya', 'kaunti', '47', 'za', 'Kenya', '.', 'Rais', 'atasalia', 'kuwa', 'mkuu', 'wa', 'nchi', ',', 'serikali', 'na', 'majeshi', 'yote', ',', 'huku', 'waziri', 'mkuu', 'akipata', 'nguvu', 'za', 'utendakazi', 'kutoka', 'bungeni', 'na', 'kusimamia', 'shughuli', 'za', 'kila', 'siku', 'za', 'serikali', '.', '``', 'Ndani', 'ya', 'siku', 'fulani', 'baada', 'ya', 'kuitwa', 'kwa', 'kikao', 'cha', 'bunge', 'baada', 'ya', 'uchaguzi', ',', 'Rais', 'atamteua', 'waziri', 'mkuu', 'mbunge', 'wa', 'bunge', 'la', 'kitaifa', 'kutoka', 'kwa', 'chama', 'cha', 'kisiasa', 'ambacho', 'kina', 'wabunge', 'wengi', 'zaidi', ',', 'au', 'kama', 'hakuna', 'chama', 'kilicho', 'na', 'wabunge', 'wengi', 'zaidi', ',', 'yule', 'mbunge', 'ambaye', 'anaonekana', 'kuwa', 'na', 'uungwaji', 'mkono', 'ya', 'wabunge', 'wengi', 'kwenye', 'bunge', 'hilo', ',', \"''\", 'ripoti', 'inapendekeza', '.', 'Aidha', ',', 'baraza', 'la', 'mawaziri', 'litajumuisha', 'naibu', 'rais', ',', 'waziri', 'mkuu', 'huku', 'mawaziri', 'wakijumuisha', 'wabunge', 'na', 'wataalam', 'ambao', ',', 'wengine', 'watateuliwa', 'kutoka', 'nje', 'ya', 'bunge', '.', 'Waziri', 'mkuu', 'atakuwa', 'kiongozi', 'wa', 'shughuli', 'za', 'bunge', 'katika', 'bunge', 'la', 'kitaifa', '.', 'Bunge', 'la', 'kitaifa', 'litakuwa', 'na', 'wabunge', '360', 'ikilinganishwa', 'na', '290', 'ilivyo', 'sasa', ';', 'huku', 'wengine', '70', 'zaidi', 'wakichaguliwa', 'kwa', 'kufuata', 'mfumo', 'wa', 'wingi', 'wa', 'idadi', 'ya', 'wapiga', 'kura', 'katika', 'baadhi', 'ya', 'maeneo', 'bunge', 'huku', 'seneti', 'ikiwa', 'na', 'wabunge', '94', '.', 'Ili', 'kufidia', 'zaidi', 'sheria', 'na', 'uwakilishi', 'mzuri', 'wa', 'kijinsia', 'kwenye', 'serikali', ',', 'ripoti', 'hiyo', 'inapendekeza', 'kwamba', 'magavana', 'na', 'manaibu', 'wao', 'watawania', 'viti', 'wakiwa', 'wa', 'jinsia', 'tofauti', '.', '``', 'Gavana', 'atawania', 'kiti', 'akiwa', 'peke', 'yake', 'bila', 'naibu', 'wake', 'lakini', 'ni', 'lazima', 'amteue', 'naibu', 'wake', 'baada', 'ya', 'uchaguzi', 'ambaye', 'atakuwa', 'wa', 'jinsia', 'tofauti', 'naye', ',', \"''\", 'ripoti', 'inapendekeza', '.', 'Kilicho', 'wazi', 'kwa', 'sasa', 'ni', 'kwamba', 'kiongozi', 'wa', 'upinzani', 'Raila', 'Odinga', 'na', 'naibu', 'Rais', 'William', 'Ruto', 'wako', 'pande', 'mbili', 'tofauti', 'kuhusiana', 'na', 'suala', 'BBI', '.', 'Kwa', 'Raila', ',', 'ripoti', 'ya', 'BBI', 'inampa', 'nafasi', 'nzuri', 'ya', 'kurudi', 'kwa', 'shughuli', 'za', 'kisiasa', 'baada', 'ya', 'kushindwa', 'mara', 'nne', 'katika', 'chaguzi', 'za', 'awali', 'pamoja', 'na', 'uchaguzi', 'wa', 'mwaka', '2017', ',', 'matokeo', 'ambayo', 'aliyapinga', 'mahakamani', '.', 'Kwa', 'upande', 'mwingine', ',', 'ni', 'wakati', 'mzuri', 'kwa', 'William', 'Ruto', 'kuondoka', 'kwenye', 'upande', 'wa', 'serikali', 'na', 'kurudia', 'alichokifanya', 'kwenye', 'kura', 'ya', 'maamuzi', 'ya', 'mwaka', 'wa', '2010', ',', 'ambapo', 'alijijengea', 'jina', 'kwa', 'kupinga', 'katiba', 'ya', 'mwaka', 'wa', '2010', '.', 'Kati', 'ya', 'wanasiasa', 'hawa', 'wawili', 'walio', 'na', 'ushawishi', 'nchini', 'Kenya', ',', 'moja', 'wao', 'atapata', 'mshtuko', 'wa', 'kisiasa', '.', 'Kimsingi', ',', 'kampeini', 'za', 'BBI', 'zinatoa', 'nafasi', 'mwafaka', 'kati', 'ya', 'wanasiasa', 'wawili', 'wenye', 'ushawishi', 'nchini', 'Kenya', 'kuonyesha', 'ni', 'nani', 'mwenye', 'ushawishi', 'zaidi', 'na', 'ni', 'nani', 'mwenye', 'hafifu', 'kisiasa', '.', 'Ripoti', 'ya', 'BBI', 'itasaidia', 'pande', 'zote', 'mbili-upande', 'wa', 'Rais', 'Uhuru', 'Kenyatta', 'na', 'Raila', 'na', 'upande', 'wa', 'Ruto-', 'kujipima', 'kuhusiana', 'na', 'uchaguzi', 'wa', 'mwaka', 'wa', '2022', '.']\n",
      "\n",
      " Number of Words:  1608\n"
     ]
    }
   ],
   "source": [
    "file=\"20nov25.txt\"\n",
    "\n",
    "# calling the function and storing the contents in a text variable \n",
    "text = get_document(\"https://www.bbc.com/swahili/55071123\")\n",
    "\n",
    "# calling the store_ document function \n",
    "store_document(doc=text,name=file)\n",
    "\n",
    "#add the words in this file to the total_corpus_words, to keep count of the number of words in the corpus\n",
    "total_corpus_words+=total_words(file)"
   ]
  },
  {
   "cell_type": "code",
   "execution_count": 198,
   "metadata": {},
   "outputs": [
    {
     "data": {
      "text/plain": [
       "369737"
      ]
     },
     "execution_count": 198,
     "metadata": {},
     "output_type": "execute_result"
    }
   ],
   "source": [
    "total_corpus_words"
   ]
  },
  {
   "cell_type": "code",
   "execution_count": 200,
   "metadata": {},
   "outputs": [
    {
     "name": "stdout",
     "output_type": "stream",
     "text": [
      "['UAE', 'yasitisha', 'utoaji', 'viza', 'kwa', 'Wakenya', 'na', 'mataifa', 'mengine', '12', 'ya', 'Kiislamu', '26', 'Novemba', '2020', 'Chanzo', 'cha', 'picha', ',', 'Twitter/HHSHHOHD', 'Maelezo', 'ya', 'picha', ',', 'Nyaraka', 'hiyo', 'imetumwa', 'kwa', 'makampuni', 'yanaendesha', 'shughuli', 'za', 'visa', 'iliyoonesha', 'kwamba', 'inaanza', 'kutekelezwa', 'Novemba', '18', '.', 'Kulingana', 'na', 'nyaraka', 'iliotolewa', ',', 'nchi', 'nyingi', 'zilizoathirika', 'ni', 'za', 'Kiislamu', 'yaani', 'Iran', ',', 'Syria', ',', 'Afghanistan', 'na', 'Pakistan', '.', 'Chanzo', 'cha', 'ndani', 'kilichozingumza', 'na', 'shirika', 'la', 'habari', 'la', 'Reuters', 'kimesema', 'chanzo', 'cha', 'kusitishwa', 'kwa', 'utoaji', 'visa', 'ni', 'sababu', 'za', 'kiusalama', 'lakini', 'hakuna', 'taarifa', 'zozote', 'za', 'kina', 'zilizotolewa', '.', 'Nyaraka', 'hiyo', 'iliotumwa', 'kwa', 'makampuni', 'yanayoendesha', 'shughuli', 'za', 'visa', 'iliyoonesha', 'kwamba', 'inaanza', 'kutekelezwa', 'Novemba', '18', '.', 'Aidha', ',', 'nyaraka', 'hiyo', 'pia', 'ilionesha', 'marufuku', 'ya', 'kutolewa', 'kwa', 'visa', 'mpya', 'za', 'ajira', 'pamoja', 'na', 'za', 'raia', 'wa', 'kigeni', 'nje', 'ya', 'UAE', ',', 'wanaotaka', 'kutembelea', 'nchi', 'hiyo', 'wa', 'nchi', '13', 'pamoja', 'na', 'Somalia', ',', 'Libya', 'na', 'Yemen', 'hadi', 'siku', 'isiyojulikana', '.', 'Serikali', 'ya', 'Kenya', 'bado', 'haijatoa', 'tamko', 'lolote', 'kuhusiana', 'na', 'hatua', 'hiyo', 'sawa', 'na', 'mamlaka', 'husika', 'ya', 'UAE', 'ambayo', 'baada', 'ya', 'kuzungumza', 'na', 'Shirika', 'la', 'Habari', 'la', 'Reuters', 'haikusema', 'lolote', '.', 'Hatua', 'hiyo', 'inawadia', 'wiki', 'moja', 'baada', 'ya', 'Ubalozi', 'wa', 'Ufaransa', 'nchini', 'UAE', 'kusihi', 'raia', 'wake', 'kuchukua', 'tahadhari', 'baada', 'ya', 'kutokea', 'kwa', 'shambulizi', 'la', 'bomu', 'dhidi', 'ya', 'wanadiplomasia', 'nchini', 'Saudi', 'Arabia', 'huku', 'wanamgambo', 'wa', 'Islamic', 'State', 'wakadai', 'kuhusika', '.', 'Kashfa', 'ya', 'dhahabu', 'Kenya', 'Mwaka', '2019', 'uhusiano', 'kati', 'ya', 'Kenya', 'na', 'UAE', 'uliathirika', 'kufuatia', 'kashfa', 'iliozunguka', 'biashara', 'ya', 'Dhahabu', 'iliokuwa', 'ikielekea', 'katika', 'taiafa', 'hilo', 'la', 'Kiarabu', 'Mtawala', 'wa', 'Dubai', 'Sheikh', 'Mohammed', 'Al-Makhtoum', ',', 'alituma', 'barua', 'ya', 'pingamizi', 'kwa', 'Kenya', 'akitaka', 'kuachiliwa', 'kwa', 'mzigo', 'wa', 'dhahabu', 'uliokuwa', 'ukizuiliwa', 'na', 'idara', 'ya', 'forodha', 'mjini', 'Nairobi', '.', 'Kesi', 'hiyo', 'ndio', 'ya', 'hivi', 'karibuni', 'inayowahusisha', 'washirika', 'wa', 'Sheikh', 'al-Makhtoum', 'ambao', 'wamehujumiwa', 'katika', 'biashara', 'ya', 'Dhahabu', 'nchini', 'Kenya', 'na', 'Uganda', '.', 'Shiekh', 'Mohammed', 'Al', 'Maktoum', ':', 'Je', 'mtawala', 'huyu', 'wa', 'Dubai', 'ni', 'mtu', 'wa', 'aina', 'gani', '?', 'Sheikh', 'Mohammed', 'pia', 'alihusishwa', 'katika', 'mpango', 'wa', 'babake', 'wa', 'kufidia', 'upungufu', 'wa', 'hifadhi', 'ya', 'mafuta', 'Dubai', 'kupitia', 'kuimarisha', 'uchumi', 'wake', 'na', 'kulifanya', 'eneo', 'hilo', 'kuwa', 'kituo', 'cha', 'biashara', 'pamoja', 'na', 'utalii', 'duniani', '.', 'Chanzo', 'cha', 'picha', ',', 'AFP', 'Maelezo', 'ya', 'picha', ',', 'Sheikh', 'Mohammed', 'bin', 'Rashid', 'Al', 'Maktoum', 'ni', 'matawala', 'wa', 'Dubai', ',', 'bilionea', 'na', 'makamu', 'wa', 'rais', 'wa', 'milki', 'za', 'kiarabu', 'UAE', '.', 'Hii', 'leo', 'zaidi', 'ya', 'asilimia', '95', 'ya', 'mapato', 'ya', 'milki', 'za', 'kiarabu', 'hayatokani', 'na', 'mafuta', 'huku', 'utalii', 'ukichangia', 'asilimia', '20', '.', 'Idadi', 'ya', 'watu', 'nchini', 'Dubai', 'imeongezeka', 'kutoka', '40,000', 'katika', 'miaka', 'ya', 'sitini', 'hadi', 'milioni', '3.3', ',', 'ikiwemo', 'watu', 'milioni', '3.1', 'ambao', 'hawatoki', 'katika', 'milki', 'hiyo', 'ya', 'kiarabu', ',', 'wengi', 'ambao', 'wanaishi', 'katika', 'mamia', 'ya', 'majumba', 'marefu', 'katika', 'mji', 'huo', '.', 'Mwaka', '1990', ',', 'Sheikh', 'Rashid', 'alifariki', 'baada', 'ya', 'ugonjwa', 'wa', 'muuda', 'mrefu', 'uliotokana', 'na', 'kiharusi', '.', 'Alirithiwa', 'na', 'nduguye', 'mkubwa', 'Mohammed', ',', 'Maktoum', '.', 'Miaka', 'mitano', 'baadaye', '.', 'Sheikh', 'maktoum', 'alitajwa', 'kuwa', 'mwanamfalme', 'wa', 'Dubai', '.', 'Pia', 'alijipatia', 'kazi', 'ya', 'uendeshaji', 'wa', 'maswala', 'ya', 'kila', 'siku', 'ya', 'Dubai', '.', 'Sheikh', 'Mohammed', 'alizaliwa', '1949', 'nyumbani', 'kwao', 'huko', 'katika', 'eneo', 'la', 'Shindagha', ',', 'karibu', 'na', 'mkondo', 'wa', 'bahari', 'wa', 'Dubai', '.', 'Alikuwa', 'mtoto', 'wa', 'tatu', 'kati', 'ya', 'watoto', 'wanne', 'wa', 'Sheikh', 'Rashid', 'Al', 'Maktoum', ',', 'ambaye', 'aliitawala', 'Dubai', 'kwa', 'miaka', '32', 'tangu', '1958', '.', 'Baada', 'ya', 'kumaliza', 'shule', 'ya', 'upili', '1965', ',', 'Sheikh', 'Mohammed', 'alihamia', 'Uingereza', 'katika', 'shule', 'ya', 'masomo', 'ya', 'lugha', 'huko', 'Cambridge', '.', 'Sheikh', 'huyo', 'aliyekuwa', 'na', 'umri', 'mdogo', 'baadaye', 'alihudhuria', 'mafunzo', 'ya', 'miezi', 'sita', 'katika', 'jeshi', 'la', 'Uingereza', 'kama', 'kadeti', 'mjini', 'Hampshire', '.', 'Mwaka', '1968', ',', 'baada', 'ya', 'kurudi', 'Dubai', ',', 'Shekih', 'Mohammed', 'aliandamana', 'na', 'babake', 'katika', 'mkutano', 'na', 'mtawala', 'wa', 'wakati', 'huo', 'wa', 'Abu', 'Dhabi', 'Sheikh', 'Zayed', 'Al', 'Nahyan', ',', 'ambapo', 'walikubali', 'kufanya', 'muungano', 'ambao', 'ulipelekea', 'kuundwa', 'kwaMuungano', 'wa', 'milki', 'za', 'kiarbu', '.', 'Baada', 'ya', 'UAE', 'kupata', 'uhuru', 'wake', 'kutoka', 'Uingereza', 'mwaka', '1971', ',', 'Sheikh', 'Mohammed', 'aliteuliwa', 'kuwa', 'waziri', 'wa', 'ulinzi', '-', 'wadhfa', 'ambao', 'hadi', 'wa', 'leo', 'anaushikilia', '.']\n",
      "\n",
      " Number of Words:  633\n"
     ]
    }
   ],
   "source": [
    "file=\"20nov26.txt\"\n",
    "\n",
    "# calling the function and storing the contents in a text variable \n",
    "text = get_document(\"https://www.bbc.com/swahili/habari-55083554\")\n",
    "\n",
    "# calling the store_ document function \n",
    "store_document(doc=text,name=file)\n",
    "\n",
    "#add the words in this file to the total_corpus_words, to keep count of the number of words in the corpus\n",
    "total_corpus_words+=total_words(file)"
   ]
  },
  {
   "cell_type": "code",
   "execution_count": 201,
   "metadata": {},
   "outputs": [
    {
     "data": {
      "text/plain": [
       "370370"
      ]
     },
     "execution_count": 201,
     "metadata": {},
     "output_type": "execute_result"
    }
   ],
   "source": [
    "total_corpus_words"
   ]
  },
  {
   "cell_type": "code",
   "execution_count": 202,
   "metadata": {},
   "outputs": [
    {
     "name": "stdout",
     "output_type": "stream",
     "text": [
      "['Habari', 'za', 'moja', 'kwa', 'moja', 'Na', 'mpaka', 'hapo', 'ndio', 'tunafikia', 'mwisho', 'wa', 'matangazo', 'yetu', 'ya', 'moja', 'kwa', 'moja', 'kwa', 'leo', '.', 'Tukutane', 'tena', 'Jumatatu', 'ijayo', 'Tunakuaga', 'kwa', 'video', 'hii', 'ya', 'ssichana', 'wa', 'miaka', '10', 'tu', 'aliyewanunulia', 'wazazi', 'wake', 'nyumba', ':', 'Akiwa', 'na', 'umri', 'wa', 'miaka', '10', 'tu', 'Emmanuella', 'Samuel', 'ametumia', 'mapato', 'yake', 'aliyoyatengeneza', 'kupitia', 'mtandao', 'wake', 'wa', 'You', 'Tube', 'kuwajengea', 'wazazi', 'wake', 'nyumba', '.', 'Amekuwa', 'nyota', 'katika', 'chaneli', 'ya', 'You', 'Tube', 'maarufu', 'ya', 'mchekeshaji', 'Mark', 'Angel', ',', 'tangu', 'alipokuwa', 'na', 'umri', 'wa', 'miakamitano', '.', 'Akimshukuru', 'mama', 'yake', 'Emmanulla', 'amesema', 'mama', 'yake', 'anafaa', 'kupewa', 'nyumba', 'nyingi', '.', 'Video', 'content', 'Video', 'caption', ':', 'Akiwa', 'na', 'umri', 'wa', 'miaka', '10', 'tu', 'Emmanuella', 'Samuel', 'amewajengea', 'wazazi', 'wake', 'nyumbaAkiwa', 'na', 'umri', 'wa', 'miaka', '10', 'tu', 'Emmanuella', 'Samuel', 'amewajengea', 'wazazi', 'wake', 'nyumba', 'NEC', ':', 'Tumepokea', 'majina', 'ya', 'viti', 'maalum', 'kutoka', 'Chadema', 'Tume', 'ya', 'taifa', 'ya', 'uchaguzi', 'nchini', 'Tanzania', '(', 'NEC', ')', 'imesema', 'ilipokea', 'barua', 'zenye', 'majina', 'ya', 'mapendekezo', 'ya', 'wanawake', 'wabunge', 'na', 'madiwani', 'wa', 'viti', 'maalum', 'kutoka', 'chama', 'cha', 'demokrasia', 'na', 'maendeleo-Chadema', '.', 'Tume', 'imesema', 'imepokea', 'majina', 'hayo', 'tarehe', '19', ',', 'Novemba', 'mwaka', 'huu', 'kutoka', 'Chadema', 'huku', 'chama', 'cha', 'mapinduzi-', 'CCM', 'walikuwa', 'wametuma', 'majina', 'yao', 'Septemba', '26', '.', 'Na', 'Novemba', '20', ',', 'kikao', 'kilikaa', 'kuteuwa', 'wabunge', 'hao', '19', 'kutoka', 'katika', 'chama', 'hicho', 'kwa', 'mujibu', 'wa', 'katiba', 'na', 'sheria', 'ya', 'Tanzania', '.', 'Awali', ',', 'Katibu', 'Mkuu', 'wa', 'Chadema', 'John', 'Mnyika', 'aliiambia', 'BBC', 'kuwa', 'Chadema', 'haijafanya', 'uteuzi', 'wa', 'wabunge', 'hao', 'na', 'vikao', 'vya', 'juu', 'vya', 'chama', 'hicho', 'vitakaa', 'ili', 'kufanya', 'maamuzi', '.', 'Hata', 'hivyo', 'Chadema', 'iligoma', 'kuteua', 'wabunge', 'wa', 'viti', 'maalumu', 'wakidai', 'kuwa', 'hawatambui', 'matokeo', 'ya', 'uchaguzi', 'uliopita', 'wakisema', 'ulikuwa', 'na', 'kasoro', 'lukuki', ',', 'tuhuma', 'ambazo', 'hata', 'hivyo', 'zimekanushwa', 'na', 'mamlaka', 'nchini', 'humo', '.', 'Abiy', 'Ahmed', 'akutana', 'na', 'ujumbe', 'wa', 'AU', 'lakini', 'ameuzuwia', 'kwenda', 'Tigray', 'Waziri', 'Mkuu', 'wa', 'Ethiopia', 'Abiy', 'Ahmed', 'amekutana', 'na', 'Tume', 'ya', 'Muungano', 'wa', 'Afrika', 'ambao', 'uliwasili', 'mjini', 'Addis', 'Ababa', 'kujaribu', 'kuleta', 'upatanishi', 'baina', 'ya', 'serikali', 'na', 'vikosi', 'vya', 'Tigray', 'People', \"'s\", 'Liberation', 'Front', '(', 'TPLF', ')', 'baada', 'ya', 'zaidi', 'ya', 'wiki', 'tatu', 'za', 'mzozo', '.', 'Awali', 'Bw', 'Abiy', 'alisema', 'juhudi', 'za', 'kimataifa', 'za', 'kuleta', 'pande', 'mbili', 'mezani', 'kwa', 'ajili', 'ya', 'mazungumzo', '``', 'hazikaribishwi', \"''\", ',', 'na', 'tume', 'ya', 'AU', 'haitaruhusiwa', 'kukutana', 'na', 'maafisa', 'wa', 'Tigray', '.', 'Baada', 'ya', 'mkutano', 'wa', 'Ijumaa', 'na', 'wajumbe', 'watatu', 'maalum', 'wa', 'AU', ',', 'Bw', 'Abiy', 'amesema', 'kuwa', 'serikali', 'yake', 'inataka', 'kuhakikishaulinzi', 'wa', 'raia', ',', 'inafungua', 'njia', 'ya', 'misaada', 'ya', 'kiutu', ',', 'na', 'itawakaribisha', 'tena', 'wakimbizi', 'Waethiopia', 'waliokimbilia', 'Sudan', '.', 'Hata', 'hivyo', ',', 'waziri', 'mkuu', 'huyo', 'amesema', 'serikali', 'yake', 'itaendelea', 'na', 'juhudi', 'zake', 'dhidi', 'ya', 'za', 'kile', 'alichokiita', \"''\", 'kundi', 'la', 'TPLF', '``', '.', 'Wajumbe', 'wa', 'AU', 'envoys', '–Marais', 'wa', 'zamani', 'Joaquim', 'Chissano', 'wa', 'Msumbiji', ',', 'Ellen', 'Johnson', 'Sirleaf', 'wa', 'Liberia', 'na', 'Kgalema', 'Motlanthe', 'wa', 'Afrika', 'Kusini-', 'hawataruhusiwa', 'kusafiri', 'kuelekea', 'Tigray', ',', 'serikali', 'tayari', 'imesema', '.', 'Uongozi', 'wa', 'jimbo', 'la', 'Ethiopia', 'la', 'Tigray', 'unasema', 'kuwa', 'umewateua', 'wawakilishi', 'wake', 'kwa', 'ajili', 'ya', 'kufanya', 'mazungumzo', 'na', 'Muungano', 'wa', 'Afrika', '(', 'AU', ')', 'pamoja', 'na', 'mashirika', 'mengine', 'ya', 'kimataifa', 'kuhusu', 'usitishwaji', 'wa', 'mara', 'moja', 'wa', 'mapigo', 'na', 'serikali', 'ya', 'Ethiopia', '.', 'Katika', 'taarifa', 'yake', ',', 'pia', 'umetoa', 'wito', 'wakuwezeshwa', 'kwa', 'shughuli', 'za', 'misaada', 'ya', 'kiutu', 'na', 'kufanyika', 'kwa', 'uchunguzi', 'kuhusu', 'madai', 'ya', 'uhalifu', 'wa', 'kivita', '.', 'Waziri', 'Mkuu', 'Abiy', 'Ahmed', 'anatarajiwa', 'kukutanza', 'na', 'ujumbe', 'wa', 'Amani', 'wa', 'AU', ',', 'lakini', 'amekataa', 'upatanishi', 'wa', 'kimataifa', 'katika', 'mzozo', 'huo', '.', 'Mapigano', 'yameripotiwa', 'baina', 'ya', 'vikosi', 'vyaWatigray', 'na', 'wanajeshi', 'wa', 'serikali', 'katika', 'maeneo', 'kadhaa', 'ya', 'Tigray', ',', 'lakini', 'mji', 'mkuu', 'wa', 'jimbo', 'hilo', 'Mekelle', 'unasemekana', 'kuwa', 'katika', 'hali', 'ya', 'utulivu', '.', 'Darasa', 'la', 'mapishi', 'linalookoa', 'maisha', 'ya', 'watoto', 'Tanzania', 'Nchini', 'Tanzania', ',', 'tatizo', 'la', 'utapiamlo', 'kwa', 'watoto', 'walio', 'chini', 'ya', 'umri', 'wa', 'miaka', 'mitano', 'bado', 'ni', 'kubwa', '.', 'Miongoni', 'mwa', 'mikoa', 'yenye', 'idadi', 'kubwa', 'wa', 'watoto', 'hao', 'ni', 'mkoa', 'wa', 'Shinyanga', 'uliopo', 'kaskazini', 'Magharibi', 'mwa', 'Tanzania', ',', 'ambapo', 'asilimia', 'kumi', 'na', 'tano', 'ya', 'watoto', 'wana', 'uzito', 'pungufu', 'huku', 'asilimia', '32', 'wakiwa', 'na', 'udumavu', '.', 'Hii', 'ni', 'kwa', 'mujibu', 'Tafiti', 'ya', 'Taifa', 'ya', 'Lishe', 'yani', 'Tanzania', 'National', 'Nutrition', 'Survery', 'ya', 'mwaka', '2018/2019', '.', 'Kundi', 'la', 'kina', 'mama', 'lenye', 'watoto', 'wanaosumbuliwa', 'na', 'tatizo', 'la', 'utapiamlo', 'uliosababishwa', 'na', 'upungufu', 'wa', 'madini', 'chuma', 'na', 'vitamin', 'A', 'hivyo', 'kuwa', 'na', 'utizo', 'pungufu', 'limekamilisha', 'mafunzo', 'ya', 'wiki', 'mbili', 'ya', 'mapishi', 'bora', 'yanayojumuisha', 'makundi', 'matano', 'ya', 'vyakula', 'vyenye', 'virutubishi', 'kwa', 'watoto', '.', 'BBCCopyright', ':', 'BBC', 'Baadhi', 'ya', 'akina', 'mama', 'kutoka', 'kijiji', 'cha', 'Wijiteleja', 'kilichopo', 'mkoani', 'Shinyanga', 'kaskazini', 'magharibi', 'mwa', 'Tanzania', ',', 'wanaelezea', 'jinsi', 'mafunzo', 'hayo', 'yalivyoongeza', 'uzito', 'wa', 'watoto', 'wao', '.', 'Magdalena', 'John', 'Kumalia', 'awali', 'mtoto', 'wake', 'alikuwa', 'na', 'kilo', 'ambazo', 'sio', 'nzuri', ',', 'lakini', 'baada', 'ya', 'kumpikia', 'vyakula', 'vyenye', 'virutubishi', 'hali', 'ilibadilika', '.', 'Nae', 'Agnes', 'Ngelela', 'anasema', 'mbali', 'na', 'mtoto', 'wake', 'kuwa', 'na', 'kilo', 'moja', 'alipozaliwa', 'lakini', 'pia', 'aliandamwa', 'kwa', 'magonjwa', 'kama', 'vile', 'kuharisha', 'na', 'kutapika', ',', 'lakini', 'sasa', 'magonjwa', 'yote', 'yameisha', 'baada', 'ya', 'kupata', 'lishe', 'bora', '.', 'BBCCopyright', ':', 'BBC', 'Christian', 'Ngowi', 'ambae', 'ni', 'mganga', 'mfawidhi', 'wa', 'zahanati', 'ya', 'Mundo', 'mkoani', 'humo', 'anasema', 'mafunzo', 'hayo', 'yalilenga', 'zaidi', 'kutumia', 'vyakula', ',', 'mbogamboga', 'na', 'matunda', 'ambayo', 'upatikanaji', 'wake', 'ni', 'rahisi', 'katika', 'jamii', 'inayozunguka', '.', '“', 'Tuliona', 'katika', 'kundi', 'la', 'mbogamboga', ',', 'kuna', 'changamoto', 'kubwa', 'ya', 'upatikanaji', 'wa', 'kundi', 'hili', 'kutokana', 'na', 'hali', 'ya', 'ukame', 'inayozunguka', 'wilaya', 'yetu', '.', 'Kwa', 'hiyo', ',', 'tulishauriana', 'na', 'afisa', 'kilimo', 'na', 'mtendaji', 'wa', 'kijiji', 'na', 'wahudumu', 'wa', 'afya', 'tukawafundisha', 'kina', 'mama', 'kuwa', 'na', 'bustani', 'za', 'majumbani', ',', 'kwa', 'hiyo', 'lile', 'kundi', 'la', 'mbogamboga', 'sasa', 'hivi', 'kina', 'mama', 'wanalipata', 'kwa', 'wingi', 'bila', 'gharama', 'na', 'kupoteza', 'muda', 'kwa', 'kwenda', 'sokoni', ',', '”', 'anasema', 'Dk', '.', 'Ngowi', '.', 'BBCCopyright', ':', 'BBC', 'Wakati', 'huo', 'huo', ',', 'Dk', 'Frank', 'Mtimbwa', 'kutoka', 'Shirika', 'la', 'World', 'Vision', 'nchini', 'Tanzania', 'ambalo', 'ndilo', 'linalodhamini', 'mradi', 'huu', 'wa', 'mafunzo', 'ya', 'mapishi', 'kwa', 'kushirikiana', 'na', 'serikali', 'na', 'wadau', 'wengine', 'wa', 'afya', ',', 'anasema', 'ili', 'kutokomeza', 'tatizo', 'la', 'utapiamlo', 'katika', 'jamii', 'imewalazimu', 'kuwashirikisha', 'na', 'kina', 'baba', '.', '“', 'Kwa', 'jamii', 'hizi', 'tulizonazo', ',', 'mwanaume', 'anaweza', 'akalima', 'na', 'mwanamke', 'na', 'akauza', 'chakula', 'chote', 'na', 'kwenye', 'familia', 'ukasikia', 'kuna', 'njaa', ',', 'lakini', 'wakati', 'wa', 'msimu', 'wa', 'kulima', ',', 'walilima', 'pamoja', 'na', 'walivuna', 'sana', '.', 'Kwa', 'hiyo', ',', 'sasa', 'hivi', 'wanafanya', 'kazi', 'pamoja', 'na', 'mwisho', 'wa', 'siku', 'wanaamua', 'wauze', 'nini', 'na', 'pesa', 'inayopatikana', 'ifanye', 'nini', ',', '”', 'anasema', 'Dk', '.', 'Mtimbwa', '.', 'Mbali', 'na', 'darasa', 'la', 'mapishi', ',', 'wanakijiji', 'pia', 'wamehamasishwa', 'kuanzisha', 'bustani', 'za', 'nyumbani', 'ili', 'kurahisisha', 'upatikani', 'wa', 'mbogamboga', 'pamoja', 'na', 'viazi', 'lishe', 'ambavyo', 'wataalamu', 'wanadai', 'vina', 'asilimia', 'kubwa', 'ya', 'virutubishi', 'kwa', 'watoto', '.', 'Wakati', 'huo', 'huo', 'katika', 'taarifa', 'ya', 'pamoja', 'ya', 'mabalozi', 'wa', 'nchi', 'za', 'Muungano', 'wa', 'Ulaya', 'nchini', 'humo', ',', 'wameeleza', 'kutofurahishwa', 'kwao', 'na', 'ghasia', 'zilizotawala', 'kampeni', 'ya', 'uchaguzi', 'tarehe', '18', 'na', '19', ',', 'Novemba', 'nchini', 'humo', '.', 'Wamesema', 'Uganda', 'ilishuhudia', 'ghasia', 'na', 'maandamano', 'pamoja', 'na', 'matumizi', 'yasiyofaa', 'ya', 'vikosi', 'vya', 'usalama', 'dhidi', 'ya', 'raia', 'na', 'kuvitaka', 'vyama', 'vyote', 'vya', 'kisiasa', 'na', 'wagombea', 'wake', 'kuwataka', 'wafuasi', 'wao', 'kuacha', 'ghasia', 'na', 'matumizi', 'ya', 'lugha', 'mbaya', '.', 'Wametoa', 'wito', 'wa', 'kuchukuliwa', 'kwa', 'hatua', 'kali', 'za', 'kisheria', 'kumaliza', 'uchokozi', 'unaolenga', 'kuleta', 'ghasia', 'au', 'kusababisha', 'ukiukaji', 'wa', 'sheria', '.', 'Hii', 'inajiri', 'huku', 'Kiongozi', 'wa', 'upinzani', 'nchini', 'humo', 'Robert', 'Kyagulanyi', 'al', 'maarufu', 'Bobi', 'Wine', 'akilalamikia', 'kuzuiwa', 'kuendesha', 'kampeni', 'zake', 'katika', 'mji', 'wa', 'Hoima', 'magharibi', 'mwa', 'nchi', 'hiyo', '.', 'Katika', 'ujumbe', 'wake', 'wa', 'twitter', 'Bobi', 'Wine', 'amesema', 'kuwa', 'polis', 'walifunga', 'barabara', 'za', 'kuelekea', 'katika', 'mji', 'huo', 'ili', 'kumzuwia', 'kufika', 'katika', 'hoteli', 'aliyotarajia', 'kupata', 'malazi', 'na', 'kuziamuru', 'hoteli', 'zote', 'katika', 'mji', 'huo', 'zisimpokee', 'na', 'timu', 'yake', ',', 'na', 'hivyo', 'kuwalazimisha', 'kulala', 'ndani', 'ya', 'magari', ':', 'Kuhusu', 'Wabunge', '19', 'wa', 'viti', 'Maalum', 'kutoka', 'CHADEMA', 'Bw', 'Ndungai', 'alisema', 'wameteuliwa', 'kihalali', 'na', 'kama', 'CHADEMA', 'wana', 'matatizo', 'nao', 'walipaswa', 'kuwaita', 'kwa', 'heshima', 'na', 'kuwasikiliza', 'badala', 'ya', 'kuwahukumu.Amesema', 'majina', 'ya', 'wabunge', 'wa', 'viti', 'maalum', 'alipewa', 'na', 'na', 'Tume', 'ya', 'Uchaguzi', ',', 'na', 'kazi', 'yake', 'ni', 'kuwaapisha', 'Wabunge', 'hao', 'na', 'ameshafanya', 'hivyo', '.']\n",
      "\n",
      " Number of Words:  1260\n"
     ]
    }
   ],
   "source": [
    "file=\"20nov27.txt\"\n",
    "\n",
    "# calling the function and storing the contents in a text variable \n",
    "text = get_document(\"https://www.bbc.com/swahili/live/habari-55098226\")\n",
    "\n",
    "# calling the store_ document function \n",
    "store_document(doc=text,name=file)\n",
    "\n",
    "#add the words in this file to the total_corpus_words, to keep count of the number of words in the corpus\n",
    "total_corpus_words+=total_words(file)"
   ]
  },
  {
   "cell_type": "code",
   "execution_count": 203,
   "metadata": {},
   "outputs": [
    {
     "data": {
      "text/plain": [
       "371630"
      ]
     },
     "execution_count": 203,
     "metadata": {},
     "output_type": "execute_result"
    }
   ],
   "source": [
    "total_corpus_words"
   ]
  },
  {
   "cell_type": "code",
   "execution_count": 205,
   "metadata": {},
   "outputs": [
    {
     "name": "stdout",
     "output_type": "stream",
     "text": [
      "['Waridi', 'wa', 'BBC', ':', 'Kwanini', 'namzungumzia', 'mwanangu', 'aliyejitoa', 'uhai', 'Kabla', 'ya', 'mwezi', 'Agosti', ',', '2019', 'maisha', 'ya', 'Jaqueline', 'Namuye', 'Mutere', 'yalikuwa', 'ya', 'kawaida', 'na', 'yaliyojaa', 'matumaini', 'tele', '.', 'Lakini', 'bila', 'kutarajia', ',', 'mambo', 'yalibadilika', '.', 'Kabla', 'ya', 'hapo', ',', 'alikuwa', 'na', 'watoto', 'watano', 'lakini', 'tangu', 'wakati', 'huo', 'akabaki', 'na', 'wanne', '.', 'Mwanae', 'wa', 'kiume', 'alikuwa', 'amejitoa', 'uhai', 'wake', 'tarehe', '4', 'Agosti', '.', 'Ni', 'tukio', 'lililobadilisha', 'maisha', 'yake', '.', 'Anasema', 'amejikuta', 'akiwa', 'kwenye', 'huzuni', 'ya', 'ndani', 'kwa', 'ndani', 'mara', 'kwa', 'mara', '.', 'Sababu', 'kuu', 'ni', 'kwamba', 'wakati', 'mwingine', 'huhisi', 'kana', 'kwamba', 'alikuwa', 'na', 'uwezo', 'wa', 'kuzuia', 'yaliyotokea', '.', '``', 'Nimejikuta', 'nikiwa', 'njia', 'panda', 'ya', 'kujilaumu', 'kama', 'mama', 'wa', 'mtoto', 'wangu', 'wa', 'kiume', 'kwamba', 'nilikosea', 'wapi', 'hadi', 'mtoto', 'wangu', 'akafikia', 'kujitia', 'kitanzi', '?', \"''\", 'anasema', '.', '``', 'Mbona', 'sikufahamu', 'yaliyokuwa', 'yanaendelea', 'kwenye', 'dhamira', 'yake', '?', 'Nilikuwa', 'wapi', 'nisomuokoe', 'mwanangu', '?', \"''\", 'Amejiuliza', 'maswali', 'haya', 'mara', 'kwa', 'mara', 'bila', 'majibu', '.', 'Chanzo', 'cha', 'picha', ',', 'Namuye', 'Maisha', 'ya', 'mwanawe', 'Vernon', 'Jerry', 'Vernon', 'Ogolla', 'almaarufu', 'Chichi', 'alizaliwa', 'tarehe', '30', 'Juni', 'mwaka', 'wa', '1999', 'katika', 'hospitali', 'ya', 'Masaba', 'jijini', 'Nairobi', ',', 'akiwa', 'mtoto', 'wa', 'tatu', 'kwenye', 'familia', '.', 'Kwake', 'Namuye', ',', 'Chichi', 'alikuwa', 'wa', 'kipekee', 'kwa', 'kuwa', 'alikuwa', 'mtoto', 'wake', 'wa', 'kwanza', 'wa', 'kiume', ',', 'baada', 'ya', 'binti', 'wawili', 'kutangulia', '.', 'Mama', 'yake', 'Chichi', 'anasema', 'kuwa', 'Chichi', 'kama', 'watoto', 'wengine', 'wa', 'kiume', 'alipitia', 'vituko', 'vya', 'wavulana', 'wanapo', 'baleghe', ',', 'japo', 'hakuwahi', 'kuingia', 'kwenye', 'hatari', 'yoyote.', '``', 'Niligundua', 'kuwa', 'kulea', 'mtoto', 'wa', 'kike', 'na', 'kiume', 'ni', 'vitu', 'viwili', 'tofauti', 'sana', ',', 'kwani', 'mambo', 'ambayo', 'Chichi', 'aliyapenda', 'yalikuwa', 'tofauti', 'sana', 'na', 'dada', 'zake', ',', 'pia', 'ari', ',', 'maumbile', 'na', 'nguvu', 'zake', 'zilikuwa', 'tofauti', 'mno', ',', \"''\", 'Anakumbuka', 'Bi', 'Namuye', 'Kwa', 'hivyo', ',', 'kabla', 'hajafahamu', 'mikakati', 'ya', 'kujiwekea', 'vizuizi', 'vya', 'migongano', 'ya', 'kawaida', 'kati', 'ya', 'wavulana', ',', 'alikwaruzwa', 'hapa', 'na', 'pale', '.', 'Japo', 'mama', 'yake', 'Chichi', 'anasema', 'kuwa', 'mwanawe', 'alikuwa', 'mwenye', 'tahadhari', 'lakini', 'mwerevu', '.', 'Chanzo', 'cha', 'picha', ',', 'Namuye', 'Siri', 'kuu', 'shuleni', 'Chichi', 'alifurahia', 'na', 'kupenda', 'soka', ',', 'alipenda', 'sana', 'michezo', 'na', 'alikuwa', 'kijana', 'chipukizi', 'aliyekuwa', 'na', 'ndoto', 'nyingi', 'kati', 'ya', 'umri', 'wa', 'kuzaliwa', 'hadi', 'alipohitimu', 'kuingia', 'shule', 'ya', 'sekondari', 'kidato', 'cha', 'kwanza', '.', 'Mama', 'yake', 'Chichi', 'anasema', 'Mwanae', 'alifuzu', 'vyema', 'kuingia', 'shule', 'nzuri', 'ya', 'bweni', 'nchini', 'Kenya', '.', 'Na', 'hapo', 'ndipo', 'masaibu', 'ya', 'Chichi', 'yalianzia', ',', 'kwa', 'mujbiu', 'wa', 'mama', 'yake', '.', '``', 'Wakati', 'wa', 'kurejea', 'shuleni', 'Chichi', 'kutoka', 'likizo', ',', 'akawa', 'hataki', 'kurudi', '.', 'Alianza', 'kuwa', 'na', 'sababu', 'baada', 'ya', 'sababu', 'kwanini', 'asirejee', 'shuleni', '.', 'Kilichofwatia', 'ni', 'kuwa', 'alama', 'zake', 'shuleni', 'zilianza', 'kushuka', 'mno', '.', 'Alianza', 'kuwa', 'na', 'tabia', 'ya', 'kutowajibikia', 'masomo', 'kabisa', ',', \"''\", 'Bi', 'Namuye', 'anakumbuka', '.', 'Mama', 'yake', 'Chichi', 'anasema', 'kuwa', 'tabia', 'na', 'mienendo', 'ya', 'mwanawe', 'ilibadilika', 'mno', 'baada', 'ya', 'kuingia', 'shule', 'ya', 'sekondari', 'na', 'kila', 'mwaka', 'hali', 'ilizidi', 'kila', 'mbaya', '.', '``', 'Alikuwa', 'anapenda', 'michezo', ',', 'lakini', 'ghafla', 'ikamchukiza', '.', 'Tabia', 'yake', 'ikageuka', 'kuwa', 'hasira', ',', 'hisia', 'zake', 'zikawa', 'zinabadilika', 'kama', 'kinyonga', 'anavyobadilisha', 'rangi', ',', 'pia', 'alianza', 'kuwa', 'na', 'tabia', 'ya', 'kufoka', 'kila', 'mara', 'bila', 'sababu', 'za', 'kimsingi', ',', 'kuitisha', 'vitu', 'vengine', 'ambavyo', 'kumnunulia', 'ilikuwa', 'haiwezekani', ',', \"''\", 'Mama', 'Namuye', 'anakumbuka', '.', 'Kama', 'mama', 'Namuye', 'alidhani', 'ni', 'msimu', 'aliokuwa', 'anapitia', 'mwanawe', 'kwani', 'alikuwa', 'anabalehe', ',', 'pia', 'alidhania', 'ni', 'umri', 'wake', 'na', 'pengine', 'msukumo', 'wa', 'vijana', 'kupenda', 'vitu', 'vingi', 'na', 'vya', 'anasa', '.', 'Mama', 'Chichi', 'anasema', 'kuwa', 'Chichi', 'alibadilisha', 'shule', 'mara', 'kadhaa', 'katika', 'kipindi', 'cha', 'miaka', 'miwili', 'tu', 'na', 'kuongeza', 'utundu', 'maradufu', '.', 'Chanzo', 'cha', 'picha', ',', 'Namuye', '``', 'Mwaka', 'wa', 'mwisho', 'wa', 'kidato', 'cha', 'nne', ',', 'ghafla', 'alionekana', 'mchangamfu', 'ghafla', 'na', 'hata', 'kuomba', 'masomo', 'ya', 'ziada', 'kuhakikisha', 'kuwa', 'anaupita', 'mtihani', 'ila', 'nilimkumbusha', 'kuwa', 'alipoteza', 'muda', 'mwingi', 'kwa', 'kusudi', 'lake', 'juu', 'ya', 'tabia', 'zake', 'na', 'nikamweleza', 'alikuwa', 'amepoteza', 'nafasi', 'hiyo', ',', \"''\", 'Bi', 'Namuye', 'anakumbuka', '.', 'Hasira', 'za', 'mkizi', 'Matokeo', 'ya', 'mtihani', 'wake', 'wa', 'mwisho', 'yalipotolewa', 'hakuwa', 'amefanya', 'vyema', '.', 'Tena', 'akabadilisha', 'tabia', '.', 'Hasira', 'za', 'mkizi', '.', 'Wakati', 'mmoja', 'anakula', 'zaidi', ',', 'wakati', 'mwengine', 'hali', 'kabisa', '.', 'Aliongeza', 'marafiki', 'kwa', 'kasi', 'na', 'kuwapoteza', 'kwa', 'kasi', 'hiyo', 'hiyo', '.']\n",
      "\n",
      " Number of Words:  647\n"
     ]
    }
   ],
   "source": [
    "file=\"20nov25_3.txt\"\n",
    "\n",
    "# calling the function and storing the contents in a text variable \n",
    "text = get_document(\"https://www.bbc.com/swahili/habari-55061784\")\n",
    "\n",
    "# calling the store_ document function \n",
    "store_document(doc=text,name=file)\n",
    "\n",
    "#add the words in this file to the total_corpus_words, to keep count of the number of words in the corpus\n",
    "total_corpus_words+=total_words(file)"
   ]
  },
  {
   "cell_type": "code",
   "execution_count": 206,
   "metadata": {},
   "outputs": [
    {
     "data": {
      "text/plain": [
       "372277"
      ]
     },
     "execution_count": 206,
     "metadata": {},
     "output_type": "execute_result"
    }
   ],
   "source": [
    "total_corpus_words"
   ]
  },
  {
   "cell_type": "code",
   "execution_count": 207,
   "metadata": {},
   "outputs": [
    {
     "name": "stdout",
     "output_type": "stream",
     "text": [
      "['Mtanzania', 'aliyehukumiwa', 'kwa', 'kuhusika', 'katika', 'shambulio', 'la', 'kigaidi', 'lililotokea', 'mwaka', '2015', 'katika', 'chuo', 'kikuu', 'kimoja', 'nchini', 'Kenya', 'na', 'kusababisha', 'watu', '148', 'kufariki', ',', 'amejiua', 'mwenyewe', 'akiwa', 'gerezani', ',', 'vyombo', 'vya', 'habari', 'vya', 'Kenya', 'vimeripoti', '.', 'Washambuliaji', 'wanne', 'waliuawa', 'kwa', 'kupigwa', 'risasi', 'na', 'wanajeshi', 'wa', 'Kenya', 'katika', 'chuo', 'kikuu', 'cha', 'Garissa', ',', 'lakini', 'Rashid', 'Charles', 'Mberesero', ',', 'na', 'wenzake', 'wawili', 'walikamatwa', 'na', 'mwaka', 'jana', 'walihukumiwa', 'kwa', 'kuhusika', 'katika', 'ugaidi', '.', 'Hukumu', 'hiyo', 'ilimpa', 'bwana', 'Mberesero', 'kifungo', 'cha', 'maisha', 'gerezani', '.', 'Taarifa', 'zinasema', 'alikuwa', 'na', 'matatizo', 'ya', 'akili', 'wakati', 'akiwa', 'gerezani', 'na', 'alikuwa', 'anamuona', 'mtaalamu', 'wa', 'afya', 'akiwa', 'gerezani', '.', 'Al-Shabab', 'ilisema', 'imekuwa', 'katika', 'vita', 'na', 'Kenya', 'tangu', 'askari', 'wa', 'Kenya', 'kuingia', 'Somalia', 'mnamo', 'Oktoka', '2011', '.', 'Rashid', 'Charles', 'Mberesero', 'ni', 'nani', '?', 'Habari', 'kwamba', 'raia', 'mmoja', 'wa', 'Tanzania', 'ni', 'miongoni', 'mwa', 'washukiwa', 'watatu', 'waliopatikana', 'na', 'hatia', 'ya', 'kupanga', 'na', 'kutekeleza', 'shambulio', 'katika', 'chuo', 'kikuu', 'cha', 'Garissa', 'nchini', 'Kenya', '2015', 'ziliwaacha', 'wengi', 'na', 'mshangao', '.', 'Rashid', 'Charles', 'Mberesero', 'ambaye', 'alikamatwa', 'na', 'watu', 'wengine', 'wanne', 'muda', 'mfupi', 'baada', 'ya', 'mkasa', 'huo', 'wa', 'Garissa', 'uliosababisha', 'vifo', 'vya', 'wanafunzi', '148', ',', 'alipatikana', 'na', 'hatia', 'hiyo', 'wakati', 'mahakama', 'moja', 'nchini', 'Kenya', 'ilipotoa', 'uamuzi', 'wake', 'baada', 'ya', 'takriban', 'miaka', 'minne', '.', 'Katika', 'uamuzi', 'huo', 'raia', 'huyo', 'wa', 'Tanzania', 'pamoja', 'na', 'Hassan', 'Edin', 'na', 'Mohammed', 'Abdi', 'jina', 'jingine', 'Mohamned', 'Ali', 'Abikar', 'walipatikana', 'na', 'hatia', 'ya', 'kupanga', 'shambulio', 'hilo', 'chini', 'ya', 'ushirikiano', 'wa', 'wanachama', 'wa', 'kundi', 'la', 'Al-Shabab', '.', 'Haijulikani', 'ni', 'nini', 'haswa', 'kilichomfanya', 'kuingia', 'katika', 'ugaidi', 'Wazazi', 'wa', 'Rashid', 'walishangaa', 'kugundua', 'kwamba', 'kijana', 'wao', 'alikuwa', 'miongoni', 'mwa', 'watu', 'waliopanga', 'na', 'kutekeleza', 'shambulio', 'la', 'Garissa', '.', 'Kwa', 'takriban', 'miezi', 'minne', 'wazazi', 'wa', 'kijana', 'huyo', 'walidhani', 'kwamba', 'mtoto', 'wao', 'yupo', 'shule', 'swala', 'ambalo', 'halikuwa', 'la', 'kweli', '.', 'Siku', 'za', 'nyuma', 'wakati', 'ambapo', 'kesi', 'ya', 'washukiwa', 'hao', 'ilipokuwa', 'ikiendelea', 'raia', 'huyo', 'alipatikana', 'na', 'ugonjwa', 'wa', 'kiakili', 'akiwa', 'jela', '.', 'Kulingana', 'na', 'gazeti', 'la', 'Daily', 'Nation', 'nchini', 'Kenya', ',', 'Rashid', 'Charles', 'Mberesero', 'aligunduliwa', 'kuwa', 'hawezi', 'kuendelea', 'na', 'kesi', 'baada', 'ya', 'ripoti', 'ya', 'daktari', 'wa', 'maswala', 'ya', 'kiakili', 'kusema', 'kuwa', 'alikuwa', 'akitibiwa', 'tatizo', 'la', 'kuwa', 'na', '``', 'mienendo', 'isiyo', 'eleweka', \"''\", 'katika', 'jela', 'ya', 'kamiti', '.', 'Kulingana', 'na', 'Daily', 'Nation', ',', 'upande', 'wa', 'mashtaka', 'ulitaka', 'kupewa', 'muda', 'kujadiliana', 'jinsi', 'ya', 'kuendelea', 'na', 'kesi', 'hiyo', 'dhidi', 'ya', 'wenzake', 'kutoka', 'Kenya', '.', 'Alikuwa', 'akikabiliwa', 'na', 'matatizo', 'yasio', 'ya', 'kawaida', ',', 'ambapo', 'aliamini', 'watu', 'wote', 'karibu', 'naye', 'walikuwa', 'na', 'nia', 'za', 'kishetani', \"''\", ',', 'daktari', 'Mucheru', \"Wang'ombe\", 'aliandika', 'katika', 'ripoti', 'yake', '.']\n",
      "\n",
      " Number of Words:  396\n"
     ]
    }
   ],
   "source": [
    "file=\"20nov30_1.txt\"\n",
    "\n",
    "# calling the function and storing the contents in a text variable \n",
    "text = get_document(\"https://www.bbc.com/swahili/55126631\")\n",
    "\n",
    "# calling the store_ document function \n",
    "store_document(doc=text,name=file)\n",
    "\n",
    "#add the words in this file to the total_corpus_words, to keep count of the number of words in the corpus\n",
    "total_corpus_words+=total_words(file)"
   ]
  },
  {
   "cell_type": "code",
   "execution_count": 208,
   "metadata": {},
   "outputs": [
    {
     "data": {
      "text/plain": [
       "372673"
      ]
     },
     "execution_count": 208,
     "metadata": {},
     "output_type": "execute_result"
    }
   ],
   "source": [
    "total_corpus_words"
   ]
  },
  {
   "cell_type": "code",
   "execution_count": 209,
   "metadata": {},
   "outputs": [
    {
     "name": "stdout",
     "output_type": "stream",
     "text": [
      "['Katika', 'taarifa', ',', 'wizara', 'ya', 'masuala', 'ya', 'kigeni', 'nchini', 'Kenya', 'imesema', 'kwamba', 'inaunga', 'mkono', 'kuimarika', 'kwa', 'Somalia', 'na', 'kuonya', 'kwamba', 'hatua', 'hiyo', 'huenda', 'ikaathiri', 'mchakato', 'wa', 'Mogadishu', 'katika', 'kujijenga', 'upya', '.', \"''Serikali\", 'ya', 'Kenya', 'inaheshimu', 'na', 'kufuata', 'sheria', 'za', 'kimataifa', 'za', 'uhuruwa', 'kitaifa', ',', 'ule', 'wa', 'kieneo', 'na', 'pia', 'kisiasa', 'hususana', 'kwa', 'mataifa', 'Afrika', \"''\", '.', 'Hatua', 'hiyo', 'ya', 'Kenya', 'inajiri', 'baada', 'ya', 'Somalia', 'siku', 'ya', 'Jumapili', 'kumtaka', 'balozi', 'wake', 'nchini', 'Kenya', 'Mohamud', 'Ahmed', 'Nur', \"'Tarzan\", \"'\", 'kurudi', 'nyumbani', 'kwa', 'mazungumzo', 'baada', 'ya', 'kuishutumu', 'Kenya', 'kwa', 'kuingilia', 'masuala', 'yake', 'ya', 'nyumbani', '.', 'Mogadishu', 'pia', 'iliagiza', 'balozi', 'wa', 'Kenya', 'nchini', 'Somalia', 'Lucas', 'Tumbo', 'kurudi', 'Nairobi', '.', 'Inadaiwa', 'kwamba', 'tangazo', 'hilo', 'lilitolewa', 'baada', 'ya', 'bwana', 'Nur', 'Kuwasili', 'nyumbani', 'Mogadishu', '.', 'Suala', 'la', 'Jubbaland', 'Bwana', 'Nur', ',', 'katibu', 'wa', 'kudumu', 'katika', 'wizara', 'ya', 'masuala', 'ya', 'kigeni', 'nchini', 'Somalia', ',', 'alinukuliwa', 'na', 'chombo', 'cha', 'habari', 'cha', 'taifa', 'hilo', 'akisema', 'kwamba', 'Kenya', 'ilimshawishi', 'kiongozi', 'wa', 'jimbo', 'la', 'Jubbaland', 'Ahmed', 'Islan', 'Madobe', ',', 'kukaidi', 'makubaliano', 'muhimu', 'ya', 'kisiasa', '.', 'Makubaliano', 'kati', 'ya', 'majimbo', 'hayo', 'na', 'serikali', 'hiyo', 'ya', 'kijimbo', 'yalioafikiwa', 'miezi', 'miwili', 'iliopita', 'yanahusu', 'mpango', 'wa', 'kufanya', 'uchaguzi', 'usio', 'moja', 'kwa', 'moja', 'wa', 'wabunge', 'katika', 'miji', 'mikuu', 'ya', 'kila', 'jimbo', '.', 'Serikali', 'ya', 'Somalia', 'inaelewa', 'kwamba', 'kutokana', 'na', 'hatua', 'ya', 'serikali', 'ya', 'Kenya', 'katika', 'kuingilia', 'masuala', 'ya', 'kisiasa', 'ya', 'taifa', 'la', 'Somalia', ',', 'Rais', 'wa', 'Jimbo', 'la', 'Jubbaland', 'ameenda', 'kinyume', 'na', 'makubaliano', 'yalioafikiwa', 'tarehe', '17', 'Septemba', 'mjini', 'Mogadishu', ',', 'katibu', 'huyo', 'alisema', 'siku', 'ya', 'Jumapili', '.', 'Moja', 'ya', 'makubaliano', 'hayo', 'ya', 'kisiasa', 'yalimaanisha', 'kwamba', 'vituo', 'viwili', 'vya', 'mji', 'katika', 'kila', 'jimbo', 'vitatumika', 'kama', 'vituo', 'vya', 'kupigia', 'kura', 'kuwachagua', 'wabunge', '.', 'Lakini', 'Jubbaland', 'ilitofautiana', 'na', 'serikali', 'hiyo', 'ya', 'kijimbo', 'kuhusu', 'iwapo', 'jimbo', 'hilo', 'litasimamia', 'kamili', 'usalama', 'wa', 'vituo', 'hivyo', '.', 'Pia', 'walitofautiana', 'kuhusu', 'vituo', 'hivyo', '.', 'Siku', 'ya', 'Jumapili', ',', 'Madobe', 'alionya', 'kwamba', 'hakutakuwa', 'na', 'uchaguzi', 'katika', 'jimbo', 'lake', 'hadi', 'suala', 'hilo', 'litakapotatuliwa', 'haraka', 'iwezekanavyo', '.', 'Lakini', 'Kenya', 'inasema', 'kwamba', 'ilikuwa', 'ikizishinikiza', 'pande', 'zote', 'kufanya', 'mazungumzo', 'ili', 'kumaliza', 'tofauti', 'zao', 'kwa', 'lengo', 'la', 'kuhakikisha', 'kuwa', 'uchaguzi', 'huo', 'unafanyika', '.', \"''Ni\", 'jukumu', 'la', 'pande', 'zote', 'za', 'kiaisa', 'nchini', 'Somalia', 'kuafikia', 'majukumu', 'yake', 'ya', 'kisiasa', 'kuzuia', 'hatua', 'zinazoweza', 'kuficha', 'yanayoendelea', 'na', 'kufanya', 'mazungumzo', 'ya', 'kuhakikisha', 'uchaguzi', 'huo', 'unafanyika', 'kwa', 'muda', 'uliowekwa', ',', 'hatua', 'ambayo', 'itaadhimisha', 'wakati', 'muhimu', 'wa', 'juhudi', 'za', 'ujenzi', 'wa', 'Somalia', \"''\", '.']\n",
      "\n",
      " Number of Words:  376\n"
     ]
    }
   ],
   "source": [
    "file=\"20nov30_2.txt\"\n",
    "\n",
    "# calling the function and storing the contents in a text variable \n",
    "text = get_document(\"https://www.bbc.com/swahili/habari-55130033\")\n",
    "\n",
    "# calling the store_ document function \n",
    "store_document(doc=text,name=file)\n",
    "\n",
    "#add the words in this file to the total_corpus_words, to keep count of the number of words in the corpus\n",
    "total_corpus_words+=total_words(file)"
   ]
  },
  {
   "cell_type": "code",
   "execution_count": 210,
   "metadata": {},
   "outputs": [
    {
     "data": {
      "text/plain": [
       "373049"
      ]
     },
     "execution_count": 210,
     "metadata": {},
     "output_type": "execute_result"
    }
   ],
   "source": [
    "total_corpus_words"
   ]
  },
  {
   "cell_type": "code",
   "execution_count": 211,
   "metadata": {},
   "outputs": [
    {
     "name": "stdout",
     "output_type": "stream",
     "text": [
      "['Familia', 'ya', 'Mberesero', 'imesema', 'haijapokea', 'taarifa', 'rasmi', 'kuhusu', 'kifo', 'cha', 'kijana', 'wao', 'Huwezi', 'kusikiliza', 'tena', 'Familia', 'ya', 'Mberesero', 'imesema', 'haijapokea', 'taarifa', 'rasmi', 'kuhusu', 'kifo', 'cha', 'kijana', 'wao', '1', 'Disemba', '2020', 'Familia', 'ya', 'mtanzania', 'anayedaiwa', 'kujinyonga', 'gerezani', 'nchini', ',', 'imesema', 'mpaka', 'sasa', 'haijapata', 'taarifa', 'rasmi', 'ya', 'kifo', 'cha', 'kijana', 'wao', 'huyo', ',', 'aliyekuwa', 'anatumikia', 'kifungo', 'cha', 'maisha', 'jela', ',', 'baada', 'ya', 'kukutwa', 'na', 'hatia', 'ya', 'kuhusika', 'katika', 'shambulio', 'la', 'kigaidi', 'la', 'mwaka', '2015', 'nchini', 'Kenya', '.', 'Shambulio', 'hilo', 'lililofanywa', 'katika', 'chuo', 'kikuu', 'cha', 'garisa', 'lilisababisha', 'vifo', 'vya', 'watu', '148', '.', 'Vyombo', 'vya', 'habari', 'nchini', 'Kenya', 'vimeripoti', 'kwamba', ',', 'Rashid', 'Charles', 'Mberesero', ',', 'aliyekamatwa', 'mwaka', 'jana', 'na', 'wenzake', 'wawili', ',', 'alijinyonga', 'kwa', 'kutumia', 'blanketi', ',', 'kwenye', 'gereza', 'lenye', 'ulinzi', 'mkali', 'la', 'Kamiti', '.']\n",
      "\n",
      " Number of Words:  121\n"
     ]
    }
   ],
   "source": [
    "file=\"20dec1.txt\"\n",
    "\n",
    "# calling the function and storing the contents in a text variable \n",
    "text = get_document(\"https://www.bbc.com/swahili/habari-55129503\")\n",
    "\n",
    "# calling the store_ document function \n",
    "store_document(doc=text,name=file)\n",
    "\n",
    "#add the words in this file to the total_corpus_words, to keep count of the number of words in the corpus\n",
    "total_corpus_words+=total_words(file)"
   ]
  },
  {
   "cell_type": "code",
   "execution_count": 212,
   "metadata": {},
   "outputs": [
    {
     "data": {
      "text/plain": [
       "373170"
      ]
     },
     "execution_count": 212,
     "metadata": {},
     "output_type": "execute_result"
    }
   ],
   "source": [
    "total_corpus_words"
   ]
  },
  {
   "cell_type": "code",
   "execution_count": 213,
   "metadata": {},
   "outputs": [
    {
     "name": "stdout",
     "output_type": "stream",
     "text": [
      "['Alipojipapasa', 'aligundua', 'kuwa', 'hakuwa', 'na', 'mavazi', '.', 'Wasiwasi', 'ulimjaa', 'akilini', 'akijaribu', 'kubaini', 'ni', 'nini', 'kilichokuwa', 'kimetendeka', '.', 'Je', ',', 'alikuwa', 'anaota', 'tu', 'au', 'ulikuwa', 'uhalisia', '?', 'Alichokuwa', 'bado', 'hajafahamu', 'ni', 'kwamba', 'alikuwa', 'kwenye', 'chumba', 'cha', 'kuhifadhi', 'maiti', ',', 'akisubiri', 'kufanyiwa', 'uhifadhi', 'wa', 'maiti', '.', 'Alikuwa', 'amehamishiwa', 'huko', 'baada', 'yake', 'kuzimia', 'na', 'kutoonesha', 'dalili', 'za', 'uhai', 'kwa', 'karibu', 'siku', 'nzima', '.', 'Madaktari', 'na', 'wahudumu', 'waliokuwa', 'wameuleta', 'mwili', 'mwingine', 'wa', 'mngonjwa', 'aliyekuwa', 'amefariki', 'baada', 'ya', 'kuugua', 'ndio', 'waliomsikia', 'Harriet', 'Nyakio', 'akiwa', 'anajaribu', 'kupumua', 'na', 'kuamka', 'kutoka', 'kwenye', \"'usingizi\", 'wa', 'kifo', \"'\", '.', 'Mwendo', 'wa', 'saa', 'kumi', 'na', 'moja', 'alfajiri', ',', 'alichukuliwa', 'na', 'msamaria', 'mwema', 'aliyekuwa', 'anaenda', 'zake', 'na', 'kumuweka', 'kando', 'ya', 'reli', ',', 'chini', 'ya', 'mti', '.', 'Polisi', 'walipoelezwa', 'kuhusu', 'mwili', 'wa', 'mwanamke', 'kuonekana', 'sehemu', 'hiyo', ',', 'walivyomkuta', 'akiwa', 'amezingirwa', 'na', 'nzi', 'na', 'kufunika', 'macho', 'yake', 'hawakudhani', 'angekuwa', 'hai', '.', 'Polisi', 'walimpeleka', 'hadi', 'chumba', 'cha', 'kuhifadhia', 'maiti', 'na', 'kumuacha', 'huko', 'wasijue', 'kuwa', 'alikuwa', 'hai', 'ila', 'alipoteza', 'fahamu', 'aliposhikwa', 'na', 'kifafa', '.', 'Chanzo', 'cha', 'picha', ',', 'Harriet', 'Nyakio', 'Maelezo', 'ya', 'picha', ',', 'Harriet', 'alikuwa', 'na', 'ugonjwa', 'wa', 'kifafa', 'Alipataje', 'ugonjwa', 'wa', 'kifafa', '?', 'Harriet', 'Nyakio', 'alizaliwa', 'katika', 'kaunti', 'ya', 'Kerogoya', ',', 'eneo', 'la', 'mlima', 'Kenya', '.', 'Alizaliwa', 'wakati', 'mama', 'yake', 'alipokuwa', 'kidato', 'cha', 'pili', 'shule', 'ya', 'sekondari', '.', 'Baada', 'ya', 'mwezi', 'mmoja', 'mama', 'yake', 'alirejea', 'kusoma', 'na', 'akiachwa', 'chini', 'ya', 'malezi', 'ya', 'bibi', 'na', 'babu', '.', 'Kwa', 'hivyo', ',', 'Harriet', 'alikuwa', 'akiwafahamu', 'bibi', 'na', 'babu', 'kuwa', 'walezi', 'wenye', 'kushughulikia', 'mahitaji', 'yake', 'yote', '.', 'Alipohitimu', 'miaka', 'minne', 'alianza', 'shule', 'kijijini', 'kwao', '.', 'Shule', 'aliyokuwa', 'anasomea', 'ilikuwa', 'mbali', 'kidogo', 'na', 'nyumbani', 'kwao', 'na', 'ilimbidi', 'atembee', 'mwendo', 'mrefu', 'kiasi', 'kwenda', 'na', 'kurudi', 'kutoka', 'shuleni', '.', 'Siku', 'moja', 'alipokuwa', 'anarejea', 'nyumbani', 'kutoka', 'shuleni', 'akiandamana', 'na', 'watoto', 'wengine', ',', 'gari', 'lilipoteza', 'mwelekeo', 'na', 'kuwagonga', '.', 'Yeye', 'pekee', 'ndiye', 'aliyeumia', ',', 'na', 'alipata', 'majeraha', 'mabaya', '``', 'Nilikaa', 'chumba', 'cha', 'wagonjwa', 'mahututi', 'kwa', 'siku', '96', '.', 'Baada', 'ya', 'kutoka', 'hospitalini', 'nilianza', 'kuanguka', 'ghafla', 'na', 'kupoteza', 'fahamu', '.', 'Vipimo', 'zaidi', 'vilipofanywa', 'nilielezwa', 'nilikuwa', 'na', 'Kifafa', ',', \"''\", 'Harriet', 'anakumbuka', '.', 'Kukataliwa', 'shuleni', 'Maisha', 'yalibadilika', 'mno', 'kwake', 'kwani', 'hata', 'katika', 'shule', 'aliyokuwa', 'anasomea', 'wakati', 'huo', 'walikataa', 'aendeleze', 'masomo', 'yake', '.', 'Walimu', 'walikuwa', 'na', 'wasiwasi', 'kuwa', 'ugonjwa', 'wake', 'Harriet', 'ulikuwa', 'unawaogofya', 'wanafunzi', 'wengine', '.', 'Shule', 'baada', 'ya', 'shule', 'akiingia', 'tu', 'na', 'kushikwa', 'na', 'kifafa', 'alikuwa', 'anafukuzwa', 'wasitake', 'arejee', 'tena', '.', 'Vile', 'vile', 'uhusiano', 'wake', 'na', 'mama', 'yake', 'ulizidi', 'kuathirika', '.', 'Ingawa', 'wakati', 'mmoja', 'mamake', 'alimchukua', 'kuishi', 'naye', 'mjini', ',', 'kulingana', 'na', 'Harriet', 'haikuwa', 'rahisi', '.', 'Kuanzia', 'ilipogunduliwa', 'ana', 'ugonjwa', 'wa', 'kifafa', 'hadi', 'leo', 'Harriet', 'amekuwa', 'akitumia', 'dawa', 'za', 'kumeza', 'kila', 'siku', 'kuzuia', 'hali', 'hiyo', '.', 'Kubakwa', 'tena', 'Chanzo', 'cha', 'picha', ',', 'Harriet', 'Nyakio', 'Maelezo', 'ya', 'picha', ',', 'Harriet', 'Nyakio', 'alikataliwa', 'shuleni', 'Kila', 'wakati', 'Harriet', 'alikuwa', 'anajiuliza', 'maswali', 'mengi', 'kimoyomoyo', 'kuhusu', 'hali', 'yake', '.', 'Ni', 'wasamaria', 'wema', 'waliomuokoa', 'na', 'kumupeleka', 'hospitalini', 'kwa', 'matibabu', '.', 'Harriet', 'anasema', 'kuwa', 'amekumbwa', 'na', 'changamoto', 'za', 'kuripoti', 'visa', 'vyake', 'kwa', 'chifu', 'wa', 'eneo', 'anakoishi', '.', 'Licha', 'ya', 'kuwatambua', 'waliombaka', 'anapuuzwa', 'na', 'kuitwa', 'mtu', 'asiye', 'na', 'akili', 'timamu', '.', '``', 'Huwa', 'ninakutana', 'na', 'baadhi', 'ya', 'wanaume', 'walionitendea', 'maovu', 'haya', '.', 'Wakati', 'mwingine', 'wananisalimia', 'na', 'ninaitikia', 'na', 'kwenda', 'zangu', ',', \"''\", 'Harriet', 'anasema', 'Kupata', 'upendo', 'katika', 'ndoa', 'na', 'usaidizi', '.', '``', 'Nilikutana', 'na', 'mume', 'katika', 'pilika', 'pilika', 'za', 'kutafuta', 'sehemu', 'salama', 'ya', 'kulala', ',', 'tulifahamiana', 'kwa', 'muda', ',', \"''\", 'anasema', '.', '``', 'Baada', 'ya', 'kumueleza', 'masaibu', 'yangu', 'yote', ',', 'na', 'haya', 'kuhusu', 'ugonjwa', 'wa', 'kifafa', 'amenikubali', 'nilivyo', '.', 'Tumefunga', 'ndoa', 'sasa', 'na', 'tumebarikiwa', 'watoto', 'wawili', '.', \"''\", 'Mume', 'wa', 'Harriet', 'hamruhusu', 'akaribie', 'jikoni', 'kuwa', 'hivyo', 'shughuli', 'zote', 'za', 'mapishi', 'hufanywa', 'na', 'mumewe', '.', 'Mume', 'wake', 'huhakikisha', 'kuwa', 'kila', 'alipo', 'yuko', 'salama', ',', 'hususan', 'kuepukana', 'na', 'hatari', 'zinazozunguka', 'ugonjwa', 'wa', 'kifafa', '.', 'Vile', 'vile', 'shirika', 'mmoja', 'linalohusika', 'na', 'masuala', 'ya', 'watu', 'wanaougua', 'Kifafa', 'kwa', 'jina', 'Kiserem', 'epilepsy', 'foundation', 'linafanya', 'kazi', 'kwa', 'karibu', 'mno', 'na', 'Harriet', 'katika', 'juhudi', 'zake', 'za', 'kufanikisha', 'kipaji', 'alichonacho', 'cha', 'ushonaji', 'wa', 'nguo', '.', 'Ugonjwa', 'wa', 'kifafa', 'husababishwa', 'na', 'nini', '?', 'Huu', 'ni', 'ugonjwa', 'unaosababishwa', 'na', 'seli', 'zilizopo', 'katika', 'mishipa', 'ya', 'fahamu', ',', 'zinazopatikana', 'kwenye', 'ubongo', 'wakati', 'zinapoanza', 'kutoa', 'umeme', '(', 'impulses', ')', 'mwingi', 'kuliko', 'kawaida', 'kwenda', 'kwenye', 'misuli', 'na', 'sehemu', 'nyingine', 'za', 'mwili', '.', 'Hili', 'husababisha', 'mtu', 'kuwa', 'na', 'dalili', 'kama', 'kuishiwa', 'na', 'nguvu', ',', 'kichwa', 'kuuma', ',', 'kuchanganyikiwa', ',', 'mwili', 'kukakamaa', ',', 'na', 'hata', 'kupoteza', 'fahamu', '.', 'Hali', 'hiyo', 'hijirudiarudia', 'mara', 'kwa', 'mara', '.', 'Chanzo', 'kikuu', 'kwa', 'watu', 'wengi', 'hakifahamiki', 'ila', 'wataalamu', 'wanasema', 'hizi', 'ni', 'baadhi', 'ya', 'sababu', ':', 'Kurithi', ':', 'Familia', 'nyingine', 'huwa', 'na', 'tatizo', 'hili', ',', 'hivyo', 'watoto', 'na', 'wajukuu', 'huzaliwa', 'na', 'tatizo', 'hili', '.', 'Kuumia', 'kichwa', ':', 'Ajali', 'zinazosababisha', 'kuumia', 'kwa', 'kichwa', 'hususan', 'mtu', 'anapoumia', 'mishipa', 'ya', 'fahamu', 'na', 'mtu', 'kuumia', 'anaweza', 'kupatwa', 'na', 'kifafa', '.', 'Uvimbe', 'kwenye', 'uti', 'wa', 'mgongo', ':', 'Matatizo', 'kwenye', 'ubongo', 'yanayosababishwa', 'na', 'matatizo', 'kama', 'vile', 'saratani', '.', 'Kiharusi', ':', 'Hali', 'hiyo', 'husababisha', 'mtu', 'kupooza', 'nusu', 'wa', 'mwili', 'wake', 'na', 'huenda', 'ukasababisha', 'kifafa', '.', 'Matatizo', 'wakati', 'mtoto', 'anapozaliwa', ':', 'Wakati', 'mwengine', 'mtoto', 'hushindwa', 'kutoka', 'kwa', 'njia', 'ya', 'kawaida', 'na', 'kichwa', 'chake', 'kubanwa', 'sana', 'na', 'kusababisha', 'kifafa', '.', 'Wakati', 'mwingine', ',', 'mtoto', 'akiwa', 'ndani', 'ya', 'tumbo', 'la', 'mama', 'huenda', 'mishipa', 'na', 'ubongo', 'kichwani', 'ikakosa', 'kuungana', 'vyema', 'na', 'wakati', 'mwingine', 'hilo', 'linaweza', 'kusababisha', 'kifafa', '.', 'Ugonjwa', 'wa', 'kifafa', 'hauna', 'tiba', 'kamili', ',', 'yaani', 'hauponi', 'kwa', 'asilimia', 'mia', 'moja', '.', 'Ukishafahamishwa', 'una', 'kifafa', 'utapewa', 'utaratibu', 'wa', 'matibabu', 'yaani', 'kumeza', 'dawa', 'siku', 'zote', 'za', 'maisha', 'yako', ',', 'na', 'pia', 'kufuata', 'baadhi', 'ya', 'masharti', '.', 'Kwa', 'kufuata', 'hayo', ',', 'mtu', 'anaweza', 'kuishi', 'maisha', 'ya', 'kawaida', '.']\n",
      "\n",
      " Number of Words:  891\n"
     ]
    }
   ],
   "source": [
    "file=\"20nov30_3.txt\"\n",
    "\n",
    "# calling the function and storing the contents in a text variable \n",
    "text = get_document(\"https://www.bbc.com/swahili/habari-54350892\")\n",
    "\n",
    "# calling the store_ document function \n",
    "store_document(doc=text,name=file)\n",
    "\n",
    "#add the words in this file to the total_corpus_words, to keep count of the number of words in the corpus\n",
    "total_corpus_words+=total_words(file)"
   ]
  },
  {
   "cell_type": "code",
   "execution_count": 214,
   "metadata": {},
   "outputs": [
    {
     "data": {
      "text/plain": [
       "374061"
      ]
     },
     "execution_count": 214,
     "metadata": {},
     "output_type": "execute_result"
    }
   ],
   "source": [
    "total_corpus_words"
   ]
  },
  {
   "cell_type": "code",
   "execution_count": 215,
   "metadata": {},
   "outputs": [
    {
     "name": "stdout",
     "output_type": "stream",
     "text": [
      "['Virusi', 'vya', 'corona', ':', 'Kituo', 'cha', 'afya', 'CDC', 'Marekani', 'chatahadharisha', 'raia', 'wanaokwenda', 'Afrika', 'Mashariki', '3', 'Disemba', '2020', 'Chanzo', 'cha', 'picha', ',', 'AFP', 'Kituo', 'cha', 'kudhibiti', 'magonjwa', 'nchini', 'Marekani', '(', 'CDC', ')', 'kimetoa', 'tahadhari', 'kwa', 'raia', 'wake', 'kutofanya', 'safari', 'kwa', 'baadhi', 'ya', 'nchi', 'za', 'Afrika', 'Mashariki', '(', 'Kenya', ',', 'Tanzania', ',', 'Uganda', ')', 'kwa', 'kile', 'ilichodai', 'kuwa', 'nchi', 'hizo', 'zina', 'kiwango', 'kikubwa', 'cha', 'maambukizi', 'ya', 'Covid-19', ',', 'kitaalamu', '(', 'A', 'Level', '4', 'alert', ')', '.', \"'\", 'A', 'Level', 'alert', \"'\", 'ina', 'maana', 'kuwa', 'raia', 'wa', 'Marekani', 'wanapaswa', 'kuepuka', 'kusafiri', 'kwenye', 'nchi', 'hizo', 'kwa', 'kuwa', 'kuna', 'uwezekano', 'mkubwa', 'wa', 'kupata', 'maambukizi', 'ya', 'Covid-19', ',', 'kwa', 'mujibu', 'wa', 'tathimini', 'ya', 'CDC', '.', 'Tahadhari', 'hiyo', 'imekuja', 'wakati', 'ambapo', 'Marekani', 'imeripoti', 'idadi', 'kubwa', 'ya', 'vifo', 'vilivyotokana', 'na', 'virusi', 'vya', 'corona', 'kwa', 'siku', 'moja', ',', 'huku', 'idadi', 'ya', 'vifo', 'kwa', 'siku', 'ya', 'Jumatano', 'pekee', 'ikiwa', 'watu', '3,157', '.', 'Zaidi', 'ya', 'watu', '273,799', 'wamepoteza', 'maisha', 'kutokana', 'na', 'virusi', 'hivi', 'na', 'zaidi', 'ya', 'watu', 'milioni', '13.9', 'wameambukizwa', ',', 'kwa', 'mujibu', 'wa', 'takwimu', 'za', 'Chuo', 'cha', 'Johns', 'Hopkins', '.', 'Taasisi', 'hiyo', 'ya', 'Marekani', 'imeshauri', 'watu', 'wanaosafiri', 'kuelekea', 'nchi', 'hizo', 'kupima', 'siku', 'moja', 'mpaka', 'tatu', 'kabla', 'ya', 'safari', '.', \"''Usisafiri\", 'kama', 'unasubiri', 'majibu', 'ya', 'vipimo', ',', 'ikiwa', 'umekutwa', 'na', 'maambukizi', 'au', 'mgonjwa', ',', \"''\", 'imeongeza', 'CDC', '.', 'Wasafiri', 'wa', 'Kimarekani', 'wameshauriwa', 'na', 'CDC', '``', 'kuvaa', 'barakoa', ',', 'kutokaribiana', 'na', 'watu', 'ambao', 'hawasafiri', 'na', 'wewe', ',', 'onsha', 'mikono', 'yako', 'na', 'mara', 'kwa', 'mara', 'tumia', 'vitakasa', 'mikono', ',', 'na', 'fuatilia', 'kwa', 'karibu', 'afya', 'yako', '.', \"''\", 'Na', 'kabla', 'ya', 'kusafiri', 'kurejea', 'Marekani', ',', 'wasafiri', 'wametakiwa', 'kupimwa', 'na', 'kukaa', 'karantini', 'kwa', 'siku', 'saba', 'baada', 'ya', 'kuwasili', 'nyumbani', '.', '``', 'Usipopimwa', ',', 'ni', 'salama', 'kukaa', 'nyumbani', 'kwa', 'siku', '14', '.', 'Ikiwa', 'utakutwa', 'na', 'COVID-19', 'wakati', 'wa', 'kusafiri', ',', 'ahirisha', 'safari', ',', 'kaa', 'karantini', ',', 'fanya', 'vipimo', ',', 'na', 'uangalie', 'afya', 'yako', ',', \"''\", 'imesema', 'Taasisi', 'ya', 'afya', 'ya', 'Marekani', '.', 'Rwanda', 'pekee', 'imetathiminiwa', 'kuwa', 'nchi', 'yenye', 'kiwango', 'cha', 'chini', 'cha', 'maambukizi', ',', 'hata', 'hiyo', 'wasafiri', 'wametakiwa', 'kufuata', 'taratibu', 'kabla', 'ya', 'kuingia', 'na', 'kutoka', 'nchini', 'humo', 'Kenya', 'imeripoti', 'maambukizi', 'ya', 'watu', '85,130', 'na', 'vifo', '1,484', 'vilivyotokana', 'na', 'virusi', 'vya', 'corona', 'mpaka', 'sasa', 'Takwimu', 'rasmi', 'za', 'mwisho', 'za', 'Tanzania', 'zilitangazwa', '29', 'Aprili', 'na', 'Waziri', 'Mkuu', 'ambapo', 'wagonjwa', 'walikuwa', '480', ',', 'na', 'waliokuwa', 'wamefariki', 'kutokana', 'na', 'ugonjwa', 'huo', 'walikuwa', '21', '.', 'Zanzibar', 'baadaye', 'ilitangaza', 'ongezeko', 'la', 'wagonjwa', 'mara', 'moja', ',', 'mnamo', 'tarehe', '7', 'mwezi', 'Mei', 'walipotangaza', 'wagonjwa', '29', 'wapya', '.', 'Kwa', 'mujibu', 'Wizara', 'ya', 'Afya', 'Uganda', ',', 'watu', '21,409', 'wameambukizwa', 'na', 'idadi', 'ya', 'vifo', 'imefika', 'watu', '206', '.']\n",
      "\n",
      " Number of Words:  411\n"
     ]
    }
   ],
   "source": [
    "file=\"20dec3_1.txt\"\n",
    "\n",
    "# calling the function and storing the contents in a text variable \n",
    "text = get_document(\"https://www.bbc.com/swahili/habari-55171939\")\n",
    "\n",
    "# calling the store_ document function \n",
    "store_document(doc=text,name=file)\n",
    "\n",
    "#add the words in this file to the total_corpus_words, to keep count of the number of words in the corpus\n",
    "total_corpus_words+=total_words(file)"
   ]
  },
  {
   "cell_type": "code",
   "execution_count": 216,
   "metadata": {},
   "outputs": [
    {
     "data": {
      "text/plain": [
       "374472"
      ]
     },
     "execution_count": 216,
     "metadata": {},
     "output_type": "execute_result"
    }
   ],
   "source": [
    "total_corpus_words"
   ]
  },
  {
   "cell_type": "code",
   "execution_count": 217,
   "metadata": {},
   "outputs": [
    {
     "name": "stdout",
     "output_type": "stream",
     "text": [
      "['Je', ',', 'Kesi', 'za', 'ICC', 'na', 'BBI', 'zitamuathiri', 'vipi', 'Naibu', 'Rais', 'Ruto', 'kisiasa', '?', 'Mwendesha', 'mkuu', 'wa', 'mashtaka', 'kwenye', 'mahakama', 'ya', 'kimaitaifa', 'ya', 'Uhalifu', '(', 'ICC', ')', 'Fatou', 'Bensouda', 'kutoka', 'makao', 'makuu', 'huko', 'Hague', 'anasema', 'mahakama', 'iko', 'tayari', 'kupokea', 'habari', 'mpya', 'kuhusiana', 'na', 'kesi', 'zinazowahusu', 'Naibu', 'Rais', 'William', 'Ruto', 'na', 'mwanahabari', 'Joshua', 'Sang', '.', 'Je', ',', 'kesi', 'hizo', 'zitamuathiri', 'vipi', 'Ruto', 'katika', 'siasa', 'zake', 'wakati', 'akijitayarisha', 'kuwania', 'Urais', 'kwenye', 'uchaguzi', 'wa', 'mwaka', 'wa', '2022', '.', 'Itakumbukwa', 'kuwa', 'Dkt', '.', 'Ruto', 'alikuwa', 'miongoni', 'mwa', 'watu', 'sita', 'walioshtakiwa', 'dhidi', 'ya', 'uhalifu', 'wa', 'kibinadamu', 'ambayo', 'ni', 'pamoja', 'na', 'mauaji', ',', 'kuwahamisha', 'kwa', 'nguvu', 'na', 'kuwatesa', 'watu', 'baada', 'ya', 'uchaguzi', 'ulioibua', 'mvutano', 'mkubwa', 'mwishoni', 'mwa', 'mwezi', 'wa', 'Desemba', 'mwaka', '2007', 'na', 'kupelekea', 'vurugu', 'zilizosambaa', 'nchi', 'nzima', 'mapema', 'mwaka', '2008', '.', 'Ikumbukwe', 'kwamba', 'kesi', 'dhidi', 'ya', 'Dkt', 'Ruto', 'na', 'Sang', 'zilitupiliwa', 'mbali', 'na', 'mahakama', 'hiyo', 'kutokana', 'na', 'ukosefu', 'wa', 'ushahidi', 'wa', 'kutosha', '.', 'Aliyekuwa', 'kiongozi', 'wa', 'Mashtaka', 'wakati', 'huo', ',', 'Fatou', 'Bensouda', 'aliilaumu', 'serikali', 'ya', 'Kenya', 'kwa', 'kukataa', 'akushirikiana', 'na', 'mahakama', 'hiyo', 'na', 'muingilio', 'wa', 'kisiasa', '.', 'Lakini', 'mwendesha', 'mashtaka', 'Fatou', 'Bensouda', 'sasa', 'anasema', 'yuko', 'tayari', 'kupokea', 'ushahidi', 'mpya', 'kutoka', 'kwa', 'serikali', 'ama', 'mtu', 'yeyote', '.', 'Mashataka', 'dhidi', 'ya', 'Paul', 'Gicheru', 'Haya', 'yanatokea', 'huku', 'wakili', 'kutoka', 'Kenya', ',', 'Paul', 'Gicheru', 'akiwa', 'ameshajisalimisha', 'na', 'kesi', 'dhidi', 'yake', 'kuanza', 'kwenye', 'mahakama', 'hiyo', 'ya', 'ICC', '.', 'Kuanza', 'kwa', 'kesi', 'hiyo', 'pamoja', 'na', 'uwezekano', 'wa', 'ushahidi', 'mpya', 'kuwasilishwa', 'na', 'kuanza', 'kwa', 'kesi', 'dhidi', 'ya', 'Bwana', 'Ruto', 'na', 'Bwana', 'Sang', 'kuhusu', 'machafuko', 'ya', 'baada', 'ya', 'uchaguzi', 'nchini', 'Kenya', 'mwaka', 'wa', '2008-2009', 'kumezua', 'na', 'kuanzisha', 'mijadala', 'na', 'mdahalo', 'mpya', 'kuhusiana', 'na', 'kesi', 'kwenye', 'mahakama', 'ya', 'ICC', 'zilizowahusu', 'William', 'Ruto', 'na', 'wengine', 'mwaka', 'wa', '2010', 'pamoja', 'na', 'athari', 'zake', 'kwenye', 'siasa', 'za', 'Kenya', 'huku', 'uchaguzi', 'wa', 'mwaka', 'wa', '2022', 'ukakaribia', '.', 'Hayo', 'yote', 'yalianza', 'mnamo', 'Novemba', '2', ',', 'wakati', 'wakili', 'Paul', 'Gicheru', 'kutoka', 'Kenya', 'alipojisalimisha', 'kwa', 'wakuu', 'wa', 'nchi', 'huko', 'Udachi', 'baada', 'ya', 'kuwasili', 'jijini', 'Amsterdam', 'akiandamana', 'na', 'mkewe', '.', 'Baadaye', ',', 'wakili', 'huyu', 'alitwaliwa', 'kwa', 'mahakama', 'ya', 'ICC', 'ambayo', 'ilikuwa', 'tayari', 'imetoa', 'amri', 'ya', 'kukamatwa', 'kwake', 'na', 'Wakenya', 'wengine', 'wawili', 'mnamo', 'Machi', ',', '2015', '.', 'Wakenya', 'hawa', 'wawili', 'waalikuwa', 'wanatakiwa', 'na', 'mahakama', 'ya', 'ICC', 'kushtakiwa', 'kwa', 'tuhuma', 'za', 'kuwahonga', 'mashahidi', ',', 'kwa', 'kutumia', 'mbinu', 'za', 'chini', 'kwa', 'chini', 'kuhakikisha', 'kuwa', 'ushahidi', 'dhidi', 'ya', 'Rais', 'Kenyatta', 'na', 'naibu', 'wake', 'William', 'Ruto', 'na', 'mwanahabari', 'Joshua', 'Sang', 'haufui', 'dafu', '.', 'Kesi', 'hizo', 'za', 'Wakenya', 'ambazo', 'mwanzoni', 'zilikuwa', 'sita', ',', 'zote', 'zilisitishwa', 'kwa', 'ukosefu', 'wa', 'ushahidi', 'na', 'mashahidi', '.', 'Kesi', 'za', 'ICC', 'na', 'kuchaguliwa', 'kwa', 'Uhuru', 'na', 'Ruto', 'Kesi', 'inayomhusu', 'wakili', 'Gicheru', 'inaibua', 'maswali', 'kuhusu', 'kesi', 'za', 'ICC', 'ambazo', 'zilichangia', 'pakubwa', 'katika', 'kuchaguliwa', 'kwa', 'Rais', 'Uhuru', 'Kenyatta', 'na', 'naibu', 'wake', 'mwaka', 'wa', '2013', '.', 'Aidha', ',', 'wachanganuzi', 'wengi', 'wa', 'masuala', 'ya', 'kisiasa', 'nchini', 'Kenya', 'wamekuwa', 'wakijikuna', 'vichwa', 'kuhusiana', 'na', 'hatua', 'hii', 'na', 'matamshi', 'ya', 'Fatou', 'Bensouda', 'na', 'iwapo', 'haya', 'yatakuwa', 'na', 'athari', 'katika', 'uchaguzi', 'mkuu', 'wa', 'mwaka', '2022', 'nchini', 'Kenya', '.', 'Kujisalimisha', 'kwa', 'wakili', 'Gicheru', 'kwa', 'mahakama', 'ya', 'ICC', 'kulitokea', 'miezi', 'baada', 'ya', 'bwana', 'Ruto', 'kuonya', 'kwamba', 'kulikuwa', 'na', 'njama', 'ya', 'kufufua', 'kesi', 'dhidi', 'yake', '.', 'Katika', 'mahojiano', 'yake', 'na', 'kituo', 'kimoja', 'cha', 'televisheni', 'nchini', 'Kenya', 'mnamo', 'Januari', '23', 'mwaka', 'huu', ',', 'Bwana', 'Rutoa', 'alidai', ',', '``', 'Nilikuwa', 'na', 'mazungumzo', 'na', 'mkuu', 'wa', 'kitengo', 'cha', 'ujasusi', 'nchini', 'Kenya', 'mwaka', 'uliopita', 'na', 'tunavyozungumza', 'sasa', ',', 'baadhi', 'ya', 'watu', 'wamewatuma', 'watu', 'nchini', 'Kenya', 'kufufua', 'kesi', 'za', 'ICC', 'lakini', 'nataka', 'kuwahakikishia', 'kwamba', 'hawatafaulu', ',', 'kwa', 'hakika', ',', 'itawashangaza', '.', \"''\", 'Majuma', 'kadhaa', 'yaliyopita', 'mwandani', 'wa', 'karibu', 'wa', 'Bwana', 'Ruto', ',', 'alirudia', 'madai', 'haya', 'akidaia', 'kwamba', 'serikali', 'ilikuwa', 'na', 'njama', 'dhidi', 'ya', 'Bwana', 'Ruto', 'kwa', 'kufanya', 'uchunguzi', 'ambao', 'unaelekea', 'kumlenga', 'bwana', 'Ruto', '.', '``', 'Waliwatuma', 'maafisa', 'wanne', 'kutoka', 'Nairobi', 'kuchukua', 'faili', 'zote', 'kuhusiana', 'na', 'machafuko', 'ya', 'mwaka', 'wa', '2007-2008', '.', 'Katika', 'machafuko', 'hayo', ',', 'watu', 'walikufa', 'pia', 'eneo', 'la', 'Naivasha', 'na', 'kulikuwepo', 'pia', 'na', 'machafuko', 'maeneo', 'ya', 'Mombasa', ',', 'Nairobi', 'na', 'Kisumu', '.', 'Mbona', 'wanashughulikia', 'faili', 'kutoka', 'Eldoret', 'tu', '?', \"''\", 'alihoji', 'huku', 'maoni', 'haya', 'yakikubaliana', 'na', 'mwandani', 'mwingine', 'wa', 'karibu', 'wa', 'bwana', 'Ruto', ',', 'mbunge', 'wa', 'Kapsaret', ',', 'Oscar', 'Sudi', '.', 'Hata', 'hivyo', ',', 'mkuu', 'wa', 'kitengo', 'cha', 'upelelezi', 'nchini', 'Kenya', '(', 'DCI', ')', 'George', 'Kinoti', 'ameshaeleza', 'kwamba', 'hana', 'nia', 'ya', 'kufufua', 'kesi', 'za', 'ghasia', 'za', 'baada', 'ya', 'uchaguzi', 'wa', 'mwaka', '2007', '.', 'Kwenye', 'mahakama', 'ya', 'ICC', 'ingawa', 'wakili', 'Gicheru', 'alijisalimisha', 'na', 'kuwekwa', 'kizuizini', ',', 'sasa', 'anaitaka', 'mahakama', 'ya', 'hiyo', 'imwachilie', 'ingawa', 'anakabiliwa', 'na', 'mashtaka', 'sita', 'ya', 'kuhitilafiana', 'na', 'kesi', 'zilizowahusu', 'Rais', 'Kenyatta', 'na', 'Bwana', 'Ruto', 'kwa', 'kuwahonga', 'mashahidi', 'waliohusishwa', 'na', 'kesi', 'hizo', '.', 'Itakumbukwa', 'kwamba', 'kiongozi', 'wa', 'mashtaka', 'katika', 'mahakama', 'ya', 'ICC', 'wakati', 'huo', 'alieleza', 'kwamba', 'ingawa', 'mashtaka', 'dhidi', 'ya', 'Bwana', 'Ruto', 'yalikuwa', 'yameondolewa', ',', 'mwanya', 'bado', 'ulikuwepo', 'kwa', 'Bwana', 'Ruto', 'kushtakiwa', 'siku', 'za', 'usoni', 'iwapo', 'ushahidi', 'zaidi', 'na', 'mpya', 'ungepatikana', '.', 'Wakati', 'wakili', 'Gicheru', 'alipojisalimisha', 'kwenye', 'mahalama', 'ya', 'ICC', 'maajuzi', ',', 'mahakama', 'hiyo', 'haikueleza', 'iwapo', 'kuna', 'ushahidi', 'mpya', 'kwani', 'katika', 'ripoti', 'yake', 'ya', 'mwaka', 'iliyotoa', 'kwa', 'Umoja', 'wa', 'Mataifa', ',', 'mahakama', 'hiyo', 'ilieleza', 'kwamba', 'uchgunguzi', 'ulikuwa', 'bado', 'ukiendelea', 'hata', 'ingawa', 'kesi', 'hizo', 'zilikuwa', 'zimesitishwa', '.', '``', 'Afisi', 'ya', 'mkuu', 'wa', 'mashataka', 'inaendelea', 'kupokea', 'ushahidi', 'kuhusu', 'kutendeka', 'kwa', 'makosa', 'ya', 'jinai', 'dhidi', 'ya', 'binadamu', 'wakati', 'wa', 'machafuko', 'ya', 'baada', 'ya', 'uchaguzi', 'wa', 'Kenya', 'wa', 'mwaka', 'wa', '2007-2008', ',', \"''\", 'ripoti', 'hiyo', 'ilieleza', 'kuhusiana', 'na', 'shughuli', 'za', 'mahakama', 'ya', 'ICC', 'kwenye', 'mwaka', 'wa', '2017/2018', 'kuhusiana', 'na', 'hali', 'nchini', 'Kenya', '.', 'Wakili', 'Gicheru', 'aliambia', 'mahakama', 'ya', 'ICC', 'nchini', 'Hague', 'alipofika', 'mahakamani', 'kwa', 'mara', 'ya', 'kwanza', 'kwamba', 'atapinga', 'mashtaka', 'dhidi', 'yake', ',', 'kesi', 'yake', 'huenda', 'ikawa', 'na', 'msukumo', 'kuhusiana', 'na', 'iwapo', 'kesi', 'dhidi', 'ya', 'Naibu', 'Rais', 'William', 'Ruto', 'na', 'Joshua', 'Sang', 'itafufuliwa', 'tena', '.', 'Ikumbukwe', 'kwamba', ',', 'tofauti', 'na', 'ilivyokuwa', 'hapo', 'mwaka', 'wa', '2010', 'wakati', 'serikali', 'ya', 'Kenya', 'ilitafuta', 'uungwaji', 'mkono', 'nje', 'ya', 'Baraza', 'la', 'usalama', 'la', 'Umoja', 'wa', 'Mataifa', ',', 'Kenya', 'sasa', 'ni', 'mwanachama', 'asiye', 'wa', 'kudumu', 'katika', 'baraza', 'hilo', 'lenye', 'umhimu', 'mkubwa', '.', 'Mpango', 'wa', 'Maridhiano', 'wa', 'BBI', 'Hali', 'ya', 'kisiasa', 'na', 'mambo', 'mengi', 'yamebadilika', 'tangu', 'kusitishwa', 'kwa', 'kesi', 'hizo', 'dhidi', 'ya', 'Bwana', 'Ruto', 'na', 'Sang', 'ingawa', ',', 'kimsingi', ',', 'wanaohusika', 'na', 'hali', 'ya', 'kisiasa', 'iliyoko', 'nchini', 'Kenya', 'kwa', 'sasa', 'inaelekea', 'kukaribiana', 'na', 'ilivyokuwa', 'wakati', 'huo', '.', 'Kama', 'ilivyokuwa', 'katika', 'mazingira', 'ambapo', 'Rais', 'Kenyatta', 'na', 'naibu', 'wake', 'walishtakiwa', 'mwaka', 'wa', '2010', ',', 'wakati', 'kura', 'ya', 'maamuzi', 'kuhusu', 'katiba', 'mpya', 'ilipofanyika', ',', 'wakati', 'huu', 'tena', ',', 'Kenya', 'inajipata', 'katika', 'hali', 'ambapo', 'huenda', 'kura', 'ya', 'maamuzi', 'ikafanywa', 'kabla', 'ya', 'uchaguzi', 'mkuu', 'wa', 'mwaka', 'wa', '2022', '.', 'Juhudi', 'za', 'sasa', 'ambazo', 'zinafanywa', 'chini', 'ya', 'mwavuli', 'wa', 'Mpango', 'wa', 'Maridhiano', '(', 'BBI', ')', ',', 'unaoongozwa', 'na', 'Rais', 'Kenyatta', 'na', 'kiongozi', 'wa', 'upinzani', 'nhini', 'Kenya', ',', 'Raila', 'Odinga', ',', 'ambaye', 'amekuwa', 'akishirikiana', 'na', 'Rais', 'Kenyatta', 'tangu', 'mwaka', 'wa', '2018', 'na', 'kugeuza', 'sura', 'iliyotarajiwa', 'kuhusiana', 'na', 'siasa', 'za', 'Kenya', 'na', 'mrithi', 'wa', 'Rais', 'Kenyatta', '.', 'Kuhusuiana', 'na', 'mpango', 'huu', 'wa', 'maridhiano', 'na', 'ripoti', 'yake', 'ambayo', 'kwa', 'sasa', 'imetayarishiwa', 'saini', 'zaidi', 'ya', 'milioni', '5', 'kukusanywa', 'tayari', 'ili', 'kujitayarisha', 'kwa', 'mura', 'ya', 'maamuzi', 'kuhusu', 'katiba', 'mwaka', 'ujao', ',', 'naibu', 'Rais', 'William', 'Ruto', 'amejikuta', 'katika', 'hali', 'ngumu', 'ya', 'kisiasa', 'kuhusiana', 'na', 'mchakato', 'huo', '.', 'Ripoti', 'hiyo', 'na', 'kuwezekana', 'kuwepo', 'kwa', 'kura', 'ya', 'maamuzi', 'Bwana', 'Ruto', 'kwenye', 'njia', 'panda', 'maana', 'kuna', 'masuala', 'ambayo', 'hadi', 'sasa', 'hajakubaliana', 'nayo', 'kama', 'ambavyo', 'hakukubaliana', 'na', 'kuwepo', 'na', 'jopo', 'la', 'BBI', 'tangu', 'mwanzo', '.', 'Kimsingi', ',', 'huku', 'shughuli', 'za', 'ripoti', 'ya', 'jopo', 'la', 'BBI', 'na', 'mchakato', 'wa', 'kufanyia', 'marekebisho', 'katiba', 'ya', 'Kenya', 'zikiendelea', 'na', 'Bwana', 'Ruto', 'akijikuta', 'kwenye', 'njia', 'panda', 'kuhusiana', 'na', 'ripoti', 'hiyo', ',', 'uwezekano', 'wa', 'kuanzishwa', 'kwa', 'kesi', 'inayomhusu', 'na', 'Bwana', 'Sang', 'kwenye', 'mahakama', 'ya', 'ICC', 'kutaleta', 'changamoto', 'nyingine', 'kubwa', 'kwa', 'siasa', 'za', 'Bwana', 'Ruto', '.', 'Pamoja', 'na', 'hayo', ',', 'ikumbukwe', 'kuwa', 'matokeo', 'ya', 'matukio', 'haya', 'mawili', 'yana', 'umuhimu', 'wake', 'kwa', 'uchaguzi', 'wa', 'mwaka', 'wa', '2022', '.', 'Huwezi', 'kusikiliza', 'tena', 'Maelezo', 'ya', 'sauti', ',', 'Je', 'ripoti', 'ya', 'BBI', 'ndio', 'suluhisho', 'la', 'amani', 'na', 'umoja', 'wa', 'kudumu', 'Kenya', 'Hali', 'anamojikuta', 'Bw', 'Ruto', 'kwa', 'sasa', 'inatokana', 'na', 'hali', 'na', 'mjadala', 'kuhusu', 'marekebisho', 'ya', 'katiba', 'na', 'kile', 'kinachoonekana', 'kama', 'hali', 'iliyotokea', 'mwaka', 'wa', '2010', 'wakati', 'kulipokuwepo', 'na', 'kura', 'ya', 'maamuzi', 'kuhusu', 'katiba', 'ambapo', 'kulikuwepo', 'na', 'kundi', 'na', '``', 'ndio', \"''\", 'na', 'lingine', 'la', '``', 'hapana', \"''\", '.', 'Zaidi', 'ni', 'kwamba', 'uchaguzi', 'wa', 'mwaka', 'wa', '2022', 'huenda', 'ukapata', 'kasi', 'kutoka', 'na', 'kura', 'ya', 'maamuzi', 'kuhusu', 'katiba', 'itakayofanyika', 'mwaka', 'ujao', '.', 'Hali', 'hii', 'inaonekana', 'kama', 'mpangilio', 'kabambe', 'iliopangwa', 'ukapangika', 'na', 'kumweka', 'pabaya', 'bwana', 'Ruto', '.', 'Mipango', 'ya', 'kisiasa', '?', 'Sababu', 'mojawapo', 'inayowafanya', 'wandani', 'wa', 'Bwana', 'Ruto', 'kuyaona', 'matukio', 'ya', 'hivi', 'karibuni', 'kuwa', 'mkakati', 'wa', 'kisiasa', 'ni', 'kwamba', 'kujisalimisha', 'kwa', 'wakili', 'Gicheru', 'kwa', 'mahakama', 'ya', 'ICC', 'na', 'juhudi', 'zinazoonekana', 'kama', 'zile', 'zenye', 'nia', 'ya', 'kufufua', 'kesi', 'dhidi', 'ya', 'Bwana', 'Ruto', 'kwenye', 'mahakama', 'hiyo', 'zote', 'zinatokea', 'wakati', 'ambapo', 'Bwana', 'Odinga', 'na', 'Bwana', 'Ruto', 'kupanga', 'mikakati', 'ya', 'kujipanga', 'kwenye', 'maeneo', 'mbali', 'mbali', 'nchini', 'Kenya', 'kujitayarisha', 'kwa', 'uchaguzi', 'wa', 'mwaka', 'wa', '2022', 'na', 'kura', 'ya', 'maamuzi', 'kupitia', 'kwa', 'BBI', 'ili', 'kurekebisha', 'katiba', 'ya', 'Kenya', '.', 'Kwa', 'sasa', ',', 'inavyoonekana', ',', 'kuna', 'masuala', 'mengi', 'ambayo', 'huenda', 'yakabadilisha', 'mkondo', 'siasa', 'za', 'Kenya', 'lakini', 'ukweli', 'ni', 'kwamba', ',', 'kwenye', 'siasa', 'za', 'Kenya', ',', 'mkoko', 'ndio', 'mwanzo', 'unaalika', 'maua', '.', 'Mada', 'zinazohusiana', 'Maelezo', 'zaidi', 'kuhusu', 'taarifa', 'hii', 'Rais', 'aliyechaguliwa', 'na', 'wengi', 'atahitaji', 'washirika', 'wangi', 'bungeni', 'kuhakikisha', 'kwamba', 'kuna', 'upitishwaji', 'wa', 'haraka', 'wa', 'miswada', 'mbali', 'na', 'kuidhinisha', 'maswala', 'muhimu', 'ya', 'biashara', 'za', 'serikali', 'iwapo', 'mapendekezo', 'ya', 'BBI', 'yatakubalika', '.']\n",
      "\n",
      " Number of Words:  1514\n"
     ]
    }
   ],
   "source": [
    "file=\"20dec8.txt\"\n",
    "\n",
    "# calling the function and storing the contents in a text variable \n",
    "text = get_document(\"https://www.bbc.com/swahili/55226230\")\n",
    "\n",
    "# calling the store_ document function \n",
    "store_document(doc=text,name=file)\n",
    "\n",
    "#add the words in this file to the total_corpus_words, to keep count of the number of words in the corpus\n",
    "total_corpus_words+=total_words(file)"
   ]
  },
  {
   "cell_type": "code",
   "execution_count": 218,
   "metadata": {},
   "outputs": [
    {
     "data": {
      "text/plain": [
       "375986"
      ]
     },
     "execution_count": 218,
     "metadata": {},
     "output_type": "execute_result"
    }
   ],
   "source": [
    "total_corpus_words"
   ]
  },
  {
   "cell_type": "code",
   "execution_count": 219,
   "metadata": {},
   "outputs": [
    {
     "name": "stdout",
     "output_type": "stream",
     "text": [
      "['Coronavirus', 'Kenya', ':', 'Daktari', 'aliyewasaidia', 'watoto', 'kutabasamu', 'Dkt', 'Emarah', 'ambaye', 'ni', 'mzaliwa', 'wa', 'Misri', ',', 'amefanya', 'kazi', 'Kenya', 'kwa', 'miongo', 'kadhaa', 'Kifo', 'cha', 'Dkt', 'Ashraf', 'Emar', ',', 'mtaalamu', 'wa', 'ngazi', 'ya', 'juu', 'wa', 'upasuaji', 'wa', 'kurekebisha', 'viungo', 'nchini', 'Kenya', 'kilichotokana', 'na', 'ugonjwa', 'wa', 'corona', 'mwezi', 'uliyopita', ',', 'kiliangazia', 'hali', 'ya', 'wataalamu', 'wa', 'afya', 'ambao', 'wanataka', 'vifaa', 'kinga', 'wanapokabiliana', 'na', 'janga', 'la', 'corona', ',', 'kama', 'anavyo', 'ripoti', 'mwandishi', 'wa', 'BBC', 'Basillioh', 'Mutahi', '.', 'Wakati', 'daktari', 'huyo', 'wa', 'upasuaji', 'na', 'mtaalamu', 'wa', 'ngazi', 'ya', 'juu', 'magharibi', 'mwa', 'Kenya', 'aliambukizwa', 'virusi', 'vya', 'corona', 'na', 'hali', 'yake', 'kuwa', 'mbaya', 'zaidi', 'hapakuwa', 'na', 'kitanda', 'cha', 'kuwahudumia', 'wagonjwa', 'mahututi', 'katika', 'hospitali', 'ya-', 'Rufaa', 'ya', 'Moi', 'mjini', 'Eldoret', '.', 'Dkt', 'Emarah', 'aliwafunza', 'aliwafunza', 'wanafunzi', 'wa', 'chuo', 'cha', 'matibabu', 'cha', 'Eldoret', ',', 'hospitali', 'ya', 'pili', 'kuu', 'ya', 'rufaa', 'nchini', 'kwa', 'miongo', 'kadhaa', '.', 'Madaktari', 'na', 'familia', 'yake', 'walijaribu', 'kumleta', 'Nairobi', 'mamia', 'ya', 'maili', 'kutoka', 'huko', '.', 'Lakini', 'gharama', 'ya', 'kupata', 'ambulensi', 'na', 'ndege', 'ya', 'kufikisha', 'Nirobi', 'ilikuwa', '``', 'ghali', 'sana', \"''\", ',', 'afisa', 'mmoja', 'wa', 'chama', 'cha', 'madaktari', 'alisema', '.', 'Dawa', 'muhimu', 'ambayo', 'ingelimsaidia', 'hali', 'yake', 'ilipokuwa', 'mbaya', 'pia', 'ilikuwa', 'vigumu', 'kupata', 'kutokana', 'na', 'bei', 'yake', 'ghali', '.', 'Chanzo', 'cha', 'picha', ',', 'Smile', 'Train', 'Africa', 'Maelezo', 'ya', 'picha', ',', 'Dkt', 'Emarah', 'aliwafanyia', 'upasuaji', 'watoto', 'waliokuwa', 'na', 'matatizo', 'ya', 'mdomo', '``', 'Madaktari', 'walilazimika', 'kuchagishe', 'fedha', 'ili', 'kununua', 'dawa', \"''\", 'ya', 'kumsaidia', ',', 'Dkt', 'Chibanzi', 'Mwachonda', ',', 'kaimu', 'katibu', 'mkuu', 'wa', 'chama', 'cha', 'madaktari', 'nchini', 'Kenya', '(', 'KMPDU', ')', ',', 'aliambia', 'kamati', 'ya', 'bunge', '.', '``', 'Ilikuwa', 'hali', 'ya', 'kusikitisha', ',', \"''\", 'Dkt', 'Mwachonda', 'alisema', ',', 'akiongezea', 'kuwa', 'madaktari', 'hawana', 'bima', 'kamili', 'ya', 'matibabu', 'kutoka', 'kwa', 'bima', 'ya', 'kitaifa', '.', 'Daktari', 'huyo', 'mgonjwa', 'alipelekwa', 'katika', 'hospitali', 'ya', 'kibinafsi', 'ya', 'Nakuru', ',', 'mji', 'ambao', 'uko', 'kati', 'kati', 'ya', 'Eldoret', 'na', 'Nairobi', ',', 'ambako', 'alisubiri', 'kupatikana', 'kwa', 'kitanda', 'cha', 'wagonjwa', 'mahututi', 'mjini', 'Nairobi', '.', 'Lakini', 'siku', 'moja', 'baadaye', ',', 'Ijumaa', 'ya', 'Novemba', '13', ',', 'akafariki', 'dunia', '.', 'Uhaba', 'wa', 'madaktari', 'Dkt', 'Emarah', 'alikuwa', 'daktari', 'mtaalamu', 'wa', 'nne', 'kufariki', 'wiki', 'hiyo', ',', 'katika', 'nchi', 'hiyo', 'aliyo', 'na', 'karibu', 'madktari', '7,000', 'wanaohudumia', 'watu', 'milioni', '48', '.', 'Wiki', 'moja', 'kbla', 'ya', 'kifo', 'chake', ',', 'alikuwa', 'akifanya', 'upasuaji', 'na', 'kusimamia', 'wanafunzi', ',', 'kabla', 'aanze', 'kupata', 'dalili', 'ya', 'maambukizi', 'siku', 'kadhaa', 'baadaye', ',', 'rafiki', 'yake', 'Dkt', 'Anthony', 'Akoto', 'aliambia', 'BBC', '.', '``', 'Alifariki', 'akiwa', 'kazini', ',', \"''\", 'alisema', 'Dkt', 'Akoto', ',', 'ambaye', 'pia', 'ni', 'afisa', 'wa', 'chama', 'cha', 'madaktari', ',', 'akiongeza', 'kuwa', 'kifo', 'kumemchukua', 'daktari', 'pekee', 'wa', 'upasuaji', 'wa', 'kurekebisha', 'viungo', 'aliyekuwa', 'na', 'tajiriba', 'kubwa', 'magharibi', 'mwa', 'Kenya', '.', '``', 'Nchi', 'ina', 'daktari', 'wachache', 'wa', 'upasuaji', 'wa', 'aina', 'hiyo', '.', 'Katika', 'kitengo', 'chake', ',', 'alikuwa', 'peke', 'yake', ',', 'japo', 'kuna', 'wengine', 'wanainukia', ',', 'bado', 'ameacha', 'pengo', '.', \"''\", 'Bodi', 'ya', 'wahudumu', 'wa', 'afya', 'nchini', 'Kenya', 'iliwaorodhesha', 'wataalamu', 'wanne', 'peke', 'wa', 'upasuaji', 'wa', 'kurekebisha', 'viungo', 'nchini', 'kufikia', 'mwaka', '2018', '.', 'Dkt', 'Emarah', 'ambaye', 'ni', 'mzaliwa', 'wa', 'Misri', ',', 'aliwasili', 'nchini', 'Kenya', 'karibu', 'miaka', '30', 'iliyopita', ',', 'ameelezewa', 'na', 'wafanyakazi', 'wenzake', 'kuwa', 'mwalimu', 'na', 'mjuzi', 'ambaye', 'atakumbukwa', 'na', 'wengi', '.', 'Huwezi', 'kusikiliza', 'tena', 'Maelezo', 'ya', 'video', ',', 'Virusi', 'vya', 'Corona', ':', 'Mapambano', 'ya', 'kuthibisha', 'uwepo', 'wa', 'Covid-19', 'Daktari', 'huyo', 'alijulikana', 'sana', 'kutokana', 'na', 'upasuaji', 'wa', 'kurekebisha', 'midomo', 'ya', 'watoto', 'waliozaliwa', 'wakiwa', 'na', 'mmpasiko', 'na', 'kuwasaidia', 'kutabasamu', '.', 'Alitoa', 'mafunzo', 'kwa', 'wanafuzi', 'wanaosomea', 'upasuaji', 'wa', 'aina', 'hiyo', 'hata', 'kwa', 'nchi', 'jirani', 'kama', 'vile', 'Somalia', ',', 'Uganda', 'na', 'Jamhuri', 'ya', 'Kidemokrasia', 'ya', 'Congo', '.', '``', 'Tunamuomboleza', 'rafiki', 'na', 'mshirika', 'wetu', ',', \"''\", 'Smile', 'Train', 'Africa', ',', 'moja', 'ya', 'mashirika', 'ya', 'kutoa', 'misaada', 'ilisema', ',', 'na', 'kuweka', 'picha', 'ya', 'daktari', 'huyo', 'katika', 'mtandao', 'wa', 'Twitter', 'akiwa', 'na', 'baadhi', 'ya', 'watoto', 'aliowafanyia', 'upasuaji', '.', '``', 'Tunatuma', 'rambi', 'rambi', 'zetu', 'kwamke', 'na', 'watoto', 'wake', ',', 'marafiki', ',', 'wafanyakazi', 'wenzake', ',', 'na', 'wagonjwa', 'aliowahudumia', 'wakati', 'wa', 'uhai', 'wake', 'pamoja', 'na', 'madaktari', 'wa', 'upasuaji', 'aliowapa', 'mafunzo', 'na', 'ambao', 'wataendeleza', 'taaluma', 'yake', '.', \"''\", 'Chanzo', 'cha', 'picha', ',', 'Getty', 'Images', 'Maelezo', 'ya', 'picha', ',', 'Viwango', 'vya', 'maambukizi', 'ya', 'kila', 'siku', 'ya', 'virusi', 'vimeongezeka', 'nchini', 'Kenya', 'Tangu', 'virusi', 'vya', 'corona', 'vilipogunduliwa', 'nchini', 'Kenya', 'mwezi', 'Machi', 'mwaka', '2020', ',', 'karibu', 'madaktari', '14', 'wamefariki', 'kutokana', 'na', 'janga', 'hilo', 'Siku', 'ya', 'Jumatatu', 'chama', 'cha', 'madaktari', 'KMPDU', ',', 'kilitangaza', 'kifo', 'cha', 'Dkt', 'Stephen', 'Mogusu', 'ambaye', 'alifariki', 'kutokana', 'na', 'ugonjwa', 'wa', 'Covid-19', '.', 'Kando', 'na', 'madkatari', 'hao', ',', 'karibu', 'wauguzi', '20', 'na', 'maofisa', '10', 'wa', 'matibabu', 'wamefariki', 'kutokana', 'na', 'virusi', 'hivyo', '.', 'Kwa', 'ujumla', 'karibu', 'wahudumu', 'wa', 'afya', '2,000', 'wameambukizwa', 'virusi', 'vya', 'corona', ',', 'miongoni', 'mwao', 'Dkt', 'Mwachonda', ',', 'afisa', 'wa', 'ngazi', 'ya', 'juu', 'wa', 'chama', 'cha', 'madaktari', ',', 'ambaye', 'hivi', 'karibuni', 'alielezea', 'jinsi', 'ilivyoathirika', 'kiakili', '.', 'Idadi', 'ya', 'watu', 'walioambukizwa', 'virusi', 'vya', 'corona', 'nchini', 'Kenya', 'imekuwa', 'ikiongezeka', 'tena', 'katika', 'wiki', 'za', 'hivi', 'karibuni', ',', 'mwezi', 'Novemba', 'ikirekodi', 'idadi', 'ya', 'juu', 'ya', 'maambukizi', 'ya', 'kila', 'siku', 'pamoja', 'na', 'vifo', 'tangu', 'janga', 'hilo', 'lilipoanza', 'nchini', 'humo', '.', 'Nchi', 'hiyo', 'kufikia', 'sasa', 'imethibitisha', 'kuwa', 'watu', 'zaidi', 'ya', '88,000', 'wameambukizwa', 'virusi', 'vya', 'corona', ',', 'ikiwemo', 'vifo', '1,500', '.']\n",
      "\n",
      " Number of Words:  802\n"
     ]
    }
   ],
   "source": [
    "file=\"20dec9.txt\"\n",
    "\n",
    "# calling the function and storing the contents in a text variable \n",
    "text = get_document(\"https://www.bbc.com/swahili/habari-55231496\")\n",
    "\n",
    "# calling the store_ document function \n",
    "store_document(doc=text,name=file)\n",
    "\n",
    "#add the words in this file to the total_corpus_words, to keep count of the number of words in the corpus\n",
    "total_corpus_words+=total_words(file)"
   ]
  },
  {
   "cell_type": "code",
   "execution_count": 220,
   "metadata": {},
   "outputs": [
    {
     "data": {
      "text/plain": [
       "376788"
      ]
     },
     "execution_count": 220,
     "metadata": {},
     "output_type": "execute_result"
    }
   ],
   "source": [
    "total_corpus_words"
   ]
  },
  {
   "cell_type": "code",
   "execution_count": 221,
   "metadata": {},
   "outputs": [
    {
     "name": "stdout",
     "output_type": "stream",
     "text": [
      "['Tuzo', 'za', 'MTV', 'za', 'muziki', 'wa', 'Afrika', '2020', ':', 'Orodha', 'kamili', 'yawaliochaguliwa', 'Orodha', 'ya', 'wanamuziki', 'wenye', 'vipaji', 'waliochaguliwa', 'kwa', 'ajili', 'ya', 'kupata', 'tuzo', 'za', 'muziki', 'wa', 'Afrika', 'la', 'MTV', 'Africa', 'Music', 'Awards', '(', 'MAMAs', ')', ',', 'imetangazwa', 'huku', 'majina', 'maarufu', 'na', 'mapya', 'yakijitokeza', 'tena', 'kwenye', 'orodha', 'hiyo', '.', 'Tukio', 'la', 'kutoa', 'tuzo', 'hizo', 'za', 'mwaka', '2021', 'litafanyika', 'mjini', 'Kampala', 'Uganda', 'tarehe', '21', 'Februari', '2020', 'kwa', 'njia', 'ya', 'mtandao', 'kutokana', 'na', 'janga', 'la', 'virusi', 'vya', 'corona', '.', 'Maelezo', 'ya', 'picha', ',', 'Tiwa', 'Savage', 'mwanamuziki', 'wa', 'Nigeria', \"ameng'ara\", 'tena', 'kwa', 'tuzo', 'zaidi', 'ya', 'moja', 'katika', 'ukurasa', 'wake', 'wa', 'Twitter', 'mwaka', 'huu', 'Burna', 'Boy', 'alisema', 'yeye', 'ndiye', 'bora', 'baada', 'ya', 'Fela', 'Anikulapo', 'Kuti', 'Ni', 'nani', 'walioongoza', '?', 'Kikundi', 'cha', 'muziki', 'cha', 'São', 'Tomé', 'and', 'Príncipe', '-Calema', 'waliongoza', 'kwa', 'kuteuliwa', 'tuzo', 'tatu', 'za', 'Msanii', 'wa', 'mwaka', ',', 'Kikundi', 'bora', 'zaidi', 'cha', 'mwaka', ',', 'na', 'Kikundi', 'bora', 'kilichoigiza', 'mtindo', 'wa', 'muziki', 'wa', 'Kireno', 'wa', 'Lusophone', '.', 'Wasanii', 'waliochaguliwa', 'kwa', 'tuzo', 'za', 'MAMA', '52', 'kutoka', 'nchi', '15', 'walitangazwa', 'katika', 'kipindi', 'cha', 'muziki', 'cha', 'MTV', 'Base', 'Jumatano', 'jioni', 'katika', 'kipindi', 'maalum', 'cha', 'dakika', '45', 'ambacho', 'kilitangazwa', 'katika', 'MTV', 'Base', '.', 'Chanzo', 'cha', 'picha', ',', 'Zichu', '/Instagram', 'Maelezo', 'ya', 'picha', ',', 'Zuchu', 'ni', 'miongoni', 'mwa', 'wanamuziki', 'waliopata', 'tuzo', 'kwa', 'kupata', 'mafanikio', 'ya', 'kimuziki', 'Ifuatayo', 'ni', 'orodha', 'kamili', 'ya', 'wanamuziki', 'walioteliwa', 'kwa', 'ajili', 'ya', 'Tuzo', 'za', 'MAMA', '2021', 'Awards', 'na', 'makundi', 'yao', 'walivyoshinda', ':']\n",
      "\n",
      " Number of Words:  225\n"
     ]
    }
   ],
   "source": [
    "file=\"20dec10.txt\"\n",
    "\n",
    "# calling the function and storing the contents in a text variable \n",
    "text = get_document(\"https://www.bbc.com/swahili/habari-55258306\")\n",
    "\n",
    "# calling the store_ document function \n",
    "store_document(doc=text,name=file)\n",
    "\n",
    "#add the words in this file to the total_corpus_words, to keep count of the number of words in the corpus\n",
    "total_corpus_words+=total_words(file)"
   ]
  },
  {
   "cell_type": "code",
   "execution_count": 222,
   "metadata": {},
   "outputs": [
    {
     "data": {
      "text/plain": [
       "377013"
      ]
     },
     "execution_count": 222,
     "metadata": {},
     "output_type": "execute_result"
    }
   ],
   "source": [
    "total_corpus_words"
   ]
  },
  {
   "cell_type": "code",
   "execution_count": 223,
   "metadata": {},
   "outputs": [
    {
     "name": "stdout",
     "output_type": "stream",
     "text": [
      "['Mpaka', 'hapa', 'tumefikia', 'mwisho', 'wa', 'matangazo', 'yetu', 'mubashara', ',', 'shukrani', '.', 'Rais', 'Tshisekedi', 'atangaza', 'kuunda', 'serikali', 'mpya', 'Katika', 'hotuba', 'yake', 'mbele', 'ya', 'wanaseta', 'na', 'wanabunge', ',', 'rais', 'wa', 'DRC', 'Felix', 'Tshikedi', 'ametangaza', 'tena', 'nia', 'yake', 'ya', 'kuunda', 'serkali', 'mpya', ',', 'baada', 'ya', 'kuona', 'serikali', 'ya', 'pamoja', 'aliyoiunda', 'na', 'rais', 'mstaafu', 'Joseph', 'Kabila', 'kushindwa', 'kufanya', 'kazi', '.', 'Tshekedi', 'aliamua', 'kuvunja', 'ushirikiano', 'na', 'timu', 'ya', 'rais', 'mstaafu', ',', 'na', 'sasa', 'anasubiri', 'kuteua', 'mtu', 'ambaye', 'ataweza', 'kujadili', 'na', 'vyama', 'mbalimbali', 'vya', 'kisiasa', 'ili', 'aunde', 'serikali', 'hiyo', 'ambayo', 'ana', 'matumaini', 'ya', 'kwamba', 'mafanikio', 'yake', 'yatatumikia', 'kwa', 'faida', 'ya', 'raia', 'wa', 'DRC', '.', 'Disemba', 'mwaka', '2019', 'ndani', 'ya', 'bunge', 'hili', 'lilitangaza', 'ya', 'kwamba', 'mwaka', '2020', 'utakuwa', 'mwaka', 'wa', 'kazi', ',', 'juhudi', 'zote', 'zilipaswa', 'kufanyika', 'ili', 'kutimiza', 'maendeleo', 'ya', 'nchi', '.', '``', 'Mbele', 'ya', 'raia', 'nilihaidi', 'kufanya', 'mabadiriko', 'nikakubali', 'kutumikia', 'na', 'mtagulizi', 'wangu', 'kupitia', 'muungano', 'ili', 'pamoja', 'tuinue', 'nchi', 'sisi', 'wote', 'kama', 'raia', 'wa', 'nchi', 'hii', 'nzuri', ',', 'lakini', 'ukweli', 'ni', 'kwamba', ',', 'lichaya', 'juhudi', 'zangu', ',', 'nilijitolea', ',', 'nilikubali', 'hadi', 'kufedheheshwa', 'lakini', 'haikuwezesha', 'muungano', 'huu', 'kuendelea', ',', \"''\", 'rais', 'Tshekedi', 'ameeleza', '.', 'Aliongeza', 'kusema', ';', '``', 'Kulingana', 'na', 'hali', 'hio', 'ambayo', 'ilikuwa', 'inazuia', 'uongozi', 'wangu', 'ilibidi', 'tu', 'nijibu', \"''\", '.', 'Rais', 'wa', 'nchi', 'hiyo', 'amehaidi', 'kuunda', 'shule', 'ya', 'vita', 'kwa', 'ajili', 'ya', 'maafisa', 'wa', 'jeshi', 'la', 'taifa', ',', 'huku', 'rais', 'akijaribu', 'kuungwa', 'mkono', 'na', 'jeshi', 'la', 'taifa', 'ambalo', 'kwa', 'sasa', 'linasusiwa', 'kushindwa', 'vita', 'dhidi', 'ya', 'waasi', 'huko', 'mashariki', 'mwa', 'Kongo', ',', 'Rais', 'amehaidi', 'pia', 'kurejesha', 'mwaka', 'ujao', 'mabaki', 'ya', 'Patrice', 'Lumumba', 'Papa', 'wa', 'uhuru', 'wa', 'taifa', 'ambaye', 'mabaki', 'ya', 'mwili', 'yake', 'yako', 'Ubegiji', '.', 'Rais', 'Magufuli', 'atuma', 'salamu', 'za', 'rambirambi', 'baada', 'ya', 'ajali', 'kuuwa', 'watu', '14', 'Rais', 'John', 'Magufuli', 'ametuma', 'salamu', 'za', 'pole', 'kwa', 'familia', 'za', 'watu', '14', 'waliofariki', '&', 'watu', 'watatu', 'wamejeruhiwa', 'katika', 'ajali', 'iliyotolea', 'usiku', 'wa', 'kuamkia', 'leo', 'ikihusisha', 'gari', 'dogo', 'aina', 'ya', 'Hiace', 'na', 'lori', 'la', 'mizigo', '.', 'Ajali', 'hiyo', 'ilitoa', 'katika', 'eneo', 'la', 'Mkiwa', 'wilayani', 'Manyoni', ',', 'katika', 'barabara', 'kuu', 'ya', 'kutoka', 'Singida', 'kuelekea', 'Dodoma', '.', '``', 'Nawapa', 'pole', 'wafiwa', 'wote', ',', 'Mwenyezi', 'Mungu', 'awatie', 'nguvu', ',', 'uvumilivu', 'na', 'ustahimilivu', 'katika', 'kipindi', 'hiki', 'kigumu', ',', 'nawaombea', 'marehemu', 'wapumzike', 'mahali', 'pema', 'peponi', 'na', 'majeruhiwote', 'wapate', 'kupona', 'haraka', ',', \"''\", 'alisema', 'Magufuli', 'Aidha', 'ametoa', 'rai', 'kwa', 'kwa', 'vyombo', 'vya', 'usalama', 'barabarani', 'kuongeza', 'jitihada', 'za', 'kuthibiti', 'ajali', 'haswa', 'katika', 'kipindi', 'hiki', 'cha', 'kufunga', 'mwaka', 'ambako', 'kumekuwa', 'kukitokea', 'ajali', 'nyingi', 'za', 'barabarani', 'na', 'watumiaji', 'wote', 'kuwa', 'makini', 'na', 'kujiepusha', 'kuvunja', 'sheria', 'na', 'taratibu', 'za', 'barabarani', '.', 'Rais', 'Algeria', 'aongea', 'kwenye', 'TV', 'baada', 'ya', 'kupata', 'Covid', 'Raia', 'wa', 'Algeria', 'wengi', 'wameonekana', 'katika', 'mitandao', 'ya', 'kijamii', ',', 'wakimpokea', 'rais', 'wao', 'Abdelamdjid', 'Tebboune', ',', 'baada', 'ya', 'kuonekana', 'kwenye', 'video', 'kwa', 'mara', 'ya', 'kwanza', 'baada', 'ya', 'kuugua', 'corona', 'na', 'kutibiwa', 'huko', 'Ujerumani', '.', 'Rais', 'Tebboune', 'anaonekana', 'kutotengamaa', 'kiafya', 'bado', 'ingawa', 'amehaidi', 'kurejea', 'nchini', 'baada', 'ya', 'wiki', 'kadhaa', '.', 'Baadhi', 'ya', 'maeneo', 'ya', 'dunia', 'kushuhudia', 'kupatwa', 'kwa', 'jua', '.', 'Tukio', 'la', 'kupatwa', 'kwa', 'jua', ',', 'huufanya', 'mchana', 'kuwa', 'usiku', 'kwa', 'dakika', 'chakeImage', 'caption', ':', 'Tukio', 'la', 'kupatwa', 'kwa', 'jua', ',', 'huufanya', 'mchana', 'kuwa', 'usiku', 'kwa', 'dakika', 'chake', 'Leo', 'Jumatatu', 'Disemba', '14', ',', 'baadhi', 'ya', 'maeneo', 'ya', 'dunia', 'yanatarajia', 'kushuhudia', 'tukio', 'la', 'kupatwa', 'kwa', 'jua', '.', 'Maeneo', 'kadhaa', 'ya', 'Amerika', 'Kusini', 'yatashuhudia', 'sehemu', 'ndogo', 'tu', 'ya', 'kupatwa', 'kwa', 'jua', ',', 'maeneo', 'mengine', 'ya', 'dunia', ',', 'lakini', 'tukio', 'hilo', 'kamili', 'litashuhudiwa', 'katika', 'nchi', 'za', 'Chile', 'na', 'Argentina', '.', 'Kwa', 'dakika', '24', ',', 'mwezi', 'mpya', 'utapita', 'kwenye', 'uso', 'wa', 'jua', 'na', 'kulifunika', 'kabisa', 'kwa', 'zaidi', 'ya', 'dakika', 'mbili', ',', 'anasema', 'mtaalamu', 'wa', 'masuala', 'ya', 'anga', 'Tania', 'de', 'Sales', 'Marques', ',', 'kutoka', 'taasisi', 'ya', 'Royal', 'Greenwich', 'Observatory', 'mjini', 'London', ',', 'Uingereza', '.', 'Tukio', 'hili', 'la', 'mwezi', 'hufanya', 'mchana', 'kuwa', 'usiku', 'kwa', 'dakika', 'chache', '.', 'Wale', 'watakaobahatika', 'kuona', 'tukio', 'hili', 'watatakiwa', 'kuchukua', 'tahadhari', ',', 'kwa', 'mfano', 'kutumia', 'vifaa', 'kama', 'vile', 'miwani', 'maalumu', 'ili', 'kuepuka', 'kuharibika', 'kwa', 'macho', 'yao', '.', 'Ureno', 'kuisaidia', 'Msumbiji', 'kukabiliana', 'na', 'wanamgambo', 'Maelfu', 'ya', 'watu', 'wametoroka', 'makwaoImage', 'caption', ':', 'Maelfu', 'ya', 'watu', 'wametoroka', 'makwao', 'Ureno', 'imejitolea', 'kuisaidia', 'Msumbiji', 'kupanga', 'mkakati', 'na', 'kuiwezesha', 'jeshi', 'la', 'nchi', 'hiyo', 'kukabiliana', 'na', 'wanamgambo', 'wa', 'Kiislamu', 'wanaotishia', 'usalama', 'katika', 'mkoa', 'wa', 'kaskazini', 'wa', 'Cabo', 'Delgado', 'wenye', 'utajiri', 'wa', 'gesi', '.', 'Mwezi', 'uliyopita', 'wanamgambo', 'waligeuza', 'uwanja', 'wa', 'michezo', 'kuwa', '``', 'kichinjio', \"''\", ',', 'ambako', 'walikata', 'watu', 'vichwa', 'na', 'miili', ',', 'kwa', 'mujibu', 'wa', 'ripoti', '.', 'Waziri', 'wa', 'Ulinzi', 'wa', 'Ureno', ',', 'Joao', 'Gomes', 'Cravinho', ',', 'amesema', 'kundi', 'la', 'wanajeshi', 'wa', 'nchi', 'hiyo', 'kuanzia', 'mwezi', 'ujao', 'litaanza', 'kufanya', 'kazi', 'na', 'wenzao', 'wa', 'Msumbiji', '.', 'Wikendi', 'iliyopita', 'Bw', 'Gomes', 'Cravinho', 'alikamilisha', 'ziara', 'ya', 'kikazi', 'ya', 'siku', 'tatu', 'katika', 'nchi', 'hiyo', 'ya', 'Kusini', 'mwa', 'Afrika', '.', 'Alisema', ',', 'Ureno', 'ambayo', 'itakuwa', 'rais', 'wa', 'Muungano', 'wa', 'Ulaya', 'kuanzia', 'mwaka', '2021', ',', 'itaunga', 'mkono', 'ombi', 'la', 'Msumbiji', 'la', 'kupewa', 'msaada', 'ambalo', 'tayari', 'limewasilishwa', 'Brussels', '.', 'Ghasia', 'katika', 'mkoa', 'wa', 'Cabo', 'Delgado', 'umesababisha', 'mzozo', 'wa', 'kibinadamu', ',', 'huku', 'zaidi', 'ya', 'watu', '2,000', 'kuuawa', 'na', 'wengine', '560,000', 'kufurushwa', 'makwao', '.', 'Marekani', 'yaiondoa', 'Sudan', 'katika', 'orodha', 'ya', 'wafadhili', 'wa', 'ugaidi', 'Marekani', 'imeiondoa', 'rasmi', 'Sudana', 'katika', 'orodha', 'ya', 'wafadhili', 'waugaidi', ',', 'kwa', 'mujibu', 'wa', 'ubalozi', 'wake', 'mjini', 'Khartoum', '.', '``', 'Muda', 'wa', 'ilani', 'ya', 'siku', '45', 'iliyowasilishwa', 'kwa', 'bunge', 'la', 'Congress', 'umepita', 'na', 'Waziri', 'wa', 'Mambo', 'ya', 'Nje', 'wa', 'Marekani', 'ametia', 'saini', 'ya', 'kuiondoa', 'Sudan', 'katika', 'orodha', 'ya', 'nchi', 'zinazofadhili', 'ugaidi', 'kuanzia', 'leo', '(', 'Desemba', '14', ')', ',', 'ambayo', 'itachapishwa', 'katika', 'sajili', 'ya', 'serikali', ',', \"''\", 'Ubalozi', 'wa', 'Marekani', 'umeandika', 'katika', 'mtandao', 'wa', 'kijamii', 'wa', 'Facebook', '.', 'Rais', 'wa', 'Marekani', 'Donald', 'Trump', 'mnamo', 'mwezi', 'Oktoba', 'alisema', 'kwamba', 'Sudan', 'itaondolewa', 'katika', 'orodha', 'hiyo', 'baada', 'ya', 'kulipa', 'fidia', 'ya', '$', '335m', 'kwa', 'waathiriwa', 'na', 'familia', 'ya', 'shambulio', 'la', 'bomu', 'la', 'al-Qaeda', 'mwaka', '1998', 'dhidi', 'ya', 'ubalozi', 'wa', 'Marekani', 'Afrika', '.', 'Sudan', 'iliorodheshwa', 'mwaka1993', 'wakati', 'kiongozi', 'wa', 'al-Qaeda', 'Osama', 'Bin', 'Laden', 'alipoishi', 'nchini', 'humo', 'kama', 'mgeni', 'wa', 'serikali', '.', 'Nchini', 'zingine', 'zilizojumuishwa', 'katika', 'orodha', 'ya', 'kufadhili', 'ugaidi', 'ni', 'Iran', ',', 'Korea', 'Kaskazini', 'na', 'Syria', '.', 'Mashindano', 'ya', 'CECAFA', \"yang'oa\", 'nanga', 'Kigali', 'huku', 'kukiwa', 'na', 'changamoto', 'ya', 'corona', 'Yves', 'Bucyana', 'BBC', 'Swahili', 'BBCCopyright', ':', 'BBC', 'Mashindano', 'ya', 'CECAFA', 'kwa', 'vijana', 'walio', 'chini', 'ya', 'Umri', 'wa', 'miaka', '17', 'yameanza', 'kutimua', 'vumbi', 'nchini', 'Rwanda', ',', 'zikishiriki', 'timu', 'kutoka', 'mataifa', '6', 'ya', 'ukanda', 'wa', 'Afrika', 'mashariki', '.', 'Kenya', 'na', 'Ethiopia', 'zilitoka', 'sare', 'katika', 'mechi', 'ya', 'kwanza', 'na', 'leo', 'Rwanda', 'inacheza', 'dhidi', 'ya', 'Tanzania', '.', 'BBCCopyright', ':', 'BBC', 'Kulingana', 'na', 'shirikisho', 'la', 'soka', 'Afrika', 'Mashariki', 'na', 'kati', 'CECAFA', ',', 'mashindano', 'haya', 'yalikumbwa', 'na', 'changamoto', 'kubwa', 'ya', 'Covid19', 'kiasi', 'kwamba', 'ilibidi', 'mechi', 'ya', 'ufunguzi', 'Jumamosi', 'kuahirishwa', 'na', 'mechi', 'ya', 'jana', 'kati', 'ya', 'Kenya', 'na', 'Ethiopia', 'kuchelewa', 'kwa', 'zaidi', 'ya', 'saa', 'nzima', 'kwa', 'kusubiri', 'matokeo', 'ya', 'vipimo', 'vilivyofanyiwa', 'wachezaji', ',', 'katibu', 'mkuu', 'wa', 'CECEFA', ',', 'Auka', 'Gecheo', 'anasema', ':', '‘', '’', 'Sheria', 'za', 'CAF', 'zinasema', 'kwamba', 'lazima', 'timu', 'zifanyiwe', 'vipimo', 'saa', '48', 'kabla', 'ya', 'mechi', ',', 'hii', 'ndiyo', 'maana', 'hata', 'mechi', 'ya', 'Rwanda', 'na', 'Tanzania', 'Jumamosi', 'iliahirishwa', 'na', 'hatungekuwa', 'na', 'mechi', 'mbili', 'kwa', 'kuwa', 'muda', 'wa', 'vipimo', 'vyao', 'ulikuwa', 'umemalizika', ',', 'ni', 'sheria', 'iliyopo', 'ya', 'kulinda', 'watu', '.', 'Matokeo', 'ya', 'vipimo', 'kwa', 'mchezo', 'huu', 'wa', 'Kenya', 'na', 'Ethiopia', 'pia', 'yalichelewa', 'kwa', 'sababu', 'lazima', 'kwanza', 'ziwekwe', 'katika', 'mfumo', 'uliopo', ',', 'hatungetaka', 'pia', 'kukiuka', 'sheria', 'za', 'nchi', '’', '’', '.', 'BBCCopyright', ':', 'BBC', 'Ni', 'shindano', 'ambalo', 'mashabiki', 'hawaruhusiwi', 'kuingia', 'uwanjani', 'ili', 'kudhibiti', 'maambukizi', 'ya', 'Covid-19', '.', 'Pamoja', 'na', 'hayo', 'CECEFA', 'iliamuru', 'mashindano', 'hayo', 'kuchezwa', 'katika', 'mji', 'mmoja', ',', 'mjini', 'Rubavu', 'badala', 'ya', 'kuchezwa', 'pia', 'katika', 'mji', 'wa', 'Huye', 'kusini', 'mwa', 'Rwanda', 'kwa', 'hofu', 'ya', 'maambukizi', '.', 'Kuhusu', 'matokeo', 'ya', 'mechi', 'ya', 'ufunguzi', 'jana', 'Kenya', 'na', 'Ethiopia', 'zilitoka', 'sare', 'ya', 'kufungana', 'mabao', '2', 'kwa', '2', 'kundi', 'lao', 'likishirikisha', 'pia', 'Uganda', 'na', 'leo', 'Rwanda', 'inakipiga', 'dhidi', 'ya', 'Tanzania', 'katika', 'kundi', 'B', 'linaloshirikisha', 'pia', 'timu', 'ya', 'Djibuti', '.', 'Timu', 'ya', 'Sudan', 'Kusini', 'iliondolewa', 'baada', 'ya', 'vipimo', '(', 'MRI', 'Test', ')', 'kubainisha', 'kuwa', 'wachezaji', 'wake', '4', 'wanazidisha', 'umri', 'wa', 'miaka', '17', '.', 'Tundu', 'Lissu', 'atoa', 'tuzo', 'aliyopewa', 'kwa', 'chama', 'na', 'wafuasi', '‘', 'waliotoweka', '’', 'Makamu', 'mwenyekiti', 'wa', 'chama', 'cha', 'Chadema', 'nchini', 'Tanzania', ',', 'Tundu', 'Lissu', 'ametoa', 'tuzo', 'ya', 'uhuru', 'aliyopewa', 'na', 'taasisi', 'ya', \"'Bush\", 'Thatcher', \"'\", 'kwa', 'ajili', 'yake', 'binafsi', ',', 'lakini', 'yeye', 'ameamua', 'kuitoa', 'kwa', 'chama', 'chake', 'na', 'wafuasi', 'wa', 'chama', 'hicho', 'wasiojulikana', 'walipo', 'kwa', 'miaka', 'kadhaa', 'ambao', 'ni', 'bwana', 'Alphonce', 'Mawazo', 'na', 'Ben', 'Saanane', '.', 'Akizungumza', 'katika', 'hafla', 'ya', 'kupokea', 'tuzo', 'hiyo', 'Lissu', ',', 'alisema', 'kuwa', 'tuzo', 'hiyo', 'inaonesha', 'utambuzi', 'wa', 'kimataifa', 'wa', 'kujitolea', 'kwake', 'binafsi', 'na', 'kwa', 'watu', 'wengine', 'kwa', 'ujumla', 'nchini', 'Tanzania', 'kupambana', 'kwa', 'ajili', 'ya', 'demokrasia', 'na', 'kulinda', 'uhuru', 'wa', 'watu', 'wa', 'kimsingi', '.', '“', 'Hizi', 'ni', 'hatua', 'muhimu', 'kuelekea', 'mapambano', 'kwa', 'ajilii', 'ya', 'demokrasia', ',', 'utawala', 'wa', 'kisheria', 'na', 'haki', 'za', 'binadamu', 'nchini', '’', '’', ',', 'alisema', 'Ijumaa', 'kupitia', 'mtandao', 'katika', 'hotuba', 'yake', 'fupi', 'baada', 'ya', 'kupokea', 'tuzo', 'hiyo', '.', 'Bw', 'Lissu', 'yuko', 'nchini', 'Ubelgiji', 'ambako', 'anaishi', 'baada', 'ya', 'kuondoka', 'nchini', 'Tanzania', 'kwa', 'kile', 'alichosema', 'kuwa', 'anahofia', 'maisha', 'yake', '.']\n",
      "\n",
      " Number of Words:  1433\n"
     ]
    }
   ],
   "source": [
    "file=\"20dec14_1.txt\"\n",
    "\n",
    "# calling the function and storing the contents in a text variable \n",
    "text = get_document(\"https://www.bbc.com/swahili/live/habari-55298451\")\n",
    "\n",
    "# calling the store_ document function \n",
    "store_document(doc=text,name=file)\n",
    "\n",
    "#add the words in this file to the total_corpus_words, to keep count of the number of words in the corpus\n",
    "total_corpus_words+=total_words(file)"
   ]
  },
  {
   "cell_type": "code",
   "execution_count": 224,
   "metadata": {},
   "outputs": [
    {
     "data": {
      "text/plain": [
       "378446"
      ]
     },
     "execution_count": 224,
     "metadata": {},
     "output_type": "execute_result"
    }
   ],
   "source": [
    "total_corpus_words"
   ]
  },
  {
   "cell_type": "code",
   "execution_count": 225,
   "metadata": {},
   "outputs": [
    {
     "name": "stdout",
     "output_type": "stream",
     "text": [
      "['Kwanini', 'kuna', 'hali', 'tete', 'kuhusu', 'mrithi', 'wa', 'kiongozi', 'wa', 'mahakama', 'ya', 'juu', 'zaidi', 'ya', 'Kenya', '?', 'Hezron', 'Mogambi', 'Mhadhiri', ',', 'Chuo', 'Kikuu', 'cha', 'Nairobi', '14', 'Disemba', '2020', 'Chanzo', 'cha', 'picha', ',', 'EPA', 'Maelezo', 'ya', 'picha', ',', 'Jaji', 'Maraga', 'atakumbwa', 'kwa', 'kutangaza', 'kufuta', 'matokeo', 'ya', 'uchaguzi', 'wa', 'urais', 'ya', 'mwaka', '2017', 'nchini', 'Kenya', 'na', 'kusababisha', 'kufanyika', 'upya', 'kwa', 'uchaguzi', '.', 'Kuondoka', 'ofisini', 'kwa', 'Jaji', 'Mkuu', 'wa', 'Kenya', 'David', 'Kenani', 'Maraga', 'muda', 'wake', 'wa', 'kustaafu', 'ukiwa', 'umefika', 'kumeanzisha', 'vita', 'vya', 'chini', 'kwa', 'chini', 'na', 'vuta', 'nikuvute', 'kuhusu', 'ni', 'nani', 'atakayechukua', 'hatamu', 'za', 'uongozi', 'kwenye', 'idara', 'hiyo', 'muhimu', '.', 'Hata', 'kabla', 'ya', 'kinyanganyiro', 'chanyewe', 'kuanza', 'wakati', 'Tume', 'ya', 'Huduma', 'ya', 'Mahakama', '(', 'JSC', ')', 'itakapotangaza', 'nafasi', 'hiyo', 'kuwa', 'wazi', ',', 'tayari', 'mipango', 'na', 'mirengo', 'ambayo', 'imezuka', 'kama', 'njia', 'ya', 'kumrithi', 'jaji', 'Maraga', 'ambaye', 'aliondoka', 'afisini', 'wiki', 'iliyopita', 'kwenda', 'kwenye', 'livu', 'ili', 'kujitayarisha', 'kuondoka', 'ofisini', 'ifikapo', 'Januari', '.', 'Tume', 'ya', 'Huduma', 'za', 'Mahakama', '(', 'JSC', ')', 'itaanzisha', 'mchakato', 'wa', 'kujaza', 'nafasi', 'hiyo', 'mnamo', 'Januari', '12', 'mwakani', '.', 'Kuondoka', 'ofisini', 'kwa', 'jaji', 'Maraga', 'Akiondoka', 'ofisini', ',', 'Jaji', 'Maraga', 'atakumbukwa', 'kwa', 'kuandikisha', 'historia', 'kwa', 'kumpa', 'wadhifa', 'huo', 'kwa', 'naibu', 'wake', '(', 'japo', 'kwa', 'muda', ')', 'mwanamke', 'wa', 'kwanza', 'kwenye', 'wadhifa', 'kama', 'huo', ',', 'Jaji', 'Philomena', 'Mwilu', 'ili', 'kuruhusu', 'mchakato', 'wa', 'kujaza', 'nafasi', 'hiyo', 'mwakani', '.', '``', 'Nakupa', 'uwezo', 'wa', 'kuwa', 'kaimu', 'Jaji', 'Mkuu', 'wa', 'Jamhuri', 'ya', 'Kenya', 'na', 'kutekeleza', 'wajibu', 'na', 'majukumu', 'ya', 'Jaji', 'Mkuu', 'kutoka', 'Disemba', '12', ',', '2020', 'hadi', 'nitakapostaafu', 'mnamo', 'Januari', '12', ',', '2021', ',', \"''\", 'Jaji', 'Mkuu', 'alieleza', 'kwenye', 'barua', 'yake', 'kwa', 'naibu', 'wake', '.', 'Likizo', 'yake', 'itakapomalizika', 'Januari', ',', 'Jaji', 'Maraga', 'alieleza', 'kwamba', 'atamwachia', 'ofisi', 'naibu', 'wake', 'kirasmi', 'ili', 'aendelee', 'na', 'jukumu', 'kama', 'kaimu', 'wa', 'Jaji', 'Mkuu', 'kwa', 'muda', 'usiozidi', 'miezi', 'sita', 'au', 'hadi', 'afisa', 'mwingine', 'atakapoteuiliwa', 'kulingana', 'na', 'katiba', 'ya', 'Kenya', '.', 'Sehemu', 'ya', '5', '(', '4', ')', 'ya', 'sheria', 'ya', 'bunge', 'kuhusu', 'Huduma', 'za', 'Mahakama', 'inaeleza', 'kwamba', 'katika', 'hali', 'ya', 'kujiuzulu', ',', 'ama', 'kifo', 'cha', 'Jaji', 'Mkuu', ',', 'Naibu', 'wake', 'atachukua', 'hatamu', 'kama', 'kaimu', 'kwa', 'kipindi', 'kisichozidi', 'miezi', 'sita', 'kabla', 'ya', 'uteuzi', 'wa', 'Jaji', 'mpya', 'wa', 'kuchukua', 'nafasi', 'hiyo', 'kulingana', 'na', 'katiba', '.', 'Itakumbukwa', 'kwamba', 'katika', 'mwaka', 'wa', '2016', ',', 'wakati', 'aliyekuwa', 'Jaji', 'Mkuu', 'Dkt', '.', 'Willy', 'Mutunga', 'alipostaafu', ',', 'Jaji', 'Mohammed', 'Ibrahim', 'alichukua', 'nafasi', 'hiyo', 'kama', 'kaimu', 'kabla', 'ya', 'Jaji', 'Davidi', 'Maraga', 'anayeondoka', 'sasa', 'kuteuliwa', '.', 'Jaji', 'Maraga', ',', 'ambaye', 'alichukua', 'hatamu', 'za', 'uongozi', 'kutoka', 'kwa', 'Dkt', 'Willy', 'Mutunga', 'mnamo', 'Octoba', '19', ',', '2016', ',', 'alikuwa', 'ameahidi', 'taifa', 'kuondoa', 'mirundiko', 'ya', 'kesi', 'zilizokuwa', 'zimekaa', 'zaidi', 'ya', 'miaka', 'mitano', 'katika', 'hatamu', 'zake', '.', 'Hata', 'hivyo', ',', 'anaondoka', 'kukiwa', 'na', 'mrundiko', 'wa', 'kesi', 'zipatazo', '35,359', '.', 'Mikakati', 'ya', 'Jaji', 'Maraga', 'na', 'changamoto', 'Ni', 'muhimu', 'kutambua', 'pia', 'kwamba', 'pamoja', 'na', 'hatua', 'na', 'mikakati', 'aliyoweka', 'Jaji', 'Maraga', 'kuhakikisha', 'huduma', 'zifaazo', 'kwenye', 'idara', 'wakati', 'wa', 'hatamu', 'yake', ',', 'Maraga', 'alitambua', 'kuwa', 'mirundiko', 'ya', 'kesi', 'haiwezi', 'kumalizika', 'kwenye', 'idara', 'yake', 'kwa', 'sababu', 'ya', 'uksefu', 'wa', 'wa', 'maafisa', 'na', 'majaji', 'wa', 'kutosha', 'kutekeleza', 'wajibu', 'huo', '.', 'Jaji', 'Maraga', 'aliingia', 'kwenye', 'idara', 'ya', 'mahakama', 'kukiwa', 'na', 'kesi', 'ziptazo', '201,206', 'zote', 'ambazo', 'zilishughulikiwa', 'ndani', 'ya', 'miaka', 'miwili', '.', 'Huku', 'akiwasilisha', 'ripoti', 'kuhusu', 'hali', 'katika', 'idara', 'ya', 'mahakama', 'kuhusu', 'mwaka', 'wa', '2019-2020', ',', 'Jaji', 'Maraga', 'alisema', 'kwamba', 'bila', 'kuongeza', 'idadi', 'ya', 'wafanyikazi-majaji', ',', 'na', 'maafisa', 'wengine-kupunguza', 'mirundiko', 'ya', 'kesi', 'kwenye', 'idara', 'ya', 'mahakama', 'ni', 'suala', 'ambalo', 'halitatatuliwa', 'hivi', 'karibuni', '.', 'Kwa', 'nini', 'kuna', 'hali', 'tete', '?', 'Chanzo', 'cha', 'picha', ',', 'Empics', 'Maelezo', 'ya', 'picha', ',', 'Jaji', 'Maraga', 'alimpa', 'wadhifa', 'wake', 'mwanamke', 'Philomena', 'Mwilu', '(', 'wa', 'tatu', 'kutoka', 'kushoto', ')', 'kwa', 'muda', 'mfupi', 'wakati', 'akiwa', 'likizoni', 'Kile', 'kinachofanya', 'hali', 'ya', 'sasa', 'kuwa', 'tete', 'zaidi', 'ni', 'kuwa', 'kuna', 'uwezekano', 'wa', 'kura', 'ya', 'maamuzi', 'kupitia', 'ripoti', 'ya', 'Jopo', 'la', 'BBI', 'ambao', 'huenda', 'ukaleta', 'mabadiliko', 'fulani', 'kwenye', 'katiba', 'ya', 'Kenya', 'na', 'hivyo', 'kuathiri', 'masuala', 'fulani', 'ya', 'kiusimamizi', 'na', 'sheria', ',', 'uchaguzi', 'wa', 'mwaka', 'wa', '2022', 'unakaribia', 'na', 'zaidi', 'na', 'siasa', 'zinapamba', 'moto', 'na', 'kwamba', 'idara', 'ya', 'mahakama', 'itachukua', 'nafasi', 'muhimu', 'kusuluhisha', 'masuala', 'ya', 'kikatiba', 'yatakayozuka', 'kuhusu', 'masuala', 'yote', 'ya', 'uchaguzi', 'na', 'taratibu', 'zake', ',', 'na', 'kwamba', 'Rais', 'Kenyatta', 'anaondoka', 'mamlakani', 'baada', 'ya', 'miaka', '10', 'ya', 'kuwa', 'Rais', 'wa', 'Kenya', 'huku', 'idara', 'hiyo', 'ikidai', 'Rais', 'mwenyewe', 'amekuwa', 'haisaidii', 'kufikia', 'malengo', 'yake', '.', 'Mambo', 'haya', 'pamoja', 'na', 'mengine', 'yamechangia', 'kujazwa', 'kwa', 'nafasi', 'ya', 'Jaji', 'Mkuu', 'nchini', 'Kenya', 'kuchukua', 'mkondo', 'wa', 'kisiasa', 'na', 'kuzua', 'vuta', 'nikuvute', 'kila', 'kundi', 'ilikijaribu', 'kuhakikisha', 'kwamba', 'atakayechukua', 'hatamu', 'atapendelea', 'kwake', 'au', 'hata', 'kuhakikisha', 'kwamba', 'serikali', 'itayokuwepo', 'itaheshimu', 'katiba', 'ya', 'Kenya', '.', 'Baadhi', 'ya', 'wadadisi', 'wanadai', 'kwamba', 'atakayechukua', 'hatamu', 'baada', 'ya', 'Jaji', 'Maraga', 'ni', 'lazima', 'aweze', 'kusimama', 'kidete', 'na', 'kulinda', 'kutii', 'kwa', 'sheria', 'na', 'katiba', 'ya', 'Kenya', '.', 'Tayari', ',', 'mwanaharakati', 'Okiya', 'Omtatah', 'amefika', 'mahakamani', 'kupinga', 'hatua', 'yeyote', 'ambayo', 'huenda', 'ikichaukuliwa', 'na', 'Tume', 'ya', 'Huduma', 'za', 'Idara', 'ya', 'Mahakama', '(', 'JSC', ')', 'kumpa', 'fursa', 'naibu', 'wa', 'jaji', 'mkuu', 'Philomena', 'Mwilu', 'kuwa', 'kaimu', 'Jaji', 'Mkuu', '.', 'Bwana', 'Omtatah', 'ameiomba', 'mahakama', 'kuinyima', 'tume', 'hiyo', 'uwezo', 'wa', 'kumteua', 'jaji', 'Mwilu', 'kuchukua', 'hatamu', 'kwa', 'muda', 'hadi', 'wakati', 'jaji', 'huyo', 'atakaposhughulikia', 'kesi', 'zote', 'za', 'ufisadi', 'zinazomhusu', 'mahakamani', '.', 'Umuhimu', 'wa', 'wadhifa', 'wa', 'Jaji', 'Mkuu', 'Cheo', 'na', 'afisi', 'ya', 'Jaji', 'Mkuu', 'ni', 'muhimu', 'katika', 'serikali', 'ya', 'Kenya', 'kwa', 'sababu', 'ya', 'uwezo', 'wake', 'na', 'majukumu', 'kwani', 'anayechukua', 'nafasi', 'hiyo', 'huwa', 'ndiye', 'Rais', 'wa', 'Mahakama', 'ya', 'kilele', 'ambayo', 'huwa', 'na', 'uwezo', 'wa', 'kuamua', 'kesi', 'kuhusu', 'uchaguzi', 'wa', 'Rais', 'na', 'hivyo', 'inawaniwa', 'kwa', 'udi', 'na', 'uvumba', 'kama', 'sehemu', 'ya', 'kuhakikisha', 'kwamba', 'kila', 'mmoja', 'wa', 'wawaniaji', 'ana', 'ushawishi', 'kunakohitajika', 'kwenye', 'ngazi', 'za', 'serikali', '.', 'Mwaka', 'wa', '2017', ',', 'mahakama', 'hii', 'ya', 'kilele', 'ilifutilia', 'mbali', 'uchaguzi', 'wa', 'Rais', 'Uhuru', 'Kenyatta', 'kufuatia', 'kupingwa', 'kwa', 'uchaguzi', 'huo', 'katika', 'mahakama', 'ya', 'Kilele', 'na', 'NASA', '.', 'Baada', 'ya', 'uchaguzi', 'mwingine', 'wa', 'Urais', 'kuandaliwa', ',', 'ambapo', 'Rais', 'Kenyatta', 'alitangazwa', 'mshindi', ',', 'uhusiano', 'kati', 'ya', 'Jaji', 'Mkuu', 'David', 'Maraga', 'na', 'Rais', 'Kenyatta', 'haujakuwa', 'mzuri', 'huku', 'Jaji', 'Mkuu', 'akimrushia', 'cheche', 'za', 'maneno', 'Rais', 'Kenyatta', 'mara', 'kwa', 'mara', 'kwa', 'kile', 'amekuwa', 'akikiita', '``', 'hujuma', 'dhidi', 'ya', 'idara', 'ya', 'mahakama', 'na', 'vitendo', 'na', 'kuweka', 'msingi', 'wa', 'fujo', 'kwa', 'ukiukaji', 'sheria', 'hapa', 'nchini', '.', \"''\", 'Chanzo', 'cha', 'picha', ',', 'Empics', 'Maelezo', 'ya', 'picha', ',', 'Jaji', 'David', 'Maraga', 'amekuwa', 'akimtuhumu', 'rais', 'Uhuru', 'Kenyatta', 'kwa', 'kupuuza', 'maagizo', 'ya', 'mahakama', 'Ikumbukwe', 'kwamba', 'Jaji', 'Maraga', 'amekuwa', 'akimkashifu', 'Rais', 'Kenyatta', 'kwa', 'kupuuza', 'maagizo', 'ya', 'mahakama', '.', 'Mfano', 'ni', 'maagizo', 'mawili', 'ya', 'mahakama', 'yaliyomtaka', 'awaapishe', 'majaji', '41', 'walioteuliwa', 'na', 'Tume', 'ya', 'Huduma', 'za', 'Mahakama', '(', 'JSC', ')', 'mnamo', 'Juni', '2019', ',', 'maagizo', 'ambayo', 'Rais', 'Kenyatta', 'aliyatilia', 'maskio', 'nta', '.', '``', 'Ni', 'lazima', 'Mheshimiwa', 'Rais', 'nikukumbushe', 'kuwa', 'uliapa', 'kulinda', 'Katiba', 'na', 'sheria', 'za', 'Kenya', '.', 'Nakuomba', 'sasa', 'uonyeshe', 'kwa', 'vitendo', 'kuwa', 'unaheshimu', 'sheria', 'kwa', 'kutii', 'maagizo', 'ya', 'mahakama', ',', \"''\", 'akasema', 'Jaji', 'Maraga', '.', 'Alieleza', 'kuwa', 'tabia', 'ya', 'Rais', 'Kenyatta', 'kupuuza', 'maagizo', 'ya', 'mahakama', 'imekuwa', 'mtindo', 'katika', 'Serikali', 'Kuu', 'inayoongzwa', 'na', 'Uhuru', 'Kenyatta', '.', 'Hata', 'hivyo', ',', 'Rais', 'Kenyatta', 'alidai', 'kulikuwa', 'na', 'baadhi', 'yao', 'wanaoshukiwa', 'kuhusika', 'katika', 'uhalifu', 'kama', 'sababu', 'yake', 'ya', 'kukataa', 'kuwaapisha', 'majaji', 'hao', '.', 'Lakini', 'Jaji', 'Maraga', 'alimkosoa', 'akisema', 'hata', 'baada', 'ya', 'kuitisha', 'ushahidi', 'wa', 'madai', 'hayo', ',', 'hakupokea', 'majibu', 'yoyote', '.', 'Hii', 'ndio', 'sababu', 'wawaniaji', 'wakuu', 'wa', 'Urais', 'mwaka', 'wa', '2022', 'kwa', 'sasa', 'Raila', 'Odinga', 'na', 'naibu', 'wa', 'Rais', ',', 'William', 'Ruto', ',', 'ambao', 'wameonyesha', 'ari', 'ya', 'kutaka', 'kurithi', 'kiti', 'cha', 'Urais', 'baada', 'ya', 'Rais', 'Kenyatta', 'wameonyesha', 'ari', 'ya', 'kutaka', 'kuwa', 'na', 'ushawishi', 'wa', 'yule', 'atakayechukua', 'wadhifa', 'huo', 'wanafuatilia', 'kwa', 'karibu', 'na', 'kutaka', 'kushawishi', 'atakayechukua', 'hatamu', 'kama', 'Jaji', 'Mkuu', '.', 'Kinachoonekana', 'wazi', 'ni', 'kwamba', ',', 'Tume', 'ya', 'Huduma', 'za', 'Idara', 'ya', 'Mahakama', '(', 'JSC', ')', 'tayari', 'imegawika', 'mara', 'mbili', 'kuhusiana', 'na', 'suala', 'la', 'ni', 'nani', 'atakayechukua', 'nafasi', 'hiyo', 'kikamilifu', 'huku', 'siasa', 'zikionekana', 'kupenya', 'kwenye', 'idara', 'hiyo', 'muhimu', 'na', 'tume', 'ya', 'JSC', '.', 'Kwa', 'miezi', 'kadhaa', 'sasa', ',', 'kumekuwa', 'na', 'vuta', 'nikuvute', 'kuhusu', 'mchakato', 'wa', 'kumteua', 'atakayechukua', 'wadhifa', 'huo', 'huku', 'kundi', 'linaloongozwa', 'na', 'mwakilishi', 'wa', 'Chama', 'cha', 'Wanasheria', 'nchini', 'Kenya', 'katika', 'JSC', ',', 'Macharia', 'Njeru', ',', 'akionekana', 'kupendelea', 'kuanzishwa', 'kwa', 'mchakato', 'huo', 'mapema', 'ili', 'kuhakikisha', 'kuwa', 'hakuna', 'mwanya', 'huku', 'kundi', 'lingine', 'linaloongozwa', 'na', 'Jaji', 'Maraga', 'na', 'naibu', 'wake', 'Philemon', 'Mwilu', 'wakikatupilia', 'mbali', 'hatua', 'kama', 'hiyo', '.', 'Tayari', 'jaji', 'Mwilu', 'anashikilia', 'wadhifa', 'huo', 'kwa', 'muda', 'huku', 'mchakato', 'wa', 'kumchagua', 'atakayechukua', 'nafasi', 'hiyo', 'kikamilifu', 'ukingojewa', 'mwezi', 'ujao', '.', 'Kenya', 'itapata', 'Jaji', 'Mkuu', 'mpya', 'lini', '?', 'Hii', 'ina', 'maana', 'kwamba', 'Kenya', 'inaweza', 'kupata', 'Jaji', 'Mkuu', 'mpya', 'baada', 'ya', 'miezi', 'sita', 'kuanzia', 'Januari', ',', 'yaani', 'mwezi', 'wa', 'Juni', 'huku', 'JSC', 'ikiiomba', 'bunge', 'la', 'Kenya', 'kubadilisha', 'sheria', 'na', 'kufupisha', 'muda', 'wa', 'mchakato', 'huo', 'au', 'kumruhusu', 'naibu', 'wa', 'Jaji', 'Mkuu', 'kuondelea', 'kuwa', 'afisini', 'hadi', 'mchakato', 'wa', 'kumteua', 'Jaji', 'Mkuu', 'mwingine', 'utakapomalizika', '.', 'Hata', 'hivyo', ',', 'baadhi', 'ya', 'wanasheria', 'na', 'mawakili', 'wameukataa', 'mswaada', 'ambao', 'uko', 'bungeni', 'kwa', 'sasa', 'wenye', 'nia', 'ya', 'kushughulikia', 'suala', 'la', 'mwanya', 'uliopo', 'kwenye', 'sheria', 'kuhusiana', 'na', 'kustaafu', 'kwa', 'Jaji', 'Mkuu', 'na', 'mchakato', 'wa', 'kumteua', 'jaji', 'mwingine', 'wa', 'kuchukua', 'wadhifa', 'huo', '.', 'Unaweza', 'pia', 'kusoma', ':', 'Mswaada', 'ya', 'JSC', 'wa', 'mwaka', 'wa', '2020', ',', 'ambao', 'tayari', 'umesomwa', 'kwenye', 'bunge', 'la', 'kitaifa', ',', 'unapendekeza', 'kuwa', 'mchakato', 'wa', 'kumchagua', 'atakayechukua', 'hatamu', 'baada', 'ya', 'Jaji', 'Mkuu', 'kustaafu', 'utaanza', 'miezi', 'sita', 'kabla', 'ya', 'tarehe', 'ya', 'kustaafu', 'kwa', 'yule', 'aliye', 'afisini', '.', 'Rais', 'wa', 'Chama', 'cha', 'Wanasheria', 'cha', 'Kenya', '(', 'LSK', ')', 'Nelson', 'Havi', 'amedai', 'kuwa', 'kuwepo', 'kwa', 'kipengele', 'kama', 'hicho', 'kutainyima', 'JSC', 'nafasi', 'na', 'nguvu', 'za', 'kushiriki', 'katika', 'mchakato', 'mzima', '.']\n",
      "\n",
      " Number of Words:  1497\n"
     ]
    }
   ],
   "source": [
    "file=\"20dec14_2.txt\"\n",
    "\n",
    "# calling the function and storing the contents in a text variable \n",
    "text = get_document(\"https://www.bbc.com/swahili/habari-55298453\")\n",
    "\n",
    "# calling the store_ document function \n",
    "store_document(doc=text,name=file)\n",
    "\n",
    "#add the words in this file to the total_corpus_words, to keep count of the number of words in the corpus\n",
    "total_corpus_words+=total_words(file)"
   ]
  },
  {
   "cell_type": "code",
   "execution_count": 226,
   "metadata": {},
   "outputs": [
    {
     "data": {
      "text/plain": [
       "379943"
      ]
     },
     "execution_count": 226,
     "metadata": {},
     "output_type": "execute_result"
    }
   ],
   "source": [
    "total_corpus_words"
   ]
  },
  {
   "cell_type": "code",
   "execution_count": 227,
   "metadata": {},
   "outputs": [
    {
     "name": "stdout",
     "output_type": "stream",
     "text": [
      "['Sababu', 'za', 'Mama', 'kuamua', 'kumuuza', 'mwanae', 'Kenya', 'kwa', 'pauni', '70', 'Mwezi', 'uliopita', ',', 'BBC', 'Africa', 'Eye', 'kufichua', 'biashara', 'haramu', 'ya', 'watoto', 'katika', 'mji', 'mkuu', 'wa', 'Kenya', ',', 'Nairobi', '.', 'Polisi', 'waliwakamata', 'watu', 'saba', 'kwa', 'makoa', 'ya', 'kusafirisha', 'watu', '.', 'lakini', 'vipi', 'kuhusu', 'wanawake', 'wa', 'upande', 'mwingine', 'wa', 'mikataba', 'hii', 'haramu', '?', 'Ni', 'nini', 'kinachomsukuma', 'mama', 'kuuza', 'mtoto', 'wake', 'kwa', 'pauni', '70', '?', 'Maisha', 'ya', 'Adama', 'yalikuwa', 'rahisi', 'wakati', 'alipokuwa', 'na', 'wazazi', 'wake', ',', 'alisema', '.', 'Pesa', 'ilikuwa', 'ngumu', ',', 'na', 'hakuwa', 'na', 'uchaguzi', ',', 'lakini', 'kulikuwa', 'na', 'agizo', 'kwa', 'vitu', 'ambavyo', 'vilikuwa', 'na', 'maana', '.', 'Alihudhuria', 'shule', 'na', 'aliipenda', 'sana', '.', 'Alikuwa', 'na', 'wasiwasi', 'kiasi', '.', 'Halafu', 'baba', 'yake', 'alifariki', 'akiwa', 'na', 'miaka', '12', ',', 'na', 'mama', 'yake', 'alifuata', 'miaka', 'michache', 'baadaye', '.', '``', 'Maisha', 'yalikuwa', 'magumu', 'wakati', 'huo', ',', \"''\", 'alisema', ',', 'katika', 'mazungumzo', 'kutoka', 'katika', 'kijiji', 'chake', 'huko', 'Mashariki', 'mwa', 'Kenya', '.', '``', 'Nililazimika', 'kuacha', 'shule', 'na', 'kujitunza', 'mwenyewe', '.', \"''\", 'Akiwa', 'na', 'miaka', '22', ',', 'Adama', 'alikutana', 'na', 'mwanaume', 'na', 'akapata', 'ujauzito', ',', 'lakini', 'alifariki', 'siku', 'tatu', 'baada', 'ya', 'mtoto', 'wao', 'wa', 'kike', 'kuzaliwa', '.', 'Upweke', 'wake', 'uliongezeka', '.', 'Alimnyonyesha', 'mtoto', 'wake', 'kwa', 'ugonjwa', 'wa', 'watoto', 'wachanga', 'hadi', 'alipopona', ',', 'takriban', 'miezi', '18', ',', 'kisha', 'kipato', 'cha', 'kutosha', 'kilihitajika', 'kuwafanya', 'wote', 'wawili', 'waweze', 'kuishi', '.', 'Hivyo', 'Adama', 'alimwacha', 'mtoto', 'na', 'bibi', 'yake', 'mzee', 'na', 'kuelekea', 'Nairobi', 'kutafuta', 'kazi', '.', '``', 'Kumbuka', 'kuwa', 'unakwenda', 'kupata', 'riziki', 'kwa', 'ajili', 'ya', 'mtoto', 'wako', ',', \"''\", 'Bibi', 'yake', 'alisema', '.', 'Adama', 'alifika', 'Nairobi', 'na', 'kuanza', 'kwa', 'kuuza', 'Matikiti', 'maji', 'barabarani', ',', 'lakini', 'haimkulipa', 'vya', 'kutosha', 'na', 'mwenzake', 'aliyeishi', 'naye', 'nyumbani', 'aliiba', 'pesa', 'yote', 'aliyoiacha', 'ndani', '.', 'Maisha', 'katika', 'jiji', 'yalikuwa', 'magumu', 'pia', ':', 'ana', 'kovu', 'kwenye', 'paji', 'la', 'uso', 'wake', ',', 'chini', 'ya', 'nywele', 'zake', 'zilizokatwa', ',', 'kutokana', 'na', 'kujitetea', '.', '``', 'Wanaume', 'wengine', 'walikuwa', 'wakinikorofisha', 'na', 'ilifikia', 'hatua', 'ilibidi', 'nipigane', ',', \"''\", 'alisema', '.', 'Aliendelea', 'kufanya', 'kazi', 'ya', 'ujenzi', ',', 'ambapo', 'hakulipwa', 'kabisa', ',', 'na', 'kutoka', 'hapo', 'alikwenda', 'kwenye', 'kilabu', 'cha', 'usiku', ',', 'ambapo', 'alimuagiza', 'bosi', 'wake', 'ampe', 'moja', 'kwa', 'moja', 'fedha', 'bibi', 'yake', 'kijijini', '.', 'Baada', 'ya', 'muda', ',', 'Adama', 'alichukua', 'mshahara', 'kidogo', 'huko', 'Nairobi', 'ili', 'aweze', 'kupanga', 'mahali', 'pa', 'kuishi', '.', 'Alipata', 'kazi', 'mpya', 'na', 'mshahara', 'bora', 'kidogo', 'kwenye', 'eneo', 'jingine', 'la', 'ujenzi', ',', 'na', 'alikutana', 'na', 'mwanaume', 'huko', '.', 'Wawili', 'hao', 'walichumbiana', 'kwa', 'muda', 'na', 'akamwambia', 'anataka', 'kupata', 'mtoto', '.', 'Adama', 'alimpa', 'sharti', '-', 'ikiwa', 'angeweza', 'kumleta', 'mtoto', 'wake', 'wa', 'kike', 'kuishi', 'nao', ',', 'wangeweza', 'kupata', 'mtoto', 'pamoja', '.', 'Alikubali', ',', 'na', 'kwa', 'miezi', 'mitano', 'ya', 'ujauzito', 'wa', 'Adama', 'alilipa', 'kodi', 'na', 'bili', 'na', 'alinunua', 'chakula', 'kwa', 'ajili', 'ya', 'nyumba', 'yao', ',', 'na', 'Adama', 'alisubiri', 'wakati', 'mzuri', 'wa', 'kumleta', 'mtoto', 'wake', 'mjini', '.', 'Kisha', 'akaondoka', 'siku', 'moja', 'na', 'hakurudi', 'tena', '.', 'Chanzo', 'cha', 'picha', ',', 'Getty', 'Images', 'Wanawake', 'wengi', 'watajua', 'wasiwasi', 'wa', 'kujiandaa', 'kumleta', 'mtoto', 'ulimwenguni', 'bila', 'pesa', 'ya', 'kutosha', 'kulisha', 'mtu', 'mmoja', ',', 'achilia', 'mbali', 'wawili', '.', 'Wengi', 'hawatawahi', 'kufikiria', 'kuuza', 'mtoto', 'kwa', 'mgeni', '.', 'Lakini', 'kwa', 'akina', 'mama', 'wengine', 'wajawazito', 'katika', 'umasikini', 'nchini', 'Kenya', ',', 'kuuza', 'mtoto', 'kwa', 'wafanyabiashara', 'imekuwa', 'wazo', 'la', 'mwisho', 'ili', 'kuweza', 'kuishi', '.', 'Wafanyabiashara', 'hao', 'hulipa', 'kiasi', 'kidogo', 'cha', 'kushangaza', '.', 'Sarah', 'alikuwa', 'na', 'umri', 'wa', 'miaka', '17', 'wakati', 'alipopata', 'ujauzito', 'kwa', 'mtoto', 'wake', 'wa', 'pili', ',', 'bila', 'kuwa', 'na', 'namna', 'ya', 'kumsaidia', 'mtoto', 'huyo', ',', 'alisema', '.', 'Alimuuza', 'kwa', 'mwanamke', 'ambaye', 'alimpa', 'shilingi', '3,000', 'za', 'Kenya', '-', 'karibu', 'pauni', '20', '.', 'Alisema', 'anajua', 'wanawake', 'wengine', 'ambao', 'walikuwa', 'wamewauza', 'watoto', 'wachanga', 'kwa', 'pesa', 'kama', 'hiyo', '.', '``', 'Wasichana', 'wengi', 'huuza', 'watoto', 'wao', 'kwa', 'sababu', 'ya', 'changamoto', '.', 'Labda', 'amefukuzwa', 'nyumbani', 'na', 'mama', 'yake', 'na', 'hana', 'kitu', ',', 'au', 'alikuwa', 'bado', 'shuleni', 'wakati', 'alipopata', 'ujauzito', '.', 'hii', 'ni', 'shida', 'nyingi', 'kwa', 'msichana', 'ambaye', 'ana', 'miaka', '15', 'au', '16', '.', '``', 'Utakuta', 'wasichana', 'wanapoteza', 'watoto', 'wao', 'na', 'kila', 'kitu', 'wanachomiliki', 'kwa', 'sababu', 'hakuna', 'mtu', 'wa', 'kuwashika', 'mkono', '.', \"''\", 'Kenya', 'ina', 'moja', 'ya', 'viwango', 'vya', 'juu', 'zaidi', 'vya', 'mimba', 'zaa', 'utotoni', 'barani', 'Afrika', ',', 'na', 'wataalam', 'wa', 'afya', 'wanasema', 'hali', 'imekuwa', 'mbaya', 'wakati', 'wa', 'janga', 'la', 'virusi', 'vya', 'corona', ',', 'na', 'wanawake', 'wengine', 'wanasukumwa', 'kufanya', 'kazi', 'ya', 'ngono', 'ili', 'kuishi', 'na', 'wasichana', 'kupoteza', 'muundo', 'wa', 'mfumo', 'wa', 'shule', '.', '``', 'Nimesikia', 'hadithi', 'nyingi', 'za', 'wanawake', 'na', 'wasichana', 'katika', 'hali', 'hii', '.', 'Mabinti', 'huja', 'katika', 'miji', 'kutafuta', 'kazi', ',', 'kuingia', 'katika', 'mahusiano', ',', 'kushika', 'mimba', ',', 'na', 'kutelekezwa', 'na', 'baba', 'wa', 'mtoto', ',', \"''\", 'alisema', 'Prudence', 'Mutiso', ',', 'mwanasheria', 'wa', 'haki', 'za', 'binadamu', 'ambaye', 'ni', 'mtaalamu', 'wa', 'masuala', 'ya', 'ulinzi', 'wa', 'mtoto', 'na', 'haki', 'za', 'uzazi', '.', '``', 'Ikiwa', 'baba', 'hatalipa', ',', 'basi', 'wanawake', 'na', 'wasichana', 'hawa', 'wanapaswa', 'kutafuta', 'njia', 'zingine', 'za', 'kubadilisha', 'mapato', 'hayo', '.', 'Na', 'hiyo', 'ndiyo', 'inayowachochea', 'kwenda', 'kwa', 'kwa', 'wauzaji', 'hawa', 'wa', 'watoto', ',', 'ili', 'waweze', 'kupata', 'kipato', 'cha', 'kujikimu', 'na', 'labda', 'watoto', 'walio', 'nao', 'nyumbani', '.', 'Watu', 'hawazungumzii', 'hili', 'kwa', 'uwazi', ',', 'lakini', 'hili', 'lipo', '.', 'Adama', 'alificha', 'ujauzito', 'wake', 'kwa', 'muda', 'mrefu', 'kadiri', 'alivyoweza', ',', 'kwenye', 'eneo', 'la', 'ujenzi', ',', 'hadi', 'ilipofikia', 'hali', 'ya', 'kushindwa', 'kubeba', 'tena', 'mifuko', 'mizito', 'ya', 'saruji', 'au', 'kujificha', 'tumbo', 'lake', '.', 'Halafu', 'hakuwa', 'na', 'mapato', 'ya', 'kulipia', 'kodi', 'yake', '.', 'Kwa', 'miezi', 'mitatu', ',', 'mwenye', 'nyumba', 'alimpa', 'neema', ',', 'kisha', 'akamfukuza', '.', 'Katika', 'ujauzito', 'wa', 'miezi', 'minane', ',', 'Adama', 'alianza', 'kuvunja', 'nyumba', 'usiku', 'sana', 'ili', 'kulala', 'tu', 'na', 'kuondoka', 'mara', 'kunapokucha', 'asubihi', '.', 'Wakati', 'mwanamke', 'anajikuta', 'katika', 'nafasi', 'ya', 'Adama', 'nchini', 'Kenya', ',', 'sababu', 'kadhaa', 'zinaweza', 'kuwasukuma', 'mikononi', 'mwa', 'wafanyabiashara', '.', 'Utoaji', 'mimba', 'ni', 'haramu', 'isipokuwa', 'maisha', 'ya', 'mama', 'au', 'mtoto', 'yapo', 'hatarini', ',', 'ikiacha', 'njia', 'mbadala', 'tu', 'zisizokubalika', '.', 'Kuna', 'pia', 'ukosefu', 'mkubwa', 'wa', 'elimu', 'ya', 'ngono', 'na', 'afya', 'ya', 'uzazi', 'kwa', 'vijana', ',', 'haswa', 'vijijini', ',', 'na', 'vile', 'vile', 'ukosefu', 'wa', 'ufahamu', 'juu', 'ya', 'michakato', 'ya', 'kisheria', 'ya', 'kuasili', 'watoto', '.', '``', 'Wanawake', 'na', 'wasichana', 'walio', 'na', 'mimba', 'zisizohitajika', 'hawana', 'msaada', 'kutoka', 'kwa', 'serikali', ',', \"''\", 'alisema', 'Ibrahim', 'Ali', ',', 'mratibu', 'wa', 'Kenya', 'kwa', 'shirika', 'la', 'misaada', 'la', 'Afya', '.', '``', 'Wanawake', 'hawa', 'mara', 'nyingi', 'wamekuwa', 'wakiteswa', 'na', 'kunyanyapaliwa', ',', 'haswa', 'katika', 'maeneo', 'ya', 'vijijini', ',', 'na', 'huwa', 'wanakimbia', ',', 'na', 'hiyo', 'inawaweka', 'katika', 'mazingira', 'magumu', 'mijini', '.', \"''\", 'Alifikiria', 'utoaji', 'wa', 'mimba', ',', 'alisema', ',', 'lakini', 'hakukubaliana', 'na', 'wazo', 'hilo', 'na', 'imani', 'yake', '.', 'Kisha', 'akafikiria', 'kujitoa', 'uhai', '.', '``', 'Nilikuwa', 'na', 'msongo', 'wa', 'mawazo', ',', 'nilianza', 'kufikiria', 'ni', 'jinsi', 'gani', 'ningejiua', 'kwa', 'kuzama', 'kwenye', 'maji', ',', 'kwa', 'hivyo', 'watu', 'wangenisahau', 'tu', '.', \"''\", 'Lakini', 'wiki', 'chache', 'kabla', 'ya', 'kujifungua', ',', 'mtu', 'mmoja', 'alimtambulisha', 'Adama', 'kwa', 'mwanamke', 'aliyevaa', 'vizuri', 'anayeitwa', 'Mary', 'Auma', ',', 'ambaye', 'alimwambia', 'asitoe', 'mimba', 'au', 'kuukatisha', 'uhai', 'wake', '.', 'Mary', 'Auma', 'anaendesha', 'kliniki', 'ya', 'barabarani', 'kinyume', 'cha', 'sheria', 'katika', 'makazi', 'duni', 'ya', 'Nairobi', 'Kayole', '.', 'Alimpatia', 'Adamu', 'shilingi', '100', 'na', 'kumwambia', 'aende', 'kliniki', 'siku', 'iliyofuata', '.', 'Kliniki', 'ya', 'muda', 'mfupi', 'ya', 'Mary', 'Auma', 'sio', 'kliniki', ',', 'ni', 'vyumba', 'viwili', 'vilivyofichwa', 'nyuma', 'ya', 'duka', 'la', 'mbele', 'kwenye', 'barabara', 'ya', 'Kayole', '.', 'Ndani', 'kuna', 'rafu', 'chache', 'tupu', 'zilizotawanyika', 'na', 'bidhaa', 'za', 'zamani', 'za', 'dawa', ',', 'nyuma', 'yake', 'kuna', 'vyumba', 'vya', 'wanawake', 'kujifungulia', '.', 'Auma', 'anakaa', 'ndani', 'na', 'msaidizi', 'wake', ',', 'akinunua', 'na', 'kuuza', 'watoto', 'kwa', 'faida', ',', 'bila', 'usumbufu', 'wa', 'kufuatiliwa', 'kuhusu', 'ni', 'nani', 'ananunua', 'au', 'nini', '.', 'Alimwambia', 'Adama', 'kuwa', 'wanunuzi', 'wake', 'walikuwa', 'wazazi', 'wenye', 'upendo', 'ambao', 'hawawezi', 'kushika', 'mimba', ',', 'ambao', 'watamtunza', 'mtoto', 'anayetafutwa', 'sana', '.', 'Auma', 'huwaambia', 'akina', 'mama', 'watarajiwa', 'kuwa', 'yeye', 'ni', 'muuguzi', 'wa', 'zamani', ',', 'lakini', 'hana', 'vifaa', 'vya', 'matibabu', ',', 'ustadi', ',', 'au', 'usafi', 'wa', 'mazingira', 'kushughulikia', 'shida', 'kubwa', 'wakati', 'wa', 'kujifungua', '.', '``', 'Mahali', 'pake', 'palikuwa', 'pachafu', ',', 'alitumia', 'mkebe', 'mdogo', 'kwa', 'ajili', 'ya', 'damu', ',', 'hakuwa', 'na', 'beseni', ',', 'na', 'kitanda', 'hakikuwa', 'kisafi', ',', \"''\", 'Adama', 'alikumbuka', '.', '``', 'Lakini', 'nilikuwa', 'nimekata', 'tamaa', ',', 'sikuwa', 'na', 'la', 'kufanya', '.', \"''\", 'Wakati', 'Adama', 'alipofika', 'kliniki', ',', 'Mary', 'Auma', 'alimpa', 'vidonge', 'viwili', 'bila', 'onyo', ',', 'ili', 'kuongeza', 'uchungu', ',', 'Adama', 'alisema', '.', 'Auma', 'alikuwa', 'na', 'mnunuzi', 'aliyepangwa', 'na', 'alikuwa', 'na', 'shauku', 'ya', 'kuuza', '.', 'Lakini', 'wakati', 'Adama', 'alijifungua', ',', 'mtoto', 'wa', 'kiume', 'alipata', 'shida', 'ya', 'kifua', 'na', 'alihitaji', 'utunzaji', 'wa', 'haraka', ',', 'na', 'Auma', 'akamwambia', 'Adama', 'ampeleke', 'hospitalini', '.', 'Baada', 'ya', 'wiki', 'moja', 'hospitalini', ',', 'Adama', 'aliruhusiwa', 'na', 'mtoto', 'wa', 'kiume', 'mwenye', 'afya', '.', 'Mmiliki', 'wa', 'nyumba', 'ambaye', 'alikuwa', 'amemfukuza', 'wakati', 'alikuwa', 'mjamzito', 'alimruhusu', 'kurudi', 'na', 'alimnyonyesha', 'mtoto', '.', 'Muda', 'mfupi', 'baada', 'ya', 'kumkimbilia', 'Mary', 'Auma', 'tena', ',', 'alisema', ',', 'na', 'Auma', 'akampa', 'shilingi', 'nyingine', '100', 'na', 'kumwambia', 'aende', 'kliniki', 'siku', 'inayofuata', '.', 'Mary', 'Auma', 'hakuwa', 'akimpa', 'Adama', 'shilingi', '45,000', '-', 'Pauni', '300', '-', '.', 'Alimpa', 'Adama', '10,000', '-', 'karibu', 'pauni', '70', '.', 'Lakini', 'Mary', 'Auma', 'hakujua', 'mnunuzi', 'ambaye', 'alikuwa', 'amejipanga', 'alikuwa', 'mwandishi', 'wa', 'siri', 'anayefanya', 'kazi', 'na', 'BBC', ',', 'kama', 'sehemu', 'ya', 'uchunguzi', 'wa', 'mwaka', 'mzima', 'kuhusu', 'ulanguzi', 'wa', 'watoto', '.', 'Wakati', 'Adama', 'alipokwenda', 'kliniki', 'siku', 'iliyofuata', ',', 'alikaa', 'kwenye', 'chumba', 'cha', 'nyuma', ',', 'akimbembeleza', 'mtoto', 'wake', 'mchanga', 'mikononi', 'mwake', '.', 'Katika', 'mazungumzo', 'ya', \"kunong'ona\", ',', 'anayedhaniwa', 'kuwa', 'alimwambia', 'alikuwa', 'na', 'chaguzi', 'zingine', ',', 'na', 'Adama', 'alibadili', 'mawazo', '.', 'Aliondoka', 'kliniki', 'siku', 'hiyo', 'akiwa', 'amemshikilia', 'mtoto', 'wake', ',', 'na', 'kumpeleka', 'kwenye', 'nyumba', 'ya', 'kutunza', 'watoto', 'inayoendeshwa', 'na', 'serikali', ',', 'ambapo', 'angetunzwa', 'hadi', 'hapo', 'mpango', 'w', 'kuasili', 'watoto', 'utakapotimia', '.', 'BBC', 'ilimtaka', 'Mary', 'Auma', 'kujibu', 'kuhusu', 'madai', 'hayo', 'katika', 'simulizi', 'hii', ',', 'lakini', 'alikataa', '.', 'Adama', 'ana', 'miaka', '29', 'sasa', ',', 'na', 'anaishi', 'tena', 'katika', 'kijiji', 'alicholelewa', '.', 'Bado', 'hulala', 'na', 'njaa', 'wakati', 'mwingine', '.', 'Maisha', 'bado', 'ni', 'magumu', '.', 'Anapata', 'kazi', 'mara', 'kwa', 'mara', 'katika', 'hoteli', 'ndogo', 'ya', 'karibu', 'lakini', 'haitoshi', '.', 'Anajitahidi', 'kutokunywa', '.', 'Ana', 'ndoto', 'ya', 'kufungua', 'duka', 'lake', 'la', 'viatu', 'kijijini', 'na', 'kupeleka', 'viatu', 'kutoka', 'Nairobi', ',', 'lakini', 'ni', 'ndoto', 'ya', 'mbali', '.', 'Hawana', 'mawasiliano', 'na', 'mtoto', 'wake', ',', 'lakini', 'hajuti', '.']\n",
      "\n",
      " Number of Words:  1563\n"
     ]
    }
   ],
   "source": [
    "file=\"20dec14_3.txt\"\n",
    "\n",
    "# calling the function and storing the contents in a text variable \n",
    "text = get_document(\"https://www.bbc.com/swahili/habari-55302207\")\n",
    "\n",
    "# calling the store_ document function \n",
    "store_document(doc=text,name=file)\n",
    "\n",
    "#add the words in this file to the total_corpus_words, to keep count of the number of words in the corpus\n",
    "total_corpus_words+=total_words(file)"
   ]
  },
  {
   "cell_type": "code",
   "execution_count": 228,
   "metadata": {},
   "outputs": [
    {
     "data": {
      "text/plain": [
       "381506"
      ]
     },
     "execution_count": 228,
     "metadata": {},
     "output_type": "execute_result"
    }
   ],
   "source": [
    "total_corpus_words"
   ]
  },
  {
   "cell_type": "code",
   "execution_count": 232,
   "metadata": {},
   "outputs": [
    {
     "name": "stdout",
     "output_type": "stream",
     "text": [
      "['Je', 'siasa', 'za', 'upinzani', 'zimebadilika', 'pwani', 'ya', 'Kenya', '?', 'Kushindwa', 'kwa', 'mgombea', 'wa', 'chama', 'cha', 'upinzani', 'cha', 'Orange', 'Democratic', '(', 'ODM', ')', 'katika', 'uchaguzi', 'mdogo', 'wa', 'eneo', 'bunge', 'la', 'Msambweni', ',', 'pwani', 'ya', 'Kenya', ',', 'kumeleta', 'maswali', 'mengi', 'na', 'kuzua', 'mihemko', 'katika', 'jukwaa', 'la', 'kisiasa', 'nchini', 'Kenya', '.', 'Mwaniaji', 'wa', 'chama', 'cha', 'ODM', 'Omar', 'Boga', 'alibwagwa', 'na', 'mgombea', 'huru', 'Feisal', 'Badder', 'ambaye', 'alipata', 'kura', '15,251', 'huku', 'Omar', 'Boga', 'wa', 'chama', 'cha', 'ODM', 'akipata', 'kura', '10,444', 'kati', 'ya', 'wapiga', 'kura', '27,313', 'ambao', 'walishiriki', 'kwenye', 'uchaguzi', 'huo', 'wa', 'jana', '.', 'Ushindi', 'wa', 'Feisal', 'Badder', 'katika', 'eneo', 'bunge', 'la', 'Msambweni', 'ni', 'jambo', 'linaloonekana', 'kuwakera', 'wengi', 'katika', 'chama', 'tawala', 'cha', 'Jubilee', 'na', 'washirika', 'katika', 'uhusiano', 'baina', 'ya', 'kiongozi', 'wa', 'upizani', 'nchini', 'Kenya', 'Raila', 'Odinga', 'na', 'Rais', 'Uhuru', 'Kenyatta', '.', 'Itakumbukwa', 'kwamba', 'Naibu', 'Rais', 'William', 'Ruto', 'alimuunga', 'mkono', 'mgombeaji', 'huru', ',', 'Feisal', 'Bader', ',', 'katika', 'uchaguzi', 'huu', 'mdogo', ',', 'na', 'kwa', 'namna', 'hiyo', 'anaweza', 'kusemakana', 'kwamba', 'amewabwaga', 'Raila', 'Odinga', 'na', 'Rais', 'Kenyatta', 'kwa', 'pamoja', 'kuhusiana', 'na', 'uchaguzi', 'huu', 'mdogo', '.', 'Masuala', 'kwenye', 'uchaguzi', 'mdogo', 'Licha', 'ya', 'uchaguzi', 'huo', 'kuvutia', 'idadi', 'ndogo', 'ya', 'wapiga', 'kura', 'na', 'madai', 'ya', 'hongo', 'na', 'mirengo', 'ya', 'Dkt', 'Ruto', 'na', 'Bw', 'Odinga', 'kushtumiana', ',', 'ushindi', 'wa', 'Mbunge', 'mpya', 'wa', 'Msambweni', ',', 'Feisal', ',', 'una', 'athari', 'zake', 'katika', 'siasa', 'za', 'pwani', 'na', 'siasa', 'za', 'mrithi', 'wa', 'Urais', 'kwenye', 'siasa', 'za', 'uchaguzi', 'wa', 'mwaka', 'wa', '2022', '.', 'Pamoja', 'na', 'haya', ',', 'ni', 'bayana', 'kwamba', 'Bw', '.', 'Feisal', 'na', 'washirika', 'wake', 'waliweza', 'kuwatia', 'hamasa', 'wapiga', 'kura', 'wake', 'na', 'wale', 'wote', 'waliomuunga', 'mkono', 'kujitokeza', 'kwa', 'wingi', 'katika', 'maeneo', 'yao', 'kupiga', 'kura', 'na', 'kumwezesha', 'kushindwa', 'kwa', 'kishindo', 'ikilinganishwa', 'na', 'mpinzani', 'wake', 'wa', 'chama', 'cha', 'ODM', ',', 'Omar', 'Boga', '.', 'Kwa', 'mfano', ',', 'kwenye', 'maeneo', 'ya', 'Ramisi', 'na', 'Kinondo', 'ambako', 'ilikuwa', 'ngome', 'ya', 'Feisal', ',', 'waliojitokeza', 'walikuwa', 'asilimia', '56', 'na', '49', 'huku', 'wapiga', 'kura', 'kwenye', 'ngome', 'za', 'mgombea', 'Omar', 'Boga-Ukunda', 'na', 'Gambato-', 'wakijitokeza', 'kwa', 'asilimia', '31', 'na', '34', '.', 'Ni', 'muhimu', 'pia', 'kukumbuka', 'kwamba', 'uchaguzi', 'huu', 'mdogo', 'ulikuwa', 'na', 'sifa', 'za', 'kupimana', 'nguvu', 'baina', 'ya', 'Gavana', 'wa', 'Mombasa', 'ambaye', 'pia', 'ni', 'naibu', 'wa', 'kinara', 'cha', 'ODM', ',', 'Hassan', 'Joho', ',', 'wakimenyana', 'na', 'mwenzake', 'wa', 'Kwale', ',', 'Salim', 'Mvurya', ',', 'chini', 'kwa', 'chini', '.', 'Ingawa', 'wawili', 'hawa', 'walichaguliwa', 'kwa', 'chama', 'cha', 'ODM', ',', 'ukweli', 'kwamba', 'siasa', 'zao', 'haziambatani', 'na', 'kwamba', 'wote', 'wako', 'kwenye', 'awamu', 'ya', 'mwisho', 'kama', 'magavana', ',', 'ubabe', 'wa', 'siasa', 'za', 'pwani', 'uliwagawa', 'kuwili', 'na', 'kwamba', 'eneo', 'hili', 'la', 'Msambweni', 'liko', 'kwenye', 'Kaunti', 'ya', 'Kwale', 'ambayo', 'inasimamiwa', 'na', 'Gavana', 'Mvurya', ',', 'ilimbidi', 'kuchukua', 'hatua', 'za', 'kuhakikisha', 'sauti', 'yake', 'haizamishwi', 'na', 'gavana', 'Joho', 'wa', 'Mombasa', '.', 'Athari', 'za', 'kushindwa', 'kwa', 'ODM', 'Athari', 'za', 'kuchaguliwa', 'kwa', 'Feisal', 'Bader', 'ambaye', 'aliungwa', 'mkono', 'na', 'Bw', '.', 'Ruto', 'na', 'hivyo', ',', 'kwa', 'mrengo', 'wa', 'kisiasa', 'unaoongozwa', 'na', 'Naibu', 'Rais', 'William', 'Ruto', 'na', 'kikundi', 'kinachojulikana', 'kama', 'Tanga', 'Tanga', ',', 'msukumo', 'wao', 'unaonekana', 'kuzaa', 'matunda', 'na', 'kuwa', 'na', 'ushawishi', 'hata', 'kwenye', 'maeneo', 'ambayo', 'hayakutarajiwa', 'kama', 'pwani', 'ya', 'Kenya', 'wakati', 'ambapo', 'kuna', 'kinyangayiro', 'kikali', 'na', 'mchuano', 'kati', 'ya', 'upande', 'unaomuunga', 'mkono', 'Rais', 'Kenyatta', 'na', 'mshirika', 'wake', 'Raila', 'Odinga', 'na', 'upande', 'mwingine', ',', 'naibu', 'wake', 'William', 'Ruto', 'kunatoa', 'ishara', 'tosha', 'ya', 'kisiasa', '.', 'Matokeo', 'haya', 'yanatia', 'doa', 'kwenye', 'sifa', 'za', 'chama', 'cha', 'upizani', 'cha', 'ODM', 'kinachoonekana', 'kujipata', 'pabaya', 'sana', 'kuhusiana', 'na', 'kushindwa', 'kwake', 'kunyakua', 'kiti', 'hiki', 'maana', 'kiti', 'chenyewe', 'kilikuwa', 'kinashikiliwa', 'na', 'marehemu', 'mbunge', 'Suleiman', 'Dori', 'ambaye', 'alikuwa', 'amechaguliwa', 'kwa', 'tiketi', 'ya', 'chama', 'hicho', 'mara', 'mbili-2013', 'na', '2017', '.', 'Kupoteza', 'kiti', 'hiki', 'kwa', 'Feisal', 'Bader', 'kuna', 'maana', 'kwamba', 'umaarufu', 'wa', 'chama', 'cha', 'ODM', 'hasa', 'kwenye', 'maeneo', 'ya', 'pwani', 'mwa', 'Kenya', 'ambao', 'ndio', 'umekuwa', 'ukionekana', 'kama', 'ngome', 'ya', 'chama', 'hiki', ',', 'unafifia', '.', 'Pia', ',', 'kile', 'kitakachowafanya', 'vinara', 'wa', 'chama', 'cha', 'upizani', 'cha', 'ODM', 'kuendelea', 'kukuna', 'kichwa', 'ni', 'kujiuliza', 'ni', 'kwa', 'ninibaadhi', 'ya', 'wanachama', 'wake-wabunge', 'ambao', 'wamechaguliwa', 'kwa', 'chama', 'hicho', 'hawakuwa', 'wakikiunga', 'mkono', 'chama', 'hicho', 'kwenye', 'kampeini', 'za', 'kiti', 'hicho', '.', 'Itakumbukwa', 'kwamba', 'Gavana', 'wa', 'Kwale', 'Salim', 'Mvurya', 'ambaye', 'amechaguliwa', 'kwa', 'chama', 'cha', 'ODM', 'alikuwa', 'akimpigia', 'upatu', 'Bw', '.', 'Feisal', 'huku', 'mbunge', 'wa', 'Malindi', 'Aisha', 'Jumwa', 'aliongoza', 'kampeini', 'kali', 'sana', 'dhidi', 'ya', 'mgombea', 'wa', 'ODM', ',', 'Omar', 'Boga', '.', 'Sifa', 'za', 'Ruto', 'kitaifa', 'Kwa', 'maana', 'hiyo', ',', 'ushindi', 'wa', 'Feisal', 'Bader', 'una', 'maana', 'kwamba', 'mikutano', 'ambayo', 'amekuwa', 'akifanya', 'na', 'kuhudhuria', 'mara', 'kwa', 'mara', 'naibu', 'Rais', 'William', 'Ruto', 'kwenye', 'maeneo', 'ya', 'pwani', 'ikiwemo', 'Kwale', 'imemsaidia', 'pakubwa', 'kujiuza', 'na', 'kupata', 'uungwaji', 'mkono', 'na', 'wakaazi', 'wa', 'Msambweni', 'na', 'pwani', 'kwa', 'jumla', '.', 'Jambo', 'hili', 'linamweka', 'kifua', 'mbele', 'si', 'tu', 'katika', 'maeneo', 'ya', 'pwani', 'bali', 'hali', 'hii', 'itampa', 'ruhusa', 'na', 'nguvu', 'zaidi', 'ya', 'kisiasa', 'kitaifa', '.', 'Suala', 'la', 'lingine', 'ambalo', 'huenda', 'likaathiriwa', 'kimtazamo', 'ikitegemea', 'jinsi', 'wanasiasa', 'watakavyolichapa', 'ni', 'suala', 'ripoti', 'ya', 'jopo', 'la', 'maridhiano', '(', 'BBI', ')', 'ambayo', 'wakuu', 'wake', 'ni', 'Rais', 'Uhuru', 'Kenyatta', 'na', 'kiongozi', 'wa', 'upinzani', 'Raila', 'Odinga', 'na', 'uhusiano', 'kati', 'ya', 'wawili', 'hao', 'ambao', 'ulikuja', 'kujulikana', 'kama', 'handisheki', '.', 'Kwa', 'wale', 'wamekuwa', 'na', \"minong'ono\", 'kuhusiana', 'na', 'ripoti', 'yenyewe', 'na', 'masuala', 'yaliyojumulishwa', 'pamoja', 'na', 'kuwepo', 'au', 'kutokuwepo', 'kwa', 'kura', 'ya', 'maamuzi', 'mwaka', 'ujao', ',', 'matokeo', 'ya', 'uchaguzi', 'wa', 'Msambweni', 'yatawapa', 'ujasiri', 'zaidi', 'kuipinga', 'ripoti', 'hiyo', 'na', 'hivyo', 'kuendelea', 'kuwashawishi', 'wananchi', 'kwa', 'jumla', 'kuhusu', 'ripoti', 'na', 'kura', 'ya', 'maamuzi', 'mwaka', 'ujao', '.', 'Pia', ',', 'ushindi', 'wa', 'mgombea', 'wa', 'kujitegemea', 'ambaye', 'alikuwa', 'anaungwa', 'mkono', 'na', 'Bw', '.', 'Ruto', 'kunaweza', 'kueleweka', 'zaidi', 'kisiasa', 'kama', 'njia', 'ya', 'kueleza', 'kwamba', 'wananchi', 'ama', 'wapiga', 'kura', 'walikuwa', 'wanakubaliana', 'na', 'msimamo', 'wa', 'Dkt', 'Ruto', 'kwamba', 'kuna', 'haja', 'ya', 'kuwa', 'na', 'maelewano', 'kwenye', 'mchakato', 'wa', 'ripoti', 'ya', 'BBI', 'na', 'kura', 'ya', 'maamuzi', 'ili', 'kuondoa', 'ushindani', 'unaoweza', 'kutokea', 'iwapo', 'kuna', 'kura', 'ya', '``', 'ndio', \"''\", 'au', '``', 'hapana', \"''\", '.', 'Sauti', 'hii', 'uenda', 'ikapata', 'nguvu', 'zaidi', 'katika', 'matamshi', 'ya', 'kisiasa', 'nchini', 'Kenya', '.', 'Kile', 'kinachojitokeza', 'pia', 'ni', 'kwamba', 'uchaguzi', 'huu', 'mdogo', 'ulikuwa', 'wa', 'kihisoria', 'kwa', 'sababu', 'umefanyika', 'katika', 'mazingira', 'magumu', 'ambapo', 'janga', 'la', 'COVID-19', 'linaendelea', 'kukumba', 'taifa', 'kwani', 'hapo', 'awali', 'tume', 'huru', 'ya', 'uchaguzi', 'ilikuwa', 'imehairisha', 'baadhi', 'ya', 'chaguzi', 'ndogo', 'kwa', 'sababu', 'za', 'ugonjwa', 'huo', '.', 'La', 'mno', 'kuhusiana', 'na', 'uchaguzi', 'wa', 'Msambweni', 'ni', 'kwamba', 'uchaguzi', 'wa', 'mwaka', 'wa', '2022', 'utahusu', 'ushirikiano', 'wa', 'wanasiasa', 'wa', 'maeneo', 'mbali', 'mbali', 'ili', 'kunyakua', 'ushindi', 'kama', 'ilivyoonekana', 'katika', 'uchaguzi', 'mdogo', 'wa', 'Msambweni', 'ambapo', 'wanasiasa', 'kutoka', 'maeneo', 'mbali', 'mbali', 'waliungana', 'na', 'wanasiasa', 'wa', 'mashinani', 'kupigia', 'debe', 'wawaniaji', 'wao', '.', 'Muhimu', 'ni', 'kwamba', 'kutakuwepo', 'na', 'miungano', 'ya', 'wanasiasa', 'na', 'vyama', 'ili', 'kujizolea', 'ushindi', '.', 'Linalobainika', 'kwenye', 'vuta', 'nikuvute', 'kwenye', 'uchaguzi', 'mdogo', 'wa', 'eneo', 'bunge', 'la', 'Msambweni', 'ni', 'kwamba', 'wanasiasa', 'nchini', 'Kenya', 'wanajitayarisha', 'kuhusiana', 'na', 'siasa', 'za', 'uchaguzi', 'wa', 'mwaka', 'wa', '2022', 'na', 'kwamba', 'kunapopatika', 'mwanya', 'wa', 'kujaribu', 'mikakati', 'kama', 'ilivyoonekana', 'kwenye', 'eneo', 'bunge', 'la', 'Msambweni', ',', 'wanasiasa', 'wa', 'Kenya', 'wanajipigia', 'debe', 'na', 'kujitafutia', 'umaarufu', 'kuelekea', 'uchaguzi', 'wa', 'mwaka', 'wa', '2022', '.']\n",
      "\n",
      " Number of Words:  1077\n"
     ]
    }
   ],
   "source": [
    "file=\"20dec17.txt\"\n",
    "\n",
    "# calling the function and storing the contents in a text variable \n",
    "text = get_document(\"https://www.bbc.com/swahili/habari-55344609\")\n",
    "\n",
    "# calling the store_ document function \n",
    "store_document(doc=text,name=file)\n",
    "\n",
    "#add the words in this file to the total_corpus_words, to keep count of the number of words in the corpus\n",
    "total_corpus_words+=total_words(file)"
   ]
  },
  {
   "cell_type": "code",
   "execution_count": 233,
   "metadata": {},
   "outputs": [
    {
     "data": {
      "text/plain": [
       "382583"
      ]
     },
     "execution_count": 233,
     "metadata": {},
     "output_type": "execute_result"
    }
   ],
   "source": [
    "total_corpus_words"
   ]
  },
  {
   "cell_type": "code",
   "execution_count": 234,
   "metadata": {},
   "outputs": [
    {
     "name": "stdout",
     "output_type": "stream",
     "text": [
      "['Gavana', 'wa', 'Sonko', 'wa', 'Nairobi', 'aondolewa', 'madarakani', 'Gavana', 'wa', 'Nairobi', 'aliwahi', 'kukamatwa', 'kwa', 'tuhuma', 'za', 'utumizi', 'mbaya', 'wa', 'mamlaka', 'Bunge', 'la', 'Seneti', 'nchini', 'Kenya', 'limepiga', 'kura', 'kumuondoa', 'Mike', 'Mubuvi', 'Sonko', 'kama', 'gavana', 'wa', 'Nairobi', ',', 'katika', 'hatua', 'ambayo', 'imekomesha', 'miaka', 'mitatu', 'ya', 'utawala', 'wake', 'uligubikwa', 'na', 'utata', '.', 'Bw', '.', 'Sonko', 'anatuhumiwa', 'kwa', 'ukiukaji', 'wa', 'katiba', ',', 'utumizi', 'mbaya', 'wa', 'mamlakaa', ',', 'utovu', 'wa', 'nidhamu', ',', 'na', 'uhalifu', 'chini', 'ya', 'sheria', '.', 'Maseneta', '27', 'walipiga', 'kura', 'kuunga', 'mkono', 'kuondolewa', 'ofisini', 'kwa', 'Bw', 'Sonko', 'kwa', 'kudumisha', 'mashtaka', 'yote', 'manne', 'yaliyowasilishwa', 'na', 'Bunge', 'la', 'Kaunti', 'ya', 'Nairobi', ',', 'ambalo', 'lilipiga', 'kura', 'ya', 'kutokuwa', 'na', 'imani', 'naye', 'mnamo', 'Desemba', '3', '.', 'Kuondolewa', 'madarakani', 'kwa', 'Bw', '.', 'Sonko', 'kumetoa', 'nafasi', 'kwa', 'Spika', 'wa', 'Bunge', 'la', 'Kaunti', 'ya', 'Nairobi', 'Ben', 'Mutura', 'kushikilia', 'wadhifa', 'huo', 'hadi', 'uchaguzi', 'wa', 'gavana', 'na', 'naibu', 'wake', 'utakapofanywa', 'katika', 'kipindi', 'cha', 'siku', '60', 'zijazo', '.', 'Sonko', 'ni', 'nani', '?', 'Gavana', 'aliyeondolewa', 'sio', 'mgeni', 'katika', 'masuala', 'yenye', 'utata', '.', 'Maafisa', 'wa', 'magereza', 'nchini', 'Kenya', 'hivi', 'karibuni', 'walimshtaki', 'kwa', 'kutoroka', 'kutoka', 'jela', 'miaka', '20', 'iliyopita', '.', 'Bwana', 'Sonko', 'amekiri', 'hadharani', 'kutoroka', 'jela', 'wakati', 'wa', 'mahojiano', 'ya', 'moja', 'kwa', 'moja', 'ya', 'runinga', '.', 'Chanzo', 'cha', 'picha', ',', 'Getty', 'Images', 'Maelezo', 'ya', 'picha', ',', 'Mike', 'Sonko', 'ni', 'maarufu', 'kwa', 'vijana', 'Wakati', 'mmoja', 'alijumuisha', 'chuma', 'za', 'pombe', 'aina', 'ya', 'Hennessy', 'kama', 'sehemu', 'ya', 'kifurushi', 'cha', 'kujitakasa', 'cha', 'Covid', '19', 'sanitation', 'kilichosambaziwa', 'wakazi', 'wa', 'Nairobi', 'akidai', '``', 'kiwango', 'cha', 'pombe', 'katika', 'kinywaji', 'hicho', 'kinaweza', 'kuzuia', 'virusi', 'vya', 'corona', \"'\", 'Mnamo', 'Desemba', 'iliyopita', ',', 'alikamatwa', 'kwa', 'tuhuma', 'za', 'ufisadi', '.', 'Bw', '.', 'Sonko', 'alichaguliwa', 'kuwa', 'Gavana', 'wa', 'Kaunti', 'ya', 'Nairobi', 'mwaka', '2017', ',', 'kupitia', 'chama', 'cha', 'Jubilee', 'cha', 'Rais', 'Uhuru', 'Lakini', 'wawili', 'hao', 'wametofautiana', 'kufikia', 'hatua', 'ya', 'Rais', 'Kenyatta', 'kushinikiza', 'mageuzi', 'yaliyochangia', 'majukumu', 'makuu', 'ya', 'Kaunti', 'ya', 'Nairobi', 'kuhamishiwa', 'serukalai', 'ya', 'kitaifa', '.', 'Rais', 'Kenyatta', 'pia', 'alimteua', 'jenerali', 'wa', 'kijeshi', 'kuendesha', 'shughuli', 'za', 'kaunti', ',', 'hali', 'iliyomfanya', 'Bw', '.', 'Sonko', 'kuwa', 'gavana', \"'asiye\", 'na', 'mamlaka', \"'\", 'Sonko', ',', 'ambaye', 'alishiriki', 'hafla', 'ya', 'kukabidhi', 'serikali', 'kuu', 'baadhi', 'ya', 'majukumu', 'ya', 'kaunti', 'kwa', 'serikali', 'baadaye', 'alidai', 'kwamba', 'alikuwa', 'mlevi', 'aliposaini', 'nyaraka', 'za', 'kuidhinisha', 'hatua', 'hiyo', '.', 'Safari', 'yake', 'ya', 'siasa', 'Sonko', 'alijipatia', 'umaarufu', 'kutokana', 'na', 'mtindo', 'wake', 'usio', 'wa', 'kawaida', 'alipokuwa', 'mbunge', 'wa', 'eneo', 'la', 'Makadara', ',', 'Nairobi', '.', 'Anafahamika', 'kwa', 'kuvalia', 'vito', ',', 'mikufu', 'na', 'bangili', 'za', 'thamani', '.', 'Alipokuwa', 'mbunge', ',', 'alikuwa', 'akiandamana', \"'kutetea\", 'wanyonge', \"'\", 'na', 'wachuuzi', 'walipokuwa', 'wanafurushwa', 'kutoka', 'maeneo', 'yao', 'ya', 'kazi', 'na', 'serikali', 'ya', 'jiji', '.', 'Chanzo', 'cha', 'picha', ',', 'MIKE', 'SONKO/TWITTER', 'Maelezo', 'ya', 'picha', ',', 'Gavana', 'Sonko', 'akihutubu', 'wakati', 'wa', 'sherehe', 'ya', 'kupanda', 'miti', '12', 'Mei', 'eneo', 'shule', 'ya', 'Moi', 'Forces', ',', 'Mathare', 'jijini', 'Nairobi', 'Atakumbukwa', 'pia', 'kwa', 'kuongoza', 'waandamanaji', 'Mahakama', 'ya', 'Kimataifa', 'ya', 'Uhalifu', 'wa', 'Jinai', '(', 'ICC', ')', 'The', 'Hague', ',', 'Uholanzi', 'kulalamikia', 'kesi', 'dhidi', 'ya', 'Rais', 'Uhuru', 'Kenyatta', 'ambayo', 'baadaye', 'ilisitishwa', '.', 'Alipokuwa', 'Seneta', ',', 'alianzisha', 'kundi', 'kwa', 'jina', 'Sonko', 'Rescue', 'Team', 'ambalo', 'lilikuwa', 'likitoa', 'huduma', 'kama', 'vile', 'maji', ',', 'matibabu', 'na', 'misaada', 'wakati', 'wa', 'mazishi', '.', 'Wakati', 'mmoja', 'alipoitwa', 'kusaidia', 'familia', 'zilizokuwa', 'zimeathiriwa', 'na', 'bomoa', 'bomoa', 'jijini', 'mwaka', '2014', ',', 'alimpigia', 'simu', 'Rais', 'Kenyatta', 'na', 'kumuweka', 'kwenye', 'kipaza', 'sauti', '.', 'Rais', 'alitoa', 'agizo', 'ubomoaji', 'usitishwe', '.']\n",
      "\n",
      " Number of Words:  517\n"
     ]
    }
   ],
   "source": [
    "file=\"20dec18_1.txt\"\n",
    "\n",
    "# calling the function and storing the contents in a text variable \n",
    "text = get_document(\"https://www.bbc.com/swahili/habari-55359352\")\n",
    "\n",
    "# calling the store_ document function \n",
    "store_document(doc=text,name=file)\n",
    "\n",
    "#add the words in this file to the total_corpus_words, to keep count of the number of words in the corpus\n",
    "total_corpus_words+=total_words(file)"
   ]
  },
  {
   "cell_type": "code",
   "execution_count": 235,
   "metadata": {},
   "outputs": [
    {
     "data": {
      "text/plain": [
       "383100"
      ]
     },
     "execution_count": 235,
     "metadata": {},
     "output_type": "execute_result"
    }
   ],
   "source": [
    "total_corpus_words"
   ]
  },
  {
   "cell_type": "code",
   "execution_count": 236,
   "metadata": {},
   "outputs": [
    {
     "name": "stdout",
     "output_type": "stream",
     "text": [
      "['Mike', 'Gidion', 'Kioko', 'Mbuvi', 'Sonko', ',', 'Gavana', 'wa', \"'bling\", 'bling', \"'\", 'Gavana', 'Sonko', 'alipenda', 'kuvaa', 'mavazi', 'ya', 'wanamitindo', 'wa', 'Marekani', 'kama', 'vile', 'Gucci', 'na', 'Louis', 'Vuitton', '.', 'Mike', 'Gidion', 'Kioko', 'Mbuvi', 'Sonko', ',', 'kama', 'alivyojulikana', 'na', 'wengi', ',', 'hakuwa', 'Gavana', 'wako', 'wa', 'kawaida', '.', 'Tofauti', 'na', 'wanasiasa', 'wengi', 'wanaojulikana', 'kwa', 'kuvaa', 'suti', 'za', 'bei', 'ghali', ',', 'Sonko', ',', 'mwenye', 'umri', 'wa', 'miaka', '45', ',', 'alikuwa', 'na', 'ujana', 'ndani', 'yake', '.', 'Bunge', 'la', 'Seneti', 'nchini', 'Kenya', 'limepiga', 'kura', 'kumuondoa', 'Mike', 'Mubuvi', 'Sonko', 'kama', 'gavana', 'wa', 'Nairobi', ',', 'katika', 'hatua', 'ambayo', 'imekomesha', 'miaka', 'mitatu', 'ya', 'utawala', 'wake', 'uliogubikwa', 'na', 'utata', '.', 'Bw', '.', 'Sonko', 'anatuhumiwa', 'kwa', 'uvunjaji', 'wa', 'katiba', ',', 'matumizi', 'mbaya', 'wa', 'mamlaka', ',', 'utovu', 'wa', 'nidhamu', ',', 'na', 'uhalifu', '.', 'Mara', 'kwa', 'mara', 'Sonko', 'alionekana', 'katika', 'maeneo', 'ya', 'umma', 'akiwa', 'amevalia', 'mavazi', 'ya', 'wanamitindo', 'wa', 'Marekani', 'kama', 'vile', 'Gucci', 'na', 'Louis', 'Vuitton', '.', 'Chanzo', 'cha', 'picha', ',', 'Facebook/MikeSonko', '.', 'Maelezo', 'ya', 'picha', ',', 'Sonko', 'ni', 'maarufu', 'sana', 'kwa', 'kuvaa', 'vito', 'vya', 'thamani', 'Anajulikana', 'sana', 'kwa', 'kuvaa', 'vito', 'vya', 'thamani', ';', 'pete', 'na', 'bangili', 'nyingi', 'za', 'dhahabu', ',', 'ambavyo', 'vinaja', 'hasa', 'wa', 'Nairobi', 'huviita', \"'bling\", 'bling', \"'\", '.', 'Sonko', 'alipata', 'umaarufu', 'mkubwa', 'alipochaguliwa', 'kwa', 'mara', 'ya', 'kwanza', 'kama', 'Mbunge', 'wa', 'eneo', 'bunge', 'la', 'Makadara', 'jijini', 'Nairobi', '.', 'Mara', 'moja', 'alianza', 'kuonekana', 'katika', 'maeneo', 'ya', 'umma', 'akisambaza', 'pesa', 'kwa', 'watu', 'maskini', 'hususan', 'katika', 'maeneo', 'ya', 'nyumba', 'za', 'za', 'vibanda', '.', 'Umaarufu', 'wake', 'uliendelea', 'kupanda', 'zaidi', 'na', 'zaidi', 'baada', 'ya', 'kwenda', 'katika', 'mitaa', 'ya', 'mabanda', 'ya', 'Mukuru', ',', 'na', 'kulała', 'nje', 'usiku', 'kucha', 'na', 'wakazi', 'wa', 'huko', 'waliokuwa', 'wamebomolewa', 'nyumba', 'zao', 'na', 'serikali', '.', 'Chanzo', 'cha', 'picha', ',', 'Facebook/MikeSonko', 'Maelezo', 'ya', 'picha', ',', 'Mike', 'Sonko', 'amekuwa', 'kipenzi', 'cha', 'watu', 'hasa', 'masikini', 'hasa', 'kwa', 'kuwa', 'amekuwa', 'akiwapatia', 'misaada', 'Sonko', 'alianzisha', 'mradi', 'wake', 'maarufu', 'kama', \"'Sonko\", 'Rescue', 'Team', \"'\", 'ambao', 'uliwasaidia', 'wakazi', 'wa', 'mitaa', 'ya', 'mabanda', 'wakati', 'wa', 'harusi', ',', 'kutoa', 'magari', 'ya', 'kusafirisha', 'miili', 'ya', 'wapendwa', 'wao', 'waliofariki', ',', 'magari', 'ya', 'zima', 'moto', ',', 'ambilansi', 'na', 'hata', 'kusafisha', 'maeneo', 'kadhaa', 'jiji', 'la', 'Nairobi', '.', 'Lakini', 'kando', 'na', 'hayo', 'mazuri', ',', 'Gavana', 'Sonko', 'atakumbukwa', 'kwa', 'rekodi', 'ya', 'uhalifu', '.', 'Idara', 'ya', 'magereza', 'nchini', 'Kenya', 'inasema', 'Sonko', 'alitoroka', 'gerezani', 'takriban', 'miaka', '20', 'iliyopita', '.', 'Ni', 'madai', 'ambayo', 'Sonko', 'mwenyewe', 'aliyathibitisha', 'katika', 'mahojiano', 'ya', 'Televisheni', 'nchini', 'Kenya', '.', 'Mwaka', 'jana', 'Sonko', 'pia', 'alikamatwa', 'kwa', 'tuhuma', 'za', 'ufisadi', ',', 'japo', 'amesisitiza', 'kuwa', 'tuhuma', 'hizo', 'zilikuwa', 'njama', 'za', 'wapinzani', 'wake', 'kisiasa', '.', 'Gavana', 'aliyetumia', 'lugha', 'chafu', 'Sonko', 'anakumbukwa', 'sana', 'kwa', 'kutumia', 'lugha', 'chafu', ',', 'na', 'maneno', 'yasiyoweza', 'kuchapishwa', ',', 'hususan', 'wakati', 'alipokuwa', 'akilumbana', 'na', 'wapinzani', 'wake', 'wa', 'kisiasa', 'na', 'vyombo', 'vya', 'habari', 'nchini', 'humo', '.', 'Wakati', 'wa', 'kesi', 'ya', 'kumvua', 'Ugavana', ',', 'vikao', 'vya', 'Bunge', 'la', 'Seneti', 'nusra', 'visitishwe', 'pale', 'kanda', 'moja', 'ya', 'sauti', 'ya', 'Sonko', 'ilipochezwa', ',', 'akifoka', 'kwa', 'matusi', 'mazito', '.', 'Chanzo', 'cha', 'picha', ',', 'Facebook/MikeSonko', 'Maelezo', 'ya', 'picha', ',', 'Sonko', 'anakumbukwa', 'sana', 'kwa', 'kutumia', 'lugha', 'chafu', 'hasa', 'anapokosolewa', 'Mapema', 'mwaka', 'huu', ',', 'Sonko', 'aligonga', 'vichwa', 'vya', 'habari', 'vya', 'kimataifa', 'alipopoweka', 'chupa', 'ndogo', 'za', 'mvinyo', 'wa', 'Hennessy', 'kwenye', 'kifurushi', 'cha', 'kuwasaidia', 'maskini', 'wakati', 'wa', 'makali', 'ya', 'virusi', 'vya', '.', 'Wakati', 'huo', 'Sonko', 'alitetea', 'uamuzi', 'huo', ',', 'akisema', 'pombe', 'kidogo', 'itakata', 'makali', 'ya', 'Corona', 'mwilini', '.', 'Hadi', 'wakati', 'akitimuliwa', 'ofisini', ',', 'Sonko', 'amekuwa', 'kipenzi', 'cha', 'wengi', ',', 'hususan', 'miongoni', 'mwa', 'watu', 'masikini', '.', 'Lakini', 'wale', 'wasiokubaliana', 'na', 'sera', 'zake', 'wanamkosoa', 'kwa', 'ukali', ',', 'wakidai', 'hakuwa', 'na', 'hadhi', 'wala', 'maadili', 'ya', 'kuwa', 'kiongozi', '.']\n",
      "\n",
      " Number of Words:  555\n"
     ]
    }
   ],
   "source": [
    "file=\"20dec18_2.txt\"\n",
    "\n",
    "# calling the function and storing the contents in a text variable \n",
    "text = get_document(\"https://www.bbc.com/swahili/habari-55361401\")\n",
    "\n",
    "# calling the store_ document function \n",
    "store_document(doc=text,name=file)\n",
    "\n",
    "#add the words in this file to the total_corpus_words, to keep count of the number of words in the corpus\n",
    "total_corpus_words+=total_words(file)"
   ]
  },
  {
   "cell_type": "code",
   "execution_count": 237,
   "metadata": {},
   "outputs": [
    {
     "data": {
      "text/plain": [
       "383655"
      ]
     },
     "execution_count": 237,
     "metadata": {},
     "output_type": "execute_result"
    }
   ],
   "source": [
    "total_corpus_words"
   ]
  },
  {
   "cell_type": "code",
   "execution_count": 238,
   "metadata": {},
   "outputs": [
    {
     "name": "stdout",
     "output_type": "stream",
     "text": [
      "['Lakini', 'mojawapo', 'sekta', 'iliyoathirika', 'pakubwa', 'ni', 'burudani', ',', 'hususan', 'baada', 'ya', 'kufungwa', 'kwa', 'migahawa', 'na', 'kumbi', 'za', 'burudani', 'katika', 'juhudi', 'za', 'kudhibiti', 'ugonjwa', 'wa', 'Corona', '.', 'Lakini', 'kando', 'na', 'hayo', ',', 'wadau', 'katika', 'sekta', 'hii', 'waliathirika', 'vipi', '?', 'Na', 'je', ',', 'kuna', 'baadhi', 'waliofaulu', 'licha', 'ya', 'hali', 'hiyo', 'ngumu', '?', 'Mwandishi', 'wa', 'BBC', 'Roncliffe', 'Odit', 'anatathmini', 'washindi', 'na', 'washindwa', 'katika', 'sekta', 'ya', 'burudani', 'mwaka', 'huu', 'wa', '2020', '.', 'Sauti', 'ya', 'Zuchu', 'ndio', 'sauti', 'inayosikika', 'zaidi', 'katika', 'kumbi', 'za', 'burudani', 'mwaka', 'huu', 'wa', '2020', '.', 'Msanii', 'huyu', 'mpya', 'wa', 'kundi', 'la', 'WCB', 'Wasafi', 'kutoka', 'Tanzania', 'alitambulishwa', 'wakati', 'makali', 'ya', 'Corona', 'yakiwa', 'yameshika', 'kila', 'mahali', '.', 'Lakini', 'licha', 'ya', 'changamoto', 'hiyo', ',', 'Zuchu', 'amevuma', ',', \"ameng'ara\", ',', 'na', 'ameinukia', 'kidedea', '.', 'Miezi', 'michache', 'tu', 'baada', 'ya', 'kujulishwa', 'kwa', 'umma', ',', 'Zuchu', 'alishinda', 'Tuzo', 'za', 'Mwaka', 'huu', 'za', 'AFRIMMA', ',', 'kama', 'Msanii', 'Bora', 'Mpya', 'wa', 'Afrika', '.', 'Chanzo', 'cha', 'picha', ',', 'Zuchu', 'Instagram', 'Maelezo', 'ya', 'picha', ',', 'Sauti', 'ya', 'Zuchu', 'ndio', 'sauti', 'inayosikika', 'zaidi', 'katika', 'kumbi', 'za', 'burudani', 'mwaka', 'huu', 'wa', '2020', 'Akizungumzia', 'ushindi', 'wake', ',', 'Zuchu', 'amewashukuru', 'sana', 'mashabiki', 'wake', ',', 'na', 'kutoa', 'shukran', 'za', 'kipekee', 'kwa', 'bosi', 'wake', 'Diamond', 'Platinumz', 'ambaye', 'anasema', 'amechangia', 'pakubwa', 'katika', 'ufanisi', 'wake', '.', 'Mwingine', 'aliyeshinda', 'tuzo', 'mwaka', 'huu', 'ni', 'Rais', 'wa', 'kundi', 'la', 'WCB', 'Wasafi', 'Diamond', 'Platinumz', 'aliyeshinda', 'kitengo', 'cha', 'msanii', 'bora', 'wa', 'Afrika', 'Mashariki', ',', 'na', 'kumrambisha', 'sakafu', 'mtani', 'wake', 'wa', 'jadi', 'Alikiba', 'pia', 'kutoka', 'Tanzania', '.', 'Lakini', 'haijakuwa', 'rahisi', 'kwa', 'wasanii', 'wengine', 'msimu', 'huu', 'wa', 'Corona', '.', 'Kwa', 'mfano', 'mwanamuziki', 'Alicios', 'Theluji', 'ambaye', 'kwa', 'kawaida', 'huishi', 'Nairobi', ',', 'alijipata', 'Brussels', 'Ubelgiji', 'na', 'akafungiwa', 'na', 'lockdown', '.', 'Anasema', 'maisha', 'hayakuwa', 'rahisi', '.', \"'Kwa\", 'upande', 'wa', 'mapato', ',', 'imekuwa', 'ngumu', 'kabisa', '.', 'Matamasha', 'yamefungiwa', 'kabisa', ',', 'na', 'sasa', 'hauna', 'kipato', '.', 'Unatumia', 'kile', 'kidogo', 'ulikuwa', 'umeweka', 'mpaka', 'kinaisha', ',', \"'\", 'anasema', 'Alicios', '.', 'Lakini', 'licha', 'ya', 'changamoto', 'hiyo', ',', 'Alicios', 'alifanikiwa', 'kuachia', 'nyimbo', 'kadhaa', 'mpya', ',', 'na', 'hata', 'albamu', 'yake', 'mpya', 'ALFA', '.', 'Kwa', 'ujumla', 'sekta', 'ya', 'burudani', 'iliathirika', 'pakubwa', 'sana', 'na', 'jinamizi', 'la', 'Corona', 'mwaka', 'huu', ',', 'lakini', 'bado', 'wasanii', 'wamejitahidi', 'kuachia', 'nyimbo', 'mpya', ',', 'na', 'kuburudisha', 'mashabiki', 'wao', '.', 'Chanzo', 'cha', 'picha', ',', 'Agnes', 'Nonsizi', 'Maelezo', 'ya', 'picha', ',', 'Agnes', 'Nonsizi', ',', 'meneja', 'wa', 'muziki', 'kutoka', 'Kenya', 'Lakini', 'kando', 'na', 'Corona', ',', 'viwango', 'vya', 'sanaa', ',', 'hususan', 'muziki', 'mwaka', 'huu', 'wa', '2020', 'vimeimarika', 'sana', '.', 'Wasanii', 'wengi', 'kutoka', 'ukanda', 'wa', 'Afrika', 'Mashariki', 'na', 'Kati', 'wametumia', 'kipindi', 'hiki', 'cha', 'kufungiwa', 'majumbani', 'kuimarisha', 'usanii', 'wao', ',', 'na', 'kuacia', 'mistari', 'mizito', '.', 'Kama', 'vile', 'kundi', 'la', 'Mbogi', 'Genje', 'kutoka', 'Kenya', ';', 'vijana', 'wa', 'mtaa', 'wa', 'Kayole', 'jijini', 'Nairobi', '.', 'Nyimbo', 'zao', 'kama', 'vile', 'Ngumi', 'Mbwekse', ',', 'Kidungi', 'na', 'Wamocho', ',', 'zina', 'mamilioni', 'ya', \"'views\", \"'\", 'kwenye', 'mtandao', 'wa', 'YouTube', ',', 'licha', 'ya', 'kwamba', 'baadhi', 'ya', 'watu', 'wamewalaumu', 'kwa', 'kutumia', 'misemo', 'inayohusisha', 'jeuri', 'katika', 'nyimbo', 'zao', '.', 'Na', 'wakati', 'tukiukaribisha', 'mwaka', 'wa', '2021', ',', 'bado', 'Diamond', 'amesalia', 'mfalme', 'wa', 'muziki', 'Afrika', 'Mashariki', 'na', 'Kati', 'baada', 'ya', 'kuandikisha', 'rekodi', 'mpya', 'na', 'wimbo', 'wake', 'Waah', 'aliomshirikisha', 'Koffi', 'Olomide', '.', 'Wiki', 'mbili', 'tu', 'tangu', 'wimbo', 'huo', 'ulipoachiwa', ',', 'umepata', 'zaidi', 'ya', \"'views\", \"'\", 'milioni', '16', 'katika', 'mtandao', 'wa', 'YouTube', ';', 'hii', 'ni', 'sawa', 'na', 'kusema', 'kila', 'siku', 'wimbo', 'huo', 'unatizamwa', 'mara', 'milioni', '1', '.']\n",
      "\n",
      " Number of Words:  523\n"
     ]
    }
   ],
   "source": [
    "file=\"20dec19_1.txt\"\n",
    "\n",
    "# calling the function and storing the contents in a text variable \n",
    "text = get_document(\"https://www.bbc.com/swahili/habari-55374975\")\n",
    "\n",
    "# calling the store_ document function \n",
    "store_document(doc=text,name=file)\n",
    "\n",
    "#add the words in this file to the total_corpus_words, to keep count of the number of words in the corpus\n",
    "total_corpus_words+=total_words(file)"
   ]
  },
  {
   "cell_type": "code",
   "execution_count": 239,
   "metadata": {},
   "outputs": [
    {
     "data": {
      "text/plain": [
       "384178"
      ]
     },
     "execution_count": 239,
     "metadata": {},
     "output_type": "execute_result"
    }
   ],
   "source": [
    "total_corpus_words"
   ]
  },
  {
   "cell_type": "code",
   "execution_count": 240,
   "metadata": {},
   "outputs": [
    {
     "name": "stdout",
     "output_type": "stream",
     "text": [
      "['Kwenda', 'kujivinjari', 'wakati', 'wa', 'krismasi', 'au', 'wakati', 'mwingine', 'wowote', 'kunahitaji', 'maandalizi', 'ya', 'hali', 'ya', 'juu', '.', 'Kwa', 'mtazamo', 'wake', 'anasema', 'Krismasi', 'inahusu', 'kusherehekea', 'na', 'watu', 'uwapendao', 'na', 'kuongeza', 'kwamba', 'kuna', 'njia', 'nyingi', 'sana', 'ya', 'kusherehekea', 'na', 'watu', 'uwapendao', 'bila', 'kujiingiza', 'kwenye', 'madeni', 'ambayo', 'yanaweza', 'kuepukika', '.', 'Pia', 'anaongeza', 'kuwa', 'ni', 'wakati', 'mzuri', 'wa', 'kusoma', 'kitabu', ',', 'kujifunza', 'kitu', 'kipya', 'kama', 'vile', 'mapishi', 'alimradi', 'ni', 'kitu', 'ambacho', 'kitakuepusha', 'na', 'gharama', 'zisizokuwa', 'na', 'maana', 'kama', 'kwenda', 'maeneo', 'ya', 'burudani', 'kutumia', 'fedha', 'ambazo', 'huna', 'kwa', 'wakati', 'huo', '.', 'Bi', 'Waceke', 'pia', 'anashauri', 'usichukue', 'deni', 'kwa', 'ajili', 'ya', 'kusherehekea', 'kwasababu', 'deni', 'inamaana', 'kuwa', 'huna', 'uwezo', 'wa', 'kununua', 'unachotaka', 'kwa', 'nafasi', 'yako', '.', 'Jinsi', 'ya', 'kutengeza', 'bajeti', 'ya', 'krismasi', 'Wataka', 'kutumia', 'pesa', 'ngapi', 'Orodhesha', 'majina', 'ya', 'watu', 'unaotaka', 'kuwanunulia', 'zawadi', 'Tumia', 'pesa', 'ulizotenga', 'kununua', 'zawadi', 'hizo', 'Lipia', 'kila', 'unachotaka', 'kunua', 'kwa', 'pesa', 'tasilimu', 'usikopeshe', '.', \"''Watu\", 'wengi', 'hujipata', 'katika', 'madeni', 'kutokana', 'na', 'sababu', 'wanataka', 'kushindana', 'na', 'wenzao', ',', 'kwa', 'mfano', 'kama', 'jirani', 'yako', 'anaenda', 'kujivinjari', 'Dubai', ',', 'usidhubutu', 'kushindana', 'na', 'mwenzako', 'kwasababu', 'hujui', 'anakotoa', 'fedha', 'zake', \"''\", 'anasema', 'Waceke', 'Kwanza', 'jielewe', 'wewe', 'na', 'uhusiano', 'wako', 'na', 'hela', '.', 'Kile', 'unacholipwa', 'si', 'hoja', 'cha', 'msingi', 'ni', 'uwezo', 'wako', 'wa', 'kuweka', 'akiba', '.', 'Ikiwa', 'huwezi', 'kuweka', 'akiba', 'kutokana', 'na', 'kidogo', 'unachopata', 'hata', 'ukipata', 'kikubwa', 'hutaweza', 'kuweka', 'akiba', '.', 'Kabla', 'ya', 'kusherehekea', 'Mwezi', 'Januari', 'unakuja', 'na', 'gharama', 'zake', 'ni', 'vyema', 'kuzingatia', 'vidokezo', 'vifuatayo', ':', 'Tenga', 'fedha', 'za', 'kugharamia', 'huduma', 'zote', 'muhimu', 'kama', 'vile', 'kodi', 'ya', 'nyumba', ',', 'karo', 'ya', 'shule', 'na', 'chakula', '.', 'Bima', 'ya', 'gari', 'lako', 'na', 'bima', 'ya', 'afya', 'ikiwezekana', 'lipa', 'moja', 'kwa', 'moja', 'ikiwa', 'unahofia', 'huenda', 'ukazitumia', 'fedha', 'hizo', '.', 'Zitakazobakia', 'tumia', 'kuwafurahisha', 'watu', 'uwapendao', 'katika', 'maisha', 'yako', '.', 'Kusherehekea', 'sio', 'lazima', 'usafiri', 'unaweza', 'kuwa', 'nyumbani', 'na', 'watoto', 'wako', 'ukaamua', 'kuwapikia', 'haswa', 'kama', 'wewe', 'ni', 'mama', 'anaefanya', 'kazi', '...', 'tumia', 'muda', 'huu', 'wa', 'sherehe', 'kujumuika', 'na', 'familia', 'yako', '.', 'Jiulize', 'kwa', 'nini', 'natumia', 'pesa', 'hizi', 'zote', '...', 'je', 'nazitumia', 'kufurahisha', 'watu', 'au', 'kujifurahisha', '?', 'Mwisho', 'Bi', 'Waceke', 'Nduati', 'anasema', ',', 'sawa', 'na', 'jinsi', 'unavyosuluhisha', 'tofauti', 'katika', 'uhusiano', 'wako', 'na', 'watu', 'ndivyo', 'unavyotakiwa', 'kusuluhisha', 'tatizo', 'la', 'utumizi', 'wa', 'fedha', 'katika', 'maisha', 'yako', '.']\n",
      "\n",
      " Number of Words:  347\n"
     ]
    }
   ],
   "source": [
    "file=\"20dec20_1.txt\"\n",
    "\n",
    "# calling the function and storing the contents in a text variable \n",
    "text = get_document(\"https://www.bbc.com/swahili/habari-50839951\")\n",
    "\n",
    "# calling the store_ document function \n",
    "store_document(doc=text,name=file)\n",
    "\n",
    "#add the words in this file to the total_corpus_words, to keep count of the number of words in the corpus\n",
    "total_corpus_words+=total_words(file)"
   ]
  },
  {
   "cell_type": "code",
   "execution_count": 241,
   "metadata": {},
   "outputs": [
    {
     "data": {
      "text/plain": [
       "384525"
      ]
     },
     "execution_count": 241,
     "metadata": {},
     "output_type": "execute_result"
    }
   ],
   "source": [
    "total_corpus_words"
   ]
  },
  {
   "cell_type": "code",
   "execution_count": 242,
   "metadata": {},
   "outputs": [
    {
     "name": "stdout",
     "output_type": "stream",
     "text": [
      "['Je', ',', 'Kukatizwa', 'kwa', 'uhusiano', 'wa', 'kiplomasia', 'kati', 'ya', 'Kenya', 'na', 'Somalia', 'kuna', 'maana', 'gani', '?', 'Hezron', 'Mogambi', 'Mhadhiri', ',', 'Chuo', 'Kikuu', 'cha', 'Nairobi', '20', 'Disemba', '2020', 'Tangazo', 'la', 'kukatizwa', 'kwa', 'uhusiano', 'wa', 'kiplomasia', 'kati', 'ya', 'Kenya', 'na', 'Somalia', 'kulikotokea', 'juma', 'hili', 'kumesababishwa', 'na', 'mambo', 'kadhaa', 'ambayo', 'yana', 'athari', 'nyingi', 'katika', 'eneo', 'zima', '.', 'Kwa', 'mujibu', 'wa', 'taarifa', 'kutoka', 'kwa', 'waziri', 'wa', 'habari', 'wa', 'Somalia', ',', 'nchi', 'yake', 'iliamua', 'kusitisha', 'uhusiano', 'wa', 'kiplomasia', 'kati', 'ya', 'nchi', 'hizi', 'mbili', 'kwa', 'sababu', '``', 'Kenya', 'ilikuwa', 'imeingilia', 'uhuru', 'wa', 'taifa', 'la', 'Somalia', '.', \"''\", 'Waziri', 'Osman', 'Dubbe', 'alieleza', 'kuwa', 'Somalia', 'ingewaita', 'wawakilishi', 'wake', 'wote', 'kutoka', 'Kenya', 'na', 'kuwapa', 'wawakilishi', 'wa', 'Kenya', 'nchini', 'Somalia', 'siku', 'saba', 'kuondoka', '.', '``', 'Jamhuri', 'ya', 'muungano', 'ya', 'Somalia', 'imefikia', 'uamuzi', 'huu', 'kwa', 'nia', 'ya', 'kuijibu', 'Kenya', 'kwasababu', 'ilienda', 'kinyume', 'na', 'makubaliano', 'na', 'kuingilia', 'masuala', 'ya', 'ndani', 'ya', 'nchi', 'ya', 'Somalia', ',', \"''\", 'Bw', '.', 'Dubbe', 'alieleza', '.', '``', 'Serikali', 'ya', 'Kenya', 'sasa', 'inafanya', 'juhudi', 'za', 'kugawa', 'nchi', 'ya', 'Somalia', 'kuwa', 'nchi', 'mbili', 'ilhali', 'tuna', 'uhusiano', 'mkubwa', 'kati', 'yetu', '.', \"''\", 'Athari', 'za', 'kukatiza', 'uhusiano', 'Hatua', 'hii', 'ya', 'kukatiza', 'uhusiano', 'kati', 'ya', 'nchi', 'hizi', 'mbili', 'jirani', 'na', 'zenye', 'umuhimu', 'katika', 'ukanda', 'huu', 'huenda', 'ikaongeza', 'tishio', 'la', 'ukosefu', 'wa', 'usalama', 'ikikumbukwa', 'kwamba', 'Marekani', 'ilitangaza', 'kuondoa', 'wanajeshi', 'wake', 'ambao', 'wamekuwa', 'nchini', 'Somalia', 'kwa', 'miaka', 'mingi', '-hatua', 'ambayo', 'wadadisi', 'wengi', 'wa', 'usalama', 'kwenye', 'eneo', 'hili', 'wanasema', 'huenda', 'ikahamasisha', 'kundi', 'la', 'kigaidi', 'la', 'Al-Shaabab', 'kuongeza', 'juhudi', 'zake', 'za', 'kutatiza', 'usalama', 'zaidi', '.', 'Kilicho', 'bayana', 'ni', 'kuwa', 'hatua', 'hii', 'haijatokea', 'ghafla', 'bin', 'vuu', '.', 'Uhusiano', 'kati', 'ya', 'nchi', 'hizi', 'mbili', 'jirani', 'umekuwa', 'ukidorora', 'katika', 'miaka', 'ya', 'hivi', 'karibuni', 'nayo', 'hatua', 'hii', 'ikichukuliwa', 'na', 'Somalia', 'siku', 'moja', 'tu', 'baada', 'ya', 'Kenya', 'kuwa', 'mwenyeji', 'wa', 'rais', 'wa', 'Somaliland', ',', 'eneo', 'la', 'kaskazini', 'magharibi', 'ambalo', 'lilijitangazia', 'uhuru', 'kutoka', 'kwa', 'Somalia', 'mwaka', 'wa', '1991', '.', 'Pia', 'ikumbukwe', 'kwamba', 'hii', 'si', 'mara', 'ya', 'kwanza', 'ambapo', 'kumekuwa', 'na', 'uhasama', 'kati', 'ya', 'Mogadishu', 'na', 'Nairobi', '.', 'Itakumbukwa', 'kwamba', 'mwaka', '2019', 'Kenya', 'ilimrejesha', 'balozi', 'wake', 'baada', 'ya', 'Mogadishu', 'kuamua', 'kunadi', 'maeneo', 'ya', 'gesi', 'na', 'mafuta', 'katika', 'mzozo', 'wa', 'kimaeneo', '.', 'Nchi', 'hizi', 'mbili', 'zilirejesha', 'uhusiano', 'miezi', 'michache', 'baadaye', '.', 'Huku', 'eneo', 'hili', 'likiwa', 'halijatambuliwa', 'kimataifa', ',', 'eneo', 'la', 'Somaliland', 'limekuwa', 'na', 'amani', 'ikilinganishwa', 'na', 'maeneo', 'mengine', 'ya', 'Somalia', 'huku', 'eneo', 'hili', 'likiwa', 'limejiundia', 'jeshi', 'lake', ',', 'usimamizi', 'wake', ',', 'na', 'mfumo', 'wa', 'kifedha', '.', 'Akiwa', 'Kenya', ',', 'kiongozi', 'wa', 'Somaliland', ',', 'Muse', 'Bihi', 'na', 'Rais', 'Kenyatta', 'walikubaliana', 'kwamba', 'nchi', 'ya', 'Kenya', 'itafungua', 'ubalozi', 'mdogo', 'katika', 'mji', 'mkuu', 'wa', 'Somaliland', ',', 'Hargeisa', 'kufikia', 'Machi', 'huku', 'shirika', 'la', 'ndege', 'la', 'Kenya', 'Airways', 'na', 'mashirika', 'mengine', 'ya', 'ndege', 'ya', 'Kenya', 'yakianzisha', 'safari', 'za', 'moja', 'kwa', 'moja', 'kati', 'ya', 'Nairobi', 'na', 'Hargeisa', '.', 'Eneo', 'la', 'Jubaland', 'Pia', ',', 'kuna', 'uhasama', 'kati', 'ya', 'serikali', 'kuu', 'ya', 'Somalia', 'na', 'eneo', 'la', 'Jubaland', ',', 'ambayo', 'inapakana', 'na', 'Kenya', ',', 'ambapo', 'wasimamizi', 'wa', 'eneo', 'hili', 'wanaishutumu', 'serikali', 'ya', 'Mogadishu', 'kwa', 'kupanga', 'njama', 'ya', 'kumwondoa', 'Rais', 'Ahmed', 'Madobe', 'na', 'kumweka', 'mtu', 'mwingine', 'wanayemtaka', 'ili', 'kuendelea', 'uongozi', 'wao', 'katika', 'sehemu', 'hii', 'inayojisimamia', '.', 'Rais', 'Madobe', 'ni', 'mshirika', 'wa', 'Kenya', ',', 'ambayo', 'inaliona', 'eneo', 'la', 'Jubaland', 'kama', 'sehemu', 'inayosaidia', 'kuzuia', 'mashambulizi', 'ya', 'kigaidi', 'ya', 'kundi', 'la', 'Al-Shabaab', 'ambao', 'wamekuwa', 'wakifanya', 'mashambulizi', 'nchini', 'Kenya', '.', 'Kenya', 'pia', 'imejipata', 'ikishutumiwa', 'na', 'Somalia', 'kwa', 'kudaiwa', 'kumficha', 'mtoro', 'muhimu', 'ambaye', 'alikuwa', 'waziri', 'kule', 'Jubaland', 'ambaye', 'alikuwa', 'ameshikwa', 'na', 'Mogadishu', 'kwa', '``', 'makosa', 'mabaya', 'ya', 'jinai', \"''\", 'lakini', 'akatoroka', 'kutoka', 'jela', 'January', 'mwaka', 'huu', '.', 'Pia', ',', 'Somalia', 'imeishutumu', 'Kenya', 'kwa', 'kuingilia', 'kampeini', 'za', 'kisiasa', 'zinazoendelea', 'nchini', 'humo', 'huku', 'uchaguzi', 'ukiwa', 'umepangiwa', 'kufanyika', 'mwishini', 'mwa', 'mwezi', 'huu', 'kama', 'njia', 'ya', 'kujizatiti', 'kama', 'nchi', 'kustawisha', 'mfumo', 'wake', 'wa', 'kidemokrasia', 'na', 'kuondoka', 'katika', 'madaraka', '.', 'Kujibu', 'madai', 'haya', ',', 'serikali', 'ya', 'Kenya', 'ilisema', 'kwamba', 'itaunda', 'kamati', 'ili', 'kuyashughulikia', 'madai', 'haya', 'ya', 'Somalia', 'na', 'kusaidia', 'kutatua', 'tofauti', 'zilizopo', 'kati', 'ya', 'nchi', 'hizi', 'mbili', '.', 'Changamoto', 'za', 'nchi', 'ya', 'Somalia', 'Nchi', 'ya', 'Somalia', 'tayari', 'inakumbwa', 'na', 'changamoto', 'nyingi—', 'mafuriko', ',', 'viwavi', 'na', 'janga', 'la', 'Covid-19', '—', 'na', 'Jumanne', 'tu', ',', 'makundi', 'ya', 'upinzani', 'na', 'waungaji', 'mkono', 'wao', 'walipigana', 'na', 'polisi', 'katika', 'mji', 'mkuu', 'wa', 'Somalia', ',', 'Mogadishu', 'wakianzisha', 'maandamano', 'yenye', 'nia', 'ya', 'kuisukuma', 'serikali', 'kuhakikisha', 'kwamba', 'kura', 'itakapopigwa', 'itakuwa', 'kwenye', 'misingi', 'ya', 'haki', '.', 'Waandamanaji', 'mjini', 'Mogadishu', 'walimshutumu', 'Rais', 'Mohamed', 'Abdullahi', 'Mohamed', '-', 'anayejulikana', 'kwa', 'jina', 'la', 'utani', '``', 'Farmaajo', \"''\", '-', 'kuhusiana', 'na', 'kucheleweshwa', 'kwa', 'uchaguzi', 'uliocheleweshwa', 'wa', 'maeneo', 'bunge', '.', 'Uchaguzi', 'huo', 'ulipaswa', 'kufanyika', 'mwanzani', 'mwa', 'mwezi', 'huu', 'lakini', 'kukatokea', 'matatizo', 'kuhusiana', 'na', 'watakaosimamia', 'bodi', 'ya', 'uchaguzi', '.', 'Matatizo', 'katika', 'uhusiano', 'kati', 'ya', 'Kenya', 'na', 'Somalia', 'hayajaanza', 'siku', 'za', 'hivi', 'karibuni', 'bali', 'yamekuwepo', 'hata', 'tangu', 'enzi', 'za', 'kikoloni', '.', 'Matatizo', 'haya', 'yamejumuisha', 'uhusiano', 'mbaya', 'na', 'vita', 'kati', 'ya', 'koo', 'mpakani', ',', 'mashambulizi', 'ya', 'kigaidi', ',', 'mauaji', 'ya', 'jumuia', 'kama', 'ilivyofanyika', 'katika', 'mauaji', 'ya', 'Wagalla', 'mwaka', '1984', 'na', 'mauaji', 'katia', 'chuo', 'kikuu', 'cha', 'Garrissa', 'ya', 'mwaka', 'wa', '2015', '.', 'Itakumbukwa', 'kwamba', 'mwaka', 'wa', '2011', ',', 'Operation', 'Linda', 'Nchi', 'ilianzishwa', 'kati', 'ya', 'majeshi', 'ya', 'Kenya', 'na', 'majeshi', 'ya', 'Somalia', 'dhidi', 'ya', 'kundi', 'la', 'Al-Shabaab', '.', 'Baadhi', 'ya', 'Wakenya', 'wamejiunga', 'na', 'kundi', 'haramu', 'la', 'Al-Shabaab', 'kwa', 'sababu', 'ya', 'hali', 'ya', 'umaskini', 'na', 'sababu', 'nyinginezo', 'katika', 'maeneo', 'ya', 'Mombasa', 'na', 'kaskazini', 'mwa', 'Kenya', '.', 'Hali', 'hii', 'imekuwa', 'ikiisumbua', 'nchi', 'ya', 'Kenya', 'kwa', 'muda', 'kwa', 'sababu', 'ya', 'mashambulizi', 'ya', 'kundi', 'la', 'Al-Shaabab', 'na', 'hasara', 'na', 'vifo', 'vitokanavyo', '.', 'Pia', ',', 'kuna', 'mzozano', 'ambapo', 'kesi', 'iko', 'mbele', 'ya', 'mahakama', 'ya', 'kimataifa', 'ya', 'haki', '(', 'International', 'Court', 'of', 'Justice', ')', 'kuhusiana', 'na', 'mpaka', 'kati', 'ya', 'nchi', 'hizi', 'mbili', 'ambapo', 'Kenya', 'inadai', 'kwamba', 'sehemu', 'fulani', 'ya', 'bahari', 'Hindi', 'ni', 'yake', 'ilhali', 'Somalia', 'inadai', 'ni', 'sehemu', 'ya', 'nchi', 'hiyo', 'ambako', 'kunasemekana', 'kuwa', 'na', 'mafuta', 'na', 'gesi', 'yenye', 'dhamana', 'kubwa', '.', 'Chanzo', 'cha', 'picha', ',', 'International', 'Court', 'of', 'Justice', ')', 'Ukweli', 'kwamba', 'Kenya', 'inachangia', 'vikosi', 'vya', 'kijeshi', 'nchini', 'Somalia', 'kama', 'sehemu', 'ya', 'kikosi', 'cha', 'kudumisha', 'amani', 'kinachoongozwa', 'na', 'Umoja', 'wa', 'Mataifa', 'ambacho', ',', 'pamoja', 'na', 'serikali', 'ya', 'Somalia', ',', 'kinapigana', 'na', 'kundi', 'la', 'wanamgambo', 'waliojihami', 'la', 'al-Shabaab', 'linalohusishwa', 'na', 'al-Qaeda', 'unaweza', 'kutatiza', 'mambo', 'mengi', 'iwapo', 'uhusiano', 'huu', 'utakatizwa', 'kwa', 'muda', 'mrefu', '.', 'Pia', ',', 'ikumbukwe', 'kwamba', 'majeshi', 'ya', 'Marekani', 'yanapondoka', 'kama', 'ambayo', 'serikali', 'ya', 'nchi', 'hiyo', 'imeitisha', ',', 'basi', 'mwanya', 'itapatikana', 'kwa', 'makundi', 'ya', 'kigaidi', 'ambayo', 'yatatatiza', 'usalama', 'katika', 'ukanda', 'mzima', 'na', 'kuleta', 'hasara', 'kubwa', '.', 'Isisahaulike', 'kwamba', 'nchi', 'ya', 'Kenya', 'ilichaguliwa', 'kuchukua', 'kiti', 'kinacholiwakilisha', 'bara', 'la', 'Afrika', 'katika', 'Baraza', 'la', 'Usalama', 'la', 'umoja', 'wa', 'Mataifa', 'Juni', 'na', 'kwa', 'sadfa', 'au', 'mpango', ',', 'mwakilishi', 'mpya', 'wa', 'Kenya', 'kwenye', 'umoja', 'huo', 'ni', 'balozi', 'Martin', 'Kimani', '.', 'Kabla', 'ya', 'kuteuliwa', 'kwake', 'Bw', '.', 'Kimani', 'amekuwa', 'akifanya', 'kazi', 'kama', 'balozi', 'maalum', 'kushughulikia', 'masuala', 'ya', 'ugaidi', 'na', 'alikuwa', 'mkurugenzi', 'wa', 'kituo', 'cha', 'Kenya', 'kuhusiana', 'na', 'mapambano', 'dhidi', 'ya', 'ugaidi', 'tangu', 'mwaka', 'wa', '2015', '.']\n",
      "\n",
      " Number of Words:  1090\n"
     ]
    }
   ],
   "source": [
    "file=\"20dec20_2.txt\"\n",
    "\n",
    "# calling the function and storing the contents in a text variable \n",
    "text = get_document(\"https://www.bbc.com/swahili/55383910\")\n",
    "\n",
    "# calling the store_ document function \n",
    "store_document(doc=text,name=file)\n",
    "\n",
    "#add the words in this file to the total_corpus_words, to keep count of the number of words in the corpus\n",
    "total_corpus_words+=total_words(file)"
   ]
  },
  {
   "cell_type": "code",
   "execution_count": 243,
   "metadata": {},
   "outputs": [
    {
     "data": {
      "text/plain": [
       "385615"
      ]
     },
     "execution_count": 243,
     "metadata": {},
     "output_type": "execute_result"
    }
   ],
   "source": [
    "total_corpus_words"
   ]
  },
  {
   "cell_type": "code",
   "execution_count": 246,
   "metadata": {},
   "outputs": [
    {
     "name": "stdout",
     "output_type": "stream",
     "text": [
      "['Marais', 'Uhuru', 'kenyatta', 'wa', 'kenya', 'na', 'mwenzake', 'wa', 'Somali', 'Mohamed', 'Farmajo', 'wakutana', 'ana', 'kwa', 'ana', 'mkutano', 'wa', 'IGAD', '20', 'Disemba', '2020', 'Imeboreshwa', '21', 'Disemba', '2020', 'Kulingana', 'na', 'picha', 'zilizochapishwa', 'na', 'Ikulu', 'ya', 'rais', 'nchini', 'Kenya', 'siku', 'ya', 'Jumapili', ',', 'December', '20', ',', 'viongozi', 'hao', 'wawili', 'walionekana', 'katika', 'mkutano', 'ambao', 'pia', 'ulihudhuriwa', 'na', 'waziri', 'mkuu', 'wa', 'Ethiopia', 'Abiy', 'Ahmed', 'na', 'mwenzake', 'wa', 'Sudan', 'Abdalla', 'Hamdok', '.', 'Menyekiti', 'wa', 'muungano', 'wa', 'Afrika', 'Moussa', 'Faki', 'Mahamat', ',', 'ambaye', 'alikuwa', 'mmoja', 'ya', 'wazungumzaji', 'katika', 'mkutano', 'huo', 'alizungumzia', 'kuhusu', 'umuhimu', 'wa', 'kutatua', 'mgogoro', 'kati', 'ya', 'Kenya', 'na', 'Somalia', '.', \"''Hali\", 'ya', 'wasiwasi', 'ilioshuhudiwa', 'hivi', 'karibuni', 'kati', 'ya', 'Kenya', 'na', 'Somalia', 'inatutia', 'wasiwasi', 'katika', 'muungano', 'huu', '.', 'Hivyobasi', ',', 'ningependa', 'kuomba', 'mataifa', 'yote', 'mawili', 'kuanza', 'mazungumzo', 'ili', 'kurudisha', 'uhusiano', 'wa', 'kidiplomasia', 'na', 'ningependekeza', 'IGAD', 'kuunga', 'mkono', 'pendekezo', 'hili', \"''\", ',', 'alisema', 'Moussa', '.', 'Taifa', 'la', 'Somalia', 'limekatiza', 'rasmi', 'uhusiano', 'wa', 'kidiplomasia', 'na', 'Kenya', 'huku', 'taifa', 'hilo', 'likiendelea', 'kuilaumu', 'Kenya', 'kwa', 'kujaribu', 'kuingilia', 'uhuru', 'wa', 'taifa', 'hilo', 'kujitawala', '.', 'Kenya', 'ilitakiwa', 'kuwaondoa', 'maafisa', 'wake', 'wote', 'wa', 'kidiplomasia', 'nchini', 'Somalia', 'chini', 'ya', 'kipindi', 'cha', 'siku', 'saba', 'huku', 'taifa', 'hilo', 'pia', 'likiwaondoa', 'wanadiplomasia', 'wake', 'nchini', 'Kenya', '.', 'Awali', 'balozi', 'wa', 'Kenya', 'nchini', 'Lucas', 'Tumbo', 'aliagizwa', 'kuondoka', 'nchini', 'humo', 'kwa', 'mashuariano', 'zaidi', 'japo', 'hatua', 'hii', 'ya', 'hivi', 'punde', 'sasa', 'inamaanisha', 'hatarejea', 'kamwe', 'hadi', 'masuala', 'tata', 'yatatuliwe', 'Mkutano', 'huo', 'wa', 'IGAD', 'uliongozwa', 'na', 'waziri', 'mkuu', 'Abdalla', 'Hamdok', 'wa', 'Sudan', 'ambaye', 'ni', 'mwenyekiti', 'wa', 'mkutano', 'wa', 'IGAD', 'na', 'kuhudhuriwa', 'na', 'rais', 'Ismail', 'Omar', 'Guelleh', '(', 'Djibouti', ')', ',', 'Mohamed', 'Abdullahi', '(', 'Somalia', ')', 'na', 'waziri', 'mkuu', 'wa', 'Ethiopia', 'Abiy', 'Ahmed', '.', 'Katika', 'mkutano', 'huo', 'ambao', 'ulihudhuriwa', 'pia', 'na', 'mwenyekiti', 'wa', 'tume', 'ya', 'umoja', 'wa', 'Afrika-African', 'Union', 'Commission', '(', 'AUC', ')', 'Moussa', 'Faki', 'Mahamat', ',', 'makamu', 'wa', 'rais', 'wa', 'Sudan', 'Kusini', 'na', 'Uganda', 'Rebecca', 'Garang', 'na', 'Amb', 'Rebecca', 'Otengo', '.', 'Chanzo', 'cha', 'picha', ',', 'Ikulku', 'ya', 'rais', 'kenya/Twitter', 'Katika', 'utangulizi', ',', 'mwenyeji', 'wa', 'mkutano', 'huo', 'rais', 'Ismail', 'Guelleh', 'alipongeza', 'jitihada', 'zinazofanyika', 'katika', 'kutafuta', 'amani', 'na', 'utulivu', 'katika', 'ukanda', 'huo', 'licha', 'ya', 'janga', 'la', 'corona', 'na', 'changamoto', 'nyingine', 'za', 'mafuriko', 'pamoja', 'na', 'jangwa', 'la', 'ukame', 'lililosababishwa', 'na', 'uvamizi', 'wa', 'nzige', '.', 'Katika', 'hotuba', 'yake', ',', 'mwenyekiti', 'wa', 'AUC', 'bwana', 'Moussa', 'Faki', 'Mahamat', 'alisema', 'mvutano', 'wa', 'kidiplomasia', 'kati', 'ya', 'Kenya', 'na', 'Somalia', 'ni', 'suala', 'ambalo', 'Umoja', 'wa', 'Afrika', 'una', 'wasiwasi', 'nao', '.', 'Bwana', 'Mahamat', 'aliitisha', 'mazungumzo', 'haya', 'ili', 'mvutano', 'huo', 'wa', 'mataifa', 'majirani', 'ambayo', 'yana', 'historia', 'ya', 'uhusiano', 'mzuri', 'kwa', 'muda', 'mrefu', ',', 'kwa', 'mfano', 'Kenya', 'imejitoa', 'pakubwa', 'kutoa', 'wanajeshi', 'wake', 'katika', 'jumuiya', 'ya', 'Afrika', 'nchini', 'Somalia', '(', 'AMISOM', ')', 'na', 'kusaidia', 'kupokea', 'wakimbizi', 'wengi', 'wa', 'Somalia', '.', 'Chanzo', 'cha', 'picha', ',', 'Ikulu', 'ya', 'rais', 'Kenya/twitter', 'Kwa', 'upande', 'wa', 'Ethiopia', ',', 'mwenyekiti', 'wa', 'AUC', 'iliwataka', 'wanachama', 'wa', 'IGAD', 'kusaidia', 'taifa', 'hilo', 'kwa', 'misaada', 'ya', 'kibinadamu', 'kufuatia', 'ghasia', 'zilizokuepo', 'Tigray', '.', 'Waziri', 'mkuu', 'Hamdok', 'alisema', 'mkutano', 'huo', 'uliitishwa', 'ili', 'kujadili', 'masuala', 'mbalimbali', 'ya', 'amani', 'katika', 'ukanda', 'huo', 'katika', 'upande', 'wa', 'amani', 'na', 'usalama', 'wa', 'Sudan', ',', 'Sudan', 'Kusini', ',', 'Ethiopia', 'na', 'Somalia', '.', 'Rais', 'Kenyatta', ',', 'ambaye', 'aliwasili', 'Djibouti', 'Jumapili', 'asubuhi', 'aliongozana', 'na', 'waziri', 'wa', 'mambo', 'ya', 'nje', 'Raychelle', 'Omamo', '.']\n",
      "\n",
      " Number of Words:  505\n"
     ]
    }
   ],
   "source": [
    "file=\"20dec20_3.txt\"\n",
    "\n",
    "# calling the function and storing the contents in a text variable \n",
    "text = get_document(\"https://www.bbc.com/swahili/55383916\")\n",
    "\n",
    "# calling the store_ document function \n",
    "store_document(doc=text,name=file)\n",
    "\n",
    "#add the words in this file to the total_corpus_words, to keep count of the number of words in the corpus\n",
    "total_corpus_words+=total_words(file)"
   ]
  },
  {
   "cell_type": "code",
   "execution_count": 247,
   "metadata": {},
   "outputs": [
    {
     "data": {
      "text/plain": [
       "386120"
      ]
     },
     "execution_count": 247,
     "metadata": {},
     "output_type": "execute_result"
    }
   ],
   "source": [
    "total_corpus_words"
   ]
  },
  {
   "cell_type": "code",
   "execution_count": 248,
   "metadata": {},
   "outputs": [
    {
     "name": "stdout",
     "output_type": "stream",
     "text": [
      "['Mgogoro', 'kati', 'ya', 'Kenya', 'na', 'Somalia', ':', 'Uhusiano', 'unaoundwa', 'kati', 'ya', 'Kenya', 'na', 'Somaliland', 'una', 'maana', 'gani', '?', 'Mohammed', 'AbdulRahman', 'Mchambuzi', '22', 'Disemba', '2020', 'Chanzo', 'cha', 'picha', ',', 'Wizara', 'ya', 'mashauri', 'ya', 'nchi', 'za', 'kigeni', 'Kenya/twitter', 'Maelezo', 'ya', 'picha', ',', 'Rais', 'Bihi', 'wa', 'Somaliland', 'alipoawasili', 'nchini', 'Kenya', 'Kenya', 'na', 'Somalia', 'zimeingia', 'katika', 'mvutano', 'wa', 'kibalozi', 'kutokana', 'na', 'kile', 'Somalia', 'inachodai', 'ni', 'kuingiliwa', 'katika', 'mambo', 'yake', 'ya', 'ndani', ',', 'kutokana', 'na', 'uhusiano', 'wa', 'Kenya', 'na', 'jimbo', 'la', 'Jubaland', '.', 'Madai', 'ambayo', 'Kenya', 'na', 'Jubaland', 'zimeyakanusha', '.', 'Katikati', 'ya', 'mwezi', 'huu', ',', 'Rais', 'wa', 'Somalia', 'Mohamed', 'Abdullahi', 'Farmaajo', 'akatangaza', 'kuuvunja', 'uhusiano', 'na', 'jirani', 'yake', 'Kenya', '.', 'Mvutano', 'huu', 'ulipamba', 'moto', 'zaidi', 'kufuatia', 'ziara', 'ya', 'siku', 'mjini', 'Nairobi', 'ya', 'Rais', 'Musa', 'Bihi', 'Abdi', 'wa', 'eneo', 'lililojitenga', 'miongo', 'mitatu', 'sasa', 'na', 'kujiita', 'Jamhuri', 'ya', 'Somaliland', 'na', 'kuanzishwa', 'uhusiano', 'mpya', 'kati', 'ya', 'pande', 'hizo', 'mbili', 'ikiwa', 'ni', 'pamoja', 'na', 'Kenya', 'kutangaza', 'itafungua', 'ofisi', 'ya', 'ubalozi', 'mdogo', 'mjini', 'Hargeisa', '.', 'Historia', 'inajirudia', 'Itakumbukwa', 'mara', 'baada', 'ya', 'uhuru', '1963', 'Kenya', 'ilipigana', 'vita', 'na', 'kundi', 'la', 'waasi', 'wa', 'Kisomali', 'lililojulikana', 'kama', '``', 'Shifta', \"''\", ',', 'lililokuwa', 'likidai', 'eneo', 'la', 'Kaskazini', 'Mashariki', 'ya', 'Kenya', 'lenye', 'wakazi', 'wengi', 'wenye', 'asili', 'ya', 'Kisomali', ',', 'ili', 'liunganishwe', 'na', 'Somalia', '.', 'Sambamba', 'na', 'hayo', ',', 'utawala', 'wa', 'mwanajeshi', 'Mohamed', 'Siad', 'Barre', ',', 'ulipalilia', 'hisia', 'za', 'kuwepo', 'kwa', 'Somalia', 'iliokubwa', '.', 'Ncha', 'tano', 'kwenye', 'nyota', 'ziliomo', 'katika', 'bendera', 'yake', 'zimekuwa', 'zikitajwa', 'kuwakilisha', 'maeneo', 'yanayokaliwa', 'na', 'wenye', 'asili', 'ya', 'Kisomali', '.', 'Chanzo', 'cha', 'picha', ',', 'Getty', 'Images', 'Maeneo', 'hayo', 'ni', 'Djibouti', ',', 'Mkoa', 'wa', 'Kaskazini', 'Mashariki', 'ya', 'Kenya', 'na', 'kusini', 'mwa', 'Somalia', '.', 'Vita', 'vya', 'Shifta', 'vilimalizika', '1967', 'kwa', 'kusainiwa', 'makubaliano', 'ya', 'kusitisha', 'mapigano', '.', 'Serikali', 'kuu', 'mjini', 'Mogadishu', 'imedai', 'kwamba', 'Kenya', 'inajiingiza', 'kwenye', 'masuala', 'yake', 'ya', 'ndani', '.', 'Hoja', 'inayotoa', 'ni', 'kwamba', 'imekuwa', 'na', 'ushawishi', 'mkubwa', 'kwa', 'Rais', 'wa', 'Jubaland', 'Ahmed', 'Mohamed', 'Islam', 'ikiwa', 'na', 'lengo', 'la', 'kuendeleza', 'masilahi', 'yake', 'ya', 'kisiasa', 'na', 'kiuchumi', 'ndani', 'ya', 'Somalia', '.', 'Madai', 'hayo', 'yamekanushwa', 'na', 'pande', 'zote', 'mbili', ',', 'Kenya', 'na', 'serikali', 'ya', 'mkoa', 'huo', '.', 'Mvutano', 'kati', 'ya', 'Jubaland', 'na', 'serikali', 'ya', 'Shirikisho', 'ulipamba', 'moto', 'baada', 'ya', 'Farmajo', 'kulikataa', 'ombi', 'la', 'Islam', 'kumtaka', 'awaondowe', 'wanajeshi', 'wa', 'Somalia', 'katika', 'jimbo', 'hilo', '.', 'Kwanini', 'uhusiano', 'na', 'Somaliland', '?', 'Kenya', 'inaiangalia', 'Somaliland', 'kuwa', 'mshirika', 'muhimu', 'katika', 'Pembe', 'ya', 'Afrika', 'katika', 'vita', 'dhidi', 'ya', 'magaidi', 'wa', 'Al', 'Shabab', '.', 'Pia', 'usalama', 'uliopo', 'Somaliland', 'ambayo', 'tokea', 'ilipotangaza', 'kujitenga', 'na', 'Somalia', '1991', 'baada', 'ya', 'kuangushwa', 'utawala', 'wa', 'Mohamed', 'Siad', 'Barre', 'ni', 'muhimu', 'katika', 'kukuza', 'biashara', 'na', 'vitega', 'uchumi', '.', 'Chanzo', 'cha', 'picha', ',', 'Wizara', 'ya', 'masuala', 'ya', 'nchi', 'za', 'kigeni', 'Kenya', 'Maelezo', 'ya', 'picha', ',', 'Rais', 'wa', 'Somaliland', 'alipowasili', 'nchini', 'Kenya', 'Umuhimu', 'huo', 'umejitokeza', 'zaidi', 'tangu', 'miaka', 'miwili', 'iliopita', 'kufuatia', 'hali', 'mpya', 'ya', 'maelewano', 'baina', 'ya', 'Ethiopia', 'na', 'Eritrea', ',', 'Eritrea', 'na', 'Djibuti', 'na', 'pia', 'Somalia', '.', 'Mabadiliko', 'yaliojiri', 'kutokana', 'na', 'juhudi', 'za', 'Waziri', 'mkuu', 'wa', 'Ethiopia', 'Dr', 'Abiy', 'Ahmed', 'tangu', 'alipoingia', 'madarakani', '2018', '.', 'Kenya', 'ni', 'mshirika', 'wa', 'kutegemewa', 'katika', 'Jumuiya', 'ya', 'Ushirikiano', 'ya', 'Mashariki', 'na', 'Pembe', 'ya', 'Afrika', '(', 'IGAD', ')', ',', 'ambapo', 'nchi', 'zote', 'hizo', 'pamoja', 'na', 'Uganda', 'na', 'Sudan', 'Kusini', 'ni', 'wanachama', '.', 'Ziara', 'ya', 'hivi', 'karibuni', 'mjini', 'Nairobi', 'ya', 'Rais', 'Musa', 'Abdi', 'Bihi', 'wa', 'Somaliland', 'na', 'mazungumzo', 'yake', 'na', 'Rais', 'Uhuru', 'Kenyatta', ',', 'imesababisha', 'hasira', 'zaidi', 'upande', 'wa', 'Somalia', '.', 'Jumuiya', 'ya', 'kimataifa', 'na', 'Somalia', 'zinaitambua', 'Somaliland', 'kuwa', 'sehemu', 'ya', 'Shirikisho', 'la', 'Somalia', '.', 'Lakini', 'bila', 'shaka', 'Bihi', 'atakuwa', 'akiyaangalia', 'matukio', 'ya', 'ziara', 'yake', 'mjini', 'Nairobi', 'kuwa', 'ni', 'mafanikio', 'ya', 'kidiplomasia', 'kwa', 'Somaliland', 'ambayo', 'kwa', 'muda', 'mrefu', 'inapigania', 'itambuliwe', 'kama', 'nchi', 'huru', '.', 'Kubwa', 'katika', 'mafanikio', 'hayo', 'ni', 'matamshi', 'ya', 'mjumbe', 'wa', 'ngazi', 'ya', 'juu', 'wa', 'Umoja', 'wa', 'Afrika', 'anayehusika', 'na', 'miundombinu', ',', 'Raila', 'Odinga', '.', 'Mwanasiasa', 'huyo', 'mkongwe', 'Waziri', 'mkuu', 'wa', 'zamani', 'wa', 'Kenya', ',', 'ametoa', 'wito', 'kwa', 'Jumuiya', 'ya', 'Kimataifa', 'akitaka', 'iharakishe', 'mchakato', 'wa', 'kuitambua', 'Somaliland', 'kama', 'nchi', 'huru', '.', 'Somaliland', 'imeweza', 'kuunda', 'taasisi', 'za', 'kiutawala', 'licha', 'ya', 'mivutano', 'baina', 'ya', 'vyama', 'vya', 'kisiasa', 'kuhusu', 'uchaguzi', 'wa', 'bunge', '.', 'Uchaguzi', 'umeahirishwa', 'mara', 'kadhaa', 'tokeo', 'ulipofanyika', 'ule', 'wa', 'mwisho', '2005', '.', 'Kimsingi', 'kuna', 'makubaliano', 'ya', 'chaguzi', 'za', 'bunge', 'na', 'serikali', 'za', 'mitaa', 'zifanyike', '2021', '.', 'Jumuiya', 'ya', 'Kimataifa', 'na', 'dola', 'huru', 'ya', 'Somaliland', 'Licha', 'ya', 'kutokuwa', 'na', 'uhusiano', 'rasmi', 'wa', 'kibalozi', 'na', 'nchi', 'za', 'nje', 'na', 'Jumuiya', 'ya', 'Kimataifa', ',', 'ina', 'mahusiano', 'katika', 'ngazi', 'isiyo', 'rasmi', 'na', 'baadhi', 'ya', 'nchi', 'zikiwemo', 'Ethiopia', 'na', 'Misri', 'pamoja', 'na', 'taasisi', 'za', 'kimataifa', 'zisizokuwa', 'za', 'kiserikali', '.', 'Chanzo', 'cha', 'picha', ',', 'Ikulu', 'ya', 'rais', 'Kenya', 'Maelezo', 'ya', 'picha', ',', 'Rais', 'Uhuru', 'kenyatta', 'na', 'mwenzake', 'wa', 'Somalia', 'Mohamed', 'Farmajo', 'wakiwa', 'na', 'wajumbe', 'kutoka', 'nchi', 'hizo', 'mbili', 'Baadhi', 'ya', 'duru', 'za', 'kisiasa', 'zinaashiria', 'wakati', 'umewadia', 'kuitambua', 'Somaliland', 'zikiamini', 'ni', 'hatua', 'itakayosaidia', 'kupatikana', 'suluhisho', 'la', 'kisiasa', 'lililo', 'imara', 'na', 'la', 'kudumu', 'Somalia', '.', 'Swali', 'linaloulizwa', 'ni', 'kwasababu', 'gani', 'Jumuiya', 'ya', 'kimataifa', 'inasita', 'kuitambua', 'Somaliland', 'wakati', 'ilishinikiza', 'Sudan', 'Kusini', 'ipewe', 'haki', 'ya', 'kujiamulia', 'mustakbali', 'wake', 'yenyewe', '?', 'Chanzo', 'cha', 'picha', ',', 'Ikulu', 'ya', 'rais', 'Kenya', 'Maelezo', 'ya', 'picha', ',', 'Rais', 'Kenyatta', 'na', 'mwenzake', 'wa', 'Somaliland', 'Musa', 'Bihi', 'Kufuatia', 'uamuzi', 'wake', 'katika', 'kura', 'ya', 'maoni', 'kujitenga', 'na', 'jirani', 'yake', 'wa', 'kaskazini', ',', 'lilizaliwa', 'taifa', 'changa', 'huru', 'na', 'kuwa', 'mwanachama', 'wa', '54', 'Umoja', 'wa', 'Afrika', '.', 'Ni', 'wazi', 'Shinikizo', 'lilitokana', 'na', 'masilahi', 'ya', 'kiuchumi', ',', 'utajiri', 'wa', 'mafuta', '.', 'Wadadisi', 'wanaamini', 'kuitambua', 'Somaliland', 'kutasaidia', 'kuimarisha', 'usalama', 'na', 'maendeleo', 'katika', 'Pembe', 'ya', 'Afrika', 'na', 'pia', 'kuwapa', 'haki', 'wakaazi', 'wa', 'eneo', 'hilo', 'la', 'Somalia', 'kujiamulia', 'mustakbali', 'wao', '.', 'Mwaka', 'ujao', '2021', ',', 'Kenya', 'inajiandaa', 'kukalia', 'kiti', 'chake', 'cha', 'mjumbe', 'asiye', 'wa', 'kudumu', 'wa', 'Baraza', 'la', 'Usalama', 'la', 'Umoja', 'wa', 'Mataifa', 'kwa', 'kipindi', 'cha', 'miaka', 'miwili', ',', 'na', 'huenda', 'Somaliland', 'ikatarajia', 'uungaji', 'mkono', 'mkubwa', 'wa', 'Kenya', 'katika', 'kampeni', 'yake', 'ya', 'kutambuliwa', 'kimataifa', 'kama', 'dola', 'huru', '.', 'Katika', 'wakati', 'huu', 'ambapo', 'uhusiano', 'wa', 'Kenya', 'na', 'Somalia', 'ni', 'tete', ',', 'Farmaajo', 'binafsi', 'anakabiliwa', 'na', 'changamoto', 'nyumbani', 'kuelekea', 'uchaguzi', 'wa', 'bunge', '.', 'Anashutumiwa', 'kwamba', 'anajaribu', 'kuchelewesha', 'uchaguzi', 'wa', 'bunge', ',', 'ili', 'mkakati', 'wake', 'umsaidie', 'aweze', 'kuchaguliwe', 'tena', '2021', '.', 'Tayari', 'mvutano', 'kuhusu', 'muundo', 'wa', 'Tume', 'ya', 'Uchaguzi', 'umesababisha', 'kushindwa', 'kufanyika', 'uchaguzi', 'uliopangwa', 'mwezi', 'huu', '.', 'Farmaajo', 'anaweza', 'kuutumia', 'uamuzi', 'wa', 'kuyarundika', 'majeshi', 'yake', 'katika', 'mpaka', 'na', 'Kenya', 'kama', 'kisingizio', 'kimoja', 'wapo', 'cha', 'kuahirisha', 'uchaguzi', 'ili', 'abakie', 'madarakani', '.', 'Tangu', '1991', 'baada', 'ya', 'kuanguka', 'kwa', 'utawala', 'wa', 'Siad', 'Barre', ',', 'taifa', 'hilo', 'liliingia', 'kwenye', 'vurugu', 'huku', 'wapiganaji', 'wa', 'koo', 'mbali', 'mbali', 'nchini', 'Somalia', ',', 'wababe', 'wa', 'kivita', ',', 'wanamgambo', 'waliowania', 'kujitenga', 'na', 'makundi', 'ya', 'kidini', ',', 'wakipigana', 'baina', 'yao', '.', 'Ikitambua', 'kwamba', 'usalama', 'wa', 'Somalia', 'ni', 'muhimu', 'kwa', 'usalama', 'wake', 'binafsi', 'Kenya', 'imekuwa', 'mstari', 'wa', 'mbele', 'katika', 'juhudi', 'za', 'kuleta', 'suluhisho', '.', 'Ilikuwa', 'mwenyeji', 'wa', 'mkutano', 'wa', 'wawakilishi', 'wa', 'makundi', 'hayo', 'waliopiga', 'kambi', 'mjini', 'Nairobi', 'kwa', 'kipindi', 'kirefu', 'kutafuta', 'suluhisho', '.', 'Chanzo', 'cha', 'picha', ',', 'Ikulu', 'ya', 'rais', 'Kenyatta/twitter', 'Mazungumzo', 'yao', 'yaliyodhaminiwa', 'na', 'Umoja', 'wa', 'Afrika', ',', 'Jumuiya', 'ya', 'nchi', 'za', 'Kiarabu', 'na', 'Umoja', 'wa', 'Mataifa', '.', 'Baada', 'ya', 'vuta', 'nikuvute', 'hatimaye', 'mwaka', '2004', 'makundi', 'hayo', 'yalikubaliana', 'kuunda', 'serikali', 'ya', 'mpito', 'ingawa', 'hadi', 'leo', 'yameshindwa', 'kuwa', 'na', 'serikali', 'imara', '.', 'Uwepo', 'wa', 'wanajeshi', 'wa', 'Kenya', 'nchini', 'Somalia', 'Kinachosubiri', 'ni', 'nini', 'kitafuata', 'baada', 'ya', 'Farmaajo', 'kuamua', 'kuvunja', 'uhusiano', 'na', 'Kenya', 'na', 'hasa', 'kuendelea', 'kuwepo', 'kwa', 'wanajeshi', 'wa', 'Kenya', 'nchini', 'Somalia', '?', 'Kenya', 'ni', 'sehemu', 'ya', 'kikosi', 'cha', 'kusimamia', 'amani', 'cha', 'Umoja', 'wa', 'Afrika', 'nchini', 'Somalia', '(', 'AMISOM', ')', ',', 'ikiwa', 'na', 'wanajeshi', 'zaidi', 'ya', '3,600', ',', 'wengi', 'wao', 'wako', 'katika', 'mkoa', 'wa', 'Jubaland', 'ambao', 'mji', 'wake', 'mkuu', 'ni', 'Kismayo', '.', 'Hilo', 'ni', 'eneo', 'ambalo', 'ni', 'kitovu', 'cha', 'harakati', 'za', 'wapiganaji', 'wa', 'kundi', 'la', 'kigaidi', 'la', 'Waislamu', 'wa', 'itikadi', 'kali', 'la', 'Al', 'Shabab', 'wenye', 'mafungamano', 'na', 'mtandao', 'wa', 'Al', 'Qaeda', '.', 'Mgogoro', 'huu', 'wa', 'Somalia', 'na', 'Kenya', 'unaashiria', 'umuhimu', 'haja', 'ya', 'Kenya', 'kuendelea', 'na', 'harakati', 'zake', 'za', 'kijeshi', 'Somalia', ',', 'kwani', 'hali', 'yoyote', 'ya', 'usalama', 'katika', 'mipaka', 'yake', 'ndiyo', 'kipaumbele', '.']\n",
      "\n",
      " Number of Words:  1266\n"
     ]
    }
   ],
   "source": [
    "file=\"20dec22_1.txt\"\n",
    "\n",
    "# calling the function and storing the contents in a text variable \n",
    "text = get_document(\"https://www.bbc.com/swahili/habari-55407600\")\n",
    "\n",
    "# calling the store_ document function \n",
    "store_document(doc=text,name=file)\n",
    "\n",
    "#add the words in this file to the total_corpus_words, to keep count of the number of words in the corpus\n",
    "total_corpus_words+=total_words(file)"
   ]
  },
  {
   "cell_type": "code",
   "execution_count": 249,
   "metadata": {},
   "outputs": [
    {
     "data": {
      "text/plain": [
       "387386"
      ]
     },
     "execution_count": 249,
     "metadata": {},
     "output_type": "execute_result"
    }
   ],
   "source": [
    "total_corpus_words"
   ]
  },
  {
   "cell_type": "code",
   "execution_count": 250,
   "metadata": {},
   "outputs": [
    {
     "name": "stdout",
     "output_type": "stream",
     "text": [
      "['Ni', 'vigumu', 'kwa', 'watu', 'kuamini', 'kuwa', 'wanaume', 'wanaweza', 'kubakwa', ',', 'lakini', 'wameamua', 'kujitokeza', 'Huwezi', 'kusikiliza', 'tena', 'Ni', 'vigumu', 'kwa', 'watu', 'kuamini', 'kuwa', 'wanaume', 'wanaweza', 'kubakwa', ',', 'lakini', 'wameamua', 'kujitokeza', '22', 'Disemba', '2020', 'Imeboreshwa', '27', 'Disemba', '2020', 'Ubakaji', 'wa', 'wanaume', 'ni', 'jambo', 'ambalo', 'ni', 'mwiko', 'katika', 'maeneo', 'mengi', 'ya', 'dunia', ',', 'ikiwa', 'ni', 'pamoja', 'na', 'Afrika', 'ambako', 'kuna', 'unyanyapaa', 'unaohusiana', 'na', 'jambo', 'hilo', '.', 'Watu', 'wengi', 'hudhani', 'wanaume', 'hawawezi', 'kuwa', 'wahanga', 'wa', 'ubakaji', '.', 'Lakini', 'waathiriwa', 'wa', 'ubakaji', 'wanajitokeza', 'barani', 'Afrika', ',', 'kuzungumzia', 'juu', 'ya', 'uzoefu', 'wao', ',', 'kusaidiana', ',', 'na', 'kuhakikisha', 'masaibu', 'waliyopitia', 'yanafahamika', '.', 'BBC', 'imezungumza', 'na', 'wanaume', 'wawili', 'mmoja', 'kutoka', 'Kenya', 'na', 'mwingine', 'kutoka', 'Tanzania', '.', 'Taarifa', 'hii', 'imeandaliwa', 'na', 'kuhaririwa', 'na', 'Ashley', 'Lime', 'na', 'Anne', 'Okumu', '.']\n",
      "\n",
      " Number of Words:  120\n"
     ]
    }
   ],
   "source": [
    "file=\"20dec22_2.txt\"\n",
    "\n",
    "# calling the function and storing the contents in a text variable \n",
    "text = get_document(\"https://www.bbc.com/swahili/habari-55408126\")\n",
    "\n",
    "# calling the store_ document function \n",
    "store_document(doc=text,name=file)\n",
    "\n",
    "#add the words in this file to the total_corpus_words, to keep count of the number of words in the corpus\n",
    "total_corpus_words+=total_words(file)"
   ]
  },
  {
   "cell_type": "code",
   "execution_count": 251,
   "metadata": {},
   "outputs": [
    {
     "data": {
      "text/plain": [
       "387506"
      ]
     },
     "execution_count": 251,
     "metadata": {},
     "output_type": "execute_result"
    }
   ],
   "source": [
    "total_corpus_words"
   ]
  },
  {
   "cell_type": "code",
   "execution_count": 252,
   "metadata": {},
   "outputs": [
    {
     "name": "stdout",
     "output_type": "stream",
     "text": [
      "['Msikiti', 'uliopewa', 'jina', 'la', \"'Yesu\", 'Kristo', \"'\", 'wavuta', 'hisia', 'za', 'wengi', 'mitandaoni', '13', 'Disemba', '2020', 'Imeboreshwa', '27', 'Disemba', '2020', 'Chanzo', 'cha', 'picha', ',', 'THE', 'STANDARD', 'KENYA/TWEET', 'Ilianzia', 'katika', 'mvutano', 'wa', 'kisheria', 'kati', 'ya', 'jumuia', 'ya', 'Kiislamu', 'na', 'Kanisa', 'la', 'Waadventista', 'wa', 'Sabato', '(', 'SDA', ')', 'kuhusu', 'umiliki', 'wa', 'ardhi', '.', 'Mvutano', 'huo', 'uliokuwepo', 'kwa', 'miongo', 'kadhaa', ',', 'ulimalizika', 'mwezi', 'Oktoba', 'mwaka', 'huu', 'na', 'Mahakama', 'ya', 'Mazingira', 'mjini', 'Kisumu', 'iliamua', 'kuwa', 'ardhi', 'hiyo', 'ni', 'milki', 'ya', 'Jamii', 'ya', 'Kiislamu', '.', 'Katika', 'jitihada', 'za', 'kujenga', 'daraja', 'la', 'mahusiano', 'kati', 'ya', 'jamii', 'ya', 'Kiislamu', 'na', 'kanisa', ',', 'imechagua', 'jina', 'la', 'msikiti', 'ambalo', 'limevuta', 'hisia', 'za', 'wengi', 'katika', 'mitandao', 'ya', 'kijamii', '.', 'Msikiti', 'ambao', 'umejengwa', 'kwenye', 'ardhi', 'iliyokuwa', 'kwenye', 'mgogo', 'eneo', 'la', 'Kaloleni', 'katika', 'Kaunti', 'ya', 'Kisumu', 'unaitwa', \"'Msikiti\", 'wa', 'Yesu', 'Kristo', 'mwana', 'wa', 'Maria', '(', 'The', 'Mosque', 'of', 'Jesus', 'Christ', 'the', 'son', 'of', 'Mary', ')', 'Lakini', 'kwa', 'nini', 'jina', 'hili', 'la', 'kipekee', '?', 'Abdul', 'Rashid', 'ni', 'Mwadhini', 'ameliambia', 'gazeti', 'la', 'The', 'Standard', 'la', 'Kenya', 'kuwa', '``', 'Tumekuwa', 'na', 'mvutano', 'wa', 'muda', 'mrefu', 'kuhusu', 'ardhi', 'na', 'hii', 'ni', 'moja', 'ya', 'sababu', 'zilizotufanya', 'kuchagua', 'jina', 'hili', '.', 'Sisi', 'hatuna', 'uadui', 'na', 'Wakristo', ',', \"''\", 'alisema', '.', 'Amesema', 'kuwa', 'Waislamu', 'pia', 'wanaamini', 'Yesu', 'na', 'kuwa', 'alikuwa', 'sambamba', 'na', 'manabii', 'wanne', 'akiwemo', 'Mtume', 'Muhamad', '(', 'S.A.W', ')', '.', \"''Waislamu\", 'wanaamini', 'katika', 'Yesu', 'Kristo', '.', 'Uchaguzi', 'wa', 'jina', 'pia', 'ni', 'shukrani', 'ya', 'Yesu', 'Kristo', 'ambaye', 'tunaamini', 'atarudi', 'tena', ',', \"''\", 'Rashid', 'aliliambia', 'gazeti', 'la', 'The', 'Standard', '.', 'Hatua', 'hii', 'imegusa', 'hisia', 'za', 'watu', 'nchini', 'Kenya', 'wengine', 'wakihoji', 'je', ',', 'huu', 'ni', 'Msikiti', 'na', 'Kanisa', 'kwa', 'wakati', 'mmoja', '?', 'Wengine', 'wameifurahia', 'hatua', 'hiyo', 'Mipango', 'ya', 'kujenga', 'msikiti', 'wa', 'kudumu', 'inaendelaa', 'ingawa', 'Waislamu', 'wanaoabudu', 'kwenye', 'eneo', 'hilo', 'wamejenga', 'jengo', 'la', 'muda', 'mfupi', 'kwa', 'ajili', 'ya', 'kuswali', '.', 'Baadhi', 'ya', 'waumini', 'wa', 'Kikristo', 'wamepokea', 'kwa', 'mikono', 'miwili', 'hatua', 'hii', 'wakisema', 'kuwa', 'itajenga', 'hali', 'ya', 'kuishi', 'kwa', 'amani', '.', 'Hili', 'si', 'tukio', 'geni', 'hata', 'hivyo', 'kwani', 'jina', 'la', 'The', 'Mosque', 'of', 'Jesus', 'Christ', \"''\", 'limepewa', 'pia', 'Msikiti', 'ulio', 'katika', 'mji', 'wa', 'Madaba', ',', 'Kusini', 'mwa', 'mji', 'mkuu', 'wa', 'Amman', 'huko', 'Jordan', ',', 'Msikiti', 'huu', 'ulianzishwa', 'mwaka', '2008', 'kwa', 'ajili', 'ya', 'kutoa', 'ujumbe', 'wa', 'umoja', 'na', 'kustahimiliana', 'miongoni', 'wa', 'dini', 'hizo', 'mbili', '.']\n",
      "\n",
      " Number of Words:  360\n"
     ]
    }
   ],
   "source": [
    "file=\"20dec27.txt\"\n",
    "\n",
    "# calling the function and storing the contents in a text variable \n",
    "text = get_document(\"https://www.bbc.com/swahili/habari-55292558\")\n",
    "\n",
    "# calling the store_ document function \n",
    "store_document(doc=text,name=file)\n",
    "\n",
    "#add the words in this file to the total_corpus_words, to keep count of the number of words in the corpus\n",
    "total_corpus_words+=total_words(file)"
   ]
  },
  {
   "cell_type": "code",
   "execution_count": 253,
   "metadata": {},
   "outputs": [
    {
     "data": {
      "text/plain": [
       "387866"
      ]
     },
     "execution_count": 253,
     "metadata": {},
     "output_type": "execute_result"
    }
   ],
   "source": [
    "total_corpus_words"
   ]
  },
  {
   "cell_type": "code",
   "execution_count": 254,
   "metadata": {},
   "outputs": [
    {
     "name": "stdout",
     "output_type": "stream",
     "text": [
      "['Maharusi', 'waliopendana', 'licha', 'ya', 'vimo', 'vyao', 'Kenya', 'Hadithi', 'ya', 'Lilian', 'Wawira', 'Gatimu', 'na', 'mumewe', 'Ezekiel', 'Mwangi', 'Maina', 'ni', 'kama', 'filamu', '.', 'Wapenzi', 'hawa', 'wawili', 'wamegonga', 'vichwa', 'vya', 'habari', 'mitandaoni', 'nchini', 'Kenya', 'baada', 'ya', 'kufanya', 'harusi', 'Jumamosi', 'iliyopita', ',', '19.12.2020', '.', 'Lakini', 'si', 'picha', 'maridadi', 'za', 'harusi', 'yao', 'zinazozungumziwa', ',', 'wengi', 'wamekuwa', 'wakizungumzia', 'tofauti', 'kubwa', 'ya', 'kimo', 'kati', 'ya', 'wapenzi', 'hao', 'wawili', '.', 'Lilian', 'Wawera', 'Gatimu', ',', 'mwenye', 'umri', 'wa', 'miaka', '28', 'ana', 'urefu', 'wa', 'zaidi', 'ya', 'futi', '7', ',', 'huku', 'mumewe', 'Ezekiel', 'Mwangi', 'Maina', ',', 'mwenye', 'umri', 'wa', 'miaka', '33', ',', 'akiwa', 'na', 'urefu', 'wa', 'angalau', 'futi', '3', '.', 'Wanandoa', 'hawa', 'walikutana', 'Aprili', 'ya', 'mwaka', '2017', 'katika', 'harusi', 'ya', 'rafiki', 'yao', 'wa', 'karibu', '.', 'Kwanza', 'hawakuwa', 'hata', 'marafiki', '.', 'Lakini', 'Lilian', 'anasema', 'alivutiwa', 'na', 'ujasiri', 'wa', 'Bwana', 'Mwangi', '.', \"'Mara\", 'moja', 'tu', 'aliponiona', ',', 'yeye', 'aliomba', 'namba', 'yangu', 'ya', 'simu', '.', 'Nikajiambia', 'huyu', 'ndiye', 'mume', 'wa', 'kweli', '.', \"'\", 'Chanzo', 'cha', 'picha', ',', 'Lilian', 'Wawira', 'Gatimu', 'Maelezo', 'ya', 'picha', ',', 'Wanandoa', 'hawa', 'walikutana', 'Aprili', 'ya', 'mwaka', '2017', 'katika', 'harusi', 'ya', 'rafiki', 'yao', 'wa', 'karibu', 'Urafiki', 'wao', 'wa', 'zaidi', 'ya', 'miaka', 'mitatu', 'ukaanzia', 'hapo', '.', 'Lakini', 'wanasema', 'haikuwa', 'safari', 'rahisi', ';', 'ilijawa', 'na', 'pandashuka', 'za', 'kila', 'aina', '.', 'Kwanza', ',', 'familia', 'ya', 'Bwana', 'Mwangi', 'haikutaka', 'kabisa', 'kumuona', 'mwanao', 'akiwa', 'na', 'mpenzi', 'mrefu', 'kama', 'mlingoti', '.', 'Walijaribu', 'kwa', 'kila', 'njia', 'kumshawishi', 'amuache', 'na', 'kutafuta', 'mpenzi', 'wa', 'kimo', 'chake', '.', \"'Walikuwa\", 'wanasema', 'mimi', 'ni', 'mrefu', 'sana', ',', 'na', 'pia', 'nina', 'umri', 'mkubwa', 'kumshinda', ',', \"'\", 'anaeleza', 'Bi', 'Lilian', '.', 'Bi', 'Lilian', 'ni', 'Munjilisti', 'wa', 'Kanisa', 'la', 'Anglikana', 'mjini', 'Baringo', ',', 'naye', 'Bwana', 'Mwangi', 'ni', 'mfanyibiashara', '.', 'Baadhi', 'mitandaoni', 'wamedai', 'kwamba', 'Lilian', 'alikubali', 'kuolewa', 'na', 'mwanamume', 'huyu', 'mfupi', 'kwa', 'sababu', 'Mwangi', 'ana', 'hela', 'nyingi', '.', 'Lakini', 'je', ',', 'madai', 'hayo', 'yana', 'ukweli', 'wowote', '?', 'Chanzo', 'cha', 'picha', ',', 'Lilian', 'Wawira', 'Gatimu', 'Bwana', 'Mwangi', 'anaeleza', 'kwamba', 'mapenzi', 'yao', 'hayajajengwa', 'kwa', 'msingi', 'wa', 'pesa', '.', 'Lakini', 'licha', 'ya', 'hayo', 'yote', ',', 'wapenzi', 'hawa', 'wawili', 'wameendelea', 'kuwa', 'imara', 'katika', 'penzi', 'lao', ',', 'huku', 'Lilian', 'akisisitiza', 'kwamba', 'anamheshimu', 'sana', 'mumewe', 'licha', 'ya', 'kimo', 'chake', '.', 'Anasema', 'yeye', 'ndio', 'kichwa', 'cha', 'familia', 'yao', '.', 'Chanzo', 'cha', 'picha', ',', 'Lilian', 'Wawira', 'Gatimu', \"'Mara\", 'kwa', 'mara', 'sisi', 'pia', 'hukosana', 'kama', 'tu', 'wapenzi', 'wengine', '.', 'Lakini', 'yeye', 'ni', 'mpole', ',', 'na', 'amenifundisha', 'kuomba', 'msamaha', '.', \"'\", 'Hata', 'hivyo', 'kwao', 'nyumbani', 'wanasema', 'imewalazimu', 'kutengeneza', 'kitanda', 'spesheli', 'kwa', 'sababu', 'ya', 'kimo', 'cha', 'Lilian', '.', 'Hata', 'godoro', 'lao', 'wananunua', 'kutoka', 'kwa', 'kiwanda', 'cha', 'magodoro', 'kwani', 'hakuna', 'godoro', 'linalomtoshea', 'madukani', '.']\n",
      "\n",
      " Number of Words:  405\n"
     ]
    }
   ],
   "source": [
    "file=\"20dec24.txt\"\n",
    "\n",
    "# calling the function and storing the contents in a text variable \n",
    "text = get_document(\"https://www.bbc.com/swahili/habari-55436588\")\n",
    "\n",
    "# calling the store_ document function \n",
    "store_document(doc=text,name=file)\n",
    "\n",
    "#add the words in this file to the total_corpus_words, to keep count of the number of words in the corpus\n",
    "total_corpus_words+=total_words(file)"
   ]
  },
  {
   "cell_type": "code",
   "execution_count": 255,
   "metadata": {},
   "outputs": [
    {
     "data": {
      "text/plain": [
       "388271"
      ]
     },
     "execution_count": 255,
     "metadata": {},
     "output_type": "execute_result"
    }
   ],
   "source": [
    "total_corpus_words"
   ]
  },
  {
   "cell_type": "code",
   "execution_count": 257,
   "metadata": {},
   "outputs": [
    {
     "name": "stdout",
     "output_type": "stream",
     "text": [
      "['Francisco', 'ouma', ':', 'Mkenya', 'anayemiliki', 'pango', 'kubwa', 'akidai', 'ni', 'amri', 'aliyopewa', 'na', 'Mungu', 'Francis', 'ouma', 'kutoka', 'magharibi', 'mwa', 'Kenya', 'anamiliki', 'pango', 'la', 'vyumba', '24', 'na', 'kudai', 'kwamba', 'alichimba', 'pango', 'hilo', 'baada', 'ya', 'kuamrishwa', 'na', 'Mungu', '.', 'Pango', 'hilo', 'liko', 'mita', 'chache', 'kutoka', 'nyumbani', 'kwake', '.', 'Pango', 'hilo', 'lina', 'milango', 'miwili', '.', 'Mlango', 'wa', 'kwanza', 'ni', 'wa', 'mbao', 'na', 'unaelekea', 'katika', 'chumba', 'kimoja', 'kilichopo', 'juu', ',', 'kisha', 'unateremka', 'kwa', 'ngazi', 'karibu', 'futi', '3', 'chini', 'ya', 'ardhi', 'ili', 'uweze', 'kuingia', 'katika', 'vyumba', 'vilivyopo', 'kwenye', 'pango', '.', 'Maisha', 'ya', 'Ouma', '``', 'Nilianza', 'kujenga', 'nyumba', 'hii', 'Februari', ',', 'mwaka', 'wa', '1967', 'saa', 'sita', 'za', 'mchana', '.', 'Mungu', 'aliniletea', 'ramani', 'katika', 'ndoto', ',', 'akanionyesha', 'ramani', 'ya', 'pango', 'na', 'akaniamrisha', 'nichimbe', 'pango', 'hili', '.', 'Siyo', 'kwamba', 'niliota…', 'Hapana', ',', 'ni', 'Mungu', 'mwenyewe', 'aliyeniletea', 'ramani', \"''\", 'Huwezi', 'kusikiliza', 'tena', 'Maelezo', 'ya', 'video', ',', 'Mkenya', 'anayemiliki', 'pango', 'kumridhisha', 'Mungu', 'Ndani', 'ya', 'pango', 'hilo', 'kuna', 'giza', 'totoro', 'na', 'lazima', 'utumie', 'taa', 'kupata', 'mwangaza', '.', 'Vyumba', 'vyenyewe', 'vinatofautiana', 'kwa', 'ukubwa', 'na', 'milango', 'yake', 'imetengenezwa', 'kwa', 'maumbo', 'maalum', 'yanayofanana', 'na', 'milango', 'ya', 'Kasri', 'la', 'zamani', 'la', 'Mfalme', 'wa', 'Misri', '.', '``', 'Unaona', 'vyumba', 'vingine', 'ni', 'vidogo', 'na', 'vingine', 'ni', 'vikubwa…', 'hivi', 'vyote', 'vimejengwa', 'kulingana', 'na', 'ramani', 'ambayo', 'nimepewa', 'na', 'naamini', 'ni', 'kwa', 'sababu', 'kila', 'chumba', 'kitakuwa', 'na', 'kazi', 'yake', '.', 'Ni', 'sawa', 'tu', 'na', 'vile', 'nyumba', 'ya', 'binadamu', 'huwa', 'na', 'vyumba', 'kwa', 'ajili', 'ya', 'matumizi', 'tofauti', 'tofauti', '.', 'Vyumba', 'vingine', 'vinaweza', 'kutumika', 'kuhifadhi', 'vitu', '.', 'Kwa', 'hiyo', 'ni', 'Mungu', 'mwenyewe', 'anayejua', 'matumizi', 'ya', 'vyumba', 'hivi', \"''\", 'Maelezo', 'ya', 'picha', ',', 'Ndani', 'ya', 'pango', 'hilo', 'kuna', 'giza', 'totoro', 'na', 'lazima', 'utumie', 'taa', 'kupata', 'mwangaza', '.', 'Mzee', 'Francis', 'ambaye', 'ana', 'umri', 'wa', 'miaka', '73', 'anadai', 'kwamba', 'yeye', 'huzungumza', 'na', 'Mungu', 'moja', 'kwa', 'moja', '.', '``', 'Mungu', 'ananipa', 'taarifa', 'zote', 'nikiwa', 'hapa', '.', 'Anaweza', 'kujitokeza', 'kama', 'mfano', 'na', 'akapotea', '.', 'Kuna', 'wakati', 'kama', 'nina', 'chimba', 'mahali', 'ambapo', 'hataki', ',', 'yeye', 'hunizungumzia', 'na', 'kusema', 'niwachie', 'hapo', 'nisiendelee', \"''\", 'Hata', 'hivyo', 'ni', 'kisa', 'ambacho', 'kiliwashangaza', 'wazazi', 'wa', 'bwana', 'Francis', 'ambao', 'sasa', 'ni', 'marehemu', 'na', 'hata', 'wanakijiji', 'walimwogopa', 'sana', '.', '``', 'Watu', 'walikuwa', 'wananiangalia', ',', 'nikienda', 'mtoni', 'kuoga', ',', 'watu', 'walikuwa', 'wakinitizama', 'kwa', 'uwoga', 'na', 'kusema', 'kwamba', 'mimi', 'nina', 'chimba', 'shimo', 'la', 'kuzikiwa', 'siku', 'nikifa…', 'Lakini', 'nikawaambia', 'kwamba', 'ninafanya', 'kazi', 'ya', 'Mungu', '.', \"''\", 'Maelezo', 'ya', 'picha', ',', 'Ndani', 'ya', 'pango', 'hilo', 'kuna', 'jiwe', 'lenye', 'umbo', 'la', 'mstatili', 'ambalo', 'limenukuliwa', 'amri', 'tano', 'Mwaka', '1979', ',', 'Francisco', 'alisitisha', 'shughuli', 'hiyo', 'na', 'akaenda', 'mjini', 'baada', 'ya', 'watu', 'kumcheka', 'na', 'kusema', 'kwamba', 'atakufa', 'bure', 'bila', 'boma', 'lake', 'kama', 'wanavyoamini', 'wanajamii', 'wake', 'kwamba', 'mwanamume', 'kamili', 'lazima', 'awe', 'na', 'mke', 'na', 'watoto', '.', '``', 'Nilienda', 'mjini', 'Eldoret', 'na', 'nikatafuta', 'kibarua', 'ambapo', 'nilipata', 'kazi', 'ya', 'ulinzi', '.', 'Pia', 'nikapata', 'mchumba', 'nikumuona', 'na', 'kwa', 'sasa', 'tumebarikiwa', 'na', 'watoto', 'wanne', '.', 'Tuliishi', 'mjini', 'kwa', 'miaka', '15', ',', 'kisha', 'nikaona', 'kwamba', 'ninapotea', ',', 'sababu', 'sikuwa', 'nimemaliza', 'kazi', 'niliyokuwa', 'nimepewa', '.', 'Hivyo', 'nikaamua', 'kurudi', 'na', 'kuendeleza', 'kazi', 'ambayo', 'nilikuwa', 'nimepewa', 'na', 'Mwenyezi', 'Mungu', '.', \"''\", 'Ndani', 'ya', 'pango', 'hilo', 'kuna', 'jiwe', 'lenye', 'umbo', 'la', 'mstatili', 'ambalo', 'limenukuliwa', 'amri', 'tano', 'kwa', 'wino', 'mweusi', 'na', 'ambazo', 'Francisco', 'anadai', 'alipewa', 'na', 'Mungu', 'mwezi', 'Juni', 'mwaka', 'huu', '.', 'Maelezo', 'ya', 'picha', ',', 'Amri', 'kumi', 'za', 'pango', 'la', 'mzee', 'Francis', \"'Niliamka\", 'siku', 'moja', 'asubuhi', ',', 'nilipofika', 'hapa', 'pangoni', 'nikapata', 'nakala', 'ya', 'amri', 'hizi', 'tano', 'zikiwa', 'hapa', 'chini', ',', 'na', 'nikajua', 'tu', 'ni', 'agano', 'ambalo', 'Yesu', 'Kristo', 'mwenyewe', 'aliahidi', 'kwamba', 'ataniletea', '.', 'Kwa', 'sababu', 'alisema', 'kwamba', 'amri', 'zile', 'ambazo', 'zilikuwa', 'za', 'Musa', 'watu', 'wameharibu', '.', \"''\", 'Amri', 'zenyewe', 'ni', 'hizi', '.', 'Umpende', 'Mungu', 'muumba', '.', 'Upende', 'Yesu', 'kwa', 'dunia', 'kufufuka', 'peke', 'yake', '.', 'Furahia', 'mwanaadamu', 'kwa', 'kutengeneza', 'pesa', '.', 'Kuna', 'kabila', 'mbili', 'duniani', ',', 'mke', 'na', 'mume', 'Abudu', 'Mungu', 'moja', 'dunia', 'moja', '.', 'Francisco', 'anadai', 'kwamba', 'bado', 'hajaonyeshwa', 'hatima', 'ya', 'vyumba', 'hivyo', 'na', 'anasubiri', 'maono', 'na', 'kwamba', 'kupatikana', 'Kwa', 'jiwe', 'hilo', 'la', 'agano', 'ni', 'hatua', 'ya', 'kwanza', '.', '``', 'Hatua', 'ya', 'pili', 'inakuja', '.', 'Na', 'hiyo', 'siwezi', 'kusema', 'kwa', 'sasa', 'na', 'nitangaze', 'eti', 'ni', 'moto', 'au', 'kitu', 'fulani…', 'Hiyo', 'nitakuwa', 'ninamdanganya', 'mwanadamu', '.', 'Kwa', 'hivyo', 'ninasubiri', 'ripoti', 'ya', 'mwisho', 'nitakayopatiwa', \"''\", 'Maelezo', 'ya', 'picha', ',', 'Francisco', 'anadai', 'kwamba', 'bado', 'hajaonyeshwa', 'hatima', 'ya', 'vyumba', 'hivyo', 'na', 'anasubiri', 'maono', 'Profesa', 'Chacha', 'Nyaigoti', 'ni', 'mwanasosholojianchini', 'Kenya', 'anachanganua', 'kisa', 'hiki', 'Kisayansi', '.', '``', 'Mungu', 'ni', 'muweza', 'na', 'anaweza', 'kuzungumza', 'na', 'binadamu', 'yeyote', '.', 'Lakini', 'wakati', 'mwingine', 'watu', 'hukurupuka', 'na', 'kujikuta', 'wakitenda', 'matendo', 'yasiyoambatana', 'na', 'utaratibu', 'wa', 'maisha', 'ya', 'kawaida', 'na', 'ili', 'kujieleza', 'wanasema', 'kwamba', 'ni', 'Mungu', 'amewaagiza', \"''\", 'anaeleza', 'Profesa', 'Chacha', '.', '``', 'Katika', 'kisa', 'kama', 'hiki', 'tunahitaji', 'kuzingatia', 'na', 'kutathmini', 'matendo', 'ya', 'miaka', 'kadhaa', 'ya', 'awali', 'ya', 'watu', 'kama', 'hawa', ',', 'utengamano', 'wao', 'na', 'watu', 'wengine', 'kijijini', 'na', 'kudadisi', 'iwapo', 'yanaafikiana', 'na', 'mtu', 'mwenye', 'akili', 'timamu', 'ama', 'anahitaji', 'msaada', 'kutoka', 'kwa', 'washauri', 'wa', 'matatizo', 'ya', 'kiakili', '.', 'Na', 'iwapo', 'itapatikana', 'kwamba', 'ni', 'matatizo', 'ya', 'kiakili', 'basi', 'kuna', 'tiba', '.', \"''\"]\n",
      "\n",
      " Number of Words:  784\n"
     ]
    }
   ],
   "source": [
    "file=\"21jan3.txt\"\n",
    "\n",
    "# calling the function and storing the contents in a text variable \n",
    "text = get_document(\"https://www.bbc.com/swahili/habari-50854448\")\n",
    "\n",
    "# calling the store_ document function \n",
    "store_document(doc=text,name=file)\n",
    "\n",
    "#add the words in this file to the total_corpus_words, to keep count of the number of words in the corpus\n",
    "total_corpus_words+=total_words(file)"
   ]
  },
  {
   "cell_type": "code",
   "execution_count": 258,
   "metadata": {},
   "outputs": [
    {
     "data": {
      "text/plain": [
       "389055"
      ]
     },
     "execution_count": 258,
     "metadata": {},
     "output_type": "execute_result"
    }
   ],
   "source": [
    "total_corpus_words"
   ]
  },
  {
   "cell_type": "code",
   "execution_count": 260,
   "metadata": {},
   "outputs": [
    {
     "name": "stdout",
     "output_type": "stream",
     "text": [
      "['Tanzania', 'yapiga', 'mnada', 'vitalu', '30', 'katika', 'hifadhi', 'ya', 'wanyama', 'Serikali', 'ya', 'Tanzania', 'imetangaza', 'kupiga', 'mnada', 'maeneo', '30', 'ya', 'kitalii', 'ya', 'uwindaji', 'yaliyopo', 'ndani', 'ya', 'hifadhi', 'ya', 'wanyama', 'pori', 'na', 'maeneo', 'mengine', '.', 'Mamlaka', 'ya', 'wanyama', 'pori', 'nchini', 'Tanzania', '(', 'TAWA', ')', 'inakaribisha', 'maombi', 'kwa', 'wale', 'wenye', 'vigezo', 'vya', 'kuweza', 'kununua', 'maeneo', 'yatakayofanyiwa', 'mnada', 'kwa', 'njia', 'ya', 'kielektroniki', '.', 'Tawa', 'imeweka', 'vigezo', 'ambavyo', 'makampuni', 'yanapaswa', 'kuzingatia', ',', 'ikiwa', 'ni', 'pamoja', 'na', 'kujisajili', 'kuwinda', 'nchini', 'humo', 'pamoja', 'na', 'kuwa', 'na', 'mkurugenzi', 'mmoja', 'mwenye', 'uzoefu', 'wa', 'miaka', 'mitano', 'kuhusu', 'biashara', 'ya', 'wanyama', 'pori', 'na', 'hifadhi', 'ya', 'wanyama', 'pori', 'nchini', 'humo', '.', '“', 'Makampuni', 'ya', 'uwindaji', 'yataweza', 'kupata', 'vitalu', 'vitano', 'kila', 'mmoja', 'katika', 'makundi', 'tofauti', '.', 'Mnada', 'huo', 'unatarajiwa', 'kufanyika', 'Februari', '08', ',', 'mwaka', '2021', 'na', 'utafanyika', 'kwa', 'muda', 'wa', 'siku', 'saba', '”', 'mamlaka', 'imeeleza', '.', 'Baadhi', 'ya', 'ya', 'vitalu', 'vitakavyouzwa', 'vipo', 'katika', 'hifadhi', 'ya', 'Selous', ',', 'mbuga', 'ambayo', 'imetajwa', 'na', 'shirika', 'la', 'umoja', 'wa', 'mataifa', 'la', 'Unesco', 'kuwa', 'ni', 'eneo', 'la', 'urithi', 'wa', 'dunia', '.', 'Utalii', 'ni', 'nguzo', 'muhimu', 'ya', 'uchumi', 'wa', 'Tanzania', '.', 'Serikali', 'iliweka', 'maeneo', '26', 'ya', 'uwindaji', ',', 'mtandaoni', 'kwa', 'ajili', 'ya', 'mnada', 'mwaka', '2019', 'ili', 'kuhakikisha', 'kkuwa', 'rushwa', 'inadhibitiwa', 'na', 'kunakuwa', 'na', 'uwazi', '.', 'Uchaguzi', 'Uganda', '2021', ':', 'Vyombo', 'vya', 'usalama', 'kutuma', 'vikosi', 'vyake', 'nchi', 'nzima', 'Getty', 'ImagesCopyright', ':', 'Getty', 'Images', 'Uganda', 'inatarajia', 'kufanya', 'uchaguzi', 'mkuu', 'wa', 'rais', 'na', 'wabunge', 'siku', 'ya', 'AlhamisiImage', 'caption', ':', 'Uganda', 'inatarajia', 'kufanya', 'uchaguzi', 'mkuu', 'wa', 'rais', 'na', 'wabunge', 'siku', 'ya', 'Alhamisi', 'Wakati', 'kampeni', 'zikielekea', 'ukingoni', 'hii', 'leo', ',', 'Vyombo', 'vya', 'usalama', 'nchini', 'Uganda', 'vimesema', 'kuwa', 'vitatuma', 'vikosi', 'vyake', 'katika', 'wilaya', 'zote', '39', 'nchini', 'humo', 'ili', 'kuhakikisha', 'kuwa', 'kuna', 'usalama', 'katika', 'maeneo', 'yote', 'ya', 'nchi', 'hiyo', '.', 'Tangazo', 'hilo', 'limekuja', 'ikiwa', 'ni', 'siku', 'ya', 'mwisho', 'ya', 'kampeni', 'za', 'uchaguzi', 'unaotarajiwa', 'kufanyika', 'siku', 'ya', 'Alhamisi', '.', 'Miezi', 'miwili', 'ya', 'kampeni', 'nchini', 'humo', 'imegubikwa', 'na', 'ghasia', 'na', 'kukamatwa', 'kwa', 'viongozi', 'wa', 'upinzani', 'pamoja', 'na', 'wafuasi', 'wao', '.', 'Polisi', 'wamesema', 'madumu', 'ya', 'mafuta', ',', 'magari', 'yanayobeba', 'mlipuko', 'na', 'magari', 'mengine', 'ya', 'mizigo', 'hayataruhusiwa', 'maeneo', 'ya', 'mji', 'mkuu', 'siku', 'ya', 'kupiga', 'kura', '.', 'Wanahofia', 'kuwa', 'vitu', 'kama', 'hivyo', 'vinaweza', 'kutumiwa', 'na', 'waandamanaji', 'kama', 'silaha', '.', 'Watu', 'hawataruhusiwa', 'kuegesha', 'magari', 'yao', 'barabarani', 'mjini', 'Kampala', '.', 'Wiki', 'iliyopita', ',', 'Mkuu', 'wa', 'polisi', 'wa', 'Uganda', 'Martin', 'Ochola', 'alitoa', 'angalizo', 'kwa', 'yeyote', 'atakayefanya', 'vurugu', 'wakati', 'wa', 'uchaguzi', 'atajuta', 'siku', 'aliyozaliwa', '.', 'Mwezi', 'Novemba', ',', 'ghasia', 'zilitokea', 'baada', 'ya', 'mgombea', 'urais', 'Bobi', 'Wine', 'kukamatwa', 'wakati', 'wa', 'kampeni', 'zake', '.', 'Wakenya', 'wakasirishwa', 'na', 'uteuzi', 'wa', 'Naomi', 'Campbell', 'kuwa', 'balozi', 'wa', 'utalii', 'Ministry', 'of', 'TourismCopyright', ':', 'Ministry', 'of', 'Tourism', 'Naomi', 'Campbell', 'alikutana', 'na', 'waziri', 'wa', 'utalii', 'wa', 'Kenya', 'Najib', 'BalalaImage', 'caption', ':', 'Naomi', 'Campbell', 'alikutana', 'na', 'waziri', 'wa', 'utalii', 'wa', 'Kenya', 'Najib', 'Balala', 'Wakenya', 'kupitia', 'mtandao', 'wa', 'Twitter', 'wameikosoa', 'wizara', 'ya', 'utalii', 'kwa', 'kumteua', 'mwanamitindo', 'wa', 'Uingereza', 'Naomi', 'Campbell', ',', 'badala', 'ya', 'kumteua', 'mkenya', ',', 'kama', 'balozi', 'wa', 'Kenya', 'wa', 'utalii', '.', 'Waziri', 'wa', 'utalii', 'Najib', 'Balala', 'katika', 'taarifa', 'yake', 'amesema', 'ilikuwa', 'ni', 'taarifa', 'ya', 'kufurahisha', 'katika', 'sekta', 'hiyo', '.', 'Bi', 'Campbell', 'alisifu', 'serikali', 'ya', 'Kenya', 'kwa', 'kuimarisha', 'miundombinu', 'katika', 'eneo', 'la', 'pwani', 'ikiwa', 'ni', 'pamoja', 'na', 'kuimarisha', 'uwanja', 'wa', 'ndege', 'wa', 'Malindi', 'kuwa', 'wa', 'hadhi', 'ya', 'kimataifa', 'na', 'kuongeza', 'kuwa', 'hatua', 'hiyo', 'itaimarisha', 'utalii', 'katika', 'eneo', 'hilo', '.', 'Lakini', 'baadhi', 'ya', 'Wakenya', 'wanahisi', 'cheo', 'cha', 'balozi', 'wa', 'utalii', 'kinapaswa', 'kutolewa', 'kwa', 'Mkenya', 'aliyeleta', 'mafanikio', 'kimataifa', 'kama', 'mchezaji', 'filamu', 'Lupita', 'Nyong', \"'\", 'o', 'au', 'mchekeshaji', 'Elsa', 'Majimbo', '.', '``', 'Ni', 'kwanini', 'Ajuma', 'Nasenyana', 'hakupaewa', 'nafasi', 'hiyo', 'na', 'ni', 'Mkenya', ',', 'kwanini', 'Lupita', 'hakupata', 'ofa', 'hiyo', 'na', 'ni', 'Mkenya', ',', 'Kwanini', 'Debra', 'Sanaipei', 'hakupata', 'nafasi', 'hiyo', 'na', 'niMkenya', '...', 'kigezo', 'gani', 'kilitumiwa', 'katika', 'uchaguzi', '?', 'Mtu', 'asiye', 'Mkenya', '?', \"''\", 'Syombua', 'Kibue', 'alitweet', '.', 'Malawi', 'yawapoteza', 'mawaziri', 'wawili', 'kutokana', 'na', 'corona', 'Malawi', 'imepata', 'pigo', 'kubwa', 'baada', 'ya', 'mawaziri', 'wake', 'wawili', 'kufariki', 'dunia', 'kutokana', 'na', 'Covid', '19', '.', 'Waziri', 'wa', 'habari', 'wa', 'Malawi', ',', 'Gospel', 'Kazako', 'amethibitisha', 'kuwa', 'mawaziri', 'hao', 'ambao', 'ni', 'Waziri', 'wa', 'serikali', 'za', 'mitaa', ',', 'Lingson', 'Belekanyama', 'na', 'Waziri', 'wa', 'uchukuzi', 'Sidik', 'Mia', 'wamefariki', 'ndani', 'ya', 'masaa', 'mawili', 'tofauti', '.', 'Mwishoni', 'mwa', 'juma', ',', 'rais', 'wa', 'nchi', 'hiyo', 'Lazarus', 'Chakwera', 'alitoa', 'hotuba', 'maalumu', 'kwa', 'njia', 'ya', 'radio', 'kwa', 'taifa', 'akitoa', 'wito', 'wa', 'kuheshimiwa', 'kwa', 'hatua', 'zilizowekwa', 'za', 'kupambana', 'na', 'maambukizi', 'ya', 'Covid', '19', 'kufuatia', 'ongezeko', 'kubwa', 'katika', 'vifo', 'na', 'maambukizi', 'ya', 'virusi', 'hivyo', '.', 'Bw', 'Chakwera', 'anatarajiwa', 'kutoa', 'hotuba', 'nyingine', 'kwa', 'taifa', 'baadae', 'leo', ',', 'kwa', 'mujibu', 'wa', 'Kazako', '.', 'Raia', 'wa', 'Senegal', 'wanaoishi', 'katika', 'mataifa', 'ya', 'kigeni', 'wamekuwa', 'wakimtafuta', 'kupitia', 'mitandao', 'ya', 'kijamii', '.', 'Watu', 'mashuhuri', 'wa', 'Ufaransa', 'ikiwa', 'ni', 'pamoja', 'na', 'mcheza', 'filamu', 'Omar', 'Sy', ',', 'wameshirikisha', 'umma', 'ombi', 'lao', 'la', 'kutafutwa', 'kwa', 'Bi', 'Sow', 'kupitia', 'mitandao', 'ya', 'Instagram', 'na', 'Twitter', '.', 'Wakati', 'wa', 'mkutano', 'huo', ',', 'Naomi', 'Campbell', 'alisifu', 'serikali', 'ya', 'Kenya', 'kwa', 'kuimarisha', 'miundombinu', 'katika', 'eneo', 'la', 'pwani', 'ikiwa', 'ni', 'pamoja', 'na', 'kuimarisha', 'uwanja', 'wa', 'ndege', 'wa', 'Malindi', 'kuwa', 'wa', 'hadhi', 'ya', 'kimataifa', 'na', 'kuongeza', 'kuwa', 'hatua', 'hiyo', 'itaimarisha', 'utalii', 'katika', 'eneo', 'hilo', '.', 'Mwanamitindo', 'huyo', 'maarufu', 'duniani', 'atasaidia', 'kuitangaza', 'Kenya', 'kama', 'eneo', 'ambalo', 'ni', 'kivutio', 'cha', 'utalii', 'duniani', '.', 'Bi', 'Campbell', 'amekuwa', 'akiwa', 'akitembelea', 'mara', 'kwa', 'mara', 'eneo', 'la', 'Malindi', 'kuvinjari', 'nyakati', 'za', 'mapumziko', 'yake', '.', 'Wizara', 'ya', 'Utalii', 'na', 'Wanyamapori', 'nchini', 'Kenya', 'ilishirikisha', 'umma', 'taarifa', 'ya', 'kuidhinishwa', 'kwa', 'Bi', 'Campell', 'kuwa', 'balozi', 'wa', 'Kenya', 'wa', 'Utalii', 'kwenye', 'ukurasa', 'wake', 'wa', 'twitter', ':', 'Je', 'Sultani', 'wa', 'mwisho', 'wa', 'Zanzibar', 'yuko', 'wapi', '?', 'Baada', 'ya', 'kuishi', 'mafichoni', 'hususan', 'nchini', 'Uingereza', 'Jamshid', 'bin', 'Abdullah', 'Al', 'Said', ',', 'aliyekuwa', 'sultani', 'wa', 'Zanzibar', ',', 'akiwa', 'ndio', 'Sultan', 'wa', 'mwisho', 'wa', 'masultani', 'waliotawala', 'miaka', '91', 'kisiwani', 'humo', 'kutoka', 'kwa', 'familia', 'ya', 'al', 'Busaid', ',', 'alihamia', 'katika', 'ufalme', 'wa', 'Oman', '...', 'Bonyeza', 'hapa', 'kusoma', 'zaidi', 'taarifa', 'hii', 'Raila', 'Odinga', 'ataka', 'urais', 'uwe', 'kwa', 'zamu', 'kwa', 'misingi', 'ya', 'kuponya', 'taifa', 'Kiongozi', 'wa', 'chama', 'cha', 'upinzani', 'nchini', 'Kenya', '–ODM', 'Raila', 'Odinga', 'ameunga', 'mkono', 'wito', 'wa', 'rais', 'wa', 'Kenya', 'Uhuru', 'Kenyatta', 'wa', 'kutaka', 'rais', 'ajaye', 'atoke', 'katika', 'jamii', 'tofauti', 'ambayo', 'haijawahi', 'kuongoza', '.', 'Akizungumza', 'na', 'kikundi', 'cha', 'vijana', 'Jumatatu', 'Bw', 'Raila', 'alisema', 'kuwa', 'urais', 'ni', 'sula', 'tata', 'kwani', 'Kenya', 'ni', 'taifa', 'lenye', 'makabila', 'mengi', '.', '“', 'Kama', 'mnavyofahamu', 'Kenya', 'ni', 'jamii', 'yenye', 'makabila', 'mengi', ',', 'na', 'kutokana', 'na', 'hili', 'tunalichukuliwa', 'kwa', 'umakini', 'kutokana', 'na', 'tofauti', 'za', 'kikabila', 'ambazo', 'tunazo', 'katika', 'nchi', 'yetu', ',', '”', 'alisema', 'Raila', '.', 'Mwishoni', 'mwa', 'Juma', 'Rais', 'Uhuru', 'Kenyatta', 'aliibua', 'mjadala', 'hususa', 'ni', 'katika', 'mitandao', 'ya', 'kijamii', 'nchini', 'Kenya', 'pale', 'aliposema', '‘', '’', 'Ni', 'makabila', 'mawili', 'tu', 'ambayo', 'yameiongoza', 'Kenya', 'tangu', 'uhuru', 'wake.Huenda', 'umefika', 'wakati', 'kwa', 'makabila', 'mengine', 'ambayo', 'hayajawahi', 'kuongoza', 'Kenya', 'kuongoza', '’', '’', '.', 'Akiunga', 'mkono', 'Kauli', 'ya', 'Rais', 'Kenyatta', ',', 'Bw', 'Raila', 'alisema', 'haoni', 'madhara', 'yoyote', 'kama', 'urais', 'utakuwa', 'ni', 'wa', 'zamu', ',', 'hususan', 'ni', 'pale', 'uteuzi', 'unapofanywa', 'na', 'rais', 'anayependelea', 'watu', 'kutoka', 'makabila/', 'jamii', 'nyingine', '.', 'Kiongozi', 'huyo', 'wa', 'ODM', 'anaamini', 'kama', 'urais', 'utakuwa', 'wa', 'zamu', 'taifa', 'linaweza', 'kupona', '.', 'Mgombea', 'wa', 'Urais', 'nchini', 'Uganda', 'Robert', 'Kyagulanyi', 'amelazimika', 'kukatiza', 'mahojiano', 'yake', 'na', 'radio', 'baada', 'ya', 'wanajeshi', 'kuvamia', 'nyumba', 'yake', 'mjini', 'Kampala', '.', 'Vyombo', 'vya', 'habari', 'nchini', 'Uganda', 'vinaripoti', 'kuwa', 'leo', 'asubuhi', 'wanajeshi', 'walizingira', 'nyumba', 'yake', ',', 'na', 'kuwakamata', 'walinzi', 'wake', 'wote', 'na', 'mtu', 'yeyote', 'waliyempata', 'katika', 'eneo', 'la', 'makazi', 'ya', 'mwanasiasa', 'huyo', 'wa', 'upinzani', '.', 'Wakati', 'haya', 'yakijiri', 'Rais', 'Yoweri', 'Museveni', 'ambaye', 'anawania', 'muhula', 'wa', 'sita', 'madarakani', 'anatarajiwa', 'kulihutubia', 'taifa', 'leo', 'kupitia', 'vyombo', 'vya', 'habari', 'vya', 'kitaifa', '.', 'Waganda', 'wanatarajia', 'kufanya', 'uchaguzi', 'wa', 'wabunge', 'na', 'rais', 'siku', 'ya', 'Alhamisi', '.', 'Kampeni', 'za', 'uchaguzi', 'nchini', 'Uganda', 'zimekuwa', 'zikigubikwa', 'na', 'gasia', 'zinazosababisha', 'mauaji', '.']\n",
      "\n",
      " Number of Words:  1212\n"
     ]
    }
   ],
   "source": [
    "file=\"21jan12.txt\"\n",
    "\n",
    "# calling the function and storing the contents in a text variable \n",
    "text = get_document(\"https://www.bbc.com/swahili/live/habari-55629421\")\n",
    "\n",
    "# calling the store_ document function \n",
    "store_document(doc=text,name=file)\n",
    "\n",
    "#add the words in this file to the total_corpus_words, to keep count of the number of words in the corpus\n",
    "total_corpus_words+=total_words(file)"
   ]
  },
  {
   "cell_type": "code",
   "execution_count": 261,
   "metadata": {},
   "outputs": [
    {
     "data": {
      "text/plain": [
       "390267"
      ]
     },
     "execution_count": 261,
     "metadata": {},
     "output_type": "execute_result"
    }
   ],
   "source": [
    "total_corpus_words"
   ]
  },
  {
   "cell_type": "code",
   "execution_count": 262,
   "metadata": {},
   "outputs": [
    {
     "name": "stdout",
     "output_type": "stream",
     "text": [
      "['Halima', 'Aden', ':', 'Hatua', 'niliyoichukua', 'imenifanya', 'kuwa', 'huru', 'zaidi', 'Mwanamitindo', 'wa', 'kwanza', 'Marekani', 'kuvaa', 'hijabu', 'Halima', 'Aden', ',', 'aliachana', 'na', 'fani', 'hiyo', 'mwezi', 'Novemba', 'akisema', 'kuwa', 'inaenda', 'kinyume', 'na', 'maadili', 'ya', 'dini', 'yake', 'ya', 'Kiislamu', '.', 'Akiwa', 'katika', 'mahojiano', 'na', 'mwandishi', 'wa', 'BBC', 'Sodaba', 'Haidare', '-', 'anaelezea', 'namna', 'alivyokuwa', 'mwanamitindo', ',', 'na', 'kilichomfanya', 'kuamua', 'kuiacha', '.', 'Halima', ',', '23', ',', 'anaishi', 'Minnesota', ',', 'alipokulia', 'akiwa', 'pamoja', 'na', 'raia', 'wengine', 'wenye', 'asili', 'ya', 'Somali', '.', 'Amevaa', 'nguo', 'za', 'kawaida', 'na', 'hajajipaka', 'vipodozi', 'huku', 'akimpapasa', 'mbwa', 'wake', ',', 'Coco', '.', '``', 'Mimi', 'ni', 'Halima', 'kutoka', 'Kakuma', ',', \"''\", 'anasema', ',', 'akirejelea', 'kambi', 'ya', 'wakimbizi', 'Kenya', ',', 'alipozaliwa', '.', 'Wengine', 'wamemuelezea', 'kama', 'mwenye', 'udhubutu', 'aliyekuwa', 'mwanamitindo', 'wa', 'kwanza', 'kuvaa', 'hijabu', 'na', 'kuangaziwa', 'katika', 'jarida', 'la', 'urembo', 'la', 'kimataifa', 'la', 'Uingereza', 'la', 'Vogue', '-', 'lakini', 'yote', 'hayo', 'aliyapa', 'kisogo', 'miezi', 'miwili', 'iliyopita', ',', 'akisema', 'fani', 'ya', 'uanamitindo', 'haikwendana', 'na', 'imani', 'yake', 'ya', 'Kiislamu', '.', '``', 'Hatua', 'niliyochukua', 'imenifanya', 'kuwa', 'huru', 'zaidi', 'katika', 'mahojiano', ',', \"''\", 'akiwa', 'anacheka', '.', '``', 'Kwasababu', 'sikutumia', 'saa', '10', 'kujitayarisha', ',', 'kuvaa', 'nguo', 'ambayo', 'sitakuwa', 'nayo', 'baada', 'ya', 'hapo', '.', \"''\", 'Mwanamitindo', 'huyo', ',', 'Halima', 'alikuwa', 'akichagua', 'nguo', 'za', 'kuvaa', '.', 'Mwanzoni', 'mwa', 'kazi', 'yake', ',', 'alikuwa', 'akibeba', 'begi', 'lililojaa', 'hijabu', ',', 'gauni', 'zake', 'ndefu', 'na', 'sketi', 'kila', 'anapokwenda', 'kupigwa', 'picha', '.', 'Alivaa', 'hijabu', 'yake', 'nyeusi', 'katika', 'kampeni', 'yake', 'ya', 'fesheni', 'ya', 'Rihanna', 'ya', 'Fenty', '.', 'Hata', 'hivyo', 'alikuwa', 'akivaa', 'gauni', 'lake', 'akiwa', 'na', 'hijab', 'kila', 'wakati', 'anapokuwa', 'kazini', '.', 'Hilo', 'halikuwa', 'na', 'mjadala', 'na', 'mwaka', '2017', 'aliposaini', 'mkataba', 'na', 'kampuni', 'ya', 'mitindo', 'ya', 'IMG', ',', 'moja', 'ya', 'kampuni', 'kubwa', 'za', 'urembo', 'duniani', 'akaongeza', 'kipengele', 'katika', 'mkataba', 'wake', 'cha', 'hijabu', 'na', 'kuifanya', 'kampuni', 'ya', 'IMG', 'kutokuwa', 'na', 'uwezo', 'wa', 'kuondoa', 'kipengee', 'hicho', '.', 'Hijabu', 'yake', 'ilikuwa', 'kila', 'kitu', 'maishani', 'mwake', '.', 'Chanzo', 'cha', 'picha', ',', 'Getty', 'Images', 'Maelezo', 'ya', 'picha', ',', 'Halima', 'akifanya', 'onesho', 'la', 'uanamitindo', 'na', 'kampuni', 'ya', 'Max', 'Mara', 'Februari', '2017', '``', 'Hawa', 'ni', 'wasichana', 'ambao', 'walitaka', 'kufanya', 'kila', 'kilichokwenye', 'uwezo', 'wao', 'kuwa', 'wanamitindo', ',', \"''\", 'anasema', ',', '``', 'lakini', 'nilikuwa', 'tayari', 'kuondoka', 'kwenye', 'kampuni', 'hiyo', 'iwapo', 'wangekataa', 'kipengee', 'hicho', '.', \"''\", 'Hiyo', 'ilikuwa', 'ni', 'licha', 'ya', 'kwamba', 'wakati', 'huo', 'hakuna', 'aliyekuwa', 'anamjua', '.', 'Lakini', 'kadiri', 'muda', 'ulivyokuwa', 'unazidi', 'kusonga', 'mbele', ',', 'alianza', 'kuwa', 'na', 'udhibiti', 'mdogo', 'wa', 'nguo', 'atakazo', 'vaa', 'na', 'akakubali', 'kuvaa', 'vitambaa', 'vya', 'kichwani', 'alivyokuwa', 'amevikataa', 'awali', '.', '``', 'Nilitekwa', 'na', 'kazi', 'yangu', 'na', 'ikafika', 'wakati', 'timu', 'niliyokuwa', 'nayo', 'ndio', 'ilikuwa', 'inachukua', 'jukumu', 'la', 'kunifunga', 'hijabu', '.', \"''\", 'Mwaka', 'wa', 'mwisho', 'wa', 'taaluma', 'yake', ',', 'hijabu', 'yake', 'iliendelea', 'kuwa', 'ndogo', 'kila', 'uchao', ',', 'wakati', 'mwingine', 'inazunguka', 'tu', 'kwenye', 'shingo', 'yake', 'na', 'kifuani', '.', 'Na', 'wakati', 'mwingine', 'badala', 'ya', 'hijabu', ',', 'alijifunga', 'kitambaa', 'cha', \"'jeans\", \"'\", 'na', 'aina', 'nyingine', 'ya', 'vitambaa', 'kuzunguka', 'shingo', 'yake', '.', 'Chanzo', 'cha', 'picha', ',', 'Getty', 'Images', 'Maelezo', 'ya', 'picha', ',', 'Akionesha', 'mitindo', 'ya', 'mavazi', 'akiwa', 'na', 'kampuni', 'ya', 'Tommy', 'Hilfiger', 'London', 'mwaka', '2020', 'Kipengele', 'kingine', 'cha', 'mkataba', 'wa', 'Halima', 'kilimwezesha', 'kuvalishwa', 'katika', 'sehemu', 'anayoikubali', 'yenye', 'faragha', '.', 'Lakini', 'haikupita', 'muda', 'mrefu', ',', 'akaanza', 'kuona', 'kwamba', 'wanamitindo', 'wengine', 'wanaovaa', 'hijabu', 'walikuwa', 'hawapewi', 'heshima', 'kama', 'anavyopewa', 'yeye', '.', '``', 'Hilo', 'lilinikera', 'na', 'nikaanza', 'kujiuliza', ',', 'hawa', 'wasichana', 'wananifuata', 'mimi', 'na', 'sasa', 'ni', 'kama', 'nimewatumbikiza', 'pabaya', '.', \"''\", 'Alitarajia', 'kuwa', 'watakao', 'mrithi', 'watapata', 'haki', 'sawa', 'kama', 'yeye', '.', '``', 'Wengi', 'wao', 'ni', 'vijana', 'wadogo', ',', 'inaweza', 'kuwa', 'tasnia', 'yenye', 'changamoto', '.', 'Hata', 'tafrija', 'tunazohudhuria', ',', 'kila', 'wakati', 'nilijiona', 'nikiwa', 'kama', 'dada', 'yao', 'mkubwa', 'na', 'nilikuwa', 'ninajikuta', 'namshika', 'mkono', 'mmoja', 'wa', 'wanamitindo', 'waliovaa', 'hijab', 'kwasababu', 'amezungukwa', 'na', 'kundi', 'la', 'wanaume', '.', \"'Hii\", 'haileti', 'picha', 'nzuri', ',', 'huyu', 'bado', 'ni', 'mtoto', '.', \"'\", 'Ningemtoa', 'na', 'nimuulize', 'alikuwa', 'na', 'nani', '.', \"''\", 'Chanzo', 'cha', 'picha', ',', 'Getty', 'Images', 'Maelezo', 'ya', 'picha', ',', 'Halima', 'Aden', 'Sehemu', 'ya', 'kujulikana', 'inayojitokeza', 'ni', 'historia', 'ya', 'Halima', 'ambaye', 'ni', 'msomali', '.', 'Akiwa', 'mtoto', 'katika', 'kambi', 'ya', 'Kakuma', ',', 'kaskazini', 'magharibi', 'mwa', 'Kenya', ',', 'alifunzwa', 'na', 'mama', 'yake', 'namna', 'ya', 'kufanya', 'kazi', 'kwa', 'bidii', 'na', 'kusaidia', 'wengine', '.', 'Na', 'hilo', 'likaendelea', 'hata', 'baada', 'ya', 'kuhamia', 'Minnesota', 'nchini', 'Marekani', ',', 'Halima', 'alipokuwa', 'na', 'umri', 'wa', 'miaka', 'saba', 'na', 'kuwa', 'sehemu', 'ya', 'jamii', 'kubwa', 'ya', 'Somali', 'nchini', 'Marekani', '.', 'Kulikuwa', 'na', 'tatizo', 'pale', 'Halima', 'alipotambuliwa', 'shuleni', 'kama', 'malkia', 'wa', 'uvaaji', 'hijabu', '.', 'Alijua', 'hilo', 'lingemkasirisha', 'mama', 'yake', 'ambaye', 'alitaka', 'azingatie', 'masomo', 'yake', '.', 'Uoga', 'wake', 'ulikuwa', 'sawa', '.', 'Mama', 'yake', 'Halima', 'alikataa', 'kufanya', 'tafrija', 'ya', 'kumkaribisha', 'malkia', 'nyumbani', 'kwao', '.', '``', 'Unatumia', 'muda', 'mwingi', 'kujishughulisha', 'na', 'rafiki', 'zako', 'na', 'mashindano', 'ya', 'uanamitindo', ',', \"''\", 'alisema', '.', 'Lakini', 'bado', 'Halima', 'alishiriki', 'mashindano', 'ya', 'urembo', 'ya', 'kumtafuta', 'Miss', 'Minnesota', 'USA', 'mwaka', '2016', '.', 'Alikuwa', 'mwanamitindo', 'wa', 'kwanza', 'aliyevaa', 'hijab', 'ambaye', 'ameingia', 'kwenye', 'nusu', 'fainali', '.', 'Chanzo', 'cha', 'picha', ',', 'Alamy', 'Maelezo', 'ya', 'picha', ',', 'Akishiriki', 'shindano', 'la', 'urembo', 'la', 'Miss', 'Minnesota', 'mwaka', '2016', 'Kama', 'haitoshi', ',', 'mama', 'yake', 'Halima', 'alipigwa', 'na', 'butwaa', 'zaidi', 'alipojua', 'kuwa', 'msichana', 'wake', 'anasomea', 'kuwa', 'mwanamitindo', 'fani', 'ambayo', 'mama', 'yake', 'alifikiria', 'inakwenda', 'kinyuma', 'na', 'imani', 'yake', 'ya', 'Kiislamu', '.', 'Hata', 'alipoanza', 'kushiriki', 'matamasha', 'mbalimbali', 'ya', 'urembo', 'kama', 'vile', 'Yeezy', 'na', 'Max', 'Mara', ',', 'au', 'kuwa', 'jaji', 'wa', 'Miss', 'USA', ',', 'bado', 'mama', 'yake', 'alisisita', '``', 'atafute', 'kazi', 'nyinge', \"''\", '.', 'Chanzo', 'cha', 'picha', ',', 'Getty', 'Images', 'Hitaji', 'lake', 'lilipoanza', 'kuongezeka', 'katika', 'tasnia', 'ya', 'mitindo', ',', 'alikuwa', 'na', 'muda', 'kidogo', 'sana', 'na', 'familia', 'yake', 'na', 'alikuwa', 'hapatikani', 'wakati', 'wa', 'matamasha', 'ya', 'Kiislamu', '.', '``', 'Mwaka', 'wa', 'kwanza', 'wa', 'taaluma', 'yangu', 'nilikuwa', 'nyumbani', 'wakati', 'wa', 'sikukuu', 'ya', 'Eid', 'na', 'Ramadan', 'lakini', 'katika', 'kipindi', 'cha', 'miaka', 'mitatu', 'iliyopita', ',', 'Nimekuwa', 'nikisafiri', 'tu', '.', 'Nilikuwa', 'ninapanda', 'karibu', 'ndege', 'sita', 'au', 'saba', 'kwa', 'wiki', ',', \"''\", 'anasema', '.', 'Halima', 'alinza', 'kuwa', 'na', 'mashaka', 'na', 'taaluma', 'yake', 'ya', 'uanamitindo', '.', 'Mwaka', '2019', ',', 'aliangaziwa', 'katika', 'jarida', 'la', 'King', 'Kong', 'akiwa', 'amevaa', 'nguo', 'nyekundu', 'na', 'macho', 'yake', 'yakiwa', 'yamepakwa', 'rangi', 'ya', 'kijani', 'na', 'kuvishwa', 'vito', 'vyenye', 'ukubwa', 'wa', 'ajabu', 'ambavyo', 'viliziba', 'kila', 'kitu', 'isipokuwa', 'mdomo', 'na', 'pua', '.', '``', 'Mtindo', 'wao', 'na', 'vipodozi', 'walivyotumia', 'vilikuwa', 'vinatisha', ',', \"''\", 'amesema', '.', 'Na', 'kilichomshangaza', 'zaidi', ',', 'alione', 'picha', 'ya', 'mwanaume', 'aliyekuwa', 'uchi', 'wa', 'mnyama', 'katika', 'suala', 'hilo', 'hilo', 'lake', '.', '``', 'Kwanini', 'jarida', 'hilo', 'lilifikiria', 'ni', 'sawa', 'kuwa', 'na', 'mwanamke', 'wa', 'Kiislamu', 'aliyevaa', 'hijabu', 'huku', 'mwanaume', 'aliyekuwa', 'uchi', 'wa', 'mnyama', 'akiwa', 'ukurasa', 'wa', 'pili', '?', \"''\", 'anauliza', '.', 'Ilienda', 'kinyume', 'na', 'kila', 'kitu', 'alichokuwa', 'anakiamini', '.', '``', 'Inasikitisha', 'kuona', 'Halima', 'anajuta', 'kufanya', 'kazi', 'na', 'sisi', 'na', 'kwamba', 'kulikuwa', 'na', 'picha', 'katika', 'suala', 'aliloshirikishwa', 'ambazo', 'yeye', 'mwenyewe', 'hakuzipenda', 'ingawa', 'hazikuwa', 'na', 'uhusiano', 'wowote', 'na', 'alichoangaziwa', 'yeye', ',', \"''\", 'kulingana', 'na', 'mkuu', 'wa', 'jarida', 'la', 'King', 'Kong', '.', 'Halima', 'anasema', 'alipoona', 'picha', 'yake', 'kwenye', 'ukurasa', 'wa', 'juu', 'wa', 'majarida', 'uwanja', 'wa', 'ndege', 'wakati', 'anasafiri', ',', 'ni', 'mara', 'chache', 'sana', 'angeweza', 'kujitambua', '.', 'Chanzo', 'cha', 'picha', ',', 'Alamy', '``', 'Hakukuwa', 'na', 'cha', 'kunifurahisha', 'kwasababu', 'sikuweza', 'kujiona', '.', 'Unajua', 'hilo', 'linaweza', 'kumtatiza', 'mtu', 'akili', 'kwa', 'kiasi', 'gani', '?', 'Ninapotakiwa', 'kuwa', 'na', 'furaha', 'kwasababu', 'hiyo', 'ni', 'picha', 'yangu', 'lakini', 'ilikuwa', 'kinyume', 'chake', \"''\", '.', '``', 'Taaluma', 'yangu', 'ilikuwa', 'juu', 'lakini', 'nilikuwa', 'ninatazika', 'akilini', '.', \"''\", 'Janga', 'la', 'virusi', 'vya', 'corona', 'vimebadilisha', 'mengi', '.', 'Ugonjwa', 'huo', 'umefanya', 'matamasha', 'ya', 'urembo', 'hayafanyiki', 'kama', 'ilivyokuwa', 'na', 'akaamua', 'kurejea', 'nyumbani', 'kwa', 'mama', 'yake', '.', 'Chanzo', 'cha', 'picha', ',', 'GILIANE', 'MANSFELDT', 'PHOTOGRAPHY', '``', 'Nilikuwa', 'nafikiria', 'vile', 'mwaka', '2021', 'utakavyokuwa', 'kwasababu', 'nilikuwa', 'nyumbani', 'tu', 'na', 'familia', 'yangu', 'na', 'rafiki', 'zangu', ',', \"''\", 'anasema', '.', 'Hayo', 'yote', 'yanaelezea', 'kwanini', 'aliamua', 'kuachana', 'na', 'uanamitindo', '.', 'Na', 'ndoto', 'ya', 'mama', 'yake', 'hatimaye', 'imetimia', '.', 'Alifurahishwa', 'sana', 'na', 'uamuzi', 'wa', 'binti', 'yake', 'wa', 'kuachana', 'na', 'uanamitindo', 'kiasi', 'kwamba', 'aliamua', 'kupiga']\n",
      "\n",
      " Number of Words:  1223\n"
     ]
    }
   ],
   "source": [
    "file=\"21jan14.txt\"\n",
    "\n",
    "# calling the function and storing the contents in a text variable \n",
    "text = get_document(\"https://www.bbc.com/swahili/habari-55661845\")\n",
    "\n",
    "# calling the store_ document function \n",
    "store_document(doc=text,name=file)\n",
    "\n",
    "#add the words in this file to the total_corpus_words, to keep count of the number of words in the corpus\n",
    "total_corpus_words+=total_words(file)"
   ]
  },
  {
   "cell_type": "code",
   "execution_count": 263,
   "metadata": {},
   "outputs": [
    {
     "data": {
      "text/plain": [
       "391490"
      ]
     },
     "execution_count": 263,
     "metadata": {},
     "output_type": "execute_result"
    }
   ],
   "source": [
    "total_corpus_words"
   ]
  },
  {
   "cell_type": "code",
   "execution_count": 264,
   "metadata": {},
   "outputs": [
    {
     "name": "stdout",
     "output_type": "stream",
     "text": [
      "['``', 'La', 'sifanyi', 'hivyo', ',', \"''\", 'alisisitiza', '.', '``', 'Lakini', 'raslimali', 'zenu', 'nyingi', 'zimepotea', 'kwa', 'ufisadi', 'na', 'hakuna', 'hata', 'afisa', 'mmoja', 'wa', 'ngazi', 'ya', 'juu', 'aliyekamatwa', 'kwa', 'uhalifu', 'huo', '.', \"''\", 'Chanzo', 'cha', 'picha', ',', 'AFP', 'Maelezo', 'ya', 'picha', ',', 'Rais', 'Trump', ',', 'akionekana', 'na', 'rais', 'Muhammadu', 'Buhari', 'wa', 'Nigeria', ',', 'kulibadilisha', 'mtanzamo', 'wa', 'Marekani', 'kwa', 'nchi', 'za', 'nje', 'Mwanahabari', 'Wahiga', 'Mwaura', 'alikuwa', 'miongoni', 'mwa', 'waliokuwa', 'wanasilikiliza', 'hotuba', 'yake', 'wakati', 'huo', ',', 'Marekani', 'ilikuwa', 'kweli', 'kielelezo', 'cha', 'demokrasia', 'na', 'utawala', 'wa', 'sheria', ',', 'nchi', 'yenye', 'uhuru', ',', 'ujasiri', 'na', 'chimbuko', 'la', 'ndoto', 'za', 'kutia', 'matumaini', '.', 'Rais', 'Donald', 'Trump', 'kupitia', 'sera', 'yake', 'ya', \"'Marekani\", 'Kwanza', \"'\", ',', 'aliweka', 'wazi', 'picha', 'tofauti', 'ya', 'Marekani', 'nje', 'ya', 'nchi', 'hiyo', '.', 'Lakini', 'pia', 'muonekano', 'huo', 'uliingia', 'doa', 'kupitia', 'matendo', 'na', 'maneno', 'yake', 'kama', 'vile', 'kupuuza', 'nchi', 'za', 'Afrika', 'kwa', 'kutumia', 'maneno', 'ambayo', 'yalionesha', 'dharau', '.', 'Na', 'ingawa', 'ofisi', 'ya', 'rais', 'inaweza', 'kutenganishwa', 'na', 'matendo', 'ya', 'mtu', 'binafsi', ',', 'Rais', 'Joe', 'Biden', 'atahitajika', 'kuwasiliana', 'na', 'Kenya', 'na', 'nchi', 'zingine', 'Afrika', 'kwa', 'kutumia', 'lugha', 'tofauti', 'kabisa', 'katika', 'kipindi', 'cha', 'miaka', 'minne', 'ijayo', '.', \"'Marekani\", 'sio', 'tena', 'mji', \"unaong'aa\", \"'\", 'Mifano', 'ambayo', 'Trump', 'alibadilisha', 'utaratibu', 'uliokuwepo', 'na', 'maono', 'ya', 'Marekani', 'ni', 'mengi', 'mno', '.', 'Lakini', 'mbali', 'na', 'kushindwa', 'kutoa', 'hadharani', 'ripoti', 'yake', 'inayoonesha', 'malipo', 'ya', 'kodi', 'ya', 'mapato', ',', 'kushusha', 'hadhi', 'ya', 'mashirika', 'ya', 'kijasusi', 'na', 'kuchanganya', 'wanasayansi', 'wakati', 'ambapo', 'dunia', 'inakabiliana', 'na', 'janga', 'la', 'virusi', 'vya', 'corona', ',', 'tukio', 'la', 'Januari', '6', ',', 'rais', 'alipochochea', 'wafuasi', 'wake', 'kuvamia', 'jengo', 'la', 'Bunge', 'Marekani', ',', 'Capitol', 'ilionesha', 'kwamba', 'kweli', 'amevuka', 'mpaka', '.', 'Chanzo', 'cha', 'picha', ',', 'Jim', 'Lo', 'Scalzo', '/', 'Getty', 'Images', 'Maelezo', 'ya', 'picha', ',', 'Rais', 'Joe', 'Biden', 'alianza', 'kazi', 'punde', 'tu', 'baada', 'ya', 'kuapishwa', 'rasmi', 'kama', 'rais', 'wa', 'Marekani', 'Marekani', 'haukuwa', 'tena', 'mji', \"unaong'aa\", '.', 'Watu', 'watano', 'walifariki', 'dunia', 'huku', 'waandamanaji', 'wakijaribu', 'kusitisha', 'vikao', 'vya', 'pamoja', 'vya', 'Bunge', 'kuidhinisha', 'ushindi', 'wa', 'Biden', ',', 'na', 'kusababisha', 'madai', 'ya', 'kuwa', 'rais', 'aliyeondoka', 'madarakani', 'alikuwa', 'anatekeleza', 'jaribio', 'la', 'mapinduzi', '.', 'Dunia', 'ilitazama', 'kwa', 'hofu', 'kwasababu', 'kile', 'walichoshuhudia', '-', 'niseme', 'pengine', '-', 'kilikuwa', 'kimezoeleka', 'kuonekana', 'katika', 'nchi', 'ambazo', 'bado', 'demokrasia', 'yao', 'iko', 'chini', 'lakini', 'wakati', 'huu', 'walikishuhudia', 'mbele', 'ya', 'macho', 'yao', '.', 'Wahariri', 'wa', 'magazeti', 'nchini', 'Kenya', 'hawakuwa', 'peke', 'yao', 'wakielezea', 'tukio', 'hilo', 'kama', '``', 'vurugu', \"''\", 'na', '``', 'aibu', \"''\", '-', 'na', 'kumuita', 'Bwana', 'Trump', '``', 'aliyejifedhehesha', \"''\", '.', 'Huwezi', 'kusikiliza', 'tena', 'Maelezo', 'ya', 'video', ',', 'Uchaguzi', 'wa', 'Marekani', '2020', ':', 'Tazama', 'jinsi', 'waandamanaji', 'walivyovamia', 'bunge', 'Marekani', 'Na', 'maneno', 'kama', '``', 'taifa', 'lililo', 'feli', \"''\", 'na', '``', 'demokrasia', 'iliyo', 'hatarini', \"''\", 'yakaelekezwa', 'kwa', 'Marekani', '.', 'Bwana', 'Biden', 'anaingia', 'Ikulu', 'akifahamu', 'fika', 'kuwa', 'dunia', 'haina', 'tena', 'heshima', 'kwa', 'Marekani', 'vile', 'ilivyokuwa', 'nayo', '.', 'Na', 'hilo', 'huenda', 'likawa', 'na', 'athari', 'zake', 'katika', 'uongozi', 'kote', 'barani', '.', 'Marais', 'hawaichukulii', 'tena', 'Marekani', 'kwa', 'heshima', 'na', 'taadhima', 'kuu', 'na', 'itakuwa', 'rahisi', 'kwao', 'kutupilia', 'mbali', 'wasiwasi', 'wowote', 'utakaoibuliwa', 'na', 'nchi', 'hiyo', 'juu', 'ya', 'demokrasia', '.', 'Katika', 'mahojiano', 'na', 'kituo', 'cha', 'Channel', '4', 'nchini', 'Uganda', ',', 'Bwana', 'Museveni', 'alisema', 'kukakamatwa', 'kwa', 'waandamanaji', 'nchini', 'humo', 'kulilenga', 'kuzuia', 'matukio', 'sawa', 'na', 'yaliyotokea', 'Marekani', '``', 'Rais', 'Biden', 'anaweza', 'kujua', 'mtu', 'anavyohisi', 'kuishi', 'katika', 'nchi', 'ambayo', 'viongozi', 'fulani', 'wanaweza', 'tu', 'kuharibu', 'utamaduni', 'na', 'desturi', 'ambayo', 'imekuwepo', \"''\", ',', 'amesema', 'Waihiga', 'Mwaura', '.', 'Upande', 'wa', 'jeshi', ',', 'kwa', 'miaka', 'mingi', ',', 'Marekani', 'imekuwa', 'ikielezewa', 'kama', 'mlinzi', 'wa', 'dunia', 'nzima', 'na', 'linapokuja', 'suala', 'la', 'kanuni', 'za', 'demokrasia', 'pia', 'imekuwa', 'ikichukuliwa', 'kama', 'nchini', 'iliyobobea', 'katika', 'hilo', '.', 'Lakini', 'je', 'sasa', 'hivi', ',', 'mavuguvugu', 'ya', 'upinzani', 'na', 'makundi', 'ya', 'mashirika', 'ya', 'kiraia', 'yanaweza', 'kutegemea', 'Marekani', 'iwaunge', 'mkono', 'utakapowadia', 'wakati', 'wa', 'uchaguzi', '?', 'Mgombea', 'urais', 'wa', 'upinzani', 'katika', 'uchaguzi', 'wa', 'Uganda', 'Bobi', 'Wine', 'alitoa', 'wito', 'kwa', 'Marekani', 'kuwajibisha', 'serikali', 'kwa', 'yaliyotokea', 'wakati', 'na', 'baada', 'ya', 'uchaguzi', 'lakini', 'wengine', 'wanajiuliza', 'kama', 'kweli', 'hilo', 'lingetekelezeka', '.', 'Usalama', 'uliimarishwa', 'sana', 'na', 'mabadilishano', 'ya', 'madaraka', 'kukashuhudiwa', 'kwa', 'njia', 'ya', 'amani', 'nchini', 'Marekani', ',', 'na', 'bunge', 'kurejelea', 'shuhuli', 'zake', 'lakini', 'limesisitiza', 'umuhimu', 'wa', 'kuwa', 'na', 'taasisi', 'zenye', 'uwezo', 'madhubuti', 'zaidi', 'ya', 'nguvu', 'aliyonayo', 'mtu', 'mmoja', '.', 'Hata', 'hivyo', ',', 'ukweli', 'ni', 'kwamba', ',', 'sasa', 'hivi', 'Joe', 'Biden', 'atahitajika', 'kuwa', 'makini', 'sana', 'linapokuja', 'suala', 'la', 'uhusiano', 'kati', 'ya', 'Afrika', 'na', 'Marekani', 'na', 'pia', 'atalazimika', 'kupima', 'ni', 'ushauri', 'gani', 'anaotoa', '.']\n",
      "\n",
      " Number of Words:  680\n"
     ]
    }
   ],
   "source": [
    "file=\"21jan24.txt\"\n",
    "\n",
    "# calling the function and storing the contents in a text variable \n",
    "text = get_document(\"https://www.bbc.com/swahili/habari-55785958\")\n",
    "\n",
    "# calling the store_ document function \n",
    "store_document(doc=text,name=file)\n",
    "\n",
    "#add the words in this file to the total_corpus_words, to keep count of the number of words in the corpus\n",
    "total_corpus_words+=total_words(file)"
   ]
  },
  {
   "cell_type": "code",
   "execution_count": 265,
   "metadata": {},
   "outputs": [
    {
     "data": {
      "text/plain": [
       "392170"
      ]
     },
     "execution_count": 265,
     "metadata": {},
     "output_type": "execute_result"
    }
   ],
   "source": [
    "total_corpus_words"
   ]
  },
  {
   "cell_type": "code",
   "execution_count": 267,
   "metadata": {},
   "outputs": [
    {
     "name": "stdout",
     "output_type": "stream",
     "text": [
      "['Waridi', 'wa', 'BBC', ':', 'Mwanamke', 'aliyeamua', 'kuacha', 'kazi', 'ya', 'benki', 'na', 'kuanza', 'kujenga', 'misuli', 'Anne', 'Ngugi', 'BBC', 'Swahili', '27', 'Januari', '2021', 'Chanzo', 'cha', 'picha', ',', 'Everlyn', 'Okinyi', 'Owala', 'Maelezo', 'ya', 'picha', ',', 'Ukimuona', 'mwanamke', 'huyo', 'inawezekana', 'ukamtazama', 'tena', 'kwa', 'jinsi', 'alivyojaza', 'misuli', 'kama', 'mwanaume', 'Ulimwengu', 'wa', 'bi', '.', 'Everlyn', 'Okinyi', 'Owala', ',', 'uko', 'tofauti', 'sana', 'na', 'wanawake', 'wengine', '.', 'Hii', 'ni', 'kutokana', 'na', 'muonekano', 'wake', 'na', 'msukumo', 'alionao', 'kuhusu', 'kujenga', 'misuli', 'ya', 'umbo', 'lake', ',', 'na', 'kuwahamasisha', 'wanawake', 'wengine', 'wanaopenda', 'kuwa', 'na', 'muonekano', 'kama', 'wake', '.', 'Ukimuona', 'mwanamke', 'huyo', 'inawezekana', 'ukamtazama', 'tena', 'kwa', 'jinsi', 'alivyojaza', 'misuli', 'kama', 'mwanaume', '.', 'Lakini', 'je', 'alifanya', 'nini', 'kupata', 'muonekano', 'huo', 'Hili', 'si', 'jambo', 'rahisi', ',', 'bi', '.', 'Everlyn', 'ametumia', 'takribani', 'miaka', 'tisa', 'kupata', 'muonekano', 'alionao', 'kwa', 'sasa', 'unaomfanya', 'kuwa', 'mwanamke', 'mwenye', 'umbo', 'la', 'kipekee', '.', 'Hali', 'hii', 'ilianza', 'aje', '?', 'Chanzo', 'cha', 'picha', ',', 'Everlyn', 'Okinyi', 'Owala', 'Miaka', 'mitano', 'kabla', 'ya', 'kuajiriwa', 'kwenye', 'benki', ',', 'alikuwa', 'ni', 'mwalimu', 'wa', 'somo', 'la', 'kiingereza', 'na', 'somo', 'la', 'hisabati', 'katika', 'shule', 'ya', 'sekondari', 'nchini', 'Kenya', '.', 'Mwaka', '2012', ',', 'Everlyn', 'alikuwa', 'naibu', 'meneja', 'katika', 'benki', 'moja', 'nchini', 'Kenya', ',', 'aligundua', 'kuwa', 'ameanza', 'kuongezeka', 'uzito', ',', 'na', 'kama', 'ilivyo', 'kwa', 'wanawake', 'wengi', 'baada', 'ya', 'kujifungua', 'huwa', 'wanaongezeka', 'mwili', 'na', 'hivyo', 'huamua', 'kuanza', 'kufanya', 'mazoezi', '.', '``', 'Niliamua', 'kuanza', 'mazoezi', 'ili', 'kupungua', ',', 'nilianza', 'kwa', 'kwenda', 'kwenye', 'nyumba', 'za', 'mazoezi', '(', 'Gym', ')', '``', 'Eve', 'anaeleza', '.', 'Alianza', 'kunyanyua', 'vyuma', 'vyenye', 'uzito', 'mdogo', 'lakini', 'kadri', 'siku', 'zinavyozidi', 'kwenda', 'akawa', 'anabeba', 'vyuma', 'vyenye', 'uzito', 'wa', 'juu', 'zaidi', '.', 'Kinachostaajabisha', 'kwa', 'mwanamke', 'huyu', 'aliamua', 'kufanya', 'uamuzi', 'ambao', 'sio', 'wa', 'kawaida', 'wa', 'kuacha', 'kazi', 'yake', 'benki', 'na', 'muda', 'huo', 'kutumia', 'kufanya', 'mazoezi', 'ya', 'kujenga', 'misuli', '.', '``', 'Nilipata', 'ari', 'ya', 'kuwasidia', 'watu', 'wengine', 'hasa', 'wanawake', 'kupunguza', 'uzito', 'na', 'kuwa', 'na', 'muonekano', 'kama', 'wangu', ',', \"''\", 'anasema', 'Eve', '.', 'Awali', ',', 'Eve', 'alikuwa', 'mwalimu', 'kipindi', 'cha', 'miaka', 'mitano', 'kabla', 'ya', 'kuanza', 'kufanya', 'kazi', 'benki', ',', 'ambako', 'alifanya', 'kazi', 'kwa', 'miaka', 'kumi', '.', 'Baada', 'ya', 'kuacha', 'kazi', 'benki', ',', 'maisha', 'yalibadilika', 'vipi', '?', 'Chanzo', 'cha', 'picha', ',', 'Everlyn', 'Okinyi', 'Owala', 'Eve', 'anaeleza', 'maisha', 'yake', 'mapya', 'yanamfanya', 'kuwa', 'na', 'amani', 'na', 'furaha', '.', 'Alianza', 'kwa', 'kumsaidia', 'aliyekuwa', 'meneja', 'wake', 'wa', 'zamani', 'ambaye', 'alikuwa', 'mnene', '.', 'Na', 'kadri', 'siku', 'zilivyoenda', 'alizidi', 'kupata', 'wateja', 'wengi', 'haswa', 'wanawake', '.', 'Akiendelea', 'na', 'kazi', 'ya', 'kuwafanyisha', 'watu', 'mazoezi', ',', 'aliingia', 'kwenye', 'mashindano', 'ya', 'unene', 'wa', 'misuli', 'kwa', 'upande', 'wa', 'wanawake', '.', 'Mwaka', '2016', 'alishinda', 'taji', 'la', 'mwanamke', 'mwenye', 'umbo', 'zuri', 'nchini', 'Kenya', \"'Miss\", 'Figure', 'Kenya', \"'\", '.', 'Chanzo', 'cha', 'picha', ',', 'Everlyn', 'Okinyi', 'Owala', 'Mnamo', 'mwaka', '2019', ',', 'huko', 'nchini', 'Afrika', 'Kusini', 'alishinda', 'mataji', 'mawili', 'ya', 'kimataifa', 'ya', 'mwanamke', 'mwenye', 'misuli', 'mikubwa', '.', 'Eve', 'anasema', 'mataji', 'hayo', 'yalimpa', 'motisha', 'kuendeleza', 'taaluma', 'yake', '.', 'Changamoto', 'za', 'kazi', 'Kwa', 'kuwa', 'hali', 'ya', 'kuwa', 'na', 'misuli', 'huonekana', 'kuwa', 'jambo', 'la', 'kawaida', 'kwa', 'wanaume', ',', 'hatua', 'yake', 'kama', 'mwanamke', 'kujitokeza', 'waziwazi', 'inamfanya', 'kuonekana', 'mtu', 'tofauti', '.', 'Changamoto', 'nyingine', 'ilikuwa', 'kipindi', 'alipoanza', 'mashindano', 'ya', 'misuli', ',', 'wazazi', 'wake', 'walikuwa', 'na', 'wasiwasi', 'juu', 'ya', 'kazi', 'hiyo', 'kutokana', 'na', 'mavazi', 'ambayo', 'yanavaliwa', 'ili', 'kuonesha', 'misuli', 'Chanzo', 'cha', 'picha', ',', 'Everlyn', 'Okinyi', 'Owala', 'Maelezo', 'ya', 'picha', ',', 'Kwa', 'kuwa', 'hali', 'ya', 'kuwa', 'na', 'misuli', 'huonekana', 'kuwa', 'jambo', 'la', 'kawaida', 'kwa', 'wanaume', ',', 'hatua', 'yake', 'kama', 'mwanamke', 'kujitokeza', 'waziwazi', 'inamfanya', 'kuonekana', 'mtu', 'tofauti', '.', '``', 'Baada', 'ya', 'kushinda', 'taji', 'la', 'Miss', 'figure', 'picha', 'iliyochapishwa', 'kwenye', 'magazeti', 'ilinionesha', 'nikiwa', 'nimevalia', 'kama', 'muogeleaji', 'na', 'hivyo', 'kuonesha', 'sehemu', 'kubwa', 'ya', 'mwili', 'wangu', 'kuwa', 'wazi', '.', 'Baba', 'alinipigia', 'simu', 'na', 'kuniuliza', 'iwapo', 'siku', 'hizi', 'niliamua', 'kuonesha', 'uchi', 'wangu', 'kwa', 'ulimwengu', '-', 'ilinichukua', 'muda', 'wa', 'miezi', 'sita', 'kumfafanulia', 'kazi', 'ninayofanya', 'na', 'maana', 'ya', 'ile', 'picha', \"''\", 'anakumbuka', 'Eve', '.', 'Lakini', 'kwa', 'sasa', 'Eve', 'anasema', 'kuwa', 'wazazi', 'wake', 'wameelewa', 'kazi', 'anazofanya', 'hasa', 'katika', 'kuimarisha', 'afya', 'ya', 'binadamu', '.']\n",
      "\n",
      " Number of Words:  613\n"
     ]
    }
   ],
   "source": [
    "file=\"21jan27.txt\"\n",
    "\n",
    "# calling the function and storing the contents in a text variable \n",
    "text = get_document(\"https://www.bbc.com/swahili/habari-55816072\")\n",
    "\n",
    "# calling the store_ document function \n",
    "store_document(doc=text,name=file)\n",
    "\n",
    "#add the words in this file to the total_corpus_words, to keep count of the number of words in the corpus\n",
    "total_corpus_words+=total_words(file)"
   ]
  },
  {
   "cell_type": "code",
   "execution_count": 268,
   "metadata": {},
   "outputs": [
    {
     "data": {
      "text/plain": [
       "392783"
      ]
     },
     "execution_count": 268,
     "metadata": {},
     "output_type": "execute_result"
    }
   ],
   "source": [
    "total_corpus_words"
   ]
  },
  {
   "cell_type": "code",
   "execution_count": null,
   "metadata": {},
   "outputs": [],
   "source": []
  },
  {
   "cell_type": "code",
   "execution_count": null,
   "metadata": {},
   "outputs": [],
   "source": []
  },
  {
   "cell_type": "code",
   "execution_count": null,
   "metadata": {},
   "outputs": [],
   "source": []
  },
  {
   "cell_type": "code",
   "execution_count": null,
   "metadata": {},
   "outputs": [],
   "source": []
  },
  {
   "cell_type": "code",
   "execution_count": null,
   "metadata": {},
   "outputs": [],
   "source": []
  },
  {
   "cell_type": "code",
   "execution_count": null,
   "metadata": {},
   "outputs": [],
   "source": []
  },
  {
   "cell_type": "code",
   "execution_count": null,
   "metadata": {},
   "outputs": [],
   "source": []
  },
  {
   "cell_type": "code",
   "execution_count": null,
   "metadata": {},
   "outputs": [],
   "source": []
  },
  {
   "cell_type": "code",
   "execution_count": null,
   "metadata": {},
   "outputs": [],
   "source": []
  },
  {
   "cell_type": "code",
   "execution_count": null,
   "metadata": {},
   "outputs": [],
   "source": []
  },
  {
   "cell_type": "code",
   "execution_count": null,
   "metadata": {},
   "outputs": [],
   "source": []
  },
  {
   "cell_type": "code",
   "execution_count": null,
   "metadata": {},
   "outputs": [],
   "source": []
  },
  {
   "cell_type": "code",
   "execution_count": null,
   "metadata": {},
   "outputs": [],
   "source": []
  },
  {
   "cell_type": "code",
   "execution_count": null,
   "metadata": {},
   "outputs": [],
   "source": []
  },
  {
   "cell_type": "code",
   "execution_count": null,
   "metadata": {},
   "outputs": [],
   "source": []
  },
  {
   "cell_type": "code",
   "execution_count": null,
   "metadata": {},
   "outputs": [],
   "source": []
  },
  {
   "cell_type": "code",
   "execution_count": null,
   "metadata": {},
   "outputs": [],
   "source": []
  }
 ],
 "metadata": {
  "kernelspec": {
   "display_name": "Python 3",
   "language": "python",
   "name": "python3"
  },
  "language_info": {
   "codemirror_mode": {
    "name": "ipython",
    "version": 3
   },
   "file_extension": ".py",
   "mimetype": "text/x-python",
   "name": "python",
   "nbconvert_exporter": "python",
   "pygments_lexer": "ipython3",
   "version": "3.8.3"
  }
 },
 "nbformat": 4,
 "nbformat_minor": 4
}
