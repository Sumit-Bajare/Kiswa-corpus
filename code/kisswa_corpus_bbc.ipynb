{
 "cells": [
  {
   "cell_type": "code",
   "execution_count": 4,
   "metadata": {},
   "outputs": [],
   "source": [
    "# Importing the required Libraries and packages\n",
    "import pandas as pd \n",
    "import numpy as np\n",
    "import seaborn as sns\n",
    "import matplotlib.pyplot as plt\n",
    "import os\n",
    "from nltk import word_tokenize\n",
    "import string\n",
    "import re\n",
    "import nltk"
   ]
  },
  {
   "cell_type": "code",
   "execution_count": 5,
   "metadata": {},
   "outputs": [],
   "source": [
    "from nltk.tokenize import sent_tokenize, word_tokenize"
   ]
  },
  {
   "cell_type": "code",
   "execution_count": 3,
   "metadata": {},
   "outputs": [
    {
     "name": "stderr",
     "output_type": "stream",
     "text": [
      "[nltk_data] Downloading package punkt to\n",
      "[nltk_data]     /Users/sumitbajare/nltk_data...\n",
      "[nltk_data]   Package punkt is already up-to-date!\n"
     ]
    },
    {
     "data": {
      "text/plain": [
       "True"
      ]
     },
     "execution_count": 3,
     "metadata": {},
     "output_type": "execute_result"
    }
   ],
   "source": [
    "nltk.download('punkt')"
   ]
  },
  {
   "cell_type": "code",
   "execution_count": 4,
   "metadata": {},
   "outputs": [
    {
     "data": {
      "text/html": [
       "<div>\n",
       "<style scoped>\n",
       "    .dataframe tbody tr th:only-of-type {\n",
       "        vertical-align: middle;\n",
       "    }\n",
       "\n",
       "    .dataframe tbody tr th {\n",
       "        vertical-align: top;\n",
       "    }\n",
       "\n",
       "    .dataframe thead th {\n",
       "        text-align: right;\n",
       "    }\n",
       "</style>\n",
       "<table border=\"1\" class=\"dataframe\">\n",
       "  <thead>\n",
       "    <tr style=\"text-align: right;\">\n",
       "      <th></th>\n",
       "      <th>date</th>\n",
       "      <th>id</th>\n",
       "      <th>news_heading_eng</th>\n",
       "      <th>news_heading_swa</th>\n",
       "      <th>news_type</th>\n",
       "    </tr>\n",
       "  </thead>\n",
       "  <tbody>\n",
       "    <tr>\n",
       "      <th>0</th>\n",
       "      <td>2020-08-17</td>\n",
       "      <td>bbc352</td>\n",
       "      <td>9-year-old designer stephen wamukota will be f...</td>\n",
       "      <td>mbunifu stephen wamukota mwenye umri wa miaka ...</td>\n",
       "      <td>Local News</td>\n",
       "    </tr>\n",
       "    <tr>\n",
       "      <th>1</th>\n",
       "      <td>2020-09-16</td>\n",
       "      <td>bbc371</td>\n",
       "      <td>county governments in kenya have been ordered ...</td>\n",
       "      <td>serikali za kaunti nchini kenya zimeagizwa kuw...</td>\n",
       "      <td>Local News</td>\n",
       "    </tr>\n",
       "    <tr>\n",
       "      <th>2</th>\n",
       "      <td>2020-03-08</td>\n",
       "      <td>bbc182</td>\n",
       "      <td>terrorism somalia : al-shabab commander bashir...</td>\n",
       "      <td>ugaidi somalia : kamanda wa al-shabab bashir m...</td>\n",
       "      <td>International news</td>\n",
       "    </tr>\n",
       "    <tr>\n",
       "      <th>3</th>\n",
       "      <td>2019-11-04</td>\n",
       "      <td>bbc72</td>\n",
       "      <td>the chief justice of kenya says he is being pl...</td>\n",
       "      <td>jaji mkuu wa kenya anasema anapangwa na kutish...</td>\n",
       "      <td>Local News</td>\n",
       "    </tr>\n",
       "    <tr>\n",
       "      <th>4</th>\n",
       "      <td>2020-10-15</td>\n",
       "      <td>bbc395</td>\n",
       "      <td>tanzanian government to use aircraft to put ou...</td>\n",
       "      <td>serikali ya tanzania kutumia ndege kuzima moto...</td>\n",
       "      <td>Local News</td>\n",
       "    </tr>\n",
       "  </tbody>\n",
       "</table>\n",
       "</div>"
      ],
      "text/plain": [
       "         date      id                                   news_heading_eng  \\\n",
       "0  2020-08-17  bbc352  9-year-old designer stephen wamukota will be f...   \n",
       "1  2020-09-16  bbc371  county governments in kenya have been ordered ...   \n",
       "2  2020-03-08  bbc182  terrorism somalia : al-shabab commander bashir...   \n",
       "3  2019-11-04   bbc72  the chief justice of kenya says he is being pl...   \n",
       "4  2020-10-15  bbc395  tanzanian government to use aircraft to put ou...   \n",
       "\n",
       "                                    news_heading_swa           news_type  \n",
       "0  mbunifu stephen wamukota mwenye umri wa miaka ...          Local News  \n",
       "1  serikali za kaunti nchini kenya zimeagizwa kuw...          Local News  \n",
       "2  ugaidi somalia : kamanda wa al-shabab bashir m...  International news  \n",
       "3  jaji mkuu wa kenya anasema anapangwa na kutish...          Local News  \n",
       "4  serikali ya tanzania kutumia ndege kuzima moto...          Local News  "
      ]
     },
     "execution_count": 4,
     "metadata": {},
     "output_type": "execute_result"
    }
   ],
   "source": [
    "# Loading the BBC Train dataset for processing\n",
    "data = pd.read_csv(\"data/bbc_train.csv\")\n",
    "# preview the top 5 rows of the dataset\n",
    "data.head()"
   ]
  },
  {
   "cell_type": "markdown",
   "metadata": {},
   "source": [
    "##### This data has already been cleaned and processed"
   ]
  },
  {
   "cell_type": "code",
   "execution_count": 5,
   "metadata": {},
   "outputs": [
    {
     "data": {
      "text/plain": [
       "(595, 5)"
      ]
     },
     "execution_count": 5,
     "metadata": {},
     "output_type": "execute_result"
    }
   ],
   "source": [
    "data.shape"
   ]
  },
  {
   "cell_type": "code",
   "execution_count": 6,
   "metadata": {},
   "outputs": [],
   "source": [
    "# function to clean text\n",
    "def clean_text(sentence):\n",
    "    '''\n",
    "        function to clean content column, make it ready for transformation and modeling\n",
    "    '''\n",
    "    sentence = sentence.lower()                #convert text to lower-case\n",
    "    sentence = re.sub('[‘’“”…,]', '', sentence) # remove punctuation\n",
    "    sentence = re.sub('[()]', '', sentence)  #remove parentheses\n",
    "    sentence = word_tokenize(sentence)      # remove repeated characters (tanzaniaaaaaaaa to tanzania)\n",
    "    \n",
    "    return ' '.join(sentence)"
   ]
  },
  {
   "cell_type": "markdown",
   "metadata": {},
   "source": [
    "# Splitting the Data into Training set & Validation set"
   ]
  },
  {
   "cell_type": "code",
   "execution_count": 7,
   "metadata": {},
   "outputs": [],
   "source": [
    "data = data.astype(str)"
   ]
  },
  {
   "cell_type": "code",
   "execution_count": 8,
   "metadata": {},
   "outputs": [
    {
     "data": {
      "text/plain": [
       "(530, 65)"
      ]
     },
     "execution_count": 8,
     "metadata": {},
     "output_type": "execute_result"
    }
   ],
   "source": [
    "df = data[['news_type', 'news_heading_swa']] \n",
    "SEED = 2020\n",
    "df_train = df.sample(frac=0.89, random_state=SEED)\n",
    "df_test = df.drop(df_train.index)\n",
    "len(df_train), len(df_test)"
   ]
  },
  {
   "cell_type": "code",
   "execution_count": 9,
   "metadata": {},
   "outputs": [
    {
     "data": {
      "text/plain": [
       "135.95000000000002"
      ]
     },
     "execution_count": 9,
     "metadata": {},
     "output_type": "execute_result"
    }
   ],
   "source": [
    "27.19*5"
   ]
  },
  {
   "cell_type": "code",
   "execution_count": 33,
   "metadata": {},
   "outputs": [
    {
     "name": "stdout",
     "output_type": "stream",
     "text": [
      "preprocessing train...\n",
      "language: sw\n",
      "train sequence lengths:\n",
      "\tmean : 12\n",
      "\t95percentile : 18\n",
      "\t99percentile : 21\n"
     ]
    },
    {
     "data": {
      "text/html": [
       "\n",
       "<style>\n",
       "    /* Turns off some styling */\n",
       "    progress {\n",
       "        /* gets rid of default border in Firefox and Opera. */\n",
       "        border: none;\n",
       "        /* Needs to be in here for Safari polyfill so background images work as expected. */\n",
       "        background-size: auto;\n",
       "    }\n",
       "    progress:not([value]), progress:not([value])::-webkit-progress-bar {\n",
       "        background: repeating-linear-gradient(45deg, #7e7e7e, #7e7e7e 10px, #5c5c5c 10px, #5c5c5c 20px);\n",
       "    }\n",
       "    .progress-bar-interrupted, .progress-bar-interrupted::-webkit-progress-bar {\n",
       "        background: #F44336;\n",
       "    }\n",
       "</style>\n"
      ],
      "text/plain": [
       "<IPython.core.display.HTML object>"
      ]
     },
     "metadata": {},
     "output_type": "display_data"
    },
    {
     "data": {
      "text/html": [],
      "text/plain": [
       "<IPython.core.display.HTML object>"
      ]
     },
     "metadata": {},
     "output_type": "display_data"
    },
    {
     "name": "stdout",
     "output_type": "stream",
     "text": [
      "Is Multi-Label? False\n",
      "preprocessing test...\n",
      "language: sw\n",
      "test sequence lengths:\n",
      "\tmean : 12\n",
      "\t95percentile : 16\n",
      "\t99percentile : 17\n"
     ]
    },
    {
     "data": {
      "text/html": [
       "\n",
       "<style>\n",
       "    /* Turns off some styling */\n",
       "    progress {\n",
       "        /* gets rid of default border in Firefox and Opera. */\n",
       "        border: none;\n",
       "        /* Needs to be in here for Safari polyfill so background images work as expected. */\n",
       "        background-size: auto;\n",
       "    }\n",
       "    progress:not([value]), progress:not([value])::-webkit-progress-bar {\n",
       "        background: repeating-linear-gradient(45deg, #7e7e7e, #7e7e7e 10px, #5c5c5c 10px, #5c5c5c 20px);\n",
       "    }\n",
       "    .progress-bar-interrupted, .progress-bar-interrupted::-webkit-progress-bar {\n",
       "        background: #F44336;\n",
       "    }\n",
       "</style>\n"
      ],
      "text/plain": [
       "<IPython.core.display.HTML object>"
      ]
     },
     "metadata": {},
     "output_type": "display_data"
    },
    {
     "data": {
      "text/html": [],
      "text/plain": [
       "<IPython.core.display.HTML object>"
      ]
     },
     "metadata": {},
     "output_type": "display_data"
    },
    {
     "name": "stdout",
     "output_type": "stream",
     "text": [
      "Epoch 1/3\n",
      "17/17 [==============================] - 234s 13s/step - loss: 1.4797 - accuracy: 0.6604 - val_loss: 1.0770 - val_accuracy: 0.7231\n",
      "Epoch 2/3\n",
      "17/17 [==============================] - 203s 12s/step - loss: 1.0475 - accuracy: 0.6981 - val_loss: 0.9851 - val_accuracy: 0.7231\n",
      "Epoch 3/3\n",
      "17/17 [==============================] - 209s 12s/step - loss: 0.9906 - accuracy: 0.6981 - val_loss: 0.9877 - val_accuracy: 0.7231\n"
     ]
    },
    {
     "data": {
      "text/plain": [
       "<keras.callbacks.History at 0x7fa3c57f5850>"
      ]
     },
     "execution_count": 33,
     "metadata": {},
     "output_type": "execute_result"
    }
   ],
   "source": [
    "import ktrain\n",
    "from ktrain import text\n",
    "\n",
    "# selecting transformer to use\n",
    "MODEL_NAME = 'bert-base-multilingual-uncased'\n",
    "\n",
    "# Common hyper-parameters\n",
    "MAXLEN  = 136 # Only consider the first 136 words of each news content\n",
    "batch_size = 32 #  the number of training examples utilised in one iteration.\n",
    "learning_rate = 1e-5 # the amount that the weights are updated during training\n",
    "epochs = 3 # the number of passes of the entire training dataset the algorithm has completed\n",
    "t = text.Transformer(MODEL_NAME, maxlen = MAXLEN)\n",
    "trn = t.preprocess_train(df_train.news_heading_swa.values, df_train.news_type.values)\n",
    "val = t.preprocess_test(df_test.news_heading_swa.values, df_test.news_type.values)\n",
    "model = t.get_classifier()\n",
    "learner = ktrain.get_learner(model, train_data=trn, val_data=val, batch_size=batch_size)\n",
    "learner.fit(learning_rate, epochs)"
   ]
  },
  {
   "cell_type": "code",
   "execution_count": 34,
   "metadata": {},
   "outputs": [
    {
     "name": "stdout",
     "output_type": "stream",
     "text": [
      "preprocessing train...\n",
      "language: sw\n",
      "train sequence lengths:\n",
      "\tmean : 12\n",
      "\t95percentile : 18\n",
      "\t99percentile : 21\n"
     ]
    },
    {
     "data": {
      "text/html": [
       "\n",
       "<style>\n",
       "    /* Turns off some styling */\n",
       "    progress {\n",
       "        /* gets rid of default border in Firefox and Opera. */\n",
       "        border: none;\n",
       "        /* Needs to be in here for Safari polyfill so background images work as expected. */\n",
       "        background-size: auto;\n",
       "    }\n",
       "    progress:not([value]), progress:not([value])::-webkit-progress-bar {\n",
       "        background: repeating-linear-gradient(45deg, #7e7e7e, #7e7e7e 10px, #5c5c5c 10px, #5c5c5c 20px);\n",
       "    }\n",
       "    .progress-bar-interrupted, .progress-bar-interrupted::-webkit-progress-bar {\n",
       "        background: #F44336;\n",
       "    }\n",
       "</style>\n"
      ],
      "text/plain": [
       "<IPython.core.display.HTML object>"
      ]
     },
     "metadata": {},
     "output_type": "display_data"
    },
    {
     "data": {
      "text/html": [],
      "text/plain": [
       "<IPython.core.display.HTML object>"
      ]
     },
     "metadata": {},
     "output_type": "display_data"
    },
    {
     "name": "stdout",
     "output_type": "stream",
     "text": [
      "Is Multi-Label? False\n",
      "preprocessing test...\n",
      "language: sw\n",
      "test sequence lengths:\n",
      "\tmean : 12\n",
      "\t95percentile : 16\n",
      "\t99percentile : 17\n"
     ]
    },
    {
     "data": {
      "text/html": [
       "\n",
       "<style>\n",
       "    /* Turns off some styling */\n",
       "    progress {\n",
       "        /* gets rid of default border in Firefox and Opera. */\n",
       "        border: none;\n",
       "        /* Needs to be in here for Safari polyfill so background images work as expected. */\n",
       "        background-size: auto;\n",
       "    }\n",
       "    progress:not([value]), progress:not([value])::-webkit-progress-bar {\n",
       "        background: repeating-linear-gradient(45deg, #7e7e7e, #7e7e7e 10px, #5c5c5c 10px, #5c5c5c 20px);\n",
       "    }\n",
       "    .progress-bar-interrupted, .progress-bar-interrupted::-webkit-progress-bar {\n",
       "        background: #F44336;\n",
       "    }\n",
       "</style>\n"
      ],
      "text/plain": [
       "<IPython.core.display.HTML object>"
      ]
     },
     "metadata": {},
     "output_type": "display_data"
    },
    {
     "data": {
      "text/html": [],
      "text/plain": [
       "<IPython.core.display.HTML object>"
      ]
     },
     "metadata": {},
     "output_type": "display_data"
    },
    {
     "name": "stdout",
     "output_type": "stream",
     "text": [
      "Epoch 1/3\n",
      "9/9 [==============================] - 261s 28s/step - loss: 1.5856 - accuracy: 0.4868 - val_loss: 1.1816 - val_accuracy: 0.7231\n",
      "Epoch 2/3\n",
      "9/9 [==============================] - 230s 25s/step - loss: 1.1564 - accuracy: 0.6981 - val_loss: 1.0076 - val_accuracy: 0.7231\n",
      "Epoch 3/3\n",
      "9/9 [==============================] - 220s 24s/step - loss: 1.0299 - accuracy: 0.6981 - val_loss: 0.9887 - val_accuracy: 0.7231\n"
     ]
    },
    {
     "data": {
      "text/plain": [
       "<keras.callbacks.History at 0x7fa223436970>"
      ]
     },
     "execution_count": 34,
     "metadata": {},
     "output_type": "execute_result"
    }
   ],
   "source": [
    "import ktrain\n",
    "from ktrain import text\n",
    "\n",
    "# selecting transformer to use\n",
    "MODEL_NAME = 'bert-base-multilingual-uncased'\n",
    "\n",
    "# Common hyper-parameters\n",
    "MAXLEN  = 136 # Only consider the first 136 words of each news content\n",
    "batch_size = 64 #  the number of training examples utilised in one iteration.\n",
    "learning_rate = 1e-5 # the amount that the weights are updated during training\n",
    "epochs = 3 # the number of passes of the entire training dataset the algorithm has completed\n",
    "t = text.Transformer(MODEL_NAME, maxlen = MAXLEN)\n",
    "trn = t.preprocess_train(df_train.news_heading_swa.values, df_train.news_type.values)\n",
    "val = t.preprocess_test(df_test.news_heading_swa.values, df_test.news_type.values)\n",
    "model = t.get_classifier()\n",
    "learner = ktrain.get_learner(model, train_data=trn, val_data=val, batch_size=batch_size)\n",
    "learner.fit(learning_rate, epochs)"
   ]
  },
  {
   "cell_type": "code",
   "execution_count": 11,
   "metadata": {},
   "outputs": [
    {
     "name": "stdout",
     "output_type": "stream",
     "text": [
      "preprocessing train...\n",
      "language: sw\n",
      "train sequence lengths:\n",
      "\tmean : 12\n",
      "\t95percentile : 18\n",
      "\t99percentile : 21\n"
     ]
    },
    {
     "data": {
      "text/html": [
       "\n",
       "<style>\n",
       "    /* Turns off some styling */\n",
       "    progress {\n",
       "        /* gets rid of default border in Firefox and Opera. */\n",
       "        border: none;\n",
       "        /* Needs to be in here for Safari polyfill so background images work as expected. */\n",
       "        background-size: auto;\n",
       "    }\n",
       "    progress:not([value]), progress:not([value])::-webkit-progress-bar {\n",
       "        background: repeating-linear-gradient(45deg, #7e7e7e, #7e7e7e 10px, #5c5c5c 10px, #5c5c5c 20px);\n",
       "    }\n",
       "    .progress-bar-interrupted, .progress-bar-interrupted::-webkit-progress-bar {\n",
       "        background: #F44336;\n",
       "    }\n",
       "</style>\n"
      ],
      "text/plain": [
       "<IPython.core.display.HTML object>"
      ]
     },
     "metadata": {},
     "output_type": "display_data"
    },
    {
     "data": {
      "text/html": [],
      "text/plain": [
       "<IPython.core.display.HTML object>"
      ]
     },
     "metadata": {},
     "output_type": "display_data"
    },
    {
     "name": "stdout",
     "output_type": "stream",
     "text": [
      "Is Multi-Label? False\n",
      "preprocessing test...\n",
      "language: sw\n",
      "test sequence lengths:\n",
      "\tmean : 12\n",
      "\t95percentile : 16\n",
      "\t99percentile : 17\n"
     ]
    },
    {
     "data": {
      "text/html": [
       "\n",
       "<style>\n",
       "    /* Turns off some styling */\n",
       "    progress {\n",
       "        /* gets rid of default border in Firefox and Opera. */\n",
       "        border: none;\n",
       "        /* Needs to be in here for Safari polyfill so background images work as expected. */\n",
       "        background-size: auto;\n",
       "    }\n",
       "    progress:not([value]), progress:not([value])::-webkit-progress-bar {\n",
       "        background: repeating-linear-gradient(45deg, #7e7e7e, #7e7e7e 10px, #5c5c5c 10px, #5c5c5c 20px);\n",
       "    }\n",
       "    .progress-bar-interrupted, .progress-bar-interrupted::-webkit-progress-bar {\n",
       "        background: #F44336;\n",
       "    }\n",
       "</style>\n"
      ],
      "text/plain": [
       "<IPython.core.display.HTML object>"
      ]
     },
     "metadata": {},
     "output_type": "display_data"
    },
    {
     "data": {
      "text/html": [],
      "text/plain": [
       "<IPython.core.display.HTML object>"
      ]
     },
     "metadata": {},
     "output_type": "display_data"
    },
    {
     "name": "stdout",
     "output_type": "stream",
     "text": [
      "Epoch 1/3\n",
      "34/34 [==============================] - 193s 5s/step - loss: 1.3518 - accuracy: 0.6208 - val_loss: 0.9878 - val_accuracy: 0.7231\n",
      "Epoch 2/3\n",
      "34/34 [==============================] - 191s 6s/step - loss: 1.0223 - accuracy: 0.6981 - val_loss: 0.9853 - val_accuracy: 0.7231\n",
      "Epoch 3/3\n",
      "34/34 [==============================] - 191s 6s/step - loss: 0.9847 - accuracy: 0.6981 - val_loss: 0.9673 - val_accuracy: 0.7231\n"
     ]
    },
    {
     "data": {
      "text/plain": [
       "<keras.callbacks.History at 0x7fb599810880>"
      ]
     },
     "execution_count": 11,
     "metadata": {},
     "output_type": "execute_result"
    }
   ],
   "source": [
    "import ktrain\n",
    "from ktrain import text\n",
    "\n",
    "# selecting transformer to use\n",
    "MODEL_NAME = 'bert-base-multilingual-uncased'\n",
    "\n",
    "# Common hyper-parameters\n",
    "MAXLEN  = 136 # Only consider the first 136 words of each news content\n",
    "batch_size = 16 #  the number of training examples utilised in one iteration.\n",
    "learning_rate = 1e-5 # the amount that the weights are updated during training\n",
    "epochs = 3 # the number of passes of the entire training dataset the algorithm has completed\n",
    "t = text.Transformer(MODEL_NAME, maxlen = MAXLEN)\n",
    "trn = t.preprocess_train(df_train.news_heading_swa.values, df_train.news_type.values)\n",
    "val = t.preprocess_test(df_test.news_heading_swa.values, df_test.news_type.values)\n",
    "model = t.get_classifier()\n",
    "learner = ktrain.get_learner(model, train_data=trn, val_data=val, batch_size=batch_size)\n",
    "learner.fit(learning_rate, epochs)"
   ]
  },
  {
   "cell_type": "code",
   "execution_count": 12,
   "metadata": {},
   "outputs": [
    {
     "name": "stdout",
     "output_type": "stream",
     "text": [
      "preprocessing train...\n",
      "language: sw\n",
      "train sequence lengths:\n",
      "\tmean : 12\n",
      "\t95percentile : 18\n",
      "\t99percentile : 21\n"
     ]
    },
    {
     "data": {
      "text/html": [
       "\n",
       "<style>\n",
       "    /* Turns off some styling */\n",
       "    progress {\n",
       "        /* gets rid of default border in Firefox and Opera. */\n",
       "        border: none;\n",
       "        /* Needs to be in here for Safari polyfill so background images work as expected. */\n",
       "        background-size: auto;\n",
       "    }\n",
       "    progress:not([value]), progress:not([value])::-webkit-progress-bar {\n",
       "        background: repeating-linear-gradient(45deg, #7e7e7e, #7e7e7e 10px, #5c5c5c 10px, #5c5c5c 20px);\n",
       "    }\n",
       "    .progress-bar-interrupted, .progress-bar-interrupted::-webkit-progress-bar {\n",
       "        background: #F44336;\n",
       "    }\n",
       "</style>\n"
      ],
      "text/plain": [
       "<IPython.core.display.HTML object>"
      ]
     },
     "metadata": {},
     "output_type": "display_data"
    },
    {
     "data": {
      "text/html": [],
      "text/plain": [
       "<IPython.core.display.HTML object>"
      ]
     },
     "metadata": {},
     "output_type": "display_data"
    },
    {
     "name": "stdout",
     "output_type": "stream",
     "text": [
      "Is Multi-Label? False\n",
      "preprocessing test...\n",
      "language: sw\n",
      "test sequence lengths:\n",
      "\tmean : 12\n",
      "\t95percentile : 16\n",
      "\t99percentile : 17\n"
     ]
    },
    {
     "data": {
      "text/html": [
       "\n",
       "<style>\n",
       "    /* Turns off some styling */\n",
       "    progress {\n",
       "        /* gets rid of default border in Firefox and Opera. */\n",
       "        border: none;\n",
       "        /* Needs to be in here for Safari polyfill so background images work as expected. */\n",
       "        background-size: auto;\n",
       "    }\n",
       "    progress:not([value]), progress:not([value])::-webkit-progress-bar {\n",
       "        background: repeating-linear-gradient(45deg, #7e7e7e, #7e7e7e 10px, #5c5c5c 10px, #5c5c5c 20px);\n",
       "    }\n",
       "    .progress-bar-interrupted, .progress-bar-interrupted::-webkit-progress-bar {\n",
       "        background: #F44336;\n",
       "    }\n",
       "</style>\n"
      ],
      "text/plain": [
       "<IPython.core.display.HTML object>"
      ]
     },
     "metadata": {},
     "output_type": "display_data"
    },
    {
     "data": {
      "text/html": [],
      "text/plain": [
       "<IPython.core.display.HTML object>"
      ]
     },
     "metadata": {},
     "output_type": "display_data"
    },
    {
     "name": "stdout",
     "output_type": "stream",
     "text": [
      "Epoch 1/5\n",
      "17/17 [==============================] - 191s 10s/step - loss: 1.4666 - accuracy: 0.6132 - val_loss: 1.0515 - val_accuracy: 0.7231\n",
      "Epoch 2/5\n",
      "17/17 [==============================] - 188s 11s/step - loss: 1.0472 - accuracy: 0.6981 - val_loss: 0.9832 - val_accuracy: 0.7231\n",
      "Epoch 3/5\n",
      "17/17 [==============================] - 181s 11s/step - loss: 1.0020 - accuracy: 0.6981 - val_loss: 0.9789 - val_accuracy: 0.7231\n",
      "Epoch 4/5\n",
      "17/17 [==============================] - 178s 10s/step - loss: 0.9733 - accuracy: 0.6981 - val_loss: 0.9711 - val_accuracy: 0.7231\n",
      "Epoch 5/5\n",
      "17/17 [==============================] - 178s 10s/step - loss: 0.9118 - accuracy: 0.6981 - val_loss: 0.9447 - val_accuracy: 0.7231\n"
     ]
    },
    {
     "data": {
      "text/plain": [
       "<keras.callbacks.History at 0x7fb426500940>"
      ]
     },
     "execution_count": 12,
     "metadata": {},
     "output_type": "execute_result"
    }
   ],
   "source": [
    "import ktrain\n",
    "from ktrain import text\n",
    "\n",
    "# selecting transformer to use\n",
    "MODEL_NAME = 'bert-base-multilingual-uncased'\n",
    "\n",
    "# Common hyper-parameters\n",
    "MAXLEN  = 136 # Only consider the first 136 words of each news content\n",
    "batch_size = 32 #  the number of training examples utilised in one iteration.\n",
    "learning_rate = 1e-5 # the amount that the weights are updated during training\n",
    "epochs = 5 # the number of passes of the entire training dataset the algorithm has completed\n",
    "t = text.Transformer(MODEL_NAME, maxlen = MAXLEN)\n",
    "trn = t.preprocess_train(df_train.news_heading_swa.values, df_train.news_type.values)\n",
    "val = t.preprocess_test(df_test.news_heading_swa.values, df_test.news_type.values)\n",
    "model = t.get_classifier()\n",
    "learner = ktrain.get_learner(model, train_data=trn, val_data=val, batch_size=batch_size)\n",
    "learner.fit(learning_rate, epochs)"
   ]
  },
  {
   "cell_type": "code",
   "execution_count": 13,
   "metadata": {},
   "outputs": [
    {
     "name": "stdout",
     "output_type": "stream",
     "text": [
      "preprocessing train...\n",
      "language: sw\n",
      "train sequence lengths:\n",
      "\tmean : 12\n",
      "\t95percentile : 18\n",
      "\t99percentile : 21\n"
     ]
    },
    {
     "data": {
      "text/html": [
       "\n",
       "<style>\n",
       "    /* Turns off some styling */\n",
       "    progress {\n",
       "        /* gets rid of default border in Firefox and Opera. */\n",
       "        border: none;\n",
       "        /* Needs to be in here for Safari polyfill so background images work as expected. */\n",
       "        background-size: auto;\n",
       "    }\n",
       "    progress:not([value]), progress:not([value])::-webkit-progress-bar {\n",
       "        background: repeating-linear-gradient(45deg, #7e7e7e, #7e7e7e 10px, #5c5c5c 10px, #5c5c5c 20px);\n",
       "    }\n",
       "    .progress-bar-interrupted, .progress-bar-interrupted::-webkit-progress-bar {\n",
       "        background: #F44336;\n",
       "    }\n",
       "</style>\n"
      ],
      "text/plain": [
       "<IPython.core.display.HTML object>"
      ]
     },
     "metadata": {},
     "output_type": "display_data"
    },
    {
     "data": {
      "text/html": [],
      "text/plain": [
       "<IPython.core.display.HTML object>"
      ]
     },
     "metadata": {},
     "output_type": "display_data"
    },
    {
     "name": "stdout",
     "output_type": "stream",
     "text": [
      "Is Multi-Label? False\n",
      "preprocessing test...\n",
      "language: sw\n",
      "test sequence lengths:\n",
      "\tmean : 12\n",
      "\t95percentile : 16\n",
      "\t99percentile : 17\n"
     ]
    },
    {
     "data": {
      "text/html": [
       "\n",
       "<style>\n",
       "    /* Turns off some styling */\n",
       "    progress {\n",
       "        /* gets rid of default border in Firefox and Opera. */\n",
       "        border: none;\n",
       "        /* Needs to be in here for Safari polyfill so background images work as expected. */\n",
       "        background-size: auto;\n",
       "    }\n",
       "    progress:not([value]), progress:not([value])::-webkit-progress-bar {\n",
       "        background: repeating-linear-gradient(45deg, #7e7e7e, #7e7e7e 10px, #5c5c5c 10px, #5c5c5c 20px);\n",
       "    }\n",
       "    .progress-bar-interrupted, .progress-bar-interrupted::-webkit-progress-bar {\n",
       "        background: #F44336;\n",
       "    }\n",
       "</style>\n"
      ],
      "text/plain": [
       "<IPython.core.display.HTML object>"
      ]
     },
     "metadata": {},
     "output_type": "display_data"
    },
    {
     "data": {
      "text/html": [],
      "text/plain": [
       "<IPython.core.display.HTML object>"
      ]
     },
     "metadata": {},
     "output_type": "display_data"
    },
    {
     "name": "stdout",
     "output_type": "stream",
     "text": [
      "Epoch 1/3\n",
      "17/17 [==============================] - 191s 10s/step - loss: 1.2825 - accuracy: 0.6170 - val_loss: 1.0284 - val_accuracy: 0.7231\n",
      "Epoch 2/3\n",
      "17/17 [==============================] - 175s 10s/step - loss: 1.0634 - accuracy: 0.6981 - val_loss: 1.1473 - val_accuracy: 0.7231\n",
      "Epoch 3/3\n",
      "17/17 [==============================] - 176s 10s/step - loss: 1.0406 - accuracy: 0.6981 - val_loss: 1.0135 - val_accuracy: 0.7231\n"
     ]
    },
    {
     "data": {
      "text/plain": [
       "<keras.callbacks.History at 0x7fb3563ea310>"
      ]
     },
     "execution_count": 13,
     "metadata": {},
     "output_type": "execute_result"
    }
   ],
   "source": [
    "import ktrain\n",
    "from ktrain import text\n",
    "\n",
    "# selecting transformer to use\n",
    "MODEL_NAME = 'bert-base-multilingual-uncased'\n",
    "\n",
    "# Common hyper-parameters\n",
    "MAXLEN  = 136 # Only consider the first 136 words of each news content\n",
    "batch_size = 32 #  the number of training examples utilised in one iteration.\n",
    "learning_rate = 1e-3 # the amount that the weights are updated during training\n",
    "epochs = 3 # the number of passes of the entire training dataset the algorithm has completed\n",
    "t = text.Transformer(MODEL_NAME, maxlen = MAXLEN)\n",
    "trn = t.preprocess_train(df_train.news_heading_swa.values, df_train.news_type.values)\n",
    "val = t.preprocess_test(df_test.news_heading_swa.values, df_test.news_type.values)\n",
    "model = t.get_classifier()\n",
    "learner = ktrain.get_learner(model, train_data=trn, val_data=val, batch_size=batch_size)\n",
    "learner.fit(learning_rate, epochs)"
   ]
  },
  {
   "cell_type": "code",
   "execution_count": 14,
   "metadata": {},
   "outputs": [
    {
     "name": "stdout",
     "output_type": "stream",
     "text": [
      "preprocessing train...\n",
      "language: sw\n",
      "train sequence lengths:\n",
      "\tmean : 12\n",
      "\t95percentile : 18\n",
      "\t99percentile : 21\n"
     ]
    },
    {
     "data": {
      "text/html": [
       "\n",
       "<style>\n",
       "    /* Turns off some styling */\n",
       "    progress {\n",
       "        /* gets rid of default border in Firefox and Opera. */\n",
       "        border: none;\n",
       "        /* Needs to be in here for Safari polyfill so background images work as expected. */\n",
       "        background-size: auto;\n",
       "    }\n",
       "    progress:not([value]), progress:not([value])::-webkit-progress-bar {\n",
       "        background: repeating-linear-gradient(45deg, #7e7e7e, #7e7e7e 10px, #5c5c5c 10px, #5c5c5c 20px);\n",
       "    }\n",
       "    .progress-bar-interrupted, .progress-bar-interrupted::-webkit-progress-bar {\n",
       "        background: #F44336;\n",
       "    }\n",
       "</style>\n"
      ],
      "text/plain": [
       "<IPython.core.display.HTML object>"
      ]
     },
     "metadata": {},
     "output_type": "display_data"
    },
    {
     "data": {
      "text/html": [],
      "text/plain": [
       "<IPython.core.display.HTML object>"
      ]
     },
     "metadata": {},
     "output_type": "display_data"
    },
    {
     "name": "stdout",
     "output_type": "stream",
     "text": [
      "Is Multi-Label? False\n",
      "preprocessing test...\n",
      "language: sw\n",
      "test sequence lengths:\n",
      "\tmean : 12\n",
      "\t95percentile : 16\n",
      "\t99percentile : 17\n"
     ]
    },
    {
     "data": {
      "text/html": [
       "\n",
       "<style>\n",
       "    /* Turns off some styling */\n",
       "    progress {\n",
       "        /* gets rid of default border in Firefox and Opera. */\n",
       "        border: none;\n",
       "        /* Needs to be in here for Safari polyfill so background images work as expected. */\n",
       "        background-size: auto;\n",
       "    }\n",
       "    progress:not([value]), progress:not([value])::-webkit-progress-bar {\n",
       "        background: repeating-linear-gradient(45deg, #7e7e7e, #7e7e7e 10px, #5c5c5c 10px, #5c5c5c 20px);\n",
       "    }\n",
       "    .progress-bar-interrupted, .progress-bar-interrupted::-webkit-progress-bar {\n",
       "        background: #F44336;\n",
       "    }\n",
       "</style>\n"
      ],
      "text/plain": [
       "<IPython.core.display.HTML object>"
      ]
     },
     "metadata": {},
     "output_type": "display_data"
    },
    {
     "data": {
      "text/html": [],
      "text/plain": [
       "<IPython.core.display.HTML object>"
      ]
     },
     "metadata": {},
     "output_type": "display_data"
    },
    {
     "name": "stdout",
     "output_type": "stream",
     "text": [
      "Epoch 1/3\n",
      "17/17 [==============================] - 195s 11s/step - loss: 1.7299 - accuracy: 0.4000 - val_loss: 1.7191 - val_accuracy: 0.4769\n",
      "Epoch 2/3\n",
      "17/17 [==============================] - 173s 10s/step - loss: 1.7170 - accuracy: 0.4566 - val_loss: 1.7114 - val_accuracy: 0.5846\n",
      "Epoch 3/3\n",
      "17/17 [==============================] - 177s 10s/step - loss: 1.7133 - accuracy: 0.4887 - val_loss: 1.7037 - val_accuracy: 0.6154\n"
     ]
    },
    {
     "data": {
      "text/plain": [
       "<keras.callbacks.History at 0x7fb2561f52e0>"
      ]
     },
     "execution_count": 14,
     "metadata": {},
     "output_type": "execute_result"
    }
   ],
   "source": [
    "import ktrain\n",
    "from ktrain import text\n",
    "\n",
    "# selecting transformer to use\n",
    "MODEL_NAME = 'bert-base-multilingual-uncased'\n",
    "\n",
    "# Common hyper-parameters\n",
    "MAXLEN  = 136 # Only consider the first 136 words of each news content\n",
    "batch_size = 32 #  the number of training examples utilised in one iteration.\n",
    "learning_rate = 1e-7 # the amount that the weights are updated during training\n",
    "epochs = 3 # the number of passes of the entire training dataset the algorithm has completed\n",
    "t = text.Transformer(MODEL_NAME, maxlen = MAXLEN)\n",
    "trn = t.preprocess_train(df_train.news_heading_swa.values, df_train.news_type.values)\n",
    "val = t.preprocess_test(df_test.news_heading_swa.values, df_test.news_type.values)\n",
    "model = t.get_classifier()\n",
    "learner = ktrain.get_learner(model, train_data=trn, val_data=val, batch_size=batch_size)\n",
    "learner.fit(learning_rate, epochs)"
   ]
  },
  {
   "cell_type": "code",
   "execution_count": 15,
   "metadata": {},
   "outputs": [
    {
     "name": "stdout",
     "output_type": "stream",
     "text": [
      "preprocessing train...\n",
      "language: sw\n",
      "train sequence lengths:\n",
      "\tmean : 12\n",
      "\t95percentile : 18\n",
      "\t99percentile : 21\n"
     ]
    },
    {
     "data": {
      "text/html": [
       "\n",
       "<style>\n",
       "    /* Turns off some styling */\n",
       "    progress {\n",
       "        /* gets rid of default border in Firefox and Opera. */\n",
       "        border: none;\n",
       "        /* Needs to be in here for Safari polyfill so background images work as expected. */\n",
       "        background-size: auto;\n",
       "    }\n",
       "    progress:not([value]), progress:not([value])::-webkit-progress-bar {\n",
       "        background: repeating-linear-gradient(45deg, #7e7e7e, #7e7e7e 10px, #5c5c5c 10px, #5c5c5c 20px);\n",
       "    }\n",
       "    .progress-bar-interrupted, .progress-bar-interrupted::-webkit-progress-bar {\n",
       "        background: #F44336;\n",
       "    }\n",
       "</style>\n"
      ],
      "text/plain": [
       "<IPython.core.display.HTML object>"
      ]
     },
     "metadata": {},
     "output_type": "display_data"
    },
    {
     "data": {
      "text/html": [],
      "text/plain": [
       "<IPython.core.display.HTML object>"
      ]
     },
     "metadata": {},
     "output_type": "display_data"
    },
    {
     "name": "stdout",
     "output_type": "stream",
     "text": [
      "Is Multi-Label? False\n",
      "preprocessing test...\n",
      "language: sw\n",
      "test sequence lengths:\n",
      "\tmean : 12\n",
      "\t95percentile : 16\n",
      "\t99percentile : 17\n"
     ]
    },
    {
     "data": {
      "text/html": [
       "\n",
       "<style>\n",
       "    /* Turns off some styling */\n",
       "    progress {\n",
       "        /* gets rid of default border in Firefox and Opera. */\n",
       "        border: none;\n",
       "        /* Needs to be in here for Safari polyfill so background images work as expected. */\n",
       "        background-size: auto;\n",
       "    }\n",
       "    progress:not([value]), progress:not([value])::-webkit-progress-bar {\n",
       "        background: repeating-linear-gradient(45deg, #7e7e7e, #7e7e7e 10px, #5c5c5c 10px, #5c5c5c 20px);\n",
       "    }\n",
       "    .progress-bar-interrupted, .progress-bar-interrupted::-webkit-progress-bar {\n",
       "        background: #F44336;\n",
       "    }\n",
       "</style>\n"
      ],
      "text/plain": [
       "<IPython.core.display.HTML object>"
      ]
     },
     "metadata": {},
     "output_type": "display_data"
    },
    {
     "data": {
      "text/html": [],
      "text/plain": [
       "<IPython.core.display.HTML object>"
      ]
     },
     "metadata": {},
     "output_type": "display_data"
    },
    {
     "name": "stdout",
     "output_type": "stream",
     "text": [
      "Epoch 1/3\n",
      "17/17 [==============================] - 194s 11s/step - loss: 44.3399 - accuracy: 0.4057 - val_loss: 27.5584 - val_accuracy: 0.7231\n",
      "Epoch 2/3\n",
      "17/17 [==============================] - 179s 10s/step - loss: 19.9995 - accuracy: 0.4981 - val_loss: 23.0965 - val_accuracy: 0.1231\n",
      "Epoch 3/3\n",
      "17/17 [==============================] - 174s 10s/step - loss: 15.7350 - accuracy: 0.5283 - val_loss: 9.4357 - val_accuracy: 0.7231\n"
     ]
    },
    {
     "data": {
      "text/plain": [
       "<keras.callbacks.History at 0x7fb1167f4430>"
      ]
     },
     "execution_count": 15,
     "metadata": {},
     "output_type": "execute_result"
    }
   ],
   "source": [
    "import ktrain\n",
    "from ktrain import text\n",
    "\n",
    "# selecting transformer to use\n",
    "MODEL_NAME = 'bert-base-multilingual-uncased'\n",
    "\n",
    "# Common hyper-parameters\n",
    "MAXLEN  = 136 # Only consider the first 136 words of each news content\n",
    "batch_size = 32 #  the number of training examples utilised in one iteration.\n",
    "learning_rate = 1e-1 # the amount that the weights are updated during training\n",
    "epochs = 3 # the number of passes of the entire training dataset the algorithm has completed\n",
    "t = text.Transformer(MODEL_NAME, maxlen = MAXLEN)\n",
    "trn = t.preprocess_train(df_train.news_heading_swa.values, df_train.news_type.values)\n",
    "val = t.preprocess_test(df_test.news_heading_swa.values, df_test.news_type.values)\n",
    "model = t.get_classifier()\n",
    "learner = ktrain.get_learner(model, train_data=trn, val_data=val, batch_size=batch_size)\n",
    "learner.fit(learning_rate, epochs)"
   ]
  },
  {
   "cell_type": "code",
   "execution_count": 16,
   "metadata": {},
   "outputs": [
    {
     "name": "stdout",
     "output_type": "stream",
     "text": [
      "preprocessing train...\n",
      "language: sw\n",
      "train sequence lengths:\n",
      "\tmean : 12\n",
      "\t95percentile : 18\n",
      "\t99percentile : 21\n"
     ]
    },
    {
     "data": {
      "text/html": [
       "\n",
       "<style>\n",
       "    /* Turns off some styling */\n",
       "    progress {\n",
       "        /* gets rid of default border in Firefox and Opera. */\n",
       "        border: none;\n",
       "        /* Needs to be in here for Safari polyfill so background images work as expected. */\n",
       "        background-size: auto;\n",
       "    }\n",
       "    progress:not([value]), progress:not([value])::-webkit-progress-bar {\n",
       "        background: repeating-linear-gradient(45deg, #7e7e7e, #7e7e7e 10px, #5c5c5c 10px, #5c5c5c 20px);\n",
       "    }\n",
       "    .progress-bar-interrupted, .progress-bar-interrupted::-webkit-progress-bar {\n",
       "        background: #F44336;\n",
       "    }\n",
       "</style>\n"
      ],
      "text/plain": [
       "<IPython.core.display.HTML object>"
      ]
     },
     "metadata": {},
     "output_type": "display_data"
    },
    {
     "data": {
      "text/html": [],
      "text/plain": [
       "<IPython.core.display.HTML object>"
      ]
     },
     "metadata": {},
     "output_type": "display_data"
    },
    {
     "name": "stdout",
     "output_type": "stream",
     "text": [
      "Is Multi-Label? False\n",
      "preprocessing test...\n",
      "language: sw\n",
      "test sequence lengths:\n",
      "\tmean : 12\n",
      "\t95percentile : 16\n",
      "\t99percentile : 17\n"
     ]
    },
    {
     "data": {
      "text/html": [
       "\n",
       "<style>\n",
       "    /* Turns off some styling */\n",
       "    progress {\n",
       "        /* gets rid of default border in Firefox and Opera. */\n",
       "        border: none;\n",
       "        /* Needs to be in here for Safari polyfill so background images work as expected. */\n",
       "        background-size: auto;\n",
       "    }\n",
       "    progress:not([value]), progress:not([value])::-webkit-progress-bar {\n",
       "        background: repeating-linear-gradient(45deg, #7e7e7e, #7e7e7e 10px, #5c5c5c 10px, #5c5c5c 20px);\n",
       "    }\n",
       "    .progress-bar-interrupted, .progress-bar-interrupted::-webkit-progress-bar {\n",
       "        background: #F44336;\n",
       "    }\n",
       "</style>\n"
      ],
      "text/plain": [
       "<IPython.core.display.HTML object>"
      ]
     },
     "metadata": {},
     "output_type": "display_data"
    },
    {
     "data": {
      "text/html": [],
      "text/plain": [
       "<IPython.core.display.HTML object>"
      ]
     },
     "metadata": {},
     "output_type": "display_data"
    },
    {
     "name": "stdout",
     "output_type": "stream",
     "text": [
      "Epoch 1/3\n",
      "17/17 [==============================] - 188s 10s/step - loss: 1.2008 - accuracy: 0.6283 - val_loss: 0.9984 - val_accuracy: 0.7231\n",
      "Epoch 2/3\n",
      "17/17 [==============================] - 177s 10s/step - loss: 1.0021 - accuracy: 0.6981 - val_loss: 0.9551 - val_accuracy: 0.7231\n",
      "Epoch 3/3\n",
      "17/17 [==============================] - 176s 10s/step - loss: 0.9060 - accuracy: 0.6962 - val_loss: 0.9740 - val_accuracy: 0.7077\n"
     ]
    },
    {
     "data": {
      "text/plain": [
       "<keras.callbacks.History at 0x7fb016120910>"
      ]
     },
     "execution_count": 16,
     "metadata": {},
     "output_type": "execute_result"
    }
   ],
   "source": [
    "import ktrain\n",
    "from ktrain import text\n",
    "\n",
    "# selecting transformer to use\n",
    "MODEL_NAME = 'bert-base-multilingual-uncased'\n",
    "\n",
    "# Common hyper-parameters\n",
    "MAXLEN  = 136 # Only consider the first 136 words of each news content\n",
    "batch_size = 32 #  the number of training examples utilised in one iteration.\n",
    "learning_rate = 5e-5 # the amount that the weights are updated during training\n",
    "epochs = 3 # the number of passes of the entire training dataset the algorithm has completed\n",
    "t = text.Transformer(MODEL_NAME, maxlen = MAXLEN)\n",
    "trn = t.preprocess_train(df_train.news_heading_swa.values, df_train.news_type.values)\n",
    "val = t.preprocess_test(df_test.news_heading_swa.values, df_test.news_type.values)\n",
    "model = t.get_classifier()\n",
    "learner = ktrain.get_learner(model, train_data=trn, val_data=val, batch_size=batch_size)\n",
    "learner.fit(learning_rate, epochs)"
   ]
  },
  {
   "cell_type": "code",
   "execution_count": 17,
   "metadata": {},
   "outputs": [
    {
     "name": "stdout",
     "output_type": "stream",
     "text": [
      "preprocessing train...\n",
      "language: sw\n",
      "train sequence lengths:\n",
      "\tmean : 12\n",
      "\t95percentile : 18\n",
      "\t99percentile : 21\n"
     ]
    },
    {
     "data": {
      "text/html": [
       "\n",
       "<style>\n",
       "    /* Turns off some styling */\n",
       "    progress {\n",
       "        /* gets rid of default border in Firefox and Opera. */\n",
       "        border: none;\n",
       "        /* Needs to be in here for Safari polyfill so background images work as expected. */\n",
       "        background-size: auto;\n",
       "    }\n",
       "    progress:not([value]), progress:not([value])::-webkit-progress-bar {\n",
       "        background: repeating-linear-gradient(45deg, #7e7e7e, #7e7e7e 10px, #5c5c5c 10px, #5c5c5c 20px);\n",
       "    }\n",
       "    .progress-bar-interrupted, .progress-bar-interrupted::-webkit-progress-bar {\n",
       "        background: #F44336;\n",
       "    }\n",
       "</style>\n"
      ],
      "text/plain": [
       "<IPython.core.display.HTML object>"
      ]
     },
     "metadata": {},
     "output_type": "display_data"
    },
    {
     "data": {
      "text/html": [],
      "text/plain": [
       "<IPython.core.display.HTML object>"
      ]
     },
     "metadata": {},
     "output_type": "display_data"
    },
    {
     "name": "stdout",
     "output_type": "stream",
     "text": [
      "Is Multi-Label? False\n",
      "preprocessing test...\n",
      "language: sw\n",
      "test sequence lengths:\n",
      "\tmean : 12\n",
      "\t95percentile : 16\n",
      "\t99percentile : 17\n"
     ]
    },
    {
     "data": {
      "text/html": [
       "\n",
       "<style>\n",
       "    /* Turns off some styling */\n",
       "    progress {\n",
       "        /* gets rid of default border in Firefox and Opera. */\n",
       "        border: none;\n",
       "        /* Needs to be in here for Safari polyfill so background images work as expected. */\n",
       "        background-size: auto;\n",
       "    }\n",
       "    progress:not([value]), progress:not([value])::-webkit-progress-bar {\n",
       "        background: repeating-linear-gradient(45deg, #7e7e7e, #7e7e7e 10px, #5c5c5c 10px, #5c5c5c 20px);\n",
       "    }\n",
       "    .progress-bar-interrupted, .progress-bar-interrupted::-webkit-progress-bar {\n",
       "        background: #F44336;\n",
       "    }\n",
       "</style>\n"
      ],
      "text/plain": [
       "<IPython.core.display.HTML object>"
      ]
     },
     "metadata": {},
     "output_type": "display_data"
    },
    {
     "data": {
      "text/html": [],
      "text/plain": [
       "<IPython.core.display.HTML object>"
      ]
     },
     "metadata": {},
     "output_type": "display_data"
    },
    {
     "name": "stdout",
     "output_type": "stream",
     "text": [
      "Epoch 1/5\n",
      "17/17 [==============================] - 188s 10s/step - loss: 1.1654 - accuracy: 0.6509 - val_loss: 0.9900 - val_accuracy: 0.7231\n",
      "Epoch 2/5\n",
      "17/17 [==============================] - 174s 10s/step - loss: 1.0105 - accuracy: 0.6981 - val_loss: 0.9946 - val_accuracy: 0.7231\n",
      "Epoch 3/5\n",
      "17/17 [==============================] - 175s 10s/step - loss: 0.9977 - accuracy: 0.6981 - val_loss: 0.9286 - val_accuracy: 0.7231\n",
      "Epoch 4/5\n",
      "17/17 [==============================] - 173s 10s/step - loss: 0.8192 - accuracy: 0.7415 - val_loss: 0.8489 - val_accuracy: 0.7846\n",
      "Epoch 5/5\n",
      "17/17 [==============================] - 180s 11s/step - loss: 0.6718 - accuracy: 0.7962 - val_loss: 0.8320 - val_accuracy: 0.8000\n"
     ]
    },
    {
     "data": {
      "text/plain": [
       "<keras.callbacks.History at 0x7faf16421910>"
      ]
     },
     "execution_count": 17,
     "metadata": {},
     "output_type": "execute_result"
    }
   ],
   "source": [
    "import ktrain\n",
    "from ktrain import text\n",
    "\n",
    "# selecting transformer to use\n",
    "MODEL_NAME = 'bert-base-multilingual-uncased'\n",
    "\n",
    "# Common hyper-parameters\n",
    "MAXLEN  = 136 # Only consider the first 136 words of each news content\n",
    "batch_size = 32 #  the number of training examples utilised in one iteration.\n",
    "learning_rate = 5e-5 # the amount that the weights are updated during training\n",
    "epochs = 5 # the number of passes of the entire training dataset the algorithm has completed\n",
    "t = text.Transformer(MODEL_NAME, maxlen = MAXLEN)\n",
    "trn = t.preprocess_train(df_train.news_heading_swa.values, df_train.news_type.values)\n",
    "val = t.preprocess_test(df_test.news_heading_swa.values, df_test.news_type.values)\n",
    "model = t.get_classifier()\n",
    "learner = ktrain.get_learner(model, train_data=trn, val_data=val, batch_size=batch_size)\n",
    "learner.fit(learning_rate, epochs)"
   ]
  },
  {
   "cell_type": "code",
   "execution_count": 18,
   "metadata": {},
   "outputs": [
    {
     "name": "stdout",
     "output_type": "stream",
     "text": [
      "preprocessing train...\n",
      "language: sw\n",
      "train sequence lengths:\n",
      "\tmean : 12\n",
      "\t95percentile : 18\n",
      "\t99percentile : 21\n"
     ]
    },
    {
     "data": {
      "text/html": [
       "\n",
       "<style>\n",
       "    /* Turns off some styling */\n",
       "    progress {\n",
       "        /* gets rid of default border in Firefox and Opera. */\n",
       "        border: none;\n",
       "        /* Needs to be in here for Safari polyfill so background images work as expected. */\n",
       "        background-size: auto;\n",
       "    }\n",
       "    progress:not([value]), progress:not([value])::-webkit-progress-bar {\n",
       "        background: repeating-linear-gradient(45deg, #7e7e7e, #7e7e7e 10px, #5c5c5c 10px, #5c5c5c 20px);\n",
       "    }\n",
       "    .progress-bar-interrupted, .progress-bar-interrupted::-webkit-progress-bar {\n",
       "        background: #F44336;\n",
       "    }\n",
       "</style>\n"
      ],
      "text/plain": [
       "<IPython.core.display.HTML object>"
      ]
     },
     "metadata": {},
     "output_type": "display_data"
    },
    {
     "data": {
      "text/html": [],
      "text/plain": [
       "<IPython.core.display.HTML object>"
      ]
     },
     "metadata": {},
     "output_type": "display_data"
    },
    {
     "name": "stdout",
     "output_type": "stream",
     "text": [
      "Is Multi-Label? False\n",
      "preprocessing test...\n",
      "language: sw\n",
      "test sequence lengths:\n",
      "\tmean : 12\n",
      "\t95percentile : 16\n",
      "\t99percentile : 17\n"
     ]
    },
    {
     "data": {
      "text/html": [
       "\n",
       "<style>\n",
       "    /* Turns off some styling */\n",
       "    progress {\n",
       "        /* gets rid of default border in Firefox and Opera. */\n",
       "        border: none;\n",
       "        /* Needs to be in here for Safari polyfill so background images work as expected. */\n",
       "        background-size: auto;\n",
       "    }\n",
       "    progress:not([value]), progress:not([value])::-webkit-progress-bar {\n",
       "        background: repeating-linear-gradient(45deg, #7e7e7e, #7e7e7e 10px, #5c5c5c 10px, #5c5c5c 20px);\n",
       "    }\n",
       "    .progress-bar-interrupted, .progress-bar-interrupted::-webkit-progress-bar {\n",
       "        background: #F44336;\n",
       "    }\n",
       "</style>\n"
      ],
      "text/plain": [
       "<IPython.core.display.HTML object>"
      ]
     },
     "metadata": {},
     "output_type": "display_data"
    },
    {
     "data": {
      "text/html": [],
      "text/plain": [
       "<IPython.core.display.HTML object>"
      ]
     },
     "metadata": {},
     "output_type": "display_data"
    },
    {
     "name": "stdout",
     "output_type": "stream",
     "text": [
      "Epoch 1/7\n",
      "17/17 [==============================] - 186s 10s/step - loss: 1.1966 - accuracy: 0.6358 - val_loss: 0.9933 - val_accuracy: 0.7231\n",
      "Epoch 2/7\n",
      "17/17 [==============================] - 174s 10s/step - loss: 1.0205 - accuracy: 0.6981 - val_loss: 1.0014 - val_accuracy: 0.7231\n",
      "Epoch 3/7\n",
      "17/17 [==============================] - 176s 10s/step - loss: 1.0030 - accuracy: 0.6981 - val_loss: 0.9861 - val_accuracy: 0.7231\n",
      "Epoch 4/7\n",
      "17/17 [==============================] - 177s 10s/step - loss: 0.9031 - accuracy: 0.7208 - val_loss: 1.1060 - val_accuracy: 0.6308\n",
      "Epoch 5/7\n",
      "17/17 [==============================] - 184s 11s/step - loss: 0.7284 - accuracy: 0.7849 - val_loss: 0.7905 - val_accuracy: 0.8000\n",
      "Epoch 6/7\n",
      "17/17 [==============================] - 185s 11s/step - loss: 0.5988 - accuracy: 0.8358 - val_loss: 0.9581 - val_accuracy: 0.7231\n",
      "Epoch 7/7\n",
      "17/17 [==============================] - 186s 11s/step - loss: 0.4339 - accuracy: 0.8755 - val_loss: 0.8303 - val_accuracy: 0.7385\n"
     ]
    },
    {
     "data": {
      "text/plain": [
       "<keras.callbacks.History at 0x7fad96657070>"
      ]
     },
     "execution_count": 18,
     "metadata": {},
     "output_type": "execute_result"
    }
   ],
   "source": [
    "import ktrain\n",
    "from ktrain import text\n",
    "\n",
    "# selecting transformer to use\n",
    "MODEL_NAME = 'bert-base-multilingual-uncased'\n",
    "\n",
    "# Common hyper-parameters\n",
    "MAXLEN  = 136 # Only consider the first 136 words of each news content\n",
    "batch_size = 32 #  the number of training examples utilised in one iteration.\n",
    "learning_rate = 5e-5 # the amount that the weights are updated during training\n",
    "epochs = 7 # the number of passes of the entire training dataset the algorithm has completed\n",
    "t = text.Transformer(MODEL_NAME, maxlen = MAXLEN)\n",
    "trn = t.preprocess_train(df_train.news_heading_swa.values, df_train.news_type.values)\n",
    "val = t.preprocess_test(df_test.news_heading_swa.values, df_test.news_type.values)\n",
    "model = t.get_classifier()\n",
    "learner = ktrain.get_learner(model, train_data=trn, val_data=val, batch_size=batch_size)\n",
    "learner.fit(learning_rate, epochs)"
   ]
  },
  {
   "cell_type": "code",
   "execution_count": 19,
   "metadata": {},
   "outputs": [
    {
     "name": "stdout",
     "output_type": "stream",
     "text": [
      "preprocessing train...\n",
      "language: sw\n",
      "train sequence lengths:\n",
      "\tmean : 12\n",
      "\t95percentile : 18\n",
      "\t99percentile : 21\n"
     ]
    },
    {
     "data": {
      "text/html": [
       "\n",
       "<style>\n",
       "    /* Turns off some styling */\n",
       "    progress {\n",
       "        /* gets rid of default border in Firefox and Opera. */\n",
       "        border: none;\n",
       "        /* Needs to be in here for Safari polyfill so background images work as expected. */\n",
       "        background-size: auto;\n",
       "    }\n",
       "    progress:not([value]), progress:not([value])::-webkit-progress-bar {\n",
       "        background: repeating-linear-gradient(45deg, #7e7e7e, #7e7e7e 10px, #5c5c5c 10px, #5c5c5c 20px);\n",
       "    }\n",
       "    .progress-bar-interrupted, .progress-bar-interrupted::-webkit-progress-bar {\n",
       "        background: #F44336;\n",
       "    }\n",
       "</style>\n"
      ],
      "text/plain": [
       "<IPython.core.display.HTML object>"
      ]
     },
     "metadata": {},
     "output_type": "display_data"
    },
    {
     "data": {
      "text/html": [],
      "text/plain": [
       "<IPython.core.display.HTML object>"
      ]
     },
     "metadata": {},
     "output_type": "display_data"
    },
    {
     "name": "stdout",
     "output_type": "stream",
     "text": [
      "Is Multi-Label? False\n",
      "preprocessing test...\n",
      "language: sw\n",
      "test sequence lengths:\n",
      "\tmean : 12\n",
      "\t95percentile : 16\n",
      "\t99percentile : 17\n"
     ]
    },
    {
     "data": {
      "text/html": [
       "\n",
       "<style>\n",
       "    /* Turns off some styling */\n",
       "    progress {\n",
       "        /* gets rid of default border in Firefox and Opera. */\n",
       "        border: none;\n",
       "        /* Needs to be in here for Safari polyfill so background images work as expected. */\n",
       "        background-size: auto;\n",
       "    }\n",
       "    progress:not([value]), progress:not([value])::-webkit-progress-bar {\n",
       "        background: repeating-linear-gradient(45deg, #7e7e7e, #7e7e7e 10px, #5c5c5c 10px, #5c5c5c 20px);\n",
       "    }\n",
       "    .progress-bar-interrupted, .progress-bar-interrupted::-webkit-progress-bar {\n",
       "        background: #F44336;\n",
       "    }\n",
       "</style>\n"
      ],
      "text/plain": [
       "<IPython.core.display.HTML object>"
      ]
     },
     "metadata": {},
     "output_type": "display_data"
    },
    {
     "data": {
      "text/html": [],
      "text/plain": [
       "<IPython.core.display.HTML object>"
      ]
     },
     "metadata": {},
     "output_type": "display_data"
    },
    {
     "name": "stdout",
     "output_type": "stream",
     "text": [
      "Epoch 1/7\n",
      "17/17 [==============================] - 193s 11s/step - loss: 1.7054 - accuracy: 0.5434 - val_loss: 1.0950 - val_accuracy: 0.7231\n",
      "Epoch 2/7\n",
      "17/17 [==============================] - 176s 10s/step - loss: 1.1570 - accuracy: 0.6830 - val_loss: 1.0758 - val_accuracy: 0.7231\n",
      "Epoch 3/7\n",
      "17/17 [==============================] - 179s 10s/step - loss: 1.1469 - accuracy: 0.6981 - val_loss: 1.0826 - val_accuracy: 0.7231\n",
      "Epoch 4/7\n",
      "17/17 [==============================] - 180s 11s/step - loss: 1.1309 - accuracy: 0.6962 - val_loss: 1.0507 - val_accuracy: 0.7231\n",
      "Epoch 5/7\n",
      "17/17 [==============================] - 187s 11s/step - loss: 1.1665 - accuracy: 0.6906 - val_loss: 1.1400 - val_accuracy: 0.7231\n",
      "Epoch 6/7\n",
      "17/17 [==============================] - 174s 10s/step - loss: 1.2056 - accuracy: 0.6623 - val_loss: 1.0823 - val_accuracy: 0.7231\n",
      "Epoch 7/7\n",
      "17/17 [==============================] - 175s 10s/step - loss: 1.2625 - accuracy: 0.6566 - val_loss: 1.6344 - val_accuracy: 0.7231\n"
     ]
    },
    {
     "data": {
      "text/plain": [
       "<keras.callbacks.History at 0x7fac960ba8b0>"
      ]
     },
     "execution_count": 19,
     "metadata": {},
     "output_type": "execute_result"
    }
   ],
   "source": [
    "import ktrain\n",
    "from ktrain import text\n",
    "\n",
    "# selecting transformer to use\n",
    "MODEL_NAME = 'bert-base-multilingual-uncased'\n",
    "\n",
    "# Common hyper-parameters\n",
    "MAXLEN  = 136 # Only consider the first 136 words of each news content\n",
    "batch_size = 32 #  the number of training examples utilised in one iteration.\n",
    "learning_rate = 5e-3 # the amount that the weights are updated during training\n",
    "epochs = 7 # the number of passes of the entire training dataset the algorithm has completed\n",
    "t = text.Transformer(MODEL_NAME, maxlen = MAXLEN)\n",
    "trn = t.preprocess_train(df_train.news_heading_swa.values, df_train.news_type.values)\n",
    "val = t.preprocess_test(df_test.news_heading_swa.values, df_test.news_type.values)\n",
    "model = t.get_classifier()\n",
    "learner = ktrain.get_learner(model, train_data=trn, val_data=val, batch_size=batch_size)\n",
    "learner.fit(learning_rate, epochs)"
   ]
  },
  {
   "cell_type": "code",
   "execution_count": 7,
   "metadata": {},
   "outputs": [
    {
     "name": "stdout",
     "output_type": "stream",
     "text": [
      "preprocessing train...\n",
      "language: sw\n",
      "train sequence lengths:\n",
      "\tmean : 12\n",
      "\t95percentile : 18\n",
      "\t99percentile : 21\n"
     ]
    },
    {
     "data": {
      "text/html": [
       "\n",
       "<style>\n",
       "    /* Turns off some styling */\n",
       "    progress {\n",
       "        /* gets rid of default border in Firefox and Opera. */\n",
       "        border: none;\n",
       "        /* Needs to be in here for Safari polyfill so background images work as expected. */\n",
       "        background-size: auto;\n",
       "    }\n",
       "    progress:not([value]), progress:not([value])::-webkit-progress-bar {\n",
       "        background: repeating-linear-gradient(45deg, #7e7e7e, #7e7e7e 10px, #5c5c5c 10px, #5c5c5c 20px);\n",
       "    }\n",
       "    .progress-bar-interrupted, .progress-bar-interrupted::-webkit-progress-bar {\n",
       "        background: #F44336;\n",
       "    }\n",
       "</style>\n"
      ],
      "text/plain": [
       "<IPython.core.display.HTML object>"
      ]
     },
     "metadata": {},
     "output_type": "display_data"
    },
    {
     "data": {
      "text/html": [],
      "text/plain": [
       "<IPython.core.display.HTML object>"
      ]
     },
     "metadata": {},
     "output_type": "display_data"
    },
    {
     "name": "stdout",
     "output_type": "stream",
     "text": [
      "Is Multi-Label? False\n",
      "preprocessing test...\n",
      "language: sw\n",
      "test sequence lengths:\n",
      "\tmean : 12\n",
      "\t95percentile : 16\n",
      "\t99percentile : 17\n"
     ]
    },
    {
     "data": {
      "text/html": [
       "\n",
       "<style>\n",
       "    /* Turns off some styling */\n",
       "    progress {\n",
       "        /* gets rid of default border in Firefox and Opera. */\n",
       "        border: none;\n",
       "        /* Needs to be in here for Safari polyfill so background images work as expected. */\n",
       "        background-size: auto;\n",
       "    }\n",
       "    progress:not([value]), progress:not([value])::-webkit-progress-bar {\n",
       "        background: repeating-linear-gradient(45deg, #7e7e7e, #7e7e7e 10px, #5c5c5c 10px, #5c5c5c 20px);\n",
       "    }\n",
       "    .progress-bar-interrupted, .progress-bar-interrupted::-webkit-progress-bar {\n",
       "        background: #F44336;\n",
       "    }\n",
       "</style>\n"
      ],
      "text/plain": [
       "<IPython.core.display.HTML object>"
      ]
     },
     "metadata": {},
     "output_type": "display_data"
    },
    {
     "data": {
      "text/html": [],
      "text/plain": [
       "<IPython.core.display.HTML object>"
      ]
     },
     "metadata": {},
     "output_type": "display_data"
    },
    {
     "name": "stdout",
     "output_type": "stream",
     "text": [
      "Epoch 1/5\n",
      "17/17 [==============================] - 190s 10s/step - loss: 1.6337 - accuracy: 0.3415 - val_loss: 1.1725 - val_accuracy: 0.7231\n",
      "Epoch 2/5\n",
      "17/17 [==============================] - 176s 10s/step - loss: 1.1196 - accuracy: 0.6962 - val_loss: 0.9972 - val_accuracy: 0.7231\n",
      "Epoch 3/5\n",
      "17/17 [==============================] - 171s 10s/step - loss: 1.0267 - accuracy: 0.6981 - val_loss: 0.9746 - val_accuracy: 0.7231\n",
      "Epoch 4/5\n",
      "17/17 [==============================] - 176s 10s/step - loss: 0.9962 - accuracy: 0.6981 - val_loss: 0.9615 - val_accuracy: 0.7231\n",
      "Epoch 5/5\n",
      "17/17 [==============================] - 186s 11s/step - loss: 0.9596 - accuracy: 0.6981 - val_loss: 0.9432 - val_accuracy: 0.7231\n"
     ]
    },
    {
     "data": {
      "text/plain": [
       "<keras.callbacks.History at 0x7fede67fb820>"
      ]
     },
     "execution_count": 7,
     "metadata": {},
     "output_type": "execute_result"
    }
   ],
   "source": [
    "import ktrain\n",
    "from ktrain import text\n",
    "\n",
    "# selecting transformer to use\n",
    "MODEL_NAME = 'bert-base-multilingual-uncased'\n",
    "\n",
    "# Common hyper-parameters\n",
    "MAXLEN  = 136 # Only consider the first 136 words of each news content\n",
    "batch_size = 32 #  the number of training examples utilised in one iteration.\n",
    "learning_rate = 6e-6 # the amount that the weights are updated during training\n",
    "epochs = 5 # the number of passes of the entire training dataset the algorithm has completed\n",
    "t = text.Transformer(MODEL_NAME, maxlen = MAXLEN)\n",
    "trn = t.preprocess_train(df_train.news_heading_swa.values, df_train.news_type.values)\n",
    "val = t.preprocess_test(df_test.news_heading_swa.values, df_test.news_type.values)\n",
    "model = t.get_classifier()\n",
    "learner = ktrain.get_learner(model, train_data=trn, val_data=val, batch_size=batch_size)\n",
    "learner.fit(learning_rate, epochs)"
   ]
  },
  {
   "cell_type": "code",
   "execution_count": 7,
   "metadata": {},
   "outputs": [
    {
     "name": "stdout",
     "output_type": "stream",
     "text": [
      "preprocessing train...\n",
      "language: sw\n",
      "train sequence lengths:\n",
      "\tmean : 12\n",
      "\t95percentile : 18\n",
      "\t99percentile : 21\n"
     ]
    },
    {
     "data": {
      "text/html": [
       "\n",
       "<style>\n",
       "    /* Turns off some styling */\n",
       "    progress {\n",
       "        /* gets rid of default border in Firefox and Opera. */\n",
       "        border: none;\n",
       "        /* Needs to be in here for Safari polyfill so background images work as expected. */\n",
       "        background-size: auto;\n",
       "    }\n",
       "    progress:not([value]), progress:not([value])::-webkit-progress-bar {\n",
       "        background: repeating-linear-gradient(45deg, #7e7e7e, #7e7e7e 10px, #5c5c5c 10px, #5c5c5c 20px);\n",
       "    }\n",
       "    .progress-bar-interrupted, .progress-bar-interrupted::-webkit-progress-bar {\n",
       "        background: #F44336;\n",
       "    }\n",
       "</style>\n"
      ],
      "text/plain": [
       "<IPython.core.display.HTML object>"
      ]
     },
     "metadata": {},
     "output_type": "display_data"
    },
    {
     "data": {
      "text/html": [],
      "text/plain": [
       "<IPython.core.display.HTML object>"
      ]
     },
     "metadata": {},
     "output_type": "display_data"
    },
    {
     "name": "stdout",
     "output_type": "stream",
     "text": [
      "Is Multi-Label? False\n",
      "preprocessing test...\n",
      "language: sw\n",
      "test sequence lengths:\n",
      "\tmean : 12\n",
      "\t95percentile : 16\n",
      "\t99percentile : 17\n"
     ]
    },
    {
     "data": {
      "text/html": [
       "\n",
       "<style>\n",
       "    /* Turns off some styling */\n",
       "    progress {\n",
       "        /* gets rid of default border in Firefox and Opera. */\n",
       "        border: none;\n",
       "        /* Needs to be in here for Safari polyfill so background images work as expected. */\n",
       "        background-size: auto;\n",
       "    }\n",
       "    progress:not([value]), progress:not([value])::-webkit-progress-bar {\n",
       "        background: repeating-linear-gradient(45deg, #7e7e7e, #7e7e7e 10px, #5c5c5c 10px, #5c5c5c 20px);\n",
       "    }\n",
       "    .progress-bar-interrupted, .progress-bar-interrupted::-webkit-progress-bar {\n",
       "        background: #F44336;\n",
       "    }\n",
       "</style>\n"
      ],
      "text/plain": [
       "<IPython.core.display.HTML object>"
      ]
     },
     "metadata": {},
     "output_type": "display_data"
    },
    {
     "data": {
      "text/html": [],
      "text/plain": [
       "<IPython.core.display.HTML object>"
      ]
     },
     "metadata": {},
     "output_type": "display_data"
    },
    {
     "name": "stdout",
     "output_type": "stream",
     "text": [
      "Epoch 1/5\n",
      "17/17 [==============================] - 222s 12s/step - loss: 1.1584 - accuracy: 0.6472 - val_loss: 0.9941 - val_accuracy: 0.7231\n",
      "Epoch 2/5\n",
      "17/17 [==============================] - 191s 11s/step - loss: 1.0330 - accuracy: 0.6981 - val_loss: 0.9939 - val_accuracy: 0.7231\n",
      "Epoch 3/5\n",
      "17/17 [==============================] - 184s 11s/step - loss: 1.0202 - accuracy: 0.6981 - val_loss: 0.9905 - val_accuracy: 0.7231\n",
      "Epoch 4/5\n",
      "17/17 [==============================] - 199s 12s/step - loss: 0.9630 - accuracy: 0.7000 - val_loss: 1.0226 - val_accuracy: 0.6923\n",
      "Epoch 5/5\n",
      "17/17 [==============================] - 202s 12s/step - loss: 0.9082 - accuracy: 0.7057 - val_loss: 0.8261 - val_accuracy: 0.7692\n"
     ]
    },
    {
     "data": {
      "text/plain": [
       "<keras.callbacks.History at 0x7fd9250268b0>"
      ]
     },
     "execution_count": 7,
     "metadata": {},
     "output_type": "execute_result"
    }
   ],
   "source": [
    "import ktrain\n",
    "from ktrain import text\n",
    "\n",
    "# selecting transformer to use\n",
    "MODEL_NAME = 'bert-base-multilingual-uncased'\n",
    "\n",
    "# Common hyper-parameters\n",
    "MAXLEN  = 136 # Only consider the first 136 words of each news content\n",
    "batch_size = 32 #  the number of training examples utilised in one iteration.\n",
    "learning_rate = 6e-5 # the amount that the weights are updated during training\n",
    "epochs = 5 # the number of passes of the entire training dataset the algorithm has completed\n",
    "t = text.Transformer(MODEL_NAME, maxlen = MAXLEN)\n",
    "trn = t.preprocess_train(df_train.news_heading_swa.values, df_train.news_type.values)\n",
    "val = t.preprocess_test(df_test.news_heading_swa.values, df_test.news_type.values)\n",
    "model = t.get_classifier()\n",
    "learner = ktrain.get_learner(model, train_data=trn, val_data=val, batch_size=batch_size)\n",
    "learner.fit(learning_rate, epochs)"
   ]
  },
  {
   "cell_type": "code",
   "execution_count": 8,
   "metadata": {},
   "outputs": [
    {
     "name": "stdout",
     "output_type": "stream",
     "text": [
      "preprocessing train...\n",
      "language: sw\n",
      "train sequence lengths:\n",
      "\tmean : 12\n",
      "\t95percentile : 18\n",
      "\t99percentile : 21\n"
     ]
    },
    {
     "data": {
      "text/html": [
       "\n",
       "<style>\n",
       "    /* Turns off some styling */\n",
       "    progress {\n",
       "        /* gets rid of default border in Firefox and Opera. */\n",
       "        border: none;\n",
       "        /* Needs to be in here for Safari polyfill so background images work as expected. */\n",
       "        background-size: auto;\n",
       "    }\n",
       "    progress:not([value]), progress:not([value])::-webkit-progress-bar {\n",
       "        background: repeating-linear-gradient(45deg, #7e7e7e, #7e7e7e 10px, #5c5c5c 10px, #5c5c5c 20px);\n",
       "    }\n",
       "    .progress-bar-interrupted, .progress-bar-interrupted::-webkit-progress-bar {\n",
       "        background: #F44336;\n",
       "    }\n",
       "</style>\n"
      ],
      "text/plain": [
       "<IPython.core.display.HTML object>"
      ]
     },
     "metadata": {},
     "output_type": "display_data"
    },
    {
     "data": {
      "text/html": [],
      "text/plain": [
       "<IPython.core.display.HTML object>"
      ]
     },
     "metadata": {},
     "output_type": "display_data"
    },
    {
     "name": "stdout",
     "output_type": "stream",
     "text": [
      "Is Multi-Label? False\n",
      "preprocessing test...\n",
      "language: sw\n",
      "test sequence lengths:\n",
      "\tmean : 12\n",
      "\t95percentile : 16\n",
      "\t99percentile : 17\n"
     ]
    },
    {
     "data": {
      "text/html": [
       "\n",
       "<style>\n",
       "    /* Turns off some styling */\n",
       "    progress {\n",
       "        /* gets rid of default border in Firefox and Opera. */\n",
       "        border: none;\n",
       "        /* Needs to be in here for Safari polyfill so background images work as expected. */\n",
       "        background-size: auto;\n",
       "    }\n",
       "    progress:not([value]), progress:not([value])::-webkit-progress-bar {\n",
       "        background: repeating-linear-gradient(45deg, #7e7e7e, #7e7e7e 10px, #5c5c5c 10px, #5c5c5c 20px);\n",
       "    }\n",
       "    .progress-bar-interrupted, .progress-bar-interrupted::-webkit-progress-bar {\n",
       "        background: #F44336;\n",
       "    }\n",
       "</style>\n"
      ],
      "text/plain": [
       "<IPython.core.display.HTML object>"
      ]
     },
     "metadata": {},
     "output_type": "display_data"
    },
    {
     "data": {
      "text/html": [],
      "text/plain": [
       "<IPython.core.display.HTML object>"
      ]
     },
     "metadata": {},
     "output_type": "display_data"
    },
    {
     "name": "stdout",
     "output_type": "stream",
     "text": [
      "Epoch 1/7\n",
      "17/17 [==============================] - 241s 13s/step - loss: 1.1425 - accuracy: 0.6528 - val_loss: 1.0125 - val_accuracy: 0.7231\n",
      "Epoch 2/7\n",
      "17/17 [==============================] - 221s 13s/step - loss: 1.0240 - accuracy: 0.6981 - val_loss: 0.9927 - val_accuracy: 0.7231\n",
      "Epoch 3/7\n",
      "17/17 [==============================] - 211s 12s/step - loss: 0.9655 - accuracy: 0.6981 - val_loss: 1.0515 - val_accuracy: 0.6769\n",
      "Epoch 4/7\n",
      "17/17 [==============================] - 205s 12s/step - loss: 0.8649 - accuracy: 0.7094 - val_loss: 0.9526 - val_accuracy: 0.6462\n",
      "Epoch 5/7\n",
      "17/17 [==============================] - 198s 12s/step - loss: 0.6640 - accuracy: 0.7736 - val_loss: 0.8230 - val_accuracy: 0.7846\n",
      "Epoch 6/7\n",
      "17/17 [==============================] - 206s 12s/step - loss: 0.5007 - accuracy: 0.8509 - val_loss: 0.7826 - val_accuracy: 0.7538\n",
      "Epoch 7/7\n",
      "17/17 [==============================] - 205s 12s/step - loss: 0.5215 - accuracy: 0.8679 - val_loss: 0.7991 - val_accuracy: 0.8000\n"
     ]
    },
    {
     "data": {
      "text/plain": [
       "<keras.callbacks.History at 0x7fd7927c2880>"
      ]
     },
     "execution_count": 8,
     "metadata": {},
     "output_type": "execute_result"
    }
   ],
   "source": [
    "import ktrain\n",
    "from ktrain import text\n",
    "\n",
    "# selecting transformer to use\n",
    "MODEL_NAME = 'bert-base-multilingual-uncased'\n",
    "\n",
    "# Common hyper-parameters\n",
    "MAXLEN  = 136 # Only consider the first 136 words of each news content\n",
    "batch_size = 32 #  the number of training examples utilised in one iteration.\n",
    "learning_rate = 6e-5 # the amount that the weights are updated during training\n",
    "epochs = 7 # the number of passes of the entire training dataset the algorithm has completed\n",
    "t = text.Transformer(MODEL_NAME, maxlen = MAXLEN)\n",
    "trn = t.preprocess_train(df_train.news_heading_swa.values, df_train.news_type.values)\n",
    "val = t.preprocess_test(df_test.news_heading_swa.values, df_test.news_type.values)\n",
    "model = t.get_classifier()\n",
    "learner = ktrain.get_learner(model, train_data=trn, val_data=val, batch_size=batch_size)\n",
    "learner.fit(learning_rate, epochs)"
   ]
  },
  {
   "cell_type": "code",
   "execution_count": 9,
   "metadata": {},
   "outputs": [
    {
     "name": "stdout",
     "output_type": "stream",
     "text": [
      "preprocessing train...\n",
      "language: sw\n",
      "train sequence lengths:\n",
      "\tmean : 12\n",
      "\t95percentile : 18\n",
      "\t99percentile : 21\n"
     ]
    },
    {
     "data": {
      "text/html": [
       "\n",
       "<style>\n",
       "    /* Turns off some styling */\n",
       "    progress {\n",
       "        /* gets rid of default border in Firefox and Opera. */\n",
       "        border: none;\n",
       "        /* Needs to be in here for Safari polyfill so background images work as expected. */\n",
       "        background-size: auto;\n",
       "    }\n",
       "    progress:not([value]), progress:not([value])::-webkit-progress-bar {\n",
       "        background: repeating-linear-gradient(45deg, #7e7e7e, #7e7e7e 10px, #5c5c5c 10px, #5c5c5c 20px);\n",
       "    }\n",
       "    .progress-bar-interrupted, .progress-bar-interrupted::-webkit-progress-bar {\n",
       "        background: #F44336;\n",
       "    }\n",
       "</style>\n"
      ],
      "text/plain": [
       "<IPython.core.display.HTML object>"
      ]
     },
     "metadata": {},
     "output_type": "display_data"
    },
    {
     "data": {
      "text/html": [],
      "text/plain": [
       "<IPython.core.display.HTML object>"
      ]
     },
     "metadata": {},
     "output_type": "display_data"
    },
    {
     "name": "stdout",
     "output_type": "stream",
     "text": [
      "Is Multi-Label? False\n",
      "preprocessing test...\n",
      "language: sw\n",
      "test sequence lengths:\n",
      "\tmean : 12\n",
      "\t95percentile : 16\n",
      "\t99percentile : 17\n"
     ]
    },
    {
     "data": {
      "text/html": [
       "\n",
       "<style>\n",
       "    /* Turns off some styling */\n",
       "    progress {\n",
       "        /* gets rid of default border in Firefox and Opera. */\n",
       "        border: none;\n",
       "        /* Needs to be in here for Safari polyfill so background images work as expected. */\n",
       "        background-size: auto;\n",
       "    }\n",
       "    progress:not([value]), progress:not([value])::-webkit-progress-bar {\n",
       "        background: repeating-linear-gradient(45deg, #7e7e7e, #7e7e7e 10px, #5c5c5c 10px, #5c5c5c 20px);\n",
       "    }\n",
       "    .progress-bar-interrupted, .progress-bar-interrupted::-webkit-progress-bar {\n",
       "        background: #F44336;\n",
       "    }\n",
       "</style>\n"
      ],
      "text/plain": [
       "<IPython.core.display.HTML object>"
      ]
     },
     "metadata": {},
     "output_type": "display_data"
    },
    {
     "data": {
      "text/html": [],
      "text/plain": [
       "<IPython.core.display.HTML object>"
      ]
     },
     "metadata": {},
     "output_type": "display_data"
    },
    {
     "name": "stdout",
     "output_type": "stream",
     "text": [
      "Epoch 1/10\n",
      "17/17 [==============================] - 216s 12s/step - loss: 1.1424 - accuracy: 0.6811 - val_loss: 1.0050 - val_accuracy: 0.7231\n",
      "Epoch 2/10\n",
      "17/17 [==============================] - 193s 11s/step - loss: 1.0107 - accuracy: 0.6981 - val_loss: 1.0241 - val_accuracy: 0.7077\n",
      "Epoch 3/10\n",
      "17/17 [==============================] - 191s 11s/step - loss: 0.9099 - accuracy: 0.7453 - val_loss: 0.8706 - val_accuracy: 0.7231\n",
      "Epoch 4/10\n",
      "17/17 [==============================] - 201s 12s/step - loss: 0.8485 - accuracy: 0.7509 - val_loss: 0.8337 - val_accuracy: 0.7846\n",
      "Epoch 5/10\n",
      "17/17 [==============================] - 193s 11s/step - loss: 0.6976 - accuracy: 0.8038 - val_loss: 0.8632 - val_accuracy: 0.7385\n",
      "Epoch 6/10\n",
      "17/17 [==============================] - 181s 11s/step - loss: 0.5122 - accuracy: 0.8623 - val_loss: 0.9632 - val_accuracy: 0.7231\n",
      "Epoch 7/10\n",
      "17/17 [==============================] - 183s 11s/step - loss: 0.4617 - accuracy: 0.8604 - val_loss: 1.2989 - val_accuracy: 0.6462\n",
      "Epoch 8/10\n",
      "17/17 [==============================] - 186s 11s/step - loss: 0.3746 - accuracy: 0.8887 - val_loss: 0.9628 - val_accuracy: 0.7231\n",
      "Epoch 9/10\n",
      "17/17 [==============================] - 186s 11s/step - loss: 0.3639 - accuracy: 0.8925 - val_loss: 1.2059 - val_accuracy: 0.6462\n",
      "Epoch 10/10\n",
      "17/17 [==============================] - 187s 11s/step - loss: 0.2519 - accuracy: 0.9321 - val_loss: 1.1119 - val_accuracy: 0.6769\n"
     ]
    },
    {
     "data": {
      "text/plain": [
       "<keras.callbacks.History at 0x7fd6b18e6940>"
      ]
     },
     "execution_count": 9,
     "metadata": {},
     "output_type": "execute_result"
    }
   ],
   "source": [
    "import ktrain\n",
    "from ktrain import text\n",
    "\n",
    "# selecting transformer to use\n",
    "MODEL_NAME = 'bert-base-multilingual-uncased'\n",
    "\n",
    "# Common hyper-parameters\n",
    "MAXLEN  = 136 # Only consider the first 136 words of each news content\n",
    "batch_size = 32 #  the number of training examples utilised in one iteration.\n",
    "learning_rate = 6e-5 # the amount that the weights are updated during training\n",
    "epochs = 10 # the number of passes of the entire training dataset the algorithm has completed\n",
    "t = text.Transformer(MODEL_NAME, maxlen = MAXLEN)\n",
    "trn = t.preprocess_train(df_train.news_heading_swa.values, df_train.news_type.values)\n",
    "val = t.preprocess_test(df_test.news_heading_swa.values, df_test.news_type.values)\n",
    "model = t.get_classifier()\n",
    "learner = ktrain.get_learner(model, train_data=trn, val_data=val, batch_size=batch_size)\n",
    "learner.fit(learning_rate, epochs)"
   ]
  },
  {
   "cell_type": "code",
   "execution_count": 12,
   "metadata": {},
   "outputs": [
    {
     "name": "stdout",
     "output_type": "stream",
     "text": [
      "preprocessing train...\n",
      "language: sw\n",
      "train sequence lengths:\n",
      "\tmean : 12\n",
      "\t95percentile : 18\n",
      "\t99percentile : 21\n"
     ]
    },
    {
     "data": {
      "text/html": [
       "\n",
       "<style>\n",
       "    /* Turns off some styling */\n",
       "    progress {\n",
       "        /* gets rid of default border in Firefox and Opera. */\n",
       "        border: none;\n",
       "        /* Needs to be in here for Safari polyfill so background images work as expected. */\n",
       "        background-size: auto;\n",
       "    }\n",
       "    progress:not([value]), progress:not([value])::-webkit-progress-bar {\n",
       "        background: repeating-linear-gradient(45deg, #7e7e7e, #7e7e7e 10px, #5c5c5c 10px, #5c5c5c 20px);\n",
       "    }\n",
       "    .progress-bar-interrupted, .progress-bar-interrupted::-webkit-progress-bar {\n",
       "        background: #F44336;\n",
       "    }\n",
       "</style>\n"
      ],
      "text/plain": [
       "<IPython.core.display.HTML object>"
      ]
     },
     "metadata": {},
     "output_type": "display_data"
    },
    {
     "data": {
      "text/html": [],
      "text/plain": [
       "<IPython.core.display.HTML object>"
      ]
     },
     "metadata": {},
     "output_type": "display_data"
    },
    {
     "name": "stdout",
     "output_type": "stream",
     "text": [
      "Is Multi-Label? False\n",
      "preprocessing test...\n",
      "language: sw\n",
      "test sequence lengths:\n",
      "\tmean : 12\n",
      "\t95percentile : 16\n",
      "\t99percentile : 17\n"
     ]
    },
    {
     "data": {
      "text/html": [
       "\n",
       "<style>\n",
       "    /* Turns off some styling */\n",
       "    progress {\n",
       "        /* gets rid of default border in Firefox and Opera. */\n",
       "        border: none;\n",
       "        /* Needs to be in here for Safari polyfill so background images work as expected. */\n",
       "        background-size: auto;\n",
       "    }\n",
       "    progress:not([value]), progress:not([value])::-webkit-progress-bar {\n",
       "        background: repeating-linear-gradient(45deg, #7e7e7e, #7e7e7e 10px, #5c5c5c 10px, #5c5c5c 20px);\n",
       "    }\n",
       "    .progress-bar-interrupted, .progress-bar-interrupted::-webkit-progress-bar {\n",
       "        background: #F44336;\n",
       "    }\n",
       "</style>\n"
      ],
      "text/plain": [
       "<IPython.core.display.HTML object>"
      ]
     },
     "metadata": {},
     "output_type": "display_data"
    },
    {
     "data": {
      "text/html": [],
      "text/plain": [
       "<IPython.core.display.HTML object>"
      ]
     },
     "metadata": {},
     "output_type": "display_data"
    },
    {
     "name": "stdout",
     "output_type": "stream",
     "text": [
      "Epoch 1/10\n",
      "17/17 [==============================] - 219s 12s/step - loss: 1.2374 - accuracy: 0.6226 - val_loss: 0.9909 - val_accuracy: 0.7231\n",
      "Epoch 2/10\n",
      "17/17 [==============================] - 183s 11s/step - loss: 1.0274 - accuracy: 0.6981 - val_loss: 1.0224 - val_accuracy: 0.7231\n",
      "Epoch 3/10\n",
      "17/17 [==============================] - 180s 11s/step - loss: 1.0105 - accuracy: 0.6981 - val_loss: 0.9795 - val_accuracy: 0.7231\n",
      "Epoch 4/10\n",
      "17/17 [==============================] - 181s 11s/step - loss: 0.9505 - accuracy: 0.7057 - val_loss: 0.9208 - val_accuracy: 0.7385\n",
      "Epoch 5/10\n",
      "17/17 [==============================] - 180s 11s/step - loss: 0.8361 - accuracy: 0.7547 - val_loss: 0.9888 - val_accuracy: 0.7231\n",
      "Epoch 6/10\n",
      "17/17 [==============================] - 181s 11s/step - loss: 0.7538 - accuracy: 0.7698 - val_loss: 0.9444 - val_accuracy: 0.6769\n",
      "Epoch 7/10\n",
      "17/17 [==============================] - 180s 11s/step - loss: 0.6336 - accuracy: 0.8132 - val_loss: 0.9278 - val_accuracy: 0.7846\n",
      "Epoch 8/10\n",
      "17/17 [==============================] - 179s 11s/step - loss: 0.4977 - accuracy: 0.8604 - val_loss: 0.8905 - val_accuracy: 0.7692\n",
      "Epoch 9/10\n",
      "17/17 [==============================] - 181s 11s/step - loss: 0.4082 - accuracy: 0.8792 - val_loss: 1.0279 - val_accuracy: 0.7077\n",
      "Epoch 10/10\n",
      "17/17 [==============================] - 179s 10s/step - loss: 0.2912 - accuracy: 0.9170 - val_loss: 1.1033 - val_accuracy: 0.7231\n"
     ]
    },
    {
     "data": {
      "text/plain": [
       "<keras.callbacks.History at 0x7fd574e88ee0>"
      ]
     },
     "execution_count": 12,
     "metadata": {},
     "output_type": "execute_result"
    }
   ],
   "source": [
    "import ktrain\n",
    "from ktrain import text\n",
    "\n",
    "# selecting transformer to use\n",
    "MODEL_NAME = 'bert-base-multilingual-uncased'\n",
    "\n",
    "# Common hyper-parameters\n",
    "MAXLEN  = 136 # Only consider the first 136 words of each news content\n",
    "batch_size = 32 #  the number of training examples utilised in one iteration.\n",
    "learning_rate = 5e-5 # the amount that the weights are updated during training\n",
    "epochs = 10 # the number of passes of the entire training dataset the algorithm has completed\n",
    "t = text.Transformer(MODEL_NAME, maxlen = MAXLEN)\n",
    "trn = t.preprocess_train(df_train.news_heading_swa.values, df_train.news_type.values)\n",
    "val = t.preprocess_test(df_test.news_heading_swa.values, df_test.news_type.values)\n",
    "model = t.get_classifier()\n",
    "learner = ktrain.get_learner(model, train_data=trn, val_data=val, batch_size=batch_size)\n",
    "learner.fit(learning_rate, epochs)"
   ]
  },
  {
   "cell_type": "code",
   "execution_count": 14,
   "metadata": {},
   "outputs": [
    {
     "name": "stdout",
     "output_type": "stream",
     "text": [
      "preprocessing train...\n",
      "language: sw\n",
      "train sequence lengths:\n",
      "\tmean : 12\n",
      "\t95percentile : 18\n",
      "\t99percentile : 21\n"
     ]
    },
    {
     "data": {
      "text/html": [
       "\n",
       "<style>\n",
       "    /* Turns off some styling */\n",
       "    progress {\n",
       "        /* gets rid of default border in Firefox and Opera. */\n",
       "        border: none;\n",
       "        /* Needs to be in here for Safari polyfill so background images work as expected. */\n",
       "        background-size: auto;\n",
       "    }\n",
       "    progress:not([value]), progress:not([value])::-webkit-progress-bar {\n",
       "        background: repeating-linear-gradient(45deg, #7e7e7e, #7e7e7e 10px, #5c5c5c 10px, #5c5c5c 20px);\n",
       "    }\n",
       "    .progress-bar-interrupted, .progress-bar-interrupted::-webkit-progress-bar {\n",
       "        background: #F44336;\n",
       "    }\n",
       "</style>\n"
      ],
      "text/plain": [
       "<IPython.core.display.HTML object>"
      ]
     },
     "metadata": {},
     "output_type": "display_data"
    },
    {
     "data": {
      "text/html": [],
      "text/plain": [
       "<IPython.core.display.HTML object>"
      ]
     },
     "metadata": {},
     "output_type": "display_data"
    },
    {
     "name": "stdout",
     "output_type": "stream",
     "text": [
      "Is Multi-Label? False\n",
      "preprocessing test...\n",
      "language: sw\n",
      "test sequence lengths:\n",
      "\tmean : 12\n",
      "\t95percentile : 16\n",
      "\t99percentile : 17\n"
     ]
    },
    {
     "data": {
      "text/html": [
       "\n",
       "<style>\n",
       "    /* Turns off some styling */\n",
       "    progress {\n",
       "        /* gets rid of default border in Firefox and Opera. */\n",
       "        border: none;\n",
       "        /* Needs to be in here for Safari polyfill so background images work as expected. */\n",
       "        background-size: auto;\n",
       "    }\n",
       "    progress:not([value]), progress:not([value])::-webkit-progress-bar {\n",
       "        background: repeating-linear-gradient(45deg, #7e7e7e, #7e7e7e 10px, #5c5c5c 10px, #5c5c5c 20px);\n",
       "    }\n",
       "    .progress-bar-interrupted, .progress-bar-interrupted::-webkit-progress-bar {\n",
       "        background: #F44336;\n",
       "    }\n",
       "</style>\n"
      ],
      "text/plain": [
       "<IPython.core.display.HTML object>"
      ]
     },
     "metadata": {},
     "output_type": "display_data"
    },
    {
     "data": {
      "text/html": [],
      "text/plain": [
       "<IPython.core.display.HTML object>"
      ]
     },
     "metadata": {},
     "output_type": "display_data"
    },
    {
     "name": "stdout",
     "output_type": "stream",
     "text": [
      "Epoch 1/10\n",
      "9/9 [==============================] - 252s 26s/step - loss: 1.2524 - accuracy: 0.6491 - val_loss: 0.9976 - val_accuracy: 0.7231\n",
      "Epoch 2/10\n",
      "9/9 [==============================] - 230s 25s/step - loss: 1.0170 - accuracy: 0.6981 - val_loss: 1.0024 - val_accuracy: 0.7231\n",
      "Epoch 3/10\n",
      "9/9 [==============================] - 420s 49s/step - loss: 1.0345 - accuracy: 0.6981 - val_loss: 1.0000 - val_accuracy: 0.7231\n",
      "Epoch 4/10\n",
      "9/9 [==============================] - 230s 25s/step - loss: 1.0154 - accuracy: 0.6981 - val_loss: 0.9846 - val_accuracy: 0.7231\n",
      "Epoch 5/10\n",
      "9/9 [==============================] - 274s 31s/step - loss: 0.9937 - accuracy: 0.6981 - val_loss: 0.9643 - val_accuracy: 0.7231\n",
      "Epoch 6/10\n",
      "9/9 [==============================] - 228s 25s/step - loss: 0.8965 - accuracy: 0.7038 - val_loss: 1.1599 - val_accuracy: 0.5385\n",
      "Epoch 7/10\n",
      "9/9 [==============================] - 224s 25s/step - loss: 0.6913 - accuracy: 0.7774 - val_loss: 0.8700 - val_accuracy: 0.7692\n",
      "Epoch 8/10\n",
      "9/9 [==============================] - 229s 25s/step - loss: 0.5889 - accuracy: 0.8226 - val_loss: 0.8761 - val_accuracy: 0.7846\n",
      "Epoch 9/10\n",
      "9/9 [==============================] - 227s 25s/step - loss: 0.4075 - accuracy: 0.8811 - val_loss: 0.9034 - val_accuracy: 0.7231\n",
      "Epoch 10/10\n",
      "9/9 [==============================] - 232s 26s/step - loss: 0.3219 - accuracy: 0.9075 - val_loss: 0.9811 - val_accuracy: 0.7385\n"
     ]
    },
    {
     "data": {
      "text/plain": [
       "<keras.callbacks.History at 0x7faf297f6760>"
      ]
     },
     "execution_count": 14,
     "metadata": {},
     "output_type": "execute_result"
    }
   ],
   "source": [
    "import ktrain\n",
    "from ktrain import text\n",
    "\n",
    "# selecting transformer to use\n",
    "MODEL_NAME = 'bert-base-multilingual-uncased'\n",
    "\n",
    "# Common hyper-parameters\n",
    "MAXLEN  = 136 # Only consider the first 136 words of each news content\n",
    "batch_size = 64 #  the number of training examples utilised in one iteration.\n",
    "learning_rate = 5e-5 # the amount that the weights are updated during training\n",
    "epochs = 10 # the number of passes of the entire training dataset the algorithm has completed\n",
    "t = text.Transformer(MODEL_NAME, maxlen = MAXLEN)\n",
    "trn = t.preprocess_train(df_train.news_heading_swa.values, df_train.news_type.values)\n",
    "val = t.preprocess_test(df_test.news_heading_swa.values, df_test.news_type.values)\n",
    "model = t.get_classifier()\n",
    "learner = ktrain.get_learner(model, train_data=trn, val_data=val, batch_size=batch_size)\n",
    "learner.fit(learning_rate, epochs)"
   ]
  },
  {
   "cell_type": "code",
   "execution_count": 16,
   "metadata": {},
   "outputs": [
    {
     "name": "stdout",
     "output_type": "stream",
     "text": [
      "preprocessing train...\n",
      "language: sw\n",
      "train sequence lengths:\n",
      "\tmean : 12\n",
      "\t95percentile : 18\n",
      "\t99percentile : 21\n"
     ]
    },
    {
     "data": {
      "text/html": [
       "\n",
       "<style>\n",
       "    /* Turns off some styling */\n",
       "    progress {\n",
       "        /* gets rid of default border in Firefox and Opera. */\n",
       "        border: none;\n",
       "        /* Needs to be in here for Safari polyfill so background images work as expected. */\n",
       "        background-size: auto;\n",
       "    }\n",
       "    progress:not([value]), progress:not([value])::-webkit-progress-bar {\n",
       "        background: repeating-linear-gradient(45deg, #7e7e7e, #7e7e7e 10px, #5c5c5c 10px, #5c5c5c 20px);\n",
       "    }\n",
       "    .progress-bar-interrupted, .progress-bar-interrupted::-webkit-progress-bar {\n",
       "        background: #F44336;\n",
       "    }\n",
       "</style>\n"
      ],
      "text/plain": [
       "<IPython.core.display.HTML object>"
      ]
     },
     "metadata": {},
     "output_type": "display_data"
    },
    {
     "data": {
      "text/html": [],
      "text/plain": [
       "<IPython.core.display.HTML object>"
      ]
     },
     "metadata": {},
     "output_type": "display_data"
    },
    {
     "name": "stdout",
     "output_type": "stream",
     "text": [
      "Is Multi-Label? False\n",
      "preprocessing test...\n",
      "language: sw\n",
      "test sequence lengths:\n",
      "\tmean : 12\n",
      "\t95percentile : 16\n",
      "\t99percentile : 17\n"
     ]
    },
    {
     "data": {
      "text/html": [
       "\n",
       "<style>\n",
       "    /* Turns off some styling */\n",
       "    progress {\n",
       "        /* gets rid of default border in Firefox and Opera. */\n",
       "        border: none;\n",
       "        /* Needs to be in here for Safari polyfill so background images work as expected. */\n",
       "        background-size: auto;\n",
       "    }\n",
       "    progress:not([value]), progress:not([value])::-webkit-progress-bar {\n",
       "        background: repeating-linear-gradient(45deg, #7e7e7e, #7e7e7e 10px, #5c5c5c 10px, #5c5c5c 20px);\n",
       "    }\n",
       "    .progress-bar-interrupted, .progress-bar-interrupted::-webkit-progress-bar {\n",
       "        background: #F44336;\n",
       "    }\n",
       "</style>\n"
      ],
      "text/plain": [
       "<IPython.core.display.HTML object>"
      ]
     },
     "metadata": {},
     "output_type": "display_data"
    },
    {
     "data": {
      "text/html": [],
      "text/plain": [
       "<IPython.core.display.HTML object>"
      ]
     },
     "metadata": {},
     "output_type": "display_data"
    },
    {
     "name": "stdout",
     "output_type": "stream",
     "text": [
      "Epoch 1/10\n",
      "9/9 [==============================] - 238s 25s/step - loss: 1.2331 - accuracy: 0.6943 - val_loss: 0.9885 - val_accuracy: 0.7231\n",
      "Epoch 2/10\n",
      "9/9 [==============================] - 230s 25s/step - loss: 1.0212 - accuracy: 0.6981 - val_loss: 1.0028 - val_accuracy: 0.7231\n",
      "Epoch 3/10\n",
      "9/9 [==============================] - 235s 26s/step - loss: 1.0135 - accuracy: 0.6774 - val_loss: 1.0061 - val_accuracy: 0.7231\n",
      "Epoch 4/10\n",
      "9/9 [==============================] - 234s 25s/step - loss: 1.0153 - accuracy: 0.6981 - val_loss: 0.9983 - val_accuracy: 0.7231\n",
      "Epoch 5/10\n",
      "9/9 [==============================] - 232s 25s/step - loss: 0.9948 - accuracy: 0.6981 - val_loss: 1.0001 - val_accuracy: 0.7231\n",
      "Epoch 6/10\n",
      "9/9 [==============================] - 237s 26s/step - loss: 0.9374 - accuracy: 0.7000 - val_loss: 1.0077 - val_accuracy: 0.7385\n",
      "Epoch 7/10\n",
      "9/9 [==============================] - 240s 26s/step - loss: 0.8612 - accuracy: 0.7358 - val_loss: 0.9988 - val_accuracy: 0.7692\n",
      "Epoch 8/10\n",
      "9/9 [==============================] - 242s 27s/step - loss: 0.7143 - accuracy: 0.7849 - val_loss: 0.8864 - val_accuracy: 0.8000\n",
      "Epoch 9/10\n",
      "9/9 [==============================] - 237s 26s/step - loss: 0.5990 - accuracy: 0.8038 - val_loss: 0.8939 - val_accuracy: 0.8000\n",
      "Epoch 10/10\n",
      "9/9 [==============================] - 239s 26s/step - loss: 0.5377 - accuracy: 0.8415 - val_loss: 1.0571 - val_accuracy: 0.7231\n"
     ]
    },
    {
     "data": {
      "text/plain": [
       "<keras.callbacks.History at 0x7fac2e6f9940>"
      ]
     },
     "execution_count": 16,
     "metadata": {},
     "output_type": "execute_result"
    }
   ],
   "source": [
    "import ktrain\n",
    "from ktrain import text\n",
    "\n",
    "# selecting transformer to use\n",
    "MODEL_NAME = 'bert-base-multilingual-uncased'\n",
    "\n",
    "# Common hyper-parameters\n",
    "MAXLEN  = 136 # Only consider the first 136 words of each news content\n",
    "batch_size = 64 #  the number of training examples utilised in one iteration.\n",
    "learning_rate = 6e-5 # the amount that the weights are updated during training\n",
    "epochs = 10 # the number of passes of the entire training dataset the algorithm has completed\n",
    "t = text.Transformer(MODEL_NAME, maxlen = MAXLEN)\n",
    "trn = t.preprocess_train(df_train.news_heading_swa.values, df_train.news_type.values)\n",
    "val = t.preprocess_test(df_test.news_heading_swa.values, df_test.news_type.values)\n",
    "model = t.get_classifier()\n",
    "learner = ktrain.get_learner(model, train_data=trn, val_data=val, batch_size=batch_size)\n",
    "learner.fit(learning_rate, epochs)"
   ]
  },
  {
   "cell_type": "markdown",
   "metadata": {},
   "source": [
    "# Selecting the best model "
   ]
  },
  {
   "cell_type": "code",
   "execution_count": 10,
   "metadata": {},
   "outputs": [
    {
     "name": "stdout",
     "output_type": "stream",
     "text": [
      "preprocessing train...\n",
      "language: sw\n",
      "train sequence lengths:\n",
      "\tmean : 12\n",
      "\t95percentile : 18\n",
      "\t99percentile : 21\n"
     ]
    },
    {
     "data": {
      "text/html": [
       "\n",
       "<style>\n",
       "    /* Turns off some styling */\n",
       "    progress {\n",
       "        /* gets rid of default border in Firefox and Opera. */\n",
       "        border: none;\n",
       "        /* Needs to be in here for Safari polyfill so background images work as expected. */\n",
       "        background-size: auto;\n",
       "    }\n",
       "    progress:not([value]), progress:not([value])::-webkit-progress-bar {\n",
       "        background: repeating-linear-gradient(45deg, #7e7e7e, #7e7e7e 10px, #5c5c5c 10px, #5c5c5c 20px);\n",
       "    }\n",
       "    .progress-bar-interrupted, .progress-bar-interrupted::-webkit-progress-bar {\n",
       "        background: #F44336;\n",
       "    }\n",
       "</style>\n"
      ],
      "text/plain": [
       "<IPython.core.display.HTML object>"
      ]
     },
     "metadata": {},
     "output_type": "display_data"
    },
    {
     "data": {
      "text/html": [],
      "text/plain": [
       "<IPython.core.display.HTML object>"
      ]
     },
     "metadata": {},
     "output_type": "display_data"
    },
    {
     "name": "stdout",
     "output_type": "stream",
     "text": [
      "Is Multi-Label? False\n",
      "preprocessing test...\n",
      "language: sw\n",
      "test sequence lengths:\n",
      "\tmean : 12\n",
      "\t95percentile : 16\n",
      "\t99percentile : 17\n"
     ]
    },
    {
     "data": {
      "text/html": [
       "\n",
       "<style>\n",
       "    /* Turns off some styling */\n",
       "    progress {\n",
       "        /* gets rid of default border in Firefox and Opera. */\n",
       "        border: none;\n",
       "        /* Needs to be in here for Safari polyfill so background images work as expected. */\n",
       "        background-size: auto;\n",
       "    }\n",
       "    progress:not([value]), progress:not([value])::-webkit-progress-bar {\n",
       "        background: repeating-linear-gradient(45deg, #7e7e7e, #7e7e7e 10px, #5c5c5c 10px, #5c5c5c 20px);\n",
       "    }\n",
       "    .progress-bar-interrupted, .progress-bar-interrupted::-webkit-progress-bar {\n",
       "        background: #F44336;\n",
       "    }\n",
       "</style>\n"
      ],
      "text/plain": [
       "<IPython.core.display.HTML object>"
      ]
     },
     "metadata": {},
     "output_type": "display_data"
    },
    {
     "data": {
      "text/html": [],
      "text/plain": [
       "<IPython.core.display.HTML object>"
      ]
     },
     "metadata": {},
     "output_type": "display_data"
    },
    {
     "name": "stdout",
     "output_type": "stream",
     "text": [
      "Epoch 1/10\n",
      "17/17 [==============================] - 190s 10s/step - loss: 1.2065 - accuracy: 0.6075 - val_loss: 1.0315 - val_accuracy: 0.7231\n",
      "Epoch 2/10\n",
      "17/17 [==============================] - 171s 10s/step - loss: 1.0014 - accuracy: 0.6981 - val_loss: 1.0198 - val_accuracy: 0.7231\n",
      "Epoch 3/10\n",
      "17/17 [==============================] - 174s 10s/step - loss: 0.9144 - accuracy: 0.6981 - val_loss: 0.9119 - val_accuracy: 0.7231\n",
      "Epoch 4/10\n",
      "17/17 [==============================] - 175s 10s/step - loss: 0.7413 - accuracy: 0.7717 - val_loss: 0.8390 - val_accuracy: 0.7846\n",
      "Epoch 5/10\n",
      "17/17 [==============================] - 172s 10s/step - loss: 0.6002 - accuracy: 0.8226 - val_loss: 1.0962 - val_accuracy: 0.7077\n",
      "Epoch 6/10\n",
      "17/17 [==============================] - 173s 10s/step - loss: 0.4427 - accuracy: 0.8792 - val_loss: 0.8575 - val_accuracy: 0.7385\n",
      "Epoch 7/10\n",
      "17/17 [==============================] - 172s 10s/step - loss: 0.3114 - accuracy: 0.9151 - val_loss: 0.8723 - val_accuracy: 0.7538\n",
      "Epoch 8/10\n",
      "17/17 [==============================] - 188s 11s/step - loss: 0.3361 - accuracy: 0.9057 - val_loss: 0.9044 - val_accuracy: 0.6769\n",
      "Epoch 9/10\n",
      "17/17 [==============================] - 189s 11s/step - loss: 0.2738 - accuracy: 0.9132 - val_loss: 0.7839 - val_accuracy: 0.8154\n",
      "Epoch 10/10\n",
      "17/17 [==============================] - 189s 11s/step - loss: 0.2307 - accuracy: 0.9396 - val_loss: 0.8729 - val_accuracy: 0.8308\n"
     ]
    },
    {
     "data": {
      "text/plain": [
       "<keras.callbacks.History at 0x7fa0a77f0880>"
      ]
     },
     "execution_count": 10,
     "metadata": {},
     "output_type": "execute_result"
    }
   ],
   "source": [
    "import ktrain\n",
    "from ktrain import text\n",
    "\n",
    "# selecting transformer to use\n",
    "MODEL_NAME = 'bert-base-multilingual-uncased'\n",
    "\n",
    "# Common hyper-parameters\n",
    "MAXLEN  = 136 # Only consider the first 136 words \n",
    "batch_size = 32 #  the number of training examples utilised in one iteration.\n",
    "learning_rate = 5e-5 # the amount that the weights are updated during training\n",
    "epochs = 10 # the number of passes of the entire training dataset the algorithm has completed\n",
    "t = text.Transformer(MODEL_NAME, maxlen = MAXLEN)\n",
    "trn = t.preprocess_train(df_train.news_heading_swa.values, df_train.news_type.values)\n",
    "val = t.preprocess_test(df_test.news_heading_swa.values, df_test.news_type.values)\n",
    "model = t.get_classifier()\n",
    "learner = ktrain.get_learner(model, train_data=trn, val_data=val, batch_size=batch_size)\n",
    "learner.fit(learning_rate, epochs)"
   ]
  },
  {
   "cell_type": "markdown",
   "metadata": {},
   "source": [
    "# Testing the model"
   ]
  },
  {
   "cell_type": "code",
   "execution_count": 11,
   "metadata": {},
   "outputs": [],
   "source": [
    "kiswa_classifier = ktrain.get_predictor(learner.model,t)"
   ]
  },
  {
   "cell_type": "code",
   "execution_count": 12,
   "metadata": {},
   "outputs": [
    {
     "data": {
      "text/plain": [
       "'/Users/sumitbajare/Documents/Sussex/Project'"
      ]
     },
     "execution_count": 12,
     "metadata": {},
     "output_type": "execute_result"
    }
   ],
   "source": [
    "# Fecthing the current directory\n",
    "os.getcwd()"
   ]
  },
  {
   "cell_type": "code",
   "execution_count": 2,
   "metadata": {},
   "outputs": [],
   "source": [
    "# Chaging the directory \n",
    "import os\n",
    "os.chdir('/Users/sumitbajare/Documents/Sussex/Project/swa_corpus/BBC')"
   ]
  },
  {
   "cell_type": "code",
   "execution_count": 3,
   "metadata": {},
   "outputs": [],
   "source": [
    "def test(file):\n",
    "    '''\n",
    "        This function will read the contents of a part of a corpus and \n",
    "        predict the type of news.\n",
    "        parameters: file- the name of the file where the contents are stored\n",
    "    '''\n",
    "    # extracting a specific news from the kiswa corpus \n",
    "    test_file=open(file,'r')\n",
    "    # reading the whole file in a string\n",
    "    content=test_file.read()\n",
    "    # closing the file\n",
    "    test_file.close()\n",
    "    # prdicting the type of the news\n",
    "    news_type=kiswa_classifier.predict(clean_text(content))\n",
    "    return content,news_type"
   ]
  },
  {
   "cell_type": "code",
   "execution_count": 38,
   "metadata": {},
   "outputs": [
    {
     "data": {
      "text/html": [
       "<div>\n",
       "<style scoped>\n",
       "    .dataframe tbody tr th:only-of-type {\n",
       "        vertical-align: middle;\n",
       "    }\n",
       "\n",
       "    .dataframe tbody tr th {\n",
       "        vertical-align: top;\n",
       "    }\n",
       "\n",
       "    .dataframe thead th {\n",
       "        text-align: right;\n",
       "    }\n",
       "</style>\n",
       "<table border=\"1\" class=\"dataframe\">\n",
       "  <thead>\n",
       "    <tr style=\"text-align: right;\">\n",
       "      <th></th>\n",
       "      <th>date</th>\n",
       "      <th>id</th>\n",
       "      <th>news_heading_eng</th>\n",
       "      <th>news_heading_swa</th>\n",
       "      <th>news_type</th>\n",
       "    </tr>\n",
       "  </thead>\n",
       "  <tbody>\n",
       "    <tr>\n",
       "      <th>311</th>\n",
       "      <td>2020-11-19</td>\n",
       "      <td>bbc416</td>\n",
       "      <td>the process and vote on bbi puts deputy presid...</td>\n",
       "      <td>mchakato na upigaji kura kuhusu bbi unamweka n...</td>\n",
       "      <td>Local News</td>\n",
       "    </tr>\n",
       "    <tr>\n",
       "      <th>50</th>\n",
       "      <td>2020-02-09</td>\n",
       "      <td>bbc154</td>\n",
       "      <td>daniel toroitich arap moi : kenyans pay their ...</td>\n",
       "      <td>daniel toroitich arap moi : wakenya watoa hesh...</td>\n",
       "      <td>International news</td>\n",
       "    </tr>\n",
       "    <tr>\n",
       "      <th>91</th>\n",
       "      <td>2022-02-08</td>\n",
       "      <td>bbc616</td>\n",
       "      <td>kenyan election 2022 : president kenyatta and ...</td>\n",
       "      <td>uchaguzi wa kenya 2022 : rais kenyatta na naib...</td>\n",
       "      <td>Local News</td>\n",
       "    </tr>\n",
       "    <tr>\n",
       "      <th>594</th>\n",
       "      <td>2021-02-24</td>\n",
       "      <td>bbc460</td>\n",
       "      <td>bbc rose : my husband is old yes but why shoul...</td>\n",
       "      <td>bbc rose : mume wangu ni mzee ndio lakini kwa ...</td>\n",
       "      <td>Local News</td>\n",
       "    </tr>\n",
       "    <tr>\n",
       "      <th>213</th>\n",
       "      <td>2022-03-31</td>\n",
       "      <td>bbc640</td>\n",
       "      <td>bbi : the highest court in kenya rejected pres...</td>\n",
       "      <td>bbi : mahakama ya juu zaidi nchini kenya ilika...</td>\n",
       "      <td>Local News</td>\n",
       "    </tr>\n",
       "  </tbody>\n",
       "</table>\n",
       "</div>"
      ],
      "text/plain": [
       "           date      id                                   news_heading_eng  \\\n",
       "311  2020-11-19  bbc416  the process and vote on bbi puts deputy presid...   \n",
       "50   2020-02-09  bbc154  daniel toroitich arap moi : kenyans pay their ...   \n",
       "91   2022-02-08  bbc616  kenyan election 2022 : president kenyatta and ...   \n",
       "594  2021-02-24  bbc460  bbc rose : my husband is old yes but why shoul...   \n",
       "213  2022-03-31  bbc640  bbi : the highest court in kenya rejected pres...   \n",
       "\n",
       "                                      news_heading_swa           news_type  \n",
       "311  mchakato na upigaji kura kuhusu bbi unamweka n...          Local News  \n",
       "50   daniel toroitich arap moi : wakenya watoa hesh...  International news  \n",
       "91   uchaguzi wa kenya 2022 : rais kenyatta na naib...          Local News  \n",
       "594  bbc rose : mume wangu ni mzee ndio lakini kwa ...          Local News  \n",
       "213  bbi : mahakama ya juu zaidi nchini kenya ilika...          Local News  "
      ]
     },
     "execution_count": 38,
     "metadata": {},
     "output_type": "execute_result"
    }
   ],
   "source": [
    "# testing on this sample data\n",
    "data.sample(n=5)"
   ]
  },
  {
   "cell_type": "code",
   "execution_count": 45,
   "metadata": {},
   "outputs": [],
   "source": [
    "# testing for id=bbc416\n",
    "res1=test('20nov19.txt')"
   ]
  },
  {
   "cell_type": "code",
   "execution_count": 46,
   "metadata": {},
   "outputs": [
    {
     "data": {
      "text/plain": [
       "' Mchakato na kura ya maamuzi kuhusu BBI unamweka Naibu Rais Ruto kwenye njia panda Hezron Mogambi Mhadhiri, Chuo Kikuu cha Nairobi 19 Novemba 2020 Naibu Rais wa Kenya, William Ruto amejikuta katika hali ngumu ya kisiasa kuhusiana na mchakato na kura ya maamuzi inayotarajiwa mwaka ujao kuhusu ripoti ya Mpango wa Maridhiano (BBI) inayolenga kuleta mageuzi ya kikatiba, huku uhusiano wake na Rais Uhuru Kenyatta na kiongozi wa upinzani, Raila Odinga ukiwa njia panda. Hali anamojikuta Bw Ruto kwa sasa inatokana na hali na mjadala kuhusu marekebisho ya katiba na kile kinachoonekana kama hali iliyotokea mwaka wa 2010 wakati kulipokuwepo na kura ya maamuzi kuhusu katiba ambapo kulikuwepo na kundi na \"ndio\" na lingine la \"hapana\". Makundi mawili pinzani kuhusu BBI Tayari, kama inavyoonekana, kuna makundi mawili: moja linalohodhi na kudai kusimamia na kuongoza utaratibu wa marekebisho ya katiba na lingine linaloonekana kupinga na kutaka kuwekwa wazi kwa utaratibu wenyewe ili maoni zaidi ya Wakenya yajumuishwe kwenye ripoti ya jopo lililojulikana kama Building Bridges Initiative (BBI). Jopo hilo lililoundwa na Rais Uhuru Kenyatta na kiongozi wa upinzani Raila Odinga mnamo Machi 2018, lilipaswa kuangazia masuala tisa yakiwemo ukabila, ufisadi na ugatuzi - ikiwa ni miongoni mwa changamoto kuu tangu Kenya kupata uhuru mwaka wa 1963. Inayoonekana kwa sasa, makundi haya mawili yanajitayarisha kwa mapambano katika kile kinaoonekana kuwa mchuano mkali wa kisiasa wa mwaka ujao. Ni juma hili tu ambapo kiongozi wa chama cha ODM Raila Odinga aliwasuta kwa maneno makali wale wanaoonekana kupinga ripoti ya BBI kuhusiana na mabadiliko ya kikatiba nchini Kenya. Huku naibu rais William Ruto, kiongozi wa chama cha Amani National Congress (ANC) Musalia Mudavadi, baadhi ya viongozi wa makanisa, wawakilishi kaunti, magavana na wawakilishi wa makundi mbali mbali wakiwarai viongozi wakuu wa mchakato wa BBI, Rais Uhuru Kenyatta na Raila Odinga, kukubali ripoti ya BBI kufanyiwa marekebisho ya mwisho kabla ya kura ya maamuzi ambayo imepangwa kufanywa mnamo Juni mwaka ujao, kile kinachojitokeza ni kuwa kuna masuala yanayoleta utata kati ya pande mbili husika. Anayoyapinga Ruto Kwenye BBI Chanzo cha picha, AFP Hata hivyo, Rais Uhuru Kenyatta na kiongozi wa upinzani Raila Odinga wamekuwa wakishikilia kuwa kutayarishwa kwa ripoti hiyo kumechukua muda wa miaka miwili na kuwa, muda umeyoyoma kwa sasa kwani ripoti imefikia kikomo kutayarishwa kwa kura ya maamuzi wala si maoni zaidi. Itakumbukwa kwamba katika tangu kuanzishwa kwa jopo la BBI, naibu Rais William Ruto amekuwa akionyesha kupinga shughuli nzima ya jopo hilo. Wadadisi wengi nchini Kenya wamekuwa wakisema kwamba Bw. Ruto hajakuwa akiunga mkono shughuli au hata ajenda ya jopo hilo wala mapendekezo ya jopo lenyewe. Hii ndiyo sababu, wakati wa uzinduzi wa awamu ya kwanza wa ripoti ya BBI uliofanyika katika ukumbi huo mnamo Novemba mwaka jana, Bw Ruto alihudhuria japo alionekana kukerwa na kutotosheka na shughuli nzima ya mchakato huo. Kudhibitisha haya, wakati wa uzinduzi wa ripoti yenyewe mwezi uliopita katika ukumbi wa Bomas jijini Nairobi, akizingumza mbele ya Rais Uhuru Kenyatta na mshirika wake katika mchakato huo Raila Odinga, Dkt Ruto alikosoa baadhi ya mapendekezo ya jopo la BBI yakiwemo kubadilisha Tume Huru ya Uchaguzi (IEBC), pendekezo la kubuni wadhifa wa afisa wa kupokea malalamishi katika Idara ya Mahakama atakayeteuliwa na rais, hatua za kupokonya Seneti jukumu la kuamua mgao kwa kaunti, pendekezo la kubuniwa kwa Baraza la Polisi litakalosimamiwa na waziri wa usalama wa ndani na hatua ya kubuni nyadhifa za waziri mkuu na manaibu wake. Dkt Ruto alitaja hatua ya kubuni wadhifa wa afisa wa kupokea malalamishi kuhusu mahakama kama itakayopokonya idara hiyo uhuru wake na kuifanya ithibitiwe na serikali kuu. Alieleza kuwa mahakama inafaa kutengewa pesa zaidi kujenga korti nchini ili kuimarisha utoaji wa haki kwa Wakenya. Kinachobainika kwa sasa ni kuwa kiongozi wa upinzani Raila Odinga na naibu Rais William Ruto huenda wakawa kwenye pande mbili tofauti kuhusiana na suala BBI na labda, uchaguzi mkuu wa mwakwa wa 2022. Kwa Raila, ripoti ya BBI na kura ya maamuzi itampa nafasi nzuri ya kurudi kwa kishindo kwa shughuli za kisiasa baada ya kushindwa mara nne katika chaguzi za awali pamoja na uchaguzi wa mwaka 2017, matokeo ambayo aliyapinga mahakamani. Kwa upande mwingine, labda, utakuwa wakati mzuri kwa William Ruto kuondoka kwenye upande wa serikali na kurudia alichokifanya kwenye kura ya maamuzi ya mwaka wa 2010, ambapo alijijengea jina kwa kupinga katiba ya mwaka wa 2010. Kwa misingi hii, shughuli nzima ya BBI inaonekana kuwa na sifa kubwa sana za kisiasa na kushiriki au kutoshiriki pamoja na matokeo yake kwa wanasiasa wakuu nchini Kenya kuna umuhimu wake kwa uchaguzi wa mwaka wa 2022. Hii ndio sababu kuna vuta nikuvute kuhusiana na shughuli nzima za mchakato wa BBI. Hili lina msingi wake kwenye kampeini za BBI ambazo zinatoa nafasi mwafaka kwa wanasiasa wawili wenye ushawishi mkubwa nchini Kenya kuonyesha ni nani mwenye ushawishi zaidi na ni nani hafifu kisiasa. Hivyo ripoti ya BBI itasaidia pande zote-upande wa Rais Uhuru Kenyatta na Raila na upande ule mwingine- ule wa Ruto- kujipima kuhusiana na uchaguzi wa mwaka wa 2022. Aidha, wamekuwa wakidai kwamba mabadiliko kwa katiba kwa sasa si jambo muhimu huku wakisisitiza kwamba masuala ya Covid-19 na uchumi uliodorora yanafaa kupewa kipaumbele nchini Kenya kwa sasa. Hata ingawa akionekana kutopendezwa na shughuli nzima ya mchakato wa BBI na kura ya maamuzi itakayoandaliwa, kinachomtatiza Bw. William Ruto ni uwezekano wa kushiriki kwenye kampeni mbili za kisiasa; ya kura ya maamuzi kuhusu marekebisho ya katiba na baada ya hapo, uchaguzi Mkuu wa 2022. Katika siku za hivi karibuni, Bw. Ruto amekuwa akionyesha wazi kwamba huenda asiwe kwenye kundi litakalopinga mabadiliko ya katiba kwa sababu, kulingana na wandani wake na wachanganuzi wengine, hatua kama hiyo inaweza kutatiza lengo lake kwenye uchaguzi wa mwaka wa 2022. Njia hii panda ya kisiasa imemletea Bw. Ruto mkwaruzo wa mawazo. Lakini Bw. Ruto ameamuaje kuhusu suala hili? Kulingana na duru za kuaminika, Bw. Ruto anapanga kuendelea na mipango na miradi yake kwenye sehemu mbali mbali nchini Kenya ambayo inayonuiwa kumchora kama mwanasiasa anayewajali wananchi wa kawaida na maskini huku akiendeleza azma yake ya kuwania Urais mwaka wa 2022. Jambo hili linatokana na ukweli kwamba kushiriki kwake kamili kwenye kampeini ya kupinga ripoti ya BBI huenda iwe kikwazo kwake katika harakati za kujipigia debe na kuwania umaarufu kwenye uchaguzi wa 2022. Huwezi kusikiliza tena Maelezo ya sauti, Je ripoti ya BBI ndio suluhisho la amani na umoja wa kudumu Kenya \"Ni wazi kwetu kwamba yeyote ambaye ana wazo tofauti na yale yaliyo kwenye ripoti ya BBI ambayo yanaweza kuboresha ripoti hiyo sasa anaambiwa kwenda kwenye kundi la \"la\" ama wanaopinga.Mbona mnataka kulazimisha watu kwenda upande huo ilhali tunaweza kuungana sote kwa maelewano na kuunda nchi yenye umoja?\"aliuliza wiki hii alipokutana na wawakilishi wodi kutoka Kaunti ya Wajir huku akieleza kwamba hali iliyoko ni mtego kwake na amefahamu hilo. Kura ya maamuzi ni \"uchaguzi wa mapema\" Seneta wa Bomet Christopher Lang\\'at aliwashtumu wale wanaopinga kuongezwa kwa mabadiliko kwa ripoti ya BBI kwa kuwa na njama ya \"uchaguzi wa mapema\" ili kutathmini umaarufu wa Bw Ruto, jambo ambalo \"tumelikatalia mbali\". Wanasiasa wengi wakuu wanaomuunga mkono Bw. Ruto wanakubaliana kwamba hakuna haja ya kushiriki kwenye kampeini ya kupinga ripoti ya BBI huku mbunge wa Kimilili Didmus Barasa na mwenzake wa Keiyo Kusini Daniel Rono wakisema hakuna haja ya kupoteza pesa nyingi kupinga ripoti ya BBI ilhali lengo lao ni uchaguzi wa 2022. Pamoja na walakini huu kwenye kambi ya Bw. Ruto, kuna masuala fulani ambayo ni vivutio kwa wadau wa sekta mbali mbali ambayo huenda yakawafanya Wakenya kuipigia kura ripoti ya BBI, jambo ambalo kambi ya Ruto haitaki kutathmini wakati huu. Haya ni pamoja na kuongezwa kwa fedha zinazotolewa kwa serikali za kaunti kutoka asilimia 15 ya sasa hadi asilimia 35, kubuniwa kwa hazina ya ustawishaji wa Wadi, vijana wanaoanzisha biashara kupata afua ya kutolipa ushuru kwa kipindi cha miaka saba, nafuu kwa vijana walionufaika na fedha kutoka kwa Bodi ya Mikopo ya Elimu ya Vyuoni (HELB) kuongezewa muda wa kuanza kulipa kwa miaka minne baada ya kuhitimu, Ili kuwavutia wanawake, ripoti ya BBI na mswada wake unapendekeza kuwa kila kaunti itawachagua maseneta wawili; mwanamke na mwanaume. Suala hili bado linatatiza wadau wengi na inasemekana linashughulikiwa ili kuhakikisha suala la jinsia katika bunge la kitaifa na seneti linashughulikiwa ipasavyo. Chanzo cha picha, IKULU KENYA Rais Uhuru Kenyatta na Bw Odinga wamekuwa wakipigia debe BBI huku Bw Odinga akisisitiza kuwa mchakato wa kukusanya saini milioni moja za raia utaanza rasmi wiki hii licha ya pingamizi kutoka kwa baadhi ya viongozi wanaotaka pawepo mazungumzo kwanza. Hata hivyo, Dkt Ruto anasisitiza kuwa taifa litapoteza umoja wake iwapo wanasiasa watagawanyika katika mirengo ya \\'Ndiyo\\' na \\'La\\' ilhali bado kuna muda wa kuhakikisha pande zote zinakubaliana kuhusu yaliyomo kwenye BBI. Amekuwa akishikilia kwamba licha ya kamati ya BBI kuchukua muda wa miaka miwili kuiandaa, ripoti hiyo haiwezi kupigiwa kura jinsi ilivyo kutokana na masuala mengi ndani yake yanayokinzana. Aidha, alishikilia kuwa atawaongoza wafuasi wake kuunga BBI iwapo marekebisho yanayohimizwa na kwamba maoni ya mashirika mbalimbali yatajumuishwa katika ripoti hiyo. Hata hivyo, pendekezo hili limetupiliwa mbali na Raila Odinga akisema muda tayari umepita kwa shughuli kama hiyo. Ilivyo, hali ni tete. Linalobainika kwenye vuta nikuvute kwenye mchakato wa ripoti ya jopo la BBI ni kuwa siasa za uchaguzi wa mwaka wa 2022 zimezama kwenye mchakato mzima.'"
      ]
     },
     "execution_count": 46,
     "metadata": {},
     "output_type": "execute_result"
    }
   ],
   "source": [
    "# Displaying the news contents \n",
    "res1[0]"
   ]
  },
  {
   "cell_type": "markdown",
   "metadata": {},
   "source": [
    "### translation to english of first few lines\n",
    "\n",
    "The process and vote on BBI puts Deputy President Ruto at a crossroads Hezron Mogambi Mhadhiri, University of Nairobi 19 November 2020 The Deputy President of Kenya, William Ruto has found himself in a difficult political situation in relation to the process and vote expected next year on report of the Reconciliation Initiative (BBI) aimed at bringing about constitutional reforms, while his relationship with President Uhuru Kenyatta and the opposition leader, Raila Odinga is at a crossroad."
   ]
  },
  {
   "cell_type": "code",
   "execution_count": 47,
   "metadata": {},
   "outputs": [
    {
     "name": "stdout",
     "output_type": "stream",
     "text": [
      " News type: Local News\n"
     ]
    }
   ],
   "source": [
    "# predicting the type of news\n",
    "print(f\" News type: {res1[1]}\")"
   ]
  },
  {
   "cell_type": "code",
   "execution_count": 52,
   "metadata": {},
   "outputs": [],
   "source": [
    "# testing for id=154\n",
    "res2=test('20feb9_1.txt')"
   ]
  },
  {
   "cell_type": "code",
   "execution_count": 53,
   "metadata": {},
   "outputs": [
    {
     "data": {
      "text/plain": [
       "\"Daniel Toroitich Arap Moi: Wakenya watoa heshima zao za mwisho kwa siku ya pili mfululizo Mzee Moi aliiongoza Kenya kuelekea kurudisha mfumo wa vyama vingi na katika vipindi vingine vingi vya changamoto; na kumalizika kwa mchakato wa kukabidhi madaraka kwa amani mwezi Desemba mwaka 2002, wakati huo mchakato ambao ulikuwa nadra kufanyika Afrika, ambao uliweka mfano barani afrika na nje ya bara tangu wakati huo. Huwezi kusikiliza tena Maelezo ya video, Daniel Arap Moi: Maisha yake ya siasa na mitazamo kinzani ''Hiba yake inaishi Kenya hata leo. Filosofia ya Nyayo kuhusu 'amani, upendo na umoja' ilikuwa wimbo wake kipindi chake kama kiongozi wa nchi na serikali''. Ilieleza taarifa ya Ikulu.\""
      ]
     },
     "execution_count": 53,
     "metadata": {},
     "output_type": "execute_result"
    }
   ],
   "source": [
    "# Displaying the news contents \n",
    "res2[0]"
   ]
  },
  {
   "cell_type": "markdown",
   "metadata": {},
   "source": [
    "#### English translation \n",
    "Daniel Toroitich Arap Moi: Kenyans pay their last respects for the second day in a row Elder Moi led Kenya towards bringing back the multi-party system and in many other challenging periods; and the end of the process of handing over power peacefully in December 2002, at that time a process that was rare in Africa, which set an example in Africa and outside the continent since then. You can no longer listen Video description, Daniel Arap Moi: His political life and contradictory views ''His charisma lives on in Kenya even today. Nyayo's philosophy about 'peace, love and unity' was his song during his time as a leader of the country and government. It explained the statement of the White House."
   ]
  },
  {
   "cell_type": "code",
   "execution_count": 54,
   "metadata": {},
   "outputs": [
    {
     "data": {
      "text/plain": [
       "'International news'"
      ]
     },
     "execution_count": 54,
     "metadata": {},
     "output_type": "execute_result"
    }
   ],
   "source": [
    "res2[1] #it is international news because it talks about the passing away of Kenya's late President."
   ]
  },
  {
   "cell_type": "code",
   "execution_count": 73,
   "metadata": {},
   "outputs": [
    {
     "data": {
      "text/html": [
       "<div>\n",
       "<style scoped>\n",
       "    .dataframe tbody tr th:only-of-type {\n",
       "        vertical-align: middle;\n",
       "    }\n",
       "\n",
       "    .dataframe tbody tr th {\n",
       "        vertical-align: top;\n",
       "    }\n",
       "\n",
       "    .dataframe thead th {\n",
       "        text-align: right;\n",
       "    }\n",
       "</style>\n",
       "<table border=\"1\" class=\"dataframe\">\n",
       "  <thead>\n",
       "    <tr style=\"text-align: right;\">\n",
       "      <th></th>\n",
       "      <th>date</th>\n",
       "      <th>id</th>\n",
       "      <th>news_heading_eng</th>\n",
       "      <th>news_heading_swa</th>\n",
       "      <th>news_type</th>\n",
       "    </tr>\n",
       "  </thead>\n",
       "  <tbody>\n",
       "    <tr>\n",
       "      <th>541</th>\n",
       "      <td>2022-06-08</td>\n",
       "      <td>bbc500</td>\n",
       "      <td>omanyala : a kenyan who wants to break usain b...</td>\n",
       "      <td>omanyala : mkenya anayetaka kuvunja rekodi ya ...</td>\n",
       "      <td>Sports news</td>\n",
       "    </tr>\n",
       "  </tbody>\n",
       "</table>\n",
       "</div>"
      ],
      "text/plain": [
       "           date      id                                   news_heading_eng  \\\n",
       "541  2022-06-08  bbc500  omanyala : a kenyan who wants to break usain b...   \n",
       "\n",
       "                                      news_heading_swa    news_type  \n",
       "541  omanyala : mkenya anayetaka kuvunja rekodi ya ...  Sports news  "
      ]
     },
     "execution_count": 73,
     "metadata": {},
     "output_type": "execute_result"
    }
   ],
   "source": [
    "# fetching a random Sports news \n",
    "#to test if our model can predict if the news is a Sports news\n",
    "data[data['news_type']=='Sports news'].sample()"
   ]
  },
  {
   "cell_type": "code",
   "execution_count": 77,
   "metadata": {},
   "outputs": [],
   "source": [
    "# testing for id=bbc500\n",
    "res3=test('22jun8_3.txt')"
   ]
  },
  {
   "cell_type": "code",
   "execution_count": 78,
   "metadata": {},
   "outputs": [
    {
     "data": {
      "text/plain": [
       "' Omanyala: Mkenya anayetaka kuvunja rekodi ya dunia ya Usain Bolt Mbali na kushikilia rekodi ya Afrika ya mbio za mita 100, Mwanariadha Ferdinand Omanyala pia amekuwa himizo kwa wimbi jipya la wanariadha wanaotaka kushiriki mbio fupi- jambo ambalo limepewa jina la ‘Omanyala-mania’ katika nchi yake ya Kenya. Sasa kwenye mashindano ya riadha ya Afrika yatakayofanyika nchini Mauritius, Omanyala analenga ushindi wa dhahabu tatu kwenye mbio za mita 100, 200 na zile za kupokezana vijiti za mita 100 kwa wanariadhatu wanne. Lakini ndoto yake haikomei hapo-: Anataka kubadilisha dhana kuwa mbio fupi sio sifa ya wakenya na anasema yeye ndiye atakayevunja rekodi ya dunia ya mita 100 inayoshikiliwa na Mjamaica Usain Bolt. Haya ni mahojiano yake na BBC.'"
      ]
     },
     "execution_count": 78,
     "metadata": {},
     "output_type": "execute_result"
    }
   ],
   "source": [
    "# Displaying the news contents \n",
    "res3[0]"
   ]
  },
  {
   "cell_type": "code",
   "execution_count": 79,
   "metadata": {},
   "outputs": [
    {
     "data": {
      "text/plain": [
       "'Sports news'"
      ]
     },
     "execution_count": 79,
     "metadata": {},
     "output_type": "execute_result"
    }
   ],
   "source": [
    "# predicting the news type\n",
    "res3[1]"
   ]
  },
  {
   "cell_type": "code",
   "execution_count": 80,
   "metadata": {},
   "outputs": [
    {
     "data": {
      "text/html": [
       "<div>\n",
       "<style scoped>\n",
       "    .dataframe tbody tr th:only-of-type {\n",
       "        vertical-align: middle;\n",
       "    }\n",
       "\n",
       "    .dataframe tbody tr th {\n",
       "        vertical-align: top;\n",
       "    }\n",
       "\n",
       "    .dataframe thead th {\n",
       "        text-align: right;\n",
       "    }\n",
       "</style>\n",
       "<table border=\"1\" class=\"dataframe\">\n",
       "  <thead>\n",
       "    <tr style=\"text-align: right;\">\n",
       "      <th></th>\n",
       "      <th>date</th>\n",
       "      <th>id</th>\n",
       "      <th>news_heading_eng</th>\n",
       "      <th>news_heading_swa</th>\n",
       "      <th>news_type</th>\n",
       "    </tr>\n",
       "  </thead>\n",
       "  <tbody>\n",
       "    <tr>\n",
       "      <th>550</th>\n",
       "      <td>2022-06-15</td>\n",
       "      <td>bbc504</td>\n",
       "      <td>the budget in east africa is bittersweet</td>\n",
       "      <td>bajeti ya afrika mashariki ni chungu</td>\n",
       "      <td>Financial news</td>\n",
       "    </tr>\n",
       "  </tbody>\n",
       "</table>\n",
       "</div>"
      ],
      "text/plain": [
       "           date      id                          news_heading_eng  \\\n",
       "550  2022-06-15  bbc504  the budget in east africa is bittersweet   \n",
       "\n",
       "                         news_heading_swa       news_type  \n",
       "550  bajeti ya afrika mashariki ni chungu  Financial news  "
      ]
     },
     "execution_count": 80,
     "metadata": {},
     "output_type": "execute_result"
    }
   ],
   "source": [
    "# fetching a random Financial news \n",
    "#to test if our model can predict if the news is a Financial news\n",
    "data[data['news_type']=='Financial news'].sample()"
   ]
  },
  {
   "cell_type": "code",
   "execution_count": 82,
   "metadata": {},
   "outputs": [],
   "source": [
    "# testing on id =504\n",
    "res4=test('22jun15_2.txt')"
   ]
  },
  {
   "cell_type": "code",
   "execution_count": 83,
   "metadata": {},
   "outputs": [
    {
     "data": {
      "text/plain": [
       "\" Bajeti Afrika Mashariki ni utamu mchungu Juni 14, 2022 ilikuwa siku ya bajeti kwa nchi za Afrika Mashariki, Tanzania na Uganda zikiwasilisha makadirio ya bajeti zao kwa mwaka wa fedha 2022/2023, Kenya iliwasilisha nyuma kidogo kutokana na maandalizi ya uchaguzi. Bajeti hizi zinawasilishwa wakati mgumu wa vita vya Ukraine na Urusi, huku janga la Corona likiendelea kuathiri shughuli na watu katika maeneo mengi duniani. Bajeti za mwaka huu katika nchi karibu zote za Afrika Mashariki, zimekusanya mambo matamu yanaofurahisha na yanayogusa watu wengi, lakini pia zina misumari ya moto, inayoweza kuchoma, na kukumiza. Tanzania Bajeti ya Tanzania ni ya kihistoria, ikitajwa kuwa ni bajeti ya kipekee kutokana na muelekeo wake achilia mbali kiwango chake kikubwa cha shilingi trilioni 41 za kitanzania. Bajeti hii imejikita kwenye kupunguza matumizi ya serikali na kwenye sera ya mapato ikitaka kuongeza mapato yake yatakayotumika kwenye maendeleo na huduma za kijamii. Kila mtanzania mwenye umri wa miaka 18 na kuendelea atapewa namba ya utambulisho wa mlipa kodi (TIN) na atakadiriwa kodi zake na kutumiwa kwa njia ya mtandao na kulipa kulingana na kipato chake. Hili lina uchungu kwa baadhi ya watanzania. Mbali na hili, bajeti ya sasa imelenga kupunguza matumizi ya serikali, kwa kuleta mfumo wa kuwakopesha magari watumishi wa umma, zoezi linalo kwenda kuokoa zaidi ya shilingi bilioni 500 za kitanzania. Hili si jema kwa maafisa wa serikali waliokuwa 'mabosi' wa magari. Elimu bure mpaka kidato cha 6, ni jambo lililo furahisha wengi Tanzania, lakini kufumuliwa kwa mfumo wa manunuzi na mapendekezo ya kurekebisha sheria ya manunuzi, kupunguza udanganyifu na wizi katika zabuni za serikali, linakwenda kuliza maafisa wengi na wafanyabiashara wadanganyifu. Uganda Uganda iliyopoteza zaidi ya watu 3,000 kwa ugonjwa Covid-19 imeongeza bajeti yake kwa asilimia 7%. Waziri wa fedha wa Uganda, Matia Kasaija aliwasilisha bajeti ya shilingi za Uganda trilioni 48.1 sawa na dola bilioni 12.8$, bajeti iliyojielekeza kwenye kurekebisha uchumi wake ulioathiriwa na janga la Corona lakini pia kushughulikia ugonjwa huo. Utamu wa bajeti ya nchi hii, ni kutokuwepo kwa kodi yoyote mpya itakayo ongezwa katika mwaka ujao wa fedha ili kutoa unafuu kwa wafanyabiashara na wananchi wake kwa ujumla. Pamoja na hilo, bajeti ya Uganda haionekani kubana matumizi ya serikali kama ilivyojionyesha kwa bajeti ya Tanzania ya mwaka huu. Kiasi kikubwa cha fedha kilichotengwa kwa matumizi ya Ikulu na taasisi nyingi za serikali zinaitofautisha bajeti hii na ile ya Tanzania, ambayo inazitoa fedha kwenye matumizi yasiyo ya lazima ya maafisa wa serikali na kuzielekeza kwenye huduma za kijamii Hofu ya waganda wengi ni uhuru wa kuhoji, uhuru wa maafisa kutumia taaluma zao, lakini halijaifanya serikali ya nchi hiyo kusema mipango yake ni ya kuwasaidia wananchi. Kenya Kenya yenyewe iliwasilisha bajeti yake mapema kidogo kwa sababu ya shughuli za uchaguzi mkuu unaotarajiwa kufanyika baadaye mwaka huu. Bajeti ya shilingi za Kenya trilioni 3.3 ikiwa ni ongezeko la 4.8% ukilinganisha na bajeti iliyopita ya 2.9%, inaonyesha kushughulikia kupanda kwa gharama za maisha, tatizo la ajira kwa vijana, utofauti wa kipato, na deni la taifa. Chanzo cha picha, SOPA IMAGES Uchungu wa bajeti hii ya Kenya ni kwamba, kiasi kikubwa cha fedha zinazokadiriwa kufikia Sh2.01 trillion za Kenya zitakwenda kutumika kwenye shughuli za kawaida za serikali, badala ya miradi ya maendeleo. Lakini kutengwa kwa Sh24.7 billion kama ruzuku ya mafuta ili kupunguza mzigo wa bei , ni jambo la kufurahisha kwa wakenya ambao katika kipindi cha miongo miwili iliyopita, wanashuhudia ongezeko kubwa la bei ya mafuta hasa ya petrol na diezeli. Lingine la kufurahisha ni bajeti hiyo kujali hali ya ukame inayoyakumba mara kwa mara maeneo mbalimbali ya nchi hiyo. Mwaka jana zaidi ya wakenya milioni mbili walikumbwa na janga hili. Je ni bajeti zinazogusa maisha ya watu au kama zilizotangulia? Mchumi, Barnos Willium kutoka chuo Kikuu cha Ushirika Moshi, anasema, 'kuwasilisha bajeti ni suala moja, kuitekeleza na kufikia malengo kwa ufanisi ni jambo lingine'. Mtazano wa mchumi huyu, ni mitazamo ya wafuatiliaji wengi wa masuala ya bajeti. Kila mwaka katika kila nchi, huwasilishwa bajeti, lakini utekelezaji wake huwa ni wa kusuasua sana. 'Zinavutia kwa masikio, lakini hazitakuwa na maana kama hazitatekelezwa, naiona bajeti ya Tanzania ni tofauti sana na miaka yote, kama itatekelezwa, inaweza kuleta utofauti mkubwa wa ukusanyaji wa mapato na katika uwekezaji', alisema Willium. Bajeti ya Tanzania mwaka huu kama ilivyo ya Kenya, inajikita kwenye sera ya mapato na uwekezaji. Uwekezaji unaoonekana kwenye bajeti ya kilimo iliyoongezwa kwa karibu asilimia 10% kwa lengo la kuongeza mashamba makubwa na kuongeza eneo la umwagiliaji. Kama itatekelezwa inavoonekana inaweza kuongeza ajira mpaka milioni 3 katika kipindi cha mwaka mmoja tu. Huku ile ya Uganda ikiongeza ajira mpaka milioni 1. Pamoja na utamu wa uchungu wa bajeti za sasa za nchi za Afrika Mashariki, ukakasi wa ongezeko la deni la taifa kwa nchi zote, inaleta wasiwasi. Tanzania deni limefikia trilioni 69, Uganda 73.5 trilioni za Uganda na kule Kenya ni trilioni 8. Madeni haya yanaleta kigugumizi kwenye jitihada zinazoonekana kupitia bajeti zao katika kukuza uchumi wa mataifa hayo na kuboresha maisha ya wananchi.\""
      ]
     },
     "execution_count": 83,
     "metadata": {},
     "output_type": "execute_result"
    }
   ],
   "source": [
    "# Displaying the news contents \n",
    "res4[0]"
   ]
  },
  {
   "cell_type": "code",
   "execution_count": 84,
   "metadata": {},
   "outputs": [
    {
     "data": {
      "text/plain": [
       "'International news'"
      ]
     },
     "execution_count": 84,
     "metadata": {},
     "output_type": "execute_result"
    }
   ],
   "source": [
    "# predicting the news type\n",
    "res4[1]"
   ]
  },
  {
   "cell_type": "code",
   "execution_count": 88,
   "metadata": {},
   "outputs": [
    {
     "data": {
      "text/html": [
       "<div>\n",
       "<style scoped>\n",
       "    .dataframe tbody tr th:only-of-type {\n",
       "        vertical-align: middle;\n",
       "    }\n",
       "\n",
       "    .dataframe tbody tr th {\n",
       "        vertical-align: top;\n",
       "    }\n",
       "\n",
       "    .dataframe thead th {\n",
       "        text-align: right;\n",
       "    }\n",
       "</style>\n",
       "<table border=\"1\" class=\"dataframe\">\n",
       "  <thead>\n",
       "    <tr style=\"text-align: right;\">\n",
       "      <th></th>\n",
       "      <th>date</th>\n",
       "      <th>id</th>\n",
       "      <th>news_heading_eng</th>\n",
       "      <th>news_heading_swa</th>\n",
       "      <th>news_type</th>\n",
       "    </tr>\n",
       "  </thead>\n",
       "  <tbody>\n",
       "    <tr>\n",
       "      <th>82</th>\n",
       "      <td>2021-06-10</td>\n",
       "      <td>bbc542</td>\n",
       "      <td>east africa : all eyes on the budget</td>\n",
       "      <td>afrika mashariki : macho yote kwenye bajeti</td>\n",
       "      <td>Financial news</td>\n",
       "    </tr>\n",
       "  </tbody>\n",
       "</table>\n",
       "</div>"
      ],
      "text/plain": [
       "          date      id                      news_heading_eng  \\\n",
       "82  2021-06-10  bbc542  east africa : all eyes on the budget   \n",
       "\n",
       "                               news_heading_swa       news_type  \n",
       "82  afrika mashariki : macho yote kwenye bajeti  Financial news  "
      ]
     },
     "execution_count": 88,
     "metadata": {},
     "output_type": "execute_result"
    }
   ],
   "source": [
    "# fetching a random Financial news \n",
    "#to test if our model can predict if the news is a Financial news\n",
    "data[data['news_type']=='Financial news'].sample()"
   ]
  },
  {
   "cell_type": "code",
   "execution_count": 94,
   "metadata": {},
   "outputs": [],
   "source": [
    "# testing on id=bbc542\n",
    "res5=test('june10.txt')"
   ]
  },
  {
   "cell_type": "code",
   "execution_count": 95,
   "metadata": {},
   "outputs": [
    {
     "data": {
      "text/plain": [
       "'International news'"
      ]
     },
     "execution_count": 95,
     "metadata": {},
     "output_type": "execute_result"
    }
   ],
   "source": [
    "# predicting the news type\n",
    "res5[1]"
   ]
  },
  {
   "cell_type": "code",
   "execution_count": 96,
   "metadata": {},
   "outputs": [
    {
     "data": {
      "text/html": [
       "<div>\n",
       "<style scoped>\n",
       "    .dataframe tbody tr th:only-of-type {\n",
       "        vertical-align: middle;\n",
       "    }\n",
       "\n",
       "    .dataframe tbody tr th {\n",
       "        vertical-align: top;\n",
       "    }\n",
       "\n",
       "    .dataframe thead th {\n",
       "        text-align: right;\n",
       "    }\n",
       "</style>\n",
       "<table border=\"1\" class=\"dataframe\">\n",
       "  <thead>\n",
       "    <tr style=\"text-align: right;\">\n",
       "      <th></th>\n",
       "      <th>date</th>\n",
       "      <th>id</th>\n",
       "      <th>news_heading_eng</th>\n",
       "      <th>news_heading_swa</th>\n",
       "      <th>news_type</th>\n",
       "    </tr>\n",
       "  </thead>\n",
       "  <tbody>\n",
       "    <tr>\n",
       "      <th>35</th>\n",
       "      <td>2020-04-17</td>\n",
       "      <td>bbc228</td>\n",
       "      <td>corona virus : how small businessmen in kenya ...</td>\n",
       "      <td>virusi vya corona : jinsi wafanyabiashara wado...</td>\n",
       "      <td>Financial news</td>\n",
       "    </tr>\n",
       "    <tr>\n",
       "      <th>56</th>\n",
       "      <td>2021-04-05</td>\n",
       "      <td>bbc480</td>\n",
       "      <td>why are some kenyans upset with the imf loan t...</td>\n",
       "      <td>kwa nini baadhi ya wakenya wanakerwa na mkopo ...</td>\n",
       "      <td>Financial news</td>\n",
       "    </tr>\n",
       "    <tr>\n",
       "      <th>74</th>\n",
       "      <td>2021-08-24</td>\n",
       "      <td>bbc572</td>\n",
       "      <td>tanzania : how has the economy of tanzania wit...</td>\n",
       "      <td>tanzania : je uchumi wa tanzania umestahimili ...</td>\n",
       "      <td>Financial news</td>\n",
       "    </tr>\n",
       "    <tr>\n",
       "      <th>82</th>\n",
       "      <td>2021-06-10</td>\n",
       "      <td>bbc542</td>\n",
       "      <td>east africa : all eyes on the budget</td>\n",
       "      <td>afrika mashariki : macho yote kwenye bajeti</td>\n",
       "      <td>Financial news</td>\n",
       "    </tr>\n",
       "    <tr>\n",
       "      <th>534</th>\n",
       "      <td>2020-04-07</td>\n",
       "      <td>bbc211</td>\n",
       "      <td>corona virus : how are african countries copin...</td>\n",
       "      <td>virusi vya corona : nchi za afrika zinakabilia...</td>\n",
       "      <td>Financial news</td>\n",
       "    </tr>\n",
       "    <tr>\n",
       "      <th>550</th>\n",
       "      <td>2022-06-15</td>\n",
       "      <td>bbc504</td>\n",
       "      <td>the budget in east africa is bittersweet</td>\n",
       "      <td>bajeti ya afrika mashariki ni chungu</td>\n",
       "      <td>Financial news</td>\n",
       "    </tr>\n",
       "    <tr>\n",
       "      <th>551</th>\n",
       "      <td>2020-05-12</td>\n",
       "      <td>bbc261</td>\n",
       "      <td>corona virus : banks in tanzania are directed ...</td>\n",
       "      <td>virusi vya corona : benki nchini tanzania zime...</td>\n",
       "      <td>Financial news</td>\n",
       "    </tr>\n",
       "    <tr>\n",
       "      <th>564</th>\n",
       "      <td>2020-12-20</td>\n",
       "      <td>bbc439</td>\n",
       "      <td>how can you celebrate this season without brea...</td>\n",
       "      <td>unawezaje kusherehekea msimu huu bila kuvunja ...</td>\n",
       "      <td>Financial news</td>\n",
       "    </tr>\n",
       "  </tbody>\n",
       "</table>\n",
       "</div>"
      ],
      "text/plain": [
       "           date      id                                   news_heading_eng  \\\n",
       "35   2020-04-17  bbc228  corona virus : how small businessmen in kenya ...   \n",
       "56   2021-04-05  bbc480  why are some kenyans upset with the imf loan t...   \n",
       "74   2021-08-24  bbc572  tanzania : how has the economy of tanzania wit...   \n",
       "82   2021-06-10  bbc542               east africa : all eyes on the budget   \n",
       "534  2020-04-07  bbc211  corona virus : how are african countries copin...   \n",
       "550  2022-06-15  bbc504           the budget in east africa is bittersweet   \n",
       "551  2020-05-12  bbc261  corona virus : banks in tanzania are directed ...   \n",
       "564  2020-12-20  bbc439  how can you celebrate this season without brea...   \n",
       "\n",
       "                                      news_heading_swa       news_type  \n",
       "35   virusi vya corona : jinsi wafanyabiashara wado...  Financial news  \n",
       "56   kwa nini baadhi ya wakenya wanakerwa na mkopo ...  Financial news  \n",
       "74   tanzania : je uchumi wa tanzania umestahimili ...  Financial news  \n",
       "82         afrika mashariki : macho yote kwenye bajeti  Financial news  \n",
       "534  virusi vya corona : nchi za afrika zinakabilia...  Financial news  \n",
       "550               bajeti ya afrika mashariki ni chungu  Financial news  \n",
       "551  virusi vya corona : benki nchini tanzania zime...  Financial news  \n",
       "564  unawezaje kusherehekea msimu huu bila kuvunja ...  Financial news  "
      ]
     },
     "execution_count": 96,
     "metadata": {},
     "output_type": "execute_result"
    }
   ],
   "source": [
    "# Checking for Financial news\n",
    "data[data['news_type']=='Financial news']"
   ]
  },
  {
   "cell_type": "code",
   "execution_count": 104,
   "metadata": {},
   "outputs": [],
   "source": [
    "# testing on id =228\n",
    "res6=test('20april17_2.txt')"
   ]
  },
  {
   "cell_type": "code",
   "execution_count": 106,
   "metadata": {},
   "outputs": [
    {
     "data": {
      "text/plain": [
       "'International news'"
      ]
     },
     "execution_count": 106,
     "metadata": {},
     "output_type": "execute_result"
    }
   ],
   "source": [
    "# predicting the news type\n",
    "res6[1]"
   ]
  },
  {
   "cell_type": "code",
   "execution_count": 107,
   "metadata": {},
   "outputs": [],
   "source": [
    "# testing in id=480\n",
    "res7=test('21april5_2.txt')"
   ]
  },
  {
   "cell_type": "code",
   "execution_count": 108,
   "metadata": {},
   "outputs": [
    {
     "data": {
      "text/plain": [
       "'Local News'"
      ]
     },
     "execution_count": 108,
     "metadata": {},
     "output_type": "execute_result"
    }
   ],
   "source": [
    "# predicting the news type\n",
    "res7[1]"
   ]
  },
  {
   "cell_type": "code",
   "execution_count": 113,
   "metadata": {},
   "outputs": [],
   "source": [
    "# testing in id=572\n",
    "res8=test('aug24_2.txt')"
   ]
  },
  {
   "cell_type": "code",
   "execution_count": 114,
   "metadata": {},
   "outputs": [
    {
     "data": {
      "text/plain": [
       "'International news'"
      ]
     },
     "execution_count": 114,
     "metadata": {},
     "output_type": "execute_result"
    }
   ],
   "source": [
    "# predicting the news type\n",
    "res8[1]"
   ]
  },
  {
   "cell_type": "code",
   "execution_count": 115,
   "metadata": {},
   "outputs": [],
   "source": [
    "# testing in id=211\n",
    "res9=test('20april7_2.txt')"
   ]
  },
  {
   "cell_type": "code",
   "execution_count": 116,
   "metadata": {},
   "outputs": [
    {
     "data": {
      "text/plain": [
       "'Local News'"
      ]
     },
     "execution_count": 116,
     "metadata": {},
     "output_type": "execute_result"
    }
   ],
   "source": [
    "# predicting the news type\n",
    "res9[1]"
   ]
  },
  {
   "cell_type": "code",
   "execution_count": 121,
   "metadata": {},
   "outputs": [],
   "source": [
    "# testing in id=261\n",
    "res10=test('20may12_1.txt')"
   ]
  },
  {
   "cell_type": "code",
   "execution_count": 123,
   "metadata": {},
   "outputs": [
    {
     "data": {
      "text/plain": [
       "'Health news'"
      ]
     },
     "execution_count": 123,
     "metadata": {},
     "output_type": "execute_result"
    }
   ],
   "source": [
    "# predicting the news type\n",
    "res10[1]"
   ]
  },
  {
   "cell_type": "code",
   "execution_count": 126,
   "metadata": {},
   "outputs": [],
   "source": [
    "# testing in id=439\n",
    "res11=test('20dec20_1.txt')"
   ]
  },
  {
   "cell_type": "code",
   "execution_count": 127,
   "metadata": {},
   "outputs": [
    {
     "data": {
      "text/plain": [
       "'Local News'"
      ]
     },
     "execution_count": 127,
     "metadata": {},
     "output_type": "execute_result"
    }
   ],
   "source": [
    "# predicting the news type\n",
    "res11[1]"
   ]
  },
  {
   "cell_type": "markdown",
   "metadata": {},
   "source": [
    "# Saving the Classifier"
   ]
  },
  {
   "cell_type": "code",
   "execution_count": 150,
   "metadata": {},
   "outputs": [
    {
     "data": {
      "text/plain": [
       "'/Users/sumitbajare/Documents/Sussex/Project/swa_corpus/BBC'"
      ]
     },
     "execution_count": 150,
     "metadata": {},
     "output_type": "execute_result"
    }
   ],
   "source": [
    "# Fetching the current directory\n",
    "os.getcwd()"
   ]
  },
  {
   "cell_type": "code",
   "execution_count": 19,
   "metadata": {},
   "outputs": [],
   "source": [
    "# Chaging the directory \n",
    "os.chdir('/Users/sumitbajare/Documents/Sussex/Project/model')"
   ]
  },
  {
   "cell_type": "code",
   "execution_count": 153,
   "metadata": {},
   "outputs": [],
   "source": [
    "# Saving the classifier\n",
    "kiswa_classifier.save('kiswa_bbc_classifier')"
   ]
  },
  {
   "cell_type": "code",
   "execution_count": 20,
   "metadata": {},
   "outputs": [],
   "source": [
    "# Loading the classifier\n",
    "import ktrain\n",
    "predictor = ktrain.load_predictor('kiswa_bbc_classifier')"
   ]
  },
  {
   "cell_type": "code",
   "execution_count": 155,
   "metadata": {},
   "outputs": [
    {
     "data": {
      "text/plain": [
       "'Local News'"
      ]
     },
     "execution_count": 155,
     "metadata": {},
     "output_type": "execute_result"
    }
   ],
   "source": [
    "# Predicting the news type \n",
    "predictor.predict(res1)"
   ]
  },
  {
   "cell_type": "code",
   "execution_count": null,
   "metadata": {},
   "outputs": [],
   "source": []
  },
  {
   "cell_type": "code",
   "execution_count": null,
   "metadata": {},
   "outputs": [],
   "source": []
  },
  {
   "cell_type": "code",
   "execution_count": null,
   "metadata": {},
   "outputs": [],
   "source": []
  }
 ],
 "metadata": {
  "kernelspec": {
   "display_name": "Python 3",
   "language": "python",
   "name": "python3"
  },
  "language_info": {
   "codemirror_mode": {
    "name": "ipython",
    "version": 3
   },
   "file_extension": ".py",
   "mimetype": "text/x-python",
   "name": "python",
   "nbconvert_exporter": "python",
   "pygments_lexer": "ipython3",
   "version": "3.8.3"
  }
 },
 "nbformat": 4,
 "nbformat_minor": 4
}
