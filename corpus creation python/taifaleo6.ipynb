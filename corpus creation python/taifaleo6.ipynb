{
 "cells": [
  {
   "cell_type": "code",
   "execution_count": 1,
   "metadata": {},
   "outputs": [],
   "source": [
    "# for Oct 2021"
   ]
  },
  {
   "cell_type": "code",
   "execution_count": 2,
   "metadata": {},
   "outputs": [],
   "source": [
    "import justext\n",
    "import requests\n",
    "import nltk"
   ]
  },
  {
   "cell_type": "code",
   "execution_count": 3,
   "metadata": {},
   "outputs": [
    {
     "data": {
      "text/plain": [
       "'/Users/sumitbajare/Documents/Sussex/Project'"
      ]
     },
     "execution_count": 3,
     "metadata": {},
     "output_type": "execute_result"
    }
   ],
   "source": [
    "import os\n",
    "os.getcwd()"
   ]
  },
  {
   "cell_type": "code",
   "execution_count": 4,
   "metadata": {},
   "outputs": [],
   "source": [
    "def get_document(url):\n",
    "    \n",
    "    '''\n",
    "        \n",
    "        This function will check if the url is valid and then\n",
    "        proceed to parse it to produce a clean text (no html) which\n",
    "        can be used as input to a recommendation engine.\n",
    "\n",
    "    Arguments: url  -- input url that needs to be checked and parsed\n",
    "    Return: text_only -- the text extracted after removing boilerplate content\n",
    "    '''\n",
    "    \n",
    "    try:\n",
    "        r = requests.head(url, allow_redirects = True)\n",
    "        \n",
    "    except requests.exceptions.ConnectionError as e:\n",
    "        raise URLRetrievalError(url, 'Could not connect', e)\n",
    "        \n",
    "    if r.status_code != requests.codes.ok:\n",
    "        raise URLRetrievalError(url, 'Invalid response code from remote server: {}'\n",
    "                                .format(r.status_code))\n",
    "        \n",
    "    if r.headers[\"content-type\"].split(';')[0] not in [\"text/html\",\n",
    "                                                       \"text/plain\"]:\n",
    "        raise URLRetrievalError(url, 'Document has invalid MIME type: {}'\n",
    "                                .format(r.headers[\"content-type\"]))\n",
    "    \n",
    "    response = requests.get(url)\n",
    "    paragraphs = justext.justext(response.content, justext.get_stoplist(\"Swahili\"))\n",
    "    text_only = ''\n",
    "    \n",
    "    for paragraph in paragraphs:\n",
    "        if not paragraph.is_boilerplate:\n",
    "            text_only += ' ' + paragraph.text\n",
    "            \n",
    "    if len(text_only) == 0:\n",
    "        raise DocumentParsingError('Length of document is zero')\n",
    "        \n",
    "    return text_only"
   ]
  },
  {
   "cell_type": "code",
   "execution_count": 5,
   "metadata": {},
   "outputs": [],
   "source": [
    "# Changing the current working directory to store the documents in the desired file\n",
    "os.chdir('/Users/sumitbajare/Documents/Sussex/Project/swa_corpus/taifaleo')"
   ]
  },
  {
   "cell_type": "code",
   "execution_count": 6,
   "metadata": {},
   "outputs": [],
   "source": [
    "def store_document(doc,name):\n",
    "    \n",
    "    '''\n",
    "        This function will store the contents of the url in a text file.\n",
    "        \n",
    "        Argumnets: doc -- the Document to store in a text file \n",
    "        Return: nan\n",
    "    '''\n",
    "    \n",
    "    # Open function to open the file in the same directory in append mode\n",
    "    file = open(name,\"a\")\n",
    "    # writing each string in the file\n",
    "    file.writelines(doc)\n",
    "    # closing the file\n",
    "    file.close()"
   ]
  },
  {
   "cell_type": "code",
   "execution_count": 7,
   "metadata": {},
   "outputs": [],
   "source": [
    "def total_words(file_name):\n",
    "    filename = file_name\n",
    "\n",
    "    with open(filename, 'r') as file:\n",
    "        lines_in_file = file.read()\n",
    "\n",
    "        nltk_tokens = nltk.word_tokenize(lines_in_file)\n",
    "        print (nltk_tokens)\n",
    "        print (\"\\n Number of Words: \" , len(nltk_tokens))\n",
    "        return len(nltk_tokens)"
   ]
  },
  {
   "cell_type": "code",
   "execution_count": 8,
   "metadata": {},
   "outputs": [],
   "source": [
    "# these were the total number of words from the previous 10 notebooks\n",
    "# we will resume the count from 7,51,659\n",
    "total_corpus_words= 751659"
   ]
  },
  {
   "cell_type": "code",
   "execution_count": 10,
   "metadata": {},
   "outputs": [
    {
     "name": "stdout",
     "output_type": "stream",
     "text": [
      "['Kiongozi', 'wa', 'kijeshi', 'Guinea', 'aapishwa', 'kuwa', 'rais', 'wa', 'mpito', 'KIONGOZI', 'wa', 'kijeshi', 'nchini', 'Guinea', 'Mamadi', 'Doumbouya', 'Ijumaa', 'aliapishwa', 'kuwa', 'Rais', 'wa', 'mpito', 'nchini', 'humo', 'baada', 'ya', 'kung', '’', 'olewa', 'mamlakani', 'kwa', 'Rais', 'Alpha', 'Conde', '.', 'Sherehe', 'ya', 'kuapishwa', 'kwake', 'ilifanyika', 'katika', 'Kasri', 'ya', 'Mohamed', 'VI', 'jijini', 'Conakry', 'na', 'haikuhudhuriwa', 'na', 'viongozi', 'wa', 'mataifa', 'ya', 'Afrika', 'Magharibi.Mwezi', 'jana', ',', 'marais', 'wa', 'mataifa', 'wanachama', 'wa', 'Jumuiya', 'ya', 'Uchumi', 'ya', 'Afrika', 'Magharibi', '(', 'ECOWAS', ')', 'waliwawekea', 'viongozi', 'hao', 'wa', 'kijeshi', 'pamoja', 'na', 'jamaa', 'zao', '.', 'Katika', 'kipindi', 'cha', 'mwaka', 'mmoja', 'uliopita', ',', 'kumtokea', 'mapinduzi', 'manne', 'ya', 'kijeshi', 'katika', 'mataifa', 'ya', 'Magharibi', 'na', 'Kati', 'mwa', 'Afrika', '.', 'Misukosuko', 'ya', 'kisiasa', 'imechangia', 'mataifa', 'ya', 'ukanda', 'huo', 'wa', 'Afrika', 'kutumbukia', 'katika', 'mapinduzi', 'ya', 'kijeshi', 'na', 'kusababishia', 'raia', 'ufukara', '.', 'Hii', 'ni', 'licha', 'ya', 'kwamba', 'eneo', 'hilo', 'lina', 'utajiri', 'mkubwa', 'wa', 'rasilimali', 'haswa', 'madini', '.', 'Huku', 'akiwa', 'amevalia', 'sare', 'za', 'kijeshi', ',', 'kofia', 'nyekundu', 'na', 'miwano', ',', 'Kanali', 'Doumbouya', 'aliinua', 'mkono', 'na', 'kula', 'kiapo', '.', '“', 'Ninatambua', 'wajibu', 'mkubwa', 'ambao', 'umewekwa', 'kwangu', ',', '”', 'akasema', 'katika', 'hotuba', 'fupili', '.', 'Doumbouya', 'aliahidi', 'kusimamia', 'kipindi', 'cha', 'mpito', 'ambacho', 'kitajumuisha', 'kuandikiwa', 'kwa', 'katiba', 'mpya', ',', 'kupambana', 'na', 'ufisadi', ',', 'mageuzi', 'ya', 'sheria', 'za', 'uchaguzi', 'na', 'utayarishaji', 'wa', 'uchaguzi', 'mkuu', 'ulio', 'huru', 'Mwanajeshi', 'huyo', 'alisema', 'kuwa', 'wanachama', 'wa', 'serikali', 'yake', 'ya', 'mpito', 'watazuiwa', 'kuwania', 'nyadhifa', 'za', 'uongozi', 'katika', 'uchaguzi', 'mku', 'ujao', '.', 'Hata', 'hivyo', ',', 'hakudokeza', 'ni', 'lini', 'uchaguzi', 'huo', 'utafanyika', '.', 'Hata', 'hivyo', ',', 'Doumbouya', 'alisema', 'tarehe', 'ya', 'uchaguzi', 'huo', 'itaaamuliwa', 'na', 'Baraza', 'la', 'Kitaifa', 'la', 'Mpito', 'lenye', 'wanachama', '81', '.', 'Viongozi', 'wa', 'kijeshi', 'wanasema', 'walimwondoa', 'mamlakani', 'Conde', 'kutokana', 'na', 'malalamishi', 'ya', 'wananchi', 'kutokana', 'na', 'kukithiri', 'kwa', 'umasikini', ',', 'ufisadi', 'na', 'uongozi', 'mbaya', 'nchini', 'humo', '.', 'Tumewafaa', 'wateja', 'wetu', 'wakati', 'wa', 'corona', '–', 'Safaricom', 'Hii', 'ni', 'kwa', 'kuanzisha', 'ofa', 'mbalimbali', 'ili', 'kurahisisha', 'mawasiliano', 'na', 'maendeleo', 'ya', 'kazi', 'na', 'mabiashara', '.', 'Huduma', 'za', 'tunukiwa', 'kwa', 'mfano', 'ziliwapa', 'watu', 'fursa', 'ya', 'kuendelea', 'kushirikiana', 'na', 'wenzao', '.', 'Hii', 'ilikuwa', 'kwa', 'kuchagua', 'ofa', 'ya', 'tunukiwa', 'data', 'au', 'tunukiwa', 'ujumbe', 'mfupi', 'au', 'tunukiwa', 'saa', 'za', 'kubonga', '.', 'Sababu', 'serikali', 'iliamuru', 'shule', 'zote', 'kufungwa', ',', 'Safaricom', 'ilihakikisha', 'wanafunzi', 'wamepata', 'elimu', 'hata', 'wakiwa', 'manyumbani', '.', 'Hii', 'ilikuwa', 'kupitia', 'ushirikiano', 'wa', 'Safaricom', 'na', 'Longhorn', ',', 'Viusasa', 'Elimu', ',', 'Shupavu-Eneza', 'na', 'Taasisi', 'ya', 'Ukuzaji', 'Mitaala', 'nchini', '(', 'KICD', ')', '.', '“', 'Vile', 'vile', ',', 'wanafunzi', 'ambao', 'walitaka', 'kupata', 'maarifa', 'kuhusu', 'masomo', 'ya', 'Sayansi', ',', 'Teknolojia', ',', 'Injinia', 'na', 'Hisabati', '(', 'STEM', ')', ',', 'waliwezeshwa', 'kukikata', 'kiu', 'chao', 'cha', 'masomo', 'kupitia', 'ujumbe', 'mfupi', '.', 'Hii', 'iliwezeshwa', 'na', 'ushirikiano', 'wa', 'Safaricom', 'na', 'UNESCO', 'pamoja', 'na', 'Eneza', 'Shupavu', '291', 'Solution', ',', '”', 'ripoti', 'hiyo', 'ikaonyesha', '.', 'Hali', 'kadhalika', ',', 'malipo', 'ya', 'kutoa', 'au', 'kutuma', 'pesa', 'chini', 'ya', 'Sh1,000', 'iliondolewa', 'mpaka', 'Disemba', '31st', 'mwaka', 'jana', 'huku', 'wateja', '105,604', 'waliokuwa', 'na', 'tili', 'amilifu', 'ya', 'M-pesa', 'wakipata', 'Sh200', 'milioni', 'za', 'kuwasaidia', 'kununua', 'viyeyushi', '.', '“', 'Safaricom', 'ilianzisha', 'Bonga', 'for', 'Good', '.', 'Mradi', 'huu', 'uliwawezesha', 'wateja', 'kutumia', 'pointi', 'zao', 'za', 'Bonga', 'na', 'kulipia', 'bidhaa', 'au', 'hata', 'kuzipatiana', 'kwa', 'wenzao', '.', 'Hivi', 'sasa', 'huduma', 'hii', 'ni', 'ya', 'kudumu', 'na', 'wateja', 'wanaweza', 'kuzilipia', 'bidhaa', 'zao', 'kwa', 'kutumia', 'pointi', 'za', 'bonga', 'katika', 'kila', 'tili', 'ya', 'Buy', 'Goods', 'nchini', ',', '”', 'Safaricom', 'ikaandika', '.', 'BENSON', 'MATHEKA', ':', 'TSC', 'iwe', 'na', 'uwazi', 'na', 'usawa', 'katika', 'mpango', 'wa', 'mafunzo', 'Mafunzo', 'ambayo', 'Tume', 'ya', 'Huduma', 'ya', 'Walimu', '(', 'TSC', ')', 'imeagiza', 'walimu', 'kuanza', 'ili', 'kukuza', 'taaluma', 'yao', 'yamegubikwa', 'na', 'usiri', 'na', 'utata', 'mkubwa', 'ambao', 'unaweza', 'kuathiri', 'taaluma', 'hiyo', 'na', 'sekta', 'ya', 'elimu', 'kwa', 'jumla', '.', 'Ingawa', 'kila', 'sekta', 'huwa', 'na', 'mpango', 'wa', 'kukuza', 'wataalamu', 'wake', 'kupitia', 'mafunzo', 'kuhusiana', 'na', 'masuala', 'ibuka', ',', 'unapaswa', 'kuwa', 'na', 'uwazi', ',', 'mashauriano', 'na', 'uadilifu', 'katika', 'hatua', 'hiyo', '.', 'Taaluma', 'kama', 'uanasheria', ',', 'udaktari', 'na', 'uhandisi', 'zina', 'mpango', 'wa', 'mafunzo', 'endelevu', 'kwa', 'wanachama', 'wake', 'ambao', 'hufanyika', 'kwa', 'uwazi', '.', 'Mafunzo', 'hayo', 'hufanikishwa', 'na', 'vyama', 'au', 'mashirika', 'ya', 'kudhibiti', 'taaluma', 'hizo', 'na', 'huwa', 'ni', 'ya', 'lazima', 'kwa', 'wanachama', 'chini', 'ya', 'taratibu', 'zilizokubaliwa', '.', 'Inashangaza', 'basi', ',', 'mpango', 'wa', 'kuwapa', 'walimu', 'mafunzo', 'unabuniwa', 'na', 'mwajiri', 'wao', 'ambaye', 'amewapa', 'masharti', 'makali', 'kutimiza', 'bila', 'kushauriana', 'na', 'walimu', 'moja', 'kwa', 'moja', 'au', 'kupitia', 'vyama', 'vinavyowawakilisha', '.', 'Japo', 'TSC', 'inaweza', 'kuwa', 'na', 'nia', 'nzuri', 'kwa', 'kuanzisha', 'mpango', 'huo', ',', 'kuteua', 'vyuo', 'vikuu', 'vitatu', 'pekee', 'miongoni', 'mwa', '20', 'vilivyoidhinishwa', 'ni', 'kuonyesha', 'ukosefu', 'wa', 'usawa', 'na', 'uwazi', '.', 'Kulingana', 'na', 'tume', 'hiyo', ',', 'ni', 'vyuo', 'vikuu', 'vya', 'Riara', ',', 'Mt', 'Kenya', 'na', 'Kenyatta', 'vilivyoteuliwa', 'kutoa', 'mafunzo', 'yatakayogharimu', 'walimu', 'zaidi', 'ya', 'Sh2', 'bilioni', 'kwa', 'mwaka', '.', 'Riara', 'na', 'Mt', 'Kenya', 'ni', 'vyuo', 'vikuu', 'vya', 'kibinafsi', 'na', 'inashangaza', 'kwa', 'nini', 'vile', 'vya', 'umma', 'vilivyo', 'maeneo', 'tofauti', 'nchini', 'viliachwa', 'nje', 'ya', 'mpango', 'huo', '.', 'Kuna', 'kesi', 'kortini', 'kuhusu', 'suala', 'hili', 'na', 'TSC', 'inafaa', 'kufafanua', 'zaidi', 'kuhusu', 'mpango', 'huo', 'ili', 'isionekane', 'kuhujumu', 'na', 'kuwanyanyasa', 'walimu', 'wakati', 'ambao', 'wanahitajika', 'kuwa', 'shuleni', 'kutekeleza', 'mtaala', 'mpya', 'wa', 'elimu', '.', 'Kinachoashiria', 'kuwa', 'mpango', 'huo', 'haukufanywa', 'kwa', 'uwazi', 'ni', 'kukashifiwa', 'na', 'wabunge', 'ambao', 'wanapaswa', 'kupiga', 'darubini', 'utendakazi', 'wa', 'idara', 'na', 'mashirika', 'ya', 'serikali', '.', 'Tume', 'hiyo', 'imelaumiwa', 'mara', 'sio', 'moja', 'kwa', 'kuhujumu', 'na', 'kugawanya', 'viongozi', 'wa', 'vyama', 'vya', 'wafanyakazi', ',', 'kuhamisha', 'walimu', 'kutoka', 'kaunti', 'wanazotoka', 'na', 'kuweka', 'kandarasi', 'za', 'utendakazi', 'ambazo', 'walimu', 'hutia', 'saini', 'kila', 'mwaka', 'hasa', 'walimu', 'wakuu', '.']\n",
      "\n",
      " Number of Words:  835\n"
     ]
    }
   ],
   "source": [
    "file=\"21oct1_1.txt\"\n",
    "\n",
    "# calling the function and storing the contents in a text variable \n",
    "text1 = get_document(\"https://taifaleo.nation.co.ke/kiongozi-wa-kijeshi-guinea-aapishwa-kuwa-rais-wa-mpito/\")\n",
    "text2 = get_document(\"https://taifaleo.nation.co.ke/tumewafaa-wateja-wetu-wakati-wa-corona-safaricom/\")\n",
    "text3 = get_document(\"https://taifaleo.nation.co.ke/benson-matheka-tsc-iwe-na-uwazi-na-usawa-katika-mpango-wa-mafunzo/\")\n",
    "\n",
    "# calling the store_ document function \n",
    "store_document(doc=text1,name=file)\n",
    "store_document(doc=text2,name=file)\n",
    "store_document(doc=text3,name=file)\n",
    "\n",
    "#add the words in this file to the total_corpus_words, to keep count of the number of words in the corpus\n",
    "total_corpus_words+=total_words(file)"
   ]
  },
  {
   "cell_type": "code",
   "execution_count": 11,
   "metadata": {},
   "outputs": [
    {
     "data": {
      "text/plain": [
       "752494"
      ]
     },
     "execution_count": 11,
     "metadata": {},
     "output_type": "execute_result"
    }
   ],
   "source": [
    "total_corpus_words"
   ]
  },
  {
   "cell_type": "code",
   "execution_count": 13,
   "metadata": {},
   "outputs": [
    {
     "name": "stdout",
     "output_type": "stream",
     "text": [
      "['CHARLES', 'WASONGA', ':', 'SGR', 'kuelekea', 'Malaba', 'itapiga', 'jeki', 'biashara', 'TANGAZO', 'la', 'Shirika', 'la', 'Reli', 'nchini', '(', 'KRC', ')', 'kwamba', 'huduma', 'za', 'treni', 'kati', 'ya', 'Mombasa', 'na', 'miji', 'ya', 'Kisumu', 'na', 'Malaba', 'zitaaza', 'tena', 'Novemba', 'mwaka', 'huu', 'ni', 'habari', 'njema', 'kwa', 'wafanyabiashara', 'wa', 'humu', 'nchini', '.', 'Vilevile', ',', 'kurejeshwa', 'kwa', 'huduma', 'hizo', 'za', 'uchukuzi', 'wa', 'bidhaa', 'na', 'abiria', 'kutachochea', 'ukuaji', 'wa', 'uchumi', 'ambao', 'umeathiriwa', 'pakubwa', 'na', 'makali', 'ya', 'Covid-19', ',', 'miongoni', 'mwa', 'changamoto', 'nyinginezo', '.', 'Mkurugenzi', 'Mtendaji', 'wa', 'KRC', ',', 'Philip', 'Mainga', 'wiki', 'jana', 'alisema', 'kuwa', 'huduma', 'hiyo', 'itafanikishwa', 'baada', 'ya', 'kukamilika', 'kwa', 'ujenzi', 'wa', 'reli', 'inayounganisha', 'reli', 'ya', 'kisasa', '(', 'SGR', ')', 'katika', 'eneo', 'la', 'Mai', 'Mahiu', 'na', 'reli', 'ya', 'zamani', 'katika', 'eneo', 'la', 'Longonot', 'karibu', 'na', 'mji', 'wa', 'Naivasha', '.', 'Afisa', 'huyo', 'aliambia', 'wabunge', 'wanachama', 'wa', 'Kamati', 'ya', 'Fedha', 'kwamba', 'ujenzi', 'wa', 'reli', 'hiyo', 'mpya', 'uligharimu', 'Sh3.5', 'bilioni', '.', 'Mradi', 'wa', 'ukarabati', 'wa', 'reli', 'ya', 'zamani', 'kutoka', 'Naivasha', 'hadi', 'mji', 'wa', 'Malaba', 'ulioko', 'katika', 'mpaka', 'wa', 'Kenya', 'na', 'Uganda', 'na', 'laini', 'ya', 'kutoka', 'Nakuru', 'hadi', 'Kisumu', 'uligharimu', 'jumla', 'ya', 'Sh3.8', 'bilioni', '.', 'Kwa', 'hivyo', ',', 'kwa', 'kutumia', 'Sh7.3', 'bilioni', 'pekee', ',', 'shirika', 'la', 'KRC', 'litawezesha', 'uchukuzi', 'wa', 'bidhaa', 'na', 'abiria', 'kutoka', 'Mombasa', 'hadi', 'taifa', 'jirani', 'la', 'Uganda', ',', 'kupitia', 'mji', 'wa', 'Malaba', ',', 'kwa', 'gharama', 'nafuu', '.', 'Aidha', ',', 'mizigo', 'kutoka', 'Mombasa', 'itasafirishwa', 'hadi', 'Kisumu', 'kisha', 'ipakiwe', 'kwa', 'meli', 'katika', 'bandari', 'mpya', 'ya', 'Kisumu', 'na', 'kusafirishwa', 'hadi', 'Uganda', '.', 'Ukarabati', 'wa', 'bandari', 'hiyo', 'uligharimu', 'Sh3.2', 'bilioni.Hii', 'itaimarisha', 'biashara', 'kati', 'ya', 'Kenya', 'na', 'mataifa', 'jirani', 'ya', 'Uganda', ',', 'Jamhuri', 'ya', 'Kidemokrasia', 'ya', 'Congo', '(', 'DRC', ')', 'na', 'Rwanda', 'ambayo', 'hayajapakana', 'na', 'bahari', '.', 'Kwa', 'mfano', ',', 'kulingana', 'na', 'takwimu', 'za', 'hivi', 'punde', 'zilizotolewa', 'na', 'Shirika', 'la', 'Kitaifa', 'la', 'Takwimu', '(', 'KNBS', ')', 'Kenya', 'iliuza', 'bidhaa', 'za', 'Sh24.04', 'bilioni', 'kati', 'ya', 'Mei', 'na', 'Juni', 'mwaka', 'huu', '.', 'Hii', 'ni', 'mbali', 'na', 'mapato', 'kutoka', 'kwa', 'bidhaa', 'zilizouzwa', 'Uganda', ',', 'ikiwemo', 'mafuta', ',', 'ambayo', 'hutua', 'katika', 'bandari', 'ya', 'Mombasa', 'na', 'kusafirishwa', 'kwa', 'barabara', 'hadi', 'Uganda', '.', 'Hivi', 'majuzi', ',', 'Rais', 'wa', 'DRC', ',', 'Felix', 'Tshisekedi', 'alizuru', 'nchini', 'na', 'kutia', 'saini', 'mkataba', 'wa', 'kibiashara', 'wa', 'thamani', 'ya', 'Sh92', 'bilioni', 'kwa', 'mwaka', 'kati', 'ya', 'nchi', 'yake', 'na', 'Kenya', '.', 'Kwa', 'hivyo', ',', 'sasa', 'ni', 'wajibu', 'wa', 'Kenya', 'kupalilia', 'uhusiano', 'mzuri', 'wa', 'kidiplomasia', 'na', 'mataifa', 'haya', 'jirani', 'ili', 'iweze', 'kufaidika', 'kibiashara', '.', 'Kunawiri', 'kwa', 'biashara', 'kati', 'ya', 'Kenya', 'na', 'mataifa', 'haya', 'bila', 'shaka', 'kutaliletea', 'taifa', 'hili', 'mapato', 'yatakayoliwezesha', 'kupunguza', 'zigo', 'la', 'madeni', 'linayodaiwa', 'na', 'mataifa', 'ya', 'nje', 'hasa', 'China', '.', 'Kufufuliwa', 'kwa', 'shughuli', 'za', 'uchukuzi', 'kwa', 'reli', 'kati', 'ya', 'Mombasa', 'na', 'miji', 'ya', 'Kisumu', 'na', 'Malaba', 'pia', 'kutawezesha', 'mradi', 'wa', 'SGR', 'kuvuna', 'faida', 'kubwa', ',', 'hususan', ',', 'kupitia', 'usafiirishaji', 'wa', 'mizigo', 'hadi', 'maeneo', 'ya', 'bara', 'na', 'mataifa', 'jirani', '.', 'Tangu', 'kuzinduliwa', 'kwa', 'huduma', 'za', 'uchukuzi', 'wa', 'bidhaa', 'kupitia', 'reli', 'hiyo', 'mpya', ',', 'mapato', 'kutokana', 'na', 'uchukuzi', 'wa', 'mizigo', 'imekuwa', 'finyu', 'zaidi', 'hali', 'iliyotilia', 'shaka', 'faida', 'ya', 'mradi', 'huo', 'wa', 'SGR', 'uliogharimu', 'Sh347', 'bilioni.Aidha', ',', 'laini', 'kutoka', 'Nairobi', 'hadi', 'Mai', 'Mahiu', 'iligharimu', 'Sh150', 'bilioni', ',', 'pesa', 'ambazo', 'zilikopwa', 'kutoka', 'serikali', 'ya', 'China.I', 'sitoshe', ',', 'kurejelewa', 'kwa', 'safari', 'za', 'treni', 'kutoka', 'Nakuru', 'hadi', 'Kisumu', 'na', 'hatimaye', 'Butere', 'kutaimarisha', 'biashara', 'katika', 'miji', 'ya', 'Molo', ',', 'Elburgon', ',', 'Londiani', ',', 'Koru', ',', 'Muhoroni', 'na', 'Chemelil', 'ambayo', 'ilififia', 'baada', 'ya', 'kusitishwa', 'kwa', 'huduma', 'hizo', 'miaka', '15', 'iliyopita.Changamoto', 'sasa', 'ni', 'kwa', 'serikali', 'na', 'shirika', 'la', 'KRC', 'kuhakikisha', 'inatoa', 'huduma', 'bora', 'na', 'za', 'kutegemewa', 'na', 'wateja', '.', 'Mkenya', 'azuiliwa', 'Uhispania', 'kwa', 'kugeuka', 'mla', 'watu', 'Inadaiwa', 'vilevile', 'mshukiwa', 'alijaribu', 'kumnyofoa', 'mhasiriwa', 'viungo', 'vyake', 'vya', 'ndani', 'mbele', 'ya', 'binti', 'yake', 'mwenye', 'umri', 'wa', 'miaka', 'sita', '.', 'Mwanamke', 'huyo', 'mwenye', 'umri', 'wa', 'miaka', 'ya', '45', ',', 'alikamatwa', 'kuhusiana', 'na', 'mashtaka', 'ya', 'jaribio', 'la', 'kutekeleza', 'mauaji', '.', 'Polisi', 'wa', 'Uhispania', 'walisema', 'mshukiwa', 'alidaiwa', 'kumshambulia', 'mhasiriwa', 'wake', 'ambaye', 'ni', 'raia', 'wa', 'Congo', ',', 'katika', 'chumba', 'kimoja', 'kwenye', 'mji', 'wa', 'kusini', 'wa', 'Seville', 'kwa', 'sababu', 'aliamini', '“', 'amepagawa.', '”', 'Maafisa', 'walipata', 'mshambulizi', 'huyo', 'akiwa', 'juu', 'ya', 'mwanamke', 'mwenzake', 'baada', 'ya', 'kufika', 'upesi', 'chumbani', 'humo', 'kufuatia', 'simu', 'walizopigiwa', 'na', 'majirani', 'waliojawa', 'na', 'hofu', '.', 'Kulingana', 'na', 'gazeti', 'moja', 'nchini', 'humo', ',', 'Diario', 'de', 'Sevilla', ',', 'mwanamke', 'huyo', 'Mkenya', 'alidaiwa', 'kujaribu', 'kumtoa', 'mhasiriwa', 'wake', 'viungo', 'vyake', 'vya', 'ndani', 'kwa', 'kutumia', 'jiwe', 'alilokuwa', 'amemshambulia', 'nalo', 'kwa', 'kuliingiza', 'kwa', 'nguvu', 'katika', 'sehemu', 'yake', 'ya', 'kuendea', 'haja', 'kubwa', '.', 'KDF', 'wajengea', 'Waboni', 'shule', 'ya', 'bweni', 'WANAJESHI', 'wa', 'Kenya', '(', 'KDF', ')', 'wanaoendeleza', 'operesheni', 'ya', 'usalama', 'kwenye', 'msitu', 'wa', 'Boni', ',', 'Kaunti', 'ya', 'Lamu', 'wamekabidhi', 'shule', 'ya', 'kwanza', 'ya', 'msingi', 'ya', 'bweni', 'kwa', 'jamii', 'ya', 'Waboni', 'wanaoishi', 'eneo', 'hilo', '.', 'Shule', 'hiyo', 'iliyo', 'katika', 'kijiji', 'cha', 'Mangai', 'ni', 'ya', 'mseto', 'na', 'ina', 'ukubwa', 'wa', 'kusajili', 'karibu', 'wanafunzi', '400', 'kwa', 'wakati', 'mmoja', '.', 'Shule', 'hiyo', 'imekuwa', 'ikijengwa', 'na', 'kikosi', 'cha', 'KDF', 'kinachoshughulika', 'na', 'masuala', 'ya', 'ujenzi', 'na', 'miundomsingi', 'tangu', 'Juni', 'mwaka', 'huu', '.', 'Akizungumza', 'wakati', 'wa', 'hafla', 'ya', 'kukabidhi', 'majengo', 'hayo', 'yaliyojumuisha', 'madarasa', 'manane', 'na', 'mabweni', 'mawili', ',', 'Kamanda', 'Msimamizi', 'wa', 'Operesheni', 'Amani', 'Boni', ',', 'Kanali', 'Meshack', 'Kishoyian', 'aliwasihi', 'wakazi', 'wa', 'jamii', 'ya', 'Boni', 'kutumia', 'nafasi', 'hiyo', 'kutia', 'fora', 'masomoni', '.', 'Wakati', 'huo', 'huo', ',', 'Bw', 'Kishoyian', 'alikabidhi', 'majengo', 'mawili', 'mengine', 'ya', 'wanafunzi', 'kusomea', 'kwenye', 'shule', 'ya', 'Bodhei', 'Junction', 'ambayo', 'pia', 'iko', 'ndani', 'ya', 'msitu', 'wa', 'Boni', '.', 'Jumla', 'ya', 'shule', 'sita', 'hupatikana', 'ndani', 'ya', 'msitu', 'huo', 'ulioko', 'Lamu', 'Mashariki', '.', 'Shule', 'hizo', 'hata', 'hivyo', 'zimekuwa', 'zikihudumia', 'wanafunzi', 'wa', 'chekechea', 'hadi', 'darasa', 'la', 'nne', 'pekee', 'ilhali', 'wale', 'wa', 'madarasa', 'ya', 'juu', 'wakilazimika', 'kusafirishwa', 'hadi', 'shule', 'ya', 'msingi', 'ya', 'bweni', 'ya', 'Mokowe', 'Arid', 'Zone', 'iliyoko', 'Lamu', 'Magharibi', '.', 'Mwalimu', 'Mkuu', 'wa', 'Shule', 'ya', 'Mangai', ',', 'Khamis', 'Mwaleso', 'alisema', 'furaha', 'yake', 'ni', 'kuona', 'wanafunzi', 'wakisoma', 'na', 'kumaliza', 'masomo', 'yao', 'ya', 'msingi', 'wakiwa', 'shule', 'moja', 'badala', 'ya', 'kuhamishwahamishwa', 'kwenye', 'shule', 'za', 'mbali', 'kila', 'wanapofikia', 'madarasa', 'ya', 'juu', '.', 'Mwalimu', 'Mkuu', 'wa', 'Shule', 'ya', 'Msingi', 'ya', 'Bodhei', 'Junction', ',', 'Mohamed', 'Menya', ',', 'alisema', 'kuimarishwa', 'kwa', 'usalama', 'na', 'miundomsingi', 'kwenye', 'shule', 'za', 'msitu', 'wa', 'Boni', 'kumewasukuma', 'walimu', 'wengi', 'kuwa', 'na', 'ari', 'ya', 'kufunza', 'kwenye', 'shule', 'hizo', '.', 'Kwa', 'upande', 'wake', 'aidha', ',', 'Mkurugenzi', 'wa', 'TSC', 'kaunti', 'ya', 'Lamu', ',', 'Riziki', 'Daido', 'alisema', 'mipango', 'tayari', 'inaendelea', 'katika', 'ofisi', 'yake', 'kuona', 'kwamba', 'idadi', 'ya', 'walimu', 'wanohudumu', 'kwenye', 'shule', 'za', 'msitu', 'wa', 'Boni', 'inaongezwa', '.', 'Wito', 'mashirika', 'yashirikiane', 'kueneza', 'bayoteknolojia', 'nchini', 'Kongamano', 'la', 'Mawasiliano', 'ya', 'Bayosayansi', 'Afrika', '(', 'ABBC2021', ')', 'limerai', 'washikadau', 'kutoka', 'mashirika', 'ya', 'umma', 'na', 'ya', 'kibinafsi', 'yaungane', 'ili', 'uwezo', 'wa', 'Kenya', 'kupitia', 'bayoteknolojia', 'uimarike', '.', 'Kongamano', 'hilo', 'ambalo', 'hufanyika', 'kila', 'baada', 'ya', 'miaka', 'miwili', ',', 'lilifanywa', 'katika', 'hoteli', 'ya', 'Nairobi', 'Sports', 'Club', 'kwa', 'siku', 'tano', '.', 'Washikadau', 'waliwaomba', 'wanasayansi', ',', 'wakulima', ',', 'wanahabari', ',', 'maajenti', 'kutoka', 'serikali', 'na', 'wanaotengeneza', 'sera', 'za', 'umma', 'kushirikiana', 'katika', 'kueleza', 'umma', 'kuhusu', 'bayosayansi', '.', 'Teknolojia', 'hii', 'ya', 'kubadilisha', 'jeni', 'huwapa', 'wanasayansi', 'uwezo', 'wa', 'kubadili', 'chembechembe', 'za', 'DNA', 'za', 'viumbe', 'ili', 'hali', 'zao', 'ziboreke', '.', 'Hivi', 'sasa', 'utafiti', 'wa', 'kubadili', 'jeni', 'za', 'mihogo', 'unaendelea', 'nchini', 'Kenya', '.', 'Mafanikio', 'ya', 'utafiti', 'huu', 'yalionekana', 'miaka', 'miwili', 'iliyopita', 'wakati', 'Kenya', 'iliidhinisha', 'pamba', 'ya', 'bayoteknolojia', '(', 'BT', '.', ')', 'Prof', 'Darington', 'Oyugi', ',', 'mkurugenzi', 'mkuu', 'katika', 'Mamlaka', 'ya', 'Kitaifa', 'ya', 'Usalama', 'wa', 'Viumbe', 'aliwarai', 'wakuu', 'katika', 'nchi', 'za', 'Afrika', 'kuharakisha', 'kanuni', 'mahususi', 'zinazoangazia', 'mabadiliko', 'ya', 'kijeni', 'ili', 'Kenya', 'iweze', 'kuongoza', 'nchi', 'zingine', '.', 'Mratibu', 'wa', 'PBS', 'barani', 'Afrika', ',', 'Bw', 'John', 'Komen', ',', 'alisherehekea', 'jinsi', 'serikali', 'za', 'Afrika', 'zimejitahidi', 'katika', 'kuhakikisha', 'kuwa', 'sera', 'za', 'ukulima', 'zinaleta', 'mabadiliko', 'katika', 'nchi', 'hizo', '.', '“', 'Serikali', 'hizi', 'za', 'Afrika', 'zimesaidia', 'nchi', 'hizo', 'kukua', 'kiuchumi', ',', 'huku', 'nafasi', 'za', 'ajira', 'zikiongezeka', 'na', 'uchumi', 'wa', 'kilimo', 'kukua', '.', 'Hii', 'imesaidia', 'uvumbuzi', 'wa', 'ukulima', 'unaotumia', 'bayoteknolojia', 'kukumbatiwa', ',', '”', 'akaeleza', 'Bw', 'Komen', '.', 'Serikali', 'yaanza', 'kujenga', 'barabara', 'ya', 'lami', 'kuinua', 'hadhi', 'ya', 'mji', 'wa', 'Othaya', 'Serikali', 'kupitia', 'Mamlaka', 'ya', 'Ujenzi', 'wa', 'Barabara', 'za', 'Mijini', '(', 'KURA', ')', 'imeanza', 'kujenga', 'barabara', 'ya', 'kilomita', '12', 'katika', 'mji', 'wa', 'Othaya', '.', 'KURA', 'inanuia', 'kuweka', 'lami', ',', 'mabomba', 'ya', 'kutoa', 'maji', 'na', 'njia', 'za', 'usafiri', 'kwa', 'waendeshaji', 'basikeli', 'na', 'wanaotembea', 'kwa', 'miguu', '.', 'Kulingana', 'na', 'KURA', ',', 'mradi', 'huo', 'unanuia', 'kuinua', 'hadhi', 'ya', 'mji', 'wa', 'Othaya', 'na', 'kuufanya', 'umakinikie', 'kibiashara', '.', '“', 'Barabara', 'hii', 'ina', 'jumla', 'ya', 'barabara', 'sita', 'ambazo', 'zitapitia', 'katika', 'maeneo', 'mbalimbali', 'kama', 'kanisa', 'la', 'Katoliki', 'la', 'Birithia', 'katika', 'barabara', 'ya', 'Gachame', ',', 'barabara', 'iliyopendekezwa', 'ya', 'KMTC', ',', 'barabara', 'ya', 'Gatugi-', 'Sewarage-Karima', ',', 'kituo', 'cha', 'ununuzi', 'cha', 'Kwa', 'Ngechu-Gatugi', ',', 'shule', 'ya', 'upili', 'ya', 'wasichana', 'ya', 'Othaya', 'na', 'hospitali', 'ya', 'Othaya', 'level', '6', 'na', 'level', '4', ',', '”', 'ikasema', 'taarifa', 'iliyotumwa', 'kwa', 'vyombo', 'vya', 'habari', 'Ijumaa', '.', 'Bi', 'Doreen', 'Kirima', ',', 'mhandisi', 'anayesimamia', 'mradi', 'huo', ',', 'aliwashukuru', 'wakazi', 'kwa', 'eneo', 'hilo', 'kwa', 'kuwaunga', 'mkono', 'wajenzi', 'hivi', 'kuhakikisha', 'kuwa', 'mradi', 'huo', 'unatekelezeka', 'kwa', 'urahisi', '.', 'Isitoshe', 'Bi', 'Kirima', 'alieleza', 'umuhimu', 'ambao', 'barabara', 'hiyo', 'italeta', 'pindi', 'tu', 'itakapomalizika', '.', '“', 'Barabara', 'hizo', 'zinajengwa', 'ndani', 'ya', 'mji', 'wa', 'Othaya', 'zitasaidia', 'pakubwa', 'wakaazi', 'kupata', 'kwa', 'urahisi', 'sana', 'huduma', 'katika', 'shule', ',', 'hospitali', 'na', 'sokoni', ',', '”', 'akasema', '.', 'Mradi', 'huu', 'ambao', 'umedhaminiwa', 'na', 'serikali', 'utachukua', 'jumla', 'ya', 'miaka', 'miwili', 'ili', 'uweze', 'kukamilika', 'na', 'utatumia', 'Sh474,712,844.76', 'milioni', '.', 'Kampuni', 'ya', 'Benisa', 'ndiyo', 'iliyopewa', 'kandarasi', 'ya', 'ujenzi', 'huo', 'na', 'ilianza', 'kujenga', 'barabara', 'hiyo', 'mwaka', 'jana', '.', 'Pindi', 'tu', 'mradi', 'huu', 'utakapomalizika', ',', 'wakaazi', 'wataweza', 'kusafirisha', 'mazao', 'yao', 'kwa', 'urahisi', 'na', 'kupunguza', 'muda', 'wa', 'kusafiri', 'na', 'pia', 'kupokea', 'huduma', 'mbalimbali', 'kwa', 'urahisi', '.', 'Kazi', 'hii', 'ya', 'ujenzi', 'inaambatana', 'na', 'utekelezwaji', 'wa', 'Ruwaza', 'ya', '2030', 'na', 'Ajenda', 'Nne', 'Kuu', '.', 'Wenye', 'jinsia', 'mbili', 'walia', 'kubaguliwa', 'wakisaka', 'huduma', 'WATU', 'wenye', 'jinsia', 'mbili', 'nchini', 'wanataka', 'mageuzi', 'yatakayohakikisha', 'uhuru', 'wao', 'na', 'haki', 'zao', 'za', 'kimsingi', 'zinalindwa', '.', 'Kundi', 'la', 'watu', 'hao', 'linasema', 'hakuna', 'usawa', 'wowote', 'baina', 'yao', 'na', 'watu', 'wa', 'kawaida', ',', 'hasa', 'wanapotafuta', 'huduma', 'za', 'serikali', '.', 'Wamesema', 'tatizo', 'kuu', 'linalowakumba', 'ni', 'unyanyapaa', 'dhidi', 'yao', 'pale', 'raia', 'wanapogundua', 'wana', 'maumbile', 'tatanishi.Kwa', 'kuwa', 'mtu', 'hachagui', 'atakavyoumbwa', ',', 'wameomba', 'hamasisho', 'za', 'kina', 'kufanywa', 'ili', 'kuelimisha', 'umma', 'kuhusu', 'hali', 'zao', 'kuwavumilia', '.', 'Mtu', 'mwenye', 'jinsia', 'mbili', 'kulingana', 'na', 'ripoti', 'ya', 'jopokazi', 'kuhusu', 'sera', ',', 'uhalisia', 'na', 'mageuzi', 'katika', 'taasisi', 'za', 'utawala', 'ni', 'yule', 'asiyejulikana', 'ikiwa', 'yeye', 'ni', 'mke', 'au', 'mume', '.', 'Mara', 'nyingi', 'ana', 'viungo', 'vyote', 'vya', 'siri', 'japo', 'kiungo', 'kimoja', 'huonekana', 'kuwa', 'na', 'nguvu', 'kuliko', 'kingine.Kulingana', 'na', 'takwimu', 'za', 'sensa', 'ya', 'kitaifa', 'ya', 'mwaka', '2019', ',', 'Kenya', 'ina', 'jumla', 'ya', 'watu', '1,524', 'ambao', 'wana', 'jinsia', 'mbili', '.', 'Kaunti', 'ya', 'Kisii', 'ina', 'jumla', 'ya', '38', 'ya', 'watu', 'hao', ',', 'huku', 'ikiorodheshwa', 'katika', 'nafasi', 'ya', 'saba', 'kitaifa', '.', 'Sensa', 'hiyo', 'ilifanya', 'Kenya', 'kuwa', 'taifa', 'la', 'kwanza', 'kabisa', 'barani', 'Afrika', 'kuwahi', 'kukusanya', 'deta', 'za', 'watu', 'wenye', 'jinsia', 'mbili', 'pia', '.', 'Miongoni', 'mwa', 'hitaji', 'walilosema', 'linawakera', 'mno', 'ni', 'ukosefu', 'wa', 'kutambua', 'kuwa', 'kunayo', 'jinsia', 'ya', 'tatu', 'katika', 'fomu', 'za', 'kutafuta', 'vyeti', 'vya', 'kuzaliwa', 'kwa', 'watoto', 'waliozaliwa', 'na', 'maumbile', 'hayo', 'tata.Ubaguzi', 'mwingine', 'waliolalamikia', 'ni', 'katika', 'elimu', 'na', 'wanapotaka', 'kuchukua', 'mikopo', 'ambayo', 'wanasema', 'huwawia', 'vigumu', 'kupata', 'kutokana', 'na', 'maumbile', 'yao', '.', 'Ngilu', 'aweka', 'ushirika', 'na', 'NHIF', 'kuwezesha', 'familia', '200,000', 'za', 'mapato', 'ya', 'chini', 'kugharimia', 'matibabu', 'SERIKALI', 'ya', 'Kaunti', 'ya', 'Kitui', 'imeanza', 'kusajili', 'zaidi', 'ya', 'familia', '200,000', 'kwenye', 'Mpango', 'wa', 'Afya', 'kwa', 'Wote', '(', 'UHC', ')', 'kama', 'njia', 'ya', 'kuhakikisha', 'wana', 'bima', 'ya', 'kugharimia', 'matibabu', 'na', 'kuwaepushia', 'gharama', 'kubwa', 'wanapougua', '.', 'Gavana', 'wa', 'Kitui', 'Charity', 'Ngilu', 'jana', 'alizindua', 'mpango', 'huo', 'wa', 'afya', 'ambao', 'utahakikisha', 'hata', 'familia', 'maskini', 'inajivunia', 'bima', 'ya', 'matibabu', '.', 'Hii', 'itasaidia', 'hasa', 'wakati', 'huu', 'baadhi', 'ya', 'hospitali', 'zimekuwa', 'zikiwazuilia', 'wagonjwa', 'wanaoshindwa', 'kulipia', 'gharama', 'ya', 'matibabu', '.', 'Tayari', 'familia', 'maskini', '85,000', 'kutoka', 'wadi', 'zote', '40', 'zimetambuliwa', 'na', 'zitanufaika', 'na', 'mpango', 'huo', 'ambao', 'Gavana', 'Ngilu', 'aliufikia', 'kwa', 'ushirikiano', 'na', 'Hazina', 'ya', 'Kitaifa', 'ya', 'Bima', 'ya', 'Afya', '(', 'NHIF', ')', '.', 'Tayari', 'baadhi', 'ya', 'familia', 'za', 'Kaunti', 'ya', 'Kitui', 'zimekuwa', 'zikinufaika', 'na', 'Bima', 'iliyoanzishwa', 'na', 'Bi', 'Ngilu', 'maarufu', 'kama', '(', 'KCHIC', ')', 'ambayo', 'inawawezesha', 'kupata', 'matibabu', 'nafuu', 'katika', 'hospitali', 'ya', 'kaunti', 'hiyo', '.', 'Ingawa', 'hivyo', ',', 'kupitia', 'huu', 'ushirikiano', 'na', 'NHIF', ',', 'kaunti', 'sasa', 'itawalipia', 'Sh3,000', 'kila', 'mwaka', 'ambazo', 'ni', 'nusu', 'za', 'pesa', 'wanazostahili', 'kulipa', '.', '‘', 'Tumekuwa', 'tukitumia', 'bima', 'ya', 'KCHIC', 'ambayo', 'imehakikisha', 'kuwa', 'wakazi', 'wa', 'kaunti', 'ya', 'Kitui', 'wanapokea', 'matibabu', 'kwenye', 'hospitali', 'za', 'kaunti', 'zetu', '.', 'Kupitia', 'ushirikiano', 'na', 'NHIF', 'sasa', 'watatumia', 'hospitali', 'na', 'vituo', 'vya', 'kiafya', 'zaidi', 'ya', '8,000', 'kote', 'nchini', ',', '’', 'akasema', 'Bi', 'Ngilu', '.']\n",
      "\n",
      " Number of Words:  1962\n"
     ]
    }
   ],
   "source": [
    "file=\"21oct1_2.txt\"\n",
    "\n",
    "# calling the function and storing the contents in a text variable \n",
    "text1 = get_document(\"https://taifaleo.nation.co.ke/charles-wasonga-sgr-kuelekea-malaba-itapiga-jeki-biashara/\")\n",
    "text2 = get_document(\"https://taifaleo.nation.co.ke/mkenya-azuiliwa-uhispania-kwa-kugeuka-mla-watu/\")\n",
    "text3 = get_document(\"https://taifaleo.nation.co.ke/kdf-wajengea-waboni-shule-ya-bweni/\")\n",
    "text4 = get_document(\"https://taifaleo.nation.co.ke/wito-mashirika-yashirikiane-kueneza-bayoteknolojia-nchini/\")\n",
    "text5 = get_document(\"https://taifaleo.nation.co.ke/serikali-yaanza-kujenga-barabara-ya-lami-kuinua-hadhi-ya-mji-wa-othaya/\")\n",
    "text6 = get_document(\"https://taifaleo.nation.co.ke/wenye-jinsia-mbili-walia-kubaguliwa-wakisaka-huduma/\")\n",
    "text7 = get_document(\"https://taifaleo.nation.co.ke/ngilu-aweka-ushirika-na-nhif-kuwezesha-familia-200000-za-mapato-ya-chini-kugharimia-matibabu/\")\n",
    "\n",
    "# calling the store_ document function \n",
    "store_document(doc=text1,name=file)\n",
    "store_document(doc=text2,name=file)\n",
    "store_document(doc=text3,name=file)\n",
    "store_document(doc=text4,name=file)\n",
    "store_document(doc=text5,name=file)\n",
    "store_document(doc=text6,name=file)\n",
    "store_document(doc=text7,name=file)\n",
    "\n",
    "\n",
    "#add the words in this file to the total_corpus_words, to keep count of the number of words in the corpus\n",
    "total_corpus_words+=total_words(file)"
   ]
  },
  {
   "cell_type": "code",
   "execution_count": 14,
   "metadata": {},
   "outputs": [
    {
     "data": {
      "text/plain": [
       "754456"
      ]
     },
     "execution_count": 14,
     "metadata": {},
     "output_type": "execute_result"
    }
   ],
   "source": [
    "total_corpus_words"
   ]
  },
  {
   "cell_type": "code",
   "execution_count": 16,
   "metadata": {},
   "outputs": [
    {
     "name": "stdout",
     "output_type": "stream",
     "text": [
      "['CHARLES', 'WASONGA', ':', 'SGR', 'kuelekea', 'Malaba', 'itapiga', 'jeki', 'biashara', 'TANGAZO', 'la', 'Shirika', 'la', 'Reli', 'nchini', '(', 'KRC', ')', 'kwamba', 'huduma', 'za', 'treni', 'kati', 'ya', 'Mombasa', 'na', 'miji', 'ya', 'Kisumu', 'na', 'Malaba', 'zitaaza', 'tena', 'Novemba', 'mwaka', 'huu', 'ni', 'habari', 'njema', 'kwa', 'wafanyabiashara', 'wa', 'humu', 'nchini', '.', 'Vilevile', ',', 'kurejeshwa', 'kwa', 'huduma', 'hizo', 'za', 'uchukuzi', 'wa', 'bidhaa', 'na', 'abiria', 'kutachochea', 'ukuaji', 'wa', 'uchumi', 'ambao', 'umeathiriwa', 'pakubwa', 'na', 'makali', 'ya', 'Covid-19', ',', 'miongoni', 'mwa', 'changamoto', 'nyinginezo', '.', 'Mkurugenzi', 'Mtendaji', 'wa', 'KRC', ',', 'Philip', 'Mainga', 'wiki', 'jana', 'alisema', 'kuwa', 'huduma', 'hiyo', 'itafanikishwa', 'baada', 'ya', 'kukamilika', 'kwa', 'ujenzi', 'wa', 'reli', 'inayounganisha', 'reli', 'ya', 'kisasa', '(', 'SGR', ')', 'katika', 'eneo', 'la', 'Mai', 'Mahiu', 'na', 'reli', 'ya', 'zamani', 'katika', 'eneo', 'la', 'Longonot', 'karibu', 'na', 'mji', 'wa', 'Naivasha', '.', 'Afisa', 'huyo', 'aliambia', 'wabunge', 'wanachama', 'wa', 'Kamati', 'ya', 'Fedha', 'kwamba', 'ujenzi', 'wa', 'reli', 'hiyo', 'mpya', 'uligharimu', 'Sh3.5', 'bilioni', '.', 'Mradi', 'wa', 'ukarabati', 'wa', 'reli', 'ya', 'zamani', 'kutoka', 'Naivasha', 'hadi', 'mji', 'wa', 'Malaba', 'ulioko', 'katika', 'mpaka', 'wa', 'Kenya', 'na', 'Uganda', 'na', 'laini', 'ya', 'kutoka', 'Nakuru', 'hadi', 'Kisumu', 'uligharimu', 'jumla', 'ya', 'Sh3.8', 'bilioni', '.', 'Kwa', 'hivyo', ',', 'kwa', 'kutumia', 'Sh7.3', 'bilioni', 'pekee', ',', 'shirika', 'la', 'KRC', 'litawezesha', 'uchukuzi', 'wa', 'bidhaa', 'na', 'abiria', 'kutoka', 'Mombasa', 'hadi', 'taifa', 'jirani', 'la', 'Uganda', ',', 'kupitia', 'mji', 'wa', 'Malaba', ',', 'kwa', 'gharama', 'nafuu', '.', 'Aidha', ',', 'mizigo', 'kutoka', 'Mombasa', 'itasafirishwa', 'hadi', 'Kisumu', 'kisha', 'ipakiwe', 'kwa', 'meli', 'katika', 'bandari', 'mpya', 'ya', 'Kisumu', 'na', 'kusafirishwa', 'hadi', 'Uganda', '.', 'Ukarabati', 'wa', 'bandari', 'hiyo', 'uligharimu', 'Sh3.2', 'bilioni.Hii', 'itaimarisha', 'biashara', 'kati', 'ya', 'Kenya', 'na', 'mataifa', 'jirani', 'ya', 'Uganda', ',', 'Jamhuri', 'ya', 'Kidemokrasia', 'ya', 'Congo', '(', 'DRC', ')', 'na', 'Rwanda', 'ambayo', 'hayajapakana', 'na', 'bahari', '.', 'Kwa', 'mfano', ',', 'kulingana', 'na', 'takwimu', 'za', 'hivi', 'punde', 'zilizotolewa', 'na', 'Shirika', 'la', 'Kitaifa', 'la', 'Takwimu', '(', 'KNBS', ')', 'Kenya', 'iliuza', 'bidhaa', 'za', 'Sh24.04', 'bilioni', 'kati', 'ya', 'Mei', 'na', 'Juni', 'mwaka', 'huu', '.', 'Hii', 'ni', 'mbali', 'na', 'mapato', 'kutoka', 'kwa', 'bidhaa', 'zilizouzwa', 'Uganda', ',', 'ikiwemo', 'mafuta', ',', 'ambayo', 'hutua', 'katika', 'bandari', 'ya', 'Mombasa', 'na', 'kusafirishwa', 'kwa', 'barabara', 'hadi', 'Uganda', '.', 'Hivi', 'majuzi', ',', 'Rais', 'wa', 'DRC', ',', 'Felix', 'Tshisekedi', 'alizuru', 'nchini', 'na', 'kutia', 'saini', 'mkataba', 'wa', 'kibiashara', 'wa', 'thamani', 'ya', 'Sh92', 'bilioni', 'kwa', 'mwaka', 'kati', 'ya', 'nchi', 'yake', 'na', 'Kenya', '.', 'Kwa', 'hivyo', ',', 'sasa', 'ni', 'wajibu', 'wa', 'Kenya', 'kupalilia', 'uhusiano', 'mzuri', 'wa', 'kidiplomasia', 'na', 'mataifa', 'haya', 'jirani', 'ili', 'iweze', 'kufaidika', 'kibiashara', '.', 'Kunawiri', 'kwa', 'biashara', 'kati', 'ya', 'Kenya', 'na', 'mataifa', 'haya', 'bila', 'shaka', 'kutaliletea', 'taifa', 'hili', 'mapato', 'yatakayoliwezesha', 'kupunguza', 'zigo', 'la', 'madeni', 'linayodaiwa', 'na', 'mataifa', 'ya', 'nje', 'hasa', 'China', '.', 'Kufufuliwa', 'kwa', 'shughuli', 'za', 'uchukuzi', 'kwa', 'reli', 'kati', 'ya', 'Mombasa', 'na', 'miji', 'ya', 'Kisumu', 'na', 'Malaba', 'pia', 'kutawezesha', 'mradi', 'wa', 'SGR', 'kuvuna', 'faida', 'kubwa', ',', 'hususan', ',', 'kupitia', 'usafiirishaji', 'wa', 'mizigo', 'hadi', 'maeneo', 'ya', 'bara', 'na', 'mataifa', 'jirani', '.', 'Tangu', 'kuzinduliwa', 'kwa', 'huduma', 'za', 'uchukuzi', 'wa', 'bidhaa', 'kupitia', 'reli', 'hiyo', 'mpya', ',', 'mapato', 'kutokana', 'na', 'uchukuzi', 'wa', 'mizigo', 'imekuwa', 'finyu', 'zaidi', 'hali', 'iliyotilia', 'shaka', 'faida', 'ya', 'mradi', 'huo', 'wa', 'SGR', 'uliogharimu', 'Sh347', 'bilioni.Aidha', ',', 'laini', 'kutoka', 'Nairobi', 'hadi', 'Mai', 'Mahiu', 'iligharimu', 'Sh150', 'bilioni', ',', 'pesa', 'ambazo', 'zilikopwa', 'kutoka', 'serikali', 'ya', 'China.I', 'sitoshe', ',', 'kurejelewa', 'kwa', 'safari', 'za', 'treni', 'kutoka', 'Nakuru', 'hadi', 'Kisumu', 'na', 'hatimaye', 'Butere', 'kutaimarisha', 'biashara', 'katika', 'miji', 'ya', 'Molo', ',', 'Elburgon', ',', 'Londiani', ',', 'Koru', ',', 'Muhoroni', 'na', 'Chemelil', 'ambayo', 'ilififia', 'baada', 'ya', 'kusitishwa', 'kwa', 'huduma', 'hizo', 'miaka', '15', 'iliyopita.Changamoto', 'sasa', 'ni', 'kwa', 'serikali', 'na', 'shirika', 'la', 'KRC', 'kuhakikisha', 'inatoa', 'huduma', 'bora', 'na', 'za', 'kutegemewa', 'na', 'wateja', '.', 'Kaunti', 'lawamani', 'kuhusu', 'ubomoaji', 'SERIKALI', 'ya', 'Kaunti', 'ya', 'Mombasa', 'imelaumiwa', 'kwa', 'ubomoaji', 'majengo', 'ambao', 'ulitokea', 'katika', 'sehemu', 'tofauti', 'za', 'mji', 'huo', '.', 'Katika', 'kisa', 'cha', 'kwanza', ',', 'mfanyibiashara', 'anayemiliki', 'kampuni', 'ya', 'uokaji', 'mikate', 'ya', 'Fayaz', ',', 'Bw', 'Mohamed', 'Ayub', 'alikashifu', 'utawala', 'wa', 'Gavana', 'Hassan', 'Joho', 'kwa', 'kusimamisha', 'miradi', 'yake', 'katika', 'ufuo', 'wa', 'Bahari', 'Hindi', '.', 'Kisa', 'kingine', 'kinahusu', 'ubomoaji', 'wa', 'kituo', 'cha', 'mafuta', ',', 'ambacho', 'kilidaiwa', 'kuwa', 'katika', 'sehemu', 'inayofaa', 'kuwa', 'ya', 'ujenzi', 'wa', 'nyumba', 'za', 'Buxton', 'Point', '.', 'Mradi', 'huo', 'unaendelezwa', 'na', 'kampuni', 'ya', 'mwanasiasa', 'Suleiman', 'Shahbal', 'kwa', 'ushirikiano', 'na', 'serikali', 'ya', 'Kaunti', 'ya', 'Mombasa', '.', 'Bw', 'Ayub', 'alishtumu', 'serikali', 'ya', 'Kaunti', 'kwa', 'kusimamisha', 'ujenzi', 'wa', 'msikiti', 'wa', 'Madhubaha', 'katika', 'eneo', 'la', 'Mji', 'wa', 'Kale', ',', 'lakini', 'serikali', 'ya', 'kaunti', 'ikasisitiza', 'ardhi', 'hiyo', 'ni', 'ya', 'umma', '.', 'Mvutano', 'ulichipuka', 'Bw', 'Ayub', 'alipoanza', 'ujenzi', 'wa', 'msikiti', 'huo', 'serikali', 'ya', 'Kaunti', 'iliposema', 'kwamba', 'ujenzi', 'huo', 'unahitilafiana', 'na', 'barabara', 'ya', 'ufuoni', 'na', 'shughuli', 'za', 'uvuvi', '.', 'Bw', 'Ayub', 'anaeleza', 'kuwa', 'aliamua', 'kufanya', 'ujenzi', 'huo', 'baada', 'ya', 'eneo', 'hilo', 'kubadilishwa', 'kuwa', 'maficho', 'ya', 'watumizi', 'wa', 'dawa', 'za', 'kulevya', 'na', 'walevi', '.', '“', 'Kila', 'mtu', 'anajua', 'Madhubaha', 'ni', 'maficho', 'ya', 'watumizi', 'wa', 'dawa', 'za', 'kulevya', 'na', 'walevi', 'ndio', 'maana', 'tukaamua', 'kubadilisha', 'mandhari', 'ya', 'eneo', 'hilo', 'kwa', 'kulijenga', '.', 'Lakini', 'nahangaishwa', 'sana', ',', 'tumechoka', '!', 'Tumekuwa', 'kwenye', 'biashara', 'kwa', 'zaidi', 'ya', 'miaka', '100', 'na', 'hatujawahi', 'kupitia', 'uonevu', 'huu', ',', '”', 'alisema', 'Bw', 'Ayub', '.', 'Alieleza', 'kuwa', 'anamiliki', 'ardhi', 'hiyo', 'ingawa', 'afisa', 'wa', 'uchukuzi', 'na', 'ujenzi', 'katika', 'Kaunti', ',', 'Bw', 'Tawfiq', 'Balala', 'alieleza', 'kuwa', 'ardhi', 'hiyo', 'haifai', 'kumilikiwa', 'na', 'mtu', 'binafsi', '.', '“', 'Fuo', 'zote', 'ni', 'za', 'umma', ',', 'hazimilikiwi', 'na', 'watu', 'binafsi', '.', 'Hatupingi', 'ujenzi', 'wa', 'msikiti', 'jinsi', 'inavyodaiwa', ',', '”', 'alisema', '.', 'Kwa', 'miaka', 'mingi', ',', 'sehemu', 'hiyo', 'maarufu', 'ya', 'Madhubaha', 'imekuwa', 'ikitumiwa', 'na', 'wavuvi', 'na', 'watengenezaji', 'wa', 'boti', '.', 'Wavuvi', 'walimshtumu', 'mfanyibiashara', 'huyo', 'kwa', 'kutaka', 'kuwafurusha', '.', 'Lakini', 'Bw', 'Ayub', 'alisema', 'hajakataza', 'wavuvi', 'kuendeleza', 'biashara', 'zao', 'sehemu', 'hiyo', '.', 'Hata', 'hivyo', ',', 'Bw', 'Balala', 'alimtaka', 'Bw', 'Ayub', 'kufanya', 'kikao', 'na', 'serikali', 'ya', 'Kaunti', 'kusuluhisha', 'mgogoro', 'huo', '.', 'Baraza', 'la', 'Maimamu', 'na', 'Wahubiri', 'nchini', 'Kenya', 'liliingilia', 'mzozo', 'huo', 'na', 'kutaka', 'lisifanywe', 'kuwa', 'mzozo', 'wa', 'kidini.Wakazi', 'pia', 'wanalia', 'kuhusiana', 'na', 'ubomozi', 'wa', 'kituo', 'cha', 'mafuta', '.', '“', 'Babangu', 'alijenga', 'kituo', 'hiki', 'cha', 'mafuta', 'miaka', '20', 'iliyopita', '.', 'Kamwe', 'hakikuwahi', 'kuwa', 'na', 'shida', 'na', 'serikali', 'ya', 'Kaunti', 'mpaka', 'sasa', '.', 'Hatujapokea', 'ilani', 'yoyote', 'au', 'amri', 'ya', 'korti', 'kwamba', 'tunapaswa', 'kuondoka', 'katika', 'eneo', 'hili', ',', '”', 'akasema', 'mmiliki', ',', 'Bi', 'Najma', 'Ahmed', '.', 'Juhudi', 'za', 'kupata', 'maoni', 'ya', 'serikali', 'ya', 'Kaunti', 'kuhusu', 'kisa', 'hiki', 'hazikufua', 'dafu', ',', 'lakini', 'msimamizi', 'mkuu', 'wa', 'mradi', 'huo', 'wa', 'Buxton', ',', 'Bw', 'Ahmed', 'Badawy', 'alihimiza', 'wenye', 'malalamishi', 'kuyawasilisha', 'kwa', 'serikali', 'ya', 'Kaunti', '.', 'Kwenye', 'ombi', 'lililoidhinishwa', 'kuwa', 'la', 'dharura', 'na', 'Jaji', 'wa', 'Mahakama', 'Kuu', ',', 'Jaden', 'Thuranira', ',', 'Bw', 'Itumbi', 'anasema', 'kwamba', 'kesi', 'ya', 'kuharibu', 'jina', 'iliyowasilishwa', 'na', 'mfanyabiashara', 'huyo', 'inanuiwa', 'kutimiza', 'malengo', 'ya', 'kisiasa', '.', '“', 'Sijawaahi', 'kuchapisha', 'habari', 'za', 'kumharibia', 'jina', 'Bw', 'Kamau', 'au', 'mtu', 'yeyote', 'katika', 'maisha', 'yangu', '.', 'Ninaheshimu', 'sana', 'kila', 'mtu', 'kama', 'ninavyojiheshimu', 'mimi', 'binafsi', ',', '”', 'akasema', 'Bw', 'Itumbi', 'kwenye', 'ombi', 'alilowasilisha', 'jana', '.', 'Kiangazi', ':', 'Serikali', 'yaahidi', 'kununua', 'mifugo', 'SERIKALI', 'inalenga', 'kuzindua', 'mpango', 'wa', 'kuokoa', 'mifugo', 'katika', 'maeneo', 'yanayoathiriwa', 'na', 'ukame', 'kama', 'njia', 'ya', 'kupunguza', 'athari', 'za', 'muda', 'mrefu', 'zinazosababishwa', 'na', 'janga', 'hilo', '.', 'Wizara', 'ya', 'Ugatuzi', 'ilisema', 'kuwa', 'hali', 'inaendelea', 'kuwa', 'mbaya', 'katika', 'maeneo', 'hayo', 'huku', 'mifugo', 'zaidi', 'wakitarajiwa', 'kufa', 'kutokana', 'na', 'ukosefu', 'wa', 'maji', 'na', 'lishe', '.', 'Akizungumza', 'katika', 'mkutano', 'na', 'wadau', 'uliofanyika', 'katika', 'Mji', 'wa', 'Maralal', ',', 'Kaunti', 'ya', 'Samburu', ',', 'Waziri', 'Msaidizi', 'wa', 'Ugatuzi', ',', 'Bw', 'Abdul', 'Bahari', ',', 'alisema', 'kuwa', 'serikali', 'itatafuta', 'soko', 'la', 'mifugo', 'kutoka', 'kwa', 'Kenya', 'Meat', 'Commission', '(', 'KMC', ')', '.', 'Alisema', 'serikali', 'iko', 'tayari', 'kununua', 'mifugo', 'dhaifu', 'kutoka', 'vijijini', 'ili', 'kuwaokoa', 'wafugaji', 'kutokana', 'na', 'hasara', 'wanayopata', 'kufuatia', 'ukame', 'huo', '.', '“', 'Mpango', 'huo', 'unalenga', 'kuwaokoa', 'wafugaji', 'kutoka', 'maeneo', 'yaliyoathiriwa', 'na', 'ukame', '.', 'Tutanunua', 'mifugo', 'kutoka', 'vijiji', 'mbalimbali', 'na', 'kuwatafutia', 'soko', 'wafugaji', 'hao.', '”', 'Bw', 'Bahari', 'alisema', 'zoezi', 'hilo', 'linalenga', 'kuwachukua', 'mifugo', 'dhaifu', 'kwa', 'kununua', 'ng', '’', 'ombe', ',', 'mbuzi', 'na', 'kondoo', 'kutoka', 'kwa', 'wafugaji', 'watakaokubali', '.', 'Mifugo', 'itakayonunuliwa', 'itatumika', 'kama', 'chakula', 'na', 'kusambazwa', 'kwenye', 'maeneo', 'yaliyoathiriwa', 'zaidi', '.', 'Serikali', 'pia', 'inalenga', 'kusambaza', 'msaada', 'wa', 'chakula', 'na', 'lishe', 'ya', 'mifugo', 'katika', 'kaunti', '10', 'zilizoathiriwa', 'na', 'ukame.Alisema', 'tayari', 'magunia', '8,000', 'ya', 'lishe', 'ya', 'mifugo', 'yametumwa', 'katika', 'kaunti', 'hizo', '.', 'Kando', 'na', 'lishe', 'ya', 'mifugo', ',', 'wizara', 'hiyo', 'pia', 'inatoa', 'msaada', 'wa', 'pesa', 'na', 'chanjo', 'kwa', 'familia', 'zilizoathiriwa.Bw', 'Bahari', 'alisema', 'wanalenga', 'familia', 'zilizo', 'katika', 'mazingira', 'magumu', 'katika', 'kaunti', '10', 'zilizoathirika', 'zaidi', 'miongoni', 'zikiwa', 'za', 'Samburu', ',', 'Marsabit', ',', 'Isiolo', ',', 'Mandera', 'na', 'Turkana', '.', 'Kulingana', 'na', 'Mamlaka', 'ya', 'Kufuatilia', 'Hali', 'ya', 'Ukame', 'nchini', '(', 'NDMA', ')', ',', 'Kaunti', 'zaidi', 'ya', '10', 'kaskazini', 'mwa', 'Kenya', 'zinaendelea', 'kushuhudia', 'ukame', 'jambo', 'linalosababisha', 'ugumu', 'wa', 'kupata', 'chakula', ',', 'maji', 'na', 'malisho', 'ya', 'mifugo', '.', 'Mamlaka', 'hiyo', 'imesema', 'kuwa', 'uzalishaji', 'wa', 'maziwa', 'na', 'nyama', 'kutoka', 'kaunti', 'mbalimbali', 'za', 'wafugaji', 'umeshuka', 'kufuatia', 'kupungua', 'kwa', 'malisho', 'kkutokana', 'na', 'ukosefu', 'wa', 'mvua', '.', 'Asilimia', 'kubwa', 'ya', 'wakazi', 'wa', 'kaunti', 'kame', 'huendesha', 'ufugaji', 'na', 'kawaida', 'na', 'hutegemea', 'mifugo', 'kwa', 'mahitaji', 'yote', 'ya', 'kimsingi', '.', 'Wakazi', 'hawa', 'imebainika', 'huathiriwa', 'mno', 'na', 'vifo', 'vya', 'mifugo', 'kwa', 'sababu', 'ndio', 'tegemeo', 'lao', 'kujisaidia', 'kiuchumi.Baadhi', 'ya', 'wakazi', 'wa', 'maeneo', 'yaliyoathiriwa', 'wanashindwa', 'kujimudu', 'kimaisha', '.', 'Bei', 'ya', 'mifugo', 'imeshuka', 'huku', 'baadhi', 'ya', 'masoko', 'yakifungwa', 'kutokana', 'na', 'ukosefu', 'wa', 'wanunuzi', '.', 'Ni', 'muhimu', 'watu', 'wapate', 'chanjo', 'ya', 'corona', '–', 'Dkt', 'Kantaria', 'ashauri', 'MKURUGENZI', 'Mkuu', 'wa', 'Kampuni', 'ya', 'pembejeo', 'ya', 'Elgon', 'Kenya', ',', 'Dkt', 'Bimal', 'Kantaria', 'amehimiza', 'wananchi', 'kujitokeza', 'kupata', 'chanjo', 'ya', 'virusi', 'vya', 'Corona', '.', 'Dkt', 'Kantaria', 'amesema', 'chanjo', 'hiyo', 'ni', 'muhimu', ',', 'hasa', 'kutokana', 'na', 'manufaa', 'yake', 'kusaidia', 'kuzima', 'makali', 'ya', 'Covid-19', '.', 'Alisema', 'hayo', 'katika', 'hafla', 'ya', 'ukumbusho', 'wa', 'Mwenyekiti', 'wa', 'kampuni', 'hiyo', 'yenye', 'makao', 'yake', 'makuu', 'Mombasa', 'Road', ',', 'jijini', 'Nairobi', ',', 'Bw', 'Rajni', 'Kantaria', 'aliyeaga', 'dunia', 'Agosti', '31', ',', '2021', '.', 'Akihimiza', 'wananchi', 'kutilia', 'maanani', 'mikakati', 'na', 'kanuni', 'kuzuia', 'kuenea', 'kwa', 'Homa', 'ya', 'Corona', ',', 'Dkt', 'Kantaria', 'alisema', 'taifa', 'na', 'ulimwengu', 'utaweza', 'kukabili', 'janga', 'hili', 'la', 'kimataifa', 'endapo', 'watu', 'watashirikiana', '.', 'Sote', 'tulikuwa', 'tumeugua', 'na', 'kwa', 'sababu', 'ya', 'chanjo', 'tuliyopata', ',', 'tulikuwa', 'salama', ',', '”', 'Dkt', 'Kantaria', 'akafichua.Mzee', 'Rajni', 'ndiye', 'babake', 'Mkurugenzi', 'huyo', ',', 'na', 'anakumbukwa', 'kutokana', 'na', 'jitihada', 'na', 'mchango', 'wake', 'kusaidia', 'kuboresha', 'sekta', 'ya', 'kilimo', 'nchini', '.', 'Kutoka', 'kulia', ',', 'Mkurugenzi', 'Mkuu', 'wa', 'Kampuni', 'ya', 'pembejeo', 'ya', 'Elgon', 'Kenya', ',', 'Dkt', 'Bimal', 'Kantaria', ',', 'dadake', ',', 'Bi', 'Leena', 'Kantaria', 'na', 'nduguye', 'ambaye', 'pia', 'Mkurugenzi', 'Mkuu', 'mwenza', 'Bw', 'Baiju', 'Kantaria', 'wakati', 'wa', 'hafla', 'ya', 'ukumbusho', 'wa', 'Mwenyekiti', 'wa', 'kampuni', 'hiyo', 'Mzee', 'Rajni', 'Kantaria', 'aliyefariki', 'Agosti', '31', ',', '2021…PICHA/', 'SAMMY', 'WAWERU', '“', 'Nashauri', 'kila', 'mmoja', ',', 'na', 'pia', 'katika', 'kampuni', 'hii', ',', 'hususan', 'wazee', 'kuhakikisha', 'wamepata', 'chanjo', 'ya', 'corona', ',', '”', 'Dkt', 'Kantaria', 'akasema.Licha', 'ya', 'himizo', 'watu', 'wajitokeze', 'kwa', 'wingi', 'kupata', 'chanjo', ',', 'wanasiasa', 'wanaendelea', 'kuandaa', 'hafla', 'za', 'umma', 'wengi', 'wa', 'wanaohudhuria', 'wakionekana', 'kutojali', 'sheria', 'na', 'mikakati', 'iliyopendekezwa', 'kukinga', 'kuambukizwa', '.', '“', 'Ugonjwa', 'huu', 'upo', 'nasi', 'na', 'tutaishi', 'nao', 'kwa', 'sababu', 'tiba', 'haijapatikana', '.', 'Chanjo', 'ni', 'muhimu', 'sana', ',', '”', 'akasisitiza', 'Dkt', 'Kantaria', '.', 'Kauli', 'ya', 'Dkt', 'Kantaria', 'imejiri', 'wakati', 'ambapo', 'serikali', 'inaendelea', 'kutoa', 'chanjo', 'ya', 'corona', 'na', 'kutaka', 'wale', 'ambao', 'hawajajitokeza', 'kufanya', 'hima', '.', 'Wizara', 'ya', 'Afya', 'inalenga', 'watu', 'milioni', '10', 'kufikia', 'Desemba', '2021', '.', 'Baadhi', 'ya', 'wananchi', 'wanasusia', 'chanjo', ',', 'wakidai', 'si', 'salama', ',', 'tetesi', 'ambazo', 'serikali', 'kupitia', 'Wizara', 'ya', 'Afya', 'imetupilia', 'mbali', '.', 'Kenya', 'inasambaza', 'dozi', 'za', 'chanjo', 'ya', 'AstraZeneca', ',', 'Johnson', '&', 'Johnson', ',', 'Moderna', ',', 'Pfizer', 'na', 'Sinopharm', ',', 'ambazo', 'zimeidhinishwa', 'na', 'Shirika', 'la', 'Afya', 'Duniani', 'ndilo', 'WHO', '.']\n",
      "\n",
      " Number of Words:  1787\n"
     ]
    }
   ],
   "source": [
    "file=\"21oct2_1.txt\"\n",
    "\n",
    "# calling the function and storing the contents in a text variable \n",
    "text2 = get_document(\"https://taifaleo.nation.co.ke/kaunti-lawamani-kuhusu-ubomoaji/\")\n",
    "text3 = get_document(\"https://taifaleo.nation.co.ke/itumbi-alia-korti-kumzuia-kuhusisha-mlalamishi-na-uda/\")\n",
    "text4 = get_document(\"https://taifaleo.nation.co.ke/kiangazi-serikali-yaahidi-kununua-mifugo/\")\n",
    "text5 = get_document(\"https://taifaleo.nation.co.ke/ni-muhimu-watu-wapate-chanjo-ya-corona-dkt-kantaria-ashauri/\")\n",
    "\n",
    "# calling the store_ document function \n",
    "store_document(doc=text2,name=file)\n",
    "store_document(doc=text3,name=file)\n",
    "store_document(doc=text4,name=file)\n",
    "store_document(doc=text5,name=file)\n",
    "\n",
    "#add the words in this file to the total_corpus_words, to keep count of the number of words in the corpus\n",
    "total_corpus_words+=total_words(file)"
   ]
  },
  {
   "cell_type": "code",
   "execution_count": 17,
   "metadata": {},
   "outputs": [
    {
     "data": {
      "text/plain": [
       "756243"
      ]
     },
     "execution_count": 17,
     "metadata": {},
     "output_type": "execute_result"
    }
   ],
   "source": [
    "total_corpus_words"
   ]
  },
  {
   "cell_type": "code",
   "execution_count": 22,
   "metadata": {},
   "outputs": [
    {
     "name": "stdout",
     "output_type": "stream",
     "text": [
      "['Corona', ':', 'Serikali', 'yahimizwa', 'kufungua', 'uchumi', 'MWANACHAMA', 'mmoja', 'wa', 'kamati', 'maalum', 'inayoishauri', 'serikali', 'kuhusu', 'janga', 'la', 'Covid-19', 'ameitaka', 'kuondoa', 'masharti', 'ya', 'kuzuia', 'kuenea', 'kwa', 'virusi', 'vya', 'corona', 'vinavyosababisha', 'ugonjwa', 'huo', '.', 'Profesa', 'Omu', 'Anzala', ',', 'ambaye', 'ni', 'mtaalamu', 'wa', 'virusi', 'na', 'magonjwa', 'ya', 'kuambukiza', 'katika', 'Chuo', 'Kikuu', 'cha', 'Nairobi', ',', 'anasema', 'serikali', 'inafaa', 'kufungua', 'uchumi', 'huku', 'wananchi', 'wakihimiza', 'kuendelea', 'kuvalia', 'barakoa', 'na', 'kunawa', 'mikono', 'au', 'watu', 'kutumia', 'sanitaiza', '.', 'Kulingana', 'na', 'mtaalamu', 'huyo', ',', 'ingawa', 'ni', 'muhimu', 'kudhibiti', 'changamoto', 'hii', 'ya', 'kiafya', 'ni', 'muhimu', 'serikali', 'kuzingatia', 'athari', 'zake', 'kwa', 'uchumi', 'wa', 'nchi', '.', '“', 'Huu', 'ugonjwa', 'hautatokomezwa', 'kwa', 'haraka', '.', 'Virusi', 'vya', 'corona', 'vitaendelea', 'kuwa', 'nasi', 'navyo', 'katika', 'viruzi', 'vya', 'Influenza', '.', 'Lakini', 'maisha', 'sharti', 'yaendelee', '.', 'Huu', 'sio', 'ugonjwa', 'wa', 'kipekee', 'ambao', 'huua', 'watu', '.', 'Kufungwa', 'kwa', 'uchumi', 'pia', 'utaua', 'watu', 'wengi', 'wengi', ',', '”', 'Profesa', 'Anzala', 'akasema', 'akirejelea', 'ongezeko', 'la', 'umasikini', 'na', 'mahangaiko', 'miongoni', 'mwa', 'wananchi.Mtaalamu', 'huyo', 'anashauri', 'kwamba', 'serikali', 'inafaa', 'kuendeleza', 'kampeni', 'ya', 'utoaji', 'chanjo', 'kupitia', 'uhamasisho', 'wa', 'wanajamii', 'hadi', 'katika', 'ngazi', 'za', 'vijiji', '.', '“', 'Sharti', 'tuseme', 'ukweli', '.', 'Wakenya', 'wanajifungia', 'ndani', 'ya', 'mabaa', 'nyakati', 'za', 'usiku', ',', 'matatu', 'yanabeba', 'abiria', 'wengi', 'kupita', 'kiasi', ',', 'miongoni', 'mwa', 'shughuli', 'zingine', 'za', 'ukiukaji', 'wa', 'masharti', 'ya', 'kuzuia', 'kuenea', 'kwa', 'virusi', 'vya', 'corona', '.', 'Uchumi', 'ufunguliwe', 'na', 'kila', 'mwananchi', 'ajitwike', 'wajibu', 'wa', 'kujikinga', 'dhidi', 'ya', 'ugonjwa', 'huu', ',', '”', 'akasema', 'Profesa', 'Anzala', 'ambaye', 'ni', 'Mwanachama', 'wa', 'Kamati', 'ya', 'Kitaifa', 'ya', 'Kupanga', 'Mikakati', 'ya', 'Kupambana', 'na', 'Covid-19', '(', 'NERC', ')', '.', 'Haswa', 'anapendekeza', 'serikali', 'iondoe', 'amri', 'ya', 'kutotoka', 'nje', 'nyakati', 'za', 'usiku', ',', 'almaarufu', ',', 'kafyu', 'ili', 'wafanyabiashara', 'na', 'magari', 'ya', 'uchukuzi', 'yaruhusiwe', 'kuhudumu', 'saa', '24', 'Profesa', 'Anzala', 'alisema', 'kwa', 'kuna', 'kuna', 'chanjo', 'ya', 'kutosha', ',', 'serikali', 'inafaa', 'kulenga', 'kutoa', 'chanjo', 'kwa', 'angalau', 'watu', 'milioni', 'moja', 'kila', 'wiki', '“', 'ili', 'idadi', 'ya', 'waliopata', 'kinga', 'hii', 'iwe', 'juu', 'na', 'wananchi', 'waruhusiwe', 'kuendelea', 'na', 'shughuli', 'zao', 'kama', 'kawaida.', '”', 'Janga', 'la', 'Covid-19', 'imezidisha', 'ugumu', 'wa', 'maisha', 'miongoni', 'mwa', 'Wakenya', 'haswa', 'wakati', 'huu', 'ambapo', 'gharama', 'ya', 'maisha', 'imepanda', 'kufuatia', 'ongezeko', 'la', 'bei', 'ya', 'mafuta', 'na', 'vyakula', '.', 'Mwenyekiti', 'wa', 'Jopo', 'kazi', 'kuhusu', 'Utoaji', 'Chanjo', 'ya', 'Covid-19', 'nchini', 'Willis', 'Akhwale', 'alisema', 'serikali', 'itakuwa', 'na', 'uhakika', 'wa', 'kufungua', 'uchumi', 'ikiwa', 'kufikia', 'Oktoba', '20', ',', 'idadi', 'ya', 'watu', 'ambao', 'wamepewa', 'chanjo', 'itafikia', '5', '.', '8', 'milioni', '.', '“', 'Idadi', 'ya', 'waliochanjwa', 'itachangia', 'Rais', 'kuamua', 'ikiwa', 'anafaa', 'kufungua', 'uchumi', 'au', 'la', '.', 'Ikiwa', 'idadi', 'kubwa', 'ya', 'watu', 'wetu', 'watakuwa', 'wamepewa', 'chanjo', ',', 'hivyo', 'tutashawishiwika', 'kuwa', 'ni', 'salama', 'kwetu', 'kufungua', 'uchumi', ',', '”', 'Dkt', 'Akhwale', 'akasema', '.', 'Alisema', 'kufikia', 'Ijumaa', 'wiki', 'jana', 'Kenya', 'ilikuwa', 'imepokea', 'zaidi', 'ya', 'dozi', '6.5', 'milioni', 'za', 'aina', 'mbalimbali', 'za', 'chanjo', 'na', 'hivyo', 'ipo', 'haja', 'kwa', 'Wakenya', 'kujitokeza', 'kwa', 'wingi', 'kupewa', 'kinga', 'hiyo', '.', 'Aliongeza', 'kuwa', 'wakati', 'huu', 'ambapo', 'idadi', 'ya', 'maambukiz', 'mapya', 'ya', 'corona', 'yamepungua', 'ndio', 'wakati', 'mwafaka', 'kwa', 'watu', 'kujitokeza', 'kupewa', 'chanjo', '.', '“', 'Wakenya', 'ni', 'watu', 'wa', 'kiajabu', ',', 'idadi', 'ya', 'maambukizi', 'ikiwa', 'chini', ',', 'wanahisi', 'kuwa', 'virusi', 'vya', 'corona', 'vimetokomea', '.', 'Lakini', 'ukweli', 'ni', 'kwamba', 'virusi', 'hivi', 'vingali', 'katika', 'jamii', 'na', 'vinaendelea', 'kutuchezea', ',', '”', 'akaongeza', 'Dkt', 'Akhwale', '.', 'Kwa', 'upande', 'wake', ',', 'Waziri', 'wa', 'Afya', 'Mutahi', 'Kagwe', 'alisema', 'serikali', 'ina', 'nia', 'ya', 'kufungua', 'uchumi', 'lakini', 'uamuzi', 'huo', 'utatolewa', 'kwa', 'misingi', 'ya', 'sayansa', 'na', 'data', 'pamoja', 'na', 'mienendo', 'ya', 'Wakenya', '.', '“', 'Serikali', 'inaweza', 'tu', 'kufungua', 'uchumi', 'ikiwa', 'kiwango', 'cha', 'maambukizi', 'kitasalia', 'chini', 'ya', 'asilimia', '5', 'kwa', 'kipindi', 'cha', 'siku', '14', '.', 'Wakati', 'hali', 'ni', 'hivyo', 'lakini', 'mienendo', 'ya', 'wananchi', 'ambayo', 'inachangia', 'kuongezeka', 'kwa', 'idadi', 'ya', 'maambukizi', ',', '”', 'akasema', 'juzi', 'akiwa', 'Kiambu', '.', 'Wakati', 'huo', 'kiwango', 'cha', 'maambukizi', 'mapya', 'ya', 'corona', 'imeshuka', 'hadi', 'asilimia', '2.2', '.', 'Hii', 'ina', 'manaa', 'kuwa', 'idadi', 'ya', 'watu', 'wapya', 'wanaoambukizwa', 'virusi', 'hivyo', 'imepungua', 'kutoa', 'kiwango', 'wastani', 'cha', '1,000', 'hadi', '300', 'kwa', 'kote', 'nchini', 'kwa', 'kipindi', 'cha', 'saa', '24', '.', 'Waziri', 'Kagwe', 'pia', 'alilalamikia', 'idadi', 'ya', 'chini', 'ya', 'watu', 'wanaojitokezwa', 'kupewa', 'chanjo', 'na', 'ndipo', 'akatoa', 'wito', 'kwa', 'serikali', 'za', 'kaunti', 'kuanzia', 'vituo', 'vya', 'kuhamahama', 'vya', 'kutoa', 'chanjo', '.', '“', 'Serikali', 'za', 'kaunti', 'zinafaa', 'kuanzisha', 'kampeni', 'ya', 'utoaji', 'chanjo', 'ya', 'nyumba', 'hadi', 'nyumba', 'haswa', 'inayolenga', 'wakongwe', 'na', 'watu', 'wanaoishi', 'na', 'aina', 'mbalimbali', 'za', 'ulemavu', '.', 'Bw', 'Kagwe', 'alisema', 'kufikia', 'Ijumaa', 'jumla', 'ya', 'watu', '3.9', 'walikuwa', 'wamepewa', 'chanjo', ',', 'huku', '2.8', 'wakiwa', 'ni', 'wale', 'waliopewa', 'chanjo', 'ya', 'kwanza', 'huku', 'watu', '1.1', 'milioni', 'wakiwa', 'wamepata', 'dozi', 'mbili', 'za', 'chanjo', '.', 'Zambia', 'ndio', 'taifa', 'la', 'kwanza', 'barani', 'Afrika', 'kufungua', 'uchumi', 'wake', 'kwa', 'kuondoa', 'masharti', 'ya', 'kuzuia', 'kuenea', 'kwa', 'corona', '.', 'Kulingana', 'na', 'wizara', 'ya', 'afya', 'nchini', 'humo', ',', 'hatua', 'hii', 'ilichukuliwa', 'kufuatia', 'kupungua', 'kwa', 'viwango', 'vya', 'maambukizi', 'ya', 'ugonjwa', 'huu', '.', 'Bw', 'Kaparo', 'ambaye', 'hapo', 'awali', 'alikuwa', 'Mwenyekiti', 'wa', 'Kamati', 'ya', 'Uwiano', 'na', 'Utangamano', '(', 'NCIC', ')', ',', 'pia', 'aliwahi', 'kuhudumu', 'kama', 'mbunge', 'wa', 'eneo', 'hilo', '.', '“', 'Bw', 'Kaparo', 'alikuwa', 'Mmaasai', 'wa', 'kwanza', 'kufuzu', 'na', 'shahada', 'ya', 'sheria', 'kutoka', 'eneo', 'hili', ',', 'alihudumu', 'kama', 'mbunge', 'hapa', ',', 'akawa', 'spika', 'wa', 'Bunge', 'la', 'Kitaifa', 'kwa', 'mihula', 'mitatu', 'na', 'pia', 'akahudumu', 'kama', 'mwenyekiti', 'wa', 'NCIC', '.', 'Tumemteua', 'kutokana', 'na', 'tajriba', 'yake', 'ya', 'uongozi', ',', '”', 'akasema', 'Mzee', 'aliyetambuliwa', 'kwa', 'jina', 'Kinyaga', '.', 'Wazee', 'hao', 'pia', 'walimwonya', 'Seneta', 'wa', 'Narok', 'Ledama', 'Ole', 'Kina', 'dhidi', 'ya', 'kuzungumzia', 'masuala', 'yanayohusu', 'kaunti', 'hiyo', 'na', 'badala', 'yake', 'amakinikie', 'siasa', 'za', 'kaunti', 'yake', 'ya', 'Narok', '.', 'Pia', 'walimwonya', 'aliyekuwa', 'mbunge', 'wa', 'Laikipia', 'Kaskazini', 'Mathew', 'Lempurkel', 'akome', 'kuzungumza', 'kwa', 'niaba', 'ya', 'jamii', 'hiyo', 'kwa', 'kuwa', 'Bw', 'Kaparo', 'sasa', 'yupo', 'kwenye', 'usukani', '.', 'Mbunge', 'wa', 'eneo', 'hilo', 'Sarah', 'Lekorere', 'alisema', 'kwamba', 'Mabw', 'Ole', 'Kina', 'na', 'Lempurkel', 'ni', 'kati', 'ya', 'wanasiasa', 'ambao', 'wamechangia', 'utovu', 'wa', 'usalama', 'katika', 'eneo', 'la', 'Laikipia', 'kutokana', 'na', 'matamshi', 'aliyodai', 'ni', 'ya', 'uchochezi', '.', 'Bi', 'Lekorere', 'alisisitizia', 'kwamba', 'jamii', 'ya', 'Wamaasai', 'inafaa', 'kutupilia', 'mbali', 'mila', 'ya', 'ukeketaji', 'wa', 'mabinti', 'na', 'wizi', 'wa', 'mifugo', 'kwani', 'zimepitwa', 'na', 'wakati', 'mbali', 'na', 'kwamba', 'zinarudisha', 'eneo', 'hilo', 'nyuma', 'kimaendeleo', '.', 'Akizungumza', 'wakati', 'wa', 'mchango', 'wa', 'Harambee', 'katika', 'kanisa', 'la', 'Anglikana', 'la', 'Good', 'Samaritan', 'Difathas', ',', 'Kaunti', 'ya', 'Kirinyaga', ',', 'Bw', 'Oguna', 'alisema', 'tayari', 'serikali', 'imetumia', 'fedha', 'kuwanunulia', 'baadhi', 'ya', 'Wakenya', 'vyakula', 'huku', 'akikiri', 'kuwa', 'ukame', 'huo', 'unatisha', 'na', 'lazima', 'mikakati', 'faafu', 'iwekwe', 'kuyaokoa', 'maisha', 'ya', 'watu', '.', 'Kanali', 'Oguna', 'alisema', 'ni', 'kaunti', '20', 'ambazo', 'zinakabiliwa', 'na', 'njaa', 'huku', 'nusu', 'ya', 'idadi', 'hiyo', 'ikiwa', 'zile', 'ambazo', 'zimeathirika', 'sana', 'na', 'zinahitaji', 'msaada', 'wa', 'kidharura', '.', 'Msemaji', 'huyo', 'alikariri', 'kuwa', 'serikali', 'inamakinika', 'kuhakikisha', 'kuwa', 'wale', 'ambao', 'wanakabiliwa', 'na', 'njaa', 'hawapotezi', 'maisha', 'yao', 'na', 'wanafikiwa', 'na', 'misaada', 'ya', 'vyakula', ',', 'maji', 'na', 'mahitaji', 'mengine', 'ya', 'kimsingi', '.', '“', 'Kumekuwa', 'na', 'misimu', 'miwili', 'ambapo', 'mvua', 'haijanyesha', 'ndio', 'maana', 'kuna', 'ukame', '.', 'Wakenya', 'wengi', 'hawakuvuna', 'chochote', 'na', 'sasa', 'hawawezi', 'kujilisha', 'huku', 'mifugo', 'pia', 'wakiathirika', ',', '”', 'akasema', '.', 'Tayari', 'baadhi', 'ya', 'mifugo', 'ikiwemo', 'ngamia', ',', 'ng', '’', 'ombe', 'na', 'mbuzi', 'wamekufa', 'baada', 'ya', 'kulemewa', 'na', 'makali', 'ya', 'njaa', 'huku', 'wafugaji', 'wakiitisha', 'msaada', 'kutoka', 'kwa', 'serikali', 'kununua', 'mifugo', 'yao', '.', 'Kanali', 'Oguna', 'alikuwa', 'ameandamana', 'na', 'Gavana', 'wa', 'Laikipia', 'Nderitu', 'Muriithi', 'pamoja', 'na', 'aliyekuwa', 'msaidizi', 'wa', 'kibinafsi', 'wa', 'Rais', 'Mstaafu', 'Mwai', 'Kibaki', ',', 'Bw', 'Ngari', 'Gituku', '.', 'Pia', 'alitaka', 'Wakenya', 'wadumishe', 'amani', 'na', 'kuwaonya', 'wanasiasa', 'dhidi', 'ya', 'kueneza', 'chuki', 'kuelekea', 'uchaguzi', 'mkuu', 'wa', '2022', '.', 'Kauli', 'ya', 'Kanali', 'Oguna', 'kuhusu', 'njaa', 'inajiri', 'wakati', 'ambapo', 'janga', 'la', 'kitaifa', 'linanukia', 'Kaskazini', 'mwa', 'Kenya', 'ambapo', 'maelfu', 'ya', 'familia', 'wanakodolewa', 'macho', 'na', 'mauti', 'kutokana', 'na', 'ukosefu', 'wa', 'chakula', ',', 'watoto', 'pia', 'wakiathirika', 'na', 'utapiamlo', '.', 'Ripoti', 'iliyotolewa', 'na', 'Wizara', 'ya', 'Afya', 'kupita', 'kamati', 'inayoshughulikia', 'utoshelevu', 'wa', 'chakula', 'nchini', ',', 'ilionya', 'kuwa', 'kuna', 'hatari', 'ya', 'kutokea', 'kwa', 'janga', 'la', 'kitaifa', 'iwapo', 'familia', 'kwenye', 'kaunti', 'za', 'Samburu', ',', 'Marsabit', ',', 'Isiolo', ',', 'Garissa', ',', 'Mandera', 'na', 'Wajir', 'hazitafikiwa', 'na', 'kupewa', 'vyakula', '.', 'Hasa', 'ripoti', 'hiyo', 'inasisitiza', 'kuwa', 'watoto', '8,000', 'na', 'akina', 'mama', '5,365', 'katika', 'Kaunti', 'ya', 'Turkana', 'wanakabiliwa', 'na', 'utapiamlo', 'huku', 'hatua', 'za', 'dharura', 'zikihitajika', 'kuwapa', 'vyakula', 'venye', 'madini', 'ya', 'vitamin', 'A', ',', 'dawa', 'ya', 'minyoo', 'na', 'maziwa', 'kwa', 'watoto', 'wadogo', '.', 'Mbunge', 'wa', 'Turkana', 'Kaskazini', 'Christopher', 'Nakuleau', 'naye', 'ameiomba', 'serikali', 'iharakishe', 'kugawa', 'vyakula', 'kwenye', 'maeneo', 'hayo', 'ili', 'kuzuia', 'vifo', 'ambavyo', 'vinanukia', '.', '“', 'Hali', 'huenda', 'ikawa', 'baya', 'zaidi', 'iwapo', 'ukame', 'utaendelea', 'kushuhudiwa', '.', 'Wakazi', 'wanategemea', 'sana', 'maziwa', 'na', 'nyama', 'kutoka', 'kwa', 'mifugo', 'yao', 'ambao', 'sasa', 'pia', 'wamedhofika', 'kutokana', 'na', 'ukosefu', 'wa', 'lishe', ',', '”', 'akasema', 'Bw', 'Nakuleau', '.', 'Serikali', 'nayo', 'imetenga', 'Sh1.5', 'bilioni', 'kugharimia', 'vyakula', 'kwa', 'familia', 'zinazokabiliwa', 'na', 'njaa', '.', 'Kinaya', 'ni', 'kwamba', 'wakulima', 'wa', 'mahindi', 'Kaskazini', 'mwa', 'Bonde', 'la', 'Ufa', 'nao', 'wanalalamika', 'kuwa', 'wana', 'mahindi', 'mengi', 'ila', 'hakuna', 'soko', 'kutokana', 'na', 'uagizaji', 'wa', 'mazao', 'hayo', 'mengi', 'kutoka', 'nje', 'ya', 'nchi', '.', '‘', 'Sherehe', '’', 'kwa', 'walevi', 'baa', '1,800', 'zikitakiwa', 'kuuza', 'pombe', 'yao', 'yote', 'leo', 'WAMILIKI', 'wa', 'zaidi', 'ya', 'baa', '1,800', 'katika', 'Kaunti', 'ya', 'Nyandarua', 'ambao', 'leseni', 'zao', 'za', 'kibiashara', 'hazikuongezewa', 'muda', ',', 'wametakiwa', 'kuuza', 'pombe', 'yao', 'ya', 'Sh100', 'milioni', 'kufikia', 'leo', 'jioni', 'kabla', 'ya', 'biashara', 'zao', 'kufungwa', 'kesho', 'Jumanne', '.', 'Baada', 'ya', 'ukaguzi', ',', 'Kamati', 'ya', 'Kudhibiti', 'Mauzo', 'ya', 'Vileo', 'kwenye', 'Kaunti', 'ya', 'Nyandarua', 'ilitoa', 'upya', 'leseni', 'kwa', 'baa', '600', 'pekee', 'kati', 'ya', '900', 'ambayo', 'wamiliki', 'wao', 'walituma', 'maombi', 'ili', 'kuendelea', 'kufanya', 'biashara', 'hiyo', '.', 'Kaunti', 'hiyo', 'ina', 'baa', '2,400', 'ila', 'nyingi', 'zimekuwa', 'zikiendeleza', 'biashara', 'hiyo', 'kiharamu', 'bila', 'kufuata', 'sheria', '.', 'Wamiliki', 'wa', 'baa', 'hizo', 'pia', 'walikataa', 'kutuma', 'maombi', 'ya', 'leseni', 'mpya', 'wakilalamikia', 'masharti', 'makali', 'yaliyowekwa', 'na', 'kamati', 'ya', 'kaunti', '.', 'MARAIS', 'kadhaa', 'na', 'wakuu', 'wa', 'serikali', 'duniani', 'wametajwa', 'katika', 'ufichuzi', 'wa', 'hivi', 'majuzi', 'wa', 'upelelezi', 'wa', 'jinsi', 'mali', 'ya', 'mabilioni', 'ya', 'hela', 'imefichwa', 'katika', 'visiwa', 'vya', 'ughaibuni', 'ili', 'kukwepa', 'kulipa', 'ushuru', '.', 'Ufichuzi', 'huo', ',', 'Pandora', 'Papers', ',', 'umeibua', 'hisia', 'kali', 'duniani', 'huku', 'marais', 'wa', 'sasa', 'na', 'wa', 'zamani', 'wa', 'mataifa', 'ya', 'Jordan', ',', 'Uingereza', ',', 'Urusi', ',', 'Czech', ',', 'Kenya', ',', 'Azerbaijan', ',', 'Pakistan', ',', 'Cyprus', ',', 'Ukraine', 'na', 'Ecuador', 'wakitajwa', 'kunyima', 'serikali', 'zao', 'mamilioni', 'ya', 'pesa', 'za', 'ushuru', '.', 'Ufichuzi', 'wa', 'Pandora', 'ulihusu', 'uchunguzi', 'uliofanywa', 'na', 'zaidi', 'ya', 'wanahabari', '600', 'kutoka', 'vyombo', 'vya', 'habari', '140', 'katika', 'mataifa', '117', 'ambao', 'ni', 'wananchama', 'wa', 'Muungano', 'wa', 'Kimataifa', 'wa', 'Wanahabari', 'Wapelelezi', '(', 'ICIJ', ')', ',', 'ambapo', 'karatasi', 'milioni', '11.9', 'za', 'siri', 'za', 'kifedha', 'kutoka', 'kampuni', 'za', 'huduma', 'za', 'kifedha', '14', 'zilichanganuliwa', 'kote', 'duniani', '.', 'Mashirika', 'ya', 'habari', 'ya', 'BBC', ',', 'Washington', 'Post', ',', 'New', 'York', 'Times', ',', 'AFP', 'na', 'The', 'Guardian', 'ambayo', 'ni', 'wanachama', 'wa', 'ICIJ', 'yamefichua', 'kuwa', 'Mfalme', 'Abdullah', 'II', 'wa', 'Jordan', 'anamiliki', 'mali', 'ya', 'thamani', 'ya', 'zaidi', 'ya', 'Sh10', 'bilioni', 'katika', 'British', 'Virgin', 'Islands', '.', 'Tangu', 'aingie', 'uongozini', 'mwaka', 'wa', '1999', ',', 'kiongozi', 'huyo', 'amejizolea', 'mtandao', 'wa', 'nyumba', 'za', 'kifahari', '15', 'nchini', 'Amerika', 'na', 'Uingereza', 'huku', 'mawakili', 'wake', 'wakisema', 'Jordan', 'inaruhusu', 'mabwanyenye', 'kununua', 'mali', 'ughaibuni', 'kisiri', '.', 'Ripoti', 'ya', 'uchunguzi', 'huo', 'inafichua', 'kuwa', 'Rais', 'wa', 'Urusi', 'Vladimir', 'Putin', 'ameficha', 'mali', 'ya', 'thamani', 'katika', 'kisiwa', 'cha', 'Monaco', 'huku', 'naye', 'Waziri', 'Mkuu', 'wa', 'Czech', 'Andrej', 'Babis', ',', 'ambaye', 'anawania', 'kuchaguliwa', 'tena', 'wiki', 'hii', ',', 'akidinda', 'kuonyesha', 'kampuni', 'iliyonunua', 'nyumba', 'mbili', 'za', 'kifahari', 'za', 'Sh1.3', 'bilioni', 'kusini', 'mwa', 'Ufaransa', 'na', 'mali', 'nyingine', 'ya', 'Sh4', 'bilioni', 'Uingereza', '.', 'Washiriki', 'wakaribu', 'wa', 'Waziri', 'Mkuu', 'wa', 'Pakistan', 'wakimewa', 'mawaziri', 'na', 'familia', 'zao', 'wametajwa', 'kumiliki', 'mali', 'fiche', 'ka', 'kampuni', 'za', 'mabilioni', 'ya', 'fedha', '.', 'Nayo', 'kampuni', 'ya', 'uansheria', 'ya', 'Rais', 'Nicos', 'Anastasiades', 'wa', 'Cyprus', 'iliwasilisha', 'wamiliki', 'bandia', 'ili', 'kuficha', 'mmiliki', 'halisi', 'wa', 'mtandao', 'wa', 'kampuni', 'kadhaa', 'katika', 'visiwa', 'vya', 'ughaibuni', ',', 'lakini', 'kampuni', 'hiyo', 'imekana', 'kuhusika', ',', 'ripoti', 'hiyo', 'imesema', '.', 'Imeibuka', 'pia', 'kuwa', 'Rais', 'wa', 'Ecuador', 'Guillermo', 'Lasso', 'ambaye', 'alifanya', 'kazi', 'kwa', 'benki', 'kwa', 'miaka', 'mingi', ',', 'alibatilisha', 'wakfu', 'wa', 'Panama', 'uliotuma', 'hela', 'kila', 'mwezi', 'kwa', 'familia', 'yake', 'na', 'kampuni', 'iliyoko', 'South', 'Dakota', ',', 'Amerika', '.', 'Aliyekuwa', 'Waziri', 'Mkuu', 'wa', 'Uingereza', 'Tony', 'Blair', 'na', 'mkewe', 'waliokoa', 'Sh46', 'milioni', 'za', 'ushuru', 'waliponunua', 'ofisi', 'moja', 'jijini', 'London', 'huku', 'wakinunu', 'kampuni', 'ya', 'ughaibuni', 'iliyomiliki', 'jumba', 'lenye', 'ofisi', 'hiyo', '.', 'Cha', 'kushangaza', 'ni', 'jinsi', 'familia', 'ya', 'Rais', 'Ilham', 'Aliyev', 'wa', 'Azerbaijan', 'ilinunua', 'nyumba', '17', 'za', 'kifahari', ',', 'ikiwemo', 'moja', 'ya', 'thamani', 'ya', 'Sh3.4', 'bilioni', 'jijini', 'London', 'iliyopewa', 'mwanawe', 'rais', 'huyo', 'ambaye', 'ana', 'miaka', '11', ',', 'Heydar', 'Aliyev', '.', 'Akihojiwa', 'na', 'BBC', ',', 'Bw', 'Fergus', 'Shiel', 'kutoka', 'ICIJ', 'alisema', 'kuwa', 'hakujawahi', 'kutokea', 'ufichuzi', 'mkubwa', 'kuliko', 'wa', 'sasa', 'na', 'inaonyesha', 'jinsi', 'kampuni', 'za', 'ughaibuni', 'zinaweza', 'kusaidia', 'watu', 'kuficha', 'hela', 'walizopata', 'kwa', 'mbinu', 'isiyostahili', 'au', 'kukwepa', 'kulipa', 'ushuru', '.', '“', 'Wanatumia', 'akaunti', 'hizi', 'za', 'visiwani', 'na', 'kampuni', 'kununua', 'mali', 'ya', 'thamani', 'ya', 'mabilioni', 'ya', 'pesa', 'katika', 'mataifa', 'mengine', ',', 'na', 'pia', 'kutajirisha', 'familia', 'zo', 'wenye', ',', 'huku', 'wananchi', 'wakiendelea', 'kuumia', ',', '”', 'alisema', '.', 'Kulingana', 'na', 'Maira', 'Martini', ',', 'mwansera', 'katika', 'Transparency', 'International', ',', 'ufichuzi', 'huo', 'umeonyesha', 'jinsi', 'kampuni', 'za', 'visiwani', 'zinachochea', 'kuenea', 'kwa', 'ufisadi', 'na', 'wizi', 'wa', 'pesa', 'huku', 'vikizuia', 'wananchi', 'kutendewa', 'haki', '.', '“', 'Mfumo', 'huu', 'wa', 'biashara', 'haufai', 'kuruhusiwa', 'kuendelea', ',', '”', 'aliambia', 'AFP', '.', 'Pandora', 'Papers', 'ndiyo', 'ripoti', 'ya', 'hivi', 'majuzi', 'katika', 'msururu', 'wa', 'upelelezi', 'unaoongozwa', 'na', 'ICIJ', 'ambapo', 'stakabadhi', 'za', 'siri', 'za', 'kifedha', 'hufichuliwa', 'kwa', 'umma', 'kuanzia', 'LuxLeaks', 'hapo', '2014', ',', 'Panama', 'Papers', 'ya', '2016', ',', 'Paradise', 'Papers', 'ya', '2017', 'nq', 'FinCen', 'files', 'ya', '2020', '.', 'Njama', 'ya', 'Uhuru', 'kubomoa', 'Ruto', 'yafichuka', 'MIKAKATI', 'ya', 'Rais', 'Uhuru', 'Kenyatta', 'ya', 'kubomoa', 'umaarufu', 'ambao', 'Naibu', 'Wake', 'William', 'Ruto', 'amejenga', 'eneo', 'la', 'Mlima', 'Kenya', 'imeanza', 'kubainika', 'na', 'kuzaa', 'matunda', '.', 'Wadadisi', 'wanasema', 'kwamba', 'japo', 'Dkt', 'Ruto', 'alionekana', 'kuteka', 'eneo', 'la', 'Mlima', 'Kenya', 'kupitia', 'kampeni', 'yake', 'ya', 'hasla', 'ambayo', 'amekuwa', 'akiendeleza', 'kwa', 'miaka', 'minne', 'iliyopita', ',', 'Rais', 'Uhuru', 'Kenyatta', 'ameanza', 'kukunjua', 'kucha', 'zake', 'katika', 'juhudi', 'za', 'kumzima', '.', 'Wawili', 'hao', 'walitofautiana', 'Rais', 'Kenyatta', 'aliposalimiana', 'na', 'kiongozi', 'wa', 'ODM', 'Raila', 'Odinga', 'na', 'mchakato', 'wa', 'kubadilisha', 'katiba', 'ambao', 'walianzisha', '.', 'Washirika', 'wa', 'Rais', 'Kenyatta', 'wamekuwa', 'wakimlaumu', 'Dkt', 'Ruto', 'kwa', 'kumdharau', 'kiongozi', 'wa', 'nchi', 'na', 'kumsawiri', 'kama', 'aliyeshindwa', 'kusaidia', 'ngome', 'yake', 'ya', 'kisiasa', 'tangu', 'handisheki', 'yake', 'na', 'Bw', 'Odinga', '.', 'Kupitia', 'kampeni', 'yake', ',', 'Dkt', 'Ruto', 'alionekana', 'kugawanya', 'eneo', 'la', 'Mlima', 'Kenya', 'huku', 'akimlaumu', 'Rais', 'Kenyatta', 'kwa', 'kutekeleza', 'ajenda', 'za', 'serikali', 'ya', 'Jubilee', 'kwa', 'kuzingatia', 'mageuzi', 'ya', 'katiba', 'ili', 'kumsaidia', 'Bw', 'Odinga', 'kushinda', 'uchaguzi', 'wa', 'urais', 'wa', 'mwaka', 'ujao', '.', 'Wadadisi', 'wa', 'siasa', 'wanasema', 'kwamba', 'wakati', 'Dkt', 'Ruto', 'alikuwa', 'akichafua', 'ngome', 'yake', 'ya', 'Mlima', 'Kenya', 'akijisawiri', 'kama', 'anayefaa', 'kumrithi', ',', 'Rais', 'Kenyatta', 'alikuwa', 'akisuka', 'mikakati', 'ya', 'kuzima', 'umaarufu', 'wake', 'sio', 'tu', 'eneo', 'la', 'Mlima', 'Kenya', 'bali', 'kote', 'nchini', '.', '“', 'Bila', 'kujitokeza', 'hadharani', 'kuzuru', 'eneo', 'la', 'Mlima', 'Kenya', ',', 'Rais', 'Kenyatta', 'alihakikisha', 'kuwa', 'ametekeleza', 'miradi', 'yake', 'na', 'kuanza', 'kampeni', 'chini', 'ya', 'maji', 'ya', 'kutetea', 'utenda', 'kazi', 'wake', '.', 'Miradi', 'mingi', 'imekamilika', 'na', 'anatumia', 'inayoendelea', 'kumbomoa', 'Dkt', 'Ruto', 'kwa', 'kuambia', 'wakazi', 'wa', 'Mlima', 'Kenya', 'kupitia', 'washirika', 'wake', 'kwamba', 'akimrithi', 'hataikamilisha', 'au', 'kulinda', 'maslahi', 'yao', ',', '”', 'asema', 'mdadisi', 'wa', 'siasa', 'Ibrahim', 'Kamau', '.', 'DHARAU', 'Bw', 'Kamau', 'anasema', 'katika', 'kampeni', 'yake', 'ya', 'chini', 'ya', 'maji', ',', 'Rais', 'Kenyatta', 'anamsawiri', 'Dkt', 'Ruto', 'kama', 'mtu', 'mwenye', 'dharau', 'anayepuuza', 'viongozi', 'mashuhuri', 'wa', 'jamii', 'na', 'kuchochea', 'wakazi', 'dhidi', 'yao', '.', 'Dkt', 'Ruto', 'amekuwa', 'akidai', 'kwamba', 'anachojali', 'ni', 'kuinua', 'maisha', 'ya', 'wakazi', 'na', 'sio', 'kuzungumza', 'na', 'viongozi', 'kuhusu', 'nyadhifa', 'serikalini', '.', '“', 'Katika', 'mbinu', 'zake', ',', 'Rais', 'Kenyatta', 'na', 'washirika', 'wake', 'wanaeleza', 'wakazi', 'kuwa', 'Dkt', 'Ruto', 'ni', 'mwongo', 'kwa', 'vile', 'hawezi', 'kuwasaidia', 'bila', 'kuwa', 'na', 'viongozi', 'wa', 'kushikilia', 'nyadhifa', 'za', 'juu', 'serikalini', 'kutoka', 'eneo', 'la', 'Mlima', 'Kenya', '.', 'Hii', 'imeanza', 'na', 'kauli', 'za', 'Rais', 'kuwa', 'naibu', 'wake', 'alimhujumu', 'katika', 'kipindi', 'chake', 'cha', 'kwanza', 'uongozini', 'hadi', 'aliposalimiana', 'na', 'Bw', 'Odinga', 'nchi', 'ikatulia', 'na', 'akaweza', 'kufanikisha', 'mengi', ',', '”', 'aeleza', 'Karanja', '.', 'Wadadisi', 'wanasema', 'alichofanya', 'Rais', 'ni', 'kumuacha', 'Dkt', 'Ruto', 'kujipiga', 'kifua', 'kwanza', 'kabla', 'ya', 'kuanza', 'kuchomoa', 'silaha', 'zake', 'zinazoonekana', 'kufaulu', '.', 'Kulingana', 'na', 'mchanganuzi', 'wa', 'siasa', 'Geff', 'Kamwanah', ',', 'mikakati', 'ya', 'Rais', 'ya', 'kumwangamiza', 'Dkt', 'Ruto', 'ilianza', 'kubainika', 'mwaka', 'mmoja', 'kabla', 'ya', 'uchaguzi', 'alipokutanisha', 'viongozi', 'wa', 'upinzani', 'kuwarai', 'wamuunge', 'Bw', 'Odinga', '.', '“', 'Kwa', 'muda', 'wote', 'tangu', '2018', ',', 'Rais', 'Kenyatta', 'amekuwa', 'akisuka', 'mipango', 'ya', 'urithi', 'wake', 'kwa', 'msingi', 'mmoja', 'tu', 'wa', 'kuacha', 'nchi', 'ikiwa', 'imeungana', '.', 'Hata', 'hivyo', ',', 'kuasi', 'kwa', 'Dkt', 'Ruto', 'hasa', 'kwa', 'kupinga', 'mchakato', 'wa', 'mageuzi', 'ya', 'katiba', 'kulimfungua', 'macho', 'zaidi', 'na', 'ndio', 'sababu', 'anampiga', 'vita', 'kwa', 'kudai', 'anagawanya', 'Wakenya', ',', '”', 'asema', '.', 'Rais', 'Kenyatta', 'na', 'washirika', 'wake', 'wa', 'kisiasa', 'wamenukuliwa', 'mara', 'kadhaa', 'akisema', 'kuwa', 'hataachia', 'nchi', 'mtu', 'asiyeweza', 'kuunganisha', 'Wakenya', '.', 'Kulingana', 'na', 'Bw', 'Kamwanah', ',', 'mikakati', 'mingine', 'ambayo', 'Rais', 'Kenyatta', 'amekuwa', 'akisuka', 'ni', 'kupitia', 'mabwenyenye', ',', 'wazee', 'na', 'watu', 'mashuhuri', 'kutoka', 'eneo', 'la', 'Mlima', 'Kenya', 'ambao', 'wana', 'ushawishi', 'mkubwa', 'mashinani', '.', 'Mnamo', 'Jumanne', 'wiki', 'hii', ',', 'mabwenyenye', 'hao', 'waliokutana', 'na', 'Bw', 'Odinga', 'katika', 'hoteli', 'ya', 'Safari', 'Park', ',', 'Nairobi', 'walifichua', 'kuwa', 'wamekuwa', 'wakizungumza', 'na', 'Rais', 'Kenyatta', 'kuhusu', 'siasa', 'za', 'urithi', 'wake', '.', 'Naibu', 'mwenyekiti', 'wa', 'wakfu', 'wa', 'Mlima', 'Kenya', ',', 'Bw', 'Titus', 'Ibui', 'alisema', 'kuwa', 'Rais', 'Kenyatta', 'aliwataka', 'wamshauri', 'kuhusu', 'siasa', 'za', 'urithi', 'na', 'wakaweka', 'wazi', 'kuwa', 'wangetaka', 'mtu', 'atakayejali', 'na', 'kulinda', 'maslahi', 'ya', 'eneo', 'lao', ',', 'kukamilisha', 'miradi', 'ya', 'maendeleo', 'na', 'kuunganisha', 'nchi', '.', 'Bw', 'Kamau', 'anasema', 'kauli', 'za', 'waliozungumza', 'katika', 'hafla', 'ya', 'mabwanyenye', 'hao', 'na', 'Bw', 'Odinga', 'yaliwakilisha', 'msimamo', 'wa', 'Rais', 'Kenyatta', '.', 'Duru', 'zinasema', 'kuwa', 'moja', 'ya', 'silaha', 'kali', 'ambayo', 'Rais', 'Kenyatta', 'ameficha', 'ni', 'kuunganisha', 'vigogo', 'wa', 'kisiasa', 'walio', 'na', 'ushawishi', 'maeneo', 'tofauti', 'nchini', 'kwenye', 'uchaguzi', 'mkuu', 'ujao', '.', 'Mnamo', 'Alhamisi', ',', 'wanasiasa', 'hao', 'walihudhuria', 'kongamano', 'kuu', 'la', 'kitaifa', 'la', 'wajumbe', 'wa', 'chama', 'cha', 'Kanu', 'ambalo', 'mgeni', 'wa', 'heshima', 'alikuwa', 'ni', 'Bw', 'Odinga', '.', '“', 'Juhudi', 'za', 'kuunganisha', 'vinara', 'wa', 'vyama', 'vya', 'kisiasa', 'chini', 'ya', 'Bw', 'Odinga', 'hazijakoma', '.', 'Zinaendelea', 'chini', 'ya', 'maji', 'japo', 'kila', 'mmoja', 'anaonekana', 'kujipanga', 'kivyake', '.', 'Rais', 'hajachoka', 'kuwasihi', 'kuungana', 'ili', 'kumshinda', 'Dkt', 'Ruto', ',', '”', 'asema', 'mbunge', 'mmoja', 'mshirika', 'wa', 'Rais', 'Kenyatta', '.', 'Usoroveya', 'ulikuwa', 'umekwama', 'zaidi', 'ya', 'mara', 'tatu', 'kufuatia', 'malalamishi', 'ya', 'baadhi', 'ya', 'wakazi', 'wa', 'eneo', 'hilo', 'lakini', 'hatimaye', 'shughuli', 'hiyo', 'ikakamilishwa', 'wiki', 'iliyopita', '.', '“', 'Tumefurahi', 'kuwa', 'shughuli', 'hiyo', 'ilifanywa', '.', 'Sasa', 'tunatazamia', 'kupata', 'hatimiliki', 'ya', 'ardhi', 'hiyo', ',', '”', 'akasema', 'msemaji', 'wa', 'familia', ',', 'Bw', 'Mohamed', 'Maula', '.', 'Hatua', 'ya', 'kufanya', 'usoroveya', 'ilichukuliwa', 'baada', 'ya', 'Tume', 'ya', 'Kitaifa', 'ya', 'Ardhi', '(', 'NLC', ')', 'kuamua', 'ardhi', 'hiyo', 'irudishwe', 'kwa', 'familia', 'ya', 'Saggaf', 'Alawys', ',', 'ikisema', 'walitendewa', 'dhuluma', 'za', 'kihistoria', 'kwa', 'kuishi', 'kama', 'maskwota', 'ilhali', 'wanamiliki', 'ardhi', 'inayozozaniwa', '.', 'Warithi', 'wa', 'ardhi', 'hiyo', 'ni', 'watoto', 'wa', 'Saggaf', 'ambao', 'ni', 'Hassan', 'Nassir', ',', 'Mohamed', 'Nassir', 'na', 'Ahmed', 'Nassir', '.', 'Watu', 'kwenye', 'kikundi', ',', 'walielekea', 'mahakamani', 'kudai', 'umiliki', 'wa', 'ardhi', 'hiyo', 'lakini', 'Mahakama', 'Kuu', 'ikaamua', 'katika', 'mwaka', 'wa', '2015', 'kuwa', 'familia', 'ya', 'Saggaf', 'ndio', 'wamiliki', 'halali', '.', 'Familia', 'hiyo', 'ililaumu', 'wanyakuzi', 'wa', 'ardhi', 'kwa', 'kupuuza', 'agizo', 'hilo', 'na', 'kujaribu', 'kuwapokonya', 'sehemu', 'hiyo', 'ambayo', 'ni', 'kubwa', 'mno', 'katika', 'Kisiwa', 'cha', 'Wasini', '.', 'Wakazi', 'walilalamika', 'kuwa', ',', 'usoroveya', 'ulifanywa', 'usiku', 'na', 'hivyo', 'basi', 'wakatilia', 'shaka', 'uhalali', 'wake', '.', 'Malalamishi', 'sawa', 'na', 'hayo', 'yalitolewa', 'pia', 'na', 'Gavana', 'wa', 'Kwale', ',', 'Bw', 'Salim', 'Mvurya', 'ambaye', 'wiki', 'iliyopita', 'alituliza', 'hamaki', 'ya', 'wakazi', 'waliojitokeza', 'kuzuia', 'usoroveya', 'kufanywa', '.', '“', 'Sijawahi', 'kusikia', 'ardhi', 'ikifanyiwa', 'usoroveya', 'muda', 'kama', 'huo', '.', 'Hii', 'inamaanisha', 'shughuli', 'hiyo', 'nzima', 'ilikuwa', 'haramu', '.', 'Haki', 'za', 'wakazi', 'zinafaa', 'kupewa', 'kipaumbele', ',', '”', 'akasema', '.', 'Hata', 'hivyo', ',', 'Bw', 'Maula', 'alisema', 'sehemu', 'ya', 'ardhi', 'ambayo', 'imerudishwa', 'kwa', 'familia', 'yao', 'haina', 'wakazi', 'wowote', 'wanaoishi', 'isipokuwa', 'wawekezaji', 'waliokuwa', 'wameanza', 'kujenga', 'hoteli', 'za', 'kifahari', '.', 'Aliwaondolea', 'wakazi', 'wanaopakana', 'na', 'ardhi', 'yao', 'hofu', 'kwamba', 'watafurushwa', '.', 'AMRI', 'ya', 'kitaifa', 'ya', 'kutotoka', 'nje', 'kati', 'ya', 'saa', 'nne', 'usiku', 'hadi', 'saa', 'kumi', 'alfajiri', 'itaendelea', 'kutekelezwa', 'kwa', 'muda', 'wa', 'siku', '30', 'zaidi', '.', 'Waziri', 'wa', 'Afya', 'Mutahi', 'Kagwe', 'ametangaza', 'Jumatatu', ',', 'kuongezwa', 'kwa', 'muda', 'huo', 'wa', 'kafyu', 'kutaiwezesha', 'serikali', 'kutoa', 'chanjo', 'zaidi', '.', 'Tangazo', 'hilo', 'limejiri', 'licha', 'ya', 'baadhi', 'ya', 'viongozi', 'na', 'wanasiasa', ',', 'wadau', 'katika', 'sekta', 'mbalimbali', 'kuitaka', 'serikali', 'kufungua', 'uchumi', 'kikamilifu', '.', '“', 'Tumeongeza', 'muda', 'wa', 'utekelezaji', 'kafyu', 'na', 'sheria', 'zinginezo', 'kuzuia', 'msambao', 'wa', 'virusi', 'vya', 'corona', 'kwa', 'siku', '30', 'zaidi', ',', 'ili', 'tuweze', 'kutoa', 'chanjo', 'kwa', 'watu', 'wengi', 'iwezekanavyo', ',', '”', 'akasema', 'Bw', 'Kagwe', '.', 'Alisema', 'hayo', 'jijini', 'Nairobi', ',', 'wakati', 'akizindua', 'rasmi', 'sheria', 'ya', 'afya', 'ya', 'umma', 'na', 'jamii', 'itakayotolewa', 'na', 'Shirika', 'la', 'Kuimarisha', 'Huduma', 'za', 'Jiji', 'la', 'Nairobi', '(', 'NMS', ')', '.', 'Akitetea', 'kuendelea', 'kutekelezwa', 'kwa', 'kafyu', 'ya', 'kitaifa', 'na', 'mikakati', 'ya', 'kuzuia', 'kuenea', 'kwa', 'Covid-19', ',', 'waziri', 'Kagwe', 'alisema', 'hatua', 'hiyo', 'pia', 'inasaidia', 'kulinda', 'maisha', 'ya', 'Wakenya', '.', 'Kanuni', 'hizo', 'zilianza', 'kutekelezwa', 'mwaka', '2020', 'mara', 'baada', 'ya', 'Kenya', 'kuthibitisha', 'kisa', 'cha', 'Covid-19', '.', '“', 'Jukumu', 'la', 'kulinda', 'Wakenya', 'si', 'la', 'Mutahi', 'Kagwe', 'wala', 'Rais', 'Uhuru', 'Kenyatta', 'pekee', ',', 'ni', 'letu', 'sisi', 'sote', ',', '”', 'waziri', 'akasema', '.', '“', 'Watu', 'wafahamu', 'kuwa', 'wamekodolewa', 'macho', 'na', 'ugonjwa', 'hatari', ',', '”', 'akatahadharisha', '.', 'Kauli', 'ya', 'Bw', 'Kagwe', 'imejiri', 'kipindi', 'ambacho', 'viongozi', 'na', 'wanasiasa', 'wakiongozwa', 'na', 'Rais', 'Kenyatta', ',', 'Naibu', 'wa', 'Rais', 'Dkt', 'William', 'Ruto', ',', 'kiongozi', 'wa', 'ODM', ',', 'Bw', 'Raila', 'Odinga', 'kati', 'ya', 'wengineo', 'wanaendelea', 'kuandaa', 'mikutano', 'ya', 'umma', ',', 'katika', 'kile', 'kinachonekana', 'kama', 'mchakato', 'wa', 'kampeni', 'za', '2022', '.']\n",
      "\n",
      " Number of Words:  3325\n"
     ]
    }
   ],
   "source": [
    "file=\"21oct4.txt\"\n",
    "\n",
    "# calling the function and storing the contents in a text variable \n",
    "text1 = get_document(\"https://taifaleo.nation.co.ke/corona-serikali-yahimizwa-kufungua-uchumi/\")\n",
    "text2 = get_document(\"https://taifaleo.nation.co.ke/kaparo-atawazwa-msemaji-wa-jamii-yake-laikipia/\")\n",
    "text3 = get_document(\"https://taifaleo.nation.co.ke/njaa-un-yaahidi-sh13b-kusaidia-waathiriwa/\")\n",
    "text4 = get_document(\"https://taifaleo.nation.co.ke/sherehe-kwa-walevi-baa-1800-zikitakiwa-kuuza-pombe-yao-yote-leo/\")\n",
    "text5 = get_document(\"https://taifaleo.nation.co.ke/pandora-papers-marais-wanavyokwepa-ushuru-na-kuficha-mabilioni-ughaibuni/\")\n",
    "text6 = get_document(\"https://taifaleo.nation.co.ke/njama-ya-uhuru-kubomoa-ruto-yafichuka-2/\")\n",
    "text7 = get_document(\"https://taifaleo.nation.co.ke/familia-yaidhinishwa-kumiliki-ardhi-ya-sh2b/\")\n",
    "text8 = get_document(\"https://taifaleo.nation.co.ke/kafyu-yasaidia-kuepusha-hali-mbaya-shughuli-ya-utoaji-chanjo-ikiendelea-kagwe/\")\n",
    "\n",
    "# calling the store_ document function \n",
    "store_document(doc=text1,name=file)\n",
    "store_document(doc=text2,name=file)\n",
    "store_document(doc=text3,name=file)\n",
    "store_document(doc=text4,name=file)\n",
    "store_document(doc=text5,name=file)\n",
    "store_document(doc=text6,name=file)\n",
    "store_document(doc=text7,name=file)\n",
    "store_document(doc=text8,name=file)\n",
    "\n",
    "#add the words in this file to the total_corpus_words, to keep count of the number of words in the corpus\n",
    "total_corpus_words+=total_words(file)"
   ]
  },
  {
   "cell_type": "code",
   "execution_count": 23,
   "metadata": {},
   "outputs": [
    {
     "data": {
      "text/plain": [
       "759568"
      ]
     },
     "execution_count": 23,
     "metadata": {},
     "output_type": "execute_result"
    }
   ],
   "source": [
    "total_corpus_words"
   ]
  },
  {
   "cell_type": "code",
   "execution_count": 28,
   "metadata": {},
   "outputs": [
    {
     "name": "stdout",
     "output_type": "stream",
     "text": [
      "['Corona', ':', 'Serikali', 'yahimizwa', 'kufungua', 'uchumi', 'MWANACHAMA', 'mmoja', 'wa', 'kamati', 'maalum', 'inayoishauri', 'serikali', 'kuhusu', 'janga', 'la', 'Covid-19', 'ameitaka', 'kuondoa', 'masharti', 'ya', 'kuzuia', 'kuenea', 'kwa', 'virusi', 'vya', 'corona', 'vinavyosababisha', 'ugonjwa', 'huo', '.', 'Profesa', 'Omu', 'Anzala', ',', 'ambaye', 'ni', 'mtaalamu', 'wa', 'virusi', 'na', 'magonjwa', 'ya', 'kuambukiza', 'katika', 'Chuo', 'Kikuu', 'cha', 'Nairobi', ',', 'anasema', 'serikali', 'inafaa', 'kufungua', 'uchumi', 'huku', 'wananchi', 'wakihimiza', 'kuendelea', 'kuvalia', 'barakoa', 'na', 'kunawa', 'mikono', 'au', 'watu', 'kutumia', 'sanitaiza', '.', 'Kulingana', 'na', 'mtaalamu', 'huyo', ',', 'ingawa', 'ni', 'muhimu', 'kudhibiti', 'changamoto', 'hii', 'ya', 'kiafya', 'ni', 'muhimu', 'serikali', 'kuzingatia', 'athari', 'zake', 'kwa', 'uchumi', 'wa', 'nchi', '.', '“', 'Huu', 'ugonjwa', 'hautatokomezwa', 'kwa', 'haraka', '.', 'Virusi', 'vya', 'corona', 'vitaendelea', 'kuwa', 'nasi', 'navyo', 'katika', 'viruzi', 'vya', 'Influenza', '.', 'Lakini', 'maisha', 'sharti', 'yaendelee', '.', 'Huu', 'sio', 'ugonjwa', 'wa', 'kipekee', 'ambao', 'huua', 'watu', '.', 'Kufungwa', 'kwa', 'uchumi', 'pia', 'utaua', 'watu', 'wengi', 'wengi', ',', '”', 'Profesa', 'Anzala', 'akasema', 'akirejelea', 'ongezeko', 'la', 'umasikini', 'na', 'mahangaiko', 'miongoni', 'mwa', 'wananchi.Mtaalamu', 'huyo', 'anashauri', 'kwamba', 'serikali', 'inafaa', 'kuendeleza', 'kampeni', 'ya', 'utoaji', 'chanjo', 'kupitia', 'uhamasisho', 'wa', 'wanajamii', 'hadi', 'katika', 'ngazi', 'za', 'vijiji', '.', '“', 'Sharti', 'tuseme', 'ukweli', '.', 'Wakenya', 'wanajifungia', 'ndani', 'ya', 'mabaa', 'nyakati', 'za', 'usiku', ',', 'matatu', 'yanabeba', 'abiria', 'wengi', 'kupita', 'kiasi', ',', 'miongoni', 'mwa', 'shughuli', 'zingine', 'za', 'ukiukaji', 'wa', 'masharti', 'ya', 'kuzuia', 'kuenea', 'kwa', 'virusi', 'vya', 'corona', '.', 'Uchumi', 'ufunguliwe', 'na', 'kila', 'mwananchi', 'ajitwike', 'wajibu', 'wa', 'kujikinga', 'dhidi', 'ya', 'ugonjwa', 'huu', ',', '”', 'akasema', 'Profesa', 'Anzala', 'ambaye', 'ni', 'Mwanachama', 'wa', 'Kamati', 'ya', 'Kitaifa', 'ya', 'Kupanga', 'Mikakati', 'ya', 'Kupambana', 'na', 'Covid-19', '(', 'NERC', ')', '.', 'Haswa', 'anapendekeza', 'serikali', 'iondoe', 'amri', 'ya', 'kutotoka', 'nje', 'nyakati', 'za', 'usiku', ',', 'almaarufu', ',', 'kafyu', 'ili', 'wafanyabiashara', 'na', 'magari', 'ya', 'uchukuzi', 'yaruhusiwe', 'kuhudumu', 'saa', '24', 'Profesa', 'Anzala', 'alisema', 'kwa', 'kuna', 'kuna', 'chanjo', 'ya', 'kutosha', ',', 'serikali', 'inafaa', 'kulenga', 'kutoa', 'chanjo', 'kwa', 'angalau', 'watu', 'milioni', 'moja', 'kila', 'wiki', '“', 'ili', 'idadi', 'ya', 'waliopata', 'kinga', 'hii', 'iwe', 'juu', 'na', 'wananchi', 'waruhusiwe', 'kuendelea', 'na', 'shughuli', 'zao', 'kama', 'kawaida.', '”', 'Janga', 'la', 'Covid-19', 'imezidisha', 'ugumu', 'wa', 'maisha', 'miongoni', 'mwa', 'Wakenya', 'haswa', 'wakati', 'huu', 'ambapo', 'gharama', 'ya', 'maisha', 'imepanda', 'kufuatia', 'ongezeko', 'la', 'bei', 'ya', 'mafuta', 'na', 'vyakula', '.', 'Mwenyekiti', 'wa', 'Jopo', 'kazi', 'kuhusu', 'Utoaji', 'Chanjo', 'ya', 'Covid-19', 'nchini', 'Willis', 'Akhwale', 'alisema', 'serikali', 'itakuwa', 'na', 'uhakika', 'wa', 'kufungua', 'uchumi', 'ikiwa', 'kufikia', 'Oktoba', '20', ',', 'idadi', 'ya', 'watu', 'ambao', 'wamepewa', 'chanjo', 'itafikia', '5', '.', '8', 'milioni', '.', '“', 'Idadi', 'ya', 'waliochanjwa', 'itachangia', 'Rais', 'kuamua', 'ikiwa', 'anafaa', 'kufungua', 'uchumi', 'au', 'la', '.', 'Ikiwa', 'idadi', 'kubwa', 'ya', 'watu', 'wetu', 'watakuwa', 'wamepewa', 'chanjo', ',', 'hivyo', 'tutashawishiwika', 'kuwa', 'ni', 'salama', 'kwetu', 'kufungua', 'uchumi', ',', '”', 'Dkt', 'Akhwale', 'akasema', '.', 'Alisema', 'kufikia', 'Ijumaa', 'wiki', 'jana', 'Kenya', 'ilikuwa', 'imepokea', 'zaidi', 'ya', 'dozi', '6.5', 'milioni', 'za', 'aina', 'mbalimbali', 'za', 'chanjo', 'na', 'hivyo', 'ipo', 'haja', 'kwa', 'Wakenya', 'kujitokeza', 'kwa', 'wingi', 'kupewa', 'kinga', 'hiyo', '.', 'Aliongeza', 'kuwa', 'wakati', 'huu', 'ambapo', 'idadi', 'ya', 'maambukiz', 'mapya', 'ya', 'corona', 'yamepungua', 'ndio', 'wakati', 'mwafaka', 'kwa', 'watu', 'kujitokeza', 'kupewa', 'chanjo', '.', '“', 'Wakenya', 'ni', 'watu', 'wa', 'kiajabu', ',', 'idadi', 'ya', 'maambukizi', 'ikiwa', 'chini', ',', 'wanahisi', 'kuwa', 'virusi', 'vya', 'corona', 'vimetokomea', '.', 'Lakini', 'ukweli', 'ni', 'kwamba', 'virusi', 'hivi', 'vingali', 'katika', 'jamii', 'na', 'vinaendelea', 'kutuchezea', ',', '”', 'akaongeza', 'Dkt', 'Akhwale', '.', 'Kwa', 'upande', 'wake', ',', 'Waziri', 'wa', 'Afya', 'Mutahi', 'Kagwe', 'alisema', 'serikali', 'ina', 'nia', 'ya', 'kufungua', 'uchumi', 'lakini', 'uamuzi', 'huo', 'utatolewa', 'kwa', 'misingi', 'ya', 'sayansa', 'na', 'data', 'pamoja', 'na', 'mienendo', 'ya', 'Wakenya', '.', '“', 'Serikali', 'inaweza', 'tu', 'kufungua', 'uchumi', 'ikiwa', 'kiwango', 'cha', 'maambukizi', 'kitasalia', 'chini', 'ya', 'asilimia', '5', 'kwa', 'kipindi', 'cha', 'siku', '14', '.', 'Wakati', 'hali', 'ni', 'hivyo', 'lakini', 'mienendo', 'ya', 'wananchi', 'ambayo', 'inachangia', 'kuongezeka', 'kwa', 'idadi', 'ya', 'maambukizi', ',', '”', 'akasema', 'juzi', 'akiwa', 'Kiambu', '.', 'Wakati', 'huo', 'kiwango', 'cha', 'maambukizi', 'mapya', 'ya', 'corona', 'imeshuka', 'hadi', 'asilimia', '2.2', '.', 'Hii', 'ina', 'manaa', 'kuwa', 'idadi', 'ya', 'watu', 'wapya', 'wanaoambukizwa', 'virusi', 'hivyo', 'imepungua', 'kutoa', 'kiwango', 'wastani', 'cha', '1,000', 'hadi', '300', 'kwa', 'kote', 'nchini', 'kwa', 'kipindi', 'cha', 'saa', '24', '.', 'Waziri', 'Kagwe', 'pia', 'alilalamikia', 'idadi', 'ya', 'chini', 'ya', 'watu', 'wanaojitokezwa', 'kupewa', 'chanjo', 'na', 'ndipo', 'akatoa', 'wito', 'kwa', 'serikali', 'za', 'kaunti', 'kuanzia', 'vituo', 'vya', 'kuhamahama', 'vya', 'kutoa', 'chanjo', '.', '“', 'Serikali', 'za', 'kaunti', 'zinafaa', 'kuanzisha', 'kampeni', 'ya', 'utoaji', 'chanjo', 'ya', 'nyumba', 'hadi', 'nyumba', 'haswa', 'inayolenga', 'wakongwe', 'na', 'watu', 'wanaoishi', 'na', 'aina', 'mbalimbali', 'za', 'ulemavu', '.', 'Bw', 'Kagwe', 'alisema', 'kufikia', 'Ijumaa', 'jumla', 'ya', 'watu', '3.9', 'walikuwa', 'wamepewa', 'chanjo', ',', 'huku', '2.8', 'wakiwa', 'ni', 'wale', 'waliopewa', 'chanjo', 'ya', 'kwanza', 'huku', 'watu', '1.1', 'milioni', 'wakiwa', 'wamepata', 'dozi', 'mbili', 'za', 'chanjo', '.', 'Zambia', 'ndio', 'taifa', 'la', 'kwanza', 'barani', 'Afrika', 'kufungua', 'uchumi', 'wake', 'kwa', 'kuondoa', 'masharti', 'ya', 'kuzuia', 'kuenea', 'kwa', 'corona', '.', 'Kulingana', 'na', 'wizara', 'ya', 'afya', 'nchini', 'humo', ',', 'hatua', 'hii', 'ilichukuliwa', 'kufuatia', 'kupungua', 'kwa', 'viwango', 'vya', 'maambukizi', 'ya', 'ugonjwa', 'huu', '.', 'Wakulima', 'Bondeni', 'walia', 'bei', 'duni', 'za', 'viazi', 'na', 'kupunjwa', 'na', 'madalali', 'WAKULIMA', 'wa', 'viazi', 'katika', 'eneo', 'la', 'Bonde', 'la', 'Ufa', 'wamelalamikia', 'kushuka', 'kwa', 'bei', 'ya', 'zao', 'hilo', 'kutoka', 'Sh', '1,500', 'hadi', 'Sh700', '.', 'Mwenyekiti', 'wa', 'chama', 'cha', 'wakulima', 'wa', 'viazi', 'nchini', ',', 'Bw', 'Joshua', 'Ng', '’', 'eno', ',', 'alisema', 'kuwa', 'bei', 'hizo', 'zimeshuka', 'kwa', 'kiasi', 'kikubwa/.Bw', 'Ng', '’', 'eno', 'pia', 'alisema', 'kuwa', 'madalali', 'wanawapunja', 'wakulima', 'kwa', 'kurefusha', 'magunia', 'kwa', 'kuongeza', 'kilo', '20', 'zaidi', '.', 'Maeneo', 'yanayoathirika', 'zaidi', 'na', 'bei', 'duni', 'ya', 'viazi', 'ni', 'kaunti', 'za', 'Bomet', ',', 'Kericho', 'na', 'Narok', '.', 'Wakulima', 'sasa', 'wanaitaka', 'serikali', 'kuwekeza', 'katika', 'barabara', 'za', 'maeneo', 'ya', 'vijijini', 'ili', 'kuwawezesha', 'wakulima', 'hao', 'kufikisha', 'mazao', 'yao', 'sokoni', 'kwa', 'muda', 'ufaao', 'na', 'kuzuia', 'mazao', 'kuoza', 'kwa', 'kushindwa', 'kuyasafirisha', 'hadi', 'sokoni', 'kwa', 'kutumia', 'barabara', 'mbovu', '.', 'Pia', 'wamehimiza', 'serikali', 'za', 'kaunti', 'kusaidia', 'wakulima', 'kwa', 'teknolojia', 'za', 'kisasa', 'za', 'kuhifadhi', 'mazao', 'yao', 'ili', 'kuyauza', 'wakati', 'ambapo', 'mahitaji', 'ya', 'viazi', 'yapo', 'juu', 'na', 'bei', 'ni', 'nafuu', '.', 'Akizungumza', 'wakati', 'wa', 'mchango', 'wa', 'Harambee', 'katika', 'kanisa', 'la', 'Anglikana', 'la', 'Good', 'Samaritan', 'Difathas', ',', 'Kaunti', 'ya', 'Kirinyaga', ',', 'Bw', 'Oguna', 'alisema', 'tayari', 'serikali', 'imetumia', 'fedha', 'kuwanunulia', 'baadhi', 'ya', 'Wakenya', 'vyakula', 'huku', 'akikiri', 'kuwa', 'ukame', 'huo', 'unatisha', 'na', 'lazima', 'mikakati', 'faafu', 'iwekwe', 'kuyaokoa', 'maisha', 'ya', 'watu', '.', 'Kanali', 'Oguna', 'alisema', 'ni', 'kaunti', '20', 'ambazo', 'zinakabiliwa', 'na', 'njaa', 'huku', 'nusu', 'ya', 'idadi', 'hiyo', 'ikiwa', 'zile', 'ambazo', 'zimeathirika', 'sana', 'na', 'zinahitaji', 'msaada', 'wa', 'kidharura', '.', 'Msemaji', 'huyo', 'alikariri', 'kuwa', 'serikali', 'inamakinika', 'kuhakikisha', 'kuwa', 'wale', 'ambao', 'wanakabiliwa', 'na', 'njaa', 'hawapotezi', 'maisha', 'yao', 'na', 'wanafikiwa', 'na', 'misaada', 'ya', 'vyakula', ',', 'maji', 'na', 'mahitaji', 'mengine', 'ya', 'kimsingi', '.', '“', 'Kumekuwa', 'na', 'misimu', 'miwili', 'ambapo', 'mvua', 'haijanyesha', 'ndio', 'maana', 'kuna', 'ukame', '.', 'Wakenya', 'wengi', 'hawakuvuna', 'chochote', 'na', 'sasa', 'hawawezi', 'kujilisha', 'huku', 'mifugo', 'pia', 'wakiathirika', ',', '”', 'akasema', '.', 'Tayari', 'baadhi', 'ya', 'mifugo', 'ikiwemo', 'ngamia', ',', 'ng', '’', 'ombe', 'na', 'mbuzi', 'wamekufa', 'baada', 'ya', 'kulemewa', 'na', 'makali', 'ya', 'njaa', 'huku', 'wafugaji', 'wakiitisha', 'msaada', 'kutoka', 'kwa', 'serikali', 'kununua', 'mifugo', 'yao', '.', 'Kanali', 'Oguna', 'alikuwa', 'ameandamana', 'na', 'Gavana', 'wa', 'Laikipia', 'Nderitu', 'Muriithi', 'pamoja', 'na', 'aliyekuwa', 'msaidizi', 'wa', 'kibinafsi', 'wa', 'Rais', 'Mstaafu', 'Mwai', 'Kibaki', ',', 'Bw', 'Ngari', 'Gituku', '.', 'Pia', 'alitaka', 'Wakenya', 'wadumishe', 'amani', 'na', 'kuwaonya', 'wanasiasa', 'dhidi', 'ya', 'kueneza', 'chuki', 'kuelekea', 'uchaguzi', 'mkuu', 'wa', '2022', '.', 'Kauli', 'ya', 'Kanali', 'Oguna', 'kuhusu', 'njaa', 'inajiri', 'wakati', 'ambapo', 'janga', 'la', 'kitaifa', 'linanukia', 'Kaskazini', 'mwa', 'Kenya', 'ambapo', 'maelfu', 'ya', 'familia', 'wanakodolewa', 'macho', 'na', 'mauti', 'kutokana', 'na', 'ukosefu', 'wa', 'chakula', ',', 'watoto', 'pia', 'wakiathirika', 'na', 'utapiamlo', '.', 'Ripoti', 'iliyotolewa', 'na', 'Wizara', 'ya', 'Afya', 'kupita', 'kamati', 'inayoshughulikia', 'utoshelevu', 'wa', 'chakula', 'nchini', ',', 'ilionya', 'kuwa', 'kuna', 'hatari', 'ya', 'kutokea', 'kwa', 'janga', 'la', 'kitaifa', 'iwapo', 'familia', 'kwenye', 'kaunti', 'za', 'Samburu', ',', 'Marsabit', ',', 'Isiolo', ',', 'Garissa', ',', 'Mandera', 'na', 'Wajir', 'hazitafikiwa', 'na', 'kupewa', 'vyakula', '.', 'Hasa', 'ripoti', 'hiyo', 'inasisitiza', 'kuwa', 'watoto', '8,000', 'na', 'akina', 'mama', '5,365', 'katika', 'Kaunti', 'ya', 'Turkana', 'wanakabiliwa', 'na', 'utapiamlo', 'huku', 'hatua', 'za', 'dharura', 'zikihitajika', 'kuwapa', 'vyakula', 'venye', 'madini', 'ya', 'vitamin', 'A', ',', 'dawa', 'ya', 'minyoo', 'na', 'maziwa', 'kwa', 'watoto', 'wadogo', '.', 'Mbunge', 'wa', 'Turkana', 'Kaskazini', 'Christopher', 'Nakuleau', 'naye', 'ameiomba', 'serikali', 'iharakishe', 'kugawa', 'vyakula', 'kwenye', 'maeneo', 'hayo', 'ili', 'kuzuia', 'vifo', 'ambavyo', 'vinanukia', '.', '“', 'Hali', 'huenda', 'ikawa', 'baya', 'zaidi', 'iwapo', 'ukame', 'utaendelea', 'kushuhudiwa', '.', 'Wakazi', 'wanategemea', 'sana', 'maziwa', 'na', 'nyama', 'kutoka', 'kwa', 'mifugo', 'yao', 'ambao', 'sasa', 'pia', 'wamedhofika', 'kutokana', 'na', 'ukosefu', 'wa', 'lishe', ',', '”', 'akasema', 'Bw', 'Nakuleau', '.', 'Serikali', 'nayo', 'imetenga', 'Sh1.5', 'bilioni', 'kugharimia', 'vyakula', 'kwa', 'familia', 'zinazokabiliwa', 'na', 'njaa', '.', 'Kinaya', 'ni', 'kwamba', 'wakulima', 'wa', 'mahindi', 'Kaskazini', 'mwa', 'Bonde', 'la', 'Ufa', 'nao', 'wanalalamika', 'kuwa', 'wana', 'mahindi', 'mengi', 'ila', 'hakuna', 'soko', 'kutokana', 'na', 'uagizaji', 'wa', 'mazao', 'hayo', 'mengi', 'kutoka', 'nje', 'ya', 'nchi', '.', '‘', 'Sherehe', '’', 'kwa', 'walevi', 'baa', '1,800', 'zikitakiwa', 'kuuza', 'pombe', 'yao', 'yote', 'leo', 'WAMILIKI', 'wa', 'zaidi', 'ya', 'baa', '1,800', 'katika', 'Kaunti', 'ya', 'Nyandarua', 'ambao', 'leseni', 'zao', 'za', 'kibiashara', 'hazikuongezewa', 'muda', ',', 'wametakiwa', 'kuuza', 'pombe', 'yao', 'ya', 'Sh100', 'milioni', 'kufikia', 'leo', 'jioni', 'kabla', 'ya', 'biashara', 'zao', 'kufungwa', 'kesho', 'Jumanne', '.', 'Baada', 'ya', 'ukaguzi', ',', 'Kamati', 'ya', 'Kudhibiti', 'Mauzo', 'ya', 'Vileo', 'kwenye', 'Kaunti', 'ya', 'Nyandarua', 'ilitoa', 'upya', 'leseni', 'kwa', 'baa', '600', 'pekee', 'kati', 'ya', '900', 'ambayo', 'wamiliki', 'wao', 'walituma', 'maombi', 'ili', 'kuendelea', 'kufanya', 'biashara', 'hiyo', '.', 'Kaunti', 'hiyo', 'ina', 'baa', '2,400', 'ila', 'nyingi', 'zimekuwa', 'zikiendeleza', 'biashara', 'hiyo', 'kiharamu', 'bila', 'kufuata', 'sheria', '.', 'Wamiliki', 'wa', 'baa', 'hizo', 'pia', 'walikataa', 'kutuma', 'maombi', 'ya', 'leseni', 'mpya', 'wakilalamikia', 'masharti', 'makali', 'yaliyowekwa', 'na', 'kamati', 'ya', 'kaunti', '.', 'Viongozi', 'wamwomboleza', 'wakili', 'Evans', 'Monari', 'VIONGOZI', 'wanaendelea', 'kutuma', 'salamu', 'za', 'pole', 'kwa', 'familia', 'ya', 'wakili', 'Evans', 'Monari', 'huku', 'wakimtaja', 'marehemu', 'kama', 'mtu', 'shupavu', 'aliyetekeleza', 'kazi', 'yake', 'kwa', 'uadilifu', 'wakati', 'wa', 'uhai', 'wake', '.', 'Marehemu', 'Manori', 'alikuwa', 'mmoja', 'wa', 'mawakili', 'ambao', 'walimwakilisha', 'Rais', 'Uhuru', 'Kenyatta', 'alipokuwa', 'akikabiliwa', 'na', 'kesi', 'kwenye', 'Mahakama', 'ya', 'Kimataifa', 'kuhusu', 'Uhalifu', '(', 'ICC', ')', '.', 'Viongozi', 'hawa', 'wameandika', 'jumbe', 'zao', 'kwenye', 'kurasa', 'zao', 'za', 'mtandao', 'wa', 'kijamii', 'wa', 'Twitter', '.', 'Wakiongozwa', 'na', 'Rais', 'Kenyatta', 'kupitia', 'ujumbe', 'uliochapishwa', 'kutoka', 'ukurasa', 'wa', 'ikulu', 'ya', 'Kenya', ',', 'viongozi', 'hao', 'wamekumbuka', 'jinsi', 'alivyotia', 'bidii', 'kazini', 'huku', 'akitambulika', 'kama', 'kigogo', 'wa', 'sheria', '.', '“', 'Wakili', 'Monari', ',', 'mwanasheria', 'ambaye', 'alitambulika', 'kwa', 'ufanisi', 'kazini', 'mwake', '.', 'Alikuwa', 'mwanasheria', 'ambaye', 'taifa', 'lingetemgemea', ',', '”', 'Rais', 'akasema', '.', 'Naibu', 'Rais', 'William', 'Ruto', ',', 'amemtaja', 'wakili', 'Monari', 'kama', 'mwanasheria', 'mwenye', 'maono', 'na', 'ambaye', 'alielewa', 'kwa', 'ukamilifu', 'sheria', 'na', 'katiba', '.', 'Naye', 'Waziri', 'wa', 'Usalama', 'wa', 'Ndani', 'Dkt', 'Fred', 'Matiangi', ',', 'ameonyesha', 'kusikitishwa', 'kwake', 'kufuatia', 'kifo', 'chake', 'Manori', 'huku', 'akimtaja', 'kama', 'mwanasheria', 'ambaye', 'alitambulika', 'kwa', 'uzoefu', 'wake', 'katika', 'kazi', 'ya', 'uanasheria', '.', 'Mwenyekiti', 'wa', 'Chama', 'cha', 'Wanasheria', 'nchini', '(', 'LSK', ')', ',', 'Nelson', 'Havi', 'aliposti', 'video', 'ya', 'marehemu', 'Monari', 'akicheza', 'saksofoni', '.', 'Chini', 'yake', 'akaandika', ',', '“', 'Usiku', 'umekuja', 'mwangaza', 'umetoweka', '.', 'Hakungekuwa', 'na', 'maisha', 'pasi', 'kifo', 'licha', 'ya', 'upweke', 'unaoletwa', 'na', 'kifo.', '”', 'Seneta', 'wa', 'Elgeyo', 'Marakwet', 'Kipchumba', 'Murkomen', 'amemwomboleza', 'wakili', 'Manori', 'kama', 'mwanasheria', 'mwadilifu', 'na', 'kiongozi', 'shupavu', 'huku', 'akieleza', 'atakumbuka', 'ucheshi', 'wake', 'na', 'uongozi', 'wake', '.', 'Aliyekuwa', 'Seneta', 'wa', 'Kaunti', 'ya', 'Kakamega', 'Dkt', 'Boni', 'Khalwale', 'amemtaja', 'marehemu', 'Manori', 'kama', 'mwanasheria', 'aliyeacha', 'nyayo', 'kwenye', 'Mfumo', 'wa', 'Jinai', 'wa', 'Mahakama', '.']\n",
      "\n",
      " Number of Words:  1712\n"
     ]
    }
   ],
   "source": [
    "file=\"21oct5.txt\"\n",
    "\n",
    "# calling the function and storing the contents in a text variable \n",
    "text2 = get_document(\"https://taifaleo.nation.co.ke/wakulima-bondeni-walia-bei-duni-za-viazi-na-kupunjwa-na-madalali/\")\n",
    "text5 = get_document(\"https://taifaleo.nation.co.ke/viongozi-wamwomboleza-wakili-evans-monari/\")\n",
    "\n",
    "# calling the store_ document function \n",
    "store_document(doc=text2,name=file)\n",
    "store_document(doc=text5,name=file)\n",
    "\n",
    "#add the words in this file to the total_corpus_words, to keep count of the number of words in the corpus\n",
    "total_corpus_words+=total_words(file)"
   ]
  },
  {
   "cell_type": "code",
   "execution_count": 29,
   "metadata": {},
   "outputs": [
    {
     "data": {
      "text/plain": [
       "761280"
      ]
     },
     "execution_count": 29,
     "metadata": {},
     "output_type": "execute_result"
    }
   ],
   "source": [
    "total_corpus_words"
   ]
  },
  {
   "cell_type": "code",
   "execution_count": 36,
   "metadata": {},
   "outputs": [
    {
     "name": "stdout",
     "output_type": "stream",
     "text": [
      "['Benki', 'ya', 'NCBA', 'yazindua', 'tawi', 'la', 'Ruiru', 'WAFANYABIASHARA', 'wa', 'kaunti', 'ndogo', 'ya', 'Ruiru', ',', 'Kaunti', 'ya', 'Kiambu', 'watanufaika', 'pakubwa', 'na', 'huduma', 'za', 'kifedha', 'baada', 'ya', 'benki', 'mpya', 'ya', 'NCBA', '.', 'Hafla', 'hiyo', 'ilihudhuriwa', 'na', 'washika', 'dau', 'wengi', 'wanaojishughulisha', 'na', 'biashara', 'tofauti', 'mjini', 'humo', 'na', 'vitongoji', 'vyake', '.', 'Mkurugenzi', 'Mkuu', 'wa', 'benki', 'hiyo', 'Bw', 'John', 'Gachora', ',', 'alisema', 'waliamua', 'kufungua', 'tawi', 'Ruiru', 'kutokana', 'na', 'ongezeko', 'la', 'wafanyabiashara', 'mjini', 'humo', '.', 'Alisema', 'benki', 'hiyo', 'ina', 'matawi', 'mengine', '76', 'kote', 'nchini', 'na', 'tayari', 'ilizindua', 'tawi', 'jingine', 'hivi', 'majuzi', 'katika', 'Kaunti', 'ya', 'Kakamega', '.', '“', 'Tutahakikisha', 'ya', 'kwamba', 'tunatoa', 'huduma', 'ya', 'kuridhisha', 'kwa', 'wateja', 'wote', 'watakaofungua', 'akaunti', 'zao', 'kirahisi', ',', '”', 'alisema', 'mkurugenzi', 'huyo', '.', 'Alisema', 'mji', 'wa', 'Ruiru', 'unakua', 'kwa', 'kasi', 'na', 'kwa', 'asilimia', 'kubwa', 'na', 'kwa', 'hivyo', 'ni', 'vyema', 'kuwapa', 'wafanyabiashara', 'huduma', 'inayostahili', 'kutekeleza', 'ili', 'kuendeleza', 'biashara', 'zao', '.', '“', 'Tumekuja', 'mjini', 'Ruiru', 'kwa', 'sababu', 'tunaamini', 'ya', 'kwamba', 'mji', 'huu', 'una', 'usalama', 'wa', 'kutosha', 'na', 'mazingira', 'pia', 'ni', 'ya', 'kuridhisha', ',', '”', 'alisema', 'Bw', 'Gachora', '.', 'Bw', 'Muhoho', 'Kenyatta', 'ambaye', 'pia', 'ni', 'miongoni', 'mwa', 'wakurugenzi', 'wakuu', 'katika', 'benki', 'hiyo', ',', 'alipongeza', 'Kaunti', 'ya', 'Kiambu', 'kwa', 'kuwa', 'mstari', 'wa', 'mbele', 'kuipa', 'nafasi', 'benki', 'hiyo', 'kuwa', 'hapo', '.', '“', 'Ninatumai', 'ya', 'kwamba', 'biashara', 'zilizo', 'katika', 'mji', 'huu', 'wa', 'Ruiru', 'na', 'vitongoji', 'vyake', 'zitaimarika', 'pakubwa', ',', '”', 'alisema', 'Bw', 'Kenyatta', '.', 'Alisema', 'ufanisi', 'wa', 'mfanyabiashara', 'yeyote', 'hutokana', 'na', 'yeye', 'kuhakikisha', 'anawekeza', 'fedha', 'zake', 'katika', 'benki', '.', 'Gavana', 'wa', 'Kaunti', 'ya', 'Kiambu', 'Dkt', 'James', 'Nyoro', 'aliisifu', 'benki', 'hiyo', 'ya', 'NCBA', 'kwa', 'kufikiria', 'kuwekeza', 'katika', 'mji', 'huo', '.', '“', 'Tuna', 'matumaini', 'makubwa', 'ya', 'kwamba', 'biashara', 'nyingi', 'zinazofanyika', 'katika', 'barabara', 'kuu', 'ya', 'Bypass', 'eneo', 'la', 'Kamakis', 'zitanawiri', 'zaidi', 'na', 'zitawekeza', 'kwenye', 'benki', 'hii', ',', '”', 'alisema', 'gavana', 'huyo', '.', 'Alisema', 'mji', 'wa', 'Ruiru', 'kwa', 'sasa', 'una', 'idadi', 'ya', 'wakazi', 'wapatao', '400,000', '.', '“', 'Kutokana', 'na', 'idadi', 'kubwa', 'ya', 'wakazi', 'wa', 'Ruiru', ',', 'bila', 'shaka', 'benki', 'hiyo', 'itapata', 'wateja', 'wengi', 'watakaoendesha', 'biashara', 'tofauti', ',', '”', 'alisema', 'Dkt', 'Nyoro', '.', 'Alisema', 'atafanya', 'juhudi', 'kuona', 'ya', 'kwamba', 'wawekezaji', 'wanakuja', 'kwa', 'wingi', 'mjini', 'Ruiru', '.', '“', 'Tunataka', 'uchumi', 'wa', 'Kiambu', 'uimarike', 'kabisa', '.', 'Kila', 'mmoja', 'ana', 'nafasi', 'sawa', 'kuendesha', 'biashara', 'yake', 'bila', 'kuwekewa', 'vikwazo', ',', '”', 'alifafanua', 'gavana', 'huyo', '.', 'Alisema', 'wakulima', 'wa', 'kiwango', 'cha', 'chini', 'watapata', 'nafasi', 'pia', 'kuendesha', 'biashara', 'zao', 'bila', 'kusumbuliwa', '.', '“', 'Nitafanya', 'kongamano', 'kubwa', 'ili', 'kualika', 'washika', 'dau', 'wote', 'wa', 'kibiashara', 'ili', 'waeleze', 'jinsi', 'ambavyo', 'wangetaka', 'mwelekeo', 'wa', 'biashara', 'ufanyike', '.', 'Tunaona', 'hiyo', 'ndiyo', 'njia', 'pekee', 'ya', 'kuboreshe', 'biashara', 'katika', 'eneo', 'hili', ',', '”', 'alisema', 'gavana', 'huyo', '.', 'Vilio', 'serikali', 'inunue', 'mifugo', 'iliyo', 'hatarini', 'WAFUGAJI', 'katika', 'maeneo', 'mbalimbali', 'nchini', 'wamelilia', 'serikali', 'kununua', 'mifugo', 'yao', 'ili', 'kuepuka', 'hasara.Katika', 'Kaunti', 'ya', 'Samburu', ',', 'jamii', 'ya', 'wafugaji', 'imeitaka', 'serikali', 'iharakishe', 'mpango', 'wa', 'kununua', 'mifugo', 'yao', 'ambayo', 'imelemewa', 'na', 'makali', 'ya', 'njaa', '.', 'Ng', '’', 'ombe', ',', 'ngamia', ',', 'mbuzi', 'na', 'kondoo', 'katika', 'kaunti', 'hiyo', 'wamedhoofika', 'sana', 'huku', 'wanunuzi', 'wakikosekana', 'nao', 'wale', 'wanaonunuliwa', 'wakiuzwa', 'kwa', 'bei', 'duni', '.', 'Jumanne', ',', 'mamia', 'ya', 'wafugaji', 'ambao', 'walifika', 'katika', 'masoko', 'mbalimbali', 'Samburu', 'kuuza', 'mifugo', 'yao', 'hawakufanikiwa', ',', 'wakilazimika', 'kuirejesha', 'nyumbani', 'kwa', 'kuwa', 'ilidhoofika', 'sana', 'kiasi', 'cha', 'kutovutia', 'wanunuzi', '.', 'Kwa', 'hivyo', ',', 'wameiomba', 'serikali', 'iharakishe', 'mchakato', 'wa', 'kuwanunua', 'kabla', 'vifo', 'zaidi', 'havijatokea', '.', 'Wakazi', 'wengi', 'kutoka', 'kaunti', 'kame', 'wamekuwa', 'wakishiriki', 'ufugaji', 'wa', 'kuhamahama', 'na', 'mara', 'nyingi', 'hutegemea', 'mifugo', 'yao', 'kwa', 'mahitaji', 'yao', 'yote', 'ya', 'kimsingi', '.', 'Kwa', 'hivyo', ',', 'vifo', 'vya', 'mifugo', 'hiyo', 'kutokana', 'na', 'makali', 'ya', 'njaa', 'iliyosababishwa', 'na', 'ukame', ',', 'vimewaathiri', 'mno', '.', 'Katika', 'Kaunti', 'ya', 'Samburu', ',', 'wafugaji', 'wengi', 'wamekuwa', 'wakiwauza', 'wanyama', 'hao', 'ili', 'kuwalipia', 'watoto', 'wao', 'karo', 'ya', 'shule', '.', 'Hata', 'hivyo', ',', 'sasa', 'wamepata', 'pigo', 'kubwa', 'kutokana', 'na', 'ukame', 'unaoendelea', 'kushuhudiwa', '.', 'Kwa', 'mujibu', 'wa', 'Mamlaka', 'ya', 'Kitaifa', 'ya', 'Kudhibiti', 'Ukame', '(', 'MDMA', ')', ',', 'bei', 'ya', 'mifugo', 'inaendelea', 'kupungua', 'kwa', 'kasi', 'ya', 'kutisha', 'huku', 'ukosefu', 'wa', 'maji', 'na', 'lishe', 'ukisababisha', 'hali', 'hiyo', '.', '“', 'Mifugo', 'imedhoofika', 'na', 'hali', 'inaendelea', 'kuwa', 'mbaya', '.', 'Bei', 'ya', 'ng', '’', 'ombe', ',', 'ngamia', ',', 'mbuzi', 'na', 'kondoo', 'nayo', 'imepungua', 'sana', 'na', 'hata', 'wanunuzi', 'wenyewe', 'hawapatikani', ',', '”', 'akasema', 'Mshirikishi', 'wa', 'MDMA', ',', 'Alex', 'Leseketet', '.', 'Waziri', 'Msaidizi', 'wa', 'Ugatuzi', ',', 'Abdul', 'Bahari', 'mnamo', 'Alhamisi', 'wiki', 'jana', 'alisema', 'watasaka', 'soko', 'la', 'mifugo', 'hiyo', 'kutoka', 'Kiwanda', 'cha', 'Nyama', '(', 'KMC', ')', '.', 'Bw', 'Bahari', 'alisema', 'kuwa', 'ununuzi', 'huo', 'utakaoendeshwa', 'na', 'serikali', 'utasaidia', 'kupambana', 'na', 'athari', 'za', 'ukame', 'huo', 'pamoja', 'na', 'uvamizi', 'wa', 'mara', 'kwa', 'mara', 'wa', 'nzige', 'katika', 'maeneo', 'kame', '.', 'Huku', 'wakazi', 'wa', 'Samburu', 'wakilia', 'mifugo', 'yao', 'kukosa', 'soko', ',', 'serikali', 'jana', 'ilianza', 'kuinunua', 'mifugo', 'kutoka', 'wafugaji', 'katika', 'Kaunti', 'ya', 'Kilifi', '.', 'Kati', 'ya', 'bajeti', 'ya', 'Sh450', 'milioni', 'ambayo', 'imetengwa', 'kununua', 'mifugo', 'kutoka', 'kaunti', '10', 'zilizoathirika', 'na', 'ukame', 'huo', ',', 'Kaunti', 'ya', 'Kilifi', 'imetengewa', 'Sh9', 'milioni', 'ambazo', 'zimeanza', 'kutumika', 'kununua', 'ng', '’', 'ombe', '450', 'kupitia', 'KMC', '.', 'Ng', '’', 'ombe', '170', 'na', 'wengine', '120', 'wanatarajiwa', 'kununuliwa', 'katika', 'maneobunge', 'ya', 'Ganze', 'na', 'Kaloleni', 'ambayo', 'yameathirika', 'mno', 'na', 'kiangazi', 'pamoja', 'na', 'ukame', '.', '‘', 'Corona', '’', 'ya', 'punda', 'yalipuka', 'na', 'kuzua', 'hofu', 'kubwa', 'Lamu', 'IDARA', 'ya', 'mifugo', 'katika', 'Kaunti', 'ya', 'Lamu', 'imetoa', 'tahadhari', 'kwa', 'umma', 'kufuatia', 'mkurupuko', 'wa', 'homa', 'ya', 'punda', 'ambayo', 'imeibua', 'hofu', 'miongoni', 'mwa', 'wakazi', 'kisiwani', '.', 'Haijajulikana', 'kama', 'punda', 'wanaweza', 'kuambukiza', 'binadamu', 'ugonjwa', 'huo', 'ambao', 'chanzo', 'chake', 'hakijabainika', '.', 'Dalili', 'zinazoonekana', 'ni', 'kama', 'vile', 'matatizo', 'ya', 'kupumua', ',', 'punda', 'kutoa', 'kamasi', 'tele', ',', 'na', 'kuambukizana', 'kwa', 'kasi', '.', 'Kufikia', 'Jumanne', ',', 'zaidi', 'ya', 'punda', '60', 'walikuwa', 'tayari', 'wameonyesha', 'dalili', 'za', 'kuugua', 'maradhi', 'hayo', '.', 'Akithibitisha', 'mkurupuko', 'huo', ',', 'Afisa', 'Mkuu', 'wa', 'Idara', 'ya', 'Mifugo', 'na', 'Matibabu', 'katika', 'kaunti', ',', 'Bw', 'Gichohi', 'Mathenge', ',', 'alisema', 'tayari', 'wametoa', 'sampuli', 'ya', 'damu', 'na', 'kamasi', 'kutoka', 'kwa', 'baadhi', 'ya', 'punda', 'wanaougua', 'maradhi', 'hayo', 'na', 'kuisafirisha', 'jijini', 'Nairobi', 'kwa', 'uchunguzi', 'zaidi', 'ili', 'kubaini', 'ni', 'ugonjwa', 'gani', 'hasa', '.', 'Kwa', 'sasa', ',', 'aliwataka', 'wenye', 'punda', 'kuwafikisha', 'wanyama', 'wao', 'katika', 'kituo', 'cha', 'matibabu', 'ya', 'punda', 'mjini', 'Lamu', 'kwa', 'uangalizi', 'zaidi', 'endapo', 'watashuhudia', 'wakipumua', 'kwa', 'shida', '.', 'Bw', 'Abdallah', 'Awadh', 'ambaye', 'humiliki', 'punda', 'na', 'ni', 'mshauri', 'wa', 'kituo', 'cha', 'matibabu', 'ya', 'punda', 'katika', 'kisiwa', 'cha', 'Lamu', 'alieleza', 'hofu', 'yake', 'kuhusiana', 'na', 'maradhi', 'hayo', '.', 'Bw', 'Awadh', 'alisema', 'wako', 'tayari', 'kushirikiana', 'na', 'matabibu', 'wa', 'mifugo', 'ili', 'kuona', 'kwamba', 'wanapata', 'usaidizi', 'wa', 'kimatibabu', 'kwa', 'punda', 'wao', 'ili', 'wasiangamie', '.', '‘', 'Mimi', 'niko', 'na', 'zaidi', 'ya', 'punda', '10', 'katika', 'boma', 'langu', '.', 'Nimeshuhudia', 'karibu', 'punda', 'watatu', 'wangu', 'wakiwa', 'na', 'shida', 'ya', 'kupumua', 'juma', 'hili', '.', 'Wengine', 'wamekuwa', 'wakitoa', 'makamasi', 'mengi', '.', 'Nilidhani', 'ni', 'homa', 'tu', 'ya', 'kawaida', 'lakini', 'nashukuru', 'kwamba', 'idara', 'ya', 'mifugo', 'iko', 'mbioni', 'kutambua', 'aina', 'hii', 'ya', 'ugonjwa', 'kwa', 'punda', 'wetu', ',', '’', 'akasema', 'Bw', 'Awadh', '.', 'Mmiliki', 'mwingine', 'wa', 'punda', ',', 'Bw', 'Salim', 'Dere', 'ambaye', 'ni', 'mmiliki', 'wa', 'punda', 'kisiwani', 'Lamu', 'aliomba', 'zoezi', 'lililopangwa', 'la', 'kuwachanja', 'punda', 'wao', 'kuharakishwa', 'ili', 'kuwakinga', 'dhidi', 'ya', 'maradhi', ',', 'ikiwemo', 'yale', 'yanayoibuka', '.', '“', 'Ombi', 'langu', 'ni', 'kwamba', 'maradhi', 'haya', 'yakabiliwe', 'na', 'kudhibitiwa', 'haraka', 'kabla', 'hatujashuhudia', 'punda', 'wetu', 'wakifariki', '.', 'Bado', 'hatujasahau', 'hasara', 'tuliyomadiria', 'wakati', 'punda', 'wetu', 'walipofariki', 'katika', 'hali', 'tatanishi', 'mwaka', '2013', ',', '”', 'akasema', 'Bw', 'Dere', '.', 'Haya', 'yanajiri', 'wakati', 'ambapo', 'idara', 'ya', 'mifugo', 'imetangaza', 'mpango', 'wa', 'kuwachanja', 'karibu', 'punda', '4,000', 'Lamu', 'dhidi', 'ya', 'kichaa', 'na', 'maradhi', 'mengine', '.', 'Shughuli', 'hiyo', 'imepangwa', 'kutekelezwa', 'juma', 'lijalo', '.', '‘', 'Sherehe', '’', 'kwa', 'walevi', 'baa', '1,800', 'zikitakiwa', 'kuuza', 'pombe', 'yao', 'yote', 'leo', 'WAMILIKI', 'wa', 'zaidi', 'ya', 'baa', '1,800', 'katika', 'Kaunti', 'ya', 'Nyandarua', 'ambao', 'leseni', 'zao', 'za', 'kibiashara', 'hazikuongezewa', 'muda', ',', 'wametakiwa', 'kuuza', 'pombe', 'yao', 'ya', 'Sh100', 'milioni', 'kufikia', 'leo', 'jioni', 'kabla', 'ya', 'biashara', 'zao', 'kufungwa', 'kesho', 'Jumanne', '.', 'Baada', 'ya', 'ukaguzi', ',', 'Kamati', 'ya', 'Kudhibiti', 'Mauzo', 'ya', 'Vileo', 'kwenye', 'Kaunti', 'ya', 'Nyandarua', 'ilitoa', 'upya', 'leseni', 'kwa', 'baa', '600', 'pekee', 'kati', 'ya', '900', 'ambayo', 'wamiliki', 'wao', 'walituma', 'maombi', 'ili', 'kuendelea', 'kufanya', 'biashara', 'hiyo', '.', 'Kaunti', 'hiyo', 'ina', 'baa', '2,400', 'ila', 'nyingi', 'zimekuwa', 'zikiendeleza', 'biashara', 'hiyo', 'kiharamu', 'bila', 'kufuata', 'sheria', '.', 'Wamiliki', 'wa', 'baa', 'hizo', 'pia', 'walikataa', 'kutuma', 'maombi', 'ya', 'leseni', 'mpya', 'wakilalamikia', 'masharti', 'makali', 'yaliyowekwa', 'na', 'kamati', 'ya', 'kaunti', '.', 'Wanafunzi', '20,000', 'waahidiwa', 'vitambulisho', 'SERIKALI', 'imeanza', 'mpango', 'wa', 'kutoa', 'zaidi', 'ya', 'vitambulisho', '20,000', 'kwa', 'wanafunzi', 'kote', 'nchini', ',', 'huku', 'shughuli', 'za', 'kuwasajili', 'wapigakura', 'zikiingia', 'siku', 'ya', 'tatu', 'leo', 'Jumatano', '.', 'Kwenye', 'mpango', 'huo', 'utakaoendeshwa', 'kwa', 'siku', '30', ',', 'maafisa', 'kutoka', 'Idara', 'ya', 'Kusimamia', 'Huduma', 'za', 'Umma', 'katika', 'Wizara', 'ya', 'Usalama', 'wa', 'Ndani', ',', 'watakuwa', 'wakienda', 'katika', 'shule', 'mbalimbali', 'za', 'upili', 'kote', 'nchini', 'kutoa', 'vitambulisho', 'hivyo', 'kwa', 'wanafunzi', 'ambao', 'wamefikisha', 'umri', 'wa', 'miaka', '18', '.', 'Kulingana', 'na', 'Msimamizi', 'Mkuu', 'wa', 'Usajili', 'wa', 'Watu', 'katika', 'Kaunti', 'ya', 'Murang', '’', 'a', ',', 'Mugira', 'Munene', ',', 'shughuli', 'hiyo', 'itaendeshwa', 'kati', 'ya', 'Oktoba', '18', 'na', 'Novemba', '17', '.', 'Idara', 'hiyo', 'inasema', 'imewaandikia', 'barua', 'walimu', 'wakuu', 'wa', 'shule', 'za', 'upili', ',', 'kuwarai', 'wanafunzi', 'ambao', 'wamefikisha', 'umri', 'huo', 'kubeba', 'vyeti', 'vyao', 'vya', 'kuzaliwa', 'na', 'vitambulisho', 'vya', 'wazazi', 'wao', 'watakaporejea', 'shuleni', 'kuanzia', 'Jumatatu', 'ijayo', '.', 'Njama', 'ya', 'Uhuru', 'kubomoa', 'Ruto', 'yafichuka', 'MIKAKATI', 'ya', 'Rais', 'Uhuru', 'Kenyatta', 'ya', 'kubomoa', 'umaarufu', 'ambao', 'Naibu', 'Wake', 'William', 'Ruto', 'amejenga', 'eneo', 'la', 'Mlima', 'Kenya', 'imeanza', 'kubainika', 'na', 'kuzaa', 'matunda', '.', 'Wadadisi', 'wanasema', 'kwamba', 'japo', 'Dkt', 'Ruto', 'alionekana', 'kuteka', 'eneo', 'la', 'Mlima', 'Kenya', 'kupitia', 'kampeni', 'yake', 'ya', 'hasla', 'ambayo', 'amekuwa', 'akiendeleza', 'kwa', 'miaka', 'minne', 'iliyopita', ',', 'Rais', 'Uhuru', 'Kenyatta', 'ameanza', 'kukunjua', 'kucha', 'zake', 'katika', 'juhudi', 'za', 'kumzima', '.', 'Wawili', 'hao', 'walitofautiana', 'Rais', 'Kenyatta', 'aliposalimiana', 'na', 'kiongozi', 'wa', 'ODM', 'Raila', 'Odinga', 'na', 'mchakato', 'wa', 'kubadilisha', 'katiba', 'ambao', 'walianzisha', '.', 'Washirika', 'wa', 'Rais', 'Kenyatta', 'wamekuwa', 'wakimlaumu', 'Dkt', 'Ruto', 'kwa', 'kumdharau', 'kiongozi', 'wa', 'nchi', 'na', 'kumsawiri', 'kama', 'aliyeshindwa', 'kusaidia', 'ngome', 'yake', 'ya', 'kisiasa', 'tangu', 'handisheki', 'yake', 'na', 'Bw', 'Odinga', '.', 'Kupitia', 'kampeni', 'yake', ',', 'Dkt', 'Ruto', 'alionekana', 'kugawanya', 'eneo', 'la', 'Mlima', 'Kenya', 'huku', 'akimlaumu', 'Rais', 'Kenyatta', 'kwa', 'kutekeleza', 'ajenda', 'za', 'serikali', 'ya', 'Jubilee', 'kwa', 'kuzingatia', 'mageuzi', 'ya', 'katiba', 'ili', 'kumsaidia', 'Bw', 'Odinga', 'kushinda', 'uchaguzi', 'wa', 'urais', 'wa', 'mwaka', 'ujao', '.', 'Wadadisi', 'wa', 'siasa', 'wanasema', 'kwamba', 'wakati', 'Dkt', 'Ruto', 'alikuwa', 'akichafua', 'ngome', 'yake', 'ya', 'Mlima', 'Kenya', 'akijisawiri', 'kama', 'anayefaa', 'kumrithi', ',', 'Rais', 'Kenyatta', 'alikuwa', 'akisuka', 'mikakati', 'ya', 'kuzima', 'umaarufu', 'wake', 'sio', 'tu', 'eneo', 'la', 'Mlima', 'Kenya', 'bali', 'kote', 'nchini', '.', '“', 'Bila', 'kujitokeza', 'hadharani', 'kuzuru', 'eneo', 'la', 'Mlima', 'Kenya', ',', 'Rais', 'Kenyatta', 'alihakikisha', 'kuwa', 'ametekeleza', 'miradi', 'yake', 'na', 'kuanza', 'kampeni', 'chini', 'ya', 'maji', 'ya', 'kutetea', 'utenda', 'kazi', 'wake', '.', 'Miradi', 'mingi', 'imekamilika', 'na', 'anatumia', 'inayoendelea', 'kumbomoa', 'Dkt', 'Ruto', 'kwa', 'kuambia', 'wakazi', 'wa', 'Mlima', 'Kenya', 'kupitia', 'washirika', 'wake', 'kwamba', 'akimrithi', 'hataikamilisha', 'au', 'kulinda', 'maslahi', 'yao', ',', '”', 'asema', 'mdadisi', 'wa', 'siasa', 'Ibrahim', 'Kamau', '.', 'DHARAU', 'Bw', 'Kamau', 'anasema', 'katika', 'kampeni', 'yake', 'ya', 'chini', 'ya', 'maji', ',', 'Rais', 'Kenyatta', 'anamsawiri', 'Dkt', 'Ruto', 'kama', 'mtu', 'mwenye', 'dharau', 'anayepuuza', 'viongozi', 'mashuhuri', 'wa', 'jamii', 'na', 'kuchochea', 'wakazi', 'dhidi', 'yao', '.', 'Dkt', 'Ruto', 'amekuwa', 'akidai', 'kwamba', 'anachojali', 'ni', 'kuinua', 'maisha', 'ya', 'wakazi', 'na', 'sio', 'kuzungumza', 'na', 'viongozi', 'kuhusu', 'nyadhifa', 'serikalini', '.', '“', 'Katika', 'mbinu', 'zake', ',', 'Rais', 'Kenyatta', 'na', 'washirika', 'wake', 'wanaeleza', 'wakazi', 'kuwa', 'Dkt', 'Ruto', 'ni', 'mwongo', 'kwa', 'vile', 'hawezi', 'kuwasaidia', 'bila', 'kuwa', 'na', 'viongozi', 'wa', 'kushikilia', 'nyadhifa', 'za', 'juu', 'serikalini', 'kutoka', 'eneo', 'la', 'Mlima', 'Kenya', '.', 'Hii', 'imeanza', 'na', 'kauli', 'za', 'Rais', 'kuwa', 'naibu', 'wake', 'alimhujumu', 'katika', 'kipindi', 'chake', 'cha', 'kwanza', 'uongozini', 'hadi', 'aliposalimiana', 'na', 'Bw', 'Odinga', 'nchi', 'ikatulia', 'na', 'akaweza', 'kufanikisha', 'mengi', ',', '”', 'aeleza', 'Karanja', '.', 'Wadadisi', 'wanasema', 'alichofanya', 'Rais', 'ni', 'kumuacha', 'Dkt', 'Ruto', 'kujipiga', 'kifua', 'kwanza', 'kabla', 'ya', 'kuanza', 'kuchomoa', 'silaha', 'zake', 'zinazoonekana', 'kufaulu', '.', 'Kulingana', 'na', 'mchanganuzi', 'wa', 'siasa', 'Geff', 'Kamwanah', ',', 'mikakati', 'ya', 'Rais', 'ya', 'kumwangamiza', 'Dkt', 'Ruto', 'ilianza', 'kubainika', 'mwaka', 'mmoja', 'kabla', 'ya', 'uchaguzi', 'alipokutanisha', 'viongozi', 'wa', 'upinzani', 'kuwarai', 'wamuunge', 'Bw', 'Odinga', '.', '“', 'Kwa', 'muda', 'wote', 'tangu', '2018', ',', 'Rais', 'Kenyatta', 'amekuwa', 'akisuka', 'mipango', 'ya', 'urithi', 'wake', 'kwa', 'msingi', 'mmoja', 'tu', 'wa', 'kuacha', 'nchi', 'ikiwa', 'imeungana', '.', 'Hata', 'hivyo', ',', 'kuasi', 'kwa', 'Dkt', 'Ruto', 'hasa', 'kwa', 'kupinga', 'mchakato', 'wa', 'mageuzi', 'ya', 'katiba', 'kulimfungua', 'macho', 'zaidi', 'na', 'ndio', 'sababu', 'anampiga', 'vita', 'kwa', 'kudai', 'anagawanya', 'Wakenya', ',', '”', 'asema', '.', 'Rais', 'Kenyatta', 'na', 'washirika', 'wake', 'wa', 'kisiasa', 'wamenukuliwa', 'mara', 'kadhaa', 'akisema', 'kuwa', 'hataachia', 'nchi', 'mtu', 'asiyeweza', 'kuunganisha', 'Wakenya', '.', 'Kulingana', 'na', 'Bw', 'Kamwanah', ',', 'mikakati', 'mingine', 'ambayo', 'Rais', 'Kenyatta', 'amekuwa', 'akisuka', 'ni', 'kupitia', 'mabwenyenye', ',', 'wazee', 'na', 'watu', 'mashuhuri', 'kutoka', 'eneo', 'la', 'Mlima', 'Kenya', 'ambao', 'wana', 'ushawishi', 'mkubwa', 'mashinani', '.', 'Mnamo', 'Jumanne', 'wiki', 'hii', ',', 'mabwenyenye', 'hao', 'waliokutana', 'na', 'Bw', 'Odinga', 'katika', 'hoteli', 'ya', 'Safari', 'Park', ',', 'Nairobi', 'walifichua', 'kuwa', 'wamekuwa', 'wakizungumza', 'na', 'Rais', 'Kenyatta', 'kuhusu', 'siasa', 'za', 'urithi', 'wake', '.', 'Naibu', 'mwenyekiti', 'wa', 'wakfu', 'wa', 'Mlima', 'Kenya', ',', 'Bw', 'Titus', 'Ibui', 'alisema', 'kuwa', 'Rais', 'Kenyatta', 'aliwataka', 'wamshauri', 'kuhusu', 'siasa', 'za', 'urithi', 'na', 'wakaweka', 'wazi', 'kuwa', 'wangetaka', 'mtu', 'atakayejali', 'na', 'kulinda', 'maslahi', 'ya', 'eneo', 'lao', ',', 'kukamilisha', 'miradi', 'ya', 'maendeleo', 'na', 'kuunganisha', 'nchi', '.', 'Bw', 'Kamau', 'anasema', 'kauli', 'za', 'waliozungumza', 'katika', 'hafla', 'ya', 'mabwanyenye', 'hao', 'na', 'Bw', 'Odinga', 'yaliwakilisha', 'msimamo', 'wa', 'Rais', 'Kenyatta', '.', 'Duru', 'zinasema', 'kuwa', 'moja', 'ya', 'silaha', 'kali', 'ambayo', 'Rais', 'Kenyatta', 'ameficha', 'ni', 'kuunganisha', 'vigogo', 'wa', 'kisiasa', 'walio', 'na', 'ushawishi', 'maeneo', 'tofauti', 'nchini', 'kwenye', 'uchaguzi', 'mkuu', 'ujao', '.', 'Mnamo', 'Alhamisi', ',', 'wanasiasa', 'hao', 'walihudhuria', 'kongamano', 'kuu', 'la', 'kitaifa', 'la', 'wajumbe', 'wa', 'chama', 'cha', 'Kanu', 'ambalo', 'mgeni', 'wa', 'heshima', 'alikuwa', 'ni', 'Bw', 'Odinga', '.', '“', 'Juhudi', 'za', 'kuunganisha', 'vinara', 'wa', 'vyama', 'vya', 'kisiasa', 'chini', 'ya', 'Bw', 'Odinga', 'hazijakoma', '.', 'Zinaendelea', 'chini', 'ya', 'maji', 'japo', 'kila', 'mmoja', 'anaonekana', 'kujipanga', 'kivyake', '.', 'Rais', 'hajachoka', 'kuwasihi', 'kuungana', 'ili', 'kumshinda', 'Dkt', 'Ruto', ',', '”', 'asema', 'mbunge', 'mmoja', 'mshirika', 'wa', 'Rais', 'Kenyatta', '.', 'Utekaji', 'nyara', 'uliozidi', 'Mlimani', 'wazua', 'hofu', 'HOFU', 'imetanda', 'katika', 'Kaunti', 'za', 'Nyeri', ',', 'Meru', ',', 'Laikipia', 'na', 'Nyandarua', 'kufuatia', 'ongezeko', 'la', 'visa', 'vya', 'watu', 'kutekwa', 'nyara', 'mchana', 'katika', 'hali', 'ya', 'kutatanisha', 'na', 'watu', 'wenye', 'silaha', '.', 'Uchunguzi', 'wa', 'Taifa', 'Leo', 'umebaini', 'kuwa', 'watu', 'wasiopungua', '15', 'wametekwa', 'nyara', 'katika', 'kaunti', 'hizo', 'ndani', 'ya', 'miezi', 'minne', 'iliyopita', '.', 'Miongoni', 'mwa', 'waliotekwa', 'nyara', 'ni', 'afisa', 'wa', 'ujasusi', 'wa', 'Shirika', 'la', 'Wanyamapori', 'nchini', '(', 'KWS', ')', '.', 'Siku', 'moja', 'baada', 'ya', 'Bw', 'Mwiti', 'kutekwa', 'nyara', ',', 'Isaac', 'Mwangi', 'na', 'mfanyakazi', 'wake', 'Wilson', 'Mwangi', 'walitekwa', 'nyara', '.', 'Bw', 'Isaac', 'alitekwa', 'nyara', 'akiwa', 'na', 'mkewe', 'na', 'mwana', 'wao', 'katika', 'eneo', 'la', 'Kianugu', '.', 'Elijah', 'Karimi', 'alikuwa', 'mwathiriwa', 'wa', 'nne', 'kutekwa', 'nyara', '.', 'Alitekwa', 'nyara', 'mnamo', 'Juni', '28', 'katika', 'mji', 'wa', 'Naromoru.Uchunguzi', 'ulibaini', 'kuwa', 'kati', 'ya', 'tarehe', 'Juni', '30', 'na', 'Agosti', '28', ',', 'Samuel', 'Ngacha', ',', 'Bernard', 'Wanjohi', ',', 'Peterson', 'Mutwiri', ',', 'Peter', 'Mugweru', ',', 'Patrick', 'Maina', 'na', 'afisa', 'wa', 'KWS', ',', 'Francis', 'Isaack', 'Oyaro', 'walitekwa', 'nyara', 'kwa', 'njia', 'sawa', '.', 'Shirika', 'la', 'Huduma', 'za', 'Feri', 'nchini', '(', 'KFS', ')', 'lilikuwa', 'limetetea', 'utumizi', 'wa', 'Mpesa', 'kupokea', 'ada', 'za', 'magari', 'kuvuka', 'feri', 'na', 'kusema', 'ulinuiwa', 'kutimiza', 'mwongozo', 'wa', 'serikali', 'kuu', 'unaohimiza', 'mashirika', 'kutopokea', 'pesa', 'taslimu', 'wakati', 'wa', 'utoaji', 'wa', 'huduma', '.', 'KFS', 'ilisema', 'serikali', 'ilitangaza', 'mwongozo', 'huo', 'kama', 'sehemu', 'za', 'mbinu', 'za', 'kuepusha', 'ueneaji', 'wa', 'virusi', 'vya', 'corona', '.', 'Zabuni', 'ya', 'kukusanya', 'ada', 'hizo', 'ilipeanwa', 'kwa', 'kampuni', 'ya', 'Safaricom', 'na', 'Benki', 'ya', 'National', 'mnamo', 'Mei', ',', '2020', '.', 'Shirika', 'hilo', 'lilishtaki', 'KFS', ',', 'Waziri', 'wa', 'Uchukuzi', 'na', 'Miundomsingi', ',', 'na', 'Mwanasheria', 'Mkuu', 'likitaka', 'watumiaji', 'wa', 'feri', 'wakubaliwe', 'kutumia', 'mbinu', 'nyingine', 'za', 'kulipia', 'ada', 'ikiwemo', 'pesa', 'taslimu', 'na', 'kupitia', 'kwa', 'mifumo', 'mingine', 'ya', 'malipo', 'ya', 'kidijitali', '.', 'Wakazi', 'walia', 'daraja', 'bovu', 'na', 'ahadi', 'hewa', 'WAKAZI', 'wa', 'eneo', 'la', 'Kikoneni', ',', 'Kaunti', 'ya', 'Kwale', ',', 'wanaishi', 'kwa', 'hofu', 'ya', 'kujeruhiwa', 'au', 'hata', 'kuangamia', 'kila', 'wanapovuka', 'daraja', 'bovu', 'linalounganisha', 'maeneobunge', 'ya', 'Lungalunga', 'na', 'Msambweni', '.', 'Daraja', 'hilo', 'lililojengwa', 'kiholela', 'kwa', 'mbao', 'limechukua', 'zaidi', 'ya', 'miaka', 'tisa', 'kukarabatiwa', 'tangu', 'lilipoharibiwa', 'na', 'mvua', 'kubwa.Mmoja', 'wa', 'wakazi', ',', 'Bi', 'Asha', 'Hassan', ',', 'alieleza', 'jinsi', 'katika', 'mwaka', 'wa', '2019', ',', 'mtoto', 'wake', 'alinusurika', 'kifo', 'akakosa', 'kukamilisha', 'Mtihani', 'wa', 'Kitaifa', 'wa', 'Shule', 'za', 'Msingi', '(', 'KCPE', ')', 'baada', 'ya', 'kuanguka', 'akivuka', 'daraja', 'asubuhi', 'alipokuwa', 'akienda', 'shuleni', 'kufanya', 'mitihani', '.', '“', 'Aliokolewa', 'na', 'wanakijiji', 'na', 'ninafurahi', 'kwamba', 'alitoka', 'hai', ',', '”', 'aliambia', 'Taifa', 'Leo', 'katika', 'mahojiano', '.', 'Daraja', 'la', 'Mwachande', 'huwa', 'linaunganisha', 'watu', 'wanaotoka', 'Kinango', ',', 'Lungalunga', 'na', 'Vanga', '.', 'Pia', ',', 'karibu', 'vijiji', 'saba', 'hulitegemea', '.', 'Kutokana', 'na', 'ulegevu', 'wake', ',', 'wakazi', 'huwa', 'wanalazimika', 'kulifanyia', 'ukarabati', 'wenyewe', 'ili', 'wajiepushie', 'ajali', '.', 'Hata', 'hivyo', ',', 'hatari', 'zaidi', 'huwa', 'wakati', 'wa', 'msimu', 'wa', 'mvua', 'kwani', 'huwa', 'inahofiwa', 'daraja', 'linaweza', 'kusombwa', 'na', 'maji', '.', 'Wakazi', 'walijitokeza', 'kuwalaumu', 'viongozi', 'wa', 'kisiasa', 'wa', 'Kwale', 'kwa', 'kutotimiza', 'ahadi', 'zao.Kulingana', 'na', 'wakazi', ',', 'takriban', 'watu', 'watatu', 'wamewahi', 'kushambuliwa', 'na', 'mamba', 'eneo', 'hilo', 'wakivuka', 'daraja', 'hilo', '.', 'Walisema', 'biashara', 'na', 'hata', 'elimu', 'zimeathirika', 'pakubwa', 'kutokana', 'na', 'hali', 'ya', 'daraja', 'hilo', ',', 'huku', 'uchumi', 'wa', 'eneo', 'hilo', 'kuathiriwa', 'na', 'kuongezeka', 'kwa', 'viwango', 'vya', 'umasikini', '.', '“', 'Wakati', 'wa', 'dharura', ',', 'kawaida', 'tunalazimika', 'kutembea', 'kwa', 'saa', 'nyingi', 'ili', 'kuepuka', 'daraja', 'hilo', 'ndipo', 'tupate', 'huduma', 'za', 'afya', '.', 'Hali', 'huwa', 'mbaya', 'zaidi', 'wakati', 'wa', 'mvua', 'kwa', 'sababu', 'wanawake', 'wajawazito', 'hawawezi', 'kuvuka', 'ili', 'kuenda', 'kujifungua', ',', '”', 'alisema', ',', 'akihimiza', 'serikali', 'kutoa', 'suluhisho', 'la', 'kudumu', '.', 'Hata', 'hivyo', ',', 'Naibu', 'Kamishna', 'wa', 'Kaunti', 'ya', 'Kwale', 'eneo', 'la', 'Lungalunga', ',', 'Bw', 'Hussein', 'Hussein', 'aliwaomba', 'wakazi', 'wawe', 'watulivu', 'akisema', 'serikali', 'tayari', 'ishapeana', 'kandarasi', 'ya', 'ujenzi', 'ambao', 'utaanza', 'hivi', 'karibuni', '.', 'Aliwaomba', 'wananchi', 'wasitumiwe', 'na', 'wanasiasa', 'wakati', 'huu', 'wa', 'kampeni', 'kusababisha', 'virugu', 'baada', 'ya', 'baadhi', 'ya', 'wakazi', 'kuandamana', 'wakielekea', 'afisi', 'za', 'mbunge', 'wa', 'Lungalunga', ',', 'Bw', 'Khatib', 'Mwashetani', 'kuwasilisha', 'malalamiko', 'yao', '.', 'Hata', 'hivyo', ',', 'wakazi', 'walilalamika', 'kuwa', 'wameahidiwa', 'mara', 'nyingi', 'kuhusu', 'ujenzi', 'wa', 'daraja', 'hilo', 'ila', 'hawajaona', 'vitendo', '.']\n",
      "\n",
      " Number of Words:  2776\n"
     ]
    }
   ],
   "source": [
    "file=\"21oct6.txt\"\n",
    "\n",
    "# calling the function and storing the contents in a text variable \n",
    "text1 = get_document(\"https://taifaleo.nation.co.ke/benki-ya-ncba-yazindua-tawi-la-ruiru/\")\n",
    "text2 = get_document(\"https://taifaleo.nation.co.ke/vilio-serikali-inunue-mifugo-iliyo-hatarini/\")\n",
    "text3 = get_document(\"https://taifaleo.nation.co.ke/corona-ya-punda-yalipuka-na-kuzua-hofu-kubwa-lamu/\")\n",
    "text5 = get_document(\"https://taifaleo.nation.co.ke/wanafunzi-20000-waahidiwa-vitambulisho/\")\n",
    "text7 = get_document(\"https://taifaleo.nation.co.ke/utekaji-nyara-uliozidi-mlimani-wazua-hofu/\")\n",
    "text8 = get_document(\"https://taifaleo.nation.co.ke/wavukaji-feri-kuendelea-kulipia-kupitia-kwa-mpesa/\")\n",
    "text9 = get_document(\"https://taifaleo.nation.co.ke/wakazi-walia-daraja-bovu-na-ahadi-hewa/\")\n",
    "\n",
    "# calling the store_ document function \n",
    "store_document(doc=text1,name=file)\n",
    "store_document(doc=text2,name=file)\n",
    "store_document(doc=text3,name=file)\n",
    "store_document(doc=text4,name=file)\n",
    "store_document(doc=text5,name=file)\n",
    "store_document(doc=text6,name=file)\n",
    "store_document(doc=text7,name=file)\n",
    "store_document(doc=text8,name=file)\n",
    "store_document(doc=text9,name=file)\n",
    "\n",
    "\n",
    "#add the words in this file to the total_corpus_words, to keep count of the number of words in the corpus\n",
    "total_corpus_words+=total_words(file)"
   ]
  },
  {
   "cell_type": "code",
   "execution_count": 37,
   "metadata": {},
   "outputs": [
    {
     "data": {
      "text/plain": [
       "764056"
      ]
     },
     "execution_count": 37,
     "metadata": {},
     "output_type": "execute_result"
    }
   ],
   "source": [
    "total_corpus_words"
   ]
  },
  {
   "cell_type": "code",
   "execution_count": 44,
   "metadata": {},
   "outputs": [
    {
     "name": "stdout",
     "output_type": "stream",
     "text": [
      "['Mlipuko', 'wa', 'ugonjwa', 'wa', 'kuhara', 'wazua', 'hofu', 'vijijini', 'Boni', 'MLIPUKO', 'wa', 'maradhi', 'ya', 'kuendesha', 'na', 'kutapika', 'umeibuka', 'miongoni', 'mwa', 'watoto', 'kwenye', 'vijiji', 'vya', 'msitu', 'wa', 'Boni', ',', 'Kaunti', 'ya', 'Lamu', '.', 'Takriban', 'watoto', '200', 'wameripotiwa', 'kuugua', 'maradhi', 'hayo', 'yanayokisiwa', 'kuchangiwa', 'na', 'matumizi', 'ya', 'maji', 'machafu', 'katika', 'vijiji', 'vya', 'Kiangwe', ',', 'Mangai', ',', 'Milimani', 'na', 'Basuba', '.', 'Waziri', 'wa', 'Afya', 'katika', 'Kaunti', 'ya', 'Lamu', ',', 'Bi', 'Anne', 'Gathoni', ',', 'alithibitisha', 'maradhi', 'hayo', 'ya', 'lakini', 'akasema', 'idara', 'yake', 'tayari', 'imedhibiti', 'hali', 'hiyo', '.', '“', 'Ni', 'kweli', '.', 'Kumekuwa', 'na', 'visa', 'vya', 'kuharisha', 'na', 'kutapika', 'miongoni', 'mwa', 'watoto', 'eneo', 'la', 'Msitu', 'wa', 'Boni', '.', 'Tunaendelea', 'kuidhibiti', 'hali', 'hiyo', ',', '”', 'akasema', 'Bi', 'Gathoni', '.', 'Diwani', 'wa', 'Wadi', 'ya', 'Basuba', ',', 'Barissa', 'Deko', 'aliiomba', 'serikali', 'ya', 'kaunti', 'ya', 'Lamu', 'kufanya', 'mpango', 'wa', 'haraka', 'kupeleka', 'wahudumu', 'wa', 'afya', 'eneo', 'hilo', 'ili', 'kusaidia', 'kuwatibu', 'wakazi', ',', 'hasa', 'watoto', 'ambao', 'ndio', 'walioathirika', 'zaidi', 'Bw', 'Deko', 'pia', 'aliisisitizia', 'idara', 'ya', 'afya', 'ya', 'umma', 'kusambazia', 'wakazi', 'dawa', 'za', 'kusafisha', 'maji', 'eneo', 'hilo', '.', '“', 'Tunaomba', 'madaktari', 'waletwe', 'hapa', '.', 'Pia', 'wasambaze', 'dawa', 'za', 'kutibu', 'maji', 'vijijini', 'ili', 'kizuia', 'mlipuko', 'zaidi', 'wa', 'maradhi', ',', '”', 'akasema', 'Bw', 'Deko', '.', 'Kenya', 'kuadhimisha', 'Siku', 'ya', 'Utamaduni', 'SERIKALI', 'imetangaza', 'Jumatatu', 'kuwa', 'siku', 'ya', 'mapumziko', ',', 'Kenya', 'ikiadhimisha', 'kwa', 'mara', 'ya', 'kwanza', 'Siku', 'ya', 'Utamaduni', 'Oktoba', '10', ',', '2021', '.', 'Waziri', 'wa', 'Usalama', ',', 'Dkt', 'Fred', 'Matiang', '’', 'i', 'alisema', 'kuwa', 'Jumatatu', 'itakuwa', 'siku', 'ya', 'mapumziko', 'kwa', 'sababu', 'siku', 'ya', 'Utamaduni', 'inayostahili', 'kusherehekewa', 'Oktoba', '10', ',', 'ni', 'Jumapili', '.', '“', 'Hii', 'ndio', 'siku', 'ya', 'kwanza', 'tunasherehekea', 'siku', 'ya', 'Utamaduni', 'nchini', '.', 'Tunafaa', 'kuitumia', 'siku', 'hiyo', 'kusisitiza', 'hitaji', 'la', 'raia', 'wote', 'kutambua', 'na', 'kusherehekea', 'utamaduni', 'huu', 'tajiri', 'wa', 'Kenya', 'kwa', 'njia', 'ambayo', 'inakuza', 'umoja', ',', 'mshikamano', 'wa', 'kitaifa', 'na', 'maendeleo', 'ya', 'kiuchumi', 'nchini', 'Kenya', ',', '”', 'akasema', 'Dkt', 'Matiangi', '.', 'Awali', ',', 'siku', 'hii', 'ilikuwa', 'ikiadhimishwa', 'kama', 'Moi', 'Dei', 'kwa', 'heshima', 'ya', 'aliyekuwa', 'rais', 'wa', 'pili', 'wa', 'Kenya', ',', 'Daniel', 'arap', 'Moi', '.']\n",
      "\n",
      " Number of Words:  318\n"
     ]
    }
   ],
   "source": [
    "file=\"21oct7.txt\"\n",
    "\n",
    "# calling the function and storing the contents in a text variable \n",
    "text1 = get_document(\"https://taifaleo.nation.co.ke/mlipuko-wa-ugonjwa-wa-kuhara-wazua-hofu-vijijini-boni/\")\n",
    "text3 = get_document(\"https://taifaleo.nation.co.ke/kenya-kuadhimisha-siku-ya-utamaduni/\")\n",
    "\n",
    "# calling the store_ document function \n",
    "store_document(doc=text1,name=file)\n",
    "store_document(doc=text3,name=file)\n",
    "\n",
    "#add the words in this file to the total_corpus_words, to keep count of the number of words in the corpus\n",
    "total_corpus_words+=total_words(file)"
   ]
  },
  {
   "cell_type": "code",
   "execution_count": 45,
   "metadata": {},
   "outputs": [
    {
     "data": {
      "text/plain": [
       "764374"
      ]
     },
     "execution_count": 45,
     "metadata": {},
     "output_type": "execute_result"
    }
   ],
   "source": [
    "total_corpus_words"
   ]
  },
  {
   "cell_type": "code",
   "execution_count": 50,
   "metadata": {},
   "outputs": [
    {
     "name": "stdout",
     "output_type": "stream",
     "text": [
      "['Jaji', 'Eric', 'Ogola', 'alimwagiza', 'Bw', 'Joho', ',', 'Katibu', 'wa', 'Kaunti', ',', 'na', 'Waziri', 'wa', 'Ardhi', ',', 'Makao', 'na', 'Mipango', 'ya', 'Ujenzi', 'katika', 'kaunti', ',', 'Bw', 'Tawfiq', 'Balala', 'kuwasilisha', 'stakabadhi', 'hizo', 'kwa', 'mashirika', 'matatu', 'ya', 'kijamii', 'kabla', 'ya', 'siku', '30', 'kukamilika', '.', 'Mashirika', 'ya', 'kutetea', 'haki', 'za', 'kijamii', 'ya', 'Legal', 'Advice', 'Centre', ',', 'Haki', 'Yetu', 'St', 'Patrick', '’', 's', 'na', 'Transparency', 'International', 'yalikuwa', 'yamewasilisha', 'ombi', 'mahakamani', 'kutaka', 'kandarasi', 'na', 'makubaliano', 'kati', 'ya', 'kaunti', 'na', 'kampuni', 'hiyo', 'ya', 'Bw', 'Shahbal', 'ziekwe', 'wazi', 'kwa', 'umma', '.', '“', 'Baada', 'ya', 'kuzingatia', 'utetezi', 'wa', 'washtakiwa', ',', 'sijaridhishwa', 'kuwa', 'wana', 'nia', 'njema', 'kuhusiana', 'na', 'masuala', 'ya', 'kuwasilisha', 'maelezo', 'ya', 'makubaliano', 'yanayohusu', 'mradi', 'wa', 'Buxton', ',', '”', 'akasema', 'Jaji', 'Ogola', '.', 'Alizidi', 'kusema', 'kuwa', ',', 'takriban', 'mwaka', 'mmoja', 'baada', 'ya', 'kampuni', 'na', 'kaunti', 'kuweka', 'makubaliano', ',', 'Bw', 'Balala', 'alidanganya', 'na', 'kupotosha', 'mahakama', 'kuwa', 'shughuli', 'ya', 'utoaji', 'zabuni', 'kuhusiana', 'na', 'mradi', 'wa', 'ujenzi', 'Buxton', 'ilikuwa', 'haijakamilishwa', 'na', 'hivyo', 'basi', 'maombi', 'ya', 'kutaka', 'maelezo', 'kuhusu', 'zabuni', 'hiyo', 'hayangeweza', 'kutekelezwa', '.', 'Katika', 'mwaka', 'wa', '2016', ',', 'mashirika', 'hayo', 'yalikuwa', 'yamewasilisha', 'kesi', 'mahakamani', 'kupinga', 'utekelezaji', 'wa', 'ujenzi', 'wa', 'nyumba', 'hizo', 'za', 'kisasa', 'yakisema', 'hapakuwa', 'na', 'juhudi', 'za', 'kuhusisha', 'umma', 'inavyotakikana', 'kisheria', '.', 'Kesi', 'hiyo', 'sasa', 'itatajwa', 'Novemba', '11', ',', '2021', ',', 'ambapo', 'mahakama', 'inatarajiwa', 'kuthibitisha', 'kama', 'maagizo', 'yaliyotolewa', 'yatakuwa', 'yametekelezwa', ',', 'au', 'maagizo', 'zaidi', 'yatahitajika', '.', 'Wanataka', 'Mkurugenzi', 'Mkuu', 'wa', 'NMS', ',', 'Mohamed', 'Badi', 'na', 'Naibu', 'Gavana', 'Ann', 'Kananu', 'waboreshe', 'hali', 'yao', 'ya', 'kikazi', '.', 'Wakiongozwa', 'na', 'katibu', 'wa', 'Chama', 'cha', 'Wafanyakazi', 'wa', 'Serikali', 'ya', 'Kaunti', 'Tawi', 'la', 'Wafanyakazi', 'wa', 'Nairobi', ',', 'Festus', 'Ngari', 'na', 'Katibu', 'wa', 'Tawi', 'la', 'Jiji', 'la', 'Nairobi', ',', 'Benson', 'Olianga', ',', 'wafanyikazi', 'hao', 'walisema', 'wataanza', 'rasmi', 'mgomo', 'Oktoba', '13', ',', '2021', ',', 'ikiwa', 'malalamishi', 'yao', 'hayatashughulikiwa', '.', 'Ni', 'idadi', 'ndogo', 'tu', 'ya', 'wanaojitokeza', 'Thika', 'kujisajili', 'wawe', 'wapigakura', 'HUKU', 'uandikishaji', 'wa', 'wapigakura', 'ukiendelea', 'tangu', 'uanze', 'Jumatatu', 'wiki', 'hii', ',', 'ni', 'watu', 'wachache', 'wanaojitokeza', 'katika', 'kituo', 'cha', 'Huduma', 'Centre', 'kilichoko', 'mjini', 'Thika', '.', 'Baadhi', 'ya', 'maafisa', 'wa', 'kusajili', 'wapigaji', 'kura', 'wakionekana', 'kuketi', 'bure', 'bila', 'cha', 'kufanya', ',', 'huku', 'wakiwa', 'na', 'matumaini', 'kwamba', 'hatimaye', 'watu', 'watajitokeza', 'kujisajili', '.', 'Kulingana', 'na', 'afisa', 'msimamizi', 'wa', 'IEBC', 'mjini', 'Thika', 'Bw', 'Jeremiah', 'Gatheci', ',', 'ni', 'kwamba', 'mnamo', 'Jumatano', 'baadhi', 'ya', 'watu', 'waliojitokeza', 'hawakubeba', 'vitambulisho', 'vyao', 'na', 'pia', 'walipoelezwa', 'kuvirudia', 'makwao', ',', 'hawakuonekana', 'tena', '.', '“', 'Bado', 'wale', 'wanaotarajia', 'kujisajili', 'ni', 'wachache', 'na', 'ni', 'vyema', 'kuwahamasisha', 'ili', 'waelezwe', 'umuhimu', 'wa', 'shughuli', 'hii', ',', '”', 'alisema', 'Bw', 'Gatheci', '.', 'Alisema', 'licha', 'ya', 'kwamba', 'IEBC', 'inawahimiza', 'watu', 'kujitokeza', 'kwa', 'wingi', 'kujisajili', 'ni', 'vyema', 'nao', 'viongozi', 'kuwarai', 'wananchi', 'kujitokeza', 'kwa', 'wingi', '.', 'Bw', 'Nduati', 'Njuguna', 'ambaye', 'ni', 'mfanyabiashara', 'na', 'mkazi', 'wa', 'Thika', ',', 'aliwashauri', 'wakazi', 'wa', 'Thika', 'wajitokeza', 'kwa', 'wingi', 'kujisajili', 'ili', 'waweze', 'kuwachagua', 'viongozi', 'wanaostahili', '.', '“', 'Hakuna', 'haja', 'ya', 'kufurika', 'kwenye', 'vituo', 'vya', 'kujiandikisha', 'dakika', 'ya', 'mwisho', 'na', 'wakati', 'huu', 'kuna', 'muda', 'mrefu', 'wa', 'kujiandikisha', ',', '”', 'alisema', 'Bw', 'Njuguna', '.', 'Aliwahimiza', 'vijana', 'kujitokeza', 'kwa', 'wingi', 'ili', 'kujiandikisha', 'ili', 'kuleta', 'mabadiliko', 'wanayotaka', 'maishani', 'mwao', '.', 'Bi', 'Mary', 'Kirika', 'aliyewania', 'kiti', 'cha', 'Mwakilishi', 'wa', 'Wanawake', 'wa', 'Kaunti', 'ya', 'Kiambu', 'katika', 'uchaguzi', 'uliopita', 'wa', '2017', ',', 'aliwahimiza', 'vijana', 'chipukizi', 'kujiandikisha', 'kwa', 'wingi', 'kwa', 'huu', 'mwezi', 'mmoja', 'waliopewa', '.', '“', 'Vijana', 'ndio', 'wana', 'kura', 'nyingi', 'wakati', 'huu', 'tunapoelekea', 'uchaguzini', 'na', 'kwa', 'hivyo', 'wasichukulie', 'jambo', 'hilo', 'kwa', 'mzaha', ',', '”', 'alisema', 'Bi', 'Kirika', '.', 'Wakazi', 'wakeketwa', 'na', 'njaa', 'mifugo', 'ikizidi', 'kuangamia', 'FAMILIA', 'katika', 'kaunti', 'zinazokumbwa', 'na', 'ukame', 'zinaendelea', 'kuathiriwa', 'na', 'njaa', 'na', 'kiu', 'tangu', 'Rais', 'Uhuru', 'Kenyatta', 'atangaze', 'ukame', 'janga', 'la', 'kitaifa', 'mnamo', 'Septemba', '.', 'Wakazi', 'kutoka', 'kaunti', 'hizo', 'wanalalamika', 'kuchelewa', 'kwa', 'serikali', 'kutimiza', 'ahadi', 'yake', 'ya', 'kuwalinda', 'dhidi', 'ya', 'janga', 'hilo', 'kwa', 'kununua', 'na', 'kuwatafutia', 'soko', 'mifugo', 'ili', 'kupunguza', 'hasara', 'za', 'ukame', '.', 'Hadi', 'sasa', ',', 'serikali', 'haijaanza', 'mchakato', 'huo', 'Kaunti', 'ya', 'Samburu', ',', 'jambo', 'linalowatia', 'wasiwasi', 'wafugaji', '.', 'Wakazi', 'wa', 'Kaunti', 'ya', 'Samburu', 'wanalalamika', 'kuchelewa', 'kwa', 'serikali', 'kununua', 'na', 'kutafutia', 'soko', 'mifugo', 'yao', 'baadhi', 'ya', 'wanyama', 'hao', 'wa', 'kufugwa', 'wakiendelea', 'kufa', '.', '“', 'Baadhi', 'ya', 'ng', '’', 'ombe', ',', 'kondoo', ',', 'mbuzi', 'na', 'ngamia', 'wamelemewa', 'na', 'ukame', '.', 'Kwa', 'sasa', ',', 'bei', 'yao', 'imepungua', '.', 'Tunapata', 'hasara', 'sana', 'kama', 'wafugaji', '.', 'Tunaomba', 'serikali', 'ifanye', 'hima', 'ili', 'kuokoa', 'mifugo', 'wetu', ',', '”', 'akasema', 'Bw', 'Julius', 'Leokono', ',', 'mmoja', 'wa', 'wafugaji', '.', 'Wafugaji', 'hao', 'wanasema', 'wameshindwa', 'kupata', 'karo', 'na', 'hata', 'pesa', 'za', 'kujikimu', 'kutokana', 'na', 'athari', 'za', 'ukame', '.', 'Kulingana', 'na', 'Mamlaka', 'inayosimamia', 'ukame', '(', 'NDMA', ')', ',', 'bei', 'ya', 'mifugo', 'inaendelea', 'kushuka', 'kutokana', 'na', 'hali', 'duni', 'ya', 'kiafya', 'inayosababishwa', 'na', 'ukosefu', 'wa', 'lishe', 'na', 'maji', '.', 'Kwingineko', ',', 'maelfu', 'ya', 'watoto', 'Kaskazini', 'mwa', 'Kenya', 'wanakumbwa', 'na', 'utapiamlo', 'kutokana', 'na', 'ukame', 'unaoshuhudiwa', 'katika', 'maeneo', 'hayo.Wakenya', 'milioni', '2.5', 'wameathiriwa', 'na', 'janga', 'hilo', 'huku', 'baadhi', 'yao', 'wakikosa', 'chakula', 'na', 'maji', '.', 'Kulingana', 'na', 'ripoti', 'ya', 'wizara', 'ya', 'Afya', 'na', 'Kilimo', ',', 'Wakenya', 'wengi', 'bado', 'wataendelea', 'kuathiriwa', 'na', 'ukame', 'na', 'utapiamlo', '.', '“', 'Zaidi', 'ya', 'watoto', '10,000', 'Kaunti', 'ya', 'Turkana', 'na', 'akina', 'mama', '6,000', 'wana', 'utapiamlo', '.', 'Hii', 'ni', 'kwa', 'sababu', 'gharama', 'ya', 'maisha', 'imepanda', ',', '”', 'inasoma', 'ripoti', '.', 'Katika', 'kaunti', 'ya', 'Meru', 'wakazi', 'zaidi', 'ya', '120,000', 'wanahitaji', 'msaada', 'wa', 'chakula', 'kwa', 'dharura', 'kutokana', 'na', 'ukame', 'ambao', 'umekuwa', 'ukihangaisha', 'eneo', 'hilo', '.', 'Kamishna', 'wa', 'Meru', ',', 'Karuku', 'Ngumo', ',', 'alitaja', 'maeneo', 'yaliyoathirika', 'zaidi', 'na', 'ukame', 'kama', 'Igembe', 'na', 'Tigania', 'ambapo', 'mvua', 'imekosa', 'kunyesha', 'kwa', 'miaka', 'miwili.Kulingana', 'na', 'NDMA', ',', 'mazao', 'katika', 'eneo', 'la', 'Meru', 'yalikuwa', 'duni', 'msimu', 'uliopita', 'huku', 'baadhi', 'ya', 'maeneo', 'yakikosa', 'kuvuna', 'chochote', '.', 'Katika', 'Kaunti', 'ya', 'Kilifi', ',', 'serikali', 'imeanza', 'kugawa', 'chakula', 'cha', 'msaada', 'kwa', 'wakazi', 'wanaoathiriwa', 'na', 'ukame', '.', 'Waziri', 'wa', 'Ulinzi', ',', 'Eugene', 'Wamalwa', 'alizindua', 'shughuli', 'hiyo', 'katika', 'vijiji', 'vya', 'Chakama', 'na', 'Bofu', 'eneobunge', 'la', 'Magarini', '.', 'Wamalwa', 'alisema', 'kwamba', 'chakula', 'hicho', 'kitasambazwa', 'maeneo', 'ya', 'Pwani', ',', 'Kaskazini', 'Mashariki', 'na', 'Rift', 'Valley', 'ambako', 'wakazi', 'wameathiriwa', 'na', 'ukame', '.', 'Nalo', 'Shirika', 'la', 'Msalaba', 'Mwekundu', 'limeanza', 'kutoa', 'msaada', 'wa', 'chakula', 'na', 'fedha', 'kwa', 'familia', 'kutoka', 'Kaunti', 'za', 'Turkana', ',', 'Pokot', 'Magharibi', 'na', 'Baringo', '.', '“', 'Tumearifiwa', 'NMS', 'ina', 'mipango', 'ya', 'kuiweka', 'lami', 'aina', 'ya', 'cabros', ',', '”', 'mmoja', 'wa', 'viongozi', 'Zimmerman', 'Settlement', 'Scheme', 'na', 'aliyeomba', 'kutochapisha', 'jina', 'lake', 'kwa', 'sababu', 'haruhusiwi', 'kuzungumza', 'na', 'vyombo', 'vya', 'habari', 'akaambia', 'Taifa', 'Leo', '.', '“', 'Kero', 'kuu', 'Zimmerman', 'imekuwa', 'majitaka', 'kutapakaa', 'kila', 'mahali', ',', 'kiasi', 'cha', 'kuathiri', 'usambazaji', 'wa', 'maji', '.', 'Tunaishukuru', 'NMS', 'kwa', 'kuskia', 'kilio', 'chetu', ',', '”', 'akasema', 'Margaret', 'Wanjiku', ',', 'mmoja', 'wa', 'wamiliki', 'wa', 'ploti', '.', 'NMS', 'ilizinduliwa', 'mapema', '2020', 'na', 'Rais', 'Uhuru', 'Kenyatta', ',', 'na', 'kufikia', 'sasa', 'inaendelea', 'kuboresha', 'huduma', 'za', 'jiji', 'la', 'Nairobi', ',', 'ikiwemo', 'barabara', ',', 'kuchimba', 'visima', 'vya', 'maji', 'na', 'kuzindua', 'vituo', 'vya', 'afya', ',', 'kati', 'ya', 'miradi', 'mingineyo', '.', 'BAADA', 'ya', 'Idara', 'ya', 'Uchunguzi', 'wa', 'Uhalifu', '(', 'DCI', ')', 'kuchapisha', 'kuwa', 'itakuwa', 'ikielezea', 'matukio', 'kwa', 'Kiswahili', ',', 'baadhi', 'ya', 'watumiaji', 'mitandao', 'ya', 'kijamii', 'wameshangazwa', 'na', 'misamiati', 'inayotumika', 'huku', 'wengine', 'wakieleza', 'kuwa', 'hawaelewi', 'kinachoandikwa', '.', 'Waliochangia', 'masimulizi', 'yanayochapishwa', 'na', 'DCI', 'wamezionyesha', 'hisia', 'tata', 'huku', 'wengine', 'wakiridhishwa', 'na', 'tangazo', 'hilo', 'na', 'wengine', 'wakilalama', '.', 'DCI', 'ilianzia', 'matoleo', 'ya', 'Kiswahili', 'ya', 'simulizi', 'za', 'uhalifu', 'yanayochapishwa', 'kwenye', 'kurasa', 'zao', 'za', 'mitandao', 'ya', 'kijamii', ',', 'baada', 'ya', 'kuona', 'haja', 'ya', 'kuwasiliana', 'vyema', 'na', 'watu', 'wote', 'katika', 'maeneo', 'mbalimbali', 'ya', 'nchi', '.', '“', 'Hii', 'ni', 'hatua', 'nzuri', '.', 'Kuendesha', 'shughuli', 'kwa', 'Kiswahili', 'katika', 'korti', ',', 'kutumika', 'kwenye', 'stakabadhi', 'rasmi', ',', 'bungeni', 'na', 'kadhalika', 'ni', 'muhimu', '.', 'Wahitimu', 'wa', 'Kiswahili', 'watapata', 'kazi', 'za', 'utafsiri', 'wa', 'faili', 'na', 'hotuba', ',', '”', 'akaeleza', 'James', 'Wachira', 'kupitia', 'Facebook', '.', '“', 'Kazi', 'nzuri', '!', 'Hivi', 'sasa', 'ninafurahia', 'sana', 'kuzisoma', 'ripoti', 'hizi', 'za', 'matukio', 'ya', 'uhalifu', 'kwa', 'Kiswahili', ',', '”', 'akasema', 'Roselyn', 'Makona', 'kupitia', 'Facebook', '.', '“', 'Vizuri', 'mno', '.', 'Heko', '!', '”', 'akasema', '@', 'VOA_Wandera', 'kupitia', 'Twitter', '.', '“', 'Kiswahili', 'kinapaswa', 'kupewa', 'nafasi', 'ya', 'juu', 'katika', 'jamii', '.', 'Wananchi', 'wana', 'haki', 'ya', 'kupata', 'habari', 'kwa', 'lugha', 'ya', 'Kiswahili', ',', '”', 'akaandika', '@', 'kairu_karega', '.']\n",
      "\n",
      " Number of Words:  1259\n"
     ]
    }
   ],
   "source": [
    "file=\"21oct8.txt\"\n",
    "\n",
    "# calling the function and storing the contents in a text variable \n",
    "text1 = get_document(\"https://taifaleo.nation.co.ke/joho-aagizwa-kuweka-wazi-kandarasi-ya-mradi-buxton/\")\n",
    "text2 = get_document(\"https://taifaleo.nation.co.ke/wafanyakazi-kaunti-ya-nairobi-watisha-kugoma/\")\n",
    "text4 = get_document(\"https://taifaleo.nation.co.ke/ni-idadi-ndogo-tu-ya-wanaojitokeza-thika-kujisajili-wawe-wapigakura/\")\n",
    "text5 = get_document(\"https://taifaleo.nation.co.ke/wakazi-wakeketwa-na-njaa-mifugo-ikizidi-kuangamia/\")\n",
    "text7 = get_document(\"https://taifaleo.nation.co.ke/afueni-wakazi-wa-carwash-zimmerman-wakiimarishiwa-barabara/\")\n",
    "text8 = get_document(\"https://taifaleo.nation.co.ke/maoni-mseto-mitandaoni-dci-ikianza-kutumia-kiswahili-kusimulia-matukio/\")\n",
    "\n",
    "# calling the store_ document function \n",
    "store_document(doc=text1,name=file)\n",
    "store_document(doc=text2,name=file)\n",
    "store_document(doc=text4,name=file)\n",
    "store_document(doc=text5,name=file)\n",
    "store_document(doc=text7,name=file)\n",
    "store_document(doc=text8,name=file)\n",
    "\n",
    "#add the words in this file to the total_corpus_words, to keep count of the number of words in the corpus\n",
    "total_corpus_words+=total_words(file)"
   ]
  },
  {
   "cell_type": "code",
   "execution_count": 51,
   "metadata": {},
   "outputs": [
    {
     "data": {
      "text/plain": [
       "765633"
      ]
     },
     "execution_count": 51,
     "metadata": {},
     "output_type": "execute_result"
    }
   ],
   "source": [
    "total_corpus_words"
   ]
  },
  {
   "cell_type": "code",
   "execution_count": 57,
   "metadata": {},
   "outputs": [
    {
     "name": "stdout",
     "output_type": "stream",
     "text": [
      "['Jaji', 'Eric', 'Ogola', 'alimwagiza', 'Bw', 'Joho', ',', 'Katibu', 'wa', 'Kaunti', ',', 'na', 'Waziri', 'wa', 'Ardhi', ',', 'Makao', 'na', 'Mipango', 'ya', 'Ujenzi', 'katika', 'kaunti', ',', 'Bw', 'Tawfiq', 'Balala', 'kuwasilisha', 'stakabadhi', 'hizo', 'kwa', 'mashirika', 'matatu', 'ya', 'kijamii', 'kabla', 'ya', 'siku', '30', 'kukamilika', '.', 'Mashirika', 'ya', 'kutetea', 'haki', 'za', 'kijamii', 'ya', 'Legal', 'Advice', 'Centre', ',', 'Haki', 'Yetu', 'St', 'Patrick', '’', 's', 'na', 'Transparency', 'International', 'yalikuwa', 'yamewasilisha', 'ombi', 'mahakamani', 'kutaka', 'kandarasi', 'na', 'makubaliano', 'kati', 'ya', 'kaunti', 'na', 'kampuni', 'hiyo', 'ya', 'Bw', 'Shahbal', 'ziekwe', 'wazi', 'kwa', 'umma', '.', '“', 'Baada', 'ya', 'kuzingatia', 'utetezi', 'wa', 'washtakiwa', ',', 'sijaridhishwa', 'kuwa', 'wana', 'nia', 'njema', 'kuhusiana', 'na', 'masuala', 'ya', 'kuwasilisha', 'maelezo', 'ya', 'makubaliano', 'yanayohusu', 'mradi', 'wa', 'Buxton', ',', '”', 'akasema', 'Jaji', 'Ogola', '.', 'Alizidi', 'kusema', 'kuwa', ',', 'takriban', 'mwaka', 'mmoja', 'baada', 'ya', 'kampuni', 'na', 'kaunti', 'kuweka', 'makubaliano', ',', 'Bw', 'Balala', 'alidanganya', 'na', 'kupotosha', 'mahakama', 'kuwa', 'shughuli', 'ya', 'utoaji', 'zabuni', 'kuhusiana', 'na', 'mradi', 'wa', 'ujenzi', 'Buxton', 'ilikuwa', 'haijakamilishwa', 'na', 'hivyo', 'basi', 'maombi', 'ya', 'kutaka', 'maelezo', 'kuhusu', 'zabuni', 'hiyo', 'hayangeweza', 'kutekelezwa', '.', 'Katika', 'mwaka', 'wa', '2016', ',', 'mashirika', 'hayo', 'yalikuwa', 'yamewasilisha', 'kesi', 'mahakamani', 'kupinga', 'utekelezaji', 'wa', 'ujenzi', 'wa', 'nyumba', 'hizo', 'za', 'kisasa', 'yakisema', 'hapakuwa', 'na', 'juhudi', 'za', 'kuhusisha', 'umma', 'inavyotakikana', 'kisheria', '.', 'Kesi', 'hiyo', 'sasa', 'itatajwa', 'Novemba', '11', ',', '2021', ',', 'ambapo', 'mahakama', 'inatarajiwa', 'kuthibitisha', 'kama', 'maagizo', 'yaliyotolewa', 'yatakuwa', 'yametekelezwa', ',', 'au', 'maagizo', 'zaidi', 'yatahitajika', '.', 'Kobia', 'ataka', 'maafisa', 'waadilifu', 'NGEC', 'WAZIRI', 'wa', 'Utumishi', 'wa', 'Umma', ',', 'Jinsia', ',', 'Miradi', 'Maalum', 'na', 'Masuala', 'ya', 'Wazee', ',', 'Prof', 'Margaret', 'Kobia', 'ametoa', 'wito', 'kwa', 'jopo', 'la', 'watu', 'saba', 'lililoteuliwa', 'kuwapiga', 'msasa', 'wanaosaka', 'kazi', 'ya', 'kuwa', 'Makamishina', 'wa', 'Tume', 'ya', 'Kitaifa', 'ya', 'Usawa', 'wa', 'Jinsia', '(', 'NGEC', ')', 'wahakikishe', 'wanaoteuliwa', 'ni', 'watu', 'wenye', 'maadili', 'na', 'waliodhihirisha', 'uongozi', 'bora', '.', 'Kenya', 'kuadhimisha', 'Siku', 'ya', 'Utamaduni', 'SERIKALI', 'imetangaza', 'Jumatatu', 'kuwa', 'siku', 'ya', 'mapumziko', ',', 'Kenya', 'ikiadhimisha', 'kwa', 'mara', 'ya', 'kwanza', 'Siku', 'ya', 'Utamaduni', 'Oktoba', '10', ',', '2021', '.', 'Waziri', 'wa', 'Usalama', ',', 'Dkt', 'Fred', 'Matiang', '’', 'i', 'alisema', 'kuwa', 'Jumatatu', 'itakuwa', 'siku', 'ya', 'mapumziko', 'kwa', 'sababu', 'siku', 'ya', 'Utamaduni', 'inayostahili', 'kusherehekewa', 'Oktoba', '10', ',', 'ni', 'Jumapili', '.', '“', 'Hii', 'ndio', 'siku', 'ya', 'kwanza', 'tunasherehekea', 'siku', 'ya', 'Utamaduni', 'nchini', '.', 'Tunafaa', 'kuitumia', 'siku', 'hiyo', 'kusisitiza', 'hitaji', 'la', 'raia', 'wote', 'kutambua', 'na', 'kusherehekea', 'utamaduni', 'huu', 'tajiri', 'wa', 'Kenya', 'kwa', 'njia', 'ambayo', 'inakuza', 'umoja', ',', 'mshikamano', 'wa', 'kitaifa', 'na', 'maendeleo', 'ya', 'kiuchumi', 'nchini', 'Kenya', ',', '”', 'akasema', 'Dkt', 'Matiangi', '.', 'Awali', ',', 'siku', 'hii', 'ilikuwa', 'ikiadhimishwa', 'kama', 'Moi', 'Dei', 'kwa', 'heshima', 'ya', 'aliyekuwa', 'rais', 'wa', 'pili', 'wa', 'Kenya', ',', 'Daniel', 'arap', 'Moi', '.', 'Afueni', 'bei', 'ya', 'kahawa', 'ikiimarika', 'MAPATO', 'ya', 'kahawa', 'katika', 'mwaka', 'wa', 'kifedha', 'wa', '2019/2020', 'yameongezeka', 'kwa', 'asilimia', '52', '.', 'Ongezeko', 'hili', 'lilitokana', 'na', 'ongezeko', 'la', 'mahitaji', 'ya', 'kahawa', 'ya', 'Kenya', 'baada', 'ya', 'zao', 'hilo', 'nchini', 'Brazil', 'kupungua', 'kwa', 'sababu', 'ya', 'hali', 'mbaya', 'ya', 'anga', '.', 'Soko', 'la', 'Kahawa', 'la', 'Nairobi', '(', 'NCE', ')', 'lilisema', 'kuwa', 'Kenya', 'ilipata', 'Sh15.2', 'bilioni', 'kwa', 'mauzo', 'ya', 'kahawa', 'katika', 'mwaka', 'ulioisha', 'Septemba', '30', '.', 'Ikilinganishwa', 'na', 'mwaka', 'wa', '2019', ',', 'bei', 'ya', 'gunia', 'ya', 'kilo', '50', 'iliongezeka', 'kutoka', 'Sh20,412', 'hadi', 'Sh30', ',', '348', 'mwaka', '2020', '.', '“', 'Bei', 'ya', 'juu', 'ambayo', 'tulishuhudia', ',', 'imewezesha', 'thamani', 'ya', 'kahawa', 'inayouzwa', 'kuongezeka', 'kwa', 'asilimia', '52.27', 'katika', 'mwaka', 'wa', '2020/2021', 'ikilinganishwa', 'na', 'ile', 'ya', 'mwaka', 'wa', '2019/2020', ',', '”', 'NCE', 'ikasema', '.', 'Vile', 'vile', ',', 'ongezeko', 'hili', 'lilitokana', 'na', 'bei', 'ya', 'juu', 'ya', 'kimataifa', 'ambayo', 'ilifikia', 'pauni', 'Sh33,984', 'toka', '2012', 'sababu', 'ya', 'hali', 'mbaya', 'ya', 'anga', 'nchini', 'Brazil', '.', 'Nchi', 'ya', 'Brazil', 'ni', 'moja', 'kati', 'ya', 'nchi', 'ambazo', 'hutoa', 'kahawa', 'nyingi', 'duniani', '.', 'Nchi', 'hiyo', 'hutoa', 'kilo', '60', 'milioni', 'za', 'Kahawa', 'kila', 'mwaka', 'lakini', 'baridi', 'imeifanya', 'ipoteze', 'asilimia', '20', 'ya', 'mmea', 'huo', 'wakati', 'huu', 'na', 'kusababisha', 'upungufu', 'wa', 'kahawa', 'katika', 'soko', 'duniani', '.', 'Hivi', 'majuzi', ',', 'Benki', 'Kuu', 'ya', 'Kenya', '(', 'CBK', ')', 'ilikuwa', 'imetabiri', 'ongezeko', 'la', 'bei', 'ya', 'Kahawa', 'ya', 'Kenya', 'katika', 'soko', 'la', 'kimataifa', 'kufuatia', 'kupungua', 'kwa', 'kahawa', 'ya', 'Brazil', '.', 'Gavana', 'wa', 'CBK', ',', 'Dkt', 'Patrick', 'Njoroge', 'alisema', 'kuwa', 'Kenya', 'ingenufaika', 'kutokana', 'na', 'hali', 'mbaya', 'ya', 'anga', 'inayoikumba', 'Amerika', 'Kusini', 'na', 'inayoathiri', 'uzalishaji', 'wa', 'kahawa', '.', '“', 'Hivi', 'majuzi', 'kumekuwepo', 'na', 'ongezeko', 'la', 'bei', 'ya', 'kahawa', 'duniani', 'linalotokana', 'na', 'baridi', 'inayoshuhudiwa', 'Brazil', 'na', 'tunaweza', 'tukanufaika', 'kwa', 'kuongeza', 'bei', 'ya', 'kahawa', 'kwenye', 'soko', ',', '”', 'akasema', 'Dkt', 'Njoroge', 'wakati', 'wa', 'kuzindua', 'ripoti', 'ya', 'Kamati', 'ya', 'Sera', 'za', 'Pesa', '.', 'Tahadhari', 'yatolewa', 'kuhusu', 'vifaa', 'ghushi', 'vya', 'kupima', 'Ukimwi', 'Haya', 'yamejiri', 'huku', 'Shirika', 'la', 'Kitaifa', 'la', 'Kudhibiti', 'Ukimwi', 'na', 'Maradhi', 'ya', 'Zinaa', '(', 'NASCOP', ')', 'likifichua', 'kuwa', 'idadi', 'ya', 'watu', 'wanaotumia', 'vifaa', 'vya', 'kujipima', 'wenyewe', 'Ukimwi', 'imeongezeka', 'tangu', '2018', ',', 'mpango', 'huo', 'ulipoanzishwa', 'Kenya', '.', 'Inahofiwa', 'kuwa', 'watu', 'wengi', 'huenda', 'wanapata', 'vifaa', 'hivyo', 'duni', 'ambavyo', 'havijaidhinishwa', 'kutoka', 'vituo', 'vya', 'kibinafsi', 'vya', 'afya', '.', 'Wakili', 'huyo', 'alisema', 'OCPD', 'alitusi', 'mahakama', 'aliposema', '“', 'agizo', 'lake', 'ni', 'karatasi', 'tu', 'na', 'hana', 'budi', 'kuikaidi.', '”', 'Alisema', 'ikiwa', 'afisa', 'mkuu', 'wa', 'polisi', 'anaongoza', 'katika', 'tabia', 'ya', 'kukaidi', 'agizo', 'la', 'mahakama', 'basi', 'wananchi', 'wa', 'kawaida', 'hawataziheshimu', 'kamwe', 'kwa', 'vile', 'hakuna', 'yeyote', 'wa', 'kuitekeleza', '.', 'Mahakama', 'pia', 'ilielezwa', 'nchi', 'hii', 'itakuwa', 'haitawaliwiki', 'kwa', 'utovu', 'wa', 'nidhamu', 'endapo', 'maafisa', 'wa', 'polisi', 'wanaopasa', 'kutekeleza', 'maagizo', 'ya', 'mahakama', 'ndio', 'watakaokaidi', 'maagizo', 'ya', 'mahakama', '.', 'Bw', 'Omenge', 'alisema', 'ushahidi', 'aliowasilisha', 'umethibitisha', 'kabisa', 'kwamba', 'OCPD', ',', 'DCIO', 'na', 'OCS', 'ndio', 'walikaidi', 'agizo', 'la', 'mahakama', '.', 'Alisema', 'badala', 'ya', 'kumwachilia', 'Bw', 'Kuria', 'walimzuilia', 'korokoroni', 'na', 'watu', 'wa', 'familia', 'yake', 'na', 'wakili', 'wake', 'pamoja', 'na', 'wanasiasa', 'walirushiwa', 'hewa', 'ya', 'kutoa', 'machozi', 'walipoenda', 'kumwona', 'mwanasiasa', 'huyo', 'korokoroni', 'pamoja', 'na', 'kuwakabidhi', 'OCPD', ',', 'DCIO', 'na', 'naibu', 'wa', 'OCS', 'nakala', 'ya', 'agizo', 'la', 'mahakama', '.', 'Mwenye', 'mazoea', 'ya', 'kuibia', 'wenye', 'maduka', 'ya', 'Mpesa', 'achapwa', 'kama', 'nguruwe', 'MSHUKIWA', 'wa', 'wizi', 'aliyetoroka', 'mahakama', 'ya', 'Kibera', 'Julai', 'mwaka', 'uliopita', 'jana', 'alipata', 'kichapo', 'cha', 'nguruwe', 'aliporudi', 'kuiba', 'kutoka', 'duka', 'la', 'Mpesa', 'katika', 'eneo', 'la', 'Bus', 'Station', 'Nairobi', '.', 'Bw', 'Isaiah', 'Mugambi', 'aliokolewa', 'na', 'Polisi', 'kutoka', 'kituo', 'cha', 'Kamukunji', 'kabla', 'ya', 'kuuawa', 'na', 'wananchi', 'waliokuwa', 'na', 'hasira', 'kali', '.', 'Mshukiwa', 'huyo', 'alipigwa', 'na', 'vifaa', 'butu', 'na', 'marungu', 'lakini', 'akaokolewa', 'na', 'polisi', '.', 'Huku', 'akivuja', 'damu', 'kichwani', ',', 'mikononi', 'na', 'mdomoni', ',', 'Bw', 'Mugambi', 'alitolewa', 'shati', 'na', 'kuachwa', 'na', 'Vesti', '.', 'Polisi', 'walifika', 'kabla', 'ya', 'kutiwa', 'taya', 'na', 'kumwagiwa', 'petrol', 'awashwe', 'moto', '.', 'Bw', 'Mugambi', 'alikuwa', 'amemwibia', 'mwanamke', 'mwenye', 'duka', 'la', 'Mpesa', 'Sh30,000', '.', 'Akiwa', 'amejihami', 'na', 'kisu', ',', 'Bw', 'Mugambi', 'alimvizia', 'mwenye', 'duka', 'hilo', 'lilio', 'karibu', 'na', 'Benki', 'ya', 'Equity', 'tawi', 'la', 'Knut', 'House', 'na', 'kunyakua', 'pesa', 'hizo', 'alipokuwa', 'anazihesabu', '.', 'Mwanamke', 'huyo', 'alipiga', 'kamsa', '.', 'Wananchi', 'walimkamata', 'na', 'kumchapa', 'kwa', 'kila', 'aina', 'ya', 'vifaa', '.', 'Alitandikwa', 'barabara', '.', 'Pesa', 'alizokuwa', 'ameiba', 'zilipatikana', '.', '“', 'Huyu', 'mwanaume', 'yuko', 'na', 'mazoea', 'ya', 'kuibia', 'wenye', 'maduka', 'ya', 'Mpesa', 'katika', 'eneo', 'hili', 'la', 'Bus', 'Station', ',', '”', 'afisa', 'wa', 'polisi', 'kutoka', 'kituo', 'cha', 'Kamkunji', 'aliambia', 'Taifa', 'Jumapili', '.', 'Afisa', 'huyo', 'alifichua', 'kwamba', 'kuna', 'hati', 'ya', 'kumtia', 'nguvuni', 'Bw', 'Mugambi', 'iliyotolewa', 'na', 'mahakama', 'ya', 'Kibera', 'mnamo', 'Julai', '12', ',', '2020', 'alipokosa', 'kufika', 'kortini', 'wakati', 'wa', 'kusikizwa', 'kwa', 'kesi', 'ya', 'wizi', 'wa', 'Sh90,000', 'na', 'simu', 'yenye', 'thamani', 'ya', 'Sh8,500', '.', '“', 'Ni', 'kweli', 'mshukiwa', 'huyu', 'aliniibia', 'Feburuari', '1,2020', 'na', 'kutoroka', ',', '”', 'Bi', 'Christine', 'Kyengo', 'aliambia', 'Taifa', 'Jumapili', '.', 'Polisi', 'walisema', 'mshtakiwa', 'alitiwa', 'nguvuni', 'katika', 'eneo', 'la', 'Kikuyu', 'kaunti', 'ya', 'Kiambu', 'baada', 'ya', 'kujificha', 'kwa', 'mwezi', 'mmoja', 'alipomwibia', 'Bi', 'Kyengo', '.', 'Alishtakiwa', 'katika', 'mahakama', 'ya', 'Kibera', 'ambapo', 'aliachiliwa', 'kwa', 'dhamana', '.', 'Kesi', 'hiyo', 'iliorodheshwa', 'kusikizwa', 'Julai', '12', ',', '2020', 'lakini', 'mshtakiwa', 'hakufika', 'kortini', '.', 'Mbali', 'na', 'Bi', 'Kyengo', ',', 'mshtakiwa', 'alitambuliwa', 'na', 'wenye', 'maduka', 'wengine', 'kuwa', 'mwenye', 'mazoea', 'ya', 'kuiba', 'katika', 'eneo', 'hilo', 'la', 'Bus', 'Station', '.']\n",
      "\n",
      " Number of Words:  1215\n"
     ]
    }
   ],
   "source": [
    "file=\"21oct9.txt\"\n",
    "\n",
    "# calling the function and storing the contents in a text variable \n",
    "text2 = get_document(\"https://taifaleo.nation.co.ke/kobia-ataka-maafisa-waadilifu-ngec/\")\n",
    "text4 = get_document(\"https://taifaleo.nation.co.ke/afueni-bei-ya-kahawa-ikiimarika/\")\n",
    "text5 = get_document(\"https://taifaleo.nation.co.ke/tahadhari-yatolewa-kuhusu-vifaa-ghushi-vya-kupima-ukimwi/\")\n",
    "text6 = get_document(\"https://taifaleo.nation.co.ke/maafisa-watatu-wakuu-wa-polisi-kujua-hatma-yao-octoba-28/\")\n",
    "text7 = get_document(\"https://taifaleo.nation.co.ke/mwenye-mazoea-ya-kuibia-wenye-maduka-ya-mpesa-achapwa-kama-nguruwe/\")\n",
    "\n",
    "# calling the store_ document function \n",
    "store_document(doc=text2,name=file)\n",
    "store_document(doc=text4,name=file)\n",
    "store_document(doc=text5,name=file)\n",
    "store_document(doc=text6,name=file)\n",
    "store_document(doc=text7,name=file)\n",
    "\n",
    "#add the words in this file to the total_corpus_words, to keep count of the number of words in the corpus\n",
    "total_corpus_words+=total_words(file)"
   ]
  },
  {
   "cell_type": "code",
   "execution_count": 58,
   "metadata": {},
   "outputs": [
    {
     "data": {
      "text/plain": [
       "766848"
      ]
     },
     "execution_count": 58,
     "metadata": {},
     "output_type": "execute_result"
    }
   ],
   "source": [
    "total_corpus_words"
   ]
  },
  {
   "cell_type": "code",
   "execution_count": 64,
   "metadata": {},
   "outputs": [
    {
     "name": "stdout",
     "output_type": "stream",
     "text": [
      "['KDF', 'kusaidia', 'kukabiliana', 'na', 'ukame', 'MAAFISA', 'wa', 'jeshi', 'la', 'ulinzi', 'nchini', '(', 'KDF', ')', 'watashiriki', 'katika', 'mipango', 'ya', 'kukabiliana', 'na', 'makali', 'ya', 'ukame', 'kwa', 'kuchimba', 'visima', 'na', 'kusafirisha', 'maji', 'katika', 'kaunti', 'zinazoathirika', 'na', 'janga', 'hilo', '.', 'Waziri', 'wa', 'Ulinzi', ',', 'Eugene', 'Wamalwa', ',', 'alisema', 'kando', 'na', 'usambazaji', 'wa', 'chakula', 'cha', 'msaada', 'kwa', 'wakazi', 'katika', 'kaunti', 'zilizoathirika', ',', 'hatua', 'hii', 'itazuia', 'vifo', 'vya', 'watu', 'na', 'mifugo', '.', 'Alisema', 'hayo', 'Ijumaa', 'alipozuru', 'eneo', 'la', 'Chemoril', 'katika', 'kaunti', 'ndogo', 'ya', 'Tiaty', 'kuongoza', 'shughuli', 'za', 'usambazaji', 'wa', 'chakula', 'cha', 'msaada', '.', 'Bw', 'Wamalwa', 'aliongeza', 'kuwa', 'serikali', 'imetenga', 'Sh2', 'bilioni', 'kufadhili', 'mipango', 'ya', 'kukabiliana', 'na', 'makali', 'ya', 'ukame', 'ambayo', 'ilitangazwa', 'na', 'Rais', 'Uhuru', 'Kenyatta', 'kuwa', 'janga', 'la', 'kitaifa', '.', '“', 'Hata', 'hivyo', ',', 'suluhu', 'la', 'kudumu', 'kwa', 'changamoto', 'hii', 'ni', 'kuhakikisha', 'kuwa', 'miradi', 'ya', 'uzalishaji', 'chakula', 'inaanzishwa', 'katika', 'maeneo', 'yanayokabiliwa', 'na', 'hatari', 'ya', 'kukumbwa', 'na', 'ukame', 'kila', 'mwaka', '.', 'Hii', 'itahakikisha', 'kuwa', 'miradi', 'ya', 'kilimo', 'cha', 'unyunyiziaji', 'inaanzishwa', 'katika', 'maeneo', 'hayo', '.', 'Jamii', 'za', 'wafugaji', 'katika', 'maeneo', 'hayo', 'zinafaa', 'kusaidiwa', 'zikumbatie', 'kilimo', 'cha', 'mimea', 'ya', 'vyakula', ',', '”', 'akasema', 'Bw', 'Wamalwa', '.', 'Aliongeza', 'kuwa', 'serikali', 'pia', 'itaendeleza', 'mpango', 'wa', 'kununua', 'mifugo', 'walioathiriwa', 'na', 'ukame', 'ili', 'kuwakinga', 'kutokana', 'na', 'hasara', 'kutokana', 'na', 'ukosefu', 'wa', 'lishe', '.', '“', 'Ufugaji', 'ni', 'kitega', 'uchumi', 'kikuu', 'kwa', 'jamii', 'za', 'wafugaji', 'na', 'serikali', 'imejitolea', 'kuhakikisha', 'kuwa', 'wafugaji', 'hawa', 'hawapati', 'hasara', 'baada', 'ya', 'mifugo', 'wao', 'kufa', 'kwa', 'kukosa', 'maji', 'na', 'lishe', '.', 'Chini', 'ya', 'mpango', 'huu', ',', 'wafugaji', 'watauza', 'mifugo', 'wao', 'kwa', 'serikali', 'nyakati', 'za', 'ukame', 'kisha', 'kununua', 'mifugo', 'wengine', 'msimu', 'wa', 'mvua', 'ukianza', ',', '”', 'Bw', 'Wamalwa', 'akaongeza', '.', 'Waziri', 'aliongeza', 'kuwa', 'serikali', 'kuu', 'inaendeleza', 'mpango', 'wa', 'kutoa', 'fedha', 'kwa', 'familia', 'zilizoathirika', 'na', 'ukame', 'ili', 'ziweze', 'kujikimu', '.', '“', 'Kando', 'na', 'chakula', 'cha', 'msaada', ',', 'tunapaswa', 'kuwezesha', 'maeneo', 'kame', 'kujitosheleza', 'kwa', 'vyakula', 'badala', 'ya', 'kutoa', 'misaada', 'kila', 'mwaka', '.', 'Hatua', 'hii', 'pia', 'itazuia', 'mpango', 'wa', 'sasa', 'ambapo', 'tunatoa', 'msaada', 'ya', 'Sh5,400', 'kwa', 'kila', 'familia', 'katika', 'kaunti', 'zilizoathirika', 'na', 'ukame', ',', '”', 'Bw', 'Wamalwa', 'akaeleza', '.', 'Alisema', 'kaunti', 'kame', 'kama', 'vile', 'Garissa', ',', 'Tana', 'River', ',', 'Samburu', 'na', 'Isiolo', 'tayari', 'zimefaidi', 'kutoka', 'na', 'mpango', 'wa', 'utoaji', 'fedha', 'za', 'kujikimu', 'kwa', 'familia', '.', 'Mbunge', 'wa', 'Tiaty', 'William', 'Kamket', 'hata', 'hivyo', 'alilalamika', 'kuwa', 'Kaunti', 'ya', 'Baringo', 'ni', 'mojawapo', 'ya', 'zile', 'zilizoathirika', 'na', 'ukame', 'lakini', 'haijajumuishwa', 'katika', 'orodha', 'ya', 'kaunti', 'zinazopewa', 'fedha', 'za', 'kujikimu', '.', '“', 'Baringo', 'pia', 'inafaa', 'kujumuishwa', 'katika', 'mpango', 'huu', 'wa', 'utoaji', 'Sh5,400', 'kila', 'mwezi', 'kwa', 'kila', 'familia', '.', 'Maelfu', 'ya', 'wakazi', 'hapa', 'wameathirika', 'na', 'ukame', ',', '”', 'akaeleza', '.', 'Kobia', 'ataka', 'maafisa', 'waadilifu', 'NGEC', 'WAZIRI', 'wa', 'Utumishi', 'wa', 'Umma', ',', 'Jinsia', ',', 'Miradi', 'Maalum', 'na', 'Masuala', 'ya', 'Wazee', ',', 'Prof', 'Margaret', 'Kobia', 'ametoa', 'wito', 'kwa', 'jopo', 'la', 'watu', 'saba', 'lililoteuliwa', 'kuwapiga', 'msasa', 'wanaosaka', 'kazi', 'ya', 'kuwa', 'Makamishina', 'wa', 'Tume', 'ya', 'Kitaifa', 'ya', 'Usawa', 'wa', 'Jinsia', '(', 'NGEC', ')', 'wahakikishe', 'wanaoteuliwa', 'ni', 'watu', 'wenye', 'maadili', 'na', 'waliodhihirisha', 'uongozi', 'bora', '.', 'Unywaji', 'pombe', 'unachangia', 'matatizo', 'ya', 'akili', '–', 'Nacada', 'Prof', 'Mabel', 'Imbuga', ',', 'ambaye', 'ni', 'mwenyekiti', 'wa', 'bodi', 'ya', 'Mamlaka', 'la', 'Kitaifa', 'ya', 'Kupambana', 'na', 'Mihadarati', 'Nchini', '(', 'Nacada', ')', 'aliwaonya', 'Wakenya', 'dhidi', 'ya', 'unywaji', 'wa', 'pombe', 'na', 'matumizi', 'ya', 'mihadarati', 'ambayo', 'yanachangia', 'maradhi', 'ya', 'akili', '.', 'Prof', 'Imbuga', 'alisema', 'Wakenya', 'wanafaa', 'kuangalia', 'afya', 'yao', '.', '“', 'Wakenya', 'wanafaa', 'kususia', 'pombe', 'na', 'utumizi', 'wa', 'mihadarati', 'ambayo', 'inachangia', 'maradhi', 'ya', 'akili', '.', 'Waachane', 'na', 'pombe', 'na', 'mihadarati', 'kabisa', ',', 'ni', 'hatari', '.', 'Kama', 'unashindwa', 'kupambana', 'na', 'uraibu', 'huo', 'unaweza', 'kupata', 'matibabu', 'katika', 'vituo', 'vya', 'Nacada', ',', '”', 'alisema', 'Prof', 'Imbuga', '.', 'Akiongea', 'huko', 'Mombasa', 'kwenye', 'mkutano', 'wa', 'Nacada', ',', 'Prof', 'Imbuga', 'alisema', 'Nacada', 'itahakikisha', 'kuna', 'vituo', 'vya', 'kurekebishia', 'tabia', 'na', 'kumpambana', 'na', 'uraibu', 'sugu', 'wa', 'mihadarati', 'katika', 'kila', 'kaunti', '.', 'Naye', 'afisa', 'mkuu', 'wa', 'Nacada', 'Bw', 'Victor', 'Okioma', 'alisema', 'serikali', 'itapambana', 'na', 'ulanguzi', 'wa', 'mihadarati', 'nchini.Alisema', 'visa', 'vya', 'matitizo', 'ya', 'akili', 'vimeongezeka', 'nchini', 'kufuatia', 'uraibu', 'sugu', 'wa', 'mihadarati', 'hasa', 'sehemu', 'za', 'pwani', '.', '“', 'Sehemu', 'ya', 'Pwani', 'imeathirika', 'pakubwa', 'na', 'janga', 'la', 'mihadarati', 'ambayo', 'imechangia', 'watu', 'kupatia', 'maradhi', 'ya', 'akili', 'hasa', 'vijana', ',', '”', 'alisema', 'Bw', 'Okiama', '.', 'Aliongeza', 'kuwa', 'Rais', 'Uhuru', 'Kenyatta', 'aliamrisha', 'kupanuliwa', 'kwa', 'kituo', 'cha', 'wagonjwa', 'wa', 'akili', 'cha', 'Mathari', 'jijini', 'Nairobi', 'kukabiliana', 'na', 'wagongwa', 'wengi', 'wanaokabiliwa', 'na', 'hali', 'hiyo', '.', 'Mshirikishi', 'wa', 'eneo', 'la', 'Pwani', 'John', 'Elungata', 'aliwataka', 'wazazi', 'kulinda', 'watoto', 'wao', 'wasiingie', 'kwenye', 'uraibu', 'huo', '.', 'Matumaini', 'tele', 'kiwanda', 'cha', 'sukari', 'kianze', 'kunguruma', 'tena', 'KIWANDA', 'cha', 'sukari', 'cha', 'Mumias', 'ambacho', 'hakijakuwa', 'kikihudumu', 'kwa', 'muda', 'wa', 'miaka', 'mitatu', 'baada', 'ya', 'kuporomoka', ',', 'huenda', 'kikaanza', 'kusaga', 'sukari', 'hivi', 'karibuni', 'kwa', 'kuwa', 'mchakato', 'wa', 'kukikodisha', 'kwa', 'mwekezaji', 'unakaribia', 'kuanza', '.', 'Tangu', 'Septemba', ',', '2019', ',', 'kiwanda', 'hicho', 'kimekuwa', 'chini', 'ya', 'urasimu', 'wa', 'benki', 'ya', 'KCB', 'ambayo', 'ilijukumika', 'zaidi', 'kulinda', 'rasilimali', 'zake', 'na', 'kufufua', 'operesheni', 'zake', '.', 'Meneja', 'wa', 'KCB', 'P.V', '.', 'Ramana', 'Rao', 'alianzisha', 'mchakato', 'wa', 'kukodisha', 'kiwanda', 'hicho', 'ila', 'shughuli', 'hiyo', 'ikaingiliwa', 'na', 'wanasiasa', 'wakiongozwa', 'na', 'Seneta', 'wa', 'Kakamega', 'Cleophas', 'Malala', 'aliyedai', 'kuwa', 'mchakato', 'wa', 'kumpata', 'mwekezaji', 'mpya', 'haukuwa', 'na', 'uwazi', '.', 'Kutokana', 'na', 'malalamishi', 'ya', 'Bw', 'Malala', ',', 'Kamati', 'ya', 'Seneti', 'kuhusu', 'Kilimo', 'iliamuru', 'kuwa', 'mchakato', 'huo', 'uanze', 'upya', 'tena', 'kwa', 'njia', 'ya', 'uwazi', '.', 'Isitoshe', 'kulikuwa', 'na', 'kesi', 'mahakamani', 'iliyowasilishwa', 'na', 'Chama', 'cha', 'Ushirika', 'cha', 'Gakwamba', 'ambacho', 'kilitaka', 'meneja', 'huyo', 'wa', 'KCB', 'asikubaliwe', 'kuchapisha', 'matangazo', 'ya', 'tenda', '.', 'Katibu', 'wa', 'Muungano', 'wa', 'Wafanyakazi', 'na', 'Wakulima', 'wa', 'Miwa', '(', 'KUSPAW', ')', 'Francis', 'Wangara', 'alisema', 'kuwa', 'wanasubiri', 'mwelekeo', 'kutoka', 'kwa', 'Bw', 'Rao', 'kufahamu', 'hatua', 'inayofuata', 'baada', 'ya', 'muda', 'wa', 'kupokea', 'tenda', 'na', 'kuzitathmini', 'kukamilika', '.', '“', 'Baada', 'ya', 'tenda', 'kufunguliwa', 'wiki', 'jana', ',', 'tuna', 'imani', 'kuwa', 'hakutakuwa', 'na', 'utata', 'zaidi', 'kuhusu', 'kufufua', 'kiwanda', 'cha', 'Mumias', ',', '”', 'akasema', 'Bw', 'Wangara', '.', 'Kenya', 'yapokonya', 'wavuvi', 'wa', 'China', 'leseni', 'kwa', 'kutesa', 'Wakenya', 'KENYA', 'imefutilia', 'mbali', 'leseni', 'za', 'meli', 'sita', 'za', 'uvuvi', 'za', 'China', 'kwa', 'madai', 'kwamba', 'zilikuwa', 'zikidhulumu', 'mabaharia', 'wa', 'Kenya', 'na', 'kutumia', 'vifaa', 'vya', 'uvuvi', 'vilivyopigwa', 'marufuku', '.', 'Meli', 'hizo', 'zimekuwa', 'zikiendeleza', 'uvuvi', 'baada', 'ya', 'kupata', 'kibali', 'kuendesha', 'shughuli', 'hiyo', 'kuanzia', 'Januari', '1', ',', '2021', 'hadi', 'Desemba', '31', '2031', '.', 'Mkuu', 'wa', 'uvuvi', 'katika', 'Mamlaka', 'ya', 'shughuli', 'za', 'baharini', 'ya', 'Kenya', '(', 'KMA', ')', ',', 'John', 'Omingo', 'alisema', 'walipokonya', 'meli', 'hizo', 'leseni', 'kufuatia', 'malalamishi', 'kutoka', 'kwa', 'wafanyakazi', 'Wakenya', 'kwamba', 'zinapuuza', 'kanuni', 'kadhaa', 'za', 'uvuvi', 'za', 'Kenya', '.', 'Aliongeza', ':', '“', 'Tayari', 'tumewasiliana', 'na', 'wamiliki', 'wa', 'meli', 'hizo', 'ambao', 'ni', 'kampuni', 'ya', 'Qinsdad', 'Yung', 'Tung-Pelagic', 'Fisheries', 'Limited', 'kuhusu', 'kuondolewa', 'kwa', 'leseni', 'zao.', '”', 'Baadhi', 'ya', 'wafanyakazi', 'Wakenya', 'walikiri', 'kwamba', 'wamekuwa', 'wakitishiwa', 'kutupwa', 'kwenye', 'bahari', 'na', 'wavuvi', 'hao', '.', 'Kuondolewa', 'kwa', 'leseni', 'hizo', 'kunajiri', 'wakati', 'ambao', 'Kenya', 'inang', '’', 'ang', '’', 'ana', 'kufuatilia', 'shughuli', 'katika', 'bahari', 'baada', 'ya', 'shirika', 'la', 'Ufaransa', 'Collecte', 'Localisation', 'Satellites', '(', 'CLS', ')', 'kusimamisha', 'huduma', 'zake', 'Kenya', 'kwa', 'kutolipwa', 'zaidi', 'ya', 'Sh16', 'milioni', '.', 'Daraja', 'jipya', 'latarajiwa', 'kuinua', 'uchumi', 'wa', 'Kilifi', 'WAKAZI', 'wa', 'maeneo', 'ya', 'Baricho', 'na', 'Lango', 'Baya', 'katika', 'Kaunti', 'ya', 'Kilifi', 'wameelezea', 'matumaini', 'kwamba', 'mradi', 'unaoendelea', 'wa', 'ujenzi', 'wa', 'daraja', 'la', 'kuvukia', 'mto', 'Galana', 'utachochea', 'ukuaji', 'wa', 'kiuchumi', 'katika', 'maeneo', 'hayo', '.', 'Kwa', 'miongo', 'kadha', 'wakazi', 'wamekuwa', 'wakihatarisha', 'maisha', 'yao', 'wakivuka', 'mto', 'huo', ',', 'wenye', 'mamba', 'na', 'viboko', 'hatari', ',', 'wakiendelea', 'na', 'shughuli', 'za', 'kujitafutia', 'riziki', '.', 'Hali', 'huwa', 'mbaya', 'zaidi', 'katika', 'msimu', 'wa', 'mvua', 'nyingi', 'mto', 'huo', 'unapofurika', 'na', 'hivyo', 'wakazi', 'kulazimika', 'kutumia', 'mashua', 'kuvuka', 'mto', 'huo.Kuna', 'nyakati', 'ambapo', 'mashua', 'husombwa', 'na', 'maji', 'ya', 'mto', 'huo', '.', 'Ujenzi', 'wa', 'barabara', 'hiyo', 'unaendeshwa', 'na', 'kampuni', 'ya', 'MS', 'China', 'No', '10', 'Enginering', 'Group', 'na', 'utaunganisha', 'kaunti', 'ndogo', 'za', 'Magarini', 'na', 'Malindi', 'utakapokamilika', 'mnamo', 'Aprili', '2022', '.', 'Bw', 'Manyeso', 'Kamcha', 'alisema', 'maafa', 'mengi', 'yameshuhudiwa', 'katika', 'eneo', 'hilo', 'baada', 'ya', 'wakazi', 'kushambuliwa', 'na', 'wanyamapori', '.', 'Alisema', 'tangu', 'mkandarasi', 'huyo', 'alipoanza', 'kutengeneza', 'daraja', 'hilo', ',', 'visa', 'vya', 'watu', 'kuvuka', 'mto', 'huo', 'kwa', 'miguu', 'au', 'mashua', 'vimepungua', '.', 'Bw', 'Kamcha', 'alisema', 'wakazi', 'wengi', 'hutumia', 'daraja', 'la', 'muda', 'kuvuka', 'mto', 'huo', 'chini', 'ya', 'uangalizi', 'wa', 'mwanakandarasi', 'huyo', 'ili', 'kuzuia', 'mikasa', '.', '“', 'Huwa', 'tunalipa', 'Sh200', 'na', 'Sh400', 'kwa', 'mashua', 'kuvuka', 'kati', 'ya', 'Baricho', 'na', 'Lango', 'Baya', '.', 'Wakazi', 'wengi', 'hawawezi', 'kumudu', 'kulipa', 'nauli', 'hiyo', 'na', 'hivyo', 'huamua', 'kuvuka', 'kwa', 'miguu', 'na', 'hivyo', 'kuhatarisha', 'maisha', 'yao', ',', '”', 'akasema', '.', 'Kulingana', 'na', 'Kamcha', ',', 'wakulima', 'na', 'wafanyabiashara', 'wataweza', 'kusafirisha', 'bidhaa', 'zao', 'bila', 'changamoto', 'ilivyokuwa', 'zamani', ',', 'ujenzi', 'wa', 'daraja', 'hilo', 'utakapokamilika', '.', 'Wakulima', 'katika', 'maeneo', 'hayo', 'hukuza', 'mboga', 'na', 'matunda', 'ambayo', 'wao', 'huuza', 'katika', 'masoko', 'ya', 'miji', 'ya', 'Malindi', 'na', 'Kilifi', '.', 'Munya', 'atetea', 'KTDA', 'kuhusu', 'bonasi', 'ya', 'chini', 'ya', 'majani', 'chai', 'WAZIRI', 'Kilimo', 'Peter', 'Munya', 'ametetea', 'Mamlaka', 'ya', 'Kilimo', 'cha', 'Majanichai', '(', 'KTDA', ')', 'kuhusu', 'malipo', 'ya', 'chini', 'ya', 'bonasi', 'kwa', 'wakulima', 'mwaka', 'huu', '2021', ',', 'akisema', 'Hazina', 'ya', 'Kusawazisha', 'bei', 'ya', 'zao', 'hilo', 'itaboresha', 'malipo', 'hayo', 'mwaka', '2022', '.', 'Hazina', 'hiyo', 'itawapa', 'wakulipa', 'pesa', 'za', 'kununua', 'pembejeo', 'za', 'kilimo', 'na', 'kuhakikisha', 'kuwa', 'mapato', 'yao', 'hayashuki', 'hata', 'kama', 'bei', 'ya', 'majanichai', 'ni', 'duni', 'katika', 'masoko', 'ya', 'kimataifa', '.', 'Bw', 'Munya', 'alisema', 'kuwa', 'bonasi', 'ya', 'chini', 'kwa', 'wakulima', 'mwaka', 'huu', 'ilitokana', 'na', 'bei', 'duni', 'ya', 'majanichai', 'katika', 'mnada', 'wa', 'Mombasa', 'ambayo', 'ilikuwa', 'imewekwa', 'na', 'mawakala', 'wenye', 'nia', 'ya', 'kuwafilisi', 'wakulima', 'jasho', 'lao', '.', '“', 'Wakulima', 'hawafai', 'kulalamika', 'kuhusu', 'bonasi', 'ya', 'chini', 'kwa', 'sababu', 'hali', 'hiyo', 'ilichangiwa', 'na', 'mawakala', 'wakora', 'wakishirikiana', 'na', 'baadhi', 'ya', 'wakurugenzi', 'wa', 'KTDA', '.', 'Hata', 'hivyo', ',', 'hili', 'ni', 'suala', 'ambalo', 'limetatuliwa', 'na', 'mwaka', 'ujao', ',', 'wakulima', 'hawatalipwa', 'bonasi', 'ya', 'chini', 'tena', ',', '”', 'akasema', 'Bw', 'Munya', 'aliyekuwa', 'akizungumza', 'mjini', 'Nyeri', 'baada', 'ya', 'kuzuru', 'kiwanda', 'cha', 'majanichai', 'cha', 'Iria-Ini', '.', '“', 'Serikali', 'imesawazisha', 'bei', 'ya', 'majanichai', 'kuwaokoa', 'na', 'kuwalinda', 'wakulima', '.', 'Mtindo', 'ambao', 'tumeukumbatia', 'wa', 'kuweka', 'bei', 'hiyo', 'kwa', 'wanunuzi', 'unafaa', 'na', 'utasaidia', 'kuhakikisha', 'haipungui', 'hata', 'kama', 'kuna', 'mabadiliko', 'katika', 'bei', 'ya', 'nje', ',', '”', 'akaongeza', 'Bw', 'Munya', '.', 'Wakati', 'huo', 'huo', ',', 'Bw', 'Munya', 'alisema', 'wakulima', 'wamekuwa', 'wakilemewa', 'na', 'umaskini', 'kutokana', 'na', 'mikopo', 'inayotoza', 'riba', 'ya', 'juu', 'ambayo', 'wamekuwa', 'wakipewa', 'na', 'kampuni', 'ya', 'Green', 'Fedha', ',', 'mshirika', 'wa', 'KTDA', '.', '“', 'Kufikia', 'Disemba', 'mkopo', 'wowote', 'ambao', 'unatolewa', 'kwa', 'mkulipa', 'hautakuwa', 'ukitoza', 'riba', 'zaidi', 'ya', 'asilimia', '21', '.', 'Tumepunguza', 'kiwango', 'hicho', 'hadi', 'asilimia', 'nane', 'na', 'baada', 'ya', 'bei', 'iliyosawazishwa', 'kuanza', 'kutekelezwa', ',', 'itashuka', 'hadi', 'asilimia', 'tano', ',', '”', 'akasema', 'Bw', 'Munya', '.', 'Vilevile', ',', 'waziri', 'huyo', 'alisema', 'serikali', 'inapanga', 'kuanzisha', 'maabara', 'ambayo', 'itakuwa', 'ikipima', 'ubora', 'wa', 'majanichai', 'ya', 'Kenya', 'kabla', 'ya', 'kuuzwa', 'katika', 'masoko', 'ya', 'nje', '.', '“', 'Kwa', 'sasa', 'ni', 'majanichai', 'pekee', 'ambayo', 'inauzwa', 'bila', 'ubora', 'wake', 'kupimwa', 'tofauti', 'na', 'kahawa', 'na', 'mazao', 'mengine', '.', 'Baada', 'ya', 'maabara', 'hayo', 'kujengwa', ',', 'tutathmini', 'ubora', 'wa', 'majanichai', 'ambao', 'utakikisha', 'wakulima', 'wanalipwa', 'bonasi', 'za', 'juu', ',', '”', 'alisema', '.', 'Mnamo', 'Agosti', '2021', ',', 'Bodi', 'ya', 'Famasia', 'na', 'Sumu', '(', 'PPB', ')', 'ilifafanua', 'kwamba', 'iliidhinisha', 'matumizi', 'ya', 'Ivermeclin', 'kutibu', 'matende', 'wala', 'si', 'corona', '.', '“', 'Uchunguzi', 'wa', 'kimatibabu', 'na', 'ushahidi', 'uliopo', 'unaonyesha', 'kuwa', 'hakuna', 'leseni', 'kutoka', 'kwa', 'PPB', 'wa', 'kuruhusu', 'ivermectin', 'itumike', 'katika', 'kupambana', 'na', 'corona', '.', 'Ni', 'dawa', 'ambayo', 'ni', 'sumu', 'kwa', 'binadamu', 'kulingana', 'na', 'Shirika', 'la', 'Afya', 'Duniani', ',', '”', 'likasema', 'Shirika', 'la', 'Kudhibiti', 'Matumizi', 'ya', 'Dawa', 'Nchini', 'Marekani', '(', 'FDA', ')', '.', 'Pia', 'matumizi', 'ya', 'Ivermectin', 'yanaweza', 'kusababisha', 'mgonjwa', 'kutapika', ',', 'kuendesha', ',', 'shinikizo', 'la', 'damu', 'na', 'hata', 'kifo', '.']\n",
      "\n",
      " Number of Words:  1788\n"
     ]
    }
   ],
   "source": [
    "file=\"21oct10.txt\"\n",
    "\n",
    "# calling the function and storing the contents in a text variable \n",
    "text1 = get_document(\"https://taifaleo.nation.co.ke/kdf-kusaidia-kukabiliana-na-ukame/\")\n",
    "text3 = get_document(\"https://taifaleo.nation.co.ke/unywaji-pombe-unachangia-matatizo-ya-akili-nacada/\")\n",
    "text4 = get_document(\"https://taifaleo.nation.co.ke/matumaini-tele-kiwanda-cha-sukari-kianze-kunguruma-tena/\")\n",
    "text5 = get_document(\"https://taifaleo.nation.co.ke/kenya-yapokonya-wavuvi-wa-china-leseni-kwa-kutesa-wakenya/\")\n",
    "text6 = get_document(\"https://taifaleo.nation.co.ke/daraja-jipya-latarajiwa-kuinua-uchumi-wa-kilifi/\")\n",
    "text7 = get_document(\"https://taifaleo.nation.co.ke/munya-atetea-ktda-kuhusu-bonasi-ya-chini-ya-majani-chai/\")\n",
    "text8 = get_document(\"https://taifaleo.nation.co.ke/wizara-yatoa-onyo-dhidi-ya-matumizi-ya-dawa-ya-kuua-chawa/\")\n",
    "\n",
    "# calling the store_ document function \n",
    "store_document(doc=text1,name=file)\n",
    "store_document(doc=text2,name=file)\n",
    "store_document(doc=text3,name=file)\n",
    "store_document(doc=text4,name=file)\n",
    "store_document(doc=text5,name=file)\n",
    "store_document(doc=text6,name=file)\n",
    "store_document(doc=text7,name=file)\n",
    "store_document(doc=text8,name=file)\n",
    "\n",
    "#add the words in this file to the total_corpus_words, to keep count of the number of words in the corpus\n",
    "total_corpus_words+=total_words(file)"
   ]
  },
  {
   "cell_type": "code",
   "execution_count": 65,
   "metadata": {},
   "outputs": [
    {
     "data": {
      "text/plain": [
       "768636"
      ]
     },
     "execution_count": 65,
     "metadata": {},
     "output_type": "execute_result"
    }
   ],
   "source": [
    "total_corpus_words"
   ]
  },
  {
   "cell_type": "code",
   "execution_count": 67,
   "metadata": {},
   "outputs": [
    {
     "name": "stdout",
     "output_type": "stream",
     "text": [
      "['Kaunti', 'za', 'Pwani', 'kusaka', '?', 'watalii', 'kama', 'eneo', 'moja', 'SERIKALI', 'ya', 'Kaunti', 'ya', 'Mombasa', 'itashirikiana', 'na', 'kaunti', 'zingine', 'za', 'Pwani', 'kuinua', 'sekta', 'ya', 'utalii', 'ambayo', 'imepata', 'pigo', 'kubwa', 'katika', 'miaka', 'ya', 'hivi', 'majuzi', '.', 'Kupitia', 'mpango', 'wa', '‘', 'Sister', 'Cities', '’', 'ambao', 'hulenga', 'kutafuta', 'ushirikiano', 'wa', 'miji', 'ya', 'kimataifa', 'kuvutia', 'utalii', ',', 'kaunti', 'hiyo', 'ikiongozwa', 'na', 'Gavana', 'Hassan', 'Joho', 'imeanza', 'kutafuta', 'umoja', 'wa', 'Pwani', 'kitalii', ',', 'ikianza', 'na', 'Kaunti', 'ya', 'Kwale', '.', 'Akizungumza', 'katika', 'Hoteli', 'ya', 'Neptune', 'Beach', 'iliyo', 'Diani', ',', 'Kaunti', 'ya', 'Kwale', ',', 'Afisa', 'Mkuu', 'wa', 'Vijana', ',', 'Jinsia', 'na', 'Michezo', 'katika', 'Kaunti', 'ya', 'Mombasa', ',', 'Bw', 'Innocent', 'Mugabe', 'alisema', 'mpango', 'huo', 'unakusudia', 'kukuza', 'utalii', 'katika', 'eneo', 'lote', 'la', 'Pwani', 'na', 'kuvutia', 'watalii', 'zaidi', 'wa', 'kimataifa', 'ambao', 'idadi', 'yao', 'imepungua', 'kwa', 'sababu', 'ya', 'janga', 'la', 'corona.', '“', 'Kaunti', 'ya', 'Kwale', 'ni', 'ya', 'kipekee', '.', 'Hatuangalii', 'tu', 'Kaunti', 'ya', 'Mombasa', ',', 'lakini', 'pia', 'kaunti', 'nyingine', 'jirani', 'kwa', 'sababu', 'hatuwezi', 'kuuza', 'Pwani', 'ya', 'Kenya', 'kupitia', 'kwa', 'kaunti', 'moja', 'tu', ',', '”', 'Bw', 'Mugabe', 'alisema', '.', 'Alikuwa', 'akizungumza', 'alipoandamana', 'na', 'waandishi', 'wa', 'habari', 'na', 'maajenti', 'wa', 'utalii', 'na', 'usafiri', 'kutoka', 'Ukraine', 'waliotembelea', 'Kwale', ',', 'ili', 'kugundua', 'vivutio', 'ambavyo', 'vinaweza', 'kuwafuraisha', 'watalii', 'wa', 'Kiukreni', '.', 'Kaunti', 'ya', 'Mombasa', 'ilitia', 'saini', 'ushirika', 'wa', 'utalii', 'na', 'serikali', 'ya', 'Ukraine', 'kufufua', 'sekta', 'ya', 'utalii', 'kupitia', 'mpango', 'maalumu', 'wa', '‘', 'Sister', 'Cities', '’', '.', 'Bw', 'Mugabe', 'aliongeza', 'kuwa', 'Kaunti', 'za', 'Taita', 'Taveta', 'na', 'Kilifi', 'pia', 'zinalengwa', 'kutokana', 'na', 'vivutio', 'kama', 'vile', 'Mbuga', 'ya', 'Wanyama', 'ya', 'Tsavo', 'ambayo', 'inajulikana', 'kwa', 'wanyama', 'pori', 'na', 'uhamiaji', 'wa', 'nyangumi', 'huko', 'Watamu', ',', 'Kilifi', ',', 'ambao', 'kwa', 'muda', 'mrefu', 'umevutia', 'watalii', 'kutoka', 'kote', 'ulimwenguni', '.', 'Balozi', 'wa', 'Ukraine', 'nchini', ',', 'Bw', 'Oleksii', 'Sierkov', 'alisema', 'kuwa', 'tayari', ',', 'ndege', 'zaidi', 'za', 'kukodisha', 'zimepangwa', 'kuleta', 'watalii', 'kutoka', 'nchi', 'yake', 'ambao', 'watatua', 'kwenye', 'Uwanja', 'wa', 'Ndege', 'wa', 'Kimataifa', 'wa', 'Moi', ',', 'Mombasa.Wiki', 'hii', ',', 'watalii', 'zaidi', 'ya', '200', 'wanatarajiwa', 'kuwasili', 'Mombasa', '.', '‘', 'Tangu', 'tuanze', 'ushirikiano', 'huu', ',', 'zaidi', 'ya', 'watalii', '1,000', 'kutoka', 'Ukraine', 'wamefika', 'Kenya', 'na', 'tunatumaini', 'pia', 'kwamba', 'Wakenya', 'wengi', 'watatembelea', 'Ukraine', ',', '’', 'alisema', 'balozi', 'huyo', 'katika', 'mahojiano', 'akiwa', 'Kaunti', 'ya', 'Kwale', '.', 'Mkurugenzi', 'wa', 'mpango', 'huo', 'wa', 'Sister', 'City', ',', 'Bi', 'Salma', 'Noor', 'alisema', 'angalau', 'miji', '22', 'ya', 'kimataifa', 'imekubali', 'kushirikiana', 'na', 'Kenya', 'kupitia', 'mpango', 'huo', 'wakati', 'miji', 'kutoka', 'Ukraine', 'tayari', 'imeahidi', 'kuwa', 'na', 'ndege', 'zao', 'za', 'kukodi', 'kwenda', 'Mombasa', '.', '‘', 'Miji', 'mingine', 'mingi', 'sasa', 'inavutiwa', 'kujisajili', 'nasi', 'na', 'hii', 'itaongeza', 'idadi', 'ya', 'watalii', 'huko', 'Mombasa', 'ambao', 'pia', 'watatembelea', 'kaunti', 'nyingine', ',', '’', 'alisema', ',', 'akisisitiza', 'kuwa', 'lengo', 'ni', 'kunufaisha', 'kaunti', 'zote', 'katika', 'eneo', 'la', 'Pwani', '.', 'Hivi', 'sasa', ',', 'utalii', 'wa', 'kimataifa', 'umeanza', 'kuimarika', 'Pwani', 'na', 'hoteli', 'nyingi', 'zinarekodi', 'idadi', 'kubwa', 'za', 'watalii', 'kutoka', 'nchi', 'za', 'nje', 'ikilinganishwa', 'na', 'mwaka', 'jana', '.', 'LEONARD', 'ONYANGO', ':', 'Siku', 'ya', 'Utamaduni', 'ilifaa', 'kuadhimishwa', 'kipekee', 'HATUA', 'ya', 'serikali', 'kutangaza', 'Oktoba', '10', 'kuwa', 'Siku', 'ya', 'Utamaduni', 'bila', 'kuandaa', 'maadhimisho', 'ya', 'kitaifa', ',', 'ni', 'kazi', 'bure', '.', 'Waziri', 'wa', 'Masuala', 'ya', 'Ndani', ',', 'Dkt', 'Fred', 'Matiang', '’', 'i', 'alipotangaza', ',', 'wiki', 'iliyopita', ',', 'kwamba', 'leo', 'ni', 'siku', 'ya', 'mapumziko', 'kufidia', 'Oktoba', '10', 'ambayo', 'ilifanyika', 'jana', ',', 'aliwataka', 'Wakenya', 'kusherekea', 'Siku', 'ya', 'Utamaduni', 'kwa', 'njia', 'inayodumisha', 'umoja', 'na', 'utangamano', 'wa', 'kitaifa', '.', 'Serikali', 'ilistahili', 'kuwa', 'kielelezo', 'kwa', 'kuandaa', 'maonyesho', 'makubwa', 'ya', 'kitaifa', 'ya', 'siku', 'mbili', 'ambapo', 'wawakilishi', 'kutoka', 'jamii', 'zote', 'nchini', 'wangekutana', '.', 'Maonyesho', 'sawa', 'na', 'hayo', 'pia', 'yalifaa', 'kufanyika', 'katika', 'kaunti', 'zote', '47', 'ili', 'kutoa', 'fursa', 'kwa', 'jamii', 'mbalimbali', 'mila', ',', 'desturi', 'na', 'historia', 'yao', '.', 'Sherehe', 'za', 'Utamaduni', 'zilifaa', 'kusherehekewa', 'kwa', 'siku', 'mbili', 'kwa', 'sababu', 'hii', 'ni', 'mara', 'ya', 'kwanza', 'kwa', 'siku', 'hiyo', 'kuadhimishwa', 'humu', 'nchini', '.', 'Huku', 'Uchaguzi', 'Mkuu', 'wa', 'Agosti', '9', ',', '2022', 'ukikaribia', ',', 'Wakenya', 'walifaa', 'kutumia', 'siku', 'ya', 'jana', 'kujielimisha', 'kuhusu', 'utamaduni', 'wa', 'jamii', 'nyingine', '.', 'Ufahamu', 'kuhusu', 'mila', 'na', 'desturi', 'za', 'jamii', 'nyingine', 'ni', 'njia', 'mojawapo', 'ya', 'kuleta', 'utangamano', 'nchini.Uhasama', 'wa', 'kikabila', 'unaoshuhudiwa', 'humu', 'nchini', 'unatokana', 'na', 'watu', 'kutoelewa', 'vyema', 'jamii', 'nyingine', '.', 'Rais', 'Kenyatta', 'ambaye', 'amekuwa', 'akikariri', 'kwamba', 'analenga', 'kuacha', 'Wakenya', 'wameungana', 'baada', 'ya', 'kustaafu', 'mwaka', 'ujao', ',', 'angetumia', 'maonyesho', 'hayo', 'kuhubiri', 'umoja', 'na', 'mshikamano', 'nchini', '.', 'Mnamo', '2019', ',', 'Baraza', 'la', 'Mawaziri', 'liliidhinisha', 'Oktoba', '10', 'kuwa', 'Siku', 'ya', 'Utumishi', 'na', '‘', 'Boxing', 'Dei', '’', '–', 'ambayo', 'husherekewa', 'Desemba', '26', 'baada', 'ya', 'Krismasi', '–', 'kuwa', 'Utamaduni', '.', 'Rais', 'Kenya', 'aliwataka', 'Wakenya', 'kusherekea', 'Boxing', 'Dei', 'kwa', 'kuzingatia', 'mila', 'za', 'Kiafrika', 'badala', 'ya', 'kufuata', 'desturi', 'za', 'kigeni', 'bila', 'kujua', 'maana', '.', 'Lakini', 'inaonekana', 'serikali', 'imebadili', 'na', 'sasa', 'Siku', 'ya', 'Utamaduni', 'itakuwa', 'ikiadhimishwa', 'Oktoba', '10', 'na', 'Desemba', '26', 'itakuwa', 'Huduma', 'Dei', '.', 'Tangu', '1988', ',', 'Wakenya', 'walikuwa', 'wakiadhimisha', 'Siku', 'ya', 'Moi', 'kila', 'Oktoba', '10', 'hadi', '2010', 'ambapo', 'jina', 'hilo', 'lilifutiliwa', 'mbali', 'na', 'Katiba', 'mpya', '.', 'Kati', 'ya', '2010', 'na', '2017', ',', 'siku', 'hiyo', 'haikuwa', 'ikisherekewa', 'hadi', 'pale', 'Jaji', 'George', 'Odunga', 'aliposema', 'kuwa', 'Oktoba', '10', 'ingali', 'sikukuu', 'ya', 'kitaifa', 'kwa', 'mujibu', 'wa', 'Katiba', 'na', 'akaagiza', 'serikali', 'kuhakikisha', 'kuwa', 'inaadhimishwa.Kati', 'ya', '2018', 'na', '2020', ',', 'siku', 'hiyo', 'imekuwa', 'ikiadhimishwa', 'lakini', 'bila', 'kitu', 'cha', 'kusherekea', '.', 'Kulingana', 'na', 'Shirika', 'la', 'Umoja', 'wa', 'Mataifa', 'kuhusu', 'Elimu', ',', 'Sayansi', 'na', 'Utamaduni', '(', 'Unesco', ')', ',', 'nusu', 'ya', 'lugha', '7,000', 'zinazozungumzwa', 'kote', 'duniani', ',', 'zitakufa', 'kufikia', 'mwishoni', 'mwa', 'karne', 'hii', 'ya', '21', '.', 'Utamaduni', 'na', 'lugha', 'kadhaa', 'zinazozungumzwa', 'na', 'jamii', 'mbalimbali', 'ni', 'miongoni', 'mwa', 'zitakazotoweka.Siku', 'ya', 'Utamaduni', 'iwapo', 'itaandaliwa', 'vyema', ',', 'itatoa', 'fursa', 'kwa', 'watoto', 'kujifahamisha', 'mengi', 'kuhusiana', 'na', 'utamaduni', 'wa', 'jamii', 'za', 'humu', 'nchini', 'kabla', 'ya', 'kutoweka.Hivyo', ',', 'serikali', 'haina', 'budi', 'kuichukulia', 'kwa', 'uzito', 'Siku', 'ya', 'Utamaduni', 'itakapoadhimishwa', 'tena', 'mwaka', 'ujao', '.']\n",
      "\n",
      " Number of Words:  887\n"
     ]
    }
   ],
   "source": [
    "file=\"21oct11.txt\"\n",
    "\n",
    "# calling the function and storing the contents in a text variable \n",
    "text1 = get_document(\"https://taifaleo.nation.co.ke/kaunti-za-pwani-kusaka-%e2%80%a8watalii-kama-eneo-moja/\")\n",
    "text2 = get_document(\"https://taifaleo.nation.co.ke/leonard-onyango-siku-ya-utamaduni-ilifaakuadhimishwa-kipekee/\")\n",
    "\n",
    "# calling the store_ document function \n",
    "store_document(doc=text1,name=file)\n",
    "store_document(doc=text2,name=file)\n",
    "\n",
    "#add the words in this file to the total_corpus_words, to keep count of the number of words in the corpus\n",
    "total_corpus_words+=total_words(file)"
   ]
  },
  {
   "cell_type": "code",
   "execution_count": 68,
   "metadata": {},
   "outputs": [
    {
     "data": {
      "text/plain": [
       "769523"
      ]
     },
     "execution_count": 68,
     "metadata": {},
     "output_type": "execute_result"
    }
   ],
   "source": [
    "total_corpus_words"
   ]
  },
  {
   "cell_type": "code",
   "execution_count": 73,
   "metadata": {},
   "outputs": [
    {
     "name": "stdout",
     "output_type": "stream",
     "text": [
      "['Radol', 'alenga', 'kutinga', 'anga', 'za', 'kimataifa', 'katika', 'uigizaji', 'ANAELEKEA', 'kutinga', 'miaka', 'mitatu', 'tangia', 'aanze', 'kujituma', 'kwenye', 'masuala', 'ya', 'maigizo', 'ambapo', 'amepania', 'kufikia', 'hadhi', 'ya', 'filamu', 'za', 'Hollywood', 'miaka', 'ijayo', '.', 'Aidha', 'ni', 'miongoni', 'mwa', 'mabinti', 'wanaoendelea', 'kuvumisha', 'jukwaa', 'la', 'uigizaji', 'nchini', '.', 'Eleyne', 'Mutsoli', 'maarufu', 'Radol', 'anasema', 'kuwa', 'amepania', 'kujituma', 'mithili', 'ya', 'mchwa', 'kuhakikisha', 'anatinga', 'upeo', 'wa', 'kimataifa', 'kama', 'Angelina', 'Jolie', 'mzawa', 'wa', 'Marekani', ',', 'aliyeshiriki', 'filamu', 'kali', 'kama', 'Magnificent', '.', 'Kisura', 'huyu', 'aliye', 'pia', 'mpondoaji', '(', 'Makeup', 'Artist', ')', 'amehitimu', 'kwa', 'shahada', 'ya', 'digrii', 'katika', 'masuala', 'ya', 'uigizaji', 'kwenye', 'Chuo', 'Kikuu', 'cha', 'Multimedia', '(', 'MMU', ')', '.', '”', 'Ndio', 'ninakuja', 'katika', 'masuala', 'ya', 'maigizo', 'lakini', 'ninaamini', 'ninatosha', 'mboga', 'ambapo', 'ninatamani', 'kujituma', 'kiume', 'kuhakikisha', 'nimetinga', 'hadhi', 'ya', 'juu', ',', '”', 'alisema', '.', 'MPASUAJI', 'Anasema', 'kuwa', 'akiwa', 'darasa', 'la', 'sita', 'alisoma', 'kitabu', 'cha', 'mwandishi', 'Ben', 'Carson', 'kiitwacho', '‘', 'Gifted', 'Hands', '’', 'ambapo', 'alipata', 'motisha', 'kuwa', 'mpasuaji', '.', '”', 'Licha', 'ya', 'hayo', 'taaluma', 'yangu', 'ya', 'uigizaji', 'ilianza', 'kuchipuka', 'nilipotinga', 'kidato', 'cha', 'tatu', 'ambapo', 'nilitamani', 'kusomea', 'masuala', 'ya', 'burudani', 'hadi', 'Chuo', 'Kikuu', ',', '”', 'binti', 'huyu', 'anasema', 'na', 'kuongeza', 'kuwa', 'anatamani', 'kuwa', 'balozi', 'wa', 'Kenya', 'kwa', 'kutangaza', 'utamaduni', 'wa', 'taifa', 'hili', 'kama', 'ilivyo', 'nchini', 'Nigeria', 'na', 'Ghana', '.', 'Ingawa', 'ni', 'miaka', 'michache', 'tangu', 'ajiunge', 'na', 'uigizaji', 'binti', 'huyu', 'aliyezaliwa', 'mwaka', '1996', 'anajivunia', 'kushiriki', 'filamu', 'nyingi', 'tu', 'ikiwamo', ',', 'Kortini', '(', 'Ebru', 'TV', ')', ',', 'Kina', '(', 'Maisha', 'Magic', 'Plus', ')', ',', 'Varshita', '(', 'Maisha', 'magic', 'East', ')', 'na', 'Aunty', 'Boss', '(', 'NTV', ')', 'kati', 'ya', 'zingine', '.', 'Eleyne', 'Mutsoli', 'maarufu', 'Radol…Picha/JOHN', 'KIMWERE', '”', 'Kando', 'na', 'kazi', 'hizo', 'pia', 'chuoni', 'tulishiriki', 'filamu', '‘', 'A', 'cry', 'for', 'help', ',', '’', 'na', '‘', 'Tears', 'of', 'Fury', '’', ',', 'ambazo', 'hadi', 'leo', 'zimenifanya', 'nihisi', 'nikiwa', 'mshindi', '.', 'Amepania', 'kuwa', 'kati', 'ya', 'waigizaji', 'waliopiga', 'hatua', 'ndani', 'ya', 'miaka', 'mitano', 'ijayo', '.', '‘', 'Katika', 'kipindi', 'hicho', 'nataka', 'kuwa', 'na', 'kampuni', 'yangu', 'pia', 'niwe', 'nimezalisha', 'filamu', 'inayoangazia', 'utamaduni', 'wetu', '.', '”', 'Anatoa', 'wito', 'kwa', 'serikali', 'za', 'Kaunti', 'zote', '47', 'zijenge', 'na', 'kufungua', 'kumbi', 'za', 'burudani', 'kwa', 'ajili', 'ya', 'wasanii', 'wanaoibukia', 'kuonyesha', 'vipaji', 'vyao', '.', 'Pia', 'anasema', 'itakuwa', 'bora', 'endapo', 'Wakenya', 'watajifunza', 'kutokana', 'na', 'mataifa', 'yanayoendelea', 'ambapo', 'wasanii', 'wamejitwika', 'jukumu', 'la', 'kutangaza', 'utamaduni', 'wao', 'kupitia', 'uigizaji', '.', 'Kwa', 'waigizaji', 'wa', 'kimataifa', 'anasema', 'angependa', 'kufanya', 'kazi', 'na', 'Genevive', 'Nnaji', 'wa', 'Nigeria', 'aliyeshiriki', 'filamu', 'nyingi', 'tu', 'ikiwamo', 'Blood', 'Sisters', 'kati', 'ya', 'zingine', '.', 'Pia', 'ansema', 'angependa', 'kushirikiana', 'na', 'Mkenya', 'mwenzake', 'anayetamba', 'katika', 'filamu', 'za', 'kimataifa', ',', 'Lupita', 'Nyong', '’', 'o', 'aliyetwaa', 'tuzo', 'kutokana', 'na', 'filamu', 'yake', '12', 'Years', 'A', 'slave', 'na', 'pia', 'Black', 'Panther', '.', 'Msanii', 'alisha', 'asema', 'usaliti', ',', 'vurugu', 'zilimtoa', 'machozi', 'NI', 'ndoto', 'ya', 'kila', 'msanii', 'kuona', 'anaimarika', 'katika', 'kazi', 'zake', 'na', 'kutambulika', 'kote', 'duniani', '.', 'Alice', 'Karwitha', 'Kithinji', 'aachwi', 'nyuma', 'ameibuka', 'kati', 'ya', 'wanawake', 'wanaopania', 'kujizolea', 'umaarufu', 'sio', 'haba', 'hapa', 'nchini', 'pia', 'kufikia', 'viwango', 'vya', 'wasanii', 'watajika', 'duniani', '.', 'Sura', 'na', 'jina', 'lake', 'pengine', 'siyo', 'geni', 'kwa', 'wapenzi', 'wa', 'tasnia', 'ya', 'filamu', 'hapa', 'nchini', 'ni', 'miongoni', 'mwa', 'wasanii', 'wanaojivunia', 'kuchota', 'wafuasi', 'wengi', 'tu', 'kupitia', 'vipindi', 'mbali', 'mbali', 'ambavyo', 'vimepata', 'mpenyo', 'kupeperushwa', 'kupitia', 'runinga', 'tofauti', '.', 'Kando', 'na', 'uigizaji', 'dada', 'huyu', 'ni', 'mratibu', 'wa', 'sherehe', '(', 'MC', ')', 'ambaye', 'kisanaa', 'anafahamika', 'kama', 'MC', 'Alisha', '.', 'Ni', 'dada', 'aliyeanza', 'kujituma', 'kwenye', 'masuala', 'ya', 'maigizo', 'mwaka', '2014', 'pia', 'anayejivunia', 'kuwa', 'MC', 'kwenye', 'hafla', 'mbali', 'mbali', 'ikiwamo', 'harusi', 'kati', 'ya', 'zingine', '.', '”', 'Bila', 'kujisifia', 'kando', 'na', 'kuwa', 'nilikuwa', 'napenda', 'uigizaji', 'nilivutiwa', 'zaidi', 'wakati', 'nilipotazama', 'filamu', 'iitwayo', 'Sarafina', 'yake', 'Leleti', 'Khumalo', 'mzawa', 'wa', 'Afrika', 'Kusini', ',', '”', 'amesema', 'na', 'kuongeza', 'kwamba', 'anajivunia', 'kushiriki', 'filamu', 'nyingi', 'tu', 'ambazo', 'zimepata', 'mpenyo', 'kupeperushwa', 'kupitia', 'runinga', 'tofauti', 'nchini', '.', 'Binti', 'huyu', 'aliyezaliwa', 'mwaka', '1980', 'ambaye', 'kajaliwa', 'watoto', 'watatu', 'anapania', 'kukuza', 'kipawa', 'chake', 'zaidi', 'anakolenga', 'kuibuka', 'msanii', 'tajika', '.', 'Anasema', 'anatamani', 'kujituma', 'kiume', 'katika', 'uigizaji', 'akilenga', 'kutinga', 'upeo', 'wa', 'kimataifa', 'kiwango', 'chake', 'Julia', 'Fiona', 'Roberts', 'mzawa', 'wa', 'Marekani', '.', 'Pia', 'anadokeza', 'kuwa', 'upande', 'wa', 'muvi', 'amefaulu', 'kushiriki', '‘', 'Tuko', 'macho', '’', 'iliyopata', 'nafasi', 'kuonyeshwa', 'kwenye', 'hafla', 'ya', 'Toronto', 'Film', 'Festival', 'ambapo', 'humu', 'nchini', 'ilipeperushwa', 'kupitia', 'NTV', '.', '”', 'Tangia', 'nikiwa', 'mdogo', 'nilidhamiria', 'kuhitimu', 'kuwa', 'mwana', 'habari', ',', 'mtangazaji', 'kwenye', 'runinga', 'pia', 'wakili', 'lakini', 'mpango', 'wangu', 'haukutimia', '.', 'Hata', 'hivyo', 'nilikuwa', 'navutiwa', 'na', 'masuala', 'ya', 'maigizo', ',', '”', 'akasema', '.', 'Hata', 'hivyo', 'ndani', 'ya', 'miaka', 'mitano', 'ijayo', 'analenga', 'kuibuka', 'mwigizaji', 'bomba', 'nchini', '.', 'Kwa', 'wenzake', 'barani', 'Afrika', 'angependa', 'kujikuta', 'jukwaa', 'moja', 'kikazi', 'nao', 'Leleti', 'Khumalo', '(', 'Afrika', 'Kusini', ')', ',', 'Mercy', 'Johnson', 'na', 'Ini', 'Edo', 'wote', '(', 'Nigeria', ')', 'kati', 'ya', 'wengine', '.', 'Humu', 'nchini', 'huwa', 'anapenda', 'sana', 'siku', 'moja', 'kufanya', 'kazi', 'nao', 'Neomi', 'Ng', '’', 'ang', '’', 'a', 'na', 'Kate', 'Kamau', 'ambao', 'hushiriki', 'filamu', 'iitwayo', 'Ma', 'Empress', '.', 'Anashikilia', 'kuwa', 'kwenye', 'juhudi', 'za', 'kupaisha', 'sekta', 'ya', 'uigizaji', 'nchini', 'mara', 'kwa', 'mara', 'serikali', 'inastahili', 'kuandaa', 'hafla', 'za', 'kutambua', 'wanaofanya', 'vizuri', 'wanaume', 'kwa', 'wanawake', '.', 'Pia', 'inapaswa', 'kutenga', 'fedha', 'za', 'kuipiga', 'jeki', 'tasnia', 'ya', 'maigizo', 'ili', 'kutoa', 'nafasi', 'za', 'ajira', 'kwa', 'wasanii', 'chipukizi', 'na', 'wakomavu', 'kama', 'ilivyo', 'nchini', 'Nigeria', '.', 'CHANGAMOTO', '”', 'Hapa', 'nchini', 'wakati', 'mwingine', 'msanii', 'ukawia', 'sana', 'bila', 'kupata', 'ajira', 'ilhali', 'ana', 'mahitaji', 'ya', 'kimaisha', ',', '”', 'alisema', 'na', 'kuongeza', 'kuwa', 'kitendo', 'hicho', 'huchangia', 'baadhi', 'yao', 'kusepa', 'na', 'kutema', 'uigizaji', '.', 'Akiwa', 'mwanafamilia', '(', 'Single', 'Mother', ')', 'anapenda', 'watoto', 'ambapo', 'chini', 'ya', 'kundi', 'lake', 'kwa', 'jina', 'Friends', 'of', 'Charitable', 'Hearts', 'kupitia', 'marafiki', 'huchanga', 'fedha', 'za', 'kulisha', 'familia', 'za', 'mitaani', '(', 'Street', 'families', ')', '.', 'Anasema', 'usaliti', 'na', 'vurugu', 'ziliwahi', 'kusababisha', 'alie', 'machozi', 'hali', 'iliyomfanya', 'aamue', 'achukie', 'kuolewa', 'pia', 'kuwa', 'katika', 'mahusiano', 'ya', 'kimapenzi', '.', 'Amehitimu', 'kwa', 'shahada', 'ya', 'digrii', 'katika', 'masuala', 'ya', 'elimu', 'kutoka', 'Chuo', 'Kikuu', 'cha', 'Kenyatta', '(', 'KU', ')', 'ambapo', 'amekuwa', 'mwalimu', 'kwenye', 'Shule', 'kadha', 'wa', 'kadha', 'za', 'Upili', 'ikiwamo', 'Shule', 'ya', 'Sunshine', ',', 'Lang', '’', 'ata', ',', 'Nairobi', '.', 'Pia', 'ni', 'edita', 'wa', 'filamu', 'na', 'produsa', 'anayelenga', 'makubwa', '.', 'Kando', 'na', 'hayo', 'anamiliki', 'chaneli', 'ya', 'Youtube', 'iitwayo', 'Nairobi', 'Chronicles', 'aliyoanzisha', 'mwaka', '2018', 'ambapo', 'huitumia', 'kupeperusha', 'filamu', 'fupi', '.', 'Msanii', 'Robert', 'Obonyo', 'Chybre…Picha/JOHN', 'KIMWERE', 'Alianza', 'kujituma', 'kwenye', 'masuala', 'ya', 'uigizaji', 'akiwa', 'mwanafunzi', 'wa', 'shule', 'ya', 'upili', '.', 'Lakini', 'alipata', 'kunoa', 'kucha', 'zake', 'katika', 'usanii', 'alipojiunga', 'na', 'Kundi', 'la', 'Talent', 'House', 'Production', 'chuoni', 'humo', 'mwaka', '2015', '.', '”', 'Ninaamini', 'ninatosha', 'mboga', 'katika', 'masuala', 'ya', 'uigizaji', 'ambapo', 'ninalenga', 'kuibuka', 'kati', 'ya', 'wana', 'maigizo', 'nguli', 'hapa', 'nchini', 'na', 'Afrika', 'kwa', 'jumla', '.', 'Uigizaji', 'ni', 'burudani', 'pia', 'ajira', 'kwa', 'wengi', 'wetu', 'wenye', 'talanta', ',', '”', 'alisema', 'na', 'kuongeza', 'analenga', 'kutinga', 'upeo', 'wa', 'kimataifa', 'miaka', 'ijayo', '.', 'SITAKI', 'INGINE', ',', 'NIMECHOKA', 'Anadokeza', 'kuwa', 'mwigizaji', 'Raymond', 'Ofula', 'wa', 'humu', 'nchini', 'ndiye', 'aliyechangia', 'avutiwe', 'na', 'maigizo', '.', 'Kutokana', 'na', 'kushikika', 'katika', 'taaluma', 'ya', 'ualimu', 'msanii', 'huyu', 'anasema', 'kuwa', 'hakupata', 'nafasi', 'ya', 'kufanya', 'kazi', 'na', 'makundi', 'mengi', 'ila', 'aliwahi', 'shiriki', 'filamu', 'fupi', 'katika', 'kipindi', 'cha', 'House', 'helps', 'of', 'Kawangware', '.', 'Kipindi', 'hicho', 'awali', 'kilikuwa', 'kinapeperushwa', 'kupitia', 'KTN', 'kisha', 'NTV', 'ya', 'Nation', 'Media', 'Group', '(', 'NMG', ')', '.', 'Obonyo', 'ambaye', 'tangia', 'utotoni', 'mwake', 'alidhamiria', 'kuwa', 'msanifu', 'kupitia', 'chaneli', 'yake', 'amepeperusha', 'filamu', 'fupi', 'nyingi', 'tu', 'ndani', 'ya', 'kipindi', 'cha', 'zaidi', 'ya', 'miaka', 'mitano', '.', 'Pia', 'amefanikiwa', 'kushiriki', 'vipindi', 'kadhaa', 'ambazo', 'zimepeperushwa', 'kupitia', 'runinga', 'tofauti', 'ikiwamo', '‘', 'Wacha', 'Ufala', '’', 'na', '‘', 'Yes', 'Mwalimu', '’', '(', 'KU', 'TV', ')', 'pia', '(', 'Ibru', 'TV', ')', '.', 'DENZEL', 'WASHINGTON', 'Analenga', 'kumiliki', 'studio', 'ya', 'kuzalisha', 'filamu', 'za', 'nguvu', 'pia', 'aibuke', 'kati', 'ya', 'maprodusa', 'mahiri', 'nchini', '.', 'Anasema', 'anatamani', 'sana', 'kutinga', 'kiwango', 'chake', 'Denzel', 'Hayes', 'Washington', 'mzawa', 'wa', 'Marekani', 'aliyepata', 'umaarufu', 'kutokana', 'na', 'filamu', 'mbali', 'mbali', 'ikiwamo', '‘', 'Equalizer.', '’', 'Kama', 'kawaida', 'anasema', 'changamoto', 'ni', 'tele', 'maana', 'wapo', 'wasanii', 'wengi', 'tu', 'wanaozidi', 'kuhangaika', 'kwa', 'kukosa', 'ajira', '.', '”', 'Kwa', 'ndani', 'ya', 'kipindi', 'hiki', 'cha', 'janga', 'la', 'corona', 'kupata', 'ajira', 'ya', 'uigizaji', 'sio', 'rahisi', '.', 'Pia', 'ningependa', 'kutoa', 'wito', 'kwa', 'vyombo', 'vya', 'habari', 'hasa', 'mashirika', 'yanayomiliki', 'runinga', 'kuanzisha', 'vipindi', 'nyingi', 'vya', 'kupeperusha', 'filamu', 'za', 'wazalendo', 'ili', 'kutoa', 'nafasi', 'za', 'ajira', 'kwa', 'wasanii', 'wanaoibukia', ',', '”', 'akasema', '.', 'Matumaini', 'tele', 'kiwanda', 'cha', 'sukari', 'kianze', 'kunguruma', 'tena', 'KIWANDA', 'cha', 'sukari', 'cha', 'Mumias', 'ambacho', 'hakijakuwa', 'kikihudumu', 'kwa', 'muda', 'wa', 'miaka', 'mitatu', 'baada', 'ya', 'kuporomoka', ',', 'huenda', 'kikaanza', 'kusaga', 'sukari', 'hivi', 'karibuni', 'kwa', 'kuwa', 'mchakato', 'wa', 'kukikodisha', 'kwa', 'mwekezaji', 'unakaribia', 'kuanza', '.', 'Tangu', 'Septemba', ',', '2019', ',', 'kiwanda', 'hicho', 'kimekuwa', 'chini', 'ya', 'urasimu', 'wa', 'benki', 'ya', 'KCB', 'ambayo', 'ilijukumika', 'zaidi', 'kulinda', 'rasilimali', 'zake', 'na', 'kufufua', 'operesheni', 'zake', '.', 'Meneja', 'wa', 'KCB', 'P.V', '.', 'Ramana', 'Rao', 'alianzisha', 'mchakato', 'wa', 'kukodisha', 'kiwanda', 'hicho', 'ila', 'shughuli', 'hiyo', 'ikaingiliwa', 'na', 'wanasiasa', 'wakiongozwa', 'na', 'Seneta', 'wa', 'Kakamega', 'Cleophas', 'Malala', 'aliyedai', 'kuwa', 'mchakato', 'wa', 'kumpata', 'mwekezaji', 'mpya', 'haukuwa', 'na', 'uwazi', '.', 'Kutokana', 'na', 'malalamishi', 'ya', 'Bw', 'Malala', ',', 'Kamati', 'ya', 'Seneti', 'kuhusu', 'Kilimo', 'iliamuru', 'kuwa', 'mchakato', 'huo', 'uanze', 'upya', 'tena', 'kwa', 'njia', 'ya', 'uwazi', '.', 'Isitoshe', 'kulikuwa', 'na', 'kesi', 'mahakamani', 'iliyowasilishwa', 'na', 'Chama', 'cha', 'Ushirika', 'cha', 'Gakwamba', 'ambacho', 'kilitaka', 'meneja', 'huyo', 'wa', 'KCB', 'asikubaliwe', 'kuchapisha', 'matangazo', 'ya', 'tenda', '.', 'Katibu', 'wa', 'Muungano', 'wa', 'Wafanyakazi', 'na', 'Wakulima', 'wa', 'Miwa', '(', 'KUSPAW', ')', 'Francis', 'Wangara', 'alisema', 'kuwa', 'wanasubiri', 'mwelekeo', 'kutoka', 'kwa', 'Bw', 'Rao', 'kufahamu', 'hatua', 'inayofuata', 'baada', 'ya', 'muda', 'wa', 'kupokea', 'tenda', 'na', 'kuzitathmini', 'kukamilika', '.', '“', 'Baada', 'ya', 'tenda', 'kufunguliwa', 'wiki', 'jana', ',', 'tuna', 'imani', 'kuwa', 'hakutakuwa', 'na', 'utata', 'zaidi', 'kuhusu', 'kufufua', 'kiwanda', 'cha', 'Mumias', ',', '”', 'akasema', 'Bw', 'Wangara', '.', 'Babu', 'wa', 'miaka', '75', 'kusalia', 'rumande', 'MZEE', 'mwenye', 'umri', 'wa', 'miaka', '75', 'aliyekuwa', 'ametoroka', 'mahakama', 'katika', 'kesi', 'ya', 'wizi', 'wa', 'Sh2.4milioni', 'atakaa', 'rumande', 'hadi', 'Oktoba', '27,2021', '.', 'Waweru', 'Gicho', 'Waweru', 'alikuwa', 'anasakwa', 'na', 'maafisa', 'wa', 'polisi', 'waliokuwa', 'wameagizwa', 'na', 'Mahakama', 'za', 'Milimani', ',', 'Embu', 'na', 'Kibera', 'atiwe', 'nguvuni', '.', 'Waweru', 'alikuwa', 'ametolewa', 'cheti', 'cha', 'kumkamata', 'baada', 'ya', 'kukwepa', 'kufika', 'kortini', 'wakati', 'wa', 'kusikizwa', 'kwa', 'kesi', 'zinazomkabili', '.', 'Mshtakiwa', 'anayekabiliwa', 'na', 'msururu', 'wa', 'kesi', 'alijitetea', 'kupitia', 'kwa', 'wakili', 'wake', 'kwamba', 'amekuwa', 'mgonjwa', 'wakati', 'huu', 'wote', 'alipokuwa', 'akisakwa', 'na', 'mahakama', '.', 'Shtaka', 'la', 'kwanza', 'dhidi', 'ya', 'mshtakiwa', 'ni', 'kuwa', 'mnamo', 'Septemba', '2017', 'aliibia', 'benki', 'ya', 'Kenya', 'Commercial', 'Bank', 'tawi', 'la', 'Wastegate', '.', 'Amekana', 'aliiba', 'Sh2.4milioni', 'na', 'kujaribu', 'kuchomoa', 'Sh1.2milioni', 'kabla', 'ya', 'kukamatwa', '.', 'Hakimu', 'alikataa', 'kumwachilia', 'kwa', 'dhamana', 'mshtakiwa', 'hadi', 'mahakama', 'nyingine', 'zikamilishe', 'kesi', 'dhidi', 'yake', '.', '“', 'Naomba', 'hii', 'mahakama', 'imchukulie', 'hatua', 'kali', 'mshtakiwa', 'kwa', 'vile', 'amekuwa', 'na', 'mazoea', 'ya', 'kulaghai', 'kampuni', 'za', 'bima', 'na', 'benki', ',', '”', 'Bw', 'Gikunda', 'alimweleza', 'hakimu', ',', 'Mahakama', 'ilielezwa', 'mshtakiwa', 'ni', 'mkosaji', 'wa', 'mara', 'ya', 'kwanza', '.']\n",
      "\n",
      " Number of Words:  1649\n"
     ]
    }
   ],
   "source": [
    "file=\"21oct13.txt\"\n",
    "\n",
    "# calling the function and storing the contents in a text variable \n",
    "text1 = get_document(\"https://taifaleo.nation.co.ke/radol-alenga-kutinga-anga-za-kimataifa-katika-uigizaji/\")\n",
    "text2 = get_document(\"https://taifaleo.nation.co.ke/msanii-alisha-asema-usaliti-vurugu-zilimtoa-machozi/\")\n",
    "text3 = get_document(\"https://taifaleo.nation.co.ke/kijana-anayelenga-kutinga-upeo-wa-kimataifa-miaka-ijayo/\")\n",
    "text5 = get_document(\"https://taifaleo.nation.co.ke/babu-wa-miaka-75-kusalia-rumande/\")\n",
    "text6 = get_document(\"https://taifaleo.nation.co.ke/asukumwa-jela-miaka-mitano-kwa-kudai-pesa-za-fidia-za-mtu-aliye-hai/\")\n",
    "\n",
    "# calling the store_ document function \n",
    "store_document(doc=text1,name=file)\n",
    "store_document(doc=text2,name=file)\n",
    "store_document(doc=text3,name=file)\n",
    "store_document(doc=text4,name=file)\n",
    "store_document(doc=text5,name=file)\n",
    "store_document(doc=text6,name=file)\n",
    "\n",
    "#add the words in this file to the total_corpus_words, to keep count of the number of words in the corpus\n",
    "total_corpus_words+=total_words(file)"
   ]
  },
  {
   "cell_type": "code",
   "execution_count": 74,
   "metadata": {},
   "outputs": [
    {
     "data": {
      "text/plain": [
       "771172"
      ]
     },
     "execution_count": 74,
     "metadata": {},
     "output_type": "execute_result"
    }
   ],
   "source": [
    "total_corpus_words"
   ]
  },
  {
   "cell_type": "code",
   "execution_count": 75,
   "metadata": {},
   "outputs": [
    {
     "name": "stdout",
     "output_type": "stream",
     "text": [
      "['Chipukizi', 'Appiah', 'aanza', 'kuona', 'matunda', 'ya', 'uigizaji', 'Ndivyo', 'wahenga', 'walivyologa', ',', 'tangia', 'zama', 'zile', 'baada', 'ya', 'kupasua', 'hilo', 'mpaka', 'sasa', ',', 'msemo', 'huo', 'ungali', 'na', 'mashiko', 'siyo', 'haba', 'miongoni', 'mwa', 'jamii', 'kwa', 'jumla', '.', 'Mercy', 'Adhiambo', 'Abok', 'ni', 'kati', 'ya', 'wasanii', 'wanaokuja', 'kwa', 'kasi', 'katika', 'tasnia', 'ya', 'uigizaji', 'huku', 'wakilenga', 'kutinga', 'upeo', 'wa', 'kimataifa', '.', 'Kisura', 'huyu', 'ambaye', 'kwa', 'jina', 'la', 'msimbo', 'anafahamika', 'kama', 'Appiah', 'pia', 'ni', 'mwanamitindo', 'na', 'mwanafunzi', 'wa', 'mwaka', 'wa', 'pili', 'kwenye', 'chuo', 'cha', 'Daystar', '.', 'Binti', 'huyu', 'ambaye', 'ndio', 'amejiunga', 'na', 'chuo', 'hicho', 'amepania', 'kuhitimu', 'kwa', 'shahada', 'ya', 'digrii', 'kama', 'mwana', 'habari', '.', '”', 'Nilianza', 'kuvutiwa', 'na', 'uigizaji', 'nikiwa', 'mdogo', 'lakini', 'nilianza', 'kushiriki', 'kama', 'taaluma', 'yangu', 'miaka', 'mwili', 'iliyopita', ',', '”', 'amesema', 'na', 'kuongeza', 'kuwa', 'ni', 'muda', 'chache', 'lakini', 'kiasi', 'ameona', 'matunda', 'ya', 'uigizaji', '.', 'Pia', 'Kuna', 'iliyopeperushwa', 'kupitia', 'Maisha', 'Magic', 'plus', '.', 'Aidha', 'zipo', 'Shembu', ',', 'Volume', 'na', 'Love', 'me', '.', 'Katika', 'kipindi', 'hicho', 'amefanya', 'kazi', 'na', 'makundi', 'tofauti', 'kama', 'Good', 'karma', 'Fiction', ',', 'Tililiz', 'Pictures', ',', 'Zamaradi', 'Productions', ',', 'Zena', 'Bahati', 'Production', ',', 'Primary', 'Pictures', ',', 'Moremedia', 'na', 'Zidi', 'Media', '.', 'Mercy', 'Adhiambo', 'Abok', 'maarufu', 'Appaih…Picha/JOHN', 'KIMWERE', 'Dada', 'huyu', 'anasema', 'kuwa', 'binafsi', 'huwa', 'anahisi', 'furaha', 'tele', 'anaposhiriki', 'uigizaji', 'anakosema', 'kwamba', 'analenga', 'kutumia', 'uigizaji', 'kutoa', 'funzo', 'kwa', 'jamii', '.', 'Binti', 'huyu', 'aliyezaliwa', 'mwaka', '1997', 'anasema', 'katika', 'uigizaji', 'analenga', 'kufuata', 'nyayo', 'zake', 'Jackie', 'Appiah', 'ambaye', 'kwa', 'wanawake', 'hufanya', 'kazi', 'yake', 'kwa', 'kujituma', 'mithili', 'ya', 'mchwa', '.', '”', 'Kenya', 'tumekosa', 'kutoa', 'hadithi', 'nzuri', 'kama', 'ilivyo', 'katika', 'mataifa', 'mengine', 'kama', 'Amerika', ',', 'Afrika', 'Kusini', ',', 'Mexico', 'na', 'India', 'kati', 'ya', 'mengine', ',', '”', 'alisema', 'na', 'kuongeza', 'kuwa', 'ndio', 'sababu', 'kubwa', 'imechangia', 'wananchi', 'kutovutiwa', 'na', 'filamu', 'za', 'humu', 'nchini', '.', 'Tangia', 'akiwa', 'mtoto', 'kando', 'na', 'kuwa', 'alipania', 'kuhitimu', 'kuwa', 'mwigizaji', 'pia', 'alitamani', 'kuwa', 'mtangazaji', 'kwenye', 'runinga', 'ambapo', 'alikuwa', 'akivutiwa', 'na', 'mtangazaji', 'aliyekuwa', 'akivuma', 'nyakati', 'hizo', 'Esther', 'Arunga', '(', 'KTN', ')', '.', 'Anasisitiza', 'kuwa', 'serikali', 'inastahili', 'kuunga', 'mkono', 'wasanii', 'wote', 'bila', 'kubagua', 'wale', 'maarufu', 'na', 'wanaoibukia', '.', 'PANDASHUKA', 'Chipukizi', 'huyu', 'anadokeza', 'kuwa', 'sekta', 'ya', 'uigizaji', 'imejaa', 'pandashuka', 'ambapo', 'binafsi', 'kwa', 'zaidi', 'ya', 'miaka', '20', 'amekosa', 'ajira', 'kwa', 'kutokubali', 'kuwa', 'na', 'mahusiano', 'ya', 'kimapenzi', 'na', 'maprodusa', '.', '”', 'Dah', '!', 'bila', 'kuongezea', 'kachumbari', 'maprodusa', 'wengi', 'tu', 'wamekuwa', 'na', 'mtindo', 'huo', 'kunishawishi', 'kuwa', 'wapenzi', 'ndipo', 'nami', 'wanipe', 'ajira', 'ya', 'kuigiza', ',', '”', 'akasema', 'na', 'kutoa', 'wito', 'kwa', 'wenzake', 'kuwa', 'kamwe', 'wasijishushe', 'dhamana', 'yao', '.', 'Pia', 'anatoa', 'wito', 'kwa', 'maprodusa', 'waache', 'mtindo', 'wa', 'kudharau', 'wasanii', 'wengine', 'kwa', 'misingi', 'ya', 'maumbile', 'hasa', 'kupuuza', 'wale', 'wenye', 'ngozi', 'weusi', 'kama', 'yeye', '.']\n",
      "\n",
      " Number of Words:  406\n"
     ]
    }
   ],
   "source": [
    "file=\"21oct14.txt\"\n",
    "\n",
    "# calling the function and storing the contents in a text variable \n",
    "text1 = get_document(\"https://taifaleo.nation.co.ke/chipukizi-appiah-aanza-kuona-matunda-ya-uigizaji/\")\n",
    "\n",
    "# calling the store_ document function \n",
    "store_document(doc=text1,name=file)\n",
    "\n",
    "#add the words in this file to the total_corpus_words, to keep count of the number of words in the corpus\n",
    "total_corpus_words+=total_words(file)"
   ]
  },
  {
   "cell_type": "code",
   "execution_count": 76,
   "metadata": {},
   "outputs": [
    {
     "data": {
      "text/plain": [
       "771578"
      ]
     },
     "execution_count": 76,
     "metadata": {},
     "output_type": "execute_result"
    }
   ],
   "source": [
    "total_corpus_words"
   ]
  },
  {
   "cell_type": "code",
   "execution_count": 77,
   "metadata": {},
   "outputs": [
    {
     "name": "stdout",
     "output_type": "stream",
     "text": [
      "['Bw', 'Rono', 'alieleza', 'korti', 'kampuni', 'hizi', 'na', 'Bw', 'Obado', 'zilikaidi', 'sheria', '.', 'Hakimu', 'mkuu', 'Bw', 'Lawrence', 'Mugambi', 'alielezwa', 'kampuni', 'hizi', 'zilihusishwa', 'na', 'familia', 'ya', 'Bw', 'Kwaga', 'ambaye', 'ndugu', 'yake', 'alikuwa', 'anasimamia', 'kitengo', 'cha', 'maabara', 'katika', 'hospitali', 'ya', 'kaunti', 'ya', 'Migori', '.', 'Akitoa', 'ushahidi', ',', 'mchunguzi', 'wa', 'tume', 'ya', 'kupambana', 'na', 'ufisadi', 'nchini', ',', 'Bw', 'Rono', ',', 'alifichua', 'jinsi', 'mamilioni', 'ya', 'pesa', 'yalilipwa', 'kampuni', 'hizi', '23', 'kutoka', 'kwa', 'akaunti', 'za', 'kaunti', 'hiyo', '.', 'Bw', 'Rono', 'alisimulia', 'jinsi', 'habari', 'zilipokelewa', 'katika', 'afisi', 'za', 'EACC', 'kisha', 'wachunguzi', 'wakamwandikia', 'barua', 'Katibu', 'wa', 'Kaunti', 'ya', 'Migori', 'Bw', 'Christopher', 'Rusana', 'mnamo', 'Agosti', '2017', 'wakiomba', 'stakabadhi', 'za', 'malipo', 'kwa', 'kampuni', 'zilizotoa', 'huduma', 'kaunti', 'hiyo', '.', 'Alisema', 'mnamo', 'Agosti', '23', ',', '2017', ',', 'yeye', 'na', 'maafisa', 'wengine', 'walifika', 'katika', 'afisi', 'ya', 'Bw', 'Rusuna', 'lakini', '“', 'hawakumpata.', '”', 'Alisema', 'walimpata', 'sekritari', 'wake', 'kisha', 'wakajitambulisha', 'wanatoka', 'EACC', 'na', 'kueleza', 'sababu', 'ya', 'kufika', 'kwao', 'katika', 'afisi', 'hiyo', 'ya', 'Bw', 'Rusuna', '.', 'Bw', 'Rono', 'alisema', 'waliitisha', 'nakala', 'za', 'malipo', 'kwa', 'makampuni', 'katika', 'kaunti', 'hiyo', 'tangu', '2013', '.', '“', 'Hatukuweza', 'kupewa', 'nakala', 'hizo', 'hadi', 'Septemba', '1', '2017', 'kwa', 'vile', 'Bw', 'Rusuna', 'alisema', 'hati', 'wanazotaka', 'ni', 'nyingi', 'mno', 'na', 'hazingeweza', 'kupatikana', 'kwa', 'wakati', 'mfupi', ',', '”', 'Bw', 'Rono', 'alieleza', 'mahakama', '.', 'Mahakama', 'ilielezwa', 'na', 'Bw', 'Rono', 'ambaye', 'ni', 'shahidi', 'wa', 'kwanza', 'kutoa', 'ushahidi', 'alisema', 'Mabw', 'Samuel', 'Omunga', 'na', 'Eliud', 'Obonyo', 'waliwasilisha', 'nakala', 'za', 'hati', 'walizoitisha', 'katika', 'afisi', 'za', 'EACC', 'Nairobi', '.', '“', 'Ukaguzi', 'wa', 'hati', 'hizo', 'ulibaini', 'makampuni', '23', 'yaliyohusishwa', 'na', 'Bw', 'Kagwa', 'yalihusika', 'na', 'ufyozaji', 'wa', 'pesa', 'za', 'kaunti', 'ya', 'Migori', ',', '”', 'alisema', 'Bw', 'Rono', '.', 'Bw', 'Rono', 'alisoma', 'makampuni', 'hayo', 'moja', 'baada', 'ya', 'nyingine', 'jinsi', 'zilivyolipwa', 'mamilioni', 'ya', 'pesa', '.', 'Huku', 'ushahidi', 'wa', 'Bw', 'Rono', 'ukitafsiriwa', 'kwa', 'lugha', 'ya', 'Dholuo', 'kuwezesha', 'Mama', 'Penina', 'kuelewa', 'kinachoendelea', 'alisema', 'ushahidi', 'upo', 'mahakamani', 'utakaothibitisha', 'jinsi', 'sheria', 'ilivunjwa', 'katika', 'ulipaji', 'wa', 'kampuni', 'hizo', '.', 'Mahakama', 'ilifahamishwa', 'Sh256,703,688', 'ziligawanywa', 'na', 'familia', 'ya', 'Obado', 'na', 'Bw', 'Kagwa', 'kupitia', 'makampuni', 'kadhaa', 'aliposhinda', 'uchaguzi', 'wa', 'Ugavana', '2013', '.', 'Akisumulia', 'ushahidi', 'uliowasilishwa', 'mahakamani', 'na', 'naibu', 'msaidizi', 'wa', 'mkurugenzi', 'wa', 'mashtaka', 'ya', 'umma', '(', 'ADPP', ')', 'Peter', 'Kiprop', 'alisema', 'ufisadi', 'ulikita', 'mizizi', 'katika', 'kaunti', 'hiyo', '.', 'Bw', 'Kiprop', 'alisema', 'mashtaka', 'yatawaita', 'mashahidi', '59', 'aliosema', 'watathibitisha', 'jinsi', 'watoto', 'wa', 'Obado', 'walifaidi', 'kutokana', 'na', 'pesa', 'zilizotoka', 'katika', 'kaunti', 'hiyo', '.', 'Pia', 'korti', 'ilielezwa', 'Bw', 'Obado', 'alifaidi', 'na', 'zaidi', 'ya', 'Sh34milioni', 'zilizotumika', 'kununua', 'nyumba', 'katika', 'mtaa', 'wa', 'kifahari', 'wa', 'Lavington', 'Nairobi', '.', 'Nyumba', 'hiyo', 'ilinunuliwa', 'kwa', 'jina', 'la', 'Susan', 'Scarlet', 'Akoth', '.', 'Mawakili', 'Kioko', 'Kilukumi', ',', 'George', 'Kithi', 'na', 'wengine', 'waliwasilisha', 'maombi', 'ya', 'kupinga', 'ushahidi', 'wa', 'Bw', 'Rono', 'lakini', 'mahakama', 'ikafutilia', 'mbali', 'malalamishi', 'yao', 'na', 'kumruhusu', 'afisa', 'huyo', 'wa', 'EACC', 'aliyechunguza', 'kesi', 'hiyo', 'kutoa', 'ushahidi', '.']\n",
      "\n",
      " Number of Words:  431\n"
     ]
    }
   ],
   "source": [
    "file=\"21oct16.txt\"\n",
    "\n",
    "# calling the function and storing the contents in a text variable \n",
    "text1 = get_document(\"https://taifaleo.nation.co.ke/kaunti-ya-bungoma-ilipoteza-sh2-6bilioni-tangu-2013/\")\n",
    "\n",
    "# calling the store_ document function \n",
    "store_document(doc=text1,name=file)\n",
    "\n",
    "#add the words in this file to the total_corpus_words, to keep count of the number of words in the corpus\n",
    "total_corpus_words+=total_words(file)"
   ]
  },
  {
   "cell_type": "code",
   "execution_count": 78,
   "metadata": {},
   "outputs": [
    {
     "data": {
      "text/plain": [
       "772009"
      ]
     },
     "execution_count": 78,
     "metadata": {},
     "output_type": "execute_result"
    }
   ],
   "source": [
    "total_corpus_words"
   ]
  },
  {
   "cell_type": "code",
   "execution_count": 80,
   "metadata": {},
   "outputs": [
    {
     "name": "stdout",
     "output_type": "stream",
     "text": [
      "['Walioathirika', 'kutokana', 'na', 'kero', 'ya', 'nzige', 'wanaendelea', 'kupata', 'msaada', 'wa', 'chakula', 'SERIKALI', 'inaendelea', 'kutoa', 'msaada', 'wa', 'chakula', 'na', 'mahitaji', 'mengine', 'muhimu', 'ya', 'kimsingi', 'kwa', 'familia', 'zilizoathirika', 'kufuatia', 'kero', 'ya', 'uvamizi', 'wa', 'nzige', '.', 'Zaidi', 'ya', 'kaunti', '32', 'zilikumbwa', 'na', 'nzige', '2019', 'na', '2020', ',', 'maeneo', 'kame', 'yakiathirika', 'pakubwa', '.', 'Wadudu', 'hao', 'walishambulia', 'mimea', ',', 'mazao', 'shambani', 'na', 'malisho', 'ya', 'mifugo', ',', 'jamii', 'zinazoishi', 'maeneo', 'yaliyoathirika', 'zikikadiria', 'hasara', '.', '“', 'Tunaendelea', 'kutoa', 'msaada', 'wa', 'chakula', 'na', 'mahitaji', 'mengine', 'muhimu', 'ya', 'kimsingi', 'kwa', 'walioathirika', ',', '”', 'Katibu', 'katika', 'Wizara', 'ya', 'Kilimo', ',', 'Mifugo', 'na', 'Samaki', 'Prof.', 'Boga', 'Hamadi', 'akaambia', 'Taifa', 'Leo', 'Dijitali', 'kupitia', 'mahojiano', 'ya', 'kipekee', 'jijini', 'Nairobi', '.', 'Prof.', 'Boga', 'hata', 'hivyo', 'hakufichua', 'idadi', 'ya', 'familia', 'zilizoathirika', 'kufuatia', 'kero', 'ya', 'nzige', '.', 'Mengi', 'ya', 'maeneo', 'yaliyovamiwa', 'na', 'nzige', 'yakiwa', 'yale', 'kame', ',', 'yanaendelea', 'kuhangaishwa', 'na', 'kiangazi', ',', 'mifugo', 'wakiripotiwa', 'kufariki', '.', 'KDF', 'yafichua', 'ilivyoteka', 'Kismayu', 'na', 'Al-Shabaab', 'KITENGO', 'maalum', 'cha', 'boti', 'katika', 'Kikosi', 'cha', 'Jeshi', 'la', 'Wanamaji', 'chenye', 'makao', 'yake', 'Mtongwe', ',', 'Kaunti', 'ya', 'Mombasa', ',', 'kilichangia', 'pakubwa', 'kuikomboa', 'Kismayu', 'kutoka', 'kwenye', 'nira', 'za', 'wanamgambo', 'wa', 'Al-Shabaab.al', 'Tangu', '2011', ',', 'wakati', 'Jeshi', 'la', 'Kenya', 'Defence', 'Forces', '(', 'KDF', ')', 'lilipozindua', 'oparesheni', 'Linda', 'Nchi', ',', 'wanajeshi', 'kadhaa', 'wenye', 'ujuzi', 'katika', 'oparesheni', 'za', 'nchi', 'kavu', ',', 'anga', 'na', 'majini', ',', 'walitumwa', 'Somalia', '.', 'Naibu', 'Kamanda', 'wa', 'Kikosi', 'Maalum', 'cha', 'Oparesheni', 'katika', 'Jeshi', 'la', 'Wanamaji', ',', 'Meja', 'Eric', 'Wambugu', ',', 'aliyekuwa', 'sehemu', 'ya', 'Kitengo', 'cha', 'Boti', 'Maalum', '(', 'SBU', ')', ',', 'anasimulia', 'wajibu', 'wao', 'na', 'waliyopitia', 'wakati', 'wa', 'oparesheni', 'hiyo', '.', 'Wambugu', 'anaeleza', 'kwamba', 'Jeshi', 'la', 'Wanamaji', 'lilipewa', 'jukumu', 'la', 'kuhakikisha', 'eneo', 'la', 'majini', 'Kenya', 'limelindwa', 'kwa', 'kukabiliana', 'na', 'maadui', '.', '‘', 'Tunapofanya', 'oparesheni', 'ya', 'pamoja', ',', 'huwa', 'tunaruhusu', 'kila', 'kitengo', 'kuelezea', 'uwezo', 'wao', ',', 'huwa', 'tunakipa', 'kila', 'kikosi', 'jukumu', 'lake', ',', '”', 'asema', 'Meja', 'Wambugu', '.', 'SBU', 'ni', 'kitengo', 'mahsusi', 'cha', 'Jeshi', 'la', 'Wanamaji', 'Nchini', ',', 'ambapo', 'wanajeshi', 'katika', 'kitengo', 'hiki', 'walipokea', 'mafunzo', 'Amerika', 'na', 'Lamu', 'pamoja', 'na', 'US', 'Naval', 'Seal', '.', 'Kikosi', 'hiki', 'kilipokea', 'mafunzo', 'maalum', 'katika', 'matibabu', 'ya', 'vitani', ',', 'safari', ',', 'kushughulikia', 'meli', ',', 'ujuzi', 'kuhusu', 'silaha', 'na', 'utaratibu', 'wa', 'kuabiri', 'meli', '.', 'Wana', 'maarifa', 'kuhusu', 'kutua', 'kwenye', 'fuo', 'za', 'baharini', ',', 'husaidia', 'kwa', 'kuimarisha', 'juhudi', 'za', 'Kenya', 'Navy', 'na', 'vitengo', 'vingine', 'katika', 'kushika', 'doria', 'kama', 'jukumu', 'la', 'kimsingi', 'kwenye', 'bandari', 'za', 'Kilindini', ',', 'Lamu', 'na', 'Shimoni', '.', 'Wajibu', 'mwingine', 'wa', 'kikosi', 'hicho', 'ulikuwa', 'kufahamisha', 'vikosi', 'vingine', 'vya', 'jeshi', 'kuhusu', 'tishio', 'lolote', 'linaloibuka', 'huku', 'kikihakikisha', 'hakuna', 'uhalifu', 'wowote', 'wa', 'majini', 'unaotekelezwa', 'katika', 'maeneo', 'ya', 'majini', 'Kenya', '.', 'Vikosi', 'vya', 'SBU', 'kwa', 'kawaida', 'huwa', 'kwenye', 'maji', 'yenye', 'kina', 'kifupi', 'kwenye', 'mikoko', 'ambapo', 'meli', 'haziwezi', 'kwenda', 'na', 'huwa', 'vinakabiliana', 'na', 'uhalifu', 'wa', 'majini', ',', 'ugaidi', ',', 'uvuvi', 'haramu', 'na', 'ulanguzi', 'wa', 'bidhaa', '.', '“', 'Vikiwa', 'nyumbani', ',', 'vitengo', 'hivyo', 'vilipewa', 'mafunzo', 'na', 'kufahamishwa', 'kuhusu', 'mbinu', 'na', 'oparesheni', 'zote', 'na', 'haya', 'yalitusaidia', 'kukamilisha', 'jukumu', 'hilo', 'kama', 'shirika', 'la', 'pamoja', 'katika', 'Maji', 'ya', 'Kenya', '.', '“', 'Wakati', 'huo', ',', 'mimi', 'binafsi', 'nilitumwa', 'kama', 'afisa', 'wa', 'boti', '.', 'Nilikuwa', 'na', 'wajibu', 'wa', 'kuhakikisha', 'kwamba', 'meli', 'zetu', 'zilikuwa', 'zikiendelea', 'na', 'oparesheni', 'asilimia', '100', '.', 'Tulihakikisha', 'vifaa', 'vilidumishwa', 'vyema', '.', 'Tulihakikisha', 'kwamba', 'jeshi', 'lenye', 'utaalam', 'kuhusu', 'vikosi', 'vya', 'nchi', 'kavu', ',', 'vilifahamu', 'kuhusu', 'oparesheni', 'za', 'majini', ',', '”', 'alisema', '.', 'Katika', 'siku', 'hiyo', 'ya', 'uzinduzi', 'wakati', 'meli', 'ndogo', 'zilikuwa', 'zikianza', 'kutuma', 'vikosi', 'maalum', 'kwenda', 'kutua', 'fuoni', ',', 'SBUs', 'zilikuwa', 'zinashika', 'doria', 'kwenye', 'fuo', 'ili', 'kutoa', 'ulinzi', 'kwa', 'vikosi', 'hivyo.', '’', 'Tulidumisha', 'usalama', 'kwa', 'vikosi', 'viliovyokuwa', 'vikitua', 'na', 'pia', 'kukaa', 'chonjo', 'ili', 'kukabiliana', 'na', 'shambulizi', 'lolote', 'ambalo', 'lingetokea', ',', '”', 'Meja', 'Wambugu', 'alieleza', 'Taifa', 'Leo', '.', 'Meja', 'Wambugu', 'alisema', 'kuwa', 'walipitia', 'matukio', 'yaliyojitokeza', 'zaidi', 'kama', 'fursa', '.', '“', 'Tulikabiliwa', 'na', 'changamoto', 'katika', 'kukaribisha', 'wanajeshi', 'wa', 'nchi', 'kavu', 'na', 'vikosi', 'maalum', 'vya', 'kijeshi', 'kuja', 'kufanya', 'oparesheni', 'nasi', '.', 'Walikuwa', 'wamezoea', 'oparesheni', 'za', 'ardhini', 'na', 'hapa', 'kulikuwa', 'na', 'oparesheni', 'ya', 'majini', ',', '”', 'alifafanua', '.', 'Alisema', 'walilazimika', 'kuhakikisha', 'kwamba', 'wanajeshi', 'hao', 'walikuwa', 'tayari', 'kufanya', 'oparesheni', 'katika', 'mazingira', 'ya', 'majini', '.', 'Suala', 'jingine', 'lililojitokeza', 'kama', 'changamoto', 'lilikuwa', 'kupakua', 'vifaa', 'vya', 'wanajeshi', 'kutoka', 'kwenye', 'meli', 'na', 'kuzipakia', 'katika', 'meli', 'ndogo', 'kutokana', 'na', 'mawimbi', 'makubwa', 'na', 'bahari', 'kuchafuka', '.', 'Major', 'Wambugu', 'alieleza', 'kuwa', 'kulainisha', 'mawasiliano', 'miongoni', 'mwa', 'Jeshi', 'la', 'Wanamaji', ',', 'Vikosi', 'Maalum', 'vya', 'Kijeshi', 'na', 'Jeshi', 'la', 'Anga', ',', 'ilikuwa', 'changamoto', 'vilevile', '.', '“', 'Unahitaji', 'kuhakikisha', 'kuwa', 'mawasiliano', 'hayavuji', 'kwa', 'adui', '.', 'Kulainisha', 'mawasiliano', 'yote', 'kutoka', 'kwenye', 'meli', 'hadi', 'vyombo', 'vya', 'angani', ',', 'jeshi', 'na', 'vitengo', 'maalum', 'vya', 'meli', 'ilikuwa', 'changamoto', 'lakini', 'tulimudu', ',', '”', 'akasema', 'Meja', 'Wambugu', '.']\n",
      "\n",
      " Number of Words:  727\n"
     ]
    }
   ],
   "source": [
    "file=\"21oct17.txt\"\n",
    "\n",
    "# calling the function and storing the contents in a text variable \n",
    "text1 = get_document(\"https://taifaleo.nation.co.ke/walioathirika-kutokana-na-kero-ya-nzige-wanaendelea-kupata-msaada-wa-chakula/\")\n",
    "text2 = get_document(\"https://taifaleo.nation.co.ke/kdf-ilvyokabiliana-na-shabaab-kismayu/\")\n",
    "\n",
    "# calling the store_ document function \n",
    "store_document(doc=text1,name=file)\n",
    "store_document(doc=text2,name=file)\n",
    "\n",
    "#add the words in this file to the total_corpus_words, to keep count of the number of words in the corpus\n",
    "total_corpus_words+=total_words(file)"
   ]
  },
  {
   "cell_type": "code",
   "execution_count": 81,
   "metadata": {},
   "outputs": [
    {
     "data": {
      "text/plain": [
       "772736"
      ]
     },
     "execution_count": 81,
     "metadata": {},
     "output_type": "execute_result"
    }
   ],
   "source": [
    "total_corpus_words"
   ]
  },
  {
   "cell_type": "code",
   "execution_count": 87,
   "metadata": {},
   "outputs": [
    {
     "name": "stdout",
     "output_type": "stream",
     "text": [
      "['Anita', ':', 'Analenga', 'kutesa', 'katika', 'uigizaji', 'na', 'masuala', 'ya', 'urembo', 'NI', 'ndoto', 'ya', 'kila', 'msanii', 'kuona', 'anaimarika', 'katika', 'sanaa', 'yake', 'na', 'kutambulika', 'kote', 'duniani', '.', 'Anita', 'Wanjiru', 'Njoroge', 'maarufu', 'kama', 'Anita', 'ni', 'miongoni', 'mwa', 'wasanii', 'chipukizi', 'wanaolenga', 'kupata', 'umaarufu', 'si', 'haba', 'hapa', 'nchini', 'pia', 'kimataifa', 'huku', 'wakipania', 'kutinga', 'upeo', 'wa', 'kimataifa', 'miaka', 'ijayo', '.', 'Msichana', 'huyu', 'aliyezaliwa', 'mwaka', '2001', 'kwa', 'sasa', 'ni', 'mwanafunzi', 'wa', 'mwaka', 'wa', 'kwanza', 'katika', 'Taasisi', 'iitwayo', 'Saki', 'anakosomea', 'kuhitimu', 'kwa', 'shahada', 'ya', 'Diploma', 'katika', 'masuala', 'ya', 'urembo', '.', 'Ingawa', 'hajapiga', 'hatua', 'kubwa', 'katika', 'masuala', 'ya', 'maigizo', 'anasema', 'analenga', 'kushiriki', 'filamu', 'zilizo', 'na', 'mafunzo', 'kuhusu', 'masuala', 'mbali', 'mbali', 'ya', 'kimaisha', 'akilenga', 'kushinda', 'tuzo', 'tofauti', 'hapa', 'nchini', 'na', 'kimataifa', '.', '”', 'Nilianza', 'kujihusisha', 'na', 'masuala', 'ya', 'maigizo', 'mwaka', '2016', 'nikisoma', 'Shule', 'ya', 'Upili', 'mwaka', '2017', 'baada', 'ya', 'kuvutiwa', 'na', 'kazi', 'ya', 'makundi', 'mbali', 'mbali', 'yaliokuwa', 'yakizuru', 'shuleni', 'mwetu', ',', '”', 'amesema', '.', 'Msanii', 'chipukizi', ',', 'Anita', 'Wanjiru', 'Njoroge…', 'Picha/JOHN', 'KIMWERE', '”', 'Ingawa', 'ndio', 'mwanzo', 'nimeanza', 'kupiga', 'ngoma', 'ninaamini', 'ninazidi', 'kujifunza', 'mambo', 'mbali', 'mbali', 'katika', 'tasnia', 'ya', 'uigizaji', ',', '”', 'binti', 'huyu', 'akasema', 'na', 'kuongeza', 'kuwa', 'ana', 'imani', 'atafikia', 'kiwango', 'anacholenga', 'katika', 'jukwaa', 'la', 'filamu', '.', 'Anasema', 'alikuwa', 'akishiriki', 'filamu', 'za', 'kutumia', 'mwongozo', 'wa', 'vitabu', 'vya', 'riwaya', 'chini', 'ya', 'kundi', 'liitwalo', 'Path', 'Finders', '.', 'Chipukizi', 'huyu', 'anajivunia', 'kushiriki', 'kipindi', 'cha', 'Perfect', 'Match', 'hivi', 'karibuni', 'ambacho', 'kilipeperushwa', 'kupitia', 'Ebru', 'TV', 'mwaka', 'uliyopita', '.', '”', 'Kusema', 'ukweli', 'nafasi', 'ya', 'kushiriki', 'kipindi', 'hicho', 'ilinitia', 'motisha', 'zaidi', 'ikiwa', 'mara', 'ya', 'kwanza', 'kazi', 'yangu', 'kuonyeshwa', 'kwenye', 'runinga', ',', '”', 'alisema', 'na', 'kuongeza', 'kuwa', 'amepata', 'ujasiri', 'wa', 'kushiriki', 'kazi', 'ya', 'uigizaji', 'bila', 'kuhofia', 'lolote', 'wala', 'kuvunjika', 'moyo', '.', 'Kisura', 'huyu', 'anasema', 'tangia', 'akiwa', 'mdogo', 'alitamani', 'kuhitimu', 'kuwa', 'mwanahabari', 'wa', 'Televisheni', 'pia', 'msusi', '.', 'Katika', 'mpango', 'mzima', 'anasema', 'ndani', 'ya', 'miaka', 'mitano', 'ijayo', 'analenga', 'kujituma', 'kwa', 'udi', 'na', 'uvumba', 'kuhakikisha', 'ameshiriki', 'zaidi', 'ya', 'filamu', 'kumi', 'na', 'kufaulu', 'kupeperusha', 'kwenye', 'runinga', '.', 'Kwa', 'waigizaji', 'wa', 'kimataifa', 'dada', 'huyu', 'anasema', 'angependa', 'sana', 'kufikia', 'hadhi', 'ya', 'Mercy', 'Johnson', 'mzawa', 'wa', 'Nigeria', 'ambaye', 'ameshiriki', 'filamu', 'kama', '‘', 'Heart', 'of', 'fighter', '’', 'na', '‘', 'The', 'Maid', ',', '’', 'kati', 'ya', 'zingine', '.', 'Pia', 'Mkenya', ',', 'Lupita', 'Nyong', '’', 'o', 'anayefanya', 'kweli', 'katika', 'filamu', 'za', 'Hollywood', 'anayeshiriki', 'filamu', 'kama', 'Black', 'Panther', 'na', '12', 'Years', 'a', 'Slave', '.', 'Anaponda', 'wananchi', 'wengi', 'ambao', 'hupuuza', 'pia', 'hukosoa', 'kazi', 'za', 'wasanii', 'wazalendo', '.', '”', 'Hali', 'hiyo', 'ndio', 'hufanya', 'wengi', 'kuzipa', 'kisongo', 'kazi', 'za', 'wazalendo', 'na', 'kuvutiwa', 'na', 'filamu', 'za', 'wasanii', 'wa', 'kigeni', 'kama', 'Afrika', 'Kusini', 'na', 'Nigeria', 'kati', 'ya', 'mataifa', 'mengine', ',', '”', 'akasema', '.', 'Anashauri', 'wenzie', 'wawe', 'makini', 'kwa', 'kile', 'wanachohitaji', 'wanapojiunga', 'na', 'tasnia', 'ya', 'uigizaji', '.', 'Anasema', 'kuwa', 'uigizaji', 'unahitaji', 'uvumilivu', 'maana', 'mafanikio', 'kamwe', 'hayapatikani', 'rahisi', '.', 'Anadokeza', 'kuwa', 'ingekuwa', 'vizuri', 'kama', 'serikali', 'inaweza', 'kutega', 'fedha', 'kusaidia', 'sekta', 'ya', 'uigizaji', 'maana', 'wapo', 'wasanii', 'wengi', 'tu', 'humu', 'nchini', 'ambao', 'hawajapata', 'nafasi', 'kuonyesha', 'vipaji', 'vyao', '.', 'Irene', 'analenga', 'kufikia', 'Sho', 'Madjozi', 'kimuziki', 'NI', 'ndoto', 'ya', 'kila', 'msanii', 'kuona', 'anaimarika', 'katika', 'kazi', 'zake', 'na', 'kutambulika', 'kote', 'duniani', '.', 'Irene', 'Mumbua', 'Nzuki', 'maarufu', 'Diva-n', 'ameibuka', 'miongoni', 'mwa', 'kina', 'dada', 'wanaopania', 'kujizolea', 'umaarufu', 'si', 'haba', 'hapa', 'nchini', 'na', 'kimataifa', 'akilenga', 'kutinga', 'upeo', 'wa', 'kati', 'ya', 'wasanii', 'tajika', '.', 'Pia', 'ni', 'mwigizaji', 'chipukizi', 'ambaye', 'ameamua', 'pia', 'kujiunga', 'na', 'ulingo', 'wa', 'muziki', '.', 'Mapema', 'mwaka', 'huu', 'amerekodi', 'fataki', 'ya', 'kwanza', '(', 'audio', ')', 'iitwayo', '‘', 'Wahalla.', '’', '”', 'Katika', 'mpango', 'mzima', 'sina', 'shaka', 'kutaja', 'kuwa', 'ninapenda', 'muziki', 'ndio', 'maana', 'nimeamua', 'kuanza', 'kughani', 'nyimbo', 'zangu', 'kwa', 'mtindo', 'wa', 'Amapiano', ',', '”', 'alisema', 'na', 'kuongeza', 'kuwa', 'amepania', 'kujituma', 'kiume', 'ahakikishe', 'amefikia', 'hadhi', 'ya', 'juu', 'nchini', 'na', 'Afrika', 'kwa', 'jumla', '.', 'Anadokeza', 'kuwa', 'anaamini', 'anacho', 'kipaji', 'cha', 'muziki', 'anakolenga', 'kujituma', 'bila', 'kusikiza', 'maneno', 'ya', 'wasiomtakia', 'mema', 'katika', 'taaluma', 'yake', '.', 'Kisura', 'huyu', 'mwenye', 'umri', 'wa', 'miaka', '22', 'anashikilia', 'kwamba', 'bidii', 'yake', 'ndio', 'itakayomfikisha', 'kiwango', 'anacholenga', '.', 'Anasema', 'kuwa', 'kwa', 'wanamuziki', 'wa', 'hapa', 'nchini', 'analenga', 'kumpiku', 'msanii', 'Nadia', 'Mukami', 'anayetikisa', 'jukwaa', 'la', 'muziki', 'wa', 'burudani', 'sio', 'haba', '.', 'Nadia', 'amejipatia', 'umaarufu', 'kwa', 'teke', 'zake', 'kama', '‘', 'Wangu', ',', '’', 'Maombi', ',', '’', '‘', 'Lola', '’', 'na', '‘', 'Nipe', 'yote', ',', '’', 'kati', 'ya', 'zinginezo', '.', 'Mwigizaji', 'chipukizi', 'Irene', 'Mumbua', 'Nzuki…Picha/OHN', 'KIMWERE', 'Kwa', 'wanamuziki', 'wa', 'Afrika', 'analenga', 'kufikia', 'kiwango', 'cha', 'Sho', 'Madjozi', 'mzawa', 'wa', 'Afrika', 'Kusini', 'anayefahamika', 'kwa', 'vibao', 'kama', '‘', 'John', 'Cena', '’', '‘', 'What', 'a', 'life', ',', '’', '‘', 'Shahumba', '’', 'na', '‘', 'Jamani', '’', 'kati', 'ya', 'zingine', '.', 'Anasisitiza', 'kuwa', 'wanamuziki', 'wa', 'kike', 'wana', 'uwezo', 'wa', 'kufanya', 'vizuri', 'katika', 'tasnia', 'ya', 'muziki', '.', '”', 'Ili', 'kupaisha', 'muziki', 'wetu', 'serikali', 'inastahili', 'kutupigania', 'dhidi', 'ya', 'matapeni', 'ili', 'tufaidi', 'kwa', 'vipaji', 'vyetu', ',', '”', 'akasema', 'na', 'kuongeza', 'kuwa', 'wanahitaji', 'kuungwa', 'mkono', 'bila', 'kujali', 'ndio', 'wanaoibukia', '.', 'OMOTOLA', 'JALADE', 'Kwa', 'filamu', 'angependa', 'kufanya', 'kazi', 'na', 'wana', 'maigizo', 'ambao', 'wamepiga', 'hatua', 'kisanaa', '.', 'Anasema', 'anatamani', 'sana', 'kufanya', 'kazi', 'na', 'Brenda', 'Wairimu', 'ambaye', 'ameshiriki', 'filamu', 'kama', 'Mali', 'kati', 'ya', 'zingine', '.', 'Kwa', 'waigizaji', 'wa', 'Afrika', 'anatamani', 'sana', 'kutua', 'jukwaa', 'moja', 'nao', 'Wema', 'Sepetu', '(', 'Tanzania', ')', 'na', 'Omotola', 'Jalade', '(', 'Nigeria', ')', 'anayejivunia', 'kushiriki', 'filamu', 'kama', '‘', 'Tie', 'that', 'Bind', ',', '’', '‘', 'Blood', 'Sister', ',', '’', '‘', 'A', 'private', 'Storm', ',', '’', 'na', '‘', 'Alter', 'Ego', ',', '’', 'kati', 'ya', 'zingine', '.', 'Anashukuru', 'wazazi', 'wake', 'kwa', 'kumuunga', 'mkono', 'kwenye', 'juhudi', 'za', 'kupalilia', 'vipaji', 'vyake', 'katika', 'ulingo', 'wa', 'burudani', 'na', 'kusema', 'kuwa', 'kwa', 'jumla', 'familia', 'yake', 'humpa', 'motisha', 'zaidi', 'jambo', 'ambalo', 'humfanya', 'aamini', 'ipo', 'siku', 'atakumbalika', '.', 'Watano', 'hao', 'walikabiliwa', 'na', 'shtaka', 'la', 'wizi', 'wa', 'piki', 'piki', '169', 'kutoka', 'kwa', 'kampuni', 'Mugo', 'Auto', 'Limited', 'kati', 'ya', 'Januari', 'na', 'Septemba', '2021', '.', 'Shtaka', 'lingine', 'lilisema', 'kuwa', 'walikula', 'njama', 'za', 'kutenda', 'uhalifu', 'wakishirikiana', 'na', 'watu', 'wengine', 'ambao', 'hawakushtakiwa', '.', 'Pia', 'anadaiwa', 'alikuwa', 'anawapa', 'wanaopeleka', 'piki', 'piki', 'Sh10,000', '.', 'Otieno', ',', 'ambaye', 'ni', 'mekanika', 'anashukiwa', 'amekuwa', 'akizibomoa', 'piki', 'piki', 'na', 'kutoa', 'nambari', 'za', 'usajili', '.', 'Alishtakiwa', 'kupatikana', 'na', 'mali', 'ya', 'wizi', 'pamoja', 'na', 'Munga', 'katika', 'kijiji', 'cha', 'Kiusyani', 'kaunti', 'ya', 'Machakos', '.', 'Ibrahim', 'alidaiwa', 'alipatikana', 'na', 'piki', 'piki', 'na', '361', 'nambari', 'feki', 'za', 'usajili', 'nyumbani', 'kwake', '.', 'Edin', ',', 'Munga', ',', 'Elisha', 'na', 'Otieno', 'walikabiliwa', 'na', 'shtaka', 'la', 'kupatikana', 'na', 'piki', 'piki', 'za', 'wizi', 'maeneo', 'ya', 'Langata', 'Nairobi', 'na', 'Machakos', 'Septemba', '27', 'na', 'Oktoba', '3,2021', '.', 'Ibrahim', 'pia', 'ameshtakiwa', 'kupatikana', 'na', 'piki', 'piki', 'zinazodhaniwa', 'zilliibwa', 'katika', 'kaunti', 'ndogo', 'ya', 'Moyale', '.', 'DPP', 'kuunganisha', 'kesi', 'ya', 'mabwawa', 'ya', 'Kimwarer', 'na', 'Aror', 'MKURUGENZI', 'wa', 'mashtaka', 'ya', 'umma', '(', 'DPP', ')', 'Noordin', 'Haji', 'jana', 'aliwasilisha', 'ombi', 'ya', 'kuunganishwa', 'kwa', 'kesi', 'ya', 'ufisadi', 'wa', 'Sh63bilioni', 'inayowakabili', 'Waziri', 'wa', 'Fedha', 'Henry', 'Rotich', 'na', 'mkurugenzi', 'mkuu', 'wa', 'zamani', 'Shirika', 'la', 'Ustawi', 'wa', 'Kerio', 'Valley', '(', 'KVDA', ')', 'David', 'Kimosop', '.', 'Kesi', 'hizi', 'mbili', 'zinatokana', 'na', 'kufujwa', 'kwa', 'pesa', 'katika', 'ujenzi', 'wa', 'mabwawa', 'ya', 'Kimwarer', 'na', 'Arror', '.', 'Katika', 'ombi', 'hilo', 'DPP', 'amepunguza', 'idadi', 'ya', 'washtakiwa', 'kutoka', '18', 'hadi', 'tisa', '(', '9', ')', '.', 'Pia', 'amepunguza', 'mashtaka', 'kutoka', '40', 'hadi', '30', '.', '“', 'Lengo', 'la', 'kuwasilisha', 'ombi', 'hili', 'la', 'kuunganishwa', 'kwa', 'kesi', 'hizi', 'mbili', 'dhidi', 'ya', 'Bw', 'Rotich', 'na', 'Bw', 'Kimosop', 'ni', 'kuhakikisha', 'imekamilishwa', 'kwa', 'haraka', ',', '”', 'alisema', 'Bw', 'Muteti', '.', 'Hakimu', 'alifahamishwa', 'mashahidi', 'watakaofika', 'katika', 'kesi', 'ya', 'Bw', 'Rotich', 'na', 'Bw', 'Kimosop', 'niwamoja', 'tu', '.', 'Pia', 'afisi', 'ya', 'DPP', 'imeeleza', 'kuwa', 'kesi', 'hiyo', 'itasikizwa', 'kwa', 'upesi', '.', '“', 'DPP', 'ameruhusiwa', 'kisheria', 'kuunganisha', 'kesi', 'hizi', 'mbili', 'kupunguza', 'muda', 'ambao', 'mahakama', 'itachukua', 'kuzisikiza', ',', '”', 'alisema', 'Bw', 'Muteti', '.', 'Kiiongozi', 'huyo', 'wa', 'mashtaka', 'alieleza', 'mahakama', 'kwamba', 'rasilmali', 'zitakazotumika', 'zitapunguka', 'kama', 'vile', 'kusafirisha', 'mashahidi', '.', 'Kwa', 'sasa', 'kuna', 'kesi', 'tatu', 'kuhusu', 'sakata', 'hii', 'ya', 'mabwawa', '.', 'Bw', 'Taib', 'alieleza', 'mahakama', 'mnamo', 'Mei', 'mwaka', 'huu', 'afisi', 'ya', 'DPP', 'ilitenganisha', 'kesi', 'hizi', 'kuwa', 'tatu', 'ili', 'zisikizwe', 'na', 'kuamuliwa', 'kwa', 'haraka', '.', 'Miongoni', 'mwa', 'kesi', 'hizi', 'tatu', 'ni', 'pamoja', 'na', 'ile', 'inayowakabili', 'raia', '18', 'wa', 'Italia', 'wanaomiliki', 'kampuni', 'ya', 'CMC', 'di', 'Ravenna', '.', 'Raia', 'hao', '18', 'walikataa', 'kufika', 'nchini', 'kujibu', 'mashtaka', 'dhidi', 'yao', '.', 'Mahakama', 'ilitoa', 'kibali', 'cha', 'kuwatia', 'nguvuni', 'Waitaliano', 'hao', '.', 'Maafisa', 'wa', 'polisi', 'wa', 'Kenya', 'watashirikiana', 'na', 'wale', 'wa', 'kimataifa', 'kuwakamata', 'washtakiwa', 'hao', 'kutoka', 'Italy', '.', 'Shtaka', 'la', 'kwanza', 'dhidi', 'ya', 'tisa', 'hao', 'ni', 'kwamba', 'walikula', 'njama', 'kuifuja', 'serikali', 'Dola', 'za', 'Marekani', '501,829,769', 'kwa', 'kuidhinisha', 'ujenzi', 'wa', 'mabwawa', 'ya', 'Kimwerer', 'na', 'Arror', 'kinyume', 'cha', 'sheria', '.', 'Lakini', 'mawakili', 'Kioko', 'Kilukumi', 'na', 'Katwa', 'Kigen', 'walieleza', 'hakimu', 'watapinga', 'hatua', 'hiyo', 'ya', 'kuunganishwa', 'kwa', 'kesi', 'hizo', 'mbili', 'dhidi', 'ya', 'Mabw', 'Rotich', 'na', 'Kimosop', '.', 'Waliposhtakiwa', 'washtakiwa', 'hao', 'walikanusha', 'kesi', 'dhidi', 'yao', 'na', 'kuachiliwa', 'kwa', 'dhamana', '.', 'Bw', 'Muteti', 'alijibu', 'madai', 'hayo', 'akisema', 'kumekuwa', 'na', 'kampeini', 'mbaya', 'dhidi', 'ya', 'DPP', 'kuhusu', 'utenda', 'kazi', 'na', 'uendelezaji', 'wa', 'kesi', '.', 'Bw', 'Mugambi', 'alihoji', 'sababu', 'ya', 'kiongozi', 'mmoja', 'wa', 'mashtaka', 'kutoka', 'mahakamani', 'kabla', 'ya', 'maagizo', 'ya', 'kuunganishwa', 'kwa', 'kesi', 'hizo', 'kutolewa', '.', 'Bw', 'Mugambi', 'alimshutumu', 'kiongozi', 'huyo', 'wa', 'mashtaka', 'akisema', 'kesi', 'hiyo', 'iliitwa', 'lakini', 'hakukuwa', 'na', 'wakili', 'wa', 'serikali', '.', 'Bw', 'Muteti', 'aliomba', 'msahama', 'na', 'kusema', 'kuna', 'viongozi', 'wa', 'mashtaka', 'wanane', 'ambao', 'wanaohusika', 'na', 'kesi', '.', 'Aliahidi', 'makosa', 'hayo', 'hayatarudiwa', 'tena', '.', 'Bw', 'Mugambi', 'aliwaamuru', 'wote', 'wanaohusika', 'waandae', 'tetezi', 'zao', 'kabla', 'Oktoba', '25', '.', 'Kesi', 'hiyo', 'itatajwa', 'Oktoba', '26', 'kwa', 'njia', 'ya', 'mtandao', 'ili', 'hakimu', 'atoe', 'mwelekeo', 'jinsi', 'ombi', 'hilo', 'la', 'DPP', 'la', 'kuunganishwa', 'kesi', 'hiyo', 'itasikizwa', '.', 'NMG', 'yatoa', 'msaada', 'wa', 'vitabu', 'kwa', 'wanafunzi', 'shuleni', 'Kawangware', 'WANAFUNZI', 'zaidi', 'ya', '2,800', 'katika', 'shule', 'ya', 'Msingi', 'ya', 'Kawangware', 'Kaunti', 'ndogo', 'ya', 'Dagoretti', 'Mashariki', ',', 'Nairobi', 'wamepigwa', 'jeki', 'kielimu', 'baada', 'kupata', 'msaada', 'wa', 'vitabu', 'kutoka', 'kwa', 'kampuni', 'ya', 'Nation', 'Media', 'Group', '(', 'NMG', ')', '.', 'Kampuni', 'ya', 'NMG', 'inayochapisha', 'gazeti', 'la', 'Taifa', 'Leoilitoa', 'msaada', 'wa', 'vitabu', 'vya', 'thamani', 'ya', 'Sh200,000', 'ilhali', 'kampuni', 'ya', 'Bata', 'ilipeana', 'jozi', 'za', 'viatu', 'kwa', 'wanafunzi', 'wote', 'kuanzia', 'chekechea', 'hadi', 'Darasa', 'la', 'Nane', '.', 'Wafanyakazi', 'wa', 'NMG', 'waliongozwa', 'na', 'Mkuu', 'wa', 'Masuala', 'ya', 'Nje', 'na', 'Mauzo', ',', 'Bw', 'Clifford', 'Machoka', 'huku', 'Meneja', 'wa', 'Kampuni', 'ya', 'Bata', 'Nchini', ',', 'Bi', 'Jeddidah', 'Thotho', 'akiongoza', 'wafanyakazi', 'wenzake', '.', 'Akiongea', 'kwenye', 'hafla', 'hiyo', ',', 'Bw', 'Machoka', 'alisema', 'nia', 'ya', 'NMG', 'kuwasaidia', 'watoto', 'ni', 'kubadilisha', 'maisha', 'yao', 'kupitia', 'elimu', '.', '“', 'Nia', 'ya', 'kampuni', 'la', 'NMG', 'ni', 'kubadilisha', 'maisha', 'ya', 'wanafunzi', 'kwa', 'kupiga', 'jeki', 'elimu', 'yao', 'kupitia', 'magazeti', 'yetu', 'ya', 'Taifa', 'Leona', 'Daily', 'Nation', ',', '”', 'Bw', 'Machoka', 'alisema', '.', 'Vile', 'vile', ',', 'Bw', 'Machoka', 'alisema', 'NMG', 'itatoa', 'nakala', 'za', 'magazeti', 'ya', 'NMG', 'ili', 'wanafunzi', 'wasome', 'akifafanua', 'kuwa', 'kuna', 'mambo', 'mengi', 'ya', 'elimu', 'ndani', 'ya', 'magazeti', 'hayo', '.', 'Alisema', 'imebainika', 'kuwa', 'baadhi', 'ya', 'wahalifu', 'wanawatumia', 'wahudumu', 'wa', 'bodaboda', 'kuendesha', 'uhalifu', '.', 'Bi', 'Ngirici', 'alisema', 'hayo', 'Jumamosi', 'katika', 'mkahwa', 'wa', 'Sifa', 'Gardens', 'mjini', 'Kutus', 'alipozindua', 'rasmi', 'Chama', 'cha', 'Akiba', 'na', 'Mikopo', 'cha', 'wanabodaboda', 'mjini', 'humo', 'kwa', 'jina', 'Kutus', 'Riders', 'Operators', 'Sacco', '.', '“', 'Nimewahakikishia', 'kuwa', 'nitawasaidia', 'ili', 'mjiimarishe', '.', 'Lakini', 'nangependa', 'kuwaomba', 'mjiupushe', 'na', 'vitendo', 'vya', 'uhalifu', '.', 'Pia', 'mjihadhari', 'ili', 'msije', 'mkutatumika', 'kufanikisha', 'shughuli', 'za', 'uhalifu', ',', '”', 'akaeleza', '.', 'Bi', 'Ngirici', 'alielezea', 'imani', 'kuwa', 'atachaguliwa', 'kuwa', 'Gavana', 'wa', 'Kirinyaga', 'katika', 'uchaguzi', 'mkuu', 'wa', '2022', '.', '“', 'Nikichaguliwa', 'gavana', 'mwaka', 'ujao', 'nina', 'imani', 'kuwa', 'nitakuwa', 'nikipatikana', 'kwa', 'urahisi', 'kwa', 'sababu', 'nimezaliwa', ',', 'kulelewa', 'na', 'kuolewa', 'hapa', 'Kirinyaga', '.', 'Kwa', 'hivyo', ',', 'siwezi', 'kuwatelekeza', 'watu', 'wetu', ',', '”', 'akasema', 'Bi', 'Ngirici', '.', 'Wachungaji', 'waomba', 'amani', 'idumu', 'Kenya', 'inapojiandaa', 'kwa', 'uchaguzi', 'mkuu', 'Wakiongozwa', 'na', 'Askofu', 'wa', 'Kanisa', 'la', 'Glory', 'Outreach', 'Assembly', '(', 'GOA', ')', 'la', 'Kahawa', 'Sukari', 'Bw', 'James', 'Kamata', ',', 'walisema', 'uvamizi', 'unaoendelea', 'eneo', 'la', 'Laikipia', 'Magharibi', 'unatia', 'hofu', 'kwa', 'wakazi', 'wa', 'huko', 'na', 'ni', 'vyema', 'vitengo', 'vya', 'usalama', 'kuingilia', 'kati', '.', 'Katibu', 'wa', 'Shirika', 'la', 'muungano', 'wa', 'wachungaji', 'linalofahamika', 'kama', 'Federation', 'of', 'Evangelical', 'and', 'Indigenous', 'Christian', 'Churches', 'of', 'Kenya', '(', 'FEICCK', ')', 'Askofu', 'David', 'Munyiri', 'Thagana', ',', 'aliiomba', 'serikali', 'kuwa', 'mstari', 'wa', 'mbele', 'kuona', 'ya', 'kwamba', 'uvamizi', 'unaoendelea', 'Laikipia', 'unazimwa', 'haraka', 'iwezekanavyo', '.', 'Kwa', 'muda', 'wa', 'mwezi', 'mmoja', 'sasa', ',', 'wakazi', 'wa', 'Laikipia', 'wamekuwa', 'wakiishi', 'kwa', 'hofu', 'bila', 'kujua', 'la', 'kufanya', 'kutokana', 'na', 'mashambulio', 'yanayofanywa', 'na', 'wavamizi', 'wa', 'kuiba', 'mifugo', '.', '“', 'Sisi', 'kama', 'wachungaji', 'tunaiomba', 'serikali', 'ichukue', 'hatua', 'ya', 'dharura', 'kuona', 'ya', 'kwamba', 'wavamizi', 'hao', 'wanakabiliwa', 'vilivyo', 'na', 'kulinda', 'maisha', 'ya', 'wananchi', '.', 'Hata', 'wakazi', 'kadha', 'wameuawa', 'na', 'mifugo', 'zao', 'kuibwa', 'katika', 'maeneo', 'hayo', ',', '”', 'alifafanua', 'Askofu', 'Kamata', '.', 'Wachungaji', 'hao', 'walitoa', 'ushauri', 'kwa', 'wanasiasa', 'kuwa', 'makini', 'ili', 'wasichochee', 'uhasama', 'miongoni', 'mwa', 'wakazi', 'wa', 'Laikipia', '.', 'Waliyasema', 'hayo', 'katika', 'kanisa', 'la', 'Glory', 'Outreach', 'Assembly', 'lililoko', 'eneo', 'la', 'Kahawa', 'Sukari', '.', 'Askofu', 'Kamata', 'aliiomba', 'Tume', 'ya', 'Uwiano', 'na', 'Utangamano', '(', 'NCIC', ')', 'kuwa', 'mstari', 'wa', 'mbele', 'kuona', 'ya', 'kwamba', 'viongozi', 'wa', 'Kisiasa', 'wanahubiri', 'amani', '.', '“', 'Wakati', 'huu', 'tunapoelekea', 'uchaguzi', 'mkuu', 'tunastahili', 'kuwa', 'pamoja', 'kama', 'wananchi', '.', 'Kila', 'mmoja', 'wetu', 'anahitaji', 'mwenzake', ',', '”', 'alisema', 'Askofu', 'Kamata', '.']\n",
      "\n",
      " Number of Words:  2019\n"
     ]
    }
   ],
   "source": [
    "file=\"21oct18.txt\"\n",
    "\n",
    "# calling the function and storing the contents in a text variable \n",
    "text1 = get_document(\"https://taifaleo.nation.co.ke/anita-analenga-kutesa-katika-uigizaji-na-masuala-ya-urembo/\")\n",
    "text2 = get_document(\"https://taifaleo.nation.co.ke/irene-analenga-kufikia-sho-madjozi-kimuziki/\")\n",
    "text3 = get_document(\"https://taifaleo.nation.co.ke/watano-wakana-wizi-wa-pikipiki/\")\n",
    "text4 = get_document(\"https://taifaleo.nation.co.ke/dpp-kuunganisha-kesi-ya-mabwawa-ya-kimwarer-na-aror/\")\n",
    "text5 = get_document(\"https://taifaleo.nation.co.ke/nmg-yatoa-msaada-wa-vitabu-kawangware/\")\n",
    "text6 = get_document(\"https://taifaleo.nation.co.ke/wito-wahudumu-wa-bodaboda-kujiepusha-na-uhalifu/\")\n",
    "text7 = get_document(\"https://taifaleo.nation.co.ke/wachungaji-waomba-amani-idumu-kenya-inapojiandaa-kwa-uchaguzi-mkuu/\")\n",
    "\n",
    "# calling the store_ document function \n",
    "store_document(doc=text1,name=file)\n",
    "store_document(doc=text2,name=file)\n",
    "store_document(doc=text3,name=file)\n",
    "store_document(doc=text4,name=file)\n",
    "store_document(doc=text5,name=file)\n",
    "store_document(doc=text6,name=file)\n",
    "store_document(doc=text7,name=file)\n",
    "\n",
    "#add the words in this file to the total_corpus_words, to keep count of the number of words in the corpus\n",
    "total_corpus_words+=total_words(file)"
   ]
  },
  {
   "cell_type": "code",
   "execution_count": 88,
   "metadata": {},
   "outputs": [
    {
     "data": {
      "text/plain": [
       "774755"
      ]
     },
     "execution_count": 88,
     "metadata": {},
     "output_type": "execute_result"
    }
   ],
   "source": [
    "total_corpus_words"
   ]
  },
  {
   "cell_type": "code",
   "execution_count": 92,
   "metadata": {},
   "outputs": [
    {
     "name": "stdout",
     "output_type": "stream",
     "text": [
      "['“', 'Ni', 'pepo', 'mbaya', 'aliyeniingia', 'hata', 'nikatamani', 'kumpiga', 'picha', 'mlalamishi', ',', '”', 'alisema', 'Ambeyi', '.', 'Mlalamishi', 'alikiri', 'alisababisha', 'kero', 'kwa', 'kumpiga', 'picha', 'mwanamke', 'huyo', 'katika', 'choo', 'kilichoko', 'kwenye', 'kituo', 'cha', 'mafuta', 'ya', 'petrol', 'cha', 'Rubis', 'mnamo', 'Oktoba', '7', 'mwaka', 'huu', '.', 'Mlalamishi', 'alikuwa', 'ameingia', 'katika', 'petrostesheni', 'hiyo', 'kujaza', 'gari', 'lake', 'mafuta', '.', 'Akiwa', 'msalani', 'mshtakiwa', 'alimpiga', 'picha', 'akimchunguza', 'kupitia', 'mwanya', 'katika', 'mlango', 'wa', 'choo', 'hicho', '.', 'Mwanachuo', 'ashtakiwa', 'kwa', 'kutuma', 'picha', 'za', 'ngono', 'kwa', 'mtoto', 'wa', 'kike', 'MWANAFUNZI', 'katika', 'chuo', 'cha', 'Kabete', 'Vetlab', 'alishtakiwa', 'Jumanne', 'kwa', 'kumtumia', 'msichana', 'wa', 'miaka', '14', 'picha', 'za', 'wanaume', 'wakiwa', 'uchi', 'kwa', 'lengo', 'la', 'kumshawishi', 'washiriki', 'ngono', '.', 'Humphrey', 'Adamba', 'alikanusha', 'shtaka', 'la', 'kumtumia', 'picha', 'za', 'ngono', 'mtoto', 'huyo', 'kwa', 'lengo', 'la', 'kumchafua', 'mawazo.Shtaka', 'lilisema', 'mshtakiwa', 'alimtumia', 'mlalamishi', 'picha', 'za', 'wanaume', 'wakibusu', 'wanawake', 'mnamo', 'Oktoba', '11', ',', '2021', 'kwa', 'lengo', 'la', 'kuboronga', 'mawazo', 'yake', '.', 'Adamba', 'mwenye', 'umri', 'wa', 'miaka', '20', 'alikanusha', 'shtaka', 'dhidi', 'yake', 'aliposhtakiwa', 'mbele', 'ya', 'hakimu', 'mkazi', 'mahakama', 'ya', 'Milimani', 'Bi', 'Wandia', 'Nyamu', '.', 'Mshtakiwa', 'huyo', 'aliomba', 'mahakama', 'imwachilie', 'kwa', 'dhamana', '.', 'Bodi', 'yasaka', 'chanzo', 'cha', 'jengo', 'kuporomoka', 'BODI', 'ya', 'wahandisi', 'nchini', '(', 'EBK', ')', 'inaendelea', 'kuchunguza', 'mkasa', 'wa', 'kuporomoka', 'kwa', 'jengo', 'mjini', 'Ruiru', ',', 'Kaunti', 'ya', 'Kiambu', 'wikendi', ',', 'huku', 'ikiwaonya', 'wakandarasi', 'wasiotumia', 'vifaa', 'thabiti', 'katika', 'ujenzi', '.', 'Bodi', 'hiyo', 'pia', 'imesema', 'itayaondoa', 'kwenye', 'orodha', 'majengo', 'yote', 'yanayoendelea', 'kujengwa', 'nchini', ',', 'ikiwa', 'hayatasajiliwa', 'ifikapo', 'mwisho', 'wa', 'Novemba', '.', 'Akizungumza', 'na', 'wanahabari', 'Jumatatu', ',', 'Mkurugenzi', 'mkuu', 'wa', 'Mamlaka', 'ya', 'Kitaifa', 'ya', 'Ujenzi', '(', 'NCA', ')', ',', 'Bw', 'Maurice', 'Akech', ',', 'alitoa', 'wito', 'kwa', 'wakandarasi', 'wote', 'wafanye', 'usajili', 'wa', 'haraka', 'kwa', 'majengo', 'yote', 'yanayoendelea', 'kujengwa', 'kabla', 'ya', 'ukaguzi', 'kuanzishwa', 'rasmi', '.', 'DPP', 'ataka', 'kesi', 'za', 'Kimwarer', ',', 'Arror', 'ziunganishwe', 'MKURUGENZI', 'wa', 'Mashtaka', 'ya', 'Umma', '(', 'DPP', ')', ',', 'Noordin', 'Haji', 'sasa', 'anataka', 'kesi', 'za', 'ufisadi', 'wa', 'Sh63', 'bilioni', 'zinazowakabili', 'aliyekuwa', 'waziri', 'wa', 'Fedha', 'Henry', 'Rotich', 'na', 'mkurugenzi', 'mkuu', 'wa', 'zamani', 'Shirika', 'la', 'Ustawi', 'wa', 'Kerio', 'Valley', '(', 'KVDA', ')', ',', 'David', 'Kimosop', 'ziunganishwe', '.', 'Kesi', 'hizo', 'mbili', 'zinahusu', 'kufujwa', 'kwa', 'pesa', 'katika', 'ujenzi', 'wa', 'mabwawa', 'ya', 'Kimwarer', 'na', 'Arror', '.', 'Katika', 'ombi', 'hilo', ',', 'DPP', 'amepunguza', 'idadi', 'ya', 'washtakiwa', 'kutoka', '18', 'hadi', 'tisa', '.', 'NMG', 'yatoa', 'msaada', 'wa', 'vitabu', 'kwa', 'wanafunzi', 'shuleni', 'Kawangware', 'WANAFUNZI', 'zaidi', 'ya', '2,800', 'katika', 'shule', 'ya', 'Msingi', 'ya', 'Kawangware', 'Kaunti', 'ndogo', 'ya', 'Dagoretti', 'Mashariki', ',', 'Nairobi', 'wamepigwa', 'jeki', 'kielimu', 'baada', 'kupata', 'msaada', 'wa', 'vitabu', 'kutoka', 'kwa', 'kampuni', 'ya', 'Nation', 'Media', 'Group', '(', 'NMG', ')', '.', 'Kampuni', 'ya', 'NMG', 'inayochapisha', 'gazeti', 'la', 'Taifa', 'Leoilitoa', 'msaada', 'wa', 'vitabu', 'vya', 'thamani', 'ya', 'Sh200,000', 'ilhali', 'kampuni', 'ya', 'Bata', 'ilipeana', 'jozi', 'za', 'viatu', 'kwa', 'wanafunzi', 'wote', 'kuanzia', 'chekechea', 'hadi', 'Darasa', 'la', 'Nane', '.', 'Wafanyakazi', 'wa', 'NMG', 'waliongozwa', 'na', 'Mkuu', 'wa', 'Masuala', 'ya', 'Nje', 'na', 'Mauzo', ',', 'Bw', 'Clifford', 'Machoka', 'huku', 'Meneja', 'wa', 'Kampuni', 'ya', 'Bata', 'Nchini', ',', 'Bi', 'Jeddidah', 'Thotho', 'akiongoza', 'wafanyakazi', 'wenzake', '.', 'Akiongea', 'kwenye', 'hafla', 'hiyo', ',', 'Bw', 'Machoka', 'alisema', 'nia', 'ya', 'NMG', 'kuwasaidia', 'watoto', 'ni', 'kubadilisha', 'maisha', 'yao', 'kupitia', 'elimu', '.', '“', 'Nia', 'ya', 'kampuni', 'la', 'NMG', 'ni', 'kubadilisha', 'maisha', 'ya', 'wanafunzi', 'kwa', 'kupiga', 'jeki', 'elimu', 'yao', 'kupitia', 'magazeti', 'yetu', 'ya', 'Taifa', 'Leona', 'Daily', 'Nation', ',', '”', 'Bw', 'Machoka', 'alisema', '.', 'Vile', 'vile', ',', 'Bw', 'Machoka', 'alisema', 'NMG', 'itatoa', 'nakala', 'za', 'magazeti', 'ya', 'NMG', 'ili', 'wanafunzi', 'wasome', 'akifafanua', 'kuwa', 'kuna', 'mambo', 'mengi', 'ya', 'elimu', 'ndani', 'ya', 'magazeti', 'hayo', '.', 'Watu', '26', 'wanaoishi', 'na', 'ulemavu', 'Kiambu', 'wapokea', 'vifaa', 'vya', 'kazi', 'kutoka', 'NFDK', 'WALEMAVU', 'wapatao', '26', 'kutoka', 'Kiambu', ',', 'wamenufaika', 'na', 'vifaa', 'vya', 'kazi', 'kutoka', 'kwa', 'mfuko', 'wa', 'Hazina', 'ya', 'Kitaifa', 'Maalum', 'kwa', 'Watu', 'Wanaoishi', 'na', 'Ulemavu', '(', 'PLWDs', ')', 'yaani', 'National', 'Fund', 'for', 'the', 'Disabled', 'of', 'Kenya', '(', 'NFDK', ')', '.', 'Prof', 'Julia', 'Ojiambo', ',', 'mmoja', 'wa', 'maafisa', 'katika', 'kamati', 'ya', 'hazina', 'hiyo', 'na', 'naibu', 'kamishna', 'wa', 'Thika', 'Bw', 'Mbogo', 'Mathioya', 'walihudhuria', 'hafla', 'hiyo', '.', 'Prof', 'Ojiambo', ',', 'alisema', 'vifaa', 'hivyo', 'vya', 'kazi', 'kwa', 'walemavu', 'viligharimu', 'takribani', 'Sh650,000', 'Baadhi', 'ya', 'vifaa', 'vilivyotolewa', 'ni', 'vya', 'kutumika', 'kwenye', 'kinyozi', ',', 'vifaa', 'vya', 'ususi', ',', 'vifaa', 'vya', 'kazi', 'ya', 'useremala', ',', 'cherehani', 'za', 'kushona', 'nguo', ',', 'na', 'viti', 'vya', 'magurudumu', '.', 'Baadhi', 'ya', 'wanufaika', 'wa', 'mpango', 'wa', 'NFDK', '.', 'Picha/', 'Lawrence', 'Ongaro', 'Alieleza', 'kuwa', 'serikali', 'imejitolea', 'kuzunguka', 'kote', 'nchini', 'kuona', 'ya', 'kwamba', 'walemavu', 'wanasaidiwa', 'vilivyo', '.']\n",
      "\n",
      " Number of Words:  681\n"
     ]
    }
   ],
   "source": [
    "file=\"21oct19.txt\"\n",
    "\n",
    "# calling the function and storing the contents in a text variable \n",
    "text1 = get_document(\"https://taifaleo.nation.co.ke/bawabu-taabani-kwa-kumpiga-mwanamke-picha-akiwa-msalani/\")\n",
    "text2 = get_document(\"https://taifaleo.nation.co.ke/mwanachuo-ashtakiwa-kwa-kutuma-picha-za-ngono-kwa-mtoto-wa-kike/\")\n",
    "text3 = get_document(\"https://taifaleo.nation.co.ke/chanzo-cha-jengo-kuporomoka/\")\n",
    "text4 = get_document(\"https://taifaleo.nation.co.ke/dpp-ataka-kesi-za-kimwarer-arror-ziunganishwe/\")\n",
    "text6 = get_document(\"https://taifaleo.nation.co.ke/watu-26-wanaoishi-na-ulemavu-kiambu-wapokea-vifaa-vya-kazi-kutoka-nfdk/\")\n",
    "\n",
    "# calling the store_ document function \n",
    "store_document(doc=text1,name=file)\n",
    "store_document(doc=text2,name=file)\n",
    "store_document(doc=text3,name=file)\n",
    "store_document(doc=text4,name=file)\n",
    "store_document(doc=text5,name=file)\n",
    "store_document(doc=text6,name=file)\n",
    "\n",
    "#add the words in this file to the total_corpus_words, to keep count of the number of words in the corpus\n",
    "total_corpus_words+=total_words(file)"
   ]
  },
  {
   "cell_type": "code",
   "execution_count": 93,
   "metadata": {},
   "outputs": [
    {
     "data": {
      "text/plain": [
       "775436"
      ]
     },
     "execution_count": 93,
     "metadata": {},
     "output_type": "execute_result"
    }
   ],
   "source": [
    "total_corpus_words"
   ]
  },
  {
   "cell_type": "code",
   "execution_count": 99,
   "metadata": {},
   "outputs": [
    {
     "name": "stdout",
     "output_type": "stream",
     "text": [
      "['Alisema', 'cheti', 'hicho', 'cha', 'mashtaka', 'kimewasilishwa', 'kwa', 'mujibu', 'wa', 'sheria', '.', 'Obado', 'ameshtakiwa', 'pamoja', 'na', 'watoto', 'wake', 'Susan', 'Scarlet', ',', 'Jerry', 'Zachary', ',', 'Evelyn', 'Adhiambo', 'na', 'Dan', 'Achola', 'Okoth', '.', 'Washtakiwa', 'wengine', 'ni', 'pamoja', 'na', 'Bw', 'Jared', 'Kwaga', 'anayeshtakiwa', 'pamoja', 'na', 'mkewe', 'na', 'mama', 'yao', '.', 'Korti', 'yaelezwa', 'jinsi', 'mwanamke', 'alivyoibia', 'mfanyabiashara', 'MFANYABIASHARA', 'raia', 'wa', 'Uganda', 'aliibiwa', 'Sh130,000', 'na', 'mwanamke', 'saa', 'chache', 'baada', 'ya', 'kukutana', 'kwa', 'mara', 'ya', 'kwanza', 'katika', 'baa', 'moja', 'eneo', 'la', 'Kilimani', ',', 'Nairobi', '.', 'Mwanamke', 'huyo', ',', 'Clare', 'Monyangi', 'Moseti', ',', '28', ',', 'anakabiliwa', 'na', 'shtaka', 'la', 'wizi', 'katika', 'Mahakama', 'ya', 'Kibera', 'baada', 'ya', 'kudaiwa', 'kwamba', 'alimlewesha', 'mfanyabiashara', 'huyo', 'katika', 'nyumba', 'yake', 'iliyoko', 'barabara', 'ya', 'Muringa', ',', 'Kilimani', ',', 'Nairobi', '.', 'Inadaiwa', 'kwamba', 'alitenda', 'kosa', 'hilo', 'kati', 'ya', 'Oktoba', '14', 'na', '16', 'mwaka', 'huu', 'wa', '2021', '.', 'Bw', 'Kaba', 'alieleza', 'mahakama', 'kuwa', 'washukiwa', 'hao', 'ni', 'watu', 'wenye', 'familia', 'na', 'kuwekwa', 'kwao', 'kizuizini', 'kutawakosesha', 'nafasi', 'ya', 'kuchuma', 'mapato', 'ya', 'kujisaidia', '.', '“', 'Naomba', 'wateja', 'wangu', 'waachiliwe', 'kwa', 'dhamana', 'kwa', 'sababu', 'wao', 'ndio', 'tegemeo', 'kwa', 'familia', 'zao', '.', 'Na', 'hawawezi', 'kukataa', 'kufikia', 'mahakamani', '.', 'Kuzuiliwa', 'kwao', 'kuchangia', 'wake', 'na', 'watoto', 'wao', ',', '”', 'akaongeza', '.', 'Hata', 'hivyo', ',', 'Bw', 'Mutai', 'alikataa', 'ombi', 'hilo', 'na', 'kuamuru', 'kuwa', 'kesi', 'itajwe', 'mnamo', 'Oktoba', '29', ',', '2021', 'wakati', 'ambapo', 'atatoa', 'mwelekeo', 'zao', '.', 'Wakati', 'huo', 'huo', ',', 'Mbunge', 'wa', 'Kitutu', 'Chache', 'Kaskazini', 'Jimmy', 'Angwenyi', 'jana', 'Jumanne', 'alilaani', 'tukio', 'hilo', 'la', 'Jumapili', 'na', 'kuwashauri', 'wakazi', 'kukoma', 'kuchukua', 'sheria', 'mikononi', 'mwa', 'kwa', 'kuwateketeza', 'washukiwa', 'wa', 'uchawi', '.', '“', 'Ikiwa', 'mtu', 'fulani', 'anashukiwa', 'kuwa', 'mchawi', 'kile', 'wananchi', 'wanafaa', 'kufanya', 'ni', 'kupiga', 'ripoti', 'kwa', 'polisi', '.', 'Wananchi', 'hawana', 'haki', 'au', 'idhini', 'ya', 'kuwashambulia', 'na', 'kuwaua', 'washukiwa', ',', '”', 'Bw', 'Angwenyi', 'akasema', 'kwenye', 'kikao', 'na', 'wanahabari', 'katika', 'majengo', 'ya', 'bunge', ',', 'Nairobi', '.', 'Mbunge', 'huyo', 'aliwataka', 'wakazi', 'wa', 'eneo', 'hilo', 'kukumbutia', 'mafunzo', 'ya', 'kidini', 'na', 'kukoma', 'kuendeleza', 'ushirikina', '.', 'Kiongozi', 'huyo', 'aliwataka', 'maafisa', 'wa', 'polisi', 'kuwasaka', 'washukiwa', 'zaidi', 'walioshiriki', 'katika', 'mauaji', 'ya', 'akina', 'mama', 'hao', 'katika', 'eneo', 'la', 'Marani', '.', '“', 'Nafurahi', 'kuwa', 'washukiwa', 'wanne', 'wamekamatwa', '.', 'Lakini', 'wengine', 'walioshirikiano', 'nao', 'na', 'ambao', 'bado', 'wanajificha', 'wanafaa', 'kukamatwa', 'na', 'kuwasilishwa', 'mahakamani', ',', '”', 'Bw', 'Angwenyi', 'akaongeza', '.', 'DPP', 'ataka', 'kesi', 'za', 'Kimwarer', ',', 'Arror', 'ziunganishwe', 'MKURUGENZI', 'wa', 'Mashtaka', 'ya', 'Umma', '(', 'DPP', ')', ',', 'Noordin', 'Haji', 'sasa', 'anataka', 'kesi', 'za', 'ufisadi', 'wa', 'Sh63', 'bilioni', 'zinazowakabili', 'aliyekuwa', 'waziri', 'wa', 'Fedha', 'Henry', 'Rotich', 'na', 'mkurugenzi', 'mkuu', 'wa', 'zamani', 'Shirika', 'la', 'Ustawi', 'wa', 'Kerio', 'Valley', '(', 'KVDA', ')', ',', 'David', 'Kimosop', 'ziunganishwe', '.', 'Kesi', 'hizo', 'mbili', 'zinahusu', 'kufujwa', 'kwa', 'pesa', 'katika', 'ujenzi', 'wa', 'mabwawa', 'ya', 'Kimwarer', 'na', 'Arror', '.', 'Katika', 'ombi', 'hilo', ',', 'DPP', 'amepunguza', 'idadi', 'ya', 'washtakiwa', 'kutoka', '18', 'hadi', 'tisa', '.', 'Akamatwa', 'na', 'bastola', 'feki', 'na', 'kutupwa', 'jela', 'Gilbert', 'Ochieng', 'aliye', 'na', 'umri', 'wa', 'miaka', '41', 'alishtakiwa', 'kujiandaa', 'kutekeleza', 'uhalifu', 'wa', 'wizi', 'wa', 'mabavu', '.', 'Ochieng', 'alitiwa', 'nguvuni', 'katika', 'barabara', 'ya', 'Ole', 'Sereni', 'karibu', 'na', 'chuo', 'kikuu', 'cha', 'Strathmore', 'University', 'mnamo', 'Oktoba', '14', ',', '2021', '.', 'Awara', 'amlewesha', 'Mganda', 'na', 'kumpora', 'Sh130,000', 'MWANAMKE', 'aliyempumbaza', 'mfanya', 'biashara', 'kutoka', 'Uganda', 'kwa', 'kumpa', 'madawa', 'ya', 'kulevya', 'kabla', 'ya', 'kumwibia', 'Sh130,000', 'amefikishwa', 'kortini', '.', 'Clare', 'Monyangi', 'Moseti', ',', 'mwenye', 'umri', 'wa', 'miaka', '28', 'alishtakiwa', 'kwa', 'wizi', '.', 'Monyangi', 'alidaiwa', 'alimlewesha', 'mwanaume', 'huyo', 'katika', 'kilabu', 'kimoja', 'katika', 'eneo', 'la', 'Kilimani', 'jijini', 'Nairobi', '.', 'Ilikuwa', 'mara', 'ya', 'kwanza', 'wawili', 'hao', 'kukutana.Monyangi', 'anadaiwa', 'alimpa', 'dawa', 'mgeni', 'huyo', 'na', 'kumwacha', 'akiwa', 'amelewa', 'chakari', 'akiwa', 'uchi', 'nyumbani', 'kwake', '.', 'Moseti', 'anasemekana', 'alimpa', 'mlalamishi', 'dawa', 'ya', 'kulevya', 'ijulikanayo', 'Benzodiazepines', 'kati', 'ya', 'Oktoba', '14', 'na', '16', '.', 'Mshtakiwa', 'anadaiwa', 'katika', 'kipindi', 'cha', 'siku', 'hizi', 'mbili', 'mlalamishi', 'alikuwa', 'hajapata', 'fahamu', '.', 'Upande', 'wa', 'mashtaka', 'umesema', 'mlalamishi', 'na', 'mshtakiwa', 'walianza', 'kutema', 'tindi', 'katika', 'kilabu', 'Adlife', 'Plaza', '.', 'Monyangi', 'alikuwa', 'na', 'mwenzake', 'alipoitishwa', 'nambari', 'ya', 'simu', 'na', 'mlalamishi', '.', 'Mshtakiwa', 'na', 'mlalamishi', 'waliandamana', 'hadi', 'nyumbani', 'kwake', 'kuendelea', 'na', 'kuponda', 'raha', '.', 'Mjakazi', 'akana', 'kuiba', 'mkufu', 'na', 'pesa', 'za', 'mwajiri', 'wake', 'MJAKAZI', 'aliyetoroka', 'kutoka', 'kwa', 'mwajiri', 'wake', 'ameshtakiwa', 'kwa', 'wizi', 'wa', 'zaidi', 'ya', 'Sh140,000', 'na', 'mkufu', 'wa', 'thamani', 'ya', 'Sh3000', '.', 'Alipofikishwa', 'mbele', 'ya', 'hakimu', 'mkazi', 'Charles', 'Mwaniki', ',', 'Irene', 'Andanu', ',', 'alidai', 'aliteswa', 'na', 'kudhulumiwa', 'na', 'maafisa', 'wa', 'polisi', 'waliomtia', 'nguvuni', '.', 'Irene', 'alieleza', 'Bw', 'Mwaniki', 'kuwa', 'polisi', 'walimfungia', 'ndani', 'ya', 'nyumba', 'ya', 'mwajiri', 'wake', 'Bi', 'Joy', 'Mbeche', 'kwa', 'siku', 'nzima', 'kabla', 'ya', 'kupelekwa', 'kituo', 'cha', 'polisi', '.', 'Irene', 'alikabiliwa', 'na', 'shtaka', 'la', 'kuchomoka', 'na', 'pesa', 'hizo', 'za', 'mwajiri', 'wake', 'alipomaliza', 'kuosha', 'chumba', 'cha', 'kulala', 'na', 'kupanguza', 'kabati', 'yake', 'vumbi', '.', 'Mahakama', 'ilielezwa', 'kuwa', 'mshtakiwa', 'aliiba', 'pesa', 'hizo', 'Oktoba', '7,2021', 'katika', 'mtaa', 'wa', 'Mountain', 'View', 'kaunti', 'ndogo', 'ya', 'Westlands', ',', 'Nairobi', '.', 'Polisi', 'walisema', 'mshtakiwa', 'alipata', 'pesa', 'hizo', 'na', 'mkufu', 'huo', 'kutokana', 'na', 'kazi', 'yake', '.', 'Mahakama', 'ilifahamishwa', 'mshtakiwa', 'aliyeajiriwa', 'Septemba', '15', ',', '2021', 'kuwa', 'anafanya', 'kazi', 'siku', 'nne', 'kwa', 'wiki', 'kati', 'ya', 'saa', 'mbili', 'asubuhi', 'na', 'saa', '12', 'jioni', '.', 'Mlalamishi', 'alikuwa', 'jikoni', 'akiendeleza', 'mapishi', 'mshtakiwa', 'alipokuwa', 'akifanya', 'kazi', 'katika', 'chumba', 'chake', 'cha', 'kulala', '.', 'Baada', 'ya', 'kuchana', 'mbuga', 'na', 'pesa', 'hizo', 'mshtakiwa', 'alitoweka', 'hadi', 'alipokamatwa', 'Oktoba', '14', ',', '2021', '.', 'Mbali', 'na', 'wawili', 'hao', '(', 'njuki', 'na', 'Margaret', ')', 'kuna', 'maafisa', 'tisa', 'wa', 'serikali', 'ya', 'kaunti', 'ya', 'Tharaka', 'Nithi', 'na', 'washtakiwa', 'wengine', 'kutoka', 'familia', 'moja', '.', 'Washtakiwa', 'wengine', 'walioshtakiwa', 'kutoka', 'familia', 'moja', 'ni', 'Kenneth', 'Mucuiya', 'na', 'mkewe', 'Caroline', 'Wambui', 'pamoja', 'na', 'Bw', 'Japheth', 'Gitonga', 'ambaye', 'ni', 'ajenti', 'wao', 'wa', 'masuala', 'ya', 'Benki', 'na', 'pia', 'msaidizi', 'wao', 'kazini', '.', 'Jaji', 'James', 'Wakiaga', 'alimwamuru', 'Bw', 'Ogoti', 'asisikize', 'kesi', 'hiyo', 'alipoamuru', 'kesi', 'hiyo', 'ya', 'ufisadi', 'ihamishwe', 'kutoka', 'mahakama', 'ya', 'kuamua', 'kesi', 'za', 'ufisadi', 'ya', 'Milimani', 'Nairobi', 'hadi', 'korti', 'ya', 'Embu', '.', 'Bw', 'Njuki', 'ameshtakiwa', 'na', 'watu', 'wengine', '20', '.', 'Jaji', 'Wakiaga', 'anayesimamia', 'kitengo', 'cha', 'mahakama', 'kuu', 'cha', 'kushughulikia', 'kesi', 'za', 'ufisadi', 'alisema', 'Bw', 'Njuki', 'na', 'wenzake', 'wangelishtakiwa', 'kwa', 'mara', 'ya', 'kwanza', 'katika', 'mahakama', 'ya', 'Embu', '.']\n",
      "\n",
      " Number of Words:  932\n"
     ]
    }
   ],
   "source": [
    "file=\"21oct20.txt\"\n",
    "\n",
    "# calling the function and storing the contents in a text variable \n",
    "text1 = get_document(\"https://taifaleo.nation.co.ke/obado-na-watoto-wake-wanne-kujibu-mashtaka-ya-ufisadi-wa-sh73-4m/\")\n",
    "text2 = get_document(\"https://taifaleo.nation.co.ke/korti-yaelezwa-jinsi-mwanamke-alivyoibia-mfanyabiashara/\")\n",
    "text3 = get_document(\"https://taifaleo.nation.co.ke/washukiwa-kusalia-seli-siku-10/\")\n",
    "text5 = get_document(\"https://taifaleo.nation.co.ke/akamatwa-na-bastola-feki-na-kutupwa-jela/\")\n",
    "text6 = get_document(\"https://taifaleo.nation.co.ke/awara-amlewesha-mganda-na-kumpora-sh130000/\")\n",
    "text7 = get_document(\"https://taifaleo.nation.co.ke/mjakazi-akana-kuiba-mkufu-na-pesa-za-mwajiri-wake/\")\n",
    "text8 = get_document(\"https://taifaleo.nation.co.ke/ogoti-azimwa-kusikiza-kesi-dhidi-ya-gavana-njuki-na-mkewe/\")\n",
    "\n",
    "# calling the store_ document function \n",
    "store_document(doc=text1,name=file)\n",
    "store_document(doc=text2,name=file)\n",
    "store_document(doc=text3,name=file)\n",
    "store_document(doc=text4,name=file)\n",
    "store_document(doc=text5,name=file)\n",
    "store_document(doc=text6,name=file)\n",
    "store_document(doc=text7,name=file)\n",
    "store_document(doc=text8,name=file)\n",
    "\n",
    "#add the words in this file to the total_corpus_words, to keep count of the number of words in the corpus\n",
    "total_corpus_words+=total_words(file)"
   ]
  },
  {
   "cell_type": "code",
   "execution_count": 100,
   "metadata": {},
   "outputs": [
    {
     "data": {
      "text/plain": [
       "776368"
      ]
     },
     "execution_count": 100,
     "metadata": {},
     "output_type": "execute_result"
    }
   ],
   "source": [
    "total_corpus_words"
   ]
  },
  {
   "cell_type": "code",
   "execution_count": 102,
   "metadata": {},
   "outputs": [
    {
     "name": "stdout",
     "output_type": "stream",
     "text": [
      "['Jaji', 'mkuu', 'kuapisha', 'majaji', 'sita', 'endapo', 'Rais', 'Uhuru', 'Kenyatta', 'hatawaapisha', 'katika', 'muda', 'wa', 'siku', '14', 'MVUTANO', 'kati', 'ya', 'Rais', 'Uhuru', 'Kenyatta', 'na', 'Idara', 'ya', 'Mahakama', 'kuhusu', 'uteuzi', 'wa', 'majaji', 'sita', 'wa', 'mahakama', 'ya', 'rufaa', 'na', 'mahakama', 'kuu', 'ulichukua', 'mwelekeo', 'mpya', 'jana', 'huku', 'akipewa', 'siku', '14', 'kuwaapisha', '.', 'Asipowaapisha', 'majaji', 'hao', 'sita', 'katika', 'siku', 'hizo', '14', 'basi', 'Jaji', 'Mkuu', 'Martha', 'Koome', 'na', 'tume', 'ya', 'huduma', 'za', 'mahakama', 'JSC', 'wametwikwa', 'jukumu', 'la', 'kuwaapisha', 'ili', 'waanze', 'kazi', 'mara', 'moja', 'pasi', 'kumshirikisha', 'tena', 'Rais', 'Kenyatta', '.', 'Majaji', 'hao', 'walisema', 'tangu', '2019', 'Rais', 'Kenyatta', 'hakuwaapisha', 'baada', 'ya', 'kuteuliwa', 'na', 'JSC', 'kwa', 'mujibu', 'wa', 'sheria', '.', 'uya', '”', 'katika', 'muda', 'wa', 'siku', 'Wawili', 'kati', 'ya', 'majaji', 'hao', 'sita', 'Joel', 'Ngugi', 'na', 'George', 'Odunga', 'walikuwa', 'miongoni', 'mwa', 'majaji', 'watano', 'walioangusha', 'BBI', '.', 'Uamuzi', 'huu', 'ni', 'dhihirisho', 'wazi', 'Rais', 'Kenyatta', 'ameshindwa', 'nguvu', 'katika', 'mvutano', 'huu', 'wa', 'kupimana', 'nguvu', 'kati', 'ya', 'afisi', 'ya', 'rais', 'na', 'idara', 'ya', 'mahakama', '.', 'Wengine', 'ni', 'Bw', 'Evans', 'Makori', 'na', 'naibu', 'wa', 'msajili', 'wa', 'mahakama', 'kuu', 'Bi', 'Judith', 'Omange', '.', 'Makori', 'na', 'Omange', 'waliteuliwa', 'na', 'JSC', 'kuwa', 'Majaji', 'katika', 'idara', 'ya', 'Masuala', 'ya', 'Ardhi', 'na', 'Mazingira', '.', 'Majaji', 'hawa', 'sita', 'walikuwa', 'miongoni', 'mwa', 'majaji', '41', 'walioteuliwa', '2019', 'kisha', 'Rais', 'Kenyatta', 'akachelea', 'kuwateua', 'akidai', 'baadhi', 'yao', 'walihusika', 'na', 'ufisadi', '.', 'Kupitia', 'kwa', 'wakili', 'Danstan', 'Omari', 'majaji', 'hao', 'walishtaki', 'serikali', 'wakidai', 'walikuwa', 'wamebaguliwa.Jana', 'walipata', 'afueni', 'mahakama', 'ilipoamuru', 'rais', 'awaapishe', '.', 'Na', 'wakati', 'huo', 'huo', 'Bw', 'Kihara', 'aliponea', 'chupuchupu', 'kutangazwa', 'kuwa', 'hafai', 'kuhudumu', 'katika', 'wadhifa', 'wa', 'Mwanasheria', 'mkuu', '(', 'AG', ')', 'kutokana', 'na', 'ushauri', 'anaotoa', 'kwa', 'Serikali', 'na', 'haswa', 'Rais', 'kuhusu', 'suala', 'hili', 'la', 'uteuzi', 'wa', 'majaji', '41', '.', 'Mwanasheria', 'mkuu', 'ndiye', 'utoa', 'ushauri', 'kwa', 'serikali', 'katika', 'masuala', 'yote', '.', 'Walalamishi', 'kuhusu', 'uteuzi', 'huu', 'wa', 'majaji', 'sita', 'waliomba', 'mahakama', 'imtimue', 'kazini', 'Bw', 'Kariuki', 'kwa', 'ushauri', 'anaotoa', 'duni', 'na', 'uliopotoka', 'kwa', 'rais', '.', 'Mmoja', 'wa', 'majaji', '41', 'waliokuwa', 'wameteuliwa', 'aliaga', 'kukasalia', '40.Uamuzi', 'huu', 'wa', 'jana', 'umeonyesha', 'wazi', 'kabisa', 'Rais', 'Kenyatta', 'ameshindwa', 'katika', 'vita', 'hivi', 'vya', 'nivute', 'nikuvute', 'vya', 'uteuzi', 'wa', 'majaji', 'hao', 'kwa', 'vile', 'wataanza', 'kutekeleza', 'majukumu', 'yao', 'pasi', 'kuidhinishwa', 'na', 'rais', '.', 'Wamiliki', 'wa', 'matatu', 'wachangamkia', 'kuondolewa', 'kwa', 'kafyu', 'WAHUDUMU', 'wa', 'matatu', 'wametangaza', 'kuwa', 'watarejelea', 'safari', 'za', 'usiku', 'kuanzia', 'leo', 'Alhamisi', 'baada', 'ya', 'Rais', 'Uhuru', 'Kenyatta', 'kuondoa', 'kafyu', 'na', 'agizo', 'lake', 'kuanza', 'kutekelezwa', 'mara', 'baada', 'ya', 'hotuba', 'aliyoitoa', 'kwenye', 'sherehe', 'za', 'Mashujaa', 'katika', 'uwanja', 'wa', 'Wang', '’', 'uru', ',', 'Kaunti', 'ya', 'Kirinyaga', 'jana', 'Jumatano', '.', 'Mwenyekiti', 'wa', 'Chama', 'cha', 'Wamiliki', 'wa', 'Matatu', '(', 'MOA', ')', 'Simon', 'Kimutai', 'alisema', 'baadhi', 'ya', 'wahudumu', 'wa', 'magari', 'hayo', 'watahitaji', 'kwanza', 'kuwajulisha', 'wateja', 'wao', 'kwamba', 'wamerejea', 'safari', 'za', 'usiku', '.', '“', 'Baadhi', 'miongoni', 'mwetu', 'tutaanza', 'safari', 'za', 'usiku', 'Alhamisi', '.', 'Hii', 'ni', 'kwa', 'sababu', 'tutahitaji', 'kutoa', 'matangazo', 'kwa', 'wateja', 'wetu', 'kwamba', 'tunatoa', 'huduma', 'za', 'usiku', ',', '”', 'Bw', 'Kimutai', 'akaambia', 'Taifa', 'Leo', 'kwenye', 'mahojiano', 'katika', 'simu', '.']\n",
      "\n",
      " Number of Words:  455\n"
     ]
    }
   ],
   "source": [
    "file=\"21oct21.txt\"\n",
    "\n",
    "# calling the function and storing the contents in a text variable \n",
    "text1 = get_document(\"https://taifaleo.nation.co.ke/jaji-mkuu-kuapisha-majaji-sita-endapo-rais-uhuru-kenyatta-hatawaapisha-katika-muda-wa-siku-14/\")\n",
    "text2 = get_document(\"https://taifaleo.nation.co.ke/wachangamkia-kuondolewa-kwa-kafyu/\")\n",
    "\n",
    "# calling the store_ document function \n",
    "store_document(doc=text1,name=file)\n",
    "store_document(doc=text2,name=file)\n",
    "\n",
    "#add the words in this file to the total_corpus_words, to keep count of the number of words in the corpus\n",
    "total_corpus_words+=total_words(file)"
   ]
  },
  {
   "cell_type": "code",
   "execution_count": 103,
   "metadata": {},
   "outputs": [
    {
     "data": {
      "text/plain": [
       "776823"
      ]
     },
     "execution_count": 103,
     "metadata": {},
     "output_type": "execute_result"
    }
   ],
   "source": [
    "total_corpus_words"
   ]
  },
  {
   "cell_type": "code",
   "execution_count": 107,
   "metadata": {},
   "outputs": [
    {
     "name": "stdout",
     "output_type": "stream",
     "text": [
      "['Akihutubu', 'kuhusu', 'hali', 'ya', 'virusi', 'vya', 'corona', 'nchini', ',', 'Bw', 'Kagwe', 'alisema', 'mikahawa', 'na', 'maeneo', 'ya', 'burudani', 'yataendelea', 'kuzingatia', 'baadhi', 'ya', 'masharti', 'kama', 'ambavyo', 'imekuwa', 'awali', '.', '“', 'Hoteli', 'na', 'maeneo', 'ya', 'burudani', 'zitahitajika', 'kuendelea', 'kuweka', 'maeneo', 'ya', 'wateja', 'kunawa', 'mikono', 'na', 'kuhakikisha', 'kwamba', 'hawakaribiani', ',', '”', 'akaeleza', 'Bw', 'Kagwe', '.', 'Wafanyabiashara', 'wadogowadogo', 'katika', 'mitaa', 'kadhaa', 'viungani', 'mwa', 'Nairobi', 'walilalamika', 'kuendelea', 'kuhangaishwa', 'na', 'polisi', ',', 'kwani', 'serikali', 'haijaweka', 'wazi', 'ikiwa', 'wako', 'huru', 'kuendesha', 'shughuli', 'zao', 'kwa', 'muda', 'wa', 'saa', '24', '.', '“', 'Ikiwa', 'serikali', 'itatoa', 'mwongozo', 'ufaao', ',', 'basi', 'tutakuwa', 'huru', 'kuendesha', 'biashara', 'zetu', 'bila', 'wasiwasi', 'wowote', '.', 'Hata', 'hivyo', ',', 'kuna', 'hali', 'ya', 'suitafahamu', 'hadi', 'sasa', ',', '”', 'akasema', 'Bi', 'Mary', 'Khayesi', ',', 'ambaye', 'ni', 'mchuuzi', 'katika', 'mtaa', 'wa', 'Umoja', ',', 'Nairobi', '.', 'Malalamishi', 'kama', 'hayo', 'pia', 'yametolewa', 'na', 'baadhi', 'ya', 'wahudumu', 'wa', 'bodaboda', ',', 'ambapo', 'walisema', '“', 'serikali', 'itawaharibia', 'pato', '”', 'ikiwa', 'hoteli', 'na', 'vituo', 'vya', 'burudani', 'vitafungwa', 'saa', 'tano', 'usiku', '.', 'Tumepuuzwa', 'na', 'Rais', 'Uhuru', ',', 'Wapwani', 'walia', 'BAADHI', 'ya', 'viongozi', 'wa', 'Pwani', 'wamemkosoa', 'Rais', 'Uhuru', 'Kenya', 'kwa', 'kutoangazia', 'changamoto', 'za', 'eneo', 'hilo', 'katika', 'mikakati', 'ya', 'kuinua', 'uchumi', 'aliyotangaza', 'wakati', 'wa', 'sherehe', 'za', 'Mashujaa', 'Dei', '.', 'Katika', 'sherehe', 'hizo', 'zilizofanywa', 'Kaunti', 'ya', 'Kirinyaga', 'Jumatano', ',', 'Rais', 'Kenyatta', 'alitangaza', 'mikakati', 'mingi', 'ya', 'kifedha', 'na', 'sera', 'ikilenga', 'sekta', 'mbalimbali', 'kama', 'vile', 'kilimo', ',', 'afya', ',', 'elimu', ',', 'miundomsingi', ',', 'kawi', ',', 'miongoni', 'mwa', 'mengine', 'ili', 'kufufua', 'uchumi', 'wa', 'nchi', 'uliopata', 'pigo', 'kubwa', 'wakati', 'wa', 'janga', 'la', 'corona', '.', 'Malalamishi', 'yameibuka', 'kuwa', ',', 'sekta', 'ya', 'utalii', 'ambayo', 'ni', 'mojawapo', 'ya', 'zile', 'zinazoendelea', 'kupitia', 'hali', 'ngumu', 'zaidi', 'nchini', 'ilisahaulika', '.', 'Mwenyekiti', 'wa', 'Baraza', 'la', 'Wahubiri', 'wa', 'Kidini', 'Pwani', '(', 'CICC', ')', ',', 'Askofu', 'Amos', 'Lewa', ',', 'alisema', 'hali', 'hiyo', 'inatoa', 'dhihirisho', 'ya', 'kwamba', 'eneo', 'la', 'Pwani', 'limetengwa', 'kiuchumi', '.', '“', 'Anazidi', 'kuwapa', 'wapinzani', 'na', 'wale', 'wanaokashifu', 'serikali', 'na', 'pia', 'wengine', 'ambao', 'hawana', 'nia', 'njema', 'kwa', 'taifa', ',', 'nguvu', 'ya', 'kusema', 'Pwani', 'sio', 'sehemu', 'ya', 'Kenya', 'kwa', 'sababu', 'hautuhesabiwi', 'katika', 'masuala', 'ya', 'taifa', '.', 'Hatujui', 'kama', 'masuala', 'ya', 'Pwani', 'sio', 'muhimu', 'kwake', ',', 'lakini', 'Rais', 'angeangalia', 'kila', 'eneo', 'nchini', ',', '”', 'akasema', 'Bw', 'Lewa', 'ambaye', 'huongoza', 'kanisa', 'la', 'Joy', 'Fellowship', 'Ministries', '.', 'Hata', 'hivyo', ',', 'baadhi', 'ya', 'wadau', 'katika', 'sekta', 'ya', 'utalii', 'walieleza', 'matumaini', 'kuwa', 'hatua', 'ya', 'kuondoa', 'kafyu', 'huenda', 'ikasaidia', 'kibiashara', '.', 'Mapema', 'mwaka', 'huu', '2021', 'serikali', 'ililalamika', 'kuwa', 'iliwatengea', 'wawekezaji', 'wa', 'sekta', 'ya', 'utalii', 'Pwani', 'Sh1.8', 'bilioni', 'mwaka', 'uliopita', 'ili', 'wachukue', 'mikopo', 'ya', 'kufufua', 'biashara', 'zao', 'kwa', 'riba', 'ya', 'chini', ',', 'lakini', 'wafanyabiashara', 'wakawa', 'walegevu', 'kutuma', 'maombi', 'na', 'Sh300', 'milioni', 'pekee', 'ndizo', 'zikachukuliwa', '.', 'Kando', 'na', 'utalii', ',', 'viongozi', 'waliolalamika', 'walisema', 'pia', 'ingekuwa', 'bora', 'kama', 'Rais', 'Kenyatta', 'angetaja', 'hatua', 'zinazochukuliwa', 'kufufua', 'sekta', 'muhimu', 'zilizoporomoka', 'kama', 'vile', 'kilimo', 'cha', 'mnazi', 'na', 'mikorosho', ',', 'na', 'vile', 'vile', 'sekta', 'ya', 'uvuvi', 'ambayo', 'imekumbwa', 'na', 'changamoto', 'ikiwemo', 'kuingiliwa', 'na', 'wavuvi', 'wanaotoka', 'mataifa', 'ya', 'kigeni', '.', 'Mbunge', 'wa', 'Kilifi', 'Kaskazini', ',', 'Bw', 'Owen', 'Baya', 'alisema', 'Pwani', 'imeathirika', 'sana', 'kiuchumi', 'hata', 'kabla', 'ya', 'janga', 'la', 'corona', 'kutangazwa', 'nchini', 'na', 'inasikitisha', 'ikiwa', 'inazidi', 'kusahaulika', 'katika', 'mipango', 'maalumu', 'ya', 'serikali', '.', 'Maafisa', 'watatu', 'wa', 'polisi', 'washtakiwa', 'kumsaidia', 'muuaji', 'kuhepa', 'MAAFISA', 'watatu', 'wa', 'polisi', 'walishtakiwa', 'jana', 'kwa', 'kumsaidia', 'kutoroka', 'mwanaume', 'aliyekiri', 'kuwa', 'muuaji', 'wa', 'watoto', 'Masten', 'Mulimu', 'Wanjala', ',', 'Wanjala', 'aliuawa', 'na', 'wananchi', 'waliomfurusha', 'kutoka', 'kijiji', 'kimoja', 'kaunti', 'ya', 'Bungoma', 'siku', 'mbili', 'baada', 'ya', 'kutoroka', 'kituo', 'cha', 'Polisi', 'cha', 'Jogoo', 'Road', 'kaunti', 'ya', 'Nairobi', 'usiku', 'wa', 'Oktoba', '12/13', ',', '2021', '.', 'Kiongozi', 'wa', 'mashtaka', 'Bw', 'James', 'Gachoka', 'hakupinga', 'ombi', 'hilo', 'la', 'dhamana', '.', 'Akiomba', 'mahakama', 'iwaachilie', 'kwa', 'kiwango', 'kisicho', 'cha', 'juu', 'cha', 'dhamana', ',', 'Bw', 'Omari', 'alisema', 'washtakiwa', 'walikuwa', 'nje', 'kwa', 'dhamana', 'ya', 'Sh100,000', 'na', 'hakimu', 'mkazi', 'Bi', 'Jane', 'Kamau', '.', '“', 'Mshukiwa', 'wa', 'mauaji', 'ya', 'watoto', 'aliyeshtua', 'kila', 'mmoja', 'alipoungama', 'vitendo', 'vyake', 'vya', 'uhayawani', 'tayari', 'ameuawa.Aliuliwa', 'Bungoma', ',', '”', 'Bw', 'Omari', 'alisema', '.', 'Bw', 'Omari', 'aliendelea', 'kusema', 'wateja', 'hao', 'wake', 'hawakupaswa', 'kushtakiwa', 'mbali', 'wangelichukuliwa', 'hatua', 'za', 'kinidhamu', 'chini', 'ya', 'sheria', 'za', 'polisi', '.', 'Aua', 'mkewe', 'kwa', 'kumtusi', 'ni', 'bwege', 'kitandani', 'Stephen', 'Nyangeri', 'Mauti', ',', 'mwenye', 'umri', 'wa', 'miaka', '25', 'alikabiliwa', 'na', 'shtaka', 'la', 'kumuua', 'mkewe', 'Faith', 'Nyatich', ',', 'mnamo', 'Oktoba', '3', ',', '2021.Wapenzi', 'hao', 'walioana', 'Agosti', 'mwaka', 'huu', '.', 'Baada', 'ya', 'miezi', 'miwili', 'tayari', 'ndoa', 'yao', 'ilikuwa', 'imegauka', 'kuwa', 'chungu', 'ndipo', 'Faith', 'akatorokea', 'Kiserian', 'kuishi', 'na', 'mwanaume', 'mwingine', '.', 'Upande', 'wa', 'mashtaka', 'umefichua', 'Faith', 'alikuwa', 'ametoroka', 'na', 'kuanza', 'kuishi', 'na', 'mwanaume', 'mwingine', 'katika', 'mtaa', 'wa', 'Kiserian', ',', 'kaunti', 'ya', 'Kajiado', '.', 'Ni', 'wakati', 'huo', ',', 'Nyangeri', ',', 'alipasua', 'birika', 'na', 'kumsihi', 'mkewe', 'Faith', ',', 'asitoroke', 'tena', 'kuishi', 'na', 'mwanaume', 'mwingine', 'kama', 'alivyokua', 'amefanya', 'hapo', 'awali', '.', 'Mahakama', 'ilifahamishwa', ',', 'Faith', 'alimfokea', 'na', 'kumkejeli', 'Nyangeri', 'na', 'kumtusi', ',', '“', 'wewe', 'hujiwezi', 'kitandani', '.', 'Wewe', 'ni', 'bwege', 'tu', 'ndio', 'maana', 'nilikutoroka.', '”', 'Wimbi', 'la', 'hasira', 'lilimkumba', ',', 'Nyangeri', 'na', 'mara', 'moja', 'akanyanyuka', 'kutoka', 'kitini', 'na', 'kumkaba', 'koo', 'Faith', '.', 'Faith', 'alipiga', 'duru', 'kisha', 'mshtakiwa', 'akamfunika', 'mdomo', 'kwa', 'kiganja', 'cha', 'mkono', 'wake', 'wa', 'kulia', '.', 'Faith', 'alinyamaza', 'na', 'kulegea', '.']\n",
      "\n",
      " Number of Words:  799\n"
     ]
    }
   ],
   "source": [
    "file=\"21oct22.txt\"\n",
    "\n",
    "# calling the function and storing the contents in a text variable \n",
    "text1 = get_document(\"https://taifaleo.nation.co.ke/mabasi-yarejelea-safari-za-usiku/\")\n",
    "text2 = get_document(\"https://taifaleo.nation.co.ke/wapwani-walia/\")\n",
    "text3 = get_document(\"https://taifaleo.nation.co.ke/maafisa-watatu-wa-polisi-washtakiwa-kumsaidia-muuaji-kuhepa/\")\n",
    "text4 = get_document(\"https://taifaleo.nation.co.ke/aua-mkewe-kwa-kumtusi-ni-bwege-kitandani/\")\n",
    "\n",
    "# calling the store_ document function \n",
    "store_document(doc=text1,name=file)\n",
    "store_document(doc=text2,name=file)\n",
    "store_document(doc=text3,name=file)\n",
    "store_document(doc=text4,name=file)\n",
    "\n",
    "#add the words in this file to the total_corpus_words, to keep count of the number of words in the corpus\n",
    "total_corpus_words+=total_words(file)"
   ]
  },
  {
   "cell_type": "code",
   "execution_count": 108,
   "metadata": {},
   "outputs": [
    {
     "data": {
      "text/plain": [
       "777622"
      ]
     },
     "execution_count": 108,
     "metadata": {},
     "output_type": "execute_result"
    }
   ],
   "source": [
    "total_corpus_words"
   ]
  },
  {
   "cell_type": "code",
   "execution_count": 109,
   "metadata": {},
   "outputs": [
    {
     "name": "stdout",
     "output_type": "stream",
     "text": [
      "['Mwanasheria', 'mkuu', 'kukata', 'rufaa', 'kuhusu', 'uteuzi', 'wa', 'majaji', 'MWANASHERIA', 'Mkuu', 'Paul', 'Kihara', 'Kariuki', 'amewasilisha', 'notisi', 'ya', 'kukata', 'rufaa', 'kuhusu', 'uamuzi', 'wa', 'Mahakama', 'Kuu', ',', 'ambapo', 'Rais', 'Uhuru', 'Kenyatta', ',', 'aliamrishwa', 'awateue', 'majaji', 'sita', 'aliowakataa', 'hapo', 'awali', 'ndani', 'ya', 'siku', '14', 'zijazo', '.', 'Kupitia', 'Naibu', 'Wakili', 'Mkuu', 'wa', 'serikali', 'Emmanuel', 'Bitta', ',', 'Bw', 'Kariuki', 'alisema', 'hajaridhishwa', 'na', 'uamuzi', 'huo', 'uliosema', 'Rais', 'Kenyatta', 'anaweza', 'kupuuzwa', 'katika', 'mchakato', 'wa', 'kuwateua', 'majaji', 'wapya.Majaji', 'ambao', 'Rais', 'Kenyatta', 'alikataa', 'kuwateua', 'ni', 'Mabw', 'George', 'Odunga', ',', 'Aggrey', 'Muchelule', ',', 'Joel', 'Ngugi', ',', 'Weldon', 'Koriri', ',', 'Hakimu', 'Mkuu', 'wa', 'Mahakama', 'ya', 'Mombasa', ',', 'Evans', 'Makori', 'pamoja', 'na', 'Naibu', 'Msajili', 'wa', 'Mahakama', 'Kuu', ',', 'Bi', 'Judith', 'Omange', '.', '“', 'Baada', 'ya', 'kukamilika', 'kwa', 'siku', '14', 'bila', 'Rais', 'Kenyatta', 'kufanya', 'uteuzi', 'wa', 'majaji', 'hao', ',', 'itafasiriwa', 'kuwa', 'hana', 'mamlaka', 'tena', 'kwenye', 'suala', 'hilo', 'na', 'majaji', 'hao', 'watakuwa', 'radhi', 'kuchukua', 'majukumu', 'yao', 'mapya', ',', '”', 'uamuzi', 'wa', 'Mahakama', 'Kuu', 'ulisema', '.']\n",
      "\n",
      " Number of Words:  150\n"
     ]
    }
   ],
   "source": [
    "file=\"21oct23.txt\"\n",
    "\n",
    "# calling the function and storing the contents in a text variable \n",
    "text1 = get_document(\"https://taifaleo.nation.co.ke/mwanasheria-mkuu-kukata-rufaa/\")\n",
    "\n",
    "# calling the store_ document function \n",
    "store_document(doc=text1,name=file)\n",
    "\n",
    "#add the words in this file to the total_corpus_words, to keep count of the number of words in the corpus\n",
    "total_corpus_words+=total_words(file)"
   ]
  },
  {
   "cell_type": "code",
   "execution_count": 110,
   "metadata": {},
   "outputs": [
    {
     "data": {
      "text/plain": [
       "777772"
      ]
     },
     "execution_count": 110,
     "metadata": {},
     "output_type": "execute_result"
    }
   ],
   "source": [
    "total_corpus_words"
   ]
  },
  {
   "cell_type": "code",
   "execution_count": 112,
   "metadata": {},
   "outputs": [
    {
     "name": "stdout",
     "output_type": "stream",
     "text": [
      "['TSC', 'kupandisha', 'zaidi', 'ya', 'walimu', '2,400', 'vyeo', 'TUME', 'ya', 'Huduma', 'za', 'Walimu', 'Nchini', '(', 'TSC', ')', ',', 'inapanga', 'kuandaa', 'mahojiano', 'wiki', 'hii', 'ili', 'kuwapandisha', 'vyeo', 'walimu', '2,419', 'katika', 'shule', 'za', 'msingi', 'na', 'upili', 'nchini', '.', 'Kwa', 'mujibu', 'wa', 'taarifa', 'iliyotolewa', 'na', 'TSC', ',', 'mahojiano', 'hayo', 'yataanza', 'mnamo', 'Novemba', '1', ',', 'kisha', 'yakamilike', 'Novemba', '12', 'katika', 'kiwango', 'cha', 'maeneo', 'na', 'kaunti', '.', 'Mahojiano', 'hayo', 'pia', 'yanatarajiwa', 'kupandisha', 'vyeo', 'walimu', 'wakuu', 'na', 'manaibu', 'wao', '1,376', 'wanaohudumu', 'katika', 'maeneo', 'kame', '.', '“', 'Tumechukua', 'hatua', 'hii', 'kuhakikisha', 'kuwa', 'walimu', 'wanapandishwa', 'vyeo', 'kwenye', 'taaluma', 'hii', 'ya', 'ualimu', '.', 'Mahojiano', 'haya', 'ni', 'kulingana', 'na', 'mwongozo', 'wa', 'kuwapandisha', 'walimu', 'vyeo', 'uliokumbatiwa', 'mnamo', '2018', ',', '”', 'ikasema', 'taarifa', 'ya', 'TSC', '.', 'Aidha', 'mahojiano', 'kwa', 'walimu', '1,995', 'ambao', 'wamekuwa', 'wakihudumu', 'kupitia', 'kandarasi', ',', 'yatafanyika', 'mwezi', 'ujao', 'pamoja', 'na', 'yale', 'ya', 'walimu', '1,038', 'wa', 'shule', 'za', 'msingi', 'na', '967', 'wa', 'shule', 'za', 'upili', '.', 'Kwa', 'muda', 'wa', 'wiki', 'moja', 'iliyopita', ',', 'TSC', 'imewapandisha', 'vyeo', 'zaidi', 'ya', 'walimu', '100,000', 'kulingana', 'na', 'mkataba', 'uliotiwa', 'saini', 'wa', 'CBA', 'mnamo', '2017', 'ambao', 'muda', 'wake', 'ulifikia', 'tamati', 'mnamo', 'Juni', '30', ',', '2021', '.', 'Kati', 'ya', 'waliopandishwa', 'vyeo', 'ni', 'walimu', '15,407', 'ambao', 'walihojiwa', 'mnamo', 'Disemba', '2020', 'na', 'Februari', '2021', '.', 'Jumla', 'ya', 'walimu', '115,197', 'idadi', 'inayojumuisha', 'walimu', 'wakuu', ',', 'manaibu', 'wao', 'na', 'walimu', 'wengine', ',', 'wamepandishwa', 'vyeo', 'mwaka', 'huu', '.', '“', 'Kwa', 'mujibu', 'wa', 'CBA', ',', 'walimu', 'wote', 'ambao', 'walikuwa', 'wamehudumu', 'kwa', 'gredi', 'moja', 'ya', 'kazi', 'wanafaa', 'wapandishwe', 'vyeo', ',', '”', 'ikaongeza', 'taarifa', 'ya', 'TSC', '.', 'Afisa', 'Mkuu', 'Mtendaji', 'wa', 'TSC', ',', 'Bi', 'Nancy', 'Macharia', 'akitangaza', 'nafasi', 'ambazo', 'zinafaa', 'ziwaniwe', ',', 'alisema', 'zitajazwa', 'na', 'walimu', 'kupitia', 'mahojiano', 'ambayo', 'yatakuwa', 'na', 'uwazi', 'mkubwa', 'na', 'wale', 'waliohitimu', 'pekee', 'ndio', 'watapewa', 'nafasi', 'hizo', '.', 'Aidha', 'alisema', 'mpango', 'wa', 'kuwapandisha', 'vyeo', 'walimu', 'wanaohudumu', 'katika', 'maeneo', 'kame', 'yenye', 'mazingira', 'magumu', 'ya', 'kufanya', 'kazi', 'unafaa', 'kwa', 'kuwa', 'walimu', 'wakuu', 'na', 'manaibu', 'wao', 'wamekuwa', 'wakishikilia', 'vyeo', 'vyao', 'kwa', 'muda', 'kwa', 'miaka', 'mitatu', 'iliyopita', '.', 'Pia', 'mahojiano', 'haya', 'yatasaidia', 'kuongeza', 'idadi', 'ya', 'walimu', 'wanaohudumu', 'maeneo', 'kame', 'baada', 'ya', 'wengi', 'kuondoka', 'mwaka', 'jana', 'kutokana', 'na', 'kuzorota', 'kwa', 'hali', 'ya', 'usalama', '.', 'Pia', 'TSC', 'inapanga', 'kurefusha', 'kandarasi', 'za', 'walimu', '4,005', 'walioajiriwa', 'kwa', 'mkataba', 'kwa', 'muda', 'wa', 'mwaka', 'mmoja', 'pekee', '.', 'Kufikia', 'mwisho', 'wa', 'mwaka', '2022', ',', 'idadi', 'ya', 'walimu', 'hao', 'itakuwa', 'imeongezeka', 'hadi', '6,000', '.', 'Mbali', 'na', 'FAO', ',', 'serikali', 'pia', 'ilishirikiana', 'na', 'Benki', 'Kuu', 'ya', 'Dunia', 'kuangamiza', 'wadudu', 'hao', 'hatari', '.', 'Prof', 'Boga', 'alitoa', 'tangazo', 'la', 'mpango', 'huo', 'wakati', 'akipokea', 'lori', 'lilitolewa', 'kama', 'msaada', 'na', 'FAO', 'kwa', 'Wizara', 'ya', 'Kilimo', 'ili', 'kusaidia', 'kusafirisha', 'pembejeo', 'na', 'dawa', 'za', 'kukabili', 'wadudu', '.', '“', 'Limeboreshwa', 'ili', 'kusafarisha', 'dawa', 'hatari', 'za', 'wadudu', 'na', 'pembejeo', 'nyinginezo', '.', 'Ni', 'hatua', 'kubwa', 'tumepiga', 'mbele', ',', 'na', 'inaashiria', 'uhusiano', 'na', 'ushirikiano', 'wetu', 'wa', 'karibu', 'na', 'serikali', 'ya', 'Kenya', ',', '”', 'akasema', 'Bi', 'Carla', 'Mucavi', ',', 'Mwakilishi', 'wa', 'FAO', 'hapa', 'Kenya', '.']\n",
      "\n",
      " Number of Words:  458\n"
     ]
    }
   ],
   "source": [
    "file=\"21oct24.txt\"\n",
    "\n",
    "# calling the function and storing the contents in a text variable \n",
    "text1 = get_document(\"https://taifaleo.nation.co.ke/tsc-kupandisha-walimu-2400-vyeo/\")\n",
    "text2 = get_document(\"https://taifaleo.nation.co.ke/mpango-maalum-kukabili-wadudu/\")\n",
    "\n",
    "# calling the store_ document function \n",
    "store_document(doc=text1,name=file)\n",
    "store_document(doc=text2,name=file)\n",
    "\n",
    "#add the words in this file to the total_corpus_words, to keep count of the number of words in the corpus\n",
    "total_corpus_words+=total_words(file)"
   ]
  },
  {
   "cell_type": "code",
   "execution_count": 113,
   "metadata": {},
   "outputs": [
    {
     "data": {
      "text/plain": [
       "778230"
      ]
     },
     "execution_count": 113,
     "metadata": {},
     "output_type": "execute_result"
    }
   ],
   "source": [
    "total_corpus_words"
   ]
  },
  {
   "cell_type": "code",
   "execution_count": 114,
   "metadata": {},
   "outputs": [
    {
     "name": "stdout",
     "output_type": "stream",
     "text": [
      "['Zaidi', 'ya', 'vyuo', '500', 'vya', 'udereva', 'hatarini', 'kufungwa', 'MAMIA', 'ya', 'vyuo', 'vya', 'kutoa', 'mafunzo', 'ya', 'udereva', 'ziko', 'katika', 'hatari', 'ya', 'kufungwa', 'kufuatia', 'hatua', 'ya', 'Mamlaka', 'ya', 'Usalama', 'Barabarani', '(', 'NTSA', ')', 'kuzitaka', 'kutuma', 'upya', 'maombi', 'ya', 'leseni', '.', 'NTSA', 'imeagiza', 'vyuo', 'zaidi', 'ya', '500', 'vya', 'kutoa', 'mafunzo', 'ya', 'udereva', 'kutuma', 'maombi', 'ya', 'leseni', 'mpya', 'kwa', 'lengo', 'la', 'kunasa', 'vyuo', 'feki', 'na', 'wakufunzi', 'ambao', 'hawajahitimu', '.', 'Vyuo', 'vingi', 'vya', 'mafunzo', 'ya', 'udereva', 'vimesheheni', 'wakufunzi', 'ambao', 'hawajahitimu', 'na', 'hawajatimiza', 'matakwa', 'yaliyowekwa', 'na', 'NTSA', '.', 'Chama', 'cha', 'Wamiliki', 'wa', 'Vyuo', 'vya', 'Mafunzo', 'ya', 'Udereva', '(', 'KDSA', ')', 'kimeenda', 'kortini', 'kwa', 'mara', 'nyingine', 'katika', 'juhudi', 'za', 'kutaka', 'kuzuia', 'NTSA', 'kuvitaka', 'kutuma', 'upya', 'maombi', 'ya', 'leseni', '.', 'Kwenye', 'malalamishi', 'yake', ',', 'KDSA', 'inadai', 'kwamba', 'ina', 'jumla', 'ya', 'wanachama', '700', ',', 'ambapo', 'vyuo', 'vyao', 'viko', 'kwenye', 'hatari', 'ya', 'kufungwa', 'ikiwa', 'masharti', 'hayo', 'mapya', 'ya', 'NTSA', 'yatatekelezwa', '.', 'Chama', 'hicho', 'kinaongozwa', 'na', 'Bw', 'Samuel', 'Kariuki', '.', 'Chini', 'ya', 'masharti', 'hayo', 'mapya', ',', 'NTSA', 'inalenga', 'kuwatuma', 'maafisa', 'wake', 'kukagua', 'vyuo', 'hivyo', 'kuhakikisha', 'vimetimiza', 'masharti', 'yote', 'kuhusu', 'miundomsingi', 'bora', 'na', 'wafanyakazi', 'waliohitimu', '.', 'Ni', 'baada', 'tu', 'ya', 'kutimiza', 'viwango', 'hivyo', 'ambapo', 'vitapewa', 'leseni', 'mpya', '.', 'Miongoni', 'mwa', 'miundomsingi', 'ambayo', 'lazima', 'viwe', 'navyo', 'ni', 'maeneo', 'ya', 'watu', 'kungoja', 'kuhudumiwa', ',', 'afisi', 'za', 'wasimamizi', 'wake', 'na', 'madarasa', 'ya', 'kuwafunzia', 'wanaojifunza', 'udereva', '.', 'Kulingana', 'na', 'masharti', 'hayo', ',', 'ni', 'lazima', 'kila', 'darasa', 'liwe', 'na', 'nafasi', 'ya', 'kuwatoshea', 'wanafunzi', 'wanne', 'huku', 'wakiwa', 'wametengana', 'kwa', 'umbali', 'wa', 'mita', 'moja', '.', 'Vile', 'vile', ',', 'lazima', 'viwe', 'na', 'vyoo', 'na', 'alama', 'za', 'barabarani', 'zilizoidhinishwa', 'na', 'mamlaka', 'hiyo', '.', 'Walimu', 'watahitajika', 'kuwa', 'angaa', 'wamefikisha', 'alama', 'ya', 'D-', 'kwenye', 'Mtihani', 'wa', 'Kidato', 'cha', 'Nne', '(', 'KCSE', ')', '.', 'Vyuo', 'hivyo', 'pia', 'lazima', 'viwasilishe', 'ripoti', 'maalum', 'kwa', 'NTSA', 'kila', 'Januari', 'mwaka', 'unapoanza', '.', 'Mmoja', 'wa', 'jamaa', 'zake', 'ambaye', 'hakutaka', 'kutajwa', ',', 'alisema', 'familia', 'bado', 'ina', 'maswali', 'jinsi', 'mwanao', 'alifaulu', 'kutoroka', 'seli', 'na', 'kusafiri', 'hadi', 'kwao', '.', '“', 'Tunashuku', 'polisi', 'walihusika', 'kwenye', 'mauaji', 'ya', 'ndugu', 'yetu', '.', 'Sababu', 'ni', 'kwamba', 'mara', 'ya', 'mwisho', 'tuliposikia', 'habari', 'kumhusu', ',', 'alikuwa', 'analindwa', 'vikali', 'na', 'polisi', '.', 'Kuna', 'maswali', 'kuhusu', 'namna', 'alivyofanikiwa', 'kutoroka', 'na', 'kusafiri', 'hadi', 'nyumbani', 'hadi', 'akauawa', ',', '”', 'akasema', '.', 'Aliongeza', 'familia', 'hiyo', 'inatathmini', 'kuishtaki', 'serikali', 'kutokana', 'na', 'kifo', 'cha', 'mwanao', '.', 'Naibu', 'Chifu', 'wa', 'Kata', 'Ndogo', 'ya', 'Mukhweya', ',', 'Bw', 'Abiud', 'Musungu', ',', 'aliiambia', 'Taifa', 'Leo', 'kwamba', 'maafisa', 'wa', 'serikali', 'wamejaribu', 'kuiomba', 'familia', 'na', 'ukoo', 'wa', 'Bakitwika', 'Kitanga', 'kuchukua', 'matokeo', 'ya', 'DNA', 'ili', 'kumzika', 'mwanao', 'lakini', 'zimetakaa', '.']\n",
      "\n",
      " Number of Words:  398\n"
     ]
    }
   ],
   "source": [
    "file=\"21oct25.txt\"\n",
    "\n",
    "# calling the function and storing the contents in a text variable \n",
    "text1 = get_document(\"https://taifaleo.nation.co.ke/1295-vyuo-udereva-hatarini-kufungwa/\")\n",
    "text2 = get_document(\"https://taifaleo.nation.co.ke/familia-ya-masten-wanjala-yamkana-mwili-wasalia-mochari/\")\n",
    "\n",
    "# calling the store_ document function \n",
    "store_document(doc=text1,name=file)\n",
    "store_document(doc=text2,name=file)\n",
    "\n",
    "#add the words in this file to the total_corpus_words, to keep count of the number of words in the corpus\n",
    "total_corpus_words+=total_words(file)"
   ]
  },
  {
   "cell_type": "code",
   "execution_count": 115,
   "metadata": {},
   "outputs": [
    {
     "data": {
      "text/plain": [
       "778628"
      ]
     },
     "execution_count": 115,
     "metadata": {},
     "output_type": "execute_result"
    }
   ],
   "source": [
    "total_corpus_words"
   ]
  },
  {
   "cell_type": "code",
   "execution_count": 116,
   "metadata": {},
   "outputs": [
    {
     "name": "stdout",
     "output_type": "stream",
     "text": [
      "['BAADA', 'ya', 'kuwania', 'urais', 'mara', 'tano', 'bila', 'mafanikio', ',', 'kiongozi', 'mpya', 'wa', 'Zambia', 'Rais', 'Hakainde', 'Hichilema', 'aliamua', 'kubadili', 'mbinu', 'yake', 'ya', 'kusaka', 'kura', '.', 'Mbinu', 'yake', 'mpya', 'ilikuwa', 'kukumbatia', 'vijana', '–', 'na', 'wadadisi', 'wanaamini', 'kwamba', 'ushindi', 'wake', 'wa', 'kishindo', 'aliopata', 'katika', 'uchaguzi', 'mkuu', 'wa', 'Agosti', ',', 'mwaka', 'huu', ',', 'ulitokana', 'na', 'kura', 'nyingi', 'alizopigiwa', 'na', 'vijana', '.', 'Hichilema', ',', '59', ',', 'ni', 'miongoni', 'mwa', 'matajiri', 'wakubwa', 'katika', 'nchi', 'hiyo', 'ya', 'Afrika', 'ya', 'Kati', 'japo', 'alizaliwa', 'katika', 'familia', 'maskini.Alipowania', 'urais', 'kwa', 'mara', 'ya', 'kwanza', 'mnamo', '2006', ',', 'wadadisi', 'wa', 'masuala', 'ya', 'siasa', 'nchini', 'humo', 'wanasema', ',', 'kuwa', 'ilikuwa', 'vigumu', 'kwa', 'bwanyenye', 'Hichilema', 'kutangamana', 'na', 'raia', 'wa', 'kawaida', 'pamoja', 'na', 'vijana', '.', 'Lakini', 'baadaye', ',', 'Hichilema', 'alibadili', 'mbinu', 'akawa', 'mnyenyekevu', 'na', 'akatumia', 'mitandao', 'ya', 'kijamii', 'kama', 'vile', 'Twitter', 'na', 'Facebook', 'kutangamana', 'na', 'vijana.Hichilema', 'alitumia', 'mitandao', 'ya', 'kijamii', 'kujibu', 'maswali', 'ya', 'vijana', 'na', 'hata', 'kuahidi', 'kuwapa', 'baadhi', 'yao', 'kandarasi', 'ya', 'kuoka', 'keki', 'siku', 'yake', 'ya', 'kuapishwa', '.', 'Alitumia', 'mitandao', 'ya', 'kijamii', 'kuelezea', 'ahadi', 'na', 'maoni', 'yake', 'kwa', 'vijana', 'na', 'raia', 'wote', 'wa', 'Zambia.Hata', 'baada', 'ya', 'kushinda', 'urais', 'miezi', 'miwili', 'iliyopita', 'Rais', 'Hichilema', 'angali', 'anatumia', 'mitandao', 'ya', 'kijamii', 'kuwahakikishia', 'vijana', 'kwamba', 'serikali', 'yake', 'inashughulikia', 'changamoto', 'zao', '.', 'Japo', 'kinara', 'wa', 'ODM', 'Raila', 'Odinga', 'na', 'Naibu', 'Rais', 'William', 'Ruto', 'wamekuwa', 'wakikutana', 'na', 'makundi', 'ya', 'vijana', 'kujipigia', 'debe', ',', 'hawajafanya', 'mengi', 'kutumia', 'mitandao', 'ya', 'kijamii', 'kuwafikia', 'vijana', '–', 'ambao', 'ni', 'zaidi', 'ya', 'asilimia', '50', 'ya', 'wapigakura', 'nchini', '.', 'Bw', 'Odinga', 'na', 'Bw', 'Ruto', 'wamekuwa', 'wakitumia', 'mitandao', 'kuonyesha', 'mikutano', 'yao', 'mbashara', 'katika', 'maeneo', 'wanayozuru', '.', 'Kila', 'wanapokutana', 'na', 'vijana', ',', 'wanachapisha', 'kwenye', 'kurasa', 'zao', 'za', 'Facebook', 'na', 'Twitter', 'maandishi', 'ya', 'kijilugha', 'cha', 'sheng', '’', '.', 'Kulingana', 'na', 'wanasiasa', ',', 'kila', 'kijana', 'wa', 'chini', 'ya', 'umri', 'wa', 'miaka', '35', 'anazungumza', '‘', 'sheng', '’', '–', 'jambo', 'ambalo', 'si', 'kweli', '.', 'Ni', 'jambo', 'la', 'kusikitisha', 'kwamba', 'idadi', 'kubwa', 'ya', 'wanasiasa', 'wa', 'humu', 'nchini', 'wamekodisha', '‘', 'mamluki', '’', 'wa', 'mtandaoni', ',', 'maarufu', 'kama', 'wanablogu', ',', 'ambao', 'hutumia', 'mitandao', 'ya', 'kijamii', 'kuchafulia', 'majina', 'wapinzani', 'wao', 'kwa', 'kueneza', 'propaganda.Mitandao', 'ya', 'kijamii', 'inafaa', 'kutumiwa', 'na', 'wanasiasa', 'kama', 'chombo', 'cha', 'wanasiasa', 'kutangamana', 'moja', 'kwa', 'moja', 'na', 'wapigakura', 'vijana', 'na', 'wala', 'si', 'kuitumia', 'kuchafuliwa', 'wapinzani', 'wao', 'sifa', '.']\n",
      "\n",
      " Number of Words:  352\n"
     ]
    }
   ],
   "source": [
    "file=\"21oct26.txt\"\n",
    "\n",
    "# calling the function and storing the contents in a text variable \n",
    "text1 = get_document(\"https://taifaleo.nation.co.ke/ruto-raila-watumie-mitandao-ya-kijamii-kusema-na-vijana/\")\n",
    "\n",
    "# calling the store_ document function \n",
    "store_document(doc=text1,name=file)\n",
    "\n",
    "#add the words in this file to the total_corpus_words, to keep count of the number of words in the corpus\n",
    "total_corpus_words+=total_words(file)"
   ]
  },
  {
   "cell_type": "code",
   "execution_count": 117,
   "metadata": {},
   "outputs": [
    {
     "data": {
      "text/plain": [
       "778980"
      ]
     },
     "execution_count": 117,
     "metadata": {},
     "output_type": "execute_result"
    }
   ],
   "source": [
    "total_corpus_words"
   ]
  },
  {
   "cell_type": "code",
   "execution_count": 118,
   "metadata": {
    "scrolled": true
   },
   "outputs": [
    {
     "name": "stdout",
     "output_type": "stream",
     "text": [
      "['Ufisadi', ',', 'ulafi', 'vinasababisha', 'majumba', 'kuporomoka', 'Kulingana', 'na', 'utafiti', 'uliofanywa', ',', 'baadhi', 'ya', 'majengo', 'si', 'thabiti', ',', 'jambo', 'linaloweka', 'maisha', 'ya', 'wanaoishi', 'kwenye', 'majengo', 'hayo', 'hatarini', '.', 'Visa', 'vya', 'kuporomoka', 'kwa', 'majengo', 'vya', 'hapo', 'awali', 'vinaonyesha', 'kuwa', 'baadhi', 'ya', 'kesi', 'hizo', 'hazichunguzwi', 'na', 'wanakandarasi', 'husika', 'kukamatwa', '.', 'Kesi', 'nyingi', 'za', 'awali', 'hazina', 'rekodi', 'ya', 'wazi', 'ya', 'hatua', 'zilizochukuliwa', ',', 'na', 'kwa', 'wachache', 'ambao', 'walifikishwa', 'kortini', ',', 'hawakuchukuliwa', 'hatua', 'yoyote', 'na', 'serikali', '.', 'Watafiti', 'sasa', 'wanahusisha', 'ongezeko', 'kwa', 'idadi', 'za', 'majengo', 'yanayoporomoka', 'na', 'kuzembea', 'kwa', 'korti', 'au', 'maafisa', 'husika', 'katika', 'kuangazia', 'kesi', 'hizo', '.', 'Mnamo', '2016', ',', 'Dorkami', 'House', 'na', 'Neighbors', 'Heights', ',', 'zote', 'za', 'Juja', ',', 'zilitangazwa', 'kuwa', 'ni', 'hatari', 'kwa', 'umma', 'baada', 'ya', 'madai', 'ya', 'kupasuka', 'kwa', 'ukuta', 'na', 'sakafu', '.', 'Mmiliki', 'wa', 'majengo', 'hayo', ',', 'Robert', 'Kamau', 'Kamiti', ',', 'alishtakiwa', 'na', 'serikali', 'ya', 'Kaunti', 'ya', 'Kiambu', 'kwa', 'kutekeleza', 'maendeleo', 'bila', 'mpango', 'ulioidhinishwa', 'wa', 'Dorkami', ',', 'na', 'kwa', 'kukosa', 'kujenga', 'mtaa', 'wa', 'Neighbors', 'Heights', 'kulingana', 'na', 'mpango', 'ulioidhinishwa', '.', 'Hata', 'hivyo', ',', 'hakuna', 'hatua', 'yoyote', 'iliyochukuliwa', 'na', 'korti', 'kuhusiana', 'na', 'kesi', 'hiyo', '.', 'Mnamo', 'Oktoba', '2009', ',', 'jengo', 'la', 'orofa', 'tano', 'lililokuwa', 'likijengwa', 'katika', 'mji', 'wa', 'Kiambu', 'liliporomoka', ',', 'na', 'kuwauwa', 'watu', '17', '.', 'Hakuna', 'aliyekamatwa', 'kutokana', 'na', 'ajali', 'hiyo', '.']\n",
      "\n",
      " Number of Words:  202\n"
     ]
    }
   ],
   "source": [
    "file=\"21oct28.txt\"\n",
    "\n",
    "# calling the function and storing the contents in a text variable \n",
    "text1 = get_document(\"https://taifaleo.nation.co.ke/ufisadi-ulafi-vinasababisha-majumba-kuporomoka/\")\n",
    "\n",
    "# calling the store_ document function \n",
    "store_document(doc=text1,name=file)\n",
    "\n",
    "#add the words in this file to the total_corpus_words, to keep count of the number of words in the corpus\n",
    "total_corpus_words+=total_words(file)"
   ]
  },
  {
   "cell_type": "code",
   "execution_count": 119,
   "metadata": {},
   "outputs": [
    {
     "data": {
      "text/plain": [
       "779182"
      ]
     },
     "execution_count": 119,
     "metadata": {},
     "output_type": "execute_result"
    }
   ],
   "source": [
    "total_corpus_words"
   ]
  },
  {
   "cell_type": "code",
   "execution_count": null,
   "metadata": {},
   "outputs": [],
   "source": []
  },
  {
   "cell_type": "code",
   "execution_count": null,
   "metadata": {},
   "outputs": [],
   "source": []
  },
  {
   "cell_type": "code",
   "execution_count": null,
   "metadata": {},
   "outputs": [],
   "source": []
  },
  {
   "cell_type": "code",
   "execution_count": null,
   "metadata": {},
   "outputs": [],
   "source": []
  }
 ],
 "metadata": {
  "kernelspec": {
   "display_name": "Python 3",
   "language": "python",
   "name": "python3"
  },
  "language_info": {
   "codemirror_mode": {
    "name": "ipython",
    "version": 3
   },
   "file_extension": ".py",
   "mimetype": "text/x-python",
   "name": "python",
   "nbconvert_exporter": "python",
   "pygments_lexer": "ipython3",
   "version": "3.8.3"
  }
 },
 "nbformat": 4,
 "nbformat_minor": 4
}
