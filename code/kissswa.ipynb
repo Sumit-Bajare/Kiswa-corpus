{
 "cells": [
  {
   "cell_type": "code",
   "execution_count": 1,
   "metadata": {},
   "outputs": [],
   "source": [
    "import justext\n",
    "import requests\n",
    "import nltk"
   ]
  },
  {
   "cell_type": "code",
   "execution_count": 2,
   "metadata": {},
   "outputs": [
    {
     "data": {
      "text/plain": [
       "'/Users/sumitbajare/Documents/Sussex/Project'"
      ]
     },
     "execution_count": 2,
     "metadata": {},
     "output_type": "execute_result"
    }
   ],
   "source": [
    "import os\n",
    "os.getcwd()"
   ]
  },
  {
   "cell_type": "code",
   "execution_count": 3,
   "metadata": {},
   "outputs": [],
   "source": [
    "def get_document(url):\n",
    "    \n",
    "    '''\n",
    "        \n",
    "        This function will check if the url is valid and then\n",
    "        proceed to parse it to produce a clean text (no html) which\n",
    "        can be used as input to a recommendation engine.\n",
    "\n",
    "    Arguments: url  -- input url that needs to be checked and parsed\n",
    "    Return: text_only -- the text extracted after removing boilerplate content\n",
    "    '''\n",
    "    \n",
    "    try:\n",
    "        r = requests.head(url, allow_redirects = True)\n",
    "        \n",
    "    except requests.exceptions.ConnectionError as e:\n",
    "        raise URLRetrievalError(url, 'Could not connect', e)\n",
    "        \n",
    "    if r.status_code != requests.codes.ok:\n",
    "        raise URLRetrievalError(url, 'Invalid response code from remote server: {}'\n",
    "                                .format(r.status_code))\n",
    "        \n",
    "    if r.headers[\"content-type\"].split(';')[0] not in [\"text/html\",\n",
    "                                                       \"text/plain\"]:\n",
    "        raise URLRetrievalError(url, 'Document has invalid MIME type: {}'\n",
    "                                .format(r.headers[\"content-type\"]))\n",
    "    \n",
    "    response = requests.get(url)\n",
    "    paragraphs = justext.justext(response.content, justext.get_stoplist(\"Swahili\"))\n",
    "    text_only = ''\n",
    "    \n",
    "    for paragraph in paragraphs:\n",
    "        if not paragraph.is_boilerplate:\n",
    "            text_only += ' ' + paragraph.text\n",
    "            \n",
    "    if len(text_only) == 0:\n",
    "        raise DocumentParsingError('Length of document is zero')\n",
    "        \n",
    "    return text_only"
   ]
  },
  {
   "cell_type": "code",
   "execution_count": 12,
   "metadata": {},
   "outputs": [],
   "source": [
    "# Changing the current working directory to store the documents in the desired file\n",
    "os.chdir('/Users/sumitbajare/Documents/Sussex/Project/swa_corpus/kisswa')"
   ]
  },
  {
   "cell_type": "code",
   "execution_count": 13,
   "metadata": {},
   "outputs": [],
   "source": [
    "def store_document(doc,name):\n",
    "    \n",
    "    '''\n",
    "        This function will store the contents of the url in a text file.\n",
    "        \n",
    "        Argumnets: doc -- the Document to store in a text file \n",
    "        Return: nan\n",
    "    '''\n",
    "    \n",
    "    # Open function to open the file in the same directory in append mode\n",
    "    file = open(name,\"a\")\n",
    "    # writing each string in the file\n",
    "    file.writelines(doc)\n",
    "    # closing the file\n",
    "    file.close()"
   ]
  },
  {
   "cell_type": "code",
   "execution_count": 14,
   "metadata": {},
   "outputs": [],
   "source": [
    "def total_words(file_name):\n",
    "    filename = file_name\n",
    "\n",
    "    with open(filename, 'r') as file:\n",
    "        lines_in_file = file.read()\n",
    "\n",
    "        nltk_tokens = nltk.word_tokenize(lines_in_file)\n",
    "        print (nltk_tokens)\n",
    "        print (\"\\n Number of Words: \" , len(nltk_tokens))\n",
    "        return len(nltk_tokens)"
   ]
  },
  {
   "cell_type": "code",
   "execution_count": 15,
   "metadata": {},
   "outputs": [],
   "source": [
    "# these were the total number of words from may 2021 to may 2022 of BBC Swahili \n",
    "# we will resume the count from 70,265\n",
    "total_corpus_words=131886"
   ]
  },
  {
   "cell_type": "code",
   "execution_count": 17,
   "metadata": {},
   "outputs": [
    {
     "name": "stdout",
     "output_type": "stream",
     "text": [
      "['Hili', 'lilitokea', 'mnamo', 'Jumatano', ',', 'Julai', '20', ',', 'Haji', 'aliposema', 'katika', 'vyombo', 'vya', 'habari', 'kuwa', 'yeye', 'ana', 'wadhifa', 'mkubwa', 'kushinda', 'Kinoti', 'na', 'kwamba', 'anahusika', 'tu', 'na', 'Inspekta', 'Jenerali', 'wa', 'Polisi', 'Hilary', 'Mutyambai', '.', 'Kwa', 'mujibu', 'wa', 'Haji', ',', 'yeye', 'hupeana', 'maagizo', 'kwa', 'Mutyambai', 'ambaye', 'husimamia', 'oparesheni', 'za', 'DCI', 'ambayo', 'ni', 'idara', 'chini', 'ya', 'huduma', 'ya', 'polisi', '.', '“', 'Uhusiano', 'ni', 'wa', 'Inskepta', 'Jenerali', 'ambaye', 'anasimamia', 'huduma', 'ya', 'polisi', 'na', 'ambaye', 'mimi', 'humpa', 'maelekezo', '.', 'DCI', 'ni', 'afisa', 'chini', 'ya', 'Inspekta', 'Jenerali', ',', 'uhusiano', 'wangu', 'unafaa', 'kulinganishwa', 'na', 'Inspekta', 'Jenerali', ',', '”', 'Haji', 'alisema', '.', 'MAKINIKA', ':', 'Bofya', '“', 'Ona', 'Kwanza', '”', 'chini', 'ya', '“', 'Fuatilia', '”', 'ili', 'kuona', 'Habari', 'za', 'TUKO', 'kwenye', 'jukwaa', 'lako', 'la', 'Habari', 'Haji', ':', 'Manaibu', 'wangu', 'ndio', 'wanaoshulika', 'moja', 'kwa', 'moja', 'na', 'DCI', 'Kusisitiza', 'ukubwa', 'wake', ',', 'Haji', 'alisema', 'kuwa', 'hashughuliki', 'moja', 'kwa', 'moja', 'na', 'makachero', 'kutoka', 'DCI', 'bali', 'ni', 'manaibu', 'wake', 'wanaofanya', 'hilo', '.', '“', 'Nina', 'manaibu', 'kadhaa', 'ambao', 'wako', 'katika', 'kiwango', 'sawa', 'nay', 'eye', '.', 'Unaweza', 'kuuliza', 'naibu', 'mkurugenzi', 'wangu', 'anayeshughulikia', 'masuala', 'ya', 'ufisadi', ',', 'kuna', 'mwengine', 'katika', 'idara', 'ya', 'mauaji', '.', 'Hao', 'ndio', 'watu', 'anastahili', 'kushughulika', 'nao', ',', '”', 'Haji', 'aliongeza', '.', 'DCI', 'Kinoti', 'afika', 'mahakamani', 'akikata', 'DPP', 'Haji', 'kukamatwa', 'Mwei', 'mwaka', 'huu', ',', 'DCI', 'ilielekea', 'mahakamani', 'ikitaka', 'Haji', 'kukamatwa', 'na', 'kuchukuliwa', 'hatua', 'za', 'kisheria', 'ikimtuhumu', 'kwa', 'udanganyifu', 'na', 'kughushi', 'wakati', 'wa', 'mikutano', 'ya', 'pamoja', 'ya', 'kubuni', 'mwelekezo', 'kuhusu', 'ugaidi', '.', 'Katika', 'hati', 'ya', 'kiapo', 'na', 'Mkurugenzi', 'wa', 'Kitengo', 'cha', 'Kukabili', 'Ugaidi', '(', 'ATPU', ')', 'Martin', 'Otieno', ',', 'DCI', 'George', 'Kinoti', 'anadai', 'kuwa', 'wakati', 'wa', 'kuandaa', 'mkutano', 'wa', 'kujadili', 'mwelekezo', 'kuhusu', 'Sheria', 'ya', 'Ugaidi', 'na', 'Ufadhili', 'wa', 'Ugaidi', ',', 'DPP', 'Haji', 'alighushi', 'sajili', 'ya', 'waliohudhuria', 'ili', 'kuweka', 'majina', 'ya', 'majasusi', 'wawili', 'ambao', 'hawakuhudhuria', 'kati', 'ya', 'Februari', '21', 'na', 'Machi', '2022', '.', 'DPP', 'pia', 'alituhumiwa', 'kughushi', 'makao', 'ya', 'maafisa', 'hao', 'katika', 'hoteli', 'ambayo', 'mikutano', 'hiyo', 'ilikuwa', 'ikiandaliwa', ',', 'Kinoti', 'akidai', 'kuwa', 'mtaalam', 'aliyehusika', 'na', 'kutengeneza', 'mwelekezo', 'huo', 'hakuwa', 'amehitimu', 'na', 'kwamba', 'alipewa', 'nafasi', 'hiyo', 'kutokana', 'na', 'uhusiano', 'wake', 'na', 'Haji', '.']\n",
      "\n",
      " Number of Words:  327\n"
     ]
    }
   ],
   "source": [
    "file=\"swa1.txt\"\n",
    "\n",
    "# calling the function and storing the contents in a text variable \n",
    "text = get_document(\"https://kiswahili.tuko.co.ke/kenya/464008-dpp-noordin-haji-amtafuta-dci-george-kinoti-na-kumtaja-kuwa-mdogo-wake-yeye-si-level-yangu/\")\n",
    "\n",
    "# calling the store_ document function \n",
    "store_document(doc=text,name=file)\n",
    "\n",
    "#add the words in this file to the total_corpus_words, to keep count of the number of words in the corpus\n",
    "total_corpus_words+=total_words(file)\n"
   ]
  },
  {
   "cell_type": "code",
   "execution_count": 18,
   "metadata": {},
   "outputs": [
    {
     "data": {
      "text/plain": [
       "132213"
      ]
     },
     "execution_count": 18,
     "metadata": {},
     "output_type": "execute_result"
    }
   ],
   "source": [
    "total_corpus_words"
   ]
  },
  {
   "cell_type": "code",
   "execution_count": 19,
   "metadata": {},
   "outputs": [
    {
     "name": "stdout",
     "output_type": "stream",
     "text": [
      "['Hili', 'lilitokea', 'mnamo', 'Jumatano', ',', 'Julai', '20', ',', 'Haji', 'aliposema', 'katika', 'vyombo', 'vya', 'habari', 'kuwa', 'yeye', 'ana', 'wadhifa', 'mkubwa', 'kushinda', 'Kinoti', 'na', 'kwamba', 'anahusika', 'tu', 'na', 'Inspekta', 'Jenerali', 'wa', 'Polisi', 'Hilary', 'Mutyambai', '.', 'Kwa', 'mujibu', 'wa', 'Haji', ',', 'yeye', 'hupeana', 'maagizo', 'kwa', 'Mutyambai', 'ambaye', 'husimamia', 'oparesheni', 'za', 'DCI', 'ambayo', 'ni', 'idara', 'chini', 'ya', 'huduma', 'ya', 'polisi', '.', '“', 'Uhusiano', 'ni', 'wa', 'Inskepta', 'Jenerali', 'ambaye', 'anasimamia', 'huduma', 'ya', 'polisi', 'na', 'ambaye', 'mimi', 'humpa', 'maelekezo', '.', 'DCI', 'ni', 'afisa', 'chini', 'ya', 'Inspekta', 'Jenerali', ',', 'uhusiano', 'wangu', 'unafaa', 'kulinganishwa', 'na', 'Inspekta', 'Jenerali', ',', '”', 'Haji', 'alisema', '.', 'MAKINIKA', ':', 'Bofya', '“', 'Ona', 'Kwanza', '”', 'chini', 'ya', '“', 'Fuatilia', '”', 'ili', 'kuona', 'Habari', 'za', 'TUKO', 'kwenye', 'jukwaa', 'lako', 'la', 'Habari', 'Haji', ':', 'Manaibu', 'wangu', 'ndio', 'wanaoshulika', 'moja', 'kwa', 'moja', 'na', 'DCI', 'Kusisitiza', 'ukubwa', 'wake', ',', 'Haji', 'alisema', 'kuwa', 'hashughuliki', 'moja', 'kwa', 'moja', 'na', 'makachero', 'kutoka', 'DCI', 'bali', 'ni', 'manaibu', 'wake', 'wanaofanya', 'hilo', '.', '“', 'Nina', 'manaibu', 'kadhaa', 'ambao', 'wako', 'katika', 'kiwango', 'sawa', 'nay', 'eye', '.', 'Unaweza', 'kuuliza', 'naibu', 'mkurugenzi', 'wangu', 'anayeshughulikia', 'masuala', 'ya', 'ufisadi', ',', 'kuna', 'mwengine', 'katika', 'idara', 'ya', 'mauaji', '.', 'Hao', 'ndio', 'watu', 'anastahili', 'kushughulika', 'nao', ',', '”', 'Haji', 'aliongeza', '.', 'DCI', 'Kinoti', 'afika', 'mahakamani', 'akikata', 'DPP', 'Haji', 'kukamatwa', 'Mwei', 'mwaka', 'huu', ',', 'DCI', 'ilielekea', 'mahakamani', 'ikitaka', 'Haji', 'kukamatwa', 'na', 'kuchukuliwa', 'hatua', 'za', 'kisheria', 'ikimtuhumu', 'kwa', 'udanganyifu', 'na', 'kughushi', 'wakati', 'wa', 'mikutano', 'ya', 'pamoja', 'ya', 'kubuni', 'mwelekezo', 'kuhusu', 'ugaidi', '.', 'Katika', 'hati', 'ya', 'kiapo', 'na', 'Mkurugenzi', 'wa', 'Kitengo', 'cha', 'Kukabili', 'Ugaidi', '(', 'ATPU', ')', 'Martin', 'Otieno', ',', 'DCI', 'George', 'Kinoti', 'anadai', 'kuwa', 'wakati', 'wa', 'kuandaa', 'mkutano', 'wa', 'kujadili', 'mwelekezo', 'kuhusu', 'Sheria', 'ya', 'Ugaidi', 'na', 'Ufadhili', 'wa', 'Ugaidi', ',', 'DPP', 'Haji', 'alighushi', 'sajili', 'ya', 'waliohudhuria', 'ili', 'kuweka', 'majina', 'ya', 'majasusi', 'wawili', 'ambao', 'hawakuhudhuria', 'kati', 'ya', 'Februari', '21', 'na', 'Machi', '2022', '.', 'DPP', 'pia', 'alituhumiwa', 'kughushi', 'makao', 'ya', 'maafisa', 'hao', 'katika', 'hoteli', 'ambayo', 'mikutano', 'hiyo', 'ilikuwa', 'ikiandaliwa', ',', 'Kinoti', 'akidai', 'kuwa', 'mtaalam', 'aliyehusika', 'na', 'kutengeneza', 'mwelekezo', 'huo', 'hakuwa', 'amehitimu', 'na', 'kwamba', 'alipewa', 'nafasi', 'hiyo', 'kutokana', 'na', 'uhusiano', 'wake', 'na', 'Haji', '.']\n",
      "\n",
      " Number of Words:  327\n"
     ]
    }
   ],
   "source": [
    "file=\"swa2.txt\"\n",
    "\n",
    "# calling the function and storing the contents in a text variable \n",
    "text = get_document(\"https://kiswahili.tuko.co.ke/kenya/464008-dpp-noordin-haji-amtafuta-dci-george-kinoti-na-kumtaja-kuwa-mdogo-wake-yeye-si-level-yangu/\")\n",
    "\n",
    "# calling the store_ document function \n",
    "store_document(doc=text,name=file)\n",
    "\n",
    "#add the words in this file to the total_corpus_words, to keep count of the number of words in the corpus\n",
    "total_corpus_words+=total_words(file)"
   ]
  },
  {
   "cell_type": "code",
   "execution_count": 20,
   "metadata": {},
   "outputs": [
    {
     "data": {
      "text/plain": [
       "132540"
      ]
     },
     "execution_count": 20,
     "metadata": {},
     "output_type": "execute_result"
    }
   ],
   "source": [
    "total_corpus_words"
   ]
  },
  {
   "cell_type": "code",
   "execution_count": 21,
   "metadata": {},
   "outputs": [
    {
     "name": "stdout",
     "output_type": "stream",
     "text": [
      "['Maudhui', 'ya', 'mkutano', 'huo', 'wa', 'mwaka', 'huu', 'ni', 'kuimarisha', 'utangamano', 'na', 'kupanua', 'ushirikiano', '.', 'MAKINIKA', ':', 'Bofya', '“', 'Ona', 'Kwanza', '”', 'chini', 'ya', '“', 'Fuatilia', '”', 'ili', 'kuona', 'Habari', 'za', 'TUKO', 'kwenye', 'jukwaa', 'lako', 'la', 'Habari', 'Hatimaye', ',', 'mkutano', 'wa', 'soko', 'la', 'pamoja', 'la', 'Afrika', 'Mashariki', 'utaandaliwa', ',', 'ambapo', 'viongozi', 'watapigia', 'darubini', 'utekelezaji', 'wa', 'itifaki', 'za', 'soko', 'la', 'pamoja', '.', 'Kwenye', 'kiako', 'na', 'wanahabari', 'afisini', 'kwake', 'kabla', 'ya', 'kuwasili', 'kwa', 'Rais', 'Uhuru', 'jijini', 'Arusha', ',', 'Katibu', 'Mkuu', 'wa', 'Jumuiya', 'ya', 'Afrika', 'Mashariki', 'Peter', 'Mathuki', ',', 'aliorodhesha', 'ratiba', 'ya', 'mkutano', 'huo', '.', 'Mathuki', 'alisema', 'kwamba', 'marais', 'wa', 'Afrika', 'Mashariki', ',', 'watafungua', 'rasmi', 'barabara', 'ya', 'kilomita', '42.2', ',', 'kabla', 'ya', 'Rais', 'Kenyatta', 'kuongoza', 'mkutano', 'huo', ',', 'Ijumaa', 'asubuhi', '.', '“', 'Kuhusu', 'biashara', ',', 'muda', 'utakaotumiwa', 'katika', 'barabara', 'hiyo', 'ni', 'muhimu', 'sana', ',', 'na', 'ndiposa', 'viongozi', 'hao', 'watafungua', 'barabara', 'hiyo', 'kwa', 'pamoja', ',', 'ambayo', 'ufadhili', 'na', 'ujenzi', 'wake', 'umetekelezwa', 'Rais', 'Uhuru', 'Kenyatta', 'akiwa', 'mwenyekiti', 'wa', 'Jumuiya', 'ya', 'Afrika', 'Mashariki', ',', '”', 'alisema', 'Mathuki', '.']\n",
      "\n",
      " Number of Words:  161\n"
     ]
    }
   ],
   "source": [
    "file=\"swa3.txt\"\n",
    "\n",
    "# calling the function and storing the contents in a text variable \n",
    "text = get_document(\"https://kiswahili.tuko.co.ke/kenya/464007-rais-uhuru-kenyatta-atua-arusha-tanzania-kuhudhuria-mkutano-wa-eac/\")\n",
    "\n",
    "# calling the store_ document function \n",
    "store_document(doc=text,name=file)\n",
    "\n",
    "#add the words in this file to the total_corpus_words, to keep count of the number of words in the corpus\n",
    "total_corpus_words+=total_words(file)"
   ]
  },
  {
   "cell_type": "code",
   "execution_count": 22,
   "metadata": {},
   "outputs": [
    {
     "data": {
      "text/plain": [
       "132701"
      ]
     },
     "execution_count": 22,
     "metadata": {},
     "output_type": "execute_result"
    }
   ],
   "source": [
    "total_corpus_words"
   ]
  },
  {
   "cell_type": "code",
   "execution_count": 24,
   "metadata": {},
   "outputs": [
    {
     "name": "stdout",
     "output_type": "stream",
     "text": [
      "['Tume', 'Huru', 'ya', 'Uchaguzi', 'na', 'Mipaka', '(', 'IEBC', ')', 'imepuuzilia', 'mbali', 'ripoti', 'zisizokuwa', 'sahihi', 'kwamba', ',', 'polisi', 'wamenasa', 'shehena', 'ya', 'karatasi', 'za', 'kupigia', 'kura', 'katika', 'uwanja', 'wa', 'kimataifa', 'wa', 'ndege', 'wa', 'Jomo', 'Kenyatta', '(', 'JKIA', ')', ',', 'jijini', 'Nairobi', '.', 'Ripoti', 'hizo', 'zilidai', 'kuwa', 'karatasi', 'za', 'kupigia', 'kura', 'zilikuwa', 'zimezuiliwa', 'kwa', 'sababu', 'ziliingia', 'nchini', ',', 'kwa', 'muda', 'ambao', 'haukuzingatia', 'ratiba', 'ya', 'IEBC', 'ya', 'kusafirishwa', 'kwa', 'vifaa', 'vya', 'uchaguzi', 'vinavyoagizwa', 'kutoka', 'nje', '.', '``', 'Ukweli', 'wa', 'mambo', 'ni', 'kuwa', 'leo', 'asubuhi', 'tume', 'ya', '(', 'IEBC', ')', 'ilipokea', 'vibandiko', 'vitakavyosaidia', 'katika', 'kuweka', 'lebo', 'na', 'kusambaza', 'vifaa', 'vya', 'uchaguzi', '.', 'Maafisa', 'wa', 'usalama', 'wa', 'JKIA', ',', 'kama', 'desturi', 'ya', 'taratibu', 'zao', ',', 'walijaribu', 'kuhakikisha', 'kwamba', 'vibandiko', 'hivyo', 'ni', 'vya', 'tume', ',', \"''\", 'IEBC', 'ilisema', 'kwenye', 'taarifa', 'yao', 'siku', 'ya', 'Alhamisi', ',', 'Julai', '21', '.']\n",
      "\n",
      " Number of Words:  131\n"
     ]
    }
   ],
   "source": [
    "file=\"swa4.txt\"\n",
    "\n",
    "# calling the function and storing the contents in a text variable \n",
    "text = get_document(\"https://kiswahili.tuko.co.ke/kenya/463984-iebc-yakana-ripoti-kuwa-karatasi-za-kura-zimezuiliwa-jkia/\")\n",
    "\n",
    "# calling the store_ document function \n",
    "store_document(doc=text,name=file)\n",
    "\n",
    "#add the words in this file to the total_corpus_words, to keep count of the number of words in the corpus\n",
    "total_corpus_words+=total_words(file)"
   ]
  },
  {
   "cell_type": "code",
   "execution_count": null,
   "metadata": {},
   "outputs": [],
   "source": [
    "total_corpus_words"
   ]
  },
  {
   "cell_type": "code",
   "execution_count": 26,
   "metadata": {},
   "outputs": [
    {
     "name": "stdout",
     "output_type": "stream",
     "text": [
      "['``', 'Kama', 'kikosi', 'cha', 'ulinzi', ',', 'tutafunga', 'baa', 'au', 'biashara', 'haramu', 'ya', 'pombe', 'siku', 'hiyo', '.', 'Tunatoa', 'wito', 'kwa', 'vijana', 'kupiga', 'kura', 'na', 'kusalia', 'imara', 'wakati', 'wa', 'zoezi', 'nzima', '.', 'Tunajua', 'pombe', 'inaweza', 'kuathiri', 'vibaya', 'mawazo', 'ya', 'kawaida', 'ya', 'vijana', 'wetu', ',', \"''\", 'alisema', 'Kihara', '.', '.', 'Sheikh', 'Abubakar', 'Bini', ',', 'Mwenyekiti', 'wa', 'Baraza', 'la', 'Maimamu', 'na', 'Wahubiri', 'wa', 'Kenya', '(', 'CIPK', ')', 'North', 'Rift', ',', 'alipendekeza', 'kuwa', 'baa', 'hizo', 'zifungwe', 'siku', 'tatu', 'baada', 'ya', 'washindi', 'kutangazwa', '.']\n",
      "\n",
      " Number of Words:  78\n"
     ]
    }
   ],
   "source": [
    "file=\"swa5.txt\"\n",
    "\n",
    "# calling the function and storing the contents in a text variable \n",
    "text = get_document(\"https://kiswahili.tuko.co.ke/kenya/464233-serikali-ya-kaunti-ya-uasin-gishu-kufunga-baa-zote-mjini-eldoret-mkesha-wa-siku-ya-uchaguzi/\")\n",
    "\n",
    "# calling the store_ document function \n",
    "store_document(doc=text,name=file)\n",
    "\n",
    "#add the words in this file to the total_corpus_words, to keep count of the number of words in the corpus\n",
    "total_corpus_words+=total_words(file)"
   ]
  },
  {
   "cell_type": "code",
   "execution_count": 27,
   "metadata": {},
   "outputs": [
    {
     "data": {
      "text/plain": [
       "132910"
      ]
     },
     "execution_count": 27,
     "metadata": {},
     "output_type": "execute_result"
    }
   ],
   "source": [
    "total_corpus_words"
   ]
  },
  {
   "cell_type": "code",
   "execution_count": null,
   "metadata": {},
   "outputs": [],
   "source": [
    "file=\"swa6.txt\"\n",
    "\n",
    "# calling the function and storing the contents in a text variable \n",
    "text = get_document(\"https://kiswahili.tuko.co.ke/kenya/464008-dpp-noordin-haji-amtafuta-dci-george-kinoti-na-kumtaja-kuwa-mdogo-wake-yeye-si-level-yangu/\")\n",
    "\n",
    "# calling the store_ document function \n",
    "store_document(doc=text,name=file)\n",
    "\n",
    "#add the words in this file to the total_corpus_words, to keep count of the number of words in the corpus\n",
    "total_corpus_words+=total_words(file)"
   ]
  },
  {
   "cell_type": "code",
   "execution_count": null,
   "metadata": {},
   "outputs": [],
   "source": [
    "total_corpus_words"
   ]
  },
  {
   "cell_type": "code",
   "execution_count": null,
   "metadata": {},
   "outputs": [],
   "source": [
    "file=\"swa7.txt\"\n",
    "\n",
    "# calling the function and storing the contents in a text variable \n",
    "text = get_document(\"https://kiswahili.tuko.co.ke/kenya/464008-dpp-noordin-haji-amtafuta-dci-george-kinoti-na-kumtaja-kuwa-mdogo-wake-yeye-si-level-yangu/\")\n",
    "\n",
    "# calling the store_ document function \n",
    "store_document(doc=text,name=file)\n",
    "\n",
    "#add the words in this file to the total_corpus_words, to keep count of the number of words in the corpus\n",
    "total_corpus_words+=total_words(file)"
   ]
  },
  {
   "cell_type": "code",
   "execution_count": null,
   "metadata": {},
   "outputs": [],
   "source": [
    "total_corpus_words"
   ]
  },
  {
   "cell_type": "code",
   "execution_count": null,
   "metadata": {},
   "outputs": [],
   "source": [
    "file=\"swa8.txt\"\n",
    "\n",
    "# calling the function and storing the contents in a text variable \n",
    "text = get_document(\"https://kiswahili.tuko.co.ke/kenya/464008-dpp-noordin-haji-amtafuta-dci-george-kinoti-na-kumtaja-kuwa-mdogo-wake-yeye-si-level-yangu/\")\n",
    "\n",
    "# calling the store_ document function \n",
    "store_document(doc=text,name=file)\n",
    "\n",
    "#add the words in this file to the total_corpus_words, to keep count of the number of words in the corpus\n",
    "total_corpus_words+=total_words(file)"
   ]
  },
  {
   "cell_type": "code",
   "execution_count": null,
   "metadata": {},
   "outputs": [],
   "source": [
    "total_corpus_words"
   ]
  },
  {
   "cell_type": "code",
   "execution_count": null,
   "metadata": {},
   "outputs": [],
   "source": [
    "file=\"swa9.txt\"\n",
    "\n",
    "# calling the function and storing the contents in a text variable \n",
    "text = get_document(\"https://kiswahili.tuko.co.ke/kenya/464008-dpp-noordin-haji-amtafuta-dci-george-kinoti-na-kumtaja-kuwa-mdogo-wake-yeye-si-level-yangu/\")\n",
    "\n",
    "# calling the store_ document function \n",
    "store_document(doc=text,name=file)\n",
    "\n",
    "#add the words in this file to the total_corpus_words, to keep count of the number of words in the corpus\n",
    "total_corpus_words+=total_words(file)"
   ]
  },
  {
   "cell_type": "code",
   "execution_count": null,
   "metadata": {},
   "outputs": [],
   "source": [
    "total_corpus_words"
   ]
  },
  {
   "cell_type": "code",
   "execution_count": null,
   "metadata": {},
   "outputs": [],
   "source": [
    "file=\"swa10.txt\"\n",
    "\n",
    "# calling the function and storing the contents in a text variable \n",
    "text = get_document(\"https://kiswahili.tuko.co.ke/kenya/464008-dpp-noordin-haji-amtafuta-dci-george-kinoti-na-kumtaja-kuwa-mdogo-wake-yeye-si-level-yangu/\")\n",
    "\n",
    "# calling the store_ document function \n",
    "store_document(doc=text,name=file)\n",
    "\n",
    "#add the words in this file to the total_corpus_words, to keep count of the number of words in the corpus\n",
    "total_corpus_words+=total_words(file)"
   ]
  },
  {
   "cell_type": "code",
   "execution_count": null,
   "metadata": {},
   "outputs": [],
   "source": [
    "total_corpus_words"
   ]
  },
  {
   "cell_type": "code",
   "execution_count": null,
   "metadata": {},
   "outputs": [],
   "source": [
    "file=\"swa11.txt\"\n",
    "\n",
    "# calling the function and storing the contents in a text variable \n",
    "text = get_document(\"https://kiswahili.tuko.co.ke/kenya/464008-dpp-noordin-haji-amtafuta-dci-george-kinoti-na-kumtaja-kuwa-mdogo-wake-yeye-si-level-yangu/\")\n",
    "\n",
    "# calling the store_ document function \n",
    "store_document(doc=text,name=file)\n",
    "\n",
    "#add the words in this file to the total_corpus_words, to keep count of the number of words in the corpus\n",
    "total_corpus_words+=total_words(file)"
   ]
  },
  {
   "cell_type": "code",
   "execution_count": null,
   "metadata": {},
   "outputs": [],
   "source": [
    "total_corpus_words"
   ]
  },
  {
   "cell_type": "code",
   "execution_count": null,
   "metadata": {},
   "outputs": [],
   "source": [
    "file=\"swa12.txt\"\n",
    "\n",
    "# calling the function and storing the contents in a text variable \n",
    "text = get_document(\"https://kiswahili.tuko.co.ke/kenya/464008-dpp-noordin-haji-amtafuta-dci-george-kinoti-na-kumtaja-kuwa-mdogo-wake-yeye-si-level-yangu/\")\n",
    "\n",
    "# calling the store_ document function \n",
    "store_document(doc=text,name=file)\n",
    "\n",
    "#add the words in this file to the total_corpus_words, to keep count of the number of words in the corpus\n",
    "total_corpus_words+=total_words(file)"
   ]
  },
  {
   "cell_type": "code",
   "execution_count": null,
   "metadata": {},
   "outputs": [],
   "source": [
    "total_corpus_words"
   ]
  },
  {
   "cell_type": "code",
   "execution_count": null,
   "metadata": {},
   "outputs": [],
   "source": [
    "file=\"swa13.txt\"\n",
    "\n",
    "# calling the function and storing the contents in a text variable \n",
    "text = get_document(\"https://kiswahili.tuko.co.ke/kenya/464008-dpp-noordin-haji-amtafuta-dci-george-kinoti-na-kumtaja-kuwa-mdogo-wake-yeye-si-level-yangu/\")\n",
    "\n",
    "# calling the store_ document function \n",
    "store_document(doc=text,name=file)\n",
    "\n",
    "#add the words in this file to the total_corpus_words, to keep count of the number of words in the corpus\n",
    "total_corpus_words+=total_words(file)"
   ]
  },
  {
   "cell_type": "code",
   "execution_count": null,
   "metadata": {},
   "outputs": [],
   "source": [
    "total_corpus_words"
   ]
  },
  {
   "cell_type": "code",
   "execution_count": null,
   "metadata": {},
   "outputs": [],
   "source": [
    "file=\"swa14.txt\"\n",
    "\n",
    "# calling the function and storing the contents in a text variable \n",
    "text = get_document(\"https://kiswahili.tuko.co.ke/kenya/464008-dpp-noordin-haji-amtafuta-dci-george-kinoti-na-kumtaja-kuwa-mdogo-wake-yeye-si-level-yangu/\")\n",
    "\n",
    "# calling the store_ document function \n",
    "store_document(doc=text,name=file)\n",
    "\n",
    "#add the words in this file to the total_corpus_words, to keep count of the number of words in the corpus\n",
    "total_corpus_words+=total_words(file)"
   ]
  },
  {
   "cell_type": "code",
   "execution_count": null,
   "metadata": {},
   "outputs": [],
   "source": [
    "total_corpus_words"
   ]
  },
  {
   "cell_type": "code",
   "execution_count": null,
   "metadata": {},
   "outputs": [],
   "source": [
    "file=\"swa15.txt\"\n",
    "\n",
    "# calling the function and storing the contents in a text variable \n",
    "text = get_document(\"https://kiswahili.tuko.co.ke/kenya/464008-dpp-noordin-haji-amtafuta-dci-george-kinoti-na-kumtaja-kuwa-mdogo-wake-yeye-si-level-yangu/\")\n",
    "\n",
    "# calling the store_ document function \n",
    "store_document(doc=text,name=file)\n",
    "\n",
    "#add the words in this file to the total_corpus_words, to keep count of the number of words in the corpus\n",
    "total_corpus_words+=total_words(file)"
   ]
  },
  {
   "cell_type": "code",
   "execution_count": null,
   "metadata": {},
   "outputs": [],
   "source": [
    "total_corpus_words"
   ]
  },
  {
   "cell_type": "code",
   "execution_count": null,
   "metadata": {},
   "outputs": [],
   "source": [
    "file=\"swa16.txt\"\n",
    "\n",
    "# calling the function and storing the contents in a text variable \n",
    "text = get_document(\"https://kiswahili.tuko.co.ke/kenya/464008-dpp-noordin-haji-amtafuta-dci-george-kinoti-na-kumtaja-kuwa-mdogo-wake-yeye-si-level-yangu/\")\n",
    "\n",
    "# calling the store_ document function \n",
    "store_document(doc=text,name=file)\n",
    "\n",
    "#add the words in this file to the total_corpus_words, to keep count of the number of words in the corpus\n",
    "total_corpus_words+=total_words(file)"
   ]
  },
  {
   "cell_type": "code",
   "execution_count": null,
   "metadata": {},
   "outputs": [],
   "source": [
    "total_corpus_words"
   ]
  },
  {
   "cell_type": "code",
   "execution_count": null,
   "metadata": {},
   "outputs": [],
   "source": [
    "file=\"swa17.txt\"\n",
    "\n",
    "# calling the function and storing the contents in a text variable \n",
    "text = get_document(\"https://kiswahili.tuko.co.ke/kenya/464008-dpp-noordin-haji-amtafuta-dci-george-kinoti-na-kumtaja-kuwa-mdogo-wake-yeye-si-level-yangu/\")\n",
    "\n",
    "# calling the store_ document function \n",
    "store_document(doc=text,name=file)\n",
    "\n",
    "#add the words in this file to the total_corpus_words, to keep count of the number of words in the corpus\n",
    "total_corpus_words+=total_words(file)"
   ]
  },
  {
   "cell_type": "code",
   "execution_count": null,
   "metadata": {},
   "outputs": [],
   "source": [
    "total_corpus_words"
   ]
  },
  {
   "cell_type": "code",
   "execution_count": null,
   "metadata": {},
   "outputs": [],
   "source": [
    "file=\"swa18.txt\"\n",
    "\n",
    "# calling the function and storing the contents in a text variable \n",
    "text = get_document(\"https://kiswahili.tuko.co.ke/kenya/464008-dpp-noordin-haji-amtafuta-dci-george-kinoti-na-kumtaja-kuwa-mdogo-wake-yeye-si-level-yangu/\")\n",
    "\n",
    "# calling the store_ document function \n",
    "store_document(doc=text,name=file)\n",
    "\n",
    "#add the words in this file to the total_corpus_words, to keep count of the number of words in the corpus\n",
    "total_corpus_words+=total_words(file)"
   ]
  },
  {
   "cell_type": "code",
   "execution_count": null,
   "metadata": {},
   "outputs": [],
   "source": [
    "total_corpus_words"
   ]
  },
  {
   "cell_type": "code",
   "execution_count": null,
   "metadata": {},
   "outputs": [],
   "source": [
    "file=\"swa19.txt\"\n",
    "\n",
    "# calling the function and storing the contents in a text variable \n",
    "text = get_document(\"https://kiswahili.tuko.co.ke/kenya/464008-dpp-noordin-haji-amtafuta-dci-george-kinoti-na-kumtaja-kuwa-mdogo-wake-yeye-si-level-yangu/\")\n",
    "\n",
    "# calling the store_ document function \n",
    "store_document(doc=text,name=file)\n",
    "\n",
    "#add the words in this file to the total_corpus_words, to keep count of the number of words in the corpus\n",
    "total_corpus_words+=total_words(file)"
   ]
  },
  {
   "cell_type": "code",
   "execution_count": null,
   "metadata": {},
   "outputs": [],
   "source": [
    "total_corpus_words"
   ]
  },
  {
   "cell_type": "code",
   "execution_count": null,
   "metadata": {},
   "outputs": [],
   "source": [
    "file=\"swa20.txt\"\n",
    "\n",
    "# calling the function and storing the contents in a text variable \n",
    "text = get_document(\"https://kiswahili.tuko.co.ke/kenya/464008-dpp-noordin-haji-amtafuta-dci-george-kinoti-na-kumtaja-kuwa-mdogo-wake-yeye-si-level-yangu/\")\n",
    "\n",
    "# calling the store_ document function \n",
    "store_document(doc=text,name=file)\n",
    "\n",
    "#add the words in this file to the total_corpus_words, to keep count of the number of words in the corpus\n",
    "total_corpus_words+=total_words(file)"
   ]
  },
  {
   "cell_type": "code",
   "execution_count": null,
   "metadata": {},
   "outputs": [],
   "source": [
    "total_corpus_words"
   ]
  },
  {
   "cell_type": "code",
   "execution_count": null,
   "metadata": {},
   "outputs": [],
   "source": []
  },
  {
   "cell_type": "code",
   "execution_count": null,
   "metadata": {},
   "outputs": [],
   "source": []
  },
  {
   "cell_type": "code",
   "execution_count": null,
   "metadata": {},
   "outputs": [],
   "source": []
  },
  {
   "cell_type": "code",
   "execution_count": null,
   "metadata": {},
   "outputs": [],
   "source": []
  },
  {
   "cell_type": "code",
   "execution_count": null,
   "metadata": {},
   "outputs": [],
   "source": []
  },
  {
   "cell_type": "code",
   "execution_count": null,
   "metadata": {},
   "outputs": [],
   "source": []
  },
  {
   "cell_type": "code",
   "execution_count": null,
   "metadata": {},
   "outputs": [],
   "source": []
  },
  {
   "cell_type": "code",
   "execution_count": null,
   "metadata": {},
   "outputs": [],
   "source": []
  },
  {
   "cell_type": "code",
   "execution_count": null,
   "metadata": {},
   "outputs": [],
   "source": []
  },
  {
   "cell_type": "code",
   "execution_count": null,
   "metadata": {},
   "outputs": [],
   "source": []
  },
  {
   "cell_type": "code",
   "execution_count": null,
   "metadata": {},
   "outputs": [],
   "source": []
  },
  {
   "cell_type": "code",
   "execution_count": null,
   "metadata": {},
   "outputs": [],
   "source": []
  },
  {
   "cell_type": "code",
   "execution_count": null,
   "metadata": {},
   "outputs": [],
   "source": []
  },
  {
   "cell_type": "code",
   "execution_count": null,
   "metadata": {},
   "outputs": [],
   "source": []
  },
  {
   "cell_type": "code",
   "execution_count": null,
   "metadata": {},
   "outputs": [],
   "source": []
  },
  {
   "cell_type": "code",
   "execution_count": null,
   "metadata": {},
   "outputs": [],
   "source": []
  },
  {
   "cell_type": "code",
   "execution_count": null,
   "metadata": {},
   "outputs": [],
   "source": []
  },
  {
   "cell_type": "code",
   "execution_count": null,
   "metadata": {},
   "outputs": [],
   "source": []
  },
  {
   "cell_type": "code",
   "execution_count": null,
   "metadata": {},
   "outputs": [],
   "source": []
  },
  {
   "cell_type": "code",
   "execution_count": null,
   "metadata": {},
   "outputs": [],
   "source": []
  },
  {
   "cell_type": "code",
   "execution_count": null,
   "metadata": {},
   "outputs": [],
   "source": []
  },
  {
   "cell_type": "code",
   "execution_count": null,
   "metadata": {},
   "outputs": [],
   "source": []
  },
  {
   "cell_type": "code",
   "execution_count": null,
   "metadata": {},
   "outputs": [],
   "source": []
  },
  {
   "cell_type": "code",
   "execution_count": null,
   "metadata": {},
   "outputs": [],
   "source": []
  },
  {
   "cell_type": "code",
   "execution_count": null,
   "metadata": {},
   "outputs": [],
   "source": []
  },
  {
   "cell_type": "code",
   "execution_count": null,
   "metadata": {},
   "outputs": [],
   "source": []
  },
  {
   "cell_type": "code",
   "execution_count": null,
   "metadata": {},
   "outputs": [],
   "source": []
  },
  {
   "cell_type": "code",
   "execution_count": null,
   "metadata": {},
   "outputs": [],
   "source": []
  },
  {
   "cell_type": "code",
   "execution_count": null,
   "metadata": {},
   "outputs": [],
   "source": []
  },
  {
   "cell_type": "code",
   "execution_count": null,
   "metadata": {},
   "outputs": [],
   "source": []
  },
  {
   "cell_type": "code",
   "execution_count": null,
   "metadata": {},
   "outputs": [],
   "source": []
  },
  {
   "cell_type": "code",
   "execution_count": null,
   "metadata": {},
   "outputs": [],
   "source": []
  },
  {
   "cell_type": "code",
   "execution_count": null,
   "metadata": {},
   "outputs": [],
   "source": []
  },
  {
   "cell_type": "code",
   "execution_count": null,
   "metadata": {},
   "outputs": [],
   "source": []
  },
  {
   "cell_type": "code",
   "execution_count": null,
   "metadata": {},
   "outputs": [],
   "source": []
  }
 ],
 "metadata": {
  "kernelspec": {
   "display_name": "Python 3",
   "language": "python",
   "name": "python3"
  },
  "language_info": {
   "codemirror_mode": {
    "name": "ipython",
    "version": 3
   },
   "file_extension": ".py",
   "mimetype": "text/x-python",
   "name": "python",
   "nbconvert_exporter": "python",
   "pygments_lexer": "ipython3",
   "version": "3.8.3"
  }
 },
 "nbformat": 4,
 "nbformat_minor": 4
}
