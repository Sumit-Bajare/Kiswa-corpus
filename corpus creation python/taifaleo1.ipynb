{
 "cells": [
  {
   "cell_type": "code",
   "execution_count": 11,
   "metadata": {},
   "outputs": [],
   "source": [
    "# from jan 2022 to july 2022 (Hybrid news) (page 20)"
   ]
  },
  {
   "cell_type": "code",
   "execution_count": 1,
   "metadata": {},
   "outputs": [],
   "source": [
    "import justext\n",
    "import requests\n",
    "import nltk"
   ]
  },
  {
   "cell_type": "code",
   "execution_count": 2,
   "metadata": {},
   "outputs": [
    {
     "data": {
      "text/plain": [
       "'/Users/sumitbajare/Documents/Sussex/Project'"
      ]
     },
     "execution_count": 2,
     "metadata": {},
     "output_type": "execute_result"
    }
   ],
   "source": [
    "import os\n",
    "os.getcwd()"
   ]
  },
  {
   "cell_type": "code",
   "execution_count": 3,
   "metadata": {},
   "outputs": [],
   "source": [
    "def get_document(url):\n",
    "    \n",
    "    '''\n",
    "        \n",
    "        This function will check if the url is valid and then\n",
    "        proceed to parse it to produce a clean text (no html) which\n",
    "        can be used as input to a recommendation engine.\n",
    "\n",
    "    Arguments: url  -- input url that needs to be checked and parsed\n",
    "    Return: text_only -- the text extracted after removing boilerplate content\n",
    "    '''\n",
    "    \n",
    "    try:\n",
    "        r = requests.head(url, allow_redirects = True)\n",
    "        \n",
    "    except requests.exceptions.ConnectionError as e:\n",
    "        raise URLRetrievalError(url, 'Could not connect', e)\n",
    "        \n",
    "    if r.status_code != requests.codes.ok:\n",
    "        raise URLRetrievalError(url, 'Invalid response code from remote server: {}'\n",
    "                                .format(r.status_code))\n",
    "        \n",
    "    if r.headers[\"content-type\"].split(';')[0] not in [\"text/html\",\n",
    "                                                       \"text/plain\"]:\n",
    "        raise URLRetrievalError(url, 'Document has invalid MIME type: {}'\n",
    "                                .format(r.headers[\"content-type\"]))\n",
    "    \n",
    "    response = requests.get(url)\n",
    "    paragraphs = justext.justext(response.content, justext.get_stoplist(\"Swahili\"))\n",
    "    text_only = ''\n",
    "    \n",
    "    for paragraph in paragraphs:\n",
    "        if not paragraph.is_boilerplate:\n",
    "            text_only += ' ' + paragraph.text\n",
    "            \n",
    "    if len(text_only) == 0:\n",
    "        raise DocumentParsingError('Length of document is zero')\n",
    "        \n",
    "    return text_only"
   ]
  },
  {
   "cell_type": "code",
   "execution_count": 4,
   "metadata": {},
   "outputs": [],
   "source": [
    "# Changing the current working directory to store the documents in the desired file\n",
    "os.chdir('/Users/sumitbajare/Documents/Sussex/Project/swa_corpus/taifaleo')"
   ]
  },
  {
   "cell_type": "code",
   "execution_count": 5,
   "metadata": {},
   "outputs": [],
   "source": [
    "def store_document(doc,name):\n",
    "    \n",
    "    '''\n",
    "        This function will store the contents of the url in a text file.\n",
    "        \n",
    "        Argumnets: doc -- the Document to store in a text file \n",
    "        Return: nan\n",
    "    '''\n",
    "    \n",
    "    # Open function to open the file in the same directory in append mode\n",
    "    file = open(name,\"a\")\n",
    "    # writing each string in the file\n",
    "    file.writelines(doc)\n",
    "    # closing the file\n",
    "    file.close()"
   ]
  },
  {
   "cell_type": "code",
   "execution_count": 6,
   "metadata": {},
   "outputs": [],
   "source": [
    "def total_words(file_name):\n",
    "    filename = file_name\n",
    "\n",
    "    with open(filename, 'r') as file:\n",
    "        lines_in_file = file.read()\n",
    "\n",
    "        nltk_tokens = nltk.word_tokenize(lines_in_file)\n",
    "        print (nltk_tokens)\n",
    "        print (\"\\n Number of Words: \" , len(nltk_tokens))\n",
    "        return len(nltk_tokens)"
   ]
  },
  {
   "cell_type": "code",
   "execution_count": 7,
   "metadata": {},
   "outputs": [],
   "source": [
    "# these were the total number of words from the previous 6 notebooks\n",
    "# we will resume the count from 4,56,820\n",
    "total_corpus_words= 456820"
   ]
  },
  {
   "cell_type": "code",
   "execution_count": 8,
   "metadata": {
    "scrolled": true
   },
   "outputs": [
    {
     "name": "stdout",
     "output_type": "stream",
     "text": [
      "['Jinsi', 'wakazi', 'wa', 'Nairobi', 'walivyokaribisha', 'mwaka', 'mpya', 'MWAKA', 'mpya', 'wa', '2022', 'ulikaribishwa', 'kwa', 'staili', ',', 'baadhi', 'wakikongamana', 'katika', 'maeneo', 'ya', 'kuabudu', ',', 'burudani', ',', 'baa', 'na', 'barabarani', '.', 'Kinyume', 'na', 'miaka', 'ya', 'awali', ',', 'ambapo', 'idadi', 'kubwa', 'hulaki', 'mwaka', 'mpya', 'kanisani', 'na', 'katika', 'maeneo', 'ya', 'burudani', ',', '2022', 'wengi', 'walilazimika', 'kusalia', 'nyumbani', '.', 'Hatua', 'hiyo', 'ilichangiwa', 'na', 'kanuni', 'na', 'mikakati', 'kuzuia', 'msambao', 'wa', 'ugonjwa', 'wa', 'Covid-19', ',', 'iliyopendekezwa', 'na', 'Wizara', 'ya', 'Afya', '(', 'MoH', ')', '.', 'Hata', 'ingawa', 'mwishoni', 'mwa', '2021', 'serikali', 'ililegeza', 'kamba', 'sheria', 'hizo', ',', 'inaendelea', 'kuhimiza', 'wananchi', 'kuzizingatia', '.', 'Himizo', 'hilo', 'linatokana', 'na', 'kuendelea', 'kuongezeka', 'kwa', 'visa', 'vya', 'maambukizi', 'ya', 'virusi', 'vya', 'corona', ',', 'Kenya', 'ikithibitisha', 'kuwa', 'mwenyeji', 'wa', 'kirusi', 'hatari', 'cha', 'Omicron', 'na', 'ambacho', 'madaktari', 'na', 'wanasayansi', 'wanaonya', 'kinasambaa', 'kwa', 'kasi', '.', 'Mitaa', 'mbalimbali', 'Kaunti', 'ya', 'Nairobi', ',', 'wengi', 'wa', 'wakazi', 'hawakuwa', 'na', 'budi', 'kuukaribisha', 'mwaka', 'mpya', 'kwa', 'kufuatilia', 'vipindi', 'vya', 'mahubiri', 'kwenye', 'runinga', 'zilizovipeperusha', 'moja', 'kwa', 'moja', '.', 'Kwa', 'mfano', ',', 'katika', 'mtaa', 'wa', 'Zimmerman', 'wale', 'ambao', 'hawakujumuika', 'katika', 'maeneo', 'ya', 'kuabudu', 'au', 'burudani', ',', 'mshale', 'wa', 'kronomita', 'ya', 'saa', 'ulipogonga', 'saa', 'sita', 'kamili', 'Jumamosi', ',', 'walitumia', 'veranda', 'na', 'vilele', 'vya', 'ghorofa', 'wanazoishi', 'kulaki', '2022', '.']\n",
      "\n",
      " Number of Words:  191\n"
     ]
    }
   ],
   "source": [
    "file=\"22jan1.txt\"\n",
    "\n",
    "# calling the function and storing the contents in a text variable \n",
    "text = get_document(\"https://taifaleo.nation.co.ke/makaribisho-ya-mwaka-mpya-2022/\")\n",
    "\n",
    "# calling the store_ document function \n",
    "store_document(doc=text,name=file)\n",
    "\n",
    "#add the words in this file to the total_corpus_words, to keep count of the number of words in the corpus\n",
    "total_corpus_words+=total_words(file)"
   ]
  },
  {
   "cell_type": "code",
   "execution_count": 9,
   "metadata": {},
   "outputs": [
    {
     "data": {
      "text/plain": [
       "457011"
      ]
     },
     "execution_count": 9,
     "metadata": {},
     "output_type": "execute_result"
    }
   ],
   "source": [
    "total_corpus_words"
   ]
  },
  {
   "cell_type": "code",
   "execution_count": 10,
   "metadata": {},
   "outputs": [
    {
     "name": "stdout",
     "output_type": "stream",
     "text": [
      "['TUSIJE', 'TUKASAHAU', 'KUNA', 'hofu', 'kwamba', 'bei', 'ya', 'unga', 'wa', 'mahindi', 'itapanda', 'zaidi', 'kufuatia', 'hatua', 'ya', 'Bodi', 'ya', 'Kitaifa', 'ya', 'Nafaka', 'na', 'Mazao', '(', 'NCPB', ')', 'kuongeza', 'bei', 'ya', 'kununua', 'zao', 'hili', 'kutoka', 'kwa', 'wakulima', 'kutoka', 'Sh2,700', 'hadi', 'Sh3,000', 'kwa', 'gunia', 'moja', 'la', 'kilo', '90', '.', 'Hii', 'ina', 'maana', 'kuwa', 'kampuni', 'za', 'kusaga', 'unga', 'wa', 'mahindi', 'zitalazimika', 'kununua', 'mahindi', 'kwa', 'bei', 'ya', 'juu', ',', 'hali', 'itakayochangia', 'kuongezeka', 'kwa', 'bei', 'ya', 'unga', 'kwa', 'zaidi', 'ya', 'bei', 'ya', 'sasa', 'ya', 'Sh120', 'kwa', 'pakiti', 'ya', 'kilo', 'mbili', 'madukani', '.', 'Lakini', 'Waziri', 'wa', 'Kilimo', ',', 'Bw', 'Peter', 'Munya', '(', 'pichani', ')', 'anafaa', 'kufahamu', 'kwamba', 'anaweza', 'kuwakinga', 'Wakenya', 'kutokana', 'na', 'ongezeko', 'la', 'bei', 'ya', 'unga', 'kwa', 'kuingilia', 'kati', 'na', 'kuhakikisha', 'kuwa', 'kampuni', 'za', 'kusaga', 'unga', 'zinauziwa', 'mahindi', 'kwa', 'bei', 'nafuu', '.', 'Bw', 'Munya', 'asije', 'akasahau', 'kwamba', 'mnamo', '2018', ',', 'mtangulizi', 'wake', ',', 'Mwangi', 'Kiunjuri', ',', 'aliamuru', 'NCPB', 'ipewe', 'ruzuku', 'ya', 'Sh6', 'bilioni', 'kutoka', 'kwa', 'Hazina', 'ya', 'Kitaifa', 'kuiwezesha', 'kupunguza', 'bei', 'ya', 'mahindi', 'kwa', 'kampuni', 'za', 'kusaga', 'unga', '.', 'Hatua', 'hiyo', 'ilichangia', 'kushuka', 'kwa', 'bei', 'ya', 'unga', 'kutoka', 'Sh150', 'hadi', 'Sh75', 'kwa', 'pakiti', 'ya', 'kilo', 'mbili', '.']\n",
      "\n",
      " Number of Words:  180\n"
     ]
    }
   ],
   "source": [
    "file=\"22jan1_2.txt\"\n",
    "\n",
    "# calling the function and storing the contents in a text variable \n",
    "text = get_document(\"https://taifaleo.nation.co.ke/tusije-tukasahau-4/\")\n",
    "\n",
    "# calling the store_ document function \n",
    "store_document(doc=text,name=file)\n",
    "\n",
    "#add the words in this file to the total_corpus_words, to keep count of the number of words in the corpus\n",
    "total_corpus_words+=total_words(file)"
   ]
  },
  {
   "cell_type": "code",
   "execution_count": null,
   "metadata": {},
   "outputs": [],
   "source": [
    "total_corpus_words"
   ]
  },
  {
   "cell_type": "code",
   "execution_count": 12,
   "metadata": {},
   "outputs": [
    {
     "name": "stdout",
     "output_type": "stream",
     "text": [
      "['Katika', 'hotuba', 'yake', ',', 'Bw', 'Azangu', 'aliwaomba', 'wakazi', 'kuwakaribisha', 'wawaniaji', 'viti', 'mbalimbali', 'na', 'kusikiliza', 'sera', 'zao', 'na', 'kuwasihi', 'vijana', 'wajiepushe', 'na', 'ghasia', '.', '“', 'Kila', 'mwanasiasa', 'ana', 'haki', 'ya', 'kuja', 'huku', 'Mukuru', 'ili', 'kuuza', 'sera', 'zake', '.', 'Hata', 'hivyo', ',', 'vijana', 'ninawasihi', 'msikubali', 'kutumiwa', 'na', 'wanasiasa', 'kuzua', 'rabsha', ',', '”', 'Bw', 'Azangu', 'akanena', '.', 'Moto', 'huo', 'ulitokea', 'mwendo', 'wa', 'saa', 'mbili', 'za', 'usiku', 'siku', 'tatu', 'kabla', 'ya', 'mkesha', 'wa', 'Mwaka', 'Mpya', 'wakati', 'ambapo', 'wakazi', 'wengi', 'walikuwa', 'wamesafiri', 'kuelekea', 'maeneo', 'ya', 'mashambani', '.', 'Mali', 'ya', 'thamani', 'isiyojulikana', 'iliteketea', 'na', 'kuwa', 'majivu', 'huku', 'maafisa', 'wa', 'usalama', 'wakianzisha', 'uchunguzi', 'wao', 'ili', 'kubaini', 'kilichosababisha', 'moto', '.', 'Chifu', 'wa', 'eneo', 'hilo', ',', 'Bw', 'Paul', 'Muoki', 'Mulinge', 'alihakikishia', 'wakazi', 'kwamba', 'barabara', 'zitatengwa', 'ili', 'kupisha', 'njia', 'za', 'kutumiwa', 'na', 'magari', 'wakati', 'wa', 'dharura', '.', 'Viongozi', 'wa', 'awali', 'wamelaumiwa', 'kwa', 'sakata', 'ya', 'ardhi', 'baada', 'ya', 'kudaiwa', 'kuuzia', 'mabwanyenye', 'nafasi', 'zilizokuwa', 'za', 'barabara', 'hivyo', 'kusababisha', 'magari', 'ya', 'kuzima', 'moto', 'kukosa', 'njia', 'wakati', 'wa', 'kuja', 'kuzima', 'moto', 'katika', 'mitaa', 'ya', 'Mukuru', '.']\n",
      "\n",
      " Number of Words:  162\n"
     ]
    }
   ],
   "source": [
    "file=\"22jan2.txt\"\n",
    "\n",
    "# calling the function and storing the contents in a text variable \n",
    "text = get_document(\"https://taifaleo.nation.co.ke/wahasiriwa-wa-mkasa-wa-moto-mukuru-kayaba-wapokea-msaada/\")\n",
    "\n",
    "# calling the store_ document function \n",
    "store_document(doc=text,name=file)\n",
    "\n",
    "#add the words in this file to the total_corpus_words, to keep count of the number of words in the corpus\n",
    "total_corpus_words+=total_words(file)"
   ]
  },
  {
   "cell_type": "code",
   "execution_count": 13,
   "metadata": {},
   "outputs": [
    {
     "data": {
      "text/plain": [
       "457353"
      ]
     },
     "execution_count": 13,
     "metadata": {},
     "output_type": "execute_result"
    }
   ],
   "source": [
    "total_corpus_words"
   ]
  },
  {
   "cell_type": "code",
   "execution_count": 14,
   "metadata": {},
   "outputs": [
    {
     "name": "stdout",
     "output_type": "stream",
     "text": [
      "['“', 'Marehemu', 'Njonjo', 'wakati', 'wa', 'uhai', 'wake', 'alilinda', 'katiba', 'ya', 'nchi', 'yetu', 'kwa', 'weledi', 'wa', 'hali', 'ya', 'juu', ',', '”', 'amesema', 'Bw', 'Wainaina', '.', 'Mbunge', 'huyo', 'amesema', 'hadi', 'wa', 'leo', 'pengine', 'hakuna', 'mtumishi', 'wa', 'serikali', 'katika', 'upande', 'wa', 'sheria', 'anayeweza', 'kulinganishwa', 'na', 'Njonjo', '.', 'Alieleza', 'kuwa', 'Njonjo', 'alichukia', 'sana', 'mambo', 'ya', 'rushwa', 'na', 'alipenda', 'uwajibikaji', 'katika', 'utendakazi', 'wa', 'wafanyakazi', 'wa', 'serikali', '.', 'Bw', 'Wainaina', 'amesema', 'viongozi', 'wa', 'siku', 'hizi', 'ni', 'watu', 'wanaojitakia', 'makuu', 'kwa', 'kujihusisha', 'na', 'rushwa', 'jambo', 'ambalo', 'Njonjo', 'alipinga', 'kila', 'mara', 'alipohudumu', 'katika', 'utawala', 'wa', 'Hayati', 'Jomo', 'Kenyatta', 'na', 'marehemu', 'Daniel', 'Arap', 'Moi', '.', 'Sir', 'Njonjo', 'alivyotambulika', 'na', 'wengi', 'atakumbukwa', 'sana', 'kutokana', 'na', 'msimamo', 'wake', 'mwaka', 'wa', '1976', 'wakati', 'alipinga', 'mjadala', 'wa', 'wanasiasa', 'kubadilisha', 'katiba', 'kuwa', 'rais', 'akitoka', 'uongozini', 'makamu', 'au', 'naibu', 'wake', 'airithi', 'nafasi', 'hiyo', 'mara', 'moja', '.', 'Wakati', 'huo', 'baadhi', 'ya', 'viongozi', 'katika', 'bunge', 'walitaka', 'mswada', 'huo', 'upitishwe', 'lakini', 'kutokana', 'na', 'msimamo', 'wake', 'mkali', ',', 'mpango', 'huo', 'ulizimwa', 'kabisa', '.', 'Njonjo', 'atakumbukwa', 'kuwa', 'msimamo', 'wake', 'wa', 'kisheria', 'uliokoa', 'mambo', 'mengi', 'nchini', '.', 'Mwanasheria', 'huyo', 'pia', 'alikuwa', 'mbunge', 'wa', 'Kikuyu', 'miaka', 'ya', '80', 'baada', 'ya', 'kustaafu', 'wadhifa', 'wa', 'mwanasheria', 'mkuu', '.', 'Pia', 'atakumbukwa', 'na', 'mavazi', 'yake', 'kama', 'suti', 'yenye', 'miraba', 'mieupe', 'ambazo', 'zilimtofautisha', 'na', 'watu', 'wengine', '.', 'Watu', 'wanaozielewa', 'tabia', 'zake', 'wanadai', 'kuwa', 'alitaka', 'kazi', 'yake', 'kuendeshwa', 'kwa', 'utaratibu', 'wa', 'kipekee', 'bila', 'kuzubaa', '.', 'Wakati', 'wa', 'uongozi', 'wake', 'kama', 'mwanasheria', ',', 'idara', 'yake', 'ilikuwa', 'na', 'uelewano', 'wa', 'karibu', 'na', 'serikali', 'bila', 'mivutano', 'ya', 'kila', 'mara', '.', 'Njonjo', 'amefariki', 'akiwa', 'na', 'umri', 'wa', 'miaka', '101', 'na', 'kwa', 'muda', 'mwingi', 'amekuwa', 'akijituliza', 'kwake', 'nyumbani', 'Muthaiga', 'jijini', 'Nairobi', '.']\n",
      "\n",
      " Number of Words:  259\n"
     ]
    }
   ],
   "source": [
    "file=\"22jan2_2.txt\"\n",
    "\n",
    "# calling the function and storing the contents in a text variable \n",
    "text = get_document(\"https://taifaleo.nation.co.ke/jungle-wainaina-aeleza-jinsi-njonjo-alivyokuwa-mwanasheria-wa-kipekee/\")\n",
    "\n",
    "# calling the store_ document function \n",
    "store_document(doc=text,name=file)\n",
    "\n",
    "#add the words in this file to the total_corpus_words, to keep count of the number of words in the corpus\n",
    "total_corpus_words+=total_words(file)"
   ]
  },
  {
   "cell_type": "code",
   "execution_count": 15,
   "metadata": {},
   "outputs": [
    {
     "data": {
      "text/plain": [
       "457612"
      ]
     },
     "execution_count": 15,
     "metadata": {},
     "output_type": "execute_result"
    }
   ],
   "source": [
    "total_corpus_words"
   ]
  },
  {
   "cell_type": "code",
   "execution_count": 16,
   "metadata": {},
   "outputs": [
    {
     "name": "stdout",
     "output_type": "stream",
     "text": [
      "['Mbinu', 'mpya', 'zinazotumiwa', 'kudumisha', 'usalama', 'mitaani', 'MIKAKATI', 'mizuri', 'iliyowekwa', 'na', 'kubuni', 'mbinu', 'mpya', 'kudhibiti', 'usalama', 'katika', 'eneo', 'la', 'polisi', 'la', 'Makadara', 'msimu', 'wa', 'sherehe', 'kulizaa', 'matunda', 'huku', 'visa', 'vya', 'uhalifu', 'vikikosa', 'kushuhudiwa', '.', 'Mkuu', 'wa', 'polisi', 'eneo', 'la', 'Makadara', ',', 'Bw', 'Timon', 'Odingo', 'aliambia', 'Taifa', 'leo', 'kwamba', 'alishirikiana', 'vizuri', 'na', 'mkuu', 'wa', 'Kitengo', 'cha', 'Upelelezi', 'wa', 'Jinai', '(', 'DCIO', ')', ',', 'Bw', 'Steven', 'Muema', 'Mutua', '.', 'Aidha', ',', 'Bw', 'Odingo', 'aliongeza', 'kwamba', ',', 'kando', 'na', 'maafisa', 'hao', ',', 'walipangia', 'askari', 'wao', 'kazi', 'wakitumia', 'magari', 'ya', 'kibinafsi', 'ya', 'usalama', 'kama', 'vile', 'SG', ',', 'G4S', ',', 'Group', '4', ',', 'KK', 'na', 'kadhalika', '.', 'Bw', 'Mutua', 'aliongeza', 'kwamba', 'waliwapanga', 'polisi', 'waliovalia', 'kiraia', 'katika', 'maeneo', 'yaliyodaiwa', 'kuwa', 'sugu', 'kwa', 'usalama', 'baada', 'ya', 'kupeleleza', 'na', 'kujua', 'kila', 'kona', 'ambayo', 'usalama', 'ulidorora', '.', '“', 'Tuliweka', 'askari', 'wetu', 'waliojihami', 'kwa', 'silaha', 'na', 'kuvalia', 'kiraia', 'kwenye', 'maeneo', 'sugu', 'kwa', 'uhalifu', 'kabla', ',', 'wakati', 'na', 'baada', 'ya', 'Krisimasi', '.', 'Pia', 'ongezeko', 'la', 'maafisa', 'wetu', 'wa', 'kushika', 'doria', 'walikuwa', 'chonjo', 'saa', '24/7', 'pamoja', 'na', 'raia', 'kujitolea', 'kutupasha', 'habari', 'kuhusu', 'mipango', 'ya', 'wahalifu', 'ambayo', 'tulitibua', 'kabla', 'ya', 'kutendeka', ',', '”', 'Bw', 'Mutua', 'akanena', '.', 'Kwa', 'kawaida', ',', 'eneo', 'la', 'Makadara', 'lina', 'mitaa', 'mingi', 'ya', 'mabanda', 'ambayo', 'hapo', 'awali', ',', 'kulishuhudiwa', 'msururu', 'wa', 'ongezeko', 'la', 'visa', 'vya', 'uhalifu', 'hasa', 'mwezi', 'Disemba', 'kila', 'mwaka', '.', 'Wananchi', 'waliohojiwa', 'walipongeza', 'maafisa', 'wa', 'polisi', 'wakisema', 'ni', 'ajabu', 'mwaka', 'huu', 'kutoripotiwa', 'visa', 'vya', 'uhalifu', 'katika', 'eneo', 'la', 'Makadara', '.', '“', 'Huu', 'ni', 'mwaka', 'wa', 'ajabu', 'ambao', 'hatukusikia', 'watu', 'wakiporwa', 'pesa', 'wakielekea', 'sokoni', ',', 'wakiwa', 'steji', 'wala', 'kushuhudia', 'nyumba', 'kuvunjwa', 'na', 'wahalifu', 'mitaani', 'Disemba', 'ya', 'mwaka', 'jana', 'ikilinganishwa', 'na', 'miaka', 'ya', 'hapo', 'nyuma', ',', '”', 'Mwenyekiti', 'wa', 'usalama', 'mtaa', 'wa', 'mabanda', 'wa', 'Mukuru-Hazina', ',', 'Bw', 'David', 'Kiarie', 'akasema', '.']\n",
      "\n",
      " Number of Words:  281\n"
     ]
    }
   ],
   "source": [
    "file=\"22jan7_1.txt\"\n",
    "\n",
    "# calling the function and storing the contents in a text variable \n",
    "text = get_document(\"https://taifaleo.nation.co.ke/mbinu-mpya-zinazotumiwa-kudumisha-usalama-mitaani/\")\n",
    "\n",
    "# calling the store_ document function \n",
    "store_document(doc=text,name=file)\n",
    "\n",
    "#add the words in this file to the total_corpus_words, to keep count of the number of words in the corpus\n",
    "total_corpus_words+=total_words(file)"
   ]
  },
  {
   "cell_type": "code",
   "execution_count": 17,
   "metadata": {},
   "outputs": [
    {
     "data": {
      "text/plain": [
       "457893"
      ]
     },
     "execution_count": 17,
     "metadata": {},
     "output_type": "execute_result"
    }
   ],
   "source": [
    "total_corpus_words"
   ]
  },
  {
   "cell_type": "code",
   "execution_count": 18,
   "metadata": {},
   "outputs": [
    {
     "name": "stdout",
     "output_type": "stream",
     "text": [
      "['Mkuu', 'wa', 'polisi', 'eneo', 'la', 'Makadara', ',', 'Bw', 'Timon', 'Odingo', 'aliambia', 'Taifa', 'Leo', 'amethibitisha', 'kisa', 'hicho', 'na', 'kuongeza', 'kwamba', 'kinachunguzwa', 'na', 'maafisa', 'wa', 'kitengo', 'cha', 'Jinai', '.', '“', 'Kulingana', 'na', 'ripoti', 'tuliyo', 'nayo', ',', 'maafisa', 'wa', 'polisi', 'wa', 'kitengo', 'cha', 'jinai', 'wanachunguza', 'kisa', 'hiki', 'kililichosababisha', 'hofu', 'mitaani', 'mitatu', 'iliyopakana', 'na', 'eneo', 'la', 'kituo', '.', 'Bali', 'ni', 'kisanga', 'tunachokichukulia', 'kama', 'cha', 'kindani', 'kwa', 'upande', 'wa', 'polisi', ',', '”', 'Bw', 'Odingo', 'akanena', '.']\n",
      "\n",
      " Number of Words:  71\n"
     ]
    }
   ],
   "source": [
    "file=\"22jan7_2.txt\"\n",
    "\n",
    "# calling the function and storing the contents in a text variable \n",
    "text = get_document(\"https://taifaleo.nation.co.ke/mwanamke-aponea-kifo-risasi-ya-polisi-ilipomkosa/\")\n",
    "\n",
    "# calling the store_ document function \n",
    "store_document(doc=text,name=file)\n",
    "\n",
    "#add the words in this file to the total_corpus_words, to keep count of the number of words in the corpus\n",
    "total_corpus_words+=total_words(file)"
   ]
  },
  {
   "cell_type": "code",
   "execution_count": 19,
   "metadata": {},
   "outputs": [
    {
     "data": {
      "text/plain": [
       "457964"
      ]
     },
     "execution_count": 19,
     "metadata": {},
     "output_type": "execute_result"
    }
   ],
   "source": [
    "total_corpus_words"
   ]
  },
  {
   "cell_type": "code",
   "execution_count": 20,
   "metadata": {},
   "outputs": [
    {
     "name": "stdout",
     "output_type": "stream",
     "text": [
      "['SERIKALI', 'inastahili', 'kuingilia', 'kati', 'ili', 'kujua', 'kiini', 'cha', 'mauaji', 'ya', 'kiholela', 'yanayozidi', 'kushuhudiwa', 'nchini', ',', 'amesema', 'naibu', 'mkurugenzi', 'mkuu', 'wa', 'shirika', 'la', 'kutetea', 'haki', 'za', 'binadamu', 'la', 'Haki', 'Africa', ',', 'Bi', 'Salma', 'Hemed', ',', 'akilaani', 'tukio', 'la', 'kupotea', 'kwa', 'John', 'Maina', 'mkazi', 'wa', 'Naivasha', 'katika', 'hali', 'ya', 'kutatanisha', '.', 'Ilidaiwa', 'kuwa', 'mnamo', 'Novemba', '31', ',', '2021', ',', 'John', 'Maina', 'na', 'rafiki', 'yake', 'walikodisha', 'gari', 'dogo', 'ili', 'watumie', 'kuenda', 'kuhudhuria', 'kesi', 'fulani', 'katika', 'mahakama', 'ya', 'Naivasha', '.', 'Kulingana', 'na', 'familia', 'yake', 'marehemu', ',', 'alipotoweka', 'walilazimika', 'kuzuru', 'vituo', 'kadha', 'vya', 'polisi', 'kutafuta', 'mwili', 'wake', 'bila', 'mafanikio', 'yoyote', '.', 'Kulingana', 'na', 'Bi', 'Hemed', 'ni', 'kwamba', 'maafisa', 'wa', 'Haki', 'Africa', 'pamoja', 'na', 'familia', 'walifuatilia', 'kesi', 'hiyo', 'na', 'kugundua', 'ya', 'kwamba', 'mwili', 'wa', 'marehemu', 'ulikuwa', 'katika', 'chumba', 'cha', 'kuhifadhi', 'maiti', 'cha', 'General', 'Kago', ',', 'katika', 'hospitali', 'ya', 'Thika', 'Level', '5', 'mjini', 'Thika', '.', '“', 'Polisi', 'wanastahili', 'kuwa', 'mstari', 'wa', 'mbele', 'kuwasadia', 'wananchi', 'wakati', 'wa', 'shida', '.', 'Familia', 'ya', 'marehemu', 'ilimtafuta', 'katika', 'vituo', 'kadha', 'vya', 'polisi', 'na', 'hatimaye', 'mwili', 'ukapatikana', 'katika', 'chumba', 'cha', 'kuhifadhi', 'maiti', 'mjini', 'Thika', ',', '”', 'alilalamika', 'mkurugenzi', 'huyo', '.', 'Kulingana', 'na', 'ripoti', 'ya', 'daktari', 'mkuu', 'wa', 'upasuaji', 'Dkt', 'Johansen', 'Oduor', ',', 'mkono', 'wa', 'kushoto', 'wa', 'mhanga', 'ulikuwa', 'umekatwa', 'na', 'vile', 'vile', 'mguu', 'wake', ',', 'huku', 'sehemu', 'zake', 'za', 'siri', 'zikiwa', 'zimenyofolewa', '.', 'Aidha', ',', 'Bi', 'Hemed', 'alitaka', 'serikali', 'kuwa', 'macho', 'hasa', 'wakati', 'huu', 'wa', 'kuelekea', 'uchaguzi', 'mkuu', '.', '“', 'Kuna', 'haja', 'ya', 'serikali', 'kuweka', 'usalama', 'wa', 'kutosha', 'na', 'kuwa', 'macho', 'ili', 'kuwalinda', 'wananchi', 'kutokana', 'na', 'utekaji', 'nyara', ',', '”', 'alifafanua', 'naibu', 'mkurugenzi', 'huyo', '.', 'Aliiomba', 'serikali', 'kufanya', 'hima', 'kuona', 'ya', 'kwamba', 'haki', 'inatendeka', 'ili', 'kujua', 'ukweli', 'wa', 'mambo', '.', '“', 'Kulingana', 'na', 'jinsi', 'mwili', 'huo', 'ulivyo', ',', 'inaonyesha', 'wazi', 'ndugu', 'yetu', 'alitekwa', 'nyara', 'na', 'kuuawa', 'kinyama', 'kwa', 'sababu', 'kichwa', 'chake', 'kilipondwa', 'na', 'kifaa', 'butu', 'kwa', 'nyuma', 'jambo', 'lililofanya', 'avuje', 'damu', 'kwa', 'wingi', ',', '”', 'alifafanua', 'Bw', 'Kariuki', '.', 'Kile', 'ambacho', 'familia', 'hiyo', 'inaomba', 'ni', 'haki', 'itendeke', 'kwa', 'sababu', 'inaonekana', 'kuna', 'kikundi', 'cha', 'watu', 'fulani', 'ambao', 'wameamua', 'kuangamiza', 'wananchi', 'kiholela', '.']\n",
      "\n",
      " Number of Words:  328\n"
     ]
    }
   ],
   "source": [
    "file=\"22jan7_3.txt\"\n",
    "\n",
    "# calling the function and storing the contents in a text variable \n",
    "text = get_document(\"https://taifaleo.nation.co.ke/mwili-wa-aliyetekwa-nyara-naivasha-wapatikana-thika-familia-ikitaka-uchunguzi-wa-kina/\")\n",
    "\n",
    "# calling the store_ document function \n",
    "store_document(doc=text,name=file)\n",
    "\n",
    "#add the words in this file to the total_corpus_words, to keep count of the number of words in the corpus\n",
    "total_corpus_words+=total_words(file)"
   ]
  },
  {
   "cell_type": "code",
   "execution_count": 21,
   "metadata": {},
   "outputs": [
    {
     "data": {
      "text/plain": [
       "458292"
      ]
     },
     "execution_count": 21,
     "metadata": {},
     "output_type": "execute_result"
    }
   ],
   "source": [
    "total_corpus_words"
   ]
  },
  {
   "cell_type": "code",
   "execution_count": 24,
   "metadata": {},
   "outputs": [
    {
     "name": "stdout",
     "output_type": "stream",
     "text": [
      "['Katika', 'mkutano', 'wa', 'eneobunge', 'la', 'Nyaribari', 'Chache', ',', 'kaunti', 'ya', 'Kisii', ',', 'Bw', 'Onyonka', 'alikashifu', 'kauli', 'ya', '‘', 'madoadoa', '’', 'iliyotolewa', 'na', 'Seneta', 'wa', 'Meru', 'Mithika', 'Linturi', '.', 'Pia', 'alimkemea', 'Naibu', 'Rais', 'William', 'Ruto', '.', '“', 'Ningependa', 'kumwambia', 'ndugu', 'yangu', 'William', 'Ruto', ',', 'usijaribu', 'kuharibu', 'Kenya', 'kama', 'nchi', 'kwa', 'sababu', 'unataka', 'uongozi', 'kwa', 'kifua', '.', 'Mkisii', 'anajitafutia', '.', 'Mkisii', 'amejipanga', 'Kenya', 'nzima', '.', 'Ukigusa', 'Mkisii', 'tutakutafuta', 'hata', 'wewe', 'mahali', 'utakuwa…', 'Wakati', 'huu', 'ukigusa', 'Mkisii', 'hata', 'mmoja', 'hutaweza', 'kuja', 'hapa', 'Kisii', ',', '”', 'Bw', 'Onyonka', 'akasema', '.', 'Video', 'yenye', 'maneno', 'hayo', 'ilianza', 'kusambazwa', 'mitandaoni', 'na', 'baada', 'ya', 'DPP', 'kuiona', ',', 'alitaka', 'mbunge', 'huyo', 'achunguzwe', 'na', 'faili', 'yake', 'kupeanwa', 'kwa', 'afisi', 'yake', 'ndani', 'ya', 'kipindi', 'cha', 'siku', 'saba', '.', '“', 'Marejeleo', 'yanafanywa', 'kufuatia', 'video', 'inayozunguka', 'kwenye', 'mitandao', 'ya', 'kijamii', 'ambapo', 'Bw', 'Onyonka', 'anahutubia', 'umati', 'katika', 'kaunti', 'ya', 'Kisii', '.', 'Kauli', 'kwenye', 'video', 'hiyo', 'zinaweza', 'kuwa', 'zinakiuka', 'Katiba', 'ya', 'Kenya', 'ya', 'mwaka', '2010', ',', '”', 'ikasema', 'sehemu', 'ya', 'barua', 'ya', 'Bw', 'Haji', '.', 'Alipojiwasilisha', 'katika', 'kituo', 'cha', 'polisi', ',', 'aliandamana', 'na', 'mbunge', 'wa', 'Dagoretti', 'Kaskazini', 'Simba', 'Arati', ',', 'pamoja', 'na', 'mawakili', 'wake', 'wakiongozwa', 'na', 'Mabw', 'Wilkins', 'Ochoki', 'na', 'Ratemo', 'Ombui', '.', 'Aliandikisha', 'taarifa', 'fupi', 'kwa', 'maafisa', 'wa', 'upelelezi', 'na', 'kuachiliwa', '.', 'Mawakili', 'hao', 'walisema', 'mkuu', 'wa', 'idara', 'ya', 'upelelezi', 'eneo', 'la', 'Kisii', 'Bi', 'Beatrice', 'Kabaila', 'aliwaashiria', 'kwamba', 'huenda', 'Bw', 'Onyonka', 'akatakiwa', 'kufika', 'katika', 'makao', 'makuu', 'ya', 'DCI', 'jijini', 'Nairobi', 'kutoa', 'taarifa', 'zaidi', '.']\n",
      "\n",
      " Number of Words:  230\n"
     ]
    }
   ],
   "source": [
    "file=\"22jan11_1.txt\"\n",
    "\n",
    "# calling the function and storing the contents in a text variable \n",
    "text = get_document(\"https://taifaleo.nation.co.ke/mbunge-richard-onyonka-akamatwa-kwa-kutoa-matamshi-ya-chuki/\")\n",
    "\n",
    "# calling the store_ document function \n",
    "store_document(doc=text,name=file)\n",
    "\n",
    "#add the words in this file to the total_corpus_words, to keep count of the number of words in the corpus\n",
    "total_corpus_words+=total_words(file)"
   ]
  },
  {
   "cell_type": "code",
   "execution_count": 25,
   "metadata": {},
   "outputs": [
    {
     "data": {
      "text/plain": [
       "458522"
      ]
     },
     "execution_count": 25,
     "metadata": {},
     "output_type": "execute_result"
    }
   ],
   "source": [
    "total_corpus_words"
   ]
  },
  {
   "cell_type": "code",
   "execution_count": 26,
   "metadata": {},
   "outputs": [
    {
     "name": "stdout",
     "output_type": "stream",
     "text": [
      "['Familia', 'kortini', 'kupinga', 'hatua', 'ya', 'kuwahamisha', 'FAMILIA', 'zaidi', 'ya', '2,500', 'katika', 'eneo', 'la', 'Mutomo', ',', 'Gatundu', 'Kusini', ',', 'Kaunti', 'ya', 'Kiambu', ',', 'zimepinga', 'mpango', 'wa', 'kuwahamisha', 'kupisha', 'upanuzi', 'wa', 'Chuo', 'Kikuu', 'cha', 'Mama', 'Ngina', '.', 'Familia', 'hizo', 'zimeenda', 'kortini', 'huku', 'zikisema', 'kuwa', 'hazikushauriwa', 'kabla', 'ya', 'serikali', 'kufikia', 'uamuzi', 'wa', 'kuwataka', 'kuhama', 'kutoka', 'kwenye', 'ardhi', 'ya', 'jumla', 'ya', 'ekari', '100', '.', 'Wameshtaki', 'Tume', 'ya', 'Ardhi', 'ya', 'Kitaifa', '(', 'NLC', ')', ',', 'Chuo', 'Kikuu', 'cha', 'Mama', 'Ngina', ',', 'Chuo', 'Kikuu', 'cha', 'Kenyatta', 'na', 'Wizara', 'ya', 'Elimu', '.', 'Kesi', 'hiyo', 'iliwasilishwa', 'katika', 'Mahakama', 'ya', 'Ardhi', 'mjini', 'Thika', '.', 'Wanataka', 'serikali', 'ipigwe', 'breki', 'kutwaa', 'ardhi', 'hiyo', 'wakisema', 'kuwa', 'wengi', 'wa', 'walalamishi', 'ni', 'wazee', 'na', 'wengine', 'wamezika', 'jamaa', 'zao', 'hapo', '.', '“', 'Familia', 'nyingi', 'zimezika', 'wapendwa', 'wao', 'katika', 'ardhi', 'hiyo', 'na', 'itakuwa', 'kinyume', 'cha', 'utamaduni', 'na', 'utu', 'kufukua', 'miili', 'ya', 'jamaa', 'zao', 'na', 'kuihamishia', 'kwingineko', '.', '“', 'Wengi', 'wetu', 'ni', 'wazee', 'wa', 'kati', 'ya', 'umri', 'wa', 'miaka', '60', 'na', '100', 'na', 'wanategemea', 'jamaa', 'zao', 'kupata', 'matibabu', 'na', 'riziki', 'ya', 'kila', 'siku', '.', 'Huwezi', 'kuhamisha', 'wazee', 'kwenda', 'kuanza', 'maisha', 'upya', ',', '”', 'zinasema', 'familia', 'hizo', '.', 'Wakazi', 'hao', 'wanasema', 'kuwa', 'walipigwa', 'na', 'butwaa', 'walipoona', 'ardhi', 'yao', 'ikichapishwa', 'katika', 'Gazeti', 'Rasmi', 'la', 'Serikali', 'nambari', 'CXXIII', 'mnamo', 'Septemba', '27', ',', 'mwaka', 'jana', '.', 'Taarifa', 'hiyo', 'ya', 'Gazeti', 'Rasmi', 'la', 'Serikali', 'iliwataka', 'kuhama', 'na', 'kusalimisha', 'mashamba', 'yao', 'kwa', 'usimamizi', 'wa', 'Chuo', 'Kikuu', '.', '“', 'Kulikuwa', 'na', 'orodha', 'ya', 'majina', ',', 'nambari', 'za', 'ardhi', 'na', 'ukubwa', 'wa', 'eneo', 'linalofaa', 'kutwaliwa', 'kwa', 'lazima', ',', '”', 'wanasema', 'wakazi', 'hao', 'kupitia', 'stakabadhi', 'walizowasilisha', 'mahakamani', '.', 'Mnamo', 'Desemba', '20', ',', 'mwaka', 'jana', ',', 'NLC', 'ilichapisha', 'notisi', 'nyingine', 'kwa', 'niaba', 'ya', 'Wizara', 'ya', 'Elimu', 'ikiwataka', 'wakazi', '160', 'kuhudhuria', 'mkutano', 'wa', 'kusikiliza', 'malalamishi', 'yao', 'kuhusu', 'fidia', '.', 'Mkutano', 'huo', 'utafanyika', 'kati', 'ya', 'Jumanne', ',', 'Januari', '25', ',', 'na', 'Ijumaa', ',', 'Januari', '28', ',', 'katika', 'afisi', 'ya', 'chifu', 'wa', 'Mutomo', '.', '“', 'Mtu', 'anayedai', 'fidia', 'ya', 'ardhi', 'yake', ',', 'awasilishe', 'malalamishi', 'kwa', 'njia', 'ya', 'maandishi', 'na', 'aambatanishe', 'nakala', 'ya', 'kitambulisho', 'cha', 'kitaifa', ',', 'nambari', 'ya', 'Mamlaka', 'ya', 'Ushuru', '(', 'KRA', ')', ',', 'hatimiliki', 'na', 'namba', 'ya', 'akaunti', 'ya', 'benki', ',', '”', 'ilisema', 'notisi', 'hiyo', '.', 'Familia', 'hizo', 'sasa', 'zinataka', 'shughuli', 'hiyo', 'kusitishwa', 'ili', 'kutoa', 'nafasi', 'kwa', 'majadiliano', 'zaidi', '.', '“', 'Walalamishi', 'ndio', 'wamiliki', 'halali', 'wa', 'ardhi', 'hiyo', 'lakini', 'hawajawahi', 'kushauriwa', 'na', 'NLC', 'au', 'usimamizi', 'wa', 'Chuo', 'Kikuu', 'cha', 'Mama', 'Ngina', ',', '”', 'wanasema', '.', 'Kesi', 'hiyo', 'iliwasilishwa', 'mbele', 'ya', 'Jaji', 'B.M', 'Eboso', 'mnamo', 'Novemba', ',', 'mwaka', 'jana', '.', 'Mwanasheria', 'Mkuu', 'Kihara', 'Kariuki', ',', 'amepinga', 'vikali', 'ombi', 'la', 'familia', 'hizo', 'huku', 'akisisitiza', 'kuwa', 'serikali', 'ina', 'uwezo', 'wa', 'kuchukua', 'kipande', 'cha', 'ardhi', 'kwa', 'nguvu', 'kwa', 'mujibu', 'wa', 'Kifungu', 'cha', '40', '(', '3', ')', 'cha', 'Katiba', 'na', 'Sheria', 'ya', 'Ardhi', 'ya', '2012', '.', 'Pia', 'anasema', 'kuwa', 'masuala', 'yanayolalamikiwa', 'yangali', 'yanajadiliwa', 'hivyo', 'ni', 'mapema', 'kukimbilia', 'kortini', '.', 'Anasema', 'masuala', 'hayo', 'yatapata', 'ufumbuzi', 'hivyo', 'hakuna', 'haja', 'ya', 'kwenda', 'mahakamani', '.']\n",
      "\n",
      " Number of Words:  468\n"
     ]
    }
   ],
   "source": [
    "file=\"22jan12_1.txt\"\n",
    "\n",
    "# calling the function and storing the contents in a text variable \n",
    "text = get_document(\"https://taifaleo.nation.co.ke/familia-kortini-kupinga-hatua-ya-kuwahamisha/\")\n",
    "\n",
    "# calling the store_ document function \n",
    "store_document(doc=text,name=file)\n",
    "\n",
    "#add the words in this file to the total_corpus_words, to keep count of the number of words in the corpus\n",
    "total_corpus_words+=total_words(file)"
   ]
  },
  {
   "cell_type": "code",
   "execution_count": 27,
   "metadata": {},
   "outputs": [
    {
     "data": {
      "text/plain": [
       "458990"
      ]
     },
     "execution_count": 27,
     "metadata": {},
     "output_type": "execute_result"
    }
   ],
   "source": [
    "total_corpus_words"
   ]
  },
  {
   "cell_type": "code",
   "execution_count": 29,
   "metadata": {},
   "outputs": [
    {
     "name": "stdout",
     "output_type": "stream",
     "text": [
      "['Familia', 'kortini', 'kupinga', 'hatua', 'ya', 'kuwahamisha', 'FAMILIA', 'zaidi', 'ya', '2,500', 'katika', 'eneo', 'la', 'Mutomo', ',', 'Gatundu', 'Kusini', ',', 'Kaunti', 'ya', 'Kiambu', ',', 'zimepinga', 'mpango', 'wa', 'kuwahamisha', 'kupisha', 'upanuzi', 'wa', 'Chuo', 'Kikuu', 'cha', 'Mama', 'Ngina', '.', 'Familia', 'hizo', 'zimeenda', 'kortini', 'huku', 'zikisema', 'kuwa', 'hazikushauriwa', 'kabla', 'ya', 'serikali', 'kufikia', 'uamuzi', 'wa', 'kuwataka', 'kuhama', 'kutoka', 'kwenye', 'ardhi', 'ya', 'jumla', 'ya', 'ekari', '100', '.', 'Wameshtaki', 'Tume', 'ya', 'Ardhi', 'ya', 'Kitaifa', '(', 'NLC', ')', ',', 'Chuo', 'Kikuu', 'cha', 'Mama', 'Ngina', ',', 'Chuo', 'Kikuu', 'cha', 'Kenyatta', 'na', 'Wizara', 'ya', 'Elimu', '.', 'Kesi', 'hiyo', 'iliwasilishwa', 'katika', 'Mahakama', 'ya', 'Ardhi', 'mjini', 'Thika', '.', 'Wanataka', 'serikali', 'ipigwe', 'breki', 'kutwaa', 'ardhi', 'hiyo', 'wakisema', 'kuwa', 'wengi', 'wa', 'walalamishi', 'ni', 'wazee', 'na', 'wengine', 'wamezika', 'jamaa', 'zao', 'hapo', '.', '“', 'Familia', 'nyingi', 'zimezika', 'wapendwa', 'wao', 'katika', 'ardhi', 'hiyo', 'na', 'itakuwa', 'kinyume', 'cha', 'utamaduni', 'na', 'utu', 'kufukua', 'miili', 'ya', 'jamaa', 'zao', 'na', 'kuihamishia', 'kwingineko', '.', '“', 'Wengi', 'wetu', 'ni', 'wazee', 'wa', 'kati', 'ya', 'umri', 'wa', 'miaka', '60', 'na', '100', 'na', 'wanategemea', 'jamaa', 'zao', 'kupata', 'matibabu', 'na', 'riziki', 'ya', 'kila', 'siku', '.', 'Huwezi', 'kuhamisha', 'wazee', 'kwenda', 'kuanza', 'maisha', 'upya', ',', '”', 'zinasema', 'familia', 'hizo', '.', 'Wakazi', 'hao', 'wanasema', 'kuwa', 'walipigwa', 'na', 'butwaa', 'walipoona', 'ardhi', 'yao', 'ikichapishwa', 'katika', 'Gazeti', 'Rasmi', 'la', 'Serikali', 'nambari', 'CXXIII', 'mnamo', 'Septemba', '27', ',', 'mwaka', 'jana', '.', 'Taarifa', 'hiyo', 'ya', 'Gazeti', 'Rasmi', 'la', 'Serikali', 'iliwataka', 'kuhama', 'na', 'kusalimisha', 'mashamba', 'yao', 'kwa', 'usimamizi', 'wa', 'Chuo', 'Kikuu', '.', '“', 'Kulikuwa', 'na', 'orodha', 'ya', 'majina', ',', 'nambari', 'za', 'ardhi', 'na', 'ukubwa', 'wa', 'eneo', 'linalofaa', 'kutwaliwa', 'kwa', 'lazima', ',', '”', 'wanasema', 'wakazi', 'hao', 'kupitia', 'stakabadhi', 'walizowasilisha', 'mahakamani', '.', 'Mnamo', 'Desemba', '20', ',', 'mwaka', 'jana', ',', 'NLC', 'ilichapisha', 'notisi', 'nyingine', 'kwa', 'niaba', 'ya', 'Wizara', 'ya', 'Elimu', 'ikiwataka', 'wakazi', '160', 'kuhudhuria', 'mkutano', 'wa', 'kusikiliza', 'malalamishi', 'yao', 'kuhusu', 'fidia', '.', 'Mkutano', 'huo', 'utafanyika', 'kati', 'ya', 'Jumanne', ',', 'Januari', '25', ',', 'na', 'Ijumaa', ',', 'Januari', '28', ',', 'katika', 'afisi', 'ya', 'chifu', 'wa', 'Mutomo', '.', '“', 'Mtu', 'anayedai', 'fidia', 'ya', 'ardhi', 'yake', ',', 'awasilishe', 'malalamishi', 'kwa', 'njia', 'ya', 'maandishi', 'na', 'aambatanishe', 'nakala', 'ya', 'kitambulisho', 'cha', 'kitaifa', ',', 'nambari', 'ya', 'Mamlaka', 'ya', 'Ushuru', '(', 'KRA', ')', ',', 'hatimiliki', 'na', 'namba', 'ya', 'akaunti', 'ya', 'benki', ',', '”', 'ilisema', 'notisi', 'hiyo', '.', 'Familia', 'hizo', 'sasa', 'zinataka', 'shughuli', 'hiyo', 'kusitishwa', 'ili', 'kutoa', 'nafasi', 'kwa', 'majadiliano', 'zaidi', '.', '“', 'Walalamishi', 'ndio', 'wamiliki', 'halali', 'wa', 'ardhi', 'hiyo', 'lakini', 'hawajawahi', 'kushauriwa', 'na', 'NLC', 'au', 'usimamizi', 'wa', 'Chuo', 'Kikuu', 'cha', 'Mama', 'Ngina', ',', '”', 'wanasema', '.', 'Kesi', 'hiyo', 'iliwasilishwa', 'mbele', 'ya', 'Jaji', 'B.M', 'Eboso', 'mnamo', 'Novemba', ',', 'mwaka', 'jana', '.', 'Mwanasheria', 'Mkuu', 'Kihara', 'Kariuki', ',', 'amepinga', 'vikali', 'ombi', 'la', 'familia', 'hizo', 'huku', 'akisisitiza', 'kuwa', 'serikali', 'ina', 'uwezo', 'wa', 'kuchukua', 'kipande', 'cha', 'ardhi', 'kwa', 'nguvu', 'kwa', 'mujibu', 'wa', 'Kifungu', 'cha', '40', '(', '3', ')', 'cha', 'Katiba', 'na', 'Sheria', 'ya', 'Ardhi', 'ya', '2012', '.', 'Pia', 'anasema', 'kuwa', 'masuala', 'yanayolalamikiwa', 'yangali', 'yanajadiliwa', 'hivyo', 'ni', 'mapema', 'kukimbilia', 'kortini', '.', 'Anasema', 'masuala', 'hayo', 'yatapata', 'ufumbuzi', 'hivyo', 'hakuna', 'haja', 'ya', 'kwenda', 'mahakamani', '.']\n",
      "\n",
      " Number of Words:  468\n"
     ]
    }
   ],
   "source": [
    "file=\"22jan12_2.txt\"\n",
    "\n",
    "# calling the function and storing the contents in a text variable \n",
    "text = get_document(\"https://taifaleo.nation.co.ke/familia-kortini-kupinga-hatua-ya-kuwahamisha-2/\")\n",
    "\n",
    "# calling the store_ document function \n",
    "store_document(doc=text,name=file)\n",
    "\n",
    "#add the words in this file to the total_corpus_words, to keep count of the number of words in the corpus\n",
    "total_corpus_words+=total_words(file)"
   ]
  },
  {
   "cell_type": "code",
   "execution_count": 30,
   "metadata": {},
   "outputs": [
    {
     "data": {
      "text/plain": [
       "459458"
      ]
     },
     "execution_count": 30,
     "metadata": {},
     "output_type": "execute_result"
    }
   ],
   "source": [
    "total_corpus_words"
   ]
  },
  {
   "cell_type": "code",
   "execution_count": 31,
   "metadata": {},
   "outputs": [
    {
     "name": "stdout",
     "output_type": "stream",
     "text": [
      "['Serikali', 'yajizatiti', 'kukamilisha', 'miradi', 'ya', 'Uhuru', 'SERIKALI', 'inaharakisha', 'kukamilishwa', 'kwa', 'miradi', 'ya', 'uwekezaji', 'iliyoanzishwa', 'na', 'Rais', 'Uhuru', 'Kenyatta', 'yenye', 'thamani', 'ya', 'Sh1.4', 'trilioni', 'katika', 'eneo', 'la', 'pwani', '.', 'Miradi', 'hiyo', 'inalenga', 'kuimarisha', 'biashara', ',', 'utalii', 'na', 'kuunda', 'nafasi', 'za', 'ajira', '.', '“', 'Bandari', 'ya', 'Mombasa', 'ni', 'kituo', 'muhimu', 'cha', 'kiuchumi', 'humu', 'nchini', 'hivyo', 'basi', 'utendakazi', 'wake', 'una', 'umuhimu', 'mkubwa', ',', '”', 'alisema', 'Dkt', 'Karanja', 'Kibicho', 'ambaye', 'ni', 'mwenyekiti', 'wa', 'Kamati', 'ya', 'Kiufundi', 'kuhusu', 'Utekelezaji', 'wa', 'Maendeleo', 'Nchini', '(', 'NDITC', ')', '.']\n",
      "\n",
      " Number of Words:  81\n"
     ]
    }
   ],
   "source": [
    "file=\"22jan12_3.txt\"\n",
    "\n",
    "# calling the function and storing the contents in a text variable \n",
    "text = get_document(\"https://taifaleo.nation.co.ke/serikali-yajizatiti-kukamilisha-miradi-ya-uhuru/\")\n",
    "\n",
    "# calling the store_ document function \n",
    "store_document(doc=text,name=file)\n",
    "\n",
    "#add the words in this file to the total_corpus_words, to keep count of the number of words in the corpus\n",
    "total_corpus_words+=total_words(file)"
   ]
  },
  {
   "cell_type": "code",
   "execution_count": 32,
   "metadata": {},
   "outputs": [
    {
     "data": {
      "text/plain": [
       "459539"
      ]
     },
     "execution_count": 32,
     "metadata": {},
     "output_type": "execute_result"
    }
   ],
   "source": [
    "total_corpus_words"
   ]
  },
  {
   "cell_type": "code",
   "execution_count": 33,
   "metadata": {},
   "outputs": [
    {
     "name": "stdout",
     "output_type": "stream",
     "text": [
      "['Kitengo', 'cha', 'matibabu', 'cha', 'Uhuru', 'Kenyatta', 'Wing', 'chazinduliwa', 'Ruiru', 'Gavana', 'huyo', 'alieleza', 'kuwa', 'kutokana', 'na', 'idadi', 'kubwa', 'ya', 'watu', 'katika', 'kaunti', 'ndogo', 'ya', 'Ruiru', ',', 'hospitali', 'hiyo', 'itaweza', 'kujisimamia', 'hasa', 'katika', 'maswala', 'ya', 'matibabu', '.', 'Kwa', 'wakati', 'huu', ',', 'hospitali', 'hiyo', 'ina', 'wauguzi', 'wapatao', '200', 'na', 'madaktari', 'wa', 'kutosha', 'ambao', 'wataweza', 'kuwahudumia', 'wagonjwa', 'watakaofika', 'huko', 'kupokea', 'matibabu', '.', 'Alieleza', 'kuwa', 'kwa', 'muda', 'wa', 'miaka', 'miwili', ',', 'huduma', 'za', 'matibabu', 'zimeimarika', 'vilivyo', 'katika', 'kaunti', 'ya', 'Kiambu', '.', 'Afisa', 'mkuu', 'wa', 'maswala', 'ya', 'afya', 'katika', 'kaunti', 'Dkt', 'Patrick', 'Nyagah', ',', 'alisema', 'ifikapo', 'mwezi', 'Agosti', ',', 'hospitali', 'ya', 'Ruiru', 'itajisimamia', 'yenyewe', 'ambapo', 'itaweza', 'kutekeleza', 'huduma', '400', 'za', 'upasuaji', 'kwa', 'mwezi', 'baada', 'ya', 'madaktari', 'wa', 'kutosha', 'kuletwa', '.', 'Alieleza', 'kuwa', 'kaunti', 'ya', 'Kiambu', 'itaweka', 'bohari', 'kubwa', 'la', 'kuhifadhi', 'dawa', '.']\n",
      "\n",
      " Number of Words:  126\n"
     ]
    }
   ],
   "source": [
    "file=\"22jan12_4.txt\"\n",
    "\n",
    "# calling the function and storing the contents in a text variable \n",
    "text = get_document(\"https://taifaleo.nation.co.ke/kitengo-cha-matibabu-cha-uhuru-kenyatta-wing-chazinduliwa-ruiru/\")\n",
    "\n",
    "# calling the store_ document function \n",
    "store_document(doc=text,name=file)\n",
    "\n",
    "#add the words in this file to the total_corpus_words, to keep count of the number of words in the corpus\n",
    "total_corpus_words+=total_words(file)"
   ]
  },
  {
   "cell_type": "code",
   "execution_count": 34,
   "metadata": {},
   "outputs": [
    {
     "data": {
      "text/plain": [
       "459665"
      ]
     },
     "execution_count": 34,
     "metadata": {},
     "output_type": "execute_result"
    }
   ],
   "source": [
    "total_corpus_words"
   ]
  },
  {
   "cell_type": "code",
   "execution_count": 36,
   "metadata": {},
   "outputs": [
    {
     "name": "stdout",
     "output_type": "stream",
     "text": [
      "['Shule', 'za', 'upili', 'kuorodheshwa', 'kwa', 'uwezo', 'wa', 'CBC', 'SHULE', 'za', 'upili', 'za', 'kiwango', 'cha', 'chini', 'zitaorodheshwa', 'kulingana', 'na', 'idadi', 'ya', 'vifaa', 'zilivyo', 'navyo', 'kuwawezesha', 'wanafunzi', 'kuendelea', 'na', 'masomo', 'ya', 'Umilisi', 'na', 'Utendaji', '(', 'CBC', ')', '.', 'Kulingana', 'na', 'Waziri', 'wa', 'Elimu', ',', 'Prof', 'George', 'Magoha', ',', 'viwango', 'vitatu', 'ambavyo', 'vitazingatiwa', 'katika', 'kuamua', 'mwelekeo', 'wa', 'kitaaluma', 'wa', 'mwanafunzi', 'ni', 'sanaa', 'na', 'sayansi', 'ya', 'michezo', ',', 'sayansi', 'ya', 'jamii', 'na', 'sayansi', 'ya', 'jamii', ',', 'teknolojia', ',', 'uhandisi', 'na', 'hisabati', '(', 'STEM', ')', '.', 'Kwenye', 'ziara', 'katika', 'Kaunti', 'ya', 'Nyeri', 'jana', 'Jumatano', ',', 'Prof', 'Magoha', 'alisema', 'shule', 'zenye', 'vifaa', 'na', 'miundomsingi', 'bora', 'zitafunza', 'viwango', 'vyote', 'vitatu', ',', 'huku', 'zile', 'zenye', 'uwezo', 'wa', 'kadri', 'zikifunza', 'viwango', 'viwili', '.', 'Shule', 'zilizoorodheshwa', 'kuwa', 'za', 'kiwango', 'cha', 'kadri', 'ni', 'za', 'kutwa', 'na', 'baadhi', 'ya', 'zile', 'za', 'mabweni', '.', '“', 'Pengine', 'hatutatumia', 'utaratibu', 'wa', 'awali', 'kama', 'vile', 'shule', 'za', 'kitaifa', ',', 'kaunti', 'au', 'wilaya', '.', 'Hata', 'hivyo', ',', 'ikiwa', 'zitakuwa', 'na', 'uwezo', 'wa', 'kufunza', 'masomo', 'hayo', 'yote', ',', 'basi', 'huenda', 'zikaorodheshwa', 'kwa', 'mfumo', 'huo', ',', '”', 'akasema', '.', 'Hilo', 'linamaanisha', 'kuwa', 'shule', 'zote', '103', 'za', 'kitaifa', 'na', 'kiwango', 'cha', 'kaunti', 'zitakuwa', 'zikitoa', 'mafunzo', 'kwa', 'viwango', 'vyote', 'vitatu', 'vya', 'masomo', 'huku', 'zile', 'ndogo', 'zikitoa', 'mafunzo', 'kwa', 'viwango', 'viwili', 'pekee', '.', 'Wanafunzi', 'wa', 'Gredi', 'ya', 'Sita', 'wanatarajiwa', 'kujiunga', 'na', 'Shule', 'ya', 'Upili', 'ya', 'Kiwango', 'cha', 'Chini', 'baada', 'ya', 'kumaliza', 'mitihani', 'yao', '.', 'Wanafunzi', 'hao', ',', 'ambao', 'walisoma', 'kwa', 'miaka', 'miwili', 'katika', 'kiwango', 'cha', 'chekechea', ',', 'watasoma', 'miaka', 'sita', 'katika', 'shule', 'ya', 'msingi', ',', 'miaka', 'sita', 'katika', 'shule', 'ya', 'upili', 'na', 'miaka', 'mitatu', 'katika', 'chuo', 'kikuu', 'na', 'taasisi', 'nyingine', 'za', 'masomo', 'ya', 'juu', '.', 'Wanafunzi', 'walio', 'katika', 'Gredi', 'za', 'Nne', 'na', 'Tano', 'watafanya', 'mitihani', 'yao', 'ya', 'kitaifa', 'kati', 'ya', 'Januari', '31', 'na', 'Februari', '4', '.', 'Hili', 'ni', 'baada', 'ya', 'kufanya', 'mitihani', 'tekelezi', 'kati', 'ya', 'Oktoba', 'na', 'Desemba', '2021', '.', 'Mitihani', 'hiyo', 'itachangia', 'asilimia', '20', 'ya', 'alama', 'zao', 'za', 'mwisho', 'watakazopata', 'kwenye', 'mtihani', 'wa', 'Gredi', 'ya', 'Sita', '.', 'Mtihani', 'wa', 'mwisho', 'utachangia', 'asilimia', '40', 'ya', 'jumla', 'ya', 'alama', 'zao', '.', 'Kuhusu', 'ujenzi', 'wa', 'madarasa', 'ya', 'shule', 'hizo', 'za', 'upili', ',', 'waziri', 'alisema', 'ujenzi', 'wa', 'baadhi', 'ya', 'madarasa', 'ushakamilika', '.']\n",
      "\n",
      " Number of Words:  347\n"
     ]
    }
   ],
   "source": [
    "file=\"22jan13.txt\"\n",
    "\n",
    "# calling the function and storing the contents in a text variable \n",
    "text = get_document(\"https://taifaleo.nation.co.ke/shule-za-upili-kuorodheshwa-kwa-uwezo-wa-cbc/\")\n",
    "\n",
    "# calling the store_ document function \n",
    "store_document(doc=text,name=file)\n",
    "\n",
    "#add the words in this file to the total_corpus_words, to keep count of the number of words in the corpus\n",
    "total_corpus_words+=total_words(file)"
   ]
  },
  {
   "cell_type": "code",
   "execution_count": 37,
   "metadata": {},
   "outputs": [
    {
     "data": {
      "text/plain": [
       "460012"
      ]
     },
     "execution_count": 37,
     "metadata": {},
     "output_type": "execute_result"
    }
   ],
   "source": [
    "total_corpus_words"
   ]
  },
  {
   "cell_type": "code",
   "execution_count": 41,
   "metadata": {},
   "outputs": [
    {
     "name": "stdout",
     "output_type": "stream",
     "text": [
      "['Idara', 'yaonya', 'kuhusu', 'wahubiri', 'bandia', 'Kilifi', 'IDARA', 'ya', 'watoto', 'katika', 'Kaunti', 'ya', 'Kilifi', ',', 'imetoa', 'tahadhari', 'kuhusu', 'ongezeko', 'la', 'visa', 'ambapo', 'wazazi', 'huwapeleka', 'watoto', 'waombewe', 'wanapougua', 'badala', 'ya', 'kuwapeleka', 'hospitalini', '.', 'Maafisa', 'wa', 'idara', 'hiyo', 'wanaamini', 'kuwa', 'hali', 'hiyo', 'imechangiwa', 'na', 'ongezeko', 'la', 'wahubiri', 'wanaodai', 'kuwa', 'na', 'nguvu', 'za', 'kuponya', 'magonjwa', 'mbalimbali', 'eneo', 'hilo', '.', 'Wazazi', 'wakati', 'mwingi', 'hushawishika', 'kuwapeleka', 'watoto', 'waombewe', 'kwa', 'vile', 'wahubiri', 'huwaambia', 'kwamba', 'wamerogwa', 'na', 'watu', 'wanaodaiwa', 'kuwa', 'ni', 'wachawi', '.', 'Eneo', 'la', 'Kilifi', 'ni', 'miongoni', 'mwa', 'mengine', 'nchini', 'ambapo', 'suala', 'la', 'uchawi', 'limekita', 'mizizi', '.', 'Mshirikishi', 'wa', 'masuala', 'ya', 'watoto', 'katika', 'kaunti', 'hiyo', ',', 'Bw', 'George', 'Migosi', ',', 'alisema', 'mienendo', 'hii', 'imechangia', 'pia', 'kuvunja', 'ndoa', 'kwani', 'wazazi', 'hukosa', 'kuelewana', 'wakati', 'mmoja', 'anapotaka', 'mtoto', 'atibiwe', 'hospitalini', ',', 'na', 'mwingine', 'hutaka', 'apelekwe', 'kwa', 'maombi', '.', 'Alionya', 'wahubiri', 'aina', 'hiyo', 'kwamba', 'wataanza', 'kuchukuliwa', 'hatua', 'za', 'kisheria', '.', '“', 'Tumekuwa', 'na', 'changamoto', 'kubwa', 'ambayo', 'imezidi', 'kuathiri', 'afya', 'ya', 'watoto', '.', 'Hawapati', 'matibabu', 'bora', 'kwa', 'sababu', 'wazazi', 'hawataki', 'kuwapeleka', 'hospitalini', 'wakifuata', 'imani', 'potovu', ',', '”', 'akasema', '.', 'Bw', 'Migosi', 'alisema', 'kuwa', 'wahubiri', 'hao', 'wenye', 'imani', 'potovu', 'huwahadaa', 'wazazi', 'hata', 'kususia', 'kuwapeleka', 'watoto', 'wao', 'kupata', 'chanjo', 'muhimu', 'zinazotolewa', 'na', 'serikali', 'kuwakinga', 'dhidi', 'ya', 'magonjwa', 'hatari', '.', 'Wakati', 'mwingine', ',', 'huwa', 'inawalazimu', 'maafisa', 'ya', 'idara', 'ya', 'watoto', 'kuwachukulia', 'hatua', 'za', 'kisheria', 'wazazi', 'hao', '.', '“', 'Wazazi', 'wengi', 'husema', 'kuwa', 'kuna', 'mwombaji', 'mahali', 'fulani', 'ambaye', 'huwa', 'wanapeleka', 'watoto', 'wakiwa', 'wagonjwa', '.', 'Wengine', 'hata', 'huzidiwa', 'na', 'ugonjwa', 'na', 'kufa', ',', '”', 'akasema', '.', 'Alisema', 'wagonjwa', 'wanastahili', 'kushughulikiwa', 'katika', 'kituo', 'cha', 'afya', 'kinachotambulika', 'na', 'wizara', 'ya', 'afya', 'wala', 'sio', 'katika', 'makanisa', 'ya', 'uongo', 'na', 'majumbani', 'mwa', 'wahubiri', '.', '“', 'Watoto', 'hawajui', 'kutofautisha', 'jambo', 'baya', 'na', 'zuri', ',', 'na', 'hii', 'ndio', 'sababu', 'wanalindwa', 'na', 'sheria', '.', 'Wakipata', 'mtu', 'mzima', 'anayetaka', 'kuwapotosha', ',', 'watamfuata', 'bila', 'kujua', 'wanachofanya', ',', '”', 'akasema', 'Bw', 'Migosi', '.', 'Alitoa', 'mfano', 'wa', 'kanisa', 'moja', 'maarufu', 'eneo', 'la', 'Malindi', 'ambapo', 'mhubiri', 'aliwahi', 'kukamatwa', 'na', 'kushtakiwa', 'kwa', 'kuwakataza', 'wazazi', 'kuwapeleka', 'shuleni', 'na', 'hospitalini', '.', 'Kulingana', 'naye', ',', 'mhubiri', 'huyo', 'alitoa', 'mafunzo', 'ya', 'kupotosha', 'ya', 'kidini', 'na', 'kuvunja', 'familia', 'na', 'ndoa', 'nyingi', '.', '“', 'Tunajua', 'familia', 'nyingi', 'ambazo', 'zilivunjika', 'kwa', 'sababu', 'baba', 'anataka', 'watoto', 'waende', 'shuleni', 'lakini', 'mama', 'anakataa', 'kwa', 'sababu', 'ni', 'mfuasi', 'wa', 'kanisa', 'hilo', '.', 'Kuna', 'familia', 'nyingine', 'ambapo', 'wamama', 'walitoroka', 'na', 'watoto', 'na', 'hadi', 'wa', 'leo', 'hawajulikani', 'waliko', ',', '”', 'akasema', '.', 'Alionya', 'wakazi', 'dhidi', 'ya', 'kujipata', 'katika', 'mitego', 'aina', 'hiyo', 'kwani', 'inadaiwa', 'kuna', 'visa', 'ambavyo', 'waombezi', 'huwanajisi', 'watoto', 'wanapoplekewa', 'kuombewa', 'wakidai', 'kuwa', 'wanawaponya', '.', 'Alitoa', 'mfano', 'wa', 'kisa', 'cha', 'wasichana', '13', 'kutoka', 'kijiji', 'cha', 'Kinarani', 'eneo', 'bunge', 'la', 'Kaloleni', ',', 'walionajisiwa', 'na', 'mhubiri', 'na', 'baadhi', 'yao', 'kuwa', 'wajawazito', 'kati', 'ya', 'mwaka', 'wa', '2019', 'na', '2020', '.', 'Mwenyekiti', 'wa', 'Baraza', 'la', 'Wahubiri', 'na', 'Maimamu', 'katika', 'eneo', 'la', 'Pwani', ',', 'Askofu', 'Amos', 'Lewa', 'wa', 'kanisa', 'la', 'Joy', 'Fellowship', ',', 'alikiri', 'kuwepo', 'kwa', 'tabia', 'hiyo', 'inayoendelezwa', 'na', 'baadhi', 'ya', 'watu', 'ambao', 'hawana', 'makanisa', 'halali', '.']\n",
      "\n",
      " Number of Words:  470\n"
     ]
    }
   ],
   "source": [
    "file=\"22jan17.txt\"\n",
    "\n",
    "# calling the function and storing the contents in a text variable \n",
    "text2= get_document(\"https://taifaleo.nation.co.ke/idara-yaonya-kuhusu-wahubiri-bandia-kilifi/\")\n",
    "\n",
    "\n",
    "# calling the store_ document function \n",
    "store_document(doc=text2,name=file)\n",
    "\n",
    "#add the words in this file to the total_corpus_words, to keep count of the number of words in the corpus\n",
    "total_corpus_words+=total_words(file)"
   ]
  },
  {
   "cell_type": "code",
   "execution_count": 42,
   "metadata": {},
   "outputs": [
    {
     "data": {
      "text/plain": [
       "460482"
      ]
     },
     "execution_count": 42,
     "metadata": {},
     "output_type": "execute_result"
    }
   ],
   "source": [
    "total_corpus_words"
   ]
  },
  {
   "cell_type": "code",
   "execution_count": 43,
   "metadata": {},
   "outputs": [
    {
     "name": "stdout",
     "output_type": "stream",
     "text": [
      "['Shule', 'za', 'upili', 'kuorodheshwa', 'kwa', 'uwezo', 'wa', 'CBC', 'SHULE', 'za', 'upili', 'za', 'kiwango', 'cha', 'chini', 'zitaorodheshwa', 'kulingana', 'na', 'idadi', 'ya', 'vifaa', 'zilivyo', 'navyo', 'kuwawezesha', 'wanafunzi', 'kuendelea', 'na', 'masomo', 'ya', 'Umilisi', 'na', 'Utendaji', '(', 'CBC', ')', '.', 'Kulingana', 'na', 'Waziri', 'wa', 'Elimu', ',', 'Prof', 'George', 'Magoha', ',', 'viwango', 'vitatu', 'ambavyo', 'vitazingatiwa', 'katika', 'kuamua', 'mwelekeo', 'wa', 'kitaaluma', 'wa', 'mwanafunzi', 'ni', 'sanaa', 'na', 'sayansi', 'ya', 'michezo', ',', 'sayansi', 'ya', 'jamii', 'na', 'sayansi', 'ya', 'jamii', ',', 'teknolojia', ',', 'uhandisi', 'na', 'hisabati', '(', 'STEM', ')', '.', 'Kwenye', 'ziara', 'katika', 'Kaunti', 'ya', 'Nyeri', 'jana', 'Jumatano', ',', 'Prof', 'Magoha', 'alisema', 'shule', 'zenye', 'vifaa', 'na', 'miundomsingi', 'bora', 'zitafunza', 'viwango', 'vyote', 'vitatu', ',', 'huku', 'zile', 'zenye', 'uwezo', 'wa', 'kadri', 'zikifunza', 'viwango', 'viwili', '.', 'Shule', 'zilizoorodheshwa', 'kuwa', 'za', 'kiwango', 'cha', 'kadri', 'ni', 'za', 'kutwa', 'na', 'baadhi', 'ya', 'zile', 'za', 'mabweni', '.', '“', 'Pengine', 'hatutatumia', 'utaratibu', 'wa', 'awali', 'kama', 'vile', 'shule', 'za', 'kitaifa', ',', 'kaunti', 'au', 'wilaya', '.', 'Hata', 'hivyo', ',', 'ikiwa', 'zitakuwa', 'na', 'uwezo', 'wa', 'kufunza', 'masomo', 'hayo', 'yote', ',', 'basi', 'huenda', 'zikaorodheshwa', 'kwa', 'mfumo', 'huo', ',', '”', 'akasema', '.', 'Hilo', 'linamaanisha', 'kuwa', 'shule', 'zote', '103', 'za', 'kitaifa', 'na', 'kiwango', 'cha', 'kaunti', 'zitakuwa', 'zikitoa', 'mafunzo', 'kwa', 'viwango', 'vyote', 'vitatu', 'vya', 'masomo', 'huku', 'zile', 'ndogo', 'zikitoa', 'mafunzo', 'kwa', 'viwango', 'viwili', 'pekee', '.', 'Wanafunzi', 'wa', 'Gredi', 'ya', 'Sita', 'wanatarajiwa', 'kujiunga', 'na', 'Shule', 'ya', 'Upili', 'ya', 'Kiwango', 'cha', 'Chini', 'baada', 'ya', 'kumaliza', 'mitihani', 'yao', '.', 'Wanafunzi', 'hao', ',', 'ambao', 'walisoma', 'kwa', 'miaka', 'miwili', 'katika', 'kiwango', 'cha', 'chekechea', ',', 'watasoma', 'miaka', 'sita', 'katika', 'shule', 'ya', 'msingi', ',', 'miaka', 'sita', 'katika', 'shule', 'ya', 'upili', 'na', 'miaka', 'mitatu', 'katika', 'chuo', 'kikuu', 'na', 'taasisi', 'nyingine', 'za', 'masomo', 'ya', 'juu', '.', 'Wanafunzi', 'walio', 'katika', 'Gredi', 'za', 'Nne', 'na', 'Tano', 'watafanya', 'mitihani', 'yao', 'ya', 'kitaifa', 'kati', 'ya', 'Januari', '31', 'na', 'Februari', '4', '.', 'Hili', 'ni', 'baada', 'ya', 'kufanya', 'mitihani', 'tekelezi', 'kati', 'ya', 'Oktoba', 'na', 'Desemba', '2021', '.', 'Mitihani', 'hiyo', 'itachangia', 'asilimia', '20', 'ya', 'alama', 'zao', 'za', 'mwisho', 'watakazopata', 'kwenye', 'mtihani', 'wa', 'Gredi', 'ya', 'Sita', '.', 'Mtihani', 'wa', 'mwisho', 'utachangia', 'asilimia', '40', 'ya', 'jumla', 'ya', 'alama', 'zao', '.', 'Kuhusu', 'ujenzi', 'wa', 'madarasa', 'ya', 'shule', 'hizo', 'za', 'upili', ',', 'waziri', 'alisema', 'ujenzi', 'wa', 'baadhi', 'ya', 'madarasa', 'ushakamilika', '.']\n",
      "\n",
      " Number of Words:  347\n"
     ]
    }
   ],
   "source": [
    "file=\"22jan18.txt\"\n",
    "\n",
    "# calling the function and storing the contents in a text variable \n",
    "text1 = get_document(\"https://taifaleo.nation.co.ke/siku-ya-sarakasi-kwa-wanjigi-alala-ndani-licha-ya-kujifungia-kwa-nyumba/\")\n",
    "\n",
    "# calling the store_ document function \n",
    "store_document(doc=text,name=file)\n",
    "\n",
    "#add the words in this file to the total_corpus_words, to keep count of the number of words in the corpus\n",
    "total_corpus_words+=total_words(file)"
   ]
  },
  {
   "cell_type": "code",
   "execution_count": 44,
   "metadata": {},
   "outputs": [
    {
     "data": {
      "text/plain": [
       "460829"
      ]
     },
     "execution_count": 44,
     "metadata": {},
     "output_type": "execute_result"
    }
   ],
   "source": [
    "total_corpus_words"
   ]
  },
  {
   "cell_type": "code",
   "execution_count": 45,
   "metadata": {},
   "outputs": [
    {
     "name": "stdout",
     "output_type": "stream",
     "text": [
      "['Mudavadi', 'alivyosaliti', 'wenzake', 'OKA', 'KIONGOZI', 'wa', 'chama', 'cha', 'Amani', 'National', 'Congress', '(', 'ANC', ')', 'Musalia', 'Mudavadi', ',', 'aliwapumbaza', 'vinara', 'wenza', 'katika', 'One', 'Kenya', 'Alliance', '(', 'OKA', ')', 'kwa', 'takriban', 'miaka', 'miwili', 'huku', 'akiendeleza', 'mazungumzo', 'ya', 'chini', 'ya', 'maji', 'na', 'Naibu', 'Rais', 'William', 'Ruto', 'hadi', 'Jumapili', 'iliyopita', ',', 'walipotangaza', 'ushirikiano', 'wao', '.', 'Hii', 'ni', 'baada', 'ya', 'kuibuka', 'kuwa', 'alianza', 'kuzungumza', 'na', 'Dkt', 'Ruto', 'kwa', 'siri', 'hata', 'kabla', 'ya', 'kubuniwa', 'kwa', 'OKA', '.', 'Mbunge', 'wa', 'Mumias', 'Mashariki', ',', 'Bw', 'Benjamin', 'Washiali', 'ambaye', 'ni', 'mshirika', 'wa', 'Dkt', 'Ruto', ',', 'amefichua', 'kuwa', 'mazungumzo', 'hayo', 'yalianza', '2020', 'ilhali', 'muungano', 'wa', 'OKA', 'ulibuniwa', 'mwaka', '2021', '.', 'Wadadisi', 'wanasema', 'kwamba', 'kuna', 'uwezekano', 'Bw', 'Mudavadi', 'alikuwa', 'fuko', 'wa', 'Dkt', 'Ruto', 'sio', 'tu', 'katika', 'OKA', 'bali', 'pia', 'katika', 'mipango', 'ya', 'siasa', 'za', 'urithi', 'ya', 'watu', 'wenye', 'ushawishi', 'serikalini', 'kwenye', 'uchaguzi', 'wa', 'Agosti', '9', '.', 'Bw', 'Musyoka', 'na', 'Bw', 'Moi', 'waliondoka', 'Bomas', 'of', 'Kenya', 'ambapo', 'Mudavadi', 'alikuwa', 'akizindua', 'rasmi', 'azma', 'yake', 'ya', 'kugombea', 'urais', ',', 'walipogundua', 'alikuwa', 'amealika', 'Dkt', 'Ruto', 'na', 'washirika', 'wake', 'katika', 'chama', 'cha', 'United', 'Democratic', 'Alliance', '(', 'UDA', ')', '.', 'Washirika', 'wa', 'Bw', 'Musyoka', 'na', 'Bw', 'Moi', 'wanasema', 'kuwa', ',', 'ingawa', 'hawakufahamu', 'kuwa', 'Bw', 'Mudavadi', 'alikuwa', 'amealika', 'Dkt', 'Ruto', 'na', 'washirika', 'wake', 'katika', 'hafla', 'ya', 'kuzindua', 'azma', 'yake', ',', 'walikuwa', 'wakishuku', 'kujitolea', 'kwake', 'katika', 'OKA', '.', 'Hii', 'ni', 'kwa', 'sababu', 'washirika', 'wake', 'walikuwa', 'wakisisitiza', 'kuwa', 'lazima', 'jina', 'lake', 'litakuwa', 'kwenye', 'debe', 'na', 'kwamba', 'ndiye', 'alitosha', 'kupeperusha', 'bendera', 'ya', 'OKA', '.', '“', 'Mudavadi', 'alisaliti', 'vinara', 'wenzake', 'katika', 'OKA', 'kwa', 'kuunda', 'muungano', 'mwingine', 'na', 'UDA', ',', '”', 'alisema', 'Katibu', 'Mratibu', 'wa', 'chama', 'cha', 'Wiper', ',', 'Bw', 'Robert', 'Mbui', '.', 'Usaliti', 'huo', 'ulianza', 'kubainika', 'kutokana', 'na', 'matamshi', 'ya', 'washirika', 'wake', 'wakiongozwa', 'na', 'Seneta', 'wa', 'Kakamega', 'Cleopas', 'Malala', 'ambao', 'walikuwa', 'wakidunisha', 'vinara', 'wengine', 'katika', 'OKA', '.', '“', 'Tulitilia', 'shaka', 'kujitolea', 'kwake', 'katika', 'OKA', 'hasa', 'baada', 'ya', 'washirika', 'wake', 'kuanika', 'ukuruba', 'wao', 'na', 'Dkt', 'Ruto', 'katika', 'mechi', 'ya', 'soka', 'Mumias', 'na', 'katika', 'mkutano', 'mmoja', 'mjini', 'Eldoret', '.', 'Kile', 'ambacho', 'hatukuwa', 'na', 'hakika', 'ni', 'kina', 'cha', 'mazungumzo', 'yao', 'hadi', 'alipokosa', 'kuhudhuria', 'mkutano', 'uliopaswa', 'kutoa', 'mwelekeo', 'kuhusu', 'mgombea', 'urais', 'wa', 'OKA', ',', '”', 'akasema', 'mbunge', 'mmoja', 'wa', 'chama', 'cha', 'Wiper', 'ambaye', 'aliomba', 'tusitaje', 'jina', 'kwa', 'kuwa', 'sio', 'msemaji', 'rasmi', 'wa', 'muungano', 'huo', 'au', 'chama', 'chake', '.']\n",
      "\n",
      " Number of Words:  362\n"
     ]
    }
   ],
   "source": [
    "file=\"22jan26.txt\"\n",
    "\n",
    "# calling the function and storing the contents in a text variable \n",
    "text = get_document(\"https://taifaleo.nation.co.ke/mudavadi-alivyosaliti-wenzake-oka/\")\n",
    "\n",
    "# calling the store_ document function \n",
    "store_document(doc=text,name=file)\n",
    "\n",
    "#add the words in this file to the total_corpus_words, to keep count of the number of words in the corpus\n",
    "total_corpus_words+=total_words(file)"
   ]
  },
  {
   "cell_type": "code",
   "execution_count": 46,
   "metadata": {},
   "outputs": [
    {
     "data": {
      "text/plain": [
       "461191"
      ]
     },
     "execution_count": 46,
     "metadata": {},
     "output_type": "execute_result"
    }
   ],
   "source": [
    "total_corpus_words"
   ]
  },
  {
   "cell_type": "code",
   "execution_count": 47,
   "metadata": {},
   "outputs": [
    {
     "name": "stdout",
     "output_type": "stream",
     "text": [
      "['Wachezaji', 'wa', 'Ulinzi', 'wakisherekea', 'baada', 'ya', 'kufunga', 'wenzao', 'kwenye', 'mechi', 'ya', 'kipute', 'cha', 'KWPL…Picha/JOHN', 'KIMWERE', 'Marvecyl', 'Simiyu', 'alijifunga', 'na', 'kusaidia', 'Ulinzi', 'kupata', 'bao', 'la', 'kwanza', 'dakika', 'ya', '21', '.', 'Hata', 'hivyo', 'vipusa', 'wa', 'Ulinzi', 'Starlets', 'walikaza', 'buti', 'na', 'kufanya', 'kweli', 'kupitia', 'Lanoline', 'Aoko', ',', 'Siliya', 'Rasoha', ',', 'Gentrix', 'Kuyudi', 'na', 'Sheril', 'Andiba', 'waliofunga', 'bao', 'moja', 'kila', 'mmoja', '.', 'Trans', 'Nzoia', 'chini', 'ya', 'nahodha', ',', 'Martha', 'Amunyolete', 'ilipata', 'bao', 'la', 'pekee', 'kupitia', 'juhudi', 'zake', 'Joyce', 'Makungu', '.', 'Vihiga', 'inaongoza', 'kwa', 'alama', '19', ',', 'tatu', 'mbele', 'ya', 'Gaspo', 'Women', '.', 'Ulinzi', 'ya', 'tatu', 'kwa', 'alama', '14', 'nazo', 'Trans', 'Nzoia', 'Falcons', 'na', 'Thika', 'zinashikilia', 'nafasi', 'ya', 'nne', 'na', 'tano', 'mtawalia', '.']\n",
      "\n",
      " Number of Words:  108\n"
     ]
    }
   ],
   "source": [
    "file=\"22jan31.txt\"\n",
    "\n",
    "# calling the function and storing the contents in a text variable \n",
    "text = get_document(\"https://taifaleo.nation.co.ke/kocha-vihiga-queens-asema-hakuna-kulaza-damu-ligi-kuu-2/\")\n",
    "\n",
    "# calling the store_ document function \n",
    "store_document(doc=text,name=file)\n",
    "\n",
    "#add the words in this file to the total_corpus_words, to keep count of the number of words in the corpus\n",
    "total_corpus_words+=total_words(file)"
   ]
  },
  {
   "cell_type": "code",
   "execution_count": 48,
   "metadata": {},
   "outputs": [
    {
     "data": {
      "text/plain": [
       "461299"
      ]
     },
     "execution_count": 48,
     "metadata": {},
     "output_type": "execute_result"
    }
   ],
   "source": [
    "total_corpus_words"
   ]
  },
  {
   "cell_type": "code",
   "execution_count": 49,
   "metadata": {},
   "outputs": [
    {
     "name": "stdout",
     "output_type": "stream",
     "text": [
      "['Historia', 'yawafaa', 'Ruto', ',', 'Raila', '50:50', 'HISTORIA', 'ya', 'kinyanga', '’', 'anyiro', 'cha', 'urais', 'nchini', 'inaonyesha', 'ushindi', 'wa', 'Agosti', '9', 'unaweza', 'kwenda', 'upande', 'wowote', 'kati', 'ya', 'Kiongozi', 'wa', 'ODM', 'Raila', 'Odinga', 'na', 'Naibu', 'Rais', 'William', 'Ruto', '.', 'Kwa', 'kigezo', 'cha', 'majaribio', 'ambayo', 'mwaniaji', 'amefanya', 'kuingia', 'Ikulu', ',', 'historia', 'inamfaa', 'Bw', 'Odinga', 'ambaye', 'amejaribu', 'bahati', 'mara', 'nne', 'bila', 'mafanikio', '.', 'Lakini', 'kwa', 'kigezo', 'cha', 'Bw', 'Odinga', 'kuonekana', 'kuwa', 'mradi', 'wa', 'rais', 'anayeondoka', ',', 'historia', 'inaonekana', 'kumpendelea', 'Dkt', 'Ruto', '.', 'Kwa', 'upande', 'wa', 'Kiongozi', 'wa', 'ANC', 'Musalia', 'Mudavadi', 'na', 'mwenzake', 'wa', 'Wiper', 'Kalonzo', 'Musyoka', ',', 'historia', 'inawafungia', 'njia', 'ya', 'Ikulu', 'kwani', 'kinyang', '’', 'anyiro', 'cha', 'urais', 'hapa', 'Kenya', 'kimekuwa', 'ni', 'kati', 'ya', 'vigogo', 'wawili', 'wakuu', 'ambao', 'mwaka', 'huu', 'ni', 'Bw', 'Odinga', 'na', 'Dkt', 'Ruto', '.', 'Hii', 'ni', 'licha', 'ya', 'wawili', 'hao', 'kuwania', 'awali.Katika', 'kigezo', 'cha', 'majaribio', 'tangu', '2002', ',', 'hakuna', 'mwaniaji', 'aliyeshinda', 'kiti', 'hicho', 'katika', 'jaribio', 'la', 'kwanza', '.', 'Rais', 'mstaafu', 'Mwai', 'Kibaki', 'aliingia', 'Ikulu', 'katika', 'jaribio', 'lake', 'la', 'tatu', 'mnamo', '2002', '.', 'Awali', 'aliwania', 'urais', 'mnamo', '1992', 'na', 'kuibuka', 'katika', 'nafasi', 'ya', 'tatu', 'na', '1997', 'aliposhika', 'nafasi', 'ya', 'pili', 'nyuma', 'ya', 'Daniel', 'Moi', '.', 'Rais', 'Uhuru', 'Kenyatta', 'naye', 'alishinda', 'urais', 'katika', 'jaribio', 'lake', 'la', 'pili', '.', 'Mara', 'ya', 'kwanza', 'alipigania', 'kiti', 'hicho', 'akiwa', 'mradi', 'wa', 'Bw', 'Moi', 'mnamo', '2002', 'ambapo', 'aliangushwa', 'na', 'Mzee', 'Kibaki', '.', 'MWANASIASA', 'MZOEFU', 'Hata', 'hivyo', ',', 'wachanganuzi', 'wa', 'siasa', 'wanasema', 'hali', 'ya', 'sasa', 'ni', 'tofauti', 'na', 'ilivyokuwa', 'mnamo', '2002', 'kwani', 'Bw', 'Kenyatta', 'alikuwa', 'limbukeni', 'wa', 'siasa', 'aliyesukumwa', 'na', 'Bw', 'Moi', 'kuingia', 'kwenye', 'siasa', 'na', 'hata', 'kuwania', 'urais', ',', 'wakati', 'huo', 'akiwa', 'na', 'miaka', '41', '.', 'Tofauti', 'na', 'Bw', 'Kenyatta', 'wakati', 'huo', ',', 'Dkt', 'Ruto', 'akiwa', 'na', 'miaka', '55', 'ni', 'mwanasiasa', 'mwenye', 'uzoefu', 'mkubwa', 'na', 'anayejulikana', 'kote', 'nchini', '.', 'Kulingana', 'na', 'mchanganuzi', 'wa', 'masuala', 'ya', 'kisiasa', 'Martin', 'Andati', ',', 'kwa', 'kuzingatia', 'kigezo', 'cha', 'kujaribu', 'bahati', 'ya', 'urais', 'mara', 'nyingi', ',', 'historia', 'inamfaa', 'Bw', 'Odinga', '.', '“', 'Ni', 'kweli', 'kwamba', 'tangu', 'utawala', 'wa', 'Kanu', 'kuondolewa', 'mamlakani', '2002', ',', 'washindi', 'wa', 'urais', 'wamekuwa', 'wagombeaji', 'ambao', 'wamejaribu', 'angalau', 'mara', 'moja', 'tukirejelea', 'Kibaki', 'na', 'Uhuru', '.', 'Kwa', 'hivyo', ',', 'pamoja', 'na', 'sababu', 'nyinginezo', ',', 'nyota', 'ya', 'Raila', 'inang', '’', 'aa', 'zaidi', 'mwaka', 'huu', 'ikilinganishwa', 'na', 'Dkt', 'Ruto', 'anayejaribu', 'kwa', 'mara', 'ya', 'kwanza', ',', '”', 'anasema', 'Bw', 'Andati', 'ambaye', 'pia', 'ni', 'mshauri', 'wa', 'masuala', 'ya', 'uongozi', '.', 'KUWANIA', 'URAIS', 'MARA', 'YA', 'TANO', 'Bw', 'Odinga', 'anawania', 'urais', 'kwa', 'mara', 'ya', 'tano', 'katika', 'uchaguzi', 'wa', 'mwaka', 'huu', ',', 'baada', 'ya', 'kufeli', 'mara', 'nne', 'katika', 'chaguzi', 'za', '1997', ',', '2007', ',', '2013', 'na', '2017', '.', 'Katika', 'uchaguzi', 'mkuu', 'wa', '1997', 'Bw', 'Odinga', 'alishikilia', 'nafasi', 'ya', 'tatu', 'alipowania', 'kwa', 'tiketi', 'ya', 'chama', 'cha', 'National', 'Development', 'Party', '(', 'NDP', ')', 'alipopata', 'kura', '667,886', 'pekee', '.', 'Katika', 'uchaguzi', 'mkuu', 'wa', '2007', 'alikuwa', 'wa', 'pili', 'kwa', 'kupata', 'kura', '4.35', 'milioni', 'nyuma', 'ya', 'Bw', 'Kibaki', 'aliyeshinda', 'kwa', 'kuzoa', 'kura', '4.58', 'milioni', ',', 'tofauti', 'ya', 'kura', '231,000', 'pekee', '.', 'Katika', 'changuzi', 'za', '2013', 'na', '2017', ',', 'Bw', 'Odinga', 'alishindwa', 'na', 'Rais', 'Kenyatta', ',', 'alipopata', 'kura', '6.17', 'milioni', 'na', '6.3', 'milioni', ',', 'mtawalia', '.', 'Lakini', 'Bw', 'Dismus', 'Mokua', 'anasema', 'hali', 'ya', 'kisiasa', 'nchini', 'katika', 'uchaguzi', 'wa', 'mwaka', 'huu', 'ni', 'tofauti', 'na', 'wa', 'chaguzi', 'zilizopita', '.', '“', 'Ushindi', 'wa', 'Bw', 'Odinga', 'katika', 'uchaguzi', 'mkuu', 'wa', 'Agosti', '9', ',', 'hautachangiwa', 'zaidi', 'na', 'historia', 'ya', 'matokeo', 'ya', 'uchaguzi', 'wa', 'urais', 'lakini', 'kutokana', 'na', 'kiwango', 'ambapo', 'Rais', 'Kenyatta', 'ataweza', 'kushawishi', 'eneo', 'la', 'Mlima', 'Kenya', 'kumpigia', 'kura', '.', 'Vile', 'vile', ',', 'ushindi', 'wake', 'utategemea', 'pakubwa', 'ikiwa', 'Bw', 'Odinga', 'ataweza', 'kupata', 'uungwaji', 'mkono', 'kutoka', 'kwa', 'kiongozi', 'wa', 'Wiper', 'Kalonzo', 'Musyoka', 'au', 'la', ',', '”', 'anasema', 'mchanganuzi', 'huyo', 'wa', 'masuala', 'ya', 'siasa', '.', 'Kulingana', 'na', 'Bw', 'Mokua', ',', 'Bw', 'Odinga', 'atakuwa', 'na', 'kibarua', 'kikubwa', 'endapo', 'wakazi', 'wengi', 'wa', 'Mlima', 'Kenya', ',', 'yenye', 'zaidi', 'ya', 'kura', 'milioni', 'sita', ',', 'watasalia', 'kumuunga', 'mkono', 'Dkt', 'Ruto', 'na', 'eneo', 'la', 'Ukambani', 'lenye', 'karibu', 'kura', '2', 'milioni', 'lisalie', 'na', 'Bw', 'Musyoka', '.', 'Lakini', 'kwa', 'kuzingatia', 'historia', 'ya', 'mwaniaji', 'kuwa', 'mradi', 'wa', 'rais', 'anayeondoka', ',', 'Dkt', 'Ruto', 'atakuwa', 'na', 'nafasi', 'bora.Mnamo', '2002', 'Bw', 'Moi', 'alipomfanya', 'Bw', 'Kenyatta', 'kuwa', 'mradi', 'wake', ',', 'Wakenya', 'waliasi', 'kwa', 'kumchagua', 'Mzee', 'Kibaki', 'kwa', 'idadi', 'kubwa', 'ya', 'kura', '.', 'Katika', 'uchaguzi', 'wa', 'mwaka', 'huu', ',', 'Bw', 'Odinga', 'amejitokeza', 'kuwa', 'mradi', 'wa', 'Rais', 'Kenyatta', '.', '“', 'Raila', 'ni', 'mradi', 'wa', 'Uhuru', 'na', 'atafeli', 'jinsi', 'Uhuru', 'mwenyewe', 'alivyoshindwa', 'na', 'Kibaki', 'alipokuwa', 'mradi', 'wa', 'Rais', 'wa', 'Moi', ',', '”', 'anaeleza', 'Seneta', 'wa', 'Nandi', ',', 'Samsom', 'Cherargei', '.', 'Mwingine', 'aliyetangaza', 'kuwania', 'urais', 'ni', 'Reuben', 'Kigame', 'ambaye', 'historia', 'inampa', 'nafasi', 'finyu', 'kupata', 'kura', 'nyingi', '.']\n",
      "\n",
      " Number of Words:  727\n"
     ]
    }
   ],
   "source": [
    "file=\"22feb2.txt\"\n",
    "\n",
    "# calling the function and storing the contents in a text variable \n",
    "text = get_document(\"https://taifaleo.nation.co.ke/historia-yawafaa-ruto-raila-5050/\")\n",
    "\n",
    "# calling the store_ document function \n",
    "store_document(doc=text,name=file)\n",
    "\n",
    "#add the words in this file to the total_corpus_words, to keep count of the number of words in the corpus\n",
    "total_corpus_words+=total_words(file)"
   ]
  },
  {
   "cell_type": "code",
   "execution_count": 50,
   "metadata": {},
   "outputs": [
    {
     "data": {
      "text/plain": [
       "462026"
      ]
     },
     "execution_count": 50,
     "metadata": {},
     "output_type": "execute_result"
    }
   ],
   "source": [
    "total_corpus_words"
   ]
  },
  {
   "cell_type": "code",
   "execution_count": 51,
   "metadata": {},
   "outputs": [
    {
     "name": "stdout",
     "output_type": "stream",
     "text": [
      "['Kuppet', 'yataka', 'walimu', 'wapewa', 'mafunzo', 'ya', 'CBC', 'CHAMA', 'cha', 'Walimu', 'wa', 'Shule', 'za', 'Upili', 'na', 'Vyuo', 'Anuwai', '(', 'KUPPET', ')', 'kinaitaka', 'Wizara', 'ya', 'Elimu', 'iwape', 'mafunzo', 'walimu', 'wa', 'shule', 'za', 'upili', 'ili', 'nao', 'wawafundishe', 'wenzao', 'wa', 'shule', 'za', 'kiwango', 'cha', 'chini', 'Mtaala', 'wa', 'Umilisi', 'na', 'Utendaji', '(', 'CBC', ')', '.', 'Katibu', 'Mkuu', 'wa', 'Kuppet', 'Akelo', 'Misori', 'alisema', 'chama', 'hicho', 'hakijaridhishwa', 'na', 'jinsi', 'ambavyo', 'wizara', 'imekuwa', 'ikishughulikia', 'suala', 'la', 'utekelezaji', 'wa', 'CBC', '.', 'Bw', 'Misori', 'anadai', 'kuwa', 'Waziri', 'wa', 'Elimu', 'Profesa', 'George', 'Magoha', 'amejihusisha', 'sana', 'ujenzi', 'wa', 'madarasa', 'na', 'kuimarisha', 'miundomsingi', 'ya', 'shule', 'mbalimbali', 'badala', 'ya', 'kuwapa', 'walimu', 'mafunzo', '.', 'Bw', 'Misori', 'alisema', 'walimu', 'wanafaa', 'wafundishwe', 'jinsi', 'watakavyoitekeleza', 'CBC', 'kwa', 'wanafunzi', 'wa', 'Gredi', 'ya', 'Saba', 'na', 'Nane', 'mnamo', 'Aprili', 'ili', 'watoe', 'mafunzo', 'ya', 'kiuhakika', 'kwa', 'wanafunzi', 'wao', '.', '“', 'Walimu', 'wa', 'shule', 'za', 'upili', 'bado', 'hawapo', 'tayari', 'kuwafundisha', 'wanafunzi', 'wa', 'Gredi', 'ya', 'Saba', 'na', 'Nane', 'kwa', 'sababu', 'serikali', 'bado', 'haijawafunza', '.', 'Tunamwomba', 'Profesa', 'Magoha', 'aipe', 'kipaumbele', 'mafunzo', 'ya', 'CBC', 'badala', 'ya', 'kujenga', 'tu', 'madarasa', 'na', 'kuimarisha', 'miundombinu', ',', '”', 'akasema', 'Bw', 'Misori', '.', 'Alikuwa', 'akizungumza', 'katika', 'Kaunti', 'ya', 'Narok', 'mnamo', 'Jumanne', 'akiwa', 'ameandamana', 'na', 'maafisa', 'wa', 'Kuppet', '.', 'Mswada', 'wazua', 'hofu', 'ya', 'njama', 'ya', 'kuiba', 'kura', 'KUNA', 'wasiwasi', 'kuwa', 'mswada', 'mpya', 'unaobadilisha', 'sheria', 'kuhusu', 'mfumo', 'wa', 'uwasilishaji', 'matokeo', 'ya', 'uchaguzi', 'wa', 'urais', 'ni', 'njama', 'ya', 'kuiba', 'kura', 'katika', 'Uchaguzi', 'Mkuu', 'wa', 'Agosti', '9', '.', 'Mswada', 'huo', 'wa', 'marekebisho', 'ya', 'Sheria', 'ya', 'Uchaguzi', 'unalenga', 'kuzuia', 'Tume', 'Huru', 'ya', 'Uchaguzi', 'na', 'Mipaka', '(', 'IEBC', ')', 'pamoja', 'na', 'vyombo', 'vya', 'habari', 'kupeperusha', 'matokeo', 'moja', 'kwa', 'moja', 'kutoka', 'vituo', 'vya', 'kupigia', 'kura', 'kote', 'nchini', 'ilivyofanya', 'katika', 'chaguzi', 'zilizopita', '.', 'Badala', 'yake', 'unapendekeza', 'kuwa', 'matokeo', 'yote', 'ya', 'uchaguzi', 'wa', 'urais', 'yawasilishwe', 'katika', 'kituo', 'cha', 'kitaifa', 'cha', 'kujumuisha', 'kura', 'jijini', 'Nairobi', ',', 'ili', 'yatangazwe', 'na', 'mwenyekiti', 'wa', 'IEBC', 'ndani', 'ya', 'siku', 'saba', 'baada', 'ya', 'kura', 'kupigwa', '.', 'Hii', 'ina', 'maana', 'endapo', 'mswada', 'huo', 'utapitishwa', 'bila', 'kufanyiwa', 'marekebisho', 'yoyote', ',', 'Mwenyekiti', 'wa', 'IEBC', 'Wafula', 'Chebukati', 'ataruhusiwa', 'tu', 'kutangaza', 'matokeo', 'ya', 'uchaguzi', 'wa', 'urais', 'baada', 'ya', 'kupokea', 'matokeo', 'yote', 'kutoka', 'maeneobunge', '290', 'nchini', '.', 'Vilevile', ',', 'mswada', 'huo', ',', 'ambao', 'umedhaminiwa', 'na', 'Kiongozi', 'wa', 'Wengi', 'katika', 'bunge', 'la', 'kitaifa', 'Amos', 'Kimunya', 'unahalalisha', 'uwasilishaji', 'wa', 'matokeo', 'ya', 'uchaguzi', 'wa', 'urais', 'kwa', 'njia', 'ya', 'nakala', ',', 'mbali', 'na', 'ile', 'ya', 'kieletroniki', '.', '“', 'Maafisa', 'wa', 'kusimamia', 'uchaguzi', 'wanaweza', 'kuwasilisha', 'fomu', 'za', 'matokeo', 'ya', 'uchaguzi', 'kwa', 'kusafiri', 'moja', 'kwa', 'moja', 'hadi', 'kituo', 'cha', 'kitaifa', 'cha', 'kujumuisha', 'kura', 'za', 'urais', 'na', 'matokeo', 'hayo', 'yawe', 'halali', 'sawa', 'na', 'matokeo', 'yaliyotumwa', 'kielektroniki', ',', '”', 'unasema', 'mswada', 'huo', '.', 'Hii', 'ina', 'maana', 'kuwa', 'maafisa', 'wa', 'kusimamia', 'uchaguzi', 'hasa', 'wale', 'walioko', 'katika', 'maeneo', 'yasiyofikiwa', 'na', 'mawimbi', 'ya', 'mawasiliano', 'ya', '3G', 'au', '4G', ',', 'watahitaji', 'kusafiri', 'hadi', 'Nairobi', 'kuwasilisha', 'fomu', 'za', 'uchaguzi', 'wa', 'urais', '.', 'Mwanya', 'wa', 'wizi', 'Kulingana', 'na', 'sheria', 'ya', 'sasa', 'na', 'matokeo', 'ya', 'urais', 'sharti', 'yawasilishwe', 'kwa', 'njia', 'ya', 'kielektroniki', 'pekee', 'kutoka', 'vituo', 'vya', 'kupigia', 'kura', 'hadi', 'katika', 'kituo', 'cha', 'kitaifa', 'cha', 'kujumuisha', 'kura', '.', 'Kulingana', 'na', 'wachanganuzi', 'wa', 'siasa', 'na', 'watetezi', 'wa', 'utawala', 'bora', ',', 'mapendekezo', 'hayo', 'yanatoa', 'mwanya', 'wa', 'wizi', 'wa', 'kura', ',', 'na', 'pia', 'kuchochea', 'ukosefu', 'wa', 'imani', 'na', 'matokeo', ',', 'hali', 'inayoweza', 'kuzua', 'taharuki', 'na', 'hata', 'ghasia', 'jinsi', 'ilivyofanyika', '2007', '.', 'Mkurugenzi', 'wa', 'kituo', 'cha', 'International', 'Center', 'for', 'Policy', 'and', 'Conflict', '(', 'ICPC', ')', ',', 'Ndung', '’', 'u', 'Wainaina', 'aliwataja', 'wanaopendekeza', 'marekebisho', 'hayo', 'kama', 'wachochezi', 'wa', 'ghasia', 'walio', 'na', 'nia', 'ya', 'kutumia', 'udhaifu', 'huo', 'kuvuruga', 'uchaguzi', 'mkuu', 'ili', 'kuhakisha', 'wanayependelea', 'ameshinda', '.', 'Wakili', 'Miguna', 'Miguna', 'naye', 'alisema', 'utangazaji', 'wa', 'matokeo', 'ya', 'kura', 'mara', 'yanapochipuka', 'ni', 'njia', 'bora', 'ya', 'kuhakikisha', 'uwazi', 'na', 'uwajibikaji', 'katika', 'shughuli', 'hiyo', '.', '“', 'Ni', 'wezi', 'pekee', 'ambao', 'wanaweza', 'kuwa', 'na', 'nia', 'ya', 'kuwazuia', 'Wakenya', 'kufuatilia', 'matokeo', 'moja', 'kwa', 'moja', '.', 'Lazima', 'tupinge', 'njama', 'hizi', ',', '”', 'akasema', 'Bw', 'Miguna', '.', 'Lakini', 'wanaopendekeza', 'marekebisho', 'hayo', 'wanajitetea', 'kuwa', 'mswada', 'unalenga', 'kuziba', 'mwanya', 'ambao', 'Mahakama', 'ya', 'Juu', 'ilitumia', 'kufutilia', 'mbali', 'matokeo', 'ya', 'uchaguzi', 'wa', 'urais', 'wa', '2017', '.', 'Wanasema', 'kuwa', 'mswada', 'huo', 'pia', 'unatoa', 'nafasi', 'kwa', 'IEBC', 'kutambua', 'wapigakura', 'kwa', 'kutumia', 'sajili', 'ya', 'kawaida', 'mbali', 'na', 'mtambo', 'wa', 'kielektroniki', '(', 'BVR', ')', '.', 'Kwa', 'upande', 'wao', ',', 'wanasiasa', 'wa', 'mrengo', 'wa', 'Naibu', 'Rais', 'William', 'Ruto', 'wakiongozwa', 'na', 'Seneta', 'wa', 'Nandi', 'Samson', 'Cherargei', 'na', 'wabunge', 'Nelson', 'Koech', '(', 'Belgut', ')', 'na', 'Caleb', 'Kositany', 'wamewataka', 'wabunge', 'kuangusha', 'mswada', 'huo', ',', 'wakidai', 'unalenga', 'kufanikisha', 'wizi', 'wa', 'kura', 'kwa', 'manufaa', 'ya', 'muungano', 'wa', 'Azimio', 'la', 'Umoja', '.', '“', 'Kwa', 'kuwanyima', 'wapigakura', 'haki', 'ya', 'kufuatia', 'matokeo', 'ya', 'urais', 'kupitia', 'runinga', ',', 'mitandaoni', 'na', 'tovuti', 'ya', 'IEBC', ',', 'sheria', 'hii', 'itasababisha', 'taharuki', 'na', 'fujo', '.', 'Kulingana', 'na', 'kipengele', 'cha', '35', 'cha', 'Katiba', ',', 'ni', 'haki', 'ya', 'Wakenya', 'kupata', 'habari', 'kutoka', 'asasi', 'za', 'serikali', 'bila', 'kuwekewa', 'vikwazo', ',', '”', 'Bw', 'Cherargei', 'akasema', 'Alhamisi', 'asubuhi', 'kwenye', 'mahojiano', 'katika', 'runinga', 'ya', 'Citizen', '.', 'Kwa', 'upande', 'wao', 'Mbw', 'Koech', 'na', 'Kositany', 'walisema', 'wadhamini', 'wa', 'mswada', 'huo', 'wanaogozwa', 'na', 'malengo', 'fiche', 'ya', 'kumsadia', 'kiongozi', 'wa', 'ODM', 'Raila', 'Odinga', 'kupata', 'ushindi', 'kwa', 'njia', 'ya', 'udanganyifu', '.', '“', 'Hawa', 'watu', 'wameng', '’', 'amua', 'kuwa', 'Raila', 'hawezi', 'kushinda', 'uchaguzi', 'kwa', 'njia', 'halali', 'baada', 'ya', 'kutorokwa', 'na', 'waliokuwa', 'wandani', 'wake', 'katika', 'muungano', 'wa', 'NASA', '.', 'Hii', 'ndiyo', 'maana', 'sasa', 'wanaleta', 'sheria', 'ya', 'kuzuia', 'vyombo', 'vya', 'habari', 'kupeperusha', 'matokeo', 'moja', 'kwa', 'moja', 'ili', 'wapate', 'mwanya', 'wa', 'kuiba', 'kura', '.', 'Tutapinga', 'njama', 'hii', ',', '”', 'Bw', 'Koech', 'akaambiaTaifa', 'Leokupitia', 'ujumbe', 'mfupi', '.']\n",
      "\n",
      " Number of Words:  865\n"
     ]
    }
   ],
   "source": [
    "file=\"22feb4.txt\"\n",
    "\n",
    "# calling the function and storing the contents in a text variable \n",
    "text1 = get_document(\"https://taifaleo.nation.co.ke/kuppet-yataka-walimu-wapewa-mafunzo-ya-cbc/\")\n",
    "\n",
    "text2 = get_document(\"https://taifaleo.nation.co.ke/mswada-wazua-hofu-ya-njama-ya-kuiba-kura/\")\n",
    "\n",
    "\n",
    "# calling the store_ document function \n",
    "store_document(doc=text1,name=file)\n",
    "\n",
    "store_document(doc=text2,name=file)\n",
    "\n",
    "\n",
    "#add the words in this file to the total_corpus_words, to keep count of the number of words in the corpus\n",
    "total_corpus_words+=total_words(file)"
   ]
  },
  {
   "cell_type": "code",
   "execution_count": 52,
   "metadata": {},
   "outputs": [
    {
     "data": {
      "text/plain": [
       "462891"
      ]
     },
     "execution_count": 52,
     "metadata": {},
     "output_type": "execute_result"
    }
   ],
   "source": [
    "total_corpus_words"
   ]
  },
  {
   "cell_type": "code",
   "execution_count": 53,
   "metadata": {},
   "outputs": [
    {
     "name": "stdout",
     "output_type": "stream",
     "text": [
      "['Kingi', 'ajitenga', 'na', 'lawama', 'jukwa', 'la', 'mkutano', 'wa', 'Ruto', 'likiharibiwa', 'usiku', 'GAVANA', 'wa', 'Kaunti', 'ya', 'Kilifi', 'Amason', 'Kingi', ',', 'amejitenga', 'na', 'madai', 'ya', 'kuhusika', 'na', 'tukio', 'ambapo', 'kundi', 'limedaiwa', 'kukodishwa', 'ili', 'kuharibu', 'jukwaa', 'lililotarajiwa', 'kutumiwa', 'na', 'Naibu', 'Rais', 'William', 'Ruto', ',', 'wakati', 'wa', 'mkutano', 'wake', 'katika', 'eneo', 'la', 'Mbuzi', 'Wengi', ',', 'Kaunti', 'ya', 'Kilifi', '.', 'Mbunge', 'huyo', 'alisema', 'wakazi', 'wa', 'Kilifi', 'ni', 'watu', 'ambao', 'wanavumilia', 'siasa', 'za', 'ushindani', 'na', '“', 'hawafai', 'kuchochewa', 'kuzua', 'vurugu', 'zisizo', 'na', 'maana.', '”', '“', 'Watu', 'wa', 'Kilifi', 'wamekomaa', 'kisiasa', 'na', 'wanataka', 'kuruhusiwa', 'kushindana', 'kwa', 'usawa', ',', '”', 'Bw', 'Baya', 'akasema', 'huku', 'akilaumu', 'machifu', 'wa', 'eneo', 'hilo', 'kwa', 'kuunga', 'mkono', 'uhalifu', '.', 'Hata', 'hivyo', ',', 'Gavana', 'Kingi', 'alijitenga', 'na', 'madai', 'kuhusiana', 'na', 'tukio', 'hilo', 'akisema', 'hana', 'sababu', 'maalum', 'ya', 'kuvuruga', 'mkutano', 'wa', 'Naibu', 'Rais', '.', '“', 'Mbona', 'nihujumu', 'mkutano', 'wa', 'Naibu', 'Rais', 'wakati', 'huu', 'ilhali', 'awali', 'amekuwa', 'akifanya', 'mikutano', 'mingi', 'katika', 'kaunti', 'hii', 'ya', 'Kilifi', 'bila', 'tatizo', 'lolote', '?', '”', 'Gavana', 'Kingi', ',', 'ambaye', 'yuko', 'Nairobi', 'kwa', 'shughuli', 'za', 'kikazi', ',', 'akasema', '.', 'Uhuru', 'ataja', 'mbinu', 'za', 'kuvumisha', 'Raila', 'RAIS', 'Uhuru', 'Kenyatta', 'jana', 'Ijumaa', 'alitangaza', 'azma', 'yake', 'ya', 'kujitosa', 'rasmi', 'katika', 'siasa', 'kumsaidia', 'kinara', 'wa', 'ODM', ',', 'Bw', 'Raila', 'Odinga', 'kushinda', 'urais', 'katika', 'Uchaguzi', 'Mkuu', 'wa', 'Agosti', '9', '.', 'Rais', 'Kenyatta', 'aliyekuwa', 'akizungumza', 'alipokutana', 'na', 'wabunge', 'na', 'maseneta', 'wa', 'Jubilee', 'katika', 'Ikulu', 'ya', 'Nairobi', ',', 'alisema', 'kuwa', 'chama', 'hicho', 'kitaunga', 'mkono', 'Bw', 'Odinga', 'ambaye', 'alisema', '“', 'ataendeleza', 'miradi', 'yetu', 'tuliyoanzisha', 'na', 'kutuheshimu', '”', '.', 'Kiongozi', 'huyo', 'wa', 'nchi', ',', 'Ijumaa', 'alionekana', 'kutoa', 'mwelekeo', 'kwa', 'wandani', 'wake', 'kutoka', 'eneo', 'la', 'Mlima', 'Kenya', 'ambao', 'wamekuwa', 'wakimshutumu', 'kwa', 'kusalia', 'kimya', 'huku', 'wenzao', 'wa', 'chama', 'cha', 'United', 'Democratic', 'Alliance', '(', 'UDA', ')', 'wakiendelea', 'kujijenga', 'kisiasa', '.', 'Viongozi', 'wa', 'Jubilee', 'wanatarajiwa', 'kukutana', 'Februari', '25', 'na', '26', 'katika', 'jumba', 'la', 'KICC', 'jijini', 'Nairobi', 'ambapo', 'wajumbe', 'wataidhinisha', 'marekebisho', 'ya', 'katiba', 'ya', 'chama', ',', 'bendera', 'na', 'nembo', 'mpya', 'ya', 'chama', '.', 'Baada', 'ya', 'mkutano', 'huo', 'wa', 'siku', 'mbili', ',', 'viongozi', 'wa', 'Jubilee', 'wataongoza', 'kampeni', 'za', 'muungano', 'wa', 'Azimio', 'la', 'Umoja', 'kuhakikisha', 'kuwa', 'Bw', 'Odinga', 'anazoa', 'kura', 'nyingi', 'katika', 'eneo', 'la', 'Mlima', 'Kenya', ',', 'kwa', 'mujibu', 'wa', 'mbunge', 'wa', 'Kieni', 'Kanini', 'Kega', '.', '“', 'Katika', 'miezi', 'miwili', 'ijayo', ',', 'tutaandaa', 'msururu', 'wa', 'mikutano', 'katika', 'eneo', 'la', 'Mlima', 'Kenya', 'ili', 'tuwaeleze', 'ni', 'kwa', 'nini', 'Bw', 'Odinga', 'ndiye', 'anayefaa', 'kuwa', 'mrithi', 'wa', 'Rais', 'Kenyatta', ',', '”', 'akasema', 'Bw', 'Kega', 'ambaye', 'alihudhuria', 'mkutano', 'huo', 'wa', 'Ikulu', '.', 'Sababu', 'ya', 'kusalia', 'kimya', '“', 'Chama', 'cha', 'Jubilee', 'kimekuwa', 'kimya', 'kwa', 'sababu', 'tumekuwa', 'tukitumikia', 'wananchi', '.', 'Kwa', 'sababu', 'sasa', 'ni', 'msimu', 'wa', 'siasa', 'acha', 'sasa', 'tujitose', 'kwenye', 'siasa', ',', '”', 'Rais', 'Kenyatta', 'aliambia', 'viongozi', 'hao', '.', 'Rais', 'Uhuru', 'analenga', 'kuunda', 'vikundi', 'mbalimbali', 'katika', 'eneo', 'la', 'Mlima', 'Kenya', 'ambavyo', 'vitatwikwa', 'jukumu', 'la', '‘', 'kuhubiri', 'injili', '’', 'ya', 'Bw', 'Odinga', '.', '“', 'Rais', 'Kenyatta', 'atakutana', 'na', 'viongozi', 'wa', 'kila', 'kikundi', 'kuwapa', 'mwongozo', 'kuhusu', 'jinsi', 'ya', 'kushawishi', 'wakazi', 'wa', 'Mlima', 'Kenya', 'kukumbatia', 'Azimio', 'la', 'Umoja', ',', '”', 'mbunge', 'wa', 'Nyeri', 'Mjini', ',', 'Bw', 'Ngunjiri', 'Wambugu', ',', 'aliambiaTaifa', 'Leo', '.', 'Rais', 'Kenyatta', 'pia', 'anatarajiwa', 'kufanya', 'msururu', 'wa', 'mikutano', 'ya', 'kisiasa', 'katika', 'eneo', 'la', 'Mlima', 'Kenya', 'kuwaeleza', 'wakazi', 'wa', 'eneo', 'hilo', 'sababu', 'za', 'kuamua', 'kumkumbatia', 'Bw', 'Odinga', 'na', 'kuachana', 'na', 'Dkt', 'Ruto', '.', 'Rais', 'Kenyatta', 'aliambia', 'wabunge', 'wa', 'Jubilee', 'kuwa', 'atasalia', 'kuwa', 'kiongozi', 'wa', 'chama', 'hicho', 'tawala', 'na', 'yuko', 'tayari', 'kukiongoza', 'kuafikia', 'malengo', 'yake', 'ya', 'kuwa', 'sehemu', 'ya', 'serikali', 'ijayo', '.', '“', 'Lengo', 'kuu', 'la', 'Jubilee', 'ni', 'kuunga', 'mkono', 'mwaniaji', 'wa', 'urais', 'ambaye', 'tuna', 'maono', 'sawa', 'atakeyetuheshimu', 'na', 'kutujali', '.', 'Tutaunda', 'serikali', 'ijayo', 'kama', 'washirika', 'ili', 'miradi', 'tuliyoanzisha', 'miaka', '10', 'iliyopita', 'iendelezwe', ',', '”', 'Rais', 'Kenyatta', 'alisema', '.', 'Katika', 'mkutano', 'huo', 'wa', 'Ikulu', ',', 'Kiongozi', 'wa', 'Nchi', 'alitangaza', 'mipango', 'ya', '‘', 'kukipamba', '’', 'chama', 'cha', 'Jubilee', 'ili', 'kuwavutia', 'wakazi', 'wa', 'Mlima', 'Kenya', 'ambao', 'wengi', 'wao', 'wanaonekana', 'kupendelea', 'chama', 'cha', 'UDA', 'cha', 'Naibu', 'wa', 'Rais', '.', 'Katika', 'mkutano', 'wa', 'jana', ',', 'pia', 'ilifichuka', 'kuwa', 'chama', 'cha', 'ODM', 'cha', 'Bw', 'Odinga', 'huenda', 'kikalazimika', 'kuachia', 'Jubilee', 'kusimamisha', 'wawaniaji', 'katika', 'maeneo', 'mbalimbali', 'ya', 'nchi', 'kama', 'vile', 'Nairobi', 'na', 'Pwani', '.', 'Middlebrough', 'yadengua', 'Man-United', 'kwenye', 'Kombe', 'la', 'FA', 'kupitia', 'penalti', 'MANCHESTER', 'United', 'waliaga', 'kampeni', 'za', 'Kombe', 'la', 'FA', 'msimu', 'huu', 'baada', 'ya', 'Middlesbrough', 'kuwadengua', 'kwenye', 'raundi', 'ya', 'nne', 'ya', 'kipute', 'hicho', 'kwa', 'penalti', '8-7', 'mnamo', 'Ijumaa', 'usiku', 'uwanjani', 'Old', 'Trafford', '.', 'Mshindi', 'wa', 'mechi', 'hiyo', 'aliamuliwa', 'kupitia', 'penalti', 'baada', 'ya', 'pande', 'zote', 'mbili', 'kusajili', 'sare', 'ya', '1-1', 'kufikia', 'mwisho', 'wa', 'muda', 'wa', 'kawaida', '.', 'Chipukizi', 'Anthony', 'Elanga', 'alipaisha', 'mkwaju', 'wake', 'kwa', 'upande', 'wa', 'Man-United', 'na', 'kuwapa', 'mashabiki', '9,000', 'wa', 'Middlesbrough', 'kila', 'sababu', 'ya', 'kuondoka', 'uwanjani', 'wakitabasamu', '.', 'Droo', 'ya', 'raundi', 'ya', 'tano', 'ya', 'Kombe', 'la', 'FA', 'itafanyika', 'Jumapili', 'ya', 'Februari', '6', ',', '2022', 'baada', 'ya', 'Liverpool', 'kualika', 'Cardiff', 'City', ',', 'Leicester', 'City', 'kumenyana', 'na', 'Nottingham', 'Forest', 'na', 'AFC', 'Bournemouth', 'kuchuana', 'na', 'Boreham', 'Wood', 'katika', 'michuano', 'mingine', 'ya', 'raundi', 'ya', 'nne', 'mnamo', 'Februari', '5', ',', '2022', '.', 'Middlesbrough', 'sasa', 'hawajapigwa', 'katika', 'mechi', '11', 'zilizopita', 'kwenye', 'mashindano', 'yote', 'na', 'wanapigiwa', 'upatu', 'wa', 'kutamalaki', 'kampeni', 'za', 'Ligi', 'ya', 'Daraja', 'ya', 'Kwanza', '(', 'Championship', ')', 'na', 'kurejea', 'kwenye', 'EPL', 'msimu', 'ujao', 'wa', '2022-23', '.', 'Hii', 'ni', 'mara', 'yao', 'ya', 'pili', 'baada', 'ya', 'kukutana', 'na', 'kikosi', 'cha', 'EPL', 'mara', '11', 'kwenye', 'Kombe', 'la', 'FA', 'ambapo', 'wamesonga', 'mbele', 'kwenye', 'kivumbi', 'hicho', '.', 'Mara', 'ya', 'mwisho', 'ilikuwa', '2015', 'walipozamisha', 'Manchester', 'City', 'kwa', 'mabao', '2-0', 'ugani', 'Etihad', '.', 'Fedheha', 'zaidi', 'kwa', 'Man-United', 'ni', 'kwamba', 'waliochangia', 'kudenguliwa', 'kwao', 'kwenye', 'Kombe', 'la', 'FA', 'mnamo', 'Ijumaa', 'ni', 'chipukizi', 'wao', 'wa', 'zamani', '–', 'Duncan', 'Watmore', ',', 'Matt', 'Crooks', 'na', 'Paddy', 'McNair', '.', 'Licha', 'ya', 'Man-United', 'kutamalaki', 'mchezo', 'na', 'kumiliki', 'asilimia', 'kubwa', 'ya', 'mpira', ',', 'Cristiano', 'Ronaldo', 'alipiga', 'nje', 'penalti', 'katika', 'kipindi', 'cha', 'kwanza', 'nao', 'Bruno', 'Fernandes', 'na', 'Jadon', 'Sancho', 'wakapoteza', 'nafasi', 'nyingi', 'za', 'wazi', 'langoni', 'mwa', 'Middlesbrough', '.']\n",
      "\n",
      " Number of Words:  925\n"
     ]
    }
   ],
   "source": [
    "file=\"22feb5.txt\"\n",
    "\n",
    "# calling the function and storing the contents in a text variable \n",
    "text1 = get_document(\"https://taifaleo.nation.co.ke/kingi-ajitenga-na-lawama-jukwa-la-mkutano-wa-ruto-likiharibiwa-usiku/\")\n",
    "\n",
    "text2 = get_document(\"https://taifaleo.nation.co.ke/uhuru-ataja-mbinu-za-kuvumisha-raila/\")\n",
    "\n",
    "text3 = get_document(\"https://taifaleo.nation.co.ke/middlebrough-yadengua-man-united-kwenye-kombe-la-fa-kupitia-penalti/\")\n",
    "\n",
    "\n",
    "# calling the store_ document function \n",
    "store_document(doc=text1,name=file)\n",
    "store_document(doc=text2,name=file)\n",
    "store_document(doc=text3,name=file)\n",
    "\n",
    "\n",
    "#add the words in this file to the total_corpus_words, to keep count of the number of words in the corpus\n",
    "total_corpus_words+=total_words(file)"
   ]
  },
  {
   "cell_type": "code",
   "execution_count": 54,
   "metadata": {},
   "outputs": [
    {
     "data": {
      "text/plain": [
       "463816"
      ]
     },
     "execution_count": 54,
     "metadata": {},
     "output_type": "execute_result"
    }
   ],
   "source": [
    "total_corpus_words"
   ]
  },
  {
   "cell_type": "code",
   "execution_count": 55,
   "metadata": {},
   "outputs": [
    {
     "name": "stdout",
     "output_type": "stream",
     "text": [
      "['Katika', 'nafasi', 'za', 'udiwani', ',', 'karibu', 'kila', 'chama', 'kinalenga', 'kupata', 'Sh81.2', 'milioni', '.', 'Kuna', 'nafasi', '1,881', 'za', 'udiwani', 'nchini', '.', 'Katika', 'nafasi', 'za', 'ugavana', ',', 'vinalenga', 'kupata', 'Sh23.5', 'milioni', ',', 'huku', 'nafasi', 'za', 'useneta', ',', 'uwakilishi', 'wa', 'wanawake', 'na', 'ubunge', 'zikitarajiwa', 'kuvizolea', 'Sh11.8', 'milioni', ',', 'Sh9.4', 'miliomi', 'na', 'Sh72.5', 'milioni', 'mtawalia', '.', 'Kiasi', 'hicho', 'ni', 'ikiwa', 'chama', 'kitafanikiwa', 'kupata', 'ombi', 'kwa', 'mwaniaji', 'kutoka', 'kila', 'nafasi', 'ya', 'kisiasa', '.', 'Kama', 'ishara', 'ya', 'ushindani', 'mkubwa', 'utakaokuwepo', 'kwenye', 'shughuli', 'hizo', ',', 'Afisi', 'ya', 'Msajili', 'wa', 'Vyama', 'vya', 'Kisiasa', 'imepokea', 'zaidi', 'ya', 'maombi', '1,000', 'ya', 'usajili', 'wa', 'vyama', 'vya', 'kisiasa', 'tangu', '2017', '.', 'Tayari', ',', 'vyama', 'vitano', 'vya', 'kisiasa—United', 'Democratic', 'Alliance', '(', 'UDA', ')', ',', 'Amani', 'National', 'Congress', '(', 'ANC', ')', ',', 'Ford-Kenya', ',', 'Chama', 'Cha', 'Kazi', 'na', 'United', 'Party', 'of', 'Independence', 'Alliance', '(', 'UPIA', ')', '—vishaanza', 'mikakati', 'ya', 'kuendesha', 'zoezi', 'hilo', '.', 'Mnamo', '2017', ',', 'jumla', 'ya', 'wawaniaji', '12', ',', '119', 'walishiriki', 'kwenye', 'shughuli', 'za', 'mchujo', '.', 'Wadadisi', 'wasema', 'huenda', 'idadi', 'ya', 'wawaniaji', 'ikaongezeka', 'mara', 'hii', '.', 'Katika', 'kile', 'kinachoonekana', 'kama', 'mkakati', 'wa', 'kuwavutia', 'wanawake', 'zaidi', 'kuwania', 'nyadhifa', 'tofauti', 'za', 'kisiasa', ',', 'vyama', 'vingi', 'vimepunguza', 'ada', 'ambazo', 'wanawake', 'wanahitajika', 'kulipa', 'ili', 'kushiriki', 'kwenye', 'mchujo', '.', 'Vingi', 'vimepunguza', 'ada', 'hizo', 'kwa', 'asilimia', '50', 'kwa', 'wanawake', 'na', 'vijana', '.', 'Walemavu', 'hawatakuwa', 'wakilipa', 'ada', 'zozote', 'katika', 'vyama', 'vya', 'UDA', ',', 'CCK', 'na', 'UPIA', '.', 'Katika', 'chama', 'cha', 'UDA', ',', 'ambacho', 'kinaongozwa', 'na', 'Naibu', 'Rais', 'William', 'Ruto', ',', 'wawaniaji', 'wamepewa', 'hadi', 'mwishoni', 'mwa', 'mwezi', 'huu', 'kutuma', 'maombi', 'yao', '.', '“', 'Maombi', 'hayo', 'yanapaswa', 'kutumwa', 'kupitia', 'tovuti', 'ya', 'chama', ',', '”', 'akaeleza', 'mwenyekiti', 'wa', 'chama', 'hicho', ',', 'Bw', 'Anthony', 'Mwaura', '.']\n",
      "\n",
      " Number of Words:  263\n"
     ]
    }
   ],
   "source": [
    "file=\"22feb11.txt\"\n",
    "\n",
    "# calling the function and storing the contents in a text variable \n",
    "text = get_document(\"https://taifaleo.nation.co.ke/vyama-tayari-kuvuna-kupitia-mchujo/\")\n",
    "\n",
    "# calling the store_ document function \n",
    "store_document(doc=text,name=file)\n",
    "\n",
    "#add the words in this file to the total_corpus_words, to keep count of the number of words in the corpus\n",
    "total_corpus_words+=total_words(file)"
   ]
  },
  {
   "cell_type": "code",
   "execution_count": 56,
   "metadata": {},
   "outputs": [
    {
     "data": {
      "text/plain": [
       "464079"
      ]
     },
     "execution_count": 56,
     "metadata": {},
     "output_type": "execute_result"
    }
   ],
   "source": [
    "total_corpus_words"
   ]
  },
  {
   "cell_type": "code",
   "execution_count": 58,
   "metadata": {},
   "outputs": [
    {
     "name": "stdout",
     "output_type": "stream",
     "text": [
      "['MKU', 'yasifu', 'utaratibu', 'wa', 'kuwaweka', 'waajiriwa', 'katika', 'mkataba', 'wa', 'utendakazi', 'CHUO', 'Kikuu', 'cha', 'Mount', 'Kenya', '(', 'MKU', ')', 'kimeweka', 'mkataba', 'wa', 'utendaji', 'kazi', 'kwa', 'wafanyakazi', 'wote', 'chuoni', 'humo', '.', 'Mwenyekiti', 'wa', 'kamati', 'ya', 'chuo', 'hicho', ',', 'Profesa', 'David', 'Serem', 'alieleza', 'kwamba', 'hatua', 'hiyo', 'ni', 'muhimu', 'kwa', 'sababu', 'inabadilisha', 'mwelekeo', 'wa', 'utendaji', 'kazi', 'wa', 'wafanyakazi', 'chuoni', '.', '“', 'Kwa', 'muda', 'wa', 'miaka', 'miwili', 'tangu', 'tuweke', 'saini', 'makubaliano', 'hayo', ',', 'wafanyakazi', 'wa', 'hapa', 'chuoni', 'wameonyesha', 'mwelekeo', 'mzuri', 'katika', 'majukumu', 'yao', 'na', 'tuna', 'imani', 'mwelekeo', 'utabaki', 'kuwa', 'ni', 'huo', ',', '”', 'alifafanua', 'Prof', 'Serem', '.', 'Aliyasema', 'hayo', 'mnamo', 'Ijumaa', 'wakati', 'wa', 'kutia', 'saini', 'mkataba', 'wa', 'maelewano', 'ambao', 'huendeshwa', 'aghalabu', 'kila', 'mwaka', '.', 'Naibu', 'Chansela', 'wa', 'chuo', 'hicho', 'Prof', 'Deogratius', 'Jaganyi', 'aliyehudhuria', 'hafla', 'hiyo', 'alisema', 'ni', 'muhimu', 'kwa', 'mpango', 'huo', 'kuendelea', '.', '“', 'Kutiwa', 'saini', 'kwa', 'mpango', 'huo', 'miongoni', 'mwa', 'wafanyakazi', 'wa', 'chuo', 'hiki', 'ni', 'muhimu', 'kwa', 'sababu', 'mpango', 'huo', 'utaboresha', 'utendaji', 'kazi', 'wa', 'kila', 'mwajiriwa', ',', '”', 'alieleza', 'Prof', 'Jaganyi', '.', 'Profesa', 'Jaganyi', 'alitoa', 'hakikisho', 'kwa', 'wasimamizi', 'wa', 'chuo', 'hicho', 'kuwa', 'mpango', 'huo', 'ni', 'hatua', 'kubwa', 'ya', 'kujivunia', 'na', 'itaweza', 'kuboresha', 'matakwa', 'ya', 'wafanyakazi', 'wote', 'wa', 'chuo', 'hicho', 'kufuatana', 'na', 'ruwaza', 'ya', 'mwaka', 'wa', '2020', 'hadi', '2029', '.', 'Alieleza', 'kuwa', 'mwaka', '2021', 'mkataba', 'uliotiwa', 'saini', 'na', 'wafanyakazi', 'ulikuwa', 'wa', 'kufana', 'na', 'kuna', 'matumaini', 'ya', 'mazuri', 'mengi', 'kuonekana', '.', '“', 'Mtu', 'mmoja', 'hawezi', 'akafanikiwa', 'akiwa', 'pekee', 'lakini', 'tukiungana', 'pamoja', 'tutafika', 'mbali', '.', 'Mtu', 'mmoja', 'ni', 'kama', 'tone', 'la', 'maji', 'lakini', 'umoja', 'wetu', 'ni', 'kama', 'ziwa', ',', '”', 'Profesa', 'Jaganyi', 'alisema', 'akinukuu', 'matamshi', 'ya', 'msomi', 'mmoja', 'kwa', 'jina', 'Ryunosuke', 'Satoro', '.', 'Baadhi', 'ya', 'wakuu', 'wengine', 'waliohudhuria', 'hafla', 'hiyo', 'ya', 'kutia', 'saini', 'ni', 'Pro-Chansela', 'wa', 'chuo', 'hicho', 'Dkt', 'Vincent', 'Gaitho', 'na', 'mkuu', 'wa', 'utafiti', 'na', 'masomo', 'ya', 'juu', 'Dkt', 'Bibian', 'Waiganjo', 'Aidi', '.']\n",
      "\n",
      " Number of Words:  287\n"
     ]
    }
   ],
   "source": [
    "file=\"22feb21.txt\"\n",
    "\n",
    "# calling the function and storing the contents in a text variable \n",
    "text = get_document(\"https://taifaleo.nation.co.ke/mku-yasifu-utaratibu-wa-kuwaweka-waajiriwa-katika-mkataba-wa-utendakazi/\")\n",
    "\n",
    "# calling the store_ document function \n",
    "store_document(doc=text,name=file)\n",
    "\n",
    "#add the words in this file to the total_corpus_words, to keep count of the number of words in the corpus\n",
    "total_corpus_words+=total_words(file)"
   ]
  },
  {
   "cell_type": "code",
   "execution_count": 59,
   "metadata": {},
   "outputs": [
    {
     "data": {
      "text/plain": [
       "464366"
      ]
     },
     "execution_count": 59,
     "metadata": {},
     "output_type": "execute_result"
    }
   ],
   "source": [
    "total_corpus_words"
   ]
  },
  {
   "cell_type": "code",
   "execution_count": 60,
   "metadata": {},
   "outputs": [
    {
     "name": "stdout",
     "output_type": "stream",
     "text": [
      "['Raia', 'waingiwa', 'na', 'hofu', 'polisi', 'wakiendelea', 'kujiua', 'WASIWASI', 'umekumba', 'Wakenya', 'kuhusu', 'usalama', 'wao', 'kutokana', 'na', 'ongezeko', 'la', 'visa', 'vya', 'maafisa', 'wa', 'polisi', 'wanaopaswa', 'kuwalinda', 'kuua', 'familia', 'zao', 'na', 'kujiua', 'kutokana', 'na', 'matatizo', 'ya', 'akili', '.', 'Hali', 'hii', 'inaendelea', 'kusumbua', 'Huduma', 'ya', 'Polisi', '(', 'NPS', ')', 'huku', 'visa', 'hivi', 'vikiendelea', 'kutokea', 'licha', 'ya', 'kuwepo', 'kwa', 'mpango', 'wa', 'kuwapa', 'maafisa', 'wa', 'polisi', 'ushauri', 'wa', 'kisaikolojia', '.', 'Kinachozua', 'wasiwasi', 'ni', 'kuwa', 'maafisa', 'wanaohusika', 'ni', 'wa', 'umri', 'mdogo', 'na', 'ambao', 'ni', 'tegemeo', 'la', 'kikosi', 'hicho', 'siku', 'zijazo', '.', 'Katika', 'kisa', 'cha', 'hivi', 'punde', ',', 'afisa', 'wa', 'polisi', 'Antony', 'Mwangi', 'Njuguna', ',', '29', 'alimuua', 'mkewe', 'Maureen', 'Moraa', 'Kiriago', ',', '27', 'kwa', 'kumpiga', 'risasi', 'kabla', 'ya', 'kujiua', '.', 'Kisa', 'hicho', 'kilitokea', 'katika', 'mji', 'wa', 'Migori', 'Jumapili', '.', 'Majirani', 'walisema', 'kwamba', 'wawili', 'hao', 'waligombana', 'kabla', 'ya', 'milio', 'ya', 'risasi', 'kusikika', 'ndani', 'ya', 'nyumba', 'yao', '.', 'Mnamo', 'Januari', 'mwaka', 'huu', ',', 'afisa', 'wa', 'polisi', 'Dorcas', 'Chebet', 'alimpiga', 'risasi', 'mumewe', 'Abed', 'Ondari', 'ambaye', 'pia', 'ni', 'afisa', 'wa', 'polisi', 'kabla', 'ya', 'kujilipua', 'kwa', 'risasi', 'ndani', 'ya', 'nyumba', 'yao', 'katika', 'kituo', 'cha', 'polisi', 'cha', 'Kiungani', ',', 'Kaunti', 'ya', 'Trans', 'Nzoia', '.', 'Kisa', 'hiki', 'kilifuatia', 'kingine', 'Desemba', '2021', 'ambapo', 'afisa', 'wa', 'polisi', 'alimuua', 'mkewe', 'na', 'watu', 'wengine', 'watano', 'kwa', 'kuwapiga', 'risasi', 'eneo', 'la', 'Kabete', ',', 'Nairobi', '.', 'Afisa', 'huyo', 'alijiua', 'pia', 'kwa', 'kujipiga', 'risasi', '.', 'Mwezi', 'huo', ',', 'afisa', 'wa', 'polisi', 'alijitia', 'kitanzi', 'katika', 'Kaunti', 'ya', 'Mombasa', 'na', 'kuacha', 'ujumbe', 'akisema', 'alikuwa', 'amezongwa', 'na', 'madeni', '.', 'Mapema', 'mwaka', '2021', ',', 'Caroline', 'Kagongo', ',', 'afisa', 'wa', 'polisi', 'aliyekuwa', 'akihudumu', 'Nakuru', 'aliwaua', 'watu', 'wawili', ',', 'mmoja', 'akiwa', 'afisa', 'mwenzake', 'wa', 'polisi', 'kabla', 'ya', 'kujiua', 'akiwa', 'nyumbani', 'kwa', 'wazazi', 'wake', '.', 'Wanaharakati', 'wanasema', 'kuwa', 'maafisa', 'wanaosumbuliwa', 'na', 'mafadhaiko', 'ni', 'hatari', 'kwa', 'raia', 'wanaopaswa', 'kupewa', 'ulinzi', '.', '“', 'Kwa', 'mfano', ',', 'chukua', 'kisa', 'ambacho', 'afisa', 'wa', 'polisi', 'aliwamiminia', 'risasi', 'raia', 'watano', 'wasio', 'na', 'hatia', 'eneo', 'la', 'Kabete', 'baada', 'ya', 'kumuua', 'mkewe', '.', 'Afisa', 'wa', 'polisi', 'aliye', 'na', 'matatizo', 'ya', 'akili', 'ni', 'hatari', 'kwa', 'raia', 'pia', '.', 'Ikiwa', 'wanaangamiza', 'familia', 'zao', ',', 'je', 'itakuwaje', 'kwa', 'raia', '?', '”', 'anasema', 'mwanaharakati', 'Imran', 'Ali', '.', 'Ingawa', 'maafisa', 'wakuu', 'wa', 'polisi', 'na', 'wizara', 'ya', 'Usalama', 'wa', 'Ndani', 'wanasema', 'kwamba', 'wamechukua', 'hatua', 'za', 'kukabiliana', 'na', 'hali', 'hii', ',', 'kuongezeka', 'kwa', 'visa', 'vya', 'maafisa', 'kutekeleza', 'mauaji', 'hasa', 'familia', 'zao', 'na', 'kujiua', ',', 'kama', 'hali', 'inayotishia', 'usalama', 'wa', 'raia', '.', '“', 'Huduma', 'ya', 'polisi', '(', 'NPS', ')', 'imeanza', 'mpango', 'wa', 'kuhamasisha', 'maafisa', 'wote', 'kukabiliana', 'na', 'matatizo', 'ya', 'akili', 'ili', 'waweze', 'kutimiza', 'majukumu', 'yao', 'ya', 'kutoa', 'usalama', 'na', 'ulinzi', 'nchini', ',', '”', 'alisema', 'Inspekta', 'Jenerali', 'wa', 'polisi', 'Hillary', 'Mutyambai', '.', 'Mpango', 'huo', 'unalenga', 'kuwawezesha', 'maafisa', 'wa', 'polisi', 'wa', 'viwango', 'vyote', 'kukabili', 'matatizo', 'ya', 'kiakili', 'wanayopata', 'kutokana', 'na', 'hali', 'ya', 'kazi', 'yao', '.', 'Hata', 'hivyo', ',', 'Bw', 'Ali', 'anasema', 'uchunguzi', 'wa', 'kina', 'unafaa', 'kufanywa', 'ili', 'kukabiliana', 'kikamilifu', 'na', 'hali', 'hii', 'kabla', 'ya', 'kugeuka', 'kuwa', 'tishio', 'kwa', 'usalama', 'wa', 'raia', '.', '“', 'Maswali', 'ambayo', 'yanafaa', 'kuwa', 'msingi', 'wa', 'uchunguzi', 'huo', 'ni', 'kama', 'vile', ',', 'kwa', 'nini', 'maafisa', 'wanaohusika', 'na', 'visa', 'hivi', 'ni', 'wale', 'wa', 'umri', 'wa', 'chini', 'kuanzia', 'miaka', '24', 'hadi', '32', 'na', 'kwa', 'nini', 'wengi', 'ni', 'wale', 'wa', 'vyeo', 'vya', 'chini', ',', '”', 'asema', '.']\n",
      "\n",
      " Number of Words:  510\n"
     ]
    }
   ],
   "source": [
    "file=\"22feb22.txt\"\n",
    "\n",
    "# calling the function and storing the contents in a text variable \n",
    "text = get_document(\"https://taifaleo.nation.co.ke/raia-waingiwa-na-hofu-polisi-wakiendelea-kujiua/\")\n",
    "\n",
    "# calling the store_ document function \n",
    "store_document(doc=text,name=file)\n",
    "\n",
    "#add the words in this file to the total_corpus_words, to keep count of the number of words in the corpus\n",
    "total_corpus_words+=total_words(file)"
   ]
  },
  {
   "cell_type": "code",
   "execution_count": 61,
   "metadata": {},
   "outputs": [
    {
     "data": {
      "text/plain": [
       "464876"
      ]
     },
     "execution_count": 61,
     "metadata": {},
     "output_type": "execute_result"
    }
   ],
   "source": [
    "total_corpus_words"
   ]
  },
  {
   "cell_type": "code",
   "execution_count": 63,
   "metadata": {},
   "outputs": [
    {
     "name": "stdout",
     "output_type": "stream",
     "text": [
      "['Sabina', 'Chege', 'akwepa', 'kikao', 'na', 'IEBC', 'MWAKILISHI', 'wa', 'Kike', 'wa', 'Kaunti', 'ya', 'Murang', '’', 'a', ',', 'Bi', 'Sabina', 'Chege', ',', 'jana', 'Jumanne', 'alikosa', 'kuhudhuria', 'kikao', 'ambapo', 'alitarajiwa', 'kuhojiwa', 'na', 'Tume', 'Huru', 'ya', 'Uchaguzi', 'na', 'Mipaka', '(', 'IEBC', ')', 'kuhusiana', 'na', 'matamshi', 'aliyotoa', 'kuhusu', 'wizi', 'wa', 'kura', '.', 'Bi', 'Chege', 'alitoa', 'matamshi', 'hayo', 'kwenye', 'mkutano', 'wa', 'kisiasa', 'wa', 'vuguvugu', 'la', 'Azimio', 'la', 'Umoja', 'katika', 'Kaunti', 'ya', 'Vihiga', 'wiki', 'iliyopita', ',', 'ambapo', 'alidai', 'kuwa', 'Chama', 'cha', 'Jubilee', 'kilishiriki', 'wizi', 'wa', 'kura', '2017', '.']\n",
      "\n",
      " Number of Words:  81\n"
     ]
    }
   ],
   "source": [
    "file=\"22feb23.txt\"\n",
    "\n",
    "# calling the function and storing the contents in a text variable \n",
    "text1 = get_document(\"https://taifaleo.nation.co.ke/sabina-chege-akwepa-kikao-na-iebc/\")\n",
    "\n",
    "# calling the store_ document function \n",
    "store_document(doc=text1,name=file)\n",
    "\n",
    "#add the words in this file to the total_corpus_words, to keep count of the number of words in the corpus\n",
    "total_corpus_words+=total_words(file)"
   ]
  },
  {
   "cell_type": "code",
   "execution_count": 64,
   "metadata": {},
   "outputs": [
    {
     "data": {
      "text/plain": [
       "464957"
      ]
     },
     "execution_count": 64,
     "metadata": {},
     "output_type": "execute_result"
    }
   ],
   "source": [
    "total_corpus_words"
   ]
  },
  {
   "cell_type": "code",
   "execution_count": 66,
   "metadata": {},
   "outputs": [
    {
     "name": "stdout",
     "output_type": "stream",
     "text": [
      "['Ripoti', 'kuhusu', 'tabia', 'ya', 'mshukiwa', 'iliyowasilishwa', 'mahakamani', ',', 'ilionyesha', 'kuwa', 'familia', 'hiyo', 'pia', 'ilisema', 'huenda', 'akavamiwa', 'na', 'jamii', 'ambayo', 'bado', 'ina', 'hasira', 'naye', '.', '“', 'Wanahisi', 'kwamba', 'ikiwa', 'ataachiliwa', 'kwa', 'dhamana', ',', 'anaweza', 'kuchomwa', 'kwa', 'kuwa', 'jamii', 'ina', 'hasira', 'naye', 'kutokana', 'na', 'kitendo', 'anachohusishwa', 'nacho', '.', 'Familia', 'pia', 'inahofia', 'kwamba', 'kwa', 'vile', '(', 'Majid', ')', 'amekuwa', 'akiishi', 'nje', 'ya', 'nchi', ',', 'anaweza', 'kutoroka', 'kwa', 'urahisi', 'bila', 'kujulikana', 'hivyo', 'basi', 'kuhujumu', 'kupatikana', 'kwa', 'haki', ',', '”', 'ripoti', 'hiyo', 'ilisema', '.', 'Kutokana', 'na', 'uchunguzi', 'uliofanywa', 'na', 'polisi', ',', 'mtuhumiwa', 'ameishi', 'Dubai', 'kwa', 'muda', 'mrefu', 'na', 'pia', 'ana', 'jamaa', 'zake', 'wanaoishi', 'nje', 'ya', 'nchi', '.', 'Jaji', 'wa', 'Mahakama', 'Kuu', 'ya', 'Mombasa', ',', 'Bi', 'Anne', 'Ong', '’', 'injo', ',', 'aliamua', 'kulikuwa', 'na', 'sababu', 'za', 'kutosha', 'za', 'kumnyima', 'dhamana', 'Bw', 'Majid', 'hadi', 'kesi', 'itakapoamuliwa', '.', 'Mahakama', 'ilikataa', 'pendekezo', 'lake', 'la', 'kuhamia', 'Juja', ',', 'Kaunti', 'ya', 'Kiambu', 'ambako', 'ana', 'marafiki', 'zake', 'ikibainika', 'kuwa', 'alikosa', 'kufichua', 'marafiki', 'hao', 'ni', 'kina', 'nani', 'na', 'kwamba', 'marafiki', 'hao', 'hawakuweza', 'kupatikana', 'kwa', 'ajili', 'ya', 'mahojiano', '.', 'Vijana', 'wakosolewa', 'kupenda', 'bodaboda', 'badala', 'ya', 'masomo', 'MBUNGE', 'wa', 'Galole', ',', 'Bw', 'Said', 'Hiribai', ',', 'amewakosoa', 'vijana', 'wa', 'Tana', 'River', 'ambao', 'huchagua', 'biashara', 'ya', 'bodaboda', 'badala', 'ya', 'kutumia', 'nafasi', 'walizotengewa', 'katika', 'vyuo', 'vya', 'kiufundi', 'kujielimisha', '.', 'Mbunge', 'huyo', 'alisema', 'serikali', 'ya', 'kitaifa', 'ilitenga', 'pesa', 'za', 'kufadhili', 'masomo', 'ya', 'vijana', 'katika', 'vyuo', 'hivyo', 'na', 'kuna', 'ufadhili', 'mwingine', 'kutoka', 'kwa', 'maeneobunge', 'ilhali', 'vijana', 'wamekataa', 'kujisajili', '.', 'Kulingana', 'naye', ',', 'kazi', 'nyingi', 'hutokea', 'katika', 'kaunti', 'na', 'maafisa', 'hulazimika', 'kutafuta', 'wataalamu', 'kutoka', 'nje', 'kwa', 'sababu', 'walio', 'na', 'ujuzi', 'wa', 'kiufundi', 'hawapatikani', 'katika', 'kaunti', 'hiyo', '.', 'Chuo', 'cha', 'mafunzo', 'ya', 'kiufundi', 'cha', 'Hola', 'kina', 'wanafunzi', 'wasiozidi', '200', 'tangu', 'kilipofunguliwa', 'Februari', '2021', '.', 'Hali', 'sawa', 'na', 'hii', 'imekuwa', 'ikishuhudiwa', 'katika', 'kaunti', 'nyingine', 'mbalimbali', 'za', 'Pwani', '.', 'Waziri', 'wa', 'Elimu', 'katika', 'Kaunti', 'ya', 'Kilifi', ',', 'Bi', 'Rachael', 'Musyoki', ',', 'hata', 'hivyo', 'alisema', 'hamasisho', 'limeanzishwa', 'kuongeza', 'idadi', 'ya', 'vijana', 'wanaojiunga', 'na', 'taasisi', 'hizo', '.', '“', 'Vijana', 'wetu', 'hawataki', 'kusomea', 'mafunzo', 'yanayochukua', 'muda', 'mrefu', '.', 'Tulianzisha', 'kozi', 'za', 'muda', 'mfupi', 'na', 'vijana', 'sasa', 'wanajiandikisha', ',', 'kumaanisha', 'wameanza', 'kufahamu', 'kwamba', 'taasisi', 'hizi', 'si', 'za', 'waliofeli', 'masomoni', ',', '”', 'akasema', '.', 'Takwimu', 'zimeonyesha', 'kuwa', 'idadi', 'ya', 'wanafunzi', 'iliongezeka', 'kutoka', '3,000', 'hadi', '5,400', 'katika', 'miaka', 'miwili', 'iliyopita', 'ilhali', 'vijana', 'takriban', '10,000', 'wamekuwa', 'wakilengwa', 'Kilifi', 'pekee', '.', 'Hivi', 'majuzi', ',', 'mkuu', 'wa', 'chuo', 'cha', 'ufundi', 'cha', 'Weru', ',', 'Kaunti', 'ya', 'Kwale', ',', 'Bw', 'Edward', 'Mwagambo', 'alisema', 'kati', 'ya', 'jumla', 'ya', 'wanafunzi', '780', 'katika', 'chuo', 'hicho', 'cha', 'ufundi', ',', '150', 'pekee', 'ni', 'wenyeji', '.', 'Chuo', 'hicho', 'kina', 'uwezo', 'wa', 'kusajili', 'wanafunzi', '1,500.Hapo', 'awali', ',', 'aliyekuwa', 'katibu', 'wa', 'vyuo', 'vya', 'ufundi', 'nchini', 'chini', 'ya', 'Wizara', 'ya', 'Elimu', ',', 'Bw', 'Kevit', 'Desai', 'alielezea', 'masikitiko', 'yake', 'kutokana', 'na', 'idadi', 'ndogo', 'ya', 'vijana', 'wanajiounga', 'na', 'vyuo', 'hivyo', 'katika', 'eneo', 'la', 'Pwani', '.', 'Katibu', 'huyo', 'alitoa', 'mfano', 'wa', 'chuo', 'kimoja', 'katika', 'Kaunti', 'ya', 'Kwale', 'kilicho', 'na', 'uwezo', 'wa', 'kuwa', 'na', 'wanafunzi', '1,000', 'lakini', 'kilikuwa', 'na', 'wanafunzi', '13', 'pekee', '.']\n",
      "\n",
      " Number of Words:  475\n"
     ]
    }
   ],
   "source": [
    "file=\"22feb24.txt\"\n",
    "\n",
    "# calling the function and storing the contents in a text variable \n",
    "text2 = get_document(\"https://taifaleo.nation.co.ke/familia-yapinga-mshukiwa-wa-mauaji-ya-baba-yake-kupewa-dhamana/\")\n",
    "text3 = get_document(\"https://taifaleo.nation.co.ke/vijana-wakosolewa-kupenda-bodaboda-badala-ya-masomo/\")\n",
    "\n",
    "\n",
    "# calling the store_ document function \n",
    "store_document(doc=text2,name=file)\n",
    "store_document(doc=text3,name=file)\n",
    "\n",
    "\n",
    "#add the words in this file to the total_corpus_words, to keep count of the number of words in the corpus\n",
    "total_corpus_words+=total_words(file)"
   ]
  },
  {
   "cell_type": "code",
   "execution_count": 67,
   "metadata": {},
   "outputs": [
    {
     "data": {
      "text/plain": [
       "465432"
      ]
     },
     "execution_count": 67,
     "metadata": {},
     "output_type": "execute_result"
    }
   ],
   "source": [
    "total_corpus_words"
   ]
  },
  {
   "cell_type": "code",
   "execution_count": 69,
   "metadata": {},
   "outputs": [
    {
     "name": "stdout",
     "output_type": "stream",
     "text": [
      "['Middlesbrough', 'yadengua', 'Tottenham', 'FA', 'CHINI', 'YA', 'kocha', 'Chris', 'Wilder', ',', 'Middlebrough', 'waliendeleza', 'makali', 'yao', 'dhidi', 'ya', 'miamba', 'wa', 'soka', 'ya', 'Ligi', 'Kuu', 'ya', 'Uingereza', '(', 'EPL', ')', 'kwa', 'kudengua', 'Tottenham', 'Hotspur', 'kwenye', 'raundi', 'ya', 'tano', 'ya', 'kipute', 'hicho', 'kwa', 'bao', '1-0', 'ugani', 'Riverside', 'na', 'kuingia', 'robo-fainali', 'kwa', 'mara', 'ya', 'kwanza', 'tangu', '2017', '.', 'Mshindi', 'wa', 'kipute', 'hicho', 'alipatikana', 'katika', 'dakika', 'ya', '107', 'baada', 'ya', 'pande', 'zote', 'mbili', 'kuingia', 'muda', 'wa', 'ziada', 'zilipotoshana', 'nguvu', 'kwa', 'sare', 'tasa', 'kufikia', 'mwisho', 'wa', 'dakika', '90', '.', 'Middlesbrough', 'walishuka', 'dimbani', 'wakiwa', 'na', 'motisha', 'tele', 'ikizingatiwa', 'kwamba', 'walibandua', 'Manchester', 'United', 'kwenye', 'raundi', 'ya', 'nne', '.', 'Bao', 'la', 'pekee', 'na', 'la', 'ushindi', 'katika', 'mchuano', 'huo', 'lilifumwa', 'wavuni', 'na', 'Josh', 'Coburn', 'baada', 'ya', 'kushirikiana', 'vilivyo', 'na', 'Matt', 'Crooks', 'ambaye', 'pia', 'alimshughulisha', 'vilivyo', 'kipa', 'Hugo', 'Lloris', '.', 'Yalikuwa', 'matarajio', 'ya', 'Spurs', 'kwamba', 'kocha', 'Antonio', 'Conte', 'angewaongoza', 'kutia', 'kapuni', 'Kombe', 'la', 'FA', 'msimu', 'huu', 'na', 'hivyo', 'kutamatisha', 'ukame', 'wa', 'kipindi', 'cha', 'miaka', '14', 'bila', 'taji', 'lolote', '.', 'Middlebrough', 'wanaoshiriki', 'Ligi', 'ya', 'Daraja', 'ya', 'Kwanza', 'nchini', 'Uingereza', '(', 'Championship', ')', 'sasa', 'wamshinda', 'mechi', 'nane', 'mfululizo', 'ugani', 'Riverside', '.', 'Middlebrough', 'walidengua', 'Man-United', 'katika', 'raundi', 'ya', 'nne', 'ya', 'Kombe', 'la', 'FA', 'kwa', 'penalti', '8-7', 'baada', 'ya', 'kuambulia', 'sare', 'ya', '1-1', 'mwishoni', 'mwa', 'muda', 'wa', 'ziada', '.', 'Conte', 'alijilaumu', 'mwishoni', 'mwa', 'mechi', 'dhidi', 'ya', 'Middlesbrough', 'kwa', 'kuwajibisha', 'kikosi', 'sawa', 'na', 'alichokitegemea', 'katika', 'ushindi', 'wa', '4-0', 'dhidi', 'ya', 'Leeds', 'United', 'kwenye', 'EPL', 'mnamo', 'Februari', '26', ',', '2022', '.', 'Spurs', 'hawajawahi', 'kunyanyua', 'taji', 'la', 'kipute', 'chochote', 'tangu', 'watawazwe', 'wafalme', 'wa', 'League', 'Cup', 'mnamo', '2008', '.', 'Kikosi', 'hicho', 'sasa', 'kimepoteza', 'mechi', 'saba', 'kati', 'ya', '13', 'zilizopita', 'mwaka', 'huu', 'wa', '2022', '.']\n",
      "\n",
      " Number of Words:  264\n"
     ]
    }
   ],
   "source": [
    "file=\"22march2.txt\"\n",
    "\n",
    "# calling the function and storing the contents in a text variable \n",
    "text = get_document(\"https://taifaleo.nation.co.ke/middlesbrough-yadengua-tottenham-fa/\")\n",
    "\n",
    "# calling the store_ document function \n",
    "store_document(doc=text,name=file)\n",
    "\n",
    "#add the words in this file to the total_corpus_words, to keep count of the number of words in the corpus\n",
    "total_corpus_words+=total_words(file)"
   ]
  },
  {
   "cell_type": "code",
   "execution_count": 70,
   "metadata": {},
   "outputs": [
    {
     "data": {
      "text/plain": [
       "465696"
      ]
     },
     "execution_count": 70,
     "metadata": {},
     "output_type": "execute_result"
    }
   ],
   "source": [
    "total_corpus_words"
   ]
  },
  {
   "cell_type": "code",
   "execution_count": 71,
   "metadata": {},
   "outputs": [
    {
     "name": "stdout",
     "output_type": "stream",
     "text": [
      "['Washukiwa', 'wa', 'ulaghai', 'walemewa', 'kulipa', 'dhamana', 'ya', 'Sh8m', 'WAKURUGENZI', 'wawili', 'walioghushi', 'cheti', 'cha', 'ulipaji', 'kodi', 'ili', 'kampuni', 'yao', 'ishinde', 'zabuni', 'ya', 'kununua', 'taa', 'za', 'kutumika', 'wakati', 'wa', 'uchaguzi', 'mkuu', 'wa', '2013', 'wameshindwa', 'kulipa', 'faini', 'ya', 'Sh8milioni', 'waliyotozwa', 'Jumanne', '.', 'Benson', 'Gethi', 'Wangui', 'na', 'Joyce', 'Makena', 'walitozwa', 'faini', 'ya', 'Sh4milioni', 'kila', 'mmoja', 'ama', 'watumikie', 'kifungo', 'cha', 'miaka', 'mitano', 'wakishindwa', 'kuilipa', '.', 'Hakimu', 'mkuu', 'mahakama', 'ya', 'kuamua', 'kesi', 'za', 'ufisadi', 'alisema', 'Gethi', 'na', 'Makena', 'ndio', 'walipanga', 'njama', 'ya', 'kubadilishwa', 'kwa', 'hati', 'za', 'tenda', 'waliyowasilishwa', 'kwa', 'tume', 'huru', 'ya', 'uchaguzi', 'na', 'mipaka', 'IEBC', '.', 'Mugambi', 'alisema', 'Ochae', 'alikuwa', 'na', 'umri', 'wa', 'siku', '21', 'tangu', 'aajiriwe', '2013', 'alipoghushi', 'hati', 'hizo', 'za', 'kampuni', 'ya', 'Solarmak', 'Technologies', 'Limited', '(', 'STL', ')', 'kuonyesha', 'ilikuwa', 'itumie', 'Sh105milioni', 'kununua', 'taa', 'hizo', 'za', 'kutumia', 'miale', 'ya', 'jua', 'kuwaka', '.', 'Aliyekuwa', 'meneja', 'wa', 'shughuli', 'za', 'mauzo', 'IEBC', 'Willie', 'Gachanja', 'Kamanga,70', ',', 'alitozwa', 'faini', 'ya', 'Sh800,000', 'kwa', 'kushindwa', 'kulinda', 'hati', 'za', 'zabuni', 'za', 'IEBC', 'za', 'kununua', 'vifaa', 'mbali', 'mbali', 'ambavyo', 'vingelitumika', 'wakati', 'wa', 'uchaguzi', 'mkuu', 'ujao', '.', 'Hakuna', 'mmoja', 'kati', 'ya', 'hao', 'watano', 'aliyeweza', 'kulipa', 'faini', 'waliyotozwa', '.', 'Mugambi', 'alisema', 'amewatoza', 'faini', 'kwa', 'vile', 'ni', 'wakosaji', 'wa', 'mara', 'ya', 'kwanza', '.', '“', 'Tumepigana', 'vita', 'vilivyo', 'vyema', 'tangu', '2013', 'lakini', 'tumefikia', 'ukingoni', 'sasa', 'haki', 'itatwaa', 'usukani', ',', '”', 'wakili', 'Paul', 'Kamau', 'aliyewatetea', 'washtakiwa', 'walioghushi', 'zabuni', 'ya', 'ununuzi', 'wat', 'aa', 'za', 'kutumika', 'wakati', 'wa', 'uchaguzi', 'mkuu', 'wa', '2013', '.', 'Licha', 'ya', 'kupigana', 'kufa', 'na', 'kupona', 'washtakiwa', 'waliopatikana', 'na', 'hatia', 'ya', 'kughushi', 'zabuni', 'ya', 'taa', 'za', 'kumulika', 'wakati', 'wa', 'uchaguzi', 'wa', '2013', 'juhudi', 'zao', 'za', 'kuachiliwa', 'huru', 'ziligonga', 'mwamba', 'na', 'sasa', 'watawasha', 'hizo', 'taa', 'jela', 'wakishindwa', 'kulipa', 'faini', 'ya', 'Sh11.8milioni', 'ama', 'watumikie', 'kifungo', 'cha', 'miaka', '16', 'gerezani']\n",
      "\n",
      " Number of Words:  272\n"
     ]
    }
   ],
   "source": [
    "file=\"22march2_2.txt\"\n",
    "\n",
    "# calling the function and storing the contents in a text variable \n",
    "text = get_document(\"https://taifaleo.nation.co.ke/washukiwa-wa-ulaghai-walemewa-kulipa-dhamana-ya-sh8m/\")\n",
    "\n",
    "# calling the store_ document function \n",
    "store_document(doc=text,name=file)\n",
    "\n",
    "#add the words in this file to the total_corpus_words, to keep count of the number of words in the corpus\n",
    "total_corpus_words+=total_words(file)"
   ]
  },
  {
   "cell_type": "code",
   "execution_count": 72,
   "metadata": {},
   "outputs": [
    {
     "data": {
      "text/plain": [
       "465968"
      ]
     },
     "execution_count": 72,
     "metadata": {},
     "output_type": "execute_result"
    }
   ],
   "source": [
    "total_corpus_words"
   ]
  },
  {
   "cell_type": "code",
   "execution_count": 73,
   "metadata": {},
   "outputs": [
    {
     "name": "stdout",
     "output_type": "stream",
     "text": [
      "['Watakaofeli', 'mchujo', 'wapata', 'njia', 'ya', 'kujiokoa', 'WAWANIAJI', 'viti', 'mbalimbali', 'kwa', 'tiketi', 'ya', 'vyama', 'ambao', 'watashindwa', 'katika', 'kura', 'za', 'mchujo', 'zitakazokamilika', 'Aprili', '22', 'sasa', 'wamepata', 'afueni', 'kwani', 'wataweza', 'kushiriki', 'uchaguzi', 'mkuu', 'wa', 'Agosti', '9', 'kama', 'wawaniaji', 'wa', 'kujitegemea', '.', 'Hii', 'ni', 'baada', 'ya', 'Msajili', 'wa', 'Vyama', 'vya', 'Kisiasa', 'Anne', 'Nderitu', 'kufafanua', 'kuwa', 'sheria', 'ingali', 'inatoa', 'mwanya', 'kwa', 'wanasiasa', 'kama', 'hao', 'kuwania', 'bila', 'kudhaminiwa', 'na', 'vyama', 'vya', 'kisiasa', '.', '“', 'Sheria', 'ilivyo', 'sasa', 'ni', 'kwamba', 'wale', 'ambao', 'watashindwa', 'katika', 'kura', 'za', 'mchujo', 'katika', 'vyama', 'mbambali', 'vya', 'kisiasa', 'kufikia', 'Aprili', '22', ',', '2022', 'bado', 'wanaweza', 'kuwania', 'kama', 'wawaniaji', 'wa', 'kujitegemea', '.', 'Sababu', 'ni', 'kwamba', 'siku', 'ya', 'mwisho', 'kwa', 'wawaniaji', 'kama', 'hao', 'kuwasilisha', 'alama', 'zao', 'ni', 'Mei', '2', ',', '2022', ',', '”', 'Bi', 'Nderitu', 'akawaambia', 'wabunge', 'jana', '.', '“', 'Hata', 'hivyo', ',', 'sharti', 'wawaniaji', 'kama', 'hao', 'wahakikishe', 'kuwa', 'wametumia', 'muda', 'huo', 'wa', 'siku', '10', 'kujiuzulu', 'kutoka', 'vyama', 'hivyo', ',', '”', 'Bi', 'Nderitu', 'akaeleza', 'wanachama', 'wa', 'Kamati', 'ya', 'Bunge', 'kuhusu', 'Haki', 'na', 'Masuala', 'Sheria', '(', 'JLAC', ')', 'katika', 'majengo', 'ya', 'Bunge', ',', 'Nairobi', '.', 'Hii', 'ni', 'kwa', 'sababu', 'kulingana', 'ratiba', 'iliyotolewa', 'na', 'Afisi', 'ya', 'Msajili', 'huyo', 'wa', 'Vyama', 'vya', 'Kisiasa', ',', 'vyama', 'vya', 'kisiasa', 'vitakavyoshiriki', 'uchaguzi', 'mkuu', 'wa', 'Agosti', '9', ',', 'vinapaswa', 'kuwasilisha', 'orodha', 'ya', 'wanachama', 'wao', 'kwa', 'afisi', 'hiyo', 'kufikia', 'Machi', '26', '.', 'Bi', 'Nderitu', 'alitoa', 'ufafanuzi', 'huo', 'alipokuwa', 'akijibu', 'swali', 'kutoka', 'kwa', 'Mbunge', 'wa', 'Kisumu', 'Mjini', 'Mashariki', 'Olago', 'Aluoch', 'ambaye', 'alitaka', 'kujua', 'ikiwa', 'wawaniaji', 'watakaopoteza', 'katika', 'kura', 'za', 'mchujo', 'watapata', 'nafasi', 'ya', 'kushiriki', 'uchaguzi', 'kama', 'wagombeaji', 'huru', '.', 'Msajili', 'huyo', 'alifika', 'mbele', 'ya', 'kamati', 'ya', 'JLAC', ',', 'inayoongozwa', 'na', 'Mbunge', 'wa', 'Kangema', 'Muturi', 'Kigano', ',', 'kuwafahamisha', 'wanachama', 'kuhusu', 'hatua', 'ambazo', 'afisi', 'yake', 'imepiga', 'katika', 'utekelezaji', 'wa', 'Sheria', 'Mpya', 'ya', 'Vyama', 'vya', 'Kisiasa', '.', 'Bi', 'Nderitu', 'pia', 'alitumia', 'fursa', 'hiyo', 'kupuuzilia', 'mbali', 'pendekezo', 'la', 'kiongozi', 'wa', 'Wiper', 'Kalonzo', 'Musyoka', 'kwamba', 'muungano', 'wa', 'One', 'Kenya', 'Alliance', '(', 'OKA', ')', 'unaweza', 'kuungano', 'na', 'Azimio', 'la', 'Umoja', 'kubuni', 'muungano', 'mkuu', 'kwa', 'jina', 'Azimio-One', 'Kenya', 'Alliance', '.', 'Kulingana', 'na', 'afisa', 'huyo', ',', 'sheria', 'ya', 'sasa', 'vya', 'vyama', 'vya', 'kisiasa', 'hairuhusu', 'miungano', 'mbalimbali', 'ya', 'kisiasa', 'kubuni', 'miungano', 'mingine', '.', '“', 'Endapo', 'OKA', 'itasajiliwa', 'rasmi', 'kuwa', 'chama', 'cha', 'muungano', 'na', 'Azimio', 'la', 'Umoja', 'pia', 'isajiliwe', 'kuwa', 'chama', 'kingine', 'cha', 'muungano', ',', 'basi', 'vyama', 'hivyo', 'viwili', 'vya', 'miungano', 'haviwezi', 'kukubaliwa', 'kubuni', 'muungano', 'mwingine', 'mkuu', ',', '”', 'Bi', 'Nderitu', 'akasema', '.', 'Kulingana', 'na', 'sheria', 'hii', ',', 'miungano', 'ya', 'kisiasa', 'ina', 'muda', 'wa', 'hadi', 'Aprili', '9', ',', 'kusajiliwa', 'rasmi', 'kuwa', 'miungano', 'ya', 'vyama', '.', 'Mnamo', 'Jumamosi', 'wiki', 'jana', ',', 'Bw', 'Musyoka', 'ambaye', 'ni', 'mmoja', 'wa', 'vinara', 'wa', 'OKA', ',', 'alisema', 'kuwa', 'muungano', 'huo', 'uko', 'tayari', 'kuungana', 'na', 'Azimio', 'la', 'Umoja', 'ili', 'kuunda', 'Azimio-One', 'Kenya', 'Alliance', '.', '“', 'Sisi', 'kama', 'OKA', 'tutatoa', 'mgombeaji', 'wetu', 'wa', 'urais', 'ambaye', 'atashindana', 'na', 'mgombeaji', 'wa', 'Azimio', 'la', 'Umoja', 'ndiposa', 'mmoja', 'wao', 'ateuliwa', 'kuwa', 'mpeperushaji', 'wa', 'bendera', 'ya', 'urais', 'wa', 'muungano', 'mkuu', 'utakaojulikana', 'kama', 'Azimio-One', 'Kenya', 'Alliance', ',', '”', 'akasema', 'Kalonzo', '.', 'Wiki', 'chache', 'zilizopita', ',', 'klabu', 'hiyo', 'ilitangaza', 'kuwa', 'na', 'matatizo', 'ya', 'kifedha', 'huku', 'ikiomba', 'Kaunti', 'ya', 'Kakamega', 'iingilie', 'kuokoa', 'jahazi', ',', 'lakini', 'haikufanikiwa', 'katika', 'maombi', 'hayo', 'yaliyowasilishwa', 'na', 'mwenyekiti', 'Dan', 'Shikanda', '.', 'Kabla', 'ya', 'kuanza', 'mgomo', 'huo', ',', 'wachezaji', 'walieleza', 'jinsi', 'wanavyoteseka', 'pamoja', 'na', 'jamii', 'zao', 'zinazowategemea', '.', 'Wakati', 'Leopards', 'wakiendelea', 'kukumbwa', 'na', 'shida', 'hiyo', ',', 'maadau', 'wao', 'wakuu', 'Gor', 'Mahia', 'pia', 'wanasemekana', 'kuwa', 'na', 'matatizo', 'kama', 'hayo', ',', 'na', 'huenda', 'mashabiki', 'wao', 'wakashuhudia', 'mgomo', 'kwa', 'musa', 'usio', 'mrefu', '.']\n",
      "\n",
      " Number of Words:  553\n"
     ]
    }
   ],
   "source": [
    "file=\"22march4.txt\"\n",
    "\n",
    "# calling the function and storing the contents in a text variable \n",
    "text1 = get_document(\"https://taifaleo.nation.co.ke/watakaofeli-mchujo-wapata-njia-ya-kujiokoa/\")\n",
    "text2 = get_document(\"https://taifaleo.nation.co.ke/wachezaji-wa-leopards-waendelea-na-mgomo/\")\n",
    "\n",
    "\n",
    "# calling the store_ document function \n",
    "store_document(doc=text1,name=file)\n",
    "store_document(doc=text2,name=file)\n",
    "\n",
    "\n",
    "#add the words in this file to the total_corpus_words, to keep count of the number of words in the corpus\n",
    "total_corpus_words+=total_words(file)"
   ]
  },
  {
   "cell_type": "code",
   "execution_count": 74,
   "metadata": {},
   "outputs": [
    {
     "data": {
      "text/plain": [
       "466521"
      ]
     },
     "execution_count": 74,
     "metadata": {},
     "output_type": "execute_result"
    }
   ],
   "source": [
    "total_corpus_words"
   ]
  },
  {
   "cell_type": "code",
   "execution_count": 75,
   "metadata": {},
   "outputs": [
    {
     "name": "stdout",
     "output_type": "stream",
     "text": [
      "['Baadhi', 'ya', 'takwimu', 'za', 'kurejelea', 'mafanikio', 'ya', 'Jubilee', 'zatiliwa', 'shaka', 'WASHAURI', 'na', 'wanaomwandikia', 'Rais', 'Uhuru', 'Kenyatta', 'hotuba', 'zake', 'za', 'kusomewa', 'umma', 'wamesutwa', 'kama', 'ambao', 'humfanya', 'ajiangazie', 'kama', '‘', 'mwongo', '’', 'kuhusu', 'hali', 'halisi', 'ya', 'kiuchumi', 'na', 'pia', 'kisiasa', 'nchini', '.', 'Huku', 'rais', 'akiwasisitizia', 'Wakenya', 'kwamba', 'serikali', 'yake', 'imefanya', 'makubwa', 'katika', 'kuimarisha', 'bei', 'za', 'bidhaa', 'za', 'kilimo', ',', 'kudhibiti', 'uchumi', 'hadi', 'ukapanuka', 'kutoka', 'Sh5', 'trilioni', 'mwaka', '2012', 'hadi', 'Sh13', 'trilioni', 'za', 'sasa', 'na', 'pia', 'kupunguza', 'bei', 'za', 'vifaa', 'na', 'pembejeo', 'za', 'kilimo', ',', 'wadau', 'wanasema', 'maelezo', 'hayo', 'hayaafiki', 'hali', 'halisi', '.', 'Anakumbushwa', 'kuwa', 'kati', 'ya', 'uchumi', 'huo', 'wa', 'Sh13', 'trilioni', ',', 'bunge', 'liliipa', 'serikali', 'yake', 'idhini', 'ya', 'kukopa', 'hadi', 'Sh12', 'trilioni', 'na', 'ambapo', 'hadi', 'sasa', 'imekopa', 'Sh8', 'trilioni', 'ambazo', 'riba', 'ni', 'Sh3', 'trilioni', 'na', 'pengo', 'au', 'nakisi', 'ya', 'bajeti', 'ya', '2022/23', 'ikitarajiwa', 'kuzidi', 'Sh1', 'trilioni', '.', '“', 'Ukweli', 'ambao', 'rais', 'hutoa', 'na', 'ambao', 'haupingiki', 'ni', 'kuhusu', 'ujenzi', 'wa', 'barabara', 'mashinani', '.', 'Hata', 'wanaompinga', 'kabisa', 'watajiangazia', 'kama', 'wafitini', 'ikiwa', 'watasema', 'serikali', 'yake', 'haijajenga', 'barabara', '.', 'Lakini', 'katika', 'masuala', 'mengine', ',', 'rais', 'huwa', 'anaaibishwa', 'hadharani', 'na', 'wanaomshauri', 'kusoma', 'takwimu', 'zake', ',', '”', 'asema', 'Joseph', 'Murugi', 'ambaye', 'ni', 'Mkurugenzi', 'wa', 'utafiti', 'katika', 'Taasisi', 'ya', 'Masomo', 'kuhusu', 'Bajeti', 'na', 'Ugatuzi', 'nchini', '(', 'CB', '&', 'DS', ')', '.', 'Bw', 'Murugi', 'anasema', 'kuwa', 'rais', 'husema', 'vile', 'serikali', 'yake', 'imeunganisha', 'watu', 'na', 'umeme', 'na', 'pia', 'maji', 'safi', 'huku', 'ikiwa', 'wazi', 'kwamba', 'gharama', 'ya', 'bidhaa', 'hizo', 'mbili', 'muhimu', 'iko', 'juu', 'sana', 'kiasi', 'cha', 'kutatiza', 'na', 'kudidimiza', 'faida', 'katika', 'uzalishaji', '.', '“', 'Hali', 'nyingine', 'ambayo', 'rais', 'huwa', 'anatukanganya', 'akisema', 'ameimarisha', 'ni', 'kuhusu', 'mageuzi', 'katika', 'sekta', 'ya', 'majani', 'chai', '.', 'Tulisisimka', 'sana', 'kuona', 'Shirika', 'la', 'Majani', 'Chai', 'Ncini', '(', 'KTDA', ')', 'likivunjwa', 'na', 'chaguzi', 'kuandaliwa', 'huku', 'tukiahidiwa', 'pato', 'lililoimarika', 'kwa', 'asilimia', '60', '.', 'Lakini', 'hadi', 'sasa', ',', 'kilo', 'moja', 'ya', 'majani', 'chai', 'inalipwa', 'kwa', 'ile', 'bei', 'ya', 'zamani', 'ya', 'Sh21', 'huku', 'bonasi', 'ikiwa', 'ni', 'ile', 'ile', 'ya', 'Sh10', '.', 'Kile', 'tu', 'kimebadilika', 'ni', 'kwamba', 'tangu', 'mabadiliko', 'hayo', 'yaletwe', ',', 'tunalipwa', 'mapema', ',', '”', 'asema', 'Bw', 'Mugwe', 'Njunu', 'ambaye', 'ni', 'mshirikishi', 'wa', 'vuguvugu', 'la', 'kutetea', 'haki', 'za', 'wakulima', 'wa', 'chai', 'Mlima', 'Kenya', '.', 'Huku', 'rais', 'akisisitiza', 'kwamba', 'bei', 'ya', 'kahawa', 'imeimarika', 'hadi', 'Sh110', 'kwa', 'kilo', 'moja', ',', 'mwenyekiti', 'wa', 'wakulima', 'wadogowadogo', 'katika', 'ukanda', 'wa', 'Mlima', 'Kenya', 'James', 'Miriti', 'anasema', 'kuwa', 'hali', 'hiyo', 'si', 'sahihi', '.', '“', 'Cha', 'kuelewa', 'ni', 'kwamba', 'hakuna', 'wakati', 'bei', 'ya', 'kahawa', 'itawiana', 'kitaifa', 'kwa', 'kuwa', 'malipo', 'huzingatia', 'ubora', ',', 'uwajibikaji', 'wa', 'wasimamizi', 'wa', 'mashirika', ',', 'bei', 'katika', 'mnada', 'na', 'pia', 'ada', 'za', 'benki', 'inayolipa', 'mkulima', '.', 'Kunao', 'katika', 'malipo', 'ya', 'karibuni', 'walipata', 'Sh36', 'na', 'wengine', 'wakapata', 'Sh80', '.', 'Ni', 'wachache', 'sana', 'walipata', 'Sh100', '.', 'Vile', 'washauri', 'wa', 'rais', 'walifanya', 'ni', 'kuchukua', 'ile', 'bei', 'ya', 'juu', 'katika', 'mnada', 'na', 'kuitangaza', 'kuwa', 'malipo', 'kwa', 'wakulima', ',', '”', 'akasena', 'Bw', 'Miriti', '.', 'Mnamo', 'Februari', '3', ',', 'Waziri', 'wa', 'Kilimo', 'Peter', 'Munya', 'alikutana', 'na', 'wakulima', 'wa', 'zao', 'hilo', 'katika', 'uwanja', 'wa', 'Ihura', 'ulioko', 'Kaunti', 'ya', 'Murang', '’', 'a', 'na', 'akawaambia', 'kuwa', 'anaelewa', 'kuwa', 'kuna', 'shida', 'ya', 'malipo', 'duni', 'katika', 'sekta', 'hiyo', '.', 'Alisema', 'kwamba', 'kuna', 'hujuma', 'kutoka', 'kwa', 'madalali', ',', 'wasimamizi', 'wa', 'mashirika', 'ya', 'wakulima', 'na', 'pia', 'wakora', 'ili', 'kuwanyima', 'wakulima', 'nafuu', 'katika', 'malipo', '.', '“', 'Hata', 'wabunge', 'wenu', 'mnafaa', 'muwaulize', 'ni', 'kwa', 'nini', 'huwa', 'wanapinga', 'miswada', 'ya', 'kubadilisha', 'sera', 'za', 'malipo', 'na', 'hiyo', 'ndiyo', 'sababu', 'kuu', 'mnachukia', 'serikali', 'na', 'rais', 'wetu', 'kufuatia', 'malipo', 'duni', '.', 'Nawahakikishia', 'kuwa', 'tutarekebisha', 'hali', 'hiyo', 'kupitia', 'sera', 'na', 'mageuzi', 'katika', 'mashirika', ',', '”', 'akasema', 'kabla', 'ya', 'Rais', 'kutangaza', 'mnamo', 'Februari', '3', 'akiwa', 'Ikulu', 'ndogo', 'ya', 'Sagana', 'kwamba', 'bei', 'imeimarika', '.', 'Hali', 'ni', 'iyo', 'hiyo', 'kwa', 'wafugaji', 'ambao', 'wanalalamika', 'kufuatia', 'mfumko', 'wa', 'bei', 'za', 'chakula', 'na', 'madawa', 'kwa', 'mifugo', ',', 'wakulima', 'wakilia', 'kupanda', 'kwa', 'bei', 'ya', 'fatalaiza', 'ambayo', 'pia', 'imepunguka', 'ubora', 'na', 'madalali', 'kudidimiza', 'bei', 'za', 'parachichi', 'na', 'mandizi', 'nao', 'wazalishaji', 'maziwa', 'wakiteta', 'kukosa', 'uthibiti', 'wa', 'bei', 'hasa', 'katika', 'misimu', 'ya', 'mvua', '.', 'Katika', 'mkutano', 'wa', 'Murang', '’', 'a', ',', 'Bw', 'Munya', 'alililiwa', 'na', 'wakulima', 'aagize', 'vitengo', 'vya', 'kiusalama', 'viwakinge', 'kutokana', 'na', 'wezi', 'wa', 'mazao', 'ya', 'kilimo', 'ambao', 'huyachuuza', 'kwa', 'madalali', 'barabarani', '.', 'Mkurugenzi', 'wa', 'Shirika', 'la', 'Utafiti', 'wa', 'masuala', 'ya', 'Kiuchumi', 'la', 'NewTimes', 'Bw', 'Wanjumbi', 'Mwangi', 'alisema', 'kuwa', '“', 'kutoa', 'takwimu', 'zisizo', 'sahihi', 'kuhusu', 'maisha', 'ya', 'wananchi', 'huangazia', 'serikali', 'kama', 'inayodanganya', 'kwa', 'njia', 'ya', 'ukatili', 'na', 'hali', 'huwa', 'ni', 'ya', 'kuzidisha', 'hasira', 'kuihusu', '.', '”']\n",
      "\n",
      " Number of Words:  699\n"
     ]
    }
   ],
   "source": [
    "file=\"22march7.txt\"\n",
    "\n",
    "# calling the function and storing the contents in a text variable \n",
    "text = get_document(\"https://taifaleo.nation.co.ke/baadhi-ya-takwimu-za-kurejelea-mafanikio-ya-jubilee-zatiliwa-shaka/\")\n",
    "\n",
    "# calling the store_ document function \n",
    "store_document(doc=text,name=file)\n",
    "\n",
    "#add the words in this file to the total_corpus_words, to keep count of the number of words in the corpus\n",
    "total_corpus_words+=total_words(file)"
   ]
  },
  {
   "cell_type": "code",
   "execution_count": 76,
   "metadata": {},
   "outputs": [
    {
     "data": {
      "text/plain": [
       "467220"
      ]
     },
     "execution_count": 76,
     "metadata": {},
     "output_type": "execute_result"
    }
   ],
   "source": [
    "total_corpus_words"
   ]
  },
  {
   "cell_type": "code",
   "execution_count": 79,
   "metadata": {},
   "outputs": [
    {
     "name": "stdout",
     "output_type": "stream",
     "text": [
      "['Diwani', 'asikitishwa', 'na', 'wakulima', 'kuendelea', 'kuasi', 'kahawa', 'DIWANI', 'wa', 'wadi', 'ya', 'Murera', ',', 'Ruiru', ',', 'John', 'Wokabi', 'ameelezea', 'kusikitishwa', 'kwake', 'na', 'kuendelea', 'kudorora', 'kwa', 'kilimo', 'cha', 'kahawa', 'Kenya', '.', 'Kutokana', 'na', 'kugeuzwa', 'kwa', 'mashamba', 'yaliyokuwa', 'yakikuzwa', 'zao', 'hilo', 'kuwa', 'uga', 'wa', 'miradi', 'mingine', 'ya', 'maendeleo', ',', 'Bw', 'Wokabi', 'ameonya', 'hatua', 'hiyo', 'ni', 'hatari', 'kwa', 'kiungo', 'hicho', 'cha', 'kinywaji', '.', 'Takwimu', 'zinaonyesha', 'uzalishaji', 'wa', 'kahawa', 'nchini', 'umeshuka', 'kwa', 'kiwango', 'kikubwa', '.', 'Kulingana', 'na', 'takwimu', 'za', 'New', 'KPCU', ',', 'taasisi', 'ya', 'serikali', 'inayojukumika', 'kusaga', 'na', 'kutafutia', 'zao', 'hilo', 'soko', 'ndani', 'na', 'nje', 'ya', 'nchi', ',', 'mazao', 'yameshuka', 'kutoka', 'tani', '140', ',', '000', '(', 'uzani', 'wa', 'metric', 'tons', ')', 'miaka', '20', '–', '30', 'iliyopita', ',', 'hadi', '36', ',', '000', 'kwa', 'mwaka', '.', 'Upungufu', 'huo', 'mkubwa', 'unatokana', 'na', 'uongozi', 'mbaya', 'hapo', 'awali', 'chini', 'ya', 'Old', 'KPCU', ',', 'kabla', 'Rais', 'Uhuru', 'Kenyatta', 'kufanya', 'mabadiliko', 'katika', 'shirika', 'hilo', 'la', 'kahawa', '.', 'Msako', ':', 'Polisi', 'waonja', 'uhuni', 'wa', 'bodaboda', 'TABIA', 'ya', 'uhuni', 'na', 'kujichukulia', 'sheria', 'mikononi', 'imezidi', 'kujitokeza', 'wazi', 'miongoni', 'mwa', 'waendeshaji', 'pikipiki', 'siku', 'chache', 'tu', 'baada', 'ya', 'kundi', 'la', 'wanabodaboda', 'kumdhulumu', 'mwanamke', 'katika', 'kisa', 'kilichoibua', 'hisia', 'kali', '.', 'Waendeshaji', 'bodaboda', 'hao', 'wameonyesha', 'ukaidi', 'wa', 'hali', 'ya', 'juu', 'wa', 'sheria', 'kwa', 'kuwashambulia', 'maafisa', 'wa', 'polisi', 'wanaofanya', 'msako', 'kuwakamata', 'wale', 'wanaovunja', 'sheria', 'kufuatia', 'agizo', 'lililotolewa', 'na', 'Rais', 'Uhuru', 'Kenyatta', 'Jumanne', '.', 'Katika', 'kaunti', 'ya', 'Nairobi', ',', 'operesheni', 'ya', 'kuondoa', 'bodaboda', 'katika', 'jiji', 'kuu', 'ilishika', 'kasi', 'ambapo', 'kufikia', 'jana', 'maafisa', 'wa', 'polisi', 'walikuwa', 'wamenasa', 'zaidi', 'ya', 'pikipiki', '125', 'zilizozuiliwa', 'katika', 'kituo', 'hicho', '.', 'Kulingana', 'na', 'Kamanda', 'wa', 'Polisi', '(', 'OCPD', ')', 'katika', 'Kituo', 'cha', 'Starehe', 'Central', ',', 'Nairobi', ',', 'David', 'Mburukua', ',', 'operesheni', 'hiyo', 'iliyoanzishwa', 'juzi', 'itaendelea', 'hadi', 'serikali', 'itakaposema', 'vinginevyo', '.', '“', 'Operesheni', 'hii', 'ni', 'kama', 'funzo', 'kwa', 'waendeshaji', 'bodaboda', 'ambao', 'baadhi', 'yao', 'wamekuwa', 'wakitekeleza', 'uhalifu', 'pamoja', 'na', 'kukiuka', 'sheria', 'za', 'barabara', ',', '”', 'alisema', 'Bw', 'Mburukua', '.', 'Waziri', 'wa', 'Usalama', 'wa', 'Ndani', 'amewapa', 'waendeshaji', 'bodaboda', 'muda', 'wa', 'siku', '60', 'kujisajili', 'kwa', 'Sacco', '.', 'Katika', 'kaunti', 'ya', 'Narok', ',', 'wanabodaboda', 'hao', 'waliomba', 'waruhurumiwe', 'ili', 'wasikose', 'riziki', '.', 'Naye', 'mwenyekiti', 'wa', 'chama', 'cha', 'wanabodaboda', 'kaunti', 'ya', 'Machakos', ',', 'Allan', 'Musembi', 'alisisitiza', 'kuwa', 'ni', 'muhimu', 'kwa', 'kila', 'mwanachama', 'kuwa', 'na', 'beji', 'ya', 'kujitambulisha', 'na', 'kila', 'mmoja', 'kuwa', 'mwanachama', 'wa', 'kituo', 'anachotambuliwa', 'na', 'wenzake', '.', 'Alisema', 'hatua', 'hii', 'itasaidia', 'kukabiliana', 'na', 'visa', 'ya', 'uhalifu', '.', 'Katika', 'kaunti', 'ya', 'Kisumu', ',', 'polisi', 'walilazimika', 'kuwakimbiza', 'wanabodaboda', 'waliokataa', 'kusimama', 'wakati', 'wa', 'msako', '.', 'Haya', 'yamejiri', 'huku', 'waendeshaji', 'bodaboda', 'katika', 'kaunti', 'hiyo', 'wakihimizwa', 'kujiepusha', 'na', 'vitendo', 'vinavyoweza', 'kuathiri', 'usalama', 'kwa', 'sababu', 'wanachangia', 'nafasi', 'muhimu', 'kama', 'wapiga', 'kura', '.', 'Wahudumu', 'hao', 'wameshauriwa', 'kujisajili', 'katika', 'vyama', 'vya', 'Akiba', 'na', 'Mikopo', '(', 'SACCO', ')', 'na', 'kupata', 'leseni', 'mpya', 'za', 'kidijitali', 'ili', 'kuepuka', 'kukamatwa.Aidha', ',', 'maafisa', 'wa', 'usalama', 'wamewaonya', 'dhidi', 'ya', 'kutumiwa', 'na', 'wanasiasa', 'kusababisha', 'vurugu', '.']\n",
      "\n",
      " Number of Words:  448\n"
     ]
    }
   ],
   "source": [
    "file=\"22march11.txt\"\n",
    "\n",
    "# calling the function and storing the contents in a text variable \n",
    "text1 = get_document(\"https://taifaleo.nation.co.ke/diwani-asikitishwa-na-wakulima-kuendelea-kuasi-kahawa/\")\n",
    "text2 = get_document(\"https://taifaleo.nation.co.ke/msako-polisi-waonja-uhuni-wa-bodaboda/\")\n",
    "\n",
    "# calling the store_ document function \n",
    "store_document(doc=text1,name=file)\n",
    "store_document(doc=text2,name=file)\n",
    "\n",
    "\n",
    "#add the words in this file to the total_corpus_words, to keep count of the number of words in the corpus\n",
    "total_corpus_words+=total_words(file)"
   ]
  },
  {
   "cell_type": "code",
   "execution_count": 80,
   "metadata": {},
   "outputs": [
    {
     "data": {
      "text/plain": [
       "467668"
      ]
     },
     "execution_count": 80,
     "metadata": {},
     "output_type": "execute_result"
    }
   ],
   "source": [
    "total_corpus_words"
   ]
  },
  {
   "cell_type": "code",
   "execution_count": 81,
   "metadata": {},
   "outputs": [
    {
     "name": "stdout",
     "output_type": "stream",
     "text": [
      "['Serikali', 'yaondolea', 'wadhimini', 'wa', 'michezo', 'ushuru', 'WATU', 'binafsi', 'na', 'kampuni', 'zinazodhamini', 'michezo', 'zina', 'sababu', 'ya', 'kutabasamu', 'baada', 'ya', 'serikali', 'kuamua', 'kuwaondolea', 'ushuru', 'kwa', 'fedha', 'watakazotumia', 'kukuza', 'michezo', 'nchini', 'Kenya', '.', 'Katika', 'taarifa', 'kwa', 'marais', 'wote', 'wa', 'mashirikisho', 'ya', 'michezo', ',', 'Waziri', 'wa', 'Michezo', 'Amina', 'Mohamed', 'ameomba', 'watu', 'binafsi', 'na', 'kampuni', 'zinazolenga', 'kudhamini', 'michezo', 'na', 'wachezaji', 'kuhakiksha', 'kuwa', 'wachezaji', 'ndio', 'wanaonufaika', 'katika', 'migao', 'hiyo', '.', 'Ili', 'kunufaika', 'na', 'mpango', 'huo', ',', 'wadhamini', 'lazima', 'wapate', 'kibali', 'kutoka', 'kwa', 'Wizara', 'ya', 'Michezo', 'na', 'pia', 'kufichua', 'kiasi', 'cha', 'fedha', 'wanazopanga', 'kuwekeza', 'katika', 'michezo', 'hiyo', '.', 'Waziri', 'wa', 'Michezo', 'kisha', 'atapeana', 'ruhusa', 'na', 'kuwasiliana', 'na', 'Kamishina', 'Mkuu', 'wa', 'Halmashauri', 'ya', 'Ukusanyaji', 'Ushuru', ',', 'Kenya', '(', 'KRA', ')', 'kupitia', 'kwa', 'barua', '.', 'Kwa', 'miaka', 'nyingi', ',', 'wadhamini', 'wamekuwa', 'wakijiuliza', 'kwanini', 'michango', 'yao', 'ya', 'kusaidia', 'klabu', 'ama', 'mashindano', 'haitambuliwi', 'na', 'KRA', 'kuwa', 'ni', 'gharama', '.', 'Hatua', 'hii', 'inatarajiwa', 'kuwapa', 'wadhamini', 'motisha', 'ya', 'kusaidia', 'timu', 'na', 'michezo', 'mbalimbali', 'nchini', '.', 'Timu', 'ya', 'taifa', 'ya', 'Olimpiki', '2020', 'ilidhaminiwa', 'na', 'kampuni', 'ya', 'bia', 'ya', 'East', 'Africa', 'Breweries', 'inayodhamini', 'pia', 'Tusker', 'FC', 'inayoshiriki', 'Ligi', 'Kuu', 'ya', 'soka', 'nchini', '.', 'Kampuni', 'ya', 'sukari', 'ya', 'West', 'Kenya', 'inadhamini', 'Kabras', 'Sugar', 'RFC', 'inayoshiriki', 'Ligi', 'Kuu', 'ya', 'raga', 'nchini', '.', 'Klabu', 'nyingine', 'za', 'soka', 'zinazopata', 'ufadhili', 'kutoka', 'kwa', 'kampuni', 'mbalimbali', 'ni', 'KCB', 'na', 'Posta', 'Rangers', '.', 'Kampuni', 'ya', 'Safaricom', 'inadhamini', 'gofu', '.', 'Hayo', 'ni', 'baadhi', 'tu', 'ya', 'mashirika', 'yanayodhamini', 'michezo', 'nchini', '.', 'Baadhi', 'ya', 'wakazi', 'wa', 'Thika', 'wafanya', 'maandamano', 'wakitaka', 'Ruto', 'akome', 'kumshambulia', 'bosi', 'wake', 'BAADHI', 'ya', 'wakazi', 'wa', 'Thika', 'walifanya', 'maandamano', 'kulaani', 'matamshi', 'yaliyotolewa', 'na', 'Naibu', 'Rais', 'Dkt', 'William', 'Ruto', 'wikendi', 'iliyopita', 'kwa', 'akimlenga', 'moja', 'kwa', 'moja', 'Rais', 'Uhuru', 'Kenyatta', 'ambye', 'amemuidhinisha', 'kiongozi', 'wa', 'ODM', ',', 'Bw', 'Raila', 'Odinga', '.', 'Wakazi', 'hao', 'wakiongozwa', 'na', 'mfanyabiashara', 'Peter', 'Mbugua', 'walisema', 'Dkt', 'Ruto', 'alimkosea', 'heshima', 'Rais', 'Kenyatta', 'kwa', 'kumshambulia', 'hadharani', 'katika', 'ngome', 'yake', 'ya', 'kaunti', 'ya', 'Kiambu', '.', '“', 'Hatua', 'iliyochukuliwa', 'na', 'Dkt', 'Ruto', 'ni', 'ya', 'kumkejeli', 'Rais', 'Kenyatta', 'huku', 'akidai', 'anatafuta', 'kura', 'kutoka', 'kwa', 'wakazi', 'wa', 'Thika', '.', 'Sisi', 'kama', 'wakazi', 'wa', 'hapa', 'tumeudhika', 'sana', 'na', 'tabia', 'hiyo', ',', '”', 'alisema', 'Bw', 'Mbugua', '.', 'Naye', 'mkazi', 'mwingine', 'wa', 'Thika', 'Bi', 'Lucy', 'Mwangi', 'alisema', 'wakazi', 'wa', 'Thika', 'wataendelea', 'kufuata', 'chama', 'cha', 'Jubilee', 'chini', 'ya', 'Azimio', 'la', 'Umoja', 'kwani', 'huo', 'ndio', 'mwelekeo', 'Rais', 'Kenyatta', 'anataka', 'jamii', 'ya', 'kutoka', 'Mlima', 'Kenya', 'ifuate', '.', '“', 'Sisi', 'kama', 'wakazi', 'wa', 'Thika', 'na', 'Mlima', 'Kenya', 'kwa', 'ujumla', 'hatutakubali', 'kugawanywa', 'kwa', 'misingi', 'ya', 'vyama', 'vya', 'kisiasa', '.', 'Kwa', 'hivyo', 'kiongozi', 'yeyote', 'anayefika', 'Mlima', 'Kenya', 'aje', 'na', 'sera', 'zake', 'tuzikague', 'badala', 'ya', 'kuongoza', 'mgawanyiko', 'miongoni', 'mwetu', ',', '”', 'alisema', 'Bi', 'Mwangi', '.']\n",
      "\n",
      " Number of Words:  418\n"
     ]
    }
   ],
   "source": [
    "file=\"22march15.txt\"\n",
    "\n",
    "# calling the function and storing the contents in a text variable \n",
    "text1 = get_document(\"https://taifaleo.nation.co.ke/serikali-yaondolea-wadhimini-wa-michezo-ushuru/\")\n",
    "text2 = get_document(\"https://taifaleo.nation.co.ke/baadhi-ya-wakazi-wa-thika-wafanya-maandamano-wakitaka-ruto-akome-kumshambulia-bosi-wake/\")\n",
    "\n",
    "\n",
    "# calling the store_ document function \n",
    "store_document(doc=text1,name=file)\n",
    "store_document(doc=text2,name=file)\n",
    "\n",
    "\n",
    "#add the words in this file to the total_corpus_words, to keep count of the number of words in the corpus\n",
    "total_corpus_words+=total_words(file)"
   ]
  },
  {
   "cell_type": "code",
   "execution_count": 82,
   "metadata": {},
   "outputs": [
    {
     "data": {
      "text/plain": [
       "468086"
      ]
     },
     "execution_count": 82,
     "metadata": {},
     "output_type": "execute_result"
    }
   ],
   "source": [
    "total_corpus_words"
   ]
  },
  {
   "cell_type": "code",
   "execution_count": 83,
   "metadata": {},
   "outputs": [
    {
     "name": "stdout",
     "output_type": "stream",
     "text": [
      "['Leicester', 'City', 'wakomoa', 'Brentford', 'na', 'kupaa', 'hadi', '10-bora', 'katika', 'jedwali', 'la', 'EPL', 'TIMOTHY', 'Castagne', 'na', 'James', 'Maddison', 'walifunga', 'bao', 'kila', 'mmoja', 'na', 'kusaidia', 'waajiri', 'wao', 'Leicester', 'City', 'kusajili', 'ushindi', 'wa', '2-1', 'dhidi', 'ya', 'Brentford', 'katika', 'Ligi', 'Kuu', 'ya', 'Uingereza', '(', 'EPL', ')', 'mnamo', 'Jumapili', '.', 'Ushindi', 'huo', 'ulipaisha', 'Leicester', 'wanaotiwa', 'makali', 'na', 'kocha', 'Brendan', 'Rodgers', 'hadi', 'nafasi', 'ya', '10', 'jedwalini', 'kwa', 'alama', '10', 'sawa', 'na', 'Aston', 'Villa', '.', 'Mchuano', 'huo', 'ulikuwa', 'wa', 'kwanza', 'kwa', 'Castagne', 'ambaye', 'ni', 'raia', 'wa', 'Ubelgiji', 'kuchezea', 'Leicester', 'mwaka', 'huu', 'wa', '2022', 'tangu', 'apate', 'jeraha', 'la', 'mguu', 'mwishoni', 'mwa', '2021', '.', 'Bao', 'lake', 'dhidi', 'ya', 'Brentford', 'lilitokana', 'na', 'krosi', 'aliyoandaliwa', 'na', 'Harvey', 'Barnes', 'katika', 'dakika', 'ya', '20', '.', 'Maddison', 'alifunga', 'bao', 'la', 'pili', 'la', 'waajiri', 'wake', 'kupitia', 'mpira', 'wa', 'ikabu', 'katika', 'dakika', 'ya', '33', '.', 'Leicester', 'walishuka', 'dimbani', 'wakiwa', 'na', 'kiu', 'ya', 'kuendeleza', 'ubabe', 'uliowashuhudia', 'wakitinga', 'robo-fainali', 'za', 'Europa', 'Conference', 'League', 'mnamo', 'Machi', '17', ',', '2022', 'baada', 'ya', 'kudengua', 'Rennes', 'ya', 'Ufaransa', '.', 'Brentford', 'walifutiwa', 'machozi', 'na', 'Yoane', 'Wissa', 'mwishoni', 'mwa', 'kipindi', 'cha', 'pili', 'baada', 'ya', 'kushirikiana', 'vilivyo', 'na', 'Bryan', 'Mbeumo', '.', 'Leicester', 'wamesuasua', 'pakubwa', 'katika', 'kampeni', 'za', 'msimu', 'huu', 'tangu', 'uthabiti', 'wa', 'safu', 'yao', 'ya', 'ulinzi', 'ulemazwe', 'na', 'wingi', 'wa', 'visa', 'vya', 'majeraha', '.', 'Beki', 'Wesley', 'Fofana', 'aliwajibishwa', 'na', 'Leicester', 'kwa', 'mara', 'ya', 'kwanza', 'msimu', 'huu', 'katika', 'gozi', 'la', 'Europa', 'Conference', 'League', 'dhidi', 'ya', 'Rennes', 'mnamo', 'Machi', '17', '.', 'Castagne', 'naye', 'alikuwa', 'mkekani', 'tangu', 'Disemba', '28', ',', '2021', 'na', 'aliondolewa', 'uwanjani', 'katika', 'kipindi', 'cha', 'pili', 'dhidi', 'ya', 'Brentford', 'na', 'nafasi', 'yake', 'kutwaliwa', 'na', 'Jonny', 'Evans', 'ambaye', 'pia', 'alikuwa', 'akitandaza', 'mchuano', 'wake', 'wa', 'kwanza', 'tangu', 'Disemba', '12', ',', '2021', '.', 'Kiungo', 'Wilfred', 'Ndidi', 'sasa', 'anatarajiwa', 'kukosa', 'mechi', 'zote', 'zilizosalia', 'msimu', 'huu', 'baada', 'ya', 'kupata', 'jeraha', 'baya', 'la', 'goti', 'dhidi', 'ya', 'Rennes', '.', 'Ingawa', 'Leicester', 'wana', 'matumaini', 'finyu', 'ya', 'kukamilisha', 'kampeni', 'za', 'EPL', 'msimu', 'huu', 'ndani', 'ya', 'mduara', 'wa', 'saba-bora', 'na', 'kufuzu', 'kwa', 'soka', 'ya', 'bara', 'Ulaya', 'muhula', 'ujao', ',', 'wapo', 'pazuri', 'kutia', 'kapuni', 'ubingwa', 'wa', 'kipute', 'kipya', 'cha', 'Europa', 'Conference', 'League', '.', 'Watavaana', 'na', 'PSV', 'ya', 'Uholanzi', 'katika', 'hatua', 'ijayo', 'ya', 'nane-bora', '.', 'Maddison', 'sasa', 'anashikilia', 'rekodi', 'ya', 'kufunga', 'jumla', 'ya', 'mabao', '13', 'ya', 'EPL', 'kwa', 'kuvurumisha', 'makombora', 'mazito', 'nje', 'ya', 'kijisanduku', 'tangu', 'aingie', 'katika', 'sajili', 'rasmi', 'ya', 'Leicester', 'mnamo', '2018-19', '.', 'Brentford', 'waliokosa', 'huduma', 'za', 'kiungo', 'Christian', 'Eriksen', 'anayeugua', 'Covid-19', ',', 'walishuka', 'ugani', 'wakiwa', 'na', 'lengo', 'la', 'kushinda', 'mechi', 'tatu', 'mfululizo', 'katika', 'EPL', 'kwa', 'mara', 'ya', 'kwanza', 'baada', 'ya', 'miaka', '75', '.', 'Sasa', 'wanakamata', 'nafasi', 'ya', '15', 'kwa', 'alama', '30', 'na', 'wako', 'katika', 'hatari', 'ya', 'kupitwa', 'na', 'Leeds', 'United', 'pamoja', 'na', 'Everton', '.']\n",
      "\n",
      " Number of Words:  418\n"
     ]
    }
   ],
   "source": [
    "file=\"22march21.txt\"\n",
    "\n",
    "# calling the function and storing the contents in a text variable \n",
    "text = get_document(\"https://taifaleo.nation.co.ke/leicester-city-wakomoa-brentford-na-kupaa-hadi-10-bora-katika-jedwali-la-epl/\")\n",
    "\n",
    "# calling the store_ document function \n",
    "store_document(doc=text,name=file)\n",
    "\n",
    "#add the words in this file to the total_corpus_words, to keep count of the number of words in the corpus\n",
    "total_corpus_words+=total_words(file)"
   ]
  },
  {
   "cell_type": "code",
   "execution_count": 84,
   "metadata": {},
   "outputs": [
    {
     "data": {
      "text/plain": [
       "468504"
      ]
     },
     "execution_count": 84,
     "metadata": {},
     "output_type": "execute_result"
    }
   ],
   "source": [
    "total_corpus_words"
   ]
  },
  {
   "cell_type": "code",
   "execution_count": 87,
   "metadata": {},
   "outputs": [
    {
     "name": "stdout",
     "output_type": "stream",
     "text": [
      "['Mamia', 'wahama', 'Kerio', 'mashambulio', 'yakizidi', 'MAMIA', 'ya', 'familia', 'zinatoroka', 'kutoka', 'Bonde', 'la', 'Kerio', 'kutafuta', 'hifadhi', 'katika', 'miteremko', 'ya', 'Elgeyo', ',', 'kutokana', 'na', 'kudorora', 'kwa', 'hali', 'ya', 'usalama', 'katika', 'eneo', 'hilo', '.', 'Haya', 'yanajiri', 'baada', 'ya', 'shambulio', 'lililotokea', 'Jumapili', 'katika', 'eneo', 'la', 'Koitilial', ',', 'Marakwet', 'Magharibi', ',', 'ambapo', 'watu', 'wawili', 'waliuawa', 'huku', 'wengine', 'sita', 'wakijeruhiwa', '.', 'Watu', 'wawili', 'kati', 'ya', 'sita', 'waliojeruhiwa', 'wamelazwa', 'katika', 'Hospitali', 'ya', 'Mafunzo', 'na', 'Rufaa', 'ya', 'Moi', '(', 'MTRH', ')', 'na', 'Eldoret', 'Hospital', 'mtawalia', ',', 'baada', 'ya', 'risasi', 'kupenyeza', 'katika', 'vichwa', 'na', 'tumboni', '.', 'Afisa', 'Mkuu', 'Mtendaji', 'wa', 'MTRH', ',', 'Dkt', 'Wilson', 'Aruasa', ',', 'alisema', 'Jumatatu', 'kwamba', 'mmoja', 'wa', 'manusura', 'wa', 'shambulio', 'hilo', 'anatibiwa', 'katika', 'hospitali', 'hiyo', 'na', 'yuko', 'katika', 'hali', 'nzuri', '.', 'Manusura', 'wengine', 'wanne', 'wanapokea', 'matibabu', 'katika', 'Hospitali', 'ya', 'Rufaa', 'ya', 'Kaunti', 'ya', 'Iten', '.', 'Taifa', 'Leo', 'imebaini', 'kuwa', 'mamia', 'ya', 'watu', 'wanatoroka', 'kutoka', 'eneo', 'hilo', 'kwa', 'wingi', ',', 'wakihofia', 'mashambulio', 'zaidi', 'kutokea', '.', 'Wengi', 'wameamua', 'kutafuta', 'hifadhi', 'katika', 'mapango', 'hatari', 'kwenye', 'miteremko', 'hiyo', ',', 'hata', 'baada', 'ya', 'serikali', 'kutangaza', 'kuwatuma', 'maafisa', 'zaidi', 'wa', 'usalama', 'ili', 'kuimarisha', 'doria', '.', 'Kwa', 'upande', 'mwingine', ',', 'viongozi', 'wanailaumu', 'serikali', 'kwa', 'kutochukua', 'hatua', 'za', 'kutosha', ',', 'huku', 'watu', 'wakiendelea', 'kuuawa', 'kwa', 'kiwango', 'cha', 'kuhofisha', '.', 'Bw', 'Leonard', 'Yano', ',', 'ambaye', 'ni', 'mkazi', ',', 'alisema', 'kuwa', 'eneo', 'hilo', 'limegeuka', 'kuwa', 'mahame', ',', 'kwani', 'watu', 'wengi', 'wameondoka', 'kutoka', 'makazi', 'yao', '.', '“', 'Watu', 'wengi', 'wameachwa', 'bila', 'makao', 'tangu', 'mashambulio', 'hayo', 'kuanza', 'mwaka', '2021', '.', 'Hata', 'hivyo', ',', 'shambulio', 'la', 'Jumapili', 'lilizua', 'wasiwasi', 'zaidi', 'miongoni', 'mwa', 'wenyeji', '.', 'Mashambulio', 'hayo', 'yamekuwa', 'yakiongezeka', 'kila', 'kuchao', 'licha', 'ya', 'watu', 'wengi', 'kutokuwa', 'na', 'mifugo', ',', '”', 'akasema', '.', 'Alisema', 'kuwa', 'miteremko', 'hiyo', 'ndiko', 'mahali', 'pekee', 'ambapo', 'wenyeji', 'wanaweza', 'kutafuta', 'hifadhi', 'kwani', 'wavamizi', 'hao', 'hawawezi', 'kupanda', 'milima', 'bila', 'kugundulika', '.', '“', 'Kuna', 'nyoka', 'hatari', 'katika', 'miteremko', 'hiyo', '.', 'Watoto', 'na', 'wazee', 'wanateseka', 'sana', 'kutokana', 'na', 'hali', 'ya', 'baridi', '.', 'Tunaiomba', 'serikali', 'irejeshe', 'hali', 'ya', 'utulivu', 'angalau', 'kuwawezesha', 'watu', 'kulala', 'kwenye', 'makazi', 'yao', ',', '”', 'akasema', '.', 'Bi', 'Mary', 'Kanda', 'alisema', 'kuwa', 'wanakabiliwa', 'na', 'njaa', 'kwani', 'hakuna', 'chakula', 'chochote', 'kwenye', 'miteremko', 'hiyo', '.', '“', 'Tunaumia', 'sana', '.', 'Tutapata', 'afueni', 'tu', 'baada', 'ya', 'serikali', 'kurejesha', 'hali', 'ya', 'kawaida', '.', 'Sisi', 'si', 'Wakenya', 'tusio', 'na', 'hadhi', '.', 'Tunataka', 'kufurahia', 'haki', 'zetu', 'sawa', 'na', 'wananchi', 'wale', 'wengine', ',', '”', 'akasema', '.', 'Naibu', 'Kamishna', 'wa', 'Kaunti', 'Ndogo', 'ya', 'Marakwet', 'Magharibi', ',', 'Bw', 'Mathias', 'Chisiambo', ',', 'alisema', 'kuwa', 'ijapokuwa', 'vikosi', 'vya', 'usalama', 'vimewekwa', 'katika', 'hali', 'ya', 'tahadhari', ',', 'watu', 'wanahofia', 'mashambulio', 'zaidi', 'kutokea', '.', 'Mbunge', 'wa', 'eneo', 'hilo', 'William', 'Kisang', 'ameirai', 'serikali', 'kuchukua', 'hatua', 'za', 'haraka', 'ili', 'kukomesha', 'mahangaiko', 'wanayopitia', 'wenyeji', 'wa', 'bonde', 'la', 'Kerio', '.', 'Kwa', 'mujibu', 'huo', ',', 'Shirika', 'la', 'Afya', 'Duniani', '(', 'WHO', ')', 'inakadiria', 'kuwa', 'watu', 'milioni', '2.5', 'hufariki', 'kila', 'mwaka', 'kutokana', 'na', 'ajali', 'za', 'barabara', '.', 'Nchini', 'Kenya', ',', 'zaidi', 'ya', 'watu', '3000', 'huaga', 'dunia', 'baada', 'ya', 'kuhusika', 'kwenye', 'ajali', 'za', 'barabarani', '.', 'Hata', 'hivyo', 'asilimia', '85', 'za', 'maafa', 'hayo', 'husababishwa', 'na', 'tabia', 'za', 'watu', 'kama', 'vile', 'uendeshaji', 'gari', 'mtu', 'akiwa', 'mlevi', ',', 'uendeshaji', 'gari', 'kwa', 'kasi', 'na', 'kutokuwa', 'na', 'maarifa', 'kuhusu', 'kuzingatia', 'usalama', 'barabarani', '.']\n",
      "\n",
      " Number of Words:  499\n"
     ]
    }
   ],
   "source": [
    "file=\"22march22.txt\"\n",
    "\n",
    "# calling the function and storing the contents in a text variable \n",
    "text1 = get_document(\"https://taifaleo.nation.co.ke/mamia-wahama-kerio-mashambulio-yakizidi/\")\n",
    "text4 = get_document(\"https://taifaleo.nation.co.ke/ntsa-yatoa-mafunzo-mapya-kwa-madereva/\")\n",
    "\n",
    "# calling the store_ document function \n",
    "store_document(doc=text1,name=file)\n",
    "store_document(doc=text4,name=file)\n",
    "\n",
    "#add the words in this file to the total_corpus_words, to keep count of the number of words in the corpus\n",
    "total_corpus_words+=total_words(file)"
   ]
  },
  {
   "cell_type": "code",
   "execution_count": null,
   "metadata": {},
   "outputs": [],
   "source": [
    "total_corpus_words"
   ]
  },
  {
   "cell_type": "code",
   "execution_count": 91,
   "metadata": {},
   "outputs": [
    {
     "name": "stdout",
     "output_type": "stream",
     "text": [
      "['Mamia', 'wahama', 'Kerio', 'mashambulio', 'yakizidi', 'MAMIA', 'ya', 'familia', 'zinatoroka', 'kutoka', 'Bonde', 'la', 'Kerio', 'kutafuta', 'hifadhi', 'katika', 'miteremko', 'ya', 'Elgeyo', ',', 'kutokana', 'na', 'kudorora', 'kwa', 'hali', 'ya', 'usalama', 'katika', 'eneo', 'hilo', '.', 'Haya', 'yanajiri', 'baada', 'ya', 'shambulio', 'lililotokea', 'Jumapili', 'katika', 'eneo', 'la', 'Koitilial', ',', 'Marakwet', 'Magharibi', ',', 'ambapo', 'watu', 'wawili', 'waliuawa', 'huku', 'wengine', 'sita', 'wakijeruhiwa', '.', 'Watu', 'wawili', 'kati', 'ya', 'sita', 'waliojeruhiwa', 'wamelazwa', 'katika', 'Hospitali', 'ya', 'Mafunzo', 'na', 'Rufaa', 'ya', 'Moi', '(', 'MTRH', ')', 'na', 'Eldoret', 'Hospital', 'mtawalia', ',', 'baada', 'ya', 'risasi', 'kupenyeza', 'katika', 'vichwa', 'na', 'tumboni', '.', 'Afisa', 'Mkuu', 'Mtendaji', 'wa', 'MTRH', ',', 'Dkt', 'Wilson', 'Aruasa', ',', 'alisema', 'Jumatatu', 'kwamba', 'mmoja', 'wa', 'manusura', 'wa', 'shambulio', 'hilo', 'anatibiwa', 'katika', 'hospitali', 'hiyo', 'na', 'yuko', 'katika', 'hali', 'nzuri', '.', 'Manusura', 'wengine', 'wanne', 'wanapokea', 'matibabu', 'katika', 'Hospitali', 'ya', 'Rufaa', 'ya', 'Kaunti', 'ya', 'Iten', '.', 'Taifa', 'Leo', 'imebaini', 'kuwa', 'mamia', 'ya', 'watu', 'wanatoroka', 'kutoka', 'eneo', 'hilo', 'kwa', 'wingi', ',', 'wakihofia', 'mashambulio', 'zaidi', 'kutokea', '.', 'Wengi', 'wameamua', 'kutafuta', 'hifadhi', 'katika', 'mapango', 'hatari', 'kwenye', 'miteremko', 'hiyo', ',', 'hata', 'baada', 'ya', 'serikali', 'kutangaza', 'kuwatuma', 'maafisa', 'zaidi', 'wa', 'usalama', 'ili', 'kuimarisha', 'doria', '.', 'Kwa', 'upande', 'mwingine', ',', 'viongozi', 'wanailaumu', 'serikali', 'kwa', 'kutochukua', 'hatua', 'za', 'kutosha', ',', 'huku', 'watu', 'wakiendelea', 'kuuawa', 'kwa', 'kiwango', 'cha', 'kuhofisha', '.', 'Bw', 'Leonard', 'Yano', ',', 'ambaye', 'ni', 'mkazi', ',', 'alisema', 'kuwa', 'eneo', 'hilo', 'limegeuka', 'kuwa', 'mahame', ',', 'kwani', 'watu', 'wengi', 'wameondoka', 'kutoka', 'makazi', 'yao', '.', '“', 'Watu', 'wengi', 'wameachwa', 'bila', 'makao', 'tangu', 'mashambulio', 'hayo', 'kuanza', 'mwaka', '2021', '.', 'Hata', 'hivyo', ',', 'shambulio', 'la', 'Jumapili', 'lilizua', 'wasiwasi', 'zaidi', 'miongoni', 'mwa', 'wenyeji', '.', 'Mashambulio', 'hayo', 'yamekuwa', 'yakiongezeka', 'kila', 'kuchao', 'licha', 'ya', 'watu', 'wengi', 'kutokuwa', 'na', 'mifugo', ',', '”', 'akasema', '.', 'Alisema', 'kuwa', 'miteremko', 'hiyo', 'ndiko', 'mahali', 'pekee', 'ambapo', 'wenyeji', 'wanaweza', 'kutafuta', 'hifadhi', 'kwani', 'wavamizi', 'hao', 'hawawezi', 'kupanda', 'milima', 'bila', 'kugundulika', '.', '“', 'Kuna', 'nyoka', 'hatari', 'katika', 'miteremko', 'hiyo', '.', 'Watoto', 'na', 'wazee', 'wanateseka', 'sana', 'kutokana', 'na', 'hali', 'ya', 'baridi', '.', 'Tunaiomba', 'serikali', 'irejeshe', 'hali', 'ya', 'utulivu', 'angalau', 'kuwawezesha', 'watu', 'kulala', 'kwenye', 'makazi', 'yao', ',', '”', 'akasema', '.', 'Bi', 'Mary', 'Kanda', 'alisema', 'kuwa', 'wanakabiliwa', 'na', 'njaa', 'kwani', 'hakuna', 'chakula', 'chochote', 'kwenye', 'miteremko', 'hiyo', '.', '“', 'Tunaumia', 'sana', '.', 'Tutapata', 'afueni', 'tu', 'baada', 'ya', 'serikali', 'kurejesha', 'hali', 'ya', 'kawaida', '.', 'Sisi', 'si', 'Wakenya', 'tusio', 'na', 'hadhi', '.', 'Tunataka', 'kufurahia', 'haki', 'zetu', 'sawa', 'na', 'wananchi', 'wale', 'wengine', ',', '”', 'akasema', '.', 'Naibu', 'Kamishna', 'wa', 'Kaunti', 'Ndogo', 'ya', 'Marakwet', 'Magharibi', ',', 'Bw', 'Mathias', 'Chisiambo', ',', 'alisema', 'kuwa', 'ijapokuwa', 'vikosi', 'vya', 'usalama', 'vimewekwa', 'katika', 'hali', 'ya', 'tahadhari', ',', 'watu', 'wanahofia', 'mashambulio', 'zaidi', 'kutokea', '.', 'Mbunge', 'wa', 'eneo', 'hilo', 'William', 'Kisang', 'ameirai', 'serikali', 'kuchukua', 'hatua', 'za', 'haraka', 'ili', 'kukomesha', 'mahangaiko', 'wanayopitia', 'wenyeji', 'wa', 'bonde', 'la', 'Kerio', '.', 'Baadhi', 'ya', 'wakazi', 'wa', 'Thika', 'wafanya', 'maandamano', 'wakitaka', 'Ruto', 'akome', 'kumshambulia', 'bosi', 'wake', 'BAADHI', 'ya', 'wakazi', 'wa', 'Thika', 'walifanya', 'maandamano', 'kulaani', 'matamshi', 'yaliyotolewa', 'na', 'Naibu', 'Rais', 'Dkt', 'William', 'Ruto', 'wikendi', 'iliyopita', 'kwa', 'akimlenga', 'moja', 'kwa', 'moja', 'Rais', 'Uhuru', 'Kenyatta', 'ambye', 'amemuidhinisha', 'kiongozi', 'wa', 'ODM', ',', 'Bw', 'Raila', 'Odinga', '.', 'Wakazi', 'hao', 'wakiongozwa', 'na', 'mfanyabiashara', 'Peter', 'Mbugua', 'walisema', 'Dkt', 'Ruto', 'alimkosea', 'heshima', 'Rais', 'Kenyatta', 'kwa', 'kumshambulia', 'hadharani', 'katika', 'ngome', 'yake', 'ya', 'kaunti', 'ya', 'Kiambu', '.', '“', 'Hatua', 'iliyochukuliwa', 'na', 'Dkt', 'Ruto', 'ni', 'ya', 'kumkejeli', 'Rais', 'Kenyatta', 'huku', 'akidai', 'anatafuta', 'kura', 'kutoka', 'kwa', 'wakazi', 'wa', 'Thika', '.', 'Sisi', 'kama', 'wakazi', 'wa', 'hapa', 'tumeudhika', 'sana', 'na', 'tabia', 'hiyo', ',', '”', 'alisema', 'Bw', 'Mbugua', '.', 'Naye', 'mkazi', 'mwingine', 'wa', 'Thika', 'Bi', 'Lucy', 'Mwangi', 'alisema', 'wakazi', 'wa', 'Thika', 'wataendelea', 'kufuata', 'chama', 'cha', 'Jubilee', 'chini', 'ya', 'Azimio', 'la', 'Umoja', 'kwani', 'huo', 'ndio', 'mwelekeo', 'Rais', 'Kenyatta', 'anataka', 'jamii', 'ya', 'kutoka', 'Mlima', 'Kenya', 'ifuate', '.', '“', 'Sisi', 'kama', 'wakazi', 'wa', 'Thika', 'na', 'Mlima', 'Kenya', 'kwa', 'ujumla', 'hatutakubali', 'kugawanywa', 'kwa', 'misingi', 'ya', 'vyama', 'vya', 'kisiasa', '.', 'Kwa', 'hivyo', 'kiongozi', 'yeyote', 'anayefika', 'Mlima', 'Kenya', 'aje', 'na', 'sera', 'zake', 'tuzikague', 'badala', 'ya', 'kuongoza', 'mgawanyiko', 'miongoni', 'mwetu', ',', '”', 'alisema', 'Bi', 'Mwangi', '.', 'Vijana', 'wakosolewa', 'kupenda', 'bodaboda', 'badala', 'ya', 'masomo', 'MBUNGE', 'wa', 'Galole', ',', 'Bw', 'Said', 'Hiribai', ',', 'amewakosoa', 'vijana', 'wa', 'Tana', 'River', 'ambao', 'huchagua', 'biashara', 'ya', 'bodaboda', 'badala', 'ya', 'kutumia', 'nafasi', 'walizotengewa', 'katika', 'vyuo', 'vya', 'kiufundi', 'kujielimisha', '.', 'Mbunge', 'huyo', 'alisema', 'serikali', 'ya', 'kitaifa', 'ilitenga', 'pesa', 'za', 'kufadhili', 'masomo', 'ya', 'vijana', 'katika', 'vyuo', 'hivyo', 'na', 'kuna', 'ufadhili', 'mwingine', 'kutoka', 'kwa', 'maeneobunge', 'ilhali', 'vijana', 'wamekataa', 'kujisajili', '.', 'Kulingana', 'naye', ',', 'kazi', 'nyingi', 'hutokea', 'katika', 'kaunti', 'na', 'maafisa', 'hulazimika', 'kutafuta', 'wataalamu', 'kutoka', 'nje', 'kwa', 'sababu', 'walio', 'na', 'ujuzi', 'wa', 'kiufundi', 'hawapatikani', 'katika', 'kaunti', 'hiyo', '.', 'Chuo', 'cha', 'mafunzo', 'ya', 'kiufundi', 'cha', 'Hola', 'kina', 'wanafunzi', 'wasiozidi', '200', 'tangu', 'kilipofunguliwa', 'Februari', '2021', '.', 'Hali', 'sawa', 'na', 'hii', 'imekuwa', 'ikishuhudiwa', 'katika', 'kaunti', 'nyingine', 'mbalimbali', 'za', 'Pwani', '.', 'Waziri', 'wa', 'Elimu', 'katika', 'Kaunti', 'ya', 'Kilifi', ',', 'Bi', 'Rachael', 'Musyoki', ',', 'hata', 'hivyo', 'alisema', 'hamasisho', 'limeanzishwa', 'kuongeza', 'idadi', 'ya', 'vijana', 'wanaojiunga', 'na', 'taasisi', 'hizo', '.', '“', 'Vijana', 'wetu', 'hawataki', 'kusomea', 'mafunzo', 'yanayochukua', 'muda', 'mrefu', '.', 'Tulianzisha', 'kozi', 'za', 'muda', 'mfupi', 'na', 'vijana', 'sasa', 'wanajiandikisha', ',', 'kumaanisha', 'wameanza', 'kufahamu', 'kwamba', 'taasisi', 'hizi', 'si', 'za', 'waliofeli', 'masomoni', ',', '”', 'akasema', '.', 'Takwimu', 'zimeonyesha', 'kuwa', 'idadi', 'ya', 'wanafunzi', 'iliongezeka', 'kutoka', '3,000', 'hadi', '5,400', 'katika', 'miaka', 'miwili', 'iliyopita', 'ilhali', 'vijana', 'takriban', '10,000', 'wamekuwa', 'wakilengwa', 'Kilifi', 'pekee', '.', 'Hivi', 'majuzi', ',', 'mkuu', 'wa', 'chuo', 'cha', 'ufundi', 'cha', 'Weru', ',', 'Kaunti', 'ya', 'Kwale', ',', 'Bw', 'Edward', 'Mwagambo', 'alisema', 'kati', 'ya', 'jumla', 'ya', 'wanafunzi', '780', 'katika', 'chuo', 'hicho', 'cha', 'ufundi', ',', '150', 'pekee', 'ni', 'wenyeji', '.', 'Chuo', 'hicho', 'kina', 'uwezo', 'wa', 'kusajili', 'wanafunzi', '1,500.Hapo', 'awali', ',', 'aliyekuwa', 'katibu', 'wa', 'vyuo', 'vya', 'ufundi', 'nchini', 'chini', 'ya', 'Wizara', 'ya', 'Elimu', ',', 'Bw', 'Kevit', 'Desai', 'alielezea', 'masikitiko', 'yake', 'kutokana', 'na', 'idadi', 'ndogo', 'ya', 'vijana', 'wanajiounga', 'na', 'vyuo', 'hivyo', 'katika', 'eneo', 'la', 'Pwani', '.', 'Katibu', 'huyo', 'alitoa', 'mfano', 'wa', 'chuo', 'kimoja', 'katika', 'Kaunti', 'ya', 'Kwale', 'kilicho', 'na', 'uwezo', 'wa', 'kuwa', 'na', 'wanafunzi', '1,000', 'lakini', 'kilikuwa', 'na', 'wanafunzi', '13', 'pekee', '.', 'Kampeni', ':', 'IEBC', 'yapendekeza', 'Ruto', 'na', 'Raila', 'wachunguzwe', 'HUENDA', 'Naibu', 'Rais', 'William', 'Ruto', 'na', 'kiongozi', 'wa', 'ODM', 'Raila', 'Odinga', 'wakafunguliwa', 'mashtaka', 'kwa', 'kosa', 'la', 'kutumia', 'mali', 'ya', 'umma', 'kuendesha', 'kampeni', 'zao', 'za', 'urais', '.', 'Hii', 'ni', 'baada', 'ya', 'Tume', 'Huru', 'ya', 'Uchaguzi', 'na', 'Umma', '(', 'IEBC', ')', 'kumwandia', 'Mkurugenzi', 'wa', 'Mashtaka', 'ya', 'Umma', '(', 'DPP', ')', 'Noordin', 'Haji', 'ikimtaka', 'achunguze', 'madai', 'kuwa', 'wawili', 'hao', 'wanavunja', 'sheria', 'kwa', 'kutumia', 'mali', 'ya', 'umma', 'katika', 'kampeni', 'zao', 'za', 'mapema', '.', 'Mwenyekiti', 'wa', 'tume', 'hiyo', 'Wafula', 'Chebukati', 'Jumatano', ',', 'Machi', '23', ',', '2022', 'amemwandikia', 'Bw', 'Haji', 'barua', 'kuhusu', 'suala', 'hilo', 'kufuatia', 'malalamishi', 'ambayo', 'IEBC', 'ilipokea', 'kutoka', 'kwa', 'kiongozi', 'wa', 'chama', 'cha', 'Thirdway', 'Alliance', 'Ekuru', 'Aukot', '.', 'Katika', 'barua', 'yake', 'kwa', 'IEBC', ',', 'Bw', 'Aukot', 'ambaye', 'alikuwa', 'mgombeaji', 'wa', 'urais', 'katika', 'uchaguzi', 'mkuu', 'wa', '2017', ',', 'alisema', 'ni', 'kinyume', 'cha', 'sheria', 'kwa', 'wawili', 'hao', 'kutumia', 'mali', 'ya', 'umma', 'kuendelea', 'manufaa', 'yao', 'ya', 'kibinafsi', 'na', 'ya', 'kisiasa', '.', 'Bw', 'Aukot', 'alisema', 'kwa', 'kutumia', 'rasilimali', 'za', 'umma', 'Dkt', 'Ruto', 'na', 'Bw', 'Odinga', 'wanafaidi', 'zaidi', 'kuliko', 'wawaniaji', 'wengine', ',', 'jambo', 'ambalo', 'linakiuka', 'kanuni', 'ya', 'usawa', '.', '“', 'Sehemu', 'ya', '14', 'ya', 'Sheria', 'ya', 'Uchaguzi', 'ya', '2016', 'inaharamisha', 'matumizi', 'ya', 'mali', 'ya', 'umma', 'nyakazi', 'za', 'kampeni', 'za', 'kuelekea', 'uchaguzi.', '”', '“', 'Ni', 'kwa', 'msingi', 'huu', 'ambapo', 'tungepewa', 'kuelekeza', 'malalamishi', 'hayo', 'kwa', 'afisi', 'yako', 'kwa', 'sababu', 'yanahusiana', 'na', 'wajibu', 'wako', ',', '”', 'Bw', 'Chebukati', 'akasema', 'katika', 'barua', 'yake', 'kwa', 'DPP', ',', 'Bw', 'Haji', '.', 'Hata', 'hivyo', ',', 'mwenyekiti', 'huyo', 'wa', 'IEBC', 'hakusema', 'lolote', 'kuhusu', 'madai', 'ya', 'Bw', 'Aukot', 'kwamba', 'Dkt', 'Ruto', 'na', 'Bw', 'Odinga', 'wanavunja', 'kanuni', 'za', 'uchaguzi', 'kwa', 'kufanya', 'kampeni', 'za', 'mapema', 'kabla', 'ya', 'kipindi', 'rasmi', 'cha', 'kufanya', 'hivyo', 'hakijatimu', '.', 'Katika', 'barua', 'yake', 'kwa', 'IEBC', 'Bw', 'Aukot', 'ambaye', 'ni', 'mwanasheria', 'alipendekeza', 'kuwa', 'wawili', 'hao', 'wazuiliwe', 'kushiriki', 'uchaguzi', 'mkuu', 'wa', 'Agosti', '9', '.', 'Kulingana', 'na', 'kanuni', 'za', 'uchaguzi', ',', 'wanasiasa', 'wanapaswa', 'kuanza', 'kampeni', 'siku', '90', 'kabla', 'ya', 'tarehe', 'ya', 'uchaguzi', '.']\n",
      "\n",
      " Number of Words:  1237\n"
     ]
    }
   ],
   "source": [
    "file=\"22march23.txt\"\n",
    "\n",
    "# calling the function and storing the contents in a text variable \n",
    "text4 = get_document(\"https://taifaleo.nation.co.ke/kampeni-iebc-yapendekeza-ruto-na-raila-wachunguzwe/\")\n",
    "\n",
    "# calling the store_ document function \n",
    "store_document(doc=text1,name=file)\n",
    "store_document(doc=text2,name=file)\n",
    "store_document(doc=text3,name=file)\n",
    "store_document(doc=text4,name=file)\n",
    "\n",
    "#add the words in this file to the total_corpus_words, to keep count of the number of words in the corpus\n",
    "total_corpus_words+=total_words(file)"
   ]
  },
  {
   "cell_type": "code",
   "execution_count": 92,
   "metadata": {},
   "outputs": [
    {
     "data": {
      "text/plain": [
       "470240"
      ]
     },
     "execution_count": 92,
     "metadata": {},
     "output_type": "execute_result"
    }
   ],
   "source": [
    "total_corpus_words"
   ]
  },
  {
   "cell_type": "code",
   "execution_count": 94,
   "metadata": {},
   "outputs": [
    {
     "name": "stdout",
     "output_type": "stream",
     "text": [
      "['Sabina', 'Chege', 'asema', 'Karua', 'ana', 'ushawishi', 'wa', 'kuvutia', 'kura', 'nyingi', 'kwa', 'Azimio', 'UAMUZI', 'wa', 'kinara', 'wa', 'Narc-Kenya', 'Bi', 'Martha', 'Karua', 'kujiunga', 'na', 'vuguvugu', 'la', 'Azimio', 'la', 'Umoja', 'umepokelewa', 'kwa', 'mbwembwe', 'na', 'viongozi', 'wa', 'mrengo', 'wa', 'Kinara', 'Wa', 'ODM', 'Raila', 'Odinga', '.', 'Kati', 'ya', 'walioridhika', 'na', 'uamuzi', 'huo', 'ni', 'Mbunge', 'Mwakilishi', 'wa', 'Kike', 'katika', 'Kaunti', 'ya', 'Muranga', 'Bi', 'Sabina', 'Chege', 'ambaye', 'alimsifu', 'Bi', 'Karua', 'akisema', 'kwamba', 'usemi', 'mkubwa', 'wa', 'Bi', 'Karua', 'una', 'uwezo', 'wa', 'kusawazisha', 'hesabu', 'ya', 'kura', 'za', 'vuguvugu', 'la', 'Azimio', 'katika', 'uchaguzi', 'mkuu', 'wa', 'Agosti', 'iwapo', 'atafanikiwa', 'kutwaa', 'nafasi', 'ya', 'Unaibu', 'wa', 'Rais', '.', 'Semi', 'za', 'Bi', 'Chege', 'zimejiri', 'muda', 'mfupi', 'tu', 'baada', 'ya', 'Bi', 'Karua', 'kutangaza', 'kumuunga', 'mkono', 'Bw', 'Odinga', 'katika', 'azma', 'yake', 'ya', 'kuwania', 'urais', '.', 'Msimamizi', 'huyu', 'wa', 'wanawake', ',', 'alisema', 'kwamba', 'hatua', 'ya', 'Bi', 'Karua', 'kujiunga', 'na', 'Azimio', 'la', 'Umoja', 'itasaidia', 'kuongeza', 'kura', 'za', 'vuguzugu', 'la', 'Azimio', 'huku', 'siasa', 'za', 'Bw', 'Odinga', 'zikipigwa', 'jeki', 'pakubwa', '.', 'Aidha', 'akizungumza', 'na', 'kituo', 'cha', 'Runinga', 'cha', 'Citizen', ',', 'Bi', 'Chege', 'alisema', 'kwamba', 'usemi', 'wa', 'Bi', 'Karua', 'usioteteleka', 'kisiasa', 'ni', 'ishara', 'kwamba', 'atawawezesha', 'wengi', 'kukata', 'kauli', 'kujiunga', 'na', 'kambi', 'ya', 'Bw', 'Odinga', '.', '“', 'Ni', 'habari', 'njema', 'kote', 'nchini', '.', 'Kwa', 'chama', 'kitakachomteua', 'mwanamke', 'kuwa', 'Naibu', 'wake', ',', 'nina', 'uhakika', 'sasa', 'wanawake', 'wote', 'watapiga', 'kura', 'kwa', 'chama', 'kama', 'hicho', '.', 'Naona', 'sasa', 'hata', 'wanawake', 'wanaopania', 'kutafuta', 'nyadhifa', 'za', 'uongozi', 'wamepata', 'kielelezo', 'kutoka', 'kwa', 'Karua', ',', 'alisema', 'Bi', 'Chege', '.', 'Kadhalika', 'alimtaja', 'Bi', 'Karua', 'kama', 'mmoja', 'wa', 'waliofuzu', 'kuwa', 'kinara', 'mwenza', 'wa', 'Bw', 'Odinga', 'anapokabiliana', 'na', 'Naibu', 'wa', 'Rais', 'William', 'Ruto', 'ambaye', 'anawania', 'Urais', 'kwa', 'tiketi', 'ya', 'chama', 'cha', 'UDA', '.', '“', 'Karua', 'ana', 'tajriba', 'pana', 'na', 'mwenye', 'sifa', 'za', 'uongozi', 'na', 'mimi', 'siwezi', 'kusema', 'kwamba', 'hafai', 'wadhifa', 'wa', 'kinara', 'mwenza', 'kwa', 'Bw', 'Odinga', '.', 'Amekuwa', 'katika', 'serikali', 'na', 'anajua', 'jinsi', 'shughuli', 'za', 'serikali', 'huendeshwa', ',', 'kama', 'zile', 'enzi', 'za', 'Hayati', 'Mzee', 'Moi', 'na', 'Rais', 'Mstaafu', 'Mwai', 'Kibaki', ',', '”', 'akasema', 'mwanahabari', 'huyu', 'wa', 'zamani', '.', 'Hata', 'hivyo', 'Mbunge', 'Mwakilishi', 'wa', 'Kike', 'katika', 'Kaunti', 'ya', 'Uasin', 'Gishu', 'Gladys', 'Shollei', 'ametupilia', 'mbali', 'uwezekano', 'wa', 'Bi', 'Karua', 'kutwaa', 'nafasi', 'ya', 'Kinara', 'mwenza', 'wa', 'Azimio', 'la', 'Umoja', 'akisema', 'kwamba', 'chama', 'cha', 'ODM', 'na', 'Azimio', 'havina', 'wanawake', 'wengi', 'na', 'kwamba', 'chama', 'hicho', 'cha', 'ODM', 'kilimkabidhi', 'Mbunge', 'Mwakilishi', 'wa', 'Kike', 'katika', 'Kaunti', 'ya', 'Homabay', 'Bi', 'Gladys', 'Wanga', 'wadhifa', 'wa', 'kamati', 'ya', 'Bunge', 'kuhusu', 'Fedha', ',', 'baada', 'ya', 'handisheki', 'kati', 'ya', 'Rais', 'Uhuru', 'Kenyatta', 'na', 'kinara', 'wa', 'ODM', 'Raila', 'Odinga', ',', 'mapema', 'mwaka', 'wa', '2018', 'na', 'wala', 'si', 'kabla', 'ya', 'hapo', '.', '“', 'Ningefurahia', 'sana', 'iwapo', 'Azimio', 'ingemteua', 'kinara', 'mwenza', 'mwanamke', ',', 'hasa', 'ikiwa', 'ni', 'Martha', 'Karua', ',', 'lakini', 'tunajua', 'ODM', 'haijawahi', 'kuwa', 'na', 'viongozi', 'wanawake', 'hata', 'katika', 'Bunge', '.', 'Viongozi', 'wote', 'ni', 'wanaume', 'isipokuwa', 'Dkt', 'Sally', 'Kosgei', 'ambaye', 'kwa', 'sasa', 'yuko', 'kwenye', 'kampeni', 'za', 'Bw', 'Odinga', '.', 'Mengi', 'hivyo', 'basi', 'yafaa', 'kufanywa', 'katika', 'kambi', 'ya', 'Odinga', ',', '”', 'alisema', 'Bi', 'Gladys', 'Shollei', '.', 'Sasa', 'huenda', 'uamuzi', 'wa', 'Bi', 'Karua', 'ukavutia', 'wanawake', 'wengi', 'nchini', 'katika', 'kuwania', 'nyadhifa', 'za', 'juu', 'zaidi', ',', 'hali', 'ambayo', 'bila', 'shaka', 'itabadilisha', 'mkondo', 'wa', 'siasa', 'za', 'Kenya', '.']\n",
      "\n",
      " Number of Words:  496\n"
     ]
    }
   ],
   "source": [
    "file=\"22march25.txt\"\n",
    "\n",
    "# calling the function and storing the contents in a text variable \n",
    "text = get_document(\"https://taifaleo.nation.co.ke/sabina-chege-asema-karua-ana-ushawishi-wa-kuvutia-kura-nyingi-kwa-azimio/\")\n",
    "\n",
    "# calling the store_ document function \n",
    "store_document(doc=text,name=file)\n",
    "\n",
    "#add the words in this file to the total_corpus_words, to keep count of the number of words in the corpus\n",
    "total_corpus_words+=total_words(file)"
   ]
  },
  {
   "cell_type": "code",
   "execution_count": 95,
   "metadata": {},
   "outputs": [
    {
     "data": {
      "text/plain": [
       "470736"
      ]
     },
     "execution_count": 95,
     "metadata": {},
     "output_type": "execute_result"
    }
   ],
   "source": [
    "total_corpus_words"
   ]
  },
  {
   "cell_type": "code",
   "execution_count": 96,
   "metadata": {},
   "outputs": [
    {
     "name": "stdout",
     "output_type": "stream",
     "text": [
      "['Misako', 'Makutano', 'MISAKO', 'mikali', 'dhidi', 'ya', 'mitandao', 'ya', 'uhalifu', 'imezinduliwa', 'katika', 'mtaa', 'wa', 'Makutano', 'ulio', 'katika', 'njiapanda', 'za', 'kuelekea', 'katika', 'miji', 'ya', 'Nyeri', ',', 'Embu', 'na', 'Meru', '.', 'Uhalifu', 'huo', 'unajumuisha', 'ukahaba', ',', 'wizi', 'wa', 'mafuta', 'kutoka', 'magari', 'ya', 'uchukuzi', ',', 'usambazaji', 'bangi', 'kutoka', 'Kaunti', 'za', 'Kaskazini', 'Mashariki', ',', 'ulanguzi', 'wa', 'maharamia', 'na', 'uchezaji', 'kamari', 'jinsi', 'ambavyo', 'Taifa', 'Leo', 'ilifichua', 'kwenye', 'makala', 'maalum', 'ya', 'mnamo', 'Machi', '15', ',', '2022', '.', 'Misako', 'hiyo', 'pia', 'inalenga', 'wezi', 'mtaani', 'na', 'wapakiaji', 'pombe', 'haramu', 'sambamba', 'na', 'wamiliki', 'wa', 'baa', 'ambao', 'hukiuka', 'sheria', 'za', 'biashara', 'ya', 'pombe', 'na', 'mvinyo', '.', 'Kwa', 'mujibu', 'wa', 'kamanda', 'wa', 'polisi', 'wa', 'Mbeere', 'Kusini', 'Bw', 'Gregory', 'Mutiso', ',', 'hali', 'ya', 'utiifu', 'kwa', 'sheria', 'ndiyo', 'inarejeshwa', 'katika', 'mtaa', 'huo', '.', '“', 'Ningetaka', 'ufike', 'mtaa', 'huo', 'na', 'unionyeshe', 'mtambo', 'mmoja', 'tu', 'wa', 'kucheza', 'kamari', '.', 'Kwa', 'sasa', ',', 'wamiliki', 'wa', 'baa', 'watano', 'wamekamatwa', 'kwa', 'kukiuka', 'sheria', 'za', 'kuhudumu', 'huku', 'makahaba', 'wakiwa', 'waneonywa', 'kuhusu', 'uharamu', 'wa', 'harakati', 'zao', ',', '”', 'akasema', 'mnamo', 'Machi', '25', ',', '2022', '.', 'Bw', 'Mutiso', 'aliongeza', 'kuwa', 'doria', 'mtaani', 'zimeimarishwa', 'ili', 'kuwatambua', 'kila', 'aina', 'ya', 'majambazi', 'na', 'amri', 'ni', 'kwamba', 'kusiwe', 'na', 'huruma', 'dhidi', 'ya', 'kila', 'aina', 'ya', 'ukiukaji', 'wa', 'sheria', '.', 'Wenyeji', 'tuliowahoji', 'walisema', 'kuwa', 'wameshuhudia', 'mwamko', 'mpya', 'ambapo', 'maafisa', 'wa', 'polisi', 'wa', 'Makutano', 'ambao', 'kwa', 'muda', 'walikuwa', 'wamezembea', ',', 'sasa', 'wameonekana', 'kutia', 'bidii', 'kazini', '.', '“', 'Mimi', 'nimeshuhudia', 'kahaba', 'mmoja', 'akitiwa', 'mbaroni', 'kwa', 'madai', 'ya', 'kuiba', 'Sh4,500', 'kutoka', 'kwa', 'mteja', 'wake', '.', 'Kisa', 'hicho', 'cha', 'Ijumaa', 'asubuhi', 'kimetupa', 'matumaini', 'kwamba', 'maafisa', 'hawa', 'wako', 'tayari', 'kutekeleza', 'sheria', ',', '”', 'akasema', 'mmoja', 'wa', 'wenyeji', '.', 'Katika', 'kisa', 'hicho', 'cha', 'kahaba', 'kudaiwa', 'kumwibia', 'mteja', 'wake', ',', 'ripoti', 'iliyoandikishwa', 'katika', 'kituo', 'cha', 'polisi', 'Makutano', 'inaelezea', 'jinsi', 'mwanamume', 'huyo', 'alivyojitokeza', 'na', 'akaingia', 'katika', 'maafikiano', 'ya', 'uteja', 'wa', 'Sh300', '.', '“', 'Nilikuwa', 'nipimiwe', 'mapenzi', 'ya', 'Sh200', 'huku', 'nikilipa', 'ada', 'ya', 'nyumba', 'ya', 'Sh100', '.', 'Lakini', 'mwanadada', 'huyo', 'alinigeuka', 'na', 'kinidhulumu', 'nilipompa', 'Sh500', 'za', 'kugharimia', 'huduma', 'hiyo', '.', 'Alikataa', 'kunihudumia', 'na', 'akiwa', 'na', 'wengine', 'watano', ',', 'walinivamia', 'na', 'kunipokonya', 'Sh4,000', 'nilizokuwa', 'nazo', 'kwa', 'mfuko', 'huku', 'wakinipiga', 'kwa', 'vigongo', ',', '”', 'akasema', '.', 'Mzee', 'huyo', 'alilalamika', 'rasmi', 'na', 'akapewa', 'barua', 'ya', 'kusaidiwa', 'kupata', 'ukaguzi', 'na', 'matibabu', 'katika', 'hospitali', 'ili', 'kubaini', 'kiwango', 'cha', 'majeraha', '.', 'Akirejesha', 'ripoti', 'ya', 'daktari', ',', 'kahaba', 'huyo', 'pamoja', 'na', 'washirika', 'wake', 'watatiwa', 'mbaroni', 'na', 'kushtakiwa', 'kwa', 'wizi', 'wa', 'mabavu', '.', 'Bw', 'Mutiso', 'alisema', 'kuwa', 'serikali', 'imejitolea', 'kuhakikisha', 'kwamba', 'kila', 'mkazi', 'wa', 'Makutano', 'amepata', 'usalama', 'wa', 'kutosha', ',', 'akiongeza', 'kuwa', 'misako', 'hiyo', 'itasalia', 'hadi', 'hali', 'ya', 'kawaida', 'irejee', '.', 'Makutano', 'ni', 'mji', 'mdogo', 'uliojaa', 'vumbi', ',', 'takataka', 'katika', 'barabara', 'za', 'chorochoroni', 'na', 'maji', 'taka', 'ambayo', 'hujitoa', 'kutoka', 'vioo', 'vya', 'nyumba', 'za', 'makazi', 'na', 'kutapakaa', 'barabarani', '.', 'Ni', 'hivi', 'karibuni', 'ambapo', 'kulizuka', 'kilio', 'cha', 'wenyeji', 'ambao', 'walilalamika', 'kuwa', 'kuna', 'jumba', 'moja', 'la', 'biashara', 'ya', 'ngono', 'ambapo', 'watoto', 'wa', 'shule', 'wa', 'kiume', 'na', 'wa', 'kike', 'walikuwa', 'wakionekana', 'wakiingia', 'kushiriki', 'ngono', 'kiholela', '.', 'Mji', 'huu', 'hufurika', 'watu', 'kwa', 'kuwa', 'uko', 'katika', 'mpaka', 'wa', 'Kaunti', 'za', 'Embu', ',', 'Kirinyaga', ',', 'Machakos', 'na', 'Murang', '’', 'a', 'na', 'biashara', 'za', 'udalali', 'wa', 'mavuno', 'ya', 'mashambani', ',', 'mawe', 'ya', 'mijengo', ',', 'miraa', 'na', 'kila', 'aina', 'ya', 'bidhaa', 'na', 'huduma', 'za', 'ukora', 'huwa', 'imenoga', '.', 'Matukio', 'ya', 'ukora', 'huo', 'wote', 'yalikuwa', 'yamenakiliwa', 'kutoka', 'ripoti', 'rasmi', 'za', 'wenyeji', 'zikiwa', 'zimenakiliwa', 'katika', 'vitengo', 'vya', 'wadumisha', 'usalama', 'chini', 'ya', 'jumbe', 'EMB0741237', ',', 'EMB0741237', ',', 'EMB5192632', ',', 'EMB8849793', ',', 'EMB3245574', 'na', 'EMB4879251', '.', 'Jumbe', 'hizi', 'husambazwa', 'kwa', 'makao', 'makuu', 'ya', 'usalama', 'wa', 'nchi', 'na', 'pia', 'wakuu', 'wote', 'wa', 'kiusalama', 'wa', 'Kaunti', 'hiyo', 'ya', 'Embu', '.', 'Afisa', 'wa', 'ngazi', 'ya', 'juu', 'katika', 'Afisi', 'ya', 'Rais', '(', 'OP', ')', 'Bw', 'Wilfred', 'Nyagwanga', 'alisema', 'kwamba', 'habari', 'za', 'mtaa', 'huo', '“', 'zilipokelewa', 'kwa', 'mshangao', 'mkuu', 'na', 'maafisa', 'wa', 'usalama', 'wa', 'eneo', 'hilo', 'wameamrishwa', 'kushughulikia', 'hali', 'hiyo', 'kwa', 'umakinifu', 'unaofaa.', '”', 'Raila', 'na', 'Karua', 'kuzoa', 'asilimia', '60', 'ya', 'kura', 'za', 'Mlima', 'Kenya', '–', 'Jubilee', 'Kirinyaga', 'MWENYEKITI', 'wa', 'chama', 'tawala', 'cha', 'Jubilee', 'katika', 'Kaunti', 'ya', 'Kirinyaga', 'Bw', 'Múríithi', 'Kang', '’', 'ara', 'amesema', 'kwamba', 'mwaniaji', 'wa', 'urais', 'kwa', 'mrengo', 'wa', 'Azimio', 'la', 'Umoja', 'Bw', 'Raila', 'Odinga', 'atapata', 'asilimia', '60', 'ya', 'kura', 'za', 'eneo', 'la', 'Mlima', 'Kenya', '.', 'Aidha', ',', 'Bw', 'Kang', '’', 'ara', 'alisema', 'kuwa', 'ana', 'fununu', 'kwamba', 'mgombeaji', 'mwenza', 'wa', 'Bw', 'Odinga', 'atakuwa', 'Bi', 'Martha', 'Karua', 'ambaye', 'akiwa', 'na', 'chama', 'chake', 'cha', 'Narc-Kenya', 'amejiunga', 'na', 'mrengo', 'wa', 'Azimio', 'la', 'Umoja', '.', 'Alisema', 'kwamba', 'hatua', 'hiyo', 'itawapa', 'akina', 'mama', 'na', 'wanawake', 'wapigakura', 'kwa', 'ujumla', ',', 'morali', 'ya', 'kupiga', 'kura', 'ya', 'kujitambua', '.', '“', 'Bi', 'Karua', 'anatambulika', 'na', 'anaheshimika', '.', 'Ataweza', '.', 'Na', 'tayari', 'habari', 'za', 'yeye', 'kuingia', 'Azimio', 'la', 'Umoja', 'zimepokelewa', 'vyema', '.', 'Ameongeza', 'ubora', 'mrengo', 'wa', 'Bw', 'Odinga', 'na', 'kilele', 'ni', 'Kaunti', 'ya', 'Kirinyaga', 'kuvuna', 'unaibu', 'wa', 'urais', ',', '”', 'akasema', 'Bw', 'Kang', '’', 'ara', '.', 'Akiongea', 'katika', 'mji', 'wa', 'Kagio', ',', 'Bw', 'Kang', '’', 'ara', 'alisema', 'kwamba', 'ushirikiano', 'wa', 'Rais', 'Uhuru', 'Kenyatta', ',', 'mabwanyenye', 'na', 'wanasiasa', 'utahakikisha', 'kuafikiwa', 'kwa', 'azma', 'hiyo', '.', '“', 'Hawezi', 'akaungwa', 'mkono', 'na', 'mtandao', 'huo', 'halafu', 'aambulie', 'patupu', '.', 'Bw', 'Odinga', 'ni', 'nembo', 'inayojulikana', 'na', 'iliyo', 'na', 'makali', 'yake', 'ya', 'kipekee', '.', 'Ni', 'mwanasiasa', 'ambaye', 'amejishindia', 'ufuasi', 'wake', 'na', 'kile', 'amekuwa', 'akikosa', 'ni', 'ushawishi', 'wa', 'wadau', 'muhimu', 'Mlima', 'Kenya', 'ambao', 'badala', 'yake', 'wamekuwa', 'na', 'mtandao', 'unaofadhili', 'njama', 'za', 'kumwangusha', '.', 'Hayo', 'ni', 'ya', 'kale', 'sasa', 'na', 'safari', 'hii', 'tumemkumbatia', ',', '”', 'akasema', '.', 'Bw', 'Kang', '’', 'ara', 'alikuwa', 'akiongea', 'baada', 'ya', 'mkutano', 'wa', 'wawaniaji', 'katika', 'eneo', 'hilo', 'kwa', 'chama', 'cha', 'Jubilee', '.', '“', 'Bw', 'Odinga', 'ako', 'na', 'serikali', 'nyuma', 'yake', '.', 'Yeye', 'ni', 'kama', 'Rais', 'tu', '.', 'Ukimwongeza', 'mabwanyenye', 'wetu', 'na', 'wanasiasa', 'hawa', 'wote', 'walio', 'nyuma', 'yake', ',', 'ile', 'asilimia', 'tatu', 'ya', 'kura', 'ambayo', 'amekuwa', 'akipata', 'Mlima', 'Kenya', 'itapanda', 'kwa', 'kasi', 'na', 'hivyo', 'ninawasihi', 'watu', 'wetu', 'wazoee', 'mapema', 'kumtambua', 'kama', 'Rais', 'wa', 'Tano', 'wa', 'Taifa', 'hili', 'la', 'Kenya', ',', '”', 'akasema', '.']\n",
      "\n",
      " Number of Words:  937\n"
     ]
    }
   ],
   "source": [
    "file=\"22march27.txt\"\n",
    "\n",
    "# calling the function and storing the contents in a text variable \n",
    "text1 = get_document(\"https://taifaleo.nation.co.ke/misako-makutano/\")\n",
    "text2 = get_document(\"https://taifaleo.nation.co.ke/raila-na-karua-kuzoa-asilimia-60-ya-kura-za-mlima-kenya-jubilee-kirinyaga/\")\n",
    "\n",
    "\n",
    "# calling the store_ document function \n",
    "store_document(doc=text1,name=file)\n",
    "store_document(doc=text2,name=file)\n",
    "\n",
    "\n",
    "#add the words in this file to the total_corpus_words, to keep count of the number of words in the corpus\n",
    "total_corpus_words+=total_words(file)"
   ]
  },
  {
   "cell_type": "code",
   "execution_count": 97,
   "metadata": {},
   "outputs": [
    {
     "data": {
      "text/plain": [
       "471673"
      ]
     },
     "execution_count": 97,
     "metadata": {},
     "output_type": "execute_result"
    }
   ],
   "source": [
    "total_corpus_words"
   ]
  },
  {
   "cell_type": "code",
   "execution_count": 99,
   "metadata": {},
   "outputs": [
    {
     "name": "stdout",
     "output_type": "stream",
     "text": [
      "['Misako', 'Makutano', 'MISAKO', 'mikali', 'dhidi', 'ya', 'mitandao', 'ya', 'uhalifu', 'imezinduliwa', 'katika', 'mtaa', 'wa', 'Makutano', 'ulio', 'katika', 'njiapanda', 'za', 'kuelekea', 'katika', 'miji', 'ya', 'Nyeri', ',', 'Embu', 'na', 'Meru', '.', 'Uhalifu', 'huo', 'unajumuisha', 'ukahaba', ',', 'wizi', 'wa', 'mafuta', 'kutoka', 'magari', 'ya', 'uchukuzi', ',', 'usambazaji', 'bangi', 'kutoka', 'Kaunti', 'za', 'Kaskazini', 'Mashariki', ',', 'ulanguzi', 'wa', 'maharamia', 'na', 'uchezaji', 'kamari', 'jinsi', 'ambavyo', 'Taifa', 'Leo', 'ilifichua', 'kwenye', 'makala', 'maalum', 'ya', 'mnamo', 'Machi', '15', ',', '2022', '.', 'Misako', 'hiyo', 'pia', 'inalenga', 'wezi', 'mtaani', 'na', 'wapakiaji', 'pombe', 'haramu', 'sambamba', 'na', 'wamiliki', 'wa', 'baa', 'ambao', 'hukiuka', 'sheria', 'za', 'biashara', 'ya', 'pombe', 'na', 'mvinyo', '.', 'Kwa', 'mujibu', 'wa', 'kamanda', 'wa', 'polisi', 'wa', 'Mbeere', 'Kusini', 'Bw', 'Gregory', 'Mutiso', ',', 'hali', 'ya', 'utiifu', 'kwa', 'sheria', 'ndiyo', 'inarejeshwa', 'katika', 'mtaa', 'huo', '.', '“', 'Ningetaka', 'ufike', 'mtaa', 'huo', 'na', 'unionyeshe', 'mtambo', 'mmoja', 'tu', 'wa', 'kucheza', 'kamari', '.', 'Kwa', 'sasa', ',', 'wamiliki', 'wa', 'baa', 'watano', 'wamekamatwa', 'kwa', 'kukiuka', 'sheria', 'za', 'kuhudumu', 'huku', 'makahaba', 'wakiwa', 'waneonywa', 'kuhusu', 'uharamu', 'wa', 'harakati', 'zao', ',', '”', 'akasema', 'mnamo', 'Machi', '25', ',', '2022', '.', 'Bw', 'Mutiso', 'aliongeza', 'kuwa', 'doria', 'mtaani', 'zimeimarishwa', 'ili', 'kuwatambua', 'kila', 'aina', 'ya', 'majambazi', 'na', 'amri', 'ni', 'kwamba', 'kusiwe', 'na', 'huruma', 'dhidi', 'ya', 'kila', 'aina', 'ya', 'ukiukaji', 'wa', 'sheria', '.', 'Wenyeji', 'tuliowahoji', 'walisema', 'kuwa', 'wameshuhudia', 'mwamko', 'mpya', 'ambapo', 'maafisa', 'wa', 'polisi', 'wa', 'Makutano', 'ambao', 'kwa', 'muda', 'walikuwa', 'wamezembea', ',', 'sasa', 'wameonekana', 'kutia', 'bidii', 'kazini', '.', '“', 'Mimi', 'nimeshuhudia', 'kahaba', 'mmoja', 'akitiwa', 'mbaroni', 'kwa', 'madai', 'ya', 'kuiba', 'Sh4,500', 'kutoka', 'kwa', 'mteja', 'wake', '.', 'Kisa', 'hicho', 'cha', 'Ijumaa', 'asubuhi', 'kimetupa', 'matumaini', 'kwamba', 'maafisa', 'hawa', 'wako', 'tayari', 'kutekeleza', 'sheria', ',', '”', 'akasema', 'mmoja', 'wa', 'wenyeji', '.', 'Katika', 'kisa', 'hicho', 'cha', 'kahaba', 'kudaiwa', 'kumwibia', 'mteja', 'wake', ',', 'ripoti', 'iliyoandikishwa', 'katika', 'kituo', 'cha', 'polisi', 'Makutano', 'inaelezea', 'jinsi', 'mwanamume', 'huyo', 'alivyojitokeza', 'na', 'akaingia', 'katika', 'maafikiano', 'ya', 'uteja', 'wa', 'Sh300', '.', '“', 'Nilikuwa', 'nipimiwe', 'mapenzi', 'ya', 'Sh200', 'huku', 'nikilipa', 'ada', 'ya', 'nyumba', 'ya', 'Sh100', '.', 'Lakini', 'mwanadada', 'huyo', 'alinigeuka', 'na', 'kinidhulumu', 'nilipompa', 'Sh500', 'za', 'kugharimia', 'huduma', 'hiyo', '.', 'Alikataa', 'kunihudumia', 'na', 'akiwa', 'na', 'wengine', 'watano', ',', 'walinivamia', 'na', 'kunipokonya', 'Sh4,000', 'nilizokuwa', 'nazo', 'kwa', 'mfuko', 'huku', 'wakinipiga', 'kwa', 'vigongo', ',', '”', 'akasema', '.', 'Mzee', 'huyo', 'alilalamika', 'rasmi', 'na', 'akapewa', 'barua', 'ya', 'kusaidiwa', 'kupata', 'ukaguzi', 'na', 'matibabu', 'katika', 'hospitali', 'ili', 'kubaini', 'kiwango', 'cha', 'majeraha', '.', 'Akirejesha', 'ripoti', 'ya', 'daktari', ',', 'kahaba', 'huyo', 'pamoja', 'na', 'washirika', 'wake', 'watatiwa', 'mbaroni', 'na', 'kushtakiwa', 'kwa', 'wizi', 'wa', 'mabavu', '.', 'Bw', 'Mutiso', 'alisema', 'kuwa', 'serikali', 'imejitolea', 'kuhakikisha', 'kwamba', 'kila', 'mkazi', 'wa', 'Makutano', 'amepata', 'usalama', 'wa', 'kutosha', ',', 'akiongeza', 'kuwa', 'misako', 'hiyo', 'itasalia', 'hadi', 'hali', 'ya', 'kawaida', 'irejee', '.', 'Makutano', 'ni', 'mji', 'mdogo', 'uliojaa', 'vumbi', ',', 'takataka', 'katika', 'barabara', 'za', 'chorochoroni', 'na', 'maji', 'taka', 'ambayo', 'hujitoa', 'kutoka', 'vioo', 'vya', 'nyumba', 'za', 'makazi', 'na', 'kutapakaa', 'barabarani', '.', 'Ni', 'hivi', 'karibuni', 'ambapo', 'kulizuka', 'kilio', 'cha', 'wenyeji', 'ambao', 'walilalamika', 'kuwa', 'kuna', 'jumba', 'moja', 'la', 'biashara', 'ya', 'ngono', 'ambapo', 'watoto', 'wa', 'shule', 'wa', 'kiume', 'na', 'wa', 'kike', 'walikuwa', 'wakionekana', 'wakiingia', 'kushiriki', 'ngono', 'kiholela', '.', 'Mji', 'huu', 'hufurika', 'watu', 'kwa', 'kuwa', 'uko', 'katika', 'mpaka', 'wa', 'Kaunti', 'za', 'Embu', ',', 'Kirinyaga', ',', 'Machakos', 'na', 'Murang', '’', 'a', 'na', 'biashara', 'za', 'udalali', 'wa', 'mavuno', 'ya', 'mashambani', ',', 'mawe', 'ya', 'mijengo', ',', 'miraa', 'na', 'kila', 'aina', 'ya', 'bidhaa', 'na', 'huduma', 'za', 'ukora', 'huwa', 'imenoga', '.', 'Matukio', 'ya', 'ukora', 'huo', 'wote', 'yalikuwa', 'yamenakiliwa', 'kutoka', 'ripoti', 'rasmi', 'za', 'wenyeji', 'zikiwa', 'zimenakiliwa', 'katika', 'vitengo', 'vya', 'wadumisha', 'usalama', 'chini', 'ya', 'jumbe', 'EMB0741237', ',', 'EMB0741237', ',', 'EMB5192632', ',', 'EMB8849793', ',', 'EMB3245574', 'na', 'EMB4879251', '.', 'Jumbe', 'hizi', 'husambazwa', 'kwa', 'makao', 'makuu', 'ya', 'usalama', 'wa', 'nchi', 'na', 'pia', 'wakuu', 'wote', 'wa', 'kiusalama', 'wa', 'Kaunti', 'hiyo', 'ya', 'Embu', '.', 'Afisa', 'wa', 'ngazi', 'ya', 'juu', 'katika', 'Afisi', 'ya', 'Rais', '(', 'OP', ')', 'Bw', 'Wilfred', 'Nyagwanga', 'alisema', 'kwamba', 'habari', 'za', 'mtaa', 'huo', '“', 'zilipokelewa', 'kwa', 'mshangao', 'mkuu', 'na', 'maafisa', 'wa', 'usalama', 'wa', 'eneo', 'hilo', 'wameamrishwa', 'kushughulikia', 'hali', 'hiyo', 'kwa', 'umakinifu', 'unaofaa.', '”', 'Walioimarisha', 'vyama', 'vya', 'ushirika', 'na', 'miungano', ',', 'baadhi', 'kupitia', 'makundi', 'hununua', 'bidhaa', 'za', 'kula', 'kwa', 'bei', 'ya', 'jumla', 'na', 'kugawana', 'wenyewe', 'kwa', 'wenyewe', '.', 'Hatua', 'hiyo', 'inawapunguzia', 'gharama', 'ya', 'juu', 'inayotokana', 'na', 'mfumko', 'wa', 'bei', 'ya', 'bidhaa', ',', 'Bidhaa', 'za', 'kula', 'kama', 'vile', 'unga', ',', 'maziwa', ',', 'sukari', ',', 'mafuta', 'ya', 'kupika', ',', 'miongoni', 'mwa', 'nyinginezo', 'zinaendelea', 'kuwa', 'ghali', 'kipindi', 'ambacho', 'nchi', 'na', 'ulimwengu', 'kwa', 'jumla', 'unaendelea', 'kuuguza', 'athari', 'za', 'janga', 'la', 'corona', '.', 'Mamia', 'na', 'maelfu', 'walipoteza', 'nafasi', 'za', 'kazi', 'hasa', 'baada', 'ya', 'Kenya', 'kukumbwa', 'na', 'ugonjwa', 'wa', 'Covid-19', '.', 'Baadhi', 'walifunga', 'biashara', 'zao', ',', 'hususan', 'sekta', 'ya', 'utalii', 'inayojumuisha', 'wahudumu', 'wa', 'hoteli', ',', 'mikahawa', ',', 'vilabu', 'na', 'baa', '.']\n",
      "\n",
      " Number of Words:  723\n"
     ]
    }
   ],
   "source": [
    "file=\"22april8.txt\"\n",
    "\n",
    "# calling the function and storing the contents in a text variable \n",
    "text2 = get_document(\"https://taifaleo.nation.co.ke/wito-watu-wajiunge-kwa-vikundi-na-vyama-vya-ushirika-kupunguza-gharama-ya-juu-ya-maisha/\")\n",
    "\n",
    "\n",
    "# calling the store_ document function \n",
    "store_document(doc=text1,name=file)\n",
    "store_document(doc=text2,name=file)\n",
    "\n",
    "\n",
    "#add the words in this file to the total_corpus_words, to keep count of the number of words in the corpus\n",
    "total_corpus_words+=total_words(file)"
   ]
  },
  {
   "cell_type": "code",
   "execution_count": 100,
   "metadata": {},
   "outputs": [
    {
     "data": {
      "text/plain": [
       "472396"
      ]
     },
     "execution_count": 100,
     "metadata": {},
     "output_type": "execute_result"
    }
   ],
   "source": [
    "total_corpus_words"
   ]
  },
  {
   "cell_type": "code",
   "execution_count": 101,
   "metadata": {},
   "outputs": [
    {
     "name": "stdout",
     "output_type": "stream",
     "text": [
      "['Raha', 'muogeleaji', 'Mkenya', 'Kalombo', 'akinyakua', 'dhahabu', 'Afrika', 'Zoni', 'ya', 'Nne', 'MACRINE', 'Kalombo', 'alishindia', 'Kenya', 'medali', 'yake', 'ya', 'kwanza', 'ya', 'dhahabu', 'kwenye', 'mashindano', 'ya', 'kuogelea', 'ya', 'Afrika', 'ya', 'Zoni', 'ya', 'Nne', 'yaliyoingia', 'siku', 'ya', 'pili', 'jijini', 'Lusaka', ',', 'Zambia', ',', 'hapo', 'Ijumaa', '.', 'Kalombo', 'alitwaa', 'taji', 'la', 'kuogelea', 'mita', '200', '(', 'Breaststroke', ')', 'kwa', 'washiriki', 'walio', 'na', 'umri', 'wa', 'miaka', '12', 'ama', 'chini', '.', 'Alitumia', 'dakika', '3:12.27', 'akifuatiwa', 'kwa', 'karibu', 'na', 'Mkenya', 'mwenzake', 'Christie', 'Kamotho', '(', '3:15.25', ')', 'na', 'mwenyeji', 'Adrianna', 'Bhana', '(', '3:18.60', ')', '.', 'Kufikia', 'Ijumaa', 'jioni', ',', 'Wakenya', 'walikuwa', 'wamezoa', 'jumla', 'ya', 'medali', 'nane', '(', 'dhahabu', 'moja', ',', 'fedha', 'tano', ',', 'shaba', 'mbili', ')', '.', 'Medali', 'ya', 'Kamotho', 'ilikuwa', 'yake', 'ya', 'pili', 'baada', 'pia', 'kunyakua', 'fedha', 'katika', 'kuogelea', 'mita', '50', '(', 'Breaststroke', ')', '.', 'Duini', 'Caffini', 'ana', 'nishani', 'za', 'fedha', 'za', 'mita', '50', 'na', 'mita', '200', '(', 'Breaststroke', ')', 'katika', 'kitengo', 'cha', 'waogeleaji', 'walio', 'kati', 'ya', 'umri', 'wa', 'miaka', '13', 'na', '14', '.', 'Maria', 'Bianchi', 'aliridhika', 'na', 'medali', 'ya', 'shaba', 'kuogelea', 'mita', '800', '(', 'Freestyle', ')', 'kwa', 'washiriki', 'walio', 'na', 'umri', 'wa', 'kati', 'ya', 'miaka', '15', 'na', '24', 'naye', 'Ameya', 'Rana', 'akawa', 'nambari', 'sita', '.', 'Imara-Bella', 'Thorpe', 'alipata', 'nishani', 'ya', 'fedha', 'katika', 'kuogelea', 'mita', '100', '(', 'Backstroke', ')', 'kwa', 'waogeleaji', 'walio', 'na', 'umri', 'wa', 'miaka', '17', 'hadi', '29', '.', 'Nathan', 'Matimu', 'alikuwa', 'ameshindia', 'Kenya', 'medali', 'ya', 'pekee', 'ya', 'wavulana', 'aliporidhika', 'na', 'shaba', 'ya', 'mita', '800', '(', 'Freestyle', ')', 'kwa', 'washiriki', 'walio', 'na', 'umri', 'wa', 'miaka', '14', 'ama', 'chini', '.', 'Shujaa', 'kikaangoni', 'ikilenga', 'robo-fainali', 'Vancouver', '7s', 'TIMU', 'ya', 'taifa', 'ya', 'raga', 'ya', 'Kenya', 'Shujaa', 'itavaana', 'na', 'Amerika', ',', 'Fiji', 'na', 'Uingereza', 'katika', 'mechi', 'kali', 'za', 'Kundi', 'A', 'kwenye', 'Raga', 'za', 'Dunia', 'duru', 'ya', 'Vancouver', 'Sevens', ',', 'Jumamosi', '.', 'Vijana', 'wa', 'kocha', 'Innocent', 'Simiyu', 'walichapwa', 'mara', 'ya', 'mwisho', 'walikutana', 'na', 'wapinzani', 'hao.Walibwagwa', 'na', 'Amerika', '12-10', 'Jumamosi', 'iliyopita', ',', 'Fiji', '19-5', 'Novemba', '2021', 'na', 'Uingereza', '24-19', 'mnamo', 'Januari', '2020.Kibarua', 'kigumu', 'kinachosubiri', 'Shujaa', 'ni', 'kuwa', 'imepoteza', 'dhidi', 'ya', 'Fiji', 'mara', 'saba', 'mfululizo', '.', 'Shujaa', 'pia', 'imelimwa', 'na', 'Fiji', 'mara', 'nne', 'mfululizo', 'nchini', 'Canada', 'ikiwemo', '36-12', 'Machi', '2019', '.', 'Kenya', 'inashikilia', 'nafasi', 'ya', '10', 'katika', 'ligi', 'hiyo', 'ya', 'mataifa', '16', ',', 'kwa', 'jumla', 'ya', 'alama', '36', 'baada', 'ya', 'duru', 'za', 'Dubai', 'I', ',', 'Dubai', 'II', ',', 'Malaga', ',', 'Seville', 'na', 'Singapore', '.', 'Kuna', 'duru', 'tisa', 'msimu', 'huu', '.', 'Vijana', 'wa', 'Simiyu', 'wana', 'ushindi', 'mmoja', 'dhidi', 'ya', 'Amerika', 'katika', 'mechi', 'tano', 'zilizopita', ',', 'ingawa', 'kila', 'mmoja', 'alichabanga', 'mwenzake', '24-19', 'wakati', 'Canada', 'ilikuwa', 'mwenyeji', 'msimu', 'uliopita', 'mijini', 'Vancouver', 'na', 'Edmonton.Pia', ',', 'Shujaa', 'haina', 'rekodi', 'nzuri', 'dhidi', 'ya', 'Uingereza', 'ambapo', 'imekung', '’', 'utwa', 'mara', 'saba', 'mfululizo', ',', 'ingawa', 'ilivuna', 'ushindi', 'wa', '12-0', 'zilipokutana', 'mara', 'ya', 'mwisho', 'nchini', 'Canada', 'mwezi', 'Machi', '2018', '.', 'Kenya', 'inashikilia', 'nafasi', 'ya', '10', 'katika', 'ligi', 'hiyo', 'ya', 'mataifa', '16', 'kwa', 'jumla', 'ya', 'alama', '36', 'baada', 'ya', 'duru', 'za', 'Dubai', 'I', ',', 'Dubai', 'II', ',', 'Malaga', ',', 'Seville', 'na', 'Singapore', '.', 'Kuna', 'duru', 'tisa', 'msimu', 'huu', '.', 'Herman', 'Humwa', 'na', 'Billy', 'Odhiambo', 'ni', 'baadhi', 'ya', 'wachezaji', 'ambao', 'wamekuwa', 'wakifanya', 'vyema', 'Shujaa', 'msimu', 'huu', '.']\n",
      "\n",
      " Number of Words:  491\n"
     ]
    }
   ],
   "source": [
    "file=\"22april15.txt\"\n",
    "\n",
    "# calling the function and storing the contents in a text variable \n",
    "text1 = get_document(\"https://taifaleo.nation.co.ke/raha-muogeleaji-mkenya-kalombo-akinyakua-dhahabu-afrika-zoni-ya-nne/\")\n",
    "text2 = get_document(\"https://taifaleo.nation.co.ke/shujaa-kikaangoni-ikilenga-robo-fainali-vancouver-7s/\")\n",
    "\n",
    "\n",
    "# calling the store_ document function \n",
    "store_document(doc=text1,name=file)\n",
    "store_document(doc=text2,name=file)\n",
    "\n",
    "\n",
    "#add the words in this file to the total_corpus_words, to keep count of the number of words in the corpus\n",
    "total_corpus_words+=total_words(file)"
   ]
  },
  {
   "cell_type": "code",
   "execution_count": 102,
   "metadata": {},
   "outputs": [
    {
     "data": {
      "text/plain": [
       "472887"
      ]
     },
     "execution_count": 102,
     "metadata": {},
     "output_type": "execute_result"
    }
   ],
   "source": [
    "total_corpus_words"
   ]
  },
  {
   "cell_type": "code",
   "execution_count": 103,
   "metadata": {},
   "outputs": [
    {
     "name": "stdout",
     "output_type": "stream",
     "text": [
      "['‘', 'Wajungle', '’', 'kuwania', 'ugavana', 'na', 'tikiti', 'ya', 'kujitegemea', '(', 'Independent', ')', 'Alitoa', 'uamuzi', 'huo', 'baada', 'ya', 'kushindwa', 'na', 'seneta', 'wa', 'Kiambu', 'Kimani', 'Wamatangi', ',', 'kwenye', 'mchujo', 'wa', 'kuwania', 'tikiti', 'ya', 'UDA', '.', 'Akihutubia', 'waandishi', 'wa', 'habari', 'Bw', 'Wainaina', 'alisema', 'makarani', 'wa', 'kusimamia', 'uchaguzi', 'huo', 'walimpendelea', 'Bw', 'Wamatangi', '.', '”', 'Maafisa', 'hao', 'walikosa', 'kuangazia', 'jina', 'langu', 'la', '‘', 'Wajungle', '’', 'ambalo', 'linajulikana', 'na', 'wengi', '.', 'Tena', 'wafuasi', 'wangu', 'walichanganyikiwa', 'baada', 'ya', 'kukosa', 'jina', 'hilo', 'kwenye', 'orodha', 'ya', 'majina', 'mengine', ',', '”', 'alijitetea', 'mbunge', 'huyo', '.', 'Alizidi', 'kudai', 'kuwa', 'uchaguzi', 'huo', 'haukuwa', 'wa', 'haki', 'na', 'uwazi', 'kwa', 'sababu', 'maajenti', 'wake', 'walifurushwa', 'nje', 'wakati', 'wa', 'kuhesabu', 'kura', 'hizo', '.', '”', 'Ningetaka', 'kuwahakikishia', 'wafuasi', 'wangu', 'waendelee', 'kutulia', 'kwani', 'bado', 'nafanya', 'mikakati', 'kuona', 'ya', 'kwamba', 'ninashiriki', 'katika', 'uchaguzi', 'mkuu', 'ujao', 'wa', 'Agosti', '9', ',', '2022', ',', '”', 'alifafanua', 'mbunge', 'huyo', '.', 'Alieleza', 'kuwa', 'hivi', 'karibuni', 'ataanza', 'kuzuru', 'maeneo', 'mengi', 'ya', 'Kiambu', 'ili', 'kuvumisha', 'kampeini', 'zake', 'katika', 'kaunti', 'mzima', 'ya', 'Kiambu', '.', '”', 'Nina', 'imani', 'na', 'wapigaji', 'kura', 'wa', 'Kiambu', 'kuwa', 'wataniunga', 'mkono', 'kwa', 'kunichagua', 'kama', 'gavana', 'wao', 'ifikapo', 'wakati', 'wa', 'uchaguzi', 'mkuu', 'wa', 'Agosti', ',', '9', '2022', ',', '”', 'alisema', 'Bw', 'Wainaina', '.', '“', 'Sina', 'imani', 'na', 'matokeo', 'hayo', 'kwa', 'sababu', 'mpinzani', 'wangu', 'Wamatangi', ',', 'alipiga', 'kambi', 'katika', 'chuo', 'cha', 'kiufundi', 'na', 'Teknolojia', 'cha', 'Kiambu', 'Institute', 'of', 'science', 'and', 'Technology', 'akiandamana', 'na', 'wafuasi', 'wake', '.', 'Pia', 'alijuana', 'vyema', 'na', 'maafisa', 'wa', 'kuhesabu', 'kura', 'hiyo', ',', '”', 'alifafanua', 'mbunge', 'huyo', '.', 'Mwingine', 'aliyedai', 'kuibiwa', 'kura', 'zake', 'ni', 'seneta', 'mteule', 'wa', 'Kiambu', 'Bw', 'Isaac', 'Mwaura', '.', 'Hata', 'hivyo', 'amesema', 'atashirikiana', 'na', 'mwenzake', 'King', '’', 'ara', 'ili', 'kuleta', 'amani', 'kwa', 'chama', 'cha', 'UDA', '.', 'Alidai', 'pia', 'kura', 'zake', 'ziliibiwa', 'akipambana', 'na', 'mbunge', 'wa', 'Ruiru', ',', 'Bw', 'Simon', 'King', '’', 'ara', '.', 'Alitoa', 'onyo', 'Kwa', 'chama', 'cha', 'UDA', 'kuchukua', 'jukumu', 'kuona', 'ya', 'kwamba', 'mambo', 'yanarekebishwa', 'haraka', 'iwezekanavyo', 'ama', 'wafuasi', 'wengi', 'wakihame', '.', 'Baadhi', 'ya', 'viongozi', 'waliopata', 'tikiti', 'ya', 'UDA', ',', 'ni', 'Kigo', 'Njenga', 'wa', 'Gatundu', 'Kaskazini', 'na', 'George', 'Koimburi', 'ambaye', 'ni', 'mbunge', 'wa', 'Juja', '.', 'Wengine', 'wanaogombea', 'kiti', 'cha', 'ugavana', 'na', 'tikiti', 'tofauti', 'ni', 'gavana', 'wa', 'sasa', 'wa', 'Kiambu', 'Dkt', 'James', 'Nyoro', 'na', 'chama', 'cha', 'Jubilee', ',', 'Moses', 'Kuria', 'na', 'chama', 'cha', 'kazi', '(', 'CCK', ')', ',', 'na', 'Bw', 'William', 'Kabogo', 'na', 'chama', 'cha', 'Tujibebe', 'Party', '.']\n",
      "\n",
      " Number of Words:  369\n"
     ]
    }
   ],
   "source": [
    "file=\"22april18.txt\"\n",
    "\n",
    "# calling the function and storing the contents in a text variable \n",
    "text = get_document(\"https://taifaleo.nation.co.ke/wajungle-kuwania-ugavana-na-tikiti-ya-kujitegemea-independent/\")\n",
    "\n",
    "# calling the store_ document function \n",
    "store_document(doc=text,name=file)\n",
    "\n",
    "#add the words in this file to the total_corpus_words, to keep count of the number of words in the corpus\n",
    "total_corpus_words+=total_words(file)"
   ]
  },
  {
   "cell_type": "code",
   "execution_count": 104,
   "metadata": {},
   "outputs": [
    {
     "data": {
      "text/plain": [
       "473256"
      ]
     },
     "execution_count": 104,
     "metadata": {},
     "output_type": "execute_result"
    }
   ],
   "source": [
    "total_corpus_words"
   ]
  },
  {
   "cell_type": "code",
   "execution_count": 105,
   "metadata": {},
   "outputs": [
    {
     "name": "stdout",
     "output_type": "stream",
     "text": [
      "['Nketiah', ',', '22', ',', 'alikuwa', 'akiwajibishwa', 'na', 'Arsenal', 'katika', 'kikosi', 'cha', 'kwanza', 'kwa', 'mara', 'ya', 'pili', 'pekee', 'ligini', 'msimu', 'huu', '.', 'Kwa', 'kuwa', 'mkataba', 'wake', 'wa', 'sasa', 'na', 'Arsenal', 'unatamatika', 'mwishoni', 'mwa', 'msimu', 'huu', ',', 'Nketiah', 'amekuwa', 'akilalamikia', 'kutowajibishwa', 'kwake', 'mara', 'kwa', 'mara', '.', '“', 'Nadhani', 'ingekuwa', 'vyema', 'kumchezesha', 'mara', 'kwa', 'mara', 'katika', 'kikosi', 'cha', 'kwanza', '.', 'Nilimweleza', 'kwamba', 'sijakuwa', 'nikimtendea', 'haki', 'mwishoni', 'mwa', 'mechi', 'dhidi', 'ya', 'Chelsea', ',', '”', 'akasema', 'Arteta', '.', 'Arsenal', 'wamekuwa', 'katika', 'mazungumzo', 'na', 'Nketiah', 'kuhusu', 'uwezekano', 'wa', 'kurefusha', 'kandarasi', 'yake', 'uwanjani', 'Emirates', '.', 'Hata', 'hivyo', ',', 'sogora', 'huyo', 'wa', 'zamani', 'wa', 'Uingereeza', 'U-21', 'amekuwa', 'akitaka', 'uhakika', 'wa', 'kupangwa', 'mara', 'kwa', 'mara', 'katika', 'kikosi', 'cha', 'kwanza', 'cha', 'Arsenal', 'katika', 'siku', 'za', 'usoni', 'kabla', 'ya', 'kutia', 'saini', 'mkataba', 'mpya', '.', '“', 'Kumekuwa', 'na', 'mazungumzo', 'na', 'ofa', 'ya', 'mkataba', 'mpya', '.', 'Lakini', 'kubwa', 'zaidi', 'katika', 'maazimio', 'yangu', 'kwa', 'sasa', 'ni', 'kucheza', 'mara', 'kwa', 'mara', 'katika', 'kikosi', 'cha', 'kwanza', 'cha', 'Arsenal', '.', 'Nakipenda', 'sana', 'kikosi', 'hicho', ',', '”', 'akasema', 'Nketiah', '.', 'Nketiah', 'amechezeshwa', 'na', 'Arsenal', 'mara', 'saba', 'pekee', 'muhula', 'huu', 'huku', 'gozi', 'dhidi', 'ya', 'Southampton', 'mnamo', 'Aprili', '16', ',', '2022', 'likiwa', 'lake', 'la', 'kwanza', 'ligini', 'msimu', 'huu', '.', 'Amekuwa', 'mvamizi', 'chaguo', 'la', 'tatu', 'kambini', 'mwa', 'Arsenal', 'baada', 'ya', 'Alexandre', 'Lacazette', 'na', 'Pierre-Emerick', 'Aubameyang', 'aliyeyoyomea', 'kambini', 'mwa', 'Barcelona', 'mnamo', 'Januari', '2022', '.', 'Kukosekana', 'kwa', 'Lacazette', 'mnamo', 'Jumatano', 'baada', 'ya', 'kuugua', 'Covid-19', ',', 'kulimpa', 'Nketiah', 'fursa', 'ya', 'kuwa', 'tegemeo', 'la', 'Arsenal', 'katika', 'safu', 'ya', 'mbele', '.', 'Mechi', 'dhidi', 'ya', 'Chelsea', 'ilima', 'fursa', 'ya', 'kucheka', 'na', 'nyavu', 'za', 'wapinzani', 'kwa', 'mara', 'ya', 'kwanza', 'tangu', 'afunge', 'bao', 'katika', 'sare', 'ya', '1-1', 'dhidi', 'ya', 'Fulham', 'zaidi', 'ya', 'mwaka', 'mmoja', 'uliopita', 'ligini', '.', '“', 'Ambacho', 'Nketiah', 'amefanya', 'dhidi', 'ya', 'Chelsea', 'ni', 'zao', 'la', 'kile', 'ambacho', 'amekifanya', 'katika', 'kipindi', 'cha', 'miezi', '10', 'iliyopita', '.', 'Ametudhuhirishia', 'sote', 'kuhusu', 'ukubwa', 'wa', 'uwezo', 'wake', 'uwanjani', ',', '”', 'akaongeza', 'Arteta', '.']\n",
      "\n",
      " Number of Words:  301\n"
     ]
    }
   ],
   "source": [
    "file=\"22april21.txt\"\n",
    "\n",
    "# calling the function and storing the contents in a text variable \n",
    "text = get_document(\"https://taifaleo.nation.co.ke/arteta-akiri-hajakuwa-akimtendea-nketiah-haki-kwa-kumlisha-benchi-kambini-mwa-arsenal/\")\n",
    "\n",
    "# calling the store_ document function \n",
    "store_document(doc=text,name=file)\n",
    "\n",
    "#add the words in this file to the total_corpus_words, to keep count of the number of words in the corpus\n",
    "total_corpus_words+=total_words(file)"
   ]
  },
  {
   "cell_type": "code",
   "execution_count": 106,
   "metadata": {},
   "outputs": [
    {
     "data": {
      "text/plain": [
       "473557"
      ]
     },
     "execution_count": 106,
     "metadata": {},
     "output_type": "execute_result"
    }
   ],
   "source": [
    "total_corpus_words"
   ]
  },
  {
   "cell_type": "code",
   "execution_count": 108,
   "metadata": {},
   "outputs": [
    {
     "name": "stdout",
     "output_type": "stream",
     "text": [
      "['Ijumaa', ',', 'Aprili', '29', 'ni', 'sikukuu', 'ya', 'mapumziko', 'Kenya', 'kwa', 'heshima', 'ya', 'Kibaki', '–', 'Matiang', '’', 'i', 'SERIKALI', 'ya', 'Kenya', 'imetawaza', 'Ijumaa', ',', 'Aprili', '29', ',', '2022', 'kuwa', 'Siku', 'ya', 'Mapumziko', 'ili', 'kutoa', 'nafasi', 'ya', 'kufanyika', 'kwa', 'ibada', 'ya', 'kumsindikiza', 'Rais', 'mstaafu', 'marehemu', 'Mwai', 'Kibaki', '.', 'Waziri', 'wa', 'Usalama', 'Fred', 'Matiang', '’', 'i', 'ambaye', 'pia', 'ni', 'mwenyekiti', 'wa', 'Kamati', 'ya', 'Kitaifa', 'ya', 'Kuandaa', 'Mazishi', 'ya', 'Kibaki', 'alisema', 'kuwa', 'siku', 'hiyo', 'imetengwa', 'mahsusi', 'kwa', 'Wakenya', 'kutoa', 'heshima', 'zao', 'za', 'mwisho', 'kwa', 'Kibaki', '.', 'Rais', 'huyo', 'wa', 'tatu', 'wa', 'Jamhuri', 'ya', 'Kenya', 'atazikwa', 'nyumbani', 'kwake', 'eneobunge', 'la', 'Othaya', ',', 'Nyeri', 'katika', 'hafla', 'ya', 'mazishi', 'ya', 'kitaifa', ',', 'mnamo', 'Jumamosi', 'Aprili', '30', ',', '2022', '.', 'Ibada', 'ya', 'kitaifa', 'ya', 'wafu', 'itafanyika', 'katika', 'Uwanja', 'wa', 'Kimataifa', 'wa', 'Michezo', 'ya', 'Nyayo', 'jijini', 'Nairobi', '.', 'Mwili', 'wa', 'mwendazake', 'umehifadhiwa', 'katika', 'hifadhi', 'ya', 'maiti', 'ya', 'Lee', ',', 'Nairobi', '.', 'Alifariki', 'mnamo', 'Ijumaa', 'asubuhi', ',', 'Aprili', '22,2022', 'katika', 'Nairobi', 'Hospital', 'ambako', 'alikimbizwa', 'baada', 'ya', 'kuzidiwa', 'na', 'ugonjwa', '.', '“', 'Serikali', 'inatangaza', 'Ijumaa', ',', 'Aprili', '29', ',', '2022', 'kuwa', 'Siku', 'ya', 'Mapumziko', 'ili', 'kumpa', 'Rais', 'Mwai', 'Kibaki', 'Mazishi', 'ya', 'Kiserikali', ',', '”', 'Dkt', 'Matiang', '’', 'i', 'akasema', 'kupitia', 'tangazo', 'rasmi', 'katika', 'toleo', 'la', 'kipekee', 'la', 'Gazeti', 'Rasmi', 'la', 'Serikali', '.', 'Dkt', 'Matiang', '’', 'i', 'alisema', 'kuwa', 'hafla', 'ya', 'mazishi', 'ya', 'Kibaki', 'itaendeshwa', 'kwa', 'taadhima', 'na', 'kanuni', 'ya', 'kijeshi', '.', '“', 'Sisi', 'kama', 'Waislamu', 'ni', 'watu', 'wanaopenda', 'amani', 'na', 'kwa', 'hivyo', 'hatungetaka', 'kushuhudia', 'machafuko', 'yoyote', 'hapa', 'nchini', ',', '”', 'alifafanua', 'Imam', 'Mohamed', '.', 'Naye', 'mwekahazina', 'wa', 'chama', 'cha', 'waislamu', 'cha', 'Supkem', 'mjini', 'Nyeri', ',', 'Sheikh', ',', 'Nassor', 'Mohamed', ',', 'alitoa', 'wito', 'kwa', 'vijana', 'kudumisha', 'amani', 'na', 'wasikubali', 'kutumiwa', 'vibaya', 'na', 'viongozi', 'wakati', 'huu', 'wa', 'kampeni', 'za', 'kisiasa', '.', '441', 'kukosa', 'matokeo', 'ya', 'KCSE', 'sababu', 'ya', 'udanganyifu', 'JUMLA', 'ya', 'wanafunzi', '441', 'waliofanya', 'Mtihani', 'wa', 'Kitaifa', 'wa', 'Kidato', 'cha', 'Nne', '(', 'KCSE', ')', '2021', 'ikiwemo', 'watahiniwa', 'wote', 'katika', 'kituo', 'kimoja', 'watakosa', 'matokeo', 'yao', 'baada', 'ya', 'Wizara', 'ya', 'Elimu', 'kufutilia', 'mbali', 'matokeo', 'hayo', 'kuhusiana', 'na', 'udanganyifu', '.', 'Taarifa', 'iliyotolewa', 'na', 'Profesa', 'George', 'Magoha', ',', 'iliashiria', 'kuwa', 'visa', 'vya', 'udanganyifu', 'katika', 'mtihani', 'wa', 'KCSE', '2021', 'viliongezeka', 'kwa', 'visa', '154', 'zaidi', 'na', 'kufikia', 'jumla', 'ya', 'visa', '441', ',', 'ikilinganishwa', 'na', 'jumla', 'ya', 'visa', '287', 'vilivyorekodiwa', '2020', '.', 'Idadi', 'ya', 'wanafunzi', 'walionaswa', 'wakitumia', 'simu', 'kudanganya', 'kwenye', 'mitihani', 'hiyo', 'iliongezeka', 'zaidi', 'ya', 'maradufu', 'katika', 'KCSE', '2021', 'na', 'kufikia', 'jumla', 'ya', '223', 'ikilinganishwa', 'na', 'visa', '45', 'pekee', 'mnamo', '2020', '.', 'Visa', 'vya', 'watu', 'walionaswa', 'wakijifanya', 'watahiniwa', 'viliongezeka', 'hadi', 'watu', 'wanane', 'katika', 'KCSE', '2021', 'ikilinganishwa', 'na', 'mtu', 'mmoja', 'katika', 'KCSE', '2020', '.', 'Visa', 'vya', 'usambazaji', 'wa', 'nakala', 'za', 'mitihani', 'kinyume', 'na', 'sheria', 'vilipungua', 'hadi', '203', 'katika', 'KCSE', '2021', 'ikilinganishwa', 'na', 'visa', '211', 'mnamo', '2020', 'huku', 'visa', 'vya', 'watahiniwa', 'kushirikiana', 'kudanganya', 'kwenye', 'mitihani', 'vikipungua', 'kutoka', '29', 'katika', 'mtihani', 'uliopita', 'hadi', 'wanafunzi', 'sita', 'mwaka', 'huu', '.', 'Sawa', 'na', '2020', ',', 'kisa', 'kimoja', 'cha', 'kusababisha', 'vurugu', 'kwenye', 'chumba', 'cha', 'mtihani', 'kiliripotiwa', 'katika', 'KCSE', '2021', 'ambacho', 'ni', 'miongoni', 'mwa', 'matokeo', 'yaliyofutiliwa', 'mbali', '.', '“', 'Kabla', 'ya', 'Mtihani', 'wa', 'KCSE', '2021', 'kuanza', ',', 'serikali', 'iliimarisha', 'mikakati', 'iliyodhamiriwa', 'kukomesha', 'aina', 'yoyote', 'ya', 'udanganyifu', 'kupitia', 'juhudi', 'za', 'pamoja', 'kutoka', 'kwa', 'timu', 'iliyojumisha', 'vikosi', 'mbalimbali', '.', 'Matokeo', 'ya', 'uangalizi', 'huo', 'ulioimarishwa', 'ni', 'kuwa', 'karibu', 'visa', 'vyote', 'vya', 'udanganyifu', 'ambavyo', 'vingetokea', 'vilizuiwa', '.', 'Taifa', 'ni', 'shahidi', 'kuwa', 'simu', 'nyingi', 'ambazo', 'zingetumiwa', 'kutuma', 'nakala', 'za', 'mitihani', 'zilikamatwa', 'kabla', 'ya', 'kutumiwa', ',', '”', 'alisema', 'Waziri', 'Magoha', '.', 'Akitangaza', 'matokeo', 'hayo', 'Jumamosi', ',', 'Waziri', 'wa', 'Elimu', 'alisisitiza', 'kuwa', 'Baraza', 'la', 'Kitaifa', 'linalosimamia', 'Mitihani', 'Nchini', '(', 'KNEC', ')', 'litawachukulia', 'hatua', 'kali', 'za', 'kinidhamu', 'wote', 'waliohusika', 'na', 'visa', 'vya', 'udanganyifu', 'kwenye', 'mitihani', 'mwaka', 'huu', '.', '“', 'Hata', 'hivyo', ',', 'visa', '441', 'viliripotiwa', 'kwenye', 'Mtihani', 'wa', 'KCSE', '2021', 'na', 'kisa', 'cha', 'kituo', 'kimoja', 'ambapo', 'matokeo', 'yote', 'yanazuiliwa', '.', 'Nataka', 'kusema', 'wazi', 'kwamba', 'KNEC', 'haitakuwa', 'na', 'huruma', 'yoyote', 'kwa', 'wahusika', 'wa', 'udanganyifu', 'kwenye', 'mitihani', 'ambao', 'ni', 'sharti', 'wachukuliwe', 'hatua', 'ipasavyo', '.', 'Kwa', 'sababu', 'hiyo', ',', 'matokeo', 'ya', 'visa', 'vyote', '441', 'yamefutiliwa', 'mbali', ',', '”', 'alisema', '.', 'Waziri', 'ametoa', 'wito', 'kwa', 'wadau', 'wote', 'wa', 'mitihani', 'ya', 'kitaifa', 'kuunga', 'mkono', 'juhudi', 'za', 'serikai', 'zinazoendelezwa', 'za', 'kukomesha', 'udanganyifu', 'kwenye', 'mitihani', '.']\n",
      "\n",
      " Number of Words:  663\n"
     ]
    }
   ],
   "source": [
    "file=\"22april24.txt\"\n",
    "\n",
    "# calling the function and storing the contents in a text variable \n",
    "text1 = get_document(\"https://taifaleo.nation.co.ke/ijumaa-aprili-29-ni-sikukuu-ya-mapumziko-kenya-kwa-heshima-ya-kibaki-matiangi/\")\n",
    "text2 = get_document(\"https://taifaleo.nation.co.ke/waislamu-mlima-kenya-watoa-wito-wakenya-wadumishe-upendo-na-amani/\")\n",
    "text3 = get_document(\"https://taifaleo.nation.co.ke/441-kukosa-matokeo-ya-kcse-sababu-ya-udanganyifu/\")\n",
    "\n",
    "\n",
    "# calling the store_ document function \n",
    "store_document(doc=text1,name=file)\n",
    "store_document(doc=text2,name=file)\n",
    "store_document(doc=text3,name=file)\n",
    "\n",
    "\n",
    "#add the words in this file to the total_corpus_words, to keep count of the number of words in the corpus\n",
    "total_corpus_words+=total_words(file)"
   ]
  },
  {
   "cell_type": "code",
   "execution_count": 109,
   "metadata": {},
   "outputs": [
    {
     "data": {
      "text/plain": [
       "474220"
      ]
     },
     "execution_count": 109,
     "metadata": {},
     "output_type": "execute_result"
    }
   ],
   "source": [
    "total_corpus_words"
   ]
  },
  {
   "cell_type": "code",
   "execution_count": 110,
   "metadata": {},
   "outputs": [
    {
     "name": "stdout",
     "output_type": "stream",
     "text": [
      "['Shule', 'za', 'msingi', 'kote', 'nchini', 'zimefunguliwa', 'leo', ',', 'nao', 'wanafunzi', 'waliomaliza', 'Mtihani', 'wa', 'Darasa', 'la', 'Nane', '(', 'KCPE', ')', 'wakitarajiwa', 'kujiunga', 'na', 'Kidato', 'cha', 'Kwanza', 'kuanzia', 'Mei', '2', '.', 'Hapo', 'jana', 'Jumapili', ',', 'wazazi', 'katika', 'sehemu', 'mbalimbali', 'nchini', 'walikuwa', 'kwenye', 'harakati', 'za', 'mwisho', 'mwisho', 'kuwatayarisha', 'wanao', 'kufungua', 'shule', '.', 'Mamia', 'ya', 'wazazi', 'walifurika', 'kwenye', 'maduka', 'ya', 'kuuzia', 'vitabu', 'na', 'sare', 'za', 'shule', 'kuwanunulia', 'vitabu', 'na', 'sare', 'mpya', '.', 'Jijini', 'Nairobi', ',', 'baadhi', 'ya', 'maduka', 'ya', 'kuuzia', 'vitabu', 'yalilazimika', 'kufunguliwa', 'jana', 'kutokana', 'na', 'idadi', 'kubwa', 'ya', 'wazazi', 'waliofika', '.', 'Kwa', 'kawaida', ',', 'maduka', 'mengi', 'huwa', 'hayafunguliwi', 'siku', 'za', 'Jumapili', '.', 'Kulingana', 'na', 'Bi', 'Faith', 'Mwangi', ',', 'ambaye', 'ni', 'muuzaji', 'vitabu', 'katika', 'Duka', 'la', 'Vitabu', 'la', 'Savannis', ',', 'jijini', 'Nairobi', ',', 'iliwalazimu', 'kufungua', 'kutokana', 'na', 'idadi', 'kubwa', 'ya', 'wateja', '.', '“', 'Kwa', 'kawaida', ',', 'huwa', 'tunafungua', 'duka', 'letu', 'kati', 'ya', 'Jumatatu', 'na', 'Jumamosi', 'mchana', '.', 'Jumapili', 'huwa', 'siku', 'ya', 'kupumzika', '.', 'Hata', 'hivyo', ',', 'ikizingatiwa', 'wanafunzi', 'wengi', 'wanafungua', 'kesho', ',', 'ilitulazimu', 'kuendesha', 'shughuli', 'zetu', 'kama', 'kawaida', ',', '”', 'akasema', 'Bi', 'Mungai', ',', 'kwenye', 'mahojiano', 'na', '‘', 'Taifa', 'Leo.', '’', 'Duka', 'la', 'vitabu', 'la', 'Textbook', 'Centre', 'pia', 'lilifunguliwa', 'Jumapili', 'kinyume', 'na', 'kawaida', ',', 'ili', 'kuwaruhusu', 'wazazi', 'kuwanunulia', 'vitabu', 'vyao', '.', 'Kwenye', 'maduka', 'ya', 'kuuzia', 'sare', ',', 'wazazi', 'walionekana', 'wenye', 'shughuli', 'nyingi', 'kuwapimishia', 'au', 'kuwanunulia', 'wana', 'wao', 'sare', 'mpya', '.', 'Kwenye', 'steji', 'za', 'matatu', ',', 'kulikuwa', 'na', 'misongamano', 'mikubwa', 'ya', 'watu', ',', 'baadhi', 'ya', 'wazazi', 'wakiwarejesha', 'wanao', 'wanaosomea', 'katika', 'maeneo', 'ya', 'mbali.Baadhi', 'ya', 'mashirika', 'ya', 'matatu', 'pia', 'yaliongeza', 'nauli', ',', 'yakitaja', 'bei', 'ya', 'juu', 'ya', 'mafuta', 'kama', 'chanzo', 'cha', 'kuchukua', 'hatua', 'hiyo', '.']\n",
      "\n",
      " Number of Words:  259\n"
     ]
    }
   ],
   "source": [
    "file=\"22april25.txt\"\n",
    "\n",
    "# calling the function and storing the contents in a text variable \n",
    "text = get_document(\"https://taifaleo.nation.co.ke/kibarua-kipya-kwa-wazazi-wanafunzi-wakirejea-shuleni/\")\n",
    "\n",
    "# calling the store_ document function \n",
    "store_document(doc=text,name=file)\n",
    "\n",
    "#add the words in this file to the total_corpus_words, to keep count of the number of words in the corpus\n",
    "total_corpus_words+=total_words(file)"
   ]
  },
  {
   "cell_type": "code",
   "execution_count": 111,
   "metadata": {},
   "outputs": [
    {
     "data": {
      "text/plain": [
       "474479"
      ]
     },
     "execution_count": 111,
     "metadata": {},
     "output_type": "execute_result"
    }
   ],
   "source": [
    "total_corpus_words"
   ]
  },
  {
   "cell_type": "code",
   "execution_count": 112,
   "metadata": {},
   "outputs": [
    {
     "name": "stdout",
     "output_type": "stream",
     "text": [
      "['Kibaki', 'alipofika', 'kortini', 'kujitetea', 'IJAPOKUWA', 'watu', 'wengi', 'walimwona', 'Rais', 'Mstaafu', 'Mwai', 'Kibaki', 'kama', 'tajiri', 'mkubwa', ',', 'aliwashangaza', 'wengi', 'alipofika', 'mahakamani', 'kutetea', 'mgao', 'wake', 'katika', 'kampuni', 'ndogo', 'waliyoanzisha', 'na', 'marafiki', 'wake', 'saba', '.', 'Mzozo', 'huo', 'ulimfanya', 'Rais', 'Kibaki', 'kufika', 'katika', 'mahakama', 'moja', 'mjini', 'Nyeri', ',', 'ambako', 'kesi', 'hiyo', 'ilikuwa', 'ikiendelea', '.', 'Bw', 'Kibaki', 'alifika', 'katika', 'Mahama', 'ya', 'Mazingira', 'na', 'Ardhi', 'mnamo', 'Septemba', '2013', ',', 'miezi', 'sita', 'baada', 'ya', 'kustaafu', 'kama', 'rais', '.', 'Kwenye', 'kikao', 'cha', 'mahakama', ',', 'alitoa', 'ushahidi', 'kuhusu', 'uongozi', 'na', 'utaratibu', 'wa', 'umiliki', 'katika', 'kampuni', 'ya', 'Mathingira', 'Wholesalers', 'Ltd', ',', 'waliyoanzisha', 'na', 'marafiki', 'wake', 'mnamo', '1976', '.', 'Kampuni', 'hiyo', 'ilibuniwa', 'miaka', 'miwili', 'baada', 'ya', 'Mzee', 'Kibaki', 'kuhamisha', 'ngome', 'na', 'shughuli', 'zake', 'za', 'kisiasa', 'kutoka', 'Nairobi', 'hadi', 'nyumbani', 'kwake', ',', 'eneo', 'la', 'Othaya', ',', 'Nyeri', '.', 'Kwenye', 'ushahidi', 'wake', 'mbele', 'ya', 'Jaji', 'Anthony', 'Ombwayo', ',', 'Bw', 'Kibaki', 'alilenga', 'kulinda', 'mgao', 'wake', 'katika', 'kampuni', 'hiyo', 'na', 'jengo', 'la', 'orofa', 'moja', 'lililo', 'mjini', 'Nyeri', ',', 'karibu', 'na', 'afisi', 'ya', 'chama', 'cha', 'Kanu', '.', 'Jengo', 'hilo', 'lina', 'biashara', 'kadhaa', 'kama', 'maduka', ',', 'hoteli', ',', 'baa', 'na', 'vichinjio', ',', 'ambapo', 'huzalisha', 'pato', 'la', 'Sh200,000', 'kwa', 'mwezi', '.', 'Bw', 'Kibaki', 'aliibuka', 'kuwa', 'rais', 'wa', 'kwanza', 'aliyestaafu', 'nchini', 'kufika', 'mahakamani', 'kulinda', 'biashara', 'yake', '.', '“', 'Rais', 'Mstaafu', 'analinda', 'na', 'kutetea', 'haki', 'yake', 'ya', 'kifedha', '.', 'Uamuzi', 'kwenye', 'kesi', 'hiyo', 'utatolewa', 'kulingana', 'na', 'ushahidi', 'atakaotoa', ',', 'ikizingatiwa', 'yeye', 'ni', 'mmoja', 'wa', 'wamiliki', 'wa', 'mali', 'hiyo', ',', '”', 'akasema', 'wakili', 'Gibson', 'Kamau', 'Kuria', ',', 'aliyemwakilisha', 'Bw', 'Kibaki', 'katika', 'kesi', 'hiyo', '.', 'Kufikia', 'kifo', 'chake', 'Ijumaa', ',', 'yeye', 'pamoja', 'na', 'waanzilishi', 'wengine', 'wa', 'jengo', 'hilo', 'bado', 'hawakuwa', 'wameanza', 'kufaidika', 'kutokana', 'na', 'kodi', 'zinazolipwa', 'tangu', '2014', '.', 'Hii', 'ni', 'baada', 'ya', 'mahakama', 'kuagiza', 'kodi', 'hiyo', 'iwe', 'ikielekezwa', 'kwa', 'akaunti', 'ya', 'pamoja', 'yenye', 'majina', 'ya', 'mawakili', 'wanaowawakilisha', 'walalamishi', 'kabla', 'ya', 'kutoa', 'uamuzi', 'wake', '.']\n",
      "\n",
      " Number of Words:  293\n"
     ]
    }
   ],
   "source": [
    "file=\"22april26.txt\"\n",
    "\n",
    "# calling the function and storing the contents in a text variable \n",
    "text = get_document(\"https://taifaleo.nation.co.ke/kibaki-alipofika-kortini-kujitetea/\")\n",
    "\n",
    "# calling the store_ document function \n",
    "store_document(doc=text,name=file)\n",
    "\n",
    "#add the words in this file to the total_corpus_words, to keep count of the number of words in the corpus\n",
    "total_corpus_words+=total_words(file)"
   ]
  },
  {
   "cell_type": "code",
   "execution_count": 113,
   "metadata": {},
   "outputs": [
    {
     "data": {
      "text/plain": [
       "474772"
      ]
     },
     "execution_count": 113,
     "metadata": {},
     "output_type": "execute_result"
    }
   ],
   "source": [
    "total_corpus_words"
   ]
  },
  {
   "cell_type": "code",
   "execution_count": 114,
   "metadata": {},
   "outputs": [
    {
     "name": "stdout",
     "output_type": "stream",
     "text": [
      "['Barobaro', 'aeleza', 'jinsi', 'alivyofaidika', 'na', 'elimu', 'bila', 'malipo', 'BAROBARO', 'Kioko', 'Mwinzi', 'ni', 'miongoni', 'mwa', 'maelfu', 'ya', 'vijana', 'ambao', 'walinufaika', 'pakubwa', 'kutokana', 'na', 'Mpango', 'wa', 'Elimu', 'Bila', 'Malipo', '(', 'FPE', ')', 'alioanzisha', 'Rais', 'Mstaafu', 'Mwai', 'Kibaki', 'mnamo', '2003', '.', 'Barobaro', 'huyo', 'ambaye', 'anatoka', 'katika', 'eneo', 'la', 'Matuu', ',', 'Kaunti', 'ya', 'Machakos', ',', 'anasema', 'kuwa', 'ni', 'kutokana', 'na', 'mpango', 'huo', ',', 'ambapo', 'alifaulu', 'kwenda', 'katika', 'shule', 'ya', 'msingi', ',', 'licha', 'ya', 'kiwango', 'kikubwa', 'cha', 'umaskini', 'kilichokuwa', 'katika', 'familia', 'yao', '.', 'Kwenye', 'mahojiano', ',', 'alisema', 'kuwa', 'kinyume', 'na', 'wanafunzi', 'wengine', ',', 'alijiunga', 'na', 'Darasa', 'la', 'Kwanza', 'akiwa', 'na', 'umri', 'wa', 'miaka', '11', '.', '“', 'Kimsingi', ',', 'wanafunzi', 'wengi', 'hujiunga', 'na', 'Darasa', 'la', 'Kwanza', 'wakiwa', 'na', 'kati', 'umri', 'wa', 'miaka', 'saba', 'au', 'minane', '.', 'Mimi', 'nilikuwa', 'nimewazidi', 'kwa', 'umri', '.', 'Ilinilazimu', 'kukaa', 'kivyangu', ',', 'kwani', 'ilikuwa', 'vigumu', 'kutangamana', 'nao', ',', '”', 'akasema', 'barobaro', 'huyo', '.', 'Anasema', 'kuwa', 'ili', 'kudhihirisha', 'jinsi', 'mpango', 'huo', 'uliwasaidia', 'watu', 'wengi', ',', 'zaidi', 'ya', 'nusu', 'ya', 'wanafunzi', 'hawakuwa', 'na', 'sare', 'za', 'shule', '.', '“', 'Wanafunzi', 'wengi', 'walikuwa', 'wakifika', 'shuleni', 'jinsi', 'walivyokuwa', 'ili', 'kusoma', '.', 'Kando', 'na', 'kutokuwa', 'na', 'sare', 'za', 'shule', ',', 'wengi', 'hata', 'hawakuwa', 'na', 'chakula', '.', 'Isingekuwa', 'ni', 'mpango', 'huo', ',', 'singefaulu', 'kusoma', ',', '”', 'akasema', '.', 'Barobaro', 'huyo', 'alipita', 'Mtihani', 'wa', 'Darasa', 'la', 'Nane', '(', 'KCPE', ')', 'ambapo', 'alizoa', 'alama', '358', 'na', 'kujiunga', 'na', 'Shule', 'ya', 'Upili', 'ya', 'Wavulana', 'ya', 'Lenana', '.', 'Baada', 'ya', 'hapo', ',', 'alipita', 'mtihani', 'wa', 'Kidato', 'cha', 'Nne', '(', 'KCSE', ')', 'ambapo', 'alijiunga', 'na', 'Chuo', 'Kikuu', 'cha', 'Masinde', 'Muliro', ',', 'alikosomea', 'masuala', 'ya', 'utaalamu', 'wa', 'tarakilishi', '.']\n",
      "\n",
      " Number of Words:  254\n"
     ]
    }
   ],
   "source": [
    "file=\"22april27.txt\"\n",
    "\n",
    "# calling the function and storing the contents in a text variable \n",
    "text = get_document(\"https://taifaleo.nation.co.ke/barobaro-aeleza-jinsi-alivyofaidika-na-elimu-bila-malipo/\")\n",
    "\n",
    "# calling the store_ document function \n",
    "store_document(doc=text,name=file)\n",
    "\n",
    "#add the words in this file to the total_corpus_words, to keep count of the number of words in the corpus\n",
    "total_corpus_words+=total_words(file)"
   ]
  },
  {
   "cell_type": "code",
   "execution_count": 115,
   "metadata": {},
   "outputs": [
    {
     "data": {
      "text/plain": [
       "475026"
      ]
     },
     "execution_count": 115,
     "metadata": {},
     "output_type": "execute_result"
    }
   ],
   "source": [
    "total_corpus_words"
   ]
  },
  {
   "cell_type": "code",
   "execution_count": 116,
   "metadata": {},
   "outputs": [
    {
     "name": "stdout",
     "output_type": "stream",
     "text": [
      "['“', 'Vilevile', ',', 'ninakumbuka', 'alipokuwa', 'akifanya', 'kampeni', 'Embu', 'mnamo', '2002', ',', 'nilikutana', 'naye', 'hotelini', '.', 'Nilijaribu', 'kumkwepa', 'kwa', 'sababu', 'sikutaka', 'anione', 'kwa', 'kuwa', 'alikuwa', 'katika', 'upinzani', '.', 'Aliponiona', ',', 'alinimiminia', 'sifa', 'tele', 'huku', 'akisema', '‘', 'mimi', 'huwa', 'sielewi', 'mambo', 'ya', 'Moi', 'hadi', 'nisome', 'magazetini', '.', 'Lakini', 'Njiru', 'anamuelewa', '.', 'Watu', 'wa', 'Embu', 'mmebarikiwa', 'kuwa', 'na', 'mtoto', '(', 'Njiru', ')', 'anayemwelewa', 'Moi', '’', ',', '”', 'akasema', '.', 'Vilevile', ',', 'kitakuwa', 'kikiandaa', 'maonyesho', 'ya', 'kilimo', ',', 'yatakayojumuisha', 'kutoa', 'mafunzo', 'ya', 'matumizi', 'ya', 'pembejeo', ',', 'taratibu', 'bora', 'kitaalamu', 'kuendeleza', 'kilimo', 'na', 'kuonyesha', 'vifaa', ',', 'mashine', 'na', 'mitambo', 'ya', 'kileo', 'kuboresha', 'zaraa', '.', '“', 'Tunasubiri', 'Halmashauri', 'ya', 'Jiji', 'na', 'asasi', 'husika', 'za', 'ujenzi', 'kutoa', 'vibali', ',', 'ujenzi', 'uanze', 'mwishoni', 'mwa', 'mwezi', 'huu', '–', 'Aprili', ',', '”', 'Mkurugenzi', 'Mkuu', 'Elgon', 'Kenya', ',', 'Dkt', 'Bimal', 'Kantaria', 'akaambia', 'Taifa', 'Leo', '.', 'Kampuni', 'hiyo', 'itatoa', 'ufadhili', 'kufanya', 'ujenzi', '.', 'Bajeti', ',', 'shughuli', 'hiyo', 'inakadiriwa', 'kugharimu', 'kati', 'ya', 'Sh40', '–', '50', 'milioni', '.', 'Bewa', 'la', 'UoN', 'Kabete', 'ni', 'tajika', 'katika', 'utoaji', 'mafunzo', 'ya', 'ufugaji', 'na', 'kilimo', '.', 'Wakati', 'huohuo', ',', 'Elgon', 'Kenya', 'imetangaza', 'kiwanda', 'cha', 'kutengeneza', 'fatalaiza', 'kulingana', 'na', 'mahitaji', 'ya', 'shamba', 'la', 'mkulima', 'kinatarajiwa', 'kuanza', 'kutoa', 'huduma', 'hivi', 'karibuni', '.', '“', 'Tunasubiri', 'Shirika', 'la', 'Kutathmini', 'Ubora', 'wa', 'Bidhaa', 'Nchini', '(', 'KEBS', ')', 'kukagua', 'sampuli', 'za', 'mbolea', ',', 'ili', 'tuanze', 'kuhudumia', 'wakulima', ',', '”', 'akadokeza', 'Dkt', 'Kantaria', '.']\n",
      "\n",
      " Number of Words:  219\n"
     ]
    }
   ],
   "source": [
    "file=\"22april28.txt\"\n",
    "\n",
    "# calling the function and storing the contents in a text variable \n",
    "text1 = get_document(\"https://taifaleo.nation.co.ke/siku-kibaki-alikosa-sahani-katika-hafla-ya-moi/\")\n",
    "text2 = get_document(\"https://taifaleo.nation.co.ke/ujenzi-wa-kituo-cha-kisasa-kutoa-mafunzo-na-huduma-za-kilimo-kabete-kuanza/\")\n",
    "\n",
    "\n",
    "# calling the store_ document function \n",
    "store_document(doc=text1,name=file)\n",
    "store_document(doc=text2,name=file)\n",
    "\n",
    "\n",
    "#add the words in this file to the total_corpus_words, to keep count of the number of words in the corpus\n",
    "total_corpus_words+=total_words(file)"
   ]
  },
  {
   "cell_type": "code",
   "execution_count": 117,
   "metadata": {},
   "outputs": [
    {
     "data": {
      "text/plain": [
       "475245"
      ]
     },
     "execution_count": 117,
     "metadata": {},
     "output_type": "execute_result"
    }
   ],
   "source": [
    "total_corpus_words"
   ]
  },
  {
   "cell_type": "code",
   "execution_count": 119,
   "metadata": {},
   "outputs": [
    {
     "name": "stdout",
     "output_type": "stream",
     "text": [
      "['Wakazi', 'wa', 'Lamu', 'wataka', 'ahadi', 'za', 'Kibaki', 'kwao', 'zitimizwe', 'WAKAZI', 'wa', 'Lamu', 'wameitaka', 'serikali', 'kutimiza', 'ahadi', 'zilizotolewa', 'kwao', 'wakati', 'wa', 'ujenzi', 'wa', 'miradi', 'iliyoanzishwa', 'na', 'utawala', 'wa', 'aliyekuwa', 'rais', 'Mwai', 'Kibaki', ',', 'kama', 'njia', 'mojawapo', 'ya', 'kumuenzi', 'kiongozi', 'huyo', 'aliyeaga', 'dunia', '.', 'Miongoni', 'mwa', 'ahadi', 'hizo', 'ni', 'mpango', 'wa', 'kuwafadhili', 'vijana', '1,000', 'kimasomo', 'na', 'kuwalipa', 'fidia', 'wavuvi', 'walioathirika', 'na', 'ujenzi', 'wa', 'bandari', 'ya', 'Lamu', '.', 'Rais', 'huyo', 'wa', 'zamani', 'ndiye', 'aliyetangaza', 'mpango', 'wa', 'serikali', 'kuu', 'kuwafadhili', 'vijana', 'wa', 'Lamu', 'kimasomo', 'alipozuru', 'eneo', 'hilo', 'mwaka', '2012', 'kuweka', 'jiwe', 'la', 'msingi', 'la', 'bandari', 'ya', 'Lamu', '.', 'Licha', 'ya', 'miaka', 'mingi', 'kupita', 'na', 'hata', 'bandari', 'ya', 'Lamu', 'kufunguliwa', 'rasmi', 'na', 'Rais', 'Uhuru', 'Kenyatta', 'Mei', '20', ',', '2021', ',', 'ni', 'vijana', '400', 'pekee', 'ambao', 'hadi', 'sasa', 'wameteuliwa', 'na', 'kufadhiliwa', 'kimasomo', 'huku', 'hatima', 'ya', 'wengine', '600', 'ikiwa', 'haijulikani', '.', 'Naibu', 'Mwenyekiti', 'wa', 'Baraza', 'la', 'Wazee', 'wa', 'Lamu', ',', 'Bw', 'Mohamed', 'Mbwana', ',', 'alisema', 'ipo', 'haja', 'ya', 'vijana', 'wote', '600', 'waliosalia', 'kuteuliwa', 'kwa', 'awamu', 'moja', 'na', 'kufadhiliwa', 'kimasomo', '.', 'kama', 'njia', 'mojawapo', 'ya', 'kuheshimu', 'kifo', 'cha', 'Rais', 'Kibaki', 'na', 'azma', 'yake', 'kwa', 'wakazi', 'wa', 'Lamu', '.', '“', 'Ni', 'masikitiko', 'kwamba', 'Rais', 'Kibaki', 'amefariki', 'wakati', 'ndoto', 'ya', 'vijana', '1,000', 'wa', 'Lamu', 'alionuia', 'wafadhiliwe', 'kimasomo', 'na', 'serikali', 'kuu', 'haijatimia', ',', '”', 'akasema', 'Bw', 'Mbwana', '.', 'Mwanachama', 'mwingine', 'wa', 'Baraza', 'la', 'Wazee', 'wa', 'Lamu', ',', 'Bw', 'Muhashiam', 'Famau', ',', 'alisema', 'kamwe', 'hawamlaumu', 'Kibaki', 'kutokana', 'na', 'kufeli', 'kwa', 'serikali', 'katika', 'kutimiza', 'ahadi', 'hiyo', '.', 'Badala', 'yake', ',', 'Bw', 'Famau', 'aliwalaumu', 'waliomrithi', 'Kibaki', 'kwa', 'kuingiza', 'siasa', 'na', 'kuchelewesha', 'kutekelezwa', 'kwa', 'ahadi', 'hiyo.Kulingana', 'naye', ',', 'mbali', 'na', 'ahadi', 'ya', 'masomo', 'kwa', 'vijana', ',', 'wavuvi', '4,734', 'wa', 'Lamu', 'hadi', 'sasa', 'wameishi', 'kusubiri', 'fidia', 'ya', 'Sh1.76', 'bilioni', 'baada', 'ya', 'kuathiriwa', 'na', 'miradi', 'ya', 'kimaendeleo', '.', 'Anasema', 'ili', 'kuheshimu', 'na', 'kudumisha', 'sifa', 'njema', 'ya', 'Rais', 'Kibaki', ',', 'ni', 'vyema', 'serikali', 'kuu', 'na', 'wasimamizi', 'wa', 'miradi', 'hiyo', 'iliyoanzishwa', 'na', 'Kibaki', 'kuhakikisha', 'matatizo', 'yote', 'ya', 'kijamii', 'yaliyotokea', 'yanasuluhishwa', 'kikamilifu', '.', '“', 'Tunamkumbuka', 'Kibaki', 'kwa', 'kutuanzishia', 'mradi', 'mkuu', 'wa', 'bandari', 'hapa', 'Lamu', '.', 'Pia', 'tunakumbuka', 'ahadi', 'yake', 'ya', 'serikali', 'kuu', 'kutaka', 'kufadhili', 'vijana', '1,000', 'wa', 'Lamu', '.', 'Tungeomba', 'ahadi', 'hii', 'na', 'pia', 'fidia', 'kwa', 'wavuvi', 'walioathiriwa', 'zitatuliwe', 'kwa', 'heshima', 'ya', 'kifo', 'cha', 'rais', 'wetu', 'wa', 'zamani', ',', 'Mwai', 'Kibaki', ',', '”', 'akasema', 'Bw', 'Famau', '.', 'Kwa', 'upande', 'wake', ',', 'Diwani', 'wa', 'Wadi', 'ya', 'Hongwe', ',', 'Bw', 'James', 'Komu', ',', 'alisema', 'mbali', 'na', 'kuwafidia', 'wavuvi', 'na', 'kufadhili', 'vijana', 'kimasomo', ',', 'pia', 'ipo', 'haja', 'ya', 'serikali', 'na', 'wasimamizi', 'wa', 'bandari', 'ya', 'Lamu', 'kuwapa', 'vijana', 'wa', 'eneo', 'hilo', 'kipaumbele', 'kiajira', '.', 'Bw', 'Komu', 'kadhalika', 'aliwasihi', 'viongozi', 'wa', 'sasa', 'kuiga', 'mwenendo', 'wa', 'Kibaki', 'ambaye', 'alithamini', 'uongozi', 'bora', ',', 'hakuwa', 'na', 'majivuno', 'wala', 'malumbano', 'na', 'yeyote', 'kinyume', 'na', 'hulka', 'inayoonyeshwa', 'na', 'wanasiasa', 'wa', 'sasa', '.', 'Vilevile', ',', 'kitakuwa', 'kikiandaa', 'maonyesho', 'ya', 'kilimo', ',', 'yatakayojumuisha', 'kutoa', 'mafunzo', 'ya', 'matumizi', 'ya', 'pembejeo', ',', 'taratibu', 'bora', 'kitaalamu', 'kuendeleza', 'kilimo', 'na', 'kuonyesha', 'vifaa', ',', 'mashine', 'na', 'mitambo', 'ya', 'kileo', 'kuboresha', 'zaraa', '.', '“', 'Tunasubiri', 'Halmashauri', 'ya', 'Jiji', 'na', 'asasi', 'husika', 'za', 'ujenzi', 'kutoa', 'vibali', ',', 'ujenzi', 'uanze', 'mwishoni', 'mwa', 'mwezi', 'huu', '–', 'Aprili', ',', '”', 'Mkurugenzi', 'Mkuu', 'Elgon', 'Kenya', ',', 'Dkt', 'Bimal', 'Kantaria', 'akaambia', 'Taifa', 'Leo', '.', 'Kampuni', 'hiyo', 'itatoa', 'ufadhili', 'kufanya', 'ujenzi', '.', 'Bajeti', ',', 'shughuli', 'hiyo', 'inakadiriwa', 'kugharimu', 'kati', 'ya', 'Sh40', '–', '50', 'milioni', '.', 'Bewa', 'la', 'UoN', 'Kabete', 'ni', 'tajika', 'katika', 'utoaji', 'mafunzo', 'ya', 'ufugaji', 'na', 'kilimo', '.', 'Wakati', 'huohuo', ',', 'Elgon', 'Kenya', 'imetangaza', 'kiwanda', 'cha', 'kutengeneza', 'fatalaiza', 'kulingana', 'na', 'mahitaji', 'ya', 'shamba', 'la', 'mkulima', 'kinatarajiwa', 'kuanza', 'kutoa', 'huduma', 'hivi', 'karibuni', '.', '“', 'Tunasubiri', 'Shirika', 'la', 'Kutathmini', 'Ubora', 'wa', 'Bidhaa', 'Nchini', '(', 'KEBS', ')', 'kukagua', 'sampuli', 'za', 'mbolea', ',', 'ili', 'tuanze', 'kuhudumia', 'wakulima', ',', '”', 'akadokeza', 'Dkt', 'Kantaria', '.']\n",
      "\n",
      " Number of Words:  595\n"
     ]
    }
   ],
   "source": [
    "file=\"22april29.txt\"\n",
    "\n",
    "# calling the function and storing the contents in a text variable \n",
    "text1 = get_document(\"https://taifaleo.nation.co.ke/wakazi-wa-lamu-wataka-ahadi-za-kibaki-kwao-zitimizwe/\")\n",
    "\n",
    "# calling the store_ document function \n",
    "store_document(doc=text1,name=file)\n",
    "\n",
    "#add the words in this file to the total_corpus_words, to keep count of the number of words in the corpus\n",
    "total_corpus_words+=total_words(file)"
   ]
  },
  {
   "cell_type": "code",
   "execution_count": 120,
   "metadata": {},
   "outputs": [
    {
     "data": {
      "text/plain": [
       "475840"
      ]
     },
     "execution_count": 120,
     "metadata": {},
     "output_type": "execute_result"
    }
   ],
   "source": [
    "total_corpus_words"
   ]
  },
  {
   "cell_type": "code",
   "execution_count": 123,
   "metadata": {},
   "outputs": [
    {
     "name": "stdout",
     "output_type": "stream",
     "text": [
      "['Askofu', 'Muheria', 'ahimiza', 'wanasiasa', 'waige', 'mfano', 'wa', 'Kibaki', 'ASKOFU', 'wa', 'Kanisa', 'la', 'Katoliki', 'jimbo', 'la', 'Nyeri', ',', 'Anthony', 'Muheria', 'amewataka', 'wanasiasa', 'waige', 'mfano', 'wa', 'Rais', 'mstaafu', 'Mwai', 'Kibaki', 'anayezikwa', 'nyumbani', 'kwake', 'eneo', 'la', 'Othaya', 'leo', 'Jumamosi', ',', 'Aprili', '30', ',', '2022', '.', 'Muheria', 'ametoa', 'himizo', 'hilo', 'wakati', 'akihubiri', 'kabla', 'ya', 'kuzikwa', 'kwa', 'Mzee', 'Kibaki', ',', 'ambaye', 'alihudumu', 'kama', 'Rais', 'wa', 'tatu', 'wa', 'Kenya', 'kuanzia', '2002', 'hadi', '2013', '.', 'Rais', 'Kibaki', 'alifariki', 'Ijumaa', ',', 'Aprili', '22', ',', '2022', 'akiwa', 'na', 'umri', 'wa', 'miaka', '90', '.', '“', 'Akiwa', 'mamlakani', 'na', 'hata', 'baada', 'ya', 'kustaafu', 'hakurushia', 'wakosoaji', 'wake', 'cheche', 'za', 'maneno', '.', 'Alichofanya', 'ni', 'kuzua', 'utani', 'na', 'alikuwa', 'mwenye', 'heshima', ',', '”', 'akasema', '.', 'Rais', 'Uhuru', 'Kenyatta', 'ameliongoza', 'taifa', 'katika', 'hafla', 'hiyo', 'ya', 'kumpa', 'heshima', 'za', 'mwisho', 'Mzee', 'Kibaki', ',', 'ambaye', 'ametajwa', 'kama', 'Shujaa', 'kutokana', 'na', 'miradi', 'ya', 'maendeleo', 'aliyotekeleza', ',', 'ikiwa', 'ni', 'pamoja', 'na', 'kuboresha', 'uchumi', '.', 'Naibu', 'wa', 'Rais', ',', 'William', 'Ruto', ',', 'kiongozi', 'wa', 'ODM', ',', 'Raila', 'Odinga', 'ambaye', 'alihudumu', 'kama', 'Waziri', 'Mkuu', 'chini', 'ya', 'serikali', 'ya', 'mseto', 'iliyoongozwa', 'na', 'Rais', 'Kibaki', ',', 'mawaziri', ',', 'magavana', ',', 'wanasiasa', 'na', 'viongozi', 'wengine', 'mashuhuri', 'ndani', 'na', 'nje', 'ya', 'nchi', 'pia', 'wamehudhuria', 'mazishi', 'hayo', '.', 'Kwenye', 'mahubiri', 'ya', 'Askofu', 'Muheria', ',', 'hakusita', 'kutoa', 'wosia', 'kwa', 'wanasiasa', 'hasa', 'Kenya', 'inapojiandaa', 'kushiriki', 'uchaguzi', 'mkuu', 'mwaka', 'huu', '.', '“', 'Tusafishe', 'midomo', 'na', 'mikono', 'yetu', '.', 'Mzee', 'Kibaki', 'alipenda', 'nchi', 'hii', 'na', 'kila', 'alipozungumza', 'alielezea', 'alivyoipenda', '.', 'Tusiharibu', 'picha', 'ya', 'msingi', 'huo', ',', '”', 'Askofu', 'akahimiza', ',', 'akiwataka', 'wanasiasa', 'kuwa', 'makini', 'haswa', 'wanapoendeleza', 'kampeni', '.']\n",
      "\n",
      " Number of Words:  248\n"
     ]
    }
   ],
   "source": [
    "file=\"22april30.txt\"\n",
    "\n",
    "# calling the function and storing the contents in a text variable \n",
    "text2 = get_document(\"https://taifaleo.nation.co.ke/askofu-muheria-ahimiza-wanasiasa-waige-mfano-wa-kibaki/\")\n",
    "\n",
    "# calling the store_ document function \n",
    "store_document(doc=text2,name=file)\n",
    "\n",
    "#add the words in this file to the total_corpus_words, to keep count of the number of words in the corpus\n",
    "total_corpus_words+=total_words(file)"
   ]
  },
  {
   "cell_type": "code",
   "execution_count": 124,
   "metadata": {},
   "outputs": [
    {
     "data": {
      "text/plain": [
       "476088"
      ]
     },
     "execution_count": 124,
     "metadata": {},
     "output_type": "execute_result"
    }
   ],
   "source": [
    "total_corpus_words"
   ]
  },
  {
   "cell_type": "code",
   "execution_count": 127,
   "metadata": {},
   "outputs": [
    {
     "name": "stdout",
     "output_type": "stream",
     "text": [
      "['“', 'Kila', 'mara', 'alikuwa', 'akifuatilia', 'matokeo', 'yangu', '.', 'Ninakumbuka', 'kuna', 'wakati', 'nikiwa', 'katika', 'kidato', 'cha', 'pili', 'na', 'matokeo', 'yangu', 'hayakuwa', 'mazuri', '.', 'Aliniambia', 'nimchungie', 'mifugo', 'na', 'awe', 'akinilipa', 'kwa', 'kazi', 'hiyo', '.', 'Huo', 'ndio', 'wakati', 'nilipoamua', 'kutia', 'bidii', 'masomoni', ',', '”', 'akasema', 'Jimmy', '.', 'Kwa', 'upande', 'mwingine', ',', 'alisema', 'kuwa', 'babake', 'alikuwa', 'kielelezo', 'kwake', 'na', 'kila', 'mara', 'alimwongoza', 'kwa', 'upole', 'na', 'kumshauri', 'atie', 'bidii', 'katika', 'kila', 'jambo', '.', 'Kwa', 'upande', 'wake', ',', 'Judy', 'Wanjiku', 'Kibaki', 'alimtaja', 'babake', 'kama', 'kiongozi', 'aliyewapenda', 'na', 'kuwaenzi', '.', 'Alisema', 'babake', 'alikuwa', 'akimpeleka', 'shuleni', 'kila', 'asubuhi', 'na', 'hata', 'kuhudhuria', 'mikutano', 'ya', 'maendeleo', 'shuleni', 'kama', 'wazazi', 'wengine', '.', '“', 'Alituonyesha', 'upendo', 'bila', 'upendeleo', '.', 'Alienzi', 'elimu', 'sana', '.', 'Kila', 'mara', 'angetushauri', 'tusome', 'kwa', 'bidii', 'na', 'kufuata', 'ndoto', 'zetu', '.', 'Alinifunza', 'mengi', 'na', 'kila', 'mara', 'nilikuwa', 'nikimtazamia', ',', '”', 'akasema', 'Bi', 'Wanjiku', '.', 'Alimsifu', 'babake', 'kwa', 'kutomlazimisha', 'kuingia', 'kwenye', 'siasa', 'na', 'kuanika', 'maisha', 'yake', 'kwa', 'umma', '.', 'Kadhalika', ',', 'alisema', 'amejifunza', 'subira', 'kutoka', 'kwa', 'hayati', 'babake', 'ambaye', 'alionyesha', 'sifa', 'ya', 'kuwa', 'mtulivu', 'wakati', 'wote', '.', '“', 'Katika', 'uongozi', 'wake', ',', 'alikuwa', 'mtulivu', 'na', 'mpenda', 'amani', '.', 'Hata', 'wakati', 'wa', 'siasa', ',', 'alikuwa', 'mwenye', 'subira', 'na', 'kila', 'mara', 'angehubiri', 'amani', '.', 'Daima', 'atabaki', 'kwenye', 'kumbukumbu', 'zetu', ',', '”', 'akasema', 'Bi', 'Wanjiku', '.', 'Jimmy', 'Kairu', ',', 'rafiki', 'wa', 'dhati', 'wa', 'familia', 'ya', 'hayati', 'Mzee', 'Kibaki', 'alisema', 'kuwa', 'daima', 'uhusiano', 'wa', 'familia', 'hizo', 'mbili', 'utabaki', 'kidete', '.', 'Alisema', 'kuwa', 'familia', 'hizo', 'mbili', 'zimekuwa', 'zikishirikiana', 'kwa', 'karibu', 'na', 'kuwa', 'kamwe', 'uhusiano', 'huo', 'hautafifia', '.', 'Alimtaja', 'Mzee', 'Kibaki', 'kama', 'kiongozi', 'ambaye', 'nia', 'yake', 'kuu', 'ilikuwa', 'ni', 'kuendeleza', 'uchumi', 'na', 'kuwaunganisha', 'Wakenya', '.']\n",
      "\n",
      " Number of Words:  259\n"
     ]
    }
   ],
   "source": [
    "file=\"22may1.txt\"\n",
    "\n",
    "# calling the function and storing the contents in a text variable \n",
    "text1 = get_document(\"https://taifaleo.nation.co.ke/familia-ya-hayati-yammiminia-sifa-kwa-malezi-bora/\")\n",
    "\n",
    "# calling the store_ document function \n",
    "store_document(doc=text1,name=file)\n",
    "\n",
    "#add the words in this file to the total_corpus_words, to keep count of the number of words in the corpus\n",
    "total_corpus_words+=total_words(file)"
   ]
  },
  {
   "cell_type": "code",
   "execution_count": 128,
   "metadata": {},
   "outputs": [
    {
     "data": {
      "text/plain": [
       "476347"
      ]
     },
     "execution_count": 128,
     "metadata": {},
     "output_type": "execute_result"
    }
   ],
   "source": [
    "total_corpus_words"
   ]
  },
  {
   "cell_type": "code",
   "execution_count": 131,
   "metadata": {},
   "outputs": [
    {
     "name": "stdout",
     "output_type": "stream",
     "text": [
      "['Mashauriano', 'yafanywa', 'kuinua', 'uchumi', 'baharini', 'SERIKALI', 'inaendeleza', 'mashauriano', 'na', 'Norway', 'ili', 'kupata', 'ujuzi', 'wa', 'kutumia', 'kikamilifu', 'rasilimali', 'za', 'baharini', 'kwa', 'minajili', 'ya', 'kuinua', 'uchumi', 'wa', 'Pwani', '.', 'Mkurugenzi', 'Mkuu', 'wa', 'Taasisi', 'ya', 'Utafiti', 'wa', 'Baharini', 'na', 'Uvuvi', 'nchini', '(', 'KMFRI', ')', ',', 'Prof', 'James', 'Njiru', ',', 'alisema', 'mashauriano', 'yanafanywa', 'baina', 'ya', 'taasisi', 'hiyo', 'na', 'Shirika', 'la', 'Ushirikiano', 'wa', 'Kimaendeleo', 'la', 'Norway', '.', 'Taifa', 'hilo', 'lina', 'ujuzi', 'mkubwa', 'kuhusu', 'masuala', 'ya', 'baharini', '.', 'ambao', 'unaweza', 'kufaidi', 'Kenya', 'hasa', 'kupitia', 'kwa', 'mafunzo.Imebanika', 'kuwa', ',', 'ukosefu', 'wa', 'ujuzi', 'wa', 'kisasa', 'ni', 'miongoni', 'mwa', 'sababu', 'ambazo', 'zinaepusha', 'wavuvi', 'kutumia', 'mbinu', 'bora', 'baharini', ',', 'na', 'hivyo', 'kuachia', 'makampuni', 'ya', 'kigeni', 'nafasi', 'ya', 'kuvua', 'samaki', 'tele', 'katika', 'maji', 'makuu', 'ya', 'bahari', 'za', 'Kenya', '.', '“', 'Ajira', 'nyingi', 'huendea', 'nchi', 'nyingine', 'ilhali', 'vijana', 'Wakenya', 'wanaweza', 'kufanya', 'kazi', 'hizo', 'wakipewa', 'mafunzo', 'ya', 'kutosha', ',', '”', 'akasema', 'Prof', 'Njiru', '.', 'Umaskini', 'chanzo', 'cha', 'mimba', 'za', 'mapema', '–', 'Shirika', 'UMASKINI', 'na', 'ukosefu', 'wa', 'mahitaji', 'ya', 'kimsingi', 'vinachangia', 'ongezeko', 'la', 'mimba', 'za', 'wasichana', 'walio', 'na', 'umri', 'mdogo', 'na', 'maambukizi', 'ya', 'Ukimwi', ',', 'Kaunti', 'ya', 'Siaya', ',', 'inasema', 'ripoti', 'ya', 'shirika', 'lisilo', 'la', 'serikali', 'la', 'Globcom', '.', 'Kulingana', 'na', 'mkurugenzi', 'wa', 'shirika', 'hilo', 'Bw', 'Ibrahim', 'Otieno', ',', 'umaskini', 'unawasukuma', 'wasichana', 'hao', 'kushiriki', 'ngono', 'na', 'wanaume', 'wa', 'umri', 'mkubwa', 'ili', 'wapate', 'mahitaji', 'ya', 'muhimu', '.', 'Matumizi', 'ya', 'mihadarati', 'na', 'dhuluma', 'za', 'jinsia', 'pia', 'zinatajwa', 'kuchangia', 'ongezeko', 'la', 'mimba', 'za', 'mapema', 'miongoni', 'mwa', 'wasichana', 'katika', 'kaunti', 'hiyo', '.']\n",
      "\n",
      " Number of Words:  234\n"
     ]
    }
   ],
   "source": [
    "file=\"22may2.txt\"\n",
    "\n",
    "# calling the function and storing the contents in a text variable \n",
    "text1 = get_document(\"https://taifaleo.nation.co.ke/mashauriano-yafanywa-kuinua-uchumi-baharini/\")\n",
    "text3 = get_document(\"https://taifaleo.nation.co.ke/umaskini-chanzo-cha-mimba-za-mapema-shirika/\")\n",
    "\n",
    "# calling the store_ document function \n",
    "store_document(doc=text1,name=file)\n",
    "store_document(doc=text3,name=file)\n",
    "\n",
    "#add the words in this file to the total_corpus_words, to keep count of the number of words in the corpus\n",
    "total_corpus_words+=total_words(file)"
   ]
  },
  {
   "cell_type": "code",
   "execution_count": 132,
   "metadata": {},
   "outputs": [
    {
     "data": {
      "text/plain": [
       "476581"
      ]
     },
     "execution_count": 132,
     "metadata": {},
     "output_type": "execute_result"
    }
   ],
   "source": [
    "total_corpus_words"
   ]
  },
  {
   "cell_type": "code",
   "execution_count": 133,
   "metadata": {},
   "outputs": [
    {
     "name": "stdout",
     "output_type": "stream",
     "text": [
      "['Mnamo', 'Jumapili', ',', 'Rais', 'Uhuru', 'Kenyatta', 'na', 'Dkt', 'Ruto', 'walinyoosheana', 'kidole', 'cha', 'lawama', 'kila', 'mmoja', 'akikosoa', 'mwingine', 'kufuatia', 'tofauti', 'zao', '.', 'Bw', 'Kega', ',', 'ambaye', 'amekuwa', 'mshirika', 'wa', 'karibu', 'wa', 'Rais', 'Kenyatta', ',', 'alisema', 'ana', 'uhakika', 'kuwa', 'muungano', 'wa', 'Azimio', 'la', 'Umoja', 'One', 'Kenya', 'utashinda', 'viti', 'vingi', 'vya', 'ubunge', ',', 'useneta', 'na', 'ugavana', 'kwenye', 'uchaguzi', 'mkuu', 'wa', 'Agosti', '9', '.', 'Bw', 'Kega', 'alisema', 'Dkt', 'Ruto', 'anafaa', 'kuwa', 'mtu', 'wa', 'mwisho', 'kulaumu', 'serikali', 'inayomlipa', 'mshahara', '.', '“', 'Hata', 'wengi', 'wao', 'waliofikia', 'umri', 'wa', 'miaka', '70', 'hukosa', 'kupokea', 'fedha', 'za', 'wazee', 'kutoka', 'kwa', 'serikali', '.', 'Na', 'hata', 'wengi', 'pia', 'hawazuru', 'hospitali', 'kwa', 'kukosa', 'mtu', 'wa', 'kuwapeleka', 'kupata', 'matibabu', '.', 'Wengine', 'wanaishi', 'peke', 'yao', 'katika', 'boma', 'zao', ',', '”', 'alifafanua', 'Bw', 'Muiruri', '.', '“', 'Lakini', 'video', 'hiyo', 'ya', 'Wamuratha', 'akiwarushia', 'wananchi', 'wa', 'Ruiru', 'keki', 'inahuzunisha', '.', 'Hata', 'watu', 'maskini', 'huchukuliwa', 'kama', 'watu', 'wastaarabu', 'na', 'kuwekewa', 'pilau', 'mikononi', '.', 'Chakula', 'hakipaswi', 'kurushwa', 'vile', '!', '”', 'akaandika', 'Gathenya', '.', 'Wito', 'uchaguzi', 'uwe', 'wa', 'amani', 'Idd-ul-Fitr', 'ikiadhimishwa', 'nchini', 'WAISLAMU', 'kote', 'nchini', 'jana', 'waliadhimisha', 'mwisho', 'wa', 'Ramadhan', 'huku', 'miito', 'ikitolewa', 'kwa', 'Wakenya', 'kudumisha', 'utulivu', 'na', 'amani', 'kabla', 'na', 'baada', 'ya', 'uchaguzi', 'mkuu', 'wa', 'Agosti', '9', '.', 'Kutoka', 'Lamu', ',', 'Mombasa', 'hadi', 'Kitale', 'Waislamu', 'walishukuru', 'Mungu', 'kwa', 'kumaliza', 'mfungo', 'kwa', 'amani', '.', 'Mjini', 'Kitale', 'katika', 'Kaunti', 'ya', 'Trans', 'Nzoia', ',', 'maimamu', 'waliwarai', 'wanasiasa', 'kuvumiliana', ',', 'wakisema', 'wanapaswa', 'kujali', 'mwelekeo', 'wa', 'nchi', 'badala', 'ya', 'maslahi', 'yao', 'binafsi', '.', '“', 'Ni', 'katika', 'wakati', 'huu', 'ambapo', 'hofu', 'za', 'ghasia', 'za', 'kisiasa', 'huibuka', '.', 'Matokeo', 'yake', 'huwa', 'mapigano', '.', 'Tunawaomba', 'wanasiasa', 'wetu', 'kuzingatia', 'amani', 'wanapozunguka', 'katika', 'sehemu', 'tofauti', 'nchini', 'kutafuta', 'kura', ',', '”', 'akasema', 'Imam', 'Mohamed', 'Diko', '.', 'Aliyekuwa', 'Mshirikishi', 'Mkuu', 'wa', 'eneo', 'la', 'Bonde', 'la', 'Ufa', ',', 'Bw', 'George', 'Natembeya', ',', 'aliungana', 'na', 'Waislamu', 'katika', 'Msikiti', 'wa', 'Jamia', 'na', 'Pangani', ',', 'ambapo', 'aliahidi', 'kuhakikisha', 'kuwa', 'changamoto', 'zao', 'zimeshughulikiwa', '.', '“', 'Tunakumbana', 'na', 'changamoto', 'nyingi', 'sana', 'kama', 'matumizi', 'ya', 'mihadarati', ',', 'umaskini', 'na', 'uhalifu', '.', 'Tunafaa', 'kuungana', 'ili', 'kukabili', 'changamoto', 'hizi', ',', '”', 'akasema', 'Bw', 'Chemno', '.', 'Tofauti', 'na', 'miaka', 'iliyopita', 'ambapo', 'makundi', 'tofauti', 'ya', 'Waislamu', 'yaliadhimisha', 'Idd-Ul-Fitr', 'siku', 'tofauti', ',', 'shamrashamra', 'za', 'mwaka', 'huu', 'ziliandaliwa', 'siku', 'moja', '.', 'Hii', 'ni', 'baada', 'ya', 'Kadhi', 'Mkuu', ',', 'Ahmed', 'Muhdhar', 'kutangaza', 'Jumapili', 'usiku', 'kwamba', 'mwandamo', 'wa', 'mwezi', 'ulionekana', 'Witu', ',', 'Tchundwa', 'na', 'Kipini', ',', 'Kaunti', 'ya', 'Lamu', '.', '“', 'Ni', 'jambo', 'la', 'kujivunia', 'sana', 'ambapo', 'Waislamu', 'wote', 'wa', 'Kenya', 'walisherehekea', 'pamoja', 'kwa', 'mara', 'ya', 'kwanza', 'baada', 'ya', 'miaka', 'kadhaa', ',', '”', 'akasema', 'Imam', 'wa', 'msikiti', 'wa', 'Sparki', ',', 'Kaunti', 'ya', 'Mombasa', ',', 'Sheikh', 'Abu', 'Hamza', '.', 'Imam', 'huyo', 'alisema', 'kuwa', 'kuna', 'matumaini', 'ya', 'kuondoa', 'mgawanyiko', 'kuhusu', 'kufunga', 'na', 'kufungua', 'siku', 'tofauti', 'jinsi', 'ilivyokuwa', 'miaka', 'iliyopita', '.', '“', 'Naona', 'kutokana', 'na', 'Waislamu', 'kusherehekea', 'sikukuu', 'kwa', 'pamoja', ',', 'kunaweza', 'kuwa', 'ni', 'dalili', 'nzuri', 'ya', 'suluhisho', 'la', 'kudumu', 'la', 'mgawanyiko', 'uliokuwepo', 'kumalizika', 'ikiwa', 'pande', 'zilizokuwa', 'zina', 'tofauti', 'zitakubaliana', 'kuhusu', 'jambo', 'hilo', ',', '”', 'akasema', 'Sheikh', 'Hamza', '.']\n",
      "\n",
      " Number of Words:  470\n"
     ]
    }
   ],
   "source": [
    "file=\"22may3.txt\"\n",
    "\n",
    "# calling the function and storing the contents in a text variable \n",
    "text1 = get_document(\"https://taifaleo.nation.co.ke/mbunge-ashinikiza-naibu-rais-ajiuzulu/\")\n",
    "text2 = get_document(\"https://taifaleo.nation.co.ke/wakongwe-200-wapokea-matibabu-na-chakula-eneo-la-mavolini/\")\n",
    "text3 = get_document(\"https://taifaleo.nation.co.ke/anne-muratha-apewa-darasa-baada-ya-kurushia-watu-keki/\")\n",
    "text4 = get_document(\"https://taifaleo.nation.co.ke/wito-uchaguzi-uwe-wa-amani-idd-ul-fitr-ikiadhimishwa-nchini/\")\n",
    "\n",
    "# calling the store_ document function \n",
    "store_document(doc=text1,name=file)\n",
    "store_document(doc=text2,name=file)\n",
    "store_document(doc=text3,name=file)\n",
    "store_document(doc=text4,name=file)\n",
    "\n",
    "#add the words in this file to the total_corpus_words, to keep count of the number of words in the corpus\n",
    "total_corpus_words+=total_words(file)"
   ]
  },
  {
   "cell_type": "code",
   "execution_count": 134,
   "metadata": {},
   "outputs": [
    {
     "data": {
      "text/plain": [
       "477051"
      ]
     },
     "execution_count": 134,
     "metadata": {},
     "output_type": "execute_result"
    }
   ],
   "source": [
    "total_corpus_words"
   ]
  },
  {
   "cell_type": "code",
   "execution_count": 135,
   "metadata": {},
   "outputs": [
    {
     "name": "stdout",
     "output_type": "stream",
     "text": [
      "['CECIL', 'ODONGO', ':', 'Kalonzo', 'akatae', 'mashauriano', 'ya', 'kusaka', 'mwaniaji', 'mwenza', 'KINARA', 'wa', 'Wiper', ',', 'Bw', 'Kalonzo', 'Musyoka', 'anafaa', 'akatae', 'kushiriki', 'mahojiano', 'ya', 'kusaka', 'mwaniaji', 'mwenza', 'wa', 'Bw', 'Raila', 'Odinga', 'ndani', 'ya', 'Muungano', 'wa', 'Azimio', 'la', 'Umoja-One', 'Kenya', 'kwa', 'kuwa', 'mchakato', 'huo', 'unamdhalilisha', 'na', 'kumdunisha', 'kisiasa', '.', 'Kamati', 'iliyoteuliwa', 'baada', 'ya', 'mkutano', 'wa', 'vyama', 'tanzu', 'ndani', 'ya', 'muungano', 'huo', 'ulioongozwa', 'na', 'Rais', 'Uhuru', 'Kenyatta', 'majuma', 'mawili', 'yaliyopita', ',', 'inatarajiwa', 'kuanza', 'leo', 'kuwahoji', 'wale', 'wanaoonekana', 'kuwa', 'na', 'uzani', 'wa', 'kisiasa', 'na', 'wanatosha', 'kuwa', 'wagombeaji', 'wenza', 'wa', 'Bw', 'Odinga', '.', 'Mahojiano', 'hayo', 'yanatarajiwa', 'kukamilika', 'Mei', '10', 'ambapo', 'kamati', 'hiyo', 'itaibuka', 'na', 'mwaniaji', 'mmoja', 'wa', 'kupokezwa', 'nafasi', 'hiyo', '.', 'Mbali', 'na', 'Bw', 'Musyoka', ',', 'wale', 'ambao', 'waliorodheshwa', 'na', 'kamati', 'hiyo', 'inayoongowa', 'na', 'Elizabeth', 'Meyo', 'ni', 'kinara', 'wa', 'Narc', 'Kenya', ',', 'Martha', 'Karua', ',', 'mbunge', 'wa', 'zamani', 'wa', 'Gatanga', 'Peter', 'Kenneth', ',', 'Waziri', 'wa', 'Kilimo', 'Peter', 'Munya', ',', 'Magavana', 'Hassan', 'Joho', '(', 'Mombasa', ')', 'na', 'Lee', 'Kinyanjui', '(', 'Nakuru', ')', ',', 'Mwakilishi', 'wa', 'Kike', 'wa', 'Murang', '’', 'a', 'Sabina', 'Chege', 'na', 'mbunge', 'wa', 'Kieni', 'Kanini', 'Kega', '.', 'Mwanzo', ',', 'kati', 'ya', 'wanasiasa', 'hawa', 'wote', ',', 'ni', 'wazi', 'kuwa', 'hakuna', 'yule', 'ambaye', 'yuko', 'kwenye', '‘', 'ligi', '’', 'ya', 'Bw', 'Musyoka', 'kisiasa', '.', 'Mbali', 'na', 'kuhudumu', 'kama', 'makamu', 'wa', 'rais', 'ndani', 'ya', 'serikali', 'ya', 'muungano', 'kati', 'ya', '2008-2013', ',', 'Bw', 'Musyoka', 'alitumikia', 'taifa', 'kama', 'waziri', 'enzi', 'za', 'hayati', 'Mzee', 'Daniel', 'Moi', 'na', 'Mwai', 'Kibaki', '.', 'Vilevile', 'alihudumu', 'kama', 'Mbunge', 'wa', 'Mwingi', 'Kaskazini', 'kati', 'ya', '1983-2013', '.', 'Je', ',', 'uzoefu', 'huu', 'wote', 'wa', 'miaka', 'mingi', 'bado', 'Azimio', 'wanamhitaji', 'Bw', 'Musyoka', 'kufika', 'mbele', 'ya', 'jopo', 'linalowahoji', 'watu', 'ambao', 'hawamfikii', 'kivyovyote', 'katika', 'uongozi', 'na', 'kisiasa', '?', 'Aidha', ',', 'kihesabu', 'Bw', 'Musyoka', 'anamletea', 'mezani', 'Bw', 'Odinga', 'zaidi', 'ya', 'kura', 'milioni', '1.8', ',', 'idadi', 'ya', 'juu', 'zaidi', 'ikilinganishwa', 'na', 'wengine', 'ambao', 'wameorodheshwa', 'kwa', 'nafasi', 'ya', 'mgombeaji', 'mwenza', '.', 'Ingawa', 'kuna', 'mjadala', 'kuwa', 'mgombeaji', 'mwenza', 'wa', 'Bw', 'Odinga', 'anafaa', 'atoke', 'Mlima', 'Kenya', 'ili', 'kulemaza', 'umaarufu', 'wa', 'Dkt', 'Ruto', 'Mlimani', ',', 'kuna', 'uwezekano', 'waziri', 'huyo', 'mkuu', 'wa', 'zamani', 'bado', 'atabwagwa', 'eneo', 'hilo', 'hata', 'kama', 'Bi', 'Karua', 'au', 'Mabw', 'Kenneth', 'na', 'Kinyanjui', 'watapokezwa', 'wadhifa', 'huo', '.', 'Kulingana', 'na', 'itifaki', ',', 'Bw', 'Musyoka', 'ndiye', 'wa', 'tatu', 'baada', 'ya', 'Rais', 'Kenyatta', 'na', 'Bw', 'Odinga', 'kwenye', 'ngazi', 'ya', 'uongozi', 'ndani', 'ya', 'Azimio', 'la', 'Umoja', '.', 'Aidha', ',', 'Bw', 'Musyoka', 'amekuwa', 'nambari', 'mbili', 'au', 'mwaniaji', 'mwenza', 'kwa', 'Bw', 'Odinga', 'chini', 'ya', 'CORD', '2013', 'na', 'NASA', '2017', '.', 'Je', ',', 'mbona', 'wakati', 'huo', 'hakufanyiwa', 'mahojiano', 'hayo', 'ilhali', 'alimsaidia', 'kuzoa', 'kura', 'nyingi', 'licha', 'ya', 'kushindwa', 'pembamba', 'na', 'Rais', 'Kenyatta', 'katika', 'chaguzi', 'hizo', '?', 'Huenda', 'hujuma', 'dhidi', 'ya', 'Bw', 'Musyoka', 'ndani', 'ya', 'muungano', 'huo', 'ndiyo', 'imesababisha', 'awe', 'akitoa', 'kauli', 'tatanishi', 'na', 'masharti', 'makali', 'kwa', 'waziri', 'huyo', 'mkuu', 'wa', 'zamani', '.', 'Tangu', 'mwanzo', 'ilikuwa', 'bayana', 'kuwa', 'Bw', 'Musyoka', 'alikuwa', 'akilenga', 'kuwania', 'Urais', 'kwa', 'tikiti', 'ya', 'OKA', 'na', 'hata', 'kauli', 'ambazo', 'alikuwa', 'akitoa', 'baada', 'ya', 'kujiunga', 'na', 'Azimio', 'ziliashiria', 'kuwa', 'huenda', 'alilazimishwa', 'kumuunga', 'Bw', 'Odinga', '.', 'Hata', 'hivyo', ',', 'hilo', 'halimaanishi', 'kuwa', 'hawezi', 'kuunga', 'mkono', 'mrengo', 'wa', 'Kenya', 'Kwanza', '.', 'Sheria', 'inaweza', 'kumfunga', 'ndani', 'ya', 'Azimio', 'la', 'Umoja', 'lakini', 'akiamua', 'kuelekea', 'mrengo', 'wa', 'Dkt', 'Ruto', 'basi', 'ni', 'Bw', 'Odinga', 'ambaye', 'atapoteza', 'pakubwa', 'kisiasa', '.', 'Korti', 'yaokoa', 'mzazi', 'kumpeleka', 'mtoto', 'katika', 'shule', 'ghali', 'MAHAKAMA', 'ya', 'masuala', 'ya', 'familia', 'Mombasa', 'imeamua', 'kuwa', 'wazazi', 'hawastahili', 'kulazimishwa', 'kulipia', 'mambo', 'wasiyoweza', 'kugharimia', ',', 'wanapowajibika', 'kutimiza', 'haki', 'za', 'watoto', '.', 'Akitoa', 'uamuzi', 'katika', 'kesi', 'ambapo', 'mwanamume', 'alishtakiwa', 'kwa', 'kutomlipia', 'mtoto', 'wake', 'karo', 'katika', 'shule', 'ya', 'kibinafsi', ',', 'Jaji', 'John', 'Onyiego', 'alisema', 'ushahidi', 'ulionyesha', 'kuwa', 'baba', 'huyo', 'hana', 'uwezo', 'wa', 'kusomesha', 'mtoto', 'katika', 'shule', 'ambayo', 'mkewe', 'wa', 'zamani', 'alitaka', '.']\n",
      "\n",
      " Number of Words:  579\n"
     ]
    }
   ],
   "source": [
    "file=\"22may4.txt\"\n",
    "\n",
    "# calling the function and storing the contents in a text variable \n",
    "text1 = get_document(\"https://taifaleo.nation.co.ke/cecil-odongo-kalonzo-akatae-mashauriano-ya-kusaka-mwaniaji-mwenza/\")\n",
    "text2 = get_document(\"https://taifaleo.nation.co.ke/korti-yaokoa-mzazi-kumpeleka-mtoto-katika-shule-ghali/\")\n",
    "\n",
    "\n",
    "# calling the store_ document function \n",
    "store_document(doc=text1,name=file)\n",
    "store_document(doc=text2,name=file)\n",
    "\n",
    "\n",
    "#add the words in this file to the total_corpus_words, to keep count of the number of words in the corpus\n",
    "total_corpus_words+=total_words(file)"
   ]
  },
  {
   "cell_type": "code",
   "execution_count": 136,
   "metadata": {},
   "outputs": [
    {
     "data": {
      "text/plain": [
       "477630"
      ]
     },
     "execution_count": 136,
     "metadata": {},
     "output_type": "execute_result"
    }
   ],
   "source": [
    "total_corpus_words"
   ]
  },
  {
   "cell_type": "code",
   "execution_count": 137,
   "metadata": {},
   "outputs": [
    {
     "name": "stdout",
     "output_type": "stream",
     "text": [
      "['Isaack', 'Hassan', 'na', 'aliyekuwa', 'naibu', 'wake', ',', 'Zaja', ',', 'waelekea', 'kuwa', 'majaji', 'ALIYEKUWA', 'Mwenyekiti', 'wa', 'Tume', 'Huru', 'ya', 'Uchaguzi', 'na', 'Mipaka', '(', 'IEBC', ')', 'na', 'naibu', 'mwenyekiti', 'wa', 'tume', 'hiyo', 'Lilian', 'Mahiri', 'Zaja', 'ni', 'miongoni', 'mwa', 'wanasheria', 'walioorodheshwa', 'kwa', 'uteuzi', 'wa', 'Jaji', 'wa', 'Mahakama', 'ya', 'Rufaa', 'na', 'Mahakama', 'Kuu', ',', 'mtawalia', '.', 'Bw', 'Hassan', 'ambaye', 'alifutwa', 'kazi', 'mnamo', 'Novemba', '16', ',', '2016', 'na', 'nafasi', 'yake', 'ikachukuliwa', 'na', 'Wafula', 'Chebukati', ',', 'ni', 'miongoni', 'mwa', 'watu', '31', 'ambao', 'watahojiwa', 'kwa', 'nafasi', 'hizo', '.', 'Hii', 'ni', 'baada', 'ya', 'majina', 'yao', 'kuorodheshwa', 'na', 'Tume', 'ya', 'Huduma', 'za', 'Majaji', '(', 'JSC', ')', 'kwenye', 'taarifa', 'iliyotumwa', 'kwa', 'vyombo', 'vya', 'habari', 'Jumatano', ',', 'Mei', '4', ',', '2022', '.', 'Watu', 'hao', 'wanaojumuisha', 'mawakili', 'na', 'majaji', 'wa', 'mahakama', 'kuu', 'wameorodheshwa', 'kutoka', 'kwa', 'jumla', 'ya', 'watu', '68', 'waliotuma', 'maombi', 'ya', 'kutaka', 'wateuliwe', 'kwa', 'nafasi', 'hizo', '.', 'Hii', 'ni', 'baada', 'ya', 'JSC', 'kuitisha', 'maombi', 'ya', 'nafasi', 'hizo', 'katika', 'tangazo', 'lililochapishwa', 'magazetini', 'mnamo', 'Machi', '14', ',', '2022', '.', 'Naye', 'Bi', 'Zaja', 'ni', 'miongoni', 'mwa', 'wanasheria', '68', 'walioorodheshwa', 'kwa', 'nyadhifa', 'za', 'Majaji', 'wa', 'Mahakama', 'Kuu', '.', 'Hao', 'ni', 'miongoni', 'mwa', 'wanasheria', '266', 'waliotuma', 'maombi', 'ya', 'kutaka', 'wateuliwa', 'kwa', 'nafasi', 'hizo', '.', 'Vile', 'vile', ',', 'Naibu', 'Mkurugenzi', 'wa', 'Mashtaka', 'ya', 'Umma', '(', 'DDPP', ')', 'Dorcus', 'Oduor', 'ni', 'miongoni', 'mwa', 'wanasheria', '31', 'waliorodheshwa', 'kwa', 'nafasi', 'za', 'Majaji', 'wa', 'Mahakama', 'ya', 'Rufaa', '.', 'Wengine', 'walioorodheshwa', 'kwa', 'nafasi', 'hizo', 'ni', 'pamoja', 'na', 'Majaji', 'wa', 'Mahakama', 'Kuu', 'Bi', 'Hedwig', 'Ong', '’', 'udi', 'na', 'Jaji', 'John', 'Mativo', ',', 'Jaji', 'Nduma', 'Nderi', ',', 'Wakili', 'Mkuu', 'Patricia', 'Nyaundi', ',', 'Mwenyeti', 'wa', 'Tume', 'ya', 'Kitaifa', 'ya', 'Jinsia', 'na', 'Usawa', 'Wilfred', 'Lichuma', 'miongoni', 'mwa', 'wengine', '.', 'JSC', 'imesema', 'kuwa', 'itaanza', 'mahojiano', 'ya', 'wanasheria', 'walioorodheshwa', 'kwa', 'nafasi', 'ya', 'Jaji', 'wa', 'Mahakama', 'ya', 'Rufaa', 'kuanzia', 'Juni', '20', 'hadi', 'Julai', '6', ',', '2022', '.', 'Nao', 'wale', 'wanaosaka', 'nafasa', 'za', 'Majaji', 'wa', 'Mahakama', 'ya', 'Juu', 'watahojiwa', 'kati', 'ya', 'Julai', '7', 'hadi', 'Agosti', '8', ',', '2022', '.', '“', 'Kwa', 'hivyo', ',', 'umma', 'unaulizwa', 'kutuma', 'memoranda', 'au', 'taarifa', ',', 'kwa', 'maandishi', ',', 'kuhusu', 'watu', 'hawa', ',', '”', 'akasema', 'Katibu', 'wa', 'JSC', 'Anne', 'Amadi', 'katika', 'tangazo', 'lililochapishwa', 'katika', 'gazeti', 'la', 'Daily', 'Nation', ',', 'toleo', 'la', 'Mei', '4', ',', '2022', '.', 'Sonko', 'atishia', '‘', 'kuanika', 'Joho', '’', 'Mwanasiasa', 'huyo', 'wa', 'Chama', 'cha', 'Wiper', 'ambaye', 'anajiandaa', 'kuzindua', 'kampeni', 'zake', 'za', 'kushindania', 'ugavana', 'Mombasa', 'alidai', 'kuwa', 'viongozi', 'wa', 'ODM', 'Mombasa', 'wameingia', 'kiwewe', 'kwa', 'vile', 'wanajua', 'yale', 'anayoweza', 'kuyafanya', 'katika', 'kaunti', 'hiyo', '.', 'NMG', 'yatoa', 'msaada', 'kwa', 'makao', 'ya', 'watoto', 'WAISLAMU', 'nchini', 'wakiendelea', 'kusherehekea', 'Sikukuu', 'ya', 'Idd', ',', 'watoto', 'wanaoishi', 'katika', 'makao', 'ya', 'Mama', 'Fatuma', ',', 'Jumatano', 'walipata', 'tabasamu', 'na', 'kushiriki', 'sherehe', 'ya', 'aina', 'yake', 'baada', 'ya', 'kupokea', 'msaada', 'kutoka', 'kwa', 'Shirika', 'la', 'Habari', 'la', 'Nation', '(', 'NMG', ')', '.', 'Makao', 'hayo', 'yaliyoanzisha', 'mnamo', '1966', ',', 'yanapatikana', 'mtaani', 'Eastleigh', ',', 'katika', 'eneobunge', 'la', 'Kamkunji', ',', 'Kaunti', 'ya', 'Nairobi', 'na', 'yanawapa', 'hifadhi', 'watoto', '85', '.', 'Wanahabari', 'na', 'wafanyakazi', 'wa', 'NMG', 'walifika', 'katika', 'makao', 'hayo', 'kutoa', 'msaada', 'vyakula', 'na', 'bidhaa', 'tele', 'ili', 'kuwasaidia', 'kuwakimu', 'watoto', '85', '.', 'Kati', 'ya', 'bidhaa', 'ambazo', 'NMG', 'ziliwasilisha', 'ni', 'unga', ',', 'mafuta', 'ya', 'kupikia', ',', 'ndengu', ',', 'supageti', ',', 'mchele', ',', 'sabani', 'na', 'bidhaa', 'nyingine', 'nyingi', 'ambazo', 'zitasaidia', 'makao', 'hayo', 'kuwapa', 'riziki', 'watoto', 'hao', 'wasiobahatika', 'katika', 'jamii', '.', 'Akizungumza', 'baada', 'ya', 'hafla', 'ya', 'kukabidhiwa', 'msaada', 'huo', ',', 'Mkurugenzi', 'wa', 'makao', 'hayo', 'Mohammed', 'Hiribae', 'alishukuru', 'NMG', 'na', 'kusema', 'kuwa', 'kila', 'mwaka', 'shirika', 'hilo', 'limekuwa', 'likiwafaa', 'kuhakikisha', 'watoto', 'haohawatatiziki', '.', '“', 'Leo', 'tunasherehekea', 'Idd', 'na', 'msaada', 'wenu', 'ambao', 'tunauthamini', 'mno', 'umekuja', 'kwa', 'wakati', '.', 'Tunawashukuru', 'kwa', 'kuwakumbuka', 'watoto', 'wanaoishi', 'makao', 'haya', 'kila', 'mwaka', '.', 'Endeleni', 'na', 'mtindo', 'huu', 'wa', 'kutoa', 'msaada', 'hata', 'kwa', 'wengine', ',', '”', 'akasema', 'Bw', 'Hiribae', '.', 'Mmoja', 'wa', 'watoto', 'katika', 'makao', 'hayo', 'Issah', 'Adam', 'ambaye', 'ni', 'mwanafunzi', 'wa', 'shule', 'ya', 'msingi', ',', 'alifurahia', 'msaada', 'huo', 'na', 'kusema', 'kuwa', 'wengi', 'wa', 'waliokuwa', 'wakiishi', 'humo', 'na', 'kukamilisha', 'masomo', 'yao', ',', 'wamefanya', 'hivyo', 'kutokana', 'na', 'ukarimu', 'wa', 'NMG', 'pamoja', 'na', 'mashirika', 'mengine', 'ya', 'kutoa', 'msaada', '.', '“', 'Makao', 'hayo', 'ni', 'kama', 'nyumbani', 'na', 'wema', 'NMG', 'umetufanyia', 'leo', 'hautasahaulika', '.', 'Mmehakikisha', 'kuwa', 'tunasherekea', 'Idd', 'vizuri', 'na', 'tunawatilia', 'dua', 'ili', 'mwenyezi', 'mungu', 'awabariki', 'ili', 'mzidi', 'kuwafikia', 'hata', 'watu', 'wengine', ',', '”', 'akasema', 'Adam', '.', 'Kitengo', 'cha', 'mahusiano', 'ya', 'kijamii', 'na', 'nje', 'cha', 'NMG', 'kiliongozwa', 'na', 'mratibu', 'wake', 'Naomi', 'Ikenye', 'ambaye', 'alisema', 'shirika', 'hilo', 'litaendelea', 'na', 'miradi', 'kama', 'hiyo', 'si', 'Mama', 'Fatuma', 'bali', 'hata', 'maeneo', 'mengine', 'nchini', '.', 'Miili', 'ya', 'wavulana', 'watatu', 'yapatikana', 'kwenye', 'kidimbwi', 'Juja', 'Miili', 'ya', 'watatu', 'hao', 'wa', 'umri', 'wa', 'kati', 'ya', 'miaka', 'sita', 'na', '10', 'ilipatikana', 'Jumatano', 'mchana', 'kwenye', 'kidimbwi', 'kilichojaa', 'maji', 'karibu', 'na', 'eneo', 'la', 'shughuli', 'za', 'uchimbaji', 'mawe', '.', 'Kulingana', 'na', 'wakazi', 'wa', 'kijiji', 'hicho', ',', 'mvua', 'kubwa', 'inayonyesha', 'imesababisha', 'maji', 'kutuwama', 'kwenye', 'vidimbwi', 'kadha', '.', 'Bw', 'Joseph', 'Maina', 'mkazi', 'wa', 'hapo', 'alisema', 'walipata', 'habari', 'kuwa', 'kuna', 'vijana', 'watatu', 'walipatikana', 'wakielea', 'kwenye', 'kidimbwi', 'hicho', 'bila', 'kutambulika', 'kamili', '.', 'Baadaye', 'ndipo', 'wakazi', 'hao', 'walifika', 'hapo', 'na', 'kufanya', 'juhudi', 'za', 'kuwaondoa', 'vijana', 'hao', 'ndani', 'ya', 'kidimbwi', 'hicho', '.', '“', 'Tunaomba', 'watu', 'wanaohusika', 'na', 'uchimbaji', 'wa', 'mawe', 'wawe', 'makini', 'kuona', 'ya', 'kwamba', 'mashimo', 'yanayoachwa', 'wazi', 'yanajazwa', 'mchanga', 'ili', 'kusitokee', 'tena', 'janga', 'kama', 'hilo', ',', '”', 'alisema', 'Bw', 'Maina', '.', 'Bi', 'Margret', 'Wairimu', 'aliye', 'mkazi', 'alisema', 'mmoja', 'kati', 'ya', 'vijana', 'hao', 'alipatikana', 'alielea', 'juu', 'ya', 'maji', 'ya', 'kidimbwi', 'hicho', 'lakini', 'hao', 'wengine', 'wawili', 'kuwaondoa', 'wawili', 'wengine', 'walipatikana', 'ndani', 'ya', 'matope', 'baada', 'ya', 'wakazi', 'kuzibua', 'maji', 'yaliyokuwa', 'yametuwama', '.', 'Naye', 'Elizabeth', 'Wanjiku', 'alidai', 'ya', 'kwamba', 'kwa', 'muda', 'mrefu', 'wamekuwa', 'wakilalamika', 'kuwa', 'maeneo', 'ya', 'kuchimba', 'mawe', 'yamekuwa', 'hatari', 'kwa', 'usalama', 'lakini', 'hakuna', 'hatua', 'yoyote', 'imechukuliwa', '.', '“', 'Tungetaka', 'serikali', 'ya', 'kaunti', 'ya', 'Kiambu', 'kuingilia', 'kati', 'ili', 'kuzuia', 'maafa', 'ya', 'aina', 'hiyo', 'kushuhudiwa', 'tena', ',', '”', 'alisema', 'Bi', 'Wanjiku', '.', 'Miili', 'ya', 'watatu', 'hao', 'ilipekekwa', 'hadi', 'chumba', 'cha', 'kuhifadhi', 'maiti', 'cha', 'General', 'Kago', 'katika', 'Hospitali', 'ya', 'Thika', 'Level', '5', '.', 'Chini', 'ya', 'miezi', 'sita', 'iliyopita', 'watu', 'watano', 'wamepoteza', 'maisha', 'yao', 'katika', 'eneo', 'hilo', 'la', 'uchimbaji', 'wa', 'mawe', '.', 'Na', 'mwaka', '2021', 'wachimbaji', 'mawe', 'wawili', 'na', 'dereva', 'walifariki', 'katika', 'eneo', 'la', 'uchimbaji', 'mawe', 'Juja', 'baada', 'ya', 'eneo', 'fulani', 'kuporomoka', '.', 'Aidha', ',', 'wakazi', 'wa', 'kijiji', 'hicho', 'wanaiomba', 'serikali', 'ya', 'kaunti', 'ya', 'Kiambu', 'iweke', 'ua', 'kuzingira', 'eneo', 'hilo', 'ili', 'lisiwe', 'hatari', 'kwa', 'maisha', 'ya', 'binadamu', '.']\n",
      "\n",
      " Number of Words:  998\n"
     ]
    }
   ],
   "source": [
    "file=\"22may5.txt\"\n",
    "\n",
    "# calling the function and storing the contents in a text variable \n",
    "text1 = get_document(\"https://taifaleo.nation.co.ke/isaack-hassan-na-aliyekuwa-naibu-wake-zaja-waelekea-kuwa-majaji/\")\n",
    "text2 = get_document(\"https://taifaleo.nation.co.ke/sonko-atishia-kuanika-joho/\")\n",
    "text3 = get_document(\"https://taifaleo.nation.co.ke/nmg-yatoa-msaada-kwa-makao-ya-watoto/\")\n",
    "text4 = get_document(\"https://taifaleo.nation.co.ke/miili-ya-wavulana-watatu-yapatikana-kwenye-kidimbwi-juja/\")\n",
    "\n",
    "# calling the store_ document function \n",
    "store_document(doc=text1,name=file)\n",
    "store_document(doc=text2,name=file)\n",
    "store_document(doc=text3,name=file)\n",
    "store_document(doc=text4,name=file)\n",
    "\n",
    "#add the words in this file to the total_corpus_words, to keep count of the number of words in the corpus\n",
    "total_corpus_words+=total_words(file)"
   ]
  },
  {
   "cell_type": "code",
   "execution_count": 138,
   "metadata": {},
   "outputs": [
    {
     "data": {
      "text/plain": [
       "478628"
      ]
     },
     "execution_count": 138,
     "metadata": {},
     "output_type": "execute_result"
    }
   ],
   "source": [
    "total_corpus_words"
   ]
  },
  {
   "cell_type": "code",
   "execution_count": 140,
   "metadata": {},
   "outputs": [
    {
     "name": "stdout",
     "output_type": "stream",
     "text": [
      "['Wito', 'wazazi', 'wakome', 'kutumia', 'kauli', 'ya', 'Magoha', 'kuhepa', 'kulipa', 'karo', 'MWENYEKITI', 'wa', 'Chama', 'cha', 'Wakuu', 'wa', 'Shule', 'za', 'Sekondari', 'nchini', ',', '(', 'KESSHA', ')', ',', 'Kahi', 'Indimuli', ',', 'ametoa', 'wito', 'kwa', 'wazazi', 'ambao', 'watoto', 'wao', 'wanajiunga', 'na', 'Kidato', 'cha', 'Kwanza', 'walipe', 'karo', 'na', 'wakome', 'kutumia', 'kauli', 'ya', 'Waziri', 'wa', 'Elimu', ',', 'George', 'Magoha', 'kuwa', 'walimu', 'hawafai', 'kuwatuma', 'wanafunzi', 'nyumbani', 'kwa', 'sababu', 'ya', 'karo', 'kujitetea', 'na', 'kuhepa', 'kuwajibika', '.', 'Bw', 'Indimuli', 'ambaye', 'ni', 'Mkuu', 'wa', 'Shule', 'ya', 'Wavulana', 'ya', 'Machakos', ',', 'alisema', 'kuwa', 'wazazi', 'wengine', 'sasa', 'wanakataa', 'kulipa', 'karo', 'wakidai', 'kuwa', 'Waziri', 'Mogoha', 'alisema', 'kila', 'mwanafuzi', 'ajiunge', 'na', 'Kidato', 'cha', 'Kwanza', '.', 'Hata', 'hivyo', ',', 'aliwataka', 'wazazi', 'wanaokosa', 'kulipa', 'karo', 'wawe', 'na', 'sababu', 'ya', 'kutofanya', 'hivyo', '.', 'Kadhalika', ',', 'alibainisha', 'changamoto', 'nyingine', 'inayowakabili', 'ni', 'wazazi', 'ambao', 'wanajaribu', 'kuwabadilisha', 'watoto', 'wao', 'kutoka', 'shule', 'moja', 'kwenda', 'nyingine', 'na', 'baadaye', 'kubadili', 'mawazo', 'na', 'kutaka', 'kurejea', 'shule', 'ya', 'awali', '.', '“', 'Baadhi', 'ya', 'wazazi', 'wanabadili', 'msimamo', 'wao', 'na', 'kutaka', 'kuwarejesha', 'wanao', 'katika', 'shule', 'za', 'awali', 'baada', 'ya', 'kugundua', 'kuwa', 'ilikuwa', 'bora', ',', '”', 'akasema', 'Bw', 'Indimuli', '.']\n",
      "\n",
      " Number of Words:  172\n"
     ]
    }
   ],
   "source": [
    "file=\"22may7.txt\"\n",
    "\n",
    "# calling the function and storing the contents in a text variable \n",
    "text1 = get_document(\"https://taifaleo.nation.co.ke/wito-wazazi-wakome-kutumia-kauli-ya-magoha-kuhepa-kulipa-karo/\")\n",
    "\n",
    "# calling the store_ document function \n",
    "store_document(doc=text1,name=file)\n",
    "\n",
    "#add the words in this file to the total_corpus_words, to keep count of the number of words in the corpus\n",
    "total_corpus_words+=total_words(file)"
   ]
  },
  {
   "cell_type": "code",
   "execution_count": 141,
   "metadata": {},
   "outputs": [
    {
     "data": {
      "text/plain": [
       "478800"
      ]
     },
     "execution_count": 141,
     "metadata": {},
     "output_type": "execute_result"
    }
   ],
   "source": [
    "total_corpus_words"
   ]
  },
  {
   "cell_type": "code",
   "execution_count": 142,
   "metadata": {},
   "outputs": [
    {
     "name": "stdout",
     "output_type": "stream",
     "text": [
      "['FIDA', 'yataka', 'wawaniaji', 'wenza', 'wa', 'urais', ',', 'ugavana', 'wawe', 'wanawake', 'SHIRIKISHO', 'la', 'Mawakili', 'Wanawake', 'Kenya', '(', 'FIDA-Kenya', ')', 'linataka', 'kila', 'mwaniaji', 'urais', 'na', 'ugavana', 'mwanamume', 'katika', 'uchaguzi', 'mkuu', 'ujao', 'kumteua', 'mwaniaji', 'mwenza', 'mwanamke', '.', 'Chama', 'hicho', 'kinasema', 'kila', 'juhudi', 'zinapaswa', 'kufanywa', 'kuhakikisha', 'usawa', 'wa', 'jinsia', 'umetimizwa', 'katika', 'nyadhifa', 'za', 'uongozi', '.', '“', 'Kwa', 'wakati', 'huu', ',', 'wawaniaji', 'wa', 'viti', 'vya', 'kisiasa', 'na', 'miungano', 'wanachagua', 'manaibu', 'wao', 'na', 'wawaniaji', 'wenza', 'kulingana', 'na', 'sheria', 'na', 'mwongozo', 'wa', 'IEBC', '.', 'Mchakato', 'huo', 'unafaa', 'kuzingatia', 'usawa', 'wa', 'jinsia', 'kwamba', 'kuwe', 'na', 'naibu', 'rais', 'mwanamke', 'kwa', 'wagombeaji', 'wote', 'wa', 'urais', 'wanaume', ',', '”', 'Mwenyekiti', 'wa', 'FIDA-', 'Kenya', ',', 'Nancy', 'Ikinu', 'alisema', 'kwenye', 'taarifa', '.', 'Alisema', 'FIDA', 'Kenya', 'inataka', 'vyama', 'vyote', 'vya', 'kisiasa', ',', 'miungano', ',', 'Tume', 'ya', 'Uchaguzi', '(', 'IEBC', ')', ',', 'Jopo', 'la', 'kutatua', 'mizozo', 'ya', 'vyama', 'vya', 'kisiasa', 'na', 'Msajili', 'wa', 'vyama', 'vya', 'kisiasa', 'kuhakikisha', 'wanawake', 'wanapata', 'nafasi', 'za', 'kugombea', 'viti', 'vya', 'uongozi', '.', '“', 'Tunaomba', 'taasisi', 'zote', 'zinazosimamia', 'na', 'kusaidia', 'mchakato', 'wa', 'uchaguzi', 'kuhakikisha', 'wanawake', 'wanapata', 'elimu', 'kuhusu', 'uchaguzi', 'na', 'jamii', ',', 'kuwapa', 'wagombeaji', 'wanawake', 'usaidizi', 'kamili', ',', 'mafunzo', 'na', 'pesa', 'na', 'kuondoa', 'ubaguzi', 'wa', 'kisiasa', 'unaozuia', 'wanawake', 'kushiriki', 'kama', 'wapigakura', 'au', 'wagombeaji', ',', '”', 'alisema']\n",
      "\n",
      " Number of Words:  194\n"
     ]
    }
   ],
   "source": [
    "file=\"22may9.txt\"\n",
    "\n",
    "# calling the function and storing the contents in a text variable \n",
    "text = get_document(\"https://taifaleo.nation.co.ke/fida-yataka-wawaniaji-wenza-wa-urais-ugavana-wawe-wanawake/\")\n",
    "\n",
    "# calling the store_ document function \n",
    "store_document(doc=text,name=file)\n",
    "\n",
    "#add the words in this file to the total_corpus_words, to keep count of the number of words in the corpus\n",
    "total_corpus_words+=total_words(file)"
   ]
  },
  {
   "cell_type": "code",
   "execution_count": 143,
   "metadata": {},
   "outputs": [
    {
     "data": {
      "text/plain": [
       "478994"
      ]
     },
     "execution_count": 143,
     "metadata": {},
     "output_type": "execute_result"
    }
   ],
   "source": [
    "total_corpus_words"
   ]
  },
  {
   "cell_type": "code",
   "execution_count": 144,
   "metadata": {},
   "outputs": [
    {
     "name": "stdout",
     "output_type": "stream",
     "text": [
      "['Tuju', 'apuuzilia', 'mbali', 'hatua', 'ya', 'Dkt', 'Mutua', 'kugura', 'Azimio', 'MKURUGENZI', 'Mkuu', 'wa', 'muungano', 'wa', 'Azimio', 'La', 'Umoja-One', 'Kenya', 'Raphael', 'Tuju', 'amepuuzilia', 'mbali', 'hatua', 'ya', 'Gavana', 'wa', 'Machakos', 'Alfred', 'Mutua', 'kujiunga', 'na', 'muungano', 'wa', 'Kenya', 'Kwanza', '.', 'Akiongea', 'na', 'wanahabari', 'katika', 'mkahawa', 'wa', 'Serena', ',', 'Nairobi', 'Jumatatu', ',', 'Mei', '9', ',', '2022', ',', 'Bw', 'Tuju', 'alisema', 'kuwa', 'Dkt', 'Mutua', 'alikuwa', 'anashinikiza', 'apewe', 'nakala', 'ya', 'mkataba', 'wa', 'Azimio', 'ili', 'aulinganishe', 'na', 'ule', 'wa', 'Kenya', 'Kwanza', '.', 'Alisema', 'kuwa', 'viongozi', 'wa', 'Azimio', 'walikuwa', 'na', 'habari', 'kwamba', 'Gavana', 'huyo', 'wa', 'Machakos', 'alikuwa', 'ameanza', 'majadiliano', 'na', 'mrengo', 'huo', 'unaoongozwa', 'na', 'Naibu', 'Rais', 'William', 'Ruto', '.', '“', 'Wengine', 'wao', 'walikuwa', 'wakiongea', 'na', 'upande', 'ule', 'mwingine', 'na', 'walitaka', 'stakabadhi', 'hiyo', 'kwa', 'manufaa', 'yao', '.', 'Na', 'kwa', 'sababu', 'tulikuwa', 'tumepata', 'habari', 'za', 'ujasusi', 'kuhusu', 'njama', 'yao', ',', 'hatukuona', 'sababu', 'ya', 'kuendelea', 'kuzungumza', 'nao', ',', '”', 'Bw', 'Tuju', 'akasema', '.', 'Dkt', 'Mutua', 'alisema', 'kuwa', 'aliondoka', 'Azimio', 'baada', 'ya', 'ombi', 'lake', 'la', 'kutaka', 'apewe', 'nakala', 'ya', 'mkataba', 'uliotiwa', 'saini', 'na', 'vyama', 'tanzu', 'kugonga', 'mwamba', '.', 'Hata', 'hivyo', ',', 'Bw', 'Tuju', 'alisema', 'kiongozi', 'huyo', 'wa', 'chama', 'cha', 'Maendeleo', 'Chap', 'Chap', 'hakuwa', 'tayari', 'kuunga', 'mkono', 'muungano', 'wa', 'Azimio', 'bali', 'alikuwa', 'akitumia', 'mkataba', 'huo', 'wa', 'makubaliano', 'kama', 'kisingizio', '.', '“', 'Cheti', 'cha', 'ndoa', 'huwa', 'hakijengi', 'ndoa', '.', 'Kilichoko', 'ndani', 'ya', 'stakabadhi', 'hiyo', 'sio', 'muhimu', ',', 'kile', 'ambacho', 'ni', 'muhimu', 'ni', 'heri', 'njema', ',', '”', 'mkurugenzi', 'huyo', 'wa', 'Azimio', 'akasema', '.', '“', 'Tumeshawishika', 'kwamba', 'muungano', 'ambao', 'unaweza', 'kuleta', 'maendeleo', 'nchini', 'ni', 'Kenya', 'Kwanza', 'chini', 'ya', 'uongozi', 'wa', 'William', 'Ruto', '.', 'Nina', 'habari', 'kwamba', 'vyama', 'vingine', 'vitano', 'vinapanga', 'kugura', 'Azimio', 'kutokana', 'an', 'sababu', 'na', 'ulaghai', 'na', 'hatua', 'ya', 'kutenga', 'maeneo', 'fulani', 'kwa', 'vyama', 'fulani', ',', '”', 'Bw', 'Mutua', 'akasema', '.']\n",
      "\n",
      " Number of Words:  275\n"
     ]
    }
   ],
   "source": [
    "file=\"22may10.txt\"\n",
    "\n",
    "# calling the function and storing the contents in a text variable \n",
    "text = get_document(\"https://taifaleo.nation.co.ke/tuju-apuuzilia-mbali-hatua-ya-dkt-mutua-kugura-azimio/\")\n",
    "\n",
    "# calling the store_ document function \n",
    "store_document(doc=text,name=file)\n",
    "\n",
    "#add the words in this file to the total_corpus_words, to keep count of the number of words in the corpus\n",
    "total_corpus_words+=total_words(file)"
   ]
  },
  {
   "cell_type": "code",
   "execution_count": 145,
   "metadata": {},
   "outputs": [
    {
     "data": {
      "text/plain": [
       "479269"
      ]
     },
     "execution_count": 145,
     "metadata": {},
     "output_type": "execute_result"
    }
   ],
   "source": [
    "total_corpus_words"
   ]
  },
  {
   "cell_type": "code",
   "execution_count": 147,
   "metadata": {},
   "outputs": [
    {
     "name": "stdout",
     "output_type": "stream",
     "text": [
      "['Wafugaji', 'maeneo', 'kame', 'walia', 'serikali', 'imewapuuza', 'WAFUGAJI', 'kutoka', 'maeneo', 'kame', 'nchini', 'wamelalamikia', 'kuendelea', 'kpuuzwa', 'na', 'serikali', 'mifugo', 'yao', 'ikihangaishwa', 'na', 'kiangazi', 'na', 'kusombwa', 'na', 'mafuriko', 'kufuatia', 'mvua', 'kubwa', 'inayoshuhudiwa', 'katika', 'baadhi', 'ya', 'maeneo', 'hayo', '.', 'Huku', 'asilia', '90', 'ya', 'wakazi', 'sehemu', 'kame', 'ikitegemea', 'ufugaji', ',', 'wamesema', 'wanakadiiria', 'hasara', 'ya', 'mali', 'iliyosababishwa', 'na', 'majanga', 'hayo', '.', 'Kwa', 'sasa', ',', 'wanategemea', 'chakula', 'cha', 'msaada', 'kupitia', 'wahisani', 'na', 'wasamaria', 'wema', 'hali', 'wanayohoji', 'imesababishia', 'wengi', 'msongo', 'wa', 'mawazo', '.', 'Hali', 'kadhalika', ',', 'wamesema', 'mizozo', 'ya', 'kijamii', 'inayoripotiwa', 'maeneo', 'hayo', 'imetokana', 'na', 'nyakati', 'na', 'hali', 'ngumu', 'wanayopitia', '.', 'Matiang', '’', 'i', 'ashutumu', 'sheria', 'kwa', 'kuruhusu', 'washukiwa', 'kuwania', 'WAZIRI', 'wa', 'Usalama', 'Fred', 'Matiang', '’', 'i', 'ameonya', 'kuhusu', 'uwezekano', 'wa', 'wahalifu', 'kuchaguliwa', 'katika', 'viti', 'mbalimbali', 'kwenye', 'Uchaguzi', 'Mkuu', 'ujao', 'kutokana', 'na', 'sheria', 'hafifu', 'za', 'kuzuia', 'washukiwa', 'kugombea', 'vyeo', '.', 'Dkt', 'Matiang', '’', 'i', 'alisema', 'kuwa', 'sheria', 'hizo', 'hafifu', 'zinawezesha', 'wanasiasa', 'kutumia', 'mabilioni', 'ya', 'hela', 'za', 'wizi', 'katika', 'kampeni', 'bila', 'wahusika', 'kuulizwa', 'walipozitoa', '.', 'Waziri', 'Matiang', '’', 'i', 'aliondolea', 'lawama', 'Tume', 'Huru', 'ya', 'Uchaguzi', 'na', 'Mipaka', '(', 'IEBC', ')', 'kuhusu', 'wanasiasa', 'kutumia', 'mabilioni', 'ya', 'fedha', 'katika', 'kampeni', 'zao', '.', '“', 'Sheria', 'zilizopo', 'kuhusu', 'usimamizi', 'wa', 'fedha', 'ni', 'hafifu', '.', 'Hivyo', 'kuna', 'hatari', 'kwamba', 'asilimia', '40', 'ya', 'viongozi', 'watakaochaguliwa', 'watakuwa', 'wahalifu', ',', '”', 'akasema', '.', 'Dkt', 'Matiang', '’', 'i', 'alikuwa', 'akizungumza', 'mjini', 'Naivasha', ',', 'Kaunti', 'ya', 'Nakuru', 'wakati', 'wa', 'kongamano', 'la', 'kitaifa', 'la', 'kujadili', 'mageuzi', 'katika', 'mfumo', 'wa', 'upatikanaji', 'haki', '.', 'Kuna', 'wanasiasa', 'kadhaa', 'ambao', 'wamepewe', 'tiketi', 'na', 'vyama', 'mbalimbali', 'kuwania', 'vyeo', 'vya', 'kisiasa', 'kwenye', 'uchaguzi', 'ujao', 'licha', 'ya', 'kuwa', 'na', 'kesi', 'hasa', 'kuhusu', 'ufisadi', 'na', 'hata', 'mauaji', '.', 'IEBC', 'imesema', 'kuwa', 'kisheria', 'haina', 'uwezo', 'wa', 'kuzima', 'washukiwa', 'hao', ',', 'hivyo', 'ni', 'juu', 'ya', 'Wakenya', 'kuamua', 'iwapo', 'watawachagua', '.', 'Wengine', 'waliohudhuria', 'kongamano', 'hilo', 'ni', 'Jaji', 'Mkuu', 'Martha', 'Koome', ',', 'Mwenyekiti', 'wa', 'IEBC', 'Wafula', 'Chebukati', ',', 'Mkuu', 'wa', 'Mashtaka', 'ya', 'Umma', 'Noordin', 'Haji', 'na', 'Mkurugenzi', 'wa', 'Idara', 'ya', 'Kuchunguza', 'Uhalifu', '(', 'DCI', ')', 'George', 'Kinoti', '.', 'Katika', 'mkutano', 'huo', ',', 'Waziri', 'Matiang', '’', 'i', 'pia', 'alisema', 'kuwa', 'matumizi', 'mabaya', 'ya', 'mitandao', 'ya', 'kijamii', 'yanahatarisha', 'usalama', 'na', 'amani', 'nchini', 'huku', 'uchaguzi', 'ukikaribia', '.']\n",
      "\n",
      " Number of Words:  342\n"
     ]
    }
   ],
   "source": [
    "file=\"22may11.txt\"\n",
    "\n",
    "# calling the function and storing the contents in a text variable \n",
    "text2 = get_document(\"https://taifaleo.nation.co.ke/wafugaji-maeneo-kame-walia-serikali-imewapuuza/\")\n",
    "text3 = get_document(\"https://taifaleo.nation.co.ke/matiangi-ashutumu-sheria-kwa-kuruhusu-washukiwa-kuwania/\")\n",
    "\n",
    "\n",
    "# calling the store_ document function \n",
    "store_document(doc=text2,name=file)\n",
    "store_document(doc=text3,name=file)\n",
    "\n",
    "\n",
    "#add the words in this file to the total_corpus_words, to keep count of the number of words in the corpus\n",
    "total_corpus_words+=total_words(file)"
   ]
  },
  {
   "cell_type": "code",
   "execution_count": 148,
   "metadata": {},
   "outputs": [
    {
     "data": {
      "text/plain": [
       "479611"
      ]
     },
     "execution_count": 148,
     "metadata": {},
     "output_type": "execute_result"
    }
   ],
   "source": [
    "total_corpus_words"
   ]
  },
  {
   "cell_type": "code",
   "execution_count": 150,
   "metadata": {},
   "outputs": [
    {
     "name": "stdout",
     "output_type": "stream",
     "text": [
      "['JUKWAA', 'la', 'mtandao', 'la', 'kutafuta', 'ajira', 'la', 'BrighterMonday', 'limeibuka', 'kuwa', 'maarufu', 'na', 'lenye', 'kupendwa', 'na', 'mamilioni', 'ya', 'wanaotafuta', 'ajira', '.', 'Zaidi', 'ya', 'watu', 'milioni', '4.6', 'wanaotafuta', 'kazi', 'na', 'waajiri', 'zaidi', 'ya', '150,000', 'wanapendelea', 'jukwaa', 'hilo', 'kutokana', 'na', 'huduma', 'zake', 'bora', '.', 'Jukwaa', 'hilo', 'ni', 'sehemu', 'ya', 'kampuni', 'ya', 'African', 'Talent', 'Company', 'na', 'linatumika', 'katika', 'nchi', 'za', 'Nigeria', ',', 'Ghana', 'na', 'Uganda', '.', 'Mkurugenzi', 'mkuu', 'wa', 'kampuni', 'hiyo', 'Hilda', 'Kabushenga', 'Kragha', 'alisema', 'kuwa', ',', 'kampuni', 'hiyo', 'itapanua', 'huduma', 'zake', 'ili', 'kuleta', 'pamoja', 'watu', 'wengi', 'zaidi', 'wanaotafuta', 'ajira', 'na', 'waajiri', '.', '“', 'Tuna', 'uwezo', 'wa', 'kuwezesha', 'waajiri', 'kupata', 'watu', 'waliona', 'tajriba', 'hitajika', 'ili', 'kuboresha', 'sekta', 'ya', 'ajira', 'nchini', '.', 'Waajiri', 'watapata', 'orodha', 'ya', 'majina', 'ya', 'watu', 'waliobobea', 'katika', 'sekta', 'hitajika', '.', 'Hii', 'itawawezesha', 'kuwaajiri', 'watu', 'waliona', 'uwezo', 'wa', 'kuwasaidia', 'kuendeleza', 'na', 'kuimarisha', 'kampuzi', 'zao', ',', '”', 'akasema', 'Bi', 'Kragha', '.', 'Kadhalika', ',', 'kampuni', 'hiyo', 'pia', 'inanuia', 'kutoa', 'mafunzo', 'za', 'kidigitali', 'kwa', 'watu', 'wanaotafuta', 'ajira', 'ili', 'kuwawezesha', 'kupata', 'tajriba', 'husika', 'na', 'kuwaweka', 'katika', 'mstari', 'wa', 'mbele', 'kupata', 'ajira', '.']\n",
      "\n",
      " Number of Words:  166\n"
     ]
    }
   ],
   "source": [
    "file=\"22may14.txt\"\n",
    "\n",
    "# calling the function and storing the contents in a text variable \n",
    "text1 = get_document(\"https://taifaleo.nation.co.ke/mtandao-wa-brightermonday-wapendelewa-zaidi-na-watafutaji-ajira-nchini-yasema-ripoti/\")\n",
    "\n",
    "# calling the store_ document function \n",
    "store_document(doc=text1,name=file)\n",
    "\n",
    "#add the words in this file to the total_corpus_words, to keep count of the number of words in the corpus\n",
    "total_corpus_words+=total_words(file)"
   ]
  },
  {
   "cell_type": "code",
   "execution_count": 151,
   "metadata": {},
   "outputs": [
    {
     "data": {
      "text/plain": [
       "479777"
      ]
     },
     "execution_count": 151,
     "metadata": {},
     "output_type": "execute_result"
    }
   ],
   "source": [
    "total_corpus_words"
   ]
  },
  {
   "cell_type": "code",
   "execution_count": 152,
   "metadata": {},
   "outputs": [
    {
     "name": "stdout",
     "output_type": "stream",
     "text": [
      "['Mazao', 'yanayonawiri', 'maeneo', 'kame', 'yana', 'mchango', 'mkubwa', 'kimaendeleo', 'MAENEO', 'ya', 'jangwa', 'na', 'nusu', 'jangwa', 'yanaunda', 'asilimia', '80', 'ya', 'ardhi', 'ya', 'Kenya', '.', 'Mimea', 'inayostahimili', 'makali', 'ya', 'ukame', 'na', 'magonjwa', ',', 'kulingana', 'na', 'Mkurugenzi', 'Mkuu', 'wa', 'The', 'International', 'Crops', 'Research', 'Institute', 'for', 'the', 'Semi-Arid', 'Tropics', '(', 'ICRISAT', ')', ',', 'Dkt', 'Jacqueline', 'Hughes', 'serikali', 'na', 'wadauhusika', 'wanapaswa', 'kuungana', 'kuhamasisha', 'wakazi', 'kuikumbatia', '.', 'ICRISAT', 'ni', 'shirika', 'lisilo', 'la', 'kiserikali', 'linalopiga', 'jeki', 'wakulima', 'nchini', 'katika', 'maeneo', 'kame', ',', 'na', 'Dkt', 'Hughes', 'anasema', 'itakuwa', 'rahisi', 'kufanikisha', 'kilimo', 'sehemu', 'hizo', 'serikali', 'na', 'sekta', 'za', 'kibinafsi', 'zikishirikiana', '.', '“', 'Uhaba', 'wa', 'chakula', 'na', 'baa', 'la', 'njaa', 'linalokumba', 'wakazi', 'maeneo', 'hayo', ',', 'yote', 'yataangaziwa', 'wenyeji', 'wakihimizwa', 'kukuza', 'mimea', 'yenye', 'ustahimilivu', 'wa', 'juu', 'dhidi', 'ya', 'ukame', 'na', 'magonjwa', ',', '”', 'Dkt', 'Hughes', 'asisitiza', '.']\n",
      "\n",
      " Number of Words:  125\n"
     ]
    }
   ],
   "source": [
    "file=\"22may18.txt\"\n",
    "\n",
    "# calling the function and storing the contents in a text variable \n",
    "text = get_document(\"https://taifaleo.nation.co.ke/mazao-yanayonawiri-maeneo-kame-yana-mchango-mkubwa-kimaendeleo/\")\n",
    "\n",
    "# calling the store_ document function \n",
    "store_document(doc=text,name=file)\n",
    "\n",
    "#add the words in this file to the total_corpus_words, to keep count of the number of words in the corpus\n",
    "total_corpus_words+=total_words(file)"
   ]
  },
  {
   "cell_type": "code",
   "execution_count": 153,
   "metadata": {},
   "outputs": [
    {
     "data": {
      "text/plain": [
       "479902"
      ]
     },
     "execution_count": 153,
     "metadata": {},
     "output_type": "execute_result"
    }
   ],
   "source": [
    "total_corpus_words"
   ]
  },
  {
   "cell_type": "code",
   "execution_count": 154,
   "metadata": {},
   "outputs": [
    {
     "name": "stdout",
     "output_type": "stream",
     "text": [
      "['Buchari', 'hiyo', 'ya', 'kuku', 'itajengwa', 'katika', 'kaunti', 'ndogo', 'ya', 'Kasarani', ',', 'na', 'imebajetiwa', 'kugharimu', 'Sh8', 'milioni', '.', 'Kuku', 'wa', 'mfugaji', 'kiungani', 'mwa', 'jiji', 'la', 'Nairobi', '.', 'Serikali', 'ya', 'kaunti', 'ya', 'Nairobi', 'inapanga', 'kujenga', 'kituo', 'cha', 'kuchinjia', 'kuku', '.', 'PICHA', '|', 'SAMMY', 'WAWERU', 'Msukumo', 'wa', 'mradi', 'huo', 'unatokana', 'na', 'kuendelea', 'kuongezeka', 'kwa', 'idadi', 'ya', 'wafugaji', 'wa', 'kuku', 'jijini', 'Nairobi', '.', 'Nairobi', 'inakadiriwa', 'kuwa', 'na', 'zaidi', 'ya', 'wafugaji', '400', 'wa', 'kuku', '.', 'Kufuatia', 'uhaba', 'wa', 'ardhi', 'na', 'changamoto', 'za', 'mazingira', '–', 'majaa', 'ya', 'taka', ',', 'wataalamu', 'wa', 'mifugo', 'wanaonya', 'utupaji', 'kiholela', 'wa', 'viungo', 'vya', 'kuku', 'au', 'kuku', 'waliofariki', 'ni', 'hatari', 'na', 'unaweza', 'kuchangia', 'mkurupuko', 'wa', 'magonjwa', 'hatari', 'ya', 'wanyama', 'kwa', 'binadamu', '.', '“', 'Magonjwa', 'kama', 'vile', 'Salmonella', 'yanatokana', 'na', 'mazingira', 'machafu', 'ya', 'kuku', ',', 'na', 'ni', 'hatari', 'kwa', 'binadamu', ',', '”', 'aonya', 'Dkt', 'Victor', 'Yamo', ',', 'Meneja', 'wa', 'Uhamasishaji', 'Kampeni', 'Haki', 'za', 'Mifugo', ',', 'katika', 'Shirika', 'la', 'World', 'Animal', 'Protection', '.']\n",
      "\n",
      " Number of Words:  149\n"
     ]
    }
   ],
   "source": [
    "file=\"22may19.txt\"\n",
    "\n",
    "# calling the function and storing the contents in a text variable \n",
    "text = get_document(\"https://taifaleo.nation.co.ke/kituo-cha-uchinjaji-na-utayarishaji-wa-nyama-ya-kuku-kujengwa-nairobi/\")\n",
    "\n",
    "# calling the store_ document function \n",
    "store_document(doc=text,name=file)\n",
    "\n",
    "#add the words in this file to the total_corpus_words, to keep count of the number of words in the corpus\n",
    "total_corpus_words+=total_words(file)"
   ]
  },
  {
   "cell_type": "code",
   "execution_count": 155,
   "metadata": {},
   "outputs": [
    {
     "data": {
      "text/plain": [
       "480051"
      ]
     },
     "execution_count": 155,
     "metadata": {},
     "output_type": "execute_result"
    }
   ],
   "source": [
    "total_corpus_words"
   ]
  },
  {
   "cell_type": "code",
   "execution_count": 157,
   "metadata": {},
   "outputs": [
    {
     "name": "stdout",
     "output_type": "stream",
     "text": [
      "['Aliyeiba', 'kipakatalishi', 'kanisani', 'atupwa', 'jela', 'miaka', 'mitatu', 'bila', 'faini', 'MWANAMUME', 'mmoja', 'aliyeiba', 'kipakatalishi', 'na', 'vifaa', 'vingine', 'vyenye', 'thamani', 'ya', 'Sh110,000', 'kanisani', 'baada', 'ya', 'kuhudhuria', 'misa', 'katika', 'kanisa', 'hilo', 'amefungwa', 'kifungo', 'cha', 'miaka', 'mitatu', 'na', 'nusu', '.', 'Hakimu', 'mwandamizi', 'wa', 'korti', 'ya', 'Kibera', ',', 'Esther', 'Bhoke', ',', 'alimhukumu', 'Joseph', 'Kamau', 'Ndung', '’', 'u', 'baada', 'ya', 'kukubali', 'kuwa', 'alivamia', 'afisi', 'moja', 'katika', 'kanisa', 'la', 'Nairobi', 'Chapel', 'kando', 'ya', 'barabara', 'ya', 'Ngong', 'na', 'kuiba', 'vifaa', 'hivyo', '.']\n",
      "\n",
      " Number of Words:  74\n"
     ]
    }
   ],
   "source": [
    "file=\"22may24.txt\"\n",
    "\n",
    "# calling the function and storing the contents in a text variable \n",
    "text = get_document(\"https://taifaleo.nation.co.ke/aliyeiba-kipakatalishi-kanisani-atupwa-jela-miaka-mitatu-bila-faini/\")\n",
    "\n",
    "# calling the store_ document function \n",
    "store_document(doc=text,name=file)\n",
    "\n",
    "#add the words in this file to the total_corpus_words, to keep count of the number of words in the corpus\n",
    "total_corpus_words+=total_words(file)"
   ]
  },
  {
   "cell_type": "code",
   "execution_count": 158,
   "metadata": {},
   "outputs": [
    {
     "data": {
      "text/plain": [
       "480125"
      ]
     },
     "execution_count": 158,
     "metadata": {},
     "output_type": "execute_result"
    }
   ],
   "source": [
    "total_corpus_words"
   ]
  },
  {
   "cell_type": "code",
   "execution_count": 160,
   "metadata": {},
   "outputs": [
    {
     "name": "stdout",
     "output_type": "stream",
     "text": [
      "['Sonko', 'apewa', 'siku', '21', 'kujibu', 'kesi', 'ya', 'kutelekeza', 'mtoto', 'MAHAKAMA', 'imempa', 'makataa', 'ya', 'siku', '21', 'aliyekuwa', 'gavana', 'wa', 'Nairobi', ',', 'Mike', 'Mbuvi', 'Sonko', ',', 'kujibu', 'kesi', 'iliyowasilishwa', 'na', 'mwanamke', 'anayedai', 'kuwa', 'mpenziwe', 'wa', 'zamani', 'akisema', 'ametelekeza', 'jukumu', 'la', 'malezi', 'ya', 'binti', 'yao', 'mwenye', 'umri', 'wa', 'miaka', '15', '.', 'Hakimu', 'Mkuu', 'wa', 'Mahakama', 'ya', 'Ngong', ',', 'Pamela', 'Achieng', ',', 'mnamo', 'Ijumaa', 'aliwaamuru', 'mawakili', 'wa', 'Bw', 'Sonko', 'kujibu', 'malalamishi', 'hayo', 'ili', 'madai', 'hayo', 'yatengewe', 'siku', 'ya', 'kusikilizwa', 'na', 'uamuzi', 'kutolewa', '.', 'Korti', 'ilitoa', 'uamuzi', 'huo', 'baada', 'ya', 'mawakili', ',', 'Mbichire', '&', 'Co', 'Advocates', ',', 'kuomba', 'kuongezewa', 'muda', 'ili', 'kujiandaa', 'kujitetea', 'dhidi', 'ya', 'madai', 'na', 'matakwa', 'yaliyotolewa', 'na', 'mwanamke', 'huyo', '.', 'Kesi', 'hiyo', 'ilikuwa', 'imetengewa', 'siku', 'ya', 'kutajwa', 'ili', 'kuthibitisha', 'ikiwa', 'wakili', 'wa', 'mwanamke', 'huyo', 'alikuwa', 'amemkabithi', 'mwanasiasa', 'huyo', 'nakala', 'za', 'korti', 'na', 'ikiwa', 'alikuwa', 'amejibu.Wakili', 'aliahirisha', 'kesi', 'hiyo', 'hadi', 'Juni', '23', ',', '2022', '.', 'Mwanamke', 'huyo', 'anaitisha', 'Sh448,450', 'kila', 'mwezi', 'kutoka', 'kwa', 'Bw', 'Sonko', 'kugharamia', 'malezi', 'ya', 'mtoto', 'ikiwemo', 'chakula', 'na', 'pesa', 'za', 'matumizi', ',', 'kodi', 'ya', 'nyumba', ',', 'ulinzi', ',', 'saluni', ',', 'mavazi', ',', 'mjakazi', ',', 'burudani', ',', 'bima', 'ya', 'afya', ',', 'elimu', ',', 'usafiri', 'na', 'matumizi', 'mengineyo', '.', 'Huku', 'uamuzi', 'wa', 'kesi', 'ukisubiriwa', ',', 'anamtaka', 'Bw', 'Sonko', 'ashurutishwe', 'kulipa', 'karo', 'ya', 'shule', 'ya', 'Sh86,000', 'na', 'kiasi', 'kingine', 'cha', 'Sh30,450', 'kugharimia', 'matumizi', 'ya', 'shule', 'na', 'sare', ',', 'bima', 'ya', 'afya', 'na', 'malezi', 'ya', 'mtoto', '.', 'Aidha', ',', 'anamtaka', 'Bw', 'Sonko', 'aagizwe', 'kulipa', 'deni', 'la', 'karo', 'la', 'Sh37,000', '.', 'Kupitia', 'wakili', 'Dan', 'Okemwa', ',', 'mwanamke', 'huyo', 'anasema', 'mtoto', 'husika', 'ni', 'mwanafunzi', 'wa', 'Kidato', 'cha', 'Pili', 'na', 'bado', 'hajarejea', 'shule', 'tangu', 'zilipofunguliwa', 'mnamo', 'Aprili', '26', ',', '2022', '.', '“', 'Mimi', 'na', 'Sonko', 'ndio', 'wazazi', 'halisi', 'wa', 'mtoto', 'huyu', ',', '”', 'anasema', 'mwanamke', 'huyo', 'ambaye', 'hajatambulishwa', 'ili', 'kumlinda', 'mtoto', '.', '“', 'Hali', 'ya', 'kubaguliwa', 'imemwathiri', 'mtoto', 'kisaikolojia', 'kwa', 'sababu', 'haelewi', 'ni', 'kwa', 'nini', 'baba', 'yake', 'anamchukia', '.', 'Isitoshe', ',', 'mtoto', 'amedhulumiwa', 'na', 'kudhihakiwa', 'shuleni', 'kwa', 'sababu', 'ya', 'jina', 'lake', 'hivyo', 'kumwathiri', 'kiakili', 'na', 'ameashiria', 'kuwa', 'anataka', 'kuhamishwa', 'shule', 'hiyo', ',', '”', 'alisema', '.', 'Anasema', 'walikutana', 'na', 'Bw', 'Sonko', 'mnamo', '1999', 'na', 'punde', 'baadaye', 'wakaanza', 'kuchumbiana', '.', 'Uhusiano', 'wao', 'ulikuwa', 'na', 'pandashuka', 'hadi', 'walipompata', 'mtoto', 'huyo', 'mnamo', 'Aprili', '17', ',', '2007', '.']\n",
      "\n",
      " Number of Words:  357\n"
     ]
    }
   ],
   "source": [
    "file=\"22may28.txt\"\n",
    "\n",
    "# calling the function and storing the contents in a text variable \n",
    "text = get_document(\"https://taifaleo.nation.co.ke/sonko-apewa-siku-21-kujibu-kesi-ya-kutelekeza-mtoto/\")\n",
    "\n",
    "# calling the store_ document function \n",
    "store_document(doc=text,name=file)\n",
    "\n",
    "#add the words in this file to the total_corpus_words, to keep count of the number of words in the corpus\n",
    "total_corpus_words+=total_words(file)"
   ]
  },
  {
   "cell_type": "code",
   "execution_count": 161,
   "metadata": {},
   "outputs": [
    {
     "data": {
      "text/plain": [
       "480482"
      ]
     },
     "execution_count": 161,
     "metadata": {},
     "output_type": "execute_result"
    }
   ],
   "source": [
    "total_corpus_words"
   ]
  },
  {
   "cell_type": "code",
   "execution_count": 165,
   "metadata": {},
   "outputs": [
    {
     "name": "stdout",
     "output_type": "stream",
     "text": [
      "['Kanisa', 'lajitenga', 'na', 'mwanamume', 'anayedaiwa', 'kuwachoma', 'wavulana', '3', 'KANISA', 'la', 'Deliverance', 'limekanusha', 'kuwa', 'mwanamume', 'aliyedaiwa', 'kuwachoma', 'wavulana', 'watatu', 'wa', 'shule', 'kwa', 'kushukiwa', 'kuiba', 'keki', 'za', 'Sh80', ',', 'alikuwa', 'ni', 'mmoja', 'wa', 'wachungaji', 'wake', '.', 'Tukio', 'hilo', 'liliripotiwa', 'katika', 'kijiji', 'cha', 'Kaptimbor', ',', 'viungani', 'kwa', 'mji', 'wa', 'Kabarnet', ',', 'Kaunti', 'ya', 'Baringo', 'wiki', 'iliyopita', '.', 'Msimamizi', 'wa', 'kanisa', 'hilo', 'eneo', 'la', 'Kerio', ',', 'Padre', 'John', 'Sawe', ',', 'alisema', 'kwamba', 'mshukiwa', 'kwa', 'jina', 'Joseph', 'Mduma', ',', 'hakuwa', 'pasta', 'bali', 'mshirika', ',', 'kabla', 'ya', 'kuhama', 'kanisa', 'hilo', '.', 'Hata', 'hivyo', ',', 'Bw', 'Sawe', 'alithibitisha', 'kisa', 'hicho', 'akisema', 'kuwa', 'adhabu', 'iliyopatiwa', 'wavulana', 'hao', 'ilikuwa', 'ya', 'kinyama', 'na', 'kinyume', 'cha', 'mafunzo', 'ya', 'kanisa', 'hilo', '.', '“', 'Tumehuzunishwa', 'na', 'ripoti', 'kwamba', 'baadhi', 'ya', 'wavulana', 'walichomwa', 'kwa', 'madai', 'ya', 'wizi', 'na', 'tunalaani', 'vikali', 'kisa', 'hicho', ',', '”', 'alisema', '.', 'Mshukiwa', '“', 'Mshukiwa', ',', 'anayetajwa', 'kuwa', 'pasta', 'sio', 'mmoja', 'wetu', 'kamwe', '.', 'Alikuwa', 'mshiriki', 'katika', 'kanisa', 'letu', 'zamani', 'kabla', 'ya', 'kuhama', '.', 'Viongozi', 'wote', 'wa', 'makanisa', 'yetu', 'wako', 'na', 'vitambulisho', 'na', 'wanajulikana', 'na', 'umma', ',', '”', 'alisema', 'Padri', 'Sawe', '.', 'Alisema', 'kwamba', 'kanisa', 'la', 'Deliverance', 'lina', 'utaratibu', 'wake', 'na', 'mapasta', 'wake', 'wana', 'maadili', '.', '“', 'Aliyekuwa', 'akionyeshwa', 'katika', 'vyombo', 'vya', 'habari', 'si', 'pasta', 'wa', 'kanisa', 'letu', 'la', 'Kabarnet', 'na', 'hatuko', 'na', 'tawi', 'lingine', 'katika', 'mji', 'huo', ',', '”', 'alisema', '.', 'Pasta', 'Henry', 'Kipng', '’', 'ok', 'wa', 'kanisa', 'la', 'Deliverance', 'mjini', 'Kabarnet', ',', 'alisema', 'kwamba', 'wana', 'utaratibu', 'wa', 'kutawaza', 'mapasta', ',', 'na', 'akaongeza', 'kuwa', 'Bw', 'Mduma', 'alikuwa', 'tu', 'mcheza', 'piano', 'katika', 'kanisa', 'hilo', 'kabla', 'ya', 'kuhama', '.', 'Utaratibu', 'wa', 'kanisa', '“', 'Huwa', 'tunatawaza', 'mapasta', 'wetu', 'na', 'mwanamume', 'anayedaiwa', 'kuwa', 'pasta', 'katika', 'kanisa', 'hili', 'alikuwa', 'tu', 'mcheza', 'piano', 'miaka', 'iliyopita', 'na', 'akatoweka', '.', 'Tunataka', 'kuambia', 'ulimwengu', 'kwamba', 'si', 'pasta', 'wa', 'kanisa', 'letu', 'inavyodaiwa', '.', 'Vyombo', 'vya', 'habari', 'vinafaa', 'kukoma', 'kupaka', 'tope', 'kanisa', 'la', 'Deliverance', 'kwa', 'kuwa', 'tuko', 'na', 'jina', 'ambalo', 'tumejenga', 'kwa', 'miaka', 'mingi', ',', '”', 'akasema', 'Bw', 'Kipng', '’', 'ok', '.', 'Mshukiwa', 'huyo', 'pamoja', 'na', 'mwenzake', 'Daniel', 'Cherop', ',', 'ambaye', 'ni', 'mwajiriwa', 'wake', ',', 'wanalaumiwa', 'kwa', 'kuchoma', 'wavulana', 'watatu', 'kwa', 'madai', 'waliiba', 'pakiti', 'ya', 'keki', 'ya', 'Sh80', 'kutoka', 'duka', 'lake', 'Jumanne', 'usiku', '.', 'Inadaiwa', 'kuwa', 'wawili', 'hao', 'pamoja', 'na', 'mshukiwa', 'mwingine', 'ambaye', 'anasakwa', ',', 'waliwachoma', 'watoto', 'hao', 'miguu', '.', 'Wavulana', 'hao', 'wanatibiwa', 'katika', 'hospitali', 'ya', 'Rufaa', 'ya', 'Kaunti', 'ya', 'Baringo', 'wakiwa', 'na', 'majeraha', 'mabaya', 'ya', 'moto', '.', 'Viongozi', 'wa', 'South', 'Rift', 'wataka', 'mnada', 'wa', 'chai', 'eneo', 'hilo', 'VIONGOZI', 'wa', 'Kusini', 'mwa', 'Bonde', 'la', 'Ufa', ',', 'wamefufua', 'wito', 'wa', 'kuwa', 'na', 'mnada', 'wa', 'chai', 'katika', 'eneo', 'hilo', ',', 'linalozalisha', 'zao', 'hilo', 'kwa', 'wingi', 'nchini', '.', 'Viongozi', 'hao', 'miongoni', 'mwao', 'Gavana', 'wa', 'Kericho', 'Paul', 'Chepkwony', ',', 'mwenzake', 'wa', 'Bomet', 'Dkt', 'Hillary', 'Barchok', 'na', 'mwaniaji', 'wa', 'ugavana', 'kaunti', 'ya', 'Kericho', 'kwa', 'tikiti', 'ya', 'chama', 'cha', 'United', 'Democratic', 'Alliance', '(', 'UDA', ')', ',', 'Dkt', 'Erick', 'Mutai', ',', 'wanasema', 'kwamba', 'kuanzishwa', 'kwa', 'mnada', 'katika', 'eneo', 'hilo', 'kutapatia', 'ushindani', 'ule', 'wa', 'chai', 'wa', 'Mombasa', 'ambao', 'unashughulikia', 'kanda', 'nzima', '.', 'Nchi', 'wanachama', 'wa', 'Jumuiya', 'ya', 'Afrika', 'Mashariki', '(', 'EAC', ')', 'Kenya', ',', 'Tanzania', ',', 'Uganda', 'na', 'Rwanda', 'huuza', 'chai', 'yao', 'kupitia', 'mnada', 'wa', 'chai', 'wa', 'Mombasa', '.', '“', 'Tuko', 'na', 'shida', 'na', 'soko', 'la', 'mnada', 'la', 'chai', 'Mombasa', 'hasa', 'kuhusu', 'uamuzi', 'wa', 'gredi', 'ya', 'chai', 'unaofanywa', 'kwa', 'kuonja', 'chai', 'kubaini', 'ubora', 'wa', 'zao', '.', 'Lakini', 'kwa', 'kuwa', 'hakuzingatii', 'mbinu', 'za', 'kisayansi', ',', 'kumekuwa', 'na', 'mzozo', 'mwingi', 'kuuhusu', ',', 'unaohitaji', 'kurekebishwa', ',', '”', 'Dkt', 'Mutai', 'alisema', '.', 'Alidai', 'kwamba', 'wakulima', 'wa', 'mashamba', 'madogo', 'ya', 'chai', 'katika', 'eneo', 'hilo', 'wamekuwa', 'wakipunjwa', 'kwa', 'miaka', 'mingi', 'kupitia', 'mbinu', 'hiyo', 'na', 'wamekuwa', 'wakiomba', 'ibadilishwe', 'bila', 'mafanikio', '.', 'Alisema', 'kuanzishwa', 'kwa', 'mnada', 'mpya', 'katika', 'eneo', 'hilo', ',', 'kutasaidia', 'kutatua', 'suala', 'hilo', '.', '“', 'Mombasa', 'ni', 'mnada', 'wa', 'kikoloni', 'wa', 'chai', 'ambao', 'shughuli', 'zake', 'zinahitaji', 'kunyooshwa', '.', 'Kuendelea', 'mbele', ',', 'tutashirikiana', 'na', 'kaunti', 'za', 'Kericho', ',', 'Bomet', 'na', 'Nandi', 'kushinikiza', 'kuanzishwa', 'kwa', 'mnada', 'wa', 'chai', 'katika', 'eneo', 'la', 'Kusini', 'mwa', 'Bonde', 'la', 'Ufa', ',', '”', 'alisema', 'Dkt', 'Mutai', '.', 'Alisema', 'serikali', 'za', 'kaunti', 'zitaajiri', 'maafisa', 'zaidi', 'wa', 'kilimo', 'ambao', 'kazi', 'yao', 'hasa', 'itakuwa', 'kusaidia', 'wakulima', 'wa', 'mashamba', 'madogo', 'kukumbatia', 'mbinu', 'za', 'kisasa', 'cha', 'kilimo', 'ambazo', 'zitachochea', 'uzalishaji', 'kuongezeka', '.', '“', 'Kilimo', 'kikiwa', 'jukumu', 'lililogatuliwa', ',', 'serikali', 'za', 'kaunti', 'zinafaa', 'kusaidia', 'wakulima', 'kupata', 'aina', 'bora', 'za', 'mbegu', 'za', 'chai', 'na', 'kutumia', 'mbinu', 'bora', 'ili', 'waweze', 'kupata', 'faida', 'kutoka', 'kwa', 'uwekezaji', 'wao', ',', '”', 'alisema', 'Dkt', 'Mutai', '.', 'Chini', 'ya', 'sheria', 'ya', 'Chai', 'ya', '2020', ',', 'Serikali', 'ya', 'Kitaifa', 'imeanzisha', 'mageuzi', 'katika', 'mnada', 'wa', 'chai', 'Mombasa', 'na', 'kuweka', 'bei', 'za', 'chini', 'za', 'kilo', 'moja', 'ya', 'chai', '.', 'Waziri', 'wa', 'Kilimo', ',', 'Bw', 'Peter', 'Munya', ',', 'amesema', 'kuwa', 'serikali', 'inafuatilia', 'soko', 'na', 'kwamba', 'itahahakikisha', 'wakulima', 'hawapunjwi', '.', 'Baadhi', 'ya', 'sehemu', 'za', 'Sheria', 'ya', 'Chai', 'hata', 'hivyo', 'zimesimamishwa', 'na', 'Mahakama', 'Kuu', 'Mombasa', ',', 'Nairobi', 'na', 'Bomet', ',', 'hasa', 'kuhusiana', 'na', 'uuzaji', 'wa', 'moja', 'kwa', 'moja', 'wa', 'zao', 'hilo', ',', 'huku', 'sheria', 'hizo', 'mpya', 'zikifunga', 'wadau', 'kuuza', 'kupitia', 'mnada', 'wa', 'chai', 'wa', 'Mombasa', '.', 'Kampuni', 'kubwa', 'za', 'kimataifa', 'za', 'chai', 'chini', 'ya', 'chama', 'cha', 'Wakuzaji', 'wa', 'Cha', 'Kenya', '(', 'KTGA', ')', ',', 'zimeomba', 'serikali', 'kubadilisha', 'sehemu', 'tata', 'za', 'sheria', 'hiyo', 'ambazo', 'zinasema', 'ni', 'kinyume', 'cha', 'mbinu', 'bora', 'za', 'biashara', '.', 'Kanisa', 'lajitenga', 'na', 'mwanamume', 'anayedaiwa', 'kuwachoma', 'wavulana', '3', 'KANISA', 'la', 'Deliverance', 'limekanusha', 'kuwa', 'mwanamume', 'aliyedaiwa', 'kuwachoma', 'wavulana', 'watatu', 'wa', 'shule', 'kwa', 'kushukiwa', 'kuiba', 'keki', 'za', 'Sh80', ',', 'alikuwa', 'ni', 'mmoja', 'wa', 'wachungaji', 'wake', '.', 'Tukio', 'hilo', 'liliripotiwa', 'katika', 'kijiji', 'cha', 'Kaptimbor', ',', 'viungani', 'kwa', 'mji', 'wa', 'Kabarnet', ',', 'Kaunti', 'ya', 'Baringo', 'wiki', 'iliyopita', '.', 'Msimamizi', 'wa', 'kanisa', 'hilo', 'eneo', 'la', 'Kerio', ',', 'Padre', 'John', 'Sawe', ',', 'alisema', 'kwamba', 'mshukiwa', 'kwa', 'jina', 'Joseph', 'Mduma', ',', 'hakuwa', 'pasta', 'bali', 'mshirika', ',', 'kabla', 'ya', 'kuhama', 'kanisa', 'hilo', '.', 'Hata', 'hivyo', ',', 'Bw', 'Sawe', 'alithibitisha', 'kisa', 'hicho', 'akisema', 'kuwa', 'adhabu', 'iliyopatiwa', 'wavulana', 'hao', 'ilikuwa', 'ya', 'kinyama', 'na', 'kinyume', 'cha', 'mafunzo', 'ya', 'kanisa', 'hilo', '.', '“', 'Tumehuzunishwa', 'na', 'ripoti', 'kwamba', 'baadhi', 'ya', 'wavulana', 'walichomwa', 'kwa', 'madai', 'ya', 'wizi', 'na', 'tunalaani', 'vikali', 'kisa', 'hicho', ',', '”', 'alisema', '.', 'Mshukiwa', '“', 'Mshukiwa', ',', 'anayetajwa', 'kuwa', 'pasta', 'sio', 'mmoja', 'wetu', 'kamwe', '.', 'Alikuwa', 'mshiriki', 'katika', 'kanisa', 'letu', 'zamani', 'kabla', 'ya', 'kuhama', '.', 'Viongozi', 'wote', 'wa', 'makanisa', 'yetu', 'wako', 'na', 'vitambulisho', 'na', 'wanajulikana', 'na', 'umma', ',', '”', 'alisema', 'Padri', 'Sawe', '.', 'Alisema', 'kwamba', 'kanisa', 'la', 'Deliverance', 'lina', 'utaratibu', 'wake', 'na', 'mapasta', 'wake', 'wana', 'maadili', '.', '“', 'Aliyekuwa', 'akionyeshwa', 'katika', 'vyombo', 'vya', 'habari', 'si', 'pasta', 'wa', 'kanisa', 'letu', 'la', 'Kabarnet', 'na', 'hatuko', 'na', 'tawi', 'lingine', 'katika', 'mji', 'huo', ',', '”', 'alisema', '.', 'Pasta', 'Henry', 'Kipng', '’', 'ok', 'wa', 'kanisa', 'la', 'Deliverance', 'mjini', 'Kabarnet', ',', 'alisema', 'kwamba', 'wana', 'utaratibu', 'wa', 'kutawaza', 'mapasta', ',', 'na', 'akaongeza', 'kuwa', 'Bw', 'Mduma', 'alikuwa', 'tu', 'mcheza', 'piano', 'katika', 'kanisa', 'hilo', 'kabla', 'ya', 'kuhama', '.', 'Utaratibu', 'wa', 'kanisa', '“', 'Huwa', 'tunatawaza', 'mapasta', 'wetu', 'na', 'mwanamume', 'anayedaiwa', 'kuwa', 'pasta', 'katika', 'kanisa', 'hili', 'alikuwa', 'tu', 'mcheza', 'piano', 'miaka', 'iliyopita', 'na', 'akatoweka', '.', 'Tunataka', 'kuambia', 'ulimwengu', 'kwamba', 'si', 'pasta', 'wa', 'kanisa', 'letu', 'inavyodaiwa', '.', 'Vyombo', 'vya', 'habari', 'vinafaa', 'kukoma', 'kupaka', 'tope', 'kanisa', 'la', 'Deliverance', 'kwa', 'kuwa', 'tuko', 'na', 'jina', 'ambalo', 'tumejenga', 'kwa', 'miaka', 'mingi', ',', '”', 'akasema', 'Bw', 'Kipng', '’', 'ok', '.', 'Mshukiwa', 'huyo', 'pamoja', 'na', 'mwenzake', 'Daniel', 'Cherop', ',', 'ambaye', 'ni', 'mwajiriwa', 'wake', ',', 'wanalaumiwa', 'kwa', 'kuchoma', 'wavulana', 'watatu', 'kwa', 'madai', 'waliiba', 'pakiti', 'ya', 'keki', 'ya', 'Sh80', 'kutoka', 'duka', 'lake', 'Jumanne', 'usiku', '.', 'Inadaiwa', 'kuwa', 'wawili', 'hao', 'pamoja', 'na', 'mshukiwa', 'mwingine', 'ambaye', 'anasakwa', ',', 'waliwachoma', 'watoto', 'hao', 'miguu', '.', 'Wavulana', 'hao', 'wanatibiwa', 'katika', 'hospitali', 'ya', 'Rufaa', 'ya', 'Kaunti', 'ya', 'Baringo', 'wakiwa', 'na', 'majeraha', 'mabaya', 'ya', 'moto', '.', 'Viongozi', 'wa', 'South', 'Rift', 'wataka', 'mnada', 'wa', 'chai', 'eneo', 'hilo', 'VIONGOZI', 'wa', 'Kusini', 'mwa', 'Bonde', 'la', 'Ufa', ',', 'wamefufua', 'wito', 'wa', 'kuwa', 'na', 'mnada', 'wa', 'chai', 'katika', 'eneo', 'hilo', ',', 'linalozalisha', 'zao', 'hilo', 'kwa', 'wingi', 'nchini', '.', 'Viongozi', 'hao', 'miongoni', 'mwao', 'Gavana', 'wa', 'Kericho', 'Paul', 'Chepkwony', ',', 'mwenzake', 'wa', 'Bomet', 'Dkt', 'Hillary', 'Barchok', 'na', 'mwaniaji', 'wa', 'ugavana', 'kaunti', 'ya', 'Kericho', 'kwa', 'tikiti', 'ya', 'chama', 'cha', 'United', 'Democratic', 'Alliance', '(', 'UDA', ')', ',', 'Dkt', 'Erick', 'Mutai', ',', 'wanasema', 'kwamba', 'kuanzishwa', 'kwa', 'mnada', 'katika', 'eneo', 'hilo', 'kutapatia', 'ushindani', 'ule', 'wa', 'chai', 'wa', 'Mombasa', 'ambao', 'unashughulikia', 'kanda', 'nzima', '.', 'Nchi', 'wanachama', 'wa', 'Jumuiya', 'ya', 'Afrika', 'Mashariki', '(', 'EAC', ')', 'Kenya', ',', 'Tanzania', ',', 'Uganda', 'na', 'Rwanda', 'huuza', 'chai', 'yao', 'kupitia', 'mnada', 'wa', 'chai', 'wa', 'Mombasa', '.', '“', 'Tuko', 'na', 'shida', 'na', 'soko', 'la', 'mnada', 'la', 'chai', 'Mombasa', 'hasa', 'kuhusu', 'uamuzi', 'wa', 'gredi', 'ya', 'chai', 'unaofanywa', 'kwa', 'kuonja', 'chai', 'kubaini', 'ubora', 'wa', 'zao', '.', 'Lakini', 'kwa', 'kuwa', 'hakuzingatii', 'mbinu', 'za', 'kisayansi', ',', 'kumekuwa', 'na', 'mzozo', 'mwingi', 'kuuhusu', ',', 'unaohitaji', 'kurekebishwa', ',', '”', 'Dkt', 'Mutai', 'alisema', '.', 'Alidai', 'kwamba', 'wakulima', 'wa', 'mashamba', 'madogo', 'ya', 'chai', 'katika', 'eneo', 'hilo', 'wamekuwa', 'wakipunjwa', 'kwa', 'miaka', 'mingi', 'kupitia', 'mbinu', 'hiyo', 'na', 'wamekuwa', 'wakiomba', 'ibadilishwe', 'bila', 'mafanikio', '.', 'Alisema', 'kuanzishwa', 'kwa', 'mnada', 'mpya', 'katika', 'eneo', 'hilo', ',', 'kutasaidia', 'kutatua', 'suala', 'hilo', '.', '“', 'Mombasa', 'ni', 'mnada', 'wa', 'kikoloni', 'wa', 'chai', 'ambao', 'shughuli', 'zake', 'zinahitaji', 'kunyooshwa', '.', 'Kuendelea', 'mbele', ',', 'tutashirikiana', 'na', 'kaunti', 'za', 'Kericho', ',', 'Bomet', 'na', 'Nandi', 'kushinikiza', 'kuanzishwa', 'kwa', 'mnada', 'wa', 'chai', 'katika', 'eneo', 'la', 'Kusini', 'mwa', 'Bonde', 'la', 'Ufa', ',', '”', 'alisema', 'Dkt', 'Mutai', '.', 'Alisema', 'serikali', 'za', 'kaunti', 'zitaajiri', 'maafisa', 'zaidi', 'wa', 'kilimo', 'ambao', 'kazi', 'yao', 'hasa', 'itakuwa', 'kusaidia', 'wakulima', 'wa', 'mashamba', 'madogo', 'kukumbatia', 'mbinu', 'za', 'kisasa', 'cha', 'kilimo', 'ambazo', 'zitachochea', 'uzalishaji', 'kuongezeka', '.', '“', 'Kilimo', 'kikiwa', 'jukumu', 'lililogatuliwa', ',', 'serikali', 'za', 'kaunti', 'zinafaa', 'kusaidia', 'wakulima', 'kupata', 'aina', 'bora', 'za', 'mbegu', 'za', 'chai', 'na', 'kutumia', 'mbinu', 'bora', 'ili', 'waweze', 'kupata', 'faida', 'kutoka', 'kwa', 'uwekezaji', 'wao', ',', '”', 'alisema', 'Dkt', 'Mutai', '.', 'Chini', 'ya', 'sheria', 'ya', 'Chai', 'ya', '2020', ',', 'Serikali', 'ya', 'Kitaifa', 'imeanzisha', 'mageuzi', 'katika', 'mnada', 'wa', 'chai', 'Mombasa', 'na', 'kuweka', 'bei', 'za', 'chini', 'za', 'kilo', 'moja', 'ya', 'chai', '.', 'Waziri', 'wa', 'Kilimo', ',', 'Bw', 'Peter', 'Munya', ',', 'amesema', 'kuwa', 'serikali', 'inafuatilia', 'soko', 'na', 'kwamba', 'itahahakikisha', 'wakulima', 'hawapunjwi', '.', 'Baadhi', 'ya', 'sehemu', 'za', 'Sheria', 'ya', 'Chai', 'hata', 'hivyo', 'zimesimamishwa', 'na', 'Mahakama', 'Kuu', 'Mombasa', ',', 'Nairobi', 'na', 'Bomet', ',', 'hasa', 'kuhusiana', 'na', 'uuzaji', 'wa', 'moja', 'kwa', 'moja', 'wa', 'zao', 'hilo', ',', 'huku', 'sheria', 'hizo', 'mpya', 'zikifunga', 'wadau', 'kuuza', 'kupitia', 'mnada', 'wa', 'chai', 'wa', 'Mombasa', '.', 'Kampuni', 'kubwa', 'za', 'kimataifa', 'za', 'chai', 'chini', 'ya', 'chama', 'cha', 'Wakuzaji', 'wa', 'Cha', 'Kenya', '(', 'KTGA', ')', ',', 'zimeomba', 'serikali', 'kubadilisha', 'sehemu', 'tata', 'za', 'sheria', 'hiyo', 'ambazo', 'zinasema', 'ni', 'kinyume', 'cha', 'mbinu', 'bora', 'za', 'biashara', '.']\n",
      "\n",
      " Number of Words:  1664\n"
     ]
    }
   ],
   "source": [
    "file=\"22may30.txt\"\n",
    "\n",
    "# calling the function and storing the contents in a text variable \n",
    "text1 = get_document(\"https://taifaleo.nation.co.ke/kanisa-lajitenga-na-mwanamume-anayedaiwa-kuwachoma-wavulana-3/\")\n",
    "text2 = get_document(\"https://taifaleo.nation.co.ke/viongozi-wa-south-rift-wataka-mnada-wa-chai-eneo-hilo/\")\n",
    "\n",
    "# calling the store_ document function \n",
    "store_document(doc=text1,name=file)\n",
    "store_document(doc=text2,name=file)\n",
    "\n",
    "#add the words in this file to the total_corpus_words, to keep count of the number of words in the corpus\n",
    "total_corpus_words+=total_words(file)"
   ]
  },
  {
   "cell_type": "code",
   "execution_count": 166,
   "metadata": {},
   "outputs": [
    {
     "data": {
      "text/plain": [
       "482146"
      ]
     },
     "execution_count": 166,
     "metadata": {},
     "output_type": "execute_result"
    }
   ],
   "source": [
    "total_corpus_words"
   ]
  },
  {
   "cell_type": "code",
   "execution_count": 169,
   "metadata": {},
   "outputs": [
    {
     "name": "stdout",
     "output_type": "stream",
     "text": [
      "['Mvutano', 'wa', 'Haji', 'na', 'Kinoti', 'kufaa', 'wahalifu', 'WAKENYA', 'wako', 'katika', 'hatari', 'ya', 'kukosa', 'haki', 'kortini', 'kutokana', 'na', 'vita', 'vya', 'ubabe', 'kati', 'ya', 'Mkurugenzi', 'wa', 'Mashtaka', 'ya', 'Umma', '(', 'DPP', ')', 'Noordin', 'Haji', 'na', 'mwenzake', 'wa', 'Idara', 'ya', 'Uchunguzi', 'wa', 'Uhalifu', '(', 'DCI', ')', 'George', 'Kinoti', '.', 'Bw', 'Kinoti', 'tayari', 'amepiga', 'marufuku', 'maafisa', 'wake', 'kuchukua', 'maelezo', 'kutoka', 'kwa', 'washukiwa', 'au', 'kutoa', 'ushahidi', 'kortini', '.', 'Mkuu', 'wa', 'DCI', 'pia', 'ameagiza', 'maafisa', 'wake', 'kutochukua', 'alama', 'za', 'vidole', 'vya', 'washukiwa', '.', 'Uhasama', 'kati', 'ya', 'Mabw', 'Haji', 'na', 'Bw', 'Kinoti', 'umechochewa', 'zaidi', 'na', 'uamuzi', 'uliotolewa', 'na', 'Mahakama', 'Kuu', 'siku', 'ya', 'Jumatatu', 'wiki', 'iliyopita', 'ambapo', 'maafisa', 'wa', 'polisi', 'walipigwa', 'marufuku', 'kutayarisha', 'na', 'kutia', 'saini', 'hati', 'za', 'mashtaka', '.', 'Jaji', 'Anthony', 'Mrima', 'alisema', 'kuwa', 'hati', 'za', 'mashtaka', 'zilizoandaliwa', 'na', 'maafisa', 'wa', 'polisi', 'ni', 'haramu', 'na', 'hazitakubalika', 'mahakamani', 'tena', '.', 'Mahakama', 'itakubali', 'hati', 'za', 'mashtaka', 'zilizoandaliwa', 'na', 'waendesha', 'mashtaka', 'kutoka', 'afisi', 'ya', 'DPP', '.', '“', 'Kifungu', 'cha', '157', '(', '9', ')', 'cha', 'Katiba', 'kimempa', 'DPP', 'mamlaka', 'ya', 'kuandaa', 'hati', 'za', 'mashtaka', 'na', 'wala', 'si', 'polisi', ',', '”', 'akasema', '.', 'Jaji', 'Mrima', 'alisema', 'kuwa', 'Idara', 'ya', 'Polisi', ',', 'Tume', 'ya', 'Maadili', 'na', 'Kukabili', 'Ufisadi', '(', 'EACC', ')', ',', 'Tume', 'ya', 'Kitaifa', 'kuhusu', 'Haki', 'za', 'Kibinadamu', '(', 'KNCHR', ')', ',', 'Mamlaka', 'ya', 'Ushuru', '(', 'KRA', ')', 'na', 'taasisi', 'nyinginezo', 'za', 'serikali', 'zilizopewa', 'majukumu', 'ya', 'kuchunguza', 'uhalifu', ',', 'hazijapewa', 'mamlaka', 'ya', 'kutayarisha', 'hati', 'za', 'mashtaka', '.', '“', 'Afisa', 'kutoka', 'ofisi', 'ya', 'DPP', 'ambaye', 'atatayarisha', 'hati', 'ya', 'mashtaka', 'ndiye', 'atajitwika', 'jukumu', 'la', 'kurekodi', 'maelezo', 'kutoka', 'kwa', 'walalamishi', 'na', 'washukiwa', 'na', 'kisha', 'kuyatetea', 'kortini', ',', '”', 'akasema', 'Bw', 'Kinoti', 'kupitia', 'barua', 'yake', 'kwa', 'maafisa', 'wote', 'wa', 'DCI', '.', 'Bw', 'Kinoti', 'anasema', 'kuwa', 'jukumu', 'la', 'kuandaa', 'hati', 'ya', 'mashtaka', 'limekuwa', 'la', 'idara', 'ya', 'polisi', 'chini', 'ya', 'Sheria', 'ya', 'Idara', 'ya', 'Polisi', 'na', 'Kanuni', 'za', 'Kupambana', 'na', 'Uhalifu', '.', 'Agizo', 'hilo', 'la', 'Bw', 'Kinoti', 'linamaanisha', 'kuwa', 'washukiwa', 'sasa', 'hawataandikisha', 'taarifa', 'katika', 'vituo', 'vya', 'polisi', 'wanapokamatwa', '.', 'Aidha', ',', 'inamaanisha', 'kuwa', 'kazi', 'ya', 'polisi', 'itakuwa', 'kukamata', 'washukiwa', 'na', 'kusubiri', 'maafisa', 'wa', 'DPP', 'kuanzisha', 'mchakato', 'wa', 'kuwafikisha', 'mahakamani', '.', 'Kuna', 'uwezekano', 'wa', 'wahalifu', 'kuachiliwa', 'huru', 'na', 'polisi', 'baada', 'ya', 'kukaa', 'katika', 'vituo', 'kwa', 'zaidi', 'ya', 'saa', '24', 'bila', 'kupelekwa', 'kortini', '.', 'Bw', 'Kinoti', 'amemtaka', 'Jaji', 'Mkuu', 'Martha', 'Koome', 'na', 'Mkuu', 'wa', 'Sheria', 'Kihara', 'Kariuki', 'kuingilia', 'kati', 'kumaliza', 'mvutano', 'huo', 'ambao', 'unatishia', 'Wakenya', 'kupata', 'haki', 'mahakamani', '.', 'Uhasama', 'kati', 'ya', 'Mabw', 'Kinoti', 'na', 'Haji', 'pia', 'umeibuka', 'kuhusu', 'mwongozo', 'uliotolewa', 'na', 'DPP', 'kuhusu', 'jinsi', 'ya', 'kukabili', 'ugaidi', '.', 'Bw', 'Kinoti', 'ameshikilia', 'kuwa', 'hakushauriwa', 'na', 'DPP', 'wakati', 'wa', 'kuandaa', 'mwongozo', 'huo', '.', 'Tume', 'yatishia', 'kutorejeshea', 'Malala', 'ulinzi', 'wa', 'polisi', 'TUME', 'ya', 'Huduma', 'za', 'Polisi', 'nchini', '(', 'NPSC', ')', 'imemfokea', 'seneta', 'wa', 'Kakamega', ',', 'Cleopas', 'Malala', 'na', 'kuapa', 'kutomrudishia', 'maafisa', 'wa', 'polisi', 'wa', 'kumlinda', 'hadi', 'pale', 'atakapojitokeza', 'wazi', 'kuomba', 'msamaha', 'halali', 'kwa', 'idara', 'ya', 'polisi', '.', 'Seneta', 'Malala', ',', 'ambaye', 'anawania', 'kiti', 'cha', 'ugavana', 'Kakamega', 'kwa', 'tiketi', 'ya', 'UDA', ',', 'alijipata', 'pabaya', 'alipodai', 'kuwa', 'kazi', 'ya', 'polisi', 'haihitaji', 'kisomo', '.', 'Shinikizo', 'kutoka', 'kwa', 'umma', 'ilimlazimu', 'kuomba', 'msamaha', 'kwa', 'idara', 'ya', 'usalama', '.', 'Kwa', 'mujibu', 'wa', 'Bw', 'Kinuthia', ',', 'Seneta', 'Malala', 'alifaa', 'kuelekeza', 'msamaha', 'wake', 'kwa', 'polisi', 'aliowadhalilisha', 'kimatamshi', 'na', 'wala', 'si', 'kwa', 'idara', 'ya', 'usalama', 'kwa', 'jumla', '.', 'Bw', 'Kinuthia', 'alisema', 'tayari', 'amejadiliana', 'na', 'Inspekta', 'Jenerali', 'wa', 'Polisi', ',', 'Bw', 'Hilary', 'Mutyambai', ',', 'na', 'kwamba', 'Bw', 'Malala', 'katu', 'hatapewa', 'maafisa', 'wa', 'polisi', 'kumlinda', 'hadi', 'pale', 'atakapokubali', 'kuomba', 'msamaha', 'maalum', 'na', 'wa', 'moja', 'kwa', 'moja', 'kwa', 'polisi', '.', 'Alisema', 'yeye', 'kama', 'Mwenyekiti', 'wa', 'huduma', 'za', 'polisi', 'hawezi', 'kutoa', 'ulinzi', 'kwa', 'watu', 'ambao', 'hawaheshimu', 'kitengo', 'hicho', '.', 'Alitilia', 'shaka', 'pia', 'kasi', 'iliyotumiwa', 'kupeana', 'kandarasi', 'hiyo', 'katika', 'mwaka', 'wa', 'kifedha', 'wa', '2020/2021', 'kwa', 'kampuni', 'ya', 'Trans', 'Border', 'Enterprises', 'bila', 'kutangazwa', '.', 'Alipofika', 'mbele', 'ya', 'Kamati', 'ya', 'Uhasibu', 'wa', 'Umma', '(', 'PAC', ')', 'akiandamana', 'na', 'Bi', 'Kwekwe', ',', 'Kamishna', 'Mkuu', 'wa', 'Huduma', 'za', 'Magereza', 'ya', 'Kenya', ',', 'Brigedia', 'Mstaafu', 'John', 'Warioba', ',', 'alikiri', 'kuwa', 'kuporomoka', 'kwa', 'ukuta', 'huo', 'ilikuwa', 'suala', 'zito', 'lililohitaji', 'kuingiliwa', 'kati', 'na', 'Baraza', 'la', 'Kitaifa', 'la', 'usalama', '(', 'NSC', ')', '.', 'Baraza', 'hilo', 'huongozwa', 'na', 'Rais', 'Uhuru', 'Kenyatta', '.', 'Bi', 'Kwekwe', 'alikuwa', 'ametarajiwa', 'kuwa', 'mgombea', 'mwenza', 'wa', 'Prof', 'Hamadi', 'Boga', ',', 'kwa', 'shindano', 'la', 'ugavana', 'Kwale', 'lakini', 'akafichua', 'kuwa', 'barua', 'yake', 'ya', 'kujiuzulu', 'serikalini', 'ilikataliwa', '.', 'Kulingana', 'naye', ',', 'wakubwa', 'wake', 'katika', 'idara', 'hiyo', 'iliyo', 'chini', 'ya', 'Wizara', 'ya', 'Usalama', 'wa', 'Nchi', 'inayosimamiwa', 'na', 'Waziri', 'Fred', 'Matiang', '’', 'i', ',', 'walimwambia', 'kuna', 'masuala', 'aliyohitajika', 'kukamilisha', 'katika', 'idara', 'yake', '.', 'Hata', 'hivyo', ',', 'hakubainisha', 'ni', 'masuala', 'yapi', 'hasa', '.', 'Stakabadhi', 'zilizowasilishwa', 'na', 'Bi', 'Kwekwe', 'kuhusu', 'kandarasi', 'hiyo', 'tatanishi', 'zilionyesha', 'kuwa', ',', 'cheti', 'cha', 'kwanza', 'cha', 'malipo', 'ya', 'Sh16.95', 'milioni', 'ilitolewa', 'Mei', '5', ',', '2017', 'na', 'ya', 'pili', 'ya', 'Sh4.97', 'milioni', 'ikatolewa', 'Julai', '2', ',', '2017', '.', 'Malipo', 'ya', 'tatu', 'ya', 'Sh2.64', 'yalitolewa', 'Oktoba', '10', ',', '2017', 'mkandarasi', 'akalipwa', 'Juni', '26', ',', '2018', '.', '“', 'Baadaye', 'iliripotiwa', 'kuwa', ',', 'mnamo', 'Julai', '24', ',', '2018', ',', 'mita', '95', 'za', 'ukuta', 'uliporomoka', 'na', 'kusababisha', 'majeraha', 'kwa', 'mlinzi', 'mmoja', ',', '”', 'ripoti', 'ya', 'mhasibu', 'ikasema', '.', 'Stakabadhi', 'zinaonyesha', 'kuwa', ',', 'kitengo', 'cha', 'magereza', 'kilitilia', 'shaka', 'mara', 'kwa', 'mara', 'ujenzi', 'ulivyokuwa', 'ukifanywa', 'lakini', 'hakuna', 'hatua', 'zilizochukuliwa', 'na', 'idara', 'ya', 'urekebishaji', 'tabia', 'wala', 'idara', 'ya', 'ujenzi', 'wa', 'miundomsingi', 'ya', 'umma', '.', 'Hali', 'hii', 'ilipelekea', 'mita', 'nyingine', '130', 'za', 'ukuta', 'kubomoka', 'mnamo', 'Julai', '25', ',', 'mwaka', 'uliopita', '.', 'Bi', 'Kwekwe', 'alikiri', 'idara', 'yake', 'ilikosea', 'kwa', 'kupeana', 'kandarasi', 'bila', 'kufuata', 'kanuni', 'lakini', 'akaahidi', 'kujitolea', 'kufuata', 'kanuni', 'katika', 'siku', 'za', 'usoni', '.', '“', 'Nilichoarifiwa', 'na', 'wenzangu', 'ni', 'kuwa', 'gereza', 'hilo', 'lina', 'wafungwa', 'hatari', 'sana', 'ilhali', 'kulikuwa', 'na', 'ukuta', 'mmoja', 'pekee', ',', '”', 'akasema', ',', 'akieleza', 'sababu', 'za', 'kuharakisha', 'utoaji', 'wa', 'kandarasi', '.', 'Mwenyekiti', 'wa', 'PAC', ',', 'Bw', 'Opiyo', 'Wandayi', ',', 'ambaye', 'pia', 'ni', 'Mbunge', 'wa', 'Ugunja', ',', 'alisema', 'ushahidi', 'uliopokewa', 'kufikia', 'sasa', 'waashiria', 'kuna', 'sakata', 'iliyolenga', 'kufuja', 'mali', 'za', 'umma', '.', '“', 'Hapakuwa', 'na', 'nia', 'yoyote', 'ya', 'kujenga', 'ukuta', 'kwa', 'maslahi', 'ya', 'usalama', 'wa', 'nchi', ',', 'bali', 'hii', 'ilikuwa', 'ni', 'njia', 'ya', 'kusaidia', 'watu', 'kadha', 'kupata', 'pesa', ',', '”', 'akasema', 'Bw', 'Wandayi', '.', 'Kamati', 'iliambiwa', 'kuwa', ',', 'maafisa', 'wa', 'idara', 'ya', 'ujenzi', 'wa', 'miundomsingi', 'ya', 'umma', 'kutoka', 'Pwani', 'hawakuhusika', 'katika', 'ujenzi', 'wa', 'ukuta', 'huo', 'na', 'wale', 'waliohusishwa', 'walitoka', 'Nairobi', '.', 'Mbunge', 'wa', 'Suna', 'Magharibi', ',', 'Bw', 'Peter', 'Masara', ',', 'alitilia', 'shaka', 'maelezo', 'kwamba', 'utoaji', 'wa', 'kandarasi', 'uliharakishwa', 'kwa', 'vile', 'ukuta', 'huo', 'ni', 'muhimu', 'kwa', 'usalama', 'wa', 'nchi', ',', 'akiuliza', 'kwa', 'nini', 'haikuchukuliwa', 'kwa', 'uzito', 'uo', 'huo', 'wakati', 'ukuta', 'ulipoporomoka', '.']\n",
      "\n",
      " Number of Words:  1038\n"
     ]
    }
   ],
   "source": [
    "file=\"22may31.txt\"\n",
    "\n",
    "# calling the function and storing the contents in a text variable \n",
    "text1 = get_document(\"https://taifaleo.nation.co.ke/mvutano-wa-haji-na-kinoti-kufaa-wahalifu/\")\n",
    "text2 = get_document(\"https://taifaleo.nation.co.ke/tume-yatishia-kutorejeshea-malala-ulinzi-wa-polisi/\")\n",
    "text3 = get_document(\"https://taifaleo.nation.co.ke/kwekwe-abanwa-kuhusu-ukuta-wa-sh24-9-milioni/\")\n",
    "\n",
    "# calling the store_ document function \n",
    "store_document(doc=text1,name=file)\n",
    "store_document(doc=text2,name=file)\n",
    "store_document(doc=text3,name=file)\n",
    "\n",
    "#add the words in this file to the total_corpus_words, to keep count of the number of words in the corpus\n",
    "total_corpus_words+=total_words(file)"
   ]
  },
  {
   "cell_type": "code",
   "execution_count": 170,
   "metadata": {},
   "outputs": [
    {
     "data": {
      "text/plain": [
       "483184"
      ]
     },
     "execution_count": 170,
     "metadata": {},
     "output_type": "execute_result"
    }
   ],
   "source": [
    "total_corpus_words"
   ]
  },
  {
   "cell_type": "code",
   "execution_count": 179,
   "metadata": {},
   "outputs": [
    {
     "name": "stdout",
     "output_type": "stream",
     "text": [
      "['Raila', 'akosa', 'fursa', 'kuhutubu', 'kama', 'hafla', 'za', 'awali', 'MGOMBEAJI', 'urais', 'wa', 'muungano', 'wa', 'Azimio', 'La', 'Umoja-One', 'Kenya', ',', 'Bw', 'Raila', 'Odinga', ',', 'Jumatano', 'alinyimwa', 'nafasi', 'ya', 'kuhutubu', 'wakati', 'wa', 'sherehe', 'za', 'Sikukuu', 'ya', 'Madaraka', ',', 'katika', 'bustani', 'ya', 'Uhuru', ',', 'Nairobi', ',', 'licha', 'ya', 'kuwarai', 'wafuasi', 'wake', 'kujitokeza', 'kwa', 'wingi', 'kuhudhuria', 'hafla', 'hiyo', '.', 'Rais', 'Kenyatta', 'asema', 'serikali', 'yake', 'imeboresha', 'sekta', 'ya', 'ICT', 'MADARAKA', 'Dei', '2022', 'ilikuwa', 'hafla', 'ya', 'mwisho', 'ya', 'kitaifa', 'kwa', 'Rais', 'Uhuru', 'Kenyatta', 'akikamilisha', 'kipindi', 'chake', 'cha', 'uongozi', '.', 'Akiwa', 'rais', 'wa', 'nne', 'wa', 'Jamhuri', 'ya', 'Kenya', ',', 'amehudumu', 'mihula', 'miwili', 'kati', 'ya', '2013', '–', '2022', ',', 'akisaidiwa', 'na', 'naibu', 'wake', ',', 'William', 'Ruto', '.', 'Wawili', 'hao', 'licha', 'ya', 'kuwa', 'kwa', 'sasa', 'wanatofautiana', 'kisiasa', ',', 'walichaguliwa', 'kama', 'rais', 'na', 'naibu', ',', 'mtawalia', '.', 'Katika', 'maadhimisho', 'ya', 'Makala', 'ya', '59', 'ya', 'sherehe', 'za', 'Madaraka', ',', 'yaliyofanyika', 'Jumatano', 'Uhuru', 'Gardens', ',', 'jijini', 'Nairobi', ',', 'Rais', 'Kenyatta', 'alisifia', 'serikali', 'yake', 'ya', 'Jubilee', 'katika', 'kuboresha', 'sekta', 'ya', 'Habari', ',', 'Mawasiliano', 'na', 'Teknolojia', '(', 'ICT', ')', '.', 'Kiongozi', 'wa', 'nchi', 'alisema', 'ni', 'chini', 'ya', 'utawala', 'wake', ',', 'vituo', 'vya', 'runinga', 'viliongezeka', 'kutoka', '14', 'mwaka', '2013', 'hadi', '130', ',', 'na', 'redio', '204', ',', 'juu', 'kutoka', 'vituo', '130', ',', 'kupitia', 'uhamaji', 'wa', 'analogi', 'kuingia', 'mfumo', 'wa', 'kidijitali', '.', '“', 'Ni', 'hatua', 'ambayo', 'imesaidia', 'kubuni', 'nafasi', 'tele', 'za', 'ajira', ',', '”', 'Rais', 'akasema', '.', 'Kwenye', 'hotuba', 'yake', 'kwa', 'taifa', ',', 'Rais', 'Kenyatta', 'alisema', 'ni', 'kutokana', 'na', 'ukuaji', 'wa', 'ICT', ',', 'matumizi', 'ya', 'intaneti', 'yameboreka', 'kutoka', 'asilimia', '31.4', 'mwaka', '2013', 'hadi', 'asilimia', '93.9', 'mwaka', 'huu', ',', '2022', '.', 'Bw', 'Joe', 'Mucheru', 'ndiye', 'Waziri', 'wa', 'ICT', '.', '“', 'Isitoshe', ',', 'matumizi', 'ya', 'simu', 'za', 'rununu', 'yamekua', 'kutoka', 'asilimia', '74.9', 'mwaka', '2013', 'hadi', 'asilimia', '131', 'mwaka', 'huu', '.', 'Usambazaji', 'wa', 'pesa', 'kwa', 'njia', 'ya', 'simu', 'tamba', ',', 'umeongezeka', 'kutoka', 'Sh1.9', 'trilioni', 'hadi', 'Sh6.8', 'trilioni', ',', '”', 'Rais', 'Kenyatta', 'akaelezea', '.', 'Alisema', 'mipango', 'ya', 'serikali', 'kubuni', 'nafasi', 'za', 'ajira', 'kwa', 'njia', 'ya', 'mitandao', ',', 'imechangia', 'kuwepo', 'kwa', 'nafasi', 'za', 'kazi', 'karibu', 'milioni', 'moja', ',', 'ubunifu', 'wa', 'wananchi', 'ukiiweka', 'Kenya', 'katika', 'ramani', 'ya', 'ulimwengu', '.', 'Kupitia', 'mpango', 'wa', 'Ajira', 'Digital', ',', 'baadhi', 'ya', 'vijana', 'wanaendelea', 'kunufaika', 'kwa', 'mianya', 'mbalimbali', 'ya', 'kazi', '.', 'Rais', 'Kenyatta', 'alisisitiza', 'kwamba', 'atafurahia', 'kupata', 'mrithi', 'atakayeendeleza', 'mipango', 'na', 'miradi', 'ya', 'maendeleo', 'aliyoanzisha', '.', 'Katika', 'uchaguzi', 'mkuu', 'mwaka', 'huu', ',', 'Bw', 'Odinga', '(', 'ODM', ')', 'ambaye', 'amewahi', 'kuhudumu', 'kama', 'Waziri', 'Mkuu', 'chini', 'ya', 'utawala', 'wa', 'Rais', '(', 'mstaafu', ')', 'Mwai', 'Kibaki', ',', 'ambaye', 'ni', 'marehemu', ',', 'atapeperusha', 'bendera', 'ya', 'urais', 'akisaidiwa', 'na', 'mgombea', 'mwenza', 'Bi', 'Martha', 'Karua', '(', 'Narc-Kenya', ')', '.']\n",
      "\n",
      " Number of Words:  414\n"
     ]
    }
   ],
   "source": [
    "file=\"22jun2.txt\"\n",
    "\n",
    "# calling the function and storing the contents in a text variable \n",
    "text1 = get_document(\"https://taifaleo.nation.co.ke/raila-akosa-fursa-kuhutubu-kama-hafla-za-awali/\")\n",
    "text3 = get_document(\"https://taifaleo.nation.co.ke/rais-kenyatta-asema-serikali-yake-imeboresha-sekta-ya-ict/\")\n",
    "\n",
    "# calling the store_ document function \n",
    "store_document(doc=text1,name=file)\n",
    "store_document(doc=text3,name=file)\n",
    "\n",
    "#add the words in this file to the total_corpus_words, to keep count of the number of words in the corpus\n",
    "total_corpus_words+=total_words(file)"
   ]
  },
  {
   "cell_type": "code",
   "execution_count": 180,
   "metadata": {},
   "outputs": [
    {
     "data": {
      "text/plain": [
       "483598"
      ]
     },
     "execution_count": 180,
     "metadata": {},
     "output_type": "execute_result"
    }
   ],
   "source": [
    "total_corpus_words"
   ]
  },
  {
   "cell_type": "code",
   "execution_count": 182,
   "metadata": {},
   "outputs": [
    {
     "name": "stdout",
     "output_type": "stream",
     "text": [
      "['Bw', 'Njoroge', 'alilalamika', 'kuwa', ',', 'hatua', 'ya', 'kuongeza', 'ushuru', 'wa', 'pombe', 'itakuwa', 'pigo', 'kuu', 'kwa', 'sekta', 'ya', 'burudani', 'ambayo', 'iliathirika', 'zaidi', 'kutokana', 'na', 'janga', 'la', 'Covid-19', '.', 'Sekta', 'ya', 'burudani', 'inakadiria', 'hasara', 'ya', 'Sh19.8', 'bilioni', 'kila', 'mwaka', 'huku', 'idadi', 'ya', 'vilabu', 'nchini', 'ikipungua', 'hadi', '32,000', 'kutoka', '54,000', 'na', 'kusababisha', 'waajiriwa', 'wasiopungua', '110,000', 'kupoteza', 'kazi', ',', 'kulingana', 'na', 'Mwenyekiti', 'huyo', '.', 'BrighterMonday', 'yazindua', 'teknolojia', 'ya', 'kuwasaidia', 'waajiri', 'kupata', 'wafanyakazi', 'bora', 'JUKWAA', 'la', 'mtandao', 'la', 'kuchapisha', 'nafasi', 'za', 'kazi', 'la', 'BrighterMonday', ',', 'limezindua', 'teknolojia', 'mpya', 'inayowasaidia', 'waajiri', 'kupata', 'wafanyakazi', 'bora', 'walio', 'na', 'tajriba', 'na', 'uwezo', 'wa', 'kuimarisha', 'na', 'kufanikisha', 'biashara', 'na', 'kampuni', 'zao', '.', 'Teknolojia', 'hiyo', 'mpya', 'inasaidia', 'kupunguza', 'muda', 'wanaochukua', 'waajiri', 'kupata', 'wafanyakazi', 'waliohitimu', '.', 'Haya', 'yanafuata', 'mabadiliko', 'na', 'uvumbuzi', 'mbalimbali', 'katika', 'sekta', 'ya', 'ajira', '.', 'Teknolojia', 'hiyo', 'mpya', 'hurahisisha', 'mchakato', 'wa', 'kuajiri', 'kwa', 'gharama', 'nafuu', 'kwa', 'wakati', 'unaofaa', 'zaidi', 'ikilinganishwa', 'na', 'mbinu', 'za', 'jadi', 'za', 'kuajiri', '.', 'Kadhalika', ',', 'itasaidia', 'kuokoa', 'muda', 'na', 'pesa', 'wanazotumia', 'waajiri', 'hasa', 'katika', 'kuwachuja', 'wanaotafuta', 'kazi', 'jambo', 'ambalo', 'linapunguza', 'muda', 'unaochukuliwa', 'kwa', 'mchakato', 'wa', 'kuajiri', '.', 'Kwa', 'jumla', ',', 'waajiri', 'wataweza', 'kupata', 'wafanyakazi', 'bora', 'wenye', 'tajriba', 'wanaohitaji', 'katika', 'kampuni', 'au', 'biashara', 'lengwa', '.', 'Uzinduzi', 'huo', 'unakuja', 'wiki', 'chache', 'baada', 'ya', 'jukwaa', 'hilo', 'kutangazwa', 'kuwa', 'maarufu', 'na', 'lenye', 'kupendelewa', 'na', 'mamilioni', 'ya', 'wanaotafuta', 'ajira', '.', 'Akizungumza', 'mwishoni', 'mwa', 'mwezi', 'Mei', ',', 'mkuu', 'wa', 'idara', 'ya', 'mauzo', 'katika', 'kampuni', 'hiyo', 'Erick', 'Wilson', 'Wafula', 'alisema', 'kuwa', ',', 'kampuni', 'hiyo', 'itaendelea', 'kupanua', 'huduma', 'zake', 'ili', 'kuleta', 'pamoja', 'watu', 'wengi', 'zaidi', 'wanaotafuta', 'ajira', 'na', 'waajiri', '.', '“', 'Tuna', 'uwezo', 'wa', 'kuwezesha', 'waajiri', 'kupata', 'watu', 'waliona', 'tajriba', 'hitajika', 'ili', 'kuboresha', 'sekta', 'ya', 'ajira', 'nchini', '.', 'Waajiri', 'watapata', 'orodha', 'ya', 'majina', 'ya', 'watu', 'waliobobea', 'katika', 'sekta', 'hitajika', '.', 'Hii', 'itawawezesha', 'kuwaajiri', 'watu', 'waliona', 'uwezo', 'wa', 'kuwasaidia', 'kuendeleza', 'na', 'kuimarisha', 'kampuzi', 'zao', ',', '”', 'akasema', 'Bw', 'Wafula']\n",
      "\n",
      " Number of Words:  294\n"
     ]
    }
   ],
   "source": [
    "file=\"22jun3.txt\"\n",
    "\n",
    "# calling the function and storing the contents in a text variable \n",
    "text1 = get_document(\"https://taifaleo.nation.co.ke/ushuru-wenye-baa-wamtaka-ruto-aongee/\")\n",
    "text2 = get_document(\"https://taifaleo.nation.co.ke/brightermonday-yazindua-teknolojia-ya-kuwasaidia-waajiri-kupata-wafanyakazi-bora/\")\n",
    "\n",
    "# calling the store_ document function \n",
    "store_document(doc=text1,name=file)\n",
    "store_document(doc=text2,name=file)\n",
    "\n",
    "#add the words in this file to the total_corpus_words, to keep count of the number of words in the corpus\n",
    "total_corpus_words+=total_words(file)"
   ]
  },
  {
   "cell_type": "code",
   "execution_count": 183,
   "metadata": {},
   "outputs": [
    {
     "data": {
      "text/plain": [
       "483892"
      ]
     },
     "execution_count": 183,
     "metadata": {},
     "output_type": "execute_result"
    }
   ],
   "source": [
    "total_corpus_words"
   ]
  },
  {
   "cell_type": "code",
   "execution_count": 184,
   "metadata": {},
   "outputs": [
    {
     "name": "stdout",
     "output_type": "stream",
     "text": [
      "['Sampuli', 'za', 'wanaohofiwa', 'kuugua', '‘', 'monkeypox', '’', 'kupimwa', 'nchini', 'Senegal', 'SAMPULI', 'za', 'Wakenya', 'wanne', 'wanaohofiwa', 'kuugua', 'ugonjwa', 'wa', 'ndui', 'ya', 'nyani', 'jana', 'zilisafirishwa', 'hadi', 'Senegal', 'kufanyiwa', 'uchunguzi', 'wa', 'kimatibabu', '.', 'Wizara', 'ya', 'Afya', 'jana', 'Ijumaa', 'iliidhinisha', 'sampuli', 'hizo', 'zipimwe', 'katika', 'nchi', 'hiyo', 'ya', 'Afrika', 'Magharibi', 'kwa', 'sababu', 'Kenya', 'haina', 'vifaa', 'vya', 'kuendesha', 'vipimo', 'hivyo', 'kwa', 'ugonjwa', 'huo', 'ambao', 'ni', 'nadra', 'sana', 'uchipuke', '.', '“', 'Vipimo', 'hivyo', 'vinatumika', 'na', 'kemikali', 'na', 'kwa', 'kuwa', 'hatuna', 'uwezo', 'na', 'rasilimali', 'ya', 'kuendesha', 'vipimo', 'hivyo', ',', 'ilibidi', 'tuwapeleke', 'hadi', 'nchi', 'ambayo', 'imepambana', 'na', 'virusi', 'hivyo', 'na', 'maabara', 'yao', 'yameidhinishwa', ',', '”', 'akasema', 'afisa', 'wa', 'wizara', 'ya', 'afya', '.', 'Kaimu', 'Mkuu', 'wa', 'Idara', 'inayohusika', 'na', 'kutathmini', 'maambukizi', 'ya', 'magonjwa', 'Dkt', 'Emmanuel', 'Okunga', 'naye', 'alisema', 'nchi', 'imekuwa', 'na', 'kisa', 'kimoja', 'tu', 'kinachoshukiwa', 'cha', 'mtu', 'kuugua', 'ndui', 'ya', 'nyani', '.', 'Hata', 'hivyo', ',', 'alisema', 'vipimo', 'vilionyesha', 'mtu', 'aliyeshukiwa', 'kuugua', 'ugonjwa', 'huo', 'hakua', 'nao', '.', 'Wakati', 'huo', 'huo', ',', 'Wakenya', 'ambao', 'walipokea', 'chanjo', 'ya', 'corona', 'miezi', 'sita', 'iliyopita', 'wameshauriwa', 'waendee', 'dozi', 'ya', 'nne', 'ili', 'kuimarisha', 'kinga', 'dhidi', 'ya', 'corona', 'mwilini', 'mwao', 'wakati', 'ambapo', 'maambukizi', 'yamekuwa', 'yakiongezeka', 'nchini', '.']\n",
      "\n",
      " Number of Words:  179\n"
     ]
    }
   ],
   "source": [
    "file=\"22jun4.txt\"\n",
    "\n",
    "# calling the function and storing the contents in a text variable \n",
    "text = get_document(\"https://taifaleo.nation.co.ke/sampuli-za-wanaohofiwa-kuugua-monkeypox-kupimwa-nchini-senegal/\")\n",
    "\n",
    "# calling the store_ document function \n",
    "store_document(doc=text,name=file)\n",
    "\n",
    "#add the words in this file to the total_corpus_words, to keep count of the number of words in the corpus\n",
    "total_corpus_words+=total_words(file)"
   ]
  },
  {
   "cell_type": "code",
   "execution_count": 185,
   "metadata": {},
   "outputs": [
    {
     "data": {
      "text/plain": [
       "484071"
      ]
     },
     "execution_count": 185,
     "metadata": {},
     "output_type": "execute_result"
    }
   ],
   "source": [
    "total_corpus_words"
   ]
  },
  {
   "cell_type": "code",
   "execution_count": 187,
   "metadata": {},
   "outputs": [
    {
     "name": "stdout",
     "output_type": "stream",
     "text": [
      "['Mombasa', ':', 'Wiper', 'ina', 'hadi', 'Juni', '9', 'CHAMA', 'cha', 'Wiper', 'sasa', 'kitalazimika', 'kuteua', 'mgombea', 'mwingine', 'wa', 'ugavana', 'wa', 'Mombasa', 'kabla', 'ya', 'Juni', '9', ',', '2022', 'baada', 'ya', 'Tume', 'Huru', 'ya', 'Uchaguzi', 'na', 'Mipaka', '(', 'IEBC', ')', 'kumzima', 'aliyekuwa', 'Gavana', 'wa', 'Nairobi', 'Mike', 'Sonko', 'kuwania', 'kiti', 'hicho', '.', 'Kwenye', 'kikao', 'na', 'wanahabari', 'katika', 'Bomas', 'of', 'Kenya', 'Jumamosi', ',', 'Juni', '4', ',', '2022', ',', 'mwenyekiti', 'wa', 'tume', 'hiyo', 'Wafula', 'Chebukati', 'alisema', 'kuwa', 'Bw', 'Sonko', 'hajahitimu', 'kuwania', 'kwa', 'kiti', 'chochote', 'cha', 'umma', 'kwa', 'misingi', 'kuwa', 'aliondolewa', 'afisi', '2020', 'kwa', 'matumizi', 'mabaya', 'ya', 'afisi', 'miongoni', 'mwa', 'maovu', 'mengine', '.', '“', 'Kwa', 'misingi', 'ya', 'kipengele', 'cha', '75', '(', '3', ')', 'cha', 'Katiba', 'watu', 'ambao', 'waliondolewa', 'mamlaka', 'kwa', 'kukiuka', 'hitaji', 'la', 'Sura', 'ya', 'Sita', 'ya', 'Katiba', 'kuhusu', 'Maadili', 'na', 'Uongozi', 'Bora', 'hawezi', 'kuruhusiwa', 'kushikilia', 'afisi', 'ya', 'umma', 'kwa', 'njia', 'ya', 'kuchaguliwa', 'au', 'kuteuliwa', ',', '”', 'akasema', '.', 'Bw', 'Sonko', 'ni', 'miongoni', 'mwa', 'wawaniaji', '241', 'ambao', 'Tume', 'ya', 'Maadili', 'na', 'Kupambana', 'na', 'Ufisadi', '(', 'EACC', ')', 'imependekeza', 'kuwa', 'wasiruhusiwe', 'kuwania', 'viti', 'mbalimbali', 'katika', 'uchaguzi', 'mkuu', 'wa', 'Agosti', '9', 'kwa', 'misingi', 'ya', 'kutohitimu', 'kimaadili', '.', 'Kando', 'Bw', 'Sonko', ',', 'Chitavi', 'Antony', 'Mkhala', ',', 'ambaye', 'pia', 'anawania', 'ugavana', 'Mombasa', 'na', 'Karungo', 'Wa', 'Thangwa', 'anayewania', 'useneta', 'wa', 'Kiambu', ',', 'pia', 'wamezimwa', 'kushiriki', 'uchaguzi', 'mkuu', 'ujao', 'kwa', 'misingi', 'ya', 'kufeli', 'kutimiza', 'matakwa', 'ya', 'Sura', 'ya', 'Katiba', '.', 'Bw', 'Chitavi', 'alipata', 'chetu', 'cha', 'chama', 'cha', 'United', 'Democratic', 'Party', '(', 'UDP', ')', 'kuwania', 'ugavana', 'wa', 'Mombasa', ',', 'ilhali', 'Bw', 'Wa', 'Thang', '’', 'wa', 'alikuwa', 'ameshinda', 'tiketi', 'ya', 'chama', 'cha', 'United', 'Democratic', 'Alliance', '(', 'UDA', ')', 'kupeperusha', 'bandera', 'yake', 'katika', 'kinyangányiro', 'cha', 'Useneta', 'kaunti', 'ya', 'Kiambu', '.', '“', 'Msimamo', 'wa', 'tume', 'hii', 'ni', 'kwamba', 'kipengele', 'cha', '75', 'cha', 'Katiba', 'iko', 'bayana', 'na', 'ni', 'rahisi', 'kutekelezwa', '.', 'Hakina', 'ibara', 'nyingine', 'ambayo', 'inaweza', 'kumwokoa', 'mtu', '.', '“', 'Kwa', 'hivyo', ',', 'wawaniaji', 'hao', 'watatu', 'ambao', 'waliondolewa', 'afisini', 'kwa', 'kosa', 'la', 'matumizi', 'mabaya', 'ya', 'mamlaka', 'yao', 'hawawezi', 'kuruhusiwa', 'kuwania', 'viti', 'vingine', 'katika', 'uchaguzi', 'wowote', 'nchni', 'Kenya', ',', '”', 'Bw', 'Chebukati', '.', 'IEBC', 'pia', 'imezuia', 'Bw', 'Thuo', 'Mathenge', 'kuwania', 'ugavana', 'wa', 'Nyeri', 'kwa', 'tiketi', 'ya', 'Kanu', 'kwa', 'msingi', 'ya', 'kutohitimu', 'kwa', 'angalau', 'shahada', 'ya', 'kwanza', 'ya', 'digrii', '.', 'Mwingine', 'aliyezimwa', 'kuwania', 'ugavana', 'kwa', 'msingi', 'hiyo', 'hiyo', 'ni', 'Mbunge', 'wa', 'Turkana', 'ya', 'Kati', 'Jeremiah', 'Loromukai', 'ambaye', 'alitaka', 'kuwania', 'ugavana', 'wa', 'Turkana', 'kwa', 'tiketi', 'ya', 'chama', 'cha', 'ODM', '.', 'Bw', 'Sonko', 'alitimuliwa', 'afisini', 'kama', 'Gavana', 'wa', 'Nairobi', 'mnamo', 'Desemba', '2020', 'na', 'madiwani', 'wa', 'Bunge', 'la', 'Kaunti', 'hiyo', '.', 'Alikabiliwa', 'na', 'makossa', 'manne', 'ya', 'ukiukaji', 'wa', 'Katiba', ',', 'matumizi', 'mabaya', 'ya', 'mamlaka', 'ya', 'afisi', 'yake', ',', 'mienendo', 'mibaya', ',', 'ufisadi', 'miongoni', 'mwa', 'makossa', 'mengine', '..', 'Hatua', 'hiyo', 'baadaye', 'iliidhinishwa', 'na', 'Bunge', 'la', 'Seneti', 'na', 'kumfanya', 'Bw', 'Sonko', 'kuwa', 'gavana', 'wa', 'kwanza', 'nchini', 'kutimuliwa', 'afisini', 'tangu', 'kuanzishwa', 'kwa', 'utawala', 'wa', 'ugatuzi', 'mnamo', '2013', '.']\n",
      "\n",
      " Number of Words:  451\n"
     ]
    }
   ],
   "source": [
    "file=\"22jun6.txt\"\n",
    "\n",
    "# calling the function and storing the contents in a text variable \n",
    "text2 = get_document(\"https://taifaleo.nation.co.ke/mombasa-wiper-ina-hadi-juni-9/\")\n",
    "\n",
    "\n",
    "# calling the store_ document function \n",
    "store_document(doc=text2,name=file)\n",
    "\n",
    "\n",
    "#add the words in this file to the total_corpus_words, to keep count of the number of words in the corpus\n",
    "total_corpus_words+=total_words(file)"
   ]
  },
  {
   "cell_type": "code",
   "execution_count": 188,
   "metadata": {},
   "outputs": [
    {
     "data": {
      "text/plain": [
       "484522"
      ]
     },
     "execution_count": 188,
     "metadata": {},
     "output_type": "execute_result"
    }
   ],
   "source": [
    "total_corpus_words"
   ]
  },
  {
   "cell_type": "code",
   "execution_count": 191,
   "metadata": {},
   "outputs": [
    {
     "name": "stdout",
     "output_type": "stream",
     "text": [
      "['Mombasa', ':', 'Wiper', 'ina', 'hadi', 'Juni', '9', 'CHAMA', 'cha', 'Wiper', 'sasa', 'kitalazimika', 'kuteua', 'mgombea', 'mwingine', 'wa', 'ugavana', 'wa', 'Mombasa', 'kabla', 'ya', 'Juni', '9', ',', '2022', 'baada', 'ya', 'Tume', 'Huru', 'ya', 'Uchaguzi', 'na', 'Mipaka', '(', 'IEBC', ')', 'kumzima', 'aliyekuwa', 'Gavana', 'wa', 'Nairobi', 'Mike', 'Sonko', 'kuwania', 'kiti', 'hicho', '.', 'Kwenye', 'kikao', 'na', 'wanahabari', 'katika', 'Bomas', 'of', 'Kenya', 'Jumamosi', ',', 'Juni', '4', ',', '2022', ',', 'mwenyekiti', 'wa', 'tume', 'hiyo', 'Wafula', 'Chebukati', 'alisema', 'kuwa', 'Bw', 'Sonko', 'hajahitimu', 'kuwania', 'kwa', 'kiti', 'chochote', 'cha', 'umma', 'kwa', 'misingi', 'kuwa', 'aliondolewa', 'afisi', '2020', 'kwa', 'matumizi', 'mabaya', 'ya', 'afisi', 'miongoni', 'mwa', 'maovu', 'mengine', '.', '“', 'Kwa', 'misingi', 'ya', 'kipengele', 'cha', '75', '(', '3', ')', 'cha', 'Katiba', 'watu', 'ambao', 'waliondolewa', 'mamlaka', 'kwa', 'kukiuka', 'hitaji', 'la', 'Sura', 'ya', 'Sita', 'ya', 'Katiba', 'kuhusu', 'Maadili', 'na', 'Uongozi', 'Bora', 'hawezi', 'kuruhusiwa', 'kushikilia', 'afisi', 'ya', 'umma', 'kwa', 'njia', 'ya', 'kuchaguliwa', 'au', 'kuteuliwa', ',', '”', 'akasema', '.', 'Bw', 'Sonko', 'ni', 'miongoni', 'mwa', 'wawaniaji', '241', 'ambao', 'Tume', 'ya', 'Maadili', 'na', 'Kupambana', 'na', 'Ufisadi', '(', 'EACC', ')', 'imependekeza', 'kuwa', 'wasiruhusiwe', 'kuwania', 'viti', 'mbalimbali', 'katika', 'uchaguzi', 'mkuu', 'wa', 'Agosti', '9', 'kwa', 'misingi', 'ya', 'kutohitimu', 'kimaadili', '.', 'Kando', 'Bw', 'Sonko', ',', 'Chitavi', 'Antony', 'Mkhala', ',', 'ambaye', 'pia', 'anawania', 'ugavana', 'Mombasa', 'na', 'Karungo', 'Wa', 'Thangwa', 'anayewania', 'useneta', 'wa', 'Kiambu', ',', 'pia', 'wamezimwa', 'kushiriki', 'uchaguzi', 'mkuu', 'ujao', 'kwa', 'misingi', 'ya', 'kufeli', 'kutimiza', 'matakwa', 'ya', 'Sura', 'ya', 'Katiba', '.', 'Bw', 'Chitavi', 'alipata', 'chetu', 'cha', 'chama', 'cha', 'United', 'Democratic', 'Party', '(', 'UDP', ')', 'kuwania', 'ugavana', 'wa', 'Mombasa', ',', 'ilhali', 'Bw', 'Wa', 'Thang', '’', 'wa', 'alikuwa', 'ameshinda', 'tiketi', 'ya', 'chama', 'cha', 'United', 'Democratic', 'Alliance', '(', 'UDA', ')', 'kupeperusha', 'bandera', 'yake', 'katika', 'kinyangányiro', 'cha', 'Useneta', 'kaunti', 'ya', 'Kiambu', '.', '“', 'Msimamo', 'wa', 'tume', 'hii', 'ni', 'kwamba', 'kipengele', 'cha', '75', 'cha', 'Katiba', 'iko', 'bayana', 'na', 'ni', 'rahisi', 'kutekelezwa', '.', 'Hakina', 'ibara', 'nyingine', 'ambayo', 'inaweza', 'kumwokoa', 'mtu', '.', '“', 'Kwa', 'hivyo', ',', 'wawaniaji', 'hao', 'watatu', 'ambao', 'waliondolewa', 'afisini', 'kwa', 'kosa', 'la', 'matumizi', 'mabaya', 'ya', 'mamlaka', 'yao', 'hawawezi', 'kuruhusiwa', 'kuwania', 'viti', 'vingine', 'katika', 'uchaguzi', 'wowote', 'nchni', 'Kenya', ',', '”', 'Bw', 'Chebukati', '.', 'IEBC', 'pia', 'imezuia', 'Bw', 'Thuo', 'Mathenge', 'kuwania', 'ugavana', 'wa', 'Nyeri', 'kwa', 'tiketi', 'ya', 'Kanu', 'kwa', 'msingi', 'ya', 'kutohitimu', 'kwa', 'angalau', 'shahada', 'ya', 'kwanza', 'ya', 'digrii', '.', 'Mwingine', 'aliyezimwa', 'kuwania', 'ugavana', 'kwa', 'msingi', 'hiyo', 'hiyo', 'ni', 'Mbunge', 'wa', 'Turkana', 'ya', 'Kati', 'Jeremiah', 'Loromukai', 'ambaye', 'alitaka', 'kuwania', 'ugavana', 'wa', 'Turkana', 'kwa', 'tiketi', 'ya', 'chama', 'cha', 'ODM', '.', 'Bw', 'Sonko', 'alitimuliwa', 'afisini', 'kama', 'Gavana', 'wa', 'Nairobi', 'mnamo', 'Desemba', '2020', 'na', 'madiwani', 'wa', 'Bunge', 'la', 'Kaunti', 'hiyo', '.', 'Alikabiliwa', 'na', 'makossa', 'manne', 'ya', 'ukiukaji', 'wa', 'Katiba', ',', 'matumizi', 'mabaya', 'ya', 'mamlaka', 'ya', 'afisi', 'yake', ',', 'mienendo', 'mibaya', ',', 'ufisadi', 'miongoni', 'mwa', 'makossa', 'mengine', '..', 'Hatua', 'hiyo', 'baadaye', 'iliidhinishwa', 'na', 'Bunge', 'la', 'Seneti', 'na', 'kumfanya', 'Bw', 'Sonko', 'kuwa', 'gavana', 'wa', 'kwanza', 'nchini', 'kutimuliwa', 'afisini', 'tangu', 'kuanzishwa', 'kwa', 'utawala', 'wa', 'ugatuzi', 'mnamo', '2013', '.', 'Tume', 'hiyo', 'inayotarajiwa', 'kufunga', 'shughuli', 'za', 'kutathmini', 'wagombeaji', 'ugavana', 'Mombasa', 'leo', ',', 'ilikuwa', 'imemratibisha', 'Bw', 'Sonko', 'kuwasilisha', 'hati', 'zake', 'za', 'uwaniaji', 'leo', 'kabla', 'mwenyekiti', ',', 'Bw', 'Wafula', 'Chebukati', ',', 'kutangaza', 'uamuzi', 'wa', 'kumzima', 'kwa', 'sababu', 'za', 'kimaadili', '.', 'Kwingineko', ',', 'Mbunge', 'wa', 'Mvita', ',', 'Bw', 'Abdulswamad', 'Nassir', ',', 'anayewania', 'ugavana', 'Mombasa', 'kupitia', 'kwa', 'ODM', ',', 'jana', 'alikuwa', 'wa', 'kwanza', 'kuidhinishwa', 'na', 'IEBC', '.', 'Wagombeaji', 'wengine', 'ambao', 'walikuwa', 'wamepangiwa', 'kutathminiwa', 'tangu', 'wikendi', 'walipatikana', 'kuwa', 'na', 'kasoro', 'katika', 'stakabadhi', 'zao', ',', 'wakapewa', 'muda', 'kuzirekebisha', '.', 'Kwa', 'upande', 'mwingine', ',', 'aliyekuwa', 'seneta', ',', 'Bw', 'Hassan', 'Omar', ',', 'alisemekana', 'alikuwa', 'ameomba', 'muda', 'zaidi', 'na', 'anatarajiwa', 'kufika', 'mbele', 'ya', 'IEBC', 'leo', '.', 'Bw', 'Nassir', 'ambaye', 'aliandamana', 'na', 'mgombea', 'mwenza', 'wake', ',', 'Bw', 'Francis', 'Thoya', ',', 'alisema', 'kuidhinishwa', 'kwake', 'ni', 'mwanzo', 'wa', 'safari', 'ya', 'kuletea', 'wakazi', 'wa', 'Mombasa', 'mabadiliko', 'katika', 'maisha', 'yao', '.', '“', 'Tutahakikisha', 'huduma', 'za', 'serikali', 'zinawafikia', 'watu', 'mashinani', 'ili', 'kila', 'mtu', 'anufaike', 'na', 'ugatuzi', 'vijijini', '.', 'Safari', 'ndio', 'imeanza', 'ya', 'kuhakikisha', 'matarajio', 'ya', 'wakazi', 'wa', 'Mombasa', 'yanatimizwa', 'kupitia', 'manifesto', 'yetu', ',', '”', 'alisema', 'Bw', 'Nassir', '.', 'Baadaye', 'aliungana', 'na', 'wanasiasa', 'wa', 'Mombasa', 'akiwemo', 'wabunge', ',', 'Badi', 'Twalib', '(', 'Jomvu', ')', ',', 'Mohammed', 'Faki', '(', 'seneta', ')', ',', 'viongozi', 'wa', 'ODM', 'na', 'wafuasi', 'wake', 'katika', 'ukumbi', 'wa', 'Lohana', 'kusherehekea', 'hatua', 'aliyopiga', 'katika', 'azma', 'yake', '.', 'Viongozi', 'waisifu', 'IEBC', 'kwa', 'kukaza', 'kamba', 'VIONGOZI', 'kadha', 'kutoka', 'kaunti', 'ya', 'Kiambu', 'wamepongeza', 'juhudi', 'za', 'Tume', 'Huru', 'ya', 'Uchaguzi', 'na', 'Mipaka', '(', 'IEBC', ')', 'kukataa', 'kuwaidhinisha', 'wanasiasa', 'walio', 'na', 'doa', '.', 'Viongozi', 'hao', 'walisema', 'hatua', 'hiyo', 'inaongeza', 'imani', 'ya', 'wananchi', 'kwa', 'tume', 'hiyo', 'inavyo', 'endesha', 'kazi', 'yake', 'kwa', 'uwazi', '.', 'Wakiongozwa', 'na', 'mbunge', 'wa', 'Thika', 'Bw', 'Patrick', '‘', 'Wajungle', '’', 'Wainaina', ',', 'walisema', 'iwapo', 'tume', 'hiyo', 'itaendelea', 'na', 'mtindo', 'huo', 'wa', 'kukabiliana', 'na', 'viongozi', 'wafisadi', ',', 'bila', 'shaka', '“', 'tutakuwa', 'na', 'viongozi', 'wenye', 'maadili', 'mema.', '”', 'Alisema', 'hata', 'jamii', 'ya', 'kimataifa', 'itakuwa', 'na', 'imani', 'na', 'tume', 'hiyo', 'huku', 'viongozi', 'watakaochaguliwa', 'wakiwa', 'ni', 'wenye', 'maadili', 'mema', '.', 'Mbunge', 'huyo', 'alitoa', 'wito', 'kwa', 'IEBC', 'ionyeshe', 'uwezo', 'wake', 'wa', 'kufanya', 'uchaguzi', 'wa', 'haki', 'na', 'uwazi', 'bila', 'kufuata', 'matamshi', 'yanayoelezwa', 'na', 'viongozi', '.', 'Askofu', 'wa', 'kanisa', 'la', 'Calvary', 'mjini', 'Thika', 'Bw', 'David', 'Kariuki', 'Ngari', 'alitaka', 'vitengo', 'vinavyopambana', 'na', 'maswala', 'ya', 'ufisadi', 'viendeshe', 'kazi', 'yao', 'kwa', 'uwazi', 'na', 'uwajibikaji', 'bila', 'maonevu', 'yoyote', '.']\n",
      "\n",
      " Number of Words:  820\n"
     ]
    }
   ],
   "source": [
    "file=\"22jun7.txt\"\n",
    "\n",
    "# calling the function and storing the contents in a text variable \n",
    "text3 = get_document(\"https://taifaleo.nation.co.ke/nassir-ndani-naye-sonko-akikazana/\")\n",
    "text4 = get_document(\"https://taifaleo.nation.co.ke/viongozi-waisifu-iebc-kwa-kukaza-kamba/\")\n",
    "\n",
    "# calling the store_ document function \n",
    "store_document(doc=text3,name=file)\n",
    "store_document(doc=text4,name=file)\n",
    "\n",
    "#add the words in this file to the total_corpus_words, to keep count of the number of words in the corpus\n",
    "total_corpus_words+=total_words(file)"
   ]
  },
  {
   "cell_type": "code",
   "execution_count": 192,
   "metadata": {},
   "outputs": [
    {
     "data": {
      "text/plain": [
       "485342"
      ]
     },
     "execution_count": 192,
     "metadata": {},
     "output_type": "execute_result"
    }
   ],
   "source": [
    "total_corpus_words"
   ]
  },
  {
   "cell_type": "code",
   "execution_count": 193,
   "metadata": {},
   "outputs": [
    {
     "name": "stdout",
     "output_type": "stream",
     "text": [
      "['Kithi', 'apuuza', 'madai', 'ya', 'kujiondoa', 'na', 'kumuunga', 'Jumwa', 'ugavana', 'MWANIAJI', 'ugavana', 'Kilifi', 'kwa', 'tikiti', 'ya', 'Chama', 'cha', 'Pamoja', 'African', 'Alliance', '(', 'PAA', ')', ',', 'Bw', 'George', 'Kithi', ',', 'amepuuzilia', 'mbali', 'madai', 'kwamba', 'ameacha', 'azma', 'yake', 'ya', 'kuwania', 'kiti', 'hicho', '.', 'Akizungumza', 'baada', 'ya', 'kuidhinishwa', 'na', 'Tume', 'Huru', 'ya', 'Uchaguzi', 'na', 'Mipaka', '(', 'IEBC', ')', ',', 'Bw', 'Kithi', 'alisema', 'uvumi', 'unaoenezwa', 'kwamba', 'atamwachia', 'nafasi', 'hiyo', 'Mbunge', 'wa', 'Malindi', ',', 'Bi', 'Aisha', 'Jumwa', ',', 'ni', 'porojo', 'zinazoenezwa', 'na', 'wapinzani', 'wake', '.', 'Chama', 'cha', 'PAA', 'kiko', 'katika', 'Muungano', 'wa', 'Kenya', 'Kwanza', 'pamoja', 'na', 'UDA', 'ambacho', 'Bi', 'Jumwa', 'anatumia', 'kuwania', 'ugavana', 'katika', 'kaunti', 'hiyo', '.', 'Wakati', 'chama', 'hicho', 'kilipoingia', 'Kenya', 'Kwanza', ',', 'Naibu', 'Rais', 'William', 'Ruto', 'alisema', 'kutakuwa', 'na', 'mashauriano', 'ili', 'kuona', 'kama', 'baadhi', 'ya', 'wagombeaji', 'viti', 'watakubali', 'kuwaachia', 'wengine', 'nafasi', 'ili', 'kuhakikisha', 'muungano', 'huo', 'haupotezi', 'viti', '.', 'Hivi', 'majuzi', ',', 'Bi', 'Jumwa', 'pia', 'aliomba', 'vinara', 'wa', 'muungano', 'huo', 'kumshawishi', 'Bw', 'Kithi', 'kumwachia', 'nafasi', 'hiyo', '.', '“', 'Wale', 'ambao', 'walikuwa', 'wakieneza', 'uvumi', 'wa', 'uongo', 'katika', 'mitandao', 'ya', 'kijamii', 'wakisema', 'ya', 'kwamba', 'eti', 'nimesitisha', 'azma', 'yangu', 'kuwania', 'ugavana', 'na', 'kuunga', 'mkono', 'Aisha', ',', 'hiyo', 'si', 'kweli', '.', 'Mimi', 'niko', 'kwa', 'kinyang', '’', 'anyiro', '.', 'Leo', 'IEBC', 'imeniidhinisha', 'rasmi', 'kama', 'mgombea', 'wa', 'ugavana', 'Kilifi', 'kwa', 'tiketi', 'ya', 'chama', 'cha', 'PAA', ',', '”', 'akasema', 'Bw', 'Kithi', '.', 'Alitoa', 'wito', 'kwa', 'wananchi', 'kudumisha', 'amani', 'msimu', 'huu', 'wa', 'kampeni', 'za', 'uchaguzi', 'mkuu', 'wa', 'Agosti', '9', '.', 'Wadau', 'wa', 'sekta', 'ya', 'utalii', 'wataka', 'Uhuru', 'kuinusuru', 'kabla', 'astaafu', 'Agosti', 'WADAU', 'katika', 'sekta', 'ya', 'utalii', 'wamemrai', 'Rais', 'Uhuru', 'Kenyatta', 'kushughulikia', 'changamoto', 'zinazowakumba', 'kabla', 'aondoke', 'mamlakani', '.', 'Wakieleza', 'lalama', 'zao', 'baada', 'ya', 'mashirika', 'ya', 'ndege', 'ya', 'Uturuki', 'kusitisha', 'safari', 'za', 'Mombasa', ',', 'walisema', 'sekta', 'hiyo', 'inazidi', 'kusahaulika', 'serikalini', '.', 'Shirika', 'la', 'Ndege', 'la', 'Uturuki', 'lilitoa', 'taarifa', 'kwa', 'wateja', 'wake', 'kwamba', ',', 'safari', 'za', 'ndege', 'ambazo', 'zilitarajiwa', 'kufanyika', 'kuelekea', 'Mombasa', 'mwaka', 'huu', 'zilisitishwa', 'hadi', 'Oktoba', '.', 'Aliyekuwa', 'Mwenyekiti', 'wa', 'Shirikisho', 'la', 'Utalii', 'la', 'Kenya', ',', 'Bw', 'Mohammed', 'Hersi', 'alimtaka', 'Rais', 'atoe', 'amri', 'kuruhusu', 'mashirika', 'ya', 'ndege', 'ambayo', 'yanataka', 'kusafiri', 'moja', 'kwa', 'moja', 'hadi', 'Mombasa', 'yawe', 'huru', 'kufanya', 'hivyo', '.', 'Mkurugenzi', 'Mtendaji', 'wa', 'Chama', 'cha', 'Wafanyabiashara', 'wa', 'Hoteli', 'na', 'Wafanyabiashara', 'wa', 'Pwani', ',', 'Dkt', 'Sam', 'Ikwaye', ',', 'alilalamika', 'kuwa', 'wadau', 'wa', 'utalii', 'walisahaulika', 'chini', 'ya', 'uongozi', 'wa', 'Rais', 'Kenyatta', '.', 'Mtafaruku', 'Sonko', 'akipigwa', 'breki', 'kuwasilisha', 'stakabadhi', 'kwa', 'IEBC', 'KULIKUWA', 'na', 'kizaazaa', 'jana', 'Jumanne', 'katika', 'afisi', 'za', 'Tume', 'Huru', 'ya', 'Uchaguzi', 'na', 'Mipaka', '(', 'IEBC', ')', 'Kaunti', 'ya', 'Mombasa', ',', 'wakati', 'jaribio', 'la', 'aliyekuwa', 'gavana', 'wa', 'Nairobi', ',', 'Bw', 'Mike', 'Sonko', ',', 'kuwasilisha', 'stakabadhi', 'zake', 'za', 'uwaniaji', 'ugavana', 'Mombasa', 'liligonga', 'mwamba', '.', 'Mamia', 'ya', 'wafuasi', 'wa', 'Bw', 'Sonko', 'walianza', 'kuwasili', 'mapema', 'karibu', 'na', 'afisi', 'hiyo', 'iliyoko', 'katika', 'mtaa', 'wa', 'Kizingo', 'wakimsubiri', '.', 'Polisi', 'walikuwa', 'wamezingira', 'eneo', 'hilo', 'kuepusha', 'uwezekano', 'wowote', 'wa', 'fujo.Msafara', 'wa', 'Bw', 'Sonko', 'uliwasili', 'dakika', 'chache', 'baada', 'ya', 'saa', 'nane', 'mchana', ',', 'akafika', 'mbele', 'ya', 'afisa', 'mkuu', 'wa', 'IEBC', ',', 'Bi', 'Swalhah', 'Yusuf', ',', 'saa', 'nane', 'na', 'dakika', '19', 'ambapo', 'alikaribishwa', 'vyema', 'na', 'stakabadhi', 'zake', 'zikaanza', 'kukaguliwa', '.', 'Alikuwa', 'ameandamana', 'na', 'mawakili', 'wake', 'na', 'mgombea', 'mwenza', 'wake', 'ambaye', 'pia', 'ni', 'Mbunge', 'wa', 'Kisauni', ',', 'Bw', 'Ali', 'Mbogo', '.', 'Mvutano', 'ulianza', 'ilipobainika', 'kuwa', 'baadhi', 'ya', 'stakabadhi', 'zake', 'hazikuwa', 'zimepigwa', 'muhuri', 'na', 'Tume', 'ya', 'Maadili', 'na', 'Kupambana', 'na', 'Ufisadi', '(', 'EACC', ')', ',', 'lakini', 'hilo', 'likasuluhishwa', 'wasaidizi', 'wake', 'walipoleta', 'stakabadhi', 'zenye', 'muhuri', '.', 'Baada', 'ya', 'thibitisho', 'kupokelewa', 'kwamba', ',', 'kuna', 'rufaa', 'katika', 'Mahakama', 'ya', 'Juu', ',', 'Bi', 'Yusuf', 'alisema', 'saa', 'za', 'kazi', 'ni', 'hadi', 'saa', 'kumi', 'kwa', 'hivyo', 'hangeweza', 'kuwahudumia', 'akisema', 'muda', 'rasmi', 'wa', 'kutathmini', 'wagombeaji', 'umepita', '.', 'Kufikia', 'wakati', 'wa', 'kwenda', 'mtamboni', ',', 'Bw', 'Sonko', 'alikuwa', 'bado', 'amekataa', 'kuondoka', 'katika', 'ukumbi', 'huo', 'akitaka', 'kukabidhiwa', 'cheti', 'cha', 'uwaniaji', '.']\n",
      "\n",
      " Number of Words:  593\n"
     ]
    }
   ],
   "source": [
    "file=\"22jun8.txt\"\n",
    "\n",
    "# calling the function and storing the contents in a text variable \n",
    "text1 = get_document(\"https://taifaleo.nation.co.ke/kithi-apuuza-madai-ya-kujiondoa-na-kumuunga-jumwa-ugavana/\")\n",
    "text2 = get_document(\"https://taifaleo.nation.co.ke/wadau-wa-sekta-ya-utalii-wataka-uhuru-kuinusuru-kabla-astaafu-agosti/\")\n",
    "text3 = get_document(\"https://taifaleo.nation.co.ke/mtafaruku-sonko-akipigwa-breki-kuwasilisha-stakabadhi-kwa-iebc/\")\n",
    "\n",
    "\n",
    "# calling the store_ document function \n",
    "store_document(doc=text1,name=file)\n",
    "store_document(doc=text2,name=file)\n",
    "store_document(doc=text3,name=file)\n",
    "\n",
    "\n",
    "#add the words in this file to the total_corpus_words, to keep count of the number of words in the corpus\n",
    "total_corpus_words+=total_words(file)"
   ]
  },
  {
   "cell_type": "code",
   "execution_count": 194,
   "metadata": {},
   "outputs": [
    {
     "data": {
      "text/plain": [
       "485935"
      ]
     },
     "execution_count": 194,
     "metadata": {},
     "output_type": "execute_result"
    }
   ],
   "source": [
    "total_corpus_words"
   ]
  },
  {
   "cell_type": "code",
   "execution_count": 197,
   "metadata": {},
   "outputs": [
    {
     "name": "stdout",
     "output_type": "stream",
     "text": [
      "['Mirema', ':', 'Dennis', 'Gachoki', 'aachiliwa', 'huru', 'baada', 'ya', 'kukosekana', 'ushahidi', 'MSHUKIWA', 'katika', 'kisa', 'cha', 'mauaji', 'ya', 'mtu', 'aliyeshukiwa', 'na', 'polisi', 'kuwa', 'mhalifu', 'hatari', 'Samuel', 'Mugota', ',', 'eneo', 'la', 'Mirema', 'kaunti', 'ndogo', 'ya', 'Kasarani', 'mnamo', 'Mei', 'ameachiliwa', 'huru', 'baada', 'ya', 'mahakama', 'kuelezwa', 'hakuna', 'ushahidi', 'wa', 'kumhusisha', 'na', 'uhalifu', 'huo', '.']\n",
      "\n",
      " Number of Words:  49\n"
     ]
    }
   ],
   "source": [
    "file=\"22jun9.txt\"\n",
    "\n",
    "# calling the function and storing the contents in a text variable \n",
    "text1 = get_document(\"https://taifaleo.nation.co.ke/mirema-dennis-gachoki-aachiliwa-huru-baada-ya-kukosekana-ushahidi/\")\n",
    "\n",
    "# calling the store_ document function \n",
    "store_document(doc=text1,name=file)\n",
    "\n",
    "#add the words in this file to the total_corpus_words, to keep count of the number of words in the corpus\n",
    "total_corpus_words+=total_words(file)"
   ]
  },
  {
   "cell_type": "code",
   "execution_count": 198,
   "metadata": {},
   "outputs": [
    {
     "data": {
      "text/plain": [
       "485984"
      ]
     },
     "execution_count": 198,
     "metadata": {},
     "output_type": "execute_result"
    }
   ],
   "source": [
    "total_corpus_words"
   ]
  },
  {
   "cell_type": "code",
   "execution_count": 199,
   "metadata": {},
   "outputs": [
    {
     "name": "stdout",
     "output_type": "stream",
     "text": [
      "['Mkuu', 'wa', 'shule', 'ya', 'msingi', 'kizimbani', 'kwa', 'kupora', 'Sh2', 'milioni', 'MWALIMU', 'mkuu', 'katika', 'Kaunti', 'ya', 'Laikipia', ',', 'Ijumaa', 'aliachiliwa', 'na', 'Hakimu', 'Mkazi', 'wa', 'Nanyuki', 'kwa', 'dhamana', 'ya', 'Sh1', 'milioni', 'pesa', 'taslimu', 'au', 'mdhamini', 'wa', 'Sh2', 'milioni', ',', 'baada', 'ya', 'kukana', 'shtaka', 'la', 'kufuja', 'Sh2.251', 'milioni', '.', 'Lenard', 'Mbotela', 'anayesimamia', 'Shule', 'ya', 'Msingi', 'ya', 'Ilmoro', 'eneo', 'bunge', 'la', 'Laikipia', 'Kaskazini', 'alifikishwa', 'mbele', 'ya', 'Hakimu', 'Mkazi', 'wa', 'Nanyuki', 'Lisper', 'Nyaga', 'na', 'kushtakiwa', 'ka', 'kupora', 'pesa', 'zilizonuiwa', 'kutumika', 'katika', 'ujenzi', 'wa', 'shule', 'moja', 'ya', 'upili', 'katika', 'eneo', 'hilo', '.', 'Anadaiwa', 'kutenda', 'kosa', 'hilo', 'kati', 'ya', 'Septemba', '25', 'na', 'Desemba', '17', ',', '2021', 'katika', 'benki', 'ya', 'KCB', ',', 'tawi', 'la', 'Nanyuki', '.', 'Pesa', 'hizo', 'zililenga', 'kutumika', 'kufadhili', 'ujenzi', 'wa', 'Shule', 'ya', 'Upili', 'ya', 'Ilmotiok.Mbotela', 'alitia', 'saini', 'kama', 'akaunti', 'za', 'shule', 'hiyo', 'kama', 'mweka', 'hazina', 'wa', 'kamati', 'ya', 'ujenzi', 'wake', '.', 'Inadaiwa', 'kuwa', 'Juni', '5', 'walipatikana', 'eneo', 'la', 'Marereni-Kibaoni', 'katika', 'Kaunti', 'ndogo', 'ya', 'Magarini', ',', 'Kaunti', 'ya', 'Kilifi', 'walipatikana', 'wakiuza', 'viungo', 'vya', 'wanyamapori', 'ambayo', 'ni', 'vipande', 'vitano', 'vya', 'pembe', 'za', 'ndovu', 'vyenye', 'uzani', 'wa', 'kilo', '21', 'na', 'thamani', 'ya', 'shilingi', 'laki', 'tano', '.', 'Hata', 'hivyo', 'inadaiwa', 'walikuwa', 'wakitekeleza', 'biashara', 'hiyo', 'kinyume', 'cha', 'sheria', 'za', 'Kenya', 'kwani', 'hawakuwa', 'na', 'kibali', 'kutoka', 'kwa', 'mkurugenzi', 'mkuu', 'shirika', 'la', 'huduma', 'kwa', 'wanyama', 'pori', '(', 'KWS', ')', '.', 'Kifungu', 'cha', '92', '(', '2', ')', 'cha', 'Sheria', 'ya', 'Usimamizi', 'wa', 'Uhifadhi', 'wa', 'Wanyamapori', 'ya', 'mwaka', '2013', 'kinaharamisha', 'kujihusisha', 'na', 'biashara', 'ya', 'wanyamapori', 'na', 'kosa', 'hilo', 'linaweza', 'kuvutia', 'kifungo', 'cha', 'chini', 'cha', 'miaka', '15', 'jela', 'na', 'kisichopungua', 'shilingi', 'milioni', 'moja', 'faini', '.', 'Usui', 'aliamuru', 'washtakiwa', 'warudishwe', 'rumande', 'katika', 'gereza', 'la', 'Malindi', 'Mtangani', 'baada', 'ya', 'kushindwa', 'kulipa', 'dhamana', 'ya', 'shilingi', 'laki', 'tano', 'kila', 'mmoja', 'huku', 'kesi', 'hiyo', 'ikitajwa', 'tena', 'Juni', '21', ',', '2022', '.', '“', 'Ninawahimiza', 'mfanye', 'hima', 'kuzingatia', 'upanzi', 'wa', 'miche', 'ya', 'macadamia', 'kwa', 'sababu', 'baada', 'ya', 'miaka', 'miwili', 'hivi', 'mtavuna', 'zao', 'la', 'kuingiza', 'pesa', 'kwa', 'wingi', '.', 'Hata', 'nitakuwa', 'tayari', 'kuwatafutia', 'soko', 'kwa', 'nchi', 'za', 'ng', '’', 'ambo', ',', '”', 'alijitetea', 'mbunge', 'huyo', '.', 'Bw', '‘', 'Wajungle', '’', 'ambaye', 'anawania', 'kuwa', 'gavana', 'wa', 'Kiambu', 'aliwarai', 'wakazi', 'hao', 'kumchagua', 'ili', 'aweze', 'kuboresha', 'maisha', 'ya', 'wakazi', 'wote', 'wa', 'Gatundu', 'Kusini', 'na', 'Kaskazini', '.', '“', 'Mimi', 'kama', 'mzaliwa', 'wa', 'eneo', 'hili', 'ninaelewa', 'shida', 'zenu', '.', 'Eneo', 'la', 'Thika', 'tayari', 'linajulikana', 'vyema', 'nchini', 'kote', 'kutokana', 'na', 'utumizi', 'bora', 'wa', 'fedha', 'za', 'maendeleo', 'ya', 'NG-CDF', ',', '”', 'alifafanua', 'Bw', '‘', 'Wajungle', '’', 'na', 'kuongeza', '“', 'ni', 'lazima', 'muwe', 'na', 'mwelekeo', 'na', 'muwachague', 'viongozi', 'wanaoelewa', 'shida', 'za', 'wananchi', 'kwa', 'ujumla.', '”', 'Alisema', 'kaunti', 'ya', 'Kiambu', 'hupokea', 'Sh10', 'bilioni', 'za', 'maendeleo', 'kila', 'mwaka', ',', 'ambazo', 'inaweza', 'kugeuza', 'maisha', 'ya', 'wakazi', 'wote', 'wa', 'Kiambu', '.', 'Alisema', 'iwapo', 'atapata', 'nafasi', 'ya', 'kuwa', 'gavana', 'ataweka', 'BIMA', 'ya', 'afya', 'kuwa', 'Sh', '20', 'kwa', 'kila', 'mkazi', 'na', 'mpango', 'huo', 'utaboresha', 'hali', 'ya', 'afya', 'ya', 'kila', 'mmoja', '.', 'Alisema', 'atafanya', 'juhudi', 'kuona', 'ya', 'kwamba', 'barabara', 'kama', 'miundo', 'msingi', 'inajengwa', 'zaidi', 'ya', 'kilomita', '500', 'ili', 'kupanua', 'hali', 'ya', 'usafiri', 'na', 'kuboresha', 'biashara', 'zote', 'katika', 'kaunti', 'yote', 'ya', 'Kiambu', '.']\n",
      "\n",
      " Number of Words:  484\n"
     ]
    }
   ],
   "source": [
    "file=\"22jun11.txt\"\n",
    "\n",
    "# calling the function and storing the contents in a text variable \n",
    "text1 = get_document(\"https://taifaleo.nation.co.ke/mkuu-wa-shule-ya-msingi-kizimbani-kwa-kupora-sh2-milioni/\")\n",
    "text2 = get_document(\"https://taifaleo.nation.co.ke/3-kizimbani-kwa-madai-ya-wizi-wa-pembe-za-ndovu/\")\n",
    "text3 = get_document(\"https://taifaleo.nation.co.ke/wakazi-wa-gatundu-wapokea-miche-ya-macadamia/\")\n",
    "\n",
    "\n",
    "# calling the store_ document function \n",
    "store_document(doc=text1,name=file)\n",
    "store_document(doc=text2,name=file)\n",
    "store_document(doc=text3,name=file)\n",
    "\n",
    "\n",
    "#add the words in this file to the total_corpus_words, to keep count of the number of words in the corpus\n",
    "total_corpus_words+=total_words(file)"
   ]
  },
  {
   "cell_type": "code",
   "execution_count": 200,
   "metadata": {},
   "outputs": [
    {
     "data": {
      "text/plain": [
       "486468"
      ]
     },
     "execution_count": 200,
     "metadata": {},
     "output_type": "execute_result"
    }
   ],
   "source": [
    "total_corpus_words"
   ]
  },
  {
   "cell_type": "code",
   "execution_count": 202,
   "metadata": {},
   "outputs": [
    {
     "name": "stdout",
     "output_type": "stream",
     "text": [
      "['Kang', '’', 'ata', 'kujua', 'hatma', 'yake', 'ya', 'ugavana', 'leo', 'Jumatatu', 'MWANIAJI', 'wa', 'Ugavana', 'Murang', '’', 'a', 'kwa', 'tikiti', 'ya', 'chama', 'cha', 'United', 'Democratic', 'Alliance', '(', 'UDA', ')', 'Dkt', 'Irungu', 'Kang', '’', 'ata', 'atajua', 'hatma', 'yake', 'leo', 'Jumatatu', 'baada', 'ya', 'jopo', 'la', 'kuamua', 'mizozo', 'ya', 'uteuzi', 'kuelezwa', 'alijibatilishia', 'siku', 'ya', 'kuwasilisha', 'karatasi', 'zake', 'kwa', 'afisa', 'msimamizi', 'wa', 'uchaguzi', 'katika', 'kaunti', 'hiyo', 'Saumu', 'Omar', 'Chirchir', '.', '“', 'Uidhinishwaji', 'wa', 'Dkt', 'Kang', '’', 'ata', 'kuwania', 'ugavana', 'unafaa', 'kufutiliwa', 'mbali', 'kwa', 'vile', 'alijitengea', 'siku', 'ya', 'kuwasilisha', 'stakabadhi', 'kutoka', 'Juni', '6', 'hadi', 'Juni', '7', ',', '2022', 'kinyume', 'cha', 'sheria', ',', '”', 'wakili', 'Peter', 'Wanyama', 'alieleza', 'jopo', 'hilo', 'la', 'IEBC', 'linaloongozwa', 'na', 'Bw', 'George', 'Mburugu', '.', 'Lakini', 'Dkt', 'Kang', '’', 'ata', 'alipinga', 'hayo', 'akisema', 'aliidhinishwa', 'na', 'Bi', 'Chirchir', 'kwa', 'mujibu', 'wa', 'sheria', 'na', 'kuomba', 'jopo', 'litupilie', 'kesi', 'hiyo', 'mbali', '.', 'Na', 'wakati', 'huo', 'huo', 'uteuzi', 'wa', 'Dkt', 'Julius', 'Malombe', 'kuwania', 'Ugavana', 'kaunti', 'ya', 'Kitui', 'kwa', 'tikiti', 'ya', 'chama', 'cha', 'Wiper', 'umepingwa', 'huku', 'manaibu', 'wa', 'ugavana', 'wakidaiwa', 'kuwa', 'watu', 'wa', 'familia', 'ya', 'kinara', 'wa', 'chama', 'hicho', 'Bw', 'Kalonzo', 'Musyoka', '.', '“', 'Suala', 'hili', 'la', 'uteuzi', 'wa', 'mwaniaji', 'wa', 'kiti', 'cha', 'Wiper', 'limetiwa', 'kizugumkuti', 'na', 'uteuzi', 'wa', 'watu', 'wa', 'familia', 'ya', 'Musyoka', 'kuwa', 'manaibu', 'wa', 'Dkt', 'Malombe', 'na', 'Balozi', 'Kiema', 'Kilonzo', ',', '”', 'Wakili', 'Eric', 'Mutua', 'anayemwakilisha', 'Kilonzo', 'alidokeza', 'mbele', 'ya', 'jopo', 'hilo', '.', 'Bw', 'Kilonzo', 'amesema', 'chama', 'cha', 'Wiper', 'kiliteua', 'vituo', 'vinane', 'tu', 'kaunti', 'nzima', 'ya', 'Kitui', 'kuendeleza', 'zoezi', 'hilo', 'la', 'uteuzi', 'wa', 'mwaniaji', 'kiti', 'cha', 'Ugavana', 'mnamo', 'Juni', '3,2022', 'baada', 'ya', 'kuamriwa', 'na', 'mahakama', 'kuu', 'irejelee', 'zoezi', 'hilo', 'katika', 'muda', 'wa', 'masaa', '72', '.', '“', 'Wiper', 'kilimteua', 'moja', 'kwa', 'moja', 'Dkt', 'Malombe', 'kuwania', 'kiti', 'cha', 'Ugavana', 'Kitui', 'na', 'wala', 'hakuna', 'uteuzi', 'uliofanywa', 'kwa', 'mujibu', 'wa', 'katiba', 'ya', 'chama', 'cha', 'Wiper', 'na', 'uamuzi', 'wa', 'Jaji', 'Christine', 'Meoli', 'wa', 'mahakama', 'kuu', ',', '”', 'Bw', 'Kilonzo', 'anasema', 'katika', 'afidaviti', 'yake', '.', 'Lakini', 'Dkt', 'Malombe', 'amekanusha', 'madai', 'hayo', 'ya', 'mpinzani', 'wake', 'akisema', '“', 'uteuzi', 'ulifanywa', 'kwa', 'mujibu', 'wa', 'sheria', 'na', 'kamwe', 'jopo', 'hilo', 'halipasi', 'kuuvuruga.', '”', 'Nestlé', 'yaongoza', 'mpango', 'wa', 'kukusanya', 'taka', 'za', 'plastiki', 'katika', 'shule', 'za', 'umma', 'KAMPUNI', 'ya', 'Nestlé', 'imezindua', 'mpango', 'wa', 'kukusanya', 'taka', 'za', 'plastiki', 'katika', 'shule', 'za', 'msingi', 'za', 'umma', ',', 'ili', 'kusaidia', 'kudumisha', 'usafi', 'wa', 'mazingira', '.', 'Mradi', 'huo', 'unalenga', 'kusafisha', 'mazingira', 'ya', 'shule', 'na', 'viunga', 'vyake', ',', 'mazingira', 'jirani', '.', 'Kwa', 'ushirikiano', 'na', 'Mamlaka', 'ya', 'Uhifadhi', 'wa', 'Mazingira', 'Nchini', '(', 'Nema', ')', ',', 'Kenya', 'Extended', 'Producer', 'Responsible', 'Organisation', '(', 'Kepro', ')', 'na', 'Wizara', 'ya', 'Elimu', ',', 'mpango', 'wa', 'majaribio', 'umeanza', 'kutekelezwa', 'katika', 'shule', '10', 'Kaunti', 'ya', 'Nairobi', '.', 'Ubunifu', 'huo', 'aidha', 'umetajwa', 'kama', 'kivutio', 'kwa', 'wanafunzi', ',', 'katika', 'oparesheni', 'kusaidia', 'kudumisha', 'usafi', 'wa', 'mazingira', '.', '“', 'Tabianchi', 'ni', 'hali', 'wazi', 'ambayo', 'kila', 'mmoja', 'anahisi', 'athari', 'zake', ',', 'kufuatia', 'matendo', 'ya', 'binadamu', 'kutolinda', 'mazingira', '.', 'Ni', 'muhimu', 'tutafakari', 'maamuzi', 'na', 'mienendo', 'yetu', ',', 'tutathmini', 'vifaa', 'tunavyotumia', 'na', 'sekta', 'ya', 'viwanda', 'ili', 'kulinda', 'mazingira', ',', '”', 'akasema', 'Ng', '’', 'entu', 'Njeru', ',', 'Mkurugenzi', 'Mkuu', 'Nestlè', 'Kenya', 'wakati', 'wa', 'uzinduzi', 'wa', 'mradi', 'huo', 'jijini', 'Nairobi', '.', 'Kwa', 'kushirikisha', 'wanafunzi', 'wakiwa', 'na', 'umri', 'mdogo', 'kulinda', 'mazingira', 'kupitia', 'ukusanyaji', 'taka', 'za', 'plastiki', ',', 'Bw', 'Njeru', 'alisema', 'mkondo', 'huo', 'utasaidia', 'kuipa', 'afueni', 'sekta', 'kilimo', '.', 'Mkurugenzi', 'Mkuu', 'Nestlè', 'Kenya', ',', 'Bw', 'Ng', '’', 'entu', 'Njeru', 'na', 'wawakilishi', 'wa', 'wanafunzi', 'kutoka', 'shule', '10', 'za', 'msingi', 'za', 'umma', 'Nairobi', ',', 'wakati', 'wa', 'uzinduzi', 'wa', 'mradi', 'wa', 'ukusanyaji', 'taka', 'za', 'plastiki', ',', 'jijini', 'Nairobi', '.', 'PICHA', '|', 'SAMMY', 'WAWERU']\n",
      "\n",
      " Number of Words:  556\n"
     ]
    }
   ],
   "source": [
    "file=\"22jun13.txt\"\n",
    "\n",
    "# calling the function and storing the contents in a text variable \n",
    "text1 = get_document(\"https://taifaleo.nation.co.ke/kangata-kujua-hatma-yake-ya-ugavana-leo-jumatatu/\")\n",
    "text2 = get_document(\"https://taifaleo.nation.co.ke/mpango-wa-kukusanya-taka-za-plastiki-katika-shule-za-umma-wazinduliwa/\")\n",
    "\n",
    "# calling the store_ document function \n",
    "store_document(doc=text1,name=file)\n",
    "store_document(doc=text2,name=file)\n",
    "\n",
    "#add the words in this file to the total_corpus_words, to keep count of the number of words in the corpus\n",
    "total_corpus_words+=total_words(file)"
   ]
  },
  {
   "cell_type": "code",
   "execution_count": 203,
   "metadata": {},
   "outputs": [
    {
     "data": {
      "text/plain": [
       "487024"
      ]
     },
     "execution_count": 203,
     "metadata": {},
     "output_type": "execute_result"
    }
   ],
   "source": [
    "total_corpus_words"
   ]
  },
  {
   "cell_type": "code",
   "execution_count": 205,
   "metadata": {},
   "outputs": [
    {
     "name": "stdout",
     "output_type": "stream",
     "text": [
      "['Damaris', 'Nyiva', '‘', 'Minam', '’', ':', 'Mwalimu', 'na', 'mwigizaji', 'mahiri', 'NI', 'miongoni', 'mwa', 'wanawake', 'ambao', 'licha', 'ya', 'kuwa', 'ndio', 'mwanzo', 'wameanza', 'kupiga', 'ngoma', 'wamepania', 'kutinga', 'upeo', 'wa', 'kimataifa', 'pia', 'waigizaji', 'tajika', 'miaka', 'ijayo', '.', 'Miaka', 'ya', 'sasa', 'tunazidi', 'kushuhudia', 'waigizaji', 'chipukizi', 'wakiendelea', 'kujitokeza', 'na', 'kujiunga', 'na', 'tasnia', 'ya', 'maigizo', 'kinyume', 'na', 'ilivyokuwa', 'miaka', 'iliyopita', '.', 'Ingawa', 'alivutiwa', 'na', 'uigizaji', 'tangu', 'akiwa', 'mwanafunzi', 'wa', 'shule', 'ya', 'msingi', ',', 'alianza', 'kushiriki', 'filamu', 'mwaka', '2019', 'chini', 'ya', 'kundi', 'la', 'KS', 'Media', 'Production', '.', '“', 'Kusema', 'ukweli', 'nilijikuta', 'kwenye', 'uigizaji', 'wakati', 'ugonjwa', 'wa', 'corona', 'ulitua', 'nchini', 'baada', 'ya', 'shule', 'kufungwa', ',', '”', 'Damaris', 'Nyiva', 'Mwaka', 'maarufu', 'Minam', 'anaambia', 'safu', 'hii', 'na', 'kuongeza', 'kuwa', 'amehitimu', 'kama', 'mwalimu', 'wa', 'shule', 'za', 'msingi', '.', 'Dada', 'huyu', 'mwenye', 'umri', 'wa', 'miaka', '28', 'pia', 'ni', 'mtaalamu', 'wa', 'masuala', 'ya', 'teknolojia', '(', 'ICT', ')', '.', 'Amekuwa', 'akifunza', 'shule', 'jijini', 'Nairobi', 'ndani', 'ya', 'kipindi', 'cha', 'miaka', 'mitatu', 'sasa', '.', 'Binti', 'huyu', 'anasema', 'alipata', 'motisha', 'ya', 'kushiriki', 'filamu', 'baada', 'ya', 'kutazama', 'kazi', 'yake', 'msanii', 'Jackie', 'Agyemang', 'Appiah', 'raia', 'wa', 'Canada', 'na', 'mzawa', 'wa', 'Ghana', '.', 'Kisura', 'huyu', 'pia', 'amefanya', 'kazi', 'ya', 'uigizaji', 'na', 'Samsphine', 'Films', 'Production', 'chini', 'ya', 'produsa', 'Sammy', 'Karey', 'Waweru', '.', 'Ndani', 'ya', 'kampuni', 'hizo', 'mbili', 'ameshiriki', 'filamu', 'kadhaa', 'zilizopakiwa', 'kwenye', 'mtandao', 'wa', 'YouTube', '.', 'Filamu', 'hizi', 'zikiwa', ':', '‘', 'Wendo', 'wa', 'Kamuti', '’', ',', '‘', 'Young', 'Heart', '’', 'na', '‘', 'Love', 'and', 'Deception', '’', '.', '”', 'Kiukweli', 'ninapenda', 'kuigiza', 'ambapo', 'ndani', 'ya', 'miaka', 'mitano', 'ijayo', 'ninatamani', 'kuwa', 'mbali', 'kwa', 'sababu', 'ninaamini', 'ninatosha', 'mboga', ',', '”', 'akasema', '.', 'Pia', 'kafunguka', 'kuwa', 'amepania', 'kushiriki', 'filamu', 'nyingi', 'tu', 'na', 'waigizaji', 'mbali', 'mbali', 'ndani', 'na', 'nje', 'ya', 'taifa', 'hili', '.', 'Katika', 'ulingo', 'wa', 'uigizaji', 'barani', 'Afrika', 'angependa', 'kufanya', 'kazi', 'na', 'Nadia', 'Buhari', 'mzawa', 'wa', 'Ghana', 'ambaye', 'ameshiriki', 'filamu', 'kama', '‘', 'Eyes', 'of', 'My', 'Husband', '’', ',', '‘', 'Heart', 'of', 'Men', '’', ',', '‘', 'Holding', 'Hope', '’', 'na', '‘', 'Chelsea', '’', 'kati', 'ya', 'nyingi', 'nyinginezo', '.', 'Anadokeza', 'kwamba', 'anatamani', 'sana', 'kuona', 'kazi', 'zake', 'zimepata', 'mpenyo', 'kupeperushwa', 'kwenye', 'vyombo', 'vya', 'habari', '.', 'Kama', 'ilivyo', 'kawaida', 'kwa', 'wasanii', 'wengi', 'nchini', 'anatoa', 'wito', 'kwa', 'serikali', 'iwapige', 'jeki', 'kupaisha', 'sekta', 'ya', 'uigizaji', 'ili', 'kutoa', 'ajira', 'kwa', 'waigizaji', 'wengi', 'wanaoendelea', 'kujitosa', 'kwenye', 'ulingo', 'huo', 'kwenye', 'juhudi', 'za', 'kusaka', 'riziki', '.', 'Damaris', 'Nyiva', 'Mwaka', 'maarufu', 'Minam', '.', 'PICHA', '|', 'JOHN', 'KIMWERE', 'Anasema', 'uigizaji', 'ni', 'ajira', 'kama', 'nyingine', '.', 'Licha', 'ya', 'kuwa', 'ni', 'msanii', 'chipukizi', 'sio', 'mchoyo', 'wa', 'mawaidha', '.', 'Anashauri', 'wenzie', 'kuwa', 'wajitume', 'na', 'kuomba', 'Maulana', 'awafungulie', 'njia', 'kupata', 'ajira', '.', 'Pia', 'anawaeleza', 'kuwa', 'kamwe', 'wasigomee', 'talanta', 'zao', 'bali', 'wapambane', 'mwanzo', 'mwisho', 'wakiamia', 'kuwa', 'ipo', 'siku', 'watakumbalika', '.', 'Anadokeza', 'kuwa', 'amewahi', 'kuwa', 'katika', 'mahusiano', 'ndani', 'ya', 'miaka', 'mitano', 'lakini', 'baadaye', 'aliichia', 'kuvunjika', 'moyo', 'baada', 'ya', 'kukosana', 'na', 'kila', 'mmoja', 'kushika', 'zake', 'tano', '.', 'Anasema', 'binfasi', 'alikuwa', 'amejipa', 'kwa', 'mpenziwe', 'akiaminia', 'angekuwa', 'bwanake', 'wa', 'maisha', '.', 'Katika', 'mpango', 'mzima', 'anashikilia', 'kuwa', 'anapania', 'kumiliki', 'brandi', 'ya', 'kuzalisha', 'filamu', 'miaka', 'ijayo', 'lengo', 'kuu', 'likiwa', 'kusaidia', 'waigizaji', 'wanaoibukia', '.']\n",
      "\n",
      " Number of Words:  475\n"
     ]
    }
   ],
   "source": [
    "file=\"22jun14.txt\"\n",
    "\n",
    "# calling the function and storing the contents in a text variable \n",
    "text1 = get_document(\"https://taifaleo.nation.co.ke/damaris-nyiva-minam-mwalimu-na-mwigizaji-mahiri/\")\n",
    "\n",
    "# calling the store_ document function \n",
    "store_document(doc=text1,name=file)\n",
    "\n",
    "#add the words in this file to the total_corpus_words, to keep count of the number of words in the corpus\n",
    "total_corpus_words+=total_words(file)"
   ]
  },
  {
   "cell_type": "code",
   "execution_count": 206,
   "metadata": {},
   "outputs": [
    {
     "data": {
      "text/plain": [
       "487499"
      ]
     },
     "execution_count": 206,
     "metadata": {},
     "output_type": "execute_result"
    }
   ],
   "source": [
    "total_corpus_words"
   ]
  },
  {
   "cell_type": "code",
   "execution_count": 207,
   "metadata": {},
   "outputs": [
    {
     "name": "stdout",
     "output_type": "stream",
     "text": [
      "['Bw', 'Sonko', ',', 'mwanachama', 'wa', 'Wiper', ',', 'alikuwa', 'amewasilisha', 'kesi', 'kadha', 'mahakamani', 'na', 'kwa', 'jopo', 'la', 'kutatua', 'malalamishi', 'katika', 'IEBC', 'kupinga', 'uamuzi', 'wa', 'tume', 'hiyo', 'kuzima', 'azma', 'yake', '.', 'Jaji', 'John', 'Mativo', ',', 'alisema', 'ingekuwa', 'hatari', 'kwa', 'mahakama', 'kutoa', 'agizo', 'aina', 'hiyo', 'kwa', 'sasa', 'kwani', 'pande', 'tofauti', 'hazijasikizwa', 'na', 'pia', 'huenda', 'agizo', 'aina', 'hiyo', 'ikahitilafiana', 'na', 'kesi', 'nyinge', 'zinazohusiana', 'na', 'suala', 'hilo', 'hilo', '.', 'Anataka', 'pia', 'uamuzi', 'wa', 'mkuu', 'wa', 'uchaguzi', 'Mombasa', 'kukataa', 'kumwidhinisha', 'kuwania', 'ugavana', 'Mombasa', 'ubatilishwe', 'na', 'mahakama', '.', 'Kulingana', 'naye', ',', 'suala', 'la', 'kuwa', 'hafai', 'kuwania', 'kiti', 'cha', 'kisiasa', 'kwa', 'msingi', 'wa', 'kung', '’', 'atuliwa', 'mamlakani', 'kwa', 'sababu', 'za', 'kimaadili', ',', 'halina', 'msingi', 'kwa', 'vile', 'amekata', 'rufaa', 'dhidi', 'ya', 'hatua', 'hiyo', 'katika', 'Mahakama', 'ya', 'Juu', '.', 'Bw', 'Sonko', 'analalamika', 'kuwa', ',', 'uamuzi', 'wa', 'tume', 'ya', 'uchaguzi', 'kumzuia', 'kuwania', 'ugavana', 'Mombasa', 'unakiuka', 'haki', 'zake', 'kwa', 'ile', 'ulifanywa', 'kabla', 'apewe', 'nafasi', 'ya', 'kujieleza', '.', '“', 'Hili', 'ni', 'suala', 'linalohitajika', 'kuamuliwa', 'kwa', 'haraka', 'kwa', 'vile', 'lina', 'umuhimu', 'mkubwa', 'kwa', 'umma', 'na', 'pia', ',', 'itakuwa', 'kwa', 'manufaa', 'ya', 'haki', 'kwa', 'sababu', 'ya', 'jinsi', 'ratiba', 'ya', 'uchaguzi', 'ilivyo', ',', '”', 'akasema', 'Bw', 'Sonko', '.', 'Mwanasiasa', 'huyo', 'amewakosoa', 'pia', 'IEBC', 'na', 'maafisa', 'wake', 'akisema', 'walikosea', 'na', 'kumdhulumu', 'kwani', 'kuna', 'wanasiasa', 'wengine', 'waliohukumiwa', 'ilhali', 'wamekubaliwa', 'kuwa', 'wagombeaji', 'katika', 'uchaguzi', 'Agosti', 'kwa', 'sababu', 'walikata', 'rufaa', 'dhidi', 'ya', 'hukumu', 'zao', '.', 'Amezidi', 'kudai', 'kuwa', ',', 'maamuzi', 'yanayofanywa', 'na', 'mwenyekiti', 'wa', 'IEBC', ',', 'Bw', 'Wafula', 'Chebukati', ',', 'dhidi', 'yake', 'yanachochewa', 'na', 'shinikizo', 'kutoka', 'nje', 'ya', 'tume', 'hiyo', '.', '“', 'Maamuzi', 'ya', 'mshtakiwa', 'wa', 'pili', '(', 'Bw', 'Chebukati', ')', 'yanatofautiana', 'na', 'mahitaji', 'ya', 'mamlaka', 'ya', 'afisi', 'yake', 'kufanya', 'maamuzi', 'kwa', 'njia', 'huru', ',', 'bila', 'mapendeleo', 'wala', 'uoga', ',', '”', 'akasema', 'Bw', 'Sonko', ',', 'katika', 'mawasilisho', 'yake', '.', 'Malalamishi', 'sawa', 'na', 'hayo', 'yaliwasilishwa', 'kwa', 'jopo', 'la', 'IEBC', 'la', 'kusikiza', 'malalamishi', 'Nairobi', ',', 'ambapo', 'aliandamana', 'na', 'kiongozi', 'wa', 'Chama', 'cha', 'Wiper', ',', 'Bw', 'Kalonzo', 'Musyoka', '.', 'IEBC', 'imejitetea', 'ilikataa', 'kumwidhinisha', 'kwa', 'kutowasilisha', 'cheti', 'chake', 'halisi', 'cha', 'shahada', 'ya', 'digrii', ',', 'chapa', 'ya', 'cheti', 'hicho', 'iliyopigwa', 'muhuri', 'na', 'chuo', 'kikuu', 'alikosomea', ',', 'na', 'ukiukaji', 'wa', 'Ibara', '75', 'ya', 'Katiba', '.', 'Mwilu', 'akemea', 'ongezeko', 'la', 'ubakaji', 'watoto', 'NAIBU', 'Jaji', 'Mkuu', ',', 'Philomena', 'Mwilu', ',', 'amelalamikia', 'ongezeko', 'la', 'visa', 'vya', 'dhuluma', 'za', 'kimapenzi', 'nchini', ',', 'pamoja', 'na', 'wazazi', 'wanaoshirikiana', 'na', 'watu', 'wengine', 'katika', 'jamii', 'kuficha', 'uozo', 'huo', '.', 'Alisema', 'wengi', 'huficha', 'visa', 'hivyo', 'ili', '“', 'kudumisha', 'hadhi', '”', 'za', 'familia', 'zao', '.', 'Akihutubu', 'alipoongoza', 'hafla', 'ya', 'kusherehekea', 'Siku', 'ya', 'Mtoto', 'wa', 'Kiafrika', 'katika', 'Shule', 'ya', 'Msingi', 'ya', 'Mbagathi', ',', 'jijini', 'Nairobi', ',', 'Jaji', 'Mwilu', 'alisema', 'kuna', 'mtindo', 'unaoibuka', ',', 'kwamba', 'wakati', 'mtoto', 'anaporipoti', 'suala', 'la', 'dhuluma', 'za', 'kimapenzi', 'kwa', 'wazazi', 'wake', ',', 'wazazi', 'hao', 'hufanya', 'kila', 'wawezalo', 'kuficha', 'visa', 'hivyo', 'badala', 'ya', 'kuweka', 'juhudi', 'za', 'kuwatafutia', 'haki', 'wanao', '.', '“', 'Mzazi', 'anayeficha', 'visa', 'kama', 'hivyo', 'hafai', 'kuitwa', 'mzazi', '.', 'Ni', 'aibu', 'kubwa', 'kwa', 'mzazi', 'yeyote', 'anayeficha', 'maovu', 'hayo', 'badala', 'ya', 'kuwasaidia', 'wanao', 'kupata', 'haki', '!', '”', 'akasema', 'Jaji', 'Mwilu', ',', 'akiongeza', 'kuwa', 'watoto', 'wengi', 'wanaopitia', 'dhuluma', 'hizo', 'hukumbwa', 'na', 'matatizo', 'mengi', 'ya', 'kisaikolojia', 'baadaye', '.', '“', 'Jamii', 'ambayo', 'huwa', 'haitilii', 'maanani', 'maslahi', 'na', 'usalama', 'wa', 'watoto', 'wake', 'haifai', 'kuwepo', ',', '”', 'akaongeza', '.', 'Aliwaambia', 'watoto', 'wanaopitia', 'dhuluma', 'kama', 'hizo', 'kutonyamaza', 'hata', 'kidogo', '.', '“', 'Msinyamaze', '!', 'Hata', 'ikiwa', 'wazazi', 'wako', 'hawataki', 'kueleza', 'jambo', 'hilo', ',', 'tafuta', 'mtu', 'mwingine', 'unayemwamini', 'na', 'kumwambia', '.', 'Inaweza', 'kuwa', 'ni', 'mwalimu', 'wako', ',', 'shangazi', 'au', 'mtu', 'mwingine', 'unayemwamini-mwambie', 'bila', 'kuogopa', '.', 'Msikubali', 'kuwa', 'sehemu', 'ya', 'wale', 'wananyamazia', 'maovu', 'hayo', ',', 'kwani', 'hilo', 'huwa', 'kama', 'kuwapa', 'wahusika', 'nafasi', 'na', 'ushujaa', 'zaidi', 'kuendelea', 'kufanya', 'hivyo', '.', 'Msitishike', 'hata', 'baada', 'ya', 'waovu', 'hao', 'kuwatisha', 'dhidi', 'ya', 'kuwafichua', 'na', 'kutafuta', 'haki', ',', '”', 'akaeleza', '.', '“', 'Ninamrai', 'yeyote', 'ambaye', 'amedhulumiwa', 'kimapenzi', 'au', 'kubakwa', ',', 'kutozingatia', 'miito', 'kwamba', 'wanapaswa', 'kuoga', 'mara', 'moja', 'baada', 'ya', 'visa', 'hivyo', '.', 'Badala', 'yake', ',', 'wanapaswa', 'kufika', 'katika', 'hospitali', 'iliyo', 'karibu', 'mara', 'moja', 'ili', 'kuwawezesha', 'wahudumu', 'wa', 'afya', 'kuchukua', 'ushahidi', 'wa', 'kimatibabu', '.', 'Hilo', 'litaziwezesha', 'idara', 'husika', 'kuwanasa', 'wahusika', 'na', 'kudhihirisha', 'kikamilifu', 'kuwa', 'walishiriki', 'kwenye', 'unyama', 'kama', 'huo', ',', '”', 'akasema', '.']\n",
      "\n",
      " Number of Words:  654\n"
     ]
    }
   ],
   "source": [
    "file=\"22jun15.txt\"\n",
    "\n",
    "# calling the function and storing the contents in a text variable \n",
    "text1 = get_document(\"https://taifaleo.nation.co.ke/pigo-kwa-sonko-iebc-ikimzidi-ujanja-raundi-ya-kwanza/\")\n",
    "text2 = get_document(\"https://taifaleo.nation.co.ke/mwilu-akemea-ongezeko-la-ubakaji-watoto/\")\n",
    "\n",
    "# calling the store_ document function \n",
    "store_document(doc=text1,name=file)\n",
    "store_document(doc=text2,name=file)\n",
    "\n",
    "#add the words in this file to the total_corpus_words, to keep count of the number of words in the corpus\n",
    "total_corpus_words+=total_words(file)"
   ]
  },
  {
   "cell_type": "code",
   "execution_count": 208,
   "metadata": {},
   "outputs": [
    {
     "data": {
      "text/plain": [
       "488153"
      ]
     },
     "execution_count": 208,
     "metadata": {},
     "output_type": "execute_result"
    }
   ],
   "source": [
    "total_corpus_words"
   ]
  },
  {
   "cell_type": "code",
   "execution_count": 209,
   "metadata": {},
   "outputs": [
    {
     "name": "stdout",
     "output_type": "stream",
     "text": [
      "['Korti', 'yabatilisha', 'uamuzi', 'kuhusu', 'bondi', 'ya', 'Sh300,000', 'MAHAKAMA', 'Kuu', 'imebatilisha', 'uamuzi', 'wa', 'mahakama', 'ya', 'chini', 'ulioamuru', 'kufutiliwa', 'mbali', 'kwa', 'dhamana', 'ya', 'Sh300,000', 'pesa', 'taslimu', 'dhidi', 'ya', 'mchezaji', 'raga', 'wa', 'zamani', ',', 'Alex', 'Olaba', 'katika', 'kesi', 'ya', 'ubakaji', '.', 'Dhamana', 'hiyo', 'ilitupiliwa', 'mbali', 'mnamo', 'Mei', '2021', 'kufuatia', 'madai', 'kwamba', ',', 'Bw', 'Olaba', 'alikula', 'njama', 'za', 'kumuua', 'shahidi', 'mmoja', 'wa', 'upande', 'wa', 'mashtaka', 'katika', 'kesi', 'hiyo.Jaji', 'Grace', 'Nzioka', ',', 'hata', 'hivyo', ',', 'amebatilisha', 'uamuzi', 'wa', 'hakimu', 'baada', 'ya', 'kubaini', 'kuwa', ',', 'hatua', 'ya', 'kufutilia', 'mbali', 'dhamana', 'hiyo', 'haikufuata', 'utaratibu', 'ufaao', '.', 'Kwenye', 'uamuzi', 'wake', 'katika', 'kesi', 'iliyowasilishwa', 'na', 'wakili', 'wa', 'Bw', 'Olaba', ',', 'Cliff', 'Oduk', ',', 'korti', 'ilibaini', 'kuwa', 'mshukiwa', 'alihukumiwa', 'bila', 'kupatiwa', 'fursa', 'ya', 'kusikilizwa', '.', 'Aidha', ',', 'ilibainika', 'kwamba', 'mawasilisho', 'rasmi', 'hayakutolewa', 'kabla', 'ya', 'kufutilia', 'mbali', 'dhamana', 'wala', 'kuwasilishwa', 'kwa', 'nakala', 'ya', 'kiapo', 'na', 'afisa', 'anayechunguza', 'kesi', 'hiyo', 'ili', 'kuthibitisha', 'madai', 'yaliyotolewa', 'dhidi', 'ya', 'Bw', 'Olaba', 'kuhusu', 'njama', 'za', 'mauaji', '.', 'Kufuatia', 'hatua', 'hiyo', ',', 'mchezaji', 'raga', 'huyo', 'wa', 'zamani', 'wa', 'Kenya', 'Sevens', 'alitupwa', 'rumande', 'katika', 'Gereza', 'la', 'Industrial', 'Area', 'hadi', 'kesi', 'hiyo', 'itakaposikizwa', 'na', 'uamuzi', 'kutolewa', '.', 'Jaji', 'akosoa', 'uzuiliaji', 'washukiwa', 'seli', 'muda', 'mrefu', 'JAJI', 'wa', 'Mahakama', 'ya', 'Mombasa', 'amekosoa', 'kuzuiliwa', 'kwa', 'muda', 'mrefu', 'washukiwa', 'akisema', 'ni', 'udhalimu', 'wa', 'haki', '.', 'Jaji', 'John', 'Mativo', 'alisema', 'haifai', 'washukiwa', 'ambao', 'bado', 'hawajapatikana', 'na', 'hatia', 'kuwekwa', 'kizuizini', 'kwa', 'muda', 'mrefu', 'wa', 'hata', 'miaka', 'minne', 'kabla', 'ya', 'kesi', 'inayowakabili', 'kuamuliwa', '.', '“', 'Kucheleweshwa', 'kwa', 'kesi', 'bado', 'kunasalia', 'kuwa', 'shida', 'ya', 'mfumo', 'wetu', 'wa', 'haki', '.', 'Hili', 'lazima', 'libadilike', ',', '”', 'alisema', 'Jaji', 'huyo', '.', 'Jaji', 'Mativo', 'aligundua', 'hali', 'hii', 'ya', 'kusikitisha', 'wakati', 'wa', 'ziara', 'zake', 'za', 'usimamizi', 'katika', 'magereza', ',', 'ambayo', 'alisema', 'inachangiwa', 'zaidi', 'na', 'mahakama', 'kwa', 'kuchelewa', 'kumaliza', 'kesi', '.', 'Jaji', 'Mativo', 'alisema', 'haya', 'huku', 'akimwachilia', 'huru', 'mshukiwa', 'ambaye', 'amekaa', 'kizuizini', 'tangu', 'Oktoba', '2021', 'licha', 'ya', 'kuwa', 'kesi', 'yake', 'bado', 'haijasikilizwa', 'na', 'kuamuliwa', '.', 'Bw', 'Wesley', 'Rerimoi', 'aliachiliwa', 'kwa', 'dhamana', 'ya', 'Sh50,000', 'baada', 'ya', 'jaji', 'huyo', 'kushikilia', 'kuwa', 'haki', 'yake', 'ilikiukwa', 'kwa', 'kumweka', 'gerezani', 'kwa', 'miezi', 'kadhaa', 'licha', 'ya', 'kuwa', 'hakukua', 'na', 'sababu', 'ya', 'msingi', 'ya', 'kumnyima', 'dhamana', 'katika', 'mahakama', 'ya', 'mahakimu', 'ambapo', 'alishtakiwa', '.', 'Bw', 'Reimori', 'anakabiliwa', 'na', 'kesi', 'ya', 'uhalifu', 'mbele', 'ya', 'mahakama', 'ya', 'hakimu', '.', 'Rekodi', 'za', 'mahakama', 'zinaonyesha', 'kuwa', 'mshukiwa', 'amehudhuria', 'kortini', 'mara', '13', 'lakini', 'kesi', 'yake', 'bado', 'haijaanza', '.']\n",
      "\n",
      " Number of Words:  372\n"
     ]
    }
   ],
   "source": [
    "file=\"22jun16.txt\"\n",
    "\n",
    "# calling the function and storing the contents in a text variable \n",
    "text1 = get_document(\"https://taifaleo.nation.co.ke/korti-yabatilisha-uamuzi-kuhusu-bondi-ya-sh300000/\")\n",
    "text2 = get_document(\"https://taifaleo.nation.co.ke/jaji-akosoa-uzuiliaji-washukiwa-seli-muda-mrefu/\")\n",
    "\n",
    "\n",
    "# calling the store_ document function \n",
    "store_document(doc=text1,name=file)\n",
    "store_document(doc=text2,name=file)\n",
    "\n",
    "\n",
    "#add the words in this file to the total_corpus_words, to keep count of the number of words in the corpus\n",
    "total_corpus_words+=total_words(file)"
   ]
  },
  {
   "cell_type": "code",
   "execution_count": 210,
   "metadata": {},
   "outputs": [
    {
     "data": {
      "text/plain": [
       "488525"
      ]
     },
     "execution_count": 210,
     "metadata": {},
     "output_type": "execute_result"
    }
   ],
   "source": [
    "total_corpus_words"
   ]
  },
  {
   "cell_type": "code",
   "execution_count": 212,
   "metadata": {},
   "outputs": [
    {
     "name": "stdout",
     "output_type": "stream",
     "text": [
      "['Chama', 'chakana', 'Wajackoyah', 'ataburudisha', 'Nyeri', 'CHAMA', 'cha', 'Roots', 'kimepuuzilia', 'mbali', 'ripoti', 'kwamba', 'mgombea', 'wake', 'wa', 'urais', 'George', 'Wajackoyah', 'anatarajiwa', 'kuzuru', 'mji', 'wa', 'Nyeri', 'wikendi', 'hii', 'kwa', 'shoo', 'ya', '‘', 'reggae', 'night', '’', 'katika', 'kilabu', 'kimoja', 'cha', 'burudani', '.', 'Akiongea', 'na', 'Taifa', 'Leo', ',', 'msemaji', 'wa', 'chama', 'hicho', 'Wilson', 'Muirani', ',', 'maarufu', 'kama', 'Jaymo', 'Ule', 'Msee', ',', 'alikana', 'madai', 'ya', 'kiongozi', 'wa', 'chama', 'hicho', 'ameratibiwa', 'kukutana', 'na', 'wafuasi', 'wake', 'leo', 'Jumamosi', '.', 'Kulingana', 'na', 'bango', 'linalozungushwa', 'katika', 'mitandao', 'ya', 'kijamii', ',', 'Prof', 'Wajackoyah', 'alikuwa', 'amepangiwa', 'kuhudhuria', 'tamasha', 'la', '‘', 'reggae', 'night', '’', 'katika', 'Joy', 'Green', 'Resort', ',', 'viungani', 'mwa', 'mji', 'wa', 'Nyeri', '.', 'Ripoti', 'kuhusu', 'tamasha', 'hilo', 'ilizuzua', 'mashabiki', 'wengi', 'wa', 'burudani', 'katika', 'mitandao', 'ya', 'kijamii', 'kwa', 'muda', 'wa', 'wiki', 'moja', 'sasa', '.', 'Kulingana', 'na', 'tangazo', 'katika', 'mabango', 'hayo', 'ni', 'watu', 'wenye', 'umri', 'wa', 'miaka', '21', 'kwenda', 'juu', 'pekee', 'ndio', 'walihitajika', 'kuhudhuria', 'tamasha', 'hilo', 'kwa', 'ada', 'ya', 'kiilingilio', 'ya', 'Sh300', ',', 'kila', 'mmoja', '.', 'Lakini', 'kulingana', 'na', 'Bw', 'Muirani', ',', 'shughuli', 'hiyo', 'iliyovumishwa', 'zaidi', 'mitandaoni', 'ni', 'feki', ',', 'na', 'wanachama', 'wa', 'chama', 'cha', 'Roots', 'hawana', 'habari', 'kuihusu', '.', '“', 'Ama', 'kwa', 'kweli', ',', 'tumeona', 'tangazo', 'hilo', 'katika', 'mitandao', 'ya', 'kijamii', 'sawa', 'na', 'watu', 'wengine', 'na', 'tukashangaa', '.', 'Tujuavyo', 'ni', 'kwamba', 'mgombea', 'urais', 'kwa', 'tiketi', 'ya', 'chama', 'chetu', 'hana', 'mipango', 'ya', 'kuzuru', 'eneo', 'la', 'Kati', 'mwa', 'Kenya', 'wikendi', 'hii', ',', '”', 'akasema', '.', 'Bw', 'Muirani', 'alisema', 'tamasha', 'hilo', 'liliandaliwa', 'na', 'walaghai', 'ambao', 'nia', 'yao', 'ilikuwa', 'kuchuma', 'pesa', 'kutoka', 'kwa', 'wananchi', 'kwa', 'njia', 'haramu', '.']\n",
      "\n",
      " Number of Words:  242\n"
     ]
    }
   ],
   "source": [
    "file=\"22jun18.txt\"\n",
    "\n",
    "# calling the function and storing the contents in a text variable \n",
    "text2 = get_document(\"https://taifaleo.nation.co.ke/chama-chakana-wajackojah-ataburudisha-nyeri/\")\n",
    "\n",
    "\n",
    "# calling the store_ document function \n",
    "store_document(doc=text2,name=file)\n",
    "\n",
    "\n",
    "#add the words in this file to the total_corpus_words, to keep count of the number of words in the corpus\n",
    "total_corpus_words+=total_words(file)"
   ]
  },
  {
   "cell_type": "code",
   "execution_count": 213,
   "metadata": {},
   "outputs": [
    {
     "data": {
      "text/plain": [
       "488767"
      ]
     },
     "execution_count": 213,
     "metadata": {},
     "output_type": "execute_result"
    }
   ],
   "source": [
    "total_corpus_words"
   ]
  },
  {
   "cell_type": "code",
   "execution_count": 214,
   "metadata": {},
   "outputs": [
    {
     "name": "stdout",
     "output_type": "stream",
     "text": [
      "['Babu', 'Owino', 'akana', 'madai', 'kwamba', 'alichochea', 'fujo', 'Jacaranda', 'MBUNGE', 'wa', 'Embakasi', 'Mashariki', 'Babu', 'Owino', 'amejitenga', 'na', 'madai', 'kuwa', 'alichochea', 'vurugu', 'zilizoshuhudiwa', 'katika', 'uwanja', 'wa', 'Jacaranda', ',', 'Nairobi', 'kabla', 'ya', 'mkutano', 'wa', 'muungano', 'wa', 'Kenya', 'Kwanza', ',', 'Jumapili', ',', 'Juni', '19', ',', '2022', '.', 'Kupitia', 'ujumbe', 'katika', 'akaunti', 'yake', 'ya', 'Twitter', ',', 'Bw', 'Owino', 'alidai', 'kuwa', 'fujo', 'hizo', 'zilizochangia', 'watu', 'watano', 'kujeruhiwa', 'zilipangwa', 'kimasukudi', 'na', 'muungano', 'huo', 'wa', 'Kenya', 'Kwanza', '.', 'Mbunge', 'huyo', 'alichapisha', 'picha', 'ambazo', 'alidai', 'ni', 'ushahidi', 'kwamba', 'hakupanga', 'machafuko', 'hayo', 'yaliyochangia', 'kujeruhiwa', 'kwa', 'mgombea', 'ubunge', 'kwa', 'tikiti', 'ya', 'chama', 'cha', 'United', 'Democratic', 'Alliance', '(', 'UDA', ')', 'Francis', 'Mureithi', 'aliyepata', 'jeraha', 'kichwani', '.', '“', 'Tazama', 'picha', 'hizi', 'kwa', 'makini', '.', 'Watu', 'wenye', 'sare', 'za', 'UDA', 'ndio', 'walishambulia', 'gari', 'la', 'Ruto', 'kwa', 'mawe', '.', 'Ni', 'wao', 'ndio', 'waligeuka', 'na', 'kujifanya', 'kutoa', 'usalama', 'katika', 'mkutano', 'huo', '.', 'Msituhadae', 'baada', 'ya', 'kupanga', 'mashambulio', 'dhidi', 'yenu', ',', '”', 'Owino', 'akasema', '.', 'Kauli', 'ya', 'Mbunge', 'huyo', 'ilijiri', 'baada', 'ya', 'mgombea', 'urais', 'wa', 'Kenya', 'Kwanza', 'Naibu', 'Rais', 'William', 'Ruto', 'kudai', 'mshindani', 'wake', 'mkuu', 'Raila', 'Odinga', 'ndiye', 'alichochea', 'ghasia', 'hizo', '.', 'Akiongea', 'katika', 'uwanja', 'huo', 'wa', 'Jacaranda', ',', 'Dkt', 'Ruto', 'alidai', 'kuwa', 'mgombea', 'huyo', 'wa', 'urais', 'wa', 'muungano', 'wa', 'Azimio', 'la', 'Umoja-One', 'Kenya', 'aliwakodi', 'vijana', 'kuzuia', 'kusambaratisha', 'mkutano', 'huo', 'kwa', 'lengo', 'la', 'kuwatisha', 'wafuasi', 'wake', '.', '“', 'Hakuna', 'vitisho', ',', 'vitendo', 'vya', 'urushaji', 'mawe', 'au', 'kutumiwa', 'kwa', 'vijana', 'kutatuzuia', 'kushinda', 'uchaguzi', 'mkuu', 'wa', 'Agosti', '9', ',', '”', 'akasema', '.', 'Rais', 'wa', 'Tanzania', 'Samia', 'Suluhu', 'Hassan', 'aliwakilishwa', 'na', 'Balozi', 'wa', 'taifa', 'hilo', 'nchini', 'Kenya', 'John', 'Stephen', 'Simbachawene', '.', 'Mwishoni', 'mwa', 'mwaka', '2021', ',', 'uhusiano', 'kati', 'ya', 'Rwanda', 'na', 'DRC', 'ulizorota', 'baada', 'ya', 'Bw', 'Tshisekedi', 'kumsuta', 'mwenzake', 'Kagame', 'kwa', 'kuunga', 'mkono', 'waasi', 'ambao', 'wamekuwa', 'wakisababisha', 'mashambulio', 'katika', 'mkoa', 'wa', 'Kivu', 'Kaskazini', '.', 'Rwanda', 'imelaumiwa', 'kwa', 'kuunga', 'mkono', 'waasi', 'wa', 'M23', 'ambao', 'wanapigana', 'na', 'vikosi', 'vya', 'usalama', 'wa', 'serikali', 'ya', 'DRC', '.', 'Serikali', 'ilikana', 'madai', 'hayo', '.', 'Lawama', 'hizi', 'ziliongeza', 'uhasama', 'katika', 'ya', 'mataifa', 'hayo', 'na', 'kupelekea', 'DRC', 'kupiga', 'marufuku', 'ndege', 'za', 'shirika', 'la', 'ndege', 'la', 'RwandaAir', 'kuhudumu', 'katika', 'anga', 'yake', '.', 'Kama', 'hatua', 'ya', 'kulipiza', 'kisasi', ',', 'serikali', 'ya', 'Rwanda', 'pia', 'ilipiga', 'marufuku', 'safari', 'zote', 'za', 'ndege', 'zake', 'kuelekea', 'miji', 'ya', 'Kinshasa', ',', 'Lubumbashi', 'na', 'Goma', '.', 'Mnamo', 'Ijumaa', 'Juni', '17', ',', '2022', ',', 'DRC', 'pia', 'ilifunga', 'mpaka', 'wake', 'na', 'Rwanda', 'kuhusiana', 'na', 'madai', 'kuwa', 'mwanajeshi', 'wake', 'mmoja', 'alipigwa', 'risasi', 'na', 'kuuawa', 'katika', 'makabiliano', 'kati', 'yao', 'na', 'wanajeshi', 'wa', 'Rwanda', '.', 'Shirika', 'hilo', 'aidha', 'linahimiza', 'wadau', 'katika', 'katika', 'sekta', 'ya', 'umma', 'na', 'kibinafsi', ',', 'wanaopiga', 'jeki', 'sekta', 'ya', 'kilimo', 'na', 'ufugaji', 'nchini', 'kuungana', 'kusaidia', 'vijana', 'kuingilia', 'ukulima', '.', 'Uzinduzi', 'wa', 'mipango', 'ya', 'Heifer', 'International', 'kuhamasisha', 'vijana', 'nchini', 'kuwa', 'katika', 'mstari', 'wa', 'kilimo', 'kupiga', 'jeki', 'sekta', 'ya', 'kilimo', 'PICCHA', '|', 'SAMMY', 'WAWERU', 'Baadhi', 'ya', 'waliohojiwa', 'katika', 'utafiti', 'wa', '2021', ',', 'walisema', 'kilimo', 'ni', 'cha', 'waliostaafu', 'na', 'wakongwe', '.', '“', 'Mtandao', 'wa', 'uzalishaji', 'chakula', 'ni', 'pana', ',', 'si', 'lazima', 'wawe', 'shambani', '.', 'Wanaweza', 'kushiriki', 'kutoa', 'ushauri', 'nasaha', 'kufanya', 'kilimo', 'bora', ',', 'kusafirisha', 'mazao', 'sokoni', ',', 'kuyauza', ',', 'kuongeza', 'thamani', 'kati', 'ya', 'biashara', 'nyingi', 'zilizoko', 'katika', 'sekta', 'hii', 'faafu', ',', '”', 'Esta', 'akaambia', 'Taifa', 'Leo', 'majuzi', '.', 'Kulingana', 'na', 'Taasisi', 'ya', 'Unakili', 'wa', 'Takwimu', 'Nchini', '(', 'KNBS', ')', ',', 'sekta', 'ya', 'kilimo', 'inachangia', 'asilimia', '33', 'katika', 'ukuaji', 'wa', 'uchumi', 'na', 'maendeleo', ',', 'GDP', '.']\n",
      "\n",
      " Number of Words:  533\n"
     ]
    }
   ],
   "source": [
    "file=\"22jun20.txt\"\n",
    "\n",
    "# calling the function and storing the contents in a text variable \n",
    "text1 = get_document(\"https://taifaleo.nation.co.ke/babu-owino-akana-madai-kwamba-alichochea-fujo-jacaranda/\")\n",
    "text2 = get_document(\"https://taifaleo.nation.co.ke/uhuru-aongoza-mkutano-wa-marais-wa-eac-kujadili-mzozo-wa-drc-na-rwanda/\")\n",
    "text3 = get_document(\"https://taifaleo.nation.co.ke/shirika-la-heifer-lahimiza-vijana-wawe-mstari-wa-mbele-kuimarisha-kilimo-ufugaji/\")\n",
    "\n",
    "\n",
    "# calling the store_ document function \n",
    "store_document(doc=text1,name=file)\n",
    "store_document(doc=text2,name=file)\n",
    "store_document(doc=text3,name=file)\n",
    "\n",
    "\n",
    "#add the words in this file to the total_corpus_words, to keep count of the number of words in the corpus\n",
    "total_corpus_words+=total_words(file)"
   ]
  },
  {
   "cell_type": "code",
   "execution_count": 215,
   "metadata": {},
   "outputs": [
    {
     "data": {
      "text/plain": [
       "489300"
      ]
     },
     "execution_count": 215,
     "metadata": {},
     "output_type": "execute_result"
    }
   ],
   "source": [
    "total_corpus_words"
   ]
  },
  {
   "cell_type": "code",
   "execution_count": 217,
   "metadata": {},
   "outputs": [
    {
     "name": "stdout",
     "output_type": "stream",
     "text": [
      "['Wanahabari', 'kutoka', 'mashirika', 'tofauti', 'walilazimika', 'kuondoka', 'eneo', 'hilo', 'na', 'kukaa', 'kwa', 'zaidi', 'ya', 'saa', 'tatu', 'wakingoja', 'kuelezwa', 'kuhusu', 'yaliyojiri', 'kwenye', 'kikao', 'hicho', '.', 'Baada', 'ya', 'Dkt', 'Ruto', 'na', 'washirika', 'wake', 'kutoka', 'kwenye', 'kikao', 'hicho', ',', 'waliwahutubia', 'wanahabari', ',', 'wakisema', 'kuwa', 'walikuwa', 'wakijadili', 'masuala', 'ya', 'amani', '.', '“', 'Nilikuja', 'hapa', 'kuwahakikishia', 'wenyeji', 'wa', 'Njoro', 'na', 'Molo', 'kwamba', 'mrengo', 'wa', 'Kenya', 'Kwanza', 'umejitolea', 'kuhakikisha', 'kuna', 'amani', 'na', 'umoja', 'uchaguzi', 'mkuu', 'wa', 'Agosti', 'unapokaribia', '.', 'Washindani', 'wangu', 'wamekuwa', 'wakieneza', 'chuki', 'kwenye', 'kampeni', 'zao', '.', 'Hivyo', ',', 'nilifika', 'kuwarai', 'wenyeji', 'wa', 'Njoro', 'na', 'Molo', 'kudumisha', 'amani', ',', 'ikizingatiwa', 'maeneo', 'hayo', 'yana', 'wakazi', 'kutoka', 'jamii', 'tofauti', ',', '”', 'akasema', 'Dkt', 'Ruto', '.', '“', 'Ningetaka', 'kuwahimiza', 'washindani', 'wangu', 'pia', 'kutoa', 'hakikisho', 'la', 'kuzingatia', 'amani', 'kabla', ',', 'wakati', 'na', 'baada', 'ya', 'uchaguzi', 'mkuu', 'licha', 'ya', 'matokeo', 'yatakavyokuwa', ',', '”', 'akaeleza', '.', 'Hata', 'hivyo', ',', 'baadhi', 'ya', 'watu', 'waliokuwepo', 'kwenye', 'kikao', 'hicho', 'walisema', 'kuwa', 'suala', 'kuu', 'lililojadiliwa', 'ni', 'kupungua', 'kwa', 'umaarufu', 'wa', 'muungano', 'huo', 'katika', 'baadhi', 'ya', 'sehemu', 'za', 'Njoro', 'na', 'Molo', '.', 'Awali', ',', 'Dkt', 'Ruto', 'alifanya', 'kikao', 'na', 'Chama', 'cha', 'Watengenezaji', 'Bidhaa', 'Kenya', '(', 'KAM', ')', 'katika', 'makazi', 'yake', 'mtaani', 'Karen', ',', 'jijini', 'Nairobi', '.']\n",
      "\n",
      " Number of Words:  189\n"
     ]
    }
   ],
   "source": [
    "file=\"22jun21.txt\"\n",
    "\n",
    "# calling the function and storing the contents in a text variable \n",
    "text1 = get_document(\"https://taifaleo.nation.co.ke/ruto-afukuza-waandishi-habari-kwenye-mkutano-wake-alioandaa-nakuru/\")\n",
    "\n",
    "# calling the store_ document function \n",
    "store_document(doc=text1,name=file)\n",
    "\n",
    "#add the words in this file to the total_corpus_words, to keep count of the number of words in the corpus\n",
    "total_corpus_words+=total_words(file)"
   ]
  },
  {
   "cell_type": "code",
   "execution_count": null,
   "metadata": {},
   "outputs": [],
   "source": [
    "total_corpus_words"
   ]
  },
  {
   "cell_type": "code",
   "execution_count": 218,
   "metadata": {},
   "outputs": [
    {
     "name": "stdout",
     "output_type": "stream",
     "text": [
      "['“', 'Nawapongeza', 'kwa', 'kutoa', 'uamuzi', 'ulioniridhisha', 'ikitiliwa', 'maanani', 'mlikuwa', 'na', 'kesi', '300', 'na', 'zote', 'mmeziamua', '.', 'Hamkulala', 'hata', 'katika', 'muda', 'wa', 'siku', '10', ',', '”', 'alisema', 'Owuoko', '.', 'Pia', 'alisababisha', 'kicheko', 'tena', 'akisema', ':', '“', 'Kama', 'ningeshinda', 'urais', 'ningekufanya', 'wewe', '(', 'Wambua', 'Kilonzo', ')', 'mwanasheria', 'mkuu', 'kwa', 'vile', 'wewe', 'uko', 'na', 'roho', 'safi', 'na', 'uko', 'na', 'ukwasi', 'wa', 'sheria', '.', 'Umenieleza', 'nikaridhika', 'sababu', 'ya', 'kung', '’', 'atuliwa', 'kinyang', '’', 'anyironi', 'cha', 'mbio', 'za', 'kuenda', 'Ikulu.', '”', 'Alisema', 'kwa', 'ujumla', 'Kilonzo', ',', 'Nyang', '’', 'aya', 'na', 'Masitsi', 'waliendeleza', 'jopo', 'hilo', 'kwa', 'uchagamfu', 'na', 'furaha', '.', '“', 'Naomba', 'Mungu', 'awabariki', 'katika', 'kazi', 'zenu', 'za', 'kuhakikisha', 'haki', 'imetendeka', ',', '”', 'Bw', 'Owuoko', 'aliomba', '.', '“', 'Amen', '(', 'Amina', ')', ',', '”', 'Bw', 'Kilonzo', 'alijibu', '.', 'Bw', 'Chebukati', 'alikataa', 'kuidhinisha', 'Bw', 'Owuoko', 'kuwania', 'urais', 'kwa', 'vile', 'hakuwasilisha', 'karatasi', 'zake', 'katika', 'muda', 'uliofaa', '.', 'Pia', 'hakuwa', 'na', 'karatasi', 'alipofika', 'mbele', 'ya', 'Chebukati', 'akisema', 'mnamo', 'Mei', '29', ',', '2022', 'alizuiliwa', 'na', 'maafisa', 'wa', 'ulinzi', 'katika', 'lango', 'la', 'Ukumbi', 'wa', 'Bomas', '.', 'Aliacha', 'stakabadhi', 'zake', 'katika', 'afisi', 'ya', 'IEBC', 'Bomas', 'lakini', 'hakusema', 'alimwachia', 'nani', '.', 'Hakuweza', 'kupata', 'sahihi', 'za', 'wapiga', 'kura', '48,000', 'kutoka', 'kaunti', '24', 'kuunga', 'mkono', 'azma', 'yake', 'ya', 'urais', '.', 'Jopo', 'hilo', 'lilikubaliana', 'na', 'Chebukati', 'kuwa', 'Owuoko', 'hajahitimu', '.', 'Punde', 'tu', 'baada', 'ya', 'kusoma', 'uamuzi', 'wao', ',', 'Owuoko', 'aliomba', 'maji', '.', 'Kesi', 'nyingine', 'ya', 'mwaniaji', 'mwingine', 'wa', 'kiti', 'cha', 'urais', 'James', 'Kamau', 'mwenye', 'umri', 'wa', 'miaka', '31', 'iliisha', 'kwa', 'yeye', 'kuambulia', 'patupu', '.']\n",
      "\n",
      " Number of Words:  238\n"
     ]
    }
   ],
   "source": [
    "file=\"22jun22.txt\"\n",
    "\n",
    "# calling the function and storing the contents in a text variable \n",
    "text = get_document(\"https://taifaleo.nation.co.ke/mwaniaji-urais-apoteza-kesi-na-kuomba-chupa-ya-maji/\")\n",
    "\n",
    "# calling the store_ document function \n",
    "store_document(doc=text,name=file)\n",
    "\n",
    "#add the words in this file to the total_corpus_words, to keep count of the number of words in the corpus\n",
    "total_corpus_words+=total_words(file)"
   ]
  },
  {
   "cell_type": "code",
   "execution_count": 219,
   "metadata": {},
   "outputs": [
    {
     "data": {
      "text/plain": [
       "489727"
      ]
     },
     "execution_count": 219,
     "metadata": {},
     "output_type": "execute_result"
    }
   ],
   "source": [
    "total_corpus_words"
   ]
  },
  {
   "cell_type": "code",
   "execution_count": 220,
   "metadata": {},
   "outputs": [
    {
     "name": "stdout",
     "output_type": "stream",
     "text": [
      "['WAHITIMU', 'kutoka', 'vyuo', 'vikuu', 'ambao', 'walifaidi', 'kwa', 'mkopo', 'kutoka', 'Bodi', 'ya', 'Kutoa', 'Mkopo', 'kwa', 'Elimu', 'ya', 'Juu', '(', 'HELB', ')', 'wamepata', 'afueni', 'baada', 'ya', 'Rais', 'Uhuru', 'Kenyatta', 'kukataa', 'kutia', 'saini', 'Mswada', 'wa', 'Marekebisho', 'ya', 'Sheria', 'ya', 'Bodi', 'ya', 'Mkopo', 'wa', 'Elimu', 'ya', 'Juu', ',', '2020', '.', 'Rais', 'Kenyatta', 'alikataa', 'kuutia', 'saini', 'mswada', 'huo', 'unaohitaji', 'kwamba', 'wahitimu', 'waanze', 'kulipa', 'mkopo', 'wao', 'mwaka', 'mmoja', 'baada', 'ya', 'kuhitimu', ',', 'bila', 'kujali', 'kama', 'wamepata', 'ajira', 'au', 'la', '.', 'Pia', 'watahitajika', 'kuanza', 'kulipa', 'faida', 'kwa', 'mkopo', 'huo', '.', '“', 'Mswada', 'huo', 'unaifanyia', 'marekebisho', 'sehemu', 'ya', '15', 'ya', 'Sheria', 'ya', 'Helb', 'kuiruhusu', 'bodi', 'hiyo', 'kuanza', 'kuitisha', 'malipo', 'ya', 'mkopo', 'mwaka', 'mmoja', 'au', 'hata', 'mapema', ',', '”', 'mswada', 'huo', 'ukasema', '.', 'Mswada', 'huo', 'pia', 'unawahitaji', 'wahitimu', 'waliopata', 'ajira', 'ndani', 'ya', 'mwaka', 'mmoja', 'baada', 'ya', 'kukamilisha', 'masomo', 'kuagiza', 'waajiri', 'wao', 'kuanza', 'kuwasilisha', 'malipo', 'ya', 'mkopo', ',', 'la', 'sivyo', 'watozwe', 'faini', '.', '“', 'Mhitimu', 'ambaye', 'atafeli', 'kutekeleza', 'mahitaji', 'hayo', 'ndani', 'ya', 'muda', 'uliowekwa', 'atakuwa', 'amekosa', 'na', 'anaweza', 'kutozwa', 'faini', 'ya', 'Sh5,000', 'kila', 'mwezi', '.', 'Faini', 'hiyo', 'italipwa', 'kwa', 'HELB', ',', '”', 'mswada', 'huo', 'unasema', '.', 'Rais', 'amekataa', 'kutia', 'saini', 'mswada', 'huo', 'wakati', 'ambapo', 'HELB', 'imelalamika', 'kuwa', 'inakabiliwa', 'na', 'changamoto', 'za', 'kifedha', 'kutokana', 'na', 'idadi', 'kubwa', 'ya', 'wahitimu', 'ambao', 'hawajamaliza', 'kulipa', 'mikopo', 'yao', '.', 'Afisa', 'Mkuu', 'Mtendaji', 'wa', 'Bodi', 'hiyo', 'Charles', 'Ringera', 'alifichukua', 'kuwa', 'jumla', 'ya', 'wanafunzi', '75,000', 'wanakabiliwa', 'na', 'hatari', 'ya', 'kukosa', 'ufadhili', 'kutoka', 'kwao', '.', 'Afisa', 'huyo', 'alieleza', 'kuwa', 'jumla', 'ya', 'wanafunzi', '107,000', 'wa', 'zamani', 'wamefeli', 'kulipa', 'mkopo', 'wa', 'karibu', 'jumla', 'ya', 'Sh10', 'bilioni', '.', 'Idadi', 'hiyo', 'ya', 'wanafunzi', 'wa', 'zamani', 'inajumuisha', 'wale', 'ambao', 'walihamia', 'mataifa', 'ya', 'kigeni', 'kusaka', 'ajira', 'ajira', 'na', 'shughuli', 'zingine', 'za', 'kujiletea', 'mapato', '.', 'Daraja', 'la', 'juu', 'ya', 'Thika', 'Superhighway', 'kujengwa', 'Juja', 'DARAJA', 'la', 'kivukio', 'juu', 'ya', 'barabara', 'kuu', 'ya', 'Thika', 'Superhighway', 'eneo', 'la', 'Highpoint', ',', 'Gachororo', ',', 'litajengwa', 'ili', 'kuzuia', 'ajali', 'za', 'barabarani', 'za', 'kila', 'mara', '.', 'Kwa', 'muda', 'mrefu', 'wakazi', 'wa', 'eneo', 'hilo', 'wametoa', 'malamishi', 'wakidai', 'kuwa', 'karibu', 'kila', 'wiki', 'wapitanjia', 'hugongwa', 'na', 'magari', 'yanayoendeshwa', 'kwa', 'kasi', '.', 'Angalau', 'watu', '10', 'wamepoteza', 'maisha', 'yao', 'kwa', 'chini', 'ya', 'miezi', 'mitatu', '.', 'Wahandisi', 'wa', 'Halmashauri', 'ya', 'Barabara', 'Kuu', 'Nchini', '(', 'KeNHA', ')', 'na', 'Gavana', 'wa', 'Kiambu', 'Dkt', 'James', 'Nyoro', ',', 'walizuru', 'eneo', 'hilo', 'mnamo', 'Jumanne', ',', 'na', 'kuelezea', 'mahali', 'halisi', 'litakapojengwa', 'daraja', 'hilo', '.', 'Gavana', 'wa', 'Kiambu', 'Dkt', 'James', 'Nyoro', '(', 'mwenye', 'kofia', 'nyeupe', ')', 'akiwa', 'na', 'wahandisi', 'wa', 'KeNHA', 'katika', 'eneo', 'la', 'Highpoint', ',', 'Juja', 'mnamo', 'Jumanne', '.', 'PICHA', '|', 'LAWRENCE', 'ONGARO']\n",
      "\n",
      " Number of Words:  399\n"
     ]
    }
   ],
   "source": [
    "file=\"22jun23.txt\"\n",
    "\n",
    "# calling the function and storing the contents in a text variable \n",
    "text1 = get_document(\"https://taifaleo.nation.co.ke/rais-kenyatta-akataa-kutia-saini-mswada-wa-kuumiza-waliopata-mkopo-wa-helb/\")\n",
    "text2 = get_document(\"https://taifaleo.nation.co.ke/daraja-la-juu-ya-thika-superhighway-kujengwa-juja/\")\n",
    "\n",
    "\n",
    "# calling the store_ document function \n",
    "store_document(doc=text1,name=file)\n",
    "store_document(doc=text2,name=file)\n",
    "\n",
    "\n",
    "#add the words in this file to the total_corpus_words, to keep count of the number of words in the corpus\n",
    "total_corpus_words+=total_words(file)"
   ]
  },
  {
   "cell_type": "code",
   "execution_count": 221,
   "metadata": {},
   "outputs": [
    {
     "data": {
      "text/plain": [
       "490126"
      ]
     },
     "execution_count": 221,
     "metadata": {},
     "output_type": "execute_result"
    }
   ],
   "source": [
    "total_corpus_words"
   ]
  },
  {
   "cell_type": "code",
   "execution_count": 223,
   "metadata": {},
   "outputs": [
    {
     "name": "stdout",
     "output_type": "stream",
     "text": [
      "['“', 'Kabla', 'hujapiga', 'kura', 'yako', 'fanya', 'kuchunguza', 'na', 'ujiulize', 'ni', 'nini', 'kiongozi', 'amewatendea', 'wakazi', 'wa', 'Ruiru', 'na', 'kwingineko', '.', 'Huo', 'ni', 'msingi', 'wa', 'maisha', 'yako', 'ya', 'baadaye', ',', '”', 'alieleza', 'gavana', 'huyo', '.', 'Alisema', 'kaunti', 'itatenga', 'takribani', 'Sh1.3', 'bilioni', 'za', 'hazina', 'ya', 'Jiinue', 'ili', 'kunufaisha', 'wanawake', 'na', 'vijana', 'ili', 'kuinua', 'hali', 'yao', 'ya', 'maisha', '.', 'Aliwarai', 'kujiweka', 'kwa', 'vikundi', 'ili', 'baada', 'ya', 'uchaguzi', 'mwezi', 'Septemba', '2022', ',', 'wapate', 'fedha', 'hizo', '.']\n",
      "\n",
      " Number of Words:  71\n"
     ]
    }
   ],
   "source": [
    "file=\"22jun24.txt\"\n",
    "\n",
    "# calling the function and storing the contents in a text variable \n",
    "text2 = get_document(\"https://taifaleo.nation.co.ke/wakazi-wa-kiambu-wapatao-50000-kupokea-hatimiliki-za-ardhi/\")\n",
    "\n",
    "# calling the store_ document function \n",
    "store_document(doc=text2,name=file)\n",
    "\n",
    "\n",
    "#add the words in this file to the total_corpus_words, to keep count of the number of words in the corpus\n",
    "total_corpus_words+=total_words(file)"
   ]
  },
  {
   "cell_type": "code",
   "execution_count": 224,
   "metadata": {},
   "outputs": [
    {
     "data": {
      "text/plain": [
       "490197"
      ]
     },
     "execution_count": 224,
     "metadata": {},
     "output_type": "execute_result"
    }
   ],
   "source": [
    "total_corpus_words"
   ]
  },
  {
   "cell_type": "code",
   "execution_count": 225,
   "metadata": {},
   "outputs": [
    {
     "name": "stdout",
     "output_type": "stream",
     "text": [
      "['Kampuni', 'yakanusha', 'madai', 'ya', 'ubaguzi', 'wa', 'rangi', 'kwa', 'waajiriwa', 'KAMPUNI', 'moja', 'ya', 'bima', 'nchini', 'imekanusha', 'madai', 'kwamba', ',', 'baadhi', 'ya', 'maafisa', 'wake', 'wanatumia', 'matamshi', 'ya', 'ubaguzi', 'wa', 'rangi', 'kuwatambua', 'wafanyikazi', 'wa', 'Kenya', '.', 'Katika', 'mawasiliano', 'ya', 'barua', 'pepe', ',', 'mmoja', 'wa', 'mameneja', 'wa', 'kampuni', 'hiyo', 'mwenye', 'asili', 'ya', 'Kihindi', 'aliwarejelea', 'wafanyakazi', 'wa', 'Kenya', 'kama', '‘', 'nyani', '’', 'wanaostahili', 'kufutwa', 'kazi', 'kwa', 'kile', 'alichotaja', 'kuwa', 'utendajikazi', 'wao', 'duni', '.', 'Kampuni', 'ya', 'Kenindia', 'ambayo', 'ilianzishwa', 'nchini', '1978', 'imekuwa', 'ikitoa', 'huduma', 'nchini', '.', 'Katika', 'barua', 'pepe', ',', 'meneja', 'wa', 'fedha', 'Mohan', 'Jha', 'aliandika', 'kuwa', 'wafanyakazi', 'Wakenya', 'wanafaa', 'kufutwa', 'kazi', 'kutokana', 'na', 'utendajikazi', 'wao', 'duni', '.', 'Bw', 'Jha', 'alikuwa', 'akijibu', 'Meneja', 'Mkuu', 'wa', 'Mauzo', ',', 'Kabali', 'Arivalagan', ',', 'ambaye', 'amekuwa', 'akilalamikia', 'tabia', 'ya', 'dereva', 'wake', 'na', 'kumwomba', 'mkurugenzi', 'mkuu', 'kumbadilishia', 'dereva', '.', 'Katika', 'ujumbe', 'wa', 'barua', 'pepe', 'unaorejelewa', ':', 'Ombi', 'la', 'kumwajiri', 'dereva', 'mpya', 'na', 'kumfuta', 'kazi', 'John', 'Mukirai', 'Karanja', 'kwa', 'sababu', 'ya', 'utovu', 'wa', 'nidhamu', 'kazini', ',', 'Bw', 'Arivalagan', 'alimlalamikia', 'msimamizi', 'wake', 'Bw', 'Sharmaji', '.', 'Wataalam', 'sasa', 'wataka', 'wanafunzi', 'wa', 'umri', 'wa', 'miaka', '15', 'kupatiwa', 'kondomu', 'na', 'dawa', 'za', 'kuzuia', 'mimba', 'WATAALAM', 'wa', 'Afya', 'na', 'washikadau', 'katika', 'sekta', 'hiyo', 'wameisihi', 'serikali', 'kuanza', 'kuwapa', 'wanafunzi', 'ambao', 'wanaojihusisha', 'na', 'ngono', 'za', 'mapema', 'dawa', 'za', 'kuzuia', 'mimba', 'na', 'mipira', 'ya', 'kondomu', 'ili', 'kujikinga', 'na', 'maambukizi', 'ya', 'maradhi', 'ya', 'zinaa', 'na', 'mimba', 'za', 'mapema', '.', '“', 'Wasichana', 'wanafaa', 'waweze', 'kupokea', 'dawa', 'za', 'kuzuia', 'mimba', ',', 'kuruhusiwa', 'kuavya', 'mimba', 'na', 'elimu', 'ya', 'ngono', '.', 'Nchini', 'Kenya', ',', 'kuna', 'utata', 'kuhusu', 'maswala', 'ya', 'umri', 'kamili', 'ambao', 'vijana', 'wanajihusisha', 'na', 'ngono', 'lakini', 'takwimu', 'za', 'Wizara', 'ya', 'Afya', 'zinaonyesha', 'kuna', 'wengine', 'chini', 'ya', 'umri', 'wa', 'miaka', '15', 'wameanza', 'kujihusisha', 'na', 'ngono', '.', 'Kwanini', 'tusiwape', 'dawa', 'za', 'kuzuia', 'mimba', '?', '”', 'aliuliza', 'Bi', 'Ruth', 'Mbone', ',', 'mtetezi', 'wa', 'afya', 'na', 'maswala', 'ya', 'jamii', '.', 'Wakiongea', 'kwenye', 'kongamano', 'lao', 'la', 'kujadili', 'madhara', 'ya', 'janga', 'la', 'corona', 'dhidi', 'ya', 'vijana', 'huko', 'Mombasa', ',', 'walisema', 'vijana', 'wakipata', 'kondomu', 'na', 'dawa', 'za', 'kuzuia', 'mimba', ',', 'serikali', 'itaweza', 'kudhibiti', 'mimba', 'za', 'mapema', 'miongoni', 'mwa', 'wanafunzi', '.', 'Dkt', 'Angela', 'Akol', ',', 'afisa', 'mkuu', 'wa', 'Ipas', 'Africa', 'Alliance', ',', 'shirika', 'linalojihusisha', 'na', 'maswala', 'ya', 'afya', 'ya', 'uzazi', 'miongoni', 'mwa', 'kina', 'mama', 'nchini', 'Kenya', 'na', 'Uganda', 'alisema', 'janga', 'la', 'corona', 'liliathiri', 'sekta', 'ya', 'afya', 'hasa', 'huduma', '.']\n",
      "\n",
      " Number of Words:  367\n"
     ]
    }
   ],
   "source": [
    "file=\"22jun25.txt\"\n",
    "\n",
    "# calling the function and storing the contents in a text variable \n",
    "text1 = get_document(\"https://taifaleo.nation.co.ke/kampuni-yakanusha-madai-ya-ubaguzi-wa-rangi-kwa-waajiriwa/\")\n",
    "text2 = get_document(\"https://taifaleo.nation.co.ke/wataalam-sasa-wataka-wanafunzi-wa-umri-wa-miaka-15-kupatiwa-kondomu-na-dawa-za-kuzuia-mimba/\")\n",
    "\n",
    "\n",
    "# calling the store_ document function \n",
    "store_document(doc=text1,name=file)\n",
    "store_document(doc=text2,name=file)\n",
    "\n",
    "\n",
    "#add the words in this file to the total_corpus_words, to keep count of the number of words in the corpus\n",
    "total_corpus_words+=total_words(file)"
   ]
  },
  {
   "cell_type": "code",
   "execution_count": 226,
   "metadata": {},
   "outputs": [
    {
     "data": {
      "text/plain": [
       "490564"
      ]
     },
     "execution_count": 226,
     "metadata": {},
     "output_type": "execute_result"
    }
   ],
   "source": [
    "total_corpus_words"
   ]
  },
  {
   "cell_type": "code",
   "execution_count": 228,
   "metadata": {},
   "outputs": [
    {
     "name": "stdout",
     "output_type": "stream",
     "text": [
      "['ODM', 'yalaumiwa', 'kuhusu', 'uongozi', 'wa', 'Joho', ',', 'Kingi', 'WAGOMBEAJI', 'ugavana', 'kupitia', 'Chama', 'cha', 'ODM', 'katika', 'Kaunti', 'za', 'Mombasa', 'na', 'Kilifi', ',', 'wanajitahidi', 'kujitenga', 'na', 'madai', 'ya', 'uongozi', 'duni', 'ambayo', 'wapinzani', 'wao', 'wanasema', 'yalitokea', 'kwa', 'kipindi', 'cha', 'miaka', 'kumi', 'iliyopita', '.', 'Magavana', 'Hassan', 'Joho', 'na', 'Amason', 'Kingi', ',', 'walikuwa', 'wamechaguliwa', 'mamlakani', 'kupitia', 'ODM', 'mwaka', 'wa', '2013', ',', 'kisha', 'wakafanikiwa', 'kuhifadhi', 'viti', 'vyao', 'katika', 'uchaguzi', 'wa', '2017', '.', 'Huku', 'uchaguzi', 'wa', 'Agosti', 'ukizidi', 'kukaribia', ',', 'wapinzani', 'wa', 'ODM', 'katika', 'kaunti', 'hizo', 'mbili', 'wanazidi', 'kutilia', 'doa', 'uongozi', 'wa', 'kaunti', 'katika', 'vipindi', 'hivyo', 'viwili', 'wakirai', 'wapigakura', 'kutafuta', 'uongozi', 'mpya', '.', 'Katika', 'Kaunti', 'ya', 'Mombasa', ',', 'Chama', 'cha', 'UDA', 'kikiongozwa', 'na', 'aliyekuwa', 'seneta', ',', 'Bw', 'Hassan', 'Omar', ',', 'ambaye', 'ndiye', 'mwaniaji', 'ugavana', 'wa', 'chama', 'hicho', ',', 'hudai', 'kuwa', 'kuchagua', 'mwaniaji', 'wa', 'ODM', 'itakuwa', 'sawa', 'na', 'kuendeleza', 'mfumo', 'wa', 'uongozi', 'ambao', 'umekuwepo', 'tangu', 'mwaka', 'wa', '2013', '.', 'Wanachama', 'wa', 'UDA', 'katika', 'Kaunti', 'ya', 'Mombasa', ',', 'humlaumu', 'sana', 'Bw', 'Joho', 'hasa', 'kuhusu', 'madai', 'kwamba', 'familia', 'yake', 'ni', 'miongoni', 'mwa', 'wenye', 'biashara', 'zilizonufaika', 'kwa', 'mfumo', 'mpya', 'wa', 'usafirishaji', 'mizigo', 'kutoka', 'bandari', 'ya', 'Mombasa', 'kwa', 'reli', 'ya', 'SGR', 'hadi', 'Nairobi', '.', 'Ufichuzi', 'wa', 'hivi', 'majuzi', 'kwamba', 'kampuni', 'ya', 'familia', 'ya', 'Bw', 'Joho', 'ilipata', 'zabuni', 'kuwa', 'kampuni', 'pekee', 'ya', 'kusimamia', 'mizigo', 'inayoelekea', 'Sudan', 'Kusini', 'kutoka', 'bandarini', ',', 'umewapa', 'wandani', 'wa', 'Naibu', 'Rais', 'William', 'Ruto', ',', 'motisha', 'zaidi', 'ya', 'kusukuma', 'ajenda', 'yao', 'dhidi', 'ya', 'viongozi', 'wa', 'ODM', '.', 'Katika', 'ziara', 'yake', 'Pwani', 'iliyoanza', 'Ijumaa', ',', 'Dkt', 'Ruto', 'alijitenga', 'na', 'maamuzi', 'yaliyofanywa', 'na', 'utawala', 'wa', 'Jubilee', 'kuhusu', 'mfumo', 'wa', 'huduma', 'za', 'bandari', ',', 'akilaumu', 'vinara', 'wakuu', 'wa', 'chama', 'cha', 'kisiasa', 'cha', 'Muungano', 'wa', 'Azimio', 'la', 'Umoja', 'One', 'Kenya', '.', '“', 'Wale', 'ambao', 'wanafanya', 'wakazi', 'wa', 'Mombasa', 'wazidi', 'kuwa', 'maskini', 'ni', 'wafanyabiashara', 'wa', 'mji', 'huu', 'waliowekeza', 'katika', 'sekta', 'ya', 'bandari', '.', 'Nikichaguliwa', 'kuwa', 'rais', ',', 'nitatoa', 'amri', 'kuu', 'ili', 'shughuli', 'zote', 'za', 'bandari', 'zirudishwe', 'Mombasa', 'kwa', 'manufaa', 'ya', 'wakazi', 'na', 'wala', 'si', 'watu', 'binafsi', ',', '”', 'akasema', '.', 'Katika', 'baadhi', 'ya', 'hotuba', 'zake', 'miezi', 'iliyopita', ',', 'Bw', 'Joho', 'alitetea', 'biashara', 'za', 'familia', 'yake', 'akisema', 'zabuni', 'wanazopewa', 'na', 'serikali', 'huwa', 'hazipeanwi', 'kwa', 'upendeleo', 'wowote', '.', 'Hata', 'hivyo', ',', 'Bw', 'Nassir', 'amesuka', 'kampeni', 'zake', 'kwa', 'njia', 'ya', 'kushawishi', 'wapigakura', 'kwamba', 'anajisimamia', 'mwenyewe', 'huku', 'akijivumisha', 'kwa', 'kaulimbiu', 'ya', '‘', 'mradi', 'wa', 'wananchi', '’', '.', 'Wapinzani', 'wake', 'hudai', 'ni', '‘', 'mradi', 'wa', 'Joho', '’', '.', 'Katika', 'Kaunti', 'ya', 'Kilifi', ',', 'ijapokuwa', 'mgombeaji', 'ugavana', 'kwa', 'tikiti', 'ya', 'UDA', ',', 'Bi', 'Aisha', 'Jumwa', ',', 'hupiga', 'kampeni', 'dhidi', 'ya', 'uendelezaji', 'wa', 'uongozi', 'wa', 'ODM', 'katika', 'kaunti', 'hiyo', ',', 'Bw', 'Mung', '’', 'aro', 'amepata', 'afueni', 'kwa', 'vile', 'Gavana', 'Kingi', 'alihamia', 'Chama', 'cha', 'Pamoja', 'African', 'Alliance', '(', 'PAA', ')', '.', 'Aliyening', '’', 'inia', 'kwa', 'ndege', 'kushtakiwa', 'leo', 'Jumatatu', 'kwa', 'jaribio', 'la', 'kujitoa', 'uhai', 'MWANAUME', 'ambaye', 'alining', '’', 'inia', 'kwenye', 'helikopta', 'ambayo', 'ilimbeba', 'Waziri', 'wa', 'Kilimo', 'Peter', 'Munya', 'mnamo', 'Jumatano', ',', 'atashtakiwa', 'kortini', 'leo', 'Jumatatu', 'kutokana', 'na', 'jaribio', 'la', 'kujiua', '.', 'Bw', 'John', 'Mutwiri,41', 'aliwasilishwa', 'katika', 'Mahakama', 'ya', 'Maua', 'mnamo', 'Alhamisi', 'wiki', 'jana', ',', 'lakini', 'hakushtakiwa', 'baada', 'ya', 'mama', 'yake', 'kueleza', 'mahakama', 'kuwa', 'alikuwa', 'na', 'tatizo', 'la', 'kiakili', '.', 'Mahakama', 'ilimtaka', 'mama', 'yake', 'awasilishe', 'stakabadhi', 'ambazo', 'zinathibitisha', 'kuwa', 'Bw', 'Mutwiri', 'alikuwa', 'na', 'akili', 'taahira', '.', 'Pia', 'imebainika', 'kuwa', 'Bw', 'Mutwiri', 'aliruka', 'kutoka', 'ghorofa', 'ya', 'kwanza', 'ya', 'jengo', 'moja', 'jijini', 'Nairobi', 'miaka', 'michache', 'iliyopita', 'na', 'kupata', 'majeraha', 'madogo', '.', 'Mkuu', 'wa', 'Polisi', 'wa', 'Igembe', 'Kusini', 'Hussein', 'Ali', ',', 'alieleza', 'Taifa', 'Leo', 'kuwa', 'walimkamata', 'Bw', 'Mutwiri', 'mnamo', 'Alhamisi', ',', 'akahojiwa', 'na', 'akasema', 'alitaka', 'kusafiri', 'kuelekea', 'Nairobi', 'kama', 'sababu', 'ya', 'kuning', '’', 'inia', 'kwenye', 'helikopta', 'hiyo', '.', '“', 'Tulitaka', 'kujua', 'kwa', 'nini', 'alining', '’', 'inia', 'kwenye', 'helikopta', 'na', 'akasema', 'lengo', 'lake', 'lilikuwa', 'kufika', 'Nairobi', 'ili', 'kusaka', 'ajira', ',', '”', 'akasema', 'Bw', 'Ali', 'kupitia', 'mazungumzo', 'ya', 'simu', 'na', 'Taifa', 'Leo', '.', 'Bw', 'Muturi', 'alizua', 'taharuki', 'na', 'hofu', 'katika', 'soko', 'la', 'Kiegoi', ',', 'Meru', 'eneobunge', 'la', 'Igembe', 'Kusini', 'mnamo', 'Jumatano', 'kwa', 'kuning', '’', 'inia', 'kwa', 'ndege', 'hiyo', 'wakati', 'ambapo', 'Bw', 'Munya', 'na', 'Mbunge', 'wa', 'EALA', 'Mpuru', 'Aburi', ',', 'walikuwa', 'wakiondoka', 'baada', 'ya', 'kuhutubia', 'mkutano', 'wa', 'kisiasa', '.', 'Ndege', 'hiyo', 'ilipoanza', 'kupaa', 'angani', ',', 'wakazi', 'waligundua', 'kuwa', 'kulikuwa', 'na', 'mwanaume', 'ambaye', 'alikalia', 'na', 'kukwamilia', 'chuma', 'katika', 'upande', 'ambao', 'ndege', 'hutumia', 'kutua', '.', 'Wakazi', 'hao', 'walimwaashiria', 'rubani', 'asiendelee', 'kupaa', 'angani', 'zaidi', 'ili', 'Bw', 'Mutwiri', 'ashuke', 'lakini', 'jamaa', 'huyo', 'alikataa', '.', 'Muda', 'huo', 'wote', ',', 'Bw', 'Mutwiri', 'hakuonekana', 'kutatarika', 'huku', 'akipungia', 'umati', 'mkono', '.', 'Baada', 'ya', 'rubani', 'kulazimika', 'kutua', ',', 'alitimka', 'mbio', 'na', 'kuwazidi', 'maarifa', 'maafisa', 'wa', 'polisi', 'huku', 'wakazi', 'nao', 'wakiwataka', 'maafisa', 'hao', 'wa', 'usalama', 'wasimdhuru', 'kwa', 'kichapo', '.', 'Alitoweka', 'kabla', 'ya', 'kukamatwa', 'baadaye', 'Alhamisi', '.', 'Hata', 'hivyo', ',', 'hiki', 'si', 'kisa', 'cha', 'kwanza', 'cha', 'mtu', 'kuning', '’', 'nia', 'kwenye', 'helikopta', 'katika', 'Kaunti', 'ya', 'Meru', '.', 'Mnamo', '2017', ',', 'Julius', 'Mwathilie', 'kutoka', 'kaunti', 'hiyo', 'ambaye', 'alitundikwa', 'jina', 'la', 'utani', '‘', 'James', 'Bond', '’', ',', 'alining', '’', 'nia', 'kwenye', 'ndege', 'iliyokuwa', 'imembeba', 'Raila', 'Odinga', '.', 'Bw', 'Odinga', 'alikuwa', 'ameongoza', 'mkutano', 'wa', 'kisiasa', 'katika', 'uwanja', 'wa', 'Maili', 'Tisa', 'katika', 'eneobunge', 'la', 'Igembe', 'ya', 'Kati', 'ili', 'kuwahimiza', 'raia', 'wajiandikishe', 'kama', 'wapigakura', '.', 'Rubani', 'wa', 'Bw', 'Odinga', 'alilazimika', 'kutua', 'katika', 'Shule', 'ya', 'Msingi', 'ya', 'Muriri', ',', 'katika', 'eneobunge', 'la', 'Tigania', 'Mashariki', 'ambayo', 'ni', 'umbali', 'wa', 'kilomita', '20', '.', 'Kama', 'tu', 'Bw', 'Mutwiri', ',', 'Bw', 'Mwithalie', 'alishtakiwa', 'kwa', 'jaribio', 'la', 'kujiua', 'ila', 'Bw', 'Odinga', 'aliingilia', 'kati', 'na', 'akawaachiliwa', 'huru', '.']\n",
      "\n",
      " Number of Words:  855\n"
     ]
    }
   ],
   "source": [
    "file=\"22jun27.txt\"\n",
    "\n",
    "# calling the function and storing the contents in a text variable \n",
    "text2 = get_document(\"https://taifaleo.nation.co.ke/odm-yalaumiwa-kuhusu-uongozi-wa-joho-kingi/\")\n",
    "text3 = get_document(\"https://taifaleo.nation.co.ke/aliyeninginia-kwa-ndege-kushtakiwa-leo-jumatatu-kwa-jaribio-la-kujitoa-uhai/\")\n",
    "\n",
    "\n",
    "# calling the store_ document function \n",
    "store_document(doc=text2,name=file)\n",
    "store_document(doc=text3,name=file)\n",
    "\n",
    "\n",
    "#add the words in this file to the total_corpus_words, to keep count of the number of words in the corpus\n",
    "total_corpus_words+=total_words(file)"
   ]
  },
  {
   "cell_type": "code",
   "execution_count": 229,
   "metadata": {},
   "outputs": [
    {
     "data": {
      "text/plain": [
       "491419"
      ]
     },
     "execution_count": 229,
     "metadata": {},
     "output_type": "execute_result"
    }
   ],
   "source": [
    "total_corpus_words"
   ]
  },
  {
   "cell_type": "code",
   "execution_count": 230,
   "metadata": {},
   "outputs": [
    {
     "name": "stdout",
     "output_type": "stream",
     "text": [
      "['Tume', 'yatangaza', 'nafasi', 'elfu', '14', 'za', 'kazi', 'ya', 'ualimu', 'TUME', 'ya', 'Kuajiri', 'Walimu', '(', 'TSC', ')', 'imetangaza', 'nafasi', '14,460', 'za', 'kazi', 'ya', 'ualimu', 'katika', 'shule', 'za', 'msingi', 'na', 'upili', 'nchini', '.', 'Hatua', 'hiyo', 'ni', 'katika', 'juhudi', 'za', 'kupunguza', 'uhaba', 'mkubwa', 'wa', 'walimu', 'katika', 'shule', 'za', 'umma', 'nchini', '.', 'Tume', 'hiyo', 'ilisema', 'inalenga', 'kuwajiri', 'walimu', 'wapya', '5,000', 'mwezi', 'ujao', 'na', 'kujaza', 'nafasi', '8,230', 'za', 'walimu', 'walioondoka', 'kwenye', 'taaluma', 'hiyo', 'kwa', 'sababu', 'tofauti', 'kama', 'vile', 'vifo', ',', 'kujiuzulu', 'na', 'kustaafu', '.', 'Kwenye', 'nafasi', 'hizo', 'mpya', ',', 'walimu', '3', ',', '972', 'wataajiriwa', 'katika', 'shule', 'za', 'upili', 'huku', '1,000', 'wakiajiriwa', 'katika', 'shule', 'za', 'msingi', '.', 'Taasisi', 'za', 'mafunzo', 'ya', 'walimu', 'zitapokea', 'walimu', '28', '.', 'Tume', 'hiyo', 'pia', 'inalenga', 'kuwaajiri', 'walimu', 'katika', 'maeneo', 'kame', 'kama', 'vile', 'kaunti', 'za', 'Garissa', ',', 'Mandera', 'na', 'Wajir', '.', 'Kaunti', 'hizo', 'ni', 'miongoni', 'mwa', 'maeneo', 'yanayokumbwa', 'na', 'uhaba', 'mkubwa', 'zaidi', 'wa', 'walimu', 'kutokana', 'na', 'ukosefu', 'wa', 'usalama', '.', 'Tangazo', 'hilo', 'linajiri', 'wakati', 'vigogo', 'wakuu', 'wa', 'kisiasa', 'wanatoa', 'kila', 'aina', 'ya', 'ahadi', 'kuhusu', 'mikakati', 'watakayoweka', 'kuajiri', 'walimu', '.', 'Walimu', 'hao', 'wataajiriwa', 'kwa', 'mfumo', 'wa', 'kazi', 'za', 'kudumu', '.', 'Kwenye', 'mwaka', 'huu', 'wa', 'matumizi', 'ya', 'fedha', 'za', 'serikali', ',', 'tume', 'hiyo', 'ilitengewa', 'jumla', 'ya', 'Sh2.5', 'bilioni', 'za', 'kuwaajiri', 'walimu', 'wapya', 'watakaopewa', 'kazi', 'za', 'kudumu', ',', 'na', 'Sh1.2', 'bilioni', 'za', 'kuwaajiri', 'walimu', 'wengine', 'kwa', 'mfumo', 'wa', 'kandarasi', '.', 'Kijumla', ',', 'tume', 'itawaajiri', 'walimu', '6', ',', '539', 'katika', 'shule', 'za', 'msingi', 'na', 'wengine', '1,691', 'katika', 'shule', 'za', 'upili', '.']\n",
      "\n",
      " Number of Words:  235\n"
     ]
    }
   ],
   "source": [
    "file=\"22jun28.txt\"\n",
    "\n",
    "# calling the function and storing the contents in a text variable \n",
    "text = get_document(\"https://taifaleo.nation.co.ke/tume-yatangaza-nafasi-elfu-14-za-kazi-ya-ualimu/\")\n",
    "\n",
    "# calling the store_ document function \n",
    "store_document(doc=text,name=file)\n",
    "\n",
    "#add the words in this file to the total_corpus_words, to keep count of the number of words in the corpus\n",
    "total_corpus_words+=total_words(file)"
   ]
  },
  {
   "cell_type": "code",
   "execution_count": 231,
   "metadata": {},
   "outputs": [
    {
     "data": {
      "text/plain": [
       "491654"
      ]
     },
     "execution_count": 231,
     "metadata": {},
     "output_type": "execute_result"
    }
   ],
   "source": [
    "total_corpus_words"
   ]
  },
  {
   "cell_type": "code",
   "execution_count": 232,
   "metadata": {},
   "outputs": [
    {
     "name": "stdout",
     "output_type": "stream",
     "text": [
      "['Serikali', 'ya', 'Tanzania', 'yakemea', 'ulanguzi', 'wa', 'watoto', 'walemavu', 'SERIKALI', 'ya', 'Tanzania', 'imeelezea', 'masikitiko', 'yake', 'kuhusu', 'filamu', 'iliyopeperushwa', 'na', 'BBC', 'ikionyesha', 'jinsi', 'walanguzi', 'wa', 'binadamu', 'wanavyowalaghai', 'wazazi', 'walio', 'na', 'watoto', 'walemavu', 'na', 'kuwaleta', 'nchini', 'kuwa', 'ombaomba', '.', 'Alexander', 'Lupilya', 'wa', 'sekretariati', 'ya', 'Kupambana', 'na', 'ulanguzi', 'wa', 'binadamu', 'nchini', 'Tanzania', 'aliwashutumu', 'wanaohusika', 'katika', 'biashara', 'hiyo', 'akisema', 'wanakiuka', 'haki', 'za', 'watoto', 'hao', 'walemavu', '.', '“', 'Tumesikitika', 'sana', 'kama', 'serikali', 'kuona', 'filamu', 'hiyo', 'iliyopeperushwa', 'na', 'BBC', 'ikionyesha', 'namna', 'watoto', 'walemavu', 'wanavyosafirishwa', 'Kenya', 'kuwa', 'watumwa', 'na', 'kulazimishwa', 'kuombaomba', ',', '”', 'akasema', 'Bw', 'Lupilya', '.', 'Katika', 'filamu', 'hiyo', ',', 'mwanahabari', 'Njeri', 'Mwangi', 'anaonyesha', 'jinsi', 'wazazi', 'wasiojiweza', 'Tanzania', 'hasa', 'eneo', 'la', 'Mwanza', 'wanavyolaghaiwa', 'na', 'kukubali', 'kuwapa', 'walanguzi', 'watoto', 'wao', 'walemavu', 'kuwa', 'watumwa', '.', 'Baadhi', 'ya', 'wazazi', 'hao', 'wanaahidiwa', 'maisha', 'mazuri', 'na', 'kuambiwa', 'watatumiwa', 'pesa', 'kila', 'mwezi.Mwishowe', ',', 'walanguzi', 'hao', 'wanawanyanyasa', 'watoto', 'hao', 'kwa', 'manufaa', 'yao', 'wenyewe', '.', 'Filamu', 'hiyo', 'iliyochukua', 'zaidi', 'ya', 'mwaka', 'mmoja', 'kutayarishwa', 'ilionyesha', 'jinsi', 'watoto', 'walemavu', 'wanaoishi', 'katika', 'mazingira', 'magumu', 'kutoka', 'nchi', 'jirani', 'wanavyodanganywa', 'na', 'kuingia', 'katika', 'utumwa', 'nchini', '.', '“', 'Wazazi', 'wengi', 'maskini', 'nchini', 'Tanzania', 'wanakubali', 'kuwapa', 'walanguzi', 'watoto', 'wao', 'baada', 'ya', 'kuhakikishiwa', 'maisha', 'mazuri', '.', 'Lakini', 'mwishowe', ',', 'walanguzi', 'hao', 'huwatumia', 'watoto', 'kujinufaisha', 'na', 'kujipatia', 'riziki', ',', '”', 'akafichua', 'Bi', 'Njeri', '.', '“', 'Baada', 'ya', 'watoto', 'kufika', 'hapa', 'Kenya', ',', 'wanafanywa', 'watumwa', 'na', 'kunyanyaswa', '.', 'Kulazimishwa', 'kuomba', 'omba', 'katika', 'mitaa', 'ya', 'Nairobi', 'kwa', 'miaka', 'mingi.', '”', 'Mwanahabari', 'huyo', 'siku', 'moja', 'alimfuata', 'mlemavu', 'mmoja', 'aliyetambuliwa', 'kama', 'Bw', 'Fara', '.', '“', 'Tulimfuata', 'hadi', 'Kariobangi', 'ambapo', 'tuligundua', 'kwamba', 'anazuiliwa', 'na', 'mlanguzi', '.', 'Baadaye', 'Bw', 'Fara', 'alifichua', 'kwamba', 'anadhulumiwa', 'na', 'kupigwa', 'na', 'mlanguzi', 'wake', 'ikiwa', 'hajafikisha', 'Sh2,000.', '”', 'Bw', 'Fara', 'amekuwa', 'na', 'mlanguzi', 'wake', 'aliyetambulika', 'kama', 'Zengo', 'kwa', 'muda', 'wa', 'miaka', 'kumi', '.', 'Kulingana', 'na', 'utafiti', 'huo', ',', 'walanguzi', 'hao', 'wawili', ',', 'Zengo', 'na', 'mwenzake', 'wamekuwa', 'wakiendeleza', 'shughuli', 'hiyo', 'haramu', 'nchini', 'kwa', 'miaka', 'mingi', '.', 'Kila', 'siku', ',', 'walemavu', 'hao', 'husafirishwa', 'kutoka', '‘', 'makazi', '’', 'yao', 'Kariobangi', 'na', 'kusafirishwa', 'kuombaomba', 'katika', 'maeneo', 'mbalimbali', 'Nairobi', '.', 'Siku', 'moja', ',', 'mwanahabari', 'huyo', 'pamoja', 'na', 'wenzake', 'walimfuata', 'Bw', 'Fara', 'hadi', 'anakozuiliwa', 'Kariobangi', '.', 'Waligundua', 'kuwa', 'si', 'Bw', 'Fara', 'pekee', 'anayezuiliwa', 'katika', 'jengo', 'hilo', 'bali', 'kuna', 'walemavu', 'wengine', 'pia', 'wanaomtumikia', 'Zengo', '.', '“', 'Baadaye', ',', 'tuliwajulisha', 'polisi', 'kuhusu', 'biashara', 'hiyo', 'inayoendeshwa', 'kinyume', 'na', 'sheria.', '”', 'Mahujaji', '3,000', 'kusafiri', 'Mecca', ',', 'Covid', 'ikifungia', 'wengine', 'TAKRIBAN', 'Wakenya', '3,000', 'mwaka', 'huu', 'watashiriki', 'maombi', 'ya', 'Hija', 'ya', 'kila', 'mwaka', 'Mecca', ',', 'Saudi', 'Arabia', 'kuungana', 'na', 'Waislamu', 'zaidi', 'ya', 'milioni', 'tatu', 'kutoka', 'kote', 'ulimwenguni', ',', 'Baraza', 'Kuu', 'la', 'Waislamu', 'Nchini', '(', 'Supkem', ')', 'limetangaza', '.', 'Mwenyekiti', 'wa', 'Supkem', 'Pwani', ',', 'Sheikh', 'Muhdhar', 'Khitamy', ',', 'hata', 'hivyo', ',', 'alisema', 'walikuwa', 'wametarajia', 'idadi', 'iwe', 'zaidi', 'ya', '4,000', '.', 'Kulingana', 'naye', ',', 'huenda', 'ikawa', 'vizuizi', 'vya', 'Covid-19', 'vilivyowekwa', 'na', 'Saudi', 'Arabia', 'bado', 'ni', 'kikwazo', 'kwa', 'wengi', '.', '“', 'Umri', 'umeathiri', 'pakubwa', 'idadi', 'ya', 'wale', 'wanaotaka', 'kusafiri', 'kwa', 'ajili', 'ya', 'maombi', '.', 'Wanaoruhusiwa', 'kuhudhuria', 'lazima', 'wawe', 'na', 'umri', 'usiozidi', 'miaka', '60', ',', '”', 'alisema', 'Sheikh', 'Khitamy', '.', 'Baadhi', 'ya', 'Wakenya', 'waliondoka', 'nchini', 'wiki', 'iliyopita', 'huku', 'wengine', 'wakitarajiwa', 'kusafiri', 'jana', 'Jumanne', 'jioni', '.', 'Kundi', 'la', 'mwisho', 'linatarajiwa', 'kusafiri', 'kufikia', 'Julai', '5', '.', 'Kwa', 'miaka', 'miwili', 'iliyopita', ',', 'waumini', 'nchini', 'walikosa', 'kuhudhuria', 'Hija', 'kwa', 'sababu', 'idadi', 'iliyokubaliwa', 'Saudi', 'Arabia', 'ilikuwa', 'ndogo', 'mno', '.']\n",
      "\n",
      " Number of Words:  522\n"
     ]
    }
   ],
   "source": [
    "file=\"22jun29.txt\"\n",
    "\n",
    "# calling the function and storing the contents in a text variable \n",
    "text1 = get_document(\"https://taifaleo.nation.co.ke/serikali-ya-tanzania-yakemea-ulanguzi-wa-watoto-walemavu/\")\n",
    "text2 = get_document(\"https://taifaleo.nation.co.ke/mahujaji-3000-kusafiri-mecca-covid-ikifungia-wengine/\")\n",
    "\n",
    "\n",
    "# calling the store_ document function \n",
    "store_document(doc=text1,name=file)\n",
    "store_document(doc=text2,name=file)\n",
    "\n",
    "\n",
    "#add the words in this file to the total_corpus_words, to keep count of the number of words in the corpus\n",
    "total_corpus_words+=total_words(file)"
   ]
  },
  {
   "cell_type": "code",
   "execution_count": 233,
   "metadata": {},
   "outputs": [
    {
     "data": {
      "text/plain": [
       "492176"
      ]
     },
     "execution_count": 233,
     "metadata": {},
     "output_type": "execute_result"
    }
   ],
   "source": [
    "total_corpus_words"
   ]
  },
  {
   "cell_type": "code",
   "execution_count": 234,
   "metadata": {},
   "outputs": [
    {
     "name": "stdout",
     "output_type": "stream",
     "text": [
      "['Mjukuu', 'wa', 'Moi', 'aandamwa', 'na', 'mke', 'waliyetalikiana', 'agharimie', 'zaidi', 'malezi', 'ya', 'watoto', 'MJUKUU', 'wa', 'marehemu', 'Daniel', 'Moi', ',', 'Bw', 'Collins', 'Kibet', ',', 'bado', 'anakumbwa', 'na', 'masaibu', 'baada', 'ya', 'mkewe', 'waliyetengana', 'kukata', 'rufaa', 'akidai', 'posho', 'ya', 'juu', 'kuliko', 'Sh1.5', 'milioni', 'za', 'kutunza', 'watoto', 'ambazo', 'mahakama', 'iliagiza', 'alipwe', 'kila', 'mwaka', '.', 'Bi', 'Gladys', 'Jeruto', 'Tagi', 'kwenye', 'rufaa', 'aliyowasilisha', 'katika', 'Mahakama', 'Kuu', 'ya', 'Nakuru', ',', 'anataka', 'uamuzi', 'wa', 'Hakimu', 'Mwandamizi', 'Benjamin', 'Limo', 'ubadilishwe', 'ili', 'Bw', 'Collins', 'Kibet', 'Moi', 'ashurutishwe', 'kubeba', 'mzigo', 'mkubwa', 'zaidi', 'wa', 'kutunza', 'watoto', 'wao', 'wawili', 'walio', 'na', 'umri', 'wa', 'miaka', '11', 'na', '9', '.', 'Mzigo', 'utapanda', 'hadi', 'Sh6', 'milioni', '.', 'Katika', 'uamuzi', 'aliotoa', 'Juni', '2', ',', 'Bw', 'Limo', 'aliagiza', 'Bw', 'Kibet', 'kukidhi', 'mahitaji', 'ya', 'elimu', ',', 'matibabu', 'na', 'kugawana', 'gharama', 'ya', 'burudani', 'na', 'Bi', 'Tagi', ',', 'gharama', 'ya', 'jumla', 'ikiwa', 'Sh1.5', 'milioni', 'kwa', 'mwaka', '.', 'Hakimu', 'aliagiza', 'Bi', 'Tagi', 'kushughulikia', 'mahitaji', 'yaliyosalia', '.', 'Bi', 'Tagi', 'alikuwa', 'ameomba', 'korti', 'imshurutishe', 'Bw', 'Kibet', 'kumlipa', 'Sh200,000', 'kila', 'muhula', 'wa', 'elimu', ',', 'Sh200,000', 'za', 'bima', 'ya', 'matibabu', 'na', 'Sh100,000', 'za', 'burudani', '.', 'Aidha', ',', 'alitaka', 'Sh100,000', 'za', 'chakula', ',', 'Sh150,000', 'za', 'matumizi', 'yake', 'binafsi', ',', 'Sh100,000', 'za', 'mavazi', ',', 'na', 'Sh50,000', 'za', 'mjakazi', '.']\n",
      "\n",
      " Number of Words:  190\n"
     ]
    }
   ],
   "source": [
    "file=\"22jun30.txt\"\n",
    "\n",
    "# calling the function and storing the contents in a text variable \n",
    "text = get_document(\"https://taifaleo.nation.co.ke/mjukuu-wa-moi-aandamwa-na-mke-waliyetalikiana-agharimie-zaidi-malezi-ya-watoto/\")\n",
    "\n",
    "# calling the store_ document function \n",
    "store_document(doc=text,name=file)\n",
    "\n",
    "#add the words in this file to the total_corpus_words, to keep count of the number of words in the corpus\n",
    "total_corpus_words+=total_words(file)"
   ]
  },
  {
   "cell_type": "code",
   "execution_count": 235,
   "metadata": {},
   "outputs": [
    {
     "data": {
      "text/plain": [
       "492366"
      ]
     },
     "execution_count": 235,
     "metadata": {},
     "output_type": "execute_result"
    }
   ],
   "source": [
    "total_corpus_words"
   ]
  },
  {
   "cell_type": "code",
   "execution_count": 236,
   "metadata": {},
   "outputs": [
    {
     "name": "stdout",
     "output_type": "stream",
     "text": [
      "['EACC', 'kutwaa', 'mali', 'ya', 'wenye', 'vyeti', 'ghushi', 'TUME', 'ya', 'Maadili', 'ya', 'Kupambana', 'na', 'Ufisadi', 'Nchini', '(', 'EACC', ')', 'imeahidi', 'kuwa', 'itatwaa', 'pesa', 'na', 'mali', 'kutoka', 'kwa', 'wale', 'ambao', 'walitumia', 'vyeti', 'ghushi', 'kuwania', 'na', 'kushinda', 'vyeo', 'vya', 'uongozi', 'katika', 'uchaguzi', 'mkuu', '.', 'Afisa', 'Mkuu', 'Mtendaji', 'wa', 'EACC', 'Twalib', 'Mbarak', 'alisema', 'kuwa', 'hivi', 'karibuni', ',', 'EACC', 'itaanza', 'kutwaa', 'mali', 'ya', 'wanasiasa', 'ambao', 'walinufaika', 'na', 'mshahara', 'unaofungamana', 'na', 'vyeo', 'vyao', 'ilhali', 'walitumia', 'vyeti', 'ghushi', 'kupata', 'nafasi', 'hizo', 'za', 'uongozi', '.', '“', 'Tume', 'hii', 'itakuwa', 'na', 'subira', 'hadi', 'mkondo', 'wa', 'kisheria', 'ukamilike', 'kwa', 'wale', 'ambao', 'wameghushi', 'vyeti', 'vya', 'masomo', 'na', 'kuishia', 'kushinda', 'viti', 'walivyoviwania', '.', 'Iwapo', 'watapatikana', 'na', 'hatia', ',', 'tutahakikisha', 'kuwa', 'pesa', 'zote', 'walizolipwa', 'kama', 'mishahara', 'na', 'marupurupu', 'zinarejeshwa', '.', 'Hii', 'itajumuisha', 'kutwaa', 'mali', 'yao', 'kufidia', 'pesa', 'hizo', ',', '”', 'akasema', '.', 'Bila', 'kufichua', 'idadi', 'ya', 'viongozi', 'waliochaguliwa', 'ambao', 'wanafuatiliwa', 'na', 'EACC', 'kwa', 'kughushi', 'vyeti', 'vya', 'masomo', ',', 'Bw', 'Mbarak', 'alisema', 'kuwa', 'kuna', 'kesi', 'nyingi', 'mbele', 'yake', 'ambazo', 'zinawahusisha', 'wanasiasa', 'na', 'pia', 'viongozi', 'wa', 'serikali', 'na', 'wale', 'wa', 'mashirika', 'ya', 'umma', '.', 'Hata', 'hivyo', ',', 'alifichua', 'kuwa', 'magavana', 'wawili', 'wanaohudumu', 'kwa', 'sasa', 'ni', 'kati', 'ya', 'wale', 'ambao', 'wana', 'kesi', 'kuhusu', 'madai', 'ya', 'kughushi', 'vyeti', 'vya', 'masomo', 'kortini.Hivi', 'majuzi', ',', 'EACC', 'iliwakamata', 'na', 'kuwashtaki', 'waliokuwa', 'Makamishina', 'wa', 'Ardhi', 'Wilson', 'Gachanja', 'na', 'Zablon', 'Mabeya', 'pamoja', 'na', 'aliyekuwa', 'mkuu', 'wa', 'kitengo', 'cha', 'mpangilio', 'jijini', 'Jabu', 'Salim', 'Mohamed', 'kuhusiana', 'na', 'ufisadi', 'ambao', 'wanadaiwa', 'walishiriki', 'mnamo', '1994', '.', 'Aliongeza', 'kuwa', 'EACC', 'imetwaa', 'mali', 'ya', 'mabilioni', 'ya', 'fedha', 'iliyopatikana', 'kwa', 'njia', 'haramu', 'kutoka', 'kwa', 'wanasiasa', 'waliostaafu', 'na', 'watumishi', 'wa', 'umma', 'na', 'pia', 'kuna', 'wengine', 'wengi', 'ambao', 'pia', 'bado', 'wanachunguzwa', '.', '“', 'Baadhi', 'walikiri', 'makosa', 'ya', 'uhalifu', 'waliyoyatenda', 'na', 'kuomba', 'kurejesha', 'mali', 'kwa', 'walipaji', 'ushuru', 'na', 'tumetumia', 'mkondo', 'mwingine', 'wa', 'kutatua', 'mizozo', 'kupata', 'pesa', 'za', 'umma', 'zilizoibwa', 'na', 'mali', ',', '”', 'akaongeza', 'huku', 'akisema', 'kuwa', 'wapo', 'radhi', 'kupambana', 'na', 'ufisadi', 'na', 'kutwaa', 'mali', 'iliyoibwa', 'hata', 'kesi', 'zikichukua', 'miaka', 'na', 'dahari', 'kortini', '.', '“', 'EACC', 'haimakinikii', 'kuwa', 'kesi', 'imechukua', 'miaka', 'mingi', 'tangu', 'iwasilishwe', 'mahakamani', '.', 'Wale', 'ambao', 'walishikilia', 'vyeo', 'vya', 'juu', 'vya', 'uongozi', 'watalipia', 'vitendo', 'vyao', 'vya', 'ufisadi', 'hata', 'baada', 'ya', 'kustaafu', ',', '”', 'akasema', '.', 'Afisa', 'huyo', 'alisema', 'kuwa', 'kwa', 'sasa', 'wanaendeleza', 'uchunguzi', 'kuhusu', 'kesi', 'kadhaa', 'ambapo', 'baadhi', 'ya', 'watu', 'wamelaumiwa', 'kuiba', 'mali', 'ya', 'umma', 'hasa', 'kipindi', 'hiki', 'ambacho', 'ni', 'cha', 'mpito', '.', '“', 'Wizi', 'huu', 'unafanyika', 'kupitia', 'kubuni', 'nafasi', 'za', 'ajira', 'kiharamu', 'na', 'pia', 'bajeti', 'kwa', 'miradi', 'hewa', 'ambayo', 'haitekelezwi', '.', 'Tuko', 'katika', 'kipindi', 'cha', 'mpito', 'lakini', 'lazima', 'tuwajibikie', 'matumizi', 'ya', 'fedha', 'badala', 'ya', 'kutumia', 'mwanya', 'huo', 'kuiba', ',', '”', 'akasema', 'huku', 'akiongeza', 'kuwa', 'wale', 'watakaopatikana', 'wameiba', 'watakabiliwa', 'kisheria', '.', 'Wabunge', 'wahimiza', 'wazazi', 'walinde', 'watoto', 'wao', 'MBUNGE', 'wa', 'Lunga', 'Lunga', 'Khatib', 'Mwashetani', '(', 'pichani', ')', 'na', 'mwenzake', 'wa', 'Jomvu', 'Bw', 'Badi', 'Twalib', 'wamewasihi', 'wazazi', 'kuwalinda', 'watoto', 'wao', 'baada', 'ya', 'shule', 'kufungwa', 'kwa', 'muhula', 'wa', 'kwanza', '.', 'Bw', 'Twalib', 'alilalamika', 'kuwa', 'watoto', 'wanaonekana', 'wakiranda', 'randa', 'mitaani', 'kuhatarisha', 'maisha', 'yao', 'akiwataka', 'wazazi', 'kuwa', 'makini', 'na', 'watoto', 'wao', 'baada', 'ya', 'kufunga', 'shule', '.', '“', 'Kazi', 'ya', 'wanafunzi', 'ni', 'kusoma', 'si', 'kupiga', 'magwaride', '.', 'Msitumie', 'watoto', 'kupiga', 'magwaride', ',', 'shule', 'zimefungwa', 'wanafunzi', 'waendelee', 'kusoma', 'hata', 'kama', 'waende', 'masomo', 'ya', 'ziada', 'ni', 'sawa', ',', '”', 'alisema', 'Bw', 'Twalib', 'kwenye', 'kampeni', 'huko', 'Jomvu', '.', 'Bw', 'Mwashetani', 'ambaye', 'aliongea', 'kwenye', 'hafla', 'ya', 'kuwazawadi', 'wanafunzi', 'wa', 'shule', 'ya', 'msingi', 'ya', 'Kikoneni', 'aliwasihi', 'wanafunzi', 'watie', 'bidii', 'masomoni', '.', '“', 'Walimu', 'wanafanya', 'kazi', 'ngumu', 'sana', 'kwa', 'sababu', 'yao', 'ni', 'taaluma', 'ya', 'kujitolea', 'na', 'hakuna', 'mtu', 'anaweza', 'kuwalipa', 'kiasi', 'chao', ',', '”', 'alisema', '.']\n",
      "\n",
      " Number of Words:  564\n"
     ]
    }
   ],
   "source": [
    "file=\"22july3.txt\"\n",
    "\n",
    "# calling the function and storing the contents in a text variable \n",
    "text1 = get_document(\"https://taifaleo.nation.co.ke/eacc-kutwaa-mali-ya-wenye-vyeti-ghushi/\")\n",
    "text2 = get_document(\"https://taifaleo.nation.co.ke/wabunge-wahimiza-wazazi-walinde-watoto-wao/\")\n",
    "\n",
    "\n",
    "# calling the store_ document function \n",
    "store_document(doc=text1,name=file)\n",
    "store_document(doc=text2,name=file)\n",
    "\n",
    "\n",
    "#add the words in this file to the total_corpus_words, to keep count of the number of words in the corpus\n",
    "total_corpus_words+=total_words(file)"
   ]
  },
  {
   "cell_type": "code",
   "execution_count": 237,
   "metadata": {},
   "outputs": [
    {
     "data": {
      "text/plain": [
       "492930"
      ]
     },
     "execution_count": 237,
     "metadata": {},
     "output_type": "execute_result"
    }
   ],
   "source": [
    "total_corpus_words"
   ]
  },
  {
   "cell_type": "code",
   "execution_count": 238,
   "metadata": {},
   "outputs": [
    {
     "name": "stdout",
     "output_type": "stream",
     "text": [
      "['Mjukuu', 'wa', 'Moi', 'aandamwa', 'na', 'mke', 'waliyetalikiana', 'agharimie', 'zaidi', 'malezi', 'ya', 'watoto', 'MJUKUU', 'wa', 'marehemu', 'Daniel', 'Moi', ',', 'Bw', 'Collins', 'Kibet', ',', 'bado', 'anakumbwa', 'na', 'masaibu', 'baada', 'ya', 'mkewe', 'waliyetengana', 'kukata', 'rufaa', 'akidai', 'posho', 'ya', 'juu', 'kuliko', 'Sh1.5', 'milioni', 'za', 'kutunza', 'watoto', 'ambazo', 'mahakama', 'iliagiza', 'alipwe', 'kila', 'mwaka', '.', 'Bi', 'Gladys', 'Jeruto', 'Tagi', 'kwenye', 'rufaa', 'aliyowasilisha', 'katika', 'Mahakama', 'Kuu', 'ya', 'Nakuru', ',', 'anataka', 'uamuzi', 'wa', 'Hakimu', 'Mwandamizi', 'Benjamin', 'Limo', 'ubadilishwe', 'ili', 'Bw', 'Collins', 'Kibet', 'Moi', 'ashurutishwe', 'kubeba', 'mzigo', 'mkubwa', 'zaidi', 'wa', 'kutunza', 'watoto', 'wao', 'wawili', 'walio', 'na', 'umri', 'wa', 'miaka', '11', 'na', '9', '.', 'Mzigo', 'utapanda', 'hadi', 'Sh6', 'milioni', '.', 'Katika', 'uamuzi', 'aliotoa', 'Juni', '2', ',', 'Bw', 'Limo', 'aliagiza', 'Bw', 'Kibet', 'kukidhi', 'mahitaji', 'ya', 'elimu', ',', 'matibabu', 'na', 'kugawana', 'gharama', 'ya', 'burudani', 'na', 'Bi', 'Tagi', ',', 'gharama', 'ya', 'jumla', 'ikiwa', 'Sh1.5', 'milioni', 'kwa', 'mwaka', '.', 'Hakimu', 'aliagiza', 'Bi', 'Tagi', 'kushughulikia', 'mahitaji', 'yaliyosalia', '.', 'Bi', 'Tagi', 'alikuwa', 'ameomba', 'korti', 'imshurutishe', 'Bw', 'Kibet', 'kumlipa', 'Sh200,000', 'kila', 'muhula', 'wa', 'elimu', ',', 'Sh200,000', 'za', 'bima', 'ya', 'matibabu', 'na', 'Sh100,000', 'za', 'burudani', '.', 'Aidha', ',', 'alitaka', 'Sh100,000', 'za', 'chakula', ',', 'Sh150,000', 'za', 'matumizi', 'yake', 'binafsi', ',', 'Sh100,000', 'za', 'mavazi', ',', 'na', 'Sh50,000', 'za', 'mjakazi', '.']\n",
      "\n",
      " Number of Words:  190\n"
     ]
    }
   ],
   "source": [
    "file=\"22july4.txt\"\n",
    "\n",
    "# calling the function and storing the contents in a text variable \n",
    "text = get_document(\"https://taifaleo.nation.co.ke/mjukuu-wa-moi-aandamwa-na-mke-waliyetalikiana-agharimie-zaidi-malezi-ya-watoto/\")\n",
    "\n",
    "# calling the store_ document function \n",
    "store_document(doc=text,name=file)\n",
    "\n",
    "#add the words in this file to the total_corpus_words, to keep count of the number of words in the corpus\n",
    "total_corpus_words+=total_words(file)"
   ]
  },
  {
   "cell_type": "code",
   "execution_count": 239,
   "metadata": {},
   "outputs": [
    {
     "data": {
      "text/plain": [
       "493120"
      ]
     },
     "execution_count": 239,
     "metadata": {},
     "output_type": "execute_result"
    }
   ],
   "source": [
    "total_corpus_words"
   ]
  },
  {
   "cell_type": "code",
   "execution_count": 242,
   "metadata": {},
   "outputs": [
    {
     "name": "stdout",
     "output_type": "stream",
     "text": [
      "['Hatimaye', 'walishika', 'kiguu', 'na', 'njia', 'hadi', 'kampuni', 'nyingine', '-Fashan', 'Enterprises', 'Limited', 'walipoelekezwa', 'kuuza', 'mitungi', '25', 'ya', 'lita', '20', 'waliyokuwa', 'wameuziwa', '.', 'Kwa', 'kila', 'lita', 'ya', 'dawa', 'hiyo', 'walalamishi', 'walikuwa', 'wanauziwa', 'Sh16,100', '.', 'Mtungi', 'wa', 'lita', '20', 'walalamishi', 'waliununua', 'kwa', 'Sh322,000', '.', 'Waliuza', 'dawa', 'hiyo', 'kupitia', 'kwa', 'kampuni', 'ya', 'Fashan', '.', 'Hawakulipwa', 'na', 'kampuni', 'hiyo', 'ya', 'Tradal', 'inayohusishwa', 'na', 'Oduru', '.', 'Kulingana', 'na', 'Katibu', 'katika', 'Idara', 'ya', 'Ufugaji', 'Harry', 'Kimtai', 'serikali', 'imeibuka', 'na', 'mikakati', 'kusuluhisha', 'kero', 'ya', 'kupanda', 'kwa', 'chakula', 'cha', 'mifugo', 'nchini', '.', 'Katibu', 'katika', 'Idara', 'ya', 'Ufugaji', 'Bw', 'Harry', 'Kimtai', '.', 'PICHA', '|', 'SAMMY', 'WAWERU', 'Kando', 'na', 'mpango', 'wa', 'muda', 'kuondoa', 'ada', 'na', 'ushuru', ',', 'Bw', 'Kimtai', 'anasema', 'serikali', 'inatathmini', 'marufuku', 'ya', 'nafaka', 'zilizoboreshwa', '(', 'GMO', ')', '.', '“', 'Tunaendelea', 'kutathmini', 'sheria', 'za', 'mahindi', 'ya', 'GMO', ',', 'yanayoagizwa', 'kutoka', 'nje', 'ya', 'nchi', 'na', 'malighafi', 'mengineyo', 'ya', 'nafaka', 'zilizoboreshwa', 'ambazo', 'hutumika', 'kuunda', 'chakula', 'cha', 'mifugo', ',', '”', 'Katibu', 'asema', ',', 'akisisitiza', 'i', 'makini', 'kuhusu', 'suala', 'hilo', '.', 'Kenya', 'huagiza', 'kutoka', 'nje', 'karibu', 'asilimia', '80', 'ya', 'malighafi', 'kuunda', 'malisho', 'ya', 'mifugo', '.']\n",
      "\n",
      " Number of Words:  171\n"
     ]
    }
   ],
   "source": [
    "file=\"22july5.txt\"\n",
    "\n",
    "# calling the function and storing the contents in a text variable \n",
    "text2 = get_document(\"https://taifaleo.nation.co.ke/ashtakiwa-kwa-madai-ya-kuwalaghai-akina-mama-sh9m/\")\n",
    "text3 = get_document(\"https://taifaleo.nation.co.ke/serikali-yaibuka-na-mikakati-ya-kushusha-gharama-ya-chakula-cha-mifugo/\")\n",
    "\n",
    "# calling the store_ document function \n",
    "store_document(doc=text2,name=file)\n",
    "store_document(doc=text3,name=file)\n",
    "\n",
    "#add the words in this file to the total_corpus_words, to keep count of the number of words in the corpus\n",
    "total_corpus_words+=total_words(file)"
   ]
  },
  {
   "cell_type": "code",
   "execution_count": 243,
   "metadata": {},
   "outputs": [
    {
     "data": {
      "text/plain": [
       "493291"
      ]
     },
     "execution_count": 243,
     "metadata": {},
     "output_type": "execute_result"
    }
   ],
   "source": [
    "total_corpus_words"
   ]
  },
  {
   "cell_type": "code",
   "execution_count": 245,
   "metadata": {},
   "outputs": [
    {
     "name": "stdout",
     "output_type": "stream",
     "text": [
      "['Mtetezi', 'aomba', 'KWS', 'ipewe', 'ufadhili', 'zaidi', 'MTETEZI', 'mashuhuri', 'wa', 'mazingira', 'nchini', ',', 'Jim', 'Justus', 'Nyamu', 'ametoa', 'wito', 'kwa', 'serikali', 'kufadhili', 'Shirika', 'la', 'Wanyamapori', '(', 'KWS', ')', 'ili', 'kuliwezesha', 'kutekeleza', 'majukumu', 'yake', 'kikamilifu', '.', 'Bw', 'Nyamu', ',', 'ambaye', 'ndiye', 'mwanzilishi', 'na', 'mkurugenzi', 'wa', 'Elephant', 'Neighbor', 'Centre', 'nchini', 'alilalamika', 'kuwa', 'shirika', 'hilo', 'haliwezi', 'kutoa', 'huduma', 'hitajika', 'kwa', 'kuwa', 'limekosa', 'vifaa', 'maalumu', 'vya', 'kufuatilia', 'na', 'kuhifadhi', 'wanyamapori', 'nchini', ',', 'jambo', 'linalosababisha', 'vifo', 'vya', 'wanyamapori', '.', 'Alisema', 'kuwa', 'ndovu', 'ndio', 'wanaoathiriwa', 'zaidi', 'kutokana', 'na', 'ukosefu', 'wa', 'vifaa', 'hitajika', '.', '“', 'Baadhi', 'ya', 'wahudumu', 'katika', 'ofisi', 'za', 'KWS', 'hawana', 'vifaa', 'kama', 'vile', 'viatu', '.', 'Hii', 'inawahatarisha', 'sana', ',', '”', 'akasema', 'Bw', 'Nyamu', '.', 'Alisema', 'baadhi', 'ya', 'wanyamapori', 'wanakufa', 'kutokana', 'na', 'huduma', 'duni', 'zinazotolewa', 'katika', 'ofisi', 'za', 'KWS', '.', 'Anasema', 'gavana', 'huyo', 'alitumia', 'njia', 'za', 'ulaghai', 'kuidhinishwa', '2017', 'alipodanganya', 'kuwa', 'alifuzu', 'shahada', 'ya', 'Biashara', 'katika', 'Chuo', 'Kikuu', 'cha', 'Kenyatta', '.', 'Pia', ',', 'mlalamishi', 'anadai', 'kuwa', 'ni', 'wazi', 'kuwa', 'shahada', 'hiyo', 'ni', 'ya', 'kughushi', 'baada', 'ya', 'Tume', 'ya', 'Maadili', 'na', 'Kupambana', 'na', 'Ufisadi', '(', 'EACC', ')', 'na', 'chuo', 'hicho', 'kuthibitisha', 'kuwa', 'Bw', 'Samboja', 'hakuwa', 'mwanafunzi', 'katika', 'taasisi', 'hiyo', '.', 'Mnamo', 'Juni', ',', 'IEBC', 'ilikuwa', 'imemuidhinisha', 'gavana', 'huyo', 'na', 'kumpa', 'nafasi', 'ya', 'kutetea', 'kiti', 'chake', '.', 'Bw', 'Samboja', 'anatetea', 'kiti', 'hicho', 'kupitia', 'chama', 'cha', 'Jubilee', '.', 'Mlalamishi', 'anadai', 'gavana', 'huyo', 'aliidhinishwa', 'na', 'IEBC', 'baada', 'ya', 'kuwasilisha', 'cheti', 'cha', 'digrii', 'kutoka', 'Chuo', 'Kikuu', 'cha', 'Costa', 'Rica', '.', 'Lakini', 'Bw', 'Kiwoi', 'alielekea', 'mahakamani', 'akidai', 'vyeti', 'vya', 'Bw', 'Samboja', 'ni', 'vya', 'kutiliwa', 'shaka', '.', 'Hata', 'hivyo', ',', 'ombi', 'lake', 'kwa', 'mahakama', 'hiyo', 'lilitupiliwa', 'mbali', 'kwa', 'msingi', 'kwamba', ',', 'Bw', 'Samboja', 'aliipatia', 'IEBC', 'cheti', 'halali', 'cha', 'digrii', '.', 'Kufuatia', 'uamuzi', 'wa', 'mahakama', 'hiyo', ',', 'Bw', 'Kiwoi', 'sasa', 'amerudi', 'mahakamani', 'tena', 'akilalamika', 'kuwa', 'mahakama', 'hiyo', 'ilifanya', 'makosa', 'kutupilia', 'mbali', 'ombi', 'lake', 'na', 'huenda', 'wakazi', 'wa', 'Taita', 'Taveta', 'wakachagua', 'mtu', 'asiyehitimu', 'kwa', 'kazi', 'ya', 'ugavana', '.']\n",
      "\n",
      " Number of Words:  302\n"
     ]
    }
   ],
   "source": [
    "file=\"22july6.txt\"\n",
    "\n",
    "# calling the function and storing the contents in a text variable \n",
    "text1 = get_document(\"https://taifaleo.nation.co.ke/mtetezi-aomba-kws-ipewe-ufadhili-zaidi/\")\n",
    "text2 = get_document(\"https://taifaleo.nation.co.ke/samboja-aendelea-kuandamwa-na-kesi-kuhusu-cheti/\")\n",
    "\n",
    "# calling the store_ document function \n",
    "store_document(doc=text1,name=file)\n",
    "store_document(doc=text2,name=file)\n",
    "\n",
    "#add the words in this file to the total_corpus_words, to keep count of the number of words in the corpus\n",
    "total_corpus_words+=total_words(file)"
   ]
  },
  {
   "cell_type": "code",
   "execution_count": 246,
   "metadata": {},
   "outputs": [
    {
     "data": {
      "text/plain": [
       "493593"
      ]
     },
     "execution_count": 246,
     "metadata": {},
     "output_type": "execute_result"
    }
   ],
   "source": [
    "total_corpus_words"
   ]
  },
  {
   "cell_type": "code",
   "execution_count": 248,
   "metadata": {},
   "outputs": [
    {
     "name": "stdout",
     "output_type": "stream",
     "text": [
      "['Bangi', 'yapatikana', 'ikinawiri', 'kwenye', 'nyumba', 'ya', 'kifahari', 'Eldoret', 'POLISI', 'mjini', 'Eldoret', 'wanamsaka', 'mshukiwa', 'wa', 'dawa', 'za', 'kulevya', 'kwa', 'kukuza', 'bangi', 'ya', 'thamani', 'ya', 'zaidi', 'ya', 'shilingi', 'milioni', 'moja', 'nyumbani', 'kwake', 'mtaani', 'Elgon-View', '.', 'Naibu', 'kamanda', 'wa', 'polisi', 'wa', 'kaunti', 'ya', 'Uasin', 'Gishu', 'Zacchaeus', 'Ng', '’', 'eno', 'alisema', 'mshukiwa', 'alitoroka', 'baada', 'ya', 'kupata', 'habari', 'kwamba', ',', 'polisi', 'waligundua', 'alikuwa', 'akikuza', 'na', 'kuuza', 'dawa', 'hizo', 'kupitia', 'mfumo', 'wa', 'Green', 'House', '.', 'Mchangiaji', 'mada', 'katika', 'kituo', 'cha', 'Fox', 'News', 'adai', 'wajawazito', 'hawapigi', 'kura', 'nchini', 'Kenya', 'MCHANGIAJI', 'mada', 'kwenye', 'runinga', 'ya', 'Fox', 'News', 'nchini', 'Marekani', 'ametoa', 'kauli', 'yenye', 'utata', 'akidai', 'kuwa', 'wanawake', 'wajawazito', 'nchini', 'Kenya', 'huwa', 'hawaruhusiwi', 'kupiga', 'kura', '.', 'Akizungumza', 'katika', 'ukumbi', 'wa', 'mahojiano', 'kwenye', 'stesheni', 'hiyo', 'kutoa', 'hoja', 'kuhusu', 'haki', 'za', 'wanawake', 'katika', 'upigaji', 'kura', ',', 'Emily', 'Compagno', 'alieleza', 'kuwa', 'katika', 'baadhi', 'ya', 'nchi', 'duniani', ',', 'wanawake', 'hawana', 'uhuru', 'huo', '.', '“', 'Kwa', 'mfano', 'nchini', 'Kenya', 'wanawake', 'wajawazito', 'hawaruhusiwi', 'kutoka', 'nje', 'ya', 'nyumba', 'kwa', 'hivyo', 'hawawezi', 'hata', 'kupiga', 'kura', ',', '”', 'akadai', '.', 'Hata', 'hivyo', ',', 'huu', 'si', 'ukweli', 'kwani', 'kulingana', 'na', 'Tume', 'Huru', 'ya', 'Uchaguzi', 'na', 'Mipaka', '(', 'IEBC', ')', 'wanawake', 'wajawazito', 'huruhusiwa', 'kupiga', 'kura', 'na', 'hata', 'wanapata', 'afueni', 'ya', 'kutopiga', 'foleni', 'wakati', 'wa', 'kupiga', 'kura', '.', 'Huku', 'akipuuzilia', 'mbali', 'kasumba', 'kuwa', 'kiongozi', 'wa', 'Roots', 'Party', ',', 'ni', 'mradi', 'wa', 'serikali', 'wa', 'kutawanya', 'kura', 'za', 'Naibu', 'Rais', ',', 'Bw', 'Bichache', 'alisisitiza', 'kuwa', 'Wakenya', 'wamekuwa', 'wakitamani', 'mageuzi', ',', 'jambo', 'ambalo', 'Bw', 'Wajackoya', 'amewaahidi', 'kupitia', 'manifesto', 'yake', '.', '“', 'Manifesto', 'ya', 'Ruto', 'ni', 'nukuu', 'tu', 'ya', 'Ajenda', 'Nne', 'Kuu', 'ambayo', 'imekuwepo', 'kwa', 'miaka', 'kadhaa', '.', 'Wajackoya', 'anawapa', 'Wakenya', 'matumaini', 'mapya', 'ya', 'mageuzi', 'yatakayofufua', 'uchumi', 'kama', 'vile', 'ufugaji', 'wa', 'nyoka', ',', 'ukuzaji', 'wa', 'bangi', 'ya', 'kuuzwa', 'katika', 'mataifa', 'ya', 'kigeni', 'na', 'mengineyo', '.', 'Wajackoya', 'pia', 'anavutia', 'mahasla', 'ambao', 'wanalengwa', 'na', 'Dkt', 'Ruto', ',', '”', 'alieleza', '.', 'Kuhusu', 'kiti', 'cha', 'ugavana', 'Nairobi', ',', 'utafiti', 'huo', 'uliofanyika', 'katika', 'maeneobunge', '17', 'na', 'wadi', '85', 'Kaunti', 'hiyo', 'unaonyesha', 'kuwa', 'Seneta', 'Johnstone', 'Sakaja', 'anayewania', 'kwa', 'tiketi', 'ya', 'UDA', 'ndiye', 'maarufu', 'zaidi', 'kwa', 'asilimia', '39', '.', 'Mshindani', 'wake', 'mkuu', ',', 'Bw', 'Polyarp', 'Igathe', 'anafuatia', 'kwa', 'asilimia', '33', 'na', 'Bi', 'Agnes', 'Kagure', 'asilimia', '0.4', '.']\n",
      "\n",
      " Number of Words:  344\n"
     ]
    }
   ],
   "source": [
    "file=\"22july7.txt\"\n",
    "\n",
    "# calling the function and storing the contents in a text variable \n",
    "text1 = get_document(\"https://taifaleo.nation.co.ke/bangi-yapatikana-ikinawiri-kwenye-nyumba-ya-kifahari-eldoret/\")\n",
    "text2 = get_document(\"https://taifaleo.nation.co.ke/mchangiaji-mada-katika-kituo-cha-fox-news-adai-wajawazito-hawapigi-kura-nchini-kenya/\")\n",
    "text4 = get_document(\"https://taifaleo.nation.co.ke/raila-sakaja-kifua-mbele-kura-zikinukia/\")\n",
    "\n",
    "# calling the store_ document function \n",
    "store_document(doc=text1,name=file)\n",
    "store_document(doc=text2,name=file)\n",
    "store_document(doc=text4,name=file)\n",
    "\n",
    "#add the words in this file to the total_corpus_words, to keep count of the number of words in the corpus\n",
    "total_corpus_words+=total_words(file)"
   ]
  },
  {
   "cell_type": "code",
   "execution_count": 249,
   "metadata": {},
   "outputs": [
    {
     "data": {
      "text/plain": [
       "493937"
      ]
     },
     "execution_count": 249,
     "metadata": {},
     "output_type": "execute_result"
    }
   ],
   "source": [
    "total_corpus_words"
   ]
  },
  {
   "cell_type": "code",
   "execution_count": 250,
   "metadata": {},
   "outputs": [
    {
     "name": "stdout",
     "output_type": "stream",
     "text": [
      "['DOMO', ':', 'Msikizeni', 'shangazi', ',', 'ana', 'neno', '!', 'Ishu', 'ilianzia', 'pale', 'alipoonekana', 'kushangaa', 'na', 'taarifa', 'kuwa', 'matatu', 'zinaruhusiwa', 'kupitia', 'kwenye', 'Expressway', '.', 'Kwa', 'wakazi', 'jiji', 'la', 'Nairobi', ',', 'mtakuwa', 'mnaelewa', 'kabisa', 'jinsi', 'barabara', 'hiyo', 'ilivyo', '.', 'Caroline', 'Mutoko', 'alianza', 'kutrendi', 'baada', 'ya', 'matatu', 'moja', 'kusababisha', 'ajali', 'kwenye', 'kizuizi', 'kimoja', 'cha', 'kuingia', 'kwenye', 'Expressway', '.', 'Bibiye', 'akatweet', 'akionekana', 'kushangazwa', 'na', 'matatu', 'kuruhusiwa', 'kutumia', 'barabara', 'hiyo', 'ya', 'Mchina', 'ambayo', 'tutalipia', 'deni', 'hadi', 'wengi', 'wetu', 'wa', 'kizazi', 'cha', 'sasa', 'tufe', '.', 'Sasa', 'tweet', 'yake', 'ikawasha', 'moto', '.', 'Bwana', 'KOT', 'mkaamua', 'kumkaanga', 'shangazi', 'yenu', 'licha', 'ya', 'kuwa', 'mafuta', 'ya', 'kupikia', 'yamepanda', 'bei', ',', 'Aisee', '!', 'hamkuogopa', '.', 'Kwa', 'siku', 'mbili', 'mfululizo', ',', 'shangazi', 'alikuwa', 'akitrendi', '.', 'Yaani', 'hata', 'taarifa', 'za', 'usajili', 'wa', 'Manchester', 'United', 'bado', 'hazikutoboa', 'kumng', '’', 'oa', 'kileleni', '.', '“', 'Kwani', 'hujui', '?', 'Si', 'kuna', 'ile', 'stori', 'eti', 'yeye', 'ndiye', 'yule', 'demu', 'aliyekutwa', 'na', 'Mutula', '”', '…', 'Mutula', 'Kilonzo', 'alikuwa', 'wakili', 'maarufu', 'aliyeaga', 'dunia', '2013', '.', 'Baadhi', 'ya', 'uvumi', 'ni', 'kwamba', 'mzee', 'alikuwa', 'kwenye', 'mahusiano', 'na', 'Mutoko', '.', 'Narudia', 'tena', 'ni', 'uvumi', ',', 'ukweli', 'anaujua', 'yeye', 'Mutoko', ',', 'na', 'Muumba', 'wake', 'pamoja', 'na', 'mwendazake', '.', 'Kifo', 'chake', 'kiliibua', 'stori', 'kibao', 'tu', 'na', 'Mutoko', 'kujipata', 'kwenye', 'stori', 'hizo', 'mimi', 'sielewi', '.', 'Lakini', 'Wakenya', 'walivyo', ',', 'kwao', 'lisemwalo', 'lipo', 'kama', 'halipo', 'basi', 'subirini', 'lipo', 'njiani', 'laja', '.', 'Basi', 'mlishaamua', 'yeye', 'ndiye', 'mhusika', 'wa', 'viagra', '.', 'Lakini', 'kando', 'na', 'chambo', 'zenu', ',', 'hivi', 'hamwoni', 'kama', 'shangazi', 'yenu', 'ana', 'hoja', 'kwenye', 'anachokisema', '.', 'Amesisitiza', 'kuwa', 'hangependa', 'kuona', 'matatu', 'zikiruhusiwa', 'kutumia', 'Expressway', 'kwa', 'sababu', 'madere', 'wa', 'matatu', 'ni', 'watovu', 'wa', 'nidhamu', '.', 'Hilo', 'nakubaliana', 'naye', 'kwa', 'asilimia', '200', '%', '.', 'Wao', 'kuruhusiwa', 'kuendelea', 'kutumia', 'Expressway', 'kutasababisha', 'madhara', 'makubwa', 'sababu', 'kule', 'hamna', 'jam', '.', 'Kama', 'kwenye', 'jam', 'ndio', 'watukutu', 'na', 'wakorofi', 'vile', ',', 'itakuwaje', 'kwenye', 'barabara', 'kama', 'ile', '?', 'Lakini', 'pia', 'shangazi', 'yenu', 'anasema', ',', 'kama', 'pia', 'ni', 'lazima', 'matatu', 'zitumie', 'Expressway', ',', 'basi', 'zilazimishwe', 'kuweka', 'Speed', 'Governor', '.', 'Kwenye', 'hili', 'pia', 'namuunga', 'mkono', '.', 'Ni', 'kama', 'vile', 'anawapenda', ',', 'anayajali', 'maisha', 'yenu', '.', 'Kasema', 'sisi', 'ni', 'watu', 'tusio', 'na', 'nidhamu', ',', 'hilo', 'nalo', 'kweli', '.', 'Sisi', 'ni', 'watu', 'wakorofi', 'sana', '.', 'Ingelikuwa', 'Watanzania', 'ingekuwa', 'afadhali', 'kidogo', '.', 'Haya', 'bwana', 'pamoja', 'na', 'mimi', 'kumuunga', 'mkono', 'shangazi', 'yenu', ',', 'sio', 'kwamba', 'namfagilia', 'sana', 'na', 'sijui', 'kwa', 'nini', '.', 'Ila', 'napenda', 'mtu', 'anapokuwa', 'mwingi', 'wa', 'hoja', 'na', 'mchache', 'wa', 'maneno', '.', 'Sasa', 'yeye', 'kwa', 'maneno', ',', 'kama', 'chiriku', '.', 'Ila', 'nitamlaumu', 'vipi', 'wakati', 'kawa', 'mtangazaji', 'wa', 'habari', 'miaka', 'yote', 'hiyo', '?', 'Jamani', 'eeh', '!', 'Msikizeni', 'shangazi', 'ana', 'neno', 'pale', '!']\n",
      "\n",
      " Number of Words:  410\n"
     ]
    }
   ],
   "source": [
    "file=\"22july8.txt\"\n",
    "\n",
    "# calling the function and storing the contents in a text variable \n",
    "text = get_document(\"https://taifaleo.nation.co.ke/107400-2/\")\n",
    "\n",
    "# calling the store_ document function \n",
    "store_document(doc=text,name=file)\n",
    "\n",
    "#add the words in this file to the total_corpus_words, to keep count of the number of words in the corpus\n",
    "total_corpus_words+=total_words(file)"
   ]
  },
  {
   "cell_type": "code",
   "execution_count": 251,
   "metadata": {},
   "outputs": [
    {
     "data": {
      "text/plain": [
       "494347"
      ]
     },
     "execution_count": 251,
     "metadata": {},
     "output_type": "execute_result"
    }
   ],
   "source": [
    "total_corpus_words"
   ]
  },
  {
   "cell_type": "code",
   "execution_count": 252,
   "metadata": {},
   "outputs": [
    {
     "name": "stdout",
     "output_type": "stream",
     "text": [
      "['Shughuli', 'ya', 'kuthibitisha', 'bidhaa', 'hiyo', ',', 'kulingana', 'na', 'Bw', 'Kimtai', 'inajumuisha', 'Wizara', 'ya', 'Biashara', ',', 'Mamlaka', 'ya', 'Utozaji', 'Ushuru', '(', 'KRA', ')', ',', 'Muungano', 'wa', 'Wafanyabiashara', 'Nchini', 'na', 'wataalamu', 'katika', 'sekta', 'ya', 'ufugaji', 'na', 'maziwa', '.', '“', 'Tutazuru', 'maeneo', 'yaliyotajwa', 'kuathirika', ',', '”', 'afisa', 'huyo', 'akaelezea', '.', '“', 'Ningetaka', 'kuweka', 'wazi', ',', 'hakuna', 'aliyesimamisha', 'uagizaji', 'wa', 'maziwa', 'kutoka', 'Uganda', '.', 'Rais', 'wa', 'taifa', 'hili', 'jirani', ',', 'awali', 'alipomtembelea', 'kiongozi', 'wa', 'nchi', 'tulikubaliana', 'kuendelea', 'kuimarisha', 'biashara', ',', '”', 'akasisitiza', '.', 'Chini', 'ya', 'muda', 'wa', 'miezi', 'kadha', 'iliyopita', ',', 'maziwa', 'yameandikisha', 'mfumko', 'wa', 'bei', '.', '“', 'Kinachofanya', 'maziwa', 'Uganda', 'kuwa', 'rahisi', ',', 'gharama', 'ya', 'malighafi', 'ya', 'chakula', 'cha', 'mifugo', 'na', 'chakula', 'chenyewe', 'ni', 'ya', 'chini', '.', 'Isitoshe', ',', 'Kenya', 'huyanunua', 'kwa', 'wingi', 'kutoka', 'humo', '.', '“', 'Ndio', 'maana', 'baadhi', 'ya', 'viwanda', 'vya', 'humu', 'nchini', 'vinaendea', 'maziwa', 'humo', ',', 'na', 'kukosa', 'kununulia', 'wakulima', 'wetu', '.', 'Hata', 'hivyo', ',', 'serikali', 'ina', 'mpango', 'kuiletea', 'sekta', 'ya', 'ufugaji', 'nafuu', ',', '”', 'Kimtai', 'akafafanua', '.', 'Siku', 'chache', 'zilizopita', ',', 'Waziri', 'wa', 'Kilimo', ',', 'Peter', 'Munya', 'alitangaza', 'kuondoa', 'kwa', 'muda', 'ushuru', 'unaotozwa', 'mahindi', 'na', 'malighafi', 'ya', 'malisho', 'ya', 'mifugo', ',', 'yanayoagizwa', 'nje', 'ya', 'nchi', '.', 'Mpango', 'huo', 'ukiratibiwa', 'kutekelezwa', 'kwa', 'kipindi', 'cha', 'miezi', 'mitatu', 'ijayo', ',', 'Bw', 'Munya', 'alisema', 'hatua', 'hiyo', 'itasaidia', 'kushusha', 'bei', 'ya', 'unga', 'wa', 'mahindi', 'na', 'chakula', 'cha', 'mifugo', '.']\n",
      "\n",
      " Number of Words:  215\n"
     ]
    }
   ],
   "source": [
    "file=\"22july10.txt\"\n",
    "\n",
    "# calling the function and storing the contents in a text variable \n",
    "text1 = get_document(\"https://taifaleo.nation.co.ke/thibitisho-uagizaji-wa-maziwa-kutoka-uganda-haujapigwa-marufuku/\")\n",
    "\n",
    "# calling the store_ document function \n",
    "store_document(doc=text1,name=file)\n",
    "\n",
    "#add the words in this file to the total_corpus_words, to keep count of the number of words in the corpus\n",
    "total_corpus_words+=total_words(file)"
   ]
  },
  {
   "cell_type": "code",
   "execution_count": 253,
   "metadata": {},
   "outputs": [
    {
     "data": {
      "text/plain": [
       "494562"
      ]
     },
     "execution_count": 253,
     "metadata": {},
     "output_type": "execute_result"
    }
   ],
   "source": [
    "total_corpus_words"
   ]
  },
  {
   "cell_type": "code",
   "execution_count": 254,
   "metadata": {},
   "outputs": [
    {
     "name": "stdout",
     "output_type": "stream",
     "text": [
      "['Msamaha', 'gerezani', ':', 'Wakenya', 'wataka', 'utaratibu', 'ubadilike', 'WAKENYA', 'wanataka', 'wafungwa', 'wanaosemehewa', 'na', 'rais', 'wawe', 'ni', 'wale', 'tu', 'waliorekebishika', 'tabia', '.', 'Kulingana', 'na', 'Mkurugenzi', 'Mkuu', 'wa', 'Jopokazi', 'la', 'kurekebisha', 'kifungu', 'cha', 'Katiba', 'kuhusu', 'msamaha', 'kwa', 'wafungwa', ',', 'Lydia', 'Muriuki', ',', 'wananchi', 'wengi', 'wanataka', 'wanaosamehewa', 'wapigwe', 'msasa', 'kwanza', 'kuhakikisha', 'wamerekebisha', 'tabia', '.', 'Haya', 'yanajiri', 'baada', 'ya', 'mfungwa', 'aliyesamehewa', 'na', 'Rais', 'Uhuru', 'Kenyatta', 'miezi', 'michache', 'iliyopita', 'kumuua', 'mamake', '.', 'Bi', 'Muriuki', 'aliongeza', 'kuwa', 'Wakenya', 'wanataka', 'wanaosamehewa', 'kukabidhiwa', 'cheti', 'cha', 'kibali', 'kitakachowawezesha', 'kupata', 'huduma', 'kwenye', 'taasisi', 'zote', 'za', 'serikali', '.', '“', 'Wakazi', 'wa', 'Kaunti', 'ya', 'Trans', 'Nzoia', 'walipendekeza', 'kuwa', 'watakaosamehewa', 'na', 'Rais', 'wakabidhiwe', 'cheti', 'maalum', 'kitakachowapa', 'idhini', 'ya', 'kupokea', 'huduma', 'katika', 'ofisi', 'zote', 'za', 'serikali', ',', '”', 'akasema', 'Bi', 'Muriuki', '.', 'Hata', 'hivyo', ',', 'alisema', 'kuwa', 'cheti', 'hicho', 'cha', 'kibali', 'kitachukuliwa', 'ikiwa', 'mfungwa', 'huyo', 'atatenda', 'uhalifu', 'tena', '.']\n",
      "\n",
      " Number of Words:  134\n"
     ]
    }
   ],
   "source": [
    "file=\"22july12.txt\"\n",
    "\n",
    "# calling the function and storing the contents in a text variable \n",
    "text = get_document(\"https://taifaleo.nation.co.ke/msamaha-gerezani-wakenya-wataka-utaratibu-ubadilike/\")\n",
    "\n",
    "# calling the store_ document function \n",
    "store_document(doc=text,name=file)\n",
    "\n",
    "#add the words in this file to the total_corpus_words, to keep count of the number of words in the corpus\n",
    "total_corpus_words+=total_words(file)"
   ]
  },
  {
   "cell_type": "code",
   "execution_count": 255,
   "metadata": {},
   "outputs": [
    {
     "data": {
      "text/plain": [
       "494696"
      ]
     },
     "execution_count": 255,
     "metadata": {},
     "output_type": "execute_result"
    }
   ],
   "source": [
    "total_corpus_words"
   ]
  },
  {
   "cell_type": "code",
   "execution_count": 256,
   "metadata": {},
   "outputs": [
    {
     "name": "stdout",
     "output_type": "stream",
     "text": [
      "['Kituo', 'cha', 'kukabiliana', 'na', 'kero', 'ya', 'wadudu', 'na', 'magonjwa', 'kwenye', 'miparachichi', 'kuzinduliwa', 'SERIKALI', 'itaanzisha', 'kituo', 'cha', 'kukabiliana', 'na', 'changamoto', 'za', 'wadudu', 'na', 'magonjwa', 'kwenye', 'miparachichi', 'na', 'matunda', '.', 'Hata', 'ingawa', 'bajeti', 'ya', 'mpango', 'huo', 'haijawekwa', 'paruwanja', ',', 'Waziri', 'wa', 'Kilimo', ',', 'Peter', 'Munya', 'amesema', 'ujenzi', 'wa', 'kituo', 'hicho', 'utaanza', 'mwezi', 'huu', ',', 'Julai', '.', 'Bw', 'Munya', 'alitoa', 'tangazo', 'hilo', 'kupitia', 'taarifa', 'iliyosomwa', 'na', 'Mkurugenzi', 'Mkuu', 'Mamlaka', 'ya', 'Kilimo', 'na', 'Chakula', 'Nchini', ',', 'anayesimamia', 'Kitengo', 'cha', 'Mimea', ',', 'Benjamin', 'Tito', 'katika', 'Kongamano', 'la', 'Avokado', 'Afrika', '2022', ',', 'lililofanyika', 'jijini', 'Nairobi', '.', 'Kongamano', 'hilo', 'liliandaliwa', 'na', 'Chama', 'cha', 'Ushirika', 'cha', 'Kitaifa', 'cha', 'Wazalishaji', 'wa', 'Avokado', '(', 'ASOK', ')', '.', 'Wadudu', 'na', 'magonjwa', 'kama', 'vile', 'False', 'Codling', 'Moth', ',', 'black', 'spot', 'na', 'Phytophthora', 'root', 'rot', ',', 'ni', 'kero', 'inayoendelea', 'kutatiza', 'ukuzaji', 'wa', 'maparachichi', 'nchini', 'na', 'kuathiri', 'hadhi', 'ya', 'matunda', 'yanayohitajika', 'na', 'masoko', 'ya', 'kimataifa', '.', 'Nchi', 'za', 'Bara', 'Uropa', 'na', 'Milki', 'za', 'Kiarabu', '(', 'UAE', ')', ',', 'Uingereza', ',', 'Urusi', 'na', 'China', ',', 'ndio', 'wanunuzi', 'wakuu', 'wa', 'avokado', 'za', 'Kenya', '.', '“', 'Ili', 'kuangazia', 'changamoto', 'katika', 'sekta', 'ya', 'avokado', ',', 'serikali', 'itaanzisha', 'kituo', 'cha', 'kukabiliana', 'na', 'wadudu', 'na', 'magonjwa', 'kwenye', 'mimea', 'na', 'matunda', ',', '”', 'Bw', 'Tito', 'akasema', ',', 'kupitia', 'taarifa', 'ya', 'Waziri', 'Munya', '.', 'Serikali', 'ya', 'Kenya', ',', 'mara', 'kadha', 'imeweka', 'amri', 'ya', 'muda', 'kusitisha', 'uuzaji', 'wa', 'avokado', 'katika', 'masoko', 'ya', 'ughaibuni', 'kufuatia', 'malalamishi', 'ya', 'wateja', 'mazao', 'kutoafikia', 'kiwango', 'kinachohitajika', '.', 'Amri', 'hiyo', 'kwa', 'sasa', 'imeondolewa', '.', 'Miaka', 'mitatu', 'iliyopita', ',', 'Kenya', 'na', 'China', 'ilitia', 'saini', 'mkataba', 'wa', 'makubaliana', 'avokado', 'za', 'Kenya', 'zilizogandishwa', 'kuuzwa', 'nchini', 'humo', '.', 'Soko', 'hilo', 'hata', 'hivyo', 'limekuwa', 'likikumbwa', 'na', 'changamoto', 'za', 'hapa', 'na', 'pale', ',', 'baadhi', 'ya', 'mawakala', 'na', 'wafanyabiashara', 'wakilaumiwa', 'kushirikiana', 'na', 'maafisa', 'watundu', 'serikalini', 'kushinikiza', 'wakulima', 'kuvuna', 'maparachichi', 'ambayo', 'hayajakomaa', '.', 'Hatua', 'hiyo', 'inapaka', 'tope', 'sura', 'ya', 'Kenya', ',', 'katika', 'nchi', 'za', 'ng', '’', 'ambo', '.', 'Mapema', 'mwaka', 'huu', ',', 'mkataba', 'kati', 'ya', 'Kenya', 'na', 'China', 'ulitathminiwa', 'soko', 'likapanuka', 'zaidi', ',', 'wakulima', 'wakiruhusiwa', 'kuuza', 'avokado', 'zilizokomaa', 'na', 'kuafikia', 'vigezo', 'na', 'sheria', 'zilizowekwa', 'kuzizalisha', '.']\n",
      "\n",
      " Number of Words:  329\n"
     ]
    }
   ],
   "source": [
    "file=\"22july13.txt\"\n",
    "\n",
    "# calling the function and storing the contents in a text variable \n",
    "text = get_document(\"https://taifaleo.nation.co.ke/kituo-cha-kukabiliana-na-kero-ya-wadudu-na-magonjwa-kwenye-miparachichi-kuzinduliwa/\")\n",
    "\n",
    "# calling the store_ document function \n",
    "store_document(doc=text,name=file)\n",
    "\n",
    "#add the words in this file to the total_corpus_words, to keep count of the number of words in the corpus\n",
    "total_corpus_words+=total_words(file)"
   ]
  },
  {
   "cell_type": "code",
   "execution_count": 257,
   "metadata": {},
   "outputs": [
    {
     "data": {
      "text/plain": [
       "495025"
      ]
     },
     "execution_count": 257,
     "metadata": {},
     "output_type": "execute_result"
    }
   ],
   "source": [
    "total_corpus_words"
   ]
  },
  {
   "cell_type": "code",
   "execution_count": 258,
   "metadata": {},
   "outputs": [
    {
     "name": "stdout",
     "output_type": "stream",
     "text": [
      "['Wapwani', 'waonywa', 'wasiuze', 'hatimiliki', 'ZAIDI', 'ya', 'wakazi', '300', 'waliopokea', 'hatimiliki', 'kutoka', 'kwa', 'serikali', 'kuu', 'katika', 'eneo', 'la', 'Pwani', ',', 'wameombwa', 'kutoziuza', 'hatimiliki', 'hizo', 'na', 'kuwa', 'maskwota', 'kwingineko', '.', 'Wakazi', 'hao', 'katika', 'eneo', 'bunge', 'la', 'Malindi', 'wamepokea', 'hatimiliki', 'za', 'ardhi', 'kutoka', 'kwa', 'serikali', 'ya', 'kitaifa', '.', 'Akizungumza', 'kwenye', 'hafla', 'ya', 'utoaji', 'wa', 'hatimiliki', 'katika', 'eneo', 'la', 'Kisiki', ',', 'Malindi', ',', 'Waziri', 'wa', 'Utalii', 'nchini', 'Najib', 'Balala', 'aliwataka', 'wakazi', 'hao', 'kutumia', 'hatimiliki', 'hizo', 'kujiendeleza', 'kimaisha', '.', '“', 'Nawapa', 'hatimiliki', 'hizi', 'kwa', 'kuwa', 'serikali', 'inawajali', '.', 'Ninachowaomba', 'ni', 'mzitunze', 'stakabadhi', 'hizi', 'na', 'mzitumie', 'kuimarisha', 'maisha', 'yenu', '.', 'Serikali', 'haitakubali', 'mambo', 'ya', 'kuuza', 'hatimiliki', 'na', 'kisha', 'kuhamia', 'eneo', 'lingine', 'kuwa', 'maskwota', ',', '”', 'alisema', 'Bw', 'Balala', '.', 'Katika', 'mahojiano', 'na', 'wanahabari', 'katika', 'hafla', 'ya', 'kutoa', 'hatimiliki', 'katika', 'eneo', 'la', 'Bombi', ',', 'Magarini', ',', 'Bw', 'Balala', 'alielezea', 'kuwa', 'serikali', 'imepokea', 'ripoti', 'kuhusu', 'uuzaji', 'wa', 'hatimiliki', '.', 'Kulingana', 'naye', ',', 'waliopata', 'hatimiliki', 'waliziuza', 'na', 'kusalia', 'bila', 'makaazi', '.', 'Kulingana', 'naye', ',', 'waliouza', 'walisalia', 'bila', 'ardhi', 'na', 'kuenda', 'katika', 'sehemu', 'zingine', 'kuwa', 'maskwota', '.', '“', 'Mbona', 'uuze', 'ardhi', 'baada', 'ya', 'kuwa', 'katika', 'shida', 'kwa', 'miaka', 'mingi', '?', 'Tafadhali', 'mtakapopata', 'hatimiliki', 'hizi', 'msijaribu', 'kuziuza', '.', 'Zilinde', 'na', 'ziwasaidie', ',', '”', 'alisema', 'Bw', 'Kombe', '.', 'Katibu', 'mkuu', 'wa', 'utawala', 'wa', 'zamani', 'katika', 'Wizara', 'ya', 'Ardhi', 'Bw', 'Gideon', 'Mung', '’', 'aro', ',', 'ambaye', 'anawania', 'kiti', 'cha', 'ugavana', 'wa', 'Kilifi', 'kupitia', 'chama', 'cha', 'ODM', ',', 'aliwahimiza', 'wakazi', 'wa', 'Pwani', 'kuzitumia', 'vyema', 'ardhi', 'zao', 'ili', 'kujinufaisha', '.', 'Alieleza', 'kuwa', 'serikali', 'iko', 'tayari', 'kupambana', 'na', 'maskwota', 'waliohitimu', '.', 'Kamishna', 'wa', 'kaunti', 'ya', 'Kilifi', 'Bw', 'Kutswa', 'Olaka', 'aliomba', 'hatimiliki', 'zilizotolewa', 'ziwe', 'za', 'kuijenga', 'familia', 'na', 'sio', 'chanzo', 'cha', 'mizozo', 'ya', 'ardhi', '.', '“', 'Licha', 'ya', 'hatimiliki', 'hizi', 'kuwa', 'chanzo', 'cha', 'matumaini', 'kwa', 'familia', ',', 'kwa', 'Wengine', 'huleta', 'migogoro', 'kati', 'ya', 'wanafamilia', '.', 'Nawaomba', 'mtakapopata', 'hatimiliki', ',', 'endapo', 'kuna', 'suala', 'lolote', 'litakalotokea', 'lisuluhishwe', 'kwa', 'njia', 'ipaswayo', ',', '”', 'alieleza', 'kamishna', 'huyo', '.', 'Raila', 'aingilia', 'majibizano', 'ya', 'Ruto', ',', 'Wamalwa', 'MGOMBEA', 'urais', 'wa', 'muungano', 'wa', 'Azimio', 'la', 'Umoja', 'One', 'Kenya', 'Alliance', 'Raila', 'Odinga', 'pamoja', 'na', 'viongozi', 'wa', 'mrengo', 'wake', ',', 'wamemsuta', 'Naibu', 'wa', 'Rais', 'William', 'Ruto', 'kwa', 'matamshi', 'yake', 'dhidi', 'ya', 'Waziri', 'wa', 'Ulinzi', 'Eugene', 'Wamalwa', '.', 'POLISI', 'katika', 'divisheni', 'ya', 'Makadara', 'wanachunguza', 'washukiwa', '65', 'waliokamatwa', 'wakati', 'wa', 'msako', 'uliofanyika', 'katika', 'vituo', 'vitano', 'vya', 'polisi', 'kwenye', 'eneo', 'hilo', 'Jumatano', 'usiku', '.', 'Mkuu', 'wa', 'polisi', 'katika', 'eneo', 'hilo', ',', 'Bw', 'Timon', 'Odingo', 'alisema', 'lengo', 'la', 'msako', 'huo', 'lilikuwa', 'ni', 'kupunguza', 'uhalifu', 'mdogo', 'uchaguzi', 'mkuu', 'unapokaribia', '.', '“', 'Lengo', 'kuu', 'ni', 'kupunguza', 'na', 'kuzuia', 'kufanyika', 'kwa', 'uhalifu', 'kabla', ',', 'wakati', 'na', 'baada', 'ya', 'uchaguzi', 'ujao', 'wa', 'Agosti', 'tarehe', '9', 'mwaka', 'huu.', '”', 'Bw', 'Odingo', 'akaambia', 'Taifa', 'Leo', '.', 'Maafisa', 'wake', 'walinasa', 'lita', 'kadhaa', 'za', 'pombe', 'haramu', 'ikiwemo', 'chang', '’', 'aa', ',', 'miti', 'ni', 'dawa', ',', 'mugasha', ',', 'busaa', ',', 'gramu', '500', 'za', 'bangi', 'yenye', 'thamani', 'ya', 'Sh10,000', 'na', 'silaha', 'kama', 'visu', ',', 'pamoja', 'na', 'vifaa', 'vya', 'kielektroniki', '.', 'Washukiwa', 'walikuwa', 'ni', 'pamoja', 'na', 'wanaotuhumiwa', 'kunajisi', ',', 'kunyang', '’', 'anya', 'na', 'kisha', 'kutorokea', 'mitaani', 'wakikwepa', 'kukamatwa', 'na', 'polisi', '.', 'Msako', 'huo', 'ulifanywa', 'na', 'polisi', 'kutoka', 'kituo', 'cha', 'Makongeni', ',', 'Lunga', 'Lunga', ',', 'Kwa', 'Reuben', ',', 'South', '‘', 'B', '’', 'na', 'Industrial', 'Area', '.', 'Bw', 'Odingo', 'aliongeza', 'kwamba', 'miongoni', 'mwa', 'waliokamatwa', ',', 'walifanikiwa', 'kumkamata', 'mshukiwa', 'sugu', 'aliyekuwa', 'mafichoni', ',', 'aliyekuwa', 'katika', 'orodha', 'ya', 'polisi', 'ya', 'washukiwa', 'waliokuwa', 'na', 'bunduki', 'na', 'walio', 'hatari', 'kwa', 'usalama', '.', 'Kadhalika', ',', 'kamanda', 'Odingo', 'aliongeza', 'kwamba', 'misako', 'zaidi', 'itaendelea', 'kote', 'katika', 'eneo', 'la', 'Makadara', 'hata', 'uchaguzi', 'muu', 'ukimalizika', '.', '“', 'Hatutalala', '.', 'Tunaendelea', 'na', 'misako', 'zaidi', 'ili', 'tupunguze', 'uhalifu', '.', 'Hata', 'tukimaliza', 'kupiga', 'kura', 'mwezi', 'ujao', ',', 'tutazidi', 'kufanya', 'misako', ',', 'kuwakamata', 'na', 'kuwashtaki', 'washukiwa', 'kwa', 'mujibu', 'wa', 'sheria', 'za', 'nchi', 'ya', 'Kenya', ',', '”', 'Bw', 'Odingo', 'akaambia', 'wanahabari', '.', 'Hii', 'itakuwa', 'mara', 'ya', 'kwanza', 'bei', 'za', 'mafuta', 'kukosa', 'kupanda', 'katika', 'muda', 'mwa', 'miezi', 'mitano', '.', '“', 'Kama', 'serikali', 'inayojali', ',', 'tutaendelea', 'kuchukua', 'hatua', 'kama', 'hizi', 'ili', 'kutoa', 'afueni', 'ya', 'moja', 'kwa', 'moja', 'kwa', 'familia', 'za', 'Kenya', 'na', 'kulinda', 'watumiaji', 'wa', 'bidhaa', 'kutoka', 'mfumko', 'zaidi', 'wa', 'bidhaa', ',', '”', 'akasema', 'Rais', 'Kenyatta', '.', 'Punde', 'tu', 'baada', 'ya', 'tangazo', 'hilo', ',', 'EPRA', 'ilitangaza', 'bei', 'za', 'juu', 'zaidi', 'za', 'mafuta', 'nchini', 'ambazo', 'zimekuwa', 'zikitumika', 'kwa', 'mwezi', 'mmoja', 'uliopita', '.', 'Hii', 'ilisababisha', 'bei', 'za', 'bidhaa', 'muhimu', 'kupanda', 'kwa', 'asilimia', 'kubwa', 'nchini', 'ikiwemo', 'unga', 'wa', 'mahindi', 'na', 'nauli', 'na', 'kulikuwa', 'na', 'hofu', 'kwamba', 'zingepanda', 'tena', 'kuanzia', 'jana', '.', 'Lakini', 'Alhamisi', ',', 'Rais', 'Kenyatta', 'amesema', 'bei', 'za', 'juu', 'za', 'mafuta', 'zimesababishwa', 'na', 'matukio', 'ulimwenguni', 'ambayo', 'serikali', 'haiwezi', 'kudhibiti', '.', '“', 'Tunapoendelea', 'kufufua', 'uchumi', 'kutoka', 'athari', 'za', 'janga', 'la', 'Covid-19', ',', 'matukio', 'ya', 'ulimwengu', 'na', 'ambayo', 'hatuwezi', 'kuzuia', 'yanabomoa', 'ufanisi', 'ambao', 'tumepata', ',', 'na', 'kusababisha', 'mfumko', 'wa', 'bei', 'za', 'bidhaa', 'zikiwemo', 'zile', 'za', 'bidhaa', 'za', 'chakula', ',', 'bidhaa', 'za', 'mafuta', ',', 'pembejeo', 'za', 'shambani', 'na', 'nyenzo', 'za', 'ujenzi', ',', '”', 'akasema', 'Rais', 'Kenyatta', '.']\n",
      "\n",
      " Number of Words:  783\n"
     ]
    }
   ],
   "source": [
    "file=\"22july14.txt\"\n",
    "\n",
    "# calling the function and storing the contents in a text variable \n",
    "text1 = get_document(\"https://taifaleo.nation.co.ke/wapwani-waonywa-wasiuze-hatimiliki/\")\n",
    "text2 = get_document(\"https://taifaleo.nation.co.ke/raila-aingilia-majibizano-ya-ruto-wamalwa/\")\n",
    "text3 = get_document(\"https://taifaleo.nation.co.ke/washukiwa-65-wa-uhalifu-watiwa-mbaroni-kwenye-operesheni-kali-makadara/\")\n",
    "text4 = get_document(\"https://taifaleo.nation.co.ke/uhuru-ajitwika-kazi-ya-kutoa-bei-za-mafuta/\")\n",
    "\n",
    "# calling the store_ document function \n",
    "store_document(doc=text1,name=file)\n",
    "store_document(doc=text2,name=file)\n",
    "store_document(doc=text3,name=file)\n",
    "store_document(doc=text4,name=file)\n",
    "\n",
    "#add the words in this file to the total_corpus_words, to keep count of the number of words in the corpus\n",
    "total_corpus_words+=total_words(file)"
   ]
  },
  {
   "cell_type": "code",
   "execution_count": 259,
   "metadata": {},
   "outputs": [
    {
     "data": {
      "text/plain": [
       "495808"
      ]
     },
     "execution_count": 259,
     "metadata": {},
     "output_type": "execute_result"
    }
   ],
   "source": [
    "total_corpus_words"
   ]
  },
  {
   "cell_type": "code",
   "execution_count": 260,
   "metadata": {},
   "outputs": [
    {
     "name": "stdout",
     "output_type": "stream",
     "text": [
      "['Akiongea', 'kwenye', 'mkutano', 'na', 'wanahabari', 'Kaunti', 'ya', 'Kwale', ',', 'Bi', 'Ireri', 'alisema', ',', 'wanawake', 'wengi', 'wamejitokeza', 'kugombea', 'viti', 'vingi', 'vya', 'kisiasa', 'katika', 'uchaguzi', 'wa', 'Agosti', '9', ',', '2022', '.', '“', 'Tumefurahi', 'sana', 'sababu', 'katika', 'historia', 'wanawake', 'wamekuwa', 'wakibaguliwa', 'na', 'kunyanyaswa', '.', 'Lakini', 'mambo', 'yamebadilika', 'sasa', 'ndio', 'maana', 'tunaona', 'tumeteuliwa', 'kama', 'wagombea', 'wenza', 'na', 'wawaniaji', 'watatu', 'wa', 'urais', ',', '”', 'alisema', 'Bi', 'Ireri', '.']\n",
      "\n",
      " Number of Words:  63\n"
     ]
    }
   ],
   "source": [
    "file=\"22july15.txt\"\n",
    "\n",
    "# calling the function and storing the contents in a text variable \n",
    "text = get_document(\"https://taifaleo.nation.co.ke/fida-yahimiza-wapigakura-kuchagua-wanawake-kuongeza-idadi-yao-bungeni/\")\n",
    "\n",
    "# calling the store_ document function \n",
    "store_document(doc=text,name=file)\n",
    "\n",
    "#add the words in this file to the total_corpus_words, to keep count of the number of words in the corpus\n",
    "total_corpus_words+=total_words(file)"
   ]
  },
  {
   "cell_type": "code",
   "execution_count": 261,
   "metadata": {},
   "outputs": [
    {
     "data": {
      "text/plain": [
       "495871"
      ]
     },
     "execution_count": 261,
     "metadata": {},
     "output_type": "execute_result"
    }
   ],
   "source": [
    "total_corpus_words"
   ]
  },
  {
   "cell_type": "code",
   "execution_count": 263,
   "metadata": {},
   "outputs": [
    {
     "name": "stdout",
     "output_type": "stream",
     "text": [
      "['Wakulima', 'wageukia', 'maombi', 'kukabili', 'wizi', 'wa', 'zao', 'la', 'kahawa', 'WAKULIMA', 'katika', 'Kaunti', 'ya', 'Tharaka', 'Nithi', 'wamelazimika', 'kuegemea', 'kwa', 'maombi', 'baada', 'ya', 'kutamaushwa', 'na', 'kujikokota', 'kwa', 'polisi', 'kuwakamata', 'wezi', 'walioiba', 'magunia', '200', 'ya', 'kahawa', 'yenye', 'thamani', 'ya', 'Sh8', 'milioni', 'miezi', 'miwili', 'iliyopita', '.', 'Polisi', 'na', 'maafisa', 'wa', 'utawala', 'waliwaahidi', 'wakulima', 'hao', 'kufanya', 'uchunguzi', 'wa', 'kina', 'kubaini', 'wale', 'waliohusika', 'katika', 'wizi', 'huo', 'kwenye', 'Kiwanda', 'cha', 'Kahawa', 'cha', 'Njaina', '.', 'Licha', 'ya', 'ahadi', 'hiyo', ',', 'hakuna', 'hatua', 'yoyote', 'iliyochukuliwa', 'kufikia', 'sasa', '.', 'Wakati', 'wa', 'maombi', 'hayo', ',', 'Bw', 'Erastus', 'Njagi', ',', 'ambaye', 'ni', 'mmoja', 'wa', 'wakulima', 'hao', ',', 'alieleza', 'kuwa', 'baada', 'ya', 'kushindwa', 'kupata', 'usaidizi', 'kutoka', 'kwa', 'polisi', ',', 'waliamua', 'kumtafuta', 'mganga', 'lakini', 'wakabadilisha', 'msimamo', 'wao', '.', 'Ni', 'baada', 'ya', 'hapo', 'ambapo', 'waliwaalika', 'mapasta', '.', 'Chifu', 'wa', 'Lokesheni', 'ya', 'Karingani', ',', 'Bw', 'Charles', 'Njagi', ',', 'alisema', 'wasimamizi', 'wa', 'kiwanda', 'hicho', 'ndio', 'wanafaa', 'kulaumiwa', 'kutokana', 'na', 'wizi', 'huo', ',', 'kwani', 'walichelewa', 'kusafirisha', 'kahawa', 'hiyo', 'kwa', 'wasagaji', ',', 'kama', 'walivyokuwa', 'wamekubaliana', '.', 'Alieleza', 'kwamba', 'kutokana', 'na', 'ongezeko', 'la', 'visa', 'vya', 'wizi', 'wa', 'kahawa', 'katika', 'eneo', 'hilo', ',', 'wakulima', 'walikutana', 'na', 'kukubaliana', 'kwamba', 'kiwanda', 'hicho', 'kingekuwa', 'kikisafirisha', 'kila', 'magunia', 'kumi', 'kusagwa', '.', 'Kiwanda', 'cha', 'kusaga', 'kahawa', 'hiyo', 'kiko', 'katika', 'eneo', 'la', 'Mitheru', '.', 'Chifu', 'huyo', 'alishangaa', 'kuhusu', 'sababu', 'ambapo', 'maafisa', 'hao', 'walisubiri', 'hadi', 'magunia', 'hayo', 'yakafika', '200', ',', 'kinyume', 'na', 'makubaliano', 'yaliyokuwepo', '.', 'Ili', 'kuimarisha', 'usalama', ',', 'chifu', 'huyo', 'alipendekeza', 'kiwanda', 'hicho', 'kuwekwa', 'kamera', 'za', 'CCTV', 'ili', 'kunasa', 'shughuli', 'zote', 'ambazo', 'zitakuwa', 'zikiendelea', 'nyakati', 'za', 'mchana', 'na', 'usiku', '.', 'Diwani', 'wa', 'wadi', 'ya', 'Karingani', ',', 'Bw', 'Godfrey', 'Muriithi', ',', 'pia', 'alisisitiza', 'kuhusu', 'haja', 'ya', 'taasisi', 'za', 'kiusalama', 'katika', 'eneo', 'hilo', 'kuchunguza', 'visa', 'vya', 'wizi', 'wa', 'kahawa', 'kwenye', 'viwanda', '.', 'Vile', 'vile', ',', 'aliunga', 'mkono', 'pendekezo', 'la', 'kuweka', 'kamera', 'za', 'CCTV', 'na', 'mataa', 'ili', 'kuimarisha', 'usalama', '.', '“', 'Ikiwa', 'nitachaguliwa', 'tena', 'kwenye', 'uchaguzi', 'wa', 'Agosti', '9', ',', 'nitawasilisha', 'suala', 'hili', 'katika', 'Bunge', 'la', 'Kaunti', 'ili', 'serikali', 'ya', 'kaunti', 'iweze', 'kufadhili', 'mipango', 'ya', 'kuboresha', 'usalama', 'katika', 'viwanda', 'vya', 'kahawa', ',', '”', 'akasema', 'Bw', 'Muriithi', '.']\n",
      "\n",
      " Number of Words:  327\n"
     ]
    }
   ],
   "source": [
    "file=\"22july17.txt\"\n",
    "\n",
    "# calling the function and storing the contents in a text variable \n",
    "text1 = get_document(\"https://taifaleo.nation.co.ke/wakulima-wageukia-maombi-kukabili-wizi-wa-zao-la-kahawa/\")\n",
    "\n",
    "# calling the store_ document function \n",
    "store_document(doc=text1,name=file)\n",
    "\n",
    "#add the words in this file to the total_corpus_words, to keep count of the number of words in the corpus\n",
    "total_corpus_words+=total_words(file)"
   ]
  },
  {
   "cell_type": "code",
   "execution_count": 264,
   "metadata": {},
   "outputs": [
    {
     "data": {
      "text/plain": [
       "496198"
      ]
     },
     "execution_count": 264,
     "metadata": {},
     "output_type": "execute_result"
    }
   ],
   "source": [
    "total_corpus_words"
   ]
  },
  {
   "cell_type": "code",
   "execution_count": 266,
   "metadata": {},
   "outputs": [
    {
     "name": "stdout",
     "output_type": "stream",
     "text": [
      "['Balala', 'abururwa', 'hadi', 'kortini', 'kwa', 'madai', 'ya', 'ufisadi', 'MASHIRIKA', 'ya', 'kutetea', 'haki', 'za', 'binadamu', 'yamemshtaki', 'Waziri', 'wa', 'Utalii', ',', 'Bw', 'Najib', 'Balala', ',', 'kuhusu', 'madai', 'ya', 'ufisadi', 'katika', 'ujenzi', 'wa', 'chuo', 'cha', 'utalii', 'cha', 'Ronald', 'Ngala', 'kilicho', 'Kaunti', 'ya', 'Kilifi', '.', 'Wengine', 'walioshtakiwa', 'katika', 'kesi', 'hiyo', 'ambayo', 'imehamishwa', 'hadi', 'mahakama', 'ya', 'Malindi', ',', 'ni', 'Hazina', 'ya', 'Utalii', ',', 'kampuni', 'ya', 'Mulji', 'Devraj', '&', 'Brothers', 'Ltd', ',', 'Baseline', 'Architects', 'Ltd', ',', 'Spika', 'wa', 'Bunge', 'la', 'Taifa', ',', 'Kamati', 'ya', 'Uwekezaji', 'wa', 'Umma', 'katika', 'Bunge', 'la', 'Taifa', 'na', 'Mwanasheria', 'Mkuu', '.', 'Wamedai', 'mradi', 'huo', 'ulistahili', 'kugharimu', 'Sh2', 'bilioni', 'lakini', 'kiwango', 'kikabadilishwa', 'kwa', 'njia', 'tatanishi', 'hadi', 'Sh9', 'bilioni', '.']\n",
      "\n",
      " Number of Words:  106\n"
     ]
    }
   ],
   "source": [
    "file=\"22july19.txt\"\n",
    "\n",
    "# calling the function and storing the contents in a text variable \n",
    "text = get_document(\"https://taifaleo.nation.co.ke/balala-abururwa-hadi-kortini-kwa-madai-ya-ufisadi/\")\n",
    "\n",
    "# calling the store_ document function \n",
    "store_document(doc=text,name=file)\n",
    "\n",
    "#add the words in this file to the total_corpus_words, to keep count of the number of words in the corpus\n",
    "total_corpus_words+=total_words(file)"
   ]
  },
  {
   "cell_type": "code",
   "execution_count": 267,
   "metadata": {},
   "outputs": [
    {
     "data": {
      "text/plain": [
       "496304"
      ]
     },
     "execution_count": 267,
     "metadata": {},
     "output_type": "execute_result"
    }
   ],
   "source": [
    "total_corpus_words"
   ]
  },
  {
   "cell_type": "code",
   "execution_count": 271,
   "metadata": {},
   "outputs": [
    {
     "name": "stdout",
     "output_type": "stream",
     "text": [
      "['Mang', '’', 'u', 'yang', '’', 'aa', 'katika', 'mashindano', 'ya', 'somo', 'la', 'Hisabati', 'SHULE', 'ya', 'upili', 'ya', 'Mang', '’', 'u', 'High', 'iliibuka', 'bingwa', 'katika', 'mashindano', 'ya', 'Hisabati', 'yaliyoleta', 'pamoja', 'takriban', 'shule', '60', 'zilizoshiriki', '.', 'Profesa', 'Gachuhi', 'Waititu', ',', 'mkuu', 'wa', 'kitengo', 'cha', 'Hisabati', 'na', 'Fizikia', 'katika', 'Chuo', 'Kikuu', 'cha', 'Kilimo', 'na', 'Teknolojia', 'cha', 'Jomo', 'Kenyatta', '(', 'JKUAT', ')', ',', 'ndiye', 'alikuwa', 'mgeni', 'wa', 'heshima', 'katika', 'kongamano', 'la', '23', 'lililoandaliwa', 'katika', 'shule', 'ya', 'Mang', '’', 'u', 'High', '.', 'Profesa', 'Waititu', 'aliwarai', 'wanafunzi', 'kulienzi', 'somo', 'la', 'Hisabati', 'na', 'kufanya', 'bidii', 'ili', 'kupata', 'ufahamu', 'kamili', '.', 'Alisema', 'katika', 'maisha', 'ya', 'kawaida', 'kila', 'kitu', 'kinachukua', 'mwelekeo', 'wa', 'kuhesabu', 'kutoka', 'kwa', 'wachuuzi', ',', 'wauzaji', 'mitumba', 'na', 'hata', 'shughuli', 'nyinginezo', 'sokoni', '.', '“', 'Nyinyi', 'kama', 'wanafunzi', 'mnastahili', 'kufanya', 'bidii', 'katika', 'Hisabati', 'na', 'kufanya', 'hima', 'kudadisi', 'mambo', 'kupata', 'uelewa', 'zaidi', '.', 'Bila', 'shaka', 'walimu', 'watawafaa', ',', '”', 'alifafanua', 'Prof', 'Waititu', '.', 'Alitaja', 'kazi', 'za', 'uhandisi', 'na', 'udaktari', 'kama', 'muhimu', 'akisema', 'wataalamu', 'kwenye', 'fani', 'hizi', 'huzingatia', 'maswala', 'ya', 'hesabu', 'wakati', 'wanatekeleza', 'wajibu', 'wa', 'kazi', 'hizo', '.', 'Mwalimu', 'mkuu', 'wa', 'shule', 'ya', 'Mang', '’', 'u', 'High', 'John', 'Kuria', 'aliwahimiza', 'wanafunzi', 'kukumbatia', 'somo', 'la', 'Hisibati', 'kwa', 'sababu', 'lina', 'umuhimu', 'wake', '.', 'Wanafunzi', 'wawili', 'wa', 'Mang', '’', 'u', 'High', 'walishika', 'nafasi', 'ya', 'kwanza', 'na', 'ya', 'pili', 'mtawalia', 'katika', 'mashindano', 'hayo', '.', 'Mwanafunzi', 'Samuel', 'Njuguna', 'wa', 'shule', 'ya', 'Nanyuki', 'High', 'alishika', 'nafasi', 'ya', 'tatu', 'kwa', 'kuonyesha', 'ujuzi', 'wake', 'na', 'ukakamavu', 'wa', 'kujibu', 'maswali', 'ya', 'Hisibati', 'kwa', 'umakinifu', '.', 'Upande', 'wa', 'wasichana', ',', 'shule', 'ya', 'upili', 'ya', 'Maryhill', ',', 'Bishop', 'Gatimu', 'Girls', 'na', 'Moi', 'Forces', 'ziliibuka', 'washindi', 'kwa', 'kuzoa', 'alama', 'za', 'juu', '.', 'Mashindano', 'hayo', 'yalizinduliwa', 'mwaka', 'wa', '1996', 'wakati', 'huo', 'yakishirikisha', 'shule', 'chache', 'za', 'upili', '.', 'Mashindano', 'hayo', 'ya', 'kila', 'mwaka', 'yameleta', 'wanafunzi', 'pamoja', 'kwa', 'kuongeza', 'nidhamu', 'na', 'utangamano', '.', 'Bw', 'Boniface', 'Murigi', ',', 'ambaye', 'ni', 'mkurugenzi', 'wa', 'maswala', 'ya', 'mawasiliano', 'katika', 'Chuo', 'Kikuu', 'cha', 'Mount', 'Kenya', 'alipongeza', 'mpango', 'huo', 'wa', 'kuwaleta', 'wanafunzi', 'pamoja', 'na', 'kutoa', 'wito', 'chuo', 'hicho', 'kuzingatia', 'kuleta', 'masomo', 'tofauti', 'katika', 'mashindano', 'hayo', '.', 'Aliwahimiza', 'wanafunzi', 'kujizatiti', 'kuona', 'ya', 'kwamba', 'wanapata', 'mafunzo', 'kamili', 'ya', 'somo', 'la', 'Hisabati', 'huku', 'walimu', 'pia', 'wakishauriwa', 'kuwa', 'na', 'ushirikiano', 'mwema', 'na', 'wanafunzi', '.']\n",
      "\n",
      " Number of Words:  348\n"
     ]
    }
   ],
   "source": [
    "file=\"22july20.txt\"\n",
    "\n",
    "# calling the function and storing the contents in a text variable \n",
    "text1 = get_document(\"https://taifaleo.nation.co.ke/mangu-yangaa-katika-mashindano-ya-somo-la-hisabati/\")\n",
    "\n",
    "# calling the store_ document function \n",
    "store_document(doc=text1,name=file)\n",
    "\n",
    "#add the words in this file to the total_corpus_words, to keep count of the number of words in the corpus\n",
    "total_corpus_words+=total_words(file)"
   ]
  },
  {
   "cell_type": "code",
   "execution_count": 272,
   "metadata": {},
   "outputs": [
    {
     "data": {
      "text/plain": [
       "496652"
      ]
     },
     "execution_count": 272,
     "metadata": {},
     "output_type": "execute_result"
    }
   ],
   "source": [
    "total_corpus_words"
   ]
  },
  {
   "cell_type": "code",
   "execution_count": 275,
   "metadata": {},
   "outputs": [
    {
     "name": "stdout",
     "output_type": "stream",
     "text": [
      "['Pwani', 'ni', 'ngome', 'ya', 'Raila', ',', 'utafiti', 'wa', 'Infotrak', 'waonyesha', 'CHAMA', 'cha', 'Orange', 'Democratic', 'Movement', '(', 'ODM', ')', 'kinachoongozwa', 'na', 'mpeperushaji', 'bendera', 'wa', 'Muungano', 'wa', 'Azimio', 'La', 'Umoja-One', 'Kenya', 'Raila', 'Odinga', 'ndicho', 'maarufu', 'zaidi', 'katika', 'eneo', 'la', 'pwani', ',', 'utafiti', 'mpya', 'umeonyesha', '.', 'Ripoti', 'ya', 'hivi', 'punde', 'zaidi', 'iliyotolewa', 'jana', 'na', 'Shirika', 'la', 'Utafiti', 'la', 'Infotrak', 'inaonyesha', 'kuwa', ',', 'kiongozi', 'wa', 'ODM', 'anajivunia', 'umaarufu', 'kwa', 'kiasi', 'kikubwa', 'katika', 'kaunti', 'tano', ',', 'miongoni', 'mwa', 'jumla', 'ya', 'kaunti', 'sita', 'katika', 'eneo', 'la', 'Pwani', '.', 'Kulingana', 'na', 'kura', 'ya', 'maoni', 'iliyofanyika', 'katika', 'maeneobunge', '26', 'na', 'wadi', '130', 'za', 'eneo', 'la', 'pwani', ',', 'umaarufu', 'wa', 'Bw', 'Odinga', 'umeongezeka', 'pakubwa', 'katika', 'muda', 'wa', 'wiki', 'chache', 'zilizopita', '.', 'Kufikia', 'katikati', 'mwa', 'Julai', ',', 'umaarufu', 'wa', 'mpeperushaji', 'bendera', 'wa', 'Azimio', 'na', 'mgombea', 'mwenza', 'wake', 'Martha', 'Karua', 'katika', 'Kaunti', 'ya', 'Mombasa', 'uliongezeka', 'hadi', 'asilimia', '59', 'kutoka', 'asilimia', '46', '.', 'Mgombeaji', 'urais', 'kwa', 'tikiti', 'ya', 'Kenya', 'Kwanza', 'William', 'Ruto', 'anafuata', 'kwa', 'asilimia', '25', 'baada', 'ya', 'umaarufu', 'wake', 'kushuka', 'kutoka', 'asilimia', '27', '.', 'Endapo', 'uchaguzi', 'ungeandaliwa', 'leo', ',', 'mgombeaji', 'ugavana', 'kwa', 'tiketi', 'ya', 'ODM', 'Abdulswamad', 'Shariff', 'Nassir', 'angeibuka', 'mshindi', 'kwa', 'asilimia', '50', ',', 'akifuatiwa', 'na', 'Mike', 'Sonko', 'wa', 'Wiper', '(', 'asilimia', '22', ')', 'na', 'Hassan', 'Omar', 'Sarai', 'kwa', 'asilimia', '9', '.', 'Kiongozi', 'wa', 'Roots', 'Party', 'George', 'Wajackoyah', ',', 'hata', 'hivyo', ',', 'ameonekana', 'kupoteza', 'umaarufu', 'wake', 'kwa', 'kiasi', 'kikubwa', 'katika', 'Kaunti', 'ya', 'Mombasa', 'hadi', 'asilimia', 'moja', 'kutoka', 'asilimia', 'saba', ',', 'kulingana', 'na', 'mtafiti', 'katika', 'Inofotrak', 'Johvine', 'Wanyingo', '.']\n",
      "\n",
      " Number of Words:  237\n"
     ]
    }
   ],
   "source": [
    "file=\"22july22.txt\"\n",
    "\n",
    "# calling the function and storing the contents in a text variable \n",
    "text1 = get_document(\"https://taifaleo.nation.co.ke/pwani-ni-ngome-ya-raila-utafiti-wa-infotrak-waonyesha/\")\n",
    "\n",
    "# calling the store_ document function \n",
    "store_document(doc=text1,name=file)\n",
    "\n",
    "#add the words in this file to the total_corpus_words, to keep count of the number of words in the corpus\n",
    "total_corpus_words+=total_words(file)"
   ]
  },
  {
   "cell_type": "code",
   "execution_count": 276,
   "metadata": {},
   "outputs": [
    {
     "data": {
      "text/plain": [
       "496889"
      ]
     },
     "execution_count": 276,
     "metadata": {},
     "output_type": "execute_result"
    }
   ],
   "source": [
    "total_corpus_words"
   ]
  },
  {
   "cell_type": "code",
   "execution_count": 279,
   "metadata": {},
   "outputs": [
    {
     "name": "stdout",
     "output_type": "stream",
     "text": [
      "['SERIKALI', 'imeshikilia', 'kuwa', 'kafyu', 'iliyowekwa', 'katika', 'kaunti', 'tatu', 'zilizokumbwa', 'na', 'mapigano', 'kaskazini', 'mwa', 'bonde', 'la', 'ufa', 'haitaondolewa', 'hadi', 'usalama', 'urejee', 'maeneo', 'hayo', '.', 'Kamishna', 'wa', 'Ukanda', 'wa', 'Bonde', 'la', 'Ufa', 'Maalim', 'Mohamed', 'alisema', 'kuwa', 'visa', 'vya', 'wizi', 'wa', 'mifugo', 'vingali', 'vinashuhudiwa', 'katika', 'kaunti', 'za', 'Baringo', ',', 'Elgeyo', 'Marakwet', 'na', 'Pokot', 'Magharibi', 'hata', 'baada', 'ya', 'serikali', 'kutangaza', 'kafyu', 'kuanzia', 'Juni', '7', '.', '“', 'Kafyu', 'itaendelea', 'kwa', 'sababu', 'wakazi', 'wamedinda', 'kutia', 'amri', 'inayowataka', 'kusalimisha', 'silaha', 'haramu', '.', 'Wamekataa', 'kutoa', 'nafasi', 'kwa', 'mazungumzo', 'na', 'ndio', 'maana', 'tunaendelea', 'kushuhudia', 'vita', ',', '”', 'akasema', 'Bw', 'Mohamed', '.']\n",
      "\n",
      " Number of Words:  92\n"
     ]
    }
   ],
   "source": [
    "file=\"22july25.txt\"\n",
    "\n",
    "# calling the function and storing the contents in a text variable \n",
    "text = get_document(\"https://taifaleo.nation.co.ke/kafyu-baringo-pokot-magharibi-na-elgeyo-marakwet-haitasitishwa-serikali-yashikilia/\")\n",
    "\n",
    "# calling the store_ document function \n",
    "store_document(doc=text,name=file)\n",
    "\n",
    "#add the words in this file to the total_corpus_words, to keep count of the number of words in the corpus\n",
    "total_corpus_words+=total_words(file)"
   ]
  },
  {
   "cell_type": "code",
   "execution_count": 280,
   "metadata": {},
   "outputs": [
    {
     "data": {
      "text/plain": [
       "496981"
      ]
     },
     "execution_count": 280,
     "metadata": {},
     "output_type": "execute_result"
    }
   ],
   "source": [
    "total_corpus_words"
   ]
  },
  {
   "cell_type": "code",
   "execution_count": 282,
   "metadata": {},
   "outputs": [
    {
     "name": "stdout",
     "output_type": "stream",
     "text": [
      "['Mkuu', 'wa', 'polisi', 'wa', 'Moyale', '(', 'OCPD', ')', 'Walter', 'Kiptala', ',', 'alisema', 'kwamba', 'wanaendelea', 'na', 'uchunguzi', 'na', 'hawawezi', 'kufichua', 'maelezo', 'zaidi', 'wasihatarishe', 'juhudi', 'zao', '.', 'Aliahidi', 'kuelezea', 'wanahabari', 'punde', 'tu', 'baada', 'ya', 'uchunguzi', 'kukamilika', '.', 'Polisi', 'walianza', 'uchunguzi', 'huo', 'baada', 'ya', 'kukamata', 'bangi', 'ya', 'Sh45', 'milioni', 'katika', 'eneo', 'la', 'Dambalaf', ',', 'Fachana', ',', 'kaunti', 'ndogo', 'ya', 'Moyale', 'mnamo', 'Ijumaa', '.', 'Akizungumza', 'na', 'Taifa', 'Leo', 'kwa', 'simu', 'kamanda', 'wa', 'polisi', 'kaunti', 'ya', 'Marsabit', 'Robinson', 'Mboloi', 'alisema', 'kwamba', 'lori', 'hilo', 'aina', 'ya', 'Mitsubishi', 'Fuso', 'nambari', 'za', 'usajili', 'KCR', '003A', 'lilikamatwa', 'kwenye', 'barabara', 'moja', 'ndogo', 'eneo', 'hilo', '.', '“', 'Tunachukulia', 'kisa', 'cha', 'hivi', 'punde', 'kama', 'cha', 'kawaida', 'kwa', 'kuwa', 'umepita', 'muda', 'mrefu', 'baada', 'ya', 'watu', 'kadhaa', 'kukamatwa', 'mwaka', 'jana', 'kwenye', 'barabara', 'ya', 'Moyale-Isiolo', '.', 'Tuko', 'chonjo', 'kuhakikisha', 'hakuna', 'mihandarati', 'inaingia', 'katika', 'nchi', 'hii', 'kupitia', 'mpakani', ',', '”', 'akasema', 'Bw', 'Mboloi', '.']\n",
      "\n",
      " Number of Words:  138\n"
     ]
    }
   ],
   "source": [
    "file=\"22july26.txt\"\n",
    "\n",
    "# calling the function and storing the contents in a text variable \n",
    "text1 = get_document(\"https://taifaleo.nation.co.ke/polisi-wamsaka-mmiliki-wa-lori-lililosafirisha-bangi/\")\n",
    "\n",
    "# calling the store_ document function \n",
    "store_document(doc=text1,name=file)\n",
    "\n",
    "#add the words in this file to the total_corpus_words, to keep count of the number of words in the corpus\n",
    "total_corpus_words+=total_words(file)"
   ]
  },
  {
   "cell_type": "code",
   "execution_count": 283,
   "metadata": {},
   "outputs": [
    {
     "data": {
      "text/plain": [
       "497119"
      ]
     },
     "execution_count": 283,
     "metadata": {},
     "output_type": "execute_result"
    }
   ],
   "source": [
    "total_corpus_words"
   ]
  },
  {
   "cell_type": "code",
   "execution_count": 285,
   "metadata": {},
   "outputs": [
    {
     "name": "stdout",
     "output_type": "stream",
     "text": [
      "['Ndoto', 'zao', 'zilizimwa', 'ghafla', 'barabarani', 'MNAMO', '2020', ',', 'Mary', 'Mwandisha', ',', '28', ',', 'alikuwa', 'miongoni', 'mwa', 'wanafunzi', 'wa', 'udaktari', 'waliofanikiwa', 'kufuzu', 'kutoka', 'Chuo', 'Kikuu', 'cha', 'Nairobi', '.', 'Kulingana', 'na', 'familia', 'yake', ',', 'Mary', 'alikuwa', 'na', 'ari', 'ya', 'kutumikia', 'jamii', 'kwa', 'vile', 'wasamaria', 'wema', 'walichangia', 'pakubwa', 'kufadhili', 'masomo', 'yake', ',', 'na', 'hivyo', 'basi', 'akafanya', 'juu', 'chini', 'kuhakikisha', 'mafunzo', 'yake', 'yanakuwa', 'kwa', 'manufaa', 'ya', 'umma', '.', 'Mwanga', 'wa', 'heri', 'ulianza', 'kumulika', 'matumaini', 'yake', 'alipofuzu', 'kwenye', 'mahojiano', 'ya', 'udaktari', 'katika', 'Hospitali', 'ya', 'Kaunti', 'ya', 'Taita', 'Taveta', ',', 'lakini', 'hayo', 'yote', 'yakazimwa', 'ghafla', 'alipopoteza', 'maisha', 'kwenye', 'ajali', 'mbaya', 'ya', 'barabarani', 'iliyohusisha', 'basi', 'la', 'kampuni', 'ya', 'Modern', 'Coast', 'katika', 'Mto', 'Nithi', ',', 'Jumapili', '.', 'Wakati', 'wa', 'ajali', 'hiyo', 'iliyosababisha', 'vifo', 'vya', 'watu', '34', ',', 'alikuwa', 'akielekea', 'Voi', 'kuchukua', 'barua', 'ya', 'kuanza', 'kazi', '.', '“', 'Nina', 'uchungu', 'mwingi', 'sana', 'moyoni', '.', 'Wakati', 'ulikuwa', 'umewadia', 'kwa', 'mwanagu', 'kuvuna', 'matunda', 'ya', 'bidii', 'yake', '.', 'Alikuwa', 'amepata', 'kazi', 'ya', 'serikali', 'halafu', 'anaaga', 'hata', 'kabla', 'ya', 'kuchukua', 'barua', 'yenyewe', ',', '”', 'alisema', 'mamake', ',', 'Bi', 'Angeline', 'Mwandisha', '.', 'Dkt', 'Mary', 'alikuwa', 'mtoto', 'wa', 'nne', 'wa', 'Bw', 'John', 'Jilani', 'na', 'Bi', 'Mwandisha', '.', 'Kufikia', 'kifo', 'chake', ',', 'alikuwa', 'amefanya', 'kazi', 'katika', 'hospitali', 'ya', 'Lifetime', 'iliyoko', 'katika', 'Kaunti', 'ya', 'Meru', 'kwa', 'miezi', 'mitatu', '.', 'Akizungumza', 'na', 'wanahabari', 'katika', 'kijiji', 'cha', 'Kwa', 'Mike', 'mjini', 'Kilifi', ',', 'Bi', 'Mwandisha', ',', 'alieleza', 'masikitiko', 'makuu', '.', 'Mamake', 'mwendazake', 'anaeleza', 'kuwa', 'kuchelewa', 'kwa', 'arafa', 'kutoka', 'kwa', 'mwanawe', 'kulimtia', 'wasiwasi', '.', '“', 'Niliamka', 'saa', 'kumi', 'na', 'moja', 'asubuhi', 'na', 'nikamtumia', 'ujumbe', 'wa', 'kumtakia', 'safari', 'njema', 'iwapo', 'hakuwa', 'amefika', '.', 'Licha', 'ya', 'hayo', 'sikuweza', 'kupata', 'usingizi', '.', 'Nilipiga', 'simu', 'zake', 'mbili', 'ila', 'ilikuwa', 'imezimika', '.', 'Hapo', 'wasiwasi', 'ukazidi', 'na', 'nikashindwa', 'hata', 'kulala', 'tena', ',', '”', 'alieleza', '.', 'Nduguye', ',', 'Bw', 'Marsden', 'Mwandisha', ',', 'alieleza', 'kuwa', 'ripoti', 'za', 'kuwa', 'dada', 'yao', 'alikuwa', 'ameaga', 'ziliwafikia', 'kupitia', 'jamaa', 'zao', 'wanaoishi', 'Nairobi', '.', '“', 'Tulienda', 'hadi', 'kwenye', 'afisi', 'za', 'kukatia', 'tikiti', 'za', 'kampuni', 'ya', 'Modern', 'Coast', 'na', 'tukafahamishwa', 'alikuwa', 'amekata', 'tikiti', 'ya', 'kiti', 'nambari', 'mbili', '.', 'Baadaye', 'tulipigiwa', 'simu', 'na', 'wafanyakazi', 'wenzake', 'walio', 'Meru', 'waliothibitisha', 'kifo', 'chake', ',', '”', 'alisema', 'nduguye', '.', 'Mwili', 'wa', 'Dkt', 'Mwandisha', 'umehifadhiwa', 'katika', 'chumba', 'cha', 'kuhifadhi', 'maiti', 'cha', 'Lee', 'jijini', 'Nairobi', '.', 'Atazikwa', 'katika', 'kijiji', 'cha', 'Shelemba', 'katika', 'kaunti', 'ya', 'Taita-', 'Taveta', '.', 'Kwa', 'familia', 'za', 'Nicholas', 'Ariyo', 'na', 'Agnes', 'Kawira', ',', 'ajali', 'hiyo', 'ni', 'pigo', 'kuu', 'kwa', 'mipango', 'ya', 'wawili', 'hao', 'kuanzisha', 'familia', 'pamoja', '.', 'Wapenzi', 'hao', 'wawili', 'walikuwa', 'wanarejea', 'Mombasa', 'kutoka', 'Meru', 'ambapo', 'Nicholas', 'na', 'jamaa', 'zake', 'walikuwa', 'wameenda', 'kukutana', 'na', 'familia', 'ya', 'Agnes', 'kushauriana', 'kuhusu', 'masuala', 'ya', 'mahari', '.', 'Katika', 'basi', 'hilo', 'la', 'mauti', ',', 'kulikuwa', 'pia', 'na', 'babake', 'Nicholas', ',', 'Bw', 'James', 'Otieno', ',', 'na', 'kakake', 'mkubwa', ',', 'Bw', 'John', 'Ochieng', '’', ',', 'ambao', 'walilazwa', 'hospitalini', 'wakiwa', 'na', 'majeraha', '.', 'Familia', 'ya', 'Jane', 'Karambu', 'Mwithimbu', ',', 'ilikuwa', 'bado', 'inaomboleza', 'kifo', 'cha', 'kakake', ',', 'Edward', 'Mwithimbu', ',', 'wakati', 'Karambu', ',', 'mkazi', 'wa', 'Mombasa', ',', 'alipokufa', 'katika', 'ajali', 'hiyo', '.', 'Karambu', 'alikuwa', 'ametoka', 'Meru', 'kwa', 'mazishi', 'ya', 'kakake', '.', 'Hii', 'ni', 'licha', 'ya', 'kuwa', 'mrengo', 'wa', 'Azimio', 'pia', 'umejaa', 'wagombeaji', 'viti', 'mbalimbali', 'ambao', 'ni', 'washukiwa', 'wa', 'ufisadi', 'sawa', 'na', 'ilivyo', 'katika', 'Kenya', 'Kwanza', '.', '“', 'Wapinzani', 'wetu', 'wamekuwa', 'wakidai', 'kuwa', 'sisi', 'ni', 'waoga', 'na', 'hatuko', 'tayari', 'kwa', 'uchaguzi', '.', 'Lakini', 'ukweli', 'ni', 'kwamba', 'siwezi', 'kushiriki', 'mdahalo', 'na', 'Ruto', '.', 'Serikali', 'inapopambana', 'na', 'ufisadi', 'anadai', 'hiyo', 'ni', 'kuingiza', 'siasa', 'katika', 'vita', 'dhidi', 'ya', 'uovu', 'huo', '.', 'Niko', 'tayari', 'kukutana', 'naye', 'debeni', 'pekee', ',', '”', 'Bw', 'Odinga', 'akasema', '.', 'Hata', 'hivyo', ',', 'wachanganuzi', 'wa', 'masuala', 'ya', 'kisiasa', 'walipuzilia', 'mbali', 'kauli', 'ya', 'Bw', 'Odinga', 'wakisema', 'kuna', 'sababu', 'nyingine', 'zilizochangia', 'kwake', 'kujiondoa', 'kutoka', 'mdahalo', 'huo', 'kando', 'na', 'suala', 'la', 'maadili', '.', '“', 'Ukweli', 'ni', 'kwamba', 'kando', 'na', 'suala', 'la', 'maadili', ',', 'Azimio', 'iling', '’', 'amua', 'kuwa', 'Dkt', 'Ruto', 'angemlemea', 'Bw', 'Odinga', 'katika', 'mdahalo', 'huo', '.', 'Hii', 'ni', 'kwa', 'Naibu', 'Rais', 'anajulikana', 'kama', 'mweledi', 'katika', 'kutetea', 'hoja', 'zake', ',', '”', 'akasema', 'Masibo', 'Lumala', '.', 'Kulingana', 'na', 'Dkt', 'Lumala', ',', 'ambaye', 'ni', 'mhadhiri', 'katika', 'Chuo', 'Kikuu', 'cha', 'Moi', ',', 'hofu', 'ya', 'Azimio', 'ilitokana', 'na', 'yaliyotokea', 'awali', 'katika', 'midahalo', 'kati', 'ya', 'wagombea', 'ugavana', 'wa', 'Nairobi', 'na', 'wagombea', 'wenza', 'wa', 'urais', '.', '“', 'Azimio', 'ilikuwa', 'na', 'matumaini', 'kuwa', 'Polycarp', 'Igathe', 'angemlea', 'Seneta', 'Johnson', 'Sakaja', 'lakini', 'mambo', 'yalionekana', 'kuwaendea', 'mrama', '.', 'Machoni', 'pa', 'Wakenya', 'wengi', ',', 'Sakaja', 'aling', '’', 'aa', 'zaidi', 'katika', 'mdahalo', 'huo', 'kuliko', 'Bw', 'Igathe', ',', '”', 'akasema', '.', 'Dkt', 'Lumala', 'anaongeza', 'kuwa', 'hali', 'ilikuwa', 'hivyo', 'katika', 'mdahalo', 'kati', 'ya', 'Bi', 'Martha', 'Karua', '(', 'Azimio', ')', 'na', 'Rigathi', 'Gachagua', '(', 'Kenya', 'Kwanza', ')', '.', 'Kwa', 'upande', 'wake', ',', 'Bw', 'Martin', 'Andati', 'alisema', 'kuwa', 'Bw', 'Odinga', 'alikwepa', 'mdahalo', 'huo', 'kwa', 'hofu', 'ya', 'kuhusishwa', 'na', 'dosari', 'za', 'utawala', 'wa', 'Rais', 'Uhuru', 'Kenyatta', 'ambazo', 'kwa', 'Wakenya', 'wengi', 'zimechangia', 'ugumu', 'wa', 'maisha', 'nchini', '.', '“', 'Dkt', 'Ruto', 'amekuwa', 'akisisitiza', 'kuwa', 'chanzo', 'cha', 'matatizo', 'yanayoikumba', 'taifa', 'hili', 'ni', 'handisheki', 'kati', 'ya', 'Bw', 'Odinga', 'na', 'Rais', 'Kenyatta', '.', 'Bila', 'shaka', 'inatarajiwa', 'kuwa', 'angetumia', 'jukwaa', 'hilo', 'la', 'mdahalo', 'kusisitiza', 'kauli', 'hii', '.', 'Azimio', 'haikutaka', 'Raila', 'apakwe', 'tope', 'machoni', 'mwa', 'zaidi', 'ya', 'Wakenya', '35', 'milioni', ',', '”', 'akasema', 'Bw', 'Andati', 'ambaye', 'pia', 'ni', 'mchanganuzi', 'wa', 'masuala', 'ya', 'kisiasa', '.', 'Naye', 'wakili', 'Kipchumba', 'Karori', 'alidai', 'kuwa', 'Bw', 'Odinga', 'alijiondoa', 'kwa', 'sababu', 'ameng', '’', 'amua', 'kuwa', 'atashindwa', 'katika', 'uchaguzi', 'mkuu', '.', '“', 'Raila', 'anawahadaa', 'Wakenya', 'kwa', 'kutaja', 'suala', 'la', 'ufisadi', 'kama', 'sababu', 'iliyochangia', 'kujiondoa', 'kwake', 'kutoka', 'mdahalo', 'ilhali', 'amezingirwa', 'na', 'watu', 'ambao', 'ni', 'wafisadi', '.', 'Ukweli', 'ni', 'kwamba', 'anahofia', 'kupoteza', 'katika', 'uchaguzi', 'huu', ',', '”', 'akaeleza', 'Bw', 'Karori', 'aliyeshindania', 'tiketi', 'ya', 'kugombea', 'useneta', 'wa', 'Uasin', 'Gishu', 'lakini', 'akashindwa', 'na', 'Gavana', 'Jackson', 'Mandago', '.', 'Hata', 'hivyo', ',', 'Dkt', 'Ruto', 'na', 'mgombeaji', 'wa', 'chama', 'cha', 'Agano', ',', 'David', 'Mwaure', 'Waihiga', 'waliendelea', 'na', 'mdahalo', 'huo', 'ambao', 'uliandaliwa', 'na', 'mashirika', 'ya', 'habari', 'nchini', 'kwa', 'ushirikiano', 'na', 'Baraza', 'la', 'Vyombo', 'vya', 'Habari', 'Nchini', '(', 'MCK', ')', '.', 'Mgombea', 'urais', 'wa', 'chama', 'cha', 'Roots', 'George', 'Wajackoyah', 'pia', 'alisusia', 'kushiriki', 'licha', 'ya', 'kufika', 'katika', 'ukumbi', 'wa', 'mdahalo', 'kwa', 'muda', 'kabla', 'ya', 'kuondoka', '.']\n",
      "\n",
      " Number of Words:  963\n"
     ]
    }
   ],
   "source": [
    "file=\"22july27.txt\"\n",
    "\n",
    "# calling the function and storing the contents in a text variable \n",
    "text1 = get_document(\"https://taifaleo.nation.co.ke/ndoto-zao-zilizimwa-ghafla-barabarani/\")\n",
    "text2 = get_document(\"https://taifaleo.nation.co.ke/sababu-za-raila-kukunja-mkia/\")\n",
    "\n",
    "# calling the store_ document function \n",
    "store_document(doc=text1,name=file)\n",
    "store_document(doc=text2,name=file)\n",
    "\n",
    "\n",
    "#add the words in this file to the total_corpus_words, to keep count of the number of words in the corpus\n",
    "total_corpus_words+=total_words(file)"
   ]
  },
  {
   "cell_type": "code",
   "execution_count": 286,
   "metadata": {},
   "outputs": [
    {
     "data": {
      "text/plain": [
       "498082"
      ]
     },
     "execution_count": 286,
     "metadata": {},
     "output_type": "execute_result"
    }
   ],
   "source": [
    "total_corpus_words"
   ]
  },
  {
   "cell_type": "code",
   "execution_count": 288,
   "metadata": {
    "scrolled": true
   },
   "outputs": [
    {
     "name": "stdout",
     "output_type": "stream",
     "text": [
      "['TAHARIRI', ':', 'Serikali', 'iepuke', 'kuwasaliti', 'raia', 'kila', 'inapowahamisha', 'IMEIBUKA', 'kuwa', 'maelfu', 'ya', 'watu', 'waliotolewa', 'kwa', 'nguvu', 'na', 'serikali', 'katika', 'Msitu', 'wa', 'Mau', ',', 'Kaunti', 'ya', 'Narok', ',', 'sasa', 'wanaishi', 'katika', 'hali', 'za', 'kusikitisha', 'kwenye', 'kambi', 'wa', 'wakimbizi', 'wa', 'ndani', 'kwa', 'ndani', '(', 'IDPs', ')', '.', 'Wengi', 'wanaishi', 'katika', 'kambi', 'za', 'Tendwet', 'na', 'Ol-Mekenyu', ',', 'eneo', 'la', 'Narok', 'Kusini', ',', 'wakisema', 'wamelazimika', 'kufanya', 'vibarua', 'ili', 'kujikimu', 'kimaisha', ',', 'hasa', 'kununua', 'chakula', '.', 'Wakati', 'serikali', 'ilikuwa', 'ikiwatoa', 'watu', 'hao', 'kwenye', 'msitu', 'huo', ',', 'walipewa', 'kila', 'ahadi', 'kwamba', 'wangetafutiwa', 'makao', 'mbadala', 'baaadaye', ',', 'ikiwa', 'ingebainika', 'kuwa', 'ardhi', 'walizokuwa', 'nazo', 'katika', 'Msitu', 'wa', 'Mau', 'walikuwa', 'wamezipata', 'kwa', 'njia', 'halali', '.', 'Hata', 'hivyo', ',', 'wengi', 'wanasema', 'hakuna', 'ahadi', 'hata', 'moja', 'iliyotimizwa', 'kati', 'ya', 'zile', 'ambazo', 'walipewa', 'na', 'maafisa', 'wa', 'serikali', 'walioendesha', 'operesheni', 'ya', 'kuwafurusha', 'kutoka', 'msitu', 'huo', '.', 'Kimsingi', ',', 'serikali', 'inafaa', 'kuhakikisha', 'kuwa', 'ina', 'makao', 'mbadala', 'kila', 'wakati', 'inapowahamisha', 'raia', 'kutoka', 'eneo', 'moja', 'hadi', 'nyingine', '.', 'Ni', 'sikitiko', 'wakati', 'wananchi', 'wanatolewa', 'katika', 'eneo', 'moja', 'kwa', 'kisingizio', 'cha', 'serikali', 'kuanzisha', 'miradi', ',', 'na', 'baadaye', 'kuachwa', 'bila', 'usaidizi', 'wowote', '.', 'Ni', 'sawa', 'na', 'serikali', 'kuwasaliti', 'raia', 'wake', '.', 'Kando', 'na', 'suala', 'la', 'Mau', ',', 'si', 'mara', 'ya', 'kwanza', 'wananchi', 'kutolewa', 'kwenye', 'makazi', 'yao', 'na', 'kuahidiwa', 'kupewa', 'makao', 'mbadala', ',', 'ikiwa', 'wataipa', 'nafasi', 'serikali', 'kuendesha', 'miradi', 'muhimu', 'kama', 'vile', 'ujenzi', 'wa', 'barabara', '.', 'Mara', 'nyingi', ',', 'idara', 'zinazohusika', 'huwa', 'zimetengewa', 'fedha', 'za', 'kutosha', 'ili', 'kuwalipa', 'waathiriwa', 'kama', 'fidia', '.', 'Usaliti', 'huo', 'pia', 'ulijitokeza', 'kwenye', 'mikakati', 'ya', 'serikali', 'ya', 'marehemu', 'Mwai', 'Kibaki', 'kuwasaidia', 'watu', 'walioathiriwa', 'na', 'vita', 'vya', 'baada', 'ya', 'uchaguzi', 'wa', '2007', 'kuwatafutia', 'makao', 'mbadala', '.', 'Baada', 'ya', 'vita', 'hivyo', ',', 'Wizara', 'ya', 'Fedha', 'ilisema', 'ilitoa', 'zaidi', 'ya', 'Sh4', 'bilioni', 'kwa', 'Wizara', 'ya', 'Ardhi', 'ili', 'kuwanunulia', 'mashamba', 'watu', 'waliofurushwa', 'kutoka', 'makazi', 'yao', ',', 'hasa', 'katika', 'eneo', 'la', 'Bonde', 'la', 'Ufa', '.', 'Hata', 'hivyo', ',', 'ilibainika', 'baadaye', 'kuwa', 'ni', 'watu', 'wachache', 'tu', 'waliolipwa', 'fidia', 'au', 'kupata', 'mashamba', ',', 'kati', 'ya', 'watu', 'zaidi', 'ya', '600,000', 'walioathiriwa', 'na', 'vita', 'hivyo', '.', 'Mzozo', 'huo', 'ulisababisha', 'mchipuko', 'wa', 'makundi', 'tofauti', 'ya', 'waathiriwa', ',', 'wakidai', 'kuwa', 'serikali', 'iliwahadaa', 'kwamba', 'ingewalipa', 'fidia', 'au', 'kuwanunulia', 'mashamba', '.', 'Mivutano', 'hiyo', 'kati', 'ya', 'wizara', 'hizo', 'mbili', 'iliendelea', 'hadi', 'pale', 'Rais', 'Kibaki', 'aling', '’', 'atuka', 'uongozini', 'mnamo', '2013', '.', 'Hadi', 'sasa', ',', 'idadi', 'kubwa', 'ya', 'watu', 'waliofurushwa', 'makwao', 'kwenye', 'vita', 'hivyo', 'bado', 'wako', 'kwenye', 'kambi', 'katika', 'sehemu', 'tofauti', 'nchini', '.', 'Kinaya', 'ni', 'kuwa', ',', 'baadhi', 'ya', 'wanasiasa', 'waliokuwa', 'wakisimamia', 'wizara', 'hizo', 'bado', 'wako', 'huru', ',', 'huku', 'wengine', 'wakishikilia', 'nyadhifa', 'muhimu', 'sana', 'serikalini', '.', 'Wito', 'mkuu', 'kwa', 'serikali', 'ni', 'kuhakikisha', 'kuwa', 'kuna', 'mipango', 'kabambe', 'kila', 'wakati', 'inapanga', 'kuwahamisha', 'raia', 'kutoka', 'eneo', 'moja', 'hadi', 'nyingine', 'ili', 'kuendesha', 'miradi', '.', 'Ni', 'makosa', 'kuwaacha', 'raia', 'kuteseka', 'kutokana', 'na', 'ukosefu', 'wa', 'mpangilio', 'mzuri', 'kwenye', 'uendeshaji', 'wa', 'miradi', 'yake', '.']\n",
      "\n",
      " Number of Words:  446\n"
     ]
    }
   ],
   "source": [
    "file=\"22july28.txt\"\n",
    "\n",
    "# calling the function and storing the contents in a text variable \n",
    "text2 = get_document(\"https://taifaleo.nation.co.ke/tahariri-serikali-iepuke-kuwasaliti-raia-kila-inapowahamisha/\")\n",
    "\n",
    "\n",
    "# calling the store_ document function \n",
    "store_document(doc=text2,name=file)\n",
    "\n",
    "\n",
    "#add the words in this file to the total_corpus_words, to keep count of the number of words in the corpus\n",
    "total_corpus_words+=total_words(file)"
   ]
  },
  {
   "cell_type": "code",
   "execution_count": 289,
   "metadata": {
    "scrolled": true
   },
   "outputs": [
    {
     "data": {
      "text/plain": [
       "498528"
      ]
     },
     "execution_count": 289,
     "metadata": {},
     "output_type": "execute_result"
    }
   ],
   "source": [
    "total_corpus_words"
   ]
  },
  {
   "cell_type": "code",
   "execution_count": null,
   "metadata": {},
   "outputs": [],
   "source": []
  },
  {
   "cell_type": "code",
   "execution_count": null,
   "metadata": {},
   "outputs": [],
   "source": []
  }
 ],
 "metadata": {
  "kernelspec": {
   "display_name": "Python 3",
   "language": "python",
   "name": "python3"
  },
  "language_info": {
   "codemirror_mode": {
    "name": "ipython",
    "version": 3
   },
   "file_extension": ".py",
   "mimetype": "text/x-python",
   "name": "python",
   "nbconvert_exporter": "python",
   "pygments_lexer": "ipython3",
   "version": "3.8.3"
  }
 },
 "nbformat": 4,
 "nbformat_minor": 4
}
