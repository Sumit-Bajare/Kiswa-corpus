{
 "cells": [
  {
   "cell_type": "code",
   "execution_count": null,
   "metadata": {},
   "outputs": [],
   "source": [
    "# from aug 2019 to jan 2020"
   ]
  },
  {
   "cell_type": "code",
   "execution_count": 3,
   "metadata": {},
   "outputs": [],
   "source": [
    "import justext\n",
    "import requests\n",
    "import nltk"
   ]
  },
  {
   "cell_type": "code",
   "execution_count": 4,
   "metadata": {},
   "outputs": [
    {
     "data": {
      "text/plain": [
       "'/Users/sumitbajare/Documents/Sussex/Project'"
      ]
     },
     "execution_count": 4,
     "metadata": {},
     "output_type": "execute_result"
    }
   ],
   "source": [
    "import os\n",
    "os.getcwd()"
   ]
  },
  {
   "cell_type": "code",
   "execution_count": 5,
   "metadata": {},
   "outputs": [],
   "source": [
    "def get_document(url):\n",
    "    \n",
    "    '''\n",
    "        \n",
    "        This function will check if the url is valid and then\n",
    "        proceed to parse it to produce a clean text (no html) which\n",
    "        can be used as input to a recommendation engine.\n",
    "\n",
    "    Arguments: url  -- input url that needs to be checked and parsed\n",
    "    Return: text_only -- the text extracted after removing boilerplate content\n",
    "    '''\n",
    "    \n",
    "    try:\n",
    "        r = requests.head(url, allow_redirects = True)\n",
    "        \n",
    "    except requests.exceptions.ConnectionError as e:\n",
    "        raise URLRetrievalError(url, 'Could not connect', e)\n",
    "        \n",
    "    if r.status_code != requests.codes.ok:\n",
    "        raise URLRetrievalError(url, 'Invalid response code from remote server: {}'\n",
    "                                .format(r.status_code))\n",
    "        \n",
    "    if r.headers[\"content-type\"].split(';')[0] not in [\"text/html\",\n",
    "                                                       \"text/plain\"]:\n",
    "        raise URLRetrievalError(url, 'Document has invalid MIME type: {}'\n",
    "                                .format(r.headers[\"content-type\"]))\n",
    "    \n",
    "    response = requests.get(url)\n",
    "    paragraphs = justext.justext(response.content, justext.get_stoplist(\"Swahili\"))\n",
    "    text_only = ''\n",
    "    \n",
    "    for paragraph in paragraphs:\n",
    "        if not paragraph.is_boilerplate:\n",
    "            text_only += ' ' + paragraph.text\n",
    "            \n",
    "    if len(text_only) == 0:\n",
    "        raise DocumentParsingError('Length of document is zero')\n",
    "        \n",
    "    return text_only"
   ]
  },
  {
   "cell_type": "code",
   "execution_count": 6,
   "metadata": {},
   "outputs": [],
   "source": [
    "# Changing the current working directory to store the documents in the desired file\n",
    "os.chdir('/Users/sumitbajare/Documents/Sussex/Project/swa_corpus/BBC')"
   ]
  },
  {
   "cell_type": "code",
   "execution_count": 7,
   "metadata": {},
   "outputs": [],
   "source": [
    "def store_document(doc,name):\n",
    "    \n",
    "    '''\n",
    "        This function will store the contents of the url in a text file.\n",
    "        \n",
    "        Argumnets: doc -- the Document to store in a text file \n",
    "        Return: nan\n",
    "    '''\n",
    "    \n",
    "    # Open function to open the file in the same directory in append mode\n",
    "    file = open(name,\"a\")\n",
    "    # writing each string in the file\n",
    "    file.writelines(doc)\n",
    "    # closing the file\n",
    "    file.close()"
   ]
  },
  {
   "cell_type": "code",
   "execution_count": 8,
   "metadata": {},
   "outputs": [],
   "source": [
    "def total_words(file_name):\n",
    "    filename = file_name\n",
    "\n",
    "    with open(filename, 'r') as file:\n",
    "        lines_in_file = file.read()\n",
    "\n",
    "        nltk_tokens = nltk.word_tokenize(lines_in_file)\n",
    "        print (nltk_tokens)\n",
    "        print (\"\\n Number of Words: \" , len(nltk_tokens))\n",
    "        return len(nltk_tokens)"
   ]
  },
  {
   "cell_type": "code",
   "execution_count": 9,
   "metadata": {},
   "outputs": [],
   "source": [
    "# these were the total number of words from may 2021 to may 2022 of BBC Swahili \n",
    "# we will resume the count from 1,31,886\n",
    "total_corpus_words=131886"
   ]
  },
  {
   "cell_type": "code",
   "execution_count": 10,
   "metadata": {},
   "outputs": [
    {
     "name": "stdout",
     "output_type": "stream",
     "text": [
      "['Mjombaake', 'bwana', 'Alukoye', 'alisema', 'kwamba', 'walikiuka', 'sheria', 'za', 'nchi', 'na', 'tamaduni', '.', \"''Tuliishirikisha\", 'kamili', 'serikali', 'ya', 'kaunti', 'katika', 'mipango', 'ya', 'mazishi', 'na', 'hawakupinga', 'pendekezo', 'letu', 'kumzika', 'akiwa', 'na', 'sare', 'za', 'kazini', \"''\", ',', 'alisema', 'Francis', 'Mutamba', 'kulingana', 'na', 'gazeti', 'la', 'Daily', 'Nation', '.', 'Familia', 'hiyo', 'inasema', 'kwamba', 'ilipinga', 'ombi', 'kutoka', 'kwa', 'maafisa', 'kuchukua', 'nguo', 'hizo', 'kufuatia', 'kuzikwa', 'kwa', 'jamaa', 'huyo', 'mwenye', 'umri', 'wa', 'miaka', '31', ',', 'na', 'kwamba', 'mafisa', 'waliamua', 'kuufukua', 'mwili', 'huo', 'bila', 'idhini', 'yao', 'au', 'agizo', 'la', 'mahakama', '.', 'Naibu', 'huyo', 'wa', 'chifu', 'wa', 'eneo', 'la', 'Ituti', ',', 'Daniel', 'Namayi', 'alishutumu', 'ufukuzi', 'huo', 'na', 'kuonya', 'kuchukua', 'hatua', 'za', 'kisheria', 'dhidi', 'ya', 'maafisa', 'hao', '.', \"''Mara\", 'tu', 'mwili', 'unapozikwa', ',', 'utahitaji', 'agizo', 'la', 'mahakama', 'kwa', 'mtu', 'yeyote', 'mwenye', 'malalamishi', 'kuufukua', '.', 'Wasimamizi', 'wa', 'kaunti', 'wameenda', 'kinyume', 'na', 'sheria', 'kwa', 'kuufukua', 'mwili', 'swala', 'ambalo', 'ni', 'kinyume', 'na', 'uatamaduni', \"''\", '.', \"''Tuliamua\", 'kumzika', 'mwana', 'wetu', 'usiku', 'kuambatana', 'na', 'tamaduni', 'ambazo', 'zinasema', 'kwamba', 'mtu', 'aliyekufa', 'maji', 'hapaswi', 'kuzikwa', 'wakati', 'kuna', 'mwanga', 'wa', 'jua', '.', 'Lakini', 'maafisa', 'wa', 'kaunti', 'wametushangaza', 'wakati', 'walipoamua', 'kuufukua', 'mwili', 'ili', 'kuchukua', 'sare', 'alizozikiwa', 'nazo', \"''\", ',', 'alisema', 'bwana', 'Mutamba', '.', 'Mwili', 'huo', 'ulivishwa', 'nguo', 'mpya', 'na', 'kuzikwa', 'tena', 'mapema', 'wiki', 'hii', 'baada', 'ya', 'wazee', 'kufanya', 'matambiko', 'ya', 'kuitakasa', 'familia', 'hiyo', '.']\n",
      "\n",
      " Number of Words:  203\n"
     ]
    }
   ],
   "source": [
    "file=\"19aug14.txt\"\n",
    "\n",
    "# calling the function and storing the contents in a text variable \n",
    "text = get_document(\"https://www.bbc.com/swahili/habari-49348234\")\n",
    "\n",
    "# calling the store_ document function \n",
    "store_document(doc=text,name=file)\n",
    "\n",
    "#add the words in this file to the total_corpus_words, to keep count of the number of words in the corpus\n",
    "total_corpus_words+=total_words(file)"
   ]
  },
  {
   "cell_type": "code",
   "execution_count": 11,
   "metadata": {},
   "outputs": [
    {
     "data": {
      "text/plain": [
       "132089"
      ]
     },
     "execution_count": 11,
     "metadata": {},
     "output_type": "execute_result"
    }
   ],
   "source": [
    "total_corpus_words"
   ]
  },
  {
   "cell_type": "code",
   "execution_count": 12,
   "metadata": {},
   "outputs": [
    {
     "name": "stdout",
     "output_type": "stream",
     "text": [
      "['Hukumu', 'hiyo', 'inatarajiwa', 'leo', 'wakati', 'taarifa', 'zinaeleza', 'kuwa', 'afisa', 'wa', 'zamani', 'katika', 'idara', 'ya', 'upelelezi', 'nchini', 'DCI', ',', 'majaji', 'kadhaa', 'na', 'maafisa', 'wengine', 'wa', 'serikali', 'huenda', 'wakahamishwa', 'kupelekwa', 'Marekani', 'kukabiliwa', 'na', 'mashtaka', 'yanayohusu', 'ulanguzi', 'wa', 'madawa', 'ya', 'kulevya', '.', 'Gazeti', 'la', 'Nation', 'nchini', 'Kenya', 'linaripoti', 'kuwa', 'duru', 'zinaarifu', 'kwamba', 'serikali', 'ya', 'Marekani', 'tayari', 'imeifahamisha', 'kuhusu', 'nia', 'hiyo', 'ya', 'kuwashtaki', 'washukiwa', 'katika', 'mahakama', 'za', 'Marekani', '.', 'Hatua', 'inayomaanisha', 'kwamba', 'huenda', 'katika', 'siku', 'zijazo', 'kukashuhudiwa', 'kuwasilishwa', 'kwa', 'washukiwa', 'kwa', 'maafisa', 'wa', 'usalama', 'Marekani', '.', 'Athari', 'ya', 'madawa', 'ya', 'kulevya', 'kwa', 'vijana', 'Mombasa', 'Mji', 'wa', 'Mombasa', 'katika', 'pwani', 'ya', 'Kenya', 'unapitia', 'madhara', 'mengi', 'ya', 'dawa', 'za', 'kulevya', ',', 'huku', 'familia', 'hiyo', 'ya', 'Akasha', 'ikilaumiwa', 'kuchangia', 'janga', 'hilo', 'pakubwa', '.', 'Mwandishi', 'kutoka', 'eneo', 'hilo', 'Francis', 'Ontomwa', 'anaeleza', 'kwamba', 'unapolitaja', 'jina', 'la', 'Akasha', 'mjini', 'Mombasa', ',', 'linaibua', 'uoga', 'na', 'wasiwasi', 'mwingi', '.', 'Kwa', 'miaka', 'kadhaa', ',', 'familia', 'ya', 'Akasha', 'iliendesha', 'na', 'kujenga', 'himaya', 'ya', 'ulanguzi', 'wa', 'madawa', 'ya', 'kulevya', ',', 'kutoka', 'kitovu', 'cha', 'Mji', 'huo', 'wa', 'Mombasa', ',', 'kufikia', 'Afghanistan', ',', 'Ulaya', 'na', 'hata', 'nchini', 'Marekani', '.', 'Madhara', 'ya', 'biashara', 'hiyo', 'yanaonekana', 'wazi', 'katika', 'mji', 'huo', 'wa', 'pwani', 'ya', 'Kenya', '.', 'Salma', 'Hemed', 'ni', 'mwanaharakati', 'wa', 'kutetea', 'haki', 'za', 'ibnaadamu', 'kutoka', 'shirika', 'la', 'Haki', 'Afrika', 'ambalo', 'limekuwa', 'likijishughulisha', 'na', 'harakati', 'za', 'kupambana', 'na', 'madhara', 'biashara', 'hiyo', 'haramu', 'miongoni', 'mwa', 'vijana', '.', \"'Kwa\", 'wale', 'wenye', 'kuuza', 'wanahitaji', 'vijana', 'wa', 'kutoka', 'nyanjani', 'tofuati', '.', 'Na', 'katika', 'kuonja', 'mihadarati', ',', 'inawafanya', 'wao', 'waanze', 'kuwa', 'watumiaji', 'wakuu', 'na', 'pia', 'kutegema', 'pakubwa', '(', 'waraibu', ')', 'na', 'kuanza', 'kuwa', 'watumiaji', 'mihadarati', \"'\", '.', 'Maelezo', 'ya', 'picha', ',', 'Takriban', 'watu', 'wanane', 'wamejeruhiwa', 'baada', 'ya', 'vijana', 'waliojihami', 'kwa', 'mapanga', 'kuushambulia', 'mtaa', 'wa', 'Kisauni', 'mjini', 'Mombasa', '.', 'Kuuawa', 'kwa', 'mzee', 'Akasha', 'kunahusishwa', 'na', 'biashara', 'ya', 'ulanguzi', 'wa', 'mihadarati', '.', 'Baadhi', 'ya', 'wakaazi', 'wanadai', 'kuwa', 'familia', 'ya', 'Akasha', 'imlifanikiwa', 'kukita', 'mizizi', 'na', 'kujenga', 'himaya', 'yao', 'Mombasa', ',', 'kutokana', 'na', 'rushwa', 'na', 'kuhongwa', 'kwa', 'maafisa', 'wa', 'idara', 'za', 'sheria', 'na', 'haki', '.', 'Baktash', 'mwenye', 'umri', 'wa', 'miaka', '42', 'anatarajiwa', 'kuhukumiwa', 'leo', 'na', 'mahakaman', 'ya', 'wilaya', 'ya', 'kusini', 'New', 'York', 'na', 'nduguye', 'Ibrahim', 'anatarjiwa', 'kuhukumiwa', 'Novemba', '8', 'baada', 'ya', 'wote', 'kukiri', 'mashtaka', 'yaliowasilishwa', 'dhidi', 'yao', '.']\n",
      "\n",
      " Number of Words:  349\n"
     ]
    }
   ],
   "source": [
    "file=\"19aug16.txt\"\n",
    "\n",
    "# calling the function and storing the contents in a text variable \n",
    "text = get_document(\"https://www.bbc.com/swahili/habari-49366853\")\n",
    "\n",
    "# calling the store_ document function \n",
    "store_document(doc=text,name=file)\n",
    "\n",
    "#add the words in this file to the total_corpus_words, to keep count of the number of words in the corpus\n",
    "total_corpus_words+=total_words(file)"
   ]
  },
  {
   "cell_type": "code",
   "execution_count": 13,
   "metadata": {},
   "outputs": [
    {
     "data": {
      "text/plain": [
       "132438"
      ]
     },
     "execution_count": 13,
     "metadata": {},
     "output_type": "execute_result"
    }
   ],
   "source": [
    "total_corpus_words"
   ]
  },
  {
   "cell_type": "code",
   "execution_count": 14,
   "metadata": {},
   "outputs": [
    {
     "name": "stdout",
     "output_type": "stream",
     "text": [
      "['Mbuga', 'ya', 'Maasai', 'Mara', ':', 'Ndege', 'yaanguka', 'baada', 'ya', 'kugonga', 'nyumbu', 'wawili', 'Kenya', '18', 'Agosti', '2019', 'Chanzo', 'cha', 'picha', ',', 'AFP/GETTY', 'IMAGES', 'Kulikuwa', 'na', 'hali', 'ya', 'hofu', 'baada', 'ya', 'ndege', 'ya', 'kampuni', 'ya', 'Fly', 'Safarilink', 'nchini', 'Kenya', 'kugonga', 'nyumbu', 'wawili', 'ilipokuwa', 'ikitua', 'katika', 'uwanja', 'wa', 'ndege', 'wa', 'Kichwa', 'Tembo', 'Airstrip', 'katika', 'mbuga', 'ya', 'wanayama', 'pori', 'ya', 'Maasai', 'Mara', '.', 'Ndege', 'hiyo', 'nyepesi', 'kwa', 'jina', 'Dash', '8', 'iliopatiwa', 'nambari', 'za', 'usajili', '5Y-', 'SLM', 'ilihusika', 'katika', 'kisa', 'hicho', 'baada', 'ya', 'nyumbu', 'hao', 'kupita', 'ghafla', 'katika', 'barabara', 'ya', 'ndege', 'wakati', 'ndege', 'hiyo', 'ilipokuwa', 'ikitua', '.', \"''Tunashukuru\", 'kuthibitisha', 'kwamba', 'abiria', 'wote', 'na', 'wafanyakazi', 'walioabiri', 'wako', 'salama', 'na', 'kwamba', 'hakuna', 'majeraha', 'ama', 'hata', 'watu', 'kufariki', \"''\", ',', 'ilisema', 'taarifa', 'hiyo', 'iliotolewa', 'na', 'kampuni', 'hiyo', 'ya', 'ndege', '.', 'Afisa', 'wa', 'Utalii', 'wa', 'Mara', 'Triangle', 'David', 'Top', 'alisema', 'kwamba', 'matairi', 'ya', 'ndege', 'hiyo', 'yalitoka', 'na', 'kuifanya', 'kukosa', 'mwelekeo', 'kabla', 'ya', 'kutoka', 'katika', 'barabara', 'yake', '.', \"''Ilikuwa\", 'mwendo', 'wa', 'saa', '10.30', 'alfajiri', 'wakati', 'ndege', 'hiyo', 'ilipopata', 'matatizo', 'ya', 'kiufundi', 'na', 'kuwagonga', 'nyumbu', 'wawili', \"''\", ',', 'afisa', 'huyo', 'alinukuliwa', 'na', 'gazeti', 'la', 'The', 'Standard', 'akisema', '.', 'Ijapokuwa', 'hakuna', 'uwanja', 'wa', 'ndege', 'katika', 'mbuga', 'ya', 'wanyama', 'pori', 'ya', 'Mara', ',', 'kuna', 'viwanja', 'kadhaa', 'vidogo', 'vidogo', 'vya', 'kutua', 'ndege', 'katika', 'mazingira', 'yake', 'ambapo', 'ndege', 'za', 'abiria', 'huwaweka', 'na', 'kuwachukua', 'abiria', 'kabla', 'ya', 'kurudi', 'Nairobi', '.', 'Kampuni', 'ya', 'ndege', 'ya', 'Safarilink', 'husafirisha', 'abiria', 'katika', 'viwanja', 'tofauti', 'vya', 'ndege', 'ndogo', 'ndogo', 'kama', 'vile', 'Keekorok', ',', 'Mara', 'kaskazini', ',', 'Musiara', ',', 'Serena', ',', 'Angama', ',', 'Olkiombo', 'na', 'Kichwa', 'Tembo', '.', 'Wakati', 'wa', 'msimu', 'mzuri', 'wa', 'Utalii', ',', 'wanyama', 'hao', 'hutembea', 'kila', 'mahali', 'katika', 'mbuga', 'hiyo', 'ya', 'wanyama', 'pori', ',', 'wakitafuta', 'lishe', 'karibu', 'na', 'barabara', 'hiyo', 'ya', 'ndege', '.', 'Usimamizi', 'wa', 'kampuni', 'hiyo', 'ulisema', 'kwamba', 'ndege', 'hiyo', 'imeharibika', 'na', 'kwamba', 'wahandisi', 'wake', 'pamoja', 'na', 'wafanya', 'kazi', 'wamepelekwa', 'katika', 'eneo', 'la', 'tukio', 'ili', 'kutazama', 'hali', 'ilivyo', '.', 'Wakati', 'ilipokuwa', 'ikitua', 'takriban', 'magari', '10', 'yalikuwa', 'yameegeshwa', 'katika', 'eneo', 'hilo', 'huku', 'madareva', 'pamoja', 'na', 'viongozi', 'wa', 'safari', 'wakisubiri', 'kuwabeba', 'abiria', 'na', 'kuwapeleka', 'katika', 'hoteli', 'na', 'kambi', 'za', 'mahema', '.']\n",
      "\n",
      " Number of Words:  331\n"
     ]
    }
   ],
   "source": [
    "file=\"19aug18_1.txt\"\n",
    "\n",
    "# calling the function and storing the contents in a text variable \n",
    "text = get_document(\"https://www.bbc.com/swahili/habari-49388482\")\n",
    "\n",
    "# calling the store_ document function \n",
    "store_document(doc=text,name=file)\n",
    "\n",
    "#add the words in this file to the total_corpus_words, to keep count of the number of words in the corpus\n",
    "total_corpus_words+=total_words(file)"
   ]
  },
  {
   "cell_type": "code",
   "execution_count": 15,
   "metadata": {},
   "outputs": [
    {
     "data": {
      "text/plain": [
       "132769"
      ]
     },
     "execution_count": 15,
     "metadata": {},
     "output_type": "execute_result"
    }
   ],
   "source": [
    "total_corpus_words"
   ]
  },
  {
   "cell_type": "code",
   "execution_count": 16,
   "metadata": {},
   "outputs": [
    {
     "name": "stdout",
     "output_type": "stream",
     "text": [
      "['Je', 'unafahamu', 'athari', 'za', 'uonevu', 'wa', 'ukatili', 'unaofanyika', 'shuleni', '?', 'Matukio', 'ya', 'uonevu', 'shuleni', 'yamekuwa', 'yakiendelea', 'katika', 'shule', 'mbalimbali', 'za', 'bweni', 'hususani', 'za', 'Umma', 'Wakati', 'wazazi', 'wanapowapeleka', 'watoto', 'wao', 'katika', 'shule', 'za', 'sekondari', 'za', 'bweni', ',', 'wengi', 'wao', 'kama', 'si', 'wote', ',', 'huwa', 'wanategemea', 'kuwa', 'maisha', 'yao', 'yatakuwa', 'mema', ',', 'salama', 'na', 'watatunzwa', 'vema', ',', 'lakini', 'haiwi', 'hivyo', 'kwa', 'baadhi', '.', 'Waliosoma', 'shule', 'nyingi', 'hususan', 'za', 'umma', 'katika', 'nchi', 'za', 'Kiafrika', 'zikiwemo', 'za', 'Afrika', 'mashariki', 'hali', 'huwa', 'ni', 'tofauti', 'kutokana', 'na', 'uonevu', 'ambao', 'baadhi', 'ya', 'wanafunzi', 'huwa', 'wanakabiliana', 'nao', 'kutoka', 'kwa', 'wanafunzi', 'wenzao', ',', 'na', 'hata', 'waalimu', 'wao', '.', 'Uonevu', 'huu', 'hufanyika', 'kwa', 'njia', 'tofauti', ',', 'ikiwemo', 'kudhalilishwa', ',', 'kutukanwa', ',', 'kuibiwa', 'au', 'kufichwa', 'kwa', 'mali', 'zao', ',', 'wakati', 'mwingine', 'hata', 'kupigwa', 'na', 'kujeruhiwa', '.', 'Matukio', 'ya', 'aina', 'hii', 'yamekuwa', 'yakiendelea', ',', 'huku', 'baadhi', 'yakijulikana', 'na', 'mengine', 'kutojulikana', 'kutokana', 'na', 'wanaoonewa', 'kunyamaza', 'kwa', 'hofu', 'ya', 'kushambuliwa', 'zaidi', 'au', 'hata', 'kufukuzwa', 'shule', '.', 'Wiki', 'iliyopita', 'karibuni', 'Wanafunzi', '10', 'Umbwe', 'Sekondari', 'nchini', 'Tanzania', 'walisimamishwa', 'masomo', ',', 'kutokana', 'na', 'vurugu', 'zilizotokea', 'katika', 'shule', 'hiyo', ',', 'na', 'hii', 'ilisababisha', 'wanafunzi', '.', 'Tukio', 'hilo', 'lilikemewa', 'na', 'Waziri', 'wa', 'nchi', 'ofisi', 'ya', 'rais', 'tawala', 'za', 'mikoa', 'Seleman', 'Jafo', 'akililitaja', 'tukio', 'hilo', 'kama', 'ubaguzi', 'na', 'mateso', 'kwa', 'wanafunzi', ',', 'na', 'kubainisha', 'kuwa', 'Serikali', 'haitavumilia', 'walimu', 'wakuu', 'wanaotajwa', 'kuwa', 'na', 'tabia', 'hizo', ',', 'na', 'akaagiza', 'uchunguzi', 'ufanyika', 'juu', 'ya', 'wahusika', '.', 'Chanzo', 'cha', 'picha', ',', 'Perpetual', 'Wanyugi', 'Maelezo', 'ya', 'picha', ',', 'Mwanasaikolojia', 'Perpetual', 'Wanyugi', ',', 'anasema', 'mwanafunzi', 'au', 'mtoto', 'anayewafanyia', 'ukatili', 'wenzake', 'binafsi', 'huwa', 'hajiamini', 'na', 'huenda', 'pia', 'alipitia', 'ukatili', 'katika', 'familia', 'yake', 'Miongoni', 'mwa', 'watu', 'waliopitia', 'uonevu', 'wa', 'aina', 'hii', 'katika', 'shule', 'za', 'sekondani', 'ni', 'Bwana', 'Nickson', 'R.', 'Mlang', \"'\", 'a', 'alipokuwa', 'akisomea', 'shule', 'ya', 'sekondari', 'ya', 'Nyamongo', '.', 'Licha', 'ya', 'kwamba', 'vurugu', 'hizi', 'zilikuwa', 'ni', 'kati', 'ya', 'makundi', 'mawili-kutokana', 'na', 'malumbano', 'ya', 'vidato', 'vya', 'chini', 'na', 'vidato', 'vya', 'juu', ',', 'binafsi', 'aliathirika', 'kwa', 'kiasi', 'kikubwa', ':', '``', 'Vurugu', 'zilikuwa', 'ni', 'kati', 'vidato', 'vya', 'juu', 'yaani', 'cha', 'tano', 'na', 'cha', 'sita', 'ambao', 'walikuwa', 'wanataka', 'wanafunzi', 'wa', 'vidato', 'vya', 'kwanza', ',', 'cha', 'pili', 'hadi', 'cha', 'nne', ',', 'ni', 'lazima', 'tuwaheshimu', 'na', 'kuwafanyia', 'kazi', 'zao', '...', 'Kidato', 'cha', 'nne', 'kikaingilia', 'kati', 'na', 'kusema', 'hilo', 'halitawezekana', 'ndio', 'kukatokea', 'malumbano', 'na', 'vurugu', \"''\", '.', 'Alikumbuka', 'Mlang', \"'\", 'a', 'katika', 'mahojiano', 'na', 'BBC', '.', 'Anasema', ':', '``', 'Zilikuwa', 'ni', 'wiki', 'mbili', 'kabla', 'tuanze', 'mitihani', 'ya', 'Moko', 'iliniuma', 'sana', '...', 'kutokana', 'na', 'vurugu', 'tukaambiwa', 'tutoke', 'shuleni', 'mara', 'moja', '...', 'Tukaambiwa', 'tumepangiwa', 'kwenda', 'shule', 'nyingine', ',', 'yaani', 'ilikuwa', 'ni', 'kututawanya', '...', 'sijui', 'shule', 'gani', '!', ',', 'Nilikuwa', 'Nyamongo', 'nikahamishiwa', 'kiboriloni', ',', 'kwa', 'hiyo', 'hatukuwa', 'na', 'muda', 'wa', 'maandalizi', 'ya', 'mtihani', 'wa', 'Moko', '.', 'Kuhamia', 'shule', 'nyingine', 'kuizowea', 'na', 'kuzowea', 'masomo', 'iliniathiri', 'sana', '...', 'hili', 'lilinitoa', 'kabisa', 'katika', 'mawazo', 'ya', 'masomo', \"''\", ',', 'anasema', 'Mlang', \"'\", 'a', 'na', 'kuongeza', 'kuwa', 'vurugu', 'hizo', 'zilichangia', 'kuathiri', 'ufaulu', 'wa', 'masomo', 'yake', '.', 'Matukio', 'haya', 'ya', 'uonevu', 'na', 'mateso', 'dhidi', 'ya', 'wanafunzi', 'wanaosoma', 'katiks', 'shule', 'za', 'mara', 'nyingine', 'huwa', 'ya', 'kutisha', '.', 'Mfano', 'nchini', 'Kenya', 'kisa', 'cha', 'mwanafunzi', 'mwenye', 'umri', 'wa', 'miaka', '15-', 'aliyekuwa', 'akisoma', 'kidato', 'cha', 'pili', 'katika', 'shule', 'ya', 'sekondari', 'ya', \"'Nairobi\", 'School', \"'\", 'aliyedaiwa', 'kushambuliwa', 'kikatili', 'kiasi', 'cha', 'kuuharibu', 'ubongo', 'wake', ',', 'jambo', 'lililoibua', 'hisia', 'kali', 'miongoni', 'mwa', 'Wakenya', '.', 'Taarifa', 'hiyo', 'iliyotangazwa', 'kwa', 'mara', 'ya', 'kwanza', 'na', 'televisheni', 'ya', 'kibinafsi', 'nchini', 'Kenya', ',', 'iliashiria', 'ukubwa', 'tatizo', 'hili', 'katika', 'shule', 'za', 'umma', 'nchini', 'humo', '.', 'Chanzo', 'cha', 'picha', ',', 'THINKSTOCK', 'Maelezo', 'ya', 'picha', ',', 'Mara', 'nyingi', 'wanafunzi', 'waonevu', 'huwalenga', 'wenzao', 'wanaowaona', 'kuwa', 'dhaifu', 'kwao', ',', 'wapole', ',', 'na', 'wanaokaa', 'peke', 'yao', 'Sababu', 'ya', 'uonevu', 'wa', 'ukatili', 'shuleni', 'ni', 'zipi', '?', 'Kulingana', 'na', 'Mwanasaikolojia', 'wa', 'watoto', 'waliofikia', 'umri', 'wa', 'barehe', ',', 'Perpetual', 'Wanyugi', ',', 'mtoto', 'anayewafanyia', 'uonevu', 'ima', 'ukatili', 'wenzake', 'kwanza', 'kabisa', 'binafsi', 'huwa', 'anajiona', 'kama', 'mtu', 'ambaye', 'hafai', ',', 'na', 'kutekeleza', 'uonevu', 'ili', 'kujiaona', 'kama', 'anayefaa', ':', \"''\", 'Mtoto', 'wa', 'aina', 'hii', 'huwa', 'kwanza', 'anajidharau', 'na', 'hufanya', 'hivyo', 'kutokana', 'na', 'kwamba', 'huenda', 'yeye', 'pia', 'amedhalilishwa', ',', 'kupigwa', 'au', 'kufanyiwa', 'ukatili', 'wa', 'aina', 'fulani', 'ambao', 'unamfanya', 'ajidharau', ',', 'anaona', 'kwa', 'kufanya', 'hivyo', 'basi', 'hata', 'yeye', 'anatambulika', \"''\", ',', 'amefafanua', 'Bi', 'Wanyugi', 'katika', 'mazungumzo', 'na', 'BBC', '.', 'Mara', 'nyingi', 'mtu', 'humshambulia', 'mtu', 'ambaye', 'anaona', 'ni', 'dhaifu', 'kwake', 'kumshinda', ',', 'na', 'watoto', 'kama', 'hawa', 'huwalenga', 'watoto', 'ambao', 'ni', 'wapole', ',', 'wanaokaa', 'peke', 'yao', 'na', 'ambao', 'hawawezi', 'kuripoti', 'kwa', 'waalimu', 'au', 'kwa', 'wazazi', 'wanaofikiri', 'kuwa', 'wakiwaambia', 'waalimu', 'basi', 'watauliwa', ',', 'anasema', 'Bi', 'Wanyugi', '.', 'Kwa', 'ujumla', 'watoto', 'walioathiriwa', 'na', 'uonevu', 'wanahitaji', 'ushauri', 'wa', 'wazazi', 'na', 'walezi', ',', 'ambao', 'kwanza', 'itawabidi', 'waelewe', 'ni', 'nini', 'chanzo', 'cha', 'wao', 'kuwa', 'na', 'tabia', 'ya', 'uonevu', 'wa', 'ukatili', 'kwa', 'wenzao', '.', 'Na', 'iwapo', 'hali', 'itakuwa', 'mbaya', 'zaidi', 'mtoto', 'wa', 'aina', 'hiyo', 'anahitaji', 'matibabu', 'ya', 'kisaikolojia', ',', 'anashauri', 'Wanyugi', '.', 'Uonevu', 'huathiri', 'watoto', 'wa', 'shule', 'na', 'hivyo', 'kushindwa', 'kuwa', 'makini', 'wawapo', 'darasani', 'na', 'baadae', 'katika', 'maisha', 'yao', 'Mtu', 'aliyeonewa', 'hushindwa', 'kujitetea', 'na', 'kujieleza', 'pale', 'anapotakiwa', 'kufanya', 'hivyo', '.', 'Uonevu', 'huathiri', 'watoto', 'wa', 'shule', 'na', 'hivyo', 'kushindwa', 'kuwa', 'makini', 'wawapo', 'darasani', 'na', 'baadae', 'katika', 'maisha', 'yao', '.', 'Huwa', 'ni', 'mtu', 'mwenye', 'uoga', 'na', 'kila', 'mara', 'huhisi', 'anaonewa', 'hata', 'anapokuwa', 'mtu', 'mzima', '.', 'Hushindwa', 'kuona', 'mambo', 'kwa', 'mtizamo', 'hasi', 'na', 'kushindwa', 'kuchukua', 'maamuzi', 'ya', 'kujitetea', 'Na', 'hata', 'anapokuwa', 'katika', 'mahusiano', 'ya', 'ndoa', 'mtu', 'aliyeonewa', 'huenda', 'amuonee', 'mwenza', 'wake', 'Mwanasaikolojia', 'Perpetual', 'Wanyugi', 'anashauri', 'iwapo', 'mtoto', 'wa', 'shule', 'atabainika', 'kuwa', 'na', 'uonevu', 'wa', 'ukatili', 'unaorudia', 'rudia', 'anahitaji', 'kufundishwa', 'nidhamu', ',', 'apewe', 'msaada', 'wa', 'nidhamu', 'ya', 'wazazi', 'na', 'hata', 'majirani', 'na', 'pale', 'inapozidi', 'atafutiwe', 'msaada', 'wa', 'kisaikoloji']\n",
      "\n",
      " Number of Words:  886\n"
     ]
    }
   ],
   "source": [
    "file=\"19aug20_1.txt\"\n",
    "\n",
    "# calling the function and storing the contents in a text variable \n",
    "text = get_document(\"https://www.bbc.com/swahili/habari-49398040\")\n",
    "\n",
    "# calling the store_ document function \n",
    "store_document(doc=text,name=file)\n",
    "\n",
    "#add the words in this file to the total_corpus_words, to keep count of the number of words in the corpus\n",
    "total_corpus_words+=total_words(file)"
   ]
  },
  {
   "cell_type": "code",
   "execution_count": 17,
   "metadata": {},
   "outputs": [
    {
     "data": {
      "text/plain": [
       "133655"
      ]
     },
     "execution_count": 17,
     "metadata": {},
     "output_type": "execute_result"
    }
   ],
   "source": [
    "total_corpus_words"
   ]
  },
  {
   "cell_type": "code",
   "execution_count": 19,
   "metadata": {},
   "outputs": [
    {
     "name": "stdout",
     "output_type": "stream",
     "text": [
      "['Turkana', ':', 'Eneo', 'lililo', 'na', 'utajiri', 'mkubwa', 'wa', 'kihistoria', 'na', 'utamaduni', 'Turkana', 'ni', 'eneo', 'ambalo', 'mabaki', 'ya', 'kale', 'ya', 'kijana', 'mwenye', 'umri', 'wa', 'miaka', '15', 'anayeaminika', 'kuwa', 'miongoni', 'mwa', 'binadamu', 'wa', 'kwanza', 'yalipatikana', '.', 'Maelezo', 'ya', 'picha', ',', 'Shanga', 'ni', 'miongni', 'mwa', 'utamaduni', 'ulioonyeshwa', 'katika', 'tamasha', 'maarufu', 'linalojulikana', 'kama', 'Kiturkana', 'Tubong', '’', 'ulore', 'ikimaanisha', ',', '‘', 'karibu', 'nyumbani.', '’', 'Zaidi', 'ya', 'watu', '10,000', ',', 'kutoka', 'jamii', 'na', 'tabaka', 'mbalimbali', 'wamejumuika', 'pamoja', 'kwa', 'lengo', 'la', 'kuimarisha', 'utalii', ',', 'kustawisha', 'maendeleo', 'ya', 'ukanda', 'huu', 'na', 'kudumisha', 'amani', 'miongoni', 'mwa', 'jamiii', 'hasimu', '.', 'Maelezo', 'ya', 'picha', ',', 'Sherehe', 'hii', 'husaidia', 'kudumisha', 'Amani', '.', 'Turkana', ',', 'ni', 'miongoni', 'mwa', 'jamii', 'chache', 'nchini', 'Kenya', 'ambazo', 'zimeweza', 'kuhifadhi', 'mila', 'na', 'tadamuni', 'zao', '.', 'Maelezo', 'ya', 'picha', ',', 'Jamii', 'za', 'hapa', 'ni', 'wafugaji', 'na', 'hutegemea', 'mifugo', 'kama', 'kitega', 'uchumi', '.', 'Hata', 'hivyo', 'mifugo', 'hao', 'wamekuwa', 'chanzo', 'cha', 'uhasama', 'mkubwa', 'baina', 'ya', 'Jamii', 'tofauti', 'nchini', 'Kenya', ',', 'Uganda', ',', 'Ethiopia', 'na', 'Sudan', 'kusini', '.', 'Uraibu', 'hatari', 'wa', 'wizi', 'wa', 'mifugo', 'umeshamiri', 'hapa', '.', 'Maelezo', 'ya', 'picha', ',', 'Mitindo', 'ya', 'mavazi', 'na', 'vyakula', ',', 'vinavyoonyesha', 'jinsi', 'jamii', 'hii', 'inavyoenzi', 'na', 'kukuza', 'utamaduni', 'wao', '.', 'Maelezo', 'ya', 'picha', ',', 'sherehe', 'hizi', 'huwapa', 'matumaini', 'ya', 'ushirikiano', 'mwema', 'na', 'amani', 'ya', 'kudumu', 'itakayo', 'wasaidia', 'kukuza', 'utamaduni', 'wao', 'na', 'kuwasaidia', 'kimaendelo', 'Maelezo', 'ya', 'picha', ',', 'Hali', 'ya', 'kila', 'mara', 'ya', 'ukame', 'ambayo', 'pia', 'husababisha', 'njaa', 'na', 'ukosefu', 'wa', 'maji', 'kwa', 'binadamu', 'na', 'mifugo', '.', 'Maelezo', 'ya', 'picha', ',', 'Licha', 'ya', 'utamaduni', 'wake', ',', 'eneo', 'hili', 'ni', 'miongoni', 'mwa', 'maeneo', 'maskini', 'zaidi', 'nchini', 'Kenya', '.']\n",
      "\n",
      " Number of Words:  251\n"
     ]
    }
   ],
   "source": [
    "file=\"19aug20_2.txt\"\n",
    "\n",
    "# calling the function and storing the contents in a text variable \n",
    "text = get_document(\"https://www.bbc.com/swahili/49408204\")\n",
    "\n",
    "# calling the store_ document function \n",
    "store_document(doc=text,name=file)\n",
    "\n",
    "#add the words in this file to the total_corpus_words, to keep count of the number of words in the corpus\n",
    "total_corpus_words+=total_words(file)"
   ]
  },
  {
   "cell_type": "code",
   "execution_count": 20,
   "metadata": {},
   "outputs": [
    {
     "data": {
      "text/plain": [
       "133906"
      ]
     },
     "execution_count": 20,
     "metadata": {},
     "output_type": "execute_result"
    }
   ],
   "source": [
    "total_corpus_words"
   ]
  },
  {
   "cell_type": "code",
   "execution_count": 21,
   "metadata": {},
   "outputs": [
    {
     "name": "stdout",
     "output_type": "stream",
     "text": [
      "['Uganda', 'kusitisha', 'hukumu', 'ya', 'kifo', ':', 'Ni', 'mataifa', 'gani', 'bado', 'yanaitekeleza', '?', 'Bunge', 'la', 'Uganda', 'limepitisha', 'sheria', 'inayopinga', 'hukumu', 'ya', 'adhabu', 'ya', 'kifo', 'kwa', 'baadhi', 'ya', 'uhalifu', ',', 'na', 'kufanya', 'marekebisho', 'katika', 'sheria', 'nne', 'tofauti', 'ikiwemo', 'sheria', 'ya', 'kupambana', 'na', 'ugaidi', '.', 'Kama', 'sheria', 'hiyo', 'itasainiwa', 'na', 'rais', 'Yoweri', 'Museveni', ',', 'marekebisho', 'hayo', 'yatasitisha', 'hukumu', 'ya', 'kifo', 'kwa', 'uhalifu', 'mkubwa', 'zaidi', ',', 'kwa', 'maelekezo', 'ya', 'jaji', '.', 'Watunga', 'sheria', 'wanasema', 'kuwa', 'hii', 'ni', 'hatua', 'kubwa', 'inayoweza', 'kutokomeza', 'hukumu', 'hiyo', ',', 'jambo', 'ambalo', 'mahakama', 'iliwahi', 'kupigia', 'kelele', '.', 'Kuna', 'wafungwa', '133', 'ambao', 'wamehukumiwa', 'kunyongwa', 'lakini', 'sasa', 'imepita', 'miaka', '20', 'tangu', 'wahukumiwe', '.', 'Kumekuwa', 'na', 'kampeni', 'mbalimali', 'za', 'kutokomeza', 'hukumu', 'hilo', ',', 'kufuatia', 'hukumu', 'ya', 'mwaka', '2009', 'ya', 'mfungwa', 'Susan', 'Kigula', 'ambaye', 'alihoji', 'juu', 'ya', 'hukumu', 'ya', 'kifo', 'kuwa', 'kinyume', 'na', 'katiba', '.', 'Mahakama', 'baadae', 'ilitaka', 'hukumu', 'ya', 'kifo', 'isiwe', 'lazima', 'kwa', 'kesi', 'za', 'mauaji', ',', 'na', 'kuwasisitiza', 'watu', 'kuwa', 'mtu', 'hapaswi', 'kuwekwa', 'jela', 'kwa', 'miaka', 'mitatu', 'wakati', 'amehukumiwa', 'kunyongwa', 'muda', 'huo', 'ukipita', 'mfungwa', 'huyo', 'ni', 'sawa', 'kuwa', 'amepewa', 'hukumu', 'ya', 'kifungo', 'cha', 'maisha', '.', 'Mara', 'ya', 'mwisho', 'Museveni', 'kudihinisha', 'hukumu', 'ya', 'kifo', 'itekelezwe', 'ilikuwa', 'mwaka', '1999', 'na', 'watu', '27', 'katika', 'gereza', 'la', 'Luzira', 'hapa', 'mjini', 'Kampala', '.', 'Kadhalika', ',', 'aliidhinisha', 'mahakama', 'ya', 'kijeshi', 'kutekeleza', 'hukumu', 'ya', 'kifo', 'mwaka', '2005', '.', 'Makubaliano', 'ya', 'kusitisha', 'sera', 'au', 'utekelezaji', 'Ripoti', 'ya', 'katibu', 'mkuu', 'wa', 'Umoja', 'wa', 'mataifa', 'kuhusu', 'hukumu', 'ya', 'kifo', 'imewasilishwa', 'katika', 'tume', 'ya', 'haki', 'za', 'binadamu', 'mwezi', 'Septemba', 'mwaka', 'huu', 'na', 'kusema', 'kuwa', 'kuna', 'mataifa', '170', 'wameachana', 'na', 'adhabu', 'hiyo', 'ya', 'kifo', 'kisheria', 'na', 'utekelezaji', 'au', 'hajauliwa', 'mtu', 'kwa', 'zaidi', 'ya', 'miaka', '10', '.', 'Umoja', 'wa', 'mataifa', 'ambayo', 'ina', 'wanachama', '193', ',', 'hivyo', 'ni', 'mataifa', '23', 'tu', 'ndio', 'ambayo', 'inawezekana', 'walitoa', 'hata', 'hukumu', 'moja', 'ya', 'kifo', 'katika', 'muongo', 'uliopita', '.', 'Kwa', 'kihistoria', ',', 'Kanisa', 'limekuwa', 'likizuia', 'adhabu', 'ya', 'kifo', ',', 'ikiwa', 'ni', 'pamoja', 'na', 'katika', 'karne', 'ya', '20', '.']\n",
      "\n",
      " Number of Words:  307\n"
     ]
    }
   ],
   "source": [
    "file=\"19aug21_1.txt\"\n",
    "\n",
    "# calling the function and storing the contents in a text variable \n",
    "text = get_document(\"https://www.bbc.com/swahili/habari-49420925\")\n",
    "\n",
    "# calling the store_ document function \n",
    "store_document(doc=text,name=file)\n",
    "\n",
    "#add the words in this file to the total_corpus_words, to keep count of the number of words in the corpus\n",
    "total_corpus_words+=total_words(file)"
   ]
  },
  {
   "cell_type": "code",
   "execution_count": 22,
   "metadata": {},
   "outputs": [
    {
     "data": {
      "text/plain": [
       "134213"
      ]
     },
     "execution_count": 22,
     "metadata": {},
     "output_type": "execute_result"
    }
   ],
   "source": [
    "total_corpus_words"
   ]
  },
  {
   "cell_type": "code",
   "execution_count": 23,
   "metadata": {},
   "outputs": [
    {
     "name": "stdout",
     "output_type": "stream",
     "text": [
      "['``', 'Hawa', 'watoto', 'sharti', 'walindwe', 'na', 'kila', 'mtu', 'ikiwa', 'ni', 'pamoja', 'na', 'serikali', 'kuhakikisha', 'wanadumisha', 'maadili', 'mema', 'katika', 'jamii', '.', \"''\", 'aliongeza', 'Chanzo', 'cha', 'picha', ',', 'Dr', 'Stephen', 'Karanja', 'Maelezo', 'ya', 'picha', ',', 'Dkt', 'Stephen', 'Karanja', ',', 'Mwenyekiti', 'wa', 'KCDA', ',', 'Wataalamu', 'wa', 'ngazi', 'ya', 'juu', 'wanasema', 'madai', 'hayo', '``', 'Hayana', 'msingi', 'wowote', \"''\", 'Daktari', 'bingwa', 'wa', 'wanawake', 'katika', 'Hospitali', 'Kuu', 'ya', 'Kenyatta', 'Dkt', 'Alfred', 'Mokomba', 'katika', 'tafiti', 'zake', 'zilizopita', 'amesema', 'chanjo', 'hiyo', 'ni', 'salama', 'na', 'inaweza', 'kutumiwa', 'kwa', 'watoto', '.', 'Wizara', 'ya', 'Afya', 'itawapatia', 'bila', 'malipo', 'dozi', 'mbili', 'ya', 'chango', 'ya', 'HPV', 'wasichana', 'wa', 'miaka', '10', 'katika', 'hospitali', 'za', 'umma', '9,000', ',', 'za', 'kibinafsi', 'na', 'zile', 'za', 'kidini', 'kote', 'nchini', '.', 'Shirika', 'la', 'Afya', 'Duniani', 'linapendekeza', 'wasichana', 'wapewe', 'chanjo', 'hiyo', 'na', 'wanawake', 'kufanyiwa', 'uchunguzi', 'wa', 'kimatibabu', 'mara', 'moja', 'kwa', 'mwaka', 'ili', 'kuwapunguzia', 'hatari', 'ya', 'kupata', 'maradhi', 'ya', 'saratani', '.', 'Linasema', 'chanjo', 'dhidi', 'ya', 'saratani', 'ni', 'imara', 'zaidi', 'ikipewa', 'wasichana', 'wa', 'kati', 'ya', 'miaka', '9', 'na', '14', '.', 'Kuna', 'aina', 'karibu', '100', 'ya', 'virusi', 'vya', 'HPV', ',', 'na', '14', 'kati', 'ya', 'hizo', 'husababisha', 'saratani', '.', 'Aina', 'mbili', 'ya', 'HPV', '(', '16', 'na', '18', ')', 'husababisha', '70', '%', 'ya', 'saratani', 'ya', 'shingo', 'ya', 'uzazi', '.', 'Siku', 'ya', 'Jumanne', 'maafisa', 'wakuu', 'wa', 'wizara', 'ya', 'Afya', 'nchini', 'Kenya', 'walikutana', 'na', 'washirika', 'wao', 'kujadiliana', 'kuhusu', 'hali', 'ya', 'saratani', 'nchini', 'na', 'kujiandaa', 'kwa', 'mpango', 'wa', 'chanjo', 'ya', 'kitaifa', 'dhidi', 'ya', 'ugonjwa', 'huyo', '.', '``', 'Kupata', 'chanjo', 'ya', 'HPV', 'ni', 'njia', 'bora', 'zaidi', 'ya', 'kujikinga', 'na', 'saratani', 'ya', 'shingo', 'ya', 'uzazi', 'na', 'ni', 'salama', '.', 'Mimi', 'pia', 'ni', 'baba', 'wa', 'watoto', 'wa', 'wasichana', 'na', 'wote', 'wamepata', 'chanjo', '.', 'Kwa', 'kuwapa', 'chanjo', 'watoto', 'wetu', 'wasichana', 'tunawakinga', 'na', 'ugonjwa', 'huo', 'maisha', '.', 'Watakuwa', 'vizuri', ',', 'nakufikia', 'malengo', 'yao', 'maishani', ',', \"''\", 'alisema', 'mwakilishi', 'wa', 'WHO', 'nchini', 'Kenya', 'Dr', 'Rudi', 'Eggers', '.', 'Chanzo', 'cha', 'picha', ',', 'Getty', 'Images', 'Wizara', 'ya', 'Afya', 'inalenga', 'kupunguza', 'visa', 'vya', 'saratani', 'ya', 'shingo', 'ya', 'uzazi', '-', 'ambaye', 'ni', 'ya', 'pili', 'baada', 'ya', 'saratani', 'ya', 'matiti', 'nchini', 'Kenya', ',', 'kwa', 'mujibu', 'wa', 'takwimu', 'zilizotolewa', 'na', 'shirika', 'la', 'kimataifa', 'la', 'utafiti', 'wa', 'saratani', '.', 'Ugonjwa', 'huo', 'unaua', 'karibu', 'wanawake', 'saba', 'nchini', 'Kenya', 'kila', 'siku', 'na', 'karibu', '3,000', 'kwa', 'mwaka', 'kwa', 'mujibu', 'wa', 'takwimu', 'kutoka', 'wizara', 'ya', 'Afya', '.', 'Kuna', 'karibu', 'visa', 'vipya', '40,000', 'vya', 'saratani', 'ya', 'shingo', 'ya', 'uzazi', 'vinavyoropotiwa', 'duniani', 'kila', 'mwaka', '.', 'Duniani', 'ni', 'ugonjwa', 'wa', 'nne', 'unaowaathiri', 'zaidi', 'wanawake', '``', 'Inasikitisha', 'kuwa', 'tunapoteza', 'wanawake', 'saba', 'kila', 'siku', 'kutokana', 'na', 'ugonjwa', 'ambao', 'unaweza', 'kupingwa', 'kupitia', 'chanjo', '.', 'IUkijikinga', 'dhidi', 'ya', 'maambukizi', 'ya', 'HPV', 'unaweza', 'kujiepusha', 'na', 'saratani', 'ya', 'shingo', 'ya', 'uzazi', ',', \"''\", 'alisema', 'mkuu', 'wa', 'chanjo', 'katika', 'wizara', 'ya', 'Afya', ',', 'Dkt', 'Collins', 'Tabu', ',', 'katika', 'mkutano', 'wa', 'washika', 'dau', 'wa', 'afya', 'nchini', 'Kenya', 'uliofanyika', 'siku', 'ya', 'Jumanne', '.', 'Gharama', 'ya', 'matibabu', 'Alisema', 'chanjo', 'hiyo', 'ambayo', 'pia', 'ni', 'mbinu', 'ya', 'kinga', 'ni', 'ya', 'gharama', 'nafuu', 'ikilinganishwa', 'na', 'matibabu', 'ya', 'saratani', '.', '``', 'Tunachokifahamu', 'kufikia', 'sasa', 'ni', 'kuwa', 'chanjo', 'hiyo', 'inatoa', 'kinga', 'ya', 'hadi', '90', '%', 'dhidi', 'ya', 'saratani', 'ya', 'shingo', 'ya', 'uzazi', '.', 'Tafiti', 'mbili', 'zilizofanywa', 'na', 'KNH', 'zinaonesha', 'kuwa', 'chanjo', 'ya', 'HPV', 'ni', 'bora', 'zaidi', 'katika', 'kukabiliana', 'na', 'aina', 'ya', '16', 'na', '18', 'ya', 'virusi', 'vya', 'HPV-', 'ambavyo', 'vinasadikiwa', 'kusababisha', 'saratani', 'ya', 'shingo', 'ya', 'uzazi', ',', \"''\", 'Dkt', 'Mokomba', 'aliliambia', 'Gazeti', 'la', 'Nation', '.', 'Kwa', 'mujibu', 'wa', 'madaktari', 'wa', 'Kanisa', 'Katoliki', ',', 'wanasema', 'virusi', 'hivyo', 'kama', 'magonjwa', 'ya', 'zinaa', ',', 'huwaathiri', 'watu', '``', 'walio', 'na', 'mienendo', 'ya', 'kufanya', 'ngono', 'kiholela', \"''\", '.', 'Maelezo', 'ya', 'picha', ',', 'Wagonjwa', 'na', 'wahudumu', 'wa', 'ugonjwa', 'wa', 'saratani', 'waliandamana', 'jijini', 'Nairobi', 'kuishinikiza', 'serikali', 'kuondoa', 'gharama', 'kubwa', 'ya', 'matibabu', 'ya', 'saratani', 'Sasa', 'wanatoa', 'wito', 'kwa', 'serikali', 'kuhakikisha', 'wazazi', 'wanahamasishwa', 'ili', 'wawezi', '``', 'kuwalinda', 'watoto', 'wao', 'wasiathiriwe', 'na', 'maovu', 'yanayoendelea', 'katika', 'jamii', '.', 'Hivi', 'karibuni', 'wagonjwa', 'na', 'wahudumu', 'wa', 'ugonjwa', 'wa', 'saratani', 'waliandamana', 'jijini', 'Nairobi', 'kuishinikiza', 'serikali', 'kuondoa', 'gharama', 'kubwa', 'za', 'matibabu', 'kwa', 'ugonjwa', 'huo', '.', 'Wagonjwa', 'na', 'wauguzi', 'walioandamana', 'pia', 'walimtaka', 'rais', 'Uhuru', 'Kenyatta', 'atangaze', 'saratani', 'kuwa', 'ni', 'janga', 'la', 'kitaifa', '.', 'Walisema', 'iwapo', 'hatua', 'hiyo', 'itaidhinishwa', 'basi', 'rasilmali', 'nyingi', 'zitaelekezwa', 'katika', 'kutoa', 'matibabu', 'ya', 'nafuu', 'na', 'yanayowafikia', 'wote', 'nchini', 'pamoja', 'na', 'kutoa', 'mafunzo', 'kwa', 'wataalamu', 'na', 'kuweka', 'vifaa', 'hospitalini', 'katika', 'kukabiliana', 'na', 'ugonjwa', 'huo', '.', 'Hofu', 'dhidi', 'ya', 'chanjo', 'Chanjo', 'zimesaidia', 'kuokoa', 'maisha', 'mamilioni', 'ya', 'watu', 'duniani', 'kote', 'katika', 'kipindi', 'cha', 'miaka', '100', 'iliyopita', ',', 'zimekuwa', 'ni', 'hakikisho', 'kwa', 'makuzi', 'salama', 'ya', 'watoto', 'na', 'afya', 'bora', 'kwa', 'watu', 'wazima', '.', 'Hata', 'hivyo', ',', 'wataalamu', 'wamebaini', 'hali', 'ya', 'ongezeko', 'la', 'kukataa', 'kutumia', 'chanjo', 'katika', 'baadhi', 'ya', 'maeneo', 'duniani', '.', 'Shirirka', 'la', 'Afya', 'Dunia', '(', 'WHO', ')', 'lipo', 'katika', 'tahadhari', 'kubwa', 'ya', 'hali', 'hiyo', 'kiasi', 'cha', 'kuorodhesha', 'ongezeko', 'hilo', 'kama', 'moja', 'ya', 'mambo', '10', 'yanayohatarisha', 'afya', 'ya', 'ulimwengu', 'kwa', 'mwaka', '2019', '.', 'Hofu', 'dhidi', 'ya', 'chanjo', ',', 'kwa', 'mfano', 'nchini', 'Marekani', 'ilisababisha', 'mlipuko', 'mkubwa', 'wa', 'ugonjwa', 'wa', 'ukambi', 'ay', 'surua', 'mika', '25', 'iliopita', '.', 'Chanzo', 'cha', 'picha', ',', 'CANCER', 'COUNCIL', 'AUSTRALIA', 'Maelezo', 'ya', 'picha', ',', 'Maambukizi', 'ya', 'saratani', 'ya', 'shingo', 'ya', 'uzazi', 'yamedhibitiwa', 'kwa', 'kiwango', 'kikubwa', 'nchini', 'Australia', 'Wakati', 'Kenya', 'inawalenga', 'watoto', 'wasichana', 'kupata', 'chanjo', 'dhidi', 'ya', 'HPV', ',', 'nchi', 'kama', 'Australia', 'pia', 'inawalenga', 'wavulana', 'katika', 'juhudi', 'ya', 'kutokomeza', 'kabisa', 'virusi', 'hivyo', 'vinavyosababisha', 'saratani', '.', 'Kwa', 'sababau', 'virusi', 'vya', 'HPV', 'husambazwa', 'kupitia', 'ngono', ',', 'kuwapa', 'chanjo', 'wavulana', 'kutapunguza', 'kuenea', 'kwa', 'virusi', 'hivyo', 'vinavyohusishwa', 'na', 'na', '5', '%', 'ya', 'maradhi', 'ya', 'saratani', '.', 'Tafita', 'kadhaa', 'nchini', 'Australia', 'zinzonesha', 'kuwa', 'chanjo', 'ya', 'HPV', 'inatoa', 'ulinzi', 'imara', 'dhidi', 'ya', 'saratani', '.', 'Uchunguzi', 'wa', 'saratani', 'ya', 'shingo', 'ya', 'uzazi', 'nchini', 'Australia', 'inalenga', 'kutokomeza', 'ugonjwa', 'huo', 'kufikia', 'mwaka', '2035', '.']\n",
      "\n",
      " Number of Words:  896\n"
     ]
    }
   ],
   "source": [
    "file=\"19aug21_2.txt\"\n",
    "\n",
    "# calling the function and storing the contents in a text variable \n",
    "text = get_document(\"https://www.bbc.com/swahili/habari-49408870\")\n",
    "\n",
    "# calling the store_ document function \n",
    "store_document(doc=text,name=file)\n",
    "\n",
    "#add the words in this file to the total_corpus_words, to keep count of the number of words in the corpus\n",
    "total_corpus_words+=total_words(file)"
   ]
  },
  {
   "cell_type": "code",
   "execution_count": 24,
   "metadata": {},
   "outputs": [
    {
     "data": {
      "text/plain": [
       "135109"
      ]
     },
     "execution_count": 24,
     "metadata": {},
     "output_type": "execute_result"
    }
   ],
   "source": [
    "total_corpus_words"
   ]
  },
  {
   "cell_type": "code",
   "execution_count": 25,
   "metadata": {},
   "outputs": [
    {
     "name": "stdout",
     "output_type": "stream",
     "text": [
      "['Masomo', 'chini', 'ya', 'miti', 'changamoto', 'kwa', 'Waganda', 'Wanafunzi', 'katika', 'shule', 'ya', 'msingi', 'ya', 'Bukedea', ',', 'karibu', 'na', 'mji', 'wa', 'Mbale', ',', 'mashariki', 'mwa', 'Uganda', ',', 'wakiendelea', 'na', 'masomo', 'chini', 'ya', 'mti', 'Katika', 'mataifa', 'mengi', 'ya', 'Afrika', ',', 'yakiwemo', 'yale', 'ya', 'Afrika', 'Mashariki', ',', 'viongozi', 'wamekuwa', 'wakitangaza', 'kuwa', 'nchi', 'serikali', 'zinao', 'zinatoa', 'elimu', 'bure', 'katika', 'shule', 'za', 'umma', '.', 'Hata', 'hivyo', 'miundo', 'mbinu', 'ya', 'elimu', 'ya', 'bure', 'imekuwa', 'ni', 'changamoto', 'kubwa', 'ya', 'utoaji', 'wa', 'elimu', 'kwa', 'baadhi', 'ya', 'maeneo', 'ya', 'nchi', 'hizo', '.', 'Baadhi', 'ya', 'shule', 'zimekuwa', 'na', 'ukosefu', 'wa', 'miundombinu', 'na', 'baadhi', 'ya', 'ile', 'iliyopo', 'iko', 'katika', 'hali', 'duni', 'inayofanya', 'mchakato', 'mzima', 'wa', 'ufundishaji', 'na', 'masomo', 'katika', 'shule', 'za', 'umma', 'kuwa', 'mgumu', '.', 'Shule', 'ya', 'Msingi', 'ya', 'Kachage', ',', 'ni', 'moja', 'ya', 'mifano', 'ya', 'shule', 'ambazo', 'zinakabiliwa', 'na', 'changamoto', 'kubwa', 'ya', 'miundo', 'mbinu', '.', 'Ikipatikana', 'wilayani', 'Bukedea', ',', 'karibu', 'na', 'mji', 'wa', 'Mbale', ',', 'mashariki', 'mwa', 'Uganda', ',', 'Shule', 'hii', 'ina', 'madarasa', 'manne', 'pekee', '.', 'Wanafunzi', 'wa', 'madarasa', 'mengine', 'wanalazimika', 'kusomea', 'chini', 'ya', 'miti', 'iliyotapakaa', 'katika', 'uwanja', 'wa', 'shule', 'hiyo', ',', 'alibaini', 'mwandishi', 'wa', 'BBC', 'Roncliff', 'Odit', 'alipokuwa', 'Uganda', 'hivi', 'karibuni', '.', 'Maelezo', 'ya', 'picha', ',', 'Mwalimu', 'Mkuu', 'wa', 'shule', 'ya', 'msingi', 'ya', 'Bukedea', 'Okurut', 'Levy', '(', 'pichani', 'mbele', 'ya', 'wanafunzi', ')', 'anasema', 'imekuwa', 'ni', 'changamoto', 'kubwa', 'kuwafundisha', 'watoto', 'kando', 'ya', 'barabara', 'Licha', 'ya', 'kwamba', 'shule', 'hii', 'ilianzishwa', 'mwaka', '2012', ',', 'miaka', 'saba', '7', 'baadae', 'bado', 'imesalia', 'na', 'madarasa', 'manne', 'tu', '.', 'Kutokana', 'na', 'kwamba', 'shule', 'ya', 'Kachage', 'ipo', 'kando', 'ya', 'barabara', 'kuu', 'ya', 'kutoka', 'Mbale', 'kuelekea', 'mjini', 'Soroti', ',', 'kila', 'mara', 'masomo', 'hutatizwa', 'na', 'kelele', 'za', 'malori', 'na', 'magari', 'mengine', 'ya', 'kusafirisha', 'mizigo', 'na', 'abiria', '.', 'Walimu', 'wa', 'shule', 'hiyo', 'wanasema', 'masomo', 'yanatatizwa', 'kila', 'mara', 'na', 'jua', 'kali', ',', 'na', 'vumbi', 'jingi', '.', \"''Hawa\", 'watoto', 'wetu', 'tunaowafundisha', 'wanakaa', 'chini', 'kwenye', 'vumbi', ',', 'hawana', 'hata', 'madawati', ',', 'wanaweka', 'vitabu', 'vyao', 'chini', ',', 'hawaweza', 'hata', 'kuandika', 'vizuri', ',', 'kwasababu', 'ukiweka', 'daftari', 'lako', 'chini', 'au', 'kwenye', 'mguu', 'wako', 'hauwezi', 'kuandika', 'vizuri', ',', 'hii', 'pia', 'ni', 'shida', 'yetu', \"''\", ',', 'alisema', '.', 'Hapa', 'sisi', 'tunafundishia', 'kando', 'na', 'barabara', ',', 'kama', 'gari', 'kubwa', 'inapita', 'kama', 'hii', ',', 'watoto', 'hawawezi', 'kusikia', 'maneno', 'tunayowaambia', ',', 'mawazo', 'yao', 'yote', 'yanaelekea', 'barabarani', '.', 'Sasa', 'sisi', 'tunachoiomba', 'serikali', 'itusaidie', 'itujengee', 'madarasa', \"''\", 'alisema', 'Mwalimu', 'mkuu', 'wa', 'shule', 'Kachage', 'Okurut', 'Levy', 'huku', 'lori', 'likipita', 'nyuma', 'yake', 'kando', 'ya', 'uwanja', 'unaotumiwa', 'kama', 'darasa', '.', 'Maelezo', 'ya', 'picha', ',', 'Shule', 'ya', 'msingi', 'Ugamba', 'iliyopo', 'mkoani', 'Tabora', 'Tanzania', 'pia', 'iliripotiwa', 'kuwa', 'na', 'uhaba', 'wa', 'madarasa', 'ya', 'kusomea', 'Lakini', 'licha', 'ya', 'hali', 'hiyo', 'ngumu', ',', 'bado', 'wanafunzi', 'wa', 'shule', 'ya', 'msingi', 'ya', 'Kachage', 'walijitahidi', 'wakati', 'wa', 'mtihani', 'wa', 'kitaifa', 'mwaka', 'uliopita', '.', 'Saa', 'walimu', 'na', 'wakuu', 'wa', 'shule', 'hiyo', 'wanatoa', 'mwito', 'kwa', 'serikali', 'kuu', 'na', 'wahisani', 'kuingilia', 'kati', 'ili', 'kusuluhisha', 'tatizo', 'hilo', '.', 'Maelezo', 'ya', 'picha', ',', 'Wanafunzi', 'katika', 'moja', 'ya', 'madarasa', 'ya', 'shule', 'ya', 'msingi', 'ya', 'umma', 'nchini', 'Kenya', 'Si', 'mara', 'ya', 'kwanza', 'kusikia', 'taarifa', 'za', 'wanafunzi', 'wanaosomea', 'nje', 'au', 'chini', 'ya', 'mti', '.', 'Katika', 'nchi', 'jirani', 'ya', 'Tanzania', 'shule', 'ya', 'msingi', 'Ugamba', 'iliyopo', 'mkoani', 'Tabora', ',', 'wanafunzi', 'waliripotiwa', 'kusoma', 'nje', '.', 'Uhaba', 'wa', 'madarasa', 'bado', 'ni', 'changamoto', 'kwa', 'baadhi', 'shule', 'nchini', 'Tanzania', '.', 'Katika', 'nchi', 'jirani', 'ya', 'Kenya', 'pia', 'hali', 'si', 'tofauti', ',', 'baadhi', 'ya', 'shule', 'za', 'umma', 'zimekuwa', 'zikikabiliwa', 'na', 'uhaba', 'wa', 'miundo', 'mbinu', 'hususan', 'katika', 'maeneo', 'ya', 'vijijini', 'ambapo', 'watoto', 'wa', 'shule', 'wamekuwa', 'walikabiliwa', 'na', 'ukosefu', 'wa', 'madawati', 'na', 'uhaba', 'wa', 'vitabu', '.', 'Ripoti', 'ya', 'hali', 'ya', 'elimu', 'Barani', 'Afrika', 'iliyotolewa', 'na', 'Benki', 'ya', 'dunia', 'mwezi', 'Februari', 'mwaka', '2019', ',', 'iliziorodhesha', 'nchi', 'za', 'Uganda', 'na', 'Tanzania', 'katika', 'kundi', 'la', 'pili', 'la', 'mataifa', 'yenye', 'kiwango', 'cha', 'juu', 'cha', 'watoto', 'wanaoachia', 'katikati', 'masomo', 'ya', 'shule', 'ya', 'msingi', '.', 'Baadhi', 'ya', 'sababu', 'zilizochangia', 'kushuka', 'kwa', 'kiwango', 'cha', 'elimu', 'katika', 'mataifa', 'hayo', 'ni', 'pamoja', 'na', 'kutokuwepo', 'kwa', 'shule', 'karibu', 'na', 'maeneo', 'ya', 'vijijini', '.', 'Kuongeza', 'idadi', 'ya', 'madarasa', 'katika', 'shule', 'za', 'msingi', 'zilizopo', 'Ripoti', 'hiyo', 'pia', 'ilipendekeza', 'Kuhakikisha', 'shule', 'zinatenga', 'sehemu', 'za', 'kujisaidia', 'kwa', 'watoto', 'wa', 'kiume', 'na', 'wakike', '.', 'Ukosefu', 'wa', 'vyoo', 'na', 'maji', 'umetajwa', 'kuwa', 'chanzo', 'cha', 'wasichana', 'kugoma', 'kuenda', 'shuleniKutumia', 'teknolojia', 'ya', 'kisasa', 'kuimarisha', 'mafunzo', 'na', 'mifumo', 'wa', 'elimu', '.', 'Wachanganuzi', 'wa', 'masuala', 'ya', 'elimu', 'wamekuwa', 'wakizikosoa', 'serikali', 'za', 'mataifa', 'ya', 'Afrika', 'kwa', 'kutoa', 'ahadi', 'za', 'utoaji', 'wa', 'elimu', 'bure', 'kwa', 'wanafunzi', 'wa', 'shule', 'za', 'umma', 'huku', 'shule', 'hizo', 'zikikabiliwa', 'na', 'uhaba', 'wa', 'miundo', 'mbili', 'kama', 'vile', 'madawati', ',', 'vitabu', 'na', 'madarasa', 'havipo', 'vya', 'kutosha', 'Maelezo', 'zaidi', 'kuhusu', 'taarifa', 'hii', 'Ripoti', 'mpya', 'ya', 'hali', 'ya', 'elimu', 'Barani', 'Afrika', 'iliyotolewa', 'na', 'Benki', 'ya', 'dunia', 'imeziorodhesha', 'nchi', 'za', 'Uganda', 'na', 'Tanzania', 'katika', 'kundi', 'la', 'pili', 'la', 'mataifa', 'yenye', 'kiwango', 'cha', 'juu', 'cha', 'watoto', 'wanaoachia', 'katikati', 'masomo', 'ya', 'shule', 'ya', 'msingi']\n",
      "\n",
      " Number of Words:  757\n"
     ]
    }
   ],
   "source": [
    "file=\"19aug22_1.txt\"\n",
    "\n",
    "# calling the function and storing the contents in a text variable \n",
    "text = get_document(\"https://www.bbc.com/swahili/habari-49427224\")\n",
    "\n",
    "# calling the store_ document function \n",
    "store_document(doc=text,name=file)\n",
    "\n",
    "#add the words in this file to the total_corpus_words, to keep count of the number of words in the corpus\n",
    "total_corpus_words+=total_words(file)"
   ]
  },
  {
   "cell_type": "code",
   "execution_count": 26,
   "metadata": {},
   "outputs": [
    {
     "data": {
      "text/plain": [
       "135866"
      ]
     },
     "execution_count": 26,
     "metadata": {},
     "output_type": "execute_result"
    }
   ],
   "source": [
    "total_corpus_words"
   ]
  },
  {
   "cell_type": "code",
   "execution_count": 27,
   "metadata": {},
   "outputs": [
    {
     "name": "stdout",
     "output_type": "stream",
     "text": [
      "['Maisha', 'ya', 'kuwa', 'na', 'jinsia', 'mbili', 'yamekuwa', 'changamoto', 'kwa', 'Mary', 'Waithera', 'ama', 'James', 'Karanja', '22', 'Agosti', '2019', 'Maelezo', 'ya', 'picha', ',', 'Hali', 'ya', 'kuwa', 'na', 'jinsia', 'mbili', 'ya', 'kiume', 'na', 'ya', 'kike', 'ya', 'Mary', 'Waithera', 'ama', 'James', 'Karanja', '(', 'pichani', ')', 'ilifanya', 'ndoa', 'ya', 'wazazi', 'wake', 'ivunjike', 'Kulikuwa', 'na', 'hali', 'ya', 'sintofahamu', 'wakati', 'Mary', 'Waithera', 'ama', 'James', 'Karanja', 'alipozaliwa', 'mwaka', '1991', ',', 'wakunga', 'walinyamaza', 'wasijue', 'cha', 'kumwambia', 'mama', 'yake', '.', 'Alizaliwa', 'na', 'jinsia', 'mbili', '...', 'jinsia', 'ya', 'kiume', 'na', 'ya', 'kike', 'kwa', 'pamoja', '.', 'Mama', 'yake', 'akitaka', 'kupata', 'kujua', 'mbona', 'mwanae', 'akazaliwa', 'katika', 'hali', 'hiyo', '?', '.', 'Shughuli', 'zote', 'za', 'kutanzua', 'hali', 'hii', 'zilimfanya', 'Mary', 'kulazwa', 'hospitalini', 'kwa', 'wiki', 'tatu', 'alipozaliwa', '.', 'Huo', 'ukawa', 'ndio', 'mwanzo', 'wa', 'safari', 'ya', 'Mary', 'Waithera', 'ama', 'James', 'Karanja', 'kujitambua', 'Ikaishia', 'nimeitwa', 'jina', 'la', 'nyanyangu', ';', 'mama', 'ya', 'mamangu', 'aliyenilea.Mamangu', 'kutokana', 'na', 'kuvunjika', 'kwa', 'ndoa', 'yake', 'akashikwa', 'na', 'msongo', 'wa', 'mawazo', '.', 'Hata', 'hivyo', 'maisha', 'ya', 'yeye', 'kunilea', 'yalikuwa', 'magumu', ',', '``', 'Kila', 'nilipokwenda', 'kuchota', 'maji', 'mtoni', ',', 'nilikuwa', 'nabeba', 'mtungi', 'na', 'bega', 'langu', ',', 'tofauti', 'na', 'wasichana', 'wengine', 'waliokuwa', 'wakitumia', 'migongo', 'yao', '.', \"''\", 'Ailipofika', 'kidato', 'cha', 'tatu', ',', 'aliona', 'mwili', 'wake', 'ukibadilika', 'nalipoanza', 'kubalehe', '.', 'Mabega', 'yakapanuka', 'na', 'sauti', 'ikabadilika', '.', 'Akawa', 'anaoga', 'usiku', 'wa', 'manane', 'kabla', 'ya', 'wanafunzi', 'wengine', 'ili', 'wasimwone', '.', 'Na', 'wasichana', 'wakaanza', 'kupendezwa', 'naye', 'licha', 'ya', 'kuwa', 'alikuwa', 'kiranja', 'wa', 'shule', '.', 'Baada', 'ya', 'kumwandikia', 'barua', 'kadhaa', '.', 'Walimu', 'walipozipata', 'barua', 'hizo', ',', 'akafukuzwa', 'shule', 'kwa', 'madai', 'ya', 'kueneza', 'mapenzi', 'ya', 'jinsia', 'moja', '.', 'Baada', 'ya', 'muda', ',', 'Karanja', 'alikubaliwa', 'kufanya', 'mtihani', 'wake', 'wa', 'kitaifa', ',', 'akapita', 'na', 'kujiunga', 'na', 'chuo', 'kikuu', '.', 'Alifurahi', 'kuwa', 'alikuwa', 'ameondokea', 'vikwazo', 'ila', 'alikosea', '.', 'Ugumu', 'wa', 'kujitambulisha', 'Katika', 'chuo', 'kikuu', 'cha', 'Nairobi', ',', 'alizuiliwa', 'mara', 'kadhaa', 'na', 'walinzi', 'ili', 'kueleza', 'ikawaje', 'anaitwa', 'jina', 'la', 'kike', 'Mary', 'Waithera', 'ingawa', 'ana', 'muonekano', 'wa', 'mwanaume', '.', 'Hata', 'wahadhiri', 'walipokuwa', 'walitaka', 'kujua', 'mbona', 'akaitwa', 'jina', 'la', 'kike', 'na', 'hata', 'kitambulisho', 'chake', 'kina', 'jinsia', 'ya', 'kike', 'wakati', 'alipokuwa', 'akifanya', 'mitihani', 'tofauto.Mara', 'kwa', 'mara', 'akifukuzwa', 'ama', 'kucheleweshwa', 'kufanya', 'mitihani', 'hiyo', '.', 'Kutokana', 'na', 'ugumu', 'huo', ',', 'Karanja', 'alijaribu', 'kujiua', 'mara', 'tatu', '.', 'Anasema', 'kuwa', 'unyanyapaa', 'ndio', 'ulikuwa', 'kiini', 'cha', 'hayo', 'yote', '.', 'Unaweza', 'pia', 'kutazama', ':', 'Huwezi', 'kusikiliza', 'tena', 'Maelezo', 'ya', 'video', ',', 'Masaibu', 'ya', 'kuzaliwa', 'na', 'jinsia', 'mbili', 'Kenya', 'Hata', 'hivyo', 'Karanja', 'anataka', 'kutambulishwa', 'kama', 'mtu', 'wa', 'jinsia', 'mbili', '.', 'Kenya', 'kuwasajilia', 'watu', 'wa', 'jinsia', 'moja', '.', 'Inakadiriwa', 'kuwa', 'kuna', 'karibu', 'watu', '700,000', 'wa', 'jinsia', 'mbili', 'wanaoishi', 'nchini', 'Kenya', '.']\n",
      "\n",
      " Number of Words:  403\n"
     ]
    }
   ],
   "source": [
    "file=\"19aug22_2.txt\"\n",
    "\n",
    "# calling the function and storing the contents in a text variable \n",
    "text = get_document(\"https://www.bbc.com/swahili/habari-49427225\")\n",
    "\n",
    "# calling the store_ document function \n",
    "store_document(doc=text,name=file)\n",
    "\n",
    "#add the words in this file to the total_corpus_words, to keep count of the number of words in the corpus\n",
    "total_corpus_words+=total_words(file)"
   ]
  },
  {
   "cell_type": "code",
   "execution_count": 28,
   "metadata": {},
   "outputs": [
    {
     "data": {
      "text/plain": [
       "136269"
      ]
     },
     "execution_count": 28,
     "metadata": {},
     "output_type": "execute_result"
    }
   ],
   "source": [
    "total_corpus_words"
   ]
  },
  {
   "cell_type": "code",
   "execution_count": 29,
   "metadata": {},
   "outputs": [
    {
     "name": "stdout",
     "output_type": "stream",
     "text": [
      "['Kwa', 'mujibu', 'wa', 'Bw', '.', 'Matiang', \"'\", 'i', 'maeneo', 'ya', 'burudani', 'yatafungwa', 'kuanzia', 'saa', 'kumi', 'na', 'moja', 'jioni', 'Jumamosi', 'na', 'Jumapili', 'ili', 'kuhakikisha', 'wahudumu', 'wa', 'maeneo', 'hayo', 'wote', 'wako', 'nyumbani', 'kufikia', 'saa', 'kumi', 'na', 'mbili', 'jioni', 'wakati', 'ambapo', 'maafisa', 'wa', 'kuhesabu', 'watu', 'wataanza', 'kazi', 'yao', '.', '``', 'Tutafunga', 'maeneo', 'yote', 'ya', 'burudani', 'hususana', 'baa', 'kuanzia', 'saa', 'kumi', 'na', 'moja', 'jioni', 'ili', 'kukupatia', 'muda', 'wa', 'kuwa', 'nyumbani', 'kabla', 'ya', 'maafisa', 'wa', 'kuhesabu', 'watu', 'kufika', 'nyumbani', 'kwako', 'kuanzia', 'saa', 'kumi', 'na', 'mbili', 'jioni', ',', \"''\", 'alisema', 'waziri', 'huyo', 'siku', 'ya', 'Jumatano', 'akitoa', 'agizo', 'hilo', '.', 'Waziri', 'huyo', 'amewahakikishia', 'Wakenya', 'kuwa', 'hali', 'ya', 'usalama', 'utaimarishwa', 'na', 'maafisa', 'wote', 'wa', 'usalama', 'wamezuiliwa', 'kwenda', 'likizo', 'ili', 'kuhakikisha', 'zoezi', 'hilo', 'linafanywa', 'kwa', 'utaratibu', '.', 'Bw', '.', 'Matiang', \"'\", 'i', 'aidha', 'ametoa', 'onyo', 'kali', 'kwa', 'wale', 'ambao', 'watajaribu', 'kusimamia', 'zoezi', 'hilo', 'bila', 'idhini', 'kwa', 'kudai', 'kuwa', 'asasi', 'zote', 'za', 'kigeni', 'na', 'watu', 'binafsi', 'walipigwa', 'msasa', 'kabla', 'ya', 'kuidhinishwa', '.', 'Serikali', 'ya', 'Kenya', 'pia', 'inatarajiwa', 'kutumia', 'sensa', 'hii', 'kujumuisha', 'watu', 'walio', 'na', 'jinsia', 'mbili', 'katika', 'juhudi', 'za', 'kuwatambua', 'na', 'kujua', 'hesabu', 'yao', '.', 'Taifa', 'hilo', 'linapania', 'kuwa', 'nchi', 'ya', 'kwanza', 'ya', 'Afrika', 'Mashariki', 'kutekeleza', 'sheria', 'ya', 'kuwatambua', 'watu', 'wenye', 'jinsia', 'mbili', '.', 'Sensa', 'zilizopita', 'zilikuwa', 'na', 'utambulisho', 'wa', 'jinsia', 'mbili', ',', 'ya', 'kiume', 'na', 'ya', 'kike', '.', 'Hatua', 'hiyo', 'iliwalazimu', 'watu', 'zaidi', 'ya', '700,000', 'ambao', 'wana', 'jinsia', 'zote', 'mbili', 'kujitambulisha', 'na', 'jinsia', 'ambayo', 'haikuelezea', 'kikamilifu', 'wao', 'ni', 'nani', 'hasa', '.', 'Shughuli', 'ya', 'kuhesabu', 'watu', 'pia', 'inafanyika', 'mara', 'ya', 'kwanza', 'tangu', 'Kenya', 'ilipoidhinisha', 'katiba', 'mpya', 'mwka', '2010', '.', 'Baadhi', 'ya', 'watu', 'wanasema', 'ukizingatia', 'sababu', 'hizo', 'kuna', 'haja', 'ya', 'wananchi', 'kupewa', 'siku', 'ya', 'mapumziko', 'lakini', 'wamekuwa', 'wakitumia', 'mitandao', 'ya', 'kijamii', 'kuelezea', 'hisia', 'zao', 'kuhusu', 'sensa', 'hiyo', '.', 'Lakini', 'mtumiaji', 'Chris-Leo', 'alikuwa', 'na', 'mawazo', 'tofauti', 'kabisa', 'na', 'ikiwa', 'watu', 'wapewe', 'siku', 'ya', 'kupumzika', 'au', 'la', '.', 'Chris', 'aliwafananisha', 'wake', 'majumbani', 'na', '``', 'magaidi', \"''\", 'kwa', 'waume', 'zao', '...', 'Baadhi', 'yao', 'wanasema', 'watajiwekea', 'pombe', 'zao', 'majumbani', 'kabla', 'ya', 'shughuli', 'hiyo', 'kuanza', 'huku', 'wengine', 'wakifanya', 'matani', 'kuhusu', 'baadhi', 'ya', 'maswali', 'ambayo', 'huenda', 'wakaulizwa', '.']\n",
      "\n",
      " Number of Words:  331\n"
     ]
    }
   ],
   "source": [
    "file=\"19aug22_3.txt\"\n",
    "\n",
    "# calling the function and storing the contents in a text variable \n",
    "text = get_document(\"https://www.bbc.com/swahili/habari-49434707\")\n",
    "\n",
    "# calling the store_ document function \n",
    "store_document(doc=text,name=file)\n",
    "\n",
    "#add the words in this file to the total_corpus_words, to keep count of the number of words in the corpus\n",
    "total_corpus_words+=total_words(file)"
   ]
  },
  {
   "cell_type": "code",
   "execution_count": 30,
   "metadata": {},
   "outputs": [
    {
     "data": {
      "text/plain": [
       "136600"
      ]
     },
     "execution_count": 30,
     "metadata": {},
     "output_type": "execute_result"
    }
   ],
   "source": [
    "total_corpus_words"
   ]
  },
  {
   "cell_type": "code",
   "execution_count": 31,
   "metadata": {},
   "outputs": [
    {
     "name": "stdout",
     "output_type": "stream",
     "text": [
      "['Je', 'unafahamu', 'kuwa', 'jina', 'ulilopewa', 'linaweza', 'kuathiri', 'tabia', 'yako', '?', 'Jamii', 'nyingi', 'awali', 'huwapa', 'majina', 'watoto', 'kulingana', 'na', 'majira', ',', 'nyakati', ',', 'misimu', 'ambayo', 'watoto', 'hao', 'wamezaliwa', 'au', 'namna', 'mtoto', 'alivyozaliwa', 'Kila', 'binadamu', 'ana', 'jina', 'ambalo', 'aliitwa', 'wakati', 'alipozaliwa', ',', 'lakini', 'unafahamu', 'kuwa', 'jina', 'ulilopewa', 'linaweza', 'kuathiri', 'tabia', 'yako', ',', 'wanasema', 'wataalamu', 'Ni', 'dhahiri', 'kwamba', 'hakuna', 'kiumbe', 'kisichokuwa', 'na', 'jina', ',', 'iwapo', 'kiumbe', 'hicho', 'kiliumbwa', 'wakati', 'dunia', 'ilipoanza', 'au', 'hata', 'kimebuniwa', 'hivi', 'karibuni', 'mfano', 'vile', 'vitu', 'vilivyoumba', 'kiteknolojia', ',', 'mithili', 'ya', 'binadamu', 'na', 'vinginevyo', '.', 'Lakini', 'Je', 'ni', 'watu', 'wangapi', 'wanajua', 'maana', 'ya', 'majina', 'yao', 'au', 'hata', 'kile', 'kilichopelekea', 'wao', 'kuitwa', 'majina', 'hayo', 'na', 'ni', 'vipi', 'jina', 'linaweza', 'kuathiri', 'tabia', 'ya', 'mtu', '?', '.', 'Jamii', 'nyingi', 'awali', 'zilikuwa', 'zikiwapa', 'majina', 'watoto', 'kulingana', 'na', 'majira', ',', 'nyakati', ',', 'misimu', 'ambayo', 'watoto', 'hao', 'wamezaliwa', 'au', 'namna', 'mtoto', 'alivyozaliwa', '.', 'Hata', 'hivyo', 'kuna', 'baadhi', 'ya', 'jamii', 'ambazo', 'ziliwapatia', 'watoto', 'majina', 'ya', 'mababu', '.', 'Lakini', 'hata', 'hivyo', 'mtu', 'ambaye', 'angetajiwa', 'jina', 'lazima', 'angekuwa', 'ni', 'mtu', 'ambaye', 'jamii', 'ilitambua', 'maadili', 'yake', ',', 'mfano', 'mtu', 'ambaye', 'alifariki', 'kwa', 'kujiua', 'alipewa', 'jina', 'fulani', '.', 'Aggrey', 'ondiege', 'anatoka', 'katika', 'kabila', 'la', 'Luo', 'Magharibi', 'mwa', 'Kenya', '.', 'Watu', 'kutoka', 'kabila', 'lake', 'huchanganya', 'nyakati', 'na', 'majira', '.', '``', 'Katika', 'kabila', 'letu', 'walikuwa', 'wakitumia', 'wakati', 'kumpatia', 'mtoto', 'jina', 'la', 'kwanza', '...', 'Kama', 'mtoto', 'amezaliwa', ',', 'asubuhi', 'au', 'mchana', '.', 'Kama', 'amezaliwa', 'mchana', 'anaitwa', 'Ochieng', 'akiwa', 'mvulana', 'ama', 'Achieng', 'akiwa', 'msichana', '.', 'Pia', 'tuliwapatia', 'majina', 'kulingana', 'na', 'majira', '.', 'Wakati', 'wa', 'mvua', 'au', 'ukame', '.', 'Tulichanganya', 'majina', 'ya', 'wakati', 'na', 'yale', 'ya', 'majira', '.', 'Kwa', 'mfano', 'Okinyi', 'au', 'Akinyi', 'wakati', 'wa', 'mvua', '.', 'Kwa', 'hivyo', 'kama', 'mtoto', 'msichana', 'angezaliwa', 'wakati', 'wa', 'mchana', 'na', 'katika', 'majira', 'ya', 'mvua', 'angeitwa', 'Achieng', 'Akinyi', \"''\", 'Jamii', 'hii', 'hutumia', 'silabi', '``', 'a', \"''\", 'kuanza', 'jina', 'la', 'watoto', 'wasichana', 'na', '``', 'o', \"''\", 'kwa', 'watoto', 'wavulana.Hata', 'hivyo', 'namna', 'mtoto', 'alivyozaliwa', 'pia', 'hutumiwa', 'kama', 'kigezo', 'cha', 'kumpatia', 'mtoto', 'jina', '.', 'Watoto', 'mapacha', 'katika', 'jamii', 'hii', 'hupewa', 'majina', 'teule', 'kulingana', 'na', 'nani', 'anatangulia', 'kuzaliwa', '.', '``', 'Watoto', 'wanaotangulia', 'kuzalliwa', 'kama', 'ni', 'mvulana', 'ataitwa', 'Opiyo', ',', 'kama', 'ni', 'msichana', 'ataitwa', 'Apiyo', 'na', 'mtindo', 'huu', 'hutumiwa', 'pia', 'na', 'jamii', 'ya', 'Waluhya', 'nchini', 'Kenya', 'ambapo', 'Pacha', 'anayetangulia', 'huitwa', 'Mlongo', 'na', 'wa', 'pili', 'huitwa', 'Mukhwana', '.', 'Vigezo', 'vya', 'majina', 'Tanzania', '?', 'Maelezo', 'ya', 'picha', ',', 'Mzee', 'John', 'Makoba', 'kutoka', 'jamii', 'ya', 'kisukuma', 'mwenye', 'umri', 'wa', 'miaka', 'zaidi', 'ya', '80', 'anasema', 'majina', 'ya', 'watoto', 'katika', 'jamii', 'hiyo', 'hutolewa', 'kwa', 'kuzingatia', 'hali', ',', 'na', 'nyakati', 'Nchini', 'Tanzania', ',', 'Wajita', 'wanaotokea', 'kanda', 'ya', 'ziwa', 'hutoa', 'majina', 'kutokana', 'na', 'majira', 'ya', 'hali', 'ya', 'hewa', ',', 'mfano', 'vipindi', 'vya', 'kulima', 'basi', 'mtoto', 'ataitwa', 'Malima', ',', 'kipindi', 'kikiwa', 'na', 'nyasi', 'nyingi', 'basi', 'anaitwa', 'Manyasi', ',', 'na', 'kuna', 'kipindi', 'cha', 'viazi', 'vingi', 'basi', 'mtoto', 'ataitwa', 'Manumbu', 'inayomaanisha', 'viazi', '.', 'Mzee', 'Manyasi', 'Bhusaghwafu', 'ni', 'Mjita', 'kutoka', 'Musoma', 'Mara', '.', 'Ana', 'watoto', '6', 'na', 'amewapatia', 'majina', 'kulingana', 'na', 'vipindi', '.', '``', 'Mmoja', 'anaitwa', 'Malima', 'yeye', 'alizaiwa', 'kipindi', 'cha', 'kilimo', '.', 'Kuna', 'kaka', 'yangu', 'alipewa', 'jina', 'la', 'Manumbu', 'kipindi', 'hicho', 'kulikua', 'na', 'viazi', 'vingi', 'sana', '``', '``', 'Kwetu', 'huwezi', 'tu', 'kutoa', 'jina', 'bila', 'kuwa', 'na', 'Maana', 'hata', 'Kama', 'sio', 'kipindi', 'lakini', 'lazima', 'kutakua', 'na', 'maana', 'nyingine', '``', 'Unaweza', 'pia', 'kusikiliza', ':', 'Huwezi', 'kusikiliza', 'tena', 'Maelezo', 'ya', 'sauti', ',', 'Jamii', 'Tanzania', 'inasaidia', 'kumaliza', 'utamaduni', 'wa', 'kuwarithi', 'wajane', '?', 'Kulingana', 'na', 'tamaduni', 'nyingi', 'za', 'Afrika', ',', 'kuna', 'wakati', 'ambapo', 'mtoto', 'angeitwa', 'jina', 'kisha', 'mtoto', 'huyo', 'alie', 'sana', '.', 'Hiyo', 'ingesababisha', 'mtoto', 'kubadilishiwa', 'jina', '.', 'Katika', 'karne', 'hii', 'ya', 'ishirini', 'na', 'moja', ',', 'watu', 'wengi', 'ni', 'watumwa', 'kwa', 'sababu', 'hawafuatilii', 'mila', 'wakati', 'wa', 'kupeana', 'majina', '.', 'Kinyume', 'na', 'awali', ',', 'siku', 'hizi', 'watu', 'huwaita', 'watoto', 'kulingana', 'na', 'jinsi', 'mtu', 'anavyopenda', '.', 'Kuna', 'wale', 'ambao', 'huwaita', 'kulingana', 'na', 'watu', 'kwenye', 'filamu', 'walizotizama', 'au', 'watu', 'waliotajika', '.', 'Lakini', 'je', 'majina', 'yako', 'na', 'athari', 'gani', 'Kwa', 'tabia', 'anazokuwa', 'nazo', 'mtu', '?', 'Maelezo', 'ya', 'picha', ',', 'Mbali', 'na', 'kwamba', 'jina', 'hutambulisha', 'kabila', 'au', 'sehemu', 'anakotoka', 'mtu', ',', 'jina', 'lina', 'nguvu', 'sana', 'katika', 'tabia', 'anayokuwa', 'nayo', 'mtu', ',', 'anasema', 'mwanasaikolojia', 'Perpertual', 'Wanyugi', 'Wanasaikolojia', 'wanaelezea', 'jina', 'kuwa', 'kitambulisho', 'muhimu', 'sana', 'Kwa', 'binadamu', '.', 'Jina', 'hutambulisha', 'jinsia', 'ya', 'mtu', ',', 'jinsi', 'tunavyojichukulia', 'katika', 'jamii', '.', '``', 'Mbali', 'na', 'kwamba', 'jina', 'hutambulisha', 'kabila', 'au', 'sehemu', 'anakotoka', 'mtu', ',', 'jina', 'lina', 'nguvu', 'sana', 'katika', 'tabia', 'anayokuwa', 'nayo', 'mtu', '.', 'Watoto', 'wengi', 'huishia', 'kufuata', 'tabia', 'ya', 'mtu', 'aliyetajiwa', 'jina', 'iwapo', 'ni', 'nzuri', 'au', 'mbaya', \"''\", 'Perpetua', 'Wanyugi', 'ni', 'mwanasaikolojia', 'nchini', 'Kenya', '.', 'Jina', 'pia', 'linaweza', 'kumbagua', 'au', 'kumdhalilisha', 'mtu', 'hasa', 'kikazi.', '``', 'Kijinsia', 'mtu', 'anaweza', 'kubaguliwa', 'kutikana', 'na', 'jina', 'lake', '.', 'Mfano', 'Mwanamke', 'anayefanya', 'kazi', 'ya', 'kiufundi', 'au', 'ya', 'suluba', '.', \"''\", 'Wanasayansi', 'wanaamini', 'kwamba', 'jina', 'huathiri', 'uamuzi', 'wa', 'mambo', 'mengi', 'maishani', 'Kwa', 'mfano', 'mahali', 'atakoishi', 'mtu', ',', 'atakayemuoa', ',', 'na', 'alama', 'atakazopata', 'shuleni', '.', 'Unaweza', 'pia', 'kutazama', ':', 'Huwezi', 'kusikiliza', 'tena', 'Maelezo', 'ya', 'video', ',', 'Kusherehekea', 'utamaduni', 'na', 'utangamano', 'pwani', 'ya', 'Kenya', '``', 'Jamii', 'nyingi', 'za', 'Kiafrika', 'huamini', 'kwamba', 'jina', 'ni', 'kitu', 'Tu', 'cha', 'kumtambulisha', 'mtoto', ',', 'na', 'haina', 'athari', 'zozote', \"''\", 'Perpetual', 'Wanyugi', '.', 'Barani', 'Afrika', 'kumekuwepo', 'na', 'visa', 'vingi', 'ambavyo', 'vimeshuhudiwa', 'wakati', 'wa', 'uchaguzi', 'katika', 'mataifa', 'mengi', 'ambapo', 'kabila', 'nyingi', 'hulazimika', 'kuyahama', 'makazi', 'yao', 'kutokana', 'na', 'hofu', 'ya', 'kuvamiwa', 'na', 'makabila', 'yanayodai', 'kumiliki', 'sehemu', 'hizo', '.', 'Huenda', 'hii', 'ikawa', 'ndiyo', 'sababu', 'kuu', 'ya', 'kuwafanya', 'watu', 'katika', 'karne', 'hii', 'kuiga', 'mtindo', 'tofauti', 'lakini', 'wanasayansi', 'wanashauri', 'kwamba', 'watoto', 'wapewe', 'majina', 'ambayo', 'Yana', 'maana', 'nzuri', 'ili', 'kuwawezesha', 'kuafikia', 'mambo', 'makuu', 'na', 'kuwafanya', 'kujiamini', 'maishani', '.']\n",
      "\n",
      " Number of Words:  878\n"
     ]
    }
   ],
   "source": [
    "file=\"19aug23_1.txt\"\n",
    "\n",
    "# calling the function and storing the contents in a text variable \n",
    "text = get_document(\"https://www.bbc.com/swahili/habari-49437352\")\n",
    "\n",
    "# calling the store_ document function \n",
    "store_document(doc=text,name=file)\n",
    "\n",
    "#add the words in this file to the total_corpus_words, to keep count of the number of words in the corpus\n",
    "total_corpus_words+=total_words(file)"
   ]
  },
  {
   "cell_type": "code",
   "execution_count": 32,
   "metadata": {},
   "outputs": [
    {
     "data": {
      "text/plain": [
       "137478"
      ]
     },
     "execution_count": 32,
     "metadata": {},
     "output_type": "execute_result"
    }
   ],
   "source": [
    "total_corpus_words"
   ]
  },
  {
   "cell_type": "code",
   "execution_count": 33,
   "metadata": {},
   "outputs": [
    {
     "name": "stdout",
     "output_type": "stream",
     "text": [
      "['Sensa', '2019', ':', 'Kenya', 'yaanza', 'zoezi', 'la', 'kuhesabu', 'watu', 'Kenya', 'imeanza', 'zoezi', 'la', 'kuhesabu', 'watu', 'yaani', 'sensa', '.', 'Serikali', 'hutumia', 'shughuli', 'hii', 'ili', 'kujua', 'jinsi', 'ya', 'kupanga', 'na', 'kukadiria', 'matumizi', 'ya', 'raslimali', 'na', 'fedha', 'lakini', 'pia', 'wanasiasa', 'hutumia', 'idadi', 'ya', 'watu', 'na', 'maeneo', 'walioko', 'kutathmini', 'azma', 'zao', 'za', 'kisiasa', 'Maelezo', 'ya', 'picha', ',', 'Mafisa', 'wa', 'usalama', 'pamoja', 'na', 'maafisa', 'wa', 'kuhesabu', 'watu', 'mudamfupi', 'kabla', 'ya', 'kuanza', 'kwa', 'shughuli', 'ya', 'sensa', 'ya', 'kitaifa', 'katika', 'eneo', 'la', 'Ngong', 'viungani', 'mwa', 'mji', 'Mkuu', 'wa', 'Nairobi', '.', 'Maelezo', 'ya', 'picha', ',', 'Maafisa', 'wakuhesabui', 'watu', 'muda', 'mfupi', 'kabla', 'ya', 'kuanza', 'kwa', 'shughuli', 'ya', 'sensa', 'ya', 'kitaifa', 'nchini', 'Kenya', '.', 'Maelezo', 'ya', 'picha', ',', 'Usalama', 'umeimarishwa', 'kama', 'alivyoahidi', 'Waziri', 'wa', 'Usalama', 'wa', 'ndani', 'Dk', 'Fred', 'Matiang', \"'\", 'i', '.', 'Maelezo', 'ya', 'picha', ',', 'Baadhi', 'ya', 'maafisa', 'wa', 'sensa', 'wakipokea', 'maelezo', 'ya', 'mwisho', 'mwisho', 'muda', 'mfupi', 'kaba', 'ya', 'kuanza', 'kwa', 'shughuli', 'ya', 'kitaifa', 'ya', 'kuhesabu', 'watu', 'nchini', 'Kenya', '.', 'Maelezo', 'ya', 'picha', ',', 'Baadhi', 'ya', 'maafisa', 'wa', 'kuhesabu', 'watu', 'wakisubiri', 'maelezo', 'ya', 'mwisho', 'kabla', 'ya', 'kuelekea', 'katika', 'maeneo', 'waliopangiwa', 'kufanya', 'shughuli', 'ya', 'kuhesabu', 'watu', '.', 'Maelezo', 'ya', 'picha', ',', 'Loise', 'Leonita', 'afisa', 'wa', 'kuhesabu', 'ya', 'watu', 'akiwa', 'katika', 'harakati', 'ya', 'kujiandaakuelekea', 'katika', 'eneo', 'lake', 'la', 'kazi', '.', 'Maelezo', 'ya', 'picha', ',', 'Baadhi', 'ya', 'wananchi', 'jijini', 'Nairobi', 'wakielekea', 'nyumbani', 'kabla', 'ya', 'saa', 'kumi', 'na', 'mbili', 'jioni', 'kama', 'walivyoagizwa', 'iliwaaeze', 'kuhesabiwa', 'wakiwa', 'majumbani', 'mwao', '.', 'Maelezo', 'ya', 'picha', ',', 'Maeneo', 'ya', 'kuuza', 'pombe', 'yamefungwa', 'kama', 'ilivyoagizwa', 'iliwahudumu', 'wapate', 'kushiriki', 'zoezi', 'la', 'kitaifa', 'la', 'kuhesabu', 'watu', '.', 'Maelezo', 'ya', 'picha', ',', 'Baadhi', 'ya', 'watu', 'wa', 'kurandaranda', 'mitaani', 'wakisubiri', 'kuhesabiwa', 'Maelezo', 'ya', 'picha', ',', 'Kenya', 'itakuwa', 'nchi', 'ya', 'kwanza', 'barani', 'Afrika', 'kukusanya', 'data', 'ya', 'watu', 'wenye', 'jinsia', 'mbili', 'katika', 'sensa', 'ya', 'kitaifa', '.', 'Maelezo', 'ya', 'picha', ',', 'Raia', 'nchini', 'Kenya', 'wamekuwa', 'wakitumia', 'mitandao', 'ya', 'kijamii', 'kuelezea', 'kutoridhishwa', 'kwao', 'na', 'hatua', 'ya', 'kufunga', 'maeneo', 'ya', 'burudani', 'ili', 'kufanikisha', 'mpango', 'wa', 'kitaifa', 'wa', 'kuhesabu', 'watu', '.']\n",
      "\n",
      " Number of Words:  313\n"
     ]
    }
   ],
   "source": [
    "file=\"19aug24.txt\"\n",
    "\n",
    "# calling the function and storing the contents in a text variable \n",
    "text = get_document(\"https://www.bbc.com/swahili/habari-49460919\")\n",
    "\n",
    "# calling the store_ document function \n",
    "store_document(doc=text,name=file)\n",
    "\n",
    "#add the words in this file to the total_corpus_words, to keep count of the number of words in the corpus\n",
    "total_corpus_words+=total_words(file)"
   ]
  },
  {
   "cell_type": "code",
   "execution_count": 34,
   "metadata": {},
   "outputs": [
    {
     "data": {
      "text/plain": [
       "137791"
      ]
     },
     "execution_count": 34,
     "metadata": {},
     "output_type": "execute_result"
    }
   ],
   "source": [
    "total_corpus_words"
   ]
  },
  {
   "cell_type": "code",
   "execution_count": 35,
   "metadata": {},
   "outputs": [
    {
     "name": "stdout",
     "output_type": "stream",
     "text": [
      "['Bingwa', 'wa', 'mita', '800', 'duniani', 'David', 'Rudisha', 'ahusika', 'katika', 'ajali', 'mbaya', 'ya', 'barabarani', 'Kenya', 'Bwana', 'Rudisha', 'alikuwa', 'akiendesha', 'gari', 'lake', 'aina', 'ya', 'Toyota', 'V8', 'siku', 'ya', 'Jumapili', 'alfajiri', 'ambapo', 'tairi', 'lake', 'lilipasuka', 'karibu', 'na', 'mji', 'wa', 'Keroke', 'na', 'hivyobasi', 'kugongana', 'ana', 'kwa', 'ana', 'na', 'basi', 'moja', 'lililokuwa', 'likitokea', 'upande', 'wa', 'pili', '.', 'Ajali', 'hiyo', 'ya', 'mwendo', 'wa', 'saa', 'nne', 'na', 'nusu', 'ilitokea', 'katika', 'eneo', 'hatari', 'katika', 'barabara', 'kuu', 'ya', 'Kisii', 'Keroka', 'kulingana', 'na', 'gazeti', 'la', 'Daily', 'Nation', 'nchini', 'Kenya', '.', 'Bwana', 'Stephen', 'Ole', 'Marai', 'ambaye', 'ni', 'rafiki', 'a', 'Rudisha', 'na', 'jirani', 'alisema', 'kwamba', 'hali', 'ya', 'mwanariadha', 'huyo', 'haipo', 'hataraini', 'na', 'alitibiwa', 'katika', 'hospitali', 'moja', 'iliopo', 'Keroka', 'kabla', 'ya', 'kuhamishwa', 'katika', 'hospitali', 'ya', 'Kilgoris', '.', 'Katika', 'mitandao', 'ya', 'kijamii', 'Wakenya', 'walimwambia', 'pole', 'Rudisha', 'huku', 'wakiweka', 'picha', 'za', 'gari', 'lake', 'lililoharibika', 'vibaya', 'Bwana', 'Rudisha', 'anatoka', 'eneo', 'la', 'Kilgoris', 'kaunti', 'ya', 'naroko', '.', 'Rudisha', 'yuko', 'salama', ',', 'lakini', 'anauguza', 'majeraha', '.', 'Tunaondoka', 'Kilgoris', 'kueleka', 'kituo', 'cha', 'polisi', 'cha', 'Keroka', 'ambapo', 'atakutana', 'na', 'maafisa', 'wa', 'polisi', ',', 'alisema', 'bwana', 'Ole', 'Marai', 'akinukuliwa', 'na', 'gazeti', 'la', 'Daily', 'Nation', 'nchini', 'Kenya', '.', 'Gari', 'la', 'Rudisha', 'lililoharibiwa', 'vibaya', 'pamoja', 'na', 'basi', 'hilo', 'yalipelekwa', 'katika', 'kituo', 'cha', 'polisi', 'cha', 'Keroka', '.', 'Bingwa', 'huyo', 'mara', 'mbili', 'wa', 'Olimpiki', 'ametoweka', 'katika', 'riadhaa', 'kwa', 'muda', 'mrefu', 'sasa', '.', 'Je', 'kwa', 'nini', 'hashiriki', 'riadha', '?', 'Alitoweka', 'katika', 'riadha', 'huku', 'akikosa', 'misimu', 'miwili', 'mfululizo', 'kutokana', 'na', 'jeraha', 'ambalo', 'alikua', 'akiuguza', ',', 'lakini', 'hilo', 'halikuwanyamazisha', 'mashabiki', 'wake', 'duniani', 'ambao', 'wametaka', 'kujua', 'hali', 'yake', '.', 'Nawapenda', 'nyote', '.', 'Ujumbe', 'huo', 'ulionekana', 'kuzua', 'maswali', 'mengi', 'kuhusu', 'familia', 'yake', 'na', 'kutokuwepo', 'kwake', 'katika', 'riadha', '.', 'Ajenti', 'wa', 'Rudisha', 'Mitchel', 'Boeting', 'alikataa', 'kutoa', 'tamko', 'lolote', 'kuhusu', 'maswala', 'ya', 'kifamilia', 'ya', 'mwanariadha', 'huyo', '.', 'Aliambia', 'gazeti', 'la', 'The', 'Standard', 'nchini', 'Kenya', 'kutoka', 'Amstaerdam', ':', 'Siwezi', 'kuzungumzia', 'kuhusu', 'maswala', 'yao', 'ya', 'kifamilia', 'Sijui', 'hata', 'kuhusu', 'chapisho', 'hilo', '.', 'David', 'huenda', 'asishiriki', 'katika', 'riadha', 'msimu', 'huu', '.', 'Jeraha', 'lake', 'lilipona', 'na', 'likarudi', '.', 'Atachalewa', 'kurudi', 'msimu', 'huu', 'na', 'nadhani', 'atarudi', 'msimu', 'ujao', '.', 'Tunatumaini', 'kwamba', 'kila', 'kitu', 'kitakuwa', 'sawa', 'alinukuliwa', 'na', 'The', 'Standard', 'akisema', '.', 'Rudisha', 'ambaye', 'ni', 'bingwa', 'wa', 'michezo', 'ya', 'Olimpiki', 'ya', '2016', 'katika', 'mita', '800', 'hajashiriki', 'katika', 'riadha', 'michezo', 'ya', 'almasi', 'ya', '2017', 'iliofanyika', 'mjini', 'Shangahi', 'China', '.']\n",
      "\n",
      " Number of Words:  360\n"
     ]
    }
   ],
   "source": [
    "file=\"19aug25.txt\"\n",
    "\n",
    "# calling the function and storing the contents in a text variable \n",
    "text = get_document(\"https://www.bbc.com/swahili/michezo-49464382\")\n",
    "\n",
    "# calling the store_ document function \n",
    "store_document(doc=text,name=file)\n",
    "\n",
    "#add the words in this file to the total_corpus_words, to keep count of the number of words in the corpus\n",
    "total_corpus_words+=total_words(file)"
   ]
  },
  {
   "cell_type": "code",
   "execution_count": 36,
   "metadata": {},
   "outputs": [
    {
     "data": {
      "text/plain": [
       "138151"
      ]
     },
     "execution_count": 36,
     "metadata": {},
     "output_type": "execute_result"
    }
   ],
   "source": [
    "total_corpus_words"
   ]
  },
  {
   "cell_type": "code",
   "execution_count": 37,
   "metadata": {},
   "outputs": [
    {
     "name": "stdout",
     "output_type": "stream",
     "text": [
      "['Je', 'ni', 'kweli', 'Jumatatu', 'ni', 'siku', '``', 'isiyofurahisha', \"''\", '?', 'Tunashauriwa', 'kuacha', 'shughuli', 'zinazotuchosha', 'nyakati', 'za', 'wikendi', 'kama', 'vile', 'kunywa', 'pombe', 'kupindukia', 'ili', 'kujiandaa', 'kwa', 'ajili', 'ya', 'Jumatatu', 'ili', 'kuepuka', 'kuichukia', 'siku', 'ya', 'Jumatatu', 'Jumatatu', 'ni', 'siku', 'ya', 'kwanza', 'ya', 'mwanzo', 'wa', 'wiki', 'na', 'mara', 'nyingi', 'siku', 'hii', 'imekuwa', 'ni', 'adui', 'wa', 'wengi', 'ambaye', 'hazungumziwi', 'hususan', 'baada', 'ya', 'wengi', 'kufurahi', 'na', 'kujivinjari', 'katika', 'siku', 'zao', 'za', 'wikendi', 'Hata', 'hivyo', 'katika', 'enzi', 'hii', 'ya', 'mitandao', 'ya', 'kijamii', 'wengi', 'wamekuwa', 'wakipeleka', 'hisia', 'zao', 'juu', 'ya', 'siku', 'ya', 'Jumatatu', 'kwenye', 'mitandao', 'ya', 'kijamii', 'chini', 'ya', '#', 'MondayBlues', '...', 'ikimaanisha', '#', 'Huzuni', 'ya', 'Jumatatu', 'na', '#', 'MondayMotivation', ',', 'ikimaanisha', '#', 'MotishaJumatatu', 'na', 'Hashtag', 'hizi', 'hujitokeza', 'kila', 'Jumatatu', '.', 'Ni', 'ukweli', 'kwamba', 'hatuwezi', 'kuiepuka', 'siku', 'ya', 'Jumatatu', 'miongoni', 'mwa', 'siku', 'za', 'wiki', ',', 'watu', 'wanahitaji', 'kuamka', 'mapema', 'kutoka', 'kwenye', 'vitanda', 'vyao', 'na', 'kujikokota', 'na', 'kuanza', 'kazi', 'zao', 'za', 'siku', '.', 'Klabu', 'ya', 'Arsenal', 'pia', 'haikubaki', 'nyuma', 'kutoa', 'motisha', 'kwa', 'wachezaji', 'wake', 'kupitia', 'Hashtaginayotoa', 'Motisha', 'kwa', 'siku', 'ya', 'na', 'mashabiki', 'ikisema', 'Wiki', 'mpya', 'imeanza', '-', 'na', 'tunahesabu', 'siku', 'kuelekea', 'mechi', 'ya', 'kaskazini', 'mwa', 'London', 'Wanasaikolojia', 'wanasema', 'nini', 'juu', 'ya', 'hali', 'hii', '?', 'Wanasaikolojiwa', 'wa', 'masuala', 'ya', 'kijamii', 'wanashauri', 'kuwa', 'usikubali', 'hali', 'hii', 'inayokukera', 'kuhusishwa', 'na', 'Jumatatu', '.', 'Wanasema', 'siku', 'za', 'Jumatatu', 'zinapaswa', 'kukaribishwa', 'kwa', 'shauku', 'kubwa', ',', 'matumaini', 'na', 'nguvu', 'za', 'kutosha', '.', 'Mwanasaikolojia', 'Rosemary', 'Nyambura', 'kutoka', 'Kenya', 'anasema', 'hisia', 'za', 'mchoko', 'unapoanza', 'siku', 'ya', 'kazi', 'ya', 'Jumatatu', 'zinategemea', 'ni', 'kazi', 'gani', 'unayoifanya', 'jumatatu', ':', '``', 'Ni', 'maumbile', 'ya', 'kawaida', 'ya', 'mwili', 'wa', 'binadamu', 'kutaka', 'kuendelea', 'kufanya', 'kile', 'ambacho', 'umekuw', 'a', 'ukikifanya', 'kwamuda', ',', 'mfanyo', 'kama', 'umekuwa', 'katika', 'hali', 'ya', 'sherehe', ',', 'kunywa', 'pombe', 'au', 'hata', 'kupumzika', 'wakati', 'wa', 'wikendi', 'basi', 'mwili', 'utataka', 'uwe', 'na', 'mwendelezo', 'huo', 'huo', \"''\", ',', 'anasema', 'na', 'kuongeza', 'kuwa', 'mwili', 'huwa', 'hautaki', 'mabadiliko', '.', 'Chanzo', 'cha', 'picha', ',', 'Rose', 'Nyambura', 'Maelezo', 'ya', 'picha', ',', 'Mwanasaikolojia', 'Rose', 'Nyambura', 'Bi', 'Nyambura', 'anasema', 'kila', 'binadamu', 'hukosa', 'nguvu', 'za', 'kukabiliana', 'na', 'msukumo', 'asilia', 'wa', 'mwili', 'wa', 'binadamu', 'unaomtaka', 'aendelee', 'na', 'maisha', 'ambayo', 'amekuwa', 'nayo', 'kwa', 'kipindi', 'fulani', 'kikiwemo', 'kipindi', 'cha', 'mwishoni', 'mwa', 'juma', 'ambacho', 'watu', 'huingia', 'katika', 'utaratibu', 'tofauti', 'na', 'maisha', 'yao', 'ya', 'kikazi', 'na', 'badala', 'yake', 'kupumzika', '.', \"''Hali\", 'hii', 'inatuathiri', 'kama', 'binadamu', 'hasa', 'kwa', 'wale', 'wanaofanya', 'kazi', 'kwasababu', 'ukiwa', 'na', 'hali', 'ya', 'muendelezo', 'wa', 'maisha', 'ya', 'wikendi', 'huwezi', 'kufanya', 'kazi', 'ipasavyo', 'kama', 'inavyotakiwa', ',', 'kwasababu', 'huajaondoka', 'kutoka', 'maisha', 'ya', 'wikendi', ',', 'ndio', 'maana', 'utakuta', 'baadhi', 'ya', 'watu', 'Jumatatu', 'hawatimizi', 'malengo', 'ya', 'majukumu', 'yao', 'na', 'hivyo', 'kukosana', 'na', 'waajiri', 'ama', 'viongozi', 'wao', ',', 'anasema', 'mwanasaikolojia', 'Rosemary', 'Nyambura', '.', 'Maelezo', 'ya', 'picha', ',', 'Tunashauriwa', 'kuacha', 'shughuli', 'zinazotuchosha', 'nyakati', 'za', 'wikendi', 'kama', 'vile', 'kunywa', 'pombe', 'kupindukia', 'ili', 'kujiandaa', 'kwa', 'ajili', 'ya', 'Jumatatu', 'ili', 'kuepuka', 'kuichukia', 'siku', 'ya', 'Jumatatu', 'Kulingana', 'na', 'Bi', 'Nyambujra', 'hali', 'hii', 'huwafanya', 'baadhi', 'ya', 'watu', 'kuwa', 'wakimya', 'na', 'kutokuwa', 'na', 'mawasiliano', 'mazuri', 'na', 'wafanyakazi', 'wenzao', 'siku', 'za', 'Jumatatu', 'na', 'hali', 'hii', 'kupungua', 'katika', 'siku', 'nyingine', 'za', 'juma', '.']\n",
      "\n",
      " Number of Words:  475\n"
     ]
    }
   ],
   "source": [
    "file=\"19aug26.txt\"\n",
    "\n",
    "# calling the function and storing the contents in a text variable \n",
    "text = get_document(\"https://www.bbc.com/swahili/habari-49473668\")\n",
    "\n",
    "# calling the store_ document function \n",
    "store_document(doc=text,name=file)\n",
    "\n",
    "#add the words in this file to the total_corpus_words, to keep count of the number of words in the corpus\n",
    "total_corpus_words+=total_words(file)"
   ]
  },
  {
   "cell_type": "code",
   "execution_count": 38,
   "metadata": {},
   "outputs": [
    {
     "data": {
      "text/plain": [
       "138626"
      ]
     },
     "execution_count": 38,
     "metadata": {},
     "output_type": "execute_result"
    }
   ],
   "source": [
    "total_corpus_words"
   ]
  },
  {
   "cell_type": "code",
   "execution_count": 39,
   "metadata": {},
   "outputs": [
    {
     "name": "stdout",
     "output_type": "stream",
     "text": [
      "['Mutua', 'ametaja', 'kitendo', 'cha', 'viongozi', 'wa', 'kitaifa', 'wanaodensi', 'nyimbo', 'hizo', 'hadharani', 'kama', \"'aibu\", \"'\", 'kubwa', '``', 'Nyimbo', 'za', 'Tetema', 'na', 'Wamlambez', 'zinazuiwa', 'kuchezwa', 'nje', 'ya', 'vilabu', 'na', 'baa', '.', 'Inatia', 'aibu', 'kuwaona', 'hata', 'viongozi', 'wa', 'kitaifa', 'wakidensi', 'na', 'kuimba', 'nyimbo', 'za', 'aibu', 'mbele', 'ya', 'hadharani', '.', 'Chanzo', 'cha', 'picha', ',', 'Dr', 'Alfred', 'Mutua/', 'Facebook', '``', 'Maneno', 'katika', 'nyimbo', 'hizo', 'ni', 'uchafu', 'na', 'hayafai', 'kusikilizwa', 'hadharani', 'hususan', 'mahali', 'ambapo', 'kuna', 'watoto', 'wanaoweza', 'kuwa', 'wanasikiliza', 'maneno', 'au', 'kuona', 'mtu', 'akicheza', '.', 'Nyimbo', 'zote', 'mbili', 'ni', 'ponografia', 'halisi', ',', \"''\", 'ameandika', 'bwana', 'Mutua', '.', '``', 'Japo', 'hatuzipigi', 'marufuku', 'kwasababu', 'zinaimbwa', 'kwa', 'mtindo', 'wa', 'mafumbo', ',', 'ni', 'muhimu', 'kwa', 'umma', 'kufahamu', 'kuwa', 'nyimbo', 'hizi', 'ni', 'chafu', ',', 'na', 'hazifai', 'kuchezwa', 'mahala', 'penye', 'mchanganyiko', 'wa', 'watu', 'wa', 'rika', 'tofauti', '.', 'Acha', 'zipigwe', 'kwenye', 'vilabu', ',', 'kwa', 'ajioli', 'ya', 'watu', 'wazima', 'pekee', '!', \"''\", 'aliandika', '.', 'Hata', 'hivyo', 'haijafahamika', 'ni', 'vipi', 'agizo', 'la', 'Bwana', 'Mutua', 'litatekelezwa', 'na', 'bodi', 'ya', 'udhibiti', 'wa', 'maudhui', 'ya', 'kiusanii', '.', 'Baadhi', 'ya', 'Wakenya', 'wamepeleka', 'hisia', 'zao', 'kwenye', 'mitandao', 'ya', 'kijamii', 'kuhusiana', 'na', 'kupigwa', 'marufuku', 'nyimbo', 'hizi', 'katika', 'maeneo', 'mengine', 'nje', 'ya', 'vilabu', 'na', 'baa', ':', 'Nae', 'Kelly', 'Simba', 'anasema', 'kwenye', 'ukurasa', 'wake', 'wa', 'Twitter', 'kuwa', 'kile', 'zekiel', 'Mutua', 'anachokisahau', 'kila', 'mara', 'ni', 'kwamba', 'huwezi', 'kuzuwia', 'muziki', 'katika', 'karne', 'ya', '21', '.', 'Akiongeza', 'kuwa', '``', 'Wamlambez', 'haiwezi', 'kuzuwiwa', 'kwasababu', 'ni', 'kujieleza', 'kwetu', '.', 'Eti', 'ni', 'ponografia', ',', 'ninamaanisha', 'kuwa', 'kati', 'ya', 'wavuti', 'kuu', '10', 'nchini', 'kenya', ',', '3', 'ni', 'za', 'ponografia', \"''\", 'anasema', 'Kelly', 'Simba', 'kwenye', 'ujumbe', 'wa', 'Twitter', 'Akizungumza', 'na', 'BBC', ',', 'Meneja', 'wa', 'Sailors-Mwalimu', 'Racheal', 'amasema', 'uamuzi', 'uliotolewa', 'na', 'Bwana', 'Mutua', 'ni', 'mtazamo', 'wake', 'binafsi', 'na', 'kuongeza', 'kuwa', 'kila', 'wimbo', 'duniani', 'huwa', 'na', 'sehemu', 'ya', 'mafumbo', 'na', 'anasema', '``', 'Wamlambezi', \"''\", 'uliimbwa', 'kwa', 'kuzingatia', 'taratibu', 'zote', 'za', 'kimuziki', '.', 'Sailors', 'Wameahidi', 'kuendelea', 'kutoa', 'nyimbo', 'kwa', 'ajili', 'ya', 'mashabiki', 'wao', ':', 'Chanzo', 'cha', 'picha', ',', 'Sailors', 'Maelezo', 'ya', 'picha', ',', 'Kikundi', 'cha', 'wanamuziki', 'wa', 'Sailors', 'kilichoimba', 'wimbo', 'Wamlambez', ',', 'kinasema', 'kitaendelea', 'kutoa', 'nyimbo', 'mpya', 'kwa', 'ajili', 'ya', 'mashabiki', 'wao', 'licha', 'ya', 'Wamlambez', 'kupigw', 'amarufuku', 'Hii', 'si', 'mara', 'ya', 'kwanza', 'kwa', 'Bwana', 'Mutua', 'kupiga', 'marufuku', 'nyimbo', 'za', 'wasanii', 'hususana', 'wa', 'muziki', 'wa', 'kizazi', 'kipya', 'kwa', 'madai', 'kwamba', 'maudhui', 'ya', 'nyimbo', 'zao', 'yamejaa', 'matusi', ',', 'phonografia', 'na', 'yasiyokuwa', 'na', 'maadili', '.', 'Mwezi', 'Aprili', 'Bwana', 'Mutua', 'alipiga', 'marufuku', 'wimbo', 'Takataka', ',', 'ambao', 'alisema', 'kuwa', 'unawatusi', 'wanawake', '.', 'Bwana', 'Mutua', 'aliuelezea', 'wikmbo', 'huo', 'ulioimbwa', 'na', 'msanii', 'Alvin', 'almaarufu', 'Alvindo', 'uliozalishwa', 'na', 'kampuni', 'ya', 'FastCash', 'Music', 'Group', 'kama', 'wa', 'kishamba', 'na', 'wenye', 'matusi', 'na', 'kuongeza', 'kuwa', '``', 'kama', 'watu', 'wanaowajibika', 'hatuwezi', 'kuukubali', '.', \"''\", 'Chanzo', 'cha', 'picha', ',', 'DiamondPlatnumz', 'Instagram', 'Licha', 'ya', 'kupigwa', 'marufuku', 'nchini', 'Kenya', ',', 'kwenye', 'ukurasa', 'wake', 'wa', 'Instagram', 'mmiliki', 'wa', 'kampuni', 'ya', 'muziki', 'ya', 'Wasafi-', 'Diamond', 'Platnumz', ',', 'kwenye', 'ujumbe', 'wake', 'wa', 'Instagram', 'Jumanne', 'amesifia', 'kuendelea', 'kuvuma', 'kwa', 'wimbo', '``', 'Tetema', \"''\", ':', 'Katika', 'miaka', 'ya', 'hivi', 'karibuni', 'wanasanii', 'katika', 'mataifa', 'ya', 'nchi', 'za', 'Afrika', 'mashariki', 'wamekuwa', 'wakikabiliwa', 'na', 'hatua', 'za', 'mamlaka', 'husika', 'na', 'maudhui', 'ya', 'muziki', 'na', 'kuwekewa', 'marufuku', 'ya', 'kazi', 'zao', '.', 'Kibao', 'kipya', 'kiitwacho', ',', 'Mwanza', ',', 'kilichotolewa', 'na', 'wasanii', 'mashuhuri', 'Tanzania', 'Rayvanny', 'na', 'Diamond', 'Platnumz', 'kilipigwa', 'marufuku', 'na', 'Baraza', 'la', 'Sanaa', 'la', 'Taifa', '(', 'Basata', ')', 'mwezi', 'Disemba', '2018', '.', 'Katika', 'taarifa', 'kwa', 'umma', 'iliyotolewa', 'leo', 'Novemba', '12', 'Katibu', 'Mtendaji', 'wa', 'Basata', 'Godfrey', 'Mngereza', ',', 'sababu', 'kuu', 'ya', 'kufungiwa', 'wimbo', 'huo', 'ni', 'ukiukwaji', 'mkubwa', 'wa', 'maadili', 'ya', 'Kitanzania', 'kwa', '``', 'kutumia', 'maneno', 'yanayohamasisha', 'ngono', '.', \"''\", 'Basata', 'pia', 'ilionya', 'vyombo', 'vya', 'habari', ',', 'na', 'watu', 'binafsi', 'kutoutumia', ',', 'kuucheza', 'ama', 'kuusambaza', 'wimbo', 'huo', 'kwa', 'namna', 'yoyote', 'ile', '.', 'Nchini', 'Tanzania', 'Baraza', 'la', 'Sanaa', 'Tanzania', '(', 'Basata', ')', 'liliwawafungia', 'kazi', 'zao', 'wanamuziki', 'nyota', 'wa', 'Bongo', 'flava', 'Diamond', 'Platnumz', 'na', 'Rayvany', 'baada', 'ya', 'kutumbuiza', 'kibao', 'kilichofungiwa', ':', 'Wimbo', 'mpya', 'wa', 'Rayvanny', ',', 'Diamond', 'Platnumz', 'wafungiwa']\n",
      "\n",
      " Number of Words:  615\n"
     ]
    }
   ],
   "source": [
    "file=\"19aug27.txt\"\n",
    "\n",
    "# calling the function and storing the contents in a text variable \n",
    "text = get_document(\"https://www.bbc.com/swahili/habari-49483180\")\n",
    "\n",
    "# calling the store_ document function \n",
    "store_document(doc=text,name=file)\n",
    "\n",
    "#add the words in this file to the total_corpus_words, to keep count of the number of words in the corpus\n",
    "total_corpus_words+=total_words(file)"
   ]
  },
  {
   "cell_type": "code",
   "execution_count": 40,
   "metadata": {},
   "outputs": [
    {
     "data": {
      "text/plain": [
       "139241"
      ]
     },
     "execution_count": 40,
     "metadata": {},
     "output_type": "execute_result"
    }
   ],
   "source": [
    "total_corpus_words"
   ]
  },
  {
   "cell_type": "code",
   "execution_count": 41,
   "metadata": {},
   "outputs": [
    {
     "name": "stdout",
     "output_type": "stream",
     "text": [
      "['Adhabu', 'kali', 'zaidi', 'kuwahi', 'kutolewa', 'kufikia', 'sasa', 'imekuwa', 'dhidi', 'ya', 'mtengenezaji', 'mifuko', 'hiyo', 'aliyehukumiwa', 'kifungo', 'cha', 'mwaka', 'mmoja', 'gerezani', 'asi', 'kutozwa', 'faini', 'kwa', 'mujibu', 'wa', 'bwana', 'Mamo', '.', 'Anasema', 'marufuku', 'hiyo', 'imekuwa', 'na', 'athari', 'kubwa', '-', 'kiasi', 'cha', 'kwamba', 'wachinjaji', 'wanapata', 'mifuko', 'michache', 'katika', 'matumbo', 'ya', \"ng'ombe\", '.', 'Mashirika', 'ya', 'mazingira', 'pia', 'yamesifia', 'hatua', 'hiyo', 'nchini', '.', '``', 'Ni', 'hatua', 'nzuri', 'iliyopigwa', ',', 'iwapo', 'tunayoyaona', 'ni', 'ya', 'kuaminiwa', '.', 'Awali', 'unaposafiri', 'kutoka', 'nairobi', 'kwenda', 'sehemu', 'kama', 'Masai', 'Mara', 'ungeona', 'mifuko', 'ya', 'plstiki', \"ikining'inia\", 'kutoka', 'kwenye', 'miti', 'kama', 'maua', 'baada', 'ya', 'kupeperushwa', 'na', 'upepo', 'na', 'kukwama', '.', 'hatuyaoni', 'tena', ',', \"''\", 'anasema', 'Nancy', 'Githaiga', ',', 'mtafiti', 'kutoka', 'shirika', 'la', 'WWF', '.', 'Chanzo', 'cha', 'picha', ',', 'Getty', 'Images', 'Maelezo', 'ya', 'picha', ',', 'Serikali', 'inasema', 'mifuko', 'michache', 'inapatikana', 'katika', 'matumbo', 'ya', \"ng'ombe\", 'Kwa', 'kiasi', 'kikubwa', 'marufuku', 'hiyo', 'inaonekana', 'kuwnaa', 'ufanisi', 'licha', 'ya', 'kwamba', 'aina', 'fulani', 'ya', 'mifuko', 'ya', 'plastiki', 'bado', 'inatumika', 'kwa', 'kiasi', 'fulani', '.', 'Huku', 'maduka', 'makubwa', 'na', 'mengine', 'ya', 'reja', 'reja', 'yakiwa', 'yameacha', 'kutoa', 'mifuko', 'hiyo', ',', 'wachuuzi', 'wadogo', 'wadogo', 'wamekuwa', 'wakitumia', 'mifuko', 'midogo', 'iliyotengenezwa', 'kwa', 'plastiki', 'ya', 'wazi', '.', 'Na', 'kuna', 'ishara', 'kwamba', 'zinaingizwa', 'kimagendo', 'nchini', 'kutoka', 'mataifa', 'jirani', 'ya', 'Uganda', 'na', 'Somalia', '.', '``', 'Kuna', 'uwezekano', 'mkubwa', 'kwa', 'bidhaa', 'haramu', 'kuingia', 'katika', 'soko', 'la', 'Kenya', 'kutokana', 'na', 'mipaka', 'yetu', 'na', 'mamauzi', 'ya', 'sera', 'za', 'nchi', 'kuhusu', 'matumizi', 'ya', 'mifuko', 'ya', 'plastiki', 'ambayo', 'marufuku', 'haikuidhinishwa', 'katika', 'kiwango', 'cha', 'kieneo', '.', 'Biashara', 'haramu', 'ni', 'changamoto', 'kubwa', 'nchini', ',', \"''\", 'inasema', 'muungano', 'wa', 'watengenezaji', 'bidhaa', 'Kenya', '(', 'Kam', ')', '.', 'Serikali', 'inakabiliwa', 'na', 'matatizo', 'mapya', '.', 'Polypropylene', 'ni', 'aina', 'ya', 'plastiki', 'ambayo', 'ni', 'rahisi', 'kuitumia', 'tena', 'kuliko', 'ile', 'ya', 'polythene', ',', 'plastiki', 'inayotumiwa', 'pakubwa', 'katika', 'utengenezaji', 'mifuko', '.', 'Chanzo', 'cha', 'picha', ',', 'Getty', 'Images', 'Hatahivyo', 'shirika', 'la', 'mazingira', 'Kenya', 'Nema', 'limegundua', 'kuwa', 'watengenezaji', 'walianza', 'kwa', 'haraka', 'kupunguza', 'ubora', 'wa', 'viwango', 'vya', 'mifuko', 'hii', ',', 'na', 'kuongeza', 'polythene', 'kiasi', 'cha', 'kwamba', 'haiwezi', 'kutumika', 'tena', '.', '``', 'Matumizi', 'ya', 'mara', 'mojaya', 'mifuko', 'hii', 'ilichangia', 'madhara', 'kwa', 'mazingira', 'kutokana', 'na', 'mbinu', 'mbaya', 'za', 'kuyaharibu', 'inayoshuhudiwa', 'hivi', 'sasa', 'nchini', 'pamoja', 'na', 'ukosefu', 'wa', 'miundombinu', 'sahihi', 'kudhibiti', 'mifuko', 'hiyo', ',', \"''\", 'Nema', 'inasema', '.', 'Serikali', 'baada', 'yahapo', 'ikapiga', 'marufuku', 'mifuko', 'ya', 'polypropylene', 'Machi', 'mwaka', 'huu', '2019', 'mpaka', 'pale', 'patakapo', 'idhinishwa', 'mifuko', 'ya', 'kiwango', 'cha', 'ubora', '.', 'Lakini', 'watengenezaji', 'na', 'wachuuzi', 'wa', 'mifuko', 'hiyo', 'walipinga', 'agizo', 'hilo', 'na', 'marufuku', 'hiyo', 'ikabatilishwa', ',', 'na', 'mifuko', 'hiyo', 'ya', 'polypropylene', 'ingali', 'inatumika', 'hivi', 'sasa', 'nchini', '.', 'Kam', 'linasema', 'marufuku', 'ya', 'mifuko', 'ya', 'plastiki', 'ilichangia', 'hasara', 'ya', 'kibiashara', ',', 'uwekezaji', 'na', 'kupotea', 'kwa', 'masoko', 'kutokana', 'na', 'kwamba', 'baadhiya', 'watengenezaji', 'walifunga', 'biashara', 'zao', 'na', 'wengine', 'kuhamia', 'katika', 'mataifa', 'mengine', '.', 'Lakini', 'pia', 'imeleta', 'nafasi', 'za', 'biashara', '.', '``', 'Makampuni', 'ya', 'kutenegeza', 'mifuko', 'kidogo', 'iliosalia', 'ya', 'plastiki', 'imepanua', 'shughuli', 'zao', 'na', 'kuanza', 'kutenegenza', 'mifuko', 'ya', 'vitambara', ',', 'na', 'mifuko', 'ya', 'karatasi', 'miongoni', 'mwa', 'aina', 'nyingine', ',', \"''\", 'Afisa', 'wa', 'mawasiliano', 'wa', 'Kam', 'Grace', 'Mbogo', 'ameiambia', 'BBC', '.', '``', 'Hatahivyo', ',', 'kiwango', 'cha', 'uzalishaji', 'kinasalia', 'kuwa', 'chini', 'kutokana', 'na', 'uhaba', 'kwa', 'bidhaa', 'ghafi', 'ndani', 'ya', 'nchi', '.', \"''\"]\n",
      "\n",
      " Number of Words:  493\n"
     ]
    }
   ],
   "source": [
    "file=\"19aug28_1.txt\"\n",
    "\n",
    "# calling the function and storing the contents in a text variable \n",
    "text = get_document(\"https://www.bbc.com/swahili/habari-49492733\")\n",
    "\n",
    "# calling the store_ document function \n",
    "store_document(doc=text,name=file)\n",
    "\n",
    "#add the words in this file to the total_corpus_words, to keep count of the number of words in the corpus\n",
    "total_corpus_words+=total_words(file)"
   ]
  },
  {
   "cell_type": "code",
   "execution_count": 42,
   "metadata": {},
   "outputs": [
    {
     "data": {
      "text/plain": [
       "139734"
      ]
     },
     "execution_count": 42,
     "metadata": {},
     "output_type": "execute_result"
    }
   ],
   "source": [
    "total_corpus_words"
   ]
  },
  {
   "cell_type": "code",
   "execution_count": 43,
   "metadata": {},
   "outputs": [
    {
     "name": "stdout",
     "output_type": "stream",
     "text": [
      "['Kenya', ':', 'Wakazi', 'wa', 'Turkana', 'walalamikia', 'kutonufaika', 'na', 'mafuta', 'Kampuni', 'ya', 'Tullow', 'ilipogundua', 'mafuta', 'kusini', 'mwa', 'bonde', 'la', 'Lokichar', 'mwaka', '2012', ',', 'wenyeji', 'walidhani', 'kwamba', 'eneo', 'hilo', 'lililotengwa', 'hatimaye', 'litaanza', 'kustawi', '.', 'Inasemekana', 'kwamba', 'bonde', 'hilo', 'lina', 'uwezo', 'wa', 'kutoa', 'mapipa', 'milioni', '560', 'ya', 'mafuta', 'katika', 'vyanzo', 'ilivyo', 'navyo', '.', 'Lakini', 'miaka', 'saba', 'baadaye', ',', 'wenyeji', 'bado', 'hawajapata', 'manufaa', 'ya', 'kuridhisha', '.', 'Hivi', 'karibuni', 'Rais', 'Kenyatta', 'alizindua', 'shehena', 'ya', 'bareli', '240,000', 'ambayo', 'iliuzwa', 'kwa', 'dola', 'milioni', '12', '.', 'Wenyeji', 'wa', 'eneo', 'la', 'Lokitoeliwo', 'lililopatikana', 'mafuta', ',', 'walilitumia', 'kulisha', 'mifugo', 'lakini', 'kwa', 'sasa', 'linatumika', 'kwa', 'uchimbaji', 'wa', 'bidhaa', 'hiyo', 'kwenye', 'visima', 'vya', 'eneo', 'la', 'Ngamia', 'ambalo', 'wanadai', 'kukumbana', 'na', 'ukosefu', 'wa', 'maji', ',', 'umaskini', 'na', 'njaa', '.']\n",
      "\n",
      " Number of Words:  116\n"
     ]
    }
   ],
   "source": [
    "file=\"19aug28_2.txt\"\n",
    "\n",
    "# calling the function and storing the contents in a text variable \n",
    "text = get_document(\"https://www.bbc.com/swahili/habari-49492622\")\n",
    "\n",
    "# calling the store_ document function \n",
    "store_document(doc=text,name=file)\n",
    "\n",
    "#add the words in this file to the total_corpus_words, to keep count of the number of words in the corpus\n",
    "total_corpus_words+=total_words(file)"
   ]
  },
  {
   "cell_type": "code",
   "execution_count": 44,
   "metadata": {},
   "outputs": [
    {
     "data": {
      "text/plain": [
       "139850"
      ]
     },
     "execution_count": 44,
     "metadata": {},
     "output_type": "execute_result"
    }
   ],
   "source": [
    "total_corpus_words"
   ]
  },
  {
   "cell_type": "code",
   "execution_count": 45,
   "metadata": {},
   "outputs": [
    {
     "name": "stdout",
     "output_type": "stream",
     "text": [
      "['Raia', 'mwenye', 'ulemavu', 'wa', 'Kenya', 'ameilaumu', 'Ethiopian', 'Airlines', 'kumpuuza', 'Bwana', 'Hassan', 'amesema', 'kuwa', 'tikiti', 'yake', 'inaonyesha', 'wazi', 'kuwa', 'yeye', 'ni', 'mtumiaji', 'wa', 'kiti', 'cha', 'magurudumu', 'ambaye', 'alikuwa', 'akisafiri', 'peke', 'yake', 'Mkenya', 'aliye', 'na', 'ulemavu', ',', 'amelilaumu', 'shirika', 'la', 'ndege', 'la', 'Ethiopia', ',', 'baada', 'ya', 'aliachwa', 'na', 'wafanyakazi', 'wa', 'uwanja', 'wa', 'ndege', 'ambao', 'walikataa', 'kumsaidia', 'kupanda', 'ndege', 'kutoka', 'uwanja', 'wa', 'Jomo', 'Kenyatta', ',', 'Nairobi', ',', 'kwenda', 'Marekani', '.', 'Katika', 'ukurusa', 'wake', 'wa', 'twitter', 'na', 'Facebook', ',', 'mwandishi', 'na', 'mwaharakati', 'na', 'haki', 'za', 'walemavu', 'Harun', 'Hassan', 'alisema', 'alidhalilishwa', '``', 'bila', 'kujali', \"''\", ',', 'huku', 'mfanyakazi', 'mmoja', 'akimwambia', ':', '``', 'Tafadhali', ',', 'hatuna', 'msaada', 'kwa', 'mtu', 'mwenye', 'mlemavu', 'anayesafiri', 'peke', 'yake', '.', '``', 'Bwana', 'Hassan', 'amesema', 'kuwa', 'tikiti', 'yake', 'inaonyesha', 'wazi', 'kuwa', 'yeye', 'ni', 'mtumiaji', 'wa', 'kiti', 'cha', 'magurudumu', 'ambaye', 'alikuwa', 'akisafiri', 'peke', 'yake', '.', '``', 'Waliniacha', 'peke', 'yangu', 'na', 'kunitekeleza', ',', \"''\", 'aliandika', '.', '``', 'Kwa', 'kweli', 'hii', 'inakwenda', 'kinyume', 'na', 'sera', 'na', 'miongozo', 'ya', 'Mamlaka', 'ya', 'Uwanja', 'wa', 'Ndege', 'wa', 'Kenya', 'na', 'sheria', 'zingine', 'za', 'kusafiri', 'za', 'walemavu', 'za', 'kimataifa', 'ambazo', 'ndege', 'hii', 'inatakiwa', 'kuzifuata', ',', \"''\", 'alisema', '.', 'Karibu', 'saa', '10', 'baada', 'ya', 'kuposti', 'maoni', 'yake', ',', 'ndege', 'ya', 'Ethiopian', 'Airlines', 'ilimfikia', ',', 'ikaomba', 'msamaha', 'na', 'kumuomba', 'aendelee', 'na', 'safari', 'yake', 'ya', 'economy', 'class', '.', 'Lakini', 'alisema', 'kuwa', 'shirika', 'hilo', 'la', 'ndege', 'lilimtaka', 'atoe', 'maadhishi', 'yake', 'kwenye', 'mitandao', 'ya', 'kijamii', 'ya', 'Twitter', 'na', 'Facebook', 'kuhusu', 'tukio', 'hilo', '.', 'Bwana', 'Hassan', 'alisema', 'kuwa', 'ameamua', 'kusafiri', 'kwa', 'ndege', 'nyingine', 'kwenda', 'Washington', 'DC', '.', 'Mwanaharakati', 'alisema', 'hii', 'ni', 'mara', 'ya', 'kwanza', 'kwake', 'kuchapisha', 'hadharani', 'juu', 'ya', '``', 'ukosefu', 'wa', 'haki', \"''\", 'ambao', 'mara', 'nyingi', 'amekuwa', 'akikabilina', 'nao', '.', '``', 'Kwa', 'kweli', 'kila', 'siku', 'mimi', 'hukutana', 'na', 'changamoto', 'na', 'ubaguzi', '-', 'nyingine', 'zenye', 'kusikitisha', 'zaidi', 'ya', 'hii', '.', 'Lakini', ',', 'ujumbe', 'huu', 'nimeutuma', 'kwa', 'ajili', 'ya', 'mamilioni', 'ya', 'watu', 'wengine', 'ambao', 'hhubaguliwa', 'sababu', \"'muonekano\", \"'\", 'wao', 'ni', 'tofauti', 'na', 'sisi', '.', \"''\", 'aliogeza', '.', 'Chanzo', 'cha', 'picha', ',', 'Harun', 'Hassan', '/', 'Twitter', 'Maelezo', 'ya', 'picha', ',', 'Mwaharakati', 'na', 'haki', 'za', 'walemavu', 'Harun', 'Hassan', 'Alisema', 'kuwa', 'anapenda', 'kuunda', 'jamii', 'yenye', 'umoja', 'zaidi', ':', '``', 'Ulimwengu', 'unaojumuisha', 'ni', 'ulimwengu', 'bora', 'kwa', 'wote', ',', 'amesema', '.', 'Baadae', 'Shirika', 'la', 'ndege', 'la', 'Ethiopia', 'kupitia', 'ukurasa', 'wa', 'Twitter', 'lilimuomba', 'msamaha', 'kwa', 'masaibu', 'aliyoyapitia', ',', 'na', 'kuahidi', 'kuwasiliana', 'na', 'kufanya', 'uchunguzi', 'juu', 'ya', 'tukio', 'hilo', '.']\n",
      "\n",
      " Number of Words:  376\n"
     ]
    }
   ],
   "source": [
    "file=\"19aug28_3.txt\"\n",
    "\n",
    "# calling the function and storing the contents in a text variable \n",
    "text = get_document(\"https://www.bbc.com/swahili/habari-49496306\")\n",
    "\n",
    "# calling the store_ document function \n",
    "store_document(doc=text,name=file)\n",
    "\n",
    "#add the words in this file to the total_corpus_words, to keep count of the number of words in the corpus\n",
    "total_corpus_words+=total_words(file)"
   ]
  },
  {
   "cell_type": "code",
   "execution_count": 46,
   "metadata": {},
   "outputs": [
    {
     "data": {
      "text/plain": [
       "140226"
      ]
     },
     "execution_count": 46,
     "metadata": {},
     "output_type": "execute_result"
    }
   ],
   "source": [
    "total_corpus_words"
   ]
  },
  {
   "cell_type": "code",
   "execution_count": 47,
   "metadata": {},
   "outputs": [
    {
     "name": "stdout",
     "output_type": "stream",
     "text": [
      "['Vipimo', 'kwenye', 'maabara', 'maalumu', 'za', 'kudhibiti', 'ubora', 'vilionesha', 'baadhi', 'ya', 'dawa', 'hizo', 'hazikuwa', 'na', 'viungo', 'muhimu', 'vinavyohitajika', 'na', 'vilivyoorodheshwa', 'kwemye', 'makasha', '.', 'Pia', 'kulikuwa', 'na', 'makosa', 'kwenye', 'upakiaji', 'na', 'maandisi', 'ya', 'dawa', 'hizo', '.', 'Kampuni', 'ya', 'GlaxoSmithKline', 'imekanusha', 'vikali', 'kuhusika', 'na', 'uzalishwaji', 'wa', 'dawa', 'hizo', 'bandia', '.', 'Dawa', 'hizo', 'bandia', 'pia', 'inasemekana', 'zipo', 'sokoni', 'nchini', 'Uganda', '.', 'Hakuna', 'madhara', 'makubwa', 'yaliyoripotiwa', 'kutokea', 'na', 'WHO', 'mpaka', 'sasa', '.', 'Tayari', 'nambari', 'za', 'utambulisho', 'za', 'dawa', 'hizo', 'feki', 'zimeshatolewa', ',', 'na', 'WHO', 'pia', 'imewataka', 'wale', 'wote', 'watakaogundua', 'kuwa', 'walitumia', 'dawa', 'hizo', 'kwenda', 'kwa', 'daktari', 'na', 'kisha', 'kuripoti', 'katika', 'Wizara', 'ya', 'Afya', 'ya', 'Kenya', 'au', 'Uganda', '.', 'Hii', 'ni', 'mara', 'ya', 'pili', 'kwa', 'WHO', 'kutoa', 'tahadhari', 'juu', 'tembe', 'bandia', 'za', 'Augmentin', 'barani', 'Afrika', '.', 'Tahadhari', 'ya', 'kwanza', 'juu', 'ya', 'uwepo', 'wa', 'dawa', 'hizo', 'bandia', 'ilitolewa', 'Machi', '2', '.', 'Viua', 'vijsumu', 'ni', 'dawa', 'muhimu', 'katika', 'afya', 'na', 'kukabiliana', 'na', 'magonjwa', 'mbalimbali', ',', 'lakini', 'baadhi', 'ya', 'dawa', 'hizo', 'hutumika', 'vibaya', ',', 'kiasi', 'cha', 'kuzua', 'hofu', 'ya', 'kutengenezeka', 'kwa', 'usugu', 'wa', 'dawa', 'hizo', 'kwa', 'baadhi', 'ya', 'watumiaji', '.', 'Hali', 'hiyo', 'inamaanisha', 'kuwa', 'wale', 'wote', 'watakaopata', 'usugu', 'hawatapa', 'afueni', 'ya', 'maradhi', 'yao', 'hata', 'wakizitumia', 'kwa', 'kiasi', 'gani', '.']\n",
      "\n",
      " Number of Words:  190\n"
     ]
    }
   ],
   "source": [
    "file=\"19aug29.txt\"\n",
    "\n",
    "# calling the function and storing the contents in a text variable \n",
    "text = get_document(\"https://www.bbc.com/swahili/michezo-49509729\")\n",
    "\n",
    "# calling the store_ document function \n",
    "store_document(doc=text,name=file)\n",
    "\n",
    "#add the words in this file to the total_corpus_words, to keep count of the number of words in the corpus\n",
    "total_corpus_words+=total_words(file)"
   ]
  },
  {
   "cell_type": "code",
   "execution_count": 48,
   "metadata": {},
   "outputs": [
    {
     "data": {
      "text/plain": [
       "140416"
      ]
     },
     "execution_count": 48,
     "metadata": {},
     "output_type": "execute_result"
    }
   ],
   "source": [
    "total_corpus_words"
   ]
  },
  {
   "cell_type": "code",
   "execution_count": 49,
   "metadata": {},
   "outputs": [
    {
     "name": "stdout",
     "output_type": "stream",
     "text": [
      "['Lucy', '(', 'si', 'jina', 'lake', 'la', 'kweli', ')', 'alimpoteza', 'mwanawe', 'miaka', 'mitatu', 'iliyopita', ',', 'kijana', 'huyo', ',', 'tuliyempatia', 'jina', 'la', 'Paul', '(', 'kwa', 'sababu', 'za', 'kiusalama', ')', 'alikuwa', 'na', 'umri', 'wa', 'miaka', '22', ',', 'alipodaiwa', 'kuuawa', 'na', 'askari', 'akiwa', 'njiani', 'kwenda', 'kumtembelea', 'mwanawe', 'mgonjwa', 'hospitalini', '.', \"''Sheria\", 'iko', 'wazi', 'kabisa.Tuna', 'mazingira', 'ambayo', 'polisi', 'anaruhusiwa', 'kutumia', 'silaha', 'yake.Moja', 'wakati', 'anapolinda', 'maisha', 'yake', 'na', 'pili', 'anapolinda', 'maisha', 'ya', 'raia', \"''\", 'Owino', 'aliiambia', 'BBC', '.', \"''Tuna\", 'bahati', 'kama', 'nchi', 'kwa', 'kuwa', 'kando', 'na', 'kuwa', 'na', 'kitengo', 'cha', 'ndani', 'kuchunguza', 'malamishi', 'dhidi', 'ya', 'polisi', ',', 'tuna', 'kitengo', 'cha', 'kiraia', 'cha', 'kupokea', 'malalamishi', 'ya', 'raia', 'na', 'kufanya', 'uchunguza', 'huru', \"''\", 'aliongezea', 'kusema', 'Chanzo', 'cha', 'picha', ',', 'AFP/GETTY', 'Kituo', 'cha', 'kijamii', 'cha', 'Mathare', 'social', 'Justice', 'kimekuwa', 'kikirekodi', 'mauaji', 'yote', 'yanayofanyika', 'na', 'kinasema', 'kuwa', 'njia', 'hii', 'imesaidia', 'kupunguza', 'mauaji', 'yanayodaiwa', 'kutekelezwa', 'na', 'polisi', '.']\n",
      "\n",
      " Number of Words:  137\n"
     ]
    }
   ],
   "source": [
    "file=\"19aug30_1.txt\"\n",
    "\n",
    "# calling the function and storing the contents in a text variable \n",
    "text = get_document('https://www.bbc.com/swahili/habari-49515243')\n",
    "\n",
    "# calling the store_ document function \n",
    "store_document(doc=text,name=file)\n",
    "\n",
    "#add the words in this file to the total_corpus_words, to keep count of the number of words in the corpus\n",
    "total_corpus_words+=total_words(file)"
   ]
  },
  {
   "cell_type": "code",
   "execution_count": 50,
   "metadata": {},
   "outputs": [
    {
     "data": {
      "text/plain": [
       "140553"
      ]
     },
     "execution_count": 50,
     "metadata": {},
     "output_type": "execute_result"
    }
   ],
   "source": [
    "total_corpus_words"
   ]
  },
  {
   "cell_type": "code",
   "execution_count": 51,
   "metadata": {},
   "outputs": [
    {
     "name": "stdout",
     "output_type": "stream",
     "text": [
      "['Wanajifunza', 'kazi', 'kupitia', 'uwanagenzi', 'na', 'wakati', 'mwingine', 'wanapokea', 'ada', 'kutoka', 'kwa', 'familia', 'ya', 'mama', 'mjamzito', 'Kando', 'na', 'kuwasaidi', 'kinamama', 'kujifungua', 'pia', 'wanawapa', 'ushauri', 'wakati', 'wanapojiandaa', 'kuwa', 'mama', 'kwa', 'lengo', 'la', 'kupunguza', 'mzozo', 'wa', 'kinyumbani', '.', 'Wakunga', 'wa', 'wa', 'kienyeji', 'walitumia', 'muongozo', 'wa', 'Edinburgh', 'kukabiliana', 'na', 'msongo', 'wa', 'mawazo', 'baada', 'ya', 'kujifungua', 'kuwauliza', 'maswali', 'kinamama', 'waliojifungua', 'hospitali', 'na', 'nyumbani', '.', 'Mzozo', 'wa', 'nyumbani', 'Matokeo', 'ya', 'uchunguzi', 'huo', 'yalikuwa', 'ya', 'kushangaza', 'Robo', 'ya', 'kinamama', 'walishirikishwa', 'katika', 'utafiti', 'huo', 'walipatikana', 'na', 'matatizo', 'kidogo', 'ya', 'usumbufu', 'wa', 'akili', '.', 'Thuluthi', 'tatu', 'walinyanyaswa', 'na', 'wapenzi', 'au', 'waume', 'zao', 'iwe', 'ni', 'kingono', 'au', 'kisaikolojia', '.', 'Karibu', '60', '%', 'ya', 'kinamama', 'hao', 'walipatikana', 'na', 'msongo', 'wa', 'mawazo', 'na', 'kupewa', 'matibabu', 'na', 'wakunga', 'wa', 'jadi', 'kulingana', 'na', 'mwongozo', 'wa', 'tiba', 'wa', 'Shirika', 'la', 'Afya', 'Duniani', 'uliotolewa', 'kwa', 'watu', 'wasiokua', 'wataalamu', 'wa', 'matibabu', '.', 'Chanzo', 'cha', 'picha', ',', 'African', 'Academy', 'of', 'Sciences', 'Maelezo', 'ya', 'picha', ',', 'Baadhi', 'ya', 'majukumu', 'ya', 'wakunga', 'wa', 'jadi', 'ni', 'kuwashauri', 'kinamama', 'wajawazito', 'kuhusu', 'changamoto', 'za', 'uzazi', 'na', 'familia', 'Kinamama', 'hao', 'walikuwa', 'na', 'umri', 'wa', 'miaka', '26', 'huku', 'wengine', 'walioshirikishwa', 'katika', 'utafiti', 'huo', 'wakiwa', 'na', 'umri', 'wa', 'kati', 'ya', 'miaka', '12', 'na', '24', '.', 'Mooja', 'wao', 'alikuwa', ',', 'Ndanu', ',', 'amabye', 'alipatikana', 'na', 'tatizo', 'la', 'kiakili', '.', 'Anasema', ':', '``', 'Laiti', 'mpango', 'huo', 'haukuwepo', 'na', 'na', 'si', 'kupata', 'huduma', 'ya', 'mkunga', 'wangu', ',', 'Ningelimpoteza', 'mwanangu', 'kwa', 'sababu', 'sidhani', 'ningelienda', 'kliniki', '.', '``', 'Mkunga', 'alinishauri', 'nitunze', 'afya', 'yangu', 'na', 'ya', 'mtoto', 'wangu', 'kwa', 'kuhakikisha', 'nafika', 'kliniki', 'kama', 'ilivyopangwa', '.', 'Aliniahidi', 'kuwa', 'mlango', 'wake', 'upo', 'wazi', 'wakzti', 'wowote', 'natajihisi', 'kusema', 'nae', \"''\", 'Chanzo', 'cha', 'picha', ',', 'African', 'Academy', 'of', 'Sciences', 'Maelezo', 'ya', 'picha', ',', 'Mafunzo', 'ya', 'afya', 'ya', 'akili', 'yalizingaztia', 'mwongozo', 'wa', 'WHO', 'kwa', 'watu', 'wasiokuwa', 'wataalamu']\n",
      "\n",
      " Number of Words:  280\n"
     ]
    }
   ],
   "source": [
    "file=\"19aug30_2.txt\"\n",
    "\n",
    "# calling the function and storing the contents in a text variable \n",
    "text = get_document(\"https://www.bbc.com/swahili/habari-49527514\")\n",
    "\n",
    "# calling the store_ document function \n",
    "store_document(doc=text,name=file)\n",
    "\n",
    "#add the words in this file to the total_corpus_words, to keep count of the number of words in the corpus\n",
    "total_corpus_words+=total_words(file)"
   ]
  },
  {
   "cell_type": "code",
   "execution_count": 52,
   "metadata": {},
   "outputs": [
    {
     "data": {
      "text/plain": [
       "140833"
      ]
     },
     "execution_count": 52,
     "metadata": {},
     "output_type": "execute_result"
    }
   ],
   "source": [
    "total_corpus_words"
   ]
  },
  {
   "cell_type": "code",
   "execution_count": 53,
   "metadata": {},
   "outputs": [
    {
     "name": "stdout",
     "output_type": "stream",
     "text": [
      "['Hakukuwa', 'na', 'kitanda', 'lakini', 'kulikua', 'na', 'ndoo', 'ambayo', 'ilitumika', 'kama', 'choo', 'katika', 'chumba', 'cha', 'futi', 'nane', 'na', 'hakuruhusiwa', 'kutoka', 'nje', 'ya', 'chumba', 'hicho', 'wala', 'kuwasiliana', 'na', 'mtu', 'yeyote', '.', 'Sehemu', 'hiyo', 'kwa', 'sasa', 'ni', 'shule', 'ya', 'upili', 'ya', 'Mweru', ',', 'miaka', '60', 'iliyopita', 'ilikuwa', 'kambi', 'ya', 'Mweru', ',', 'moja', 'ya', 'mtandao', 'wa', 'zaidi', 'ya', 'kambi', '50', 'za', 'kuzuilia', 'watu', 'nchini', 'Kenya', '.', 'Katika', 'kambi', 'hizo', 'washukiwa', 'wa', 'wapiganaji', 'wa', 'Mau', 'Mau', 'walizuiliwa', 'na', 'kuteswa', 'na', 'serikali', 'ya', 'kikoloni', '.', 'Chanzo', 'cha', 'picha', ',', 'Wambugu', 'wa', 'Nyingi/BBC', 'Maelezo', 'ya', 'picha', ',', 'Wambugu', 'wa', 'Nyingi', ',', 'miaka', '60', 'iliyopita', 'na', 'alivyo', 'leo', '.', 'Alifungwa', 'kwenye', 'zaidi', 'ya', 'kambi', '12', '.', 'Wapiganaji', 'wa', 'Mau', 'Mau', 'walizindua', 'vita', 'vya', 'kuvizia', 'mwaka', '1952', 'ili', 'kukomboa', 'ardhi', 'yao', 'iliyonyakuliwa', 'na', 'walowezi', 'wa', 'kizungu', 'baada', 'ya', 'Uingereza', 'kutengeneza', 'himaya', 'ya', 'Afrika', 'Mashariki', 'mwaka', '1895', '.', 'Serikali', 'ilijibu', 'kwa', 'kutangaza', 'hali', 'ya', 'hatari', 'na', 'kuwakamata', 'na', 'kuwazuilia', 'maelfu', 'ya', 'wanaume', 'katika', 'makambi', 'kadhaa', 'maalum', '.', 'Kufikia', 'kilele', 'cha', 'operesheni', 'hiyo', 'watu', 'zaidi', 'ya', '70,000', 'walikuwa', 'wametiwa', 'nguvuni', '.', 'Waliokuwa', 'kizuizini', 'Mau', 'Mau', 'walishindwa', 'kijeshi', 'mwaka', '1956', ',', 'baada', 'ya', 'mmoja', 'wa', 'viongozi', 'wao', ',', 'Dedan', 'Kimathi', ',', 'kukamatwa', 'na', 'baadae', 'kunyongwa', '.', 'Lakini', 'hali', 'ya', 'hatari', 'iliyodumu', 'kwa', 'miaka', 'mitatu', 'ilikomeshwa', 'Kenya', 'ilipopata', 'uhuru', 'wake', 'mwisho', 'wa', 'mwaka', '1963', 'na', 'baadahi', 'ya', 'wanahistoria', 'wanasema', 'kuwa', 'wapiganaji', 'wa', 'Mau', 'Mau', 'walichangia', 'kukomesha', 'uongozi', 'wa', 'kikoloni', '.', 'Maelezo', 'ya', 'picha', ',', 'Chumba', 'hiki', 'kidogo', 'ambacho', 'kilikuwa', 'katika', 'kambi', 'ya', 'kuzuilia', 'watu', 'tangu', 'zama', 'hizo', 'bado', 'kiko', 'katika', 'shule', 'hiyo', 'Bw', '.', 'wa', 'Nyingi', 'ni', 'mmoja', 'wa', 'watu', 'walioshukiwa', 'kula', 'kiapo', 'cha', 'Mau', 'Mau', '.', 'kutoka', 'mwaka', '1952', 'hadi', '1959', 'alihamishwa', 'kutoka', 'kambi', 'moja', 'hadi', 'nyingine', 'na', 'hatimaye', 'akaishia', 'kuzuiliwa', 'Mweru', 'kabla', 'ya', 'kuachiliwa', 'huru', '.', 'Kwa', 'sasa', 'ana', 'matatizo', 'ya', 'kutembea', 'kutokana', 'na', 'mateso', 'na', 'kazi', 'ngumu', 'alizofanyishwa', 'wakati', 'alipokua', 'kizuizini', '.', 'Pia', 'anakumbuka', 'kunyimwa', 'chakula', 'makusudi', 'na', 'kupigwa', 'hadi', 'kupoteza', 'fahamu', 'katika', 'kile', 'baadae', 'kilijulikana', 'na', 'mauaji', 'ya', 'halaiki', 'ya', 'Hola', 'mwaka', '1959', '.', 'Jumla', 'ya', 'wafungwa', 'kumi', 'na', 'mmoja', 'wa', 'kambi', 'ya', 'hola', 'waliuawa', 'na', 'walinzi', '.', 'Japo', 'wa', 'Nyingi', ',', 'baadae', 'alipata', 'fahamu', 'tayari', 'alikuwa', 'amepelekwa', 'katika', 'chumba', 'cha', 'kuhifadhi', 'maiti', 'kwa', 'kudhaniwa', 'amefariki', '.', 'Yote', 'ilikua', 'katika', 'juhudi', 'ya', 'kumfanya', 'akiri', 'kuwa', 'ameachana', 'na', 'imani', 'ya', 'kupigana', 'dhidi', 'ya', 'wakoloni', '.', 'Inaaminiwa', 'kuwa', 'zaidi', 'ya', 'wapiganaji', '20,000', 'wa', 'Mau', 'Mau', 'waliuawa', 'vitani', 'huku', 'raia', '1,800', 'wakiafrika', 'na', 'walowezi', '32', 'wa', 'kizungu', 'pia', 'walifariki', 'kwa', 'mujibu', 'wa', 'mwanahistoria', 'David', 'Anderson', '.', 'Kulikuwa', 'na', 'vifo', 'vingine', 'vingi', 'vilivyotokana', 'na', 'mateso', 'na', 'magonjwa', 'katika', 'kambi', 'za', 'wakoloni', '.', 'Kuhifadhi', 'seli', 'hizo', 'Mwaka', '2013', ',', 'baada', 'ya', 'malumbano', 'ya', 'muda', 'mrefu', 'ya', 'kisheria', 'yalioongozwa', 'na', 'baadhi', 'ya', 'mashujaa', 'wa', 'Mau', 'Mau', ',', 'akiwemo', 'Bw', '.', 'wa', 'Nyingi', ',', 'serikali', 'ya', 'Uingereza', 'ilikiri', 'kuwa', '``', 'Wakenya', 'walinyanyaswa', 'na', 'waliteswa', \"''\", 'na', 'kusikitika', 'kuwa', '``', 'mateso', 'hayo', 'yalitekelezwa', \"''\", '.', 'Maelfu', 'ya', 'watu', 'walilipwa', 'fidia', '.', 'Chanzo', 'cha', 'picha', ',', 'National', 'Archives', 'Maelezo', 'ya', 'picha', ',', 'Jumla', 'ya', 'wafungwa', '11', 'waliuawa', 'katika', 'kambi', 'ya', 'kijijini', 'ya', 'Hola', 'mwaka', '1959', 'Katika', 'shule', 'ya', 'upili', 'ya', 'Mweru', ',', 'ambako', 'Bw', '.', 'wa', 'Nyingi', 'alizuiliwa', 'kuna', 'jengo', 'ambalo', 'lilikuwa', 'seli', 'ya', 'kuzuilia', 'wafungwa', '.', 'Kwa', 'sasa', 'seli', 'hiyo', 'ni', 'darasa', 'lakini', \"seng'enge\", 'iliyochakaa', 'bado', 'inaonekana', 'juu', 'ya', 'ubao', 'kupitia', 'mwanya', 'uliopo', 'kati', 'ya', 'ukuta', 'na', 'paa', 'la', 'mabati', 'ni', 'ishara', 'ya', 'kazi', 'yake', 'ya', 'awali', '.', 'Kuna', 'majengo', 'mingi', 'ya', 'kisasa', 'katika', 'shule', 'hiyo', 'kwa', 'sasa', 'na', 'kama', 'anavyosema', 'naibu', 'mkuu', 'wa', 'shule', 'Patrick', 'Karaya', ',', 'hawastahili', 'kutumia', 'seli', 'ya', 'zamani', 'kama', 'darasa', '.', 'Lakini', 'anajitolea', 'kulinda', 'majengo', 'machache', 'iliyojengwa', 'tangu', 'miaka', 'ya', '1950', '.', '``', 'Tuliamua', 'kwamba', 'ni', 'lazima', 'zisalie', 'zilivyo', ',', \"''\", 'alisema', '.', '``', 'Watu', 'wengine', 'huenda', 'wakafikiria', 'ni', 'mwiko', '[', 'kwamba', 'hii', 'ilikuwa', 'kambi', 'ya', 'wafungwa', 'wa', 'Mau', 'Mau', ']', ',', 'lakini', 'wakija', 'kuiona', 'tunawashauri', 'waziguse', 'ili', 'wafahamu', 'kuwa', 'ni', 'viti', 'vya', 'kweli', '.', 'Kuna', 'mpango', 'wa', 'kudumisha', 'kumbukumbu', 'ya', 'eneo', 'hilo', 'zaidi', 'ya', 'kuzuru', 'shule', 'hiyo', '.', 'Maelezo', 'ya', 'picha', ',', 'Moja', 'ya', 'darasa', 'ya', 'shule', 'ya', 'upili', 'ya', 'Mweru', 'iliyotumika', 'kama', 'seli', 'ya', 'Mau', 'Mau', 'inaonesha', \"sing'eng\", \"'\", 'e', 'iliyotumiwa', 'wakati', 'huo', 'Kundi', 'la', 'watuwaliojitolea', 'kutoka', 'ndani', 'na', 'nje', 'ya', 'nchi', 'wamekuja', 'na', 'wazo', 'la', 'kuvigeuza', 'vyumba', 'hivyo', 'kuwa', 'makavazi', 'ya', 'Ukoloni', 'wa', 'Uingereza', '(', 'MBC', ')', 'na', 'tayari', 'wamejenga', 'kambi', 'ya', 'kidijitali', 'ya', '3D', 'ya', 'kambi', 'hiyo', '.', 'Wageni', 'wanaotaka', 'kutembelea', 'kambi', 'hizo', 'mtandaoni', 'wanapata', 'fursa', 'ya', 'kujionea', 'mijengo', 'hiyo', 'mtandaoni', '.', 'Makavazi', 'hayo', 'ambayo', 'yanapatikana', 'mtandaoni', 'tu', ',', 'imepewa', 'jina', 'la', '``', 'historia', 'ya', 'marejesho', \"''\", '.', 'Katika', 'tuvuti', 'yake', 'inajielezea', 'kama', 'sehemu', 'ya', 'kujaza', 'pengo', 'ya', 'sehemu', 'ya', 'kihistoria', 'badala', 'ya', '``', 'kuharibu', ',', 'kuficha', 'au', 'kubomoa', '``', '.', 'Historia', 'hutegemea', 'vitu', 'vinavyoonekana', ',', 'ushahidi', 'ulionakiliwa', ',', 'na', 'kumbukumbu', 'ya', 'watu', 'kuhusu', 'matukio', 'yaliyopita', '.', 'Lakini', 'mara', 'nyingine', 'pia', 'inategemea', 'utashi', 'wa', 'maafisa', 'kutaka', 'historia', 'hiyo', 'kusimuliwa', ',', 'bila', 'ya', 'kufanya', 'hivyo', 'ushahidi', 'unaweza', 'kupotea', 'kama', 'hautaangaziwa', '.', 'Chanzo', 'cha', 'picha', ',', 'MBC', 'Maelezo', 'ya', 'picha', ',', 'Katika', 'ujenzi', 'mpya', 'wa', 'kidijitali', ',', 'watazamaji', 'wanaweza', 'kuona', 'mijengo', 'hiyo', 'kutoka', 'ndani', 'na', 'nje', 'kama', 'walivyojionea', 'walipofika', 'eneo', 'hilo', 'Serikali', 'iliyoingia', 'madarakani', 'baada', 'ya', 'Uhuru', 'kupatikana', 'pia', 'haikutaka', 'kusherhekea', 'vugu', 'vugu', 'hilo', 'hatari', 'kwa', 'kuhofia', 'huenda', 'ikatishia', 'malengo', 'ya', 'taifa', ',', 'mwanahistoria', 'wa', 'Kenya', 'Vincent', 'Simiyu', 'anasema', '.', 'Kenya', 'na', 'Uingereza', 'zilichangia', 'kwa', 'kiwango', 'fulani', 'kufutwa', 'kwa', 'historia', 'ya', 'Mau', 'Mau', 'ni', 'matukio', 'waliokumbana', 'nayo', '.', 'Sio', 'kwamba', 'mateso', 'waliopitia', 'haikujulikana', 'suala', 'kuu', 'ni', 'kwamba', 'maafisa', 'hawakuzungumzia', 'kadhia', 'yao', 'hadharani', '.', 'Maelezo', 'ya', 'picha', ',', 'Baadhi', 'ya', 'nyumba', 'za', 'udongo', 'ya', 'kambi', 'ya', 'Mweru', 'ambayo', 'wafungwa', 'walilazimishwa', 'kujenga', 'bado', 'zinaonekana', 'shuleni', 'hapo', 'Mzozo', 'wa', 'Mau', 'Mau', 'na', 'harakati', 'pana', 'ya', 'kupambana', 'na', 'ukoloni', 'ni', 'sehemu', 'ya', 'mtaala', 'wa', 'shule', 'nchini', 'Kenya', ',', 'lakini', 'mwanaharakati', 'wa', 'kujitolea', 'wa', 'MBC', 'Chao', 'Tayiana', 'aliye', 'na', 'miaka', '26', 'anasema', 'hakuridhika', 'na', 'kile', 'alichojifunza', 'shuleni', '``', 'Licha', 'ya', 'kukulia', 'Kenya', 'na', 'kupitia', 'mfumo', 'wa', 'elimu', 'bado', 'nilikuwa', 'na', 'ufahamu', 'mdogo', 'juu', 'ya', 'mapambano', 'ya', 'uhuru', ',', \"''\", 'anasema', '.', 'Kinachompatia', 'motisha', 'yeye', 'na', 'wenzake', 'ni', 'kuunda', 'mfumo', 'wa', '3D', 'wa', 'kambi', 'hizo', 'ambayo', 'inaweza', 'kupatikana', 'mtandaoni', 'Tulianzia', 'kambi', 'ya', 'Mweru', 'na', 'Aguthi', 'ambazo', 'ziko', 'karibu', ',', 'na', 'sasa', 'tunaangazia', 'shule', 'ya', 'upili', 'ya', 'wasichana', 'ya', 'Kanguburi', ',', 'ambako', 'ushahidi', 'wawa', 'seli', 'hizo', 'ungalipo', '.', \"'kusahau\", 'yaliopita', \"'\", 'Mwezi', 'Agosti', 'mwaka', '1963', ',', 'aliwahakikishia', 'wazungu', 'aliowahutubia', 'kuwa', 'hana', 'kinyongo', 'na', 'mtu', 'na', 'kwamba', \"''\", 'hana', 'nia', 'ya', 'kuangazia', 'yaliopita', '.', 'Tumesamehe', 'yalioptokea', 'zamani', \"''\", '.', 'Katika', 'tukio', 'lingine', 'aliwataja', 'Mau', 'Mau', 'kama', '``', 'majambazi', \"''\", ',', 'mwanahistoria', 'Anderson', 'alisema', '.', 'Baada', 'ya', 'miongo', 'kadhaa', 'aliandika', 'kuwa', ',', 'Kenyatta', 'alielezea', 'Mau', 'Mau', 'kama', '``', 'kama', 'ugonjwa', 'uliotokomezwa', 'na', 'ambao', 'haufai', 'kutajwa', 'tena', \"''\", '.', 'Kitendo', 'cha', 'kusahaulika', 'kwa', 'mchango', 'wa', 'Mau', 'Mau', 'kilichangiwa', 'na', 'serikali', 'huru', 'ya', 'Kenya', 'baada', 'ya', 'mafisa', 'wake', 'kupiga', 'marufuku', 'kundi', 'la', 'Mau', 'Mau', 'hadi', 'mwaka', '2003', '.']\n",
      "\n",
      " Number of Words:  1117\n"
     ]
    }
   ],
   "source": [
    "file=\"19sep1.txt\"\n",
    "\n",
    "# calling the function and storing the contents in a text variable \n",
    "text = get_document(\"https://www.bbc.com/swahili/habari-49486343\")\n",
    "\n",
    "# calling the store_ document function \n",
    "store_document(doc=text,name=file)\n",
    "\n",
    "#add the words in this file to the total_corpus_words, to keep count of the number of words in the corpus\n",
    "total_corpus_words+=total_words(file)"
   ]
  },
  {
   "cell_type": "code",
   "execution_count": 54,
   "metadata": {},
   "outputs": [
    {
     "data": {
      "text/plain": [
       "141950"
      ]
     },
     "execution_count": 54,
     "metadata": {},
     "output_type": "execute_result"
    }
   ],
   "source": [
    "total_corpus_words"
   ]
  },
  {
   "cell_type": "code",
   "execution_count": 55,
   "metadata": {},
   "outputs": [
    {
     "name": "stdout",
     "output_type": "stream",
     "text": [
      "['Shirika', 'la', 'habari', 'la', 'AFP', 'linaripoti', 'kuwa', 'watu', 'hao', 'walikuwa', 'miongoni', 'mwa', 'kundi', 'la', 'watu', '12', 'waliokuwa', 'wanazuru', 'hifadhi', 'ya', 'Hells', 'Gate', ',', 'karibu', 'kilomita', '100', 'Kaskazini', 'magharibi', 'mwa', 'Jiji', 'kuu', 'la', 'Nairobi', '.', 'Vyombo', 'vya', 'habari', 'nchini', 'Kenya', 'vianripoto', 'kuwa', 'manusra', 'waliwafahamisha', 'maafisa', 'wa', 'hifadhi', 'hiyo', 'kuhusu', 'tukio', 'hilo', 'ndipo', 'shughuli', 'za', 'kuwatafuta', 'wahasiriwa', 'zikaanzishwa', 'mara', 'moja', '.', 'Afisa', 'wa', 'polisi', 'ambaye', 'hakutaka', 'jina', 'lake', 'litajwe', 'ameliambia', 'shirika', 'la', 'Habari', 'la', 'AFP', 'kuwa', 'watu', 'waliosombwa', 'na', 'mafuriko', 'hayo', 'na', 'ambao', 'hawajapatikana', 'huenda', '``', 'wamefariki', \"''\", 'kutokana', 'na', 'ushahidi', 'uliotolewa', 'na', 'wale', 'walionusurika', 'mkasa', 'huo', '.', 'Chanzo', 'cha', 'picha', ',', 'Getty', 'Images', 'Hifadhi', 'ya', 'Hell', \"'s\", 'Gate', ',', 'limepewa', 'jina', 'hilo', 'kutokana', 'na', 'vyanzo', 'vyembamba', 'vya', 'maji', 'yanayopita', 'kati', 'kati', 'ya', 'milima', 'na', 'ambayo', 'husababisha', 'mafuriko', '.', 'Eneo', 'hilo', 'linasifika', 'kwa', 'mandhari', 'yake', 'ya', 'kupendeza', 'ambayo', 'pia', 'imeangaziwa', 'katika', 'filamu', 'ya', 'The', 'Lion', 'King', '.', 'Picha', 'za', 'Filamu', 'za', '``', 'Tomb', 'Raider', ':', 'The', 'Cradle', 'of', 'Life', \"''\", 'pia', 'zilinaswa', 'katika', 'hifadhi', 'hiyo', 'mwaka', '2003', '.']\n",
      "\n",
      " Number of Words:  166\n"
     ]
    }
   ],
   "source": [
    "file=\"19sep2_1.txt\"\n",
    "\n",
    "# calling the function and storing the contents in a text variable \n",
    "text = get_document(\"https://www.bbc.com/swahili/habari-49547825\")\n",
    "\n",
    "# calling the store_ document function \n",
    "store_document(doc=text,name=file)\n",
    "\n",
    "#add the words in this file to the total_corpus_words, to keep count of the number of words in the corpus\n",
    "total_corpus_words+=total_words(file)"
   ]
  },
  {
   "cell_type": "code",
   "execution_count": 56,
   "metadata": {},
   "outputs": [
    {
     "data": {
      "text/plain": [
       "142116"
      ]
     },
     "execution_count": 56,
     "metadata": {},
     "output_type": "execute_result"
    }
   ],
   "source": [
    "total_corpus_words"
   ]
  },
  {
   "cell_type": "code",
   "execution_count": 57,
   "metadata": {},
   "outputs": [
    {
     "name": "stdout",
     "output_type": "stream",
     "text": [
      "[\"'Nililpokutana\", 'na', 'bwana', 'Mutua', 'kitu', 'cha', 'kwanza', 'nilichobaini', 'ni', 'ndevu', 'zake', 'zilikuwa', 'zimechorwa', 'na', 'kalamu', 'na', 'alikuwa', 'na', 'tabasamu', 'la', 'ukarimu', '.', 'Mkurugenzi', 'Mkuu', 'wa', 'Bodi', 'ya', 'udhibiti', 'wa', 'maudhui', 'ya', 'usanii', 'nchini', 'Kenya', '(', 'KFCB', ')', 'alinipokea', 'kwa', 'ukarimu', 'katika', 'ofisi', 'yake', ',', 'lakini', 'nyuma', 'ya', 'ukarimu', 'huu', 'ana', 'sifa', 'ya', 'kuwa', '``', 'polisi', 'wa', 'maadili', '``', 'ambaye', 'huweka', 'marufuku', 'dhidi', 'ya', 'filamu', ',', 'nyimbo', ',', 'na', 'matangazo', 'ya', 'televisheni', 'yenye', 'maudhi', 'ya', 'kingono', 'au', 'mauhusiano', 'ya', 'jinsia', 'moja', '.', 'Wimbo', 'wenye', 'maudhui', 'ya', 'ngono', ',', 'matangazo', 'ya', 'biashara', 'ya', 'ngono', 'yanayohamasisha', 'watu', 'kushiriki', '``', 'sherehe', 'za', 'ngono', \"''\", 'na', 'filamu', 'zilizowahusisha', 'wapenzi', 'wa', 'jinsia', 'moja', 'zote', 'zimekabiliwa', 'na', 'nguvu', 'ya', 'hatua', 'za', 'Bwana', 'Mutua', '.', 'Lakini', 'mwandishi', 'huyo', 'wa', 'habari', ',', 'ambaye', 'amejitolea', 'kuwa', 'mkristo', ',', 'anapinga', 'kuitwa', 'mdhibiti.', '``', 'Neno', 'mdhibiti', 'lina', 'maana', 'ya', 'mtu', 'kuwa', 'na', 'tabia', 'za', 'kidikteta', 'au', 'kikoloni', ',', \"''\", 'Bwana', 'Mtua', 'aeleza', '.', 'Kwa', 'sasa', 'bwana', 'Mutua', 'anasema', 'anaridhika', 'na', 'jina', 'la', '``', 'polisi', 'wa', 'maadili', '``', 'alilopewa', ',', 'ingawa', 'ilimchukua', 'muda', 'kulikubali', '.', 'Kwa', 'ujumla', ',', 'Kenya', 'inafuata', 'misingi', 'ya', 'utamaduni', ',', 'lakini', 'utamaduni', 'huo', 'umekuwa', 'ukikosolewa', 'na', 'vijana', '.', 'Kupanuka', 'kwa', 'matumizi', 'ya', 'mitandao', 'ya', 'kijamii', 'kumechochea', 'mijadala', 'ya', 'wazi', 'juu', 'ya', 'ngono', ',', 'na', 'wasanii', 'wamekuwa', 'wakifanya', 'kazi', 'zinazoelezea', 'hayo', '.', '``', 'Kwa', 'mara', 'ya', 'kwanza', 'nilihisi', 'mwenye', 'mashaka', 'sana', 'wakati', 'wakosoaji', 'waliponiita', 'polisi', 'wa', 'maadili', ',', 'lakini', 'mashaka', 'yaliisha', 'baada', 'ya', 'muda', 'nilipobaini', 'kuwa', 'nchi', 'hii', 'inanihitaji', 'na', 'kwamba', 'inahitaji', 'kuwa', 'na', 'watu', 'wanaofanya', 'mambo', 'kwa', 'kuzingatia', 'maadili', ',', \"''\", 'alisema', '.', \"'Uchafu\", 'usiofaa', \"'\", 'Akiwa', 'kiongozi', 'wa', 'KFCB', 'tangu', 'mwaka', '2015', ',', 'mara', 'kwa', 'mara', 'Mutua', 'amejipata', 'katika', 'malumbano', 'na', 'Wakenya', 'wanaoelezea', 'hisia', 'zao', 'mbalimbali', 'juu', 'ya', 'maagizo', 'yake', 'Kazi', 'inayompa', 'mamlaka', 'ya', 'kuweka', 'viwango', 'na', 'makundi', 'ya', 'filamu', 'na', 'hakuna', 'filamu', 'yoyote', 'inayoweza', 'kuonyeshwa', 'nchini', 'Kenya', 'bila', 'kupitia', 'viwango', 'vinavyohitajika', '.', 'Pia', 'anaamini', 'kuwa', 'ana', 'mamlaka', 'ya', 'kusimamia', 'matangazo', 'yaanayopita', 'kwenye', 'Televisheni', 'na', 'mtandaoni', ',', 'lakini', 'kuna', 'hisia', 'tofauti', 'kuhusiana', 'na', 'wapi', 'mamlaka', 'yake', 'ya', 'udhibiti', 'yanafika', '.', 'katika', 'hatua', 'yake', 'ya', 'hivi', 'karibuni', 'Jumanne', ',', 'bwana', 'Mutua', 'alipiaga', 'marufuku', 'miziki', 'miwili', 'maarufu', 'ambayo', 'ni', 'Wamlambez', 'na', 'Tetema', 'kuchezwa', 'katika', 'sehemu', 'za', 'umma', ',', 'isipokuwa', 'kwenye', 'vilabu', 'na', 'baa', '.', 'Katika', 'ujumbe', 'wake', 'wa', 'Twitter', 'alisema', 'kuwa', 'nyimbo', 'hizo', 'mbili', 'zilikuwa', 'ni', '``', 'ponografia', 'halisi', '``', 'na', '``', 'uchafu', 'ambao', 'si', 'mzuri', 'kusikilizwa', 'palipo', 'na', 'wa', 'watu', 'rika', 'mchanganyiko', '.', \"''\", 'Maneno', 'ya', 'nyimbo', 'za', 'Wamlambez', ',', 'yalitolewa', 'Aprili', ',', 'yakiwa', 'kwa', 'lugha', 'ya', 'Sheng', '(', 'lugha', 'ya', 'mtaani', ')', 'ambayo', 'hutumiwa', 'na', 'vijana', 'kote', 'nchini', 'Kenya', ',', 'yakijumuisha', 'maneno', 'ya', 'ngono', '.', 'Wimbo', 'huo', 'ulioimbwa', 'na', 'kikundi', 'cha', 'Kenya', \"'Sailors\", \"'\", 'ni', 'maarufu', 'kuliko', 'maneno', 'yake', '``', 'wamlambez', \"''\", 'na', '``', 'wamnyonyez', \"''\", '-', 'maneno', 'ya', 'mafumbo', 'yenye', 'maana', '``', 'lamba', \"''\", 'na', '``', 'nyonya', \"''\", '-', 'yamekuwa', 'ni', 'maneno', 'ya', 'kawaida', 'katika', 'mikusanyiko', 'ya', 'vijana', '..', 'Video', 'ambayo', 'imekuwa', 'ikiangaliwa', 'na', 'watu', 'karibu', 'milioni', 'nne', 'kwenye', 'mtandao', 'wa', 'YouTube', ',', 'pia', 'ina', 'staili', 'chafu', 'za', 'kucheza', '.', 'Bwana', 'Mutua', 'Mutua', 'pia', 'aliwakosoa', 'viongozi', 'wa', 'kitaifa', 'kwa', 'kuimba', 'nyimbo', '``', 'za', 'aibu', 'katika', 'umma', '``', '.', 'Maelezo', 'ya', 'picha', ',', 'Maneno', 'ya', 'wimbo', 'wa', 'msanii', 'wa', 'Tanzania', 'uliitwa', '``', 'uchafu', '``', 'na', 'mdhibiti', 'huyo', 'wa', 'Kenya', 'Maneno', 'ya', 'wimbo', 'Tetema', 'wa', 'msanii', 'wa', 'Tanzania', 'Diamond', 'Platnumz', ',', 'yametajwa', 'na', 'Bwana', 'Mutua', 'kama', 'uchafu', '.', 'Mmoja', 'wa', 'watumiaji', 'wa', 'mtandao', 'wa', 'Twitter', 'alituma', 'ujumbe', 'huu', 'akiunga', 'mkono', 'marufuku', 'dhidi', 'ya', 'Wamlambezi', 'ambapo', 'alisema', 'wimbo', 'huo', 'ni', '``', 'aibu', '.', 'lakini', 'kuna', 'mwingine', 'ambaye', 'alimkosoa', 'Mutua', 'kwa', 'kufanya', 'maamuzi', 'kwa', 'ajili', 'ya', 'watu', 'wazima', '.', 'Miongoni', 'mwa', 'watu', 'wengi', 'ambao', 'niliozungumza', 'nao', 'katika', 'mji', 'mkuu', ',', 'Nairobi', ',', 'waliunga', 'mkono', 'hatua', 'ya', 'Bwana', 'Mutua', '.', 'Baadhi', 'waliniambia', 'kuwa', 'wanafikiri', 'angechukua', 'hatua', 'hiyo', 'mapema', 'kwa', 'sababu', 'sasa', 'hivi', 'hata', 'watoto', 'tayari', 'wameshaanza', 'kuziimba', 'nyimbo', 'hizo', '.', 'Mwezi', 'Aprili', ',', 'alipiga', 'marufuku', 'wimbo', 'wa', 'mwanamuziki', 'wa', 'Kenya', 'Alvin', ',', 'ambaye', 'anafahamika', 'kama', 'Alvindo', ',', 'unaoitwa', \"'Takataka\", \"'\", ',', 'akisema', 'ulichochea', 'ghasia', 'dhidi', 'ya', 'wanawake', 'kukataliwa', 'na', 'wanaume', '.', 'Chanzo', 'cha', 'picha', ',', '@', 'Sailors254', 'Maelezo', 'ya', 'picha', ',', 'Kikundi', 'cha', 'muziki', 'cha', 'Sailors', 'kilichoimba', 'wimbo', '``', 'Wamlambez', \"''\", \"'Nyimbo\", 'za', 'ushetani', \"'\", '``', 'Wimbo', 'wa', 'Takataka', 'umeimbwa', 'kwa', 'lugha', 'katili', 'unaowafanya', 'wanawake', 'kuonekana', 'kama', 'vifaa', 'na', 'kuhimiza', 'wanaume', 'waumizwe', ',', \"''\", 'alisema', 'Bwana', 'Mutua', 'katika', 'mkutano', 'na', 'waandishi', 'wa', 'habari', '.', 'Pia', 'alisema', 'kuwa', 'ni', 'jambo', 'la', 'kuhofia', 'kuwa', 'kwanza', 'wimbo', 'huo', 'haukuwasilishwa', 'kwenye', 'mamlaka', 'hiyo', 'ili', 'uweze', 'kukaguliwa', '.', '``', 'Kuanzia', 'leo', ',', 'wimbo', 'Takataka', 'haupaswi', 'kuchezwa', 'mbele', 'ya', 'hadhira', 'wala', 'kwenye', 'chombo', 'chochote', 'cha', 'utangazaji', 'eneo', 'lolote', 'katika', 'jamuhuri', 'ya', 'Kenya', '.', 'Hakuna', 'Dj', 'anayepaswa', 'kucheza', 'iwe', 'katika', 'kituo', 'cha', 'utangazaji', 'au', 'katika', 'burudani', 'yoyote', ',', \"''\", 'ilieleza', 'sehemu', 'ya', 'taarifa', '.', 'Bodi', 'hiyo', 'ilisema', 'kuwa', 'kumekuwana', 'vifo', 'vingi', 'vya', 'wapenzi', 'katika', 'siku', 'za', 'hivi', 'karibuni', 'na', 'muziki', 'wa', 'aina', 'hiyo', ',', 'ujumbe', 'uliomo', 'unachochea', 'aina', 'hii', 'ya', 'uhalifu', '.', 'Bwan', 'Mutua', 'pia', 'alikosoa', 'mwanamuzki', 'mwingine', 'maariufu', 'nchini', 'Kenya', ',', 'Akothee', ',', 'mwezi', 'Februari', 'baada', 'ya', 'picha', 'zake', 'alipozopiga', 'akiwa', 'kwenye', 'shoo', 'ya', 'muziki', ',', 'akiwa', 'amevalia', 'nguo', 'za', 'ndani', 'kusambaa', 'kwenye', 'mitandao', 'ya', 'kijamii', '.', 'Alisema', 'kuwa', 'zilikuwa', 'ni', '``', 'uchafu', \"''\", ',', '``', 'ujinga', '``', 'na', 'za', '``', 'kishetani', \"''\", '.', 'Mwaka', '2016', ',', 'alipiga', 'marufuku', 'matangazo', 'ya', 'picha', 'yaliyokuwa', 'yakisambaa', 'mjini', 'Nairobi', 'yakisema', '``', 'hakuna', 'mtu', 'atakayerudi', 'nyumbani', 'na', 'ubikra', '``', ',', 'na', 'itakuwa', '``', 'moja', 'ya', 'usiku', 'wa', 'kupoteza', 'akili', '``', '.', 'Sherehe', 'hiyo', 'iliandaliwa', 'na', 'ili', 'watu', 'waweze', 'kuuza', 'na', 'kununua', 'filamu', 'za', 'ponografia', 'na', 'matumizi', 'ya', 'dawa', 'za', 'kulevya', ',', 'Alisema', 'Bwana', 'Mutua', 'wakati', 'huo', '.', 'Samantha', 'Mugatsia', '(', 'kushoto', ')', 'na', 'Sheila', 'Munyiva', 'wakicheza', 'kama', 'Kena', 'na', 'Ziki', 'katika', 'filamu', 'ya', 'rafiki', 'Moja', 'ya', 'maamuzi', 'aliyoyachukua', 'yaliyomfanya', 'afahamike', 'zaidi', 'duniani', 'ni', 'yale', 'aliyoyachukua', ',', 'mwaka', '2018', ',', 'ambapo', 'bodi', 'yake', 'KFCB', 'ilipiga', 'marufuku', 'filamu', \"'Rafiki\", \"'\", ',', 'iliyoongozwa', 'na', 'Wanuri', 'Kahiu', '.', 'Filamu', 'ambayo', 'ilikuwa', 'ni', 'karibu', 'ishiriki', 'katika', 'tamasha', 'la', 'Cannes', 'Film', 'Festival', ',', 'ilielezea', 'hadithi', 'ya', 'wasichana', 'wawili', ',', 'Kena', 'na', 'Ziki', ',', 'waliokutana', 'na', 'kuoana', '.', 'lakini', 'bodi', 'hiyo', 'ilisema', 'kuwa', 'imezuwiwa', 'kutokana', 'na', '``', 'kuwa', 'na', 'jina', 'la', 'wapenzi', 'wa', 'jinsia', 'moja', 'na', 'ililenga', 'kuboresha', 'mapenzi', 'ya', 'jinsia', 'moja', 'ya', 'wanawake', '``', '.', 'Kitendo', 'ambacho', 'ni', 'kinyume', 'cha', 'sheria', 'nchini', 'na', 'mhusika', 'huhukumia', 'miaka', '14', 'jela', '.']\n",
      "\n",
      " Number of Words:  1031\n"
     ]
    }
   ],
   "source": [
    "file=\"19sep2_2.txt\"\n",
    "\n",
    "# calling the function and storing the contents in a text variable \n",
    "text = get_document(\"https://www.bbc.com/swahili/49551404\")\n",
    "\n",
    "# calling the store_ document function \n",
    "store_document(doc=text,name=file)\n",
    "\n",
    "#add the words in this file to the total_corpus_words, to keep count of the number of words in the corpus\n",
    "total_corpus_words+=total_words(file)"
   ]
  },
  {
   "cell_type": "code",
   "execution_count": 58,
   "metadata": {},
   "outputs": [
    {
     "data": {
      "text/plain": [
       "143147"
      ]
     },
     "execution_count": 58,
     "metadata": {},
     "output_type": "execute_result"
    }
   ],
   "source": [
    "total_corpus_words"
   ]
  },
  {
   "cell_type": "code",
   "execution_count": 59,
   "metadata": {},
   "outputs": [
    {
     "name": "stdout",
     "output_type": "stream",
     "text": [
      "['Elimu', 'ya', 'bure', 'yaidhinishwa', 'DRC', 'kwa', 'mara', 'ya', 'kwanza', 'katika', 'historia', 'yake', '5', 'Septemba', '2019', 'Chanzo', 'cha', 'picha', ',', 'TONY', 'KARUMBA', 'Maelezo', 'ya', 'picha', ',', 'Katika', 'baadhi', 'ya', 'mataifa', 'elimu', 'ya', 'bure', 'inakabiliwa', 'na', 'changamoto', 'zikiwemo', 'uhaba', 'wa', 'bidhaa', 'msingi', 'kama', 'walimu', 'wa', 'kutosha', ',', 'vitabu', ',', 'madawati', 'na', 'hata', 'vyoo', 'Serikali', 'ya', 'Jamhuri', 'ya', 'kidemokrasia', 'ya', 'Congo', 'leo', 'inaidhinisha', 'elimu', 'ya', 'bure', 'katika', 'shule', 'za', 'msingi', 'za', 'umma', 'kwa', 'lego', 'la', 'kutekeleza', 'yaliomo', 'katika', 'katiba', 'ya', 'mwaka', '2005', ',', 'ambao', 'inasisitiza', 'elimu', 'ya', 'bure', 'kwa', 'watoto', 'wa', 'shule', 'za', 'msingi', '.', 'Tangu', 'mwaka', '1993', ',', 'wazazi', 'wamekuwa', 'wakilipa', 'walimu', 'ada', 'ya', 'mafunzo', 'na', 'hivi', 'sasa', 'serikali', 'imeamua', 'kuwalipa', 'mishara', '.', 'Lakini', 'baadhi', 'ya', 'walimu', 'mpaka', 'sasa', 'wana', 'shaka', 'kuhusu', 'utekelezaji', 'wa', 'hatua', 'hiyo', 'mpya', 'ya', 'serikali', '.', 'Ndani', 'ya', 'darasa', 'moja', 'katika', 'shule', 'ya', 'msingi', 'ya', 'KILIMANI', ',', 'iliopo', 'mjini', 'Kinshasa', 'mwalimu', 'anawafunza', 'watoto', 'vokali', 'sita', 'za', 'alpabeti', 'ya', 'lugha', 'ya', 'kifarnsa', '.', 'Mijinga', 'ni', 'mzazi', 'aliyefika', 'katika', 'shule', 'hii', 'kumuandkisha', 'mtoto', 'wake', 'wa', 'umri', 'wa', 'miaka', 'sita', ',', 'kama', 'wazazi', 'wengi', '.', \"'Nimekuja\", 'kumwandikisha', 'mtoto', 'wangu', 'hapa', ',', 'lakini', 'alikuwa', 'anasoma', 'kwenye', 'shule', 'ya', 'serikali', '.', 'Kipya', 'ni', 'kwamba', 'sitalipa', 'tena', 'pesa', ',', 'kwa', 'sababu', 'watoto', 'walikuwa', 'hawasomi', 'tena', 'vizuri', ',', 'walikuwa', 'wakifukuzwa', 'kila', 'wakati', 'ikiwa', 'sijalipa', '.', 'Mwalimu', 'Nsumbu', 'Coneil', 'anafundisha', 'katika', 'shule', 'ya', 'msingi', 'ya', 'Kilimani', 'kwa', 'muda', 'wa', 'miaka', 'kumi', 'na', 'mitano', 'sasa', 'lakini', 'anapokea', 'ada', 'ya', '$', '60', 'kila', 'mwezi', 'kutoka', 'kwa', 'wazazi', '.', 'Lakini', 'amejumuishwa', 'katika', 'orodha', 'rasmi', 'ya', 'wanfanyakazi', 'wa', 'serkali', ',', 'mpaka', 'sasa', 'anasema', 'ana', 'shaka', 'na', 'serikali', 'kutekeleza', 'hatua', 'ya', 'kuwalipa', 'mishahara', '.', 'Kwa', 'mujibu', 'wa', 'Godé', 'Moju', 'mkurugenzi', 'wa', 'shule', 'ya', 'Kilimani', ',', 'Kwa', 'sasa', 'watoto', 'wengi', 'wameeanza', 'kukaa', 'sakafuni', 'kutokama', 'na', 'ukosefu', 'wa', 'viti', 'na', 'madarasa', 'yamekuwa', 'madogo', 'kuweza', 'kupokea', 'idadi', 'inayoongezeka', 'ya', 'wanafunzi', '.', 'Hali', 'ambayo', 'anaeleza', 'huenda', 'ikachangia', \"'watoto\", 'kusoma', 'katika', 'mazingira', 'mabovu', \"'\", '.', \"'Licha\", 'ya', 'watoto', 'sasa', 'kuwa', 'wengi', ',', 'walisema', 'tupokee', 'watoto', 'wote', ',', 'hivi', 'nimeweka', 'kila', 'darasa', 'wawili', 'wawili', ',', 'watoto', 'wengi', 'sasa', 'wameanza', 'kukaa', 'chini', 'sababu', 'tu', 'wafundishwe', \"'\", '.', 'Huwezi', 'kusikiliza', 'tena', 'Maelezo', 'ya', 'sauti', ',', 'Mpango', 'wa', 'elimu', 'bila', 'malipo', 'Tanzania', 'umefanikiwa', '?', 'Walimu', 'wanatishia', 'kuanza', 'mgomo', 'ikifika', 'tarehe', 'ishinirini', 'mwezi', 'huu', 'ikiwa', 'serkali', 'haitawalipa', 'mshara', 'wa', 'kutosha', '.', 'Gharama', 'ya', 'elimu', 'ya', 'bure', 'kwa', 'watoto', 'wa', 'shule', 'ya', 'msinigi', 'ni', 'kama', '40', '%', 'ya', 'bajeti', 'ya', 'nchi', 'ambayo', 'ni', 'ya', 'dola', 'za', 'Marekani', 'karibu', 'bilioni', 'sita', '.', 'Wachambuzi', 'wa', 'uchumi', 'wana', 'shaka', 'iwapo', 'hatua', 'hio', 'ya', 'serikali', 'itafanikiwa', 'lakini', 'rais', 'Felix', 'Tshisekedi', 'ana', 'matumaini', 'mengi', '.', '``', 'Itakuwa', 'hatua', 'ambayo', 'itakamilishwa', 'katika', 'miezi', 'michache', 'ijayo', '.', '``', 'Mpango', 'huu', 'tumeukuta', 'lakini', 'hakukuwa', 'na', 'bajeti', '.', 'Hili', 'ndilo', 'nitakalolipa', 'kipaumbele', '.', 'Congo', 'ina', 'uwezo', 'wa', 'kuongeza', 'mshahara', 'kugharamia', 'elimu', 'na', 'tutalipa', \"''\", 'amesema', 'rais', 'Felix', 'tshisekedi', '.', 'Serikali', 'mpya', 'ilihiadi', 'kufuatiliwa', 'kwa', 'karibu', 'pia', 'uamuzi', 'huu', 'wa', 'rais', 'wa', 'kutoa', 'elimu', 'ya', 'bure', 'kwa', 'watoto', 'wa', 'shule', 'za', 'msingi', '.', 'Chanzo', 'cha', 'picha', ',', '-', 'Maelezo', 'ya', 'picha', ',', 'Katika', 'taifa', 'la', 'Burundi', 'shule', 'kadhaa', 'zimejengwa', 'chini', 'ya', 'utawala', 'wa', 'rais', 'Nkuruzinzana', 'alitangaza', 'elimu', 'ya', 'bure', 'punde', 'tu', 'alipoingia', 'madarakani', 'lakini', 'viwango', 'vya', 'elimu', 'bado', 'havijaridhisha', 'Funzo', 'gani', 'kutokana', 'na', 'mifano', 'ya', 'kieneo', '?', 'Congo', 'inafuata', 'mifano', 'ya', 'mataifa', 'mengine', 'katika', 'eneo', 'la', 'Afrika', 'mashariki', 'kama', 'Kenya', ',', 'Tanzania', ',', 'Uganda', ',', 'Rwanda', 'na', 'Burundi', 'katika', 'kutoa', 'elimu', 'ya', 'bure', 'katika', 'shule', 'za', 'msingi', '.', 'Katika', 'miongo', 'kadhaa', 'ya', 'nyuma', ',', 'elimu', 'ya', 'bure', 'katika', 'shule', 'ya', 'msingi', 'iliidhinishwa', 'katika', 'baadhi', 'ya', 'mataifa', 'kusini', 'mwa', 'jangwa', 'la', 'Sahara', 'kama', 'sehemu', 'ya', 'jitihada', 'za', 'kufufua', 'mfumo', 'wa', 'elimu', 'ambao', 'umekuwa', 'ukidorora', ',', 'na', 'kukabiliana', 'na', 'idadi', 'ndogo', 'ya', 'wanafunzi', 'wanaojiunga', 'shuleni', ',', 'linaripoti', 'shirika', 'la', 'Umoja', 'wa', 'mataifa', 'la', 'elimu', 'sayansi', 'na', 'utamaduni', '-', 'UNESCO', '.', 'Hatua', 'hiyo', 'hatahivyo', 'imekabiliwa', 'na', 'changamoto', 'katika', 'utekelezaji', 'wake', 'tangu', 'kuanzishwa', 'katika', 'vipindi', 'tofuati', 'kwenye', 'mataifa', 'hayo', ',', 'ikiwemo', 'kucheleweshwa', 'kutolewa', 'kwa', 'ufadhili', 'kutoka', 'kwa', 'serikali', ',', 'uhaba', 'wa', 'walimu', 'wa', 'kuwafunza', 'idadi', 'kubwa', 'ya', 'watoto', ',', 'uhaba', 'wa', 'vifaa', 'vya', 'kufundisha', 'pamoja', 'na', 'usimamizi', 'mbaya', 'wa', 'miradi', 'hiyo', '.', 'Katika', 'taifa', 'la', 'Burundi', 'kwa', 'mfano', ',', 'shule', 'kadhaa', 'zimejengwa', 'chini', 'ya', 'utawala', 'wa', 'rais', 'Nkuruzinzana', 'alitangaza', 'elimu', 'ya', 'bure', 'punde', 'tu', 'alipoingia', 'madarakani', 'lakini', 'viwango', 'vya', 'elimu', 'bado', 'havijaridhisha', '.', 'Swali', 'kubwa', 'sasa', 'wakati', 'mpango', 'huu', 'unaidhinishwa', 'leo', 'Congo', ',', 'Je', 'ni', 'vipi', 'hatua', 'hii', 'inaweza', 'kuendelezwa', 'ipasavyo', 'nchini', 'humo', '?']\n",
      "\n",
      " Number of Words:  718\n"
     ]
    }
   ],
   "source": [
    "file=\"19sep5.txt\"\n",
    "\n",
    "# calling the function and storing the contents in a text variable \n",
    "text = get_document(\"https://www.bbc.com/swahili/habari-49584172\")\n",
    "\n",
    "# calling the store_ document function \n",
    "store_document(doc=text,name=file)\n",
    "\n",
    "#add the words in this file to the total_corpus_words, to keep count of the number of words in the corpus\n",
    "total_corpus_words+=total_words(file)"
   ]
  },
  {
   "cell_type": "code",
   "execution_count": 60,
   "metadata": {},
   "outputs": [
    {
     "data": {
      "text/plain": [
       "143865"
      ]
     },
     "execution_count": 60,
     "metadata": {},
     "output_type": "execute_result"
    }
   ],
   "source": [
    "total_corpus_words"
   ]
  },
  {
   "cell_type": "code",
   "execution_count": 61,
   "metadata": {},
   "outputs": [
    {
     "name": "stdout",
     "output_type": "stream",
     "text": [
      "['Je', 'mitandao', 'ina', 'msukumo', 'gani', 'katika', 'maandalizi', 'ya', 'harusi', '?', 'Utafiti', 'uliofanyika', 'nchini', 'Uingereza', 'unaonyesha', 'namna', 'gani', 'mitandao', 'ya', 'kijamii', 'kama', 'hasa', 'zaidi', 'Instagram', 'na', 'facebook', 'inavyowasukuma', 'wengi', 'kutumia', 'maelfu', 'na', 'hata', 'mamilioni', 'ya', 'pesa', 'kugharimia', 'picha', 'na', 'video', 'zilizo', 'na', 'mvuto', '.', 'Utafiti', 'huu', 'mpya', 'wa', 'mwaka', '2019', 'unaonesha', 'kuwa', 'gharama', 'ya', 'kuandaa', 'na', 'kupiga', 'picha', 'za', 'harusi', 'imeongezeka', 'kwa', 'wastani', 'wa', 'paundi', 'thelathini', 'na', 'mbili', 'elfu', 'huko', 'Uingereza', '.', 'Mpangaji', 'wa', 'harusi', 'nchini', 'Gabriel', 'Kudaka', 'na', 'mpigaji', 'picha', 'za', 'harusi', 'Imani', 'Insamila', 'kutoka', 'Tanzania', 'wameieleza', 'BBC', 'ni', 'kwanini', 'msukumo', 'huu', 'umekuwepo', '...']\n",
      "\n",
      " Number of Words:  94\n"
     ]
    }
   ],
   "source": [
    "file=\"19sep10_1.txt\"\n",
    "\n",
    "# calling the function and storing the contents in a text variable \n",
    "text = get_document(\"https://www.bbc.com/swahili/habari-49644580\")\n",
    "\n",
    "# calling the store_ document function \n",
    "store_document(doc=text,name=file)\n",
    "\n",
    "#add the words in this file to the total_corpus_words, to keep count of the number of words in the corpus\n",
    "total_corpus_words+=total_words(file)"
   ]
  },
  {
   "cell_type": "code",
   "execution_count": 62,
   "metadata": {},
   "outputs": [
    {
     "data": {
      "text/plain": [
       "143959"
      ]
     },
     "execution_count": 62,
     "metadata": {},
     "output_type": "execute_result"
    }
   ],
   "source": [
    "total_corpus_words"
   ]
  },
  {
   "cell_type": "code",
   "execution_count": 63,
   "metadata": {},
   "outputs": [
    {
     "name": "stdout",
     "output_type": "stream",
     "text": [
      "['Utamaduni', 'wa', 'kubana', 'misuli', 'ya', 'uke', 'ni', 'hatari', 'kwa', 'wanawake', 'Utamaduni', 'wa', 'wanawake', 'kubana', 'misuli', 'ya', 'uke', 'umekuwa', 'ukifanywa', 'na', 'jamii', 'nyingi', 'barani', 'Afrika', 'katika', 'miaka', 'mingina', 'katika', 'pwani', 'ya', 'Afrika', 'mashariki', 'hasa', 'jamii', 'ya', 'waswahili', 'wamekuwa', 'wakipokezana', 'utamaduni', 'huu', 'kutoka', 'kizazi', 'kimoja', 'hadi', 'kingine', 'lakini', 'katika', 'miaka', 'ya', 'hivi', 'karibuni', 'hasa', 'katika', 'miji', 'mikuu', 'kama', 'vile', 'Mombasa', ',', 'wanawake', 'wamekuwa', 'wakitumia', 'mbinu', 'nyingine', 'ambazo', 'ni', 'za', 'kisasa', 'japo', 'huenda', 'zikahatarisha', 'maisha', 'yao', '.', 'Ukipita', 'mtaa', 'wa', 'Likoni', 'Jijini', 'Mombasa', ',', 'pwani', 'ya', 'Kenya', ',', 'utamaduni', 'huu', 'wa', 'wanawake', 'kubana', 'njia', 'zao', 'za', 'uzazi', 'si', 'geni', '.', 'Munira', 'Ali', 'Salim', 'ni', 'mkaazi', 'wa', 'Mombasa', 'na', 'kama', 'wanawake', 'wenzake', 'anaelewa', 'Faida', 'zake', '.', 'Na', 'wanachotumia', 'zaidi', 'kwa', 'shughuli', 'hiyo', 'wenyewe', 'wanaita', 'shabu', '.', \"''Hii\", 'ndio', 'shabu', 'na', 'kazi', 'yake', 'ni', 'kuchukua', 'hiki', 'kipande', 'unaponda', 'kisha', 'unafunga', 'kwenye', 'pamba', '.', 'Na', 'unachanganya', 'na', 'mafuta', 'mazito', 'yenye', 'harufu', 'nzuri', 'mfano', 'manukato', 'ya', 'Udi', '.', 'Sasa', 'hiyo', 'inasaidia', 'ukitia', 'huku', 'chini', 'shabu', 'inavuta', \"''\", 'Wanawake', 'hawa', 'pia', 'wameelezea', 'hofu', 'kuwa', 'waume', 'huenda', 'wakawaacha', 'au', 'kuwatafutia', 'mke', 'wa', 'pili', 'iwapo', 'wata', 'kosa', 'kuridhika', 'nao', 'kimapenzi', '.', 'Na', 'yote', 'haya', 'wamejifunza', 'kutoka', 'kwa', 'makungwi', 'ambao', 'huwapa', 'ushauri', 'nasaha', 'wasichana', 'wanapo', 'olewa', ',', 'kuhusu', 'njia', 'za', 'kumridhisha', 'na', 'mume', '.', 'Mbali', 'na', 'shabu', 'ambayo', 'inatengenezwa', 'kwa', 'chumvi', ',', 'kuna', 'bidhaa', 'nyingi', 'zinazopatikana', 'madukani', 'kama', 'vile', 'choki', ',', 'inayotengenezwa', 'kutoka', 'kwa', 'chokaa', 'maalum', 'yenye', 'kemikali', 'inayoaminiwa', 'kuvuta', 'misuli', 'ya', 'uke', 'na', 'kubana', '.', 'Madhara', 'ya', 'matumizi', 'ya', 'bidhaa', 'hizi', 'kwa', 'wanawake', 'Bidhaa', 'hizi', 'wanazonunua', 'hawajui', 'zimetokana', 'na', 'kitu', 'gani', 'na', 'wala', 'hazina', 'maelezo', 'ya', 'namna', 'ya', 'kutumia', 'na', 'wala', 'hakuna', 'ushauri', 'wa', 'daktari', 'wala', 'hawana', 'hofu', 'kuhusu', 'madhara', 'yanayoweza', 'kujitokeza', 'hapo', 'baadae', '.', 'Daktari', 'Kinuthia', 'Muriu', 'ni', 'mtaalamu', 'wa', 'afya', 'ya', 'uzazi', 'anasema', 'matumizi', 'ya', 'bidhaa', 'hizi', 'yapo', 'sana', 'miongoni', 'mwa', 'jamii', 'ya', 'wanawake', '.', \"''Kwa\", 'makabila', 'fulani', 'huwa', 'wana', 'njia', 'nyingi', 'wanatumia', 'kubana', 'njia', 'ya', 'uzazi', ',', 'nyingine', 'ni', 'mbaya', 'huweka', 'mpaka', 'chumvi', 'inayounguza', 'mwili', 'hali', 'ambayo', 'baadae', 'huwa', 'kuna', 'madhara', '.', 'kuna', 'wale', 'wanapata', 'msukumo', 'kutoka', 'kwa', 'jamii', ',', 'fikra', 'zao', 'wanaona', 'kama', 'wana', 'maumbo', 'yaliyo', 'na', 'shida', ',', 'wanahitaji', 'ushauri', 'nasaha', 'ili', 'waweze', 'kujikubali', \"''\", '.', 'Daktari', 'Muriu', 'anasema', 'kuna', 'njia', 'mbalimbali', 'zinazotumika', 'kisayansi', 'zinakubaliwa', 'ili', 'kuandaa', 'mwili', 'wa', 'mzazi', 'kwa', 'mfano', 'wakati', 'wa', 'kuuandaa', 'mwili', 'na', 'kurekebisha', 'mwili', 'kama', 'kubana', 'njia', 'za', 'uzazi', 'na', 'wengi', 'hufuatilia', 'matibabu', 'hayo', ',', 'kuna', 'mazoezi', 'kama', 'yale', 'kitaalamu', 'yanaitwa', 'Kegel', ',', 'mazoezi', 'yanayosaidia', 'kurejesha', 'maumbile', 'ya', 'mwanamke', '.']\n",
      "\n",
      " Number of Words:  400\n"
     ]
    }
   ],
   "source": [
    "file=\"19sep10_2.txt\"\n",
    "\n",
    "# calling the function and storing the contents in a text variable \n",
    "text = get_document(\"https://www.bbc.com/swahili/habari-49647330\")\n",
    "\n",
    "# calling the store_ document function \n",
    "store_document(doc=text,name=file)\n",
    "\n",
    "#add the words in this file to the total_corpus_words, to keep count of the number of words in the corpus\n",
    "total_corpus_words+=total_words(file)"
   ]
  },
  {
   "cell_type": "code",
   "execution_count": 64,
   "metadata": {},
   "outputs": [
    {
     "data": {
      "text/plain": [
       "144359"
      ]
     },
     "execution_count": 64,
     "metadata": {},
     "output_type": "execute_result"
    }
   ],
   "source": [
    "total_corpus_words"
   ]
  },
  {
   "cell_type": "code",
   "execution_count": 67,
   "metadata": {},
   "outputs": [
    {
     "name": "stdout",
     "output_type": "stream",
     "text": [
      "['Je', 'mila', 'potofu', 'zinachangia', 'vipi', 'tabu', 'za', 'wajane', '?', 'Akina', 'mama', 'wajane', 'hususan', 'katika', 'mataifa', 'ya', 'kiafrika', 'wamekuwa', 'wakilalamika', 'kuwa', 'mila', 'potofu', 'zinawafanya', 'wanyanyaswe', 'katika', 'jamii', 'zao', '...', 'lakini', 'Je', ',', 'ni', 'kwa', 'kiwango', 'gani', 'mila', 'potofu', 'imechangia', 'tabu', 'wanazopata', 'wajane', 'katika', 'jamii', 'za', 'kiafrika', '?', 'Sikiliza', 'mazungumzo', 'ya', 'Mwandishi', 'wa', 'BBC', 'Caro', 'Robi', 'akizungumza', 'na', 'Mwenyekiti', 'wa', 'kongamano', 'la', 'wajane', 'Bi', 'Beatrice', 'Mwinuka', 'pamoja', 'na', 'mdadisi', 'wa', 'masuala', 'ya', 'kijamii', 'Franco', 'Baraza', '...']\n",
      "\n",
      " Number of Words:  74\n"
     ]
    }
   ],
   "source": [
    "file=\"19sep12_1.txt\"\n",
    "\n",
    "# calling the function and storing the contents in a text variable \n",
    "text = get_document(\"https://www.bbc.com/swahili/habari-49674133\")\n",
    "\n",
    "# calling the store_ document function \n",
    "store_document(doc=text,name=file)\n",
    "\n",
    "#add the words in this file to the total_corpus_words, to keep count of the number of words in the corpus\n",
    "total_corpus_words+=total_words(file)"
   ]
  },
  {
   "cell_type": "code",
   "execution_count": 68,
   "metadata": {},
   "outputs": [
    {
     "data": {
      "text/plain": [
       "144433"
      ]
     },
     "execution_count": 68,
     "metadata": {},
     "output_type": "execute_result"
    }
   ],
   "source": [
    "total_corpus_words"
   ]
  },
  {
   "cell_type": "code",
   "execution_count": 69,
   "metadata": {},
   "outputs": [
    {
     "name": "stdout",
     "output_type": "stream",
     "text": [
      "['Alisisistiza', 'kwamba', 'wahudumu', 'kwenye', 'ndege', 'wanapaswa', 'kupewa', 'mafunzo', 'maalum', 'ili', 'kuwawezesha', 'kudhibiti', 'viwango', 'vya', 'ulevi', 'wa', 'abiria', 'kwenye', 'ndege', 'akisema', 'kwamba', 'utovu', 'wa', 'nidhamu', 'mara', 'nyingi', 'husababishwa', 'na', 'abiria', 'waliobugia', 'vileo', '.', '``', 'Kuna', 'kitu', 'kimoja', 'ambacho', 'hukera', 'sana', '...', 'na', 'ni', 'viwango', 'vya', 'utoaji', 'wa', 'hewa', 'chafu', '.', 'Kuna', 'abiria', 'ambao', 'wanaweza', 'kukera', 'abiria', 'wenzao', 'kwa', 'kutoa', 'hewa', 'chafu', ',', 'inayonuka', 'vibaya', ',', 'na', 'kukosesha', 'starehe', '.', 'Kama', 'hili', 'halitathibitiwa', 'itasababisha', 'ukosefu', 'wa', 'starehe', 'ambayo', 'itapelekea', 'kuwepo', 'kwa', 'ukosefu', 'wa', 'usalama', '.', \"''\", 'Alisema', 'Dkt', 'Gogo', '.', 'Mbunge', 'huyo', 'wa', 'eneo', 'bunge', 'la', 'Rungwe', 'alisema', 'kwamba', 'mfumo', 'maalum', 'unapaswa', 'kuwekwa', 'ambao', 'utathibiti', 'vyakula', 'vinavyopewa', 'abiria', 'kweny', 'ndege', 'na', 'pia', 'dawa', 'zitakazosaidia', 'kupunguza', 'gesi', '.', '``', 'Kama', 'kuna', 'kitu', 'ambacho', 'hukera', 'sana', 'na', 'husababisha', 'watu', 'kupigana', 'ndani', 'ya', 'ndege', 'ni', 'utoaji', 'wa', 'ushuzi', '...', 'Ni', 'mbaya', 'sana', '.', 'Hata', 'hapa', 'nchini', 'Kenya', 'unaposafiri', 'kutoka', 'Kisumu', 'hadi', 'Nairobi', 'au', 'Nairobi', 'kuelekea', 'Mombasa', '...', 'Mheshimiwa', 'spika', ',', 'kama', 'ni', 'mimi', 'pekee', 'ambaye', 'nimekumbana', 'na', 'hili', '...', 'Basi', 'nadhani', 'Bwana', 'Spika', ',', 'wengi', 'wenu', 'mna', 'bahati', 'sana', '...', \"''\", 'Dkt', 'Gogo', 'alisema', 'huku', 'akionekana', 'kukerwa.', '``', 'Kwa', 'hivyo', 'tunapaswa', 'kuwa', 'na', 'dawa', 'za', 'kupunguza', 'gesi', 'ambazo', 'zitatolewa', 'kwa', 'ndege', '...', 'Na', 'hili', 'ninasema', 'Bwana', 'Spika', 'linapaswa', 'kufanyika', ',', 'na', 'linapaswa', 'kuwa', 'ni', 'jambo', 'ambalo', 'linatambulika', 'kisheria', \"''\", 'Dkt', 'Rungwe', 'alisisitiza', 'kwamba', 'wakati', 'kuna', 'abiria', 'yeyote', 'ambaye', 'ana', 'matatizo', 'ya', 'kiafya', ',', 'usalama', 'wa', 'abiria', 'wengine', 'huathirika', '.']\n",
      "\n",
      " Number of Words:  234\n"
     ]
    }
   ],
   "source": [
    "file=\"19sep12_2.txt\"\n",
    "\n",
    "# calling the function and storing the contents in a text variable \n",
    "text = get_document(\"https://www.bbc.com/swahili/habari-49674135\")\n",
    "\n",
    "# calling the store_ document function \n",
    "store_document(doc=text,name=file)\n",
    "\n",
    "#add the words in this file to the total_corpus_words, to keep count of the number of words in the corpus\n",
    "total_corpus_words+=total_words(file)"
   ]
  },
  {
   "cell_type": "code",
   "execution_count": 70,
   "metadata": {},
   "outputs": [
    {
     "data": {
      "text/plain": [
       "144667"
      ]
     },
     "execution_count": 70,
     "metadata": {},
     "output_type": "execute_result"
    }
   ],
   "source": [
    "total_corpus_words"
   ]
  },
  {
   "cell_type": "code",
   "execution_count": 71,
   "metadata": {},
   "outputs": [
    {
     "name": "stdout",
     "output_type": "stream",
     "text": [
      "['Peter', 'Tabichi', ':', 'Mwalimu', 'bora', 'duniani', 'kutoka', 'Kenya', 'akutana', 'na', 'Donald', 'Trump', 'ikulu', 'ya', 'Marekani', '17', 'Septemba', '2019', 'Chanzo', 'cha', 'picha', ',', 'TONY', 'KARUMBA', 'Peter', 'Tabichi', 'kutoka', 'Kenya', ',', 'aliyetuzwa', 'Mwalimu', 'bora', 'duniani', 'mapema', 'mwaka', 'huu', ',', 'amekutana', 'na', 'rais', 'wa', 'Marekani', 'Donald', 'Trump', 'katika', 'ikulu', 'ya', 'White', 'House', 'huku', 'akitarajiwa', 'kutoa', 'hotuba', 'katika', 'baraza', 'kuu', 'la', 'Umoja', 'wa', 'mataifa', 'leo', '.', 'Brother', 'Tabichi', ',', 'ni', 'mtawa', 'wa', 'shirika', 'la', 'kikatoliki', 'la', 'Mtakatifu', 'Fransisco', 'wa', 'kapuchini', 'na', 'alishinda', 'tuzo', 'ya', 'mwalimu', 'bora', 'duniani', 'mnamo', 'Machi', '2019', '.', 'Anafunza', 'sayansi', 'katika', 'shule', 'ya', 'mseto', 'ya', 'upili', 'ya', 'Keriko', 'katika', 'kaunti', 'ya', 'Nakuru', ',', 'kaskazini', 'magharibi', 'mwa', 'mji', 'mkuu', ',', 'Nairobi', '.', 'Picha', 'ya', 'Tabichi', 'akikutana', 'na', 'rais', 'Trump', 'iliwekwa', 'na', 'afisa', 'wa', 'mawasiliano', 'kutoka', 'ikulu', 'kwenye', 'Twitter', 'ambaye', 'alisema', 'Tabichi', 'alitoa', '``', '80', '%', 'ya', 'mshahara', 'wake', 'kwa', 'mwezi', 'kuwasaida', 'masikini', 'nchini', 'mwake', 'Kenya', \"''\", '``', 'Uwajibikaji', 'wake', 'na', 'kazi', 'yake', 'ngumu', 'na', 'imani', 'kwa', 'talanta', 'ya', 'wanafunzi', ',', 'imeifanya', 'shule', 'anayofunza', 'kuibuka', 'kidedea', 'baada', 'ya', 'kushindana', 'na', 'shule', 'zilizo', 'bora', 'nchini', 'katika', 'mashindano', 'ya', 'kitaifa', 'ya', 'sayansi', '.', 'Tabichi', 'anatarajiwa', 'kutoa', 'maombi', 'kabla', 'ya', 'kuanza', 'kwa', 'kikao', 'cha', 'baraza', 'kuu', 'la', 'Umoja', 'wa', 'mataifa', 'mjini', 'New', 'York', 'baadaye', 'leo', '.', 'Anatarjiwa', 'pia', 'kuzungumzia', 'kidogo', 'kuhusu', 'namna', 'alivyofanikiwa', 'kufika', 'alipofika', 'katika', 'taaluma', 'ya', 'uwalimu', '.', 'Chanzo', 'cha', 'picha', ',', 'VARKEY', 'FOUNDATION', 'Maelezo', 'ya', 'picha', ',', 'Brother', 'Peter', 'Tabichi', 'amesifiwa', 'kama', '``', 'mwalimu', 'wa', 'kipekee', \"''\", 'ambaye', 'hugawa', 'sehemu', 'kubwa', 'ya', 'mshahara', 'wake', 'Tabichi', 'amenukuliwa', 'kusema', 'kwamba', '``', 'Hii', 'ni', 'heshima', 'kubwa', 'kwa', 'watawa', 'wa', 'St', 'Franciscan', '.', 'Inaonyesha', 'kuwa', 'Umoja', 'wa', 'mataifa', 'unatutambua', 'kutokana', 'na', 'kwamba', 'ina', 'jukumu', 'kuu', 'katika', 'kuendeleza', 'utu', '.', \"''\", 'Huwezi', 'kusikiliza', 'tena', 'Maelezo', 'ya', 'video', ',', 'Mwalimu', 'wa', 'Sayansi', 'nchini', 'Kenya', 'ashinda', 'tuzo', 'ya', 'dunia', 'ya', 'mwalimu', 'bora', 'zaidi', '.', 'Katika', 'tuzo', 'hiyo', 'iliotolewa', 'katika', 'shindano', 'lililoandaliwa', 'na', 'Wakfu', 'wa', 'Varkey', ',', 'Brother', 'Peter', 'aliwapiku', 'washiriki', 'wengine', '10,000', 'waliochaguliwa', 'kutoka', 'nchi', '179', '.', 'Brother', 'Peter', 'anasema', 'kuna', '``', 'changamoto', 'ya', 'ukosefu', 'wa', 'vifaa', '``', 'katika', 'shule', 'yake', 'ukiwemo', 'uhaba', 'wa', 'vitabu', 'na', 'waalimu', '.', 'Madarasa', 'yenye', 'uwezo', 'wa', 'kuwa', 'na', 'wanafunzi', 'kati', 'ya', '35', 'hadi', '40', 'hulazimika', 'kuwa', 'na', 'wanafunzi', '70', 'na', '80', ',', 'jambo', 'analosema', 'linamaanisha', 'kuwa', 'darasa', 'linakuwa', 'na', 'wanafunzi', 'wengi', 'kupita', 'kiasi', ',', 'na', 'ni', 'tatizo', 'kwa', 'waalimu', '.', 'Ukosefu', 'wa', 'intaneti', 'ya', 'kuaminika', 'unamlazimisha', 'kusafiri', 'hadi', 'kwenye', 'cyber-cafe', 'kwa', 'ajili', 'ya', 'kupakua', 'maelezo', 'ya', 'masomo', 'yake', 'ya', 'sayansi', '.', 'Na', 'wanafunzi', 'wengi', 'hutembea', 'zaidi', 'ya', 'maili', 'nne', 'kwenye', 'barabara', 'mbovu', 'kufika', 'shuleni', '.', 'Lakini', 'Brother', 'Peter', 'anasema', 'ameazimia', 'kuwapatia', 'fursa', 'ya', 'kusoma', 'na', 'kufikia', 'ndoto', 'zao', '.']\n",
      "\n",
      " Number of Words:  425\n"
     ]
    }
   ],
   "source": [
    "file=\"19sep17_1.txt\"\n",
    "\n",
    "# calling the function and storing the contents in a text variable \n",
    "text = get_document(\"https://www.bbc.com/swahili/habari-49724188\")\n",
    "\n",
    "# calling the store_ document function \n",
    "store_document(doc=text,name=file)\n",
    "\n",
    "#add the words in this file to the total_corpus_words, to keep count of the number of words in the corpus\n",
    "total_corpus_words+=total_words(file)"
   ]
  },
  {
   "cell_type": "code",
   "execution_count": 72,
   "metadata": {},
   "outputs": [
    {
     "data": {
      "text/plain": [
       "145092"
      ]
     },
     "execution_count": 72,
     "metadata": {},
     "output_type": "execute_result"
    }
   ],
   "source": [
    "total_corpus_words"
   ]
  },
  {
   "cell_type": "code",
   "execution_count": 73,
   "metadata": {},
   "outputs": [
    {
     "name": "stdout",
     "output_type": "stream",
     "text": [
      "['Mjasiriamali', 'wa', 'kigeni', 'apatikana', 'na', 'hatia', 'ya', 'kuwatapeli', 'Wanyarwanda', 'Maelfu', 'ya', 'vijana', 'walifika', 'katika', 'ukumbi', 'wa', 'Kigali', 'Convention', 'Centre', 'kupata', 'mafunzo', 'feki', 'Mjasiriamali', 'raia', 'wa', 'Kenya', 'amefungwa', 'kifungo', 'cha', 'miaka', 'miwili', 'jela', 'kwa', 'kosa', 'la', 'kuwatapeli', 'Wanyarwanda', 'wengi', 'vijana', '.', 'Mahakama', 'ya', 'Kigali', 'imemkuta', 'na', 'hatia', 'Charles', 'Kinuthia', 'ya', 'kuwatapeli', 'maelfu', 'ya', 'vijana', 'wa', 'Kinyarwanda', 'kwa', 'kuandaa', 'warsha', 'feki', 'mjini', 'Kigali', '.', 'Hata', 'hivyo', 'wakili', 'wa', 'Bwana', 'Kinuthia', 'amesema', 'wataiomba', 'serikali', 'ya', 'Kenya', 'iingilie', 'kati', '.', 'Akitoa', 'hukumu', 'hiyo', ',', 'Jaji', 'amesema', 'kuwa', 'kulikuwa', 'na', 'ushahidi', 'ulioonesha', 'kuwa', 'bw', 'Kinuthia', 'alipanga', 'mkutano', 'huo', 'feki', ',', 'na', 'kuongeza', 'kuwa', 'kama', 'mtu', 'mwenye', 'uzoefu', 'wa', 'kuandaa', 'mikutano', 'angeandika', 'ujumbe', 'wa', 'maandishi', 'wa', 'kusahihisha', 'makosa', 'ya', 'maelezo', 'ya', 'kikao', 'hicho', 'na', 'kutuma', 'kwa', 'Wanyarwanda', '.', 'Mahakama', 'pia', 'imempata', 'na', 'hatia', 'ya', 'kutokuwa', 'na', 'utaalamu', 'wa', 'kutoa', 'mafunzo', 'ya', 'ubunifu', 'wa', 'kazi', '.', 'Baadhi', 'ya', 'maelfu', 'ya', 'vijana', 'waliojitokeza', 'kwa', 'ajili', 'ya', 'mafunzo', 'hayo', 'wameiambia', 'BBC', 'kuwa', 'waliambiwa', 'walipe', 'Dola', '5', 'za', 'usajili', 'huku', 'wakiahidiwa', 'kuwa', 'wangepewa', 'Dola', '197', '(', 'sawa', 'na', 'franga', '177,000', 'za', 'Rwanda', ')', 'kama', 'marupurupu', '.', 'Maelezo', 'ya', 'picha', ',', 'Baadhi', 'ya', 'vijana', 'walihudhuria', 'mafunzo', 'feki', 'yaliyoandaliwa', 'na', 'Bwana', 'Kinuthia', 'mjini', 'Kigali', 'Hata', 'hivyo', 'mafunzo', 'hayo', 'hayakufanyika', 'kwani', 'Kinuthia', 'na', 'watu', 'wake', 'waliwaandikia', 'watu', 'kuwafahamisha', 'kuwa', 'viti', 'havitoshi', 'na', 'kuwashauri', 'kuwa', 'wanahitaji', 'kulipa', 'gharama', 'ndogo', 'kulingana', 'na', 'mafunzo', 'watakayopewa', '.', 'Kulingana', 'na', 'ujumbe', 'wa', 'Kinuthia', 'kulikuwa', 'na', 'aina', 'tatu', 'za', 'gharama', 'za', 'mafunzo', '.', 'Mafunzo', 'ya', 'gharama', 'ya', 'Dola', '5', ',', 'mafunzo', 'ya', 'Dola', '15', 'na', 'Dola', '25', 'kulingana', 'na', 'uwezo', 'wa', 'mtu', 'na', 'mafunzo', 'anayoyahitaji', '.', 'Mafunzo', 'hayo', 'yalisimamishwa', 'kabla', 'ya', 'kuanza', 'kwasababu', 'idadi', 'ya', 'washiriki', 'ilikuwa', 'kubwa', 'kuzidi', 'kiasi', 'kutokana', 'na', 'faida', 'ya', 'pesa', 'waliyotarajia', 'kupata', 'ya', 'Dola', '197', '.', 'Inakadiriwa', 'kuwa', 'vijana', '2500', 'walijiandikisha', 'kushiriki', 'mafunzo', 'hayo', 'feki', 'ya', 'ubunifu', 'wa', 'kazi', '.', 'Baadhi', 'ya', 'watu', 'walizuiwa', 'kuingia', 'ndani', 'ya', 'jumba', 'la', 'mikutano', 'kuhudhuria', 'mafunzo', 'hayo', 'kwasababu', 'hawakuweza', 'kulipa', 'huku', 'wengine', 'wakisikitika', 'kubaini', 'kuwa', 'hakukuwa', 'na', 'marupurupu', 'ya', 'Dola', '197', 'ambazo', 'waliahidiwa', 'kupewa', 'kwa', 'kuhudhuria', 'mafunzo', 'hayo', '.', 'Tukio', 'hilo', 'liliibua', 'hisia', 'kali', 'miongoni', 'mwa', 'Wanyarwanda', 'ambao', 'walielezea', 'hasira', 'yao', 'kupitia', 'mitandao', 'ya', 'kijamii', 'na', 'vyombo', 'vya', 'habari', ',', 'jambo', 'lililosababisha', 'maafisa', 'wa', 'usalama', 'hususani', 'idara', 'ya', 'upelelezi', 'ya', 'Rwanda', 'kuingilia', 'kati', '.', 'Evode', 'Kayitana', ',', 'wakili', 'wa', 'Kinuthia', ',', 'ameiambia', 'BBC', 'kuwa', 'hukumu', 'iliyotolewa', 'na', 'mahakama', 'haikuwa', 'ya', 'haki', 'kwasababu', 'waliweza', 'kuthibitisha', 'kuwa', '$', '197', 'ilikuwa', 'ni', 'thamani', 'ya', 'kozi', 'ambayo', 'wangeipata', 'na', 'sio', 'pesa', 'ambazo', 'zingetolewa', 'kwa', 'washiriki', 'wa', 'mafunzo', 'hayo.', '``', 'Na', 'haiingii', 'akilini', 'ni', 'kwa', 'jinsi', 'gani', 'mahakama', 'iliwaondolea', 'mashtaka', 'wanawake', 'wawili', 'raia', 'wa', 'Kenya', 'na', 'mwanamme', 'mmoja', 'Mnyarwanda', 'also', 'ambao', 'ni', 'waajiriwa', 'na', 'washtakiwa', 'wenza', 'wa', 'Bwana', 'Kinuthia', 'na', 'kumhukumu', 'peke', 'yake', '``', ',', 'Amesema', 'Bwana', 'Kayitana', '.', 'Bwana', 'Kayitana', 'amesema', 'mteja', 'wake', 'atakata', 'rufaa', 'juu', 'ya', 'uamuzi', 'wa', 'mahakama', ',', 'lakini', 'pia', 'ataiomba', 'serikali', 'ya', 'Kenya', 'iingilie', 'kati', 'kwasababu', 'anadhani', 'ni', 'swala', 'la', 'kidiplomasia', '.']\n",
      "\n",
      " Number of Words:  474\n"
     ]
    }
   ],
   "source": [
    "file=\"19sep17_2.txt\"\n",
    "\n",
    "# calling the function and storing the contents in a text variable \n",
    "text = get_document(\"https://www.bbc.com/swahili/habari-49727996\")\n",
    "\n",
    "# calling the store_ document function \n",
    "store_document(doc=text,name=file)\n",
    "\n",
    "#add the words in this file to the total_corpus_words, to keep count of the number of words in the corpus\n",
    "total_corpus_words+=total_words(file)"
   ]
  },
  {
   "cell_type": "code",
   "execution_count": 74,
   "metadata": {},
   "outputs": [
    {
     "data": {
      "text/plain": [
       "145566"
      ]
     },
     "execution_count": 74,
     "metadata": {},
     "output_type": "execute_result"
    }
   ],
   "source": [
    "total_corpus_words"
   ]
  },
  {
   "cell_type": "code",
   "execution_count": 75,
   "metadata": {},
   "outputs": [
    {
     "name": "stdout",
     "output_type": "stream",
     "text": [
      "['Urusi', 'kuisadia', 'Uganda', 'kujenga', 'uwezo', 'wake', 'wa', 'nyuklia', ',', 'ni', 'mataifa', 'gani', 'ya', 'Afrika', 'yanatumia', 'nishati', 'ya', 'nyuklia', 'na', 'kwanini', '?', 'Maryam', 'Dodo', 'Abdalla', 'BBC', 'SWAHILI', '19', 'Septemba', '2019', 'Chanzo', 'cha', 'picha', ',', 'AFP', 'Uganda', 'imesaini', 'makubaliano', 'na', 'Urusi', 'kuisaidia', 'kujenga', 'uwezo', 'wake', 'wa', 'kutumia', 'teknolojia', 'ya', 'nyuklia', 'kwa', 'matumizi', 'ya', 'kutengeneza', 'nishati', ',', 'dawa', 'na', 'matumizi', 'mengine', 'ya', 'amani', '.', 'Hatua', 'hii', 'inafuata', 'kusainiwa', 'kwa', 'makubaliano', 'mnamo', 'mei', 'mwaka', 'jana', 'baina', 'ya', 'serikali', 'ya', 'rais', 'Yoweri', 'Museveni', 'na', 'shirika', 'la', 'kitaifa', 'la', 'nyuklia', 'China', 'CNNC', ',', 'kulisaidia', 'taifa', 'hilo', 'la', 'Afrika', 'mashariki', 'kuendeleza', 'matumizi', 'ya', 'nishati', 'ya', 'nyuklia', 'kwa', 'madhumuni', 'ya', 'amani', '.', 'Katika', 'ujumbe', 'rasmi', 'wa', 'wizara', 'ya', 'nishati', 'Uganda', ',', 'makubalinao', 'hayo', 'na', 'Urusi', 'yalisainiwa', 'hapo', 'jana', 'Jumatano', 'huko', 'Vienna', 'kati', 'ya', 'waziri', 'Irene', 'Muloni', 'na', 'naibu', 'mkurugenzi', 'mkuu', 'wa', 'shirika', 'la', 'kitaifa', 'la', 'nishati', 'ya', 'atomiki', 'ROSATOM', ',', 'Nikolai', 'Spasskiy', '.', 'Urusi', 'itaisaidia', 'Uganda', 'kujenga', 'miundo', 'mbinu', 'ya', 'nyuklia', 'kwa', 'matumizi', 'katika', 'viwanda', 'sekta', 'ya', 'afya', 'na', 'pia', 'ukulima', '.', '``', 'Spasskiy', 'ameeleza', 'uwajibikaji', 'na', 'utayari', 'wa', 'ROSATOM', 'kuisaidia', 'Uganda', 'kuidhinisha', 'matumizi', 'ya', 'amani', 'ya', 'nishati', 'ya', 'nyuklia', 'hususan', 'katika', 'ujenzi', 'wa', 'kinu', 'cha', 'nishati', 'ya', 'nyuklia', ',', \"''\", 'taarifa', 'imeeleza', '.', 'Afrika', 'inasonga', 'mbele', 'katika', 'matumizi', 'ya', 'nishati', 'ya', 'nyuklia', 'Kwa', 'mujibu', 'wa', 'ripoti', 'ya', 'IAEA', 'ya', 'mwaka', '2015', ',', 'zaidi', 'ya', 'nchi', '30', 'duniani', ',', 'theluthi', 'moja', 'zikitoka', 'Afrika', 'zinajiandaa', 'kuanzisha', 'mipango', 'ya', 'nyuklia', 'kwa', 'ajili', 'ya', 'kuzalisha', 'umeme', 'kwa', 'usaidizi', 'wa', 'wataalamu', 'kutoka', 'shirika', 'hilo', '.', 'Kampuni', 'ya', 'Urusi', 'Rosatom', ',', 'imeshauriana', 'na', 'kuingia', 'katika', 'mikataba', 'ya', 'makubaliano', 'na', 'serikali', 'kadhaa', 'barani', 'Afrika', 'katika', 'miaka', 'ya', 'hivi', 'karibuni', 'katika', 'kuidhinisha', 'matumizi', 'ya', 'nishati', 'ya', 'nyuklia', '.', 'Rwanda', ':', 'Mwaka', 'jana', 'kampuni', 'hiyo', 'ilitangaza', 'kwamba', 'imesaini', 'makubaliano', '(', 'MOU', ')', 'na', 'serikali', 'ya', 'Rwanda', 'kupitia', 'wizara', 'yake', 'ya', 'miundo', 'mbinu', 'kushirikiana', 'katika', 'matumizi', 'ya', 'amani', 'ya', 'nishati', 'ya', 'atomiki', '.', 'Makubaliano', 'hayo', 'yaliidhinishwa', 'kwa', 'misingi', 'ya', 'ushirikiano', 'wa', 'pande', 'mbili', 'kujenga', 'miundo', 'mbinu', 'ya', 'nyuklia', 'Rwanda', 'na', 'miradi', 'mingine', 'inayotokana', 'na', 'teknolojia', 'ya', 'nyuklia', 'kama', 'ilivyo', 'kwa', 'Uganda', 'hivi', 'sasa', 'katika', 'sekta', 'zikiwemo', 'za', 'afya', 'na', 'hata', 'ukulima', '.', 'Kenya', ':', 'Katika', 'nchi', 'jirani', 'Kenya', ',', 'serikali', 'na', 'kampuni', 'hiyo', 'ya', 'Urusi', 'zilisaini', 'maelewano', 'mnamo', '2016', 'ya', 'matumizi', 'ya', 'amani', 'ilio', 'kutoa', 'fursa', 'ya', 'ushirikiano', 'baina', 'ya', 'pande', 'hizo', 'mbili', 'ya', 'matumizi', 'ya', 'nyuklia', '.', 'Katika', 'kuhimiza', 'ushirikiano', 'huo', ',', 'mwaka', 'jana', 'Rosatom', 'ilishiriki', 'katika', 'warsha', 'ya', 'mafunzo', 'nchini', 'Kenya', '-', 'Kenya', 'Bureau', 'of', 'Standards', '3rd', 'Radiation', 'Protection', 'Safety', 'and', 'Security', 'Training', 'programme', '.', 'Katika', 'warsha', 'hiyo', 'afisa', 'mkuu', 'mtendaji', 'wa', 'Rosatom', ',', 'Dmitry', 'Shornikov', 'alieleza', 'kwamba', 'mataifa', 'mengi', 'ya', 'Afrika', 'yanaelekea', 'katika', 'matumizi', 'ya', 'nishati', 'ya', 'nyuklia', 'kuweka', 'usawa', 'wa', 'matumizi', 'ya', 'nishati', 'na', 'kukabiliana', 'nchangamoto', 'katika', 'upatikanaji', 'wa', 'nishati', '.', '``', 'Nishati', 'ya', 'nyuklia', 'inaweza', 'kutegemewa', ',', 'ina', 'gharama', 'ya', 'kumudu', 'na', 'haina', 'madhara', 'na', 'nishati', 'inayotokana', 'na', 'chanzo', 'kisichokuwa', 'na', 'athari', 'kwa', 'mazingira', '.', \"''\", 'alisema', 'Shornikov', '.', 'Mnamo', '2017', ',', 'Kaimu', 'afisa', 'mkuu', 'mtendaji', 'wa', 'kukinga', 'dhidi', 'ya', 'miali', 'nururishi', 'nchini', 'Kenya', 'Joseph', 'Maina', 'amesema', 'Wakenya', 'hawafai', 'kuwa', 'na', 'wasiwasi', 'kuhusu', 'usalama', 'wa', 'nishati', 'ya', 'nyuklia', '.', '``', 'Kumekuwa', 'na', 'ajali', 'tatu', 'pekee', 'kubwa', 'za', 'nyuklia', 'katika', 'historia', '.', 'Kisiwa', 'cha', 'Three', 'Mile', 'Marekani', ',', '1978', ';', 'Chenorbyl', 'nchini', 'Ukraine', ',', '1986', 'na', 'Fukushima', 'nchini', ',', 'Japan', ',', '2011', '.', 'Usalama', 'umeimarishwa', 'kutokana', 'na', 'mafunzo', 'kutoka', 'kwa', 'mikasa', 'hiyo', ',', \"''\", 'amesema', '.', 'Kenya', 'imekuwa', 'na', 'mpango', 'wa', 'kuzalisha', 'kawi', 'ya', 'nyuklia', 'kwa', 'muda', '.', 'Chanzo', 'cha', 'picha', ',', 'AFP/GETTY', 'Maelezo', 'ya', 'picha', ',', 'Picha', 'ya', 'kiwanda', 'cha', 'kuzalisha', 'kawi', 'ya', 'nyuklia', 'cha', 'Cattenom', 'mashariki', 'mwa', 'Ufaransa', 'Afrika', 'kusini', 'Afrika', 'kusini', 'ina', 'vinu', 'viwili', 'vya', 'nyuklia', 'vinavyozalisha', '5', '%', 'ya', 'nishati', 'ya', 'umeme', 'nchini', '.', 'Kinu', 'cha', 'Koeberg', 'kilijengwa', 'na', 'Framatome', '(', 'ambao', 'sasa', 'inafahamika', 'kama', 'Areva', ')', '.', 'Kinamilikiwa', 'na', 'kampuni', 'ya', 'kusambaza', 'umeme', 'nchini', 'humo', 'Eskom', '.', 'Afrika', 'kusini', 'iliachana', 'na', 'mpango', 'uliokumbwa', 'na', 'mzozo', '-', 'uliosainiwa', 'chini', 'ya', 'utawala', 'wa', 'rais', 'wa', 'zamani', 'Jacob', 'Zuma', '-', 'kutumia', 'zaidi', 'ya', '$', '76bn', 'kwa', 'mradi', 'wa', 'nishati', 'ya', 'nyuklia', 'na', 'kampunihiyo', 'ya', 'Urusi', 'Rosatom', '.', 'Maelezo', 'ya', 'picha', ',', 'Urusi', 'imesaini', 'mkataba', 'wa', 'kujenga', 'viwanda', 'vya', 'nishati', 'ya', 'nyuklia', 'nchini', 'Nigeria', 'huku', 'taifa', 'hilo', 'lenye', 'uchumi', 'mkubwa', 'barani', 'Afrika', 'likiweka', 'mikakati', 'ya', 'kumaliza', 'matatizo', 'yake', 'ya', 'umeme', '.', 'Nigeria', 'Taifa', 'lililopo', 'Afrika', 'magharibi', 'Nigeria', 'limesaini', 'makubaliano', 'na', 'Urusi', 'kuidhinisha', 'ujenzi', 'wa', 'vinu', 'vinne', 'vya', 'nishati', 'ya', 'nyuklia', 'na', 'taasisi', 'ya', 'sayansi', 'na', 'teknolojia', 'ya', 'nyuklia', 'nchini', '.', 'Tume', 'ya', 'nishati', 'ya', 'atomiki', 'nchini', 'Nigeria', '(', 'NAEC', ')', 'imesaini', 'makubaliano', 'na', 'kampuni', 'hiyo', 'ya', 'Urusi', 'Rosatom', ',', 'mnamo', '2016', 'kando', 'kando', 'mwa', 'mkutano', 'wa', 'kimataifa', 'wa', 'atomiki', ',', 'ATOMEXPO', '2016', 'mjini', 'Moscow', '.', 'Dhamira', 'ya', 'kuidhinishwa', 'makubaliano', 'hayo', 'ni', 'miongoni', 'mwa', 'mengine', ',', 'kuimarisha', 'mfumo', 'duni', 'wa', 'nishati', 'nchini', 'na', 'kuweka', 'mikakati', 'ya', 'kumaliza', 'matatizo', 'yake', 'ya', 'umeme', '.']\n",
      "\n",
      " Number of Words:  789\n"
     ]
    }
   ],
   "source": [
    "file=\"19sep19_1.txt\"\n",
    "\n",
    "# calling the function and storing the contents in a text variable \n",
    "text = get_document(\"https://www.bbc.com/swahili/habari-49750531\")\n",
    "\n",
    "# calling the store_ document function \n",
    "store_document(doc=text,name=file)\n",
    "\n",
    "#add the words in this file to the total_corpus_words, to keep count of the number of words in the corpus\n",
    "total_corpus_words+=total_words(file)"
   ]
  },
  {
   "cell_type": "code",
   "execution_count": 76,
   "metadata": {},
   "outputs": [
    {
     "data": {
      "text/plain": [
       "146355"
      ]
     },
     "execution_count": 76,
     "metadata": {},
     "output_type": "execute_result"
    }
   ],
   "source": [
    "total_corpus_words"
   ]
  },
  {
   "cell_type": "code",
   "execution_count": 77,
   "metadata": {},
   "outputs": [
    {
     "name": "stdout",
     "output_type": "stream",
     "text": [
      "['Wanawake', 'wawili', 'Kenya', 'wabadilishana', 'waume', 'zao', 'Wanawake', 'wawili', 'kutoka', 'kaunti', 'ya', 'Busia', ',', 'magharibi', 'mwa', 'Kenya', 'wamewaacha', 'watu', 'na', 'bumbuwazi', 'mara', 'baada', 'ya', 'kubadilishana', 'waume', 'zao', 'kwa', 'lengo', 'la', 'kutafuta', 'furaha', '.', 'Lilian', 'Weta', 'mwenye', 'umri', 'wa', '28', ',', 'mama', 'wa', 'watoto', 'watatu', 'na', 'Millicent', 'Auma', 'mwenye', 'umri', 'wa', 'miaka', '29', ',', 'mwenye', 'watoto', 'wawili', 'wamezua', 'gumzo', 'katika', 'mtandao', 'nchini', 'Kenya', 'kwa', 'kuonekana', 'kuwa', 'wamefanya', 'jambo', 'la', 'ajabu', 'sana', 'kwa', 'wanandoa', 'hao', 'kuamua', 'kubadilishana', 'wenza', '.', 'Wiki', 'moja', 'iliyopita', 'wapenzi', 'hao', 'waliandikishiana', 'serikalini', 'namna', 'watoto', 'watalindwa', 'baada', 'ya', 'wanawake', 'hao', 'kubadilishana', 'waume', 'zao', 'pamoja', 'na', 'watoto', '.', 'Wanawake', 'hao', 'wanadai', 'walifikia', 'maamuzi', 'hayo', 'baada', 'ya', 'kusukumwa', 'na', 'ugomvi', 'usioisha', 'katika', 'familia', 'zao', '.', 'Vyombo', 'vya', 'habari', 'vya', 'Kenya', 'vimemripoti', 'Lilian', 'akisema', 'alifikia', 'uamuzi', 'huo', 'mara', 'baada', 'ya', 'mume', 'wake', 'kumleta', 'mwanamke', 'mwingine', 'katika', 'nyumba', 'yao', ',', 'mwezi', 'mmoja', 'uliopita', '.', '``', 'Mume', 'wangu', 'alinidanganya', 'kuwa', 'binamu', 'yake', 'kutoka', 'Bungoma', 'anakuja', 'kututembelea', 'hivyo', 'niandae', 'chakula', ',', 'na', 'sehemu', 'ya', 'kulala', 'mgeni', '.', 'Muda', 'mfupi', 'tu', 'ulipita', 'kuna', 'mwanamke', 'aliingia', 'na', 'kuniambia', 'nimuachie', 'nafasi', 'kwa', 'sababu', 'hiyo', 'ni', 'nyumba', 'yake', 'sasa', 'au', 'anidunge', 'kisu', ',', \"''\", 'Lilian', 'alisema', '.', 'Lilian', 'aliendelea', 'kusimulia', 'kuwa', 'Auma', 'alimwambia', 'akamtafute', 'mume', 'wake', 'na', 'akimpata', 'aoleke', 'huko', 'na', 'kweli', 'alimtafuta', 'mume', 'wa', 'Millecent', 'na', 'kwenda', 'kufunga', 'ndoa', 'halali', 'wiki', 'tatu', 'zilizopita', '.', '``', 'Mwanamke', 'huyu', 'alikuja', 'akilia', 'na', 'kulalamika', 'kuwa', 'mke', 'wangu', 'amemchukua', 'mume', 'wake', 'na', 'nyumba', 'yake', ',', \"''\"]\n",
      "\n",
      " Number of Words:  233\n"
     ]
    }
   ],
   "source": [
    "file=\"19sep19_2.txt\"\n",
    "\n",
    "# calling the function and storing the contents in a text variable \n",
    "text = get_document(\"https://www.bbc.com/swahili/49754726\")\n",
    "\n",
    "# calling the store_ document function \n",
    "store_document(doc=text,name=file)\n",
    "\n",
    "#add the words in this file to the total_corpus_words, to keep count of the number of words in the corpus\n",
    "total_corpus_words+=total_words(file)"
   ]
  },
  {
   "cell_type": "code",
   "execution_count": 78,
   "metadata": {},
   "outputs": [
    {
     "data": {
      "text/plain": [
       "146588"
      ]
     },
     "execution_count": 78,
     "metadata": {},
     "output_type": "execute_result"
    }
   ],
   "source": [
    "total_corpus_words"
   ]
  },
  {
   "cell_type": "code",
   "execution_count": 79,
   "metadata": {},
   "outputs": [
    {
     "name": "stdout",
     "output_type": "stream",
     "text": [
      "['Wanafunzi', '7', 'wafariki', 'baada', 'kuangukiwa', 'na', 'paa', 'la', 'darasa', 'Kenya', 'Makumi', 'ya', 'wanafunzi', 'waliondoshwa', 'kwenye', 'eneo', 'la', 'tukio', 'lakini', 'wengi', 'wanaaminiwa', 'kuwa', 'bado', 'wamekwama', 'kwenye', 'vuifusi', 'vya', 'jengo', 'Wanafunzi', 'saba', 'wamethibishwa', 'kufariki', 'na', 'wengine', 'kadhaa', 'kujeruhiwa', 'baada', 'ya', 'darasa', 'la', 'shule', 'yao', 'kuporomoka', 'mapema', 'Jumatatu', 'asubuhi', 'viungani', 'mwa', 'jiji', 'la', 'Nairobi', 'nchini', 'Kenya', '.', 'Jengo', 'la', 'mbao', 'la', 'shule', 'ya', 'msingi', 'ya', 'Precious', 'Talent', 'liliporomoka', 'muda', 'mfupi', 'kabla', 'ya', 'masomo', 'ya', 'siku', 'kuanza', '.', 'Wanafunzi', '50', 'wamelazwa', 'hospitali', 'kwa', 'ajili', 'ya', 'matibabu', 'katika', 'mji', 'mkuu', 'wa', 'Nairobi', ',', 'kulingana', 'na', 'msemaji', 'wa', 'serikali', 'Cyrus', 'Oguna', '.', 'Kituo', 'cha', 'televisheni', 'nchini', 'Kenya', 'NTV', 'kimetuma', 'picha', 'ya', 'ujume', 'wa', 'Bwana', 'Oguna', 'kupitia', 'Twitter', 'akizungumza', 'na', 'waandishi', 'wa', 'habari', 'katika', 'eneo', 'la', 'tukio', 'ambapo', 'jengo', 'liliporomoka', ',', 'akiwahakikishia', 'wazazi', 'kwamba', 'serikali', 'italipia', 'garama', 'ya', 'matibabu', 'ya', 'wanafunzi', 'waliojeruhiwa', ':', 'Wakati', 'huo', 'huo', 'wanafunzi', 'kadhaa', 'bado', 'wamekwama', 'ndani', 'ya', 'jengo', 'hilo', 'na', 'maafisa', 'wa', 'shirika', 'la', 'msalaba', 'mwekundu', 'wanaendelea', 'na', 'shughuli', 'za', 'uokozi', '.', 'Mafisa', 'wa', 'zima', 'moto', 'wa', 'Baraza', 'la', 'jiji', 'la', 'Nairobi', 'kwa', 'ushirikiano', 'na', 'Shirika', 'la', 'Msalaba', 'mwekundu', 'wanasaidiana', 'wenyeji', 'kuwaokua', 'watoto', 'waliokwama', 'chini', 'ya', 'jengo', 'hilo', '.', 'Kamanda', 'wa', 'polisi', 'George', 'Seda', 'na', 'mbunge', 'wa', 'eneo', 'la', 'Dagoreti', ',', 'John', 'Kiarie', ',', 'wamethibitisha', 'kuongezeka', 'kwa', 'idadi', 'ya', 'vifo', 'kutokana', 'na', 'ajali', 'hiyo', '.', 'Chanzo', 'cha', 'picha', ',', 'Robert', 'Alai', 'Mkurungezi', 'wa', 'shule', 'hiyo', 'ya', 'kibinafsi', ',', 'Moses', 'Wainaina', 'Ndirangu', ',', 'amaeiambia', 'Runinga', 'ya', 'Citizen', 'nchini', 'Kenya', 'kuwa', 'jengo', 'hilo', 'liliathiriwa', 'na', 'ujenzi', 'wa', 'bomba', 'la', 'maji', 'taka', 'karibu', 'unaoendelea', 'karibu', 'na', 'hapo', '.', 'Amesema', 'wanafunzi', 'karibu', '800', 'wanasoma', 'katika', 'shule', 'hiyo', 'lakini', 'ni', 'wanafunzi', '20', 'pekee', 'waliokadiriwa', 'baada', 'ya', 'ajali', 'hiyo', '.']\n",
      "\n",
      " Number of Words:  272\n"
     ]
    }
   ],
   "source": [
    "file=\"19sep23.txt\"\n",
    "\n",
    "# calling the function and storing the contents in a text variable \n",
    "text = get_document(\"https://www.bbc.com/swahili/habari-49794229\")\n",
    "\n",
    "# calling the store_ document function \n",
    "store_document(doc=text,name=file)\n",
    "\n",
    "#add the words in this file to the total_corpus_words, to keep count of the number of words in the corpus\n",
    "total_corpus_words+=total_words(file)"
   ]
  },
  {
   "cell_type": "code",
   "execution_count": 80,
   "metadata": {},
   "outputs": [
    {
     "data": {
      "text/plain": [
       "146860"
      ]
     },
     "execution_count": 80,
     "metadata": {},
     "output_type": "execute_result"
    }
   ],
   "source": [
    "total_corpus_words"
   ]
  },
  {
   "cell_type": "code",
   "execution_count": 81,
   "metadata": {},
   "outputs": [
    {
     "name": "stdout",
     "output_type": "stream",
     "text": [
      "['je', 'Jamii', 'ina', 'mchango', 'upi', 'katika', 'kuwasikiliza', 'watoto', 'wanaobalehe', 'ili', 'kuwaepusha', 'na', 'kujiua', '?', 'Huwezi', 'kusikiliza', 'tena', 'je', 'Jamii', 'ina', 'mchango', 'upi', 'katika', 'kuwasikiliza', 'watoto', 'wanaobalehe', 'ili', 'kuwaepusha', 'na', 'kujiua', '?', '24', 'Septemba', '2019', 'Katika', 'eneo', 'la', 'Kibera', ',', 'moja', 'kati', 'ya', 'vitongoji', 'duni', 'katika', 'jiji', 'la', 'Nairobi', 'nchini', 'Kenya', ',', 'kijisanduku', 'cha', 'siri', 'maarufu', 'kama', 'talking', 'Box', 'kwa', 'sasa', 'kimekuwa', 'mkombozi', 'wa', 'wasichana', 'katika', 'baadhi', 'ya', 'shule', 'za', 'msingi', 'za', 'eneo', 'hilo', '.', 'Kijisanduku', 'hicho', 'kinawapa', 'fursa', 'wasichana', 'hao', 'kuweka', 'mawazo', 'yao', 'kinaga', 'ubaga', 'katika', 'maandishi', 'na', 'kuyatumbukiza', 'kwenye', 'kijisanduku', 'hicho', 'juu', 'ya', 'masuala', 'wanayokumbana', 'nayo', 'mfano', 'unyanyasaji', 'wa', 'kingono', ',', 'ukosefu', 'wa', 'visodo', ',', 'umaskini', 'na', 'mengine', 'mengi', 'wanayoyapitia', 'maishani', '.', 'kumekua', 'na', 'ongezeko', 'la', 'visa', 'vingi', 'vya', 'watoto', 'kujiua', 'haususan', 'wenye', 'umri', 'wa', 'kubalehe', 'katika', 'nchi', 'za', 'Afrika', 'Mashariki', '.', 'Lakini', 'je', 'jamii', 'inamsikiliza', 'na', 'kumlinda', 'vya', 'kutosha', 'mtoto', '?', '...', 'Kubaini', 'hayo', 'Regina', 'Mziwanda', 'amezungumza', 'na', 'Mwanasaikolojia', 'Bwana', 'Jiwa', 'Hassan', 'kutoka', 'na', 'Beatrice', 'Ottawa', 'ambaye', 'ni', 'Mshauri', 'wa', 'wasichana', 'wanaopitia', 'changamoto', 'mbalimbali', 'eneo', 'la', 'Kibera', '.']\n",
      "\n",
      " Number of Words:  170\n"
     ]
    }
   ],
   "source": [
    "file=\"19sep24_1.txt\"\n",
    "\n",
    "# calling the function and storing the contents in a text variable \n",
    "text = get_document(\"https://www.bbc.com/swahili/habari-49806863\")\n",
    "\n",
    "# calling the store_ document function \n",
    "store_document(doc=text,name=file)\n",
    "\n",
    "#add the words in this file to the total_corpus_words, to keep count of the number of words in the corpus\n",
    "total_corpus_words+=total_words(file)"
   ]
  },
  {
   "cell_type": "code",
   "execution_count": 82,
   "metadata": {},
   "outputs": [
    {
     "data": {
      "text/plain": [
       "147030"
      ]
     },
     "execution_count": 82,
     "metadata": {},
     "output_type": "execute_result"
    }
   ],
   "source": [
    "total_corpus_words"
   ]
  },
  {
   "cell_type": "code",
   "execution_count": 83,
   "metadata": {},
   "outputs": [
    {
     "name": "stdout",
     "output_type": "stream",
     "text": [
      "['Tangawizi', 'zenye', 'sumu', 'zimetoka', 'wapi', '?', 'Maafisa', 'wa', 'afya', 'nchini', 'Kenya', 'wameonya', 'juu', 'ya', 'kuingizwa', 'kwa', 'tangawizi', 'zenye', 'sumu', 'nchini', 'humo', '.', 'Wanasema', 'kuwa', 'ikiwa', 'katika', 'kipindi', 'cha', 'mwezi', 'moja', 'mtu', 'yeyote', 'alitumia', 'mchanganyiko', 'wa', 'tangawizi', ',', 'limao', ',', 'asali', ',', 'maji', 'baridi', 'na', 'vitunguu', 'saumu', 'na', 'maji', 'ya', 'moto', 'huenda', 'amepata', 'sumu', 'hiyo', '.', 'Kwa', 'mujibu', 'wa', 'uchunguzi', 'wa', 'vipimo', 'vya', 'maabara', 'kutoka', 'maabara', 'ya', 'serikali', 'ya', 'Kenya', 'tani', '23,000', 'za', 'tangawizi', 'zilizonunuliwa', 'kutoka', 'Vietnam', 'zilikuwa', 'zimeoza', ',', 'chafu', 'na', 'zenye', 'unyvunyevu', ',', 'na', 'ukungu', ',', 'limeripoti', 'gazeti', 'la', 'Sunday', 'Nation', 'nchini', 'humo', '.', 'Wamesema', 'kuwa', 'maafisa', 'wa', 'afya', 'ya', 'umma', 'ni', 'wamepewa', 'dhamana', 'ya', 'kulinda', 'kifungu', 'cha', '242', 'cha', 'sheria', 'ya', 'afya', 'ya', 'umma', 'kinachowapatia', 'jukumu', 'la', 'kuwahakikishia', 'wakenya', 'usalama', 'wa', 'chakula', '.', 'Kabla', 'ya', 'kutolewa', 'kwa', 'kutolewa', 'kwa', 'angalizo', 'hilo', 'la', 'mwezi', 'Juni', ',', 'jukumu', 'kuu', 'la', 'afisa', 'wa', 'afya', 'ya', 'umma', 'lilikuwa', 'ukaguzi', 'wa', 'chakula', 'na', 'kutoa', 'agizo', 'la', 'kuharibiwa', 'vile', 'ambavyo', 'havijafikia', 'viwango', 'vilivyowekwa', '.', '``', 'tumewasilisha', 'ombi', 'letu', 'na', 'kuhoji', 'kuwa', 'taifa', 'liko', 'katika', 'hatari', 'ya', 'kukumbwa', 'na', 'kemikali', 'zisizo', 'salama', 'na', 'chakula', ',', \"''\", 'Bw.Duba', 'alisema', ',', 'huku', 'akiongeza', 'kuondolewa', 'kwa', 'jukumu', 'hilo', 'kutoka', 'kwao', 'limetokana', 'na', 'sababu', 'za', 'kibinafsi', 'kutoka', 'kwa', 'wadau', 'wanaotaka', 'kujifaidi', 'bila', 'kujali', 'usalama', 'wa', 'Wakenya', '.', 'Shehena', 'ya', 'tangawizi', 'inayokumbwa', 'na', 'utata', 'iliwasili', 'katika', 'bandari', 'ya', 'Mombasa', 'na', 'ilichunguzwa', 'na', 'maafisa', 'wa', 'afya', 'ya', 'umma', 'mnamo', 'Agost', '8', '.', 'Kupuuzwa', 'kwa', 'agizo', 'Matokeo', 'ya', 'uchunguzi', 'uliyofanyiwa', 'bidhaa', 'hiyo', 'katika', 'maabara', 'ya', 'serikali', 'yalitolewa', 'Agosti', '14', '.', 'Barua', 'iliyowasilishwa', 'kwa', 'wasimamizi', 'wa', 'mizigo', 'katika', 'Bandari', 'ya', 'Mombasa', 'na', 'kwa', 'afisa', 'wa', 'afya', 'wa', 'bandari', 'ya', 'Kilindini', 'J.', 'Kombo', 'inapendekeza', 'shehena', 'hiyo', 'iharibiwe', '.', 'Gazeti', 'la', 'Sunday', 'Nation', 'linaripoti', 'kuwa', 'Kebs', 'ilipuuza', 'agizo', 'hilo', 'na', 'kutoa', 'cheti', 'cha', 'kudhibitisha', 'kuwa', 'bidhaa', 'hiyo', 'ni', 'salama', 'kwa', 'matumizi', 'ya', 'binadamu', 'na', 'kumruhusu', 'mmiliki', 'wa', 'shehena', 'hiyo', 'kuondoa', 'bidhaa', 'hiyo', 'bandarini', '.', 'Bw', 'Duba', 'anasema', 'serikali', 'haiwezi', 'kutegemea', 'cheti', 'cha', 'ubora', 'wa', 'bidhaa', 'kutoka', 'taifa', 'linaloingiza', 'bidhaa', 'nchini', 'kuthibitisha', 'kuwa', 'bidhaa', 'zinazoingizwa', 'nchini', 'ni', 'salama', '.']\n",
      "\n",
      " Number of Words:  333\n"
     ]
    }
   ],
   "source": [
    "file=\"19sep24_2.txt\"\n",
    "\n",
    "# calling the function and storing the contents in a text variable \n",
    "text = get_document(\"https://www.bbc.com/swahili/habari-49809352\")\n",
    "\n",
    "# calling the store_ document function \n",
    "store_document(doc=text,name=file)\n",
    "\n",
    "#add the words in this file to the total_corpus_words, to keep count of the number of words in the corpus\n",
    "total_corpus_words+=total_words(file)"
   ]
  },
  {
   "cell_type": "code",
   "execution_count": 84,
   "metadata": {},
   "outputs": [
    {
     "data": {
      "text/plain": [
       "147363"
      ]
     },
     "execution_count": 84,
     "metadata": {},
     "output_type": "execute_result"
    }
   ],
   "source": [
    "total_corpus_words"
   ]
  },
  {
   "cell_type": "code",
   "execution_count": 85,
   "metadata": {},
   "outputs": [
    {
     "name": "stdout",
     "output_type": "stream",
     "text": [
      "['Je', 'mzozo', 'wa', 'mpaka', 'wa', 'majini', 'baina', 'ya', 'Kenya', 'na', 'Somalia', 'unaelekea', 'kumalizika', '?', 'Somalia', 'na', 'Kenya', 'zimekubaliana', 'kufanya', 'kazi', 'pamoja', 'katika', 'juhudi', 'za', 'kuboresha', 'uhusiano', 'baina', 'yao', 'baada', 'ya', 'rais', 'wa', 'Misri', 'Abdelfatah', 'Al', 'Sisi', 'kuwapatanisha', 'Marais', 'Uhuru', 'Kenyatta', 'wa', 'Kenya', 'na', 'mwenzke', 'wa', 'Somalia', 'Mohammed', 'Abdullahi', 'Farmaajo', 'wa', 'pembezoni', 'mwa', 'mkutano', 'mkuu', 'wa', 'Umoja', 'wa', 'Mataifa', '.', 'Viongozi', 'hao', 'wameafikiana', 'kuwa', 'watafanya', 'kazi', 'pamoja', 'bila', 'ya', 'kuathiri', 'kesi', 'juu', 'ya', 'mpaka', 'kati', 'ya', 'mataifa', 'hayo', 'mawili', 'inayoendelea', 'katika', 'mahakama', 'ya', 'kimataifa', 'ya', 'haki', 'ICJ', '.', 'Somalia', 'ilienda', 'katika', 'mahakama', 'ya', 'ICJ', 'ikitaka', 'mpaka', 'wa', 'baharini', 'kati', 'yake', 'na', 'Kenya', 'kuchorwa', 'upya', 'ili', 'uweze', 'kushuka', 'chini', 'ukipita', 'mpaka', 'wake', 'wa', 'ardhi', 'badala', 'ya', 'kwenda', 'mashariki', '.', 'Kenya', 'kwa', 'iliishutumu', 'Somalia', 'kwa', 'kuendelea', 'kutangaza', 'mauzo', 'ya', 'mafuta', 'hayo', 'kwa', 'wawekezaji', 'licha', 'ya', 'kwamba', 'eneo', 'hilo', 'bado', 'linazozaniwa', '.', 'Imesema', 'kuwa', 'Mogadishu', 'imekuwa', 'ikitumia', 'ramani', 'ambayo', 'inaingilia', 'Himaya', 'ya', 'Kenya', '.', 'Hatahivyo', 'Mogadishu', 'imepinga', 'kauli', 'ya', 'kuingilia', 'himaya', 'ya', 'Kenya', '.', 'Kenya', 'ilisema', 'kwamba', 'baadhi', 'ya', 'makampuni', 'yameanza', 'kutafuta', 'mafuta', 'katika', 'meneo', 'hayo', 'hayo', 'yanayozozaniwa', 'na', 'mataifa', 'yote', 'mawili', '.', 'Chanzo', 'cha', 'picha', ',', 'Villa', 'Somalia', 'Tayari', 'kundi', 'moja', 'la', 'wataalam', 'wa', 'baharini', 'nchini', 'Kenya', 'wameiomba', 'serikali', 'kutotumia', 'nguvu', 'na', 'badala', 'yake', 'kutumia', 'diplomasia', 'kwa', 'minajili', 'ya', 'amani', 'katika', 'eneo', 'la', 'magharibi', 'mwa', 'bahari', 'Hindi', '.', 'Kundi', 'hilo', 'limesema', 'kwamba', 'iwapo', 'Kenya', 'itapoteza', 'kesi', 'hiyo', 'kwa', 'mahakama', 'hiyo', 'ya', 'kimataifa', 'itasalia', 'nchi', 'isio', 'na', 'bahari', 'na', 'italazimika', 'kuiomba', 'Somalia', 'na', 'Tanzania', 'ruhusa', 'kwa', 'meli', 'zake', 'kuingia', 'katika', 'bahari', 'ya', 'Mombasa', '.', 'Hiyo', 'inamaanisha', 'kwamba', 'kesi', 'hiyo', 'itaendelea', 'licha', 'ya', 'Kenya', 'kuendelea', 'kutafuta', 'suluhu', 'nje', 'ya', 'mahakama', 'hiyo', '.']\n",
      "\n",
      " Number of Words:  267\n"
     ]
    }
   ],
   "source": [
    "file=\"19sep25.txt\"\n",
    "\n",
    "# calling the function and storing the contents in a text variable \n",
    "text = get_document(\"https://www.bbc.com/swahili/habari-49821671\")\n",
    "\n",
    "# calling the store_ document function \n",
    "store_document(doc=text,name=file)\n",
    "\n",
    "#add the words in this file to the total_corpus_words, to keep count of the number of words in the corpus\n",
    "total_corpus_words+=total_words(file)"
   ]
  },
  {
   "cell_type": "code",
   "execution_count": 86,
   "metadata": {},
   "outputs": [
    {
     "data": {
      "text/plain": [
       "147630"
      ]
     },
     "execution_count": 86,
     "metadata": {},
     "output_type": "execute_result"
    }
   ],
   "source": [
    "total_corpus_words"
   ]
  },
  {
   "cell_type": "code",
   "execution_count": 88,
   "metadata": {},
   "outputs": [
    {
     "name": "stdout",
     "output_type": "stream",
     "text": [
      "['SportPesa', 'na', 'Betin', ':', 'Kampuni', 'za', 'kamari', 'zasitisha', 'huduma', 'zao', 'Kenya', 'Kampuni', 'za', 'kamari', 'SportPesa', 'na', 'Betin', 'zimesitisha', 'operesheni', 'zake', 'nchini', 'Kenya', 'kufuatia', 'mzozo', 'wa', 'muda', 'mrefu', 'kuhusu', 'ulipaji', 'wa', 'kodi', 'na', 'serikali', 'ya', 'Kenya', '.', 'Kenya', 'imeziwekea', 'kampuni', 'hizo', 'kodi', 'ya', 'asilimi', '20', 'katika', 'shughuli', 'zake', 'zote.SportPesa', ',', 'na', 'Betin', 'zinadhibiti', 'asilimia', '60', 'ya', 'sekta', 'ya', 'kamari', 'nchini', 'Kenya', ',', 'ikimaanisha', 'kwamba', 'maelfu', 'ya', 'wafanyakazi', 'huenda', 'wakapoteza', 'kazi', 'zao', '.', 'Kampuni', 'hizo', 'za', 'kamari', 'zilisema', 'mbali', 'mbali', 'kwamba', 'zimeamua', 'kuchukua', 'hatua', 'hiyo', 'baada', 'ya', 'kodi', 'ilizowekewa', 'kufanya', 'biashara', 'yao', 'kuendelea', '.', 'Walisema', 'kwamba', 'kodi', 'hiyo', 'waliowekewa', 'baada', 'ya', 'nyengine', 'kuhusu', 'mshindi', 'imeathiri', 'pakubwa', 'faida', 'yao', '.', 'SportPesa', ',', 'ambayo', 'ndio', 'kubwa', 'zaidi', 'nchini', 'Kenya', 'kutokana', 'na', 'ufuasi', 'pia', 'ilisema', 'kwamba', 'kuna', 'ukosefu', 'wa', 'uelewa', 'kutoka', 'kwa', 'serikali', 'kuhusu', 'jinsi', 'mapato', 'katika', 'sekta', 'hiyo', 'hupatikana', 'hatua', 'iliozua', 'mkwamo', 'katika', 'mazungumzo', '.', 'Kamari', 'ni', 'biashara', 'ya', 'mabilioni', 'ya', 'dola', 'barani', 'Afrika', ',', 'na', 'utafiti', 'unaonyesha', 'idadi', 'kubwa', 'ya', 'wacheza', 'kamari', 'wakicheza', 'kwenye', 'Ligi', 'ya', 'Primia', 'ya', 'Uingereza', 'ambayo', 'ina', 'ufuasi', 'mkubwa', 'barani', '.', 'Sportpesa', ',', 'ambayo', 'ilianza', 'nchini', 'Kenya', 'ilipata', 'pesa', 'za', 'kutosha', 'na', 'kupanuka', 'hadi', 'nchi', 'nne', 'ikiwemo', 'Uingereza', ',', 'ambapo', 'iko', 'na', 'mikataba', 'ya', 'udhamini', 'na', 'timu', 'ya', 'Everton', 'na', 'Hull', 'City', '.', 'Sportpesa', 'pia', 'ni', 'mshirika', 'rasmi', 'wa', 'betting', 'wa', 'Kiafrika', 'wa', 'ligi', 'ya', 'La', 'Liga', 'na', 'ina', 'mkataba', 'na', 'Timu', 'ya', 'Mashindano', 'ya', 'Mchezo', 'wa', 'magari', 'ya', 'langalanga', 'kwa', 'jina', 'Formula', '1', '.', 'Mnamo', 'mwezi', 'Julai', 'zaidi', 'ya', 'kampuni', '25', 'za', 'kamari', 'zilipokonywa', 'leseni', 'zao', 'za', 'kufanya', 'kazi', 'na', 'serikali', ',', 'kwa', 'tuhuma', 'za', 'kutolipa', 'ushuru', '.', 'Kenya', 'pia', 'imekuwa', 'ikizikamata', 'kampuni', 'za', 'kamari', 'zisizo', 'halali', ',', 'ikizifunga', 'na', 'hata', 'kuwafukuza', 'wakuu', 'wa', 'kampuni', 'hizo', 'kwa', 'kukiuka', 'vibali', 'vyao', 'vya', 'kufanya', 'kazi', '.', 'Leseni', 'zao', 'bado', 'hazijapeanwa', 'tena', '.', 'Uchunguzi', 'wa', 'kieneo', 'ulibaini', 'kwamba', 'Kenya', 'ina', 'idadi', 'kubwa', 'zaidi', 'ya', 'wachezaji', 'kamari', 'barani', 'Afrika', 'wenye', 'umri', 'chini', 'ya', 'miaka', '35', '.', 'Wakenya', 'zaidi', 'ya', 'nusu', 'milioni', 'wamepigwa', 'marufuku', 'na', 'wadeni', 'wao', 'na', 'serikali', 'inaamini', 'kwamba', 'wengi', 'walikopa', 'pesa', 'ili', 'kucheza', 'kamari', '.', 'Utafiti', 'unasemaje', 'kuhusu', 'kamari', 'Kenya', '?', 'Maelezo', 'ya', 'picha', ',', 'Vijana', 'katika', 'kituo', 'cha', 'kucheza', 'kamari', 'cha', 'Betin', 'jijini', 'Nairobi', ',', 'baadhi', 'wanasemaukosefu', 'wa', 'ajira', 'ndio', 'sababu', 'inayowafanya', 'wacheze', 'Mchezo', 'wa', 'kamari', 'unaendelea', 'kuenea', 'barani', 'Afrika', 'haswa', 'miongoni', 'mwa', 'mashabiki', 'wa', 'soka', '.', 'Ni', 'biashara', 'sasa', 'iliyo', 'na', 'thamani', 'ya', 'mabilioni', 'ya', 'dola', 'kwa', 'kampuni', 'zinazoendesha', 'biashara', 'hii', ',', 'lakini', 'si', 'vile', 'kwa', 'wanaocheza', ',', 'amebaini', 'mwandishi', 'wa', 'BBC', 'Ferdinand', 'Omondi', '.', 'Alipotembelea', 'Katika', 'chumba', 'kimoja', 'katikati', 'mwa', 'jiji', 'la', 'Nairobi', ',', 'aliwapata', 'vijana', 'kadhaa', 'wakiwa', 'wamesimama', 'wakitizama', 'televisheni', 'kwa', 'umakini', ',', 'huku', 'wakiwa', 'wameshilia', 'risiti', 'mikononi', '.', 'Walikuwa', 'ndani', 'ya', 'chumba', 'cha', 'kucheza', 'kamari', ',', 'kwa', 'ajili', 'ya', 'kujaribu', 'bahari', 'yao', '.', 'Mara', 'nyingi', 'mchezo', 'wa', 'kamari', 'huchezwa', 'kwa', 'timu', 'za', 'kandanda', 'za', 'bara', 'Ulaya', ',', 'lakini', 'kwa', 'sasa', 'msimu', 'uko', 'likizoni', '.', 'Katika', 'televisheni', 'ni', 'michezo', 'ya', 'kandanda', 'bandia', 'iliyotengenezwa', 'kwa', 'kompyuta', ',', 'ambapo', 'wachezaji', 'wanakuwa', 'ni', 'vibonzo', ',', 'lakini', 'bado', 'wanakamari', 'wanacheza', 'kutambua', 'mshindi', 'baina', 'ya', 'timu', 'mbili', 'bandia', '.', 'Katika', 'televisheni', 'nyingine', 'kuna', 'mashindano', 'ya', 'vibonzo', 'vya', 'mbwa', ',', 'lakini', 'wachezaji', 'hawajali', ',', 'wanaendelea', 'kubahatisha', ',', 'anasema', 'Omondi', 'ambaye', 'alitembelea', 'kituo', 'kimoja', 'cha', 'Kamari', 'jijini', 'Nairobi', '.', 'Maelezo', 'ya', 'picha', ',', 'Asilimia', '75', 'ya', 'wakenya', 'walio', 'na', 'umri', 'wa', 'chini', 'ya', 'miaka', '35', 'wamewahi', 'kucheza', 'kamari', 'Dommie', ',', 'ni', 'kijana', 'ambaye', 'hana', 'kazi', 'hufika', 'kwenye', 'kituo', 'cha', 'kamli', 'kujaribu', 'bahati', 'yake', ':', '``', 'Sisi', 'kama', 'vijana', 'tunajaribu', 'kutafuta', 'kazi', 'hatuna', ',', 'tumekuja', 'kupata', 'pesa', 'ya', 'rahisi', 'hapa', ',', 'sio', 'eti', 'nanajua', 'nitapata', 'nini', ',', 'hii', 'ni', 'kubashiri', 'tu', \"''\", 'Ahadi', 'ya', 'kupata', 'ushindi', 'mkubwa', 'ndio', 'kivutio', 'kikubwa', 'Zaidi', 'kwa', 'wachezaji', 'hawa', '.', 'Utafiti', 'uliofanywa', 'na', 'kampuni', 'ya', 'Geopoll', 'unaonyesha', 'kwa', 'taifa', 'la', 'Kenya', 'ndilo', 'linaloongoza', 'barani', 'afrika', 'kwa', 'wachezaji', 'kamari', '.', 'Asilimia', '75', 'ya', 'wakenya', 'walio', 'na', 'umri', 'wa', 'chini', 'ya', 'miaka', '35', 'wamewahi', 'kucheza', 'kamari', '.', 'Tanzania', 'ni', 'miongoni', 'mwa', 'nchi', 'tano', 'zinazoongoza', 'kwa', 'mujibu', 'wa', 'utafiti', 'huo', '.', 'Wengi', 'wanacheza', 'kwa', 'urahisi', 'kwa', 'njia', 'ya', 'simu', '.', 'Mmoja', 'wao', 'ni', 'Justin', 'Sanyo', ',', 'ambaye', 'anasema', 'kuwa', ',', 'japo', 'ni', 'mwanasayansi', 'aliye', 'na', 'mshahara', 'wake', ',', 'hawezi', 'akakosa', 'kutenga', 'kiasi', 'cha', 'mshahara', 'wake', 'kucheza', 'kamari', '.', \"''Baadhi\", 'yetu', 'wamechukua', 'mchezo', 'wa', 'kamari', 'kama', 'kazi', ',', 'na', 'kwa', 'wengine', 'ni', 'tabia', 'ya', 'kila', 'siku', '.', 'Ila', 'tunafahamu', 'kwamba', 'kamari', 'ni', 'biashara', ',', 'na', 'wenye', 'makampuni', 'wanataka', 'tupoteze', 'fedha', 'ili', 'wapate', 'faida', '.', 'Kwa', 'hivyo', 'tahadhari', 'ukiwa', 'unacheza', ',', 'uchague', 'kwa', 'makini', 'sana', 'timu', 'utakazofanya', 'nazo', 'kamari', \"''\", '.', 'Kwa', 'kuwa', 'uwezekano', 'wa', 'kupoteza', 'pesa', 'ni', 'mkubwa', 'kuliko', 'wa', 'kuzipata', ',', 'kwa', 'wasio', 'na', 'kazi', 'kama', 'Dommie', ',', 'ni', 'kuhatarisha', 'hela', 'zao', 'kidogo', 'walizo', 'nazo', '.', 'Alipoulizwa', 'ikiwa', 'ataweza', 'kuuacha', 'mchezo', 'huo', 'alisema', ':', '``', 'Huu', 'ni', 'mchezo', 'ambao', 'nimejiingiza', ',', 'lakini', 'usipende', 'mtoto', 'wako', 'ajiingize', 'kwenye', 'mchezo', 'huu', ',', 'au', 'mtu', 'wako', '.', 'Mimi', 'nimesoma', 'niko', 'na', 'vyeti', 'vyangu', 'vimelala', 'nyumbani', ',', 'wakinipatia', 'kazi', 'mimi', 'nitaacha', ',', 'lakini', 'sasa', 'nitaachacje', 'mchezo', 'huu', 'wakati', 'ninakuja', 'kubahatisha', \"''\", '.', 'Maelezo', 'ya', 'picha', ',', 'Wachezaji', 'kamari', 'wameufanya', 'mchezo', 'huu', 'kuwa', 'biashara', 'ya', 'thamani', 'ya', 'mabilioni', 'ya', 'dola', 'Afrika', 'na', 'ulimwenguni', '.', 'Wachezaji', 'kamari', 'wameufanya', 'mchezo', 'huu', 'kuwa', 'biashara', 'ya', 'thamani', 'ya', 'mabilioni', 'ya', 'dola', 'Afrika', 'na', 'ulimwenguni', '.', 'Sasa', 'serikali', 'pia', 'zinataka', 'haki', 'zao', 'kwa', 'njia', 'ya', 'kodi', '.', 'Nchini', 'Kenya', 'makampuni', 'ya', 'kamari', 'hutozwa', 'asilimia', '30', 'ya', 'mapato', 'kama', 'kodi', ',', 'lakini', 'katika', 'bajeti', 'ya', 'nchi', 'iliyosomwa', 'hivi', 'karibuni', ',', 'serikali', 'imeongeza', 'kodi', 'nyingine', 'ya', 'asilimia', 'kumi', 'kwa', 'kila', 'hela', 'ilayowekwa', 'kama', 'kamari', 'ama', 'dau', '.', 'Kumaanisha', 'kuwa', 'mchezaji', 'atatozwa', 'hata', 'kabla', 'hajashinda', 'chochote', '.', 'Ikiwa', 'hatua', 'hii', 'itawavunja', 'moyo', 'wachezaji', 'au', 'la', ',', 'ni', 'swala', 'la', 'kusubiriwa', '.']\n",
      "\n",
      " Number of Words:  926\n"
     ]
    }
   ],
   "source": [
    "file=\"19sep28_1.txt\"\n",
    "\n",
    "# calling the function and storing the contents in a text variable \n",
    "text = get_document(\"https://www.bbc.com/swahili/habari-49864826\")\n",
    "\n",
    "# calling the store_ document function \n",
    "store_document(doc=text,name=file)\n",
    "\n",
    "#add the words in this file to the total_corpus_words, to keep count of the number of words in the corpus\n",
    "total_corpus_words+=total_words(file)"
   ]
  },
  {
   "cell_type": "code",
   "execution_count": 89,
   "metadata": {},
   "outputs": [
    {
     "data": {
      "text/plain": [
       "148556"
      ]
     },
     "execution_count": 89,
     "metadata": {},
     "output_type": "execute_result"
    }
   ],
   "source": [
    "total_corpus_words"
   ]
  },
  {
   "cell_type": "code",
   "execution_count": 90,
   "metadata": {},
   "outputs": [
    {
     "name": "stdout",
     "output_type": "stream",
     "text": [
      "['Chanjo', 'itakayomaliza', 'maambukizi', 'mapya', 'ya', 'magonjwa', 'ya', 'HIV', 'kuzinduliwa', 'Kenya', '28', 'Septemba', '2019', 'Chanzo', 'cha', 'picha', ',', 'Getty', 'Images', 'Kituo', 'cha', 'udhibiti', 'wa', 'magonjwa', 'na', 'maambukizi', 'kimeannza', 'kuifanyia', 'kazi', 'chanjo', 'ya', 'virusi', 'vya', 'Ukimwi', 'ambayo', 'itasaidia', 'kumaliza', 'maambukizi', 'mapya', 'ya', 'HIV', 'nchini', 'Kenya', ',', 'kulingana', 'na', 'gazeti', 'la', 'Daily', 'Nation', 'nchini', 'Kenya', '.', 'Chanjo', 'hiyo', 'kwa', 'jina', 'HPTN-081', 'ni', 'kinga', 'inayohusisha', 'protini', 'ya', 'damu', 'inayoweza', 'kupigana', 'dhidi', 'ya', 'virusi', 'vya', 'HIV', '.', 'Akizungumza', 'wakati', 'wa', 'maadhimisho', 'ya', '40', 'ya', 'kituo', 'hicho', 'kwa', 'ushirikiano', 'na', 'Kenyaa', 'mjini', 'Kisumu', 'siku', 'ya', 'Ijumaa', ',', 'Mkurugenzi', 'mkuu', 'wa', 'kituo', 'hicho', 'nchini', 'Kenya', 'Marc', 'Bultery', 'alisema', 'kwamba', 'utafiti', 'utahakikisha', 'kuwa', 'chanjo', 'hiyo', 'inaweza', 'kusambazwa', 'hadi', 'maeneo', 'mengine', '.']\n",
      "\n",
      " Number of Words:  113\n"
     ]
    }
   ],
   "source": [
    "file=\"19sep28_2.txt\"\n",
    "\n",
    "# calling the function and storing the contents in a text variable \n",
    "text = get_document(\"https://www.bbc.com/swahili/habari-49864827\")\n",
    "\n",
    "# calling the store_ document function \n",
    "store_document(doc=text,name=file)\n",
    "\n",
    "#add the words in this file to the total_corpus_words, to keep count of the number of words in the corpus\n",
    "total_corpus_words+=total_words(file)"
   ]
  },
  {
   "cell_type": "code",
   "execution_count": 91,
   "metadata": {},
   "outputs": [
    {
     "data": {
      "text/plain": [
       "148669"
      ]
     },
     "execution_count": 91,
     "metadata": {},
     "output_type": "execute_result"
    }
   ],
   "source": [
    "total_corpus_words"
   ]
  },
  {
   "cell_type": "code",
   "execution_count": 92,
   "metadata": {},
   "outputs": [
    {
     "name": "stdout",
     "output_type": "stream",
     "text": [
      "['Inakadiriwa', 'kuwa', 'noti', 'milioni', '152.7', 'kati', 'ya', 'noti', 'milioni', '217.6', 'za', 'noti', 'ya', 'shilingi', 'elfu', 'moja', 'ya', 'zamani', 'bado', 'zipo', 'katika', 'mzunguko', 'wa', 'fedha', '.', 'Lengo', 'la', 'kuondoa', 'sarafu', 'hiyo', 'katika', 'matumizi', 'ni', 'kukabiliana', 'na', 'uhalifu', 'wa', 'kifedha', ',', 'kwa', 'mujibu', 'wa', 'mtandao', 'wa', 'Haki', 'wa', 'masuala', 'ya', 'ulipaji', 'ushuru', 'barani', 'Afrika', 'ambao', 'ulisema', 'kuwa', '``', 'Kenya', 'imekua', 'ikipoteza', 'takriban', 'dola', 'milioni', '400', 'kila', 'mwaka', ',', 'kuanzia', 'mwaka', '2011', ',', 'kupitia', 'biashara', 'haramu', '.', \"''\", 'Tarehe', '31', 'mwezi', 'Mei', 'mwaka', '2019', 'Serikali', 'ya', 'Kenya', 'ilitoa', 'notisi', 'ya', 'kusitisha', 'utumizi', 'wa', 'sarafu', 'hiyo', 'kuanzi', 'Oktoba', 'mosi', '.', 'Chanzo', 'cha', 'picha', ',', 'Getty', 'Images', 'Kufuatia', 'hatua', 'hiyo', 'Sarafu', 'mpya', 'ya', 'shilingi', '1,000', 'ilizinduliwa', 'mwezi', 'Juni', 'na', 'wateja', 'walipewa', 'miezi', 'minne', 'kubadilisha', 'noti', 'za', 'zamani', '.', 'Gavana', 'wa', 'Benki', 'Kuu', 'ya', 'Kenya', 'Patrick', 'Njoroge', 'amesema', 'hatua', 'hiyo', 'inalenga', 'kukabiliana', 'na', 'ulaji', 'rushwa', 'na', 'kufunga', 'mienya', 'inayochangia', 'uhalifuwa', 'kiuchumi', '.', 'Thamani', 'ya', 'noti', 'ya', 'shilingi', '1,000', 'iki', 'juu', 'nchini', 'Kenya', 'na', 'kwa', 'mujibu', 'wa', 'Bw', '.', 'Njoroge', ',', 'Shilingi', 'hiyo', 'ya', 'Kenya', 'ni', 'sawa', 'na', 'dola', 'ya', 'Marekani', 'katika', 'kanda', 'ya', 'Afrika', 'Mashariki', 'kutokana', 'na', 'jinsi', 'inavyotambuliwa', '.', 'Sarafu', 'zingine', 'zitaondolewa', 'kadiri', 'muda', 'utakavyosonga', 'mbele', '.', 'Chanzo', 'cha', 'picha', ',', 'Getty', 'Images', 'Maelezo', 'ya', 'picha', ',', 'Sarafu', 'ya', 'zamani', 'ya', 'shilingi', '1,000', 'imeondolewa', 'ili', 'kukabiliana', 'na', 'ubadhirifu', 'wa', 'fedha', 'na', 'utakatishaji', 'wa', 'fedha', 'Mahakama', 'ilifutilia', 'mbali', 'ombi', 'la', 'kurefusha', 'muda', 'wa', 'mwisho', 'wa', 'matumizi', 'ya', 'sarafu', 'ya', 'shilingi', '1000', '.', 'Siku', 'za', 'hivi', 'karibuni', 'wafanyibiashara', 'wameripoti', 'matumizi', 'makubwa', 'ya', 'noti', 'hizo', 'kwa', 'pesa', 'taslimu', 'ikiwa', 'ni', 'pamoja', 'na', 'kununuzi', 'wa', 'gari', 'la', 'kifahari', 'la', 'aina', 'ya', 'Mercedes', 'Benz', '.', 'Baa', 'moja', 'imewapatia', 'fursa', 'wateja', 'wake', 'kubadilisha', 'noti', 'hiyo', 'ya', 'zamani', 'ya', 'shilingi', 'elfu', 'moja', 'kwa', '``', 'kuandaa', 'hafla', 'ya', 'kuaga', 'sarafu', 'hiyo', \"''\", '.']\n",
      "\n",
      " Number of Words:  290\n"
     ]
    }
   ],
   "source": [
    "file=\"19sep30.txt\"\n",
    "\n",
    "# calling the function and storing the contents in a text variable \n",
    "text = get_document(\"https://www.bbc.com/swahili/habari-49879458\")\n",
    "\n",
    "# calling the store_ document function \n",
    "store_document(doc=text,name=file)\n",
    "\n",
    "#add the words in this file to the total_corpus_words, to keep count of the number of words in the corpus\n",
    "total_corpus_words+=total_words(file)"
   ]
  },
  {
   "cell_type": "code",
   "execution_count": 93,
   "metadata": {},
   "outputs": [
    {
     "data": {
      "text/plain": [
       "148959"
      ]
     },
     "execution_count": 93,
     "metadata": {},
     "output_type": "execute_result"
    }
   ],
   "source": [
    "total_corpus_words"
   ]
  },
  {
   "cell_type": "code",
   "execution_count": 94,
   "metadata": {},
   "outputs": [
    {
     "name": "stdout",
     "output_type": "stream",
     "text": [
      "['Kenya', 'Ferry', ':', '``', 'Tumebaini', 'maeneo', 'ya', 'gari', 'lililozama', 'Kivuko', 'cha', 'Likoni', 'Ferry', \"''\", '1', 'Oktoba', '2019', 'Shughuli', 'za', 'kutafuta', 'miili', 'ya', 'watu', 'wawili', 'ambao', 'gari', 'lao', 'lilizama', 'baharini', 'baada', 'ya', 'kudondoka', 'katika', 'feri', 'ya', 'kivuko', 'cha', 'likoni', 'imeanza', 'katika', 'mji', 'wa', 'Mombasa', ',', 'pwani', 'ya', 'Kenya', '.', 'Video', 'inayoonyesha', 'gari', ',', 'hilo', 'likidondoka', 'ndani', 'ya', 'ferry', 'na', 'kuzama', 'bahari', 'hindi', 'ilisambaa', 'kwenye', 'mitandao', 'ya', 'kijamii', 'siku', 'ya', 'Jumapili', 'na', 'kuzua', 'hamasa', 'miongoni', 'mwa', 'Wakenya', 'kuhusu', 'usalama', 'wa', 'usafiri', 'wa', 'ferry', 'nchini', 'humo', '.', 'Wakati', 'tulipokuwa', 'tukienda', 'hewani', 'kivuko', 'hicho', 'cha', 'feri', 'kilikuwa', 'kimefungwa', 'kwa', 'saa', 'tatu', 'ili', 'kuruhusu', 'usakaji', 'wa', 'miili', 'hiyo', '.', 'Kundi', 'lililokuwa', 'likiongoza', 'utafutaji', 'huo', 'linashirikisha', 'maafisa', 'wa', 'jeshi', 'la', 'waamaji', ',', 'wale', 'wa', 'shirika', 'la', 'bandari', 'ya', 'Kenya', 'KPA', ',', 'maafisa', 'wa', 'taasisi', 'ya', 'uvuvi', 'pamoja', 'na', 'waogeleaji', 'wa', 'mashirika', 'ya', 'kibinafsi', '.', 'Kundi', 'hilo', 'limesema', 'kwamba', 'limefanikiwa', 'kupata', 'maeneo', 'mawili', 'yalio', 'kina', 'cha', 'Futi', '75', 'na', '173', 'ambapo', 'huenda', 'gari', 'hilo', 'lipo', '.', \"''Tunawaarifu\", 'watumizi', 'wa', 'kivuko', 'cha', 'likoni', 'kwamba', 'kutokana', 'na', 'zoezi', 'linaloendelea', 'la', 'kulisaka', 'gari', 'iliozama', 'tutakuwa', 'tukichelewesha', 'huduma', 'za', 'feri', 'kwa', 'takriban', 'nusu', 'saa', 'hadi', 'saa', 'moja', 'lilsema', 'shirika', 'la', 'Ferry', 'katika', 'mtandao', 'wake', 'wa', 'Twitter', '.', 'Siku', 'ya', 'Jumatatu', 'mkurugenzi', 'mkuu', 'wa', 'shirika', 'la', 'Ferry', 'Bakari', 'Gowa', 'alisema', 'kwamba', 'wataalam', 'walibaini', 'kwamba', 'gari', 'hilo', 'lilizama', 'kima', 'cha', 'mita', '60', ',', 'hivyobasi', 'kuwa', 'vigumu', 'kuliokoa', '.', 'Akizungumza', 'na', 'BBC', 'Gowa', 'alisema', 'kinyume', 'na', 'madai', 'ya', 'wengi', 'kwamba', 'shughuli', 'hiyo', 'imechukua', 'muda', 'mrefu', ',', 'muda', 'pekee', 'unaoweza', 'kutumika', 'kutafuta', 'miili', 'ya', 'waathiriwa', 'ni', 'saa', 'tatu', 'pekee', 'kila', 'siku', '.', \"''Hatujachukua\", 'muda', 'mrefu', ',', 'shughuli', 'hii', 'haiwezi', 'kufanyika', 'muda', 'wa', 'usiku', 'pia', 'kwa', 'sababu', 'operesheni', 'ya', 'feri', 'haiwezi', 'kufanyika', 'jioni', 'na', 'asubuhi', 'wakati', 'watu', 'wanatumia', 'kivuko', 'hicho', \"''\", '.', 'Kuhusu', 'usalama', 'wa', 'kivuko', 'cha', 'feri', 'Mkurugenzi', 'huyo', 'pia', 'alikana', 'madai', 'kwamba', 'vyombo', 'hivyo', 'havijawekewa', 'usalama', 'wa', 'kutosha', 'na', 'kusisitiza', 'kwamba', 'kivuko', 'hicho', 'kina', 'vifaa', 'vilivyo', 'na', 'usalama', 'wa', 'hali', 'ya', 'juu', 'na', 'kwamba', 'usalama', 'wa', 'pekee', 'unaohitajika', 'ni', 'kuongeza', 'idadi', 'ya', 'feri', 'hizo', '.', \"''Ferry\", 'zinavusha', 'watu', '300,000', 'kwa', 'siku', 'magari', '5800', 'kwa', 'siku', 'baiskeli', '5000', 'kwa', 'siku', 'iwapo', 'hilo', 'linaweza', 'kufanyika', 'sidhani', 'kwamba', 'tuna', 'matatizo', 'ijapokuwa', 'zipo', 'changamoto', 'katika', 'operesheni', '.', 'Ili', 'kuimarisha', 'usalama', 'tunafanya', 'hamasa', 'miongoni', 'mwa', 'watumizi', 'wa', 'ferri', 'kila', 'uchao', \"''\", ',', 'alisema', 'bwana', 'Gowa', '.', 'Aliongezea', 'kwamba', 'waogealeaji', 'waliokuwa', 'wameingia', 'ndani', 'ya', 'maji', 'sasa', 'wataingia', 'kwa', 'mara', 'nyengine', 'wakiwa', 'na', 'lengo', 'la', 'kutoa', 'miili', 'pamoja', 'na', 'gari', 'hilo', '.', 'Haitachukua', 'muda', 'kutoa', 'miliili', 'na', 'gari', 'hilo', '.', 'Familia', 'ya', 'waathiriwa', 'imelalamikia', 'kujikokota', 'kwa', 'serikali', 'katika', 'kuitoa', 'miili', 'ya', 'waathiriwa', '.', 'Tayari', 'baadhi', 'ya', 'wabunge', 'wametaka', 'maafisa', 'wa', 'shirika', 'la', 'Ferry', 'kuwajibika', 'kwa', 'tukio', 'hilo', '.', 'Mbunge', 'wa', 'Likoni', 'Mishi', 'Mboko', 'ametaka', 'serikali', 'kuliwajibisha', 'shirika', 'la', 'Coast', 'Guards', 'pamoja', 'na', 'lile', 'la', 'wanamaji', 'wa', 'Kenya', 'Navy', 'kwa', 'kutochukua', 'hatua', 'za', 'haraka', 'kuokoa', 'maisha', '.', 'Waogealeaji', 'walikuwa', 'wameingia', 'kulisaka', 'eneo', 'la', 'gari', 'hilo', 'na', 'sasa', 'wataingia', 'kwa', 'lengo', 'la', 'kutoa', 'gari', 'hilo.Haitachukua', 'muda', 'kutoa', 'miliili', 'katika', 'gari', 'hilo', '.', 'Dadake', 'mwanamke', 'aliyekuwa', 'akiendesha', 'gari', 'hilo', 'bi', 'Shila', 'Karembo', 'alisema', 'kwamba', 'familia', 'yao', 'inataka', 'kumuona', 'mama', 'na', 'mtoto', 'waliozama', 'huku', 'wakionya', 'kutoondoka', 'kando', 'kando', 'ya', 'kivuko', 'hicho', 'hadi', 'pale', 'miili', 'yao', 'itakapopatikana', '.', 'Bi', 'Karembo', 'ameongezea', 'kwamba', 'kufikia', 'sasa', 'hajaona', 'juhudi', 'za', 'shirika', 'la', 'Kenya', 'Ferry', 'Kutaka', 'kuitoa', 'miili', 'ya', 'waathiriwa', 'chini', 'ya', 'maji', '.']\n",
      "\n",
      " Number of Words:  544\n"
     ]
    }
   ],
   "source": [
    "file=\"19oct1.txt\"\n",
    "\n",
    "# calling the function and storing the contents in a text variable \n",
    "text = get_document(\"https://www.bbc.com/swahili/habari-49893201\")\n",
    "\n",
    "# calling the store_ document function \n",
    "store_document(doc=text,name=file)\n",
    "\n",
    "#add the words in this file to the total_corpus_words, to keep count of the number of words in the corpus\n",
    "total_corpus_words+=total_words(file)"
   ]
  },
  {
   "cell_type": "code",
   "execution_count": 95,
   "metadata": {},
   "outputs": [
    {
     "data": {
      "text/plain": [
       "149503"
      ]
     },
     "execution_count": 95,
     "metadata": {},
     "output_type": "execute_result"
    }
   ],
   "source": [
    "total_corpus_words"
   ]
  },
  {
   "cell_type": "code",
   "execution_count": 97,
   "metadata": {},
   "outputs": [
    {
     "name": "stdout",
     "output_type": "stream",
     "text": [
      "['Pundamilia', 'wa', 'ajabu', 'aliyepatikana', 'Kenya', 'sasa', 'amehamia', 'Tanzania', 'Pundamilia', 'wa', 'ajabu', 'ambaye', 'hivi', 'karibuni', 'alionekana', 'katika', 'mbuga', 'ya', 'wanyama', 'ya', 'Mara', 'nchini', 'Kenya', 'amevuka', 'mpaka', 'na', 'kuingia', 'ndani', 'ya', 'Mbuga', 'ya', 'Wanyama', 'ya', 'Taifa', 'ya', 'Serengeti', 'pamoja', 'na', 'pundamilia', 'wengine', 'waliokuwa', 'wanahama', 'pamoja', 'na', 'Nyumbu', ',', 'limeripoti', 'gazeti', 'la', 'Nation', 'nchini', 'Kenya', 'Kinyume', 'na', 'pundamilia', 'wengine', 'wenye', 'mistari', 'kwenye', 'ngozi', 'yake', 'pundamilia', 'huyo', 'anamadoadoa', 'meupe', 'na', 'mistari', 'michache', 'myeupe', 'inayofifia', 'mwilini', 'mwake', ',', 'jambo', 'lililomfanya', 'kuwa', 'ni', 'wa', 'kipekee', '.', 'Taarifa', 'ya', 'kuhamia', 'kwake', 'nchini', 'Tanzania', 'imethibitishwa', 'na', 'makumi', 'ya', 'watalii', 'na', 'walinzi', 'wa', 'mbuga', 'za', 'wanyama', 'pamoja', 'na', 'katibu', 'wa', 'shirika', 'la', 'madereva', 'wa', 'magari', 'ya', 'utalii', 'nchini', 'Kenya', 'Felix', 'Migoya', 'ambaye', 'amesema', 'kuwa', 'pundamilia', 'huyo', 'mchanga', 'mwenye', 'umri', 'wa', 'mwezi', 'mmoja', 'hivi', ',', 'kwa', 'sasa', 'yuko', 'katika', 'eneo', 'la', 'kaskazini', 'mwa', 'mbuga', 'ya', 'wanyama', 'ya', 'Serengeti', 'Serengeti', '.', 'Alipinga', 'taarifa', 'za', 'uvumi', 'kwamba', 'kivutio', 'hicho', 'kipya', 'cha', 'utalii', 'katika', 'mbuga', 'ya', 'wanyama', 'ya', 'Mara', 'kilikamatwa', 'na', 'kufungiwa', 'kuhifadhiwa', 'mahali', 'pake', 'kama', 'ilivyoelezwa', 'katika', 'mitandao', 'ya', 'habari', 'ya', 'kijamii', 'katika', 'kipindi', 'cha', 'wiki', 'tatu', 'zilizopota', ',', 'Limeripoti', 'gazeti', 'la', 'Daily', 'Nation', 'nchini', 'humo', '.', '``', 'Taarifa', 'za', 'mitandao', 'ya', 'kijamii', 'ni', 'feki', ',', 'pundamilia', 'anayeonyeshwa', 'kwenye', 'mitandao', 'ya', 'kijamii', 'ni', 'mkubwa', 'na', 'alikamatwa', 'nchini', 'Afrika', 'Kusini', 'katika', 'tarehe', 'ambayo', 'haijulikani', 'mika', 'kadhaa', 'iliyopita', ',', \"''\", 'alisema', 'Bwana', 'Migoya', 'alipozungumza', 'na', 'gazeti', 'la', 'the', 'Nation', 'Jumatano', '.', 'Wazazi', 'wa', 'pundamilia', 'huyo', 'mchanga', 'wako', 'katika', 'kipindi', 'cha', 'mwaka', 'cha', 'kuhama', 'kwa', 'zaidi', 'ya', 'mamilioni', 'ya', 'nyumbu', 'baina', 'ya', 'mbuga', 'ya', 'wanyama', 'ya', 'Serengeti', 'na', 'hifadhi', 'ya', 'wanyama', 'ya', 'Maasai', 'Mara', '-', 'tukio', 'ambalo', 'huwavutia', 'watalii', 'kutoka', 'maeneo', 'mbali', 'mbali', 'duniani', '.', 'Chanzo', 'cha', 'picha', ',', 'Nation', 'Media', 'Group', 'Tukio', 'hilo', ',', 'ambalo', 'liliwekwa', 'katika', 'orodha', 'ya', '``', 'Maajabu', 'Saba', 'ya', 'Dunia', \"'\", ',', 'kwa', 'kawaida', 'kuanza', 'katikati', 'ya', 'mwezi', 'Juni', 'hadi', 'mwezi', 'Oktoba', '.', 'Katika', 'kipindi', 'hiki', ',', 'nyumbu', 'hukutana', 'kabla', 'ya', 'kufanya', 'safari', 'yao', 'ya', 'kurejea', 'sambamba', 'na', 'mamia', 'ya', 'pundamilia', ',', 'swala', 'na', 'wanyama', 'wengine', 'wanaotafuta', 'malisho', '.', 'Pundamilia', 'huyu', 'wa', 'ajabu', 'mweusi', 'kwa', 'mara', 'ya', 'kwanza', 'aligunduliwa', 'na', 'kupigwa', 'picha', 'mapema', 'mwezi', 'Septemba', 'karibu', 'na', 'mto', 'Mara', 'River', 'na', 'Antony', 'Tira', ',', 'mwongozaji', 'maarufu', 'wa', 'safari', 'za', 'watalii', 'kutoka', 'kabila', 'la', 'Maasai', 'na', 'alimpiga', 'picha', 'hiyo', 'katika', 'kambi', 'ya', 'utalii', 'ya', 'Matira', 'Bush', 'iliyopo', 'ndani', 'ya', 'mbuga', 'ya', 'wanyama', '.', 'Utambulisho', 'wake', 'Si', 'mweusi', 'kabisa', ',', 'na', 'kutokana', 'na', 'utofauti', 'wa', 'ngozi', 'yake', 'katika', 'sehemu', 'mbali', 'mbali', 'za', 'mwili', 'wake', ':', '``', 'Kutokana', 'na', 'rangi', 'yake', ',', 'pundamilia', 'huyo', 'amekuwa', 'maarufu', 'ghafla', 'na', 'amekuwa', 'kivutio', 'cha', 'watalii', 'katika', 'mbuga', 'ya', 'Mara', 'na', 'sasa', 'huenda', 'watalii', 'wakaelekea', 'Serengeti', 'kwani', 'watu', 'wengi', 'wanamfuata', 'kiumbe', 'huyo', 'wa', 'ajabu', ',', \"''\", 'aliongeza', 'Bwana', 'Migoya', '.', 'Tangu', 'mpigapicha', 'Tira', 'alipotuma', 'picha', 'ya', 'pundamilia', 'huyo', 'na', 'kuwaalika', 'watu', 'kuja', 'kumuona', ',', 'watu', 'wengi', 'wamekuwa', 'wakiongezeka', 'katika', 'hifadhi', 'ya', 'wanyama', 'ya', 'Mara', 'na', 'kusababisha', \"'msongamano\", \"'\", 'mkubwa', 'wa', 'watukatika', 'hifadhi', 'hiyo', '..']\n",
      "\n",
      " Number of Words:  477\n"
     ]
    }
   ],
   "source": [
    "file=\"19oct2.txt\"\n",
    "\n",
    "# calling the function and storing the contents in a text variable \n",
    "text = get_document(\"https://www.bbc.com/swahili/habari-49907996\")\n",
    "\n",
    "# calling the store_ document function \n",
    "store_document(doc=text,name=file)\n",
    "\n",
    "#add the words in this file to the total_corpus_words, to keep count of the number of words in the corpus\n",
    "total_corpus_words+=total_words(file)"
   ]
  },
  {
   "cell_type": "code",
   "execution_count": 98,
   "metadata": {},
   "outputs": [
    {
     "data": {
      "text/plain": [
       "149980"
      ]
     },
     "execution_count": 98,
     "metadata": {},
     "output_type": "execute_result"
    }
   ],
   "source": [
    "total_corpus_words"
   ]
  },
  {
   "cell_type": "code",
   "execution_count": 99,
   "metadata": {},
   "outputs": [
    {
     "name": "stdout",
     "output_type": "stream",
     "text": [
      "['Watu', '13', 'wafariki', 'kwa', 'ajali', 'ya', 'basi', 'Kenya', 'maeneo', 'ya', 'Kisumu', 'Watu', '13', 'wameuwawa', 'na', 'wengine', 'kujeruiwa', 'katika', 'ajali', 'ya', 'basi', 'lililokuwa', 'linatoka', 'soko', 'la', 'Awasi', 'Kisumu', 'kuelekea', 'Nairobi', 'nchini', 'Kenya', 'majira', 'ya', 'saa', 'tano', 'na', 'nusu', 'usiku', 'siku', 'ya', 'alhamisi', ',', 'imeripotiwa', 'na', 'gazeti', 'la', 'nchini', 'humo', 'la', 'Daily', 'nation', '.', 'Kamanda', 'polisi', 'wa', 'mjini', 'Kisumu', ',', 'Benson', 'Maweu', 'amethibitisha', 'miila', 'ya', 'watu', 'waliokufa', 'katika', 'ajali', 'ya', 'basi', 'la', 'Eldoret', 'Express', 'alfajiri', 'ya', 'leo', 'saa', 'nane', 'na', 'nusu', '.']\n",
      "\n",
      " Number of Words:  80\n"
     ]
    }
   ],
   "source": [
    "file=\"19oct4.txt\"\n",
    "\n",
    "# calling the function and storing the contents in a text variable \n",
    "text = get_document(\"https://www.bbc.com/swahili/49930317\")\n",
    "\n",
    "# calling the store_ document function \n",
    "store_document(doc=text,name=file)\n",
    "\n",
    "#add the words in this file to the total_corpus_words, to keep count of the number of words in the corpus\n",
    "total_corpus_words+=total_words(file)"
   ]
  },
  {
   "cell_type": "code",
   "execution_count": 100,
   "metadata": {},
   "outputs": [
    {
     "data": {
      "text/plain": [
       "150060"
      ]
     },
     "execution_count": 100,
     "metadata": {},
     "output_type": "execute_result"
    }
   ],
   "source": [
    "total_corpus_words"
   ]
  },
  {
   "cell_type": "code",
   "execution_count": 101,
   "metadata": {},
   "outputs": [
    {
     "name": "stdout",
     "output_type": "stream",
     "text": [
      "['Uamuzi', ':', 'Zaidi', 'ya', '96', '%', 'ya', 'noti', 'hizo', 'za', 'zamani', 'zimerudishwa', 'na', 'kubadilishwa', 'kwa', 'noti', 'mpya', ',', 'licha', 'ya', 'kwamba', 'kuna', 'shaka', 'kuhusu', 'ufanisi', 'wa', 'hili', 'katika', 'kubaini', 'fedha', 'zinazohusishwa', 'na', 'ufisadi', '.', 'Hatua', 'hiyo', 'haionekani', 'kuuathiri', 'uchumi', 'kwa', 'ujumla', 'kwa', 'kiwango', 'muhimu', '.', 'Gavana', 'wa', 'benki', 'kuu', 'Kenya', 'Patrick', 'Njoroge', 'amesema', 'shughuli', 'ya', 'kuziondoa', 'noti', 'hizo', 'ilikwenda', 'vizuri', 'na', 'wamefanikiwa', 'kuzifanya', 'fedha', 'zinazomilikiwa', 'na', 'watu', 'ambao', 'hawakutaka', 'zichunguzwe', ',', 'kutokuwa', 'na', 'thamani', '.', 'Kati', 'ya', 'shilingi', 'milioni', '217', 'za', 'noti', 'za', '1,000', 'zilizokuwa', 'zikizunguka', 'kuanzia', 'Juni', 'mosi', 'wakati', 'zoezi', 'hili', 'lilipotangazwa', ',', 'milioni', '210', 'million', '(', '96.6', '%', ')', 'zilirudishwa', 'kufikia', 'Septemba', '30', '.', 'Chanzo', 'cha', 'picha', ',', 'Getty', 'Images', 'Na', 'hilo', 'linamaanisha', 'usawa', 'wa', '$', '74m', 'ziliishia', 'kutokuwa', 'na', 'thamani', '.', 'Licha', 'ya', 'kwamba', 'baadhi', 'ya', 'ambao', 'bado', 'wana', 'noti', 'hizo', 'za', 'zamani', 'huenda', 'wakawa', ':', 'wanaishi', 'vijijini', 'wamekwama', \"ng'ambo\", 'wanaziweka', 'kama', 'kumbukumbu', 'Njoroge', 'anaamini', 'pia', 'kuwa', 'Kenya', 'imeepuka', 'matatizo', 'yalioshuhudiwa', 'India', 'wakati', 'mnamo', '2016', 'taifa', 'hilo', 'liliondowa', 'matumizi', 'ya', 'noti', 'za', 'thamani', 'kubwa', 'kama', 'sehemu', 'ya', 'msako', 'dhidi', 'ya', 'ufisadi', 'na', 'fedha', 'haramu', '.', 'Ripoti', 'ya', 'benki', 'kuu', 'ya', 'India', 'imesema', '99', '%', 'ya', 'noti', 'hizo', 'za', 'zamani', 'zilizokuwa', 'ziktumia', 'kabl', 'aya', 'marufuku', 'ziliwasilishwa', 'baadaye', ',', 'kuashiria', 'kuwa', 'watu', 'wengi', 'waliokuwana', 'fedha', 'hizo', 'kinyume', 'cha', 'sheria', 'walifanikiwa', 'kupata', 'njia', 'za', 'kuzihifadhi', 'kwenye', 'benki', 'kwa', 'njia', 'halali', '.', 'Visa', '3,172', 'vya', 'uzungukaji', 'wa', 'fedha', 'vilivyotajwa', 'kushukiwa', 'wakati', 'wa', 'zoezi', 'hilo', 'nchini', 'kenya', 'vitachunguzwa', ',', 'Njoroge', 'anasema', 'lakini', '96', '%', 'kati', 'yao', 'ulihusisha', 'chini', 'ya', 'shilingi', 'laki', 'tano', 'au', '$', '5,000', '.', 'Licha', 'ya', 'kwamba', 'hili', 'huenda', 'pia', 'likaashiria', 'kuwa', 'wale', 'waliokuwa', 'na', 'fedha', 'nyingi', 'walifanikiwa', 'kuzigawanya', 'katika', 'viwango', 'vidogo', 'vya', 'fedha', 'na', 'kuepuka', 'kuchunguzwa', '.', 'Chanzo', 'cha', 'picha', ',', 'Getty', 'Images', 'Maelezo', 'ya', 'picha', ',', 'Kulikuwa', 'na', 'wasiwasi', 'kwamba', 'bei', 'za', 'bidhaa', 'zingelipanda', 'Kwame', 'Owino', ',', 'wa', 'taasisi', 'ya', 'masuala', 'ya', 'uchumi', 'mjini', 'Nairobi', 'ameiambia', 'BBC', 'News', ':', '``', 'Mojawapo', 'ya', 'sababu', 'wa', 'kuondolewa', 'matumizi', 'ya', 'noti', 'hizo', '-', 'tunaarifiwa', '-', 'ilikuwa', 'ni', 'haja', 'ya', 'kukabiliana', 'na', 'ufisadi', 'na', 'biashara', 'haramu', 'ya', 'pesa', ',', 'lakini', 'hakuna', 'aliyekamatwa', 'kufikia', 'sasa', '.', \"''\"]\n",
      "\n",
      " Number of Words:  344\n"
     ]
    }
   ],
   "source": [
    "file=\"19oct5_1.txt\"\n",
    "\n",
    "# calling the function and storing the contents in a text variable \n",
    "text = get_document(\"https://www.bbc.com/swahili/habari-49922206\")\n",
    "\n",
    "# calling the store_ document function \n",
    "store_document(doc=text,name=file)\n",
    "\n",
    "#add the words in this file to the total_corpus_words, to keep count of the number of words in the corpus\n",
    "total_corpus_words+=total_words(file)"
   ]
  },
  {
   "cell_type": "code",
   "execution_count": 102,
   "metadata": {},
   "outputs": [
    {
     "data": {
      "text/plain": [
       "150404"
      ]
     },
     "execution_count": 102,
     "metadata": {},
     "output_type": "execute_result"
    }
   ],
   "source": [
    "total_corpus_words"
   ]
  },
  {
   "cell_type": "code",
   "execution_count": 103,
   "metadata": {},
   "outputs": [
    {
     "name": "stdout",
     "output_type": "stream",
     "text": [
      "['Wafugaji', '2000', 'Kenya', 'wanakadiria', 'hasara', 'baada', 'ya', 'kusalia', 'na', 'pesa', 'zisizotumika', '5', 'Oktoba', '2019', 'Zaidi', 'ya', 'wafugaji', '2,000', 'wa', 'kuhama', 'hama', 'nchini', 'Kenya', 'wamesalia', 'noti', 'za', 'zamani', 'za', 'shilingi', 'elfu', 'moja', '(', '$', '10', ')', 'ambayo', 'haitumiki', 'tena', 'nchini', 'humo.Wafugaji', 'hao', 'ambao', 'wamekuwa', 'wakilisha', 'mifugo', 'wao', 'katika', 'misitu', 'ya', 'Witu', 'na', 'Boni', 'Pwani', 'ya', 'Kenya', 'wanasema', 'hawakufanikiwa', 'kufika', 'nyumbani', 'kubadilisha', 'noti', 'hizo', 'baada', 'ya', '``', 'kushindwa', 'kufikia', 'muda', 'wa', 'mwisho', 'wa', 'Septemba', '30', 'uliowekwa', 'na', 'Benki', 'Kuu', 'ya', 'Kenya', '.', \"''\", 'Wafugaji', 'hao', 'sasa', 'wanatoa', 'wito', 'kwa', 'Benki', 'Kuu', 'ya', 'Kenya', 'kuwapa', 'fursa', 'ya', 'kubadilisha', 'noti', 'hizo', 'za', 'zamani', 'Baadhi', 'yao', 'waliliambia', 'Gazeti', 'la', 'Nation', ',', 'kuwa', 'walifahamishwa', 'kwamba', 'noti', 'hiyo', 'ya', 'shilingi', '1,000', 'haitumiki', 'tena', 'walipofika', 'maeneo', 'ya', 'mjini', 'na', 'kujaribu', 'kuitumia', 'kununua', 'bidhaa', '.', 'Chanzo', 'cha', 'picha', ',', 'Getty', 'Images', '``', 'Tulijaribu', 'kulipia', 'chakula', 'katika', 'mgahawa', 'mmoja', 'mjini', 'Minjila', ',', 'tukaambiwa', 'pesa', 'hiyo', 'haitumikio', 'tena', '.', 'Karibu', 'tukosane', 'na', 'mmiliki', 'wa', 'mgahawa', 'huo', 'lakini', 'tulielezewa', 'kilichojiri', ',', \"''\", 'alisema', 'Mohammed', 'Barisa', '.', 'Bw', 'Barisa', 'pia', 'aliongezea', 'kuwa', 'karibu', 'wafugaji', '2,000', 'bado', 'wapo', 'malishoni', 'na', 'hawana', 'habari', 'kuhusu', 'mabadiliko', 'yanayoendelea', 'nchini', '.', 'Kundi', 'la', 'wafugaji', 'liliondoka', 'nyumbani', 'mwezi', 'Februari', 'mwaka', 'huu', 'kutafutia', 'mifugo', 'yao', 'malisho', 'na', 'maji', 'na', 'inasemekana', 'hawakua', 'na', 'mawasiliano', 'ya', 'aina', 'yoyote', 'au', 'ufahamu', 'kuhusu', 'mabadiliko', 'ya', 'sarafu', 'ya', 'shilingi', 'elfu', 'moja', '.', 'Wafugaji', 'hao', 'hao', 'wameelezea', 'hasara', 'waliopata', 'kutoka', 'kwa', 'wafanyibiashara', 'walaghai', 'walionunua', 'mifugo', 'yao', 'kwa', 'kutumia', 'Noti', 'hiyo', 'ya', 'zamani', 'walipokua', 'njiani', 'kurejea', 'nyumbani', '.', '``', 'Tuliwauza', 'watu', 'kadhaa', 'kondoo', 'na', 'mbuzi', 'na', 'walitulipa', 'kwa', 'kutumia', 'noti', 'ya', 'shilingi', '1,000', '.', 'Tumesalia', 'na', 'karibu', 'shilingi', '200,000', '(', '$', '2,000', ')', ',', 'na', 'sasa', 'tumearifiwa', 'kuwa', 'ni', 'karatasi', 'ambayo', 'hakuna', 'benki', 'inaweza', 'kukubali', ',', \"''\", 'Ishmael', 'Barako', ',', 'mmoja', 'wa', 'wafugaji', 'hao', 'aliimbia', 'gazeti', 'hilo', '.', 'Chanzo', 'cha', 'picha', ',', 'Getty', 'Images', 'Wafugaji', 'hao', 'sasa', 'wanatoa', 'wito', 'kwa', 'Gavana', 'wa', 'Benki', 'Kuu', 'ya', 'Kenya', 'Patrick', 'Njoroge', 'kuwapa', 'nafasi', 'ya', 'kubadilisha', 'noti', 'hizo', 'za', 'zamani', '.', '``', 'Tupo', 'katika', 'makundi', 'tofauti', 'kutoka', 'maeneo', 'tofauti', 'na', 'kiongozi', 'wetu', 'anaweza', 'kuthibitisha', 'kila', 'kitu', 'kwa', 'njia', 'ya', 'uwazi', 'ili', 'kutuokoa', 'dhidi', 'ya', 'hasara', 'inayotukodolea', 'macho', ',', \"''\", 'aliongeza', 'Bw', '.', 'Barako', '.', 'Kwa', 'mujibu', 'wa', 'Shirika', 'la', 'kitaifa', 'la', 'kukabiliana', 'na', 'Ukame', ',', 'zaidi', 'ya', 'wafugaji', 'wa', 'kuhama', 'hama', '5,000', 'waliripotiwa', 'kuhamia', 'maeneo', 'ya', 'Lamu', 'na', 'Tana', 'Delta', 'Pwani', 'ya', 'Kenya', 'kutafutia', 'mifugo', 'wao', 'malisho', 'na', 'maji', '.']\n",
      "\n",
      " Number of Words:  389\n"
     ]
    }
   ],
   "source": [
    "file=\"19oct5_2.txt\"\n",
    "\n",
    "# calling the function and storing the contents in a text variable \n",
    "text = get_document(\"https://www.bbc.com/swahili/habari-49944718\")\n",
    "\n",
    "# calling the store_ document function \n",
    "store_document(doc=text,name=file)\n",
    "\n",
    "#add the words in this file to the total_corpus_words, to keep count of the number of words in the corpus\n",
    "total_corpus_words+=total_words(file)"
   ]
  },
  {
   "cell_type": "code",
   "execution_count": 104,
   "metadata": {},
   "outputs": [
    {
     "data": {
      "text/plain": [
       "150793"
      ]
     },
     "execution_count": 104,
     "metadata": {},
     "output_type": "execute_result"
    }
   ],
   "source": [
    "total_corpus_words"
   ]
  },
  {
   "cell_type": "code",
   "execution_count": 105,
   "metadata": {},
   "outputs": [
    {
     "name": "stdout",
     "output_type": "stream",
     "text": [
      "['Mbio', 'za', 'dunia', 'za', 'riadha', ':', 'Kenya', 'ilivyonyakua', 'dhahabu', 'kimiujiza', 'kutoka', 'kwa', 'Ethiopia', 'Mwanariadha', 'wa', 'Kenya', 'Conselsius', 'Kipruto', 'alimshinda', 'Lamecha', 'Girma', 'wa', 'Ethiopia', 'katika', 'fainali', 'ya', 'kusisimua', 'ya', 'mbio', 'za', 'mita', '3,000', 'kuruka', 'vizuizi', 'na', 'maji', 'katika', 'mashindano', 'ya', 'Dunia', 'ya', 'riadha', 'yanayondelea', 'mjini', 'Doha', 'Qatar', '.', 'Girma', 'aliongoza', 'mbio', 'hizo', 'hadi', 'sekunde', 'ya', 'mwisho', 'lakini', 'Kipruto', ',', 'ambaye', 'alionekana', 'kama', 'alifanikiwa', 'kumfikia', 'na', 'na', 'kunyakua', 'ushindi', 'uliosaidia', 'kuhifadhi', 'taji', 'la', 'dunia', 'la', 'mbio', 'hizo', '.']\n",
      "\n",
      " Number of Words:  76\n"
     ]
    }
   ],
   "source": [
    "file=\"19oct5_3.txt\"\n",
    "\n",
    "# calling the function and storing the contents in a text variable \n",
    "text = get_document(\"https://www.bbc.com/swahili/michezo-49946031\")\n",
    "\n",
    "# calling the store_ document function \n",
    "store_document(doc=text,name=file)\n",
    "\n",
    "#add the words in this file to the total_corpus_words, to keep count of the number of words in the corpus\n",
    "total_corpus_words+=total_words(file)"
   ]
  },
  {
   "cell_type": "code",
   "execution_count": 106,
   "metadata": {},
   "outputs": [
    {
     "data": {
      "text/plain": [
       "150869"
      ]
     },
     "execution_count": 106,
     "metadata": {},
     "output_type": "execute_result"
    }
   ],
   "source": [
    "total_corpus_words"
   ]
  },
  {
   "cell_type": "code",
   "execution_count": 107,
   "metadata": {},
   "outputs": [
    {
     "name": "stdout",
     "output_type": "stream",
     "text": [
      "['Video', 'ya', 'ajali', 'hiyo', 'iliyonaswa', 'wakati', 'wa', 'tukio', 'imekua', 'ikisambazwa', 'katika', 'mitandao', 'ya', 'kijamii', '.', 'Tangu', 'siku', 'hiyo', 'kumekuwa', 'na', 'shughuli', 'za', 'uokoaji', 'ambazo', 'zimejumuisha', 'maafisa', 'kutoka', 'vitengo', 'vya', 'Kenya', 'Navy', ',', 'Kenya', 'Ferry', ',', 'na', 'wapiga', 'mbizi', 'wa', 'kibinafsi', '.', 'Lakini', 'wananchi', 'wamekua', 'wakielekeza', 'hasira', 'zao', 'kwa', 'jeshi', 'la', 'wanamaji', 'la', 'Kenya-', 'kwa', 'kukosa', 'vifaa', 'maalum', 'vya', 'kazi', '.', 'Bahari', 'ina', 'wenyewe', '?', 'Saa', 'chache', 'baada', 'ya', 'ajali', 'hiyo', 'mkuu', 'wa', 'shirika', 'la', 'Ferry', 'Bakari', 'Gowa', 'aliiambia', 'BBC', 'kwamba', 'kutokana', 'na', 'shughli', 'ambazo', 'huendelea', 'katika', 'eneo', 'hilo', ',', 'masaa', '3', 'pekee', 'ndiyo', 'yanaweza', 'kutumiwa', 'kutafuta', 'miili', 'ya', 'waathiriwa', '.', \"''Hatujachukua\", 'muda', 'mrefu', ',', 'shughuli', 'hii', 'haiwezi', 'kufanyika', 'muda', 'wa', 'usiku', 'pia', 'kwa', 'sababu', 'operesheni', 'ya', 'feri', 'haiwezi', 'kufanyika', 'jioni', 'na', 'asubuhi', 'wakati', 'watu', 'wanatumia', 'kivuko', 'hicho', \"''\", '.', 'Kufikia', 'sasa', ',', 'miili', 'ya', 'waathiriwa', 'bado', 'haijapatikana', '.', 'Lakini', 'katika', 'mitandao', 'ya', 'kijamii', 'kumezuka', 'swala', 'la', '``', 'Bahari', 'ina', 'wenyewe', \"''\", '.', 'Ni', 'kauli', 'ambayo', 'inazungumziwa', 'sana', 'na', 'wenyeji', 'wa', 'pwani', 'ambao', 'wanadai', 'kwamba', 'janga', 'kama', 'hili', 'linapotokea', ',', 'sala', 'maalum', 'inapaswa', 'kufanywa', 'ambayo', 'inahusisha', 'kuchinjwa', 'kwa', 'mnyama', 'na', 'kisha', 'damu', 'yake', 'kumwagwa', 'kwenye', 'eneo', 'la', 'tukio', 'ili', 'kusababisha', 'miili', 'ya', 'waathiriwa', 'kujitokeza', '.', 'Chanzo', 'cha', 'picha', ',', 'Social', 'Media', 'Chanzo', 'cha', 'picha', ',', 'Social', 'Media', 'Changawa', 'Gharama', 'ni', 'mkaazi', 'wa', 'Fumbini', 'kilifi', 'na', 'anaamini', 'kwamba', 'kuna', 'njia', 'moja', 'tu', 'ya', 'miili', 'hiyo', 'kupatikana', 'kwa', 'urahisi', '.', \"''Si\", 'ushirikina', ',', 'ni', 'mila', 'yetu', 'ambayo', 'hatuwezi', 'kuiwacha', '...', 'Ni', 'kama', 'kumuomba', 'Mungu', 'ili', 'kile', 'ambacho', 'unatafuta', 'ukipate', 'kwa', 'urahisi', '.', \"''\", '``', 'Bahari', 'ina', 'wenyewe', '...', 'Kila', 'bahari', 'lazima', 'iwe', 'na', 'vichumbakazi', '.', 'Na', 'vichumbakazi', 'ndiyo', 'wenyewe', '.', 'Lazima', 'tambiko', 'hiyo', 'ifanywe', ',', 'lazima', 'uwapatie', 'damu', 'kwa', 'kuchinja', 'mnyama', 'ili', 'miili', 'hiyo', 'ipatikane', \"''\", 'Abdul', 'Bar', 'Juma', 'ni', 'Baharia', 'mkongwe', 'kutoka', 'jijini', 'Mombasa', '.', '``', 'Juu', 'ya', 'bahari', ',', 'maji', 'huwa', 'yanaonekana', 'yametulia', 'lakini', 'chini', 'huwa', 'yanasonga', '.', 'Kwa', 'hivyo', 'yakisonga', 'hawawezi', 'kuwa', 'wako', 'pale', 'Likoni', '.', 'Kwa', 'hivyo', 'hayo', 'mambo', 'ya', \"'ooh\", 'inapaswa', 'tuchinje', \"ng'ombe\", ',', 'kufanywe', 'nini', '...', \"'\", 'Hayo', 'ni', 'mambo', 'ya', 'kishirikina', '.', 'Katika', 'mila', 'za', 'kiafrika', ',', 'watu', 'wengi', 'huamini', 'kwamba', 'wakati', 'janga', 'linapotokea', 'kuna', 'hitaji', 'la', 'kuyafurahisha', 'miungu', 'ili', 'kuzuia', 'majanga', 'mengine', 'kutokea', '.', 'Kuridhisha', 'miungu', 'hutegemea', 'na', 'imani', 'ya', 'mtu', '.', 'Mara', 'kwa', 'mara', 'panapotokea', 'ajali', 'inayogharimu', 'maisha', 'ya', 'watu', 'wengi', ',', 'mbalimbali', 'hukusanyika', 'mahali', 'pale', 'na', 'kufanya', 'maombi', 'kwa', 'imani', 'kwamba', 'yatazuia', 'janga', 'kama', 'lile', 'kutokea', 'tena', 'siku', 'za', 'usoni', '.', 'Mfano', 'wakati', 'lori', 'la', 'mafuta', 'lipolipuka', 'baada', 'ya', 'kupoteza', 'mwelekeo', 'na', 'kugongana', 'na', 'gari', 'zingine', 'katika', 'mji', 'wa', 'Naivasha', 'nchini', 'Kenya', 'mwaka', 'wa', '2016', 'na', 'kusababisha', 'ajali', 'ya', 'watu', 'zaidi', 'ya', '30', '.', 'Wakristo', 'kutoka', 'matabaka', 'mbalimbali', 'walikusanyika', 'katika', 'eneo', 'hilo', 'siku', 'chache', 'baada', 'ya', 'ajali', 'hiyo', 'kutokea', 'na', 'kufanya', 'maombi', 'katika', 'eneo', 'hilo', 'ili', 'kuzuia', 'janga', 'hilo', 'kujirudia', '.', 'Kulingana', 'na', 'wataalamu', 'wa', 'Kihistoria', ',', 'kuna', 'wakati', 'ambapo', 'matambiko', 'yanafanya', 'kazi', 'na', 'kuna', 'wakati', 'ambayo', 'hayafanyi', 'kazi', '.', '``', 'Kuzama', 'kwa', 'hili', 'gari', 'na', 'mengineyo', 'ambayo', 'yamewahi', 'kuzama', 'kunaweza', 'kuambatanishwa', 'na', 'mila', 'na', 'itikadi', 'pamoja', 'na', 'hoyo', 'imani', 'ya', 'kuabudu', 'mizimu', '.', 'Lakini', 'sidhani', 'kwamba', 'kwa', 'sasa', 'hivi', 'taaluma', 'ya', 'kisayansi', 'na', 'kiteknolojia', 'ina', 'nafasi', 'ya', 'mambo', 'kama', 'hayo', '.', 'Kuna', 'uwezekano', 'kwamba', 'teknolojia', 'yetu', 'ndiyo', 'imekuwa', 'hafifu', 'ndiyo', 'maana', 'miili', 'kwa', 'muda', 'huu', 'mrefu', 'hazijaweza', 'kupatikana', '.', \"''\", 'Chanzo', 'cha', 'picha', ',', 'Chacha', 'Nyaigoti', 'Chacha', '``', 'Kisingizio', 'kwamba', 'labda', 'kushindwa', 'kwa', 'serikali', 'au', 'kushindwa', 'kwa', 'watu', 'kuweza', 'kutafuta', 'na', 'kupata', 'hilo', 'gari', 'pamoja', 'na', 'miili', 'ya', 'watu', 'wawili', 'ni', 'kisingizio', 'ambacho', 'baadae', 'tutaanza', 'kukiingiza', 'katika', 'itikadi', ',', 'mila', 'na', 'desturi', 'za', 'kiasili', 'ili', 'tupate', 'visababu', 'vya', 'kuonyesha', 'ni', 'kwa', 'nini', 'hatujatekeleza', 'wajibu', 'wa', 'kisasa', ';', 'kwamba', 'tunahitaji', 'kuwa', 'na', 'wataalamu', ',', 'tunahitaji', 'kuwa', 'na', 'watu', 'wenye', 'ujuzi', 'wa', 'kupiga', 'mbizi', 'na', 'zaidi', 'tunahitaji', 'kuwa', 'na', 'vyombo', 'ambavyo', 'vinaweza', 'kufika', 'mahala', 'ambapo', 'kuna', 'lile', 'gari', 'na', 'miili', 'na', 'vikaweza', 'kuvutwa', 'kuja', 'juu', '.', \"''\", 'Anasisitiza', 'Profesa', '.', 'Imetimia', 'siku', 'tisa', 'na', 'bado', 'mwili', 'wa', 'Mariam', 'Kaghenda', 'na', 'mwanawe', 'haijapatikana', '.', 'Watu', 'wengi', 'hasa', 'wakaazi', 'wa', 'pwani', 'wanaamini', 'kuwa', 'limesababishwa', 'na', 'kutozingatia', 'itikadi', 'ya', 'kafara', ',', 'sawia', 'na', 'wao', 'kuna', 'wengine', 'ambao', 'wana', 'imani', 'kwamba', 'miili', 'hiyo', 'itapatikana', 'kutumiateknolojia', 'lakini', 'bado', 'gumzo', 'la', 'kutolewa', 'kafara', 'linaendelea', '.']\n",
      "\n",
      " Number of Words:  685\n"
     ]
    }
   ],
   "source": [
    "file=\"19oct7.txt\"\n",
    "\n",
    "# calling the function and storing the contents in a text variable \n",
    "text = get_document(\"https://www.bbc.com/swahili/habari-49948225\")\n",
    "\n",
    "# calling the store_ document function \n",
    "store_document(doc=text,name=file)\n",
    "\n",
    "#add the words in this file to the total_corpus_words, to keep count of the number of words in the corpus\n",
    "total_corpus_words+=total_words(file)"
   ]
  },
  {
   "cell_type": "code",
   "execution_count": 108,
   "metadata": {},
   "outputs": [
    {
     "data": {
      "text/plain": [
       "151554"
      ]
     },
     "execution_count": 108,
     "metadata": {},
     "output_type": "execute_result"
    }
   ],
   "source": [
    "total_corpus_words"
   ]
  },
  {
   "cell_type": "code",
   "execution_count": 109,
   "metadata": {},
   "outputs": [
    {
     "name": "stdout",
     "output_type": "stream",
     "text": [
      "['Vilevile', 'kwa', 'mujibu', 'wa', 'ripoti', 'hiyo', 'kuna', 'takriban', 'mamilionea', '6,900', 'wanaoishi', 'Afrika', 'kila', 'mmoja', 'akiwa', 'na', 'mali', 'yenye', 'thamani', 'ya', 'dola', 'milioni', '10', 'ama', 'zaidi', 'mbali', 'na', 'mabilionea', '23', 'kila', 'mmoja', 'wao', 'akiwa', 'na', 'mali', 'yenye', 'thamani', 'ya', 'dola', 'bilioni', 'moja', '.', 'Bilionea', 'mwenye', 'umri', 'mdogo', 'zaidi', 'Afrika', 'Chanzo', 'cha', 'picha', ',', 'AFP/Getty', 'Images', 'Mohammed', 'Dewji', ',', 'maarufu', 'kama', 'Mo', 'Dewji', ',', 'ni', 'mmoja', 'wa', 'wafanyabiashara', 'wanaofahamika', 'sana', 'kutoka', 'nchini', 'Tanzania', '.', 'Ni', 'bilionea', 'ambaye', 'ametambuliwa', 'kuwa', 'miongoni', 'mwa', 'mabilionea', 'wa', 'umri', 'mdogo', 'zaidi', 'Afrika', '.', 'Mkuu', 'wa', 'Mkoa', 'wa', 'Dar', 'es', 'salaam', 'Paul', 'Makonda', 'aligusia', 'hilo', 'akizungumzia', 'hali', 'ya', 'usalama', 'Dar', 'es', 'Salaam', ':', '``', 'Na', 'ndio', 'maana', 'hata', 'Mo', 'mwenyewe', 'angeweza', 'kuwa', 'na', 'mabodyguard', '(', 'walinzi', ')', 'lakini', 'kwa', 'sababu', 'ya', 'amani', 'iliyoko', 'katika', 'mkoa', 'wetu', ',', 'anatembea', 'peke', 'yake', '.', \"''\", 'Mo', 'Dewji', 'ni', 'nani', '?', 'Mo', 'alizaliwa', 'tarehe', '8', 'Mei', 'mwaka', '1975', ',', 'ikiwa', 'na', 'maana', 'kwamba', 'kwa', 'sasa', 'ana', 'miaka', '43', '.', 'Alizaliwa', 'eneo', 'la', 'Ipembe', ',', 'Singida', 'maeneo', 'ya', 'katikati', 'mwa', 'Tanzania', '.', 'Kwa', 'mujibu', 'wa', 'jarida', 'maarufu', 'la', 'masuala', 'ya', 'fedha', 'la', 'Forbes', ',', 'ana', 'utajiri', 'wa', 'dola', 'bilioni', '1.5', '.', 'Ni', 'wa', 'pili', 'miongoni', 'mwa', 'watoto', 'sita', 'wa', 'Gulamabbas', 'Dewji', 'na', 'Zubeda', 'Dewji', '.', 'Alisomea', 'elimu', 'ya', 'msingi', 'katika', 'shule', 'ya', 'msingi', 'ya', 'Arusha', 'na', 'baadaye', 'akasomea', 'elimu', 'ya', 'sekondari', 'katika', 'Shule', 'ya', 'Kimataifa', 'ya', 'Tanganyika', '(', 'IST', ')', 'jijini', 'Dar', 'es', 'Salaam', '.', 'Alihamishiwa', 'Marekani', 'kwa', 'masomo', 'zaidi', 'ya', 'sekondari', 'katika', 'jimbo', 'la', 'Florida', 'mwaka', '1992', '.', 'Alisomea', 'chuo', 'kikuu', 'cha', 'Gerogetown', 'jijini', 'Washington', 'DC', 'na', 'kuhitimu', 'mwaka', '1998', 'akiwa', 'na', 'shahada', 'ya', 'kwanza', 'katika', 'biashara', 'ya', 'kimataifa', 'na', 'fedha', ',', 'na', 'masuala', 'pia', 'ya', 'dini', '.', 'Miongoni', 'mwa', 'watu', 'mashuhuri', 'waliosomea', 'chuo', 'kikuu', 'hicho', 'ni', 'rais', 'Bill', 'Clinton', ',', 'rais', 'wa', 'zamani', 'wa', 'Ufilipino', 'Gloria', 'Arroyo', ',', 'Mfalme', 'wa', 'Jordan', 'Abdullah', 'na', 'wachezaji', 'wa', 'NBA', 'kama', 'vile', 'Allen', 'Iverson', 'na', 'Patrick', 'Ewing', '.', 'Baada', 'ya', 'kufuzu', ',', 'alirejea', 'Tanzania', 'na', 'kuanza', 'kushiriki', 'katika', 'usimamizi', 'wa', 'kampuni', 'ya', 'Mohammed', 'Enterprises', 'Tanzania', 'Limited', '(', 'MeTL', ')', 'iliyoanzishwa', 'na', 'babake', 'miaka', 'ya', '1970', '.', 'Maelezo', 'ya', 'picha', ',', 'Fedha', 'Alihudumu', 'kwa', 'miaka', 'miwili', 'kabla', 'ya', 'kuwa', 'afisa', 'mkuu', 'mtendaji', 'wa', 'kampuni', 'hiyo', ',', 'wadhifa', 'ambao', 'ameendelea', 'kuushikilia', 'hadi', 'sasa', '.', 'Mo', 'ndiye', 'tajiri', 'namba', 'moja', 'Afrika', 'Mashariki', ',', 'na', 'pia', 'miongoni', 'mwa', 'matajiri', 'wa', 'umri', 'mdogo', 'zaidi', 'Afrika', '.', 'Kampuni', 'ya', 'METL', ',', 'kwa', 'mujibu', 'wa', 'Forbes', ',', 'ilifanikiwa', 'kwa', 'kununua', 'viwanda', 'vya', 'nguo', 'na', 'mafuta', 'vilivyokuwa', 'vinamilikiwa', 'na', 'Serikali', 'kwa', 'bei', 'ndogo', 'na', 'kuvifanya', 'viwe', 'na', 'faida', 'zaidi', 'kwa', 'kutumia', 'mtindo', 'wa', 'kisasa', 'wa', 'menejimenti', '.', 'METL', 'ina', 'viwanda', 'vya', 'kutengeneza', 'nguo', 'na', 'bidhaa', 'nyingine', 'za', 'matumizi', 'ya', 'binadamu', 'vikiwamo', 'vyakula', ',', 'sabuni', 'na', 'vinywaji', '.', 'Pia', 'ina', 'mapato', 'yanayozidi', 'Dola', '1.4', 'milioni', 'za', 'Marekani', '(', 'Sh2.5', 'trilioni', ')', 'kwa', 'mwaka', '.', 'Katika', 'kampuni', 'hiyo', ',', 'ambayo', 'imekuwa', 'na', 'ushindani', 'dhidi', 'ya', 'kampuni', 'kubwa', 'nyingine', 'kama', 'Said', 'Salim', 'Bakhresa', ',', 'Dewji', 'anamiliki', 'asilimia', '75', 'ya', 'hisa', 'zote', '.', 'Kwa', 'mujibu', 'wa', 'tovuti', 'yake', ',', 'METL', 'inaendesha', 'shughuli', 'za', 'uagizaji', 'na', 'usafirishaji', 'bidhaa', 'kutoka', 'na', 'kwenda', 'nje', ',', 'uzalishaji', 'unaohusisha', 'nguo', ',', 'vinywaji', 'na', 'vyakula', ',', 'usagaji', 'nafaka', ',', 'nishati', 'na', 'petroli', 'na', 'utengenezaji', 'baiskeli', '.', 'Pia', 'inahusika', 'na', 'huduma', 'za', 'simu', ',', 'fedha', ',', 'kilimo', 'na', 'pia', 'ina', 'kitengo', 'cha', 'kontena', 'kwenye', 'Bandari', 'ya', 'Dar', 'es', 'Salaam', '.', 'METL', 'ina', 'shughuli', 'zake', 'katika', 'nyingi', 'barani', 'Afrika', 'na', 'ina', 'malengo', 'ya', 'kujipanua', 'zaidi', 'katika', 'maeneo', 'zaidi', '.', 'Inaendesha', 'shughuli', 'zake', 'Tanzania', ',', 'Uganda', ',', 'Sudan', 'Kusini', ',', 'Burundi', ',', 'Rwanda', ',', 'Jamhuri', 'ya', 'Kidemokrasia', 'ya', 'Congo', ',', 'Kenya', ',', 'Malawi', ',', 'Msumbiji', 'na', 'Zambia', ',', 'ambapo', 'huajiri', 'watu', 'zaidi', 'ya', '28,000', '.', 'Chanzo', 'cha', 'picha', ',', 'AFP', 'Shughuli', 'za', 'MeTL', 'huchagia', '3.5', '%', 'ya', 'jumla', 'ya', 'pato', 'la', 'taifa', '(', 'GDP', ')', 'la', 'Tanzania', '.', 'Kiwango', 'cha', 'wastani', 'cha', 'ukuaji', 'wa', 'mapato', 'ya', 'kampuni', 'hiyo', 'kuanzia', 'mwaka', '1999', 'hadi', 'mwaka', '2014', 'kutoka', '$', '30', 'milioni', 'hadi', '$', '1.3', 'bilioni', 'kilikuwa', 'ni', '200', '%', '.', 'Lengo', 'la', 'kampuni', 'hiyo', 'ni', 'kuongeza', 'mapato', 'ya', 'taifa', 'lake', 'hadi', '$', '5bn', 'kufikia', 'mwaka', '2020', ',', 'pamoja', 'na', 'kuwaajiri', 'watu', '100,000', '.', 'Mo', 'Dewji', 'ameorodheshwa', 'wa', '17', 'kwenye', 'orodha', 'ya', 'mabilionea', 'barani', 'Afrika', 'na', 'wa', '1561', 'duniani', 'kwenye', 'orodha', 'ya', 'mabilionea', 'mwaka', '2018', '.', 'Wakati', 'mmoja', 'kampuni', 'yake', 'ilianzisha', 'Mo', 'Cola', 'kushindana', 'na', 'Coca', 'Cola', '.', 'Wakfu', 'wa', 'hisani', 'Dewji', 'ni', 'Mtanzania', 'pekee', 'aliyesaini', 'mkataba', 'mwaka', '2016', 'wa', 'kutoa', 'kwa', 'wahitaji', 'nusu', 'ya', 'mali', 'yake', '.', 'Mo', 'Dewji', 'Foundation', 'ndio', 'asasi', 'ambayo', 'aliianzisha', 'mwaka', '2014', 'ili', 'kutekeleza', 'nia', 'yake', 'hiyo', 'na', 'kazi', 'yake', 'kubwa', 'ni', 'kusaidia', 'watanzania', 'wasiojiweza', 'kwa', 'upande', 'wa', 'afya', ',', 'elimu', 'na', 'maendeleo', 'jamii', '.', 'Kujiingiza', 'katika', 'siasa', 'Mbali', 'na', 'biashara', 'na', 'shughuli', 'za', 'jamii', 'Mo', 'Dewji', 'amewahi', 'kuwa', 'mwanasiasa', 'na', 'mwaka', '2005', 'mpaka', '2015', ',', 'Mohamed', 'Dewji', 'alikuwa', 'mbunge', 'wa', 'Singida', 'Mjini', '.', 'Alijiingiza', 'katika', 'siasa', 'mara', 'ya', 'kwanza', 'mwaka', '2000', 'ambapo', 'alishinda', 'uteuzi', 'wa', 'Chama', 'Cha', 'Mapinduzi', '(', 'CCM', ')', 'katika', 'eneo', 'hilo', ',', 'wakati', 'huo', 'akiwa', 'na', 'miaka', '25', ',', 'lakini', 'akazuiwa', 'kuwania', 'kwa', 'madai', 'kwamba', 'alikuwa', 'bado', 'mdogo', 'wa', 'umri', '.', 'Tuzo', 'Mwaka', '2012', ',', 'alitawazwa', 'Kiongozi', 'Mdogo', 'Duniani', 'kwa', 'Kiingereza', 'Young', 'Global', 'Leader', '(', 'YGL', ')', 'wakati', 'wa', 'kufanyika', 'kwa', 'Mkutano', 'Mkuu', 'wa', 'uchumi', 'Duniani', '(', 'WEF', ')', '.', 'Mwaka', '2015', ',', 'alitajwa', 'kuwa', 'bilionea', 'wa', 'umri', 'mdogo', 'zaidi', 'Afrika', 'na', 'jarida', 'la', 'Forbes', 'na', 'baadaye', 'akatawazwa', 'Mtu', 'Mashuhuri', 'wa', 'Mwaka', 'wa', 'Forbes', '.', 'Mwaka', 'uliopita', ',', 'alishinda', 'tuzo', 'ya', 'Afisa', 'Mkuu', 'Mtendaji', 'bora', 'wa', 'Mwaka', 'Afrika', 'katika', 'mkutano', 'mkuu', 'wa', 'maafisa', 'wakuu', 'watendaji', 'wa', 'Afrika', '.', 'Familia', ':', 'Mke', 'wake', 'na', 'watoto', 'Mke', 'wa', 'Dewji', 'huitwa', 'Saira', ',', 'aliyekuwa', 'wanapendana', 'tangu', 'utotoni', ',', 'na', 'wamejaliwa', 'watoto', 'watatu', 'Nyla', ',', 'Abbas', 'na', 'Mahdi', '.', 'Alifunga', 'ndoa', 'mwaka', '2001', '.', 'Mo', 'na', 'mke', 'wake', 'walikutana', 'Shule', 'ya', 'Kimataifa', 'ya', 'Tanganyika', '(', 'IST', ')', 'jijini', 'Dar', 'es', 'Salaam', '.', 'Klabu', 'ya', 'Simba', 'SC', 'Dewji', 'pia', 'ni', 'mpenzi', 'wa', 'michezo', 'na', 'amewekeza', 'katika', 'klabu', 'ya', 'mpira', 'ya', 'Simba', 'Sports', 'Club', 'inayocheza', 'katika', 'Ligi', 'Kuu', 'ya', 'Tanzania', 'ambapo', 'ni', 'mfadhili', 'mkuu', 'kwa', 'sasa', '.', 'Amekuwa', 'akifadhili', 'ujenzi', 'wa', 'uwanja', 'wa', 'mazoezi', 'wa', 'klabu', 'hiyo', '.', 'Chanzo', 'cha', 'picha', ',', 'AFP/Getty', 'Images', 'Sababu', 'ya', 'kurejea', 'Tanzania', 'kutoka', 'Marekani', 'Mo', 'Dewji', 'alisomea', 'Marekani', 'na', 'mpango', 'wake', 'ulikuwa', 'kusalia', 'na', 'kufanya', 'kazi', 'huko', '.', 'Ilikuwaje', 'mwishowe', 'akajipata', 'Tanzania', '?', 'Mwezi', 'Septemba', ',', 'aliandika', 'kwenye', 'Instagram', 'sababu', 'iliyomfanya', 'kurejea', ',', 'ambapo', 'anasema', 'ni', 'ushauri', 'wa', 'babake', 'pamoja', 'na', 'kugundua', 'kwamba', 'kulikuwa', 'na', 'fursa', 'nyingi', 'Tanzania', '.', '``', 'Nilipomaliza', 'masomo', 'yangu', 'ya', 'shahada', 'nikiwa', 'nchini', 'Marekani', 'niliamua', 'kubaki', 'huko', 'na', 'kufanya', 'kazi', '.', 'Nilitumia', 'muda', 'na', 'nguvu', 'nyingi', 'kazini', 'lakini', 'pesa', 'ambayo', 'niliipata', 'haikukidhi', 'kufanikisha', 'malengo', 'yangu', '.', '``', 'Ndipo', 'Baba', 'yangu', 'akanishauri', 'nirejee', 'nyumbani', 'Tanzania', 'na', 'nilipofatilia', 'kwa', 'kipindi', 'hicho', 'niligundua', 'kwamba', 'Tanzania', 'kuna', 'fursa', 'nyingi', 'za', 'kibiashara', 'na', 'hapo', 'ndipo', 'nilipoamua', 'kurudi', 'na', 'kujiunga', 'katika', 'biashara', 'ya', 'familia', '.', 'Muhimu', 'kufahamu', 'ni', 'kwamba', 'mafanikio', 'sio', 'lazima', 'uende', 'kuyatafuta', 'nje', 'ya', 'nchi', ',', 'hapa', 'hapa', 'nchini', 'kwetu', 'kuna', 'fursa', 'ambazo', 'ukifanyia', 'kazi', 'utafanikiwa', '.', 'Unafikiri', 'kwanini', 'baadhi', 'ya', 'watu', 'wanapenda', 'kuishi/kufanya', 'kazi', 'nje', 'ya', 'nchi', '?', \"''\", 'Nukuu', 'muhimu', 'za', 'Mo', 'Dewji', 'Mara', 'kwa', 'mara', ',', 'hutoa', 'ushauri', ',', 'na', 'pia', 'huwa', 'hafichi', 'upendo', 'wake', 'kwa', 'klabu', 'ya', 'Simba', 'FC', 'ambayo', 'ndiye', 'mdhamini', 'wake', 'mkuu', '.', 'Ijumaa', 'wiki', 'iliyopita', ',', 'aliandika', ':', '``', 'Kila', 'jambo', 'unaloogopa', ',', 'Mungu', 'ana', 'mpango', 'wake', '.', 'Mungu', 'ni', 'mkuu', 'kuliko', 'hofu', 'uliyonayo', '.', 'Ana', 'mamlaka', 'na', 'maisha', 'yako', 'ya', 'baadae', '.', 'Kuwa', 'na', 'imani', '.', \"''\", 'Kuhusu', 'urafiki', 'na', 'mikopo', ',', 'kauli', 'yake', 'hii', ':', '``', 'Hamna', 'kitu', 'kinaua', 'urafiki', 'kama', 'mikopo', '!', \"''\", 'Kuhusu', 'utajiri', 'na', 'umaskini', ',', 'aliweka', 'nukuu', 'hii', 'aliyoitoa', 'kwingine', 'pengine', 'kwenye', 'Twitter', 'majuzi', ':', '``', 'Walio', 'fukara', 'hujaribiwa', 'kwa', 'umaskini', ',', 'sisi', 'nao', 'hujaribiwa', 'kwa', 'kupewa', 'zaidi', 'ya', 'tunavyovihitaji', '.', \"''\", 'Ana', 'ushauri', 'pia', 'kuhusu', 'kufanikiwa', 'maishani', ':', '``', 'Vitu', 'vingi', 'katika', 'maisha', 'vinaweza', 'kujaribu', 'kukuondoa', 'kwenye', 'malengo', 'yako', 'lakini', 'usipoteze', 'mwelekeo', '.', 'Mipango', 'inaweza', 'kubadilika', 'lakini', 'kamwe', 'sio', 'mwisho', 'wa', 'safari', '!', \"''\"]\n",
      "\n",
      " Number of Words:  1307\n"
     ]
    }
   ],
   "source": [
    "file=\"19oct9_1.txt\"\n",
    "\n",
    "# calling the function and storing the contents in a text variable \n",
    "text = get_document(\"https://www.bbc.com/swahili/habari-49970444\")\n",
    "\n",
    "# calling the store_ document function \n",
    "store_document(doc=text,name=file)\n",
    "\n",
    "#add the words in this file to the total_corpus_words, to keep count of the number of words in the corpus\n",
    "total_corpus_words+=total_words(file)"
   ]
  },
  {
   "cell_type": "code",
   "execution_count": 110,
   "metadata": {},
   "outputs": [
    {
     "data": {
      "text/plain": [
       "152861"
      ]
     },
     "execution_count": 110,
     "metadata": {},
     "output_type": "execute_result"
    }
   ],
   "source": [
    "total_corpus_words"
   ]
  },
  {
   "cell_type": "code",
   "execution_count": 111,
   "metadata": {},
   "outputs": [
    {
     "name": "stdout",
     "output_type": "stream",
     "text": [
      "['Mashabiki', 'wa', 'michezo', 'nchini', 'Kenya', 'na', 'duniani', 'wanatazama', 'kwa', 'makini', 'kuona', 'iwapo', 'mwanariadha', 'wa', 'kenya', 'bingwa', 'wa', 'Olimpiki', 'mashindano', 'ya', 'marathon', ',', 'Eliud', 'Kipchoge', ',', 'anaweza', 'kuwa', 'mtu', 'wa', 'kwanza', 'kuwahi', 'kukimbia', 'kilomita', '42', 'chini', 'ya', 'saa', 'mbili', '.', 'Mwanaridha', 'huyo', 'bora', 'zaidi', 'duniani', 'anajaribu', 'kukimbia', 'kwa', 'kasi', 'hiyo', 'katika', 'mashindano', 'yanayotarajiwa', 'kufanyika', 'Vienna', 'nchini', 'Austria', 'mwishoni', 'mwa', 'juma', 'kwa', 'kukimbia', 'dhidi', 'ya', 'muda', 'aliokimbia', 'katika', 'siku', 'za', 'nyuma', '.', 'Alimaliza', 'mbio', 'kwa', 'sekundi', '26', 'zaidi', 'ya', 'alivyotarajia', 'katika', 'jitihada', 'ya', 'kwanza', 'ya', 'kukimbia', 'kwa', 'muda', 'wa', 'saa', 'mbili', 'tu', 'huko', 'Monza', '-', 'Italia', '.', 'Lakini', 'lengo', 'kuu', 'katika', 'mashindano', 'haya', 'maarufu', '``', 'INEOS', '1:59', 'challenge', \"''\", ',', 'sio', 'kushinda', 'tu', '.', 'Lengo', 'lake', 'mwanaridha', 'huyu', 'wa', 'Kenya', 'lilikuwa', 'wazi', 'tangu', 'awali', 'wakati', 'alipotangaza', 'kwamba', 'anakwenda', 'Vienna', 'sio', 'kushinda', ',', 'bali', 'ni', 'kuupika', 'muda', 'wake', 'wa', 'awali', '.', 'Lakini', 'je', 'ni', 'kuhusu', 'kuivunja', 'rekodi', '?', 'lakini', 'kinyume', 'na', 'inavyoripotiwa', 'na', 'baadhi', 'ya', 'vyombo', 'vya', 'habari', 'nchini', 'na', 'hata', 'katika', 'majukwaa', 'katika', 'mitandao', 'ya', 'kijamii', '.', 'Eliud', 'Kipchoge', '``', 'hatokuwa', 'anapania', 'kuivunja', 'rekodi', 'yake', 'ya', 'dunia', \"''\", '.', 'Kipchoge', 'ndiye', 'anayeishikilia', 'rekodi', 'ya', 'shirikisho', 'la', 'riadha', 'duniani', 'IAAF', 'kwa', 'muda', 'wa', 'saa', '2:01:39', 'lakini', 'amewahi', 'kukimbia', 'mbio', 'za', 'marathon', 'kwa', 'kasi', 'zaidi', 'ya', 'hiyo', '.', 'Hiyo', 'ni', 'katika', 'jitihada', 'za', 'awali', 'kuupika', 'muda', 'huo', 'wa', 'saa', 'mbili', '-', 'mradi', 'wa', 'Nike', '``', 'Breaking2', \"''\", ',', 'alipofanikiwa', 'kukimbia', 'kwa', 'saa', '2', 'na', 'sekundi', '25', '.', 'Lakini', 'rekodi', 'ya', 'dunia', 'inawekwa', 'katika', 'masharti', 'makali', 'ya', 'mashindano', ',', 'na', 'Mathew', 'anafafanuwa', 'kuwa', 'mashindano', 'hayo', 'ya', 'NIke', 'na', 'hata', 'yajayo', 'ya', '``', 'INEOS', '1:59', \"''\", 'yanatimiza', 'masharti', 'hayo.', '``', 'Yanalenga', 'muda', '...', 'inahusu', 'mwanariadha', 'kuupiku', 'muda', 'wa', 'saa', 'mbili', ',', 'na', 'kila', 'kitu', 'kimetayarishwa', 'kuhakikisha', 'ana', 'fursa', 'nzuri', \"''\", 'anasema', 'Kenyon', '.', 'Wakenya', 'waonyesha', 'upendo', 'Katika', 'kudhihirisha', 'uzito', 'wa', 'mashindano', 'haya', 'na', 'ina', 'maana', 'gani', 'kwa', 'wakenya', ',', 'baadhi', 'wamemiminika', 'katika', 'mitandao', 'ya', 'kijamii', 'kupitia', 'ujumbe', 'kama', '#', 'Eliud159', '#', 'ineos159challenge', 'na', '#', 'eliudkipchoge', 'uliotanda', 'pakubwa', 'Wakenya', 'wakionyesha', 'kumuunga', 'mkono', 'mwanariadha', 'huyo', 'katika', 'azimio', 'lake', 'mwishoni', 'mwa', 'juma', '.', 'Wengine', 'wakimpongeza', 'kwa', 'matayarisho', 'ya', 'kabl', 'aya', 'mashindano', 'hayo', 'na', 'kusisitiza', 'namna', 'jitihada', 'zake', 'zinavyowatia', 'moyo', 'wengi', 'nchini', '.', 'Baadhi', 'hata', 'wakigusia', 'namna', 'wanavyotazamia', 'historia', 'kuwekwa', 'katika', 'mashindano', 'hayo', '.', 'Eliud', 'Kipchoge', 'avunja', 'rekodi', 'ya', 'dunia', 'Chanzo', 'cha', 'picha', ',', 'SIMON', 'MAINA', 'Mnamo', 'Septemba', '2018', ',', 'Rekodi', 'mpya', 'ya', 'mbio', 'za', 'Berlin', 'Marathon', ',', 'ilichukuliwa', 'na', 'mwanariadha', 'huyo', 'wa', 'Kenya', ',', 'Eliud', 'Kipchoge', ',', 'ambaye', 'ni', 'mkimbiaji', 'wa', 'mbio', 'za', 'masafa', 'marefu', 'kwa', 'kasi', 'zaidi', 'duniani', '.', 'Bingwa', 'wa', 'Olimpiki', 'wakati', 'huo', 'akiwa', 'na', 'miaka', '33', ',', 'aliweka', 'muda', 'mpya', 'wa', 'saa', '2', ',', 'dakika', '1', 'na', 'sekunde', '39', 'na', 'kuivunja', 'rekodi', 'ya', 'Mkenya', 'mwenzake', 'Dennis', 'Kimetto', 'aliyeweka', 'rekodi', 'mpya', 'ya', 'dunia', 'ya', 'saa', '2', ',', 'dakika', '2', 'na', 'sekunde', '57', 'mnamo', 'mwaka', '2014', 'katika', 'mbio', 'hizo', 'za', 'Berlin', 'marathon', '.', 'Hii', 'ilikua', 'ni', 'mara', 'ya', 'tatu', 'kwa', 'Kipchoge', 'kuibuka', 'mshindi', 'kwenye', 'mbio', 'hizo', 'za', 'Berlin', 'marathon', '.', 'Iwapo', 'Eliud', 'Kipchoge', 'atafanikiwa', 'katika', 'lengo', 'lake', 'Jumamosi', 'hii', 'katika', 'mpambano', 'huo', 'wa', '``', 'INEOS', '1:59', \"''\", ',', 'na', 'kuupiku', 'muda', 'wake', 'alioweka', 'katika', 'mashindano', 'ya', 'nyuma', ',', 'basi', 'atakuwa', 'mtu', 'wa', 'kwanza', 'kuwahi', 'kukimbia', 'mbio', 'za', 'marathon', 'kwa', 'chini', 'ya', 'saa', 'mbili', '.']\n",
      "\n",
      " Number of Words:  526\n"
     ]
    }
   ],
   "source": [
    "file=\"19oct9_2.txt\"\n",
    "\n",
    "# calling the function and storing the contents in a text variable \n",
    "text = get_document(\"https://www.bbc.com/swahili/michezo-49986937\")\n",
    "\n",
    "# calling the store_ document function \n",
    "store_document(doc=text,name=file)\n",
    "\n",
    "#add the words in this file to the total_corpus_words, to keep count of the number of words in the corpus\n",
    "total_corpus_words+=total_words(file)"
   ]
  },
  {
   "cell_type": "code",
   "execution_count": 112,
   "metadata": {},
   "outputs": [
    {
     "data": {
      "text/plain": [
       "153387"
      ]
     },
     "execution_count": 112,
     "metadata": {},
     "output_type": "execute_result"
    }
   ],
   "source": [
    "total_corpus_words"
   ]
  },
  {
   "cell_type": "code",
   "execution_count": 113,
   "metadata": {},
   "outputs": [
    {
     "name": "stdout",
     "output_type": "stream",
     "text": [
      "['Gari', 'lililozama', 'kivuko', 'cha', 'Likoni', 'mjini', 'Mombasa', 'Pwani', 'ya', 'Kenya', 'limeonekana', '9', 'Oktoba', '2019', 'Maelezo', 'ya', 'picha', ',', 'Jitihada', 'zimekuwa', 'zikiendelea', 'kwa', 'siku', '11', 'leo', 'kujaribu', 'kuyaopoa', 'miili', 'ya', 'watu', 'wawili', 'na', 'gari', 'lililozama', 'katika', 'kivuko', 'cha', 'Likoni', 'pwani', 'ya', 'Kenya', 'Gari', 'limepatikana', 'lililokuwa', 'limezama', 'katika', 'kivuko', 'cha', 'feri', 'huko', 'Likoni', ',', 'Mombasa', 'Pwani', 'ya', 'Kenya', '.', 'Hatahivyo', 'msemaji', 'wa', 'Serikali', 'Cyrus', 'Oguna', 'anasema', 'kwamba', 'hawawezi', 'kuthibitisha', 'iwapo', 'gari', 'hilo', 'lililopatikana', 'ni', 'lile', 'ambalo', 'jitihada', 'za', 'kuliopoa', 'zimekuwa', 'zikiendelea', 'kwa', 'siku', '11', 'hii', 'leo', '.', 'Jitihada', 'hizo', 'zimekuwa', 'zikiendelea', 'kujaribu', 'kuyaopoa', 'miili', 'ya', 'watu', 'wawili', ',', 'mama', 'na', 'mwanawe', 'wa', 'kike', 'wanaorifiwa', 'kuwemo', 'ndani', 'wakati', 'lilipozama', 'kutoka', 'kwenye', 'kivuko', 'hicho', 'mnamo', 'Septemba', '29', '.', '``', 'Usiku', 'wa', 'jana', 'wakapata', 'sehemu', 'mbili', 'ambazo', 'walikuwa', 'wanakisia', 'gari', 'liko', 'pale', '.', 'Wamechunguza', 'asubuhi', 'ya', 'leo', 'na', 'tukaamua', 'kutuma', 'wapiga', 'mbizi', 'wa', 'Kenya', 'Navy', 'kwenda', 'kuchunguza', 'ni', 'kitu', 'kipi', 'kinachoweza', 'kuwa', 'pale', 'chini', '.', '``', 'Kufikia', 'mida', 'ya', 'saa', 'saba', 'au', 'nane', 'wakaja', 'na', 'taarifa', 'kwamba', 'wameona', 'kitu', 'ambacho', 'kinafanana', 'na', 'kifaa', 'au', 'chombo', 'ambacho', 'tunatafuta', '.', \"''\", 'Oguna', 'ameeleza', 'hivi', 'punde', 'katika', 'mkutano', 'na', 'waandishi', 'habari', 'katika', 'eneo', 'hilo', 'la', 'Likoni', '.', 'Ameeleza', 'kwamba', 'mipango', 'ya', 'ukaguzi', 'na', 'kulitoa', 'majini', 'ingali', 'inaendelea', '.', 'Wanamaji', 'wa', 'Kenya', 'wamekuwa', 'katika', 'shinikizo', 'kali', 'kumaliza', 'zoezi', 'hilo', 'la', 'uopoaji', 'kabla', 'ya', 'Oktoba', '20', '-', 'tarehe', 'inayoadhimishwa', 'kama', 'sikukuu', 'ya', 'Mashujaa', 'iliyopangiwa', 'kufanyika', 'kitaifa', 'katika', 'mji', 'huo', 'wa', 'Pwani', 'ya', 'Kenya', '.', 'Wakaazi', 'walikuwa', 'wametishia', 'kuisusia', 'sherehe', 'hiyo', 'ambayo', 'rais', 'Uhuru', 'Kenyatta', 'anatarajiwa', 'kuhudhuria', ',', 'iwapo', 'miili', 'hiyo', 'haitakuwa', 'imeopolewa', '.', 'Maelezo', 'ya', 'picha', ',', 'Kivuko', 'cha', 'Likoni', 'pwani', 'ya', 'Kenya', 'Tunayoyafahamu', 'kufikia', 'sasa', ':', 'Sept', '29', ':', 'Gari', 'dogo', 'aina', 'ya', 'soloon', 'lililoarifiwa', 'kuwa', 'na', 'watu', 'wawili', 'ndani', 'lazama', 'katika', 'kivuko', 'cha', 'Likoni', 'Sept', '30', ':', 'Mkurugenzi', 'mkuu', 'wa', 'shirika', 'la', 'Ferry', 'Bakari', 'Gowa', 'asema', 'kwamba', 'wataalam', 'wamebaini', 'kuwa', 'gari', 'hilo', 'lilizama', 'kima', 'cha', 'mita', '60', ',', 'hivyobasi', 'kufanya', 'kuwa', 'vigumu', 'kuliokoa', '.', 'Sept', '30', ':', 'Shughuli', 'za', 'uokoaji', 'ambazo', 'zimejumuisha', 'maafisa', 'kutoka', 'vitengo', 'vya', 'Kenya', 'Navy', ',', 'Kenya', 'Ferry', ',', 'na', 'wapiga', 'mbizi', 'wa', 'kibinafsi', 'zaanza', '.', 'Okt', '1', ':', 'Kivuko', 'cha', 'feri', 'chafungwa', 'kwa', 'saa', 'tatu', 'ili', 'kuruhusu', 'utafutaji', 'ulioendelea', 'wa', 'gari', 'na', 'miili', 'ya', 'waliokuwemo', 'ndani', '.', 'Okt', '2', ':', 'Familia', 'ya', 'waathiriwa', 'yalalamikia', 'kujikokota', 'kwa', 'operesheni', 'ya', 'uopoaji', 'miili', 'ya', 'waathiriwa', '.', 'Okt', '2', ':', 'Kikosi', 'cha', 'pamoja', 'katika', 'operesheni', 'ya', 'uopoaji', 'kinasema', 'kimegunuda', 'sehemu', 'lilipo', 'gari', '.', 'Hii', 'ni', 'baada', 'ya', 'kuyakagua', 'maeneo', 'kadhaa', 'yalioshukiwa', 'kuwepo', 'gari', 'hilo', '.']\n",
      "\n",
      " Number of Words:  407\n"
     ]
    }
   ],
   "source": [
    "file=\"19oct9_3.txt\"\n",
    "\n",
    "# calling the function and storing the contents in a text variable \n",
    "text = get_document(\"https://www.bbc.com/swahili/habari-49989989\")\n",
    "\n",
    "# calling the store_ document function \n",
    "store_document(doc=text,name=file)\n",
    "\n",
    "#add the words in this file to the total_corpus_words, to keep count of the number of words in the corpus\n",
    "total_corpus_words+=total_words(file)"
   ]
  },
  {
   "cell_type": "code",
   "execution_count": 114,
   "metadata": {},
   "outputs": [
    {
     "data": {
      "text/plain": [
       "153794"
      ]
     },
     "execution_count": 114,
     "metadata": {},
     "output_type": "execute_result"
    }
   ],
   "source": [
    "total_corpus_words"
   ]
  },
  {
   "cell_type": "code",
   "execution_count": 115,
   "metadata": {},
   "outputs": [
    {
     "name": "stdout",
     "output_type": "stream",
     "text": [
      "['Cynthia', 'anasema', 'ndoa', 'yake', 'ilianza', 'kukabiliwa', 'na', 'changamoto', 'kwa', 'sababu', 'alikuwa', 'akigombana', 'na', 'mume', 'wake', 'kuhusiana', 'na', 'masuala', 'ya', 'kawaida', 'kati', 'ya', 'mume', 'na', 'mke', 'kama', 'vile', 'utumizi', 'wa', 'fedha', 'na', 'mpangilio', 'wa', 'mambo', 'nyumbani', '.', 'Kutokana', 'na', 'athari', 'ya', 'unywaji', 'pombe', 'Cynthia', 'alianza', 'kuzembea', 'kazini', ',', 'wakati', 'mwengine', 'hafiki', 'kabisa', 'ama', 'akifika', 'ni', 'kwa', 'kuchelewa', 'na', 'kunuka', 'harufu', 'ya', 'pombe', '.', 'Maelezo', 'ya', 'picha', ',', 'Bi', 'Cyntia', 'amekuwa', 'akikabiliana', 'na', 'hali', 'yake', 'ikiwemo', 'kuonana', 'na', 'daktari', 'kwa', 'miaka', 'tisa', 'iliyopita', '.', 'Anaongeza', 'kuwa', 'alipoteza', 'matumaini', 'maishani', 'hadi', 'wakati', 'mmoja', 'akamua', 'kujiua', 'kwa', 'kutumia', 'dawa', 'nyingi', 'kupita', 'kiasa', '.', \"''Nilinusurika\", 'kutokana', 'na', 'simu', 'ya', 'rafiki', 'yangu', \"''\", 'alisema', '.', 'Baada', 'ya', 'kuepuka', 'kifo', 'Cynthia', 'alianza', 'kukubali', 'hali', 'yake', 'na', 'kuamua', 'kwenda', 'hospitali', 'kupata', 'ushauri', 'wa', 'kimatibabu', 'kuhusu', 'ugonjwa', 'wa', 'akili', '.', 'Daktari', 'wa', 'ugonjwa', 'wa', 'akili', 'Bwana', 'Gatere', 'anasema', 'kuwa', 'watu', 'wengi', 'wanadhania', 'kuwa', 'mtu', 'akiwa', 'na', 'ugonjwa', 'kama', 'uliyomwathiri', 'Cythia', 'Wambua', 'ana', 'wazimu', '.', 'Dakatari', 'anasema', 'kuwa', 'kuna', 'zaidi', 'ya', 'magonjwa', '200', 'ya', 'akili', '.', '``', 'Ugonjwa', 'wa', 'akili', 'una', 'dalili', 'zake', 'kwa', 'hiyo', 'kinachotizamwa', 'sana', 'ni', 'mabadiliko', 'katika', 'hisia', 'na', 'tabia', 'za', 'mtu', 'na', 'wala', 'sio', 'ugonjwa', 'ambao', 'mtu', 'anapatwa', 'na', 'maumivu', '.', \"''\", \"''Ni\", 'lazima', 'uwe', 'maakini', 'na', 'kubadilika', 'ghafla', 'kwa', 'hisia', 'zako', 'kama', 'vile', 'kukasirika', 'kwa', 'muda', 'wa', 'zaidi', 'ya', 'wiki', 'mbili', ',', \"''\", 'daktari', 'Gatere', 'aliongeza', '.', 'Mtaalamu', 'huyo', 'wa', 'magonjwa', 'ya', 'akili', 'pia', 'anasema', 'kuwa', 'mzigo', 'wa', 'matatizo', 'ya', 'akili', 'miongoni', 'mwa', 'watu', 'ni', 'dhahiri', 'lakini', 'watu', 'wengi', 'hawajitokezi', 'kutibiwa', 'kwa', 'wakati', 'kwa', 'kuhofia', 'kunyanyapaliwa', 'kwa', 'kuitwa', 'wenda', 'wazimu', 'au', 'waraibu', 'wa', 'dawa', 'za', 'akili', '.', 'Anasema', 'watu', 'walioathiriwa', 'na', 'matatizo', 'ya', 'kiakili', 'huonesha', 'na', 'dalili', 'za', 'msongo', 'wa', 'mawazo', 'ambayo', 'huchangi', 'avifo', 'vya', 'vijana', 'wa', 'kati', 'ya', 'umri', 'wa', 'miaka', '15-19', '.', 'Matatizo', 'ya', 'akili', 'kuwa', 'moja', 'ya', 'changamoto', 'kubwa', 'katika', 'nchi', 'nyingi', 'duniani', '.']\n",
      "\n",
      " Number of Words:  302\n"
     ]
    }
   ],
   "source": [
    "file=\"19oct10_1.txt\"\n",
    "\n",
    "# calling the function and storing the contents in a text variable \n",
    "text = get_document(\"https://www.bbc.com/swahili/habari-49988958\")\n",
    "\n",
    "# calling the store_ document function \n",
    "store_document(doc=text,name=file)\n",
    "\n",
    "#add the words in this file to the total_corpus_words, to keep count of the number of words in the corpus\n",
    "total_corpus_words+=total_words(file)"
   ]
  },
  {
   "cell_type": "code",
   "execution_count": 116,
   "metadata": {},
   "outputs": [
    {
     "data": {
      "text/plain": [
       "154096"
      ]
     },
     "execution_count": 116,
     "metadata": {},
     "output_type": "execute_result"
    }
   ],
   "source": [
    "total_corpus_words"
   ]
  },
  {
   "cell_type": "code",
   "execution_count": 117,
   "metadata": {},
   "outputs": [
    {
     "name": "stdout",
     "output_type": "stream",
     "text": [
      "['Wanandoa', 'waliobadilishana', 'wenza', 'Kenya', 'waeleza', 'kilichowasukuma', 'kufanya', 'maamuzi', 'yao', 'Huwezi', 'kusikiliza', 'tena', 'Wanandoa', 'waliobadilishana', 'wenza', 'Kenya', 'waeleza', 'kilichowasukuma', 'kufanya', 'maamuzi', 'yao', '10', 'Oktoba', '2019', 'Wanandoa', 'wawili', 'katika', 'kaunti', 'ya', 'Busia', 'magharibi', 'mwa', 'Kenya', 'hivi', 'karibuni', 'wamewaacha', 'wakaazi', 'wa', 'vijiji', 'vya', 'Siroba', 'na', 'Namuchila', 'katika', 'maeneo', 'bunge', 'ya', 'Matayos', 'na', 'Butula', 'vinywa', 'wazi', 'baada', 'ya', 'kubadilishana', 'wapenzi', '.', 'Wawili', 'hao', ',', 'Bi', 'Lilian', 'Weta', 'mwenye', 'umri', 'wa', 'miaka', '28', 'na', 'mama', 'wa', 'watoto', 'watatu', 'na', 'Bi', 'Millicent', 'Auma', 'mwenye', 'umri', 'wa', 'miaka', '29', 'na', 'mama', 'wa', 'watoto', 'wawili', 'walisema', 'kwamba', 'walichukua', 'uamuzi', 'huo', 'muhimu', 'kwa', 'kile', 'walichokitaja', 'kuwa', 'matusi', 'ya', 'mara', 'kwa', 'mara', 'yaliyokuwa', 'yanayoyumbisha', 'ndoa', 'zao', '.']\n",
      "\n",
      " Number of Words:  107\n"
     ]
    }
   ],
   "source": [
    "file=\"19oct10_2.txt\"\n",
    "\n",
    "# calling the function and storing the contents in a text variable \n",
    "text = get_document(\"https://www.bbc.com/swahili/habari-49996356\")\n",
    "\n",
    "# calling the store_ document function \n",
    "store_document(doc=text,name=file)\n",
    "\n",
    "#add the words in this file to the total_corpus_words, to keep count of the number of words in the corpus\n",
    "total_corpus_words+=total_words(file)"
   ]
  },
  {
   "cell_type": "code",
   "execution_count": 118,
   "metadata": {},
   "outputs": [
    {
     "data": {
      "text/plain": [
       "154203"
      ]
     },
     "execution_count": 118,
     "metadata": {},
     "output_type": "execute_result"
    }
   ],
   "source": [
    "total_corpus_words"
   ]
  },
  {
   "cell_type": "code",
   "execution_count": 119,
   "metadata": {},
   "outputs": [
    {
     "name": "stdout",
     "output_type": "stream",
     "text": [
      "['Picha', 'kutoka', 'eneo', 'la', 'mkasa', 'zinaonyesha', 'kwamba', 'ndege', 'hiyo', 'ilianguka', 'katika', 'kichaka', ',', 'ikigonga', 'miti', 'na', 'kuvunja', 'mojawapo', 'ya', 'mbawa', 'zake', 'kabla', 'ya', 'kuangukia', 'ubavu', 'mmoja', '.', 'Abiria', 'mmoja', 'ambaye', 'alikuwa', 'ameabiri', 'ndege', 'hiyo', 'aliambia', 'chombo', 'cha', 'habari', 'cha', 'Nation', 'kwamba', 'walikuwa', 'bado', 'hawajafika', 'angani', 'wakati', 'rubani', 'alipogundua', 'matatizo', '.', 'Hakuna', 'ripoti', 'za', 'moja', 'kwa', 'moja', 'kuhusu', 'majeruhi', 'lakini', 'abiria', 'wengi', 'walipatwa', 'na', 'mshtuko', 'baada', 'ya', 'kunusurika', 'kifo', '.', 'Huwezi', 'kusikiliza', 'tena', 'Maelezo', 'ya', 'video', ',', 'Ndege', 'yaanguka', 'katika', 'uwanja', 'wa', 'Wilson', 'Nairobi', 'Kenya', 'Vikosi', 'vya', 'kukabiliana', 'na', 'dharura', 'katika', 'uwanja', 'huo', 'wa', 'ndege', 'viliwaondosha', 'abiria', 'katika', 'ndege', 'hiyo', 'na', 'kuwakimbiza', 'katika', 'hospitali', 'mbalimbali', 'ili', 'kufanyiwa', 'vipimo', '.', 'Shirika', 'la', 'msalaba', 'mwekundu', 'nchini', 'Kenya', 'Red', 'Cross', 'liliripoti', 'kwamba', 'ndege', 'hiyo', 'aina', 'ya', '5Y-IZO', 'ilikumbwa', 'na', 'matatizo', 'ya', 'kiufundi', 'wakati', 'ilipokuwa', 'ikipaa', '.', 'Wazima', 'moto', 'waliwasili', 'katika', 'eneo', 'hilo', 'katika', 'muda', 'uliofaa', ',', 'waliimwagia', 'maji', 'ndege', 'hiyo', 'ili', 'kujaribu', 'kuzuia', 'moto', 'kuwaka', '.', 'Katika', 'taarifa', 'fupi', 'katika', 'mtandao', 'wake', 'wa', 'twitter', 'kampuni', 'ya', 'Silvertsone', 'Air', 'ilithibitisha', 'kutkea', 'kwa', 'tatizo', 'hilo', ',', 'ikisema', 'kwamba', 'ndege', 'hiyo', 'ilikuwa', 'ikiendeshwa', 'kutoka', 'Wilson', ',', 'kuelekea', ',', 'Lamu', 'na', 'Mombasa', '.', 'Abiria', 'wote', 'na', 'wafanyakazi', 'a', 'ndege', 'wametolewa', 'na', 'ka', 'sasa', 'tunashirikiana', 'na', 'mamlaka', 'husika', 'kuchungza', 'hali', ',', 'ilisema', 'taafira', '.', 'Mamlaka', 'ya', 'ndege', 'nchini', 'Kenya', 'KAA', 'na', 'wasimamizi', 'wa', 'Uwanja', 'wa', 'ndege', 'wa', 'Wilson', 'hawajatoa', 'tamko', 'lolote', 'kuhusu', 'kisa', 'hicho', '.']\n",
      "\n",
      " Number of Words:  226\n"
     ]
    }
   ],
   "source": [
    "file=\"19oct11_1.txt\"\n",
    "\n",
    "# calling the function and storing the contents in a text variable \n",
    "text = get_document(\"https://www.bbc.com/swahili/habari-50010283\")\n",
    "\n",
    "# calling the store_ document function \n",
    "store_document(doc=text,name=file)\n",
    "\n",
    "#add the words in this file to the total_corpus_words, to keep count of the number of words in the corpus\n",
    "total_corpus_words+=total_words(file)"
   ]
  },
  {
   "cell_type": "code",
   "execution_count": 120,
   "metadata": {},
   "outputs": [
    {
     "data": {
      "text/plain": [
       "154429"
      ]
     },
     "execution_count": 120,
     "metadata": {},
     "output_type": "execute_result"
    }
   ],
   "source": [
    "total_corpus_words"
   ]
  },
  {
   "cell_type": "code",
   "execution_count": 121,
   "metadata": {},
   "outputs": [
    {
     "name": "stdout",
     "output_type": "stream",
     "text": [
      "['Katika', 'mitandao', 'ya', 'kijamii', 'Emmanuel', 'Kibitok', 'alisema', ':', 'kuna', 'mtu', 'anawapaka', 'rangi', 'pundamilia', 'katika', 'mbuga', 'ya', 'Masai', 'Mara', '.', 'Wapakaji', 'rangi', 'katika', 'mbuga', 'ya', 'masai', 'mara', 'wameshkwa', 'na', 'wazimu', '.', 'Katika', 'mitandao', 'ya', 'kijamii', 'Gitweeta', 'alichapisha', 'picha', 'ya', 'hivi', 'karibuni', 'pamoja', 'na', 'ile', 'ya', 'Tira', ',', 'pundamilia', 'asiye', 'wa', 'kawaida', 'mwenye', 'madoa', 'meusi', 'ambaye', 'alionekana', 'nchini', 'Tanzania', 'wiki', 'moja', 'baada', 'ya', 'kuondoka', 'katika', 'hifadhi', 'ya', 'wanyama', 'pori', 'ya', 'Maasai', 'Mara', '.', 'Tira', 'ambaye', 'alikua', 'na', 'miezi', 'michache', 'tangu', 'azaliwe', ',', 'aliondoka', 'Kenya', 'na', 'wazazi', 'wake', 'wakati', 'wa', 'uhamiaji', 'wa', 'nyumbu', '.', 'Pundamilia', 'huyo', 'alipatiwa', 'jina', 'hilo', 'na', 'Antony', 'Tira', ',', 'mwelekezi', 'wa', 'safari', 'za', 'watalii', 'na', 'mpiga', 'picha', 'ambaye', 'alimuona', 'mnyama', 'huyo', 'kwa', 'mara', 'ya', 'kwanza', 'katika', 'kambi', 'ya', 'kichakani', 'katika', 'ukurasa', 'wa', 'Facebook', '.', 'Ripoti', 'ya', 'jarida', 'la', 'Forbes', 'ilisema', 'kuwa', 'picha', 'hizo', 'ziliwashangaza', 'watalii', 'ambao', 'walipiga', 'simu', 'huku', 'wapenzi', 'wa', 'wanyama', 'wakitaka', 'kumuona', 'mnyama', 'huyo', 'wa', 'ajabu', '.', 'Wataalam', 'wanasema', 'kwamba', 'punda', 'milia', 'huyo', 'alidhaniwa', 'kuwa', 'na', 'ugonjwa', 'ambao', 'wanyama', 'huonyesha', 'ulemavu', 'fulani', 'katika', 'mistari', 'yao', 'ya', 'mwilini', '.']\n",
      "\n",
      " Number of Words:  171\n"
     ]
    }
   ],
   "source": [
    "file=\"19oct11_2.txt\"\n",
    "\n",
    "# calling the function and storing the contents in a text variable \n",
    "text = get_document(\"https://www.bbc.com/swahili/habari-50012002\")\n",
    "\n",
    "# calling the store_ document function \n",
    "store_document(doc=text,name=file)\n",
    "\n",
    "#add the words in this file to the total_corpus_words, to keep count of the number of words in the corpus\n",
    "total_corpus_words+=total_words(file)"
   ]
  },
  {
   "cell_type": "code",
   "execution_count": 122,
   "metadata": {},
   "outputs": [
    {
     "data": {
      "text/plain": [
       "154600"
      ]
     },
     "execution_count": 122,
     "metadata": {},
     "output_type": "execute_result"
    }
   ],
   "source": [
    "total_corpus_words"
   ]
  },
  {
   "cell_type": "code",
   "execution_count": 123,
   "metadata": {},
   "outputs": [
    {
     "name": "stdout",
     "output_type": "stream",
     "text": [
      "['Wanamaji', 'wa', 'Kenya', 'walipata', 'shinikizo', 'kubwa', 'la', 'kumaliza', 'zoezi', 'hilo', 'la', 'uopoaji', 'kabla', 'ya', 'Oktoba', '10', '-', 'tarehe', 'inayoadhimishwa', 'kama', 'sikukuu', 'ya', 'Mashujaa', 'iliyopangiwa', 'kufanyika', 'kitaifa', 'katika', 'mji', 'huo', 'wa', 'Pwani', 'ya', 'Kenya', '.', 'Wakaazi', 'walikuwa', 'wametishia', 'kuisusia', 'sherehe', 'hiyo', 'ambayo', 'rais', 'Uhuru', 'Kenyatta', 'alitarajiwa', 'kuhudhuria', ',', 'iwapo', 'miili', 'hiyo', 'haitakuwa', 'imeopolewa', '.', 'Tukio', 'lilivyojiri', ':', 'Sept', '29', ':', 'Gari', 'dogo', 'aina', 'ya', 'soloon', 'lililoarifiwa', 'kuwa', 'na', 'watu', 'wawili', 'ndani', 'lazama', 'katika', 'kivuko', 'cha', 'Likoni', 'Sept', '30', ':', 'Mkurugenzi', 'mkuu', 'wa', 'shirika', 'la', 'Ferry', 'Bakari', 'Gowa', 'asema', 'kwamba', 'wataalam', 'wamebaini', 'kuwa', 'gari', 'hilo', 'lilizama', 'kima', 'cha', 'mita', '60', ',', 'hivyobasi', 'kufanya', 'kuwa', 'vigumu', 'kuliokoa', '.', 'Sept', '30', ':', 'Shughuli', 'za', 'uokoaji', 'ambazo', 'zimejumuisha', 'maafisa', 'kutoka', 'vitengo', 'vya', 'Kenya', 'Navy', ',', 'Kenya', 'Ferry', ',', 'na', 'wapiga', 'mbizi', 'wa', 'kibinafsi', 'zaanza', '.', 'Okt', '1', ':', 'Kivuko', 'cha', 'feri', 'chafungwa', 'kwa', 'saa', 'tatu', 'ili', 'kuruhusu', 'utafutaji', 'ulioendelea', 'wa', 'gari', 'na', 'miili', 'ya', 'waliokuwemo', 'ndani', '.', 'Okt', '2', ':', 'Familia', 'ya', 'waathiriwa', 'yalalamikia', 'kujikokota', 'kwa', 'operesheni', 'ya', 'uopoaji', 'miili', 'ya', 'waathiriwa', '.', 'Okt', '2', ':', 'Kikosi', 'cha', 'pamoja', 'katika', 'operesheni', 'ya', 'uopoaji', 'kinasema', 'kimegunuda', 'sehemu', 'lilipo', 'gari', '.', 'Hii', 'ni', 'baada', 'ya', 'kuyakagua', 'maeneo', 'kadhaa', 'yalioshukiwa', 'kuwepo', 'gari', 'hilo', '.']\n",
      "\n",
      " Number of Words:  196\n"
     ]
    }
   ],
   "source": [
    "file=\"19oct11_3.txt\"\n",
    "\n",
    "# calling the function and storing the contents in a text variable \n",
    "text = get_document(\"https://www.bbc.com/swahili/habari-50018392\")\n",
    "\n",
    "# calling the store_ document function \n",
    "store_document(doc=text,name=file)\n",
    "\n",
    "#add the words in this file to the total_corpus_words, to keep count of the number of words in the corpus\n",
    "total_corpus_words+=total_words(file)"
   ]
  },
  {
   "cell_type": "code",
   "execution_count": 124,
   "metadata": {},
   "outputs": [
    {
     "data": {
      "text/plain": [
       "154796"
      ]
     },
     "execution_count": 124,
     "metadata": {},
     "output_type": "execute_result"
    }
   ],
   "source": [
    "total_corpus_words"
   ]
  },
  {
   "cell_type": "code",
   "execution_count": 125,
   "metadata": {},
   "outputs": [
    {
     "name": "stdout",
     "output_type": "stream",
     "text": [
      "['Kipchoge', 'adai', 'kuwa', 'binadamu', 'wa', 'kwanza', 'kukimbia', 'mbio', 'chini', 'ya', 'saa', '2', 'Mashabiki', 'wa', 'michezo', 'nchini', 'Kenya', 'na', 'duniani', 'wanamfuatilia', 'kwa', 'makini', 'mwanariadha', 'wa', 'Kenya', ',', 'bingwa', 'wa', 'Olimpiki', 'mashindano', 'ya', 'marathon', ',', 'Eliud', 'Kipchoge', 'kuwa', 'anaweza', 'kuvunja', 'rekodi', 'ya', 'kuwa', 'mtu', 'wa', 'kwanza', 'kuwahi', 'kukimbia', 'kilomita', '42', 'chini', 'ya', 'saa', 'mbili', '.', 'Mwanaridha', 'huyo', 'bora', 'zaidi', 'duniani', 'anajaribu', 'kukimbia', 'kwa', 'kasi', 'hiyo', 'katika', 'mashindano', 'yanayotarajiwa', 'kufanyika', 'Vienna', 'nchini', 'Austria', 'mwishoni', 'mwa', 'juma', 'kwa', 'kukimbia', 'dhidi', 'ya', 'muda', 'aliokimbia', 'katika', 'siku', 'za', 'nyuma', '.', 'Alimaliza', 'mbio', 'kwa', 'sekundi', '26', 'zaidi', 'ya', 'alivyotarajia', 'katika', 'jitihada', 'ya', 'kwanza', 'ya', 'kukimbia', 'kwa', 'muda', 'wa', 'saa', 'mbili', 'tu', 'huko', 'Monza', '-', 'Italia', '.']\n",
      "\n",
      " Number of Words:  109\n"
     ]
    }
   ],
   "source": [
    "file=\"19oct11_4.txt\"\n",
    "\n",
    "# calling the function and storing the contents in a text variable \n",
    "text = get_document(\"https://www.bbc.com/swahili/habari-50013627\")\n",
    "\n",
    "# calling the store_ document function \n",
    "store_document(doc=text,name=file)\n",
    "\n",
    "#add the words in this file to the total_corpus_words, to keep count of the number of words in the corpus\n",
    "total_corpus_words+=total_words(file)"
   ]
  },
  {
   "cell_type": "code",
   "execution_count": 126,
   "metadata": {},
   "outputs": [
    {
     "data": {
      "text/plain": [
       "154905"
      ]
     },
     "execution_count": 126,
     "metadata": {},
     "output_type": "execute_result"
    }
   ],
   "source": [
    "total_corpus_words"
   ]
  },
  {
   "cell_type": "code",
   "execution_count": 127,
   "metadata": {},
   "outputs": [
    {
     "name": "stdout",
     "output_type": "stream",
     "text": [
      "['Bingwa', 'huyo', 'wa', 'Olimpiki', 'alikuwa', 'ameikosa', 'rekodi', 'hiyo', 'na', 'sekunde', '25', 'katika', 'jaribio', 'lake', 'la', 'hapo', 'awali', '2017', '.', 'Alipogundua', 'kwamba', 'alikuwa', 'anakaribia', 'kuweka', 'historia', ',', 'wanariadha', 'waliokuwa', 'wakidhibiti', 'kasi', 'ya', 'mbio', 'hizo', 'walirudi', 'nyuma', 'na', 'kumwacha', 'bingwa', 'huyo', 'kutimka', 'hadi', 'katika', 'utepe', 'huku', 'akishangiliwa', 'na', 'mashabiki', 'wengi', 'mji', 'mkuu', 'wa', 'Austria', '.', 'Chanzo', 'cha', 'picha', ',', 'AFP', 'Bingwa', 'huyo', 'mara', 'nne', 'wa', 'London', 'Marathon', 'alimkumbatia', 'mkewe', ',', 'akachukua', 'bendera', 'ya', 'Kenya', 'na', 'kukumbatiwa', 'na', 'wanaraidha', 'waliokuwa', 'wakimsaidia', 'kuweka', 'muda', 'huo', 'bora', 'wakiwemo', 'mabingwa', 'katika', 'mbio', 'ndefu', 'duniani', '.', 'Katika', 'mitandao', 'ya', 'kijamii', 'walimwengu', 'walimpongeza', 'kila', 'sekunde', 'aliyokimbia', 'hadi', 'kumaliza', 'mbi', 'hizo', '.', 'Kipchoge', ',', 'aliyelinganisha', 'mbio', 'hizo', 'na', 'mtu', 'wa', 'kwanza', 'kwenda', 'mwezini', 'kabla', 'ya', 'kuanza', 'kukimbia', 'alisema', 'kwamba', 'ameweka', 'historia', 'sawa', 'na', 'raia', 'wa', 'Uingereza', 'Sir', 'Roger', 'Bannister', 'alivyofanya', 'wakati', 'alipokweka', 'muda', 'bora', '1954', '.', \"''Nahisi\", 'vyema', ',', 'baada', 'ya', 'Roger', 'Bannister', 'kuweka', 'historia', 'ilinichukua', 'miaka', '65', '.', 'Nimejaribu', 'lakini', 'nimevunja', \"''\", ',', 'alisema', 'raia', 'huyo', 'wa', 'Kenya', '.', \"''Hii\", 'inaonyesha', 'uzuri', 'wa', 'michezo', '.', 'Nataka', 'kuufanya', 'mchezo', 'huu', 'kuwa', 'safi', 'na', 'wa', 'kufurahisha', '.', 'Pamoja', 'tunapokimbia', 'tunafanya', 'ulimwengu', 'kuwa', 'mzuri', 'wa', 'kuishi', \"''\", '.', 'Chanzo', 'cha', 'picha', ',', 'AFP', 'Huku', 'gari', 'linalomuongoza', 'likiwasha', 'taa', 'za', 'rangi', 'ya', 'kijani', 'katika', 'barabara', 'ili', 'kuonyesha', 'kasi', 'anayotarajiwa', 'kuweka', 'ya', 'dakika', '2:50', 'kwa', 'kila', 'kilomita', 'atakayokimbia', ',', 'Kipchoge', 'hakukimbia', 'chini', 'ya', 'dakika', 'mbili', 'sekunde', '52', '.', 'Ili', 'kuweka', 'muda', 'huo', ',', 'alilazimika', 'kukimbia', 'mita', '100', 'katika', 'sekunde', '17.08', 'mara', '422', 'mfululizo', 'kwa', 'kasi', 'ya', 'kilomita', '21.1', 'kwa', 'saa', 'Alikuwa', 'sekunde', '10', 'mbele', 'ya', 'mpangilio', 'kufikia', 'kilomita', '21', ',', 'kabla', 'ya', 'kuonekana', 'akipunguza', 'kasi', 'katika', 'kilomita', '2:52', ',', 'na', 'baadaye', 'kuongeza', 'kasi', 'hiyo', 'na', 'kutimka', 'mbio', 'katika', 'awamu', 'ya', 'mwisho', '.', 'Chanzo', 'cha', 'picha', ',', 'Reuters', 'Kipchoge', 'alisaidiwa', 'na', 'kundi', 'la', 'wadhibiti', 'kasi', '42', 'akiwemo', 'bingwa', 'wa', 'Olimpiki', 'Matthew', 'Centrowitz', ',', 'mshindi', 'wa', 'medali', 'ya', 'shaba', 'katika', 'mbio', 'za', 'mita', '5000', 'Paul', 'Chelimo', 'na', 'ndugu', 'wa', 'Ingebrigsen', 'Jakob', ',', 'Filip', 'na', 'Henrik', '.', 'Walibadilishana', 'zamu', 'mara', 'kwa', 'mara', ',', 'wakikimbia', 'huku', 'wamemzunguka', 'Kipchoge', 'huku', 'naye', 'bingwa', 'wa', 'zamani', 'wa', 'mbio', 'za', 'mita', '1500', ',', 'na', '5,000', 'Bernard', 'Lagat', 'akimuongoza', 'katika', 'kilomita', 'ya', 'mwisho', '.']\n",
      "\n",
      " Number of Words:  352\n"
     ]
    }
   ],
   "source": [
    "file=\"19oct12_1.txt\"\n",
    "\n",
    "# calling the function and storing the contents in a text variable \n",
    "text = get_document(\"https://www.bbc.com/swahili/michezo-50026521\")\n",
    "\n",
    "# calling the store_ document function \n",
    "store_document(doc=text,name=file)\n",
    "\n",
    "#add the words in this file to the total_corpus_words, to keep count of the number of words in the corpus\n",
    "total_corpus_words+=total_words(file)"
   ]
  },
  {
   "cell_type": "code",
   "execution_count": 128,
   "metadata": {},
   "outputs": [
    {
     "data": {
      "text/plain": [
       "155257"
      ]
     },
     "execution_count": 128,
     "metadata": {},
     "output_type": "execute_result"
    }
   ],
   "source": [
    "total_corpus_words"
   ]
  },
  {
   "cell_type": "code",
   "execution_count": 129,
   "metadata": {},
   "outputs": [
    {
     "name": "stdout",
     "output_type": "stream",
     "text": [
      "['Ineos', 'Challenge', '1:59', ':', 'Je', 'unaweza', 'kushindana', 'na', 'Eliud', 'Kipchoge', '?', 'Mwanariadha', 'huyo', 'mwenye', 'umri', 'wa', 'miaka', '34', 'ameweka', 'muda', 'bora', 'katika', 'shindano', 'la', 'Ineos', 'Challenge', '1:59', 'mjini', 'Vienna', 'siku', 'ya', 'Jumamosi', '.', 'Lakini', 'muda', 'huo', 'sio', 'rasmi', 'kwa', 'kuwa', 'alisaidiwa', 'na', 'wadhibiti', 'kasi', '.', 'Aliweka', 'rekodi', 'iliopo', 'ya', 'saa', 'mbili', 'dakika', 'moja', 'na', 'sekunde', '39', 'mwaka', 'uliopita', 'mjini', 'Berlin', 'Chagua', 'mji', 'Umri', 'Jinsia', 'Kasi', 'yako', 'ya', 'kukimbia', '(', '|km/kwa', 'saa', ')', 'Wanariadha', 'Eliud', 'Kipchoge', 'Wewe', 'Anza', 'Maliza', '00:00:00', 'Mbinu', 'Makadirio', 'ya', 'hesabu', 'ya', 'kasi', 'yako', 'ya', 'kukimbia', 'dhidi', 'ya', 'ile', 'ya', 'mwanariadha', 'Eliud', 'Kipchoge', 'inatokana', 'na', 'kulinganisha', 'data', 'yako', '.', '{', 'umri', 'na', 'Jinsia', '}', 'na', 'mkimbiaji', 'wa', 'mbio', 'za', 'marathon', 'wa', 'wastani', 'mwenye', 'jinsia', 'na', 'umri', 'sawa', 'Data', 'hiyo', 'inatokana', 'na', 'tathmini', 'ya', 'matokeo', 'ya', 'mbio', 'hizo', 'kutoka', 'kwa', 'wanaraidha', '21,000', 'kwa', 'Kifaa', 'kinachohesabu', 'kasi', 'Kasi', 'ya', 'wastani', 'kwa', 'mbio', 'kamili', 'za', 'marathon', '[', 'maili', '26.2', '}', 'mwaka', '2010', 'ilikuwa', '10.00', 'kwa', 'maili', '.', 'kati', 'ya', 'zaidi', 'ya', 'wanariadha', '21,000', 'kasi', 'ya', 'juu', 'zaidi', 'ilikuwa', '5', ';', '14', 'kwa', 'maili', 'Mwanaraidha', 'aliyekimbia', 'kwa', 'kasi', 'ya', 'chini', 'zaidi', 'alimaliza', 'kwa', '18.30', 'kwa', 'maili', 'Tunalinganisha', 'data', 'yako', 'na', 'kasi', 'ya', 'wastani', 'ya', 'mwanariadha', 'bingwa', 'wa', 'Kenya', 'Eliud', 'Kipchoge', 'ili', 'kubaini', 'jinsi', 'mwariadha', 'wa', 'wastani', 'wa', 'mbio', 'za', 'marathon', 'atakavyofanya', 'iwapo', 'atashindana', 'naye', 'katika', 'miji', 'tofauti', 'ya', 'Afrika', '.', 'Dhana', 'ni', 'kwamba', 'mazingira', 'yanasalia', 'yaleyale', 'katika', 'miji', 'tofauti', '.', 'kasi', 'zinazokadiriwa', 'zinatokana', 'na', 'jinsia', 'na', 'Umri', '.']\n",
      "\n",
      " Number of Words:  236\n"
     ]
    }
   ],
   "source": [
    "file=\"19oct12_2.txt\"\n",
    "\n",
    "# calling the function and storing the contents in a text variable \n",
    "text = get_document(\"https://www.bbc.com/swahili/michezo-50026525\")\n",
    "\n",
    "# calling the store_ document function \n",
    "store_document(doc=text,name=file)\n",
    "\n",
    "#add the words in this file to the total_corpus_words, to keep count of the number of words in the corpus\n",
    "total_corpus_words+=total_words(file)"
   ]
  },
  {
   "cell_type": "code",
   "execution_count": 130,
   "metadata": {},
   "outputs": [
    {
     "data": {
      "text/plain": [
       "155493"
      ]
     },
     "execution_count": 130,
     "metadata": {},
     "output_type": "execute_result"
    }
   ],
   "source": [
    "total_corpus_words"
   ]
  },
  {
   "cell_type": "code",
   "execution_count": 131,
   "metadata": {},
   "outputs": [
    {
     "name": "stdout",
     "output_type": "stream",
     "text": [
      "['Ineos', 'Challenge', '1:59', ':', 'Kwa', 'nini', 'rekodi', 'ya', 'Eliud', 'Kichoge', 'haitatambulika', 'kama', 'rekodi', 'ya', 'dunia', '12', 'Oktoba', '2019', 'Chanzo', 'cha', 'picha', ',', 'Reuters', 'Mkenya', 'Eliud', 'Kipchoge', 'ameweka', 'jina', 'lake', 'katika', 'vitabu', 'vya', 'historia', ',', 'akimaliza', 'kilomita', '42', 'za', 'mbio', 'za', 'marathon', 'kwa', 'saa', 'moja', 'dakika', '59', 'na', 'sekunde', '40', 'katika', 'shindano', 'la', 'Ineos', 'siku', 'ya', 'Jumamosi', 'nchini', 'Austria', 'Vienna', '.', 'Hatahivyo', 'muda', 'huo', 'bora', 'uliowekwa', 'na', 'bingwa', 'huyo', 'hautatambulika', 'kama', 'rekodi', 'ya', 'dunia', '.', '3.Lazima', 'wanariadha', 'wafanyiwe', 'vipimo', 'vya', 'matumizi', 'ya', 'dawa', 'za', 'kusisimua', 'mwili', '4', '.', 'Vinywaji', 'vinapaswa', 'kutoka', 'kwa', 'vituo', 'rasmi', 'na', 'sio', 'kupewa', 'mwanariadha', 'na', 'wasimamizi', 'wake', '.', '5', '.', 'Ni', 'Sharti', 'kuwepo', 'zaidi', 'ya', 'washindani', 'watatu', 'katika', 'mbio', 'hizo', '.', '6', '.', 'Mwanariadha', 'hafai', 'kudhibitiwa', 'kasi', 'na', 'gari', 'lililopo', 'mbele', 'yake', '.', '7', '.', 'Njia', 'itakayotumika', 'ni', 'sharti', 'ifanyiwe', 'ukaguzi', 'na', 'kupimwa', 'na', 'maafisa', 'wa', 'IAAF', '.', 'Wakati', 'wa', 'jaribio', 'la', 'kwanza', 'la', 'mbio', 'hizo', 'za', 'marathoni', 'huko', 'Monza', 'nchini', 'Itali', 'miaka', 'miwili', 'iliopita', ',', 'Kipchoge', 'alipatiwa', 'vinywaji', 'huku', 'wadhibiti', 'mbio', 'hizo', 'wakibadilishwa', 'mara', 'kwa', 'mara', ',', 'hatua', 'iliokiuka', 'masharti', 'ya', 'IAAF', '.', 'Siku', 'ya', 'Jumamosi', ',', 'alipewa', 'vinywaji', 'kila', 'baada', 'ya', 'kilomita', '5', 'na', 'hivyobasi', 'kukiuka', 'sheria', 'hizo', 'za', 'shirikisho', 'la', 'riadha', 'duniani', '.', 'Mkimbiaji', 'huyo', 'mwenye', 'umri', 'wa', 'miaka', '34', 'tayari', 'anashikilia', 'rekodi', 'ya', 'dunia', 'miongoni', 'mwa', 'wanaume', 'katika', 'umbali', 'huo', 'akiwa', 'na', 'muda', 'wa', 'saa', 'mbili', 'dakika', 'moja', 'na', 'sekunde', '39', ',', 'ambao', 'aliweka', 'katika', 'mbio', 'za', 'Berlin', 'tarehe', '16', 'mwezi', 'Septemba', '2018', '.', 'Kulingana', 'na', 'AFP', ',', 'barabara', 'hiyo', 'ilikuwa', 'imeandaliwa', 'hali', 'ya', 'kwamba', 'ingemchukua', 'Kipchoge', 'sekunde', '4.5', 'zaidi', 'kulingana', 'na', 'uchanganuzi', 'wa', 'wataalam', 'wa', 'michezo', 'katika', 'chuo', 'kikuu', 'cha', 'Vienna', '.', 'Kwa', 'jumla', 'aliweza', 'kushuka', 'mita', '26', 'na', 'kupanda', 'mita', '12', ',', 'walisema', 'wataalam', 'hao', '.', 'Mbio', 'hizo', 'za', 'marathon', 'zimekuwa', 'na', 'ushindani', 'mkali', 'katika', 'kipindi', 'cha', 'miaka', '16', 'iliopita', 'kati', 'ya', 'wanariadha', 'wa', 'Kenya', 'na', 'wenzao', 'wa', 'Ethiopia', '.', 'Mataifa', 'hayo', 'mawili', 'ni', 'washindani', 'wakuu', 'wa', 'mbio', 'ndefu', 'uwanjani', '.', 'Rekodi', 'ya', 'Kipchoge', 'ilikaribia', 'kuvunjwa', 'na', 'raia', 'Muethiopia', 'Kenenisa', 'Bekele', 'ambaye', 'alikimbia', 'saa', '2', 'dakika', 'moja', 'na', 'sekunde', '41', 'ikiwa', 'ni', 'sekunde', 'mbili', 'pekee', 'kabla', 'ya', 'kuivunja', 'rekodi', 'hiyo', '.']\n",
      "\n",
      " Number of Words:  350\n"
     ]
    }
   ],
   "source": [
    "file=\"19oct12_3.txt\"\n",
    "\n",
    "# calling the function and storing the contents in a text variable \n",
    "text = get_document(\"https://www.bbc.com/swahili/michezo-50027825\")\n",
    "\n",
    "# calling the store_ document function \n",
    "store_document(doc=text,name=file)\n",
    "\n",
    "#add the words in this file to the total_corpus_words, to keep count of the number of words in the corpus\n",
    "total_corpus_words+=total_words(file)"
   ]
  },
  {
   "cell_type": "code",
   "execution_count": 132,
   "metadata": {},
   "outputs": [
    {
     "data": {
      "text/plain": [
       "155843"
      ]
     },
     "execution_count": 132,
     "metadata": {},
     "output_type": "execute_result"
    }
   ],
   "source": [
    "total_corpus_words"
   ]
  },
  {
   "cell_type": "code",
   "execution_count": 133,
   "metadata": {},
   "outputs": [
    {
     "name": "stdout",
     "output_type": "stream",
     "text": [
      "['Mkenya', 'Brigid', 'Kosgei', 'avunja', 'rekodi', 'za', 'mbio', 'za', 'wanawake', 'Brigid', 'Kosgei', 'ni', 'msichana', 'wa', 'Kenya', 'aliyeshinda', 'mbio', 'za', 'wanawake', 'duniani', 'akiwa', 'na', 'umri', 'mdogo', 'wa', 'miaka', '16', ',', 'na', 'kuvunja', 'rekodi', 'ya', 'muingereza', 'Paula', 'Radcliffe', 'na', 'leo', 'ameweza', 'kubaki', 'katika', 'nafasi', 'yake', 'ya', 'kinara', '.', 'Msichana', 'huyo', 'mwenye', 'miaka', '25', ',', 'ameshinda', 'mbio', 'katika', 'saa', '2', 'na', 'dakika', '14', ',', 'ambapo', 'bado', 'anakuwa', 'amevunja', 'rekodi', 'ya', 'Radcliffe', 'ambaye', 'alishinda', 'katika', '2:15:25', 'katika', 'mashindano', 'ya', 'mbio', 'ya', 'mwaka', '2003', '.', 'Msichana', 'huyo', 'ameshangaza', 'wengi', 'katika', 'ushindi', 'alioupatia', 'nchi', 'yake', 'na', 'kuwa', 'mshindi', 'mdogo', 'zaidi', 'wa', 'mashindano', '.', 'Mshindi', 'aliyefuata', 'ametokea', 'Ethiopa', \"'s\", 'Ababel', 'Yeshaneh', ',', 'ndio', 'mshindi', 'wa', 'pili', 'wa', 'mashindano', 'ya', 'mbio', 'ya', 'Chicago', 'na', 'alishinda', 'katika', 'dakika', 'ya', '6', 'na', 'sekunde', '47', '.', 'Hapo', 'jana', 'mkenya', 'Eliud', 'Kipchoge', 'ameweka', 'jina', 'lake', 'katika', 'vitabu', 'vya', 'historia', ',', 'akimaliza', 'kilomita', '42', 'za', 'mbio', 'za', 'marathon', 'kwa', 'saa', 'moja', 'dakika', '59', 'na', 'sekunde', '40', 'katika', 'shindano', 'la', 'Ineos', 'nchini', 'Austria', 'Vienna', '.', 'Hata', 'hivyo', 'muda', 'huo', 'bora', 'uliowekwa', 'na', 'bingwa', 'huyo', 'hautatambulika', 'kama', 'rekodi', 'ya', 'dunia', '.', 'Tofauti', 'kati', 'ya', 'muda', 'mpya', 'wa', 'dunia', 'wa', 'Brigid', 'na', 'Eliud', 'ni', 'kwamba', 'Chicago', 'marathon', 'ni', 'miongoni', 'mwa', 'mashindano', 'ya', 'mbio', 'zinazotambuliwa', 'rasmi', 'na', 'shirikisho', 'la', 'riadha', 'duniani', 'IAAF', 'na', 'huku', 'aliyokimbia', 'Eliud', 'Kipchoge', 'haitambuliwi', 'na', 'shirikisho', 'hilo', 'kwa', 'sababu', 'haikutimiza', 'taratibu', 'zao', '.', 'Maelezo', 'zaidi', 'kuhusu', 'taarifa', 'hii', 'Mkenya', 'Eliud', 'Kipchoge', 'ameweka', 'jina', 'lake', 'katika', 'vitabu', 'vya', 'historia', ',', 'akimaliza', 'kilomita', '42', 'za', 'mbio', 'za', 'marathon', 'kwa', 'saa', 'moja', 'dakika', '59', 'na', 'sekunde', '40', 'katika', 'shindano', 'la', 'Ineos', 'siku', 'ya', 'Jumamosi', 'nchini', 'Austria', 'Vienna', '.']\n",
      "\n",
      " Number of Words:  261\n"
     ]
    }
   ],
   "source": [
    "file=\"19oct13.txt\"\n",
    "\n",
    "# calling the function and storing the contents in a text variable \n",
    "text = get_document(\"https://www.bbc.com/swahili/habari-50034359\")\n",
    "\n",
    "# calling the store_ document function \n",
    "store_document(doc=text,name=file)\n",
    "\n",
    "#add the words in this file to the total_corpus_words, to keep count of the number of words in the corpus\n",
    "total_corpus_words+=total_words(file)"
   ]
  },
  {
   "cell_type": "code",
   "execution_count": 134,
   "metadata": {},
   "outputs": [
    {
     "data": {
      "text/plain": [
       "156104"
      ]
     },
     "execution_count": 134,
     "metadata": {},
     "output_type": "execute_result"
    }
   ],
   "source": [
    "total_corpus_words"
   ]
  },
  {
   "cell_type": "code",
   "execution_count": 135,
   "metadata": {},
   "outputs": [
    {
     "name": "stdout",
     "output_type": "stream",
     "text": [
      "['Wakenya', 'wapokea', 'miili', 'ya', 'jamaa', 'zao', 'waliokufa', 'katika', 'jali', 'ya', 'shirika', 'la', 'ndege', 'la', 'Ethiopian', 'Airlines', '14', 'Oktoba', '2019', 'Wakenya', 'wamekusanyika', 'kupokea', 'mabaki', 'ya', 'miili', 'ya', 'wapendwa', 'wao', 'waliokufa', 'katika', 'ajali', 'ya', 'ndege', 'ya', 'Ethiopian', 'Airlines', 'Familia', 'za', 'wahanga', 'wa', 'ajali', 'ya', 'ndege', 'ya', 'Ethiopian', 'Airlines', 'iliyoanguka', 'mjini', 'Addis', 'Ababa', 'mwezi', 'Machi', 'na', 'kuwauwa', 'watu', 'wote', '157', 'waliokuwemo', 'ndani', 'ya', 'ndege', 'hiyo', 'wamekusanyika', 'mjini', 'Nairobi', 'kwa', 'ajili', 'ya', 'kupokea', 'miili', 'ya', 'jamaa', 'zao', '.', 'Wakati', 'huo', 'huo', 'ndugu', 'wa', 'watu', 'waliouawa', 'katika', 'ajali', 'ya', 'ndege', 'aina', 'ya', 'Boeing', '737', 'Max', 'iliyopata', 'ajali', 'nchini', 'Indonesia', 'mwaka', 'jana', 'wamekuwa', 'wakidanganywa', 'ili', 'wasipatiwe', 'fidia', ',', 'wamesema', 'mawakili', 'wao', '.', 'Mawakili', 'wao', 'waliiambia', 'BBC', 'kuwa', 'familia', 'nyingi', 'zilishawishiwa', 'kusaini', 'fomu', 'zinazowazuwia', 'kuchukua', 'hatua', 'za', 'kisheria', '.', 'Kipindi', 'cha', 'BBC', 'cha', 'Panorama', 'kiligundua', 'kuwa', 'jamaa', 'wengine', 'wa', 'waathiriwa', 'walisaini', 'makubaliano', 'sawa', 'na', 'hayo', 'baada', 'ya', 'ajali', 'nyingine', 'mbili', ',', 'zilizowazuwia', 'kuishtaki', 'kampuni', 'ya', 'Boeing', 'katika', 'mahakama', 'za', 'Marekani', '.', 'Boeinghaikutoa', 'kauli', 'yoyote', 'juu', 'ya', 'makubaliano', 'hayo', '.', 'Abiria', 'wote', '189', 'na', 'wahudumu', 'wa', 'ndge', 'walikufa', 'wakati', 'ndge', 'ya', 'Boeng', '737', 'Max', 'ilipoanguka', 'baharini', 'dakika', '13', 'tu', 'baada', 'ya', 'kuondoka', 'kutoka', 'katika', 'mji', 'mkuu', 'wa', 'Indonesia', 'Jakarta', 'tarehe', '29', 'Octoba', '2018.', 'katika', 'kipindi', 'cha', 'wiki', 'kadhaa', ',', 'ndugu', 'wa', 'waathiriwa', 'walilipewa', 'fidia', 'na', 'mawakili', 'wa', 'kampuni', 'ya', 'bima']\n",
      "\n",
      " Number of Words:  212\n"
     ]
    }
   ],
   "source": [
    "file=\"19oct14_1.txt\"\n",
    "\n",
    "# calling the function and storing the contents in a text variable \n",
    "text = get_document(\"https://www.bbc.com/swahili/habari-50039607\")\n",
    "\n",
    "# calling the store_ document function \n",
    "store_document(doc=text,name=file)\n",
    "\n",
    "#add the words in this file to the total_corpus_words, to keep count of the number of words in the corpus\n",
    "total_corpus_words+=total_words(file)"
   ]
  },
  {
   "cell_type": "code",
   "execution_count": 136,
   "metadata": {},
   "outputs": [
    {
     "data": {
      "text/plain": [
       "156316"
      ]
     },
     "execution_count": 136,
     "metadata": {},
     "output_type": "execute_result"
    }
   ],
   "source": [
    "total_corpus_words"
   ]
  },
  {
   "cell_type": "code",
   "execution_count": 139,
   "metadata": {},
   "outputs": [
    {
     "name": "stdout",
     "output_type": "stream",
     "text": [
      "['Kuanzia', 'msanifu', 'mijengo', 'anayepanga', 'kuijenga', 'upya', 'Syria', ',', 'hadi', 'msimamizi', 'kutoka', 'shirika', 'la', 'anga', 'za', 'juu', 'Nasa', ',', 'wa', 'mradi', 'wa', 'helikopta', 'itakayoruka', 'katika', 'sayari', 'ya', 'Mars', '-', 'wengi', 'katika', 'orodha', 'hii', 'wamebobea', 'katika', 'nyanja', 'tofuati', 'wanazowakilisha', 'na', 'wanatupatia', 'tathmini', 'ya', 'jinsi', 'maisha', 'yatakavyokuwa', 'kufikia', '2030', '.', 'Wengine', 'kama', 'mwanasiasa', '``', 'pepo', \"''\", 'anayekiuka', 'kundi', 'la', 'mafia', ',', 'na', 'wachezaji', 'soka', 'wanaopambana', 'na', 'chuki', 'dhidi', 'ya', 'wanawake', ',', 'wanatumia', 'vipaji', 'na', 'uzoefu', 'wao', 'kuunda', 'njia', 'kwa', 'vizazi', 'vinavyofuata', '.', 'Wanawake', '100', 'wa', 'BBC', '2019', 'wameorodheshwa', 'kwa', 'herufi', 'za', 'majina', 'yao', ',', 'kazi', 'zao', ',', 'mataifa', 'wanayotokapamoja', 'na', 'wasifu', 'wao', '.', 'Wanawake', 'wa', 'kutambulika', 'Afrika', ':', '81', ')', 'Nanjira', 'Sambuli', '-', 'Mtaalamu', 'wa', 'kidijitali', ',', 'Kenya', 'Nanjira', 'anaongoza', 'shirika', 'la', 'World', 'Wide', 'Web', 'Foundation', 'katika', 'jitihada', 'zake', 'za', 'kuongeza', 'usawa', 'katika', 'masuala', 'ya', 'kidijitali', '.', 'Anatafuta', 'suluhu', 'kuhakikisha', 'hakuna', 'anayeachwa', 'nyuma', 'linapokuja', 'suala', 'la', 'kufikia', 'mtandao', ',', 'ima', 'ni', 'wasiojiweza', 'au', 'kwa', 'utofauti', 'wa', 'kijinsia', 'lakini', 'pia', 'kijiografia', '.', '63', ')', 'Benedicte', 'Mundele', '-', 'Mfanyabiashara', 'wa', 'vyakula', 'vya', 'kutoka', 'shambani', ',', 'Jamhuri', 'ya', 'Kidemokrasi', 'ya', 'Congo', 'Benedicte', 'akiwa', 'na', 'miaka', '24', ',', 'alitazama', 'ndani', 'ya', 'nchi', 'ya', 'Congo', 'akaona', 'kuna', 'vyakula', 'vingi', 'vya', 'kutoka', 'shambani', 'kama', 'viazi', ',', 'na', 'matunda', 'ya', 'passion', ',', 'lakini', 'watu', 'bado', 'wanaishi', 'kwa', 'umaskini', 'wa', 'chakula.Anasema', 'maduka', 'makubwa', 'yanauza', 'bidhaa', 'ambazo', 'zilikuzwa', 'DRC', 'lakini', 'zilizosafirishwa', 'nje', 'zikihifadhiwa', 'kwa', 'madawa', 'kabla', 'ya', 'kuingizwa', 'tena', 'nchini', 'na', 'kuuzwa', 'kwa', 'gharama', 'kubwa', '.', 'Katika', 'kukabiliana', 'na', 'hilo', ',', 'aliidhinisha', 'Surprise', 'Tropical', ',', 'duka', 'la', 'kuuza', 'vyakula', 'vyenye', 'afya', 'zikiwemo', 'sharubeti', 'na', 'ndizi', 'za', 'mkono', 'wa', 'tembo', 'katika', 'mitaa', 'ya', 'mji', 'mkuu', 'Kinshasa', '.', 'Miaka', 'mitano', 'baadaye', 'kampuni', 'yake', 'imeimarika', 'katika', 'mtandao', 'na', 'husambaza', 'vyakula', 'vya', 'shambani', 'kote', 'mjini', 'huku', 'akiwana', 'mipango', 'ya', 'kuipanua', 'biashara', 'kote', 'katika', 'Jamhuri', 'ya', 'Kidmeokrasi', 'ya', 'Congo', '.', '16', ')', 'Judith', 'Bakirya', '-', 'Mkulima', ',', 'Uganda', 'Judith', 'Bakirya', 'amelelewa', 'shambani', 'nchini', 'Uganda', '.', 'Alikuwa', 'wa', 'kwanza', 'miongoni', 'mwa', 'vijana', 'wenzake', 'kushinda', 'ufadhili', 'kwenda', 'shule', 'tajika', 'ya', 'wasichana', 'ya', 'malazi', 'na', 'kufanikiwa', 'kupata', 'shahada', 'ya', 'uzamifu', 'nchini', 'Uingereza', 'na', 'hatimaye', 'kuajiriwa', 'mjini', 'huko', '.', 'Lakini', 'hakuridhika', 'na', 'kazi', 'yake', ',', 'na', 'akatumia', 'akiba', 'ya', 'fedha', 'alizokuwa', 'nazo', 'kurudi', 'nyumbani', 'na', 'kuidhinisha', 'shmba', 'la', 'kukuza', 'matunda', ',', 'Busaino', 'Fruits', '&', 'Herbs', '.', 'Tangu', 'kushinda', 'tuzo', 'ya', 'ukulima', ',', 'ametumia', 'jukwa', 'ahili', 'kuangazia', 'haki', 'za', 'wanawake', ',', 'ikiwemo', 'kunyimwa', 'umiliki', 'wa', 'ardhi', ',', 'kukosa', 'elimu', 'na', 'unyanyasaji', 'wa', 'nyumbani', 'dhidi', 'yao', '.', '79', ')', 'Jawahir', 'Roble', '-', 'Refa', 'katika', 'soka', ',', 'Uingereza/Somalia', 'Jawahir', 'Roble', 'ni', 'mwanamke', 'wa', 'kwanza', 'nchini', 'Uingereza', 'mwenye', 'aisli', 'ya', 'Kisomali', ',', 'anayevaa', 'hijab', 'katika', 'kazi', 'yake', 'ya', 'urefa', 'kwenye', 'soka', '.', 'Aliwasili', 'Uingereza', 'akiwnaa', 'umri', 'wa', 'miaka', '10', ',', 'aligundua', 'anapenda', 'michezo', 'hatua', 'iliyomuongoza', 'na', 'kuwa', 'refa', '.', 'Anasomea', 'ukufunzi', 'na', 'usimamizi', 'wa', 'soka', ',', 'akitarajia', 'kukamilisha', 'shahada', 'yake', 'mwaka', '2020', '.', '45', ')', 'Gada', 'Kadoda-', 'Mhandisi', ',', 'Sudan', 'Dkt', 'Gada', 'Kadoda', 'huwasaidia', 'wanawake', 'katika', 'maenoe', 'ya', 'mashambani', 'kutumia', 'nishati', 'ya', 'jua', 'kupata', 'umeme', 'vijiini', 'kwa', 'kuwafunza', 'kuwa', 'wahandisi', 'wa', 'kijamii', '.', 'Alitajwa', 'kuwa', 'mvumbuzi', 'wa', 'Unicef', 'wa', 'kutazamiwa', 'katika', 'siku', 'za', 'usoni', 'kama', 'kiungo', 'kikuu', 'cha', 'kuidhinishwa', 'maabara', 'ya', 'kwanza', 'ya', 'uvumbuzi', 'Sudan', ',', 'inayowapatia', 'wanafunzi', 'nafasi', 'ya', 'kushirikiana', 'na', 'kutatua', 'matatizo', '.', 'Ni', 'muasisi', 'wa', 'Sudanese', 'Knowledge', 'Society', ',', 'inayowapa', 'fursa', 'watafiti', 'vijana', 'kuwasiliana', 'wazi', 'na', 'wanasayansi', 'na', 'wasomi', 'ndani', 'na', 'nje', 'ya', 'nchi', '.', '47', ')', 'Ahlam', 'Khudr', '-', 'Kiongozi', 'wa', 'maandamano', ',', 'Sudan', 'Amejitangaza', 'kuwa', \"'mama\", 'wa', 'mashahidi', 'wote', 'Sudan', \"'\", ',', 'mtoto', 'wake', 'wa', 'kiume', 'Ahlam', 'aliye', 'na', 'miaka', '17', 'aliuawa', 'katika', 'maandamano', 'ya', 'amani', 'mnamo', '2013', '.', 'Tangu', 'hapo', 'Ahlam', 'amejitolea', 'maisha', 'yake', 'kuitisha', 'haki', 'kwa', 'niaba', 'yake', 'na', 'kupigania', 'haki', 'za', 'waliouawa', 'au', \"'kutoweka\", \"'\", 'nchini', 'Sudan', '.', 'Alikuwa', 'sehemu', 'ya', 'majukwaa', 'ya', 'chini', 'kwa', 'chini', 'na', 'maandamano', 'na', '``', 'alipigwa', 'vibaya', \"''\", 'alipokamatwa', 'na', 'vikosi', 'vya', 'usalama', '.', 'Katika', 'vuguvugu', 'hilo', 'lililoanza', 'mnamo', 'Desemba', '2018', 'dhidi', 'ya', 'wakati', 'huo', '-', 'Rais', 'Omar', 'al-Bashir', ',', 'Ahlam', 'alikuwa', 'mwandamanaji', 'maarufu', ',', 'aliyeongoza', 'mikutano', 'iliyokuwana', 'ufuasi', 'mkubwa', 'wa', 'vijana', '.', '90', ')', 'Kalista', 'Sy', '-', 'Muandishi', 'na', 'mzalishaji', 'vipindi', ',', 'Senegal', 'Kalista', 'Sy', 'alijifunza', 'mwenyewe', 'uandishi', 'wa', 'vipindi', 'na', 'makala', 'yake', 'katika', 'Televisheni', \"'Mistress\", 'of', 'a', 'Married', 'Man', \"'\", 'ilitiisa', 'nchini', 'mwake', 'ilipozinduliwa', 'mwaka', 'huu', '.', 'Inaangazia', 'wanawake', 'walio', 'huru', 'katika', 'mahusiano', ',', 'wanaofanya', 'kazi', 'kwa', 'bidii', 'na', 'waliofanikiwa', 'wanaoangazia', 'jitihada', 'za', 'wanawake', 'wa', 'Afrika', 'magharibi', ',', 'katika', 'suala', 'la', 'ndoa', 'za', 'wake', 'wengi', 'hadi', 'pia', 'masuala', 'ya', 'unyanyasaji', 'wa', 'ndani', 'ya', 'nyumba', 'na', 'masuala', 'ya', 'afya', 'ya', 'akili', '.', '30', ')', 'Lucinda', 'Evans', '-', 'Mwanaharakati', 'wa', 'kutetea', 'haki', 'za', 'wanawake', ',', 'Afrika', 'kusini', 'wakati', 'Afrika', 'kusini', 'inakabiliwa', 'na', 'visa', 'vinavyoongezeka', 'vya', 'mauaji', 'na', 'ubakaji', 'dhidi', 'ya', 'wanawake', 'na', 'wasichana', ',', 'Lucinda', 'amekuwa', 'suati', 'ya', 'wanawake', '.', 'Yeye', 'huongoza', 'maandamano', 'ya', 'kitaifa', ',', 'kuwashinikiza', 'maelfu', 'ya', 'wanawake', 'katika', 'mji', 'wa', 'Cape', 'Town', ',', 'na', 'kuishinikiza', 'serikali', 'ichukue', 'hatua', 'na', 'sio', 'kuidhinisha', 'sera', 'tu', '.', 'Lucinda', 'aliidhinisha', 'shirika', 'lisilo', 'la', 'serikali', '-', 'Philisa', 'Abafazi', 'Bethu', '(', 'waponye', 'wanawake', 'wetu', ')', ',', 'linalotoa', 'huduma', 'zikiwemo', 'ushauri', 'nasaha', ',', 'kusaka', 'wasichana', 'waliotekwa', 'katika', 'jamii', 'na', 'kuwapa', 'hifadhi', 'salama', 'wanawake', 'waliokabiliwa', 'na', 'unyanyasaji', 'wa', 'nyumbani', '.', '42', ')', 'Asmaa', 'James-', 'Mwandishi', 'habari/mwanaharakati', ',', 'Sierra', 'Leone', 'Kupitia', 'uandishi', 'habari', 'na', 'shughuli', 'katika', 'jamii', ',', 'Asmaa', 'amekuwa', 'sauti', 'ya', 'wasio', 'na', 'suati', 'nchini', '.', 'Baada', 'ya', 'kusikia', 'kuhusu', 'ubakaji', 'wa', 'msichana', 'wa', 'miaka', 'mitano', ',', 'alitumia', 'jukwaa', 'lake', 'katika', 'mtandao', 'wa', 'kijamii', 'kuidhinisha', 'kampeni', 'iliyowahimiza', 'wanawake', 'kuvaa', 'nguo', 'nyeusi', 'kila', 'Jumanne', 'ya', 'kila', 'mwezi', 'kulalamika', 'khusu', 'ongezeko', 'la', 'visa', 'vya', 'ubakaji', 'na', 'unyanysaji', 'wa', 'wasichana', 'wa', 'chini', 'ya', 'miaka', '12', '.', 'Kampeni', 'hiyo', 'kwa', 'jina', 'Black', 'Tuesday', '-', 'ilichangia', 'hatua', 'kutoka', 'kwa', 'serikali', 'kufanya', 'mageuzi', 'ya', 'sera', 'za', 'unyanyasaji', 'wa', 'kingono', 'nchini', '.', '69', ')', 'Farida', 'Osman', '-', 'Muogeleaji', ',', 'Misri', '.', 'Alipewa', 'jina', \"'samaki\", 'wa', 'dhahabu', \"'\", ',', 'mnamo', '2017', 'Farida', 'aliibuka', 'mwanamke', 'wa', 'kwanza', 'nchini', 'Misri', 'kushinda', 'medai', 'alipopokea', 'medali', 'ya', 'shaba', 'katika', 'mashindano', 'ya', '50m', 'mtindo', 'wa', 'butterfly', 'katika', 'mashindano', 'ya', 'ubingwa', 'ya', 'majini', '-', 'FINA', '.', 'Ameshinda', 'shaba', 'nyingine', 'mwaka', 'huu', '.', 'Yeye', 'hutoa', 'mihadhara', 'katika', 'vyuo', 'vikuu', 'kuwatia', 'moyo', 'vijana', 'kuingia', 'katika', 'uogeleaji', ',', 'na', 'anapokea', 'mafunzo', 'kutimiza', 'ndogo', 'yake', 'ya', 'kushinda', 'medali', 'katika', 'mahsindano', 'ya', 'Olimpiki', 'nchini', 'Tokyo', '2020', '.', '61', ')', 'Raja', 'Meziane', '-', 'Muimbaji', ',', 'Algeria', 'Video', 'ya', 'musiki', 'wa', 'kisiasa', 'ya', 'Raja', 'Meziane', 'Allo', 'le', 'Système', '!', 'Imetazamwa', 'mara', 'milioni', '35', 'katika', 'mtanao', 'wa', 'YouTube', '.', 'Nyimbo', 'zake', 'dhidi', 'ya', 'serikali', 'zinakabiliana', 'na', 'ukosefu', 'wa', 'usawa', 'katika', 'jamii', ',', 'tuhuma', 'za', 'ufisadi', 'na', 'ukosefu', 'wa', 'usawa', '-', 'ambazo', 'zimemlazimisha', 'kuishi', 'uhamishoni', 'nje', 'ya', 'Algeria', '.', 'Anaishi', 'Prague', 'hivi', 'sasa', ',', 'na', 'yeye', 'anaunga', 'wazi', 'mkono', 'maandamani', 'nchini', 'Algeria', 'mwaka', 'huu', 'yaliochangia', 'maelfu', 'ya', 'vijana', 'kushuka', 'barabarani', 'kuitisha', 'mageuzi', '.', '9', ')', 'Rida', 'Al', 'Tubuly', '-', 'Mwanaharakati', 'anayeshinikiza', 'amani', ',', 'Libya', 'Rida', 'Al', 'Tubuly', 'ni', 'mojawapo', 'ya', 'wanawake', 'wengi', 'wanaoshinikiza', 'usawa', 'wa', 'kijinsia', '-', 'lakini', 'analitekeleza', 'hilo', 'kutoka', 'eneo', 'linalokumbwa', 'na', 'vita', '.', 'Shirika', 'lake', '-', 'Together', 'We', 'Build', 'It', ',', 'linashinikiza', 'kuhusika', 'kwa', 'wanawake', 'katika', 'kuutatua', 'mzozo', 'nchini', 'Libya', '.', 'Wengine', 'kwenye', 'orodha', 'ya', 'wanawake', 'bora', '100', 'wa', 'BBC', '2019', ':', '1', ')', 'Precious', 'Adams-', 'Mcheza', 'Ballet', ',', 'Marekani', 'Akiwa', 'na', 'miaka', '8', ',', 'Precious', 'Adams', 'alitumia', 'muda', 'mwingi', 'kucheza', 'dnasi', 'nyumbani', 'na', 'mamake', 'akamsajili', 'kwa', 'mafunzo', 'ya', 'kudansi', '.', 'Alipotimia', 'miaka', '16', ',', 'alishinda', 'nafasi', 'katika', 'shule', 'tatu', 'maarufu', 'duniani', 'za', 'Ballet', 'ikiwemo', 'ya', 'Bolshoi', 'Ballet', 'Academy', 'Urusi', '.', '2', ')', 'Parveena', 'Ahanger', '-', 'mwanaharakati', 'wa', 'haki', 'za', 'binaadamu', ',', 'Kashmiri', 'inayoongozwa', 'na', 'India', 'Parveena', 'anafahamika', 'kama', \"'mwanamke\", 'chuma', 'wa', 'Kashmir', \"'\", '.', 'Mwanawe', 'alipotea', 'mnamo', '1990', ',', 'wakati', 'wa', 'vuguvugu', 'dhidi', 'ya', 'utawala', 'wa', 'India', 'Kashmir', '.', 'Jasmin', 'anatoka', 'katika', 'jamii', 'ya', 'Rohingya', ',', 'inayotaja', 'na', 'Umoja', 'wa', 'mataifa', 'kamakundi', 'la', 'wachache', 'linalokabiliwana', 'maovu', 'duniani', '.', 'Alizaliwa', 'katika', 'kambi', 'ya', 'wakimbizi', 'Bangladesh', 'muda', 'mfupi', 'baada', 'ya', 'babake', 'kufariki', '.', '5', ')', 'Manal', 'AlDowayan', '-', 'Msanii', ',', 'Saudi', 'Arabia', 'Sanaa', 'ya', 'Manal', 'AlDowayan', 'inagusia', 'kutoonekana', ',', 'hifadhi', 'za', 'kale', ',', 'kumbukumbu', 'na', 'uwakilishi', 'wa', 'wanawake', 'nchini', 'mwake', '.', '6', ')', 'Kimia', 'Alizadeh', '-', 'Mpiganaji', 'Taekwondo', ',', 'Iran', 'Mnamo', '2016', ',', 'Kimia', 'alikuwa', 'mwanamke', 'wa', 'kwanza', 'nchini', 'Iran', 'kushinda', 'medali', 'katika', 'Olimpiki', 'tangu', 'taifa', 'hili', 'lianze', 'kushiriki', 'mashindano', 'mnamo', '1948', '.', 'Kama', 'mwanariadha', 'wa', 'taekwondo', ',', 'Kimia', 'anasifika', 'na', 'gazei', 'la', 'Uingereza', 'Financial', 'Times', 'kwa', '``', 'kuwaimarisha', 'wanawake', 'na', 'wasichana', 'nchini', 'Iran', 'kuvuka', 'mipaka', 'iliyowekwa', 'ya', 'uhuru', 'binafsi', \"''\", '.', '7', ')', 'Marwa', 'Al-Sabouni-', 'Manifu', 'mijengo', ',', 'Syria', 'Wakati', 'vita', 'vilipozuka', 'nyumbani', 'alikozaliwa', 'msanifu', 'mijengo', 'Marwa', 'Al-Sabouni', 'katika', 'mji', 'wa', 'Homs', ',', 'nchini', 'Syria', ',', 'alikataa', 'kuondoka', '.', 'Ameandika', 'kitabu', 'kunakili', 'muda', 'huo', 'wote', ',', 'na', 'amechora', 'ramani', 'za', 'kuijenga', 'upya', 'wilaya', 'iliyoharibiwa', 'ya', 'Baba', 'Amr', 'katika', 'namna', 'ambayo', 'itajumuisha', 'watu', 'wa', 'tabaka', 'na', 'makabila', 'mbali', 'mbali', 'pamoja', '.', '8', ')', 'Alanoud', 'Alsharekh', '-', 'Mwanaharakati', 'wa', 'haki', 'za', 'binaadamu', ',', 'Kuwait', 'Dkt', 'Alanoud', 'Alsharekh', 'ini', 'miongoni', 'mwa', 'wafuasi', 'wa', 'kwanza', 'wa', 'kampeni', 'ya', \"'Abolish\", '153', \"'\", ',', 'iliyoshinikiza', 'kufutiliwa', 'mbali', 'kwa', 'mauaji', 'ya', 'kutunza', 'heshima', 'Kuwait', '.', 'Anashirikiana', 'na', 'mashirika', 'kuimarisha', 'usawa', 'wa', 'kijinsia', 'mashariki', 'ya', 'kati', '.', '10', ')', 'Tabata', 'Amaral', '-', 'Mwanasiasa', ',', 'Brazil', 'Tabata', 'Amaral', ',', 'mojawapo', 'ya', 'wabunge', 'vijana', 'Brazil', ',', 'alimulikwa', 'kitaifa', 'mwaka', 'huu', 'wakati', 'video', 'yake', 'aliyoonekana', 'akimhoji', 'waziri', 'wa', 'fedha', 'iliposambaa', 'mitandaoani', '.', 'Kama', 'mbunge', ',', 'ajenda', 'yake', 'kuu', 'ni', 'elimu', 'haki', 'za', 'wanawake', ',', 'uvumbuzi', 'wa', 'kisiasa', 'na', 'mustakabali', 'endelevu', '.']\n",
      "\n",
      " Number of Words:  1523\n"
     ]
    }
   ],
   "source": [
    "file=\"19oct16_1.txt\"\n",
    "\n",
    "# calling the function and storing the contents in a text variable \n",
    "text = get_document(\"https://www.bbc.com/swahili/habari-50067465\")\n",
    "\n",
    "# calling the store_ document function \n",
    "store_document(doc=text,name=file)\n",
    "\n",
    "#add the words in this file to the total_corpus_words, to keep count of the number of words in the corpus\n",
    "total_corpus_words+=total_words(file)"
   ]
  },
  {
   "cell_type": "code",
   "execution_count": 140,
   "metadata": {},
   "outputs": [
    {
     "data": {
      "text/plain": [
       "157839"
      ]
     },
     "execution_count": 140,
     "metadata": {},
     "output_type": "execute_result"
    }
   ],
   "source": [
    "total_corpus_words"
   ]
  },
  {
   "cell_type": "code",
   "execution_count": 141,
   "metadata": {},
   "outputs": [
    {
     "name": "stdout",
     "output_type": "stream",
     "text": [
      "['Uzinduzi', 'wa', 'reli', 'mpya', 'ya', 'SGR', \"'isioelekea\", 'kokote', \"'\", 'wazua', 'maswali', 'Kenya', 'imezindua', 'awamu', 'ya', 'pili', 'ya', 'ujenzi', 'wa', 'gari', 'moshi', 'ya', 'kisasa', 'ya', 'standard', 'GAUGE', 'itakaogharimu', 'dola', 'za', 'kimarekani', 'bilioni', '1.5', '.', 'Reli', 'hiyo', 'ya', 'abia', 'itaanzia', 'safari', 'zake', 'kutoka', 'Nairobi', 'kwenda', 'eneo', 'la', 'Bonde', 'la', 'Ufa', 'huko', 'mjini', 'Naivasha', '.', 'Kwa', 'mujibu', 'wa', 'mamlaka', 'za', 'Reli', 'nchini', 'humo', ',', 'ujenzi', 'wa', 'awamu', 'nyingine', 'ya', 'reli', 'hiyo', 'kwa', 'ajili', 'ya', 'mizigo', 'utafanyika', 'hapo', 'baadae', 'kufuatia', 'kuchelewa', 'kwa', 'marekebisho', 'ya', 'reli', 'ya', 'zamani', 'kuelekea', 'Uganda', 'na', 'bandari', 'ya', 'nchi', 'kavu', 'katika', 'eneo', 'la', 'Naivasha', '.']\n",
      "\n",
      " Number of Words:  95\n"
     ]
    }
   ],
   "source": [
    "file=\"19oct16_2.txt\"\n",
    "\n",
    "# calling the function and storing the contents in a text variable \n",
    "text = get_document(\"https://www.bbc.com/swahili/habari-50062971\")\n",
    "\n",
    "# calling the store_ document function \n",
    "store_document(doc=text,name=file)\n",
    "\n",
    "#add the words in this file to the total_corpus_words, to keep count of the number of words in the corpus\n",
    "total_corpus_words+=total_words(file)"
   ]
  },
  {
   "cell_type": "code",
   "execution_count": 142,
   "metadata": {},
   "outputs": [
    {
     "data": {
      "text/plain": [
       "157934"
      ]
     },
     "execution_count": 142,
     "metadata": {},
     "output_type": "execute_result"
    }
   ],
   "source": [
    "total_corpus_words"
   ]
  },
  {
   "cell_type": "code",
   "execution_count": 143,
   "metadata": {},
   "outputs": [
    {
     "name": "stdout",
     "output_type": "stream",
     "text": [
      "['Je', ',', 'waweza', 'kufanya', 'ukarimu', 'kwa', 'watu', 'usiowafahamu', '?', 'Liberia', 'imetajwa', 'kuwa', 'namba', 'moja', 'duniani', 'kwa', 'kuwa', 'wakarimu', 'na', 'kusaidia', 'watu', 'wasio', 'wafahamu', '.', 'Kwa', 'mujibu', 'wa', 'ripoti', 'ya', 'hali', 'ya', 'ukarimu', 'duniani', '(', 'world', 'giving', 'index', ')', 'Liberia', 'ndio', 'ya', 'nchi', 'kwanza', 'kwa', 'ukarimu', '.', 'Ripoti', 'ya', 'hali', 'ya', 'ukarimu', 'duniani', 'hutolewa', 'kila', 'mwaka', 'na', 'kuchapishwa', 'na', 'shirika', 'la', 'msaada', 'la', 'Uingereza', 'la', \"'Charity\", 'Aid', 'Foundation', \"'\", 'na', 'kutumia', 'takwimu', 'zinazokusanywa', 'kisha', 'kupanga', 'kwa', 'idadi', 'ya', 'nchi', 'zaidi', 'ya', '140', 'duniani', 'kwa', 'jinsi', 'walivyo', 'na', 'ukarimu', '.']\n",
      "\n",
      " Number of Words:  88\n"
     ]
    }
   ],
   "source": [
    "file=\"19oct17_1.txt\"\n",
    "\n",
    "# calling the function and storing the contents in a text variable \n",
    "text = get_document(\"https://www.bbc.com/swahili/50078236\")\n",
    "\n",
    "# calling the store_ document function \n",
    "store_document(doc=text,name=file)\n",
    "\n",
    "#add the words in this file to the total_corpus_words, to keep count of the number of words in the corpus\n",
    "total_corpus_words+=total_words(file)"
   ]
  },
  {
   "cell_type": "code",
   "execution_count": 144,
   "metadata": {},
   "outputs": [
    {
     "data": {
      "text/plain": [
       "158022"
      ]
     },
     "execution_count": 144,
     "metadata": {},
     "output_type": "execute_result"
    }
   ],
   "source": [
    "total_corpus_words"
   ]
  },
  {
   "cell_type": "code",
   "execution_count": 148,
   "metadata": {},
   "outputs": [
    {
     "name": "stdout",
     "output_type": "stream",
     "text": [
      "['Rais', 'Uhuru', 'Kenyatta', 'ameizindua', 'rasmi', 'kampeni', 'hiyo', 'leo', 'katika', 'mji', 'wa', 'Mombasa', 'pwani', 'ya', 'Kenya', 'huku', 'akitoa', 'wito', 'kwa', 'raia', 'kushikilia', 'usukani', 'wa', 'afya', 'zao', 'kwa', 'kuhakikisha', 'wanafanyiwa', 'ukaguzi', 'wa', 'mara', 'kwa', 'mara', 'wa', 'saratani', '.', 'Kwanini', 'chanjo', 'ya', 'HPV', 'ni', 'muhimu', '?', 'Saratani', 'ya', 'shingo', 'ya', 'uzazi', 'huwaathiri', 'zaidi', 'ya', 'wanawake', 'nusu', 'milioni', 'kila', 'mwaka', 'na', 'husababisha', 'vifo', 'vya', 'wanawake', 'laki', 'mbili', 'na', 'nusu', 'kwa', 'mujibu', 'wa', 'shirika', 'la', 'afya', 'duniani', 'WHO', '.', 'Ni', 'mojawapo', 'ya', 'saratani', 'inayowashika', 'wengi', 'hii', 'leo', 'lakini', 'pia', 'ni', 'mojawapo', 'ya', 'saratani', 'inayoweza', 'kuzuilika', '.', 'Chanjo', 'dhidi', 'ya', 'HPV', 'hulinda', 'usalama', 'dhidi', 'ya', 'maambukizi', 'yanayohusishwa', 'kwa', 'karibu', 'na', 'saratani', 'hiyo', ',', 'na', 'ukaguzi', 'wa', 'mapema', 'husaidia', 'kutambua', 'seli', 'kabla', 'hazijageuka', 'saratani', '.', 'Uzinduzi', 'wa', 'chanjo', 'hii', 'sasa', 'nchini', 'kenya', 'unakuja', 'wakati', 'ambapo', 'shirika', 'la', 'madaktari', 'wa', 'Kanisa', 'Katoliki', 'nchini', 'Kenya', '(', 'KCDA', ')', ',', 'limekuwa', 'likipinga', 'mpango', 'huo', 'wa', 'kutoa', 'chanjo', 'ya', 'HPV', 'kwa', 'watoto', 'wasichana', 'wa', 'miaka', '10', 'kutokana', 'na', 'madai', 'ya', 'kuwepo', 'kwa', 'madhara', 'yake', 'ikiwemo', 'kuharibika', 'ubongo', ',', 'kifafa', 'au', 'kupooza', 'mwili', '.', 'Rais', 'Uhuru', 'Kenyatta', 'mwenyewe', 'ambaye', 'ni', 'mkatoliki', 'amewakosoa', 'wanaoipinga', 'chanjo', 'hiyo', '.', '``', 'Tusisahau', 'sayansi', 'inasema', 'nini', 'kuhusu', 'chanjo', '.', 'Hata', 'kama', 'hatuwezi', 'kuangamiza', ',', 'angalau', 'tunaweza', 'kuipunguza', 'kwa', 'kuwalinda', 'watoto', 'na', 'familia', 'zetu', ',', \"''\", 'amesema', '.', 'Wizara', 'ya', 'afya', 'imeeleza', 'kuwa', 'dozi', 'mbili', 'za', 'chanjo', 'hiyo', 'itatolewa', 'katika', 'kipindi', 'cha', 'miezi', 'sita', '.', 'Maelezo', 'ya', 'picha', ',', 'Msichana', 'mmoja', 'akiandikishwa', 'katika', 'zoezi', 'la', 'uzinduzi', 'wa', 'chanjo', 'ya', 'HPV', 'Tanzania', '2018', 'Ni', 'mataifa', 'gani', 'yanayotoa', 'chanjo', 'dhidi', 'ya', 'HPV', 'Afrika', '?', 'Mataifa', 'kama', 'Rwanda', ',', 'Uganda', ',', 'Tanzania', ',', 'Zambia', ',', 'Zimbabwe', ',', 'Ethiopia', ',', 'Senegal', ',', 'Malawi', 'na', 'sasa', 'Kenya', 'yameorodheshwa', 'kwa', 'mujibu', 'wa', 'shirika', 'la', 'afya', 'duniani', 'kuwa', 'miongoni', 'mwa', 'mengine', 'duniani', 'yanayotoa', 'chanjo', 'hiyo', 'ya', 'HPV', '.', 'Takwimu', 'za', 'Afrika', 'na', 'maeneo', 'yanayopakana', 'zinaeleza', 'kuwa', 'takriban', 'watu', '37,017', 'hufariki', 'kila', 'mwaka', 'kutokana', 'na', 'saratani', 'ya', 'shingo', 'ya', 'kizazi', 'katika', 'eneo', 'la', 'Afrika', 'mashariki', 'pekee', '.', 'Kwa', 'mujibu', 'wa', 'shirika', 'la', 'Umoja', 'wa', 'mataifa', 'UNICEF', 'kufikiwa', 'mwaka', 'jana', 'Desemba', ',', 'Rwanda', 'inawafikia', 'zaidi', 'ya', '93', '%', 'ya', 'wasichana', 'walio', 'katika', 'kidato', 'cha', 'sita', 'na', 'wa', 'shule', 'za', 'msingi', '.', 'Hatua', 'hii', 'imetajwa', 'kutokana', 'pakubwa', 'na', \"'uwajibikaji\", 'wa', 'serikali', 'na', 'mipango', 'ya', 'muda', 'mrefu', 'kusaidia', 'kuimarisha', 'afya', 'na', 'elimu', 'ya', 'wasichana', 'na', 'hatua', 'ya', 'kuwafikia', 'kwa', 'kushirikisha', 'usajili', 'wa', 'shuleni', 'na', 'huduma', 'ya', 'afya', '.', \"'\", '``', 'Saratani', 'ya', 'shingo', 'ya', 'kizazi', 'ndio', 'inayojitokeza', 'zaidi', 'Tanzania', 'na', 'ni', 'chanzo', 'cha', 'vifo', 'na', 'magonjwa', 'yanayohusiana', 'na', 'saratani', 'miongoni', 'mwa', 'wanawake', 'nchini', '.', '``', 'meneja', 'wa', 'mradi', 'Daphrosa', 'Lyimo', 'aliiambia', 'BBC', 'wakati', 'wa', 'uzinduzi', 'huo', '.', '``', 'Duniani', ',', 'kuna', 'zaidi', 'ya', 'wanawake', '260,000', 'wanaofariki', 'kwa', 'sababu', 'ya', 'saratani', 'hii', ',', 'ambayo', 'inazuilika', 'na', 'inatibiwa', 'ikigunduliwa', 'mapema', '.', \"''\", 'aliongezea', 'Bwana', 'Lyimo', 'Serikali', 'imekuwa', 'na', 'matumaini', 'kuwa', 'kampeni', 'hiyo', 'itapunguza', 'gharama', 'za', 'afya', '.', 'Kukabiliana', 'na', 'dhana', 'fiche', 'kuhusu', 'virusi', 'vya', 'HPV', 'Ukweli', ':', 'HPV', 'sana', 'sana', 'huenezwa', 'kwa', 'njia', 'ya', 'kujamiana', 'lakini', 'pia', 'mtu', 'anaweza', 'kupata', 'virusi', 'hivyo', 'kugusana', 'kimwili', 'hasa', 'maeneo', 'ya', 'utupu', 'na', 'mtu', 'aliye', 'navyo', '.', 'Dhana', ':', 'HPV', 'ni', 'inaashiria', 'mtu', 'ni', 'mzinifu', 'Ukweli', ':', '80', '%', 'ya', 'watu', 'watapatikana', 'na', 'virusi', 'vya', 'HPV', 'wakati', 'mmoja', 'katika', 'maisha', 'yao', ',', 'ni', 'rahisi', 'kupata', 'virusi', 'hivyo', 'na', 'kuvisambaza', 'kwa', 'mto', 'wa', 'kwanza', 'utakayefanya', 'mapenzi', 'nae', 'Dhana', ':', 'HPV', 'inamaanisha', 'niko', 'na', 'maradhi', 'ya', 'saratani', 'Ukweli', ':', 'Kuna', 'karibu', 'aina', '200', 'ya', 'HPV', '.', 'Karibu', 'aina', '40', 'ya', 'virusi', 'hivyo', 'huathiri', 'maeneo', 'ya', 'utupu', ',', 'hii', 'inamaananisha', 'virusi', 'hivyo', 'vitaishi', 'maeneo', 'hayo', 'ya', 'mwili', 'na', 'baadhi', 'ya', 'virusi', 'hivyo', 'huenda', 'vikasababisha', 'magonjwa', 'ya', 'zinaa', '.', 'Karibu', 'aina', '13', 'ya', 'virusi', 'hivyo', 'huenda', 'vikasababisa', 'saratani', 'ya', 'shingo', 'ya', 'uzazi', 'na', 'aina', 'nyingine', 'ya', 'saratani', 'kama', 'vile', 'ya', 'mdomo', 'au', 'koo', 'lakini', 'visa', 'hivyo', 'ni', 'vichache', '.', 'Dhana', ':', 'Utajua', 'ikiwa', 'una', 'virusi', 'vya', 'HPV', 'Ukweli', ':', 'HPV', 'haina', 'dalili', 'zozote', 'na', 'wakati', 'mwingine', 'mfumo', 'wa', 'kinga', 'ya', 'mwili', 'huweza', 'kukabiliana', 'na', 'maambukizi', '.', 'uchunguzi', 'wa', 'shingo', 'ya', 'uzazi', 'unaweza', 'kubaini', 'seli', 'zozote', 'tumbo', 'Saratani', 'ya', 'shingo', 'ya', 'uzazi', 'ni', 'nini', '?', 'Chanzo', 'cha', 'picha', ',', 'Getty', 'Images', 'Maelezo', 'ya', 'picha', ',', 'Saratani', 'ya', 'shingo', 'ya', 'kizazi', 'inzuilika', 'na', 'chanjo', 'ya', 'HPV', 'Saratani', 'ya', 'shingo', 'ya', 'kizazi', 'ni', 'saratani', 'ambayo', 'hutokea', 'kwenye', 'shingo', 'ya', 'kizazi', 'cha', 'mwanamke', '-', 'ambayo', 'ni', 'kiingilio', 'kutoka', 'uke', 'hadi', 'katika', 'mfuko', 'wa', 'uzazi', '.', 'Ni', 'moja', 'kati', 'ya', 'zaidi', 'ya', 'aina', '100', 'ya', 'virusi', 'vya', 'human', 'papilloma', '(', 'HPV', ')', ',', 'ambavyo', '13', 'vinasababisha', 'saratani', '.', 'Pia', 'aina', 'fulani', 'ya', 'HPV', 'vinaambukizwa', 'kwa', 'njia', 'ya', 'ngono', '.', 'Baadhi', 'ya', 'sababu', 'za', 'kupata', 'ugonjwa', 'huo', 'ni', 'kushiriki', 'ngono', 'ukiwa', 'na', 'umri', 'mdogo', ',', 'ukifanya', 'ngono', 'na', 'washiriki', 'wengi', ',', 'kuvuta', 'sigara', 'na', 'kuwa', 'na', 'virusi', 'vya', 'Ukimwi', '.', 'Dalili', 'ni', 'kupata', 'hedhi', 'kwa', 'mzunguko', 'usio', 'wa', 'kawaida', 'au', 'kutoka', 'damu', 'baada', 'ya', 'kujamiiana', 'maumivu', 'ya', 'mgongo', ',', 'mguu', 'na', 'fupanyonga', 'uchovu', ',', 'kupungua', 'kwa', 'uzito', 'na', 'kutokuwa', 'na', 'hamu', 'ya', 'kula', 'maumivu', 'kwenye', 'uke', 'au', 'kutoa', 'harufu', 'mbaya', 'kuvimba', 'kwa', 'mguu', 'mmoja', 'Uchunguzi', 'wa', 'virusi', 'hivyo', 'unastahili', 'kufanyika', 'ili', 'kuvigundua', 'mapema', '.', 'Chanjo', 'za', 'HPV', 'ni', 'hatua', 'nyingine', 'ya', 'kuziuzi', '.', 'Matibabu', 'kwa', 'wagonjwa', 'walio', 'na', 'virusi', 'hivyo', 'yanategemea', 'na', 'viwango', 'vya', 'virusi', 'hivyo', 'mwilini', ',', 'hata', 'hivyo', 'yanaweza', 'hitaji', 'kutibiwa', 'kwa', 'njia', 'ya', 'upasuaji', 'na', 'kutoa', 'sehemu', 'au', 'mfuko', 'wa', 'uzazi', 'mzima', 'au', 'kutumia', 'mionzi', '.']\n",
      "\n",
      " Number of Words:  874\n"
     ]
    }
   ],
   "source": [
    "file=\"19oct18.txt\"\n",
    "\n",
    "# calling the function and storing the contents in a text variable \n",
    "text = get_document(\"https://www.bbc.com/swahili/habari-50096504\")\n",
    "\n",
    "# calling the store_ document function \n",
    "store_document(doc=text,name=file)\n",
    "\n",
    "#add the words in this file to the total_corpus_words, to keep count of the number of words in the corpus\n",
    "total_corpus_words+=total_words(file)"
   ]
  },
  {
   "cell_type": "code",
   "execution_count": 149,
   "metadata": {},
   "outputs": [
    {
     "data": {
      "text/plain": [
       "158896"
      ]
     },
     "execution_count": 149,
     "metadata": {},
     "output_type": "execute_result"
    }
   ],
   "source": [
    "total_corpus_words"
   ]
  },
  {
   "cell_type": "code",
   "execution_count": 150,
   "metadata": {},
   "outputs": [
    {
     "name": "stdout",
     "output_type": "stream",
     "text": [
      "['Mwanariadha', 'wa', 'Kenya', 'Eliud', 'Kipchoge', 'apewa', 'tuzo', 'ya', 'shujaa', 'wa', 'taifa', 'Mwanariadha', 'wa', 'Kenya', 'bingwa', 'wa', 'Olimpiki', 'katika', 'mashindano', 'ya', 'marathon', ',', 'Eliud', 'Kipchoge', 'ametunukiwa', 'tuzo', 'ya', 'kitaifa', 'ya', 'rais', 'uhuru', 'Kenyatta', '.', 'Rais', 'Kenyata', 'ambaye', 'anaongoza', 'sherehe', 'za', 'Mashujaa', 'Day', 'mjini', 'Mombasa', 'pwani', 'ya', 'Kenya', 'amemsifu', 'mwanariadha', 'huyo', 'kwa', 'kuwa', 'mtu', 'wa', 'kwanza', 'kuwahi', 'kukimbia', 'kilomita', '42', 'chini', 'ya', 'saa', 'mbili', 'mjini', 'Vienna', '.', '``', 'tuzo', 'ya', 'mashujaa', 'wote', ',', 'waliopita', ',', 'wasasa', 'na', 'wajao', ',', 'unamuendea', 'Eliud', 'Kipchoge', ',', \"''\", 'Uhuru', ',', 'alisema', 'mwisho', 'wa', 'hotuba', 'yake', 'huku', 'tangazo', 'hilo', 'likishangiliwa', 'kwa', 'vifijo', '.', '``', 'Eliud', 'Kipchoge', 'anasalia', 'kuwa', 'shujaa', 'mashuhuri', 'katika', 'nchii', 'hii', '.', 'Ushindi', 'wake', 'wa', 'hivi', 'karibuni', 'unatukiumbusha', 'kuwa', 'mtu', 'anaweza', 'kufikia', 'malengo', 'yake', 'binafsi', 'na', 'yale', 'ya', 'taifa', 'kwa', 'ujumla', ',', \"''\", 'rais', 'alisema', 'Baada', 'ya', 'hapo', 'alimualika', 'Kipchoge', 'kujumuika', 'naye', 'jukwani', ',', 'kumsalimia', 'na', 'kisha', 'kumvisha', 'taji', 'maalum', 'kwa', 'ajili', 'ya', 'utambulisho', 'wa', 'tuzo', 'hiyo', '.', 'Rais', 'pia', 'alimtambua', 'mwanariadha', 'Brigid', 'Kosgei', 'ambaye', 'hivi', 'karibu', 'alivunja', 'rekodi', 'ya', 'wanawake', 'ya', 'mbio', 'za', 'marathon', 'mjini', 'Chicago', '.', 'Kipchoge', ',', 'hivi', 'karibuni', 'alitangazwa', 'kuwa', 'mtu', 'wa', 'kwanza', 'katika', 'historia', 'ya', 'mbio', 'za', 'marathon', 'kukimbia', 'kilomita', '42', 'kwa', 'muda', 'wa', 'chini', 'ya', 'saa', 'mbili', '.', 'Raia', 'huyo', 'wa', 'Kenya', 'alikimbia', 'muda', 'wa', 'kilomita', '42.2', 'katika', 'saa', 'moja', 'dakika', '59', 'na', 'sekunde', '40', 'katika', 'shindani', 'la', 'Ineos', 'Challenge', 'mjini', 'Vienna', 'nchini', 'Austria', '.', 'Ushindi', 'huo', 'haukutambuliwa', 'kuwa', 'rekodi', 'mpya', 'ya', 'dunia', 'katika', 'mbio', 'hizo', 'kwa', 'kuwa', 'halikuwa', 'shindano', 'la', 'kila', 'mtu', 'mbali', 'na', 'kwamba', 'alitumia', 'kundi', 'la', 'wanariadha', 'wa', 'kusukuma', 'kasi', 'waliokuwa', 'wakishirikiana', 'naye', 'na', 'kutoka', '.', 'Katika', 'hotuba', 'yake', 'kwa', 'taifa', 'rais', 'Kenyatta', 'alitoa', 'wito', 'kwa', 'Wakenya', 'kuiga', 'mfano', 'wa', 'mwanariadha', 'huyo', 'ili', 'kufikia', 'malengo', 'ya', 'kibinafsi', 'na', 'ya', 'kitaifa', '.']\n",
      "\n",
      " Number of Words:  285\n"
     ]
    }
   ],
   "source": [
    "file=\"19oct20.txt\"\n",
    "\n",
    "# calling the function and storing the contents in a text variable \n",
    "text = get_document(\"https://www.bbc.com/swahili/habari-50116113\")\n",
    "\n",
    "# calling the store_ document function \n",
    "store_document(doc=text,name=file)\n",
    "\n",
    "#add the words in this file to the total_corpus_words, to keep count of the number of words in the corpus\n",
    "total_corpus_words+=total_words(file)"
   ]
  },
  {
   "cell_type": "code",
   "execution_count": 151,
   "metadata": {},
   "outputs": [
    {
     "data": {
      "text/plain": [
       "159181"
      ]
     },
     "execution_count": 151,
     "metadata": {},
     "output_type": "execute_result"
    }
   ],
   "source": [
    "total_corpus_words"
   ]
  },
  {
   "cell_type": "code",
   "execution_count": 152,
   "metadata": {},
   "outputs": [
    {
     "name": "stdout",
     "output_type": "stream",
     "text": [
      "['Brigid', 'Kosgei', ':', 'Aliacha', 'shule', ',', 'mama', 'wa', 'watoto', 'mapacha', 'na', 'aliyeweka', 'rekodi', 'kwenye', 'riadha', '21', 'Oktoba', '2019', 'Chanzo', 'cha', 'picha', ',', 'AFP', 'Wanariadha', 'mara', 'nyingi', 'wana', 'kitu', 'kinachowasukuma', 'kufanikiwa', ',', 'na', 'kwa', 'mbio', 'za', 'marathon', 'za', 'wanawake', 'hata', 'kuweka', 'rekodi', 'ni', 'matokeo', 'ya', 'msukumo', 'alioupata', 'Brigid', 'Kosgei', 'alipokuwa', 'akipitia', 'kipindi', 'kigumu', 'utotoni', '.', 'Miaka', 'minne', 'tangu', 'aliposhiriki', 'kwa', 'mara', 'ya', 'kwanza', 'mbio', 'za', 'marathon', ',', 'ambazo', 'alishinda', ',', 'Kosgei', 'kwa', 'sasa', 'ni', 'mwanamke', 'mwenye', 'mbio', 'zaidi', 'katika', 'historia', 'kwa', 'umbali', 'wa', 'kilometa', '42.2', 'Juma', 'lililopita', 'katika', 'mji', 'wa', 'Chicago', 'nchini', 'Marekani', ',', 'alivunja', 'rekodi', 'iliyowekwa', 'na', 'muingereza', 'Paula', 'Radicliffe', 'aliyoiweka', 'miaka', '16', 'iliyopita', '.', 'Getty', 'Images', 'My', 'husband', 'told', 'me', 'not', 'to', 'worry', '-', 'he', 'would', 'take', 'care', 'of', 'the', 'children', \"''\", 'Brigid', 'Kosgei', 'Kukimbia', 'kwenda', 'shuleni', 'Alikuwa', 'mmoja', 'kati', 'ya', 'watoto', 'saba', 'waliolelewa', 'na', 'mama', 'pekee', 'katika', 'kaunti', 'ya', 'Elgeyo', '-Marakwet', ',', 'mji', 'katika', 'bonde', 'la', 'ufa', 'ambao', 'umewatoa', 'wakimbiaji', 'maarufu', 'wa', 'nchini', 'Kenya', '.', 'Na', 'kama', 'ilivyo', 'kwa', 'wakimbiaji', 'wengine', 'wa', 'Kenya', 'kabla', 'yake', ',', 'Kosgei', 'aligundua', 'kuwa', 'anaweza', 'kukimbia', 'akiwa', 'shule', 'ya', 'msingi', ',', 'ambapo', 'alikuwa', 'akikimbia', 'kwenda', 'darasani', 'nyakati', 'za', 'asubuhi', '.', \"''Shule\", 'yangu', 'ilikuwa', 'umbali', 'wa', 'kilomita', '10', 'kutoka', 'nyumbani', 'na', 'wakati', 'mwingine', 'kuepuka', 'kuchelewa', 'nilikua', 'nakimbia', ',', 'nikiwa', 'njiani', 'nilikutana', 'na', 'wakimbiaji', 'wakiwa', 'mazoezini', 'na', 'kujisemea', 'mwenyewe', ':', \"'ninaweza\", 'kuwa', 'kama', 'wao', \"'\", 'alisema', '.', 'Alianza', 'kushindana', 'kwa', 'umbali', 'wa', 'kati', 'akiwa', 'shuleni', 'na', 'ingawa', 'hakuchaguliwa', 'kuwakilisha', 'nchi', 'yake', ',', 'kipaji', 'chake', 'hakikuwa', 'na', 'shaka', '.', 'Baada', 'ya', 'kuongezwa', 'kwa', 'karo', 'ya', 'shule', 'ilikuwa', 'changamoto', 'kwa', 'mama', 'yake', ',', 'Kosgei', 'aliamua', 'kukatisha', 'masomo', 'yake', 'mwezi', 'Januari', 'mwaka', '2012', 'katika', 'mwaka', 'wake', 'wa', 'mwisho', '.']\n",
      "\n",
      " Number of Words:  271\n"
     ]
    }
   ],
   "source": [
    "file=\"19oct21.txt\"\n",
    "\n",
    "# calling the function and storing the contents in a text variable \n",
    "text = get_document(\"https://www.bbc.com/swahili/habari-50122065\")\n",
    "\n",
    "# calling the store_ document function \n",
    "store_document(doc=text,name=file)\n",
    "\n",
    "#add the words in this file to the total_corpus_words, to keep count of the number of words in the corpus\n",
    "total_corpus_words+=total_words(file)"
   ]
  },
  {
   "cell_type": "code",
   "execution_count": 153,
   "metadata": {},
   "outputs": [
    {
     "data": {
      "text/plain": [
       "159452"
      ]
     },
     "execution_count": 153,
     "metadata": {},
     "output_type": "execute_result"
    }
   ],
   "source": [
    "total_corpus_words"
   ]
  },
  {
   "cell_type": "code",
   "execution_count": 154,
   "metadata": {},
   "outputs": [
    {
     "name": "stdout",
     "output_type": "stream",
     "text": [
      "['``', 'Ni', 'vyema', 'kununua', 'nguo', 'zilizotengezwa', 'humu', 'nchini', 'lakini', 'iwapo', 'ziko', 'bei', 'ya', 'juu', 'haina', 'haja', 'ya', 'kujilazimisha', 'kuzinunua', 'ilhali', 'kuna', 'nguo', 'ambazo', 'zinauzwa', 'bei', 'ya', 'chini', \"''\", '.', 'Wengine', 'wamesema', 'kwamba', 'ni', 'hatua', 'muhimu', 'itakayoweza', 'kuongeza', 'ajira', 'miongoni', 'mwa', 'Wakenya', '.', 'Agizo', 'hilo', 'lilitolewa', 'katika', 'barua', 'iliotoka', 'katika', 'ofisi', 'ya', 'Mwansheria', 'mkuu', 'iliosema', 'kwamba', 'hatua', 'hiyo', 'ni', 'miongoni', 'mwa', 'harakati', 'za', 'kuafikia', 'ajenda', 'nne', 'na', 'hususan', 'kupanuka', 'kwa', 'soko', 'la', 'bidhaa', 'zilizoundwa', 'nchini', 'kupitia', 'uzalishaji', 'bidhaa', 'bora', 'zaidi', 'na', 'kubuni', 'ajira', '.', 'Hata', 'ijapokuwa', 'haijulikani', 'iwapo', 'vazi', 'hilo', 'litashinikizwa', 'kuvaliwa', 'katika', 'kila', 'idara', 'ya', 'serikali', ',', 'maafisa', 'wakuu', 'wa', 'serikali', 'pamoja', 'na', 'wizara', 'zote', 'zinadaiwa', 'kupokea', 'agizo', 'hilo', '.', 'Kulingana', 'na', 'gazeti', 'la', 'Daily', 'Nation', 'nchini', 'Kenya', ',', 'hili', 'lilikuwa', 'wazi', 'katika', 'siku', 'kuu', 'ya', 'mashujaa', 'siku', 'ya', 'Jumapili', 'iliofanyika', 'mjini', 'Mombasa', ',', 'ambapo', 'suti', 'za', 'kawaida', 'zinazovaliwa', 'na', 'maafisa', 'wakuu', 'ziliwekwa', 'kando', 'na', 'maafisa', 'hao', 'kuonekana', 'kuvalia', 'nguo', 'zenye', 'mitindo', 'ya', 'Kiafrika', '.', 'Rais', 'Uhuru', 'Kenyatta', 'na', 'makamu', 'wake', 'William', 'Ruto', 'pamoja', 'na', 'mawaziri', 'walivalia', 'nguo', 'zilizoundwa', 'nchini', 'Kenya', 'katika', 'kile', 'kilichotarajiwa', 'kuwa', 'mfano', 'kwa', 'Wakenya', 'kukumbatia', 'agizo', 'hilo', '.', 'Hii', 'sio', 'mara', 'ya', 'kwanza', 'kwa', 'serikali', 'kushinikiza', 'kuvaliwa', 'kwa', 'nguo', 'zilizoundwa', 'nchini', 'ili', 'kupiga', 'jeki', 'masoko', 'ya', 'humu', 'nchini', '.', 'Wakati', 'wa', 'uzinduzi', 'wa', 'kiwanda', 'cha', 'kisasa', 'cha', 'Rivatex', 'mwaka', 'huu', ',', 'rais', 'Uhuru', 'kenyatta', 'alitoa', 'wito', 'kwa', 'Wakenya', 'kuvalia', 'nguo', 'zilizoundwa', 'humu', 'nchini', '.', 'Aliwataka', 'maafisa', 'wa', 'serikali', 'pamoja', 'na', 'Wakenya', 'kukumbatia', 'vitambaa', 'kadhaa', 'vya', 'Kiafrika', 'na', 'mitindo', 'kila', 'wanapokuwa', 'Afrika', 'ama', 'hata', 'ughaibuni', '.']\n",
      "\n",
      " Number of Words:  249\n"
     ]
    }
   ],
   "source": [
    "file=\"19oct25.txt\"\n",
    "\n",
    "# calling the function and storing the contents in a text variable \n",
    "text = get_document(\"https://www.bbc.com/swahili/habari-50181370\")\n",
    "\n",
    "# calling the store_ document function \n",
    "store_document(doc=text,name=file)\n",
    "\n",
    "#add the words in this file to the total_corpus_words, to keep count of the number of words in the corpus\n",
    "total_corpus_words+=total_words(file)"
   ]
  },
  {
   "cell_type": "code",
   "execution_count": 155,
   "metadata": {},
   "outputs": [
    {
     "data": {
      "text/plain": [
       "159701"
      ]
     },
     "execution_count": 155,
     "metadata": {},
     "output_type": "execute_result"
    }
   ],
   "source": [
    "total_corpus_words"
   ]
  },
  {
   "cell_type": "code",
   "execution_count": 156,
   "metadata": {},
   "outputs": [
    {
     "name": "stdout",
     "output_type": "stream",
     "text": [
      "['Awali', 'gazeti', 'la', 'Daily', 'Nation', 'kwa', 'kunukuu', 'duru', 'kutoka', 'familia', 'ya', 'kiongozi', 'huyo', 'wa', 'zamani', 'limeeleza', 'kuwa', 'Moi', 'alikimbizwa', 'hospitalini', 'siku', 'ya', 'Jumapili', 'baada', 'ya', 'kupata', '``', 'matatizo', 'ya', 'kupumua', '.', \"''\", 'Hata', 'hiyvyo', ',', 'jamaa', 'mwingine', 'kutoka', 'familia', 'ya', 'Moi', 'ameikana', 'taarifa', 'hiyo', ',', 'linaripoti', 'gazeti', 'hilo', '.', 'Familia', 'hiyo', 'imeeleza', 'katika', 'taarifa', 'yake', ',', 'kutofurahishwa', 'na', 'habari', 'ambazo', 'imezitaja', 'kuwa', \"'mbaya\", 'na', 'za', 'kuzusha', 'mshtuko', \"'\", 'zinazosambazwa', '.', 'Gazeti', 'jingine', 'nchini', ',', 'The', 'Star', ',', 'limeripoti', 'kwamba', 'Moi', '``', 'yuko', 'katika', 'hali', 'mahututi', \"''\", ':', 'Kuingia', 'na', 'kutoka', 'hospitalini', 'Si', 'mara', 'ya', 'kwanza', 'taarifa', 'za', 'kiongozi', 'huyo', 'wa', 'zamani', 'kuugua', 'kusambaa', 'katika', 'vyombo', 'vya', 'habari', 'nchini', '.', 'Mwishoni', 'mwa', 'mwaka', 'jana', 'palikuwa', 'na', 'taarifa', 'pia', 'Daniel', 'Moi', 'alifikishwa', 'hospitalini', 'kufanyiwa', 'uchunguzi', 'kama', 'ilivyo', 'kwa', 'wakati', 'huu.Kwa', 'mara', 'nyingine', 'alinukuliwa', 'msemaji', 'wake', 'Lee', 'Njiru', 'aliyesema', 'kwenye', 'vyombo', 'vya', 'habari', 'nchini', '``', 'Mzee', 'aliruhusiwa', 'kwenda', 'nyumbani', 'baada', 'ya', 'matabibu', 'wakiongozwa', 'na', 'daktari', 'wake', 'Dkt', 'David', 'Silverstein', ',', 'kuridhika', 'na', 'afya', 'yake', 'baada', 'ya', 'uchunguzi', ',', \"''\", 'wakati', 'huo', '.', 'Mnamo', 'Machi', 'tena', 'mwaka', 'jana', 'kiongozi', 'huyo', 'mstaafu', 'alipelekwa', 'katika', 'hospitali', 'ya', 'Ichilov', 'huko', 'Tel', 'Aviv', ',', 'nchini', 'Israel', 'ambako', 'taarifa', 'zilieleza', 'alikwenda', 'kufanyiwa', 'uchunguzi', '.', 'Baada', 'ya', 'kulazwa', 'kwa', 'muda', 'aliruhusiwa', 'kurudi', 'nchini', 'ambapo', 'ilibainika', 'baadaye', 'kwamba', 'alikwenda', 'kufanyiwa', 'uchunguzi', 'wa', 'goti', 'lake', 'lililokuwa', 'linamsumbua', ',', \"''\", 'kwa', 'mujibu', 'wa', 'taarifa', 'kutoka', 'ofisi', 'yake', 'iliotumwa', 'kwa', 'vyombo', 'tofauti', 'vya', 'habari', '.', 'Chanzo', 'cha', 'picha', ',', 'Raila', 'Odinga', 'Maelezo', 'ya', 'picha', ',', 'Rais', 'wa', 'zamani', 'nchini', 'Kenya', 'Daniel', 'Moi', 'na', 'kiongozi', 'wa', 'upinzani', 'Raila', 'Odinga', 'alipotembelewa', 'na', 'kiongozi', 'huyo', 'Aprili', '2008']\n",
      "\n",
      " Number of Words:  260\n"
     ]
    }
   ],
   "source": [
    "file=\"19oct29.txt\"\n",
    "\n",
    "# calling the function and storing the contents in a text variable \n",
    "text = get_document(\"https://www.bbc.com/swahili/habari-50218895\")\n",
    "\n",
    "# calling the store_ document function \n",
    "store_document(doc=text,name=file)\n",
    "\n",
    "#add the words in this file to the total_corpus_words, to keep count of the number of words in the corpus\n",
    "total_corpus_words+=total_words(file)"
   ]
  },
  {
   "cell_type": "code",
   "execution_count": 157,
   "metadata": {},
   "outputs": [
    {
     "data": {
      "text/plain": [
       "159961"
      ]
     },
     "execution_count": 157,
     "metadata": {},
     "output_type": "execute_result"
    }
   ],
   "source": [
    "total_corpus_words"
   ]
  },
  {
   "cell_type": "code",
   "execution_count": 158,
   "metadata": {},
   "outputs": [
    {
     "name": "stdout",
     "output_type": "stream",
     "text": [
      "['Alishindwa', 'kubaini', 'ikiwa', 'yeye', 'ni', 'mume', 'au', 'mke', 'jambo', 'lililomfanya', 'kuwa', 'na', 'mawazo', 'mengi', 'wakati', 'alipokuwa', 'akikua', '.', 'Kwamboka', 'ni', 'jina', 'la', 'kike', 'kutoka', 'Kusini', 'Magharibi', 'mwa', 'Kenya', 'eneo', 'la', 'Kisii', ',', 'na', 'huko', 'ndipo', 'alipozaliwa', '.', 'Wazazi', 'wake', 'walifariki', 'akiwa', 'mdogo', 'kwa', 'hiyo', 'hakuwa', 'na', 'nafasi', 'ya', 'kujielewa', 'vyema', 'kwani', 'wazazi', 'wake', 'hawakuwa', 'hai', 'kumsaidia', 'kujielewa', '.', 'Alilelewa', 'na', 'bibi', 'yake', 'na', 'hakuhisi', 'kuwa', 'na', 'uhuru', 'wa', 'kuzungumza', 'nae', 'wazi', 'kuhusu', 'hali', 'yake', 'ya', 'kijinsia', 'na', 'ili', 'kuelewa', 'ikiwa', 'yeye', 'ni', 'msichana', 'au', 'mvulana', '.', 'Chanzo', 'cha', 'picha', ',', 'Kwamboka', 'Kibagendi', 'Maelezo', 'ya', 'picha', ',', 'Kwamboka', 'Kibagendi', 'hakuhisi', 'kumuelezea', 'mtu', 'yeyote', 'juu', 'ya', 'masaibu', 'ya', 'utambulisho', 'wa', 'jinsia', 'yake', 'Anasema', 'kuwa', 'kile', 'ambacho', 'kimefichwa', 'na', 'nguo', 'wakati', 'mwingi', 'kinakuwa', 'ni', 'siri', 'ya', 'mtu', 'binafsi', 'kwa', 'hio', 'hakuna', 'mtu', 'aliyemuelewa', 'naye', 'pia', 'hakujielewa', '.', 'Alipoingia', 'shule', 'ya', 'Sekondari', 'alikuwa', 'anapenda', 'kucheza', 'soka', ',', 'na', 'alipowekwa', 'kwenye', 'timu', 'za', 'wasichana', ',', 'ambapo', 'alilicheza', 'soka', 'kwa', 'umahiri', 'kama', 'mvulana', 'kutokana', 'na', 'nguvu', 'na', 'mtindo', 'wake', ',', 'na', 'hilo', 'lilimfanya', 'abandikwe', 'majina', 'mengi', 'shuleni', '.', \"''Hali\", 'hii', 'ya', 'kuwa', 'na', 'jinsia', 'mbili', 'sio', 'rahisi', '...', 'tayari', 'wazazi', 'wangu', 'walikuwa', 'wamenichagulia', 'utambulisho', 'wangu', '...', 'Walinitambua', 'kama', 'mvulana', \"''\", ',', 'anasema', 'Kwamboka', '.', 'Kupitia', 'mtandao', 'ameweza', 'kusoma', 'na', 'kuelewa', 'zaidi', 'kuhusu', 'hali', 'yake', 'ya', 'kuwa', 'huntha', '.', 'Alizaliwa', 'na', 'jinsia', 'mbili', '...', 'jinsia', 'ya', 'kiume', 'na', 'ya', 'kike', 'kwa', 'pamoja', '.', 'Mama', 'yake', 'akitaka', 'kupata', 'kujua', 'mbona', 'mwanae', 'akazaliwa', 'katika', 'hali', 'hiyo', '?', '.', 'Shughuli', 'zote', 'za', 'kutanzua', 'hali', 'hii', 'zilimfanya', 'Mary', 'kulazwa', 'hospitalini', 'kwa', 'wiki', 'tatu', 'alipozaliwa', '.', 'Huo', 'ukawa', 'ndio', 'mwanzo', 'wa', 'safari', 'ya', 'Mary', 'Waithera', 'ama', 'James', 'Karanja', 'kujitambua']\n",
      "\n",
      " Number of Words:  267\n"
     ]
    }
   ],
   "source": [
    "file=\"19oct30.txt\"\n",
    "\n",
    "# calling the function and storing the contents in a text variable \n",
    "text = get_document(\"https://www.bbc.com/swahili/50230904\")\n",
    "\n",
    "# calling the store_ document function \n",
    "store_document(doc=text,name=file)\n",
    "\n",
    "#add the words in this file to the total_corpus_words, to keep count of the number of words in the corpus\n",
    "total_corpus_words+=total_words(file)"
   ]
  },
  {
   "cell_type": "code",
   "execution_count": 159,
   "metadata": {},
   "outputs": [
    {
     "data": {
      "text/plain": [
       "160228"
      ]
     },
     "execution_count": 159,
     "metadata": {},
     "output_type": "execute_result"
    }
   ],
   "source": [
    "total_corpus_words"
   ]
  },
  {
   "cell_type": "code",
   "execution_count": 160,
   "metadata": {},
   "outputs": [
    {
     "name": "stdout",
     "output_type": "stream",
     "text": [
      "['Kikundi', 'cha', 'wadukuzi', 'kutoka', 'mataifa', 'ya', 'Afrika', 'chakamatwa', 'Rwanda', 'Ofisi', 'ya', 'taifa', 'ya', 'upelelezi', 'nchini', 'Rwanda', 'imesema', 'kuwa', 'awali', 'kikundi', 'hicho', 'cha', 'wadukuaji', 'kilifanikiwa', 'kuingilia', 'mifumo', 'ya', 'benki', 'hiyo', 'katika', 'nchi', 'za', 'Kenya', 'na', 'Uganda', 'Kikundi', 'cha', 'wadukuzi', 'kinachowajumuisha', 'raia', 'kutoka', 'mataifa', 'ya', 'Afrika', 'mashariki', 'kimetiwa', 'nguvuni', 'nchini', 'Rwanda', 'kilipokuwa', 'kikijaribu', 'kuingilia', 'mifumo', 'ya', 'benki', '.', 'Ofisi', 'ya', 'Taifa', 'ya', 'upelelezi', 'nchini', 'Rwanda', '(', 'Rwanda', 'Investigation', 'Bureau', ')', 'inasema', 'kuwa', 'wadukuzi', 'hao', 'walipanga', 'kuiba', 'pesa', 'kutoka', 'kwenye', 'akaunti', 'ya', 'mteja', 'wa', 'benki', 'ya', 'Equity', ',', 'lakini', 'haikusema', 'ni', 'lini', 'jaribio', 'hilo', 'lilifanyika', '.', 'Benki', 'ya', 'Equity', 'Bank', 'ni', 'moja', 'ya', 'benki', 'kubwa', 'katika', 'kanda', 'ya', 'Afrika', 'mashariki', 'na', 'kati', 'ikiwa', 'na', 'matawi', 'yake', 'katika', 'mataifa', 'ya', 'Kenya', ',', 'Uganda', ',', 'Tanzania', ',', 'Rwanda', ',', 'Sudan', 'Kusini', 'na', 'Jamuhuri', 'ya', 'kidemokrasi', 'ya', 'Kongo', '.', 'Ofisi', 'ya', 'taifa', 'ya', 'upelelezi', 'nchini', 'Rwanda', 'imesema', 'kuwa', 'awali', 'kikundi', 'hicho', 'cha', 'wadukuaji', 'kilifanikiwa', 'kuingilia', 'mifumo', 'ya', 'benki', 'hiyo', 'katika', 'nchi', 'za', 'Kenya', 'na', 'Uganda', '.', 'Mwanzoni', 'mwa', 'mwaka', 'huu', 'Mkurugenzi', 'mkuu', 'mtendaji', 'wa', 'Equity', 'Bank', 'James', 'Mwangi', 'alinukuliwa', 'akisema', 'kuwa', 'benki', 'hiyo', 'ilikabiliwa', 'na', 'majaribio', '14,000', 'ya', 'udukuzi', 'wa', 'mifumo', 'yake', '.', 'Udukuzi', 'wa', 'mifumo', 'ya', 'kampuni', 'si', 'swala', 'geni', 'Afrika', 'Mashariki', '.', 'Mwezi', 'Machi', ',', '2017', 'mwanaume', 'wa', 'makamo', 'alishtakiwa', 'kwa', 'tuhuma', 'za', 'kudukua', 'mfumo', 'wa', 'kifedha', 'wa', 'Mamlaka', 'ya', 'Mapato', 'ya', 'Kenya', '(', 'KRA', ')', '.', 'Udukuzi', 'huo', 'ulidaiwa', 'kusababisha', 'mamlaka', 'hiyo', 'kupoteza', 'jumla', 'ya', 'shilingi', 'bilioni', 'nne', 'za', 'Kenya', '(', 'dola', '39', 'milioni', 'za', 'Marekani', ')', '.']\n",
      "\n",
      " Number of Words:  245\n"
     ]
    }
   ],
   "source": [
    "file=\"19nov1_1.txt\"\n",
    "\n",
    "# calling the function and storing the contents in a text variable \n",
    "text = get_document(\"https://www.bbc.com/swahili/habari-50258661\")\n",
    "\n",
    "# calling the store_ document function \n",
    "store_document(doc=text,name=file)\n",
    "\n",
    "#add the words in this file to the total_corpus_words, to keep count of the number of words in the corpus\n",
    "total_corpus_words+=total_words(file)"
   ]
  },
  {
   "cell_type": "code",
   "execution_count": 161,
   "metadata": {},
   "outputs": [
    {
     "data": {
      "text/plain": [
       "160473"
      ]
     },
     "execution_count": 161,
     "metadata": {},
     "output_type": "execute_result"
    }
   ],
   "source": [
    "total_corpus_words"
   ]
  },
  {
   "cell_type": "code",
   "execution_count": 9,
   "metadata": {},
   "outputs": [],
   "source": [
    "total_corpus_words=160473"
   ]
  },
  {
   "cell_type": "code",
   "execution_count": 10,
   "metadata": {},
   "outputs": [
    {
     "name": "stdout",
     "output_type": "stream",
     "text": [
      "['Nini', 'chanzo', 'cha', 'uhaba', 'mkubwa', 'wa', 'maji', 'Nairobi', '?', 'Jiji', 'kuu', 'la', 'Kenya', 'linaloendelea', 'kukua', 'kwa', 'kasi', 'linakabiliwa', 'na', 'uhaba', 'mkubwa', 'wa', 'maji', 'na', 'usambazaji', 'wake', ',', 'hali', 'inayowafanya', 'watu', 'wengi', 'kupata', 'maji', 'kutoka', 'vyanzo', 'visivyo', 'salama', '.', 'Je', ',', 'tatizo', 'la', 'uhaba', 'wa', 'maji', 'jijini', 'Nairobi', 'ni', 'kubwa', 'kiasi', 'gani', 'ikilinganishwa', 'na', 'miji', 'mingine', 'barani', 'Afrika', '?', 'Getty', 'Mahitaji', '(', 'ya', 'maji', 'Nairobi', ')', 'yako', 'juu', 'kuliko', 'yanavyotumika', '.', 'Tuko', 'nyuma', 'kwa', 'miaka', '20…kwahivyo', 'tunahitaji', 'kuwa', 'na', 'vyanzo', 'vipya', '.', 'Nahason', 'Muguna', 'Mkurugenzi', 'msimamizi', ',', 'Nairobi', 'City', 'Water', 'Nahason', 'Muguna', ',', 'mkuu', 'wa', 'kampuni', 'ya', 'usambazaji', 'maji', 'katika', 'jiji', 'la', 'Nairob', ',', '(', 'NCWSC', ')', ',', 'hivi', 'karibuni', 'alionekana', 'katika', 'televisheni', 'ya', 'kitaifa', 'akielezea', 'hofu', 'yake', 'kuhusu', 'uimarishaji', 'wa', 'huduma', 'maji', 'wakati', 'ambapo', 'idadi', 'ya', 'watu', 'ikiendelea', 'kuongezeka', 'kwa', 'kasi', 'katika', 'miongo', 'michache', 'iliyopita', '.', 'Mwaka', '1990', ',', 'zaidi', 'ya', '90', '%', 'ya', 'wakaazi', 'wa', 'maeneo', 'ya', 'mijini', 'nchini', 'Kenya', 'walikuwa', 'wakipata', 'maji', 'safi', ',', 'kwa', 'mujibu', 'wa', 'Umoja', 'wa', 'Mataifa', '.', 'Sasa', ',', 'inakadiriwa', 'kuwa', 'ni', '50', '%', 'ya', 'wakaazi', 'milioni', '4.5', 'wa', 'Nairobi', 'ambao', 'wanaweza', 'kupata', 'maji', 'safi', 'ya', 'bomba', '.', 'Wakaazi', 'wengi', 'wanapata', 'maji', 'kutoka', 'kwa', 'wauzaji', 'maji', 'wanaotumia', 'njia', 'zisizo', 'za', 'halali', 'kupata', 'bidhaa', 'hiyo', '.', 'Tangu', 'mwaka', '2017', 'maji', 'yamekuwa', 'yakitolewa', 'kwa', 'mgao', 'kwa', 'wakazi', 'wa', 'jiji', 'la', 'Nairobi', 'na', 'viunga', 'vyake', '.', 'Maeneo', 'tofauti', 'ya', 'jiji', 'yanapata', 'maji', 'kwa', 'siku', 'tofauti', 'za', 'wiki', ',', 'kwa', 'siku', 'chache', 'na', 'zingine', 'kwa', 'saa', 'chache', '.', '``', 'Kile', 'ambacho', 'kinaweza', 'kuitatua', 'shida', 'ya', 'maji', 'katika', 'jiji', 'la', 'Nairobi', 'ni', 'kubuni', 'vyanzo', 'vipya', 'cha', 'maji', ',', \"''\", 'anasema', 'Bw', '.', 'Muguna', '.', '``', 'Maji', 'tunayotumia', 'sasa', 'yalitakiwa', 'kuwatosheleza', 'wakaazi', 'wa', 'jiji', 'hadi', 'mwaka', '2000', 'pekee', '.', \"''\", 'Miradi', 'inaendelea', 'ya', 'kupanua', 'kiwango', 'cha', 'mabwawa', 'na', 'kujenga', 'mabomba', 'mapya', 'ya', 'kusafirishia', 'maji', 'hayo', '.', 'Sehemu', 'ya', 'ujenzi', 'huo', 'unatarajiwa', 'kukamilika', 'mwaka', 'ujao', '.', 'Bw', '.', 'Muguna', 'anasema', 'miradi', 'hiyo', 'ilitarajiwa', 'kukamilishwa', 'zaidi', 'ya', 'mwongo', 'mmoja', 'uliopita', ',', 'lakini', 'ilikabiliwa', 'na', 'changamoto', 'ya', 'kifedha', '.', 'Kwa', 'sasa', 'kuna', 'upungufu', 'wa', '25', '%', 'ya', 'usambazaji', 'maji', 'katika', 'makaazi', 'ya', 'Nairobi', ',', 'kwa', 'mujibu', 'wa', 'kampuni', 'ya', 'maji', 'ya', 'Nairobi', ',', 'NCWSC', '.', 'Kuna', 'musuala', 'yanayoibuka', 'kuhusu', 'kiwango', 'cha', 'maji', 'ya', 'bomba', ',', 'hasa', 'katika', 'makaazi', 'yasiokuwa', 'rasmi', '.', 'Maji', 'taka', 'kutoka', 'mitaro', 'na', 'mashimo', 'ya', 'maji', 'taka', 'yanaweza', 'kupenya', 'na', 'kuingia', 'katika', 'mabomba', 'ya', 'usambazaji', 'maji', 'masafi', 'kutokana', 'na', 'kudhoofika', 'kwa', 'mabomba', 'na', 'kiasi', 'kikubwa', 'cha', 'maji', 'hayo', 'hayawezikunywika', ',', 'kwa', 'mujibu', 'wa', 'shirika', 'la', 'afya', 'duniani', '(', 'WHO', ')', '.', 'Chanzo', 'cha', 'picha', ',', 'Getty', 'Images', 'Serikali', 'ina', 'lengo', 'la', 'kufikia', 'kiwango', 'cha', 'kitaifa', 'cha', 'upatikanaji', 'wa', 'maji', 'na', 'kuhakikisha', 'maji', 'hayo', 'yanamfikia', 'kila', 'mtu', 'kufikia', 'mwaka', '2030', '.', 'Hata', 'hivyo', ',', 'malengo', 'yaliopita', 'hayakufikiwa', ',', 'licha', 'ya', 'ahadi', 'kutolewa', 'kuwa', 'upatikanaji', 'wa', 'bidhaa', 'hiyo', 'muhimu', 'kitaifa', 'itafikia', '80', '%', 'mwaka', '2015', '.', 'Ukadiriaji', 'wa', 'kitaifa', 'wa', 'upatikanaji', 'wa', 'maji', 'safi', 'kwa', 'kila', 'nyumba', 'ulikuwa', '57', '%', 'kufikia', 'mwisho', 'wa', 'mwaka', '2018', '.', 'Hali', 'iko', 'vipi', 'Nairobi', 'ikilinganishwa', 'na', 'miji', 'mingine', '?', 'Utafiti', 'kuhusu', 'usambazaji', 'maji', 'katika', 'miji', '15', 'ya', 'nchi', 'zilizo', 'na', 'mapato', 'ya', 'chini', 'kote', 'duniani', 'ulifanywa', 'na', 'taasisi', 'ya', 'Marekani', 'ya', 'rasilimali', 'ya', 'maji', '.', 'Nairobi', 'bila', 'shaka', 'sio', 'moja', 'ya', 'miji', 'iliyo', 'na', 'uhaba', 'mkubwa', 'wa', 'maji', 'ikilinganishwa', 'na', 'miji', 'mingine', 'iliyoangaziwa', 'katika', 'utafiti', 'huo', '.', 'Kati', 'ya', 'miji', 'iliyofanyiwa', 'utafiti', 'huo', ',', 'Kampala', 'na', 'Lagos', 'imebainishwa', 'kuwa', 'na', 'kiwango', 'cha', 'chini', 'cha', 'upatikanaji', 'maji', 'ya', 'mfereji', ',', 'huku', 'mitaa', 'mingi', 'ya', 'mabanda', 'katika', 'mji', 'mkuu', 'wa', 'Nigeria', 'ikigunduliwa', 'kutokuwa', 'na', 'maji', 'ya', 'bomba', '.', 'Utafiti', 'huo', 'pia', 'unasema', 'gharama', 'ya', 'upatikanaji', 'wa', 'maji', 'iko', 'juu', 'katika', 'miji', 'mingi', 'ya', 'nchi', 'zinazoendelea', 'kukua', ',', 'hali', 'inayochangia', 'sehemu', 'kubwa', 'ya', 'mapato', 'ya', 'wakazi', 'wa', 'miji', 'hiyo', 'kutumiwa', 'kununua', 'maji', 'ya', 'mfereji', 'ama', 'maji', 'ya', 'chupa', '.']\n",
      "\n",
      " Number of Words:  620\n"
     ]
    }
   ],
   "source": [
    "file=\"19nov3.txt\"\n",
    "\n",
    "# calling the function and storing the contents in a text variable \n",
    "text = get_document(\"https://www.bbc.com/swahili/habari-50281593\")\n",
    "\n",
    "# calling the store_ document function \n",
    "store_document(doc=text,name=file)\n",
    "\n",
    "#add the words in this file to the total_corpus_words, to keep count of the number of words in the corpus\n",
    "total_corpus_words+=total_words(file)"
   ]
  },
  {
   "cell_type": "code",
   "execution_count": 11,
   "metadata": {},
   "outputs": [
    {
     "data": {
      "text/plain": [
       "161093"
      ]
     },
     "execution_count": 11,
     "metadata": {},
     "output_type": "execute_result"
    }
   ],
   "source": [
    "total_corpus_words"
   ]
  },
  {
   "cell_type": "code",
   "execution_count": 13,
   "metadata": {},
   "outputs": [
    {
     "name": "stdout",
     "output_type": "stream",
     "text": [
      "['Matokeo', 'hayo', 'yalichapishwa', 'na', 'bodi', 'ya', 'takwimu', 'ya', 'Kenya', ',', 'ilisema', 'kuwa', 'wanawake', 'wapo', 'millioni', '24', 'na', 'wanaume', 'wanaume', 'wakiwa', '23.5', 'na', 'zaidi', 'ya', 'watu', 'wenye', 'jinsia', 'mbili', '1500', '.', 'Chanzo', 'cha', 'picha', ',', 'AFP', 'Maelezo', 'ya', 'picha', ',', 'Baadhi', 'ya', 'maofisa', 'wa', 'sensa', ',', 'wakiwa', 'wanajiandaa', 'na', 'zoezi', 'la', 'kuhesabu', 'watu', 'lilofanyika', 'mwezi', 'Agosti', '.', 'Mji', 'wa', 'Nairobi', 'pekee', 'ndio', 'wenye', 'watu', 'wengi', 'zaidi', ',', 'ukiwa', 'na', 'watu', 'milioni', '4.4', '.', 'Rais', 'wa', 'Kenya', 'Uhuru', 'Kenyata', 'anasema', 'kuwa', 'idadi', 'ya', 'watu', 'itasaidia', 'sana', 'katika', 'kuandaa', 'mikakati', 'ya', 'maendeleo', '.', 'Kenya', 'ilianza', 'zoezi', 'la', 'kuhesabu', 'watu', 'yaani', 'sensa', 'mwezi', 'agasti', '.', 'Serikali', 'hutumia', 'shughuli', 'hii', 'ili', 'kujua', 'jinsi', 'ya', 'kupanga', 'na', 'kukadiria', 'matumizi', 'ya', 'raslimali', 'na', 'fedha', 'lakini', 'pia', 'wanasiasa', 'hutumia', 'idadi', 'ya', 'watu', 'na', 'maeneo', 'walioko', 'kutathmini', 'azma', 'zao', 'za', 'kisiasa', '.', 'katika', 'kipindi', 'cha', 'sensa', 'ya', 'mwaka', 'huu', ',', 'raia', 'nchini', 'Kenya', 'walitumia', 'mitandao', 'ya', 'kijamii', 'kuelezea', 'kutoridhishwa', 'kwao', 'na', 'hatua', 'ya', 'kufunga', 'maeneo', 'ya', 'burudani', 'ili', 'kufanikisha', 'mpango', 'wa', 'kitaifa', 'wa', 'kuhesabu', 'watu', '.', 'Waziri', 'wa', 'usalama', 'wa', 'ndani', 'Fred', 'Matiang', 'alizua', 'gumzo', 'nchini', 'humo', 'baada', 'ya', 'kutangaza', 'mabaa', 'na', 'kumbi', 'za', 'burudani', 'kufungwa', 'kwa', 'ajili', 'ya', 'shughuli', 'ya', 'kuhesabu', 'watu', 'maarufu', 'sensa', '.', 'Unaweza', 'pia', 'kusikiliza', ';', 'Huwezi', 'kusikiliza', 'tena', 'Maelezo', 'ya', 'video', ',', 'Sensa', 'Kenya', ':', 'Kwa', 'mara', 'ya', 'kwanza', 'Afrika', 'watu', 'walio', 'na', 'jinsia', 'mbili', 'wasajiliwa']\n",
      "\n",
      " Number of Words:  222\n"
     ]
    }
   ],
   "source": [
    "file=\"19nov4_2.txt\"\n",
    "\n",
    "# calling the function and storing the contents in a text variable \n",
    "text = get_document(\"https://www.bbc.com/swahili/habari-50291776\")\n",
    "\n",
    "# calling the store_ document function \n",
    "store_document(doc=text,name=file)\n",
    "\n",
    "#add the words in this file to the total_corpus_words, to keep count of the number of words in the corpus\n",
    "total_corpus_words+=total_words(file)"
   ]
  },
  {
   "cell_type": "code",
   "execution_count": 14,
   "metadata": {},
   "outputs": [
    {
     "data": {
      "text/plain": [
       "161315"
      ]
     },
     "execution_count": 14,
     "metadata": {},
     "output_type": "execute_result"
    }
   ],
   "source": [
    "total_corpus_words"
   ]
  },
  {
   "cell_type": "code",
   "execution_count": 15,
   "metadata": {},
   "outputs": [
    {
     "name": "stdout",
     "output_type": "stream",
     "text": [
      "['Unaweza', 'pia', 'kusoma', ':', 'Ilikuwa', 'ni', 'hotuba', 'kali', 'ya', 'nadra', 'kutoka', 'kwa', 'Mkuu', 'wa', 'mahakama', 'nchini', 'Kenya', '.', 'David', 'Maraga', 'amedai', 'kuwa', 'amekuwa', 'akidharauliwa', 'katika', 'matukio', 'ya', 'umma', '.', 'Maraga', 'ambaye', 'alionekana', 'mwenye', 'hasira', 'katika', 'hotuba', 'yake', 'kwa', 'taifa', 'kwa', 'njia', 'ya', 'televisheni', ',', 'amefichua', 'madai', 'ya', 'kile', 'alichosema', 'ni', 'njama', 'za', 'serikali', 'za', 'kumuondoa', 'madarakani', 'kabla', 'ya', 'tarehe', '31', 'Disemba', '.', '``', 'Baadhi', 'ya', 'mawaziri', 'wanasema', 'nitakwenda', 'kabla', 'ya', 'mwisho', 'wa', 'mwaka', 'huu', ',', 'kumbe', 'hii', 'Kenya', 'ina', 'wenyewe', '?', \"''\", 'alisema', 'Maraga', '.', 'Amedai', 'pia', 'kwamba', 'kupunguzwa', 'kwa', 'bajeti', 'ya', 'mahakama', 'lilikuwa', 'ni', 'jaribio', 'la', 'makusudi', 'la', 'kukwamisha', 'shughuli', 'zake', '.', 'Bwana', 'Maraga', 'amesema', 'kuwa', 'baadhi', 'ya', 'vikao', 'vya', 'mahakama', 'kote', 'nchini', 'vimeahirishwa', 'pamoja', 'na', 'pesa', 'zilizopangwa', 'kwa', 'ajili', 'ya', 'kuharakisha', 'shughuli', 'za', 'mahakama', 'zimekatwa', '.', 'Jaji', 'huyo', 'mkuu', 'nchini', 'Kenya', 'amedai', 'kuwa', 'ofisi', 'yake', 'haiwezi', 'hata', 'kupata', 'bajeti', 'zilizoidhinishwa', ',', 'na', 'kwamba', 'mahakama', 'inahangaika', 'kupata', 'huduma', 'muhimu', 'kama', 'vile', 'Wi-Fi', 'na', 'mafuta', 'ya', 'gari', '.', 'Anadai', 'maafisa', 'wa', 'kitaifa', 'ambao', 'hakuwataja', 'majina', 'walidai', 'kuwakanganya', 'majaji', 'ambao', 'walishindwa', 'kutoa', 'uamuzi', 'wa', 'kesi', 'zilizoingiliwa', ',', 'hususan', 'kesi', 'maarufu', 'za', 'ufisadi', 'zinazowahusisha', 'maafisa', 'wa', 'umma', 'wa', 'ngazi', 'ya', 'juu', '.', 'Katika', 'kipindi', 'cha', 'miaka', 'mitatu', 'iliyopita', ',', 'bajeti', 'ya', 'mwaka', 'ya', 'Kenya', 'imeongezeka', ',', 'lakini', 'katika', 'kipindi', 'hicho', 'bajeti', 'ya', 'mahakama', 'imepunguzwa', '.', 'Katika', 'mwaka', 'huu', 'wa', 'fedha', 'taifa', 'hilo', 'lilitangaza', 'bajeti', 'ya', 'dola', 'bilioni', '30', ',', 'ni', 'dola', 'milioni', '170', 'au', '0.6', '%', 'ya', 'bajeti', 'zilizotengwa', 'kwa', 'ajili', 'ya', 'idara', 'ya', 'mahakama', 'kabla', 'ya', 'kupunguzwa', 'hadi', 'dola', 'milioni', '140', 'mnamo', 'mwezi', 'Septemba', '.', 'Chanzo', 'cha', 'picha', ',', 'EPA', 'Maelezo', 'ya', 'picha', ',', 'Makama', 'nchini', 'Kenya', 'imekuwa', 'na', 'msuguano', 'na', 'serikaliya', 'Kenya', ',', 'tangu', 'Mahakama', 'kuu', 'ilipobatilisha', 'ushindi', 'wa', 'rais', 'Uhuru', 'Kenyatta', 'katika', 'uchaguzi', 'wa', 'mwaka', '2017', '.', 'Jaji', 'Mkuu', 'alisema', 'kuwa', 'kwa', 'kawaida', 'mahakama', 'hutengewa', 'asilimia', '2', 'ya', 'bajeti', 'ya', 'kila', 'mwaka', 'ya', 'taifa', 'kote', 'duniani', ',', 'ikimaanisha', 'kuwa', 'walipaswa', 'kupokea', 'takriban', 'dola', 'milioni', '600', '.', 'Lakini', 'mwaka', 'huu', 'serikali', 'ilitangaza', 'kuwa', 'haina', 'pesa', 'na', 'kukata', 'bajeti', 'kote', 'katika', 'idara', 'na', 'mashirika', 'mbali', 'mbali', 'nchini', 'humo', '.', 'Huku', 'Jaji', 'Mkuu', 'akikiri', 'kuwa', 'Kenya', 'inapitia', 'vipindi', 'vigumu', 'kiuchumi', ',', 'asisitiza', 'kuwa', 'pesa', 'zilizopo', 'hazijagawanywa', 'kwa', 'usawa', '.']\n",
      "\n",
      " Number of Words:  357\n"
     ]
    }
   ],
   "source": [
    "file=\"19nov4_3.txt\"\n",
    "\n",
    "# calling the function and storing the contents in a text variable \n",
    "text = get_document(\"https://www.bbc.com/swahili/habari-50290789\")\n",
    "\n",
    "# calling the store_ document function \n",
    "store_document(doc=text,name=file)\n",
    "\n",
    "#add the words in this file to the total_corpus_words, to keep count of the number of words in the corpus\n",
    "total_corpus_words+=total_words(file)"
   ]
  },
  {
   "cell_type": "code",
   "execution_count": 16,
   "metadata": {},
   "outputs": [
    {
     "data": {
      "text/plain": [
       "161672"
      ]
     },
     "execution_count": 16,
     "metadata": {},
     "output_type": "execute_result"
    }
   ],
   "source": [
    "total_corpus_words"
   ]
  },
  {
   "cell_type": "code",
   "execution_count": 17,
   "metadata": {},
   "outputs": [
    {
     "name": "stdout",
     "output_type": "stream",
     "text": [
      "['Nashami', 'Wangara', ':', 'mwanamke', 'aliyekabiliwa', 'na', 'uraibu', 'wa', 'ngono', 'kwa', 'miaka', 'sita', 'Anne', 'Ngugi', 'BBC', 'Swahili', '6', 'Novemba', '2019', 'Maelezo', 'ya', 'picha', ',', 'Nashami', 'Wangara', ',', 'alikabiliwa', 'na', 'hali', 'ya', 'kufanya', 'ngono', 'kama', 'uraibu', ',', 'kwa', 'muda', 'wa', 'miaka', 'sita', 'Nashami', 'Wangara,38', ',', 'ama', 'Florence', ',', 'kama', 'wengi', 'wanavyomuita', 'ni', 'mzaliwa', 'wa', 'magharibi', 'mwa', 'Kenya', 'ambaye', 'ameamua', 'kuandika', 'kitabu', 'kuhusu', 'maisha', 'yake', 'ambacho', 'amekipa', 'jina', '``', 'My', 'Story', 'for', 'his', 'Glory', \"''\", 'kumaanisha', '(', 'Hadithi', 'yangu', 'kwa', 'Utukufu', 'wake', ')', '.', '``', 'Nilipokuwa', 'msichana', 'mdogo', 'nilikuwa', 'mnyenyekevu', 'na', 'sikujua', 'mambo', 'mengi', 'kuhusu', 'maisha', 'lakini', 'nilipofikisha', 'miaka', '18', 'mambo', 'yalibadilika', ',', \"''\", 'anasema', ',', 'Nashami', '.']\n",
      "\n",
      " Number of Words:  105\n"
     ]
    }
   ],
   "source": [
    "file=\"19nov6.txt\"\n",
    "\n",
    "# calling the function and storing the contents in a text variable \n",
    "text = get_document(\"https://www.bbc.com/swahili/habari-50305813\")\n",
    "\n",
    "# calling the store_ document function \n",
    "store_document(doc=text,name=file)\n",
    "\n",
    "#add the words in this file to the total_corpus_words, to keep count of the number of words in the corpus\n",
    "total_corpus_words+=total_words(file)"
   ]
  },
  {
   "cell_type": "code",
   "execution_count": 18,
   "metadata": {},
   "outputs": [
    {
     "data": {
      "text/plain": [
       "161777"
      ]
     },
     "execution_count": 18,
     "metadata": {},
     "output_type": "execute_result"
    }
   ],
   "source": [
    "total_corpus_words"
   ]
  },
  {
   "cell_type": "code",
   "execution_count": 20,
   "metadata": {},
   "outputs": [
    {
     "name": "stdout",
     "output_type": "stream",
     "text": [
      "['Matokeo', 'ya', 'sensa', 'Kenya', 'yazua', 'mjadala', 'Takwimu', 'za', 'sensa', 'za', 'idadi', 'ya', 'watu', 'nchini', 'Kenya', 'zimetolewa', 'na', 'kusababisha', 'kutoelewana', 'kwa', 'baadhi', 'ya', 'makundi', 'ya', 'watu', 'kuhisi', 'kuwa', 'hayakuwa', 'sahihi', '.', 'Sensa', 'hiyo', 'iliyofanyika', 'hivi', 'karibuni', 'ilipata', 'idadi', 'ya', 'watu', 'nchini', 'humo', 'kuwa', 'milioni', '47.6', ',', 'idadi', 'ambayo', 'ni', 'kubwa', 'kwa', 'milioni', 'tisa', 'tofauti', 'na', 'mwaka', '2009', '.', 'Lakini', 'baadhi', 'ya', 'miji', 'kukiwa', 'na', 'upungufu', 'wa', 'idadi', 'ya', 'watu', '.', 'Matokeo', 'hayo', 'yanaweza', 'kuleta', 'ubishani', 'mkubwa', 'kwa', 'sababu', 'kuna', 'umuhimu', 'wa', 'kiwango', 'cha', 'wakazi', 'kujulikana', 'kwa', 'ajili', 'ya', 'serikali', 'kuweza', 'kutumia', 'vizuri', 'fedha', 'inazozipata', '.', 'Kwa', 'nini', 'ni', 'muhimu', 'kujua', 'idadi', 'ya', 'watu', '?', 'Idadi', 'ya', 'watu', 'nchini', 'Kenya', 'imeweza', 'kuleta', 'tofauti', 'nyingi', 'katika', 'makundi', 'ya', 'watu', 'kwa', 'kuangalia', 'tamaduni', 'zinazoshabihiana', ',', 'wanavyohusiana', 'na', 'vyama', 'vya', 'kisiasa', '.', 'Serikali', 'imetoa', 'takwimu', 'zote', 'kwa', 'kuangalia', 'na', 'utamaduni', 'wa', 'watu', 'katika', 'taifa', 'hilo', ',', 'lakini', 'kila', 'mabadiliko', 'ya', 'idadi', 'ya', 'watu', 'katika', 'baadhi', 'ya', 'maeneo', 'tayari', 'yamezua', 'mjadala', '.', 'Matokeo', 'ya', 'utafiti', 'yanaweza', 'kuathiriwa', 'au', 'kudhoofishwa', 'na', 'malalamiko', 'yaliyotolewa', 'na', 'makundi', 'ya', 'kisiasa', 'au', 'uwasilishi', 'wa', 'rasilimali', '.', 'Katika', 'eneo', 'moja', 'kaskazini', 'mashariki', 'ya', 'mpaka', 'wa', 'Ethiopia', 'na', 'Somalia', ',', 'sensa', 'imebainisha', 'kuwa', 'idadi', 'ya', 'watu', 'imepungua', 'na', 'hivyo', 'kuwafanya', 'viongozi', 'wa', 'kisiasa', 'wa', 'maeneo', 'hayo', 'kubisha', 'ili', 'kuendelea', 'kutafuta', 'namna', 'ya', 'kubaki', 'na', 'ufadhili', 'waliokuwa', 'wanapata', 'zamani', 'kutokana', 'na', 'idadi', 'yao', 'kuwa', 'kubwa', ',', 'na', 'jambo', 'hilo', 'ndio', 'linawafanya', 'kuhoji', 'uhalali', 'wa', 'utafiti', 'uliofanyika', '.', 'Chanzo', 'cha', 'picha', ',', 'Getty', 'Images', 'Eneo', 'ambako', 'idadi', 'yawakazi', 'wake', 'wana', 'asili', 'ya', 'Somalia', '.', 'Tahwimu', 'pia', 'zilibaini', 'kuwa', 'kuna', 'utofauti', 'mubwa', 'wa', 'kijinsia', 'katika', 'eneo', 'hilo', ',', 'kuna', 'wanaume', 'wengi', 'zaidi', 'ya', 'wanawake', ',', 'hii', 'ikiwa', 'inakadiriwa', 'kuwepo', 'kwa', 'matukio', 'mengi', 'ya', 'vifo', 'wanawake', 'au', 'wanaume', 'wasiooa', 'kuhamia', 'maeneo', 'hayo', 'kwa', 'ajili', 'ya', 'ajira', '.', '``', 'Takwimu', 'hii', 'ilitolewa', 'wiki', 'iliyopita', 'sio', 'ya', 'kweli', 'na', 'haiwezi', 'kukidhi', 'malengo', ',', \"''\", 'alisema', 'Aden', 'Duale', ',', 'Kiongozi', 'wa', 'wangeni', 'katika', 'bunge', 'na', 'mwanasiasa', 'ambaye', 'anawakilisha', 'jumuiya', 'ya', 'wasomali', 'nchini', 'Kenya', '.', 'Alidai', 'kuwa', 'kwa', 'kawaida', 'wanaume', 'Wasomali', 'huwa', 'wanaoa', 'mke', 'zaidi', 'ya', 'mmoja', 'hivyo', 'idadi', 'ya', 'watoto', 'lazima', 'itakuwa', 'kubwa', 'vilevile', 'idadi', 'ya', 'wanawake', 'lazima', 'iwe', 'kubwa', '.', 'Hata', 'hivyo', 'ofisi', 'ya', 'takwimu', 'nchini', 'Kenya', 'imetetea', 'uhalali', 'wa', 'idadi', 'ya', 'watu', '.', 'Sensa', 'ni', 'nini', 'na', 'inafanyaje', 'kazi', '?', 'Sensa', 'ni', 'namna', 'serikali', 'inavyokusanya', 'taarifa', 'kuhusu', 'watu', 'wake', '.', 'Kiujumla', 'huwa', 'inahusisha', 'taarifa', 'kama', 'takwimu', 'za', 'watu', ',', 'makazi', 'yao', ',', 'jinsia', ',', 'kabila', 'na', 'dini', 'zao', '.', 'Sensa', 'kwa', 'kawaida', 'huwa', 'inafanyika', 'kila', 'baada', 'ya', 'miaka', '10', '.', 'Chanzo', 'cha', 'picha', ',', 'Getty', 'Images', 'Maelezo', 'ya', 'picha', ',', 'Kenya', 'huwa', 'wanafanya', 'sensa', 'kila', 'baada', 'ya', 'miaka', '10', 'Ni', 'kazi', 'kubwa', 'ambayo', 'inahusisha', 'kuangalia', 'katika', 'ramani', 'kila', 'nyumba', 'katika', 'nchi', 'na', 'kuzitembelea', 'ili', 'kupata', 'majibu', 'ya', 'maswali', 'yao', '.', 'Baadhi', 'ya', 'mataifa', 'tayari', 'yamehamia', 'kwenye', 'mfumo', 'wa', 'kidigitali', 'ambapo', 'watu', 'wanajaza', 'mtandaoni', 'na', 'kuachana', 'na', 'kufanya', 'utafiti', 'wa', 'kuandika', 'kwa', 'peni', 'na', 'karatasi', ',', '.', 'Nchini', 'Kenya', ',', 'sensa', 'huwa', 'inafanyika', 'kwa', 'watumishi', 'wa', 'serikali', 'kutembelea', 'nyumba', 'moja', 'baada', 'ya', 'nyingine', ',', 'kurekodi', 'taarifa', 'katika', 'tablet', 'na', 'kutuma', 'taarifa', 'katika', 'takwimu', 'kuu', 'ya', 'pamoja', '.', 'Kukusanya', 'taarifa', 'mara', 'nyingine', 'kuna', 'ugumu', 'wake', ',', 'jamii', 'inakuwa', 'haiiamni', 'serikali', 'yake', 'na', 'hivyo', 'kuwa', 'wagumu', 'kutoa', 'taarifa', 'zao', 'binafsi', '.', 'Ni', 'namna', 'gani', 'serikali', 'inatumia', 'taarifa', 'hizi', '?', 'Matokeo', 'ya', 'sensa', 'yanaweza', 'kuleta', 'manufaa', 'makubwa', 'kwa', 'dunia', 'na', 'raia', 'wake', '.', 'Nchini', 'Kenya', ',', 'haisaidii', 'serikali', 'katika', 'ugawaji', 'wa', 'ufadhili', 'peke', 'yake', 'kwa', 'kuhusisha', 'kiwango', 'cha', 'watu', 'lakini', 'pia', 'uainisha', 'mipaka', 'ya', 'eneo', 'huwa', 'inawekwa', 'kutokana', 'na', 'takwimu', 'za', 'sensa', '.', 'Chanzo', 'cha', 'picha', ',', 'Getty', 'Images', 'Maelezo', 'ya', 'picha', ',', 'Lebanon', 'haijafanya', 'sensa', 'kwa', 'miongo', 'mingi', 'Nchi', 'ambayo', 'imegawanyika', ',', 'ndio', 'inaweza', 'kufanya', 'sensa', 'kuwa', 'jambo', 'gumu', 'zaidi', '.', 'Ethiopia', 'imeahirisha', 'kufanya', 'sensa', 'mara', 'mbili', 'tangu', 'mwaka', '2017', 'kwa', 'sababu', 'ya', 'maandamano', 'na', 'vurugu', 'za', 'kikabila', '.', 'Kwa', 'mfano', 'watu', 'wa', 'Sidama', 'kusini', 'mwa', 'Ethiopia', 'wanafanya', 'kampeni', 'ya', 'kupata', 'jimbo', 'lao', 'wenyewe', '.', 'Nigeria', 'ina', 'historia', 'ndefu', 'ya', 'kuwa', 'na', 'sensa', 'ambazo', 'zinakuwa', 'na', 'ubishani', 'mkubwa', ',', 'walikuwa', 'wafanye', 'sensa', 'nyingine', 'mwaka', '2016', ',', 'lakini', 'haikufanyika', 'kutokana', 'na', 'uhaba', 'wa', 'fedha', 'na', 'ukosefu', 'wa', 'vifaa', 'ulisababisha', 'kutonyika', '.', 'Na', 'nchini', 'Lebanon', ',', 'haijafanya', 'sensa', 'tangu', 'mwaka', '1932', '.', 'Hii', 'ni', 'kutokana', 'na', 'ubishani', 'wa', 'hata', 'wa', 'wawakilishi', 'wa', 'bunge', '.']\n",
      "\n",
      " Number of Words:  701\n"
     ]
    }
   ],
   "source": [
    "file=\"19nov11_1.txt\"\n",
    "\n",
    "# calling the function and storing the contents in a text variable \n",
    "text = get_document(\"https://www.bbc.com/swahili/50371906\")\n",
    "\n",
    "# calling the store_ document function \n",
    "store_document(doc=text,name=file)\n",
    "\n",
    "#add the words in this file to the total_corpus_words, to keep count of the number of words in the corpus\n",
    "total_corpus_words+=total_words(file)"
   ]
  },
  {
   "cell_type": "code",
   "execution_count": 21,
   "metadata": {},
   "outputs": [
    {
     "data": {
      "text/plain": [
       "162478"
      ]
     },
     "execution_count": 21,
     "metadata": {},
     "output_type": "execute_result"
    }
   ],
   "source": [
    "total_corpus_words"
   ]
  },
  {
   "cell_type": "code",
   "execution_count": 22,
   "metadata": {},
   "outputs": [
    {
     "name": "stdout",
     "output_type": "stream",
     "text": [
      "['Unazijua', 'athari', 'za', 'sumu', 'kuvu', 'katika', 'ugali', 'wako', '?', 'Uchunguzi', 'uliofanywa', 'na', 'kituo', 'cha', 'televisheni', 'nchini', 'Kenya', 'umefichua', 'ni', 'jinsi', 'gani', 'sera', 'dhaifu', 'zilivyoruhusu', 'viwango', 'vya', 'hali', 'ya', 'juu', 'vya', 'unga', 'wa', 'ugali', 'wenye', 'sumu', 'kuvu', '-', 'aflatoxin', 'kuuzwa', 'nchini', 'humo', 'jambo', 'lililosababisha', 'watu', 'wengi', 'kuhoji', 'juu', 'ya', 'viwango', 'vya', 'usalama', 'wa', 'chakula', 'nchini', 'humo', '.', 'Uchunguzi', 'uliofanywa', 'na', 'televisheni', 'ya', 'kibinafsi', 'NTV', 'ulifanya', 'vipimo', 'vya', 'unga', 'wa', 'Ugali', 'wa', 'mahindi', 'na', 'mtama', 'za', 'nenmbo', 'aina', '12', 'za', 'bidhaa', 'hizo', 'za', 'nafaka', '.', 'Unaweza', 'pia', 'kusoma', ':', 'Nembo', 'tatu', 'zilibainika', 'kuwa', 'na', 'viwango', 'vya', 'hali', 'ya', 'juu', 'vya', 'sumukuvu', 'kuliko', 'kiwango', 'kinachopendekezwa', 'cha', 'sehemu', '10', 'kwa', 'bilioni', ',', 'huku', 'saba', 'zikiwa', 'bado', 'zikiwa', 'na', 'viwango', 'vya', 'hali', 'ya', 'juu', 'vya', 'sumukuvu', '(', 'aflatoxin', ')', '.', 'Aflatoxin', ',', 'ambayo', 'hutengenezwa', 'na', 'fangasi', 'katika', 'mazao', 'ya', 'kilimo', 'na', 'inaweza', 'kusababisha', 'saratani', '.', 'Wiki', 'moja', 'tu', 'iliyopita', 'Mamlaka', 'ya', 'Kenya', 'ya', 'viwango', '(', 'kebs', ')', \"ilinyang'anya\", 'makampuni', 'ya', 'utengezaji', 'wa', 'Siagi', 'ya', 'karanga', 'inayotumiwa', 'zaidi', 'kupakwa', 'kwenye', 'mikate', 'kutokana', 'na', 'hofu', 'kuwa', 'ilikuwa', 'na', 'sumu', 'kuvu', '.', 'Pia', 'ilionya', 'Umma', 'dhidi', 'ya', 'kutumia', 'kama', 'chakula', 'cha', 'unga', 'wa', 'ugali', 'kutoka', 'makampuni', 'matano', 'ya', 'unga', 'wa', 'mahindi', '.', 'Madaktari', 'na', 'wataalamu', 'wa', 'chakula', 'waliohojiwa', 'katika', 'taarifa', 'ya', 'uchunguzi', 'ya', 'runinga', 'walisema', 'kuwa', 'baadhi', 'ya', 'watu', 'walikufa', 'kutokana', 'na', 'ulaji', 'wa', 'unga', 'huo', 'unaodaiwa', 'kuwa', 'na', 'sumukuvu', '.', 'Madaktari', 'pia', 'walihusisha', 'visa', 'vya', 'saratani', 'za', 'ini', 'na', 'mfuko', 'wa', 'uzazi', 'na', 'ulaji', 'wa', 'ugali', 'wenye', 'sumu', 'kavu', '.', 'Unaweza', 'pia', 'kusoma', ':', 'Waziri', 'wa', 'Kilimo', 'Mwangi', 'Kiunjuri', ',', 'ambaye', 'pia', 'alihojiwa', 'na', 'uchunguzi', 'wa', 'runinga', ',', 'alithibitisha', 'kuwepo', 'kwa', 'sumu', 'ya', 'sumukuvu', 'katika', 'vyakula', 'nchini', 'humo', '.', 'Alisema', 'kuwa', 'wana', 'wasiwasi', 'kuwa', 'wanyama', 'wanaofugwa', 'nyumbani', ',', 'kama', 'vile', \"ng'ombe\", ',', 'pia', 'wanakula', 'vyakula', 'vyenye', 'sumu', 'jambo', 'na', 'kuisambaza', 'kwa', 'walaji', '.', 'Bwana', 'Kiunjuri', 'alilaumu', 'biashara', 'ya', 'kikanda', 'kuwa', 'sababu', 'ya', 'kuwepo', 'kwa', 'chakula', 'chenye', 'sumu', '.', '``', 'Huwezi', 'kusema', 'kuwa', 'utapambana', 'nayo', 'ndani', 'ya', 'mipaka', 'ya', 'Kenya', '.', 'Tunabadilisha', ',', \"''\", 'alisema', '.', 'Mahitaji', 'ya', 'hali', 'ya', 'juu', 'ya', 'chakula', 'kikuu', 'unga', 'wa', 'mahindi', 'yamekuwa', 'yakiilazimisha', 'serikali', 'kubuni', 'sababu', 'ya', 'kuagiza', 'mahindi', 'kutoka', 'nje', 'ya', 'nchi', '.', 'Mwaka', '2009', ',', 'Mkurugenzi', 'Mkuu', 'wa', 'Kebs', 'Kioko', 'Mangeli', 'alifichua', 'kuwa', 'Wakenya', 'wamekuwa', 'wakila', 'ugali', 'wenye', 'sumu', 'tangu', 'mwaka', '2008', ',', 'huku', 'serikali', 'ikiwa', 'na', 'uelewa', 'fika', 'wa', 'hilo', '.', '``', 'Nina', 'uhakika', 'wa', 'zaidi', 'ya', '100', '%', 'kwamba', 'inawaathiri', 'watu', 'na', 'kwamba', 'katika', 'kipindi', 'cha', 'miaka', '10', 'hadi', '15', 'tutakuwa', 'pia', 'na', 'visa', 'vingi', 'vya', 'saratani', 'kokana', 'na', 'mahindi', ',', \"''\", 'Bwana', 'Mangeli', 'aliiambia', 'kamati', 'ya', 'bunge', 'la', 'Kenya', '.', 'Chanzo', 'cha', 'picha', ',', 'Getty', 'Images', 'Kutokana', 'na', 'hayo', 'Wakenya', 'wameingia', 'katika', 'mtandao', 'wa', 'habari', 'wa', 'kijamjii', 'wa', 'Twitter', 'kupitia', 'hashtag', '#', 'WhiteAlert', 'huku', 'wakiitaka', 'serikali', 'iwakamate', 'maafisa', 'wanaohusika', 'na', 'kuhakikisha', 'viwango', 'vya', 'usalama', 'wa', 'chakula', 'nchini', 'humo', '.', 'Hali', 'ikoje', 'kwa', 'Tanzani', 'juu', 'ya', 'Sumukuvu', 'katika', 'nafaka', '?', 'Chanzo', 'cha', 'picha', ',', 'Getty', 'Images', 'Tanzania', 'ikiwa', 'ina', 'maatumizi', 'ya', 'nafaka', 'kwa', 'kiwango', 'kikubwa', 'Afrika', 'mashariki', ',', 'vyakula', 'ambavyo', 'vinaweza', 'kuambukizwa', 'sumu', 'kuvu', 'ni', 'kama', 'vile', 'mahindi', 'na', 'unga', 'wake', ',', 'karanga', 'na', 'mazao', 'yanayotokana', 'na', 'karanga', ',', 'muhogo', '.', 'Sumu', 'kuvu', 'inatokana', 'na', 'fangasi', 'ambayo', 'inayoota', 'kwenye', 'mbegu', 'za', 'nafaka', ',', 'hutokea', 'pale', 'ambapo', 'nafaka', 'ikiwa', 'imetunzwa', 'vibaya', '.', 'Sumu', 'hiyo', 'mara', 'nyingi', 'husababisha', 'kansa', 'ya', 'ini', 'na', 'inaweza', 'kusababisha', 'vifo', 'vya', 'watu', 'kwa', 'pamoja', 'na', 'kama', 'watu', 'wakila', 'chakula', 'hicho', 'kwa', 'pamoja', 'basi', 'wote', 'wanaweza', 'kuathirika', '.', 'Unaweza', 'pia', 'kusoma', ':', 'Sumu', 'kuvu', '(', 'fangasi', ')', 'unaoota', 'kwenye', 'mbegu', 'za', 'nafaka', 'na', 'jamii', 'ya', 'kunde', ',', 'mazao', 'ya', 'mizizi', 'na', 'karanga', '.', 'Mtaalamu', 'wa', 'masuala', 'ya', 'Afya', 'na', 'mwandishi', 'kutoka', 'nchini', 'Tanzania', 'Syriacus', 'Buguzi', 'anasema', 'kuwa', 'Sumu', 'kuvu', 'ni', 'tatizo', 'kubwa', 'nchini', 'Tanzania', ',', 'utafiti', 'uliofanyika', 'mwaka', '2012', 'uliangazia', 'taifa', 'zima', 'na', 'kuonyesha', 'jinsi', 'sumu', 'hiyo', 'inaweza', 'kuathiri', 'chakula', 'kwa', 'kiwango', 'kikubwa', '.', 'Mwaka', '2016', ',', 'kesi', '65', 'ziliripotiwa', 'katika', 'maeneo', 'ya', 'Chemba', 'and', 'Kondoa', 'mkoani', 'Manyara', 'na', 'watu', '19', 'walifariki', 'dunia', 'kutokana', 'na', 'ugonjwa', 'unaojulikana', 'kitaalamu', 'kama', \"'Aflatoxicosis\", \"'\", 'unaosababishwa', 'na', 'sumu', 'kuvu', 'kwenye', 'nafaka', 'iliyoharibika', '.', 'Buguzi', 'anasema', 'mara', 'nyingi', 'athari', 'hii', 'inapowatokea', 'watu', ',', 'ni', 'ngumu', 'kugundua', 'chanzo', 'cha', 'tatizo', 'lililowapata', 'kutokana', 'na', 'uelewa', 'kuwa', 'mdogo', 'bado', '.']\n",
      "\n",
      " Number of Words:  686\n"
     ]
    }
   ],
   "source": [
    "file=\"19nov11_2.txt\"\n",
    "\n",
    "# calling the function and storing the contents in a text variable \n",
    "text = get_document(\"https://www.bbc.com/swahili/50371905\")\n",
    "\n",
    "# calling the store_ document function \n",
    "store_document(doc=text,name=file)\n",
    "\n",
    "#add the words in this file to the total_corpus_words, to keep count of the number of words in the corpus\n",
    "total_corpus_words+=total_words(file)"
   ]
  },
  {
   "cell_type": "code",
   "execution_count": 23,
   "metadata": {},
   "outputs": [
    {
     "data": {
      "text/plain": [
       "163164"
      ]
     },
     "execution_count": 23,
     "metadata": {},
     "output_type": "execute_result"
    }
   ],
   "source": [
    "total_corpus_words"
   ]
  },
  {
   "cell_type": "code",
   "execution_count": 24,
   "metadata": {},
   "outputs": [
    {
     "name": "stdout",
     "output_type": "stream",
     "text": [
      "['Je', ',', 'taifa', 'hilo', 'litaweza', 'kupata', 'takwimu', 'sahihi', 'ya', 'watu', 'wenye', 'virusi', 'vya', 'ukimwi', '?', '13', 'Novemba', '2019', 'Chanzo', 'cha', 'picha', ',', 'Getty', 'Images', 'Maelezo', 'ya', 'picha', ',', 'Kifaa', 'cha', 'kujipimia', 'Ukimwi', 'Bunge', 'la', 'Tanzania', 'limepitisha', 'muswada', 'wa', 'mabadiliko', 'ya', 'sheria', 'itakayomwezesha', 'mtu', 'kujipima', 'mwenyewe', 'virusi', 'vya', 'ukimwi', 'na', 'pia', 'kushusha', 'umri', 'wa', 'vijana', 'kuweza', 'kupima', 'virusi', 'vya', 'ukimwi', 'bila', 'ya', 'ridhaa', 'ya', 'mzazi', ',', 'hadi', 'kufikia', 'miaka', '15', '.', 'Naibu', 'Waziri', 'wa', 'Afya', 'Dokta', 'Faustine', 'Ndugulile', 'amesema', 'Tanzania', 'ni', 'moja', 'ya', 'nchi', 'ambazo', 'zimekubali', 'na', 'kuridhia', 'malengo', 'ya', 'dunia', 'yanayojulikana', 'kama', '90-90-90', ',', 'ikimaanisha', 'kwamba', 'asilimia', '90', 'ya', 'Watanzania', 'wanaoishi', 'na', 'virisi', 'vya', 'ukimwi', 'kuweza', 'kupimwa', 'na', 'kutambua', 'hali', 'yao', 'ya', 'maambukizi', '.', 'Asilimia', '90', 'ya', 'wale', 'waliopimwa', 'waweze', 'kufikiwa', 'na', 'kupata', 'dawa', ',', 'asilimia', '90', 'ya', 'wale', 'watakaopata', 'dawa', 'kuweza', 'kufubaza', 'virusi', 'vya', 'ukimwi', '.', 'Hata', 'hivyo', 'amesema', 'yote', 'hayo', 'kuweza', 'kufanikiwa', 'kikamilifu', 'inategemea', 'na', 'asilimia', '90', 'ya', 'kwanza', 'ya', 'watu', 'kupima', 'na', 'kujitambua', 'afya', 'zao', '.', 'Awali', 'upimaji', 'wa', 'virusi', 'vya', 'ukimwi', 'ulikuwa', 'lazima', 'ufanyike', 'vituo', 'vya', 'afya', 'na', 'mpimaji', 'lazima', 'awe', 'muhudumu', 'wa', 'afya', '.', 'Aidha', 'Dokta', 'Ndugulile', 'amesema', 'kwa', 'kuanzia', 'kutakuwa', 'na', 'maeneo', 'maalumu', 'ambayo', 'watu', 'wataweza', 'kununua', 'vipimo', 'hivyo', ',', 'huku', 'wauzaji', 'wakiwa', 'wamepata', 'utaalamu', 'na', 'elimu', 'ya', 'kutosha', 'na', 'kwamba', 'mnunuzi', 'atapewa', 'pia', 'elimu', 'na', 'ushauri', 'nasaha', 'na', 'utaratibu', 'unaofuata', 'baada', 'ya', 'kupima', '.', 'Chanzo', 'cha', 'picha', ',', 'Getty', 'Images', 'Maelezo', 'ya', 'picha', ',', 'Vifaa', 'cha', 'kujipimia', 'virusi', 'vya', 'ukimwi', 'vinategemewa', 'kuanza', 'kuuzwa', 'katika', 'maduka', 'ya', 'dawa', 'kama', 'vipimo', 'vya', 'kupima', 'ujauzito', '.', 'Aidha', 'amesema', 'lengo', 'la', 'baadaye', 'ni', 'kuweka', 'katika', 'maduka', 'ya', 'dawa', 'na', 'kuuzwa', 'kama', 'vipimo', 'vingine', 'kama', 'vile', 'cha', 'kupima', 'ujauzito', '.', 'Hata', 'hivyo', 'ipimaji', 'binafsi', 'hautaruhusiwa', 'kwa', 'vijana', 'wa', 'umri', 'wa', 'miaka', '15', ',', 'kutokana', 'na', 'kwamba', 'vijana', 'hao', 'wataruhusiwa', 'tu', 'kupima', 'katika', 'vituo', 'vya', 'afya', ',', 'hivyo', 'hawatauziwa', 'vipimo', 'hivyo.', '``', 'Kikubwa', 'tutaendelea', 'kutoa', 'elimu', ',', 'na', 'kwamba', 'Tanzania', 'sio', 'nchi', 'ya', 'kwanza', 'kufanya', 'hivyi', ',', 'nchi', 'nyingine', 'za', 'Afrika', 'mashariki', 'wameshapitisha', 'sheria', 'hii', ',', 'Kenya', ',', 'Uganda', 'pamoja', 'na', 'nchi', 'nyingine', 'za', 'SADC', 'Ameongeza', 'kusema', 'kuwa', 'kwa', 'kuona', 'maambukizi', 'yamekuwa', 'makubwa', 'kwa', 'vijana', '.', 'Hata', 'hivyo', ',', 'Muswada', 'huu', 'wa', 'mabadiliko', 'ya', 'sheria', 'juu', 'ya', 'Ukimwi', ',', 'ambao', 'tayari', 'umepitishwa', 'na', 'bunge', 'utaanza', 'kufanya', 'kazi', 'baada', 'ya', 'Rais', 'wa', 'Jamhuri', 'wa', 'Muungano', 'wa', 'Tanzania', 'kutia', 'saini', 'ya', 'kuuridhia', '.', 'Hata', 'hivyo', ',', 'mabadiliko', 'haya', 'yanaonekana', 'kupokelewa', 'na', 'hisia', 'tofauti', 'tofauti', ',', 'Ibrahim', 'Joseph', 'mkazi', 'wa', 'Dodoma', 'yeye', 'anaona', 'kuwa', 'mabadiliko', 'haya', 'ya', 'upimaji', 'wa', 'vvu', 'yanaweza', 'kuwa', 'na', 'madhara', 'kwa', 'sababu', 'hakuna', 'ushauri', 'nasaha', ',', '``', 'Itakuwa', 'mtu', 'anajipimia', 'tu', 'nyumbani', 'kwake', ',', 'akiamua', 'kujidhuru', 'inakuwa', 'ni', 'rahisi', 'kwa', 'sababu', 'anaona', 'kwamba', 'ameathirika', \"''\", '.']\n",
      "\n",
      " Number of Words:  438\n"
     ]
    }
   ],
   "source": [
    "file=\"19nov13_1.txt\"\n",
    "\n",
    "# calling the function and storing the contents in a text variable \n",
    "text = get_document(\"https://www.bbc.com/swahili/50395949\")\n",
    "\n",
    "# calling the store_ document function \n",
    "store_document(doc=text,name=file)\n",
    "\n",
    "#add the words in this file to the total_corpus_words, to keep count of the number of words in the corpus\n",
    "total_corpus_words+=total_words(file)"
   ]
  },
  {
   "cell_type": "code",
   "execution_count": 25,
   "metadata": {},
   "outputs": [
    {
     "data": {
      "text/plain": [
       "163602"
      ]
     },
     "execution_count": 25,
     "metadata": {},
     "output_type": "execute_result"
    }
   ],
   "source": [
    "total_corpus_words"
   ]
  },
  {
   "cell_type": "code",
   "execution_count": 26,
   "metadata": {},
   "outputs": [
    {
     "name": "stdout",
     "output_type": "stream",
     "text": [
      "['Mzozo', 'wa', 'karo', 'watikisa', 'Chuo', 'Kikuu', 'cha', 'Makerere', 'licha', 'ya', 'Museveni', 'kuagiza', 'wanajeshi', 'waondoke', 'chuoni', '30', 'Oktoba', '2019', 'Chanzo', 'cha', 'picha', ',', 'Makerere', 'University', 'Maelezo', 'ya', 'picha', ',', 'Chuo', 'kikuu', 'cha', 'Makerere', 'Uganda', 'Polisi', 'nchini', 'Uganda', 'wamefyatua', 'mabomu', 'ya', 'kutoa', 'machozi', 'kuwatawanya', 'wanafunzi', 'wa', 'chuo', 'kikuu', 'cha', 'Makerere', 'nchini', 'Uganda', 'waliokuwa', 'wamekusanyika', 'katika', 'eneo', 'la', 'Freedom', 'Square', '.', 'Wahadhiri', 'wa', 'Chuo', 'hicho', 'pia', 'wametawanywa', 'na', 'wanafunzi', 'wakalazimishwa', 'kuondoka', 'katika', 'vyumba', 'vya', 'madarasa', '.', 'Ghasia', 'hizi', 'zimetokea', 'siku', 'moja', 'tu', 'baada', 'ya', 'rais', 'wa', 'nchi', 'hiyo', 'Yoweri', 'Museveni', 'kuwaagiza', 'wanajeshi', 'kuondoka', 'katika', 'chuo', 'hicho', ',', 'baada', 'ya', 'ripoti', 'kuwa', 'waliwapiga', 'wanafunzi', 'katika', 'chuo', 'hicho', 'Unaweza', 'pia', 'kusoma', ':', 'Utawala', 'wa', 'Chuo', 'Kikuu', 'na', 'viongozi', 'wa', 'wanafunzi', 'walikutana', 'Jumatatu', 'kujadili', 'suala', 'hilo', ',', 'lakini', 'wakashindwa', 'kufikia', 'makubaliano', ',', 'jambo', 'lililofanya', 'mkutano', 'wao', 'kuahirishwa', '.', 'Uongozi', 'wa', 'vyuo', 'vikuu', 'nchini', 'Uganda', 'unadai', 'kuwa', 'nyongeza', 'ya', 'sasa', 'ni', 'ndogo', 'ikilinganishwa', 'na', 'inayotozwa', 'na', 'vyuo', 'vingine', 'vikuu', 'nchini', 'humo', ':', 'Ghasia', 'hizi', 'zinatokea', 'saa', 'kadhaa', 'tu', 'baada', 'ya', 'bodi', 'ya', 'utawala', 'ya', 'wa', 'chuo', 'hicho', ',', 'Baraza', 'la', 'vyuo', 'vikuu', 'kuahidi', 'kuwa', 'vimesitisha', 'sera', 'ya', 'asilimia', '15', 'ya', 'karo', 'kufuatia', 'maandamano', 'ya', 'wanafunzi', 'yaliyoanza', 'wiki', 'iliyopita', '.', 'Vyombo', 'vya', 'habari', 'nchini', 'humo', 'vinasema', 'kuwa', 'tangu', 'Jumanne', ',', 'kumekuwa', 'na', 'ripoti', 'za', 'wanajeshi', 'na', 'polisi', 'wa', 'kutuliza', 'ghasia', 'kuingia', 'ndani', 'ya', 'vyumba', 'au', 'makazi', 'ya', 'wanafunzi', 'usiku', 'na', 'kuwapiga', '.', 'Polisi', 'yadai', 'huenda', 'maandamano', 'yana', 'uchochezi', 'wa', 'kisiasa', 'Wakati', 'huo', 'huo', 'polisi', 'nchini', 'Uganda', 'inachunguza', 'ripoti', 'kuwa', 'wanafunzi', 'wa', 'Chuo', 'Kikuu', 'cha', 'Makerere', 'wanalipwa', 'na', 'wanasiasa', 'na', 'wanaharakati', 'kufanya', 'maandamano', '.', 'Msemaji', 'wa', 'polisi', 'Fred', 'Enanga', 'amesema', 'kuwa', 'taarifa', 'walizonazo', 'ni', 'kwamba', 'malipo', 'kwa', 'wanafunzi', 'hao', 'yanatolewa', 'kwa', 'njia', 'ya', 'simu', 'za', 'mkononi', ',', 'na', 'kwamba', 'taarifa', 'hiyo', 'ni', 'moja', 'ya', 'taarifa', 'zinazochunguzwa', 'kuwa', 'chanzo', 'kilichochochea', 'maandamano', 'katika', 'chuo', 'cha', 'Makerere', ':', '``', 'Tayari', 'tumeweza', 'kupata', 'moja', 'ya', 'vituo', 'vya', 'huduma', 'ya', 'kupokea', 'na', 'kutoa', 'pesa', 'kwa', 'njia', 'ya', 'simu', 'katika', 'eneo', 'la', 'Wandageya', ',', 'ambako', 'wanatoa', 'pesa', 'kwa', 'ajili', 'ya', 'maandamano', \"''\", 'alisema', 'Enanga', ',', 'na', 'kuongeza', 'kuwa', 'watoaji', 'wa', 'huduma', 'za', 'pesa', 'kwa', 'njia', 'ya', 'simu', 'wanachunguzwa', 'ili', 'kufahamu', 'chanzo', 'cha', 'udhamini', 'wa', 'pesa', 'hizo', '.']\n",
      "\n",
      " Number of Words:  352\n"
     ]
    }
   ],
   "source": [
    "file=\"19oct30_2.txt\"\n",
    "\n",
    "# calling the function and storing the contents in a text variable \n",
    "text = get_document(\"https://www.bbc.com/swahili/habari-50230903\")\n",
    "\n",
    "# calling the store_ document function \n",
    "store_document(doc=text,name=file)\n",
    "\n",
    "#add the words in this file to the total_corpus_words, to keep count of the number of words in the corpus\n",
    "total_corpus_words+=total_words(file)"
   ]
  },
  {
   "cell_type": "code",
   "execution_count": 27,
   "metadata": {},
   "outputs": [
    {
     "data": {
      "text/plain": [
       "163954"
      ]
     },
     "execution_count": 27,
     "metadata": {},
     "output_type": "execute_result"
    }
   ],
   "source": [
    "total_corpus_words"
   ]
  },
  {
   "cell_type": "code",
   "execution_count": 28,
   "metadata": {},
   "outputs": [
    {
     "name": "stdout",
     "output_type": "stream",
     "text": [
      "['Paul', 'Manyasi', ':', 'Maswali', 'kuhusu', 'mwanamume', 'aliyeanguka', 'kutoka', 'ndege', 'ya', 'Kenya', 'Airways', '13', 'Novemba', '2019', 'Chanzo', 'cha', 'picha', ',', 'MET', 'POLICE', 'Maelezo', 'ya', 'picha', ',', 'Mwanaume', 'anayeaminiwa', 'kuwa', 'ni', 'Mkenya', 'na', 'ambaye', 'anakisiwa', 'kuwa', 'na', 'umri', 'wa', 'miaka', '30', 'na', 'zaidi', 'aliyeanguka', 'kutoka', 'kwenye', 'ndege', 'ya', 'Kenya', 'Airways', 'mjini', 'London', 'Mamlaka', 'ya', 'Usimamizi', 'wa', 'Viwanja', 'vya', 'Ndege', 'Kenya', 'imepuuzilia', 'mbali', 'habari', 'zilizochapishwa', 'na', 'shirika', 'la', 'utangazaji', 'la', 'Sky', 'News', 'la', 'Uingereza', 'kwamba', 'mwanamume', 'aliyeanguka', 'kutoka', 'ndege', 'ya', 'Kenya', 'Airways', 'ni', 'Mkenya', 'kwa', 'jina', 'Paul', 'Manyasi', '.', 'Shirika', 'hilo', 'la', 'habari', 'lilisema', 'uchunguzi', 'wao', 'umebaini', 'mwanamume', 'huyo', 'huenda', 'ni', 'Paul', 'Manyasi', 'kutoka', 'Kakamega', ',', 'magharibi', 'mwa', 'Kenya', '.', 'Sky', 'News', 'walisema', 'mwanamume', 'huyo', 'alikuwa', 'anafanya', 'kazi', 'na', 'kampuni', 'ya', 'Colnet', 'Kenya', 'ambayo', 'imepewa', 'kazi', 'ya', 'kufanya', 'usafi', 'katika', 'uwanja', 'wa', 'ndege', 'wa', 'kimataifa', 'wa', 'Jomo', 'Kenyatta', ',', 'Nairobi', '.', 'Lakini', 'Mamlaka', 'ya', 'Usimamizi', 'wa', 'Viwanja', 'vya', 'Ndege', 'Kenya', '(', 'KAA', ')', 'imesema', 'hakuna', 'mtu', 'kama', 'huyo', 'aliyewahi', 'kufanya', 'kazi', 'JKIA', '.', 'Colnet', 'wamesema', 'pia', 'kwamba', 'hawana', 'mtu', 'kama', 'huyo', 'aliywahi', 'kufanya', 'kazi', 'nao', '.', 'Hatua', 'yao', 'kukanusha', 'kuhusu', 'uwepo', 'wa', 'Paul', 'Manyasi', 'imezua', 'maswali', 'chungu', 'nzima', 'kuhusu', 'nani', 'hasa', 'aliyejificha', 'kwenye', 'ndege', 'hiyo', 'na', 'kuanguka', 'kabla', 'ya', 'ndege', 'hiyo', 'kutua', 'Heathrow', ',', 'London', '.', 'Baadhi', 'ya', 'maswali', 'yaliyojitokeza', 'ni', 'pamoja', 'na', 'utambulisho', 'halisi', 'wa', 'mwanamume', 'anayezungumziwa', 'baada', 'ya', 'anayedaiwa', 'kuwa', 'babake', 'kudai', 'mwanawe', 'yuko', 'hai', '.', 'Paul', 'Manyasi', 'ni', 'nani', '?', 'Sky', 'News', 'wanasema', 'walipata', 'kidokezo', 'cha', 'kwanza', 'kutoka', 'kwa', 'dereva', 'wa', 'teksi', 'za', 'Uber', 'kwa', 'jina', 'Kamau', 'aliyewajulisha', 'kwamba', 'yupo', 'mfanyakazi', 'wa', 'kampuni', 'ya', 'kufanya', 'usafi', 'ya', 'Colnet', 'aliyetoweka', 'kipindi', 'hicho', '.', 'Alisema', 'baadhi', 'ya', 'wafanyakazi', 'walizungumzia', 'kutoweka', 'kwa', 'mfanyakazi', 'huyo', '.', 'Baadaye', 'walikutana', 'na', 'mwanamke', 'mfanyakazi', 'wa', 'Colnet', 'ambaye', 'hakutaka', 'kutambuliwa', ',', 'ambaye', 'aliwaambia', 'kwamba', 'mwenzake', 'kwa', 'jina', 'Paul', 'Manyasi', 'alitoweka', 'mwishoni', 'mwa', 'Juni', '.', 'Chanzo', 'cha', 'picha', ',', 'MET', 'POLICE', 'Maelezo', 'ya', 'picha', ',', 'Mkoba', 'huu', 'ulipatikana', 'kwenye', 'gia', 'ya', 'kutua', 'ya', 'ndege', 'ambako', 'mwanaume', 'alikuwa', 'alipodondoka', 'kutoka', 'kwenye', 'ndege', 'Unaweza', 'pia', 'kusoma', ':', 'Picha', 'mfano', 'iliyotolewa', 'na', 'polisi', 'wa', 'London', 'iliashiria', 'muonekano', 'wa', 'mwanamume', 'huyo', 'aliyeanguka', 'kutoka', 'kwenye', 'ndege', '.', 'Walisambaza', 'pia', 'picha', 'za', 'vitu', 'alivyokuwa', 'navyo', ',', 'ambavyo', 'ni', 'chupa', 'ya', 'maji', 'na', 'nyingine', 'ya', 'soda', ',', 'na', 'mkoba', 'wa', 'rangi', 'ya', 'kaki', '.', 'Alieleza', 'aliutambua', 'mkoba', 'uliopatikana', 'na', 'kwamba', 'maandishi', 'MCA', 'kwenye', 'mkoba', 'huo', 'yalikuwa', 'na', 'maana', 'ya', 'Member', 'of', 'County', 'Assembly', '(', 'Mwakilishi', 'wa', 'wadi', 'au', 'Diwani', ')', ',', 'jina', 'la', 'utani', 'ambalo', 'Paul', 'alikuwa', 'akijiita', '.', 'Sky', 'Net', 'wanasema', 'waliwasiliana', 'na', 'KAA', 'na', 'Colnet', 'kuhusu', 'taarifa', 'walizokuwa', 'wamezipata', 'kabla', 'ya', 'kuchapisha', 'makala', 'yao', ',', 'lakini', 'mashirika', 'hayo', 'mawili', 'hayakuwajibu', 'chochote', '.']\n",
      "\n",
      " Number of Words:  428\n"
     ]
    }
   ],
   "source": [
    "file=\"19nov13_2.txt\"\n",
    "\n",
    "# calling the function and storing the contents in a text variable \n",
    "text = get_document(\"https://www.bbc.com/swahili/habari-50400530\")\n",
    "\n",
    "# calling the store_ document function \n",
    "store_document(doc=text,name=file)\n",
    "\n",
    "#add the words in this file to the total_corpus_words, to keep count of the number of words in the corpus\n",
    "total_corpus_words+=total_words(file)"
   ]
  },
  {
   "cell_type": "code",
   "execution_count": 29,
   "metadata": {},
   "outputs": [
    {
     "data": {
      "text/plain": [
       "164382"
      ]
     },
     "execution_count": 29,
     "metadata": {},
     "output_type": "execute_result"
    }
   ],
   "source": [
    "total_corpus_words"
   ]
  },
  {
   "cell_type": "code",
   "execution_count": 30,
   "metadata": {},
   "outputs": [
    {
     "name": "stdout",
     "output_type": "stream",
     "text": [
      "['Walimu', ',', 'wanafunzi', 'wafikishwa', 'hospitalini', 'baada', 'ya', 'kuathiriwa', 'na', 'kemikali', 'walipokuwa', 'kwenye', 'mtihani', '13', 'Novemba', '2019', 'Maelezo', 'ya', 'picha', ',', 'Serikali', 'imesema', 'kemikali', 'nyingi', 'zinazotumika', 'ni', 'hatari', 'Wanafunzi', 'na', 'walimu', 'kadhaa', 'nchini', 'Kenya', 'wamefikishwa', 'hospitalini', 'baada', 'ya', 'kemikali', 'hatari', 'iliyokuwa', 'ikitumiwa', 'wakati', 'wa', 'mtihani', 'wa', 'vitendo', 'wa', 'Kemia', 'wa', 'shule', 'ya', 'sekondari', 'kuwaathiri', '.', 'Mwanafunzi', 'mmoja', 'alipata', 'majeraha', 'makubwa', 'ya', 'kuungua', 'usoni', 'wakati', 'wa', 'mtihaniwa', 'vitendo', 'huku', 'wengine', 'walifikishwa', 'hospitalini', 'baada', 'ya', 'kupata', 'kizunguzungu', '.', 'Apolli', 'Otieno', 'alikuwa', 'akichemsha', 'kemikali', 'ya', 'aina', 'ya', 'Xylene', 'kuchunguza', 'matokeo', 'yake', 'katika', 'maabari', 'ya', 'shule', 'ya', 'sekondari', 'ya', 'Kajulu', ',', 'mjini', 'Kisumu', ',', 'ilipolipuka', 'na', 'kuchoma', 'uso', 'wake', ',', 'Gazeti', 'la', 'Daily', 'Nation', 'liliripoti', '.', 'Kemikali', 'iliyolipuka', 'ilitumika', 'badala', 'ya', 'cyclohexane', 'baada', 'ya', 'wizara', 'ya', 'elimu', 'kutoa', 'maagizo', 'hayo', '.', 'Kaimu', 'mwenyekiti', 'wa', 'Baraza', 'la', 'mitihani', 'nchini', 'Kenya', 'Mercy', 'Karogo', 'alitoa', 'maelekezo', 'tarehe', '1', 'mwezi', 'Novemba', 'kununua', 'kemikali', 'ya', 'Xylene', 'mbadala', 'wa', 'cyclohexane', '.', 'Pia', 'wakuu', 'wa', 'shule', 'walielekezwa', 'mahali', 'pa', 'kununua', 'kemikali', 'hiyo', '.', \"''Hii\", 'ni', 'kuwataarifu', 'kama', 'kuna', 'ugumu', 'katika', 'kupata', 'kemikali', 'ya', 'cyclohexane', ',', 'unashauriwa', 'kupata', 'xylene', 'kama', 'mbadala', '.', 'Hii', 'inapatikana', 'katika', 'kampuni', 'ya', 'Kobian', 'Kenya', 'Ltd', 'au', 'kwa', 'wasambazaji', 'wengine', 'wa', 'kemikali', 'hiyo', ',', \"''\", 'ilieleza', 'taarifa', 'hiyo', '.', 'Msambazaji', 'wa', 'bidhaa', 'hiyo', 'alimuandikia', 'Bi', 'Karogo', 'akiomba', 'kutoa', 'maelezo', 'kwa', 'wakuu', 'wa', 'shule', 'kuhifadhi', 'kemikali', 'hiyo', 'kwenye', 'chupa', 'ya', 'kioo', '.', \"''Tumesikia\", 'kuwa', 'wasambazaji', 'wengine', 'wanapakia', 'kemikali', 'kwenye', 'chupa', 'za', 'plastiki', '.', 'Xylene', 'ni', 'huyeyusha', 'plastiki', '.', 'Tuna', 'xylene', 'ya', 'kutosha', 'kwenye', 'chupa', 'za', 'kioo', ',', \"''\", 'barua', 'pepe', 'yenye', 'kichwa', 'cha', 'ujumbe', '``', 'haraka', \"''\", 'uleleza', '.', 'Gazeti', 'la', 'The', 'Standard', 'liliripoti', 'kuwa', 'mwalimu', 'alikimbizwa', 'hospitali', 'katika', 'kaunti', 'ya', 'Trans', 'Nzoia', 'bada', 'ya', 'kuugua', 'wakati', 'wa', 'mtihani', 'huo', 'wa', 'vitendo', '.', 'Chama', 'cha', 'walimu', 'kimeviambia', 'vyombo', 'vya', 'habari', 'kuwa', 'wanafunzi', 'kadhaa', 'na', 'walimu', 'walikuwa', 'wakipata', 'matibabu', 'baada', 'ya', 'kulalamika', 'kuwa', 'wana', 'kizunguzungu', 'baadhi', 'walianguka', 'wakati', 'wa', 'mtihani', 'wa', 'vitendo', '.', 'Serikali', 'ya', 'Kenya', 'imekeana', 'kuwa', 'kemikali', 'iliyotumika', 'katika', 'mtihani', 'ilikuwa', 'na', 'sumu', 'na', 'kusema', 'kuwa', '``', 'kemikali', 'nyingi', 'zinazotumika', 'katika', 'masuala', 'ya', 'kemia', 'ni', 'hatari', ',', 'na', 'kuwa', 'xylene', 'si', 'hatari', 'kama', 'ilivyo', 'kemikali', 'ya', 'Chlorine', 'na', 'Bromine', '.', 'BBC', 'ilipowasiliana', 'na', 'wizara', 'kwa', 'ajili', 'ya', 'kuzungumzia', 'kuhusu', 'mwanafunzi', 'aliyeungua', ',', 'waziri', 'Belio', 'Kipsang', 'hakupatikana', '.', 'Awali', 'alieleza', 'kuwa', 'hakujakuwa', 'na', 'malalamiko', 'rasmi', 'kuhusu', 'tukio', 'la', 'mwanafunzi', 'huyo']\n",
      "\n",
      " Number of Words:  380\n"
     ]
    }
   ],
   "source": [
    "file=\"19nov13_3.txt\"\n",
    "\n",
    "# calling the function and storing the contents in a text variable \n",
    "text = get_document(\"https://www.bbc.com/swahili/habari-50404103\")\n",
    "\n",
    "# calling the store_ document function \n",
    "store_document(doc=text,name=file)\n",
    "\n",
    "#add the words in this file to the total_corpus_words, to keep count of the number of words in the corpus\n",
    "total_corpus_words+=total_words(file)"
   ]
  },
  {
   "cell_type": "code",
   "execution_count": 31,
   "metadata": {},
   "outputs": [
    {
     "data": {
      "text/plain": [
       "164762"
      ]
     },
     "execution_count": 31,
     "metadata": {},
     "output_type": "execute_result"
    }
   ],
   "source": [
    "total_corpus_words"
   ]
  },
  {
   "cell_type": "code",
   "execution_count": 32,
   "metadata": {},
   "outputs": [
    {
     "name": "stdout",
     "output_type": "stream",
     "text": [
      "['Mkanganyiko', 'kuhusu', 'kutambuliwa', 'kwa', 'mtu', 'aliyeanguka', 'kutoka', 'kwenye', 'ndege', 'ya', 'Kenya', 'Airways', '15', 'Novemba', '2019', 'Chanzo', 'cha', 'picha', ',', 'MET', 'POLICE', 'Maelezo', 'ya', 'picha', ',', 'Mwanaume', 'anayeaminiwa', 'kuwa', 'ni', 'Mkenya', 'na', 'ambaye', 'anakisiwa', 'kuwa', 'na', 'umri', 'wa', 'miaka', '30', 'na', 'zaidi', 'aliyeanguka', 'kutoka', 'kwenye', 'ndege', 'ya', 'Kenya', 'Airways', 'mjini', 'London', 'Kisa', 'cha', 'kukanganya', 'kuhusu', 'kutambuliwa', 'kwa', 'mtu', 'mmoja', 'aliyeanguka', 'kutoka', 'kwenye', 'ndege', 'ya', 'shirika', 'la', 'Kenya', 'Airways', 'bado', 'kinaendelea', '.', 'Mwanaume', 'huyo', 'ambaye', 'picha', 'yake', 'ilionekana', 'katika', 'uchunguzi', 'wa', 'hivi', 'karibuni', ',', 'mtu', 'huyo', 'aliyejificha', 'ndani', 'ya', 'ndege', 'amebainika', 'kuwa', 'hai', ',', 'akiwa', 'kwenye', 'gereza', 'la', 'Kenya', '.', 'Mamlaka', 'za', 'gereza', 'zimeiambia', 'BBC', 'kuwa', 'mwanaume', 'huyo', 'ambaye', 'alioneshwa', 'kwenye', 'picha', 'ni', 'Cedric', 'Shivonje', 'Isaac', 'ambaye', 'amekuwa', 'akizuiliwa', 'tangu', 'mwezi', 'Agosti', ',', 'na', 'si', 'Paul', 'Manyasi', ',', 'ambaye', 'alitambuliwa', 'katika', 'taarifa', 'ya', 'Sky', 'News', '.', 'Uchunguzi', 'wa', 'shirika', 'la', 'habari', 'Sky', 'News', 'wiki', 'hii', 'ulionekana', 'kuthibitisha', 'sura', 'ya', 'mtu', 'huyo', '.', 'Ripoti', 'ilionesha', 'sura', 'ya', 'mwanaume', 'ambaye', 'Sky', 'News', 'iliambiwa', 'kuwa', 'alifanya', 'kazi', 'kwenye', 'kampuni', 'ya', 'usafi', 'kwenye', 'uwanja', 'wa', 'ndege', ',', 'na', 'ambaye', 'anadaiwa', 'kujificha', 'kwenye', 'eneo', 'la', 'chini', 'ya', 'gia', 'ya', 'ndege', '.', 'Lakini', 'BBC', 'sasa', 'imebaini', 'kuwa', 'mwanaume', 'aliyeonekana', 'kwenye', 'picha', 'hizo', 'yuko', 'hai', 'na', 'amekuwa', 'akishikiliwa', 'na', 'polisi', 'kwa', 'kipindi', 'cha', 'miezi', 'mitatu', 'iliyopita', '.', 'Mamlaka', 'za', 'gereza', 'zimethibitisha', 'kuwa', 'jina', 'la', 'mwanaume', 'huyo', 'ambaye', 'alionekana', 'kwenye', 'picha', 'kwenye', 'ripoti', 'ya', 'Sky', 'News', 'ni', 'Cedric', 'Shivonje', 'Isaac', '.', 'Baba', 'wa', 'mwanaume', 'huyo', 'amekana', 'kauli', 'yake', 'alipozungumza', 'na', 'mtangazaji', ',', 'na', 'sasa', 'anasisitiza', 'mtoto', 'wake', 'bado', 'yu', 'hai', '.', 'Haijajulikana', 'mkanganyiko', 'huu', 'umetokea', 'vipi', ',', 'wapelelezi', 'wanajaribu', 'kutafuta', 'uwezekano', 'kati', 'ya', 'bwana', 'Isaac', ',', 'mtu', 'aliye', 'kwenye', 'picha', 'na', 'bwana', 'Manyasi', ',', 'mwanaume', 'aliyetambuliwa', 'kwenye', 'ripoti', '.', 'Taarifa', 'hii', 'imezua', 'maswali', 'mapya', 'kuhusu', 'uwezo', 'wa', 'mamlaka', 'za', 'Kenya', 'kumbaini', 'mtu', 'aliyeingia', 'ndani', 'ya', 'ndege', 'hiyo', ',', 'ikiwa', 'miezi', 'minne', 'tangu', 'alipoanguka', 'kutoka', 'kwenye', 'ndege', 'ya', 'Kenya', 'Airways', 'kuelekea', 'kwenye', 'uwanja', 'wa', 'ndege', 'wa', 'Heathrow', 'jijini', 'London', '.', 'Sky', 'News', 'wanasema', 'walipata', 'kidokezo', 'cha', 'kwanza', 'kutoka', 'kwa', 'dereva', 'wa', 'teksi', 'za', 'Uber', 'kwa', 'jina', 'Kamau', 'aliyewajulisha', 'kwamba', 'yupo', 'mfanyakazi', 'wa', 'kampuni', 'ya', 'kufanya', 'usafi', 'ya', 'Colnet', 'aliyetoweka', 'kipindi', 'hicho', '.', 'Alisema', 'baadhi', 'ya', 'wafanyakazi', 'walizungumzia', 'kutoweka', 'kwa', 'mfanyakazi', 'huyo', '.', 'Baadaye', 'walikutana', 'na', 'mwanamke', 'mfanyakazi', 'wa', 'Colnet', 'ambaye', 'hakutaka', 'kutambuliwa', ',', 'ambaye', 'aliwaambia', 'kwamba', 'mwenzake', 'kwa', 'jina', 'Paul', 'Manyasi', 'alitoweka', 'mwishoni', 'mwa', 'Juni', '.']\n",
      "\n",
      " Number of Words:  385\n"
     ]
    }
   ],
   "source": [
    "file=\"19nov15.txt\"\n",
    "\n",
    "# calling the function and storing the contents in a text variable \n",
    "text = get_document(\"https://www.bbc.com/swahili/habari-50419101\")\n",
    "\n",
    "# calling the store_ document function \n",
    "store_document(doc=text,name=file)\n",
    "\n",
    "#add the words in this file to the total_corpus_words, to keep count of the number of words in the corpus\n",
    "total_corpus_words+=total_words(file)"
   ]
  },
  {
   "cell_type": "code",
   "execution_count": 33,
   "metadata": {},
   "outputs": [
    {
     "data": {
      "text/plain": [
       "165147"
      ]
     },
     "execution_count": 33,
     "metadata": {},
     "output_type": "execute_result"
    }
   ],
   "source": [
    "total_corpus_words"
   ]
  },
  {
   "cell_type": "code",
   "execution_count": 34,
   "metadata": {},
   "outputs": [
    {
     "name": "stdout",
     "output_type": "stream",
     "text": [
      "['Doreen', 'Umutesi', ',', 'ni', 'mama', 'kutoka', 'Rwanda', 'yeye', 'anasema', 'hakuwa', 'na', 'tatizo', 'lolote', 'wakati', 'alipokua', 'na', 'mimba', 'ya', 'mwanawe.', '``', 'Nimejaliwa', 'na', 'mtoto', 'mvulana', 'ana', 'mwaka', 'mmoja', 'na', 'miezi', 'mitatu', '.', 'Wakati', 'wote', 'wa', 'ujauzito', 'wangu', ',', 'sikuwa', 'na', 'tatizo', 'lolote', '.', 'Kwangu', 'ilikuwa', 'kama', 'kipindi', 'cha', 'kawaida', 'maishani', '.', 'Wakati', 'ambao', 'naweza', 'kusema', 'nilipata', 'ugumu', 'ni', 'wakati', 'wa', 'kujifungua', 'nilipata', 'uchungu', 'sana', \"''\", '.', 'Baada', 'ya', 'Doreen', 'kijifungua', 'mtoto', 'wao', 'salama', 'na', 'kurejea', 'nyumbani', ',', 'umbo', 'lake', 'lilianza', 'kubadilika', 'kwa', 'kuongezeka', 'uzito', 'kila', 'kukicha', '.', '``', 'Wakati', 'wa', 'ujauzito', 'niliongeza', 'uzani', ',', 'lakini', 'hiyo', 'ilikua', 'kawaida', '.', 'Lakini', 'punde', 'baada', 'ya', 'kujifungua', 'kila', 'baada', 'ya', 'wiki', 'mbili', 'nilikuwa', 'naongezeka', 'uzito', '.', 'Nilianza', 'kunenepa', ',', 'na', 'nguo', 'zangu', 'zikawa', 'hazinitoshi', 'tena', '.', 'Claire', 'ambaye', 'ni', 'mama', 'wa', 'miaka', 'thelathini', 'na', 'nne', 'amekua', 'akiwasaidia', 'wanawake', 'kupunguza', 'uzito', 'kwa', 'kufanya', 'mazoezi', 'haswa', 'baada', 'ya', 'kujifungua', '.', 'Binafsi', 'Claire', 'alikua', 'na', 'uzani', 'wa', 'kilo', 'sabini', 'na', 'mbili', 'kabla', 'ya', 'kupata', 'mimba', '.', 'Alipokaribia', 'kujifungua', 'alikuwa', 'na', 'uzito', 'wa', 'kilo', 'mia', 'moja', 'na', 'nane', '..', 'Punde', 'baada', 'ya', 'kujifungua', 'alichukua', 'picha', 'yake', 'ya', 'zamani', 'na', 'kuanza', 'hatua', 'za', 'kupunguza', 'uzito', 'aliopata', 'baada', 'ya', 'kujifungua', '.', '``', 'Baada', 'ya', 'wiki', 'mbili', ',', 'nilianza', 'mazoezi', '...', 'pamoja', 'na', 'kutembea', 'kwa', 'kwa', 'muda', 'wa', 'nusu', 'saa', ',', 'nilitumia', 'kipindi', 'cha', 'miezi', 'mitatu', 'ambacho', 'wanawake', 'hupumzika', 'baada', 'ya', 'kujifungua', 'kuhakikisha', 'narejesha', 'umbile', 'langu', 'la', 'kawaida', '.', \"''\", 'Lakini', 'anasema', 'kuwa', 'jambo', 'la', 'muhimu', 'zaidi', 'ambalo', 'alilizingatia', 'ni', 'kuwa', 'makini', 'sana', 'lishe', 'yake', 'na', 'kunywa', 'maji', 'mengi', '.', 'Baada', 'ya', 'juhudi', 'zote', 'hizo', 'Claire', 'aliweza', 'kupunguza', 'uzito', 'wa', 'kilo', '28', 'kwa', 'kipindi', 'cha', 'miezi', 'sita', ',', 'baada', 'ya', 'kujifungua', 'mwanae', 'wa', 'kiume', '.']\n",
      "\n",
      " Number of Words:  274\n"
     ]
    }
   ],
   "source": [
    "file=\"19nov17.txt\"\n",
    "\n",
    "# calling the function and storing the contents in a text variable \n",
    "text = get_document(\"https://www.bbc.com/swahili/50450627\")\n",
    "\n",
    "# calling the store_ document function \n",
    "store_document(doc=text,name=file)\n",
    "\n",
    "#add the words in this file to the total_corpus_words, to keep count of the number of words in the corpus\n",
    "total_corpus_words+=total_words(file)"
   ]
  },
  {
   "cell_type": "code",
   "execution_count": 35,
   "metadata": {},
   "outputs": [
    {
     "data": {
      "text/plain": [
       "165421"
      ]
     },
     "execution_count": 35,
     "metadata": {},
     "output_type": "execute_result"
    }
   ],
   "source": [
    "total_corpus_words"
   ]
  },
  {
   "cell_type": "code",
   "execution_count": 36,
   "metadata": {},
   "outputs": [
    {
     "name": "stdout",
     "output_type": "stream",
     "text": [
      "['Waliopata', 'elimu', 'ya', 'juu', 'kwa', 'mkopo', 'nchini', 'Kenya', 'mashakani', 'Ikiwa', 'wewe', 'ni', 'mmojawapo', 'wa', 'Wakenya', '85,000', 'ambao', 'bodi', 'ya', 'elimi', 'ua', 'juu', 'nchini', 'Kenya', 'inasema', 'hawajalipa', 'mkopo', 'wa', 'elimu', 'ya', 'juu', 'huenda', 'ukawa', 'mashakani', '.', 'Bodi', 'hiyo', 'kwa', 'kifupi', 'helb', 'inasema', 'itawataja', 'majina', 'na', 'kuwaabisha', 'watu', 'wote', 'ambao', 'hawajalipo', 'mikopo', 'yao', 'ya', 'gharama', 'ya', 'masomo', 'ya', 'chuo', 'kikuu', 'katika', 'kipindi', 'cha', 'siku', '30', '.', 'Helb', ',', 'ambayo', 'imekuwa', 'imekuwa', 'ikiwasaka', 'watu', 'waliosoma', 'kwa', 'mkopo', 'kila', 'kona', ',', 'inasema', 'kuwa', 'itachapisha', 'picha', 'za', 'wanaume', 'na', 'wanawake', 'wenye', 'madeni', 'ambao', 'wameshindwa', 'kulipa', 'madeni', 'yao', ',', 'ambayo', 'kwa', 'sasa', 'yamefikia', 'shilingi', 'bilioni', '50', 'za', 'za', 'Kenya', '.', 'Katika', 'taarifa', 'yake', 'iliyoitoa', 'Jumapili', 'na', 'kushirikishwa', 'kwenye', 'mitandao', 'ya', 'kijamii', 'na', 'baadhi', 'ya', 'Wakenya', ',', 'bodi', 'hiyo', 'imesema', 'wenye', 'deni', 'hilo', 'watatakiwa', 'kujiytokeza', 'na', 'kueleza', 'ni', 'vipi', 'watalipa', 'mikopo', 'yao', ':', 'Tangazo', 'hili', 'la', 'Helb', 'limeibua', 'hisia', 'mbali', 'mbali', 'katika', 'mitandao', 'ya', 'kijamii', 'nchini', 'Kenya', ',', 'huku', 'watumiaji', 'hususan', 'wa', 'mtandao', 'wa', 'twitte', ',', 'huku', 'baadhi', 'wakishauri', 'serikali', 'kutatua', 'matatizo', 'yake', 'badala', 'ya', 'kuwaaibisha', 'waliochukua', 'mikopo', 'ya', 'masomo', 'wasio', 'na', 'ajira', ':', 'Baadhi', 'walitumia', 'picha', 'za', 'wanyama', 'kuonyesha', 'mshangao', 'wa', 'Wakenya', 'kufuatia', 'tangazo', 'la', 'Helb', ':', 'Bodi', 'hiyo', 'inayodhamini', 'elimu', 'ya', 'juu', 'nchini', 'Kenya', 'inasema', 'kuwa', 'inahitaji', 'fedha', 'hizo', 'ili', 'kuwasaida', 'Wakenya', 'wengine', 'maskini', 'kufikia', 'ndoto', 'zao', 'za', 'kupata', 'Shahada', 'na', 'Stashahada', '.', 'Helb', 'inasema', 'kuwa', 'baadhi', 'ya', 'watu', 'walionufaika', 'na', 'mkopo', 'ambao', 'bado', 'wanadeni', 'walishindwa', 'kujibu', 'mawasiliano', 'ya', 'awali', 'na', 'hivyo', 'kukwamisha', 'utoaji', 'wa', 'msaada', 'wa', 'fedha', 'kwa', 'Wakenya', 'wengine', 'wanaostahili.', '``', 'Majina', 'na', 'picha', 'za', 'watu', 'wenye', 'deni', 'la', 'Helb', 'ambao', 'hawajalipa', 'deni', 'lao', 'tangu', 'mwaka', '1975', 'hadi', 'leo', 'yatachapishwa', 'katika', 'magazeti', 'makubwa', 'nchini', 'Kenya', 'baada', 'ya', 'siku', '30', 'kuanzia', 'siku', 'lilipotolewa', 'tangazo', 'na', 'baada', 'ya', 'hapo', 'hatua', 'a', 'kisheria', 'zinawea', 'kuchukuliwa', 'dhidi', 'ya', 'kila', 'mtu', 'mwenye', 'deni', ',', \"''\", 'liliongeza', 'tangazo', 'hilo', '.', 'Bodi', 'hiyo', 'kwa', 'sasa', 'imewataka', 'walionufaika', 'na', 'mpango', 'huo', 'ambao', 'hawalipi', 'mikopo', 'kuwasiliana', 'nayo', 'ili', 'wapewe', 'akaunti', 'ya', 'mkopo', '.', 'Unaweza', 'pia', 'kusoma', ':', 'Mwaka', 'jana', 'Helb', 'iliweza', 'kupata', 'zaidi', 'ya', 'shilingi', 'milioni', '500', 'kufuatia', 'miaka', 'miwili', 'ya', 'msamaha', 'uliotolewa', 'na', 'serikali', '.', 'Kwa', 'mujibu', 'wa', 'Helb', ',', 'haiwezi', 'kuwapata', 'watu', '17,000', 'wenye', 'deni', ',', 'huku', 'mwaka', 'jana', 'watu', '85,000', 'walikuwa', 'na', 'deni', 'la', 'bodi', 'hiyo', '.', 'Jumla', 'ya', 'wahitimu', '169,909', 'walikuwa', 'wamekamilisha', 'malipo', 'ya', 'mikopo', 'yao', 'yenye', 'thamani', 'ya', 'shilingi', 'bilioni', '13.2', 'kufikia', '2017', ',', 'huku', 'wengine', 'wapatao', '136,783', 'wakiendelea', 'kulipa', 'mikopo', 'yao', '.', 'beneficiaries', 'were', 'servicing', 'loans', 'worth', 'Sh20.7', 'billion', '.', 'Tangu', 'mwaka', '1974', ',', 'mpango', 'wa', 'utoaji', 'mkopo', 'wa', 'masomo', 'ya', 'elimu', 'ya', 'juu', 'umewasaidia', 'zaidi', 'ya', 'Wakenya', '645,000', 'kupata', 'elimu', 'ya', 'juu', 'kwa', 'thamani', 'ya', 'shilingi', 'bilioni', '72', 'kwa', 'ujumla', '.']\n",
      "\n",
      " Number of Words:  436\n"
     ]
    }
   ],
   "source": [
    "file=\"19nov18_1.txt\"\n",
    "\n",
    "# calling the function and storing the contents in a text variable \n",
    "text = get_document(\"https://www.bbc.com/swahili/habari-50461951\")\n",
    "\n",
    "# calling the store_ document function \n",
    "store_document(doc=text,name=file)\n",
    "\n",
    "#add the words in this file to the total_corpus_words, to keep count of the number of words in the corpus\n",
    "total_corpus_words+=total_words(file)"
   ]
  },
  {
   "cell_type": "code",
   "execution_count": 37,
   "metadata": {},
   "outputs": [
    {
     "data": {
      "text/plain": [
       "165857"
      ]
     },
     "execution_count": 37,
     "metadata": {},
     "output_type": "execute_result"
    }
   ],
   "source": [
    "total_corpus_words"
   ]
  },
  {
   "cell_type": "code",
   "execution_count": 38,
   "metadata": {},
   "outputs": [
    {
     "name": "stdout",
     "output_type": "stream",
     "text": [
      "['Kenya', 'na', 'China', 'bado', 'wanajenga', 'reli', 'kwa', 'manufaa', 'ya', 'uchumi', 'wa', 'Afrika', 'Baada', 'ya', 'uzinduzi', 'wa', 'awamu', 'ya', 'pili', 'wa', 'ujenzi', 'wa', 'reli', 'nchini', 'Kenya', 'iliyotarajiwa', 'kuendelezwa', 'hadi', 'mpaka', 'wa', 'Kenya', 'na', 'Uganda', '(', 'Malaba', ')', ',', 'kulikuwa', 'na', 'hofu', 'huenda', 'uzinduzi', 'huo', 'ukawa', 'mwisho', 'wa', 'mradi', 'mkubwa', 'zaidi', 'baada', 'ya', 'China', 'kudaiwa', 'kuwa', 'wamekataa', 'kuufadhili', '.', 'Kufuatia', 'fununu', 'hizo', ',', 'BBC', 'ilifanya', 'mahojiano', 'na', 'balozi', 'wa', 'China', 'nchini', 'Kenya', 'bwana', 'Wu', 'Peng', 'kuhusu', 'msimamo', 'wao', 'katika', 'mradi', 'huo', '.', '``', 'Tunaamini', 'kuwa', 'ujenzi', 'wa', 'reli', 'kutoka', 'Naivasha', 'mpaka', 'Kisumu', 'utaweza', 'kuinua', 'hali', 'ya', 'uchumi', 'ya', 'Kenya', 'na', 'kuwa', 'kituo', 'cha', 'biashara', 'cha', 'Afrika', 'mashariki', '.', 'Hatujabadili', 'mawazo', 'yetu', 'katika', 'uwekezaji', 'wetu', 'na', 'wala', 'kutokuwa', 'na', 'imani', 'na', 'hiki', 'kinachoendelea', 'kwa', 'sababu', 'ujenzi', 'huu', 'una', 'manufaa', 'makubwa', 'kwa', 'bara', 'la', 'Afrika', \"''\", '.', 'Balozi', 'huyo', 'aliongeza', 'kuwa', 'China', 'imejizatiti', 'katika', 'uwekezaji', 'huu', 'na', 'vilevile', 'inaheshimu', 'maamuzi', 'ambayo', 'serikali', 'ya', 'Kenya', 'inayatoa', 'katika', 'miradi', 'yake', '.', '``', 'Tunaamini', 'kuwa', 'Kenya', 'inaweza', 'kufanya', 'maamuzi', 'mazuri', 'sana', 'kwa', 'kuzingatia', 'uchumi', 'wake', 'na', 'fedha', 'zilizopo', ',', 'ila', 'kile', 'ambacho', 'ninachoweza', 'kusema', 'ni', 'kuwa', 'kwa', 'upande', 'wa', 'China', 'na', 'upande', 'wa', 'Kenya', 'zinafanya', 'kazi', 'kwa', 'pamoja', 'ili', 'kuzindua', 'hatua', 'inayofuata', 'ya', 'ujenzi', 'huo', '.', \"''\"]\n",
      "\n",
      " Number of Words:  200\n"
     ]
    }
   ],
   "source": [
    "file=\"19nov18_2.txt\"\n",
    "\n",
    "# calling the function and storing the contents in a text variable \n",
    "text = get_document(\"https://www.bbc.com/swahili/50461721\")\n",
    "\n",
    "# calling the store_ document function \n",
    "store_document(doc=text,name=file)\n",
    "\n",
    "#add the words in this file to the total_corpus_words, to keep count of the number of words in the corpus\n",
    "total_corpus_words+=total_words(file)"
   ]
  },
  {
   "cell_type": "code",
   "execution_count": 39,
   "metadata": {},
   "outputs": [
    {
     "data": {
      "text/plain": [
       "166057"
      ]
     },
     "execution_count": 39,
     "metadata": {},
     "output_type": "execute_result"
    }
   ],
   "source": [
    "total_corpus_words"
   ]
  },
  {
   "cell_type": "code",
   "execution_count": 40,
   "metadata": {},
   "outputs": [
    {
     "name": "stdout",
     "output_type": "stream",
     "text": [
      "['Jinsi', 'unyanyasaji', 'wa', 'kingono', 'vyuoni', 'unavyoathiri', 'wanafunzi', 'wa', 'kike', 'Kenya', '20', 'Novemba', '2019', 'Maelezo', 'ya', 'picha', ',', 'Swala', 'la', 'unyanyasaji', 'wa', 'kingono', 'Unyanyasaji', 'wa', 'kingono', 'ni', 'tatizo', 'kubwa', 'la', 'kiafya', 'na', 'hata', 'la', 'kibinadamu', 'linalomuathiri', 'mtu', 'kwa', 'muda', 'mrefu', 'au', 'mfupi', 'hayo', 'ni', 'kulingana', 'na', 'Shirika', 'la', 'Afya', 'Duniani', '(', 'WHO', ')', '.', 'Kulingana', 'na', 'utafiti', 'uliofanywa', 'nchini', 'Kenya', 'na', 'Shirika', 'la', 'ActionAid', 'pamoja', 'na', 'viongozi', 'wa', 'wanafunzi', 'wa', 'vyuo', 'vikuu', 'mbalimbali', 'nchini', 'Kenya', 'asilimia', '49', 'ya', 'wanafunzi', 'wa', 'vyuo', 'vikuu', 'na', 'taasisi', 'mbalimbali', 'za', 'elimu', 'hunyanyaswa', 'kijinsia', 'huku', 'asilimia', '24', 'ya', 'wanafunzi', 'wa', 'kiume', 'pia', 'hunyanyaswa', 'na', 'wafanyikazi', 'katika', 'vyuo', 'hivyo', '.', 'Viongozi', 'wa', 'wanafunzi', 'wa', 'vyuo', 'hivyo', 'wameanzisha', 'kampeni', 'ya', 'kusitisha', 'unyanyasaji', 'wa', 'kingono', 'kwa', 'kutumia', '#', 'CampusMeToo', ',', 'ambayo', 'inawarai', 'wanafunzi', 'wanaopitia', 'unyanyasaji', 'wa', 'kingono', 'kuripoti', 'visa', 'hivyo', 'bila', 'uongo', 'huku', 'wakiwa', 'na', 'matumaini', 'ya', 'kupata', 'saini', 'elfu', '50', 'ili', 'kuisisitizia', 'serikali', 'ya', 'Kenya', 'kuwekeza', 'mbinu', 'zilizowazi', 'za', 'kukabiliana', 'na', 'visa', 'hivyo', '.', 'Hii', 'ni', 'baada', 'ya', 'kipindi', 'cha', 'BBC', 'Africa', 'Eye', 'kupeperusha', 'taarifa', 'ya', 'jinsi', 'wanafunzi', 'wa', 'Ghana', 'na', 'Lagos', 'wanavyonyanyaswa', 'kingono', '.', 'Kulingana', 'na', 'takwimu', 'za', 'utafiti', 'uliofanywa', 'kwa', 'miezi', '4', 'miongoni', 'mwa', 'zaidi', 'ya', 'wanafunzi', 'wa', 'vyuo', 'vikuu', '1000', 'ilionyesha', 'kati', 'ya', 'wasichana', 'wawili', 'mmoja', 'hunyanyaswa', 'na', 'kati', 'ya', 'wanaume', 'wanne', 'mmoja', 'hupitia', 'unyanyasaji', '.', 'Mwanafunzi', 'mmoja', 'kwa', 'jina', 'Mary', 'ambalo', 'si', 'jina', 'lake', 'rasmi', 'ameiambia', 'BBC', 'Kwamba', 'alipitia', 'unyanyasaji', 'wa', 'kingono', 'pindi', 'tu', 'alipojiunga', 'na', 'chuo', 'kikuu', 'kimoja', 'nchini', 'Kenya', '.', 'Mary', 'alikuwa', 'na', 'miaka', '17', 'alipoanza', 'masomo', 'yake', 'na', 'alikuwa', 'amechelewa', 'kujiunga', 'na', 'zilikuwa', 'zimesalia', 'wiki', 'mbili', 'kabla', 'ya', 'mitihani', 'ya', 'kwanza', 'kuanza', '.', 'Mary', 'alijaribu', 'kuongea', 'na', 'wahadhiri', 'tofauti', 'ili', 'aweze', 'kuwafikia', 'wenzake', 'na', 'hapo', 'ndipo', 'unyanyasaji', 'ulipoanza', 'bila', 'yeye', 'mwenyewe', 'kugundua', 'kwamba', 'mhadhiri', 'wake', 'anamnyanyasa', 'kigono', '.', 'Baada', 'ya', 'muda', 'Mary', 'alijikuta', 'akiwa', 'na', 'mahusiano', 'ya', 'kimapenzi', 'na', 'muhadhiri', 'wake', '.', 'Kulingana', 'naye', 'Mary', 'anasema', 'alikuwa', 'na', 'uwezo', 'wa', 'kukataa', 'hilo', 'lakini', 'muhadhiri', 'wake', 'alijulikana', 'kuwa', 'mkali', 'na', 'hakutaka', 'kuyahatarisha', 'masomo', 'yake', 'na', 'hakufahamu', 'chochote', 'wakati', 'ule', 'kuhusiana', 'na', 'maisha', 'ya', 'vyuo', 'vikuu', '.', 'Anadai', 'hakuna', 'aliyemuarifu', 'kuhusiana', 'na', 'maisha', 'ya', 'wanafunzi', 'wa', 'vyuo', 'vikuu', '.', \"''Nilipoanza\", 'masomo', 'yangu', 'muhadhiri', 'huyo', 'alianza', 'kunizoea', 'na', 'siku', 'mmoja', 'baada', 'ya', 'darasa', 'lake', 'aliniambia', 'nimtafute', 'ili', 'aweze', 'kunipatia', 'vitabu', 'vya', 'kozi', 'ambayo', 'niliyokuwa', 'nikisoma', 'kwa', 'wakati', 'ule', '.', \"''\", 'Huwezi', 'kusikiliza', 'tena', 'Maelezo', 'ya', 'video', ',', 'BBC', 'Africa', 'Eye', ':', 'Unyanyasaji', 'wa', 'kingono', 'wa', 'wanafunzi', 'katika', 'Chuo', 'kikuu', 'cha', 'Lagos', 'na', 'Ghana', '.', 'Mary', 'alifika', 'katika', 'ofisi', 'yake', 'wakabadilishana', 'nambari', 'za', 'simu', '.', \"'Nilipokuwa\", 'katika', 'ofisi', 'yake', 'alifunga', 'mlango', 'na', 'kuteremsha', 'pazia', 'na', 'alinibembeleza', 'na', 'kunionyesha', 'nia', 'ya', 'kushiriki', 'mapenzi', 'nami', '.', 'Na', 'nilihisi', 'nililazimishwa', 'hayo', 'yote', 'ya', 'kumfurahisha', 'kimapenzi', '.', \"''Nilipoondoka\", 'katika', 'ofisi', 'ile', 'nilijihisi', 'mjinga', 'na', 'nisiye', 'na', 'maana', 'yoyote', 'kwani', 'hakunichukulia', 'kwa', 'njia', 'nzuri', \"''\", 'Mary', 'amesema', '.', 'Mary', 'ameongeza', 'kwamba', 'hakuwa', 'na', 'uwezo', 'wa', 'kukataa', 'lolote', 'kutoka', 'kwa', 'muhadhiri', 'wake', '.', 'Mary', 'amesema', 'muhadhiri', 'huyo', 'alizidi', 'kumpigia', 'simu', 'na', 'kumtumia', 'arafa', 'kwa', 'mara', 'akimtaka', 'waende', 'kupata', 'kinywaji', 'pamoja', 'lakini', 'wakati', 'huo', 'hakuweza', 'kukutana', 'na', 'muhadhiri', 'huyo', 'na', 'wiki', 'iliyofuata', 'muhadhiri', 'huyo', 'akapanga', 'safari', 'nje', 'ya', 'jiji', 'la', 'Nairobi', 'na', 'wakakutana', 'kama', 'ada', 'yao', '.', 'Hali', 'hiyo', 'ilimsababishia', 'Mary', 'kujiona', 'bure', 'na', 'hata', 'akaanza', 'kupatwa', 'na', 'msongo', 'wa', 'mawazo', 'uliosababisha', 'kujaribu', 'kujitoa', 'uhai', 'mara', 'kadhaa', 'kwani', 'hakujua', 'la', 'kufanya', '.', 'Baada', 'ya', 'yote', 'kugonga', 'mwamba', ',', 'aliamua', 'kubadili', 'kozi', 'yake', 'katika', 'chuo', 'hicho', 'hicho', 'na', 'akafanikiwa', 'kwani', 'aliogopa', 'masomo', 'yake', 'kuathirika', 'zaidi', 'kwa', 'kunyimwa', 'alama', '.', 'Mara', 'ya', 'pili', 'kwa', 'Mary', ',', 'kunyanyaswa', 'kigono', 'ilikuwa', 'alipokuwa', 'na', 'miaka', '20', 'ambapo', 'kiongozi', 'mkuu', 'mmoja', 'katika', 'chuo', 'hicho', 'alichokuwa', 'akiendelea', 'kuyapokea', 'masomo', 'yake', 'alimtaka', 'kushiriki', 'ngono', 'naye', 'na', 'alikuwa', 'akiishi', 'katika', 'nyumba', 'za', 'wafanyakazi', 'wa', 'chuo', 'hicho', '.', 'Mkuu', 'huyo', 'alikuwa', 'akimlazimisha', 'kwa', 'kupitia', 'simu', 'na', 'arafa', 'amtembelee', 'katika', 'nyumba', 'yake', 'ilikuwa', 'katika', 'eneo', 'la', 'chuo', 'hicho', '.', 'Na', 'kwa', 'mara', 'nyingine', 'alipatwa', 'na', 'msukumo', 'wa', 'kukutana', 'na', 'mkuu', 'huyo', 'lakini', 'aliepuka', 'kwa', 'mara', 'ya', 'kwanza', 'kwa', 'kukata', 'mawasiliano', 'na', 'mkuu', 'huyo', 'kwa', 'kubadilisha', 'laini', 'yake', '.', 'Maelezo', 'ya', 'picha', ',', 'Mwakilishi', 'wa', 'vijana', 'katika', 'bunge', 'la', 'Afrika', 'Mashariki', ',', 'Jilly', 'Kaunda', '``', 'Bado', 'nilizidi', 'kupitia', 'unyanysaji', 'wa', 'kingono.Nilitaka', 'kusahihishiwa', 'kazi', 'zangu', 'za', 'chuo', 'na', 'wakati', 'nilipotaka', 'usaidizi', 'kwa', 'anayehusika', 'aliniambia', 'iwapo', 'tungekutana', 'kwani', 'amekuwa', 'akinitamani', 'kwa', 'muda', 'mrefu', '.', 'Na', 'niliposema', 'ninataka', 'kutoka', 'alipatwa', 'na', 'hasira', '.', \"''\", 'amesema', 'Mary', 'Kwa', 'Mary', 'hayo', 'hayakuishia', 'hapo', 'mkuu', 'huyo', 'alizidi', 'kutuma', 'arafa', 'lakini', 'akijikakamua', 'na', 'kusema', 'hataweza', 'kutimiza', 'lengo', 'lake', '.', 'Kulingana', 'na', 'mbunge', 'anayewawakilisha', 'vijana', 'katika', 'bunge', 'la', 'Afrika', 'Mashariki', 'Jilly', 'Kaunda', 'yeye', 'pia', 'alijikuta', 'katika', 'lindi', 'hilo', 'lakini', 'aliweza', 'kumchenga', 'muhadhiri', 'wake', 'hadi', 'akasahau', 'matakwa', 'yake', '.', \"''Nilikuwa\", 'namdanganya', 'aliponiambia', 'tukutane', 'nje', 'ya', 'shule', 'nilikuwa', 'namwambia', 'tukutane', 'katika', 'maktaba', 'anakataa', '.', \"''\", 'Maelezo', 'ya', 'picha', ',', 'Mwenyekiti', 'wa', 'vyuo', 'vikuu', 'binafsi', 'nchini', 'Kenya', ',', 'Victor', 'Kiprono', 'Mwenyekiti', 'wa', 'vyuo', 'vikuu', 'binafsi', 'nchini', 'Kenya', ',', 'Victor', 'Kiprono', 'amesema', 'vijana', 'hunyanyaswa', 'kijinsia', 'kama', 'vile', 'kwa', 'wanafunzi', 'wa', 'kike', '.', 'Unyanyasaji', 'wa', 'kingono', 'hutekelezwa', 'kwa', 'njia', 'gani', '?', 'Kwa', 'vitendo', ';', 'Kumgusa', ',', 'kumbusu', ',', 'kumkubatia', 'na', 'hata', 'kujamiiana', 'bila', 'hiari', 'Maneno', ';', 'matamko', 'ya', 'matanio', ',', 'kumuuliza', 'mtu', 'kuhusiana', 'na', 'maisha', 'yake', 'ya', 'ngono', ',', 'kumlazimisha', 'mtu', 'kukutana', 'naye', 'ikiwa', 'na', 'lengo', 'la', 'kumuonyesha', 'mapenzi', '.', 'Mawasiliano', 'ya', 'kutumia', 'ishara', ';', 'kumuangalia', 'mtu', 'kwa', 'muda', 'mrefu', ',', 'simu/arafa', 'za', 'mara', 'kwa', 'mara', 'zilizo', 'na', 'mada', 'ya', 'ngono', '.', 'Viongozi', 'wa', 'wanafunzi', 'wanataka', 'katika', 'kampeni', 'yao', 'kuhakikisha', 'kila', 'mwanafunzi', 'anayejiunga', 'na', 'vyuo', 'vikuu', 'kuelimishwa', 'kuhusiana', 'na', 'visa', 'vya', 'unyanyasaji', 'wa', 'kingono', '.', 'Mafunzo', 'kwa', 'kila', 'anayehudumiwa', 'katika', 'vyuo', 'hivyo', 'kila', 'mwaka', ',', 'sheria', 'za', 'unyanyasaji', 'wa', 'kingono', 'kuimarishwa', 'na', 'kutekelezwa', '.']\n",
      "\n",
      " Number of Words:  917\n"
     ]
    }
   ],
   "source": [
    "file=\"19nov20_1.txt\"\n",
    "\n",
    "# calling the function and storing the contents in a text variable \n",
    "text = get_document(\"https://www.bbc.com/swahili/habari-50486394\")\n",
    "\n",
    "# calling the store_ document function \n",
    "store_document(doc=text,name=file)\n",
    "\n",
    "#add the words in this file to the total_corpus_words, to keep count of the number of words in the corpus\n",
    "total_corpus_words+=total_words(file)"
   ]
  },
  {
   "cell_type": "code",
   "execution_count": 41,
   "metadata": {},
   "outputs": [
    {
     "data": {
      "text/plain": [
       "166974"
      ]
     },
     "execution_count": 41,
     "metadata": {},
     "output_type": "execute_result"
    }
   ],
   "source": [
    "total_corpus_words"
   ]
  },
  {
   "cell_type": "code",
   "execution_count": 42,
   "metadata": {},
   "outputs": [
    {
     "name": "stdout",
     "output_type": "stream",
     "text": [
      "['Hatua', 'ya', 'Marekani', 'ya', 'kumpiga', 'marufuku', 'bwana', 'Amos', 'Wako', 'imechukuwa', 'sura', 'mpya', ',', 'baada', 'ya', 'tume', 'ya', 'serikali', 'ya', 'kupambana', 'na', 'ufisadi', 'maarufu', 'kama', 'EACC', 'kusema', 'kwamba', 'ilishiriki', 'kikamilifu', 'katika', 'hatua', 'hiyo', '.', 'Mkuu', 'wa', 'tume', 'ya', 'EACC', 'Daktari', 'Eliud', 'Wabukala', 'amenukuliwa', 'na', 'vyombo', 'vya', 'habari', 'nchini', 'Kenya', 'akisema', 'kuwa', 'tume', 'yake', 'imekuwa', 'msitari', 'wa', 'mbele', 'kutoa', 'habari', 'na', 'maelezo', 'kuhusu', 'ufisadi', 'kwa', 'Marekani', 'na', 'balozi', 'za', 'kigeni', '.', 'Bw', '.', 'Wabukala', 'ameashiria', 'kwamba', 'huenda', 'Wakenya', 'wengine', 'mashuhuri', 'wakakumbwa', 'na', 'hali', 'kama', 'iliyomfika', 'bwana', 'Wako', '.', 'Wadadisi', 'wa', 'mambo', 'wanasema', 'kwamba', 'huenda', 'vikwazo', 'vya', 'usafiri', 'vinavyomkumba', 'bwana', 'Wako', 'vilitokana', 'na', 'kashfa', 'ya', 'kifedha', 'ya', 'Anglo', 'Leasing', ',', 'ambayo', 'ilisababisha', 'serikali', 'ya', 'Kenya', 'kupoteza', 'mabilioni', 'ya', 'pesa', '.', 'Kashfa', 'hiyo', 'ililipuka', 'wakati', 'bwana', 'Wako', 'alipokuwa', 'akihudumu', 'kama', 'mkuu', 'wa', 'sheria', ',', 'na', 'alinyoshewa', 'kidole', 'cha', 'lawama', 'kwa', 'madai', 'ya', 'kuwa', 'kizuizi', 'katika', 'uchunguzi', 'wa', 'sakata', 'hiyo', '.', 'Mnamo', 'mwaka', 'wa', '2009', ',', 'naibu', 'wa', 'zamani', 'wa', 'waziri', 'wa', 'mashauri', 'ya', 'nje', 'wa', 'Marekani', 'Johnnie', 'Carson', ',', 'ambaye', 'alikuwa', 'anazuru', 'Kenya', ',', 'alitangaza', 'kwamba', 'Bwana', 'Wako', 'amepigwa', 'marufuku', 'kuzuru', 'Marekani', 'kwa', 'madai', 'kwamba', 'amekuwa', 'kikwazo', 'kwenye', 'vita', 'dhidi', 'ya', 'ufisadi', 'nchini', 'Kenya', '.', 'Maelezo', 'ya', 'picha', ',', 'Washington', 'inasema', 'kuwa', 'hatua', 'ya', 'vikwazo', 'dhidi', 'ya', 'Wako', 'inakusudiwa', 'kuisadia', 'Kenya', 'katika', 'vita', 'dhidi', 'ya', 'ufisadi', 'Hatua', 'ya', 'sasa', 'ya', 'kuwanyima', 'vibali', 'vya', 'kusafiri', 'bwana', 'Wako', ',', 'mkewe', 'Flora', 'Ngaira', 'na', 'mtoto', 'wake', 'wa', 'kiume', 'Julius', 'Wako', 'inamaanisha', 'kwamba', 'watatu', 'hao', 'hawawezi', 'kuzuru', 'Marekani', 'au', 'kufanya', 'biashara', 'na', 'kampuni', 'za', 'Marekani', '.', 'Hatahivyo', ',', 'bwana', 'Wako', ',', 'ambaye', 'kwa', 'sasa', 'ni', 'Senata', 'nchini', 'Kenya', ',', 'anaweza', 'kukanyaga', 'kwenye', 'ardhi', 'ya', 'Marekani', 'ila', 'tu', 'kwenye', 'makao', 'makuu', 'ya', 'Umoja', 'wa', 'Mataifa', ',', 'ingawa', 'haruhusiwi', 'kwende', 'nje', 'ya', 'mipaka', 'ya', 'makao', 'hayo', '.', 'Tume', 'ya', 'kupambana', 'na', 'ufisadi', 'nchini', 'Kenya', '(', 'EACC', ')', 'kupitia', 'kwa', 'mwenyekiti', 'wake', 'Eliud', 'Wabukala', 'ilidai', 'ilishirikiana', 'pakubwa', 'na', 'wachunguzi', 'wa', 'Marekani', 'katika', 'kuwekwa', 'kwa', 'marufuku', 'hiyo', '.', 'Washington', 'ilisema', 'kuwa', 'hatua', 'hiyo', 'inakusudiwa', 'kuisadia', 'Kenya', 'katika', 'vita', 'dhidi', 'ya', 'ufisadi', '.', 'Wadadisi', 'wanadai', 'kuwa', 'huenda', 'matatizo', 'ya', 'Bwana', 'Wako', 'yalitokana', 'na', 'sakata', 'ya', 'Anglo', 'Leasing', 'iliyohusu', 'kandarasi', 'za', 'usalama', 'zenye', 'thamani', 'ya', 'mamilioni', 'ya', 'madola', 'ambapo', 'serikali', 'ilipoteza', 'fedha', 'hizo', 'zinazoaminika', 'ziliishia', 'kufichwa', 'katika', 'mataifa', 'ya', 'nje', '.', 'Bwana', 'Wako', 'alikuwa', 'akihudumu', 'kama', 'Mwanasheria', 'mkuu', 'wakati', 'sakata', 'hiyo', 'ilipoanza', 'na', 'analaumiwa', 'kwa', 'kuwa', 'kuzuizi', 'kwa', 'uchunguzi', 'wa', 'wizi', 'huo', '.', 'Mwaka', '2009', ',', 'aliyekuwa', 'waziri', 'wa', 'mambo', 'ya', 'nje', 'wa', 'Marekani', 'Johnnie', 'Carson', ',', 'akizuru', 'Kenya', ',', 'alitangaza', 'kuwa', 'bwana', 'Wako', 'alipigwa', 'marufuku', 'ya', 'kuingia', 'nchini', 'Marekani', 'kwani', 'alionekana', 'kuwa', 'kizingiti', 'dhidi', 'ya', 'ufisadi', '.', 'Marufuku', 'hiyo', 'ilikuwa', 'ya', 'kwanza', 'kwa', 'Bwana', 'Wako', '.', 'Marufuku', 'hii', 'sasa', 'inamaanisha', 'kuwa', 'Bwana', 'Wako', 'na', 'familia', 'yake', 'ya', 'karibu', 'kando', 'na', 'kutoruhusiwa', 'kuingia', 'Marekani', 'pia', 'hawatakubaliwa', 'kufanya', 'biashara', 'yoyote', 'na', 'serikali', 'ama', 'kampuni', 'za', 'Marekani', '.', 'Hatahivyo', ',', 'Bwana', 'Wako', 'ambaye', 'anahudumu', 'kama', 'seneta', 'nchini', 'Kenya', 'bado', 'anaweza', 'kuingia', 'Marekani', 'kama', 'mgeni', 'katika', 'makao', 'makuu', 'ya', 'Umoja', 'wa', 'mataifa', '(', 'U.N', ')', 'ingawa', 'hatakuwa', 'na', 'uhuru', 'wa', 'kutembea', 'ndani', 'ya', 'Marekani', '.', 'Wako', 'alikuwa', 'mwanasheria', 'mkuu', 'wa', 'Kenya', 'kwa', 'muda', 'wa', 'miaka', '20', ',', 'kati', 'ya', 'mwaka', '1991', 'na', '2011', '.']\n",
      "\n",
      " Number of Words:  517\n"
     ]
    }
   ],
   "source": [
    "file=\"19nov20_2.txt\"\n",
    "\n",
    "# calling the function and storing the contents in a text variable \n",
    "text = get_document(\"https://www.bbc.com/swahili/habari-50485434\")\n",
    "\n",
    "# calling the store_ document function \n",
    "store_document(doc=text,name=file)\n",
    "\n",
    "#add the words in this file to the total_corpus_words, to keep count of the number of words in the corpus\n",
    "total_corpus_words+=total_words(file)"
   ]
  },
  {
   "cell_type": "code",
   "execution_count": 43,
   "metadata": {},
   "outputs": [
    {
     "data": {
      "text/plain": [
       "167491"
      ]
     },
     "execution_count": 43,
     "metadata": {},
     "output_type": "execute_result"
    }
   ],
   "source": [
    "total_corpus_words"
   ]
  },
  {
   "cell_type": "code",
   "execution_count": 44,
   "metadata": {},
   "outputs": [
    {
     "name": "stdout",
     "output_type": "stream",
     "text": [
      "['Abdinoor', 'Alimahad', ',', 'kijana', 'mhandisi', 'wa', 'mawasiliano', 'kutoka', 'jimbo', 'la', 'Kaskazini', 'Mashariki', 'ameshuhudia', 'binafsi', 'changamoto', 'za', 'watoto', 'wanaosoka', 'katika', 'jamii', 'zilizobaki', 'nyuma', 'kimaendelea', ',', 'hususan', 'katika', 'masomo', 'ya', 'lugha', '.', 'Alibuni', 'programu', 'inayoitwa', 'M-Lugha', ',', 'ambayo', 'ni', 'app', 'inayotafsiri', 'mtaala', 'wa', 'sasa', 'wa', 'masomo', 'nchini', 'Kenya', 'kutoka', 'lugha', 'ya', 'Kiingereza', 'na', 'kuiweka', 'taka', 'lugha', 'mama', '....']\n",
      "\n",
      " Number of Words:  56\n"
     ]
    }
   ],
   "source": [
    "file=\"19nov21_1.txt\"\n",
    "\n",
    "# calling the function and storing the contents in a text variable \n",
    "text = get_document(\"https://www.bbc.com/swahili/habari-50490960\")\n",
    "\n",
    "# calling the store_ document function \n",
    "store_document(doc=text,name=file)\n",
    "\n",
    "#add the words in this file to the total_corpus_words, to keep count of the number of words in the corpus\n",
    "total_corpus_words+=total_words(file)"
   ]
  },
  {
   "cell_type": "code",
   "execution_count": 45,
   "metadata": {},
   "outputs": [
    {
     "data": {
      "text/plain": [
       "167547"
      ]
     },
     "execution_count": 45,
     "metadata": {},
     "output_type": "execute_result"
    }
   ],
   "source": [
    "total_corpus_words"
   ]
  },
  {
   "cell_type": "code",
   "execution_count": 46,
   "metadata": {},
   "outputs": [
    {
     "name": "stdout",
     "output_type": "stream",
     "text": [
      "['Sky', 'News', 'imekiri', 'kuwa', 'taarifa', 'kuhusu', 'mtu', 'aliyeanguka', 'kutoka', 'kwenye', 'ndege', 'ya', 'Kenya', 'Airways', 'ilipotosha', '21', 'Novemba', '2019', 'Chanzo', 'cha', 'picha', ',', 'MET', 'POLICE', 'Maelezo', 'ya', 'picha', ',', 'Mwanaume', 'anayeaminiwa', 'kuwa', 'ni', 'Mkenya', 'na', 'ambaye', 'anakisiwa', 'kuwa', 'na', 'umri', 'wa', 'miaka', '30', 'na', 'zaidi', 'aliyeanguka', 'kutoka', 'kwenye', 'ndege', 'ya', 'Kenya', 'Airways', 'mjini', 'London', 'Wiki', 'iliyopita', 'Shirika', 'la', 'habari', 'nchini', 'Uingereza', 'Sky', 'News', 'lilionesha', 'sura', 'ya', 'mtu', 'aliyeingia', 'kwa', 'kujificha', 'kwenye', 'ndege', 'moja', 'inayomilikiwa', 'na', 'shirika', 'la', 'ndege', 'la', 'Kenya', 'Airways', ',', 'wakati', 'ikijitaharisha', 'kutua', 'katika', 'uwanja', 'wa', 'ndege', 'wa', 'Heathrow', 'mjini', 'London', ',', 'mwezi', 'Juni', '.', 'Ripoti', 'iliyotolewa', 'na', 'mwandishi', 'wa', 'habari', 'kutoka', 'Afrika', 'John', 'Sparks', ',', 'ilimtaja', 'mtu', 'huyo', 'kuwa', 'ni', 'mfanyakazi', 'wa', 'uwanja', 'wa', 'ndege', 'mjini', 'Nairobi', 'alifahamika', 'kama', 'Paul', 'Manyasi', '.', 'Hii', 'ilitokana', 'na', 'mahojiano', 'na', 'watu', 'ambao', 'walijitambulisha', 'kama', 'marafiki', ',', 'ndugu', 'na', 'wafanyakazi', 'wa', 'Paul', 'Manyasi', 'akiwemo', 'baba', 'yake', 'mzazi', '.', 'Kulingana', 'na', 'habari', 'kutoka', 'gazeti', 'la', 'Daily', 'Nation', ',', 'mtoto', 'wake', 'aliyetajwa', 'kwenye', 'ripoti', 'hiyo', 'kama', 'Shivonje', 'Isaac', 'yupo', 'hai', 'ndani', 'ya', 'rumande', 'katika', 'gereza', 'moja', 'nchini', 'Kenya', '.', 'Sky', 'News', 'imesema', 'inajutia', 'kuwa', 'ripoti', 'yake', 'iliandaliwa', 'kwa', 'kutumia', 'maelezo', 'yanayopotosha', '.', 'Shirika', 'la', 'Ndege', 'nchini', 'Kenya', 'lilikiri', 'kuwa', 'hapo', 'awali', 'inawezekana', 'kuwa', 'mtu', 'huyo', 'aliyejificha', 'alikuwa', 'ni', 'mfanyakazi', 'ndani', 'ya', 'uwanja', 'huo', 'wa', 'ndege', 'mjini', 'Nairobi', '.', 'Lakini', 'hatuna', 'ushahidi', 'wa', 'kutosha', 'kusema', 'kwamba', 'mtu', 'huyo', 'alikuwa', 'anafanya', 'kazi', 'katika', 'kampuni', 'ya', 'kufanya', 'usafi', 'ya', 'Colnet', ',', 'hivyo', 'basi', 'tunaomba', 'msamaha', 'kwa', 'kampuni', 'ya', 'Colnet', 'kwa', 'kudhania', 'mtu', 'huyo', 'alikuwa', 'mmoja', 'wa', 'wafanyakazi', 'wake', '.', 'Chanzo', 'cha', 'picha', ',', 'MET', 'POLICE', 'Maelezo', 'ya', 'picha', ',', 'Mkoba', 'huu', 'ulipatikana', 'kwenye', 'gia', 'ya', 'kutua', 'ya', 'ndege', 'ambako', 'mwanaume', 'alikuwa', 'alipodondoka', 'kutoka', 'kwenye', 'ndege', 'Tukio', 'hilo', 'lilikuwaje', '?', 'Mamlaka', 'za', 'gereza', 'ziliiambia', 'BBC', 'kuwa', 'mwanaume', 'huyo', 'ambaye', 'alioneshwa', 'kwenye', 'picha', 'ni', 'Cedric', 'Shivonje', 'Isaac', 'ambaye', 'amekuwa', 'akizuiliwa', 'tangu', 'mwezi', 'Agosti', ',', 'na', 'si', 'Paul', 'Manyasi', ',', 'ambaye', 'alitambuliwa', 'katika', 'taarifa', 'ya', 'Sky', 'News', '.', 'Uchunguzi', 'wa', 'shirika', 'la', 'habari', 'Sky', 'News', 'wiki', 'hii', 'ulionekana', 'kuthibitisha', 'sura', 'ya', 'mtu', 'huyo', '.', 'Ripoti', 'ilionesha', 'sura', 'ya', 'mwanaume', 'ambaye', 'Sky', 'News', 'iliambiwa', 'kuwa', 'alifanya', 'kazi', 'kwenye', 'kampuni', 'ya', 'usafi', 'kwenye', 'uwanja', 'wa', 'ndege', ',', 'na', 'ambaye', 'anadaiwa', 'kujificha', 'kwenye', 'eneo', 'la', 'chini', 'ya', 'gia', 'ya', 'ndege', '.', 'Lakini', 'BBC', 'sasa', 'imebaini', 'kuwa', 'mwanaume', 'aliyeonekana', 'kwenye', 'picha', 'hizo', 'yuko', 'hai', 'na', 'amekuwa', 'akishikiliwa', 'na', 'polisi', 'kwa', 'kipindi', 'cha', 'miezi', 'mitatu', 'iliyopita', '.', 'Mamlaka', 'za', 'gereza', 'zimethibitisha', 'kuwa', 'jina', 'la', 'mwanaume', 'huyo', 'ambaye', 'alionekana', 'kwenye', 'picha', 'kwenye', 'ripoti', 'ya', 'Sky', 'News', 'ni', 'Cedric', 'Shivonje', 'Isaac', '.', 'Baba', 'wa', 'mwanaume', 'huyo', 'amekana', 'kauli', 'yake', 'alipozungumza', 'na', 'mtangazaji', ',', 'na', 'sasa', 'anasisitiza', 'mtoto', 'wake', 'bado', 'yu', 'hai', '.', 'Haijajulikana', 'mkanganyiko', 'huu', 'umetokea', 'vipi', ',', 'wapelelezi', 'wanajaribu', 'kutafuta', 'uwezekano', 'kati', 'ya', 'bwana', 'Isaac', ',', 'mtu', 'aliye', 'kwenye', 'picha', 'na', 'bwana', 'Manyasi', ',', 'mwanaume', 'aliyetambuliwa', 'kwenye', 'ripoti', '.', 'Taarifa', 'hii', 'imezua', 'maswali', 'mapya', 'kuhusu', 'uwezo', 'wa', 'mamlaka', 'za', 'Kenya', 'kumbaini', 'mtu', 'aliyeingia', 'ndani', 'ya', 'ndege', 'hiyo', ',', 'ikiwa', 'miezi', 'minne', 'tangu', 'alipoanguka', 'kutoka', 'kwenye', 'ndege', 'ya', 'Kenya', 'Airways', 'kuelekea', 'kwenye', 'uwanja', 'wa', 'ndege', 'wa', 'Heathrow', 'jijini', 'London', '.']\n",
      "\n",
      " Number of Words:  503\n"
     ]
    }
   ],
   "source": [
    "file=\"19nov21_2.txt\"\n",
    "\n",
    "# calling the function and storing the contents in a text variable \n",
    "text = get_document(\"https://www.bbc.com/swahili/habari-50503788\")\n",
    "\n",
    "# calling the store_ document function \n",
    "store_document(doc=text,name=file)\n",
    "\n",
    "#add the words in this file to the total_corpus_words, to keep count of the number of words in the corpus\n",
    "total_corpus_words+=total_words(file)"
   ]
  },
  {
   "cell_type": "code",
   "execution_count": 47,
   "metadata": {},
   "outputs": [
    {
     "data": {
      "text/plain": [
       "168050"
      ]
     },
     "execution_count": 47,
     "metadata": {},
     "output_type": "execute_result"
    }
   ],
   "source": [
    "total_corpus_words"
   ]
  },
  {
   "cell_type": "code",
   "execution_count": 48,
   "metadata": {},
   "outputs": [
    {
     "name": "stdout",
     "output_type": "stream",
     "text": [
      "['Rais', 'wa', 'Kenya', 'Uhuru', 'Kenyatta', ',', 'ametuma', 'risala', 'za', 'rambi', 'rambi', 'kwa', 'familia', 'zilizoathiriwa', 'na', 'mkasa', 'huo', '.', \"''Nimepokea\", 'kwa', 'masikitiko', 'makubwa', 'taarifa', 'ya', 'mkasa', 'huu', ',', 'kwa', 'wale', 'waliojeruhiwa', 'na', 'ambao', 'wanaenelea', 'kupokea', 'matibabu', 'katika', 'hospitali', 'mbali', 'mbali', ',', 'nawaombea', 'uponyaji', 'wa', 'haraka', \"''\", 'alisema', 'rais', 'Kenyatta', '.', 'Rais', 'aidha', 'ameagiza', 'ndege', 'ya', 'kijeshi', 'kupelekwa', 'katika', 'eneo', 'hilo', 'kusaidia', 'katika', 'shughuli', 'ya', 'uokozi', 'na', 'kutoa', 'wito', 'kwa', 'mamlaka', 'katika', 'eneo', 'hilo', 'kushirikiana', 'na', 'asasi', 'za', 'usalama', 'kufanikisha', 'oparesheni', 'ya', 'uokozi', '.', 'Chifu', 'wa', 'Nyarkulia', 'Joel', 'Bulal', ',', 'amenukuliw', 'na', 'vyombo', 'vya', 'habari', 'akisema', 'kuwa', 'kuwa', 'shughuli', 'za', 'uokozi', 'zinaenedelea', 'huku', 'na', 'kuwatafuta', 'wale', 'ambao', 'hawajulikani', 'waliko', '.', 'Kamishena', 'wa', 'jimbo', 'hilo', 'Apollo', 'Okelo', 'amesema', 'watu', 'wengine', 'wengi', 'huenda', 'wamekwama', 'chini', 'ya', 'matope', 'na', 'kuongeza', 'kuwa', 'shughuli', 'ya', 'kuwaokoa', 'zinaathiriwana', 'hali', 'mbaya', 'ya', 'hewa', '.', 'Chanzo', 'cha', 'picha', ',', 'Mark', 'Meut', 'Maelezo', 'ya', 'picha', ',', 'Vijiji', 'vilivyosombwa', 'na', 'maji', 'ya', 'mafuriko', 'Hali', 'ya', 'hewa', 'imekuwa', 'mbaya', 'zaidi', '``', 'Tunajaribu', 'kutafuta', 'mahali', 'ambapo', 'daraja', 'limesombwa', 'na', 'maji', 'ya', 'mafuriko', ',', \"''\", 'alinukuliwa', 'na', 'mtando', 'wa', 'habari', 'wa', 'Standard', 'nchini', 'Kenya', '.', 'Licha', 'ya', 'tamko', 'hilo', 'la', 'bwana', 'Okello', 'baadhi', 'ya', 'wanakijiji', 'wanasema', 'kinachoendelea', 'kwa', 'sasa', 'ni', 'ndege', 'aini', 'ya', 'helikompta', 'imekuwa', 'ikizunguka', 'katika', 'eneo', 'la', 'tukio', '.', 'Shughuli', 'za', 'uchukuzi', 'zimeathirika', 'kabisa', 'katika', 'eneo', 'hilo', 'huku', 'magari', 'ya', 'usafiri', 'zaidi', 'ya', '200', 'zikikwama', '.', 'Picha', 'zinazosambazwa', 'katika', 'mitandao', 'ya', 'kijamii', 'zinaonesha', 'miti', 'iliyosombwa', 'na', 'maji', 'na', 'mingine', \"kung'olewa\", ',', 'huku', 'matope', 'yakisambaa', 'barabrani', '.', 'Katika', 'Twitter', 'yake', ',', 'Shirika', 'la', 'Msalaba', 'mwekundu', 'limethibitisha', 'ripoti', 'zinazoashiria', 'tukio', 'la', 'maporomoko', '``', 'makubwa', \"''\", 'ya', 'matope', '.', 'Chanzo', 'cha', 'picha', ',', 'Mark', 'Meut', 'Maelezo', 'ya', 'picha', ',', 'Maporomoko', 'hayo', 'yalioathiri', 'zaidi', 'vijiji', 'vya', 'Nyarkulian', 'na', 'Parua', ',', 'Kumeshuhudiwa', 'mvua', 'nyingi', 'katika', 'eneo', 'la', 'Afrika', 'Mashariki', 'na', 'upembe', 'wa', 'Afrika', 'kwa', 'wiki', 'kadhaa', 'sasa', '.', 'Kijiji', 'kizima', 'kimesombwa', 'na', 'maji', 'nchi', 'Sudan', 'Kusini', 'huku', 'visa', 'ajaliya', 'maporomoko', 'ya', 'ardhi', 'ikiripotiwa', 'Tanzania', ',', 'Ethiopia', 'na', 'Somalia', '.', 'Wanasayansi', 'wanasema', 'hali', 'mbaya', 'ya', 'hewa', 'inatarajiwa', 'kukumba', 'baadhi', 'ya', 'nchi', 'katika', 'kanda', 'hiyo', 'kwasababu', 'viwango', 'vya', 'joto', 'katika', 'bahari', 'Hindi', 'vinatarajiwa', 'kupanda', 'kupita', 'kiasi', 'cha', 'kawaida', ',', 'hali', 'ambayo', 'huenda', 'ikasababisha', 'mvua', 'kubwa', '.']\n",
      "\n",
      " Number of Words:  356\n"
     ]
    }
   ],
   "source": [
    "file=\"19nov23.txt\"\n",
    "\n",
    "# calling the function and storing the contents in a text variable \n",
    "text = get_document(\"https://www.bbc.com/swahili/habari-50530674\")\n",
    "\n",
    "# calling the store_ document function \n",
    "store_document(doc=text,name=file)\n",
    "\n",
    "#add the words in this file to the total_corpus_words, to keep count of the number of words in the corpus\n",
    "total_corpus_words+=total_words(file)"
   ]
  },
  {
   "cell_type": "code",
   "execution_count": 49,
   "metadata": {},
   "outputs": [
    {
     "data": {
      "text/plain": [
       "168406"
      ]
     },
     "execution_count": 49,
     "metadata": {},
     "output_type": "execute_result"
    }
   ],
   "source": [
    "total_corpus_words"
   ]
  },
  {
   "cell_type": "code",
   "execution_count": 50,
   "metadata": {},
   "outputs": [
    {
     "name": "stdout",
     "output_type": "stream",
     "text": [
      "['Saratani', ':', 'Joan', 'Wangari', 'apona', 'saratani', 'ya', 'kongosho', 'baada', 'ya', 'miaka', 'minane', '25', 'Novemba', '2019', 'Maelezo', 'ya', 'picha', ',', 'Saratani', 'ya', 'Kongosho', 'ni', 'nadra', 'na', 'hungunduliwa', 'baada', 'ya', 'muda', 'mrefu', 'lakini', 'kwaJoan', 'Wangari', 'alianza', 'kupata', 'dalili', 'tofauti', 'katika', 'mwili', 'wake', 'Kulingana', 'na', 'Shirika', 'la', 'afya', 'duniani', '(', 'WHO', ')', 'ugonjwa', 'wa', 'Saratani', 'umenawaua', 'watu', 'milioni', '9.6', 'kote', 'duniani', 'kila', 'mwaka', '.', 'Joan', 'Wangari', 'mwenye', 'umri', 'wa', 'miaka', '36', 'aligunduliwa', 'na', 'saratani', 'ya', 'Kongosho', 'mwaka', '2011', 'na', 'ameweza', 'kukabiliana', 'na', 'yote', 'na', 'hivi', 'sasa', 'ameambiwa', 'amepona', 'lakini', 'sasa', 'anafanyiwa', 'uchunguzi', 'iwapo', 'anaweza', 'kupatwa', 'na', 'magonjwa', 'mengine', '.', 'Saratani', 'ya', 'Kongosho', 'ni', 'nadra', 'na', 'hungunduliwa', 'baada', 'ya', 'muda', 'mrefu', 'lakini', 'kwa', 'Joan', 'alianza', 'kupata', 'dalili', 'tofauti', 'katika', 'mwili', 'wake', 'ambazo', 'hakufahamu', 'zilikuwa', 'dalili', 'za', 'satarani', 'lakini', 'alidhani', 'ni', 'dalili', 'za', 'uzio', 'akiwa', 'na', 'umri', 'wa', 'miaka', '27', '.', 'Joan', 'amesema', 'alianza', 'kujitibu', 'mwenyewe', 'kwa', 'kununua', 'dawa', 'katika', 'duka', 'la', 'dawa', 'kwani', 'amekuwa', 'akipatwa', 'na', 'uzio', 'wa', 'muashwo', 'iwapo', 'alitumia', 'sabuni', 'au', 'mafuta', 'ambayo', 'ngozi', 'yake', 'haijazoea', '.', \"'Nilikuwa\", 'siwezi', 'kulala', 'usiku', ',', 'nilikuwa', 'nasikia', 'kila', 'mahali', 'katika', 'mwili', 'wangu', 'una', 'muasho', 'hasa', 'kwa', 'mikono', 'na', 'miguu', 'nilikuwa', 'nachukua', 'hata', 'jiwe', 'najikuna', 'napita', 'kwa', 'ukuta', 'ilimradi', 'tu', 'nijikune', '.', \"''\", 'Baada', 'ya', 'muda', 'alirudi', 'hospitalini', 'na', 'kufanyiwa', 'uchunguzi', 'wa', 'damu', 'lakini', 'hakuna', 'ugonjwa', 'wowote', 'uliopatikana', 'wakati', 'ule', '.', 'Madaktari', 'wakaanza', 'kusema', 'mambo', 'tofauti', 'na', 'nikaanza', 'kutibiwa', 'ugonjwa', 'wa', 'ini', '(', 'hepatitis', 'C', ')', 'licha', 'ya', 'matibabu', 'hayo', 'muasho', 'uliendelea', '.', 'Baada', 'ya', 'kupokea', 'matibabu', 'ya', 'saratani', 'ya', 'kongosho', 'kwa', 'miaka', 'minne', 'aliweza', 'kubeba', 'uja', 'uzito', 'mwaka', '2015', 'jambo', 'ambalo', 'amelitaja', 'kama', 'la', 'muijiza', 'na', 'uja', 'uzito', 'huo', 'haukumsumbua', 'hata', 'kidogo', 'licha', 'ya', 'kuwa', 'na', 'hofu', 'kutokana', 'na', 'matibabu', 'aliyokuwa', 'akiyapitia', 'hapo', 'awali', '.', 'Safari', 'hii', 'ya', 'saratani', 'ilikuwa', 'ngumu', 'kwani', 'watu', 'walibaguliwa', 'na', 'hata', 'kumwambia', 'mume', 'wake', 'aache', 'kumuuguza', 'kwani', 'ataaga', 'dunia', 'na', 'hata', 'ilituwabidi', 'kuhama', 'nyumba', 'waliokuwa', 'wakiishi', 'na', 'kuhaimia', 'katika', 'nyumba', 'ya', 'mabanda', 'kutokana', 'na', 'gharama', 'kubwa', 'ya', 'matibabu', '.', 'Lakini', 'kwa', 'hivi', 'sasa', 'Joan', 'hapokei', 'matibabu', 'yoyote', 'ya', 'saratani', '.', 'Kulingana', 'na', 'Daktari', 'bingwa', 'wa', 'ugonjwa', 'wa', 'saratani', 'Primus', 'Ochieng', ',', 'amesema', 'Saratani', 'ya', 'Kongosha', 'huwa', 'ni', 'ngumu', 'kuigundua', 'na', 'watu', 'wengi', 'hutafuta', 'matibabu', 'ikiwa', 'tayari', 'saratani', 'hiyo', 'imesambaa', 'sana', 'kwa', 'mwili', '.', 'Watu', 'wengi', 'hutibiwa', 'kwanza', 'kama', 'wana', 'matatizo', 'ya', 'asidi', 'katika', 'tumbo', 'lao', 'na', 'sio', 'saratani', 'ndio', 'maana', 'watu', 'wengi', 'hupatwa', 'na', 'saratani', 'hii', 'ikiwa', 'katika', 'hatua', 'ya', 'nne', '.', 'Maelezo', 'ya', 'picha', ',', 'Kulingana', 'na', 'Daktari', 'Ochieng', 'watu', 'wengi', 'katika', 'miaka', 'ya', 'hivi', 'karibuni', 'wanaugua', 'magonjwa', 'ya', 'saratani', 'kuliko', 'miaka', '10', 'iliyopita', '.', 'Kulingana', 'na', 'Daktari', 'Ochieng', 'watu', 'wengi', 'katika', 'miaka', 'ya', 'hivi', 'karibuni', 'wanaugua', 'magonjwa', 'ya', 'saratani', 'kuliko', 'miaka', '10', 'iliyopita', '.', 'Mtaalamu', 'huyo', 'anasema', 'ni', 'kutokana', 'na', 'mfumo', 'wa', 'maisha', 'kubadilika', 'mfano', ';', 'Unywaji', 'wa', 'pombe', 'kupita', 'kiasi', ',', 'uvutaji', 'wa', 'sigara', ',', 'kutofanya', 'mazoezi', 'ya', 'mwili', 'na', 'vyakula', 'vilivyo', 'na', 'kemikali', 'Dkt', '.', 'Ochieng', 'amesema', 'saratani', 'inaweza', 'kujirudia', 'kutokana', 'na', 'seli', 'kwa', 'jina', 'clonogenic', 'ambazo', 'wakati', 'mwengine', 'hufa', 'wakati', 'mtu', 'anapokea', 'matibabu', 'na', 'ikawa', 'kama', 'mawe', 'na', 'miaka', 'mingi', 'baadaye', 'seli', 'hizo', 'huamka', 'tena', 'na', 'kusababisha', 'saratani', 'kuwa', 'na', 'nguviu', 'zaidi', 'kushinda', 'hapo', 'awali', '.', 'Dkt', '.', 'Ochieng', 'amesihi', 'kwamba', 'ni', 'bora', 'mtu', 'kuchunguzwa', 'kwa', 'kina', 'iwapo', 'ana', 'maumivu', 'yoyote', 'na', 'sio', 'kununu', 'a', 'dawa', 'katika', 'maduka', 'ya', 'dawa', 'na', 'kujitibu', '.', 'Kongosho', 'ni', 'sehemu', 'gani', 'ya', 'mwili', '?', 'Ni', 'sehemu', 'ya', 'mwili', 'iliyoko', 'katika', 'utumbo', 'na', 'kazi', 'yake', 'kuu', 'ni', 'kuzalisha', 'homoni', 'ya', 'Insulin', ',', 'Glucagon', 'na', 'Gastric.Gongosho', 'hudhibiti', 'kiwango', 'cha', 'sukari', 'mwilini', 'kama', 'vile', 'glucose.Kogosho', 'huwa', 'katika', 'sehemu', 'tatu', ';', 'kichwa', ',', 'mwili', 'na', 'mkia', '.']\n",
      "\n",
      " Number of Words:  584\n"
     ]
    }
   ],
   "source": [
    "file=\"19nov25_1.txt\"\n",
    "\n",
    "# calling the function and storing the contents in a text variable \n",
    "text = get_document(\"https://www.bbc.com/swahili/habari-50431283\")\n",
    "\n",
    "# calling the store_ document function \n",
    "store_document(doc=text,name=file)\n",
    "\n",
    "#add the words in this file to the total_corpus_words, to keep count of the number of words in the corpus\n",
    "total_corpus_words+=total_words(file)"
   ]
  },
  {
   "cell_type": "code",
   "execution_count": 51,
   "metadata": {},
   "outputs": [
    {
     "data": {
      "text/plain": [
       "168990"
      ]
     },
     "execution_count": 51,
     "metadata": {},
     "output_type": "execute_result"
    }
   ],
   "source": [
    "total_corpus_words"
   ]
  },
  {
   "cell_type": "code",
   "execution_count": 53,
   "metadata": {},
   "outputs": [
    {
     "name": "stdout",
     "output_type": "stream",
     "text": [
      "['Maporomoko', 'ya', 'ardhi', 'Pokot', 'Magharibi', ':', 'Idadi', 'ya', 'waliofariki', 'yafikia', '56', 'Nyumba', '22,000', 'zimeharibiwa', 'na', 'maporomoko', 'ya', 'ardhi', 'na', 'kati', 'ya', 'watu', '80,000', 'na', '120,000', 'wamesambaratika', 'au', 'kuathiriwa', 'na', 'mafuriko', 'hayo', 'Idadi', 'ya', 'watu', 'waliofariki', 'katika', 'mkasa', 'wa', 'maporomoko', 'ya', 'ardhi', 'yaliyosababishwa', 'na', 'mvua', 'kubwa', 'inayonyesha', 'katika', 'eneo', 'la', 'Pokot', 'Magharibi', 'nchini', 'Kenya', 'imepanda', 'na', 'kufikia', 'watu', '56', ',', 'amesema', 'afisa', 'wa', 'serikali', 'katika', 'eneo', 'hilo', '.', 'Idadi', 'ya', 'miili', 'ambayo', 'haijapatikana', 'ni', '22', ',', 'baada', 'ya', 'mkasa', 'huo', 'kuyakumba', 'maeneo', 'ya', 'Parua', ',', 'Nyarkulian', 'and', 'Muino', ',', 'kwa', 'mujibu', 'wa', 'Gavana', 'wa', 'jimbo', 'hilo', ',', 'Profesa', 'John', 'Lonyangapuo', '.', 'Profesa', 'Lonyangapuo', 'ameimabia', 'BBC', 'leo', 'kuwa', 'shughuli', 'ya', 'kusaka', 'na', 'kuokoa', 'miili', 'bado', 'inaendelea', '.', 'Juhudi', 'za', 'kuipata', 'na', 'kuivuta', 'miili', 'kutoka', 'kwenye', 'matope', 'zimekwmaishwa', 'na', 'usafiri', 'baada', 'ya', 'barabara', 'zinazokwenda', 'katika', 'maeneo', 'hayo', 'kuharibika', '.', 'Amesema', 'kuwa', 'nyumba', '22,000', 'zimeharibiwa', 'na', 'maporomoko', 'ya', 'ardhi', 'na', 'kati', 'ya', 'watu', '80,000', 'na', '120,000', 'wamesambaratika', 'au', 'kuathiriwa', 'na', 'mafuriko', 'hayo', '.', 'Waziri', 'wa', 'mambo', 'ya', 'ndani', 'nchini', 'Kenya', 'Fred', 'Matiang', \"'\", 'i', 'katika', 'ujumbe', 'wake', 'wa', 'Twitter', 'ameeleza', 'kuwa', 'amelazimika', 'kutua', 'kwa', 'ndege', 'katika', 'uwanja', 'wa', 'ndege', 'wa', 'Kimataifa', 'wa', 'Eldoret', 'alipokuwa', 'akielekea', 'katika', 'maeneo', 'ya', 'mkasa', 'wa', 'maporomoko', 'ya', 'ardhi', 'kutokana', 'na', 'hali', 'mbaya', 'ya', 'hewa', 'alipokuw', 'aakijaribu', 'kuelekea', 'huko', 'kuangalia', 'shughuli', 'za', 'uokoaji', ':', 'Maafisa', 'wanasema', 'kuwa', 'barabara', 'zinazounganisha', 'vijiji', 'zimeharibika', 'kutokana', 'na', 'mafuriko', 'katika', 'barabara', 'na', 'takriban', 'daraja', 'moja', 'limeripotiwa', 'kusombwa', 'na', 'maji', '.', 'Bwana', 'Lonyangapuo', '.', 'ametoa', 'wito', 'wa', 'drarura', 'kwa', 'waziri', 'wa', 'mambo', 'ya', 'ndani', 'nchini', 'humo', 'Fred', 'Matiang', \"'\", 'i', 'akimuomba', 'usaidizi', 'wa', 'helikopta', 'kwa', 'ajili', 'za', 'uokoaji', 'katika', 'maeneo', 'yaliyoathiriwa', 'na', 'maporomoko', 'ya', 'ardhi', '.', 'Siku', 'ya', 'Jumamosi', 'rais', 'wa', 'Kenya', 'Uhuru', 'Kenyatta', ',', 'alituma', 'salamu', 'za', 'rambi', 'rambi', 'kwa', 'familia', 'zilizoathiriwa', 'na', 'mkasa', 'huo', '.', \"''Nimepokea\", 'kwa', 'masikitiko', 'makubwa', 'taarifa', 'ya', 'mkasa', 'huu', ',', 'kwa', 'wale', 'waliojeruhiwa', 'na', 'ambao', 'wanaenelea', 'kupokea', 'matibabu', 'katika', 'hospitali', 'mbali', 'mbali', ',', 'nawaombea', 'uponyaji', 'wa', 'haraka', \"''\", 'alisema', 'rais', 'Kenyatta', '.', 'Rais', 'aidha', 'aaliagiza', 'ndege', 'ya', 'kijeshi', 'kupelekwa', 'katika', 'eneo', 'hilo', 'kusaidia', 'katika', 'shughuli', 'ya', 'uokozi', 'na', 'kutoa', 'wito', 'kwa', 'mamlaka', 'katika', 'eneo', 'hilo', 'kushirikiana', 'na', 'asasi', 'za', 'usalama', 'kufanikisha', 'oparesheni', 'ya', 'uokozi', '.', 'Chifu', 'wa', 'Nyarkulia', 'Joel', 'Bulal', ',', 'amenukuliw', 'na', 'vyombo', 'vya', 'habari', 'akisema', 'kuwa', 'kuwa', 'shughuli', 'za', 'uokozi', 'zinaenedelea', 'huku', 'na', 'kuwatafuta', 'wale', 'ambao', 'hawajulikani', 'waliko', '.', 'Chanzo', 'cha', 'picha', ',', 'Mark', 'Meut', 'Maelezo', 'ya', 'picha', ',', 'Juhudi', 'za', 'kuipata', 'na', 'kuivuta', 'miili', 'kutoka', 'kwenye', 'matope', 'zimekwmaishwa', 'na', 'usafiri', 'baada', 'ya', 'barabara', 'zinazokwenda', 'katika', 'maeneo', 'hayo', 'kuharibika', 'Kamishena', 'wa', 'jimbo', 'hilo', 'Apollo', 'Okelo', 'amesema', 'watu', 'wengine', 'wengi', 'huenda', 'wamekwama', 'chini', 'ya', 'matope', 'na', 'kuongeza', 'kuwa', 'shughuli', 'ya', 'kuwaokoa', 'zinaathiriwana', 'hali', 'mbaya', 'ya', 'hewa.Kumeshuhudiwa', 'mvua', 'nyingi', 'katika', 'eneo', 'la', 'Afrika', 'Mashariki', 'na', 'upembe', 'wa', 'Afrika', 'kwa', 'wiki', 'kadhaa', 'sasa', '.', 'Kijiji', 'kizima', 'kimesombwa', 'na', 'maji', 'nchi', 'Sudan', 'Kusini', 'huku', 'visa', 'ajaliya', 'maporomoko', 'ya', 'ardhi', 'ikiripotiwa', 'Tanzania', ',', 'Ethiopia', 'na', 'Somalia', '.', 'Unaweza', 'pia', 'kusoma', ':', 'Wanasayansi', 'wanasema', 'hali', 'mbaya', 'ya', 'hewa', 'inatarajiwa', 'kukumba', 'baadhi', 'ya', 'nchi', 'katika', 'kanda', 'hiyo', 'kwasababu', 'viwango', 'vya', 'joto', 'katika', 'bahari', 'Hindi', 'vinatarajiwa', 'kupanda', 'kupita', 'kiasi', 'cha', 'kawaida', ',', 'hali', 'ambayo', 'huenda', 'ikasababisha', 'mvua', 'kubwa', '.']\n",
      "\n",
      " Number of Words:  513\n"
     ]
    }
   ],
   "source": [
    "file=\"19nov25_3.txt\"\n",
    "\n",
    "# calling the function and storing the contents in a text variable \n",
    "text = get_document(\"https://www.bbc.com/swahili/habari-50542468\")\n",
    "\n",
    "# calling the store_ document function \n",
    "store_document(doc=text,name=file)\n",
    "\n",
    "#add the words in this file to the total_corpus_words, to keep count of the number of words in the corpus\n",
    "total_corpus_words+=total_words(file)"
   ]
  },
  {
   "cell_type": "code",
   "execution_count": 54,
   "metadata": {},
   "outputs": [
    {
     "data": {
      "text/plain": [
       "169503"
      ]
     },
     "execution_count": 54,
     "metadata": {},
     "output_type": "execute_result"
    }
   ],
   "source": [
    "total_corpus_words"
   ]
  },
  {
   "cell_type": "code",
   "execution_count": 55,
   "metadata": {},
   "outputs": [
    {
     "name": "stdout",
     "output_type": "stream",
     "text": [
      "['Mshambuliaji', 'wa', 'klabu', 'ya', 'malkia', 'wa', 'Vihiga', 'Jentrix', 'Shikangwa', 'ambaye', \"alinga'ra\", 'katika', 'mechi', 'hiyo', 'baada', 'ya', 'kuingia', 'kama', 'mchezaji', 'wa', 'ziada', 'na', 'kufunga', 'magoli', 'mawili', 'katika', 'kipindi', 'cha', 'pili', 'na', 'kuweka', 'idadi', 'yake', 'ya', 'mabao', 'katika', 'michuano', 'hiyo', 'kufikia', 'tisa', '.', 'Kilikuwa', 'kisasi', 'kizuri', 'kwa', 'Starlets', 'waliopoteza', '2-1', 'kwa', 'Tanzania', 'mwaka', '2016', 'katika', 'eneo', 'la', 'Gulu', ',', 'Uganda', 'mbali', 'na', 'wakati', 'mzuri', 'kwa', 'wachezaji', 'hao', 'baada', 'ya', 'kuondolewa', 'katika', 'michuano', 'ya', 'kufuzu', 'kwa', 'mashindano', 'ya', 'Olimpiki', 'ya', '2020', '.', 'Mchezaji', 'huyo', 'mahiri', 'alifunga', 'kupitia', 'mkwaju', 'wa', 'penalti', 'katika', 'dakika', 'ya', '71', 'kabla', 'ya', 'kuongeza', 'uongozi', 'huo', 'kupitia', 'kombora', 'kali', 'katika', 'dakika', 'ya', '87', '.', 'Ushindi', 'huo', 'umefanya', 'Kenya', 'kumaliza', 'michuano', 'hiyo', 'bila', 'kushindwa', 'na', 'bila', 'kufungwa', 'goli', 'katika', 'mashindano', 'hayo', '.', 'Starlets', 'ilimaliza', 'juu', 'katika', 'kundi', 'B', 'na', 'pointi', 'tisa', 'baada', 'ya', 'ushindi', 'dhidi', 'ya', 'Ethiopia', 'wa', '2-0', '.', 'ikailaza', 'Djibout', '12-0', 'na', 'Uganda', '3-0', 'kabla', 'ya', 'kuicharaza', 'Burundi', '5-0', 'katika', 'nusu', 'fainali', '.', 'Katika', 'kutafuta', 'mshindi', 'wa', 'tatu', 'Uganda', 'iliilaza', 'Burundi', '2-0', 'na', 'kuchukua', 'medali', 'ya', 'shaba', '.']\n",
      "\n",
      " Number of Words:  169\n"
     ]
    }
   ],
   "source": [
    "file=\"19nov25_4.txt\"\n",
    "\n",
    "# calling the function and storing the contents in a text variable \n",
    "text = get_document(\"https://www.bbc.com/swahili/michezo-50549627\")\n",
    "\n",
    "# calling the store_ document function \n",
    "store_document(doc=text,name=file)\n",
    "\n",
    "#add the words in this file to the total_corpus_words, to keep count of the number of words in the corpus\n",
    "total_corpus_words+=total_words(file)"
   ]
  },
  {
   "cell_type": "code",
   "execution_count": 56,
   "metadata": {},
   "outputs": [
    {
     "data": {
      "text/plain": [
       "169672"
      ]
     },
     "execution_count": 56,
     "metadata": {},
     "output_type": "execute_result"
    }
   ],
   "source": [
    "total_corpus_words"
   ]
  },
  {
   "cell_type": "code",
   "execution_count": 57,
   "metadata": {},
   "outputs": [
    {
     "name": "stdout",
     "output_type": "stream",
     "text": [
      "['Juhudi', 'za', 'kuipata', 'na', 'kuivuta', 'miili', 'kutoka', 'kwenye', 'matope', 'zimekwmaishwa', 'na', 'usafiri', 'baada', 'ya', 'barabara', 'zinazokwenda', 'katika', 'maeneo', 'hayo', 'kuharibika', '.', 'Maafisa', 'wa', 'usalama', 'wamewasili', 'katika', 'jimbo', 'la', 'Pokot', 'Magharibi', 'nchini', 'Kenya', 'kwa', 'ajili', 'ya', 'kutoa', 'msaada', 'kwa', 'waathiriwa', 'wa', 'maporomoko', 'ya', 'udongo', '.', 'Mmoja', 'wa', 'waathiriwa', 'ameiambia', 'BBC', 'leo', 'asubuhi', '.', 'Idadi', 'ya', 'watu', 'waliofariki', 'katika', 'mkasa', 'wa', 'maporomoko', 'ya', 'ardhi', 'yaliyosababishwa', 'na', 'mvua', 'kubwa', 'inayonyesha', 'katika', 'eneo', 'la', 'Pokot', 'Magharibi', 'nchini', 'Kenya', 'imefikia', 'watu', '56', ',', 'kulingana', 'na', 'afisa', 'wa', 'serikali', 'katika', 'eneo', 'hilo.', '``', 'Polisi', 'na', 'wanajeshi', 'wamefika', 'hapa', 'kwa', 'helikopta', 'kubwa', 'mbili', \"''\", ',', 'alisema', 'muathiriwa', 'Thomas', 'Ngura', 'ambaye', 'jirani', 'yake', 'alipoteza', 'watu', 'watano', 'kwenye', 'mkasa', 'huo', 'uliotokea', 'mwishoni', 'mwa', 'Juma', '.', 'Anasema', 'msaada', 'ulipatikana', 'hata', 'hivyo', 'haujatosha', ',', 'akiwa', 'na', 'matumaini', 'kuwa', 'serikali', 'itaendelea', 'kuwasaidia', 'kukabiliana', 'na', 'athari', 'za', 'maporomoko', 'ya', 'ardhi', '.', 'Unaweza', 'pia', 'kusoma', ':', 'Bwana', 'Ngura', 'amesema', 'kuwa', 'waathiriwa', 'wote', 'na', 'watu', 'ambao', 'hawana', 'makazi', 'kutokana', 'na', 'mkasa', 'wa', 'maporomoko', 'ya', 'ardhi', 'wameshauriwa', 'kuhamia', 'maeneo', 'salama', 'kama', 'vile', 'shule', 'ili', 'kuyanusuru', 'maisha', 'yao', ',', 'kufuatia', 'mvua', 'kubwa', 'inayoendelea', 'kunyesha.', '``', 'Tumeshauriwa', 'tuende', 'eneo', 'salama', 'la', 'Paroa', '...', 'watu', 'wanapofika', 'katika', 'maeneo', 'salama', 'kama', 'haya', 'wanapewa', 'chakula', ',', 'nguo', 'na', 'blanketi', \"'\", ',', 'Bwana', 'Ngura', 'ameiambia', 'BBC', 'Hata', 'hivyo', 'anasema', 'hali', 'ya', 'wasi', 'wasi', 'bado', 'imetanda', 'miongoni', 'kwa', 'wakazi', 'wa', 'West', 'Pokot', 'kutokana', 'na', 'dalili', 'za', 'kunyesha', 'kwa', 'mvua', 'zaidi', 'inayoweza', 'kusababisha', 'maafa', 'zaidi', '.', 'Chanzo', 'cha', 'picha', ',', 'Mark', 'Meut', 'Maelezo', 'ya', 'picha', ',', 'Nyumba', '22,000', 'zimeharibiwa', 'na', 'maporomoko', 'ya', 'ardhi', 'na', 'kati', 'ya', 'watu', '80,000', 'na', '120,000', 'wamesambaratika', 'au', 'kuathiriwa', 'na', 'mafuriko', 'hayo', 'Maelezo', 'zaidi', 'kuhusu', 'taarifa', 'hii', 'Idadi', 'ya', 'watu', 'waliofariki', 'kutokana', 'na', 'maporomoko', 'ya', 'ardhi', 'yaliyosababishwa', 'na', 'mvua', 'kubwa', 'inayonyesha', 'katika', 'eneo', 'la', 'Pokot', 'Magharibi', 'nchini', 'Kenya', 'imepanda', 'na', 'kufikia', 'watu', '56', ',', 'amesema', 'afisa', 'wa', 'serikali', 'katika', 'eneo', 'hilo', '.']\n",
      "\n",
      " Number of Words:  302\n"
     ]
    }
   ],
   "source": [
    "file=\"19nov26.txt\"\n",
    "\n",
    "# calling the function and storing the contents in a text variable \n",
    "text = get_document(\"https://www.bbc.com/swahili/habari-50555073\")\n",
    "\n",
    "# calling the store_ document function \n",
    "store_document(doc=text,name=file)\n",
    "\n",
    "#add the words in this file to the total_corpus_words, to keep count of the number of words in the corpus\n",
    "total_corpus_words+=total_words(file)"
   ]
  },
  {
   "cell_type": "code",
   "execution_count": 58,
   "metadata": {},
   "outputs": [
    {
     "data": {
      "text/plain": [
       "169974"
      ]
     },
     "execution_count": 58,
     "metadata": {},
     "output_type": "execute_result"
    }
   ],
   "source": [
    "total_corpus_words"
   ]
  },
  {
   "cell_type": "code",
   "execution_count": 59,
   "metadata": {},
   "outputs": [
    {
     "name": "stdout",
     "output_type": "stream",
     "text": [
      "['Phenny', 'Awiti', ':', 'Zawadi', 'ya', 'mkate', 'na', 'soda', 'ilimfanya', 'agunduliwe', 'kuwa', 'na', 'virusi', 'vya', 'Ukimwi', 'Na', 'Faith', 'Sudi', 'BBC', '27', 'Novemba', '2019', 'Chanzo', 'cha', 'picha', ',', 'Phenny', 'Awiti', 'Maelezo', 'ya', 'picha', ',', 'Phenny', 'Awiti', 'Phenny', 'Awiti', 'ni', 'muathiriwa', 'wa', 'ugonjwa', 'wa', 'ukimwi', 'kutoka', 'nchini', 'Kenya', '.', 'Ni', 'hali', 'ambayo', 'aliigundua', 'mwaka', 'wa', '2008', 'akiwa', 'katika', 'kidato', 'cha', 'pili', 'wakati', 'wa', 'programu', 'ya', 'kupimwa', 'ugonjwa', 'wa', 'ukimwi', 'shuleni', 'kwao', 'na', 'shirika', 'moja', '.', 'Kujitolea', 'kupimwa', 'damu', 'ilifuatwa', 'na', 'zawadi', 'ya', 'soda', 'na', 'mkate', 'ambao', 'ulikuwa', 'ukitolewa', 'na', 'shirika', 'hilo', 'kama', 'njia', 'ya', 'kuwafanya', 'wanafunzi', 'wengi', 'kujitolea', '.', 'Na', 'hapo', 'ndipo', 'utamu', 'wa', 'soda', 'na', 'mkate', 'ulipelekea', 'Phenny', 'kuonja', 'shubiri', 'ambayo', 'hakuitegemea', '.', '``', 'Wakati', 'huo', 'kitu', 'ambacho', 'nilifikiria', 'sana', 'ni', 'kupata', 'kula', 'mkate', 'na', 'soda', 'ambavyo', 'vilikuwa', 'vikitolewa', '.', 'Kwa', 'hivyo', 'hata', 'wakati', 'nilipokuwa', 'nashauriwa', 'Kabla', 'ya', 'kupimwa', ',', 'akilini', 'nilikuwa', 'naona', 'wananipotezea', 'wakati', 'wa', 'kupata', 'mkate', 'na', 'soda', '.', \"''\", 'Punde', 'si', 'punde', 'matokeo', 'yalikuwa', 'yametoka', 'na', 'yakaonyesha', 'kwamba', 'Phenny', 'alikuwa', 'na', 'virusi', 'vya', 'ukimwi', 'lakini', 'matokeo', 'hayo', 'hayakuwa', 'na', 'nafasi', 'akilini', 'mwa', 'Phenny', 'kwasababu', 'wakati', 'huo', 'angeweza', 'tu', 'kufikiri', 'mkate', 'na', 'soda', 'ambao', 'ulikuwa', 'kama', 'dhahabu', 'kwa', 'wanafunzi', 'waliosomea', 'shule', 'ya', 'bweni.', '``', 'Mawazo', 'ya', 'kwamba', 'nina', 'virusi', 'vya', 'ukimwi', 'yalianza', 'kunisonga', 'siku', 'chache', 'baadae', '.', 'Yaliponizidi', 'nikaamua', 'kumuelezea', 'rafiki', 'yangu', 'niliyemuamini', 'lakini', 'habari', 'kuhusu', 'hali', 'yangu', 'ukaenea', 'sana', 'hadi', 'kila', 'mtu', 'shuleni', 'akajua', 'kwamba', 'ninaugua', '.', \"''\", 'Chanzo', 'cha', 'picha', ',', 'Phenny', 'Awiti', 'Maelezo', 'ya', 'picha', ',', 'Phenny', 'Awiti', 'Hata', 'hivyo', 'kitinda', 'mimba', 'huyu', 'Kwa', 'familia', 'ya', 'watoto', 'sita', 'alistaajabu', 'kutambua', 'kwamba', 'ndugu', 'zake', 'walifahamu', 'hali', 'yake', ',', 'lakini', 'wakaliweka', 'siri', 'kwa', 'sababu', 'ambayo', 'walielezea', 'kwamba', 'walishindwa', 'kumueleza', '.', '``', 'Nilihisi', 'kwamba', 'simuamini', 'mtu', 'yeyote', 'tena', 'Kwa', 'sababu', 'nilihisi', 'na', 'nikamchukia', 'sana', 'mamangu', 'na', 'kumlaumu', 'Kwa', 'hali', 'hiyo', '.', 'Kwa', 'sababu', 'kati', 'ya', 'watoto', 'sita', ',', 'ni', 'mimi', 'pekee', 'ndiye', 'nina', 'virusi', \"''\", 'Mazingira', 'aliyokuwa', 'Phenny', 'yalimfanya', 'kuwa', 'mfungwa', 'wa', 'unyanyapaa.', '``', 'Kuna', 'wakati', 'ambapo', 'nilikuwa', 'na', 'jipu', 'kubwa', 'kwenye', 'tumbo', 'langu', 'ambalo', 'lilinisababisha', 'kushindwa', 'kutembea', 'na', 'nilipomwambia', 'mmoja', 'wa', 'viranja', 'ambaye', 'alikuwa', 'kwenye', 'zamu', 'akaniambia', 'kwamba', 'hata', 'nikahisi', 'kwamba', 'nina', 'ukimwi', 'au', 'sina', ',', 'lazima', 'Nitatembea', '.', 'Nilijikunyata', 'na', 'kutembea', 'pole', 'pole', 'hadi', 'darasani.', '``', 'Anaelezea', 'phenny', '.', 'Mbali', 'na', 'kwamba', 'alilazimika', 'kuficha', 'dawa', 'za', 'kumeza', 'kuepuka', 'aibu', 'ya', 'kuonekana', 'akimeza', 'dawa', 'za', 'kupunguza', 'makali', 'ya', 'Ukimwi', '(', 'ARV', ')', ',', 'walimu', 'pia', 'hawakumsaza.', '``', 'Kuna', 'walimu', 'ambao', 'walikuja', 'darasani', 'na', 'kuuliza', 'Phenny', 'Awiti', 'ni', 'nani', ',', 'kisha', 'wangeondoka', '...', 'Kumaanisha', 'kwamba', 'walikuwa', 'wamesikia', 'uvumi', 'na', 'walitaka', 'kujua', 'ni', 'nani', \"''\", 'Ni', 'Maisha', 'ambayo', 'alilazimika', 'kuyaishi', 'Kwa', 'zaidi', 'ya', 'miaka', 'miwili', 'hadi', 'alipokamilisha', 'masomo', '.', 'Lakini', 'ni', 'miaka', 'ambayo', 'aliyaishi', 'kwa', 'utundu.', '``', 'Nilikuwa', 'mwanafunzi', 'mwerevu', 'lakini', 'kutokana', 'na', 'jinsi', 'mazingira', 'yangu', 'yalikuwa', 'na', 'mateso', 'kiakili', 'na', 'kimwili', ',', 'nilibadilika', 'na', 'kuwa', 'mtundu', '.', 'Niliamini', 'kwamba', 'utundu', 'ungefanya', 'ugonjwa', 'kunitoweka', \"''\", 'Kama', 'wasemavyo', 'lisilobudi', 'hubidi', ',', 'Phenny', 'alianza', 'kuikubali', 'hali', 'yake', 'na', 'baada', 'ya', 'kumaliza', 'shule', 'ya', 'upili', 'alijiunga', 'na', 'masomo', 'ya', 'ziada', 'anadai', 'kwamba', 'yalimsaidia', 'hata', 'zaidi', 'kujikubali', '.', 'Chanzo', 'cha', 'picha', ',', 'Phenny', 'Awiti', 'Maelezo', 'ya', 'picha', ',', 'Phenny', 'Awiti', 'Ugonjwa', 'wa', 'ukimwi', 'husambazwa', 'Kwa', 'njia', 'ya', 'ngono', 'na', 'mtu', 'ambaye', 'ana', 'ugonjwa', 'huo', ',', 'mama', 'kwa', 'mtoto', 'anapomnyonyesha', 'na', 'Kwa', 'kutumia', 'vifaa', 'ambavyo', 'vimetumiwa', 'na', 'mgonjwa', 'wa', 'ukimwi', '.', 'Phenny', 'hata', 'hivyo', 'aliweza', 'kujipatia', 'mchumba', 'ambaye', 'alimkubali', 'na', 'hali', 'take', 'hata', 'ingawa', 'yeye', 'mwenyewe', 'hakuwa', 'muathiriwa', 'wa', 'ugonjwa', 'huo', '.', 'Kwa', 'kimombo', 'uhusiano', 'kama', 'huu', 'unajulikana', 'kama', \"'discordant\", 'couples', \"'\", '.', 'Miaka', 'chache', 'baadae', 'ndoa', 'yao', 'ilivunjika.', '``', 'Nilikutana', 'naye', 'kupitia', 'Kwa', 'rafiki', 'yangu', '.', 'Na', 'akanieleza', 'kwamba', 'ananipenda', 'licha', 'ya', 'hali', 'yangu', 'na', 'tukafanikiwa', 'kupata', 'watoto', 'wawili', 'wasio', 'na', 'ugonjwa', 'huo', ',', 'Faraja', 'na', 'Ahadi', '.', 'Mama', 'Faraja', 'anasisitiza', 'kwamba', 'ni', 'kuzingatia', 'matibabu', 'ambayo', 'yaliwawezesha', 'watoto', 'wake', 'kutoambukizwa', 'ugonjwa', '.', 'Mwaka', '2017', 'Phenny', 'alijitokeza', 'wazi', 'kuhusu', 'hali', 'yake', 'kwenye', 'mtandao', 'wa', 'Facebook', '.', '``', 'Wakati', 'mmoja', 'niliamka', 'na', 'kuhisi', 'kwamba', 'nimeçhoka', 'kushinda', 'nikielezea', 'mtu', 'mmoja', 'mmoja', 'kuhusu', 'hali', 'yangu', 'na', 'nikachapisha', 'ujumbe', 'mfupi', 'wa', 'kusema', 'kwamba', 'ninaishi', 'na', 'virusi', 'vya', 'Ukimwi.Nilikuwa', 'na', 'marafiki', 'chini', 'ya', '15', 'lakini', 'kilichonishangaza', 'ni', 'jinsi', 'ujumbe', 'huo', 'ulivyosambaa', 'kwa', 'baraka', 'na', 'kuibua', 'hisia', 'nyingi', 'kuhusu', 'ugonjwa', 'huo', '.', 'Ndipo', 'nilipopata', 'ari', 'ya', 'kuwa', 'mwanaharakati', 'wa', 'masuala', 'ya', 'Ukimwi', '``', 'Kwa', 'kutumia', 'kurasa', 'zake', 'alianza', 'kuhamasisha', 'watu', 'kuhusu', 'ugonjwa', 'wa', 'ukimwi', '.', 'Mwezi', 'uliopita', 'mama', 'Ahadi', 'aliolewa', 'na', 'mpenzi', 'wake', 'ambaye', 'pia', 'anaishi', 'na', 'virusi', 'vya', 'ukimwi', '.', 'Phenny', 'ambaye', 'aliwashangaza', 'wengi', 'baada', 'ya', 'kufichua', 'kwenye', 'mitandao', 'yake', 'ya', 'kijamii', 'kwamba', 'ni', 'mjamzito', 'na', 'anatarajia', 'kupata', 'mtoto', 'wa', 'tatu', ',', 'anadai', 'kwamba', '``', 'Ninataka', 'kuwaonesha', 'waathiriwa', 'wengine', 'kwamba', 'mtu', 'anayeishi', 'na', 'virusi', 'vya', 'Ukimwi', 'ana', 'uwezo', 'wa', 'kubeba', 'mimba', 'na', 'kuzaa', 'mtoto', 'mwenye', 'afya', \"''\", 'Lakini', 'je', 'hili', 'linawezekana', '?', 'Chanzo', 'cha', 'picha', ',', 'Getty', 'Images', 'Maelezo', 'ya', 'picha', ',', 'Virusi', 'vya', 'Ukimwi', '``', 'Awali', 'Kabla', 'hata', 'ya', 'dawa', 'za', 'kupunguza', 'makali', 'ya', 'Ukimwi', 'kubuniwa', ',', 'kina', 'mama', 'waliokuwa', 'wanaishi', 'na', 'ugonjwa', 'huo', 'waliweza', 'kujifungua', 'watoto', 'wengine', 'wakiwa', 'wameambukizwa', 'na', 'wengine', 'wakiwa', 'hawajaambukizwa', '...', 'Ina', 'maana', 'kwamba', 'maambukizi', 'hutegemea', 'viwango', 'vya', 'virusi', '.', 'Maambukizi', 'hufanyika', 'wakati', 'viwango', 'vya', 'virusi', 'viko', 'juu', '.', 'Na', 'wakati', 'mtu', 'anatumia', 'dawa', 'za', 'kupunguza', 'makali', 'ya', 'Ukimwi', ',', '(', 'ARV', ')', 'viwango', 'vya', 'virusi', 'hupungua', 'hivyo', 'kumuwezesha', 'mama', 'kumnyonyesha', 'mtoto', 'bila', 'kumuambukiza', 'virusi', 'vya', 'Ukimwi', '.', \"''\", 'Yote', 'tisa', ',', 'kumi', 'ni', 'kwamba', 'bado', 'watu', 'wengi', 'wanaougua', 'ugonjwa', 'huo', 'wananyanyapaliwa', 'katika', 'jamii', '.', '``', 'Watu', 'wengi', 'wanaamini', 'kwamba', 'njia', 'pekee', 'ya', 'mtu', 'kuambukizwa', 'ugonjwa', 'wa', 'Ukimwi', 'ni', 'kupitia', 'kwa', 'tendo', 'la', 'ndoa', 'hasa', 'kiukahaba', ',', 'lakini', 'si', 'kweli', '.', 'Kama', 'mimi', 'niliambukizwa', 'na', 'marehemu', 'mamangu', 'Lakini', 'bado', 'kuna', 'watu', 'kwenye', 'mitandao', 'ambao', 'bado', 'huniambia', 'kwamba', 'ninadanganya', 'ila', 'niliupata', 'kupitia', 'Kwa', 'ukahaba', '...', \"''\", 'Anasisitiza', 'Phenny']\n",
      "\n",
      " Number of Words:  931\n"
     ]
    }
   ],
   "source": [
    "file=\"19nov27.txt\"\n",
    "\n",
    "# calling the function and storing the contents in a text variable \n",
    "text = get_document(\"https://www.bbc.com/swahili/habari-50568953\")\n",
    "\n",
    "# calling the store_ document function \n",
    "store_document(doc=text,name=file)\n",
    "\n",
    "#add the words in this file to the total_corpus_words, to keep count of the number of words in the corpus\n",
    "total_corpus_words+=total_words(file)"
   ]
  },
  {
   "cell_type": "code",
   "execution_count": 60,
   "metadata": {},
   "outputs": [
    {
     "data": {
      "text/plain": [
       "170905"
      ]
     },
     "execution_count": 60,
     "metadata": {},
     "output_type": "execute_result"
    }
   ],
   "source": [
    "total_corpus_words"
   ]
  },
  {
   "cell_type": "code",
   "execution_count": 61,
   "metadata": {},
   "outputs": [
    {
     "name": "stdout",
     "output_type": "stream",
     "text": [
      "['Waziri', 'wa', 'maswala', 'ya', 'Kigeni', 'Tanzania', 'Paramagamba', 'Kabudi', 'awaomba', 'Wakenya', 'kuiga', 'mfano', 'wa', 'Watanzania', 'Huwezi', 'kusikiliza', 'tena', 'Waziri', 'wa', 'maswala', 'ya', 'Kigeni', 'Tanzania', 'Paramagamba', 'Kabudi', 'awaomba', 'Wakenya', 'kuiga', 'mfano', 'wa', 'Watanzania', '28', 'Novemba', '2019', 'Waziri', 'wa', 'maswala', 'ya', 'kigeni', 'nchini', 'Tanzania', 'Paramagamba', 'Kabudi', 'aliwachemsha', 'viongozi', 'wa', 'Kenya', 'wakati', 'wa', 'uzinduzi', 'wa', 'ripoti', 'ya', 'BBI', 'nchini', 'Kenya', 'akisema', 'kwamba', 'wanafaa', 'kuwaiga', 'wenzao', 'wa', 'Tanzania', 'kwa', 'kupinga', 'ukabila', '.', 'Kabudi', 'amesema', 'kwamba', 'ijapokuwa', 'Kenya', 'ni', 'taifa', 'kubwa', 'lenye', 'watu', 'wazuri', 'ukabila', 'umekuwa', 'ukiwarudisha', 'nyuma', '.', 'Amewataka', 'raia', 'wa', 'taifa', 'hilo', 'kuwa', 'na', 'Umoja', 'na', 'kufanya', 'siasa', 'za', 'mshikamo', 'na', 'maendeleo', 'badala', 'ya', 'siasa', 'za', 'kupigania', 'mamlaka', '.', 'Aliwapongeza', 'rais', 'Uhuru', 'Kenyatta', 'na', 'waziri', 'mkuu', 'wa', 'zamani', 'Raila', 'Odinga', 'kwa', 'kumaliza', 'uhasama', 'wao', 'wa', 'kisiasa', 'baada', 'ya', 'uchaguzi', 'wa', '2017', '.']\n",
      "\n",
      " Number of Words:  128\n"
     ]
    }
   ],
   "source": [
    "file=\"19nov28_1.txt\"\n",
    "\n",
    "# calling the function and storing the contents in a text variable \n",
    "text = get_document(\"https://www.bbc.com/swahili/habari-50591301\")\n",
    "\n",
    "# calling the store_ document function \n",
    "store_document(doc=text,name=file)\n",
    "\n",
    "#add the words in this file to the total_corpus_words, to keep count of the number of words in the corpus\n",
    "total_corpus_words+=total_words(file)"
   ]
  },
  {
   "cell_type": "code",
   "execution_count": 62,
   "metadata": {},
   "outputs": [
    {
     "data": {
      "text/plain": [
       "171033"
      ]
     },
     "execution_count": 62,
     "metadata": {},
     "output_type": "execute_result"
    }
   ],
   "source": [
    "total_corpus_words"
   ]
  },
  {
   "cell_type": "code",
   "execution_count": 63,
   "metadata": {},
   "outputs": [
    {
     "name": "stdout",
     "output_type": "stream",
     "text": [
      "['Orodha', 'mpya', 'ya', 'Fifa', ':', 'Kenya', 'na', 'Uganda', 'zapanda', 'Tanzania', 'yashuka', 'Majirani', 'wa', 'Kenya', 'katika', 'eneo', 'la', 'Afrika', 'mashariki', 'Tanzania', 'hatahivyo', 'wameshuka', 'nafasi', 'moja', 'chini', 'katika', 'orodha', 'hiyo', 'hadi', 'nafasi', 'ya', '134', 'kutoka', '133', 'huku', 'nayo', 'Burundi', 'ikishuka', 'nafasi', 'nane', 'chini', 'hadi', 'nafasi', 'ya', '151', '.', 'Sare', '1-1', 'dhidi', 'ya', 'Misri', 'katika', 'michuano', 'ya', 'kufuzu', 'kwa', 'kombe', 'la', 'mataifa', 'mabingwa', 'Afrika', '2021', 'imeisaidia', 'Kenya', 'kupanda', 'nafasi', 'mbili', 'juu', 'katika', 'orodha', 'mpya', 'za', 'shirika', 'hilo', 'la', 'kandanda', 'duniani', 'iliotolewa', 'siku', 'ya', 'Alhamisi', '.', 'Majirani', 'wa', 'Kenya', 'katika', 'eneo', 'la', 'Afrika', 'mashariki', 'Tanzania', 'hatahivyo', 'wameshuka', 'nafasi', 'moja', 'chini', 'katika', 'orodha', 'hiyo', 'hadi', 'nafasi', 'ya', '134', 'kutoka', '133', 'huku', 'nayo', 'Burundi', 'ikishuka', 'nafasi', 'nane', 'chini', 'hadi', 'nafasi', 'ya', '151', '.', 'Kushuka', 'kwa', 'Tanzania', 'kunajiri', 'baada', 'ya', 'taifa', 'hilo', 'kupoteza', '2-1', 'kwa', 'Libya', 'katia', 'kundi', 'J', 'Harambee', 'Stars', 'ya', 'Kenya', 'sasa', 'ipo', 'katika', 'nafasi', 'ya', '106', 'duniani', 'ikiwa', 'ni', 'nafasi', 'mbili', 'juu', 'kutoka', 'nafasi', 'ya', '108', 'ambayo', 'ilikuwa', 'ikishikilia', 'wakati', 'wa', 'orodha', 'ya', 'miwsho', 'iliofanyika', 'Oktoba', '24', '.', 'Timu', 'hiyo', 'ingepanda', 'juu', 'zaidi', 'katika', 'orodha', 'hiyo', 'iwapo', 'wangepata', 'matokeo', 'mazuri', 'dhidi', 'ya', 'Togo', 'nyumbani', 'katika', 'mechi', 'yao', 'ya', 'pili', 'ya', 'kufuzu', '.', 'Majirano', 'Uganda', 'hatahivyo', 'wamepanda', 'juu', 'nafasi', 'mbili', 'zaidi', 'hadi', 'nafasi', '77', 'na', 'inasalia', 'timu', 'inayoorodheshwa', 'juu', 'zaidi', 'huku', 'Kenya', 'ikiwa', 'ya', 'pili', '.', 'Ethiopia', 'wakati', 'huohuo', 'imepanda', 'nafasi', 'tano', 'juu', 'kufuatia', 'ushindi', 'mzuri', 'wa', '2-1', 'dhidi', 'ya', 'Ivory', 'Coast', 'mjini', 'Bahir', 'Dar', 'katika', 'mchuno', 'wa', 'kufuzu', 'na', 'sasa', 'wameorodheshwa', 'katika', 'nafasi', 'ya', '146', '.', 'Maelezo', 'ya', 'picha', ',', 'Mashabiki', 'katika', 'mojawapo', 'ya', 'mechi', 'za', 'kombe', 'la', 'mataifa', 'barani', 'Afrika', 'Senegal', 'wakati', 'huohuo', 'inasalia', 'kuwa', 'timu', 'inayoorodheshwa', 'katika', 'nafasi', 'ya', 'kwanza', 'kutoka', 'Afrika', 'huku', 'ikishikilia', 'nafasi', 'yake', 'ya', '20', 'duniani', 'huku', 'Tunisia', 'ikipanda', 'juu', 'nafasi', 'mbili', 'hadi', 'nafasi', 'ya', '27', ',', 'nafasi', 'nne', 'juu', 'ya', 'Nigeria', 'ambayo', 'pia', 'imepanda', 'nafasi', 'nne', 'juu', '.', 'Mabingwa', 'wa', 'Afrika', 'Algeria', 'wamepanda', 'nafasi', 'tatu', 'juu', 'hadi', 'katika', 'nafasi', 'ya', '35', 'na', 'sasa', 'wako', 'nambari', 'nne', 'katika', 'orodha', 'ya', 'bara', 'Afrika', 'huku', 'nayo', 'Morocco', 'ikishuka', 'hadi', 'nafasi', 'ya', 'tano', 'na', 'nambari', '43', 'kwa', 'jumla', 'duniani', '.', 'Ubelgiji', ',', 'Ufaransa', 'na', 'Brazil', 'zimeshikilia', 'nafasi', 'zao', 'katika', 'nafasi', 'tatu', 'bora', 'za', 'kwanza', 'duniani', '.']\n",
      "\n",
      " Number of Words:  354\n"
     ]
    }
   ],
   "source": [
    "file=\"19nov28_2.txt\"\n",
    "\n",
    "# calling the function and storing the contents in a text variable \n",
    "text = get_document(\"https://www.bbc.com/swahili/habari-50591303\")\n",
    "\n",
    "# calling the store_ document function \n",
    "store_document(doc=text,name=file)\n",
    "\n",
    "#add the words in this file to the total_corpus_words, to keep count of the number of words in the corpus\n",
    "total_corpus_words+=total_words(file)"
   ]
  },
  {
   "cell_type": "code",
   "execution_count": 64,
   "metadata": {},
   "outputs": [
    {
     "data": {
      "text/plain": [
       "171387"
      ]
     },
     "execution_count": 64,
     "metadata": {},
     "output_type": "execute_result"
    }
   ],
   "source": [
    "total_corpus_words"
   ]
  },
  {
   "cell_type": "code",
   "execution_count": 66,
   "metadata": {},
   "outputs": [
    {
     "name": "stdout",
     "output_type": "stream",
     "text": [
      "['Majirani', 'zangu', 'walikuwa', 'wanawatukana', 'watoto', 'wangu', '.', 'Nilikuwa', 'nashindwa', 'kuazima', 'kitu', 'chochote', 'kutoka', 'kwa', 'majirani', 'zangu', ';', 'hakuna', 'mtu', 'ambaye', 'alikuwa', 'anajali', 'kuwa', 'ninaweza', 'kuishi', 'au', 'kufa', '.', 'Walikuwa', 'hawawezi', 'kuchangia', 'maji', 'na', 'mimi', 'katika', 'kisima', '.', 'Hata', 'sasa', 'hapa', 'sio', 'nyumbani', 'kwangu', '.', 'Wananiongelea', 'sana', 'na', 'walikuwa', 'wanawapiga', 'watoto', 'wangu', 'wakiwaona', '.', 'Huwa', 'anatumia', 'muda', 'mwingi', 'kukaa', 'peke', 'yake', 'na', 'mara', 'nyingi', 'na', 'huwa', 'anapokea', 'wageni', 'mara', 'chache', '.', 'Lakini', 'Saadiya', 'anasema', 'alikuwa', 'anakubali', 'kila', 'kitu', 'ambacho', 'kilikuwa', 'kinamkuta', '.', 'Ni', 'watoto', 'wangu', 'ndio', 'nilikuwa', 'nawahofia', '.', 'Watoto', 'wangu', 'wanasoma', 'katika', 'shule', 'ya', 'msingi', 'ya', 'umma', ';', 'mtoto', 'mdogo', 'yuko', 'shule', 'ya', 'awali', '.', 'Lakini', 'walifukuzwa', 'kuhudhuria', 'masomo', 'ya', 'dini', 'na', 'wanakijiji', '.', 'Hata', 'watoto', 'wa', 'jirani', 'yangu', 'walikuwa', 'wananitukana', 'sana', 'kila', 'siku', 'kutokana', 'na', 'kile', 'ambacho', 'huwa', 'wanasikia', 'kutoka', 'kwa', 'wazazi', 'na', 'jamii', 'inayonizunguka', '.', 'Lakini', 'nashukuru', 'kwamba', 'bado', 'wanaruhusiwa', 'kwenda', 'shule', '.', 'Chanzo', 'cha', 'picha', ',', 'Getty', 'Images', 'Maelezo', 'ya', 'picha', ',', 'Jamal', 'pia', 'ana', 'virusi', 'vya', 'ukimwi', 'Jamal', 'pia', 'ana', 'virusi', 'vya', 'ukimwi', '.', 'Yeye', 'anaishi', 'mjini', 'Wajir', 'na', 'yeye', 'alikuwa', 'anakumbana', 'na', 'ubaguzi', 'kutokana', 'na', 'hali', 'yake', '.', 'Sehemu', 'ya', 'kwanza', 'niliyoishi', 'wakati', 'nilipooa', ',', 'nilifukuzwa', '.', 'Walinifukuza', 'hata', 'nyumba', 'niliyoamia', 'baada', 'ya', 'ile', '.', 'Baada', 'ya', 'miezi', 'miwili', 'au', 'mitatu', 'baada', 'ya', 'kuhamia', 'nyumba', 'mpya', ',', 'habari', 'kuhusu', 'mimi', 'zilisambaa', 'kutoka', 'kwa', 'watu', 'ambao', 'walikuwa', 'wananijua', 'kabla', 'kuhusu', 'hali', 'yangu', '.', 'Taarifa', 'zikamfikia', 'mwenye', 'nyumba', 'na', 'kunifukuza', '.', 'Nilifukuzwa', 'kwa', 'sababu', 'ya', 'hali', 'yangu', 'ya', 'afya', '.', 'Siwezi', 'kumuomba', 'mtu', 'kitu', 'chochote', ',', 'si', 'chakula', 'wala', 'malazi', 'yani', 'si', 'kwa', 'chochote', '.', 'Yani', 'hawataki', 'kusikia', 'hilo', 'neno', 'ukimwi', ',', 'ninalipa', 'kodi', 'lakini', 'walikuwa', 'hawataki', 'hata', 'pesa', 'yangu', '.', 'Jamal', 'alilazimishwa', 'kukonda', '.', 'Alipoteza', 'marafiki', 'zake', 'na', 'familia', 'yake', 'mara', 'tu', 'walipogundua', 'kuwa', 'ana', 'virusi', 'vya', 'ukimwi', '.', 'Takwimu', 'za', 'hivi', 'karibuni', 'zinaonyesha', 'kuwa', 'idadi', 'ya', 'watu', 'ambao', 'wana', 'virusi', 'vya', 'ukimwi', 'nchini', 'Kenya', ',', 'kuna', 'maambukizi', 'mapya', 'takribani', '52', '000', 'kwa', 'watu', 'rika', 'zote', '.', 'Hii', 'ikijumuisha', 'maambukizi', 'mapya', 'yapatayo', '44000', 'ya', 'vijana', 'wenye', 'umri', 'wa', 'kati', 'ya', 'miaka', '15', 'mpaka', '49', '.', 'Maambukizi', 'ya', 'watoto', 'wadogo', 'chini', 'ya', 'miaka', '14', 'yalikuwa', 'chini', 'ya', '8000', 'mwaka', 'jana', '.', 'Licha', 'ya', 'kuwa', 'Wajir', 'kuwa', 'eneo', 'lenye', 'watu', 'wengi', 'nchini', 'humo', ',', 'bado', 'rekodi', 'zinaonyesha', 'kuwa', 'kiwango', 'cha', 'maambukizi', 'iko', 'chini', 'kwa', '0.2', '%', '.', 'Ingawa', 'kuna', 'hofu', 'kuwa', 'inawezekana', 'kuna', 'watu', 'wameathirika', 'lakini', 'wanshindwa', 'kujitokeza', 'kwa', 'kuogopa', 'unyanyapaa', 'ambao', 'umetawala', 'katika', 'eneo', 'hilo', '.', 'Mawasiliano', 'yameongezeka', 'na', 'maambukizi', 'ya', 'virusi', 'vya', 'ukimwi', 'yameongezekan', '.', 'Kuna', 'watu', 'wengi', 'ambao', 'hawajapima', 'na', 'tumewaona', ',', 'kwa', 'mfano', 'mwezi', 'huu', 'tu', 'tuna', 'rekodi', 'ya', 'maambukizi', 'mapya', 'ya', 'watu', 'nane', '.', 'Hivyo', 'ukimwi', 'upo', 'katika', 'jamii', 'hii', 'lakini', 'unyanyapa', 'unawafanya', 'watu', 'wasiende', 'kujua', 'hali', 'zao', '.', 'Uzinzi', 'umekatazwa', 'katika', 'kitabu', 'kitakatifu', 'cha', 'Quran', '.', 'Katika', 'jumuiya', 'ya', 'kiislamu', ',', 'waislamu', 'wanahofia', 'kuwa', 'kama', 'wakienda', 'kupima', 'virusi', 'vya', 'uimwina', 'ndugu', 'zao', 'wakawaona', ',', 'watahusisha', 'kuwa', 'wamefanya', 'uzinzi', 'na', 'unyanyapaa', 'utakuja', 'na', 'jamii', 'kuwatenga', '.', 'Watu', 'wachache', 'ambao', 'wameweza', 'kuzungumza', 'mbele', 'za', 'watu', 'kuhusu', 'hali', 'zao', 'na', 'kuchukua', 'jitihada', 'za', 'kuelimisha', 'watu', 'kuhusu', 'virusi', 'vya', 'ukimi', '.']\n",
      "\n",
      " Number of Words:  505\n"
     ]
    }
   ],
   "source": [
    "file=\"19dec1_1.txt\"\n",
    "\n",
    "# calling the function and storing the contents in a text variable \n",
    "text = get_document(\"https://www.bbc.com/swahili/50575129\")\n",
    "\n",
    "# calling the store_ document function \n",
    "store_document(doc=text,name=file)\n",
    "\n",
    "#add the words in this file to the total_corpus_words, to keep count of the number of words in the corpus\n",
    "total_corpus_words+=total_words(file)"
   ]
  },
  {
   "cell_type": "code",
   "execution_count": 67,
   "metadata": {},
   "outputs": [
    {
     "data": {
      "text/plain": [
       "171892"
      ]
     },
     "execution_count": 67,
     "metadata": {},
     "output_type": "execute_result"
    }
   ],
   "source": [
    "total_corpus_words"
   ]
  },
  {
   "cell_type": "code",
   "execution_count": 68,
   "metadata": {},
   "outputs": [
    {
     "name": "stdout",
     "output_type": "stream",
     "text": [
      "['Stanley', 'Ngara', ':', 'Mfalme', 'wa', 'kondomu', 'wa', 'Kenya', 'anayekabiliana', 'na', 'maambukizi', 'ya', 'Ukimwi', '1', 'Disemba', '2019', 'Chanzo', 'cha', 'picha', ',', 'EPA', 'Maelezo', 'ya', 'picha', ',', 'Stanley', 'Ngara', 'maarufu', 'mfalme', 'wa', 'Kondomu', 'amekuwa', 'akisambaza', 'mipira', 'ya', 'kondomu', 'katika', 'jiji', 'la', 'Nairobi', 'Stanley', 'Ngara', ',', 'anayefahamika', 'kwa', 'jina', 'maarufu', 'kama', 'mfalme', 'wa', 'kondomu', 'wa', 'Kenya', ',', 'amekuwa', 'akisambaza', 'mipira', 'ya', 'kondomu', 'katika', 'jiji', 'la', 'Nairobi', ',', 'kwa', 'lengo', 'la', 'kuhamasisha', 'watu', 'umuhimu', 'wa', 'kujikinga', 'dhidi', 'ya', 'maambukizi', 'ya', 'virusi', 'vya', 'ukimwi', '(', 'VVU', ')', '.', 'Leo', 'ulimwengu', 'unapoadhimisha', 'siku', 'ya', 'Ukimwi', 'dunini', ',', 'shirika', 'la', 'habari', 'la', 'EPA', 'linaripoti', 'kuhusu', 'mfalme', 'huyu', 'wa', 'aina', 'yake', '.', 'Chanzo', 'cha', 'picha', ',', 'EPA', 'Maelezo', 'ya', 'picha', ',', 'Stanley', 'Ngara', 'maarufu', 'mfalme', 'wa', 'Kondomu', '``', 'Mipira', 'ya', 'kondomu', 'imehusishwa', 'na', 'uasherati', 'kwa', 'sababu', 'watu', 'hufikiria', 'kuwa', 'mtu', 'akiwa', 'ameathirika', 'na', 'ugonjwa', 'huo', 'basi', 'yeye', 'ni', 'kahaba', 'au', 'anashiriki', 'ngono', 'na', 'zaidi', 'ya', 'mtu', 'mmoja', ',', \"''\", 'aliliambia', 'shirika', 'la', 'habari', 'la', 'Bloomberg', 'agency', '.', 'Mfalme', 'huyo', 'anajaribu', 'kukabiliana', 'na', 'dhana', 'hiyo', 'potofu', 'inayosababisha', 'unyanyapaa', '.', 'Chanzo', 'cha', 'picha', ',', 'EPA', 'Maelezo', 'ya', 'picha', ',', 'Stanley', 'Ngara', ',', 'amekuwa', 'akitumia', 'nafasi', 'ya', 'kusambaza', 'mipira', 'ya', 'kondomu', 'jijini', 'kuhamasisha', 'umuhimu', 'wa', 'watu', 'kijikinga', 'dhidi', 'ya', 'maambukizi', 'ya', 'HIV', 'Akishirikiana', 'na', 'washika', 'dau', 'wengine', 'Bw', ',', 'Ngara', 'huzungumzia', 'maambukizi', 'ya', 'VVU', 'na', 'Ukimwi', ',', 'suala', 'ambalo', 'anasema', 'bado', 'halizungumziwi', 'hadharani', '.', '``', 'Kenya', 'inahitaji', 'wafalme', 'na', 'malkia', 'wengi', 'zaidi', 'wa', 'mipira', 'ya', 'kondomu', ',', \"''\", 'mwanaharakati', 'huyo', 'wa', 'mika', '47-aliiambia', 'shirika', 'la', 'habari', 'la', 'EPA', '.', 'Chanzo', 'cha', 'picha', ',', 'EPA', 'Maelezo', 'ya', 'picha', ',', '``', 'Kenya', 'inahitaji', 'wafalme', 'na', 'malkia', 'wengi', 'zaidi', 'wa', 'mipira', 'ya', 'kondomu', ',', \"''\", 'Umoja', 'wa', 'mataifa', 'unasema', 'kuwa', 'karibu', 'watu', 'milioni', '1.6', 'nchini', 'Kenya', 'wanaishi', 'na', 'virusi', 'vya', 'ukimwi', 'tangu', 'mwaka', '2018', 'huku', 'wengine', '25,000', 'walifariki', 'kutokana', 'na', 'magonjwa', 'yanayohusiana', 'na', 'Ukimwi', '.', 'Huwezi', 'kusikiliza', 'tena', 'Maelezo', 'ya', 'video', ',', 'Tumetoka', 'wapi', 'na', 'tunaelekea', 'wapi', 'katika', 'mapambano', 'ya', 'Ukimwi', 'Japo', 'hatua', 'kubwa', 'imepigwa', 'kukabiliana', 'na', 'ugonjwa', 'huo', 'katika', 'miaka', 'ya', 'hivi', 'karibuni', ',', 'suala', 'la', 'unyanyapaa', 'dhidi', 'ya', 'ugonjwa', 'huo', 'zinalemaza', 'juhudi', 'za', 'kudhuibiti', 'maambukizi', ',', 'mkuu', 'wa', 'UNAids', 'Winnie', 'Byanyimaa', 'aliiambia', 'BBC', '.', 'Stanley', 'Ngara', ':', 'Mfalme', 'wa', 'Kondomu', 'wa', 'Kenya', 'anayekabiliana', 'na', 'maambukizi', 'ya', 'Ukimwi', '``', 'Tunahofia', 'huenda', 'tukapoteza', 'mapambano', 'dhidi', 'ya', 'unyanyapaa', ',', 'kwa', 'sababu', 'vijana', 'ambao', 'wamepatikana', 'na', 'virusi', 'vya', 'ukimwi-hawajitokezi', 'kutafuta', 'matibabu', 'kwa', 'kuhofia', 'kuhukumiwa…', 'kwasababu', 'UKIMWI', 'bado', 'inachukuliwa', 'kama', 'dhambi', ',', 'alisema', '.']\n",
      "\n",
      " Number of Words:  397\n"
     ]
    }
   ],
   "source": [
    "file=\"19dec1_2.txt\"\n",
    "\n",
    "# calling the function and storing the contents in a text variable \n",
    "text = get_document(\"https://www.bbc.com/swahili/habari-50620639\")\n",
    "\n",
    "# calling the store_ document function \n",
    "store_document(doc=text,name=file)\n",
    "\n",
    "#add the words in this file to the total_corpus_words, to keep count of the number of words in the corpus\n",
    "total_corpus_words+=total_words(file)"
   ]
  },
  {
   "cell_type": "code",
   "execution_count": 69,
   "metadata": {},
   "outputs": [
    {
     "data": {
      "text/plain": [
       "172289"
      ]
     },
     "execution_count": 69,
     "metadata": {},
     "output_type": "execute_result"
    }
   ],
   "source": [
    "total_corpus_words"
   ]
  },
  {
   "cell_type": "code",
   "execution_count": 70,
   "metadata": {},
   "outputs": [
    {
     "name": "stdout",
     "output_type": "stream",
     "text": [
      "['Jinsi', 'mvua', 'kubwa', 'zinavyohatirisha', 'usalama', 'wa', 'watu', 'na', 'mali', 'Afrika', 'Mashariki', 'Huwezi', 'kusikiliza', 'tena', 'Jinsi', 'mvua', 'kubwa', 'zinavyohatirisha', 'usalama', 'wa', 'watu', 'na', 'mali', 'Afrika', 'Mashariki', '2', 'Disemba', '2019', 'Mafuriko', 'makubwa', 'yameathiri', 'maeneo', 'mengi', 'ya', 'nchi', 'za', 'Afrika', 'Mashariki', 'zikiwemo', ';', 'Somalia', ',', 'Kenya', ',', 'Sudan', 'Kusini', ',', 'Ethiopia', 'na', 'hata', 'Jamuhuri', 'ya', 'Kidemokrasia', 'ya', 'Kongo', 'baada', 'ya', 'mvua', 'kubwa', 'iliyonyesha', 'kwa', 'kipindi', 'cha', 'miezi', 'miwili', '.', 'Umoja', 'wa', 'Mataifa', '(', 'UN', ')', 'umesema', 'kuwa', 'mamia', 'ya', 'watu', 'wamekufa', 'na', 'maelfu', 'kukosa', 'makazi', '.']\n",
      "\n",
      " Number of Words:  83\n"
     ]
    }
   ],
   "source": [
    "file=\"19dec2.txt\"\n",
    "\n",
    "# calling the function and storing the contents in a text variable \n",
    "text = get_document(\"https://www.bbc.com/swahili/habari-50625869\")\n",
    "\n",
    "# calling the store_ document function \n",
    "store_document(doc=text,name=file)\n",
    "\n",
    "#add the words in this file to the total_corpus_words, to keep count of the number of words in the corpus\n",
    "total_corpus_words+=total_words(file)"
   ]
  },
  {
   "cell_type": "code",
   "execution_count": 71,
   "metadata": {},
   "outputs": [
    {
     "data": {
      "text/plain": [
       "172372"
      ]
     },
     "execution_count": 71,
     "metadata": {},
     "output_type": "execute_result"
    }
   ],
   "source": [
    "total_corpus_words"
   ]
  },
  {
   "cell_type": "code",
   "execution_count": 72,
   "metadata": {},
   "outputs": [
    {
     "name": "stdout",
     "output_type": "stream",
     "text": [
      "['Waziri', 'wa', 'maswala', 'ya', 'Kigeni', 'Tanzania', 'Paramagamba', 'Kabudi', 'awataka', 'Wakenya', 'kuiga', 'mfano', 'wa', 'Wat', 'Chanzo', 'cha', 'picha', ',', 'Getty', 'Images', 'Maelezo', 'ya', 'picha', ',', 'Maamkuzi', 'ya', 'handshake', 'kati', 'ya', 'rais', 'Uhuru', 'Kenyatta', '(', 'kushoto', ')', 'na', 'Raila', 'Odinga', '(', 'kulia', ')', 'yalisitisha', 'mkwamo', 'wa', 'kisiasa', 'Hatua', 'hiyo', 'ilimaliza', 'wasiwasi', 'wa', 'miezi', 'kadhaa', 'kufuatia', 'uchaguzi', 'uliokumbwa', 'na', 'utata', ',', 'ambao', 'mara', 'kwa', 'mara', 'husababisha', 'migawanyiko', 'na', 'kusababisha', 'ghasia', 'nchini', 'Kenya', '.', 'Viongozi', 'hao', 'wawili', 'walikubaliana', 'kuunda', 'kamati', 'itakayotafuta', 'njia', 'ya', 'kumaliza', 'hali', 'hiyo', 'ya', 'ukosefu', 'wa', 'uthabiti', '.', 'Jopo', 'hilo', 'lililojulikana', 'kama', 'Building', 'Bridges', 'Initiative', 'BBI', 'lilipaswa', 'kuangazia', 'maswala', 'tisa', 'ikiwemo', 'ukabila', ',', 'ufisadi', 'na', 'ugatuzi', '-', 'ikiwa', 'ni', 'miongoni', 'mwa', 'changamoto', 'kuu', 'tangu', 'taifa', 'hilo', 'lilijipatie', 'Uhuru', 'mwaka', '1963', '.', \"'Kuwafunza\", 'wazazi', \"'\", 'Baada', 'ya', 'miezi', '18', 'ya', 'kutembea', 'ndani', 'ya', 'taifa', 'hilo', 'la', 'Afrika', 'mashariki', ',', 'Jopo', 'hilo', 'la', 'BBI', 'hatimaye', 'limewasilisha', 'matokeo', 'yake', 'na', 'kupongezwa', 'sana', '.', 'Bwana', 'Odinga', 'aliwaambia', 'wale', 'waliokongamana', 'katika', 'uzinduzi', 'wake', 'kwamba', 'kabla', 'ya', 'mchakato', 'huo', 'kuanza', ',', 'taifa', 'hilo', 'lilikuwa', 'katika', 'hatari', 'ya', 'kutumbukia', 'katika', 'ghasia', '.', \"'Saa\", 'nyingi', 'za', 'kufanya', 'kazi', \"'\", 'Baadhi', 'ya', 'wakosoaji', 'wanasema', 'kwamba', 'baada', 'ya', 'uchaguzi', 'wa', 'mwaka', '2007', ',', 'kuikuwa', 'na', 'ripoti', 'tofauti', 'na', 'kamati', 'ambazo', 'ziliangazia', 'sababu', 'ya', 'ghasia', 'hizo', 'ambazo', 'zilitokana', 'na', 'upeanaji', 'wa', 'ardhi', 'na', 'uhalifu', 'mwengine', 'wa', 'kiuchumi', 'pamoja', 'na', 'unyanyasaji', 'wa', 'haki', 'za', 'kibinadamu', '.', 'Chanzo', 'cha', 'picha', ',', 'Getty', 'Images', 'Maelezo', 'ya', 'picha', ',', 'Wafanyakazi', 'wa', 'Kenya', 'kama', 'wale', 'wa', 'mabawabu', 'kutoka', 'seta', 'ya', 'kibinafsi', ',', 'hufanya', 'kazi', 'kwa', 'saa', 'nyingi', 'licha', 'ya', 'kupata', 'mishahara', 'duni', 'Kwa', 'nini', 'tusizitoe', 'faili', 'hizo', 'badala', 'ya', 'kutumia', 'fedha', 'ambazo', 'kulingana', 'na', 'mbunge', 'Patrick', 'Munene', 'zitagharimu', 'takriban', 'bilioni', '10', 'za', 'Kenya', 'ili', 'kuziangazia', '.', 'Ripoti', 'hiyo', 'inajiri', 'wakati', 'ambapo', 'serikali', 'inakabiliwa', 'na', 'changamoto', 'ya', 'kifedha', '-', 'baada', 'ya', 'waziri', 'wa', 'fedha', 'kuweka', 'mikakati', 'ya', 'kuzuia', 'matumizi', 'zaidi', 'serikalini', '.', 'Niliguswa', 'sana', 'na', 'matamshi', 'ya', 'bawabu', 'mmoja', 'siku', 'ambayo', 'ripoti', 'hiyo', 'ilitolewa', '.', 'Aliniuliza', 'kuhusu', 'yaliomo', 'na', 'nikamuelezea', 'kwa', 'kifupi', '.', 'Baadaye', 'alilalamika', 'kwamba', 'kile', 'ambacho', 'alikuwa', 'amesikia', 'kufikia', 'sasa', 'hakijaangazia', 'changamoto', 'anazokumbana', 'nazo', '-', 'masaa', 'marefu', 'ya', 'kufanya', 'kazi', '{', 'saa', '12', ',', 'siku', 'sita', 'kwa', 'wiki', 'na', 'mshahara', 'duni', 'katika', 'kazi', 'ambapo', 'mshahara', 'wa', 'chini', 'ni', 'dola', '131', 'mfanyakazi', 'hathaminiwi', 'na', 'hupigwa', 'faini', 'kwa', 'kukosa', 'kuripoti', 'kazi', 'hata', 'iwapo', 'wewe', 'ni', 'mgonjwa', ',', 'alitumai', 'kwamba', 'ripoti', 'hiyo', 'itaangazia', 'hali', 'yake', 'ya', 'kikazi', 'mbali', 'na', 'ile', 'ya', 'maelfu', 'ya', 'wenzake', 'katika', 'sekta', 'ya', 'usalama', '.', 'Je', 'upinzani', 'unasmaje', '?', 'Wakati', 'wa', 'uzinduzi', 'wa', 'ripoti', 'hiyo', 'wengine', 'waliwachwa', 'midomo', 'wazi', 'wakihoji', 'kuhusu', 'hali', 'ya', 'kidemokrasia', 'nchini', 'Kenya', '.', 'Rais', 'alionekana', 'akijihusisha', 'sana', 'na', 'waziri', 'mkuu', 'Raila', 'Odinga', 'zaidi', 'ya', 'wanachama', 'wa', 'chama', 'chake', 'hatua', 'inayozua', 'maswali', 'ya', 'iwapo', 'upinzani', 'wa', 'Kenya', 'umepoteza', 'sauti', 'yake', '.', 'Chanzo', 'cha', 'picha', ',', 'AFP', 'Maelezo', 'ya', 'picha', ',', 'Ripoti', 'ya', 'BBI', 'ilizinduliwa', 'kufuatia', 'hisia', 'tofauti', 'Katika', 'mwaka', 'uliojaa', 'ufichuzi', 'kuhusu', 'maswala', 'ya', 'kifisadi', 'katika', 'sekta', 'ya', 'umma', ',', 'upinzani', 'tangu', 'maamkuzi', 'hayo', 'ya', 'kihistoria', ',', 'ulionekana', 'kusahau', 'majukumu', 'yake', 'ya', 'kuiweka', 'serikali', 'katika', 'ratili', '.', 'Kwa', 'mfano', 'umeendelea', 'kunyamaza', 'kuhusu', 'kashfa', 'kama', 'ile', 'iliogunduliwa', 'na', 'gavana', 'wa', 'benki', 'kuu', ',', 'ambaye', 'aliwashutumu', 'maafisa', 'wa', 'zamani', 'wa', 'benki', 'hiyo', 'kwa', 'kutumia', 'miujiza', 'ili', 'kupotosha', 'kuhusu', 'matumizi', 'ya', 'serikali', '.', 'Wakati', 'jaji', 'mkuu', 'aliposhutumu', 'serikali', 'mapema', 'mwaka', 'huu', 'kwa', 'kujaribu', 'kulemaza', 'idara', 'ya', 'mahakama', ',', 'kupitia', 'kukata', 'matumizi', 'yake', ',', 'kutosikika', 'kwa', 'sauti', 'ya', 'upinzani', 'kuliwashangaza', 'wengi', '.', 'Katika', 'wakati', 'ambapo', 'hifadhi', 'ya', 'damu', 'inakabiliwa', 'na', 'uhaba', '-', 'kukiwa', 'na', 'madai', 'kwamba', 'damu', 'inauzwa', 'kwengineko', ',', 'wanasiasa', 'wanaonekana', 'kutoingilia', 'kati', 'swala', 'kama', 'hilo', 'ili', 'kuchunguza', '.', 'Maelezo', 'zaidi', 'kuhusu', 'taarifa', 'hii', 'Rais', 'aliyechaguliwa', 'na', 'wengi', 'atahitaji', 'washirika', 'wangi', 'bungeni', 'kuhakikisha', 'kwamba', 'kuna', 'upitishwaji', 'wa', 'haraka', 'wa', 'miswada', 'mbali', 'na', 'kuidhinisha', 'maswala', 'muhimu', 'ya', 'biashara', 'za', 'serikali', 'iwapo', 'mapendekezo', 'ya', 'BBI', 'yatakubalika', '.']\n",
      "\n",
      " Number of Words:  620\n"
     ]
    }
   ],
   "source": [
    "file=\"19dec3_1.txt\"\n",
    "\n",
    "# calling the function and storing the contents in a text variable \n",
    "text = get_document(\"https://www.bbc.com/swahili/habari-50631202\")\n",
    "\n",
    "# calling the store_ document function \n",
    "store_document(doc=text,name=file)\n",
    "\n",
    "#add the words in this file to the total_corpus_words, to keep count of the number of words in the corpus\n",
    "total_corpus_words+=total_words(file)"
   ]
  },
  {
   "cell_type": "code",
   "execution_count": 73,
   "metadata": {},
   "outputs": [
    {
     "data": {
      "text/plain": [
       "172992"
      ]
     },
     "execution_count": 73,
     "metadata": {},
     "output_type": "execute_result"
    }
   ],
   "source": [
    "total_corpus_words"
   ]
  },
  {
   "cell_type": "code",
   "execution_count": 74,
   "metadata": {},
   "outputs": [
    {
     "name": "stdout",
     "output_type": "stream",
     "text": [
      "['Zaidi', 'ya', 'watu', '250', 'wameuawa', 'na', 'wengine', 'milioni', 'kuathiriwa', 'na', 'mafuriko', 'na', 'maporomoko', 'katika', 'eneo', 'lote', 'la', 'Afrika', 'mashariki', '.', 'Takriban', 'nusu', 'ya', 'vifo', '120', 'vimetokea', 'nchini', 'Kenya', 'huku', 'zaidi', 'ya', 'watu', '160,000', 'wakiathiriwa', '.', 'Bwana', 'Musila', 'anasema', 'kwamba', 'mafuriko', 'hayo', 'yalianza', 'ghafla', 'kutoka', 'katika', 'eneo', 'moja', 'lililiopo', 'katikati', 'ya', 'mto', 'huo', ',', 'nje', 'ya', 'mji', 'wa', 'Thika', '.', \"''Sekunde\", 'chache', 'baadaye', 'kulikuwa', 'na', 'maji', 'kila', 'mahali', 'nikashindwa', 'kuvuka', \"''\", '.', \"''Hali\", 'imekuwa', 'mbaya', 'katika', 'kipindi', 'cha', 'siku', 'tatu', 'katikati', 'baridi', 'na', 'mvua', '.', 'Nilikuwa', 'na', 'njaa', 'na', 'nilifikwa', 'na', 'mambo', 'mengi', \"''\", '.', 'Chanzo', 'cha', 'picha', ',', 'NTV', 'Kenya', 'Maelezo', 'ya', 'picha', ',', 'Chakula', 'cha', 'kwanza', 'cha', 'Vincent', 'Musila', 'baada', 'ya', 'siku', 'tatu', '``', 'Kulikuwa', 'na', 'mbu', 'chungu', 'nzima', 'na', 'nilikuwa', 'nikiogopa', 'wanyama', 'kama', 'vile', 'mamba', 'na', 'kiboko', '.', 'lakini', 'nafurahi', 'na', 'najihisi', 'vyema', 'baada', 'ya', 'uokoaji', 'huo', '.', 'Nahisi', 'kana', 'kwamba', 'nimezaliwa', 'upya', ',', 'aliambia', 'chombo', 'cha', 'habari', 'cha', 'NTV', 'nchini', 'Kenya', \"''\", '.', 'Makundi', 'ya', 'watu', 'waliokongamana', 'kandokando', 'ya', 'mto', 'huo', 'walifurahia', 'wakati', 'ndege', 'aina', 'ya', 'helikopta', 'ya', 'maafisa', 'wa', 'polisi', 'ilipowasili', 'kumnusuru', ',', 'Mwandishi', 'wa', 'BBC', 'Emmanuel', 'Igunza', 'anasema', 'kwamba', 'baadhi', 'ya', 'raia', 'hao', 'walimchukua', 'manusura', 'huyo', 'na', 'kumpeleka', 'katika', 'mkahawa', 'ambapo', 'alikula', 'viazi', 'karanga', 'na', 'sausage', '-', 'ikiwa', 'ni', 'chakula', 'chake', 'cha', 'kwanza', 'katika', 'kipinid', 'cha', 'siku', 'tatu', '.']\n",
      "\n",
      " Number of Words:  214\n"
     ]
    }
   ],
   "source": [
    "file=\"19dec3_2.txt\"\n",
    "\n",
    "# calling the function and storing the contents in a text variable \n",
    "text = get_document(\"https://www.bbc.com/swahili/habari-50635453\")\n",
    "\n",
    "# calling the store_ document function \n",
    "store_document(doc=text,name=file)\n",
    "\n",
    "#add the words in this file to the total_corpus_words, to keep count of the number of words in the corpus\n",
    "total_corpus_words+=total_words(file)"
   ]
  },
  {
   "cell_type": "code",
   "execution_count": 75,
   "metadata": {},
   "outputs": [
    {
     "data": {
      "text/plain": [
       "173206"
      ]
     },
     "execution_count": 75,
     "metadata": {},
     "output_type": "execute_result"
    }
   ],
   "source": [
    "total_corpus_words"
   ]
  },
  {
   "cell_type": "code",
   "execution_count": 76,
   "metadata": {},
   "outputs": [
    {
     "name": "stdout",
     "output_type": "stream",
     "text": [
      "['Wanawake', 'Uingereza', 'kununua', 'tembe', 'za', 'kuzuia', 'ujauzito', 'madukani', 'Ripoti', 'inapendekeza', 'uwepo', 'wa', 'mtandao', 'wa', 'kliniki', 'za', 'afya', 'ya', 'wanawake', 'zinazotoa', 'huduma', 'zote', 'katika', 'eneo', 'moja', 'kama', 'vile', 'uchunguzi', 'wa', 'ugonjwa', 'wa', 'saratani', ',', 'upangaji', 'wa', 'uzazi', 'na', 'utoaji', 'ushauri', '.', 'Wanawake', 'na', 'wasichana', 'wanastahili', 'kupataka', 'dawa', 'za', 'kuzuia', 'ujauzito', 'bila', 'ya', 'ushauri', 'kutoka', 'kwenye', 'maduka', 'maalum', 'ya', 'dawa', 'na', 'kuuzwa', 'duka', 'lolote', 'tu', ',', 'asema', 'mtaalam', 'wa', 'afya', 'ya', 'uzazi', '.', 'Ripoti', 'iliyotolewa', 'na', 'chuo', 'cha', 'madaktari', 'bingwa', 'wa', 'afya', 'ya', 'uzazi', 'cha', 'Royal', 'College', 'nchini', 'Uingereza', 'kimependekeza', 'kidonge', 'kinachomezwa', 'kama', 'hatua', 'ya', 'dharura', 'ya', 'kuzuia', 'mimba', 'baada', 'ya', 'kushiriki', 'tendo', 'la', 'ndoa', 'bila', 'ya', 'kinga', 'kuuzwa', 'madukani', 'kama', 'kondomu', '.', 'Kuna', 'masharti', 'mengi', 'sana', 'linapokuja', 'suala', 'la', 'kupata', 'huduma', 'za', 'afya', 'ya', 'uzazi', 'kwa', 'wanawake', 'nchini', 'Uingereza', ',', 'Ripoti', 'hiyo', 'imesema', '.', 'Na', 'mahitaji', 'yao', 'yanastahili', 'kupewa', 'kipaumbele', '.', 'Ripoti', 'hiyo', 'kwa', 'jina', 'maslahi', 'bora', 'kwa', 'wanawake', ',', 'inatoa', 'wito', 'kwa', 'wanawake', 'kuruhusiwa', 'kuchukua', 'dawa', 'ya', 'kwanza', 'ya', 'kuzuia', 'mimba', 'wakiwa', 'majumbani', ',', 'pamoja', 'na', 'ile', 'ya', 'pili', ',', 'iwapo', 'watakuwa', 'na', 'uhakika', 'kwamba', 'ujauzito', 'ni', 'wa', 'chini', 'ya', 'wiki', '10', '.', 'Ripoti', 'hiyo', 'mpya', 'ya', 'chuo', 'cha', 'madaktari', 'bingwa', 'wa', 'masuala', 'ya', 'afya', 'ya', 'uzazi', 'ijuliakanayo', 'kwa', 'kifupi', 'kama', 'RCOG', ',', 'inasema', 'wanawake', 'wanapaswa', 'kuwa', 'na', 'uwezo', 'wa', 'kupata', 'ushauri', 'wa', 'daktari', 'wanapotaka', 'miamba', 'ama', 'kwa', 'njia', 'ya', 'simu', 'au', 'kupitia', 'Skype', '.', 'Unaweza', 'pia', 'kusoma', ':', 'Ripoti', 'hiyo', 'pia', 'inapendekeza', 'uwepo', 'wa', 'mtandao', 'wa', 'kliniki', 'za', 'afya', 'ya', 'wanawake', 'zinazotoa', 'huduma', 'zote', 'katika', 'eneo', 'moja', 'kama', 'vile', 'uchunguzi', 'wa', 'ugonjwa', 'wa', 'saratani', ',', 'upangaji', 'wa', 'uzazi', 'na', 'utoaji', 'ushauri', '.', 'Kwa', 'sasa', ',', 'wanawake', 'na', 'wasichana', 'wanahitajika', 'kupata', 'ushauri', 'kutoka', 'kwa', 'mwanafamasia', 'kabla', 'ya', 'kupata', 'dawa', 'za', 'dharura', 'za', 'upangaji', 'uzazi', ',', 'ambazo', 'zinatakikana', 'kutumiwa', 'ndani', 'ya', 'siku', 'tano', 'baada', 'ya', 'kushiriki', 'ngono', 'bila', 'kinga', '.', '``', 'Baada', 'ya', 'hapo', 'nilihisi', 'vibaya', 'kwamba', 'wanawake', 'wanapitia', 'haya', 'yote', 'ili', 'hali', 'kuna', 'njia', 'rahisi', 'ya', 'kupata', 'suluhu', '.', \"''\", 'Chanzo', 'cha', 'picha', ',', 'GETTY', 'IMAGES', 'Maelezo', 'ya', 'picha', ',', 'kupunguzwa', 'kwa', 'bajeti', 'ya', 'afya', 'ya', 'umma', 'kumefanya', 'iwe', 'vigumu', 'kwa', 'wanawake', 'kupata', 'huduma', 'wanazohitaji', 'Dawa', 'za', 'kuzuia', 'ujauzito', 'zinapatikana', 'bure', 'tena', 'bila', 'cheti', 'cha', 'daktari', 'katika', 'maduka', 'yote', 'ya', 'kuuza', 'dawa', 'ya', 'Scotland', 'na', 'Wales', '.', 'Nchini', 'Uingereza', ',', 'huduma', 'za', 'mpango', 'wa', 'uzazi', 'zinapatikana', 'katika', 'vituo', 'vya', 'afya', 'vinavyotoa', 'huduma', 'ya', 'magonjwa', 'yanayoambukizwa', 'kingono', ',', 'na', 'upasuaji', 'lakini', 'huwa', 'hazitolewe', 'bure', '.', 'Chuo', 'cha', 'madaktari', 'bingwa', 'wa', 'afya', 'ya', 'uzazi', 'cha', 'Royal', 'College', 'kinasema', 'kwamba', 'kupunguzwa', 'kwa', 'bajeti', 'ya', 'afya', 'ya', 'umma', 'kumefanya', 'iwe', 'vigumu', 'kwa', 'wanawake', 'kupata', 'huduma', 'wanazohitaji', 'huku', 'utafiti', 'uliofanywa', 'na', 'BBC', 'mwaka', 'jana', ',', 'ukionyesha', 'kuwa', 'karibu', 'nusu', 'ya', 'la', 'baraza', 'wabunge', 'wa', 'Uingereza', 'walikuwa', 'wamepanga', 'kupunguza', 'fedha', 'zinatumiwa', 'kwa', 'huduma', 'za', 'upangaji', 'uzazi', '.', 'Na', 'hili', 'huenda', 'lilisababisha', 'kuongezeka', 'kwa', 'kiwango', 'cha', 'ujauzito', 'na', 'uaviaji', 'wa', 'mimba', 'miongoni', 'mwa', 'wanawake', 'wazee', 'baada', 'ya', 'kupata', 'mimba', 'zisizotarajiwa', ',', 'ripoti', 'hiyo', 'inasema', '.', 'Mwaka', '2018', 'zaidi', 'ya', 'watu', '205,000', 'waliavia', 'mimba', 'katika', 'nchini', 'za', 'Uingereza', 'na', 'Wales', '.', 'Ripoti', 'hiyo', 'ya', 'chuo', 'cha', 'madaktari', 'bingwa', 'wa', 'afya', 'ya', 'uzazi', 'cha', 'Royal', 'College', ',', 'inasema', 'kidonge', 'cha', 'kuzuia', 'mimba', 'kinastahili', 'kumezwa', 'mara', 'moja', 'kwa', 'siku', ',', 'na', 'pia', 'kipatikane', 'katika', 'maduka', 'ya', 'kawaida', 'badala', 'ya', 'uwepo', 'wa', 'ulazima', 'wa', 'kuwa', 'na', 'karatasi', 'ya', 'daktari', '.', 'Njia', 'za', 'upangaji', 'uzazi', 'kwa', 'muda', 'mrefu', 'zinastahili', 'kujadiliwa', 'mara', 'tu', 'baada', 'ya', 'mama', 'kujifungua', '.', 'Kuimarishwa', 'kwa', 'huduma', 'za', 'utoaji', 'wa', 'mimba', 'kwa', 'wanawake', 'wote', '.', 'Kufunguliwe', 'vituo', 'afya', 'ya', 'uzazi', 'venye', 'uwezo', 'wa', 'kutoa', 'huduma', 'zote', 'na', 'pia', 'vifunguliwe', 'wikendi', 'na', 'nyakati', 'za', 'jioni', 'vilevile', '.', 'Huduma', 'zote', 'za', 'kutungisha', 'mimba', 'nje', 'ya', 'tumbo', 'la', 'uzazi', 'zinastahili', 'kutolewa', 'kwa', 'wanawake', 'wote', 'wanaoishi', 'kihalali', 'nchini', 'Uingereza', '.', 'Muda', 'wa', 'kukutana', 'na', 'daktari', 'unastahili', 'kuongezwa', 'hadi', 'dakika', '15', '.', 'Matumizi', 'ya', 'tembe', 'za', 'dharura', 'za', 'kuzuia', 'ujauzito', 'yanapaswa', 'kuwa', 'ya', 'tahadhari', ':', 'Chanzo', 'cha', 'picha', ',', 'Getty', 'Images', 'Ripoti', 'hiyo', 'inasema', 'idadi', 'kubwa', 'ya', 'wanawake', 'wanaishi', 'kwa', 'machungu', 'na', 'karaha', 'kwasababu', 'muda', 'wa', 'kuonana', 'na', 'daktari', 'ni', 'mfupi', 'mno', 'na', 'kuna', 'watu', 'wengi', 'wanaotaka', 'kuzungumza', 'nao', '.', 'Profesa', 'Lesley', 'Regan', ',', 'rais', 'wa', 'chuo', 'cha', 'madaktari', 'bingwa', 'wa', 'afya', 'ya', 'uzazi', 'cha', 'Royal', 'College', ',', 'amesema', ':', '``', 'Vidonge', 'vya', 'kuzuia', 'mimba', 'ni', 'salama', 'zaidi', 'na', 'maelezo', 'ya', 'daktari', 'kabla', 'ya', 'kuanza', 'kuvitumia', 'ni', 'jambo', 'lisilokuwa', 'na', 'ulazima', \"''\", '``', 'Tunataka', 'kuhakikisha', 'asilimia', '51', 'ya', 'idadi', 'ya', 'watu', 'imewezeshwa', 'na', 'kuwa', 'na', 'afya', 'njema', 'kadiri', 'inavyowezekana', 'na', 'kwamba', 'hakuna', 'anayeachwa', 'nyuma', ',', \"''\", 'Amesema', 'Profesa', 'Regan', '.', 'Hata', 'hivyo', 'Simon', 'Kigondu', 'kutoka', 'nchini', 'Kenya', ',', 'daktari', 'bingwa', 'wa', 'afya', 'ya', 'uzazi', 'anasema', 'dawa', 'zote', 'zinastahili', 'kupendekezwa', 'na', 'daktari', 'ambaye', 'amehitimu', 'anayejua', 'zinavyostahili', 'kutumiwa', 'kwa', 'sababu', 'dawa', 'zote', 'zina', 'madhara', '.', '``', 'Dawa', 'za', 'kuzuia', 'mimba', 'kama', 'Postinor-2', 'maarufu', 'kama', 'P2', 'pia', 'zinastahili', 'kupendekezwa', 'na', 'mtu', 'aliyehitimu', '.', \"''\", 'Bwana', 'kigondu', 'anasema', 'hatari', 'iliyopo', 'ya', 'kununua', 'dawa', 'kama', 'hizi', 'bila', 'ushauri', 'wa', 'daktari', 'ni', 'kwamba', 'huenda', 'uko', 'katika', 'hali', 'ambayo', 'inaweza', 'kukusababishia', 'madhara', 'unapokunywa', 'dawa', 'hizi', 'bila', 'kufanyiwa', 'uchunguzi', 'wa', 'kiafya', '.', 'Lakini', 'kulingana', 'na', 'daktari', 'Simon', 'Kigondu', 'bado', 'hatujafika', 'kiwango', 'cha', 'dawa', 'hizi', 'kuruhusiwa', 'kuuzwa', 'katika', 'maduka', 'ya', 'kawaida', 'tu', 'na', 'kumezwa', 'majumbani', '.', 'Ni', 'vizuri', 'kwenda', 'kwa', 'daktari', 'kwasababu', ',', 'huenda', 'mama', 'amepata', 'mimba', 'inayojitunga', 'nje', 'ya', 'tumbo', 'la', 'uzazi', ',', 'na', 'hili', 'hawezi', 'kulifahamu', 'hadi', 'wakati', 'atakapoanza', 'kutoka', 'damu', 'ndani', 'ya', 'tumbo', ',', 'anasema', 'daktari', 'kigondu', '.', 'Rais', 'wa', 'chuo', 'hicho', 'cha', 'Royal', 'College', ',', 'Profesa', 'Regan', ',', 'amesema', 'cha', 'msingi', 'ni', 'kuhakikisha', 'huduma', 'zinapatikana', 'kwa', 'wepesi', 'na', 'ziwe', 'zinazolingana', 'na', 'mahitaji', 'ya', 'wasichana', 'na', 'wanawake', '.']\n",
      "\n",
      " Number of Words:  908\n"
     ]
    }
   ],
   "source": [
    "file=\"19dec3_3.txt\"\n",
    "\n",
    "# calling the function and storing the contents in a text variable \n",
    "text = get_document(\"https://www.bbc.com/swahili/50629245\")\n",
    "\n",
    "# calling the store_ document function \n",
    "store_document(doc=text,name=file)\n",
    "\n",
    "#add the words in this file to the total_corpus_words, to keep count of the number of words in the corpus\n",
    "total_corpus_words+=total_words(file)"
   ]
  },
  {
   "cell_type": "code",
   "execution_count": 77,
   "metadata": {},
   "outputs": [
    {
     "data": {
      "text/plain": [
       "174114"
      ]
     },
     "execution_count": 77,
     "metadata": {},
     "output_type": "execute_result"
    }
   ],
   "source": [
    "total_corpus_words"
   ]
  },
  {
   "cell_type": "code",
   "execution_count": 79,
   "metadata": {},
   "outputs": [
    {
     "name": "stdout",
     "output_type": "stream",
     "text": [
      "['Yesu', 'wa', 'Tongareni', 'ni', 'nani', '?', \"''Yesu\", \"''\", 'wa', 'Tongareni', '(', 'kulia', ')', 'pichani', 'na', 'mmoja', 'wa', 'wake', 'zake', 'pamoja', 'na', 'mtoto', 'wake', 'Katika', 'kijiji', 'cha', 'Luhohwe', 'kilichopo', 'jimbo', 'la', 'Bungoma', 'magharibi', 'mwa', 'Kenya', 'anapatikana', 'mwanaume', 'anayejulikana', 'kama', \"'Yesu\", \"'\", 'wa', 'Tongareni', '.', 'Maisha', 'yake', 'yalikuwa', 'ni', 'ya', 'kawaida', 'hadi', 'ilipofika', 'mwaka', '2009', 'ambapo', 'anadai', 'Mungu', 'alimjia', 'na', 'kumpatia', 'jina', 'Yesu', ',', 'na', 'kuanzia', 'siku', 'hiyo', 'hapaswi', 'kuitwa', 'au', 'kutaja', 'majina', 'yake', 'ya', 'awali', '.', 'Mwandishi', 'wa', 'BBC', 'Roncliff', 'Odit', ',', 'alipomtembelea', 'hivi', 'karibuni', 'maghribi', 'mwa', 'Kenya', ',', 'Yesu', 'wa', 'Tongareni', 'alisema', 'aliitwa', 'jina', 'Yesu', 'na', 'Mungu', 'mwenyewe', ':', '``', 'Mungu', 'akanena', 'nami', 'akanipa', 'jina', 'Yesu', '...', 'Nawatangazia', 'watu', 'wamrejelee', 'Mungu', 'katika', 'njia', 'ya', 'toba', 'wapate', 'ondoleo', 'la', 'dhambi', ',', 'ili', 'majina', 'yao', 'yawe', 'katika', 'kitabu', 'cha', 'uzima', 'wa', 'milele', \"''\", 'alisisitiza', 'Yesu', 'wa', 'Tongareni', 'kwa', 'sauti', 'ya', 'madaha', '.', 'Mazungumzo', 'yake', 'na', 'Odit', 'yalikatizwa', 'ghafla', 'na', 'kuwasili', 'kwa', 'wafuasi', 'wake', 'ambao', 'walipiga', 'magoti', 'mbele', 'yake', 'na', 'kuanza', 'kuabudu', 'kwa', 'sauti', 'za', 'juu', ':', '``', 'Pokea', 'sifa', ',', 'heshma', 'na', 'utukufu', 'juu', 'mbinguni', ',', 'duniani', 'na', 'hata', 'milele', 'na', 'milele', '...', 'amina', \"''\", '.', 'Maelezo', 'ya', 'picha', ',', 'Wafuasi', 'wake', 'hupiga', 'magoti', 'na', 'kumuabudu', 'kwa', 'kupiga', 'magoti', 'mbele', 'yake', 'na', 'kuanza', 'kuabudu', 'kwa', 'sauti', 'za', 'juu', 'Tofauti', 'na', 'Yesu', 'Kristo', 'ambaye', 'wewe', 'unamuamini', 'au', 'umesikia', 'kuhusu', 'habari', 'zake', ',', 'yesu', 'wa', 'Tongareni', 'ameoa', ',', 'ana', 'mke', 'na', 'hata', 'watoto', '.', 'Kulingana', 'na', 'mke', 'wake', ',', 'kuoa', 'kwa', 'yesu', 'wa', 'Tongareni', 'kunatokana', 'na', 'maandiko', 'matakatifu', '.', 'Unaweza', 'pia', 'kusoma', ':', '``', 'Wengi', 'walinena', 'huyu', 'ameharibika', 'kichwa', ',', 'huyu', 'ni', 'mwendawazimu', ',', 'hata', 'amerukwa', 'na', 'akili', 'na', 'anaongea', 'lugha', 'zisizoeleweka', \"''\", 'alisisitiza', 'yesu', 'wa', 'Tongareni', 'ambaye', 'alisema', 'anaamini', 'akili', 'yake', 'iko', 'sawa', 'kulingana', 'na', 'mapenzi', 'ya', 'Mungu', '.', 'Aliwaomba', 'watu', 'wawe', 'kati', 'toba', 'ili', 'waokolewe', ',', 'akiamini', 'kuwa', 'katika', 'jiji', 'la', 'Naoirobi', 'ni', 'watu', 'wawili', 'tu', 'watakaookolewa', 'siku', 'ya', 'mwisho', '(', 'ya', 'kiama', ')', '.', 'Si', 'mara', 'ya', 'kwanza', 'kwa', 'eneo', 'la', 'magharibi', 'mwa', 'kwa', 'watu', 'Kenya', 'kujitambulisha', 'kuwa', 'na', 'uwezo', 'wawakuaminiwa', 'kiimani', '.']\n",
      "\n",
      " Number of Words:  332\n"
     ]
    }
   ],
   "source": [
    "file=\"19dec4_1.txt\"\n",
    "\n",
    "# calling the function and storing the contents in a text variable \n",
    "text = get_document(\"https://www.bbc.com/swahili/habari-50659848\")\n",
    "\n",
    "# calling the store_ document function \n",
    "store_document(doc=text,name=file)\n",
    "\n",
    "#add the words in this file to the total_corpus_words, to keep count of the number of words in the corpus\n",
    "total_corpus_words+=total_words(file)"
   ]
  },
  {
   "cell_type": "code",
   "execution_count": 80,
   "metadata": {},
   "outputs": [
    {
     "data": {
      "text/plain": [
       "174446"
      ]
     },
     "execution_count": 80,
     "metadata": {},
     "output_type": "execute_result"
    }
   ],
   "source": [
    "total_corpus_words"
   ]
  },
  {
   "cell_type": "code",
   "execution_count": 81,
   "metadata": {},
   "outputs": [
    {
     "name": "stdout",
     "output_type": "stream",
     "text": [
      "['Bi', 'Nduku', 'alikuwa', 'akijibu', 'kilio', 'cha', 'mwanaume', 'aliyekuwa', \"akining'inia\", 'katika', 'eneo', 'moja', 'la', 'daraja', 'ambalo', 'liikuwa', 'likijengwa', '.', 'Mwanaume', 'huyo', 'aliokolewa', 'lakini', 'yeye', 'akaanguka', 'katika', 'mto', 'huo', 'alipojaribu', 'kumuokoa', '.', 'Mamake', 'Nduku', ',', 'Elizabeth', 'Mutuku', ',', 'alikuwa', 'karibu', 'wakati', 'ajali', 'hiyo', 'ilipotokea', '.', \"''Nilimuona\", 'akijaribu', 'kujitoa', 'katika', 'maji', 'nikajaribu', 'kumuokoa', '.', 'Nilimwita', 'Anna', 'Anna', '!', 'Nilitaka', 'kumrushia', 'kijiti', 'ili', 'kujaribu', 'kumvuta', 'lakini', 'mto', 'huo', 'ulikuwa', 'umejaa', 'maji', 'hivyo', 'basi', 'alikuwa', 'akirushwa', 'kutoka', 'eneo', 'moja', 'hadi', 'jingine', 'kabla', 'ya', 'kusombwa', 'na', 'maji', 'hayo', \"''\", '.', 'Mto', 'huo', 'ulikuwa', 'umefurika', 'kutokana', 'na', 'mvua', 'kubwa', 'inayonyesha', 'ambayo', 'ilianza', 'siku', 'ya', 'Jumatatu', '.', 'Ni', 'baadhi', 'ya', 'mvua', 'zilizoripotiwa', 'katika', 'eneo', 'la', 'Afrika', 'mashariki', 'katika', 'wiki', 'za', 'hivi', 'karibuni', '.', 'Wakazi', 'wanasema', 'kwamba', 'hii', 'ni', 'miongoni', 'mwa', 'ajali', 'za', 'hivi', 'karibuni', 'ambazo', 'zimefanya', 'watu', 'kadhaa', 'kusombwa', 'na', 'maji', 'katika', 'kipindi', 'cha', 'miaka', 'miwili', 'iliopita', '.', 'Daraja', 'la', 'zamani', 'liliondolewa', 'mwaka', '2017', 'na', 'daraja', 'jipya', 'bado', 'halijakamilishwa', '.', 'Hatua', 'hiyo', 'imewafanya', 'wakaazi', 'kupitia', 'maji', 'kwa', 'kutumia', 'mawe', 'wanayokanyaga', 'ili', 'kuvuka', 'mto', 'huo', '.', 'Dada', 'yake', 'Nduku', ',', 'Maryam', 'Zenneth', ',', 'amelaumu', 'serikali', 'za', 'mitaa', 'kwa', 'kushindwa', 'kumaliza', 'daraja', 'hilo', 'ambalo', 'ni', 'kiunganishi', 'muhimu', 'kati', 'ya', 'kijiji', 'chake', 'na', 'mji', 'wa', 'soko', 'wa', 'Ongata', 'Rongai', '.', \"''Watu\", 'wengi', 'wanafariki', 'na', 'wao', 'wanatazama', 'watu', 'wakiendelea', 'kupoteza', 'maisha', \"''\", ',', 'aliiambia', 'BBC', 'huku', 'akiwa', 'amejawa', 'na', 'hasira', '.', \"''Daraja\", 'hilo', 'ndio', 'barabara', 'kuu', 'miongoni', 'mwa', 'watoto', 'wanaokwenda', 'shule', '.', 'Kwa', 'nini', 'waliliondoa', 'daraja', 'lililokuwepo', 'ili', 'kuanza', 'kujenga', 'jipya', 'na', 'hawalimalizi', 'kulijenga', \"''\", '?', 'Maelezo', 'ya', 'picha', ',', 'Watu', 'hupanda', 'katika', 'daraja', 'hilo', 'ambalo', 'halijakamilisha', 'ili', 'kujaribu', 'kuvuka', 'mto', 'huo', 'Serikali', 'ya', 'mitaa', 'katika', 'eneo', 'hilo', 'bado', 'haijatoa', 'tamko', 'lolote', '.', 'Akikumbuka', 'kuhusu', 'maisha', 'ya', 'mwanawe', ',', 'mamake', 'amesalia', 'akiwa', 'amevunjika', 'moyo', '.', \"'Nina\", 'huzuni', ',', 'pengine', 'angekuwa', 'kiongozi', 'wa', 'siku', 'zijazo', 'ama', 'hata', 'mwalimu', '.', 'Kupoteza', 'maisha', 'kama', 'hayo', 'kutokana', 'na', 'daraja', 'ni', 'uchungu', 'mwingi', '.', \"''\", 'Mvua', 'zaidi', 'inatarajiwa', 'kunyesha', 'katika', 'taifa', 'hilo', 'katika', 'siku', 'zijazo', ',', 'na', 'serikali', 'inawashauri', 'watu', 'wanaoishi', 'katika', 'maeneo', 'ambayo', 'yametabiriwa', 'kuathiriwa', 'vibaya', 'kuhamia', 'katika', 'maeneo', 'salama', '.', 'Maeneo', 'mengine', 'katika', 'eneo', 'hilo', ',', 'watu', 'sita', 'wamefariki', 'mashariki', 'mwa', 'Uganda', 'kufuatia', 'maporomoko', 'ya', 'ardhi', 'baada', 'ya', 'mvua', 'kunyesha', 'kwa', 'siku', 'mbili', 'mfululizo', 'na', 'kufikia', 'sasa', 'takriban', 'watu', '50', 'hawajulikani', 'waliko', '.']\n",
      "\n",
      " Number of Words:  368\n"
     ]
    }
   ],
   "source": [
    "file=\"19dec5_1.txt\"\n",
    "\n",
    "# calling the function and storing the contents in a text variable \n",
    "text = get_document(\"https://www.bbc.com/swahili/habari-50663458\")\n",
    "\n",
    "# calling the store_ document function \n",
    "store_document(doc=text,name=file)\n",
    "\n",
    "#add the words in this file to the total_corpus_words, to keep count of the number of words in the corpus\n",
    "total_corpus_words+=total_words(file)"
   ]
  },
  {
   "cell_type": "code",
   "execution_count": 82,
   "metadata": {},
   "outputs": [
    {
     "data": {
      "text/plain": [
       "174814"
      ]
     },
     "execution_count": 82,
     "metadata": {},
     "output_type": "execute_result"
    }
   ],
   "source": [
    "total_corpus_words"
   ]
  },
  {
   "cell_type": "code",
   "execution_count": 83,
   "metadata": {},
   "outputs": [
    {
     "name": "stdout",
     "output_type": "stream",
     "text": [
      "['Kwa', 'mujibu', 'wa', 'mamlaka', 'hiyo', ',', 'mgandamizo', 'katika', 'pwani', 'ya', 'Somalia', 'unatarajiwa', 'kuendelea', 'kuwa', 'mbali', 'na', 'pwani', 'ya', 'Tanzania', 'na', 'hautarajiwi', 'kuwa', 'na', 'madhara', 'kwa', 'Tanzania', '.', '``', '...', 'mgandamizo', 'mdogo', 'wa', 'hewa', 'uliopo', 'kusini', 'magharibi', 'mwa', 'bahari', 'ya', 'Hindi', '(', 'karibu', 'na', 'kisiwa', 'cha', 'Madagascar', ')', 'unatarajiwa', 'kuimarika', 'na', 'kuelekea', 'kaskazini', 'mwa', 'kisiwa', 'cha', 'Madagascar', ',', 'na', 'hivyo', 'unatarajiwa', 'kusababisha', 'ongezeko', 'la', 'mvua', 'pamoja', 'na', 'vipindi', 'vya', 'mvua', 'kubwa', 'hususan', 'katika', 'baadhi', 'ya', 'maeneo', 'ya', 'Pwani', 'ya', 'Kaskazini', 'ya', 'nchi', 'yetu', 'kati', 'ya', 'terehe', '5', 'na', '6', 'Disemba', '2019', ',', \"''\", 'inaeleza', 'taarifa', 'ya', 'TMA', '.', '``', 'Mamlaka', 'imeendelea', 'kutoa', 'tahadhari', 'ya', 'vipindi', 'vifupi', 'vya', 'mvua', 'kubwa', 'kwa', 'baadhi', 'ya', 'maeneo', 'ya', 'mikoa', 'ya', 'Dar', 'es', 'salaam', 'na', 'Pwani', 'na', 'angalizo', 'la', 'mvua', 'kubwa', 'kwa', 'baadhi', 'ya', 'maeneo', 'ya', 'mikoa', 'ya', 'Kagera', ',', 'Geita', ',', 'Mwanza', ',', 'Shinyanga', ',', 'Simiyu', ',', 'Mara', ',', 'Tanga', 'pamoja', 'na', 'visiwa', 'vya', 'Unguja', 'na', 'Pemba', ',', 'Rukwa', ',', 'Mbeya', ',', 'Songwe', ',', 'Iringa', ',', 'Njombe', 'na', 'Ruvuma', '.', \"''\"]\n",
      "\n",
      " Number of Words:  166\n"
     ]
    }
   ],
   "source": [
    "file=\"19dec5_2.txt\"\n",
    "\n",
    "# calling the function and storing the contents in a text variable \n",
    "text = get_document(\"https://www.bbc.com/swahili/habari-50669263\")\n",
    "\n",
    "# calling the store_ document function \n",
    "store_document(doc=text,name=file)\n",
    "\n",
    "#add the words in this file to the total_corpus_words, to keep count of the number of words in the corpus\n",
    "total_corpus_words+=total_words(file)"
   ]
  },
  {
   "cell_type": "code",
   "execution_count": 84,
   "metadata": {},
   "outputs": [
    {
     "data": {
      "text/plain": [
       "174980"
      ]
     },
     "execution_count": 84,
     "metadata": {},
     "output_type": "execute_result"
    }
   ],
   "source": [
    "total_corpus_words"
   ]
  },
  {
   "cell_type": "code",
   "execution_count": 85,
   "metadata": {},
   "outputs": [
    {
     "name": "stdout",
     "output_type": "stream",
     "text": [
      "['Bwana', 'Kieti', ',', 'pamoja', 'na', 'mke', 'wake', 'na', 'watoto', ',', 'wanaishi', 'karibu', 'na', 'kiwanda', 'cha', 'lami', 'ambacho', 'kinatoa', 'harufu', 'mbaya', 'na', 'hewa', 'nzito', 'ya', 'moshi', ',', 'na', 'kupelekea', 'kulifunika', 'eneo', 'hilo', 'na', 'moshi', 'mweusi', '.', 'Shirika', 'la', 'afya', 'dunia', 'linasema', 'kiwango', 'cha', 'hewa', 'chafu', 'kimefikia', 'asilimia', '70', 'juu', 'ya', 'kiwango', 'kinachoruhusiwa', 'mjini', 'Nairobi', '.', 'Ni', 'mchanganyiko', 'unaosababishwa', 'moshi', 'mzito', 'kutoka', 'kwenye', 'magari', 'ya', 'zamani', ',', 'takataka', 'zinazochomwa', 'moto', 'na', 'viwanda', '.', 'Chanzo', 'cha', 'picha', ',', 'Getty', 'Images', 'Maelezo', 'ya', 'picha', ',', 'Kiwango', 'cha', 'hewa', 'chafu', 'mjini', 'Nairobi', 'kiko', 'juu', 'ya', 'kile', 'ambacho', 'shirika', 'la', 'afya', 'duniani', 'iliweka', \"'Code\", 'for', 'Africa', \"'\", 'huleta', 'mashine', 'hizi', 'ili', 'kusaidia', 'wanaharakati', 'wenye', 'hofu', 'juu', 'ya', 'uchafuzi', 'wa', 'hewa', '.', 'Msemaji', 'wa', 'Code', 'for', 'Africa', ',', 'Yazmin', 'Jumaali', 'amesema', '``', 'Takwimu', 'zetu', 'ni', 'za', 'uhalisia', ',', 'kwa', 'hiyo', 'mtu', 'yoyote', 'anaweza', 'kuzitumia', '.', 'Wanaweza', 'kupata', 'takwimu', 'za', 'kila', 'siku', 'ambazo', 'wanaweza', 'kutumia', 'kwenye', 'kampeni', 'za', 'kuitaka', 'serikali', 'kutatua', 'matatizo', 'wanayokabiliana', 'nayo', 'kuhusu', 'uchafuzi', 'wa', 'hewa', \"''\", '``', 'Majibu', 'yalikuwa', 'ni', 'ya', 'kushangaza', 'sana', '.', 'Mashine', 'ilikuwa', 'inaonyesha', 'kuwa', 'hewa', 'ilikuwa', 'chafu', 'kwa', 'kiwango', 'kikubwa', 'sana', '.', \"''\", 'Alisema', 'Bwana', 'Kieti', '.', 'Mashine', 'hizi', 'zilionyesha', 'chembechembe', 'za', 'hewa', 'hatari', 'zenye', 'kiwango', 'cha', '(', 'PM2.5', ')', ',', 'ambazo', 'ni', 'za', 'mikromita', '2.5', 'na', 'ndogo', 'zaidi', 'katika', 'kipenyo', ',', 'kama', 'udogo', 'wa', 'mara', '20', 'hivi', 'ukilinganisha', 'na', 'mchanga', ',', 'vili', 'vile', 'udogo', 'wake', 'unaamnisha', 'vinaweza', 'kuingia', 'kwenye', 'damu', '.', 'Takwimu', 'hizi', 'zimechapishwa', 'katika', 'tovuti', ',', 'ambapo', 'mtu', 'yoyote', 'anaweza', 'kuzipata', 'kwa', 'bure', '.', 'Mwezi', 'Juni', 'Bwana', 'Kieti', 'na', 'wenzake', 'kutoka', 'katika', 'jamii', 'hiyo', 'walianzisha', 'kampeni', 'katika', 'mitandao', 'ya', 'kijamii', 'wakiwaonesha', 'wengine', 'takwimu', 'walizozipata', '.', \"''Tulitumia\", 'mitandao', 'ya', 'Twitter', ',', 'Facebook', ',', 'Whatsapp', ',', 'na', 'Youtube', 'kuanzisha', 'kampeni', 'hizi', 'kuonesha', 'matokeo', 'kutoka', 'kwenye', 'mashine', 'kama', 'njia', 'ya', 'kudai', 'hewa', 'safi', '.', \"''\", 'Chanzo', 'cha', 'picha', ',', 'Getty', 'Images', '``', 'Tulifanya', 'mamlaka', 'ya', 'Taifa', 'inayosimamia', 'Mazingira', 'wakose', 'raha', 'kwa', 'kuwahusisha', 'wengine', '(', 'tag', ')', 'katika', 'ujumbe', 'wa', 'kwenye', 'mitandao', '.', 'Vyombo', 'vya', 'habari', 'vikaanza', 'kutangaza', 'kampeni', 'hii', ',', 'wakiangazia', 'mambo', 'mengi', 'kuhusu', 'uchafuzi', 'wa', 'hewa', '.', 'Sio', 'tu', 'kwa', 'eneo', 'la', 'Bwana', 'Kieti', ',', 'lakini', 'kila', 'sehemu', 'katika', 'mjii', 'mkuu', 'wa', 'Kenya', '.', 'Katika', 'umbali', 'wa', 'dakika', '30', 'kutoka', 'Syokimau', ',', 'kuna', 'familia', 'ambayo', 'wanahofia', 'kuwa', 'mtoto', 'wao', 'ni', 'muathirika', 'wa', 'hewa', 'chafu', '.', 'Rashidah', 'na', 'Nazir', 'Hakada', 'wanaishi', 'katika', 'jimbo', 'la', 'Sawada', ',', 'ambalo', 'nalo', 'lina', 'viwanda', 'kadhaa', '.', 'Bado', 'wanaomboleza', 'kifo', 'cha', 'mtoto', 'wao', 'Hafsa', ',', 'aliyekuwa', 'na', 'umri', 'wa', 'miaka', 'miwili', ',', 'ambaye', 'alifariki', 'dunia', 'mwezi', 'Juni', 'baada', 'ya', 'kupatwa', 'na', 'maambukizi', 'katika', 'njia', 'ya', 'hewa', 'na', 'kusababisha', 'mapafu', 'kudhoofika', 'na', 'kushindwa', 'kutengeneza', 'oksijeni', 'ya', 'kutosha', 'kwendakwa', 'viungo', 'muhimu', 'mwilini', '.', 'Madaktari', 'wanasema', 'tatizo', 'hilo', 'linaweza', 'sababishwa', 'na', 'viwango', 'vya', 'juu', 'vya', 'moshi', 'au', 'moshi', 'wa', 'kemikali', '.', 'Maelezo', 'ya', 'picha', ',', 'Hafsah', 'Hakada', '``', 'Mtoto', 'wetu', 'alikuwa', 'na', 'matatizo', 'ya', 'kupumua', '.', 'Mara', 'ya', 'kwanza', 'alilazwa', 'mwezi', 'Aprili', ',', 'wakaturuhusu', 'tukarudi', 'nyumbani', '.', 'Akalazwa', 'tena', 'mwezi', 'Juni', 'kwa', 'tatizo', 'hilo', 'hilo', ',', 'akakaa', 'hospitalini', 'kwa', 'saa', '48', 'baada', 'ya', 'hapo', 'alifariki', 'dunia', '.', \"''\", 'Amesema', 'bwana', 'Hakada', '.', 'Wanandoa', 'hao', 'wana', 'watoto', 'wawili', 'wengine', ',', 'na', 'mmoja', 'wao', 'alilazwa', 'hivi', 'karibuni', 'kwa', 'sababu', 'ya', 'matatizo', 'ya', 'kupumua', '.', \"''Angalia\", 'mashine', 'hizi', 'zote', 'za', 'kumsaidia', 'kupumua', ',', \"''\", 'Bi', '.', 'Hakaada', 'akisema', 'kwa', 'hasira', 'akichambua', 'mashine', 'za', 'kuwasaidia', 'watu', 'wenye', 'ugonjwa', 'wa', 'pumu', '.', \"''Ni\", 'uonevu', 'kwake', '.', 'Ana', 'miaka', '6', 'tu', '.', \"''\", \"''Akikohoa\", ',', 'basi', 'anakohoa', 'wiki', 'nzima', '.', 'Ni', 'mtoto', 'mdogo', 'sana', 'na', 'dhaifu', '.', \"''\", 'Bwana', 'Hakada', 'na', 'wenzake', 'katika', 'jamii', 'yao', 'wameweka', 'mashine', 'katika', 'jimbo', 'lao', '.', 'Na', 'kama', 'vile', 'Syokimau', ',', 'wanatumia', 'takwimu', 'zao', 'kudai', 'hewa', 'safi', '.']\n",
      "\n",
      " Number of Words:  597\n"
     ]
    }
   ],
   "source": [
    "file=\"19dec5_3.txt\"\n",
    "\n",
    "# calling the function and storing the contents in a text variable \n",
    "text = get_document(\"https://www.bbc.com/swahili/50670504\")\n",
    "\n",
    "# calling the store_ document function \n",
    "store_document(doc=text,name=file)\n",
    "\n",
    "#add the words in this file to the total_corpus_words, to keep count of the number of words in the corpus\n",
    "total_corpus_words+=total_words(file)"
   ]
  },
  {
   "cell_type": "code",
   "execution_count": 86,
   "metadata": {},
   "outputs": [
    {
     "data": {
      "text/plain": [
       "175577"
      ]
     },
     "execution_count": 86,
     "metadata": {},
     "output_type": "execute_result"
    }
   ],
   "source": [
    "total_corpus_words"
   ]
  },
  {
   "cell_type": "code",
   "execution_count": 88,
   "metadata": {},
   "outputs": [
    {
     "name": "stdout",
     "output_type": "stream",
     "text": [
      "['Tassia', ':', 'Jengo', 'laporomoka', 'Kenya', 'nini', 'kilichotokea', '?', 'Watu', 'wawili', 'wamethibitishwa', 'kufariki', 'baada', 'ya', 'jengo', 'la', 'ghorofa', 'sita', 'kuanguka', 'asubuhi', 'ya', 'leo', 'katika', 'eneo', 'la', 'Embakasi', 'jijini', 'Nairobi', ',', 'Kenya', 'huku', 'wengine', 'kadhaa', 'wakihofiwa', 'kunaswa', 'chini', 'ya', 'kifusi', 'cha', 'jengo', 'hilo', '.', 'Shughuli', 'za', 'uokoaji', 'zinaendelea', '.', 'Ripoti', 'zinasema', 'watu', 'kadhaa', 'wameokolewa', 'na', 'kukimbizwa', 'hospitalini', 'kwa', 'ajili', 'ya', 'matibabu', '.']\n",
      "\n",
      " Number of Words:  60\n"
     ]
    }
   ],
   "source": [
    "file=\"19dec6_1.txt\"\n",
    "\n",
    "# calling the function and storing the contents in a text variable \n",
    "text = get_document(\"https://www.bbc.com/swahili/habari-50686506\")\n",
    "\n",
    "# calling the store_ document function \n",
    "store_document(doc=text,name=file)\n",
    "\n",
    "#add the words in this file to the total_corpus_words, to keep count of the number of words in the corpus\n",
    "total_corpus_words+=total_words(file)"
   ]
  },
  {
   "cell_type": "code",
   "execution_count": 89,
   "metadata": {},
   "outputs": [
    {
     "data": {
      "text/plain": [
       "175637"
      ]
     },
     "execution_count": 89,
     "metadata": {},
     "output_type": "execute_result"
    }
   ],
   "source": [
    "total_corpus_words"
   ]
  },
  {
   "cell_type": "code",
   "execution_count": 90,
   "metadata": {},
   "outputs": [
    {
     "name": "stdout",
     "output_type": "stream",
     "text": [
      "['4', '.', 'Jengo', 'ni', 'zito', 'kuliko', 'inavyotakikana', 'Hata', 'kama', 'msingi', 'ni', 'nyenzo', 'zilizotumiwa', 'ni', 'imara', ',', 'kulingana', 'na', 'kusudio', 'la', 'awali', ',', 'hilo', 'linaweza', 'kubadilika', '.', 'Kwa', 'hiyo', ',', 'Bwana', 'Ede', 'anasema', ',', 'ikiwa', 'jengo', 'lilijengwa', 'kwa', 'minajili', 'ya', 'kuwa', 'nyumba', 'na', 'kisha', 'baadaye', 'likabadilishwa', 'na', 'kuwa', 'maktaba', 'yenye', 'kurundikwa', 'makasha', 'na', 'makasha', 'ya', 'vitabu', ',', 'huenda', 'uimara', 'wa', 'jengo', 'hilo', 'ukabadilika', 'kwa', 'sababu', 'ya', 'uzito', 'ulioongezeka', '.', 'Pia', 'aliongeza', 'kwamba', 'sababu', 'nyengine', 'inayopelekea', 'kuwa', 'na', 'uzito', 'mkubwa', 'kuliko', 'ilivyotarajiwa', 'awali', ',', 'ni', 'kuongezwa', 'kwa', 'ghorofa', 'nyengine', 'tofauti', 'na', 'mpango', 'wa', 'awali', '.', 'Mnamo', 'mwezi', 'Machi', ',', 'jengo', 'moja', 'lililokuwa', 'na', 'ghorofa', 'nyingi', 'kuliko', 'lilivyopangiwa', 'awali', 'liliporomoka', 'huko', 'mjini', 'Lagos', 'na', 'kusababisha', 'vifo', 'vya', 'watu', '34.', 'kulingana', 'na', 'gazeti', 'la', 'the', 'Guardian', '.', 'Hilo', 'lilitokea', 'miaka', 'miwili', 'baada', 'ya', 'kanisa', 'la', 'mhubiri', 'mashuhuri', 'TB', 'Joshua', 'kuporomoka', 'na', 'mamlaka', 'ikasema', 'sababu', 'ni', 'kwamba', 'lilikuwa', 'na', 'ghorofa', 'nyingi', 'zaidi', 'kuliko', 'ilivyotakikana', '.', 'Zaidi', 'ya', 'watu', '100', 'walipoteza', 'maisha', 'yao', '.', 'Chanzo', 'cha', 'picha', ',', 'Clare', 'Spencer', 'Maelezo', 'ya', 'picha', ',', 'Sio', 'kawaida', 'kuona', 'jukwaa', 'la', 'mbao', 'likijengwa', 'nje', 'ya', 'jengo', 'la', 'kisasa', 'kama', 'hili', 'lililojengwa', 'Mwanza', ',', 'Tanzania', ',', '2016']\n",
      "\n",
      " Number of Words:  188\n"
     ]
    }
   ],
   "source": [
    "file=\"19dec6_2.txt\"\n",
    "\n",
    "# calling the function and storing the contents in a text variable \n",
    "text = get_document(\"https://www.bbc.com/swahili/habari-50686508\")\n",
    "\n",
    "# calling the store_ document function \n",
    "store_document(doc=text,name=file)\n",
    "\n",
    "#add the words in this file to the total_corpus_words, to keep count of the number of words in the corpus\n",
    "total_corpus_words+=total_words(file)"
   ]
  },
  {
   "cell_type": "code",
   "execution_count": 91,
   "metadata": {},
   "outputs": [
    {
     "data": {
      "text/plain": [
       "175825"
      ]
     },
     "execution_count": 91,
     "metadata": {},
     "output_type": "execute_result"
    }
   ],
   "source": [
    "total_corpus_words"
   ]
  },
  {
   "cell_type": "code",
   "execution_count": 92,
   "metadata": {},
   "outputs": [
    {
     "name": "stdout",
     "output_type": "stream",
     "text": [
      "['Tassia', ':', 'Idadi', 'ya', 'watu', 'waliofariki', 'baada', 'ya', 'jengo', 'kuporomoka', 'Kenya', 'yafikia', 'watu', '5', '6', 'Disemba', '2019', 'Imeboreshwa', '7', 'Disemba', '2019', 'Chanzo', 'cha', 'picha', ',', 'Victor', 'Kenani', ',', 'BBC', 'Maelezo', 'ya', 'picha', ',', 'Watu', 'wakishuhudia', 'jengo', 'lililoporomoka', 'Watu', 'watano', 'wamethibitishwa', 'kufariki', 'kufikia', 'sasa', 'baada', 'ya', 'jengo', 'la', 'ghorofa', 'sita', 'kuanguka', 'Ijumaa', 'asubuhi', 'katika', 'eneo', 'la', 'Embakasi', 'jijini', 'Nairobi', ',', 'Kenya', 'huku', 'wengine', 'kadhaa', 'wakihofiwa', 'kunaswa', 'chini', 'ya', 'kifusi', 'cha', 'jengo', 'hilo', '.', 'Shughuli', 'za', 'uokoaji', 'zinaendelea', '.', 'Ripoti', 'zinasema', 'watu', 'kadhaa', 'wameokolewa', 'na', 'kukimbizwa', 'hospitalini', 'kwa', 'ajili', 'ya', 'matibabu', '.', 'Watu', 'watatu', 'wakiwa', 'na', 'majeraha', 'mabaya', 'wametolewa', 'kutoka', 'kwenye', 'kifusi', 'na', 'kupelekwa', 'kwenye', 'hospitali', 'ya', 'rufaa', 'ya', 'Kenyatta', ',', 'jijini', 'Nairobi', ',', 'wakiwemo', 'mama', 'na', 'mtoto', '.', 'Familia', '46', 'walikuwa', 'wakuwa', 'wakiishi', 'kwenye', 'jengo', 'hilo', '.', 'Huwezi', 'kusikiliza', 'tena', 'Maelezo', 'ya', 'video', ',', 'Aliyeshuhudia', 'aelezea', 'kilichotokea', '?', 'Polisi', 'na', 'kikosi', 'cha', 'msalaba', 'mwekundu', 'kutoka', 'kaunti', 'ya', 'Nairobi', 'wako', 'kwenye', 'eneo', 'la', 'tukio', '.', 'Wanapata', 'wakati', 'mgumu', 'kudhibiti', 'kundi', 'kubwa', 'la', 'watu', 'waliojitokeza', 'kushuhudia', 'mkasa', 'huo', '.', 'Haijabainika', 'ni', 'kwanini', 'jengo', 'hilo', 'liliporomoka', 'na', 'ni', 'watu', 'wangapi', 'wamekwama', 'kwenye', 'jengo', 'hilo.Wenyeji', 'wanadai', 'kuwa', 'huenda', 'ikawa', 'watu', 'wengi', 'wamekwama', 'kwani', 'jengo', 'lenyewe', 'liliporomoka', 'mapema', 'asubuhi', 'na', 'wakati', 'huu', 'shule', 'zikiwa', 'zimefungwa', '.', 'Maelezo', 'ya', 'picha', ',', 'Baadhi', 'ya', 'maafisa', 'wa', 'St', 'Johns', 'wakishirikiana', 'na', 'maafisa', 'wa', 'polisi', 'pamoja', 'na', 'wasamaria', 'wema', 'kuokoa', 'baadhi', 'ya', 'watu', 'waliokuwa', 'wamenaswa', 'chini', 'ya', 'vifusi', 'vya', 'jengo', 'hilo', 'Wenyeji', 'wanailaumu', 'Idara', 'ya', 'mipango', 'ya', 'Ujenzi', 'nchini', 'kwa', 'kutohakikisha', 'majengo', 'yaliyojengwa', 'ni', 'salama', 'kutumika.Wanadai', 'kuwa', 'Idara', 'hiyo', 'imezembea', 'katika', 'kukagua', 'usalama', 'wa', 'majengo', 'hasa', 'jijini', 'Nairobi', 'na', 'hivyo', 'kuwaacha', 'watu', 'katika', 'hatari', '.', 'Shughuli', 'za', 'kuwaokoa', 'walionasa', 'kwenye', 'jumba', 'hilo', 'zinaendelea', 'huku', 'magari', 'ya', 'kubeba', 'wagonjwa', 'yakiwa', 'yamefika', 'kutoa', 'msaada', 'wa', 'dharura', '.', 'Mkuu', 'wa', 'polisi', 'Philip', 'Ndolo', 'amesema', 'kuwa', 'wanafanya', 'kila', 'wawezalo', 'kuwaokoa', 'watu', 'waliokwama', '.', 'Chanzo', 'cha', 'picha', ',', 'Dickson', 'Omari', 'Maelezo', 'ya', 'picha', ',', 'Watu', 'wanahofiwa', 'kunasa', 'kwenye', 'kifusi', 'Hili', 'si', 'jengo', 'la', 'kwanza', 'kuporomoka', '.', 'Mwezi', 'Septemba', 'mwaka', 'huu', 'jengo', 'la', 'ghorofa', 'moja', 'la', 'shule', 'eno', 'la', 'Dogoretti', 'Nairobi', 'liliporomoka', 'na', 'kuwaua', 'wanafunzi', 'saba', 'huku', 'wengine', '64', 'wakijeruhiwa', '.', 'Mwaka', '2015', ',', 'Jengo', 'jingine', 'la', 'ghorofa', 'sita', 'liliporomoka', 'eneo', 'la', 'Huruma', 'jijini', 'Nairobi', 'na', 'kugharimu', 'maisha', 'ya', 'watu', '.', 'Serikali', 'wakati', 'huo', 'ilianza', 'ukaguzi', 'wa', 'majengo', 'yote', 'haswa', 'ya', 'makazi', 'jijini', 'Nairobi', '.', 'Ripoti', 'ya', 'ukaguzi', 'ilionyesha', 'kuwa', 'zaidi', 'ya', 'majengo', '800', 'si', 'salama', 'na', 'hivyo', 'yalihitaji', 'kubomolewa', 'kwani', 'hayakidhi', 'viwango', 'vya', 'ubora', '.', 'Hata', 'hivyo', 'shughuli', 'hiyo', 'ilisimamishwa', 'baadaye', 'serikali', 'ikidai', 'haikuwa', 'na', 'fedha', 'za', 'kutosha', 'kubomoa', 'majengo', 'hayo', 'yote', '.']\n",
      "\n",
      " Number of Words:  418\n"
     ]
    }
   ],
   "source": [
    "file=\"19dec6_3.txt\"\n",
    "\n",
    "# calling the function and storing the contents in a text variable \n",
    "text = get_document(\"https://www.bbc.com/swahili/habari-50682763\")\n",
    "\n",
    "# calling the store_ document function \n",
    "store_document(doc=text,name=file)\n",
    "\n",
    "#add the words in this file to the total_corpus_words, to keep count of the number of words in the corpus\n",
    "total_corpus_words+=total_words(file)"
   ]
  },
  {
   "cell_type": "code",
   "execution_count": 93,
   "metadata": {},
   "outputs": [
    {
     "data": {
      "text/plain": [
       "176243"
      ]
     },
     "execution_count": 93,
     "metadata": {},
     "output_type": "execute_result"
    }
   ],
   "source": [
    "total_corpus_words"
   ]
  },
  {
   "cell_type": "code",
   "execution_count": 94,
   "metadata": {},
   "outputs": [
    {
     "name": "stdout",
     "output_type": "stream",
     "text": [
      "['Tassia', ':', 'Idadi', 'ya', 'watu', 'waliofariki', 'baada', 'ya', 'jengo', 'kuporomoka', 'Kenya', 'yafikia', 'watu', '5', '6', 'Disemba', '2019', 'Imeboreshwa', '7', 'Disemba', '2019', 'Chanzo', 'cha', 'picha', ',', 'Victor', 'Kenani', ',', 'BBC', 'Maelezo', 'ya', 'picha', ',', 'Watu', 'wakishuhudia', 'jengo', 'lililoporomoka', 'Watu', 'watano', 'wamethibitishwa', 'kufariki', 'kufikia', 'sasa', 'baada', 'ya', 'jengo', 'la', 'ghorofa', 'sita', 'kuanguka', 'Ijumaa', 'asubuhi', 'katika', 'eneo', 'la', 'Embakasi', 'jijini', 'Nairobi', ',', 'Kenya', 'huku', 'wengine', 'kadhaa', 'wakihofiwa', 'kunaswa', 'chini', 'ya', 'kifusi', 'cha', 'jengo', 'hilo', '.', 'Shughuli', 'za', 'uokoaji', 'zinaendelea', '.', 'Ripoti', 'zinasema', 'watu', 'kadhaa', 'wameokolewa', 'na', 'kukimbizwa', 'hospitalini', 'kwa', 'ajili', 'ya', 'matibabu', '.', 'Watu', 'watatu', 'wakiwa', 'na', 'majeraha', 'mabaya', 'wametolewa', 'kutoka', 'kwenye', 'kifusi', 'na', 'kupelekwa', 'kwenye', 'hospitali', 'ya', 'rufaa', 'ya', 'Kenyatta', ',', 'jijini', 'Nairobi', ',', 'wakiwemo', 'mama', 'na', 'mtoto', '.', 'Familia', '46', 'walikuwa', 'wakuwa', 'wakiishi', 'kwenye', 'jengo', 'hilo', '.', 'Huwezi', 'kusikiliza', 'tena', 'Maelezo', 'ya', 'video', ',', 'Aliyeshuhudia', 'aelezea', 'kilichotokea', '?', 'Polisi', 'na', 'kikosi', 'cha', 'msalaba', 'mwekundu', 'kutoka', 'kaunti', 'ya', 'Nairobi', 'wako', 'kwenye', 'eneo', 'la', 'tukio', '.', 'Wanapata', 'wakati', 'mgumu', 'kudhibiti', 'kundi', 'kubwa', 'la', 'watu', 'waliojitokeza', 'kushuhudia', 'mkasa', 'huo', '.', 'Haijabainika', 'ni', 'kwanini', 'jengo', 'hilo', 'liliporomoka', 'na', 'ni', 'watu', 'wangapi', 'wamekwama', 'kwenye', 'jengo', 'hilo.Wenyeji', 'wanadai', 'kuwa', 'huenda', 'ikawa', 'watu', 'wengi', 'wamekwama', 'kwani', 'jengo', 'lenyewe', 'liliporomoka', 'mapema', 'asubuhi', 'na', 'wakati', 'huu', 'shule', 'zikiwa', 'zimefungwa', '.', 'Maelezo', 'ya', 'picha', ',', 'Baadhi', 'ya', 'maafisa', 'wa', 'St', 'Johns', 'wakishirikiana', 'na', 'maafisa', 'wa', 'polisi', 'pamoja', 'na', 'wasamaria', 'wema', 'kuokoa', 'baadhi', 'ya', 'watu', 'waliokuwa', 'wamenaswa', 'chini', 'ya', 'vifusi', 'vya', 'jengo', 'hilo', 'Wenyeji', 'wanailaumu', 'Idara', 'ya', 'mipango', 'ya', 'Ujenzi', 'nchini', 'kwa', 'kutohakikisha', 'majengo', 'yaliyojengwa', 'ni', 'salama', 'kutumika.Wanadai', 'kuwa', 'Idara', 'hiyo', 'imezembea', 'katika', 'kukagua', 'usalama', 'wa', 'majengo', 'hasa', 'jijini', 'Nairobi', 'na', 'hivyo', 'kuwaacha', 'watu', 'katika', 'hatari', '.', 'Shughuli', 'za', 'kuwaokoa', 'walionasa', 'kwenye', 'jumba', 'hilo', 'zinaendelea', 'huku', 'magari', 'ya', 'kubeba', 'wagonjwa', 'yakiwa', 'yamefika', 'kutoa', 'msaada', 'wa', 'dharura', '.', 'Mkuu', 'wa', 'polisi', 'Philip', 'Ndolo', 'amesema', 'kuwa', 'wanafanya', 'kila', 'wawezalo', 'kuwaokoa', 'watu', 'waliokwama', '.', 'Chanzo', 'cha', 'picha', ',', 'Dickson', 'Omari', 'Maelezo', 'ya', 'picha', ',', 'Watu', 'wanahofiwa', 'kunasa', 'kwenye', 'kifusi', 'Hili', 'si', 'jengo', 'la', 'kwanza', 'kuporomoka', '.', 'Mwezi', 'Septemba', 'mwaka', 'huu', 'jengo', 'la', 'ghorofa', 'moja', 'la', 'shule', 'eno', 'la', 'Dogoretti', 'Nairobi', 'liliporomoka', 'na', 'kuwaua', 'wanafunzi', 'saba', 'huku', 'wengine', '64', 'wakijeruhiwa', '.', 'Mwaka', '2015', ',', 'Jengo', 'jingine', 'la', 'ghorofa', 'sita', 'liliporomoka', 'eneo', 'la', 'Huruma', 'jijini', 'Nairobi', 'na', 'kugharimu', 'maisha', 'ya', 'watu', '.', 'Serikali', 'wakati', 'huo', 'ilianza', 'ukaguzi', 'wa', 'majengo', 'yote', 'haswa', 'ya', 'makazi', 'jijini', 'Nairobi', '.', 'Ripoti', 'ya', 'ukaguzi', 'ilionyesha', 'kuwa', 'zaidi', 'ya', 'majengo', '800', 'si', 'salama', 'na', 'hivyo', 'yalihitaji', 'kubomolewa', 'kwani', 'hayakidhi', 'viwango', 'vya', 'ubora', '.', 'Hata', 'hivyo', 'shughuli', 'hiyo', 'ilisimamishwa', 'baadaye', 'serikali', 'ikidai', 'haikuwa', 'na', 'fedha', 'za', 'kutosha', 'kubomoa', 'majengo', 'hayo', 'yote', '.']\n",
      "\n",
      " Number of Words:  418\n"
     ]
    }
   ],
   "source": [
    "file=\"19dec6_4.txt\"\n",
    "\n",
    "# calling the function and storing the contents in a text variable \n",
    "text = get_document(\"https://www.bbc.com/swahili/habari-50682763\")\n",
    "\n",
    "# calling the store_ document function \n",
    "store_document(doc=text,name=file)\n",
    "\n",
    "#add the words in this file to the total_corpus_words, to keep count of the number of words in the corpus\n",
    "total_corpus_words+=total_words(file)"
   ]
  },
  {
   "cell_type": "code",
   "execution_count": 95,
   "metadata": {},
   "outputs": [
    {
     "data": {
      "text/plain": [
       "176661"
      ]
     },
     "execution_count": 95,
     "metadata": {},
     "output_type": "execute_result"
    }
   ],
   "source": [
    "total_corpus_words"
   ]
  },
  {
   "cell_type": "code",
   "execution_count": 96,
   "metadata": {},
   "outputs": [
    {
     "name": "stdout",
     "output_type": "stream",
     "text": [
      "['Iliwachuku', 'waokoaji', 'takriban', 'siku', '13', 'kuopoa', 'miili', 'pamoja', 'na', 'gari', 'walilozama', 'nalo', '.', 'Taarifa', 'ya', 'KFS', 'kuhusu', 'kifo', 'cha', 'Mutinda', 'ilisema', ':', 'Dereva', 'alikuwa', 'akiendesha', 'gari', 'aina', 'ya', 'saloon', 'ambaye', 'nambari', 'zake', 'za', 'usajili', 'hazijafichuliwa', 'baada', 'ya', 'kununua', 'tiketi', 'aliteremka', 'kwa', 'kasi', 'katika', 'mteremko', 'wa', 'feri', 'na', 'kuingia', 'baharini', '.', 'Maelezo', 'ya', 'picha', ',', 'Gari', 'lililotumbukia', 'baharini', 'katika', 'kivuko', 'cha', 'likoni', 'feri', 'latolewa', 'Shirika', 'hilo', 'liliongezea', 'kwamba', 'dereva', 'huyo', 'alikataa', 'kusimamisha', 'gari', 'hilo', 'licha', 'ya', 'juhudi', 'kadhaa', 'za', 'maafisa', 'wa', 'feri', 'kumsimamisha', '.', 'Maboti', 'ya', 'uokoaji', 'ya', 'KFS', ',', 'wanamaji', 'wa', 'Kenya', 'Navy', 'na', 'maafisa', 'wa', 'polisi', 'wakishirikiana', 'na', 'waokoaji', 'wengine', 'yalifika', 'katika', 'kivuko', 'hicho', 'mara', 'moja', 'na', 'kuanzisjha', 'operesheni', 'ya', 'kulisaka', 'gari', 'hilo', 'mara', 'moja', '.', 'Gavana', 'wa', 'Mombasa', 'Hassan', 'Joho', 'mapema', 'alikuwa', 'amesema', 'kwamba', 'serikali', 'ya', 'kaunti', 'hiyo', 'ilikuwa', 'imepeleka', 'kitengo', 'chake', 'kushirikiana', 'na', 'wakojia', 'wengine', 'wa', 'idara', 'tofauti', 'za', 'serikali', '.', 'Maelezo', 'ya', 'picha', ',', 'Gari', 'lililotumbukia', 'baharini', 'katika', 'kivuko', 'cha', 'likoni', 'feri', 'latolewa', 'Jinsi', 'kisa', 'cha', 'Maryam', 'Kighenda', 'na', 'mwanawe', 'kilivyojiri', ':', 'Sept', '29', ':', 'Gari', 'dogo', 'aina', 'ya', 'soloon', 'lililoarifiwa', 'kuwa', 'na', 'watu', 'wawili', 'ndani', 'lazama', 'katika', 'kivuko', 'cha', 'Likoni', 'Sept', '30', ':', 'Mkurugenzi', 'mkuu', 'wa', 'shirika', 'la', 'Ferry', 'Bakari', 'Gowa', 'asema', 'kwamba', 'wataalam', 'wamebaini', 'kuwa', 'gari', 'hilo', 'lilizama', 'kima', 'cha', 'mita', '60', ',', 'hivyobasi', 'kufanya', 'kuwa', 'vigumu', 'kuliokoa', '.', 'Sept', '30', ':', 'Shughuli', 'za', 'uokoaji', 'ambazo', 'zimejumuisha', 'maafisa', 'kutoka', 'vitengo', 'vya', 'Kenya', 'Navy', ',', 'Kenya', 'Ferry', ',', 'na', 'wapiga', 'mbizi', 'wa', 'kibinafsi', 'zaanza', '.', 'Okt', '1', ':', 'Kivuko', 'cha', 'feri', 'chafungwa', 'kwa', 'saa', 'tatu', 'ili', 'kuruhusu', 'utafutaji', 'ulioendelea', 'wa', 'gari', 'na', 'miili', 'ya', 'waliokuwemo', 'ndani', '.', 'Okt', '2', ':', 'Familia', 'ya', 'waathiriwa', 'yalalamikia', 'kujikokota', 'kwa', 'operesheni', 'ya', 'uopoaji', 'miili', 'ya', 'waathiriwa', '.', 'Okt', '2', ':', 'Kikosi', 'cha', 'pamoja', 'katika', 'operesheni', 'ya', 'uopoaji', 'kinasema', 'kimegunuda', 'sehemu', 'lilipo', 'gari', '.', 'Hii', 'ni', 'baada', 'ya', 'kuyakagua', 'maeneo', 'kadhaa', 'yalioshukiwa', 'kuwepo', 'gari', 'hilo', '.']\n",
      "\n",
      " Number of Words:  306\n"
     ]
    }
   ],
   "source": [
    "file=\"19dec7.txt\"\n",
    "\n",
    "# calling the function and storing the contents in a text variable \n",
    "text = get_document(\"https://www.bbc.com/swahili/habari-50698204\")\n",
    "\n",
    "# calling the store_ document function \n",
    "store_document(doc=text,name=file)\n",
    "\n",
    "#add the words in this file to the total_corpus_words, to keep count of the number of words in the corpus\n",
    "total_corpus_words+=total_words(file)"
   ]
  },
  {
   "cell_type": "code",
   "execution_count": 97,
   "metadata": {},
   "outputs": [
    {
     "data": {
      "text/plain": [
       "176967"
      ]
     },
     "execution_count": 97,
     "metadata": {},
     "output_type": "execute_result"
    }
   ],
   "source": [
    "total_corpus_words"
   ]
  },
  {
   "cell_type": "code",
   "execution_count": 98,
   "metadata": {},
   "outputs": [
    {
     "name": "stdout",
     "output_type": "stream",
     "text": [
      "['Wasichana', 'wadogo', 'mjini', 'Nairobi', 'wanavyokabiliana', 'na', 'unyanyasaji', 'wa', 'kijinsia', 'Huwezi', 'kusikiliza', 'tena', 'Wasichana', 'wadogo', 'mjini', 'Nairobi', 'wanavyokabiliana', 'na', 'unyanyasaji', 'wa', 'kijinsia', '8', 'Disemba', '2019', 'Zubeida', 'Yusuf', 'mwenye', 'umri', 'wa', 'miaka', '22', 'ameishi', 'katika', 'kitongoji', 'cha', 'Kibera', 'viungani', 'mwa', 'mji', 'mkuu', 'kwa', 'miaka', 'mingi', '.', 'Anasema', 'unyanyasaji', 'wa', 'kijinsia', 'umekuwa', 'sehemu', 'ya', 'maisha', 'yake', 'tangu', 'alipokuwa', 'msichana', 'mdogo', '.', 'Wanaume', 'wanakuambia', 'maneno', 'ya', 'kudhalilisha', 'kama', 'vile', '‘', 'umenona', 'sana', '...', 'kwani', 'mama', 'yako', 'anafanya', 'kazi', 'katika', 'duka', 'la', 'kuuza', 'nyama', '?', 'ameiambia', 'BBC', 'kuwa', 'wasichana', 'wanahitaji', 'ujasiri', 'wa', 'hali', 'ya', 'juu', 'kutembea', 'katika', 'mtaa', 'wa', 'Kibera', '.']\n",
      "\n",
      " Number of Words:  96\n"
     ]
    }
   ],
   "source": [
    "file=\"19dec8.txt\"\n",
    "\n",
    "# calling the function and storing the contents in a text variable \n",
    "text = get_document(\"https://www.bbc.com/swahili/michezo-50706300\")\n",
    "\n",
    "# calling the store_ document function \n",
    "store_document(doc=text,name=file)\n",
    "\n",
    "#add the words in this file to the total_corpus_words, to keep count of the number of words in the corpus\n",
    "total_corpus_words+=total_words(file)"
   ]
  },
  {
   "cell_type": "code",
   "execution_count": 99,
   "metadata": {},
   "outputs": [
    {
     "data": {
      "text/plain": [
       "177063"
      ]
     },
     "execution_count": 99,
     "metadata": {},
     "output_type": "execute_result"
    }
   ],
   "source": [
    "total_corpus_words"
   ]
  },
  {
   "cell_type": "code",
   "execution_count": 100,
   "metadata": {},
   "outputs": [
    {
     "name": "stdout",
     "output_type": "stream",
     "text": [
      "['Gavana', 'Sonko', 'amekanusha', 'madai', 'ya', 'ufisadi', 'dhidi', 'yake', 'Mahakama', 'jijini', 'Nairobi', 'imeamuru', 'Gavana', 'wa', 'Nairobi', 'Mike', 'Sonko', 'kusalia', 'mahabusu', 'hadi', 'siku', 'ya', 'Jumatano', '(', 'tarehe', '11', ')', 'wakati', 'ombi', 'lake', 'la', 'dhamana', 'litakapoamuliwa', '.', 'Hakimu', 'mkuu', 'wa', 'mahakama', 'ya', 'kupambana', 'na', 'ufisadi', 'Douglas', 'Ogoti', 'akitoa', 'uamuzi', 'huo', ',', 'pia', 'amemwamrisha', 'Inspekta', 'Jenerali', 'wa', 'Polisi', 'kuwakamata', 'na', 'kuwawasilisha', 'washukiwa', 'wengine', 'waliotajwa', 'na', 'idara', 'ya', 'mkuu', 'wa', 'mashtaka', 'ya', 'umma', 'waliokosa', 'kufika', 'kortini', 'hii', 'leo', '.', 'Mawakili', 'wa', 'Sonko', 'walikuwa', 'wamewasilisha', 'ombi', 'la', 'kuachiliwa', 'kwa', 'dhamana', ',', 'wakisema', 'kwamba', 'mteja', 'wao', 'anaumwa', 'na', 'anahitaji', 'matibabu', 'ya', 'kina', '.', 'Hata', 'hivyo', ',', 'upande', 'wa', 'mashtaka', 'umepinga', 'ombi', 'hilo', 'na', 'kusema', 'kwamba', 'kutaepusha', 'uwezekano', 'wa', 'mashahidi', 'kutishiwa', ',', 'kuingiliwa', 'kwa', 'kesi', 'na', 'pia', 'kufanya', 'hivyo', ',', 'ni', 'hatari', 'kwa', 'sababu', 'tayari', 'mtuhumiwa', 'anasemekana', 'kuwa', 'na', 'historia', 'ya', 'kukimbia', 'jela', '.', \"''Kuhusu\", 'kuzuiliwa', 'haswa', 'kuhusu', 'mshatakiwa', 'wa', 'kwanza', 'na', 'baada', 'ya', 'kusikiliza', 'pande', 'zote', 'kuhusu', 'maswala', 'mengine', 'yote.Ninatoa', 'amri', 'kama', 'ifuatavyo', '.', 'Ninamwamrisha', 'Inspekta', 'Jenerali', 'wa', 'Polisi', 'kuwakamata', 'na', 'kuwawasilisha', 'mahakamani', 'washukiwa', 'wote', 'ambao', 'hawakufika', 'hii', 'leo', 'koti', 'hii', 'itakapoketi', 'tena', \"''\", '.', \"''Korti\", 'hii', 'itatoa', 'uamuzi', 'wake', 'siku', 'ya', 'Jumatano', 'ya', 'tarehe', '11', 'mwezi', 'huu', '.', 'Washtakiwa', 'watazidi', 'kuzuiliwa.Kutokana', 'na', 'mshukiwa', 'wa', 'kwanza', 'kuhitaji', 'matibabu', 'ya', 'dharura', 'licha', 'ya', 'kuwa', 'kuna', 'pingamishi', ',', 'ninaamrisha', 'apelekwe', 'hospitali', 'baada', 'ya', 'kituo', 'cha', 'matibabu', 'cha', 'idara', 'ya', 'magereza', 'kuhakikisha', 'akiwa', 'na', 'daktari', 'wake', 'ili', 'kumwezesha', 'kupelekewa', 'kwenye', 'hospitali', 'nyingine', 'yoyote', 'punde', 'hilo', 'litapopangwa', '.', \"''\", 'Douglas', 'Ogoti', ',', 'Hakimu', ',', 'Mahakama', 'ya', 'kupambana', 'na', 'Ufusadi', '.', 'Chanzo', 'cha', 'picha', ',', 'MIKE', 'SONKO/TWITTER', 'Gavana', 'na', 'wenzake', 'watashikiliwa', 'katika', 'gereza', 'la', 'Industrial', 'Area', '.', 'Hii', 'ni', 'baada', 'ya', 'upande', 'wa', 'mashtaka', 'kusema', 'kwamba', 'shirika', 'la', 'kupambana', 'na', 'ufisadi', 'kukiri', 'kutokuwa', 'na', 'nafasi', 'ya', 'kutosha', 'ya', 'kuwashikilia', 'watuhumiwa', 'wote', '.', 'Vilevile', ',', 'upande', 'wa', 'mashtaka', 'ulitoa', 'maagizo', 'ya', 'kumzuia', 'Sonko', 'na', 'maafisa', 'wengine', 'wa', 'umma', 'kufika', 'katika', 'ifisi', 'zao', 'za', 'utendaji', 'kazi', 'hadi', 'kesi', 'hiyo', 'itakaposikilizwa', '.', 'Aidha', ',', 'wametaka', 'watuhumiwa', 'kupigwa', 'marufuku', 'ya', 'kuwasiliana', ',', 'kutishia', 'mashahidi', 'au', 'wachunguzi', 'pamoja', 'na', 'kuwasilisha', 'paspoti', 'zao', 'mahakamani', '.', 'Mashtaka', 'ni', 'yapi', '?', 'Gavana', 'wa', 'Nairobi', 'Mike', 'Sonko', 'ameshtakiwa', 'katika', 'mahakama', 'ya', 'Milimani', 'jijini', 'Nairobi', 'na', 'makosa', 'kadha', 'yanayohusiana', 'na', 'kutolewa', 'kwa', 'zabuni', 'ya', 'zaidi', 'ya', 'dola', '3.5', 'za', 'Marekani', '.', 'Akiwa', 'mbele', 'ya', 'hakimu', 'mkuu', 'wa', 'mahakama', 'ya', 'ufisadi', 'Douglas', 'Ogoti', ',', 'Sonko', 'alishatkiwa', 'pamoja', 'na', 'maafisa', 'wengine', 'wanane', 'wa', 'serikali', 'ya', 'jimbo', 'wanaoaminika', 'kujinufaisha', 'kutokana', 'na', 'zabuni', 'hizo', '.', 'Gavana', 'huyo', 'na', 'wenzake', 'walishtakiwa', 'na', 'makosa', 'tofauti', 'ya', 'ufisadi', 'kama', 'vile', 'kupanga', 'kufanya', 'kitendo', 'cha', 'ufisadi', ',', 'kukosa', 'kufuata', 'sheria', 'ya', 'manunuzi', 'serikalini', ',', 'kutumia', 'vibaya', 'mamlaka', 'za', 'ofisi', 'zao', 'pamoja', 'na', 'kutwaa', 'mali', 'ya', 'Umma', 'kinyume', 'na', 'sheria', '.', 'Pia', 'walishtakiwa', 'kwa', 'udanganyifu', 'na', 'kupokea', 'fedha', 'zinazotokana', 'na', 'ufisadi', '.', 'Upande', 'wa', 'Mashtaka', 'wapinga', 'kuachiliwa', 'kwa', 'Sonko', 'kwa', 'dhamana', 'Mawakili', 'wa', 'Gavana', 'huyo', 'hata', 'hivyo', 'wanaitaka', 'koti', 'kumwachilia', 'huru', 'wakidai', 'aliumizwa', 'wakati', 'wa', 'kukamatwa', 'kwake', 'eneo', 'la', 'Voi', 'na', 'maafisa', 'wa', 'polisi', 'na', 'hivyo', 'anahitaji', 'matibabu', 'zaidi', '.', 'Hakimu', 'Mkuu', 'Chacha', 'Ogoti', 'anatarajiwa', 'kutoa', 'uamuzi', 'huo', 'hii', 'leo', '.', 'Hatma', 'ya', 'Kaunti', 'ya', 'Nairobi', 'Kwa', 'sasa', 'kaunti', 'ya', 'Nairobi', 'haina', 'naibu', 'gavana', 'jambo', 'ambalo', 'limezua', 'gumzo', 'kali', '.', 'Kulingana', 'na', 'katiba', 'ya', 'kenya', 'iwapo', 'gavana', 'hawezi', 'kufanyakazi', 'na', 'naibu', 'wake', 'pia', 'hawezi', 'kufanya', 'kazi', 'vilevile', ',', 'spika', 'wa', 'bunge', 'la', 'kaunti', 'atashikilia', 'kwa', 'siku', '60', ',', 'katika', 'tukio', 'hili', 'akiwa', 'ni', 'Beatrice', 'Elachi', '.', 'Hayo', 'ni', 'kulingana', 'na', 'mchambuzi', 'wa', 'masuala', 'ya', 'kisheria', 'Alutalala', 'Mukwahana', '.', 'Na', 'katiba', 'hiyo', 'hiyo', 'inasema', 'baada', 'ya', 'siku', '60', 'wananchi', 'warudi', 'debeni', '.', 'Lakini', 'kulingana', 'na', 'Bwana', 'Mukwahana', ',', 'walioandaa', 'katiba', 'hawakutarajia', 'kwamba', 'hili', 'litatokea', 'ilihali', 'Gavana', 'mwenyewe', 'bado', 'yupo', '.', 'Je', 'sokomoko', 'hii', 'inaweza', 'kutatuliwa', 'vipi', '?', 'Katiba', 'inamruhusu', 'Rais', 'Kenyatta', 'kuvunjilia', 'mbali', 'serikali', 'yoyote', 'ya', 'kaunti', 'iwapo', 'mazingira', 'ya', 'kipekee', 'yatatokea', 'na', 'kufanya', 'utendakazi', 'wa', 'serikali', 'hiyo', 'uwe', 'mgumu', '.', 'Mtazamo', 'wa', 'mchambuzi', 'wa', 'masuala', 'ya', 'kisheria', 'Alutalala', 'Mukwahana', 'iwapo', 'atakosa', 'kuungwa', 'mkono', 'na', 'magavana', 'wengine', 'kuna', 'uwezekano', 'wa', 'rais', 'kuivunja', 'serikali', 'ya', 'Sonko', 'na', 'kuiweka', 'Nairobi', 'katika', 'serikali', 'kuu', '.', 'Alutalala', 'Mukwahana', 'anafafanua', 'kwamba', 'katika', 'Kamati', 'ya', 'maridhiano', 'maarufu', 'kama', 'BBI', ',', 'kuna', 'pendekezo', 'kuwa', 'Nairobi', 'ivunjiliwe', 'mbali', '.', \"''Mwaka\", '1975', 'hayati', 'Kenyatta', 'alikubaliana', 'na', 'Umoja', 'wa', 'Mataifa', 'kwamba', 'makao', 'makuu', 'ya', 'Umoja', 'huo', 'yatakuwa', 'Kenya', 'na', 'wakaweka', 'masharti', 'baina', 'yao', 'na', 'serikali', 'kuu', 'kwamba', 'hali', 'ya', 'miundo', 'mbinu', 'na', 'utendakazi', 'wote', 'katika', 'jiji', 'utakuwa', 'ni', 'wenye', 'kuhakikisha', 'makao', 'hayo', 'makuu', 'utakuwa', 'ni', 'wenyewe', 'kuendesha', 'shughuli', 'zake', 'bila', 'kusumbuliwa', '.', \"''\"]\n",
      "\n",
      " Number of Words:  731\n"
     ]
    }
   ],
   "source": [
    "file=\"19dec9.txt\"\n",
    "\n",
    "# calling the function and storing the contents in a text variable \n",
    "text = get_document(\"https://www.bbc.com/swahili/habari-50715697\")\n",
    "\n",
    "# calling the store_ document function \n",
    "store_document(doc=text,name=file)\n",
    "\n",
    "#add the words in this file to the total_corpus_words, to keep count of the number of words in the corpus\n",
    "total_corpus_words+=total_words(file)"
   ]
  },
  {
   "cell_type": "code",
   "execution_count": 101,
   "metadata": {},
   "outputs": [
    {
     "data": {
      "text/plain": [
       "177794"
      ]
     },
     "execution_count": 101,
     "metadata": {},
     "output_type": "execute_result"
    }
   ],
   "source": [
    "total_corpus_words"
   ]
  },
  {
   "cell_type": "code",
   "execution_count": 102,
   "metadata": {},
   "outputs": [
    {
     "name": "stdout",
     "output_type": "stream",
     "text": [
      "['Sudan', 'kuwalipa', 'waathiriwa', 'wa', 'mkasa', 'wa', 'bomu', 'wa', '1998', 'Kenya', 'na', 'Tanzania', 'Ndugu', 'ya', 'waathiriwa', 'wa', 'mkasa', 'wa', 'bomu', 'wa', '1998', 'jijini', 'Nairobi', 'akisoma', 'majina', 'ya', 'walioathirika', 'Waziri', 'mkuu', 'mpya', 'wa', 'Sudan', 'Abdalla', 'Hamdok', ',', 'ameahidi', 'kwamba', 'taifa', 'lake', 'hivi', 'karibuni', 'litawafidia', 'takriban', 'dola', 'bilioni', '6', 'waathiriwa', 'wa', 'mkasa', 'wa', 'bomu', 'nchini', 'Kenya', 'na', 'Tanzania', 'katika', 'balozi', 'za', 'Marekani', 'za', '1998', 'mjini', 'Nairobi', 'na', 'Dar', 'es', 'Salaam', '.', \"''Tulichukua\", 'jukumu', 'la', 'kuangazia', 'madai', 'hayo', 'na', 'kuafikia', 'makubaliano', \"''\", ',', 'alisema', 'waziri', 'mkuu', 'Abdalla', 'Hamdok', 'akinukuliwa', 'na', 'gazeti', 'moja', 'nchini', 'Marekani', '.', 'Bwana', 'Hamdok', 'alikuwa', 'akisema', 'hayo', 'wakati', 'wa', 'ziara', 'yake', 'ya', 'kwanza', 'nchini', 'Marekani', 'ambapo', 'alitaka', 'Sudan', 'kuondolewa', 'katika', 'idadi', 'ya', 'mataifa', 'yalioorodheshwa', 'na', 'Marekani', 'kwamba', 'yanaficha', 'magaidi', '.', 'Familia', 'zitakazofidiwa', 'Takriban', 'familia', '570', 'za', 'wafanyakazi', 'wa', 'balozi', 'za', 'Marekani', 'na', 'wanakandarasi', 'waliouawa', 'katika', 'mashambilio', 'pacha', 'yaliotekelezwa', 'na', 'kundi', 'la', 'al', 'Qaeda', 'mjini', 'Nairobi', 'na', 'Dar', 'es', 'Salaam', 'wanatarajiwa', 'kufidiwa', '.', 'Hatahivyo', 'fidia', 'hiyo', 'ilioagizwa', 'na', 'mahakama', 'ya', 'Marekani', 'haitawafaidi', 'maelfu', 'ya', 'Wakenya', 'na', 'Watanzania', 'ambao', 'waliathiriwa', 'na', 'mashambulio', 'hayo', 'aidha', 'moja', 'kwa', 'moja', 'au', 'kwa', 'njia', 'nyengine', 'lakini', 'hawakuajiriwa', 'na', 'balozi', 'ama', 'kampuni', 'za', 'kibinafsi', 'ambazo', 'zilifanya', 'biashara', 'na', 'balozi', 'hizo', '.', 'Takriban', 'watu', '224', 'walifariki', 'katika', 'mashambulio', 'hayo', 'pacha-', '214', 'mjini', 'Nairobi', 'na', '10', 'Dar', 'es', 'Salaam', '.', 'Idadi', 'hiyo', 'inashirikisha', 'Waafrika', '212', 'na', 'Wamarekani', '12', '.', 'Je', 'Sudan', 'inahusika', 'kivipi', 'na', 'mashambulizi', 'hayo', '?', 'Mahakama', 'za', 'Marekani', 'zimeiwajibisha', 'Sudan', 'kulipa', 'fidia', 'ya', '$', '5.9', 'bilioni', 'kwa', 'watu', 'hao', 'kwa', 'kuwa', 'ilihusika', 'kumficha', 'kiongozi', 'wa', 'kundi', 'la', 'al-Qaeda', 'Osama', 'bin', 'Laden', 'wakati', 'alipokuwa', 'akipanga', 'njama', 'za', 'kutekeleza', 'mashambulio', 'hayo', '.', 'Manusura', 'hao', 'wanaweza', 'kupokea', 'nyongeza', 'ya', '$', '4.3', 'bilioni', 'iwapo', 'mahakama', 'ya', 'kilele', 'ya', 'Marekani', 'itabadilisha', 'uamuzi', 'wa', 'mahakama', 'ya', 'chini', 'wa', 'kutowalipa', 'fedha', 'za', 'muda', 'waliotumia', 'kuwasilisha', 'kesi', 'hiyo', '.', 'Chanzo', 'cha', 'picha', ',', 'SIMON', 'MAINA', 'Maelezo', 'ya', 'picha', ',', 'Baadhi', 'ya', 'waathiriwa', 'wa', 'mkasa', 'huo', 'wakitaka', 'haki', 'kufuatia', 'mkasa', 'huo', '``', 'Fidia', 'hiyo', 'inatilia', 'maanani', 'hali', 'ya', 'kiuchumi', 'ya', 'Sudan', 'pamoja', 'na', 'hali', 'ya', 'kiuchumi', 'ya', 'waathiriwa', 'ambao', 'maisha', 'yao', 'yameharibiwa', 'na', 'wengine', 'wengi', 'ambao', 'wamekuwa', 'masikini', 'kwa', 'takriban', 'miaka', '20', 'kufuatia', 'kufariki', 'kwa', 'babao', 'zao', ',', 'mama', 'zao', 'ama', 'hata', 'mume', 'ama', 'mke', 'wake', \"''\", ',', 'aliandika', 'wakili', 'wa', 'waathiriwa', 'mwenye', 'makao', 'yake', 'nchini', 'Markani', 'bwana', 'Gavriel', 'Mairone', '.', 'Chanzo', 'cha', 'picha', ',', 'SIMON', 'MAINA', 'Maelezo', 'ya', 'picha', ',', 'Mwanmke', 'akisoma', 'majina', 'ya', 'baadhi', 'ya', 'waathiriwa', 'wa', 'mkasa', 'wa', 'bomu', 'wa', 'ubalozi', 'wa', 'Kenya', 'Jijini', 'Nairobi', '1998', 'katika', 'eneo', 'la', 'kumbukumbu', 'la', 'iliokuwa', 'ubalozi', 'wa', 'Markani', 'jijini', 'Nairobi', 'Wakili', 'huyo', 'amesema', 'kwamba', 'tayari', 'amewasiliana', 'na', 'mawakili', 'wa', 'serikali', 'ya', 'Sudan', 'ili', 'kuonyesha', 'uwajibikaji', 'wao', 'na', 'ameweka', 'mapendekezo', 'ya', 'kutatua', 'mgogoro', 'huo', '.', \"'Tunasubiri\", 'mapendekezo', 'muhimu', 'kutoka', 'kwa', 'waziri', 'mkuu', 'huyo', \"'\", ',', 'aliongezea', 'mwanasheria', 'huyo', 'mkuu', 'ambaye', 'anafuatilia', 'sana', 'kesi', 'zinazohusika', 'na', 'maswala', 'ya', 'ugaidi', '.', 'Masharti', 'ya', 'Marekani', 'kwa', 'Sudan', 'Sudan', 'iliorodheshwa', 'miongoni', 'mwa', 'mataifa', 'ya', 'ugaidi', '1993', '.', 'Maelezo', 'ya', 'picha', ',', 'Muda', 'mfupi', 'baada', 'ya', 'shambulio', 'la', 'kigaidi', 'la', 'ubalozi', 'wa', 'Marekani', 'jijini', 'Nairobi', '1998', 'Vikwazo', 'vinavyotokana', 'na', 'taifa', 'lililoorodheshwa', 'katika', 'orodha', 'hiyo', 'ya', 'ugaidi', 'inazuia', 'taifa', 'hilo', 'kutoshiriki', 'kikamilifu', 'katika', 'maswala', 'ya', 'uchumi', 'duniani', '.', 'Na', 'ili', 'kuondolewa', 'kutoka', 'katika', 'orodha', 'hiyo', ',', 'Sudan', 'ilihitajika', 'kuafikia', 'msururu', 'wa', 'masharti', 'ya', 'Marekani', 'ikiwemo', 'kuwalipa', 'jamaa', 'za', 'wafanyakazi', 'wake', 'walioathiriwa', 'katika', 'mashambulio', 'hayo', 'ya', 'bomu', '.', 'Bwana', 'Hamdok', 'aliateuliwa', 'kuwa', 'waziri', 'mkuu', 'mwezi', 'Agosti', 'kufuatia', 'maandamano', 'dhidi', 'ya', 'serikali', 'ambayo', \"yalimng'atua\", 'madarakani', 'aliyekuwa', 'rais', 'wa', 'taifa', 'hilo', 'Omar', 'al-', 'Bashir', '.', 'Kiongozi', 'huyoo', 'mpya', 'ameahidi', 'kufanya', 'mabadiliko', 'katika', 'sera', 'za', 'ndani', 'za', 'taifa', 'hilo', 'pamoja', 'na', 'zile', 'za', 'kimataifa', '.', 'Maafisa', 'wa', 'Sudan', 'awali', 'wamekuwa', 'wakilalamikia', 'umasikini', 'kama', 'sababu', 'kukwepa', 'mauaji', 'bila', 'kukubali', 'jukumu', 'la', 'madhara', 'na', 'uharibifu', 'wa', 'kiuchumi', 'dhidi', 'ya', 'waathiriwa', '.']\n",
      "\n",
      " Number of Words:  611\n"
     ]
    }
   ],
   "source": [
    "file=\"19dec10.txt\"\n",
    "\n",
    "# calling the function and storing the contents in a text variable \n",
    "text = get_document(\"https://www.bbc.com/swahili/habari-50726080\")\n",
    "\n",
    "# calling the store_ document function \n",
    "store_document(doc=text,name=file)\n",
    "\n",
    "#add the words in this file to the total_corpus_words, to keep count of the number of words in the corpus\n",
    "total_corpus_words+=total_words(file)"
   ]
  },
  {
   "cell_type": "code",
   "execution_count": 103,
   "metadata": {},
   "outputs": [
    {
     "data": {
      "text/plain": [
       "178405"
      ]
     },
     "execution_count": 103,
     "metadata": {},
     "output_type": "execute_result"
    }
   ],
   "source": [
    "total_corpus_words"
   ]
  },
  {
   "cell_type": "code",
   "execution_count": 104,
   "metadata": {},
   "outputs": [
    {
     "name": "stdout",
     "output_type": "stream",
     "text": [
      "['Wajir', 'Kenya', ':', 'Mwalimu', 'ndiye', 'aliyeongoza', 'mauaji', 'ya', 'watu', '10', 'Wapiganaji', 'wa', 'alshabab', 'wamekuwa', 'wakitekeleza', 'mashambulizi', 'ya', 'mara', 'kwa', 'mara', 'katika', 'eneo', 'la', 'kaskazini', 'mwa', 'Kenya', 'Maafisa', 'wa', 'usalama', 'nchini', 'Kenya', 'wanasema', 'mwalimu', 'mmoja', 'wa', 'shule', 'ya', 'msingi', 'ndiye', 'aliyepanga', 'an', 'kuongoza', 'shambulizi', 'la', 'kigaidi', 'dhidi', 'ya', 'basi', 'la', 'abiria', 'kaskazini', 'mwa', 'taifa', 'hilo', 'mwishoni', 'mwa', 'wiki', '.', 'Duru', 'za', 'kuaminika', 'zilidokezea', 'BBC', 'kwamba', 'mwalimu', 'huyo', 'wa', 'kiume', 'aliwahifadhi', 'baadhi', 'ya', 'wapiganaji', 'wa', 'Al-Shabaab', 'walioingia', 'nchini', 'Kenya', 'wiki', 'tatu', 'zilizopita', '.', 'Maafisa', 'saba', 'wa', 'polisi', 'na', 'daktari', 'mmoja', 'ni', 'miongoni', 'mwa', 'watu', '10', 'waliouawa', 'kwenye', 'shambulizi', 'hilo', '.', 'Kwa', 'mujibu', 'wa', 'gazeti', 'la', 'The', 'Star', ',', 'nchini', 'Kenya', ',', 'mwalimu', 'huyo', 'ametorokea', 'taifa', 'jirani', 'la', 'Somalia', 'baada', 'ya', 'vikosi', 'vya', 'usalama', 'vya', 'Kenya', 'kuanzisha', 'msako', 'mkali', 'dhidi', 'ya', 'wanamgambo', 'wa', 'Al-Shabaab', 'katika', 'eneo', 'la', 'Wajir', '.', 'Maafisa', 'saba', 'wa', 'polisi', 'na', 'daktari', 'mmoja', 'ni', 'miongoni', 'mwa', 'watu', '10', 'waliouawa', 'katika', 'shambulio', 'hilo', 'Askari', 'hao', 'wamedaiwa', 'kutoka', 'katika', 'kitengo', 'cha', 'Anti-stock', 'huku', 'utambulisho', 'wa', 'raia', 'wengine', 'wawili', 'waliouawa', 'ukiwa', 'haujulikani', '.', 'Walioshuhudia', 'waliiambia', 'BBC', 'kwamba', 'wapiganaji', 'kadhaa', 'waliokuwa', 'wamejihami', 'walishambulia', 'basi', 'hilo', 'lililokuwa', 'likielekea', 'Mandera', 'na', 'kuwalenga', 'watu', 'wasiotoka', 'katika', 'eneo', 'hilo', 'baada', 'ya', 'kuwatenga', 'kutoka', 'kwa', 'abiria', 'wengine', '.', 'Kisa', 'hicho', 'kinadaiwa', 'kufanyika', 'kati', 'ya', 'miji', 'ya', 'Wargadadud', 'na', 'Kutulo', '.', 'Kamanda', 'wa', 'polisi', 'katika', 'kaunti', 'hiyo', 'Stephen', 'Ngetich', 'alithibitisha', 'tukio', 'hilo', 'Chanzo', 'cha', 'picha', ',', 'AFP', '``', 'Naweza', 'kuthibitisha', 'kwamba', 'kundi', 'moja', 'la', 'watu', 'waliojihami', 'walishambulia', 'basi', 'ambalo', 'lilikuwa', 'linaelekea', 'Mandera', 'siku', 'ya', 'Ijumaa', 'jioni', \"''\", ',', 'alisema', 'Basi', 'hilo', 'la', 'Madina', 'linadaiwa', 'kushambuliwa', 'mwendo', 'wa', 'saa', 'kumi', 'na', 'moja', 'jioni', '.', 'Shambulio', 'hilo', 'linajiri', 'mwezi', 'mmoja', 'baada', 'ya', 'wapiganaji', 'wa', 'al-Shabab', 'kushambulia', 'kituo', 'cha', 'polisi', 'cha', 'Wajir', 'katika', 'jaribio', 'la', 'kutaka', 'kuwaachilia', 'huru', 'washukiwa', 'wawili', 'wa', 'ugaidi', 'ambao', 'walikuwa', 'wanazuiliwa', 'katika', 'kituo', 'hicho', '.', 'Chanzo', 'cha', 'picha', ',', 'Getty', 'Images', 'Maelezo', 'ya', 'picha', ',', 'Wapiganaji', 'wa', 'alshababb', 'nchini', 'Somalia', 'Kundi', 'la', 'wapiganaji', 'wa', 'al-Shabab', 'nchini', 'Somalia', 'ambalo', 'limekuwa', 'likitekeleza', 'mashambulio', 'hayo', 'mara', 'kwa', 'mara', 'katika', 'eneo', 'hilo', 'limekiri', 'kutekeleza', 'shambulio', 'hilo', 'likisema', 'kuwa', 'limewaua', 'takriban', 'watu', '10', '.', 'Katika', 'taarifa', 'iliyochapishwa', 'katika', 'mojawapo', 'ya', 'tovuti', 'zake', ',', 'kundi', 'hilo', 'linasema', 'limewalenga', 'abiria', 'wasiokuwa', 'Waislamu', 'katika', 'basi', 'hilo', '.', 'Kisa', 'hiki', 'kimetokea', 'katika', 'barabara', 'ambayo', 'takriban', 'Wakenya', '28', 'waliokuwa', 'wakisubiri', 'basi', 'moja', 'walishambuliwa', 'na', 'kuuawa', 'miaka', 'mitano', 'iliyopita', '.']\n",
      "\n",
      " Number of Words:  380\n"
     ]
    }
   ],
   "source": [
    "file=\"19dec6_5.txt\"\n",
    "\n",
    "# calling the function and storing the contents in a text variable \n",
    "text = get_document(\"https://www.bbc.com/swahili/habari-50689414\")\n",
    "\n",
    "# calling the store_ document function \n",
    "store_document(doc=text,name=file)\n",
    "\n",
    "#add the words in this file to the total_corpus_words, to keep count of the number of words in the corpus\n",
    "total_corpus_words+=total_words(file)"
   ]
  },
  {
   "cell_type": "code",
   "execution_count": 105,
   "metadata": {},
   "outputs": [
    {
     "data": {
      "text/plain": [
       "178785"
      ]
     },
     "execution_count": 105,
     "metadata": {},
     "output_type": "execute_result"
    }
   ],
   "source": [
    "total_corpus_words"
   ]
  },
  {
   "cell_type": "code",
   "execution_count": 106,
   "metadata": {},
   "outputs": [
    {
     "name": "stdout",
     "output_type": "stream",
     "text": [
      "['Jane', 'Kiarie', ':', '``', 'Mama', 'alijaribu', 'kuniua', 'lakini', 'nikatoka', 'nikilia', \"''\", 'Jane', 'Kiarie', ',', 'ambaye', 'mama', 'yake', 'mzazi', 'aliamua', 'kuavya', 'mimba', 'yake', 'akiwa', 'na', 'miezi', 'minane', 'tumboni', ',', 'na', 'kumtelekeza', 'punde', 'tu', 'baada', 'ya', 'kutoka', 'Jane', 'Kiarie', 'alitelekezwa', 'na', 'mama', 'yake', 'mzazi', 'punde', 'tu', 'baada', 'ya', 'kuzaliwa', '.', 'Mama', 'yake', 'kijana', 'ambaye', 'kulingana', 'na', 'yeye', 'hakuwa', 'tayari', 'kupata', 'mtoto', ',', 'akipata', 'ujauzito', 'wa', 'Kiarie', 'alikuwa', 'na', 'umri', 'wa', 'miaka', '17', 'pekee', 'yaani', 'bado', 'kijana', 'na', 'wakati', 'huohuo', ',', 'alikuwa', 'akifanyakazi', 'kama', 'yaya', '.', 'Alibeba', 'ujauzito', 'wa', 'Kiarie', 'hadi', 'miezi', 'minane', 'lakini', 'mambo', 'yalimzidi', 'na', 'hapo', 'akaamua', 'kuavya', 'mimba', 'hiyo', 'akiwa', 'peke', 'yake', 'katika', 'nyumba', 'ya', 'dadake', 'alimokuwa', 'anaishi', '.', 'Baada', 'ya', 'kuona', 'mtoto', 'aliyemuavya', 'ametoka', 'akiwa', 'mzima', 'na', 'analia', ',', 'akaamua', 'kukimbia', 'na', 'kumuacha', 'mtoto', 'alipoangukia', '.', 'Dada', 'yake', 'aliporudi', 'jioni', 'baada', 'ya', 'pilk', 'apilka', 'za', 'siku', 'akakutana', 'na', 'mtoto', 'nyumbani', 'kwake', 'akiwa', 'peke', 'yake', ',', 'na', 'alichoamua', 'kufanya', 'ni', 'kumpeleka', 'kwa', 'bibi', 'yake', '.', 'Masaibu', 'ya', 'Kiarie', 'hayakuishia', 'hapo', 'kwa', 'sababu', 'mama', 'yake', 'mzazi', 'alirejea', 'tena', 'miaka', 'minne', 'baadaye', 'wakati', 'huo', 'akiwa', 'na', 'miaka', '21', 'na', 'mtoto', 'mwengine', 'wa', 'kike', 'mgongoni', '.', 'Safari', 'hii', 'mama', 'alionekana', 'kuwa', 'na', 'mpango', 'madhubuti', 'na', 'watoto', 'wake', 'kwasababu', 'mara', 'kwa', 'mara', 'aliwatembelea', 'na', 'kuwaletea', 'viatu', ',', 'pesa', 'za', 'matumizi', 'na', 'maisha', 'yakaendelea', '.', 'Unaweza', 'pia', 'kusoma', ':', 'Mama', 'yake', 'Kiarie', 'alikuwa', 'anaumwa', 'kutokana', 'na', 'ugonjwa', 'wa', 'kifua', 'kikuu', 'na', 'hakukuwa', 'na', 'dawa', 'za', 'kumnunulia', 'dawa', '.', 'Baada', 'ya', 'kumuona', 'mama', 'yake', 'akiteseka', ',', 'Kiarie', 'aliamua', 'kufanya', 'kazi', 'ya', 'yaya', 'akiwa', 'na', 'miaka', '10', 'ili', 'niweze', 'kusaidia', 'familia', 'yangu', 'kifedha', '.', \"'Sikuwa\", 'naweza', 'kupika', 'lakini', 'jukumu', 'langu', 'lilikuwa', 'kumuangalia', 'mtoto', 'na', 'kumlisha', 'na', 'kuosha', 'nguo', \"'\", '.', \"'Nilikuwa\", 'nikilipwa', 'shilingi', 'elfu', 'moja', 'ya', 'Kenya', 'na', 'wakati', 'huo', 'ilinisaidia', 'pakubwa', '.', \"'\", 'Katika', 'kipindi', 'cha', 'miaka', 'miwili', ',', 'mshahara', 'wake', 'ulikuwa', 'unakwenda', 'moja', 'kwa', 'moja', 'kwa', 'bibi', 'yake', 'ili', 'mama', 'yake', 'apate', 'matibabu', '.', \"'Uwoga\", 'wangu', 'ulikuwa', 'ni', 'kwamba', 'mama', 'hataweza', 'kurejea', 'katika', 'hali', 'yake', 'ya', 'kawaida', '.', \"'\", 'Kipindi', 'mama', 'yake', 'alikuwa', 'hoi', 'kitandani', ',', 'ndoto', 'aliyokuwa', 'akiisimulia', 'bibi', 'yao', 'ni', 'moja', 'tu', ',', 'kuona', 'watoto', 'wake', 'warudi', 'shuleni', '.', 'Lakini', 'kwa', 'bahati', 'mbaya', 'mama', 'yake', 'aliaga', 'dunia', 'muda', 'mfupi', 'baadaye', '.', 'Kukabiliana', 'na', 'kifo', 'cha', 'mama', 'yangu', '.', \"'Haikuwa\", 'kazi', 'rahisi', 'kwa', 'sababu', 'kwanza', 'sikuwa', 'nimejaaliwa', 'kuishi', 'naye', ',', 'na', 'miezi', 'mitano', 'tu', 'baada', 'ya', 'yeye', 'kurejea', 'na', 'kuanza', 'kujenga', 'uhusiano', 'wa', 'mama', 'na', 'mtoto', ',', 'akaaga', 'dunia', \"'\", '.', 'Hawakuwa', 'na', 'baba', 'na', 'hivyo', 'basi', 'waliachwa', 'na', 'bibi', 'yao', '.', 'Bibi', 'yake', 'anatoka', 'jamii', 'ambayo', 'inaamini', 'ni', 'lazima', 'kutimiza', 'wosio', 'wa', 'mtu', 'aliyekufa', 'hivyo', 'basi', 'alifanya', 'juu', 'chini', 'kuhakikisha', 'kwamba', 'wajukuu', 'wake', 'wanarejea', 'shuleni', '.', 'Alijiunga', 'na', 'darasa', 'la', 'tano', 'huku', 'dadake', 'akiingia', 'darasa', 'la', 'tatu', '.', 'Changamoto', 'za', 'maisha', 'ziliendelea', 'kuongezeka', 'kila', 'uchao', '.', 'Hawakua', 'na', 'uwezo', 'wa', 'kukimu', 'mahitaji', 'yao', ',', 'pesa', 'za', 'kulipa', 'karo', 'ama', 'kununua', 'sare', 'ya', 'shule', '.', 'Changamoto', 'nyengine', 'aliyokumbana', 'nayo', 'shuleni', 'ni', 'kukutana', 'na', 'watoto', 'wa', 'familia', 'aliyokuwa', 'akiwafanyia', 'kazi', '.', \"''Nikiwa\", 'darasa', 'la', 'nane', 'kuna', 'pesa', 'zilizokuwa', 'zinahitajika', ',', 'shilingi', '550', 'kwaajili', 'ya', 'mtihani', 'wa', 'mwisho', 'wa', 'darasa', 'la', 'nane', 'na', 'sikuwa', 'na', 'mtu', 'wa', 'kunilipia', '.', 'Nilichofanya', 'ni', 'kwenda', 'kwa', 'mkuu', 'wetu', 'wa', 'shule', 'na', 'kumuomba', 'nilime', 'shamba', 'lake', 'kwa', 'Jumamosi', 'nne', 'kuanzia', 'asubuhi', 'mpaka', 'jioni', 'na', 'yeye', 'anilipie', 'mtihani', ',', \"''\", ',', 'anasema', 'Jane', '.', 'Japo', 'alipita', 'mtihani', 'wake', ',', 'alikosa', 'mtu', 'wa', 'kumsongesha', 'mbele', 'na', 'kuamua', 'kurejea', 'kufanya', 'kazi', 'ya', 'nyumbani', '.', 'Ni', 'kipindi', 'gani', 'maisha', 'yalianza', 'kubadilika', '?', 'Kiarie', 'alianza', 'kuishi', 'na', 'shangazi', 'lake', 'aliyeamua', 'kumpeleka', 'shule', 'ya', 'kutengeneza', 'nywele', '.', 'Alifanikiwa', 'kuanza', 'kufanya', 'kazi', 'kwenye', 'saluni', 'japo', 'mshahara', 'ulikuwa', 'mdogo', 'sana', '.', 'Lakini', 'kasisi', 'wa', 'kanisa', 'ambalo', 'walikuwa', 'wanaabudu', ',', 'alifahamu', 'simulizi', 'yao', 'na', 'kuanza', 'kuwahurumia', 'hasa', 'baada', 'ya', 'kufahamu', 'kwamba', 'Kiarie', 'na', 'dadake', 'ni', 'watoto', 'yatima', '.', \"'Dadangu\", 'hakumaliza', 'darasa', 'la', 'nane', 'kwa', 'sababu', 'ya', 'ukosefu', 'wa', 'karo', '.', \"'\", ',', 'anasema', 'Jane', 'Kiarie', '.', 'Kasisi', 'wao', 'aliamua', 'kumchukua', 'Kiarie', 'kama', 'mtoto', 'wa', 'familia', 'hiyo', 'na', 'huo', 'ukawa', 'mwanzo', 'wa', 'maisha', 'yake', '.', 'Familia', 'hiyo', 'ilimtafutia', 'usaidizi', 'kwa', 'wahisani', 'na', 'hatimaye', 'Kiarie', 'akafanikiwa', 'kurejea', 'shuleni', '.', 'Februari', 'mwaka', '2001', 'wakati', 'alipojiunga', 'kidato', 'cha', 'kwanza', 'katika', 'shule', 'ya', 'upili', 'ya', 'Juja', '.', 'Safari', 'yake', 'haikuwa', 'rahisi', 'kwasababu', 'ya', 'malimbikizi', 'ya', 'madeni', 'lakini', 'utawala', 'wa', 'shule', 'ukamruhusu', 'kufanya', 'mtihani', 'wa', 'kidato', 'cha', 'nne', 'mwaka', '2004', '.', 'Kiarie', 'alipona', 'vipi', '?', 'Mwaka', 'huo', 'baadaye', ',', 'Kiarie', 'alikutana', 'na', 'wamishonari', 'wawili', 'waliokuja', 'kanisani', 'mwao', '.', 'Baada', 'ya', 'kufurahishwa', 'na', 'muziki', 'wake', ',', 'walimpa', 'shilingi', '42,000', 'za', 'kenya', 'kujiunga', 'na', 'shule', 'ya', 'muziki', 'na', 'pesa', 'zilizosalia', 'wakazitumia', 'kumalizia', 'ada', 'ya', 'shule', 'aiokuwa', 'anadaiwa', '.', 'Kiarie', 'aliolewa', 'mwaka', '2008', 'akiwa', 'mtu', 'wa', 'pili', 'katika', 'familia', 'yake', 'kufanya', 'harusi', 'na', 'kila', 'mtu', 'alitaka', 'kujua', 'kama', 'ni', 'ukweli', 'anaolewa', '.', 'Akapata', 'mtoto', 'wa', 'kwanza', '2011', ',', 'lakini', 'kwa', 'bahati', 'mbaya', 'miezi', 'kumi', 'baadaye', 'akapata', 'homa', 'kwa', 'siku', 'mbili', 'na', 'kuaga', 'dunia', '.', 'Akapata', 'tena', 'ujauzito', 'lakini', 'mimba', 'ikatoka', 'akiwa', 'na', 'miezi', 'miwili', '.', 'Mola', 'akamjalia', 'mtoto', 'wa', 'kike', 'ambaye', 'kwa', 'sasa', 'ana', 'umri', 'wa', 'miaka', '6', '.', 'Msingi', 'wa', 'Kikirsto', 'umekuwa', 'nguzo', 'yake', ',', 'hakuwahi', 'kuvunjika', 'moyo', '.', 'Pia', 'amefungua', 'mradi', 'wake', 'wa', 'kufundisha', 'watoto', 'wasiojiweza', 'na', 'kwa', 'sasa', 'amefanikiwa', 'kusomesha', 'watoto', '3', 'wa', 'kike', 'kama', 'njia', 'moja', 'ya', 'kurejesha', 'shukrani', 'kwa', 'jamii', '.']\n",
      "\n",
      " Number of Words:  858\n"
     ]
    }
   ],
   "source": [
    "file=\"19dec11_1.txt\"\n",
    "\n",
    "# calling the function and storing the contents in a text variable \n",
    "text = get_document(\"https://www.bbc.com/swahili/habari-50731901\")\n",
    "\n",
    "# calling the store_ document function \n",
    "store_document(doc=text,name=file)\n",
    "\n",
    "#add the words in this file to the total_corpus_words, to keep count of the number of words in the corpus\n",
    "total_corpus_words+=total_words(file)"
   ]
  },
  {
   "cell_type": "code",
   "execution_count": 107,
   "metadata": {},
   "outputs": [
    {
     "data": {
      "text/plain": [
       "179643"
      ]
     },
     "execution_count": 107,
     "metadata": {},
     "output_type": "execute_result"
    }
   ],
   "source": [
    "total_corpus_words"
   ]
  },
  {
   "cell_type": "code",
   "execution_count": 108,
   "metadata": {},
   "outputs": [
    {
     "name": "stdout",
     "output_type": "stream",
     "text": [
      "['Je', 'ni', 'nani', 'atakayeongoza', 'jiji', 'la', 'Nairobi', 'baada', 'ya', 'Sonko', 'kuwekewa', 'marufuku', '?', '11', 'Disemba', '2019', 'Chanzo', 'cha', 'picha', ',', 'SONKO/FACEBOOK', 'Maelezo', 'ya', 'picha', ',', 'Sonko', 'alikamatwa', 'kwa', 'tuhuma', 'za', 'ufisadi', 'siku', 'ya', 'Ijumaa', 'Gavana', 'wa', 'Nairobi', 'Mike', 'mbuvi', 'Sonko', 'hatimaye', 'ameachiliwa', 'kwa', 'dhamana', 'ya', '$', '300.000', 'lakini', 'amepewa', 'marufuku', 'ya', 'kutohudumu', 'katika', 'ofisi', 'yake', '.', 'Katika', 'uamuzi', 'uliotolewa', 'katika', 'mahakama', 'ya', 'Milimani', 'siku', 'ya', 'Jumtano', ',', 'pia', 'amezuiwa', 'kuhudumu', 'katika', 'afisi', 'yake', 'isipokuwa', 'iwapo', 'ataandamana', 'na', 'afisa', 'wa', 'uchunguzi', 'ama', 'mtu', 'yeyote', 'aliyeruhusiwa', 'na', 'mahakama', '.', 'Hakimu', 'mwandamizi', 'wa', 'mahakama', 'ya', 'kukabiliana', 'na', 'ufisadi', 'Douglas', 'Ogot', 'alisema', 'kwamba', 'Sonko', 'na', 'washukiwa', 'wenzake', 'pia', 'wamepigwa', 'marufuku', 'kutosafiri', 'na', 'watahitaji', 'ruhusa', 'ya', 'mahakama', 'kabla', 'ya', 'kufanya', 'hivyo', '.', 'Mkuu', 'huyo', 'wa', 'kaunti', 'ya', 'Nairobi', 'pia', 'ametakiwa', 'kuhakikisha', 'kwamba', 'wafuasi', 'wake', 'wanaweka', 'amani', '.', 'Wakati', 'ikitoa', 'masharti', 'ya', 'dhamana', 'hiyo', 'mahakama', 'hiyo', 'pia', 'imempiga', 'marufuku', 'mshukiwa', 'kuwasiliana', 'na', 'shahidi', 'yeyote', '.']\n",
      "\n",
      " Number of Words:  149\n"
     ]
    }
   ],
   "source": [
    "file=\"19dec11_2.txt\"\n",
    "\n",
    "# calling the function and storing the contents in a text variable \n",
    "text = get_document(\"https://www.bbc.com/swahili/habari-50741488\")\n",
    "\n",
    "# calling the store_ document function \n",
    "store_document(doc=text,name=file)\n",
    "\n",
    "#add the words in this file to the total_corpus_words, to keep count of the number of words in the corpus\n",
    "total_corpus_words+=total_words(file)"
   ]
  },
  {
   "cell_type": "code",
   "execution_count": 109,
   "metadata": {},
   "outputs": [
    {
     "data": {
      "text/plain": [
       "179792"
      ]
     },
     "execution_count": 109,
     "metadata": {},
     "output_type": "execute_result"
    }
   ],
   "source": [
    "total_corpus_words"
   ]
  },
  {
   "cell_type": "code",
   "execution_count": 110,
   "metadata": {},
   "outputs": [
    {
     "name": "stdout",
     "output_type": "stream",
     "text": [
      "['Hatari', 'ya', 'kiuongozi', 'yakumba', 'Nairobi', 'baada', 'ya', 'masaibu', 'ya', 'Gavana', 'Gavana', 'mtatanishi', 'wa', 'mji', 'mkuu', 'wa', 'Kenya', 'Nairobi', ',', 'Mike', 'Mbuvi', ',', 'kwa', 'jina', 'maarufu', 'kama', 'Sonko', ',', 'hatimaye', 'ameachiliwa', 'kwa', 'dhamana', 'baada', 'ya', 'kukaa', 'rumande', 'kwa', 'siku', 'tano', '.', 'Hata', 'hivyo', ',', 'uhuru', 'wa', 'muda', 'aliopewa', 'bwana', 'Sonko', ',', 'haumruhusu', 'kutekeleza', 'wajibu', 'wake', 'kikamilifu', 'kama', 'gavana', 'wa', 'Nairobi', '.', 'Mahakama', 'ya', 'Nairobi', 'imemzuia', 'mkuu', 'huyo', 'wa', 'kaunti', 'ya', 'Nairobi', 'kuhudumu', 'katika', 'afisi', 'yake', 'isipokuwa', 'tu', 'akiandamana', 'na', 'maafisa', 'wa', 'polisi', 'akitaka', 'kuchukuwa', 'vitu', 'vyake', 'vya', 'kibinafsi', '.', 'Hali', 'hii', 'sasa', 'imeiweka', 'kaunti', 'ya', 'Nairobi', 'katika', 'hatari', 'ya', 'kiuongozi', '.', 'Maswala', 'nyeti', 'kuhusu', 'pengo', 'la', 'uongozi', 'Ingawa', 'kisheria', 'naibu', 'wa', 'gavana', 'ndiye', 'anastahili', 'kuchukuwa', 'hatamu', 'za', 'uongozi', 'ikiwa', 'gavana', 'hayupo', ',', 'Bw', 'Sonko', 'hajamteua', 'naibu', 'wake', 'tangu', 'Polycarp', 'Igathe', 'ajiuzulu', 'takribani', 'miaka', 'miwili', 'iliyopita', '.', 'Kwa', 'mujibu', 'wa', 'katiba', 'ya', 'Kenya', ',', 'spika', 'ndiye', 'anapaswa', 'kuchukuwa', 'hatamau', 'za', 'uongozi', 'wa', 'kaunti', 'ikiwa', 'gavana', 'na', 'naibu', 'gavana', 'hawapo', 'ya', 'sababu', 'ya', 'kifo', ',', 'kujiuzulu', ',', 'kuondolewa', 'madarakani', 'kisheria', 'au', 'kuhukumiwa', 'kwa', 'mashtaka', 'ya', 'uhalifu', '.', 'Sheria', 'inaendelea', 'kusema', 'kwamba', 'spika', 'atashikilia', 'mamlaka', 'hayo', 'kwa', 'muda', 'wa', 'siku', 'sitini', 'kabla', 'ya', 'kufanyika', 'kwa', 'uchaguzi', 'mpya', 'wa', 'ugavana', '.', 'Lakini', 'sheria', 'haifafanui', 'kinaga', 'ubaga', 'kama', 'mwelekeo', 'huu', 'unastahili', 'kuzingatiwa', 'kabla', 'gavana', 'kuhukumiwa', 'na', 'hivyo', 'basi', 'kusababisha', 'wasiwasi', 'kuhusu', 'ni', 'nani', 'hasa', 'atakaye', 'ongoza', 'mji', 'wa', 'Nairobi', '.', 'Katiba', 'ya', 'Kenya', 'pia', 'inatoa', 'mwanya', 'kwa', 'serikali', 'kuu', 'chini', 'ya', 'rais', 'kuingilia', 'kati', 'kuhusu', 'uongozi', 'wa', 'kaunti', 'katika', 'mazingira', 'na', 'hali', 'isiyoya', 'kawaida', '.', 'Kipengee', 'cha', 'katiba', '192', '(', 'c', ')', 'kinamruhusu', 'rais', 'Uhuru', 'Kenyatta', 'kuvunja', 'serikali', 'ya', 'kaunti', 'katika', 'hali', 'ya', 'dharura', 'inayotokana', 'na', 'vita', 'au', 'hali', 'isiyoyakawaida', '.', 'Pia', ',', 'rais', 'anaruhusiwa', 'na', 'kipengee', 'hicho', 'kuteua', 'tume', 'ya', 'uchunguzi', 'itakayotathmini', 'hali', 'halisi', 'ya', 'mambo', 'na', 'kutoa', 'mapendekezo', 'kuhusu', 'jinis', 'ya', 'kushughulikia', 'uongozi', 'na', 'usimamizi', 'wa', 'kaunti', 'hususan', 'mji', 'wa', 'Nairobi', '.', 'Mapendekezo', 'hayo', 'yakipigwa', 'msasa', 'na', 'kuidhinishwa', 'na', 'bunge', 'la', 'seneti-', 'ambalo', 'ndilo', 'mlinda', 'lango', 'na', 'mtetesi', 'wa', 'wa', 'serikali', 'ya', 'ugatuzi', 'nchini', 'Kenya', ',', 'basi', 'huenda', 'ikatoa', 'mwongozo', 'kuhusu', 'usimamizi', 'wa', 'mji', 'wa', 'Nairobi', '.', 'Umuhimu', 'wa', 'mji', 'wa', 'Nairobi', 'Ni', 'mji', 'mkuu', 'wa', 'taifa', 'la', 'Kenya', '.', 'Ni', 'mji', 'mkubwa', 'katika', 'kanda', 'ya', 'Afrika', 'Mashariki', 'na', 'ya', 'kati', 'Ni', 'makao', 'makuu', 'ya', 'shirika', 'la', 'umoja', 'wa', 'matifa', 'la', 'mazingira-', 'UNEP', 'Ni', 'kitovu', 'cha', 'usafiri', 'wa', 'ndege', 'barani', 'Afrika', 'mbali', 'na', 'miji', 'ya', 'Johannsberg', 'na', 'Lagos', '.', 'Ni', 'kituo', 'muhimu', 'cha', 'operesheni', 'za', 'kiusalama', 'barani', 'Afrika', '.', 'Marekani', 'na', 'mataifa', 'emgine', 'yenye', 'uwezo', 'mkubwa', 'yanatumia', 'Nairobi', 'kama', 'kitovu', 'cha', 'mipango', 'ya', 'kukabiliana', 'na', 'makundi', 'ya', 'kigaidi', 'kama', 'vile', 'Al-shaab', '.', 'Ni', 'kitovu', 'cha', 'mashirika', 'mengi', 'ya', 'kimataifa', 'kama', 'vile', 'aasi', 'za', 'kiraia', ',', 'vyombo', 'vya', 'habari', 'na', 'kadhalika', '.', 'Sonko', 'wa', 'tatu', 'Mike', 'Mbuvi', 'Sonko', ',', 'anayesifika', 'sana', 'kwa', 'makeke', ',', 'mitindo', 'ya', 'kisasa', 'ya', 'mavazi', 'na', 'maisha', 'ya', 'anasa', ',', 'ni', 'gavana', 'wa', 'tatu', 'nchini', 'Kenya', 'kuzuiliwa', 'kuhudumu', 'katika', 'afisi', 'yake', '.', 'Moses', 'Kasaine', 'Lenolkulal', 'wa', 'kaunti', 'ya', 'Samburu', ',', 'maskazini', 'magharibi', 'mwa', 'Kenya', ',', 'ndiye', 'aliyekuwa', 'gavana', 'wa', 'kwanza', 'kukabiliana', 'na', 'kikwazo', 'hicho', 'mwezi', 'Julai', 'mwaka', 'jana', '.', 'Wa', 'pili', 'kukabiliwa', 'na', 'kuzuizi', 'ya', 'kukatazwa', 'kuingia', 'afisini', 'ni', 'gavana', 'wa', 'jimbo', 'la', 'Kiambu', ',', 'pembeni', 'mwa', 'mji', 'wa', 'Nairobi', 'Ferdinand', 'Waititu', ',', 'anayekabiliwa', 'na', 'mashtaka', 'ya', 'ufisadi', 'na', 'utumizi', 'mbaya', 'wa', 'madaraka', '.']\n",
      "\n",
      " Number of Words:  543\n"
     ]
    }
   ],
   "source": [
    "file=\"19dec11_3.txt\"\n",
    "\n",
    "# calling the function and storing the contents in a text variable \n",
    "text = get_document(\"https://www.bbc.com/swahili/habari-50745854\")\n",
    "\n",
    "# calling the store_ document function \n",
    "store_document(doc=text,name=file)\n",
    "\n",
    "#add the words in this file to the total_corpus_words, to keep count of the number of words in the corpus\n",
    "total_corpus_words+=total_words(file)"
   ]
  },
  {
   "cell_type": "code",
   "execution_count": 111,
   "metadata": {},
   "outputs": [
    {
     "data": {
      "text/plain": [
       "180335"
      ]
     },
     "execution_count": 111,
     "metadata": {},
     "output_type": "execute_result"
    }
   ],
   "source": [
    "total_corpus_words"
   ]
  },
  {
   "cell_type": "code",
   "execution_count": 113,
   "metadata": {},
   "outputs": [
    {
     "name": "stdout",
     "output_type": "stream",
     "text": [
      "['Picha', 'za', 'wiki', 'barani', 'Afrika', '6', '-', '13', 'Desemba', '2019', 'Tamasha', 'la', 'mitindo', 'na', 'mavazi', 'maarufu', 'kama', 'Swahili', 'Fashion', 'Week', 'limefanyika', 'wiki', 'hii', 'nchini', 'Tanzania', ',', 'Jukwaa', 'hili', 'la', 'maonyesho', 'ya', 'mavazi', 'Afrika', 'Mashariki', 'na', 'kati', 'linalotoa', 'fursa', 'kwa', 'wabunifu', 'wa', 'mavazi', 'kutoka', 'nchi', 'zinazozungumza', 'lugha', 'ya', 'Kiswahili', 'na', 'kwingineko', 'Afrika', 'kuonesha', 'vipaji', 'vyao', 'na', 'kupanua', 'wigo', 'wao', 'wa', 'masoko', '.', 'Maonesho', 'haya', 'ya', '12', 'yamekutanisha', 'wabunifu', '34', 'wa', 'Afrika', 'Mashariki', 'na', 'kwingineko', 'ulimwenguni', '.', 'Wabunifu', 'wa', 'mavazi', 'walioshiriki', 'kuonesha', 'mitindo', 'yao', 'kutoka', 'Afrika', 'mashariki', ',', 'Kati', 'na', 'ulimwenguni', 'kwa', 'mwaka', 'huu', ',', 'ni', 'pamoja', 'na', 'Afrikawala', ',', 'Mary', 'Angel', 'na', 'Marta', 'Zampolini', 'kutoka', 'Italia', '.', 'Mwanzilishi', 'wa', 'Tamasha', 'hili', 'Mustapha', 'Hasanali', 'anasema', 'kuwa', 'Watanzania', 'na', 'Waafrika', 'wanapaswa', 'sasa', 'kutumia', 'bidhaa', 'za', 'nyumbani', '.', 'Maelezo', 'ya', 'picha', ',', 'Mwanzilishi', 'wa', 'Tamasha', 'hili', 'Mustapha', 'Hasanali', '``', 'Tunahamasisha', 'umma', 'wa', 'Watanzania', 'kupenda', 'kuvaa', 'mavazi', 'yaliyobuniwa', 'na', 'wabunifu', 'wa', 'hapa', 'Tanzania', '(', 'Made', 'in', 'Tanzania', ')', '.', 'Kwa', 'kufanya', 'hivyo', 'tunakuza', 'vipaji', 'vyao', 'na', 'kuwafanya', 'siku', 'moja', 'kutambulika', 'kama', 'wabunifu', 'wakubwa', 'Ulimwenguni', '.', 'Upendo', 'unaanzia', 'nyumbani', 'na', 'ndiyo', 'dhumuni', 'la', 'kufanya', 'haya', ',', 'ni', 'kukuza', 'tasnia', 'hii', 'ya', 'ubunifu', \"''\", 'anasema', 'Hassanali', '.', 'Mavazi', 'ya', 'aina', 'mbalimbali', 'yameoneshwa', 'katika', 'jukwaa', 'hili', ',', 'mavazi', 'ya', 'rasmi', ',', 'ya', 'kawaida', 'na', 'ya', 'sherehe', 'mbalimbali', 'kama', 'Harusi', '.', 'Mavazi', 'aina', 'ya', 'kitenge', 'yalionekana', 'kutawala', 'kwa', 'kutumia', 'na', 'wabunifu', 'wengi', 'wa', 'mavazi', '.', 'Chanzo', 'cha', 'picha', ',', 'Getty', 'Images', 'Maelezo', 'ya', 'picha', ',', 'Raia', 'wa', 'Afrika', 'Kusini', ',', 'Zozibini', 'Tunzi', 'kutununikiwa', 'taji', 'la', 'Miss', 'Universe', 'mjini', 'Atlanta', ',', 'US', '.']\n",
      "\n",
      " Number of Words:  253\n"
     ]
    }
   ],
   "source": [
    "file=\"19dec13_1.txt\"\n",
    "\n",
    "# calling the function and storing the contents in a text variable \n",
    "text = get_document(\"https://www.bbc.com/swahili/50780304\")\n",
    "\n",
    "# calling the store_ document function \n",
    "store_document(doc=text,name=file)\n",
    "\n",
    "#add the words in this file to the total_corpus_words, to keep count of the number of words in the corpus\n",
    "total_corpus_words+=total_words(file)"
   ]
  },
  {
   "cell_type": "code",
   "execution_count": 114,
   "metadata": {},
   "outputs": [
    {
     "data": {
      "text/plain": [
       "180588"
      ]
     },
     "execution_count": 114,
     "metadata": {},
     "output_type": "execute_result"
    }
   ],
   "source": [
    "total_corpus_words"
   ]
  },
  {
   "cell_type": "code",
   "execution_count": 115,
   "metadata": {},
   "outputs": [
    {
     "name": "stdout",
     "output_type": "stream",
     "text": [
      "['Eliud', 'Kipchoge', 'ashinda', 'taji', 'la', 'kila', 'mwaka', 'la', 'BBC', 'la', 'mwanamichezo', 'bora', 'wa', 'mwaka', '2019', '15', 'Disemba', '2019', 'Chanzo', 'cha', 'picha', ',', 'BBC', 'Sport', 'Maelezo', 'ya', 'picha', ',', 'Taji', 'la', 'BBC', '``', 'Mwanamichezo', 'Bora', 'wa', 'mwaka', 'Duniani', \"''\", 'Jumapili', '15', 'December', ',', '2019', 'Mwanariadha', 'Eliud', 'Kipchoge', 'amejishindia', 'taji', 'la', 'BBC', 'la', 'kuwa', '``', 'Mwanamichezo', 'Bora', 'wa', 'mwaka', 'Duniani', \"''\", '.', 'Kipchoge', 'alikuwa', 'mtu', 'wa', 'kwanza', 'katika', 'historia', 'ya', 'mbio', 'za', 'Marathon', 'kukimbia', 'kilomita', '42', 'kwa', 'muda', 'wa', 'chini', 'ya', 'saa', 'mbili', 'Oktoba', ',', '2019', '.', 'Raia', 'huyo', 'wa', 'Kenya', ',', '35', ',', 'alikamilisha', 'muda', 'wa', 'kilomita', '42.2', 'katika', 'saa', 'moja', 'dakika', '59', 'na', 'sekunde', '40', 'katika', 'shindano', 'la', 'Ineos', 'Challenge', 'mjini', 'Vienna', 'nchini', 'Austria', '.', 'Miezi', 'sita', 'kaba', 'ya', 'ushindi', 'wake', ',', 'Kipchoge', 'alikuwa', 'ameshinda', 'ubingwa', 'wa', 'London', 'Marathon', 'mara', 'nne', 'mfululizo', '.', 'Kipchoge', ',', 'alipata', 'medali', 'ya', 'dhahabu', 'katika', 'mbio', 'za', 'Marathon', ',', 'Rio', '2016', ',', 'na', 'kuvunja', 'rekodi', 'yake', 'mwenyewe', 'ya', 'London', 'aliyoiweka', '2016', ',', 'kwa', 'sekunde', '28', '.', 'Kupitia', 'kura', 'zilizopigwa', 'kwa', 'njia', 'ya', 'mtandao', ',', 'Kipchoge', 'amewashinda', 'mwanariadha', 'wa', 'mazoezi', 'ya', 'viungo', 'Simone', 'Biles', ',', 'nahodha', 'wa', 'timu', 'ya', 'taifa', 'ya', 'Raga', 'ya', 'Afrika', 'Kusini', 'Siya', 'Kolisi', ',', 'mchezaji', 'Kriketi', 'wa', 'Australia', 'Steve', 'Smith', ',', 'mchezaji', 'gofu', 'duniani', 'Tiger', 'Woods', 'na', 'mshambuliaji', 'wa', 'Marekani', 'Megan', 'Rapinoe', ',', 'ambaye', 'aliongoza', 'tena', 'timu', 'yake', 'katika', 'mashindano', 'ya', 'Kombe', 'la', 'Dunia', 'msimu', 'wa', 'joto', 'uliopita', '.', 'Mshindi', 'wa', 'mwaka', 'jana', 'alikuwa', 'mchezaji', 'gofu', 'Francesco', 'Molinari', ',', 'aliyeshinda', 'mashindano', 'ya', 'Dunia', '2018', ',', 'pamoja', 'na', 'mashindano', 'yote', 'matano', 'ya', 'mechi', 'za', 'kombe', 'la', 'Ryder', 'mjini', 'Paris', '.']\n",
      "\n",
      " Number of Words:  257\n"
     ]
    }
   ],
   "source": [
    "file=\"19dec15.txt\"\n",
    "\n",
    "# calling the function and storing the contents in a text variable \n",
    "text = get_document(\"https://www.bbc.com/swahili/michezo-50799468\")\n",
    "\n",
    "# calling the store_ document function \n",
    "store_document(doc=text,name=file)\n",
    "\n",
    "#add the words in this file to the total_corpus_words, to keep count of the number of words in the corpus\n",
    "total_corpus_words+=total_words(file)"
   ]
  },
  {
   "cell_type": "code",
   "execution_count": 116,
   "metadata": {},
   "outputs": [
    {
     "data": {
      "text/plain": [
       "180845"
      ]
     },
     "execution_count": 116,
     "metadata": {},
     "output_type": "execute_result"
    }
   ],
   "source": [
    "total_corpus_words"
   ]
  },
  {
   "cell_type": "code",
   "execution_count": 117,
   "metadata": {},
   "outputs": [
    {
     "name": "stdout",
     "output_type": "stream",
     "text": [
      "['King', 'Kaka', 'msanii', 'wa', 'Kenya', 'aliyetoa', 'wimbo', 'tata', 'wa', 'rushwa', 'aomba', 'ulinzi', 'Katika', 'wimbo', 'huo', 'aliwatuhumu', 'wazi', 'watu', 'binafsi', 'aliowataja', 'majina', 'moja', 'kwa', 'moja', 'pamoja', ',', 'wabunge', 'na', 'taasisi', 'za', 'umma', 'kwa', 'ufisadi', 'uliokithiri', 'Msanii', 'wa', 'Kenya', 'King', 'Kaka', 'anataka', 'ulinzi', 'baada', 'ya', 'watu', 'wasiojulikana', 'kutoupokea', 'vema', 'wimbo', 'wake', 'mpya', 'unaokemea', 'maovu', 'ikiwemo', 'rushwa', '.', 'King', 'Kaka', 'amabye', 'jina', 'lake', 'halisi', 'ni', 'Kennedy', 'Ombina', ',', 'mwishoni', 'mwa', 'juma', 'alitoa', 'video', 'ya', 'wimbo', 'aliouta', \"'Wajinga\", 'Nyinyi', \"'\", ',', 'akikosoa', 'maovu', 'miongoni', 'mwa', 'jamii', 'ya', 'Wakenya', '.', 'Katika', 'wimbo', 'huo', 'amewatuhumu', 'wazi', 'watu', 'binafsi', 'aliowataja', 'majina', 'moja', 'kwa', 'moja', 'pamoja', 'na', 'wabunge', 'na', 'taasisi', 'za', 'umma', 'kwa', 'ufisadi', 'uliokithiri', 'huku', 'akiwataka', 'Wakenya', 'kutafakari', 'maovu', 'hayo', 'na', 'kuyarekebisha', '.', 'Aliutumia', 'wimbo', 'huo', 'huwatolea', 'wito', 'Wakenya', 'kutafakari', 'ujumbe', 'wa', 'video', 'yake', 'na', 'kuchukua', 'hatua', '.', 'Tangu', 'video', 'ya', 'wimbo', 'huo', 'kutoka', ',', 'imekuwa', 'ndio', 'maarufu', 'zaid', 'mitandaoni', 'nchini', 'Kenya', '.', 'Wimbo', 'huo', 'ameuimba', 'kwa', 'mtindo', 'wa', 'ushairi', ',', 'akitamka', 'maneno', 'kama', 'mtu', 'anayeongea', 'kawaida', '.', 'Baada', 'ya', 'kutoa', 'video', 'hiyo', 'aliendelea', 'kutoa', 'dondoo', 'za', 'wimbo', 'wake', 'kwenye', 'mitandao', 'ya', 'mbali', 'mbali', 'ya', 'kijamii', 'ukiwemo', 'wa', 'Twitter', ',', 'mfano', 'ni', 'ujumbe', 'huu', 'ambapo', 'jeshi', 'la', 'wanamaji', 'la', 'Kenya', 'kwa', 'kuchelewa', 'kumuokoa', 'mama', 'na', 'moto', 'wake', 'waliokufa', 'katika', 'ajali', 'ya', 'gari', 'lililozama', 'majini', 'Mombasa', 'na', 'wabunge', 'wanawake', 'kwa', 'kushindwa', 'kutoa', 'taulo', 'za', 'hedhi', 'kwa', 'wasichana', 'wa', 'shule', ':', 'Wengi', 'wa', 'Wakenya', 'wanakubaliana', 'na', 'ujumbe', 'wa', 'King', 'Kaka', 'na', 'kusema', 'kuwa', 'alizungumzia', 'matatizo', 'yanayowakumba', 'Wakenya', 'mkiwemo', 'hali', 'ya', 'kiuchumi', ',', 'huduma', 'za', 'afya', 'na', 'hali', 'ya', 'umaskini', 'ya', 'wakenya', 'wengi', '.', 'Baadhi', 'yao', 'ni', 'wakili', 'maarufu', 'na', 'mtetezi', 'wa', 'haki', 'za', 'binadamu', 'nchini', 'Kenya', 'AhmedNasir', 'Abdullahi', 'ambaye', 'anadai', 'alichokisema', 'msanii', 'huyo', 'ni', 'ukweli', ':', 'Katika', 'hatua', 'ambayo', 'haikutarajiwa', 'na', 'wengi', 'Mkurugenzi', 'wa', 'bodi', 'ya', 'udhibiti', 'wa', 'maudhui', 'ya', 'filamu', '(', 'KFCB', ')', 'aliupongeza', 'wimbo', 'wa', 'tata', 'wa', 'King', 'Kaka', '.', '``', 'Ngoja', 'watu', 'watafakari', 'juu', 'ya', 'ujumbe', ',', 'lakini', 'ukweli', 'ni', 'kwamba', 'kama', 'msanii', 'wa', 'rap', 'anaweza', 'kuandaa', 'ujumbe', 'kama', 'huo', 'na', 'kutembea', '-huru', 'ni', 'ushahidi', 'kuwa', 'demokrasia', 'yetu', 'imekomaa', '.', 'Jaribu', 'hilo', 'Uganda', 'au', 'Rwanda', 'na', 'mambo', 'yatakua', 'tofauti', '``', 'Dkt', 'Mutua', 'aliandika', 'kwenye', 'ukurasa', 'wake', 'wa', 'Facebook', '.', 'Katika', 'wimbo', 'huop', 'msanii', 'King', 'Kaka', 'ameelezea', 'jinsi', 'ufisadi', 'unavyoathiri', 'sekta', 'zote', 'za', 'uchumi', '.', 'Maelezo', 'ya', 'picha', ',', 'Katika', 'hatua', 'ambayo', 'haikutarajiwa', 'na', 'wengi', 'Mkurugenzi', 'wa', 'bodi', 'ya', 'udhibiti', 'wa', 'maudhui', 'ya', 'filamu', 'na', 'usanii', '(', 'KFCB', ')', 'aliupongeza', 'wimbo', 'wa', 'tata', 'wa', 'King', 'Kaka', '(', 'Wajinga', 'Nyinyi', ')', 'Huku', 'baadhi', 'ya', 'wanasiasa', 'wakisema', 'wimbo', 'huo', 'unawatusi', ',', 'Dkt', 'Mutua', 'amewataka', 'wale', 'wote', 'wanaohisi', 'kuwa', 'wameathiriwa', 'nao', 'kwenda', 'mahakamani', 'kwani', 'bodi', 'ya', 'KFCB', 'haitaingilia', 'uzalishaji', 'wa', 'wimbo', 'Wajinga', 'Nyinyi', '.']\n",
      "\n",
      " Number of Words:  434\n"
     ]
    }
   ],
   "source": [
    "file=\"19dec16.txt\"\n",
    "\n",
    "# calling the function and storing the contents in a text variable \n",
    "text = get_document(\"https://www.bbc.com/swahili/habari-50804995\")\n",
    "\n",
    "# calling the store_ document function \n",
    "store_document(doc=text,name=file)\n",
    "\n",
    "#add the words in this file to the total_corpus_words, to keep count of the number of words in the corpus\n",
    "total_corpus_words+=total_words(file)"
   ]
  },
  {
   "cell_type": "code",
   "execution_count": 118,
   "metadata": {},
   "outputs": [
    {
     "data": {
      "text/plain": [
       "181279"
      ]
     },
     "execution_count": 118,
     "metadata": {},
     "output_type": "execute_result"
    }
   ],
   "source": [
    "total_corpus_words"
   ]
  },
  {
   "cell_type": "code",
   "execution_count": 119,
   "metadata": {},
   "outputs": [
    {
     "name": "stdout",
     "output_type": "stream",
     "text": [
      "['Maghorofa', '10,000', 'ni', 'hatari', 'kwa', 'maisha', 'ya', 'watu', 'Kenya', 'Serikali', 'nchini', 'Kenya', ',', 'imetahadharisha', 'kuwa', 'maghorofa', 'zaidi', 'ya', '10,000', 'hayastahili', 'watu', 'kuishi', 'kwa', 'kuwa', 'yanaweza', 'kuanguka', '.', 'Ndani', 'ya', 'miezi', 'michache', 'iliyopita', ',', 'watu', 'zaidi', 'ya', 'mia', 'wamefariki', 'baada', 'ya', 'majengo', 'ya', 'gorofa', 'waliyokuwamo', 'kuanguka', 'nchini', 'humo', ',', 'hususani', 'katika', 'jiji', 'la', 'Nairobi', '.', 'Kuporomoka', 'majengo', 'si', 'jambo', 'geni', 'katika', 'maeneo', 'mengi', 'barani', 'Afrika', '.', 'Serikali', 'ya', 'Kenya', 'imedai', 'kuwa', 'inachukua', 'hatua', 'lakini', 'wakosoaji', 'wake', 'wanasema', 'kuwa', 'hakuna', 'kinachoendelea', 'na', 'majengo', 'ambayo', 'yameorodheshwa', 'ili', 'yabomolewe', 'bado', 'watu', 'wanaishi', 'ndani', 'yake', '.', 'Mwandishi', 'wa', 'BBC', 'Francis', 'Ontomwa', 'amefuatilia', 'suala', 'hilo', 'na', 'hii', 'ni', 'taarifa', 'yake', '.']\n",
      "\n",
      " Number of Words:  105\n"
     ]
    }
   ],
   "source": [
    "file=\"19dec17.txt\"\n",
    "\n",
    "# calling the function and storing the contents in a text variable \n",
    "text = get_document(\"https://www.bbc.com/swahili/habari-50819104\")\n",
    "\n",
    "# calling the store_ document function \n",
    "store_document(doc=text,name=file)\n",
    "\n",
    "#add the words in this file to the total_corpus_words, to keep count of the number of words in the corpus\n",
    "total_corpus_words+=total_words(file)"
   ]
  },
  {
   "cell_type": "code",
   "execution_count": 120,
   "metadata": {},
   "outputs": [
    {
     "data": {
      "text/plain": [
       "181384"
      ]
     },
     "execution_count": 120,
     "metadata": {},
     "output_type": "execute_result"
    }
   ],
   "source": [
    "total_corpus_words"
   ]
  },
  {
   "cell_type": "code",
   "execution_count": 121,
   "metadata": {},
   "outputs": [
    {
     "name": "stdout",
     "output_type": "stream",
     "text": [
      "['Wajinga', 'Nyinyi', ':', 'Jinsi', 'wasanii', 'wa', 'Afrika', 'Mashariki', 'wanavyopambana', 'kupitia', 'vipaza', 'sauti', 'kuleta', 'mabadiliko', 'Na', 'Dinah', 'Gahamanyi', 'BBC', 'News', 'Swahili', '18', 'Disemba', '2019', 'Chanzo', 'cha', 'picha', ',', 'NEY', 'WA', 'MITEGO/FACEBOOK', 'Maelezo', 'ya', 'picha', ',', 'Msanii', 'Ney', 'wa', 'Mitego', 'aliwahi', 'kukamatwa', 'na', 'Basata', 'ikapiga', 'marufuku', 'kabisa', 'wimbo', 'uongozi', 'wa', 'rais', 'Magufuli', ',', 'lakini', 'baadae', 'rais', 'aliagiza', 'aachiliwe', 'na', 'wimbo', 'wake', 'uchezwe', 'Miongoni', 'mwa', 'kazi', 'za', 'ya', 'msanii', 'ni', 'kuielimisha', ',', 'kuiburudisha', ',', 'kuiliwaza', 'na', 'kuikosoa', 'jamii', 'na', 'asipotekeleza', 'hayo', 'basi', 'kazi', 'yake', 'haijakamilika', '.', 'Lakini', 'je', 'wasanii', 'wa', 'muziki', 'wa', 'Afrika', 'Mashariki', 'wameweza', 'kuielimisha', 'na', 'kuikosoa', 'jamii', '?', '.', 'Katika', 'kile', 'ambacho', 'kilionekana', 'kama', 'njia', 'ya', 'kuikosoa', 'na', 'kuielimisha', 'jamii', 'King', 'Kaka', 'kwa', 'jina', 'lake', 'halisi', 'Kennedy', 'Ombima', ',', 'mwishoni', 'mwa', 'juma', 'alitoa', 'video', 'tata', 'ya', 'wimbo', 'aliouta', \"'Wajinga\", 'Nyinyi', \"'\", ',', 'akikosoa', 'maovu', 'miongoni', 'mwa', 'jamii', 'ya', 'Wakenya', '.', 'Katika', 'wimbo', 'huo', 'amewatuhumu', 'wazi', 'wazi', 'watu', 'binafsi', 'aliowataja', 'majina', 'moja', 'kwa', 'moja', 'pamoja', 'na', 'wabunge', 'na', 'taasisi', 'za', 'umma', 'kwa', 'ufisadi', ',', 'uliokithiri', 'na', 'maovu', 'mengine', 'katika', 'jamii', ',', 'huku', 'akiwataka', 'Wakenya', 'kutafakari', 'maovu', 'hayo', 'na', 'kuyarekebisha', '.', 'Aliutumia', 'wimbo', 'huo', 'huwatolea', 'wito', 'Wakenya', 'kutafakari', 'ujumbe', 'wa', 'video', 'yake', 'na', 'kuchukua', 'hatua', '.', 'Wimbo', 'ulipokelewa', 'kwa', 'hisia', 'tofauti', 'Tangu', 'video', 'ya', 'wimbo', 'huo', 'kutoka', ',', 'imekuwa', 'ndio', 'maarufu', 'zaidi', 'mitandaoni', 'nchini', 'Kenya', '.', 'Licha', 'ya', 'wimbo', \"'Wajinga\", 'nyinyi', \"'\", 'ulioimbwa', 'kwa', 'mtindo', 'wa', 'rap', 'kusifiwa', 'na', 'wengi', 'kuwa', 'maudhui', 'yake', 'yalikua', 'ni', 'ya', 'kweli', 'baadhi', 'ya', 'waliotajwa', 'majina', 'walimkosoa', 'na', 'kutishia', 'kumshitaki', '.', 'Maelezo', 'ya', 'picha', ',', 'Katika', 'wimbo', 'wake', 'wenye', 'utata', \"'Wajinga\", 'nyinyi', \"'\", 'King', 'Kaka', 'aliwakosoa', ',', 'wabunge', 'na', 'taasisi', 'za', 'umma', 'kwa', 'ufisadi', 'King', 'kaka', 'alidai', 'anatishiwa', 'maisha', 'na', 'kujisalimisha', 'katika', 'Ofisi', 'ya', 'Mwendeshamashitaka', 'mkuu', 'wa', 'Serikali', '(', 'DCI', ')', ',', 'akidai', 'lakini', 'ofisi', 'hiyo', 'ilisema', 'haikumuita', '.', 'Mwanamuziki', 'huyo', 'ambaye', 'alipata', 'uungaji', 'mkono', 'mkubwa', 'kutoka', 'kwa', 'wasanii', 'wenzake', 'kwa', 'kutoa', 'ujumbe', 'huo', ',', 'pia', 'aliahidiwa', 'utetezi', 'wa', 'kisheria', 'na', 'mawakili', 'maarufu', 'iwapo', 'atapelekwa', 'mahakamani', 'kwa', 'kuimba', 'wimbo', \"'Wajinga\", 'nyinyi', \"'\", '.', 'Mbali', 'na', 'mwanamuziki', 'King', 'Kaka', 'wanamuziki', 'wengine', 'wa', 'Kenya', 'pia', 'awali', 'walitoa', 'nyimbo', 'zilizokosoa', 'ufisadi', 'katika', 'jamii', 'yao', '.', 'Mfanyo', 'ni', 'mwanamuziki', 'Erick', 'wa', 'mtindo', 'wa', 'Afrobit', 'Wainanaina', 'katika', 'wimbo', 'wake', \"'Nchi\", 'ya', 'kitu', 'kidogo', \"'\", 'na', 'mwanamuziki', 'wa', 'mtindo', 'wa', 'Hiphop', 'Juliani', 'katika', 'wimbo', 'wake', \"'Sitasimama\", 'maovu', 'yakitawala', \"'\", 'Hali', 'ikoje', 'nchini', 'Tanzania', '?', 'Kwa', 'muda', 'sasa', 'wasanii', 'wa', 'muziki', 'nchini', 'Tanzania', 'wamekuwa', 'wakiwasilisha', 'ujumbe', 'wao', 'hususan', 'baada', 'ya', 'kuingia', 'madarakani', 'kwa', 'rais', 'John', 'Pombe', 'Magufuli', '.', 'Ukosoaji', 'wao', 'umekua', 'ni', 'ukijibu', 'yanayofanyika', 'nchini', 'mwao', '.', 'Chanzo', 'cha', 'picha', ',', 'Nikki', 'Mbishi/', 'Facebook', 'Maelezo', 'ya', 'picha', ',', 'Katika', 'wimbo', 'wake', \"'Iam\", 'Sorry', 'JK', \"''\", 'Nikki', 'Mbishi', 'aliongelea', 'kuhusu', 'namna', 'baadhi', 'ya', 'Watanzania', 'akiwemo', 'yeye', 'walimkosoa', 'vibaya', 'Kikwete', 'alipokua', 'mamlakani', 'lakini', 'sasa', 'wanamkosa', 'na', 'kutamani', 'angegombea', 'awamu', 'ya', 'tatu', 'mamlakani', '!', '.', 'Wa', 'kwanza', 'alikua', 'ni', 'wanamuziki', 'ni', 'mwanamuziki', 'wa', 'Hip', 'hop', 'Karama', 'Masopud', 'na', 'wimbo', 'wake', \"'Magufuli\", 'balaa', \"'\", ',', 'al', 'maarufu', 'Kalapina', '.', 'Hata', 'hivyo', 'kalapina', 'ambaye', 'alishindwa', 'katika', 'harakatii', 'zake', 'za', 'kuwania', 'ubunge', ',', 'alitoa', 'wimbo', 'mwingine', 'wa', 'kumsifu', 'rais', 'Magufuli', '.', 'Aliimba', ':', \"'Unaweza\", 'kudhani', 'ni', 'ni', 'miujiza', 'lakini', 'ni', 'picha', 'halisi', '.', 'Upinani', 'uko', 'kimya', ',', 'hauna', 'la', 'kusema', '.', 'Amefanya', 'walichopanga', 'kukifanya', '.', \"''\", 'Msanii', 'mwingine', 'aliyekuwa', 'na', 'ujumbe', 'wa', 'ukosoaji', 'miongo', 'ni', 'mwa', 'jamii', ',', 'ni', 'mwanamuziki', 'wa', 'mtindo', 'wa', 'rap', ',', 'Nikki', 'Mbishi', 'ambapo', 'Januari', '2017', 'aliimba', ':', \"''\", 'I', \"'m\", 'Sorry', 'JK', '.', \"''\", \"''Itaeleweka\", 'ikiwa', 'nitasema', 'siku', 'moja', 'kwamba', ',', 'hakuna', 'rais', 'kama', 'JK', '.', 'Watanzania', 'wanakukosa', 'sanana', 'kwa', 'niaba', 'ya', 'Watanzania', 'ninasema', 'wanakukosa', 'sana', 'na', 'wanatamani', 'ungegombea', 'awamu', 'ya', 'tatu', 'kama', 'rais', \"''\", 'Katika', 'wimbo', 'huo', ',', 'msanii', 'aliongelea', 'kuhusu', 'namna', 'baadhi', 'ya', 'Watanzania', 'akiwemo', 'yeye', 'walimkosoa', 'vibaya', 'Kikwete', 'alipokua', 'mamlakani', 'lakini', 'sasa', 'wanamkosa', 'na', 'kutamani', 'angegombea', 'awamu', 'ya', 'tatu', 'mamlakani', '!', '.', 'Alisema', 'kwa', 'sasa', 'hakuna', 'uhuru', 'wa', 'vyombo', 'vya', 'habari', '.', 'Mikopo', 'ya', 'wanafunzi', 'wa', 'Chuo', 'Kikuu', 'haipatikani', 'tena', 'kwa', 'urahisi', ',', 'uchumi', 'unadhoofika', 'na', 'benki', 'zinakabiliwa', 'na', 'wakati', 'mgumu', ',', 'hakuna', 'pesa', 'mitaani', 'na', 'demokrasia', 'imebanwa', ',', 'miongoni', 'mwa', 'mambo', 'mengine', '.', 'Chanzo', 'cha', 'picha', ',', 'Nakaaya', 'Sumari/', 'Instagram', 'Maelezo', 'ya', 'picha', ',', 'Nakaaya', 'Sumari', 'aliachia', 'wimbo', 'wake', \"'Mr\", 'politician', \"'\", 'wa', 'rais', 'Jakaya', 'Kikwete', '.', 'Baraza', 'la', 'Sanaa', 'Tanzania', '(', 'Basata', ')', 'lilimuita', 'msanii', 'huyo', 'wa', 'muziki', 'wa', 'rap', 'na', 'kumhoji', '.', 'Baadae', 'aliandika', 'taarifa', 'katika', 'kituo', 'cha', 'polisi', 'jijini', 'Dar', 'es', 'salaam', ',', 'na', 'wimbo', 'wake', 'ukapigwa', 'marufuku', 'mnamo', 'mwezi', 'wa', 'Februari', '2017', '.', 'Kufuatia', 'kuvamiwa', 'kwa', 'kituo', 'cha', 'TV', 'na', 'mshirika', 'wa', 'karibu', 'wa', 'rais', ',', 'John', 'Magufuli', 'Paul', 'Makonda', ',', 'wasanii', 'wa', 'Hip', 'hop', 'walipeleka', 'hasira', 'zao', 'juu', 'ya', 'kile', 'kilichokua', 'kikiendelea', '.', 'Ney', 'wa', 'Mitego', 'alitoa', 'wimbo', ',', \"'Wapo\", \"'\", '.', 'Ingawa', 'hakutaja', 'moja', 'kwa', 'moja', 'jina', 'lolote', 'la', 'kiongozi', 'katika', 'wimbo', 'wake', 'ilikua', 'wazi', 'kuwa', 'alikua', 'akielezea', 'maeneo', 'ambayo', 'rais', 'Joh', 'Pombe', 'Magufuli', '``', 'ameshindwa', \"''\", 'kutekeleza', 'wajibu', 'wake', '.', 'Wimbo', 'huo', 'ulipata', 'umaarufu', 'sana', '.', 'Alikamatwa', 'mara', 'moja', 'na', 'Basata', 'ikapiga', 'marufuku', 'kabisa', 'wimbo', 'huo', '.', 'Hata', 'hivyo', 'Jumatatu', 'iliyofuatia', ',', 'rais', 'Magufuli', 'aliagiza', 'Ney', 'aachiliwe', 'huru', 'na', 'wimbo', 'wake', 'uchezwe', '.', 'Nyimbo', 'nyingine', 'zilizokosoa', 'utawala', 'wa', 'rais', 'Magufuli', 'ni', 'pamoja', 'na', \"'Dereva\", 'wa', '5', 'hana', 'leseni', \"'\", 'wa', 'Wagosi', 'wa', 'Kaya', ',', \"'Usinipangie\", \"'\", 'wa', 'Baghdad', 'na', \"'Madaraka\", 'ya', 'kulevya', \"'\", 'wa', 'Weusi', '.', 'Usinipangie', 'uliimbwa', 'kujibu', 'kauli', 'ya', 'rais', 'Magufuli', 'kusema', 'kuwa', 'hatoambiwa', 'la', 'kufanya', '.', 'Unaweza', 'pia', 'kusoma', ':', 'Madaraka', 'ya', 'kulevya', 'ni', 'wimbo', 'ambao', 'mistari', 'yake', 'iliandikwa', 'kwa', 'ustadi', 'lakini', 'yenye', 'utata', '.', 'Wimbio', 'huo', 'haukuwazungumzia', 'moja', 'kwa', 'moja', 'rais', 'Magufuli', 'au', 'Makonda', ',', 'lakini', 'maneno', 'yaliyotumiwa', 'yanaonyesha', 'kumuhusu', 'kiongozi', 'aliyelewa', 'mamlaka', 'kukiuka', 'maadili', 'yake', 'ya', 'kiuongozi', '.', 'Msanii', 'wa', 'muziki', 'wa', 'rap', 'Profesa', 'Jay', 'katika', 'wimbo', 'wake', \"'Ndio\", ',', 'mzee', 'aalikosoa', 'utawala', 'wa', 'rais', 'Mkapa', 'miaka', 'ya', '2000', ',', 'Nakaaya', 'Sumari', 'katika', 'wimbo', 'wake', 'Mr', 'politician', 'na', 'Mrisho', 'Mpoto', 'katika', 'wimbo', 'Mjomba', 'ambao', 'wengi', 'wanaamini', 'vilimlenga', 'rais', 'Jakaya', 'Kikwete', '.', 'Uganda', 'Katika', 'miaka', 'ya', 'hivi', 'karibuni', ',', 'baadhi', 'ya', 'wasanii', 'nchini', 'Uganda', 'walijitokeza', 'kukosoa', 'maovu', 'wanayodai', 'yanatekelezwa', 'na', 'utawala', 'wa', 'rais', 'wa', 'muda', 'mrefu', 'yoweri', 'Museveni', ',', 'huku', 'wengine', 'wakimsifu', '.', 'Mwaka', '2012', 'katika', 'wimbo', 'wake', 'Robert', 'Kyagulanyi', 'al', 'maarufu', 'Bobi', 'Wine', 'katika', 'wimbo', 'wake', \"'By\", 'Far', \"'\", 'aliashiria', 'nia', 'yake', 'ya', 'kujiunga', 'na', 'siasa', 'akiukosoa', 'utawala', 'wa', 'rais', 'Museveni', '.', 'Bobi', 'Wine', 'amekua', 'mkosoaji', 'mkuu', 'wa', 'maovu', 'katika', 'jamii', 'za', 'Waganda', 'ukosoaji', 'wake', 'ukiilenga', 'zaidi', 'serikali', 'ya', 'rais', 'Museveni', 'pamoja', 'na', 'viongozi', 'wengine', 'wa', 'Uganda', '.', 'Katika', 'wimbo', 'huu', 'alielezea', 'kuwa', 'wakazi', 'wa', 'vitongoji', 'duni', 'kikiwemo', 'kitongoji', 'cha', 'ambako', 'alikua', 'akiishi', 'hawaogopi', 'vitisho', ',', 'huku', 'akiwatolea', 'wito', 'raia', 'kuamka', 'na', 'kupigania', 'haki', 'zao', '.', 'Akiimba', 'kwa', 'kwa', 'lugha', 'ya', 'Luganda', 'Bibi', 'Wine', ',', 'mwaka', '2016', ',', 'alitoa', 'wimbo', \"'Dembe\", \"'\", 'au', \"'Amani\", \"'\", 'Msanii', 'Bobi', 'Wine', 'aliouimba', 'Bobi', 'Wine', 'alikemea', 'kile', 'alichokiita', 'ghasia', 'miongoni', 'mwa', 'viongozi', 'wa', 'Uganda', ',', 'huku', 'akiwalaumu', 'kwa', 'kuchochea', 'ghasia', 'hususan', 'wakati', 'wa', 'uchaguzi', '.', 'Msanii', 'wa', 'muziki', 'wa', 'Hip', 'hop', 'na', 'Afro', 'bit', 'Uganda', 'ni', 'Jose', 'Chameleone', 'kutoka', 'nchini', 'Uganda', 'ambaye', 'alifahamika', 'kwa', 'kutumbuiza', 'nyimbo', 'zake', 'katika', 'hafla', 'za', 'Chama', 'tawala', 'cha', 'NRM', 'pamoja', 'na', 'matukio', 'mengine', 'ya', 'serikali', 'ya', 'rais', 'Museveni', 'sasa', 'amegeuka', 'kuwa', 'mkosoaji', 'wake', '.', 'Baada', 'ya', 'Chameleone', 'Kutangaza', 'nia', 'yake', 'ya', 'kuingia', 'siasa', 'na', 'kugombea', 'kiti', 'cha', 'Meya', 'wa', 'Jiji', 'Kuu', 'Kampala', 'ili', 'kumaliza', 'maovu', 'yanayofanyika', 'katika', 'mji', 'huo', ',', 'rais', 'Museveni', 'ambaye', 'alikua', 'mfuasi', 'wake', 'katika', 'ukurasa', 'wa', 'twitter', 'alimua', 'kuondoa', 'ufuasi', 'wake', '.', 'Kinyume', 'na', 'Bobi', 'Wine', 'pamoja', 'na', 'Jose', \"'\", 'Chamilion', ',', 'Msanii', 'mwingine', 'maarufu', 'kwa', 'jina', 'la', 'Bebe', 'Cool', 'amekua', 'mstari', 'wa', 'mbele', 'kuunga', 'mkono', 'utawala', 'wa', 'rais', 'Yoweri', 'Museveni', ',', 'huku', 'akiwakosoa', 'wasanii', 'wenzake', 'kwa', 'kuukosoa', 'utawala', '.', 'Ni', 'dhahiri', 'kuwa', 'wasanii', 'wengi', 'wa', 'muziki', 'katika', 'nchi', 'za', 'Afrika', 'Mashariki', 'wamekua', 'wakitumia', 'kazi', 'yao', 'kuzielimisha', 'na', 'kuzikosoa', 'jamii', 'zao', ',', 'japo', 'katika', 'mazingira', 'magumu', 'inapokuja', 'katika', 'ukosoaji', 'wa', 'kisiasa', '.', 'Hata', 'hivyo', 'swali', 'ni', 'je', 'ukosoaji', 'huu', 'wa', 'wasanii', 'unaleta', 'tija', '?']\n",
      "\n",
      " Number of Words:  1288\n"
     ]
    }
   ],
   "source": [
    "file=\"19dec18_1.txt\"\n",
    "\n",
    "# calling the function and storing the contents in a text variable \n",
    "text = get_document(\"https://www.bbc.com/swahili/habari-50832696\")\n",
    "\n",
    "# calling the store_ document function \n",
    "store_document(doc=text,name=file)\n",
    "\n",
    "#add the words in this file to the total_corpus_words, to keep count of the number of words in the corpus\n",
    "total_corpus_words+=total_words(file)"
   ]
  },
  {
   "cell_type": "code",
   "execution_count": 122,
   "metadata": {},
   "outputs": [
    {
     "data": {
      "text/plain": [
       "182672"
      ]
     },
     "execution_count": 122,
     "metadata": {},
     "output_type": "execute_result"
    }
   ],
   "source": [
    "total_corpus_words"
   ]
  },
  {
   "cell_type": "code",
   "execution_count": 124,
   "metadata": {},
   "outputs": [
    {
     "name": "stdout",
     "output_type": "stream",
     "text": [
      "['Reinhard', 'Bonnke', ':', 'Mtu', 'aliyebadilisha', 'sura', 'ya', 'Ukristo', 'barani', 'Afrika', 'Raia', 'huyo', 'ambaye', 'ni', 'mzaliwa', 'wa', 'Ujerumani', 'Reinhard', 'Bonnke', ',', 'ambaye', 'alivutia', 'umati', 'mkubwa', 'wa', 'watu', 'barani', 'Afrika', 'wakati', 'wa', 'mahubiri', 'yake', 'anaombolezwa', 'na', 'mamilioni', 'ya', 'Wakristo', 'barani', 'humo', 'kufuatia', 'kifo', 'chake', 'akiwa', 'na', 'umri', 'wa', 'miaka', '79', '.', 'Mwandishi', 'wa', 'Kenya', 'Jesse', 'Masai', 'anatazama', 'ushawishi', 'wake', '.', 'Akilinganishwa', 'na', 'wahubiri', 'wengine', 'wa', 'Uingereza', 'kama', 'vile', 'Charles', 'Spurgeon', 'hadi', 'Billy', 'Grahama', 'wa', 'Marekani', ',', 'hadhi', 'ya', 'Bonke', 'kama', 'baba', 'wa', 'mahubiri', 'ya', 'kisasa', 'ipo', 'juu', 'sana', '.', 'Katika', 'bara', 'la', 'Afrika', 'kumekuwa', 'na', 'mahubiri', 'ya', 'wiki', 'moja', ',', 'yanayoshirikisha', 'idadi', 'kubwa', 'ya', 'watu', ',', 'mahema', 'mengi', ',', 'majukwaa', 'ya', 'kuvutia', ',', 'vipaza', 'sauti', 'vya', 'hali', 'ya', 'juu', ',', 'wakalimani', 'na', 'mara', 'nyingine', 'wahubiri', 'wakiiga', 'jinsi', 'Bonke', 'alivyokuwa', 'akifanya', 'mahubiri', 'yake', 'hususan', 'matamshi', 'na', 'jinsi', 'alivyoshikilia', 'kwa', 'kutumia', 'nguvu', 'kipaza', 'sauti', '.', 'Mwisho', 'wa', 'hotuba', 'zake', 'angewauliza', 'ni', 'nani', 'kati', 'ya', 'walioko', 'katika', 'kongamano', 'hilo', 'alikuwa', 'akisikia', 'wito', 'wa', 'Mungu', 'ili', 'kuchukua', 'kipaza', 'sauti', 'hicho', 'kutoka', 'kwa', 'mikono', 'yake', '.', 'Ujumbe', 'wake', 'wa', 'matumaini', 'hususan', 'miongoni', 'mwa', 'mataifa', 'ya', 'Afrika', 'ambayo', 'yameathiriwa', 'na', 'ukame', 'na', 'majanga', 'mengine', 'ulikuwa', 'muhimu', '.', 'Je', 'Reinhard', 'Bonnke', 'alikuwa', 'nani', '?', 'Alizaliwa', '1940', 'mjini', 'Königsberg', ',', 'Ujerumani', 'Alianzisha', 'shirika', 'la', 'Christ', 'For', 'All', 'Nations', '(', 'CFAN', ')', '1974', 'CFAN', 'linadai', 'kwamba', 'Bonnke', 'alisaidia', 'kuingiza', 'takriban', 'watu', 'milioni', '79', 'katika', 'Ukristo', 'Alifariki', 'tarehe', '7', 'mwezi', 'Disemba', '2019', 'Wengine', 'kama', 'vile', 'mhubiri', 'mwenye', 'umri', 'wa', 'miaka', '83', 'wa', 'kanisa', 'la', 'Pentocostal', 'Wilson', 'Mamboleo', '-', 'ambaye', 'alisaidia', 'mahubiri', 'ya', 'Bonnke', 'katika', 'eneo', 'la', 'Afrika', 'mashariki', 'anadai', 'kwamba', 'wahubiri', 'wakuu', 'barani', 'Afrika', 'kama', 'vile', 'muhubiri', 'wa', 'Nigeria', 'TB', 'Joshua', 'na', 'Teresia', 'Wairimu', 'wa', 'Kenya', 'ni', 'miongoni', 'mwa', 'walioshawishiwa', 'na', 'Bonnke', '.', \"'Waliokufa\", 'walifufuka', \"'\", 'Bonnke', 'alijiunga', 'na', 'rais', 'wa', 'Kenya', ',', 'Uhuru', 'Kenyatta', 'wakati', 'wa', 'kuanzishwa', 'kwa', 'kanisa', 'la', 'Muhubiri', 'Wairimu', 'la', 'Faith', 'Evangelistic', 'Ministry', 'mjini', 'Nairobi', 'mwezi', 'Agosti', '2016', '.', 'Shirika', 'lake', 'la', 'Christ', 'For', 'All', 'Nations', '(', 'CFAN', ')', ',', 'linalojulikana', 'kwa', 'kazi', 'yake', 'barani', 'Afrika', 'linadai', 'Bonnke', 'alisimamia', 'zaidi', 'ya', 'watu', 'milioni', '79', 'katika', 'Ukristo', '.', 'Katika', 'mikutano', 'mikuu', 'ikiwemo', 'mmoja', 'uliofanyika', 'katika', 'mji', 'wa', 'Lagos', ',', '2000', 'uliodaiwa', 'kuvutia', 'takriban', 'watu', 'milioni', '1.6-', 'Bonnke', 'alidai', 'kwamba', 'ana', 'uwezo', 'wa', 'kuponya', 'kwa', 'kutumia', 'uwezo', 'wa', 'Mungu', '.', 'Pia', 'aliwaambia', 'wafuasi', 'wake', 'kwamba', 'alishuhudia', 'watu', 'wakifufuka', ',', 'licha', 'ya', 'kwamba', 'miujiza', 'kama', 'hiyo', 'ilipingwa', 'na', 'wakosoaji', 'wake', '.', 'Uhubiri', 'wa', 'Bonnke', 'mara', 'nyengine', 'ulizua', 'utata', '.', 'Stephen', 'Mutua', 'ambaye', 'kati', 'ya', 'mwaka', '1986', 'na', '2009', 'alikuwa', 'mkurugenzi', 'wake', 'wa', 'kimataifa', 'anakumbuka', 'ghasia', 'katika', 'eneo', 'la', 'Waislamu', 'la', 'Kano', 'nchini', 'Nigeria', '1990', '.', 'Waislamu', 'walikuwa', 'wamekasirishwa', 'na', 'hatua', 'ya', 'Bonnke', 'kupata', 'ruhusa', 'ya', 'kuhubiri', 'katika', 'eneo', 'hilo', '.', \"''Katika\", 'ghasia', 'hizo', ',', 'nilijikuta', 'katika', 'gari', 'ambalo', 'haliwezi', 'kuingia', 'risasi', 'kwa', 'mara', 'ya', 'kwanza', 'katika', 'maisha', 'yangu', ',', 'kabla', 'ya', 'jeshi', 'la', 'Nigeria', 'kutuondoa', 'kwa', 'ndege', 'hadi', 'mjini', 'Lagos', \"''\", ',', 'Dkt', 'Mutua', 'anakumbuka', '.', 'Bonnke', 'ambaye', 'alikuwa', 'akielewa', 'hali', 'ya', 'kidini', 'ya', 'Nigeria', ',', 'aliomboleza', 'na', 'taifa', 'hilo', 'katika', 'ujumbe', 'kwa', 'serikali', 'ya', 'kijimbo', 'katika', 'eneo', 'hilo', 'na', 'kuapa', 'kurudi', '.', 'Hatahivyo', 'Profesa', 'Esther', 'Mombo', 'kutoka', 'taasisi', 'ya', 'uhusiano', 'wa', 'Wakristo', 'na', 'Waislamu', 'katika', 'eneo', 'la', 'Eastleigh', 'anasema', 'kwamba', 'athari', 'za', 'Bonnke', 'barani', 'Afrika', 'zillikuwa', 'hazieleweki', 'na', 'mara', 'nyengine', 'ulihitaji', 'utafiti', 'kufafanuliwa', '.', 'Taasisi', 'hiyo', 'ambayo', 'ilianzishwa', 'mwaka', '2010', 'imekuwa', 'katikati', 'ya', 'majaribio', 'kadhaa', 'ya', 'kujenga', 'uhusiano', 'kati', 'ya', 'Waislamu', 'na', 'Wakristo', 'katika', 'muktadha', 'wa', 'Kiafrika', '.', 'Profesa', 'Mombo', 'anasema', 'kwamba', 'mahubiri', 'ya', 'Bonnke', 'mara', 'nyingi', 'hayakuleta', 'uwiano', 'bali', 'uadui', 'na', 'chuki', '.', \"''Watu\", 'walioathirika', 'kutokana', 'na', 'matamshi', 'hayo', 'walikuwa', 'watu', 'kawaida', '.', 'Kuna', 'wale', 'ambao', 'pia', 'walitumiwa', 'vibaya', \"''\", ',', 'anasema', '.']\n",
      "\n",
      " Number of Words:  594\n"
     ]
    }
   ],
   "source": [
    "file=\"19dec18_2.txt\"\n",
    "\n",
    "# calling the function and storing the contents in a text variable \n",
    "text = get_document(\"https://www.bbc.com/swahili/habari-50836590\")\n",
    "\n",
    "# calling the store_ document function \n",
    "store_document(doc=text,name=file)\n",
    "\n",
    "#add the words in this file to the total_corpus_words, to keep count of the number of words in the corpus\n",
    "total_corpus_words+=total_words(file)"
   ]
  },
  {
   "cell_type": "code",
   "execution_count": 125,
   "metadata": {},
   "outputs": [
    {
     "data": {
      "text/plain": [
       "183266"
      ]
     },
     "execution_count": 125,
     "metadata": {},
     "output_type": "execute_result"
    }
   ],
   "source": [
    "total_corpus_words"
   ]
  },
  {
   "cell_type": "code",
   "execution_count": 127,
   "metadata": {},
   "outputs": [
    {
     "name": "stdout",
     "output_type": "stream",
     "text": [
      "['Rosemary', 'Odinga', 'arejesha', 'uwezo', 'wa', 'kuona', 'baada', 'ya', 'miaka', 'miwili', 'Bi', 'Rosemary', 'Odinga', '(', 'katikati', ')', 'alipoteza', 'uwezo', 'wa', 'kuona', 'kwa', 'muda', 'wa', 'miaka', 'miwili', 'Rosemary', 'Odinga', ',', 'binti', 'yake', 'kiongozi', 'wa', 'chama', 'cha', 'ODM', 'nchini', 'Kenya', 'Raila', 'Odinga', ',', 'amefichua', 'kuwa', 'kwa', 'sasa', 'amerejesha', 'uwezo', 'wake', 'wa', 'kuona', 'baada', 'ya', 'kutoweza', 'kuona', 'kwa', 'muda', 'wa', 'miaka', 'miwili', '..', 'Bi', 'Rosemary', 'Odinga', 'alipoteza', 'uwezo', 'wa', 'kuona', ',', 'baada', 'ya', 'kupatikana', 'na', 'uvimbe', 'kwenye', 'ubongo', 'ambao', 'ulitolewa', ',', 'lakini', 'awali', 'madaktari', 'wakamwambia', 'hatakua', 'na', 'uwezo', 'wa', 'kuona', '.', 'Mtoto', 'huyo', 'wa', 'kike', 'wa', 'Odinga', 'alitangaza', 'taarifa', 'ya', 'kuwa', 'na', 'uwezo', 'wa', 'kuona', 'mbele', 'ya', 'Wakristo', 'wa', 'kanisa', 'la', 'St.peters', 'ACK', 'mjini', 'Bondo', 'Siaya', 'Kaunti', 'katika', 'ibada', 'ya', 'Krismas', ',', 'ambapo', 'alisema', 'amepitia', 'kipindi', 'kigumu', 'cha', 'kutoweza', 'kuona', '.', \"''Nilijihisi\", 'niko', 'peke', 'yangu', ',', 'na', 'nilikua', 'nimejifunza', 'haraka', 'kutambua', 'sauti', 'na', 'hatua', 'za', 'watu', 'ili', 'kujua', 'ni', 'nani', 'aliye', 'karibu', 'yangu', \"''\", ',', 'amesema', '.']\n",
      "\n",
      " Number of Words:  153\n"
     ]
    }
   ],
   "source": [
    "file=\"19dec26.txt\"\n",
    "\n",
    "# calling the function and storing the contents in a text variable \n",
    "text = get_document(\"https://www.bbc.com/swahili/habari-50914689\")\n",
    "\n",
    "# calling the store_ document function \n",
    "store_document(doc=text,name=file)\n",
    "\n",
    "#add the words in this file to the total_corpus_words, to keep count of the number of words in the corpus\n",
    "total_corpus_words+=total_words(file)"
   ]
  },
  {
   "cell_type": "code",
   "execution_count": 128,
   "metadata": {},
   "outputs": [
    {
     "data": {
      "text/plain": [
       "183419"
      ]
     },
     "execution_count": 128,
     "metadata": {},
     "output_type": "execute_result"
    }
   ],
   "source": [
    "total_corpus_words"
   ]
  },
  {
   "cell_type": "code",
   "execution_count": 129,
   "metadata": {},
   "outputs": [
    {
     "name": "stdout",
     "output_type": "stream",
     "text": [
      "['Katika', 'nafasi', 'ya', 'nane', ',', 'Never', 'Give', 'Up', 'yake', 'Harmonize', 'akizungumzia', 'maisha', 'yake', 'ya', 'shida', 'ya', 'zama', 'za', 'kale', ',', 'kabla', 'awe', 'msanii', 'tajika', '.', 'Huu', 'ulikuwa', 'wimbo', 'wake', 'wa', 'mwisho', 'ulionoga', 'sana', 'kabla', 'ya', 'kuihama', 'lebo', 'ya', 'Wasafi', 'na', 'kuunda', 'lebo', 'yake', 'mwenyewe', 'ya', 'Konde', 'Gang', '.', 'Ama', 'kwa', 'kweli', ',', 'Never', 'Give', 'Up', '...', 'Turejee', 'tena', 'Kenya', 'katika', 'nafasi', 'ya', 'saba', ',', 'Extravaganza', 'ya', 'Sauti', 'Sol', 'wakishikiana', 'na', 'Bensoul', ',', 'Nviiri', 'the', 'Storyteller', ',', 'Crystal', 'Asige', 'na', 'kundi', 'la', 'Kaskazini', ',', 'wote', 'hao', 'ni', 'wasanii', 'walio', 'chini', 'ya', 'lebo', 'yao', 'ya', 'mpya', 'Sol', 'Generation', '.', 'Mchanganyiko', 'wa', 'sauti', 'tamu', ',', 'na', 'mpigo', 'wa', 'ajabu', 'wa', 'ala', 'za', 'muziki', 'katika', 'wimbo', 'huu', 'unakupatia', 'utamu', 'wa', 'kipekee', ',', 'yaani', 'Extravaganza', '.', 'Chanzo', 'cha', 'picha', ',', 'Ali', 'Kiba/Instagram', 'Nafasi', 'ya', 'sita', 'nitaipa', 'Mshumaa', 'yake', 'Ali', 'kiba', '.', 'Wimbo', 'huu', 'aliuachia', 'mwezi', 'mmoja', 'tu', 'uliopita', '.', 'Ndio', 'wimbo', 'wake', 'wa', 'peke', 'yake', 'wa', 'hivi', 'karibuni', 'zaidi', ',', 'baada', 'ya', 'kufanya', 'collabo', 'kadhaa', 'za', 'kuwajulisha', 'wasanii', 'waliosajiliwa', 'na', 'lebo', 'yake', 'ya', 'Kings', 'Music', 'Records', '.', 'Mshumaa', 'ni', 'wimbo', 'ambao', 'unaturudishia', 'kumbu', 'kumbu', 'za', 'King', 'Kiba', 'kama', 'tunavyomfahamu', '.', 'Melody', 'tamu', 'na', 'mistari', 'yenye', 'uzito', ',', 'weee', ',', 'washa', 'Mshumaa', '...', 'Nafasi', 'ya', 'tano', 'inasalia', 'Tanzania', ',', 'na', 'wimbo', 'Tamu', 'wake', 'Mbosso', 'Khan', ',', 'msanii', 'wa', 'kundi', 'la', 'Wasafi', '.', 'Sina', 'mengi', 'ya', 'kusema', 'kumhusu', 'Mbosso', ',', 'ila', 'huyu', 'kijana', 'kabarikiwa', 'mistari', 'ilioiva', ',', 'sauti', 'tamu', ',', 'na', 'ushairi', 'wa', 'hali', 'ya', 'juu', '.', 'Ama', 'kwa', 'kweli', 'ni', 'Tamu', '.', 'Katika', 'nafasi', 'ya', 'nne', 'nasalia', 'ndani', 'ya', 'kundi', 'la', 'Wasafi', 'na', 'wimbo', 'mpya', 'wa', 'Rayvanny', 'I', 'Love', 'You', '.', 'Msanii', 'huyu', 'wa', 'kundi', 'la', 'Wasafi', 'amecheza', 'na', 'mistari', ',', 'na', 'kuachia', 'melody', 'safi', 'sana', 'iliyojaa', 'mashairi', 'ya', 'kipekee', '.', 'Mdundo', 'wa', 'pole', 'pole', 'unaenda', 'kinyume', 'sana', 'na', 'Rayvanny', 'wa', 'kitambo', 'tuliyemjua', 'kwa', 'kufokafoka', 'na', 'midundo', 'sawia', 'na', 'hip', 'hop', '.', 'Hata', 'mimi', 'nakwambia', 'msomaji', 'I', 'Love', 'You', '...', 'Sasa', 'tugeukie', 'nyimbo', 'tatu', 'ambazo', 'ndizo', 'kubwa', 'zaidi', 'Afrika', 'Mashariki', 'na', 'Kati', '.', 'Nafasi', 'ya', 'tatu', 'inakwenda', 'Uganda', 'kwa', 'wimbo', 'Parte', 'After', 'Parte', 'wake', 'Big', 'Tril', '.']\n",
      "\n",
      " Number of Words:  341\n"
     ]
    }
   ],
   "source": [
    "file=\"19dec27_1.txt\"\n",
    "\n",
    "# calling the function and storing the contents in a text variable \n",
    "text = get_document(\"https://www.bbc.com/swahili/50902847\")\n",
    "\n",
    "# calling the store_ document function \n",
    "store_document(doc=text,name=file)\n",
    "\n",
    "#add the words in this file to the total_corpus_words, to keep count of the number of words in the corpus\n",
    "total_corpus_words+=total_words(file)"
   ]
  },
  {
   "cell_type": "code",
   "execution_count": 130,
   "metadata": {},
   "outputs": [
    {
     "data": {
      "text/plain": [
       "183760"
      ]
     },
     "execution_count": 130,
     "metadata": {},
     "output_type": "execute_result"
    }
   ],
   "source": [
    "total_corpus_words"
   ]
  },
  {
   "cell_type": "code",
   "execution_count": 131,
   "metadata": {},
   "outputs": [
    {
     "name": "stdout",
     "output_type": "stream",
     "text": [
      "['Ni', 'kwanini', 'polisi', 'wa', 'Kenya', 'wanaonywa', 'juu', 'ya', 'nywele', 'zao', '?', 'Naibu', 'Inspekta', 'Jenerali', 'wa', 'Polisi', 'Edward', 'Mbugua', ',', 'alionyesha', 'wasiwasi', 'juu', 'ya', 'maafisa', 'wa', 'polisi', 'walisukwa', 'nywele', 'zenye', 'mapambo', 'ya', 'kuvutia', 'jambo', 'ambalo', 'ni', 'ukiukaji', 'wa', 'sheria', '.', 'Maafisa', 'wote', 'wa', 'kike', 'watalazimika', 'kufumua', 'nywele', 'walizosukwa', 'zisizoendana', 'na', 'sheria', 'ya', 'mavazi', 'ya', 'polisi', 'kuanzia', 'tarehe', '1', ',', '2020', ',', 'kwa', 'mujibu', 'wa', 'idara', 'ya', 'Polsi', 'nchini', 'Kenya', '.', '``', 'Kuna', 'haja', 'ya', 'kutambua', 'kwamba', 'kwamba', 'sare', 'ya', 'polisi', 'ni', 'ishara', 'ya', 'mamlaka', 'na', 'inastahili', 'kupewa', 'shehima', 'yake', '.', 'Kuanzia', 'Januari', '1', ',', '2020', ',', 'nywele', 'za', 'mitindo', 'isiyokubalika', 'hazitakubaliwa', ',', \"''\", 'Bwana', 'Mbugua', 'amethibitisha', '.', 'Maafisa', 'wa', 'kike', 'wa', 'polisi', 'nchini', 'Kenya', 'watatakiwa', 'kuondoa', 'mitindo', 'yao', 'ya', 'nywele', 'pamoja', 'na', 'zile', 'walizobandika', 'katika', 'kipindi', 'hiki', 'cha', 'sikukuu', '.', 'Idara', 'hiyo', 'ya', 'polisi', 'inasema', 'inataka', 'kuhakikisha', 'maafisa', 'wote', 'wanafuatilia', 'kikamilifu', 'mfumo', 'wa', 'mavazi', 'rasmi', 'ya', 'kazi', '.', 'Aidha', 'hatua', 'hii', 'inaenda', 'sambamba', 'na', 'sare', 'mpya', 'za', 'polisi', 'zilizotolewa', '.', 'Kanuni', 'ya', 'ukiukaji', 'wa', 'sare', 'za', 'polisi', 'Taarifa', 'iliyotolewa', 'mapema', 'wiki', 'hii', ',', 'inasema', 'kwamba', 'makamanda', 'wote', 'wa', 'polisi', 'wa', 'eneo', 'wamepewa', 'jukumu', 'la', 'kuhakikisha', 'kwamba', 'sheria', 'ya', 'mavazi', 'inafuatiliwa', 'vilivyo', '.', 'Taarifa', 'hiyo', 'iliyotiwa', 'saini', 'na', 'Naibu', 'Inspekta', 'Jenerali', 'wa', 'Polisi', 'Edward', 'Mbugua', ',', 'ilionyesha', 'wasiwasi', 'kuhusu', 'maafisa', 'wa', 'polisi', 'walisukwa', 'nywele', 'zao', 'zilizowekwa', 'mapambo', 'ya', 'kuvutia', 'na', 'kukiuka', 'mavazi', 'rasmi', 'ya', 'polisi', '.', 'Katika', 'taarifa', 'hiyo', 'iliyotolewa', 'Desemba', '20', ',', '2019', ',', 'Bwana', 'Mbugua', 'anasema', 'kwamba', 'upambaji', 'wa', 'nywele', 'kwa', 'nakshi', 'kupita', 'kiasi', 'ni', 'ukiukaji', 'wa', 'kanuni', 'za', 'idara', 'ya', 'Polisi', '.', '``', 'Katika', 'ziara', 'yangu', 'rasmi', 'ya', 'kikazi', 'sehemu', 'mbalimbali', 'nchini', 'katika', 'kipindi', 'cha', 'wiki', 'moja', 'iliyopita', ',', 'nimeshuhudia', 'maafisa', 'wa', 'ngazi', 'mbalimbali', 'hususan', 'wa', 'kike', 'wakiwa', 'wamesuka', 'nywele', 'zao', 'kwa', 'namna', 'isiyokubalika', ',', \"''\", 'Mr', 'Mbugua', 'amesema', '.', 'Chanzo', 'cha', 'picha', ',', 'Kenya', 'police/Twitter', 'Maelezo', 'ya', 'picha', ',', 'Kuanzia', 'tarehe', 'Mosi', 'Januari', ',', '2020', ',', 'polisi', 'wanawake', 'nchini', 'Kenya', 'watatakiwa', 'kufuata', 'kikamilifu', 'sheria', 'na', 'kanuni', 'za', 'mavazi', 'ya', 'polisi', 'nchini', 'huo', '.']\n",
      "\n",
      " Number of Words:  325\n"
     ]
    }
   ],
   "source": [
    "file=\"19dec27_2.txt\"\n",
    "\n",
    "# calling the function and storing the contents in a text variable \n",
    "text = get_document(\"https://www.bbc.com/swahili/habari-50925466\")\n",
    "\n",
    "# calling the store_ document function \n",
    "store_document(doc=text,name=file)\n",
    "\n",
    "#add the words in this file to the total_corpus_words, to keep count of the number of words in the corpus\n",
    "total_corpus_words+=total_words(file)"
   ]
  },
  {
   "cell_type": "code",
   "execution_count": 132,
   "metadata": {},
   "outputs": [
    {
     "data": {
      "text/plain": [
       "184085"
      ]
     },
     "execution_count": 132,
     "metadata": {},
     "output_type": "execute_result"
    }
   ],
   "source": [
    "total_corpus_words"
   ]
  },
  {
   "cell_type": "code",
   "execution_count": 133,
   "metadata": {},
   "outputs": [
    {
     "name": "stdout",
     "output_type": "stream",
     "text": [
      "['Wafahamu', 'Nyota', 'watano', 'wa', 'muziki', 'wa', 'Afrika', 'wa', 'kuangaliwa', 'siku', 'zijazo', 'Wakamuziki', 'kama', 'vile', 'Davido', ',', 'Wizkid', 'na', 'Burna', 'Boy', 'kwa', 'sasa', 'wanatambulika', 'kama', 'nyota', 'wakuu', 'wa', 'muziki', 'kote', 'duniani', ',', 'na', 'nia', 'ya', 'dunia', 'katika', 'muziki', 'wa', 'Kiafrika', 'haijawahi', 'kuwa', 'ya', 'kiwango', 'cha', 'juu', 'kama', 'ilivyo', 'kwa', 'sasa', '.', 'Mnamo', 'mwaka', '2019', ',', 'Beyoncé', 'aliwachagua', 'baadhi', 'ya', 'wanamuziki', 'nyota', 'wa', 'Afrika', 'kushiriki', 'katika', 'albamu', 'yake', 'iliyopata', 'umaarufu', 'iliyotokana', 'na', 'filamu', 'ya', 'Lion', 'King', 'huku', 'Mr', 'Eazina', 'Burna', 'Boy', 'wakicheza', 'muziki', 'wao', 'katika', 'tamasha', 'la', 'mwaka', 'la', 'muziki', 'la', 'Coachella', 'mjini', 'California', '.', 'Wafuatao', 'ni', 'nyota', 'Watano', 'wa', 'kuawaangalia', 'katika', 'mwaka', '2020', '.', 'Sheebah', 'Karungi', '(', 'Uganda', ')', 'Akiwa', 'na', 'mafanikio', 'ya', 'kimuziki', 'katika', 'nchi', 'yake', 'ya', 'Uganda', ',', 'muziki', 'wa', 'Sheebah', 'sasa', 'unavuka', 'mipaka', '.', 'Akiwa', 'na', 'sauti', 'mahiri', ',', 'Sheebah', 'ni', 'msanii', 'mwenye', 'malengo', '.', 'Kuanzia', 'kushirikiana', 'na', 'wasanii', 'wengine', 'wa', 'Kiafrika', 'hadi', 'densi', ',', 'mtindo', 'wake', 'wa', 'fasheni', ',', 'anatumia', 'talanta', 'yake', 'kuupeleka', 'muziki', 'wa', 'Uganda', 'kote', 'dunaini', '.', 'Ni', 'mwanamke', 'mwenye', 'uwezo', 'mkubwa', '.', 'Kimaisha', 'yupo', 'tu', 'kama', 'mwanamke', 'mwingine', 'yeyote', 'wa', 'kawaida', ',', 'na', 'ndio', 'maana', 'anaweza', 'kuwasiliana', 'vema', 'na', 'mashabiki', 'wake', '.', 'Lakini', 'anapokua', 'jukwaani', ',', 'anabadilika', 'na', 'kuwa', 'Superstar', '-', 'mahiri', 'na', 'mwenye', 'umbo', 'la', 'kuvutia', '.', 'Joeboy', '(', 'Nigeria', ')', 'Maelezo', 'ya', 'picha', ',', 'Joeboy', 'Joeboy', 'alipata', 'umaarufu', 'kwa', 'wimbo', 'wake', 'Baby', ',', 'ambayo', 'ilitazamwa', 'na', 'watu', 'milioni', '18', 'katika', 'kipindi', 'cha', 'miezi', 'tisa', 'kwenye', 'mtandao', 'wa', 'YouTube', '.', 'Akiwa', 'na', 'sauti', 'inayotoka', 'moyoni', 'na', 'kujielezea', 'kwa', 'ustadi', 'katika', 'mtindo', 'wa', 'kipekee', 'wa', 'nyimbo', 'zake', ',', 'mwimbaji', 'huyu', 'wa', 'Nigeria', 'huwasilisha', 'mistari', 'ya', 'nyimbo', 'zake', 'kwa', 'mitindo', 'ya', 'Afrobeats', 'na', 'pop', '.', 'Muziki', 'wake', 'anaoutoa', 'mmoja', 'mmoja', 'pia', 'umekuwa', 'ukipokelewa', 'vema', 'na', 'wafuasi', 'wake', '.', 'Mei', 'uliopita', ',', 'muimbaji', 'huyu', 'alitoa', 'wimbo', 'ulioitwa', 'Love', '&', 'Light', '.', 'Anapata', 'umaarufu', 'haraka', '-', 'kwa', 'misingi', 'ya', 'nyimbo', 'hizi', 'mbili', 'tu', ',', 'na', 'anakaribishwa', 'kote', 'Afrika', 'na', 'tayari', 'ameshafanya', 'onyesho', 'la', 'muziki', 'wake', 'nchini', 'Uingereza', '.', 'Brian', 'Nadra', '(', 'Kenya', ')', 'Anaelezea', 'muziki', 'wake', 'kama', '``', 'Sauti', 'ya', 'kijana', 'wa', 'mjini', 'kutoka', 'katika', 'enzi', 'ya', 'smartphone', 'yenye', 'misingi', 'ya', 'kitamaduni', \"''\", '.', 'Mwimbaji', 'na', 'mtunzi', 'wa', 'nyimbo', 'kutoka', 'Kenya', 'mwenye', 'sauti', 'ya', 'kuvutia', 'amejijenga', 'binafsi', 'kama', 'balozi', 'wa', 'muziki', 'wa', 'pop', 'wa', 'Afrika', 'Mashariki', '-', 'hadi', 'sasa', ',', 'Kenya', 'ina', 'wanamuziki', 'wengi', 'wa', 'wa', 'kiume', 'waliofanikiwa', 'kimataifa', '.', 'Brian', 'ana', 'mtindo', 'wa', 'kipekee', '-', 'huimba', ',', 'na', 'kurap', 'pia', 'ameweza', 'hata', 'kuimba', 'R', '&', 'B', ',', 'na', 'kuingia', 'katika', 'aina', 'nyingine', 'za', 'muziki', ',', 'mkiemo', 'reggae', 'hip-hop', '.', 'Innoss', \"'\", 'B', '(', 'Jamuhuri', 'ya', 'Kidemokrasi', 'ya', 'Kongo', ')', 'Kwa', 'kutumia', 'muziki', 'wa', 'kitamaduni', 'wa', 'Wakongo', ',', 'Innoss', \"'\", 'B', 'ameweza', 'kuleta', 'sauti', 'ya', 'kisasa', 'yenye', 'ujana', 'katika', 'muziki', 'wake', '.', 'Mwaka', 'huu', ',', 'muimbaji', 'huyu', 'alipasua', 'mawimbi', 'kwa', 'single', 'yake', 'ya', 'Yo', 'Pe', '-', 'akishirikiana', 'na', 'nyota', 'wa', 'Tanzania', 'Diamond', 'Platnumz', '.', 'Katika', 'kipindi', 'cha', 'miezi', 'mitatu', ',', 'video', 'zake', 'za', 'muziki', 'zilikuwa', 'tayari', 'zina', 'utazamaji', 'wa', 'watu', 'milioni', '14', 'kwenye', 'mtandao', 'wa', 'You', 'Tube', '.', 'Innoss', \"'\", 'B', 'ameweza', 'kujumuisha', 'sauti', 'ya', 'muziki', 'maarufu', 'wa', 'Jamuhuri', 'ya', 'Kidemokrasi', 'ya', 'Kongo', 'wa', 'rhumba', 'na', 'R', '&', 'B', 'na', 'Afrobeats', '.', 'Sho', 'Madjozi', '(', 'Afrika', 'Kusini', ')', 'Chanzo', 'cha', 'picha', ',', 'Getty', 'Images', 'Hakuna', 'kitakachomsimamisha', 'Sho', 'Madjozi', '.', 'Mapema', 'mwaka', 'huu', ',', 'msanii', 'huyu', 'wa', 'hip-hop', 'wa', 'Afrika', 'Kusini', ',', 'alishinda', 'tuzo', 'ya', 'BET', 'ya', 'Msanii', 'bora', 'mpya', '.', 'Utashi', 'wa', 'kile', 'anachokifanya', 'ndiyo', 'inayompa', 'msukumo', 'msanii', 'huyu-', 'Ukisikia', 'nyimbo', 'zake', 'au', 'kutazama', 'tamasha', 'lake', 'la', 'muziki', ',', 'ni', 'wazi', 'kuwa', 'anafurahia', 'kile', 'anachokifanya', 'na', 'hisia', 'hiyo', 'pekee', 'ina', 'mvuto', '!', 'Analeta', 'utofauti', 'flani', 'katika', 'muziki', 'wa', 'Afrika', 'Kusini', '.', 'Tofauti', 'hii', 'inapatikana', 'katika', 'ala', 'zake', 'lakini', 'pia', 'anarap', '-', 'kwa', 'lugha', 'kadhaa-', 'katika', 'mtindo', 'wa', '-', 'gqom', '.', 'Wengi', 'miongoni', 'mwa', 'wasanii', 'wa', 'Afrika', 'Kusini', 'hulenga', 'soko', 'la', 'nyumbani', 'lakini', 'ameweza', 'kuwashirikisha', 'muziki', 'wake', 'watu', 'wengine', 'duniani', '.', 'Wimbo', 'wake', 'uliopewa', 'jina', 'la', 'mchezaji', 'wa', 'mieleka', 'wa', 'Marekani', 'John', 'Cena', 'unawasisimua', 'wengi', '.']\n",
      "\n",
      " Number of Words:  648\n"
     ]
    }
   ],
   "source": [
    "file=\"19dec10_2.txt\"\n",
    "\n",
    "# calling the function and storing the contents in a text variable \n",
    "text = get_document(\"https://www.bbc.com/swahili/habari-50717464\")\n",
    "\n",
    "# calling the store_ document function \n",
    "store_document(doc=text,name=file)\n",
    "\n",
    "#add the words in this file to the total_corpus_words, to keep count of the number of words in the corpus\n",
    "total_corpus_words+=total_words(file)"
   ]
  },
  {
   "cell_type": "code",
   "execution_count": 134,
   "metadata": {},
   "outputs": [
    {
     "data": {
      "text/plain": [
       "184733"
      ]
     },
     "execution_count": 134,
     "metadata": {},
     "output_type": "execute_result"
    }
   ],
   "source": [
    "total_corpus_words"
   ]
  },
  {
   "cell_type": "code",
   "execution_count": 137,
   "metadata": {},
   "outputs": [
    {
     "name": "stdout",
     "output_type": "stream",
     "text": [
      "['Shambulio', 'la', 'Al-shabab', 'lilivyoathiri', 'usalama', 'eneo', 'la', 'Lamu', 'Hali', 'ya', 'wasi', 'wasi', 'imetanda', 'katika', 'jimbo', 'la', 'Lamu', 'pwani', 'ya', 'Kenya', 'kutokana', 'na', 'mfululizo', 'wa', 'mashambulio', 'ya', 'kigaidi', 'yaliyolenga', 'kambi', 'ya', 'kijeshi', 'inayotumiwa', 'na', 'majeshi', 'ya', 'Kenya', 'na', 'Marekani', '.', 'Jeshi', 'la', 'jeshi', 'la', 'Kenya', ',', 'KDF', 'limethibitisha', 'wanajeshi', 'watatu', 'wa', 'Marekani', 'na', 'wajenzi', 'wawili', 'wa', 'ulinzi', 'wameuawa', 'katika', 'shambulio', 'la', 'siku', 'ya', 'Jumapili', 'katika', 'eneo', 'la', 'Manda', 'bay', '.', 'Jeshi', 'la', 'Kenya', 'limethibitisha', 'vifo', 'hivyo', 'na', 'kusema', 'kuwa', 'Wamarekani', 'wengine', 'wawili', 'wafanyikazi', 'wa', 'kitengo', 'cha', 'ulinzi', 'katika', 'jeshi', 'la', 'Marekani', 'walijeruhiwa', 'katika', 'shambulio', 'hilo', 'lililotokea', 'karibu', 'na', 'mpaka', 'wa', 'Somalia', '.', 'Jeshi', 'hilo', 'pia', 'limeelezea', 'kuwa', 'wanamgambo', 'wanne', 'wa', 'Al-shabab', 'waliuawa', 'katika', 'kambi', 'ya', 'Simba', 'iliyoko', 'eneo', 'la', 'Hindi', 'Magogoni', 'pembezoni', 'mwa', 'kisiwa', 'hicho', 'cha', 'kitalii', 'Lamu', '.', 'Marekani', 'kwa', 'upande', 'wao', 'wamepuuza', 'shambulio', 'hilo', 'na', 'kudai', 'lilidhibitiwa', 'vilivyo', '.', 'Maelezo', 'ya', 'picha', ',', 'Uwanja', 'wa', 'ndege', 'wa', 'Manda', ',', 'uliopo', 'Lamu', 'Mashambulizi', 'hayo', 'yamesababisha', 'madhara', 'kiasi', 'gani', '?', 'Ndege', 'nne', 'za', 'kijeshi', 'mbili', 'za', 'Kenya', 'na', 'zingine', 'mbili', 'za', 'Marekani', 'ziliaharibiwa', 'vibaya', 'katika', 'tukio', 'hilo', '.', 'Hali', 'hiyo', 'iliwatia', 'hofu', 'wakaazi', 'wa', 'kisiwa', 'cha', 'Lamu', ',', 'mmoja', 'wao', 'akiwa', 'mama', 'ambaye', 'hakutaka', 'kutajwa', 'jina', 'kutokana', 'na', 'sababu', 'za', 'kiusala', 'aliiambia', 'BBC', ':', '``', 'Nilisikia', 'sauti', 'ya', 'risasi', 'ni', 'kamuamsha', 'bwanangu', '...', 'na', 'ndio', 'sasa', 'marisasi', 'yalikuwa', 'yanazidi', ',', 'ikabidi', 'ni', 'toke', 'niingie', 'mvungu', 'mwa', 'kitanda', 'manake', 'risasi', 'zilikuwa', 'zinalia', 'juu', 'ya', 'paa', 'la', 'nyumba', ',', 'nikaenda', 'chumba', 'cha', 'watoto', 'cha', 'kulala', 'nikawapta', 'watoto', 'wanalia', 'na', 'ndipo', 'baba', 'yao', 'akanza', 'kuwatuliza', \"''\", 'Anasema', '``', 'Risasi', 'ziliendelea', 'kulia', 'hivyo', 'hivyo', 'sasa', 'hakuna', 'kutoka', ',', 'hakuna', 'kuenda', 'mahali', 'popote', 'kwa', 'nyumba', 'juu', 'unaona', 'moto', 'tu', \"''\", '.', 'Shambulio', 'hilo', 'la', 'kambi', 'ya', 'kijeshi', 'limetokea', 'siku', 'tatu', 'baada', 'ya', 'shambulizi', 'lengine', 'lililolenga', 'mabasi', 'ya', 'matatu', 'ya', 'abiria', 'yaliyokuwa', 'yamebeba', 'abiria', 'kutoka', 'Mombasa', 'kuelekea', 'Lamu', 'siku', 'ya', 'Alhamisi', 'ambapo', 'watu', 'wanne', 'walipoteza', 'maisha', 'yao', '.', 'Maelezo', 'ya', 'picha', ',', 'Mji', 'wa', 'Lamu', ',', 'kusini', 'mashariki', 'mwa', 'Kenya', 'Wakaazi', 'waelezea', 'hofu', 'yao', 'Wakati', 'vyombo', 'vya', 'usalama', 'nchini', 'Kenya', 'vikiendelea', 'kudhibiti', 'hali', 'na', 'kutoa', 'usalama', 'kwa', 'wananch', 'wakaazi', 'wa', 'eneo', 'hilo', 'la', 'Lamu', 'wanahofia', 'hali', 'yao', 'ya', 'usalama', 'hasa', 'kufuatia', 'kuripotiwa', 'kwa', 'mashambulizi', 'mawili', 'ya', 'kigaidi', '``', 'Haya', 'matatizo', 'ambayo', 'yametokea', 'kuanzia', 'juzi', 'magari', 'kupigwa', 'na', 'jana', 'maeno', 'karibu', 'na', 'uwanja', 'wa', 'ndege', 'kushambuliwa', 'wakati', 'huu', 'ambao', 'shule', 'zinafunguliwa', 'inatutua', 'hofu', \"''\", 'alisema', 'Misbaa', 'Aboubakar', 'ambaye', 'ni', 'mkaazi', 'na', 'mzazi', 'ambaye', 'mtoto', 'wake', 'anafaa', 'kurejea', 'shuleni', '.', 'Anataka', 'serikali', 'iwabainishie', 'wakaazi', 'wa', 'Lamu', 'mkakati', 'wa', 'kiusalama', 'ili', 'kuwaondolea', 'hofu', 'kuhusu', 'masuala', 'ya', 'usafiri', \"''\", 'alisema', 'Bw', '.', 'Aboubakar', '.', 'Wakati', 'ambapo', 'hali', 'ya', 'usalama', 'ikiendelea', 'kukumbwa', 'na', 'changamoto', 'katika', 'eneo', 'hilo', 'huenda', 'sekta', 'ya', 'utalii', 'ambayo', 'ni', 'kitega', 'uchumi', 'wa', 'Lamu', 'ukaathirika', '.', 'Maelezo', 'ya', 'picha', ',', 'Manda', 'ni', 'sehemu', 'ambayo', 'jeshi', 'la', 'Marekani', 'utumia', 'kutoa', 'mafunzo', 'ya', 'kijeshi', 'na', 'kikosi', 'kinachotoa', 'usaidizi', 'wa', 'kukabiliana', 'na', 'ugaidi', 'Afrika', 'Mashariki', 'Al', 'Shabaab', 'walikuwa', 'wanajaribu', 'kuelekea', 'kambi', 'ya', 'karibu', 'inayotumiwa', 'na', 'Marekani', 'na', 'jeshi', 'la', 'Kenya', '.', 'Wakazi', 'wa', 'eneo', 'hilo', 'waliripoti', 'kuwa', 'walikuwa', 'walisikia', 'milipuko', 'na', 'baadae', 'milio', 'ya', 'risasi', '.', 'Moshi', 'mzito', 'ulionekana', 'katika', 'eneo', 'la', 'tukio', '.', 'Uwanja', 'wa', 'ndege', 'wa', 'Lamu', 'ulifungwa', 'kwa', 'muda', 'lakini', 'taarifa', 'kutoka', 'mamlaka', 'ya', 'usafiri', 'wa', 'ndege', 'nchini', 'Kenya', 'KCAA', ',', 'imetangaza', 'kurejea', 'tena', 'kwa', 'shughuli', 'za', 'usafiri', '.', 'Al-Shabab', 'walidai', 'kuwa', 'kuna', 'vifo', 'vingi', 'na', 'majeruhi', 'wa', 'vikosi', 'vya', 'Marekani', 'na', 'wanajeshi', 'wa', 'Kenya', 'wapo', '.', 'Lakini', 'Marekani', 'kwa', 'upande', 'wao', 'wamepuuza', 'shambulio', 'hilo', 'na', 'kudai', 'lilidhibitiwa', 'vilivyo', '.', 'Christopher', 'Karns', ',', 'Msemaji', 'wa', 'kitengo', 'cha', 'Jeshi', 'la', 'Marekani', 'Afrika', 'amekanusha', 'taarifa', 'hizo', 'na', 'kusema', 'kuwa', 'huo', 'ni', 'uzushi', 'wa', 'kukuza', 'mambo', '.', 'Aidha', 'hakufafanua', 'zaidi', 'taarifa', 'hizo', ',', 'AP', 'imeripoti', '.', 'Kambi', 'hiyo', 'ilikuwa', 'na', 'Wamarekani', 'wapatao', '100', '.', 'Msemaji', 'wa', 'polisi', 'nchini', 'Kenya', 'Charls', 'Owino', 'amesema', 'kuwa', 'wachunguzi', 'wanapeleleza', 'ikiwa', '``', 'tukio', 'la', 'Lamu', 'lina', 'uhusiano', 'wowote', 'na', 'Soleimani', ',', 'kamanda', 'wa', 'jeshi', 'la', 'Iran', 'aliyeuawa', 'na', 'Marekani', 'nchini', 'Iraq', 'wiki', 'iliyopita', '.', 'Ikumbukwe', 'kuwa', 'mwezi', 'Juni', '2018', ',', 'Komando', 'wa', 'Marekani', 'aliuwawa', 'nchini', 'Somalia', 'wakati', 'wa', 'shambulio', 'la', 'al-Shabab', '.', 'Marekani', 'ilianza', 'operesheni', 'dhidi', 'ya', 'wanamgambo', 'tangu', 'rais', 'Donald', 'Trump', 'aingie', 'madarakani', '2017', '.', 'Marekani', 'ilifanya', 'mashambulizi', 'mengi', 'zaidi', 'ya', 'anga', 'nchini', 'Somali', 'mwaka', '2019', 'zaidi', 'ya', 'miaka', 'ya', 'nyuma', '.', 'Hali', 'ya', 'kiusalama', 'katika', 'fukwe', 'za', 'Manda', 'ni', 'imara', '.', 'Na', 'wiki', 'iliyopita', 'kundi', 'hilohilo', 'la', 'kigaidi', 'lilihusika', 'na', 'shambulio', 'lililouwa', 'zaidi', 'ya', 'watu', '80', 'huko', 'Mogadishu', '.']\n",
      "\n",
      " Number of Words:  724\n"
     ]
    }
   ],
   "source": [
    "file=\"20jan5.txt\"\n",
    "\n",
    "# calling the function and storing the contents in a text variable \n",
    "text = get_document(\"https://www.bbc.com/swahili/50998656\")\n",
    "\n",
    "# calling the store_ document function \n",
    "store_document(doc=text,name=file)\n",
    "\n",
    "#add the words in this file to the total_corpus_words, to keep count of the number of words in the corpus\n",
    "total_corpus_words+=total_words(file)"
   ]
  },
  {
   "cell_type": "code",
   "execution_count": 138,
   "metadata": {},
   "outputs": [
    {
     "data": {
      "text/plain": [
       "185457"
      ]
     },
     "execution_count": 138,
     "metadata": {},
     "output_type": "execute_result"
    }
   ],
   "source": [
    "total_corpus_words"
   ]
  },
  {
   "cell_type": "code",
   "execution_count": 140,
   "metadata": {},
   "outputs": [
    {
     "name": "stdout",
     "output_type": "stream",
     "text": [
      "['Juhudi', 'za', 'wakili', 'wa', 'Kenya', 'Miguna', 'Miguna', 'kurejea', 'nchini', 'zatibuka', 'Wakili', 'wa', 'Kenya', 'mwenye', 'utata', 'Miguna', 'Miguna', ',', 'emedai', 'kuwa', 'mamlaka', 'nchini', 'Ujerumani', 'imemzuia', 'kuabiri', 'ndege', 'ya', 'kuja', 'Kenya', '.', 'Bw', '.', 'Miguna', 'amesema', 'kuwa', 'tahadhari', 'imetolewa', 'kwamba', 'asiondoke', 'uwanja', 'wa', 'ndege', 'wa', 'Berlin', 'kuelekea', 'uwanja', 'wa', 'kimataifa', 'wa', 'JKIA', 'au', 'nchi', 'yoyote', 'ya', 'Afrika', '.', 'Ndege', 'ya', 'shirika', 'la', 'Lufthansa', 'aliyokuwa', 'aabiri', 'kuja', 'Kenya', 'ilikuwa', 'imepangiwa', 'kuondoka', 'nchini', 'Ujerumani', 'saa', 'tano', 'na', 'dakika', 'ishirini', 'na', 'kuwasili', 'Nairobi', 'saa', 'tatu', 'na', 'dakika', 'ishirini', 'na', 'tano', 'za', 'usiku', ',', 'majira', 'ya', 'Afrika', 'mashariki', '.', 'Hatua', 'hiyo', 'inajiri', 'saa', 'kadhaa', 'baada', 'ya', 'mahakama', 'ya', 'juu', 'nchini', 'Kenya', 'kutoa', 'agizo', 'la', 'kuitaka', 'serikali', 'ya', 'Kenya', 'kutomzuia', 'wakili', 'huyo', 'aliyefurushwa', 'kurejea', 'nchini', 'humo', '.', 'Pia', 'unaweza', 'kusoma', 'Serikali', 'ya', 'Kenya', 'imesema', 'kuwa', 'itashughulikia', 'suala', 'hilo', 'ili', 'kumsaidia', 'mwanasiasa', 'huyo', 'wa', 'upinzani', 'kurejea', 'nchini', 'siku', 'ya', 'Junanne', ',', 'karibu', 'miaka', 'miwili', 'baada', 'ya', 'kumfurusha', 'kwenda', 'Canada', '.', 'Wizara', 'ya', 'mambo', 'ya', 'ndani', 'katika', ',', 'taarifa', 'yake', 'imesema', ',', 'itazingatia', 'agizo', 'la', 'mahakama', 'la', 'mwaka', '2018', 'ambalo', 'liliagiza', 'serikali', 'impatie', 'Bw', '.', 'Miguna', 'na', 'stakabadhi', 'za', 'kumsaidia', 'kurejea', 'nchini', 'humo', '.', 'Mahakama', 'hiyo', 'pia', 'ili', 'amuru', 'maafisa', 'wa', 'kutetea', 'haki', 'za', 'binadamu', 'kuruhusiwa', 'kuingia', 'katika', 'uwanja', 'wa', 'ndege', 'kufuatilia', 'mchakato', 'huo', '.', 'Miguna', 'Miguna', 'ni', 'nani', '?', 'Miguna', 'alizaliwa', 'katika', 'kijiji', 'cha', 'Magina', ',', 'katika', 'jimbo', 'la', 'Kisumu', ',', 'magharibi', 'mwa', 'Kenya', '.', 'Bw', 'Miguna', 'amekuwa', 'kiongozi', 'wa', 'kundi', 'linaloitwa', 'National', 'Resistance', 'Movement', '(', 'NRM', ',', 'Vuguvugu', 'la', 'Taifa', 'la', 'Kupinga', 'Serikali', ')', ',', 'ambalo', 'liliundwa', 'na', 'muungano', 'wa', 'upinzani', 'wa', 'National', 'Super', 'Alliance', 'siku', 'moja', 'kabla', 'ya', 'kufanyika', 'kwa', 'uchaguzi', 'wa', 'marudio', 'ambao', 'Bw', 'Odinga', 'alisusia', 'mnamo', '26', 'Oktoba', 'mwaka', '2017', '.']\n",
      "\n",
      " Number of Words:  277\n"
     ]
    }
   ],
   "source": [
    "file=\"20jan7.txt\"\n",
    "\n",
    "# calling the function and storing the contents in a text variable \n",
    "text = get_document(\"https://www.bbc.com/swahili/habari-51016439\")\n",
    "\n",
    "# calling the store_ document function \n",
    "store_document(doc=text,name=file)\n",
    "\n",
    "#add the words in this file to the total_corpus_words, to keep count of the number of words in the corpus\n",
    "total_corpus_words+=total_words(file)"
   ]
  },
  {
   "cell_type": "code",
   "execution_count": 141,
   "metadata": {},
   "outputs": [
    {
     "data": {
      "text/plain": [
       "185734"
      ]
     },
     "execution_count": 141,
     "metadata": {},
     "output_type": "execute_result"
    }
   ],
   "source": [
    "total_corpus_words"
   ]
  },
  {
   "cell_type": "code",
   "execution_count": 142,
   "metadata": {},
   "outputs": [
    {
     "name": "stdout",
     "output_type": "stream",
     "text": [
      "['Anasema', 'kwamba', 'alikuwa', 'na', 'hofu', 'nyingi', 'kiasi', 'cha', 'kupata', 'kigugumizi', 'alipokariri', 'Shahada', 'yeye', 'mwenyewe', '.', 'Chanzo', 'cha', 'picha', ',', 'Reuters', 'Wanaume', 'watatu', 'katika', 'basi', 'hilo', 'waliouwawa', 'na', 'wanamgambo', 'hao', 'wanaoaminika', 'kuwa', 'wafuasi', 'wa', 'kundi', 'la', 'Al', 'Shabab', 'kutoka', 'Somalia', '.', 'Wengine', 'kadhaa', 'walijeruhiwa', 'katika', 'shambulio', 'hilo', 'na', 'wanendelea', 'kupokea', 'matibabu', 'hospitalini', '.', 'Anasema', 'watu', 'walikuwa', 'wakitetemeka', 'na', 'kulia', 'walipokuwa', 'wakishuka', 'kwenye', 'basi', 'huku', 'wapiganaji', 'hao', 'wakiwasubiri', 'chini', '.', 'Wengine', 'walitoka', 'na', 'mara', 'moja', 'wakatoroka', 'kuyaokoa', 'Maisha', 'yao', 'huku', 'wakifyatuliwa', 'risasi', ',', 'lakini', 'kwa', 'bahati', 'nzuri', 'hakuna', 'aliyeguswa', 'na', 'risasi', 'walipokuwa', 'wakitoroka.', '``', 'Kama', 'dereva', 'mara', 'kwa', 'mara', 'utasikia', 'habari', 'kama', 'hizi', 'za', 'mashambulio', 'ya', 'Al', 'Shabab', 'katika', 'barabara', 'hii', ',', 'lakini', 'hakuna', 'kinachoweza', 'kukutayarisha', 'kwa', 'jambo', 'kama', 'hili', ',', '``', 'anasema', 'Hemed', 'ambaye', 'amekuwa', 'akifanya', 'kazi', 'katika', 'barabara', 'hii', 'kwa', 'miaka', 'mitano', 'sasa', '.', 'Al', 'Shabab', 'haijasema', 'ilihusika', 'na', 'shambulio', 'hilo', 'la', 'basi', 'wiki', 'jana', ',', 'lakini', 'kundi', 'hilo', 'limetekeleza', 'mashambulio', 'sawa', 'na', 'hayo', 'katika', 'barabara', 'hii', 'katika', 'miaka', 'ya', 'hivi', 'karibuni', '.', 'Kenya', 'ina', 'wanajeshi', 'nchini', 'Somalia', ',', 'chini', 'ya', 'vikosi', 'vya', 'Muungano', 'wa', 'Afrika', 'AU', 'vinavyotoa', 'usaidizi', 'kwa', 'serikali', 'inayoungwa', 'mkono', 'na', 'Umoja', 'wa', 'mataifa', 'katika', 'vita', 'dhidi', 'ya', 'Al', 'Shabab', '.', 'Kundi', 'hili', 'la', 'wanamgambo', 'limepoteza', 'baadhi', 'ya', 'maeneo', 'iliyokuwa', 'ikishikilia', 'lakini', 'imeendelea', 'kutekeleza', 'mashambulio', 'upande', 'mwingine', 'wa', 'mpaka', ',', 'ikiwemo', 'shambulio', 'katika', 'kambi', 'ya', 'pamoja', 'ya', 'kijeshi', 'ya', 'Kenya', 'na', 'Marekani', 'mnamo', 'January', '5', 'ambapo', 'raia', 'watatu', 'wa', 'Marekani', 'walifariki', '.', 'Kwa', 'jumla', ',', 'mamia', 'ya', 'raia', 'wameuwawa', 'au', 'kujeruhiwa', 'katika', 'mashambulio', 'hayo', '.', 'Tangu', 'mwaka', 'wa', '2015', ',', 'katika', 'juhudi', 'za', 'kukabiliana', 'na', 'Al', 'Shabab', ',', 'maafisa', 'wa', 'usalama', 'wamekuwa', 'wakifanya', 'operesheni', 'katika', 'msitu', 'wa', 'Boni', ',', 'unaoaminika', 'kuwa', 'maficho', 'na', 'eneo', 'la', 'kufanya', 'mazoezi', 'kwa', 'wapiganaji', 'wa', 'Al', 'Shabab', '.']\n",
      "\n",
      " Number of Words:  286\n"
     ]
    }
   ],
   "source": [
    "file=\"20jan9.txt\"\n",
    "\n",
    "# calling the function and storing the contents in a text variable \n",
    "text = get_document(\"https://www.bbc.com/swahili/habari-51044096\")\n",
    "\n",
    "# calling the store_ document function \n",
    "store_document(doc=text,name=file)\n",
    "\n",
    "#add the words in this file to the total_corpus_words, to keep count of the number of words in the corpus\n",
    "total_corpus_words+=total_words(file)"
   ]
  },
  {
   "cell_type": "code",
   "execution_count": 143,
   "metadata": {},
   "outputs": [
    {
     "data": {
      "text/plain": [
       "186020"
      ]
     },
     "execution_count": 143,
     "metadata": {},
     "output_type": "execute_result"
    }
   ],
   "source": [
    "total_corpus_words"
   ]
  },
  {
   "cell_type": "code",
   "execution_count": 147,
   "metadata": {},
   "outputs": [
    {
     "name": "stdout",
     "output_type": "stream",
     "text": [
      "['Wanawake', 'wachukua', 'nafasi', 'muhimu', 'katika', 'Baraza', 'jipya', 'la', 'Mawaziri', 'Rais', 'wa', 'Kenya', 'aUhuru', 'Kenyatta', 'amefanya', 'mabadiliko', 'katika', 'Baraza', 'la', 'Mawaziri', '.', 'Katika', 'hotuba', 'yake', 'ya', 'kwanza', 'katika', 'mwaka', 'wa', '2020', 'aliyoitoa', 'kwenye', 'Ikulu', 'ya', 'Rais', 'Mombasa', '.', 'Katika', 'mabadiliko', 'hayo', ',', 'wanawake', 'wameonekana', 'kuchukua', 'nafasi', 'muhimu', 'ambapo', 'Monica', 'Juma', 'ambaye', 'awalikuwa', 'waziri', 'wa', 'mambo', 'ya', 'nje', 'amechukua', 'wadhifa', 'wa', 'waziri', 'wa', 'ulinzi', 'huku', 'Raychelle', 'Omamo', 'aliyekuwa', 'waziri', 'wa', 'ulinzi', 'akiwa', 'waziri', 'wa', 'mambo', 'ya', 'nje', '.', 'Ukur', 'Yatani', 'amedumisha', 'wadhifa', 'wake', 'wa', 'waziri', 'wa', 'fedha', ',', 'Mutahi', 'Kagwe', 'ambaye', 'aliwahi', 'kuhudumu', 'katika', 'serikali', 'ya', 'Kenyatta', 'amerejeshwa', 'tena', 'kama', 'waziri', 'wa', 'Afya', '.', 'Betty', 'Maina', 'ambaye', 'ametoka', 'sekta', 'ya', 'biashara', 'ameteuliwa', 'kuwa', 'waziri', 'wa', 'viwanda', 'na', 'Sicily', 'Kariuki', 'aliyekuwa', 'waziri', 'wa', 'afya', 'akiwa', 'waziri', 'wa', 'maji', '.', 'Esther', 'Koimett', 'waziri', 'wa', 'habari', 'na', 'mawasiliano', 'naye', 'Simon', 'Chelugui', 'ni', 'waziri', 'wa', 'Leba', '.', 'Peter', 'Munya', 'ndio', 'Waziri', 'wa', 'kilimo', 'huku', 'Mwangi', 'Kiunjuri', 'akipigwa', 'kalamu', 'na', 'wengineo', '.', 'Wakati', 'wa', 'hotuba', 'yake', 'Rais', 'amesema', 'kwamba', 'wanaweka', 'mipango', 'ya', 'kukwamua', 'uchumi', 'na', 'kuweka', 'wazi', 'kuwa', 'asilimia', '70', 'ya', 'madeni', 'yamelipwa', '.', 'Huwezi', 'kusikiliza', 'tena', 'Maelezo', 'ya', 'video', ',', 'Maisha', 'Pokot', 'Magharibi', 'baada', 'ya', 'maporomoko', 'ya', 'udongo', 'Pia', 'ameweka', 'kipau', 'mbele', 'katika', 'biashara', 'na', 'kusema', 'kuwa', 'juhudi', 'zinafanywa', 'kusaidia', 'biashara', 'ndogo', 'ndogo', '.', 'Pia', 'ametaka', 'nchi', 'kutoa', 'umuhimu', 'kwa', 'uchumi', 'badala', 'ya', 'siasa', '.', 'Aidha', ',', 'rais', 'amesema', 'kwamba', 'anaamini', 'hakuka', 'utawala', 'ambao', 'umekabiliana', 'na', 'ufisadi', 'kama', 'alivyofanyika', 'kwenye', 'utawala', 'wake', '.', \"''Kuanzia\", 'mawaziri', 'mpaka', 'magavana', ',', 'maafisa', 'wakuserikali', ',', 'maafisa', 'wa', 'ununuzi', ',', 'nimekuwa', 'mstari', 'wa', 'mbele', '.', 'Rais', 'Uhuru', 'ameonyesha', 'imani', 'kuwa', 'ufisadi', 'umeogopesha', 'wezi', 'wa', 'mali', 'ya', 'umma', 'na', 'kuacha', 'mpira', 'kwa', 'mfumo', 'wa', 'mahakama', 'akiitaka', 'iwajibike', 'kuhakikisha', 'kuwa', 'nchi', 'inashinda', 'vita', 'dhidi', 'ya', 'ufisadi', '.', 'Miongoni', 'mwa', 'aliyoyazungumzia', 'ni', 'utoaji', 'wa', 'fedha', 'za', 'ujenzi', 'wa', 'viwanda', 'viwili', 'vya', 'maziwa', '.']\n",
      "\n",
      " Number of Words:  299\n"
     ]
    }
   ],
   "source": [
    "file=\"20jan14.txt\"\n",
    "\n",
    "# calling the function and storing the contents in a text variable \n",
    "text = get_document(\"https://www.bbc.com/swahili/habari-51105706\")\n",
    "\n",
    "# calling the store_ document function \n",
    "store_document(doc=text,name=file)\n",
    "\n",
    "#add the words in this file to the total_corpus_words, to keep count of the number of words in the corpus\n",
    "total_corpus_words+=total_words(file)"
   ]
  },
  {
   "cell_type": "code",
   "execution_count": 148,
   "metadata": {},
   "outputs": [
    {
     "data": {
      "text/plain": [
       "186319"
      ]
     },
     "execution_count": 148,
     "metadata": {},
     "output_type": "execute_result"
    }
   ],
   "source": [
    "total_corpus_words"
   ]
  },
  {
   "cell_type": "code",
   "execution_count": 149,
   "metadata": {},
   "outputs": [
    {
     "name": "stdout",
     "output_type": "stream",
     "text": [
      "['Baada', 'ya', 'kutafakari', 'kwa', 'muda', 'anasema', 'alikumbuka', 'mwanamume', 'mmoja', 'ambaye', 'alishiriki', 'ngono', 'naye', 'mara', 'mmoja', 'tu', 'zamani', 'kabla', 'ya', 'kukutana', 'na', 'mpenzi', 'wake', 'wa', 'sasa', '.', 'Naomi', 'aliendelea', 'kusimulia', 'kwamba', 'aliambukizwa', 'ukimwi', 'mwaka', 'wa', '2010', 'lakini', 'alifahamu', 'hali', 'yake', 'mwaka', 'wa', '2012', 'kumaanisha', 'kuwa', 'alikutana', 'na', 'mpenzi', 'wake', 'ambaye', 'ni', 'baba', 'ya', 'mtoto', 'wake', 'akiwa', 'ameambukizwa', 'ila', 'hakufahamu', 'wakati', 'huo', '.', 'Unaweza', 'kutazama', 'mazungumzo', 'yake', 'na', 'BBC', 'Je', 'ilikuwaje', 'hadi', 'akaambukizwa', 'virusi', 'vya', 'ukimwi', '?', 'Naomi', 'anasema', 'kuwa', 'ndoto', 'yake', 'ya', 'kupata', 'mpenzi', 'ambaye', 'angemchumbia', 'hadi', 'amuoe', 'ilimshawishi', 'sana', ',', 'alipokutana', 'na', 'mwanamume', 'mmoja', 'mwaka', 'wa', '2010', '.', 'Kama', 'kawaida', 'ya', 'mahaba', 'anasema', 'kuwa', 'yalikuwa', 'moto', 'sana', 'na', 'katika', 'kipindi', 'cha', 'wiki', 'mmoja', 'hivi', 'mapenzi', 'yalikuwa', 'yamenoga', 'hadi', 'wakaamuwa', 'kuwa', 'wangeshiriki', 'ngono', '.', 'Pia', 'anasema', 'kuwa', 'mtu', 'huyo', 'alikuwa', 'amemuahidi', 'ndoa', 'na', 'mambo', 'mengine', 'mengi', '.', 'Baada', 'ya', 'wiki', 'mmoja', 'waliamua', 'siku', 'na', 'wakati', 'wa', 'kukutana', ',', 'anasema', 'kuwa', 'alitumai', 'kuwa', 'penzi', 'lake', 'na', 'mwanamume', 'huyo', 'lingenoga', 'na', 'hatimaye', 'wawe', 'mume', 'na', 'mke', '.', 'Walikutana', 'kama', 'walivyokuwa', 'wamepanga', ',', 'na', 'kushiriki', 'naye', 'mapenzi', 'kwa', 'usiku', 'huo', ',', 'baada', 'ya', 'hapo', 'hakumuona', 'tena', 'mwanamume', 'huyo', 'na', 'kila', 'mara', 'alipojaribu', 'kupiga', 'simu', ',', 'alikuwa', 'haipokei', 'na', 'wakati', 'mwingi', 'ilikuwa', 'imezimwa', '.', 'Maelezo', 'ya', 'picha', ',', 'Je', 'ilikuwaje', 'hadi', 'akaambukizwa', 'ukimwi', '?', '``', 'Nilisononeka', 'sana', 'kwa', 'kuwa', 'sikuweza', 'kumfikia', 'mwanamume', 'huyo', 'ambaye', 'nilikuwa', 'nimeanza', 'kumpenda', ',', 'ila', 'sikujua', 'kwake', ',', 'wala', 'sehemu', 'ya', 'kumtoa', 'wala', 'sikufahamu', 'jamaa', 'yeyote', 'kutoka', 'kwao', 'au', 'hata', 'rafiki', '``', 'alisema', 'Naomi', '.', 'Baada', 'ya', 'muda', 'Naomi', 'aliamua', 'kuendelea', 'mbele', 'na', 'maisha', 'na', 'hata', 'kuingia', 'kwa', 'uhusiano', 'mwingine', 'wa', 'kimapenzi', 'na', 'mwanamume', 'ambaye', 'sasa', 'ni', 'baba', 'ya', 'mtoto', 'wake', '.', 'Aliposhika', 'mimba', 'ndipo', 'matukio', 'ya', 'usiku', 'mmoja', 'tu', 'na', 'mwanamume', 'ambaye', 'hakumfahamu', 'vyema', 'yalianza', 'kumfuata', 'kwa', 'kuwa', 'alifahamishwa', 'kwamba', 'alikuwa', 'na', 'virusi', '.', 'Tangu', 'alipofahamu', 'hali', 'yake', ',', 'baba', 'ya', 'mtoto', 'wake', 'pia', 'alifutilia', 'mbali', 'uchumba', 'wao', 'lakini', 'akaahidi', 'kuwa', 'atamtunza', 'mtoto', 'akiwa', 'mbali', 'na', 'wao', '.', 'Naomi', 'alijuta', 'sana', 'lakini', 'na', 'kuamua', 'kuangazia', 'maisha', 'yake', 'kama', 'kielelezo', 'cha', 'jamii', ',', 'kwa', 'kujitokeza', 'kwa', 'umma', 'kusimulia', 'jinsi', 'chaguo', 'la', 'kuharakisha', 'penzi', 'lilivyomletea', 'ugonjwa', '.']\n",
      "\n",
      " Number of Words:  345\n"
     ]
    }
   ],
   "source": [
    "file=\"20jan15.txt\"\n",
    "\n",
    "# calling the function and storing the contents in a text variable \n",
    "text = get_document(\"https://www.bbc.com/swahili/habari-51104786\")\n",
    "\n",
    "# calling the store_ document function \n",
    "store_document(doc=text,name=file)\n",
    "\n",
    "#add the words in this file to the total_corpus_words, to keep count of the number of words in the corpus\n",
    "total_corpus_words+=total_words(file)"
   ]
  },
  {
   "cell_type": "code",
   "execution_count": 150,
   "metadata": {},
   "outputs": [
    {
     "data": {
      "text/plain": [
       "186664"
      ]
     },
     "execution_count": 150,
     "metadata": {},
     "output_type": "execute_result"
    }
   ],
   "source": [
    "total_corpus_words"
   ]
  },
  {
   "cell_type": "code",
   "execution_count": 151,
   "metadata": {},
   "outputs": [
    {
     "name": "stdout",
     "output_type": "stream",
     "text": [
      "['Lakini', 'kwanini', 'hakuna', 'aliyehukumiwa', 'Mkurugenzi', 'mkuu', 'wa', 'mashitaka', 'ya', 'umma', 'chini', 'Kenya', ',', 'Noordin', 'Haji', 'amesema', 'kuwa', 'serikali', 'ya', 'nchi', 'hiyo', 'imekusanya', 'mali', 'zenye', 'thamani', 'ya', 'dola', 'milioni', '20', 'zilizokua', 'zimekusanywa', 'kutoka', 'katika', 'kesi', 'mbalimbali', 'za', 'rushwa', '.', 'Hata', 'hivyo', 'hiyo', 'ni', 'asilimia', 'moja', 'tu', 'ya', 'pesa', 'za', 'umma', 'zinazokadiriwa', 'kuwa', 'na', 'thamani', 'ya', 'dola', 'bilioni', 'mbili', 'zikihusisha', 'kesi', 'za', 'watu', 'mashuhuri', '.', 'Katika', 'miaka', 'ya', 'hivi', 'karibuni', 'wanasiasa', 'wenye', 'vyeo', 'vya', 'juu', 'na', 'watumishi', 'wa', 'umma', 'wamekamatwa', 'na', 'kushitakiwa', 'kwa', 'rushwa', '.']\n",
      "\n",
      " Number of Words:  83\n"
     ]
    }
   ],
   "source": [
    "file=\"20jan16_1.txt\"\n",
    "\n",
    "# calling the function and storing the contents in a text variable \n",
    "text = get_document(\"https://www.bbc.com/swahili/habari-51136885\")\n",
    "\n",
    "# calling the store_ document function \n",
    "store_document(doc=text,name=file)\n",
    "\n",
    "#add the words in this file to the total_corpus_words, to keep count of the number of words in the corpus\n",
    "total_corpus_words+=total_words(file)"
   ]
  },
  {
   "cell_type": "code",
   "execution_count": 152,
   "metadata": {},
   "outputs": [
    {
     "data": {
      "text/plain": [
       "186747"
      ]
     },
     "execution_count": 152,
     "metadata": {},
     "output_type": "execute_result"
    }
   ],
   "source": [
    "total_corpus_words"
   ]
  },
  {
   "cell_type": "code",
   "execution_count": 153,
   "metadata": {},
   "outputs": [
    {
     "name": "stdout",
     "output_type": "stream",
     "text": [
      "['Katika', 'kipindi', 'cha', 'juma', 'moja', 'lililopita', ',', 'wanariadha', 'wawili', 'akiwemo', 'Alfred', 'Kipketer-', 'bingwa', 'wa', 'dunia', 'miongoni', 'mwa', 'wanariadha', 'wachanga', 'wasiozidi', 'umri', 'wa', 'miaka', '20', 'anayekimbia', 'mbio', 'za', 'mita', '800', 'wamesimamishwa', 'kwa', 'kukiuka', 'sheria', 'za', 'kukabiliana', 'na', 'dawa', 'hizo', '.']\n",
      "\n",
      " Number of Words:  39\n"
     ]
    }
   ],
   "source": [
    "file=\"20jan16_2.txt\"\n",
    "\n",
    "# calling the function and storing the contents in a text variable \n",
    "text = get_document(\"https://www.bbc.com/swahili/michezo-51140757\")\n",
    "\n",
    "# calling the store_ document function \n",
    "store_document(doc=text,name=file)\n",
    "\n",
    "#add the words in this file to the total_corpus_words, to keep count of the number of words in the corpus\n",
    "total_corpus_words+=total_words(file)"
   ]
  },
  {
   "cell_type": "code",
   "execution_count": 154,
   "metadata": {},
   "outputs": [
    {
     "data": {
      "text/plain": [
       "186786"
      ]
     },
     "execution_count": 154,
     "metadata": {},
     "output_type": "execute_result"
    }
   ],
   "source": [
    "total_corpus_words"
   ]
  },
  {
   "cell_type": "code",
   "execution_count": 155,
   "metadata": {},
   "outputs": [
    {
     "name": "stdout",
     "output_type": "stream",
     "text": [
      "['Mbunge', 'Babu', 'Owino', 'kuendelea', 'kusalia', 'rumande', 'Kiongozi', 'wa', 'upinzani', 'Paul', 'Ongili', 'maarufu', 'kama', 'Babu', 'Owino', 'ameshtakiwa', 'kwa', 'makosa', 'ya', 'jaribio', 'la', 'kuua', 'kwa', 'kukusudia', 'mjini', 'Nairobi', '.', 'Hakimu', 'mkuu', 'Francis', 'Andayi', ',', 'ameagiza', 'mbunge', 'huyo', 'Babu', 'Owino', 'asalie', 'kizuizini', 'kwa', 'siku', 'saba', 'zaidi', 'hadi', 'kesi', 'ya', 'ombi', 'la', 'kutaka', 'kuachiliwa', 'kwa', 'dhamana', 'itakaposikilizwa', '.', 'Kilichojiri', 'Mbunge', 'Owino', 'amelala', 'korokoroni', 'wikendi', 'iliyopita', ',', 'na', 'hii', 'leo', 'Jumatatu', ',', 'amefikishwa', 'katika', 'mahakama', 'ya', 'milimani', 'na', 'kukanusha', 'mashtaka', 'ya', 'jaribio', 'la', 'kuua', 'kim', 'aksidi', '.', 'Mbunge', 'huyo', 'kijana', 'mwenye', 'ushawishi', ',', 'alikamawa', 'na', 'polisi', 'baada', 'ya', 'madai', 'ya', 'kumpiga', 'risasi', 'deejay', 'mmoja', 'katika', 'B', 'Klabu', 'mtaani', 'kilimani', 'Nairobi', 'usiku', 'wa', 'manane', 'Ijumaa', 'iliyopita', '.', 'Deejay', 'anaendelea', 'kupata', 'matibabu', 'katika', 'hospitali', 'moja', 'mjini', 'Nairobi', 'baada', 'ya', 'kufanyiwa', 'upasuaji', 'wa', 'kuondolea', 'risasi', 'iliyokuwa', 'amepigwa', 'shingoni', 'mwake', '.', 'Hata', 'hivyo', ',', 'babu', 'Owino', 'amekanusha', 'mashtaka', 'hayo', 'huku', 'jaji', 'Francis', 'Andayi', 'akisema', 'kwamba', ',', 'ataendelea', 'kuzuiliwa', 'akidai', 'kuwa', 'mbunge', 'huyo', 'ana', 'uwezo', 'wa', 'kuwashurutisha', 'au', 'kutatiza', 'mashahidi', 'katika', 'kesi', 'hiyo', '.', 'Iwapo', 'atapatikana', 'na', 'hatia', ',', 'mbunge', 'huyo', 'anakabiliwa', 'na', 'kifungo', 'cha', 'maisha', 'gerezani', '.', 'Kesi', 'hiyo', 'imekuwa', 'ikifuatiliwa', 'na', 'wengi', 'katika', 'mitandao', 'ya', 'kijamii', 'nchini', 'kenya', 'ambo', 'wanakiu', 'ya', 'kutaka', 'kujua', 'hatma', 'ya', 'kesi', 'hiyo', '.', 'Kesi', 'ya', 'Babu', 'owino', 'inawadia', 'wakati', 'ambao', 'polisi', 'imetangaza', 'kwamba', 'haitatoa', 'tena', 'ulinzi', 'kwa', 'viongozi', 'wa', 'serikali', 'ambao', 'wanakabiliwa', 'na', 'kesi', 'za', 'uhalifu', 'hadi', 'watakapofutiwa', 'mashtaka', 'yao', 'na', 'mahakama', '.', 'Aidha', ',', 'viongozi', 'kama', 'hao', 'ambao', 'wanamiliki', 'silaha', 'leseni', 'zao', 'zitafutwa', 'na', 'silaha', 'zao', 'kuchukuliwa', '.']\n",
      "\n",
      " Number of Words:  246\n"
     ]
    }
   ],
   "source": [
    "file=\"20jan20.txt\"\n",
    "\n",
    "# calling the function and storing the contents in a text variable \n",
    "text = get_document(\"https://www.bbc.com/swahili/habari-51174606\")\n",
    "\n",
    "# calling the store_ document function \n",
    "store_document(doc=text,name=file)\n",
    "\n",
    "#add the words in this file to the total_corpus_words, to keep count of the number of words in the corpus\n",
    "total_corpus_words+=total_words(file)"
   ]
  },
  {
   "cell_type": "code",
   "execution_count": 156,
   "metadata": {},
   "outputs": [
    {
     "data": {
      "text/plain": [
       "187032"
      ]
     },
     "execution_count": 156,
     "metadata": {},
     "output_type": "execute_result"
    }
   ],
   "source": [
    "total_corpus_words"
   ]
  },
  {
   "cell_type": "code",
   "execution_count": 157,
   "metadata": {},
   "outputs": [
    {
     "name": "stdout",
     "output_type": "stream",
     "text": [
      "['Ndevu', 'zafanya', 'maisha', 'yake', 'kuwa', 'tofauti', 'na', 'wanawake', 'wengine', 'Theresia', 'Mumbi', 'ni', 'mama', 'wa', 'mtoto', 'wa', 'kiume', 'mwenye', 'miaka', '7', ',', 'yeye', 'ana', 'miaka', '34', ',', 'kazi', 'yake', 'ni', 'utingo', 'wa', 'magari', 'ya', 'uchukuzi', 'katika', 'mji', 'mkuu', 'wa', 'Nairobi', 'nchini', 'Kenya', '.', 'Lakini', 'maisha', 'yake', 'huwezi', 'kusema', 'ni', 'ya', 'kawaida', 'kama', 'ya', 'mwanamke', 'mwingine', ',', 'kutokana', 'na', 'kuwa', 'na', 'ndevu', 'nyingi', 'kama', 'mwanaume', '.', 'Ilikuwaje', 'akawa', 'na', 'ndevu', '?', '``', 'Nilipokuwa', 'shuleni', 'nilikuwa', 'na', 'nywele', 'nyingi', ',', 'kwangu', 'mimi', 'niliona', 'kwamba', 'ni', 'jambo', 'la', 'kawaida', ',', 'hivyo', 'hazikunisumua', 'sana', '``', 'Mumbi', 'alisema', 'Alipomaliza', 'shule', 'ya', 'sekondari', 'na', 'kuanza', 'kutafuta', 'ajira', ',', 'Mwaka', '2005', 'aligundua', 'kwamba', 'nywele', 'zake', 'zilikuwa', 'zinakuwa', 'kwa', 'kasi', 'mno', ',', 'hivyo', 'aliamua', 'kuanza', 'kuzinyoa', ',', 'lakini', 'kumbe', 'ndio', 'aliharibu', 'na', 'kuzifanya', 'ndevu', 'hizo', 'kukua', 'zaidi', '.', 'Theresia', 'anasema', 'kuwa', 'aliogopa', 'sana', 'maisha', 'yake', 'yatakuwaje', '?', '``', 'Niliona', 'kuwa', 'ni', 'kazi', 'ngumu', 'ya', 'kuficha', 'hali', 'hii', 'ya', 'kunyoa', 'ndevu', 'kila', 'wakati', ',', 'kwani', 'nilikuwa', 'nazinyoa', 'kila', 'saa', ',', 'na', 'nikaanza', 'kuchoka', 'nikaamua', 'kuwa', 'sitazinyoa', 'tena', \"''\", 'alisimulia', 'Mumbi', '.', 'Wakati', 'alipokuwa', 'na', 'desturi', 'ya', 'kunyoa', 'hakuwa', 'na', 'changamoto', 'zozote', 'kwani', 'alifanana', 'kama', 'wanawake', 'wengine', 'wa', 'kawaida', '.', 'Pale', 'alipoacha', 'kunyoa', ',', 'masaibu', 'mapya', 'yalianza', ',', 'kwani', 'alikuwa', 'ana', 'muonekano', 'mwingine', ',', 'alianza', 'kuandamwa', 'na', 'watu', 'kwa', 'kumwangalia', 'kwa', 'kumshangaa', 'na', 'kumnyooshea', 'kidole', ',', 'huku', 'wakimpa', 'majina', 'ya', 'kejeli', '.', 'Wakati', 'huo', 'alikuwa', 'anafanya', 'kazi', 'kama', 'mhudumu', 'katika', 'hoteli', 'moja', 'mjini', ',', 'ilikuwa', 'rahisi', 'kwake', 'kwani', 'wale', 'wateja', 'wake', 'walikuwa', 'wamezoea', 'muonekano', 'wake', 'wa', 'ndevu', ',', 'ila', 'matatizo', 'yalikuwa', 'wakati', 'alipokuwa', 'nje', 'ya', 'eneo', 'lake', 'la', 'kazi', '.', 'Kisa', 'kimoja', 'ambacho', 'Mumbi', 'hatawahi', 'kukisahau', 'ni', 'wakati', 'alipokamatwa', 'na', 'maofisa', 'wa', 'polisi', 'akiwa', 'kazini', '.', 'Siku', 'hiyo', 'anasema', 'kuwa', 'ilikuwa', 'tofauti', 'kwani', 'anadai', 'kuwa', 'maofisa', 'waliwataka', 'kila', 'mtu', 'atoe', 'shilingi', 'mia', 'nne', 'za', 'Kenya', 'au', 'apelekwe', 'rumande', ',', 'Mumbi', 'anasema', 'kuwa', 'hakuwa', 'na', 'hela', 'hizo', '.', 'Kwa', 'hiyo', 'yeye', 'na', 'baadhi', 'ya', 'wahudumu', 'wa', 'magari', 'ya', 'matatu', '(', 'daladala', ')', 'waliwasilishwa', 'katika', 'kituo', 'cha', 'polisi', ',', 'walipofika', 'huko', 'yeye', 'aliwekwa', 'katika', 'sehemu', 'ya', 'wanawake', ',', 'baada', 'ya', 'muda', 'ofisa', 'mmoja', 'wa', 'kike', 'aliingia', 'kwenye', 'gereza', 'aliyokuwa', 'Mumbi', 'na', 'kumuamrisha', 'atoe', 'nguo', 'zake', ',', 'alipomuuliza', 'kwa', 'nini', '?', 'alimjibu', ':', '``', 'Hatuna', 'uhakika', 'kuhusu', 'Jinsia', 'yako', 'na', 'tunahofia', 'kuwa', 'wewe', 'ni', 'mwanaume', ',', 'kwa', 'hivyo', 'tunataka', 'kukukagua', 'ili', 'tuthibitishe', '``', 'Mumbi', 'alisema', 'Mumbi', 'anasema', 'tukio', 'hilo', 'lilimuhuzunisha', 'sana', 'kwani', 'polisi', 'hao', 'walimdhalalisha', 'kwa', 'kuwa', 'alikuwa', 'na', 'ndevu', '.', 'Mumbi', 'anasema', 'kuwa', 'kitendo', 'kile', 'kilimfanya', 'alijiuliza', 'maswali', 'mengi', 'sana', 'na', 'pia', 'kumuuliza', 'Mwenyezi', 'Mungu', 'maswali', 'ya', 'kwanini', 'alimuumba', 'akiwa', 'hivyo', '?', 'Alijiuliza', 'na', 'kuhisi', 'ikiwa', 'polisi', 'walimfanyia', 'hayo', ',', 'je', 'raia', 'nao', 'wangemfanyia', 'nini', 'kutokana', 'na', 'hali', 'yake', '?', 'anasema', 'kuwa', 'hakuweza', 'kupigania', 'haki', 'yake', 'licha', 'ya', 'kudhalilishwa', 'na', 'polisi', '?', 'Haikuwa', 'rahisi', 'kwani', 'wakati', 'mmoja', 'alihisi', 'kujitoa', 'uhai', 'wake', ',', 'lakini', 'mmojawapo', 'wa', 'sababu', 'za', 'kwanini', 'hajaweza', 'kuafikia', 'hayo', 'na', 'kuziondoa', 'fikra', 'hizo', 'ni', 'kutokana', 'na', 'mwanae', ',', 'ambaye', 'yeye', 'amemkubali', 'jinsi', 'alivyo', 'na', 'amempa', 'nguvu', 'ya', 'kuishi', 'maisha', 'yake', 'kama', 'wengine', '.', 'Je', 'ni', 'kawaida', 'kwa', 'wanawake', 'kuwa', 'na', 'Ndevu', '?', 'Kwa', 'mujibu', 'wa', 'wataalam', 'wa', 'afya', 'ya', 'uzazi', ',', 'wanawake', 'ambao', 'upata', 'ndevu', 'wanatambulika', 'kwa', 'lugha', 'ya', 'kisayansi', 'kama', \"'hirsutism\", \"'\", ',', 'au', ',', \"'hypertrichosis\", \"'\", '.', 'Vile', 'vile', 'watalamu', 'wanasema', 'kuwa', 'wanawake', 'wengine', 'huenda', 'wakawa', 'na', 'ongezeko', 'la', 'homoni', 'ambayo', 'inapatikana', 'kwa', 'wanaume', 'inayojulikana', 'kama', \"'Androgen\", \"'\", 'kupita', 'kiasi', ',', 'hadi', 'sasa', 'hakuna', 'tiba', 'ya', 'kuzuia', 'wanawake', 'kupata', 'ndevu', '.', 'Je', 'kuna', 'wanawake', 'wengine', 'duniani', 'wenye', 'changamoto', 'hizi', '?', 'Mmoja', 'wapo', 'ya', 'watu', 'maarufu', 'duniani', 'ambao', 'waliibuka', 'na', 'kuzungumzia', 'hali', 'yao', 'ya', 'kuwa', 'na', 'ndevu', 'ni', 'mwanamke', 'kwa', 'jina', 'Harnaam', 'Kaur', 'kutoka', 'Uingereza', ',', 'mwenye', 'asili', 'ya', 'bara', 'Asia', '.', 'Yeye', 'ni', 'mwana', 'mitindo', 'na', 'pia', 'ni', 'mwanaharakati', 'ambaye', 'anatetea', 'wanawake', 'wenye', 'maumbile', 'tofauti', ',', 'alitajwa', 'kwenye', 'kitabu', 'cha', 'kumbukumbu', 'za', 'historia', 'cha', \"'Guiness\", 'world', 'records', \"'\", 'kama', 'miongoni', 'mwa', 'wanawake', 'watano', 'ambao', 'ni', 'mashuhuri', 'katika', 'kazi', 'zao', '.', 'Kabla', 'hajajikubali', 'Bi', 'Kaur', 'alikuwa', 'amejaribu', 'kuondoa', 'ndevu', 'zake', 'bila', 'mafanikio', ',', 'kwa', 'kuwa', 'alikuwa', 'anakabiliana', 'na', 'kejeli', 'na', 'hujuma', 'nyingi', 'kutoka', 'kwa', 'umma', ',', 'ila', 'sasa', 'ametambulika', 'kama', 'mtetezi', 'wa', 'wanawake', 'ambao', 'wana', 'ndevu', 'duniani', '.', 'Katika', 'nchi', 'za', 'Bara', 'Afrika', 'baashi', 'ya', 'wanawake', 'kutoka', 'nchi', 'za', 'Malawi', 'Afrika', 'Kusini', ',', 'Jamhuri', 'ya', 'Kidemokrasia', 'ya', 'Congo', 'na', 'Nigeria', 'inasadikiwa', 'kwamba', 'kuwa', 'na', 'ndevu', 'ni', 'ishara', 'ya', 'kuwa', 'na', 'kizazi', 'chema', '.']\n",
      "\n",
      " Number of Words:  713\n"
     ]
    }
   ],
   "source": [
    "file=\"20jan22_1.txt\"\n",
    "\n",
    "# calling the function and storing the contents in a text variable \n",
    "text = get_document(\"https://www.bbc.com/swahili/51192422\")\n",
    "\n",
    "# calling the store_ document function \n",
    "store_document(doc=text,name=file)\n",
    "\n",
    "#add the words in this file to the total_corpus_words, to keep count of the number of words in the corpus\n",
    "total_corpus_words+=total_words(file)"
   ]
  },
  {
   "cell_type": "code",
   "execution_count": 158,
   "metadata": {},
   "outputs": [
    {
     "data": {
      "text/plain": [
       "187745"
      ]
     },
     "execution_count": 158,
     "metadata": {},
     "output_type": "execute_result"
    }
   ],
   "source": [
    "total_corpus_words"
   ]
  },
  {
   "cell_type": "code",
   "execution_count": 159,
   "metadata": {},
   "outputs": [
    {
     "name": "stdout",
     "output_type": "stream",
     "text": [
      "['Wafanyakazi', 'wa', 'umma', 'waingiwa', 'na', 'hofu', 'baada', 'ya', 'shambulio', 'la', 'Al', 'Shabaab', 'Lucy', 'Wanjiru', '(', 'kushoto', ')', 'aliyenusurika', 'shambulio', 'la', 'shule', 'ya', 'msingi', 'ya', 'Kamuthe', ',', 'Garissa', 'akimbeba', 'mtoto', 'aliyekuwa', 'naye', 'usiku', 'ule', 'Idadi', 'kubwa', 'ya', 'walimu', 'katika', 'kaunti', 'ya', 'Garissa', 'nchini', 'Kenya', 'wametishia', 'kuhama', 'eneo', 'hilo', 'wakihofia', 'usalama', 'wao', 'kwasababu', 'ya', 'mashambulizi', 'zaidi', 'ambayo', 'yamekuwa', 'yakitekelezwa', 'na', 'kundi', 'la', 'AlShabaab', '.', 'Wapiganaji', 'wa', 'Al', 'Shabaab', 'wameshambulia', 'Kenya', 'mara', 'sita', 'tangu', 'mwishoni', 'mwa', 'mwezi', 'Desemba', 'hadi', 'sasa', 'na', 'zaidi', 'ya', 'watu', '25', 'wameuawa', '.', 'Miongoni', 'mwa', 'waliouawa', 'katika', 'mashambulio', 'ya', 'hivi', 'karibuni', 'katika', 'eneo', 'la', 'Garissa', 'ni', 'walimu', '3', 'na', 'wanafunzi', '3', ',', 'huku', 'serikali', 'ikisisitiza', 'kuwa', 'imeimarisha', 'usalama', '.', 'Miongoni', 'mwa', 'walimu', 'ambao', 'wamezungumza', 'na', 'BBC', 'ni', 'Lucy', 'Wanjiru', '.', 'Lucy', 'anajiona', 'mwenye', 'bahati', 'kuwa', 'hai', 'pamoja', 'na', 'mtoto', 'wake', 'mwenye', 'umri', 'wa', 'miaka', 'miwili', '.', 'Yeye', 'ni', 'miongoni', 'mwa', 'wachache', 'waliowahi', 'kuvamiwa', 'na', 'wapiganaji', 'wa', 'Alshabaab', 'na', 'kuishi', 'kutoa', 'ushuhuda', '.', 'Lucy', 'ana', 'kumbukumbu', 'ya', 'usiku', 'wa', 'manane', 'mwezi', 'huu', 'wa', 'Januari', 'alipoamshwa', 'na', 'sauti', 'za', 'milio', 'ya', 'risasi', '.', 'Alijificha', 'chini', 'ya', 'kitanda', 'huku', 'mwanae', 'mwenye', 'umri', 'wa', 'miaka', 'miwili', 'akimkumbatia', '.', 'Alinusurika', 'kifo', 'akiwa', 'na', 'walimu', 'wenzake', 'wawili', 'wa', 'kike', 'huku', 'wenzao', 'watatu', 'wa', 'kiume', 'wakiuawa', '.', \"''Wakati\", 'wanakijiji', 'walipokuja', 'walituambia', 'kwamba', 'baadhi', 'ya', 'walimu', 'wenzako', 'wamekufa', '.', 'Tulikuwa', 'tunalia', ',', 'kisha', 'wakaanza', 'kutuuliza', ',', 'kwanini', 'munalia', ',', 'Mungu', 'amewaokoa', '.', 'Munastahili', 'kwa', 'na', 'furaha', '.', 'Lakini', 'kwasababu', 'ya', 'mfadhaiko', '...', \"''amesema\", 'Lucy', 'Wanjiru', 'huku', 'akiwa', 'anabubujikwa', 'na', 'machozi', '.', 'Nisingependa', 'kuwa', 'sehemu', 'hiyo', 'tena', '.', 'Nimepata', 'msongo', 'wa', 'mawazo', ',', 'wenzetu', 'wameuawa', ',', 'siwezi', 'kurejea', 'katika', 'taasisi', 'niliyokuwa', 'na', 'kuendesha', 'shughuli', 'zangu', 'katika', 'chumba', 'ambacho', 'nilikuwa', 'na', 'walimu', 'wenzangu', 'ambao', 'kwa', 'sasa', 'wamekufa', ',', 'Wanjiru', 'ameongeza', '.', 'Shule', 'ya', 'msingi', 'ya', 'Kamuthe', 'ilivamiwa', '.', 'Hali', 'ya', 'huzuni', 'ikatanda', 'shuleni', 'humo', 'polisi', 'walipowasili', 'kuchukua', 'miili', 'ya', 'wafu', '.', 'Shule', 'ya', 'Kamuthe', 'ilidhaniwa', 'kuwa', 'salama', '.', 'Iko', 'umbali', 'ya', 'kilomita', '200', 'kutoka', 'mpaka', 'wa', 'Somalia', 'na', 'kuna', 'kituo', 'cha', 'polisi', '.', 'Hata', 'hivyo', 'wanamgambo', 'wa', 'Alshaabab', 'walivamia', 'shule', 'hiyo', 'na', 'kuchoma', 'kituo', 'hicho', 'cha', 'polisi', '.', 'Wasiwasi', 'miongoni', 'mwa', 'wafanyakazi', 'wa', 'umma', 'Maelezo', 'ya', 'picha', ',', 'Walimu', 'wameanza', 'kupokea', 'barua', 'za', 'uhamisho', 'Ni', 'jambo', 'la', 'kawaida', 'kwa', 'shambulio', 'kama', 'hilo', 'kuibua', 'wasiwasi', 'miongoni', 'mwa', 'wafanyakazi', 'wa', 'Umma', 'katika', 'eneo', 'hilo', '.', 'Waalimu', 'kutoka', 'maeneo', 'mbalimbali', 'ya', 'Garissa', 'wamekua', 'wakimiminika', 'katika', 'ofisi', 'ya', 'tume', 'ya', 'huduma', 'kwa', 'walimu', 'nchini', 'Kenya', '(', 'TSC', ')', 'kuomba', 'kuhamishwa', 'huku', 'baadhi', 'wakiwa', 'tayari', 'wamefungasha', 'virago', '.', 'Wengi', 'wameomba', 'kupelekwa', 'katika', 'maeneo', 'mengine', 'ya', 'nchi', '.', 'Hata', 'hivyo', 'tume', 'hiyo', 'inawahamisha', 'walimu', 'hao', 'katika', 'shule', 'zingine', 'ndani', 'ya', 'Garissa', '.', 'Maelezo', 'ya', 'picha', ',', 'Andrew', 'Mwanthi', ',', 'mkuu', 'wa', 'eneo', 'wa', 'Tume', 'ya', 'Huduma', 'kwa', 'walimu', 'Kenya', '(', 'TSC', ')', '``', 'Tayari', 'tuna', 'upungufu', 'mkubwa', 'wa', 'waalimu', 'hususan', 'katika', 'kaunti', 'hii', '.', 'Kwahiyo', ',', 'iwapo', 'waalimu', 'hawa', 'wataondoka', 'katika', 'kaunti', 'hii', ',', 'tutakuwa', 'tunatafuta', 'kuwa', 'na', 'janga', 'la', 'kitaifa', 'haswa', ',', \"''Andrew\", 'Mwanthi', ',', 'Mkurugenzi', 'wa', 'tume', 'ya', 'kuajiri', 'walimu', 'eneo', 'la', 'Garissa', '.', 'Kila', 'aina', 'ya', 'maafisa', 'wako', 'katika', 'eneo', 'hilo', 'kwa', 'sababu', 'za', 'kiusalama', '.', 'Na', 'huenda', 'hofu', 'hiyo', 'ikaongezeka', 'baada', 'ya', 'walimu', 'kushambuliwa', '.', 'Hata', 'hivyo', ',', 'kila', 'kinachostahili', 'kufanyika', 'ni', 'kujaribu', 'kujiweka', 'katika', 'hali', 'zao', '.', 'Tayari', 'kuna', 'mpango', 'wa', 'kuanzisha', 'huduma', 'za', 'utoaji', 'ushauri', 'kwa', 'ajili', 'ya', 'walimu', 'walioathirika', '.', 'Pengine', 'sio', 'wengi', 'watakaokubaliana', 'na', 'kauli', 'hiyo', 'lakini', 'serikali', 'inakabiliwa', 'na', 'kibarua', 'kigumu', '.', 'Zaidi', 'ya', 'nusu', 'ya', 'idadi', 'ya', 'wafanyakazi', 'wa', 'umma', 'kama', 'walimu', ',', 'madaktari', ',', 'na', 'wauguzi', 'kutoka', 'sehemu', 'zingine', 'za', 'nchi', '.', 'Lakini', 'hawa', 'ni', 'watu', 'ambao', 'wanahisi', 'kwamba', 'wanalengwa', 'na', 'kundi', 'la', 'Al', 'Shabaab', 'na', 'hivyo', 'basi', 'linataka', 'kuondoka', 'sehemu', 'hiyo', '.', 'Hatua', 'iliyochukuliwa', 'na', 'serikali', 'Serikali', 'imetuma', 'vikosi', 'vya', 'wanajeshi', 'kupambana', 'na', 'Alshabaab', 'katika', 'maeneo', 'yanayopakana', 'na', 'Somalia', '.', 'Lakini', 'watu', '26', 'wameuawa', 'tangu', 'mwishoni', 'mwa', 'Desemba', 'hadi', 'sasa', '.', 'Wakenya', 'wengi', 'wanaoishi', 'na', 'kufanya', 'kazi', 'katika', 'kaunti', 'zinazopakana', 'na', 'Somalia', 'wameingiwa', 'na', 'wasiwasi', 'na', 'kuhoji', 'ikiwa', 'wako', 'salama', '.', 'Vita', 'dhidi', 'ya', 'ugaidi', 'vinabadilika', 'na', 'kundi', 'la', 'Al', 'Shabaab', 'limefanikiwa', 'kulaghai', 'watu', 'na', 'kufanya', 'kile', 'wanachoweza', 'nchini', 'kenya', '.', 'Garissa', 'kama', 'kaunti', 'ni', 'pana', 'ikiwa', 'na', 'ukubwa', 'wa', 'karibia', 'kilomita', '46,000', 'za', 'mraba', 'na', 'ingawa', 'kuna', 'maafisa', 'wengi', 'wa', 'usalama', ',', 'bado', 'mashambulio', 'kama', 'haya', 'yamekuwa', 'yakitokea', 'katika', 'kaunti', 'hiyo', '.', \"''Garissa\", 'kama', 'kaunti', ',', 'tayari', 'tumeweka', 'mipango', 'ya', 'kukabiliana', 'na', 'misimamo', 'mikali', '.', 'Ili', 'kushinda', 'vita', 'dhidi', 'ya', 'ugaidi', ',', 'kunahitajika', 'juhudi', 'za', 'kila', 'mmoja', 'katika', 'jamii', ',', 'watu', 'wa', 'eneo', 'na', 'maafisa', 'wa', 'usalama', \"''\", ',', 'amesema', 'Samuel', 'Njuguna', 'ndiye', 'Naibu', 'wa', 'kamishna', ',', 'Kaunti', 'ya', 'Garissa', '.', 'Kwa', 'kiwango', 'kikubwa', 'Kenya', 'ni', 'nchi', 'salama', 'lakini', 'mashambulio', 'ya', 'kila', 'mara', 'yanayotekelezwa', 'na', 'wapiganaji', 'wa', 'Alshabaab', 'yanaendelea', 'kusababisha', 'hofu', '.']\n",
      "\n",
      " Number of Words:  770\n"
     ]
    }
   ],
   "source": [
    "file=\"20jan22_2.txt\"\n",
    "\n",
    "# calling the function and storing the contents in a text variable \n",
    "text = get_document(\"https://www.bbc.com/swahili/habari-51206467\")\n",
    "\n",
    "# calling the store_ document function \n",
    "store_document(doc=text,name=file)\n",
    "\n",
    "#add the words in this file to the total_corpus_words, to keep count of the number of words in the corpus\n",
    "total_corpus_words+=total_words(file)"
   ]
  },
  {
   "cell_type": "code",
   "execution_count": 160,
   "metadata": {},
   "outputs": [
    {
     "data": {
      "text/plain": [
       "188515"
      ]
     },
     "execution_count": 160,
     "metadata": {},
     "output_type": "execute_result"
    }
   ],
   "source": [
    "total_corpus_words"
   ]
  },
  {
   "cell_type": "code",
   "execution_count": 161,
   "metadata": {},
   "outputs": [
    {
     "name": "stdout",
     "output_type": "stream",
     "text": [
      "['Wanajeshi', 'wa', 'Kenya', 'wadaiwa', \"'kutoroka\", \"'\", 'shambulio', 'la', 'al-Shabab', 'Lamu', 'Majeshi', 'ya', 'Kenya', 'yamepinga', 'vikali', 'madai', 'yaliochapishwa', 'katika', 'gazeti', 'la', 'New', 'York', 'Times', 'kwamba', 'maafisa', 'wake', '``', 'walijificha', 'kwenye', 'nyasi', \"''\", 'wakati', 'wanamgambo', 'wa', 'kiislam', 'wa', 'al-Shabab', 'waliposhambulia', 'kambi', 'ya', 'kijeshi', 'ya', 'Manda', 'Bay', '.', 'Wanajeshi', 'watatu', 'wa', 'Marekani', 'waliuawa', 'nkatika', 'shambulio', 'la', 'Januari', '5', '.', 'Kambi', 'inayofahamika', 'kama', ',', 'Camp', 'Simba', ',', 'ipo', 'katika', 'eneo', 'la', 'Hindi', 'Magogoni', 'pembezoni', 'mwa', 'kisiwa', 'hicho', 'cha', 'kitalii', 'Lamu', 'hutumiwa', 'na', 'vikosi', 'vya', 'Kenya', 'na', 'Marekani', '.', 'Taarifa', 'ya', 'New', 'York', 'Times', 'ilidai', 'kuwa', 'utenda', 'kazi', 'wa', 'wanajeshi', 'wa', 'Kenya', 'uliwatia', 'hofu', 'wenzao', 'wa', 'Marekani', '.', 'Pia', 'ilisema', 'kuwa', 'wanamgambo', 'wa', 'Al-Shabab', 'walinufaika', 'na', 'taarifa', 'waliyopewa', 'na', 'Wakenya', 'waliokuwa', 'katika', 'kambi', 'hiyo', '.', 'Lakini', 'msemaji', 'wa', 'majeshi', 'ya', 'Kenya', 'kanali', 'Paul', 'Njuguna', 'ameiambia', 'BBC', 'kuwa', 'taarifa', 'hiyo', 'haikuegemea', 'msingi', 'wawote', 'wa', 'kweli', '.', 'Aliongeza', 'kuwa', 'maelezo', 'kuhusu', 'shambulio', 'hilo', 'yatakjulikana', 'pale', 'bodi', 'iliyopewa', 'jukumu', 'la', 'kufanya', 'uchunguzi', 'kuhusu', 'shambulio', 'hilo', 'itakapotoa', 'ripoti', 'yake', '.', '``', 'Taarifa', 'hiyo', 'haina', 'msingi', 'wowote', '.', 'Uchunguzi', 'unaendelea', 'kwa', 'mujibu', 'wa', 'wachunguzi', ',', 'sio', 'rasmi', ',', \"''\", 'alisema', 'kanali', 'Njuguna', '.', 'Gazeti', 'la', 'Kenya', 'la', 'Daily', 'Nation', 'pia', 'limemnukuu', 'afisa', 'wa', 'jeshu', 'wa', 'ngazi', 'ya', 'juu', 'wa', 'jeshi', 'ambaye', 'hakutajwa', 'ambaye', 'alisema', ';', '``', 'Kambi', 'ya', 'Simba', 'ni', 'kituo', 'cha', 'kijeshi', 'kinachotumiwa', 'na', 'Marekani', 'kuendesha', 'oparesheni', 'ya', 'kiusalama', '.', 'Kinasimamiwa', 'na', 'kupewa', 'ulinzi', 'na', 'Wamarekani', '.', \"''\", 'Vyanzo', 'hivyo', 'pia', 'viongeza', 'kuwa', ':', '``', 'Kilichofanyika', 'katika', 'kambi', 'hiyo', 'mpaka', 'sasa', 'hakijafichuliwa', 'hadi', 'wa', 'leo', ',', 'Marekani', 'haijatoa', 'taarifa', 'kamili', 'ni', 'wanajeshi', 'wangapi', 'walikuwa', 'katika', 'kambi', 'hiyo', 'wakati', 'wa', 'shambulio', 'hilo', '``', 'Ni', 'wao', 'ndio', 'wanaondesha', 'mabo', 'katika', 'kambi', 'hiyo', '.', \"''\"]\n",
      "\n",
      " Number of Words:  273\n"
     ]
    }
   ],
   "source": [
    "file=\"20jan23.txt\"\n",
    "\n",
    "# calling the function and storing the contents in a text variable \n",
    "text = get_document(\"https://www.bbc.com/swahili/habari-51219307\")\n",
    "\n",
    "# calling the store_ document function \n",
    "store_document(doc=text,name=file)\n",
    "\n",
    "#add the words in this file to the total_corpus_words, to keep count of the number of words in the corpus\n",
    "total_corpus_words+=total_words(file)"
   ]
  },
  {
   "cell_type": "code",
   "execution_count": 162,
   "metadata": {},
   "outputs": [
    {
     "data": {
      "text/plain": [
       "188788"
      ]
     },
     "execution_count": 162,
     "metadata": {},
     "output_type": "execute_result"
    }
   ],
   "source": [
    "total_corpus_words"
   ]
  },
  {
   "cell_type": "code",
   "execution_count": 163,
   "metadata": {},
   "outputs": [
    {
     "name": "stdout",
     "output_type": "stream",
     "text": [
      "['Eliud', 'Kipchoge', ':', 'Hayakuwa', 'mashindano', 'bali', 'nilikuwa', 'natuma', 'ujumbe', 'Bingwa', 'wa', 'Olimpiki', 'mbio', 'za', 'marathon', 'Eliud', 'Kipchoge', 'Ijumaa', 'wiki', 'hii', 'ametangazwa', 'mwanamichezo', 'bora', 'katika', 'hafla', 'ya', 'kufana', 'iliyofanyika', 'katika', 'uwanja', 'wa', 'Mombasa', 'Sports', 'Club', '.', 'Kipchoge', 'pia', 'alichaguliwa', 'kuwa', 'mwanamichezo', 'bora', 'wa', 'kitengo', 'cha', 'wanaume', 'naye', 'bingwa', 'wa', 'dunia', ',', 'Hellen', 'Obiri', 'akatwaa', 'tuzo', 'la', 'wanawake', '.', 'Baadhi', 'ya', 'wanamichezo', 'ambao', 'Obiri', 'aliwabwaga', 'ni', 'Brigid', 'Kosgei', 'ambaye', 'anashikilia', 'rekodi', 'ya', 'dunia', 'na', 'bingwa', 'wa', 'dunia', 'wa', 'marathon', 'Ruth', 'Chpngetich', '.', 'Miongoni', 'mwa', 'wanamichezo', 'Kipchoge', 'aliwaangusha', 'ni', 'bingwa', 'wa', 'dunia', 'mbio', 'za', 'mita', '1,500', ',', 'bingwa', 'wa', 'Olimpiki', 'na', 'wa', 'dunia', 'mbio', 'za', 'mita', '3000', 'kuruka', 'vizuizi', 'na', 'maji', ',', 'Conseslus', 'Kipruto', '.', '``', 'Nafurahia', 'sana', 'kushinda', 'tuzo', 'hii', ',', 'inamaanisha', 'watu', 'wametambua', 'niliyofanya', 'Vienna', 'kwa', 'kukimbi', 'chini', 'ya', 'saa', 'mbili', 'katika', 'marathon', '.', 'Napenda', 'kuwaambia', 'watu', 'kuwa', 'hazikua', 'mbio', 'ya', 'ushindi', 'ila', 'kutuma', 'ujumbe', 'ya', 'kwamba', 'hakuna', 'lisilowezekana', 'dunia', ',', \"''\", 'anasema', 'Kipchoge', '.']\n",
      "\n",
      " Number of Words:  154\n"
     ]
    }
   ],
   "source": [
    "file=\"20jan25_1.txt\"\n",
    "\n",
    "# calling the function and storing the contents in a text variable \n",
    "text = get_document(\"https://www.bbc.com/swahili/51248446\")\n",
    "\n",
    "# calling the store_ document function \n",
    "store_document(doc=text,name=file)\n",
    "\n",
    "#add the words in this file to the total_corpus_words, to keep count of the number of words in the corpus\n",
    "total_corpus_words+=total_words(file)"
   ]
  },
  {
   "cell_type": "code",
   "execution_count": 164,
   "metadata": {},
   "outputs": [
    {
     "data": {
      "text/plain": [
       "188942"
      ]
     },
     "execution_count": 164,
     "metadata": {},
     "output_type": "execute_result"
    }
   ],
   "source": [
    "total_corpus_words"
   ]
  },
  {
   "cell_type": "code",
   "execution_count": 165,
   "metadata": {},
   "outputs": [
    {
     "name": "stdout",
     "output_type": "stream",
     "text": [
      "['Osprey', ':', 'Ndege', 'aliyeruka', 'kutoka', 'Finland', 'hadi', 'Kenya', 'afariki', 'Ndege', 'aliyesafiri', 'zaidi', 'ya', 'kilomita', '6000', 'kutoka', 'Finland', 'hadi', 'Kenya', 'Alhamisi', 'iliopita', 'amefariki', '.', 'Ndege', 'huyo', 'alipatikana', 'katika', 'maji', 'ya', 'ziwa', 'Kanyaboli', 'baada', 'ya', 'kuruka', 'kilomita', '6,948', 'na', 'kutua', 'katika', 'kijiji', 'cha', 'Usalu', 'katika', 'eneo', 'la', 'Yimbo', 'eneo', 'la', 'Bondo', '.', 'Katika', 'taarifa', 'yake', 'siku', 'ya', 'Jumatatu', 'Mkurugenzi', 'wa', 'KWS', 'bwana', 'Paul', 'Udoto', 'alisema', 'kwamba', 'ndege', 'huyo', 'anayekula', 'samaki', 'alifariki', 'siku', 'ya', 'Jumapili', '.', \"''Tunasikitika\", 'kutangaza', 'kifo', 'cha', 'ndege', 'huyo', 'licha', 'ya', 'juhudi', 'zetu', 'zote', 'kumhifadhi', 'na', 'baadaye', 'kumrudisha', 'msituni', '.', 'Tulikuwa', 'tukimlisha', 'na', 'kumtibu', 'ili', 'aweze', 'kupata', 'afya', 'njema', 'tukiwa', 'na', 'mpango', 'wa', 'kumrudisha', 'kule', 'tuliko', 'muokoa', 'katika', 'Ziwa', 'Victoria', 'ili', 'asiweze', 'kupoteza', 'njia', 'aliokuwa', 'akielekea', \"''\", '.', 'Bwana', 'Udoto', 'alisema', 'kwamba', 'ndege', 'huyo', 'amedhoofika', 'na', 'alikuwa', 'na', 'upungufu', 'wa', 'maji', 'mwilini', 'kufuatia', 'safari', 'yake', 'ndefu', 'wakati', 'alipokuwa', 'akihamishwa', 'kuelekea', 'Nairobi', '.', 'Anasema', 'kwamba', 'ndege', 'huyo', 'alipata', 'majeraha', 'kadhaa', 'wakati', 'alipokwama', 'katika', 'wavu', 'wa', 'kuvulia', 'samaki', '.', \"''Alikuwa\", 'na', 'uzani', 'wa', 'gramu', '950', 'kinyume', 'na', 'uzani', 'wa', 'kawaida', 'wa', 'kati', 'ya', 'kilo', '1.3', 'hadi', 'kilo', '1.8', 'kwa', 'ndege', 'mkubwa', 'wa', 'aina', 'ya', 'Osprey', \"''\", ',', 'alisema', '.', 'Bwana', 'Udodo', 'anasema', 'kwamba', 'upasuaji', 'wa', 'kimatibabu', 'umebaini', 'kwamba', 'ndege', 'huyo', 'alifariki', 'baada', 'ya', 'kufeli', 'kiungo', 'cha', 'mwilini', 'kutokana', 'na', 'njaa', 'ya', 'muda', 'mrefu', '.', \"''Ndege\", 'huyo', 'alikutwa', 'na', 'majeraha', 'miguuni', 'lakini', 'alikuwa', 'mzima', 'wa', 'afya', 'licha', 'ya', 'kwamba', 'alikuwa', 'amekonda', \"''\", ',', 'mamlaka', 'ilisema', '.', 'Chanzo', 'cha', 'picha', ',', 'KWS', 'Ndege', 'huyo', 'alijulikana', 'asili', 'yake', 'kutokana', 'na', 'ringi', 'aliyokuwa', 'amevalishwa', 'mguuni', 'kuwa', 'na', 'maelezo', 'ya', 'asili', 'yake', 'kuwa', 'makumbusho', 'ya', 'Finland', '(', 'Museum', 'Zool', ',', 'Helsinki', 'Finland', ',', 'www.ring.ac', ',', 'M-68528', ')', ',', \"''\", 'KWS', 'ilituma', 'maelezo', '.', 'Chanzo', 'cha', 'picha', ',', 'KWS', 'Ndege', 'huyo', 'anayekula', 'samaki', 'aligunduliwa', 'siku', 'ya', 'Jumatatu', 'na', 'idara', 'ya', 'wanyama', 'pori', 'Kenya', '.', 'Alikuwa', 'katika', 'uangalizi', 'kwa', 'siku', 'chache', 'kabla', 'kuachiwa', 'kwenda', 'porini', '.']\n",
      "\n",
      " Number of Words:  307\n"
     ]
    }
   ],
   "source": [
    "file=\"20jan25_2.txt\"\n",
    "\n",
    "# calling the function and storing the contents in a text variable \n",
    "text = get_document(\"https://www.bbc.com/swahili/habari-51250338\")\n",
    "\n",
    "# calling the store_ document function \n",
    "store_document(doc=text,name=file)\n",
    "\n",
    "#add the words in this file to the total_corpus_words, to keep count of the number of words in the corpus\n",
    "total_corpus_words+=total_words(file)"
   ]
  },
  {
   "cell_type": "code",
   "execution_count": 166,
   "metadata": {},
   "outputs": [
    {
     "data": {
      "text/plain": [
       "189249"
      ]
     },
     "execution_count": 166,
     "metadata": {},
     "output_type": "execute_result"
    }
   ],
   "source": [
    "total_corpus_words"
   ]
  },
  {
   "cell_type": "code",
   "execution_count": 167,
   "metadata": {},
   "outputs": [
    {
     "name": "stdout",
     "output_type": "stream",
     "text": [
      "['Je', ',', 'maridhiano', 'ya', 'BBI', 'yamegeuka', 'kuwa', 'mpasuko', 'wa', 'kisiasa', 'Kenya', '?', 'Bwana', 'Odinga', 'na', 'Bwana', 'Kenyatta', 'walishikana', 'mikono', 'kama', 'ishara', 'ya', 'kumaliza', 'uhasama', 'wa', 'kisiasa', 'kufuatia', 'uchaguzi', 'wenye', 'utata', 'wa', 'mwaka', 'jana', '2017', '.', 'Huku', 'siasa', 'kuhusu', 'uhamasishaji', 'juu', 'ya', 'mchakato', 'wa', 'ripoti', 'ya', 'Jopo', 'la', 'maridhiano', 'nchini', 'Kenya', '(', 'BBI', ')', 'zikichacha', ',', 'kumezuka', 'tofauti', 'kati', 'ya', 'wanasiasa', 'wakuu', 'nchini', 'Kenya', 'kuhusiana', 'na', 'mbinu', 'na', 'njia', 'za', 'kufuata', 'katika', 'kufanikisha', 'suala', 'hili', '.', 'Siasa', 'zenyewe', 'zinatokana', 'na', 'shauku', 'kuhusu', 'taratibu', 'za', 'kufuata', ',', 'mipango', 'na', 'mipangilio', 'ya', 'mikutano', 'ya', 'uhamasishaji', 'na', 'siasa', 'zinazohusiana', 'na', 'uchaguzi', 'mkuu', 'nchini', 'Kenya', 'wa', 'mwaka', 'wa', '2022', '.', 'Vuta', 'nikuvute', 'kuhusiana', 'na', 'ripoti', 'hii', 'imefanya', 'serikali', 'ya', 'Kenya', 'kuonekana', 'yenye', 'kuvuta', 'pande', 'mbili', 'kuhusiana', 'mpangilio', 'na', 'hatima', 'ya', 'ripoti', 'hii', '.', 'Kuna', 'makundi', 'mawili', 'ambayo', 'yameibuka', 'kutokana', 'na', 'shughuli', 'nzima', 'ya', 'BBI', 'na', 'hatima', 'yake', '.', 'Kwa', 'upande', 'mmoja', 'kuna', 'wale', 'wanaomuunga', 'mkono', 'makamu', 'wa', 'rais', 'ambaye', 'wamekuwa', 'wakipinga', 'utaratibu', 'mzima', 'wa', 'jopo', 'la', 'maridhiano', 'pamoja', 'na', 'jinsi', 'ya', 'kutekeleza', 'mapendekezo', 'yake', 'na', 'kwa', 'upande', 'mwingine', 'kuna', 'wale', 'wanaomuunga', 'mkono', 'Rais', 'Uhuru', 'Kenyatta', 'na', 'kiongozi', 'wa', 'upinzani', ',', 'Raila', 'Odinga', 'ambao', 'ndio', 'waanzilishi', 'wa', 'Jopo', 'hili', 'la', 'Maridhiano', 'la', 'Kenya', '.', 'Itakumbukwa', 'kuwa', 'Jopo', 'la', 'Maridhiano', 'nchini', 'Kenya', '(', 'BBI', ')', 'liliundwa', 'kutokana', 'na', 'tofauti', 'zilizozuka', 'baina', 'ya', 'Rais', 'Uhuru', 'Kenyatta', 'na', 'kiongozi', 'wa', 'upinzani', 'Raila', 'Odinga', 'katika', 'uchaguzi', 'mkuu', 'nchini', 'Kenya', 'mwaka', 'wa', '2017', 'ambazo', 'zilitishia', 'kuleta', 'utata', 'nchini', 'Kenya', '.', 'Baadaye', ',', 'Rais', 'Uhuru', 'alipoapishwa', 'na', 'kuingia', 'ofisini', ',', 'waliamua', 'kuzika', 'tofauti', 'zao', 'na', 'kukutana', 'mnamo', 'Machi', '9', ',', '2018', 'na', 'kuorodhesha', 'ajenda', 'tisa', 'ambazo', 'walisema', 'ndizo', 'zilizowafanya', 'kuanza', 'kufanya', 'kazi', 'pamoja', 'kwa', 'minajili', 'ya', 'kuboresha', 'Kenya', 'na', 'siasa', 'zake', '.', 'Maelezo', 'ya', 'picha', ',', 'Baadhi', 'ya', 'wanasiasa', 'wa', 'Kenya', 'wanahofu', 'kuwa', 'mchakato', 'wa', 'BBI', 'na', 'ripoti', 'yenyewe', 'ni', 'mpango', 'wa', 'kisiri', 'wa', 'kumnyima', 'Naibu', 'Rais', 'Dkt', '.', 'William', 'Ruto', 'fursa', 'ya', 'kuongoza', 'nchi', '.', 'Ajenda', 'za', 'kuundwa', 'kwa', 'Jopo', 'la', 'Maridhiano', 'ni', 'pamoja', 'na', 'jinsi', 'ya', 'kumaliza', 'migawanyiko', 'ya', 'kikabila', ',', 'kuwashirikisha', 'watu', 'wote', 'kuhusu', 'masuala', 'ya', 'utawala', 'na', 'siasa', 'za', 'Kenya', '.', 'Jinsi', 'ya', 'kushughulikia', 'suala', 'la', 'kumaliza', 'uhasama', 'wa', 'kisiasa', 'unaotokea', 'wakati', 'wa', 'uchaguzi', 'mkuu', ',', 'jinsi', 'ya', 'kuimarisha', 'amani', 'na', 'usalama', ',', 'kukabiliana', 'na', 'janga', 'la', 'ufisadi', ',', 'jinsi', 'ya', 'kukabiliana', 'na', 'ukosefu', 'wa', 'maadili', 'ya', 'kitaifa', ',', 'masuala', 'ya', 'majukumu', 'na', 'haki', 'za', 'raia', ',', 'masuala', 'ya', 'kuwajibika', 'kwa', 'pamoja', 'na', 'jinsi', 'ya', 'kuendeleza', 'serikali', 'za', 'ugatuzi', '.', 'Kitakachofuatia', 'baada', 'ya', 'Wakenya', 'kukubaliana', 'juu', 'ya', 'ripoti', 'ya', 'BBI', 'Viongozi', 'hawa', 'wawili', 'wa', 'Kenya', 'wenye', 'ushawishi', 'mkubwa', 'zaidi', 'nchini', 'Kenya', 'baadaye', 'waliunda', 'kamati', 'ya', 'watu', 'kumi', 'na', 'nne', 'ambao', 'waliandaa', 'mikutano', 'ya', 'umma', 'kwenye', 'majimbo', '47', 'kote', 'nchini', 'Kenya', ',', 'ili', 'kupokea', 'maoni', 'kuhusu', 'mabadiliko', 'wayatakayo', 'wakenya', '.', 'Kamati', 'hiyo', 'ilikusanya', 'maoni', 'kutoka', 'kwa', 'wakenya', 'wapatao', 'elfu', 'saba', 'na', 'kuandaa', 'ripoti', 'ambayo', 'sasa', 'inaendelea', 'kujadiliwa', 'zaidi', 'na', 'Wakenya', 'ili', 'kuiboresha', '.', 'Ikiwa', 'Wakenya', 'watakubaliana', 'na', 'yaliyomo', 'kwenye', 'ripoti', 'hiyo', ',', 'huenda', 'kura', 'ya', 'maoni', 'ikaitishwa', 'na', 'kuerekebisha', 'katiba', 'ya', 'mwaka', 'wa', '2010', 'ambayo', 'itasababisha', 'mabadiliko', 'katika', 'muundo', 'wa', 'serikali', '.', 'Jambo', 'hili', 'ndilo', 'limekuwa', 'likiwatia', 'kiwewe', 'baadhi', 'wa', 'wanasiasa', 'wa', 'Kenya', \"waking'ang'ania\", 'kuwa', 'mchakato', 'wa', 'BBI', 'na', 'ripoti', 'yenyewe', 'ni', 'mpango', 'wa', 'kisiri', 'wa', 'kumnyima', 'Makamu', 'wa', 'rais', 'Dkt', '.', 'William', 'Ruto', 'kuwania', 'na', 'kushinda', 'Urais', 'katika', 'kinyanganyiro', 'cha', 'uchaguzi', 'mkuu', 'wa', '2022', '.', 'Chanzo', 'cha', 'picha', ',', 'AFP', 'Maelezo', 'ya', 'picha', ',', 'Moses', 'Wetangula', '(', 'kushoto', ')', 'na', 'Kalonzo', 'Musyoka', '(', 'kulia', ')', 'ambao', 'walikuwa', 'katika', 'Muungano', 'wa', 'Upinzani', 'NASA', 'pamoja', 'na', 'Odinga', 'hawakuhusishwa', 'katika', 'mpango', 'wa', 'BBI', 'Kwa', 'sasa', ',', 'imebainika', 'wazi', 'kuwa', 'Serikali', 'ya', 'Kenya', 'inayoongozwa', 'na', 'Rais', 'Uhuru', 'Kenyatta', 'imewatwika', 'majukumu', 'magavana', 'wa', 'Kaunti', 'katika', 'kufanikisha', 'na', 'kutayarisha', 'mikutano', 'ya', 'uhamasishaji', 'katika', 'maeneneo', 'mbali', 'mbali', 'nchini', 'Kenya', '.', 'Tayari', ',', 'mikutano', 'mitatu', 'imeshafanyika', 'magharibi', 'mwa', 'Kenya', 'huku', 'wa', 'hivi', 'karibuni', 'ukifanyika', 'mnamo', 'Jumamosi', 'iliyopita', 'katika', 'mji', 'wa', 'Mombasa', ',', 'pwani', 'ya', 'Kenya', '.', 'Makamu', 'wa', 'rais', 'William', 'Ruto', 'na', 'wabunge', 'wanaomuunga', 'mkono', 'wamekuwa', 'wakikosoa', 'mchakato', 'wa', 'Jopo', 'la', 'Maridhiano', 'nchini', 'Kenya', '(', 'BBI', ')', 'kwa', 'kudai', 'kuwa', 'ni', 'njia', 'ya', 'kuharibu', 'pesa', 'za', 'umma', 'na', 'kuwatwika', 'Wakenya', 'mzigo', 'zaidi', '.', 'Aidha', ',', 'wamekuwa', 'wakimsuta', 'kiongozi', 'wa', 'upinzani', 'Raila', 'Odinga', 'wakidai', 'kuwa', 'kuwa', 'mchakato', 'huo', 'ulikuwa', 'mpango', 'wake', 'wa', 'kunyakua', 'madaraka', 'kupitia', 'mlango', 'wa', 'nyuma', '.', 'Mikutano', 'kuhusu', 'BBI', 'inaonekana', 'kuleta', 'mgawanyiko', 'Tangu', 'Jopo', 'la', 'Maridhiano', 'kuundwa', 'na', 'Rais', 'Uhuru', 'Kenyatta', 'na', 'Raila', 'Odinga', ',', 'wanasiasa', 'wanamuunga', 'mkono', 'Naibu', 'Rais', 'wa', 'Kenya', 'Dkt', 'William', 'Ruto', 'wamekuwa', 'wakidai', 'njama', 'ya', 'kutengwa', 'kwa', 'Bw', '.', 'Ruto', 'kutoka', 'uongozini', '.', 'Aidha', ',', 'wanasiasa', 'hawa', 'wamekuwa', 'wakilitupia', 'cheche', 'za', 'maneno', 'jopo', 'hili', 'la', 'BBI', 'kwa', 'kutohusishwa', 'katika', 'uanzilishi', 'wake', 'na', 'kutojua', 'bayana', 'mwanzo', 'na', 'mwisho', 'wake', '.', 'Hata', 'hivyo', ',', 'joto', 'la', 'kisiasa', 'nchini', 'Kenya', 'kuhusiana', 'na', 'suala', 'la', 'BBI', 'limepungua', 'kuanzia', 'Jumamosi', 'wakati', 'kundi', 'linalomuunga', 'mkono', 'Bw', '.', 'Ruto', 'kubadili', 'msimamo', 'wao', 'na', 'kuhudhuria', 'mikutano', 'ya', 'uhamasishaji', 'kuhusu', 'ripoti', 'ya', 'BBI', '.', 'Hatua', 'hii', 'ya', 'kuamua', 'kubadili', 'msimamo', 'na', 'mikakati', 'yao', 'kuhusu', 'ripoti', 'ya', 'BBI', 'imezua', 'cheche', 'za', 'maneno', 'baina', 'ya', 'wanasiasa', 'kwenye', 'mirengo', 'pinzani', '.', 'Hali', 'hii', 'imepelekea', 'kutiliwa', 'shaka', 'jinsi', 'mikutano', 'hiyo', 'itakavyoendelezwa', 'kwenye', 'maeneo', 'mbalimbali', '.', 'Tayari', 'kundi', 'la', 'wabunge', 'linalomuunga', 'mkono', 'Bwana', 'Ruto', 'limefanya', 'mkutano', 'wa', 'siku', 'mbili', 'mjini', 'Naivasha', 'kupanga', 'mkakati', 'kuhusu', 'ripoti', 'ya', 'BBI', 'na', 'msimamo', 'wao', 'kuhusiana', 'na', 'mapendekezo', 'yaliyomo', 'kwenye', 'ripoti', 'hiyo', '.', 'Wabunge', 'hao', 'waliongozwa', 'na', 'Kiongozi', 'wa', 'Wengi', 'katika', 'Seneti', 'Bw', 'Kipchumba', 'Murkomen', ',', 'Kiranja', 'wa', 'Wengi', 'katika', 'Seneti', 'Bi', 'Susan', 'Kihika', ',', 'mbunge', 'Moses', 'Kuria', 'kati', 'ya', 'wengine', '.', 'Dkt', 'Ruto', 'alisema', 'kuwa', 'kamati', 'inayoongoza', 'mchakato', 'huo', 'inapaswa', 'kuhakikisha', 'kuwa', 'Wakenya', 'wote', 'wanapewa', 'nafasi', 'kutoa', 'maoni', 'yao', 'na', 'hautekwi', 'na', 'wanasiasa', 'kama', 'jukwaa', 'la', 'kuendeleza', 'chuki', 'na', 'ukabila', '.', 'Chanzo', 'cha', 'picha', ',', 'Getty', 'Images', 'Maelezo', 'ya', 'picha', ',', 'Joto', 'la', 'kisiasa', 'lililokuwepo', 'miongoni', 'mwa', 'raia', 'baada', 'ya', 'kutangazwa', 'kwa', 'matokeo', 'ya', 'uchaguzi', 'liliwasukuma', 'Bwana', 'Kenyatta', 'na', 'Bwana', 'Raila', 'kuandaa', 'mpango', 'wa', 'maridhiano', 'wa', 'BBI', '``', 'Kamati', 'ya', 'BBI', 'inapaswa', 'kuweka', 'utaratibu', 'ambapo', 'kila', 'Mkenya', 'atapata', 'nafasi', 'ya', 'kutoa', 'maoni', 'yake', 'kuhusu', 'ripoti', 'hiyo', 'bila', 'kuingiliwa', 'na', 'wanasiasa', '.', 'Inapaswa', 'kuhakikisha', 'mchakato', 'huu', 'umelindwa', 'dhidi', 'ya', 'mwingilio', 'wa', 'aina', 'yoyote', 'ile', ',', \"''\", 'akasema', 'Dkt', 'Ruto', '.', 'Mnamo', 'Jumanne', ',', 'Bw', '.', 'Murkomen', ',', 'ambaye', 'pia', 'ni', 'Seneta', 'wa', 'Kaunti', 'ya', 'Elgeyo', 'Marakwet', ',', 'alidhibitisha', 'kushiriki', 'kwa', 'kwenye', 'mikutano', 'ya', 'uhamasisho', 'ili', 'kuondoa', 'dhana', 'kwamba', 'wamekuwa', 'wakipinga', 'mchakato', 'huo', '.', 'Dkt', 'William', 'Ruto', 'amekuwa', 'akionekana', 'kutengwa', 'Kwa', 'upande', 'mwingine', ',', 'wanasiasa', 'wa', 'upinzani', 'wanaoumuunga', 'mkono', 'kiongozi', 'wa', 'upinzani', 'Raila', 'Odinga', 'wamewasuta', 'wenzao', 'kwa', 'kubadilisha', 'msimamo', 'kuhusu', 'mikutano', 'ya', 'uhamasisho', 'huku', 'wakionekana', 'kuwaapa', 'masharti', 'ya', 'kuhudhuria', 'mikutano', 'hiyo', '.', 'Kwa', 'upande', 'wake', ',', 'Dkt', 'Ruto', 'amesisitiza', 'kuwa', 'hakuna', 'kundi', 'lolote', 'linalopaswa', 'kutoa', 'kanuni', 'kwa', 'Wakenya', 'kuhusu', 'wanavyopaswa', 'kushiriki', 'kwenye', 'mchakato', 'wa', 'ripoti', 'ya', 'Jopo', 'la', 'Maridhiano', '(', 'BBI', ')', '.', 'Lililo', 'bayana', 'ni', 'kuwa', ',', 'siku', 'za', 'hivi', 'karibuni', 'Dkt', 'Ruto', 'amekuwa', 'akionekana', 'kutengwa', 'kwenye', 'mipangilio', 'ya', 'maandalizi', 'ya', 'mikutano', 'hiyo', ',', 'huku', 'washiriki', 'wakuu', 'wakiitumia', 'kumshambulia', 'kisiasa', '.', 'Wadadisi', 'wa', 'kisiasa', 'wanaeleza', 'kuwa', 'lengo', 'kuu', 'la', 'kundi', 'linalomuunga', 'mkono', 'Bw', '.', 'Ruto', 'kubadili', 'msimamo', 'wake', 'kighafla', 'linalenga', 'kuondoa', 'dhana', 'kuwa', 'Dkt', 'Ruto', 'anapinga', 'ripoti', 'hiyo', ',', 'licha', 'ya', 'kuwa', 'ajenda', 'ya', 'serikali', '.', 'Chanzo', 'cha', 'picha', ',', 'Reuters', 'La', 'mno', 'na', 'kinachowakera', 'zaidi', 'wendani', 'wa', 'Bw', '.', 'Ruto', 'ni', 'ukweli', 'kuwa', 'kwa', 'sababu', 'ya', 'kutoshiriki', 'zaidi', 'katika', 'mikutano', 'hii', 'yenye', 'nia', 'ya', 'kuwahamasisha', 'Wakenya', 'kuhusu', 'ripoti', 'ya', 'BBI', 'kwa', 'sababu', 'ya', 'wadhifa', 'wake', ',', 'Bw', '.', 'Raila', 'Odinga', 'ameonekana', 'kuchukua', 'nafasi', 'muhimu', 'katika', 'kuongoza', 'mikutano', 'hii', '.', 'Jambo', 'hili', 'linaonekana', 'kumjenga', 'zaidi', 'kisiasa', 'hali', 'ambayo', 'imepelekea', 'baadhi', 'ya', 'wanasiasa', 'kudai', 'kuwa', 'wanasiasa', 'wa', 'upinzani', 'wakiongozwa', 'na', 'Bwana', 'Raila', 'Odinga', 'wanatumia', 'mchakato', 'wa', 'BBI', 'vibaya', 'ili', '``', 'kufufua', 'hali', 'zao', 'za', 'kisiasa', \"''\", '.', 'Kuna', 'tetesi', 'nchini', 'Kenya', 'sasa', 'kuwa', 'huenda', 'kundi', 'hili', 'likaanda', 'mikutano', 'yake', 'kuwahamasisha', 'Wakenya', 'kuhusu', 'ripoti', 'ya', 'BBI', '.', '``', 'Ile', 'kamati', 'ya', 'BBI', 'ni', 'lazima', 'ifanye', 'kazi', 'kwa', 'mpango', 'na', 'utaratibu', 'na', 'kutowahusisha', '``', 'wanabiashara', 'na', 'wasiokuwa', 'na', 'kazi', 'ya', 'kufanya', 'ambao', 'wanataka', 'kuuteka', 'mchakato', 'huu', 'wa', 'BBI', ',', \"''\", 'alidai', 'Dkt', 'Ruto', 'mapema', 'juma', 'lililopita', '.', 'Mwanasiasa', 'wa', 'upinzani', 'ambaye', 'pia', 'ni', 'kiongozi', 'wa', 'chama', 'cha', 'upinzani', 'Amani', 'National', 'Congress', '(', 'ANC', ')', 'Musalia', 'Mudavadi', 'pia', 'amekuwa', 'akitilia', 'shaka', 'kukosekana', 'kwa', 'uwazi', 'na', 'pande', 'zote', 'za', 'kisiasa', 'kutojumuishwa', 'katika', 'mchakato', 'wa', 'BBI', '.', '``', 'Hapo', 'awali', ',', 'tatizo', 'lilikuwa', 'kuhusiana', 'na', 'ni', 'nani', 'anayeandaa', 'mikutano', 'na', 'kuilipia', 'baada', 'ya', 'kumalizika', 'kwa', 'muda', 'wa', 'kuhudumu', 'kwa', 'kamati', 'hii', '.', \"''Ilikuwaje\", 'tena', 'kuwa', 'baadhi', 'yetu', 'tulitengwa', 'kama', 'wapinzani', 'wa', 'ripoti', 'ya', 'BBI', 'ilhali', 'tulikuwa', 'tumeshaeleza', 'kuwa', 'tunaunga', 'mkono', 'ripoti', 'hii', '?', \"''\", 'Bwana', 'Mudavadi', 'aliuliza', 'juma', 'lililopita', '.', 'Maoni', 'kama', 'haya', 'yemtolewa', 'na', 'kiongozi', 'wa', 'chama', 'cha', 'Fork-K', 'Bwana', 'Moses', 'Wetangula', 'ambaye', 'pia', 'ni', 'seneta', 'wa', 'Bungoma', '.', 'Unaweza', 'pia', 'kutazama', ':', 'Huwezi', 'kusikiliza', 'tena', 'Maelezo', 'ya', 'video', ',', 'Waziri', 'wa', 'maswala', 'ya', 'Kigeni', 'Tanzania', 'Paramagamba', 'Kabudi', 'awataka', 'Wakenya', 'kuiga', 'mfano', 'wa', 'Wat', 'Bila', 'shaka', ',', 'siasa', 'kuhusu', 'mchakato', 'wa', 'ripoti', 'ya', 'BBI', 'na', 'hatima', 'yake', 'zitatawala', 'siasa', 'za', 'Kenya', 'mwaka', 'huu', '.', 'Prof.', 'Hezron', 'Mogambi', 'ni', 'mhadhiri', 'katika', 'Chuo', 'Kikuu', 'cha', 'Nairobi', '.', 'baruapepe', ':', 'hmogambi', '@', 'yahoo.co.uk']\n",
      "\n",
      " Number of Words:  1496\n"
     ]
    }
   ],
   "source": [
    "file=\"20jan28_1.txt\"\n",
    "\n",
    "# calling the function and storing the contents in a text variable \n",
    "text = get_document(\"https://www.bbc.com/swahili/habari-51267431\")\n",
    "\n",
    "# calling the store_ document function \n",
    "store_document(doc=text,name=file)\n",
    "\n",
    "#add the words in this file to the total_corpus_words, to keep count of the number of words in the corpus\n",
    "total_corpus_words+=total_words(file)"
   ]
  },
  {
   "cell_type": "code",
   "execution_count": 168,
   "metadata": {},
   "outputs": [
    {
     "data": {
      "text/plain": [
       "190745"
      ]
     },
     "execution_count": 168,
     "metadata": {},
     "output_type": "execute_result"
    }
   ],
   "source": [
    "total_corpus_words"
   ]
  },
  {
   "cell_type": "code",
   "execution_count": 169,
   "metadata": {},
   "outputs": [
    {
     "name": "stdout",
     "output_type": "stream",
     "text": [
      "['Wagonjwa', 'wanne', 'wanaoshukiwa', 'kuwa', 'na', 'virusi', 'ya', 'Corona', 'wachunguzwa', 'Ethiopia', '28', 'Januari', '2020', 'Maelezo', 'ya', 'picha', ',', 'Waziri', 'wa', 'Afya', 'wa', 'Ethiopia', 'Dkt', '.', 'Liya', 'Tadesse', '(', 'kushoto', ')', 'akihutubia', 'vyombo', 'vya', 'habari', 'mjini', 'Addis', 'Ababa', 'Watu', 'wanne', 'wanaoshukiwa', 'kuwa', 'na', 'virusi', 'hatari', 'vya', 'corona', 'wametengwa', 'na', 'wanafanyiwa', 'uchunguzi', 'zaidi', 'katika', 'mji', 'mkuu', 'wa', 'Ethiopia', 'Addis', 'Ababa', ',', 'BBC', 'imethibitisha', '.', 'Tangu', 'Jumatano', 'iliyopita', 'abiria', 'wote', 'wanaowasili', 'katika', 'uwanja', 'wa', 'kimataifa', 'wa', 'ndege', 'wa', 'Bole', 'kutoka', 'China', 'wamekuwa', 'wakifanyiwa', 'uchunguzi', 'kubaini', 'kama', 'wanaambukizwa', 'virusi', 'hivyo', '.', 'Akizungumza', 'na', 'vyombo', 'vya', 'habari', 'mjini', 'Addis', 'Ababa', ',', 'Waziri', 'wa', 'Afya', 'wa', 'Ethiopia', 'Dkt', '.', 'Liya', 'Tadesse', ',', 'amesema', 'kuwa', 'wagonjwa', 'wanne', 'wanaoshukiwa', 'kuwa', 'na', 'virusi', 'hatari', 'vya', 'corona', 'wametengwa', 'na', 'wanafanyiwa', 'uchunguzi', 'zaidi', '.', 'Wagonjwa', 'wote', 'ni', 'raia', 'wa', 'Ethiopia', 'na', 'kwamba', 'watatu', 'kati', 'yao', 'ni', 'wanafunzi', 'kutoka', 'chuo', 'kikuu', 'cha', 'eneo', 'la', 'Wuhan', 'nchini', 'China', ',', 'ambako', 'ni', 'chimbuko', 'la', 'mlipuko', 'wa', 'virusi', 'hivyo', '.', 'Tahadhari', 'ya', 'kusafiri', 'imekuja', 'siku', 'chache', 'baada', 'ya', 'maafisa', 'nchini', 'Ivory', 'Coast', 'kubaini', 'mgonjwa', 'aliyekuwa', 'na', 'dalili', 'zinazofanan', 'na', 'mtu', 'mwenye', 'virusi', 'vya', 'corona', '.', 'Haijathibitishwa', 'kama', 'mgonjwa', 'huyo', 'ana', 'virusi', 'hivyo', '.', 'Kenya', 'ina', 'moja', 'kati', 'ya', 'viwanja', 'vilivyo', 'na', 'pilikapilika', 'nyingi', 'barani', 'Afrika', 'na', 'imeongeza', 'umakini', 'katika', 'uangalizi', 'wake', '.', 'Inawapima', 'abiria', 'wote', 'kutoka', 'China', '.', 'Hivi', 'ni', 'virusi', 'gani', '?', 'Virusi', 'vyenyewe', 'ni', 'vipya', '-', 'ambavyo', 'huathiri', 'wanyama', '.', 'Virusi', 'hivi', 'vinasababisha', 'matatizo', 'ya', 'kupumua', '.', 'Dalili', 'zake', 'zinasemekana', 'kuwa', 'homa', ',', 'kikohozi', 'kikavu', 'kisha', 'baada', 'ya', 'wiki', 'moja', ',', 'mwathirika', 'anakuwa', 'na', 'matatizo', 'ya', 'kupumua', 'na', 'kuhitaji', 'matibabu', 'kwa', 'haraka', '.', 'Virusi', 'hivyo', 'vipya', 'vinafananishwa', 'na', 'vile', 'vya', 'Sars', ',', 'ambavyo', 'vilisababisha', 'vifo', 'vya', 'mamia', 'ya', 'watu', '2003', '.', 'Hadi', 'kufikia', 'sasa', ',', 'bado', 'hakuna', 'tiba', 'maalum', 'au', 'chanjo', 'dhidi', 'ya', 'virusi', 'hivi', '.', 'Na', 'kufikia', 'Jumamosi', ',', 'nchini', 'Uchina', 'kulikuwa', 'na', 'visa', '1975', 'vilivyothibitishwa', 'vya', 'ugonjwa', 'huo', 'huku', 'visa', '2,684', 'zaidi', 'vikishukiwa', 'kuwa', 'ni', 'virusi', 'hivyo', ',', 'kulingana', 'na', 'Tume', 'ya', 'Taifa', 'ya', 'Afya', 'ya', 'Uchina', '.']\n",
      "\n",
      " Number of Words:  326\n"
     ]
    }
   ],
   "source": [
    "file=\"20jan28_2.txt\"\n",
    "\n",
    "# calling the function and storing the contents in a text variable \n",
    "text = get_document(\"https://www.bbc.com/swahili/habari-51277102\")\n",
    "\n",
    "# calling the store_ document function \n",
    "store_document(doc=text,name=file)\n",
    "\n",
    "#add the words in this file to the total_corpus_words, to keep count of the number of words in the corpus\n",
    "total_corpus_words+=total_words(file)"
   ]
  },
  {
   "cell_type": "code",
   "execution_count": 170,
   "metadata": {},
   "outputs": [
    {
     "data": {
      "text/plain": [
       "191071"
      ]
     },
     "execution_count": 170,
     "metadata": {},
     "output_type": "execute_result"
    }
   ],
   "source": [
    "total_corpus_words"
   ]
  },
  {
   "cell_type": "code",
   "execution_count": 171,
   "metadata": {},
   "outputs": [
    {
     "name": "stdout",
     "output_type": "stream",
     "text": [
      "['Mpiga', 'picha', 'aliyepitia', 'madhila', 'ya', 'vita', 'anayeamini', 'atawapata', 'wazazi', 'wake', 'baada', 'ya', 'miaka', '20', 'Faith', 'Sudi', 'BBC', 'Swahili', '29', 'Januari', '2020', 'Maelezo', 'ya', 'picha', ',', 'Patience', 'Dositha', 'alinusurika', 'kifo', 'nchini', 'DRC', 'Patience', 'Dositha', 'mwanzilishi', 'wa', 'Abled', 'Photography', 'jina', 'ambalo', 'analitumia', 'kwa', 'biashara', 'yake', 'ya', 'upigaji', 'picha', ',', 'anaelezea', 'simulizi', 'ya', 'mkono', 'wake', 'wa', 'kushoto', 'uliokatwa', 'alipokuwa', 'na', 'umri', 'wa', 'miezi', 'mitatu', '.', 'Msichana', 'huyu', 'mwenye', 'miaka', '22', 'alikuwa', 'muathirika', 'wa', 'vita', 'ya', 'wenyewe', 'kwa', 'wenyewe', 'nchini', 'Jamuhuri', 'ya', 'Kidemokrasi', 'ya', 'Kongo', '(', 'DRC', ')', 'mwaka', 'wa', '1997', '.', 'Mama', 'aliyemnusuru', 'alimwambia', 'Patience', 'kwamba', 'wakati', 'yeye', 'na', 'mumewe', 'walikuwa', 'wakitoroka', 'vita', 'na', 'kupita', 'walikokuwa', 'wamelala', 'wazazi', 'wake', 'ambao', 'walishambuliwa', 'na', 'kuachwa', 'wakiwa', 'hali', 'mahututi', ',', 'baba', 'yake', 'Patience', 'alimvuta', 'mguu', 'mama', 'huyo', 'na', 'kumwomba', 'amchukue', 'mwanawe', 'watoroke', 'naye', 'kuelekea', 'Rwanda', '.', 'Patience', 'alikuwa', 'akijifunika', 'kwa', 'mchanga', 'wa', 'ufuoni', 'mwili', 'mzima', 'ili', 'kujikinga', 'dhidi', 'ya', 'watu', 'waovu', 'Mwaka', 'wa', '2015', ',', 'mama', 'yake', 'Patience', 'aliugua', 'kwa', 'muda', 'kisha', 'akaaga', 'dunia', '.', 'Patience', 'kama', 'maana', 'ya', 'jina', 'lake', ',', 'alilazimika', 'kuvumilia', 'mateso', 'kutoka', 'kwa', 'ndugu', 'zake', 'ili', 'aweze', 'kukamilisha', 'masomo', 'yake', 'kidato', 'cha', 'sita', '.', 'Patience', 'anaamini', 'kwamba', 'wazazi', 'wake', 'halisi', 'walinusurika', 'na', 'anatumai', 'kwamba', 'siku', 'moja', 'atakutana', 'nao', '.', '``', 'Kila', 'mara', 'walikuwa', 'wakinitukana', 'kwamba', 'mimi', 'ni', 'mchawi', ',', 'nimesababisha', 'vifo', 'vya', 'wazazi', 'wao', '.', 'Yote', 'niliyavumilia', ',', 'na', 'baada', 'ya', 'kukamilisha', 'mtihani', 'wangu', 'wa', 'mwisho', ',', 'nikaondoka', \"''\", 'Patience', 'alijaribu', 'kuvuka', 'mpaka', 'ili', 'kurejea', 'katika', 'taifa', 'lake', 'la', 'kuzaliwa', ',', 'DRC', ',', 'lakini', 'akazuiliwa', 'na', 'maafisa', 'uhamiaji', 'mpakani', 'kwa', 'kukosa', 'stakabadhi', 'za', 'kuonesha', 'kwamba', 'yeye', 'ni', 'raia', 'wa', 'DRC', '.', 'Msichana', 'huyu', 'ambaye', 'alikuwa', 'yatima', 'kwa', 'mara', 'ya', 'pili', 'alikata', 'matumaini', 'ya', 'kurejea', 'kwao', ',', 'na', 'hivyo', 'aliamua', 'kupiga', 'kambi', 'kwenye', 'ufuo', 'wa', 'ziwa', 'Kivu.', '``', 'Niliishi', 'ufuoni', 'kwa', 'muda', 'wa', 'wiki', 'mbili', '.', 'Mchana', 'ningejaribu', 'kujitafutia', 'chakula', 'na', 'kucheza', 'majini', ',', 'kisha', 'wakati', 'wa', 'usiku', 'nilichimba', 'mchanga', 'na', 'kujifinika', 'nao', 'mwili', 'mzima', 'isipokuwa', 'pua', 'pekee', '.', 'Nilifanya', 'hivyo', 'ili', 'kujikinga', 'dhidi', 'ya', 'baridi', 'na', 'kuvamiwa', \"''\", ',', 'anaeleza', 'Patience', 'huku', 'akisitasita', 'kwa', 'uchungu', '.', '``', 'Siku', 'moja', 'nikiwa', 'katika', 'pilika', 'pilika', 'zangu', 'ufuoni', ',', 'nilikutana', 'na', 'jirani', 'yetu', 'ambaye', 'huendesha', 'lori', 'la', 'kupakia', 'mizigo', '.', 'Nikamuelezea', 'kuhusu', 'niliyoyapitia', 'na', 'kumuomba', 'aje', 'nami', 'nchini', 'Kenya', 'jijini', 'Nairobi', 'kwa', 'sababu', 'nilikuwa', 'na', 'kiu', 'ya', 'kuanza', 'maisha', 'mapya', \"''\", '.', 'Rwanda', 'iligeuka', 'na', 'kuwa', 'kama', 'mwiba', 'moyoni', 'kwangu', 'kwa', 'sababu', 'ya', 'kumbukumbu', 'niliyokuwa', 'nayo', ',', 'naye', 'akakubali', '.', 'Safari', 'ya', 'kenya', 'Ni', 'safari', 'ambayo', 'pia', 'ilikuwa', 'na', 'changamoto', 'zake', '.', 'Patience', 'alilazimika', 'kujificha', 'ndani', 'ya', 'mizigo', 'punde', 'walipokaribia', 'mipaka', '.', 'Na', 'baada', 'ya', 'wao', 'kuvuka', ',', 'alirudi', 'kuketi', 'na', 'dereva', '.', 'Baada', 'ya', 'siku', '9', ',', 'walifika', 'nchini', 'Kenya', 'na', 'akaachwa', 'mjini', 'Kikuyu', '.', '``', 'Alinipa', 'dola', 'tano', 'na', 'akaniambia', 'kwamba', 'hawezi', 'kunipeleka', 'Nairobi', 'kwa', 'kuwa', 'sina', 'stakabadhi', 'na', 'polisi', 'huwakamata', 'raia', 'wa', 'kigeni', 'wasiokuwa', 'na', 'stakabadhi', '.', 'Kwa', 'hivyo', 'nililazimika', 'kuishi', 'katika', 'mji', 'huo', 'wa', 'Kikuyu', '.', \"''\", 'Maelezo', 'ya', 'picha', ',', 'Patience', 'Dositha', 'mwanzilishi', 'wa', 'Abled', 'Photography', 'Mjini', 'Kikuyu', ',', 'alilazimika', 'kuishi', 'mitaani', 'na', 'huko', 'alikutana', 'na', 'jamii', 'iliyomkubali', '.', 'Na', 'japo', 'hakuwa', 'na', 'pa', 'kulala', 'wala', 'makazi', ',', 'Patience', 'alihisi', 'upendo', '.', '``', 'Maisha', 'ya', 'mitaani', 'hayakuwa', 'rahisi', ',', 'ijapokuwa', 'nilikutana', 'na', 'ndugu', 'walionikubali', '.', 'Walinisaidia', 'na', 'jinsi', 'ambavyo', 'ningeishi', 'mitaani', 'kama', 'msichana', '.', 'Walininyoa', 'nywele', ',', 'na', 'kunifunga', 'matiti', 'kwa', 'vitambara', '.', 'Tulifanya', 'hivyo', 'ili', 'kujilinda', 'dhidi', 'ya', 'kubakwa', '.', 'Kwa', 'sababu', 'bila', 'matiti', 'na', 'nywele', 'tulionekana', 'wavulana', '.', 'Walinifunza', 'pia', 'kuzungumza', 'kiswahili', '.', \"''\", 'Sawa', 'na', 'msemo', 'lugha', 'hukutanisha', 'watu', ',', 'Patience', 'alimfuata', 'mtu', 'mmoja', 'baada', 'ya', 'kumsikia', 'akizungumza', 'Kinyarwanda', 'kwenye', 'simu', '.', 'Huwezi', 'kusikiliza', 'tena', 'Maelezo', 'ya', 'video', ',', 'Joyce', 'Shujaa', 'Alimuelezea', 'masaibu', 'aliyokumbana', 'nayo', 'na', 'jinsi', 'alivyoanza', 'kuishi', 'mitaani', '.', 'Baada', 'ya', 'simulizi', 'yake', ',', 'mtu', 'huyo', 'akampatia', 'makao', '.', '``', 'Alikuwa', 'anaishi', 'chumba', 'kimoja', ',', 'mkewe', 'na', 'watoto', 'wao', 'wanane', '.', 'Kupata', 'chakula', 'ilikuwa', 'shida', 'kupata', ',', 'kulala', 'pia', 'tulifinyana', 'lakini', 'hapo', 'kulikuwa', 'bora', 'kuliko', 'mitaani', \"''\", 'Simu', 'ilivyobadilisha', 'maisha', 'yangu', 'Baada', 'ya', 'kupata', 'makao', 'nyumbani', ',', 'aliamua', 'kuitafutia', 'roho', 'yake', 'makao', '.', 'Na', 'kila', 'siku', 'alipokamilisha', 'kazi', 'za', 'nyumba', ',', 'alienda', 'kanisani', '.', 'Na', 'hapo', 'mwanga', \"ukang'aa\", '.', '``', 'Kuna', 'siku', 'nikiwa', 'kanisani', ',', 'moyo', 'wangu', 'ulikuwa', 'unaniuma', 'sana', 'na', 'nilikuwa', 'namuuliza', 'Mungu', 'maswali', 'huku', 'nikilia', 'sana', '.', 'Kasisi', 'akanipata', 'nikilia', 'na', 'aliponiuliza', 'nini', 'kinanisumbua', ',', 'nikamuelezea', 'mapito', 'yangu', '.', 'Akaniambia', 'kwamba', 'atakuwa', 'ananipa', 'fedha', 'kidogo', 'za', 'kunisitiri', '.', 'Kuanzia', 'siku', 'hiyo', 'akawa', 'ananipa', 'dola', '2', 'kila', 'siku', '.', 'Fedha', 'hiyo', 'ilitusaidia', 'sana', 'kununua', 'chakula', 'na', 'kukimu', 'mahitaji', 'mengine', '.', \"''\", 'Hatimaye', 'kasisi', 'huyo', 'alimnunulia', 'Patience', 'simu', 'ili', 'waweze', 'kuwasiliana', 'wakati', 'aliposafiri', 'na', 'pia', 'kumuwezesha', 'kutuma', 'fedha', 'za', 'matumizi', 'kama', 'alivyoahidi', '.', 'Simu', 'hiyo', 'ilibadilisha', 'maisha', 'ya', 'Patience', '.', '``', 'Nilitumia', 'simu', 'hiyo', 'kutafutia', 'mashirika', 'yanayowasaidia', 'wakimbizi', 'kwenye', 'mitandao', 'ya', 'kijamii', ',', 'na', 'hapo', 'ndipo', 'nilikutana', 'na', 'Shirika', 'la', 'kimataifa', 'kushughulikia', 'wakimbizi', '(', 'IRC', ')', '.', 'Shirika', 'hilo', 'lilinichukua', 'na', 'kunipeleka', 'chuoni', 'ambapo', 'nilisomea', 'Sanaa', 'ya', 'upigaji', 'picha', \"''\", 'Na', 'kama', 'wasemavyo', 'wenye', 'busara', ',', 'baada', 'ya', 'dhiki', ',', 'faraja', '.', 'Patience', 'alikamilisha', 'masomo', 'yake', 'na', 'hata', 'kufungua', 'studio', 'ya', 'kupiga', 'picha.', '``', 'Watu', 'wengi', 'hushuku', 'kama', 'ninaweza', 'kupiga', 'picha', 'kwa', 'sababu', 'wanaona', 'kwamba', 'nina', 'mkono', 'mmoja', '.', 'Lakini', 'ninapowashawishi', 'na', 'kuwapiga', 'picha', ',', 'wao', 'hubadili', 'msimamo', 'na', 'kuwa', 'wateja', 'wa', 'kila', 'siku', \"''\", '``', 'Niliamua', 'kusomea', 'sanaa', 'hii', 'kwa', 'sababu', 'ninaamini', 'kwamba', 'itanifanya', 'kutambulika', 'dunia', 'nzima', 'na', 'hatimaye', 'kukutana', 'na', 'wazazi', 'wangu', \"''\", 'Patience', 'hajakata', 'tamaa', 'na', 'anaamini', 'kwamba', 'wazazi', 'wake', 'walinusurika', 'na', 'anatumai', 'kwamba', 'siku', 'moja', 'atakutana', 'nao', '.']\n",
      "\n",
      " Number of Words:  897\n"
     ]
    }
   ],
   "source": [
    "file=\"20jan29.txt\"\n",
    "\n",
    "# calling the function and storing the contents in a text variable \n",
    "text = get_document(\"https://www.bbc.com/swahili/51280781\")\n",
    "\n",
    "# calling the store_ document function \n",
    "store_document(doc=text,name=file)\n",
    "\n",
    "#add the words in this file to the total_corpus_words, to keep count of the number of words in the corpus\n",
    "total_corpus_words+=total_words(file)"
   ]
  },
  {
   "cell_type": "code",
   "execution_count": 172,
   "metadata": {},
   "outputs": [
    {
     "data": {
      "text/plain": [
       "191968"
      ]
     },
     "execution_count": 172,
     "metadata": {},
     "output_type": "execute_result"
    }
   ],
   "source": [
    "total_corpus_words"
   ]
  },
  {
   "cell_type": "code",
   "execution_count": 173,
   "metadata": {},
   "outputs": [
    {
     "name": "stdout",
     "output_type": "stream",
     "text": [
      "['Jinsi', 'unavyoweza', 'kupata', 'ugonjwa', 'wa', 'Trakoma', 'Ulimwengu', 'unaadhimisha', 'miaka', '8', 'tangu', 'kutangzwa', 'kwa', 'azimio', 'la', 'kupambana', 'na', 'magonjwa', 'ya', 'mataifa', 'ya', 'tropiki', 'yanayopuuzwa', '.', 'Moja', 'kati', 'magonjwa', 'hayo', 'ni', 'Trachoma', ',', 'ugonjwa', 'wa', 'macho', 'ambao', 'unasambazwa', 'sana', 'na', 'nzi', 'na', 'kusababisha', 'upofu', '.']\n",
      "\n",
      " Number of Words:  43\n"
     ]
    }
   ],
   "source": [
    "file=\"20jan30_1.txt\"\n",
    "\n",
    "# calling the function and storing the contents in a text variable \n",
    "text = get_document(\"https://www.bbc.com/swahili/habari-51301290\")\n",
    "\n",
    "# calling the store_ document function \n",
    "store_document(doc=text,name=file)\n",
    "\n",
    "#add the words in this file to the total_corpus_words, to keep count of the number of words in the corpus\n",
    "total_corpus_words+=total_words(file)"
   ]
  },
  {
   "cell_type": "code",
   "execution_count": 174,
   "metadata": {},
   "outputs": [
    {
     "data": {
      "text/plain": [
       "192011"
      ]
     },
     "execution_count": 174,
     "metadata": {},
     "output_type": "execute_result"
    }
   ],
   "source": [
    "total_corpus_words"
   ]
  },
  {
   "cell_type": "code",
   "execution_count": 175,
   "metadata": {},
   "outputs": [
    {
     "name": "stdout",
     "output_type": "stream",
     "text": [
      "['Bendi', 'ya', 'muziki', 'ya', 'Sautisol', 'yatamba', 'kimataifa', 'Kundi', 'la', 'Sauti', 'sol', 'kutoka', 'Kenya', 'limetangaza', 'kupitia', 'mtandao', 'wa', 'Instagram', 'kuwa', 'limesaini', 'mkataba', 'na', 'kampuni', 'ya', 'kurekodi', 'muziki', 'ya', 'Universal', 'na', 'kwamba', 'albamu', 'yao', 'mpya', 'ya', 'Midnightrain', ',', 'inayotarajiwa', 'kwa', 'hamu', 'na', 'mashabiki', 'wao', 'itazinduliwa', 'kupitia', 'nembo', 'hiyo', 'ya', 'Universal', 'Music', 'Group', '.', 'Sautisol', 'wamejipatia', 'umaarufu', 'mkubwa', 'kupitia', 'vibao', 'vyao', 'kadhaa', 'ikiwemo', 'wimbo', 'wa', \"'Short\", 'and', 'sweet', \"'\", '.']\n",
      "\n",
      " Number of Words:  67\n"
     ]
    }
   ],
   "source": [
    "file=\"20jan30_2.txt\"\n",
    "\n",
    "# calling the function and storing the contents in a text variable \n",
    "text = get_document(\"https://www.bbc.com/swahili/gnb-51307688\")\n",
    "\n",
    "# calling the store_ document function \n",
    "store_document(doc=text,name=file)\n",
    "\n",
    "#add the words in this file to the total_corpus_words, to keep count of the number of words in the corpus\n",
    "total_corpus_words+=total_words(file)"
   ]
  },
  {
   "cell_type": "code",
   "execution_count": 176,
   "metadata": {},
   "outputs": [
    {
     "data": {
      "text/plain": [
       "192078"
      ]
     },
     "execution_count": 176,
     "metadata": {},
     "output_type": "execute_result"
    }
   ],
   "source": [
    "total_corpus_words"
   ]
  },
  {
   "cell_type": "code",
   "execution_count": 177,
   "metadata": {},
   "outputs": [
    {
     "name": "stdout",
     "output_type": "stream",
     "text": [
      "['Ferdinand', 'Waititu', ':', 'Gavana', 'wa', 'kwanza', 'kuondolewa', 'madarakani', 'Kenya', 'Bunge', 'la', 'Seneti', 'la', 'Kenya', 'limepiga', 'kura', 'ya', 'kumuondoa', 'madarakani', 'gavana', 'wa', 'jimbo', 'la', 'Kiambu', 'Ferdinand', 'Waititu', 'maarufu', 'Babaya', 'Bunge', 'la', 'seneti', 'la', 'Kenya', 'limepiga', 'kura', 'ya', 'kumuondoa', 'madarakani', 'gavana', 'wa', 'jimbo', 'la', 'Kiambu', 'Ferdinand', 'Waititu', 'maarufu', 'Babayao', 'kwa', 'madai', 'ya', 'ufisadi', 'na', 'matumizi', 'mabaya', 'ya', 'mamlaka', '.', 'Katika', 'hatua', 'ambayo', 'ilikuwa', 'inasubiriwa', 'kwa', 'hamu', 'na', 'ghamu', 'nchini', 'Kenya', ',', 'maseneta', '27', 'kati', 'ya', '38', 'waliopiga', 'kura', 'usiku', 'wa', 'kuamkia', 'Alhamisi', ',', 'waliidhinisha', 'hoja', 'ya', 'kumwondoa', 'mamlakani', 'Waititu', 'iliyopitishwa', 'na', 'bunge', 'la', 'kaunti', 'ya', 'Kiambu', 'mnamo', 'Disemba', 'mwaka', '2019', '.', 'Safari', 'ya', 'kumfurusha', 'madarakani', 'Ferdinand', 'Waititu', 'ilianza', 'mwaka', 'jana', 'katika', 'kaunti', 'yake', 'ya', 'kiambu', 'wakati', 'madiwani', 'walipopiga', 'kura', 'ya', 'kutokuwa', 'na', 'imani', 'naye', '.', 'Madiwani', 'wa', 'Jimbo', 'la', 'Kiambu', 'walidai', 'kuwa', 'Bw', 'Waititu', 'alijihusisha', 'na', 'ufisadi', 'na', 'matumizi', 'mabaya', 'ya', 'mamlaka', ',', 'ukiukaji', 'wa', 'katiba', 'na', 'sheria', 'nyinginezo', ',', 'mashtaka', 'ambayo', 'yaliidhinishwa', 'na', 'Seneti', '.', 'Inadaiwa', 'kwamba', 'bw', 'Babayao', 'alitumia', 'ushawishi', 'wake', 'kujinufaisha', 'kifedha', ',', 'kutoa', 'zabuni', 'za', 'mamilioni', 'ya', 'pesa', 'kwa', 'kampuni', 'za', 'jamaa', 'wake', 'kutoa', 'hudumu', 'katika', 'kaunti', 'ya', 'Kiambu', '.', 'Madai', 'ya', 'ufisadi', 'na', 'matumizi', 'mabaya', 'ya', 'ofisi', 'Mwaka', '2019', 'Waititu', ',', 'mke', 'wake', 'Susan', 'Wangari', 'Ndung', \"'\", 'u', 'na', 'binti', 'yao', ',', 'Monica', 'Njeri', 'walishtakiwa', 'kortini', 'kwa', 'kuchukua', 'zabuni', 'ya', 'pesa', 'za', 'Kenya', 'Shilingi', 'milioni', '588', '(', 'sawa', 'na', 'dola', '6,000,000', ')', 'bila', 'ya', 'kufuata', 'sheria', '.', 'Hatua', 'ya', 'serikali', 'ya', 'Kiambu', 'kuzipa', 'kampuni', 'zinazomilikiwa', 'na', 'watu', 'wa', 'familia', 'ya', 'Waititu', 'zabuni', 'inakwenda', 'kinyume', 'na', 'sehemu', 'ya', '66', '(', '8A', ')', 'ya', 'Sheria', 'ya', 'Ununuzi', 'na', 'Uuzaji', 'wa', 'Bidhaa', 'za', 'Umma', '2015', '.', 'Sehemu', 'hiyo', 'inasema', ':', '``', 'Mtu', 'au', 'jamaa', 'za', 'mtu', 'wanapopewa', 'zabuni', 'katika', 'asasi', 'anayosimamia', 'atakuwa', ',', 'ametenda', 'kosa', 'kwa', 'mujibu', 'wa', 'sheria', 'ya', 'ununuzi', 'na', 'uuzaji', 'bidhaa', '.', \"''\", 'Bw', 'Ferdinand', 'Waititu', 'ni', 'gavana', 'wa', 'kwanza', 'kupigwa', 'kalamu', 'na', 'bunge', 'la', 'seneti', 'nchini', 'Kenya', 'kwa', 'madai', 'ya', 'ufisadi', 'na', 'matumizi', 'mabaya', 'ya', 'mamlaka', '.', 'Kufurushwa', 'kwa', 'Bw', 'Waititu', 'kunafanyika', 'wakati', 'ambapo', 'serikali', 'inaonekana', 'kuimarisha', 'vita', 'dhidi', 'ya', 'ufisadi', 'ambao', 'umekithiri', 'hasa', 'miongoni', 'mwa', 'maafisa', 'wa', 'serikali', 'ya', 'kitaifa', 'na', 'za', 'majimbo', '.', 'Wachanganuzi', 'wa', 'mambo', 'wanasema', 'kwamba', 'hatua', 'ya', 'bunge', 'la', 'seneti', 'ya', 'kumtimua', 'gavana', 'Waititu', 'ofisisni', 'inatuma', 'ujumbe', 'wa', 'tahadhari', 'kwa', 'vigogo', 'ambao', 'wanakabiliwa', 'na', 'mashtaka', 'ya', 'ufisadi', '.', 'Mafunzo', 'kutokana', 'na', 'kufurushwa', 'kwa', 'Babayao', 'Mwanasheria', 'ambaye', 'pia', 'ni', 'mchambuzi', 'wa', 'maswala', 'ya', 'kijamii', 'na', 'kisiasa', 'Daktari', 'Alutalala', 'Mukhwana', 'anasema', 'kutimuliwa', 'kwa', 'Bw', 'Waititu', 'ni', 'ishara', 'kwamba', 'vita', 'dhidi', 'ya', 'matumizi', 'mabaya', 'ya', 'pesa', 'za', 'umma', 'vimeanza', 'kuzaa', 'matunda', '.', '``', 'Sasa', 'maafisa', 'wa', 'serikali', ',', 'wabunge', 'na', 'hata', 'magavana', 'itabidi', 'wawe', 'waangalifu', 'katika', 'matumizi', 'ya', 'pesa', 'za', 'umma', '.', 'Na', 'taua', 'ya', 'seneti', 'pia', 'itatoa', 'changamoto', 'kwa', 'idara', 'ya', 'mahakama', 'kuongeza', 'kasi', 'ya', 'kushughulikia', 'kikamilifu', 'kesi', 'za', 'ufisadi', 'na', 'matumizi', 'mabaya', 'ya', 'ofisi', 'miongoni', 'mwa', 'maafisa', 'wa', 'serikali', \"''\", 'anasema', 'Dkt', 'Alutalala', 'Mukhwana', '.', 'Magavana', 'wengine', 'wanne', 'wanakabiliwa', 'na', 'mashataka', 'ya', 'kuhusu', 'madai', 'ya', 'ufisadi', 'na', 'matumizi', 'mabaya', 'ya', 'mamlaka', 'miongoni', 'mwao', 'gavana', 'wa', 'Nairobi', 'Mike', 'Mbuvi', 'Sonko', 'kwa', 'jina', 'maarufu', 'Sonko', 'Rais', 'Uhuru', 'Kenyatta', 'kila', 'mara', 'ameshtumu', 'idara', 'ya', 'mahakama', 'nchini', 'Kenya', 'kwa', 'madai', 'kwamba', 'haisaidii', 'utawala', 'wake', 'kupambana', 'na', 'ufisadi', 'uliokolea', 'serikalini', '.', 'Kwa', 'upande', 'mwingine', ',', 'jaji', 'mkuu', 'wa', 'kenya', 'amelalamikia', 'vikali', 'kuhusu', 'hatua', 'ya', 'serikali', 'ya', 'kupunguza', 'bajeti', 'dhidi', 'ya', 'idara', 'ya', 'mahakama', ',', 'jambo', 'ambalo', 'anasema', ',', 'linavuruga', 'shughuli', 'na', 'usimamizi', 'na', 'utekelezwaji', 'wa', 'haki', '.', 'Pia', ',', 'idara', 'ya', 'mahakama', 'inanyoshea', 'kidole', 'kitengo', 'cha', 'usimamizi', 'wa', 'mashtaka', 'ya', 'uma', 'kwa', 'ushahidi', 'hafifu', 'dhidi', 'ya', 'watuhumiwa', 'wa', 'ufisadi', ',', 'jambo', 'ambalo', 'limesababisha', 'kesi', 'nyingi', 'kutupiliwa', 'mbali', '.']\n",
      "\n",
      " Number of Words:  591\n"
     ]
    }
   ],
   "source": [
    "file=\"20jan30_3.txt\"\n",
    "\n",
    "# calling the function and storing the contents in a text variable \n",
    "text = get_document(\"https://www.bbc.com/swahili/habari-51311535\")\n",
    "\n",
    "# calling the store_ document function \n",
    "store_document(doc=text,name=file)\n",
    "\n",
    "#add the words in this file to the total_corpus_words, to keep count of the number of words in the corpus\n",
    "total_corpus_words+=total_words(file)"
   ]
  },
  {
   "cell_type": "code",
   "execution_count": 178,
   "metadata": {},
   "outputs": [
    {
     "data": {
      "text/plain": [
       "192669"
      ]
     },
     "execution_count": 178,
     "metadata": {},
     "output_type": "execute_result"
    }
   ],
   "source": [
    "total_corpus_words"
   ]
  },
  {
   "cell_type": "code",
   "execution_count": 179,
   "metadata": {},
   "outputs": [
    {
     "name": "stdout",
     "output_type": "stream",
     "text": [
      "['Nike', 'Vaporfly', ':', 'IAAF', 'kutoa', 'uamuzi', 'kuhusu', 'viatu', \"'vinavyowawezesha\", \"'\", 'wanariadha', 'fulani', '30', 'Januari', '2020', 'Chanzo', 'cha', 'picha', ',', 'Reuters', 'Maelezo', 'ya', 'picha', ',', 'Eliud', 'Kipchoge', 'alikuwa', 'akivalia', 'viatu', 'vya', 'Nike', 'Vaporfly', 'wakati', 'alipoweka', 'rekodi', 'ya', 'dunia', 'ya', 'chini', 'saa', 'moja', 'katika', 'mbio', 'za', 'marathon', 'Oktober', '2019', 'Shirikisho', 'la', 'riadha', 'duniani', 'IAAF', 'linapanga', 'kuimarisha', 'sheria', 'zake', 'kuhusu', 'viatu', 'vya', 'kiteknolojia', 'vinavyotumiwa', 'na', 'wanariadha', '.', 'Bodi', 'ya', 'shirikisho', 'hilo', 'imekuwa', 'ikiangazia', 'mapendekezo', 'ya', 'kundi', 'moja', 'la', 'wataalam', 'huku', 'ikitarajiwa', 'kutoa', 'tangazo', 'lake', 'siku', 'ya', 'Ijumaa', '.', 'Huku', 'kukiwa', 'na', 'hofu', 'ya', 'tishio', 'la', 'kisheria', ',', 'jopo', 'hilo', 'limeamua', 'kutoweka', 'marufuku', 'ya', 'jumla', 'kwa', 'viatu', 'vya', 'Nike', 'aina', 'ya', 'Vaporfly', 'range', ',', 'kulingana', 'na', 'BBC', 'Sport', '.', 'Lakini', 'baadhi', 'ya', 'sampuli', 'hiyo', 'ya', 'viatu', 'huenda', 'ikapigwa', 'marufuku', 'katika', 'mashindano', 'makubwa', 'chini', 'ya', 'sheria', 'mpya', 'za', 'muda', 'inayolenga', 'kuleta', 'uwazi', 'kabla', 'ya', 'kufanyiko', 'kwa', 'michezo', 'ya', 'Olimpiki', 'itakayoanza', 'mwezi', 'Julai', 'mjini', 'Tokyo', '.', 'Sheria', 'hizo', 'zitaweka', 'masharti', 'ya', 'viatu', 'vyenye', 'soli', 'kubwa', ',', 'ijapokuwa', 'pia', 'kutakuwa', 'na', 'tangazo', 'la', 'muda', 'mrefu', 'la', 'teknolojia', 'iliotumika', 'katika', 'mbio', 'fupi', 'na', 'ndefu', '.', 'Watengenezaji', 'viatu', 'watatakiwa', 'kutoa', 'mfano', 'wowote', 'wa', 'viatu', 'kwa', 'bodi', 'hiyo', 'ya', 'riadha', 'ili', 'kuidhinishwa', 'kabla', 'ya', 'kutumika', 'katika', 'mashindano', 'makubwa', 'na', 'baadaye', 'kuzuia', 'teknolojia', 'nyengine', 'yoyote', 'mpya', 'hadi', 'baada', 'ya', 'mashindano', 'ya', 'Olimpiki', '.', 'Hatahivyo', 'rekodi', 'zote', 'zilizowekwa', 'kwa', 'kutumia', 'viatu', 'hivyo', 'zitaendelea', 'kuheshimiwa', '.', 'Kilichotokea', 'Sheria', 'zilizopo', 'zinasema', 'kwamba', 'viatu', 'havifai', 'kutengenezwa', 'hali', 'ya', 'kwamba', 'vitamwezesha', 'mwanariadha', 'ama', 'kumpa', 'fursa', 'na', 'kwamba', 'aina', 'yoyote', 'ya', 'kiatu', 'itakayotumika', 'ni', 'sharti', 'itumike', 'na', 'wote', 'ili', 'kutoa', 'fursa', 'ya', 'sawa', '.', 'Lakini', 'wakosoaji', 'wanasema', 'kwamba', 'hiyo', 'haitoshi', 'na', 'kwamba', 'sheria', 'hiyo', 'imepitwa', 'na', 'viatu', 'hivyo', 'vinavyogharimu', '£240', ')', 'na', 'ambavyo', 'vimebadilisha', 'mbio', 'ndefu', 'tangu', 'vilipozinduliwa', '2016', '.', 'Wengi', 'sasa', 'wana', 'wasiwasi', 'kwamba', 'tekonoljia', 'hiyo', 'imechafua', 'vitabu', 'vya', 'rekodi', ',', 'inazuia', 'ushindani', 'wa', 'usawa', 'miongoni', 'mwa', 'wanariadha', 'wasiodhaminiwa', 'na', 'Nike', 'hatua', 'inayofanya', 'kuonekana', 'kama', 'ulaghai', 'wa', 'kiteknolojia', '.', 'Wengine', 'hatahivyo', 'wanaamini', 'kwamba', 'uvumbuzi', 'wa', 'vifaa', 'vya', 'michezo', 'ni', 'miongoni', 'mwa', 'maendeleo', 'katika', 'michezo', 'na', 'hatua', 'inayofanya', 'wengine', 'kubuni', 'teknolojia', 'zao', 'na', 'kwamba', 'rekodi', 'mpya', 'zinasaidia', 'kuleta', 'hamu', 'ya', 'kiteknolojia', '.', 'Kinyume', 'na', 'mjadala', 'na', 'utata', 'ulioletwa', 'na', 'viatu', 'hivyo', ',', 'Shirikisho', 'la', 'riadha', 'duniani', 'sasa', 'litalazimika', 'kufanya', 'kile', 'kinachoonekana', 'kuwa', 'uamuzi', 'muhimu', 'katika', 'historia', 'ya', 'michezo', '.', 'Mwaka', 'uliopita', 'viatu', 'kama', 'hivyo', 'vilitumiwa', 'na', 'Eliud', 'Kipchoge', 'wakati', 'alipokuwa', 'mwanariadha', 'wa', 'kwanza', 'duniani', 'kukimbia', 'mbio', 'za', 'marathon', 'chini', 'ya', 'saa', 'mbili', 'akitumia', 'viatu', 'aina', 'ya', 'Alphafly', 'mjini', 'Vienna', 'na', 'baadaye', 'vikatumiwa', 'na', 'mwanariadha', 'mwenza', 'kutoka', 'Kenya', 'Brigid', 'Kosgei', 'mjini', 'Chicago', 'wakati', 'alipovunja', 'rekodi', 'ya', 'muda', 'mrefu', 'ya', 'Paula', 'Radcliffe', 'upande', 'wa', 'wanawake', '.', 'Hatahivyo', 'haijulikani', 'iwapo', 'viatu', 'hivyo', 'vipya', 'vitaafikia', 'sheria', 'mpya', 'inayotarajiwa', 'kutangazwa', 'na', 'shirikisho', 'la', 'riadha', 'duniani', '.', 'Shirikisho', 'hilo', 'limesema', 'kwamba', 'haipo', 'wazi', 'kwamba', 'kuna', 'teknolojia', 'inayoweza', 'kumpatia', 'mwanariadha', 'fursa', 'iliopo', 'kinyume', 'na', 'maadili', 'ya', 'michezo', '.', 'Lilisema', ':', 'Changamoto', 'ni', 'kutafuta', 'usawa', 'katika', 'sheria', 'za', 'riadha', 'na', 'wakati', 'huohuo', 'kuwatia', 'moyo', 'wavubvuzi', 'kuendelea', 'kutoa', 'teknolojia', 'mpya', 'na', 'kufuata', 'sheria', 'zinazosimamia', 'mchezo', 'huo', '.', 'Utafiti', 'uliofanywa', 'na', 'gazeti', 'la', 'New', 'York', 'Times', 'unasema', 'kwamba', 'kati', 'ya', 'mbio', 'nyingi', 'zilizokimbiwa', 'kwa', 'kutumia', 'viatu', 'aina', 'ya', 'Vaporfly', ',', 'waliovitumia', 'viatu', 'hivyo', 'waliwezeshwa', 'kukimbia', 'asilimia', '4-5', 'zaidi', 'ya', 'vile', 'ambavyo', 'wangekimbia', 'kwa', 'kutumia', 'viatu', 'vya', 'kawaida', '.']\n",
      "\n",
      " Number of Words:  531\n"
     ]
    }
   ],
   "source": [
    "file=\"20jan30_4.txt\"\n",
    "\n",
    "# calling the function and storing the contents in a text variable \n",
    "text = get_document(\"https://www.bbc.com/swahili/michezo-51310110\")\n",
    "\n",
    "# calling the store_ document function \n",
    "store_document(doc=text,name=file)\n",
    "\n",
    "#add the words in this file to the total_corpus_words, to keep count of the number of words in the corpus\n",
    "total_corpus_words+=total_words(file)"
   ]
  },
  {
   "cell_type": "code",
   "execution_count": 180,
   "metadata": {},
   "outputs": [
    {
     "data": {
      "text/plain": [
       "193200"
      ]
     },
     "execution_count": 180,
     "metadata": {},
     "output_type": "execute_result"
    }
   ],
   "source": [
    "total_corpus_words"
   ]
  },
  {
   "cell_type": "code",
   "execution_count": 181,
   "metadata": {},
   "outputs": [
    {
     "name": "stdout",
     "output_type": "stream",
     "text": [
      "['Nchini', 'Kenya', ',', 'siku', 'ya', 'jumanne', ',', 'mwanafunzi', 'aliwekwa', 'karantini', 'hospitalini', 'katika', 'mji', 'mkuu', 'Nairobi', ',', 'baada', 'ya', 'mwanafunzi', 'huyo', 'kutokea', 'katika', 'mji', 'wa', 'Wuhan', 'nchini', 'China', ',', 'eneo', 'ambalo', 'ndio', 'chimbuko', 'la', 'mlipuko', 'huo', '.', 'Kenya', 'Airways', 'imesema', 'kuwa', 'bado', 'iko', 'kwenye', 'mazungumzo', 'na', 'wizara', 'ya', 'afya', 'na', 'wizara', 'ya', 'mambo', 'ya', 'nje', 'kuhusu', 'muda', 'ambao', 'ndege', 'hizo', 'zitaacha', 'safari', 'ya', 'China', '.', 'Lakini', 'safari', 'za', 'mji', 'mkuu', 'wa', 'Thailand', ',', 'Bangkok', ',', 'zitakuwa', 'zinaendelea', '.', 'Chanzo', 'cha', 'picha', ',', 'TWITTER', 'Rwanda', 'RwandaAir', 'nayo', 'pia', 'imesitisha', 'safari', 'zake', 'za', 'kwenda', 'mji', 'wa', 'Guangzhou', 'nchini', 'China', 'kuanzia', 'leo', 'tarehe', '31', ',', 'Januari', '2020', 'mpaka', 'taarifa', 'zaidi', 'zitakapotolewa', 'hapo', 'baadae', '.', 'Mabadiliko', 'hayo', 'yametangazwa', 'baada', 'ya', 'shirika', 'la', 'afya', 'duniani', '(', 'WHO', ')', 'kutangaza', 'kuwa', 'virusi', 'vya', 'corona', 'ni', 'janga', 'la', 'afya', 'kimataifa', '.', 'Abiria', 'ambao', 'watakuwa', 'wameathirika', 'katika', 'mabadilko', 'hayo', ',', 'watarudishiwa', 'nauli', 'zao', ',', 'kuruhusiwa', 'tiketi', 'zao', 'kupelekwa', 'kwa', 'tarehe', 'za', 'mbeleni', 'au', 'kubadilishiwa', 'safari', '.', 'Chanzo', 'cha', 'picha', ',', 'Twitter', 'Safari', 'za', 'Kigali', 'mpaka', 'Mumbai', 'zitakuwa', 'zinaendelea', '.', 'Shirika', 'hilo', 'la', 'ndege', 'limeomba', 'radhi', 'kwa', 'usumbufu', 'wowote', 'utakaojitokeza', '.', 'Shirika', 'la', 'ndege', 'la', 'Morocco-Royal', 'Air', 'Maroc', 'imesema', 'kuwa', 'safari', 'za', 'ndege', 'zake', 'kwenda', 'China', 'zitasitishwa', 'mpaka', 'mwishoni', 'mwa', 'mwezi', 'wa', 'Februari', 'kwa', 'sababu', 'watu', 'wanaoenda', 'ni', 'wachache', 'wakitokea', 'Casablanca', 'mpaka', 'Beijing', '.', 'Wakati', 'huohuo', 'Madagascar', 'nayo', 'imesema', 'kuwa', 'ndege', 'zake', 'zimesitisha', 'safari', 'zake', 'kutoka', 'Guangzhou', 'kuanzia', 'siku', 'ya', 'jumamosi', 'ikiwa', 'ni', 'hatua', 'ya', 'kujikinga', '.', 'Air', 'Mauritius', 'pia', 'imesitisha', 'safari', 'zake', 'za', 'ndege', 'kutoka', 'Shanghai', 'kuanzia', 'leo', 'siku', 'ya', 'ijumaa', 'lakini', 'ndege', 'zote', 'za', 'kwenda', 'Hong', 'Kong', 'zitaendelea', 'na', 'safari', 'zake', '.', 'Ethiopia', 'Ethiopian', 'airline', ',', 'ni', 'ndege', 'ambayo', 'hufanya', 'safari', 'nyingi', 'Afrika', ',', 'yenyewe', 'imetangaza', 'siku', 'ya', 'alhamisi', 'kuwa', 'safari', 'zake', 'zote', 'za', 'kuelekea', 'China', 'zitaendelea', '.', 'Ndege', 'hiyo', 'bado', 'inafanya', 'kazi', 'na', 'mamlaka', 'ya', 'Ethiopia', 'na', 'China', 'kuwalinda', 'abiria', 'wake', 'pamoja', 'na', 'wafanyakazi', 'wake', 'na', 'virusi', 'vya', 'corona', '.', 'Tanzania', 'Chanzo', 'cha', 'picha', ',', 'Getty', 'Images', 'Vilevile', 'shirika', 'la', 'ndege', 'la', 'Air', 'Tanzania', 'limesema', 'kwamba', 'litalazimika', 'kuahirisha', 'safari', 'zake', 'kutoka', 'mjini', 'Dar', 'es', 'Salaam', 'kuelekea', 'China', ',', 'kutokana', 'na', 'wasiwasi', 'kuhusu', 'kuenea', 'kwa', 'virusi', 'vya', 'Corona', 'ambavyo', 'vimewaua', 'watu', '133', 'kulingana', 'na', 'chombo', 'cha', 'habari', 'cha', 'Reuters', '.', 'Air', 'Tanzania', 'ilikuwa', 'imepanga', 'kuanzisha', 'safari', 'za', 'kuelekea', 'China', 'mwezi', 'ujao', 'kabla', 'ya', 'uzinduzi', 'wake', 'wa', 'safari', 'za', 'kila', 'siku', 'hadi', 'katika', 'soko', 'hilo', 'muhimu', 'la', 'utalii', 'barani', 'Asia', '.', \"''Tayari\", 'tumepokea', 'kibali', 'kuanza', 'safari', 'zetu', 'kuelekea', 'China', \"''\", ',', 'alisema', 'mkurungezi', 'wa', 'shirika', 'hilo', 'la', 'serikali', 'Ladislaus', 'Matindi', 'akizungumza', 'na', 'chombo', 'cha', 'habari', 'cha', 'Reuters', '.']\n",
      "\n",
      " Number of Words:  419\n"
     ]
    }
   ],
   "source": [
    "file=\"20jan31_1.txt\"\n",
    "\n",
    "# calling the function and storing the contents in a text variable \n",
    "text = get_document(\"https://www.bbc.com/swahili/51322272\")\n",
    "\n",
    "# calling the store_ document function \n",
    "store_document(doc=text,name=file)\n",
    "\n",
    "#add the words in this file to the total_corpus_words, to keep count of the number of words in the corpus\n",
    "total_corpus_words+=total_words(file)"
   ]
  },
  {
   "cell_type": "code",
   "execution_count": 182,
   "metadata": {},
   "outputs": [
    {
     "data": {
      "text/plain": [
       "193619"
      ]
     },
     "execution_count": 182,
     "metadata": {},
     "output_type": "execute_result"
    }
   ],
   "source": [
    "total_corpus_words"
   ]
  },
  {
   "cell_type": "code",
   "execution_count": 183,
   "metadata": {},
   "outputs": [
    {
     "name": "stdout",
     "output_type": "stream",
     "text": [
      "['Huduma', 'Namba', 'Kenya', ':', 'Mahakama', 'yaizuia', 'serikali', 'kwa', 'kuhofia', 'usalama', 'wa', 'taarifa', 'binafsi', '31', 'Januari', '2020', 'Chanzo', 'cha', 'picha', ',', 'AFP', 'Maelezo', 'ya', 'picha', ',', 'The', 'government', 'said', 'it', 'was', 'mandatory', 'to', 'register', 'for', 'a', 'Huduma', 'Namba', 'Mahakama', 'Kuu', 'nchini', 'Kenya', 'imesitisha', 'mpango', 'tata', 'wa', 'utambulisho', 'maalum', 'unaofahamika', 'kama', 'Huduma', 'Namba', 'hadi', 'pale', 'sheria', 'ya', 'kulinda', 'data', 'ya', 'watu', 'binafsi', 'itakapoanza', 'kutekelezwa', '.', 'Maelezo', 'binafsi', 'kama', 'vile', ',', 'mahali', 'unapoishi', ',', 'kuchukuliwa', 'kwa', 'alama', 'ya', 'vidole', 'na', 'kazi', 'mtu', 'anayofanya', ',', 'ilichukuliwa', 'mwaka', 'jana', '.', 'Wazo', 'lilikuwa', 'kusawazisha', 'data', 'ya', 'mtu', 'kama', 'iliyohifadhiwa', 'na', 'serikali', 'na', 'kuiweka', 'pamoja', 'katika', 'kitambulisho', 'kimoja', '.', 'Jaji', 'aliamua', 'kwamba', 'hatua', 'hiyo', 'inakiuka', 'sheria', 'kwa', 'kila', 'namna', 'ikiwa', 'maelezo', 'ya', 'watu', 'binafsi', 'hayatapewa', 'ulinzi', 'wa', 'kutosha', '.', 'Sheria', 'ya', 'kulinda', 'data', 'iliyopitishwa', 'mwezi', 'Novemba', 'mwaka', '2019', ',', 'italazimika', 'kubuniwa', 'katika', 'tume', 'itakayolinda', 'taarifa', 'binafsi', 'za', 'watu', '.', 'Lakini', 'haijabainika', 'tume', 'hiyo', 'itabuniwa', 'lini', 'na', 'mkuu', 'wake', 'atateuliwa', 'lini', 'ili', 'ianze', 'kutekeleza', 'majukumu', 'yake', 'kwa', 'mujibu', 'wa', 'ripoti', 'ya', 'mwandishi', 'wa', 'BBC', 'Ferdinand', 'Omondi', 'kutoka', 'mji', 'mkuu', 'wa', 'Nairobi', '.', 'Chanzo', 'cha', 'picha', ',', 'Getty', 'Images', 'Maelezo', 'ya', 'picha', ',', 'Alama', 'ya', 'vidole', 'ya', 'mtu', 'ilichukuliwa', 'wakati', 'wa', 'usajili', 'wa', 'Huduma', 'Namba', 'mwaka', 'uliopita', 'Hadi', 'wakati', 'huo', 'mpango', 'huo', 'wa', 'Hudma', 'Namba', ',', 'umesitishwa', 'na', 'jo0po', 'la', 'majaji', 'watatu', '.', 'Majaji', 'walisema', 'nini', '?', 'Kwa', 'kuwa', 'taarifa', 'zote', 'muhimu', 'za', 'watu', 'zitapatikana', 'kwa', 'kubofya', 'kompyuta', ',', 'walisema', 'kwamba', 'Wakenya', 'wataathiriwa', 'vibaya', 'ikiwa', 'maelezo', 'hayo', 'yatatumika', 'vibaya', '.', 'Majajji', 'pia', 'waliamua', 'kwamba', 'ikiwa', 'chembe', 'chembe', 'za', 'vinasaba', 'DNA', ',', 'zitachukuliwa', 'na', 'kutumia', 'GPS', ',', 'mfumo', 'wa', 'kutambua', 'nyumbani', 'kwa', 'mtu', 'utakuwa', 'ni', 'kuingilia', 'faragha', 'yake', 'na', 'kuongeza', 'kwamba', 'hatua', 'hiyo', 'inakiuka', 'katiba', '.', 'Kesi', 'hiyo', 'iliwasilishwa', 'mahakamani', 'na', 'Tume', 'ya', 'kitaifa', 'kutetea', 'haki', 'za', 'binadamu', 'nchini', 'Kenya', '(', 'KNCHR', ')', ',', 'Tume', 'ya', 'Kenya', 'ya', 'kutetea', 'haki', 'za', 'binadamu', '(', 'KHRC', ')', ',', 'na', 'kundi', 'la', 'kutetea', 'haki', 'ya', 'jamii', 'ya', 'Wanubi', 'nchini', 'Kenya', '.', 'Jamii', 'ya', 'Wanubi', 'ambayo', 'imekuwa', 'ikiishi', 'katika', 'mtaa', 'wa', 'Kibera-', 'viungani', 'mwa', 'mji', 'wa', 'Nairobi-', 'kwa', 'zaidi', 'ya', 'karne', 'moja', ',', 'imekuwa', 'ikikabiliwa', 'na', 'changamoto', 'ya', 'kupata', 'uraia', 'wa', 'Kenya', 'kwa', 'sababu', 'waliletwa', 'na', 'utawala', 'wa', 'kikoloni', 'wa', 'Uingereza', 'kutoka', 'Sudan', '.', 'Hii', 'inamaanisha', 'watu', 'wengi', 'kutoka', 'jamii', 'hiyo', 'hawakusajiliwa', 'kupata', 'Huduma', 'Namba', 'kwasababu', 'wengi', 'wao', 'hawana', 'vitambulisho', 'vya', 'kitaifa', 'Walikuwa', 'wanataka', 'mpango', 'huo', 'mzima', 'ufutiliwe', 'mbali', 'kwasababu', 'serikali', 'inasema', 'watu', 'watahitajika', 'kuwa', 'na', 'kitambulisho', 'cha', 'Huduma', 'Namba', 'kupata', 'huduma', 'katika', 'ofisi', 'za', 'umma', 'siku', 'zijazo', '.', 'Uamuzi', 'huu', 'unaacha', 'wapi', 'hatima', 'ya', 'utambulisho', 'wa', 'kidijitali', '?', 'Kesi', 'dhidi', 'ya', 'Huduma', 'Namba', 'inaangazia', 'masuala', 'yanayozunguka', 'hofu', 'ya', 'watu', 'wanaohofiwa', 'kutengwa', 'katika', 'jamii', 'na', 'pia', 'hatari', 'inayozunguka', 'suala', 'zima', 'la', 'kuhifadhi', 'data', 'katika', 'mfumo', 'wa', 'kidijitali', '.', 'Lakini', 'wataalamu', 'wa', 'masuala', 'ya', 'kidijitali', 'nchini', 'Kenya', 'wanasema', 'ipo', 'haja', 'ya', 'kutafakari', 'kwa', 'kina', 'baadhi', 'ya', 'hoja', 'zinazoibuliwa', 'na', 'mfumo', 'huo', 'wa', 'utambulisho', 'ambazo', 'zimechangia', 'kuwasilishwa', 'kwa', 'kesi', 'ya', 'kupinga', 'mfumo', 'huo', 'hata', 'kabla', 'mpango', 'wenyewe', 'kuanza', 'kutekelezwa', '.', \"''Tunahitaji\", 'kutathmini', 'lengo', 'halisi', 'la', 'mpango', 'huo', 'ni', 'nini', 'hasa-', 'kuna', \"''\", 'umuhimu', 'gani', \"''\", 'kuwa', 'na', 'kitambulisho', 'cha', 'Huduma', \"''\", ',', 'alisema', 'mmoja', 'wa', 'wachanganuzi', 'wa', 'masuala', 'ya', 'kisiasa', 'nchini', 'Kenya', 'ambaye', 'hakutaka', 'kutambulishwa', '.']\n",
      "\n",
      " Number of Words:  520\n"
     ]
    }
   ],
   "source": [
    "file=\"20jan31_2.txt\"\n",
    "\n",
    "# calling the function and storing the contents in a text variable \n",
    "text = get_document(\"https://www.bbc.com/swahili/habari-51329503\")\n",
    "\n",
    "# calling the store_ document function \n",
    "store_document(doc=text,name=file)\n",
    "\n",
    "#add the words in this file to the total_corpus_words, to keep count of the number of words in the corpus\n",
    "total_corpus_words+=total_words(file)"
   ]
  },
  {
   "cell_type": "code",
   "execution_count": 184,
   "metadata": {},
   "outputs": [
    {
     "data": {
      "text/plain": [
       "194139"
      ]
     },
     "execution_count": 184,
     "metadata": {},
     "output_type": "execute_result"
    }
   ],
   "source": [
    "total_corpus_words"
   ]
  },
  {
   "cell_type": "code",
   "execution_count": null,
   "metadata": {},
   "outputs": [],
   "source": []
  }
 ],
 "metadata": {
  "kernelspec": {
   "display_name": "Python 3",
   "language": "python",
   "name": "python3"
  },
  "language_info": {
   "codemirror_mode": {
    "name": "ipython",
    "version": 3
   },
   "file_extension": ".py",
   "mimetype": "text/x-python",
   "name": "python",
   "nbconvert_exporter": "python",
   "pygments_lexer": "ipython3",
   "version": "3.8.3"
  }
 },
 "nbformat": 4,
 "nbformat_minor": 4
}
