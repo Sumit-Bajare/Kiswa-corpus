{
 "cells": [
  {
   "cell_type": "code",
   "execution_count": 8,
   "metadata": {},
   "outputs": [],
   "source": [
    "# Importing the required Libraries and packages\n",
    "import pandas as pd \n",
    "import numpy as np\n",
    "import seaborn as sns\n",
    "import matplotlib.pyplot as plt\n",
    "import os\n",
    "from nltk import word_tokenize\n",
    "import string\n",
    "import re\n",
    "import nltk"
   ]
  },
  {
   "cell_type": "code",
   "execution_count": 9,
   "metadata": {},
   "outputs": [],
   "source": [
    "from nltk.tokenize import sent_tokenize, word_tokenize"
   ]
  },
  {
   "cell_type": "code",
   "execution_count": 11,
   "metadata": {},
   "outputs": [
    {
     "data": {
      "text/plain": [
       "'/Users/sumitbajare/Documents/Sussex/Project/model'"
      ]
     },
     "execution_count": 11,
     "metadata": {},
     "output_type": "execute_result"
    }
   ],
   "source": [
    "os.getcwd()"
   ]
  },
  {
   "cell_type": "code",
   "execution_count": 12,
   "metadata": {},
   "outputs": [],
   "source": [
    "os.chdir('/Users/sumitbajare/Documents/Sussex/Project')"
   ]
  },
  {
   "cell_type": "code",
   "execution_count": 13,
   "metadata": {},
   "outputs": [
    {
     "data": {
      "text/html": [
       "<div>\n",
       "<style scoped>\n",
       "    .dataframe tbody tr th:only-of-type {\n",
       "        vertical-align: middle;\n",
       "    }\n",
       "\n",
       "    .dataframe tbody tr th {\n",
       "        vertical-align: top;\n",
       "    }\n",
       "\n",
       "    .dataframe thead th {\n",
       "        text-align: right;\n",
       "    }\n",
       "</style>\n",
       "<table border=\"1\" class=\"dataframe\">\n",
       "  <thead>\n",
       "    <tr style=\"text-align: right;\">\n",
       "      <th></th>\n",
       "      <th>date</th>\n",
       "      <th>id</th>\n",
       "      <th>news_heading_eng</th>\n",
       "      <th>news_heading_swa</th>\n",
       "      <th>news_type</th>\n",
       "    </tr>\n",
       "  </thead>\n",
       "  <tbody>\n",
       "    <tr>\n",
       "      <th>0</th>\n",
       "      <td>2021-08-12</td>\n",
       "      <td>bbc567</td>\n",
       "      <td>william ruto : a chicken seller who rose throu...</td>\n",
       "      <td>william ruto : mchuuzi wa kuku aliyepanda vyeo...</td>\n",
       "      <td>Local News</td>\n",
       "    </tr>\n",
       "    <tr>\n",
       "      <th>1</th>\n",
       "      <td>2021-05-23</td>\n",
       "      <td>tl1446</td>\n",
       "      <td>the number of young people in agriculture and ...</td>\n",
       "      <td>idadi ya vijana katika kilimo na ufugaji wa wa...</td>\n",
       "      <td>Local News</td>\n",
       "    </tr>\n",
       "    <tr>\n",
       "      <th>2</th>\n",
       "      <td>2021-10-20</td>\n",
       "      <td>tl1056</td>\n",
       "      <td>the court was told how a woman stole from a bu...</td>\n",
       "      <td>mahakama ilielezwa jinsi mwanamke alivyoiba ku...</td>\n",
       "      <td>Local News</td>\n",
       "    </tr>\n",
       "    <tr>\n",
       "      <th>3</th>\n",
       "      <td>2021-07-20</td>\n",
       "      <td>tl539</td>\n",
       "      <td>man accused of rape .</td>\n",
       "      <td>mtuhumiwa wa ubakaji .</td>\n",
       "      <td>Local News</td>\n",
       "    </tr>\n",
       "    <tr>\n",
       "      <th>4</th>\n",
       "      <td>2021-03-07</td>\n",
       "      <td>tl1670</td>\n",
       "      <td>uhuru orders kdf land to be returned to the sa...</td>\n",
       "      <td>uhuru aagiza ardhi ya kdf irejeshwe kwa jamii ...</td>\n",
       "      <td>Local News</td>\n",
       "    </tr>\n",
       "  </tbody>\n",
       "</table>\n",
       "</div>"
      ],
      "text/plain": [
       "         date      id                                   news_heading_eng  \\\n",
       "0  2021-08-12  bbc567  william ruto : a chicken seller who rose throu...   \n",
       "1  2021-05-23  tl1446  the number of young people in agriculture and ...   \n",
       "2  2021-10-20  tl1056  the court was told how a woman stole from a bu...   \n",
       "3  2021-07-20   tl539                              man accused of rape .   \n",
       "4  2021-03-07  tl1670  uhuru orders kdf land to be returned to the sa...   \n",
       "\n",
       "                                    news_heading_swa   news_type  \n",
       "0  william ruto : mchuuzi wa kuku aliyepanda vyeo...  Local News  \n",
       "1  idadi ya vijana katika kilimo na ufugaji wa wa...  Local News  \n",
       "2  mahakama ilielezwa jinsi mwanamke alivyoiba ku...  Local News  \n",
       "3                             mtuhumiwa wa ubakaji .  Local News  \n",
       "4  uhuru aagiza ardhi ya kdf irejeshwe kwa jamii ...  Local News  "
      ]
     },
     "execution_count": 13,
     "metadata": {},
     "output_type": "execute_result"
    }
   ],
   "source": [
    "# Loading the Kiswa corpus Training dataset for processing\n",
    "data = pd.read_csv(\"data/kiswa_train.csv\")\n",
    "# preview the top 5 rows of the dataset\n",
    "data.head()"
   ]
  },
  {
   "cell_type": "code",
   "execution_count": 14,
   "metadata": {},
   "outputs": [
    {
     "data": {
      "text/html": [
       "<div>\n",
       "<style scoped>\n",
       "    .dataframe tbody tr th:only-of-type {\n",
       "        vertical-align: middle;\n",
       "    }\n",
       "\n",
       "    .dataframe tbody tr th {\n",
       "        vertical-align: top;\n",
       "    }\n",
       "\n",
       "    .dataframe thead th {\n",
       "        text-align: right;\n",
       "    }\n",
       "</style>\n",
       "<table border=\"1\" class=\"dataframe\">\n",
       "  <thead>\n",
       "    <tr style=\"text-align: right;\">\n",
       "      <th></th>\n",
       "      <th>date</th>\n",
       "      <th>id</th>\n",
       "      <th>news_heading_eng</th>\n",
       "      <th>news_heading_swa</th>\n",
       "      <th>news_type</th>\n",
       "    </tr>\n",
       "  </thead>\n",
       "  <tbody>\n",
       "    <tr>\n",
       "      <th>0</th>\n",
       "      <td>2021-08-12</td>\n",
       "      <td>bbc567</td>\n",
       "      <td>william ruto : a chicken seller who rose throu...</td>\n",
       "      <td>william ruto : mchuuzi wa kuku aliyepanda vyeo...</td>\n",
       "      <td>Local News</td>\n",
       "    </tr>\n",
       "    <tr>\n",
       "      <th>1</th>\n",
       "      <td>2021-05-23</td>\n",
       "      <td>tl1446</td>\n",
       "      <td>the number of young people in agriculture and ...</td>\n",
       "      <td>idadi ya vijana katika kilimo na ufugaji wa wa...</td>\n",
       "      <td>Local News</td>\n",
       "    </tr>\n",
       "    <tr>\n",
       "      <th>2</th>\n",
       "      <td>2021-10-20</td>\n",
       "      <td>tl1056</td>\n",
       "      <td>the court was told how a woman stole from a bu...</td>\n",
       "      <td>mahakama ilielezwa jinsi mwanamke alivyoiba ku...</td>\n",
       "      <td>Local News</td>\n",
       "    </tr>\n",
       "    <tr>\n",
       "      <th>3</th>\n",
       "      <td>2021-07-20</td>\n",
       "      <td>tl539</td>\n",
       "      <td>man accused of rape .</td>\n",
       "      <td>mtuhumiwa wa ubakaji .</td>\n",
       "      <td>Local News</td>\n",
       "    </tr>\n",
       "    <tr>\n",
       "      <th>4</th>\n",
       "      <td>2021-03-07</td>\n",
       "      <td>tl1670</td>\n",
       "      <td>uhuru orders kdf land to be returned to the sa...</td>\n",
       "      <td>uhuru aagiza ardhi ya kdf irejeshwe kwa jamii ...</td>\n",
       "      <td>Local News</td>\n",
       "    </tr>\n",
       "  </tbody>\n",
       "</table>\n",
       "</div>"
      ],
      "text/plain": [
       "         date      id                                   news_heading_eng  \\\n",
       "0  2021-08-12  bbc567  william ruto : a chicken seller who rose throu...   \n",
       "1  2021-05-23  tl1446  the number of young people in agriculture and ...   \n",
       "2  2021-10-20  tl1056  the court was told how a woman stole from a bu...   \n",
       "3  2021-07-20   tl539                              man accused of rape .   \n",
       "4  2021-03-07  tl1670  uhuru orders kdf land to be returned to the sa...   \n",
       "\n",
       "                                    news_heading_swa   news_type  \n",
       "0  william ruto : mchuuzi wa kuku aliyepanda vyeo...  Local News  \n",
       "1  idadi ya vijana katika kilimo na ufugaji wa wa...  Local News  \n",
       "2  mahakama ilielezwa jinsi mwanamke alivyoiba ku...  Local News  \n",
       "3                             mtuhumiwa wa ubakaji .  Local News  \n",
       "4  uhuru aagiza ardhi ya kdf irejeshwe kwa jamii ...  Local News  "
      ]
     },
     "execution_count": 14,
     "metadata": {},
     "output_type": "execute_result"
    }
   ],
   "source": [
    "data.head()"
   ]
  },
  {
   "cell_type": "code",
   "execution_count": 6,
   "metadata": {},
   "outputs": [
    {
     "name": "stdout",
     "output_type": "stream",
     "text": [
      "<class 'pandas.core.frame.DataFrame'>\n",
      "RangeIndex: 2233 entries, 0 to 2232\n",
      "Data columns (total 5 columns):\n",
      " #   Column            Non-Null Count  Dtype \n",
      "---  ------            --------------  ----- \n",
      " 0   date              2233 non-null   object\n",
      " 1   id                2233 non-null   object\n",
      " 2   news_heading_eng  2233 non-null   object\n",
      " 3   news_heading_swa  2232 non-null   object\n",
      " 4   news_type         2233 non-null   object\n",
      "dtypes: object(5)\n",
      "memory usage: 87.4+ KB\n"
     ]
    }
   ],
   "source": [
    "data.info()"
   ]
  },
  {
   "cell_type": "code",
   "execution_count": 7,
   "metadata": {},
   "outputs": [
    {
     "data": {
      "text/plain": [
       "(2233, 5)"
      ]
     },
     "execution_count": 7,
     "metadata": {},
     "output_type": "execute_result"
    }
   ],
   "source": [
    "data.shape"
   ]
  },
  {
   "cell_type": "code",
   "execution_count": 8,
   "metadata": {},
   "outputs": [],
   "source": [
    "def clean_text(sentence):\n",
    "    '''\n",
    "        This function cleans the column\n",
    "    '''\n",
    "    sentence = sentence.lower()                #convert text to lower-case\n",
    "    sentence = re.sub('[‘’“”…,]', '', sentence) # remove punctuation\n",
    "    sentence = re.sub('[()]', '', sentence)  #remove parentheses\n",
    "    sentence = word_tokenize(sentence)      # remove repeated characters (tanzaniaaaaaaaa to tanzania)\n",
    "    \n",
    "    return ' '.join(sentence)"
   ]
  },
  {
   "cell_type": "code",
   "execution_count": 9,
   "metadata": {},
   "outputs": [],
   "source": [
    "# converting the float into string. \n",
    "data = data.astype(str)"
   ]
  },
  {
   "cell_type": "code",
   "execution_count": 10,
   "metadata": {},
   "outputs": [
    {
     "data": {
      "text/html": [
       "<div>\n",
       "<style scoped>\n",
       "    .dataframe tbody tr th:only-of-type {\n",
       "        vertical-align: middle;\n",
       "    }\n",
       "\n",
       "    .dataframe tbody tr th {\n",
       "        vertical-align: top;\n",
       "    }\n",
       "\n",
       "    .dataframe thead th {\n",
       "        text-align: right;\n",
       "    }\n",
       "</style>\n",
       "<table border=\"1\" class=\"dataframe\">\n",
       "  <thead>\n",
       "    <tr style=\"text-align: right;\">\n",
       "      <th></th>\n",
       "      <th>date</th>\n",
       "      <th>id</th>\n",
       "      <th>news_heading_eng</th>\n",
       "      <th>news_heading_swa</th>\n",
       "      <th>news_type</th>\n",
       "    </tr>\n",
       "  </thead>\n",
       "  <tbody>\n",
       "    <tr>\n",
       "      <th>0</th>\n",
       "      <td>2021-08-12</td>\n",
       "      <td>bbc567</td>\n",
       "      <td>william ruto : a chicken seller who rose throu...</td>\n",
       "      <td>william ruto : mchuuzi wa kuku aliyepanda vyeo...</td>\n",
       "      <td>Local News</td>\n",
       "    </tr>\n",
       "    <tr>\n",
       "      <th>1</th>\n",
       "      <td>2021-05-23</td>\n",
       "      <td>tl1446</td>\n",
       "      <td>the number of young people in agriculture and ...</td>\n",
       "      <td>idadi ya vijana katika kilimo na ufugaji wa wa...</td>\n",
       "      <td>Local News</td>\n",
       "    </tr>\n",
       "    <tr>\n",
       "      <th>2</th>\n",
       "      <td>2021-10-20</td>\n",
       "      <td>tl1056</td>\n",
       "      <td>the court was told how a woman stole from a bu...</td>\n",
       "      <td>mahakama ilielezwa jinsi mwanamke alivyoiba ku...</td>\n",
       "      <td>Local News</td>\n",
       "    </tr>\n",
       "    <tr>\n",
       "      <th>3</th>\n",
       "      <td>2021-07-20</td>\n",
       "      <td>tl539</td>\n",
       "      <td>man accused of rape .</td>\n",
       "      <td>mtuhumiwa wa ubakaji .</td>\n",
       "      <td>Local News</td>\n",
       "    </tr>\n",
       "    <tr>\n",
       "      <th>4</th>\n",
       "      <td>2021-03-07</td>\n",
       "      <td>tl1670</td>\n",
       "      <td>uhuru orders kdf land to be returned to the sa...</td>\n",
       "      <td>uhuru aagiza ardhi ya kdf irejeshwe kwa jamii ...</td>\n",
       "      <td>Local News</td>\n",
       "    </tr>\n",
       "  </tbody>\n",
       "</table>\n",
       "</div>"
      ],
      "text/plain": [
       "         date      id                                   news_heading_eng  \\\n",
       "0  2021-08-12  bbc567  william ruto : a chicken seller who rose throu...   \n",
       "1  2021-05-23  tl1446  the number of young people in agriculture and ...   \n",
       "2  2021-10-20  tl1056  the court was told how a woman stole from a bu...   \n",
       "3  2021-07-20   tl539                              man accused of rape .   \n",
       "4  2021-03-07  tl1670  uhuru orders kdf land to be returned to the sa...   \n",
       "\n",
       "                                    news_heading_swa   news_type  \n",
       "0  william ruto : mchuuzi wa kuku aliyepanda vyeo...  Local News  \n",
       "1  idadi ya vijana katika kilimo na ufugaji wa wa...  Local News  \n",
       "2  mahakama ilielezwa jinsi mwanamke alivyoiba ku...  Local News  \n",
       "3                             mtuhumiwa wa ubakaji .  Local News  \n",
       "4  uhuru aagiza ardhi ya kdf irejeshwe kwa jamii ...  Local News  "
      ]
     },
     "execution_count": 10,
     "metadata": {},
     "output_type": "execute_result"
    }
   ],
   "source": [
    "# calling the clean_text function on news_heading_swa\n",
    "data['news_heading_swa'] = data['news_heading_swa'].apply(clean_text) \n",
    "data['news_heading_eng'] = data['news_heading_eng'].apply(clean_text) \n",
    "data.head()"
   ]
  },
  {
   "cell_type": "code",
   "execution_count": 11,
   "metadata": {},
   "outputs": [
    {
     "data": {
      "text/plain": [
       "(1987, 246)"
      ]
     },
     "execution_count": 11,
     "metadata": {},
     "output_type": "execute_result"
    }
   ],
   "source": [
    "# Spliting the data into training and validation\n",
    "df = data[['news_type', 'news_heading_swa']] \n",
    "SEED = 2020\n",
    "df_train = df.sample(frac=0.89, random_state=SEED)\n",
    "df_test = df.drop(df_train.index)\n",
    "len(df_train), len(df_test)"
   ]
  },
  {
   "cell_type": "code",
   "execution_count": 14,
   "metadata": {},
   "outputs": [
    {
     "name": "stdout",
     "output_type": "stream",
     "text": [
      "preprocessing train...\n",
      "language: sw\n",
      "train sequence lengths:\n",
      "\tmean : 10\n",
      "\t95percentile : 16\n",
      "\t99percentile : 19\n"
     ]
    },
    {
     "data": {
      "text/html": [
       "\n",
       "<style>\n",
       "    /* Turns off some styling */\n",
       "    progress {\n",
       "        /* gets rid of default border in Firefox and Opera. */\n",
       "        border: none;\n",
       "        /* Needs to be in here for Safari polyfill so background images work as expected. */\n",
       "        background-size: auto;\n",
       "    }\n",
       "    progress:not([value]), progress:not([value])::-webkit-progress-bar {\n",
       "        background: repeating-linear-gradient(45deg, #7e7e7e, #7e7e7e 10px, #5c5c5c 10px, #5c5c5c 20px);\n",
       "    }\n",
       "    .progress-bar-interrupted, .progress-bar-interrupted::-webkit-progress-bar {\n",
       "        background: #F44336;\n",
       "    }\n",
       "</style>\n"
      ],
      "text/plain": [
       "<IPython.core.display.HTML object>"
      ]
     },
     "metadata": {},
     "output_type": "display_data"
    },
    {
     "data": {
      "text/html": [],
      "text/plain": [
       "<IPython.core.display.HTML object>"
      ]
     },
     "metadata": {},
     "output_type": "display_data"
    },
    {
     "name": "stdout",
     "output_type": "stream",
     "text": [
      "Is Multi-Label? False\n",
      "preprocessing test...\n",
      "language: sw\n",
      "test sequence lengths:\n",
      "\tmean : 10\n",
      "\t95percentile : 15\n",
      "\t99percentile : 18\n"
     ]
    },
    {
     "data": {
      "text/html": [
       "\n",
       "<style>\n",
       "    /* Turns off some styling */\n",
       "    progress {\n",
       "        /* gets rid of default border in Firefox and Opera. */\n",
       "        border: none;\n",
       "        /* Needs to be in here for Safari polyfill so background images work as expected. */\n",
       "        background-size: auto;\n",
       "    }\n",
       "    progress:not([value]), progress:not([value])::-webkit-progress-bar {\n",
       "        background: repeating-linear-gradient(45deg, #7e7e7e, #7e7e7e 10px, #5c5c5c 10px, #5c5c5c 20px);\n",
       "    }\n",
       "    .progress-bar-interrupted, .progress-bar-interrupted::-webkit-progress-bar {\n",
       "        background: #F44336;\n",
       "    }\n",
       "</style>\n"
      ],
      "text/plain": [
       "<IPython.core.display.HTML object>"
      ]
     },
     "metadata": {},
     "output_type": "display_data"
    },
    {
     "data": {
      "text/html": [],
      "text/plain": [
       "<IPython.core.display.HTML object>"
      ]
     },
     "metadata": {},
     "output_type": "display_data"
    },
    {
     "name": "stdout",
     "output_type": "stream",
     "text": [
      "Epoch 1/10\n",
      "32/32 [==============================] - 937s 29s/step - loss: 0.9043 - accuracy: 0.7967 - val_loss: 0.8581 - val_accuracy: 0.7764\n",
      "Epoch 2/10\n",
      "32/32 [==============================] - 895s 28s/step - loss: 0.6712 - accuracy: 0.8249 - val_loss: 0.7783 - val_accuracy: 0.8049\n",
      "Epoch 3/10\n",
      "32/32 [==============================] - 865s 27s/step - loss: 0.5981 - accuracy: 0.8410 - val_loss: 0.6778 - val_accuracy: 0.8130\n",
      "Epoch 4/10\n",
      "32/32 [==============================] - 858s 27s/step - loss: 0.5240 - accuracy: 0.8500 - val_loss: 0.6677 - val_accuracy: 0.8293\n",
      "Epoch 5/10\n",
      "32/32 [==============================] - 862s 27s/step - loss: 0.4181 - accuracy: 0.8908 - val_loss: 0.6665 - val_accuracy: 0.8252\n",
      "Epoch 6/10\n",
      "32/32 [==============================] - 833s 26s/step - loss: 0.3593 - accuracy: 0.9034 - val_loss: 0.6717 - val_accuracy: 0.8293\n",
      "Epoch 7/10\n",
      "32/32 [==============================] - 846s 26s/step - loss: 0.3100 - accuracy: 0.9134 - val_loss: 0.7214 - val_accuracy: 0.8374\n",
      "Epoch 8/10\n",
      "32/32 [==============================] - 842s 26s/step - loss: 0.2648 - accuracy: 0.9225 - val_loss: 0.7396 - val_accuracy: 0.8293\n",
      "Epoch 9/10\n",
      "32/32 [==============================] - 897s 28s/step - loss: 0.1920 - accuracy: 0.9482 - val_loss: 0.6744 - val_accuracy: 0.8537\n",
      "Epoch 10/10\n",
      "32/32 [==============================] - 899s 28s/step - loss: 0.1379 - accuracy: 0.9663 - val_loss: 0.8098 - val_accuracy: 0.8211\n"
     ]
    },
    {
     "data": {
      "text/plain": [
       "<keras.callbacks.History at 0x7fe24a4ee8b0>"
      ]
     },
     "execution_count": 14,
     "metadata": {},
     "output_type": "execute_result"
    }
   ],
   "source": [
    "import ktrain\n",
    "from ktrain import text\n",
    "\n",
    "# selecting transformer to use\n",
    "MODEL_NAME = 'bert-base-multilingual-uncased'\n",
    "\n",
    "# Common hyper-parameters\n",
    "MAXLEN  = 136 # Only consider the first 136 words of each news content\n",
    "batch_size = 64 #  the number of training examples utilised in one iteration.\n",
    "learning_rate = 4e-5 # the amount that the weights are updated during training\n",
    "epochs = 10 # the number of passes of the entire training dataset the algorithm has completed\n",
    "t = text.Transformer(MODEL_NAME, maxlen = MAXLEN)\n",
    "trn = t.preprocess_train(df_train.news_heading_swa.values, df_train.news_type.values)\n",
    "val = t.preprocess_test(df_test.news_heading_swa.values, df_test.news_type.values)\n",
    "model = t.get_classifier()\n",
    "learner = ktrain.get_learner(model, train_data=trn, val_data=val, batch_size=batch_size)\n",
    "learner.fit(learning_rate, epochs)"
   ]
  },
  {
   "cell_type": "code",
   "execution_count": 15,
   "metadata": {},
   "outputs": [
    {
     "name": "stdout",
     "output_type": "stream",
     "text": [
      "preprocessing train...\n",
      "language: sw\n",
      "train sequence lengths:\n",
      "\tmean : 10\n",
      "\t95percentile : 16\n",
      "\t99percentile : 19\n"
     ]
    },
    {
     "data": {
      "text/html": [
       "\n",
       "<style>\n",
       "    /* Turns off some styling */\n",
       "    progress {\n",
       "        /* gets rid of default border in Firefox and Opera. */\n",
       "        border: none;\n",
       "        /* Needs to be in here for Safari polyfill so background images work as expected. */\n",
       "        background-size: auto;\n",
       "    }\n",
       "    progress:not([value]), progress:not([value])::-webkit-progress-bar {\n",
       "        background: repeating-linear-gradient(45deg, #7e7e7e, #7e7e7e 10px, #5c5c5c 10px, #5c5c5c 20px);\n",
       "    }\n",
       "    .progress-bar-interrupted, .progress-bar-interrupted::-webkit-progress-bar {\n",
       "        background: #F44336;\n",
       "    }\n",
       "</style>\n"
      ],
      "text/plain": [
       "<IPython.core.display.HTML object>"
      ]
     },
     "metadata": {},
     "output_type": "display_data"
    },
    {
     "data": {
      "text/html": [],
      "text/plain": [
       "<IPython.core.display.HTML object>"
      ]
     },
     "metadata": {},
     "output_type": "display_data"
    },
    {
     "name": "stdout",
     "output_type": "stream",
     "text": [
      "Is Multi-Label? False\n",
      "preprocessing test...\n",
      "language: sw\n",
      "test sequence lengths:\n",
      "\tmean : 10\n",
      "\t95percentile : 15\n",
      "\t99percentile : 18\n"
     ]
    },
    {
     "data": {
      "text/html": [
       "\n",
       "<style>\n",
       "    /* Turns off some styling */\n",
       "    progress {\n",
       "        /* gets rid of default border in Firefox and Opera. */\n",
       "        border: none;\n",
       "        /* Needs to be in here for Safari polyfill so background images work as expected. */\n",
       "        background-size: auto;\n",
       "    }\n",
       "    progress:not([value]), progress:not([value])::-webkit-progress-bar {\n",
       "        background: repeating-linear-gradient(45deg, #7e7e7e, #7e7e7e 10px, #5c5c5c 10px, #5c5c5c 20px);\n",
       "    }\n",
       "    .progress-bar-interrupted, .progress-bar-interrupted::-webkit-progress-bar {\n",
       "        background: #F44336;\n",
       "    }\n",
       "</style>\n"
      ],
      "text/plain": [
       "<IPython.core.display.HTML object>"
      ]
     },
     "metadata": {},
     "output_type": "display_data"
    },
    {
     "data": {
      "text/html": [],
      "text/plain": [
       "<IPython.core.display.HTML object>"
      ]
     },
     "metadata": {},
     "output_type": "display_data"
    },
    {
     "name": "stdout",
     "output_type": "stream",
     "text": [
      "Epoch 1/10\n",
      "16/16 [==============================] - 1238s 76s/step - loss: 1.1009 - accuracy: 0.6759 - val_loss: 0.9071 - val_accuracy: 0.7764\n",
      "Epoch 2/10\n",
      "16/16 [==============================] - 1183s 74s/step - loss: 0.7978 - accuracy: 0.8032 - val_loss: 0.8854 - val_accuracy: 0.7764\n",
      "Epoch 3/10\n",
      "16/16 [==============================] - 1036s 64s/step - loss: 0.7728 - accuracy: 0.8032 - val_loss: 0.8317 - val_accuracy: 0.7927\n",
      "Epoch 4/10\n",
      "16/16 [==============================] - 1003s 63s/step - loss: 0.6774 - accuracy: 0.8223 - val_loss: 0.7356 - val_accuracy: 0.7927\n",
      "Epoch 5/10\n",
      "16/16 [==============================] - 989s 62s/step - loss: 0.5736 - accuracy: 0.8505 - val_loss: 0.6992 - val_accuracy: 0.8089\n",
      "Epoch 6/10\n",
      "16/16 [==============================] - 969s 61s/step - loss: 0.5055 - accuracy: 0.8656 - val_loss: 0.6987 - val_accuracy: 0.8293\n",
      "Epoch 7/10\n",
      "16/16 [==============================] - 1021s 64s/step - loss: 0.4528 - accuracy: 0.8792 - val_loss: 0.7012 - val_accuracy: 0.7886\n",
      "Epoch 8/10\n",
      "16/16 [==============================] - 962s 60s/step - loss: 0.3768 - accuracy: 0.8968 - val_loss: 0.6954 - val_accuracy: 0.8089\n",
      "Epoch 9/10\n",
      "16/16 [==============================] - 959s 60s/step - loss: 0.3231 - accuracy: 0.9124 - val_loss: 0.6699 - val_accuracy: 0.8252\n",
      "Epoch 10/10\n",
      "16/16 [==============================] - 959s 60s/step - loss: 0.2423 - accuracy: 0.9351 - val_loss: 0.7449 - val_accuracy: 0.8333\n"
     ]
    },
    {
     "data": {
      "text/plain": [
       "<keras.callbacks.History at 0x7fe0453258e0>"
      ]
     },
     "execution_count": 15,
     "metadata": {},
     "output_type": "execute_result"
    }
   ],
   "source": [
    "import ktrain\n",
    "from ktrain import text\n",
    "\n",
    "# selecting transformer to use\n",
    "MODEL_NAME = 'bert-base-multilingual-uncased'\n",
    "\n",
    "# Common hyper-parameters\n",
    "MAXLEN  = 136 # Only consider the first 136 words of each news content\n",
    "batch_size = 128 #  the number of training examples utilised in one iteration.\n",
    "learning_rate = 4e-5 # the amount that the weights are updated during training\n",
    "epochs = 10 # the number of passes of the entire training dataset the algorithm has completed\n",
    "t = text.Transformer(MODEL_NAME, maxlen = MAXLEN)\n",
    "trn = t.preprocess_train(df_train.news_heading_swa.values, df_train.news_type.values)\n",
    "val = t.preprocess_test(df_test.news_heading_swa.values, df_test.news_type.values)\n",
    "model = t.get_classifier()\n",
    "learner = ktrain.get_learner(model, train_data=trn, val_data=val, batch_size=batch_size)\n",
    "learner.fit(learning_rate, epochs)"
   ]
  },
  {
   "cell_type": "code",
   "execution_count": 11,
   "metadata": {},
   "outputs": [
    {
     "name": "stdout",
     "output_type": "stream",
     "text": [
      "preprocessing train...\n",
      "language: sw\n",
      "train sequence lengths:\n",
      "\tmean : 10\n",
      "\t95percentile : 16\n",
      "\t99percentile : 19\n"
     ]
    },
    {
     "data": {
      "text/html": [
       "\n",
       "<style>\n",
       "    /* Turns off some styling */\n",
       "    progress {\n",
       "        /* gets rid of default border in Firefox and Opera. */\n",
       "        border: none;\n",
       "        /* Needs to be in here for Safari polyfill so background images work as expected. */\n",
       "        background-size: auto;\n",
       "    }\n",
       "    progress:not([value]), progress:not([value])::-webkit-progress-bar {\n",
       "        background: repeating-linear-gradient(45deg, #7e7e7e, #7e7e7e 10px, #5c5c5c 10px, #5c5c5c 20px);\n",
       "    }\n",
       "    .progress-bar-interrupted, .progress-bar-interrupted::-webkit-progress-bar {\n",
       "        background: #F44336;\n",
       "    }\n",
       "</style>\n"
      ],
      "text/plain": [
       "<IPython.core.display.HTML object>"
      ]
     },
     "metadata": {},
     "output_type": "display_data"
    },
    {
     "data": {
      "text/html": [],
      "text/plain": [
       "<IPython.core.display.HTML object>"
      ]
     },
     "metadata": {},
     "output_type": "display_data"
    },
    {
     "name": "stdout",
     "output_type": "stream",
     "text": [
      "Is Multi-Label? False\n",
      "preprocessing test...\n",
      "language: sw\n",
      "test sequence lengths:\n",
      "\tmean : 10\n",
      "\t95percentile : 15\n",
      "\t99percentile : 18\n"
     ]
    },
    {
     "data": {
      "text/html": [
       "\n",
       "<style>\n",
       "    /* Turns off some styling */\n",
       "    progress {\n",
       "        /* gets rid of default border in Firefox and Opera. */\n",
       "        border: none;\n",
       "        /* Needs to be in here for Safari polyfill so background images work as expected. */\n",
       "        background-size: auto;\n",
       "    }\n",
       "    progress:not([value]), progress:not([value])::-webkit-progress-bar {\n",
       "        background: repeating-linear-gradient(45deg, #7e7e7e, #7e7e7e 10px, #5c5c5c 10px, #5c5c5c 20px);\n",
       "    }\n",
       "    .progress-bar-interrupted, .progress-bar-interrupted::-webkit-progress-bar {\n",
       "        background: #F44336;\n",
       "    }\n",
       "</style>\n"
      ],
      "text/plain": [
       "<IPython.core.display.HTML object>"
      ]
     },
     "metadata": {},
     "output_type": "display_data"
    },
    {
     "data": {
      "text/html": [],
      "text/plain": [
       "<IPython.core.display.HTML object>"
      ]
     },
     "metadata": {},
     "output_type": "display_data"
    },
    {
     "name": "stdout",
     "output_type": "stream",
     "text": [
      "Epoch 1/10\n",
      "16/16 [==============================] - 1071s 66s/step - loss: 0.9708 - accuracy: 0.7952 - val_loss: 0.9062 - val_accuracy: 0.7764\n",
      "Epoch 2/10\n",
      "16/16 [==============================] - 1050s 65s/step - loss: 0.8026 - accuracy: 0.8032 - val_loss: 0.8995 - val_accuracy: 0.7764\n",
      "Epoch 3/10\n",
      "16/16 [==============================] - 1062s 67s/step - loss: 0.7480 - accuracy: 0.8027 - val_loss: 0.8340 - val_accuracy: 0.7764\n",
      "Epoch 4/10\n",
      "16/16 [==============================] - 1011s 63s/step - loss: 0.6202 - accuracy: 0.8319 - val_loss: 0.7260 - val_accuracy: 0.8171\n",
      "Epoch 5/10\n",
      "16/16 [==============================] - 1063s 66s/step - loss: 0.5098 - accuracy: 0.8646 - val_loss: 0.7195 - val_accuracy: 0.8171\n",
      "Epoch 6/10\n",
      "16/16 [==============================] - 1073s 67s/step - loss: 0.4556 - accuracy: 0.8671 - val_loss: 0.7123 - val_accuracy: 0.8252\n",
      "Epoch 7/10\n",
      "16/16 [==============================] - 1189s 75s/step - loss: 0.3478 - accuracy: 0.8983 - val_loss: 0.6972 - val_accuracy: 0.8211\n",
      "Epoch 8/10\n",
      "16/16 [==============================] - 1227s 77s/step - loss: 0.2713 - accuracy: 0.9260 - val_loss: 0.8115 - val_accuracy: 0.8211\n",
      "Epoch 9/10\n",
      "16/16 [==============================] - 1105s 69s/step - loss: 0.2221 - accuracy: 0.9411 - val_loss: 0.8245 - val_accuracy: 0.8252\n",
      "Epoch 10/10\n",
      "16/16 [==============================] - 1219s 77s/step - loss: 0.1478 - accuracy: 0.9572 - val_loss: 0.8334 - val_accuracy: 0.8130\n"
     ]
    },
    {
     "data": {
      "text/plain": [
       "<keras.callbacks.History at 0x7fd3ee7fd880>"
      ]
     },
     "execution_count": 11,
     "metadata": {},
     "output_type": "execute_result"
    }
   ],
   "source": [
    "import ktrain\n",
    "from ktrain import text\n",
    "\n",
    "# selecting transformer to use\n",
    "MODEL_NAME = 'bert-base-multilingual-uncased'\n",
    "\n",
    "# Common hyper-parameters\n",
    "MAXLEN  = 136 # Only consider the first 136 words of each news content\n",
    "batch_size = 128 #  the number of training examples utilised in one iteration.\n",
    "learning_rate = 5e-5 # the amount that the weights are updated during training\n",
    "epochs = 10 # the number of passes of the entire training dataset the algorithm has completed\n",
    "t = text.Transformer(MODEL_NAME, maxlen = MAXLEN)\n",
    "trn = t.preprocess_train(df_train.news_heading_swa.values, df_train.news_type.values)\n",
    "val = t.preprocess_test(df_test.news_heading_swa.values, df_test.news_type.values)\n",
    "model = t.get_classifier()\n",
    "learner = ktrain.get_learner(model, train_data=trn, val_data=val, batch_size=batch_size)\n",
    "learner.fit(learning_rate, epochs)"
   ]
  },
  {
   "cell_type": "code",
   "execution_count": 12,
   "metadata": {},
   "outputs": [
    {
     "name": "stdout",
     "output_type": "stream",
     "text": [
      "preprocessing train...\n",
      "language: sw\n",
      "train sequence lengths:\n",
      "\tmean : 10\n",
      "\t95percentile : 16\n",
      "\t99percentile : 19\n"
     ]
    },
    {
     "data": {
      "text/html": [
       "\n",
       "<style>\n",
       "    /* Turns off some styling */\n",
       "    progress {\n",
       "        /* gets rid of default border in Firefox and Opera. */\n",
       "        border: none;\n",
       "        /* Needs to be in here for Safari polyfill so background images work as expected. */\n",
       "        background-size: auto;\n",
       "    }\n",
       "    progress:not([value]), progress:not([value])::-webkit-progress-bar {\n",
       "        background: repeating-linear-gradient(45deg, #7e7e7e, #7e7e7e 10px, #5c5c5c 10px, #5c5c5c 20px);\n",
       "    }\n",
       "    .progress-bar-interrupted, .progress-bar-interrupted::-webkit-progress-bar {\n",
       "        background: #F44336;\n",
       "    }\n",
       "</style>\n"
      ],
      "text/plain": [
       "<IPython.core.display.HTML object>"
      ]
     },
     "metadata": {},
     "output_type": "display_data"
    },
    {
     "data": {
      "text/html": [],
      "text/plain": [
       "<IPython.core.display.HTML object>"
      ]
     },
     "metadata": {},
     "output_type": "display_data"
    },
    {
     "name": "stdout",
     "output_type": "stream",
     "text": [
      "Is Multi-Label? False\n",
      "preprocessing test...\n",
      "language: sw\n",
      "test sequence lengths:\n",
      "\tmean : 10\n",
      "\t95percentile : 15\n",
      "\t99percentile : 18\n"
     ]
    },
    {
     "data": {
      "text/html": [
       "\n",
       "<style>\n",
       "    /* Turns off some styling */\n",
       "    progress {\n",
       "        /* gets rid of default border in Firefox and Opera. */\n",
       "        border: none;\n",
       "        /* Needs to be in here for Safari polyfill so background images work as expected. */\n",
       "        background-size: auto;\n",
       "    }\n",
       "    progress:not([value]), progress:not([value])::-webkit-progress-bar {\n",
       "        background: repeating-linear-gradient(45deg, #7e7e7e, #7e7e7e 10px, #5c5c5c 10px, #5c5c5c 20px);\n",
       "    }\n",
       "    .progress-bar-interrupted, .progress-bar-interrupted::-webkit-progress-bar {\n",
       "        background: #F44336;\n",
       "    }\n",
       "</style>\n"
      ],
      "text/plain": [
       "<IPython.core.display.HTML object>"
      ]
     },
     "metadata": {},
     "output_type": "display_data"
    },
    {
     "data": {
      "text/html": [],
      "text/plain": [
       "<IPython.core.display.HTML object>"
      ]
     },
     "metadata": {},
     "output_type": "display_data"
    },
    {
     "name": "stdout",
     "output_type": "stream",
     "text": [
      "Epoch 1/10\n",
      "32/32 [==============================] - 988s 30s/step - loss: 1.0004 - accuracy: 0.7650 - val_loss: 0.9256 - val_accuracy: 0.7764\n",
      "Epoch 2/10\n",
      "32/32 [==============================] - 954s 30s/step - loss: 0.7967 - accuracy: 0.8032 - val_loss: 0.9613 - val_accuracy: 0.7764\n",
      "Epoch 3/10\n",
      "32/32 [==============================] - 905s 28s/step - loss: 0.8053 - accuracy: 0.8032 - val_loss: 0.8502 - val_accuracy: 0.7764\n",
      "Epoch 4/10\n",
      "32/32 [==============================] - 895s 28s/step - loss: 0.7170 - accuracy: 0.8027 - val_loss: 0.7549 - val_accuracy: 0.7886\n",
      "Epoch 5/10\n",
      "32/32 [==============================] - 920s 29s/step - loss: 0.5909 - accuracy: 0.8269 - val_loss: 0.7182 - val_accuracy: 0.7886\n",
      "Epoch 6/10\n",
      "32/32 [==============================] - 980s 31s/step - loss: 0.5063 - accuracy: 0.8520 - val_loss: 0.8008 - val_accuracy: 0.8130\n",
      "Epoch 7/10\n",
      "32/32 [==============================] - 988s 31s/step - loss: 0.4159 - accuracy: 0.8878 - val_loss: 0.7165 - val_accuracy: 0.8049\n",
      "Epoch 8/10\n",
      "32/32 [==============================] - 868s 27s/step - loss: 0.3542 - accuracy: 0.9024 - val_loss: 0.7873 - val_accuracy: 0.8008\n",
      "Epoch 9/10\n",
      "32/32 [==============================] - 1065s 33s/step - loss: 0.3498 - accuracy: 0.8948 - val_loss: 0.8031 - val_accuracy: 0.8252\n",
      "Epoch 10/10\n",
      "32/32 [==============================] - 1058s 33s/step - loss: 0.2204 - accuracy: 0.9456 - val_loss: 0.7693 - val_accuracy: 0.8333\n"
     ]
    },
    {
     "data": {
      "text/plain": [
       "<keras.callbacks.History at 0x7fcdfcef3970>"
      ]
     },
     "execution_count": 12,
     "metadata": {},
     "output_type": "execute_result"
    }
   ],
   "source": [
    "import ktrain\n",
    "from ktrain import text\n",
    "\n",
    "# selecting transformer to use\n",
    "MODEL_NAME = 'bert-base-multilingual-uncased'\n",
    "\n",
    "# Common hyper-parameters\n",
    "MAXLEN  = 136 # Only consider the first 136 words of each news content\n",
    "batch_size = 64 #  the number of training examples utilised in one iteration.\n",
    "learning_rate = 5e-5 # the amount that the weights are updated during training\n",
    "epochs = 10 # the number of passes of the entire training dataset the algorithm has completed\n",
    "t = text.Transformer(MODEL_NAME, maxlen = MAXLEN)\n",
    "trn = t.preprocess_train(df_train.news_heading_swa.values, df_train.news_type.values)\n",
    "val = t.preprocess_test(df_test.news_heading_swa.values, df_test.news_type.values)\n",
    "model = t.get_classifier()\n",
    "learner = ktrain.get_learner(model, train_data=trn, val_data=val, batch_size=batch_size)\n",
    "learner.fit(learning_rate, epochs)"
   ]
  },
  {
   "cell_type": "code",
   "execution_count": 13,
   "metadata": {},
   "outputs": [
    {
     "name": "stdout",
     "output_type": "stream",
     "text": [
      "preprocessing train...\n",
      "language: sw\n",
      "train sequence lengths:\n",
      "\tmean : 10\n",
      "\t95percentile : 16\n",
      "\t99percentile : 19\n"
     ]
    },
    {
     "data": {
      "text/html": [
       "\n",
       "<style>\n",
       "    /* Turns off some styling */\n",
       "    progress {\n",
       "        /* gets rid of default border in Firefox and Opera. */\n",
       "        border: none;\n",
       "        /* Needs to be in here for Safari polyfill so background images work as expected. */\n",
       "        background-size: auto;\n",
       "    }\n",
       "    progress:not([value]), progress:not([value])::-webkit-progress-bar {\n",
       "        background: repeating-linear-gradient(45deg, #7e7e7e, #7e7e7e 10px, #5c5c5c 10px, #5c5c5c 20px);\n",
       "    }\n",
       "    .progress-bar-interrupted, .progress-bar-interrupted::-webkit-progress-bar {\n",
       "        background: #F44336;\n",
       "    }\n",
       "</style>\n"
      ],
      "text/plain": [
       "<IPython.core.display.HTML object>"
      ]
     },
     "metadata": {},
     "output_type": "display_data"
    },
    {
     "data": {
      "text/html": [],
      "text/plain": [
       "<IPython.core.display.HTML object>"
      ]
     },
     "metadata": {},
     "output_type": "display_data"
    },
    {
     "name": "stdout",
     "output_type": "stream",
     "text": [
      "Is Multi-Label? False\n",
      "preprocessing test...\n",
      "language: sw\n",
      "test sequence lengths:\n",
      "\tmean : 10\n",
      "\t95percentile : 15\n",
      "\t99percentile : 18\n"
     ]
    },
    {
     "data": {
      "text/html": [
       "\n",
       "<style>\n",
       "    /* Turns off some styling */\n",
       "    progress {\n",
       "        /* gets rid of default border in Firefox and Opera. */\n",
       "        border: none;\n",
       "        /* Needs to be in here for Safari polyfill so background images work as expected. */\n",
       "        background-size: auto;\n",
       "    }\n",
       "    progress:not([value]), progress:not([value])::-webkit-progress-bar {\n",
       "        background: repeating-linear-gradient(45deg, #7e7e7e, #7e7e7e 10px, #5c5c5c 10px, #5c5c5c 20px);\n",
       "    }\n",
       "    .progress-bar-interrupted, .progress-bar-interrupted::-webkit-progress-bar {\n",
       "        background: #F44336;\n",
       "    }\n",
       "</style>\n"
      ],
      "text/plain": [
       "<IPython.core.display.HTML object>"
      ]
     },
     "metadata": {},
     "output_type": "display_data"
    },
    {
     "data": {
      "text/html": [],
      "text/plain": [
       "<IPython.core.display.HTML object>"
      ]
     },
     "metadata": {},
     "output_type": "display_data"
    },
    {
     "name": "stdout",
     "output_type": "stream",
     "text": [
      "Epoch 1/7\n",
      "63/63 [==============================] - 804s 13s/step - loss: 0.8403 - accuracy: 0.7997 - val_loss: 0.8730 - val_accuracy: 0.7764\n",
      "Epoch 2/7\n",
      "63/63 [==============================] - 796s 13s/step - loss: 0.7037 - accuracy: 0.8052 - val_loss: 0.7761 - val_accuracy: 0.7764\n",
      "Epoch 3/7\n",
      "63/63 [==============================] - 823s 13s/step - loss: 0.6490 - accuracy: 0.8078 - val_loss: 0.7367 - val_accuracy: 0.7886\n",
      "Epoch 4/7\n",
      "63/63 [==============================] - 791s 13s/step - loss: 0.5590 - accuracy: 0.8420 - val_loss: 0.7922 - val_accuracy: 0.7846\n",
      "Epoch 5/7\n",
      "63/63 [==============================] - 759s 12s/step - loss: 0.4782 - accuracy: 0.8702 - val_loss: 0.7222 - val_accuracy: 0.8008\n",
      "Epoch 6/7\n",
      "63/63 [==============================] - 798s 13s/step - loss: 0.3881 - accuracy: 0.8863 - val_loss: 0.7501 - val_accuracy: 0.7561\n",
      "Epoch 7/7\n",
      "63/63 [==============================] - 810s 13s/step - loss: 0.3351 - accuracy: 0.8988 - val_loss: 0.8244 - val_accuracy: 0.8211\n"
     ]
    },
    {
     "data": {
      "text/plain": [
       "<keras.callbacks.History at 0x7fce0c9ce850>"
      ]
     },
     "execution_count": 13,
     "metadata": {},
     "output_type": "execute_result"
    }
   ],
   "source": [
    "import ktrain\n",
    "from ktrain import text\n",
    "\n",
    "# selecting transformer to use\n",
    "MODEL_NAME = 'bert-base-multilingual-uncased'\n",
    "\n",
    "# Common hyper-parameters\n",
    "MAXLEN  = 136 # Only consider the first 136 words of each news content\n",
    "batch_size = 32 #  the number of training examples utilised in one iteration.\n",
    "learning_rate = 5e-5 # the amount that the weights are updated during training\n",
    "epochs = 7 # the number of passes of the entire training dataset the algorithm has completed\n",
    "t = text.Transformer(MODEL_NAME, maxlen = MAXLEN)\n",
    "trn = t.preprocess_train(df_train.news_heading_swa.values, df_train.news_type.values)\n",
    "val = t.preprocess_test(df_test.news_heading_swa.values, df_test.news_type.values)\n",
    "model = t.get_classifier()\n",
    "learner = ktrain.get_learner(model, train_data=trn, val_data=val, batch_size=batch_size)\n",
    "learner.fit(learning_rate, epochs)"
   ]
  },
  {
   "cell_type": "code",
   "execution_count": 14,
   "metadata": {},
   "outputs": [
    {
     "name": "stdout",
     "output_type": "stream",
     "text": [
      "preprocessing train...\n",
      "language: sw\n",
      "train sequence lengths:\n",
      "\tmean : 10\n",
      "\t95percentile : 16\n",
      "\t99percentile : 19\n"
     ]
    },
    {
     "data": {
      "text/html": [
       "\n",
       "<style>\n",
       "    /* Turns off some styling */\n",
       "    progress {\n",
       "        /* gets rid of default border in Firefox and Opera. */\n",
       "        border: none;\n",
       "        /* Needs to be in here for Safari polyfill so background images work as expected. */\n",
       "        background-size: auto;\n",
       "    }\n",
       "    progress:not([value]), progress:not([value])::-webkit-progress-bar {\n",
       "        background: repeating-linear-gradient(45deg, #7e7e7e, #7e7e7e 10px, #5c5c5c 10px, #5c5c5c 20px);\n",
       "    }\n",
       "    .progress-bar-interrupted, .progress-bar-interrupted::-webkit-progress-bar {\n",
       "        background: #F44336;\n",
       "    }\n",
       "</style>\n"
      ],
      "text/plain": [
       "<IPython.core.display.HTML object>"
      ]
     },
     "metadata": {},
     "output_type": "display_data"
    },
    {
     "data": {
      "text/html": [],
      "text/plain": [
       "<IPython.core.display.HTML object>"
      ]
     },
     "metadata": {},
     "output_type": "display_data"
    },
    {
     "name": "stdout",
     "output_type": "stream",
     "text": [
      "Is Multi-Label? False\n",
      "preprocessing test...\n",
      "language: sw\n",
      "test sequence lengths:\n",
      "\tmean : 10\n",
      "\t95percentile : 15\n",
      "\t99percentile : 18\n"
     ]
    },
    {
     "data": {
      "text/html": [
       "\n",
       "<style>\n",
       "    /* Turns off some styling */\n",
       "    progress {\n",
       "        /* gets rid of default border in Firefox and Opera. */\n",
       "        border: none;\n",
       "        /* Needs to be in here for Safari polyfill so background images work as expected. */\n",
       "        background-size: auto;\n",
       "    }\n",
       "    progress:not([value]), progress:not([value])::-webkit-progress-bar {\n",
       "        background: repeating-linear-gradient(45deg, #7e7e7e, #7e7e7e 10px, #5c5c5c 10px, #5c5c5c 20px);\n",
       "    }\n",
       "    .progress-bar-interrupted, .progress-bar-interrupted::-webkit-progress-bar {\n",
       "        background: #F44336;\n",
       "    }\n",
       "</style>\n"
      ],
      "text/plain": [
       "<IPython.core.display.HTML object>"
      ]
     },
     "metadata": {},
     "output_type": "display_data"
    },
    {
     "data": {
      "text/html": [],
      "text/plain": [
       "<IPython.core.display.HTML object>"
      ]
     },
     "metadata": {},
     "output_type": "display_data"
    },
    {
     "name": "stdout",
     "output_type": "stream",
     "text": [
      "Epoch 1/7\n",
      "63/63 [==============================] - 747s 12s/step - loss: 0.8355 - accuracy: 0.7921 - val_loss: 0.8009 - val_accuracy: 0.7886\n",
      "Epoch 2/7\n",
      "63/63 [==============================] - 698s 11s/step - loss: 0.6228 - accuracy: 0.8354 - val_loss: 0.6635 - val_accuracy: 0.8333\n",
      "Epoch 3/7\n",
      "63/63 [==============================] - 697s 11s/step - loss: 0.5396 - accuracy: 0.8591 - val_loss: 0.6546 - val_accuracy: 0.8293\n",
      "Epoch 4/7\n",
      "63/63 [==============================] - 699s 11s/step - loss: 0.4814 - accuracy: 0.8702 - val_loss: 0.7367 - val_accuracy: 0.8293\n",
      "Epoch 5/7\n",
      "63/63 [==============================] - 749s 12s/step - loss: 0.3962 - accuracy: 0.8908 - val_loss: 0.7061 - val_accuracy: 0.8211\n",
      "Epoch 6/7\n",
      "63/63 [==============================] - 1008s 16s/step - loss: 0.3139 - accuracy: 0.9134 - val_loss: 0.6311 - val_accuracy: 0.8415\n",
      "Epoch 7/7\n",
      "63/63 [==============================] - 892s 14s/step - loss: 0.2383 - accuracy: 0.9366 - val_loss: 0.8356 - val_accuracy: 0.8130\n"
     ]
    },
    {
     "data": {
      "text/plain": [
       "<keras.callbacks.History at 0x7fce2a75f8b0>"
      ]
     },
     "execution_count": 14,
     "metadata": {},
     "output_type": "execute_result"
    }
   ],
   "source": [
    "import ktrain\n",
    "from ktrain import text\n",
    "\n",
    "# selecting transformer to use\n",
    "MODEL_NAME = 'bert-base-multilingual-uncased'\n",
    "\n",
    "# Common hyper-parameters\n",
    "MAXLEN  = 136 # Only consider the first 136 words of each news content\n",
    "batch_size = 32 #  the number of training examples utilised in one iteration.\n",
    "learning_rate = 4e-5 # the amount that the weights are updated during training\n",
    "epochs = 7 # the number of passes of the entire training dataset the algorithm has completed\n",
    "t = text.Transformer(MODEL_NAME, maxlen = MAXLEN)\n",
    "trn = t.preprocess_train(df_train.news_heading_swa.values, df_train.news_type.values)\n",
    "val = t.preprocess_test(df_test.news_heading_swa.values, df_test.news_type.values)\n",
    "model = t.get_classifier()\n",
    "learner = ktrain.get_learner(model, train_data=trn, val_data=val, batch_size=batch_size)\n",
    "learner.fit(learning_rate, epochs)"
   ]
  },
  {
   "cell_type": "code",
   "execution_count": 12,
   "metadata": {},
   "outputs": [
    {
     "name": "stdout",
     "output_type": "stream",
     "text": [
      "preprocessing train...\n",
      "language: sw\n",
      "train sequence lengths:\n",
      "\tmean : 10\n",
      "\t95percentile : 16\n",
      "\t99percentile : 19\n"
     ]
    },
    {
     "data": {
      "text/html": [
       "\n",
       "<style>\n",
       "    /* Turns off some styling */\n",
       "    progress {\n",
       "        /* gets rid of default border in Firefox and Opera. */\n",
       "        border: none;\n",
       "        /* Needs to be in here for Safari polyfill so background images work as expected. */\n",
       "        background-size: auto;\n",
       "    }\n",
       "    progress:not([value]), progress:not([value])::-webkit-progress-bar {\n",
       "        background: repeating-linear-gradient(45deg, #7e7e7e, #7e7e7e 10px, #5c5c5c 10px, #5c5c5c 20px);\n",
       "    }\n",
       "    .progress-bar-interrupted, .progress-bar-interrupted::-webkit-progress-bar {\n",
       "        background: #F44336;\n",
       "    }\n",
       "</style>\n"
      ],
      "text/plain": [
       "<IPython.core.display.HTML object>"
      ]
     },
     "metadata": {},
     "output_type": "display_data"
    },
    {
     "data": {
      "text/html": [],
      "text/plain": [
       "<IPython.core.display.HTML object>"
      ]
     },
     "metadata": {},
     "output_type": "display_data"
    },
    {
     "name": "stdout",
     "output_type": "stream",
     "text": [
      "Is Multi-Label? False\n",
      "preprocessing test...\n",
      "language: sw\n",
      "test sequence lengths:\n",
      "\tmean : 10\n",
      "\t95percentile : 15\n",
      "\t99percentile : 18\n"
     ]
    },
    {
     "data": {
      "text/html": [
       "\n",
       "<style>\n",
       "    /* Turns off some styling */\n",
       "    progress {\n",
       "        /* gets rid of default border in Firefox and Opera. */\n",
       "        border: none;\n",
       "        /* Needs to be in here for Safari polyfill so background images work as expected. */\n",
       "        background-size: auto;\n",
       "    }\n",
       "    progress:not([value]), progress:not([value])::-webkit-progress-bar {\n",
       "        background: repeating-linear-gradient(45deg, #7e7e7e, #7e7e7e 10px, #5c5c5c 10px, #5c5c5c 20px);\n",
       "    }\n",
       "    .progress-bar-interrupted, .progress-bar-interrupted::-webkit-progress-bar {\n",
       "        background: #F44336;\n",
       "    }\n",
       "</style>\n"
      ],
      "text/plain": [
       "<IPython.core.display.HTML object>"
      ]
     },
     "metadata": {},
     "output_type": "display_data"
    },
    {
     "data": {
      "text/html": [],
      "text/plain": [
       "<IPython.core.display.HTML object>"
      ]
     },
     "metadata": {},
     "output_type": "display_data"
    },
    {
     "name": "stdout",
     "output_type": "stream",
     "text": [
      "Epoch 1/10\n",
      "63/63 [==============================] - 728s 11s/step - loss: 0.8320 - accuracy: 0.7977 - val_loss: 0.8039 - val_accuracy: 0.7967\n",
      "Epoch 2/10\n",
      "63/63 [==============================] - 675s 11s/step - loss: 0.6237 - accuracy: 0.8344 - val_loss: 0.7235 - val_accuracy: 0.7967\n",
      "Epoch 3/10\n",
      "63/63 [==============================] - 726s 12s/step - loss: 0.5147 - accuracy: 0.8571 - val_loss: 0.6910 - val_accuracy: 0.8089\n",
      "Epoch 4/10\n",
      "63/63 [==============================] - 712s 11s/step - loss: 0.4289 - accuracy: 0.8802 - val_loss: 0.6400 - val_accuracy: 0.8089\n",
      "Epoch 5/10\n",
      "63/63 [==============================] - 700s 11s/step - loss: 0.3604 - accuracy: 0.8918 - val_loss: 0.7147 - val_accuracy: 0.8171\n",
      "Epoch 6/10\n",
      "63/63 [==============================] - 676s 11s/step - loss: 0.2986 - accuracy: 0.9170 - val_loss: 0.7664 - val_accuracy: 0.8089\n",
      "Epoch 7/10\n",
      "63/63 [==============================] - 697s 11s/step - loss: 0.2635 - accuracy: 0.9235 - val_loss: 0.7355 - val_accuracy: 0.8211\n",
      "Epoch 8/10\n",
      "63/63 [==============================] - 726s 12s/step - loss: 0.1981 - accuracy: 0.9446 - val_loss: 0.9257 - val_accuracy: 0.8211\n",
      "Epoch 9/10\n",
      "63/63 [==============================] - 651s 10s/step - loss: 0.1176 - accuracy: 0.9698 - val_loss: 0.8600 - val_accuracy: 0.7967\n",
      "Epoch 10/10\n",
      "63/63 [==============================] - 770s 12s/step - loss: 0.0848 - accuracy: 0.9779 - val_loss: 0.8381 - val_accuracy: 0.8089\n"
     ]
    },
    {
     "data": {
      "text/plain": [
       "<keras.callbacks.History at 0x7fd8c30208b0>"
      ]
     },
     "execution_count": 12,
     "metadata": {},
     "output_type": "execute_result"
    }
   ],
   "source": [
    "import ktrain\n",
    "from ktrain import text\n",
    "\n",
    "# selecting transformer to use\n",
    "MODEL_NAME = 'bert-base-multilingual-uncased'\n",
    "\n",
    "# Common hyper-parameters\n",
    "MAXLEN  = 136 # Only consider the first 136 words of each news content\n",
    "batch_size = 32 #  the number of training examples utilised in one iteration.\n",
    "learning_rate = 4e-5 # the amount that the weights are updated during training\n",
    "epochs = 10 # the number of passes of the entire training dataset the algorithm has completed\n",
    "t = text.Transformer(MODEL_NAME, maxlen = MAXLEN)\n",
    "trn = t.preprocess_train(df_train.news_heading_swa.values, df_train.news_type.values)\n",
    "val = t.preprocess_test(df_test.news_heading_swa.values, df_test.news_type.values)\n",
    "model = t.get_classifier()\n",
    "learner = ktrain.get_learner(model, train_data=trn, val_data=val, batch_size=batch_size)\n",
    "learner.fit(learning_rate, epochs)"
   ]
  },
  {
   "cell_type": "code",
   "execution_count": 14,
   "metadata": {},
   "outputs": [
    {
     "name": "stdout",
     "output_type": "stream",
     "text": [
      "preprocessing train...\n",
      "language: sw\n",
      "train sequence lengths:\n",
      "\tmean : 10\n",
      "\t95percentile : 16\n",
      "\t99percentile : 19\n"
     ]
    },
    {
     "data": {
      "text/html": [
       "\n",
       "<style>\n",
       "    /* Turns off some styling */\n",
       "    progress {\n",
       "        /* gets rid of default border in Firefox and Opera. */\n",
       "        border: none;\n",
       "        /* Needs to be in here for Safari polyfill so background images work as expected. */\n",
       "        background-size: auto;\n",
       "    }\n",
       "    progress:not([value]), progress:not([value])::-webkit-progress-bar {\n",
       "        background: repeating-linear-gradient(45deg, #7e7e7e, #7e7e7e 10px, #5c5c5c 10px, #5c5c5c 20px);\n",
       "    }\n",
       "    .progress-bar-interrupted, .progress-bar-interrupted::-webkit-progress-bar {\n",
       "        background: #F44336;\n",
       "    }\n",
       "</style>\n"
      ],
      "text/plain": [
       "<IPython.core.display.HTML object>"
      ]
     },
     "metadata": {},
     "output_type": "display_data"
    },
    {
     "data": {
      "text/html": [],
      "text/plain": [
       "<IPython.core.display.HTML object>"
      ]
     },
     "metadata": {},
     "output_type": "display_data"
    },
    {
     "name": "stdout",
     "output_type": "stream",
     "text": [
      "Is Multi-Label? False\n",
      "preprocessing test...\n",
      "language: sw\n",
      "test sequence lengths:\n",
      "\tmean : 10\n",
      "\t95percentile : 15\n",
      "\t99percentile : 18\n"
     ]
    },
    {
     "data": {
      "text/html": [
       "\n",
       "<style>\n",
       "    /* Turns off some styling */\n",
       "    progress {\n",
       "        /* gets rid of default border in Firefox and Opera. */\n",
       "        border: none;\n",
       "        /* Needs to be in here for Safari polyfill so background images work as expected. */\n",
       "        background-size: auto;\n",
       "    }\n",
       "    progress:not([value]), progress:not([value])::-webkit-progress-bar {\n",
       "        background: repeating-linear-gradient(45deg, #7e7e7e, #7e7e7e 10px, #5c5c5c 10px, #5c5c5c 20px);\n",
       "    }\n",
       "    .progress-bar-interrupted, .progress-bar-interrupted::-webkit-progress-bar {\n",
       "        background: #F44336;\n",
       "    }\n",
       "</style>\n"
      ],
      "text/plain": [
       "<IPython.core.display.HTML object>"
      ]
     },
     "metadata": {},
     "output_type": "display_data"
    },
    {
     "data": {
      "text/html": [],
      "text/plain": [
       "<IPython.core.display.HTML object>"
      ]
     },
     "metadata": {},
     "output_type": "display_data"
    },
    {
     "name": "stdout",
     "output_type": "stream",
     "text": [
      "Epoch 1/3\n",
      "32/32 [==============================] - 915s 28s/step - loss: 0.9179 - accuracy: 0.7791 - val_loss: 0.8826 - val_accuracy: 0.7764\n",
      "Epoch 2/3\n",
      "32/32 [==============================] - 960s 30s/step - loss: 0.7337 - accuracy: 0.8093 - val_loss: 0.8163 - val_accuracy: 0.7602\n",
      "Epoch 3/3\n",
      "32/32 [==============================] - 948s 30s/step - loss: 0.6398 - accuracy: 0.8254 - val_loss: 0.7482 - val_accuracy: 0.7846\n"
     ]
    },
    {
     "data": {
      "text/plain": [
       "<keras.callbacks.History at 0x7fd72fa61fd0>"
      ]
     },
     "execution_count": 14,
     "metadata": {},
     "output_type": "execute_result"
    }
   ],
   "source": [
    "import ktrain\n",
    "from ktrain import text\n",
    "\n",
    "# selecting transformer to use\n",
    "MODEL_NAME = 'bert-base-multilingual-uncased'\n",
    "\n",
    "# Common hyper-parameters\n",
    "MAXLEN  = 136 # Only consider the first 136 words of each news content\n",
    "batch_size = 64 #  the number of training examples utilised in one iteration.\n",
    "learning_rate = 4e-5 # the amount that the weights are updated during training\n",
    "epochs = 3 # the number of passes of the entire training dataset the algorithm has completed\n",
    "t = text.Transformer(MODEL_NAME, maxlen = MAXLEN)\n",
    "trn = t.preprocess_train(df_train.news_heading_swa.values, df_train.news_type.values)\n",
    "val = t.preprocess_test(df_test.news_heading_swa.values, df_test.news_type.values)\n",
    "model = t.get_classifier()\n",
    "learner = ktrain.get_learner(model, train_data=trn, val_data=val, batch_size=batch_size)\n",
    "learner.fit(learning_rate, epochs)"
   ]
  },
  {
   "cell_type": "code",
   "execution_count": 15,
   "metadata": {},
   "outputs": [
    {
     "name": "stdout",
     "output_type": "stream",
     "text": [
      "preprocessing train...\n",
      "language: sw\n",
      "train sequence lengths:\n",
      "\tmean : 10\n",
      "\t95percentile : 16\n",
      "\t99percentile : 19\n"
     ]
    },
    {
     "data": {
      "text/html": [
       "\n",
       "<style>\n",
       "    /* Turns off some styling */\n",
       "    progress {\n",
       "        /* gets rid of default border in Firefox and Opera. */\n",
       "        border: none;\n",
       "        /* Needs to be in here for Safari polyfill so background images work as expected. */\n",
       "        background-size: auto;\n",
       "    }\n",
       "    progress:not([value]), progress:not([value])::-webkit-progress-bar {\n",
       "        background: repeating-linear-gradient(45deg, #7e7e7e, #7e7e7e 10px, #5c5c5c 10px, #5c5c5c 20px);\n",
       "    }\n",
       "    .progress-bar-interrupted, .progress-bar-interrupted::-webkit-progress-bar {\n",
       "        background: #F44336;\n",
       "    }\n",
       "</style>\n"
      ],
      "text/plain": [
       "<IPython.core.display.HTML object>"
      ]
     },
     "metadata": {},
     "output_type": "display_data"
    },
    {
     "data": {
      "text/html": [],
      "text/plain": [
       "<IPython.core.display.HTML object>"
      ]
     },
     "metadata": {},
     "output_type": "display_data"
    },
    {
     "name": "stdout",
     "output_type": "stream",
     "text": [
      "Is Multi-Label? False\n",
      "preprocessing test...\n",
      "language: sw\n",
      "test sequence lengths:\n",
      "\tmean : 10\n",
      "\t95percentile : 15\n",
      "\t99percentile : 18\n"
     ]
    },
    {
     "data": {
      "text/html": [
       "\n",
       "<style>\n",
       "    /* Turns off some styling */\n",
       "    progress {\n",
       "        /* gets rid of default border in Firefox and Opera. */\n",
       "        border: none;\n",
       "        /* Needs to be in here for Safari polyfill so background images work as expected. */\n",
       "        background-size: auto;\n",
       "    }\n",
       "    progress:not([value]), progress:not([value])::-webkit-progress-bar {\n",
       "        background: repeating-linear-gradient(45deg, #7e7e7e, #7e7e7e 10px, #5c5c5c 10px, #5c5c5c 20px);\n",
       "    }\n",
       "    .progress-bar-interrupted, .progress-bar-interrupted::-webkit-progress-bar {\n",
       "        background: #F44336;\n",
       "    }\n",
       "</style>\n"
      ],
      "text/plain": [
       "<IPython.core.display.HTML object>"
      ]
     },
     "metadata": {},
     "output_type": "display_data"
    },
    {
     "data": {
      "text/html": [],
      "text/plain": [
       "<IPython.core.display.HTML object>"
      ]
     },
     "metadata": {},
     "output_type": "display_data"
    },
    {
     "name": "stdout",
     "output_type": "stream",
     "text": [
      "Epoch 1/3\n",
      "32/32 [==============================] - 933s 29s/step - loss: 0.8706 - accuracy: 0.7977 - val_loss: 0.8731 - val_accuracy: 0.7764\n",
      "Epoch 2/3\n",
      "32/32 [==============================] - 946s 30s/step - loss: 0.6749 - accuracy: 0.8153 - val_loss: 0.7389 - val_accuracy: 0.7967\n",
      "Epoch 3/3\n",
      "32/32 [==============================] - 977s 30s/step - loss: 0.5566 - accuracy: 0.8485 - val_loss: 0.6893 - val_accuracy: 0.8211\n"
     ]
    },
    {
     "data": {
      "text/plain": [
       "<keras.callbacks.History at 0x7fd52f7fc580>"
      ]
     },
     "execution_count": 15,
     "metadata": {},
     "output_type": "execute_result"
    }
   ],
   "source": [
    "import ktrain\n",
    "from ktrain import text\n",
    "\n",
    "# selecting transformer to use\n",
    "MODEL_NAME = 'bert-base-multilingual-uncased'\n",
    "\n",
    "# Common hyper-parameters\n",
    "MAXLEN  = 136 # Only consider the first 136 words of each news content\n",
    "batch_size = 64 #  the number of training examples utilised in one iteration.\n",
    "learning_rate = 5e-5 # the amount that the weights are updated during training\n",
    "epochs = 3 # the number of passes of the entire training dataset the algorithm has completed\n",
    "t = text.Transformer(MODEL_NAME, maxlen = MAXLEN)\n",
    "trn = t.preprocess_train(df_train.news_heading_swa.values, df_train.news_type.values)\n",
    "val = t.preprocess_test(df_test.news_heading_swa.values, df_test.news_type.values)\n",
    "model = t.get_classifier()\n",
    "learner = ktrain.get_learner(model, train_data=trn, val_data=val, batch_size=batch_size)\n",
    "learner.fit(learning_rate, epochs)"
   ]
  },
  {
   "cell_type": "markdown",
   "metadata": {},
   "source": [
    "# Selecting the best model "
   ]
  },
  {
   "cell_type": "code",
   "execution_count": 16,
   "metadata": {},
   "outputs": [
    {
     "name": "stdout",
     "output_type": "stream",
     "text": [
      "preprocessing train...\n",
      "language: sw\n",
      "train sequence lengths:\n",
      "\tmean : 10\n",
      "\t95percentile : 16\n",
      "\t99percentile : 19\n"
     ]
    },
    {
     "data": {
      "text/html": [
       "\n",
       "<style>\n",
       "    /* Turns off some styling */\n",
       "    progress {\n",
       "        /* gets rid of default border in Firefox and Opera. */\n",
       "        border: none;\n",
       "        /* Needs to be in here for Safari polyfill so background images work as expected. */\n",
       "        background-size: auto;\n",
       "    }\n",
       "    progress:not([value]), progress:not([value])::-webkit-progress-bar {\n",
       "        background: repeating-linear-gradient(45deg, #7e7e7e, #7e7e7e 10px, #5c5c5c 10px, #5c5c5c 20px);\n",
       "    }\n",
       "    .progress-bar-interrupted, .progress-bar-interrupted::-webkit-progress-bar {\n",
       "        background: #F44336;\n",
       "    }\n",
       "</style>\n"
      ],
      "text/plain": [
       "<IPython.core.display.HTML object>"
      ]
     },
     "metadata": {},
     "output_type": "display_data"
    },
    {
     "data": {
      "text/html": [],
      "text/plain": [
       "<IPython.core.display.HTML object>"
      ]
     },
     "metadata": {},
     "output_type": "display_data"
    },
    {
     "name": "stdout",
     "output_type": "stream",
     "text": [
      "Is Multi-Label? False\n",
      "preprocessing test...\n",
      "language: sw\n",
      "test sequence lengths:\n",
      "\tmean : 10\n",
      "\t95percentile : 15\n",
      "\t99percentile : 18\n"
     ]
    },
    {
     "data": {
      "text/html": [
       "\n",
       "<style>\n",
       "    /* Turns off some styling */\n",
       "    progress {\n",
       "        /* gets rid of default border in Firefox and Opera. */\n",
       "        border: none;\n",
       "        /* Needs to be in here for Safari polyfill so background images work as expected. */\n",
       "        background-size: auto;\n",
       "    }\n",
       "    progress:not([value]), progress:not([value])::-webkit-progress-bar {\n",
       "        background: repeating-linear-gradient(45deg, #7e7e7e, #7e7e7e 10px, #5c5c5c 10px, #5c5c5c 20px);\n",
       "    }\n",
       "    .progress-bar-interrupted, .progress-bar-interrupted::-webkit-progress-bar {\n",
       "        background: #F44336;\n",
       "    }\n",
       "</style>\n"
      ],
      "text/plain": [
       "<IPython.core.display.HTML object>"
      ]
     },
     "metadata": {},
     "output_type": "display_data"
    },
    {
     "data": {
      "text/html": [],
      "text/plain": [
       "<IPython.core.display.HTML object>"
      ]
     },
     "metadata": {},
     "output_type": "display_data"
    },
    {
     "name": "stdout",
     "output_type": "stream",
     "text": [
      "Epoch 1/10\n",
      "32/32 [==============================] - 948s 29s/step - loss: 0.8961 - accuracy: 0.8022 - val_loss: 0.8631 - val_accuracy: 0.7764\n",
      "Epoch 2/10\n",
      "32/32 [==============================] - 841s 26s/step - loss: 0.6923 - accuracy: 0.8183 - val_loss: 0.7956 - val_accuracy: 0.8008\n",
      "Epoch 3/10\n",
      "32/32 [==============================] - 827s 26s/step - loss: 0.5695 - accuracy: 0.8510 - val_loss: 0.7107 - val_accuracy: 0.8333\n",
      "Epoch 4/10\n",
      "32/32 [==============================] - 828s 26s/step - loss: 0.4504 - accuracy: 0.8787 - val_loss: 0.7245 - val_accuracy: 0.8171\n",
      "Epoch 5/10\n",
      "32/32 [==============================] - 830s 26s/step - loss: 0.3338 - accuracy: 0.9044 - val_loss: 0.7251 - val_accuracy: 0.8049\n",
      "Epoch 6/10\n",
      "32/32 [==============================] - 830s 26s/step - loss: 0.2655 - accuracy: 0.9225 - val_loss: 0.7771 - val_accuracy: 0.7805\n",
      "Epoch 7/10\n",
      "32/32 [==============================] - 904s 28s/step - loss: 0.1936 - accuracy: 0.9441 - val_loss: 0.8173 - val_accuracy: 0.8293\n",
      "Epoch 8/10\n",
      "32/32 [==============================] - 925s 29s/step - loss: 0.1400 - accuracy: 0.9577 - val_loss: 0.8411 - val_accuracy: 0.8333\n",
      "Epoch 9/10\n",
      "32/32 [==============================] - 992s 31s/step - loss: 0.1151 - accuracy: 0.9612 - val_loss: 0.8629 - val_accuracy: 0.7805\n",
      "Epoch 10/10\n",
      "32/32 [==============================] - 941s 29s/step - loss: 0.0932 - accuracy: 0.9713 - val_loss: 0.8814 - val_accuracy: 0.7927\n"
     ]
    },
    {
     "data": {
      "text/plain": [
       "<keras.callbacks.History at 0x7fd49f8d3fa0>"
      ]
     },
     "execution_count": 16,
     "metadata": {},
     "output_type": "execute_result"
    }
   ],
   "source": [
    "import ktrain\n",
    "from ktrain import text\n",
    "\n",
    "# selecting transformer to use\n",
    "MODEL_NAME = 'bert-base-multilingual-uncased'\n",
    "\n",
    "# Common hyper-parameters\n",
    "MAXLEN  = 136 # Only consider the first 136 words of each news content\n",
    "batch_size = 64 #  the number of training examples utilised in one iteration.\n",
    "learning_rate = 4e-5 # the amount that the weights are updated during training\n",
    "epochs = 10 # the number of passes of the entire training dataset the algorithm has completed\n",
    "t = text.Transformer(MODEL_NAME, maxlen = MAXLEN)\n",
    "trn = t.preprocess_train(df_train.news_heading_swa.values, df_train.news_type.values)\n",
    "val = t.preprocess_test(df_test.news_heading_swa.values, df_test.news_type.values)\n",
    "model = t.get_classifier()\n",
    "learner = ktrain.get_learner(model, train_data=trn, val_data=val, batch_size=batch_size)\n",
    "learner.fit(learning_rate, epochs)"
   ]
  },
  {
   "cell_type": "markdown",
   "metadata": {},
   "source": [
    "# Testing the model"
   ]
  },
  {
   "cell_type": "code",
   "execution_count": 17,
   "metadata": {},
   "outputs": [],
   "source": [
    "kiswa_classifier = ktrain.get_predictor(learner.model,t)"
   ]
  },
  {
   "cell_type": "code",
   "execution_count": 18,
   "metadata": {},
   "outputs": [
    {
     "data": {
      "text/plain": [
       "'/Users/sumitbajare/Documents/Sussex/Project'"
      ]
     },
     "execution_count": 18,
     "metadata": {},
     "output_type": "execute_result"
    }
   ],
   "source": [
    "# Fecthing the current directory\n",
    "os.getcwd()"
   ]
  },
  {
   "cell_type": "code",
   "execution_count": 19,
   "metadata": {},
   "outputs": [],
   "source": [
    "# Changing the directory\n",
    "os.chdir('/Users/sumitbajare/Documents/Sussex/Project/data/')"
   ]
  },
  {
   "cell_type": "code",
   "execution_count": 7,
   "metadata": {},
   "outputs": [],
   "source": [
    "def test(file):\n",
    "    '''\n",
    "        This function will read the contents of a part of corpus and \n",
    "        print the new type of the content.\n",
    "        \n",
    "        Parameter: file- the file where the contents are stored\n",
    "        Return: contents, news_type\n",
    "    '''\n",
    "    \n",
    "    # extracting a specific news from the kiswa corpus \n",
    "    test_file=open(file,'r')\n",
    "    # reading the whole file in a string\n",
    "    content=test_file.read()\n",
    "    # closing the file\n",
    "    test_file.close()\n",
    "    # prdicting the type of the news\n",
    "    news_type=kiswa_classifier.predict(clean_text(content))\n",
    "    return content,news_type"
   ]
  },
  {
   "cell_type": "code",
   "execution_count": 16,
   "metadata": {},
   "outputs": [
    {
     "data": {
      "text/html": [
       "<div>\n",
       "<style scoped>\n",
       "    .dataframe tbody tr th:only-of-type {\n",
       "        vertical-align: middle;\n",
       "    }\n",
       "\n",
       "    .dataframe tbody tr th {\n",
       "        vertical-align: top;\n",
       "    }\n",
       "\n",
       "    .dataframe thead th {\n",
       "        text-align: right;\n",
       "    }\n",
       "</style>\n",
       "<table border=\"1\" class=\"dataframe\">\n",
       "  <thead>\n",
       "    <tr style=\"text-align: right;\">\n",
       "      <th></th>\n",
       "      <th>date</th>\n",
       "      <th>id</th>\n",
       "      <th>news_heading_eng</th>\n",
       "      <th>news_heading_swa</th>\n",
       "      <th>news_type</th>\n",
       "    </tr>\n",
       "  </thead>\n",
       "  <tbody>\n",
       "    <tr>\n",
       "      <th>0</th>\n",
       "      <td>2019-08-21</td>\n",
       "      <td>bbc8</td>\n",
       "      <td>the catholic church opposes the cancer vaccine...</td>\n",
       "      <td>kanisa katoliki linapinga chanjo ya saratani i...</td>\n",
       "      <td>Local News</td>\n",
       "    </tr>\n",
       "    <tr>\n",
       "      <th>1</th>\n",
       "      <td>2019-09-05</td>\n",
       "      <td>bbc25</td>\n",
       "      <td>free education is approved in drc for the firs...</td>\n",
       "      <td>elimu bila malipo imeidhinishwa nchini drc kwa...</td>\n",
       "      <td>Local News</td>\n",
       "    </tr>\n",
       "    <tr>\n",
       "      <th>2</th>\n",
       "      <td>2019-09-17</td>\n",
       "      <td>bbc30</td>\n",
       "      <td>a foreign entrepreneur was found guilty of def...</td>\n",
       "      <td>mjasiriamali wa kigeni alipatikana na hatia ya...</td>\n",
       "      <td>Local News</td>\n",
       "    </tr>\n",
       "    <tr>\n",
       "      <th>3</th>\n",
       "      <td>2019-10-04</td>\n",
       "      <td>bbc43</td>\n",
       "      <td>13 people died in a bus accident in kisumu kenya</td>\n",
       "      <td>watu 13 walifariki katika ajali ya basi huko k...</td>\n",
       "      <td>Local News</td>\n",
       "    </tr>\n",
       "    <tr>\n",
       "      <th>4</th>\n",
       "      <td>2019-10-12</td>\n",
       "      <td>bbc56</td>\n",
       "      <td>ineos challenge 1:59 : can you compete with el...</td>\n",
       "      <td>ineos challenge 1:59 : je unaweza kushindana n...</td>\n",
       "      <td>Sports news</td>\n",
       "    </tr>\n",
       "  </tbody>\n",
       "</table>\n",
       "</div>"
      ],
      "text/plain": [
       "         date     id                                   news_heading_eng  \\\n",
       "0  2019-08-21   bbc8  the catholic church opposes the cancer vaccine...   \n",
       "1  2019-09-05  bbc25  free education is approved in drc for the firs...   \n",
       "2  2019-09-17  bbc30  a foreign entrepreneur was found guilty of def...   \n",
       "3  2019-10-04  bbc43   13 people died in a bus accident in kisumu kenya   \n",
       "4  2019-10-12  bbc56  ineos challenge 1:59 : can you compete with el...   \n",
       "\n",
       "                                    news_heading_swa    news_type  \n",
       "0  kanisa katoliki linapinga chanjo ya saratani i...   Local News  \n",
       "1  elimu bila malipo imeidhinishwa nchini drc kwa...   Local News  \n",
       "2  mjasiriamali wa kigeni alipatikana na hatia ya...   Local News  \n",
       "3  watu 13 walifariki katika ajali ya basi huko k...   Local News  \n",
       "4  ineos challenge 1:59 : je unaweza kushindana n...  Sports news  "
      ]
     },
     "execution_count": 16,
     "metadata": {},
     "output_type": "execute_result"
    }
   ],
   "source": [
    "# Loading the Kiswa corpus Training dataset for processing\n",
    "data = pd.read_csv(\"data/kiswa_test.csv\")\n",
    "# preview the top 5 rows of the dataset\n",
    "data.head()"
   ]
  },
  {
   "cell_type": "code",
   "execution_count": 17,
   "metadata": {},
   "outputs": [
    {
     "data": {
      "text/html": [
       "<div>\n",
       "<style scoped>\n",
       "    .dataframe tbody tr th:only-of-type {\n",
       "        vertical-align: middle;\n",
       "    }\n",
       "\n",
       "    .dataframe tbody tr th {\n",
       "        vertical-align: top;\n",
       "    }\n",
       "\n",
       "    .dataframe thead th {\n",
       "        text-align: right;\n",
       "    }\n",
       "</style>\n",
       "<table border=\"1\" class=\"dataframe\">\n",
       "  <thead>\n",
       "    <tr style=\"text-align: right;\">\n",
       "      <th></th>\n",
       "      <th>date</th>\n",
       "      <th>id</th>\n",
       "      <th>news_heading_eng</th>\n",
       "      <th>news_heading_swa</th>\n",
       "      <th>news_type</th>\n",
       "    </tr>\n",
       "  </thead>\n",
       "  <tbody>\n",
       "    <tr>\n",
       "      <th>229</th>\n",
       "      <td>2021-02-22</td>\n",
       "      <td>tl1593</td>\n",
       "      <td>relief for families corn price drop</td>\n",
       "      <td>unafuu kwa familia bei ya mahindi kushuka</td>\n",
       "      <td>Local News</td>\n",
       "    </tr>\n",
       "    <tr>\n",
       "      <th>51</th>\n",
       "      <td>2021-04-06</td>\n",
       "      <td>bbc483</td>\n",
       "      <td>why has jay z angered the muslims in lamu kenya ?</td>\n",
       "      <td>kwa nini jay z amewakasirisha waislamu huko la...</td>\n",
       "      <td>International news</td>\n",
       "    </tr>\n",
       "    <tr>\n",
       "      <th>90</th>\n",
       "      <td>2021-06-07</td>\n",
       "      <td>tl194</td>\n",
       "      <td>tanzania to begin vaccination exercise against...</td>\n",
       "      <td>tanzania kuanza zoezi la chanjo dhidi ya janga...</td>\n",
       "      <td>Health news</td>\n",
       "    </tr>\n",
       "    <tr>\n",
       "      <th>152</th>\n",
       "      <td>2021-09-11</td>\n",
       "      <td>tl839</td>\n",
       "      <td>the jungle foundation provides first aid train...</td>\n",
       "      <td>wakfu wa jungle watoa mafunzo ya huduma ya kwa...</td>\n",
       "      <td>Health news</td>\n",
       "    </tr>\n",
       "    <tr>\n",
       "      <th>199</th>\n",
       "      <td>2021-04-24</td>\n",
       "      <td>tl1292</td>\n",
       "      <td>the county takes actions to control dengue fever</td>\n",
       "      <td>kaunti yachukua hatua kudhibiti homa ya dengue</td>\n",
       "      <td>Health news</td>\n",
       "    </tr>\n",
       "  </tbody>\n",
       "</table>\n",
       "</div>"
      ],
      "text/plain": [
       "           date      id                                   news_heading_eng  \\\n",
       "229  2021-02-22  tl1593                relief for families corn price drop   \n",
       "51   2021-04-06  bbc483  why has jay z angered the muslims in lamu kenya ?   \n",
       "90   2021-06-07   tl194  tanzania to begin vaccination exercise against...   \n",
       "152  2021-09-11   tl839  the jungle foundation provides first aid train...   \n",
       "199  2021-04-24  tl1292   the county takes actions to control dengue fever   \n",
       "\n",
       "                                      news_heading_swa           news_type  \n",
       "229          unafuu kwa familia bei ya mahindi kushuka          Local News  \n",
       "51   kwa nini jay z amewakasirisha waislamu huko la...  International news  \n",
       "90   tanzania kuanza zoezi la chanjo dhidi ya janga...         Health news  \n",
       "152  wakfu wa jungle watoa mafunzo ya huduma ya kwa...         Health news  \n",
       "199     kaunti yachukua hatua kudhibiti homa ya dengue         Health news  "
      ]
     },
     "execution_count": 17,
     "metadata": {},
     "output_type": "execute_result"
    }
   ],
   "source": [
    "# testing on this sample data\n",
    "data.sample(n=5)"
   ]
  },
  {
   "cell_type": "markdown",
   "metadata": {},
   "source": [
    "# Saving the classifier"
   ]
  },
  {
   "cell_type": "code",
   "execution_count": 4,
   "metadata": {},
   "outputs": [
    {
     "data": {
      "text/plain": [
       "'/Users/sumitbajare/Documents/Sussex/Project'"
      ]
     },
     "execution_count": 4,
     "metadata": {},
     "output_type": "execute_result"
    }
   ],
   "source": [
    "# Fetching the current directory\n",
    "import os\n",
    "os.getcwd()"
   ]
  },
  {
   "cell_type": "code",
   "execution_count": 5,
   "metadata": {},
   "outputs": [],
   "source": [
    "# Chaging the directory \n",
    "os.chdir('/Users/sumitbajare/Documents/Sussex/Project/model')"
   ]
  },
  {
   "cell_type": "code",
   "execution_count": null,
   "metadata": {},
   "outputs": [],
   "source": [
    "# Saving the classifier\n",
    "kiswa_classifier.save('kiswa_corpus_classifier')"
   ]
  },
  {
   "cell_type": "code",
   "execution_count": 6,
   "metadata": {},
   "outputs": [],
   "source": [
    "# Loading the classifier\n",
    "import ktrain\n",
    "predictor = ktrain.load_predictor('kiswa_corpus_classifier')"
   ]
  },
  {
   "cell_type": "code",
   "execution_count": null,
   "metadata": {},
   "outputs": [],
   "source": [
    "res1=test('')"
   ]
  },
  {
   "cell_type": "code",
   "execution_count": null,
   "metadata": {},
   "outputs": [],
   "source": [
    "# Predicting the news type \n",
    "predictor.predict(res1)"
   ]
  },
  {
   "cell_type": "code",
   "execution_count": null,
   "metadata": {},
   "outputs": [],
   "source": [
    " "
   ]
  }
 ],
 "metadata": {
  "kernelspec": {
   "display_name": "Python 3",
   "language": "python",
   "name": "python3"
  },
  "language_info": {
   "codemirror_mode": {
    "name": "ipython",
    "version": 3
   },
   "file_extension": ".py",
   "mimetype": "text/x-python",
   "name": "python",
   "nbconvert_exporter": "python",
   "pygments_lexer": "ipython3",
   "version": "3.8.3"
  }
 },
 "nbformat": 4,
 "nbformat_minor": 4
}
