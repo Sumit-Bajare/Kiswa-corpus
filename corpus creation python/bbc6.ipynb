{
 "cells": [
  {
   "cell_type": "code",
   "execution_count": 1,
   "metadata": {},
   "outputs": [],
   "source": [
    "# from feb 2021 to april 2021 (3 months)"
   ]
  },
  {
   "cell_type": "code",
   "execution_count": 2,
   "metadata": {},
   "outputs": [],
   "source": [
    "# from june 2022 to july 2022 (2 months) "
   ]
  },
  {
   "cell_type": "code",
   "execution_count": 1,
   "metadata": {},
   "outputs": [],
   "source": [
    "import justext\n",
    "import requests\n",
    "import nltk"
   ]
  },
  {
   "cell_type": "code",
   "execution_count": 2,
   "metadata": {},
   "outputs": [
    {
     "data": {
      "text/plain": [
       "'/Users/sumitbajare/Documents/Sussex/Project'"
      ]
     },
     "execution_count": 2,
     "metadata": {},
     "output_type": "execute_result"
    }
   ],
   "source": [
    "import os\n",
    "os.getcwd()"
   ]
  },
  {
   "cell_type": "code",
   "execution_count": 3,
   "metadata": {},
   "outputs": [],
   "source": [
    "def get_document(url):\n",
    "    \n",
    "    '''\n",
    "        \n",
    "        This function will check if the url is valid and then\n",
    "        proceed to parse it to produce a clean text (no html) which\n",
    "        can be used as input to a recommendation engine.\n",
    "\n",
    "    Arguments: url  -- input url that needs to be checked and parsed\n",
    "    Return: text_only -- the text extracted after removing boilerplate content\n",
    "    '''\n",
    "    \n",
    "    try:\n",
    "        r = requests.head(url, allow_redirects = True)\n",
    "        \n",
    "    except requests.exceptions.ConnectionError as e:\n",
    "        raise URLRetrievalError(url, 'Could not connect', e)\n",
    "        \n",
    "    if r.status_code != requests.codes.ok:\n",
    "        raise URLRetrievalError(url, 'Invalid response code from remote server: {}'\n",
    "                                .format(r.status_code))\n",
    "        \n",
    "    if r.headers[\"content-type\"].split(';')[0] not in [\"text/html\",\n",
    "                                                       \"text/plain\"]:\n",
    "        raise URLRetrievalError(url, 'Document has invalid MIME type: {}'\n",
    "                                .format(r.headers[\"content-type\"]))\n",
    "    \n",
    "    response = requests.get(url)\n",
    "    paragraphs = justext.justext(response.content, justext.get_stoplist(\"Swahili\"))\n",
    "    text_only = ''\n",
    "    \n",
    "    for paragraph in paragraphs:\n",
    "        if not paragraph.is_boilerplate:\n",
    "            text_only += ' ' + paragraph.text\n",
    "            \n",
    "    if len(text_only) == 0:\n",
    "        raise DocumentParsingError('Length of document is zero')\n",
    "        \n",
    "    return text_only"
   ]
  },
  {
   "cell_type": "code",
   "execution_count": 4,
   "metadata": {},
   "outputs": [],
   "source": [
    "# Changing the current working directory to store the documents in the desired file\n",
    "os.chdir('/Users/sumitbajare/Documents/Sussex/Project/swa_corpus/BBC')"
   ]
  },
  {
   "cell_type": "code",
   "execution_count": 5,
   "metadata": {},
   "outputs": [],
   "source": [
    "def store_document(doc,name):\n",
    "    \n",
    "    '''\n",
    "        This function will store the contents of the url in a text file.\n",
    "        \n",
    "        Argumnets: doc -- the Document to store in a text file \n",
    "        Return: nan\n",
    "    '''\n",
    "    \n",
    "    # Open function to open the file in the same directory in append mode\n",
    "    file = open(name,\"a\")\n",
    "    # writing each string in the file\n",
    "    file.writelines(doc)\n",
    "    # closing the file\n",
    "    file.close()"
   ]
  },
  {
   "cell_type": "code",
   "execution_count": 6,
   "metadata": {},
   "outputs": [],
   "source": [
    "def total_words(file_name):\n",
    "    filename = file_name\n",
    "\n",
    "    with open(filename, 'r') as file:\n",
    "        lines_in_file = file.read()\n",
    "\n",
    "        nltk_tokens = nltk.word_tokenize(lines_in_file)\n",
    "        print (nltk_tokens)\n",
    "        print (\"\\n Number of Words: \" , len(nltk_tokens))\n",
    "        return len(nltk_tokens)"
   ]
  },
  {
   "cell_type": "code",
   "execution_count": 8,
   "metadata": {},
   "outputs": [],
   "source": [
    "# these were the total number of words from the previous 5 notebooks\n",
    "# we will resume the count from 3,92,783\n",
    "total_corpus_words= 392783"
   ]
  },
  {
   "cell_type": "code",
   "execution_count": 9,
   "metadata": {},
   "outputs": [
    {
     "name": "stdout",
     "output_type": "stream",
     "text": [
      "['Habari', 'za', 'moja', 'kwa', 'moja', 'Mike', 'Sonko', 'akanusha', 'mashitaka', 'dhidi', 'yake', 'Gavana', 'wa', 'zamani', 'wa', 'Nairobi', 'Mike', 'Sonko', 'amekanusha', 'mashitaka', '12', 'dhidi', 'yake', ',', 'ikiwa', 'ni', 'pamoja', 'na', 'ghasia', 'na', 'wizi', 'wa', 'kutumia', 'ghasia', ',', 'wakati', 'wa', 'kesi', 'yake', 'iliyofanyika', 'katika', 'mahakama', 'ya', 'sheria', 'ya', 'Kiambu', ',', 'viungani', 'mwa', 'mji', 'mkuu', 'Nairobi', '.', 'Hivi', 'karibuni', 'Bw', 'Sonko', 'alidai', 'kwamba', 'yeye', 'na', 'katibu', 'mkuu', 'wa', 'wizara', 'ya', 'mambo', 'ya', 'ndani', 'Karanja', 'Kibicho', 'alihusika', 'katika', 'kupanga', 'ghasia', 'zilizoshuhudiwa', 'wakati', 'wa', 'mzozo', 'wa', 'matokeo', 'ya', 'uchaguzi', '.', 'Vyombo', 'vya', 'habari', 'nchini', 'Kenya', 'vimekua', 'vikiripoti', 'juu', 'ya', 'kesi', 'ya', 'Bw', 'Sonko', 'kwenye', 'mitandao', 'yake', 'ya', 'kijamii', 'kiwa', 'ni', 'pamoja', 'na', 'Twitter', ':', 'Uganda', 'masomo', 'kwa', 'wanafunzi', 'wasio', 'watahiniwa', 'Serikali', 'ya', 'Uganda', 'imekubali', 'kufungua', 'tena', 'shule', 'kwa', 'ajili', 'ya', 'wanafunzi', 'wasio', 'watahiniwa', 'isipokua', 'wanafunzi', 'wa', 'madarasa', 'ya', 'chekechea', ',', 'vimeripoti', 'vyombo', 'vya', 'habari', 'nchini', 'Uganda', '.', 'Hatua', 'hii', 'inakuja', 'baada', 'ya', 'serikali', 'kufungua', 'masomo', 'kwa', 'wanafunzi', 'wanaojiandaa', 'mitihani', 'ya', 'kitaifa', '.', 'Hata', 'hivyo', 'shule', 'za', 'chekechea', 'zitaendelea', 'kufungwa', 'kutokana', 'na', 'kile', 'serikali', 'imesema', 'watoto', 'hao', 'hawawezi', 'kufuata', 'kiwango', 'cha', 'maagizo', 'yaliyowekwa', 'ya', 'kujikinga', 'na', 'maambukizi', 'ya', 'virusi', 'vya', 'corona', '.', 'Aidha', 'serikali', 'ya', 'Uganda', 'imesema', 'kuwa', 'watoto', 'wa', 'shule', 'za', 'chekechea', 'wana', 'uwezekano', 'mkubwa', 'wa', 'kupata', 'maambukizi', 'ya', 'mfumo', 'wa', 'kupumua', 'ikiwa', 'ni', 'pamoja', 'na', 'COVID', 'na', 'masomo', 'ya', 'wanafunzi', 'hao', 'wanafunzi', 'na', 'waalimu', 'pamoja', 'na', 'wazazi', 'kukaribiana', 'na', 'hivyo', 'kuongeza', 'hatari', 'ya', 'maambukizi', 'Serikakali', 'ilisema', 'kuwa', 'Wizara', 'ya', 'elimu', 'na', 'ile', 'ya', 'afya', 'watafanya', 'ziara', 'katika', 'shule', 'mbali', 'mbalikote', 'nchini', 'kuangalia', 'maandalizi', 'kwa', 'ajili', 'ya', 'kufunguliwa', 'kwa', 'masomo', '.', 'Uganda', 'sawa', 'na', 'mataifa', 'mengine', 'duniani', 'ilifunga', 'shule', 'mwaka', 'jana', 'kufuatia', 'janga', 'la', 'Covid-19', '.', 'Wanaharakati', 'wa', 'Zimbabwe', 'wakamatwa', 'Wanaharakati', 'wa', 'upinzani', 'ncini', 'Zimbabwena', 'mbunge', 'wamekamatwa', 'kwa', 'kutumia', 'lugha', 'ya', 'matusi', 'na', 'chafu', 'dhidi', 'ya', 'maafisa', 'wa', 'polisi', 'Polisi', 'ilisema', 'watatu', 'hao', 'wamekamatwa', 'baada', 'ya', 'kufanya', 'maandamano', 'nje', 'ya', 'jengo', 'la', 'serikali', 'katika', 'mji', 'mkuu', 'Harare', '.', 'Haijafahamika', 'wazi', 'yalikuwa', 'ni', 'maandamano', 'gani', 'yaliyofanyika', 'siku', 'ya', 'Jumatatu.', '``', 'Polisi', 'yaJamuhuri', 'ya', 'Zimbabwe', 'imethibitisha', 'kukamatwa', 'kwa', 'Mbunge', ',', 'Netsai', 'Marova', 'na', 'Cecilia', 'Chimbiri', 'mjini', 'Harare', 'baada', 'ya', 'maandamano', 'yaliyofanyika', 'katika', 'jengo', 'la', 'serikali', '-', 'New', 'Government', 'Complex.', '``', 'Watatu', 'hao', ',', 'ambao', 'walikuwa', 'katika', 'gari', 'la', 'aina', 'ya', 'ToyotaToyota', 'Fortuner', 'ambayo', 'haikuwa', 'na', 'namba', ',', 'walifuatwa', 'na', 'gari', 'la', 'polisi', 'lililokua', 'na', 'maafisa', 'wa', 'polisi', 'na', 'kutumia', 'lugha', 'chafu', 'na', 'matusi', 'jambo', 'lililofanya', ',', \"''\", 'taarifa', 'ya', 'polisi', 'ilisema', '.', 'Watatu', 'hao', ',', 'wote', 'kutoka', 'chama', 'cha', 'Democratic', 'Change', '(', 'MDC', ')', ',', 'walikamatwa', 'mwezi', 'Juni', 'mwaka', 'jana', 'kwa', 'kutoa', 'taarifa', 'za', 'uongo', 'kuhusu', 'kuteswa', 'katika', 'mahabusu', '.', 'Walidai', 'maafisa', 'wa', 'usalama', 'waliwateka', 'nyara', 'kutoka', 'polisi', ',', 'kuwachapa', 'na', 'kuwanyanyasa', 'kingono', 'na', 'kuwalazimisha', 'kunywa', 'mikojo', 'ya', 'kila', 'mmoja', 'wao', '.', 'Polisi', 'ilikanusha', 'shutuma', 'hizo', ',', 'lakini', 'wataalamu', 'wa', 'Umoja', 'wa', 'Mataifa', 'walitoa', 'wito', 'wa', 'kushitakiwa', 'kwa', '‘', '’', 'wahusika', 'wa', 'uhalifuhuo', '’', '’', '.', 'Chama', 'cha', 'MDC', 'kimetweet', 'kwamba', 'kukamatwa', 'kwao', 'kwa', 'hivi', 'karibuni', 'ni', 'muendelezo', 'wa', 'kuongezeka', 'kwa', '‘', '’', 'vita', 'vya', 'serikali', 'dhidi', 'ya', 'wanaharakati', '``', ':', 'Baada', 'ya', 'Jaji', 'Torres', 'kujiridhisha', 'kuwa', 'ilikua', 'ni', 'camera', 'ya', 'Paredes', ',', 'aliamuru', 'mara', 'moja', 'wakili', 'huyu', 'aanze', 'kuchunguzwa', 'na', 'asimamishwe', 'kushiriki', 'katika', 'kesi', 'hiyo', '.', '‘', '’', 'Tunashuhudia', 'kitendo', 'cha', 'udhalilishaji', 'na', 'kinaoneshwa', 'moja', 'kwa', 'moja', 'hapa', ',', 'hivyo', 'kitengo', 'cha', 'uchunguzi', 'nataka', 'wakili', 'huyu', 'achunguzwe', 'mara', 'moja', '’', '’', 'alisema', 'Torres', '.', 'Baada', 'ya', 'usikilizwaji', 'wa', 'kesi', 'hiyo', 'kusitishwa', '.', 'Jaji', 'Torres', 'aliongeza', 'katika', 'taarifa', 'iliyotolewa', 'kwa', 'maandishi', 'kuwa', 'kuanzia', 'sasa', 'wakili', 'Paredes', 'anatambulika', 'kama', 'mtu', 'ambae', 'ametia', 'aibu', 'mahakama', ',', 'mawakili', 'wenzake', 'na', 'tasnia', 'ya', 'sheria', 'kwa', 'ujumla', '.', 'Hadi', 'sasa', 'wakili', 'Paredes', 'hajatoa', 'maelezo', 'yoyote', 'baada', 'ya', 'tukio', 'hilo', '.', 'Mwezi', 'Septemba', ',', 'mbunge', 'mmoja', 'huko', 'Argentina', 'alijiuzuru', 'mara', 'baada', 'ya', 'kuonekana', 'akibusu', 'matiti', 'ya', 'mwanamke', 'wakati', 'wa', 'kikao', 'cha', 'bunge', 'kilichofanyika', 'kwa', 'njia', 'ya', 'mtandao', 'wa', 'video', '.', 'Virusi', 'vya', 'corona', ':', 'Watu', 'zaidi', 'ya', '80', 'wakamatwa', 'kwa', 'tuhuma', 'za', \"'chanjo\", 'bandia', '’', 'China', 'Getty', 'ImagesCopyright', ':', 'Getty', 'Images', 'China', 'imesema', 'kuwa', 'inafanya', 'msako', 'juu', 'ya', 'mtandao', 'wa', 'uhalifu', 'unaotengeneza', '``', 'chanjo', 'bandia', '``', 'za', 'Covid-19', 'ambao', 'umekuwa', 'ukiendesha', 'shughuli', 'hii', 'tangu', 'mwezi', 'Septemba', ',', 'imeripoti', 'taarifa', 'ya', 'CNN', '.', 'Idara', 'a', 'polisi', 'za', 'Jiangsu', ',', 'Beijing', 'na', 'Shandong', 'zimewakamata', 'zaidi', 'ya', 'watu', '80', 'waliohusika', 'katika', 'utengenezaji', 'wa', 'zaidi', 'ya', 'dozi', '3,000', 'bandia', 'za', 'chanjo', 'ya', 'Covid-19', ',', 'Shirika', 'la', 'habari', 'la', 'taifa', 'hilo', 'Xinhua', 'limeripotiwa', 'kusema', '.', 'Xinhua', 'limesema', 'wizara', 'ya', 'usalama', 'wa', 'umma', 'nchini', 'Uchina', 'inachunguza', 'uhalifu', 'unaohusiana', 'na', 'utengenezaji', 'na', 'mauzo', 'ya', 'chanjo', 'hizo', 'bandia', '``', 'na', 'uengenezaji', 'haramu', 'wa', 'dawa', 'na', 'ufisadikatika', 'sekta', 'ya', 'chanjo', '.', \"''\", 'Polisi', 'walibaini', 'kuwa', 'tangu', 'Septemba', '2020', ',', 'wahusika', 'wa', 'chanjo', '``', 'wamekua', 'wakipata', 'faida', 'kubwa', 'kwa', 'kujaza', 'mchanganyiko', 'wenye', 'chumvi', 'ndani', 'ya', 'sindano', 'ili', 'kutengeneza', 'chanjo', 'bandia', 'za', 'virusi', 'vya', 'corona', 'na', 'kuziuza', 'kwa', 'bei', 'ghali', ',', \"''\", 'Xinhua', 'limeripotiwa', 'kusema', '.', 'China', 'imekuwa', 'ikiwachanja', 'watu', 'wake', 'kwa', 'dawa', 'kutoka', 'makampuni', 'mawili', 'ya', 'Sinovac', 'na', 'Sinopharm', ',', 'na', 'chanjo', 'zake', 'pia', 'zimekwishaanza', 'kutolewa', 'katika', 'nchi', 'nyingine', ',', 'ikiwa', 'ni', 'pamoja', 'na', 'Uturuki', '.', 'Bunge', 'la', 'DRC', 'laanza', 'kampeni', 'ya', 'kumchagua', 'Spika', 'Bi', 'Jeanine', 'Mabunda', 'kutoka', 'chama', 'Joseph', 'Kabila', ',', \"aling'olewa\", 'madarakani', 'kwa', 'ya', 'kutokuwa', 'na', 'imani', 'naeImage', 'caption', ':', 'Bi', 'Jeanine', 'Mabunda', 'kutoka', 'chama', 'Joseph', 'Kabila', ',', \"aling'olewa\", 'madarakani', 'kwa', 'ya', 'kutokuwa', 'na', 'imani', 'nae', 'Kampeni', 'za', 'uchaguzi', 'wa', 'Spika', 'mpya', 'wa', 'Bunge', 'la', 'Jamuhuri', 'ya', 'kidemokrasi', 'ya', 'Congo', 'zimeanza', '.', 'Hii', 'ni', 'baada', 'ya', 'kufuzwa', 'kwa', 'aliyekua', 'spika', 'wa', 'bunge', 'hilo', 'Bi', 'Jeanine', 'Mabunda', 'aliyekuwa', 'mwanachama', 'wa', 'chama', 'cha', 'rais', 'wa', 'zamani', 'Joseph', 'Kabila', '.', 'Bi', 'Jeanine', 'aliondolewa', 'kwenye', 'kiti', 'cha', 'spika', 'baada', 'ya', 'wabunge', 'kupiga', 'kura', 'ya', 'kutokua', 'na', 'imani', 'naye', '.', 'Lakini', 'baadhi', 'ya', 'wabunge', 'wengi', 'wanaomuunga', 'mkono', 'Bw', 'Kabila', 'na', 'wengine', 'waliomuunga', 'mkono', 'Rais', 'Felix', 'Tshikekedi', 'wanaomba', 'Mahakama', 'kuu', 'ya', 'katiba', 'kusimamisha', 'uchaguzi', 'huu', 'kutokana', 'na', 'kile', 'kilichoonekana', 'kuwa', 'majina', 'mengi', 'ya', 'wagombea', 'yalikataliwa', '.', 'Uwindaji', 'haramu', 'wa', 'Faru', 'wapungua', 'Serikali', 'ya', 'Afrika', 'Kusini', 'imeripoti', 'kupungua', 'kwa', 'idadi', 'ya', 'faru', 'wanaouwawa', 'na', 'wawindaji', 'haramu', 'nchini', 'humo', '.', 'Maafisa', 'wanasema', 'sehemu', 'kubwa', 'ya', 'matokeo', 'hayo', 'ni', 'kutokana', 'na', 'vikwazo', 'vilivyowekwa', 'vya', 'kudhibiti', 'covid', '19', '.', 'Waziri', 'wa', 'mazingira', 'nchini', 'humo', 'amesema', 'kwamba', 'karibu', 'faru', '394', 'ndio', 'waliuawa', 'mwaka', 'jana', 'ikilinganishwa', 'na', 'faru', '594', 'waliouwawa', 'mwaka', '2019', '.', 'Agizo', 'la', 'kusalia', 'nyumbani', 'limesababisha', 'harakati', 'za', 'uwindaji', 'haramu', 'wa', 'faru', 'na', 'usafirishaji', 'wa', 'pembe', 'zao', 'kupungua', 'kwa', 'kiasi', 'kikubwa', '.', 'Marufuku', 'ya', 'kutoka', 'nje', 'kumeweza', 'kuzuia', 'harakati', 'za', 'watakao', 'kuwa', 'wawindaji', 'haramu', 'na', 'wasafirishaji', 'wa', 'pembe', 'za', 'faru', ',', 'iliongeza', '.', 'Ni', 'mwaka', 'wa', 'sita', 'sasa', 'matukio', 'ya', 'uwindaji', 'haramu', 'yanarekodiwa', 'kupungua', 'nchini', 'humo', '.', 'Lakini', 'watunza', 'mazingira', 'wanaonya', 'kuwa', 'idadi', 'ya', 'faru', 'nchini', 'Afrika', 'Kusini', 'imepungua', 'katika', 'miaka', 'ya', 'hivi', 'karibuni', 'na', 'kwamba', 'ujangili', 'bado', 'ni', 'shida', 'kubwa', '.', 'Waziri', 'wa', 'Mazingira', 'Barbara', 'Creecy', 'amesema', 'kuwa', 'wakati', '``', 'mikakati', 'ya', 'kukabiliana', 'na', 'vita', 'dhidi', 'ya', 'janga', 'la', 'Covid-19', \"''\", 'zilichangia', 'kupunguza', 'ujangili', 'kwa', 'mwaka', '2020', ',', 'ulinzi', ',', 'wafanyakazi', 'wa', 'usalama', 'na', 'juhudi', 'za', 'serikali', 'kushughulikia', 'suala', 'hilo', 'pia', 'ilikuwa', 'na', 'jukumu', 'muhimu', '.', 'Lakini', 'watunza', 'mazingira', 'wanasema', 'kwamba', 'kumekua', 'na', 'upungufu', 'wa', 'faru', 'kwa', 'asilimia', '70', '%', 'katika', 'hifadhi', 'ya', 'Kruger', '-', 'ambapo', 'ujangili', 'mwingi', 'umefanyika', 'kwa', 'takribani', 'muongo', 'mmoja', 'uliopita', '.', 'Dk', 'Jo', 'Shaw', 'wa', 'World', 'Wide', 'Fund', 'for', 'Nature', '(', 'WWF', ')', 'nchini', 'Afrika', 'Kusini', 'amesema', 'kuwa', 'wakati', 'wakishangilia', 'kupungua', 'kwa', 'idadi', 'ya', 'faru', 'waliopotea', 'kutokana', 'na', 'ujangili', ',', '``', 'tunafahamu', 'sana', 'kuwa', 'kupungua', 'kwa', 'ujangili', 'kulikochochewa', 'na', 'vizuizi', 'vilivvyowekwa', 'ilikua', 'tu', 'suluhu', 'la', 'muda', 'mfupi', '.', 'Jeshi', 'la', 'Uganda', 'lakemea', 'ujumbe', 'wa', 'vitisho', 'mitandaoni', 'Jeshi', 'la', 'polisi', 'nchini', 'Uganda', 'limeonya', 'watu', 'wanaosambaza', 'ujumbe', 'kwenye', 'mitandao', 'ya', 'kijamii', 'wakitishia', 'wananchi', 'na', 'kuleta', 'hofu', 'nchini', 'humo', '.', 'Ujumbe', 'huo', 'ulianza', 'kusambwa', 'mwishoni', 'mwa', 'juma', ',', 'ambapo', 'ulitaka', 'watu', 'wabaki', 'nyumbani', 'kwa', 'siku', 'tatu', 'ujumbe', 'ambao', 'wameuita', \"'National\", 'Shut', 'down', \"'\", '.', 'Ujumbe', 'huo', 'unawaonya', 'wananchi', 'kuanzia', 'Februari', '03', 'hadi', 'tarehe', '7', 'Februari', 'wasalie', 'nyumbani', 'kwao', 'bila', 'kufanya', 'kitu', 'chochote', '.', 'Naibu', 'wa', 'jeshi', 'la', 'polisi', 'nchini', 'humo', 'IGP', 'Meja', 'Jenerali', 'Paul', 'Oketch', 'ametowa', 'onyo', 'kwa', 'watu', 'aidha', 'makundi', 'yanayosambaza', 'vitisho', 'hivyo', 'kuacha', 'mara', 'moja', 'kuwatisha', 'wananchi', 'la', 'sivyo', 'watachuliwa', 'hatua', 'kali', 'za', 'kisheria', '.', 'Vitisho', 'hivi', 'vinakuja', 'wakati', 'taifa', 'hilo', 'likiwa', 'na', 'mgawanyiko', 'wa', 'kisiasa', 'tangu', 'kumalizika', 'kwa', 'uchaguzi', 'mkuu', 'wa', 'rais', 'baada', 'ya', 'Rais', 'Museveni', 'kutangazwa', 'na', 'Tume', 'ya', 'uchaguzi', 'kuwa', 'mshindi', 'na', 'kuongoza', 'taifa', 'hilo', 'kwa', 'muhula', 'wa', 'sita', '.', 'Ingawa', 'Jumatatu', 'kiongozi', 'wa', 'chama', 'cha', 'NUP', 'Robert', 'Kyagulanyi', 'maarufu', 'Bobi', 'Wine', 'aliwasilisha', 'kesi', 'mahakama', 'ya', 'juu', 'kupinga', 'ushindi', 'wa', 'Rais', 'Museveni', '.', 'Hata', 'hivyo', 'kumekuwa', 'na', 'msukumo', 'toka', 'kwa', 'baadhi', 'ya', 'viongozi', 'wa', 'dini', 'wakiomba', 'Rais', 'Museveni', 'kufanya', 'maridhiano', 'na', 'viongozi', 'wa', 'upinzani', 'kwa', 'maendeleo', 'ya', 'taifa', '.', 'Miko', 'Sonko', 'kufikishwa', 'mahakamani', 'leo', 'kwa', 'tuhuma', 'za', 'ghasia', 'Gavana', 'wa', 'zamani', 'wa', 'Nairobi', 'Mike', 'Sonko', 'anatarajiwa', 'kuwasilishwa', 'mahakamani', ',', 'huku', 'wapelelezi', 'wakitaka', 'kupata', 'muda', 'zaidi', 'kumuwajibisha', 'juu', 'ya', 'madai', 'ya', 'kuhusika', 'kwake', 'katika', 'ghasia', 'za', 'uchaguzi', 'wa', 'mwaka', '2017', 'nchini', 'Kenya', '.', 'Hivi', 'karibuni', 'Bw', 'Sonko', 'alidai', 'kwamba', 'yeye', 'na', 'katibu', 'mkuu', 'wa', 'wizara', 'ya', 'mambo', 'ya', 'ndani', 'Karanja', 'Kibicho', 'alihusika', 'katika', 'kupanga', 'ghasia', 'zilizoshuhudiwa', 'wakati', 'wa', 'mzozo', 'wa', 'matokeo', 'ya', 'uchaguzi', '.', 'FACEBOOK/MIKESONKOCopyright', ':', 'FACEBOOK/MIKESONKO', 'Jumatatu', 'gavana', 'huyo', 'wa', 'zamani', 'alijiwasilisha', 'binafsi', 'katika', 'ofisi', 'ya', 'Mkurugenzi', 'wa', 'mashitaka', 'ya', 'umma', '(', 'DCI', ')', 'baada', 'ya', 'kutaka', 'agizo', 'la', 'mahakama', 'la', 'kumzuia', 'kushitakiwa', 'bila', 'mafanikio', '.', 'Wakili', 'wake', ',', 'John', 'Khaminwa', ',', 'alisema', 'Mahakama', 'ya', 'juu', 'ilitupilia', 'mbali', 'ombi', 'kutaka', 'mahakama', 'isitishe', 'kesi', 'yake', ',', 'na', 'kumlazimisha', 'Bw', 'Sonko', 'kujisalimisha', 'katika', 'makao', 'makuu', 'ya', 'DCI', '.', 'Sonko', 'alitaka', 'mahakama', 'itoe', 'agizo', 'lake', 'dhidi', 'ya', 'uamuzi', 'wa', 'Naibu', 'Inspekta', 'mkuu', 'wa', 'polisi', 'na', 'Mkuu', 'wa', 'upelelezi', 'wa', 'DCI', 'John', 'Kariuki', 'wa', 'kumtaka', 'arekodi', 'taarifa', 'kuhusiana', 'na', 'ghasia', 'alizodai', 'kuzifanya', 'katika', 'kipindi', 'cha', 'uchaguzi', 'wa', 'mwaka', '2017', '.', 'Katika', 'ombi', 'lake', ',', 'Sonko', 'alidai', 'kwamba', 'kuitwa', 'kwake', 'na', 'DCI', 'kulikua', 'ni', 'njama', 'za', 'kutaka', 'akamatwe', 'na', 'polisi', '.']\n",
      "\n",
      " Number of Words:  1611\n"
     ]
    }
   ],
   "source": [
    "file=\"21feb2.txt\"\n",
    "\n",
    "# calling the function and storing the contents in a text variable \n",
    "text = get_document(\"https://www.bbc.com/swahili/live/habari-55898575\")\n",
    "\n",
    "# calling the store_ document function \n",
    "store_document(doc=text,name=file)\n",
    "\n",
    "#add the words in this file to the total_corpus_words, to keep count of the number of words in the corpus\n",
    "total_corpus_words+=total_words(file)"
   ]
  },
  {
   "cell_type": "code",
   "execution_count": 10,
   "metadata": {},
   "outputs": [
    {
     "data": {
      "text/plain": [
       "394394"
      ]
     },
     "execution_count": 10,
     "metadata": {},
     "output_type": "execute_result"
    }
   ],
   "source": [
    "total_corpus_words"
   ]
  },
  {
   "cell_type": "code",
   "execution_count": 11,
   "metadata": {},
   "outputs": [
    {
     "name": "stdout",
     "output_type": "stream",
     "text": [
      "['IGP', 'Sirro', ':', 'Hakuna', 'marufuku', 'ya', 'kukimbia', 'siku', 'za', 'ibada', 'Mkuu', 'wa', 'jeshi', 'la', 'polisi', 'nchini', 'Tanzania', 'IGP', 'Simon', 'Sirro', 'amefanunua', 'juu', 'ya', 'marufuku', 'kwa', 'wakimbiaji', 'wa', 'mbio', 'za', 'pole', 'pole', '(', 'Jogging', ')', 'iliyotolewa', 'na', 'Kamanda', 'wa', 'polisi', 'kanda', 'ya', 'Dar', 'es', 'salaam', ',', 'Lazarus', 'Mambosasa', '.', 'Aidha', 'katika', 'ufafanuzi', 'huo', 'Sirro', 'amesema', 'kuwa', 'marufuku', 'hiyo', 'ya', 'wakiambiaji', 'inahusisha', 'njia', 'za', 'karibu', 'na', 'maeneo', 'ya', 'ibada', 'na', 'wakati', 'wa', 'ibada', '.', '‘', '’', 'viongozi', 'wa', 'madhehebu', 'wamekua', 'wanalalamika', 'wakati', 'wa', 'ibada', ',', 'imekua', 'tabu', 'wakipita', 'wanapigiwa', 'kelele', ',', 'maeneo', 'mengine', 'ni', 'ruhsa', ',', 'vi', 'vizuri', 'wasipite', 'maeneo', 'hayo', ',', 'hasa', 'wakati', 'wa', 'ibada', '.', 'Tukisema', 'wapite', 'kimya', 'kimya', ',', 'watu', 'wengine', 'hawatopita', 'kimya', 'kimya', ',', 'hivyo', 'maeneo', 'ya', 'ibada', 'wakati', 'wa', 'ibada', '’', '’', 'anasema', 'IGP', 'Sirro', 'Awali', 'akizungumza', 'na', 'televisheni', 'ya', 'Taifa', 'Kamanda', 'wa', 'kanda', 'Maalum', 'Lazarus', 'Mambosasa', 'alisema', 'maandamano', 'na', 'mbio', 'za', 'pole', 'pole', '(', 'Jogging', ')', 'katika', 'baadhi', 'ya', 'njia', 'jijini', 'Dar', 'es', 'salaam', 'hazituruhiswa', 'siku', 'za', 'ibada', 'kwa', 'kunyimwa', 'kibali', 'kutokana', 'na', 'kuingilia', 'shughuli', 'za', 'ibada', '.', 'Kampuni', 'za', 'Tanzania', 'zashinda', 'zabuni', 'za', 'mabilioni', 'ya', 'pesa', 'za', 'ujenzi', 'wa', 'mkongo', 'wa', 'taifa', 'Aboubakar', 'Famau', 'BBC', 'News', ',', 'Dar', 'es', 'Salaam', 'BBCCopyright', ':', 'BBC', 'Dkt', 'Faustine', 'Ndugulile', '(', 'Kushoto', ')', 'Waziri', 'wa', 'Mawasiliano', 'na', 'teknolojia', 'ya', 'habari', ',', 'amezitaka', 'kampuni', 'zikamilishe', 'kazi', 'wa', 'kwa', 'wakati', 'uliopagwaImage', 'caption', ':', 'Dkt', 'Faustine', 'Ndugulile', '(', 'Kushoto', ')', 'Waziri', 'wa', 'Mawasiliano', 'na', 'teknolojia', 'ya', 'habari', ',', 'amezitaka', 'kampuni', 'zikamilishe', 'kazi', 'wa', 'kwa', 'wakati', 'uliopagwa', 'Kampuni', 'nne', 'za', 'kitanzania', 'zimeshinda', 'zabuni', 'yenye', 'thamani', 'ya', 'shilingi', 'bilioni', '7', 'nukta', '5', 'kwa', 'ajili', 'ya', 'ujenzi', 'wa', 'mkongo', 'wa', 'taifa', 'pamoja', 'na', 'maboresho', 'ya', 'anwani', 'ya', 'makazi', '.', 'Ujenzi', 'huo', 'wa', 'mkongo', 'wa', 'taifa', 'utakuwa', 'ni', 'wa', 'kilomita', '409', 'ambapo', 'utafikisha', 'mawasiliano', 'katika', 'nchi', 'Jirani', 'ya', 'Msumbiji', 'pamoja', 'na', 'kuunganisha', 'mawasiliano', 'katika', 'mikoa', 'mingine', 'ya', 'Tanzania', 'ikiwemo', 'Singida', 'na', 'Mbeya', '.', 'Mikataba', 'hiyo', 'pia', 'ni', 'pamoja', 'na', 'maboresho', 'ya', 'anwani', 'za', 'makazi', '.', 'Wakati', 'huo', 'huo', ',', 'Waziri', 'Ndugulile', 'ametilia', 'mkazo', 'suala', 'la', 'ubora', 'na', 'kuzitaka', 'kampuni', 'hizo', 'kukamilisha', 'kazi', 'kwa', 'wakati', 'uliopangwa', '.', 'Akizungumza', 'kwa', 'niaba', 'ya', 'makampuni', 'mengine', 'yaliyosaini', 'mikataba', 'hiyo', 'ameihakikishia', 'serikali', 'kwamba', 'watakamilisha', 'kazi', 'hiyo', 'kwa', 'wakati', 'na', 'ufanisi', '.', 'Hii', 'ni', 'mara', 'ya', 'kwanza', 'kwa', 'kampuni', 'za', 'ndani', 'kushinda', 'zabuni', 'ya', 'Ujenzi', 'wa', 'mkongo', 'wa', 'taifa', '.', 'Tayari', 'Tanzania', 'imejenga', 'wastani', 'wa', 'kilomita', '7910', 'ya', 'mkongo', 'wa', 'taifa', 'kwa', 'lengo', 'la', 'kurahisisha', 'Mawasiliano', 'na', 'kufikia', 'malengo', 'ya', 'uchumi', 'wa', 'kidigitali', 'na', 'biashara', 'Mtandao', '.', 'Watu', '32', 'wathibitishwa', 'kufariki', 'kwenye', 'ajali', 'ya', 'gari', 'Uganda', 'Watu', '32', 'wamethibitishwa', 'kufariki', 'kwenye', 'ajali', 'ya', 'gari', 'nchini', 'Uganda', 'iliyotokea', 'usiku', 'wa', 'kuamukia', 'leo', 'katika', 'wilaya', 'ya', 'Kasese', 'nchini', 'Uganda', '.', 'Vifo', 'hivyo', 'vimetokea', 'baada', 'ya', 'magari', 'matano', 'kugongana', 'katika', 'kijiji', 'cha', 'Kihongo', 'kilichopo', 'kwenye', 'barabara', 'kuu', 'ya', 'Hima', '–Rugendabara', 'wilayani', 'Kasese', 'magharibi', 'mwa', 'Uganda', '.', 'Miili', 'ya', 'marehemu', '32', 'imepatikana', 'na', 'majeruhi', 'watano', 'wamepelekwa', 'katika', 'hospitali', 'ya', 'Kilembe', '.', 'Katika', 'taarifa', 'iliyotolewa', 'na', 'shirika', 'la', 'Msalaba', 'mwekundu', 'nchini', 'humo', ',', 'timu', 'yao', 'ikishirikiana', 'na', 'jeshi', 'la', 'UPDF', 'na', 'Polisi', 'ikiongozwa', 'na', 'Meja', 'Charles', 'Nzei', 'wameweza', 'kuwaokoa', 'majeruhi', 'na', 'kupata', 'miili', 'ya', 'waliofariki', '.', 'Maandamano', 'na', 'mazoezi', 'ya', 'riadha', 'marufuku', 'siku', 'za', 'ibada', 'Tanzania', 'Kamanda', 'wa', 'polisi', 'kanda', 'maalumu', 'ya', 'Dar', 'es', 'salaam', 'nchini', 'Tanzania', 'Lazaro', 'Mambosasa', 'amesema', 'kuanzia', 'sasa', 'ni', 'marufuku', 'watu', 'kufanya', 'maandamano', 'na', 'mbio', 'za', 'polepole', '(', 'jogging', ')', 'siku', 'za', 'ibada', 'na', 'amesisitiza', 'kuwa', 'jeshi', 'la', 'polisi', 'halitatoa', 'vibali', 'katika', 'siku', 'hizo', '.', 'Mambosasa', 'amesema', 'kuandamana', 'siku', 'za', 'ibada', 'ni', 'kuwachelewesha', 'waumini', 'kufika', 'sehemu', 'za', 'ibada', 'kwa', 'wakati', '.', 'Bunge', 'la', 'DRC', 'kumchagua', 'Spika', 'mpya', 'Mwezi', 'Disemba', 'Bunge', 'la', 'DRC', \"lilimg'oa\", 'madarakani', 'Spika', 'Jeanine', 'Mabunda', ',', 'ambaye', 'ni', 'mshirika', 'wa', 'Joseph', 'KabilaImage', 'caption', ':', 'Mwezi', 'Disemba', 'Bunge', 'la', 'DRC', \"lilimg'oa\", 'madarakani', 'Spika', 'Jeanine', 'Mabunda', ',', 'ambaye', 'ni', 'mshirika', 'wa', 'Joseph', 'Kabila', 'Wabunge', 'wa', 'bunge', 'dogo', 'la', 'DRC', 'wanatarajiwa', 'kumchagua', 'Spika', 'mpya', 'leo', ',', 'huku', 'Rais', 'Felix', 'Tshisekedi', 'akikusanya', 'nguvu', 'chini', 'ya', 'muungano', 'wake', 'mpya', 'unaoitwa', '–Muungano', 'mtakatifu', '.', 'Hii', 'inafuatia', 'kuondolewa', 'kwa', 'Spika', 'Jeanine', 'Mabunda', ',', 'ambaye', 'ni', 'mshirika', 'wa', 'rais', 'wa', 'zamani', 'Joseph', 'Kabila', ',', 'ambaye', 'aliondolewa', 'kwa', 'kura', 'ya', 'kutokuwa', 'na', 'imani', 'naye', 'mwezi', 'Disemba', 'kufuatia', 'tuhuma', 'za', 'ufisadi', '.', 'Jana', 'zaidi', 'ya', 'maseneta', '60', 'waliwasilisha', 'ombi', 'la', 'kutimuliwa', 'madarakani', 'kwa', 'Spika', 'wa', 'bunge', 'la', 'Seneti', 'Alexis', 'Thambwe', 'Mwamba', ',', 'kwa', 'tuhuma', 'za', 'ubadhilifu', 'wa', 'mali', 'ya', 'umma', '.', 'Mwamba', ',', 'mbaye', 'pia', 'ni', 'mshirika', 'wa', 'Bw', 'Kabila', ',', 'anashutumiwa', 'kuchukua', 'zaidi', 'ya', 'dola', 'milioni', '3', 'za', 'kimareani', 'kwa', 'niaba', 'ya', 'Seneti', '.', 'Amekana', 'tuhuma', 'hizo', '.', 'Wiki', 'iliyopita', 'Waziri', 'Mkuu', 'Sylivestre', 'Illunga', 'alijiuzulu', 'baada', 'ya', 'kura', 'ya', 'kutokuwa', 'na', 'imani', 'naye', 'kupigwa', 'dhidi', 'yake', '.', 'Tshisekedi', 'amekuwa', 'akiwatimua', 'washirika', 'wa', 'mtangulizi', 'wake', 'tangu', 'alipovunja', 'muungano', 'mwezi', 'Disemba', 'mwaka', 'jana', 'kufuatia', 'kuongezeka', 'kwa', 'tofauti', 'kuhusiana', 'na', 'mageuzi', 'ya', 'usalama', ',', 'mahakama', ',', 'tume', 'ya', 'uchaguzi', 'na', 'mashirika', 'mbali', 'mbali', 'ya', 'taifa', '.', 'Seneta', 'wa', 'Jamuhuri', 'ya', 'Kidemokrasi', 'ya', 'Congo', 'amewasilisha', 'ombi', 'la', 'kufukuzwa', 'kwa', 'Spika', 'wa', 'bunge', 'la', 'Seneti', 'Alexis', 'Thambwe', 'Mwamba', '.', 'Bw', 'Thambwe', 'Mwamba', 'ni', 'mshirika', 'wa', 'karibu', 'wa', 'rais', 'wa', 'zamani', 'wa', 'taifa', 'hilo', 'Joseph', 'Kabila', '.', 'Seneta', 'Valentin', 'Gerengo', 'kutoka', 'vuguvugu', 'la', 'ukombozi', 'wa', 'DRC', '-Liberation', 'of', 'Congo', ',', 'aliwasilisha', 'ombi', 'hilo', 'katika', 'ofisi', 'ya', 'seneti', '.', '``', 'Kwa', 'mujibu', 'wa', 'kipegele', 'nambari', '27', 'cha', 'katiba', 'ya', 'nchi', 'hiyo', ',', 'aya', 'ya', 'tano', ',', 'kifungu', 'cha', '28', 'na', 'aya', 'ya', '2', 'hadi', 'ya', '5', 'ya', 'taratibu', 'za', 'utendaji', 'wa', 'seneti', ',', 'tunawasilisha', 'ombi', 'hili', 'ili', 'kutaka', 'kuondolewa', 'kwa', 'Spika', 'wa', 'Seneti', ',', \"''\", 'alisema', 'Seneta', 'Gerengo', 'katika', 'barua', 'ambayo', 'alithibibitisha', 'uhalali', 'wake', 'katika', 'wavuti', 'wa', 'habari', '.', 'Seneti', 'inafanya', 'kikao', 'chake', 'cha', 'dharura', 'Jumatano', 'kujadili', 'ajenda', 'moja', 'tu', ',', 'iliyoitwa', 'kuchunguza', 'na', 'kuidhinisha', 'kusomwa', 'kwa', 'mara', 'ya', 'pili', 'kwa', 'muswada', 'wa', 'kuidhinisha', 'biashara', 'huria', 'ya', 'bara', 'la', 'Afrika', '.']\n",
      "\n",
      " Number of Words:  944\n"
     ]
    }
   ],
   "source": [
    "file=\"21feb3.txt\"\n",
    "\n",
    "# calling the function and storing the contents in a text variable \n",
    "text = get_document(\"https://www.bbc.com/swahili/live/habari-55915183\")\n",
    "\n",
    "# calling the store_ document function \n",
    "store_document(doc=text,name=file)\n",
    "\n",
    "#add the words in this file to the total_corpus_words, to keep count of the number of words in the corpus\n",
    "total_corpus_words+=total_words(file)"
   ]
  },
  {
   "cell_type": "code",
   "execution_count": 12,
   "metadata": {},
   "outputs": [
    {
     "data": {
      "text/plain": [
       "395338"
      ]
     },
     "execution_count": 12,
     "metadata": {},
     "output_type": "execute_result"
    }
   ],
   "source": [
    "total_corpus_words"
   ]
  },
  {
   "cell_type": "code",
   "execution_count": 13,
   "metadata": {},
   "outputs": [
    {
     "name": "stdout",
     "output_type": "stream",
     "text": [
      "['Inaaminiwa', 'kuwa', 'Covid-19', 'ilitoka', 'kwa', 'wanyama', 'na', 'kusambazwa', 'kwa', 'binadamu', '.', 'Kwa', 'sasa', 'wataalamu', 'wanatahadharisha', 'kuwa', 'kuna', 'uwezekano', 'kwamba', 'huenda', 'janga', 'lingine', 'linaloweza', 'kulipuka', 'kwa', 'njia', 'kama', 'hiyo', '.', 'Kaskazini', 'mwa', 'Kenya', ',', 'watafiti', \"wanang'ang'ana\", 'kuzuia', 'aina', 'hatari', 'ya', 'virusi', 'vya', 'corona-', 'Mers', '-kutoka', 'kwa', 'ngamia', 'na', 'kuingia', 'kwa', 'binadamu', 'tena', '75', '%', 'ya', 'magonjwa', 'mapya', 'yanayowakumba', 'binadamu', 'nyakati', 'hizi', 'yanatokana', 'na', 'wanyama', 'kulingana', 'na', 'shirikisho', 'la', 'wataalamu', 'wa', 'magonjwa', 'duniani', 'linalodhaminiwa', 'na', 'serikali', 'ya', 'Marekani', '.', 'Wataalamu', 'hao', 'wamekwisha', 'gundua', 'na', 'kushuhudia', 'magonjwa', 'mapya', '1200', 'kutoka', 'kwa', 'wanyama', '.', 'Wanadhania', 'kuwa', 'kuna', 'magonjwa', 'mengine', '700,000', 'ya', 'wagonjwa', 'ambayo', 'bado', 'hayajafahamika', '.', 'Mnyama', 'mmoja', 'anayefugwa', 'anayewatia', 'hofu', 'wataalamu', 'hawa', '-', 'ni', 'ngamia', '.', 'Mnyama', 'huyu', 'wa', 'jamii', 'ya', 'mamalia', 'mwenye', 'shingo', 'ndefu', 'hufugwa', 'na', 'mamilioni', 'ya', 'wakazi', 'wengi', 'wa', 'Afrika', 'Mashariki', ',', 'Afrika', 'ya', 'Kaskazini', ',', 'na', 'maeneo', 'ya', 'Mashariki', 'ya', 'Kati', '.', 'Kwa', 'wafugaji', 'wake', 'Ngamia', 'sio', 'mifugo', 'wa', 'kawaida', ',', 'kwani', 'hutolewa', 'harusini', 'kama', 'sehemu', 'ya', 'mahari', ',', 'ni', 'kitoweo', 'na', 'pia', 'mali', 'yenye', 'thamini', 'kubwa', 'mtu', 'anapokuwa', 'nao', '.', 'Kulingana', 'na', 'wafugaji', 'wa', 'ngamia', ',', 'mnyama', 'huyu', 'ni', 'mnyama', 'mwenye', 'utulivu', 'na', 'amani', '.', 'Lakini', 'unapomsogelea', 'ukiwa', 'na', 'sindano', 'yenye', 'dawa', 'kutaka', 'kumdunga', 'au', 'kifaa', 'cha', 'kumpima', 'kuupitia', 'pua', 'lake', ',', 'ndipo', 'utakapojua', 'hasira', 'ya', 'mnyama', 'huyu', '.', '``', 'Anaweza', 'kukupiga', 'teke', '.', 'kukutemea', 'mate', 'au', 'hata', 'kukukojolea', '``', ',', 'anasema', 'Millicent', 'Minayo', 'mfanyakazi', 'wa', 'Chuo', 'Kikuu', 'cha', 'Washington', ',', 'anayefuatilia', 'maisha', 'ya', 'ngamia', '.', 'Minayo', 'amekuwa', 'akifanya', 'uchunguzi', 'kuwahusu', 'Ngamia', 'kwa', 'muda', 'wa', 'miaka', 'miwili', ',', 'wafugaji', 'wake', ',', 'na', 'wamiliki', 'wake', 'katika', 'wilaya', 'ya', 'Marsabit', 'Kaskazini', 'Mashariki', 'mwa', 'Kenya', '.', 'Anasema', ':', '``', 'Mtu', 'yeyote', 'anayezikaribia', 'anaweza', 'kuambukizwa', '``', '.', 'Ugonjwa', 'huo', 'wa', 'ngamia', 'unaofahamaika', 'kama', \"'\", 'Middle', 'East', 'respiratory', 'syndrome', '(', 'Mers', ')', ',', 'aina', 'mpya', 'ya', 'virusi', 'vya', 'corona', 'umeonekana', 'kuwa', 'na', 'makali', 'ya', 'kuua', 'mara', '10', 'zaidi', 'ya', 'Covid-19', '.', 'Ugonjwa', 'huu', 'ulipatikana', 'Saudi', 'Arabia', 'mwaka', '2012', '.', 'Hadi', 'kufikia', 'mwaka', '2016', ',', 'shirika', 'la', 'afya', 'duniani', '(', 'WHO', ')', 'lilikuwa', 'limeishapata', 'sampuli', 'zilizoonesha', 'kuwa', 'watu', '``', '1,761', 'waliugua', 'Mers-CoV', ',', 'na', 'takriban', '629', 'walikufa', 'kutokana', 'nao', \"''\", '.', 'Baadae', 'mwaka', 'huo', 'huo', ',', 'ugonjwa', 'huu', 'ulisambaa', 'katika', 'hospitali', 'na', 'watu', 'wakaambiwa', 'kuwa', 'maradhi', 'haya', 'yanaweza', 'kumpata', 'mtu', 'yeyote', 'yule', 'na', 'wala', 'sio', 'wafugaji', 'wa', 'ngamia', 'peke', 'yao', 'wanaweza', 'kuambukizwa', '.', 'Licha', 'ya', 'kwamba', 'ngamia', 'ndio', 'wenye', 'virusi', 'hivyo', ',', 'Mers', 'ni', 'tatizo', 'kwa', 'watu', 'wote', '.', 'Kadri', 'shughuli', 'za', 'watu', 'zinavyoendelea', 'kusababisha', 'mabadiliko', 'ya', 'hali', 'ya', 'hewa', 'na', 'ukame', 'mkubwa', 'na', 'wa', 'muda', 'mrefu', ',', 'ndivyo', 'wafugaji', 'wanavyoacha', 'ufugaji', 'wa', \"ng'ombe\", 'na', 'mifugo', 'mingine', 'na', 'kuanza', 'ufugaji', 'wa', 'gamiakwani', 'ndio', 'wanyama', 'pekee', 'wanaoweza', 'kuishi', 'kwa', 'wiki', 'kadhaa', 'bila', 'kunywa', 'maji', '.', 'Matokeo', 'yake', 'ni', 'kwamba', 'watu', 'wengi', 'wanaendelea', 'kusogeleana', 'na', 'ngamia-jambo', 'linalorahisisha', 'zaidi', 'kusambaa', 'kwa', 'maradhi', 'hayo', 'ya', 'ngamia', '.', 'Minayo', 'anasema', '``', 'Tulileta', 'utafiti', 'huu', 'nchini', 'Kenya', 'kwasababu', 'kuna', 'idadi', 'kubwa', 'ya', 'ngamia', ',', 'hususan', 'katika', 'wilaya', 'hii', 'ya', 'Marsabit', '.', \"''\", 'Anasema', 'yeye', 'na', 'watafiti', 'wenzake', 'walibaini', 'virusi', 'hivi', 'mwaka', '2019', 'katika', 'ngamia', '14', '.', 'Kwasasa', 'wanajaribu', 'kurusi', 'hivi', 'miongoni', 'mwa', 'watu', 'wa', 'Marsabit', ',', 'ili', 'kutafuta', 'jinsi', 'ya', 'kukabiliana', 'na', 'kusambaa', 'zaidi', 'kwa', 'ugonjwa', 'huu', 'kabla', 'ya', 'kusambaa', 'kama', 'Covid-19', '.', 'Nchi', 'ya', 'ngamia', 'Nchini', 'Kenya', 'kuna', 'ngamia', 'takriban', 'milioni', 'tatu', ',', 'dadi', 'hii', 'ikiwa', 'ni', 'karibu', '10', '%', 'ya', 'magari', 'yote', 'duniani', ',', 'Kenya', 'niya', 'tatu', 'baada', 'ya', 'Sudan', 'na', 'somalia', 'kwa', 'kuwa', 'na', 'idadi', 'ya', 'Somalia', '.', 'Serikali', 'ya', 'Kenya', 'inasema', 'kuwa', 'Marsabit', 'kuna', 'takriban', 'ngamia', '224,000', '.', 'Idadi', 'hii', 'ikiwa', 'ni', 'karibu', 'sawa', 'na', 'idadi', 'ya', 'wakazi', 'wa', 'Marsabit', '.', 'Ufugaji', 'huchangia', '85', '%', 'ya', 'uchumi', 'wa', 'Marsabit', ',', 'licha', 'ya', 'kwamba', 'wakazi', 'wa', 'eneo', 'hilo', 'hufuga', \"ng'ombe\", 'ngamia', 'ndio', 'uti', 'wa', 'mgongo', 'wa', 'uchumi', 'wa', 'eneo', 'hilo', ',', 'kutokana', 'na', 'kwamba', 'ngamia', 'ndio', 'wanaoweza', 'kuhimiri', 'ukame', 'katika', 'eneo', 'hilo', '.', 'Lakini', 'kadri', 'ngamia', 'wanavyoendelea', 'kuongezeka', 'ndivyo', 'hatari', 'ya', 'uwezekano', 'wa', 'kupata', 'maambukizi', 'kutoka', 'kwao', 'unavyoongezeka', ',', 'kulingana', 'na', 'Dawn', 'Zimmerman', 'mtaalamu', 'wa', 'magonjwa', 'ya', 'wanyama', 'katika', 'taasisi', 'ya', 'Smithsonian', 'Conservation', 'Biology', 'Iya', 'uchunguzi', 'wa', 'magonjwa', 'ya', 'wanyama', '.', 'Huwaomba', 'wafugaji', 'kuwasaidia', 'kuwakamata', 'ngamia', 'sitaili', 'waweze', 'kuwapima', '.', 'Ngamia', 'hawa', 'ni', 'wadogo', 'kila', 'mmoja', 'hajatimiza', 'umri', 'wa', 'miaka', 'miwili', '.', 'Chanzo', 'cha', 'picha', ',', '(', 'Credit', ':', 'Jacob', 'Kushner', ')', 'Maelezo', 'ya', 'picha', ',', 'Kuwapima', 'ngamia', 'kunahitaji', 'mbinu', 'tofauti', 'na', 'itabidi', 'zaidi', 'ya', 'mmoja', 'Dub', 'Wato', ',', 'ambaye', 'amekulia', 'katika', 'maingira', 'ya', 'ufugaji', 'wa', 'ngamia', 'katika', 'Marsabit', 'kutoka', 'jamii', 'ya', 'Gabra', 'anasema', ':', '``', 'Ngamia', 'ni', 'mnyama', 'mkubwa', 'sana', '.', 'Lazima', 'uwe', 'na', 'nguvu', 'ili', 'kumkamata', '.', 'Na', 'sio', 'nguvu', 'anahitaji', 'mbinu', 'za', 'ujanja', 'kumkamata', '.', \"''\", 'Mojawapo', 'ya', 'mbinu', 'ni', 'kumkata', 'kwa', 'kuanza', 'na', 'mkia', 'wake', 'huku', 'ukiupapasa', '.', 'Unapoweza', 'kuukamata', 'hawezi', 'kwenda', 'popote', '.', '``', 'Mtu', 'wa', 'pili', 'anaweza', 'kushika', 'sikio', 'na', 'mwingine', 'mdomo', '.', \"''\", 'Ngamia', 'hurukaruka', 'na', 'kujaribu', 'kupiga', 'mateke', 'huku', 'na', 'kule', 'au', 'kuwapiga', 'kwa', 'magoti', 'yake', 'wanaojaribu', 'kumkamata', '.', 'Baada', 'ya', 'kuwakamata', 'ngamia', 'Dub', 'Wato', 'huchukua', 'vipimo', 'vyao', 'kupitia', 'puani', ',', 'na', 'kisha', 'kuwachoma', 'sindano', 'chini', 'ya', 'masikio', 'na', 'kuvuta', 'damu', '.', 'Baada', 'ya', 'upimaji', 'wa', 'ngamia', ',', 'binadamu', 'hufuata', '.', 'Mmoja', 'baada', 'ya', 'mwingine', ',', 'Minayo', 'huchukua', 'vipimo', 'vyao', 'kupitia', 'pua', 'zao', 'na', 'kooni', '.', 'Huku', 'wakiongea', 'na', 'kufanya', 'mzaha', 'na', 'kucheka', ',', 'upimaji', 'huendelea', 'hivyo', 'hivyo', '.', 'Siku', 'yao', 'ya', 'kazi', 'inapokamilika', ',', 'Minayo', 'na', 'Dub', 'Wato', 'huvua', 'mavazi', 'yao', 'ya', 'kujikinga', 'na', 'maambukizi', 'na', 'kusafirisha', 'sampuli', 'za', 'vipimo', 'vyao', 'kwa', 'pikipiki', 'hadi', 'katika', 'hospitali', 'iliyopo', 'mjini', '.', 'katika', 'hospitali', 'huweka', 'sampuli', 'hizi', 'katika', 'friji', 'zenye', 'nyuzi', 'joto', '80', 'ili', 'kuviwezesha', 'kusafirishwa', 'hadi', 'mji', 'mkuu', 'Nairobi', 'kwa', 'ajili', 'ya', 'kufanyiwa', 'vipimo', 'vya', 'virusi', 'vya', 'Mers', '.', 'Hata', 'kabla', 'ya', 'kuibuka', 'kwa', 'mlipuko', 'wa', 'Covid-19', ',', 'magonjwa', '13', 'ya', 'wanyama', 'ikiwa', 'ni', 'pamoja', 'na', 'kifua', 'kikuu', '(', 'TB', ')', 'homa', 'ya', 'ini', ',', '(', 'hepatitis', 'E', ')', 'na', 'mafua', 'ya', 'ndege', ',', 'yalikuwa', 'yanasababisha', 'maambukizi', 'kwa', 'watu', 'bilioni', 'na', 'vifo', 'vipatavyo', 'milioni', '2.2', 'kila', 'mwaka', 'duniani', '.', 'Iwapo', 'virusi', 'vya', 'Mers', 'vitaingia', 'kwa', 'binadamu', 'vinaweza', 'kusambaa', 'kwa', 'kasi', 'kubwa', '.', 'nchini', 'Saudi', 'Arabia', 'mwezi', 'Disemba', ',', '2019', 'na', 'Januari', '2020', ',', 'watu', '15', 'walipatikana', 'na', 'maambukizi', 'ya', 'Mers', ',', 'watatu', 'miongoni', 'mwao', 'walikuwa', 'ni', 'wahudumu', 'wa', 'hospitali', '.', '``', 'Kutokana', 'na', 'uwezo', 'wa', 'virusi', 'vya', 'aina', 'corona', 'wa', 'kujibadilisha', 'katika', 'umbo', 'jingine', 'ina', 'maanisha', 'kuwa', 'hakuna', 'anayefahamu', 'ni', 'umbile', 'gani', 'la', 'corona', 'linaweza', 'kumfikia', 'binadamu', '``', '-', 'Zimmerman', '.', 'Ndio', 'maana', 'ni', 'muhimu', 'sana', 'kufanyika', 'kwa', 'utafiti', 'wa', 'magonjwa', 'ya', 'wanyamayanayoweza', 'kusababisha', 'majangakatika', 'siku', 'za', 'usoni', ',', 'anasema', 'Zimmerman', '.', 'Ni', 'wanyama', 'wanaoliwa', ',', 'maziwa', 'yake', 'ni', 'kinywaji', 'cha', 'binadamu', 'na', 'binadamu', 'huishi', 'nao', 'Wafugaji', 'wanaposafiri', 'kutafuta', 'malisho', 'ya', 'ngamia', 'mbali', 'na', 'makwao', ',', 'hulala', 'na', 'ngamia', 'ili', 'wawakinge', 'na', 'joto', 'hususan', 'nyakati', 'za', 'usiku', 'kunapokua', 'na', 'baridi', '.', 'Kunapokucha', 'huwakamua', 'maziwa', 'na', 'kuyanywa', 'yakiwa', 'mabichi-mara', 'nyingine', 'maziwa', 'hayo', 'huwa', 'ndio', 'kitu', 'wanachokua', 'nacho', 'badala', 'ya', 'chakula', 'kwa', 'siku', 'kadhaa', 'au', 'hata', 'wiki', 'nzima', '.', 'Ngamia', 'anapofia', 'jangwani', 'wakati', 'mwingine', 'wafugaji', 'hula', 'nyama', 'zao', 'mbichi', ',', 'kwasababu', 'ya', 'kukosa', 'mahala', 'pa', 'kupika', 'nyama', 'yake', '.', 'Mienendo', 'hii', 'yote', 'inaweza', 'kusambazavirusi', 'vya', 'Mers', '.', 'Chanzo', 'cha', 'picha', ',', '(', 'Credit', ':', 'Jacob', 'Kushner', ')', 'Maelezo', 'ya', 'picha', ',', 'Mmoja', 'wa', 'wafugaji', 'wa', 'ngamia', 'akipimwa', 'virusi', 'vya', 'Mers', 'katika', 'wilaya', 'ya', 'Marsabit', 'Anafikiri', 'amekwishaona', 'ngamia', 'wenye', 'ugonjwa', 'huo', 'katika', 'jamii', 'yake', ':', '``', 'Tunawaona', 'ngamia', 'wakikohoa-sawa', 'na', 'binadamu', '.', 'Lakini', 'tunaishi', 'nao', ',', 'hatutawakwepa', '``', '.', 'Hali', 'ndivyo', 'ilivyo', 'katika', 'eneo', 'muhimu', 'la', 'watu', 'wanaozuia', 'kueneo', 'kwa', 'virusi', 'vya', 'Mers', 'Wataalamu', 'wa', 'masuala', 'ya', 'kisayansi', 'wanajaribu', 'kuzuia', 'majanga', 'ya', 'siku', 'zijazo', ',', 'wakiwapima', 'watu', 'na', 'ngamia', '.', 'Lakini', 'dunia', 'inabadilika', 'sana', 'inapokuja', 'katika', 'maambukizi', 'ya', 'magonjwa', 'ambayo', 'wanyama', 'wanawaambukiza', 'binadamu', '.', 'Hata', 'hivyo', 'bado', 'wataalamu', 'wengi', 'wanajiuliza', 'iwapo', 'mbinu', 'za', 'kupima', 'magonjwa', 'haya', 'zinatosha', 'au', 'la', '.']\n",
      "\n",
      " Number of Words:  1267\n"
     ]
    }
   ],
   "source": [
    "file=\"21feb7.txt\"\n",
    "\n",
    "# calling the function and storing the contents in a text variable \n",
    "text = get_document(\"https://www.bbc.com/swahili/habari-55856971\")\n",
    "\n",
    "# calling the store_ document function \n",
    "store_document(doc=text,name=file)\n",
    "\n",
    "#add the words in this file to the total_corpus_words, to keep count of the number of words in the corpus\n",
    "total_corpus_words+=total_words(file)"
   ]
  },
  {
   "cell_type": "code",
   "execution_count": 14,
   "metadata": {},
   "outputs": [
    {
     "data": {
      "text/plain": [
       "396605"
      ]
     },
     "execution_count": 14,
     "metadata": {},
     "output_type": "execute_result"
    }
   ],
   "source": [
    "total_corpus_words"
   ]
  },
  {
   "cell_type": "code",
   "execution_count": 15,
   "metadata": {},
   "outputs": [
    {
     "name": "stdout",
     "output_type": "stream",
     "text": [
      "['Virusi', 'vya', 'Corona', ':', 'Chuo', 'Kikuu', 'Huria', 'Tanzania', 'chatahadharisha', 'wanafunzi', ',', 'wafanyakazi', 'BBCCopyright', ':', 'BBC', 'Chuo', 'Kikuu', 'Huria', 'cha', 'Tanzania', '(', 'OUT', ')', 'kimetoa', 'tahadhari', 'kwa', 'wanafunzi', 'na', 'wafanyakazi', 'wake', 'juu', 'ya', 'hatari', 'ya', 'maambukizi', 'ya', 'virusi', 'vya', 'corona', 'na', 'kuwataka', 'kuchukua', 'hatua', 'zote', 'za', 'kujilinda', '.', 'Tahadhari', 'hiyo', 'imetolewa', 'kupitia', 'waraka', 'wa', 'Makamu', 'Mkuu', 'wa', 'Chuo', 'Profesa', 'Elifas', 'Tozo', 'Bisanda', 'wa', 'jana', 'Februari', '8', ',', '2020', '.', 'Waraka', 'amabao', 'hii', 'leo', 'umekuwa', 'ukisambaa', 'katika', 'baadhi', 'ya', 'mitandao', 'ya', 'kijamii', 'nchini', 'Tanzania', '.', 'Awali', 'BBC', 'ilizungumza', 'na', 'Profesa', 'Tozo', 'ambaye', 'amesisitiza', 'kuwa', ':', '``', 'taarifa', 'hii', 'ni', 'ya', 'ndani', 'kwa', 'wafanyakazi', 'pamoja', 'na', 'wanafunzi', '...', 'wengine', 'haiwahusu', '.', \"''\", 'Waraka', 'huo', 'unawataka', 'wanafunzi', 'na', 'wafanyakazi', 'kuepuka', 'mikusanyiko', 'isiyo', 'ya', 'lazima', 'na', 'kuwa', 'tishio', 'la', 'maambukizi', '``', 'linashamiri', \"''\", '.', '``', 'Kwa', 'upande', 'wa', 'wanafunzi', 'tunasisitiza', 'wakae', 'nyumbani', 'na', 'kusoma', 'kwa', 'njia', 'ya', 'mtandao', ',', 'hatutaruhusu', 'wanafunzi', 'na', 'wageni', 'kuingia', 'kwenye', 'kampasi', 'zetu', 'bila', 'sababu', 'maalumu', '’', '’', 'inasema', 'taarifa', 'hiyo', '.', 'Kwa', 'upande', 'wa', 'wafanyakazi', 'wao', 'wataendesha', 'mikutano', 'yao', 'kwa', 'njia', 'ya', 'mtandao', '.', 'Aidha', 'taarifa', 'hiyo', 'pia', 'imesisitiza', 'umuhimu', 'wa', 'kujifukiza', 'na', 'kutumia', 'dawa', 'asili', ',', 'lakini', 'pia', 'kujilinda', 'kwa', 'kuvaa', 'barakoa', 'na', 'kuepuka', 'misongamano', '.', '``', 'Inakua', 'ngumu', 'sana', 'kuepuka', 'maambukizi', 'kama', 'hatuzingatii', 'masharti', 'ya', 'kujikinga', '.', 'Hata', 'hivyo', 'imethibitishwa', 'kuwa', 'taratibu', 'za', 'kujifukiza', '(', 'Nyungu', ')', 'zinaleta', 'ahueni', 'lakini', 'haimaiinishi', 'kwamba', 'virusi', 'vile', 'vitakufa', '’', '’', 'inasema', 'taarifa', 'hiyo', '.', 'Hata', 'hivyo', ',', 'Shirika', 'la', 'Afya', 'Duniani', '(', 'WHO', ')', 'halijathibitisha', 'dawa', 'yeyote', 'ya', 'mitishamba', 'kutibu', 'virusi', 'vya', 'corona', 'na', 'pia', 'imetahadharisha', 'juu', 'ya', 'kujifukiza', '.', 'Mwezi', 'uliopita', 'Kanisa', 'Katoliki', 'nchini', 'Tanzania', 'lilitoa', 'tahadhari', 'juu', 'ya', 'wimbi', 'jipya', 'la', 'maambukizi', 'ya', 'corona', 'na', 'kuwataka', 'wananchi', 'kuchukua', 'hatua', 'zote', 'za', 'kujikinga', '.', 'Tahadhari', 'hiyo', 'ilitolewa', 'kupitia', 'waraka', 'ulioandikwa', 'na', 'Rais', 'wa', 'Baraza', 'la', 'Maaskofu', 'wa', 'Katoliki', 'Tanzania', '(', 'TEC', ')', 'Askofu', 'Gervas', 'Nyaisonga', '.', 'Hata', 'hivyo', 'Wizara', 'ya', 'afya', 'nchini', 'humo', 'bado', 'haijathibitisha', 'taarifa', 'za', 'uwepo', 'wa', 'wagonjwa', 'au', 'vifo', 'vinavyo', 'sababishwa', 'na', 'wimbi', 'jipya', 'la', 'virusi', 'vya', 'corona', '.', 'Mara', 'ya', 'mwisho', 'kutolewa', 'kwa', 'taarifa', 'za', 'mwenendo', 'wa', 'maambukizi', 'ya', 'virusi', 'vya', 'corona', 'ilikua', 'mwezi', 'Aprili', 'mwaka', 'jana', '.', 'Ethiopia', 'yapanga', 'kufunga', 'kambi', 'za', 'wakimbizi', 'Tigray', 'Ethiopia', 'inapanga', 'kufunga', 'kambi', 'mbili', 'za', 'wakimbizi', 'zilizopio', 'kaskazini', 'mwa', 'jimbo', 'la', 'Tigray', 'ambalo', 'lilikumbwa', 'na', 'vita', 'kati', 'ya', 'waliokuwa', 'watawala', '(', 'TPLF', ')', 'na', 'serikali', 'kuu', ',', 'kwa', 'mujibu', 'wa', 'shirika', 'la', 'wakimbizi', 'nchini', 'humo', '.', 'Akizungumza', 'na', 'wanahabari', 'Jumanne', ',', 'mkuu', 'wa', 'Shirika', 'la', 'Wakimbizi', 'na', 'Wanaorejea', 'nchini', 'Ethiopia', ',', 'Tesfaye', 'Gobezay', ',', 'amesema', 'ukaribu', 'na', 'mipaka', 'ya', 'Eritrea', 'na', 'hali', 'mbaya', 'ya', 'kijiographia', 'ndizo', 'sababu', 'zilizopeekea', 'kufungwa', 'kwa', 'kambi', 'hizo', '.', 'Karibu', 'wakimbizi', '100,000', 'kutoka', 'Eritrea', 'walikuwa', 'wanaishi', 'kambini', 'huko', 'Tigray', 'kabla', 'ya', 'kuanza', 'kwa', 'mapigano', 'mapema', 'mwezi', 'Novemba', '.', 'Kambi', 'mbili', '-', 'Shimbela', 'na', 'Hitsats', '–', 'ambazo', 'zilikuwa', 'na', 'zaidi', 'ya', 'wakimbizi', '20,000', 'hazijaweza', 'kufikiwa', 'kwa', 'ajili', 'ya', 'kupewa', 'misaada', 'siku', 'za', 'hivi', 'karibuni', '.', 'Bwana', 'Tesfaye', 'aliongeza', 'kuwa', 'wakimbizi', 'watapelekwa', 'katika', 'kambi', 'zingine', 'au', 'kurejeshwa', 'wenye', 'jamii', '.', 'Hivi', 'karibuni', ',', 'shirika', 'la', 'UN', 'lilisema', 'kwamba', 'karibu', 'wakimbizi', '20,000', 'wa', 'Eritrea', 'hawajulikani', 'walipo', '.', 'Kulingana', 'na', 'Bwana', 'Tesfaye', 'kumekuwa', 'na', 'majaribio', 'ya', 'awali', 'ya', 'kufunga', 'kambi', 'za', 'Hitsats', ',', 'lakini', 'juhudi', 'hizo', 'zikashindikana', 'kwasababu', 'chama', 'cha', 'Tigray', 'People', '’', 's', 'Liberation', 'Front', '(', 'TPLF', ')', 'kilipinga', 'mpango', 'huo', 'na', 'pia', 'janga', 'la', 'corona', 'likachangia', '.', '“', 'Kulikuwa', 'na', 'mapigano', 'haswa', 'katika', 'kambi', 'hizo', '”', 'na', 'wakimbizi', '“', 'walijikuta', 'katika', 'njia', 'panda', '”', ',', 'Bwana', 'Tesfaye', 'alisema', '.', 'Hata', 'hivyo', 'uchunguzi', 'zaidi', 'unahitajika', 'kubaini', 'taarifa', 'za', 'kina', 'na', 'ikiwa', 'kuna', 'waliopoteza', 'maisha', 'yao', '.', 'Polepole', ':', 'Magufuli', 'hana', 'mpango', 'wa', 'kuongeza', 'muhula', 'mwingine', 'Katibu', 'wa', 'Itikadi', 'na', 'Uenezi', 'wa', 'Chama', 'Cha', 'Mapinduzi', '(', 'CCM', ')', 'na', 'mbunge', 'wa', 'kuteuliwa', 'Humphrey', 'Polepole', 'amesema', 'kuwa', 'Rais', 'wa', 'Tanzania', 'John', 'Magufuli', 'hana', 'mpango', 'wa', 'kuongeza', 'muda', 'wa', 'kukaa', 'madarakani', '.', 'Mbunge', 'wa', 'Konde', ',', 'Khatib', 'Said', 'Haji', 'kupitia', 'chama', 'cha', 'ACT-Wazalendo', 'bungeni', 'leo', 'aliibua', 'suala', 'hilo', 'akikosoa', 'wabunge', 'wawili', 'wa', 'CCM', 'ambao', 'walitoa', 'hoja', 'ya', 'kutaka', 'Rais', 'Magufuli', 'kuongezewa', 'muda', 'na', 'Polepole', 'kujibu', 'hoja', 'zao', '.', 'Akitoa', 'taarifa', 'kwa', 'mbunge', 'huyo', 'wa', 'ACT', ',', 'Polepole', 'amesema', 'kuwa', 'Rais', 'hataongeza', 'muda', 'wowote', '.', '“', 'Masuala', 'ya', 'Chama', 'cha', 'mapinduzi', 'hujadiliwa', 'kwenye', 'vikao', 'vya', 'chama', ',', 'hapa', 'bungeni', 'wabunge', 'wana', 'uhuru', 'wa', 'kuzungumza', 'lakini', 'kinachozungumzwa', 'humu', 'ndani', 'hakiathiri', 'msimamo', 'wa', 'Chama', 'cha', 'Mapinduzi', 'ambao', 'tumeshautoa', ',', 'Rais', 'hataongeza', 'muda', ',', '”', 'ameeleza', 'Polepole', '.', 'Mjadala', 'wa', 'kuongeza', 'muda', 'wa', 'rais', 'madarakani', 'umerejea', 'tena', 'hivi', 'karibuni', 'baada', 'ya', 'wabunge', 'wawili', 'wa', 'CCM', 'kuchangia', 'Bungeni', '.', 'Awali', ',', 'katika', 'muhula', 'wake', 'wa', 'kwanza', ',', 'Rais', 'Magufuli', 'alipuuzia', 'mapendekezo', 'hayo', 'kutoka', 'kwa', 'baadhi', 'ya', 'wabunge', 'wa', 'Bunge', 'lililopita', 'akiahidi', 'kutoongeza', 'hata', 'dakika', 'moja', 'muda', 'wake', 'wa', 'kuondoka', 'madarakani', 'utakapofika', '.', 'Tanzania', ':', 'Deni', 'la', 'Taifa', 'laongezeka', 'kwa', 'asilimia', '7.6', 'Ongezeko', 'la', 'deni', 'la', 'Taifa', 'nchini', 'Tanzania', 'limefikia', 'kiasi', 'cha', 'trilioni', '59', 'hadi', 'kufikia', 'mwaka', '2020', 'ambayo', 'ni', 'sawa', 'na', 'ongezeko', 'la', 'asilimia', '7.6', 'ikilinganishwa', 'na', 'shilingi', 'trilioni', '54.8', 'kwa', 'kipindi', 'kama', 'hicho', 'mwaka', '2019', ',', 'huku', 'Bunge', 'likitoa', 'ushauri', 'liwe', 'himilivu', '.', 'Kati', 'ya', 'kiasi', 'hicho', 'deni', 'la', 'ndani', 'limefikia', 'sh', 'trilioni', '16.2', 'na', 'deni', 'la', 'nje', 'sh', '.', 'Trilioni', '42.8', '.', 'Ongezeko', 'la', 'deni', 'limetokana', 'na', 'ukopaji', 'kwa', 'ajili', 'ya', 'kugharamia', 'miradi', 'mbalimbali', 'ya', 'maendeleo', '.', 'Gazeti', 'la', 'Nipashe', 'nchini', 'Tanzania', 'limeripoti', 'Hayo', 'yamebainishwa', 'na', 'Sillo', 'Baran', 'Mwenyekiti', 'wa', 'Kamati', 'ya', 'Kudumu', 'ya', 'Bunge', 'ya', 'Bajeti', 'alipokuwa', 'akiwasilisha', 'taarifa', 'kuhusu', 'tathimini', 'ya', 'utekelezajiwa', 'mpango', 'wa', 'maendeleo', 'wa', 'miaka', 'mitano', '2016/2017', 'mpaka', '2020/2021', '.', 'Ingawa', 'deni', 'hilo', 'ni', 'himilivu', 'kwa', 'viashiria', 'vyote', 'muhimu', 'serikali', 'imeshauriwa', 'ione', 'haja', 'ya', 'kujipima', 'uhimilivu', 'wakekwa', 'kutumia', 'kiashiria', 'cha', 'makusanyo', 'ya', 'mapato', 'ya', 'ndani', '.', 'Kwa', 'mujibu', 'wa', 'tathimini', 'ya', 'uhilimivu', 'wa', 'deni', 'imeonesha', 'kuwa', 'deni', 'la', 'serikali', 'ni', 'himilivukatika', 'kipindi', 'cha', 'muda', 'mfupi', ',', 'wa', 'kati', 'na', 'mrefu', 'kwa', 'kuzingatia', 'ukomo', 'unaokubalika', 'kimataifa', 'kwa', 'viashiria', 'vyote', 'muhimu', '.', 'Kamati', 'ya', 'Kudumu', 'ya', 'Bunge', 'na', 'Bajeti', 'imeishauri', 'katika', 'maoni', 'ya', 'jumla', 'kutafuta', 'njia', 'ya', 'kupunguza', 'kukopa', 'katika', 'soko', 'la', 'fedha', 'la', 'ndani', 'ili', 'kuziba', 'nakisi', 'ya', 'bajeti', 'kwa', 'kupitia', 'dhamana', 'ya', 'serikali', 'na', 'hati', 'fungani', '.', 'Badala', 'yake', ',', 'serikali', 'ijikite', 'zaidi', 'katika', 'kuongeza', 'matumizi', 'ya', 'mikopo', 'inayojidhamini', 'ni', 'yenyewe', '.', 'Bobi', 'Wine', 'awasilisha', 'ushahidi', 'zaidi', 'mahakamani', 'dhidi', 'ya', 'ushindi', 'wa', 'Rais', 'Museveni', 'Getty', 'ImagesCopyright', ':', 'Getty', 'Images', 'Mawakili', 'wa', 'mwanasiasa', 'wa', 'upinzani', 'nchini', 'Uganda', 'Robert', 'Kyagulanyi', ',', 'maarufu', 'Bobi', 'Wine', 'wamewasilisha', 'ushahidi', 'zaidi', 'katika', 'mahakama', 'ya', 'juu', 'zaidi', 'nchini', 'humo', 'dhidi', 'ya', 'matokeo', 'ya', 'uchaguzi', 'uliomrejesha', 'tena', 'madarakani', 'Rais', 'yoweri', 'Museveni', '.', 'Jopo', 'la', 'majaji', 'likiongozwa', 'na', 'Jaji', 'mkuu', 'Alfonce', 'Owiny', 'Doro', ',', 'linasikiliza', 'ombi', 'hilo', 'katika', 'Mahakama', 'ya', 'juu', 'zaidi', 'hivi', 'sasa', '.', 'Hii', 'inakuja', 'baada', 'ya', 'mawakili', 'wa', 'upande', 'wa', 'Bobi', 'Wine', 'kuiomba', 'mahakama', 'waongeze', 'ushahidi', 'zaidi', 'kupinga', 'matokeo', 'ya', 'uchaguzi', 'huo', 'uliofanyika', 'mwezi', 'Januari', '.', 'Rais', 'Museveni', 'alipata', 'ushindi', 'wa', 'asilimia', '58.08', 'huku', 'Robert', 'Chagulanyi', 'akipata', 'asilimia', 'zaidi', 'ya', '35', ',', 'matokeo', 'yanayopingwa', 'vikali', 'na', 'Bw', 'Wine', '.', 'Upande', 'wa', 'mawakili', 'wa', 'Rais', 'Museveni', 'umeshapokea', 'nakala', 'ya', 'mashtaka', 'na', 'siku', 'ya', 'Alhamisi', 'wiki', 'hii', 'wanatarajia', 'kufika', 'katika', 'mahakama', 'ya', 'juu', 'kupanga', 'siku', 'ya', 'kusikilizwa', 'kwa', 'kesi', 'hiyo', ',', 'katika', 'kipindi', 'cha', 'siku', '45', 'kulingana', 'sheria', 'ya', 'uchaguzi', 'nchini', 'humo', '.', 'ICC', 'yaahirisha', 'kesi', 'dhidi', 'ya', 'viongozi', 'wa', 'waasi', 'wa', 'Jamuhuri', 'ya', 'Afrika', 'ya', 'Kati', 'Getty', 'ImagesCopyright', ':', 'Getty', 'Images', 'Kesi', 'ya', 'viongozi', 'wa', 'waasi', 'wa', 'Jamuhuri', 'ya', 'Afrika', 'ya', 'kati', ',', 'iliyotarajiwa', 'kuanza', 'hii', 'leo', 'katika', 'Mahakama', 'ya', 'Kimataifa', '(', 'ICC', ')', ',', 'imeahirishwa', 'mpaka', 'tarehe', '16', 'mwezi', 'Februari', '.', 'Alfred', 'Yékatom', 'na', 'Patrice-Edouard', 'Ngaïssona', 'wanakabiliwa', 'na', 'makosa', '21', 'na', '32', 'ya', 'uhalifu', 'wa', 'kivita', 'na', 'uhalifu', 'dhidi', 'ya', 'ubinadamu', 'Uhalifu', 'unaodaiwa', 'ni', 'pamoja', 'na', 'kuongoza', 'shambulio', 'dhidi', 'ya', 'raia', 'kwa', 'makusudi', '.', 'Watashtakiwa', 'kwa', 'pamoja', 'kwani', 'mashtaka', 'yanahusiana', 'na', 'mashambulio', 'hayo', 'hayo', '.', 'Bw.Ngaïssona', 'awali', 'alikana', 'mashtaka', 'yote', 'dhidi', 'yake', '.', 'CAR', 'ilitumbukia', 'katika', 'machafuko', 'mwaka', '2013', 'wakati', 'waasi', 'wengi', 'wa', 'Kiislamu', 'kutoka', 'kundi', 'la', 'Seleka', 'walipochukua', 'madaraka', 'katika', 'nchi', 'yenye', 'jamii', 'kubwa', 'ya', 'Wakristo', '.', 'Getty', 'ImagesCopyright', ':', 'Getty', 'Images', 'Kisha', 'kundi', 'lenye', 'wanamgambo', 'wengi', 'wa', 'Kikristo', ',', 'lililoitwa', 'anti-Balaka', 'liliibuka', 'ili', 'kukabiliana', 'na', 'Seleka', 'baada', 'ya', 'Rais', 'François', 'Bozizé', 'kuondolewa', 'madarakani', '.', 'Maelfu', 'walipoteza', 'maisha', 'katika', 'mapigano', 'na', 'Umoja', 'wa', 'Mataifa', '(', 'UN', ')', 'ulisema', 'zaidi', 'ya', 'watu', 'milioni', 'moja', 'walilazimika', 'kukimbia', 'makazi', 'yao', '.', 'Bwana', 'Ngaïssona', 'alikuwa', 'mratibu', 'wa', 'kisiasa', 'aliyejitangaza', 'mwenyewe', 'wa', 'vikosi', 'vya', 'anti-Balaka', '.', 'Katika', 'jukumu', 'hilo', ',', 'ICC', 'imesema', 'alifanya', 'uhalifu', 'wa', 'kivita', 'na', 'uhalifu', 'dhidi', 'ya', 'ubinadamu', 'ikiwa', 'ni', 'pamoja', 'na', 'mauaji', ',', 'kutesa', 'na', 'kuajiri', 'watoto', 'jeshini', '.', 'Kesi', 'ya', 'Bw', 'Ngaïssona', 'na', 'Bw', 'Yékatom', 'itaanza', 'wiki', 'chache', 'baada', 'ya', 'Jamuhuri', 'ya', 'Afrika', 'ya', 'Kati', 'kumkabidhi', 'Mahamat', 'Said', 'Abdel', 'Kani', ',', 'kiongozi', 'wa', 'kikundi', 'cha', 'Seleka', ',', 'kwa', 'ICC', 'kwa', 'madai', 'ya', 'uhalifu', 'uliofanywa', 'katika', 'mji', 'mkuu', ',', 'Bangui', ',', 'mnamo', '2013', '.', 'Zanzibar', 'inavyoshamiri', 'katika', 'sekta', 'ya', 'utalii', 'wakati', 'dunia', 'ikikabiliana', 'na', 'corona', 'Salim', 'Kikeke', 'BBC', 'Swahili', 'presenter', 'Unapokuwa', 'angani', 'ukikarbia', 'kutua', 'kwenye', 'uwanja', 'wa', 'ndege', 'wa', 'kimataiifa', 'wa', 'Amani', 'Abedi', 'Karume', 'Zanzibar', ',', 'utaona', 'jinsi', 'eneo', 'la', 'kuegesha', 'ndege', 'liliivyojaa', '.', 'Na', 'unapotua', 'unagundua', 'kuwa', 'ni', 'ndege', 'za', 'kukodi', 'za', 'watalii', 'pamoja', 'na', 'nyigine', 'kadhaa', 'za', 'abiria', '.', 'Waziri', 'Mkuu', 'wa', 'Sudan', 'ateua', 'viongozi', 'wa', 'waasi', 'kwenye', 'serikali', 'Waziri', 'Mkuu', 'wa', 'Sudan', 'Abdalla', 'Hamdok', 'amelitaja', 'baraza', 'jipya', 'la', 'mawaziri', 'ambalo', 'linahusisha', 'viongozi', 'wa', 'zamani', 'wa', 'waasi', 'ambao', 'walikuwa', 'sehemu', 'ya', 'mkataba', 'wa', 'Amani', 'uliosainiwa', 'mwezi', 'Oktoba', '.', 'Bw.Hamdok', 'alivunja', 'baraza', 'lililopita', 'siku', 'ya', 'Jumapili', 'kwa', 'ajili', 'ya', 'kuunda', 'serikali', 'ya', 'umoja', '.', 'Mawaziri', 'wawili', 'walichaguliwa', 'kutoka', 'kwenye', 'jeshi', '.', 'Wengi', 'kutoka', 'kwenye', 'vikosi', 'vya', 'Uhuru', 'na', 'mabadiliko', 'vilivyoongoza', 'maandamano', 'yaliyomuondoa', 'Omar', 'al-Bashir', 'madarakani', '.', 'Waziri', 'Mkuu', 'amemteua', 'kiongozi', 'wa', 'zamani', 'wa', 'waasi', 'na', 'mwanauchumi', 'Gibril', 'Ibrahim', 'kuwa', 'Waziri', 'wa', 'fedha', '.', 'Hatua', 'hii', 'imekuja', 'wakati', 'ambapo', 'kuna', 'upungufu', 'wa', 'chakula', 'na', 'mafutakupanda', 'na', 'mfumuko', 'wa', 'bei', '.', 'Kuwa', 'waziri', 'wa', 'mambo', 'ya', 'nje', 'wa', 'Sudan', 'katika', 'eneo', 'lenye', 'hali', 'tete', 'pia', 'itakuwa', 'mtihani', 'mkubwa', '.', 'Kazi', 'hiyo', 'ilikwenda', 'kwa', 'Mariam', 'al-Sadiqal-Mahdi-', 'binti', 'wa', 'waziri', 'mkuu', 'wa', 'mwisho', 'wa', 'aliyechaguliwa', 'kidemokrasia', ',', 'Sadiqal-Mahdi', '.', 'Bado', 'kuna', 'wanajeshi', 'katika', 'baraza', 'la', 'mawaziri', 'la', 'Bwana', 'Hamdok', '-', 'ukumbusho', 'wa', 'ndoa', 'ngumu', 'kati', 'ya', 'wanajeshi', 'na', 'raia', 'wakati', 'Sudan', 'inaendelea', 'na', 'kipindi', 'cha', 'mpito', 'kuelekea', 'demokrasia', '.', 'Hujambo', 'na', 'karibu', 'kwa', 'matangazo', 'yetu', 'mubashara', 'leo', 'Jumanne', 'tarehe', '09.02.2021', 'Maelezo', 'zaidi', 'kuhusu', 'taarifa', 'hii', 'Wengi', 'wa', 'wachambuzi', 'wa', 'siasa', 'za', 'DRC', 'wanaamini', 'kilichomponza', 'Patrice', 'Lumumba', 'ni', 'kuonesha', 'mapema', 'nini', 'anataka', 'kuwafanyia', 'watu', 'wake', 'na', 'kipi', 'atakifanya', 'kwa', 'wakoloni', 'wa', 'zamani', '.', 'Je', 'hali', 'ikoje', 'kwa', 'Rais', 'wa', 'sasa', 'wa', 'DRC', ',', 'Felix', 'Tshisekedi', '.']\n",
      "\n",
      " Number of Words:  1725\n"
     ]
    }
   ],
   "source": [
    "file=\"21feb9.txt\"\n",
    "\n",
    "# calling the function and storing the contents in a text variable \n",
    "text = get_document(\"https://www.bbc.com/swahili/live/habari-55991205\")\n",
    "\n",
    "# calling the store_ document function \n",
    "store_document(doc=text,name=file)\n",
    "\n",
    "#add the words in this file to the total_corpus_words, to keep count of the number of words in the corpus\n",
    "total_corpus_words+=total_words(file)"
   ]
  },
  {
   "cell_type": "code",
   "execution_count": 16,
   "metadata": {},
   "outputs": [
    {
     "data": {
      "text/plain": [
       "398330"
      ]
     },
     "execution_count": 16,
     "metadata": {},
     "output_type": "execute_result"
    }
   ],
   "source": [
    "total_corpus_words"
   ]
  },
  {
   "cell_type": "code",
   "execution_count": 17,
   "metadata": {},
   "outputs": [
    {
     "name": "stdout",
     "output_type": "stream",
     "text": [
      "['Serikali', 'ya', 'Tanzania', '‘', 'yabatilisha', '’', 'waraka', 'wa', 'Corona', 'wa', 'chuo', 'kikuu', 'huria', 'Habari', 'za', 'moja', 'kwa', 'moja', 'Na', 'Lizzy', 'Masinga', ',', 'Dinah', 'Gahamanyi', 'na', 'Esther', 'Namuhisa', 'time_stated_uk', 'Imepakiwa', 'mnamo', '13:45', '10', 'Februari', '202113:45', '10', 'Februari', '2021', 'Ubalozi', 'wa', 'Marekani', 'Tanzania', 'watoa', 'tahadhari', 'ya', 'maambukizi', 'ya', 'corona', 'Munira', 'Hussein', 'BBC', 'Africa', 'BBCCopyright', ':', 'BBC', 'Ubalozi', 'wa', 'Marekani', 'nchini', 'Tanzania', 'umetoa', 'tahadhari', 'ya', 'ongezeko', 'la', 'maambukizi', 'ya', 'ugonjwa', 'wa', 'corona', '.', 'Katika', 'taarifa', 'yake', 'iliyotumwa', 'kupitia', 'kurasa', 'zake', 'za', 'mitandao', 'ya', 'kijamii', ',', 'ubalozi', 'huo', ',', 'umesema', 'kuwa', 'kumekua', 'na', 'taarifa', 'za', 'ongezeko', 'la', 'maambukizi', 'ya', 'virusi', 'vya', 'corona', 'tangu', 'mwezi', 'Januari', '.', '‘', '’', '…hatua', 'za', 'kuondosha', 'na', 'kuzuia', 'maambukizi', 'ya', 'Covid-19', 'bado', 'zimeeendelea', 'kuwa', 'za', 'kiwango', 'cha', 'chini', ',', 'serikali', 'ya', 'Tanzania', 'haijatoa', 'takwimu', 'zozote', 'kuhusu', 'visa', 'vya', 'maambukizi', 'au', 'vifo', 'vilivyotokana', 'na', 'Covid-19', 'toka', 'mwezi', 'Aprili', '2020', '’', '’', 'inasema', 'sehemu', 'ya', 'taarifa', 'hiyo', '.', 'Ubalozi', 'huo', 'pia', 'unasema', 'hospitali', 'na', 'vituo', 'vya', 'afya', 'nchini', 'Tanzania', 'vinaweza', 'kuzidiwa', 'kwa', 'haraka', 'na', 'idadi', 'ya', 'wagonjwa', '.', '‘', '’', 'Uwezo', 'mdogo', 'wa', 'hospitali', 'nchini', 'kote', 'Tanzania', 'unaweza', 'kusababisha', 'wagonjwa', 'walio', 'katika', 'hali', 'ya', 'dharura', 'kuchelewa', 'kupatiwa', 'huduma', ',', 'jambo', 'linaloweza', 'kuhatarisha', 'maisha.', '’', '’', 'Taasisi', 'mbalimbali', 'zimeendelea', 'kutoa', 'tahadhari', 'ya', 'maambukizi', 'ya', 'virusi', 'vya', 'corona', '.', 'Chuo', 'Kikuu', 'cha', 'Sokoine', 'cha', 'Kilimo', 'Tanzania', '(', 'SUA', ')', 'ilitoa', 'taarifa', 'hapo', 'jana', 'kwa', 'wanafunzi', 'na', 'wafanyakazi', 'wake', 'kujilinda', 'dhidi', 'ya', 'maambukizi', 'ya', 'corona', '.', 'Nacho', 'Chuo', 'Kikuu', 'Huria', 'cha', 'Tanzania', 'kilitoa', 'waraka', 'wa', 'kuchukua', 'tahadhari', 'ya', 'kujilinda', 'na', 'maambukizi', 'ya', 'corona', '.', 'Hata', 'hivyo', 'waraka', 'huo', 'ulibatilishwa', 'na', 'wizara', 'ya', 'elimu', 'kwa', 'kukiuka', 'utaratibu', 'uliotolewa', 'na', 'wizara', 'ya', 'afya', '.', 'Mwezi', 'uliopita', 'Kanisa', 'Katoliki', 'nchini', 'Tanzania', 'lilitoa', 'tahadhari', 'juu', 'ya', 'wimbi', 'jipya', 'la', 'maambukizi', 'ya', 'corona', 'na', 'kuwataka', 'wananchi', 'kuchukua', 'hatua', 'zote', 'za', 'kujikinga', '.', 'Tahadhari', 'hiyo', 'ilitolewa', 'kupitia', 'waraka', 'ulioandikwa', 'na', 'Rais', 'wa', 'Baraza', 'la', 'Maaskofu', 'wa', 'Katoliki', 'Tanzania', '(', 'TEC', ')', 'Askofu', 'Gervas', 'Nyaisonga', '.', 'Hata', 'hivyo', 'Wizara', 'ya', 'afya', 'nchini', 'humo', 'bado', 'haijathibitisha', 'taarifa', 'za', 'uwepo', 'wa', 'wagonjwa', 'au', 'vifo', 'vinavyo', 'sababishwa', 'na', 'wimbi', 'jipya', 'la', 'virusi', 'vya', 'corona', '.', 'Mara', 'ya', 'mwisho', 'kutolewa', 'kwa', 'taarifa', 'za', 'mwenendo', 'wa', 'maambukizi', 'ya', 'virusi', 'vya', 'corona', 'ilikua', 'mwezi', 'Aprili', 'mwaka', 'jana', '.', 'Kikongwe', 'mwenye', 'miaka', '116', 'apona', 'Corona', 'Mwanamke', 'mzee', 'zaidi', 'barani', 'Ulaya', 'ambaye', 'ni', 'mtawa', 'mfaransa', 'ameponda', 'Covid-19', ',', 'siku', 'chache', 'kabla', 'ya', 'siku', 'kuu', 'ya', 'kuzaliwa', 'kwake', 'ambayo', 'atatimiza', 'miaka', '117', '.', 'Mtawa', 'huyo', 'alikutwa', 'na', 'maambukizi', 'ya', 'virusi', 'vya', 'corona', 'Januari', '16', 'lakini', 'hakuonesha', 'dalili', 'zozote', '.', 'Alisema', 'hata', 'hakugundua', 'kuwa', 'ana', 'ugonjwa', 'huo', '.', 'Alijitenga', 'na', 'wakazi', 'wengine', 'ambao', 'walikuwa', 'wakiishi', 'katika', 'nyumba', 'ya', 'malezi', 'huko', 'Toulon', ',', 'kusini', 'mwa', 'France', ',', 'lakini', 'sasa', 'ameelezwa', 'kuwa', 'amepona', 'kabisa', '.', 'Sista', 'Andre', ',', 'ambaye', 'ni', 'mlemavu', 'wa', 'macho', 'na', 'hutumia', 'kiti', 'cha', 'kusukuma', 'anasubiri', 'kusheherekea', 'siku', 'yake', 'ya', 'kuzaliwa', 'siku', 'ya', 'Alhamisi', ',', 'akiwa', 'amewaalika', 'watu', 'wachache', 'zaidi', 'tofauti', 'na', 'miaka', 'iliyopita', '.', '``', 'Amekuwa', 'na', 'bahati', 'sana', ',', \"''\", 'David', 'Tavella', ',', 'msemaji', 'wa', 'nyumba', 'ya', 'malezi', 'ameeleza', '.', 'Familia', 'moja', 'yapoteza', 'ndugu', 'wanne', 'mfululizo', 'Profesa', 'Delphina', 'Mamiro', 'wakati', 'wa', 'uhai', 'wakeImage', 'caption', ':', 'Profesa', 'Delphina', 'Mamiro', 'wakati', 'wa', 'uhai', 'wake', 'Nchini', 'Tanzania', ',', 'Familia', 'moja', 'ya', 'mhadhiri', 'wa', 'Chuo', 'Kikuu', 'cha', 'Sokoine', 'cha', 'Kilimo', '(', 'SUA', ')', ',', 'Profesa', 'Delphina', 'Mamiro', 'imepata', 'pigo', 'ndani', 'ya', 'mwezi', 'mmoja', 'kwa', 'kupoteza', 'watu', 'wanne', 'mfululizo', 'ndani', 'ya', 'familia', 'moja', ',', 'Gazeti', 'la', 'Mwananchi', 'limeripoti', '.', 'Profesa', 'Delphina', ',', 'mume', 'wake', 'na', 'wazazi', 'wake', 'wote', ',', 'mama', 'na', 'baba', 'yake', 'wamefariki', 'pia', 'kwa', 'kupishana', 'siku', 'tatu', 'tatu', '.', 'Profesa', 'Delphina', 'alianza', 'kujisikia', 'vibaya', 'mwanzoni', 'mwa', 'mwezi', 'huu', 'na', 'kufariki', 'dunia', 'akipatiwa', 'matibabu', 'hospitali', 'na', 'siku', 'chache', 'baadaye', 'mumewe', 'alifariki', 'dunia', '.', 'Wazazi', 'wake', 'Delphina', 'walifariki', 'Januari', '13', 'na', '16', ',', 'mkoani', 'Kilimanjaro', ',', 'Moshi', 'na', 'hivyo', 'Profesa', 'huyo', 'na', 'mume', 'wake', 'walitoka', 'Morogoro', 'na', 'kwenda', 'kuzika', '.', 'Lakini', 'baada', 'ya', 'kurudi', ',', 'wote', 'wanandoa', 'hao', 'waliugua', 'na', 'kufariki', 'dunia', '.', 'Vifo', 'vyao', 'ni', 'miongoni', 'mwa', 'vifo', 'vilivyoibua', 'hisia', 'mbalimbali', 'nchini', 'Tanzania', ',', 'wakati', 'ambapo', 'zimekuepo', 'taarifa', 'nyngi', 'kuhusu', 'watu', 'kupoteza', 'ndugu', 'na', 'jamaa', 'zao', 'siku', 'za', 'hivi', 'karibuni', '.', 'Spika', 'Trevor', 'Mallard', 'alimzuia', 'mara', 'mbili', 'Rawiri', 'Waititi', 'kuuliza', 'maswali', '.', '``', 'Sio', 'kuhusu', 'tai', ',', 'ni', 'kuhusu', 'utambuzi', 'wa', 'kitamaduni', ',', \"''\", 'Bwana', 'Waititi', 'alisema', 'wakati', 'anatoka', 'kwenye', 'chumba', 'hicho', ',', 'vyombo', 'vya', 'habari', 'vya', 'huko', 'viliripoti', '.', 'Ametaja', 'tai', '``', 'kitanzi', 'cha', 'mkoloni', \"''\", 'na', 'badala', 'yake', 'amevaa', 'kidani', 'cha', 'jiwe', '.', 'Baada', 'ya', 'kuzuiwa', 'kwa', 'mara', 'ya', 'pili', ',', 'Bw', 'Waititi', 'aliendelea', 'na', 'swali', 'lake', 'hadi', 'Bw', 'Mallard', 'alipomuamuru', 'aondoke', 'kwenye', 'ukumbi', 'huo', '.', 'Bw', 'Waititi', 'alisema', 'ametendewa', '``', 'isivyofaa', \"''\", ',', 'na', 'kuongeza', 'kuwa', 'alikuwa', 'amevaa', '``', 'mavazi', 'biashara', 'ya', 'Maori', \"''\", '.', 'Kiongozi', 'mwenza', 'wa', 'Chama', 'cha', 'Maori', ',', 'Debbie', 'Ngarewa-Packer', ',', 'ambaye', 'mwenyewe', 'alikuwa', 'amevaa', 'tai', ',', 'alimtetea', 'mwenzake', 'lakini', 'hakufaulu', '.', 'Rais', 'wa', 'Somalia', 'aitisha', 'mkutano', 'kutatua', 'mgogoro', 'Rais', 'wa', 'Somalia', 'Mohamed', 'Abdullahi', 'Farmajo', 'ameitisha', 'mkutano', 'na', 'viongozi', 'wa', 'serikali', 'ya', 'shirikisho', 'wiki', 'ijayo', 'ili', 'kutatua', 'mkwamo', 'wa', 'jinsi', 'ya', 'kuendelea', 'na', 'uchaguzi', '.', 'Muhula', 'wa', 'Rais', 'Farmajo', 'ulimalizika', 'Jumatatu', 'baada', 'ya', 'mazungumzo', 'kuhusu', 'uchaguzi', 'kuvunjika', 'mnamo', 'tarehe', '5', 'Februari', '.', 'Vikundi', 'vya', 'upinzani', 'vimesema', 'havitambui', 'tena', 'mamlaka', 'ya', 'Bwana', 'Farmajo', 'na', 'walitaka', 'kuundwa', 'kwa', 'ushirika', 'wa', 'mpito', '.', 'Ofisi', 'ya', 'rais', 'iliandika', 'katika', 'ukurasa', 'wa', 'twitter', 'kuhusu', 'mkutano', 'uliopangwa', 'kufanyika', 'wiki', 'ijayo', 'huko', 'Garowe', ',', 'jimbo', 'la', 'Puntland', '.', 'Baraza', 'la', 'Usalama', 'la', 'Umoja', 'wa', 'Mataifa', 'Jumanne', 'liliwahimiza', 'viongozi', 'wa', 'Somalia', '``', 'kufikia', 'makubaliano', 'ya', 'kufanyika', 'kwa', 'uchaguzi', '.', 'Limekaribisha', 'kutangazwa', 'kwa', 'mazungumzo', 'zaidi', 'tarehe', '15', 'Februari', '.', 'Mwenyekiti', 'wa', 'Kamisheni', 'ya', 'Umoja', 'wa', 'Afrika', 'Moussa', 'Faki', 'Mahamat', 'Jumatatu', 'alikuwa', 'amemtaka', 'Rais', 'Farmajo', 'na', 'viongozi', 'wa', 'serikali', 'ya', 'shirikisho', '``', 'kufikia', 'makubaliano', 'juu', 'ya', 'maswala', 'yaliyosalia', 'ili', 'kuruhusu', 'kufanyika', 'kwa', 'uchaguzi', 'wa', 'bunge', 'na', 'urais', 'bila', 'kuchelewa', 'sana', \"''\", '.', 'Serikali', 'Tanzania', '‘', 'yabatilisha', '’', 'waraka', 'wa', 'Corona', 'wa', 'Chuo', 'Kikuu', 'Huria', 'Waziri', 'wa', 'afya', 'wa', 'Tanzania', 'Doroth', 'GwajimaImage', 'caption', ':', 'Waziri', 'wa', 'afya', 'wa', 'Tanzania', 'Doroth', 'Gwajima', 'Wizara', 'ya', 'Elimu', ',', 'sayansi', 'na', 'teknolojia', 'imetaka', 'chuo', 'kikuu', 'huria', 'kuendelea', 'na', 'shughuli', 'zake', 'Kama', 'kawaida', '.', 'Tamko', 'hili', 'limekuja', 'baada', 'ya', 'utaratibu', 'na', 'ushauri', 'uliotolewa', 'na', 'makamu', 'mkuu', 'wa', 'chuo', 'hiko', 'Prof.', 'Elifas', 'Bisanda', 'kutaka', 'mikutano', 'na', 'masomo', 'yafanyike', 'kwa', 'njia', 'ya', 'mtandao', 'ikiwa', 'ni', 'kuchukua', 'tahadhari', 'dhidi', 'ya', 'maambukizi', 'ya', 'virusi', 'vya', 'Corona', '.', 'Taarifa', 'hiyo', 'imeongeza', 'kuwa', 'maoni', 'yaliyotolewa', 'na', 'makamu', 'mkuu', 'wa', 'chuo', 'ni', 'batili', '.', '“', 'Maelekezo', 'yaliyotolewa', 'na', 'Prof.', 'Bisanda', 'ambayo', 'ni', 'maoni', 'yake', 'binafsi', 'hayajazingatia', 'muongozo', 'wa', 'udhibiti', 'wa', 'maambukizi', 'ya', 'ugonjwa', 'wa', 'Corona', 'katika', 'shule', ',', 'vyuo', 'na', 'taasisi', 'za', 'elimu', 'nchini', 'wa', 'wizara', 'ya', 'afya', 'wa', 'terehe', '27', 'mei', '2020', '”', 'inasema', 'taarifa', 'hiyo', 'ya', 'wizara', 'ya', 'Elimu', '.', 'Katika', 'taarifa', 'yake', 'ya', 'awali', 'katika', 'Waraka', 'umewataka', 'wanafunzi', 'na', 'wafanyakazi', 'kuepuka', 'mikusanyiko', 'isiyo', 'ya', 'lazima', 'na', 'kuwa', 'tishio', 'la', 'maambukizi', \"''\", 'linashamiri', \"''\", '.', '``', 'Kwa', 'upande', 'wa', 'wanafunzi', 'tunasisitiza', 'wakae', 'nyumbani', 'na', 'kusoma', 'kwa', 'njia', 'ya', 'mtandao', ',', 'hatutaruhusu', 'wanafunzi', 'na', 'wageni', 'kuingia', 'kwenye', 'kampasi', 'zetu', 'bila', 'sababu', 'maalumu', '’', '’', 'inasema', 'taarifa', 'hiyo', '.', 'Kwa', 'upande', 'wa', 'wafanyakazi', 'wao', 'wataendesha', 'mikutano', 'yao', 'kwa', 'njia', 'ya', 'mtandao.', '”', 'Mwezi', 'uliopita', 'Kanisa', 'Katoliki', 'nchini', 'Tanzania', 'lilitoa', 'tahadhari', 'juu', 'ya', 'wimbi', 'jipya', 'la', 'maambukizi', 'ya', 'corona', 'na', 'kuwataka', 'wananchi', 'kuchukua', 'hatua', 'zote', 'za', 'kujikinga', '.', 'Tahadhari', 'hiyo', 'ilitolewa', 'kupitia', 'waraka', 'ulioandikwa', 'na', 'Rais', 'wa', 'Baraza', 'la', 'Maaskofu', 'wa', 'Katoliki', 'Tanzania', '(', 'TEC', ')', 'Askofu', 'Gervas', 'Nyaisonga', '.', 'Hata', 'hivyo', 'Wizara', 'ya', 'afya', 'nchini', 'humo', 'bado', 'haijathibitisha', 'taarifa', 'za', 'uwepo', 'wa', 'wagonjwa', 'au', 'vifo', 'vinavyo', 'sababishwa', 'na', 'wimbi', 'jipya', 'la', 'virusi', 'vya', 'corona', '.', 'Mara', 'ya', 'mwisho', 'kutolewa', 'kwa', 'taarifa', 'za', 'mwenendo', 'wa', 'maambukizi', 'ya', 'virusi', 'vya', 'corona', 'ilikua', 'mwezi', 'Aprili', 'mwaka', 'jana', '.', 'Unaweza', 'pia', 'kutazama', ':', 'Virusi', 'vya', 'corona', ':', 'Waziri', 'wa', 'Afya', 'Dorothy', 'Gwajima', 'atengeneza', 'na', 'kunywa', 'tiba', 'asili', 'ya', 'Tanzania']\n",
      "\n",
      " Number of Words:  1277\n"
     ]
    }
   ],
   "source": [
    "file=\"21feb10_1.txt\"\n",
    "\n",
    "# calling the function and storing the contents in a text variable \n",
    "text = get_document(\"https://www.bbc.com/swahili/live/habari-56006534\")\n",
    "\n",
    "# calling the store_ document function \n",
    "store_document(doc=text,name=file)\n",
    "\n",
    "#add the words in this file to the total_corpus_words, to keep count of the number of words in the corpus\n",
    "total_corpus_words+=total_words(file)"
   ]
  },
  {
   "cell_type": "code",
   "execution_count": 18,
   "metadata": {},
   "outputs": [
    {
     "data": {
      "text/plain": [
       "399607"
      ]
     },
     "execution_count": 18,
     "metadata": {},
     "output_type": "execute_result"
    }
   ],
   "source": [
    "total_corpus_words"
   ]
  },
  {
   "cell_type": "code",
   "execution_count": 19,
   "metadata": {},
   "outputs": [
    {
     "name": "stdout",
     "output_type": "stream",
     "text": [
      "['Kurejea', 'nyumbani', 'Baada', 'ya', 'muda', 'wa', 'miezi', 'sita', 'mwanadada', 'huyu', 'aliamua', 'arejee', 'nyumbani', 'kwake', 'kwa', 'kuwa', 'binti', 'yao', 'wa', 'kwanza', 'alikuwa', 'amebaki', 'na', '(', 'baba', ')', 'mume', 'wake', 'mjini', 'na', 'alihitaji', 'amuone', '.', 'Uhusiano', 'wa', 'mume', 'wake', 'na', 'yule', 'kimada', 'ulikuwa', 'tayari', 'umesambaratika', '.', 'Alikuwa', 'ameondoka', 'kule', 'nyumbani', 'kwake', '.', 'Mambo', 'hayakurejea', 'kama', 'kawaida', '.', 'Nduku', 'anasema', 'kuwa', 'alijawa', 'na', 'hofu', 'na', 'huzuni', 'kuu', 'kila', 'wakati', '.', 'Anakiri', 'kuwa', 'tukio', 'la', 'kimada', 'wa', 'aliyekuwa', 'mume', 'wake', 'alichokifanya', 'cha', 'kutuma', 'picha', 'za', 'mapenzi', 'yake', 'na', 'mume', 'wake', 'kilimpatia', 'mawazo', 'mengi', 'mno', 'kiasi', 'cha', 'kushindwa', 'kufanya', 'chochote', '.', 'Ni', 'wakati', 'huo', 'ambapo', 'Esther', 'Nduku', 'alihisi', 'kuwa', 'hangeweza', 'kuendelea', 'na', 'ndoa', 'ile', 'tena', 'kwani', 'wakati', 'huo', 'majirani', 'na', 'wote', 'tayari', 'walikuwa', 'wanazungumza', 'na', 'mtaa', 'wote', 'ulijawa', 'na', \"minong'ono\", 'kuhusu', 'kisa', 'cha', 'mume', 'wake', 'kuishi', 'na', 'kimada', 'kwenye', 'nyumba', 'ya', 'ndoa', '.', 'Nduku', 'anadai', 'kuwa', 'baba', 'wa', 'watoto', 'wake', 'na', 'yule', 'kimada', 'hawakuwa', 'wanaficha', 'mambo', 'yao', '.', 'Nduku', 'anasema', 'hangeivumilia', 'aibu', 'hii', 'na', 'aliamua', 'kuondoka', '.', 'Nduku', 'alikutana', 'vipi', 'na', 'mumewe', '?', 'Chanzo', 'cha', 'picha', ',', 'Nduku', 'Esther', 'Nduku', 'alizaliwa', 'nchini', 'Kenya', 'katika', 'Kaunti', 'ya', 'Makueni', '.', 'Hakufanikiwa', 'kuwa', 'na', 'baba', 'na', 'kwa', 'hivyo', 'mama', 'alikuwa', 'mzazi', 'wa', 'kipekee', 'na', 'alijizatiti', 'sana', 'kuwapa', 'malezi', 'bora', 'Nduku', 'na', 'dada', 'yake', '.', 'Baada', 'ya', 'kumaliza', 'masomo', 'ya', 'sekondari', ',', 'alielekea', 'mjini', 'na', 'kujiunga', 'na', 'taasisi', 'ya', 'filamu', 'na', 'uzalishaji', 'wa', 'vipindi', 'kwa', 'mafunzo', '.', 'Yeye', 'na', 'marafiki', 'kadhaa', 'wa', 'kike', 'walikuwa', 'wanaishi', 'kwenye', 'nyumba', 'mmoja', ',', 'kama', 'njia', 'ya', 'kuokoa', 'fedha', 'za', 'malipo', 'ya', 'kodi', '.', '``', 'Ilifika', 'wakati', 'ambapo', 'mimi', 'na', 'marafiki', 'wangu', 'hatukuwa', 'tunaelewana', 'na', 'ikabidi', 'mimi', 'nihame', 'kutafuta', 'makao', 'mengine', 'ghafla', ',', \"''\", 'anasema', '.', '„', 'Sikumfahamu', 'yeyote', 'mjini', 'ila', 'nilikumbuka', 'kuhusu', 'mwanamume', 'mmoja', 'ambaye', 'tulikuwa', 'tunasoma', 'naye', 'kule', 'kwenye', 'taasisi', '.', 'Nilipomuomba', 'ikiwa', 'angekubali', 'niishi', 'kwake', 'kwa', 'muda', 'hakukataa', ',', \"''\", 'Nduku', 'anakumbuka', 'Mwanamke', 'huyu', 'anasema', 'kuwa', 'hapo', 'ndipo', 'ndoa', 'yake', 'ilianza', 'kwani', 'muda', 'mfupi', 'tuu', 'wa', 'kuishi', 'kwenye', 'nyumba', 'hio', 'walijipata', 'kwenye', 'mahusiano', 'ya', 'kimapenzi', '.', 'Vile', 'vile', 'baada', 'ya', 'muda', 'pia', 'aligundua', 'kuwa', 'alikuwa', 'ameshika', 'ujauzito', '.', 'Chanzo', 'cha', 'picha', ',', 'Esther', 'Nduku', '``', 'Tulipogundua', 'kuna', 'ujauzito', 'tulikubaliana', 'ni', 'vyema', 'tuanze', 'kuishi', 'pamoja', 'kama', 'mume', 'na', 'mke', '.', 'Tulipanga', 'taratibu', 'zote', 'za', 'kuwaona', 'wazazi', 'wa', 'upande', 'wa', 'kwangu', 'na', 'upande', 'wa', 'kwake', 'na', 'basi', 'hapo', 'ndipo', 'tulianzia', 'ndoa', 'yetu', ',', \"''\", 'Nduku', 'anakumbuka', 'Mwanamke', 'huyu', 'anahisi', 'kuwa', 'ndoa', 'kati', 'yake', 'na', 'baba', 'wa', 'watoto', 'wake', 'ilianza', 'kwa', 'misingi', 'ambayo', 'haikuwa', 'sawa', '.', 'Alipomuomba', 'awe', 'mwenyeji', 'wake', 'kwa', 'muda', ',', 'walikuwa', 'ni', 'marafiki', 'wa', 'kawaida', 'na', 'wala', 'hawakuwa', 'na', 'uhusiano', 'wa', 'kimapenzi', '.', 'Anahisi', 'kuwa', 'wao', 'wawili', 'hawakuchukua', 'muda', 'kufahamiana', 'vizuri', 'kabla', 'ya', 'kuamua', 'iwapo', 'wangeingia', 'kwenye', 'ndoa', 'au', 'la', '.', 'Esther', 'Nduku', 'anasema', 'kuwa', 'alikaa', 'na', 'picha', 'alizotumiwa', 'na', 'kimada', 'wa', 'aliyekuwa', 'mume', 'wake', 'kwa', 'muda', '.', 'Ila', 'alipoamua', 'kumsamehe', 'na', 'kuachilia', 'tukio', 'hilo', 'maishani', 'mwake', 'alizifuta', 'zisiwe', 'zinamkumbusha', 'aliyoyapitia', '.', 'Esther', 'anasema', 'kuwa', 'kupitia', 'msongo', 'wa', 'kimawazo', 'na', 'mfadhaiko', 'alifahamu', 'kuwa', 'huenda', 'kuna', 'watu', 'wanaopitia', 'madhila', 'mengi', 'au', 'majaribu', 'wakiwa', 'kwenye', 'mahusiano', 'ya', 'kimapenzi', 'na', 'hawajui', 'wafanyeje', '.', 'Alianzisha', 'shirika', 'ambalo', 'linatoa', 'nafasi', 'kwa', 'wahanga', 'kukutana', 'na', 'kujadili', 'changamototo', 'za', 'kiakili', 'wanazopitia', 'wanapokuwa', 'kwenye', 'mahusiano', '.']\n",
      "\n",
      " Number of Words:  517\n"
     ]
    }
   ],
   "source": [
    "file=\"21feb10_2.txt\"\n",
    "\n",
    "# calling the function and storing the contents in a text variable \n",
    "text = get_document(\"https://www.bbc.com/swahili/56001370\")\n",
    "\n",
    "# calling the store_ document function \n",
    "store_document(doc=text,name=file)\n",
    "\n",
    "#add the words in this file to the total_corpus_words, to keep count of the number of words in the corpus\n",
    "total_corpus_words+=total_words(file)"
   ]
  },
  {
   "cell_type": "code",
   "execution_count": 20,
   "metadata": {},
   "outputs": [
    {
     "data": {
      "text/plain": [
       "400124"
      ]
     },
     "execution_count": 20,
     "metadata": {},
     "output_type": "execute_result"
    }
   ],
   "source": [
    "total_corpus_words"
   ]
  },
  {
   "cell_type": "code",
   "execution_count": 21,
   "metadata": {},
   "outputs": [
    {
     "name": "stdout",
     "output_type": "stream",
     "text": [
      "['Rubani', 'wa', 'jeshi', 'la', 'Uganda', 'afariki', 'katika', 'ajali', 'ya', 'helikopta', 'Jeshi', 'la', 'Uganda', 'limethibitisha', 'kifo', 'cha', 'rubani', 'wa', 'helikopta', 'iliyoanguka', 'muda', 'mfupi', 'tu', 'baada', 'ya', 'kuondoka', 'kwenye', 'uwanja', 'wa', 'ndege', 'wa', 'Entebbe', 'siku', 'ya', 'Alhamisi', '.', 'Msemaji', 'wa', 'jeshi', 'la', 'Uganda', 'UPDF', ')', 'Brigadia', 'Flavia', 'Byekwaso', 'amesema', 'tukio', 'hilo', 'lilitokea', 'wakati', 'wa', 'kupindi', 'cha', 'mafunzo', 'ya', 'uendeshaji', 'wa', 'ndege', '.', '``', 'TLeo', 'mchana', 'majira', 'ya', 'saa', 'nane', 'na', 'robo', 'ndege', 'aina', 'ya', 'jet', 'iliyokuwa', 'ikiendeshwa', 'na', 'marubani', 'wawili', 'wanafunzi', 'wa', 'mafunzo', 'ya', 'kijeshi', 'ya', 'cadet', 'ilianguka', 'mara', 'moja', 'baada', 'ya', 'kuondoka', 'karibu', 'na', 'ufukwe', 'wa', 'Lido', '(', 'Lido', 'beach', ')', '.', 'Wawili', 'hao', 'walikimbizwa', 'hospitalini', 'kuchunguzwa', 'afya', 'zao', ',', \"''\", 'alisema', '.', 'Serikali', 'yapiga', 'marufuku', 'maandamano', 'mapya', 'Nigeria', 'Waziri', 'wa', 'Habari', 'Lai', 'Mohammed', 'ameonya', 'dhidi', 'maandamano', 'yaliyopangwa', 'kufanyika', 'huko', 'Lekki', 'jijini', 'Lagos', 'ambapo', 'vikosi', 'vya', 'usalama', 'viliwafyatulia', 'risasi', 'waaandamanaji', 'mwezi', 'Oktoba', 'mwaka', 'jana', '.', 'Maandamano', 'mapya', ',', 'yaliyopewa', 'jina', 'la', \"'Occupy\", 'Lekki', 'toll', 'gate', \"'\", ',', 'yamepangwa', 'kufanywa', 'Jumamosi', 'Waandaaji', 'wanasema', 'watagomea', 'dhidi', 'ya', 'kufunguliwa', 'tena', 'kwa', 'lango', 'la', 'ushuru', '.', 'Bwana', 'Mohammed', 'amesema', 'serikali', 'haitaruhusu', 'maandamano', 'mengine', 'kufanyika', '.', 'Alisema', 'wahalifu', 'wanaweza', 'kuvamia', 'maandamano', 'na', 'kusababisha', 'watu', 'kupoteza', 'maisha', 'na', 'uharibifu', 'wa', 'mali', '.', 'Amesema', 'matangazo', 'ya', 'kuwataka', 'watu', 'kujitokeza', 'kwenye', 'maandamano', 'yamekuwa', 'yakisambazwa', 'Waziri', 'aliongeza', 'kuwa', 'serikali', 'ilikubaliana', 'na', 'matakwa', 'ya', 'awali', 'na', 'kuachiwa', 'kwa', 'waandamanaji', 'waliokuwa', 'wamekamatwa', 'wakati', 'wa', 'wimbi', 'la', 'kwanza', 'la', 'maandamano', 'na', 'kuunda', 'tume', 'huru', 'kutazama', 'suala', 'la', 'ukatili', 'wa', 'polisi', '.', 'Mrithi', 'wa', 'Bensouda', 'katika', 'mahakama', 'ya', '(', 'ICC', ')', 'kujulikana', 'leo', 'Bi', 'Bensouda', 'amekuwa', 'Mwendesha', 'mashitaka', 'Mkuu', 'wa', 'ICC', 'tangu', 'mwaka', '2011Image', 'caption', ':', 'Bi', 'Bensouda', 'amekuwa', 'Mwendesha', 'mashitaka', 'Mkuu', 'wa', 'ICC', 'tangu', 'mwaka', '2011', 'Wajumbe', 'wa', 'nchi', 'wanachama', 'wa', 'Mahakama', 'ya', 'Kimataifa', 'ya', 'Jinai', '(', 'ICC', ')', 'wanakutana', 'mjini', 'New', 'York', 'baadaye', 'leo', 'kumchagua', 'mwendesha', 'mashita', 'mpya', 'wa', 'mahakama', 'hiyo', '.', 'Wagombea', 'tisaikiwa', 'ni', 'pamoja', 'na', 'majaji', 'wawili', 'mmoja', 'kutoka', 'Nigeria', 'na', 'mmoja', 'kutoka', 'Uganda', ',', 'wako', 'katika', 'orodha', 'ya', 'kumrithi', 'Mgambia', 'Bi', 'Fatou', 'Bensouda', ',', 'ambaye', 'muhula', 'wake', 'kama', 'Mwendesha', 'mashitakaMkuu', 'wa', 'mahakama', 'hiyo', 'unamalizika', 'mwezi', 'Juni', 'mwaka', 'huu', '.', 'Bi', 'Bensouda', 'amekuwa', 'Mwendesha', 'mashitaka', 'Mkuu', 'wa', 'ICC', 'tangu', 'mwaka', '2011-', 'baada', 'ya', 'kuchukua', 'nafasi', 'ya', 'wakili', 'Muargentina', 'Luis', 'Moreno', 'Ocampo', '.', 'Katika', 'muhula', 'wake', 'madarakani', ',', 'aliweza', 'kuwatia', 'hatiani', 'washitakiwa', 'Zaidi', 'kuliko', 'mtangulizi', 'wake-', 'na', 'hivi', 'karibuni', 'ikiwa', 'akiwa', 'ni', 'muasi', 'wa', 'zamani', 'wa', 'Uganda', 'kamandaDominic', 'Ongwen', 'ambaye', 'mwezi', 'huu', 'alipatikana', 'na', 'hatia', 'za', 'uhalifu', 'wa', 'kivita', '.', 'Hatahivyo', 'alikabiliwa', 'na', 'ukosoaji', 'mkubwa', 'hususan', 'ni', 'kuhusu', 'kesi', 'zake', 'kuwalenga', 'Waafrika', '.', 'Mwezi', 'Juni', 'mwaka', 'jana', ',', 'Bensouda', 'alizuiwa', 'kusafiri', 'nchini', 'Marekani', 'wakati', 'rais', 'wa', 'Marekani', 'wa', 'wakati', 'huo', 'Donald', 'Trump', 'aliposaini', 'sheria', 'ya', 'rais', 'inayoweka', 'vikwazo', 'vya', 'fedha', 'dhidi', 'yake', '.', 'Mahakama', 'ya', 'kijeshi', 'yahukumu', 'raia', 'kifungo', 'cha', 'miaka', '100', 'Uganda', 'Mahakama', 'ya', 'Wilaya', 'huko', 'Mbarara', 'imewahukumu', 'raia', 'wawili', 'kifungo', 'cha', 'miaka', '100', 'gerezani', 'kwa', 'kosa', 'la', 'kumuua', 'afisa', 'wa', 'polisi', 'na', 'kukimbia', 'na', 'silaha', 'yake', 'katika', 'wilaya', 'ya', 'Kabale', '.', 'Wawili', 'hao', ';', 'Mukwenda', 'Mugisha,19', ',', 'mkazi', 'wa', 'kijiji', 'cha', 'Gatete', 'na', 'Paul', 'Dusingizimana', ',', '27', 'mkazi', 'wa', 'Manispaa', 'ya', 'Kabale', 'walipatiwa', 'hukumu', 'hiyo', 'siku', 'ya', 'Alhamisi', '.', 'Gazeti', 'la', 'Daily', 'Monitor', 'la', 'Uganda', 'limeripoti', '.', 'Mashtaka', 'yakingozwa', 'na', 'Luteni', 'James', 'Omondi', 'yaliyowasilishwa', 'tarehe', '24', 'mwezi', 'Januari', ',', 'yamesema', 'Mugisha', 'na', 'Dusingizimana', 'walimshambulia', 'na', 'kumuua', 'Gracious', 'Byaryabakabu', 'aliyekuwa', 'zamu', 'ya', 'kulinda', 'Ofisi', 'ya', 'Tume', 'ya', 'Uchaguzi', 'ya', 'Wilaya', 'ya', 'Kabale', '.', 'Walimpora', 'silaha', 'yake', 'iliyokuwa', 'na', 'risasi', 'takribani', '30', '.', \"''Watuhumiwa\", 'hao', 'pia', 'walimpora', 'Godfrey', 'Tukamubona', 'simu', 'yake', 'ya', 'mkononi', 'yenye', 'thamani', 'ya', 'shilingi', '60,000', 'baada', 'ya', 'kumsababishia', 'madhara', 'makubwa', ',', 'alisema', 'Mahakama', 'pia', 'ilielezwa', 'kwamba', 'mnamo', 'Januari', '29', ',', 'wakiwa', 'katika', 'gereza', 'la', 'Rutenga', 'katika', 'Manispaa', 'ya', 'Kabale', ',', 'wawili', 'hao', 'walimtisha', 'Patrick', 'Arinaitwe', 'kwa', 'bunduki', ',', 'walimteka', 'nyara', 'na', 'kumuibia', 'Sh20,000', 'zilizokuwa', 'kwenye', 'akaunti', 'ya', 'simu', 'ya', 'mkononi', 'Watuhumiwa', 'walikutwa', 'na', 'hatia', 'ya', 'makosa', 'yote', 'matatu', 'ya', \"unyang'anyi\", ',', 'mauaji', 'na', 'utekaji', 'nyara', '.']\n",
      "\n",
      " Number of Words:  638\n"
     ]
    }
   ],
   "source": [
    "file=\"21feb12.txt\"\n",
    "\n",
    "# calling the function and storing the contents in a text variable \n",
    "text = get_document(\"https://www.bbc.com/swahili/live/habari-56036337\")\n",
    "\n",
    "# calling the store_ document function \n",
    "store_document(doc=text,name=file)\n",
    "\n",
    "#add the words in this file to the total_corpus_words, to keep count of the number of words in the corpus\n",
    "total_corpus_words+=total_words(file)"
   ]
  },
  {
   "cell_type": "code",
   "execution_count": 22,
   "metadata": {},
   "outputs": [
    {
     "data": {
      "text/plain": [
       "400762"
      ]
     },
     "execution_count": 22,
     "metadata": {},
     "output_type": "execute_result"
    }
   ],
   "source": [
    "total_corpus_words"
   ]
  },
  {
   "cell_type": "code",
   "execution_count": 23,
   "metadata": {},
   "outputs": [
    {
     "name": "stdout",
     "output_type": "stream",
     "text": [
      "['Virusi', 'vya', 'corona', ':', 'Jinsi', 'corona', 'inavyoathiri', 'maisha', 'na', 'utamaduni', 'wa', 'kiswahili', '13', 'Februari', '2021', 'Dunia', 'nzima', 'sasa', 'inasumbuliwa', 'na', 'ugonjwa', 'wa', 'Corona', '.', 'Mamilioni', 'ya', 'watu', 'wameshaugua', 'huku', 'maelfu', 'wakiwa', 'wamepoteza', 'dunia', '.', 'Ugonjwa', 'huu', 'hauchagui', 'tajiri', 'wala', 'masikini', 'na', 'unaambukiza', 'watu', 'wa', 'dunia', '.', 'Hata', 'hivyo', ',', 'kuondoa', 'sababu', 'nyingine', 'za', 'kisayansi', 'kuhusu', 'kuambukiza', 'au', 'kutoambukizwa', ',', 'ugonjwa', 'huu', 'umeleta', 'changamoto', 'nyingi', 'kwa', 'watu', 'ambao', 'kwa', 'asili', ',', 'wana', 'utamaduni', 'wa', 'kuchangamana', '.', 'Wakati', 'Corona', 'ilipoanza', 'kusikika', 'kwa', 'mara', 'ya', 'kwanza', 'mwaka', 'jana', ',', 'kuliibuka', 'mjadala', 'mkubwa', 'kuhusu', 'ni', 'kwa', 'vipi', 'China', 'ilipata', 'ugonjwa', 'huo', 'na', 'ikaathirika', 'sana', 'lakini', 'jirani', 'zake', '-', 'Japan', ',', 'hawakupata', 'tatizo', 'kama', 'hilo', '.', 'Dunia', 'ikaja', 'kufahamu', 'baadaye', 'kwamba', 'kilichoikoa', 'Japan', ';', 'pamoja', 'na', 'mambo', 'mengine', 'ya', 'kisayansi', ',', 'ni', 'utamaduni', 'wake', '.', 'Wajapani', 'hawana', 'utamaduni', 'wa', 'kusalimiana', 'kwa', 'kushikana', 'mikono', 'wala', 'kukumbatiana', '.', 'Wenyewe', 'husalimiana', 'kwa', 'kuinamisha', 'vichwa', 'tu', '.', 'Utamaduni', 'wao', 'huo', 'ukawaokoa', 'na', 'Japana', 'haikuumizwa', 'sana', 'na', 'ugonjwa', 'huo', 'kama', 'ilivyokuwa', 'kwa', 'jirani', 'zao', 'hao', '.', 'Ni', 'kwa', 'vipi', 'ugonjwa', 'huu', 'unaleta', 'maswali', 'mapya', 'kwa', 'jamii', 'za', 'Afrika', '?', 'Kwa', 'sababu', 'makala', 'haya', 'yatasomwa', 'zaidi', 'na', 'jamii', 'zinazozungumza', 'lugha', 'ya', 'Kiswahili', ';', 'ni', 'muhimu', 'kuangalia', 'ni', 'kwa', 'vipi', 'ugonjwa', 'huu', 'umeathiri', 'watu', '.', 'Shughuli', 'ni', 'watu', 'ati', 'Miongoni', 'mwa', 'misemo', 'maarufu', 'ya', 'lugha', 'ya', 'Kiswahili', 'ni', 'ule', 'usemao', 'kwamba', 'shughuli', 'ni', 'watu', '.', 'Msemo', 'huu', 'humaanisha', 'kwamba', 'kufanikiwa', 'au', 'kutofanikiwa', 'kwa', 'tukio', 'lolote', 'muhimu', 'la', 'kijamii', '-', 'hutokana', 'na', 'idadi', 'ya', 'watu', '.', 'Chanzo', 'cha', 'picha', ',', 'Getty', 'Images', 'Harusi', 'itakuwa', 'kubwa', 'endapo', 'tu', 'itahudhuriwa', 'na', 'watu', 'wengi', '.', 'Mtu', 'mashuhuri', 'akifariki', ',', 'kupendwa', 'kwake', 'kutaonekana', 'kwa', 'kuzikwa', 'na', 'umati', 'wa', 'watu', '.', 'Ugonjwa', 'wa', 'Corona', 'umeleta', 'mtihani', 'mkubwa', 'kwenye', 'jamii', 'ya', 'Waswahili', 'kwa', 'sababu', 'kisayansi', ',', 'ugonjwa', 'huu', 'husambazwa', 'kwa', 'njia', 'ya', 'hewa', 'na', 'palipo', 'na', 'mkusanyiko', 'mkubwa', ',', 'ndiyo', 'hasa', 'uwezekano', 'wa', 'kusambaa', 'kwa', 'kasi', 'zaidi', 'hujitokeza', '.', 'Katika', 'zama', 'hizi', 'za', 'Corona', ',', 'zipo', 'familia', 'katika', 'majiji', 'ya', 'Dar', 'es', 'Salaam', '(', 'Tanzania', ')', 'na', 'Mombasa', '(', 'Kenya', ')', 'ambako', 'utamaduni', 'wa', 'Kiswahili', 'umetamalaki', ',', 'ambazo', 'ziliamua', 'kuwa', 'wasiende', 'kwenye', 'msiba', 'wa', 'mpendwa', 'wao', 'kwa', 'sababu', 'ya', 'kuepuka', 'msongamano.', '``', 'Marehemu', 'baba', 'alikuwa', 'mtu', 'wa', 'watu', 'hasa', 'na', 'watu', 'wengi', 'wangetamani', 'kupata', 'fursa', 'ya', 'kumzika', 'alipofariki', '.', 'Lakini', ',', 'kuita', 'watu', 'nyumbani', 'kwetu', 'ambako', 'tuna', 'bibi', 'mtu', 'mzima', 'mwenye', 'magonjwa', 'hatarishi', 'kwa', 'Corona', 'lingekuwa', 'jambo', 'la', 'hatari.', '``', 'Bibi', 'mwenyewe', 'alikuwa', 'Analia', 'tu', 'kwamba', 'watoto', 'tumezuia', 'watu', 'wasimzike', 'mpendwa', 'wao', 'kwa', 'hadhi', 'yake', 'lakini', 'ndiyo', 'watoto', 'tukashikilia', 'msimamo', 'wetu', '.', 'Msiba', 'ukawa', 'wa', 'kifamilia', 'na', 'sote', 'tuko', 'salama', ',', \"''\", 'anasema', 'Ahmed', 'M', ',', 'mkazi', 'wa', 'Mbweni', 'jijini', 'Dar', 'es', 'Salaam', '.', 'Mahudhuria', 'katika', 'sherehe', 'au', 'misiba', 'ni', 'mojawapo', 'ya', 'misingi', 'mikuu', 'ya', 'utamaduni', 'si', 'wa', 'Waswahili', 'pekee', 'bali', 'Waafrika', 'kwa', 'ujumla', 'na', 'bila', 'ugonjwa', 'huu', 'mpya', 'wa', 'Covid', 'umeleta', 'changamoto', 'kubwa', 'katika', 'mila', 'na', 'utamaduni', 'huu', '.', 'Wanaopendana', 'hula', 'pamoja', 'Kwa', 'muda', 'mrefu', ',', 'kwa', 'sababu', 'ya', 'mazoea', 'na', 'utamaduni', ',', 'ni', 'kawaida', 'kwa', 'Waswahili', 'kula', 'kwa', 'pamoja', 'nyakati', 'za', 'mlo', '.', 'Kimsingi', ',', 'katika', 'maeneo', 'kama', 'Dar', 'es', 'Salaam', 'kulikuwa', 'kumeanza', 'kujengeka', 'utamaduni', 'wa', 'watu', 'kukutana', 'na', 'kula', 'pamoja', 'siku', 'za', 'Ijumaa', '.', 'Katika', 'mgahawa', 'mashuhuri', 'wa', 'Chef', 'Pride', 'uliopo', 'katikati', 'ya', 'jiji', ',', 'ni', 'kawaida', 'kwa', 'watu', 'mbalimbali', 'kukutana', 'na', 'kula', 'pilau', 'au', 'biryani', 'kwa', 'pamoja', '.', 'Kuna', 'utamaduni', 'ulianza', 'kujengwa', 'kwamba', 'mara', 'watu', 'watokapo', 'katika', 'ibada', 'ya', 'Ijumaa', ',', 'njia', 'huwa', 'moja', 'tu', ';', 'kwenda', 'kula', '.', 'Utamaduni', 'huu', 'umepata', 'changamoto', 'katika', 'nyakati', 'hizi', '.', 'Ili', 'watu', 'wengi', 'kujihisi', 'wamekula', 'pamoja', ',', 'huwa', 'wanaagiza', 'sinia', 'moja', 'lililojaa', 'biryani', 'na', 'nyama', '.', 'Ili', 'kula', 'vizuri', ',', 'ni', 'lazima', 'watu', 'hawa', 'wakae', 'jirani', 'jirani', '.', 'Huu', 'huwa', 'ni', 'muda', 'si', 'wa', 'kula', 'pekee', 'bali', 'wa', 'kupeana', 'taarifa', ',', 'utani', 'na', 'vicheko', '.', 'Tabia', 'zote', 'hizo', 'ni', 'hatari', 'katika', 'wakati', 'wa', 'Corona', '.', 'Kwa', 'hiyo', 'sasa', ',', 'kabla', 'mtu', 'hajaita', 'wenzake', 'anaowapenda', 'kwenda', 'kula', 'nao', ',', 'huwa', 'anajiuliza', 'swali', 'moja', '-', 'kuna', 'umuhimu', 'wa', 'kuhatarisha', 'maisha', 'yangu', 'kwa', 'ajili', 'ya', 'pilau', 'au', 'biryani', '?', 'Kusitiri', 'marehemu', 'Huwezi', 'kuzungumza', 'kuhusu', 'utamaduni', 'wa', 'Waswahili', 'bila', 'ya', 'kuzungumzia', 'dini', 'yao', '.', 'Wengi', 'wa', 'Waswahili', 'ni', 'Waislamu', 'na', 'katika', 'dini', 'yao', 'kuna', 'taratibu', 'zimewekwa', 'kwa', 'ajili', 'ya', 'kusitiri', 'marehemu', 'kabla', 'hawajazikwa', '.', 'Kama', 'marehemu', 'alifariki', 'kwa', 'ugonjwa', 'wa', 'Corona', 'au', 'wowote', 'ule', 'unaoweza', 'kuambukiza', ',', 'ni', 'jukumu', 'la', 'wale', 'wanaotakiwa', 'kumsitiri', 'kuhakikisha', 'hawahatarishi', 'maisha', 'yao', 'wakati', 'wa', 'kusitiri', 'marehemu', '.', 'Kama', 'ikionekana', 'kwamba', 'kuna', 'hatari', 'kwa', 'wanaofanya', 'kazi', 'hiyo', 'endapo', 'marehemu', 'alikufa', 'kwa', 'ugonjwa', 'huo', ',', 'kuna', 'uwezekano', 'mkubwa', 'kwamba', 'taratibu', 'hizo', 'zisifuatwe', '.', 'Kwa', 'Mswahili', 'na', 'Muislamu', ',', 'ni', 'jambo', 'la', 'kuumiza', 'roho', 'kuona', 'mpendwa', 'akienda', 'kuzikwa', 'pasipo', 'kufanyiwa', 'taratibu', 'zote', 'za', 'maiti', 'kwa', 'mujibu', 'wa', 'maelekezo', 'ya', 'vitabu', 'vya', 'dini', '.', 'Lakini', 'ugonjwa', 'wa', 'Corona', 'umeleta', 'hali', 'hii', 'na', 'kwa', 'bahati', 'nzuri', 'vitabu', 'vya', 'dini', 'vina', 'maelekezo', 'mahususi', 'kabisa', 'kuhusu', 'nini', 'kinatakiwa', 'kufanywa', 'wakati', 'wa', 'magonjwa', 'ya', 'kuambukiza', 'kama', 'hili', '.', 'Unaweza', 'pia', 'kusoma', ':', 'Utani', 'wa', 'kipimo', 'cha', 'Covid', '19', 'kutoka', 'China', 'Si', 'watu', 'wengi', 'walikuwa', 'watu', 'wazima', 'wakati', 'wa', 'ugonjwa', 'wa', 'mafua', 'makali', '(', 'Spanish', 'Flu', ')', 'wa', 'mwaka', '1920', 'ulipopiga', 'eneo', 'la', 'Afrika', 'Mashariki', '.', 'Mamilioni', 'ya', 'watu', 'waliugua', 'wakati', 'huo', 'lakini', 'Waswahili', 'bado', 'wapo', 'na', 'wanadunda', '.', 'Chanzo', 'cha', 'picha', ',', 'Getty', 'Images', 'Ni', 'matarajio', 'ya', 'wengi', 'kwamba', 'wimbi', 'hili', 'la', 'Corona', 'litapita', 'na', 'mwishowe', 'watu', 'wataendelea', 'na', 'maisha', 'yao', 'kama', 'kawaida', '.', 'Kama', 'ilivyo', 'kawaida', 'yao', '-', 'pamoja', 'na', 'machungu', 'yote', 'wanayopitia', ',', 'Waswahili', 'wanaendelea', 'kupashana', 'taarifa', 'na', 'kutaniana', 'kuhusu', 'ugonjwa', 'huu', '.', 'Kwa', 'mfano', ',', 'sasa', 'wanataniana', 'kuhusu', 'kipimo', 'cha', 'Covid', '19', 'kutoka', 'China', '.', 'Inaonekana', ',', 'wako', 'Waswahili', 'walio', 'tayari', 'kwenda', 'kaburini', 'kuliko', 'kukubali', 'kupimwa', 'Corona', 'kwa', 'njia', 'ya', 'Kichina', '.', 'Lakini', 'usifikiri', 'huo', 'ndiyo', 'ukweli', '.', 'Wanataniana', 'tu', '.', 'Ikifika', 'wakati', 'wa', 'kuokoa', 'maisha', 'yao', 'kwa', 'kuchanja', ',', 'utawaona', 'Waswahili', 'wakiibuka', 'na', 'utani', 'mwingine', 'kujitetea', 'kwanini', 'wamekubali', 'kipimo', 'cha', 'Mchina', '.']\n",
      "\n",
      " Number of Words:  961\n"
     ]
    }
   ],
   "source": [
    "file=\"21feb13.txt\"\n",
    "\n",
    "# calling the function and storing the contents in a text variable \n",
    "text = get_document(\"https://www.bbc.com/swahili/habari-56052517\")\n",
    "\n",
    "# calling the store_ document function \n",
    "store_document(doc=text,name=file)\n",
    "\n",
    "#add the words in this file to the total_corpus_words, to keep count of the number of words in the corpus\n",
    "total_corpus_words+=total_words(file)"
   ]
  },
  {
   "cell_type": "code",
   "execution_count": 24,
   "metadata": {},
   "outputs": [
    {
     "data": {
      "text/plain": [
       "401723"
      ]
     },
     "execution_count": 24,
     "metadata": {},
     "output_type": "execute_result"
    }
   ],
   "source": [
    "total_corpus_words"
   ]
  },
  {
   "cell_type": "code",
   "execution_count": 25,
   "metadata": {},
   "outputs": [
    {
     "name": "stdout",
     "output_type": "stream",
     "text": [
      "['Waridi', 'wa', 'BBC', ':', 'Mume', 'wangu', 'ana', 'umri', 'mkubwa', 'ndio', ',', 'lakini', 'mbona', 'liwe', 'tatizo', '?', 'Anne', 'Ngugi', 'BBC', 'Swahili', '24', 'Februari', '2021', 'Chanzo', 'cha', 'picha', ',', 'Ciru', 'Njuguna', 'Maelezo', 'ya', 'picha', ',', 'Ciru', 'Njuguna', 'na', 'akiwa', 'na', 'mume', 'wake', 'Greg', 'Twin', 'Unapokutana', 'na', 'Ciru', 'Njuguna', 'na', 'Greg', 'Twin', 'mara', 'ya', 'kwanza', ',', 'si', 'rahisi', 'kufikiria', 'kwamba', 'wanaweza', 'kuwa', 'wameoana', 'na', 'wanaishi', 'kama', 'mume', 'na', 'mke', '.', 'Wawili', 'hao', 'wameachana', 'umri', 'kwa', 'zaidi', 'ya', 'miaka', '30', '.', 'Mumewe', 'Twin', 'asili', 'yake', 'ni', 'Ujerumani', 'na', 'ukizingatia', 'kwamba', 'ana', 'miaka', '61', ',', 'amewazidi', 'umri', 'wazazi', 'wote', 'wawili', 'wa', 'Ciru', '.', 'Lakini', 'unapotangamana', 'wanandoa', 'hao', 'wawili', 'zaidi', 'ndipo', 'unapogundua', 'kwamba', 'wana', 'uhusiano', 'wa', 'karibu', 'sana', 'na', 'wamependana', 'kwa', 'kweli', '.', 'Ni', 'tofauti', 'hii', 'ya', 'muonekano', 'wao', 'ambayo', 'imekuwa', 'gumzo', 'na', 'Ciru', 'Njuguna', 'anasema', 'amekuwa', 'akishutumiwa', 'sana', '.', 'Lakini', 'kwake', 'anasema', 'haoni', 'tatizo', '.', 'Anasema', 'umri', 'hauna', 'maana', 'yoyote', 'katika', 'ndoa', 'bali', 'ni', 'watu', 'wawili', 'kusikilizana', 'na', 'kuheshimiana', '.', 'Chanzo', 'cha', 'picha', ',', 'Ciru', 'Njuguna', 'Maelezo', 'ya', 'picha', ',', 'Ciru', 'Njuguna', 'na', 'mumewe', 'walikutana', 'kupitia', 'mtandao', 'wa', 'kijamii', 'wa', 'Facebook', 'Kukutana', 'kwa', 'njia', 'isiyo', 'ya', 'kawaida', 'Ciru', 'Njuguna', 'na', 'Greg', 'Twin', 'wamekuwa', 'kwenye', 'uhusiano', 'na', 'baadaye', 'kwenye', 'ndoa', 'tangu', 'mwaka', 'wa', '2012', 'walipokutana', '.', 'Wawili', 'hao', 'walikutana', 'katika', 'mtandao', 'wa', 'Facebook', '.', 'Ciru', 'anasema', 'miezi', 'kadhaa', 'kabla', 'ya', 'kukutana', 'na', 'Greg', ',', 'alikuwa', 'ameumizwa', 'kwenye', 'mahusiano', 'ya', 'kimapenzi', 'na', 'kwa', 'hivyo', 'moyo', 'wake', 'ulikuwa', 'bado', 'na', 'machungu', '.', 'Walipokutana', ',', 'haja', 'yake', 'ilikuwa', 'ni', 'kukutana', 'na', 'marafiki', 'wa', 'kutoka', 'mtandaoni', '.', 'Alikuwa', 'na', 'msisimko', 'wa', 'kukutana', 'na', 'mtu', 'wa', 'asili', 'ya', 'rangi', 'nyeupe', 'lakini', 'pia', 'alitamani', 'kujua', 'zaidi', 'kuhusu', 'nchi', 'yake', 'ya', 'Ujerumani', 'alikozaliwa', 'na', 'kadhalika', '.', 'Chanzo', 'cha', 'picha', ',', 'Ciru', 'Njuguna', 'Maelezo', 'ya', 'picha', ',', 'Ciru', 'alikutana', 'na', 'mumewe', 'Greg', 'Twin', 'akiwa', 'na', 'umri', 'wa', 'miaka', '20', 'Baada', 'yao', 'kuwa', 'na', 'mazungumzo', 'ya', 'kina', 'kirefu', 'katika', 'mitandao', 'ya', 'kijamii', 'hatimaye', 'Greg', 'alimwalika', 'Ciru', 'kukutana', 'kwa', 'kile', 'alichokitaja', 'kama', \"'kikombe\", 'cha', 'kahawa', \"'\", '.', 'Ciru', 'aliupokea', 'mwaliko', 'huo', '.', '``', 'Nilikuwa', 'na', 'miaka', '20', 'tulipokutana', ',', 'upande', 'wangu', 'sikuwa', 'nimewahi', 'kuzungumza', 'na', 'mwanamume', 'aliyekuwa', 'na', 'umri', 'uliokuwa', 'mkubwa', 'mno', ',', 'kando', 'na', 'watu', 'wa', 'jamii', 'yangu', ',', \"''\", 'anasema', '.', '``', 'Hata', 'hivyo', ',', 'hilo', 'halikuwa', 'tatizo', 'kwani', 'nilimtazama', 'kama', 'mwanamume', 'wa', 'kawaida', 'nilipomuona', 'kwa', 'mara', 'ya', 'kwanza', '.', \"''\", '``', 'Nilipokwenda', 'kukutana', 'naye', 'wakati', 'huo', 'pia', 'sikuwa', 'na', 'malengo', 'ya', 'kutafuta', 'mpenzi', 'wala', 'mume', 'tulikutana', 'tu', 'kama', 'marafiki', ',', \"''\", 'anasema', 'Ciru', '.', 'Ciru', 'anasema', 'kuwa', 'alikuwa', 'anasubiri', 'kuingia', 'chuo', 'kikuu', 'baada', 'ya', 'kukamilisha', 'masomo', 'shule', 'ya', 'upili', 'wakati', 'walipokutana', '.', 'Greg', 'naye', 'alikuwa', 'anatafuta', 'tu', 'rafiki', 'wa', 'kukutana', 'naye', 'kwenye', 'ukurasa', 'wa', 'Facebook', '.', '``', 'Ila', 'kinachoumiza', 'zaidi', 'ni', 'kuwa', 'watu', 'wengi', 'hujiuliza', 'ni', 'vipi', 'msichana', 'wa', 'miaka', '19', 'alikubali', 'kukutana', 'na', 'mwanamume', 'wa', 'miaka', 'zaidi', 'ya', '50', 'atakuwa', 'anatafuta', 'nini', 'ila', 'kama', 'yeye', 'sio', 'kahaba', '?', \"''\", 'anasema', '.', '``', 'Kuwajibu', 'ni', 'kuwa', 'kati', 'yangu', 'na', 'Greg', 'hakuna', 'aliyekuwa', 'na', 'mpango', 'wa', 'ndoa', 'wala', 'mapenzi', 'ila', 'urafiki', 'na', 'pia', 'kulikuwa', 'na', 'mengi', 'ya', 'kuzungumza', 'katika', 'mkutano', 'wetu', 'wa', 'kwanza', ',', 'kwa', 'mfano', 'kazi', 'yake', ',', 'kunihusu', 'mimi', 'na', 'maisha', 'yangu', 'na', 'kadhalika', '.', \"''\", 'Ujauzito', 'wa', 'ghafla', 'Ciru', 'anasema', 'baada', 'ya', 'muda', 'si', 'mrefu', 'baada', 'yao', 'kuanza', 'urafiki', ',', 'aligundua', 'alikuwa', 'mjamzito', '.', 'Ciru', 'anasema', 'kuwa', 'alikuwa', 'bado', 'mdogo', 'wa', 'umri', 'kuelewa', 'masuala', 'kuhusiana', 'na', 'mimba', 'na', 'malezi', 'ya', 'watoto', '.', 'Chanzo', 'cha', 'picha', ',', 'Ciru', 'Maelezo', 'ya', 'picha', ',', 'Wakati', 'Ciru', 'alipopata', 'ujauzito', 'ulikuwa', 'msimu', 'wake', 'wa', 'tafakari', 'na', 'wasiwasi', 'mkuu', 'maisha', 'yake', 'Vile', 'vile', 'Ciru', 'anasema', 'kuwa', 'kwa', 'kipindi', 'hicho', 'alikuwa', 'amekwaruzana', 'na', 'wazazi', 'wake', 'pia', 'katika', 'mambo', 'mengine', '.', 'Kwa', 'hivyo', 'ulikuwa', 'msimu', 'wa', 'tafakari', 'na', 'wasiwasi', 'mkuu', 'maishani', '.', '``', 'Kabla', 'ya', 'kukutana', 'na', 'Greg', 'na', 'pia', 'kupata', 'ujauzito', 'nilikuwa', 'nimewakosesha', 'usingizi', 'wazazi', 'wangu', ',', 'waliponituma', 'shule', 'nchini', 'Uganda', 'kwa', 'masomo', 'ya', 'juu', ',', \"''\", 'anakumbuka', '.', '``', 'Nikiwa', 'huko', 'niliacha', 'shule', 'ghafla', 'na', 'kuanza', 'maisha', 'mengine', 'kinyume', 'na', 'matarajio', 'ya', 'wazazi', '.', 'Kwa', 'hivyo', 'nilifahamu', 'kuwa', 'huu', 'haukuwa', 'muda', 'wa', 'wazazi', 'wangu', 'kujua', 'kuwa', 'nilikuwa', 'nimebeba', 'ujauzito', '.', '``', 'Niliamua', 'kuwa', 'nisingetoboa', 'siri', 'ya', 'ujauzito', 'wangu', '.', 'Mtu', 'niliyemweleza', 'alikuwa', 'ni', 'Greg', 'pekee', 'yake', 'na', 'kwa', 'bahati', 'nzuri', 'alikubali', 'kuwajibikia', 'mimba', 'na', 'mtoto', 'akizaliwa', ',', \"''\", 'anakumbuka', 'Ciru', '.', 'Chanzo', 'cha', 'picha', ',', 'Ciru', 'Njuguna', 'Cha', 'mno', 'ni', 'kuwa', 'licha', 'ya', 'Greg', 'kukubali', 'kuwajibikia', 'mimba', ',', 'walikosana', 'baada', 'ya', 'muda', 'na', 'wakawa', 'hawako', 'pamoja', 'tena', 'kama', 'wapenzi', '.', 'Greg', 'pia', 'alikuwa', 'anarejea', 'kwao', 'Ujerumani', '.', '``', 'Tulikosana', 'nikiwa', 'na', 'mimba', ',', 'na', 'ikawa', 'pia', 'hatukuwasilina', 'tena', 'wakati', 'huo', ',', 'kumaanisha', 'kuwa', 'msimu', 'wa', 'ujauzito', 'wangu', 'nilikuwa', 'pekee', 'yangu', '.', 'Ulikuwa', 'wakati', 'wenye', 'changamoto', 'nyingi', 'hasa', 'kwa', 'kuwa', 'pia', 'mama', 'aligundua', 'kuwa', 'nilikuwa', 'na', 'ujauzito', ',', \"''\", 'Ciru', 'anasema', '.', 'Ciru', 'alijaribu', 'kila', 'awezalo', 'kukaa', 'mbali', 'na', 'wazazi', 'wake', 'kwa', 'lengo', 'la', 'kuficha', 'ujauzito', ',', 'na', 'hata', 'kutoroka', 'nyumbani', 'kwao', 'hadi', 'alipojifungua', 'wanawe', 'wawili', 'wa', 'kiume', '.', 'Uhusiano', 'wake', 'na', 'mumewe', 'haukuimarika', 'mara', 'moja', 'licha', 'ya', 'kuwa', 'baba', 'ya', 'watoto', 'alipotumiwa', 'picha', 'za', 'pacha', 'wake', 'akiwa', 'nchini', 'Ujerumani', 'alionekana', 'kusisimka', 'mno', '.', 'Kipindi', 'cha', 'miaka', 'mitatu', ',', 'Ciru', 'na', 'Greg', 'hawakuwa', 'pamoja', 'na', 'alichukua', 'malezi', 'ya', 'watoto', 'wao', 'kama', 'mama', 'mlezi', 'pekee', 'yake', '.', 'Ciru', 'anasema', 'kuwa', 'hakupata', 'fursa', 'ya', 'kukutana', 'na', 'wazazi', 'wa', 'mumewe', 'kwa', 'kuwa', 'wote', 'ni', 'marehemu', ',', 'ila', 'ameweza', 'kuwasiliana', 'na', 'jamaa', 'wengine', 'wa', 'mumewe', ',', 'kwa', 'mfano', 'kakake', '.', 'Ni', 'kwanini', 'Ciku', 'alimpenda', 'mume', 'wake', 'licha', 'ya', 'umri', 'mkubwa', '?', '``', 'Greg', 'kwa', 'kweli', 'ni', 'mwanamume', 'na', 'nusu', '.', 'Yeye', 'ana', 'roho', 'safi', '.', 'Kando', 'na', 'hayo', 'ni', 'mwanamume', 'ambaye', 'anawajali', 'sana', 'watu', 'na', 'anawajibikia', 'majukumu', 'ya', 'watu', 'ambao', 'wako', 'karibu', 'naye', ',', 'kwa', 'hivyo', 'mambo', 'kama', 'hayo', 'na', 'mengine', 'yalinisukuma', 'kumpenda', 'hata', 'zaidi', ',', \"''\", 'Ciru', 'anasema', '.', 'Pia', 'anasema', 'mumewe', 'ni', 'mcheshi', 'wa', 'maneno', 'na', 'haishi', 'kucheka', 'kila', 'wakati', 'anapokuwa', 'karibu', 'naye', '.', 'Kwa', 'hio', 'ilikuwa', 'rahisi', 'sana', 'kuvutiwa', 'na', 'yeye', 'na', 'kumpenda', '.', 'Kero', 'kutoka', 'kwa', 'watu', 'Lakini', 'kinachoudhi', 'mno', 'ni', 'watu', 'wanaokosoa', 'ndoa', 'yao', '.', '``', 'Kinachonishangaza', 'ni', 'baadhi', 'ya', 'maoni', 'yanayotolewa', 'kuhusu', 'mume', 'wangu', ',', 'wamemuita', 'babu', 'yangu', 'na', 'kadhalika', '-', 'lakini', 'ninachokijua', 'ni', 'kuwa', 'hakuna', 'sheria', 'inayosema', 'kuwa', 'huwezi', 'kuwa', 'na', 'uhusiano', 'na', 'mwanamume', 'mwenye', 'umri', 'uliosonga', 'au', 'umri', 'mdogo', '.', 'Mimi', 'nampenda', 'mume', 'wangu', 'mno', 'na', 'haijalishi', 'watu', 'watasema', 'nini', 'kutuhusu', ',', \"''\", 'Ciru', 'anasema', 'Chanzo', 'cha', 'picha', ',', 'Ciru', 'na', 'Greg', 'Maelezo', 'ya', 'picha', ',', 'Ciru', 'na', 'Greg', 'waliamua', 'kuzungumzia', 'mtandaoni', 'uhusiano', 'wao', 'ulivyo', 'na', 'masuala', 'mengine', 'yaliyoibuka', 'Kutokana', 'na', 'uhusiano', 'wao', ',', 'Ciru', 'na', 'Greg', 'waliona', 'pengo', 'la', 'kujaza', 'katika', 'mtandao', 'wa', 'kijamii', '.', 'Waliamua', 'kuzungumzia', 'mtandaoni', 'uhusiano', 'wao', 'ulivyo', 'na', 'masuala', 'ibuka', '.', 'Kwa', 'mfano', ',', 'huwa', 'wanajibu', 'maswali', 'kuhusu', 'changamoto', 'za', 'kuishi', 'na', 'mume', 'au', 'mke', 'aliye', 'na', 'umri', 'tofauti', 'na', 'wako', 'na', 'pia', 'kutoa', 'ushauri', '.', 'Vile', 'vile', ',', 'hujadili', 'hali', 'ya', 'kuishi', 'na', 'mtu', 'ambaye', 'sio', 'wa', 'kutoka', 'kabila', 'au', 'asili', 'yako', 'katika', 'kusaidia', 'jamii', 'kuelewa', 'kuwa', 'mahusiano', 'yanazidi', 'muonekano', 'au', 'hali', 'ya', 'mtu', '.', 'Mume', 'wangu', 'anaitwa', 'majina', 'kama', 'vile', 'babu', 'au', 'baba', '.', 'Wengine', 'hudai', 'eti', 'nina', 'lengo', 'la', 'kumuangamiza', '-', 'wengine', 'pia', 'wanasema', 'kuwa', 'yeye', 'ni', 'mkoloni', 'na', 'mimi', 'ni', 'mtumwa', 'wake', '.', '``', 'Kitu', 'kinachokera', 'zaidi', 'katika', 'maongezi', 'ambayo', 'nimesikia', 'watu', 'wakisema', 'kuhusu', 'ndoa', 'yangu', 'na', 'mume', 'wangu', 'ni', 'kuwa', 'mimi', 'ni', 'mtumwa', 'wa', 'kingono', 'kwa', 'kaburu', '.', 'Hili', 'ni', 'mmojawapo', 'wa', 'mambo', 'ambayo', 'yimeuchoma', 'moyo', 'wangu', 'mno', 'ila', 'sitakata', 'tamaa', 'kumpenda', 'mume', 'na', 'watoto', 'wangu', '.', \"''\"]\n",
      "\n",
      " Number of Words:  1214\n"
     ]
    }
   ],
   "source": [
    "file=\"21feb24.txt\"\n",
    "\n",
    "# calling the function and storing the contents in a text variable \n",
    "text = get_document(\"https://www.bbc.com/swahili/habari-56172676\")\n",
    "\n",
    "# calling the store_ document function \n",
    "store_document(doc=text,name=file)\n",
    "\n",
    "#add the words in this file to the total_corpus_words, to keep count of the number of words in the corpus\n",
    "total_corpus_words+=total_words(file)"
   ]
  },
  {
   "cell_type": "code",
   "execution_count": 26,
   "metadata": {},
   "outputs": [
    {
     "data": {
      "text/plain": [
       "402937"
      ]
     },
     "execution_count": 26,
     "metadata": {},
     "output_type": "execute_result"
    }
   ],
   "source": [
    "total_corpus_words"
   ]
  },
  {
   "cell_type": "code",
   "execution_count": 27,
   "metadata": {},
   "outputs": [
    {
     "name": "stdout",
     "output_type": "stream",
     "text": [
      "['Jinsi', 'nzige', 'wanavyotumiwa', 'kwa', 'faida', 'nchini', 'Kenya', 'Nzige', 'ni', 'wadudu', 'wanaoaminiwa', 'kuwa', 'waharibifu', 'kutokana', 'na', 'jinsi', 'wanavyoharibu', 'mimea', 'ya', 'mazao', 'mmbali', 'mbali', '.', 'Lakini', 'nchini', 'Kenya', 'shirika', 'moja', 'lisilo', 'la', 'kiserikali', '(', 'NGO', ')', 'linatoa', 'mafunzo', 'kwa', 'jamii', 'ncini', 'humo', 'kuwakamata', 'nzige', ',', 'ili', 'kuwageuza', 'kuwa', 'chaula', 'cha', 'wanyama', '.']\n",
      "\n",
      " Number of Words:  50\n"
     ]
    }
   ],
   "source": [
    "file=\"21feb26.txt\"\n",
    "\n",
    "# calling the function and storing the contents in a text variable \n",
    "text = get_document(\"https://www.bbc.com/swahili/habari-56211186\")\n",
    "\n",
    "# calling the store_ document function \n",
    "store_document(doc=text,name=file)\n",
    "\n",
    "#add the words in this file to the total_corpus_words, to keep count of the number of words in the corpus\n",
    "total_corpus_words+=total_words(file)"
   ]
  },
  {
   "cell_type": "code",
   "execution_count": 28,
   "metadata": {},
   "outputs": [
    {
     "data": {
      "text/plain": [
       "402987"
      ]
     },
     "execution_count": 28,
     "metadata": {},
     "output_type": "execute_result"
    }
   ],
   "source": [
    "total_corpus_words"
   ]
  },
  {
   "cell_type": "code",
   "execution_count": 29,
   "metadata": {},
   "outputs": [
    {
     "name": "stdout",
     "output_type": "stream",
     "text": [
      "['Mamia', 'ya', 'wakazi', 'wa', 'Nkuhungu', 'Dodoma', 'waathirika', 'na', 'mafuriko', 'Mamia', 'ya', 'wakazi', 'wa', 'eneo', 'la', 'Nkuhungu', 'lililopo', 'jijini', 'Dodoma', 'nchini', 'Tanzania', 'wamejikuta', 'bila', 'makazi', 'baada', 'ya', 'nyumba', 'zao', 'kukumbwa', 'na', 'mafuriko', 'yaliyotokana', 'na', 'mvua', 'zinazoendelea', 'katika', 'maeneo', 'mbalimbali', 'ya', 'nchi', '.', 'Waathirika', 'wa', 'mafuriko', 'hayo', 'wamesema', 'kutokuwepo', 'kwa', 'miundombinu', 'kama', 'vile', 'mitaro', 'ya', 'maji', 'ndio', 'chanzo', 'cha', 'mafuriko', ',', 'hivyo', 'kuitaka', 'serikali', 'kuweka', 'miundombinu', 'ili', 'madhara', 'zaidi', 'yasitokee', '.', 'Hali', 'ya', 'taharuki', 'na', 'fadhaa', 'imewakumba', 'wakazi', 'wa', 'maeneo', 'haya', 'ya', 'Nkuhungu', 'yaliyopo', 'nje', 'kidogo', 'na', 'jiji', 'la', 'Dodoma', '.', 'Sehemu', 'kubwa', 'ya', 'makazi', 'ya', 'watu', 'yameharibika', 'na', 'mengine', 'kumezwa', 'na', 'maji', '.', 'Familia', 'kadhaa', 'zilizoachwa', 'bila', 'makazi', 'zimelazimika', 'kutafuta', 'hifadhi', 'sehemu', 'nyengine', 'hasa', 'katika', 'nyumba', 'ambazo', 'hazijakwisha', 'maarufu', 'kama', 'mapagale', ',', 'huku', 'wakikosa', 'uhakika', 'wa', 'maisha', 'ya', 'baadae', '.', 'Paulo', 'Lazaro', 'Yohana', 'ni', 'miongoni', 'mwa', 'waathirika', 'wa', 'mafuriko', 'na', 'anasema', 'mpaka', 'sasa', 'hana', 'pa', 'kuishi', '.', '“', 'Naishi', 'kwenye', 'pagale', ',', 'mtu', 'anakuambia', 'chumba', 'elfu', '40', ',', 'na', 'anataka', 'miezi', 'sita', ',', 'kwa', 'kweli', 'ni', 'athari', 'kubwa', 'sana', ',', 'tunahangaika', 'na', 'watoto', '.', 'Miaka', 'yote', 'maisha', 'yalikuwa', 'mazuri', ',', 'mambo', 'yalianza', 'kuharibika', 'mwaka', 'jana', 'na', 'mwaka', 'huu', ',', 'baada', 'ya', 'haya', 'ma', 'karavati', 'kuelekezwa', 'maji', 'huku', 'na', 'hivi', 'mvua', 'zinazonyesha', 'ndio', 'zimeleta', 'mafuriko', ',', '”', 'anasema', 'Paulo', ',', 'mkazi', 'wa', 'Nkuhungu', ',', 'Dodoma', '.', 'Nae', 'Hadija', 'Ramadhani', 'Mshirai', 'anasema', ',', 'tangu', 'mwaka', 'jana', 'wamekuwa', 'wakihama', 'na', 'watoto', 'hivyo', ',', 'kuiomba', 'serikali', 'kuwasaidia', 'katika', 'uwekaji', 'wa', 'miundombinu', '.', 'Tofauti', 'na', 'walioamua', 'kutafuta', 'hifadhi', ',', 'kwa', 'Bona', 'Augostina', 'Shayo', 'ameamua', 'kuendelea', 'kuishi', 'katika', 'nyumba', 'ambayo', 'nusu', 'umebomoka', 'kutokanana', 'mafuriko', '.', 'Ingawa', 'sehemu', 'ya', 'nyumba', 'iliyobaki', 'inaonekana', 'kutokuwa', 'salama', 'kwa', 'sababu', 'wakati', 'wowote', 'inaweza', 'kuporomoka', ',', 'lakini', 'anasema', ',', 'hana', 'sehemu', 'nyengine', 'ya', 'kwenda', 'kuishi', ',', 'hivyo', 'ataendelea', 'kuishi', 'hapo', 'hapo', '.', 'Wengi', 'wanasema', 'chanzo', 'cha', 'mafuriko', 'hayo', 'ni', 'kukosekana', 'kwa', 'miundombinu', 'thabiti', 'pamoja', 'kuwepo', 'kwa', 'mitaro', 'inayotiririsha', 'maji', 'ya', 'mvua', 'kwenye', 'makazi', 'ya', 'watu', '.', '“', 'Tumekuja', 'na', 'option', 'ya', 'tatu', ',', 'tuyazuie', 'maji', 'yanayotoka', 'Mlima', 'Itega', '.', 'Sisi', 'kama', 'jiji', 'mkakati', 'wa', 'haraka', ',', 'moja', 'tumewaandalia', 'viwanja', ',', 'kwa', 'sababu', 'lazima', 'tuwe', 'na', 'ufumbuzi', 'kwa', 'sababu', 'kama', 'bilioni', '14', 'zitakosekana', ',', 'tumeandaa', 'viwanja', 'katika', 'eneo', 'la', 'Mahungu', ',', 'viwanja', 'vyote', 'vimepimwa', ',', 'tunatafuta', 'utaratibu', 'ili', 'tuweze', 'kuwapeleka', 'pale', ',', '”', 'amesema', 'Mafuru', '.', 'Aboubakar', 'FamauCopyright', ':', 'Aboubakar', 'Famau', 'Licha', 'ya', 'kauli', 'hiyo', 'ya', 'mkurugenzi', ',', 'waathirika', 'hawa', ',', 'wanaonekana', 'kutokubaliana', 'nayo', ',', 'huku', 'wakisisitiza', 'kwamba', 'eneo', 'wanaloishi', 'ni', 'salama', ',', 'hivyo', 'kuitaka', 'serikali', 'kutafuta', 'ufumbuzi', 'mwengine', 'ikiwemo', 'kuchimba', 'mitaro', 'ya', 'kuchepusha', 'maji', 'tofauti', 'na', 'kuwahamisha', '.', 'Rahma', 'Abdurahmani', 'Injimaa', 'ambae', 'ni', 'mkazi', 'wa', 'Nkuhungu', 'anasema', ',', 'msaada', 'pekee', 'kutoka', 'kwa', 'serikali', 'ni', 'ujenzi', 'wa', 'miundombinu', '.', 'Meli', 'iliyobeba', 'dozi', 'za', 'chanjo', 'zaidi', 'ya', 'milioni', '200', 'yawasili', 'Nigeria', 'Mkuu', 'wa', 'Shirika', 'la', 'Afya', 'duniani', '(', 'who', ')', ',', 'Tedros', 'Adhanom', 'Ghebreyesus', ',', 'amesema', 'zaidi', 'ya', 'dozi', 'milioni', '200', 'za', 'chanjo', 'ya', 'AstreZeneca', 'zinatarajiwa', 'kupelekwa', 'kwenye', 'nchi', '142', 'ifikapo', 'mwishoni', 'mwa', 'mwezi', 'Mei', '.', 'Dozi', 'hizo', 'zitawasilishwa', 'chini', 'ya', 'mpango', 'wa', 'Covax', 'unaotoa', 'bure', 'chanjo', 'hizo', 'kwa', 'nchi', 'masikini', '.', 'Meli', 'iliyobeba', 'chanjo', 'karibu', 'milioni', 'nne', 'ya', 'virusi', 'vya', 'corona', 'imewasili', 'nchini', 'Nigeria-nchi', 'ya', 'tatu', 'Afrika', 'magharibi', 'kupokea', 'chanjo', 'chini', 'ya', 'mradi', 'wa', 'Covax', 'baada', 'ya', 'Ghana', 'na', 'Ivory', 'Coast', 'ambapo', 'kampeni', 'za', 'chanjo', 'sasa', 'zimeanza', '.', 'Dkt', 'Tedros', 'amesema', 'kuwasili', 'kwa', 'chanjo', 'pia', 'kulipangwa', 'siku', 'ya', 'Jumanne', 'kwa', 'nchi', 'za', 'Angola', ',', 'Cambodia', ',', 'Jamuhuri', 'ya', 'demokrasia', 'ya', 'Congo', '.', 'Kamanda', 'mpya', 'achukua', 'usukani', 'wa', 'majeshi', 'ya', 'Kenya', 'AMISOM', 'BrigediaJeff', 'Nyagahamechukua', 'usukani', 'kama', 'kamanda', 'wasekta', 'ya', 'pili', 'ya', 'wanajeshi', 'wa', 'Kenya', 'katika', 'kikosi', 'cha', 'kulinda', 'Amani', 'nchini', 'Somalia', ',', 'Amisom', '.', 'Nyagah', 'ameichukua', 'nafasi', 'hiyo', 'kutoka', 'kwa', 'BrigediaPaul', 'Njemakatika', 'sherehe', 'ndogo', 'ya', 'kupokezana', 'usukani', 'iliyofanywaDhobley', 'nchini', 'Somalia', '.', 'Idara', 'ya', 'jeshi', 'nchini', 'Kenya', 'imesema', 'Brigedia', 'Njema', 'alikuwa', 'kamanda', 'wa', 'kikosi', 'cha', 'tisacha', 'KDF', 'kinachohudumuchini', 'ya', 'Amisomna', 'BrigediaNyagah', 'sasa', 'atasimamaia', 'oparesheni', 'zakikosi', 'cha', 'kumi', 'cha', 'Amisom', 'cha', 'KDF', '.', 'Brig', 'Njema', 'amesema', 'wanajeshi', 'wa', 'KDFwamefaulu', 'kulianya', 'dhaifu', 'kundi', 'la', 'Al', 'Shabaabkatika', 'eneo', 'hilona', 'kuhimiza', 'juhudi', 'zaidi', 'ili', 'kulimaliza', 'nguvukabisa', 'kundi', 'hilo', 'la', 'kigaidi', 'ili', 'kurejesha', 'amani', 'ya', 'kudumu', 'nchini', 'Somaliana', 'kanda', 'hii', '.', 'Brig', 'Nyagah', 'ameahidi', 'kuendelea', 'kufanya', 'oparesheni', 'maalum', 'zinazolenga', 'uwezo', 'wa', 'Al', 'shabaabna', 'pia', 'kuzidisha', 'ushirikiano', 'kati', 'ya', 'wanajeshi', 'wa', 'Kenya', 'na', 'maafisa', 'wa', 'usalama', 'wa', 'Somalia', '.', 'Kenya', 'iliwatuma', 'wanajeshi', 'wake', 'nchini', 'SomaliaOktoba', 'mwaka', 'wa', '2011baada', 'ya', 'msururu', 'wa', 'utekaji', 'nyara', 'uliowalenga', 'watalii', 'na', 'kudai', 'kutekelezwa', 'na', 'wanamgambo', 'wa', 'Al', 'Shabaabkatika', 'eneo', 'la', 'pwani', 'na', 'kaskazini', 'mashariki', 'mwa', 'Kenya', '.', 'Amnesty', 'yasema', \"'uhalifu\", 'wa', 'kivita', \"'\", 'ulifanywa', 'Msumbiji', 'Shirika', 'la', 'Amnesty', 'International', 'limechapisha', 'ripoti', 'inayolaumu', 'majeshi', 'ya', 'Msumbiji', ',', 'wajezi', 'wa', 'kijeshi', 'kibinafsi', 'na', 'wanamgambo', 'wanaohudumu', 'katika', 'Mkoa', 'wa', 'kaskazini', 'wa', 'Cabo', 'Delgado', 'kwa', 'kutekeleza', 'uhalifu', 'wa', 'kivita', '.', '“', 'Wote', 'watatu', 'walifanya', 'uhalifu', 'wa', 'kivita', ',', 'kusababisha', 'vifo', 'vya', 'mamia', 'ya', 'raia', '.', '``', 'Jamii', 'ya', 'kimataifa', 'ilikosa', 'kushughulikia', 'mzozo', 'ambao', 'uligeuka', 'kuwa', 'vita', 'kamili', 'vya', 'silaha', 'kwa', 'miaka', 'mitatu', 'iliyopita', ',', '”', 'anasema', 'Deprose', 'Muchena', ',', 'Amnesty', 'Mkurugenzi', 'wa', 'kanda', 'ya', 'mashariki', 'na', 'kusinimwa', 'Afrika', '.', 'Shirika', 'hilo', 'la', 'kutetea', 'haki', 'limetoa', 'wito', 'kwa', 'pande', 'zote', 'husika', 'kukoma', 'mara', 'moja', 'kuwalenga', 'raia', 'na', 'kuishinikiza', 'serikali', 'ya', 'Msumbiji', 'kuchunguza', 'maovu', 'hayo', '.', 'Mwaka', 'jana', ',', 'videomkadhaa', 'zilisambazwa', 'mitandao', 'zikidai', 'kuonesha', 'jinsi', 'maaskari', 'walivyowadhulumu', 'watu', 'wanaodaiwa', 'kuwa', 'wanamgambo', 'na', 'wakazi', 'wakati', 'wa', 'oparesheni', 'yao', 'Cabo', 'Delgado', '.', 'Msumbiji', 'imekuwa', 'ikikabiliana', 'na', 'wanamgambo', 'tangu', 'Oktoba', 'mwaka', '2017', 'ambapo', 'zaidi', 'ya', 'watu', '2,300', 'wameuawa', 'na', 'wengine', 'zaidi', 'ya', '600,000', 'kufurushwa', 'makwao', '.', 'Padre', 'aliyewanyanyasa', 'watoto', 'kingono', 'afia', 'gerezani', 'Paul', 'Moore', 'alitekeleza', 'uhalifu', 'wa', 'kingono', 'katika', 'maeneo', 'tofauti', 'ya', 'eneo', 'la', 'Ayrshire', 'katika', 'mwaka', '1977', 'na', '1996Image', 'caption', ':', 'Paul', 'Moore', 'alitekeleza', 'uhalifu', 'wa', 'kingono', 'katika', 'maeneo', 'tofauti', 'ya', 'eneo', 'la', 'Ayrshire', 'katika', 'mwaka', '1977', 'na', '1996', 'Padri', 'wa', 'zamani', 'wa', 'Kanisa', 'Katoliki', 'ambaye', 'alifungwa', 'jela', 'kwa', 'kuwanyanyasa', 'kingono', 'watoto', 'watatu', 'pamoja', 'na', 'mwanafunzi', 'aliyekuwa', 'akisomea', 'upadri', 'amefariki', 'jela', '.', 'Paul', 'Moore', ',', 'ambaye', 'alikuwa', 'na', 'umbri', 'wa', 'miaka', ',', 'alitekeleza', 'uhalifu', 'huo', 'katika', 'maeneo', 'tofauti', 'mjini', 'Ayrshire', 'kati', 'ya', 'mwaka', '1977', 'na', '1996', '.', 'Alifungwa', 'miaka', 'tisa', 'jela', 'kufuatia', 'uchunguzi', 'wa', 'BBC', ',', 'lakini', 'kifungo', 'hicho', 'kilipunguzwa', 'hadi', 'miaka', 'minane', 'na', 'majaji', 'wa', 'mahakama', 'ya', 'rufaa', '.', 'Uhalifu', 'wa', 'Moore', 'ulichukua', 'zaidi', 'ya', 'miaka', '20', 'kujulikana', 'na', 'mmoja', 'wa', 'wahasiriwa', 'alikuwa', 'na', 'miaka', 'mitano', '.', '‘', '’', 'Najua', 'shauku', 'na', 'hamasa', 'zenu', 'kwa', 'maendeleo', 'ya', 'nchi', 'yetu', '.', 'Najua', 'imani', 'yenu', 'kwangu', ',', 'hata', 'wale', 'waliokuwa', 'wakihoji', 'juu', 'ya', 'uwezo', 'wangu', 'au', 'kufaa', 'kwangu', 'kwa', 'nafasi', 'hii', 'walifanya', 'hivyo', 'kwa', 'nia', 'safi', 'na', 'hamu', 'ya', 'kupata', 'mtu', 'atayekidhi', 'haja', '’', '’', ',', 'imesema', 'taarifa', 'ya', 'hotuba', 'yake', 'baada', 'ya', 'uteuzi', '.', 'Bw', 'Masoud', 'anaapishwa', 'rasmi', 'hii', 'leo', 'kuchukua', 'wadhifa', 'huo', 'mpya', 'baada', 'ya', 'kifo', 'cha', 'mtanfulizi', 'wake', 'Maalim', 'Seif', '.', 'Baadhi', 'ya', 'marais', 'wa', 'Afrika', 'wamekuwa', 'wakipokea', 'chanjo', 'ya', 'corona', 'wazi', ',', 'huku', 'wakionekana', 'moja', 'kwa', 'moja', 'kwenye', 'televisheni', ',', 'ili', 'kuonyesha', 'mfano', 'kwa', 'raia', 'wa', 'nchi', 'zao', 'na', 'kuondoa', 'hofu', 'kuhusiana', 'na', 'chanjo', 'ya', 'corona', '.']\n",
      "\n",
      " Number of Words:  1135\n"
     ]
    }
   ],
   "source": [
    "file=\"21march2_1.txt\"\n",
    "\n",
    "# calling the function and storing the contents in a text variable \n",
    "text = get_document(\"https://www.bbc.com/swahili/live/habari-56248886\")\n",
    "\n",
    "# calling the store_ document function \n",
    "store_document(doc=text,name=file)\n",
    "\n",
    "#add the words in this file to the total_corpus_words, to keep count of the number of words in the corpus\n",
    "total_corpus_words+=total_words(file)"
   ]
  },
  {
   "cell_type": "code",
   "execution_count": 30,
   "metadata": {},
   "outputs": [
    {
     "data": {
      "text/plain": [
       "404122"
      ]
     },
     "execution_count": 30,
     "metadata": {},
     "output_type": "execute_result"
    }
   ],
   "source": [
    "total_corpus_words"
   ]
  },
  {
   "cell_type": "code",
   "execution_count": 31,
   "metadata": {},
   "outputs": [
    {
     "name": "stdout",
     "output_type": "stream",
     "text": [
      "['Virusi', 'vya', 'corona', ':', 'Je', 'tunafahamu', 'nini', 'kuhusu', 'chanjo', 'ya', 'AstraZeneca', 'itakayowasili', 'Kenya', 'Jumanne', '?', '2', 'Machi', '2021', 'Chanzo', 'cha', 'picha', ',', 'Reuters', 'Shehena', 'ya', 'kwanza', 'ya', 'chango', 'ya', 'corona', 'ya', 'AstraZeneca', 'kupitia', 'mpango', 'wa', 'Covax', 'inatarajiwa', 'kuwasili', 'nchini', 'Kenya', 'Jumanne', '.', 'Hii', 'ni', 'baada', 'ya', 'nchi', 'hiyo', 'kutangaza', 'kwamba', 'itaendelea', 'na', 'mipango', 'ya', 'kutumia', 'chanjo', 'ya', 'Astrazeneca', 'na', 'kupuuza', 'wasiwasi', 'wa', 'ufanisi', 'wa', 'chanjo', 'hiyo', 'katika', 'kutoa', 'kinga', 'dhidi', 'ya', 'viruis', 'vya', 'corona', '.', 'Lakini', 'je', 'unafahamu', 'nini', 'kuhusu', 'chanjo', 'hii', '?', 'Chanjo', 'ya', 'AstraZeneca', 'inakadiriwa', 'kugharimu', 'dola', 'mbili', 'kwa', 'dozi', 'moja', 'na', 'dola', 'nne', 'kwa', 'dozi', 'kamili', '.', 'Kupitia', 'mpango', 'wa', 'Covax', 'Kenya', 'itapata', 'chanjo', 'ya', 'kiwapa', 'asilimia', '20', 'ya', 'wanachi', 'ambayo', 'ni', 'takrikban', 'watu', 'milioni', '10', '.', 'Ufanisi', 'wake', 'ukoje', '?', 'Kampuni', 'ya', 'AstraZeneca', 'imesema', 'chanjo', 'yao', 'inaweza', 'pia', 'kusafirishwa', 'na', 'kuhifadhiwa', 'kwenye', 'friji', 'ya', 'kawaida', ',', 'ambayo', 'watetezi', 'wake', 'wanasema', 'ingeifanya', 'iwe', 'rahisi', 'kusambaza', ',', 'haswa', 'katika', 'nchi', 'masikini', ',', 'kuliko', 'Pfizer', ',', 'ambayo', 'inahitaji', 'kusafirishwa', 'na', 'kuhifadhiwa', 'kwa', 'kiwango', 'cha', 'joto', 'nyuzi', '70', 'kipomo', 'cha', 'Celsius', '.', 'Chanjo', 'inapaswa', 'kutolewa', 'kwa', 'muda', 'gani', '?', 'Chanjo', 'hii', 'inapaswa', 'kutolewa', 'kwa', 'dozi', 'mbili', 'kwa', 'watu', 'wote', 'alio', 'na', 'umri', 'wa', 'zaidi', 'ya', 'miaka', '18', 'bila', 'kuwepo', 'na', 'umri', 'wa', 'wa', 'juu', '.', 'Utafiti', 'umebaini', 'muda', 'bora', 'kati', 'ya', 'chanjo', 'ya', 'kwanza', 'na', 'ya', 'pili', 'ilikuwa', 'ni', 'wiki', '8', 'hadi', '12', 'ili', 'kuhakikisha', 'kinga', 'ya', 'maili', 'imeongezeka', '.', 'Watakaopewa', 'kipaumbele', 'ni', 'wahudumu', 'wa', 'afya', ',', 'wazee', ',', 'wale', 'ambao', 'wana', 'matatizo', 'ya', 'afya', 'na', 'waalimu', '.', 'Je', 'wanawake', 'wanawazito', 'wanastahili', 'kuchanjwa', '?', 'Japo', 'wanawake', 'wajawazito', 'wako', 'katika', 'hatari', 'ya', 'kupata', 'maambukizi', 'ya', 'virusi', 'vya', 'corona', ',', 'kuna', 'maelezo', 'kidogo', 'kuhusu', 'usalama', 'wa', 'chanjo', 'hii', 'kwa', 'ujauzito.Wanawake', 'wajawazito', 'wanaweza', 'tu', 'kuchanjwa', 'ikiwa', 'manufaa', 'ya', 'chanjo', 'inazidi', 'hofu', 'ya', 'hatari', 'inayohusiana', 'na', 'hatua', 'hiyo', '.', 'Kutokana', 'na', 'sababu', 'hii', ',', 'wanawake', 'wajawazito', 'walio', 'katika', 'hatari', 'ya', 'kupata', 'virusi', 'vya', 'SARS-CoV-2', '(', 'kwa', 'mfano', 'wahudumu', 'wa', 'afya', ')', 'au', 'wale', 'walio', 'na', 'matatizo', 'ya', 'kiafya', 'ambayo', 'yanawaweka', 'katika', 'hatari', 'ya', 'kupata', 'magonjwa', 'hatari', ',', 'wanaweza', 'kuchanjwa', 'kwa', 'kupitia', 'ushauri', 'wa', 'wataaamu', 'wa', 'afya', '.', 'Je', 'chanjo', 'itazuia', 'kugeuka', 'kwa', 'umbo', 'jipya', 'la', 'kirusi', 'na', 'aina', 'nyingine', 'za', 'virusi', 'za', 'corona', '?', 'Virusi', 'hivi', 'vimekuwa', 'vikigeuka', 'umbo', 'na', 'wakati', 'mwingine', 'hufanya', 'hivyo', 'kwa', 'kiasi', 'kwamba', 'vinakua', 'sugu', 'kwa', 'chanjo', ',', 'kwahiyo', 'vinahitaji', 'kufanyiwa', 'mabadiliko', '.', 'Aina', 'ya', 'virusi', 'vya', 'corona', 'iliyobainika', 'Afrika', 'Kusini', 'na', 'Uingereza', 'tayari', 'imesambaa', 'katika', 'nchi', 'nyingine', 'na', 'imesambaa', 'kwa', 'viwango', 'vya', 'hali', 'ya', 'juu', '.', 'Hata', 'hivyo', 'Mwenyekiti', 'wa', 'kikosi', 'kinachosimamia', 'chanjo', 'ya', 'Covid-19', 'nchini', 'Kenya', ',', 'Willis', 'Akhawale', 'amewaambia', 'wanahabari', 'kwamba', 'wataalamu', 'wanaendelea', 'kufanya', 'utafiti', 'kubaini', 'ni', 'virus', 'via', 'aina', 'gani', 'vilivyopo', 'na', 'ni', 'change', 'aina', 'gani', 'inaweza', 'kupambana', 'nato', 'na', 'kuthibiti', 'visisambae', '.']\n",
      "\n",
      " Number of Words:  447\n"
     ]
    }
   ],
   "source": [
    "file=\"21march2_2.txt\"\n",
    "\n",
    "# calling the function and storing the contents in a text variable \n",
    "text = get_document(\"https://www.bbc.com/swahili/habari-56250737\")\n",
    "\n",
    "# calling the store_ document function \n",
    "store_document(doc=text,name=file)\n",
    "\n",
    "#add the words in this file to the total_corpus_words, to keep count of the number of words in the corpus\n",
    "total_corpus_words+=total_words(file)"
   ]
  },
  {
   "cell_type": "code",
   "execution_count": 32,
   "metadata": {},
   "outputs": [
    {
     "data": {
      "text/plain": [
       "404569"
      ]
     },
     "execution_count": 32,
     "metadata": {},
     "output_type": "execute_result"
    }
   ],
   "source": [
    "total_corpus_words"
   ]
  },
  {
   "cell_type": "code",
   "execution_count": 33,
   "metadata": {},
   "outputs": [
    {
     "name": "stdout",
     "output_type": "stream",
     "text": [
      "['Air', 'Tanzania', 'kuanza', 'safari', 'zake', 'kuelekea', 'Guangzhou', 'China', 'Shirika', 'la', 'Ndege', 'la', 'Tanzania', '(', 'ATCL', ')', 'Linatarajia', 'kuanza', 'kufanya', 'safari', 'zake', 'kuelekea', 'jijini', 'Guangzhou', 'China', 'ifikapo', 'tarehe', '20', 'Machi', '.', 'Hatua', 'hiyo', 'inakuja', 'wakati', 'kukiwa', 'na', 'vizuizi', 'vya', 'kusafiri', 'vilivyowekwa', 'duniani', 'kutokana', 'na', 'janga', 'la', 'virusi', 'vya', 'corona', '.', 'Mkurugenzi', 'Mtendaji', 'wa', 'ATCL', ',', 'Ladislaus', 'Matindi', 'aliliambia', 'gazeti', 'la', 'Citizen', 'Ijumaa', 'kuwa', 'safari', 'za', 'ndege', 'kwenda', 'china', 'ambazo', 'ziliahirishwa', 'tangu', 'mwezi', 'Septemba', 'mwaka', 'jana', 'kwa', 'sababu', 'ya', 'janga', 'la', 'corona', 'zitaanza', 'rasmi', 'mwezi', 'huu', '.', \"''Tutasafiri\", 'kwa', 'wiki', 'mara', 'moja', 'Jumamosi', 'saa', '11', 'asubuhi', 'kuelekea', 'China', 'na', 'kurejea', 'Tanzania', 'siku', 'ya', 'Jumapili', 'saa', '11', ',', \"''\", 'alisema', '.', 'Shirika', 'hili', 'limeandika', 'kwenye', 'kurasa', 'zake', 'za', 'mitandao', 'ya', 'kijamii', 'taarifa', 'kuhusu', 'safari', 'hizo', 'zinazotarajiwa', 'kuanza', '.', 'WHO', ':', \"'Hatari\", \"'\", 'ugonjwa', 'wa', 'Ebola', 'kusambaa', 'nchi', 'jirani', 'kutoka', 'Guinea', 'Shirika', 'la', 'Afya', 'Duniani', 'limetahadharisha', 'kuwa', '``', 'kuna', 'hatari', \"''\", 'kuwa', 'Mlipuko', 'wa', 'Ebola', 'nchini', 'Guinea', 'unaweza', 'kuenea', 'nchi', 'jirani', '.', '``', 'Kufikia', 'jana', 'jumla', 'ya', 'wagonjwa', '18', 'waliripotiwa', ':', '14', 'wakithibitishwa', ',', 'pamoja', 'na', 'vifo', 'vya', 'watu', 'wanne', '.', 'Hii', 'inatoa', 'kesi', 'ya', 'vifo', 'vya', '44.4', '%', ',', \"''\", 'anasema', 'Dkt', 'Georges', 'Alfred', 'Ki-Zerbo', ',', 'mwakilishi', 'wa', 'WHO', 'nchini', 'Guinea', '.', 'Shirika', 'hilo', 'limesema', 'baadhi', 'ya', 'nchi', 'jirani', 'hazijaandaa', 'kampeni', 'yoyote', 'ya', 'chanjo', '.', 'Mpaka', 'sasa', 'zaidi', 'ya', 'watu', '1,600', 'wamepatiwa', 'chanjo', 'ya', 'dhidi', 'ya', 'ugonjwa', 'wa', 'Ebola', 'nchini', 'Guinea', 'Mlipuko', 'wa', 'ugonjwa', 'huo', 'ulioanza', 'karibu', 'wiki', 'tatu', 'zilizopita', 'ni', 'wa', 'kwanza', 'katika', 'eneo', 'hilo', 'tangu', 'mwaka', '2014', 'ambapo', 'ugonjwa', 'huo', 'uligharimu', 'maisha', 'ya', 'watu', '11,000', 'nchini', 'Guinea', ',', 'Sierra', 'Leone', 'na', 'Liberia', '.', 'Kenya', 'yaanza', 'kuwadunga', 'watu', 'chanjo', 'ya', 'Corona', 'Mwakilishi', 'wa', 'Umoja', 'wa', 'mataifa', 'akizungumza', 'katika', 'hafla', 'ya', 'utoaji', 'wa', 'chanjo', 'katika', 'hospitali', 'ya', 'kitaifa', 'ya', 'Kenyatta', 'jijini', 'NairobiImage', 'caption', ':', 'Mwakilishi', 'wa', 'Umoja', 'wa', 'mataifa', 'akizungumza', 'katika', 'hafla', 'ya', 'utoaji', 'wa', 'chanjo', 'katika', 'hospitali', 'ya', 'kitaifa', 'ya', 'Kenyatta', 'jijini', 'Nairobi', 'Kenya', 'imeanza', 'kutoa', 'chanjo', 'ya', 'Corona', 'leo', 'na', 'mtu', 'wa', 'kwanza', 'ambaye', 'amedungwa', 'chanjo', 'hiyo', 'ni', 'kaimu', 'mkurugenzi', 'wa', 'afya', 'Patrick', 'Amoth', '.', 'Watu', 'kumi', 'wa', 'kwanza', 'pia', 'wamedungwa', 'chanjo', 'hiyo', 'katika', 'hospitali', 'ya', 'Kenyatta', 'jijini', 'Nairobi', '.', 'Wengine', 'waliochanjwa', 'ni', 'afisa', 'mkuu', 'mtendaji', 'wa', 'hospitali', 'ya', 'Kenyatta', 'Evanson', 'Kamuri', 'akifuatwa', 'na', 'muuguzi', 'mmoja', 'wa', 'hospitali', 'hiyo', 'kisha', 'Collins', 'Tabu', 'ambaye', 'ni', 'mkuu', 'wa', 'kitengo', 'cha', 'Chanjo', 'katika', 'wizara', 'ya', 'afya', 'akachanjwa', 'pia', '.', 'Wote', 'walioachanjwa', 'walitakiwa', 'kusaini', 'mkataba', 'wa', 'kuidhinisha', 'kupewa', 'chanjo', 'hiyo', 'na', 'baadaye', 'wakatakiwa', 'kupumzika', 'kwa', 'dakika', '30', 'kabla', 'ya', 'kuruhusiwa', 'kuondoka', '.', 'Katibu', 'wa', 'kudumu', 'wa', 'wizara', 'ya', 'Afya', 'Susan', 'Mochache', 'amesema', 'chanjo', 'itatolewa', 'katika', 'hospitali', 'zote', 'za', 'rufaa', 'za', 'kaunti', 'pindi', 'uzinduzi', 'katika', 'hospitali', 'ya', 'KNH', 'utakapokamilishwa', '.', 'Mwakilishi', 'wa', 'WHO', 'nchini', 'Kenya', 'Rudi', 'Eggers', 'amesema', 'Wakenya', 'hawatagharamika', 'wanapodungwa', 'chanjo', 'hiyo', 'ya', 'AstraZeneca', '.', 'Mzozo', 'wa', 'Tigray', ':', 'Baraza', 'la', 'Usalama', 'la', 'UN', 'lashindwa', 'kukubaliana', 'Mamia', 'ya', 'watu', 'waliuawa', 'mzozo', 'ulipozuka', 'mwezi', 'NovembaImage', 'caption', ':', 'Mamia', 'ya', 'watu', 'waliuawa', 'mzozo', 'ulipozuka', 'mwezi', 'Novemba', 'Baraza', 'la', 'Usalama', 'la', 'Umoja', 'wa', 'Mataifa', 'limeshindwa', 'kufikia', 'tamko', 'la', 'pamoja', 'kuhusu', 'mzozo', 'wa', 'Tigray', 'kaskazini', 'mwa', 'Ethiopia', ',', 'baada', 'ya', 'Urusi', ',', 'China', 'na', 'India', 'kuchukualia', 'mgogoro', 'huo', 'kuwa', 'suala', 'la', 'ndani', '.', 'Wanadiplomasia', 'walionukuliwa', 'na', 'shirika', 'la', 'habari', 'la', 'AFP', 'wamesema', 'nchi', 'tatu', 'za', 'Afrika', 'katika', 'baraza', 'hilo-', 'Kenya', ',', 'Niger', 'na', 'Tunisia', '-', 'zimeunga', 'mkono', 'rasimu', 'ya', 'taarifa', 'iliyoandikwa', '.', 'Kamishena', 'wa', 'kutetea', 'haki', 'katika', 'Umoja', 'wa', 'Mataifa', 'katika', 'awali', 'alisema', 'kulikuwa', 'na', 'ripoti', 'za', 'kusikitisha', 'zinazoashitia', 'huenda', 'uhalifu', 'wa', 'kivita', 'ulitekelezwa', 'katika', 'jimbo', 'Tigray', '.', 'Michelle', 'Bachelet', 'aliangazia', 'visa', 'vya', 'unyanyasajji', 'wa', 'kijinsia', ',', 'mauaji', 'ya', 'kiholela', 'na', 'uharibifu', 'mkubwa', 'ulifanywa', 'katika', 'eneo', 'hilo', '.', 'Ofisi', 'ya', 'Umoja', 'wa', 'Mataifa', 'ya', 'kutetea', 'haki', 'inataka', 'kupewa', 'idhini', 'ya', 'kuchunguza', 'ripoti', 'za', 'ukatili', 'uliotekelezwa', 'na', 'majeshi', 'ya', 'Ethiopia', 'na', 'Eritrea', ',', 'wapiganaji', 'wa', 'Tigray', 'People', '’', 's', 'Liberation', 'Front', 'na', 'vikosi', 'vya', 'jimbo', 'la', 'Amhara', '.', 'Televisheni', 'za', 'Senegal', 'zafungwa', 'kwasababu', 'ya', 'kuangazia', 'maandamano', 'Wafuasi', 'wa', 'kiongozi', 'wa', 'upinzani', 'wa', 'Senegal', 'walikabiliana', 'na', 'polisiImage', 'caption', ':', 'Wafuasi', 'wa', 'kiongozi', 'wa', 'upinzani', 'wa', 'Senegal', 'walikabiliana', 'na', 'polisi', 'Mamlaka', 'nchini', 'Senegal', 'zimesitisha', 'matangazo', 'ya', 'vituo', 'viwili', 'vya', 'televisheni', 'za', 'kibinafsi', 'baada', 'ya', 'kuzilaumu', 'kwa', 'kuangazia', 'zaidi', 'maandamano', 'yaliyosababishwa', 'na', 'kukamatwa', 'kwa', 'kiongozi', 'wa', 'upinzani', ',', 'Ousmane', 'Sonko', '.', 'Vituo', 'viwili', 'vilivyoathirika', 'na', 'uamuzi', 'wa', 'Mamlaka', 'ya', 'Usimamizi', 'wa', 'Matangazo', 'nchini', 'humo', 'ni', 'Sen', 'TV', 'na', 'Walf', 'TV', '.', 'Vituo', 'hivyo', 'vimeshutumiwa', 'kwa', 'upeperushaji', 'wa', 'picha', 'zinazoonesha', 'maandamano', 'baada', 'ya', 'Bwana', 'Sonko', 'kukamatwa', ',', 'Shirika', 'la', 'habari', 'la', 'AFP', 'limeripoti', '.', 'Siku', 'ya', 'Alhamisi', ',', 'polisi', 'walikabiliana', 'na', 'wafuasi', 'wa', 'Bw', '.', 'Sonko', 'mjini', 'Bignona', 'kusini', 'mwa', 'eneo', 'la', 'Casamance', '.', 'Serikali', 'imethibitisha', 'kuwa', 'mtu', 'mmoja', 'aliuawa', 'siku', 'ya', 'katika', 'ghasia', 'za', 'Alhamisi', 'zilizotokana', 'na', 'kukamatwa', 'na', 'Bw', '.', 'Sonko', 'mjini', 'Dakar', 'mapema', 'siku', 'hiyo', '.', 'Bw', '.', 'Sonko', 'amelaumiwa', 'kwa', 'kumbaka', 'mwanamke', 'mmoja', 'katika', 'saluni', 'ambako', 'alikwenda', 'kusingwa', '.', 'Msemaji', 'Mkuu', 'wa', 'Serikali', 'ya', 'Tanzania', 'Dkt', 'Hassan', 'Abbas', 'amevitaka', 'vyambo', 'habari', 'kuzingatia', 'misingi', 'ya', 'utoaji', 'taarifa', '.', 'Katika', 'taarifa', 'yake', 'kwa', 'umma', 'Bw', '.', 'Abbas', 'amesema', ',', 'katika', 'siku', 'za', 'hivi', 'karibuni', 'kumekuwa', 'na', 'tabia', 'ya', 'baadhi', 'ya', 'vyombo', 'vya', 'habari', 'na', 'watu', 'katika', 'mitandao', 'ya', 'kijamii', 'kujitolea', 'taarifa', 'bila', 'kuzingatia', 'mwongozo', 'uliowekwa', '.', \"''Serikali\", 'ina', 'mfumo', 'wake', 'wa', 'kutoa', 'taarifa', 'mbali', 'mbali', 'kwa', 'hiyo', 'wale', 'ambao', 'hawahusiki', 'na', 'taratibu', 'hizo', 'hawafai', 'kuingilia', 'taratibu', 'hizo', '’', '’', 'alisema', 'Bw', '.', 'Abbas', '.', 'Kauli', 'yake', 'inakuja', 'siku', 'kadhaa', 'baada', 'ya', 'Kanisa', 'Katoliki', 'nchini', 'Tanzania', 'kusema', 'limepoteza', 'mapadri', '25', ',', 'watawa', 'na', 'wauguzi', '60', 'kwa', 'matatizo', 'ya', 'kupumua', 'kwa', 'miezi', '2', '.', 'Baraza', 'la', 'Maaskofu', 'wa', 'Kanisa', 'la', 'Katoliki', 'nchini', 'Tanzania', '(', 'TEC', ')', 'liliwataka', 'wananchi', 'wa', 'taifa', 'hilo', 'la', 'Afrika', 'Mashariki', 'kuchukua', 'tahadhari', 'zaidi', 'dhidi', 'ya', 'ugonjwa', 'wa', 'virusi', 'vya', 'corona', '.', 'Katibu', 'wa', 'TEC', 'Padri', 'Charles', 'Kitima', 'kupitia', 'mkutano', 'na', 'wanahabari', 'alisisitiza', 'kuwa', 'tishio', 'la', 'corona', 'bado', 'lipo', 'Tanzania', 'na', 'Kanisa', 'na', 'ongezeko', 'la', 'vifo', 'bado', 'linaendelea', 'kuripotiwa', 'ikiwemo', 'ndani', 'ya', 'Kanisa', 'lenyewe', \"''Ndani\", 'ya', 'miezi', 'iliyopita', 'Mapadri', '25', 'wamepoteza', 'maisha', 'kwa', 'matatizo', 'ya', 'kupumua', '.', 'Masisita', 'na', 'manesi', 'zaidi', 'ya', '60', '.', 'Vifo', 'vinaendelea', ',', 'tuchukue', 'tahadhari', '.', \"''\", 'alisema', '.', 'Kwa', 'mujibu', 'wa', 'Dkt', 'Kitima', 'japo', 'serikali', 'kupitia', 'Wizara', 'ya', 'Afya', 'imetoa', 'waraka', 'wa', 'kuwataka', 'watu', 'kuchukua', 'tahadhari', 'bado', 'kuna', 'changamoto', 'kwa', 'kuwa', 'watu', 'hawabanwi', 'kisheria', 'kuchukua', 'tahadhari', '.', \"''Changamoto\", 'tuipatayo', 'kwa', 'kuwa', 'serikali', 'haijasisitiza', 'tahadhari', ',', 'watu', 'bado', 'wana', 'mtazamo', 'kuwa', 'corona', 'haipo', 'au', 'imeisha', 'kama', 'ilivyokuwa', 'mwaka', 'jana.', \"''\", ',', 'alisisitiza', '.', 'Daktari', 'wa', 'kwanza', 'duniani', 'kufariki', 'dunia', 'kwasababu', 'ya', 'ugonjwa', 'wa', 'Covid-19', 'alikuwa', 'daktari', 'bingwa', 'wa', 'macho', 'Li', 'Wenliang', ':', 'na', 'tangu', 'wakati', 'huo', ',', 'macho', 'yamekuwa', 'yakihusishwa', 'kwa', 'karibu', 'sana', 'na', 'janga', 'la', 'corona', '.']\n",
      "\n",
      " Number of Words:  1081\n"
     ]
    }
   ],
   "source": [
    "file=\"21march5_1.txt\"\n",
    "\n",
    "# calling the function and storing the contents in a text variable \n",
    "text = get_document(\"https://www.bbc.com/swahili/live/habari-56290281\")\n",
    "\n",
    "# calling the store_ document function \n",
    "store_document(doc=text,name=file)\n",
    "\n",
    "#add the words in this file to the total_corpus_words, to keep count of the number of words in the corpus\n",
    "total_corpus_words+=total_words(file)"
   ]
  },
  {
   "cell_type": "code",
   "execution_count": 34,
   "metadata": {},
   "outputs": [
    {
     "data": {
      "text/plain": [
       "405650"
      ]
     },
     "execution_count": 34,
     "metadata": {},
     "output_type": "execute_result"
    }
   ],
   "source": [
    "total_corpus_words"
   ]
  },
  {
   "cell_type": "code",
   "execution_count": 35,
   "metadata": {},
   "outputs": [
    {
     "name": "stdout",
     "output_type": "stream",
     "text": [
      "['Uchina', 'imekuwa', 'ikilaumiwa', 'barani', 'afrika', 'kwa', 'kuzitega', 'nchi', 'nyingi', 'za', 'Afrika', 'kupitia', 'mikopo', 'na', 'hivi', 'punde', 'kujipata', 'mashakani', 'hasa', 'kuhusiana', 'nan', 'a', 'mzigo', 'w', 'amadeni', 'ya', 'Uchina', 'ni', 'Zambia', 'inayodaiwa', 'zaidi', 'ya', 'bondi', 'ya', 'dola', 'milioni', 'tatu', 'na', 'dola', 'nyingine', 'milioni', 'tatu', 'inayodaiwa', 'na', 'kmapuni', 'za', 'Uchina', '.', 'IMF', 'imesema', 'mazungumzo', 'ya', 'kuweza', 'kuikwamua', 'Zambia', 'kiuchumi', 'yanaendelea', 'vizuri', 'na', 'waziri', 'wa', 'Fedha', 'wa', 'taifa', 'hilo', 'Bwalya', \"Ng'andu\", 'amesema', 'nchi', 'yake', 'imejitolea', 'kupata', 'usaidizi', 'wa', 'IMF', 'katika', 'mpango', 'huo', '.', 'IMF', 'imesema', 'inalenga', 'kuutekeleza', 'mpango', 'wa', 'kifedha', 'wa', 'kuirejesha', 'nchi', 'hiyo', 'uthabiti', 'wa', 'kuweza', 'kugharamia', 'bajeti', 'yake', 'bila', 'kuteemea', 'fedha', 'za', 'mikopo', 'iliposhindwa', 'kutekeleza', 'malipo', 'ya', 'baadhi', 'ya', 'pesa', 'inazodaiwa', '.', 'Kampuni', 'na', 'mashirika', 'yanayoidaiwa', 'Zambia', 'zimekaribisha', 'tangazo', 'la', 'hatua', 'zinazopigwa', 'lakini', 'zimehofishwa', 'na', 'kasi', 'ya', 'pole', 'pole', 'ya', 'majadiliano', 'hayo', '.', 'Lusaka', 'iliitisha', 'msaada', 'hazina', 'hiyo', 'mwezi', 'disemba', 'mwaka', 'jana', 'na', 'kuitisha', 'kupewa', 'afueni', 'ya', 'deni', 'mwezi', 'januari', 'chini', 'ya', 'mpango', 'wa', 'pamoja', 'unaoungwa', 'mkono', 'na', 'mataifa', 'yenye', 'chumi', 'thabiti', 'ya', 'G20', 'ili', 'kuzisaidia', 'nchi', 'maskini', 'duniani', 'kushughulikia', 'mzigo', 'wa', 'madeni', '.']\n",
      "\n",
      " Number of Words:  172\n"
     ]
    }
   ],
   "source": [
    "file=\"21march5_2.txt\"\n",
    "\n",
    "# calling the function and storing the contents in a text variable \n",
    "text = get_document(\"https://www.bbc.com/swahili/habari-56294802\")\n",
    "\n",
    "# calling the store_ document function \n",
    "store_document(doc=text,name=file)\n",
    "\n",
    "#add the words in this file to the total_corpus_words, to keep count of the number of words in the corpus\n",
    "total_corpus_words+=total_words(file)"
   ]
  },
  {
   "cell_type": "code",
   "execution_count": 36,
   "metadata": {},
   "outputs": [
    {
     "data": {
      "text/plain": [
       "405822"
      ]
     },
     "execution_count": 36,
     "metadata": {},
     "output_type": "execute_result"
    }
   ],
   "source": [
    "total_corpus_words"
   ]
  },
  {
   "cell_type": "code",
   "execution_count": 37,
   "metadata": {},
   "outputs": [
    {
     "name": "stdout",
     "output_type": "stream",
     "text": [
      "['Kenya', 'inapojitayarisha', 'kwa', 'uchaguzi', 'mkuu', 'wa', 'mwaka', 'wa', '2022', 'viongozi', 'mbali', 'mbali', 'wamejitokeza', 'kutangaza', 'nia', 'ya', 'kumrithi', 'rais', 'Uhuru', 'Kenyatta', '.', 'Viongozi', 'hao', 'ni', 'pamoja', 'na', 'naibu', 'wake', 'William', 'Ruto', ',', 'Kiongozi', 'wa', 'ANC', 'Musalia', 'Mudavadi', ',', 'Kiongozi', 'wa', 'chama', 'cha', 'Wiper', 'Kalonzo', 'Musyoka', ',', 'Kiongozi', 'wa', 'Ford', 'Kenya', 'Moses', 'Wetangula', ',', 'kiongozi', 'wa', 'chama', 'cha', 'Kanu', 'Gideon', 'Moi', 'miongoni', 'mwa', 'wengine', '.', 'Wa', 'hivi', 'punde', 'kujitosa', 'katika', 'kipute', 'hicho', 'ni', 'gavana', 'wa', 'Mombasa', 'Hassan', 'Joho', 'na', 'Aliyekuwa', 'mkuu', 'wa', 'UNCTAD', 'Mukhisa', 'Kituyi', '.', 'Francis', 'Atwoli', 'na', 'muungano', 'wa', 'COTU', 'Hata', 'hivyo', 'kiongozi', 'ambaye', 'jina', 'lake', 'na', 'kauli', 'zake', 'kuhusu', 'siasa', 'za', '2022', 'zimekuwa', 'zikigonga', 'vichwa', 'vya', 'habari', 'na', 'ambaye', 'wengi', 'hawajamchukulia', 'kama', 'anayeweza', 'kuamua', 'atakayechukua', 'usukani', 'ama', 'hata', 'kuchukua', 'usukani', 'mwenyewe', 'ni', 'katibu', 'mkuu', 'wa', 'muungano', 'wa', 'vyama', 'vya', 'wafanyikazi', 'nchini', 'Kenya', 'COTU', 'Francis', 'Atwoli', '.', 'Atwoli', 'amekuwa', 'akitoa', 'kauli', 'zake', 'kuhusu', 'uchaguzi', 'mkuu', 'ujao', 'na', 'hakuna', 'ambaye', 'amekuwa', 'akiweka', 'katika', 'darubini', 'uwezekano', 'wake', 'kujipata', 'katika', 'meza', 'kuu', 'ya', 'uongozi', 'ama', 'ile', 'ya', 'kuamua', 'mrithi', 'wa', 'rais', 'Uhuru', 'Kenyatta', '.', 'Kiongozi', 'huyo', 'wa', 'muungano', 'wa', 'wafanyikazi', 'nchini', 'ana', 'historia', 'ya', 'muda', 'mrefu', 'na', 'chama', 'cha', 'Kanu', 'na', 'endapo', 'ataamua', 'kugombea', 'kiti', 'cha', 'urais', 'basi', 'atakuwa', 'na', 'uzito', 'wake', 'na', 'kubadilisha', 'kabisa', 'mkondo', 'wa', 'kisiasa', 'nchini', 'Kenya', '.', 'Chanzo', 'cha', 'picha', ',', 'Atwoli/Twitter', 'Mwanzo', ',', 'Atwoli', 'anatoka', 'magharibi', 'mwa', 'Kenya', 'ambapo', 'jamii', 'ya', 'Waluhya', 'ina', 'idadi', 'kubwa', 'ya', 'watu', 'na', 'wapiga', 'kura', 'ambao', 'akiweza', 'kuwashawishi', 'kuweka', 'kura', 'zao', 'katika', 'kapu', 'moja', 'zitampa', 'ushawishi', 'wa', 'kujadiliana', 'na', 'vigogo', 'wengine', 'wa', 'kisiasa', 'kutoka', 'jamii', 'nyingine', 'za', 'Kenya', '.', 'Atwoli', 'pia', 'ana', 'wafuasi', 'wake', 'wengi', 'hasa', 'miongoni', 'mwa', 'vyama', 'vya', 'wafanyakazi', 'na', 'mtandao', 'wake', 'wa', 'kimataifa', 'pia', 'unaweza', 'kumsaidia', 'sana', 'katika', 'kupata', 'raslimali', 'za', 'kufanya', 'kampeini', 'ya', 'kumrithi', 'rais', 'Uhuru', 'Kenyatta', '.', 'Chanzo', 'cha', 'picha', ',', 'Atwoli/twitter', 'Maelezo', 'ya', 'picha', ',', 'Francis', 'Atwoli', 'wa', 'tatu', 'kutoka', 'kulia', 'akiwa', 'amesimama', 'na', 'raila', 'Odinga', 'wanne', 'utoka', 'kulia', 'na', 'baadhi', 'ya', 'viongozi', 'wa', 'mlima', 'Kenya', 'Viongozi', 'wanaowaunga', 'mkono', 'rais', 'Uhuru', 'Kenyatta', 'na', 'kiongozi', 'wa', 'upinzani', 'Raila', 'Odinga', 'wamekuwa', 'wakionekana', 'kumtegmea', 'sana', 'Atwoli', 'kwa', 'mikutano', 'inayoandaliwa', 'kwake', ',', 'na', 'semi', 'zake', 'kuhusu', 'mwelekeo', 'wa', 'siasa', 'pia', 'zinaungwa', 'mkono', 'na', 'makundi', 'hayo', 'mawili', '.', 'Amenukuliwa', 'akisema', 'kwamba', 'hajui', 'ni', 'nani', 'atakayekuwa', 'rais', 'wa', 'Kenya', 'katika', 'uchaguzi', 'mkuu', 'ujao', 'lakini', 'anajua', 'kwamba', 'Naibu', 'wa', 'rais', 'William', 'Ruto', 'siye', 'atakayekuwa', 'rais', ',', 'usemi', 'ambao', 'umemfanya', 'kushambuliwa', 'vikali', 'na', 'washirika', 'wa', 'kisiasa', 'wa', 'Ruto', '.', 'Kinachomfanya', 'Atwoli', 'kuwa', 'katika', 'nafasi', 'nzuri', 'ya', 'kuweza', 'kutumiwa', 'kama', 'mgombeaji', 'wa', 'kushtukiza', 'katika', 'uchaguzi', 'mkuu', 'ujao', 'ni', 'kwamba', 'wagombeaji', 'wengine', 'wakuu', 'wana', 'madhaifu', 'yao', 'mbali', 'mbali', 'ambayo', 'yanawazuia', 'kujitokeza', 'kama', 'watu', 'wenye', 'uwezo', 'na', 'ushawishi', 'huru', 'wa', 'kuendesha', 'kampeini', 'za', 'kuchukua', 'usukani', 'wa', 'serikali', '.', 'Maelezo', 'ya', 'picha', ',', 'Baadhi', 'ya', 'nyadhifa', 'anazoshikilia', 'Francis', 'Atwoli', 'Atwoli', 'ni', 'nani', '?', 'Francis', 'Lumasayi', 'Atwoli', 'alizaliwa', 'miaka', '71', 'iliyopita', 'katika', 'kaunti', 'ya', 'Kakamega', 'na', 'ndiye', 'kiongozi', 'wa', 'muda', 'mrefu', 'zaidi', 'wa', 'muungano', 'wa', 'vyama', 'vya', 'wafanyikazi', 'nchini', 'Kenya', '.', 'Amekuwa', 'akihudumu', 'katika', 'nafasi', 'hiyo', 'tangu', 'mwaka', 'wa', '2001', 'na', 'uzoefu', 'wake', 'katika', 'masuala', 'ya', 'leba', 'na', 'siasa', 'za', 'Kenya', 'unamfanya', 'kuwa', 'miongoni', 'mwa', 'viongozi', 'wachache', 'wa', 'enzi', 'zake', 'kuwa', 'na', 'utajiri', 'wa', 'ufahamu', 'wa', 'mengi', 'kuhusiana', 'na', 'utawala', 'na', 'mwelekeo', 'wa', 'kisiasa', 'wa', 'Kenya', '.', 'Chanzo', 'cha', 'picha', ',', 'Atwoli/Twitter', 'Maelezo', 'ya', 'picha', ',', 'Francis', 'Atwoli', 'na', 'viongozi', 'wa', 'mkoa', 'wa', 'magharibi', 'nyumbani', 'kwake', 'Kajiado', 'Atwoli', 'ametambulika', 'kwa', 'kuwa', 'mtu', 'asiyeficha', 'kusema', 'lililo', 'moyoni', 'mwake', 'na', 'hili', 'limechukuliwa', 'kama', 'ujasiri', 'miongoni', 'mwa', 'wafuasi', 'wake', '.', 'Atwoli', 'pia', 'hatopata', 'tatizo', 'la', 'kuuzwa', 'ama', 'kutambulishwa', 'kwa', 'wakenya', 'endapo', 'atajipata', 'katika', 'debe', 'la', 'uchaguzi', 'kwani', 'semi', 'zake', 'na', 'kauli', 'zake', 'kuhusu', 'masuala', 'mbali', 'mbali', 'nchini', 'Kenya', 'kwa', 'miaka', 'mingi', 'zimejulikana', 'na', 'wengi', 'na', 'Sherehe', 'za', 'leba', 'nchini', 'Kenya', 'huwa', 'kama', 'siku', 'yake', 'ya', 'kupewa', 'ukumbi', 'wa', 'kuzungumza', 'na', 'umma', '.', 'Tangu', 'kuanza', 'kwa', 'siasa', 'za', 'urithi', 'wa', 'rais', 'Uhuru', 'Kenyatta', ',', 'Atwoli', 'amekuwa', 'kama', 'ghundi', 'inayowaleta', 'pamoja', 'viongozi', 'mbali', 'mbali', 'wa', 'kisiasa', 'ambao', 'wanapinga', 'ari', 'ya', 'Ruto', 'kuwa', 'rais', 'n', 'ahata', 'wakati', 'mmoja', 'aliwahi', 'kupendekeza', 'kwamba', 'rais', 'Kenyatta', 'azidishe', 'muda', 'wake', 'uongozini', 'kwani', 'alikuwa', 'na', 'umri', \"'mdogo\", \"'\", 'kustaafu', 'muda', 'wake', 'hatamuni', 'utakapokwisha', '.', 'Atwoli', 'pia', 'ana', 'bahati', 'kwamba', 'mirengo', 'miwili', 'muhimu', 'ya', 'kisiasa', 'inayowaunga', 'mkono', 'viongozi', 'wakuu', '-Rais', 'Uhuru', 'Kenyatta', 'na', 'Raila', 'Odinga', 'inampa', 'sikio', '.', 'Misururu', 'ya', 'mikutano', 'ambayo', 'makundi', 'hayo', 'yamekuwa', 'yakifanya', 'imekuwa', 'ikumhusisha', 'Atwoli', 'hatua', 'inayompa', 'nafasi', 'ya', 'kujua', 'n', 'ahata', 'kutoa', 'mwelekeo', 'mwenyewe', 'kuhusu', 'mambo', 'ya', 'siasa', '.', 'Chanzo', 'cha', 'picha', ',', 'Atwoli/Twitter', 'Maelezo', 'ya', 'picha', ',', 'Francis', 'Atwoli', 'na', 'rais', 'Uhuru', 'kenyatta', 'Ukakamavu', 'wake', 'pia', 'unaweza', 'kumsaidia', 'kuwapiga', 'kumbo', 'viongozi', 'wengine', 'hasa', 'kutoka', 'eneo', 'la', 'magharibi', 'walioonekana', 'hapo', 'mwanzoni', 'kama', 'ndio', 'vogogo', 'wa', 'jamii', 'hiyo', '.', 'Iwapo', 'Atwoli', 'atajipata', 'kama', 'mgombeaji', 'wa', 'kutumiwa', 'kama', 'mtu', 'wa', \"'wastani\", \"'\", 'katika', 'uchaguzi', 'mkuu', 'ujao', 'ama', 'kujithibitisha', 'kabisa', 'kama', 'muamuzi', 'wa', 'atakayechukua', 'hatamu', 'za', 'serikali', ',', 'jukumu', 'na', 'wajibu', 'wake', 'katika', 'siasa', 'za', 'kabla', 'ya', 'kuondoka', 'kwa', 'rais', 'Uhuru', 'haliwezi', 'kupuuzwa', '.', 'Francis', 'Atwoli', 'huenda', 'ndiye', 'chambo', 'cha', 'pembeni', 'kinachoweza', 'kubadilisha', 'kabisa', 'mwelekeo', 'wa', 'siasa', 'za', 'Kenya', 'mwaka', 'mmoja', 'kabla', 'ya', 'Kenya', 'kufanya', 'uchaguzi', 'wake', '.']\n",
      "\n",
      " Number of Words:  828\n"
     ]
    }
   ],
   "source": [
    "file=\"21march5_3.txt\"\n",
    "\n",
    "# calling the function and storing the contents in a text variable \n",
    "text = get_document(\"https://www.bbc.com/swahili/habari-56294807\")\n",
    "\n",
    "# calling the store_ document function \n",
    "store_document(doc=text,name=file)\n",
    "\n",
    "#add the words in this file to the total_corpus_words, to keep count of the number of words in the corpus\n",
    "total_corpus_words+=total_words(file)"
   ]
  },
  {
   "cell_type": "code",
   "execution_count": 38,
   "metadata": {},
   "outputs": [
    {
     "data": {
      "text/plain": [
       "406650"
      ]
     },
     "execution_count": 38,
     "metadata": {},
     "output_type": "execute_result"
    }
   ],
   "source": [
    "total_corpus_words"
   ]
  },
  {
   "cell_type": "code",
   "execution_count": 39,
   "metadata": {},
   "outputs": [
    {
     "name": "stdout",
     "output_type": "stream",
     "text": [
      "['Malindi', ':', 'Jinsi', 'mji', 'wa', 'pwani', 'ya', 'Kenya', 'ulivyobadilika', 'na', 'kuwa', \"'Italia\", 'ndogo', \"'\", '6', 'Machi', '2021', 'Chanzo', 'cha', 'picha', ',', 'I', 'Einashe', 'Maelezo', 'ya', 'picha', ',', 'Ufukwe', 'wa', 'bahari', 'mjini', 'malindi', 'Kenya', 'Katika', 'msururu', 'wa', 'barua', 'kutoka', 'kwa', 'waandishi', 'wa', 'Afrika', ',', 'Ismail', 'Einashe', 'anachukua', 'likizo', 'katika', 'pwani', 'ya', 'Kenya', ',', 'lakini', 'baadaye', 'anashangaa', 'iwapo', 'amesafiri', 'katika', 'taifa', 'jingine', '.', 'Malindi', ',', 'mji', 'wa', 'pwani', 'uliopo', 'kando', 'ya', 'bahari', 'Hindi', 'uliogunduliwa', 'katika', 'karne', 'ya', '13', ',', 'ukiwa', 'kilomita', '120', 'kaskazini', 'mashariki', 'mwa', 'Mombasa', 'na', 'umejulikana', 'kama', 'Itali', 'ndogo', 'tangu', 'miaka', 'ya', '60', '.', 'Mji', 'huo', 'wa', 'kitalii', 'ulio', 'na', 'migahawa', 'ya', 'Kitaliano', ',', 'chakula', 'na', 'maduka', '-', 'mabango', 'hutoa', 'matangazo', 'yao', 'kwa', 'lugha', 'ya', 'Kitaliano', ',', 'menu', 'za', 'migahawa', 'zinatoa', 'vinywaji', 'vya', 'baada', 'ya', 'chakula', 'kama', 'vile', 'Limenoncelllo', 'na', 'Amaro', '.', 'Wakaazi', 'wengi', 'wanazungumza', 'Kitaliano', '-', 'kutoka', 'mwenye', 'duka', 'katika', 'eneo', 'mahali', 'ambapo', 'nilikuwa', 'nikiishi', 'hadi', 'watoa', 'huduma', 'katika', 'migahawa', ',', 'madereva', 'wa', 'boda', 'boda', 'ambao', 'walinibeba', 'hadi', 'wauza', 'samaki', 'waliokuwa', 'katika', 'fukwe', 'za', 'bahari', '.', 'Ndio', 'Lugha', 'inayozungumzwa', 'katika', 'mji', 'huo', '.', 'Chanzo', 'cha', 'picha', ',', 'I', 'Einashe', 'Maelezo', 'ya', 'picha', ',', 'Duka', 'hili', 'la', 'jumla', 'lina', 'jibini', 'na', 'nyama', 'baridi', 'kutoka', 'Itali', 'Unapozunguka', 'katika', 'barabara', 'za', 'zamani', 'za', 'Waswahili', 'unasikia', 'sauti', 'ya', 'Kitaliano', '.', 'Duka', 'la', 'jumla', 'katikati', 'ya', 'mji', 'wa', 'Malindi', 'linaendeshwa', 'na', 'raia', 'wa', 'Kitaliano', 'na', 'limejaa', 'bidhaa', 'kutoka', 'nje', ',', 'ikiwemo', 'mivinyo', ',', 'na', 'pasta', ',', 'na', 'duka', 'hilo', 'lina', 'eneo', 'lenye', 'vinywaji', 'baridi', 'kama', 'vile', 'Parmigiano-Jibini', 'ya', 'Reggiano', ',', 'salami', 'na', 'nyama', 'za', 'Kitaliano', '.', 'Na', 'cha', 'kufurahisha', 'zaidi', 'ni', 'biskuti', 'zilizojazwa', 'krimu', '.', 'Kando', 'yao', 'ni', 'wanandoa', 'wawili', 'wa', 'Kitaliano', 'wakiwa', 'wamejipaka', 'mafuta', 'ya', 'kuzuia', 'ngozi', 'kuchomeka', 'katika', 'vitanda', 'vya', 'ufukweni', '.', 'Nililazimika', 'kununua', 'kinyawaji', 'ili', 'kuhakikisha', 'kuwa', 'nilikuwa', 'Malindi', 'na', 'siao', 'Palermo', 'au', 'Naples', '.', 'Nilihisi', 'kana', 'kwamba', 'ulikuwa', 'ufukwe', 'wa', 'bahari', 'ambao', 'nilikuwa', 'nimetembelea', 'nchini', 'Itali', '-', 'tofauti', 'ya', 'pekee', 'ilikuwa', 'joto', ',', 'minazi', 'na', 'chumvi', 'ya', 'bahari', 'Hindi', '.', 'Nilipojaribu', 'kujiliwaza', 'katika', 'kitanda', 'kimoja', 'cha', 'ufukweni', 'kilichokuwa', 'karibu', 'na', 'mnazi', ',', 'muhudumu', 'wa', 'mgahawa', 'huo', 'alikuja', 'na', 'kuniambia', 'kwamba', 'kitanda', 'hicho', 'kilikuwa', 'kimehifadhiwa', 'wanandoa', 'wa', 'Kitaliano', '.', 'Nilihisi', 'tofauti', 'kuwepo', 'pale', 'kama', 'mtalii', 'mweusi', 'Katika', 'mgahawa', 'mmoja', 'uliopo', 'mjini', 'humo', 'nililazimika', 'kuinua', 'mkono', 'wangu', 'mara', 'kadhaa', 'ili', 'kuonekana', 'na', 'hata', 'kwa', 'Wataliano', 'ambao', 'huwa', 'marafiki', 'sana', 'wakiwa', 'nyumbani', 'sikupata', 'makaribisho', 'mema', '.', 'Na', 'siasa', 'za', 'kibaguzi', 'zimejiingiza', 'Malindi', ',', 'huku', 'baadhi', 'ya', 'watu', 'wa', 'jamii', 'ya', 'Mijikenda', 'wakihisi', 'kwamba', 'raia', 'wa', 'Kitaliano', 'wanaruhusiwa', 'kufanya', 'lolote', 'kutokana', 'na', 'uwekezaji', 'wao', 'katika', 'mji', 'huo', '.', 'Kumekuwa', 'na', 'hasira', 'wakati', 'mwengine', 'kutokana', 'na', 'kile', 'ambacho', 'raia', 'hao', 'wa', 'Kitaliano', 'wanafanyiwa', ',', 'huku', 'wakazi', 'wengi', 'wakiamini', 'kwamba', 'baadhi', 'ya', 'raia', 'hao', 'wa', 'Kitaliano', 'hawachunguzwi', 'kutokana', 'na', 'uhalifu', 'wanaotekeleza', '.', 'Nafasi', 'na', 'Utalii', 'Historia', 'ya', 'wataliano', 'mjini', 'Malindi', 'inatokana', 'na', 'kituo', 'cha', 'Broglio', 'kilichokuwa', 'kikkendeshwa', 'na', 'Wataliano', 'katika', 'pwani', 'ya', 'kenya', '.', 'Wataliano', 'wa', 'kwanza', 'kuwasili', 'katika', 'mji', 'huo', 'walikuwa', 'wahandisi', 'na', 'wanasayansi', 'waliopenda', 'kile', 'walichopata', '.', 'Habari', 'baadaye', 'zilisambaa', 'kuhusu', 'fukwe', 'za', 'bahari', 'za', 'Malindi', 'na', 'chakula', 'chake', 'pamoja', 'na', 'wakaazi', 'wake', 'wakarimu', '.', 'Kufikia', '1970', 'jamii', 'hiyo', 'ilianza', 'kuishi', 'katika', 'eneo', 'hilo', 'na', 'kutafuta', 'nafasi', 'katika', 'sekta', 'ya', 'Utalii', '.', 'Walifungua', 'hoteli', ',', 'migahawa', ',', 'kujenga', 'nyumba', 'za', 'kitalii', 'na', 'kuwa', 'wawekezaji', 'wakubwa', 'wa', 'sekta', 'ya', 'Utalii', 'mjini', 'humo', '.']\n",
      "\n",
      " Number of Words:  538\n"
     ]
    }
   ],
   "source": [
    "file=\"21march6.txt\"\n",
    "\n",
    "# calling the function and storing the contents in a text variable \n",
    "text = get_document(\"https://www.bbc.com/swahili/habari-56304994\")\n",
    "\n",
    "# calling the store_ document function \n",
    "store_document(doc=text,name=file)\n",
    "\n",
    "#add the words in this file to the total_corpus_words, to keep count of the number of words in the corpus\n",
    "total_corpus_words+=total_words(file)"
   ]
  },
  {
   "cell_type": "code",
   "execution_count": 40,
   "metadata": {},
   "outputs": [
    {
     "data": {
      "text/plain": [
       "407188"
      ]
     },
     "execution_count": 40,
     "metadata": {},
     "output_type": "execute_result"
    }
   ],
   "source": [
    "total_corpus_words"
   ]
  },
  {
   "cell_type": "code",
   "execution_count": 41,
   "metadata": {},
   "outputs": [
    {
     "name": "stdout",
     "output_type": "stream",
     "text": [
      "['Waridi', 'wa', 'BBC', ':', \"'Nilimchukia\", 'mtoto', 'alipozaliwa', 'bila', 'kujua', 'sababu', \"'\", 'Suzzy', 'Kahema', 'aliishi', 'maisha', 'ya', 'kawaida', 'yenye', 'matumaini', 'tele', 'akiwa', 'mdogo', ',', 'lakini', 'katika', 'ujana', 'wake', 'alipitia', 'matukio', 'ambayo', 'karibu', 'yasambaratishe', 'maisha', 'yake', '.', 'Mwaka', '1996', ',', 'akiwa', 'na', 'miaka', '22', 'alishika', 'mimba', 'ila', 'kwa', 'kuwa', 'hakuwa', 'kwenye', 'ndoa', 'alihisi', 'kana', 'kwamba', 'alikuwa', 'ametenda', 'dhambi', 'kuu', '.', 'Aidha', ',', 'aliona', 'aibu', 'machoni', 'mwa', 'watu', '.', 'Wakati', 'huo', 'hakuelewa', 'ni', 'kwanini', 'alihisi', 'hivyo', 'ila', 'ilikuwa', 'ndio', 'mwanzo', 'wa', 'safari', 'ndefu', 'kama', 'mzazi', '.', 'Aliathiriwa', 'na', 'tatizo', 'la', 'sonona', ',', 'lakini', 'anashukuru', 'kwamba', 'mwishowe', 'alipata', 'msaada', 'na', 'kufanikiwa', 'kujinasua', '.', '``', 'Nilihisi', 'kana', 'kwamba', 'nisingeendelea', 'kuishi', 'katika', 'mazingira', 'ya', 'nyumbani', 'kwetu', 'kwani', 'nilijiona', 'kama', 'mwanamke', 'aliyetenda', 'dhambi', 'kuu', 'kwa', 'kushika', 'mimba', 'kwa', 'umri', 'niliokuwa', 'nao', ',', \"''\", 'anasema', '.', '``', 'Kwa', 'bahati', 'nzuri', ',', 'mtu', 'aliyenipa', 'ujauzito', 'alikuwa', 'amekubali', 'kuwajibika', 'na', 'kwa', 'hivyo', 'tulikubaliana', 'kuwa', 'ingelikuwa', 'busara', 'mimi', 'kusafiri', 'hadi', 'nyumbani', 'kwao', 'kuishi', 'kule', '.', \"''\", 'Kwa', 'hiyo', 'ilibidi', 'mwanamke', 'huyu', 'kusafiri', 'hadi', 'mjini', 'Mombasa', 'ili', 'kuishi', 'na', 'wakwe', 'zake', '.', 'Hata', 'hivyo', ',', 'kinyume', 'na', 'alivyotarajia', ',', 'anasema', 'hakukaribishwa', 'kama', 'mke', '.', 'Alihisi', 'alikuwa', 'anabaguliwa', 'kwa', 'misingi', 'ya', 'kikabila', 'na', 'asili', 'yake', '.', 'Kwa', 'hiyo', 'kwa', 'kipindi', 'cha', 'ujauzito', 'wake', 'alipitia', 'changamoto', 'za', 'kukosa', 'uhusiano', 'wa', 'ukaribu', 'na', 'wale', 'mashemeji', 'wake', '.', 'Siku', 'ziliendelea', 'kusonga', 'na', 'hatimaye', 'wakati', 'wa', 'kujifungua', 'ukawadia', '.', 'Kujaliwa', 'mtoto', 'bila', 'hisia', 'Chanzo', 'cha', 'picha', ',', 'Suzzy', 'Kahema', 'Alijaliwa', 'mtoto', 'wa', 'kiume', 'lakini', 'badala', 'ya', 'mwanamke', 'huyu', 'kujawa', 'na', 'msisimko', 'na', 'furaha', 'inayoandamana', 'na', 'kujifungua', ',', 'yeye', 'alikuwa', 'ana', 'huzuni', 'iliyopita', 'kiasi', '.', '``', 'Nakumbuka', 'nikimtazama', 'mtoto', 'wangu', 'wakati', 'amezaliwa', 'na', 'nikawa', 'kama', 'niliyeshutuka', 'nisijue', 'la', 'kufanya', '.', 'Nilijiuliza', 'moyoni', 'kama', 'mimi', 'ndiye', 'nitakayekuwa', 'na', 'majukumu', 'ya', 'kumpakata', 'na', 'kumyonyesha', '.', 'Mambo', 'hayo', 'niliyaona', 'kama', 'mzigo', 'mkubwa', 'ambao', 'nilihisi', 'nisingeuweza', ',', \"''\", 'anakumbuka', 'Susan', '.', 'Baada', 'ya', 'siku', 'kadhaa', 'waliondoka', 'hospitalini', 'na', 'kurejea', 'nyumbani', 'kwa', 'baba', 'yake', 'mtoto', '.', 'Anasema', 'alishangaa', 'kuwakuta', 'shemeji', 'zake', 'wakiwa', 'na', 'msisimko', 'na', 'furaha', 'kinyume', 'na', 'hali', 'ilivyokuwa', 'hapo', 'awali', '.', 'Walifurahi', 'hata', 'zaidi', 'kufahamu', 'kuwa', 'yule', 'mtoto', 'alikuwa', 'wa', 'kiume', '.', 'Ila', 'kwa', 'mwanadada', 'huyu', 'hakuwa', 'na', 'mapenzi', 'kabisa', 'kwa', 'mtoto', 'wake', '.', 'Licha', 'ya', 'kuwa', 'angemnyonyesha', 'na', 'pia', 'kuhakikisha', 'alimtosheleza', 'mahitaji', 'yake', 'yote', ',', 'alikuwa', 'hana', 'hisia', 'za', 'mapenzi', 'naye', '.', 'Kwa', 'kiasi', 'kuwa', 'hata', 'baba', 'ya', 'mtoto', 'aliwahi', 'kumuuliza', 'ni', 'kwanini', 'Suzzy', 'hakuwa', 'na', 'msisimko', 'wa', 'mwanamke', 'aliyejifungua', 'mtoto', '.', '``', 'Kwa', 'kawaida', 'ya', 'wanawake', 'waliojifungua', 'utapata', 'kuwa', 'wanatabasamu', 'na', 'kuchezacheza', 'na', 'watoto', 'wao', 'wachanga', 'kama', 'njia', 'ya', 'kuhakikisha', 'kuwa', 'uhusiano', 'kati', 'ya', 'mama', 'na', 'mtoto', 'umejengeka', 'ila', 'kwangu', 'ilikuwa', 'tofauti', ',', 'nilikosa', 'ukaribu', 'au', 'hamu', 'ya', 'hata', 'kumbusu', 'yule', 'mtoto', ',', \"''\", 'anakumbuka', 'Suzzy', '.', 'Miaka', 'ilisonga', 'kwa', 'haraka', 'na', 'mtoto', 'wake', 'alipotimiza', 'miaka', 'miwili', 'alianza', 'kuwa', 'na', 'ugonjwa', 'ambao', 'ulichangia', 'yeye', 'kuwa', 'hospitalini', 'mara', 'kwa', 'mara', '.', 'Ugonjwa', 'huo', 'ulianza', 'kuwa', 'chanzo', 'cha', 'mama', 'kumsogelea', 'mtoto', 'wake', 'kihisia', 'na', 'kibinadamu', 'kinyume', 'na', 'hapo', 'awali', '.', '``', 'Nakumbuka', 'kuwa', 'ugonjwa', 'wa', 'mwana', 'wangu', 'kwa', 'jina', 'Babu', 'Magwaro', 'ulianza', 'kunileta', 'karibu', 'na', 'yeye', 'mno', '.', 'Ni', 'mimi', 'tu', 'niliyekuwa', 'nampa', 'huduma', ',', 'na', 'kuhakikisha', 'kuwa', 'anapata', 'matibabu', 'pamoja', 'na', 'dawa', 'zilizohitajika', ',', \"''\", 'anasema', 'Suzzy', '.', 'Pigo', 'la', 'kupoteza', 'mtoto', 'Ila', 'alipotimiza', 'miaka', 'saba', 'mwanawe', 'aliaga', 'dunia', '.', 'Suzzy', 'alipatwa', 'na', 'mshtuko', 'mkuu', 'na', 'kujawa', 'na', 'huzuni', 'ambayo', 'hakuwa', 'anaielewa', '.', 'Alishikwa', 'na', 'sonona', 'na', 'wakati', 'huo', 'ukawa', 'wa', 'kiza', 'kikuu', '.', '``', 'Nakumbuka', 'huo', 'ulikuwa', 'wakati', 'wa', 'huzuni', 'kuu', 'kwangu', '.', 'Nilikuwa', 'najifungia', 'chumbani', 'mwangu', 'mchana', 'kutwa', 'nikiwa', 'nimefunga', 'pazia', 'na', 'kutamani', 'tu', 'kuishi', 'bila', 'kuzungumza', 'na', 'yeyote', '.', 'Niliwazia', 'tu', 'mwanangu', 'niliyempoteza', ',', 'nisijue', 'wa', 'kumgeukia', ',', \"''\", 'Suzzy', 'anakumbuka', '.', 'Marehemu', 'Babu', 'ndiye', 'aliyekuwa', 'mtoto', 'wa', 'kipekee', 'wake', 'Susan', ',', 'kwani', 'anasema', 'kuwa', 'miaka', 'kadhaa', 'baadaye', 'alifunuliwa', 'na', 'wataalam', 'wa', 'afya', 'ya', 'uzazi', 'kuwa', 'ana', 'changamoto', 'ya', 'kizazi', 'na', 'kwa', 'hivyo', 'ni', 'vigumu', 'kwake', 'kujaliwa', 'mtoto', 'mwingine', '.', 'Miaka', 'mwili', 'baada', 'ya', 'mwanawe', 'kuaga', 'dunia', ',', 'Suzzy', 'naye', 'alishikwa', 'na', 'ugonjwa', 'ambao', 'uliathiri', 'mwili', 'wake', '.', 'Kujinusuru', 'Matibabu', 'yake', 'yalihusu', 'Suzzy', 'kuzungumza', 'na', 'mwanasaikolojia', 'kuhusiana', 'na', 'mambo', 'yaliyokuwa', 'yanamsumbua', 'akilini', 'mwake', 'hasa', 'kifo', 'cha', 'mwanawe', 'na', 'kuachwa', 'na', 'mumewe', '.', '``', 'Nilikuwa', 'nimeficha', 'sana', 'uchungu', 'wa', 'kumpoteza', 'mwana', 'wangu', ',', 'na', 'vile', 'vile', 'nilikuwa', 'nimeficha', 'mno', 'siri', 'za', 'misukosuko', 'ya', 'ndoa', 'yangu', ',', \"''\", 'anasema', '.', '``', 'Mwanzoni', ',', 'ndoa', 'yetu', 'ilikuwa', 'shwari', 'ila', 'miaka', 'iliyofuata', 'kulikuwa', 'na', 'vitimbi', 'ambavyo', 'sikuwa', 'na', 'ujasiri', 'wa', 'kuvizungumzia', 'na', 'yeyote', '.', 'Naamini', 'ni', 'mambo', 'haya', 'ambayo', 'yalikuwa', 'chanzo', 'cha', 'mimi', 'kuwa', 'na', 'sonona', ',', \"''\", 'Susana', 'anakumbuka', '.', 'Kwa', 'hatua', 'za', 'kila', 'siku', 'za', 'kuanza', 'kuachilia', 'machungu', 'mengi', 'katika', 'maisha', 'yake', ',', 'pamoja', 'na', 'kuwasamehe', 'watu', ',', 'alianza', 'uponyaji', 'wa', 'hisia', 'na', 'kwenye', 'akili', 'yake', 'kwanza', '.', 'Susan', 'alipata', 'mwanga', 'mpya', 'kutokana', 'na', 'matatizo', 'aliyoyapitia', ',', 'na', 'akaamua', 'kusomea', 'taaluma', 'ya', 'uanasaikolojia', 'kuanzia', 'cheti', 'cha', 'msingi', ',', 'stashahada', 'na', 'mwishowe', 'akasomea', 'shahada', 'ya', 'uzamivu', '.', 'Chanzo', 'cha', 'picha', ',', 'Suzzy', 'Kahema', 'Ana', 'mpango', 'wa', 'kuendeleza', 'na', 'masomo', 'yake', 'na', 'kuwa', 'profesa', ',', 'haya', 'yote', 'yakilenga', 'kusaidia', 'watu', 'ambao', 'hupitia', 'msongo', 'wa', 'mawazo', ',', 'au', 'hata', 'wanaopitia', 'magumu', 'na', 'hawajui', 'wafanyeje', '.']\n",
      "\n",
      " Number of Words:  833\n"
     ]
    }
   ],
   "source": [
    "file=\"21march10.txt\"\n",
    "\n",
    "# calling the function and storing the contents in a text variable \n",
    "text = get_document(\"https://www.bbc.com/swahili/56337348\")\n",
    "\n",
    "# calling the store_ document function \n",
    "store_document(doc=text,name=file)\n",
    "\n",
    "#add the words in this file to the total_corpus_words, to keep count of the number of words in the corpus\n",
    "total_corpus_words+=total_words(file)"
   ]
  },
  {
   "cell_type": "code",
   "execution_count": 42,
   "metadata": {},
   "outputs": [
    {
     "data": {
      "text/plain": [
       "408021"
      ]
     },
     "execution_count": 42,
     "metadata": {},
     "output_type": "execute_result"
    }
   ],
   "source": [
    "total_corpus_words"
   ]
  },
  {
   "cell_type": "code",
   "execution_count": 43,
   "metadata": {},
   "outputs": [
    {
     "name": "stdout",
     "output_type": "stream",
     "text": [
      "['Mchekeshaji', 'Eric', 'Omondi', 'akamatwa', 'Kenya', 'Afisa', 'Mkuu', 'Mtendaji', 'wa', 'Bodi', 'ya', 'Ukaguzi', 'Filamu', 'nchini', 'Kenya', '(', 'KFCB', ')', ',', 'Dkt', 'Ezekiel', 'Mutua', ',', 'ametangaza', 'kwamba', 'mchekeshaji', 'Eric', 'Omondi', ',', 'amekamatwa', 'kwa', 'kukiuka', 'kanuni', 'ya', 'maadili', 'ya', 'bodi', 'hiyo', '.', \"''Maafisa\", 'wa', 'Ufuatiliaji', 'wa', 'Bodi', 'ya', 'Uainishaji', 'wa', 'Filamu', 'Kenya', 'wakishirikiana', 'na', 'Maafisa', 'wa', 'Polisi', 'kutoka', 'Kurugenzi', 'ya', 'Upelelezi', 'wa', 'Makosa', 'ya', 'Jinai', '(', 'DCI', ')', 'leo', 'mchana', 'wamemkamata', 'Eric', 'Omondi', 'kwa', 'kukiuka', 'masharti', 'ya', 'Sheria', 'ya', 'Filamu', 'na', 'Maonyesho', 'ya', 'Sura', '222', 'ya', 'Sheria', 'za', 'Kenya', 'kwa', 'kutengeneza', 'na', 'kusambaza', 'filamu', 'ambayo', 'haijaidhinishwa', 'kwa', 'jina', '``', 'Wife', 'Material', '.', '``', ',', 'taarifa', 'ya', 'Dkt', '.', 'Mutua', 'ilisema', '.', 'Kama', 'hatua', 'ya', 'kutia', 'mkazo', 'tangazo', 'hilo', 'Dkt', '.', 'Mutua', 'pia', 'ameweka', 'tangazo', 'hilo', 'katika', 'Twitter', 'yake', '.', 'Kenya', 'yakabiliwa', 'na', \"'wimbi\", 'la', 'tatu', 'la', 'corona', \"'\", ',', 'viwango', 'vya', 'maambukizi', 'kuongezeka', 'AFPCopyright', ':', 'AFP', 'Siku', 'ya', 'Jumatano', ',', 'Kenya', 'ilithibitisha', 'idadi', 'kubwa', 'ya', 'watu', 'walioambukizwa', 'corona', 'mwaka', 'huuImage', 'caption', ':', 'Siku', 'ya', 'Jumatano', ',', 'Kenya', 'ilithibitisha', 'idadi', 'kubwa', 'ya', 'watu', 'walioambukizwa', 'corona', 'mwaka', 'huu', 'Waziri', 'wa', 'Afya', 'wa', 'Kenya', ',', 'Mutahi', 'Kagwe', ',', 'ametangaza', 'kwamba', 'nchi', 'hiyo', 'inakabiliwa', 'na', 'wimbi', 'la', 'tatu', 'la', 'maambukizi', 'ya', 'ugonjwa', 'wa', 'Covid-19', '.', 'Siku', 'ya', 'Jumatano', ',', 'nchi', 'hiyo', 'iliandikisha', 'idadi', 'kubwa', 'ya', 'watu', 'walioambukizwa', 'virusi', 'vya', 'corona', 'kwa', 'siku', 'baada', 'ya', 'watu', '713', 'kuthibitishwa', 'kuwa', 'na', 'virusi', 'vya', 'ugonjwa', 'huo', '.', 'Wizara', 'ya', 'Afya', 'pia', 'imeripoti', 'ongezeko', 'la', 'wagonjwa', 'wa', 'Covid-19', 'walio', 'katika', 'mashine', 'ya', 'kuwasaidia', 'kupumua', 'katika', 'huspitali', 'tofauti', 'tofauti', '.', '``', 'Tunakaribia', 'kuingia', 'kipindi', 'kingine', 'kigumu', ',', 'lakini', 'tutavuka', 'salama', '.', 'Tushawahi', 'kujipata', 'katika', 'hali', 'hii', 'mwaka', 'uliopita', ',', 'na', 'wakati', 'huu', 'tunachohitaji', 'kufanya', 'ni', 'kutolegeza', 'juhudi', 'za', 'kupambana', 'na', 'ugonjwa', 'huu', \"''\", ',', 'alisema', 'Bw', '.', 'Kagwe', '.', 'Waziri', 'huyo', 'wa', 'afya', 'na', 'maafisa', 'wengine', 'wametangaza', 'kwamba', 'watajadiliana', 'ikiwa', 'wataongeza', 'au', 'kupunguza', 'juhudi', 'za', 'kukabiliana', 'na', 'kuenea', 'kwa', 'virusi', 'vya', 'corona', '.', 'Rais', 'Uhuru', 'Kenyatta', 'anatarajiwa', 'kuhutubia', 'taifa', 'kuhusu', 'mwenendo', 'wa', 'Covid-19', 'na', 'hatua', 'za', 'kukabiliana', 'ugonjwa', 'huo', 'siku', 'ya', 'Ijumaa', '.', 'Mtuhumiwa', 'alionewa', 'huruma', 'na', 'Jaji', 'kwa', 'kuvumilia', 'mateso', 'na', 'kumhukumu', 'kifungo', 'cha', 'siku', 'moja', 'ambacho', 'hakikujumuisha', 'kuzuiliwa', 'ndani', '.', 'Aidha', 'Jaji', 'Aburili', 'aliagiza', 'idara', 'ya', 'mahakama', 'kuhakikisha', 'Bi', 'Truphena', 'amepewa', 'usafiri', 'wa', 'kwenda', 'hadi', 'nyumbani', 'kwake', 'Ukwala', 'katika', 'Kaunti', 'ya', 'Siaya', 'Magharibi', 'mwa', 'Kenya', '.', 'Ni', 'nini', 'kilitokea', '?', 'Bi', 'Truphena', 'aliye', 'na', 'umri', 'wa', 'miaka', '49', 'aliifahamisha', 'mahakama', 'kwamba', 'alivumilia', 'mateso', 'katika', 'ndoa', 'yake', 'ili', 'kumtunza', 'mwanawe', 'wa', 'kiume', 'na', 'watoto', 'wengine', 'wanne', 'walioachwa', 'na', 'mama', 'zao', '(', 'wake', 'wa', 'awali', ')', 'wa', 'Bw', '.', 'James', 'Oyengo', 'Obochi', '.', 'Marekani', 'yasema', \"'mauaji\", 'ya', 'kikabila', \"'\", 'yalifanyika', 'Tigray', 'Waziri', 'wa', 'Mambo', 'ya', 'Nje', 'wa', 'Marekani', ',', 'Antony', 'Blinken', ',', 'amesema', 'watu', 'katika', 'jimbo', 'la', 'Tigray', 'kaskazini', 'mwa', 'Ethiopia', 'wanakabiliwa', 'na', 'kile', 'alichotaja', 'kuwa', 'mauaji', 'ya', 'kikabila', '.', 'Akitoa', 'ushahidi', 'mbele', 'ya', 'kamati', 'ya', 'bunge', ',', 'alitoa', 'wito', 'kwa', 'serikali', 'ya', 'Ethiopia', 'komesha', 'hali', 'hiyo', 'na', 'kukomesha', 'ukiukwaji', 'wa', 'haki', 'za', 'binadamu', 'katika', 'eneo', 'hilo', '.', 'Bw', '.', 'Blinken', 'amesema', 'wanajeshi', 'wa', 'Eritrea', 'na', 'wanamgambo', 'wa', 'Ethiopia', 'lazima', 'waondoke', 'Tigray', '.', '``', 'Kama', 'mnavyojua', ',', 'tuna', 'vikosi', 'kutoka', 'Eritrea', 'katika', 'eneo', 'hilo', 'na', 'hali', 'kadhalika', 'vikosi', 'vya', 'wapiganaji', 'kutoka', 'jimbo', 'jirani', 'la', 'Amhara', '.', 'Wanahitaji', 'kuondoka', 'ili', 'kikosi', 'ambacho', 'hakitakiuka', 'haki', 'za', 'binadamu', 'za', 'watu', 'wa', 'Tigray', 'au', 'kutekeleza', 'visa', 'vyamauaji', 'kupelekwa', 'huko', ',', 'yale', 'tuliyoona', 'magharibi', 'mwa', 'Tigray', ',', 'lazima', 'yakomeshwe', ',', \"''\", 'alisema', '.', 'Marekani', 'yaorodhesha', 'waasi', 'wa', 'Msumbiji', 'na', 'DR', 'Congo', 'kuwa', 'magaidi', 'Zaidi', 'ya', 'raia', 'elfu', 'moja', 'wameuawa', 'katika', 'mashambulio', 'ya', 'wanamgambo', 'wa', 'Kiislam', 'MsumbijiImage', 'caption', ':', 'Zaidi', 'ya', 'raia', 'elfu', 'moja', 'wameuawa', 'katika', 'mashambulio', 'ya', 'wanamgambo', 'wa', 'Kiislam', 'Msumbiji', 'Marekani', 'imeorodhesha', 'makundi', 'ya', 'waasi', 'nchini', 'Jamhuri', 'ya', 'Kidemokrasia', 'ya', 'Congo', 'na', 'Msumbiji', 'kama', 'magaidi', 'wa', 'kigeni', '.', 'Makundi', 'ya', 'waasi', 'ya', 'Allied', 'Democratic', 'Forces', '(', 'ADF', ')', 'na', 'Al', 'Ansar', 'al-Sunna', ',', 'ambayo', 'nyumbani', 'yanajulikani', 'al-Shabaab', 'nchini', 'Msumbiji', ',', 'yanafungamana', 'na', 'kundi', 'la', 'kigaidi', 'la', 'kimataifa', 'Islamic', 'State', '(', 'ISIS', ')', '.', 'Viongozi', 'wao', 'wametajwa', 'kuwa', '``', 'magaidi', 'maalum', 'duniani', \"''\", '.', 'Wanakabiliwa', 'na', 'vikwazo', 'kutokana', 'na', 'hatua', 'hiyo', '.', 'Getty', 'ImagesCopyright', ':', 'Getty', 'Images', 'Baadhi', 'ya', 'makundi', 'ya', 'waasi', 'nchini', 'DR', '-Congo', 'ambayo', 'yanafadhiliwa', 'ama', 'kupambana', 'za', 'serikali', 'za', 'nchi', 'jiraniImage', 'caption', ':', 'Baadhi', 'ya', 'makundi', 'ya', 'waasi', 'nchini', 'DR', '-Congo', 'ambayo', 'yanafadhiliwa', 'ama', 'kupambana', 'za', 'serikali', 'za', 'nchi', 'jirani', 'ADF', 'ni', 'mojawapo', 'ya', 'makundi', 'kadhaa', 'ya', 'waasi', 'yanayohudumu', 'mashariki', 'mwa', 'DRC', ',', 'eneo', 'lililo', 'na', 'utajiri', 'wa', 'madini', 'ambako', 'vikosi', 'vya', 'serikali', 'na', 'vile', 'vya', 'Umoja', 'wa', 'Mataifa', 'vimekuwa', 'vikikabiliana', 'na', 'wa', 'waasi', 'kwa', 'muda', 'mrefu', 'kudumisha', 'usalama', '.', 'Raila', 'Odinga', ':', \"'Nahisi\", 'vizuri', 'sasa', 'na', 'nafuata', 'ushauri', 'wa', 'madaktari', \"'\", 'Kiongozi', 'wa', 'upinzani', 'nchini', 'Kenya', 'Raila', 'Odinga', ',', 'amesema', 'hali', 'yake', 'ni', 'nzuri', 'na', 'anafuata', 'ushauri', 'wa', 'madaktari', 'kwa', 'kupumzika', '.', 'Odinga', 'alifanyiwa', 'uchunguzi', 'wa', 'kawaida', 'wa', 'kimatibabu', 'katika', 'Nairobi', 'Hospital', 'siku', 'ya', 'Jumanne', 'hatua', 'iliyozua', 'hofu', 'kuhusu', 'hali', 'yake', 'ya', 'afya', '.', 'Madaktari', 'wake', 'wakiongozwa', 'na', 'daktari', 'wake', 'wa', 'kibinafsi', ',', 'Dk', 'David', 'Olunya', ',', 'walisema', 'Waziri', 'Mkuu', 'huyo', 'wa', 'zamani', 'alikuwa', 'ameshauriwa', 'kupumzika', 'baada', 'ya', 'kuhisi', 'amechoka', '.', '``', 'Raila', 'alienda', 'kufanyiwaa', 'uchunguzi', 'wa', 'kawaida', 'wa', 'matibabu', 'katika', 'Hospitali', 'ya', 'Nairobi', 'mnamo', 'Machi', '9', 'baada', 'ya', 'kuhisi', 'uchovu', '.', 'Amekuwa', 'na', 'kampeni', 'kali', 'na', 'alihitaji', 'kufanyiwa', 'uchunguzi', '.', 'Hii', 'ilifanyika', 'kwa', 'mafanikio', ',', '’', 'amesema', 'Dk', 'Olunya', ',', 'mtaalamu', 'wa', 'upasuaji', 'wa', 'neva', '.', 'Odinga', 'baadaye', 'alitumia', 'mtandao', 'wakijamii', 'wa', 'twitter', 'kuwashukuru', 'wote', 'waliomtakia', 'afuei', 'ya', 'haraka', 'na', 'akiwahakikishia', 'kwamba', 'hali', 'yake', 'ni', 'nzuri', '.', 'Mahakama', 'ya', 'Malyasia', 'imebadilisha', 'sera', 'inayopiga', 'marufuku', 'watu', 'wa', 'dini', 'ya', 'Kikristo', 'kutumia', 'jina', \"'Allah\", \"'\", 'kumaanisha', 'Mungu', ',', 'ikiwa', 'ni', 'hatua', 'ya', 'hivi', 'karibuni', 'katika', 'miongo', 'kadhaa', 'iliokumbwa', 'na', 'mzozo', 'wa', 'kisheria', 'kuhusu', 'jina', 'hilo', '.']\n",
      "\n",
      " Number of Words:  932\n"
     ]
    }
   ],
   "source": [
    "file=\"21march11_1.txt\"\n",
    "\n",
    "# calling the function and storing the contents in a text variable \n",
    "text = get_document(\"https://www.bbc.com/swahili/live/habari-56357041\")\n",
    "\n",
    "# calling the store_ document function \n",
    "store_document(doc=text,name=file)\n",
    "\n",
    "#add the words in this file to the total_corpus_words, to keep count of the number of words in the corpus\n",
    "total_corpus_words+=total_words(file)"
   ]
  },
  {
   "cell_type": "code",
   "execution_count": 44,
   "metadata": {},
   "outputs": [
    {
     "data": {
      "text/plain": [
       "408953"
      ]
     },
     "execution_count": 44,
     "metadata": {},
     "output_type": "execute_result"
    }
   ],
   "source": [
    "total_corpus_words"
   ]
  },
  {
   "cell_type": "code",
   "execution_count": 45,
   "metadata": {},
   "outputs": [
    {
     "name": "stdout",
     "output_type": "stream",
     "text": [
      "['Aliyekuwa', 'waziri', 'mkuu', 'wa', 'Kenya', 'Raila', 'Odinga', 'akutwa', 'na', 'virusi', 'vya', 'corona', '11', 'Machi', '2021', 'Imeboreshwa', '12', 'Machi', '2021', 'Chanzo', 'cha', 'picha', ',', 'Reuters', 'Maelezo', 'ya', 'picha', ',', 'Aliykuwa', 'waziri', 'mkuu', 'nchini', 'Kenya', 'Raila', 'Odinga', 'Kiongozi', 'wa', 'chama', 'cha', 'ODM', 'nchini', 'Kenya', 'Raila', 'Odinga', 'amesema', 'Alhamisi', 'kwamba', 'amekutwa', 'na', 'virusi', 'vya', 'Corona', 'licha', 'ya', 'kuwa', 'anajihisi', 'yuko', 'sawa', 'na', 'mwenye', 'nguvu', '.', 'Raila', 'mwenye', 'umri', 'wa', 'miaka', '76', 'alifanyiwa', 'msururu', 'wa', 'vipimo', 'katika', 'hospitali', 'ya', 'Nairobi', 'Hospital', 'siku', 'ya', 'Jumanne', 'baada', 'ya', 'kulalamika', 'kwamba', 'ana', 'uchovu', 'aliporejea', 'Nairobi', 'kutoka', 'kampeini', 'za', 'siku', 'tano', 'katika', 'eneo', 'laPwani', 'kufanyia', 'kampeni', 'ripoti', 'ya', 'BBI', '.', '``', 'Ingawaje', 'vipimo', 'vilikuwa', 'vingi', ',', 'matokeo', 'ya', 'uchunguzi', 'mmoja', 'muhimu', 'yamekuwa', 'wazi', 'na', 'nimewaruhusu', 'madaktari', 'wangu', 'kutangaza', 'kwa', 'umma', 'kwamba', 'nina', 'virusi', 'vya', 'Covid', '19', \"'\", 'amesema', 'waziri', 'huyo', 'mkuu', 'wa', 'zamani', '.', 'Kenya', 'siku', 'ya', 'Jumatano', 'ilirekodi', 'idadi', 'kubwa', 'ya', 'maambukizi', 'ya', 'corona', 'tangu', 'mwaka', 'jana', ',', 'kulingana', 'na', 'waziri', 'wa', 'afya', 'nchini', 'humo', '.', 'Kwa', 'sasa', 'taifa', 'hilo', 'lipo', 'katika', 'wimbi', 'la', 'tatu', 'la', 'mlipuko', 'wa', 'virusi', 'hivyo', ',', 'huku', 'watu', '713', 'wakiripotiwa', 'kukutwa', 'na', 'virusi', 'hivyo', 'katika', 'kipindi', 'cha', 'saa', '24', 'zilizopita', 'kati', 'ya', 'sampuli', '5230', 'zilizopimwa', ',', 'alisema', 'Mutahi', 'Kagwe', 'akiongezea', 'kwamba', 'idadi', 'hiyo', 'mpya', 'inatisha', '.', 'Maelezo', 'ya', 'picha', ',', 'Barua', 'ya', 'daktari', 'wa', 'Raila', 'Odinga', 'Waziri', 'huyo', 'wa', 'afya', 'pia', 'ametangaza', 'kwamba', 'pamoja', 'na', 'baraza', 'la', 'magavana', 'na', 'maafisa', 'wengine', 'wanajadiliana', 'Iwapo', 'wanafaa', 'kuzidisha', 'mikakati', 'na', 'masharti', 'ya', 'kuzuia', 'usambaaji', 'wa', 'virusi', 'hivyo', '.Mikakati', 'hiyo', 'itatangazwa', 'na', 'rais', 'Uhuru', 'Kenyatta', 'siku', 'ya', 'Ijumaa', '.', 'Wizara', 'hiyo', 'pia', 'imetangaza', 'ongezeko', 'la', 'wagonjwa', 'wanaosaidiwa', 'kupumua', 'kutumia', 'mashine', 'ambao', 'wana', 'virusi', 'vya', 'Corona', '.', 'Kiongozi', 'huyo', 'wa', 'ODM', ',', 'ambaye', 'anadaiwa', 'kutohudhuria', 'sherehe', 'ya', 'kuadhimisha', 'mwaka', 'wa', 'tatu', 'tangu', 'makubaliano', 'ya', 'handshake', 'yaliofanyika', 'Machi', '9', '2018', 'na', 'rais', 'Uhuru', 'Kenyatta', 'baada', 'ya', 'kuugua', ',', 'ndiye', 'kiongozi', 'wa', 'ngazi', 'za', 'juu', 'nchini', 'kukutwa', 'na', 'virusi', 'hivyo', '.', 'Akizungumza', 'mbele', 'ya', 'kamati', 'ya', 'afya', 'bungeni', 'siku', 'ya', 'Jumatano', ',', 'katibu', 'wa', 'kudumu', 'katika', 'wizara', 'ya', 'afya', 'Mercy', 'Mwangangi', 'alisema', 'kwamba', 'vitanda', 'vyote', 'vya', 'vyumba', 'vya', 'wagonjwa', 'mahututi', 'ICU', 'vimejaa', 'mjini', 'Nairobi', '.', \"''Tunaona\", 'idadi', 'ya', 'watu', 'wanaolazwa', 'inaongezeka', '.', 'Kufikia', 'jana', 'vyumba', 'vyote', 'vya', 'ICU', 'vilikuwa', 'vimejaa', \"''\", ',', 'alisema', '.']\n",
      "\n",
      " Number of Words:  365\n"
     ]
    }
   ],
   "source": [
    "file=\"21march11_2.txt\"\n",
    "\n",
    "# calling the function and storing the contents in a text variable \n",
    "text = get_document(\"https://www.bbc.com/swahili/habari-56367812\")\n",
    "\n",
    "# calling the store_ document function \n",
    "store_document(doc=text,name=file)\n",
    "\n",
    "#add the words in this file to the total_corpus_words, to keep count of the number of words in the corpus\n",
    "total_corpus_words+=total_words(file)"
   ]
  },
  {
   "cell_type": "code",
   "execution_count": 46,
   "metadata": {},
   "outputs": [
    {
     "data": {
      "text/plain": [
       "409318"
      ]
     },
     "execution_count": 46,
     "metadata": {},
     "output_type": "execute_result"
    }
   ],
   "source": [
    "total_corpus_words"
   ]
  },
  {
   "cell_type": "code",
   "execution_count": 47,
   "metadata": {},
   "outputs": [
    {
     "name": "stdout",
     "output_type": "stream",
     "text": [
      "['Baada', 'ya', 'mapacha', 'hao', 'kuvuma', 'nchini', 'Kenya', 'kwa', 'zaidi', 'ya', 'miaka', '10', ',', 'wakati', 'ambao', 'muziki', 'ulikuwa', 'haulipi', 'sana', ',', 'Longombas', 'walihamia', 'nchini', 'Marekani', 'ambako', 'wameishi', 'kwa', 'miaka', 'kadhaa', '.', 'Mwaka', '2015', ',', 'baada', 'ya', 'kupumzika', 'kimuzika', 'kwa', 'muda', 'mrefu', 'wakiwa', 'Marekani', ',', 'kaka', 'hao', 'walijaribu', 'kurejea', 'tena', 'kwa', 'kuachia', 'kibao', 'kilichofahamika', 'kama', \"'My\", 'Queen', \"'\", 'ambacho', 'ndio', 'cha', 'mwisho', 'wao', 'kukiachia', 'kwa', 'mashabiki', 'wao', ',', 'na', 'Lovy', 'akaokoka', 'na', 'kuwa', 'mchungaji', 'mjini', 'Los', 'Angeles', '.', 'Familia', 'ya', 'wanamuziki', 'Longombas', 'wametoka', 'familia', 'yenye', 'mizizi', 'ya', 'muziki', '.', 'Baba', 'yao', 'Lovy', 'Longombas', 'Snr', '.', 'alikuwa', 'mwanamuziki', 'katika', 'bendi', 'maarufu', 'ya', 'Congo', 'Super', 'Mazembe', 'iliyokuwa', 'na', 'makao', 'yake', 'mjini', 'Nairobi', 'miaka', 'ya', '1970', 'na', '80', '.', 'Aidha', ',', 'babu', 'yao', ',', 'Vicky', 'Longombas', 'alikuwa', 'mmoja', 'wa', 'bendi', 'ya', 'TPOK', 'Jazz', '.', 'Mwanamuziki', 'maarufu', 'wa', 'muziki', 'aina', 'ya', 'Soukouss', 'katika', 'nchi', 'ya', 'Jamhuri', 'ya', 'Kidemokrasia', 'ya', 'Congo', 'Awilo', 'Longomba', 'ni', 'mjomba', 'yao', 'na', 'aliyekuwa', 'mwanamuziki', 'wa', 'Deux', 'Vulture', ',', 'Nasty', 'Thomas', 'ni', 'binamu', 'yao', '.']\n",
      "\n",
      " Number of Words:  162\n"
     ]
    }
   ],
   "source": [
    "file=\"21march14_1.txt\"\n",
    "\n",
    "# calling the function and storing the contents in a text variable \n",
    "text = get_document(\"https://www.bbc.com/swahili/habari-56391760\")\n",
    "\n",
    "# calling the store_ document function \n",
    "store_document(doc=text,name=file)\n",
    "\n",
    "#add the words in this file to the total_corpus_words, to keep count of the number of words in the corpus\n",
    "total_corpus_words+=total_words(file)"
   ]
  },
  {
   "cell_type": "code",
   "execution_count": 48,
   "metadata": {},
   "outputs": [
    {
     "data": {
      "text/plain": [
       "409480"
      ]
     },
     "execution_count": 48,
     "metadata": {},
     "output_type": "execute_result"
    }
   ],
   "source": [
    "total_corpus_words"
   ]
  },
  {
   "cell_type": "code",
   "execution_count": 49,
   "metadata": {},
   "outputs": [
    {
     "name": "stdout",
     "output_type": "stream",
     "text": [
      "['Kenya', 'yajiondoa', 'katika', 'kusikilizwa', 'kwa', 'mzozo', 'wake', 'wa', 'majini', 'na', 'Somalia', '14', 'Machi', '2021', 'Chanzo', 'cha', 'picha', ',', 'EPA', 'Maelezo', 'ya', 'picha', ',', 'Majaji', 'wa', 'mahakama', 'ya', 'ICJ', 'Kenya', 'imejiondoa', 'katika', 'kikao', 'cha', 'kusikilizwa', 'kwa', 'kesi', 'ya', 'mzozo', 'wa', 'mpaka', 'wa', 'majini', 'kati', 'yake', 'na', 'Somalia', 'katika', 'Mahakama', 'ya', 'Kimataifa', 'ya', 'Haki', '(', 'ICJ', ')', ',', 'vyanzo', 'vya', 'serikali', 'vimezungumza', 'na', 'BBC', '.', 'Kenya', 'inaishutumu', 'Mahakama', 'ya', 'Kimataifa', 'ya', 'ICJ', ',', 'kwa', 'kuwa', 'na', 'upendeleo', 'kuhusu', 'suala', 'la', 'umiliki', 'wa', 'eneo', 'lenye', 'ukumbwa', 'wa', 'kilomita', 'za', 'mraba', '160,000', 'katika', 'bahari', 'Hindi', '.', 'Inasemekana', 'kuwa', 'eneo', 'hilo', 'lina', 'utajiri', 'wa', 'mafuta', 'na', 'gesi', '.', 'Suala', 'hilo', 'ndio', 'kitovu', 'cha', 'mzozo', 'wa', 'kidiplomasia', 'ambao', 'umeghubika', 'nchi', 'hizo', 'jirani', '.', 'Kenya', 'imetaka', 'kesi', 'hiyo', 'icheleweshwe', 'kusikilizwa', 'wakati', 'inazungumza', 'na', 'timu', 'yake', 'ya', 'wanasheria', 'na', 'pia', 'imeangazia', 'janga', 'la', 'corona', 'lakini', 'mahakama', 'ya', 'ICJ', 'imesema', 'kuwa', 'kesi', 'hiyo', 'inaanza', 'kusikilizwa', 'Jumatatu', 'kwa', 'njia', 'ya', 'mtandao', '.', 'Kenya', 'pia', 'inasema', 'kwamba', 'katika', 'Mahakama', 'ya', 'Kimataifa', 'ya', 'Haki', '(', 'ICJ', ')', 'kuna', 'jaji', 'raia', 'wa', 'Somali', 'ikidai', 'kwamba', 'kwanza', 'jaji', 'huyo', 'ajiondoe', '.', 'Somalia', 'iliwasilisha', 'kesi', 'hiyo', 'mwaka', '2014', ',', 'ikisema', 'mpaka', 'wa', 'majini', 'unastahili', 'kufuata', 'mpaka', 'ya', 'ardhini', 'huku', 'Kenya', 'ikidai', 'kuwa', 'tangu', 'mwanzo', 'imekuwa', 'ikichukua', 'mkondo', 'wa', 'mstari', 'wa', 'usawa', ',', 'umbo', 'la', 'pembe', 'tatu', 'kutoka', 'wakati', 'ambapo', 'nchi', 'hizo', 'mbili', 'zilikutana', 'eneo', 'la', 'pwani', '.', 'Timu', 'ya', 'wanasheria', 'wa', 'Kenya', 'pia', 'inataka', 'kuwasiliana', 'na', 'mahakama', 'ya', 'ICJ', 'kwa', 'dakika', '30', 'Jumatatu', 'kabla', 'ya', 'kuanza', 'kusikilizwa', 'rasmi', 'kwa', 'kesi', 'hiyo', '.', 'Somalia', 'pia', 'nayo', 'imeishutumu', 'Kenya', 'kwa', 'kuingilia', 'masuala', 'yake', 'ya', 'ndani', 'kwa', 'kuunga', 'mkono', 'utawala', 'wa', 'eneo', 'la', 'Jubbaland', 'dhidi', 'ya', 'serikali', '.', 'Hata', 'hivyo', 'nchi', 'hizo', 'mbili', 'ni', 'washirika', 'katika', 'vita', 'dhidi', 'ya', 'kundi', 'la', 'wanamgambo', 'wa', 'Al-Shabab', ',', 'ambalo', 'linadhibiti', 'maeneo', 'ya', 'vijijini', 'ya', 'Somalia', 'na', 'limetekeleza', 'mashambulizi', 'kadhaa', 'nchini', 'Kenya', '.', 'Kwanini', 'Kenya', 'imejiondoa', 'ghafla', 'katika', 'kikao', 'cha', 'kusikilizwa', 'kwa', 'kesi', 'hiyo', '?', 'Chanzo', 'cha', 'picha', ',', 'AFP', 'Maelezo', 'ya', 'picha', ',', 'Eneo', 'linalozozaniwa', 'na', 'Kenya', 'na', 'Somalia', 'linasemekana', 'kuwa', 'na', 'utajiri', 'wa', 'mafuta', 'na', 'gesi', 'Kenya', 'imejiondoa', 'katika', 'kusikilizwa', 'kwa', 'mzozo', 'kati', 'yake', 'na', 'Somalia', ',', 'ofisi', 'ya', 'mwendesha', 'mashtaka', 'imezungumza', 'na', 'BBC', '.', 'Kulingana', 'na', 'vyombo', 'vya', 'habari', ',', 'serikali', 'inafikiria', 'kuwasilisha', 'malalamishi', 'yake', 'kwamba', 'mahakama', 'hiyo', 'haitendei', 'Kenya', 'haki', 'na', 'pia', 'imekataa', 'kusikiliza', 'maombi', 'ya', 'Kenya', 'ya', 'kuahirisha', 'kusikilizwa', 'kwa', 'kesi', 'hiyo', 'kwasababu', 'ya', 'janga', 'la', 'virusi', 'vya', 'corona', '.', 'Mwanasheria', 'Mkuu', 'Kenya', ',', 'Kariuki', 'Kihara', 'aliwasilisha', 'matakwa', 'yao', 'wiki', 'iliyopita', 'katika', 'Mahakama', 'hiyo', 'siku', 'chache', 'kabla', 'ya', 'kesi', 'hiyo', 'kuanza', 'kusikilizwa', '.', 'Hata', 'hivyo', 'kesi', 'hiyo', 'ya', 'mzozo', 'wa', 'mpaka', 'wa', 'majini', 'kati', 'ya', 'Kenya', 'na', 'Somalia', 'imepangwa', 'kuanza', 'kusikilizwa', 'Jumatatu', '.', 'Uamuzi', 'huo', 'pia', 'unawadia', 'wakati', 'ambapo', 'uhusiano', 'wa', 'kidiplomasia', 'kati', 'ya', 'nchi', 'hizo', 'mbili', 'umezorota', '.', 'Mengine', 'ambayo', 'Kenya', 'inalalamikia', 'Serikali', 'ya', 'Kenya', 'pia', 'imeonesha', 'kuwa', 'inatilia', 'shaka', 'uaminifu', 'na', 'uwezo', 'wa', 'mahakama', 'hiyo', 'kutopendelea', 'upande', 'wowote', 'hasa', 'kwa', 'kuwepo', 'kwa', 'jaji', 'Abdulqawi', 'Ahmed', 'Yusuf', ',', 'raia', 'wa', 'Somali', 'wakati', 'wa', 'kusikilizwa', 'kwa', 'kesi', 'hiyo', '.', 'Bwana', 'Kariuki', 'aliongeza', 'kuwa', 'kesi', 'ya', 'Kenya', 'inahusisha', 'mawakili', 'wake', 'kutoa', 'hoja', 'zao', 'na', 'haiwezi', 'kusikilizwa', 'kupitia', 'njia', 'ya', 'sauti', 'au', 'video', 'ikidai', 'kuwa', 'njia', 'hizo', '``', 'sio', 'stahiki', \"''\", 'katika', 'kesi', 'yenye', 'uzito', 'mkubwa', 'na', 'muhimu', 'kama', 'hiyo', '.', 'Mwanasheria', 'wa', 'Kenya', 'pia', 'amesema', 'katika', 'taarifa', 'kwa', 'mahakama', 'hiyo', 'kuwa', 'Kenya', 'imetafuta', 'mawakili', 'wapya', 'ambao', 'hawajakutana', 'kujifahamisha', 'suala', 'hilo', 'kwa', 'undani', ',', 'kwasababu', 'ya', 'ugonjwa', 'wa', 'virusi', 'vya', 'corona', 'na', 'kwamba', 'Kenya', 'haikuwa', 'imejitayarisha', 'vilivyo', 'katika', 'kesi', 'hiyo', '.', 'Serikali', 'ya', 'Kenya', 'iliwapiga', 'kalamu', 'mawakili', 'walioiwakilisha', 'nchi', 'yake', 'katika', 'kesi', 'hiyo', 'mwaka', '2019', 'na', 'kuwakosoa', 'kwa', 'namna', 'walivyoiwakilisha', '.', 'Mara', 'nyingi', 'mahakama', 'hiyo', 'hutegemea', 'Baraza', 'la', 'Usalama', 'la', 'Umoja', 'wa', 'Mataifa', 'kuhakikisha', 'maamuzi', 'yake', 'yana', 'heshimiwa', 'na', 'sasa', 'hivi', 'Kenya', 'ni', 'mwanachama', 'asiyewakudumu', 'wa', 'Baraza', 'hilo', '.']\n",
      "\n",
      " Number of Words:  620\n"
     ]
    }
   ],
   "source": [
    "file=\"21march14_2.txt\"\n",
    "\n",
    "# calling the function and storing the contents in a text variable \n",
    "text = get_document(\"https://www.bbc.com/swahili/michezo-56393560\")\n",
    "\n",
    "# calling the store_ document function \n",
    "store_document(doc=text,name=file)\n",
    "\n",
    "#add the words in this file to the total_corpus_words, to keep count of the number of words in the corpus\n",
    "total_corpus_words+=total_words(file)"
   ]
  },
  {
   "cell_type": "code",
   "execution_count": 50,
   "metadata": {},
   "outputs": [
    {
     "data": {
      "text/plain": [
       "410100"
      ]
     },
     "execution_count": 50,
     "metadata": {},
     "output_type": "execute_result"
    }
   ],
   "source": [
    "total_corpus_words"
   ]
  },
  {
   "cell_type": "code",
   "execution_count": 51,
   "metadata": {},
   "outputs": [
    {
     "name": "stdout",
     "output_type": "stream",
     "text": [
      "['Sara', 'Obama', 'alimchukulia', 'mjukuu', 'wake', 'kama', 'wajukuu', 'wengine', 'na', 'kumuona', 'kuwa', 'mtoto', 'wa', 'nyumbani', 'Kenya', '.', 'Rais', 'Obama', 'alionesha', 'mapenzi', 'kwa', 'bibi', 'yake', '.', 'Obama', 'aliwahi', 'kumtembelea', 'bibi', 'yake', 'mara', 'tatu', 'kabla', 'hajawa', 'rais', 'wa', 'Marekani', 'na', 'mara', 'moja', 'baada', 'ya', 'kuwa', 'rais', '.', 'Bi', '.', 'Sarah', 'alihudhuria', 'sherehe', 'ya', 'kwanza', 'ya', 'kuapishwa', 'kwa', 'Barack', 'Obama', 'kama', 'Rais', 'wa', 'Marekani', 'mwaka', '2009', '.', 'Na', 'baadaye', ',', 'Obama', 'akamzungumzia', 'bibi', 'yake', 'tena', 'mnamo', 'Septemba', '2014', 'katika', 'hotuba', 'yake', 'aliyotoa', 'kwenye', 'mkutano', 'mkuu', 'wa', 'Umoja', 'wa', 'Mataifa', '.', 'Chanzo', 'cha', 'picha', ',', 'Getty', 'Images', 'Maelezo', 'ya', 'picha', ',', 'Obama', ',', 'Auma', 'Obama', '(', 'kushoto', ')', 'Sarah', 'Obama', '(', 'kulia', ')', 'Kutokana', 'na', 'mapenzi', 'yake', 'ya', 'kuwa', 'karibu', 'na', 'jamii', ',', 'bibi', 'Sarah', 'alianzisha', 'taasisi', 'inayofahamika', 'kama', 'Mama', 'Sarah', 'Obama', 'foundation', '.']\n",
      "\n",
      " Number of Words:  129\n"
     ]
    }
   ],
   "source": [
    "file=\"21march29_1.txt\"\n",
    "\n",
    "# calling the function and storing the contents in a text variable \n",
    "text = get_document(\"https://www.bbc.com/swahili/habari-56563379\")\n",
    "\n",
    "# calling the store_ document function \n",
    "store_document(doc=text,name=file)\n",
    "\n",
    "#add the words in this file to the total_corpus_words, to keep count of the number of words in the corpus\n",
    "total_corpus_words+=total_words(file)"
   ]
  },
  {
   "cell_type": "code",
   "execution_count": 52,
   "metadata": {},
   "outputs": [
    {
     "data": {
      "text/plain": [
       "410229"
      ]
     },
     "execution_count": 52,
     "metadata": {},
     "output_type": "execute_result"
    }
   ],
   "source": [
    "total_corpus_words"
   ]
  },
  {
   "cell_type": "code",
   "execution_count": 53,
   "metadata": {},
   "outputs": [
    {
     "name": "stdout",
     "output_type": "stream",
     "text": [
      "['Mike', 'Sonko', ':', 'Kupanda', 'na', 'kushuka', 'kwa', 'gavana', 'wa', 'zamani', 'wa', 'jiji', 'kuu', 'la', 'Kenya', 'Nairobi', '29', 'Machi', '2021', 'Chanzo', 'cha', 'picha', ',', 'AFP', 'Maelezo', 'ya', 'picha', ',', 'Gavana', 'wa', 'zamani', 'wa', 'nairobi', 'anafahamika', 'kwa', 'mtindo', 'wake', 'wa', 'maisha', 'ya', 'kifahari', 'Katika', 'kuporomoka', 'kutoka', 'madaraka', 'ya', 'juu', 'hadi', 'kuwa', 'raia', 'wa', 'kawaida', ',', 'gavana', 'wa', 'zamani', 'wa', 'mji', 'mkuu', 'wa', 'Kenya', 'Nairobi', 'sasa', 'anakabiliwa', 'na', 'mashitaka', 'mengi', 'ya', 'jinai', 'yakiwemo', 'utakatishaji', 'fedha', 'na', 'ugaidi', '.', 'Je', ',', 'Mike', 'Sonko', 'ni', 'nani', 'na', 'aliibukaje', 'kuwa', 'mmoja', 'wa', 'wanasiasa', 'mashuhuri', 'wa', 'Kenya', '?', 'Anajulikana', 'kwa', 'maisha', 'yake', 'ya', 'mtindo', 'wa', 'kisasa', ',', 'nguo', 'za', 'kupendeza', 'na', 'vito', 'vya', 'bei', 'ghali', ',', 'Gidion', 'Mbuvi', 'Kioko', 'alipata', 'jina', 'la', 'utani', 'la', 'Sonko', '-', 'msimbo', 'wa', 'Kiswahili', 'kumaanisha', 'tajiri', '-', 'baada', 'ya', 'mazoea', 'ya', 'kuwapa', 'hadharani', 'pesa', 'wafuasi', 'wake', 'katika', 'makazi', 'ya', 'mabanda', 'ya', 'Nairobi.Jina', 'lilikwama', '.', 'Muda', 'mrefu', 'kabla', 'ya', 'kuingia', 'kwenye', 'siasa', 'na', 'kupewa', 'jina', 'hilo', 'la', 'utani', ',', 'alifungwa', 'jela', 'miaka', 'ya', '1990', 'kwa', 'kesi', 'ya', 'udanganyifu', 'wa', 'ardhi', '.', 'Alifanikiwa', 'kutoroka', 'kutoka', 'gerezani', 'kwa', 'kuwahonga', 'walinzi', 'wake', ',', 'kabla', 'kukamatwa', 'na', 'kurudishwa', 'gerezani', '.', 'Baada', 'ya', 'kuachiliwa', ',', 'alianzisha', 'biashara', 'zilizofanikiwa', 'ikiwa', 'ni', 'pamoja', 'na', 'matatu', '(', 'magari', 'ya', 'usafiri', 'wa', 'umma', ')', ',', 'kampuni', 'ya', 'ujenzi', 'na', 'uuzaji', 'wa', 'nyumba', 'na', 'eneo', 'la', 'burudani', 'huko', 'Nairobi', ',', 'na', 'sasa', 'alikuwa', 'na', 'pesa', 'na', 'ujasiri', 'wa', 'kujitosa', 'kwenye', 'siasa', '.', 'Akiwa', 'na', 'umri', 'wa', 'miaka', '35', 'alikua', 'mbunge', 'mnamo', '2010', ',', 'kisha', 'akawa', 'seneta', 'miaka', 'mitatu', 'baadaye', 'kabla', 'ya', 'Bw', 'Sonko', 'kupigiwa', 'kura', 'kama', 'gavana', 'wa', 'Nairobi', 'mnamo', '2017', '.', 'Kupanda', 'kwake', 'kuliwashangaza', 'wengi', 'na', 'palikuwa', 'na', 'matumaini', 'makubwa', 'kwamba', 'angeongoza', 'mabadiliko', 'ya', 'mji', 'mkuu', 'kama', 'alivyoahidi', ',', 'licha', 'ya', 'elimu', 'ya', 'kiwango', 'cha', 'wastani', 'kwani', 'alisoma', 'tu', 'hadi', 'kiwango', 'cha', 'sekondari', '.', 'Alikuwa', 'na', 'ustadi', 'wake', 'kuelewa', 'siasa', 'za', 'jiji', 'na', 'kuepuka', 'changamoto', 'nyingi', 'huku', 'akionekana', 'kuelewa', 'shida', 'nyingi', 'za', 'jiji', '.', 'Na', 'kwa', 'wale', 'ambao', 'walitilia', 'shaka', 'uwezo', 'wake', ',', 'alikuwa', 'na', 'afisa', 'mkuu', 'mtendaji', 'wa', 'zamani', 'wa', 'kampuni', 'ya', 'mafuta', 'kama', 'naibu', 'gavana', 'kumsaidia', 'kutekeleza', 'mipango', 'yake', 'mikubwa', 'ya', 'jiji', '.', 'Sare', 'za', 'Jeshi', 'Lakini', 'kama', 'vile', 'kupanda', 'kwake', 'kulikuwa', 'kwa', 'njiaya', 'kipekee', 'basipia', 'kuanguka', 'kwake', 'kulikuwa', 'na', 'kishindo', '..', 'Alishtakiwa', 'mnamo', 'Desemba', 'kwa', 'utovu', 'wa', 'nidhamu', 'na', 'kutumia', 'vibaya', 'mamlaka', 'ya', 'ofisi', 'yake', '.', 'Bwana', 'Sonko', 'pia', 'anakabiliwa', 'na', 'mashtaka', 'mengi', 'kortini', ',', 'pamoja', 'na', 'kesi', 'kadhaa', 'za', 'ufisadi', ',', 'kumshambulia', 'mtu', 'na', 'makosa', 'yanayohusiana', 'na', 'ugaidi', '.', 'Anayakana', 'yote', '.', 'Anadaiwa', 'kuiba', 'zaidi', 'ya', 'shilingi', 'milioni', '300', '(', '$', '2.7m', ';', '£', '1.9m', ')', 'kupitia', 'utoaji', 'mbovu', 'wa', 'kandarasi', 'kwa', 'kampuni', 'za', 'marafiki', 'zake', 'ambao', 'inasemekana', 'walirejesha', 'sehemu', 'ya', 'fedha', 'hizo', 'katika', 'akaunti', 'zake', 'za', 'benki', 'bada', 'ya', 'kupokea', 'malipo', 'yao', '.', 'Taarifa', 'zaidi', 'kumuhusu', 'Mike', 'Sonko', ':', 'Hivi', 'majuzi', 'pia', 'alishtakiwa', 'kwa', 'kuajiri', 'na', 'kuwapa', 'silaha', 'wanamgambo', ',', 'kupata', 'mavazi', 'ya', 'kijeshi', 'yanayohusiana', 'na', 'makundi', 'ya', 'kigaidi', 'na', 'kufadhili', 'shughuli', 'za', 'ugaidi', '.', 'Picha', 'yake', 'na', 'walinzi', 'wake', 'wa', 'kibinafsi', 'akiwa', 'amevalia', 'mavazi', 'ya', 'kijeshi', 'kwenye', 'jukwaa', 'la', 'umma', ',', 'ambayo', 'inasemekana', 'alichapisha', 'kwenye', 'kurasa', 'zake', 'za', 'mitandao', 'ya', 'kijamii', ',', 'ni', 'sehemu', 'ushahidi', 'katika', 'kesi', 'inayomkabili', '.', 'Chanzo', 'cha', 'picha', ',', 'DCI/Court', 'document', 'Maelezo', 'ya', 'picha', ',', 'Picha', 'hii', '(', 'na', 'Bw', 'Sonko', ')', 'iliwasilishwa', 'katika', 'mahakama', 'na', 'maafisa', 'wa', 'usalama', 'Haijajulikana', 'Bwana', 'Sonko', 'atashtakiwa', 'lini', '-', 'anakabiliwa', 'na', 'mashtaka', 'mengi', ',', 'ambayo', 'mengine', 'ni', 'ya', 'tangia', 'mwaka', 'wa', '2019', '.', 'Yeye', 'na', 'wafuasi', 'wake', 'wanasema', 'mashtaka', 'hayo', 'yanachochewa', 'kisiasa', 'na', 'yana', 'dhamira', 'ya', 'kumtisha', '.', 'Uhusiano', 'wake', 'na', 'Rais', 'Mnamo', 'mwaka', 'wa', '2014', ',', 'wakati', 'maafisa', 'wa', 'kitaifa', 'walipotuma', 'tingatinga', 'kubomoa', 'nyumba', 'za', 'makazi', 'zinazodaiwa', 'kujengwa', 'kwenye', 'ardhi', 'ya', 'umma', 'jijini', 'Nairobi', ',', 'Bw', 'Sonko', ',', 'wakati', 'huo', 'alikuwa', 'seneta', 'wa', 'jiji', 'hilo', ',', 'alikimbilia', 'eneo', 'la', 'tukio', '.', 'Sehemu', 'ya', 'umati', 'wa', 'watu', 'ilikuwa', 'ikitazama', 'kwa', 'kukata', 'tamaa', ',', 'ikiona', 'uwekezaji', 'wao', 'ukiangushwa', 'ardhini', '.', 'Majengo', 'yaliyojengwa', 'kinyume', 'cha', 'sheria', 'kwenye', 'maeneo', 'ya', 'umma', 'au', 'kando', 'ya', 'mto', ',', 'kama', 'hili', ',', 'yamebomolewa', 'siku', 'zilizopita', 'Rais', 'alisema', 'atasimamisha', 'ubomoaji', '.', 'Umati', 'ulipiga', 'kelele', 'kwa', 'furaha', '.', 'Muda', 'mfupi', 'baadaye', 'waziri', 'huyo', 'alithibitisha', 'kwamba', 'alikuwa', 'ameamrishwa', 'asimamishe', 'ubomoaji', 'huo', ',', 'hadi', 'mzozo', 'wa', 'ardhi', 'utatuliwe', '.', '``', 'Rais', 'ni', 'rafiki', 'yangu', '.', 'Nilimuweka', 'kwenye', 'simu', 'ya', 'spika', 'kwa', 'sababu', 'nina', 'imani', 'naye', '-', 'ndiye', 'rais', 'anayeweza', 'kupatikana', 'kwa', 'urahisi', 'zaidi', 'ulimwenguni', ',', \"''\", 'Bw', 'Sonko', 'alisema', 'wakati', 'huo', '.', 'Kwa', 'ushawishi', 'wake', 'wote', 'huo', 'na', 'kuwa', 'karibu', 'na', 'mamlaka', 'Bwana', 'Sonko', 'alikuwa', 'amefanya', 'siasa', 'kwa', 'chini', 'ya', 'miaka', 'mitano', '.', \"'\", 'Nilikuwa', 'mhalifu', 'na', 'niliwahi', 'kuwa', 'mfungwa', \"'\", 'Bwana', 'Sonko', 'alianza', 'safari', 'yake', 'ya', 'kisiasa', 'mnamo', '2010', ',', 'wakati', 'alipogombea', 'uchaguzi', 'mdogo', 'wa', 'ubunge', '.', 'Alikuwa', 'mtu', 'asiyejulikana', 'katika', 'siasa', ',', 'lakini', 'alikuwa', 'tajiri', 'na', 'mkali', '-', 'alitumia', 'pesa', 'zake', 'na', 'kujipendekeza', 'kwa', 'watu', 'wengi', '.', 'Alishinda', 'kwa', 'urahisi', '.', 'Chanzo', 'cha', 'picha', ',', 'AFP', 'Maelezo', 'ya', 'picha', ',', 'Bw', 'Sonko', 'alikuwa', 'mbunge', 'alipokuwa', 'na', 'umri', 'wa', 'miaka', '35', 'tu', 'Tabia', 'isiyo', 'ya', 'kawaida', 'ya', 'Bwana', 'Sonko', 'imekosolewa', 'mara', 'nyingi', '.', 'Mnamo', 'mwaka', 'wa', '2011', ',', 'kama', 'mbunge', 'mpya', ',', 'aliondolewa', 'bungeni', 'kwa', 'kuvaa', 'vipuli', 'na', 'miwani', 'za', 'rangi', '.', '``', 'Ninawakilisha', 'vijana', 'ambao', 'walinichagua', 'bungeni', ',', \"''\", 'aliiambia', 'BBC', '.', 'Alisema', 'atapambana', 'kubadili', 'sheria', 'za', 'mavazi', ',', 'ingawa', 'hakufanikiwa', '.', 'Kama', 'mbunge', ',', 'alishiriki', 'katika', 'maandamano', 'mbali', 'mbali', ',', 'ambayo', 'mara', 'moja', 'alishuhudiwa', 'akibingiria', 'barabarani', 'akiwa', 'amejilaza', 'na', 'kupiga', 'ukuta', 'ngumi', '.', 'Alitumia', 'shirika', 'lake', 'la', 'kibinafsi', 'kutoa', 'huduma', 'za', 'bure', 'wakati', 'alipokuwa', 'seneta', 'hatua', 'iliyomfanya', 'kukosolewa', 'kwa', 'kutaka', 'kumhujumu', 'gavana', 'wa', 'wakati', 'huo', 'Wakati', 'mwingine', 'alirekodi', 'mazungumzo', 'ya', 'faragha', 'na', 'kuyachapisha', 'kwenye', 'mitandao', 'ya', 'kijamii', ',', 'akijipatia', 'jina', '``', 'msanii', 'wa', 'kurekodi', \"''\", '.', 'Hata', 'kama', 'gavana', ',', 'vituko', 'vyake', 'viliendelea', '.', 'Wakati', 'janga', 'la', 'corona', 'lilipofika', 'Kenya', ',', 'alikosolewa', 'kwa', 'kuingiza', 'chupa', 'ndogo', 'pombe', 'ya', 'Hennessy', 'katika', 'vifurushi', 'vya', 'chakula', 'vilivyopewa', 'wakazi', 'waliohitaji', 'misaada', 'Nairobi', '.', '``', 'Imeaminika', 'kuwa', 'pombe', 'ina', 'jukumu', 'kubwa', 'katika', 'kuua', 'coronavirus', ',', \"''\", 'alisema', '.', 'Shirika', 'la', 'Afya', 'Ulimwenguni', 'hata', 'hivyo', 'linaonya', 'kuwa', 'kunywa', 'pombe', 'kunaweza', 'kudhoofisha', 'kinga', 'ya', 'mwili', '.', 'Pamoja', 'na', 'tabia', 'zake', 'hizo', ',', 'rekodi', 'yake', 'ya', 'zamani', 'ya', 'uhalifu', 'imeibuka', 'katika', 'majadiliano', 'ya', 'umma', 'juu', 'ya', 'uadilifu', 'wake', ',', 'haswa', 'kwa', 'kuzingatia', 'umaarufu', 'wake', 'na', 'kupanda', 'kake', 'katika', 'madaraka', 'ya', 'kisiasa', 'Mnamo', 'mwaka', 'wa', '2012', ',', 'Kamati', 'ya', 'Haki', 'ya', 'Utawala', 'nchini', 'Kenya', '-', 'ofisi', 'ambayo', 'inachunguza', 'malalamiko', 'dhidi', 'ya', 'mashirika', 'ya', 'umma', 'na', 'maafisa', 'wa', 'serikali', '-', 'ilimuorodhesha', 'Bw', 'Sonko', 'kati', 'ya', 'wanasiasa', 'waliodhamiriwa', 'kuwa', '``', 'hawafai', 'kuidhinishwa', 'kugombea', 'uchaguzi', 'kwa', 'ajili', 'ya', 'dosarikuhusu', 'hadhi', 'zao', 'na', 'uadilifu', '.']\n",
      "\n",
      " Number of Words:  1069\n"
     ]
    }
   ],
   "source": [
    "file=\"21march29_2.txt\"\n",
    "\n",
    "# calling the function and storing the contents in a text variable \n",
    "text = get_document(\"https://www.bbc.com/swahili/habari-56566293\")\n",
    "\n",
    "# calling the store_ document function \n",
    "store_document(doc=text,name=file)\n",
    "\n",
    "#add the words in this file to the total_corpus_words, to keep count of the number of words in the corpus\n",
    "total_corpus_words+=total_words(file)"
   ]
  },
  {
   "cell_type": "code",
   "execution_count": 54,
   "metadata": {},
   "outputs": [
    {
     "data": {
      "text/plain": [
       "411298"
      ]
     },
     "execution_count": 54,
     "metadata": {},
     "output_type": "execute_result"
    }
   ],
   "source": [
    "total_corpus_words"
   ]
  },
  {
   "cell_type": "code",
   "execution_count": 55,
   "metadata": {},
   "outputs": [
    {
     "name": "stdout",
     "output_type": "stream",
     "text": [
      "['Fahamu', 'sababu', 'zinazopelekea', 'mashirika', 'ya', 'ndege', 'barani', 'Afrika', 'kupata', 'hasara', 'Walter', 'Nguma', 'Mchambuzi', '30', 'Machi', '2021', 'Hivi', 'karibuni', 'kumeibuka', 'kwa', 'maneno', 'mengi', 'kutoka', 'kwa', 'wananchi', 'wa', 'nchi', 'za', 'Afrika', 'zinazomiliki', 'ndege', 'za', 'kibiashara', 'kutokana', 'na', 'hasara', 'zinazopatikana', 'kakutokana', 'na', 'sekta', 'ya', 'mashirika', 'ya', 'ndege', 'yaliyopo', 'kwenye', 'mataifa', 'yao', '.', 'Mpaka', 'hivi', 'sasa', 'wasomi', 'na', 'wananchi', 'wameenda', 'mbali', 'nakuhoji', 'kama', 'nchi', 'zao', 'mfano', 'Kenya', ',', 'Tanzania', ',', 'Afrika', 'kusini', 'na', 'Ethiopia', 'kulikuwa', 'na', 'ulazima', 'kuwekeza', 'fedha', 'nyingi', 'za', 'walipa', 'kodi', 'katika', 'kununua', 'ndege', 'nyingi', 'kwaajili', 'ya', 'kufanya', 'biashara', 'wakati', 'bado', 'mashirika', 'hayo', 'yalikuwa', 'hayajajipanga', 'vyakutosha', 'katika', 'kusimamia', 'na', 'kuendesha', 'biashara', 'za', 'aina', 'hii', 'kulingana', 'na', 'ushindani', 'uliopo', 'hivi', 'sasa', '.', 'Pamoja', 'na', 'kuwa', 'upatikanaji', 'wa', 'huduma', 'za', 'usafiri', 'wa', 'anga', 'ni', 'muhimu', 'katika', 'ukuaji', 'wa', 'uchumi', 'kwani', 'husaidia', 'katika', 'ukuaji', 'wa', 'sekta', 'za', 'utalii', ',', 'ajira', 'na', 'kuvutia', 'wawekezaji', 'wa', 'nje', 'kuwekeza', '.', 'Lakini', 'tujiulize', 'Je', ',', 'kwa', 'hali', 'ya', 'kiuchumi', 'katika', 'nchi', 'zetu', 'hasa', 'kwa', 'kuangalia', 'vipato', 'vya', 'mwananchi', 'mmoja', 'mmoja', 'kulikuwa', 'na', 'ulazima', 'wa', 'serikali', 'za', 'nchi', 'hizi', 'za', 'Afrika', 'kuzamisha', 'fedha', 'nyingi', 'kiasi', 'hiki', 'kwenye', 'kufufua', 'mashirika', 'haya', 'ya', 'ndege', '?', 'Au', 'serikali', 'zingepaswa', 'kualika', 'makampuni', 'ya', 'kibiashara', 'kuweza', 'kuja', 'na', 'kuwekeza', 'katika', 'sekta', 'hii', 'na', 'kuokoa', 'mabilioni', 'haya', 'ya', 'fedha', 'za', 'kodi', 'za', 'wananchi', 'ambao', 'bado', 'hali', 'zao', 'za', 'kiuchumi', 'bado', 'si', 'zakuridhisha', '?', 'Mashirika', 'ya', 'ndege', 'mfano', 'Air', 'Tanzania', ',', 'namna', 'ambavyo', 'lilifufuliwa', 'lilileta', 'maswali', 'mengi', 'kwa', 'wasomi', 'hasa', 'wanauchumi', 'pamoja', 'na', 'wananchi', 'kwa', 'kuwa', 'mchakato', 'wake', 'haukuwa', 'wa', 'wazi', 'kiasi', 'kilichopelekea', 'wabunge', 'wengi', 'wanasiasa', 'kama', 'Tundu', 'Lissu', ',', 'Zitto', 'Zuberi', 'Kabwe', 'na', 'wengine', 'kulalamikia', 'serikali', 'kwa', 'kuihoji', 'maswali', 'mengi', 'ili', 'kuweza', 'kujua', 'ni', 'mchakato', 'gani', 'ulitumiwa', 'katika', 'kufufua', 'shirika', 'hili', 'la', 'ndege', 'ili', 'kuweza', 'kupata', 'uhalali', 'wake', 'kisheria', 'hasa', 'kwa', 'kuzingatia', 'sheria', 'za', 'manunuzi', 'zilizopitishwa', 'na', 'bunge', 'lakini', 'walibezwa', 'na', 'hawakupata', 'kujibiwa', 'maswali', 'yao', '.', 'Wanasiasa', 'hawa', 'walikuwa', 'wakitaka', 'kujua', 'fedha', 'hizi', 'zilitolewa', 'wapi', '?', 'Kwanini', 'fedha', 'hizi', 'ambazo', 'hazikupitishwa', 'na', 'bunge', 'la', 'Tanzania', 'na', 'wala', 'hakuna', 'mchakato', 'wowote', 'uliopata', 'kuletwa', 'kwenye', 'bunge', 'wala', 'kutolewa', 'na', 'serikali', 'kwa', 'wananchi', 'ilikuweza', 'kutambua', 'na', 'kufahamu', 'namna', 'ndege', 'hizo', 'ziliweza', 'kununuliwa', '?', 'Maswali', 'haya', 'na', 'mengineyo', 'mengi', 'hayajapata', 'kujibiwa', 'mpaka', 'hivi', 'leo', 'zaidi', 'ya', 'kupokea', 'taarifa', 'za', 'shirika', 'kujiendesha', 'kwa', 'hasara', '.', 'Mashirika', 'mengi', 'ya', 'ndege', 'hivi', 'sasa', 'Afrika', 'yanaendeshwa', 'kwa', 'hasara', 'kubwa', 'sana', 'jambo', 'ambalo', 'linapelekea', 'fedha', 'nyingi', 'ambazo', 'zingetumika', 'katika', 'shughuli', 'nyingi', 'za', 'kimaendeleo', 'kuchukuliwa', 'na', 'kuingizwa', 'katika', 'kuokoa', 'mashirika', 'haya', 'ambayo', 'hayafanyi', 'vizuri', 'tokea', 'kuanzishwa', 'kwake', ',', 'na', 'hivyo', 'kupelekea', 'shughuli', 'nyingi', 'za', 'kimaendeleo', 'kusuasua', 'na', 'kufanya', 'hali', 'za', 'wananchi', 'kuwa', 'ngumu', 'na', 'wakati', 'mwingine', 'kupelekea', 'mzunguko', 'wa', 'fedha', 'kuwa', 'mdogo', 'katika', 'mataifa', 'haya', 'yanayomiliki', 'ndege', 'za', 'kibiashara', 'Afrika', '.', 'Mfano', ';', 'Kwa', 'mwaka', '2019/2020', 'peke', 'yake', 'mkaguzi', 'wa', 'hesabu', 'za', 'serikali', 'Tanzania', 'Charles', 'Edward', 'Kichere', '(', 'CAG', ')', 'anasema', 'shirika', 'la', 'ndege', 'la', 'Tanzania', 'limepata', 'hasara', 'ya', 'zaidi', 'ya', 'bilioni', '60', 'kwa', 'maana', 'hiyo', 'mpaka', 'hivi', 'sasa', 'shirika', 'la', 'ndege', 'la', 'Tanzania', 'bado', 'linaendeshwa', 'kwa', 'hasara', 'tena', 'hasara', 'kubwa', 'ambayo', 'haijawekwa', 'wazi', 'vya', 'kutosheleza', '.', 'Kwa', 'mwaka', '2015/2016', 'shirika', 'lilipata', 'hasara', 'ya', 'bilioni', '94.3', ',', 'mwaka', '2016/2017', 'shirika', 'la', 'ndege', 'Tanzania', 'lilipata', 'hasara', 'ya', 'bilioni', '109.3', 'na', 'mwaka', '2017/2018', 'shirika', 'lilipata', 'hasara', 'ya', 'zaidi', 'ya', 'bilioni', '113.8', '.', 'Kwa', 'mtiririko', 'huo', 'ni', 'wazi', 'kuwa', 'shirika', 'la', 'ndege', 'la', 'Tanzania', 'linajiendesha', 'kwa', 'hasara', 'kubwa', 'ambapo', 'wataalam', 'wa', 'masuala', 'ya', 'anga', 'na', 'uchumi', 'wanadai', 'bado', 'kuna', 'uwezekano', 'kukawa', 'na', 'hasara', 'kubwa', 'zaidi', 'lakini', 'ukweli', 'haujawekwa', 'bayana', 'kutokana', 'na', 'sababu', 'nyingi', 'hasa', 'za', 'kisiasa', '.', 'Shirika', 'la', 'ndege', 'la', 'Kenya', '(', 'Kenya', 'Airways', ')', 'lilitangaza', 'hasara', 'ya', 'dola', 'milioni', '83', 'kwa', 'mwaka', '2020', '.', 'Na', 'kulingana', 'na', 'Mwenyekiti', 'wa', 'shirika', 'hilo', 'la', 'ndege', 'alieleza', 'bayana', 'ya', 'kuwa', 'hakuna', 'ukuaji', 'wa', 'sekta', 'hiyo', 'kwa', 'hivi', 'sasa', 'labda', 'mpaka', 'ifikapo', 'mwaka', '2024/2025', '.', 'Shirika', 'la', 'ndege', 'Kenya', 'linakabiliwa', 'na', 'madeni', 'mengi', 'makubwa', '.', 'Madeni', 'haya', 'ya', 'Shirika', 'la', 'ndege', 'la', 'Kenya', 'ni', 'kielelezo', 'tosha', 'kuwa', 'Shirika', 'hili', 'linaendeshwa', 'kwa', 'hasara', 'kubwa', '.', 'Hapo', 'awali', 'wamepata', 'kubadilisha', 'watendaji', 'wakuu', 'watatu', 'kwa', 'kudhania', 'yakuwa', 'utendaji', 'wao', 'ni', 'mbovu', 'lakini', 'bado', 'hali', 'katika', 'shirika', 'hilo', 'siyo', 'shwari', 'na', 'hivyo', 'bado', 'linaendeshwa', 'kwa', 'hasara', '.', 'Hivi', 'sasa', 'Serikali', 'ya', 'Kenya', 'inapanga', 'kurejesha', 'pesa', 'za', 'wamiliki', 'wa', 'hisa', 'nyingi', 'ikiwemo', 'shirika', 'la', 'Air', 'France', '-', 'KLM', 'inayomiliki', 'asilimia', '7.8', 'ya', 'hisa', '.', 'Shirika', 'la', 'ndege', 'la', 'Ethiopia', '(', 'Ethiopia', 'Airways', ')', 'nalo', 'linaendeshwa', 'kwa', 'hasara', 'kubwa', 'sana', '.', 'Kwa', 'mwaka', '2020', 'pekee', 'yake', 'shirika', 'hili', 'limeripoti', 'hasara', 'ya', 'zaidi', 'ya', 'dola', 'milioni', '500', '.', 'Na', 'mpaka', 'hivi', 'sasa', 'shirika', 'la', 'ndege', 'la', 'Ethiopia', 'inakabiliwa', 'na', 'changamoto', 'yakulipa', 'madeni', 'linayodaiwa', 'shirika', 'hilo', 'kutokana', 'na', 'kuzuia', 'baadhi', 'ya', 'safari', 'zake', 'sababu', 'ya', 'changamoto', 'za', 'ugonjwa', 'wa', 'COVID', '19', '.', 'Shirika', 'la', 'ndege', 'la', 'Afrika', 'Kusini', '(', 'South', 'Afrika', 'Airways', ')', 'nalo', 'linajiendesha', 'kwa', 'hasara', 'kubwa', 'kwani', 'kwa', 'mwaka', '2020', 'limepata', 'hasara', 'ya', 'zaidi', 'ya', 'R.33', 'bilioni', '.', 'Na', 'kama', 'unavyojua', 'kutokana', 'na', 'hasara', 'shirika', 'hili', 'inalozipata', 'watu', 'mbalimbali', 'wamekuwa', 'wakishinikiza', 'serikali', 'kulibinafsisha', 'shirika', 'hilo', 'kwani', 'kwa', 'sasa', 'shirika', 'hilo', 'ni', 'hasara', 'na', 'mzigo', 'kwa', 'watu', 'wa', 'Afrika', 'Kusini', '.', 'Tatizo', 'kubwa', 'la', 'mashirika', 'hayo', 'ya', 'ndege', 'za', 'Afrika', 'kutokufanya', 'vizuri', 'zipo', 'nyingi', 'japo', 'hivi', 'sasa', 'mashirika', 'haya', 'yanajificha', 'katika', 'kivuli', 'cha', 'Corona', '(', 'COVID', '-19', ')', 'lakini', 'ukweli', 'utaendeelea', 'kubakia', 'kuwa', 'hata', 'kabla', 'ya', 'COVID', '-19', 'bado', 'mashirika', 'hayo', 'yalikuwa', 'yakijiendesha', 'kwa', 'hasara', 'kubwa', 'tofauti', 'na', 'ilivyodhaniwa', 'katika', 'kuanzishwa', 'kwake', '.', 'Yapo', 'mashirika', 'yanayofanya', 'vizuri', 'kibiashara', 'pamoja', 'na', 'janga', 'la', 'COVID-19', '.', 'Mfano', 'Mashirika', 'ya', 'ndege', 'ambayo', 'pamoja', 'na', 'corona', 'yameendelea', 'kufanya', 'vizuri', 'kutokana', 'na', 'kujidhatiti', 'kibiashara', 'ni', 'pamoja', 'na', ';', 'Shirika', 'la', 'Emirates', 'ambalo', 'pamoja', 'na', 'corona', 'janga', 'la', 'corona', 'kwa', 'mwaka', '2020', 'lilitengeneza', 'faida', 'ya', 'dola', 'milioni', '456', '(', '$', '456', ')', '.', 'Shirika', 'la', 'ndege', 'la', 'Singapore', 'Airlines', 'likitengeneza', 'faida', 'ya', '59.1', 'bilioni', 'Singapore', 'dola', '.', 'Shirika', 'la', 'ndege', 'Etihad', 'Airline', 'likitengeneza', 'faida', 'ya', 'dola', 'bilioni', '1.7', '(', '$', '1.7', ')', 'wakati', 'mwaka', '2019', 'likitengeneza', 'faida', 'ya', 'dola', '2.7', '.', 'Kuweza', 'kuokoa', 'mashirika', 'ya', 'ndege', 'ya', 'nchi', 'za', 'Afrika', 'hatua', 'za', 'kimakusudi', 'za', 'kibiashara', 'lazima', 'zichukuliwe', 'tofauti', 'na', 'hatua', 'zinazochukuliwa', 'hivi', 'sasa', 'ambazo', 'ni', 'za', 'kisiasa', 'tu', 'na', 'siyo', 'za', 'kitaalamu', 'ambazo', 'zinazingatia', 'ufanye', 'wa', 'biashara', 'za', 'ndege', '.', 'Vinginevyo', 'mashirika', 'haya', 'yataendelea', 'kuwa', 'hasara', 'na', 'mzigo', 'kwa', 'Serikali', 'na', 'wananchi', 'na', 'hivyo', 'kupelekea', 'kurudi', 'nyuma', 'zaidi', 'kimaendeleo', 'kwani', 'fedha', 'nyingi', 'badala', 'ya', 'kupelekwa', 'kwenye', 'maendeleo', 'ya', 'wananchi', 'zitakuwa', 'zikipelekwa', 'kwenye', 'kuokoa', 'mashirika', 'haya', 'kutokana', 'na', 'hasara', 'mashirika', 'haya', 'yanazozipata', '.', 'Serikali', 'ya', 'nchi', 'za', 'Afrika', 'ili', 'kuweza', 'kufanikiwa', 'katika', 'aina', 'hii', 'ya', 'biashara', 'lazima', 'wakubali', 'kujifunza', 'zaidi', 'kutoka', 'kwenye', 'mashirika', 'yanayofanya', 'vizuri', 'kwenye', 'uwanda', 'huu', 'ilikujipatia', 'uzoefu', 'na', 'mbinu', 'za', 'namna', 'za', 'kuendesha', 'mashirika', 'haya', 'kwa', 'faida', 'zaidi', '.', 'Mfano', 'wa', 'mashirika', 'hayo', 'ni', 'pamoja', 'na', 'Air', 'Canada', ',', 'Delta', 'Airlines', ',', 'American', 'Airlines', 'na', 'Singapore', 'Airlines', '.']\n",
      "\n",
      " Number of Words:  1106\n"
     ]
    }
   ],
   "source": [
    "file=\"21march30.txt\"\n",
    "\n",
    "# calling the function and storing the contents in a text variable \n",
    "text = get_document(\"https://www.bbc.com/swahili/56573287\")\n",
    "\n",
    "# calling the store_ document function \n",
    "store_document(doc=text,name=file)\n",
    "\n",
    "#add the words in this file to the total_corpus_words, to keep count of the number of words in the corpus\n",
    "total_corpus_words+=total_words(file)"
   ]
  },
  {
   "cell_type": "code",
   "execution_count": 56,
   "metadata": {},
   "outputs": [
    {
     "data": {
      "text/plain": [
       "412404"
      ]
     },
     "execution_count": 56,
     "metadata": {},
     "output_type": "execute_result"
    }
   ],
   "source": [
    "total_corpus_words"
   ]
  },
  {
   "cell_type": "code",
   "execution_count": 57,
   "metadata": {},
   "outputs": [
    {
     "name": "stdout",
     "output_type": "stream",
     "text": [
      "['Virusi', 'vya', 'Corona', ':', 'Aina', 'mbali', 'mbali', 'za', 'chanjo', 'zinazotolewa', 'Kenya', 'zawagawanya', 'walionacho', 'na', 'walala', 'hoi', '31', 'Machi', '2021', 'Chanzo', 'cha', 'picha', ',', 'Getty', 'Images', 'Maelezo', 'ya', 'picha', ',', 'Sputnik', 'V', 'inadaiwa', 'kuwa', 'na', 'uwezo', 'wa', 'kinga', 'wa', 'asilimia', '91.6', 'ilhali', 'AstraZeneca', 'ina', 'kiwango', 'cha', 'kinga', 'cha', 'asilimia', '76', '.', 'Utoaji', 'wa', 'chanjo', 'ya', 'Urusi', 'ya', 'Sputnik', 'V', 'umezua', 'mjadala', 'mkubwa', 'nchini', 'Kenya', 'kuhusu', 'utaratibu', 'wa', 'kuiidhinisha', 'na', 'wanaopewa', 'chanjo', 'hiyo', 'kwani', 'imefungua', 'wazi', 'tofauti', 'kati', 'ya', 'walio', 'navyo', 'na', 'wasio', 'navyo', '.', 'Kwa', 'mujibu', 'wa', 'matangazo', 'ya', 'mitandaoni', 'kuhusu', 'chanjo', 'hiyo', ',', 'gharama', 'yake', 'ni', 'kati', 'ya', 'shilingi', '6000', 'hadi', '9000', 'na', 'baadhi', 'ya', 'watu', 'wamethibitisha', 'kuipokea', '.', 'Hali', 'ni', 'tofauti', 'na', 'chanjo', 'ya', 'AstraZeneca', 'ambayo', 'inatolewa', 'na', 'serikali', 'kwa', 'wananchi', 'bila', 'malipo', 'Utata', 'umetokana', 'na', 'nini', '?', 'Hali', 'inayozua', 'maswali', 'kuliko', 'majibu', 'ni', 'kwamba', 'baada', 'ya', 'kuibuka', 'hofu', 'kuhusu', 'usalama', 'wa', 'chanjo', 'ya', 'AstraZeneca', 'wengi', 'walianza', 'kujiuliza', 'kuhusu', 'mbadala', 'unaoweza', 'kutumika', 'na', 'hapo', 'ndipo', 'chanjo', 'hiyo', 'ya', 'Urusi', 'ilipoanza', 'kuangaziwa', '.', 'Iliingizwa', 'nchini', 'Kenya', 'katika', 'hali', 'iyo', 'hiyo', 'ya', 'usiri', 'ingawaje', 'wengi', 'wanaodungwa', 'chanjo', 'hiyo', 'wamevutiwa', 'na', 'kiwango', 'chake', 'cha', 'juu', 'cha', 'kinga', 'dhidi', 'ya', 'Chanjo', 'nyinginezo', '.', 'Sputnik', 'V', 'inadaiwa', 'kuwa', 'na', 'uwezo', 'wa', 'kinga', 'wa', 'asilimia', '91.6', 'ilhali', 'AstraZeneca', 'ina', 'kiwango', 'cha', 'kinga', 'cha', 'asilimia', '76', '.', 'Serikali', 'ya', 'Urusi', 'ilikuwa', 'awali', 'imejitenga', 'na', 'makubaliano', 'ya', 'kuingizwa', 'chanjo', 'hiyo', 'Kenya', 'ikisema', 'wafanyibiashara', 'wa', 'kibinafsi', 'wanaohusika', 'na', 'kuileta', 'chanjo', 'hiyo', 'wana', 'jukumu', 'la', 'kufuata', 'sheria', 'zote', 'za', 'Kenya', '.', 'Kaimu', 'Mkurugenzi', 'wa', 'Afya', 'Dr', 'Patrick', 'Amoth', 'siku', 'ya', 'Jumanne', 'aliwaambia', 'Wabunge', 'na', 'Maseneta', 'kwamba', 'kampuni', 'ya', 'Dinlas', 'Pharma', 'EPZ', 'haikuwa', 'imeafikia', 'masharti', 'yote', 'yafaayo', 'kwa', 'chanjo', 'hiyo', 'kuanza', 'kuuzwa', 'na', 'kutolewa', 'nchini', '.', 'WHO', 'haijaidhinisha', 'matumizi', 'ya', 'Sputnik', 'V', 'Dkt', 'Amoth', 'aliwaeleza', 'Wabunge', 'na', 'Maseneta', 'kwamba', 'Kenya', 'inalenga', 'tu', 'kuidhinisha', 'chanjo', 'ambazo', 'zimeidhinishwa', 'na', 'shirika', 'la', 'Afya', 'Duniani', 'WHO', 'na', 'Sputnik', 'sio', 'mojawapo', 'ya', 'chanjo', 'hizo', '.', 'Kando', 'na', 'chanjo', 'ya', 'AstraZeneca', ',', 'iliyotolewa', 'kupitia', 'mpango', 'wa', 'Covax', 'Kenya', 'inazingatia', 'kununua', 'chanjo', 'ya', 'Johnson', 'and', 'Johnson', 'inayotengezwa', 'nchini', 'Afrika', 'Kusini', 'na', 'ni', 'dozi', 'inayotolewa', 'kwa', 'sindano', 'moja', 'tu', '.', 'Uhaba', 'wa', 'chanjo', 'ya', 'AstraZeneca', 'Wakati', 'mjadala', 'kuhusu', 'matumizi', 'ya', 'chanjo', 'hiyo', 'ya', 'Urusi', 'ukiendelea', 'Hospitali', 'mbali', 'mbali', 'za', 'kibinafsi', 'jijini', 'Nairobi', 'zikiwemo', 'Karen', 'Hospital', ',', 'Hospitali', 'ya', 'chuo', 'kikuu', 'cha', 'Aga', 'Khan', 'na', 'Nairobi', 'Hospital', 'zimetangaza', 'kusitisha', 'kutoa', 'chanjo', 'ya', 'Covid-19', 'kutokana', 'na', 'uhaba', 'wake', ',', 'licha', 'ya', 'serikali', 'kuwa', 'na', 'zaidi', 'ya', 'dozi', 'milioni', 'moja', '.', 'Hospitali', 'ya', 'Aga', 'Khan', 'ilitangaza', 'kwamba', 'itaendelea', 'na', 'huduma', 'za', 'utoaji', 'chanjo', 'wakati', 'itakapopata', 'chanjo', 'zaidi', 'kutoka', 'kwa', 'serikali', '.', 'Wizara', 'ya', 'Afya', 'siku', 'ya', 'Jumanne', 'ilisema', 'ni', 'watu', '130,575', 'pekee', 'ambao', 'wamechanjwa', 'kote', 'nchini', 'kufikia', 'sasa', ',', 'licha', 'ya', 'dozi', '806,000', 'kusambazwa', 'kati', 'ya', 'dozi', 'milioni', '1.12', 'zilizopo', '.', 'Hayo', 'yanajiri', 'baada', 'ya', 'hospitali', 'nyingine', 'ya', 'kibinafsi', 'kuanza', 'kutoza', 'ada', 'ya', 'kupata', 'chanjo', 'ya', 'corona', 'ya', 'Sputnik', 'V', 'ya', 'Urusi', ',', 'ambayo', 'serikali', 'imetoa', 'tahadhari', 'dhidi', 'ya', 'utumiaji', 'na', 'usambazaji', 'wake', '.', 'Serikali', 'ya', 'Kenya', 'imeidhinisha', 'matumizi', 'ya', 'chanjo', 'ya', 'Oxford-AstraZeneca', '.', 'Viongozi', \"'waongozakwa\", 'mfano', \"'\", 'kwa', 'kuchanjwa', 'Katika', 'jitihada', 'za', 'kuwahamasisha', 'wakenya', 'wengi', 'kujitokeza', 'ili', 'kukubali', 'kuchanjwa', 'rais', 'Uhuru', 'Kenyatta', 'na', 'maafisa', 'wake', 'wakuu', 'walichanjwa', 'hadharani', 'wiki', 'iliyopita', 'na', 'wakatoa', 'himizo', 'kwa', 'wananchi', 'kukubali', 'kuchanjwa', '.', 'Rais', 'na', 'mkewe', 'walichanjwa', 'katika', 'siku', 'ambayo', 'alitangaza', 'masharti', 'zaidi', 'ya', 'kuzuia', 'msambao', 'wa', 'virusi', 'vya', 'Corona', 'ambapo', 'alizuia', 'usafiri', 'wa', 'kuingia', 'na', 'kuondoka', 'katika', 'kaunti', 'tano', 'ikiwemo', 'mji', 'mkuu', 'Nairobi', '.', 'Kinachosalia', 'wazi', 'hata', 'hivyo', 'ni', 'kwamba', 'siku', 'zijazo', ',', 'suala', 'la', 'ni', 'chanjo', 'ipi', 'inapewa', 'nani', 'litakuwa', 'kubwa', 'kuliko', 'ilivyo', 'sasa', '.Tayari', 'kuna', 'foleni', 'ndefu', 'ambazo', 'zimeanza', 'kushuhudiwa', 'katika', 'vituo', 'vingi', 'vya', 'afya', 'ya', 'watu', 'wanaotaka', 'kuchanjwa', '.', 'Kinachowahofisaha', 'wengi', 'ni', 'kwamba', 'baada', 'ya', 'kuripotiwa', 'kuwepo', 'uhaba', 'wa', 'chanjo', 'inayotolewa', 'na', 'serikali', 'huenda', 'baadhi', 'ya', 'watu', 'wakalazimika', 'kutoa', 'kiasi', 'kikubwa', 'cha', 'fedha', 'kupewa', 'chanjo', 'zinazouzwa', 'kwa', 'kiasi', 'cha', 'juu', 'cha', 'fedha', 'kama', 'hiyo', 'ya', 'Sputnik', 'V']\n",
      "\n",
      " Number of Words:  636\n"
     ]
    }
   ],
   "source": [
    "file=\"21march31.txt\"\n",
    "\n",
    "# calling the function and storing the contents in a text variable \n",
    "text = get_document(\"https://www.bbc.com/swahili/habari-56590559\")\n",
    "\n",
    "# calling the store_ document function \n",
    "store_document(doc=text,name=file)\n",
    "\n",
    "#add the words in this file to the total_corpus_words, to keep count of the number of words in the corpus\n",
    "total_corpus_words+=total_words(file)"
   ]
  },
  {
   "cell_type": "code",
   "execution_count": 58,
   "metadata": {},
   "outputs": [
    {
     "data": {
      "text/plain": [
       "413040"
      ]
     },
     "execution_count": 58,
     "metadata": {},
     "output_type": "execute_result"
    }
   ],
   "source": [
    "total_corpus_words"
   ]
  },
  {
   "cell_type": "code",
   "execution_count": 59,
   "metadata": {},
   "outputs": [
    {
     "name": "stdout",
     "output_type": "stream",
     "text": [
      "['Kenya', ',', 'Ufilipino', ',', 'Bangladesh', 'zitawekewa', 'marufuku', 'ya', 'kuingia', 'Uingereza', 'Kenya', 'imeongezwa', 'kwenye', 'orodha', 'ya', 'Uingereza', 'ya', 'vikwazo', 'vya', 'kusafiri', 'huku', 'kukiwa', 'na', 'wasiwasi', 'juu', 'ya', 'kuenea', 'kwa', 'aina', 'mpya', 'ya', 'virusi', 'vya', 'corona', '.', 'Kuanzia', 'tarehe', '9', 'Aprili', ',', 'wageni', 'wa', 'kimataifa', 'ambao', 'wamesafiri', 'kutoka', 'au', 'kupitia', 'Kenya', ',', 'pamoja', 'na', 'Ufilipino', ',', 'Pakistan', ',', 'na', 'Bangladesh', 'katika', 'siku', '10', 'zilizopita', 'hawataruhusiwa', 'kuingia', 'Uingereza', '.', 'Wamiliki', 'wa', 'pasi', 'za', 'kusafiria', 'za', 'Uingereza', 'au', 'Ireland', ',', 'au', 'watu', 'walio', 'na', 'haki', 'za', 'makazi', 'ya', 'Uingereza', 'hata', 'hivyo', 'hawaguswi', 'na', 'marufuku', 'hii', ',', 'lakini', 'lazima', 'wawekwe', 'karantini', 'kwa', 'siku', '10', ',', 'katika', 'hoteli', 'iliyoidhinishwa', 'na', 'serikali', ',', 'kwa', 'gharama', 'zao', '.', 'Pia', 'watalazimika', 'kuchukua', 'vipimo', 'viwili', 'vya', 'virusi', 'vya', 'corona', '-', 'lakini', 'matokeo', 'hasi', 'ya', 'vipimo', '(', 'negative', ')', 'hayamaanishi', 'kuwa', 'wanaweza', 'kufupisha', 'muda', 'wao', 'katika', 'karantini', '.', 'Hakuna', 'marufuku', 'ya', 'moja', 'kwa', 'moja', 'ya', 'kusafiri', 'kutoka', 'nchi', 'hizo', 'itakayowekwa', 'lakini', 'abiria', 'wanashauriwa', 'kuangalia', 'mipango', 'yao', 'ya', 'kusafiri', 'kabla', 'ya', 'kuondoka', 'kwenda', 'Uingereza', '.', 'Ubalozi', 'wa', 'Uingereza', 'umeiarifu', 'Kenya', 'kuhusu', 'mipango', 'ya', 'kuiongeza', 'Kenya', 'katika', 'orodha', 'ya', 'karantini', 'inayohusisha', 'ugonjwa', 'wa', 'Covid-19', '.', 'Taarifa', 'kutoka', 'ubalozi', 'ilisema', 'uamuzi', 'mgumu', 'ulichukuliwa', 'na', 'Mawaziri', 'wa', 'Uingereza', 'Machi', '31', 'kufuatia', 'tathimini', 'ya', 'ushahidi', 'wa', 'hivi', 'karibuni', 'wa', 'kisayansi', 'unaohusu', 'hatari', 'ya', 'usambaaji', 'wa', 'Covid-19', 'katika', 'jamii', '.', 'Wanadiplomasia', 'nchini', 'Uingereza', ',', 'maafisa', ',', 'watumishi', 'au', 'wawakilishi', 'wa', 'mashirika', 'ya', 'kimataifa', ',', 'na', 'wale', 'walio', 'na', 'kinga', 'za', 'kidiplomasia', ',', 'na', 'familia', 'zao', 'au', 'wategemezi', ',', 'hata', 'hivyo', ',', 'hawahitaji', 'kujaza', 'fomu', 'za', 'abiria', 'na', 'hawalazimiki', 'kupima', 'virusi', 'vya', 'corona', '.', 'Pia', 'hawatalazimika', 'kukaa', 'karantini', 'katika', 'hoteli', 'iliyoidhinishwa', 'na', 'serikali', '.', 'Wataombwa', 'kujitenga', 'katika', 'eneo', 'watakaloishi', 'nchini', 'Uingereza', 'kwa', 'siku', '10', 'baada', 'ya', 'kuwasili', '.', 'Ubalozi', 'wa', 'Uingereza', 'umesema', 'hizi', 'ni', 'hatua', 'za', 'muda', 'mfupi', 'na', 'zitakuwa', 'zikipitiwa', '.', 'Vizuizi', 'vya', 'kusafiri', 'vitabaki', 'tu', 'wakati', 'kiwango', 'cha', 'hatari', 'kinatathminiwa', 'ili', 'kuhalalisha', 'hatua', 'hizi', '.', 'Nchi', 'kadhaa', 'pamoja', 'na', 'Ureno', 'na', 'Mauritius', 'zimeondolewa', 'kwenye', 'orodha', 'ya', 'karantini', 'kwa', 'sababu', 'ya', 'hatua', 'zilizoletwa', 'kupunguza', 'hatari', 'inayosababishwa', 'na', 'aina', 'tofauti', 'za', 'virusi', 'vya', 'corona', ',', 'pamoja', 'na', 'kuongezeka', 'kwa', 'ufuatiliaji', 'kupunguza', 'hatari', 'inayosababishwa', 'na', 'virusi', '.']\n",
      "\n",
      " Number of Words:  348\n"
     ]
    }
   ],
   "source": [
    "file=\"21april2.txt\"\n",
    "\n",
    "# calling the function and storing the contents in a text variable \n",
    "text = get_document(\"https://www.bbc.com/swahili/habari-56614706\")\n",
    "\n",
    "# calling the store_ document function \n",
    "store_document(doc=text,name=file)\n",
    "\n",
    "#add the words in this file to the total_corpus_words, to keep count of the number of words in the corpus\n",
    "total_corpus_words+=total_words(file)"
   ]
  },
  {
   "cell_type": "code",
   "execution_count": 60,
   "metadata": {},
   "outputs": [
    {
     "data": {
      "text/plain": [
       "413388"
      ]
     },
     "execution_count": 60,
     "metadata": {},
     "output_type": "execute_result"
    }
   ],
   "source": [
    "total_corpus_words"
   ]
  },
  {
   "cell_type": "code",
   "execution_count": 61,
   "metadata": {},
   "outputs": [
    {
     "name": "stdout",
     "output_type": "stream",
     "text": [
      "['Kenya', 'yajibu', 'marufuku', 'ya', 'Uingereza', 'kwa', 'kuwawekea', 'raia', 'wa', 'nchi', 'hiyo', 'masharti', '4', 'Aprili', '2021', 'Chanzo', 'cha', 'picha', ',', 'Serikali', 'ya', 'Uingereza', 'Kenya', 'imejibu', 'marufuku', 'ya', 'Uingereza', 'kwa', 'kuwawekea', 'raia', 'wa', 'nchi', 'hiyo', 'watakaowasili', 'sharti', 'la', 'kuwa', 'karantini', 'kwa', 'siku', '14', '.', 'Raia', 'wa', 'Uingereza', 'watakapokuwa', 'wamejitenga', ',', 'watahitajika', 'kupimwa', 'ikiwa', 'wamepata', 'maambukizi', 'ya', 'virusi', 'vya', 'corona', 'au', 'la', 'mara', 'mbili', 'siku', 'ya', 'pili', 'na', 'ya', 'nane', 'wakiwa', 'karantini', 'kwa', 'gharama', 'zao', 'wenyewe', '.', 'Pia', 'katika', 'taarifa', 'hiyo', 'iliyotolewa', 'Jumamosi', ',', 'ilisema', 'kuwa', 'masharti', 'hayo', 'yanaanza', 'kutekelezwa', 'saa', 'sita', 'usiku', 'wa', 'Aprili', '9', ',', '2021', '.', 'Hata', 'hivyo', ',', 'ndege', 'za', 'kubeba', 'mizigo', 'kati', 'ya', 'nchi', 'hizo', 'mbili', 'zitaendelea', 'kufanya', 'kazi', 'kwa', 'kuzingatia', 'masharti', 'mengine', 'yatakayotangazwa', '.', 'Aidha', ',', 'raia', 'wa', 'Kenya', 'wanaoishi', 'Uingereza', 'au', 'watakaopitia', 'viwanja', 'vya', 'ndege', 'vya', 'Uingereza', 'kuingia', 'Kenya', 'hawataguswa', 'na', 'masharti', 'hayo', 'mapya', '.', 'Hatua', 'ya', 'Kenya', 'imewadia', 'baada', 'ya', 'Uingereza', 'kufanya', 'maamuzi', 'ya', 'kuijumuisha', 'Kenya', 'kwenye', 'orodha', 'ya', 'watakaopigwa', 'marufuku', 'kuingia', 'nchini', 'humo', 'kama', 'njia', 'moja', 'ya', 'kudhibiti', 'maambukizi', 'ya', 'virusi', 'vya', 'corona', '.', 'Wizara', 'ya', 'mambo', 'ya', 'nje', 'ya', 'Kenya', 'ilisema', 'kwamba', 'hatua', 'iliyochukuliwa', 'na', 'Uingereza', 'inatatiza', 'hasa', 'baada', 'ya', 'ushirikiano', 'wa', 'muda', 'mrefu', 'kati', 'ya', 'nchi', 'hizo', 'mbili', '.', '``', 'Uamuzi', 'uliochukuliwa', 'na', 'Uingereza', 'utaathiri', 'Kenya', 'kwa', 'kiasi', 'kikubwa', 'hasa', 'kibiashara', 'kati', 'ya', 'Kenya', 'na', 'Uingereza', ',', 'usafiri', ',', 'utalii', 'na', 'ushirikiano', 'wa', 'kiusalama', ',', \"''\", 'Wizara', 'ilisema', '.', 'Pia', 'wizara', 'ya', 'Kenya', 'ilisistiza', 'kuwa', 'hatua', 'ya', 'uamuzi', 'huo', 'utatatiza', 'shughuli', 'za', 'nchi', 'hizo', 'mbili', 'hasa', 'ikizingatiwa', 'kwamba', 'zimekuwa', 'na', 'ushirikiano', 'wa', 'nyanja', 'mbalimbali', 'kama', 'vile', 'afya', ',', 'elimu', 'na', 'hata', 'baina', 'ya', 'watu', '.', '``', 'Zaidi', ',', 'uamuzi', 'huo', 'wa', 'upande', 'mmoja', 'haukuakisi', 'mantiki', 'na', 'ufahamu', 'wa', 'kisayansi', 'kuhusu', 'ugonjwa', 'huo', 'au', 'kusambaa', 'kwa', 'janga', '.', 'Badala', 'yake', 'unaonekana', 'kuchochewa', 'na', 'sera', 'ya', 'kubaguzi', 'dhidi', 'ya', 'mataifa', 'mengine', 'na', 'watu', 'wake', \"''\", '.', 'Serikali', 'ya', 'Kenya', 'pia', 'ilizungumzia', 'kusikitishwa', 'na', 'kile', 'ilicho', 'kiita', 'ubaguzi', 'wa', 'chanjo', 'ambapo', 'nchi', 'zinazotengeneza', 'chanjo', 'sasa', 'zinabagua', 'nchi', 'zingine', 'na', 'kuamua', 'kijiwekea', 'akiba', '.', '``', 'Kenya', 'bado', 'imesalia', 'na', 'maoni', 'yake', 'kwamba', 'serikali', 'ya', 'Uingereza', 'ingeiunga', 'mkono', 'kwa', 'kuipatia', 'chanjo', '.', 'Hii', 'ni', 'baada', 'ya', 'Kenya', 'kuiomba', 'Uingereza', 'kuigawanya', 'chanjo', 'zake', 'ambayo', 'inafahamu', 'kwamba', 'ina', 'idadi', 'kubwa', 'kuliko', 'zile', 'inazotumia', 'kwa', 'sasa', \"''\", '.', 'Wizara', 'ya', 'mambo', 'ya', 'nje', 'iliongeza', 'kuwa', 'wimbi', 'la', 'tatu', 'la', 'maambukizi', 'ambalo', 'Kenya', 'inakabiliana', 'nalo', 'sasa', 'hivi', 'na', 'hatua', 'ilizochukua', ',', 'ni', 'mfano', 'vile', 'Wakenya', 'walivyojitolea', 'kuhakikisha', 'ugonjwa', 'wa', 'corona', 'hausambai', 'ama', 'nchini', 'Kenya', 'au', 'kwingineko', 'duniani', '.', 'Pia', 'Kenya', 'imezungumzia', 'ufahamu', 'kwa', 'kwamba', 'chimbuko', 'la', 'ugonjwa', 'huo', 'sio', 'Afrika', ',', 'hauna', 'mipaka', 'na', 'wala', 'haujakuwepo', 'kwa', 'muda', 'mrefu', 'kwa', 'mwanadamu', 'kuweza', 'kuelewa', 'mabadiliko', 'ya', 'siku', 'za', 'usoni', '.']\n",
      "\n",
      " Number of Words:  438\n"
     ]
    }
   ],
   "source": [
    "file=\"21april4.txt\"\n",
    "\n",
    "# calling the function and storing the contents in a text variable \n",
    "text = get_document(\"https://www.bbc.com/swahili/habari-56631956\")\n",
    "\n",
    "# calling the store_ document function \n",
    "store_document(doc=text,name=file)\n",
    "\n",
    "#add the words in this file to the total_corpus_words, to keep count of the number of words in the corpus\n",
    "total_corpus_words+=total_words(file)"
   ]
  },
  {
   "cell_type": "code",
   "execution_count": 62,
   "metadata": {},
   "outputs": [
    {
     "data": {
      "text/plain": [
       "413826"
      ]
     },
     "execution_count": 62,
     "metadata": {},
     "output_type": "execute_result"
    }
   ],
   "source": [
    "total_corpus_words"
   ]
  },
  {
   "cell_type": "code",
   "execution_count": 63,
   "metadata": {},
   "outputs": [
    {
     "name": "stdout",
     "output_type": "stream",
     "text": [
      "['Virusi', 'vya', 'Corona', 'Kenya', ':', 'Mwanamke', 'ambaye', 'amekataa', 'kushindwa', 'na', 'virusi', 'Mwanzoni', 'mwa', 'janga', 'la', 'corona', ',', 'Josephine', 'Muchilwa', 'alikuwa', 'akifanya', 'kazi', 'ya', 'upishi', ',', 'lakini', 'kama', 'wengine', 'wengi', 'nchini', 'Kenya', 'na', 'ulimwenguni', 'kote', ',', 'alipoteza', 'kazi', 'yake', '.', 'Mwandishi', 'wa', 'BBC', 'Ed', 'Butler', 'amefuatilia', 'ni', 'kwa', 'namna', 'gani', 'mwanamke', 'huyo', 'alivyomudu', 'hali', 'katika', 'kipindi', 'cha', 'mwaka', 'mmoja', 'uliopita', '.', '``', 'Sina', 'kazi', 'yoyote', ',', 'sina', 'maisha', ',', 'sina', 'chakula', 'chochote', 'cha', 'watoto', 'wangu', '.', \"''\", 'Maelezo', 'hayo', 'ya', 'Josephine', 'ni', 'ukweli', 'ulio', 'wazi', 'juu', 'ya', 'athari', 'za', 'hatua', 'za', 'kudhibiti', 'virusi', 'vya', 'corona', 'zilizowekwa', 'mwaka', 'mmoja', 'kwa', 'watu', 'wengi', 'maskini', '.', 'Siku', 'chache', 'tu', 'baada', 'ya', 'serikali', 'kutangaza', 'hatua', 'kali', 'za', 'kutotoka', 'nje', 'kuzuia', 'kuenea', 'kwa', 'Covid-19', ',', 'mama', 'huyu', 'asiye', 'na', 'mume', ',', 'anayeishi', 'katika', 'mtaa', 'wa', 'mabanda', 'wa', 'Kibera', 'mjini', 'Nairobi', 'alielezea', 'shida', 'ambayo', 'watu', 'wengi', 'walikuwa', 'wakikabiliwa', 'nayo', 'ghafla', '.', 'Kazi', 'yake', 'ya', 'mshahara', 'mdogo', 'kama', 'mpishi', 'wa', 'shule', 'ya', 'hapi', 'mtaani', 'iliisha', 'wakati', 'wanafunzi', 'walipoambiwa', 'kusomea', 'nyumbani', '.', 'Alibaki', 'akijiuliza', 'ni', 'vipi', 'atailisha', 'familia', 'yake', 'ya', 'watoto', 'wanne', '.', '``', 'Ninajadiliana', 'tu', 'na', 'Mungu', ',', \"''\", 'Josephine', 'mwenye', 'umri', 'wa', 'miaka', '31', 'amekiambia', 'kipindi', 'cha', 'BBC', 'cha', 'Business', 'Daily', '.', '``', 'Sijui', 'nifanye', 'nini', '.', \"''\", 'Lakini', 'baada', 'ya', 'kusikia', 'juu', 'ya', 'shida', 'yake', ',', 'wasikilizaji', 'kadhaa', 'wakarimu', 'waliingilia', 'kati', 'na', 'kutoa', 'msaada', '.', 'Haikuwa', 'kiasi', 'kikubwa', '-', 'karibu', '$', '150', '(', 'Pauni', '110', ')', '-', 'lakini', 'ilitosha', 'kumruhusu', 'Josephine', 'kuanzisha', 'biashara', 'ya', 'matunda', 'na', 'mboga', '.', 'Akisafiri', 'kwa', 'basi', 'kwenda', 'kwenye', 'soko', 'kubwa', 'la', 'jumla', 'katikati', 'mwa', 'mji', 'mkuu', 'wa', 'Kenya', ',', 'alinunua', 'magunia', 'ya', 'kilo', '25', 'ya', 'vitunguu', ',', 'nyanya', 'na', 'zaidi', ',', 'akirejesha', 'bidhaa', 'hizo', 'Kibera', 'ambapo', 'alianza', 'kuuza', 'katika', 'kibanda', 'kidogo', 'cha', 'mbao', '.', 'Chanzo', 'cha', 'picha', ',', 'Josephine', 'Muchilwa', 'Josephine', 'kisha', 'akaanza', 'kutuma', 'shajara', 'za', 'sauti', 'kutoka', 'kwa', 'chumba', 'chake', 'kimoja', ',', 'kilichokuwa', 'na', 'ukuta', 'wa', 'matope', 'juu', 'ya', 'juhudi', 'zake', 'za', 'kufanya', 'biashara', 'yake', 'ifaulu', '.', 'Hii', 'ilikuwa', 'ikitokea', 'wakati', 'Kibera', ',', 'ambacho', 'ni', 'kitongoji', 'kikubwa', 'cha', 'mabanda', 'katikati', 'mwa', 'jiji', 'la', 'Nairobi', 'ilipokuwa', 'ikiingia', 'katika', 'hali', 'mbaya', '.', 'Kwa', 'kuwa', 'wakazi', 'wengi', 'wa', 'eneo', 'hili', 'hufanya', 'kazi', 'za', 'nyumbani', ',', 'kusafisha', 'au', 'madereva', ',', 'waliathiriwa', 'vibaya', 'na', 'kuvurugika', 'kwa', 'hali', 'ya', 'uchumi', 'kwani', 'waajiri', 'wao', 'ambao', 'ni', 'matajiri', 'waliwauliza', 'wakae', 'mbali', 'kwa', 'kuhofia', 'wataleta', 'maambukizi', '.', 'Josephine', 'hakuwa', 'na', 'uzoefu', 'kama', 'mfanyabiashara', ',', 'wilaya', 'hiyo', 'ilikuwa', 'chini', 'ya', 'amri', 'ya', 'kutotoka', 'nje', ',', 'kulikuwa', 'na', 'upekuzi', 'wa', 'polisi', 'wa', 'kawaida', 'na', 'vurugu', 'kwa', 'mtu', 'yeyote', 'aliyepatikana', 'baada', 'ya', 'vizuizi', 'kuingia', 'na', 'kusafiri', 'nje', 'ya', 'mipaka', 'ya', 'jiji', 'ilipigwa', 'marufuku', 'kabisa', '.', 'Isitoshe', 'alikuwa', 'na', 'watoto', 'wake', 'wanne', 'aliyofaa', 'kuwajali', 'na', 'kulikuwa', 'na', 'ongezeko', 'la', 'visa', 'vya', 'uhalifu', 'na', 'hofu', 'ya', 'unyanyasaji', 'wa', 'kijinsia', 'katika', 'makazi', 'duni', '.', '``', 'Kesi', 'za', 'ubakaji', 'zinaongezeka', ',', \"''\", 'alisema', '.', '``', 'Nikiacha', 'watoto', 'peke', 'yao', 'mtu', 'yeyote', 'anaweza', 'kuingia', 'na', 'kuwafanyia', 'chochote', '.', \"''\", 'Na', 'pia', 'ni', 'watu', 'wachache', 'sasa', 'waliokuwa', 'na', 'kipato', 'cha', 'kulipia', 'kile', 'alikuwa', 'akiuza', '.', 'Majirani', 'zake', 'kama', 'yeye', 'walikuwa', 'hawana', 'kazi', ',', 'wakiishi', 'kutokana', 'na', 'akiba', 'walizokuwa', 'nazo', '.', 'Kuongezeka', 'kwa', 'madeni', 'ya', 'kibinafsi', 'kama', 'hili', 'inaonekana', 'kuenea', 'katika', 'makazi', 'ya', 'mabanda', '.', 'Mkopeshaji', 'mmoja', ',', 'aliyeitwa', 'Rodgers', ',', 'aliambia', 'BBC', 'kwamba', 'alikuwa', 'ameishiwa', 'pesa', 'ya', 'kukopesh', 'kuonyesha', 'jinsi', 'watu', 'walivyokuwa', 'na', 'uhitaji', 'mkubwa', 'wa', 'fedha', 'Wengi', 'walishindwa', 'kulipa', 'mikopo', ',', 'alisema', ',', 'kwa', 'hivyo', 'alikuwa', 'akiuza', 'bidhaa', 'za', 'nyumbani', 'ambazo', 'walitoa', 'kama', 'dhamana', '.', 'Matarajio', 'ya', 'kulipa', 'mkopo', 'wake', 'yalizidi', 'kuwa', 'mbali', 'wakati', 'mnamo', 'Juni', 'mwaka', 'jana', ',', 'tingatinga', 'za', 'serikali', 'ziliingia', 'kIbera', 'kulima', 'sehemu', 'hiyo', 'ambapo', 'kibanda', 'chake', 'kilikuwepo', 'ili', 'kutengza', 'nafasi', 'ya', 'mradi', 'wa', 'ujenzi', 'wa', 'reli', '.', 'Serikali', 'ilisema', 'waliokuwa', 'wamejenga', 'katika', 'eneo', 'hilo', 'walikuwa', 'wamepewa', 'ilani', 'nyingi', 'kuondoka', '.', 'Lakini', 'kama', 'mpangaji', ',', 'Josephine', 'alisema', 'hakuwa', 'amepewa', 'onyo', 'yoyote', '.', 'Na', 'kuzidisha', 'masaibu', 'hayo', 'ni', 'kwamba', 'alikuwa', 'ameweka', 'tu', 'idadi', 'kubwa', 'ya', 'ya', 'bidhaa', 'zaidi', 'katika', 'kibanda', 'chake', 'amabazo', 'zilipondwa', 'pamoja', 'na', 'kibanada', 'hicho', 'cha', 'mbao', '.', 'Kwa', 'mara', 'nyingine', ',', 'ndoto', 'yake', 'ya', 'kufanikiwa', 'kama', 'mfanyibiashara', 'ilikuwa', 'imevunjika', '.', '``', 'Siku', 'hiyo', 'nililia', 'sana', '-', 'karibu', 'siku', 'tatu', '.', 'Ninahisi', 'uchungu', 'sana', '.', 'Sikuweza', 'hata', 'kula', '.', 'Na', 'ninapoangalia', 'hali', 'ya', 'maisha', 'yangu', 'sasa', ',', 'ikawa', 'ngumu', 'sana', '.', \"''\", 'Janga', 'lenyewe', 'limewapata', 'mamilioni', 'nchini', 'Kenya', 'na', 'kwingineko', 'kwa', 'njia', 'hii', ',', 'inaonekana', '.', 'Chanzo', 'cha', 'picha', ',', 'Josephine', 'Muchilwa', 'Janga', 'lenyewe', 'limewapata', 'mamilioni', 'nchini', 'Kenya', 'na', 'kwingineko', 'kwa', 'njia', 'hii', ',', 'inaonekana', '.', 'Kulingana', 'na', 'takwimu', 'rasmi', 'za', 'serikali', 'kumekuwa', 'na', 'vifo', '2,250', 'vya', 'Covid', 'nchini', 'Kenya', 'ingawa', 'wataalam', 'wengine', 'wanaamini', 'idadi', 'halisi', 'inaweza', 'kuwa', 'kubwa', 'zaidi', 'kuliko', 'hiyo', '.', 'Lakini', 'kwa', 'watu', 'wa', 'Kibera', ',', 'kuna', 'hisia', 'kwamba', 'jamii', 'zao', 'zimekuwa', 'zikilengwa', 'kikatili', 'na', 'masharti', 'ya', 'serikali', 'ya', 'kupambana', 'na', 'kusambaa', 'kwa', 'virusi', 'vya', 'Corona', 'na', 'kwamba', 'hatua', 'ya', 'polisi', 'kutekeleza', 'masharti', 'hayo', 'mara', 'nyingi', 'imekuwa', 'ya', 'kutumia', 'nguvu', 'kupita', 'kiasi', '``', 'Watu', 'hawa', 'wanaoishi', 'chini', 'ya', '$', '2', 'kwa', 'siku', ',', 'wanajua', 'ikiwa', 'utaugua', ',', 'utakufa', ',', \"''\", 'anasema', 'Kennedy', 'Odede', ',', 'mwanaharakati', 'aliyezaliwa', 'Kibera', ',', 'na', 'mwanzilishi', 'wa', 'shirika', 'la', 'uhisani', 'la', 'Shining', 'Hope', '.', '``', 'Tunataka', 'serikali', 'kuhakikisha', 'kuwa', 'makazi', 'duni', 'yanapewa', 'kipaumbele', ',', 'kuhakikisha', 'tunakuwa', 'na', 'barabara', ',', 'huduma', 'bora', 'za', 'afya', ',', 'maji', 'safi', '.', \"''\", 'Lakini', 'serikali', 'haiko', 'tayari', 'kuondoa', 'vizuizi', 'hivyo', 'hivi', 'karibuni', '.', 'Mwezi', 'uliopita', ',', 'amri', 'ya', 'kutotoka', 'nje', 'ya', 'nchi', 'nzima', 'wakati', 'wa', 'usiku', 'iliongezewa', 'muda', 'huku', 'pakiwa', 'na', 'ushahidi', 'kuwepo', 'wimbi', 'la', 'tatu', 'la', 'maambukizo', 'ya', 'Covid', '.', 'Mwaka', 'mmoja', 'baada', 'ya', 'kuzuka', 'kwa', 'ugonjwa', 'huo', ',', 'Josephine', 'anaendelea', 'kuhangaika', '.', 'Bado', 'hana', 'kazi', 'thabiti', 'ya', 'kumpa', 'mapato', 'na', 'watoto', 'wake', 'wanalazimika', 'kuishi', 'kwa', 'bakuli', 'moja', 'ya', 'uji', 'kwa', 'siku', '.', '``', 'Siku', 'moja', 'nina', 'ndoto', 'ya', 'kuwa', 'daktari', ',', \"''\", 'binti', 'yake', 'mkubwa', ',', 'Shamim', 'wa', 'miaka', '11', 'aliniambia', '.', '``', 'Leo', 'naota', 'chakula', '.', \"''\", 'Josephine', 'ameweza', 'kupata', 'kazi', 'za', 'mara', 'kwa', 'mara', 'kama', 'msafishaji', ',', 'lakini', 'mwanamke', 'mmoja', ',', 'aliniambia', ',', 'bado', 'hajamlipa', 'kwa', 'kazi', 'ya', 'siku', 'tatu', '.', 'Lakini', 'kutokana', 'msaada', 'wa', 'Shining', 'Hope', ',', 'sura', 'mpya', 'katika', 'maisha', 'yake', 'inaweza', 'kuanza', 'hivi', 'karibuni', '.', 'Anajifunza', 'kuwa', 'mshonaji', ',', 'ili', 'kupata', 'kazi', 'ambazo', 'wafanyikazi', 'wenzi', 'wenye', 'uzoefu', 'wanadai', 'zinaweza', 'kuwapatia', 'dola', 'kadhaa', 'kwa', 'siku', '.', 'Ingawa', 'masomo', 'ya', 'miezi', '12', 'iliyopita', 'yamekuwa', 'magumu', 'sana', ',', 'Josephine', 'anaendelea', 'kuwa', 'na', 'matumaini', 'kwamba', 'yeye', 'na', 'watoto', 'wake', 'wataibuka', 'washindi', 'kutokana', 'na', 'mateso', 'yote', 'waliyopitia', '.']\n",
      "\n",
      " Number of Words:  1039\n"
     ]
    }
   ],
   "source": [
    "file=\"21april5_1.txt\"\n",
    "\n",
    "# calling the function and storing the contents in a text variable \n",
    "text = get_document(\"https://www.bbc.com/swahili/habari-56638501\")\n",
    "\n",
    "# calling the store_ document function \n",
    "store_document(doc=text,name=file)\n",
    "\n",
    "#add the words in this file to the total_corpus_words, to keep count of the number of words in the corpus\n",
    "total_corpus_words+=total_words(file)"
   ]
  },
  {
   "cell_type": "code",
   "execution_count": 64,
   "metadata": {},
   "outputs": [
    {
     "data": {
      "text/plain": [
       "414865"
      ]
     },
     "execution_count": 64,
     "metadata": {},
     "output_type": "execute_result"
    }
   ],
   "source": [
    "total_corpus_words"
   ]
  },
  {
   "cell_type": "code",
   "execution_count": 65,
   "metadata": {},
   "outputs": [
    {
     "name": "stdout",
     "output_type": "stream",
     "text": [
      "['Kwa', 'nini', 'baadhi', 'ya', 'Wakenya', 'wakerwa', 'na', 'mkopo', 'wa', 'IMF', 'kwa', 'serikali', 'yao', '?', 'Tangazo', 'la', 'Shirika', 'la', 'Fedha', 'Duniani', 'IMF', 'siku', 'ya', 'Ijumaa', 'kwamba', 'limeidhinisha', 'mkopo', 'wa', 'shilingi', 'bilioni', '255', 'au', 'dola', 'bilioni', '2.34', 'kwa', 'serikali', 'ya', 'Kenya', 'limezua', 'hisia', 'kali', 'kutoka', 'kwa', 'baadhi', 'ya', 'wakenya', 'mitandaoni', '.', 'Wengi', 'wameshangaa', 'mbona', 'IMF', 'imeidhinisha', 'mkopo', 'huo', 'ilhali', 'tayari', 'Kenya', 'inazongwa', 'na', 'mzigo', 'mkubwa', 'wa', 'madeni', 'huku', 'wananchi', 'wakilalamikia', 'ongezeko', 'la', 'gharama', 'ya', 'maisha', '.', 'Kero', 'zao', 'hizo', 'walizitoa', 'katika', 'mitandao', 'ya', 'kijamii', 'na', 'hasa', 'kwenye', 'kurasa', 'za', 'akaunti', 'za', 'twitter', 'na', 'facebook', 'za', 'shirika', 'la', 'IMF', '.', 'IMF', 'siku', 'ya', 'ijumaa', 'ilisema', 'imekubali', 'kuipa', 'Kenya', 'mkopo', 'huo', 'ili', 'iweze', 'kukabiliana', 'na', 'athari', 'za', 'kiuchumi', 'za', 'janga', 'la', 'Corona', 'pamoja', 'na', 'kusawazisha', 'mzigo', 'wake', 'wa', 'madeni', '.', 'Isitoshe', 'mkopo', 'huo', 'ndio', 'wa', 'pili', 'chini', 'ya', 'mwaka', 'mmoja', 'ambao', 'Kenya', 'imepokea', 'baada', 'ya', 'kupewa', 'shilingi', 'bilioni', '806', 'mwezi', 'Mei', 'mwaka', 'jana', '.', 'Kenya', 'imesema', 'inalenga', 'kuzitumia', 'fedha', 'hizo', 'kupunguza', 'makali', 'ya', 'janga', 'la', 'Corona', 'kwa', 'uchumi', 'wake', 'na', 'pia', 'kusawazisha', 'madeni', 'yake', '.', 'IMF', 'imesema', 'deni', 'la', 'Kenya', 'linaweza', 'kulipwa', 'lakini', 'Taifa', 'lipo', 'katika', 'hatari', 'ya', 'kushindwa', 'kutekeleza', 'malipo', 'ya', 'madeni', 'yake', 'iwapo', 'hali', 'ilivyo', 'sasa', 'itaendelea', '.', 'Serikali', 'imeshauriwa', 'na', 'IMF', 'kutekeleza', 'mabadiliko', 'mbali', 'mbali', 'ya', 'kimuundo', 'na', 'kiuchumi', 'ili', 'kumudu', 'hali', 'hali', '.', 'Hata', 'hivyo', 'wakenya', 'waliofurika', 'mitandao', 'ya', 'kijamii', 'chini', 'ya', 'hashtag', '#', 'Stoploaningkenya', 'wamekerwa', 'sana', 'na', 'hatua', 'ya', 'IMF', 'kutoa', 'mkopo', 'huo', 'wakisema', 'hawaoni', 'manufaa', 'ambayo', 'yameletwa', 'na', 'kiasi', 'kikubwa', 'cha', 'fedha', 'zinazokopeshwa', 'na', 'serikali', '.Wengi', 'wanawalaumu', 'maafisa', 'wa', 'serikali', 'kwa', 'kutumia', 'vibaya', 'fedha', 'pamoja', 'na', 'kuzifuja', 'nyingine', 'bila', 'kuzingatia', 'maslahi', 'ya', 'wananchi', 'wengi', 'wanaohangaika', '.', 'Kulingana', 'na', 'taarifa', 'ya', 'bajeti', 'ya', 'mwaka', 'wa', '2021', 'Deni', 'la', 'kenya', 'kufikia', 'Juni', '2020', 'lilikuwa', 'shilingi', 'Trilioni', '7.6', 'sawia', 'na', 'asilimia', '65', 'ya', 'jumla', 'ya', 'pato', 'la', 'taifa', '.', 'Waziri', 'wa', 'Fedha', 'wa', 'Kenya', 'Ukur', 'Yatani', 'hata', 'hivyo', 'ametetea', 'kutolewa', 'kwa', 'mkopo', 'huo', 'wa', 'IMF', 'kwa', 'Kenya', '.', 'Yatani', 'ameliambia', 'gazeti', 'moja', 'la', 'nchini', 'humo-The', 'Star', 'kwamba', 'Kenya', 'inalenga', 'kuzitumia', 'shilingi', 'bilioni', '34.5', 'kukabiliana', 'na', 'makali', 'ya', 'janga', 'la', 'Covid', '19', 'na', 'kuwapa', 'afueni', 'wananchi', 'wake', '.', 'Yatani', 'amesema', 'mkopo', 'huo', 'mpya', 'ni', 'mkakati', 'wa', 'serikali', 'kukoma', 'kuchukua', 'mikopo', 'ya', 'kibiashara', '.', 'Waziri', 'huyo', 'amesema', 'janga', 'la', 'Corona', 'limeyumbisha', 'kabisa', 'uchumi', 'wan', 'chi', 'hiyo', 'na', 'fedha', 'zilizochukuliwa', 'zinalenga', 'kutumiwa', 'kuukwamua', 'uchumi', '.', 'Amesema', 'mikopo', 'kama', 'hiyo', 'ndiyo', 'bora', 'ya', 'kuweza', 'kushughulikia', 'upungua', 'wa', 'bajeti', 'ya', 'serikali', 'bila', 'kuhitajika', 'kuchukua', 'mikopo', 'ya', 'kibiashara', 'ambayo', 'inavutia', 'kiasi', 'kikubwa', 'cha', 'riba', '.', 'Masharyi', 'na', 'vikwazo', 'vya', 'kuzuia', 'kusambaa', 'kwa', 'Corona', 'ni', 'hatua', 'ambazo', 'serikali', 'imechukua', 'ila', 'imekuwa', 'na', 'athari', 'kubwa', 'kwani', 'malefu', 'ya', 'watu', 'wamepoteza', 'kazi', 'zao']\n",
      "\n",
      " Number of Words:  433\n"
     ]
    }
   ],
   "source": [
    "file=\"21april5_2.txt\"\n",
    "\n",
    "# calling the function and storing the contents in a text variable \n",
    "text = get_document(\"https://www.bbc.com/swahili/habari-56638500\")\n",
    "\n",
    "# calling the store_ document function \n",
    "store_document(doc=text,name=file)\n",
    "\n",
    "#add the words in this file to the total_corpus_words, to keep count of the number of words in the corpus\n",
    "total_corpus_words+=total_words(file)"
   ]
  },
  {
   "cell_type": "code",
   "execution_count": 66,
   "metadata": {},
   "outputs": [
    {
     "data": {
      "text/plain": [
       "415298"
      ]
     },
     "execution_count": 66,
     "metadata": {},
     "output_type": "execute_result"
    }
   ],
   "source": [
    "total_corpus_words"
   ]
  },
  {
   "cell_type": "code",
   "execution_count": 67,
   "metadata": {},
   "outputs": [
    {
     "name": "stdout",
     "output_type": "stream",
     "text": [
      "['Shirika', 'la', 'Ndege', 'la', 'Kenya', 'kusitisha', 'safari', 'za', 'Uingereza', 'Ijumaa', 'Shirika', 'la', 'Ndege', 'la', 'Kenya', ',', 'Kenya', 'Airways', '(', 'KQ', ')', 'limetangaza', 'kwamba', 'litasitisha', 'safari', 'za', 'kwenda', 'na', 'kuondoka', 'nchini', 'Uingereza', 'kuanzia', 'Ijumaa', 'tarehe', '9', 'mwezi', 'huu', '.', 'Uamuzi', 'huo', 'umechukuliwa', 'kufuatia', 'agizo', 'la', 'serikali', 'ya', 'Kenya', 'kuzuia', 'safari', 'zote', 'za', 'ndege', 'kati', 'ya', 'nchi', 'hizo', 'mbili', 'kuanzia', 'siku', 'hiyo', '.', 'KQ', 'kupitia', 'taarifa', 'imesema', 'imezidisha', 'ndege', 'mbili', 'Zaidi', 'kufanya', 'ziara', 'kati', 'ya', 'nchi', 'hizo', 'mbili', 'tarehe', '7', 'na', 'tarehe', '8', 'mwezi', 'huu', '.KQ', 'imewashauri', 'wateja', 'wake', 'waliokuwa', 'wamekata', 'tiketi', 'za', 'kusafiri', 'kubadilisha', 'tarehe', 'zao', 'za', 'kusafiri', 'au', 'watoe', 'ombi', 'la', 'kurejeshewa', 'fedha', 'walizokuwa', 'wamelipa', 'kama', 'nauli', '.', 'Tiketi', 'zote', 'zinafaa', 'kutumika', 'kufikia', 'tarehe', '31', 'Machi', 'mwaka', 'wa', '2022', '.', 'Kenya', 'iliamua', 'kujibu', 'marufuku', 'ya', 'Uingereza', 'kwa', 'kuwawekea', 'raia', 'wa', 'nchi', 'hiyo', 'watakaowasili', 'sharti', 'la', 'kuwa', 'karantini', 'kwa', 'siku', '14', '.', 'Raia', 'wa', 'Uingereza', 'watakapokuwa', 'wamejitenga', ',', 'watahitajika', 'kupimwa', 'ikiwa', 'wamepata', 'maambukizi', 'ya', 'virusi', 'vya', 'corona', 'au', 'la', 'mara', 'mbili', 'siku', 'ya', 'pili', 'na', 'ya', 'nane', 'wakiwa', 'karantini', 'kwa', 'gharama', 'zao', 'wenyewe', '.', 'Pia', 'katika', 'taarifa', 'hiyo', 'iliyotolewa', 'Jumamosi', ',', 'ilisema', 'kuwa', 'masharti', 'hayo', 'yanaanza', 'kutekelezwa', 'saa', 'sita', 'usiku', 'wa', 'Aprili', '9', ',', '2021', '.', 'Hata', 'hivyo', ',', 'ndege', 'za', 'kubeba', 'mizigo', 'kati', 'ya', 'nchi', 'hizo', 'mbili', 'zitaendelea', 'kufanya', 'kazi', 'kwa', 'kuzingatia', 'masharti', 'mengine', 'yatakayotangazwa', '.', 'Aidha', ',', 'raia', 'wa', 'Kenya', 'wanaoishi', 'Uingereza', 'au', 'watakaopitia', 'viwanja', 'vya', 'ndege', 'vya', 'Uingereza', 'kuingia', 'Kenya', 'hawataguswa', 'na', 'masharti', 'hayo', 'mapya', '.', 'Hatua', 'ya', 'Kenya', 'imewadia', 'baada', 'ya', 'Uingereza', 'kufanya', 'maamuzi', 'ya', 'kuijumuisha', 'Kenya', 'kwenye', 'orodha', 'ya', 'watakaopigwa', 'marufuku', 'kuingia', 'nchini', 'humo', 'kama', 'njia', 'moja', 'ya', 'kudhibiti', 'maambukizi', 'ya', 'virusi', 'vya', 'corona', '.', 'Wizara', 'ya', 'mambo', 'ya', 'nje', 'ya', 'Kenya', 'ilisema', 'kwamba', 'hatua', 'iliyochukuliwa', 'na', 'Uingereza', 'inatatiza', 'hasa', 'baada', 'ya', 'ushirikiano', 'wa', 'muda', 'mrefu', 'kati', 'ya', 'nchi', 'hizo', 'mbili', '.', '``', 'Uamuzi', 'uliochukuliwa', 'na', 'Uingereza', 'utaathiri', 'Kenya', 'kwa', 'kiasi', 'kikubwa', 'hasa', 'kibiashara', 'kati', 'ya', 'Kenya', 'na', 'Uingereza', ',', 'usafiri', ',', 'utalii', 'na', 'ushirikiano', 'wa', 'kiusalama', ',', \"''\", 'Wizara', 'ilisema', '.', 'Chanzo', 'cha', 'picha', ',', 'Serikali', 'ya', 'Uingereza', 'Pia', 'wizara', 'ya', 'Kenya', 'ilisistiza', 'kuwa', 'hatua', 'ya', 'uamuzi', 'huo', 'utatatiza', 'shughuli', 'za', 'nchi', 'hizo', 'mbili', 'hasa', 'ikizingatiwa', 'kwamba', 'zimekuwa', 'na', 'ushirikiano', 'wa', 'nyanja', 'mbalimbali', 'kama', 'vile', 'afya', ',', 'elimu', 'na', 'hata', 'baina', 'ya', 'watu', '.', '``', 'Zaidi', ',', 'uamuzi', 'huo', 'wa', 'upande', 'mmoja', 'haukuakisi', 'mantiki', 'na', 'ufahamu', 'wa', 'kisayansi', 'kuhusu', 'ugonjwa', 'huo', 'au', 'kusambaa', 'kwa', 'janga', '.', 'Badala', 'yake', 'unaonekana', 'kuchochewa', 'na', 'sera', 'ya', 'kubaguzi', 'dhidi', 'ya', 'mataifa', 'mengine', 'na', 'watu', 'wake', \"''\", '.', 'Serikali', 'ya', 'Kenya', 'pia', 'ilizungumzia', 'kusikitishwa', 'na', 'kile', 'ilicho', 'kiita', 'ubaguzi', 'wa', 'chanjo', 'ambapo', 'nchi', 'zinazotengeneza', 'chanjo', 'sasa', 'zinabagua', 'nchi', 'zingine', 'na', 'kuamua', 'kijiwekea', 'akiba', '.', '``', 'Kenya', 'bado', 'imesalia', 'na', 'maoni', 'yake', 'kwamba', 'serikali', 'ya', 'Uingereza', 'ingeiunga', 'mkono', 'kwa', 'kuipatia', 'chanjo', '.', 'Hii', 'ni', 'baada', 'ya', 'Kenya', 'kuiomba', 'Uingereza', 'kuigawanya', 'chanjo', 'zake', 'ambayo', 'inafahamu', 'kwamba', 'ina', 'idadi', 'kubwa', 'kuliko', 'zile', 'inazotumia', 'kwa', 'sasa', \"''\", '.', 'Wizara', 'ya', 'mambo', 'ya', 'nje', 'iliongeza', 'kuwa', 'wimbi', 'la', 'tatu', 'la', 'maambukizi', 'ambalo', 'Kenya', 'inakabiliana', 'nalo', 'sasa', 'hivi', 'na', 'hatua', 'ilizochukua', ',', 'ni', 'mfano', 'vile', 'Wakenya', 'walivyojitolea', 'kuhakikisha', 'ugonjwa', 'wa', 'corona', 'hausambai', 'ama', 'nchini', 'Kenya', 'au', 'kwingineko', 'duniani', '.', 'Pia', 'Kenya', 'imezungumzia', 'ufahamu', 'kwa', 'kwamba', 'chimbuko', 'la', 'ugonjwa', 'huo', 'sio', 'Afrika', ',', 'hauna', 'mipaka', 'na', 'wala', 'haujakuwepo', 'kwa', 'muda', 'mrefu', 'kwa', 'mwanadamu', 'kuweza', 'kuelewa', 'mabadiliko', 'ya', 'siku', 'za', 'usoni', '.']\n",
      "\n",
      " Number of Words:  544\n"
     ]
    }
   ],
   "source": [
    "file=\"21april5_3.txt\"\n",
    "\n",
    "# calling the function and storing the contents in a text variable \n",
    "text = get_document(\"https://www.bbc.com/swahili/habari-56638506\")\n",
    "\n",
    "# calling the store_ document function \n",
    "store_document(doc=text,name=file)\n",
    "\n",
    "#add the words in this file to the total_corpus_words, to keep count of the number of words in the corpus\n",
    "total_corpus_words+=total_words(file)"
   ]
  },
  {
   "cell_type": "code",
   "execution_count": 68,
   "metadata": {},
   "outputs": [
    {
     "data": {
      "text/plain": [
       "415842"
      ]
     },
     "execution_count": 68,
     "metadata": {},
     "output_type": "execute_result"
    }
   ],
   "source": [
    "total_corpus_words"
   ]
  },
  {
   "cell_type": "code",
   "execution_count": 69,
   "metadata": {},
   "outputs": [
    {
     "name": "stdout",
     "output_type": "stream",
     "text": [
      "['Ukinizingua', '...', 'Tunazinguana', '–', 'Rais', 'Samia', 'Suluhu', 'Hassan', 'Rais', 'wa', 'Tanzania', 'Samia', 'Suluhu', 'amewapa', 'watendaji', 'wake', 'tasiwra', 'ya', 'jinsi', 'atakavyokabiliana', 'na', 'wale', 'wambao', 'hawatafanya', 'kazi', 'alizowapa', 'kwa', 'njia', 'inayotakiwa', '.', 'Wakati', 'akiwaapisha', 'Makatibu', 'Wakuu', 'na', 'Wakuu', 'wa', 'taasisi', 'za', 'serikali', 'aliyowateua', 'mwishoni', 'mwa', 'wiki', 'rais', 'Samia', 'alionekana', 'kutoa', 'ishara', 'ya', 'jinsi', 'atavyowakabili', 'watendaji', 'wazembe', '“', 'Wewe', 'ni', 'kijana', 'mimi', 'ni', 'mama', ',', 'ukinizingua', 'tutazinguana', ',', '”', 'alimuambia', 'mkurugenzi', 'mkuu', 'wa', 'Wakala', 'wa', 'Meli', 'Tanzania', '(', 'Tasac', ')', ',', 'Kaimu', 'Mkeyenge', 'muda', 'mfupi', 'baada', 'ya', 'hafla', 'hiyo', 'ya', 'kula', 'kiapo', '.', 'Katika', 'maelezo', 'yake', 'rais', 'Samia', 'amesema', 'amemteua', 'Mkeyenge', 'kushika', 'nafasi', 'hiyo', 'ili', 'asafishe', 'madudu', 'yaliyopo', 'kwenye', 'taasisi', 'hiyo', '.', '“', 'Ulikuwa', 'ndani', 'ya', 'Tasac', 'unayajua', 'madudu', 'yaliyopo', '.', 'Jambo', 'lililoniudhi', 'zaidi', 'kwa', 'mwaka', 'mmoja', 'mmefanya', 'vikao', '23', 'vya', 'bodi', 'na', 'imetumiwa', 'karibu', 'Sh', '600', 'milioni', ',', 'ukiangalia', 'kilichozungumzwa', 'na', 'tija', 'ya', 'vikao', 'hivyo', 'hakuna.', '”', 'Virusi', 'vya', 'corona', ':', 'Maharusi', 'wakesha', 'uwanja', 'wa', 'mpira', 'siku', 'yao', 'ya', 'harusi', 'Rwanda', 'TVCopyright', ':', 'Rwanda', 'TV', 'Picha', 'na', 'video', 'za', 'bibi', 'na', 'bwana', 'harusi', 'wakiwa', 'pamoja', 'na', 'familia', 'zao', 'zimepigwa', 'wakiwa', 'wamekesha', 'katika', 'uwanja', 'wa', 'mpira', 'katika', 'siku', 'ya', 'harusi', 'yao', 'kwa', 'kukiuka', 'masharti', 'dhidi', 'ya', 'kujikinga', 'na', 'corona', '.', 'Jambo', 'ambalo', 'limesababisha', 'raia', 'wengi', 'wa', 'Rwanda', 'kukosoa', 'kitendo', 'hicho', '.', 'Polisi', 'katika', 'mji', 'mkuu', 'wa', 'Kigali', 'nchini', 'Rwanda', 'walisitisha', 'harusi', 'tatu', 'katika', 'sikukuu', 'za', 'pasaka', 'kwa', 'kosa', 'la', 'kukiuka', 'masharti', 'yaliyowekwa', 'dhidi', 'ya', 'corona', 'ya', 'kukataza', 'sherehe', 'na', 'kuwa', 'na', 'kikomo', 'cha', 'watu', '20', 'pekee', 'cha', 'wageni', 'wa', 'kwenye', 'harusi', '.', '``', 'Bibi', 'harusi', 'kukesha', 'kwenye', 'uwanja', 'wa', 'mpira', 'usiku', 'wote', 'wa', 'siku', 'ya', 'harusi', 'yake', 'ni', 'kumbukumbu', 'mbaya', 'sana', 'na', 'haiwezi', 'kusahaulika', 'katika', 'maisha', 'yangu', \"''\", ',', 'bibi', 'harusi', 'asema', '.', 'Baadhi', 'ya', 'watu', 'wamekosoa', 'tukio', 'hilo', 'katika', 'mitandao', 'ya', 'kijamii', 'na', 'kudai', 'kuwa', 'wamevuka', 'mipaka', 'na', 'hakuna', 'sheria', 'inayosema', 'watu', 'inabidi', 'wazuiliwe', 'usiku', 'mzima', ',', 'wengine', 'walisifia', 'hatua', 'hiyo', 'dhidi', 'Covid', 'ili', 'kuhakiksha', 'wanakuwa', 'salama', '.', 'Clarisse', 'Karasira', ',', 'mwanamuziki', 'kutoka', 'Rwanda', 'ameandika', 'katika', 'kurasa', 'yake', 'kuwa', 'umekosa', 'utu', 'na', 'kuongeza', 'kuwa', 'ni', 'jambo', 'linaloleta', 'machungu', 'kwa', 'wapenzi', 'hao', 'waliokuwa', 'wameoana', '.', 'Rwanda', 'imesifiwa', 'kimataifa', 'kwa', 'jinsi', 'inavyokabiliana', 'na', 'janga', 'la', 'virusi', 'vya', 'corona', 'lakini', 'wanaharakati', 'wameikosoa', 'kwa', 'kukiuka', 'haki', 'za', 'binadamu', 'katika', 'hatua', 'wanazozichukua', 'kuhakikisha', 'jitihada', 'hizo', 'zinafanikiwa', '.', 'Rwanda', 'imerikodi', 'zaidi', 'ya', 'watu', '22,000', 'waliopata', 'virusi', 'vya', 'corona', 'na', 'vifo', '311', 'vilivyosababishwa', 'na', 'virusi', 'hivyo', '.', 'Miezi', 'michache', 'iliyopita', ',', 'kulitokea', 'gumzo', 'la', 'kwanini', 'Lupita', 'hakupewa', 'ubalozi', 'wa', 'utalii', 'nchini', 'Kenya', 'na', 'kupewa', 'mwanamitindo', 'wa', 'Uingereza', 'Naomi', 'Campbell', '.', 'Lakini', 'waziri', 'wa', 'Utalii', 'nchini', 'Kenya', 'Najib', 'Balala', 'alitetea', 'uamuzi', 'wa', 'kumtaja', 'mwanamitindo', 'wa', 'Uingereza', 'Naomi', 'Campbell', 'kuwa', 'balozi', 'wa', 'utalii', 'kimataifa', 'kwa', 'nchi', 'hiyo', '.', 'Wakati', 'wa', 'hafla', 'ya', 'umma', ',', 'Bwana', 'Balala', 'alisema', 'anajua', 'Wakenya', 'wengi', 'wameuliza', 'kwanini', 'muigizaji', 'wa', 'Hollywood', 'Lupita', 'Nyong', \"'\", 'o', 'hakuchaguliwa', 'katika', 'nafasi', 'hiyo', '.', 'Waziri', 'akajibu', 'kwamba', 'wamekuwa', 'wakimtafuta', 'Bi', '.', 'Nyong', \"'\", 'o', 'lakini', 'hajapatikana', 'kwa', 'kipindi', 'cha', 'miaka', 'mitano', 'iliyopita', '.', 'Muigizaji', 'huyo', 'wa', 'Kenya', 'ambaye', 'pia', 'ni', 'mshindi', 'wa', 'tuzo', 'ya', 'Oscar', 'alipendekezwa', 'na', 'Wakenya', 'katika', 'mitandao', 'ya', 'kijamii', 'kuwa', 'mtu', 'sahihi', 'wa', 'kushikilia', 'nafasi', 'ya', 'balozi', 'wa', 'utalii', 'kimataifa', 'kuwakilisha', 'Kenya', '.', 'Bwana', 'Balala', 'alisema', 'Bi', '.', 'Campbell', 'amechukua', 'nafasi', 'hiyo', 'kwa', 'maslahi', 'ya', 'umma', 'na', 'kwamba', 'serikali', 'inafanyia', 'kazi', 'namna', 'ya', 'kutumia', 'ushawishi', 'wake', 'kutangaza', 'utalii', ',', 'kulingana', 'na', 'vyombo', 'vya', 'habari', 'vya', 'nchini', 'Kenya', '.', 'Kwa', 'nini', 'Jay', 'Z', 'ameghadhabisha', 'Waislamu', 'Lamu', ',', 'Kenya', '?', 'Wenyeji', 'na', 'wawakilishi', 'wa', 'msikiti', 'wa', 'Riyadha', 'ambacho', 'pia', 'ni', 'kituo', 'kinachotoa', 'mafunzo', 'ya', 'dini', 'ya', 'Kiislamu', ',', 'wameghadhabishwa', 'na', 'mbunifu', 'mmoja', 'nchini', 'Kenya', 'aliyemtengenezea', 'fulana', 'hiyo', 'kwa', 'madai', 'kwamba', 'anatumia', 'vibaya', 'picha', 'ya', 'msikiti', 'wa', 'Lamu', '.', 'Hayo', 'yamejiri', 'baada', 'ya', 'Jay', 'Z', 'ambaye', 'pia', 'ni', 'mfayabishara', 'kuonekana', 'akitoka', 'kwenye', 'eneo', 'moja', 'la', 'burudani', 'huko', 'California', 'akiwa', 'amevaa', 'fulana', 'hiyo', '.', 'Hata', 'hivyo', ',', 'usimamizi', 'wa', 'msikiti', 'wa', 'Riyadha', 'umeelekeza', 'hasira', 'zake', 'kwa', 'mbunifu', 'wa', 'fulana', 'hiyo', ',', 'Zeddie', 'Lukoye', ',', 'ambaye', 'kampuni', 'yake', 'imekuwa', 'ikielimisha', 'watu', 'kote', 'duniani', 'juu', 'ya', 'historia', ',', 'asili', 'na', 'taarifa', 'za', 'habari', '.', 'UN', 'yahofia', 'wakimbizi', 'wa', 'Msumbiji', 'wanaolazimishwa', 'kurudi', 'kwao', 'na', 'Tanzania', 'EPACopyright', ':', 'EPA', 'Umoja', 'wa', 'Mataifa', 'umetoa', 'tahadhari', 'kuhusu', 'ripoti', 'ya', 'Tanzania', 'kuwalazimisha', 'mamia', 'ya', 'wakimbizi', 'wa', 'Msumbiji', 'waliokimbia', 'wanamgambo', 'wa', 'kijihadi', 'mwezi', 'uliopita', 'kurejea', 'kwao', '.', 'Maelfu', 'ya', 'watu', 'wamekimbilia', 'msituni', 'wakati', 'wanamgambo', 'wa', 'kiislamu', 'walipoanza', 'kushambulia', 'kaskazini', 'mashariki', 'mwa', 'mji', 'wa', 'Palma', 'mwezi', 'Machi', 'tarehe', '24', ',', 'ambapo', 'wanamgambo', 'hao', 'wanaripotiwa', 'walikuwa', 'wakiwachinja', 'wananchi', '.', 'Kuna', 'wengine', 'ambao', 'wamekwama', 'msituni', 'wakiwa', 'na', 'changamoto', 'ya', 'upatikanaji', 'wa', 'chakula', 'na', 'maji', ',', 'baadhi', 'walikimbilia', 'kusini', 'na', 'wengine', 'kaskazini', 'katika', 'mpaka', 'wa', 'Tanzania', 'na', 'Msumbiji', '.', 'Shirika', 'la', 'Umoja', 'wa', 'Mataifa', 'linaloshughulika', 'Wakimbizi', '(', 'UNHCR', ')', 'limesema', 'limepokea', 'ripoti', 'kuwa', 'wakimbizi', 'wa', 'Msumbiji', 'wapatao', '600', 'waliokimbilia', 'Tanzania', 'wametakiwa', 'kurejea', 'kwao', '.', '``', 'UNHCR', 'ina', 'wasiwasi', 'juu', 'ya', 'familia', 'zilizozuiwa', 'makazi', 'au', 'kulazimishwa', 'kurudi', 'kwao', 'na', 'Tanzania', ',', \"''\", 'taarifa', 'imeeleza', '.', 'Serikali', 'ya', 'Tanzania', 'haijatoa', 'tamko', 'lolote', 'kuhusu', 'taarifa', 'hiyo', ',', 'AFP', 'imeeleza', '.', 'Kumekuwa', 'na', 'ghasia', 'nchini', 'Msumbiji', 'katika', 'mji', 'wenye', 'utajiri', 'wa', 'gesi', ',', 'Cabo', 'Delgado', 'tangu', 'mwaka', '2017', '.', 'Shambulio', 'la', 'mwezi', 'Marchi', 'lililotokea', 'Palma', 'limelazimisha', 'watu', 'wapatao', '10,000', 'kukimbia', 'makazi', 'yao', ',', 'kwa', 'mujibu', 'wa', 'UNHCR', '.', 'Watu', 'kadhaa', 'wameuawa', ',', 'wakiwemo', 'raia', 'wawili', 'wa', 'kigeni', 'ingawa', 'hakuna', 'taarifa', 'rasmi', 'kuhusu', 'idadi', 'ya', 'vifo', 'vilivyotokea', '.', 'Wasiwasi', 'wa', 'usalama', 'baada', 'ya', 'shambulio', 'hilo', 'umefanya', 'kampuni', 'kubwa', 'ya', 'kifaransa', 'ya', 'mafuta', 'Total', 'kuondoa', 'katika', 'eneo', 'hilo', 'ambalo', 'walikuwa', 'wamewekeza', 'mabilioni', 'ya', 'fedha', 'katika', 'mradi', 'wa', 'gesi', 'huko', 'Afungi', 'peninsula', ',', 'kilomita', 'chache', 'kutoka', 'Palma', '.', 'UN', 'pia', 'imelazimika', 'kusitisha', 'operesheni', 'zake', 'za', 'ndege', 'kutoka', 'Afungi', ',', 'lna', 'kusababisha', 'maelfu', 'ya', 'watu', 'kuwa', 'na', 'sintofahamu', '.', 'Taasisi', 'ya', 'majanga', 'nchini', 'Msumbiji', 'imesema', 'Jumatatu', 'kuwa', 'watu', 'wapata', '30,000', 'wanahitaji', 'kupatiwa', 'misaada', 'ya', 'kibinadamu', '.', 'Wafanyakazi', 'wa', 'mashirika', 'ya', 'msaada', 'na', 'wamishionari', 'kwa', 'sasa', 'wanawasaidia', 'mamia', 'ya', 'wakimbizi', 'waliokimbia', 'makazi', 'yao', 'katika', 'mji', 'wa', 'Pemba', '.', 'Wengi', 'wa', 'wakimbizi', 'wanasaidiwa', 'na', 'ndugu', 'na', 'marafiki', ',', 'UNHCR', 'imesema', '.', 'Mapigano', 'hayo', 'yamesababisha', 'watu', 'zaidi', 'ya', '2,600', 'kuuawa', ',', 'nusu', 'yake', 'wakiwa', 'raia', 'na', 'watu', 'wapatao', '700,000', 'kukimbia', 'makazi', 'yao', '.', 'Rais', 'Samia', 'ataka', 'uhuru', 'wa', 'vyombo', 'vya', 'habari', 'uheshimiwe', 'Rais', 'wa', 'Tanzania', 'Bi.Samia', 'Suluhu', 'Hassan', 'amesema', 'ni', 'muhimu', 'kusimamia', 'vyombo', 'vya', 'habari', 'vya', 'ndani', '.', 'Rais', 'Samia', 'amesema', '``', 'nasikia', 'kuna', 'vyombo', 'vya', 'habari', 'vilivyofungiwa', 'fungiwa', 'na', 'TV', 'za', 'mikono', ',', 'vifungulieni', 'na', 'vifuate', 'sheria', 'na', 'muongozo', 'wa', 'serikali', \"''\", '.', 'Aliongeza', 'kusisitiza', 'kuwa', ';', \"''\", 'Tusiwape', 'mdomo', 'wa', 'kusema', 'kuwa', 'tunaminya', 'uhuru', 'wa', 'vyombo', 'habari', '.', \"''\", 'Aidha', 'Rais', 'Samia', 'amesema', 'wahakikishe', 'kuwa', 'kila', 'atakayepewa', 'ruhusa', 'ya', 'kuendesha', 'chombo', 'cha', 'habari', 'anafuata', 'sheria', 'za', 'serikali', 'na', 'kanuni', 'ziwe', 'wazi', 'kuwa', 'kosa', 'ili', 'adhabu', 'yake', 'ilingane', 'na', 'adhabu', 'inayotolewa', '.', '``', 'Tusifungie', 'tu', 'kibabe', ',', 'wafungulieni', 'lakini', 'hakikisha', 'wanafuata', 'miongozo', 'ya', 'serikali', \"''\", '.', 'Sudan', 'yatangaza', 'hali', 'ya', 'tahadhari', 'baada', 'ya', 'watu', '40', 'kuuawa', 'Darfur', 'Sudan', 'imetangaza', 'hali', 'ya', 'dharura', 'Magharibi', 'mwa', 'Darfur', 'kufuatia', 'mapigano', 'ya', 'wenyewe', 'kwa', 'wenyewe', 'yaliyosababisha', 'watu', '40', 'kufariki', 'na', 'maelfu', 'kukimbia', 'makazi', 'yao', '.', 'Jumatatu', ',', 'Umoja', 'wa', 'mataifa', 'umesema', 'watu', 'wapatao', '40', 'waliuawa', 'na', 'zaidi', 'ya', 'watu', '50', 'walijeruhiwa', 'katika', 'ghasia', 'zilizotokea', 'siku', 'ya', 'Jumamosi', 'kati', 'ya', 'makundi', 'ya', 'kiarabu', 'na', 'wasio', 'katika', 'makundi', 'ya', 'jamii', 'ya', 'kiarabu', 'katika', 'mji', 'wa', 'El', 'Geneina', '.', 'Milio', 'ya', 'risasi', 'ilisikika', 'katika', 'maeneo', 'ya', 'jirani', 'ya', 'Hay', 'Al', 'Jabal', 'na', 'Al', 'Jamarik', 'siku', 'ya', 'Jumatatu', 'mchana', ',', 'Umoja', 'wa', 'mataifa', 'umesema', '.', 'Hali', 'ya', 'usalama', 'bado', 'inatia', 'hofu', 'katika', 'mji', 'huo', 'kwa', 'kuwa', 'kila', 'upande', 'unachochea', 'wanajeshi', 'wake', ',', 'aliongeza', '.', 'Operesheni', 'mbalimbali', 'za', 'msaada', 'zimesitishwa', 'mpaka', 'hali', 'irejee', 'kuwa', 'nzuri', '.', 'Mji', 'huu', 'ambao', 'umekuwa', 'eneo', 'la', 'kupokea', 'misaada', 'na', 'zaidi', 'ya', 'watu', '700,000', 'wameathirika', 'na', 'mgogoro', 'huo', ',', 'kwa', 'mujibu', 'wa', 'UN', '.', 'Mwezi', 'Januari', ',', 'mgogoro', 'kati', 'ya', 'jamii', 'ya', 'Massalit', 'na', 'jamii', 'ya', 'kiarabu', 'umesababisha', 'vifo', 'vya', 'watu', 'wapatao', '129', 'na', 'watu', 'zaidi', 'ya', '108,000', 'kukimbia', 'makazi', 'yao', 'na', 'kupelekea', 'kuishi', 'katika', 'shule', 'na', 'maeneo', 'ya', 'afya', '.', 'Uganda', 'kumpatia', 'ardhi', 'mwanamuziki', 'mashuhuri', 'Marekani', ',', 'Akon', 'Waziri', 'wa', 'ardhi', 'nchini', 'Uganda', 'Dkt.Chris', 'Barayamunsi', 'amewaambia', 'wandishi', 'wa', 'habari', 'pamoja', 'na', 'msanii', 'huyo', 'kuwa', 'serikali', 'inapatia', 'aridhi', 'ya', 'ekari', 'ya', 'mraba', 'mmoja', 'katika', 'eneo', 'lolote', 'ambalo', 'mwanamuziki', 'huyo', 'atalitaka', 'nchini', 'humo', '.', 'Waliochoma', 'chanjo', 'ya', 'corona', 'tu', 'ndio', 'wataruhusiwa', 'kuhiji', 'Mecca', 'mwaka', 'huu', 'BBCCopyright', ':', 'BBC', 'Mamlaka', 'za', 'nchini', 'Saudi', 'Arabia', 'zimesema', 'watu', 'waliopata', 'chanjo', 'ya', 'corona', 'peke', 'yake', 'ndio', 'wataruhusiwa', 'kufanya', 'ibada', 'ya', 'Hija', 'mwaka', 'huu', 'huko', 'Mecca', '.', 'Wizara', 'ya', 'Hija', 'na', 'Umrah', 'imetoa', 'taarifa', 'kuwa', 'watu', 'waliopata', 'chanjo', 'pekee', 'ndio', 'watakuwa', 'na', 'vigezo', 'vya', 'kujihi', 'mwaka', 'huu', 'katika', 'mji', 'mtakatifu', 'wa', 'Mecca', '.', '``', 'Watu', 'ambao', 'tayari', 'wamepata', 'chanjo', 'dozi', 'mbili', 'za', 'COVID-19', ',', 'na', 'wale', 'ambao', 'wamepata', 'chanjo', 'dozi', 'moja', 'ya', 'corona', 'siku', '14', 'kabla', 'ya', 'Hija', 'au', 'mtu', 'ambaye', 'ametoka', 'kupona', 'corona', \"''\", ',', 'wizara', 'imesema', '.', 'Wizara', 'hiyo', 'imesema', 'pia', 'kuwa', 'itazingatia', 'taratibu', 'zote', 'za', 'kujikinga', 'dhidi', 'ya', 'maambukizi', 'ya', 'corona', '.', 'Haijawekwa', 'wazi', 'kama', 'sera', 'hiyo', 'itaendelea', 'mpaka', 'wakati', 'wa', 'Hija', 'kuu', 'baadae', 'mwaka', 'huu', '.', 'Saudi', 'Arabia', 'imeripoti', 'kuwa', 'na', 'maambukizi', 'ya', 'virusi', 'vya', 'corona', 'zaidi', 'vya', 'zaidi', 'ya', 'watu', '393,000', 'na', 'zaidi', 'ya', 'vifo', '6,700', 'vinavyotokana', 'na', 'virusi', 'hivyo', '.', 'Wizara', 'ya', 'afya', 'ya', 'taifa', 'hilo', 'imesema', 'watu', 'zaidi', 'ya', 'milioni', 'tano', 'wamepata', 'chanjo', 'dhidi', 'ya', 'corona', ',', 'katika', 'taifa', 'lenye', 'watu', 'zaidi', 'ya', 'milioni', '34', '.', 'Mwezi', 'uliopita', 'mfalme', 'Salman', 'alimbadilisha', 'waziri', 'wa', 'Hija', ',', 'alafu', 'mwezi', 'mmoja', 'baadae', 'ilifanyika', 'Hija', 'ndogo', 'katika', 'mfumo', 'mpya', 'wa', 'kihistoria', 'kutokana', 'na', 'changamoto', 'ya', 'virusi', 'vya', 'corona', '.', 'Mwaka', 'jana', ',', 'waislamu', '10,000', 'ambao', 'ni', 'wakazi', 'wa', 'Saudi', 'Arabia', 'ndio', 'waliruhusiwa', 'katika', 'Hija', 'takatifu', 'mwaka', 'jana', ',', 'ingawa', 'mara', 'zote', 'huwa', 'ni', 'watu', 'milioni', '2.5', 'kutoka', 'duniani', 'kote', 'na', 'ndio', 'walishiriki', 'mwaka', '2019', '.']\n",
      "\n",
      " Number of Words:  1594\n"
     ]
    }
   ],
   "source": [
    "file=\"21april6_1.txt\"\n",
    "\n",
    "# calling the function and storing the contents in a text variable \n",
    "text = get_document(\"https://www.bbc.com/swahili/live/habari-56646795\")\n",
    "\n",
    "# calling the store_ document function \n",
    "store_document(doc=text,name=file)\n",
    "\n",
    "#add the words in this file to the total_corpus_words, to keep count of the number of words in the corpus\n",
    "total_corpus_words+=total_words(file)"
   ]
  },
  {
   "cell_type": "code",
   "execution_count": 70,
   "metadata": {},
   "outputs": [
    {
     "data": {
      "text/plain": [
       "417436"
      ]
     },
     "execution_count": 70,
     "metadata": {},
     "output_type": "execute_result"
    }
   ],
   "source": [
    "total_corpus_words"
   ]
  },
  {
   "cell_type": "code",
   "execution_count": 71,
   "metadata": {},
   "outputs": [
    {
     "name": "stdout",
     "output_type": "stream",
     "text": [
      "['Kwa', 'nini', 'Jay', 'Z', 'ameghadhabisha', 'Waislamu', 'Lamu', ',', 'Kenya', '?', 'Mwanamuziki', 'maarufu', 'wa', 'mziki', 'wa', 'Hip', 'Hop', 'wa', 'Marekani', 'Jay', 'Z', 'asababisha', 'hasira', 'miongoni', 'mwa', 'baadhi', 'wa', 'wenyeji', 'wa', 'kaunti', 'ya', 'Lamu', 'baada', 'ya', 'kuonekana', 'amevaa', 'fulana', 'yenye', 'picha', 'ya', 'msikiti', 'wa', 'eneo', 'hilo', '.', 'Wenyeji', 'na', 'wawakilishi', 'wa', 'msikiti', 'wa', 'Riyadha', 'ambacho', 'pia', 'ni', 'kituo', 'kinachotoa', 'mafunzo', 'ya', 'dini', 'ya', 'Kiislamu', ',', 'wameghadhabishwa', 'na', 'mbunifu', 'mmoja', 'nchini', 'Kenya', 'aliyemtengenezea', 'fulana', 'hiyo', 'kwa', 'madai', 'kwamba', 'anatumia', 'vibaya', 'picha', 'ya', 'msikiti', 'wa', 'Lamu', '.', 'Hayo', 'yamejiri', 'baada', 'ya', 'Jay', 'Z', 'ambaye', 'pia', 'ni', 'mfayabishara', 'kuonekana', 'akitoka', 'kwenye', 'eneo', 'moja', 'la', 'burudani', 'huko', 'California', 'akiwa', 'amevaa', 'fulana', 'hiyo', '.', 'Hata', 'hivyo', ',', 'usimamizi', 'wa', 'msikiti', 'wa', 'Riyadha', 'umeelekeza', 'hasira', 'zake', 'kwa', 'mbunifu', 'wa', 'fulana', 'hiyo', ',', 'Zeddie', 'Lukoye', ',', 'ambaye', 'kampuni', 'yake', 'imekuwa', 'ikielimisha', 'watu', 'kote', 'duniani', 'juu', 'ya', 'historia', ',', 'asili', 'na', 'taarifa', 'za', 'habari', '.', 'Katika', 'barua', 'hiyo', ',', 'msikiti', 'huo', 'umeelezea', 'kuwa', 'raia', 'wa', 'eneo', 'wamesikitishwa', 'na', 'picha', 'ya', 'msikiti', 'wao', 'katika', 'kile', 'walichokieleza', 'kama', 'ukosefu', 'wa', 'heshima', '.', '``', 'Hatuchukulii', 'hili', 'kama', 'heshima', 'au', 'pendeleo', 'kwetu', 'kwa', 'msikiti', 'huo', 'wa', 'kihistoria', 'kuoneshwa', 'kwa', 'namna', 'hiyo', '.', '``', 'Baa', 'na', 'vilabu', 'ni', 'kinyume', 'na', 'imani', ',', 'maadili', 'wala', 'sio', 'heshima', 'kwa', 'msikiti', ',', 'mwanzilishi', 'wake', ',', 'umma', 'wake', 'na', 'jamii', 'ya', 'Kiislamu', 'kwa', 'ujumla', 'ndani', 'na', 'nje', 'ya', 'Lamu', ',', \"''\", 'Badawy', 'aliandika', '.', 'Pia', 'msikiti', 'huo', 'umemtahadharisha', 'mbunifu', 'huyo', 'dhidi', 'ya', 'utumiaji', 'wa', 'tamaduni', 'zingine', 'kuendeleza', 'kitu', 'ambacho', 'ni', 'kinyume', 'na', 'imani', 'yao', '.', 'Pia', 'wazee', 'wa', 'Lamu', 'waliomshauri', 'mbunifu', 'huyo', 'kuondoa', 'picha', 'ya', 'msikiti', 'huo', 'miongoni', 'mwa', 'anavyovitangaza', 'na', 'badala', 'yake', 'kutumia', 'nembo', 'nyingine', 'zisizo', 'za', 'kidini', 'kutangaza', 'kaunti', 'hiyo', 'kama', 'vile', 'fukwe', 'za', 'baari', ',', 'Msikiti', 'wa', 'Riyadha', 'ni', 'mmoja', 'kati', 'ya', 'misikiti', 'ya', 'kale', 'ambayo', 'bado', 'inatumika', 'kama', 'taasisi', 'ya', 'mafunzo', 'ya', 'Kiiislamu', 'Afrika', 'Mashariki', '.', 'Msikiti', 'huo', 'ulijengwa', 'karne', 'ya', '19', 'na', 'pia', 'unatambulika', 'kama', 'urithi', 'wa', 'dunia', '.']\n",
      "\n",
      " Number of Words:  315\n"
     ]
    }
   ],
   "source": [
    "file=\"21april6_2.txt\"\n",
    "\n",
    "# calling the function and storing the contents in a text variable \n",
    "text = get_document(\"https://www.bbc.com/swahili/habari-56641468\")\n",
    "\n",
    "# calling the store_ document function \n",
    "store_document(doc=text,name=file)\n",
    "\n",
    "#add the words in this file to the total_corpus_words, to keep count of the number of words in the corpus\n",
    "total_corpus_words+=total_words(file)"
   ]
  },
  {
   "cell_type": "code",
   "execution_count": 72,
   "metadata": {},
   "outputs": [
    {
     "data": {
      "text/plain": [
       "417751"
      ]
     },
     "execution_count": 72,
     "metadata": {},
     "output_type": "execute_result"
    }
   ],
   "source": [
    "total_corpus_words"
   ]
  },
  {
   "cell_type": "code",
   "execution_count": 73,
   "metadata": {},
   "outputs": [
    {
     "name": "stdout",
     "output_type": "stream",
     "text": [
      "['Tukutane', 'tena', 'kesho', 'katika', 'matangazo', 'mbashara', ',', 'usiku', 'mwema', '!', \"'Rais\", 'Samia', 'ameagiza', 'zifunguliwe', 'televisheni', 'za', 'mtandaoni', 'tu', \"'\", 'Waziri', 'wa', 'habari', 'nchini', 'Tanzania', 'Innocent', 'Bashungwa', 'na', 'Msemaji', 'Mkuu', 'wa', 'Serikali', 'ya', 'Tanzania', 'Gerson', 'Msigwa', 'wametoa', 'ufafanuzi', 'kuwa', 'agizo', 'la', 'rais', 'Samia', 'Suluhu', 'Hassan', 'kuvifungulia', 'vyombo', 'vya', 'habari', 'nchini', 'humo', 'linahusu', 'televisheni', 'za', 'mtandaoni', 'tu', 'na', 'si', 'vyombo', 'vyote', '.', 'Toka', 'jana', 'jioni', 'kumekuwa', 'na', 'mjadala', 'mkali', 'nchini', 'Tanzania', 'baada', 'ya', 'Katibu', 'Mkuu', 'wa', 'Wizara', 'ya', 'Habari', 'Dkt', '.', 'Hassan', 'Abbas', 'kueleza', 'kuwa', 'agizo', 'la', 'rais', 'Samia', 'linalenga', 'televisheni', 'za', 'mtandaoni', 'tu', 'na', 'haligusi', 'magazeti', 'yaliyofungiwa', 'pia', '.', 'Kauli', 'hiyo', 'ya', 'Dkt', 'Abbas', 'ilipingwa', 'vikali', 'na', 'wadau', 'wa', 'habari', 'wakimtuhumu', 'kuwa', 'amepindisha', 'maelekezo', 'ya', 'rais', 'juu', 'ya', 'kuvifungulia', 'vyombo', 'vyote', 'mpaka', 'magazeti', '.', 'Msigwa', 'ametoa', 'ufafanuzi', 'wake', 'kupitia', 'ukurasa', 'wa', 'Twitter', 'huku', 'Waziri', 'Bashungwa', 'akiitisha', 'mkutano', 'na', 'wanahabari', '.', 'Bashungwa', 'ameeleza', 'kufikia', 'sasa', 'kuna', 'televisheni', '400', 'za', 'mtandaoni', 'zilizosajiliwa', ',', 'na', 'kwamba', 'zote', 'zilizofungiwa', 'zinatakiwa', 'kurejea', 'kazini', '.', 'Kuhusu', 'vyombo', 'vingine', 'nje', 'ya', 'televisheni', 'za', 'mtandaoni', ',', 'vitashughulikiwa', 'kesi', 'kwa', 'kesi', '.', \"'Hakuna\", 'kifo', 'kilichotokea', 'kutokana', 'na', 'chanjo', 'ya', 'AstraZeneca', 'Kenya', \"'\", 'Bodi', 'ya', 'ya', 'Ufamasia', 'na', 'sumu', 'nchini', 'Kenya', 'imekanusha', 'ripoti', 'kwamba', 'mtu', 'mmoja', 'ameaga', 'dunia', 'baada', 'ya', 'kupewa', 'chanjo', 'ya', 'Oxford', 'AstraZeneca', '.', 'Kupitia', 'taarifa', 'Bodi', 'hiyo', 'imesema', 'kulikuwa', 'na', 'ripoti', 'za', 'kupotosha', 'kuhusu', 'athari', 'za', 'chanjo', 'hiyo', 'kwa', 'watu', 'waliodungwa', 'dozi', 'ya', 'chanjo', 'hiyo', '.', 'Bodi', 'hiyo', 'imesema', 'kati', 'ya', 'visa', '279', 'vya', 'watu', 'waliochanjwa', 'na', 'kupata', 'athari', 'mbaya,272', 'ni', 'walikuwa', 'na', 'athari', 'ndogo', 'ambazo', 'zilishughulikiwa', 'baada', 'ya', 'muda', 'mfupi', '.', 'Bodi', 'hiyo', 'imesema', 'inachunguza', 'athari', 'zilizowakumba', 'watu', 'hao', 'na', 'hata', 'wengine', '7', 'ambao', 'walipata', 'athari', 'mbaya', 'tayari', 'wameshughulikiwa', '.', 'Aliyekuwa', 'Gavana', 'Nairobi', 'akutwa', 'na', 'corona', 'baada', 'ya', 'kupata', 'chanjo', 'Aliyekuwa', 'Gavana', 'wa', 'Jimbo', 'la', 'Nairobi', 'nchini', 'Kenya', ',', 'Evans', 'Kidero', ',', 'amekutwa', 'na', 'virusi', 'vya', 'Corona', ',', 'wiki', 'moja', 'tangu', 'achomwe', 'sindano', 'ya', 'chanjo', 'ya', 'ugonjwa', 'wa', 'COVID-19', '.', 'Kidero', 'amesema', 'alipatikana', 'na', 'ugonjwa', 'huo', 'Jumanne', ',', 'Aprili', '6', ',', 'wakati', 'ambao', 'yeye', 'na', 'familia', 'yake', 'walipokwenda', 'kufanya', 'vipimo', 'baada', 'ya', 'kuonesha', 'dalili', 'za', 'corona', '.', 'Kwa', 'mujibu', 'wa', 'Gavana', 'huyo', 'wa', 'zamani', ',', 'amesema', 'alikutwa', 'na', 'virusi', 'hivyo', 'vya', 'corona', 'wiki', 'moja', 'baada', 'ya', 'kupatiwa', 'chanjo', 'ya', 'ugonjwa', 'huo', 'mnamo', 'Machi', '29', ',', '2021', '.', 'Aliongeza', 'kusema', 'wengine', 'katika', 'familia', 'yake', 'walipimwa', 'lakini', 'hawakukutwa', 'na', 'Corona', '.', 'Sasa', 'Kidero', 'atakuwa', 'akijitenga', 'kwa', 'muda', 'wa', 'wiki', 'mbili', 'zijazo', '.', 'Taarifa', 'hii', 'inakuja', 'wakati', 'serikali', 'ya', 'Kenya', 'ikianza', 'kufanya', 'uchunguzi', 'wa', 'madai', 'kwamba', 'mgonjwa', 'mmoja', 'alifariki', 'baada', 'ya', 'kuchomwa', 'sindano', 'ya', 'chanjo', 'dhidi', 'ya', 'Covid-19', '.', 'Mapema', 'leo', 'katika', 'mkutano', 'na', 'wanahabari', ',', 'Dkt', '.', 'Peter', 'Mbwiiri', 'Ikamati', ',', 'Naibu', 'Mkurugenzi', 'wa', 'Bodi', 'ya', 'Dawa', 'na', 'Sumu', 'nchini', 'kenya', ',', 'amesema', 'kwamba', 'walikuwa', 'wakichunguza', 'kifo', 'kilichotokea', 'kwa', 'raia', 'mmoja', 'wa', 'Kenya', 'kupokea', 'chanjo', 'na', 'kufariki', ',', 'na', 'kuongeza', 'kuwa', 'jumla', 'ya', 'watu', '279', 'wameathiriwa', 'vibaya', 'baada', 'ya', 'kupokea', 'chanjo', 'hiyo', '.', 'Lakini', 'muda', 'mfupi', 'baadae', ',', 'Dkt', '.', 'Collins', 'Taabu', '-', 'mkuu', 'wa', 'Programu', 'ya', 'Chanjo', 'ya', 'Kitaifa', '–', 'alikanusha', 'hilo', ',', 'akisema', 'hakuna', 'uhusiano', 'na', 'kwamba', 'bado', 'haijafahamika', 'ikiwa', 'kifo', 'hicho', 'kilisababishwa', 'na', 'chanjo', 'hiyo', '.', 'Nigeria', 'yasitisha', 'utoaji', 'wa', 'chanjo', 'ya', 'Oxford-AstraZeneca', 'Nigeria', 'imesitisha', 'utoaji', 'wa', 'chanjo', 'ya', 'Oxford-AstraZeneca', 'ili', 'kuwapa', 'dozi', 'ya', 'pili', 'waliopewa', 'ya', 'kwanza', '.', 'Mamlaka', 'za', 'nchini', 'Nigeria', 'zimesema', 'zitaacha', 'kutoa', 'chanjo', 'ya', 'Oxford-AstraZeneca', 'COVID-19', 'wakati', 'watakapotumia', 'nusu', 'ya', 'dozi', 'zilizopo', 'sasa', '.', 'Naibu', 'Waziri', 'wa', 'Afya', 'amewaambia', 'wanahabari', 'kuwa', 'nchi', 'haikuwa', 'na', 'uhakika', 'wa', 'ni', 'lini', 'awamu', 'ya', 'pili', 'ya', 'dozi', 'ya', 'chanjo', 'hiyo', 'itafaika', 'nchini', 'humo', ';', 'kusimamishwa', 'huko', 'kutawawezesha', 'wale', 'ambao', 'walikuwa', 'wamepokea', 'dozi', 'ya', 'kwanza', 'kumaliza', 'chanjo', 'yao', 'kwa', 'kupewa', 'ya', 'pili', '.', 'Chanjo', 'ya', 'AstraZeneca', 'inahitaji', 'mtu', 'kupewa', 'dozi', 'mbili', '.', 'Naibu', 'Waziri', 'wa', 'Afya', 'Olorunnimbe', 'Mamora', 'amesema', 'serikali', 'ina', 'wasiwasi', 'juu', 'ya', 'kuweza', 'kutoa', 'dozi', 'ya', 'pili', 'kwa', 'wale', 'ambao', 'tayari', 'wamepata', 'dozi', 'yao', 'ya', 'kwanza', '.', 'Takwimu', 'zilizotolewa', 'na', 'maafisa', 'wa', 'huduma', 'ya', 'afya', 'zinaonesha', 'kwamba', 'karibu', 'Wanigeria', 'milioni', 'moja', 'wamepokea', 'chanjo', 'yao', 'ya', 'kwanza', '.', 'Wafanyakazi', 'wa', 'afya', 'na', 'watu', 'wanaoaminika', 'kuwa', 'katika', 'mazingira', 'magumu', 'ndio', 'wamepewa', 'kipaumbele', '.', 'Nchi', 'hiyo', 'ilipata', 'dozi', 'milioni', 'nne', 'za', 'chanjo', 'ya', 'Oxford-AstraZeneca', 'mnamo', 'Februari', ',', 'na', 'mamlaka', 'hazina', 'uhakika', 'ni', 'lini', 'awamu', 'inayofuata', 'itawasili', '.', 'Wakati', 'huo', 'huo', 'Nigeria', 'imeanza', 'majaribio', 'ya', 'kliniki', 'kwa', 'chanjo', 'mbili', 'za', 'covid-19', 'ambazo', 'wanasayansi', 'wake', 'wameanzisha', '.', 'Nigeria', 'ina', 'rekodi', 'ya', 'watu', '162,000', 'kupata', 'virusi', 'vya', 'corona', 'na', 'zaidi', 'ya', '2,031', 'kufariki', 'kutokana', 'na', 'virusi', 'hivyo', '.', 'Akamatwa', 'kwa', 'kutengeneza', 'bango', 'la', 'picha', 'ya', 'Rais', 'Kenyatta', 'kulalamikia', 'mikopo', 'ya', 'IMF', 'Mwanaharakati', 'Edwin', 'Kiama', 'anayedaiwa', 'kutengeza', 'bango', 'lenye', 'picha', 'ya', 'Rais', 'Uhuru', 'Kenyatta', 'nchini', 'Kenya', 'ili', 'kulalamikia', 'hatua', 'ya', 'serikali', 'kuuchukua', 'mkopo', 'mwingine', 'wa', 'shilingi', 'dola', 'bilioni', '255', 'au', 'dola', 'bilioni', '2.34', 'amekamatwa', 'na', 'polisi', '.', 'FIFA', 'yaifungia', 'Chad', 'katika', 'michuano', 'ya', 'kimataifa', 'Shirikisho', 'la', 'Soka', 'Duniani', ',', 'FIFA', ',', 'limeifungia', 'Chad', 'kushiriki', 'michuano', 'ama', 'michezo', 'yoyote', 'ya', 'kandanda', 'ulimwenguni', 'la', 'baada', 'ya', 'serikali', 'ya', 'nchi', 'hiyo', 'kuingilia', 'kati', 'namna', 'ambavyo', 'shirikisho', 'la', 'soka', 'nchini', 'humo', 'linavyofanya', 'kazi', '.', 'Hatua', 'hii', 'imekuja', 'baada', 'ya', 'waziri', 'wa', 'vijana', 'na', 'michezo', 'kuvunja', 'shirikisho', 'la', 'soka', 'nchini', 'Chad', 'mnamo', 'mwezi', 'Machi', '.', 'Baada', 'ya', 'tangazo', 'hilo', 'lililotolewa', 'na', 'serikali', 'ya', 'Chad', ',', 'Shirikisho', 'la', 'Soka', 'Barani', 'Afrika', '(', 'Caf', ')', 'liliitoa', 'timu', 'ya', 'taifa', 'katika', 'raundi', 'ya', 'pili', 'ya', 'kufuzu', 'kuingia', 'kombe', 'la', 'mataifa', 'ya', 'Afrika', '.', 'Chad', 'haipo', 'kwenye', 'michuano', 'yeyote', 'ya', 'kimataifa', 'baada', 'ya', 'kuondolewa', 'katika', 'mashindano', 'ya', 'kombe', 'la', 'dunia', 'ya', 'mwaka', '2022', 'na', 'Sudan', 'mwaka', '2019', '.', 'Taarifa', 'rasmi', 'kutoka', 'shirikisho', 'la', 'soka', 'la', 'dunia', 'limesema', ':', '``', 'baraza', 'la', 'Fifa', 'linaweza', 'kuondoa', 'marufuku', 'hayo', 'muda', 'wowote', 'kabla', 'ya', 'mkutano', 'ujao', 'wa', 'Fifa', 'na', 'tutatoa', 'taarifa', 'rasmi', '.', \"''\", 'Kim', 'Kardashian', 'ajiunga', 'klabu', 'ya', 'mabilionea', 'Nyota', 'wa', 'Marekani', 'wa', 'kipindi', 'cha', 'TV', 'Kim', 'Kardashian', 'West', 'ameingia', 'katika', 'klabu', 'ya', 'matajiri', 'wakubwa', '.', 'Utajiri', 'wake', 'umefikia', 'thamani', 'ya', 'dola', 'bilioni', 'moja', '(', '£720m', ')', 'unaotokana', 'na', 'vipodozi', ',', 'mavazi', 'pamoja', 'na', 'mapato', 'yake', 'ya', 'kipindi', 'cha', 'TV', ',', 'mikataba', 'mbalimbali', 'na', 'uwekezaji', ',', 'Jarida', 'la', 'Forbes', 'limeandika', '.', 'Kwa', 'sasa', 'Kim', 'Kardashian', 'ni', 'miongoni', 'mwa', 'idadi', 'ya', 'watu', '2,755', 'ambao', 'wameainishwa', 'katika', 'orodha', 'ya', 'mabilionea', 'duniani', 'iliyowekwa', 'na', 'jarida', 'la', 'Forbes', '.', 'Muasisi', 'wa', 'Amazon', 'Jeff', 'Bezos', 'anaongoza', 'kwa', 'kuwa', 'na', 'utajiri', 'wa', 'thamani', 'ya', 'dola', 'bilioni', '177', '.', 'Wamarekani', 'wengine', 'ambao', 'waliongezwa', 'kwa', 'mwaka', 'uliopita', 'ni', 'muasisi', 'wa', 'programu', 'ya', 'mahusiano', 'ya', 'Bumble', 'dating', 'app', ',', 'Whitney', 'Wolfe', 'Herd', '(', '$', '1.3bn', ')', ',', 'mtengeneza', 'filamu', 'Tyler', 'Perry', '(', '$', '1bn', ')', 'na', 'Miriam', 'Adelson', '(', '$', '38.2bn', ')', '.', 'Kim', 'Kardashian', 'West', 'na', 'mume', 'wake', 'ambaye', 'Kanye', 'West', 'alikuwa', 'tayari', 'kwenye', 'orodha', 'kwa', 'kuwa', 'na', 'dola', 'bilioni', '1.8', 'lakini', 'dada', 'yake', 'wa', 'kambo', 'Kylie', 'Jenner', 'aliondolewa', 'katika', 'orodha', 'hiyo', 'mwezi', 'Mei', 'mwaka', 'jana', '.', 'Jarida', 'hilo', 'lilimshutumu', 'kwa', 'kudanganya', 'thamani', 'ya', 'biashara', 'ya', 'vipodozi', '.', 'Kim', 'amefanikiwaje', 'kufikia', 'hapo', '?', 'Jarida', 'la', 'Forbes', 'limejumuisha', 'thamani', 'ya', 'dola', 'milioni', '780', 'iliyoongezeka', 'na', 'kufikia', 'dola', 'bilioni', 'moja', 'inayotokana', 'na', 'biashara', 'yake', 'ya', 'vipodozi', 'na', 'kampuni', 'ya', 'mavazi', '.', 'Kampuni', 'ya', 'vipodozi', 'ya', 'KKW', 'Beauty', 'ilianzishwa', 'mwaka', '2017', 'na', 'kampuni', 'ya', 'nguo', 'ya', 'Skims', 'ilianzishwa', 'miaka', 'miwili', 'iliyopita', 'baada', 'ya', 'kuzindua', 'vazi', 'aliloliita', 'Kimono', ',', 'ingawa', 'ilishuka', 'kutokana', 'na', 'shutuma', 'za', 'kitamaduni', '.', 'Bi.Kardashian', 'West', 'aliuza', '20', '%', 'ya', 'kampuni', 'ya', 'vipodozi', 'ya', 'KKW', 'Beauty', 'mwaka', 'jana', 'kwa', 'dola', 'milioni', '200', ',', 'katika', 'mkataba', 'wa', 'biashara', 'ambao', 'unafika', 'thamani', 'ya', '$', '1bn', '.', 'Mradi', 'wake', 'wa', 'sasa', 'wa', 'Skims', 'una', 'nguo', 'za', 'ndani', 'na', 'nguo', 'ndefu', 'na', 'umesaidia', 'katika', 'mafanikio', 'yake', '.', 'Nyota', 'huyo', 'ametumia', 'mitandao', 'ya', 'kijamii', 'kutangaza', 'biashara', 'zake', ',', 'sasa', 'akiwa', 'na', 'wafuasi', 'milioni', '213', 'kwenye', 'Instagram', ';', 'wafuasi', 'milioni', '69.7kwenye', 'Twitter', '.', 'Jeff', 'Bezos', 'aibuka', 'tena', 'kuwa', 'tajiri', 'zaidi', 'duniani', 'Jeff', 'Bezos', 'ametajwa', 'kuwa', 'mtu', 'tajiri', 'zaidi', 'kwa', 'miaka', 'minne', 'mfululizo', ',', 'akiwa', 'na', 'utajiri', 'wenye', 'thamani', 'ya', 'dola', 'bilioni', '177', ',', 'huku', 'Elon', 'Musk', 'akiwa', 'tajiri', 'wa', 'akiwa', 'na', 'utajiri', 'wa', 'thamani', 'ya', 'dola', 'bilioni', '151', ',', 'wakati', 'ambao', 'hisa', 'za', 'Tesla', 'na', 'Amazon', 'zimeongezeka', '.', 'Mabilionea', 'wote', 'wawili', 'wana', 'thamani', 'ya', 'utajiri', 'wa', 'dola', 'trilioni', '13.1', ',', 'wakati', 'mwaka', 'jana', 'walikuwa', 'na', 'dola', 'trilioni', '8', '.', 'Marekani', 'bado', 'inaongozakwa', 'kuwa', 'na', 'mabilionea', '724', ',', 'ikifuatiwa', 'China', '(', 'Hong', 'Kong', 'na', 'Macao', 'zikiwemo', ')', 'kwa', '698', '.', 'Orodha', 'ya', '35', 'ya', 'mabilionea', 'duniani', 'kote', 'imeongezeka', 'na', 'kufika', '2,755-na', 'bilionea', '-660', 'kuongezeka', 'kwa', 'zaidi', 'ya', 'mwaka', 'mmoja', '.', 'Rekodi', 'mpya', 'ambayo', 'iko', 'juu', 'ina', 'mabilionea', '493', 'kila', 'mwaka', ',', 'ikijumuisha', '210', 'kutoka', 'China', 'na', 'Hong', 'Kong', '.', 'Na', 'wengine', '250', 'ndio', 'wanashuka', 'utajiri', ',', 'ila', 'bado', '86', '%', 'ni', 'matajiri', 'zaidi', 'ya', 'mwaka', 'uliopita', '.', 'Maadhimisho', 'ya', 'siku', 'ya', 'kimbari', 'Rwanda', 'Leo', 'tarehe', '7', 'April', ',', 'Rwanda', 'inakumbuka', 'mauaji', 'ya', 'kimbari', 'dhidi', 'ya', 'watutsi', 'kwa', 'mara', 'ya', '27', '.', 'Ilikuwa', 'tarehe', '7', 'April', 'mwaka', '1994', 'baada', 'ya', 'ndege', 'ya', 'aliyekuwa', 'rais', 'wa', 'nchi', 'hiyo', 'Juvenal', 'Habyarimana', 'ilipotunguliwa', 'akiwa', 'pamoja', 'na', 'aliyekuwa', 'rais', 'wa', 'Burundi', 'Cyprien', 'Ntaryamira', '.', 'Kwa', 'mjibu', 'wa', 'umoja', 'wa', 'mataifa', 'watu', 'zaidi', 'ya', 'laki', 'nane', ',', 'Watutsi', 'pamoja', 'na', 'wahutu', 'wenye', 'msimamo', 'wa', 'wastani', 'waliuawa', 'mnamo', 'kipindi', 'cha', 'siku', '100', '.', 'BBCCopyright', ':', 'BBC', 'Katika', 'kuadhimisha', 'siku', 'hii', ',', 'inatarajiwa', 'kuwa', 'viongozi', 'wakuu', 'wa', 'serikali', 'wataweka', 'mashada', 'ya', 'maua', 'na', 'kuwasha', 'mwenge', 'kwenye', 'makaburi', 'ya', 'makumbusho', 'ya', 'mauaji', 'ya', 'kimbari', 'eneo', 'la', 'Gisozi', 'mjini', 'Kigali', 'lakini', 'hakuna', 'hafla', 'nyingine', 'zinazotarajiwa', 'kufanyika', 'kutokana', 'na', 'janga', 'la', 'Covid', '19', '.', 'Wakati', 'huo', 'huo', 'baadhi', 'ya', 'manusura', 'wa', 'mauaji', 'hayo', 'wanalalamikia', 'kutokuwa', 'na', 'makazi', 'huku', 'wengine', 'nyumba', 'zao', 'zikiwa', 'zimezeeka', 'zikihitaji', 'kukarabatiwa', '.', 'BBCCopyright', ':', 'BBC', 'Shirika', 'linalotetea', 'manusura', 'wa', 'mauaji', 'ya', 'kimbari', 'IBUKA', 'kwa', 'kifupi', 'linasema', 'suala', 'la', 'kutokuwa', 'na', 'makazi', 'kwa', 'manusura', 'linatia', 'wasiwasi', 'wakati', 'huu', '.', 'Hata', 'hivyo', 'wakuu', 'wa', 'mfuko', 'wa', 'serikali', 'wa', 'kusaidia', 'manusura', 'wa', 'mauaji', 'ya', 'kimbari', 'wameiambia', 'BBC', 'kwamba', 'swala', 'la', 'makazi', 'hayo', 'litakuwa', 'limeishapatiwa', 'ufumbuzi', 'mnamo', 'miaka', 'miwili', 'kuanzia', 'sasa.Bi', 'Uwacu', 'Julienne', 'ni', 'mkuu', 'wa', 'mfuko', 'huo', ':', '‘', '’', 'Manusura', 'ambao', 'bado', 'hawana', 'nyumba', 'ni', 'takriban', '870', 'nchini', 'kote.lengo', 'letu', 'ni', 'kuwa', 'tutakuwa', 'tumekamilisha', 'ujenzi', 'wa', 'nyumba', 'hizo', 'hadi', 'ifikapo', 'mwaka', '2024', '.', 'Na', 'kuhusu', 'kukarabati', 'nyumba', 'za', 'zamani', 'sasa', 'tumeanza', 'sensa', 'ya', 'kujua', 'idadi', 'ya', 'zinazohitaji', 'kukarabatiwa', 'haraka', 'iwezekanavyo.', '’', '’', 'Mkuu', 'wa', 'mfuko', 'huo', 'anasema', 'kwamba', 'nyumba', 'zipatazo', 'elfu', '30', 'zimekwisha', 'jengwa', 'kwa', 'ajili', 'ya', 'manusura', 'wa', 'mauaji', 'ya', 'kimbari', '.', 'Umoja', 'wa', 'Mataifa', ':', 'Watu', 'milioni', '27', 'wanakabiliana', 'na', 'njaa', 'DRC', 'Mashirika', 'mawili', 'ya', 'Umoja', 'wa', 'Mataifa', 'yamesema', 'theluthi', 'ya', 'wakazi', 'wa', 'Jamuhuri', 'ya', 'Kidemokrasia', 'ya', 'Kongo', 'wanakabiliwa', 'na', 'njaa', 'kali', 'na', 'wametoa', 'wito', 'wa', 'kuongezewa', 'fedha', 'za', 'dharura', 'ili', 'kukabiliana', 'na', 'janga', 'hili', '.', 'Shirika', 'la', 'chakula', 'duniani', '(', 'WFP', ')', 'na', 'shirika', 'la', 'chakula', 'na', 'kilimo', 'yamesema', ',', 'hali', 'haijawahi', 'kuwa', 'mbaya', 'kiasi', 'hiki', 'kwa', 'kuwa', 'na', 'raia', 'wa', 'Congo', 'zaidi', 'ya', 'milioni', '27', 'ambao', 'wana', 'uhitaji', 'wa', 'chakula', 'kwa', 'haraka-', 'hii', 'ni', 'idadi', 'kubwa', 'ya', 'watu', 'kuliko', 'eneo', 'lolote', 'lile', 'duniani', '.', 'Lakini', 'mashirika', 'hayo', 'ya', 'UN', 'yameelezea', 'ukubwa', 'wa', 'janga', 'kuwa', 'ni', 'wa', 'kushangaza', 'na', 'kusema', 'DRC', 'inapaswa', 'kuwa', 'na', 'uwezo', 'wa', 'kulisha', 'watu', 'wake', 'na', 'hata', 'kuuza', 'nje', 'chakula', 'cha', 'ziada', '.', 'Migogoro', 'ndio', 'chanzo', 'cha', 'njaa', 'hiyo', 'haswa', 'katika', 'jimbo', 'la', 'mashariki', 'ambako', 'kuna', 'makundi', 'ya', 'waasi', 'ambao', 'wanafanya', 'mashambulizi', 'kila', 'mara', '.', 'Hali', 'ni', 'mbaya', 'katika', 'jimbo', 'la', 'Kasai', 'ambako', 'kulikuwa', 'na', 'ghasia', 'pia', '.', 'Mashirika', 'ya', 'UN', 'yamesema', 'janga', 'la', 'virusi', 'vya', 'corona', 'pamoja', 'na', 'uchumi', 'kushuka', 'pia', 'kumechangia', 'kufanya', 'hali', 'kuwa', 'mbaya', 'zaidi', '.']\n",
      "\n",
      " Number of Words:  1867\n"
     ]
    }
   ],
   "source": [
    "file=\"21april7.txt\"\n",
    "\n",
    "# calling the function and storing the contents in a text variable \n",
    "text = get_document(\"https://www.bbc.com/swahili/live/habari-56659637\")\n",
    "\n",
    "# calling the store_ document function \n",
    "store_document(doc=text,name=file)\n",
    "\n",
    "#add the words in this file to the total_corpus_words, to keep count of the number of words in the corpus\n",
    "total_corpus_words+=total_words(file)"
   ]
  },
  {
   "cell_type": "code",
   "execution_count": 74,
   "metadata": {},
   "outputs": [
    {
     "data": {
      "text/plain": [
       "419618"
      ]
     },
     "execution_count": 74,
     "metadata": {},
     "output_type": "execute_result"
    }
   ],
   "source": [
    "total_corpus_words"
   ]
  },
  {
   "cell_type": "code",
   "execution_count": 75,
   "metadata": {},
   "outputs": [
    {
     "name": "stdout",
     "output_type": "stream",
     "text": [
      "['Tanzania', 'yatoa', 'ufafanuzi', 'kuhusu', 'mahindi', 'yake', 'kupigwa', 'marufuku', 'Kenya', 'Waziri', 'wa', 'Viwanda', 'na', 'Biashara', 'wa', 'Tanzania', 'Profesa', 'Kitila', 'Mkumbo', 'amesema', 'kwamba', 'tamko', 'la', 'kuzuia', 'mahindi', 'yake', 'kuingia', 'nchini', 'Kenya', 'halikufanywa', 'na', 'serikali', 'ya', 'Kenya', 'bali', 'taasisi', 'ambayo', 'hata', 'hivyo', 'majibu', 'yake', 'hayakuwa', 'sahihi', '.', 'Katika', 'mahojiano', 'na', 'BBC', ',', 'Bw', '.', 'Mkumbo', 'amesema', 'majadiliano', 'baina', 'ya', 'pande', 'mbili', 'yanaendelea', 'ili', 'biashara', 'hiyo', 'kubwa', 'kati', 'ya', 'nchi', 'hizo', 'mbili', 'irejee', 'kama', 'awali', '.']\n",
      "\n",
      " Number of Words:  72\n"
     ]
    }
   ],
   "source": [
    "file=\"21april8.txt\"\n",
    "\n",
    "# calling the function and storing the contents in a text variable \n",
    "text = get_document(\"https://www.bbc.com/swahili/habari-56672190\")\n",
    "\n",
    "# calling the store_ document function \n",
    "store_document(doc=text,name=file)\n",
    "\n",
    "#add the words in this file to the total_corpus_words, to keep count of the number of words in the corpus\n",
    "total_corpus_words+=total_words(file)"
   ]
  },
  {
   "cell_type": "code",
   "execution_count": 76,
   "metadata": {},
   "outputs": [
    {
     "data": {
      "text/plain": [
       "419690"
      ]
     },
     "execution_count": 76,
     "metadata": {},
     "output_type": "execute_result"
    }
   ],
   "source": [
    "total_corpus_words"
   ]
  },
  {
   "cell_type": "code",
   "execution_count": 77,
   "metadata": {},
   "outputs": [
    {
     "name": "stdout",
     "output_type": "stream",
     "text": [
      "['Rais', 'wa', 'Tanzania', 'Samia', 'Suluhu', 'Hasssan', 'apokea', 'ujumbe', 'maalum', 'wa', 'Rais', 'Kenyatta', 'wa', 'Kenya', '10', 'Aprili', '2021', 'Chanzo', 'cha', 'picha', ',', 'Ikulu', 'Tanzania', 'Rais', 'wa', 'Tanzania', ',', 'Samia', 'Suluhu', 'Hassan', 'amepokea', 'ujumbe', 'maalum', 'kutoka', 'kwa', 'Rais', 'wa', 'Kenya', ',', 'Uhuru', 'Kenyatta', 'uliowasilishwa', 'kwake', 'na', 'Waziri', 'wa', 'Michezo', ',', 'Utamaduni', 'na', 'Urithi', 'wa', 'nchi', 'hiyo', ',', 'Balozi', 'Amina', 'Mohamed', '.', 'Taarifa', 'iliyotolewa', 'leo', 'Aprili', '10', ',', '2021', 'na', 'mkurugenzi', 'wa', 'mawasiliano', 'ya', 'rais', 'Ikulu', 'nchini', 'Tanzania', ',', 'Gerson', 'Msigwa', 'inasema', 'pia', 'kwamba', 'Rais', 'Samia', 'amefanya', 'mazungumzo', 'na', 'Balozi', 'Amina', 'kuhusu', 'dhamira', 'ya', 'Tanzania', 'na', 'Kenya', 'kuendeleza', 'na', 'kukuza', 'zaidi', 'uhusiano', 'na', 'ushirikiano', 'katika', 'nyanja', 'mbalimbali', 'hususani', 'kiuchumi', 'na', 'kijamii', '.', 'Chanzo', 'cha', 'picha', ',', 'Ikulu', 'Tanzania', 'Rais', 'Samia', 'aliupokea', 'ujumbe', 'huo', 'katika', 'Ikulu', 'jijini', 'Dar', 'es', 'Salaam', '.', 'Rais', 'Samia', 'amemhakikishia', 'mwenzake', 'wa', 'Kenya', 'kwamba', 'Serikali', 'yake', 'ipo', 'tayari', 'kuendeleza', 'mambo', 'mazuri', 'yaliyokuwa', 'yakifanywa', 'na', 'mtangulizi', 'wake', 'Hayati', 'John', 'Magufuli', 'na', 'kutatua', 'changamoto', 'kati', 'ya', 'nchi', 'hizo', 'mbili', '.', 'Taarifa', 'hiyo', 'imesema', 'Rais', 'Samia', 'amewataka', 'mawaziri', 'na', 'wataalamu', 'wa', 'Tanzania', 'na', 'Kenya', 'wanaounda', 'kamati', 'ya', 'ushirikiano', 'wa', 'pamoja', 'ambao', 'hawajakutana', 'tangu', 'mwaka', '2016', 'kukutana', 'mara', 'moja', 'ili', 'kufanyia', 'kazi', 'masuala', 'mbalimbali', 'ya', 'kuimarisha', 'uhusiano', 'kati', 'ya', 'nchi', 'hizo', 'mbili', '.', 'Chanzo', 'cha', 'picha', ',', 'Ikulu', 'Tanzania', 'Amesema', 'Kenyatta', 'amemwalika', 'Samia', 'kufanya', 'ziara', 'nchini', 'Kenya', 'ili', 'kukuza', 'zaidi', 'uhusiano', 'na', 'ushirikiano', '.', 'Amemhakikishia', 'kuwa', 'Kenya', 'ipo', 'tayari', 'wakati', 'wote', 'kushirikiana', 'na', 'Tanzania', 'kwa', 'kuendeleza', ',', 'kukuza', 'zaidi', 'ushirikiano', 'kati', 'ya', 'nchi', 'hizo', '.', 'Katika', 'kinachoonekana', 'kama', 'kuboresha', 'uhusiano', 'na', 'ushirikiano', 'wa', 'mataifa', 'ya', 'Afrika', 'mashariki', 'Tanzania', 'itaendelea', 'na', 'mpango', 'wake', 'wa', 'kusaini', 'makubaliano', 'ya', 'ujenzi', 'wa', 'bomba', 'la', 'mafuta', 'na', 'nchi', 'jirani', 'ya', 'Uganda', 'na', 'kampuni', 'ya', 'Total', 'hapo', 'kesho', 'jumapili', '.', 'Ujumbe', 'wa', 'Tanzania', 'tayari', 'umewasili', 'Uganda', 'kwa', 'hafla', 'hiyo', 'na', 'rais', 'Suluhu', 'anatarajiwa', 'kukutana', 'na', 'mwenzake', 'wa', 'Uganda', 'kesho', 'katika', 'ikulu', 'ya', 'Entebbe', 'kwa', 'hafla', 'ya', 'kutiwa', 'saini', 'kwa', 'makubaliano', 'hayo', '.']\n",
      "\n",
      " Number of Words:  312\n"
     ]
    }
   ],
   "source": [
    "file=\"21april10.txt\"\n",
    "\n",
    "# calling the function and storing the contents in a text variable \n",
    "text = get_document(\"https://www.bbc.com/swahili/habari-56701309\")\n",
    "\n",
    "# calling the store_ document function \n",
    "store_document(doc=text,name=file)\n",
    "\n",
    "#add the words in this file to the total_corpus_words, to keep count of the number of words in the corpus\n",
    "total_corpus_words+=total_words(file)"
   ]
  },
  {
   "cell_type": "code",
   "execution_count": 78,
   "metadata": {},
   "outputs": [
    {
     "data": {
      "text/plain": [
       "420002"
      ]
     },
     "execution_count": 78,
     "metadata": {},
     "output_type": "execute_result"
    }
   ],
   "source": [
    "total_corpus_words"
   ]
  },
  {
   "cell_type": "code",
   "execution_count": 79,
   "metadata": {},
   "outputs": [
    {
     "name": "stdout",
     "output_type": "stream",
     "text": [
      "['Simba', ',', 'Al', 'Ahly', 'kukamilisha', 'leo', 'Misri', 'Timu', 'za', 'Al', 'Ahly', 'na', 'Simba', 'leo', 'zitakutana', 'katika', 'mchezo', 'wa', 'mwisho', 'wa', 'kundi', 'A', 'utakaochezwa', 'katika', 'Uwanja', 'wa', 'Al-Salam', 'jijini', 'Cairo', ',', 'Misri', 'kuanzia', 'saa', '4.00', 'usiku', 'kwa', 'muda', 'wa', 'Afrika', 'Mashariki', '.', 'Timu', 'hizo', 'zote', 'mbili', 'tayari', 'zimeshajihakikishia', 'tiketi', 'ya', 'robo', 'fainali', 'baada', 'ya', 'kushika', 'nafasi', 'mbili', 'za', 'juu', '.', 'Simba', 'ikiongoza', 'ikiwa', 'na', 'pointi', '13', 'huku', 'Al', 'Ahly', 'wakishika', 'nafasi', 'ya', 'pili', 'kwenye', 'kundi', 'hilo', 'wakiwa', 'na', 'pointi', '8', '.', 'Katika', 'mechi', 'nyingine', 'ya', 'kundi', 'hilo', ',', 'AS', 'Vita', 'Club', 'itaikaribisha', 'Al', 'Merrikh', 'huko', 'Kinshasa', ',', 'DR', 'Congo', 'katika', 'mechi', 'itakayochezwa', 'kwenye', 'Uwanja', 'wa', 'De', 'Martyrs', 'katika', 'muda', 'sawa', 'na', 'ule', 'wa', 'mechi', 'baina', 'ya', 'Al', 'Ahly', 'na', 'Simba', '.', 'AU', 'yasitisha', 'mpango', 'wake', 'wa', 'kuagiza', 'chanjo', 'ya', 'AstraZeneca', 'Umoja', 'wa', 'Afrika', '(', 'AU', ')', 'umesitisha', 'mpango', 'wa', 'kupata', 'chanjo', 'ya', 'corona', 'kutoka', 'taasisi', 'ya', 'Serum', 'kutoka', 'India', 'kwasababu', 'ya', 'kuhofia', 'usambazaji', 'wake', 'na', 'badala', 'yake', 'imeamua', 'kuagiza', 'kwa', 'watengenezaji', 'wa', 'dawa', 'wa', 'Marekani', ',', 'Johnson', '&', 'Johnson', '.', 'Kiongozi', 'wa', 'kituo', 'cha', 'kudhibiti', 'magonjwa', 'barani', 'Afrika', ',', 'John', 'Nkengasong', ',', 'alisema', 'ni', 'muhimu', 'kuwa', 'na', 'upatikanaji', 'wa', 'chanjo', 'wa', 'kuaminika', '-', 'na', 'marufuku', 'ya', 'usafirishaji', 'iliyoko', 'India', 'inaleta', 'changamoto', 'kwa', 'Afrika', '.', 'Aliongeza', 'kusema', 'kuwa', 'maamuzi', 'ya', 'Umoja', 'wa', 'Afrika', 'ya', 'kusitisha', 'uagizaji', 'wa', 'Astrazenica', 'hayana', 'uhusiano', 'wowote', 'na', 'athari', 'za', 'watu', 'kuganda', 'damu', 'kutokana', 'na', 'chanjo', 'ya', 'Oxford-AstraZeneca', 'ambazo', 'zitaendelea', 'kuletwa', 'Afrika', 'kutoka', 'Umoja', 'wa', 'Mataifa', 'kupitia', 'mpango', 'wa', 'Covax', '.', 'Taasisi', 'ya', 'India', 'ya', 'Serum', 'ina', 'leseni', 'ya', 'kusambaza', 'dawa', 'ya', 'AstraZeneca', 'duniani', 'kote', 'lakini', 'Delhi', 'imeweka', 'udhibiti', 'ili', 'kukabiliana', 'na', 'maambukizi', 'makubwa', '.', 'Bwana', 'Nkengasong', 'alisema', 'AU', 'tayari', 'imesaini', 'mkataba', 'wa', 'milioni', '400', 'ya', 'dozi', 'za', 'Johnson', '&', 'Johnson', '.', 'Nike', 'imesema', 'kampuni', 'iliyotengeza', '``', 'Viatu', 'vya', 'Shetani', \"''\", 'ambavyo', 'vinadaiwa', 'kuwa', 'na', 'tone', 'la', 'damu', 'kwenye', 'soli', 'zake', 'imekubali', 'kuondoa', 'dukani', 'viatu', 'hivyo', 'kama', 'sehemu', 'ya', 'makubaliano', 'yaliyofikiwa', 'chini', 'ya', 'sheria', '.']\n",
      "\n",
      " Number of Words:  317\n"
     ]
    }
   ],
   "source": [
    "file=\"21april9.txt\"\n",
    "\n",
    "# calling the function and storing the contents in a text variable \n",
    "text = get_document(\"https://www.bbc.com/swahili/live/habari-56686916\")\n",
    "\n",
    "# calling the store_ document function \n",
    "store_document(doc=text,name=file)\n",
    "\n",
    "#add the words in this file to the total_corpus_words, to keep count of the number of words in the corpus\n",
    "total_corpus_words+=total_words(file)"
   ]
  },
  {
   "cell_type": "code",
   "execution_count": 80,
   "metadata": {},
   "outputs": [
    {
     "data": {
      "text/plain": [
       "420319"
      ]
     },
     "execution_count": 80,
     "metadata": {},
     "output_type": "execute_result"
    }
   ],
   "source": [
    "total_corpus_words"
   ]
  },
  {
   "cell_type": "code",
   "execution_count": 85,
   "metadata": {},
   "outputs": [
    {
     "name": "stdout",
     "output_type": "stream",
     "text": [
      "['Utekelezaji', 'wa', 'amri', 'ya', 'kutotoka', 'nje', 'ya', 'Nairobi', '-', 'maelfu', 'walikwama', 'kwenye', 'barabara', 'za', 'jiji', '18', 'Aprili', '2021', 'Chanzo', 'cha', 'picha', ',', 'Getty', 'Images', 'Maelfu', 'ya', 'waendesha', 'magari', 'na', 'wasafiri', 'walijipata', 'mashakani', 'usiku', 'wa', 'Jumamosi', 'baada', 'maafisa', 'wa', 'usalama', 'jijini', 'Nairobi', 'kufanya', 'oparesheni', 'ya', 'kuhakikisha', 'wakazi', 'wa', 'jiji', 'wanazingatia', 'sheria', 'ya', 'kutotoka', 'nje', 'kuanzia', 'saa', 'mbili', 'usiku', 'hadi', 'saa', 'kumi', 'afajiri', '.', 'Hakuna', 'magari', 'yaliyoruhusiwa', 'kuingia', 'au', 'kutoka', 'katika', 'mji', 'mkuu', '.', 'Katika', 'baadhi', 'ya', 'barabara', 'polisi', 'waliwaagiza', 'waendesha', 'magari', 'kuzima', 'injini', ',', 'kutoka', 'ndani', 'ya', 'gari', 'na', 'kukaa', 'kando', 'ya', 'barabara', '.', 'Kanda', 'za', 'video', 'zilizowekwa', 'katika', 'mitandao', 'ya', 'kijamii', 'zilionesha', 'msongamano', 'mkubwa', 'wa', 'magari', 'huku', 'baadhi', 'ya', 'magari', 'yanayotoa', 'huduma', 'za', 'dharura', 'kama', 'ambulensi', 'zikipata', 'wakati', 'mgumu', 'kupita', 'katika', 'barabara', 'hizo', '.', 'Madereva', 'waliofadhaika', 'walipiga', 'honi', 'mfululizo', 'huku', 'baadhi', 'ya', 'abiria', 'wengine', 'wakiamua', 'kukamilisha', 'safari', 'zao', 'kwa', 'kutembea', '.', 'Siku', 'chache', 'kabla', 'ya', 'sherehe', 'za', 'Pasaka', ',', 'Rais', 'Uhuru', 'Kenyatta', 'alitangaza', 'kusitishwa', 'kwa', 'shughuli', 'zote', 'za', 'usafiri', 'na', 'matembezi', 'ndani', 'ya', 'jiji', 'la', 'Nairobi', 'na', 'majimbo', 'mengine', ',', 'kuanzia', 'saa', 'mbili', 'usiku', 'hadi', 'saa', 'kumi', 'alfajiri', ',', 'kama', 'hatua', 'ya', 'kudhibiti', 'mlipuko', 'wa', 'maambukizi', 'ya', 'COVID-19', 'nchini', '.', 'Rais', 'alisema', 'hakuna', 'usafiri', 'wa', 'barabarani', ',', 'angani', 'na', 'reli', 'utakaoruhusiwa', 'kuingia', 'na', 'kutoka', 'sehemu', 'hizo', 'zilizotajwa', 'kama', 'zenye', 'janga', \"'zilizoathiriwa\", 'sana', 'na', 'Corona', \"'\", '.', 'Polisi', 'waliondoa', 'vizuizi', 'vya', 'barabarani', 'saa', 'kadhaa', 'baadae', ',', 'kuwaruhusu', 'watu', 'kwenda', 'nyumbani', '.', 'Chanzo', 'cha', 'picha', ',', 'Ikulu', ',', 'Nairobi', 'Maelezo', 'ya', 'picha', ',', 'Rais', 'wa', 'Kenya', 'Uhuru', 'Kenyatta', 'Masharti', 'mengine', 'ni', 'yapi', '?', 'Kando', 'na', 'kuzuia', 'usafiri', 'wa', 'watu', 'katika', 'kaunti', 'hizo', 'tano', 'rais', 'Kenyatta', 'pia', 'alipiga', 'marufuku', 'mikutano', 'au', 'mikusanyiko', 'ya', 'watu', 'katika', 'maeneo', 'hayo', '.', 'Serikali', 'pia', 'i', ';', 'ifutoilia', 'mbali', 'pasi', 'zilizokuwa', 'zimetolewa', 'kwa', 'watu', 'wanaotoahuduma', 'muhimu', 'kwani', 'zimekuwa', 'zikitumiwa', 'vibaya', 'na', 'wizara', 'ya', 'Afya', 'na', 'ile', 'ya', 'usalama', 'wa', 'ndani', 'zitatathmini', 'upya', 'mwongozo', 'wa', 'kuzitoa', 'pasi', 'hizo', '.', 'Shughuli', 'zote', 'za', 'kuabudu', 'katika', 'kaunti', 'za', 'Nairobi', ',', 'Nakuru', ',', 'Machakos', ',', 'Kiambu', ',', 'na', 'Kajiado', 'zilizuia', 'hadi', 'wakati', 'uamuzi', 'huo', 'utakapobadilishwa', '.', 'Katika', 'sekta', 'ya', 'burudani', ',', 'baa', 'haziruhusiwi', 'kuhudumu', 'katika', 'kaunti', 'hizo', 'tano', 'husika', 'na', 'mgaahawa', 'imetakiwa', 'kutoa', 'huduma', 'za', 'kuwapelekea', 'wateja', 'vyakula', 'waliko', 'na', 'imepigwa', 'marufuku', 'dhidi', 'ya', 'kuuza', 'pombe', '.', 'Hakuna', 'masomo', 'ya', 'ana', 'kwa', 'ana', 'yatakayokubaliwa', 'na', 'vyuo', 'viku', 'vyote', 'na', 'shule', 'zimefungwa', '.', 'Wafanyikazi', 'wa', 'mashirika', 'ya', 'serikali', 'na', 'ya', 'kibinafsi', 'wametakiwa', 'kufanyia', 'kazi', 'nyumbani', 'isipokuwa', 'kwa', 'wale', 'wanaotekeleza', 'uduma', 'muhimu', 'zinazowahiaji', 'kwenda', 'kazini', '.', 'Hospitali', 'zimetakiwa', 'kupunguza', 'idadi', 'ya', 'watu', 'wanaokuja', 'kuwaona', 'wagonjwa', 'hadi', 'mtu', 'mmoja', 'kwa', 'kila', 'mgonjwa', '.', 'Mikutano', 'yote', 'itakayoruhusiwa', 'itakuwa', 'na', 'watu', 'wasiozidi', '50', 'ilhali', 'mazishi', 'yataandaliwa', 'ndani', 'ya', 'kipindi', 'cha', 'saa', '72', 'na', 'ni', 'watu', '50', 'pekee', 'watakaoruhisiwa', 'mazishini', '.', 'Serikali', 'pia', 'imesema', 'watu', 'walio', 'na', 'umri', 'wa', 'miaka', '58', 'na', 'zaidi', 'ndio', 'watakaopewa', 'chanjo', 'kwanza', '.', 'Usafiri', 'kutoka', 'Nje', 'ya', 'Kenya', 'Kuhusu', 'usafiri', 'wa', 'kigeni', 'Kenyatta', 'alisema', 'safari', 'zote', 'za', 'kimataifa', 'zitaendelea', 'ingawaje', 'cini', 'ya', 'masharti', 'makali', 'ya', 'kuzuia', 'kusambaa', 'kwa', 'Corona', '.']\n",
      "\n",
      " Number of Words:  487\n"
     ]
    }
   ],
   "source": [
    "file=\"21april18.txt\"\n",
    "\n",
    "# calling the function and storing the contents in a text variable \n",
    "text = get_document(\"https://www.bbc.com/swahili/habari-56792137\")\n",
    "\n",
    "# calling the store_ document function \n",
    "store_document(doc=text,name=file)\n",
    "\n",
    "#add the words in this file to the total_corpus_words, to keep count of the number of words in the corpus\n",
    "total_corpus_words+=total_words(file)"
   ]
  },
  {
   "cell_type": "code",
   "execution_count": 86,
   "metadata": {},
   "outputs": [
    {
     "data": {
      "text/plain": [
       "420806"
      ]
     },
     "execution_count": 86,
     "metadata": {},
     "output_type": "execute_result"
    }
   ],
   "source": [
    "total_corpus_words"
   ]
  },
  {
   "cell_type": "code",
   "execution_count": 90,
   "metadata": {},
   "outputs": [
    {
     "name": "stdout",
     "output_type": "stream",
     "text": [
      "['Na', 'huu', 'ndio', 'mwisho', 'wa', 'matangazo', 'yetu', 'ya', 'moja', 'kwa', 'moja', 'kwa', 'leo', ',', 'tukutane', 'tena', 'hapo', 'kesho', 'majaaliwa', '.', 'Akaunti', 'za', 'benki', 'za', 'mtandaoni', 'zafunguliwa', 'Tanzania', 'baada', 'ya', 'kufungwa', 'kwa', 'miezi', 'minane', 'THRDCopyright', ':', 'THRD', 'Akaunti', 'za', 'benki', 'za', 'mtandaoni', 'zafunguliwa', 'Tanzania', 'baada', 'ya', 'kufungwa', 'kwa', 'miezi', 'minane', '.', 'Taarifa', 'ya', 'kufunguliwa', 'kwa', 'akaunti', 'hiyo', 'imetolewa', 'na', 'Mtandao', 'wa', 'Watetezi', 'wa', 'Haki', 'za', 'Binadamu', 'Tanzania', '(', 'THRDC', ')', '.', '‘', '’', 'Kufunguliwa', 'kwa', 'akaunti', 'hizo', 'kumetokana', 'na', 'maelekezo', 'kutoka', 'kwa', 'mamlaka', 'za', 'serikali', 'zilizoagiza', 'kufungwa', 'ili', 'uchunguzi', 'wa', 'tuhuma', 'ufanyike', 'na', 'kisha', 'kutoa', 'maelekezo', '(', 'Notisi', 'kwa', 'Benki', ')', 'kuwa', 'zifunguliwe', '’', '’', ',', 'imesema', 'taarifa', 'ya', 'THRDC', '.', 'Taarifa', 'hiyo', 'imeendelea', 'kusema', 'kuwa', 'Kufungwa', 'kwa', 'akaunti', 'hizo', 'tangu', 'Agosti', '2020', 'hadi', 'sasa', 'kulisababisha', 'Mtandao', 'kushindwa', 'kutekeleza', 'sehemu', 'kubwa', 'ya', 'majukumu', 'yake', 'kwenye', 'miradi', 'ya', 'utetezi', 'wa', 'haki', 'za', 'binadamu', 'kama', 'ilivyokuwa', 'imeainishwa', 'kwenye', 'mipango', 'yake', 'ya', '2020', '.', 'Bodi', 'ya', 'Wakurugenzi', 'wa', 'Mtandao', 'imewashukuru', ',', 'wahisani', ',', 'taasisi', 'mbalimbali', 'na', 'wanachama', 'wa', 'Mtandao', 'walioshiriki', 'kwa', 'namna', 'mbalimbali', 'kuhakikisha', 'kuwa', 'Mtandao', 'unaendelea', 'kutekeleza', 'majukumu', 'yake', 'na', 'pia', 'mamlaka', 'mbalimbali', 'za', 'Serikali', ',', 'Tume', 'ya', 'Haki', 'za', 'Binadamu', 'na', 'Utawala', 'Bora', 'kwa', 'namna', 'zilivyoshirikiana', 'na', 'Mtandao', 'ili', 'kuhakikisha', 'kuwa', 'suluhu', 'ya', 'tatizo', 'hili', 'inapatikana', '.', 'Imemshukuru', 'Rais', 'Samia', 'Suluhu', 'Hassan', '``', 'kwa', 'uongozi', 'wake', 'unaojali', 'na', 'kuzingatia', 'haki', 'za', 'binadamu', 'na', 'utawala', 'bora', \"''\", '.', 'Kulingana', 'na', 'taarifa', 'yake', 'Mtandao', 'wa', 'THRADC', 'unaahidi', 'kuendelea', 'kufanya', 'kazi', 'kwa', 'ukaribu', 'na', 'kwa', 'kushirikiana', 'na', 'wadau', 'na', 'viongozi', 'mbalimbali', ',', 'mamlaka', 'za', 'serikali', ',', 'na', 'wadau', 'wengine', 'ili', 'kuahakikisha', 'kuwa', 'utetezi', 'wa', 'haki', 'za', 'binadamu', 'unafanyika', 'kwa', 'ufanisi', 'na', 'weledi', 'mkubwa', 'hapa', 'nchini', '.', 'Wakazi', 'wa', 'New', 'York', 'jijini', 'Marekani', 'ambao', 'wamekuwa', 'wakichanjwa', 'chanjo', 'ya', 'Covid-19', 'waliweza', 'kupata', 'zawadi', 'ambayo', 'haikutarajiwa', 'siku', 'ya', 'Jumanne', ':', 'Msokoto', 'wa', 'bangi', '.', 'Wanaharakati', 'wanaosherehekea', 'kuidhinishwa', 'rasmi', 'kwa', 'bangi', 'katika', 'jimbo', 'la', 'New', 'York', 'walimpatia', 'msokoto', 'wa', 'bangi', 'wa', 'bure', 'mtu', 'yeyote', 'mjini', 'Manhattan', 'aliyethibitisha', 'kuwa', 'alipokea', 'walau', 'dozi', 'moja', 'ya', 'chanjo', 'moja', 'ya', 'corona', '.', 'BBCCopyright', ':', 'BBC', '``', 'Hii', 'ni', 'mara', 'ya', 'kwanza', 'tunaweza', 'kuketi', 'pamoja', 'na', 'kuwapatia', 'kisheria', 'watu', 'bangi', ',', \"''\", 'alisema', 'Michael', \"O'Malley\", ',', 'mmoja', 'wa', 'waandalizi', 'wa', '‘', '’', 'utoaji', 'wa', 'bangi', '’', '’', 'katika', 'Union', 'Square', '.', '``', 'Tunaunga', 'mkono', 'juhusi', 'za', 'shirikisho', 'za', 'utoaji', 'wa', 'chanjo', '.', 'Na', 'pia', 'tunajaribu', 'kuhamasisha', 'wahalalishe', 'kisheria', 'matumizi', 'ya', 'mmea', 'wa', 'bangi', 'katika', 'nchi', 'nzima', ',', \"''\", 'aliliambia', 'shirika', 'la', 'habari', 'la', 'AFP', '.', 'Watu', 'wenye', 'silaha', 'wawateka', 'nyarawanafunzi', '‘', '’', 'wengi', '’', '’', 'Nigeria', 'Watu', 'wenye', 'silaha', 'wameteka', 'nyara', 'wanafunzi', 'kadhaa', 'kutoka', 'katika', 'chuo', 'kikuu', 'kilichopo', 'katika', 'jimbo', 'la', 'Kaduna', 'kaskazini', 'mwa', 'Nigeria', '.', 'Msemaji', 'wa', 'polisi', 'katika', 'jimbo', 'hilo', ',', 'Muhammad', 'Jalige', ',', 'amethibitisha', 'utekaji', 'nyara', 'huo', 'kwa', 'BBC', ',', 'akisema', 'wanafunzi', '‘', '’', 'wengi', '‘', '’', 'wametekwa', 'kutoka', 'katika', 'mabweni', 'yao', '.', 'Lakini', 'amesema', 'shughuli', 'ya', 'kuhesabu', 'wanafunzi', 'bado', 'inaendelaili', 'kubaini', 'idadi', 'kamili', 'ya', 'wanafunzi', 'waliotekwa', '.', 'Waliotekwa', 'ni', 'wanafunzi', 'wa', 'kike', 'na', 'wakiume', ',', 'aliongeza', '.', 'Watu', 'wliokuwa', 'wamebeba', 'silaha', 'walivamia', 'Chuo', 'Kikuu', 'cha', 'Greenfield', 'kilichopo', 'viungani', 'mwa', 'mki', 'wa', 'Kaduna', 'Jumanne', 'na', 'kufyatua', 'risasi', '.', 'Utekaji', 'nyara', 'kwa', 'ajili', 'ya', 'kikombozi', 'unaofanywa', 'na', 'watu', 'wenye', 'silaha', 'umekuwa', 'ukiongezeka', 'katika', 'miezi', 'ya', 'hivi', 'karibuni', 'nchini', 'Nigeria', ',', 'huku', 'zaidi', 'ya', 'wanafunzi', '800', 'wakiripotiwa', 'kutekwa', 'nyara', 'mwezi', 'wa', 'Disemba', '.', 'Wengi', 'wao', 'wamekuwa', 'wakiachiliwa', 'baada', 'ya', 'mashauriano', 'na', 'watekajilakini', 'wanafunzi', '29', 'waliotekwa', 'mwezi', 'uliopita', 'kutoka', 'katika', 'chuo', 'kilichopo', 'katika', 'eneo', 'la', 'msitu', 'bado', 'wanashikiliwa', 'Tazama', 'jinsi', 'helikopta', 'ndogo', 'ya', 'kwanza', 'ya', 'Nasa', 'ilivyotua', 'katika', 'sayari', 'ya', 'Mars', 'Video', 'content', 'Video', 'caption', ':', 'Jinsi', 'helikopta', 'ndogo', 'ya', 'Nasa', 'ilivyotua', 'katika', 'sayari', 'ya', 'MarsJinsi', 'helikopta', 'ndogo', 'ya', 'Nasa', 'ilivyotua', 'katika', 'sayari', 'ya', 'Mars', 'Kwa', 'mara', 'ya', 'kwanza', 'Shirika', 'la', 'safari', 'za', 'anga', 'za', 'mbali', 'la', 'Marekani', 'NASA', 'limeweza', 'kupeleka', 'helikopta', 'ndogo', 'nje', 'ya', 'sayari', 'dunia', 'na', 'kuweza', 'kuiwezesha', 'kupaa', 'kwenye', 'sayari', 'ya', 'Mars', '.', 'Tukio', 'hilo', 'lililorekodiwa', 'tarehe', '19', 'Aprili', 'limekua', 'ni', 'la', 'kihistoria', 'na', 'kutoa', 'matumaini', 'ya', 'safari', 'nyingine', 'zaidi', '.', 'Rais', 'wa', 'Ufaransa', 'amuomboleza', '‘', 'rafiki', 'jasiri', '’', 'Rais', 'wa', 'Ufaransa', 'Emmanuel', 'Macron', 'ametoa', 'rambirambi', 'zake', 'kwa', 'hayati', 'rais', 'wa', 'Chad', 'Idris', 'Deby', ',', 'akimtaja', 'kama', '‘', '’', 'rafiki', 'jasiri', '‘', '’', 'na', '‘', '’', 'mwanajeshi', 'bora', '’', '’', ',', 'Shirika', 'la', 'habari', 'Reuters', 'limenukuu', 'ofisi', 'ya', 'rais', 'huyo', 'ikisema', '.', 'Bw', 'Macron', 'pia', 'alisema', 'kuwa', 'Chad', 'inahitaji', 'kipindi', 'cha', 'mpito', 'cha', 'utulivu', 'na', 'amani', ',', 'kulingana', 'na', 'ripoti', 'ya', 'shirika', 'la', 'habari', 'la', 'AFP', '.', 'Vyombo', 'vya', 'habari', 'nchini', 'Chad', 'vinatoa', 'ripoti', 'tofauti', 'juu', 'ya', \"'ufyatuaji\", 'risasi', \"''\", 'katika', 'kasri', 'la', 'rais', 'Getty', 'ImagesCopyright', ':', 'Getty', 'Images', 'Mahamat', 'Idriss', 'Déby', 'Itno', 'alitangazwa', 'kama', 'mkuu', 'wa', 'baraza', 'la', 'mpito', 'la', 'kijeshi', 'akimrithi', 'baba', 'yakeImage', 'caption', ':', 'Mahamat', 'Idriss', 'Déby', 'Itno', 'alitangazwa', 'kama', 'mkuu', 'wa', 'baraza', 'la', 'mpito', 'la', 'kijeshi', 'akimrithi', 'baba', 'yake', 'Vyombo', 'vya', 'habari', 'vya', 'Chad', 'vinatoa', 'taarifa', 'zinazokinzana', 'kuhusu', 'madai', 'ya', 'tukio', 'la', 'ufyatuaji', 'risasi', 'katika', 'kasri', 'la', 'rais', 'lililopo', 'katika', 'mji', 'mkuu', 'N', '’', 'Djamena', 'kuhusiana', 'na', 'kile', 'kinachotajwa', 'kama', 'mzozo', 'ndani', 'ya', 'familia', 'yaDéby', 'family', 'kuhusu', 'uteuzi', 'waMahamat', 'Idriss', 'Déby', 'Itno', 'kumrithi', 'baba', 'yake', '.', 'Msururu', 'wa', 'jumbe', 'za', 'Twitter', 'kutoka', 'katika', 'wavuti', 'wa', 'kibinafsi', 'wa', 'habari', 'wa', 'Tchatinfos', 'unanukuu', 'vyanzo', 'adhaa', 'visivyojulikana', 'vikikanusha', 'tukio', 'la', 'ufyatuaji', 'wa', 'risasi', '.', '‘', '’', 'Rais', 'wa', 'baraza', 'la', 'kijeshi', 'la', 'mpito', 'yuko', 'hai', 'na', 'mwenye', 'afya', '.', 'Hapakuwa', 'na', 'ufyatuaji', 'wowoye', 'wa', 'risasi', 'katika', 'kasri', 'na', 'hakuna', 'malalamiko', 'kutoka', 'kwa', 'kaka', 'yake', '[', 'Mahamat', ']', 'Zakaria', ',', \"''\", 'wavuti', 'wa', 'Tchadifos', 'ulisema', 'Hatahivyo', ',', 'Toubou', 'Media', 'ulinukuu', 'vyanzo', 'vya', 'habari', 'ambavyo', 'vilidai', 'kwamba', 'Mahamat', 'alijeruhiwa', 'katika', 'tukio', 'la', 'ufyatuaji', 'risasi', 'lililosababishwa', 'na', '``', 'tofauti', 'ndani', 'ya', 'familia', \"''\", '.', 'Hayati', 'Déby', 'alikuwa', 'na', 'familia', 'kubwa', 'kutokana', 'na', 'kuoa', 'mara', 'kadhaa', ',', 'na', 'ana', 'idadi', 'ya', 'watoto', 'isiyojulikana', '.', 'Wakati', 'huo', 'huo', 'wavuti', 'wa', 'habari', 'unaounga', 'mkono', 'serikali', 'Alwihda', 'Info', 'uliripoti', 'kuwa', 'milio', 'ya', 'bunduki', 'ilisikika', 'katika', 'mkoa', 'wa', 'Ati', ',', 'lililopo', 'kilomita', '378', '(', 'au', 'maili', '234', ')', 'mashariki', 'mwa', 'mji', 'mkuu', \"N'Djamena\", ',', 'baada', 'ya', 'wafungwa', 'kujaribu', 'kutoroka', 'gerezani', '.', 'Wavuti', 'huo', 'uliongeza', 'kuwa', '“', 'hali', 'ya', 'utulivu', 'imerejeshwa', '”', 'baada', 'ya', 'kupelekwa', 'kwa', 'wanajeshi', 'zaidi', 'katika', 'mkoa', 'huo', '.', 'Mwanae', 'Idris', 'Deby', 'achukua', 'uongozi', 'wa', 'nchi', 'baada', 'ya', 'kifo', 'cha', 'baba', 'yake', 'Mahamat', 'Kaka', 'akiwa', 'pamoja', 'na', 'wanajeshi', 'wengine', 'walipokuwa', 'wakitangaza', 'kifo', 'cha', 'baba', 'yake', 'Idris', 'DebyImage', 'caption', ':', 'Mahamat', 'Kaka', 'akiwa', 'pamoja', 'na', 'wanajeshi', 'wengine', 'walipokuwa', 'wakitangaza', 'kifo', 'cha', 'baba', 'yake', 'Idris', 'Deby', 'Kifo', 'cha', 'ghafla', 'cha', 'Rais', 'wa', 'Chad', 'Idriss', 'Deby', 'kimemfanya', 'mwanae', ',', 'Luteni', 'Mahamat', 'Idris', 'Deby', 'Itno', '(', 'al', 'maaruafu', 'General', 'Kaka', ')', ',', 'kuwa', 'uongozi', 'wa', 'taifa', 'hilo', 'la', 'Afrika', 'ya', 'kati', ',', 'kwa', 'kipindi', 'cha', 'mpito', 'cha', 'mwaka', 'mmoja', 'kabla', 'kufanya', 'uchaguzi', '.', 'Waasi', 'wanatishia', 'kufanya', 'upya', 'mashambulizi', 'dhidi', 'ya', 'mji', 'mkuu', 'N', '’', 'Djamena', '.', 'Mahamat', ',', 'mwenye', 'umri', 'wa', 'miaka', '37', ',', 'jana', 'alitangaza', 'Baraza', 'la', 'Mpito', 'la', 'wanajeshi', 'la', 'wanachama', '15', '(', 'TMC', ')', 'linaloundwa', 'na', 'majenerali', 'ambao', 'wataiawala', 'Chad', 'kwa', 'miezi', '18', 'ijayo', '.', 'Baraza', 'la', 'mawaziri', 'na', 'Bunge', 'lilivunjwa', 'na', 'amri', 'ya', 'kitaifa', 'ya', 'kutotoka', 'nje', 'imewekwa.Waasi', 'kutoka', 'chama', 'cha', 'Front', 'for', 'Change', 'and', 'Concord', 'in', 'Chad', '(', 'FACT', ')', 'wameripotiwa', 'kuanza', 'tena', 'harakati', 'zao', 'kuelekea', \"N'Djamena\", ',', 'baada', 'ya', 'kifo', 'cha', 'Deby', '.', 'Deby', ',', 'ambaye', 'aliongoza', 'Chad', 'kwa', 'miongo', 'mitatu', ',', 'alifariki', 'saa', 'kadhaa', 'baada', 'ya', 'kutangazwa', 'mshindi', 'wa', 'uchaguzi', 'wa', 'urais', 'wa', 'Aprili', '11', 'na', 'karibu', '80', '%', 'ya', 'kura', '.', 'Katika', 'taarifa', 'iliyotumwa', 'kwenye', 'mitandao', 'ya', 'kijamii', 'jana', 'usiku', ',', 'FACT', 'ilisema', ':', '``', 'Vikosi', 'vya', 'upinzaji', 'viko', 'katika', 'milango', 'ya', \"N'Djamena\", '.', \"''Tuko\", 'hapa', 'kupiga', 'kengele', ',', 'sio', 'za', 'chuki', 'au', 'mgawanyiko', ',', 'bali', 'kupiga', 'kengele', 'za', 'amani', 'na', 'matumaini', 'mapya', '.', 'Na', 'zitakapolia', ',', 'hakutakuwa', 'na', 'mikono', 'tena', 'nchini', 'Chad', 'kupiga', 'ngoma', 'za', 'vita.', '``', 'ilisema', 'taarifa', 'hiyo', '.', 'Post', 'update', 'Rais', 'Uhuru', 'Kenyatta', 'amewasili', 'mjini', 'Kinshasakatika', 'Jamuhuri', 'ya', 'Kidemokrasi', 'ya', 'Kongo', 'kwa', 'ziara', 'ya', 'siku', 'tatu', 'kwa', 'mwaliko', 'wa', 'Felix', 'Tshisekedi', '.', 'Uhuru', 'amepokelewa', 'na', 'Rais', 'Tshisekedi', 'na', 'kupewa', 'mapokezi', 'ya', 'taifa', 'na', 'gwaride', 'la', 'heshima', '.', 'Katikia', 'uwanja', 'wa', 'ndege', 'Rais', 'Kenyatta', 'alipokelewa', 'na', 'Rais', 'Tshisekedi', 'ambaye', 'aliambatana', 'na', 'maafisa', 'wa', 'serikali', 'ya', 'Congo', 'ikiwa', 'ni', 'pamoja', 'na', 'Waziri', 'wa', 'mambo', 'ya', 'nje', 'Christophe', 'Lutundula', 'na', 'Gavana', 'wa', 'jiji', 'la', 'Kinshasa', 'Gentiny', 'Ngobila', 'Mbala', '.', 'Rais', 'Kenyatta', 'na', 'mwenyeji', 'wake', 'leo', 'wataongoza', 'ujumbe', 'wao', 'katuika', 'mazungumzo', 'ya', 'ushirikiano', 'baina', 'ya', 'Jamuhuri', 'ya', 'Kidemokrasi', 'ya', 'Congo', 'na', 'kusaini', 'makubaliano', 'mbali', 'mbali', 'ya', 'ushirikiano', 'baina', 'ya', 'nchi', 'hizo', '.']\n",
      "\n",
      " Number of Words:  1380\n"
     ]
    }
   ],
   "source": [
    "file=\"21april21.txt\"\n",
    "\n",
    "# calling the function and storing the contents in a text variable \n",
    "text = get_document(\"https://www.bbc.com/swahili/live/habari-56827566\")\n",
    "\n",
    "# calling the store_ document function \n",
    "store_document(doc=text,name=file)\n",
    "\n",
    "#add the words in this file to the total_corpus_words, to keep count of the number of words in the corpus\n",
    "total_corpus_words+=total_words(file)"
   ]
  },
  {
   "cell_type": "code",
   "execution_count": 91,
   "metadata": {},
   "outputs": [
    {
     "data": {
      "text/plain": [
       "422186"
      ]
     },
     "execution_count": 91,
     "metadata": {},
     "output_type": "execute_result"
    }
   ],
   "source": [
    "total_corpus_words"
   ]
  },
  {
   "cell_type": "code",
   "execution_count": 93,
   "metadata": {},
   "outputs": [
    {
     "name": "stdout",
     "output_type": "stream",
     "text": [
      "['Siku', 'tano', 'kwa', 'wiki', 'Jacob', 'Ghost', 'Mulee', 'hufanya', 'kazi', 'kama', 'mtangazaji', 'wa', 'redio', 'Huwezi', 'kusikiliza', 'tena', 'Siku', 'tano', 'kwa', 'wiki', 'Jacob', 'Ghost', 'Mulee', 'hufanya', 'kazi', 'kama', 'mtangazaji', 'wa', 'redio', '23', 'Aprili', '2021', 'Siku', 'tano', 'kwa', 'wiki', 'Jacob', 'Ghost', 'Mulee', 'hufanya', 'kazi', 'kama', 'mtangazaji', 'wa', 'redio.Anatoa', 'ushauri', 'wa', 'uhusiano', 'katika', 'kipindi', 'cha', 'asubuhi', 'kwenye', 'kituo', 'cha', 'Radio', 'Jambo', '.Ghost', 'hata', 'hivyo', 'sio', 'mtangazaji', 'wa', 'kawaida-yeye', 'ndiye', 'kocha', 'wa', 'timu', 'ya', 'taifa', 'ya', 'Kenya', 'Harambee', 'Stars', '.']\n",
      "\n",
      " Number of Words:  75\n"
     ]
    }
   ],
   "source": [
    "file=\"21april23.txt\"\n",
    "\n",
    "# calling the function and storing the contents in a text variable \n",
    "text = get_document(\"https://www.bbc.com/swahili/habari-56855501\")\n",
    "\n",
    "# calling the store_ document function \n",
    "store_document(doc=text,name=file)\n",
    "\n",
    "#add the words in this file to the total_corpus_words, to keep count of the number of words in the corpus\n",
    "total_corpus_words+=total_words(file)"
   ]
  },
  {
   "cell_type": "code",
   "execution_count": 94,
   "metadata": {},
   "outputs": [
    {
     "data": {
      "text/plain": [
       "422261"
      ]
     },
     "execution_count": 94,
     "metadata": {},
     "output_type": "execute_result"
    }
   ],
   "source": [
    "total_corpus_words"
   ]
  },
  {
   "cell_type": "code",
   "execution_count": 95,
   "metadata": {},
   "outputs": [
    {
     "name": "stdout",
     "output_type": "stream",
     "text": [
      "['Mzozo', 'mpya', 'Somalia', ':', 'Kitisho', 'cha', 'vita', 'vipya', 'vya', 'wenyewe', 'kwa', 'wenyewe', 'Umezuka', 'wasiwasi', 'katika', 'mji', 'mkuu', 'wa', 'Somalia', ',', 'Mogadishu', 'baada', 'ya', 'mapigano', 'makali', 'ya', 'risasi', 'Jumapili', 'na', 'Jumatatu', 'ya', 'wiki', 'hii', ',', 'Kati', 'ya', 'majeshi', 'yanayomuunga', 'mkono', 'Rais', 'Mohamed', 'Abdullahi', 'Mohamed', 'maarufu', 'kwa', 'jina', 'la', '``', 'Farmaajo', \"''\", ',', 'na', 'makundi', 'ya', 'wanamgambo', 'yanayowaunga', 'mkono', 'wapinzani', 'wake', '.', 'Matukio', 'hayo', 'chanzo', 'chake', 'ni', 'hatua', 'ya', 'kiongozi', 'huyo', 'kushindwa', 'kuandaa', 'uchaguzi', 'mkuu', 'mpya', 'wa', 'Rais', 'na', 'Bunge', 'uliotarajiwa', 'kufanyika', 'mwezi', 'Februari', 'mwaka', 'huu', 'baada', 'ya', 'muhula', 'wake', 'kumalizika', '.', 'Badala', 'yake', 'aliamua', 'kusaini', 'sharia', 'ya', 'kurefusha', 'kipindi', 'chake', 'cha', 'kubakia', 'madarakani', 'kwa', 'miaka', 'miwili', '.', 'Uamuzi', 'wake', 'ulitanguliwa', 'na', 'mazungumzo', 'magumu', 'ya', 'miezi', 'kadhaa', 'na', 'wapinzani', 'wake', 'ambayo', 'hayakuzaa', 'matunda', '.', 'Hofu', 'iliopo', 'ni', 'kwamba', 'mapigano', 'yanaweza', 'kuzagaa', 'na', 'nchi', 'hiyo', 'kutumbukia', 'katika', 'vita', 'vyengine', 'vya', 'wenyewe', 'kwa', 'wenyewe', '.', 'Dalili', 'za', 'uwezekano', 'huo', ',', 'zinafuatia', 'baadhi', 'ya', 'wanajeshi', 'wa', 'waliowatiifu', 'kwa', 'Rais', 'huyo', ',', 'kujiunga', 'na', 'mahasimu', 'wake', '.', 'Mapigano', 'ya', 'karibuni', 'ni', 'miongoni', 'mwa', 'yale', 'mabaya', 'kabisa', 'kuwahi', 'kuonekana', 'katika', 'mji', 'mkuu', 'wa', 'Mogadishu', '.', 'Wapinzani', 'hao', 'wanadai', 'Farmajo', 'anachukua', 'hatua', 'iliyo', 'kinyume', 'kabisa', 'na', 'katiba', '.', 'Ikisaidiwa', 'na', 'Jumuiya', 'ya', 'Kimataifa', 'ukiwemo', 'Umoja', 'wa', 'Mataifa', 'Somalia', 'bila', 'mafanikio', 'imekuwa', 'katika', 'jitihada', 'za', 'kuwa', 'na', 'serikali', 'imara', 'ili', 'iweze', 'kupiga', 'hatua', 'ya', 'ujenzi', 'mpya', ',', 'tokea', 'ilipotumbukia', 'kwenye', 'dimbwi', 'la', 'machafuko', 'na', 'vita', '1991', ',', 'baada', 'ya', 'kuangushwa', 'kwa', 'utawala', 'wa', 'Mohamed', 'Siad', 'Barre', '.', 'Inaelekea', 'lengo', 'la', 'Mohamed', 'Abdullahi', 'ni', 'uchu', 'wa', 'madaraka', 'na', 'kuendelea', 'kubaki', 'madarakani', 'baada', 'ya', 'kipindi', 'chake', 'cha', 'miaka', 'minne', 'kumalizika', '.', 'Licha', 'ya', 'kuonywa', 'na', 'Jumuiya', 'ya', 'Kimataifa', 'pamoja', 'na', 'Marekani', 'ambayo', 'imetishia', 'kumuwekea', 'vikwazo', ',', 'kiongozi', 'huyo', 'hayatii', 'manani', 'na', 'aliamua', 'kuendelea', 'na', 'mpango', 'wake', '.', 'Kitisho', 'kikubwa', 'cha', 'mgogoro', 'huu', 'mpya', 'nchini', 'Somalia', ',', 'siyo', 'katika', 'suala', 'la', 'amani', 'ya', 'Somalia', 'pekee', ',', 'lakini', 'ni', 'kwa', 'mchakato', 'wa', 'amani', 'na', 'utulivu', 'katika', 'pembe', 'ya', 'Afrika', '.', 'Chanzo', 'cha', 'picha', ',', 'Getty', 'Images', 'Ingawa', 'Jumuiya', 'ya', 'Kimataifa', 'itakuwa', 'imechoshwa', 'na', 'Somalia', 'ambayo', 'baada', 'ya', 'miongo', 'mitatu', 'ya', 'machafuko', ',', 'haitomudu', 'hata', 'hivyo', 'kuipa', 'kisogo', 'Somalia', ',', 'kwani', 'utakuwa', 'ni', 'mtihani', 'mgumu', 'pindi', 'ikirejea', 'tena', 'katika', 'vita', 'vya', 'wenyewe', 'kwa', 'wenyewe', '.', 'Tatizo', 'jengine', 'ni', 'kujiingiza', 'kwa', 'namna', 'moja', 'au', 'nyengine', 'kwa', 'mataifa', 'ya', 'kigeni', '.', 'Kwa', 'mfano', 'Eritrea', 'inasemekana', 'kumuunga', 'mkono', 'Rais', 'Farmaajo', 'na', 'kuna', 'ushawishi', 'mkubwa', 'wa', 'Uturuki', 'na', 'Qatar', '.', 'Changamoto', 'nyengine', 'ni', 'kubadilika', 'kwa', 'hali', 'ya', 'kisiasa', 'katika', 'pembe', 'ya', 'Afrika', 'kinyume', 'na', 'matarajio', 'ya', 'wakazi', 'wake', '.', 'Itakumbukwa', 'alipoingia', 'madarakani', 'Aprili', '2018', ',', 'Waziri', 'mkuu', 'wa', 'Ethiopia', 'Dr', 'Abiy', 'Ahmed', 'alijitolea', 'kuanza', 'jitihada', 'za', 'kuleta', 'amani', 'katika', 'kanda', 'hiyo', ',', 'akianza', 'na', 'upatanishi', 'kati', 'ya', 'nchi', 'yake', 'na', 'Eritrea', ',', 'uhasama', 'uliodumu', 'miongo', 'miwili', '.', 'Pia', 'akazipatanisha', 'Eritrea', 'na', 'Djibouti', 'na', 'kusaidia', 'kupatikana', 'suluhisho', 'la', 'mzozo', 'wa', 'kisiasa', 'Sudan', 'baada', 'ya', 'kuangushwa', 'utawala', 'wa', 'Rais', 'Omar', 'Hassan', 'al', 'Bashir', '2019', ',', 'kwa', 'kuundwa', 'serikali', 'ya', 'pamoja', 'kati', 'ya', 'wanajeshi', 'na', 'raia', 'kuongoza', 'kipindi', 'cha', 'mpito', 'kuelekea', 'utawala', 'wa', 'kidemokrasi', '.', 'Lakini', 'kipindi', 'hiki', 'kifupi', 'kisichozidi', 'miaka', 'mitatu', 'mchache', 'kimeibadili', 'sura', 'ya', 'pembe', 'ya', 'Afrika', 'kutoka', 'kwenye', 'matumaini', 'hadi', 'kwenye', 'matatizo', 'mapya', 'yasiyotarajiwa', '.', 'Mpatanishi', 'Ethiopia', 'sasa', 'yenyewe', 'ina', 'mgogoro', 'na', 'Sudan', 'aliojiunga', 'na', 'Misri', 'kuhusu', 'uamuzi', 'wa', 'Ethiopia', 'kujenga', 'bwawa', 'kubwa', 'kwa', 'kutumia', 'maji', 'ya', 'mto', 'Nile', 'na', 'pia', 'mgogoro', 'wa', 'mpaka', '.', 'Ethiopia', 'ilichukuwa', 'hatua', 'ya', 'kijeshi', 'kukandamiza', 'jaribio', 'la', 'kujitenga', 'jimbo', 'lake', 'la', 'Tigray', ',', 'kulikopelekea', 'pia', 'majeshi', 'ya', 'Eritrea', 'kuingia', 'katika', 'jimbo', 'hilo', 'kupigana', 'na', 'waasi', '.', 'Si', 'hayo', 'tu', ',', 'Desemba', '2020', 'Somalia', 'na', 'Kenya', 'ziliingia', 'kwenye', 'mzozo', 'wa', 'kidiplomasia', 'na', 'kuvunja', 'uhusiano', ',', 'baada', 'ya', 'Somalia', 'kudai', 'kwamba', 'jirani', 'yake', 'anaingilia', 'mambo', 'ya', 'ndani', 'ya', 'nchi', 'hiyo', 'na', 'tangu', 'wakati', 'huo', 'uhusiano', 'wao', 'haujawa', 'mzuri', '.', 'Kenya', 'ina', 'karibu', 'wanajeshi', '3,600', 'kusini', 'mwa', 'Somalia', 'katika', 'kampeni', 'dhidi', 'ya', 'wapiganaji', 'wa', 'Al-Shabab', 'wakiwa', 'sehemu', 'ya', 'kikosi', 'cha', 'kusimamia', 'amani', 'cha', 'Umoja', 'wa', 'Afrika', '.', 'Al', 'Shabab', 'wanayadhibiti', 'maeneo', 'makubwa', 'ya', 'kati', 'na', 'kusini', 'mwa', 'Somalia', '.', 'Chanzo', 'cha', 'picha', ',', 'Ikulu', 'ya', 'Rais', 'Somalia', 'Kuzuka', 'kwa', 'machafuko', 'na', 'mapigano', 'ya', 'wenyewe', 'kwa', 'wenyewe', 'kwa', 'mara', 'nyengine', 'tena', 'kutasababisha', 'mtihani', 'mkubwa', 'kwa', 'Kenya', 'katika', 'suala', 'zima', 'la', 'usalama', 'katika', 'mpaka', 'wake', 'wa', 'kaskazini', 'na', 'Somalia', '.', 'Al', 'Shabab', 'wenye', 'mafungamano', 'na', 'mtandao', 'wa', 'kigaidi', 'wa', 'Al-Qaeda', ',', 'wamefanya', 'mashambulizi', 'mara', 'kadhaa', 'ndani', 'ya', 'Kenya', ',', 'likiwemo', 'lile', 'baya', 'kabisa', '2013', 'dhidi', 'ya', 'kituo', 'cha', 'biashara', 'cha', 'Westgate', 'mjini', 'Nairobi', 'ambapo', 'zaidi', 'ya', 'watu', '60', 'waliuwawa', '.', 'Kundi', 'hilo', 'la', 'wanamgambo', 'linayadhibiti', 'maeneo', 'ya', 'kati', 'na', 'kusini', 'mwa', 'Somalia', 'na', 'kuhusika', 'katika', 'mashambulizi', 'kadhaa', 'dhidi', 'ya', 'serikali', 'katika', 'mji', 'mkuu', 'Mogadishu', '.', 'Kinachoisibu', 'Somalia', 'ni', 'kuendelea', 'kuwepo', 'kwa', 'hisia', 'za', 'kikoo', 'na', 'ushawishi', 'wa', 'koo', 'hizo', 'katika', 'uongozi', 'wa', 'taifa', 'hilo', '.', 'Farmaajo', 'aliyeshika', 'hatamu', 'za', 'uongozi', 'baada', 'ya', 'kuwashinda', 'marais', 'wawili', 'wa', 'zamani', 'walioshindana', 'naye', '201', ',', 'ameshindwa', 'kuwapa', 'Wasomali', 'na', 'Jumuiya', 'ya', 'Kimataifa', 'lile', 'walilolitarajia', '.', 'Raia', 'huyo', 'wa', 'zamani', 'wa', 'Marekani', 'alifikiriwa', 'angechangia', 'katika', 'safari', 'ya', 'kuelekea', 'katika', 'utekelezaji', 'wa', 'utawala', 'bora', 'hatua', 'kwa', 'hatua', ',', 'kwa', 'kuandaa', 'uchaguzi', 'na', 'kuondoka', 'kwa', 'heshima', '.', 'Baadhi', 'ya', 'wababe', 'hao', 'hawakuvitumia', 'vita', 'hivyo', 'vya', 'wenyewe', 'kwa', 'wenyewe', 'kuwania', 'madaraka', ',', 'lakini', 'pia', 'kujilimbikizia', 'utajiri', '.', 'Wengi', 'waliishia', 'hatimae', 'kwenda', 'uhamishoni', '.', 'Jumuiya', 'ya', 'Kimataifa', 'kwa', 'mara', 'nyengine', 'tena', 'inajikuta', 'ikikabiliwa', 'na', 'tatizo', 'sugu', 'la', 'kuitafutia', 'suluhisho', 'Somalia', '.', 'Kiroja', 'cha', 'mambo', 'Rais', 'Farmaajo', 'ameelezea', 'kuwa', 'tayari', 'kuzungumza', 'na', 'wapinzani', 'wake', 'na', 'wadau', 'katika', 'mzozo', 'huo', 'kisiasa', ',', 'wakiwamo', 'wafadhili', ',', 'ili', 'kutafuta', 'suluhisho', '.', 'Amependekeza', 'upatanishi', 'wa', 'Umoja', 'wa', 'Afrika', 'na', 'kuwasiliana', 'na', 'Mwenyekiti', 'wa', 'Umoja', 'huo', ',', 'Rais', 'Felix', 'Tshisekedi', 'wa', 'Jamhuri', 'ya', 'Kidemokrasi', 'ya', 'Congo', '.', 'Mgogoro', 'ulipofikia', ',', 'suluhisho', 'pekee', 'litakuwa', 'ni', 'yeye', 'mwenyewe', 'kubatilisha', 'uamuzi', 'wake', 'wa', 'kurefusha', 'kipindi', 'chake', 'kubakia', 'madarakani', 'na', 'hasa', 'kwa', 'kuwa', 'Jumuiya', 'ya', 'Kimataifa', 'ukiwemo', 'Umoja', 'wa', 'Afrika', 'zilimuonya', 'dhidi', 'ya', 'hatua', 'yake', 'hiyo', '.', 'Ameanza', 'kupoteza', 'pia', 'imani', 'ya', 'raia', ',', 'ambao', 'wameandamana', 'katika', 'mji', 'mkuu', 'na', 'kupambana', 'na', 'vikosi', 'vya', 'usalama', '.', 'Umoja', 'wa', 'Ulaya', ',', 'Umoja', 'wa', 'mataifa', 'na', 'Marekani', 'hazina', 'budi', 'kuacha', 'kuyaonea', 'haya', 'mataifa', 'yenye', 'mkono', 'wao', 'katika', 'mzozo', 'wa', 'Somalia', 'wakiziunga', 'mkono', 'pande', 'zinazohusika', ',', 'zikiwemo', 'Qatar', 'na', 'Umoja', 'wa', 'falme', 'za', 'kiarabu', 'zinazosemekana', 'kuisaidia', 'serikali', 'ya', 'Farmaajo', '.', 'Kwa', 'upande', 'mwengine', ',', 'Jumuiya', 'ya', 'Kimataifa', 'itaendelea', 'kusaidia', 'kuitafutia', 'amani', ',', 'lakini', 'suluhisho', 'bado', 'limo', 'mikononi', 'mwa', 'Wasomali', 'wenyewe', '.']\n",
      "\n",
      " Number of Words:  1042\n"
     ]
    }
   ],
   "source": [
    "file=\"21april27.txt\"\n",
    "\n",
    "# calling the function and storing the contents in a text variable \n",
    "text = get_document(\"https://www.bbc.com/swahili/habari-56897812\")\n",
    "\n",
    "# calling the store_ document function \n",
    "store_document(doc=text,name=file)\n",
    "\n",
    "#add the words in this file to the total_corpus_words, to keep count of the number of words in the corpus\n",
    "total_corpus_words+=total_words(file)"
   ]
  },
  {
   "cell_type": "code",
   "execution_count": 96,
   "metadata": {},
   "outputs": [
    {
     "data": {
      "text/plain": [
       "423303"
      ]
     },
     "execution_count": 96,
     "metadata": {},
     "output_type": "execute_result"
    }
   ],
   "source": [
    "total_corpus_words"
   ]
  },
  {
   "cell_type": "code",
   "execution_count": 97,
   "metadata": {},
   "outputs": [
    {
     "name": "stdout",
     "output_type": "stream",
     "text": [
      "['Afrika', 'mashariki', ':', 'Wafahamu', 'nyota', 'wa', 'Tanzania', ',', 'Kenya', 'na', 'Uganda', 'wanaoipeperusha', 'bendera', 'ya', 'Afrika', 'mashariki', 'duniani', '28', 'Aprili', '2021', 'Chanzo', 'cha', 'picha', ',', 'Twitter/IDRIS', 'SULTAN', 'Afrika', 'mashariki', 'imejaa', 'nyota', 'katika', 'ulingo', 'wa', 'kimataifa', 'kwa', 'kuipeperusha', 'bendera', 'yake', '.Iwe', 'ni', 'katika', 'michezo', ',', 'sanaa', 'na', 'sayansi', 'watu', 'mbalimbali', 'wameziletea', 'sifa', 'nchi', 'za', 'Afrika', 'mashariki', 'katika', 'nyakati', 'tofauti', 'katika', 'miaka', 'ya', 'hivi', 'karibuni', '.', 'Kuna', 'ambao', 'muziki', 'wao', 'umeiweka', 'Tanzania', 'katika', 'ramani', 'ya', 'burudani', 'Afrika', ',', 'na', 'majina', 'maarufu', 'hapa', 'ni', 'kama', 'mwanamuziki', 'Diamond', 'Platinumz', 'na', 'wenzake', 'wengi', '.', 'Hatahivyo', 'pia', 'kuna', 'wengine', 'ambao', 'wamezidi', 'kuipa', 'sifa', 'Afrika', 'mashariki', 'katika', 'tasnia', 'za', 'michezo', '.', 'Hawa', 'hapa', 'baadhi', 'ya', 'nyota', 'hao', 'ambao', 'kazi', 'zao', 'na', 'talanta', 'zimewapa', 'fursa', 'ya', 'kuwaletea', 'Waafrika', 'mashariki', 'sifa', 'na', 'kutambuliwa', '.', 'Idris', 'Sultan', 'Raia', 'huyo', 'wa', 'Tanzania', 'ni', 'muigizaji', 'na', 'sasa', 'ni', 'muigizaji', 'wa', 'kwanza', 'kutoka', 'nchi', 'hiyo', 'kuhusishwa', 'katika', 'filamu', 'iliyo', 'kwenye', 'mtandao', 'wa', 'Netflix', '.', 'Sultan', 'ambaye', 'pia', 'ana', 'wafuasi', 'wengi', 'katika', 'mitandao', 'ya', 'kijamii', 'alifurahi', 'sana', 'kwa', 'mafanikio', 'hayo', 'na', 'aliwaambia', 'wafuasi', 'wake', 'takriban', 'milioni', '6.6', 'kwenye', 'instagram', 'kwamba', 'alifurahia', 'sana', 'heshima', 'ya', 'kuipeperusha', 'bendera', 'ya', 'Tanzania', 'katika', 'tasnia', 'ya', 'filamu', 'kwa', 'kuhusika', 'kwake', 'na', 'filamu', 'hiyo', 'kwa', 'jina', 'Slay', '.', 'Mshindi', 'huyo', 'wa', 'zamani', 'wa', 'Big', 'Brother', 'Africa', 'ni', 'miongoni', 'mwa', 'majina', 'mengine', 'maarufu', 'katika', 'filamu', 'hiyo', 'wengine', 'wakiwa', 'Ramsey', 'Naouh', ',', 'Enhle', 'Mbali', ',', 'Dawn', 'Thandeka', 'Kang', ',', 'Tumi', 'Marake', ',', 'Trevor', 'Gumbi', ',', 'Lillian', 'Dube', ',', 'Kaly', 'Boss', 'Asante', ',', 'Shaleen', 'Surtie', 'na', 'Fabiaa', 'Lojege', '.', 'Aliyekuwa', 'Rais', 'wa', 'Tanzania', 'Jakaya', 'Kikwete', 'ni', 'miongoni', 'mwa', 'walioguswa', 'sana', 'na', 'hatua', 'aliyeipiga', 'kijana', 'huyu', '.', 'Kushirikishwa', 'kwa', 'Idris', 'katika', 'filamu', 'hiyo', 'ya', 'Netflix', 'kutampa', 'ukumbi', 'mzuri', 'wa', 'kuipeperusha', 'hata', 'zaidi', 'bendera', 'ya', 'Afrika', 'Mashariki', 'kwa', 'sababu', 'Netflix', 'ina', 'zaidi', 'ya', 'watu', 'milioni', '203.7', 'wanaoiumia', 'huduma', 'hiyo', 'kutazama', 'filamu', '.', 'Bruno', 'Tarimo', '(', 'vifua', 'viwili', ')', 'Bruno', 'Tarimo', 'bondia', 'raia', 'wa', 'Tanzania', 'ambaye', 'kwa', 'sasa', 'anaishi', 'nchini', 'Australia', '.', 'Alizaliwa', 'tarehe', '16', 'Juni', 'mwaka', 'wa', '1995', ',', 'huko', 'Kilimanjaro', '.', 'kwa', 'sasa', 'yeye', 'ndiye', 'bingwa', 'wa', 'IBF', 'wa', 'taji', 'la', 'Super', 'Feather', '.', 'Ameshiriki', 'mapambano', '30', 'na', 'ameshinda', '26', 'na', 'kushindwa', 'mawili', 'huku', 'akitoka', 'sare', 'katika', 'mapigano', 'mawili', '.', 'Bruno', 'hata', 'hivyo', 'anasema', 'nchi', 'za', 'kiafrika', 'zinafaa', 'kuweka', 'mikakati', 'ya', 'kuwasaidia', 'wanandondi', '.', 'Amesema', 'changamoto', 'kwa', 'wanaspoti', 'kama', 'yeye', 'ndizo', 'zinazomfanya', 'kufanya', 'uamuzi', 'wa', 'kuamua', 'kupigia', 'ndondi', 'yake', 'nchini', 'Australia', '.', 'Akiwa', 'nje', 'ya', 'nchi', 'anasema', 'inakuwa', 'changamoto', 'kwa', 'bondia', 'kupata', 'ufadhili', 'kama', 'haungwi', 'mkono', 'na', 'wadau', 'wa', 'nchi', 'anakotoka', '.', 'Chanzo', 'cha', 'picha', ',', 'Bruno', 'Tarimo', 'Lupita', 'Nyong', \"'\", 'o', 'Lupita', 'Amondi', 'Nyong', \"'\", 'o', 'ni', 'muigizaji', 'kutoka', 'Kenya', 'ambaye', 'alizaliwa', 'mwaka', 'wa', '1983', '.', 'Binti', 'wa', 'mwanasiasa', 'Anyang', \"'\", 'Nyong', \"'\", 'o', ',', 'Lupita', 'alizaliwa', 'Mexico', 'City', 'ambako', 'babake', 'alikuwa', 'akifundisha', 'na', 'alilelewa', 'Kenya', 'tangu', 'akiwa', 'na', 'umri', 'wa', 'mwaka', 'mmoja', '.', 'Chanzo', 'cha', 'picha', ',', 'AFP', 'Nyong', \"'\", 'o', 'alianza', 'taaluma', 'yake', 'ya', 'uigizaji', 'Hollywood', 'kama', 'msaidizi', 'wa', 'uzalishaji', 'wa', 'filamu', '.', 'mwaka', 'wa', '2008', 'alishirikishwa', 'katika', 'filamu', 'yake', 'ya', 'kwanza', 'East', 'River', 'na', 'akarejea', 'kenya', 'kuhusishwakatika', 'filamu', 'ya', 'msururu', 'ya', 'Shuga', '(', '2009-2012', ')', '.', 'Mnamo', 'mwaka', 'wa', '2009', 'aliandika', 'na', 'kuielekeza', 'filamu', 'ya', 'In', 'My', 'Genes', '.', 'Alipata', 'umaarufu', 'mwaka', 'wa', '2013', 'aliposhinda', 'tuzo', 'ya', 'muigizaji', 'msaidizi', 'bora', 'katika', 'filamu', 'ya', '12', 'years', 'a', 'slave', 'na', 'kuwa', 'mkenya', 'wa', 'kwanza', 'kushinda', 'tuzo', 'ya', 'Oscar', '.', 'Tangia', 'hapo', 'amezidi', 'kushirikishwa', 'katika', 'filamu', 'mbali', 'mbali', 'ambazo', 'zimemjengea', 'sifa', 'na', 'jina', 'na', 'kuiweka', 'Afrika', 'mashariki', 'katika', 'ramani', 'ya', 'uigizai', 'Chanzo', 'cha', 'picha', ',', 'Eliud', 'Kipchoge/Facebook', 'Eliud', 'Kipchoge', 'Mwanariadha', 'wa', 'Kenya', 'Eliud', 'Kipchoge', 'ni', 'jina', 'kubwa', 'sasa', 'katika', 'riadha', 'sio', 'tu', 'nchini', 'Kenya', 'bali', 'kote', 'duniani', '.', 'Alizaliwa', 'mwaka', 'wa', '1984', 'na', 'ameshinda', 'mataji', 'mbali', 'mbali', 'ya', 'riadha', 'ikiemo', 'kuwa', 'bingwa', 'wa', 'olimpiki', 'katika', 'mbio', 'za', 'marathon', 'mwaka', 'wa', '2016', 'huo', 'Rio', 'na', 'ubingwa', 'wa', 'dunia', 'katika', 'mbio', 'za', 'mita', '5000', 'mwaka', 'wa', '2003', 'nchini', 'Ufaransa', '.', 'Pia', 'alivunja', 'rekodi', 'kwa', 'kuwa', 'mtu', 'wa', 'kwanza', 'kuvunja', 'rekodi', 'ya', 'kumaliza', 'mbio', 'za', 'marathon', 'chini', 'ya', 'muda', 'wa', 'saa', 'mbili', 'kwa', 'kukimbia', 'kwa', 'muda', 'wa', 'saa', '1.59.40.2', '.', 'Baada', 'ya', 'umaarufu', 'wake', 'kuenea', 'amekuwa', 'akiyawakilisha', 'mashirika', 'na', 'kampeni', 'mbali', 'mbali', 'kama', 'balozi', 'wa', 'nia', 'njema', 'na', 'ni', 'miongoni', 'mwa', 'nyota', 'wanaotambuliwa', 'kwa', 'urahisi', 'kama', 'anayetoka', 'Kenya', 'na', 'Afrika', 'mashariki', 'kwa', 'sababu', 'ya', 'mafanikio', 'yake', 'uwanjani', '.', 'Bobi', 'Wine', 'Kando', 'na', 'kujijengea', 'sifa', 'kama', 'mwanamuziki', ',', 'Bobi', 'Wine', 'ni', 'mwanasiasa', 'ambaye', 'hatua', 'yake', 'ya', 'kutaka', 'kupigania', 'nafasi', 'ya', 'uongozi', 'kupitia', 'kura', 'Uganda', 'na', 'kuwataka', 'vijana', 'kupewa', 'nafasi', 'katika', 'meza', 'ya', 'uongozi', 'hatua', 'ambayo', 'imewavutia', 'wengi', 'na', 'hata', 'nje', 'ya', 'nchi', 'anaonekana', 'kama', 'mpiganiaji', 'mkubwa', 'wa', 'demokrasia', 'afrika', 'mashariki', '.', 'Chanzo', 'cha', 'picha', ',', 'Getty', 'Images', 'Wanasiasa', 'wengi', 'nchini', 'mwake', 'na', 'Afrika', 'mashariki', 'wamekuwa', 'wakimfuatilia', 'kwa', 'karibu', 'wakati', 'alipowania', 'urais', 'dhidi', 'ya', 'rais', 'Yoweri', 'Museveni', 'na', 'ukakamavu', 'wake', 'ulimpa', 'sifa', 'sio', 'tu', 'kama', 'mwanasiasa', 'kijana', 'bali', 'pia', 'kilelezo', 'kwa', 'waliotaka', 'kupewa', 'fursa', 'za', 'uongozi', 'ili', 'kubadilisha', 'hali', 'ya', 'maisha', 'ya', 'awatu', 'wao', '.', 'Kando', 'naye', 'nchini', 'Uganda', 'pia', 'kuna', 'wasanii', 'ambao', 'wameiwakilisha', 'vyema', 'Uganda', 'na', 'afrika', 'mashariki', 'kama', 'vile', ',', 'Jose', 'Chameleone', ',', 'Eddy', 'Knzo', 'na', 'Bebe', 'Cool', 'Daniel', 'Kaluuya', 'Ingawaje', 'Daniel', 'Kaluuya', 'sio', 'mganda', 'kwani', 'ni', 'raia', 'wa', 'Uingereza', 'wazazi', 'wake', 'ni', 'waganda', 'na', 'hajasahau', 'chimbuko', 'lake', '.', 'Ameshinda', 'tuzo', 'ya', 'Oscar', 'wiki', 'hii', 'kwa', 'kuwa', 'muigizaji', 'bora', 'msaidizi', 'wa', 'mwaka', 'wa', '2021', 'kwa', 'filamu', 'yake', 'ya', \"'Judas\", 'and', 'the', 'Black', 'Messiah', \"'\", '.', 'Ushindi', 'wake', 'ulisherehekewa', 'kote', 'afrika', 'mashariki', 'na', 'mama', 'yake', 'pamoja', 'na', 'dada', 'yake', 'waliokuwa', 'katika', 'hafla', 'ya', 'tuzo', 'hizo', 'walibubujikwa', 'machozi', 'ya', 'furaha', 'wakati', 'Kaluuya', 'alipokuwa', 'akitoa', 'hotuba', 'yake', 'Chanzo', 'cha', 'picha', ',', 'Reuters', 'Alizaliwa', 'London', 'na', 'alilelewa', 'na', 'mama', 'yake', 'Damalie', 'Namusoke', 'wakati', 'baba', 'yake', 'alipokuwa', 'akiishi', 'Uganda', 'na', 'haikuwa', 'rahisi', 'kwa', 'baba', 'yake', 'kuwazuru', 'Uingereza', 'kwa', 'sababu', 'ya', 'masharti', 'ya', 'visa', '.', 'Licha', 'ya', 'kuwa', 'ni', 'raia', 'wa', 'Uingereza', ',', 'wengi', 'wamejivunia', 'chimbuko', 'lake', 'la', 'Uganda', 'na', 'Afrika', 'mashariki', '.']\n",
      "\n",
      " Number of Words:  960\n"
     ]
    }
   ],
   "source": [
    "file=\"21april28.txt\"\n",
    "\n",
    "# calling the function and storing the contents in a text variable \n",
    "text = get_document(\"https://www.bbc.com/swahili/habari-56915108\")\n",
    "\n",
    "# calling the store_ document function \n",
    "store_document(doc=text,name=file)\n",
    "\n",
    "#add the words in this file to the total_corpus_words, to keep count of the number of words in the corpus\n",
    "total_corpus_words+=total_words(file)"
   ]
  },
  {
   "cell_type": "code",
   "execution_count": 98,
   "metadata": {},
   "outputs": [
    {
     "data": {
      "text/plain": [
       "424263"
      ]
     },
     "execution_count": 98,
     "metadata": {},
     "output_type": "execute_result"
    }
   ],
   "source": [
    "total_corpus_words"
   ]
  },
  {
   "cell_type": "code",
   "execution_count": 99,
   "metadata": {},
   "outputs": [
    {
     "name": "stdout",
     "output_type": "stream",
     "text": [
      "['Shambulio', 'la', 'al', 'Qaeda', 'Kenya', '1998', ':', 'Wakenya', 'waathiriwa', 'wakasirishwa', 'na', 'hatua', 'ya', 'Marekani', 'kutowafidia', '29', 'Aprili', '2021', 'Maelezo', 'ya', 'picha', ',', 'Diana', 'Mutisya', 'ameungua', 'majeraha', 'ya', 'maisha', 'tangu', 'shambulio', 'hilo', 'Mtumishi', 'mmoja', 'wa', 'serikali', 'nchini', 'Kenya', 'Diana', 'Mutisya', 'amekatishwa', 'tamaa', 'baada', 'ya', 'kubaini', 'kuwa', 'hatapokea', 'fidia', 'kama', 'itakavyokuwa', 'kwa', 'raia', 'wa', 'Marekani', 'waliojeruhiwa', 'wakati', 'wanamgambo', 'wa', 'al-Qaeda', 'walipolipua', 'kwa', 'bomu', 'ubalozi', 'wa', 'Marekani', 'mjini', 'Nairobi', 'miaka', '22', 'iliyopita', '.', 'Alikuwa', 'benki', 'iliyokuwa', 'karibu', 'na', 'ubalozi', 'huo', 'nchini', 'Kenya', 'mlipuko', 'huo', 'ulipotokea', '.', 'Watu', 'wengine', 'wanne', 'aliokuwa', 'nao', 'kwenye', 'chumba', 'kimoja', 'kipindi', 'kile', 'walifariki', 'dunia', '.', 'Yeye', 'alipoteza', 'fahamu', 'kabisa', 'na', 'kusafirishwa', 'hadi', 'nchini', 'Afrika', 'Kusini', 'kwa', 'matibabu', 'ambako', 'vyuma', '15', 'vilitumika', 'kushikilia', 'tena', 'uti', 'wake', 'wa', 'mgongo', '.', 'Mwezi', 'uliopita', ',', 'ilitangazwa', 'kuwa', 'Sudan', 'imelipa', 'dola', 'milioni', '335', 'kama', 'fidia', 'kwa', 'waathirika', 'wa', 'mashambulizi', 'hayo', 'yaliyotekelezwa', 'dhidi', 'ya', 'maeneo', 'ya', 'Marekani', 'yaliyokuwa', 'yamelengwa', '.', 'Lakini', 'sharti', 'la', 'msingi', 'lililowekwa', 'na', 'Marekani', 'dhidi', 'ya', 'Sudan', 'kuondolewa', 'kwenye', 'orodha', 'ya', 'mataifa', 'yanayofadhili', 'ugaidi', '-', 'ni', 'kulipa', 'fidia', 'kwa', 'familia', 'za', 'waathirika', 'au', 'wale', 'waliojeruhiwa', 'ambao', 'ni', 'raia', 'wa', 'Marekani', 'ama', 'wafanya', 'kazi', 'wa', 'ubalozini', '.', 'Watu', 'karibu', '5,000', 'waliokadiriwa', 'kujeruhiwa', 'na', 'mashambulizi', 'mawili', 'ya', 'mabomu', 'kwenye', 'balozi', 'za', 'Marekani', 'jijini', 'Nairobi', 'na', 'Tanzania', 'jijini', 'Dar', 'es', 'Salaam', 'yaliyotokea', 'Agosti', '7', 'mwaka', '1998', 'hawatapata', 'chochote', '.', 'Na', 'pia', 'hakuna', 'familia', 'yoyote', 'ambazo', 'ni', 'zaidi', 'ya', '200', 'za', 'wenyeji', 'waliofariki', 'dunia', 'katika', 'mlipuko', 'huo', 'itakayopokea', 'fidia', '.', '``', 'Nilisikia', 'vibaya', '[', 'nilipopata', 'taarifa', 'hizo', ']', '…', 'Tuliathirika', 'kwasababu', 'ya', 'uhasama', 'kati', 'ya', 'Marekani', 'na', 'washambuliaji', '.', 'Wanafaa', 'kutuorodhesha', 'katika', 'orodha', 'ya', 'wanaolipwa', 'fidia', ',', \"''\", 'Bi', '.', 'Mutisya', 'amezungumza', 'na', 'BBC', '.', '``', 'Wamarekani', 'sio', 'kuwa', 'wao', 'ndio', 'wenye', 'nguvu', ',', 'sote', 'ni', 'binadamu', '...', 'Na', 'zaidi', 'ni', 'kwamba', 'sisi', 'hatuna', 'hatia', 'yoyote', ',', 'mlipuko', 'huu', 'ulitokea', 'kwasababu', 'yao', '.', 'Washambuliaji', 'walikuwa', 'wanalenga', 'ubalozi', 'wakijua', 'kuwa', 'raia', 'wa', 'Marekani', 'wanafanya', 'kazi', 'huko', '.', \"''\", 'Imemchukua', 'miaka', 'mingi', 'mfanyakazi', 'huyo', 'wa', 'serikali', 'kusahau', 'kilichotokea', 'siku', 'ile', 'na', 'kuendelea', 'na', 'maisha', 'yake', '-', 'lakini', 'ukweli', 'ni', 'kwamba', 'kilichomtokea', 'hawezi', 'kukisahau', 'kabisa', '.', 'Moja', 'ya', 'mapafu', 'yake', 'hayafanyi', 'tena', 'kazi', '.', 'Leo', 'hii', 'anaweza', 'kutembea', 'lakini', 'si', 'kwa', 'muda', 'mrefu', 'na', 'pia', 'anatumia', 'kiti', 'cha', 'magurudumu', 'kwenda', 'kazini', '.', '``', 'Ninatumia', 'zaidi', 'ya', 'shilingi', '80,000', 'za', 'Kenya', 'sawa', 'na', '(', '$', '750', ';', '£545', ')', 'kila', 'mwezi', 'kwa', 'matibabu', 'ya', 'viungo', 'vya', 'mwili', 'pekee', ',', \"''\", 'amesema', '-', 'kiasi', 'hicho', 'kikiwa', 'ni', 'kiwango', 'kikubwa', 'tu', 'cha', 'mshahara', 'wake', '.', 'Kila', 'mwathirika', 'wa', 'Marekani', 'au', 'familia', 'za', 'waliokuwepo', 'wakati', 'shambulizi', 'hilo', 'linatokea', 'atapokea', 'dola', 'milioni', '3', ',', 'huku', 'wafanyakazi', 'wa', 'maeneo', 'wakipokea', 'dola', '400,000', ',', 'vyombo', 'vya', 'habari', 'vya', 'Marekani', 'vimesema', '.', 'Kwa', 'ujumla', ',', 'manusura', '85', 'au', 'familia', 'za', 'waathirika', 'zitafidiwa', '.', \"'Pesa\", 'hazikufikia', 'waathirika', \"'\", 'Lakini', 'kwa', 'wengi', 'hakuna', 'ukurasa', 'mpya', 'watakaofungua', 'licha', 'ya', 'Marekani', 'kusema', 'imetoa', 'mamilioni', 'ya', 'madola', 'kama', 'usaidizi', 'wa', 'kibinadamu', 'kwa', 'waathirika', 'wa', 'Kenya', 'wa', 'shambulizi', 'hilo', 'la', 'bomu', '.', '``', 'Nilihusika', 'katika', 'mchakato', 'wa', 'kushinikiza', 'bunge', 'la', 'Marekani', 'kuidhinisha', 'dola', 'milioni', '47', 'kwa', 'raia', 'wa', 'Kenya', ',', \"''\", 'Douglas', 'Sidialo', ',', 'ambaye', 'alipoteza', 'uwezo', 'wake', 'wa', 'kuona', 'baada', 'ya', 'kutokea', 'kwa', 'mlipuko', 'huo', 'amezungumza', 'na', 'BBC', '.', 'Msemaji', 'wa', 'chama', 'cha', 'waathirika', 'nchini', 'Kenya', 'katika', 'suala', 'la', 'usaidizi', 'wa', 'Marekani', 'kwa', 'waliojeruhiwa', 'kwenye', 'mlipuko', 'wa', 'bomu', 'mwaka', '1998', 'amesema', ':', '``', 'Tulidhania', 'kuwa', 'pesa', 'hizi', 'zinakuja', 'kusaidia', 'waathirika', 'lakini', 'naweza', 'kukuambia', 'kwamba', 'asilimia', '95', 'ya', 'pesa', 'hizi', 'zilielekezwa', 'kwenye', 'uboreshaji', 'wa', 'majengo', 'yanayozunguka', 'ubalozi', '.', '``', 'Hazikuwahi', 'kuwafikia', 'kwa', 'ajili', 'ya', 'kuboresha', 'maisha', '.', \"''\", 'Akiwa', 'kama', 'makamu', 'wa', 'rais', ',', 'Joe', 'Biden', 'alitembelea', 'Kenya', 'mwaka', '2010', 'na', 'akakutana', 'na', 'baadhi', 'ya', 'waathirika', 'wa', 'shambulizi', 'hilo', 'la', 'bomu', 'mjini', 'Nairobi', 'na', 'suala', 'la', 'fidia', 'likaibuka', '.', 'Chanzo', 'cha', 'picha', ',', 'IMAGE', 'COPYRIGHTGETTY', 'IMAGES', 'Maelezo', 'ya', 'picha', ',', 'Joe', 'Biden', 'na', 'mkewe', 'walitembelea', 'eneo', 'la', 'shambulio', 'hilo', 'na', 'kukutana', 'na', 'waathiriwa', '2010', '``', 'Nilimshika', 'mkono', 'wake', 'kwa', 'dakika', 'moja', '.', 'Nikazungumzia', 'masuala', 'haya', 'na', 'Joe', 'Biden', '.', 'Akajibu', 'kuwa', 'watalifuatilia', '.', 'Imetuchukua', 'zaidi', 'ya', 'miaka', '10', 'sasa', ',', 'na', 'hatujawahi', 'kusikia', 'chochote', 'kutoka', 'kwake', ',', \"''\", 'Bwana', 'Sidialo', 'alisema', '.', '``', 'Tunataka', 'tuchukuliwe', 'sawa', 'na', 'Marekani', '.', 'Haimaanishi', 'kuwa', 'thamani', 'yetu', 'ni', 'kidogo', 'kuliko', 'binadamu', 'wengine', '.', \"''\", 'Shambulio', 'la', 'kigaidi', 'lililotekelezwa', 'Kenya', 'na', 'Tanzania', 'Chanzo', 'cha', 'picha', ',', 'Getty', 'Images', 'Maelezo', 'ya', 'picha', ',', 'shambulio', 'la', 'kigaidi', 'lililotekelezwa', 'Kenya', 'na', 'Tanzania', '•Balozi', 'za', 'Marekani', 'Afrika', 'Mashariki', 'zililengwa', 'Agosti', '9', '1998', 'kupitia', 'mashambulizi', 'ya', 'mabomu', 'ya', 'kujitoa', 'muhanga', '•Shambulizi', 'la', 'kwanza', 'lilitokea', 'Tanzania', 'mjini', 'Dar', 'es', 'Salaam', 'karibu', 'saa', '10:30', 'saa', 'za', 'eneo', 'na', 'mlipuko', 'wa', 'pili', 'ukatokea', 'dakika', 'chache', 'baadaye', 'mjini', 'Nairobi', ',', 'Kenya', '•Mjini', 'Nairobi', ',', 'ofisi', 'kubwa', 'karibu', 'na', 'jengo', 'la', 'ubalozi', 'liliharibiwa', 'na', 'timu', 'ya', 'uokozi', 'kutoka', 'Israel', 'ikawasili', 'siku', 'mbili', 'baadaye', 'na', 'miili', 'ya', 'waliofariki', 'dunia', 'ikatolewa', '.', '•Watu', '224', 'waliuawa', 'katika', 'mashambulizi', 'hayo', 'ya', 'mabomu', 'ikiwemo', 'Wamarekani', '12', 'huku', 'zaidi', 'ya', '5,000', 'wakijeruhiwa', '-', 'mamia', 'ya', 'hao', 'wakapoteza', 'uwezo', 'wao', 'wa', 'kuona', 'baada', 'ya', 'kukuingiwa', 'na', 'vigae', 'vilivyokuwa', 'vinaruka', '•Karibu', 'maafisa', '900', 'wa', 'kijasusi', 'waliwasili', 'maeneo', 'ya', 'tukio', 'kufanya', 'uchunguzi', 'na', 'kubaini', 'kwamba', 'kundi', 'la', 'al-Qaeda', 'ndio', 'lilikuwa', 'limehusika', '•Zaidi', 'ya', 'watu', '20', 'walishitakiwa', 'kuhusiana', 'na', 'mashambulizi', 'hayo', '.', 'Baadhi', 'wakihukumiwa', 'kifungo', 'cha', 'maisha', 'nchini', 'Marekani', ';', 'wengine', 'ambao', 'wahakuzuiliwa', 'waliuawa', 'kama', 'vile', 'kiongozi', 'wa', 'kundi', 'la', 'al-Qaeda', 'Osama', 'Bin', 'Laden', 'Lakini', 'manusura', 'ambao', 'wanapitia', 'changamoto', 'si', 'haba', 'wanachokilia', 'ni', 'haki', 'itendeke', '.', 'Wameshirikiana', 'na', 'Kituo', 'Cha', 'Sheria', '-', 'shirika', 'lisilo', 'la', 'kifaida', 'linalosaidia', 'watu', 'kesi', 'zao', 'mahakamani', 'kwa', 'maslahi', 'ya', 'umma', '.', 'Shirika', 'hilo', 'linadhamiria', 'kupinga', 'uamuzi', 'wa', 'Marekani', 'katika', 'mahakama', 'ya', 'juu', 'na', 'pia', 'mazungumzo', 'yanaendelea', 'kufungua', 'kesi', 'katika', 'mahakama', 'ya', 'Marekani', '.', 'Kwa', 'Mutisya', ',', 'ni', 'muhimu', 'kuendelea', 'kupigania', 'haki', 'yao', 'kabla', 'ya', 'manusura', 'zaidi', 'kuendelea', 'kufariki', 'dunia', '.', '``', 'Tukio', 'hilo', 'ni', 'kama', 'tu', 'limetokea', 'jana', 'kwasababu', 'tunaishi', 'na', 'machungu', 'mengi', 'mno', '.', '``', 'Tunauguza', 'vidonda', 'vingi', 'na', 'hivyo', 'basi', 'hatuwezi', 'kutimiza', 'uwezo', 'wetu', '.', 'Lakini', 'bado', 'tutaendelea', 'kupigania', 'haki', 'hata', 'kama', 'tutasalia', 'wachache', 'tu', '.', \"''\"]\n",
      "\n",
      " Number of Words:  976\n"
     ]
    }
   ],
   "source": [
    "file=\"21april29_1.txt\"\n",
    "\n",
    "# calling the function and storing the contents in a text variable \n",
    "text = get_document(\"https://www.bbc.com/swahili/habari-56911289\")\n",
    "\n",
    "# calling the store_ document function \n",
    "store_document(doc=text,name=file)\n",
    "\n",
    "#add the words in this file to the total_corpus_words, to keep count of the number of words in the corpus\n",
    "total_corpus_words+=total_words(file)"
   ]
  },
  {
   "cell_type": "code",
   "execution_count": 100,
   "metadata": {},
   "outputs": [
    {
     "data": {
      "text/plain": [
       "425239"
      ]
     },
     "execution_count": 100,
     "metadata": {},
     "output_type": "execute_result"
    }
   ],
   "source": [
    "total_corpus_words"
   ]
  },
  {
   "cell_type": "code",
   "execution_count": 101,
   "metadata": {},
   "outputs": [
    {
     "name": "stdout",
     "output_type": "stream",
     "text": [
      "['Martha', 'Koome', ':', 'Kenya', 'ipo', 'mbioni', 'kuwa', 'na', 'jaji', 'mkuu', 'mpya', 'mwanamke', ',', 'Je', 'atakabiliwa', 'na', 'changamoto', 'zipi', '?', '29', 'Aprili', '2021', 'Chanzo', 'cha', 'picha', ',', 'JUDICIAL', 'SERVICE', 'Kenya', 'ipo', 'mbioni', 'kumteua', 'jaji', 'mkuu', 'mpya', 'wa', 'kwanza', 'mwanamke', 'baada', 'ya', 'rais', 'Uhuru', 'Kenyatta', 'kuliwasilisha', 'jina', 'la', 'jaji', 'Martha', 'Koome', 'bungeni', 'ili', 'apigwe', 'msasa', 'ana', 'kura', 'kupigwa', 'iwapo', 'ataidhinishwa', 'kuichukua', 'nafas', 'hiyo', 'iliyowachwa', 'wazi', 'na', 'David', 'Maraga', 'ambaye', 'alistaafu', '.', 'Jaji', 'huyo', 'wa', 'mahakama', 'ya', 'rufaa', 'atakuwa', 'jaji', 'mkuu', 'wa', '15', 'wa', 'Kenya', 'tangu', 'nchi', 'hiyo', 'ijinyakulie', 'uhuru', 'iwapo', 'bunge', 'litaidhinisha', 'uteuzi', 'wake', '.', 'Tume', 'ya', 'huduma', 'kwa', 'idara', 'ya', 'mahakam', 'ilimtangaza', 'Koome', 'mwenye', 'umri', 'wa', 'miaka', '61', 'kama', 'mshindi', 'wa', 'mahojiano', 'kati', 'ya', 'watu', 'wengine', '10', 'waliotuma', 'maombi', 'ya', 'kupewa', 'kazi', 'hiyo', '.Bunge', 'sasa', 'litajadili', 'uteuzi', 'wake', ',', 'katika', 'kinachoonekana', 'tu', 'kama', 'utaratibu', 'lakini', 'anatarajiwa', 'kuidhinishwa', 'na', 'kuteuliwa', 'rasmi', 'na', 'rais', '.', 'Koome', 'atahudumu', 'kama', 'jaji', 'mkuu', 'kwa', 'miaka', 'tisa', 'ijayo', 'ambayo', 'itasheheni', 'vipindi', 'viwili', 'vya', 'uchaguzi', 'na', 'uwezekano', 'wa', 'kuandaliwa', 'kwa', 'kura', 'ya', 'maoni', 'kuhusu', 'katiba', 'mpya', '.', 'Anakabiliwa', 'na', 'changamoto', 'nyingi', 'ambazo', 'zinamngoja', 'afisini', 'ambazo', 'watangulizi', 'wake', 'walijaribu', 'kadri', 'ya', 'uwezo', 'wao', 'kuzishughulikia', 'lakini', 'bila', 'mafanikio', 'waliotarajia', '.', 'Martha', 'Koome', 'ni', 'nani', '?', 'Jaji', 'Martha', 'Koome', 'alizaliwa', 'katika', 'Kijiji', 'cha', 'Kithiu', ',', 'katika', 'kaunti', 'ya', 'Meru', '1960', '.', 'Jaji', 'Koome', 'baadaye', 'alisomea', 'shahada', 'ya', 'sheria', 'katika', 'Chuo', 'kikuu', 'cha', 'Nairobi', 'ambapo', 'alifuzu', '1986', 'na', 'na', 'kujiunga', 'na', 'chuo', 'cha', 'mafunzo', 'ya', 'Sheria', 'nchini', 'Kenya', 'mwaka', 'uliofuata', '.', 'Alianzisha', 'Ofisi', 'yake', 'ya', 'huduma', 'za', 'uanasheria', '1988', ',', 'na', 'baadaye', 'akajiunga', 'na', 'Huduma', 'ya', 'mahakama', '2003', 'na', 'kuhudumu', 'katika', 'mahakama', 'tofauti', 'kote', 'nchini', ',', 'wakati', 'ambapo', 'pia', 'alihudumu', 'kama', 'mwanachama', 'wa', 'chama', 'cha', 'wanasheria', 'nchini', 'Kenya', 'LSK', '.', 'Baadaye', 'alijiunga', 'na', 'Chuo', 'kikuu', 'cha', 'London', 'ambapo', 'alisomea', 'shahada', 'ya', 'uzamili', 'kuhusu', 'sheria', 'ambapo', 'alifuzu', 'na', 'kupata', 'cheti', 'cha', 'Sheria', 'ya', 'Umma', 'ya', 'kimataifa', '2010', '.', 'Mwaka', '2011', ',', 'alipandishwa', 'cheo', 'na', 'kuwa', 'jaji', 'wa', 'mahakama', 'ya', 'rufaa', 'na', 'mwezi', 'Septemba', 'mwaka', 'huohuo', ',', 'alichaguliwa', 'kuwa', 'mwenyekiti', 'wa', 'Muungano', 'wa', 'Mahakimu', 'na', 'Majaji', 'nchini', 'Kenya', '.', 'Jaji', 'Koome', ',', 'katika', 'kipindi', 'chake', 'cha', 'miongo', 'mitatu', 'amekuwa', 'mtetezi', 'wa', 'haki', 'za', 'wanawake', 'na', 'ustawi', 'wa', 'Watoto', '.', 'Kuna', 'wakati', 'mmoja', 'alihudumu', 'kama', 'mwenyekiti', 'wa', 'baraza', 'la', 'kitaifa', 'la', 'Jopo', 'Maalum', 'kuhusu', 'usimamizi', 'wa', 'haki', 'za', 'watoto', 'ambapo', 'alisaidia', 'katika', 'kufanyia', 'marekebisho', 'sheria', 'ya', 'Watoto', '.', 'Jaji', 'mku', 'mpya', 'atakabiliwa', 'na', 'changamoto', 'gani', '?', 'Kuna', 'mengi', 'yanayomngoja', 'mezani', 'wakati', 'uteuzi', 'wake', 'utakapokuwa', 'rasmi', ',', 'kwanza', 'atalazimika', 'kuboresha', 'uhusiano', 'kati', 'ya', 'idara', 'ya', 'mahakama', 'na', 'vitengo', 'vingine', 'vya', 'serikali', 'kama', 'ofisi', 'ya', 'rais', ',', 'na', 'bunge', '.', 'Rais', 'Uhuru', 'Kenyatta', 'hajakuwa', 'na', 'uhusiano', 'unaoweza', 'kuonekana', 'kama', 'mzuri', 'na', 'watangulizi', 'wa', 'Koome', 'na', 'idara', 'ya', 'mahakama', 'kwa', 'jumla', '.Wakati', 'mahakama', 'ya', 'juu', 'zaidi', 'ilipofutilia', 'mbali', 'ushindi', 'wake', 'katika', 'uchaguzi', 'wa', 'mwaka', 'wa', '2017', ',', 'rais', 'Kenyatta', 'alighadhabika', 'na', 'kuwaita', 'majaji', 'wa', 'mahakama', 'hiyo', 'kama', \"'wakora\", \"'\", '.', 'Hilo', 'lilizidisha', 'mgawanyiko', 'uliokuwepo', 'kati', 'ya', 'serikali', 'na', 'idara', 'ya', 'mahakama', 'hatua', 'ambayo', 'iliathiri', 'kwa', 'njia', 'fulani', 'ufanisi', 'wa', 'idara', 'hiyo', 'kutekeleza', 'majukumu', 'yake', 'ya', 'kuhakikisha', 'kwamba', 'Wakenya', 'wanapata', 'haki', '.', 'Kukaidi', 'maagizo', 'ya', 'mahakama', 'Kando', 'na', 'tukio', 'hilo', ',', 'rais', ',', 'wizara', 'na', 'idara', 'za', 'serikali', 'pia', 'hawajakuwa', 'wakitii', 'maamuzi', 'yanayotolewa', 'na', 'majaji', '.', 'Rais', 'Kenyatta', 'amekataa', 'kuidhinisha', 'uteuzi', 'wa', 'majaji', '41', 'wa', 'mahakama', 'ya', 'rufaa', 'walioteuliwa', 'miaka', 'miwili', 'iliyopita', 'licha', 'ya', 'mahakama', 'kusema', 'kwamba', 'msimamo', 'wake', 'unakiuka', 'katiba', '.', 'Kesi', 'nyingi', 'ambazo', 'zimewasilishwa', 'kortini', 'na', 'serikali', 'huendelea', 'kudhihirisha', 'mgawanyiko', 'uliopo', 'kati', 'ya', 'vitengo', 'viwili', '.Licha', 'ya', 'mahakama', 'kuamuru', 'kwamba', 'nafasi', 'ya', 'makatibu', 'wasaidizi', 'wa', 'mawaziri', ',', 'CAS', 'ni', 'ukiukaji', 'wa', 'sheria', 'na', 'zinafaa', 'kuondolewa', ',', 'rais', 'hajatekeleza', 'agizo', 'hilo', 'na', 'maafisa', 'hao', 'wangali', 'wanahudumu', 'afisini', '.', 'Kesi', 'nyingine', 'ambayo', 'mahakama', 'ilitoa', 'maagizo', 'yake', 'lakini', 'yamepuuzwa', 'ni', 'kuhusu', 'uhalali', 'wa', 'nafasi', 'ya', 'makamishna', 'wa', 'kaunti', '.', 'Korti', 'imesema', 'nafasi', 'hiyo', 'haifai', 'kuwepo', 'katika', 'mfumo', 'wa', 'sasa', 'wa', 'katiba', 'kwani', 'ni', 'muendelezo', 'wa', 'uliokuwa', 'utawala', 'wa', 'mikoa', '.Serikali', 'kuu', 'hata', 'hivyo', 'imewaacha', 'makamishna', 'hao', 'kusalia', 'ofisini', 'na', 'mwanzoni', 'wakati', 'ugatuzi', 'ulipoanza', 'kutekelezwa', 'nchini', 'Kenya', 'palitokea', 'mgongano', 'kati', 'ya', 'makamishna', 'hao', 'na', 'magavana', '.', 'Serikali', 'iliwatumia', 'kama', 'macho', 'na', 'masikio', 'yake', 'katika', 'kaunti', 'ilhali', 'magavana', 'waliochukulia', 'kama', 'maajenti', 'waliotumwa', 'kuhujumu', 'ugatuzi', 'na', 'kuingilia', 'mamlaka', 'yao', 'katika', 'maeneo', 'ya', 'mashinani', '.', 'Koome', 'atakuwa', 'na', 'kibarua', 'kigumu', 'za', 'kujaribu', 'kubadilisha', 'mtindo', 'huo', 'ambao', 'ulimfanya', 'mtangulizi', 'wake', 'David', 'Maraga', 'kuonekana', 'kuwa', 'adui', 'wa', 'serikali', 'kwa', 'sababu', 'ya', 'kueleza', 'kufadhaika', 'kwake', 'mara', 'kwa', 'mara', 'kuhusu', 'hatua', 'ya', 'idara', 'za', 'serikali', 'kutotii', 'maagizo', 'yanayotolewa', 'na', 'mahakama', '.', 'Endapo', 'atafaulu', 'kubadilisha', 'hilo', ',', 'Koome', 'huenda', 'akapiga', 'nusu', 'ya', 'hatua', 'ya', 'kusajili', 'ufanisi', 'mkubwa', 'katika', 'kazi', 'yake', 'hiyo', '.', 'Rushwa', 'Donda', 'sugu', 'la', 'rushwa', 'ni', 'tatizo', 'kubwa', 'ambalo', 'jaji', 'mkuu', 'mpya', 'atakutana', 'nalo', 'ana', 'kwa', 'ana', 'atakapoidhinishwa', 'kuanza', 'kazi', '.', 'Lalama', 'zimezidi', 'kuwepo', 'kuhusu', 'jinsi', 'rushwa', 'ilivyokithiri', 'katika', 'idara', 'ya', 'mahakama', '.', 'Kuna', 'maamuzi', 'mengi', 'ambayo', 'yamekuwa', 'yakitolewa', 'na', 'majaji', 'ambayo', 'mwishowe', 'yamebainika', 'kushawishiwa', 'na', 'rushwa', '.', 'Utafiti', 'mmoja', 'uliofanywa', 'mwaka', 'wa', '2019', 'kwa', 'mfano', 'uliitaja', 'mahakama', 'ya', 'rufaa', 'ya', 'Malindi', 'kama', 'fisadi', 'Zaidi', 'ilhali', 'mahakama', 'kuu', 'ya', 'Kitale', 'ilitajwa', 'kama', 'yenye', \"'watu\", 'wengi', 'wanaoitisha', 'rushwa', \"'\", '.', 'Jaji', 'mkuu', 'wakati', 'huo', 'David', 'Maraga', 'alisema', 'utafiti', 'ulionyesha', 'kwamba', 'asilimia', '22', 'ya', 'watu', 'waliotumia', 'mahakama', 'walisema', 'walitakiwa', 'kutoa', 'rushwa', 'huko', 'Malindi', 'ilhali', '27', 'hawakupendezwa', 'na', 'huduma', 'katika', 'mahakama', 'kuu', 'ya', 'Kitale', '.', 'Mahakama', 'hizo', 'mbili', 'ni', 'mifano', 'tu', 'ya', 'jinsi', 'wovu', 'huo', 'ulivyokithiri', 'katika', 'idara', 'ya', 'mahakama', 'na', 'watangulizi', 'wa', 'Koome', 'walikuwa', 'wamelipa', 'kipau', 'mbele', 'suala', 'la', 'kupambana', 'na', 'rushwa', 'mahakamani', '.', 'Bajeti', 'ya', 'idara', 'ya', 'mahakama', 'Jambo', 'ambalo', 'limekuwa', 'likizua', 'tatizo', 'la', 'mara', 'kwa', 'mara', 'kati', 'ya', 'serikali', 'na', 'idara', 'ya', 'mahakama', 'ni', 'kiasi', 'cha', 'fedha', 'ambacho', 'idara', 'hiyo', 'inatengewa', 'na', 'Wizara', 'ya', 'Fedha', '.', 'Mwaka', 'wa', '2019', 'Jaji', 'mkuu', 'mstafuu', 'David', 'Maraga', 'alilalamika', 'hadharani', 'kuhusu', 'kupunguzwa', 'kwa', 'mgao', 'wa', 'fedha', 'ambazo', 'idara', 'hiyo', 'ilipewa', '.Oparesheni', 'za', 'idara', 'hiyo', 'zimelemazwa', 'na', 'kuathiriwa', 'pakubwa', 'kwa', 'sababu', 'ya', 'uhaba', 'wa', 'fedha', '.', 'Mahakama', 'zilizoathiriwa', 'sana', 'ni', 'korti', 'za', 'kuhama', 'hama', 'ambazo', 'Maraga', 'alilenga', 'kuzitumia', 'kushughulikia', 'kwa', 'haaka', 'kesi', 'ktika', 'sehemu', 'zilizoko', 'mbali', 'na', 'mahakama', '.', 'Jaji', 'Koome', 'atakuwa', 'na', 'jukumu', 'la', 'kuishawishi', 'serikali', 'na', 'bunge', 'kuangalia', 'upya', 'kiasi', 'cha', 'fedha', 'ambacho', 'idara', 'ya', 'mahakama', 'inatengewa', 'ili', 'iweze', 'kuwapa', 'wakenya', 'haki', 'popote', 'walipo', '.', 'Wakati', 'wa', 'kipindi', 'David', 'Maraga', ',', 'alilalamika', 'peupe', 'kwamba', 'vitengo', 'vingine', 'vya', 'serikali', 'vilikuwa', \"'vikiikandamiza\", \"'\", 'idara', 'ya', 'mahakama', '.', 'Maraga', 'wakati', 'huo', 'alisema', 'idara', 'ya', 'mahakama', 'ilihitaji', 'kati', 'ya', 'shilingi', 'bilioni', '5', 'na', '6', 'ili', 'kuendesha', 'oparesheni', 'zake', 'kila', 'mwaka', 'kwa', 'miaka', '10', 'ijayo', '.', 'Wakati', 'huo', 'aliwashtumu', 'mawaziri', 'na', 'makatibu', 'wa', 'kudumu', 'ambao', 'hakuwataja', 'waliotaka', 'kumuondoa', 'ofisini', '.', 'Itakuwa', 'kibarua', 'sasa', 'kwa', 'Jaji', 'Koome', 'kuhakikisha', 'kwamba', 'changamoto', 'hiyo', 'haikumbi', 'hatamu', 'yake', 'atakaposhika', 'hatamu', 'kama', 'jaji', 'mkuu', 'wa', 'kwanza', 'mwanamke', 'nchini', '.', 'Mrundiko', 'wa', 'kesi', 'Tatizo', 'la', 'mrundiko', 'wa', 'kesi', 'sio', 'geni', 'katika', 'idara', 'ya', 'mahakama', 'nchini', 'Kenya', '.Jaji', 'mkuu', 'ajaye', 'atakuwa', 'na', 'kibarua', 'na', 'kuweka', 'mikakati', 'iliyoanzishwa', 'na', 'watangulizi', 'wake', 'kufanikisha', 'mpango', 'wa', 'mahakama', 'za', 'kidijitali', 'na', 'za', 'kuhama', 'hama', 'ili', 'kuhakikisha', 'kwamba', 'kesi', 'zinashughulikiwa', 'haraka', 'na', 'haki', 'inapatikana', 'kwa', 'wote', '.', 'Kuna', 'kesi', 'ambazo', 'zimekuwa', 'zikisikizwa', 'kw', 'ahata', 'miaka', '10', 'huku', 'majaji', 'wanaozishughulikiwa', 'wakihamishwa', 'kiutoka', 'kituo', 'kimoja', 'hadi', 'kingine', 'na', 'hata', 'wengine', 'wakistaafu', 'wakiendelea', 'kuzishughulikia', 'baadhi', 'ya', 'kesi', '.', 'Utafiti', 'wa', 'mwaka', 'wa', '2019', 'ulionyesha', 'kwamba', 'Wakenya', 'wengi', 'hawakufurahia', 'muda', 'mrefu', 'ambao', 'majaji', 'walitumia', 'kufanya', 'maamuzi', 'ya', 'kesi', '.', 'wengi', 'wanaotumia', 'mahakama', 'walitaka', 'idara', 'hiyo', 'kuboresha', 'utumizi', 'wa', 'muda', ',', 'kuboresha', 'mawasiliano', 'kati', 'ya', 'mahakama', 'na', 'walalamishi', 'na', 'kutoa', 'maamuzi', 'kwa', 'wakati', 'ili', 'kuepuka', 'visa', 'vya', 'kuchelewesha', 'haki', '.', 'Jaji', 'Koome', 'atakuwa', 'na', 'kazi', 'kubwa', 'ya', 'kuweza', 'kuhakikisha', 'kwamba', 'mrundiko', 'wa', 'kesi', 'ambao', 'umekuwepo', 'kwa', 'muda', 'mrefu', 'unashughulikiwa', 'na', 'kesi', 'za', 'awali', 'zinakamilishwa', '.', 'Hili', 'litahitaji', 'raslimali', 'za', 'kuwaajiri', 'majaji', 'zaidi', 'au', 'kujenga', 'mahakama', 'katika', 'maeneo', 'mbali', 'mbali', 'ya', 'taifa', '.', 'Mpango', 'huo', 'ulianzishwa', 'na', 'watangulizi', 'wake', 'lakini', 'sasa', 'atahitaji', 'kuweka', 'himizo', 'na', 'kuboresha', 'asasi', 'za', 'kufanikisha', 'upatikanaji', 'wa', 'yote', 'anayohitaji', 'kushughulikia', 'mrundiko', 'wa', 'kesi', 'mahakamani', '.', 'Koome', 'bila', 'shaka', 'anazifahamu', 'vizuri', 'changamoto', 'hizi', 'na', 'atakuwa', 'na', 'mikakati', 'yake', 'au', 'mipango', 'ya', 'kuweza', 'kuzishughulikia', 'ili', 'kuafikia', 'ufanisi', 'wakati', 'wa', 'muhula', 'wake', 'kama', 'jaji', 'mkuu.Wengi', 'watangoja', 'kwa', 'hamu', 'kuona', 'mbinu', 'atakazotumia', 'ili', 'kuweza', 'kufaulu', 'katika', 'masuala', 'ambayo', 'watangulizi', 'wake', 'walijaribu', 'na', 'kukosa', 'kufanikiwa', '.']\n",
      "\n",
      " Number of Words:  1341\n"
     ]
    }
   ],
   "source": [
    "file=\"21april29_2.txt\"\n",
    "\n",
    "# calling the function and storing the contents in a text variable \n",
    "text = get_document(\"https://www.bbc.com/swahili/habari-56928820\")\n",
    "\n",
    "# calling the store_ document function \n",
    "store_document(doc=text,name=file)\n",
    "\n",
    "#add the words in this file to the total_corpus_words, to keep count of the number of words in the corpus\n",
    "total_corpus_words+=total_words(file)"
   ]
  },
  {
   "cell_type": "code",
   "execution_count": 102,
   "metadata": {},
   "outputs": [
    {
     "data": {
      "text/plain": [
       "426580"
      ]
     },
     "execution_count": 102,
     "metadata": {},
     "output_type": "execute_result"
    }
   ],
   "source": [
    "total_corpus_words"
   ]
  },
  {
   "cell_type": "code",
   "execution_count": 103,
   "metadata": {},
   "outputs": [
    {
     "name": "stdout",
     "output_type": "stream",
     "text": [
      "['Ujerumani', 'kurejesha', 'sanamu', 'za', 'Nigeria', 'zilizoporwa', 'Serikali', 'ya', 'Ujerumani', 'imesema', 'kuwa', 'mwaka', 'ujao', 'itarajesha', 'nchini', 'Nigeria', 'maelfu', 'ya', 'sanamu', 'za', 'kuchongwa', 'zilizoibiwa', 'wakati', 'wa', 'enzi', 'ya', 'ukoloni', 'katika', 'eneo', 'la', 'Benin', 'katika', 'jimbo', 'la', 'Edo', '–', 'wakati', 'wa', 'operesheni', 'ya', 'wanajeshi', 'wa', 'Uingereza', '.', 'Haya', 'yanajiri', 'baada', 'ya', 'kufikiwa', 'kwa', 'makubaliano', 'baina', 'ya', 'viongozi', 'wa', 'kitamaduni', 'wa', 'Ujerumani', 'na', 'viongozi', 'wa', 'siasa', 'ya', 'kurejesha', 'Nigeria', 'sanamu', 'hizo', 'ambazo', 'zimekuwa', 'zikihifadhiwa', 'katika', 'makavazi', 'ya', 'Ujerumani', '.', 'Waziri', 'wa', 'utamaduni', 'wa', 'Ujerumani', ',', 'Monika', 'Gruetters', 'aliyasema', 'hayo', 'Alhamisi', '.', 'Katika', 'miaka', 'ya', 'hivi', 'karibuni', ',', 'Ujerumani', 'imekuwa', 'ikiangalia', 'uwezekano', 'wa', 'kurejeshwa', 'katika', 'asili', 'yake', 'sanamu', 'za', 'kuchongwa', 'zilizosambazwa', 'katika', 'baadhi', 'ya', 'makavazi', 'ya', 'nchi', 'hiyo', '.', 'Maelfu', 'ya', 'sanamu', 'hizo', 'yaliporwa', 'wakati', 'wa', 'maangamizi', 'ya', 'kile', 'ambacho', 'kwa', 'sasa', 'kinaitwa', 'Jiji', 'la', 'Benin', 'City', 'nchini', 'Nigeria', 'na', 'kumekuwa', 'ni', 'miito', 'ya', 'mara', 'kwa', 'mara', 'ya', 'kutaka', 'sanamu', 'zilizoibiwa', 'zirejeshwe', 'Nigeria', '.', 'Halmashauri', 'Kuu', 'ya', 'CCM', 'imemteua', 'mkuu', 'wa', 'Wilaya', 'ya', 'Kinondoni', ',', 'Daniel', 'Chongolo', 'kuwa', 'katibu', 'mkuu', 'wa', 'chama', 'hicho', 'tawala', 'kuchukua', 'nafasi', 'iliyoachwa', 'wazi', 'na', 'Dk', 'Bashiru', 'Ally', '.', 'ISSA', 'MICHUZICopyright', ':', 'ISSA', 'MICHUZI', 'Shaka', 'Hamidu', 'Shaka', ',', 'ndiye', 'Katibu', 'itikadi', 'na', 'uenezi', 'mpya', 'na', 'kuchukua', 'nafasi', 'ya', 'Humphrey', 'Polepole', ',', 'Image', 'caption', ':', 'Shaka', 'Hamidu', 'Shaka', ',', 'ndiye', 'Katibu', 'itikadi', 'na', 'uenezi', 'mpya', 'na', 'kuchukua', 'nafasi', 'ya', 'Humphrey', 'Polepole', ',', 'Kikao', 'hicho', 'pia', 'kimemteua', 'Christina', 'Mndeme', 'kuwa', 'naibu', 'katibu', 'mkuu', 'Bara', 'huku', 'Abdallah', 'Juma', 'Sadala', 'akiendelea', 'kuhudumu', 'nafasi', 'hiyo', 'upande', 'wa', 'Zanzibar', '.', 'Katibu', 'wa', 'itikadi', 'na', 'uenezi', 'iliyokuwa', 'ikishikiliwa', 'na', 'Humphrey', 'Polepole', ',', 'sasa', 'itashikiliwa', 'Shaka', 'Hamidu', 'Shaka', 'na', 'katibu', 'wa', 'uchumi', 'na', 'fedha', 'ni', 'Frank', 'Hawasi', '.', 'Malkia', 'wa', 'Zulu', 'afariki', 'dunia', 'mwezi', 'mmoja', 'baada', 'ya', 'kuchukua', 'majukumu', 'ya', 'kifalme', 'Getty', 'ImagesCopyright', ':', 'Getty', 'Images', 'Familia', 'ya', 'kifalme', 'ya', 'Zulu', 'nchini', 'Afrika', 'Kusini', 'imetangaza', 'kifo', 'cha', 'Malkia', 'wake', 'aliyekuwa', 'anaongoza', 'eneo', 'hilo', 'Shiyiwe', 'Mantfombi', 'Dlamini', 'Zulu', ',', 'mwezi', 'mmoja', 'tu', 'baada', 'ya', 'kutawazwa', 'kuchukua', 'majukumu', 'ya', 'kifalme', '.', 'Malkia', 'Mantfombi', ',', '65', ',', 'alikuwa', 'kiongozi', 'wa', 'mpito', 'wa', 'kabila', 'la', 'Zulu', 'ambalo', 'ndilo', 'kubwa', 'zaidi', 'nchini', 'Afrika', 'Kusini', 'baada', 'ya', 'kifo', 'cha', 'mume', 'wake', ',', 'Mfalme', 'Goodwill', 'Zwelithini', '.', 'Waziri', 'mkuu', 'wa', 'malkia', 'huyo', 'amesema', 'kifo', 'chake', 'kimeshutua', 'familia', 'ambayo', 'ipo', 'kwenye', 'masikitiko', 'makubwa', 'kwa', 'kumpoteza', '.', 'Mrithi', 'kama', 'mtawala', 'wa', 'eneo', 'la', 'Wazulu', 'lenye', 'watu', 'milioni', '11', 'bado', 'hajatajwa', '.', '``', 'Ni', 'huzuni', 'na', 'masikitiko', 'makubwa', 'kwamba', 'Familia', 'ya', 'Kifalme', 'inatangaza', 'kifo', 'ambacho', 'hakikutarajiwa', 'cha', 'Malkia', 'Shiyiwe', 'Mantfombi', 'Dlamini', 'Zulu', ',', 'wa', 'Wazulu', ',', \"''\", 'Mwanamfalme', 'Mangosuthu', 'Buthelezi', ',', 'waziri', 'wake', 'mkuu', 'amesema', 'kwenye', 'taarifa', '.', 'Aliongeza', 'kuwa', 'anataka', 'kuhakikishia', 'watu', 'kwamba', 'hakutakuwa', 'na', '``', 'ombwe', 'la', 'uongozi', 'kwa', 'eneo', 'la', 'Wazulu', \"''\", '.', 'Malkia', 'Mantfombi', 'alilazwa', 'hospitalini', 'wiki', 'moja', 'iliyopita', 'baada', 'ya', 'kuuguwa', 'ugonjwa', 'ambao', 'haukujulikana', ',', 'kulingana', 'na', 'vyombo', 'vya', 'habari', 'vya', 'Afrika', 'Kusini', '.', 'Alikuwa', 'ameteuliwa', 'kuchukua', 'nafasi', 'hiyo', 'Machi', '24', ',', 'baada', 'ya', 'mume', 'wake', ',', '72', ',', 'Mfalme', 'Zwethilini', ',', 'kufariki', 'dunia', 'akiwa', 'hospitalini', 'kwa', 'ugonjwa', 'wa', 'kisukari', 'na', 'matatizo', 'mengine', '.', 'Mfalme', 'huyo', 'alikuwa', 'ametawala', 'eneo', 'la', 'Wazulu', 'kwa', 'karibu', 'miaka', '50', '–', 'na', 'kumfanya', 'kuwa', 'mfalme', 'aliyetawala', 'kwa', 'kipindi', 'kirefu', 'zaidi', 'Afrika', '.', 'Malkia', 'Mantfombi', 'alikuwa', 'nani', '?', 'AFPCopyright', ':', 'AFP', 'Malkia', 'MaDlamini', 'Zulu', 'alikuwa', 'ameshikilia', 'nafasi', 'ya', 'juu', 'zaidi', 'ya', 'uongozi', 'miongoni', 'mwa', 'wake', 'wa', 'mfalme', 'kwasababu', 'anatoka', 'familia', 'ya', 'kifalme', '.', 'Alikuwa', 'dada', 'ya', 'Mfalme', 'wa', 'Eswatini', ',', 'Mswati', 'III', '–', 'nchi', 'pekee', 'Afrika', 'ambayo', 'yote', 'inaendeshwa', 'kwa', 'mfumo', 'wa', 'kifalme', '.', 'Malkia', 'MaDlamini', 'Zulu', 'na', 'marehemu', 'muwe', 'wake', 'walijaaliwa', 'watoto', 'wanane', '–', 'ikiwa', 'ni', 'pamoja', 'na', 'vijana', '5', 'wa', 'kiume', '.', 'Kijana', 'wao', 'mkubwa', ',', '47', ',', 'Mwanamfalme', 'Misuzulu', ',', 'ndiyo', 'mwenye', 'uwezekano', 'mkubwa', 'wa', 'kuchukua', 'uongozi', 'kama', 'mfalme', ',', 'taarifa', 'zinasema', 'CCM', 'kumchagua', 'mwenyekiti', 'mpya', 'bila', 'shamrashamra', 'Maelfu', 'ya', 'wajumbe', 'wa', 'Chama', 'cha', 'Mapinduzi', 'CCM', 'wamekutana', 'jijini', 'Dodoma', 'hii', 'leo', 'katika', 'Mkutano', 'Mkuu', 'wa', 'chama', 'hicho', '.', 'Hii', 'itakuwa', 'ni', 'mara', 'ya', 'kwanza', 'kwa', 'wajumbe', 'wa', 'chama', 'hicho', 'tawala', 'kukutana', 'baada', 'ya', 'kifo', 'cha', 'aliyekuwa', 'rais', 'wa', 'Tanzania', 'John', 'Pombe', 'Magufuli', 'ambaye', 'pia', 'ndiye', 'aliyekuwa', 'mwenyekiti', 'wa', 'Chama', '.', 'IKULUCopyright', ':', 'IKULU', 'Mbali', 'na', 'mambo', 'mengine', 'yatakayofanyika', ',', 'lakini', 'ajenda', 'kuu', 'ya', 'mkutano', 'huo', 'ni', 'pamoja', 'na', 'kuchaguliwa', 'cha', 'mwenyekiti', 'mpya', 'wa', 'Chama', 'ambapo', 'tayari', 'maandalizi', 'yanaonekana', 'kukamilika', 'kwa', 'kumkabidhi', 'rais', 'Samia', 'Suluhu', 'Hassan', 'nafasi', 'hiyo', 'ya', 'juu', 'kabisa', 'katika', 'chama', '.', 'Hii', 'itakuwa', 'ni', 'mara', 'ya', 'kwanza', 'kwa', 'nafasi', 'hiyo', 'kushikiliwa', 'na', 'mwanamke', '.', 'Tofauti', 'na', 'miaka', 'mengine', ',', 'mkutano', 'mkuu', 'unakuwa', 'na', 'shamra', 'shamra', 'na', 'vifijo', ',', 'mara', 'hii', 'inaonekana', 'itakuwa', 'tofauti', 'huku', 'Chama', 'hicho', 'kikisema', 'bado', 'kinaomboleza', 'kifo', 'cha', 'aliyekuwa', 'rais', 'wa', 'Tanzania', '.', 'Kenya', 'kufunga', 'kambi', 'za', 'Kakuma', ',', 'Dadaab', 'kufikia', 'Juni', '2022', 'Kenya', 'imethibitisha', 'kuwasiliana', 'rasmi', 'na', 'Shirika', 'la', 'Wakimbizi', 'la', 'Umoja', 'wa', 'Mataifa', 'UNHCR', 'na', 'kutaarifu', 'kuwa', 'itafunga', 'kambi', 'za', 'wakimbizi', 'ya', 'Dadaab', 'na', 'Kakuma', 'ifikapo', 'Juni', '30', ',', '2022', '.', 'Waziri', 'wa', 'mambo', 'ya', 'nje', 'wa', 'nchini', 'Kenya', 'bwana', 'Fred', 'Matiangí', 'ametangaza', 'hayo', 'baada', 'ya', 'kufanya', 'mkutano', 'na', 'Filippo', 'Grandi', ',', 'mjumbe', 'wa', 'Umoja', 'wa', 'Mataifa', 'anayeshughulikia', 'wakimbizi', '.', 'Dkt', '.', 'Matiangí', 'amesema', 'kuwa', 'timu', 'ya', 'maafisa', 'wa', 'serikali', 'ya', 'Kenya', 'na', 'Shirika', 'la', 'wakimbizi', 'la', 'Umoja', 'wa', 'Mataifa', 'watafuatilia', 'mchakato', 'huo', 'uliopangiwa', 'kuanza', 'Mei', ',', '5', ',', '2022', '.', 'Mchakato', 'wa', 'sasa', 'hivi', 'unajumuisha', 'kurejea', 'katika', 'nchi', 'zao', 'kwa', 'hiari', 'au', 'kutoa', 'kibali', 'cha', 'kufanyakazi', 'au', 'cha', 'makazi', 'bila', 'malipo', 'kwa', 'wakimbizi', 'kutoka', 'jamii', 'ya', 'Afrika', 'Mashariki', '.', 'Wakati', 'huo', 'huo', ',', 'Shirika', 'la', 'kutetea', 'haki', 'za', 'binadamu', 'la', 'Amnesty', 'International', 'limefurahishwa', 'na', 'mpango', 'wa', 'kupitiwa', 'tena', 'kwa', 'mpango', 'wa', 'kufunga', 'kambi', 'hizo', 'za', 'wakimbizi', '.', '‘', '’', 'Sio', 'kambi', 'za', 'kudumu', 'za', 'wakimbizi', 'au', 'kufungwa', 'kwa', 'haraka', 'kwa', 'kambi', 'hizo', 'au', 'kukiuka', 'kanuni', 'ya', 'kimataifa', 'inayokataza', 'nchi', 'inayopokea', 'wakimbizi', 'kuwarejesha', 'nchini', 'mwao', 'ambako', 'wanaweza', 'kuwa', 'katika', 'hatari', 'ni', 'suluhisho', 'ya', 'hili', '’', '’', ',', 'UN', 'imesema', '.', 'Katika', 'taarifa', 'iliyotolewa', 'na', 'shirika', 'hilo', ',', 'imesema', 'kuwa', 'inaamini', 'serikali', 'ya', 'Kenya', 'na', 'shirika', 'la', 'wakimbizi', 'la', 'Umoja', 'wa', 'Mataifa', 'katika', 'kubaini', 'machaguo', 'mengine', 'ya', 'kuwahifadhi', 'au', 'kurejea', 'kwa', 'hiari', 'kwa', 'wanaotaka', 'kwa', 'namna', 'heshima', '.', 'Mnamo', 'mwezi', 'Machi', ',', 'serikali', 'ya', 'Kenya', 'ilikuwa', 'imeipatia', 'UN', 'makataa', 'ya', 'mwisho', 'ya', 'kutafuta', 'njia', 'kwasababu', 'inataka', 'kufunga', 'kambi', 'hizo', 'mbili', 'ambazo', 'ni', 'makazi', 'kwa', 'wakimbizi', '400,000', '.', 'Muda', 'mfupi', 'baadae', ',', 'Shirika', 'la', 'Amnesty', 'International', 'likajibu', 'kwa', 'kusema', 'kuwa', 'hatua', 'ya', 'kufungwa', 'kwa', 'kambi', 'za', 'Dadaab', 'na', 'Kakuma', 'bila', 'mpangilio', 'unaoheshimu', 'haki', 'za', 'wakimbizi', ',', 'kutasababisha', 'janga', 'la', 'kibinadamu', 'wakati', 'tayari', 'dunia', 'inakumbana', 'na', 'janga', 'la', 'virusi', 'vya', 'corona', '.', 'Kenya', 'imekuwa', 'ikitoa', 'makazi', 'kwa', 'wakambizi', 'kwa', 'zaidi', 'ya', 'miaka', '30', 'na', 'sasa', 'hivi', 'serikali', 'inasema', 'uwezo', 'wake', 'kuendelea', 'kuwatunza', 'hata', 'kwa', 'kuzingatia', 'viwango', 'vya', 'chini', 'kabisa', 'vya', 'kibinadamu', 'vinavyokubalika', 'imekuwa', 'changamoto', 'kwa', 'nchi', 'hiyo', 'kuvifikia', '.', 'Katibu', 'Mkuu', 'nchini', 'Kenya', 'Karanja', 'Kibicho', ',', 'aliongeza', 'kuwa', 'uamuzi', 'wake', 'wa', 'kufunga', 'kambi', 'za', 'Dadaab', 'na', 'Kakuma', 'kufikia', 'Juni', '30', ',', '2022', '‘', 'ni', 'kwa', 'maslahi', 'ya', 'raia', 'wa', 'nchi', 'yake', '’', '.', 'Samia', 'amekabidhiwa', 'Uenyekiti', 'wa', 'CCM', 'miezi', 'michache', 'tu', 'baada', 'ya', 'chama', 'chake', 'kuibuka', 'na', 'ushindi', 'katika', 'Uchaguzi', 'Mkuu', 'unaoelezwa', 'kuwa', '``', 'usiokuwa', 'wa', 'kidemokrasia', \"'\", 'kuliko', 'mwingine', 'wowote', 'katika', 'historia', 'ya', 'chaguzi', 'za', 'vyama', 'vingi', 'hapa', 'nchini', '.']\n",
      "\n",
      " Number of Words:  1168\n"
     ]
    }
   ],
   "source": [
    "file=\"21april30.txt\"\n",
    "\n",
    "# calling the function and storing the contents in a text variable \n",
    "text = get_document(\"https://www.bbc.com/swahili/live/habari-56939323\")\n",
    "\n",
    "# calling the store_ document function \n",
    "store_document(doc=text,name=file)\n",
    "\n",
    "#add the words in this file to the total_corpus_words, to keep count of the number of words in the corpus\n",
    "total_corpus_words+=total_words(file)"
   ]
  },
  {
   "cell_type": "code",
   "execution_count": 104,
   "metadata": {},
   "outputs": [
    {
     "data": {
      "text/plain": [
       "427748"
      ]
     },
     "execution_count": 104,
     "metadata": {},
     "output_type": "execute_result"
    }
   ],
   "source": [
    "total_corpus_words"
   ]
  },
  {
   "cell_type": "code",
   "execution_count": null,
   "metadata": {},
   "outputs": [],
   "source": []
  },
  {
   "cell_type": "code",
   "execution_count": 105,
   "metadata": {},
   "outputs": [],
   "source": [
    "# from Jun 2022 to July 2022"
   ]
  },
  {
   "cell_type": "code",
   "execution_count": 106,
   "metadata": {},
   "outputs": [
    {
     "name": "stdout",
     "output_type": "stream",
     "text": [
      "['Ameanzisha', 'chama', 'cha', 'kisiasa', 'kwa', 'jina', 'Roots', 'ambacho', 'kinaitaka', 'Kenya', 'kuruhusu', 'kukuza', 'bangi', 'ili', 'kusaidia', 'kulipa', 'deni', 'kubwa', 'la', 'nchi', '.', 'Mapema', 'wiki', 'hii', ',', 'usajili', 'wake', 'wa', 'kugombea', 'urais', 'ulikataliwa', 'na', 'tume', 'ya', 'uchaguzi', 'IEBC', 'kwa', 'kukosa', 'sahihi', 'za', 'kutosha', '.', 'Hata', 'hivyo', 'siku', 'ya', 'Alhamisi', ',', 'aliwasilisha', 'tena', 'makaratasi', 'yake', 'huku', 'tume', 'ya', 'uchaguzi', 'ya', 'IEBC', 'ikimuhidhinisha', 'kuwania', 'wadhfa', 'huo', '.', 'Harakati', 'za', 'kuwania', 'urais', 'zimekuwa', 'zikionekana', 'kuwa', 'kati', 'ya', 'farasi', 'wawili', 'naibu', 'rais', 'William', 'Ruto', 'na', 'aliyekuwa', 'Waziri', 'Mkuu', 'Raila', 'Odinga', '.', 'Hata', 'hivyo', ',', 'mgombea', 'wa', 'chama', 'cha', 'Roots', ',', 'ambaye', 'ana', 'hadithi', 'ya', 'ajabu', 'ya', 'Maisha', 'yake', '-', 'akitoka', 'kuishi', 'katika', 'mitaa', 'ya', 'mji', 'mkuu', ',', 'Nairobi', ',', 'aalipokuwa', 'mtoto', 'hadi', 'kuwa', 'wakili', 'anayeheshimika', 'na', 'angalau', 'digrii', 'sita', '-', 'anachangamsha', 'kampeni', 'na', 'kufungua', 'mjadala', 'juu', 'ya', 'bangi', '.', 'Wakati', 'huohuo', 'aliyekuwa', 'mcheshi', 'Walter', \"Mong'are\", 'maarufu', 'Nyambane', 'ameruhusiwa', 'kuwania', 'urais', 'na', 'Tume', 'ya', 'uchaguzi', 'nchini', 'Kenya', 'IEBC', '.', 'Huku', 'baadhi', 'ya', 'wagombea', 'akiwemo', 'gavana', 'mmoja', 'wa', 'eneo', 'la', 'mkoa', 'wa', 'kati', 'akilalamika', 'kufungiwa', 'nje', 'katika', \"kinyang'anyiro\", 'hicho', ',', 'Bwana', 'Mongare', 'alikuwa', 'akitabasamu', 'alipoondoka', 'katika', 'ukumbi', 'wa', 'Bomas', 'of', 'Kenya', 'na', 'hata', 'akapata', 'muda', 'wa', 'kumuigiza', 'aliyekuwa', 'rais', 'wa', 'Kenya', 'rais', 'Daniel', 'Moi', 'muda', 'mfupi', 'baadaye', '.', 'Bwana', 'Mongare', 'alianzisha', 'ucheshi', 'wake', 'kupitia', 'kuigiza', 'sauti', 'ya', 'rais', 'huyo', 'wa', 'awamu', 'ya', 'pili', 'wa', 'Kenya', 'mapema', 'miaka', 'ya', '2000', '.', 'Alikuwa', 'miongoni', 'mwa', 'wachekeshaji', 'wa', 'kundi', 'la', 'Reddykyulas', ',', 'kundi', 'la', 'watu', 'watatu', 'ambalo', 'lilichangamsha', 'Wakenya', 'kupitia', 'ucheshi', 'katika', 'siasa', '.', 'Wachekeshaji', 'wengine', 'wawili', 'waliokuwa', 'katika', 'kundi', 'hilo', 'walikuwa', 'Bwana', 'Tony', 'Njuguna', 'na', 'bwana', 'John', 'Kiarie', ',', 'ambaye', 'kwasasa', 'ni', 'mbunge', 'wa', 'eneo', 'bunge', 'la', 'Dagoretti', 'Kusini', '.', 'Katika', 'kipindi', 'cha', 'miaka', 'mitano', 'iliopita', 'bwana', \"Mong'are\", 'amekuwa', 'akifanya', 'kazi', 'katika', 'ofisi', 'ya', 'rais', 'akiwa', 'mshauri', '.', \"''Nataka\", 'kumwambia', 'rais', 'Uhuru', 'Kenyatta', 'kwamba', 'uchaguzi', 'huu', 'sio', 'mashindano', 'kati', 'yangu', 'na', 'yeye', ',', 'najaribu', 'kuwa', 'kiongozi', 'bora', 'kama', 'alivyotufunza', 'ili', 'kuweza', 'kurudi', 'katika', 'Ikulu', 'ya', 'Rais', \"''\", ',', 'alinukuliwa', 'akisema', 'na', 'gazeti', 'la', 'the', 'standard', '.', 'Mfahamu', 'Mcheshi', 'Walter', \"Mong'are\", 'Chanzo', 'cha', 'picha', ',', 'Walter', \"Mong'are\", 'facebook', 'Maelezo', 'ya', 'picha', ',', 'Walter', \"Mong'are\", 'facebook', 'Kabla', 'ya', 'kufanya', 'kazi', 'katika', 'ofisi', 'ya', 'rais', ',', 'bwana', \"Mong'are\", 'alihudumu', 'katika', 'shirika', 'la', 'matangazo', 'nchini', 'Kenya', 'KBC', 'akiwa', 'mkuu', 'wa', 'vipindi', 'kabla', 'ya', 'kufanyakazi', 'katika', 'serikali', 'ya', 'kaunti', 'ya', 'Kisii', 'kama', 'mkuu', 'wa', 'mawasiliano', '.', 'Pia', 'amewahi', 'kufanya', 'kazi', 'katika', 'redio', 'ya', 'Kiss', 'Fm', 'akiwa', 'mtangazaji', '.', 'Bwana', 'Mongare', 'vilevile', 'amewahi', 'kuwa', 'msanii', 'ambapo', 'aliweza', 'kutoa', 'vibao', 'kama', 'vile', \"'Sweet\", 'banana', \"'\", 'na', \"'baby\", 'J', 'nyamba', \"'\", 'akishirikiana', 'na', 'Talia', 'Oyando', '.', 'Mchekeshaji', 'huyo', 'atawania', 'urais', 'kupitia', 'tiketi', 'ya', 'chama', 'cha', 'Umoja', 'Summit', 'party', 'chenye', 'nembo', 'ya', 'chungu', '.', 'Anasema', 'kwamba', 'uwaniaji', 'wake', 'umeshawishiwa', 'na', 'rais', 'wa', 'Ukraine', 'anayepigana', 'vita', 'dhidi', 'ya', 'Urusi', 'Volodymyr', 'Zelensky', ',', 'ambaye', 'pia', 'aliwahi', 'kuwa', 'mcheshi', '.', \"''Zelensky\", 'alikuwa', 'akiigiza', 'jinsi', 'rais', 'alivyokuwa', 'akizungumza', 'na', 'kufanikiwa', 'kuwa', 'rais', \"''\", ',', 'alisema', \"Mong'are\", 'akinukuliwa', 'na', 'gazeti', 'la', 'The', 'Standard', '.']\n",
      "\n",
      " Number of Words:  480\n"
     ]
    }
   ],
   "source": [
    "file=\"22Jun3.txt\"\n",
    "\n",
    "# calling the function and storing the contents in a text variable \n",
    "text = get_document(\"https://www.bbc.com/swahili/habari-61670527\")\n",
    "\n",
    "# calling the store_ document function \n",
    "store_document(doc=text,name=file)\n",
    "\n",
    "#add the words in this file to the total_corpus_words, to keep count of the number of words in the corpus\n",
    "total_corpus_words+=total_words(file)"
   ]
  },
  {
   "cell_type": "code",
   "execution_count": 107,
   "metadata": {},
   "outputs": [
    {
     "data": {
      "text/plain": [
       "428228"
      ]
     },
     "execution_count": 107,
     "metadata": {},
     "output_type": "execute_result"
    }
   ],
   "source": [
    "total_corpus_words"
   ]
  },
  {
   "cell_type": "code",
   "execution_count": 108,
   "metadata": {},
   "outputs": [
    {
     "name": "stdout",
     "output_type": "stream",
     "text": [
      "['Tangu', 'kuvunjika', 'kwa', 'serikali', 'kuu', 'ya', 'Somalia', ',', 'nchi', 'hiyo', 'imekuwa', 'na', 'idadi', 'kubwa', 'ya', 'watu', 'wakimbizi', 'wa', 'ndani', '.', 'Miongoni', 'mwao', 'ni', 'baadhi', 'ya', 'watu', 'wanaoshukiwa', 'kufanya', 'mashambulizi', 'katika', 'balozi', 'za', 'Marekani', '.', 'Hawa', 'ni', 'watu', 'watano', 'waliojificha', 'nchini', 'Somalia', ',', 'baada', 'ya', 'kuwekwa', 'katika', 'orodha', 'ya', 'majasusi', 'wa', 'kimataifa', '.', 'Fasul', 'Abdalla', 'Fasul', 'Abdalla', 'alikuwa', 'ni', 'mmoja', 'wa', 'watu', 'waliosakwa', 'zaidi', 'ambaye', 'aliuawa', 'katika', 'mji', 'mkuu', 'wa', 'Somalia', 'Mogadishu', '.', 'Marekani', 'imemshutumu', 'kuhusika', 'na', 'mashambulio', 'ya', 'ugaidi', 'ya', 'mwaka', '1998', 'dhidi', 'ya', 'balozi', 'zake', 'za', 'Tanzania', 'na', 'Kenya', '.', 'Pia', 'alidhaniwa', 'kuwa', 'ndiye', 'aliyekuwa', 'nyuma', 'ya', 'msururu', 'wa', 'mashambulio', 'yaliyofanyika', 'katika', 'Hoteli', 'maarufu', 'ya', 'Paradise', 'Hotel', 'iliyopo', 'Mombasa', 'Kenya', 'na', 'shambulizi', 'la', 'kombora', 'dhidi', 'ya', 'ndege', 'ya', 'Israeli', 'mwaka', '2002', '.', 'Fasul', 'alizaliwa', 'katika', 'visiwa', 'vya', 'Comoro', 'katika', 'miaka', 'ya', '1970', '.', 'Anasemekana', 'aliwahi', 'kuishi', 'katika', 'nchi', 'ya', 'Saudi', 'Arabia', 'wakati', 'alipokuwa', 'mwanafunzi', '.', 'Abu-Mansur', 'Al-Amriki', 'Omar', 'Hammami', ',', 'al', 'maarufu', 'Amriki', ',', 'aliwasili', 'nchini', 'Somalia', 'mwaka', '2006', ',', 'na', 'kuwa', 'mmoja', 'wa', 'viongozi', 'wa', 'ngazi', 'ya', 'juu', 'wa', 'kundi', 'la', 'al-Shabaab', '.', 'Chanzo', 'cha', 'picha', ',', 'Getty', 'Images', 'Alikulia', 'katika', 'eneo', 'la', 'Daphne', ',', 'Alabama', ',', 'nchini', 'Marekani', '.', 'Kulingana', 'na', 'watu', 'waliosoma', 'naye', '.', 'Alikuwa', 'mwanafunzi', 'mkakamavu', ',', 'na', 'wakati', 'mmoja', 'aliwahi', 'kuchaguliwa', 'kuwa', 'kiongozi', 'wa', 'wanafunzi', '.', 'Anaaminiwa', 'kuuawa', 'Somalia', 'katika', 'mwaka', '2013', ',', 'kufuatia', 'mzozo', 'katika', 'kundi', 'lake', 'la', 'al-shaabab', 'Samantha', 'Lewthwaite', \"'White\", 'Garden', \"'\", 'Mtoro', 'wa', 'muda', 'mrefu', 'amekuwa', 'nchini', 'somalia', 'kwa', 'miaka', 'saba', 'Anaripotiwa', 'kutoroka', 'Somalia', 'baada', 'ya', 'kutalikiana', 'na', 'mume', 'wake', 'msomali', ',', 'kulingana', 'na', 'baadhi', 'ya', 'vyombo', 'vya', 'habari', 'vya', 'Kenya', 'na', 'Uingereza', '.', 'Chanzo', 'cha', 'picha', ',', 'Getty', 'Images', 'Maelezo', 'ya', 'picha', ',', 'Samantha', 'Lewthwaite', 'Samantha', 'Lewthwaite', 'Alik', 'uwa', 'ni', 'mmoja', 'wa', 'magaidi', 'wanaosakwa', 'sana', 'duniani', ',', 'na', 'alifahamika', 'kote', 'duniani', 'kama', 'White', 'Widow', '.', 'Samantha', ',', 'ambaye', 'ni', 'raia', 'wa', 'Uingereza', ',', 'anasemekana', 'alikuwa', 'mmoja', 'wa', 'zaidi', 'ya', 'wanawake', '200', 'waliopo', 'katika', 'ujasusi', 'wa', 'al-Shabaab', ',', 'kulingana', 'na', 'vyombo', 'vya', 'habari', 'vya', 'kimataifa', '.', 'Chanzo', 'cha', 'picha', ',', 'FBI', 'Maelezo', 'ya', 'picha', ',', 'Liban', 'alijiunga', 'na', 'al-Shabaab', 'katika', 'mwaka', '2006', 'Liban', 'Haji', 'Mohamed', 'na', 'raia', 'wa', 'Marekani', 'mwenye', 'asili', 'ya', 'Kisomali', '.', 'Aliishi', 'katika', 'jimbo', 'la', 'kaskazini', 'mwa', 'Virginia', 'nchini', 'Marekani', '.', 'hatahivyo', 'mwaka', '2006', 'alienda', 'nchini', 'Somalia', 'kujiunga', 'na', 'al-Shabaab', '.', 'Anashutumiwa', 'kwa', 'kutoa', 'usaidizi', 'wa', 'kijeshi', 'kwa', 'al-shaabab', ',', 'ambapo', 'mahakama', 'ya', 'kijimbo', 'ilitoa', 'waranti', 'ya', 'kukamatwa', 'kwake', '.', 'Shirika', 'la', 'ujasusi', 'la', 'Marekani', 'FBI', 'limetangaza', 'zawadi', 'ya', 'dola', '50,000', 'kwa', 'atakayepelekea', 'kumatwa', 'kwake', '.', 'Chanzo', 'cha', 'picha', ',', 'Us', 'Embessy', 'Maelezo', 'ya', 'picha', ',', 'Badri', 'walikuwa', 'pamoja', 'na', 'mwanaume', 'mwingine', 'kwa', 'jina', 'salah', ',', 'ambaye', 'anasakwa', 'na', 'Marekani', 'Badri', 'Abdicasiis', 'Badri', 'ni', 'Msomali', 'kutoka', 'Kenya', '.', 'Kesi', 'yake', 'ni', 'tofauti', 'na', 'wajumbe', 'wengine', 'waliotajwa', 'awali', 'ambao', 'walishitakiwa', 'kwa', 'ugaidi', '.', 'Anashitakiwa', 'kwa', 'ulanguzi', 'wa', 'madawa', 'ya', 'kulevya', 'na', 'pembe', 'za', 'ndovu', '.', 'Ubalozi', 'wa', 'Marekani', 'mjini', 'Nairobi', 'ulituma', 'picha', 'yake', 'na', 'ilisambazwa', 'sana', 'kwenye', 'mitandao', 'ya', 'kijamii', ',', 'na', 'zawadi', 'ya', 'dola', 'milioni', '1', 'inatarajiwa', 'kutolewa', 'kwa', 'atakayepelekea', 'kukamatwa', 'kwake', '.', 'Badri', 'alikamatwa', 'katika', 'eneo', 'la', 'Liboi', ',', 'katika', 'kaunti', 'ya', 'Garissa', 'County', 'alipokuwa', 'njiani', 'kuelekea', 'nchini', 'somalia', ',', 'katika', 'kituo', 'cha', 'kupambana', 'na', 'ugaidi', '.', 'Anaaminiwa', 'kukamatwa', 'alipokuwa', 'akijiandaa', 'kutoroka', 'kuelekea', 'nchini', 'somalia', '.', 'Abdi', 'Hussein', 'Ahmed', ',', 'ambaye', 'anaaminiwa', 'kumtorosha', 'Badri', ',', 'pia', 'anatafutwa', '.', 'Kiasi', 'cha', 'dola', 'milioni', 'moja', 'kimetangazwa', 'kutolewa', 'kama', 'zawadi', 'kwa', 'yeyote', 'atakayetoa', 'taarifa', 'kumuhusu', '.', 'Inaaminiwa', 'kuwa', 'alionekana', 'mara', 'ya', 'mwisho', 'kwenye', 'mpaka', 'wa', 'Kenya', 'na', 'Somalia', '.']\n",
      "\n",
      " Number of Words:  570\n"
     ]
    }
   ],
   "source": [
    "file=\"22Jun4.txt\"\n",
    "\n",
    "# calling the function and storing the contents in a text variable \n",
    "text = get_document(\"https://www.bbc.com/swahili/habari-61689510\")\n",
    "\n",
    "# calling the store_ document function \n",
    "store_document(doc=text,name=file)\n",
    "\n",
    "#add the words in this file to the total_corpus_words, to keep count of the number of words in the corpus\n",
    "total_corpus_words+=total_words(file)"
   ]
  },
  {
   "cell_type": "code",
   "execution_count": 109,
   "metadata": {},
   "outputs": [
    {
     "data": {
      "text/plain": [
       "428798"
      ]
     },
     "execution_count": 109,
     "metadata": {},
     "output_type": "execute_result"
    }
   ],
   "source": [
    "total_corpus_words"
   ]
  },
  {
   "cell_type": "code",
   "execution_count": 110,
   "metadata": {},
   "outputs": [
    {
     "name": "stdout",
     "output_type": "stream",
     "text": [
      "['Raila', 'Odinga', ':', 'Tume', 'ya', 'Uchaguzi', 'Kenya', '(', 'IEBC', ')', 'yamthibitisha', 'mgombea', 'wa', 'urais', 'kwa', 'tiketi', 'ya', 'Azimio', 'la', 'Umoja', 'By', 'Evelyne', 'Musambi', 'BBC', 'News', ',', 'Nairobi', '5', 'Juni', '2022', 'Chanzo', 'cha', 'picha', ',', 'AFP', 'Wakati', 'Raila', 'Odinga', 'akitokea', 'katika', 'familia', 'maarufu', 'ya', 'kisiasa', 'nchini', 'Kenya', ',', 'kofia', 'ya', 'urais', 'imekuwa', 'ikimponyoka', 'katika', 'kipindi', 'chote', 'cha', 'miongo', 'kadhaa', 'ya', 'maisha', 'yake', 'ya', 'siasa', '-', 'kama', 'ilivyomtokea', 'baba', 'yake', ',', 'ambaye', 'aliwahi', 'kuwa', 'makamu', 'wa', 'rais', 'baada', 'ya', 'Kenya', 'kupata', 'uhuru', 'kutoka', 'kwa', 'Waingereza', '.', 'Akiwa', 'na', 'umri', 'wa', 'miaka', '77', ',', 'Bw', 'Odinga', 'atafanya', 'jaribio', 'lake', 'la', 'tano', 'la', 'kuwania', 'urais', 'katika', 'uchaguzi', 'wa', 'Agosti', '9', ',', 'mwaka', 'huu', 'akiwa', 'amewahi', 'kuteuliwa', 'kuwa', 'Waziri', 'Mkuu', 'mwaka', '2008', 'moja', 'ya', 'nafasi', 'za', 'juu', 'za', 'utawala', 'Kenya', '.', 'Bwana', 'Odinga', 'ana', 'wafuasi', 'wengi', ',', 'na', 'mashabiki', 'wake', 'wanaomfuatilia', 'kwa', 'karibu', 'wamempa', 'jina', 'la', 'utani', '``', 'Baba', \"''\", ',', '``', 'Agwambo', \"''\", 'na', '``', 'Tinga', \"''\", '-', 'lililotolewa', 'kutoka', 'kwa', 'nembo', 'ya', 'chama', 'chake', 'katika', 'uchaguzi', 'wa', '1997', '.', 'Mtindo', 'wake', 'wa', 'wa', 'kucheza', 'taratibu', 'nyimbo', 'za', 'reggae', 'wakati', 'wa', 'mikutano', 'yake', 'imepewa', 'jina', 'la', '``', 'Staili', 'au', 'mtindo', 'wa', 'kucheza', 'wa', 'Raila', \"''\", '.', 'Mfuasi', 'wa', 'klabu', 'ya', 'soka', 'ya', 'Arsenal', 'ya', 'Uingereza', ',', 'Bwana', 'Odinga', 'anakuja', 'na', 'koti', 'jipya', 'la', 'kisiasa', 'katika', 'kila', 'uchaguzi', '.', 'Anashiriki', 'uchaguzi', 'wa', 'mwaka', 'huu', 'chini', 'ya', 'bendera', 'ya', 'Azimio', 'la', 'Umoja', ',', 'huku', 'akijaribu', 'kuwateka', 'wafuasi', 'wa', 'Rais', 'anayeondoka', 'madarakani', ',', 'Uhuru', 'Kenyatta', '.', 'Wawili', 'hao', '-', 'wanaowakilisha', 'familia', 'kubwa', 'mbili', 'za', 'kisiasa', 'nchini', 'Kenya', '-', 'walikuwa', 'wapinzani', 'wakubwa', 'katika', 'uchaguzi', 'wa', '2017', ',', 'lakini', 'waliungana', 'pamoja', 'mwaka', 'uliofuata', 'katika', 'hafla', 'iliyotangazwa', 'sana', 'na', 'iliyopewa', 'jina', 'la', \"'The\", 'Handshake', \"'\", '.', 'Chanzo', 'cha', 'picha', ',', 'Getty', 'Images', 'Maelezo', 'ya', 'picha', ',', 'Bwana', 'Odinga', 'and', 'Rais', 'Kenyatta', 'wakishikana', 'mikono', 'kumaliza', 'uhasama', 'wa', 'kisiasa', 'wa', 'muda', 'mrefu', 'Bwana', 'Odinga', 'sasa', 'anaahidi', 'kuendeleza', 'hoja', 'ya', 'maendeleo', 'ya', 'Bwana', 'Kenyatta', 'na', 'kuboresha', 'maisha', 'ya', 'Wakenya', 'walio', 'hatarini', 'kwa', 'kuwapa', 'posho', 'ya', 'shilingi', '6,000', 'za', 'Kenya', 'sawa', 'na', 'dola', '50', 'kila', 'mwezi', 'kutoka', 'kwa', 'hazina', 'mpya', 'ya', 'hifadhi', 'ya', 'jamii', ',', 'iwapo', 'atachaguliwa', 'kuwa', 'rais', '.', 'Pesa', 'za', 'mfuko', 'huo', ',', 'anasema', ',', 'zitatokana', 'na', 'alichokiita', 'kukabiliana', 'na', 'ufisadi', 'ulioenea', 'nchini', 'humo', '.', 'Bwana', 'Odinga', 'pia', 'ameahidi', 'kutoa', 'huduma', 'za', 'afya', 'kwa', 'gharama', 'nafuu', 'kupitia', 'mpango', 'aliouita', '``', 'Baba', 'Care', \"''\", ',', 'akijitangaza', 'kama', 'baba', 'katika', 'taifa', 'hilo', 'lenye', 'watu', 'zaidi', 'ya', 'milioni', '56', '.', 'Mgombea', 'mwenza', 'mwanamke', 'Haijulikani', 'ikiwa', 'hili', 'litakuwa', 'jaribio', 'la', 'mwisho', 'la', 'mzee', 'huyo', 'mwenye', 'umri', 'wa', 'miaka', '77', 'katika', 'kuwania', 'urais', '.', 'Hapo', 'awali', 'alielezea', 'azma', 'yake', 'ya', 'urais', '2017', 'kama', '``', 'risasi', \"''\", 'yake', 'ya', 'mwisho', ',', 'kwa', 'maana', 'ya', 'jaribio', 'lake', 'la', 'mwisho', '.', 'Lakini', 'alieleza', 'hatua', 'yake', 'ya', 'kubadilisha', 'maamuzi', 'hayo', 'katika', 'mahojiano', 'na', 'Sophie', 'Ikenye', 'wa', 'BBC', 'Focus', 'on', 'Africa', 'TV', 'mnamo', 'Machi', '2022', ',', 'kwa', 'kueleza', 'kuwa', 'Wakenya', '``', 'walimtaka', 'agombee', 'tena', 'urais', 'kwa', 'sababu', 'ya', 'imani', 'kubwa', \"''\", 'waliyokuwa', 'nayo', 'kwake', '.', 'Nani', 'yuko', 'kwenye', \"kinyang'anyiro\", 'cha', 'kuiongoza', 'Kenya', '?', 'Fahamu', 'zaidi', 'kuwahusu', 'wagombea', 'urais', 'wa', 'Kenya', 'Chagua', 'mgombea', 'ili', 'kutazama', 'wasifu', 'wake', 'Raila', 'Odinga', 'William', 'Ruto', 'George', 'Wajackoyah', 'David', 'Mwaure', 'Raila', 'Amollo', 'Odinga', 'Muungano', 'wa', 'Azimio', 'la', 'Umoja', 'Maelezo', 'ya', 'Msingi', 'Mgombea', 'huyo', 'mwenye', 'umri', 'wa', 'miaka', '77', 'ni', 'mhandisi', 'aliyesomea', 'Chuo', 'Kikuu', 'cha', 'Ufundi', 'cha', 'Magdeburg', '(', 'sasa', 'kinajulikana', 'kama', 'Chuo', 'Kikuu', 'cha', 'Otto-von-Guericke', 'Magdeburg', ')', 'nchini', 'Ujerumani', '.', 'Anawania', 'kiti', 'cha', 'urais', 'kwa', 'tikiti', 'ya', 'Azimio', 'la', 'Umoja', 'One', 'Kenya', 'Coalition', 'Party', '.', 'Hili', 'litakuwa', 'jaribio', 'lake', 'la', 'tano', 'baada', 'ya', 'kugombea', 'katika', ':', '1997', ',', '2007', ',', '2013', 'na', '2017', '.', 'Mafanikio', 'Muhimu', 'Bw', 'Odinga', 'alikuwa', 'mmoja', 'wa', 'wapiganiaji', 'wa', 'demokrasia', 'ya', 'vyama', 'vingi', 'nchini', 'Kenya', '.', 'Alikamatwa', ',', 'akafungwa', 'na', 'wakati', 'fulani', 'akaenda', 'uhamishoni', 'kwa', 'sababu', 'ya', 'kupigania', 'haki', 'hiyo', 'Aliwahi', 'kuwa', 'Waziri', 'Mkuu', ',', 'kuanzia', '2008-2013', '.', 'Odinga', 'alihusika', 'kufanikisha', 'miradi', 'mikubwa', 'iliyotekelezwa', 'na', 'serikali', 'ya', 'Kibaki', ',', 'kama', 'vile', 'miradi', 'ya', 'umeme', 'vijijini', 'na', 'barabara', '.', 'Ahadi', 'Muhimu', 'Kuafikia', 'ukuaji', 'wa', 'uchumi', 'wa', 'tarakimu', 'mbili', 'kupitia', 'uwekezaji', 'katika', 'biashara', 'ndogo', 'ndogo', 'na', 'sekta', 'ya', 'viwanda', '.', 'Utoaji', 'wa', 'huduma', 'bora', 'za', 'afya', 'kwa', 'wote', '.', 'Utoaji', 'wa', 'vifaa', 'vya', 'michezo', 'na', 'burudani', 'kwa', 'ukuaji', 'wa', 'kimwili', ',', 'kiakili', ',', 'kijamii', ',', 'kimaadili', 'na', 'maendeleo', 'ya', 'watu', '.', 'Kashfa/Sakata', 'Kufuatia', 'jaribio', 'la', 'mapinduzi', 'ya', 'Agosti', '1', ',', '1982', ',', 'Raila', 'Odinga', 'alikamatwa', 'na', 'kukabiliwa', 'na', 'mashtaka', 'kadhaa', ',', 'yakiwemo', 'ya', 'uhaini', 'ambayo', 'alizuiliwa', 'bila', 'kufunguliwa', 'mashtaka', '.', 'Tume', 'ya', 'Ukweli', 'ya', 'Haki', 'na', 'Maridhiano', 'iliambiwa', 'mwaka', '2011', 'kwamba', 'Odinga', 'alikuwa', 'na', 'mawasiliano', 'na', 'mpangaji', 'mkuu', 'wa', 'mapinduzi', 'hayo', '.', 'Odinga', 'amekana', 'kuhusika', 'kila', 'mara', '.', '-', 'Makavazi', 'ya', 'Kitaifa', 'ya', 'Kenya', '.', 'William', 'Samoei', 'Ruto', 'Muungano', 'wa', 'Kenya', 'Kwanza', 'Maelezo', 'ya', 'Msingi', 'Mgombea', 'huyu', 'mwenye', 'umri', 'wa', 'miaka', '55', 'ana', 'Shahada', 'ya', 'Uzamifu/PhD', 'katika', 'Ikolojia', 'ya', 'Mimea', 'na', 'BSc', 'katika', 'Botany', 'na', 'Zoology', 'kutoka', 'Chuo', 'Kikuu', 'cha', 'Nairobi', '.', 'Anawania', 'kiti', 'cha', 'urais', 'kwa', 'tikiti', 'ya', 'chama', 'cha', 'United', 'Democratic', 'Alliance', '(', 'chenye', 'mafungamano', 'na', 'Kenya', 'Kwanza', ')', '.', 'Aliongoza', 'Vuguvugu', 'la', 'vijana', 'la', 'Youth', 'for', 'Kanu', \"'92\", '(', 'YK', \"'\", '(', '92', ')', '.', 'Mafanikio', 'Muhimu', 'Wizara', 'yake', 'iliorodheshwa', 'kama', 'inayofanya', 'bora', 'zaidi', 'serikalini', 'alipokuwa', 'Waziri', 'wa', 'Kilimo', '.', 'Alihudumu', 'kama', 'Naibu', 'Rais', 'wa', 'kwanza', 'wa', 'Kenya', 'chini', 'ya', 'katiba', 'mpya', 'ya', '2010', '.', 'Alihudumu', 'kama', 'mbunge', 'wa', 'eneo', 'bunge', 'la', 'Eldoret', 'Kaskazini', 'kuanzia', '1997-2007', '.', 'Ahadi', 'Muhimu', 'Kutenga', '$', '424', 'milioni', 'kila', 'mwaka', 'kwa', 'biashara', 'ndogo', 'ndogo', 'za', 'kati', '.', 'Kuanzisha', 'mfuko', 'wa', 'elimu', 'wa', 'kitaifa', 'ili', 'kukidhi', 'gharama', 'zisizo', 'za', 'masomo', '.', 'Tekeleza', 'kikamilifu', 'sheria', 'ya', 'usawa', 'wa', 'kijinsia', 'ya', 'thuluthi', 'mbili', 'katika', 'uteuzi', 'wa', 'kisiasa', 'na', 'kutenga', 'nusu', 'ya', 'baraza', 'lake', 'la', 'mawaziri', 'kwa', 'wanawake', '.', 'Kashfa/Sakata', 'Mnamo', '2008', ',', 'Mahakama', 'Kuu', 'ya', 'Kenya', 'iliamuru', 'Naibu', 'Rais', 'William', 'Ruto', 'kusalimisha', 'shamba', 'la', 'ekari', '100', 'na', 'kulipa', '$', '62,500', 'kwa', 'Adrian', 'Muteshi', ',', 'mkulima', 'ambaye', 'alimshtaki', 'kwa', 'kuchukua', 'mali', 'hiyo', 'baada', 'ya', 'uchaguzi', 'wa', '2007', '.', '-', 'Kenya', 'Law', 'Mnamo', '2011', ',', 'Bw', 'Ruto', 'alikabiliwa', 'na', 'kesi', 'kwa', 'makosa', 'matatu', 'dhidi', 'ya', 'binadamu', ':', 'Mauaji', ',', 'uhamisho', 'wa', 'watu', 'kwa', 'lazima', 'na', 'mateso', 'ya', 'watu', 'katika', 'Mahakama', 'ya', 'Kimataifa', 'ya', 'Uhalifu', '.', 'Miaka', 'mitano', 'baadaye', 'mahakama', 'ilisitisha', 'kesi', 'hiyo', 'kwa', 'msingi', 'kwamba', '-', 'ushahidi', 'wa', 'upande', 'wa', 'mashtaka', 'ulikuwa', 'dhaifu', '.', '-ICC', 'George', 'Wajackoyah', 'Chama', 'cha', 'Roots', 'Maelezo', 'ya', 'Msingi', 'Profesa', 'huyo', 'mwenye', 'umri', 'wa', 'miaka', '61', 'ana', 'shahada', 'ya', 'uzamili', 'katika', 'sheria', 'kuhusu', 'maendeleo', 'kutoka', 'Chuo', 'Kikuu', 'cha', 'Warwick', 'na', 'shahada', 'ya', 'uzamili', ',', 'sheria', '(', 'sheria', 'za', 'Marekani', 'kutoka', 'Chuo', 'Kikuu', 'cha', 'Baltimore', '.', 'Bw', 'Wajackoyah', 'anawania', 'kiti', 'cha', 'urais', 'kwa', 'tiketi', 'ya', 'Chama', 'cha', 'Roots', 'Party', '.', 'Mafanikio', 'Muhimu', 'Alihudumu', 'kama', 'Inspekta', 'katika', 'idara', 'ya', 'usalama', 'ya', 'Special', 'branch', 'wakati', 'wa', 'utawala', 'wa', 'marehemu', 'Rais', 'Daniel', 'Moi', 'kabla', 'ya', 'kulazimika', 'kutorokea', \"ng'ambo\", 'ili', 'kuepuka', 'kufunguliwa', 'mashtaka', 'na', 'mamlaka', '.', 'Yeye', 'ni', 'mshirika', 'katika', 'kampuni', 'ya', 'mawakili', 'aliyoianzisha', 'mwaka', 'wa', '2018', '.', 'Alifunnza', 'somo', 'la', 'sheria', 'na', 'uchumi', 'katika', 'vyuo', 'vikuu', 'vya', 'Marekani', ',', 'Uingereza', 'na', 'Kenya', '.', 'Ahadi', 'Muhimu', 'Kuhalalisha', 'matumizi', 'ya', 'kiviwanda', 'ya', 'bangi', 'Badilisha', 'siku', 'za', 'kazi', 'hadi', 'Jumatatu', 'hadi', 'Alhamisi', '.', 'Huduma', 'ya', 'afya', 'ya', 'bure', 'na', 'msaada', 'kwa', 'wazee', ',', 'walio', 'hatarini', 'na', 'wajawazito', 'David', 'Mwaure', 'Waihiga', 'Chama', 'cha', 'Agano', 'Maelezo', 'ya', 'Msingi', 'David', 'Mwaure', 'anawania', 'kiti', 'cha', 'urais', 'kwa', 'tiketi', 'ya', 'Chama', 'cha', 'Agano', '.', 'Ni', 'kiongozi', 'wa', 'Chama', 'cha', 'Agano', '.', 'Alihitimu', 'na', 'shahada', 'ya', 'sheria', 'kutoka', 'Chuo', 'Kikuu', 'cha', 'Nairobi', 'na', 'ana', 'Shahada', 'ya', 'Uzamili', 'katika', 'masomo', 'ya', 'uongozi', '.', 'Mafanikio', 'Muhimu', 'Yeye', 'ni', 'wakili', 'mkuu', 'na', 'amehudumu', 'kama', 'mwanasheria', 'kwa', 'zaidi', 'ya', 'miongo', 'mitatu', '.', 'Ahadi', 'Muhimu', 'Bw', 'Odinga', 'amemchagua', 'aliyekuwa', 'Waziri', 'wa', 'Sheria', 'Martha', 'Karua', 'kuwa', 'mgombea', 'mwenza', 'wake', '.', 'Hili', 'linaonekana', 'ni', 'jambo', 'la', 'kihistoria', '-', 'ni', 'mara', 'ya', 'kwanza', 'kwa', 'mgombea', 'urais', 'kumchagua', 'naibu', 'mwanamke', '.', 'Timu', 'yao', 'ya', 'kampeni', 'inawalinganisha', 'wawili', 'hao', 'na', 'Rais', 'wa', 'Marekani', 'Joe', 'Biden', 'na', 'Makamu', 'wake', 'Kamala', 'Harris', '.', 'Bw', 'Odinga', 'anawekeza', 'nguvu', 'katika', 'maeneo', 'muhimu', 'ya', 'kati', ',', 'magharibi', 'na', 'pwani', 'ya', 'Kenya', 'ili', 'kumpa', 'zaidi', 'ya', '50', '%', 'ya', 'kura', '.', 'Chanzo', 'cha', 'picha', ',', 'Getty', 'Images', 'Maelezo', 'ya', 'picha', ',', 'Disemba', '2021', ',', 'Bwana', 'Odinga', 'alizindua', 'kampeni', 'zake', 'za', 'urais', 'katika', 'uchaguzi', 'mkuu', 'ujao', 'wa', 'Agosti', '9', ',', '2022', ',', 'pamoja', 'na', 'mengine', 'uzinduzi', 'huo', 'ulishereheshwa', 'na', 'ngoma', 'za', 'asili', '.', 'Bwana', 'Odinga', 'anaonekana', 'kuwa', 'mrithi', 'wa', 'kisiasa', 'wa', 'baba', 'yake', ',', 'Jaramogi', 'Odinga', '.', 'Alikuwa', 'makamu', 'wa', 'kwanza', 'wa', 'rais', 'wa', 'Kenya', 'baada', 'ya', 'uhuru', ',', 'lakini', 'aliondoka', 'serikalini', 'mwaka', 'wa', '1966', 'baada', 'ya', 'kutofautiana', 'na', 'kiongozi', 'wa', 'wakati', 'huo', ',', 'Jomo', 'Kenyatta', ',', 'baba', 'yake', 'na', 'rais', 'wa', 'sasa', ',', 'Uhuru', 'Kenyatta', '.', 'Jaramogi', 'Odinga', 'aliunga', 'mkono', 'ushirika', 'na', 'uhusiano', 'wa', 'karibu', 'na', 'nchi', 'za', 'Umoja', 'wa', 'Kisovieti', 'na', 'China', ',', 'huku', 'Jomo', 'Kenyatta', 'akiunga', 'mkono', 'ushirika', 'wa', 'Marekani', 'na', 'mataifa', 'mengine', 'yenye', 'nguvu', 'ya', 'Magharibi', '.', 'Tofauti', 'zao', 'zilizidi', 'kuwa', 'mbaya', ',', 'ambapo', 'Jaramogi', 'Odinga', 'alifungwa', 'kwa', 'miezi', '18', 'hadi', 'alipoachiliwa', 'huru', 'mnamo', 'mwaka', '1971', '.', 'Raila', 'Odinga', 'pia', 'ni', 'mfungwa', 'wa', 'zamani', 'wa', 'kisiasa', ',', 'na', 'anashikilia', 'rekodi', 'ya', 'kuwa', 'mfungwa', 'wa', 'kisiasa', 'aliyetumikia', 'kifungo', 'cha', 'muda', 'mrefu', 'zaidi', 'nchini', 'Kenya', '.', 'Mapambano', 'yake', 'dhidi', 'ya', 'udikteta', 'wa', 'chama', 'kimoja', 'yalimfanya', 'awekwe', 'kizuizini', 'mara', 'mbili', '(', 'kutoka', '1982', 'hadi', '1988', 'na', '1989', 'hadi', '1991', ')', 'wakati', 'wa', 'utawala', 'wa', 'mrithi', 'wa', 'Jomo', 'Kenyatta', 'na', 'Daniel', 'Arap', 'Moi', '.', 'Hapo', 'awali', 'alifungwa', 'kwa', 'kujaribu', 'kufanya', 'mapinduzi', 'mwaka', 'wa', '1982', '.', 'Mhamasishaji', 'na', 'mtaalamu', 'wa', 'mikakati', 'Baada', 'ya', 'demokrasia', 'ya', 'vyama', 'vingi', 'kuanzishwa', 'muongo', 'mmoja', 'baadaye', ',', 'alishindwa', 'mara', 'kwa', 'mara', 'katika', 'jaribio', 'lake', 'la', 'kuwa', 'rais', ',', 'mara', 'kwa', 'mara', 'akisema', 'ulifanyika', 'udanganyifu', 'na', 'kumpokonya', 'ushindi', '.', 'Hii', 'ilisababisha', 'mzozo', 'mkubwa', 'zaidi', 'katika', 'historia', 'ya', 'siasa', 'za', 'Kenya', ',', 'aliposhawishika', 'kuwa', 'kulikuwa', 'na', 'udanganyifu', 'mkubwa', 'wa', 'kura', 'katika', 'uchaguzi', 'wa', ',', 'waka', '2007', 'uliompa', 'ushindi', 'rais', 'wa', 'wakati', 'huo', 'Mwai', 'Kibaki', '.', 'Katika', 'ghasia', 'za', 'baada', 'ya', 'uchaguzi', 'zilizofuata', ',', 'watu', '1,200', 'walikufa', 'na', 'zaidi', 'ya', '500,000', 'waliyakimbia', 'makazi', 'yao', '.', 'Chanzo', 'cha', 'picha', ',', 'AFP', 'Maelezo', 'ya', 'picha', ',', 'Ghasia', 'za', 'baada', 'ya', 'uchaguzi', 'wa', 'mwaka', '2007', 'zilikuwa', 'ghasia', 'mbaya', 'zaidi', 'Kenya', 'tanguipate', 'uhuru', 'katika', 'miaka', 'ya', '1960s', 'Baada', 'ya', 'mazungumzo', 'ya', 'upatanishi', 'yaliyoongozwa', 'na', 'Katibu', 'mkuu', 'wa', 'zamani', 'wa', 'Umoja', 'wa', 'Mataifa', 'Kofi', 'Annan', ',', 'alichukua', 'wadhifa', 'wa', 'Waziri', 'Mkuu', 'katika', 'serikali', 'ya', 'mseto', ',', 'lakini', 'uhusiano', 'wake', 'na', 'Bwana', 'Kibaki', 'ulikumbwa', 'na', 'kile', 'alichokiita', '``', 'vita', 'vya', 'mamlaka', \"''\", '.', 'Katika', 'uchaguzi', 'wa', '2017', ',', 'alishindwa', 'na', 'Bwana', 'Kenyatta', 'kwenye', 'sanduku', 'la', 'kura', ',', 'lakini', 'akashinda', 'katika', 'Mahakama', 'ya', 'Juu', ',', 'ambayo', 'ilibatilisha', 'matokeo', 'kwa', 'sababu', 'ya', 'dosari', 'nyingi', 'alizozitaja', '.', 'Uchaguzi', 'ukarudiwa', '.', 'Bw', '.', 'Odinga', 'hata', 'hivyo', 'alisusia', 'kushiriki', 'uchaguzi', 'huo', 'wa', 'marudio', ',', 'akieleza', 'kutokuwepo', 'kwa', 'uwanja', 'sawa', 'wa', 'kisiasia', '.', 'Hilo', 'likafungua', 'njia', 'ya', 'kuchaguliwa', 'tena', 'kwa', 'Bw', 'Kenyatta', ',', 'wakati', 'Bw', 'Odinga', '-', 'anayejulikana', 'kuwa', 'mtaalamu', 'wa', 'mikakati', 'na', 'mhamasishaji', 'mkuu', '-', 'alijitangaza', 'kama', '``', 'rais', 'wa', 'watu', \"''\", 'katika', 'mkutano', 'mkubwa', 'katika', 'mji', 'mkuu', ',', 'Nairobi', '.', 'Wafuasi', 'wake', 'walitii', 'wito', 'wake', 'wa', 'kususia', 'idadi', 'kubwa', 'ya', 'biashara', 'zinazomilikiwa', 'na', 'familia', 'ya', 'Kenyatta', 'ili', 'kuonyesha', 'hasira', 'zao', 'kwa', 'kuchaguliwa', 'tena', 'kwa', 'rais', '.', 'Ilikuwa', 'ni', 'moja', 'tu', 'ya', 'maandamano', 'mengi', 'waliyokuwa', 'wamefanya', 'kwa', 'miongo', 'kadhaa', 'kuangazia', 'malalamiko', 'yao', 'ya', 'kisiasa', 'na', 'kiuchumi', '.', 'Chanzo', 'cha', 'picha', ',', 'Getty', 'Images', 'Maelezo', 'ya', 'picha', ',', 'Wafuasi', 'wa', 'Odinga', 'mara', 'kadhaa', 'wameripotiwa', 'kugoma', 'kushindwa', 'kwake', 'katika', 'chaguzi', 'zilizopita', 'Lakini', 'tangu', 'maridhiano', 'ya', 'mwaka', '2018', 'kati', 'ya', 'Bwana', 'Odinga', 'na', 'Bwana', 'Kenyatta', ',', 'Kenya', 'haijaona', 'maandamano', 'makubwa', ',', 'licha', 'ya', 'hasira', 'iliyoenea', 'kutokana', 'na', 'kupanda', 'kwa', 'gharama', 'ya', 'maisha', '.', 'Maelewano', 'hayo', 'yalipelekea', 'watu', 'hao', 'wawili', 'kuzindua', 'mpango', 'wa', '``', 'Building', 'Bridges', 'Initiative', \"''\", '(', 'BBI', ')', 'ili', 'kufanya', 'mabadiliko', 'makubwa', 'ya', 'katiba', ',', 'ikiwa', 'ni', 'pamoja', 'na', 'kufufua', 'tena', 'wadhifa', 'wa', 'waziri', 'mkuu', '.', 'Uvumi', 'ulienea', 'kwamba', 'badala', 'ya', 'kuunga', 'mkono', 'azma', 'yake', 'ya', 'urais', ',', 'Bwana', 'Odinga', 'atamteua', 'Bwana', 'Kenyatta', 'kuwa', 'waziri', 'mkuu', ',', 'katika', 'hatua', 'ya', 'mwisho', 'ya', 'kumaliza', 'uhasama', 'kati', 'ya', 'enzi', 'hizo', 'mbili', 'za', 'kisiasa', '.', 'Lakini', 'mpango', 'wao', 'ulishindikana', 'baada', 'ya', 'Mahakama', 'Kuu', 'kuamua', 'kwamba', 'rais', 'alikuwa', 'ametenda', 'kinyume', 'cha', 'sheria', 'alipokuwa', 'akiongoza', 'mageuzi', 'hayo', 'kupitia', 'BBI', '.', 'Hata', 'hivyo', ',', 'Bw', 'Kenyatta', 'anamuungua', 'mkono', 'Bwana', 'Odinga', ',', 'badala', 'ya', 'Naibu', 'wake', 'wa', 'Rais', ',', 'William', 'Ruto', '.', 'Bw', 'Odinga', 'amemuoa', 'Mama', 'Ida', 'na', 'kwa', 'pamoja', 'wamfanikiwa', 'kupata', 'watoto', 'wanne', '-', 'marehemu', 'Fidel', ',', 'Rosemary', ',', 'Junior', 'na', 'Winnie', '.', 'Fidel', 'alipewa', 'jina', 'la', 'kiongozi', 'wa', 'Cuba', 'Fidel', 'Castro', 'na', 'Bw', 'Odinga', 'aliwahi', 'kueleza', 'kwamba', 'alichagua', 'jina', 'hilo', 'kwa', 'sababu', 'mwanawe', 'alizaliwa', 'wakati', 'wa', 'Vita', 'Baridi', ',', 'na', '``', 'Bw', 'Castro', 'alionekana', 'kupinganana', 'Marekani', 'katika', 'vita', 'vya', 'Vietnam', \"''\", '.', 'Kuendeleza', 'utamaduni', 'wa', 'nasaba', ',', 'baba', 'huyo', 'alionekana', 'akimlea', 'mtoto', 'wake', 'huyo', 'mkubwa', 'kama', 'mrithi', 'wake', ',', 'lakini', 'Fidel', 'alikufa', 'akiwa', 'na', 'umri', 'wa', 'miaka', '41', 'mnamo', '2015', '.', 'Mnamo', 'mwaka', 'wa', '2017', 'binti', 'yake', 'Rosemary', 'alitangaza', 'nia', 'ya', 'kugombea', 'ubunge', 'anayewakilisha', 'kitongoji', 'duni', 'na', 'kikubwa', 'zaidi', 'barani', 'Afrika', ',', 'Kibera', ',', 'ambacho', 'babake', 'alikiwakilisha', 'kwa', 'miaka', '20', '.', 'Lakini', 'alijiondoa', 'kwenye', \"kinyang'anyiro\", 'hicho', ',', 'akitoa', 'sababu', 'za', 'kiafya', '.', 'Mbali', 'na', 'siasa', 'Bwana', 'Odinga', 'ni', 'tajiri', 'kwa', 'viwango', 'vya', 'Kenya', ',', 'akimiliki', 'mali', 'kadhaa', 'ikiwemo', 'kampuni', 'ya', 'kutengeneza', 'mitungi', 'ya', 'gesi', 'East', 'Africa', 'Specter', '.', 'Anatoka', 'katika', 'kabila', 'la', 'Wajaluo', '-', 'la', 'nne', 'kwa', 'ukubwa', 'nchini', 'Kenya', '.', 'Anatumai', 'kuwa', 'atakuwa', 'Mluo', 'wa', 'kwanza', 'kunyakua', 'kiti', 'cha', 'urais', 'ambacho', 'kimewaniwa', 'kwa', 'muda', 'mrefu', 'na', 'ukoo', 'wa', 'Odinga', '.']\n",
      "\n",
      " Number of Words:  2196\n"
     ]
    }
   ],
   "source": [
    "file=\"22Jun5.txt\"\n",
    "\n",
    "# calling the function and storing the contents in a text variable \n",
    "text = get_document(\"https://www.bbc.com/swahili/61696101\")\n",
    "\n",
    "# calling the store_ document function \n",
    "store_document(doc=text,name=file)\n",
    "\n",
    "#add the words in this file to the total_corpus_words, to keep count of the number of words in the corpus\n",
    "total_corpus_words+=total_words(file)"
   ]
  },
  {
   "cell_type": "code",
   "execution_count": 111,
   "metadata": {},
   "outputs": [
    {
     "data": {
      "text/plain": [
       "430994"
      ]
     },
     "execution_count": 111,
     "metadata": {},
     "output_type": "execute_result"
    }
   ],
   "source": [
    "total_corpus_words"
   ]
  },
  {
   "cell_type": "code",
   "execution_count": 114,
   "metadata": {},
   "outputs": [
    {
     "name": "stdout",
     "output_type": "stream",
     "text": [
      "['Uchaguzi', 'Kenya', '2022', ':', 'Changamoto', 'zinazokabili', 'Miungano', 'ya', 'kisiasa', 'Miungano', 'ya', 'kisiasa', 'ni', 'baina', 'ya', 'vyama', 'vya', 'kisiasa', 'vyenye', 'itikadi', 'ama', 'sera', 'pamoja', 'na', 'nia', 'ya', 'kufikia', 'lengo', 'fulani', '.', 'Miungano', 'hii', 'inaundwa', 'kabla', 'ama', 'baada', 'ya', 'uchaguzi', 'kwa', 'madhumuni', 'ya', 'kuleta', 'ushindi', 'na', 'kuunda', 'serikali', 'nchini', '.', 'Miungano', 'ya', 'aina', 'hii', 'kabla', 'ama', 'baada', 'ya', 'uchaguzi', 'inatokana', 'na', 'chama', 'kimoja', 'pekee', 'kutoweza', 'kupata', 'ushindi', 'wa', 'moja', 'kwa', 'moja', 'kulingana', 'na', 'matakwa', 'ya', 'katiba', 'ya', '2010', 'na', 'sheria', 'za', 'uchaguzi', 'nchini', 'Kenya', '.', 'Hivi', 'karibuni', 'nchini', 'Kenya', 'kumekuwa', 'na', 'harakati', 'za', 'vyama', 'kuunda', 'miungano', 'kabla', 'ya', 'uchaguzi', 'mkuu', 'wa', 'tarehe', '9', 'Agosti', '2022', '.', 'Utaratibu', 'wa', 'kuunda', 'miuungano', 'nchini', 'Kenya', 'unafuata', 'sheria', 'za', 'vyama', 'vya', 'kisiasa', 'ambazo', 'zilibuniwa', 'na', 'kuweka', 'taratibu', 'za', 'kusajili', 'vyama', 'vya', 'kisiasa', ',', 'pamoja', 'na', 'taratibu', 'za', 'kuunda', 'miungano', '.', 'Halikadhalika', ',', 'mchakato', 'mzima', 'wa', 'uchaguzi', 'mkuu', 'wa', 'uraisi', 'unaendelezwa', 'kulingana', 'na', 'taratibu', 'zilizowekwa', 'na', 'katiba', 'ya', 'Kenya', '2010', '.', 'Licha', 'ya', 'kuwepo', 'kwa', 'mpangilio', 'wa', 'sheria', 'wa', 'kuongoza', 'mchakato', 'wa', 'uchaguzi', 'kwa', 'misingi', 'ya', 'kidemokrasia', ',', 'Kenya', 'bado', 'inakumbwa', 'na', 'changamoto', 'za', 'siasa', 'za', 'miungano', '.', 'Changamoto', 'hizi', 'zimetokana', 'kwanza', 'na', 'mikataba', 'baina', 'ya', 'vyama', 'ambavyo', 'vimeamua', 'kuunda', 'muungano', '.', 'Pili', 'ni', 'hesabu', 'na', 'ushawishi', 'wa', 'kikabila', '.', 'Tatu', 'ni', 'udhaifu', 'wa', 'vyama', 'na', 'kukosekana', 'kwa', 'misingi', 'bora', 'ya', 'sera', '.', 'Nne', 'na', 'mwisho', ',', 'ni', 'mgawanyiko', 'ndani', 'ya', 'serikali', 'inayotawala', '.', 'Sheria', 'Kulingana', 'na', 'matakwa', 'ya', 'katiba', 'ya', 'Kenya', '2010', ',', 'kupata', 'ushindi', 'wa', 'moja', 'kwa', 'moja', 'wa', 'Uraisi', ',', 'inamlazimu', 'mshindi', 'aweze', 'kupata', 'asilimia', '25', '%', 'ya', 'kura', 'katika', 'nusu', 'ya', 'kaunti', '47', ',', 'pamoja', 'na', 'asilimia', '50', '+', '1', 'ya', 'kura', 'zote', 'zitakazopigwa', 'nchini', '.', 'Sheria', 'hii', 'imeleta', 'changamoto', 'kubwa', 'kwa', 'vyama', 'vya', 'kisiasa', 'na', 'viongozi', 'wao', '.', 'Changamoto', 'hizi', 'zinatokana', 'na', 'desturi', 'ya', 'vyama', 'vya', 'kisiasa', 'kuwa', 'na', 'ufuasi', 'wa', 'kikabila', 'na', 'sio', 'wa', 'sera', 'wala', 'itikadi', '.', 'Kwa', 'hiyo', ',', 'inalazimu', 'kila', 'chama', 'kuhusisha', 'viongozi', 'wa', 'kaunti', 'hizo', 'ambao', 'wana', 'ufuasi', 'mkubwa', 'wa', 'maeneo', 'yao', 'ama', 'ni', 'viongozi', 'wa', 'chama', 'cha', 'kisiasa', 'chenye', 'ushawishi', 'mkubwa', 'katika', 'hilo', 'eneo', 'ili', 'kuafikia', 'matakwa', 'ya', 'kikatiba', '.', 'Changamoto', 'ya', 'ziada', 'ni', 'kwamba', ',', 'viongozi', 'wanapokuwa', 'katika', 'mchakato', 'wa', 'kuafikia', 'matakwa', 'ya', 'kisheria', ',', 'wao', 'pia', 'huwa', 'wanajadiliana', 'kuhusu', 'muungano', 'wao', ',', 'na', 'matarajio', 'yao', 'endapo', 'huo', 'muungano', 'utaunda', 'serikali', '.', 'Chanzo', 'cha', 'picha', ',', 'AFP', 'Maelezo', 'ya', 'picha', ',', 'Raila', 'Odinga', 'Mfano', 'bora', 'ni', 'yale', 'maeneo', 'yenye', 'kura', 'nyingi', 'zaidi', '.', 'Wao', 'huwa', 'wanafanya', 'majadiliano', 'vipi', 'wataunga', 'mkono', 'muungano', 'na', 'matarajio', 'yao', '.', 'Matarajio', 'huwa', 'ni', 'namna', 'watakavyo', 'weza', 'kuchaguliwa', 'katika', 'baraza', 'la', 'mawaziri', ',', 'nafasi', 'za', 'mabalozi', 'na', 'mashirika', 'mbali', 'mbali', 'serikalini', '.', 'Hesabu', 'ya', 'kikabila', 'Ijapokuwa', 'vyama', 'vimesajiliwa', 'kisheria', 'kama', 'vyama', 'vya', 'kitaifa', ',', 'vyama', 'vingi', 'vina', 'ufuasi', 'mkubwa', 'kwa', 'misingi', 'ya', 'kikabila', '.', 'Hii', 'inachangiwa', 'zaidi', 'na', 'sehemu', 'anayotoka', 'kiongozi', 'wa', 'chama', 'hicho', '.', 'Kwa', 'hivyo', 'imedhihirika', 'wakati', 'wa', 'uchaguzi', 'kwamba', 'baadhi', 'ya', 'maeneo', 'yanachagua', 'chama', 'ambacho', 'kiongozi', 'ametoka', 'kwao', 'nyumbani', '.', 'Hesabu', 'za', 'kikabila', 'pia', 'imewalazimu', 'wanasiasa', 'katika', 'miungano', 'kutafuta', 'ufuasi', 'kutoka', 'maeneo', 'yao', 'kwa', 'njia', 'ya', 'kikabila', 'bila', 'kuzingatia', 'sera', '.', 'Mfano', 'mzuri', 'ni', 'ule', 'wa', 'miungano', 'mikubwa', 'miwili', 'ilioweza', 'kupata', 'naibu', 'wa', 'mgombea', 'uraisi', 'kutoka', 'sehemu', 'moja', 'tu', 'ya', 'Kenya', 'ambako', 'kunajulikana', 'kuna', 'idadi', 'kubwa', 'ya', 'kura', 'kuliko', 'sehemu', 'yoyote', 'nchini', '.', 'Ni', 'kwasababu', 'kama', 'hizi', ',', 'ambapo', 'vyama', 'vimelazimishwa', 'kuunda', 'miuungano', 'ili', 'kuweza', 'kufikia', 'yale', 'matakwa', 'ya', 'katiba', ',', 'sheria', 'za', 'uchaguzi', 'na', 'mwishowe', 'ushindi', 'mkubwa', '.', 'Chanzo', 'cha', 'picha', ',', 'Getty', 'Images', 'Mfumo', 'dhaifu', 'wa', 'vyama', 'Mifumo', 'dhaifu', 'ya', 'vyama', 'imechangia', 'pakubwa', 'katika', 'hizi', 'changamoto', 'za', 'siasa', 'za', 'miungano', '.', 'Kama', 'ilivyoelezwa', 'awali', ',', 'vyama', 'vingi', 'vimebuniwa', 'sio', 'kwa', 'itikadi', 'maalumu', 'ila', 'kwa', 'ushawishi', 'wa', 'maeneo', 'ya', 'anayotoka', 'kiongozi', '.', 'La', 'ziada', 'ni', 'kwamba', 'vyama', 'vingi', 'vimekosa', 'msingi', 'bora', 'wa', 'sera', 'ambazo', 'zingevutia', 'ufuasi', 'mkubwa', 'wa', 'muungano', 'wenye', 'mwelekeo', 'wa', 'sera', 'za', 'jamii', '.', 'Kwasababu', 'hizo', 'za', 'ushawishi', 'wa', 'maeneo', 'na', 'kukosa', 'kuwa', 'na', 'sera', 'maalumu', ',', 'vyama', 'vingi', 'vidogo', 'vimekosa', 'ufuasi', 'na', 'uwezo', 'wa', 'kuendeleza', 'sera', 'zao', 'nchi', 'nzima', '.', 'Pamoja', 'na', 'hayo', ',', 'imechangia', 'pakubwa', 'upungufu', 'wa', 'uongozi', 'wa', 'kisiasa', 'na', 'demokrasia', 'katika', 'vyama', 'vya', 'kisiasa', '.', 'Pia', ',', 'kukosa', 'ufuasi', 'mkubwa', 'na', 'kusajili', 'idadi', 'kubwa', 'ya', 'wanachama', 'nchi', 'nzima', ',', 'vyama', 'vimekuwa', 'vinategemea', 'kupewa', 'usaidizi', 'na', 'vyama', 'vikubwa', 'ndani', 'ya', 'miungano', 'ili', 'kuendeleza', 'mipango', 'yao', 'midogo', '.', 'Hili', 'limekuwa', 'mzigo', 'mzito', 'na', 'tatizo', 'kubwa', 'la', 'kudumisha', 'umoja', 'wa', 'muungano', '.', 'Mikataba', 'Kulingana', 'na', 'sheria', 'za', 'vyama', 'vya', 'kisiasa', ',', 'kila', 'chama', 'ambacho', 'kimeamua', 'kujiunga', 'na', 'muungano', ',', 'kinapaswa', 'kufuata', 'taratibu', 'za', 'kujiunga', 'na', 'muungano', 'kwa', 'kuandikiana', 'mikataba', 'ya', 'makubaliano', '.', 'Baada', 'ya', 'kuweka', 'sahihi', ',', 'mikataba', 'inapelekwa', 'kwa', 'msajili', 'wa', 'vyama', 'vya', 'kisiasa', '.', 'Hii', 'mikataba', 'baina', 'ya', 'vyama', 'vya', 'muungano', 'inaeleza', 'yale', 'makubaliano', 'yatakayotekelezwa', 'endapo', 'muungano', 'utashinda', 'uchaguzi', 'na', 'kuunda', 'serikali', '.', 'Makubaliano', 'hayo', 'ni', 'kama', 'ugawaji', 'wa', 'fedha', 'za', 'vyama', ',', 'nafasi', 'za', 'vyeo', 'serikalini', 'na', 'mengineo', 'mengi', '.', 'Changamoto', 'kubwa', 'imekuwa', 'katika', 'uwazi', 'wa', 'makubaliano', 'ya', 'hii', 'mikataba', 'kwa', 'vyama', 'vidogo', 'kulemewa', 'na', 'vyama', 'vyenye', 'ufuasi', 'mkubwa', 'nchini', '.', 'Hili', 'pia', 'limeleta', 'changamoto', 'ambayo', 'imeonekana', 'kuhama', 'kwa', 'vyama', 'kadhaa', 'kutoka', 'muungano', 'mmoja', 'na', 'kujiunga', 'na', 'muungano', 'mwengine', 'ulio', 'na', 'uwazi', 'zaidi', '.', 'Pamoja', 'na', 'hayo', ',', 'kutokuaminiana', 'baina', 'ya', 'viongozi', 'wa', 'vyama', 'kumechipuka', '.', 'Tetesi', 'zimejitokeza', 'kuhusu', 'taratibu', 'za', 'mchakato', 'wa', 'mchujo', 'wa', 'vyama', 'ili', 'apatikane', 'mgombea', 'mmoja', 'kutoka', 'kwenye', 'muungano', '.', 'Swali', 'kubwa', 'lilikuwa', 'ni', 'je', 'muungano', 'utawasilisha', 'kwa', 'tume', 'ya', 'uchaguzi', 'wagombea', 'kadhaa', 'kutoka', 'kila', 'chama', 'ama', 'mgombea', 'mmoja', 'wa', 'muungano', 'kwa', 'kila', 'nafasi', 'zote', 'za', 'uchaguzi', '?', '.', 'Swali', 'hili', 'limeweza', 'kutatuliwa', 'na', 'muungano', 'mwingine', 'kwa', 'mfumo', 'wa', 'kugawa', 'sehemu', 'za', 'nchi', 'kwa', 'vyama', 'kulingana', 'na', 'maeneo', 'yao', 'ya', 'kikabila', 'na', 'kutoa', 'masharti', 'ya', 'idadi', 'ya', 'kura', 'kila', 'chama', 'kinatakiwa', 'kuleta', 'kwa', 'muungano', 'ili', 'chama', 'kipate', 'fursa', 'ya', 'kuwepo', 'kwenye', 'kuunda', 'serikali', 'endapo', 'ushindi', 'utapatikana', '.', 'Chanzo', 'cha', 'picha', ',', 'Getty', 'Images', 'Maelezo', 'ya', 'picha', ',', 'Wafuasi', 'wa', 'mgombea', 'wa', 'urais', 'nchini', 'Kenya', 'Miungano', 'ya', 'vyama', 'vya', 'kisiasa', 'imejitokeza', 'kwa', 'nguvu', 'wakati', 'huu', 'nchi', 'ya', 'Kenya', 'inapojiandaa', 'kufanya', 'uchaguzi', 'mwezi', 'Agosti', '9', ',', '2022', '.', 'Vyama', 'vya', 'kisiasa', 'vimekuwa', 'katika', 'harakati', 'za', 'kuweka', 'mikataba', 'ya', 'muungano', 'huku', 'wengine', 'wakiamua', 'kuhama', 'muungano', 'na', 'kujiunga', 'na', 'mwengine', '.', 'Kumekuwa', 'na', 'ushawishi', 'mkubwa', 'wa', 'kikabila', 'ili', 'vyama', 'kupata', 'idadi', 'kubwa', 'ya', 'ufuasi', 'kutoka', 'maeneo', 'yenye', 'idadi', 'kubwa', 'ya', 'kura', 'na', 'sio', 'itikadi', 'au', 'sera', 'za', 'maendeleo', '.', 'Hizi', 'ndio', 'baadhi', 'ya', 'changamoto', 'za', 'kuchagua', 'uongozi', 'nchini', 'Kenya', '.', 'Waathiriwa', 'wa', 'baadaye', 'ni', 'Wakenya', 'ambao', 'wataishia', 'na', 'wafalme', 'wa', 'kisiasa', 'na', 'waakilishi', 'wao', 'waliochaguliwa', 'afisini', 'kwa', 'nguvu', 'na', 'ushawishi', 'wao', 'wa', 'kikabila', 'na', 'sio', 'kwa', 'sababu', 'ya', 'sera', 'zitakazo', 'Jenga', 'Taifa', 'la', 'Kenya', '.']\n",
      "\n",
      " Number of Words:  1084\n"
     ]
    }
   ],
   "source": [
    "file=\"22Jun8_1.txt\"\n",
    "\n",
    "# calling the function and storing the contents in a text variable \n",
    "text = get_document(\"https://www.bbc.com/swahili/habari-61705080\")\n",
    "\n",
    "# calling the store_ document function \n",
    "store_document(doc=text,name=file)\n",
    "\n",
    "#add the words in this file to the total_corpus_words, to keep count of the number of words in the corpus\n",
    "total_corpus_words+=total_words(file)"
   ]
  },
  {
   "cell_type": "code",
   "execution_count": 115,
   "metadata": {},
   "outputs": [
    {
     "data": {
      "text/plain": [
       "432078"
      ]
     },
     "execution_count": 115,
     "metadata": {},
     "output_type": "execute_result"
    }
   ],
   "source": [
    "total_corpus_words"
   ]
  },
  {
   "cell_type": "code",
   "execution_count": 116,
   "metadata": {},
   "outputs": [
    {
     "name": "stdout",
     "output_type": "stream",
     "text": [
      "['Huku', 'mjadala', 'huo', 'ukiendela', 'mtandaoni', 'Raila', 'ameahidi', 'kuwa', 'utawala', 'wake', 'utaipa', 'nguvu', 'sekta', 'ya', 'biashara', 'ili', 'kuhakikisha', 'wanaoitegemea', 'hawako', 'nje', 'ya', 'biashara', '.', '``', 'Mitumba', 'sio', 'biashara', 'ya', 'mwisho', 'na', 'imetengeneza', 'ajira', 'kwa', 'watu', 'wetu', 'wengi', 'sana', 'nawatetea', 'na', 'kuna', 'watu', 'Mwanasiasa', 'Charity', 'ngilu', 'ambaye', 'pia', 'ni', 'Gavana', 'wa', 'jimbo', 'la', 'Kitui', 'mashariki', 'mwa', 'Kenya', 'alisema', 'mjadala', 'unaoendelea', 'sasa', 'mitandaoni', 'kuhusu', 'mitumba', 'uliwahi', 'kuangaziwa', 'na', 'Naibu', 'wa', 'Rais', 'wa', 'Kenya', 'William', 'Ruto', 'lakini', 'haukuangaziwa', 'lakini', 'Raila', 'Odinga', 'alipotoa', 'kauli', 'kuhusu', 'nguo', 'hizo', 'kila', 'mmoja', 'anazungumzia', '.', 'Mchambuzi', 'wa', 'siasa', 'za', 'Kenya', 'MUtahi', 'ngunyi', 'alisema', 'Rwanda', 'ilisimamisha', 'Mitumba', 'mwaka', 'wa', '2018', '.', 'Sasa', 'Wakenya', 'wanaagiza', 'mitumba', 'kutoka', 'Rwanda', '.', 'Nguo', 'zilizovaliwa', 'Rwanda', 'hadi', 'zikachakaa', '.', 'Kwa', 'hivyo', 'nauliza', ':', 'Je', ',', 'Baba', 'alisema', 'nini', 'kuhusu', 'Kicomi', 'JEANS', 'kutoka', 'Kenya', 'na', 'mashati', 'ya', 'Rivatex', '?', 'Matamshi', 'ya', 'Raila', 'kuhusu', 'nguo', 'za', 'mitumba', 'yalizua', 'taharuki', 'kwenye', 'mitandao', 'ya', 'kijamii', 'siku', 'ya', 'Jumanne', '.', 'Akizindua', 'manifesto', 'yake', 'katika', 'uwanja', 'wa', 'Nyayo', 'Jumatatu', 'usiku', ',', 'kiongozi', 'huyo', 'wa', 'ODM', 'alisema', 'kuwa', 'nguo', 'za', 'mitumba', 'zinazovaliwa', 'na', 'Wakenya', 'ni', 'za', 'watu', 'ambao', 'waliokufa', '.', 'Chanzo', 'cha', 'picha', ',', 'Getty', 'Images', 'Maelezo', 'ya', 'picha', ',', 'Mgombea', 'urais', 'wa', 'Kenya', 'Raila', 'Odinga', '``', 'Watu', 'wetu', 'wamevalia', 'tu', 'nguo', 'zinazotoka', 'nje', 'ya', 'nchi', 'ambazo', 'zilivaliwa', 'na', 'watu', 'waliokufa', ',', \"''\", 'Raila', 'alisema', '.', 'Raila', 'alisema', 'atalenga', 'kukuza', 'tasnia', 'ya', 'vitambaa', 'nchini', 'kwa', 'kuwapa', 'waagizaji', 'mitumba', 'kipaumbele', 'cha', 'kwanza', 'katika', 'uuzaji', 'wa', 'nguo', 'zinazotengenezwa', 'nchini', '.', 'Nani', 'yuko', 'kwenye', \"kinyang'anyiro\", 'cha', 'kuiongoza', 'Kenya', '?', 'Fahamu', 'zaidi', 'kuwahusu', 'wagombea', 'urais', 'wa', 'Kenya', 'Chagua', 'mgombea', 'ili', 'kutazama', 'wasifu', 'wake', 'Raila', 'Odinga', 'William', 'Ruto', 'George', 'Wajackoyah', 'David', 'Mwaure', 'Raila', 'Amollo', 'Odinga', 'Muungano', 'wa', 'Azimio', 'la', 'Umoja', 'Maelezo', 'ya', 'Msingi', 'Mgombea', 'huyo', 'mwenye', 'umri', 'wa', 'miaka', '77', 'ni', 'mhandisi', 'aliyesomea', 'Chuo', 'Kikuu', 'cha', 'Ufundi', 'cha', 'Magdeburg', '(', 'sasa', 'kinajulikana', 'kama', 'Chuo', 'Kikuu', 'cha', 'Otto-von-Guericke', 'Magdeburg', ')', 'nchini', 'Ujerumani', '.', 'Anawania', 'kiti', 'cha', 'urais', 'kwa', 'tikiti', 'ya', 'Azimio', 'la', 'Umoja', 'One', 'Kenya', 'Coalition', 'Party', '.', 'Hili', 'litakuwa', 'jaribio', 'lake', 'la', 'tano', 'baada', 'ya', 'kugombea', 'katika', ':', '1997', ',', '2007', ',', '2013', 'na', '2017', '.', 'Mafanikio', 'Muhimu', 'Bw', 'Odinga', 'alikuwa', 'mmoja', 'wa', 'wapiganiaji', 'wa', 'demokrasia', 'ya', 'vyama', 'vingi', 'nchini', 'Kenya', '.', 'Alikamatwa', ',', 'akafungwa', 'na', 'wakati', 'fulani', 'akaenda', 'uhamishoni', 'kwa', 'sababu', 'ya', 'kupigania', 'haki', 'hiyo', 'Aliwahi', 'kuwa', 'Waziri', 'Mkuu', ',', 'kuanzia', '2008-2013', '.', 'Odinga', 'alihusika', 'kufanikisha', 'miradi', 'mikubwa', 'iliyotekelezwa', 'na', 'serikali', 'ya', 'Kibaki', ',', 'kama', 'vile', 'miradi', 'ya', 'umeme', 'vijijini', 'na', 'barabara', '.', 'Ahadi', 'Muhimu', 'Kuafikia', 'ukuaji', 'wa', 'uchumi', 'wa', 'tarakimu', 'mbili', 'kupitia', 'uwekezaji', 'katika', 'biashara', 'ndogo', 'ndogo', 'na', 'sekta', 'ya', 'viwanda', '.', 'Utoaji', 'wa', 'huduma', 'bora', 'za', 'afya', 'kwa', 'wote', '.', 'Utoaji', 'wa', 'vifaa', 'vya', 'michezo', 'na', 'burudani', 'kwa', 'ukuaji', 'wa', 'kimwili', ',', 'kiakili', ',', 'kijamii', ',', 'kimaadili', 'na', 'maendeleo', 'ya', 'watu', '.', 'Kashfa/Sakata', 'Kufuatia', 'jaribio', 'la', 'mapinduzi', 'ya', 'Agosti', '1', ',', '1982', ',', 'Raila', 'Odinga', 'alikamatwa', 'na', 'kukabiliwa', 'na', 'mashtaka', 'kadhaa', ',', 'yakiwemo', 'ya', 'uhaini', 'ambayo', 'alizuiliwa', 'bila', 'kufunguliwa', 'mashtaka', '.', 'Tume', 'ya', 'Ukweli', 'ya', 'Haki', 'na', 'Maridhiano', 'iliambiwa', 'mwaka', '2011', 'kwamba', 'Odinga', 'alikuwa', 'na', 'mawasiliano', 'na', 'mpangaji', 'mkuu', 'wa', 'mapinduzi', 'hayo', '.', 'Odinga', 'amekana', 'kuhusika', 'kila', 'mara', '.', '-', 'Makavazi', 'ya', 'Kitaifa', 'ya', 'Kenya', '.', 'William', 'Samoei', 'Ruto', 'Muungano', 'wa', 'Kenya', 'Kwanza', 'Maelezo', 'ya', 'Msingi', 'Mgombea', 'huyu', 'mwenye', 'umri', 'wa', 'miaka', '55', 'ana', 'Shahada', 'ya', 'Uzamifu/PhD', 'katika', 'Ikolojia', 'ya', 'Mimea', 'na', 'BSc', 'katika', 'Botany', 'na', 'Zoology', 'kutoka', 'Chuo', 'Kikuu', 'cha', 'Nairobi', '.', 'Anawania', 'kiti', 'cha', 'urais', 'kwa', 'tikiti', 'ya', 'chama', 'cha', 'United', 'Democratic', 'Alliance', '(', 'chenye', 'mafungamano', 'na', 'Kenya', 'Kwanza', ')', '.', 'Aliongoza', 'Vuguvugu', 'la', 'vijana', 'la', 'Youth', 'for', 'Kanu', \"'92\", '(', 'YK', \"'\", '(', '92', ')', '.', 'Mafanikio', 'Muhimu', 'Wizara', 'yake', 'iliorodheshwa', 'kama', 'inayofanya', 'bora', 'zaidi', 'serikalini', 'alipokuwa', 'Waziri', 'wa', 'Kilimo', '.', 'Alihudumu', 'kama', 'Naibu', 'Rais', 'wa', 'kwanza', 'wa', 'Kenya', 'chini', 'ya', 'katiba', 'mpya', 'ya', '2010', '.', 'Alihudumu', 'kama', 'mbunge', 'wa', 'eneo', 'bunge', 'la', 'Eldoret', 'Kaskazini', 'kuanzia', '1997-2007', '.', 'Ahadi', 'Muhimu', 'Kutenga', '$', '424', 'milioni', 'kila', 'mwaka', 'kwa', 'biashara', 'ndogo', 'ndogo', 'za', 'kati', '.', 'Kuanzisha', 'mfuko', 'wa', 'elimu', 'wa', 'kitaifa', 'ili', 'kukidhi', 'gharama', 'zisizo', 'za', 'masomo', '.', 'Tekeleza', 'kikamilifu', 'sheria', 'ya', 'usawa', 'wa', 'kijinsia', 'ya', 'thuluthi', 'mbili', 'katika', 'uteuzi', 'wa', 'kisiasa', 'na', 'kutenga', 'nusu', 'ya', 'baraza', 'lake', 'la', 'mawaziri', 'kwa', 'wanawake', '.', 'Kashfa/Sakata', 'Mnamo', '2008', ',', 'Mahakama', 'Kuu', 'ya', 'Kenya', 'iliamuru', 'Naibu', 'Rais', 'William', 'Ruto', 'kusalimisha', 'shamba', 'la', 'ekari', '100', 'na', 'kulipa', '$', '62,500', 'kwa', 'Adrian', 'Muteshi', ',', 'mkulima', 'ambaye', 'alimshtaki', 'kwa', 'kuchukua', 'mali', 'hiyo', 'baada', 'ya', 'uchaguzi', 'wa', '2007', '.', '-', 'Kenya', 'Law', 'Mnamo', '2011', ',', 'Bw', 'Ruto', 'alikabiliwa', 'na', 'kesi', 'kwa', 'makosa', 'matatu', 'dhidi', 'ya', 'binadamu', ':', 'Mauaji', ',', 'uhamisho', 'wa', 'watu', 'kwa', 'lazima', 'na', 'mateso', 'ya', 'watu', 'katika', 'Mahakama', 'ya', 'Kimataifa', 'ya', 'Uhalifu', '.', 'Miaka', 'mitano', 'baadaye', 'mahakama', 'ilisitisha', 'kesi', 'hiyo', 'kwa', 'msingi', 'kwamba', '-', 'ushahidi', 'wa', 'upande', 'wa', 'mashtaka', 'ulikuwa', 'dhaifu', '.', '-ICC', 'George', 'Wajackoyah', 'Chama', 'cha', 'Roots', 'Maelezo', 'ya', 'Msingi', 'Profesa', 'huyo', 'mwenye', 'umri', 'wa', 'miaka', '61', 'ana', 'shahada', 'ya', 'uzamili', 'katika', 'sheria', 'kuhusu', 'maendeleo', 'kutoka', 'Chuo', 'Kikuu', 'cha', 'Warwick', 'na', 'shahada', 'ya', 'uzamili', ',', 'sheria', '(', 'sheria', 'za', 'Marekani', 'kutoka', 'Chuo', 'Kikuu', 'cha', 'Baltimore', '.', 'Bw', 'Wajackoyah', 'anawania', 'kiti', 'cha', 'urais', 'kwa', 'tiketi', 'ya', 'Chama', 'cha', 'Roots', 'Party', '.', 'Mafanikio', 'Muhimu', 'Alihudumu', 'kama', 'Inspekta', 'katika', 'idara', 'ya', 'usalama', 'ya', 'Special', 'branch', 'wakati', 'wa', 'utawala', 'wa', 'marehemu', 'Rais', 'Daniel', 'Moi', 'kabla', 'ya', 'kulazimika', 'kutorokea', \"ng'ambo\", 'ili', 'kuepuka', 'kufunguliwa', 'mashtaka', 'na', 'mamlaka', '.', 'Yeye', 'ni', 'mshirika', 'katika', 'kampuni', 'ya', 'mawakili', 'aliyoianzisha', 'mwaka', 'wa', '2018', '.', 'Alifunnza', 'somo', 'la', 'sheria', 'na', 'uchumi', 'katika', 'vyuo', 'vikuu', 'vya', 'Marekani', ',', 'Uingereza', 'na', 'Kenya', '.', 'Ahadi', 'Muhimu', 'Kuhalalisha', 'matumizi', 'ya', 'kiviwanda', 'ya', 'bangi', 'Badilisha', 'siku', 'za', 'kazi', 'hadi', 'Jumatatu', 'hadi', 'Alhamisi', '.', 'Huduma', 'ya', 'afya', 'ya', 'bure', 'na', 'msaada', 'kwa', 'wazee', ',', 'walio', 'hatarini', 'na', 'wajawazito', 'David', 'Mwaure', 'Waihiga', 'Chama', 'cha', 'Agano', 'Maelezo', 'ya', 'Msingi', 'David', 'Mwaure', 'anawania', 'kiti', 'cha', 'urais', 'kwa', 'tiketi', 'ya', 'Chama', 'cha', 'Agano', '.', 'Ni', 'kiongozi', 'wa', 'Chama', 'cha', 'Agano', '.', 'Alihitimu', 'na', 'shahada', 'ya', 'sheria', 'kutoka', 'Chuo', 'Kikuu', 'cha', 'Nairobi', 'na', 'ana', 'Shahada', 'ya', 'Uzamili', 'katika', 'masomo', 'ya', 'uongozi', '.', 'Mafanikio', 'Muhimu', 'Yeye', 'ni', 'wakili', 'mkuu', 'na', 'amehudumu', 'kama', 'mwanasheria', 'kwa', 'zaidi', 'ya', 'miongo', 'mitatu', '.']\n",
      "\n",
      " Number of Words:  989\n"
     ]
    }
   ],
   "source": [
    "file=\"22Jun8_2.txt\"\n",
    "\n",
    "# calling the function and storing the contents in a text variable \n",
    "text = get_document(\"https://www.bbc.com/swahili/habari-61730561\")\n",
    "\n",
    "# calling the store_ document function \n",
    "store_document(doc=text,name=file)\n",
    "\n",
    "#add the words in this file to the total_corpus_words, to keep count of the number of words in the corpus\n",
    "total_corpus_words+=total_words(file)"
   ]
  },
  {
   "cell_type": "code",
   "execution_count": 117,
   "metadata": {},
   "outputs": [
    {
     "data": {
      "text/plain": [
       "433067"
      ]
     },
     "execution_count": 117,
     "metadata": {},
     "output_type": "execute_result"
    }
   ],
   "source": [
    "total_corpus_words"
   ]
  },
  {
   "cell_type": "code",
   "execution_count": 118,
   "metadata": {},
   "outputs": [
    {
     "name": "stdout",
     "output_type": "stream",
     "text": [
      "['Omanyala', ':', 'Mkenya', 'anayetaka', 'kuvunja', 'rekodi', 'ya', 'dunia', 'ya', 'Usain', 'Bolt', 'Mbali', 'na', 'kushikilia', 'rekodi', 'ya', 'Afrika', 'ya', 'mbio', 'za', 'mita', '100', ',', 'Mwanariadha', 'Ferdinand', 'Omanyala', 'pia', 'amekuwa', 'himizo', 'kwa', 'wimbi', 'jipya', 'la', 'wanariadha', 'wanaotaka', 'kushiriki', 'mbio', 'fupi-', 'jambo', 'ambalo', 'limepewa', 'jina', 'la', '‘', 'Omanyala-mania', '’', 'katika', 'nchi', 'yake', 'ya', 'Kenya', '.', 'Sasa', 'kwenye', 'mashindano', 'ya', 'riadha', 'ya', 'Afrika', 'yatakayofanyika', 'nchini', 'Mauritius', ',', 'Omanyala', 'analenga', 'ushindi', 'wa', 'dhahabu', 'tatu', 'kwenye', 'mbio', 'za', 'mita', '100', ',', '200', 'na', 'zile', 'za', 'kupokezana', 'vijiti', 'za', 'mita', '100', 'kwa', 'wanariadhatu', 'wanne', '.', 'Lakini', 'ndoto', 'yake', 'haikomei', 'hapo-', ':', 'Anataka', 'kubadilisha', 'dhana', 'kuwa', 'mbio', 'fupi', 'sio', 'sifa', 'ya', 'wakenya', 'na', 'anasema', 'yeye', 'ndiye', 'atakayevunja', 'rekodi', 'ya', 'dunia', 'ya', 'mita', '100', 'inayoshikiliwa', 'na', 'Mjamaica', 'Usain', 'Bolt', '.', 'Haya', 'ni', 'mahojiano', 'yake', 'na', 'BBC', '.']\n",
      "\n",
      " Number of Words:  128\n"
     ]
    }
   ],
   "source": [
    "file=\"22Jun8_3.txt\"\n",
    "\n",
    "# calling the function and storing the contents in a text variable \n",
    "text = get_document(\"https://www.bbc.com/swahili/habari-61728307\")\n",
    "\n",
    "# calling the store_ document function \n",
    "store_document(doc=text,name=file)\n",
    "\n",
    "#add the words in this file to the total_corpus_words, to keep count of the number of words in the corpus\n",
    "total_corpus_words+=total_words(file)"
   ]
  },
  {
   "cell_type": "code",
   "execution_count": 119,
   "metadata": {},
   "outputs": [
    {
     "data": {
      "text/plain": [
       "433195"
      ]
     },
     "execution_count": 119,
     "metadata": {},
     "output_type": "execute_result"
    }
   ],
   "source": [
    "total_corpus_words"
   ]
  },
  {
   "cell_type": "code",
   "execution_count": 120,
   "metadata": {},
   "outputs": [
    {
     "name": "stdout",
     "output_type": "stream",
     "text": [
      "['Uchaguzi', 'kenya', '2022', ':', 'Wafahamu', 'wagombea', '4', 'wa', 'Urais', 'nchini', 'Kenya', \"Kinyang'anyiro\", 'cha', 'kuwania', 'urais', 'katika', 'uchaguzi', 'mkuu', 'wa', 'Kenya', 'unaotarajiwa', 'Agosti', '9', ',', 'mwaka', 'huu', ',', 'kilivutia', 'takriban', 'wawaniaji', 'hamsini', '.', 'Lakini', 'ilipowadia', 'muda', 'wa', 'wagombea', 'hao', 'kuwasilisha', 'maombi', 'yao', 'kwa', 'Tume', 'huru', 'ya', 'uchaguzi', 'IEBC', 'ili', 'kuona', 'iwapo', 'wametimiza', 'yote', 'yalioanishwa', 'kuchambua', 'nani', 'ni', 'Mtia', 'nia', 'na', 'nani', 'anastahili', 'kuwa', 'mgombea', 'urais', ',', 'orodha', 'hiyo', 'ndefu', 'ilisalia', 'na', 'majina', 'manne', 'tu', '!', 'Nao', 'ni', 'mgombea', 'wa', 'muungano', 'wa', 'Azimio', 'la', 'Umoja', 'One', 'Kenya', 'Raila', 'Odinga', ',', 'anayewania', 'urais', 'kwa', 'mara', 'ya', 'tano', 'tangu', 'kuanzishwa', 'kwa', 'mfumo', 'wa', 'siasa', 'za', 'vyama', 'vingi', 'nchini', 'Kenya.', ',', 'naibu', 'rais', 'William', 'Ruto', 'anayewania', 'kupitia', 'tiketi', 'ya', 'chama', 'cha', 'UDA', '.', 'Wengine', 'ni', 'George', 'Wajackoyah', ',', 'aliyezua', 'mjadala', 'katika', 'mitandao', 'ya', 'kijamii', 'kutokana', 'na', 'azma', 'yake', 'ya', 'kutaka', 'bangi', 'ihalalishwe', 'na', 'mwisho', 'David', 'Mwaure', 'wa', 'chama', 'cha', 'Agano', '.', 'Wafahamu', 'viongozi', 'hao', 'kwa', 'ufupi', '.', 'Je', 'Raila', 'Odinga', 'ni', 'nani', '?', 'Chanzo', 'cha', 'picha', ',', 'Getty', 'Images', 'Maelezo', 'ya', 'picha', ',', 'Raila', 'Odinga', 'Bwana', 'Odinga', 'anaonekana', 'kuwa', 'mrithi', 'wa', 'kisiasa', 'wa', 'baba', 'yake', ',', 'Jaramogi', 'Odinga', '.', 'Alikuwa', 'makamu', 'wa', 'kwanza', 'wa', 'rais', 'wa', 'Kenya', 'baada', 'ya', 'uhuru', ',', 'lakini', 'aliondoka', 'serikalini', 'mwaka', 'wa', '1966', 'baada', 'ya', 'kutofautiana', 'na', 'kiongozi', 'wa', 'wakati', 'huo', ',', 'Jomo', 'Kenyatta', ',', 'baba', 'yake', 'na', 'rais', 'wa', 'sasa', ',', 'Uhuru', 'Kenyatta', '.', 'Jaramogi', 'Odinga', 'aliunga', 'mkono', 'ushirika', 'na', 'uhusiano', 'wa', 'karibu', 'na', 'nchi', 'za', 'Umoja', 'wa', 'Kisovieti', 'na', 'China', ',', 'huku', 'Jomo', 'Kenyatta', 'akiunga', 'mkono', 'ushirika', 'wa', 'Marekani', 'na', 'mataifa', 'mengine', 'yenye', 'nguvu', 'ya', 'Magharibi', '.', 'Tofauti', 'zao', 'zilizidi', 'kuwa', 'mbaya', ',', 'ambapo', 'Jaramogi', 'Odinga', 'alifungwa', 'kwa', 'miezi', '18', 'hadi', 'alipoachiliwa', 'huru', 'mnamo', 'mwaka', '1971', '.', 'Raila', 'Odinga', 'pia', 'ni', 'mfungwa', 'wa', 'zamani', 'wa', 'kisiasa', ',', 'na', 'anashikilia', 'rekodi', 'ya', 'kuwa', 'mfungwa', 'wa', 'kisiasa', 'aliyetumikia', 'kifungo', 'cha', 'muda', 'mrefu', 'zaidi', 'nchini', 'Kenya', '.', 'Huwezi', 'kusikiliza', 'tena', 'Maelezo', 'ya', 'video', ',', 'Uchaguzi', 'Kenya', '2022', ':', 'Wafahamu', 'wagombea', 'hawa', 'wanne', 'wa', 'uchaguzi', 'Mapambano', 'yake', 'dhidi', 'ya', 'udikteta', 'wa', 'chama', 'kimoja', 'yalimfanya', 'awekwe', 'kizuizini', 'mara', 'mbili', '(', 'kutoka', '1982', 'hadi', '1988', 'na', '1989', 'hadi', '1991', ')', 'wakati', 'wa', 'utawala', 'wa', 'mrithi', 'wa', 'Jomo', 'Kenyatta', 'na', 'Daniel', 'Arap', 'Moi', '.', 'Hapo', 'awali', 'alifungwa', 'kwa', 'kujaribu', 'kufanya', 'mapinduzi', 'mwaka', 'wa', '1982', '.', 'Mpinzani', 'wake', 'wa', 'karibu', 'ni', 'William', 'Ruto', ',', 'wa', 'Chama', 'cha', 'United', 'Democratic', 'Alliance', 'UDA', 'Naibu', 'wa', 'sasa', 'wa', 'Rais', 'anayejinadi', 'kwa', 'misingi', 'ya', 'kutetea', 'maslahi', 'ya', 'wananchi', 'wa', 'tabaka', 'la', 'chini', 'waliobandikwa', 'jina', \"'Hustler\", \"'\", '.', 'Nani', 'yuko', 'kwenye', \"kinyang'anyiro\", 'cha', 'kuiongoza', 'Kenya', '?', 'Fahamu', 'zaidi', 'kuwahusu', 'wagombea', 'urais', 'wa', 'Kenya', 'Chagua', 'mgombea', 'ili', 'kutazama', 'wasifu', 'wake', 'Raila', 'Odinga', 'William', 'Ruto', 'George', 'Wajackoyah', 'David', 'Mwaure', 'Raila', 'Amollo', 'Odinga', 'Muungano', 'wa', 'Azimio', 'la', 'Umoja', 'Maelezo', 'ya', 'Msingi', 'Mgombea', 'huyo', 'mwenye', 'umri', 'wa', 'miaka', '77', 'ni', 'mhandisi', 'aliyesomea', 'Chuo', 'Kikuu', 'cha', 'Ufundi', 'cha', 'Magdeburg', '(', 'sasa', 'kinajulikana', 'kama', 'Chuo', 'Kikuu', 'cha', 'Otto-von-Guericke', 'Magdeburg', ')', 'nchini', 'Ujerumani', '.', 'Anawania', 'kiti', 'cha', 'urais', 'kwa', 'tikiti', 'ya', 'Azimio', 'la', 'Umoja', 'One', 'Kenya', 'Coalition', 'Party', '.', 'Hili', 'litakuwa', 'jaribio', 'lake', 'la', 'tano', 'baada', 'ya', 'kugombea', 'katika', ':', '1997', ',', '2007', ',', '2013', 'na', '2017', '.', 'Mafanikio', 'Muhimu', 'Bw', 'Odinga', 'alikuwa', 'mmoja', 'wa', 'wapiganiaji', 'wa', 'demokrasia', 'ya', 'vyama', 'vingi', 'nchini', 'Kenya', '.', 'Alikamatwa', ',', 'akafungwa', 'na', 'wakati', 'fulani', 'akaenda', 'uhamishoni', 'kwa', 'sababu', 'ya', 'kupigania', 'haki', 'hiyo', 'Aliwahi', 'kuwa', 'Waziri', 'Mkuu', ',', 'kuanzia', '2008-2013', '.', 'Odinga', 'alihusika', 'kufanikisha', 'miradi', 'mikubwa', 'iliyotekelezwa', 'na', 'serikali', 'ya', 'Kibaki', ',', 'kama', 'vile', 'miradi', 'ya', 'umeme', 'vijijini', 'na', 'barabara', '.', 'Ahadi', 'Muhimu', 'Kuafikia', 'ukuaji', 'wa', 'uchumi', 'wa', 'tarakimu', 'mbili', 'kupitia', 'uwekezaji', 'katika', 'biashara', 'ndogo', 'ndogo', 'na', 'sekta', 'ya', 'viwanda', '.', 'Utoaji', 'wa', 'huduma', 'bora', 'za', 'afya', 'kwa', 'wote', '.', 'Utoaji', 'wa', 'vifaa', 'vya', 'michezo', 'na', 'burudani', 'kwa', 'ukuaji', 'wa', 'kimwili', ',', 'kiakili', ',', 'kijamii', ',', 'kimaadili', 'na', 'maendeleo', 'ya', 'watu', '.', 'Kashfa/Sakata', 'Kufuatia', 'jaribio', 'la', 'mapinduzi', 'ya', 'Agosti', '1', ',', '1982', ',', 'Raila', 'Odinga', 'alikamatwa', 'na', 'kukabiliwa', 'na', 'mashtaka', 'kadhaa', ',', 'yakiwemo', 'ya', 'uhaini', 'ambayo', 'alizuiliwa', 'bila', 'kufunguliwa', 'mashtaka', '.', 'Tume', 'ya', 'Ukweli', 'ya', 'Haki', 'na', 'Maridhiano', 'iliambiwa', 'mwaka', '2011', 'kwamba', 'Odinga', 'alikuwa', 'na', 'mawasiliano', 'na', 'mpangaji', 'mkuu', 'wa', 'mapinduzi', 'hayo', '.', 'Odinga', 'amekana', 'kuhusika', 'kila', 'mara', '.', '-', 'Makavazi', 'ya', 'Kitaifa', 'ya', 'Kenya', '.', 'William', 'Samoei', 'Ruto', 'Muungano', 'wa', 'Kenya', 'Kwanza', 'Maelezo', 'ya', 'Msingi', 'Mgombea', 'huyu', 'mwenye', 'umri', 'wa', 'miaka', '55', 'ana', 'Shahada', 'ya', 'Uzamifu/PhD', 'katika', 'Ikolojia', 'ya', 'Mimea', 'na', 'BSc', 'katika', 'Botany', 'na', 'Zoology', 'kutoka', 'Chuo', 'Kikuu', 'cha', 'Nairobi', '.', 'Anawania', 'kiti', 'cha', 'urais', 'kwa', 'tikiti', 'ya', 'chama', 'cha', 'United', 'Democratic', 'Alliance', '(', 'chenye', 'mafungamano', 'na', 'Kenya', 'Kwanza', ')', '.', 'Aliongoza', 'Vuguvugu', 'la', 'vijana', 'la', 'Youth', 'for', 'Kanu', \"'92\", '(', 'YK', \"'\", '(', '92', ')', '.', 'Mafanikio', 'Muhimu', 'Wizara', 'yake', 'iliorodheshwa', 'kama', 'inayofanya', 'bora', 'zaidi', 'serikalini', 'alipokuwa', 'Waziri', 'wa', 'Kilimo', '.', 'Alihudumu', 'kama', 'Naibu', 'Rais', 'wa', 'kwanza', 'wa', 'Kenya', 'chini', 'ya', 'katiba', 'mpya', 'ya', '2010', '.', 'Alihudumu', 'kama', 'mbunge', 'wa', 'eneo', 'bunge', 'la', 'Eldoret', 'Kaskazini', 'kuanzia', '1997-2007', '.', 'Ahadi', 'Muhimu', 'Kutenga', '$', '424', 'milioni', 'kila', 'mwaka', 'kwa', 'biashara', 'ndogo', 'ndogo', 'za', 'kati', '.', 'Kuanzisha', 'mfuko', 'wa', 'elimu', 'wa', 'kitaifa', 'ili', 'kukidhi', 'gharama', 'zisizo', 'za', 'masomo', '.', 'Tekeleza', 'kikamilifu', 'sheria', 'ya', 'usawa', 'wa', 'kijinsia', 'ya', 'thuluthi', 'mbili', 'katika', 'uteuzi', 'wa', 'kisiasa', 'na', 'kutenga', 'nusu', 'ya', 'baraza', 'lake', 'la', 'mawaziri', 'kwa', 'wanawake', '.', 'Kashfa/Sakata', 'Mnamo', '2008', ',', 'Mahakama', 'Kuu', 'ya', 'Kenya', 'iliamuru', 'Naibu', 'Rais', 'William', 'Ruto', 'kusalimisha', 'shamba', 'la', 'ekari', '100', 'na', 'kulipa', '$', '62,500', 'kwa', 'Adrian', 'Muteshi', ',', 'mkulima', 'ambaye', 'alimshtaki', 'kwa', 'kuchukua', 'mali', 'hiyo', 'baada', 'ya', 'uchaguzi', 'wa', '2007', '.', '-', 'Kenya', 'Law', 'Mnamo', '2011', ',', 'Bw', 'Ruto', 'alikabiliwa', 'na', 'kesi', 'kwa', 'makosa', 'matatu', 'dhidi', 'ya', 'binadamu', ':', 'Mauaji', ',', 'uhamisho', 'wa', 'watu', 'kwa', 'lazima', 'na', 'mateso', 'ya', 'watu', 'katika', 'Mahakama', 'ya', 'Kimataifa', 'ya', 'Uhalifu', '.', 'Miaka', 'mitano', 'baadaye', 'mahakama', 'ilisitisha', 'kesi', 'hiyo', 'kwa', 'msingi', 'kwamba', '-', 'ushahidi', 'wa', 'upande', 'wa', 'mashtaka', 'ulikuwa', 'dhaifu', '.', '-ICC', 'George', 'Wajackoyah', 'Chama', 'cha', 'Roots', 'Maelezo', 'ya', 'Msingi', 'Profesa', 'huyo', 'mwenye', 'umri', 'wa', 'miaka', '61', 'ana', 'shahada', 'ya', 'uzamili', 'katika', 'sheria', 'kuhusu', 'maendeleo', 'kutoka', 'Chuo', 'Kikuu', 'cha', 'Warwick', 'na', 'shahada', 'ya', 'uzamili', ',', 'sheria', '(', 'sheria', 'za', 'Marekani', 'kutoka', 'Chuo', 'Kikuu', 'cha', 'Baltimore', '.', 'Bw', 'Wajackoyah', 'anawania', 'kiti', 'cha', 'urais', 'kwa', 'tiketi', 'ya', 'Chama', 'cha', 'Roots', 'Party', '.', 'Mafanikio', 'Muhimu', 'Alihudumu', 'kama', 'Inspekta', 'katika', 'idara', 'ya', 'usalama', 'ya', 'Special', 'branch', 'wakati', 'wa', 'utawala', 'wa', 'marehemu', 'Rais', 'Daniel', 'Moi', 'kabla', 'ya', 'kulazimika', 'kutorokea', \"ng'ambo\", 'ili', 'kuepuka', 'kufunguliwa', 'mashtaka', 'na', 'mamlaka', '.', 'Yeye', 'ni', 'mshirika', 'katika', 'kampuni', 'ya', 'mawakili', 'aliyoianzisha', 'mwaka', 'wa', '2018', '.', 'Alifunnza', 'somo', 'la', 'sheria', 'na', 'uchumi', 'katika', 'vyuo', 'vikuu', 'vya', 'Marekani', ',', 'Uingereza', 'na', 'Kenya', '.', 'Ahadi', 'Muhimu', 'Kuhalalisha', 'matumizi', 'ya', 'kiviwanda', 'ya', 'bangi', 'Badilisha', 'siku', 'za', 'kazi', 'hadi', 'Jumatatu', 'hadi', 'Alhamisi', '.', 'Huduma', 'ya', 'afya', 'ya', 'bure', 'na', 'msaada', 'kwa', 'wazee', ',', 'walio', 'hatarini', 'na', 'wajawazito', 'David', 'Mwaure', 'Waihiga', 'Chama', 'cha', 'Agano', 'Maelezo', 'ya', 'Msingi', 'David', 'Mwaure', 'anawania', 'kiti', 'cha', 'urais', 'kwa', 'tiketi', 'ya', 'Chama', 'cha', 'Agano', '.', 'Ni', 'kiongozi', 'wa', 'Chama', 'cha', 'Agano', '.', 'Alihitimu', 'na', 'shahada', 'ya', 'sheria', 'kutoka', 'Chuo', 'Kikuu', 'cha', 'Nairobi', 'na', 'ana', 'Shahada', 'ya', 'Uzamili', 'katika', 'masomo', 'ya', 'uongozi', '.', 'Mafanikio', 'Muhimu', 'Yeye', 'ni', 'wakili', 'mkuu', 'na', 'amehudumu', 'kama', 'mwanasheria', 'kwa', 'zaidi', 'ya', 'miongo', 'mitatu', '.', 'Mfahamu', 'William', 'Ruto', 'Maisha', 'ya', 'utotoni', 'ya', 'William', 'Ruto', 'ni', 'mfano', 'halisi', 'wa', 'maisha', 'ya', 'watoto', 'wengi', 'masikini', 'Wakenya', '.', 'Alikwenda', 'shule', 'miguu', 'peku', ',', 'ambapo', 'alivaa', 'kwa', 'mara', 'ya', 'kwanza', 'viatu', 'akiwa', 'na', 'umri', 'wa', 'miaka', '15', '.', 'Aliuza', 'kuku', 'na', 'karanga', 'kando', 'ya', 'barabara', 'katika', 'maeneo', 'ya', 'kijijini', 'kwao', 'katika', 'mkoa', 'wa', 'Bonde', 'la', 'ufa', '(', 'Rift', 'Valley', ')', '.', 'kwa', 'hiyo', 'sio', 'jambo', 'la', 'kushangaza', 'kwamba', 'anajielezea', 'kama', 'kiongozi', 'wa', 'masikini', 'wakati', 'anapogombea', 'kiti', 'cha', 'urais', 'katika', 'uchaguzi', 'unaotarajiwa', 'kufanyika', 'tarehe', '9', 'Agosti', '.', 'Wagombea', 'hao', 'wawili', 'wakuu', 'wamekuwa', 'wakitawala', 'siasa', 'za', 'Kenya', 'katika', 'nyadhifa', 'mbali', 'mbali', 'kwa', 'miongo', 'kadhaa', 'sasa', ',', 'wakizoeleka', 'machoni', 'na', 'masikioni', 'mwa', 'Wakenya', '.', 'Profesa', 'Wajackoyah', 'ni', 'Nani', '?', 'Chanzo', 'cha', 'picha', ',', 'GL', 'Wajackoyah', 'Lakini', 'ni', 'kujitosa', 'kwa', 'Profesa', 'George', 'Luchiri', 'Wajackoyah', 'katika', 'kinyanganyiro', 'cha', 'uchaguzi', 'wa', 'rais', '2022', 'ambako', 'kumezua', 'gumzo', 'kweli', 'kweli', 'miongoni', 'mwa', 'Wakenya', 'ambapo', 'limeibua', 'shauku', 'hasa', 'miongoni', 'mwa', 'watumiaji', 'wa', 'mitandao', 'ya', 'kijamii', 'na', 'vijana', '.', 'Hamu', 'ya', 'kutaka', 'kumfahamu', 'zaidi', 'imeongezeka', 'baada', 'ya', 'Tume', 'ya', 'uchaguzi', 'kumuidhinisha', 'kuwa', 'mgombea', 'rasmi', 'wa', 'urais', 'katika', 'uchaguzi', 'unaokuja', 'ndani', 'ya', 'miezi', 'miwili', '.', 'Mgombea', 'huyu', 'alizaliwa', 'magharibi', 'mwa', 'Kenya', 'eneo', 'la', 'Matungu', '.', 'Ana', 'umri', 'wa', 'miaka', '61', '.', 'Alilelewa', 'katika', 'mazingira', 'magumu', 'baada', 'ya', 'wazazi', 'wake', 'kuachana', 'akiwa', 'na', 'umri', 'mdogo', 'sana', '.', 'Kama', 'wasemavyo', 'Waswahili', 'ukikosa', 'ziwa', 'la', 'mama', 'hata', 'la', 'mbwa', 'huamwa', ',', 'alipata', 'wahisani', 'waliomshika', 'mkono', 'na', 'angalau', 'kumsaidia', 'kupata', 'elimu', ',', 'akitolewa', 'mfano', 'aliyekuwa', 'waziri', 'wa', 'elimu', 'marehemu', 'Joseph', 'Kamotho', 'aliyeelezewa', 'masaibu', 'ya', 'Wajackoyah', 'na', 'kumsaidia', 'kulipa', 'karo', 'yake', 'ya', 'shule', 'ya', 'upili', '.', 'Baadaye', 'alisomea', 'sheria', 'katika', 'vyuo', 'vikuu', 'mbali', 'mbali', 'duniani', ',', 'akisemekana', 'kuwa', 'na', 'zaidi', 'ya', 'shahada', 'kumi', 'za', 'uanasheria', '.', 'Profesa', 'Wajackoyah', 'ni', 'Mwanasheria', 'mwandamizi', 'aliyefunza', 'katika', 'vyuo', 'vikuu', 'mbali', 'mbali', 'ndani', 'na', 'nje', 'ya', 'nchi', ',', 'akijulikana', 'pia', 'katika', 'tajriba', 'yake', 'kubwa', 'katika', 'sheria', 'za', 'wakimbizi', 'na', 'uhamiaji', ',', 'akiwakilisha', 'na', 'kuwatetea', 'baadhi', 'ya', 'wanasiasa', 'wa', 'upinzani', 'katika', 'kanda', 'ya', 'Afrika', 'Mashariki', 'waliolazimika', 'kukimbia', 'uhamishoni', '.', 'Profesa', 'Wajackoyah', 'ni', 'muasisi', 'wa', 'Chama', 'cha', 'Roots', 'kinachokusudia', 'kuhalalalisha', 'bangi', 'na', 'inadi', 'pakubwa', 'uzalishaji', 'na', 'matumizi', 'ya', 'mmea', 'Ameahidi', 'iwapo', 'atachaguliwa', 'kuwa', 'Rais', 'wa', 'Kenya', ',', 'atajenga', 'fursa', 'za', 'kazi', 'hasa', 'kwa', 'vijana', 'kwa', 'kuruhusu', 'uuzaji', 'wa', 'bangi', 'ndani', 'na', 'nje', 'ya', 'nchi', ',', 'akisisitiza', 'kuwa', 'zao', 'hilo', 'pia', 'litasaidia', 'kupunguza', 'mzigo', 'wa', 'madeni', 'ya', 'Kenya', 'kwani', 'utazalisha', 'mapato', 'makubwa', '.', 'Bangi', 'imeharamishwa', 'nchini', 'Kenya', 'kuambatana', 'na', 'sheria', 'za', 'sasa', '.', 'Aidha', 'ameahidi', 'akiwa', 'Rais', ',', 'Kenya', 'itakuwa', 'na', 'Mawaziri', 'wakuu', 'wanane', 'kuendesha', 'Serikali', 'yake', ',', 'atasimamisha', 'Katiba', 'kwa', 'miezi', 'sita', 'na', 'siku', 'rasmi', 'za', 'kufanya', 'kazi', 'zitakuwa', 'Jumatatu', 'hadi', 'Alhamisi', 'badala', 'ya', 'Jumatatu', 'hadi', 'Ijumma', '.', 'David', 'Mwaure', 'Waihiga', 'Chanzo', 'cha', 'picha', ',', 'Twitter/Waihega', 'Mwaure', 'Mgombea', 'mwingine', 'katika', 'uchaguzi', 'wa', 'Agosti', '2022', 'ni', 'David', 'Mwaure', 'Waihiga', ',', 'kiongozi', 'wa', 'Chama', 'cha', 'Agano', 'kilichoanzishwa', 'miaka', 'kumi', 'na', 'sita', 'iliyopita', '.', 'Ni', 'mwanasheria', 'mwandamizi', 'mwenye', 'tajriba', 'ya', 'kuwa', 'wakili', 'kwa', 'miaka', 'thelathini', 'na', 'tano', 'na', 'pia', 'ni', 'Mhubiri', '.', 'Hajaonekana', 'sana', 'hadharani', 'akinadi', 'sera', 'zake', 'lakini', 'katika', 'ruwaza', 'yake', 'amejikita', 'zaidi', 'katika', 'ahadi', 'kuwa', 'akichaguliwa', 'kuwa', 'Mrithi', 'wa', 'Rais', 'Uhuru', 'Kenyatta', 'anayeondoka', 'madarakani', 'baada', 'ya', 'kukamilisha', 'mihula', 'miwili', 'madarakani', ',', 'atakabiliana', 'vilivyo', 'na', 'ufisadi', '.', 'Kiongozi', 'huyo', 'anasema', 'ufisadi', 'ndiyo', 'jinamizi', 'kubwa', 'linaloizonga', 'Kenya', 'na', 'limetokana', 'na', 'kuwachagua', 'viongozi', 'wafisadi', ',', 'wasio', 'waadilifu', 'wanaotuhumiwa', 'katika', 'kashfa', 'mbali', 'mbali', 'za', 'uporaji', 'na', 'ubadhirifu', 'wa', 'mali', 'za', 'umma', '.', 'Katika', 'manifesto', 'yake', 'ameapa', 'kuleta', 'uongozi', 'mpya', 'Kenya', 'utakaojikita', 'katika', 'misingi', 'ya', 'Usawa', ',', 'uwazi', ',', 'uadilifu', ',', 'Umoja', 'na', 'haki', '.', 'Bwana', 'Waihiga', 'anasema', 'angependa', 'kukumbukwa', 'kama', 'kiongozi', 'aliyetokomeza', 'ukabila', ',', 'urasimu', ',', 'usimamizi', 'mbaya', 'na', 'kurejesha', 'mali', 'iliyofichwa', 'na', 'mafisadi', 'nje', 'ya', 'nchi', '.', 'Bwana', 'Waihiga', 'awali', 'mwaka', '2011', 'alijaribu', 'kuwania', 'kiti', 'cha', 'eneo', 'bunge', 'la', 'Kamukunji', 'bila', 'ya', 'mafanikio', '.', 'Mwaka', '2013', ',', 'aliwania', 'ugavana', 'wa', 'Kaunti', 'ya', 'Lamu', 'na', 'Mnamo', 'mwaka', '2021', ',', 'aliidhinishwa', 'na', 'Chama', 'chake', 'kuwania', 'Ugavana', 'wa', 'Kaunti', 'ya', 'Nairobi', 'kufuatia', 'Gavana', 'Mike', 'Mbuvi', 'kuondolewa', 'madarakani', 'kwa', 'kura', 'ya', 'kutokuwa', 'na', 'imani', 'naye', 'lakini', 'hakukuwa', 'na', 'uchaguzi', 'ulioendeshwa', 'kujaza', 'nafasi', 'hiyo', 'baada', 'ya', 'mahakama', 'kutoa', 'uamuzi', 'naibu', 'gavana', 'Ann', 'Kananu', 'kushikilia', 'ugavana', 'wa', 'Nairobi', '.', 'Bwana', 'David', 'Mwaure', 'Mwaiga', 'ana', 'imani', 'ana', 'sifa', 'zote', 'za', 'kustahili', 'kuwa', 'kiongozi', 'ajaye', 'wa', 'Kenya', '.', 'Lililosalia', 'ni', 'kujua', 'mbivu', 'na', 'mbichi', 'ifikapo', 'Agosti', '9,2022', ',', 'miezi', 'miwili', 'kutoka', 'sasa', '.', 'Wapiga', 'kura', 'waamuzi', 'wa', 'nani', 'kati', 'ya', 'wagombea', 'wanne', 'wa', 'urais', 'watampa', 'ridhaa', 'ya', 'kuwaongoza', 'katika', 'kipindi', 'cha', 'miaka', 'mitano', 'ijayo', '.']\n",
      "\n",
      " Number of Words:  1890\n"
     ]
    }
   ],
   "source": [
    "file=\"22Jun9.txt\"\n",
    "\n",
    "# calling the function and storing the contents in a text variable \n",
    "text = get_document(\"https://www.bbc.com/swahili/habari-61745557\")\n",
    "\n",
    "# calling the store_ document function \n",
    "store_document(doc=text,name=file)\n",
    "\n",
    "#add the words in this file to the total_corpus_words, to keep count of the number of words in the corpus\n",
    "total_corpus_words+=total_words(file)"
   ]
  },
  {
   "cell_type": "code",
   "execution_count": 121,
   "metadata": {},
   "outputs": [
    {
     "data": {
      "text/plain": [
       "435085"
      ]
     },
     "execution_count": 121,
     "metadata": {},
     "output_type": "execute_result"
    }
   ],
   "source": [
    "total_corpus_words"
   ]
  },
  {
   "cell_type": "code",
   "execution_count": 122,
   "metadata": {},
   "outputs": [
    {
     "name": "stdout",
     "output_type": "stream",
     "text": [
      "['WARIDI', 'WA', 'BBC', ':', 'Mama', 'asimulia', 'machungu', 'ya', 'kuuawa', 'kwa', 'wanawe', 'wa', 'kipekee', 'Siku', 'ambayo', 'Lucy', 'Wanjiru', 'raia', 'wa', 'Kenya', 'anayeishi', 'nchini', 'Uingereza', 'hatawahi', 'kuisahau', 'maishani', 'mwake', 'ni', 'ile', 'siku', 'alipokea', 'taarifa', 'ya', 'vifo', 'vya', 'wanawe', 'wawili', 'wa', 'kiume', 'waliouawa', 'katika', 'mazingira', 'ya', 'kutatanisha', '.', 'Vijana', 'hao', 'wawili', 'walikuwa', 'pamoja', 'na', 'marafiki', 'zao', 'wawili', 'wa', 'kiume', 'waliposhambuliwa', 'na', 'kuuawa', 'na', 'wanakijiji', 'katika', 'Kaunti', 'ya', 'Kajiado', 'nchini', 'Kenya', 'katika', 'kile', 'kilichotajwa', 'kushukiwa', 'kuwa', 'wahalifu', '.', 'Bi', 'Wanjiru', 'anasema', 'alisafiri', 'nje', 'ya', 'nchi', 'mnamo', 'mwaka', '2018', 'kwa', 'lengo', 'la', 'kuwatafutia', 'riziki', 'wanawe', 'wawili', 'wa', 'kiume', 'huko', 'Uingereza', '.', 'Agosti', '15', 'mwaka', '2021', ',', 'aliporejea', 'Kenya', 'kutoka', 'Uingereza', 'baada', 'ya', 'kupokea', 'taarifa', 'kwamba', 'wanawe', 'wawili', 'wameuawa', 'wimbi', 'la', 'simanzi', 'lilimghubika', 'mama', 'huyu', ',', 'taswira', 'ambayo', 'iliangaziwa', 'katika', 'vyombo', 'vikuu', 'vya', 'habari', 'nchini', 'humo', '.', 'Jamaa', 'na', 'marafiki', 'ambao', 'walikusanyika', 'katika', 'uwanja', 'wa', 'ndege', 'wa', 'kimataifa', 'wa', 'Jomo', 'Kenyatta', 'jijini', 'Nairobi', 'hawakuweza', 'pia', 'kuficha', 'hisia', 'zao', 'wakati', 'Wanjiru', 'alipoangua', 'kilio', '.', 'Anasema', 'kwamba', 'alizimia', 'mara', 'kadhaa', 'wakati', 'ambapo', 'alikuwa', 'anaelekea', 'kwenye', 'gari', 'ambalo', 'lilitumiwa', 'kumsafirisha', 'kutoka', 'uwanja', 'wa', 'ndege', 'hadi', 'nyumbani', 'kwake', '.', 'Mama', 'huyu', 'alikabiliwa', 'na', 'wakati', 'mgumu', 'sana', 'hasa', 'wakati', 'gari', 'hilo', 'lilipoelekea', 'mtaa', 'wa', 'Syokimau', 'anakoishi', 'katika', 'jimbo', 'la', 'Machakos', 'viungani', 'mwa', 'mji', 'wa', 'Nairobi', '.', 'Anakumbuka', 'akimuomba', 'kaka', 'yake', 'ageuze', 'gari', 'na', 'kurudi', 'walikotoka', 'kwani', 'hana', 'nguvu', 'ya', 'kuingia', 'nyumbani', 'kwake', 'kutokana', 'na', 'kumbukumbu', 'nzito', 'za', 'kukubali', 'kwamba', 'wanawe', 'wawili', 'wamemtoka', '.', 'Bi', 'Lucy', 'anasema', 'kwamba', 'ilibidi', 'kaka', 'yake', 'amtafutie', 'sehemu', 'nyingine', 'ya', 'kukaa', 'kabla', 'ya', 'kwenda', 'hadi', 'makafani', 'ya', 'Kenyatta', 'ambapo', 'miili', 'ya', 'wanawe', 'ilikuwa', 'imehifadhiwa', '.', 'Fredrick', 'Mureithi', 'angekuwa', 'hai', 'leo', 'hii', 'angekuwa', 'na', 'miaka', '27', 'na', 'kaka', 'yake', 'mdogo', 'Victor', 'mwangi', 'angekuwa', 'na', 'miaka', '22', '.', 'Mazingira', 'ya', 'kuuawa', 'kwa', 'vijana', 'hao', 'Chanzo', 'cha', 'picha', ',', 'Lucy', 'Wanjiru', 'Karibu', 'mwaka', 'mmoja', 'uliopita', 'ndugu', 'hao', 'wawili', 'waliuawa', 'eneo', 'la', 'Kitengela', 'baada', 'ya', 'kundi', 'la', 'watu', 'kuwadhania', 'kuwa', 'majambazi', 'waliokuwa', 'wakihangaisha', 'wenyeji', 'eneo', 'hilo', '.', 'Mauaji', 'hayo', 'yalifanyika', 'mnamo', 'agosti', 'tarehe', '7', 'mwaka', 'uliopita', 'wa', '2021', '.', 'Vijana', 'hawa', 'walifariki', 'katika', 'njia', 'ya', 'kuhofisha', 'baada', 'ya', 'watu', 'wasiojulikana', 'kutoka', 'kijiji', 'hicho', 'kuwashambulia', 'kwa', 'mapanga', 'na', 'silaha', 'nyengine', 'butu', '.', 'Mama', 'yao', 'anasema', 'kwamba', 'vijana', 'hao', 'waliuawa', 'wakati', 'alikuwa', 'wamezuru', 'eneo', 'hilo', 'kujivinjari', 'kwa', 'pikipiki', 'zao', 'kama', 'sehemu', 'ya', 'sherehe', 'za', 'siku', 'ya', 'kuzaliwa', 'kwa', 'mmoja', 'wao', '.', 'Mpango', 'uliokuwa', 'uwe', 'wa', 'furaha', 'uligeuka', 'ghafla', 'na', 'kuwa', 'msiba', 'ambao', 'umemuacha', 'mama', 'huyu', 'na', 'maswali', 'mengi', 'kuliko', 'majibu', '.', 'Sherehe', 'ya', 'kuzaliwa', 'kwa', 'Victor', 'ilikuwa', 'imepangiwa', 'kufanyika', 'eneo', 'mmoja', 'huko', 'kabla', 'ya', 'kifo', 'hicho', 'cha', 'kikatili', 'kuwakuta', '.', 'Japo', 'kuna', 'washukiwa', 'waliokamatwa', 'na', 'kesi', 'inaendelea', 'mahakamani', 'hadi', 'sasa', 'na', 'mama', 'huyu', 'akitumai', 'kwamba', 'haki', 'kwa', 'upande', 'wake', 'itatendekea', 'Mama', 'huyu', 'anasema', 'habari', 'alizoelezwa', 'na', 'ambazo', 'ziko', 'katika', 'baadhi', 'ya', 'vyombo', 'vya', 'habari', 'nchini', 'Kenya', 'ni', 'kwamba', 'Wanne', 'hao', 'walipigwa', 'hadi', 'kufariki', 'kwasababu', 'wakaazi', 'waliwadhania', 'walikuwa', 'wezi', 'wa', 'mifugo', ',', 'nyaraka', 'zao', 'pamoja', 'na', 'pikipiki', 'walizokuwa', 'nazo', 'wakati', 'waliponaswa', 'ziliteketezwa', 'moto', '.', 'Miili', 'yao', 'ilipatikana', 'siku', 'mbili', 'baadaye', 'ikiwa', 'na', 'mikuki', 'vichwani', 'mwao', ',', 'mifupa', 'mingi', 'ilikuwa', 'imevunjika', 'pia', '.Ripoti', 'za', 'uchunguzi', 'pia', 'zilisema', 'kwamba', 'walikuwa', 'wameteswa', 'kabla', 'ya', 'mauaji', 'hayo', '.', 'Chanzo', 'cha', 'picha', ',', 'Lucy', 'Wanjiru', '``', 'Nakumbuka', 'siku', 'mbili', 'kabla', 'ya', 'kifo', 'cha', 'wanangu', 'nilizungumza', 'na', 'wao', 'nikiwa', 'Uingereza', ',', 'na', 'ni', 'mimi', 'niliwatumia', 'pesa', 'za', 'kuandaa', 'sherehe', 'hio', 'ya', 'kuzaliwa', 'kwa', 'mwanangu', 'wa', 'mwisho', 'Victor', ',', 'nisijue', 'kwamba', 'ilikuwa', 'siku', 'ya', 'mwisho', 'kuwasikia', 'tena', '.', 'Baada', 'ya', 'hapo', 'juhudi', 'za', 'kuwapigia', 'simu', 'kuwasiliana', 'nao', 'ikawa', 'shida', 'nisijue', 'kwamba', 'walikuwa', 'wameuawa', '``', 'Lucy', 'anakumbuka', 'Kukabiliana', 'na', 'hofu', 'ya', 'vifo', 'vya', 'wanawe', 'Chanzo', 'cha', 'picha', ',', 'Lucy', 'Wanjiru', 'Haijakuwa', 'rahisi', 'kwa', 'Lucy', 'kukubali', 'kwamba', 'hatawahi', 'kuwaona', 'wanawe', 'tena', '.', 'Lucy', 'anasema', 'kwamba', 'amekuwa', 'mzazi', 'wa', 'kipekee', 'kwa', 'wanawe', 'hawa', 'baada', 'ya', 'ndoa', 'kati', 'yake', 'na', 'baba', 'ya', 'wanawe', 'kukumbwa', 'na', 'changamoto', 'zilizosababisha', 'iwe', 'vigumu', 'kwa', 'wao', 'kuishi', 'pamoja', '.', 'Lucy', 'anasema', 'kwamba', 'kila', 'siku', 'anawafikiria', 'wanawe', 'na', 'wakati', 'mwengine', 'anajipata', 'akilia', 'kwa', 'masikitiko', '.', 'Kwa', 'sasa', 'anapokea', 'ushauri', 'kutoka', 'kwa', 'mwanasaikolojia', 'na', 'hali', 'kadhalika', 'mtoa', 'nasaha', ',', 'lakini', 'anasema', 'kwamba', 'licha', 'ya', 'kuwa', 'na', 'ukakamavu', 'bado', 'moyo', 'unakuwa', 'mzito', 'sana', 'kukubali', 'hali', 'hali', 'ya', 'kuondokewa', 'na', 'wanawe', '.', 'Anachofanya', 'zaidi', 'ni', 'kuhakikisha', 'kwamba', 'mawazo', 'haya', 'hayamkoseshi', 'amani', 'ni', 'kujipa', 'shughuli', 'chanya', 'kwa', 'mfano', 'alikuwa', 'hafugi', 'kuku', 'ila', 'kwa', 'sasa', 'ameanza', 'kuwafuga', ',', 'ukulima', 'kidogo', 'na', 'pia', 'kuhakikisha', 'kwamba', 'anakaa', 'karibu', 'na', 'marafiki', 'ambao', 'wamemsaidia', 'kukubali', 'hali', 'yake', 'na', 'kuendeleza', 'maisha', 'yake', '.', 'Mama', 'huyu', 'anasema', 'hakuna', 'kitu', 'kigumu', 'kama', 'mzazi', 'kuwapoteza', 'watoto', 'wake', 'wote', 'akiwa', 'hai', '.', '``', 'Kwangu', 'mimi', 'kuna', 'wakati', 'naona', 'maisha', 'hayana', 'maana', 'kabisa', ',', 'yaani', 'jitihada', 'zangu', 'nchini', 'Kenya', 'na', 'hata', 'Uingereza', ',', 'ili', 'niwasomeshe', 'wanangu', 'ni', 'kama', 'ziliambulia', 'patupu', '``', 'anasema', 'Lucy', '.']\n",
      "\n",
      " Number of Words:  768\n"
     ]
    }
   ],
   "source": [
    "file=\"22Jun15_1.txt\"\n",
    "\n",
    "# calling the function and storing the contents in a text variable \n",
    "text = get_document(\"https://www.bbc.com/swahili/habari-61797373\")\n",
    "\n",
    "# calling the store_ document function \n",
    "store_document(doc=text,name=file)\n",
    "\n",
    "#add the words in this file to the total_corpus_words, to keep count of the number of words in the corpus\n",
    "total_corpus_words+=total_words(file)"
   ]
  },
  {
   "cell_type": "code",
   "execution_count": 123,
   "metadata": {},
   "outputs": [
    {
     "data": {
      "text/plain": [
       "435853"
      ]
     },
     "execution_count": 123,
     "metadata": {},
     "output_type": "execute_result"
    }
   ],
   "source": [
    "total_corpus_words"
   ]
  },
  {
   "cell_type": "code",
   "execution_count": 124,
   "metadata": {},
   "outputs": [
    {
     "name": "stdout",
     "output_type": "stream",
     "text": [
      "['Bajeti', 'Afrika', 'Mashariki', 'ni', 'utamu', 'mchungu', 'Juni', '14', ',', '2022', 'ilikuwa', 'siku', 'ya', 'bajeti', 'kwa', 'nchi', 'za', 'Afrika', 'Mashariki', ',', 'Tanzania', 'na', 'Uganda', 'zikiwasilisha', 'makadirio', 'ya', 'bajeti', 'zao', 'kwa', 'mwaka', 'wa', 'fedha', '2022/2023', ',', 'Kenya', 'iliwasilisha', 'nyuma', 'kidogo', 'kutokana', 'na', 'maandalizi', 'ya', 'uchaguzi', '.', 'Bajeti', 'hizi', 'zinawasilishwa', 'wakati', 'mgumu', 'wa', 'vita', 'vya', 'Ukraine', 'na', 'Urusi', ',', 'huku', 'janga', 'la', 'Corona', 'likiendelea', 'kuathiri', 'shughuli', 'na', 'watu', 'katika', 'maeneo', 'mengi', 'duniani', '.', 'Bajeti', 'za', 'mwaka', 'huu', 'katika', 'nchi', 'karibu', 'zote', 'za', 'Afrika', 'Mashariki', ',', 'zimekusanya', 'mambo', 'matamu', 'yanaofurahisha', 'na', 'yanayogusa', 'watu', 'wengi', ',', 'lakini', 'pia', 'zina', 'misumari', 'ya', 'moto', ',', 'inayoweza', 'kuchoma', ',', 'na', 'kukumiza', '.', 'Tanzania', 'Bajeti', 'ya', 'Tanzania', 'ni', 'ya', 'kihistoria', ',', 'ikitajwa', 'kuwa', 'ni', 'bajeti', 'ya', 'kipekee', 'kutokana', 'na', 'muelekeo', 'wake', 'achilia', 'mbali', 'kiwango', 'chake', 'kikubwa', 'cha', 'shilingi', 'trilioni', '41', 'za', 'kitanzania', '.', 'Bajeti', 'hii', 'imejikita', 'kwenye', 'kupunguza', 'matumizi', 'ya', 'serikali', 'na', 'kwenye', 'sera', 'ya', 'mapato', 'ikitaka', 'kuongeza', 'mapato', 'yake', 'yatakayotumika', 'kwenye', 'maendeleo', 'na', 'huduma', 'za', 'kijamii', '.', 'Kila', 'mtanzania', 'mwenye', 'umri', 'wa', 'miaka', '18', 'na', 'kuendelea', 'atapewa', 'namba', 'ya', 'utambulisho', 'wa', 'mlipa', 'kodi', '(', 'TIN', ')', 'na', 'atakadiriwa', 'kodi', 'zake', 'na', 'kutumiwa', 'kwa', 'njia', 'ya', 'mtandao', 'na', 'kulipa', 'kulingana', 'na', 'kipato', 'chake', '.', 'Hili', 'lina', 'uchungu', 'kwa', 'baadhi', 'ya', 'watanzania', '.', 'Mbali', 'na', 'hili', ',', 'bajeti', 'ya', 'sasa', 'imelenga', 'kupunguza', 'matumizi', 'ya', 'serikali', ',', 'kwa', 'kuleta', 'mfumo', 'wa', 'kuwakopesha', 'magari', 'watumishi', 'wa', 'umma', ',', 'zoezi', 'linalo', 'kwenda', 'kuokoa', 'zaidi', 'ya', 'shilingi', 'bilioni', '500', 'za', 'kitanzania', '.', 'Hili', 'si', 'jema', 'kwa', 'maafisa', 'wa', 'serikali', 'waliokuwa', \"'mabosi\", \"'\", 'wa', 'magari', '.', 'Elimu', 'bure', 'mpaka', 'kidato', 'cha', '6', ',', 'ni', 'jambo', 'lililo', 'furahisha', 'wengi', 'Tanzania', ',', 'lakini', 'kufumuliwa', 'kwa', 'mfumo', 'wa', 'manunuzi', 'na', 'mapendekezo', 'ya', 'kurekebisha', 'sheria', 'ya', 'manunuzi', ',', 'kupunguza', 'udanganyifu', 'na', 'wizi', 'katika', 'zabuni', 'za', 'serikali', ',', 'linakwenda', 'kuliza', 'maafisa', 'wengi', 'na', 'wafanyabiashara', 'wadanganyifu', '.', 'Uganda', 'Uganda', 'iliyopoteza', 'zaidi', 'ya', 'watu', '3,000', 'kwa', 'ugonjwa', 'Covid-19', 'imeongeza', 'bajeti', 'yake', 'kwa', 'asilimia', '7', '%', '.', 'Waziri', 'wa', 'fedha', 'wa', 'Uganda', ',', 'Matia', 'Kasaija', 'aliwasilisha', 'bajeti', 'ya', 'shilingi', 'za', 'Uganda', 'trilioni', '48.1', 'sawa', 'na', 'dola', 'bilioni', '12.8', '$', ',', 'bajeti', 'iliyojielekeza', 'kwenye', 'kurekebisha', 'uchumi', 'wake', 'ulioathiriwa', 'na', 'janga', 'la', 'Corona', 'lakini', 'pia', 'kushughulikia', 'ugonjwa', 'huo', '.', 'Utamu', 'wa', 'bajeti', 'ya', 'nchi', 'hii', ',', 'ni', 'kutokuwepo', 'kwa', 'kodi', 'yoyote', 'mpya', 'itakayo', 'ongezwa', 'katika', 'mwaka', 'ujao', 'wa', 'fedha', 'ili', 'kutoa', 'unafuu', 'kwa', 'wafanyabiashara', 'na', 'wananchi', 'wake', 'kwa', 'ujumla', '.', 'Pamoja', 'na', 'hilo', ',', 'bajeti', 'ya', 'Uganda', 'haionekani', 'kubana', 'matumizi', 'ya', 'serikali', 'kama', 'ilivyojionyesha', 'kwa', 'bajeti', 'ya', 'Tanzania', 'ya', 'mwaka', 'huu', '.', 'Kiasi', 'kikubwa', 'cha', 'fedha', 'kilichotengwa', 'kwa', 'matumizi', 'ya', 'Ikulu', 'na', 'taasisi', 'nyingi', 'za', 'serikali', 'zinaitofautisha', 'bajeti', 'hii', 'na', 'ile', 'ya', 'Tanzania', ',', 'ambayo', 'inazitoa', 'fedha', 'kwenye', 'matumizi', 'yasiyo', 'ya', 'lazima', 'ya', 'maafisa', 'wa', 'serikali', 'na', 'kuzielekeza', 'kwenye', 'huduma', 'za', 'kijamii', 'Hofu', 'ya', 'waganda', 'wengi', 'ni', 'uhuru', 'wa', 'kuhoji', ',', 'uhuru', 'wa', 'maafisa', 'kutumia', 'taaluma', 'zao', ',', 'lakini', 'halijaifanya', 'serikali', 'ya', 'nchi', 'hiyo', 'kusema', 'mipango', 'yake', 'ni', 'ya', 'kuwasaidia', 'wananchi', '.', 'Kenya', 'Kenya', 'yenyewe', 'iliwasilisha', 'bajeti', 'yake', 'mapema', 'kidogo', 'kwa', 'sababu', 'ya', 'shughuli', 'za', 'uchaguzi', 'mkuu', 'unaotarajiwa', 'kufanyika', 'baadaye', 'mwaka', 'huu', '.', 'Bajeti', 'ya', 'shilingi', 'za', 'Kenya', 'trilioni', '3.3', 'ikiwa', 'ni', 'ongezeko', 'la', '4.8', '%', 'ukilinganisha', 'na', 'bajeti', 'iliyopita', 'ya', '2.9', '%', ',', 'inaonyesha', 'kushughulikia', 'kupanda', 'kwa', 'gharama', 'za', 'maisha', ',', 'tatizo', 'la', 'ajira', 'kwa', 'vijana', ',', 'utofauti', 'wa', 'kipato', ',', 'na', 'deni', 'la', 'taifa', '.', 'Chanzo', 'cha', 'picha', ',', 'SOPA', 'IMAGES', 'Uchungu', 'wa', 'bajeti', 'hii', 'ya', 'Kenya', 'ni', 'kwamba', ',', 'kiasi', 'kikubwa', 'cha', 'fedha', 'zinazokadiriwa', 'kufikia', 'Sh2.01', 'trillion', 'za', 'Kenya', 'zitakwenda', 'kutumika', 'kwenye', 'shughuli', 'za', 'kawaida', 'za', 'serikali', ',', 'badala', 'ya', 'miradi', 'ya', 'maendeleo', '.', 'Lakini', 'kutengwa', 'kwa', 'Sh24.7', 'billion', 'kama', 'ruzuku', 'ya', 'mafuta', 'ili', 'kupunguza', 'mzigo', 'wa', 'bei', ',', 'ni', 'jambo', 'la', 'kufurahisha', 'kwa', 'wakenya', 'ambao', 'katika', 'kipindi', 'cha', 'miongo', 'miwili', 'iliyopita', ',', 'wanashuhudia', 'ongezeko', 'kubwa', 'la', 'bei', 'ya', 'mafuta', 'hasa', 'ya', 'petrol', 'na', 'diezeli', '.', 'Lingine', 'la', 'kufurahisha', 'ni', 'bajeti', 'hiyo', 'kujali', 'hali', 'ya', 'ukame', 'inayoyakumba', 'mara', 'kwa', 'mara', 'maeneo', 'mbalimbali', 'ya', 'nchi', 'hiyo', '.', 'Mwaka', 'jana', 'zaidi', 'ya', 'wakenya', 'milioni', 'mbili', 'walikumbwa', 'na', 'janga', 'hili', '.', 'Je', 'ni', 'bajeti', 'zinazogusa', 'maisha', 'ya', 'watu', 'au', 'kama', 'zilizotangulia', '?', 'Mchumi', ',', 'Barnos', 'Willium', 'kutoka', 'chuo', 'Kikuu', 'cha', 'Ushirika', 'Moshi', ',', 'anasema', ',', \"'kuwasilisha\", 'bajeti', 'ni', 'suala', 'moja', ',', 'kuitekeleza', 'na', 'kufikia', 'malengo', 'kwa', 'ufanisi', 'ni', 'jambo', 'lingine', \"'\", '.', 'Mtazano', 'wa', 'mchumi', 'huyu', ',', 'ni', 'mitazamo', 'ya', 'wafuatiliaji', 'wengi', 'wa', 'masuala', 'ya', 'bajeti', '.', 'Kila', 'mwaka', 'katika', 'kila', 'nchi', ',', 'huwasilishwa', 'bajeti', ',', 'lakini', 'utekelezaji', 'wake', 'huwa', 'ni', 'wa', 'kusuasua', 'sana', '.', \"'Zinavutia\", 'kwa', 'masikio', ',', 'lakini', 'hazitakuwa', 'na', 'maana', 'kama', 'hazitatekelezwa', ',', 'naiona', 'bajeti', 'ya', 'Tanzania', 'ni', 'tofauti', 'sana', 'na', 'miaka', 'yote', ',', 'kama', 'itatekelezwa', ',', 'inaweza', 'kuleta', 'utofauti', 'mkubwa', 'wa', 'ukusanyaji', 'wa', 'mapato', 'na', 'katika', 'uwekezaji', \"'\", ',', 'alisema', 'Willium', '.', 'Bajeti', 'ya', 'Tanzania', 'mwaka', 'huu', 'kama', 'ilivyo', 'ya', 'Kenya', ',', 'inajikita', 'kwenye', 'sera', 'ya', 'mapato', 'na', 'uwekezaji', '.', 'Uwekezaji', 'unaoonekana', 'kwenye', 'bajeti', 'ya', 'kilimo', 'iliyoongezwa', 'kwa', 'karibu', 'asilimia', '10', '%', 'kwa', 'lengo', 'la', 'kuongeza', 'mashamba', 'makubwa', 'na', 'kuongeza', 'eneo', 'la', 'umwagiliaji', '.', 'Kama', 'itatekelezwa', 'inavoonekana', 'inaweza', 'kuongeza', 'ajira', 'mpaka', 'milioni', '3', 'katika', 'kipindi', 'cha', 'mwaka', 'mmoja', 'tu', '.', 'Huku', 'ile', 'ya', 'Uganda', 'ikiongeza', 'ajira', 'mpaka', 'milioni', '1', '.', 'Pamoja', 'na', 'utamu', 'wa', 'uchungu', 'wa', 'bajeti', 'za', 'sasa', 'za', 'nchi', 'za', 'Afrika', 'Mashariki', ',', 'ukakasi', 'wa', 'ongezeko', 'la', 'deni', 'la', 'taifa', 'kwa', 'nchi', 'zote', ',', 'inaleta', 'wasiwasi', '.', 'Tanzania', 'deni', 'limefikia', 'trilioni', '69', ',', 'Uganda', '73.5', 'trilioni', 'za', 'Uganda', 'na', 'kule', 'Kenya', 'ni', 'trilioni', '8', '.', 'Madeni', 'haya', 'yanaleta', 'kigugumizi', 'kwenye', 'jitihada', 'zinazoonekana', 'kupitia', 'bajeti', 'zao', 'katika', 'kukuza', 'uchumi', 'wa', 'mataifa', 'hayo', 'na', 'kuboresha', 'maisha', 'ya', 'wananchi', '.']\n",
      "\n",
      " Number of Words:  908\n"
     ]
    }
   ],
   "source": [
    "file=\"22Jun15_2.txt\"\n",
    "\n",
    "# calling the function and storing the contents in a text variable \n",
    "text = get_document(\"https://www.bbc.com/swahili/habari-61811241\")\n",
    "\n",
    "# calling the store_ document function \n",
    "store_document(doc=text,name=file)\n",
    "\n",
    "#add the words in this file to the total_corpus_words, to keep count of the number of words in the corpus\n",
    "total_corpus_words+=total_words(file)"
   ]
  },
  {
   "cell_type": "code",
   "execution_count": 125,
   "metadata": {},
   "outputs": [
    {
     "data": {
      "text/plain": [
       "436761"
      ]
     },
     "execution_count": 125,
     "metadata": {},
     "output_type": "execute_result"
    }
   ],
   "source": [
    "total_corpus_words"
   ]
  },
  {
   "cell_type": "code",
   "execution_count": 126,
   "metadata": {},
   "outputs": [
    {
     "name": "stdout",
     "output_type": "stream",
     "text": [
      "['Viongozi', 'wanawake', 'Kenya', 'wamekuwa', 'na', 'mchango', 'gani', 'katika', 'siasa', 'za', 'nchi', 'hiyo', '?', '20', 'Juni', '2022', 'Na', 'Anne', 'Ngugi', 'BBC', 'Swahili', ',', 'Nairobi', 'Chanzo', 'cha', 'picha', ',', 'Martha', 'Karua/Twitter', 'Kivumbi', 'cha', 'kisiasa', 'nchini', 'Kenya', 'kinatifuka', 'kila', 'uchao', 'ikiwa', 'imesalia', 'na', 'chini', 'ya', 'miezi', 'miwili', 'kabla', 'ya', 'uchaguzi', 'mkuu', '.', 'Ni', 'mchakato', 'ambao', 'umejawa', 'mengi', 'lakini', 'uchaguzi', 'wa', 'mwaka', 'huu', 'utakuwa', 'na', 'kikubwa', 'kwa', 'wanawake', 'kote', 'nchini', 'kwani', 'kwa', 'mara', 'ya', 'kwanza', 'kuna', 'uwezekano', 'kwa', 'mwanamke', 'kushikilia', 'nafasi', 'ya', 'ngazi', 'ya', 'juu', 'serikalini', 'baada', 'ya', 'moja', 'ya', 'mirengo', 'mikubwa', 'ya', 'kisiasa', 'katika', 'uchaguzi', 'wa', 'mwaka', 'huu', '-Azimio', 'la', 'Umoja', 'kumteua', 'Martha', 'Karua', 'kuwa', 'mgombea', 'mwenza', 'wa', 'mgombeaji', 'wake', 'wa', 'urais', 'Raila', 'Odinga', '.', 'Mrengo', 'mwingine', 'unaoongozwa', 'na', 'naibu', 'wa', 'rais', 'William', 'Ruto-Kenya', 'Kwanza', 'nao', 'umeahidi', 'kuwapa', 'wanawake', 'asilimia', '50', 'ya', 'nafasi', 'za', 'mawaziri', 'endapo', 'watashinda', 'uchaguzi', '.', 'Kwa', 'mujibu', 'wa', 'Tume', 'ya', 'Uchaguzi', 'nchini', 'Kenya', 'IEBC', 'wagombea', 'wanne', 'wa', 'urais', 'wameidhinishwa', 'kwa', 'kuwania', 'kiti', 'hicho', '.', 'Kati', 'ya', 'wagombeaji', 'hawa', 'wakuu', 'wa', 'urais', ',', 'watatu', 'waliwateua', 'wanawake', 'kama', 'wagombea', 'wenza', 'kwenye', 'kinyang', '’', 'anyiro', 'hicho', 'na', 'kando', 'na', 'muunganon', 'wa', 'Raila', 'Odinga', 'tiketi', 'nyingine', 'mbili', 'za', 'wagombea', 'urais', 'zina', 'wanawake', 'kama', 'wagombea', 'wenza', '.', 'Chama', 'cha', 'Roots', 'Party', 'kinachoongozwa', 'na', 'George', 'Wajackoyah', 'kina', 'mwanamke', 'Justina', 'Wamae', 'kama', 'mgombea', 'mwenza', 'na', 'Ruth', 'Mutua', 'kutoka', 'chama', 'cha', 'Agano', '.', 'Hatua', 'hizo', 'zinadhihirisha', 'umuhimu', 'mkubwa', 'ambao', 'uongozi', 'wa', 'wanawake', 'umechukua', 'katika', 'siasa', 'za', 'Kenya', 'na', 'hasa', 'katika', 'uchaguzi', 'huu', 'unaokaribia', '.', 'Kuanzia', 'wawaniaji', 'wanawake', 'katika', 'nyadhifa', 'mbalimbali', ',', 'na', 'pia', 'uzito', 'wa', 'kura', 'za', 'wanawake', 'nchini', 'Kenya', 'katika', 'kusukuma', 'au', 'kutathmini', 'atakayeshinda', 'urais', 'katika', 'uchaguzi', 'wa', 'mwaka', 'huu', '.', 'Je', 'ni', 'wanawake', 'wapi', 'ambao', 'ni', 'nguzo', 'kisiasa', '?', 'Wanawake', 'ni', 'wengi', 'mwaka', 'huu', 'ambao', 'wamejitosa', 'kuwania', 'nafasi', 'za', 'uongozi', 'wa', 'kisiasa', 'nchini', 'Kenya', '.', 'Matumaini', 'ya', 'uongozi', 'wa', 'wanawake', 'hayakuanza', 'hivi', 'karibuni', 'na', 'kumekuwa', 'na', 'majina', 'mengi', 'ya', 'kutambulika', 'katika', 'jitihada', 'hizi', 'na', 'wanawake', 'wanaojipata', 'kama', 'nyuso', 'za', 'kampeni', 'hii', 'kwa', 'sasa', 'wanabeba', 'matumaini', 'ya', 'wengi', 'wa', 'zamani', 'na', 'jinsia', 'ya', 'kike', 'ya', 'uongozi', 'wa', 'kizazi', 'kijacho', '.', 'Matumaini', 'yao', 'ni', 'kwamba', 'huu', 'ndio', 'mwanzo', 'wa', 'ngoma', 'ya', 'uongozi', 'wa', 'wanawake', 'kupaa', 'hata', 'juu', 'zaidi', 'katika', 'siku', 'zijazo', '.', 'Macho', 'ya', 'wengi', 'katika', 'hili', 'yapo', 'sasa', 'kwa', 'kundi', 'la', 'wanawake', 'kadhaa', 'ambao', 'ndio', 'wanasheheni', 'matumaini', 'haya', 'iwapo', 'watafaulu', 'bila', 'kujali', 'wapo', 'katika', 'mirengo', 'gani', 'ya', 'kisiasa', '.', 'Martha', 'Karua', 'Huyu', 'ni', 'mwanamke', 'ambaye', 'anafahamika', 'na', 'wengi', 'kwa', 'kimombo', 'kama', '“', 'The', 'iron', 'Lady', '”', 'tafsiri', 'nyepesi', 'ni', 'chuma', ',', 'jina', 'hili', 'amelipata', 'kutokana', 'na', 'uweledi', 'wake', 'kama', 'mwanasheria', 'na', 'vilevile', 'ukakamavu', 'wake', 'wa', 'kuzungumza', 'wazi', 'wazi', 'kuhusiana', 'na', 'maoni', 'na', 'misimamo', 'yake', 'inapowadia', 'maswala', 'ya', 'uongozi', ',', 'utawala', ',', 'haki', 'za', 'kibinadamu', 'na', 'pia', 'hali', 'ya', 'ufisadi', 'nchini', 'Kenya', '.', 'Huyu', 'ni', 'mwanamke', 'ambaye', 'amekuwa', 'mstari', 'wa', 'mbele', 'kukosoa', 'serikali', 'zilizopita', 'hata', 'wakati', 'amekuwa', 'nje', 'ya', 'serikali', 'hizo', '.Martha', 'Karua', 'ambaye', 'sasa', 'ni', 'mgombea', 'mwenza', 'wake', 'Raila', 'Odinga', ',', 'alipozungumza', 'na', 'BBC', 'alisema', 'kuwa', 'bado', 'uwakilishi', 'wa', 'wanawake', 'katika', 'nyadhifa', 'za', 'uongozi', 'uko', 'chini', 'ukilinganisha', 'na', 'idadi', 'ya', 'wapiga', 'kura', 'wanawake', 'ambayo', 'inakisiwa', 'kuwa', 'asilimia', '51', 'nchini', 'Kenya', '“', 'Uongozi', 'wa', 'wanawake', 'sasa', 'unakubalika', 'katika', 'nyanja', 'zote', ',', 'unapata', 'kuwa', 'kuna', 'wanawake', 'ambao', 'wanawania', 'nyadhifa', 'tofauti', 'kila', 'mahali', 'na', 'bila', 'shaka', 'ni', 'idadi', 'ya', 'juu', 'kuliko', 'ambavyo', 'imekuwa', 'hapo', 'awali', '.Hatupo', 'ambapo', 'tunafaa', 'kuwa', 'kwani', 'tunafaa', 'kuwa', 'tunawania', 'nafasi', 'kulingana', 'na', 'idadi', 'ya', 'wanawake', 'nchini.', '”', 'alisema', 'Karua', 'Karua', 'anasema', 'kwamba', 'imekuwa', 'ni', 'barabara', 'yenye', 'utelezi', 'kwa', 'wanawake', 'viongozi', 'na', 'pia', 'kwa', 'wapiga', 'kura', 'wanawake', 'kujitizama', 'kwa', 'nafasi', 'halisi', 'ya', 'kwamba', 'wanaweza', 'kuwa', 'uongozini', 'na', 'wafanye', 'kazi', 'kwa', 'njia', 'sawa', 'kama', 'sio', 'bora', 'kuliko', 'wanaume', '.', 'Anaongeza', 'kuwa', 'changamoto', 'imekuwa', 'ni', 'tetesi', 'na', 'semi', 'zinazotumiwa', 'kudhalilisha', 'wanawake', 'na', 'hapo', 'anasema', 'kwamba', 'hata', 'yeye', 'binafsi', 'hajaepuka', 'changamoto', 'hiyo', 'ila', 'amekuwa', 'na', 'mikakati', 'ya', 'kufungia', 'masikio', 'wanaotumia', 'jinsia', 'kuwavuta', 'chini', 'wanawake', 'walioko', 'uongozini', 'au', 'ambao', 'wanamezea', 'mate', 'nafasi', 'za', 'uongozi', 'popote', 'nchini', 'Kenya', '.', '“', 'Mimi', 'nimekuwa', 'na', 'mkakati', 'wa', 'kutotilia', 'maanani', 'baadhi', 'ya', 'wanaume', 'wanapopanda', 'kwenye', 'jukwaa', 'na', 'kutumia', 'lugha', 'ya', 'kisiasa', 'ya', 'kunidhalilisha', ',', 'inakuwa', 'ni', 'kusudi', 'yao', 'kwamba', 'waviuruge', 'nia', 'yangu', 'kisiasa', 'na', 'kuniondoa', 'kwenye', 'mpango', 'wangu', 'kisasa', ',', 'kusudi', 'ni', 'wanipe', 'uoga', 'kwa', 'njia', 'hizo', 'na', 'kwa', 'hio', 'mimi', 'husema', 'ukisikiliza', 'kila', 'sauti', 'mbele', 'yako', 'hautawahi', 'kuafikia', 'chochote', '”', 'aliongezea', 'Karua', 'Kuhusu', 'kuzungumza', 'waziwazi', 'anachokifikiria', 'kuhusu', 'uongozi', 'hapo', 'awali', 'amenukuliwa', 'akitoa', 'semi', 'nzito', 'bila', 'uwoga', '“', 'Watu', 'bado', 'wanapora', 'rasilimali', 'za', 'umma', 'na', 'hawawajibishwi', '.', 'Tunahitaji', 'mabadiliko', 'ya', 'mtazamo', 'na', 'utekelezaji', 'wa', 'sheria', 'zetu', ',', 'sio', 'marekebisho', 'ya', 'katiba', '.', 'Hali', 'kadhalika', 'kuwa', 'na', 'shinikizo', 'kubwa', 'kwa', 'watu', 'kupenda', 'nchi', 'yao', 'kwa', 'hali', 'zote', '“', 'Nchi', 'unazofikiri', 'unataka', 'kutembelea', 'zilijengwa', 'na', 'watu', 'kama', 'wewe', 'na', 'mimi', '.', 'Vijana', 'wametakiwa', 'kufanya', 'vyema', 'zaidi', 'kuijenga', 'Kenya', '”', 'Itakuwa', 'ni', 'mara', 'ya', 'kwanza', 'mwanamke', 'anaingia', 'kwenye', 'tiketi', 'ya', 'kinyang', '’', 'anyiro', 'cha', 'juu', 'zaidi', 'nchini', 'Kenya', 'na', 'kinachosubiriwa', 'ni', 'kuona', 'iwapo', 'uwepo', 'wa', 'Martha', 'Karua', 'utakuwa', 'mtikiso', 'katika', 'muelekeo', 'wa', 'siasa', 'za', 'Kenya', '.', 'Charity', 'Ngilu', 'Chanzo', 'cha', 'picha', ',', 'Charity', 'Ngilu/Twitter', 'Siasa', 'za', 'Kenya', 'na', 'pia', 'uongozi', 'wa', 'wanawake', 'haziwezi', 'kutajwa', 'bila', 'jina', 'lake', 'Charity', 'Ngilu', '.', 'Huyu', 'ni', 'gavana', 'wa', 'sasa', 'wa', 'Kaunti', 'ya', 'Kitui', 'Mashariki', 'mwa', 'Kenya', 'na', 'tayari', 'ametangaza', 'kwamba', 'hatokitetea', 'kiti', 'chake.Mchango', 'wake', 'katika', 'siasa', 'za', 'mfumo', 'wa', 'vyama', 'vingi', 'na', 'pia', 'kupigania', 'uongozi', 'wa', 'wanawake', 'hauwezi', 'kupuuzwa', '.', 'Mwaka', '1997', 'aligombea', 'urais', 'na', 'kuwa', 'mwanamke', 'wa', 'kwanza', 'nchini', 'Kenya', 'kuwania', 'kiti', 'hicho', '.', 'Alijiunga', 'na', 'chama', 'cha', 'Social', 'Democratics', 'Party', 'SDP', 'na', 'alimaliza', 'katika', 'nafasi', 'ya', 'tano', '.', 'Ni', 'mwanasiasa', 'ambaye', 'hajakata', 'tamaa', 'ya', 'kuendelea', 'kupigania', 'usawa', 'wa', 'kijinsia', 'akitambuika', 'sana', 'wakati', 'huo', 'kwa', 'jina', 'la', '“', 'masaa', 'ni', 'ya', 'Ngilu', '”', '.Hakushinda', 'kiti', 'hicho', 'lakini', 'ujumbe', 'ulikuwa', 'umeshatoka-Wanawake', 'walikuwa', 'na', 'nia', 'ya', 'kuzipigania', 'nafasi', 'za', 'uongozi', 'nchini', 'Kenya', 'katika', 'nyanja', 'zote', '.', 'Charity', 'amekuwa', 'mbunge', 'kwa', 'miaka', 'mingi', 'na', 'pia', 'amehudumu', 'kama', 'waziri', '.', 'Alipozungumza', 'na', 'BBC', 'Swahili', 'alisema', 'ana', 'imani', 'kwamba', 'bado', 'kuna', 'nafasi', 'ya', 'mwanamke', 'kutwaa', 'uongozi', 'nchini', 'Kenya', 'na', 'hasa', 'inapotizamwa', 'kwamba', 'kwa', 'sasa', 'wanawake', 'wana', 'uakilishi', 'katika', 'nyadhifa', 'muhimu', 'serikalini', 'na', 'pia', 'uongozi', 'wa', 'kisiasa', '.', 'Anne', 'Waiguru', 'Wanawake', 'wengine', 'waliojitosa', 'katika', 'upongozi', 'wa', 'kisiasa', 'nchini', 'Kenya', 'ambao', 'safari', 'zao', 'zinaweza', 'kuangaliwa', 'katika', 'jitihada', 'za', 'kuendeleza', 'uongozi', 'wa', 'wanawake', 'ni', 'Anne', 'Waiguru', ',', 'amekuwa', 'kwenye', 'ulingo', 'wa', 'uongozi', 'katika', 'nyadhifa', 'serikalini', 'na', 'sasa', 'ni', 'Gavana', 'wa', 'Kaunti', 'ya', 'Kirinyaga', ',', 'Kati', 'mwa', 'Kenya', 'Anne', 'Waiguru', 'bado', 'yuko', 'kwenye', 'kinyang', '’', 'anyiro', 'mwaka', 'huu', 'akilenga', 'kutetea', 'nafasi', 'yake', '.', 'Alipozungumza', 'na', 'BBC', ',', 'Waiguru', 'alisema', 'kwamba', 'ili', 'wanawake', 'wawe', 'kwenye', 'nafasi', 'za', 'juu', 'uongozini', ',', 'wanafaa', 'kuwa', 'tayari', 'kuwapiga', 'kura', 'wenzao', '.', 'Dhana', 'ya', 'kwamba', '‘', 'Adui', 'ya', 'mwanamke', 'ni', 'mwanamke', 'mwengine', '’', 'mwanasiasa', 'huyu', 'anasema', 'imekwaza', 'jinsia', 'hii', 'hasa', 'kwa', 'sababu', 'inatumiwa', 'kisiasa', 'visivyo', '.', '“', 'Idadi', 'ya', 'wanawake', 'nchini', 'Kenya', 'ni', 'kubwa', ',', 'iwapo', 'wanawake', 'wenyewe', 'wataamua', 'kuwaweka', 'wanawake', 'wenzao', 'madarakani', 'basi', 'hilo', 'litawezekana', '.Ndio', 'wanawake', 'wapiga', 'kura', 'hapo', 'awali', 'wamepigia', 'wanaume', 'viongozi', 'kura', 'lakini', 'sasa', 'kuna', 'fursa', 'ya', 'kufanya', 'mambo', 'kwa', 'njia', 'tofauti', '”', 'alisema', 'Waiguru', 'Kila', 'Kaunti', 'nchini', 'Kenya', 'ina', 'majina', 'ya', 'wanawake', 'tajika', 'ambao', 'wapo', 'kwenye', 'tiketi', 'za', 'kuwania', 'nafasi', 'mbali', 'mbali', 'katika', 'uchaguzi', 'ujao', ',', 'kando', 'na', 'wadhifa', 'wa', 'urais', 'pekee', 'nafasi', 'nyingine', 'kama', 'ubunge', ',', 'useneta', ',', 'madiwani', 'na', 'gavana', 'yana', 'uakilishi', 'wa', 'wanawake', '.', 'Wanawake', 'kama', 'Aisha', 'Jumwa', 'kutoka', 'Pwani', 'ya', 'Kenya', ',', 'Gladys', 'Wanga', 'Magharibi', 'mwa', 'Kenya', ',', 'Peris', 'Tobiko', 'kutoka', 'kaunti', 'ya', 'Kajiado', ',', 'Sabina', 'Chege', 'kutoka', 'eneo', 'la', 'kati', 'mwa', 'Kenya', ',', 'Miliie', 'Odhiambo', ',', 'Magharibi', 'mwa', 'Kenya', 'na', 'Sophia', 'Abdi', 'Noor', 'kutoka', 'Kaskazini', 'mwa', 'Kenya', 'ni', 'miongoni', 'mwa', 'wengine', 'wengi', 'ambao', 'wanazidi', 'kupambana', 'na', 'wanaume', 'kuwania', 'nafasi', 'za', 'uongozi', 'wa', 'kisiasa', 'katika', 'sehemu', 'mbali', 'mbali', 'za', 'Kenya', '.', 'Huku', 'kampeini', 'zikishika', 'kasi', 'nchini', 'humo', 'wanawake', 'wanajizatiti', 'kujinadi', 'kwa', 'umma', 'kwa', 'njia', 'zote', 'kama', 'tu', 'wanavyofanya', 'wenzao', 'wa', 'kiume', '.', 'Wadadisi', 'wa', 'kisiasa', 'nchini', 'wanakubali', 'kwamba', 'wakati', 'huu', 'tiketi', 'iliyo', 'na', 'mwanamke', 'haipuuzwi', 'kama', 'ilivyokuwa', 'zamani', '.', 'Taswira', 'kamili', 'kuhusu', 'uwezekano', 'wa', 'mwanamke', 'kuiongoza', 'Kenya', 'siku', 'zijazo', 'itategemea', 'mengi-ikiwemo', 'matokeo', 'ya', 'uchaguzi', 'mkuu', 'wa', 'mwaka', 'huu', '.', 'Wengi', 'hata', 'hivyo', 'wanaafiki', 'kwamba', 'iwapo', 'kuliwahi', 'kuwa', 'na', 'uchaguzi', 'ambao', 'utatoa', 'njia', 'kwa', 'wanawake', 'kupata', 'ujasiri', 'zaidi', 'kupigania', 'wanachostahili-usawab', 'hatakatika', 'uongozi', ',', 'basi', 'ni', 'katika', 'uchaguzi', 'huu', '.', 'Mengi', 'pia', 'yatategemea', 'utayari', 'wa', 'wapiga', 'kura', 'kutembea', 'barabara', 'ambayo', 'wachache', 'wamethubutu', 'kuichukua']\n",
      "\n",
      " Number of Words:  1355\n"
     ]
    }
   ],
   "source": [
    "file=\"22Jun20.txt\"\n",
    "\n",
    "# calling the function and storing the contents in a text variable \n",
    "text = get_document(\"https://www.bbc.com/swahili/articles/c1wlg42967do\")\n",
    "\n",
    "# calling the store_ document function \n",
    "store_document(doc=text,name=file)\n",
    "\n",
    "#add the words in this file to the total_corpus_words, to keep count of the number of words in the corpus\n",
    "total_corpus_words+=total_words(file)"
   ]
  },
  {
   "cell_type": "code",
   "execution_count": 127,
   "metadata": {},
   "outputs": [
    {
     "data": {
      "text/plain": [
       "438116"
      ]
     },
     "execution_count": 127,
     "metadata": {},
     "output_type": "execute_result"
    }
   ],
   "source": [
    "total_corpus_words"
   ]
  },
  {
   "cell_type": "code",
   "execution_count": 128,
   "metadata": {},
   "outputs": [
    {
     "name": "stdout",
     "output_type": "stream",
     "text": [
      "['Uchaguzi', 'Kenya', '2022', ':', 'Mfahamu', 'mwenyekiti', 'wa', 'Tume', 'ya', 'Uchaguzi', 'nchini', 'Kenya', '24', 'Juni', '2022', 'Na', 'Dinah', 'Gahamanyi', 'BBC', 'Swahili', ',', 'Nairobi', 'Chanzo', 'cha', 'picha', ',', 'Getty', 'Images', 'Maelezo', 'ya', 'picha', ',', 'Wafula', 'Chebukati', 'Mwenyekiti', 'wa', 'Tume', 'ya', 'Uchaguzi', 'nchini', 'Kenya', '(', 'IEBC', ')', 'Wafula', 'Chebukati', 'mwanaume', 'mwenye', 'taaluma', 'ya', 'sheria', 'ndiye', 'Mwenyekiti', 'wa', 'Tume', 'huru', 'ya', 'uchaguzi', 'na', 'mipaka', '(', 'IEBC', ')', 'inayohusika', 'na', 'mchato', 'mzima', 'wa', 'uchaguzi', 'nchini', 'Kenya', '.', 'Wakati', 'Kenya', 'ikijiandaa', 'kwa', 'uchaguzi', 'mkuu', 'utaofanyika', 'tarehe', '9', 'Agosti', ',', '2022', ',', 'jina', 'Wafula', 'Chebukati', 'ni', 'muhimu', 'sana', 'katika', 'uchaguzi', 'wa', 'huu', ',', 'anategemewa', 'na', 'vyama', ',', 'miungano', 'ya', 'kisiasa', ',', 'wagombea', 'binafsi', 'na', 'Wakenya', 'kwa', 'ujumla', 'kuendesha', 'uchaguzi', 'wa', 'haki', 'na', 'huru', 'ili', 'kuhakikisha', 'Kenya', 'inakuwa', 'na', 'amani', 'na', 'utulivu', '.', 'Bwana', 'Chebukati', 'mwenye', 'umri', 'wa', 'miaka', '60', ',', 'sio', 'mgeni', 'katika', 'wadhfa', 'wa', 'Mwenyekiti', 'wa', 'IEBC', '.', 'Alikula', 'kiapo', 'cha', 'kuongoza', 'tume', 'hiyo', 'kwa', 'mara', 'ya', 'kwanza', 'mtarehe', '20', 'January', '20', ',', '2017', ',', 'alipomrithi', 'mtangulizi', 'wake', 'Issack', 'Hassan', '.', 'Wafula', 'Chebukati', ',', 'Mwenyekiti', 'wa', 'IEBC', 'ni', 'mwanaume', 'mwenye', \"'haiba\", 'ya', 'upole', \"'\", ',', 'lakini', 'asiyetetereka', 'anapochukua', 'maamuzi', 'ya', 'kazi', 'yake', \"'Mwanaume\", 'asiyetetereka', \"'\", 'Huku', 'akijiandaa', 'kusimamia', 'uchaguzi', 'wa', 'pili', 'wa', 'urais', 'na', 'uchaguzi', 'mkuu', 'kwa', 'ujumla', ',', 'ni', 'dhahiri', 'kwamba', 'mwanaume', 'huyu', 'mwenye', '``', 'haiba', 'ya', 'upole', \"''\", 'anafahamika', 'na', 'wengi', 'kuwa', 'mtu', 'asiyetetereka', 'wala', 'kuyumbishwa', 'anapofanya', 'kazi', 'yake', '.', 'Ni', 'mwanaume', 'anayeongea', 'kwa', 'sauti', 'upole', 'na', 'utaratibu', ',', 'lakini', 'kwa', 'wanaomfahamu', 'si', 'mtu', 'mwenye', 'kutafuna', 'maneno', ',', 'anachokiongea', 'huwa', 'anamaanisha', 'hicho', '.', 'Alinusurika', 'na', 'majaribio', 'kadhaa', 'ya', 'kutaka', \"kumng'oa\", 'kwenye', 'wadhifa', 'wake', 'hususan', 'baada', 'ya', 'Mahakama', 'ya', 'juu', 'zaidi', 'chini', 'ya', 'uongozi', 'wa', 'Jaji', 'Mkuu', 'David', 'Maraga', 'kubatilisha', 'matokeo', 'ya', 'uchaguzi', 'wa', 'urais', 'wa', 'mwaka', '2017', '.', 'Tume', 'anayoiongoza', 'anayoingoza', 'ilishutumiwa', 'zaidi', 'na', 'upinzani', 'kwa', 'udanganyifu', 'katika', 'mchakato', 'mzima', 'wa', 'upigaji', 'kura', 'na', 'ukusanyaji', 'wa', 'matokeo', '.', 'Hatahivyo', 'Bw', 'Chebukati', 'aliapa', 'kuwa', 'kamwe', \"hatang'oka\", 'mamlakani', 'akijitetea', 'mara', 'kwa', 'mara', 'kuwa', 'utendaji', 'wake', 'unafuata', 'misingi', 'ya', 'katiba', '.', 'Wengi', 'walitegemea', 'kuwa', 'msukosuko', 'mkubwa', 'uliotokana', 'na', 'mapambano', 'ya', 'ndani', 'ya', 'tume', 'ya', 'IEBC', 'ambayo', 'mara', 'kwa', 'mara', 'yamekuwa', 'yakifichua', 'mirengo', 'ya', 'kisiasa', 'wanayoegemea', 'baadhi', 'ya', 'wajumbe', 'na', 'wahudumu', 'muhimu', 'wa', 'IEBC', ',', 'yangemfanya', 'Bw', 'Chebukati', 'aondoke', ',', 'lakini', \"hakung'atuka\", '.', 'Mwenyekiti', 'huyo', 'wa', 'IEBC', 'alisema', 'makamishna', 'hao', 'watatu', 'hawakujiuzuru', 'kwa', 'kutokana', 'na', 'kanuni', 'za', 'kiutendaji', ',', 'bali', '``', 'sababu', 'halisi', 'ya', 'kujiuzuru', 'kwao', 'ni', 'uamuazi', 'wa', 'kikao', 'wa', 'kumuwajibisha', 'Afisa', 'mkuu', 'mtendaji', 'wa', 'tume', 'ya', 'uchaguzi', '(', 'Ezra', 'Chiloba', ')', '.', \"''\", \"'Hali\", 'ya', 'baadaye', 'ya', 'Kenya', 'iko', 'mikononi', 'mwake', \"'\", 'Kutokana', 'na', 'wadhifa', 'alionao', 'kikatiba', 'huenda', 'Bw', 'Wafula', 'Chebukati', 'akawa', 'ndiye', 'mwanaume', 'atakayeisaidia', 'Kenya', 'kuendelea', 'kuwa', 'nchi', 'imara', '.', 'Anafahamu', 'kuwa', 'atatakiwa', 'kusimamia', 'uchaguzi', 'wa', 'huru', 'na', 'haki', ',', 'na', 'wa', 'kuaminika', ',', 'ili', 'kutoa', 'hakikisho', 'la', 'amani', 'wakati', 'na', 'baada', 'ya', 'uchaguzi', 'kwa', 'Wakenya', 'ambao', 'kila', 'mara', 'unapofanyika', 'uchaguzi', 'wanakuwa', 'na', 'wasi', 'wasi', 'wa', 'ghasia', 'zinazosababisha', 'umwagaji', 'damu', ',', 'wakimbizi', 'wa', 'ndani', 'na', 'uharibifu', 'wa', 'mali', '.', 'Bila', 'shaka', 'atakumbuka', 'pigo', 'alilolipata', 'wakati', 'Mahakama', 'ya', 'juu', 'zaidi', 'nchini', 'Kenya', 'chini', 'ya', 'Jaji', 'mkuu', 'David', 'Maraga', ',', 'ilipobatilisha', 'uchaguzi', 'wa', 'mwaka', '2017', '.', 'Chanzo', 'cha', 'picha', ',', 'IEBC/TWITTER', 'Maelezo', 'ya', 'picha', ',', 'Naibu', 'Rais', ',', 'William', 'Samoei', 'Ruto', 'mgombea', 'wa', 'chama', 'cha', 'United', 'Democratic', 'Alliance', '-UDA', '(', 'kushoto', ')', 'akiwasilisha', 'nyaraka', 'za', 'uteuzi', 'wake', 'kwa', 'ajili', 'ya', 'kuidhinisha', 'na', 'Mwenyekiti', 'wa', 'IEBC', 'Wafula', 'Chebukati', '.', 'Uamuzi', 'huu', 'ulifuatiwa', 'na', 'hatua', 'ya', 'mgombea', 'wa', 'Muungano', 'wa', 'upinzani', 'Bw', 'Raila', 'Odinga', 'ya', 'kususia', 'kurudiwa', 'kwa', 'uchaguzi', ',', 'ambapo', 'aliikataa', 'bodi', 'ya', 'utawala', 'ya', 'tume', 'ya', 'IEBC', 'ya', 'kurekebisha', 'mapungufu', 'yaliyotambuliwa', 'na', 'Mahakama', 'Kuu', ',', 'jambo', 'lililoibua', 'uwezekano', 'wa', 'kuyumba', 'kwa', 'hali', 'nchini', '.', 'Bw', 'Wafula', 'Wanyonyi', 'Chebukati', 'alishuhudia', 'Bw', 'Odinga', 'akichukua', 'jukumu', 'la', 'tume', 'anayoiongoza', 'na', 'kujiapisha', 'binafsi', 'kama', \"'\", 'Rais', 'wa', 'Watu', \"'\", ',', 'baada', 'ya', 'Rais', 'Kenyatta', 'na', 'Naibu', 'wake', 'William', 'Ruto', 'kushinda', 'bila', 'kupingwa', 'katika', 'uchaguzi', 'wa', 'marudio', 'uliofanyika', 'Oktoba', '2017', ',', 'hatua', 'iliyoashiria', 'kuwa', 'mzozo', 'wa', 'kisiasa', 'ungekuwa', 'wa', 'muda', 'mrefu', '.', 'Mzozo', 'huo', 'ulisitishwa', 'tu', 'wakati', 'Bw', 'Kenyatta', 'na', 'Bw', 'Odinga', 'walipoamua', 'kuafikiana', 'kupitia', 'mkataba', 'maarufu', 'wa', \"'Handshake\", \"'\", 'mwezi', 'Machi', 'mwaka', 'huo', '.', 'Hali', 'hii', 'huenda', 'katika', 'uchaguzi', 'wa', 'Augosti', '9', ',', 'Bw', 'Chebukati', 'asipende', 'tena', 'kuishuhudia', 'ikitokea', 'akiwa', 'Mwenyekiti', 'wa', 'IEBC', '.', 'Chanzo', 'cha', 'picha', ',', 'IEBC/TWITTER', 'Maelezo', 'ya', 'picha', ',', 'Raila', 'Odinga', '(', 'kulia', ')', ',', 'mgombea', 'wa', 'urais', 'wa', 'Muungano', 'wa', 'Azimio', 'la', 'Umoja', ',', 'baada', 'ya', 'kuidhinishwa', 'na', 'tume', 'ya', 'IEBC', 'kugombea', 'kiti', 'cha', 'urais', ',', 'akipewa', 'cheti', 'na', 'Mwenyekiti', 'wa', 'IEBC', ',', 'Bw', 'Wafula', 'Chebukati', 'Wafula', 'Wanyonyi', 'Chebukati', 'ni', 'nani', '?', 'Wafula', 'Chebukati', 'alizaliwa', 'tarehe', '22', 'Disemba', ',', '1961', 'katika', 'kaunti', 'ya', 'Bungoma', 'magharibi', 'mwa', 'Kenya', '.', 'Alipata', 'elimu', 'yake', 'ya', 'sekondari', 'katika', 'chule', 'ya', 'Ssekondari', 'ya', 'Peters', 'Mumias', ',', 'Bokoli', 'Secondary', 'School', 'na', 'pia', 'katika', 'shule', 'ya', 'Lenana', 'High', 'School', ',', 'na', 'baada', 'ya', 'hapo', 'alijiunga', 'na', 'Chuo', 'kikuu', 'cha', 'Nairobi', 'ambako', 'alisomea', 'sheria', '.', 'Alihitimu', 'katika', 'Chuo', 'kikuu', 'cha', 'Nairobi', 'na', 'kupata', 'shahada', 'ya', 'sheria', 'mwaka', '1985', 'na', 'baadaye', 'akajiunga', 'na', 'Chuo', 'cha', 'sheria', 'cha', 'Kenya', 'na', 'kusajiriwa', 'kama', 'wakili', 'katika', 'mwaka', '1986', '.', 'Bw', 'Wafula', 'Chebukati', 'pia', 'ana', 'shahada', 'ya', 'uzamili', 'ya', 'utawala', 'wa', 'biashara', 'aliyoisome', 'katika', 'Chuo', 'kikuu', 'cha', 'Jomo', 'Kenyatta', '(', 'JKUAT', ')', '.', 'Wafula', 'Chebukati', 'amebobea', 'kisheria', 'katika', 'Nyanja', 'za', 'sheria', 'ya', 'kimataifa', 'ya', 'biashara', ',', 'sheria', 'ya', 'uwekezaji', ',', 'sheria', 'ya', 'ushirika', ',', 'na', 'sheria', 'kuhusu', 'utawala', 'na', 'mazingira', '.', 'Chanzo', 'cha', 'picha', ',', 'IEBC/TWITTER', 'Ni', 'muasisi', 'mwenza', 'wa', 'kampuni', 'ya', 'mawakili', 'ya', 'Cootow', '&', 'Associates', 'Advocates', ',', 'ambayo', 'ni', 'kampuni', 'ya', 'sheria', 'inayotoa', 'huduma', 'za', 'kisheria', 'kuanzia', 'za', 'usafirishaji', 'wa', 'majini', ',', 'usafiri', 'wa', 'ndege', ',', 'usuluhishi', ',', 'suluhu', 'mbadala', 'ya', 'mizo', '(', 'ADR', ')', 'bima', 'kwa', 'benki', 'na', 'sheria', 'za', 'kibiashara', '.', 'Mwaka', '2007', ',', 'Bw', 'Chebukati', 'alijitosa', 'kuwania', 'ubunge', 'wa', 'Saboti', 'kupitia', 'chama', 'cha', 'kisiasa', 'cha', 'chungwa', '(', 'Orange', 'Party', ')', 'lakini', 'alishindwa', 'na', 'Waziri', 'wa', 'sasa', 'wa', 'Eugene', 'Wamalwa', 'ambaye', 'wakati', 'huo', 'aligomea', 'kiti', 'hicho', 'kwa', 'tiketi', 'ya', 'chama', 'cha', 'Umoja', 'wa', 'kitaifa', '-Party', 'of', 'National', 'Unity', '(', 'PNU', ')', '.', 'Wakili', 'huyu', 'ambaye', 'kwa', 'sasa', 'ndiye', 'Mwenyekiti', 'wa', 'Tume', 'huru', 'ya', 'taifa', 'na', '(', 'IEBC', ')', 'alijiuzuru', 'kutoka', 'chama', 'cha', 'Chungwa', 'kabla', 'ya', 'kuomba', 'kazi', 'katika', 'tume', 'ya', 'hiyo', 'ya', 'uchaguzi', '.', 'Wakati', 'joto', 'la', 'kisiasa', 'likiendelea', 'kupanda', 'kuelekea', 'Uchaguzi', 'mkuu', 'hapo', 'tarehe', '09', 'Oktoba', ',', '2022', ',', 'Wakenya', ',', 'majirani', 'zao', 'na', 'dunia', 'kwa', 'ujumla', 'wanamtazamia', 'wakili', 'huyu', 'kuongoza', 'uchaguzi', 'huru', ',', 'wa', 'uwazi', 'na', 'wa', 'haki', 'ili', 'kutoa', 'hakikisho', 'la', 'hali', 'ya', 'amani', 'na', 'uthabiti', 'wa', 'Kenya', '.']\n",
      "\n",
      " Number of Words:  1067\n"
     ]
    }
   ],
   "source": [
    "file=\"22Jun24.txt\"\n",
    "\n",
    "# calling the function and storing the contents in a text variable \n",
    "text = get_document(\"https://www.bbc.com/swahili/articles/c51vlvlyplgo\")\n",
    "\n",
    "# calling the store_ document function \n",
    "store_document(doc=text,name=file)\n",
    "\n",
    "#add the words in this file to the total_corpus_words, to keep count of the number of words in the corpus\n",
    "total_corpus_words+=total_words(file)"
   ]
  },
  {
   "cell_type": "code",
   "execution_count": 129,
   "metadata": {},
   "outputs": [
    {
     "data": {
      "text/plain": [
       "439183"
      ]
     },
     "execution_count": 129,
     "metadata": {},
     "output_type": "execute_result"
    }
   ],
   "source": [
    "total_corpus_words"
   ]
  },
  {
   "cell_type": "code",
   "execution_count": 130,
   "metadata": {},
   "outputs": [
    {
     "name": "stdout",
     "output_type": "stream",
     "text": [
      "['Dereva', 'huyo', 'wa', 'kwanza', 'wa', 'Kenya', 'mlemavu', 'wa', 'miguu', 'hakuwahi', 'kufikiria', 'kuhusu', 'kuacha', 'mchezo', 'wa', 'magari', 'licha', 'ya', 'jeraha', 'lililobadilisha', 'maisha', '.', 'Badala', 'yake', ',', 'Sachania', 'ataanza', 'tena', 'kushiriki', 'mashindano', 'ya', 'magari', 'ya', 'langalanga', 'ya', 'Safari', 'Rally', 'yanayotarajiwa', 'kuanza', 'mjini', 'Nairobi', 'Alhamisi', '.', 'Tukio', 'hili', ',', 'linachukuliwa', 'kama', 'mojawapo', 'ya', 'mashindano', 'magumu', 'zaidi', 'duniani', ',', 'ni', 'la', 'sita', 'katika', 'mashindano', 'ya', 'dunia', 'ya', 'magari', 'na', 'ni', 'shindano', 'pekee', 'la', 'aina', 'yake', 'linalofanyika', 'katika', 'Afrika', '.', '``', 'Hakikuwa', 'kisa', 'cha', \"'Hii\", 'imetokea', 'kwasababu', 'ya', 'mchezo', 'wa', 'magari', ',', 'na', 'ninahitaji', 'kuzuwia', 'hili', \"'\", ',', \"''\", 'Sachania', 'mwenye', 'umri', 'wa', 'miaka', '33', 'aliiambia', 'BBC', 'michezo', 'Afrika', '.', 'Mapenzi', 'ya', 'mchezo', 'huu', 'wa', 'magari', 'ya', 'Sachania', 'yalianza', 'tangu', 'alipokuwa', 'na', 'umri', 'mdogo', ',', 'alipokuwa', 'akimtazama', 'baba', 'yake', 'akishindana', 'katika', 'mashindano', 'ya', 'washindi', 'ya', 'magari', '.', '``', 'Nilikuwa', 'nikienda', 'nje', 'na', 'kumsaidia', 'kama', 'fundi', 'wa', 'gari', 'mvulana', 'mdogo', ',', 'na', 'kuelewa', 'tu', 'kuhusu', 'mashindano', 'ya', 'langalanga', ',', \"''\", 'anasema', '.', \"'Sikuweza\", 'kuihisi', 'miguu', 'yangu', \"'\", 'Wakati', 'alipokuwa', 'kijana', 'mdogo', 'Sachania', 'tayari', 'alikuwa', 'ameanza', 'kupenda', 'matukio', 'ya', 'mchezo', 'wa', 'magari', ',', 'lakini', 'alipokuwa', 'na', 'umri', 'wa', 'miaka', '22', 'alipata', 'ajali', 'alipokuwa', 'akifanya', 'mazoezi', 'katika', 'gari', 'la', 'mataili', 'makubwa', 'ambayo', 'ilitishia', 'mapenzi', 'yake', 'ya', 'mchezo', '.', '``', 'Baada', 'ya', 'kupata', 'ajali', ',', 'nilikuwa', 'makini', 'sana', ',', \"''\", 'Sachania', 'anakumbuka', '.', '``', 'Niligundua', 'kitu', 'fulani', 'hakikuwa', 'sawa', 'miguuni', 'mwangu', 'lakini', 'kwa', 'kuwa', 'nilihisi', 'ongezeko', 'la', 'msukumo', 'wa', 'damu', ',', 'sikuhisi', 'kuwa', 'hali', 'ilikuwa', 'mbaya', '.', '``', 'Kichwani', 'mwangu', ',', 'nilikuwa', 'tu', 'ninafikiria', ',', \"'Oh\", 'baba', 'yangu', 'ataniua', '.', 'Atakasirika', \"'\", '.', \"''\", 'Sachania', 'alipelekwa', 'katika', 'hospitali', 'mjini', 'Nairobi', 'kufuatia', 'ajali', 'hiyo', ',', 'lakini', 'hawakuwa', 'na', 'vifaa', 'muhimu', 'vya', 'kufanya', 'operesheni', 'iliyohitajika', '.', 'Alihamishiwa', 'katika', 'hospitali', 'nchini', 'India', 'ambako', 'madaktari', 'walithibitisha', 'kuwa', 'hataweza', 'kutembea', 'tena', '.', 'Chanzo', 'cha', 'picha', ',', 'Other', 'Maelezo', 'ya', 'picha', ',', 'Sachania', 'anasema', 'katika', 'baadhi', 'ya', 'siku', 'wakati', 'alipokuwa', 'akitibiwa', 'jeraha', 'la', 'mgongo', 'lilimuelemea', '``', 'Baada', 'ya', 'kufanyiwa', 'upasuaj', ',', 'niligusa', 'miguu', 'yangu', 'na', 'sikuweza', 'kuihisi', '.', 'Ilikuwa', 'kama', 'nimegongwa', 'na', 'lundo', 'la', 'matofali', ',', \"''\", 'Sachania', 'anaeleza', '.', '``', 'Mtu', 'fulani', 'alinisaidia', 'kuwa', 'tayari', ',', 'mtu', 'fulani', 'alinisaidia', 'kuoga', ',', 'mtu', 'fulani', 'alinisaidia', 'kwenda', 'choo', 'na', 'halafu', 'nilihitaji', 'mtu', 'wa', 'kunisukuma', 'kwenda', 'kufanyiwa', 'mazoezi', 'ya', 'viungo', ',', 'kujaribu', 'na', 'kujifunza', 'jinsi', 'ya', 'kurejea', 'katika', 'maisha', 'ya', 'kawaida', '.', '``', 'Ilikuwa', 'ni', 'muhimu', ',', 'hususan', 'hiyo', 'miezi', 'michache', 'ya', 'kwanza', ',', 'kuelewa', 'kwamba', 'ndio', ',', 'maisha', 'yangu', 'yamebadilika', ',', 'lakini', 'kuna', 'njia', 'ya', 'kuishi', 'bado', 'maisha', 'ya', 'kawaida', '.', \"''\", 'Kwa', 'Sachania', ',', 'kuendelea', 'kuwa', 'na', 'mtizamo', 'chanya', 'ilikuw', 'amuhimu', 'ingawa', 'kwa', 'taktiban', 'miezi', 'minane', 'ya', 'kupona', ',', 'lakini', 'kulikuwa', 'na', 'siku', 'ambazo', 'alihisi', 'kuwa', 'nzito', 'kwake', '.', '``', 'Katika', 'siku', 'zangu', 'ngumu', ',', 'iinakuwa', 'ni', 'kwa', 'mfano', ';', 'Sitaki', 'kuongea', 'na', 'mtu', 'yeyote', ',', 'sitaki', 'kwenda', 'kufanyiwa', 'matibabu', ',', 'sitaki', 'tu', 'kuamka', ',', \"''\", 'anasema', '.', '``', 'Ninataka', 'tu', 'kuketi', ',', 'ninataka', 'tu', 'kullala', '.', 'Zilikuwa', 'siku', 'ngumuhizo', 'siku', 'chache', 'za', 'mwanzoni', '.', '``', 'Lakini', 'ni', 'lazima', 'ujikaze', '.', 'Nilikuwa', 'na', 'familia', 'kubwa', 'na', 'marafiki', 'wengi', ',', 'kwahiyo', 'nimekuwa', 'na', 'watu', 'wengi', 'wanaonizingira', 'ambao', 'walinitia', 'moyo', '.', 'Kurejea', 'katika', 'mashindano', 'ya', 'magari', '-', 'na', 'udhibi', 'wa', 'mkono', 'Chanzo', 'cha', 'picha', ',', 'Getty', 'Images', 'Maelezo', 'ya', 'picha', ',', 'Sachania', 'na', 'Patel', 'walishikilia', 'nafasi', 'ya', '21', 'katika', 'Safari', 'Rally', 'Kenya', 'mwaka', 'jana', 'Mwaka', '2014', ',', 'miaka', 'mitatu', 'baada', 'ya', 'ajali', ',', 'Sachania', 'alikuwa', 'amerudi', 'kwenye', 'usukani', '-', 'mara', 'hii', 'katika', 'gari', 'la', 'mashindano', 'lililofanyiwa', 'ukarabati', 'kulingana', 'na', 'ulemavu', 'wake', '.', '``', 'Kilikuwa', 'ni', 'moja', 'ya', 'vitu', 'vilivyonisisimu', 'sana', 'nilivyowahi', 'kufanya', ',', \"''\", 'anakumbuka', '.', '``', 'Nilipoanza', 'kwanza', ',', 'ilikuwa', 'rahisi', 'sana', 'kudhibiti', 'kwa', 'mkono', 'katika', 'uendesheji', 'wangu', 'wa', 'gari', 'wa', 'kawaida', '.', 'Na', 'katika', 'gari', 'langu', 'la', 'kwanza', 'la', 'mashindano', ',', 'nilikuwa', 'nimeweka', 'ukarabati', 'rahisi', 'wa', 'kusukuma', 'na', 'kudhibiti', '.', '``', 'Nilikuwa', 'naendesha', 'kwa', 'mkono', 'mmoja', 'kwenye', 'usukani', 'na', 'mkono', 'mwingine', 'nikiutumia', 'kubadilisha', 'gia', 'na', 'kushika', 'breki', '.', 'Siku', 'mbili', 'za', 'kwanza', 'kidogo', 'zilikuwa', 'ngumu', 'lakini', 'nilipozowea', ',', 'lilikuwa', 'ni', 'jambo', 'la', 'kawaid', '.', '``', 'Katika', 'sula', 'ya', 'kukata', 'kona', 'na', 'kufuata', 'muda', ',', 'hilo', 'linakuja', 'na', 'mazoezi', 'na', 'uzoefu', '.', \"''\", 'Tangu', 'wakati', 'huo', 'Sachania', 'amefuzu', 'katika', 'matumizi', 'ya', 'gari', 'linalodhibitiwa', 'kwa', 'mkono', 'ambalo', 'anaona', 'ni', 'rahisi', 'kulitumia', 'zaidi', ',', 'kwa', 'usaidizi', 'wa', 'Deep', 'Patel', '.', '``', 'Mara', 'nyingine', 'huwa', 'ninaketi', 'tu', 'nikimtazama', 'jinsi', 'anavyocheza', 'na', 'usukani', '.', 'Inafurahisha', 'sana', ',', \"''\", 'Patel', ',', 'ambaye', 'aliunda', 'timu', 'moja', 'na', 'Sachania', 'miaka', 'mitatu', 'iliyopita', '.', '``', 'Ni', 'mtu', 'ambaye', 'nimejifunza', 'makubwa', 'kutoka', 'kwake', '.', 'Watu', 'wengine', 'hawawezi', 'kuamini', 'kuwa', 'mtu', 'katika', 'kiti', 'cha', 'walemavu', 'kama', 'Nikhil', 'anakimbiza', 'gari', ',', 'inashangaza', 'sana', '.', \"''\", 'Uhusiano', 'wao', 'wa', 'dereva', 'na', 'muongozaji', 'ni', 'wa', 'kipekee', 'kwasababu', 'ya', 'ulemavu', 'wa', 'Sachani', '.', '``', 'Kwangu', 'mimi', ',', 'kipaumbele', 'changu', 'ni', 'yeye', ',', 'hata', 'iwe', 'vipi', ',', \"''\", 'Patel', 'anaelezea', '.', '``', 'Katika', 'mashindano', 'yaliyopita', ',', 'moshi', 'ulitokea', 'ndani', 'ya', 'gari', '.', 'Nilisema', 'egesha', 'gari', 'upande', 'wangu', 'kwahiyo', 'ikatoa', 'nafasi', 'kwa', 'upande', 'wake', 'ili', 'kama', 'anaweza', 'kuruka', 'nje', 'au', 'kama', 'ninaweza', 'kumbeba', 'nje', '.', \"''Hayo\", 'ni', 'mambo', 'ambayo', 'tunafikiria', 'kuyahusu', 'kila', 'mara', '.', 'kama', 'tutapata', 'pancha', ',', 'ni', 'mimi', 'ninayebadili', 'gurudumu', '.', 'Ninachukua', 'jukumu', 'la', 'kufanya', 'kila', 'kitu', '.', \"''\", 'Kuwa', 'na', 'mtizamo', 'chanya', 'Chanzo', 'cha', 'picha', ',', 'Other', 'Maelezo', 'ya', 'picha', ',', 'Sachania', 'na', 'Patel', ',', 'wakipokea', 'tuzo', 'mwaka', '2019', ',', 'wameshindana', 'pamoja', 'kwa', 'miaka', 'mitatu', 'Mwaka', 'huu', 'wawili', 'hao', 'watakuwa', 'miongoni', 'mwa', 'magari', '15', 'yanayoshindana', 'katika', 'kitengo', 'cha', 'taifa', 'katika', 'shindano', 'la', 'mwaka', 'huu', 'la', 'Safari', 'Rally', ',', 'bada', 'ya', 'kushikilian', 'nafasi', 'ya', '21', 'mwaka', 'jana', '.', 'Sachania', 'anatumai', 'kuendela', 'kushiriki', 'kwake', 'katika', 'mashindano', 'ya', 'aina', 'hiyo', 'kunaweza', 'kuwa', 'mfano', 'wa', 'kuigwa', 'na', 'wengine', ',', 'hata', 'kama', 'sio', 'kila', 'mtu', 'anayefahamu', 'kinachomchochea', 'kuendesha', 'gari', 'la', 'mashindano', 'baada', 'ya', 'ajali', '.', '``', 'Ninaona', 'jinsi', 'watu', 'wanavyofurahia', 'wanaponiona', ',', 'hasa', 'pale', 'ninaporuka', 'nje', 'ya', 'gari', 'na', 'watu', 'kugundua', 'niko', 'katika', 'kiti', 'cha', 'magurudumu', ',', \"''\", 'alisema', '.', 'Sachania', 'amekataa', 'kuruhusu', 'ajali', 'kuelezea', 'nini', 'anachoweza', 'kufanya', 'na', 'asichoweza', 'kufany', ',', 'na', 'kuhakikisha', 'anafurahia', 'uzoefu', 'mbali', 'mbali', 'wa', 'maisha', 'yake', '.', '``', 'Nimeisha', 'cheza', 'michezo', 'ya', 'kurupwa', 'kwa', 'kamba', 'kutoka', 'angani', '.', 'Mimi', 'ni', 'dereva', 'kwenye', 'kibali', '.', 'Ninashindana', 'katika', 'mashindano', 'ya', 'magari', '.', 'Ninakwenda', 'kufanya', 'kazi', '.', 'Yote', 'hayo', '.', 'Sijawahi', 'kuwa', 'na', 'wasi', 'wasi', 'pale', 'ninapokuwa', 'na', 'kitu', 'ninachoweza', 'kufanya', 'katika', 'kitu', 'ninachokifanya', '.', \"''\"]\n",
      "\n",
      " Number of Words:  1024\n"
     ]
    }
   ],
   "source": [
    "file=\"22Jun25.txt\"\n",
    "\n",
    "# calling the function and storing the contents in a text variable \n",
    "text = get_document(\"https://www.bbc.com/swahili/articles/cd1581nq8e8o\")\n",
    "\n",
    "# calling the store_ document function \n",
    "store_document(doc=text,name=file)\n",
    "\n",
    "#add the words in this file to the total_corpus_words, to keep count of the number of words in the corpus\n",
    "total_corpus_words+=total_words(file)"
   ]
  },
  {
   "cell_type": "code",
   "execution_count": 131,
   "metadata": {},
   "outputs": [
    {
     "data": {
      "text/plain": [
       "440207"
      ]
     },
     "execution_count": 131,
     "metadata": {},
     "output_type": "execute_result"
    }
   ],
   "source": [
    "total_corpus_words"
   ]
  },
  {
   "cell_type": "code",
   "execution_count": 134,
   "metadata": {},
   "outputs": [
    {
     "name": "stdout",
     "output_type": "stream",
     "text": [
      "['Uchaguzi', 'Kenya', '2022', ':', 'Raila', 'na', 'Ruto', 'watofautiana', 'kuhusu', 'sajili', 'ya', 'wapiga', 'kura', 'itakayotumiwa', '29', 'Juni', '2022', 'Na', 'Yusuf', 'Jumah', 'BBC', 'Swahili', 'Chanzo', 'cha', 'picha', ',', 'IEBC/TWITTER', 'Maelezo', 'ya', 'picha', ',', 'Mwenyekiti', 'wa', 'Tume', 'Huru', 'ya', 'Uchaguzi', 'na', 'Mipaka', 'nchini', 'Kenya', 'Wafula', 'Chebulati', 'Tume', 'huru', 'ya', 'Uchaguzi', 'na', 'mipaka', 'nchini', 'Kenya', 'sasa', 'ipo', 'katika', 'njia', 'panda', 'kuhusu', 'itakavyowaridhisha', 'wagombeaji', 'wawili', 'wakuu', 'wa', 'urais', 'katika', 'uchaguzi', 'mkuu', 'wa', 'Agosti', 'tarehe', 'tisa', 'mwaka', 'huu', '.', 'Mgombeaji', 'wa', 'urais', 'wa', 'muungano', 'wa', 'Azimio', 'One', 'Kenya', 'Raila', 'Odinga', 'na', 'mpinzani', 'wake', 'wa', 'Kenya', 'Kwanza', 'William', 'Ruto', 'ambaye', 'pia', 'ndiye', 'naibu', 'wa', 'Rais', 'wametofautiana', 'kuhusu', 'matumizi', 'ya', 'sajili', 'ya', 'elktroniki', 'na', 'ile', 'ya', 'kawaida', '(', 'Karatasi', ')', 'katika', 'uchaguzi', 'ujao', '.', 'Tume', 'ya', 'Uchaguzi', ',', 'IEBC', 'ilisema', 'haitatoa', 'sajili', 'za', 'wapiga', 'kura', 'kwenye', 'vituo', 'vya', 'kupigia', 'kura', 'na', 'kusisitiza', 'kutumia', 'mfumo', 'wa', 'kielektroniki', '.', 'Huku', 'Raila', 'akisema', 'kuna', 'haja', 'ya', 'matumizi', 'ya', 'rejista', 'za', 'kielektroniki', 'na', 'za', 'karatasi', 'za', 'wapiga', 'kura', 'katika', 'uchaguzi', 'ujao', ',', 'Ruto', 'alionekana', 'kuunga', 'mkono', 'uamuzi', 'wa', 'IEBC', 'wa', 'kutegemea', 'sajili', 'ya', 'wapigakura', 'wa', 'kielektroniki', 'pekee', '.', 'Raila', 'katika', 'hoja', 'zake', 'alitaka', 'kujua', 'ni', 'kwa', 'nini', 'IEBC', 'ilisita', 'kutumia', 'sajili', 'ya', 'wapiga', 'kura', 'iliyo', 'kwenye', 'karatasi', '.', 'Wakili', 'wake', 'Paul', 'Mwangi', 'aliteta', 'kuwa', 'hii', 'ni', 'kinyume', 'na', 'Sheria', 'ya', 'Uchaguzi', '.', 'Alisema', 'kuwa', 'sheria', 'inaitaka', 'tume', 'kuwa', 'na', 'daftari', 'la', 'mwongozo', 'la', 'wapiga', 'kura', 'kama', 'mfumo', 'wa', 'pili', 'wa', 'utambuzi', 'wa', 'wapiga', 'kura', 'endapo', 'mfumo', 'wa', 'kielektroniki', 'utafeli', '.', '``', 'Msisitizo', 'sio', 'kwamba', 'usitumie', 'teknolojia', '.', 'Tumia', 'mifumo', 'yote', 'ambayo', 'imeelezwa', 'lakini', 'sheria', 'inakutaka', 'uwe', 'na', 'mfumo', 'huo', 'iwe', 'utatumika', 'au', 'la', ',', \"''\", 'Mwangi', 'alisema', '.', 'Ruto', 'kwa', 'upande', 'wake', 'amesema', 'muungano', 'wa', 'Kenya', 'Kwanza', 'hauna', 'wasiwasi', 'na', 'matumizi', 'ya', 'rejista', 'ya', 'kielektroniki', 'mradi', 'tu', 'usalama', 'wake', 'umehakikishwa', '.', '``', 'Kumekuwa', 'na', 'ripoti', 'kwamba', 'Kenya', 'Kwanza', 'inataka', 'sajili', 'ya', 'kawaida', '.', 'Hatutaki', 'rejista', 'ya', 'kawaida', '.', 'Ukitupa', 'ulinzi', 'wa', 'kutosha', 'kwamba', 'ya', 'kielektroniki', 'itafanya', 'kazi', 'bila', 'uwezekano', 'wowote', 'wa', 'kufeli', 'basi', 'sisi', 'hatuna', 'pingamizi', ',', \"''\", 'Ruto', 'alisema', '.', 'Mgombea', 'huyo', 'wa', 'Kenya', 'Kwanza', 'alisema', 'matumizi', 'ya', 'vifaa', 'vya', 'kidijitali', 'katika', 'kuendesha', 'kura', 'ni', 'njia', 'katika', 'demokrasia', 'ya', 'kisasa', '.', 'Katibu', 'mkuu', 'wa', 'chama', 'cha', 'UDA-anachokiongoza', 'Ruto', ',', 'Veronicah', 'Maina', 'alikuwa', 'na', 'maoni', 'kwamba', 'daftari', 'la', 'wapiga', 'kura', 'linaweza', 'kuweka', 'njia', 'ya', 'udanganyifu', 'kwa', 'kuwafanya', 'watu', 'kupiga', 'kura', 'mara', 'mbili', '.', 'Alieleza', 'kuwa', 'rejista', 'hiyo', 'halisi', 'inatoa', 'nafasi', 'kwa', 'watu', 'kuingia', 'vituoni', 'na', 'kujifanya', 'wanathibitishwa', 'kutoka', 'kwa', 'sajili', 'halisi', 'ilhali', 'hawajatambuliwa', 'kupitia', 'mashine', 'maalum', 'ya', 'kilektroniki', 'ya', 'KIEMS', '.', '“', 'Kutokana', 'na', 'hayo', ',', 'tuna', 'wapigakura', 'wengi', 'ambao', 'hawajajiandikisha', 'wanaoingia', 'kwenye', 'vituo', '(', 'vya', 'kupigia', 'kura', ')', ',', 'kupata', 'karatasi', 'za', 'kupigia', 'kura', 'na', 'kupiga', 'kura', 'kwa', 'kukwepa', 'kifaa', 'cha', 'KIEMS', ',', '”', 'Maina', 'aliongeza', '.', 'Tume', 'Huru', 'ya', 'Uchaguzi', 'na', 'Mipaka', '(', 'IEBC', ')', 'ilifichua', 'kuwa', 'itatumia', 'mfumo', 'kamili', 'wa', 'upigaji', 'kura', 'wa', 'kibayometriki', 'katika', 'Uchaguzi', 'Mkuu', 'wa', 'Agosti', '9', '.', 'Katika', 'hali', 'ambapo', 'kitambulisho', 'cha', 'kibayometriki', 'kitashindikana', ',', 'maafisa', 'hao', 'watapitia', 'Mfumo', 'wa', 'Kusimamia', 'Uchaguzi', 'wa', 'Kenya', '(', 'KIEMS', ')', 'kwa', 'kutumia', 'nambari', 'ya', 'kitambulisho', ',', 'ambayo', 'itachukua', 'taarifa', 'za', 'mpigakura', 'ili', 'kutambuliwa.', '``', 'Vifaa', 'vya', 'KIEMS', 'hufanya', 'kazi', 'nje', 'ya', 'mtandao', 'katika', 'suala', 'la', 'utambulisho', ',', 'inafanya', 'kazi', 'kupitia', 'nakala', 'mbadala', '.', 'Maelezo', 'haya', 'yatakuwa', 'katika', 'kadi', 'ya', 'SD', 'na', 'ikiwa', 'kuna', 'hitilafu', 'kadi', 'ya', 'SD', 'inaweza', 'kuwekwa', 'kwenye', 'kifaa', 'kingine', ',', \"''\", 'Taarifa', 'hizo', 'zitajumuisha', 'alama', 'za', 'vidole', 'za', 'mpiga', 'kura', ',', 'ambazo', 'zitampa', 'nafasi', 'karani', 'wa', 'uchaguzi', 'kufanya', 'upya', 'kitambulisho', 'cha', 'alama', 'za', 'vidole', 'ili', 'kuthibitisha', 'utambulisho', 'wa', 'mpiga', 'kura', '.', 'IEBC', 'iliteta', 'kuwa', 'mbinu', 'ya', 'kusajili', 'kwa', 'mikono', 'ina', 'uwezekano', 'wa', 'kutumiwa', 'vibaya', 'ikisema', 'wapiga', 'kura', 'wanapotambuliwa', 'kupitia', 'teknolojia', ',', 'mfumo', 'huo', 'huweka', 'kiotomati', 'maelezo', 'ya', 'waliopiga', 'kura', 'kumaanisha', 'kwamba', 'ikiwa', 'mtu', 'huyo', 'atajiwasilisha', 'tena', ',', 'basi', 'mtu', 'huyo', 'hawezi', 'kupiga', 'kura', '(', 'tena', '.', ')', 'Chanzo', 'cha', 'picha', ',', 'IEBC/TWITTER', 'Maelezo', 'ya', 'picha', ',', 'Ruto', 'kwa', 'upande', 'wake', 'amesema', 'muungano', 'wa', 'Kenya', 'Kwanza', 'hauna', 'wasiwasi', 'na', 'matumizi', 'ya', 'rejista', 'ya', 'kielektroniki', 'mradi', 'tu', 'usalama', 'wake', 'umehakikishwa', '.', 'Masuala', 'mengine', 'yaliyojadiliwa', 'Kando', 'na', 'suala', 'hilo', 'la', 'sajili', 'ya', 'wapiga', 'kura', 'mengine', 'yaliyotolewa', 'na', 'timu', 'ya', 'Azimio', 'ni', 'utoaji', 'wa', 'orodha', 'ya', 'vituo', 'vyote', 'vya', 'kupigia', 'kura', ',', 'muundo', 'wa', 'karatasi', 'za', 'kupigia', 'kura', 'na', 'eneo', 'la', 'uchapishaji', 'na', 'idadi', 'ya', 'vifaa', 'vya', 'Kiems', 'vitakavyotumika', 'na', 'nambari', 'zao', 'za', 'mfululizo', '.', 'Timu', 'hiyo', 'pia', 'ilihoji', 'ni', 'kwa', 'nini', 'wasimamizi', 'kumi', 'kati', 'ya', '47', 'wa', 'kaunti', 'wa', 'tue', 'ya', 'uchaguzi', 'wanatoka', 'jamii', 'moja', '.', 'Pia', 'wanataka', 'wapewe', 'nakala', 'iliyoidhinishwa', 'ya', 'sajili', 'ya', 'wapigakura', ',', 'maelezo', 'ya', 'jinsi', 'kadi', 'za', 'SD', 'zitakavyopakiwa', 'kwenye', 'vifaa', 'vya', 'Kims', 'na', 'wafahamishwe', 'eneo', 'ambako', 'tume', 'ya', 'uchaguzi', 'itaweka', 'makao', 'yake', 'ya', 'kusimamia', 'shughuli', 'nzima', 'ya', 'kuhesabu', 'kura', '.', 'Azimio', 'pia', 'ilitaka', 'kujua', 'ni', 'kampuni', 'gani', 'itachapisha', 'karatasi', 'za', 'kupigia', 'kura', 'kwa', 'ajili', 'ya', 'uchaguzi', 'mkuu', '.', 'IEBC', 'ilisema', 'itajibu', 'masuala', 'yote', 'ya', 'kiufundi', 'yaliyotolewa', 'na', 'timu', 'ya', 'Azimio', 'na', 'wagombeaji', 'wengine', 'wa', 'urais', 'wiki', 'ijayo', '.', 'Naibu', 'Rais', 'William', 'Ruto', ',', 'mgombea', 'urais', 'wa', '(', 'UDA', ')', 'pia', 'alitoa', 'wasiwasi', 'wake', 'kuhusu', 'masuala', 'mbali', 'mbali', 'ya', 'uchaguzi', '.', 'Mwenyekiti', 'Wafula', 'Chebukati', 'alisema', 'timu', 'yake', 'imejitolea', 'kuandaa', 'majibu', 'kuhusu', 'masuala', 'yote', 'katika', 'kongamano', 'litakalofanyika', 'mapema', 'mwezi', 'ujao', '.', 'Alisema', 'kuwa', 'tarehe', 'itapangwa', 'kwa', 'wagombeaji', 'wote', 'wa', 'urais', 'kuzuru', 'kiwanda', 'kitakachochapisha', 'karatasi', 'za', 'kupigia', 'kura', 'siku', 'zijazo', '.']\n",
      "\n",
      " Number of Words:  865\n"
     ]
    }
   ],
   "source": [
    "file=\"22Jun29.txt\"\n",
    "\n",
    "# calling the function and storing the contents in a text variable \n",
    "text = get_document(\"https://www.bbc.com/swahili/articles/ckr9krp4m7ko\")\n",
    "\n",
    "# calling the store_ document function \n",
    "store_document(doc=text,name=file)\n",
    "\n",
    "#add the words in this file to the total_corpus_words, to keep count of the number of words in the corpus\n",
    "total_corpus_words+=total_words(file)"
   ]
  },
  {
   "cell_type": "code",
   "execution_count": 135,
   "metadata": {},
   "outputs": [
    {
     "data": {
      "text/plain": [
       "441072"
      ]
     },
     "execution_count": 135,
     "metadata": {},
     "output_type": "execute_result"
    }
   ],
   "source": [
    "total_corpus_words"
   ]
  },
  {
   "cell_type": "code",
   "execution_count": 136,
   "metadata": {},
   "outputs": [
    {
     "name": "stdout",
     "output_type": "stream",
     "text": [
      "[\"'Wakati\", 'mwingine', 'tunashinda', 'bila', 'chakula', \"'\", 'Florence', 'Kambua', '(', 'kushoto', ')', 'akitafuta', 'chochote', 'anachoweza', 'kupata', 'cha', 'kuuza', 'katika', 'takataka', '4', 'Julai', '2022', 'Baadhi', 'ya', 'familia', 'zinakula', 'mlo', 'mmoja', 'tu', 'kwa', 'siku', ',', 'au', 'hata', 'kushinda', 'siku', 'nzima', 'bila', 'kula', ',', 'kwasababu', 'ya', 'kupatanda', 'kwa', 'bei', 'ya', 'chakula', ',', 'Mwandishi', 'wa', 'BBC', 'Catherine', 'Byaruhanga', 'ameandika', 'kutoka', 'Nairobi', '.', 'Mapema', 'asubuhi', ',', 'nilimpata', 'Florence', 'Kambua', 'akisaka', 'huku', 'na', 'kule', 'kika', 'dangulo', 'la', 'takataka', 'nje', 'mbele', 'ya', 'nyumba', 'yake', 'kukusanya', 'plastiki', ',', 'majani', ',', 'nguo-', 'chochote', 'tu', 'anachoweza', 'kupata', 'na', 'kukiuza', 'katika', 'mji', 'mkuu', 'wa', 'Kenya', 'Nairobi', '.', 'Kambua', 'mwenye', 'umri', 'wa', 'miaka', '40', 'alikuwa', 'amevalia', 'sweta', 'nyeusi', 'na', 'viatu', 'vya', 'buti', 'za', 'plastiki', 'vya', 'zilizofika', 'kwenye', 'mgoti', '.', 'Kazi', 'yake', 'sio', 'rahisi', '.', 'Ni', 'kazi', 'hatari', 'pia', '.', 'Alikuwa', 'akipita', 'katika', 'vyakula', 'vilivyooza', 'na', 'nepi', 'zenye', 'uchafu', 'katika', 'makazi', 'duni', 'ya', 'Mukuru', 'Kwa', 'Njenga', '.', '``', 'Wakati', 'mwingine', 'huwa', 'napatwa', 'na', 'ugonjwa', 'wa', 'kuhara', ',', 'wakati', 'mwingine', 'unapatya', 'maambukizi', 'ya', 'kifua', '.', 'Nimeweza', 'kuvumilia', ',', 'kwasababu', 'sina', 'njia', 'nyingine', ',', \"''\", 'Bi', 'Kambua', 'ananiambia', '.', 'Mama', 'huyu', 'wa', 'watoto', 'dsita', 'amejipata', 'katika', 'hali', 'ngumu', 'kimaisha', '.', 'Kwanza', 'aliahamia', 'Nairobi', ',', 'mji', 'mkubwa', 'zaidi', 'Afrika', 'Msharaiki', ',', 'miaka', '19', 'iliyopita', 'akitumai', 'maisha', 'yake', 'yjayo', 'yatakuwa', 'mazuri', '.', 'Wakati', 'huo', 'alikosa', 'kazi', ',', 'baba', 'wa', 'watoto', 'wake', 'akamkimbia', 'na', 'kibanda', 'kidogo', 'cha', 'kuuza', 'chakula', 'alichokua', 'amekianzisha', 'kilibomolewa', 'kwa', 'ajili', 'ya', 'ujenzi', 'wa', 'barabara', 'ya', 'mwendo', 'kasi', 'inayopita', 'katikati', 'mwa', 'jiji', '.', 'Kwahyo', 'ni', 'kazi', 'gani', 'atakayofanya', 'ili', 'kuweza', 'kupata', 'chakula', '.', 'Hupata', 'kaibu', 'shilingi', '100', 'za', 'Kenya', 'kwa', 'siku', '(', 'sawa', 'na', '$', '0.85', ';', '£0.70', ')', '.', 'Kwa', 'kipato', 'hicho', 'cha', 'chini', 'Bi', 'Kambua', 'anasema', 'angeweza', 'kuilisha', 'familia', 'yake', 'kabla', 'ya', 'bei', 'za', 'vyakula', 'kupanda', 'juu', '.', '``', 'Watoto', 'wangu', 'wanapenda', 'wali', ',', 'ningeweza', 'kwenda', 'dukani', 'na', 'kununua', 'nusu', 'kilo', 'kwa', 'shilingi', '50', 'na', 'kuwapikia', '.', 'Sasa', 'hivi', 'huwezi', '.', \"''\", 'Chanzo', 'cha', 'picha', ',', 'Getty', 'Images', 'Maelezo', 'ya', 'picha', ',', 'Wanaharakati', 'wamekuwa', 'wakiitolea', 'wito', 'serikali', 'kuingilia', 'kati', 'ili', 'kuwasaidia', 'watu', 'wanaoumia', 'kwa', 'mfumuko', 'wa', 'bei', 'Sasa', 'anailisha', 'familia', 'yake', 'mara', 'moja', 'kwa', 'siku', ',', 'na', 'wakati', 'mwingine', 'hawalichakula', 'kabisa', '``', 'Nilikua', 'nikinunua', 'unga', 'wa', 'bei', 'rahisi', 'zaidi', 'kwa', 'sihilingi', '85', '.', 'Kwa', 'sasa', 'bei', 'yake', 'imepanda', 'na', 'kufikia', 'hadi', 'shilingi', '150', '.', 'Wakati', 'ninaposhindwa', 'pesa', ',', 'tunalala', 'njaa', '.', \"''\", 'Wiki', 'kadhaa', 'baada', 'ya', 'kukutana', ',', 'kuna', 'habari', 'mbaya', 'zaidi', 'kwa', 'Bi', 'Kambua', ',', 'kwan', 'wastani', 'wa', 'bei', 'ya', 'kilo', 'mbili', 'za', 'unga', 'wa', 'ugali', 'kwa', 'sasa', 'ni', 'zaidi', 'ya', 'shilingi', '200', ',', 'ongezeko', 'la', '25', '%', '.', 'Data', 'za', 'hvi', 'karibuni', 'za', 'Ofisi', 'ya', 'takwimu', 'ya', 'Kenya', 'zinaonyesha', 'kuwa', 'ongezeko', 'la', 'bei', 'chakula', 'hadi', '12.4', '%', 'zaidi', 'katika', 'mwezi', 'Mei', '2022', 'kuliko', 'ilivyokuwa', 'mwezi', 'Mei', 'mwaka', '2021', '.', 'Zao', 'la', 'mahindi', 'ambayo', 'hulimwa', 'nchini', 'Kenya', 'na', 'pia', 'kununuliwa', 'kutoka', 'nchi', 'jirani', ',', 'ni', 'chakula', 'kinacholiwa', 'na', 'familia', 'nyingi', 'nchini', 'Kenya', '.', 'Ni', 'chaguo', 'nafuu', 'kwa', 'wengi', 'katika', 'nyakati', 'ngumu', ',', 'lakini', 'Kennedy', 'Nyagah', ',', 'Mwenyekiti', 'wa', 'Muungano', 'wa', 'vyama', 'vya', 'wasagaji', 'wa', 'nafaka', ',', 'anasema', 'kwa', 'sasa', 'kuna', 'uhama', 'wa', 'bidhaa', 'hiyo', '.', '``', 'Ninaweza', 'kusema', 'ongezeko', 'la', 'bei', 'limetokana', 'na', 'ukosefu', 'wa', 'mavuno', 'uliotokana', 'na', 'ukosefu', 'wa', 'mvua', 'ya', 'kutosha', 'na', 'matatizo', 'kuhusu', 'bei', 'za', 'bidhaa', 'za', 'kilimo', 'kama', 'vile', 'mbolea', ',', \"''\", 'anasema', '.', 'Katika', 'soko', 'anakohemea', 'Bi', 'Kambua', ',', 'biashara', 'iko', 'chini', '.', 'Nilipotembelea', 'mara', 'mbili', 'katika', 'soko', 'hilo', ',', 'lilikuwa', 'sio', 'jambo', 'la', 'kushangaza', 'kuwaona', 'wateja', 'wakinunua', 'kitunguu', 'au', 'nyanya', 'moja', 'kwasababu', 'gharama', 'zake', 'zimekuwa', 'za', 'juu', '.', 'Maelezo', 'ya', 'picha', ',', 'Mukuru', 'Kwa', 'Njenga', 'ni', 'moja', 'ya', 'vitongoji', 'duni', 'vikubwa', 'zaidi', 'mjini', 'Nairobi', 'Ingawa', 'yuko', 'mbali', 'zaidi', 'na', 'Ukraine', ',', 'anafahamu', 'fika', 'athari', 'za', 'vita', 'kule', 'na', 'jinsi', 'vilivyosababisha', 'kupanda', 'kwa', 'bei', 'ya', 'mafuta', 'na', 'mbolea', '.', '``', 'Wakulima', 'wanalazimika', 'kutumia', 'pesa', 'nyingi', 'kwa', 'ajili', 'ya', 'kununua', 'mbole', 'ya', 'kukuza', 'nyanya', '.', 'Wengi', 'wao', 'wanaishia', 'kuacha', 'kabisa', 'kilimo', 'cha', 'nyanya', ',', 'kwasababu', 'ya', 'gharama', 'ya', 'mbolea', 'na', 'mbegu', 'za', 'nyanya', ',', \"''\", 'Bw', 'Nyabutohe', 'ananiambia', '.', 'Mita', 'mia', 'kadhaa', 'mbali', 'na', 'soko', 'anaishi', 'Bi', 'Catherine', 'Kanini', '–', 'yeye', 'hana', 'ajira', 'baada', 'ya', 'kufungwa', 'kwa', 'baa', 'alikokuwa', 'akifanyika', 'kazi', 'kubomolewa', 'kwa', 'ajili', 'ya', 'upanuzi', 'wa', 'barababara', 'inayounganishwa', 'barabara', 'ya', 'mwendo', 'kasi', '.', 'Mama', 'huyu', 'mwenye', 'umri', 'wa', 'miaka', '30', 'hawezi', 'kulipa', 'gharama', 'ya', 'kodi', 'ya', 'nyumba', ',', 'kwahiyo', 'alijijengea', 'mwenyewe', 'kibanda', 'kwa', 'kutumia', 'neti', 'za', 'kujikinga', 'na', 'mbu', ',', 'vipande', 'vya', 'plastiki', 'na', 'mbao', '.', 'Alifika', 'hapa', 'kutoka', 'Kaunti', 'ya', 'Kitui', 'mashariki', 'mwa', 'Kenya', 'na', 'sawa', 'na', 'watu', 'wengine', 'wenye', 'kipato', 'cha', 'chini', 'katika', 'maeneo', 'ya', 'mijini', 'anategemea', 'jamaa', 'zake', 'nyumbani', 'wamsaidie', 'wakakati', 'bei', 'za', 'bidhaa', 'zinapopanda', '.', 'Mama', 'yake', 'humtumia', 'chakula', 'kutoka', 'kijijini', ',', 'lakini', 'ukame', 'wa', 'mud', 'mrefu', 'unamaanisha', 'kuwa', 'hawezi', 'kufanya', 'hivyo', '.', '``', 'Kwa', 'sasa', ',', 'hali', 'ni', 'ya', 'ukame', 'sana', 'katika', 'eneo', 'la', 'kijijini', 'kwetu', '.', 'Hakuna', 'mvua', '.', 'Inaponyesha', 'ndio', 'kunakuwa', 'na', 'chakula', 'na', 'mama', 'yangu', 'anaweza', 'kunitumia', 'chakula', 'kiasi', ',', \"''\", 'Bi', 'Kanini', 'nanieleza', '.', '``', 'kwa', 'sasa', 'anatutegemea', 'sisi', 'tumtumie', 'kitu', 'cha', 'kula', '.', 'Anatutegemea', ',', 'huku', 'na', 'sisi', 'tuna', 'matatizo', 'huku', '.', \"''\", 'Maelezo', 'ya', 'picha', ',', 'Catherine', 'Kanini', '(', 'katikati', ')', 'alijenga', 'kibada', 'cha', 'kuishi', 'baada', 'ya', 'nyumba', 'yake', 'kubomolewa', 'Kupanda', 'kwa', 'gharama', 'za', 'maisha', 'kunakuja', 'wakati', 'ambapo', 'Kenya', 'inajiandaa', 'kufanya', 'uchaguzi', 'mkuu', 'tarehe', '9', 'Agosti', '.', 'Tatizo', 'hiil', 'limekuwa', 'likijitokeza', 'sana', 'katika', 'kampeni', 'za', 'wagombea', 'wakuu', 'wawili', 'wanaotaka', 'kumrithi', 'Rais', 'Uhuru', 'Kenyatta', '.', 'Naibu', 'wa', 'Rais', 'William', 'Ruto', 'anazungumzia', 'kuhusu', 'sera', 'ya', 'uchumi', 'wa', 'chini-juu', '``', 'bottoms-up', \"''\", 'ili', 'kuboresha', 'hali', 'ya', 'uchumi', 'huku', 'kiongozi', 'wa', 'muda', 'mrefu', 'wa', 'upinzani', 'Raila', 'Odinga', 'ameahidi', 'kuzipatia', 'familia', 'masikini', 'pesa', '.', 'Bi', 'Kanini', 'ana', 'ushauri', 'wake', 'binafsi', 'kwao', '.', '``', 'Ningependekeza', 'kwamba', 'wafungue', 'viwanda', 'na', 'kutupatia', 'kazi', '.', 'Wanapaswa', 'kupunguza', 'bei', 'za', 'bidhaa', 'ambazo', 'bei', 'yake', 'imeongezeka', '.', 'Ili', 'wakati', 'unapoweza', 'kupata', 'pesa', 'kidogo', 'uweze', 'kununua', 'chakula', '.', \"''\", 'Mchambuzi', 'wa', 'International', 'Crisis', 'Group', 'Meron', 'Elias', 'anaonya', 'kwamba', 'mzozo', 'wa', 'gharama', 'ya', 'maisha', 'unaweza', 'kusababisha', 'ukosefu', 'wa', 'udhabiti', ',', 'hususan', 'ni', 'katika', 'uchaguzi', 'wenye', 'ushindani', 'mkali', '.', '``', 'Ingawa', 'matokeo', 'ya', 'uchaguzi', 'hayajulikani', '-', 'tunahofia', 'kuwa', 'gharama', 'ya', 'juu', 'ya', 'chakula', 'na', 'hali', 'mbaya', 'ya', 'kiuchumi', 'kwa', 'ujumla', 'inaweza', 'kutumiwa', 'na', 'wanasiasa', 'kuwakusanya', 'umati', 'wa', 'watu', 'wanasikitishwa', 'na', 'hali', 'hii', 'kuingia', 'mitaani', '.', 'Pia', 'inasababisha', 'hatari', 'kwamba', 'vijana', 'wasio', 'na', 'ajira', 'wanaweza', 'kuingizwa', 'katika', 'magenge', 'ya', 'kufanya', 'ghasia', 'wakati', 'wa', 'kipindi', 'cha', 'uchaguzi', '.', \"''\"]\n",
      "\n",
      " Number of Words:  1036\n"
     ]
    }
   ],
   "source": [
    "file=\"22July4.txt\"\n",
    "\n",
    "# calling the function and storing the contents in a text variable \n",
    "text = get_document(\"https://www.bbc.com/swahili/articles/cv2n55dql15o\")\n",
    "\n",
    "# calling the store_ document function \n",
    "store_document(doc=text,name=file)\n",
    "\n",
    "#add the words in this file to the total_corpus_words, to keep count of the number of words in the corpus\n",
    "total_corpus_words+=total_words(file)"
   ]
  },
  {
   "cell_type": "code",
   "execution_count": 137,
   "metadata": {},
   "outputs": [
    {
     "data": {
      "text/plain": [
       "442108"
      ]
     },
     "execution_count": 137,
     "metadata": {},
     "output_type": "execute_result"
    }
   ],
   "source": [
    "total_corpus_words"
   ]
  },
  {
   "cell_type": "code",
   "execution_count": 138,
   "metadata": {},
   "outputs": [
    {
     "name": "stdout",
     "output_type": "stream",
     "text": [
      "['Urusi', 'na', 'Ukraine', ':', 'Ukraine', 'yaripoti', 'kupigwa', 'na', 'msahambulio', 'ya', 'makombora', 'ya', 'masafa', 'kusini', 'na', 'mashariki', 'Getty', 'ImagesCopyright', ':', 'Getty', 'Images', 'Jengo', 'la', 'ghorofa', 'linaloungua', 'baada', 'ya', 'kupigwa', 'na', 'kombora', 'la', 'Warusi', 'katika', 'Siversk', ',', 'mashariki', 'mwa', 'UkraineImage', 'caption', ':', 'Jengo', 'la', 'ghorofa', 'linaloungua', 'baada', 'ya', 'kupigwa', 'na', 'kombora', 'la', 'Warusi', 'katika', 'Siversk', ',', 'mashariki', 'mwa', 'Ukraine', 'Mashambulio', 'ya', 'makombora', 'ya', 'masafa', 'ya', 'Urusi', 'na', 'roketi', 'vimesababisha', 'uharibifu', 'mkubwa', 'kote', 'mashariki', 'na', 'kusini', 'mwa', 'Ukraine', ',', 'maafisa', 'wa', 'majimbo', 'hayo', 'wanasema', '.', 'Raia', 'wanne', 'wameuawa', 'katika', 'shambulio', 'lililofanyika', 'katika', 'mji', 'wa', 'Siversk', ',', 'uliopo', 'katika', 'jimbo', 'la', 'Donetsk', 'region', ',', 'gavana', 'wa', 'eneo', 'Pavlo', 'Kyrylenko', 'amesema', '.', 'Maeneo', 'ya', 'raia', 'ya', 'Druzhkivka', ',', 'katika', 'jimbo', 'hilo', ',', 'pia', 'yalipigwa', '.', 'Duka', 'la', 'bidhaa', 'za', 'jumla', 'liliharibiwa', 'na', 'shimo', 'refu', 'linaonekana', 'kando', 'yake', '.', 'BBC', 'haikuweza', 'kudhibitisha', 'taarifa', 'za', 'mashambulio', 'ya', 'hivi', 'karibuni', '.', 'Vikosi', 'vya', 'ardhini', 'vya', 'Urusi', 'havionekani', 'kusonga', 'mbele', 'katika', 'kipindi', 'cha', 'saa', '24', 'katika', 'jaribio', 'lao', 'la', 'kuyachukua', 'maeneo', 'mengine', 'ya', 'jimbo', 'la', 'Donetsk', '..', 'AFPCopyright', ':', 'AFP', 'Shimo', 'linaloaminiwa', 'kuwa', 'limetokana', 'na', 'kombora', 'lililopiga', 'katika', 'eneo', 'la', 'DruzhkivkaImage', 'caption', ':', 'Shimo', 'linaloaminiwa', 'kuwa', 'limetokana', 'na', 'kombora', 'lililopiga', 'katika', 'eneo', 'la', 'Druzhkivka', 'Maafisa', 'wa', 'Ukraine', 'pia', 'waliripoti', 'kuwa', 'makombora', 'ya', 'Urusi', 'yalipiga', 'katika', 'maeneo', 'ya', 'Kharkiv', ',', 'kaskazini', ',', 'Mykolaiv', 'kusini', 'na', 'Kryvyi', 'Rih', ',', 'mji', 'wa', 'kaskazini', 'mashariki', 'waMykolaiv', '.', 'Mkenya', 'Angella', 'Okutoyi', 'ashinda', 'kwa', 'mara', 'ya', 'kwanza', 'taji', 'la', 'tenis', 'la', 'Wimbledon', 'BBCCopyright', ':', 'BBC', 'Angella', 'Okutoyi', ',', 'ni', 'Mkenya', 'wa', 'kwanza', 'kushinda', 'mashindano', 'ya', 'WimbledonImage', 'caption', ':', 'Angella', 'Okutoyi', ',', 'ni', 'Mkenya', 'wa', 'kwanza', 'kushinda', 'mashindano', 'ya', 'Wimbledon', 'Historia', 'imeandikwa', 'katika', 'shindano', 'la', 'tenis', 'la', 'Wimbledon', 'wanawake', 'baada', 'ya', 'Mkenya', 'Angella', 'Okutoyi', 'kutoka', 'Kenya', 'akishirikiana', 'na', 'Mholanzi', 'Marie', 'Nijkamp', 'kuwa', 'mshindi', 'kwa', 'mara', 'ya', 'kwanza', 'katika', 'Wimbledon', '.', 'Bi', 'Angella', 'amekuwa', 'mshindi', 'wa', 'kwanza', 'wa', 'Kenya', 'kushinda', 'taji', 'hilo', '.', 'Shirikisho', 'la', 'kimataifa', 'la', 'mchezo', 'wa', 'Tenisi', 'ITF', 'limetuma', 'ujumbe', 'kwenye', 'ukurasa', 'wake', 'wa', 'Twitter', 'kuhusu', 'ushindi', 'wa', 'Bi', 'Angella', ':', 'Akiwa', 'na', 'umri', 'wa', 'miaka', '18', ',', 'Angella', 'Okutoyi', 'kutoka', 'nchini', 'Kenya', 'na', 'mchezaji', 'mwenza', 'anaonekana', 'kuwa', 'ndiye', 'nyota', 'wa', 'baadaye', 'wa', 'tenisi', 'wa', 'Afrika', '.', 'Lakini', 'njia', 'ya', 'kufikia', 'mafanikio', 'ya', 'juu', 'imekuwa', 'ngumu', 'kwake', 'kutokana', 'na', 'kukabiliwa', 'na', 'njaa', 'na', 'huzuni', 'katika', 'maisha', 'yake.Akizungumza', 'ya', 'na', 'BBC', 'Idhaa', 'ya', 'Kiswahili', 'awali', 'alisema', 'kuwa', 'amedhamiria', 'kutumia', 'ugumu', 'huu', 'kusukuma', 'mbele', 'mafanikio', 'yake', 'kwenye', 'tenisi', 'katika', 'siku', 'zijazo', ':', 'Kwa', 'picha', ':', 'Jinsi', 'Waislamu', 'washerehekea', 'siku', 'kuu', 'Eid', 'al-Adha', 'Waislamu', 'kote', 'dunia', 'wanasherehekea', 'siku', 'ya', 'Eid', 'al-Adha', '.', 'Waislamu', 'wamekusanyika', 'katika', 'Misikiti', 'na', 'viwanja', 'mbali', 'mbali', 'duniani', 'kuanzia', 'asubuhi', 'kwa', 'ajili', 'ya', 'sala', 'ya', 'Eid', 'al-Adha', '.', 'Leo', ',', 'ni', 'siku', 'ya', 'kumi', 'ya', 'mwezi', 'wa', 'Arafat', ',', 'ambayo', 'ni', 'siku', 'inayosherehekewa', 'na', 'Waislamu', 'wote', 'Duniani.Siku', 'hii', 'inasherehekewa', 'katika', 'maadhimisho', 'ambayo', 'mtume', 'Mohammad', 'alitoa', 'hmafundisho', 'yake', 'ya', 'mwisho', 'katika', 'Mlima', 'Arafat', 'karibu', 'na', 'Mecca', 'karibu', 'na', 'mwisho', 'wa', 'maisha', 'yake', '.', 'Hizi', 'ni', 'baadhi', 'ya', 'picha', 'za', 'Idd-', 'al', '-Adha', 'kutoka', 'baadhi', 'ya', 'maeneo', 'mbali', 'mbali', 'duniani', '.', 'Kinyang', '’', 'anyiro', 'cha', 'kumrithi', 'Waziri', 'mkuu', 'wa', 'Uingereza', ':', 'Ni', 'yapi', 'mapya', '?', 'Waziri', 'wa', 'zamani', 'wa', 'usawa', 'nchini', 'Uingereza', 'Kemi', 'Badenoch', 'amekuwa', 'wa', 'nne', 'kuwania', 'kiti', 'cha', 'JohnsonImage', 'caption', ':', 'Waziri', 'wa', 'zamani', 'wa', 'usawa', 'nchini', 'Uingereza', 'Kemi', 'Badenoch', 'amekuwa', 'wa', 'nne', 'kuwania', 'kiti', 'cha', 'Johnson', 'Zimekuwa', 'ni', 'siku', 'chache', 'za', 'heka', 'heka', 'katika', 'siasa', 'za', 'Uingereza', 'tangu', 'tangazo', 'la', 'kujiuzuru', 'kwa', 'Bw', 'Boris', 'Johnson', 'siku', 'ya', 'Alhamisi', '.', 'Haya', 'ni', 'yale', 'ambayo', 'yamekuwa', 'yakifanyika', 'kwa', 'ufupi', ':', '·Wabunge', 'wanajitokeza', 'katika', 'mapambano', 'ya', 'kuwa', 'kiongozi', 'wa', 'chama', 'cha', 'Conservative', 'na', 'Waziri', 'mkuu', '·Waziri', 'wa', 'zamani', 'wa', 'usawa', 'Kemi', 'Badenoch', 'amekuwa', 'mbunge', 'wa', 'hivi', 'karibuni', 'wa', 'Conservative', 'kuingia', 'katika', 'kinyang', '’', 'anyiro', 'hicho', '·Wengine', 'wanaotajwa', 'kuwa', 'wanaangalia', 'uwezekano', 'wa', 'kuwania', 'wadhifa', 'wa', 'Boris', 'Johnson', 'ni', 'pamoja', 'na', 'Waziri', 'wa', 'zamani', 'wa', 'afya', 'Sajid', 'Javid', ',', 'ambaye', 'kwa', 'sasa', 'ni', 'Waziri', 'wa', 'ulinzi', 'Ben', 'Wallace', ',', 'na', 'Waziri', 'wa', 'zamani', 'wa', 'mambo', 'ya', 'nje', 'Jeremy', 'Hunt', '·Muda', 'uliopangwa', 'kwa', 'ajili', 'ya', 'uchaguzi', 'wakiongozi', 'wa', 'chama', 'cha', 'Conservative', 'unatarajiwa', 'kuthibitishwa', 'wiki', 'ijayo', 'na', 'Waziri', 'mkuu', 'mpya', 'anatarajiwa', 'kuchukua', 'wadhifa', 'huo', 'mwezi', 'Septemba', '.', '``', 'Bodi', 'ya', 'Twitter', 'Board', 'imejitolea', 'kuzuwia', 'uhamishaji', 'wa', 'fedha', 'kuhusu', 'bei', 'na', 'masharti', 'yaliyofikiwa', 'kati', 'yake', 'na', 'Bw', 'Musk', ',', \"''\", 'Mwenyekiti', 'wa', 'Twitter', 'Bret', 'Taylor', 'aliandikakwenye', 'ujumbe', 'wake', 'wa', 'Twitter', ',', 'hatua', 'inayoashiria', 'uwezekano', 'wa', 'makabiliano', 'ya', 'muda', 'mrefu', 'ya', 'kisheria', 'baina', 'ya', 'pande', 'hizo', 'mbili', '.', 'Makubaliano', 'ya', 'makubwa', 'ya', 'awali', 'yalijumuisha', 'dola', 'bilioni', '1', '(', '£830m', ')', 'bila', 'kuvunjwa', '.', 'Mzozo', 'kuhusu', 'akaunti', 'gushi', 'Mwezi', 'Mei', ',', 'Bw', 'Musk', 'alisema', 'mkataba', 'ulikuwa', '``', 'umezuiwa', 'kwa', 'muda', \"''\", 'kwasababu', 'alikuwa', 'anasubiri', 'data', 'kuhusu', 'akaunti', 'feki', 'na', 'zisizotumiwa', 'za', 'Twitter', '.', 'Mfanyabiashara', 'huyo', 'bilionea', 'alikuwa', 'ameomba', 'ushahidi', 'wa', 'kuthibitisha', 'maelezo', 'ya', 'kampuni', 'kwamba', 'akaunti', 'gushi', 'na', 'zile', 'zisizotumiwa', 'ni', 'sawa', 'na', '5', '%', 'ya', 'watumiaji', 'wa', 'mtandao', 'huo', 'kwa', 'ujumla', '.', 'Katika', 'barua', 'iliyowasilishwa', 'na', 'taasisi', 'za', 'usalama', 'za', 'Marekani', 'na', 'tume', 'ya', 'ubadilishaji', 'wa', 'pesa', ',', 'wakili', 'wa', 'Bw', 'Musk', 'alisema', 'kuwa', 'Twitter', 'ilishindwa', 'au', 'ilikataa', 'kutoa', 'taarifa', 'hizi', '.', 'Mauji', 'ya', 'Shinzo', 'Abe', ':', 'Mwili', 'wa', 'Waziri', 'mkuu', 'wa', 'zamani', 'wa', 'Japan', 'warejeshwa', 'nyumbani', 'Getty', 'ImagesCopyright', ':', 'Getty', 'Images', 'Gari', 'lililoubeba', 'mwili', 'wa', 'Waziri', 'mkuu', 'wa', 'zamani', 'wa', 'Japan', 'Shinzo', 'Abe', 'limewasili', 'nyumbani', 'kwake', 'katika', 'mji', 'mkuu', 'wa', 'Tokyo', '.', 'Abe', 'alipigwa', 'risasi', 'na', 'kuuawa', 'alipokuwa', 'akizungumza', 'katika', 'mkutano', 'wa', 'kampeni', 'ya', 'kisiasa', 'Ijuamaa', 'kusini', 'mwa', 'mji', 'wa', 'Nara', '.', 'Polisi', 'wanaochukuza', 'mauaji', 'yake', 'wanasema', 'mshukiwa', 'aliyefyatua', 'risasi', 'aliwaambia', 'maafisa', 'kwamba', 'alikuwa', 'na', 'chuki', 'dhidi', 'ya', '‘', '’', 'shirika', 'maalum', '’', '’', 'Yamagami', 'aliamini', 'Shinzo', 'Abe', 'alikuwa', 'sehemu', 'ya', 'kundi', 'hilo', ',', 'ndiyo', 'maana', 'alimpiga', 'risasi', ',', 'wanaongeza', '.', 'Alipoulizwa', 'na', 'mjumbe', 'wa', 'vyombo', 'vya', 'habari', 'vya', 'Japan', 'kama', 'nia', 'ya', 'mpiga', 'risasi', 'huyo', 'ilikuwa', 'kumuua', 'Abe', ',', 'polisi', 'wanasema', 'tu', 'kwamba', 'Yamagami', 'alikiri', 'kumpiga', 'risasi', 'Waziri', 'Mkuu', 'huyo', 'wa', 'zamani', '.', 'Waziri', 'mkuu', 'wa', 'sasa', 'Fumio', 'Kishida', 'anatarajiwa', 'kutembele', 'eneo', 'la', 'tukio', 'leo', 'mchana', '.', 'Kulingana', 'na', 'taarifa', 'za', 'vyombo', 'vya', 'habari', 'nchini', 'humo', ',', 'kutakuwa', 'na', 'mkesha', 'siku', 'ya', 'Jumatatu', 'na', 'mazishi', 'ya', 'Bw', 'Abe', 'yatafanyika', 'Jumanne', '.', 'Abe', 'walikuwa', 'Waziri', 'mkuu', 'aliyehudumu', 'kwa', 'muda', 'mrefu', 'zaidi', 'nchini', 'Japan', 'na', 'kifo', 'chake', 'ambacho', 'kimetokea', 'akiwa', 'na', 'umri', 'wa', 'miaka', '67', ',', 'kimewashtua', 'wengi', 'katika', 'nchi', 'hiyo', 'ambako', 'visa', 'vya', 'uhalifu', 'wa', 'bunduki', 'ni', 'nadra', 'sana', '.', 'Aliawa', 'alipokuwa', 'akifanya', 'kampeni', 'kwa', 'ajili', 'ya', 'chama', 'chake', 'katika', 'uchaguzi', 'wa', 'bunge', 'wa', 'Jumapili', '.']\n",
      "\n",
      " Number of Words:  1055\n"
     ]
    }
   ],
   "source": [
    "file=\"22July9.txt\"\n",
    "\n",
    "# calling the function and storing the contents in a text variable \n",
    "text = get_document(\"https://www.bbc.com/swahili/live/habari-62104219\")\n",
    "\n",
    "# calling the store_ document function \n",
    "store_document(doc=text,name=file)\n",
    "\n",
    "#add the words in this file to the total_corpus_words, to keep count of the number of words in the corpus\n",
    "total_corpus_words+=total_words(file)"
   ]
  },
  {
   "cell_type": "code",
   "execution_count": 139,
   "metadata": {},
   "outputs": [
    {
     "data": {
      "text/plain": [
       "443163"
      ]
     },
     "execution_count": 139,
     "metadata": {},
     "output_type": "execute_result"
    }
   ],
   "source": [
    "total_corpus_words"
   ]
  },
  {
   "cell_type": "code",
   "execution_count": 140,
   "metadata": {},
   "outputs": [
    {
     "name": "stdout",
     "output_type": "stream",
     "text": [
      "['Kwa', 'bwana', 'Odinga', ',', 'ambaye', 'alijipatia', 'shahada', 'yake', 'kutoka', 'chuo', 'kikuu', 'cha', 'Ujerumani', 'alihojiwa', 'na', 'wapinzani', 'wake', '.', 'Wamekuwa', 'wakisambaza', 'cheti', 'chake', 'katika', 'mitandao', 'ya', 'kijamii', 'wanachodai', 'kutoka', 'chuo', 'kikuu', 'cha', 'Magdeburg', 'Ujerumani', 'wakisema', 'kwamba', 'shahada', 'hiyo', 'ya', 'bwana', 'Odinga', 'haikutoka', 'katika', 'taasisi', 'hiyo', '.', 'Lakini', 'chapisho', 'hilo', 'lenyewe', 'ni', 'bandia', 'na', 'kwamba', 'cheti', 'hicho', 'ni', 'halali', '.', 'Maelezo', 'ya', 'picha', ',', 'Chapisho', 'la', 'uwongo', 'linalodaiwa', 'kutoka', 'chuo', 'cha', 'Magdeburg', 'likikana', 'cheti', 'hicho', 'cha', 'bwana', 'Odinga', '.', 'Chapisho', 'hilo', 'bandia', 'hapo', 'juu', 'halijaorodheshwa', 'katika', 'mtandao', 'wa', 'facebook', 'wa', 'chuo', 'hicho', 'ama', 'hata', 'mitandao', 'mingine', 'ya', 'kijamii', '.', 'Hakuna', 'hata', 'akaunti', 'moja', 'yenye', 'rangi', 'ya', 'buluu', 'iliohusishwa', 'na', 'chuo', 'hicho', ',', 'huku', 'ile', 'ilio', 'bandia', 'ikiwa', 'nayo', '.', 'Kuna', 'mkanganyiko', 'zaidi', 'katika', 'habari', 'hii', '.', 'Machapisho', 'mengine', 'yamesambazwa', 'yakidai', 'kwamba', 'Saini', 'katika', 'cheti', 'hicho', 'ni', 'ya', 'muhadhiri', 'ambaye', 'angekuwa', 'na', 'umri', 'mdogo', 'sana', 'wakati', 'bwana', 'Odinga', 'alipokuwa', 'katika', 'chuo', 'hicho', '.', 'Chanzo', 'cha', 'picha', ',', 'Getty', 'Images', 'Maelezo', 'ya', 'picha', ',', 'Picha', 'ya', 'chapisho', 'la', 'Twitter', 'likisambaza', 'wasifu', 'bandia', 'wa', 'Profesa', 'Montag', 'Wanadai', 'kwamba', 'profesa', 'Montag', 'alikuwa', 'na', 'umri', 'wa', 'miaka', 'mitano', 'wakati', 'ambapo', 'bwana', 'Odinga', 'alikuwa', 'ametuzwa', 'cheti', 'hicho', '1969', '.', 'Hatahivyo', 'Chuo', 'hicho', 'kimethibitisha', 'uwepo', 'wa', 'Montag', 'mwengine', 'ambaye', 'alikuwa', 'mkuu', 'wa', 'kitengo', 'cha', 'uhandisi', 'wakati', 'ambao', 'bwana', 'Odinga', 'alikuwa', 'chuo', 'hicho', '.', 'Kuongezea', ',', 'utafiti', 'wa', 'data', 'ya', 'watu', 'waliosoma', 'Ujerumani', 'umebaini', 'kwamba', 'Profesa', 'Gerhad', 'Montag', 'ni', 'kweli', 'alichaguliwa', 'kama', 'profesa', 'wa', 'teknolojia', 'na', 'uhandisi', 'wa', 'mitambo', 'katika', 'huo', 'kikuu', 'cha', 'Magdeburg', '1966', '.', 'Vilevile', 'inaonekana', 'kwamba', 'chapisho', 'la', 'mtandao', 'wa', 'Wikipedia', 'la', 'Chuo', 'Kikuu', 'cha', 'Magdeburg', 'lilibadilishwa', 'ili', 'kutoa', 'dhana', 'potofu', 'kwamba', 'Bw', 'Odinga', 'hakuwahi', 'kusoma', 'hapo', '.', 'Tangu', 'wakati', 'huo', 'limerekebishwa', 'ili', 'kufafanua', 'kuwa', 'alikuwa', 'mwanafunzi', 'katika', 'taasisi', 'hiyo', '.', 'Chanzo', 'cha', 'picha', ',', 'Getty', 'Images', 'Maelezo', 'ya', 'picha', ',', 'Naibu', 'wa', 'rais', 'nchini', 'Kenya', 'William', 'Ruto', 'ni', 'mgombea', 'wa', 'muungano', 'wa', 'Kenya', 'Kwanza', 'Mpinzani', 'mkuu', 'wa', 'bwana', 'Odinga', 'ni', 'naibu', 'wa', 'rais', 'William', 'Ruto', 'ambaye', 'hata', 'naye', 'cheti', 'chake', 'cha', 'chuo', 'kikuu', 'kimehojiwa', '.', 'Wakati', 'huu', ',', 'madai', 'sio', 'kwamba', 'eti', 'hakupata', 'cheti', 'cha', 'shahada', ',', 'lakini', 'kwamba', 'utendaji', 'wake', 'alipokuwa', 'Chuo', 'Kikuu', 'cha', 'Nairobi', 'ulikuwa', 'wa', 'kiwango', 'cha', 'chini', 'kuliko', 'ilivyoelezwa', '.', 'Badala', 'ya', 'kupata', 'shahada', 'ya', 'pili', 'ya', 'daraja', 'la', 'juu', ',', 'chapisho', 'ghushi', 'lililosambaa', 'mtandaoni', 'linadai', 'kuwa', 'alipata', 'shahada', 'ya', 'chini', 'ya', 'daraja', 'la', 'pili', '.', 'Mbunge', 'mmoja', 'hata', 'alichapisha', 'cheti', 'chake', 'cha', 'shahada', 'mtandaoni', 'pamoja', 'na', 'kile', 'cha', 'bandia', '.', 'Maelezo', 'ya', 'picha', ',', 'Picha', 'ya', 'mtandao', 'wa', 'facebook', 'ikiwa', 'na', 'cheti', 'bandia', 'cha', 'bwana', 'Ruto', 'kama', 'ilivyochapishwa', 'na', 'mbunge', 'Babu', 'Owino', '.', 'Uchunguzi', 'wa', 'tovuti', 'ya', 'chuo', 'kikuu', 'cha', 'Nairobi', 'ulibaini', 'mara', 'moja', 'kwamba', 'bwana', 'Ruto', 'alipokea', 'matokeo', 'hayo', 'ya', 'kiwango', 'cha', 'juu', 'na', 'kwamba', 'chapisho', 'lililokuwa', 'likisambazwa', 'lilikuwa', 'bandia', '.', 'Chuo', 'hicho', 'kimechapisha', 'taarifa', 'katika', 'mtandao', 'wake', 'wa', 'Twitter', 'kikifutilia', 'mbali', 'cheti', 'hicho', 'bandia', '.', 'Video', 'bandia', 'Wakati', 'bwana', 'Odinga', 'alipoandaa', 'mkutano', 'wa', 'kampeni', 'hivi', 'majuzi', ',', 'mwanablogu', 'Dennis', 'Itumbi', 'anayemuunga', 'mkono', 'naibu', 'wa', 'rais', 'William', 'Ruto', ',', 'alichapisha', 'kanda', 'ya', 'vídeo', 'ya', 'watu', 'waliokuwa', 'wakitaja', 'jina', 'la', 'Ruto', 'wakati', 'walipoulizwa', 'wangempigia', 'kura', 'nani', '.', 'Swali', 'la', 'ni', 'nani', 'mutakayempigia', 'kura', 'linasikika', 'katika', 'kanda', 'hiyo', 'na', 'kelele', 'za', 'Ruto', ',', 'Ruto', ',', 'Ruto', 'zinasikika', '.', 'Sauti', 'hiyo', 'hatahivyo', 'ni', 'bandia', '.', 'Maelezo', 'ya', 'picha', ',', 'Picha', 'ya', 'Twitter', 'ya', 'mwanablogu', 'anayemuunga', 'mkono', 'Ruto', 'akidai', 'kuwa', 'umati', 'wa', 'watu', 'kwenye', 'mkutano', 'wa', 'Bw', 'Odinga', 'uliimba', 'jina', 'la', 'Ruto', '.', 'Video', 'hiyo', 'ilichapishwa', 'kwa', 'mara', 'ya', 'kwanza', 'na', 'akaunti', 'ya', 'twitter', 'ya', 'TikTok', 'ambayo', 'pia', 'imechapisha', 'video', 'nyengine', 'bandia', 'za', 'wanasiasa', 'ili', 'kuonesha', 'kwamba', 'watu', 'wanamuunga', 'mkono', 'bwana', 'Ruto', '.', 'Uchunguzi', 'wa', 'kanda', 'mbili', 'za', 'video', 'zilizokuwa', 'zikienda', 'hewani', 'moja', 'kwa', 'moja', 'kutoka', 'kwa', 'mkutano', 'wa', 'bwana', 'Odinga', 'zilizokuwa', 'mtandaoni', ',', 'hatahivyo', ',', 'zinaonesha', 'kwamba', 'sauti', 'hizo', 'za', 'watu', 'wakitaja', 'jina', 'la', 'Ruto', 'ziliongezwa', 'baadaye', '.', 'Katika', 'Video', 'halisi', ',', 'katibu', 'mkuu', 'wa', 'chama', 'cha', 'wafanyakazi', 'nchini', 'COTU', 'Francis', 'Atwoli', ',', 'ambaye', 'anamuunga', 'mkono', 'bwana', 'Odinga', ',', 'anasikika', 'akiwauliza', 'raia', 'katika', 'mkutano', 'kuhusu', 'ni', 'nani', 'wangemchagua', '.', 'Wanajibu', 'baba', ',', 'jina', 'la', 'utani', 'la', 'bwana', 'Odinga', 'Ruto', 'hakusita', 'kutaja', 'ufisadi', 'Ufisadi', 'umekuwa', 'suala', 'nyeti', 'katika', 'kampeni', 'za', 'sasa', ',', 'wagombea', 'wamejaribu', 'kuonesha', 'kwamba', 'wao', 'ndio', 'suluhu', 'ya', 'jinamizi', 'hilo', 'na', 'kwamba', 'wapinzani', 'wao', 'hawana', 'nia', 'njema', '.', 'Prof', 'Makau', 'Mutua', ',', 'msemaji', 'wa', 'kundi', 'la', 'kampeni', 'ya', 'bwana', 'Odinga', ',', 'alisema', 'kwamba', 'bwana', 'Ruto', 'hakutaja', 'hata', 'mara', 'moja', '‘', 'neno', 'ufisadi', '‘', '.']\n",
      "\n",
      " Number of Words:  722\n"
     ]
    }
   ],
   "source": [
    "file=\"22July11.txt\"\n",
    "\n",
    "# calling the function and storing the contents in a text variable \n",
    "text = get_document(\"https://www.bbc.com/swahili/articles/c1rq12j7x8xo\")\n",
    "\n",
    "# calling the store_ document function \n",
    "store_document(doc=text,name=file)\n",
    "\n",
    "#add the words in this file to the total_corpus_words, to keep count of the number of words in the corpus\n",
    "total_corpus_words+=total_words(file)"
   ]
  },
  {
   "cell_type": "code",
   "execution_count": 141,
   "metadata": {},
   "outputs": [
    {
     "data": {
      "text/plain": [
       "443885"
      ]
     },
     "execution_count": 141,
     "metadata": {},
     "output_type": "execute_result"
    }
   ],
   "source": [
    "total_corpus_words"
   ]
  },
  {
   "cell_type": "code",
   "execution_count": 142,
   "metadata": {},
   "outputs": [
    {
     "name": "stdout",
     "output_type": "stream",
     "text": [
      "[\"'Viongozi\", 'wajao', \"'\", 'wasiojali', 'kuhusu', 'kura', 'Mwenyekiti', 'wa', 'IEBC', 'Wafula', 'Chebukati', 'alisema', 'ripoti', 'ya', 'ukaguzi', 'ya', 'kampuni', 'ya', 'KPMG', 'iliyotolewa', 'mwezi', 'Juni', 'mwaka', 'huu', 'ilionyesha', 'kwamba', 'idadi', 'ya', 'vijana', 'waliosajiliwa', 'wenye', 'umri', 'wa', 'miaka', '18-34', 'inafikia', 'asilimia', '39.84', ',', 'ikiwa', 'ni', 'asilimia', '5.27', 'ikilinganishwa', 'na', '2017', '.', 'Alisema', 'ripoti', 'hiyo', 'ilionyesha', 'usajili', 'wa', 'vijana', 'wa', 'kiume', 'umepungua', 'kwa', 'asilimia', '2.89', 'katika', 'kipindi', 'cha', 'miaka', 'mitano', '.', 'Uchambuzi', 'zaidi', 'wa', 'takwimu', 'za', 'usajili', 'wa', 'vijana', 'unaonyesha', 'kupungua', 'kwa', 'idadi', 'ya', 'wapiga', 'kura', 'wa', 'kike', 'waliojiandikisha', 'kwa', 'asilimia', '7.75', 'kati', 'ya', '2017', 'na', '2022', ',', '”', 'Chanzo', 'cha', 'picha', ',', 'Getty', 'Images', 'Licha', 'ya', 'kutajwa', 'kama', '‘', 'viongozi', 'wa', 'siku', 'zijazo', '’', 'yamkini', 'vijana', 'wameonekana', 'kuwa', 'kama', 'hadhira', 'tu', 'katika', 'mchezo', 'wa', 'kina', 'kirefu', 'wa', 'siasa', 'za', 'Kenya', '.', 'Wanatumiwa', 'na', 'wanasiasa', 'kujaza', 'viwanja', 'vya', 'mikutano', 'ya', 'kisiasa', 'na', 'wakati', 'mwingine', 'wanachochewa', 'kufanya', 'ghasia', 'ilhali', 'wao', 'ndio', 'nguzo', 'muhimu', 'sana', 'katika', 'kuleta', 'unadhifu', 'katika', 'uongozi', 'ili', 'kusuluhisha', 'baadhi', 'ya', 'kero', 'zao', 'kubwa', 'kama', 'vile', 'ukosefu', 'wa', 'ajira', '.', 'Miaka', 'mingi', 'ya', 'ahadi', 'ambazo', 'vijana', 'wamepewa', 'na', 'wanasiasa', 'na', 'ambazo', 'hazijatimizwa', 'huenda', 'imechangia', 'wengi', 'kukosa', 'matumaini', 'kwamba', 'wanaweza', 'kuleta', 'mageuzi', 'kupitia', 'kura', '.', 'Kunao', 'hata', 'walioamua', 'kwamba', 'mchakato', 'mzima', 'wa', 'kupiga', 'kura', 'hauwafai', 'na', 'huo', 'ndio', 'mwanzo', 'wa', 'njia', 'panda', 'kwa', 'vijana', 'nchini', 'Kenya', '.', 'Ili', 'kufahamu', 'uchaguzi', 'huu', 'ujao', 'una', 'maana', 'gani', 'kwao', ',', 'BBC', 'Swahili', 'imezungumza', 'na', 'baadhi', 'yao', 'ambao', 'misimamo', 'na', 'kauli', 'zao', 'zinaweza', 'kutupa', 'taswira', 'ndani', 'ya', 'fikra', 'za', 'kundi', 'hili', 'muhimu', 'katika', 'uchaguzi', 'wa', 'Kenya', '.', 'Manny', 'Anyango,27', '‘', 'Kinachonichochea', 'sana', 'kupiga', 'kura', 'ni', 'imani', 'yangu', 'kwamba', 'kutakuwa', 'na', 'mabadiliko', \"'\", 'Itakuwa', 'mara', 'ya', 'kwanza', 'kwa', 'Manny', 'Anyango', 'kupiga', 'kura', 'katika', 'uchaguzi', 'huu', 'mkuu', '.', 'Kuna', 'mamilioni', 'ya', 'wengi', 'kama', 'yeye', 'ambao', 'watapiga', 'kura', 'kwa', 'mara', 'ya', 'kwanza', 'mwaka', 'huu', 'na', 'wao', 'ndio', 'waliobeba', 'matumaini', 'makubwa', 'kwamba', 'uchaguzi', 'huu', 'utaleta', 'mabadiliko', '.Watalenga', 'kuona', 'haki', 'yao', 'ya', 'kupiga', 'kura', 'ikiwapa', 'matunda', 'baada', 'ya', 'uchaguzi', '.', '‘', 'Kinachonichochea', 'sana', 'kupiga', 'kura', 'ni', 'imani', 'yangu', 'kwamba', 'kutakuwa', 'na', 'mabadiliko', ',', 'pia', 'nina', 'uchu', 'wa', 'kujua', 'mtu', 'anahisi', 'vipi', 'anapopiga', 'kura-ni', 'haki', 'ambayo', 'natamani', 'sana', 'kuitekeleza', '’', 'anasema', 'mwandishi', 'huyo', 'wa', 'habari', '.', 'Katika', 'jitihada', 'za', 'kuwavutia', 'vijana', 'wengi', 'na', 'hasa', 'wanaopiga', 'kura', 'kwa', 'mara', 'ya', 'kwanza', ',', 'wagombeaji', 'wametosa', 'mbinu', 'mbali', 'mbali', 'na', 'ahadi', 'zimekuwa', 'nyingi', 'kupindukia', 'ambazo', 'wanawalimbikizia', 'wapiga', 'kura', '.', 'Utekelezaji', 'wa', 'ahadi', 'hizi', 'hata', 'hivyo', 'unasalia', 'kuwa', 'ngano', 'za', 'kale', 'iwapo', 'historia', 'ya', 'siasa', 'za', 'ahadi', 'nchini', 'Kenya', 'ni', 'jambo', 'la', 'kutegemewa', 'hapa', '.', 'Wengi', 'wa', 'wagombeaji', 'tayari', 'wameshatoa', 'manifesto', 'zao', 'zenye', 'mipango', ',', 'mikakati', 'na', 'wanachoamini', 'ni', 'ufumbuzi', 'wa', 'kero', 'za', 'vijana', '.', '‘', 'Kama', 'mwanahabari', ',', 'nimefanikiwa', 'kusoma', 'na', 'kupitia', 'manifesto', 'zote', 'za', 'wagombeaji', ',', 'kuanzia', 'kwa', 'wale', 'wa', 'urais', 'hadi', 'kwa', 'mwakilishi', 'wadi-nimewatambua', 'wagombeaji', 'ambao', 'nimevutiwa', 'na', 'walichoandika-ila', 'sina', 'uhakika', 'iwapo', 'watayatekeleza', 'yote', '’', 'anasema', '.', 'Victoria', 'Wanjiku', ',', 'Wakili', 'Chanzo', 'cha', 'picha', ',', 'VICTORIA', 'WANJIKU', 'Maelezo', 'ya', 'picha', ',', 'Bado', 'sijaamua', 'iwapo', 'nitapiga', 'kura.Kwa', 'upande', 'mmoja', 'kupiga', 'kura', 'kunaonekana', 'kama', 'kupoteza', 'muda', 'kwa', 'upande', 'mwingine', 'nisingependa', 'kuona', 'baadhi', 'ya', 'viongozi', 'wakiwa', 'madarakani', '.', 'Kwa', 'wakili', 'chipukizi', ',', 'Victoria', 'Wanjiku', 'upigaji', 'kura', 'kwake', 'mwaka', 'huu', 'utakuwa', 'kama', '‘', 'silaha', 'ya', 'kinga', '’', '.', 'Anasema', 'haamini', 'wanasiasa', 'watazitekeleza', 'ahadi', 'nyingi', 'wanazozitoa', 'na', 'hasa', 'kwa', 'vijana', '.', 'Kwake', ',', 'ahadi', 'hizi', 'zimekuwa', 'kama', 'nyimbo', 'tangia', 'zamani', 'na', 'wanasiasa', 'wamejenga', 'ustadi', 'wakuzikariri', 'nyimbo', 'hizo', 'wakati', 'wa', 'kampeini', '.', '‘', 'Bado', 'sijaamua', 'iwapo', 'nitapiga', 'kura', '.', 'Kwa', 'upande', 'mmoja', 'kupiga', 'kura', 'kunaonekana', 'kama', 'kupoteza', 'muda', 'kwa', 'upande', 'mwingine', 'nisingependa', 'kuona', 'baadhi', 'ya', 'viongozi', 'wakiwa', 'madarakani', '.', 'Nitapiga', 'kura', 'kama', 'hatua', 'ya', 'kuzuia', 'na', 'natumai', 'tu', 'kwamba', 'kura', 'yangu', 'itakuwa', 'na', 'usemi', '’', 'anasema', '.', 'Chanzo', 'cha', 'picha', ',', 'VICTORIA', 'WANJIKU', 'Maelezo', 'ya', 'picha', ',', '‘', 'Tunaweza', 'tu', 'kutumaini', 'na', 'kuomba', 'kwamba', 'mageuzi', 'yaje', 'katika', 'miaka', '20', 'ijayo', '’', 'Victoria', ',', 'anashikilia', 'kwamba', 'mageuzi', 'yatahitaji', 'ukakamavu', 'kutoka', 'kwa', 'vijana', 'na', 'mageuzi', 'ya', 'kweli', 'husenda', 'yasije', 'Kenya', 'katika', 'miaka', 'kumi', 'ijayo', '.', '‘', 'Tunaweza', 'tu', 'kutumaini', 'na', 'kuomba', 'kwamba', 'mageuzi', 'yaje', 'katika', 'miaka', '20', 'ijayo', '’', 'anaongeza', '.', 'Msimamo', 'wake', 'huo', 'anasema', 'umetokana', 'na', 'kile', 'anachosema', 'ni', 'kuwepo', 'kwa', 'viongozi', 'wale', 'wale', 'ambao', 'licha', 'ya', 'kuhudumu', 'serikalini', 'kwa', 'miaka', 'ya', 'awali', ',', 'hakuna', 'walichofanya', 'kinachompa', 'imani', 'kwamba', 'watatekeleza', 'ahadi', 'wanazotoa', 'sasa', '.', 'Magdaline', 'Kemunto', 'Machogu', ',33', 'Chanzo', 'cha', 'picha', ',', 'MAGGY', 'YUNA', 'Maelezo', 'ya', 'picha', ',', '‘', 'Ikiwa', 'ningekuwa', 'na', 'pesa', 'ningeondoka', 'nchini', 'kwenda', 'likizo', 'mahali', 'fulani', 'huko', 'Caribean', 'wakati', 'wa', 'uchaguzi', '’', 'Kwa', 'Magdaline', 'Kemunto', ',', 'mchakato', 'mzima', 'wa', 'kampeini', 'na', 'upigaji', 'kura', 'ni', 'kipindi', 'ambacho', 'binafsi', 'humpa', 'hofu', '.', 'Haelewi', 'kwa', 'nini', 'lakini', 'anasema', 'panda', 'shuka', 'na', 'cheche', 'za', 'kipindi', 'kizima', 'cha', 'kampeni', 'huwa', 'kinaleta', 'hali', 'ya', 'wasi', 'wasi', 'katika', 'nchi', '.', '‘', 'Iwapo', 'ningekuwa', 'na', 'pesa', 'ningeondoka', 'nchini', 'kwenda', 'likizo', 'mahali', 'fulani', 'huko', 'Caribean', 'wakati', 'wa', 'uchaguzi', '’', 'anasema', 'huku', 'tabasamu', 'yake', 'ikiishiria', 'kwamba', 'ni', 'utani', '.']\n",
      "\n",
      " Number of Words:  789\n"
     ]
    }
   ],
   "source": [
    "file=\"22July12.txt\"\n",
    "\n",
    "# calling the function and storing the contents in a text variable \n",
    "text = get_document(\"https://www.bbc.com/swahili/articles/cw8309jqnxxo\")\n",
    "\n",
    "# calling the store_ document function \n",
    "store_document(doc=text,name=file)\n",
    "\n",
    "#add the words in this file to the total_corpus_words, to keep count of the number of words in the corpus\n",
    "total_corpus_words+=total_words(file)"
   ]
  },
  {
   "cell_type": "code",
   "execution_count": 143,
   "metadata": {},
   "outputs": [
    {
     "data": {
      "text/plain": [
       "444674"
      ]
     },
     "execution_count": 143,
     "metadata": {},
     "output_type": "execute_result"
    }
   ],
   "source": [
    "total_corpus_words"
   ]
  },
  {
   "cell_type": "code",
   "execution_count": 144,
   "metadata": {},
   "outputs": [
    {
     "name": "stdout",
     "output_type": "stream",
     "text": [
      "['``', 'Watoto', 'wangu', '9', 'niliojifungua', 'wakiwa', 'hai', 'walifariki', 'nikitizama', \"''\", 'Anaposimulia', 'matukio', 'katika', 'maisha', 'yake', 'utadhani', 'anasimulia', 'tamthilia', 'au', 'anakusimulia', 'sinema', 'fulani', 'ya', 'kustaajabisha', '.', 'Lakini', 'haya', 'ndio', 'maisha', 'halisi', 'ya', 'Bi', '.', 'Maggie', 'Wanjobi', ',', 'mwanamke', 'kutoka', 'Kaunti', 'ya', 'Kirinyaga', 'nchini', 'Kenya', '.', 'Katika', 'kipindi', 'cha', 'takriban', 'miaka', 'kumi', 'na', 'mitano', 'mwanamke', 'huyu', 'alipitia', 'uchungu', 'usioelezeka', 'kwani', 'alikuwa', 'anapata', 'ujauzito', ',', 'analea', 'mimba', 'hadi', 'kufikia', 'siku', 'ya', 'kujifungua', ',', 'ila', 'kati', 'ya', 'watoto', 'wake', 'kumi', 'na', 'wawili', ',', 'kumi', 'kati', 'yao', 'walifariki', 'baada', 'ya', 'kuishi', 'kati', 'ya', 'siku', 'mbili', 'na', 'mwezi', 'mmoja', 'pekee', '.', '“', 'Imekuwa', 'ni', 'safari', 'ndefu', 'ya', 'kutafuta', 'kuitwa', 'mama', ',', 'niliolewa', 'nikiwa', 'msichana', 'mwenye', 'umri', 'wa', 'miaka', '16', 'na', 'nikapata', 'ujauzito', 'mara', 'mmoja', '.', 'Kwa', 'miaka', 'mingi', 'nilifahamu', 'tu', 'uchungu', 'kwa', 'kuwa', 'nilikuwa', 'najifungua', 'mtoto', 'na', 'baada', 'ya', 'siku', 'anafariki', '.', 'Sio', 'kitu', 'ambacho', 'ninaweza', 'kumtakia', 'mama', 'yeyote', 'kwa', 'kweli', '”', 'anasema', 'Maggie', '.', 'Chanzo', 'cha', 'picha', ',', 'Maggie', 'Wanjobi', 'Matukio', 'ya', 'kushangaza', 'Maggie', 'hakufanikiwa', 'kuingia', 'shule', 'ya', 'sekondari', 'baada', 'kufaulu', 'vizuri', 'mtihani', 'wake', 'wa', 'kumaliza', 'shule', 'ya', 'msingi', '.', 'Kulingana', 'na', 'mwanadada', 'huyu', 'wanawake', 'wengi', 'waliozaliwa', 'katika', 'jamii', 'yao', 'walikuwa', 'wanapata', 'mimba', 'za', 'utotoni', 'au', 'kuolewa', 'mapema', 'kwahiyo', 'hakuwa', 'na', 'mfano', 'mwema', 'wa', 'kuendelea', 'na', 'masomo', 'yake', '.', '”', 'Kwetu', 'kulikuwa', 'na', 'historia', 'mbaya', 'ya', 'wasichana', 'kupata', 'ujauzito', 'wakati', 'wanapofanya', 'mitihani', 'ya', 'kumaliza', 'elimu', 'ya', 'msingi', ',', 'kwahiyo', 'ni', 'kana', 'kwamba', 'baba', 'hakuwa', 'tayari', 'alidhani', 'kwamba', 'nitakuwa', 'mjamzito', 'wakati', 'namalizia', 'shule', ',', 'ila', 'kwangu', 'ilikuwa', 'tofauti', 'sikupata', 'mimba', '.', 'Jamii', 'yangu', 'hawakunipeleka', 'shule', 'ya', 'sekondari', 'badala', 'yake', 'nilikwenda', 'katika', 'mkuu', 'Nairobi', 'kutafutia', 'kazi', 'za', 'nyumbani', '”', 'anakumbuka', 'Maggie', '.', 'Ulikuwa', 'mwaka', 'wa', '2000', 'alipoanza', 'kazi', 'za', 'kuwa', 'mfanyikazi', 'wa', 'nyumbani', 'akiwa', 'katika', 'pilkapilka', 'hizo', 'alikutana', 'na', 'mwanamume', 'ambaye', 'walianza', 'uhusiano', 'wa', 'kimapenzi', 'na', 'hatimaye', 'wakaingia', 'kwenye', 'uhusiano', 'wa', 'ndoa', '.', 'Hata', 'hivyo', 'anasema', 'kwamba', 'yeye', 'hakujua', 'maana', 'ya', 'ndoa', 'au', 'mapenzi', 'ni', 'kitu', 'gani', 'haswa', 'alipokuwa', 'katia', 'ndoa', 'hiyo', '.', 'Alifunga', 'ndoa', 'akiwa', 'na', 'umri', 'wa', 'miaka', '16', ',', 'na', 'anasema', 'maisha', 'ya', 'mwanzo', 'wa', 'ndoa', 'yalikuwa', 'na', 'changamoto', 'kwani', 'hakufahamu', 'majukumu', 'ya', 'kuwa', 'mke', 'na', 'jinsi', 'ya', 'kumtunza', 'mume', '.', 'Kulingana', 'na', 'mama', 'huyu', 'alikuwa', 'tayari', 'amepata', 'ujauzito', ',', 'ila', 'mimba', 'ilikuwa', 'imeingia', 'kwenye', 'mrija', 'unaounganisha', 'mfuko', 'wa', 'mayai', 'ua', 'uzazi', 'na', 'mfuko', 'wa', 'uzazi', '(', 'fallopian', 'tube', ')', 'na', 'ilisababisha', 'mshipa', 'wake', 'mmoja', 'kupasuka', ',', 'jambo', 'ambalo', 'lilimfanya', 'azimie', ',', 'na', 'kwamba', 'ilibidi', 'afanyiwe', 'upasuaji', 'wa', 'haraka', 'wa', 'kutoa', 'kijusi', 'kilichokuwa', 'ndani', 'ya', 'tumbo', 'lake', 'kwa', 'miezi', 'mitatu', '.', 'Mwanamke', 'huyu', 'anasema', 'kwamba', 'hakuwa', 'na', 'habari', 'ya', 'kuwa', 'alikuwa', 'mjamzito', ',', 'kwa', 'maana', 'hakufahamu', 'dalili', 'na', 'kwa', 'hilo', 'lilimshitua', 'sana', '.', 'Chanzo', 'cha', 'picha', ',', 'Maggie', 'Wanjobi', 'Kifo', 'baada', 'ya', 'kifo', 'Maggie', 'alirejea', 'nyumbani', 'na', 'kuendelea', 'kuuguza', 'vidonda', 'vya', 'upasuaji', ',', 'na', 'kuanzia', 'wakati', 'huo', 'alianza', 'kupata', 'mawaidha', 'kuhusu', 'ndoa', ',', 'kupanga', 'uzazi', 'na', 'na', 'mawaidha', 'mengine', 'ya', 'ndoa', '.', 'Hata', 'hivyo', 'ila', 'ilichukua', 'muda', 'kabla', 'ya', 'kupata', 'ujauzito', 'mwingine', '.', 'Yeye', 'na', 'mume', 'wake', 'waliamua', 'kupata', 'ushauri', 'wa', 'daktari', 'na', 'ndipo', 'walipoambiwa', 'kuwa', 'kulikuwa', 'na', 'matatizo', 'katika', 'kizazi', 'chake', 'yaliyotokea', 'baada', 'ya', 'kupata', 'ile', 'mimba', 'ya', 'kwenye', 'mrija', '(', 'fallopian', 'tube', ')', 'Mwaka', 'wa', '2002', 'alipata', 'ujauzito', 'mwingine', ',', 'na', 'anasema', 'mara', 'hii', 'alifuata', 'ushauri', 'wa', 'kliniki', ',', 'lakini', 'asubuhi', 'moja', 'aliamka', 'na', 'uchungu', 'mwingi', ',', 'kufika', 'hospitalini', 'alielezwa', 'kwamba', 'alikuwa', 'katika', 'hatari', 'na', 'alihitaji', 'upasuaji', 'wa', 'dharura', ':', '”', 'Nilipoamka', 'baada', 'ya', 'kufanyiwa', 'upasuaji', 'nilifahamishwa', 'kwamba', 'nilijifungua', 'mtoto', 'wa', 'kike', ',', 'ila', 'madaktari', 'walisema', 'kwamba', 'alikuwa', 'na', 'matizo', 'ambayo', 'yangemsababishia', 'kifo', '.', 'Lakini', 'mimi', 'niliamini', 'kuwa', 'wanangu', 'angeishi', '.', '”', ',', 'anakumbuka', 'Maggie', '.', 'Anasema', 'kwamba', 'baada', 'yakuwa', 'hospitalini', 'kwa', 'siku', 'kadhaa', ',', 'yeye', 'na', 'mwanae', 'waliruhusiwa', 'kurudi', 'nyumbani', '.', 'Hatahivyo', 'hata', 'baada', 'ya', 'kurejea', 'nyumbani', ',', 'mtoto', 'wao', 'alikuwa', 'kiugua', 'mara', 'kwa', 'mara', ',', 'hali', 'iliyowafanya', 'waende', 'watembelee', 'hospitalini', 'kwani', 'matatizo', 'ya', 'kiafya', 'ya', 'mtoto', 'yalikuwa', 'mengi', 'na', 'hata', 'wakati', 'mmoja', 'alilazimika', 'kulazwa', 'katika', 'chumba', 'cha', 'wagonjwa', 'mahututi', '.', 'Badala', 'ya', 'mwanaye', 'kuongeza', 'uzani', 'wa', 'mwili', 'baada', 'ya', 'kuzaliwa', 'aliendelea', 'kudhoofika', 'na', 'kupungua', 'uzito', 'wake', '.', 'Alizaliwa', 'na', 'uzito', 'wa', 'kilo', 'moja', 'nukta', 'sita', ',', 'lakini', 'hadi', 'alipofariki', 'akiwa', 'na', 'umri', 'wa', 'miezi', 'minne', 'alikuwa', 'na', 'uzito', 'wa', 'gramu', 'mia', 'saba', 'pekee', 'yake', ',', 'kulingana', 'na', 'Bi', 'Maggie', '.', '”', 'Maisha', 'yalibadilika', 'sana', 'baada', 'ya', 'kumzika', 'mtoto', 'wangu', ',', 'watu', 'walikuwa', 'wameanza', 'kuongea', 'mengi', 'kwa', 'mfano', ',', 'nilijifungua', 'mtoto', 'aliyekuwa', 'na', 'maumbile', 'ya', 'ajabu', ',', 'na', 'wengi', 'walizungumza', 'mengi', 'kuhusu', 'tukio', 'hilo', '”', ',', 'Maggie', 'anakumbuka', '.', 'Chanzo', 'cha', 'picha', ',', 'Maggie', 'Wanjobi', 'Mwaka', 'wa', '2004', 'Maggie', 'alipata', 'ujauzito', 'mwingine', 'na', 'mimba', 'ikaendelea', 'kukua', 'hadi', 'miezi', 'minane', ',', 'ambapo', 'alishauriwa', 'kufanyiwa', 'upasuaji', 'ili', 'kuokoa', 'maisha', 'ya', 'mtoto', '.', 'Lakini', 'mtoto', 'aliishi', 'kwa', 'siku', 'mbili', 'pekee', ',', 'akaaga', 'dunia', ',', 'anaongezea', 'kuwa', 'walifanya', 'shughuli', 'ya', 'mazishi', 'na', 'akazikwa', 'kama', 'mtoto', 'wapili', 'katika', 'shamba', 'lao', '.', 'Mwaka', 'wa', '2005', 'alipata', 'ujauzito', 'wa', 'tatu', 'na', 'akalea', 'mimba', 'hadi', 'mwisho', 'wake', 'iliwadia', 'wakati', 'kujifungua', 'na', 'akafanyiwa', 'upasuaji', 'ila', 'mtoto', 'aliishi', 'tu', 'kwa', 'wiki', 'mmoja', 'akaaga', 'dunia', '...', 'Maggie', 'na', 'jamaa', 'zake', 'walimbeba', 'mtoto', 'na', 'kumzika', '.', 'Miaka', 'ya', '2006', 'hadi', '2009', 'alipoteza', 'watoto', 'wengine', 'watatu', 'kila', 'baada', 'ya', 'kujifungua', 'walifariki', 'katika', 'njia', 'za', 'kutatanisha', 'kambapo', 'alielezwa', 'kuwa', 'alikuwa', 'mtoto', 'alikuwa', 'mgonjwa', 'au', 'kwamba', 'alichoka', 'akiwa', 'tumboni', '.', 'Mwisho', 'wa', 'ndoa', 'Hali', 'ya', 'kufiwa', 'na', 'watoto', 'sita', 'ilizua', 'misukosuko', 'katika', 'ndoa', 'yake', ',', 'hasa', 'anasema', 'mengi', 'yalizungumzwa', 'huku', 'wengi', 'wakijiuliza', 'iwapo', 'Maggie', 'ana', 'uwezo', 'wa', 'kubeba', 'mimba', 'na', 'kujifungua', 'mtoto', 'ambaye', 'ataishi', '.', '”', 'Mengi', 'yalizungumzwa', 'ikiwemo', 'kwamba', 'nimebadilisha', 'shamba', 'letu', 'kuwa', 'la', 'makaburi', 'ya', 'watoto', ',', 'na', 'kwamba', 'haitakubalika', 'tena', 'nijifungue', 'mtoto', 'ili', 'akajaze', 'shamba', 'na', 'kaburi', 'lingine', ',', 'haikuchukua', 'muda', 'kwa', 'mume', 'wangu', 'kuchoka', 'na', 'kuamua', 'kwamba', 'ilikuwa', 'wakati', 'nirejeshwe', 'nyumbani', 'kwetu', 'kwanza', '”', 'Maggie', 'anasema', '.', 'Mwanamke', 'huyu', 'anasema', 'kwamba', 'ndoa', 'yake', 'iliisha', 'wakati', 'mume', 'wake', 'pia', 'alionyesha', 'kuchoshwa', 'na', 'vifo', 'vya', 'kila', 'mtoto', 'wanayejaaliwa', '.', 'Mume', 'wake', 'alimsihi', 'Maggie', 'arejee', 'nyumbani', 'kwao', 'kwanza', 'apone', 'na', 'pia', 'kwa', 'kuwa', 'alikuwa', 'na', 'sonona', 'atulize', 'mawazo', '.', 'Maggie', 'alifahamu', 'kwamba', 'ilikuwa', 'ni', 'njia', 'ya', 'kiungwana', 'ya', 'kumfukuza', 'kwenye', 'boma', 'yake', '.', 'Baada', 'ya', 'hapo', 'mama', 'huyu', 'anasema', 'kwamba', 'mume', 'wake', 'alioa', 'mke', 'mwingine', 'punde', 'tu', 'alipoondika', 'nyumbani', 'kwake', '.', 'Ndoa', 'ya', 'pili', 'Mwaka', 'wa', '2009', 'Maggie', 'aliingia', 'kwenye', 'ndoa', 'nyengine', 'ambaye', 'tayari', 'alikuwa', 'amemueleza', 'mume', 'wa', 'pili', 'kuhusiana', 'na', 'masaibu', 'ya', 'kupoteza', 'watoto', 'kutokana', 'na', 'vifo', 'vilivyokuwa', 'havieleweki', '.', 'Na', 'kwa', 'hiyo', 'waliingia', 'kwenye', 'ndoa', 'hiyo', 'na', 'ikawa', 'ni', 'siri', 'kati', 'yake', 'na', 'mumewe', '.', 'Katika', 'Ndoa', 'ya', 'pili', 'alipata', 'uzauzito', 'mara', 'tatu', ',', 'mimba', 'ya', 'tisa', 'aliyoipata', 'mtoto', 'aliaga', 'dunia', ',', 'ila', 'mimba', 'ya', 'kumi', 'aliyoipata', 'mtoto', 'aliishi', 'na', 'leo', 'ana', 'umri', 'wa', 'miaka', '12', '.', 'Baada', 'ya', 'hapo', 'aalipata', 'mimba', 'ya', 'mapacha', ',', 'mtoto', 'mmoja', 'aliishi', 'baada', 'ya', 'kuzaliwa', 'ila', 'wa', 'pili', 'alifariki', '.', 'Kwa', 'jumla', 'Maggie', 'ni', 'mama', 'ya', 'watoto', '12', 'ila', 'ni', 'watoto', 'wawili', 'pekee', 'walio', 'hai', 'hii', 'leo', '.', 'Vile', 'vile', 'anasema', 'kwamba', 'ndoa', 'yake', 'ya', 'pili', 'ilifika', 'ukingoni', ',', 'pale', 'taarifa', 'kwamba', 'alikuwa', 'kwenye', 'ndoa', 'ya', 'kwanza', 'na', 'alikuwa', 'amepoteza', 'watoto', 'wengi', 'zilipowafikia', 'jamaa', 'wa', 'mume', 'wake', '.', 'Siri', 'hio', 'ilisababisha', 'kizaazaa', 'cha', 'ndoa', 'na', 'ikawa', 'kwamba', 'hawawezi', 'kuendelea', 'na', 'kuwa', 'katika', 'ndoa', '.', 'Maggie', 'anasema', 'kwamba', 'safari', 'ya', 'kujifungua', 'watoto', 'na', 'baada', 'ya', 'siku', ',', 'wiki', 'au', 'miezi', 'wanafariki', 'haijakuwa', 'nyepesi', ',', 'imejaa', 'majonzi', ',', '-', 'hofu', 'na', 'kusimangwa', 'sana', 'katika', 'jamii', '.', '”', 'Ilifika', 'wakati', 'nilianza', 'kusikia', 'baadhi', 'ya', 'watu', 'wakisema', 'kwamba', 'ninawatoa', 'watoto', 'wangu', 'kafara', ',', 'na', 'ikafika', 'wakati', 'ambapo', 'kila', 'mahali', 'nilipokuwa', 'napita', 'wakinifahamu', 'walikuwa', 'wananinyooshea', 'kidole', 'cha', 'lawama', 'wakisema', 'kwamba', 'ni', 'yule', 'mama', 'ambaye', 'anazaa', 'watoto', 'wanafariki', '”', 'Maggie', 'anasema', '.', 'Ila', 'anasema', 'kwamba', 'kadri', 'siku', 'zilivyokwenda', 'alijikubali', 'na', 'kukubali', 'hatma', 'iliyowaangukia', '.', 'Watoto', 'wake', 'walikifariki', 'wakiwa', 'wadogo', 'ila', 'anafarijika', 'kwamba', 'walau', 'ana', 'watoto', 'wawili', 'ambao', 'wako', 'hai', 'na', 'wanamkumbusha', 'kwamba', 'licha', 'ya', 'mahangaiko', 'ya', 'vifo', 'anayo', 'sababu', 'ya', 'kutabasamu', 'kwa', 'wanaoishi', '.', 'Maggie', 'anatumia', 'simulizi', 'la', 'maisha', 'yake', 'ya', 'kuwapoteza', 'watoto', 'kuwaelimisha', 'hasa', 'wanawake', ',', 'jinsi', 'ya', 'kukabiliana', 'na', 'mimba', 'zinazosumbua', 'au', 'inapotokea', 'kwamba', 'mama', 'atampoteza', 'mtoto', 'wake', '.', 'Kufahamu', 'mengi', 'zaidi', 'kuhusu', 'sababu', 'zinazoweza', 'kusababisha', 'vifo', 'vya', 'watoto', 'wanapozaliwa', 'au', 'muda', 'mfupi', 'baada', 'ya', 'kuzaliwa', ',', 'sikiliza', 'maelezo', 'ya', 'daktari', 'katika', 'matangazo', 'yetu', 'ya', 'Amka', 'na', 'BBC', 'na', 'katika', 'matangazo', 'yetu', 'ya', 'moja', 'kwa', 'moja', 'ya', 'Facebook', '(', 'BBC', 'Swahili', 'Facebook', ')', 'saa', 'nne', 'asubuhi', 'kwa', 'saa', 'Afrika', 'Mashariki', '.']\n",
      "\n",
      " Number of Words:  1360\n"
     ]
    }
   ],
   "source": [
    "file=\"22July13_1.txt\"\n",
    "\n",
    "# calling the function and storing the contents in a text variable \n",
    "text = get_document(\"https://www.bbc.com/swahili/articles/ckr9xm8xd1po\")\n",
    "\n",
    "# calling the store_ document function \n",
    "store_document(doc=text,name=file)\n",
    "\n",
    "#add the words in this file to the total_corpus_words, to keep count of the number of words in the corpus\n",
    "total_corpus_words+=total_words(file)"
   ]
  },
  {
   "cell_type": "code",
   "execution_count": 145,
   "metadata": {},
   "outputs": [
    {
     "data": {
      "text/plain": [
       "446034"
      ]
     },
     "execution_count": 145,
     "metadata": {},
     "output_type": "execute_result"
    }
   ],
   "source": [
    "total_corpus_words"
   ]
  },
  {
   "cell_type": "code",
   "execution_count": 150,
   "metadata": {},
   "outputs": [
    {
     "name": "stdout",
     "output_type": "stream",
     "text": [
      "['Kenya', ':', 'Maisha', 'katika', 'mazingira', 'ya', 'uhaba', 'mkubwa', 'wa', 'chakula', 'Katika', 'kituo', 'cha', 'usambazaji', 'wa', 'chakula', 'katika', 'kijiji', 'cha', 'Kachoda', ',', 'mama', 'mmoja', 'anaguna', 'huku', 'akipokea', 'nafaka', 'na', 'mafuta', 'ya', 'kupikia', '-', 'lakini', 'hana', 'uwezo', 'wa', 'kubeba', '.', 'Kifurushi', 'kinaanguka', 'chini', 'anapojaribu', 'kukiinua', 'kichwani', '.', 'Lakini', 'ni', 'miongoni', 'mwa', 'wachache', 'waliobahatika', 'ambao', 'wamechaguliwa', 'kupokea', 'msaada', 'huo', '–', 'kuna', 'mamia', 'ya', 'watu', 'wamekusanyika', 'nje', 'ya', 'kituo', 'cha', 'usambazaji', 'chakula', ',', 'wengi', 'wao', 'wakiwa', 'wamebeba', 'magunia', 'matupu', '.', 'Hakuna', 'nyasi', 'zinazoweza', 'kuonekana', 'katika', 'eneo', 'hili', 'lenye', 'vumbi', 'na', 'kavu', ',', 'ambalo', 'liko', 'karibu', 'na', 'mpaka', 'wa', 'Ethiopia', 'na', 'Sudan', 'Kusini', '.', 'Ninasafiri', 'na', 'Samantha', 'Power', ',', 'msimamizi', 'wa', 'Shirika', 'la', 'Maendeleo', 'la', 'Marekani', '(', 'USAid', ')', '.', 'Ametoa', 'wito', 'wa', 'msaada', 'zaidi', 'wa', 'kimataifa', '``', 'kuepusha', 'janga', 'la', 'njaa', \"''\", 'katika', 'eneo', 'hili', '.', 'Marekani', 'pekee', 'haiwezi', 'kukidhi', 'mahitaji', 'ya', 'watu', 'wanaohitaji', 'msaada', 'wa', 'dharura', 'barani', 'Afrika', ',', 'anasema', '.', 'Lakini', 'hata', 'yeye', 'binafsi', 'ameathirika', '.', '``', 'Ninajisikia', 'vibaya', 'sana', ',', 'inachoma', 'moyo', 'wangu', ',', \"''\", 'anasema', ',', 'akielezea', 'kuwa', 'alikuwa', 'ombaomba', 'baada', 'ya', 'ukame', 'wa', 'muda', 'mrefu', 'kufuta', 'chanzo', 'chake', 'pekee', 'cha', 'maisha', '-', 'mifugo', 'yake', '.', '``', 'Watoto', 'wangu', 'wanakuja', 'kuniomba', 'chakula', ',', 'lakini', 'sina', 'namna', 'ya', 'kuwapatia', 'chakula', '.', 'Siwezi', 'kujizuia', 'kulia', ',', 'machozi', 'yanatoka', 'tu', '.', 'Wanaomba', 'ada', 'ya', 'shule', ',', 'lakini', 'sina', 'chochote', '.', \"''\", 'Watoto', 'wake', 'wamelazimika', 'kuacha', 'shule', 'na', 'mkewe', 'amelazimika', 'kuzalisha', 'mkaa', 'na', 'kutafuta', 'kuni', 'ili', 'kuuza', '.', 'Bi', 'Power', ',', 'balozi', 'wa', 'zamani', 'wa', 'Marekani', 'katika', 'Umoja', 'wa', 'Mataifa', ',', 'anasema', 'USAID', 'imefanya', 'uwekezaji', 'wa', '$', '200m', '(', '£167m', ')', 'katika', 'virutubisho', 'vya', 'matibabu', 'nchini', 'Kenya', ',', 'ambapo', 'watoto', 'milioni', 'moja', 'wana', 'utapiamlo', ',', '``', 'lakini', 'zaidi', 'inahitajika', \"''\", '.', '``', 'Tunazungumza', 'juu', 'ya', 'upotezaji', 'mkubwa', 'wa', 'riziki', 'na', 'hatari', 'ya', 'upotezaji', 'mkubwa', 'wa', 'maisha', ',', \"''\", 'anasema', '.', '``', 'Na', 'ndio', 'maana', 'Marekani', 'imejitokeza', ',', 'lakini', 'mahitaji', 'hapa', 'ni', 'makubwa', 'zaidi', 'kuliko', 'nchi', 'yoyote', 'inaweza', 'kubeba', \"''\", '.', 'Samantha', 'Power', 'akutana', 'na', 'wenyeji', 'huko', 'Kachoda', '.', 'Mashirika', 'ya', 'misaada', 'yakiwemo', 'Shirika', 'la', 'Mpango', 'wa', 'Chakula', 'Duniani', 'yanasema', 'kuwa', 'takriban', 'watu', 'milioni', '50', 'katika', 'eneo', 'la', 'Pembe', 'ya', 'Afrika', '-', 'yaani', 'Somalia', ',', 'Djibouti', ',', 'Ethiopia', ',', 'Kenya', ',', 'Uganda', ',', 'Sudan', 'Kusini', 'na', 'Sudan', '-', 'wanaweza', 'kukabiliwa', 'na', 'uhaba', 'mkubwa', 'wa', 'chakula', 'mwaka', 'huu', 'ikiwa', 'hawatapata', 'msaada', 'wa', 'haraka', 'wa', 'chakula', '.', '``', 'Kuna', 'matukio', 'makubwa', 'ya', 'utapiamlo', 'katika', 'ngazi', 'ya', 'jamii', 'kati', 'ya', 'walio', 'chini', 'ya', 'miaka', 'mitano', ',', \"''\", 'anasema', 'Emily', 'Emoru', ',', 'mhusika', 'mkuu', 'wa', 'mkakati', 'wa', 'afya', 'ya', 'jamii', '.', 'Akina', 'mama', 'kadhaa', 'wenye', 'watoto', 'wenye', 'utapiamlo', 'mkali', 'wamekutana', 'na', 'Balozi', 'Power', 'katika', 'kituo', 'cha', 'afya', 'cha', 'Kachoda', '.', 'Mmoja', 'wao', 'alikuwa', 'Achwaa', 'Katabo', ',', 'mama', 'wa', 'watoto', 'wanane', '.', 'Akiwa', 'amemshika', 'mtoto', 'wake', 'aliyedhoofika', 'wa', 'miaka', 'mitatu', ',', 'anaeleza', 'jinsi', 'kila', 'anapopokea', 'chakula', 'kinachotakiwa', 'kudumu', 'kwa', 'mwezi', 'mmoja', 'au', 'miwili', ',', 'bado', 'atagawana', 'na', 'jamaa', 'na', 'majirani', ',', 'hivyo', 'kinaisha', 'ndani', 'ya', 'siku', 'chache', '.', 'Mbuzi', 'wake', 'wote', 'walikufa', 'kwa', 'njaa', '.', 'Mtoto', 'wake', 'aliandikishwa', 'kupata', 'virutubisho', 'vya', 'lishe', 'katika', 'kituo', 'cha', 'afya', ',', 'lakini', 'Emily', 'anasema', 'athari', 'kwa', 'kawaida', 'huwa', 'ya', 'muda', 'mfupi', '.', '``', 'Baada', 'ya', 'kuruhusiwa', 'kuingia', 'katika', 'jamii', ',', 'katika', 'kaya', 'ambayo', 'hawana', 'chakula', ',', 'watoto', 'hawa', 'kwa', 'kawaida', 'hurejea', ',', \"''\", 'anaelezea', '.']\n",
      "\n",
      " Number of Words:  531\n"
     ]
    }
   ],
   "source": [
    "file=\"22July25_1.txt\"\n",
    "\n",
    "# calling the function and storing the contents in a text variable \n",
    "text = get_document(\"https://www.bbc.com/swahili/articles/cn03grl90zwo\")\n",
    "\n",
    "# calling the store_ document function \n",
    "store_document(doc=text,name=file)\n",
    "\n",
    "#add the words in this file to the total_corpus_words, to keep count of the number of words in the corpus\n",
    "total_corpus_words+=total_words(file)"
   ]
  },
  {
   "cell_type": "code",
   "execution_count": 151,
   "metadata": {},
   "outputs": [
    {
     "data": {
      "text/plain": [
       "446565"
      ]
     },
     "execution_count": 151,
     "metadata": {},
     "output_type": "execute_result"
    }
   ],
   "source": [
    "total_corpus_words"
   ]
  },
  {
   "cell_type": "code",
   "execution_count": 152,
   "metadata": {},
   "outputs": [
    {
     "name": "stdout",
     "output_type": "stream",
     "text": [
      "['Lilipofikia', 'soko', 'la', 'pamoja', 'EAC', 'si', 'haba', 'japo', 'linahitaji', '‘', 'mganga', '’', 'Wakuu', 'wa', 'nchi', 'wanachama', 'wa', 'jumuiya', 'ya', 'Afrika', 'Mashariki', '(', 'EAC', ')', 'mwishoni', 'mwa', 'juma', 'walihitimisha', 'mkutano', 'wao', 'wa', 'siku', 'mbili', 'wa', 'Jumuiya', 'hiyo', 'uliokuwa', 'unafanyika', 'jijini', 'Arusha', ',', 'Tanzania', '.', 'Kikao', 'hicho', 'kiliwaleta', 'pamoja', 'marais', 'wa', 'nchi', 'za', 'Kenya', ',', 'Tanzania', ',', 'Uganda', 'na', 'Burundi', '.', 'Rai', 'wa', 'Somalia', 'alishiriki', 'kama', 'nchi', 'mwalikwa', ',', 'na', 'nchi', 'zingine', 'wanachama', ';', 'Sudan', 'Kusini', ',', 'Jamhuri', 'ya', 'kidemokrasia', 'ya', 'Kongo', ',', 'na', 'Rwanda', 'wakituma', 'wawakilishi', '.', 'Mbali', 'na', 'viongozi', 'hao', ',', 'kikao', 'hicho', 'kiliwajumuisha', 'pia', 'viongozi', 'wengine', 'wakiwemo', 'mawaziri', 'kutoka', 'nchi', 'hizo', 'na', 'wageni', 'zaidi', 'ya', '300', '.', 'Ni', 'mkutano', 'wa', 'kawaida', 'wa', '22', 'ambapo', 'pamoja', 'na', 'mambo', 'mengine', 'ajenda', 'kubwa', 'na', 'muhimu', 'ilikuwa', 'kuhusu', 'utekelezaji', 'wa', 'itifaki', 'ya', 'soko', 'la', 'pamoja', 'la', 'bidhaa', 'na', 'huduma', '.', 'Utekelezaji', 'wa', 'soko', 'hili', 'umeanza', 'miaka', '12', 'iliyopita', ',', 'hoja', 'ni', 'mwamba', 'kuna', 'hatua', 'imepigwa', '?', 'Kuna', 'lolote', 'lakujivunia', '?', 'Na', 'kwa', 'kiasi', 'gani', 'changamato', 'zake', 'zinapunguza', 'kasi', 'utekelezaji', 'wake', '?', 'Lilipotoka', 'Soko', 'la', 'Pamoja', 'la', 'EAC', 'na', 'msingi', 'wake', 'Wazo', 'la', 'kuwa', 'na', 'soko', 'la', 'pamoja', 'la', 'Afrika', 'Mashariki', ',', 'halikuwa', 'geni', 'sana', 'wakati', 'likianzishwa', ',', 'lilikuwepo', 'huko', 'nyuma', 'tangu', 'Afrika', 'Mashariki', 'ikiundwa', 'na', 'nchi', 'tatu', 'tu', 'wanachama', ';', 'Kenya', ',', 'Uganda', 'na', 'Tanzania', ',', 'ingawa', 'lilitumika', 'kwa', 'misingi', 'na', 'taratibu', 'tofauti', 'na', 'za', 'sasa', '.', 'Wengi', 'wanasema', 'ni', 'kama', 'mfano', 'wa', 'soko', 'la', 'pamoja', 'la', 'Ulaya', ',', 'ambalo', 'ni', 'kongwe', 'linaloruhusu', 'uhuru', 'wa', 'bishara', ',', 'bidhaa', ',', 'watu', 'na', 'fedha', 'miongoni', 'mwa', 'nchi', 'wanachama', 'wa', 'Jumuiya', 'ya', 'Ulaya', '(', 'EU', ')', '.', 'Julai', '2010', ',', 'nchi', 'wanachama', 'wa', 'EAC', ';', 'Burudi', ',', 'Kenya', ',', 'Rwanda', ',', 'Uganda', 'na', 'Tanzania', 'zilianza', 'rasmi', 'kutekeleza', 'makubaliano', 'soko', 'la', 'pamoja', 'kwa', 'mkataba', 'uliolenga', 'kujenga', 'misingi', 'ya', 'kuruhusu', 'uhuru', 'wa', 'mitaji', ',', 'uhuru', 'wa', 'bidhaa', 'na', 'uhuru', 'wa', 'watu', 'kuvuka', 'kutoka', 'nchi', 'moja', 'kwenda', 'nchi', 'nyingine', 'za', 'Afrika', 'Mashariki', '.', 'Katika', 'mkataba', 'huo', 'kulikuwepo', 'pia', 'makubaliano', 'mengine', 'madogo', 'madogo', 'lukuki', 'ambayo', 'nchi', 'wanachama', 'zilipaswa', 'kurekebisha', 'ili', 'kufikia', 'malengo', '.', 'Makubaliano', 'hayo', 'mengine', 'ya', 'kufanyiwa', 'marekebisho', 'ni', 'pamoja', 'na', 'sheria', ',', 'mifumo', 'na', 'utaratibu', 'kwa', 'lengo', 'la', 'kusaidia', 'kukuza', 'biashara', 'na', 'utengamano', 'kwa', 'nchi', 'za', 'afrika', 'mashariki', '.', 'Leo', 'ni', 'miaka', '12', 'imetimia', 'tangu', 'kuanzishwa', 'kwa', 'utekelezaji', 'wa', 'soko', 'hilo', 'la', 'Pamoha', ',', 'huku', 'wanachama', 'wapya', 'wawili', 'wakiongezeka', ',', 'mataifa', 'ya', 'DRC', 'na', 'Sudan', 'Kusini', '.', 'Hatua', 'ya', 'soko', 'la', 'pamoja', 'haihusu', 'tu', 'bidhaa', 'bali', 'pia', 'kulegezwa', 'kwa', 'masharti', 'kwa', 'usafiri', 'wa', 'watu', 'na', 'upatikanaji', 'wa', 'ajira', 'na', 'huduma', 'katika', 'mataifa', 'wanachama', ',', 'jambo', 'linaloendelea', 'kuzua', 'mijadala', '.', 'Kwanini', 'Soko', 'hili', 'ni', 'muhimu', 'kwa', 'Afrika', 'Mashariki', '?', 'Kwa', 'tafsiri', 'ya', 'kawaida', 'isiyo', 'rasmi', ',', 'Soko', 'la', 'Pamoja', 'maana', 'yake', 'ni', 'makubaliano', 'ya', 'pamoja', 'ya', 'nchi', 'kwenye', 'vikwazo', 'vinavyoingiliana', 'ili', 'kuruhusu', 'uhuru', 'wa', 'biashara', ',', 'nguvu', 'kazi', 'au', 'watu', ',', 'na', 'mitaji', 'baina', 'ya', 'nchi', 'hizo', '.', 'Uhuru', 'huu', 'unawekwa', 'ili', 'kusaidia', 'kuinua', 'uchumi', 'utakaonufaisha', 'nchi', 'zote', 'wanachama', 'wa', 'makubaliano', 'hayo', '.', 'Faida', 'kubwa', 'kwa', 'wananchi', 'wa', 'Afrika', 'Mashariki', 'kwa', 'makubaliano', 'ya', 'kuwa', 'na', 'soko', 'la', 'pamoja', 'ni', 'pamoja', 'na', 'wananchi', 'wa', 'nchi', 'wanachama', 'kuwa', 'na', 'uhuru', 'wa', 'kufanya', 'biashara', 'bila', 'kuingiliwa', 'na', 'Mamlaka', 'na', 'vikwazo', 'vikubwa', 'vya', 'kiushuru', '.', 'Uhuru', 'wa', 'kuwekeza', 'waonapo', 'fursa', 'ya', 'uwekezaji', '.', 'Kuweka', 'mitaji', 'katika', 'masoko', 'ya', 'hisa', 'ni', 'jambo', 'linalotazamwa', 'kama', 'faida', 'kubwa', 'kwa', 'wananchi', 'wa', 'nchi', 'hizo', ',', 'ukiachilia', 'uhuru', 'wao', 'wa', 'kusafiri', 'na', 'kuchangamana', '.', 'Kiuchumi', ',', 'kuwa', 'na', 'soko', 'la', 'aina', 'hii', 'ni', 'kusaidia', 'kuboresha', 'uzalishaji', 'wa', 'bidhaa', ',', 'kwa', 'sabababu', 'ya', 'ushindani', 'wa', 'kimahitaji', 'na', 'kupanuka', 'kwa', 'soko', 'la', 'bidhaa', 'na', 'huduma', 'miongoni', 'mwa', 'wanachama', '.', 'Ingawa', 'nchi', 'ambazo', 'hazina', 'uchumi', 'imara', 'na', 'uzalishaji', 'bora', 'wa', 'bidhaa', 'na', 'huduma', 'bora', 'zitajiona', 'kuweweseka', 'kwenye', 'soko', 'hili', 'na', 'kuziacha', 'nchi', 'imara', 'kunufaika', 'zaidi', '.', 'Majivuno', 'ya', 'mashaka', 'ya', 'soko', 'la', 'pamoja', 'EAC', 'Wakati', 'wa', 'majadiliano', 'ya', 'mkutano', 'wa', '22', 'wa', 'wakuu', 'wa', 'nchi', 'za', 'Afrika', 'Mashariki', ',', 'mafanikio', 'ya', 'utekelezaji', 'wa', 'soko', 'la', 'Pamoja', ',', 'ilikuwa', 'ajenda', 'kubwa', '.', 'Wakuu', 'hawa', 'walitaja', 'mafaniko', 'kadhaa', 'ya', 'kujivunia', 'yaliyofikiwa', 'tangu', 'kuanzishwa', 'kwa', 'soko', 'hilo', '.', 'Mwenyekiti', 'wa', 'EAC', 'ambaye', 'ni', 'Rais', 'wa', 'Kenya', ',', 'Uhuru', 'Kenyatta', 'alinukuliwa', 'akisema', 'moja', 'ya', 'mambo', 'ambayo', 'yamekuwa', 'na', 'manufaa', 'ni', 'uboreshwaji', 'wa', 'miundombinu', 'katika', 'nchi', 'wanachama', 'akieleza', 'nchi', 'wananchi', 'wa', 'Tanzania', ',', 'Kenya', ',', 'Uganda', ',', 'Burundi', ',', 'Rwanda', ',', 'Sudani', 'Kusini', 'hadi', 'Jamhuri', 'ya', 'Kidemokrasia', 'ya', 'Kongo', 'wanaunganishwa', 'na', 'barabara', 'na', 'miradi', 'mingine', 'ikiwepo', 'ya', 'umeme', '.', 'Bila', 'shaka', ',', 'miundo', 'mbinu', 'ni', 'eneo', 'la', 'msingi', 'kwa', 'kurahisisha', 'usafirishaji', 'wa', 'bidhaa', 'na', 'watu', 'baina', 'ya', 'nchi', 'hizi', 'za', 'jumuiya', 'hii', ',', 'hakuna', 'shaka', 'katika', 'kipindi', 'cha', 'miaka', '10', 'iliyopita', ',', 'miundombinu', 'katika', 'nchi', 'hizi', 'imeimarika', 'na', 'kuboreshwa', 'kwa', 'kiasi', 'kikubwa', '.', 'Suala', 'la', 'watu', 'kusaifiri', 'baina', 'ya', 'nchi', 'wanachama', 'wa', 'Afrika', 'Mashariki', 'limerahishishwa', 'zaidi', 'tofauti', 'na', 'miaka', '15', 'iliyopita', ',', 'jambo', 'ambalo', 'hata', 'Rais', 'wa', 'Burundi', ',', 'Evariste', 'Ndayishimiye', 'amelisifia', '.', 'Hakuna', 'vikwavo', 'vikubwa', 'kama', 'zamani', '.', 'Vivyo', 'hivyo', 'pia', 'kwenye', 'eneo', 'la', 'usafirishaji', 'wa', 'bidhaaa', ',', 'vikwazo', 'visivyo', 'vya', 'ushuru', 'vimepunguzwa', 'kwa', 'kiasi', 'kikubwa', 'ikiwemo', 'utitiri', 'wa', 'vituo', 'va', 'ukaguzi', 'wa', 'magari', 'na', 'bidhaa', 'zinazosafrishwa', 'baina', 'ya', 'nchi', 'wanachama', '.', 'Kwa', 'kauli', 'za', 'viongozi', 'wa', 'mataifa', 'haya', ',', 'unaweza', 'kuona', 'wanajivunia', 'kilichofanyika', 'mpaka', 'sasa', 'kwenye', 'utekelezaji', 'wa', 'soko', 'hilo', 'la', 'pamoja', ',', 'licha', 'ya', 'jitihada', 'kubwa', 'kuendelea', 'kuhitajika', '.', '‘', 'Wanajivunia', ',', 'na', 'sio', 'mbaya', 'kwa', 'hatua', 'zilizopigwa', ',', 'lakini', 'wajivune', 'kwa', 'mashaka', ',', 'kwani', 'kuna', 'mengi', 'ya', 'kufanywa', ',', 'sheria', ',', 'sera', 'na', 'dhamira', 'ya', 'kisiasa', 'ndiyo', 'mtaji', 'pekee', 'wa', 'kuwa', 'na', 'soko', 'la', 'pamoja', 'lisilo', 'la', 'mashaka', 'na', 'la', 'dhati', 'Afrika', 'Mashariki', '’', ',', 'anasema', 'Beatrice', 'Kimaro', ',', 'Mchumi', 'kutoka', 'Chuo', 'Kikuu', 'cha', 'Ushirika', ',', 'Moshi', ',', 'Tanzania', '.', 'Kwa', 'kipimo', 'cha', 'lilipotoka', 'na', 'lilipo', 'sasa', ',', 'bila', 'shaka', 'soko', 'la', 'Pamoja', 'la', 'Afrika', 'Mashariki', ',', 'lina', 'hatua', 'limepiga', '.', 'Awali', 'Katibu', 'Mkuu', 'wa', 'Jumuiya', 'ya', 'Afrika', 'ya', 'Mashariki', ',', 'Dkt', '.', 'Peter', 'Mathuki', 'akizungumza', 'katika', 'mkutano', 'huo', 'wa', '22', 'wa', 'EAC', 'huko', 'Arusha', 'alieleza', 'mafanikio', 'ya', 'soko', 'la', 'pamoja', 'kuwa', 'ni', 'pamoja', 'na', 'kukuza', 'uchumi', ',', 'biashara', ',', 'ajira', 'na', 'kukuza', 'mitaji', 'baina', 'ya', 'nchi', 'wanachama', ',', 'akiipongeza', 'sekta', 'binafsi', 'kwa', 'mchango', 'wake', 'katika', 'hilo', '.', 'Pamoja', 'na', 'mafanikio', 'haya', ',', 'bado', 'kuna', 'maswali', 'mengi', 'kwenye', 'utekelezaji', 'wake', 'ukirejea', 'misingi', 'ya', 'kuanzisha', 'kwa', 'mkataba', 'wa', 'soko', 'la', 'pamoja', ':', 'Uhuru', 'wa', 'mitaji', ',', 'uhuru', 'wa', 'bidhaa', 'na', 'uhuru', 'wa', 'watu', '.', 'Kwenye', 'soko', 'la', 'fedha', '(', 'uhuru', 'wa', 'mitaji', ')', ',', 'Tanzania', 'inaonekana', 'imepiga', 'hatua', 'ikiruhusu', 'zaidi', 'wageni', 'kuwekeza', 'kwenye', 'soko', 'lake', 'la', 'hisa', 'la', 'Dar', 'es', 'Salaam', ',', 'hoja', 'iliyopo', ',', 'kwa', 'kiwango', 'gani', 'nchi', 'zingine', 'zinaruhusu', 'kwa', 'ukubwa', 'huo', 'wageni', 'kuwekeza', 'mitaji', 'yao', 'kwa', 'nchi', 'hizo', '?', '‘', 'Shirika', 'la', 'ndege', 'la', 'Kenya', '(', 'Kenya', 'Airways', ')', 'limeweza', 'kufika', 'Tanzania', 'kwa', 'kuingia', 'kwenye', 'soko', 'la', 'hisa', '.', 'Lakini', 'je', 'Rwanda', 'inaruhusu', '?', 'Burundi', 'inaruhusu', '?', 'Aliwahi', 'kuuliza', 'Lousi', 'Accaro', ',', 'mkurugenzi', 'wa', 'huduma', 'kwa', 'wanchama', ',', 'TPST', '.', 'Alihoji', 'pia', 'katika', 'eneo', 'la', 'bima', 'na', 'hata', 'sekta', 'ya', 'madini', '.', '‘', 'Masuala', 'ya', 'bima', ',', 'kuwekeza', 'Tanzania', ',', 'Mtanzania', 'lazima', 'awe', 'na', 'hisa', 'asilimi', '35', ',', 'lakini', 'nchi', 'nyingine', 'kama', 'Kenya', 'ili', 'kuwekeza', 'kwenye', 'soko', 'la', 'bima', ',', 'mkenya', 'lazima', 'awe', 'na', 'asilimia', '60', '.', 'Kwenye', 'suala', 'la', 'madini', ',', 'Kenya', 'wamesema', 'kwamba', 'ili', 'kuwekeza', 'Kenya', ',', 'kwa', 'mtu', 'ambaye', 'sio', 'mkenya', ',', 'mkenya', 'lazima', 'awe', 'na', 'asilimi', '60', ',', 'sisi', 'bado', 'hatujafikia', 'huko', '’', '.', 'Katika', 'kipindi', 'cha', 'miaka', '12', 'ya', 'utekelezaji', 'wa', 'soko', 'hili', ',', 'tumeshuhudia', 'na', 'kusikia', 'mengi', 'yanayoleta', 'ukakasi', 'na', 'mashaka', 'licha', 'ya', 'uwepo', 'wa', 'mkataba', 'huu', ';', 'malori', 'yakizuiwa', 'mipakani', ',', 'bidhaa', 'zikizuiwa', ',', 'ushuru', 'kwa', 'bidhaa', ',', 'mifugo', 'ikichomwa', 'moto', '.', 'Kwa', 'ujumla', 'vimekuwepo', 'vikwazo', 'vingi', 'vya', 'kisheria', 'na', 'kisera', '.', '‘', 'Bado', 'kuna', 'mengi', 'ya', 'kufanywa', ',', 'na', 'muda', 'unaruhusu', ',', 'muhimu', 'ni', 'dhamira', 'ya', 'wazi', 'na', 'utashi', 'wa', 'kisiasa', 'kwa', 'viongozi', 'wa', 'mataifa', 'haya', '’', '.', 'Lazima', 'mkataba', 'utekelezwe', 'ulivyo', 'na', 'uboreshwe', 'kwa', 'usawa', ',', 'kwa', 'kuzingatia', 'uwezo', 'wa', 'kila', 'taifa', 'mwanachama', '’', ',', 'anasema', 'Beatrice', 'Kimaro', ',', 'mchumi', 'kutoka', 'Chuo', 'Kikuu', 'cha', 'Ushirika', 'Moshi', ',', 'Tanzania', '.', 'Mambo', 'haya', 'makubwa', 'mawili', 'anayoyataja', 'mhadhiri', 'huyu', 'ndiyo', '‘', 'mganga', '’', 'mkubwa', 'wa', 'kufikia', 'malengo', 'ya', 'kuwa', 'na', 'soko', 'la', 'pamoja', 'madhubuti', 'kwa', 'Afrika', 'Mashariki', ',', 'vinginevyo', 'kutakuwa', 'na', 'soko', 'la', 'pamoja', 'lakini', 'lisilo', 'pamoja', 'kwa', 'utekelezaji', '.']\n",
      "\n",
      " Number of Words:  1356\n"
     ]
    }
   ],
   "source": [
    "file=\"22July25_2.txt\"\n",
    "\n",
    "# calling the function and storing the contents in a text variable \n",
    "text = get_document(\"https://www.bbc.com/swahili/articles/c3g13l9l02wo\")\n",
    "\n",
    "# calling the store_ document function \n",
    "store_document(doc=text,name=file)\n",
    "\n",
    "#add the words in this file to the total_corpus_words, to keep count of the number of words in the corpus\n",
    "total_corpus_words+=total_words(file)"
   ]
  },
  {
   "cell_type": "code",
   "execution_count": 153,
   "metadata": {},
   "outputs": [
    {
     "data": {
      "text/plain": [
       "447921"
      ]
     },
     "execution_count": 153,
     "metadata": {},
     "output_type": "execute_result"
    }
   ],
   "source": [
    "total_corpus_words"
   ]
  },
  {
   "cell_type": "code",
   "execution_count": 154,
   "metadata": {},
   "outputs": [
    {
     "name": "stdout",
     "output_type": "stream",
     "text": [
      "[\"'Uchaguzi\", 'Kenya', ':', 'Siasa', 'na', 'Wanawake', 'katika', 'maeneo', 'yaliyotengwa', \"'\", 'Uchaguzi', 'wa', 'Kenya', '2022', ':', \"'Ukiwa\", 'mwanamke', ',', 'mume', 'wako', 'na', 'jamii', 'inapaswa', 'kukubaliana', 'ili', 'ushiriki', '25', 'Julai', '2022', 'Wanawake', 'watatu', 'wa', 'Kenya', 'kutoka', 'jamii', 'zilizotengwa', 'wanaelezea', 'hali', 'ngumu', 'wanazopitia', 'kuwania', 'viti', 'vya', 'kisiasa', 'katika', 'uchaguzi', 'mkuu', 'ujao', 'na', 'jinsi', 'wanavyodhamiria', 'kukabiliana', 'na', 'changamoto', 'wanazopitia', '.', 'Wanaelezea', 'vikwazo', 'vyao', 'kuwa', 'vya', 'kipekeeikilinganishwa', 'na', 'kile', 'wenzao', 'katika', 'maeneo', 'ya', 'mijini', 'wanakumbana', 'nayo', '.']\n",
      "\n",
      " Number of Words:  72\n"
     ]
    }
   ],
   "source": [
    "file=\"22July25_3.txt\"\n",
    "\n",
    "# calling the function and storing the contents in a text variable \n",
    "text = get_document(\"https://www.bbc.com/swahili/articles/c1vgg5r1wy0o\")\n",
    "\n",
    "# calling the store_ document function \n",
    "store_document(doc=text,name=file)\n",
    "\n",
    "#add the words in this file to the total_corpus_words, to keep count of the number of words in the corpus\n",
    "total_corpus_words+=total_words(file)"
   ]
  },
  {
   "cell_type": "code",
   "execution_count": 155,
   "metadata": {},
   "outputs": [
    {
     "data": {
      "text/plain": [
       "447993"
      ]
     },
     "execution_count": 155,
     "metadata": {},
     "output_type": "execute_result"
    }
   ],
   "source": [
    "total_corpus_words"
   ]
  },
  {
   "cell_type": "code",
   "execution_count": 156,
   "metadata": {},
   "outputs": [
    {
     "name": "stdout",
     "output_type": "stream",
     "text": [
      "['Uchaguzi', 'Kenya', '2022', ':', 'Uchaguzi', 'wa', 'Kenya', 'una', 'maana', 'gani', 'kwa', 'Tanzania', 'na', 'Afrika', 'Mashariki', '?', 'Uchaguzi', 'mkuu', 'wa', 'Kenya', 'uliopangwa', 'kufanyika', 'Agosti', '9', ',', '2022', 'ni', 'suala', 'linalofuatiliiwa', 'kwa', 'karibu', 'na', 'kwa', 'kuzingatia', 'kwamba', 'matokeo', 'yatakuwa', 'na', 'athari', 'kubwa', '.', 'Kenya', 'ambalo', 'ni', 'Taifa', 'kubwa', 'kubwa', 'zaidi', 'kiuchumi', 'miongoni', 'mwa', 'mataifa', 'ya', 'Afrika', 'Mashariki', ',', 'litamchagua', 'rais', 'mpya', 'wa', 'tano', 'na', 'viongozi', 'wengine', 'wa', 'uwakilishi', 'huku', 'mafanikio', 'ya', 'uchaguzi', 'huo', 'yakitarajiwa', 'kuwa', 'dira', 'ya', 'demokrasia', ',', 'ambayo', 'imezorota', 'katika', 'nchi', 'kadhaa', 'jirani', '.', 'Viongozi', 'wa', 'baadhi', 'ya', 'mataifa', 'katika', 'kanda', 'ya', 'AfrikaMashariki', 'wamezifanyia', 'marekebisho', 'katiba', 'zao', 'zilizokuwa', 'awali', 'na', 'ukomo', 'wa', 'utawala', 'wa', 'miaka', 'kumi', 'na', 'kuondoa', 'kikomo', 'hicho', 'ili', 'kujifungulia', 'njia', 'ya', 'kuwawezeshaa', 'kubakia', 'madarakani', 'kwa', 'muda', 'mrefu', 'zaidi', '.', 'Hao', 'ni', 'Pamoja', 'na', 'viongozi', 'wa', 'Uganda', 'na', 'Rwanda', '.', 'Rais', 'Kagame', 'wa', 'Rwanda', 'aliwahi', 'kusema', 'wakati', 'wa', 'mabadiliko', 'ya', 'katiba', 'yaliyomruhusu', 'kuongoa', 'zaidi', 'ya', 'miwili', 'kuwa', 'uamuzi', 'huo', 'ni', 'kuzingatia', 'matakwa', 'ya', 'Wanyarwanda', 'walimuomba', 'kufanya', 'hivyo', '.', 'Kenya', 'ni', 'nchi', 'iliyoheshimu', 'katiba', 'yake', 'na', 'Rais', 'Uhuru', 'Kenyatta', 'anasubiri', 'kumkabidhi', 'madaraka', 'yule', 'atakayekuwa', 'mrithi', 'wake', ',', 'mshindi', 'wa', 'uchaguzi', 'huo', '.', 'Washindani', 'wawili', 'wakuu', 'ni', 'Wazri', 'mkuu', 'wa', 'zamani', ',', 'Rais', 'Odinga', ',', 'aiyeteuliwa', 'na', 'Muungano', 'wa', 'Azimio', 'la', 'Umoja', ',', 'akiungwa', 'mkono', 'na', 'Uhuru', 'Kenyatta', 'awe', 'mrithi', 'wake', '.', 'Chama', 'cha', 'Jubilee', 'cha', 'Kenyatta', 'ni', 'sehemu', 'ya', 'Azimio', 'la', 'Umoja', '.', 'Mpinzani', 'wake', 'ni', 'Makamu', 'wa', 'Rais', 'William', 'Ruto', ',', 'mgombea', 'wa', 'Muungano', 'wa', 'Kenya', 'Kwanza', ',', 'aliyehitilafiana', 'na', 'Kenyatta', '.', 'Uamuzi', 'wa', 'Kenyatta', 'wa', 'kuheshimu', 'katiba', 'ni', 'jambo', 'la', 'kupongezwa', ',', 'lakini', 'sababu', 'kubwa', 'ni', 'uhuru', 'wa', 'mahakama', 'ambayo', 'ni', 'taasisi', 'ya', 'kusimamia', 'sheria', '.', 'Itakumbukwa', 'yaliotokea', 'katika', 'uchaguzi', 'wa', '2017', ',', 'wakati', 'Jaji', 'mkuu', 'wa', 'wakati', 'ule', ',', 'David', 'Maraga', 'alipotangaza', 'kwamba', 'matokeo', 'ya', 'uchaguzi', 'ni', 'batili', 'kufuatia', 'dosari', 'zilizotokea', 'katika', 'uchaguzi', 'huo', 'hilo', '.', 'Hatua', 'ya', 'mahakama', 'kuu', 'ilitokana', 'na', 'malalamiko', 'yaliowasilishwa', 'na', 'mgombea', 'wa', 'upinzani', 'Raila', 'Odinga', '.', 'Pia', 'pamoja', 'na', 'kampeni', 'kali', 'ya', 'uchaguzi', 'wagombea', 'wote', 'wakuu', 'Raila', 'Odinga', 'na', 'William', 'Ruto', 'wametoa', 'wito', 'wa', 'amani', 'kuliepusha', 'taifa', 'na', 'janga', 'la', 'machafuko', 'ya', 'uchaguzi', 'wa', '2007/2008', '.', 'Ujumbe', 'kwa', 'Tanzania', 'Mafanikio', 'ya', 'uchaguzi', 'ujao', 'nchini', 'Kenya', 'yatakuwa', 'na', 'ujumbe', 'mahsusi', 'kwa', 'jirani', 'yake', 'mkubwa', 'Tanzania', 'ambayo', 'tangu', 'iliporudi', 'kwenye', 'mfuo', 'wa', 'vyama', 'vingi', 'vya', 'siasa', '1992', 'na', 'kufuatiwa', 'na', 'uchaguzi', 'wa', 'kwanza', '1995', ',', 'mchakato', 'wa', 'uchaguzi', 'umedhibitiwa', 'na', 'serikali', 'ya', 'Chama', 'cha', 'Mapinduzi', '(', 'CCM', ')', '.', 'Matokeo', 'yake', 'ni', 'kushindwa', 'kuimarika', 'kwa', 'taasisi', 'muhimu', 'katika', 'ujenzi', 'wa', 'demokrasia', 'imara', ',', 'huku', 'nguzo', 'kuu', 'ikiwa', 'ni', 'mahakama', '.', 'Wanaharakati', 'wamekuwa', 'wakitaja', 'sababu', 'za', 'kutopatikana', 'mafanikio', 'kuwani', 'Pamoja', 'na', 'Rais', 'kuwa', 'na', 'madaraka', 'ya', 'kupita', 'kiasi', 'yakimpa', 'nguvu', 'miongoni', 'mwa', 'mengine', 'kuteua', 'Tume', 'ya', 'Uchaguzi', ',', 'inayoangaliwa', 'kuwa', 'ni', 'mzizi', 'wa', 'kutopatikana', 'haki', 'katika', 'uchaguzi', '.', 'Tume', 'ya', 'Uchaguzi', 'huteuliwa', 'na', 'Rais', 'na', 'matokeo', 'ya', 'uchaguzi', 'wa', 'Rais', 'yanapotangazwa', 'hayawezi', 'kupigwa', 'kama', 'ilivotokea', 'Kenya', '2017', '.', 'Wanaharakati', 'wanadai', 'dawa', 'mjarab', 'ni', 'kuwepo', 'Katiba', 'mpya', 'itakayofungua', 'njia', 'ya', 'kupatikana', 'Tume', 'Huru', 'ya', 'Uchaguzi', 'itakayosimamia', 'uchaguzi', 'huru', 'na', 'wa', 'haki', '.', 'Tanzana', 'ilishuhudia', 'uamuzi', 'wa', 'mpiga', 'kura', 'kutoheshimiwa', ',', 'baada', 'ya', 'nguvu', 'ya', 'dola', 'kutumika', 'kuhakikisha', 'matokeo', 'ya', 'uchaguzi', 'yanakipa', 'ushindi', 'mkubwa', 'chama', 'tawala', 'CCM', 'na', 'kuvikandamiza', 'vyama', 'vya', 'upinzani', '.', 'Wadadisi', 'wanaueleza', 'uchaguzi', 'wa', '2020', 'wakati', 'wa', 'uongozi', 'wa', 'Rais', 'John', 'Pombe', 'Magufuli', 'aliyefariki', 'Machi', '2021', 'kuwa', 'ndiyo', 'uliokuwa', 'mbaya', 'kabisa', 'kuwahi', 'kuonekana', 'tangu', 'Tanzania', 'irejeshe', 'mfumo', 'demokrasia', 'ya', 'vyama', 'vingi', 'vyama', 'siasa', '.', 'Haya', 'hivyo', ',', 'viongozi', 'kadhaa', 'wa', 'serikali', 'ya', 'chama', 'tawala', 'CCM', 'mara', 'kadhaa', 'wamekuwa', 'wakisema', 'kuwa', 'uchaguzi', 'ulifanyika', 'kwa', 'kufuata', 'taratibu', 'zote', 'na', 'kwamba', 'wanaolalamika', 'wafungue', 'mashauri', 'mahkamani', '.', 'Mrithi', 'wa', 'Magufuli', ',', 'Rais', 'Samia', 'Suluhu', 'Hassan', 'aliyeingia', 'madarakani', 'Machi', '19', ',', '2021', 'baada', 'ya', 'kifo', 'cha', 'mtangulizi', 'wake', ',', 'sasa', 'anaonekana', 'kubadili', 'dira', '.', 'Wakati', 'Magufuli', 'aliondoa', 'uwezekano', 'wa', 'kuwa', 'na', 'Katiba', 'mpya', 'akisisitiza', 'sio', 'kipaumbele', 'bali', 'muhimu', 'ni', 'maendeleo', ',', 'Rais', 'Samia', 'Suluhu', 'Hassan', 'ameonesha', 'ishara', 'ya', 'kulizungumzia', 'suala', 'la', 'katiba', 'mpya', 'na', 'kupata', 'baraka', 'za', 'chama', 'chake', 'tawala', '.', 'Wengi', 'wanaashira', 'kuwa', 'pindi', 'uchaguzi', 'wa', 'Kenya', 'utafanyika', 'katika', 'hali', 'iliyo', 'shwari', ',', 'utakuwa', 'chachu', 'katika', 'mchakato', 'wa', 'kuimarishwa', 'demokrasia', 'nchini', 'Tanzania', '.', 'Wakisifia', 'mafanikio', 'yaliopatikana', 'chini', 'ya', 'uongozi', 'wa', 'Rais', 'Samia', 'katika', 'kipindi', 'kifupi', ',', 'katika', 'sekta', 'mbali', 'mbali', ',', 'raia', 'wa', 'kawaida', 'nchini', 'humo', 'wamekuja', 'na', 'msemo', '``', 'Mama', 'anaupiga', 'mwingi', \"''\", 'wakilinganisha', 'na', 'mchezo', 'maridadi', 'wa', 'kandanda', '.', 'Miongoni', 'mwa', 'mafanikio', 'yake', 'mengine', 'ni', 'kurekebisha', 'haraka', 'uhusiano', 'wa', 'kidugu', 'na', 'Kenya', 'ambao', 'ulizorota', 'kipindi', 'cha', 'Rais', 'Magufuli', '.', 'Hatua', 'yake', 'imeipa', 'msukumo', 'mkubwa', 'biashara', 'ya', 'nchi', 'hizi', 'mbili', ',', 'na', 'pasina', 'shaka', 'anatarajia', 'kuendeleaa', 'ushirikiano', 'huo', 'na', 'yeyote', 'atakayeibuka', 'kuwa', 'mshindi', '.', 'Nani', 'yuko', 'kwenye', \"kinyang'anyiro\", 'cha', 'kuiongoza', 'Kenya', '?', 'Fahamu', 'zaidi', 'kuwahusu', 'wagombea', 'urais', 'wa', 'Kenya', 'Chagua', 'mgombea', 'ili', 'kutazama', 'wasifu', 'wake', 'Raila', 'Odinga', 'William', 'Ruto', 'George', 'Wajackoyah', 'David', 'Mwaure', 'Raila', 'Amollo', 'Odinga', 'Muungano', 'wa', 'Azimio', 'la', 'Umoja', 'Maelezo', 'ya', 'Msingi', 'Mgombea', 'huyo', 'mwenye', 'umri', 'wa', 'miaka', '77', 'ni', 'mhandisi', 'aliyesomea', 'Chuo', 'Kikuu', 'cha', 'Ufundi', 'cha', 'Magdeburg', '(', 'sasa', 'kinajulikana', 'kama', 'Chuo', 'Kikuu', 'cha', 'Otto-von-Guericke', 'Magdeburg', ')', 'nchini', 'Ujerumani', '.', 'Anawania', 'kiti', 'cha', 'urais', 'kwa', 'tikiti', 'ya', 'Azimio', 'la', 'Umoja', 'One', 'Kenya', 'Coalition', 'Party', '.', 'Hili', 'litakuwa', 'jaribio', 'lake', 'la', 'tano', 'baada', 'ya', 'kugombea', 'katika', ':', '1997', ',', '2007', ',', '2013', 'na', '2017', '.', 'Mafanikio', 'Muhimu', 'Bw', 'Odinga', 'alikuwa', 'mmoja', 'wa', 'wapiganiaji', 'wa', 'demokrasia', 'ya', 'vyama', 'vingi', 'nchini', 'Kenya', '.', 'Alikamatwa', ',', 'akafungwa', 'na', 'wakati', 'fulani', 'akaenda', 'uhamishoni', 'kwa', 'sababu', 'ya', 'kupigania', 'haki', 'hiyo', 'Aliwahi', 'kuwa', 'Waziri', 'Mkuu', ',', 'kuanzia', '2008-2013', '.', 'Odinga', 'alihusika', 'kufanikisha', 'miradi', 'mikubwa', 'iliyotekelezwa', 'na', 'serikali', 'ya', 'Kibaki', ',', 'kama', 'vile', 'miradi', 'ya', 'umeme', 'vijijini', 'na', 'barabara', '.', 'Ahadi', 'Muhimu', 'Kuafikia', 'ukuaji', 'wa', 'uchumi', 'wa', 'tarakimu', 'mbili', 'kupitia', 'uwekezaji', 'katika', 'biashara', 'ndogo', 'ndogo', 'na', 'sekta', 'ya', 'viwanda', '.', 'Utoaji', 'wa', 'huduma', 'bora', 'za', 'afya', 'kwa', 'wote', '.', 'Utoaji', 'wa', 'vifaa', 'vya', 'michezo', 'na', 'burudani', 'kwa', 'ukuaji', 'wa', 'kimwili', ',', 'kiakili', ',', 'kijamii', ',', 'kimaadili', 'na', 'maendeleo', 'ya', 'watu', '.', 'Kashfa/Sakata', 'Kufuatia', 'jaribio', 'la', 'mapinduzi', 'ya', 'Agosti', '1', ',', '1982', ',', 'Raila', 'Odinga', 'alikamatwa', 'na', 'kukabiliwa', 'na', 'mashtaka', 'kadhaa', ',', 'yakiwemo', 'ya', 'uhaini', 'ambayo', 'alizuiliwa', 'bila', 'kufunguliwa', 'mashtaka', '.', 'Tume', 'ya', 'Ukweli', 'ya', 'Haki', 'na', 'Maridhiano', 'iliambiwa', 'mwaka', '2011', 'kwamba', 'Odinga', 'alikuwa', 'na', 'mawasiliano', 'na', 'mpangaji', 'mkuu', 'wa', 'mapinduzi', 'hayo', '.', 'Odinga', 'amekana', 'kuhusika', 'kila', 'mara', '.', '-', 'Makavazi', 'ya', 'Kitaifa', 'ya', 'Kenya', '.', 'William', 'Samoei', 'Ruto', 'Muungano', 'wa', 'Kenya', 'Kwanza', 'Maelezo', 'ya', 'Msingi', 'Mgombea', 'huyu', 'mwenye', 'umri', 'wa', 'miaka', '55', 'ana', 'Shahada', 'ya', 'Uzamifu/PhD', 'katika', 'Ikolojia', 'ya', 'Mimea', 'na', 'BSc', 'katika', 'Botany', 'na', 'Zoology', 'kutoka', 'Chuo', 'Kikuu', 'cha', 'Nairobi', '.', 'Anawania', 'kiti', 'cha', 'urais', 'kwa', 'tikiti', 'ya', 'chama', 'cha', 'United', 'Democratic', 'Alliance', '(', 'chenye', 'mafungamano', 'na', 'Kenya', 'Kwanza', ')', '.', 'Aliongoza', 'Vuguvugu', 'la', 'vijana', 'la', 'Youth', 'for', 'Kanu', \"'92\", '(', 'YK', \"'\", '(', '92', ')', '.', 'Mafanikio', 'Muhimu', 'Wizara', 'yake', 'iliorodheshwa', 'kama', 'inayofanya', 'bora', 'zaidi', 'serikalini', 'alipokuwa', 'Waziri', 'wa', 'Kilimo', '.', 'Alihudumu', 'kama', 'Naibu', 'Rais', 'wa', 'kwanza', 'wa', 'Kenya', 'chini', 'ya', 'katiba', 'mpya', 'ya', '2010', '.', 'Alihudumu', 'kama', 'mbunge', 'wa', 'eneo', 'bunge', 'la', 'Eldoret', 'Kaskazini', 'kuanzia', '1997-2007', '.', 'Ahadi', 'Muhimu', 'Kutenga', '$', '424', 'milioni', 'kila', 'mwaka', 'kwa', 'biashara', 'ndogo', 'ndogo', 'za', 'kati', '.', 'Kuanzisha', 'mfuko', 'wa', 'elimu', 'wa', 'kitaifa', 'ili', 'kukidhi', 'gharama', 'zisizo', 'za', 'masomo', '.', 'Tekeleza', 'kikamilifu', 'sheria', 'ya', 'usawa', 'wa', 'kijinsia', 'ya', 'thuluthi', 'mbili', 'katika', 'uteuzi', 'wa', 'kisiasa', 'na', 'kutenga', 'nusu', 'ya', 'baraza', 'lake', 'la', 'mawaziri', 'kwa', 'wanawake', '.', 'Kashfa/Sakata', 'Mnamo', '2008', ',', 'Mahakama', 'Kuu', 'ya', 'Kenya', 'iliamuru', 'Naibu', 'Rais', 'William', 'Ruto', 'kusalimisha', 'shamba', 'la', 'ekari', '100', 'na', 'kulipa', '$', '62,500', 'kwa', 'Adrian', 'Muteshi', ',', 'mkulima', 'ambaye', 'alimshtaki', 'kwa', 'kuchukua', 'mali', 'hiyo', 'baada', 'ya', 'uchaguzi', 'wa', '2007', '.', '-', 'Kenya', 'Law', 'Mnamo', '2011', ',', 'Bw', 'Ruto', 'alikabiliwa', 'na', 'kesi', 'kwa', 'makosa', 'matatu', 'dhidi', 'ya', 'binadamu', ':', 'Mauaji', ',', 'uhamisho', 'wa', 'watu', 'kwa', 'lazima', 'na', 'mateso', 'ya', 'watu', 'katika', 'Mahakama', 'ya', 'Kimataifa', 'ya', 'Uhalifu', '.', 'Miaka', 'mitano', 'baadaye', 'mahakama', 'ilisitisha', 'kesi', 'hiyo', 'kwa', 'msingi', 'kwamba', '-', 'ushahidi', 'wa', 'upande', 'wa', 'mashtaka', 'ulikuwa', 'dhaifu', '.', '-ICC', 'George', 'Wajackoyah', 'Chama', 'cha', 'Roots', 'Maelezo', 'ya', 'Msingi', 'Profesa', 'huyo', 'mwenye', 'umri', 'wa', 'miaka', '61', 'ana', 'shahada', 'ya', 'uzamili', 'katika', 'sheria', 'kuhusu', 'maendeleo', 'kutoka', 'Chuo', 'Kikuu', 'cha', 'Warwick', 'na', 'shahada', 'ya', 'uzamili', ',', 'sheria', '(', 'sheria', 'za', 'Marekani', 'kutoka', 'Chuo', 'Kikuu', 'cha', 'Baltimore', '.', 'Bw', 'Wajackoyah', 'anawania', 'kiti', 'cha', 'urais', 'kwa', 'tiketi', 'ya', 'Chama', 'cha', 'Roots', 'Party', '.', 'Mafanikio', 'Muhimu', 'Alihudumu', 'kama', 'Inspekta', 'katika', 'idara', 'ya', 'usalama', 'ya', 'Special', 'branch', 'wakati', 'wa', 'utawala', 'wa', 'marehemu', 'Rais', 'Daniel', 'Moi', 'kabla', 'ya', 'kulazimika', 'kutorokea', \"ng'ambo\", 'ili', 'kuepuka', 'kufunguliwa', 'mashtaka', 'na', 'mamlaka', '.', 'Yeye', 'ni', 'mshirika', 'katika', 'kampuni', 'ya', 'mawakili', 'aliyoianzisha', 'mwaka', 'wa', '2018', '.', 'Alifunnza', 'somo', 'la', 'sheria', 'na', 'uchumi', 'katika', 'vyuo', 'vikuu', 'vya', 'Marekani', ',', 'Uingereza', 'na', 'Kenya', '.', 'Ahadi', 'Muhimu', 'Kuhalalisha', 'matumizi', 'ya', 'kiviwanda', 'ya', 'bangi', 'Badilisha', 'siku', 'za', 'kazi', 'hadi', 'Jumatatu', 'hadi', 'Alhamisi', '.', 'Huduma', 'ya', 'afya', 'ya', 'bure', 'na', 'msaada', 'kwa', 'wazee', ',', 'walio', 'hatarini', 'na', 'wajawazito', 'David', 'Mwaure', 'Waihiga', 'Chama', 'cha', 'Agano', 'Maelezo', 'ya', 'Msingi', 'David', 'Mwaure', 'anawania', 'kiti', 'cha', 'urais', 'kwa', 'tiketi', 'ya', 'Chama', 'cha', 'Agano', '.', 'Ni', 'kiongozi', 'wa', 'Chama', 'cha', 'Agano', '.', 'Alihitimu', 'na', 'shahada', 'ya', 'sheria', 'kutoka', 'Chuo', 'Kikuu', 'cha', 'Nairobi', 'na', 'ana', 'Shahada', 'ya', 'Uzamili', 'katika', 'masomo', 'ya', 'uongozi', '.', 'Mafanikio', 'Muhimu', 'Yeye', 'ni', 'wakili', 'mkuu', 'na', 'amehudumu', 'kama', 'mwanasheria', 'kwa', 'zaidi', 'ya', 'miongo', 'mitatu', '.', 'Ahadi', 'Muhimu', 'Matumaini', 'ya', 'nchi', 'nyingine', 'za', 'Kanda', 'Kenya', 'ni', 'nchi', 'muhimu', 'panapohusika', 'biashara', 'ya', 'kanda', ',', 'kwa', 'sababu', 'ya', 'kutumiwa', 'kwa', 'bandari', 'yake', 'ya', 'Mombasa', 'na', 'wengi', 'wa', 'majirani', 'zake', '.', 'Kwa', 'mfano', 'Uganda', 'isiyo', 'na', 'bahari', 'inategemea', 'kwa', 'kiwango', 'kikubwa', 'bandari', 'ya', 'Mombasa', 'kwa', 'usafirishaji', 'wa', 'bidhaa', 'inazosafirisha', 'kwenda', 'nje', 'na', 'zile', 'inazoagiza', 'kutoka', \"ng'ambo\", '.', 'Kenya', 'ni', 'mshirika', 'mkubwa', 'wa', 'biashara', 'wa', 'Uganda', 'na', 'Wagombea', 'wote', 'wawili', 'wakuu', ';', 'Raila', 'ana', 'Ruto', 'walikwenda', 'Kampala', 'kwa', 'nyakati', 'tafauti', 'kuonana', 'na', 'Rais', 'Museveni', ',', 'tukio', 'linaloashiria', 'kila', 'mmoja', 'anatafuta', 'kuungwa', 'mkono', 'na', 'kiongozi', 'huyo', 'jirani', 'na', 'mkongwe', '.', 'Rwanda', 'ni', 'nchi', 'nyingine', 'ambayo', 'inategemea', 'kwa', 'upana', 'mkubwa', 'uagizaji', 'bidhaa', 'kutoka', 'Kenya', '.', 'Kwa', 'mujibu', 'wa', 'takwimu', 'za', '2019', ',', 'Rwanda', 'iliagiza', 'bidhaa', 'za', 'thamani', 'za', 'dola', 'milioni', '278.45', 'za', 'Marekani', 'kutoka', 'Kenya', '.', '2021', 'Burundi', 'mwanachama', 'mwengine', 'wa', 'Jumuiya', 'ya', 'Afrika', 'Mashariki', ',', 'ilisaini', 'mkataba', 'wa', 'kuimarisha', 'ushirikiano', 'wa', 'biashara', 'na', 'maendeleo', 'Kenyatta', '.', 'Tangu', 'ilipojiunga', 'na', 'Jumuiya', 'ya', 'Afrika', 'Mashariki', 'Aprili', '2022', ',', 'Jamhuri', 'ya', 'kidemokrasi', 'ya', 'Kongo', '(', 'DRC', ')', 'imeonesha', 'ishara', 'ya', 'kufungua', 'zaidi', 'milango', 'ya', 'kiuchumi', 'kwa', 'wawekezaji', '.', 'Kenya', 'imekuwa', 'kipaumbele', 'kwa', 'kwa', 'serikali', 'ya', 'Rais', 'Felix', 'Tshisekedi', '.', 'Mwishoni', 'mwa', '2021', 'ujumbe', 'wa', 'wafanya', 'biashara', 'wa', 'nchi', 'hizo', 'mbili', 'ulikutana', 'nchini', 'Kongo', 'kutathmini', 'nafasi', 'za', 'uwekezaji', 'na', 'kibiashara', '.', 'Sambamba', 'na', 'Kongo', 'inaizingatia', 'Kenya', 'kuwa', 'mshirika', 'wa', 'kuaminika', 'katika', 'kusimamia', 'amani', 'nchini', 'humo', '.', 'Mbali', 'ya', 'wanajeshi', 'wa', 'Kenya', 'kushiriki', 'katika', 'ujumbe', 'wa', 'amani', 'wa', 'Umoja', 'wa', 'Mataifa', '(', 'MONUSCO', ')', ',', 'Rais', 'Uhuru', 'Kenya', 'alianzisha', 'juhudi', 'mwezi', 'Aprili', 'za', 'kuundwa', 'kikosi', 'cha', 'mataifa', 'ya', 'Jumuiya', 'ya', 'Afrika', 'Masharki', ',', 'kulisaidia', 'jeshi', 'la', 'Kongo', ',', 'kufuatia', 'mashambulio', 'mapya', 'ya', 'kijeshi', 'ya', 'waasi', 'wa', 'M23', '.', 'Lakini', 'hadi', 'sasa', 'kuundwa', 'kwa', 'kikosi', 'hicho', 'kunakabiliwa', 'na', 'kizingiti', 'kutokana', 'na', 'Kongo', 'kukataa', 'kabisa', 'Rwanda', 'isiwemo', 'katika', 'kikosi', 'hicho', 'ikiishutumu', 'kuwaunga', 'mkono', 'waasi', 'hao', ',', 'madai', 'ambayo', 'Rwanda', 'inaendelea', 'kuyakanusha', '.', 'Kenya', 'kwa', 'hivyo', 'inabakia', 'mshirika', 'muhimu', 'wa', 'kanda', 'kibiashara', 'na', 'kiuchumi', 'na', 'yeyote', 'Hapana', 'shaka', 'yeyote', 'atakayemrithi', 'Rais', 'Uhuru', 'Kenyata', ',', 'iwe', 'ni', 'Raila', 'Odinga', 'au', 'William', 'Ruto', 'atakuwa', 'na', 'wajibu', 'wa', 'kuendeleza', 'ushirika', '.', 'Matumaini', 'ya', 'wakaazi', 'katika', 'kanda', 'hii', 'sawa', 'na', 'wakenya', 'kwa', 'jumla', ',', 'ni', 'kwamba', 'uchaguzi', 'wa', 'Agosti', '9', ',', '2022', 'utakuwa', 'wa', 'amani', 'na', 'utulivu', '.', 'Kwa', 'wanaharakati', 'katika', 'nchi', 'jirani', 'wana', 'matarajio', 'kwamba', 'Kenya', 'itakuwa', 'pia', 'na', 'nafasi', 'kubwa', 'ya', 'kuwa', 'usukukani', 'sio', 'tu', 'wa', 'kiuchumi', 'lakini', 'wa', 'kisiasa', ',', 'panapohusika', 'na', 'vuguvugu', 'lao', 'la', 'kupigania', 'demokrasia', 'na', 'haki', 'za', 'binadamu', 'katika', 'nchi', 'zao', '.']\n",
      "\n",
      " Number of Words:  1926\n"
     ]
    }
   ],
   "source": [
    "file=\"22July25_4.txt\"\n",
    "\n",
    "# calling the function and storing the contents in a text variable \n",
    "text = get_document(\"https://www.bbc.com/swahili/62294016\")\n",
    "\n",
    "# calling the store_ document function \n",
    "store_document(doc=text,name=file)\n",
    "\n",
    "#add the words in this file to the total_corpus_words, to keep count of the number of words in the corpus\n",
    "total_corpus_words+=total_words(file)"
   ]
  },
  {
   "cell_type": "code",
   "execution_count": 157,
   "metadata": {},
   "outputs": [
    {
     "data": {
      "text/plain": [
       "449919"
      ]
     },
     "execution_count": 157,
     "metadata": {},
     "output_type": "execute_result"
    }
   ],
   "source": [
    "total_corpus_words"
   ]
  },
  {
   "cell_type": "code",
   "execution_count": 158,
   "metadata": {},
   "outputs": [
    {
     "name": "stdout",
     "output_type": "stream",
     "text": [
      "['Uchaguzi', 'Kenya', '2022', ':', 'Changamoto', 'za', 'wanasiasa', 'wa', 'kike', 'wa', 'mjini', 'zinatofautiana', 'na', 'zile', 'za', 'wanasiasa', 'wa', 'vijijini', '?', '25', 'Julai', '2022', 'Na', 'Aboubakar', 'Famau', 'BBC', 'Swahili', 'Heka', 'heka', 'za', 'uchaguzi', 'zinaonekana', 'kupamba', 'moto', 'nchini', 'Kenya', ',', 'wakati', 'taifa', 'hilo', 'likijiandaa', 'kuelekea', 'katika', 'uchaguzi', 'mkuu', 'unaotarajiwa', 'kufanyika', 'mnamo', 'tarehe', '9', 'mwezi', 'Agosti', '.', 'Kama', 'ilivyo', 'kwa', 'mataifa', 'mengine', 'katika', 'kipindi', 'kama', 'hiki', ',', 'wanasiasa', 'wamekua', 'wakiusubiri', 'muda', 'huu', 'kwa', 'udi', 'na', 'uvumba', 'ili', 'wakutane', 'na', 'wafuasi', 'wao', 'na', 'kunadi', 'sera', 'zao', 'kwa', 'lengo', 'la', 'kuvutia', 'wapiga', 'kura', '.', 'Ni', 'katika', 'hatua', 'hii', 'ambapo', ',', 'baadhi', 'ya', 'wanasiasa', 'hutumia', 'kila', 'njia', 'wawezayo', 'ambayo', 'wanahisi', 'itawaletea', 'kura', '.', 'Baadhi', 'huamua', 'kutumia', 'njia', 'ambazo', 'hazikubaliki', ',', 'ikiwemo', 'matusi', 'dhidi', 'ya', 'wapinzani', 'wao', 'pindi', 'wanapokuwa', 'kwenye', 'majukwaa', 'ya', 'kampeni', 'na', 'wengine', 'hata', 'rushwa', '.', 'Kwa', 'kawaida', ',', 'hali', 'hii', 'ina', 'athari', 'kwa', 'makundi', 'yote', ',', 'ikiwemo', 'wanawake', 'na', 'wanaume', ',', 'lakini', 'ni', 'dhahiri', 'kwamba', ',', 'mara', 'nyingi', ',', 'wanasiasa', 'wanawake', 'kwa', 'muda', 'mrefu', 'ndio', 'wamekuwa', 'waathirika', 'wakubwa', ',', 'hasa', 'pale', 'matusi', 'yanapoelekezwa', 'dhidi', 'yao', 'kupitia', 'mitandao', 'ya', 'kijamii', 'au', 'majukwaa', 'ya', 'kisiasa', '.', 'Wachambuzi', 'wa', 'mambo', ',', 'wamekuwa', 'wakihusisha', 'hali', 'hii', 'na', 'ushiriki', 'mdogo', 'wa', 'kina', 'mama', 'katika', 'siasa', '.', 'Hata', 'hivyo', ',', 'katika', 'hali', 'isiyo', 'ya', 'kawaida', ',', 'kampeni', 'za', 'uchaguzi', 'wa', 'mwaka', 'huu', ',', 'zinaonekana', 'kuwa', 'tofauti', 'na', 'zile', 'za', 'chaguzi', 'zilizopita', '.', 'Na', 'hii', 'inatokana', 'na', 'jinsi', 'idadi', 'kubwa', 'ya', 'wanawake', 'waliojitokeza', 'na', 'kuingia', 'katika', 'ulingo', 'wa', 'kisiasa', '.', 'Vyama', 'vitatu', 'vya', 'kisiasa', 'tayari', 'vina', 'wagombea', 'wenza', 'wa', 'kike', ',', 'huku', 'hamasa', 'kubwa', 'pia', 'ikionekana', 'katika', 'nafasi', 'nyengine', 'za', 'uongozi', 'kama', 'vile', 'za', 'magavana', 'na', 'maseneta', '.', 'Wanaharakati', 'wanafurahishwa', 'Baadhi', 'ya', 'wanaharakati', 'nchini', 'humo', 'wanayaona', 'haya', 'kama', 'ni', 'matunda', 'ya', 'jitihada', 'zilizofanyika', 'za', 'kuwajengea', 'uwezo', 'wanawake', '.', 'Daisy', 'Amdany', 'ambae', 'ni', 'mkurugenzi', 'mkuu', 'wa', 'shirika', 'lisilo', 'la', 'kiserikali', 'la', 'CROWN', 'TRUST', 'anasema', 'mwamko', 'umekuwa', 'mkubwa', 'kutokana', 'na', 'jitihada', 'ya', 'miongo', 'miwili', 'dhidi', 'ya', 'unyanyapa', 'kwa', 'wanawake', 'kwenye', 'siasa', '.', 'Hatua', 'ambayo', 'imesababisha', 'mabadiliko', 'katika', 'katiba', 'Kenya', 'kuhakikisha', 'idadi', 'ya', 'wanawake', 'imetiliwa', 'maanani', 'zaidi', 'katika', 'nafasi', 'za', 'ajira', 'na', 'uongozi', 'na', 'kuimarisha', 'uwezo', 'wa', 'kina', 'mama', '.', '“', 'Kuna', 'mwamko', 'tena', 'mkubwa', 'sana', ',', 'kwa', 'sababu', 'hapo', 'mwanzoni', 'vyama', 'vingi', ',', 'hata', 'wakati', 'wanawake', 'walikuwa', 'wanajitosa', ',', 'vyama', 'vingi', 'havikuwa', 'vinawahusisha', 'wanawake', ',', 'ulikuwa', 'unaona', 'wakati', 'wakiteua', ',', 'wanawake', 'wengi', 'walikuwa', 'wanaangushwa', 'na', 'hawafiki', 'katika', 'hatua', 'ya', 'kupigiwa', 'kura', ',', 'lakini', 'tuko', 'na', 'wanawake', 'wengi', 'wameingia', 'katika', 'kinyang', '’', 'anyiro', ',', 'na', 'hivi', 'vyama', 'vikubwa', 'vimeweka', 'kina', 'mama', '.', 'Hii', 'imechangiwa', 'na', 'kuendelea', 'na', 'harakati', 'zetu', 'za', 'kusukuma', 'sheria', 'iweze', 'kutekelezwa', 'vilivyo', ',', 'kwa', 'sababu', 'tunajua', 'kwamba', 'katiba', 'yetu', 'iko', 'na', 'kipengele', 'ambacho', 'inasema', 'katika', 'kila', 'sehemu', 'ya', 'uongozi', ',', 'hapawezi', 'kuwa', 'na', 'zaidi', 'ya', 'thuluthi', 'mbili', 'ya', 'jinsia', 'moja', ',', '”', 'anasema', 'Daisy', '.', 'Kwa', 'muda', 'mrefu', ',', 'kumekuwa', 'na', 'dhana', 'kwamba', ',', 'wanawake', 'wanasiasa', 'wa', 'vijijini', 'pekee', 'ndio', 'wanaokabiliwa', 'na', 'changamoto', ',', 'huku', 'ikifikiriwa', 'kwamba', 'wale', 'waliopo', 'mijini', 'wana', 'afueni', '.', 'Lakini', 'changamoto', 'zinazowakabili', 'wanasiasa', 'wanawake', 'vijijini', 'hazitofautiani', 'na', 'wanawake', 'wa', 'mijini', '.', 'Uwezo', 'wa', 'kifedha', 'Suala', 'la', 'uwezo', 'wa', 'kifedha', 'kwa', 'wanasiasa', 'wanawake', 'nalo', 'linaonekana', 'kuwa', 'miongoni', 'mwa', 'vikazo', 'vinavyomzuia', 'mwanamke', 'kufanikiwa', 'kupata', 'ushindi', 'katika', 'ulingo', 'wa', 'siasa', '.', 'Hayo', 'yamesemwa', 'na', 'Justina', 'Wangoe', 'Wamae', ',', 'ambae', 'ni', 'mgombea', 'mwenza', 'kupitia', 'chama', 'cha', 'Roots', 'Party', 'of', 'Kenya', '.', 'Katika', 'mahojiano', 'maalumu', ',', 'Justina', 'amemwambia', 'mwandishi', 'wa', 'BBC', 'Aboubakar', 'Famau', 'swala', 'la', 'urithi', 'au', 'umiliki', 'wa', 'ardhi', 'lina', 'uwezo', 'wa', 'kuimarisha', 'uchumi', 'wa', 'wanawake', '.', 'Ikiwa', 'jami', 'inayoongozwa', 'zaidi', 'na', 'wanaume', 'itabadili', 'mtizamo', 'wake', 'na', 'kutoa', 'japo', 'asilimia', 'moja', 'ya', 'ardhi', 'wanazomiliki', ',', 'wanawake', 'hasa', 'vijijini', ',', 'watakuwa', 'na', 'uwezo', 'zaidi', 'kuendesha', 'shughuli', 'zao', 'za', 'kiuchumi', '.', '”', 'Changamoto', 'iliyopo', 'kwa', 'wanawake', 'wanasiasa', 'ni', 'kwamba', 'hatuna', 'ile', 'pesa', ',', 'kwa', 'hiyo', 'ukiingia', 'chama', ',', 'unaambiwa', 'uwe', 'mpenzi', 'wa', 'kiongozi', 'wa', 'chama', 'kwa', 'sababu', 'huna', 'pesa', ',', 'lakini', 'wanawake', 'wangekuwa', 'na', 'fedha', 'zao', 'kama', 'wanaume', ',', 'wangeweza', 'kubishana', 'na', 'wanaume', 'na', 'kusema', 'kama', 'ni', 'ada', 'ya', 'chama', 'nitalipa', ',', 'lakini', 'tunatafuta', 'msaada', 'kwa', 'sababu', 'hatujiwezi', 'kifedha', ',', '”', 'anasema', 'Justina', '.', 'Wakati', 'huo', 'huo', ',', 'hatua', 'nazo', 'zimeanza', 'kuchukuliwa', 'ili', 'kuwalinda', 'wanawake', 'dhidi', 'ya', 'matusi', 'lakini', 'pia', 'kuweka', 'mazingira', 'rafiki', 'kwao', '.', 'Mathalan', ',', 'kampuni', 'ya', 'teknologia', 'ya', 'Meta', ',', 'imeweza', 'kutoa', 'taarifa', 'elfu', '37', 'zinazohusishwa', 'kuchangia', 'maudhui', 'ya', 'chuki', 'miongoni', 'mwa', 'jamii', '.', 'Taarifa', 'hizo', 'zilikuwa', 'katika', 'mtandao', 'wa', 'kijamii', 'wa', 'Facebook', '.', 'Meta', 'imesema', ',', 'imeajiri', 'watu', 'wa', 'kuhakiki', 'na', 'kufuatilia', 'maudhui', 'zinazoweka', 'kuelekea', 'uchaguzi', 'mkuu', ',', 'ili', 'kuhakikisha', 'mchakato', 'huo', 'unafanyika', 'kwa', 'njia', 'salama', 'na', 'ya', 'amani', '.', 'Mwaka', 'wa', 'elfu', 'mbili', 'na', 'kumi', 'na', 'saba', '(', '2017', ')', 'ulikuwa', 'mojawapo', 'ya', 'chaguzi', 'zenye', 'vurugu', 'zaidi', 'ambazo', 'wanawake', 'walishiriki', 'na', 'kulikuwa', 'na', 'ongezeko', 'la', 'visa', 'vya', 'utekaji', 'nyara', 'na', 'unyanyasaji', 'wa', 'kijinsia', '.', 'Wanawake', 'walilengwa', 'mahususi', 'kwa', 'njia', 'za', 'mitandao', 'na', 'katika', 'kampeini', ',', 'wanawake', 'wengi', 'walijiondoa', 'katika', 'uchaguzi', '.', 'Wananchi', 'Kwa', 'upande', 'wake', ',', 'baadhi', 'ya', 'raia', 'wa', 'Kenya', 'wanaonyesha', 'kufurahishwa', 'na', 'hali', 'ya', 'kisiasa', 'inavyokwenda', ',', 'hasa', 'katika', 'ushirikishwaji', 'wa', 'wanaweke', '.', 'Mkazi', 'mmoja', 'wa', 'jijini', 'Nairobi', ',', 'aliyejitambulisha', 'kwa', 'jina', 'la', 'Mureithi', ',', 'anasema', ',', 'yeye', 'anaunga', 'mkono', 'kabisa', 'wanasiasa', 'wanawake', ',', 'kwa', 'sababu', 'nao', 'ni', 'sehemu', 'ya', 'jamii', '.', 'Caro', ',', 'nae', 'ambae', 'anajishughulisha', 'na', 'biashara', 'ya', 'uwakala', 'wa', 'fedha', ',', 'anasema', ',', 'anawaunga', 'mkono', 'wanawake', 'kwa', 'sababu', 'wao', 'wanajua', 'hali', 'ya', 'maisha', 'watu', 'wanayopitia', '.', 'Serikali', 'ya', 'Jubilee', 'inayoondoka', 'madarakani', ',', 'ambayo', 'inaongozwa', 'na', 'rais', 'Uhuru', 'Kenyatta', 'ndio', 'ya', 'kwanza', 'kuchaguliwa', 'nchini', 'Kenya', 'chini', 'ya', 'katiba', 'mpya', 'ya', 'mwaka', 'elfu', 'mbili', 'na', 'kumi', ',', 'hata', 'hivyo', ',', 'wachambuzi', 'wa', 'mambo', 'wanasema', 'ndiyo', 'iliyoshindwa', 'kutekeleza', 'baadhi', 'ya', 'vipengele', 'ikiwemo', 'kile', 'cha', 'kuhakikisha', 'uwepo', 'kwa', 'thuluthi', 'moja', 'ya', 'wanawake', 'katika', 'nafasi', 'mbalimbali', 'za', 'uongozi', '.', 'Hata', 'hivyo', ',', 'rais', 'Kenyatta', 'mara', 'kadhaa', 'ameonekana', 'kutetea', 'nafasi', 'yake', '.', 'Kwa', 'sasa', ',', 'ni', 'kusubiri', 'na', 'kuona', ',', 'ni', 'kwa', 'kiasi', 'gani', ',', 'kina', 'mama', 'hawa', 'wataibuka', 'kidedea', 'katika', 'uchaguzi', 'mkuu', 'ambao', 'wanawake', 'bado', 'wanaonekana', 'kukabiliwa', 'na', 'ushindani', 'mkubwa', 'miongoni', 'mwao', 'na', 'kutoka', 'kwa', 'wanaume', '.']\n",
      "\n",
      " Number of Words:  978\n"
     ]
    }
   ],
   "source": [
    "file=\"22July25_5.txt\"\n",
    "\n",
    "# calling the function and storing the contents in a text variable \n",
    "text = get_document(\"https://www.bbc.com/swahili/articles/c72zwpv7xrwo\")\n",
    "\n",
    "# calling the store_ document function \n",
    "store_document(doc=text,name=file)\n",
    "\n",
    "#add the words in this file to the total_corpus_words, to keep count of the number of words in the corpus\n",
    "total_corpus_words+=total_words(file)"
   ]
  },
  {
   "cell_type": "code",
   "execution_count": 159,
   "metadata": {},
   "outputs": [
    {
     "data": {
      "text/plain": [
       "450897"
      ]
     },
     "execution_count": 159,
     "metadata": {},
     "output_type": "execute_result"
    }
   ],
   "source": [
    "total_corpus_words"
   ]
  },
  {
   "cell_type": "code",
   "execution_count": 160,
   "metadata": {},
   "outputs": [
    {
     "name": "stdout",
     "output_type": "stream",
     "text": [
      "['Kukamatwa', 'kwao', 'kunatilia', 'shaka', 'uadilifu', 'na', 'utendakazi', 'wa', 'tume', 'hiyo', 'pamoja', 'na', 'maandalizi', 'yake', 'wiki', 'mbili', 'kabla', 'ya', 'wapiga', 'kura', 'kufanya', 'maamuzi', 'yao', '.', 'Msemaji', 'wa', 'Polisi', 'Bruno', 'Shioso', 'alinukuliwa', 'Ijumaa', 'iliyopita', 'akisema', 'kwamba', ',', 'ukamataji', 'huo', 'na', 'uchunguzi', 'kuhusu', 'vifaa', 'vilivyopatikana', 'na', 'raia', 'hao', 'wa', 'kigeni', 'ulitokana', 'na', 'umuhimu', 'wa', 'vifaa', 'hivyo', 'vya', 'uchaguzi', '.', 'Je', 'ni', 'vifaa', 'gani', 'vilivyopatikana', 'na', 'raia', 'hao', 'wa', 'Venezuela', '?', 'Bwana', 'Shioso', 'alisema', 'kwamba', 'raia', 'mmoja', 'wa', 'kigeni', 'alikamatwa', 'kwasababu', 'stika', 'za', 'uchaguzi', 'alizokuwa', 'nazo', 'hazikuorodheshwa', 'katika', 'mizigo', 'yake', 'kama', 'inavyohitajika', 'kisheria', 'na', 'kwamba', 'vifaa', 'hivyo', 'vilibebwa', 'katika', 'mizigo', 'ya', 'kibinafsi', 'ya', 'wageni', 'hao', '.', 'Msemaji', 'huyo', 'aliongezea', 'kwamba', 'maafisa', 'wa', 'polisi', 'hawakuarifiwa', 'kuhusu', 'hatua', 'hiyo', 'ili', 'kutoa', 'usalama', 'na', 'kuvisindikiza', 'vifaa', 'hivyo', 'kama', 'inavyohitajika', 'na', 'Tume', 'ya', 'uchaguzi', 'na', 'mipaka', 'nchini', 'Kenya', 'IEBC', '.', 'Nani', 'yuko', 'kwenye', \"kinyang'anyiro\", 'cha', 'kuiongoza', 'Kenya', '?', 'Fahamu', 'zaidi', 'kuwahusu', 'wagombea', 'urais', 'wa', 'Kenya', 'Chagua', 'mgombea', 'ili', 'kutazama', 'wasifu', 'wake', 'Raila', 'Odinga', 'William', 'Ruto', 'George', 'Wajackoyah', 'David', 'Mwaure', 'Raila', 'Amollo', 'Odinga', 'Muungano', 'wa', 'Azimio', 'la', 'Umoja', 'Maelezo', 'ya', 'Msingi', 'Mgombea', 'huyo', 'mwenye', 'umri', 'wa', 'miaka', '77', 'ni', 'mhandisi', 'aliyesomea', 'Chuo', 'Kikuu', 'cha', 'Ufundi', 'cha', 'Magdeburg', '(', 'sasa', 'kinajulikana', 'kama', 'Chuo', 'Kikuu', 'cha', 'Otto-von-Guericke', 'Magdeburg', ')', 'nchini', 'Ujerumani', '.', 'Anawania', 'kiti', 'cha', 'urais', 'kwa', 'tikiti', 'ya', 'Azimio', 'la', 'Umoja', 'One', 'Kenya', 'Coalition', 'Party', '.', 'Hili', 'litakuwa', 'jaribio', 'lake', 'la', 'tano', 'baada', 'ya', 'kugombea', 'katika', ':', '1997', ',', '2007', ',', '2013', 'na', '2017', '.', 'Mafanikio', 'Muhimu', 'Bw', 'Odinga', 'alikuwa', 'mmoja', 'wa', 'wapiganiaji', 'wa', 'demokrasia', 'ya', 'vyama', 'vingi', 'nchini', 'Kenya', '.', 'Alikamatwa', ',', 'akafungwa', 'na', 'wakati', 'fulani', 'akaenda', 'uhamishoni', 'kwa', 'sababu', 'ya', 'kupigania', 'haki', 'hiyo', 'Aliwahi', 'kuwa', 'Waziri', 'Mkuu', ',', 'kuanzia', '2008-2013', '.', 'Odinga', 'alihusika', 'kufanikisha', 'miradi', 'mikubwa', 'iliyotekelezwa', 'na', 'serikali', 'ya', 'Kibaki', ',', 'kama', 'vile', 'miradi', 'ya', 'umeme', 'vijijini', 'na', 'barabara', '.', 'Ahadi', 'Muhimu', 'Kuafikia', 'ukuaji', 'wa', 'uchumi', 'wa', 'tarakimu', 'mbili', 'kupitia', 'uwekezaji', 'katika', 'biashara', 'ndogo', 'ndogo', 'na', 'sekta', 'ya', 'viwanda', '.', 'Utoaji', 'wa', 'huduma', 'bora', 'za', 'afya', 'kwa', 'wote', '.', 'Utoaji', 'wa', 'vifaa', 'vya', 'michezo', 'na', 'burudani', 'kwa', 'ukuaji', 'wa', 'kimwili', ',', 'kiakili', ',', 'kijamii', ',', 'kimaadili', 'na', 'maendeleo', 'ya', 'watu', '.', 'Kashfa/Sakata', 'Kufuatia', 'jaribio', 'la', 'mapinduzi', 'ya', 'Agosti', '1', ',', '1982', ',', 'Raila', 'Odinga', 'alikamatwa', 'na', 'kukabiliwa', 'na', 'mashtaka', 'kadhaa', ',', 'yakiwemo', 'ya', 'uhaini', 'ambayo', 'alizuiliwa', 'bila', 'kufunguliwa', 'mashtaka', '.', 'Tume', 'ya', 'Ukweli', 'ya', 'Haki', 'na', 'Maridhiano', 'iliambiwa', 'mwaka', '2011', 'kwamba', 'Odinga', 'alikuwa', 'na', 'mawasiliano', 'na', 'mpangaji', 'mkuu', 'wa', 'mapinduzi', 'hayo', '.', 'Odinga', 'amekana', 'kuhusika', 'kila', 'mara', '.', '-', 'Makavazi', 'ya', 'Kitaifa', 'ya', 'Kenya', '.', 'William', 'Samoei', 'Ruto', 'Muungano', 'wa', 'Kenya', 'Kwanza', 'Maelezo', 'ya', 'Msingi', 'Mgombea', 'huyu', 'mwenye', 'umri', 'wa', 'miaka', '55', 'ana', 'Shahada', 'ya', 'Uzamifu/PhD', 'katika', 'Ikolojia', 'ya', 'Mimea', 'na', 'BSc', 'katika', 'Botany', 'na', 'Zoology', 'kutoka', 'Chuo', 'Kikuu', 'cha', 'Nairobi', '.', 'Anawania', 'kiti', 'cha', 'urais', 'kwa', 'tikiti', 'ya', 'chama', 'cha', 'United', 'Democratic', 'Alliance', '(', 'chenye', 'mafungamano', 'na', 'Kenya', 'Kwanza', ')', '.', 'Aliongoza', 'Vuguvugu', 'la', 'vijana', 'la', 'Youth', 'for', 'Kanu', \"'92\", '(', 'YK', \"'\", '(', '92', ')', '.', 'Mafanikio', 'Muhimu', 'Wizara', 'yake', 'iliorodheshwa', 'kama', 'inayofanya', 'bora', 'zaidi', 'serikalini', 'alipokuwa', 'Waziri', 'wa', 'Kilimo', '.', 'Alihudumu', 'kama', 'Naibu', 'Rais', 'wa', 'kwanza', 'wa', 'Kenya', 'chini', 'ya', 'katiba', 'mpya', 'ya', '2010', '.', 'Alihudumu', 'kama', 'mbunge', 'wa', 'eneo', 'bunge', 'la', 'Eldoret', 'Kaskazini', 'kuanzia', '1997-2007', '.', 'Ahadi', 'Muhimu', 'Kutenga', '$', '424', 'milioni', 'kila', 'mwaka', 'kwa', 'biashara', 'ndogo', 'ndogo', 'za', 'kati', '.', 'Kuanzisha', 'mfuko', 'wa', 'elimu', 'wa', 'kitaifa', 'ili', 'kukidhi', 'gharama', 'zisizo', 'za', 'masomo', '.', 'Tekeleza', 'kikamilifu', 'sheria', 'ya', 'usawa', 'wa', 'kijinsia', 'ya', 'thuluthi', 'mbili', 'katika', 'uteuzi', 'wa', 'kisiasa', 'na', 'kutenga', 'nusu', 'ya', 'baraza', 'lake', 'la', 'mawaziri', 'kwa', 'wanawake', '.', 'Kashfa/Sakata', 'Mnamo', '2008', ',', 'Mahakama', 'Kuu', 'ya', 'Kenya', 'iliamuru', 'Naibu', 'Rais', 'William', 'Ruto', 'kusalimisha', 'shamba', 'la', 'ekari', '100', 'na', 'kulipa', '$', '62,500', 'kwa', 'Adrian', 'Muteshi', ',', 'mkulima', 'ambaye', 'alimshtaki', 'kwa', 'kuchukua', 'mali', 'hiyo', 'baada', 'ya', 'uchaguzi', 'wa', '2007', '.', '-', 'Kenya', 'Law', 'Mnamo', '2011', ',', 'Bw', 'Ruto', 'alikabiliwa', 'na', 'kesi', 'kwa', 'makosa', 'matatu', 'dhidi', 'ya', 'binadamu', ':', 'Mauaji', ',', 'uhamisho', 'wa', 'watu', 'kwa', 'lazima', 'na', 'mateso', 'ya', 'watu', 'katika', 'Mahakama', 'ya', 'Kimataifa', 'ya', 'Uhalifu', '.', 'Miaka', 'mitano', 'baadaye', 'mahakama', 'ilisitisha', 'kesi', 'hiyo', 'kwa', 'msingi', 'kwamba', '-', 'ushahidi', 'wa', 'upande', 'wa', 'mashtaka', 'ulikuwa', 'dhaifu', '.', '-ICC', 'George', 'Wajackoyah', 'Chama', 'cha', 'Roots', 'Maelezo', 'ya', 'Msingi', 'Profesa', 'huyo', 'mwenye', 'umri', 'wa', 'miaka', '61', 'ana', 'shahada', 'ya', 'uzamili', 'katika', 'sheria', 'kuhusu', 'maendeleo', 'kutoka', 'Chuo', 'Kikuu', 'cha', 'Warwick', 'na', 'shahada', 'ya', 'uzamili', ',', 'sheria', '(', 'sheria', 'za', 'Marekani', 'kutoka', 'Chuo', 'Kikuu', 'cha', 'Baltimore', '.', 'Bw', 'Wajackoyah', 'anawania', 'kiti', 'cha', 'urais', 'kwa', 'tiketi', 'ya', 'Chama', 'cha', 'Roots', 'Party', '.', 'Mafanikio', 'Muhimu', 'Alihudumu', 'kama', 'Inspekta', 'katika', 'idara', 'ya', 'usalama', 'ya', 'Special', 'branch', 'wakati', 'wa', 'utawala', 'wa', 'marehemu', 'Rais', 'Daniel', 'Moi', 'kabla', 'ya', 'kulazimika', 'kutorokea', \"ng'ambo\", 'ili', 'kuepuka', 'kufunguliwa', 'mashtaka', 'na', 'mamlaka', '.', 'Yeye', 'ni', 'mshirika', 'katika', 'kampuni', 'ya', 'mawakili', 'aliyoianzisha', 'mwaka', 'wa', '2018', '.', 'Alifunnza', 'somo', 'la', 'sheria', 'na', 'uchumi', 'katika', 'vyuo', 'vikuu', 'vya', 'Marekani', ',', 'Uingereza', 'na', 'Kenya', '.', 'Ahadi', 'Muhimu', 'Kuhalalisha', 'matumizi', 'ya', 'kiviwanda', 'ya', 'bangi', 'Badilisha', 'siku', 'za', 'kazi', 'hadi', 'Jumatatu', 'hadi', 'Alhamisi', '.', 'Huduma', 'ya', 'afya', 'ya', 'bure', 'na', 'msaada', 'kwa', 'wazee', ',', 'walio', 'hatarini', 'na', 'wajawazito', 'David', 'Mwaure', 'Waihiga', 'Chama', 'cha', 'Agano', 'Maelezo', 'ya', 'Msingi', 'David', 'Mwaure', 'anawania', 'kiti', 'cha', 'urais', 'kwa', 'tiketi', 'ya', 'Chama', 'cha', 'Agano', '.', 'Ni', 'kiongozi', 'wa', 'Chama', 'cha', 'Agano', '.', 'Alihitimu', 'na', 'shahada', 'ya', 'sheria', 'kutoka', 'Chuo', 'Kikuu', 'cha', 'Nairobi', 'na', 'ana', 'Shahada', 'ya', 'Uzamili', 'katika', 'masomo', 'ya', 'uongozi', '.', 'Mafanikio', 'Muhimu', 'Yeye', 'ni', 'wakili', 'mkuu', 'na', 'amehudumu', 'kama', 'mwanasheria', 'kwa', 'zaidi', 'ya', 'miongo', 'mitatu', '.', 'Ahadi', 'Muhimu', 'Afisa', 'huyo', 'aliongeza', 'kwamba', 'Uchunguzi', 'uliofanywa', 'ulibaini', 'kwamba', 'stika', 'hizo', 'zilikuwa', 'mali', 'ya', 'IEBC', 'na', 'miongoni', 'mwa', 'vifaa', 'vya', 'Uchaguzi', '.', 'Polisi', 'wanasema', 'kwamba', 'wakati', 'wa', 'kukamatwa', 'kwake', 'raia', 'huyo', 'alikuwa', 'akimiliki', 'kipakatalishi', 'na', 'flash', 'drive', 'tano', ',', 'miongoni', 'mwa', 'vifaa', 'vya', 'kompyuta', 'pamoja', 'na', 'mabunda', 'ya', 'Stika', 'ambayo', 'alisema', 'yanatoka', 'kwa', 'mwajiri', 'wake', '.', 'Raia', 'wa', 'pili', 'wa', 'Venezuela', 'alidaiwa', 'kubeba', 'mabunda', '9', 'ya', 'stika', 'za', 'uchaguzi', 'huku', 'wa', 'tatu', 'akibeba', 'mabunda', '8', 'ya', 'stika', 'hizo', '.', 'Uchunguzi', 'mwingine', 'unadaiwa', 'kufanywa', 'katika', 'nyumba', 'waliokuwa', 'wakilala', 'ambapo', 'maafisa', 'wa', 'polisi', 'walikamata', 'tablet', 'moja', 'na', 'flash', 'disk', 'mbili', '.', 'Vifaa', 'vyote', 'vya', 'kilektroniki', 'vilivyokamatwa', 'vilipelekwa', 'katika', 'maabara', 'ya', 'polisi', 'wanaokabiliana', 'na', 'ugaidi', 'ATPU', 'kwa', 'uchunguzi', 'zaidi', ',', 'walisema', 'maafisa', 'wa', 'polisi', 'katika', 'taarifa', 'iliotolewa', 'siku', 'ya', 'Jumapili', '.', 'Je', 'Tume', 'ya', 'Uchaguzi', 'na', 'Mipaka', 'inasemaje', '?', 'Mwenyekiti', 'wa', 'IEBC', 'Chebukati', 'hatahivyo', 'alihalalisha', 'kuwasili', 'kwa', 'nyenzo', 'za', 'uchaguzi', 'zilizonaswa', 'katika', 'uwanja', 'wa', 'ndege', ',', 'zikiwemo', 'stika', 'na', 'kutofautiana', 'na', 'Idara', 'ya', 'polisi', 'kuhusu', 'raia', 'wa', 'kigeni', 'waliokuwa', 'wakimiliki', 'vifaa', 'hivyo', '.', '``', 'Ili', 'kutambua', 'vifaa', 'vya', 'KIEMS', 'kwa', 'urahisi', ',', 'Smartmatic', ',', 'kampuni', 'inayoisaidia', 'tume', 'hiyo', 'ya', 'Uchaguzi', 'kupitia', 'teknolojia', 'inahitajika', 'kutoa', 'vibandiko', 'ili', 'kusaidia', 'kuweka', 'lebo', 'kwa', 'kila', 'kifaa', 'kwa', 'madhumuni', 'ya', 'kufunga', 'na', 'kupeleka', 'katika', 'vituo', 'vyote', 'vya', 'kupigia', 'kura', '.', 'Usambazaji', 'wa', 'vifaa', 'vya', 'KIEMS', 'unaendelea', 'kwa', 'sasa', '.', '``', 'Ni', 'muhimu', 'kutambua', 'kwamba', 'vibandiko', 'hivyo', 'si', 'nyenzo', 'za', 'uchaguzi', 'zisizo', 'za', 'kimkakati', '.', 'Vibandiko', 'hivyo', 'vilichapishwa', 'kulingana', 'na', 'maelezo', 'ya', 'notisi', 'ya', 'gazeti', 'la', 'serikali', 'iliyochapishwa', 'Julai', '1', '2022', ',', \"''\", 'IEBC', 'ilieleza', '.', 'IEBC', 'katika', 'taarifa', 'yao', 'ilisema', 'kuwa', 'Wavenezuela', 'walipewa', 'kandarasi', 'ya', 'kusaidia', 'katika', 'sekta', 'ya', 'ICT', 'na', 'usambazaji', 'wa', 'vifaa', 'vya', 'KIEMS', '.', 'Awali', 'tume', 'hiyo', 'ilisema', 'kwamba', 'idara', 'ya', 'huduma', 'za', 'polisi', 'inashikilia', 'vifaa', 'muhimu', 'vya', 'kielektroniki', 'vilivyokuwa', 'na', 'raia', 'hao', 'watatu', 'wa', 'kigeni', 'waliokamatwa', 'siku', 'ya', 'Alhamisi', 'wiki', 'iliyopita', '.', 'Katika', 'taarifa', 'iliotolewa', 'na', 'mwenyekiti', 'wake', 'Wafula', 'Chebukati', 'siku', 'ya', 'Ijumaa', ',', 'tume', 'hiyo', 'iliishtumu', 'serikali', 'ikisema', 'hatua', 'hiyo', 'itaathiri', 'maandalizi', 'ya', 'uchaguzi', 'mkuu', '.', '``', 'I', 'dara', 'ya', 'huduma', 'ya', 'Polisi', 'NPS', 'imewapokonya', 'vitu', 'vyote', 'muhimu', 'ikiwemo', 'simu', ',', 'vipakatalishi', 'na', 'flash', 'disks', 'maafisa', 'hao', ',', 'ambapo', 'vifaa', 'hivyo', 'muhimu', 'vya', 'kielektroniki', 'vina', 'ujumbe', 'muhimu', 'sana', 'unaohusishwa', 'na', 'uchaguzi', 'ujao', 'Pamoja', 'na', 'miradi', 'mingine', 'wanaoyofanya', 'katika', 'mataifa', 'mengine', '.', 'Maafisa', 'hao', 'walilazimishwa', 'kutoa', 'nywila', 'za', 'simu', 'zao', 'na', 'vifaa', 'vingine', 'hatua', 'inayokiuka', 'haki', 'za', 'faragha', ',', 'Chebukati', 'alisema', 'katika', 'taarifa', 'aliotoa', 'kwa', 'vyombo', 'vya', 'habari', '.', 'Aliishutumu', 'idara', 'ya', 'huduma', 'za', 'polisi', 'kwa', 'kudanganya', 'kwamba', 'vifaa', 'vilivyopatikana', 'vimerejeshewa', 'tume', 'ya', 'Uchaguzi', '.', 'Mwenyekiti', 'wa', 'Tume', 'hiyo', 'amedai', 'kwamba', 'vifaa', 'hivyo', 'vilevile', 'bado', 'vipo', 'kwa', 'mikono', 'ya', 'kitengo', 'cha', 'kukabiliana', 'na', 'ugaidi', 'nchini', 'ATPU', '.', 'Chebukati', 'amesema', 'kwamba', 'tume', 'yake', 'imeghadhabishwa', 'na', 'kitendo', 'hicho', ',', 'na', 'kuitaka', 'idara', 'ya', 'polisi', 'nchini', 'Kuwapatia', 'fursa', 'ya', 'kutekeleza', 'jukumu', 'lao', '.', 'Kwanini', 'Idara', 'ya', 'Jinai', 'inakinzana', 'na', 'Tume', 'ya', 'Uchaguzi', '?', 'Mkurugenzi', 'wa', 'Upelelezi', 'wa', 'Jinai', '(', 'DCI', ')', 'George', 'Kinoti', 'alitoa', 'ripoti', 'ya', 'kina', 'ya', 'uchunguzi', 'kuhusu', 'wageni', 'watatu', 'waliokamatwa', 'katika', 'Uwanja', 'wa', 'Ndege', 'wa', 'Kimataifa', 'wa', 'Jomo', 'Kenyatta', 'wakiwa', 'na', 'vifaa', 'vya', 'uchaguzi', '.', 'Huku', 'akishikilia', 'kuwa', 'watatu', 'hao', 'hawakuwa', 'maafisa', 'wa', 'Tume', 'Huru', 'ya', 'Uchaguzi', 'na', 'Mipaka', ',', 'ripoti', 'ya', 'Kinoti', 'inatoa', 'maelezo', 'ya', 'kina', 'jinsi', 'watatu', 'hao', 'walivyonaswa', 'katika', 'uwanja', 'wa', 'ndege', '.', 'Anasema', 'kwa', 'mara', 'ya', 'kwanza', 'walimkamata', 'Jose', 'Gregoria', 'Camargo', 'Castella', ',', 'raia', 'wa', 'Venezuela', 'ambaye', 'wakati', 'huo', 'hakujitambulisha', 'kama', 'mfanyakazi', 'wa', 'IEBC', 'lakini', 'ambaye', 'alikuwa', 'na', 'uhusiano', 'na', 'mfanyibiashara', 'Abdulahi', 'Abdi', 'Mohammed', 'jijini', 'Nairobi', '.', 'Inasemekana', 'kwamba', 'Abdi', 'alilipa', 'tikiti', 'ya', 'ndege', 'ya', 'Camargo', 'kuingia', 'nchini', 'na', 'alitarajiwa', 'kuripoti', 'ofisini', 'kwake', 'atakapowasili', '.', 'Alikuwa', 'amesafiri', 'kutoka', 'Panama', 'kupitia', 'Uturuki', 'na', 'aliwasili', 'nchini', 'Alhamisi', ',', 'Julai', '21', '.', 'Akisitasita', 'kutoa', 'maelezo', 'ya', 'mzigo', 'wake', ',', 'alisema', 'stakabadhi', 'hizo', 'alipewa', 'na', 'kampuni', 'yake', 'ili', 'kumpelekea', 'Abdi', '.', '``', 'Mshukiwa', 'alikiri', 'kwamba', 'alipewa', 'nyenzo', 'hizo', 'Panama', 'na', 'kampuni', 'yake', 'ya', 'M/S', 'Smartic', 'International', 'Holdings', 'B.V', 'ili', 'kuzipeleka', 'katika', 'afisi', 'ya', 'Abdulahi', 'Abdi', 'Mohammed', 'jijini', 'Nairobi', ',', \"''\", 'Sehemu', 'ya', 'taarifa', 'hiyo', 'ilisoma', '.', '``', 'Begi', 'lake', 'la', 'pili', 'lilikuwa', 'na', 'laptop', 'moja', ',', 'skrini', 'moja', ',', 'flash', 'disc', 'tano', ',', 'simu', 'moja', 'ya', 'mkononi', 'na', 'vifaa', 'vya', 'aina', 'mbalimbali', 'vya', 'kompyuta', ',', 'sio', 'mali', 'ya', 'IEBC', ',', \"''\", 'sehemu', 'ya', 'taarifa', 'hiyo', 'ndefu', 'ilisema', '.', 'Taarifa', 'hiyo', 'inazidi', 'kubainisha', 'kuwa', 'wakati', 'wakimhoji', 'Camargo', ',', 'raia', 'wengine', 'wawili', 'wa', 'kigeni', ';', 'Joel', 'Gustavo', 'Rodriguez', 'na', 'Salvador', 'Javier', 'Suarez', 'walionekana', 'kwenye', 'uwanja', 'wa', 'ndege', 'wakiuliza', 'mahali', 'alipo', '.', 'Kulingana', 'na', 'gazeti', 'la', 'The', 'People', 'Daily', 'nchini', 'Kenya', ',', 'baada', 'ya', 'uchunguzi', 'zaidi', ',', 'DCI', 'hata', 'hivyo', 'wanasema', 'wawili', 'hao', 'hawakuwa', 'wafanyakazi', 'wa', 'Smartmatic', 'na', 'walikuwa', 'wamesafiri', 'hadi', 'nchini', 'kwa', 'kutumia', 'pasi', 'za', 'kusafiria', 'zilizopitwa', 'na', 'wakati', 'kutoka', 'Venezuela', '.', '``', 'Wakati', 'wa', 'kuhojiwa', ',', 'Camargo', 'aliulizwa', 'iwapo', 'alikuwa', 'na', 'mawasiliano', 'yoyote', 'na', 'mtu', 'yeyote', 'katika', 'Jamhuri', 'ya', 'Kenya', 'na', 'haswa', 'IEBC', '-hatahivyo', 'hakuweza', 'kutoa', 'mawasiliano', 'yoyote', 'isipokuwa', 'mawasiliano', 'ya', 'nyumba', 'aliyopangiwa', '.', \"''\", 'DCI', 'ilisema', 'kuwa', 'huo', 'ulikuwa', 'mpango', 'uliopangwa', 'vyema', 'na', 'IEBC', 'kwani', 'alipohojiwa', 'na', 'mshauri', 'mkuu', 'wa', 'sheria', 'wa', 'tume', 'hiyo', 'Chrispine', 'Owiye', 'kuhusu', 'namna', 'ya', 'utoaji', 'wa', 'vifaa', 'vya', 'uchaguzi', 'kutoka', 'nje', 'ya', 'nchi', ',', 'alisema', 'kuwa', 'Mkurugenzi', 'Mkuu', 'Mtendaji', 'Marjan', 'Hussein', 'Marjan', 'hakutia', 'saini', 'kifungu', 'chochote', 'kuruhusu', 'hatua', 'hiyo', '.', '``', 'Mabadiliko', 'yaliyo', 'hapo', 'juu', 'yanazungumzia', 'mwanya', 'wa', 'kimakusudi', 'ulioachwa', 'kwa', 'makusudi', 'kwa', 'ajili', 'ya', 'kufanya', 'ulaghai', ',', \"''\", 'taarifa', 'ya', 'DCI', 'inadai', '.', 'Mgawanyiko', 'ndani', 'ya', 'Tume', 'ya', 'Uchaguzi', 'Bwana', 'Kinoti', 'aliongezea', 'kwamba', 'Mkurugenzi', 'Mtendaji', 'wa', 'tume', 'hiyo', 'pamoja', 'na', 'mwenyekiti', 'Wafula', 'Chebukati', 'walitofautiana', 'katika', 'kuwatambua', 'watatu', 'hao', '.', '``', 'Bw', 'Marhan', 'Hussein', 'Marjan', 'alisema', 'kwa', 'uwazi', 'kuwa', 'mshukiwa', 'Camargo', 'si', 'afisa', 'wa', 'IEBC', 'lakini', 'mfanyakazi', 'wa', 'Smartmatic', '.', 'Tunamuona', 'Mwenyekiti', 'Wafula', 'Chebukati', 'kuwa', 'mwongo', 'na', 'si', 'mwaminifu', 'kwa', 'kutangaza', 'watu', 'ambao', 'wamekataliwa', 'na', 'wafanyikazi', 'wake', 'kama', 'wafanyikazi', 'wa', 'IEBC', '.', \"''\", 'DCI', 'Kinoti', 'sasa', 'amemtaka', 'Wafula', 'Chebukati', 'kujitokeza', 'wazi', 'na', 'kuwahakikishia', 'Wakenya', 'uchaguzi', 'huru', ',', 'wa', 'haki', 'na', 'wa', 'kuaminika', '2022', '.', '``', 'Tunampa', 'changamoto', 'Chebukati', 'kuweka', 'mambo', 'yake', 'sawa', 'na', 'kuzungumza', 'juu', 'ya', 'kutimiza', 'maneno', 'yake', 'mwenyewe', 'kuhusu', 'uchaguzi', 'wa', 'haki', 'na', 'wa', 'kuaminika', '.', 'Anapaswa', 'kuacha', 'kuwatisha', 'na', 'kuwatusi', 'wadau', 'wengine', 'wanaowajibika', 'kwa', 'usawa', 'katika', 'kutekeleza', 'majukumu', 'yao', 'kwa', 'kutumia', 'vibaya', 'vyombo', 'vya', 'habari', 'kila', 'mara', ',', \"''\", 'Taarifa', 'hiyo', 'inatamatisha', '.', 'Majuma', 'mawili', 'yaliopita', 'makamishna', 'katika', 'tume', 'ya', 'IEBC', 'walidaiwa', 'kutofautiana', 'kuhusu', 'kuwasili', 'kwa', 'makaratasi', 'ya', 'kupigia', 'kura', 'tarehe', '7', 'Julai', 'huku', 'baadhi', 'ya', 'makamishna', 'wakidai', 'kwamba', 'hawakuarifiwa', 'kuhusu', 'hatua', 'hiyo', '.']\n",
      "\n",
      " Number of Words:  1944\n"
     ]
    }
   ],
   "source": [
    "file=\"22July26_1.txt\"\n",
    "\n",
    "# calling the function and storing the contents in a text variable \n",
    "text = get_document(\"https://www.bbc.com/swahili/habari-62302966\")\n",
    "\n",
    "# calling the store_ document function \n",
    "store_document(doc=text,name=file)\n",
    "\n",
    "#add the words in this file to the total_corpus_words, to keep count of the number of words in the corpus\n",
    "total_corpus_words+=total_words(file)"
   ]
  },
  {
   "cell_type": "code",
   "execution_count": 161,
   "metadata": {},
   "outputs": [
    {
     "data": {
      "text/plain": [
       "452841"
      ]
     },
     "execution_count": 161,
     "metadata": {},
     "output_type": "execute_result"
    }
   ],
   "source": [
    "total_corpus_words"
   ]
  },
  {
   "cell_type": "code",
   "execution_count": 162,
   "metadata": {},
   "outputs": [
    {
     "name": "stdout",
     "output_type": "stream",
     "text": [
      "['Uchaguzi', 'Kenya', '2022', ':', 'Mwongozo', 'wa', 'msingi', 'wa', 'kupiga', 'kura', 'Kenya', ',', 'mojawapo', 'ya', 'mataifa', 'yanayoongoza', 'kwa', 'uchumi', 'barani', 'Afrika', ',', 'itachagua', 'rais', 'mpya', 'tarehe', '9', 'Agosti', 'huku', 'kukiwa', 'na', 'ongezeko', 'la', 'gharama', 'ya', 'maisha', 'na', 'ukame', 'unaodhoofisha', 'ambao', 'utatoa', 'changamoto', 'kwa', 'yeyote', 'atakayechukua', 'wadhifa', 'huo', '.', 'Lakini', 'Rais', 'Uhuru', 'Kenyatta', 'anaunga', 'mkono', 'mpinzani', 'wa', 'naibu', 'wake', 'kushinda', 'uchaguzi', 'huo', 'na', 'kupata', 'urithi', 'wake', '.', 'Chaguzi', 'zake', 'zote', 'zilizopita', 'zimesababisha', 'ama', 'mabishano', 'na', 'madai', 'ya', 'wizi', ',', 'kuzuka', 'kwa', 'ghasia', 'mbaya', ',', 'au', 'zote', 'mbili', '.', 'Kwa', 'hivyo', 'Wakenya', 'wanatumai', 'kuwa', 'wakati', 'huu', 'itakuwa', 'tofauti', '.', 'Wagombea', 'ni', 'nani', '?', 'Mgombea', 'urais', 'aliyefeli', 'mara', 'nne', 'Raila', 'Odinga', 'anajaribu', 'bahati', 'yake', 'tena', '.', 'Waziri', 'mkuu', 'huyo', 'wa', 'zamani', 'mwenye', 'umri', 'wa', 'miaka', '77', 'ana', 'sifa', 'ya', 'kuwa', 'mwanaharakati', 'wa', 'kutisha', '.', 'Mpinzani', 'wake', 'mkubwa', 'ni', 'Naibu', 'Rais', 'William', 'Ruto', 'mwenye', 'umri', 'wa', 'miaka', '55', '.', 'Chanzo', 'cha', 'picha', ',', 'AFP', 'Amethibitisha', 'kuwa', 'analingana', 'na', 'Bw', 'Odinga', 'kwenye', 'kampeni', 'na', 'amevutia', 'umati', 'mkubwa', '.', 'Kuna', 'majina', 'mengine', 'mawili', 'ambayo', 'hayajulikani', 'sana', 'kwenye', 'karatasi', 'ya', 'kupigia', 'kura', '.', 'George', 'Wajackoyah', 'amevutia', 'sana', 'pendekezo', 'lake', 'la', 'kuhalalisha', 'kilimo', 'cha', 'bangi', 'na', 'uuzaji', 'nje', 'wa', 'sumu', 'ya', 'nyoka', '.', 'David', 'Mwaure', 'Waihiga', 'anaendesha', 'ujumbe', 'wa', 'kupinga', 'ufisadi', '.', 'Kwanini', 'rais', 'hamuungi', 'mkono', 'naibu', 'wake', '?', 'Mambo', 'yamepamba', 'moto', 'katika', 'siasa', 'za', 'Kenya', '.', 'Bw', 'Odinga', 'aliwahi', 'kuwa', 'adui', 'mkubwa', 'wa', 'rais', 'Uhuru', 'Kenyatta', '.', 'Uadui', 'kati', 'yao', 'unaweza', 'kufuatiliwa', 'nyuma', 'miaka', '60', 'wakati', 'baba', 'zao', ',', 'viongozi', 'wa', 'uhuru', ',', 'walitofautiana', '.', 'Nani', 'yuko', 'kwenye', \"kinyang'anyiro\", 'cha', 'kuiongoza', 'Kenya', '?', 'Fahamu', 'zaidi', 'kuwahusu', 'wagombea', 'urais', 'wa', 'Kenya', 'Chagua', 'mgombea', 'ili', 'kutazama', 'wasifu', 'wake', 'Raila', 'Odinga', 'William', 'Ruto', 'George', 'Wajackoyah', 'David', 'Mwaure', 'Raila', 'Amollo', 'Odinga', 'Muungano', 'wa', 'Azimio', 'la', 'Umoja', 'Maelezo', 'ya', 'Msingi', 'Mgombea', 'huyo', 'mwenye', 'umri', 'wa', 'miaka', '77', 'ni', 'mhandisi', 'aliyesomea', 'Chuo', 'Kikuu', 'cha', 'Ufundi', 'cha', 'Magdeburg', '(', 'sasa', 'kinajulikana', 'kama', 'Chuo', 'Kikuu', 'cha', 'Otto-von-Guericke', 'Magdeburg', ')', 'nchini', 'Ujerumani', '.', 'Anawania', 'kiti', 'cha', 'urais', 'kwa', 'tikiti', 'ya', 'Azimio', 'la', 'Umoja', 'One', 'Kenya', 'Coalition', 'Party', '.', 'Hili', 'litakuwa', 'jaribio', 'lake', 'la', 'tano', 'baada', 'ya', 'kugombea', 'katika', ':', '1997', ',', '2007', ',', '2013', 'na', '2017', '.', 'Mafanikio', 'Muhimu', 'Bw', 'Odinga', 'alikuwa', 'mmoja', 'wa', 'wapiganiaji', 'wa', 'demokrasia', 'ya', 'vyama', 'vingi', 'nchini', 'Kenya', '.', 'Alikamatwa', ',', 'akafungwa', 'na', 'wakati', 'fulani', 'akaenda', 'uhamishoni', 'kwa', 'sababu', 'ya', 'kupigania', 'haki', 'hiyo', 'Aliwahi', 'kuwa', 'Waziri', 'Mkuu', ',', 'kuanzia', '2008-2013', '.', 'Odinga', 'alihusika', 'kufanikisha', 'miradi', 'mikubwa', 'iliyotekelezwa', 'na', 'serikali', 'ya', 'Kibaki', ',', 'kama', 'vile', 'miradi', 'ya', 'umeme', 'vijijini', 'na', 'barabara', '.', 'Ahadi', 'Muhimu', 'Kuafikia', 'ukuaji', 'wa', 'uchumi', 'wa', 'tarakimu', 'mbili', 'kupitia', 'uwekezaji', 'katika', 'biashara', 'ndogo', 'ndogo', 'na', 'sekta', 'ya', 'viwanda', '.', 'Utoaji', 'wa', 'huduma', 'bora', 'za', 'afya', 'kwa', 'wote', '.', 'Utoaji', 'wa', 'vifaa', 'vya', 'michezo', 'na', 'burudani', 'kwa', 'ukuaji', 'wa', 'kimwili', ',', 'kiakili', ',', 'kijamii', ',', 'kimaadili', 'na', 'maendeleo', 'ya', 'watu', '.', 'Kashfa/Sakata', 'Kufuatia', 'jaribio', 'la', 'mapinduzi', 'ya', 'Agosti', '1', ',', '1982', ',', 'Raila', 'Odinga', 'alikamatwa', 'na', 'kukabiliwa', 'na', 'mashtaka', 'kadhaa', ',', 'yakiwemo', 'ya', 'uhaini', 'ambayo', 'alizuiliwa', 'bila', 'kufunguliwa', 'mashtaka', '.', 'Tume', 'ya', 'Ukweli', 'ya', 'Haki', 'na', 'Maridhiano', 'iliambiwa', 'mwaka', '2011', 'kwamba', 'Odinga', 'alikuwa', 'na', 'mawasiliano', 'na', 'mpangaji', 'mkuu', 'wa', 'mapinduzi', 'hayo', '.', 'Odinga', 'amekana', 'kuhusika', 'kila', 'mara', '.', '-', 'Makavazi', 'ya', 'Kitaifa', 'ya', 'Kenya', '.', 'William', 'Samoei', 'Ruto', 'Muungano', 'wa', 'Kenya', 'Kwanza', 'Maelezo', 'ya', 'Msingi', 'Mgombea', 'huyu', 'mwenye', 'umri', 'wa', 'miaka', '55', 'ana', 'Shahada', 'ya', 'Uzamifu/PhD', 'katika', 'Ikolojia', 'ya', 'Mimea', 'na', 'BSc', 'katika', 'Botany', 'na', 'Zoology', 'kutoka', 'Chuo', 'Kikuu', 'cha', 'Nairobi', '.', 'Anawania', 'kiti', 'cha', 'urais', 'kwa', 'tikiti', 'ya', 'chama', 'cha', 'United', 'Democratic', 'Alliance', '(', 'chenye', 'mafungamano', 'na', 'Kenya', 'Kwanza', ')', '.', 'Aliongoza', 'Vuguvugu', 'la', 'vijana', 'la', 'Youth', 'for', 'Kanu', \"'92\", '(', 'YK', \"'\", '(', '92', ')', '.', 'Mafanikio', 'Muhimu', 'Wizara', 'yake', 'iliorodheshwa', 'kama', 'inayofanya', 'bora', 'zaidi', 'serikalini', 'alipokuwa', 'Waziri', 'wa', 'Kilimo', '.', 'Alihudumu', 'kama', 'Naibu', 'Rais', 'wa', 'kwanza', 'wa', 'Kenya', 'chini', 'ya', 'katiba', 'mpya', 'ya', '2010', '.', 'Alihudumu', 'kama', 'mbunge', 'wa', 'eneo', 'bunge', 'la', 'Eldoret', 'Kaskazini', 'kuanzia', '1997-2007', '.', 'Ahadi', 'Muhimu', 'Kutenga', '$', '424', 'milioni', 'kila', 'mwaka', 'kwa', 'biashara', 'ndogo', 'ndogo', 'za', 'kati', '.', 'Kuanzisha', 'mfuko', 'wa', 'elimu', 'wa', 'kitaifa', 'ili', 'kukidhi', 'gharama', 'zisizo', 'za', 'masomo', '.', 'Tekeleza', 'kikamilifu', 'sheria', 'ya', 'usawa', 'wa', 'kijinsia', 'ya', 'thuluthi', 'mbili', 'katika', 'uteuzi', 'wa', 'kisiasa', 'na', 'kutenga', 'nusu', 'ya', 'baraza', 'lake', 'la', 'mawaziri', 'kwa', 'wanawake', '.', 'Kashfa/Sakata', 'Mnamo', '2008', ',', 'Mahakama', 'Kuu', 'ya', 'Kenya', 'iliamuru', 'Naibu', 'Rais', 'William', 'Ruto', 'kusalimisha', 'shamba', 'la', 'ekari', '100', 'na', 'kulipa', '$', '62,500', 'kwa', 'Adrian', 'Muteshi', ',', 'mkulima', 'ambaye', 'alimshtaki', 'kwa', 'kuchukua', 'mali', 'hiyo', 'baada', 'ya', 'uchaguzi', 'wa', '2007', '.', '-', 'Kenya', 'Law', 'Mnamo', '2011', ',', 'Bw', 'Ruto', 'alikabiliwa', 'na', 'kesi', 'kwa', 'makosa', 'matatu', 'dhidi', 'ya', 'binadamu', ':', 'Mauaji', ',', 'uhamisho', 'wa', 'watu', 'kwa', 'lazima', 'na', 'mateso', 'ya', 'watu', 'katika', 'Mahakama', 'ya', 'Kimataifa', 'ya', 'Uhalifu', '.', 'Miaka', 'mitano', 'baadaye', 'mahakama', 'ilisitisha', 'kesi', 'hiyo', 'kwa', 'msingi', 'kwamba', '-', 'ushahidi', 'wa', 'upande', 'wa', 'mashtaka', 'ulikuwa', 'dhaifu', '.', '-ICC', 'George', 'Wajackoyah', 'Chama', 'cha', 'Roots', 'Maelezo', 'ya', 'Msingi', 'Profesa', 'huyo', 'mwenye', 'umri', 'wa', 'miaka', '61', 'ana', 'shahada', 'ya', 'uzamili', 'katika', 'sheria', 'kuhusu', 'maendeleo', 'kutoka', 'Chuo', 'Kikuu', 'cha', 'Warwick', 'na', 'shahada', 'ya', 'uzamili', ',', 'sheria', '(', 'sheria', 'za', 'Marekani', 'kutoka', 'Chuo', 'Kikuu', 'cha', 'Baltimore', '.', 'Bw', 'Wajackoyah', 'anawania', 'kiti', 'cha', 'urais', 'kwa', 'tiketi', 'ya', 'Chama', 'cha', 'Roots', 'Party', '.', 'Mafanikio', 'Muhimu', 'Alihudumu', 'kama', 'Inspekta', 'katika', 'idara', 'ya', 'usalama', 'ya', 'Special', 'branch', 'wakati', 'wa', 'utawala', 'wa', 'marehemu', 'Rais', 'Daniel', 'Moi', 'kabla', 'ya', 'kulazimika', 'kutorokea', \"ng'ambo\", 'ili', 'kuepuka', 'kufunguliwa', 'mashtaka', 'na', 'mamlaka', '.', 'Yeye', 'ni', 'mshirika', 'katika', 'kampuni', 'ya', 'mawakili', 'aliyoianzisha', 'mwaka', 'wa', '2018', '.', 'Alifunnza', 'somo', 'la', 'sheria', 'na', 'uchumi', 'katika', 'vyuo', 'vikuu', 'vya', 'Marekani', ',', 'Uingereza', 'na', 'Kenya', '.', 'Ahadi', 'Muhimu', 'Kuhalalisha', 'matumizi', 'ya', 'kiviwanda', 'ya', 'bangi', 'Badilisha', 'siku', 'za', 'kazi', 'hadi', 'Jumatatu', 'hadi', 'Alhamisi', '.', 'Huduma', 'ya', 'afya', 'ya', 'bure', 'na', 'msaada', 'kwa', 'wazee', ',', 'walio', 'hatarini', 'na', 'wajawazito', 'David', 'Mwaure', 'Waihiga', 'Chama', 'cha', 'Agano', 'Maelezo', 'ya', 'Msingi', 'David', 'Mwaure', 'anawania', 'kiti', 'cha', 'urais', 'kwa', 'tiketi', 'ya', 'Chama', 'cha', 'Agano', '.', 'Ni', 'kiongozi', 'wa', 'Chama', 'cha', 'Agano', '.', 'Alihitimu', 'na', 'shahada', 'ya', 'sheria', 'kutoka', 'Chuo', 'Kikuu', 'cha', 'Nairobi', 'na', 'ana', 'Shahada', 'ya', 'Uzamili', 'katika', 'masomo', 'ya', 'uongozi', '.', 'Mafanikio', 'Muhimu', 'Yeye', 'ni', 'wakili', 'mkuu', 'na', 'amehudumu', 'kama', 'mwanasheria', 'kwa', 'zaidi', 'ya', 'miongo', 'mitatu', '.', 'Ahadi', 'Muhimu', 'Lakini', 'katika', 'hali', 'ya', 'kushangaza', 'watu', 'hao', 'wawili', 'walipeana', 'mikono', 'na', 'kuweka', 'maridhiano', 'mwaka', '2018', 'na', 'Bw', 'Kenyatta', 'ameweka', 'uzito', 'wake', 'kwenye', 'kampeni', 'ya', 'Bw', 'Odinga', '.', 'Hili', 'lilimwacha', 'Bw', 'Ruto', 'kwenye', 'hali', 'ya', 'baridi', 'na', 'kufanya', 'kwa', 'miaka', 'kadhaa', 'kuwa', 'na', 'uhusiano', 'usio', 'mzuri', 'uongozini', '.', 'Suala', 'kuu', 'ni', 'lipi', '?', 'Inawezekana', ',', 'naibu', 'wa', 'rais', 'amefafanua', 'misingi', 'ambayo', 'uchaguzi', 'huu', 'unapigwa', 'vita', '-', 'uchumi', '.', 'Ingawa', 'katika', 'chaguzi', 'za', 'hivi', 'majuzi', 'mijadala', 'kuhusu', 'ufisadi', 'na', 'haki', 'imetawala', ',', 'wakati', 'huu', 'watu', 'wanafikiria', 'sana', 'mifuko', 'yao', '.', 'Akitoka', 'katika', 'jamii', 'ya', 'kawaida', ',', 'Bw', 'Ruto', 'ambaye', 'sasa', 'ni', 'tajiri', 'ameonesha', 'picha', 'kuwa', 'yeye', 'ni', 'maskini', '.', 'Katika', 'taifa', 'hili', 'changa', ',', 'ameangazia', 'sera', 'za', 'kukabiliana', 'na', 'ukosefu', 'wa', 'ajira', 'kwa', 'vijana', 'na', 'mwaka', 'wa', '2018', 'akabuni', 'msemo', '``', 'hustler', 'nation', \"''\", 'akimaanisha', 'watu', 'wanaohangaika', 'kutafuta', 'riziki', '.', 'Chanzo', 'cha', 'picha', ',', 'AFP', 'Katika', 'kitendo', 'cha', 'kufikirika', 'cha', 'ishara', 'ya', 'kisiasa', ',', 'pamoja', 'na', 'bidhaa', 'za', 'kawaida', 'za', 'uchaguzi', ',', 'ametoa', 'mikokoteni', 'ya', 'bure', 'kwenye', 'mikutano', 'yake', 'ya', 'kampeni', '.', 'Pia', 'amewasilisha', 'kugombea', 'kwake', 'kama', 'jaribio', 'la', 'kukomesha', 'kutawaliwa', 'kwa', 'siasa', 'za', 'Kenya', 'na', 'familia', 'za', 'nasaba', ':', 'akina', 'Kenyatta', 'na', 'Odinga', '.', 'Bw', 'Odinga', 'anaahidi', 'kuendeleza', 'ajenda', 'ya', 'maendeleo', 'ya', 'rais', 'na', 'kuboresha', 'maisha', 'ya', 'Wakenya', 'walio', 'hatarini', 'kwa', 'kuwapa', 'shilingi', '6,000', 'za', 'Kenya', '(', '$', '50', ';', '£40', ')', 'kila', 'mwezi', 'kutoka', 'kwa', 'hazina', 'mpya', 'ya', 'hifadhi', 'ya', 'jamii', 'iwapo', 'atachaguliwa', 'kuwa', 'rais', '.', 'Pia', 'ameahidi', 'kutoa', 'huduma', 'za', 'afya', 'kwa', 'gharama', 'nafuu', 'kupitia', 'kile', 'anachokiita', '``', 'Baba', 'Care', \"''\", ',', 'akijitangaza', 'kama', 'baba', 'katika', 'taifa', 'lenye', 'zaidi', 'ya', 'watu', 'milioni', '56', '.', 'Je', ',', 'kuna', 'mwelekeo', 'wa', 'kikabila', 'katika', 'uchaguzi', 'huu', '?', 'Nchini', 'Kenya', ',', 'kura', 'nyingi', 'hupigwa', 'kwa', 'misingi', 'ya', 'kikabila', 'na', 'katika', 'miaka', 'ya', 'nyuma', ',', 'hii', 'wakati', 'mwingine', 'imeingia', 'katika', 'ghasia', 'za', 'kitaifa', 'huku', 'watu', 'wakishambuliwa', 'na', 'kuuawa', 'kwa', 'misingi', 'ya', 'jamii', 'wanayotoka', '.', 'Kura', 'ya', 'maoni', 'iliyozozaniwa', 'ya', 'Desemba', '2007', 'ilifuatiwa', 'na', 'wiki', 'za', 'ghasia', 'za', 'kikabila', 'ambapo', 'watu', '1,200', 'walikufa', 'na', 'zaidi', 'ya', '500,000', 'walikimbia', 'makazi', 'yao', '.', 'Tangu', 'wakati', 'huo', ',', 'wanasiasa', 'wamekuwa', 'na', 'nia', 'ya', 'kusisitiza', 'ushiriki', 'wa', 'amani', 'wa', 'kidemokrasia', '.', 'Lakini', 'suala', 'la', 'uhusiano', 'wa', 'kikabila', 'halijatoweka', '.', 'Bw', 'Odinga', ',', 'Mjaluo', ',', 'na', 'Bw', 'Ruto', ',', 'Mkalenjin', ',', 'wote', 'watakuwa', 'wakitegemea', 'kura', 'za', 'makabila', 'yao', 'makubwa', 'kuwaingiza', 'Ikulu', '.', 'Lakini', 'katika', 'hatua', 'iliyokadiriwa', 'wote', 'wawili', 'wamechagua', 'wagombea', 'wenza', 'kutoka', 'kabila', 'kubwa', 'zaidi', 'nchini', 'humo', '-', 'Wakikuyu', '.', 'Huko', 'Martha', 'Karua', ',', 'Bw', 'Odinga', 'pia', 'amemteua', 'mwanamke', 'wa', 'kwanza', 'kuwania', 'urais', 'kwa', 'tiketi', 'ya', 'chama', 'kikuu', 'cha', 'kisiasa', '.', 'Wasiwasi', 'umesalia', 'kuwa', 'katika', 'sehemu', 'fulani', 'za', 'nchi', 'mizozo', 'ya', 'kikabila', 'inaweza', 'kusababisha', 'ghasia', 'na', 'baadhi', 'ya', 'watu', 'wanahamia', 'maeneo', 'ambayo', 'makabila', 'yao', 'ni', 'mengi', 'ili', 'kuepuka', 'kulengwa', '.', 'Lakini', ',', 'kutokana', 'na', 'kile', 'kilichotokea', 'baada', 'ya', 'kura', 'ya', '2007', ',', 'mamlaka', 'zimekuwa', 'zikichukua', 'hatua', 'kuhakikisha', 'amani', '.', 'Je', ',', 'uchaguzi', 'utakuwa', 'wa', 'huru', 'na', 'haki', '?', 'Watu', 'pia', 'watakuwa', 'wakitazama', 'kuona', 'iwapo', 'tume', 'ya', 'uchaguzi', 'imeweka', 'sawa', 'matatizo', 'ambayo', 'mwaka', '2017', 'yalisababisha', 'kufutwa', 'kwa', 'matokeo', 'ya', 'awali', 'ya', 'uchaguzi', 'na', 'mambo', 'yote', 'kurudiwa', '.', 'Suala', 'lilikuwa', 'kwamba', 'mfumo', 'wa', 'kusambaza', 'matokeo', 'kwa', 'njia', 'ya', 'kielektroniki', 'kutoka', 'kila', 'kituo', 'cha', 'kupigia', 'kura', 'ulikuwa', 'haufanyi', 'kazi', 'katika', 'baadhi', 'ya', 'maeneo', '.', 'Mawakili', 'wa', 'upinzani', 'wanaomwakilisha', 'Bw', 'Odinga', 'waliteta', 'kwa', 'mafanikio', 'kuwa', 'hilo', 'liliruhusu', 'hesabu', 'za', 'kura', 'kuhujumiwa', '.', 'Wakati', 'huu', 'wenye', 'mamlaka', 'wanasema', 'wamechukua', 'hatua', 'kuhakikisha', 'kwamba', 'utoaji', 'matokeo', 'kwa', 'njia', 'ya', 'kielektroniki', 'utaendelea', 'vizuri', '.', 'Kasi', 'ya', 'kupata', 'matokeo', 'ya', 'uchaguzi', 'itategemea', 'jinsi', 'mfumo', 'huo', 'unavyofanya', 'kazi', 'vizuri', ',', 'lakini', 'ifikapo', 'usiku', 'wa', 'Agosti', '9', 'kila', 'matokeo', 'yatachunguzwa', 'kwa', 'karibu', 'na', 'wawakilishi', 'wa', 'wagombea', 'ili', 'kuhakikisha', 'kwamba', \"hawanyang'anyiwi\", 'nafasi', 'ya', 'juu', '.', 'Je', ',', 'uchaguzi', 'mwingine', 'unafanyika', '?', 'Siku', 'ya', 'kupiga', 'kura', ',', 'Wakenya', 'watakuwa', 'wakipiga', 'kura', 'nyingi', '.', 'Kando', 'ya', 'uchaguzi', 'wa', 'urais', ',', 'watu', 'watakuwa', 'wakiwapigia', 'kura', 'wabunge', 'na', 'maseneta', 'kwenda', 'kwa', 'bunge', 'la', 'kitaifa', ',', 'magavana', 'wa', 'kaunti', 'na', 'wabunge', 'wa', 'kaunti', '.', 'Na', 'wanawake', 'wanapata', 'kura', 'ya', 'ziada', 'kumchagua', 'mmoja', 'wa', 'wawakilishi', '47', 'wa', 'wanawake', 'kuketi', 'katika', 'bunge', 'la', 'kitaifa', '.', 'Vituo', 'vya', 'kura', 'vinapaswa', 'kufunguliwa', 'kwa', 'saa', '12', 'kutoka', '06:00', 'saa', 'za', 'asubuhi', '(', '03:00', 'GMT', ')', '.', 'Mtu', 'yeyote', 'ambaye', 'bado', 'yuko', 'kwenye', 'foleni', 'wakati', 'wa', 'kufunga', 'ataruhusiwa', 'kupiga', 'kura', '.', 'Mara', 'baada', 'ya', 'kufungwa', ',', 'viongozi', 'wataanza', 'kuhesabu', 'kura', 'katika', 'kila', 'kituo', 'cha', 'kupigia', 'kura', '.', 'Bado', 'haijabainika', 'ni', 'lini', 'matokeo', 'ya', 'uchaguzi', 'wa', 'urais', 'yatatangazwa', 'lakini', 'tume', 'ya', 'uchaguzi', 'ina', 'muda', 'usiozidi', 'siku', 'saba', 'kuhesabu', 'na', 'kujumlisha', 'kura', '.', 'Ili', 'kushinda', ',', 'mgombea', 'anahitaji', 'zaidi', 'ya', 'nusu', 'ya', 'kura', 'zilizopigwa', 'kitaifa', 'na', 'angalau', '25', '%', 'ya', 'kura', 'zilizopigwa', 'katika', 'kila', 'zaidi', 'ya', 'nusu', 'ya', 'kaunti', '.', 'Ikiwa', 'kizingiti', 'hicho', 'hakitafikiwa', 'basi', 'uchaguzi', 'unaingia', 'katika', 'duru', 'ya', 'pili', 'ya', 'kati', 'ya', 'wagombea', 'wawili', 'wa', 'juu', '.']\n",
      "\n",
      " Number of Words:  1786\n"
     ]
    }
   ],
   "source": [
    "file=\"22July26_2.txt\"\n",
    "\n",
    "# calling the function and storing the contents in a text variable \n",
    "text = get_document(\"https://www.bbc.com/swahili/habari-62303896\")\n",
    "\n",
    "# calling the store_ document function \n",
    "store_document(doc=text,name=file)\n",
    "\n",
    "#add the words in this file to the total_corpus_words, to keep count of the number of words in the corpus\n",
    "total_corpus_words+=total_words(file)"
   ]
  },
  {
   "cell_type": "code",
   "execution_count": 163,
   "metadata": {},
   "outputs": [
    {
     "data": {
      "text/plain": [
       "454627"
      ]
     },
     "execution_count": 163,
     "metadata": {},
     "output_type": "execute_result"
    }
   ],
   "source": [
    "total_corpus_words"
   ]
  },
  {
   "cell_type": "code",
   "execution_count": 166,
   "metadata": {},
   "outputs": [
    {
     "name": "stdout",
     "output_type": "stream",
     "text": [
      "['Huduma', 'za', 'afya', 'zilivyo', 'changamoto', 'nchini', 'Kenya', 'Shirika', 'la', 'afya', 'duniani', '[', 'WHO', ']', 'linapendekeza', 'uwepo', 'wa', 'Zahanati', 'ama', 'Kituo', 'cha', 'Afya', 'ndani', 'ya', 'kila', 'kilometa', '10', 'katika', 'nchi', 'zote', '.', 'Pamoja', 'na', 'kuwa', 'na', 'Zahanati', 'na', 'Hospitali', 'zaidi', 'ya', '200', ',', 'Kaunti', 'ya', 'Nakuru', 'Kenya', ',', 'inakabiliwa', 'na', 'changamoto', 'ya', 'umbali', 'wa', 'vituo', 'vya', 'afya', 'kwa', 'baadhi', 'ya', 'maeneo', '.', 'Changamoto', 'hiyo', 'inawaathiri', 'zaidi', 'wagonjwa', 'wenye', 'magonjwa', 'sugu', 'kama', 'Bi', '.', 'Phyllis', 'Adero', ',', 'mkazi', 'wa', 'kata', 'ya', 'Rhoda', 'anayelazimika', 'kutumia', 'zaidi', 'ya', 'saa', 'moja', 'kupata', 'huduma', '.']\n",
      "\n",
      " Number of Words:  89\n"
     ]
    }
   ],
   "source": [
    "file=\"22July27_1.txt\"\n",
    "\n",
    "# calling the function and storing the contents in a text variable \n",
    "text = get_document(\"https://www.bbc.com/swahili/articles/c5170ve2097o\")\n",
    "\n",
    "# calling the store_ document function \n",
    "store_document(doc=text,name=file)\n",
    "\n",
    "#add the words in this file to the total_corpus_words, to keep count of the number of words in the corpus\n",
    "total_corpus_words+=total_words(file)"
   ]
  },
  {
   "cell_type": "code",
   "execution_count": 167,
   "metadata": {},
   "outputs": [
    {
     "data": {
      "text/plain": [
       "454716"
      ]
     },
     "execution_count": 167,
     "metadata": {},
     "output_type": "execute_result"
    }
   ],
   "source": [
    "total_corpus_words"
   ]
  },
  {
   "cell_type": "code",
   "execution_count": 168,
   "metadata": {},
   "outputs": [
    {
     "name": "stdout",
     "output_type": "stream",
     "text": [
      "['Masaibu', 'ambayo', 'yalivuruga', 'mipango', 'ya', 'mwanamke', 'mmoja', 'Herima', 'Mwakima', 'alirudi', 'nyumbani', 'kutoka', 'Dubai', 'na', 'akiba', 'yake', 'ili', 'kusaidia', 'kugharamia', 'matibabu', 'ya', 'kaka', 'yake', 'Saa', '4', 'zilizopita', 'Mpango', 'mahususi', 'wa', 'kifedha', 'wa', 'Herima', 'Mwakima', 'ulisambaratishwa', 'na', 'dharura', 'mbili', 'za', 'kiafya', '.', 'Mama', 'huyo', 'anayefanya', 'kazi', 'ya', 'yaya', 'na', 'kuendesha', 'lori', 'mjini', 'Dubai', 'amekuwa', 'akiweka', 'akiba', 'ya', 'kuwasaidia', 'kuboresha', 'maisha', 'ya', 'watoto', 'wake', 'wawili', ',', 'Lakini', 'kaka', 'yake', 'mdogo', 'baadaye', 'alikuwa', 'mgonjwa', 'na', 'miezi', 'michache', 'baadaye', 'yeye', 'mwenyewe', 'akawa', 'mgonjwa', '.', 'Alikuwa', 'na', 'ugonjwa', 'mkali', 'wa', 'figo', 'na', 'alihitaji', 'tiba', 'ya', 'dialysis', 'na', 'aligunduliwa', 'na', 'uvimbe', '(', 'fibroids', ')', 'wa', 'muda', 'mrefu', 'kati', 'nyumba', 'ya', 'uzazi', '.', 'Maisha', 'ni', 'hatari', 'katika', 'nchi', 'ambayo', 'kuna', 'ukosefu', 'wa', 'huduma', 'za', 'afya', 'za', 'bei', 'nafuu', '.', 'Ugonjwa', 'unaweza', 'kubadilisha', 'kabisa', 'maisha', 'ya', 'familia', 'endapo', 'maliyote', 'ulipfanyia', 'kazi', 'itaelekezwa', 'kwa', 'matibabu', '.', 'Bi', 'Mwakima', 'alikuwa', 'na', 'usumbufu', 'wa', 'kimawazo', 'tulipozungumza', 'katika', 'chumba', 'chenye', 'mwanga', 'hafifu', 'katika', 'nyumba', 'ya', 'dadake', 'huko', 'Likoni', '-', 'kitongoji', 'cha', 'mji', 'wa', 'pwani', 'wa', 'Kenya', 'wa', 'Mombasa', '.', 'Anasema', 'alilazimika', 'kurudi', 'nyumbani', 'kutoka', 'Dubai', 'ili', 'kumsaidia', 'kaka', 'yake', ',', 'Sylass', ',', 'kutumia', 'pesa', 'alizohifadhi', 'kwa', 'ajili', 'ya', 'watoto', 'wake', '.', 'Ndugu', 'wengine', 'waliingilia', 'kati', 'na', 'ardhi', 'ya', 'familia', 'ikauzwa', '.', 'Baada', 'ya', 'yote', ',', 'hivyo', 'ndivyo', 'familia', 'zilivyokuwa', ',', 'alisema', '.', 'Tabasamu', 'lake', 'likitoweka', 'alipokuwa', 'akiongea', '.', 'Hii', 'ni', 'hali', 'inayowakumba', 'baadhi', 'ya', 'Wakenya', 'ambao', 'hawawezi', 'kupata', 'huduma', 'za', 'afya', 'kwa', 'urahisi', '.', 'Kuchangisha', 'pesa', 'pamoja', 'Asilimia', '20', 'ya', 'watu', 'wanategemea', 'Mfuko', 'wa', 'Kitaifa', 'wa', 'Bima', 'ya', 'Afya', '(', 'NHIF', ')', 'na', '1', '%', 'wanaweza', 'kulipia', 'huduma', 'za', 'afya', 'za', 'kibinafsi', '.', 'Asilimia', '20', 'ya', 'watu', 'wanategemea', 'Mfuko', 'wa', 'Kitaifa', 'wa', 'Bima', 'ya', 'Afya', '(', 'NHIF', ')', 'na', '1', '%', 'wanaweza', 'kulipia', 'huduma', 'za', 'afya', 'za', 'kibinafsi', '.', 'Wengine', 'wanapaswa', 'kujaribu', 'na', 'kuishi', 'na', 'hali', 'mbalimbali', 'za', 'afya', 'au', 'kuchambua', 'pamoja', 'pesa', 'kutoka', 'kwa', 'rasilimali', 'ndogo', ',', 'ambayo', 'inaweza', 'kuwasukuma', 'zaidi', 'katika', 'umaskini', '.', 'Chanzo', 'cha', 'picha', ',', 'Getty', 'Images', 'Wasipofanya', 'hivyo', ',', 'wanategemea', 'wema', 'wa', 'familia', ',', 'marafiki', 'na', 'wakati', 'mwingine', 'watu', 'wasiowajua', 'katika', 'kampeni', 'zinazojulikana', 'sasa', 'za', 'ufadhili', 'wa', 'watu', 'wengi', '.', 'Mpaka', 'sasa', 'haijafanywa', 'kuwa', 'lazima', 'kujiunga', 'na', 'NHIF', 'lakini', 'hiyo', 'inatokana', 'na', 'mabadiliko', 'ifikapo', 'mwishoni', 'mwa', 'mwaka', 'huu', ',', 'ikiwa', 'rais', 'mpya', 'na', 'serikali', '-', 'anayetarajiwa', 'kuchaguliwa', 'tarehe', '9', 'Agosti', '-', 'watashikamana', 'na', 'mipango', 'ya', 'utawala', 'unaoondoka', '.', 'Uanachama', 'wa', 'NHIF', 'ni', 'sehemu', 'ya', 'kifurushi', 'cha', 'ajira', 'za', 'kazi', 'nyingi', 'katika', 'sekta', 'rasmi', '.', 'Ada', 'ya', 'shilingi', '500', 'ya', 'Kenya', '(', '$', '4.20', ';', '£3.50', ')', 'ya', 'kila', 'mwezi', 'inagharimu', 'matibabu', 'ya', 'hospitali', 'kwa', 'wanachama', 'na', 'wategemezi', 'wao', '-', 'ingawa', 'dawa', 'zinagharimu', 'zaidi', '.', 'Licha', 'ya', 'mpango', 'huo', 'wa', 'kufanya', 'uanachama', 'kuwa', 'wa', 'lazima', ',', 'serikali', 'haijaeleza', 'jinsi', 'itakavyokuwa', 'nafuu', 'kwa', 'wengi', 'ambao', 'mishahara', 'yao', 'midogo', 'inatafuna', 'kwa', 'kulipia', 'chakula', 'na', 'kodi', '.', 'Labda', 'angeweza', 'kupata', 'shilingi', '200', 'kwa', 'mwezi', '.', 'Lakini', 'alihitaji', 'kurejea', 'kazini', 'kwanza', 'na', 'hiyo', 'haikuwezekana', 'bila', 'upasuaji', 'wa', 'kuondoa', 'fibroids', '.', '``', 'Ni', 'ngumu', 'sana', 'kwangu', 'kwa', 'sababu', 'inauma', ',', '[', 'kuna', ']', 'kutokwa', 'na', 'damu', 'nyingi', 'sana', '.', 'Kwa', 'hivyo', 'siwezi', 'kufanya', 'chochote', 'kwa', 'sababu', 'nijihisi', 'mdhaifu', ',', \"''\", 'alisema', 'kwa', 'sauti', 'nyororo', '.', 'Aliamua', 'kuomba', 'msaada', 'wa', 'kifedha', 'kwa', 'jamii', '.', 'Uwanja', 'wa', 'vita', 'vya', 'kisiasa', 'Wagombea', 'wakuu', 'wa', 'urais', ',', 'William', 'Ruto', 'na', 'Raila', 'Odinga', ',', 'wana', 'sera', 'ambazo', 'wanatumai', 'zitashughulikia', 'tatizo', 'la', 'kiafya', 'ambalo', 'Bi', 'Mwakima', 'na', 'wengine', 'wamekumbana', 'nalo', '.', 'Bw', 'Ruto', 'amesema', 'atapunguza', 'mchango', 'wa', 'kila', 'mwezi', 'wa', 'NHIF', 'hadi', 'shilingi', '300', '(', '$', '2.50', ')', 'kwa', 'kila', 'numba', '.', 'Bw', 'Odinga', 'ameahidi', 'kuunda', 'kile', 'kinachojulikana', 'kama', 'Babacare', '-', 'baada', 'ya', 'jina', 'lake', 'la', 'utani', '``', 'Baba', \"''\", '.', 'Amesema', 'kuwa', 'hii', 'itamaanisha', 'huduma', 'za', 'afya', 'za', 'bei', 'nafuu', ',', 'zinazopatikana', 'na', 'bora', '.', 'Waziri', 'mkuu', 'huyo', 'wa', 'zamani', 'pia', 'anataka', 'kuanzisha', 'hazina', 'ya', 'matibabu', 'ya', 'dharura', '.', 'Lakini', 'mabadiliko', 'yoyote', ',', 'hata', 'kama', 'angeweza', 'kuyamudu', ',', 'bila', 'shaka', 'yatakuja', 'kwa', 'kuchelewa', 'sana', 'kwa', 'Bi', 'Mwakima', '.', '``', 'Ninamwamini', 'Mungu', 'tu', '[', 'kwamba', ']', 'ningeweza', 'kupata', 'msaada', 'na', 'hali', 'yangu', 'inaweza', 'kuwa', 'ya', 'kawaida', '.', '[', 'Kisha', ']', 'nitaanza', 'kuhangaika', 'au', 'kuhangaika', 'na', 'maisha', 'yangu', ',', \"''\", 'alisema', '.', 'Huku', 'akipunga', 'mkono', 'kwaheri', ',', 'aliegemea', 'nguzo', 'kwenye', 'duka', 'la', 'familia', ',', 'akitabasamu', 'kwa', 'maumivu', ',', 'huku', 'kaka', 'yake', 'akiwa', 'amesimama', 'kando', 'yake', '.', 'Wiki', 'moja', 'baadaye', ',', 'niligundua', 'kuwa', 'alifanikiwa', 'kupata', 'pesa', 'pamoja', 'na', 'kufanyiwa', 'upasuaji', '.']\n",
      "\n",
      " Number of Words:  709\n"
     ]
    }
   ],
   "source": [
    "file=\"22July27_2.txt\"\n",
    "\n",
    "# calling the function and storing the contents in a text variable \n",
    "text = get_document(\"https://www.bbc.com/swahili/articles/cx8400xv04vo\")\n",
    "\n",
    "# calling the store_ document function \n",
    "store_document(doc=text,name=file)\n",
    "\n",
    "#add the words in this file to the total_corpus_words, to keep count of the number of words in the corpus\n",
    "total_corpus_words+=total_words(file)"
   ]
  },
  {
   "cell_type": "code",
   "execution_count": 169,
   "metadata": {},
   "outputs": [
    {
     "data": {
      "text/plain": [
       "455425"
      ]
     },
     "execution_count": 169,
     "metadata": {},
     "output_type": "execute_result"
    }
   ],
   "source": [
    "total_corpus_words"
   ]
  },
  {
   "cell_type": "code",
   "execution_count": 170,
   "metadata": {
    "scrolled": true
   },
   "outputs": [
    {
     "name": "stdout",
     "output_type": "stream",
     "text": [
      "['Nani', 'yuko', 'kwenye', \"kinyang'anyiro\", 'cha', 'kuiongoza', 'Kenya', '?', 'Raila', 'Amollo', 'Odinga', 'Maelezo', 'ya', 'Msingi', 'Mgombea', 'huyo', 'mwenye', 'umri', 'wa', 'miaka', '77', 'ni', 'mhandisi', 'aliyesomea', 'Chuo', 'Kikuu', 'cha', 'Ufundi', 'cha', 'Magdeburg', '(', 'sasa', 'kinajulikana', 'kama', 'Chuo', 'Kikuu', 'cha', 'Otto-von-Guericke', 'Magdeburg', ')', 'nchini', 'Ujerumani', '.', 'Anawania', 'kiti', 'cha', 'urais', 'kwa', 'tikiti', 'ya', 'Azimio', 'la', 'Umoja', 'One', 'Kenya', 'Coalition', 'Party', '.', 'Hili', 'litakuwa', 'jaribio', 'lake', 'la', 'tano', 'baada', 'ya', 'kugombea', 'katika', ':', '1997', ',', '2007', ',', '2013', 'na', '2017', '.', 'Mafanikio', 'Muhimu', 'Bw', 'Odinga', 'alikuwa', 'mmoja', 'wa', 'wapiganiaji', 'wa', 'demokrasia', 'ya', 'vyama', 'vingi', 'nchini', 'Kenya', '.', 'Alikamatwa', ',', 'akafungwa', 'na', 'wakati', 'fulani', 'akaenda', 'uhamishoni', 'kwa', 'sababu', 'ya', 'kupigania', 'haki', 'hiyo', 'Aliwahi', 'kuwa', 'Waziri', 'Mkuu', ',', 'kuanzia', '2008-2013', '.', 'Odinga', 'alihusika', 'kufanikisha', 'miradi', 'mikubwa', 'iliyotekelezwa', 'na', 'serikali', 'ya', 'Kibaki', ',', 'kama', 'vile', 'miradi', 'ya', 'umeme', 'vijijini', 'na', 'barabara', '.', 'Ahadi', 'Muhimu', 'Kuafikia', 'ukuaji', 'wa', 'uchumi', 'wa', 'tarakimu', 'mbili', 'kupitia', 'uwekezaji', 'katika', 'biashara', 'ndogo', 'ndogo', 'na', 'sekta', 'ya', 'viwanda', '.', 'Utoaji', 'wa', 'huduma', 'bora', 'za', 'afya', 'kwa', 'wote', '.', 'Utoaji', 'wa', 'vifaa', 'vya', 'michezo', 'na', 'burudani', 'kwa', 'ukuaji', 'wa', 'kimwili', ',', 'kiakili', ',', 'kijamii', ',', 'kimaadili', 'na', 'maendeleo', 'ya', 'watu', '.', 'Kashfa/Sakata', 'Kufuatia', 'jaribio', 'la', 'mapinduzi', 'ya', 'Agosti', '1', ',', '1982', ',', 'Raila', 'Odinga', 'alikamatwa', 'na', 'kukabiliwa', 'na', 'mashtaka', 'kadhaa', ',', 'yakiwemo', 'ya', 'uhaini', 'ambayo', 'alizuiliwa', 'bila', 'kufunguliwa', 'mashtaka', '.', 'Tume', 'ya', 'Ukweli', 'ya', 'Haki', 'na', 'Maridhiano', 'iliambiwa', 'mwaka', '2011', 'kwamba', 'Odinga', 'alikuwa', 'na', 'mawasiliano', 'na', 'mpangaji', 'mkuu', 'wa', 'mapinduzi', 'hayo', '.', 'Odinga', 'amekana', 'kuhusika', 'kila', 'mara', '.', '-', 'Makavazi', 'ya', 'Kitaifa', 'ya', 'Kenya', '.', 'William', 'Samoei', 'Ruto', 'Muungano', 'wa', 'Kenya', 'Kwanza', 'Maelezo', 'ya', 'Msingi', 'Mgombea', 'huyu', 'mwenye', 'umri', 'wa', 'miaka', '55', 'ana', 'Shahada', 'ya', 'Uzamifu/PhD', 'katika', 'Ikolojia', 'ya', 'Mimea', 'na', 'BSc', 'katika', 'Botany', 'na', 'Zoology', 'kutoka', 'Chuo', 'Kikuu', 'cha', 'Nairobi', '.', 'Anawania', 'kiti', 'cha', 'urais', 'kwa', 'tikiti', 'ya', 'chama', 'cha', 'United', 'Democratic', 'Alliance', '(', 'chenye', 'mafungamano', 'na', 'Kenya', 'Kwanza', ')', '.', 'Aliongoza', 'Vuguvugu', 'la', 'vijana', 'la', 'Youth', 'for', 'Kanu', \"'92\", '(', 'YK', \"'\", '(', '92', ')', '.', 'Mafanikio', 'Muhimu', 'Wizara', 'yake', 'iliorodheshwa', 'kama', 'inayofanya', 'bora', 'zaidi', 'serikalini', 'alipokuwa', 'Waziri', 'wa', 'Kilimo', '.', 'Alihudumu', 'kama', 'Naibu', 'Rais', 'wa', 'kwanza', 'wa', 'Kenya', 'chini', 'ya', 'katiba', 'mpya', 'ya', '2010', '.', 'Alihudumu', 'kama', 'mbunge', 'wa', 'eneo', 'bunge', 'la', 'Eldoret', 'Kaskazini', 'kuanzia', '1997-2007', '.', 'Ahadi', 'Muhimu', 'Kutenga', '$', '424', 'milioni', 'kila', 'mwaka', 'kwa', 'biashara', 'ndogo', 'ndogo', 'za', 'kati', '.', 'Kuanzisha', 'mfuko', 'wa', 'elimu', 'wa', 'kitaifa', 'ili', 'kukidhi', 'gharama', 'zisizo', 'za', 'masomo', '.', 'Tekeleza', 'kikamilifu', 'sheria', 'ya', 'usawa', 'wa', 'kijinsia', 'ya', 'thuluthi', 'mbili', 'katika', 'uteuzi', 'wa', 'kisiasa', 'na', 'kutenga', 'nusu', 'ya', 'baraza', 'lake', 'la', 'mawaziri', 'kwa', 'wanawake', '.', 'Kashfa/Sakata', 'Mnamo', '2008', ',', 'Mahakama', 'Kuu', 'ya', 'Kenya', 'iliamuru', 'Naibu', 'Rais', 'William', 'Ruto', 'kusalimisha', 'shamba', 'la', 'ekari', '100', 'na', 'kulipa', '$', '62,500', 'kwa', 'Adrian', 'Muteshi', ',', 'mkulima', 'ambaye', 'alimshtaki', 'kwa', 'kuchukua', 'mali', 'hiyo', 'baada', 'ya', 'uchaguzi', 'wa', '2007', '.', '-', 'Kenya', 'Law', 'Mnamo', '2011', ',', 'Bw', 'Ruto', 'alikabiliwa', 'na', 'kesi', 'kwa', 'makosa', 'matatu', 'dhidi', 'ya', 'binadamu', ':', 'Mauaji', ',', 'uhamisho', 'wa', 'watu', 'kwa', 'lazima', 'na', 'mateso', 'ya', 'watu', 'katika', 'Mahakama', 'ya', 'Kimataifa', 'ya', 'Uhalifu', '.', 'Miaka', 'mitano', 'baadaye', 'mahakama', 'ilisitisha', 'kesi', 'hiyo', 'kwa', 'msingi', 'kwamba', '-', 'ushahidi', 'wa', 'upande', 'wa', 'mashtaka', 'ulikuwa', 'dhaifu', '.', '-ICC', 'George', 'Wajackoyah', 'Chama', 'cha', 'Roots', 'Maelezo', 'ya', 'Msingi', 'Profesa', 'huyo', 'mwenye', 'umri', 'wa', 'miaka', '61', 'ana', 'shahada', 'ya', 'uzamili', 'katika', 'sheria', 'kuhusu', 'maendeleo', 'kutoka', 'Chuo', 'Kikuu', 'cha', 'Warwick', 'na', 'shahada', 'ya', 'uzamili', ',', 'sheria', '(', 'sheria', 'za', 'Marekani', 'kutoka', 'Chuo', 'Kikuu', 'cha', 'Baltimore', '.', 'Bw', 'Wajackoyah', 'anawania', 'kiti', 'cha', 'urais', 'kwa', 'tiketi', 'ya', 'Chama', 'cha', 'Roots', 'Party', '.', 'Mafanikio', 'Muhimu', 'Alihudumu', 'kama', 'Inspekta', 'katika', 'idara', 'ya', 'usalama', 'ya', 'Special', 'branch', 'wakati', 'wa', 'utawala', 'wa', 'marehemu', 'Rais', 'Daniel', 'Moi', 'kabla', 'ya', 'kulazimika', 'kutorokea', \"ng'ambo\", 'ili', 'kuepuka', 'kufunguliwa', 'mashtaka', 'na', 'mamlaka', '.', 'Yeye', 'ni', 'mshirika', 'katika', 'kampuni', 'ya', 'mawakili', 'aliyoianzisha', 'mwaka', 'wa', '2018', '.', 'Alifunnza', 'somo', 'la', 'sheria', 'na', 'uchumi', 'katika', 'vyuo', 'vikuu', 'vya', 'Marekani', ',', 'Uingereza', 'na', 'Kenya', '.', 'Ahadi', 'Muhimu', 'Kuhalalisha', 'matumizi', 'ya', 'kiviwanda', 'ya', 'bangi', 'Badilisha', 'siku', 'za', 'kazi', 'hadi', 'Jumatatu', 'hadi', 'Alhamisi', '.', 'Huduma', 'ya', 'afya', 'ya', 'bure', 'na', 'msaada', 'kwa', 'wazee', ',', 'walio', 'hatarini', 'na', 'wajawazito', 'David', 'Mwaure', 'Waihiga', 'Chama', 'cha', 'Agano', 'Maelezo', 'ya', 'Msingi', 'David', 'Mwaure', 'anawania', 'kiti', 'cha', 'urais', 'kwa', 'tiketi', 'ya', 'Chama', 'cha', 'Agano', '.', 'Ni', 'kiongozi', 'wa', 'Chama', 'cha', 'Agano', '.', 'Alihitimu', 'na', 'shahada', 'ya', 'sheria', 'kutoka', 'Chuo', 'Kikuu', 'cha', 'Nairobi', 'na', 'ana', 'Shahada', 'ya', 'Uzamili', 'katika', 'masomo', 'ya', 'uongozi', '.', 'Mafanikio', 'Muhimu', 'Yeye', 'ni', 'wakili', 'mkuu', 'na', 'amehudumu', 'kama', 'mwanasheria', 'kwa', 'zaidi', 'ya', 'miongo', 'mitatu', '.', 'Haijabainika', 'haswa', 'ni', 'rika', 'gani', 'ambalo', 'Bw', 'Ruto', 'alikuwa', 'akimaanisha', ',', 'ingawa', 'ufafanuzi', 'rasmi', 'wa', 'vijana', 'nchini', 'Kenya', 'ni', 'umri', 'wa', 'miaka', '18-34', '.', 'Kulingana', 'na', 'sensa', 'ya', 'mwaka', 'wa', '2019', 'nchini', 'Kenya', ',', 'kulikuwa', 'na', 'watu', 'milioni', '1.6', 'pekee', 'wasio', 'na', 'ajira', 'katika', 'kundi', 'hilo', 'la', 'umri', 'wakati', 'ambapo', 'sensa', 'ilifanywa', '.', 'Tumepata', 'marejeleo', 'ya', 'zaidi', 'ya', 'watu', 'milioni', 'tano', 'wasio', 'na', 'ajira', 'na', '``', 'wenye', 'ajira', 'ya', 'chini', \"''\", 'katika', 'ripoti', 'ya', '2015', 'kuhusu', 'nguvu', 'kazi', 'nchini', 'Kenya', '.', 'Idadi', 'hii', 'ilikuwa', 'ya', 'rika', 'zote', '(', 'sio', 'vijana', 'tu', ')', ',', 'na', 'inajumuisha', 'sio', 'tu', 'wale', 'ambao', 'hawana', 'kazi', 'kabisa', ',', 'lakini', 'pia', 'wale', 'ambao', 'walisema', 'saa', 'zao', 'hazitoshi', ',', 'ujuzi', 'wao', 'haukutumiwa', 'ipasavyo', 'au', 'hawakuwa', 'na', 'tija', 'kadri', 'walivyoweza', '.', 'Tulipata', 'nakala', 'ya', 'gazeti', 'kutoka', 'Februari', '2021', ',', 'ambayo', 'ilitaja', 'idadi', 'ya', 'chini', 'kidogo', '-', 'milioni', '14', '-', 'lakini', 'kwa', 'akaunti', 'za', 'mkopo', 'zilizodaiwa', 'mwezi', 'uliopita', ',', 'sio', 'watu', 'wenye', 'malimbikizo', '.', 'Sam', 'Omukoko', 'kutoka', 'Metropol', ',', 'mojawapo', 'ya', 'mashirika', 'matatu', 'ya', 'CRB', 'nchini', 'Kenya', ',', 'alithibitisha', 'kwenye', 'kituo', 'cha', 'runinga', 'cha', 'KTN', 'News', 'kwamba', 'idadi', 'hiyo', 'ya', 'milioni', '14', 'mwaka', 'wa', '2021', 'ilikuwa', 'ya', 'malimbikizo', 'ya', 'akaunti.Hatujapata', 'takwimu', 'za', 'hivi', 'majuzi', 'zaidi', '.', '``', 'Wakenya', 'wana', 'wastani', 'wa', 'takriban', 'akaunti', 'tano', ',', \"''\", 'alisema', ',', 'akiongeza', 'walikopa', 'kutoka', 'kwa', 'benki', ',', 'taasisi', 'ndogo', 'za', 'fedha', 'na', 'vyama', 'vya', 'kuweka', 'akiba', '.', 'Inayomaanisha', 'kuwa', 'idadi', 'ya', 'watu', 'halisi', 'walio', 'na', 'madeni', 'inaweza', 'kuwa', 'ndogo', 'sana', ',', 'ikizingatiwa', 'kuwa', 'kwa', 'ujumla', 'wana', 'zaidi', 'ya', 'akaunti', 'moja', '.', 'Aidha', ',', 'idadi', 'ya', 'malimbikizo', 'ya', 'akaunti', 'huenda', 'ikapungua', 'katika', 'kipindi', 'cha', 'miezi', 'sita', 'iliyopita', ',', 'baada', 'ya', 'Rais', 'Kenyatta', 'kuagiza', 'kusitishwa', 'kwa', 'muda', 'kuorodhesha', 'wale', 'ambao', 'wamekosa', 'kulipa', 'kiasi', 'cha', 'chini', 'ya', 'shilingi', 'milioni', 'tano', 'za', 'Kenya', '(', '$', '42,000', ';', '£34,800', ')', '.', 'Naibu', 'rais', 'Ruto', 'alisema', 'nchi', 'imekuwa', 'ikikopa', 'pesa', 'zaidi', 'kutokea', 'ndani', '``', 'hiyo', 'ina', 'maana', 'kwamba', 'pia', 'tunadhuru', 'biashara', 'zetu', 'mashinani', '.', \"''\", '``', 'Upatikanaji', 'wa', 'mikopo', 'unakuwa', 'changamoto', 'kubwa', '[', 'na', ']', 'lazima', 'tufikirie', 'jinsi', 'tunapaswa', 'kupunguza', 'kasi', 'ya', 'kukopa', 'ndani', 'ya', 'nchi', ',', \"''\", 'aliongeza', '.', 'Lakini', 'kiasi', 'cha', 'deni', 'wanalodaiwa', 'wakopeshaji', 'wa', 'kimataifa', ',', 'na', 'kiasi', 'kinachodaiwa', 'na', 'wakopeshaji', 'wa', 'ndani', '(', 'kama', 'vile', 'benki', 'za', 'biashara', ')', 'kimesalia', 'takribani', 'sawa', 'katika', 'miaka', 'ya', 'hivi', 'karibuni', ',', 'huku', 'deni', 'la', 'nje', 'kwa', 'ujumla', 'likiwa', 'juu', 'kidogo', 'kama', 'sehemu', 'ya', 'jumla', 'ya', 'deni', '.', 'Takwimu', 'za', 'Benki', 'Kuu', 'ya', 'Kenya', 'zinaonyesha', 'kuwa', 'mnamo', 'Desemba', '2021', ',', 'wakati', 'jumla', 'ya', 'deni', 'la', 'umma', 'lilikuwa', 'shilingi', 'trilioni', '8.2', ',', 'deni', 'la', 'ndani', 'lilikuwa', 'trilioni', '4', 'na', 'deni', 'la', 'nje', 'trilioni', '4.2', '.', 'Ripoti', 'ya', 'Benki', 'ya', 'Maendeleo', 'ya', 'Afrika', 'mwaka', 'jana', 'ilibainisha', 'kuwa', '``', 'idadi', 'ya', 'deni', 'la', 'nje', '(', 'kama', 'asilimia', 'ya', 'deni', 'lote', ')', 'ilipanda', 'kutoka', '44.5', '%', 'mwaka', '2013', 'hadi', '52.5', '%', 'mwaka', '2020', '.', \"''\", 'Ni', 'kweli', 'kwamba', 'wakati', 'wa', 'muhula', 'wa', 'kwanza', 'wa', 'Bw', 'Kenyatta', 'na', 'Bw', 'Ruto', 'kati', 'ya', '2013', 'na', '2017', ',', 'ukopaji', 'wa', 'ndani', 'ulikuwa', 'mkubwa', 'kwa', 'muda', 'kabla', 'ya', 'deni', 'la', 'nje', 'kuanza', 'kuongezeka', '.', \"'Asilimia\", '50', 'ya', 'gharama', 'ya', 'mafuta', 'ni', 'kodi', \"'\", 'Chanzo', 'cha', 'picha', ',', 'AFP', 'Bw', 'Ruto', 'alisema', 'nchi', 'inahitaji', 'kuangalia', 'upya', 'ushuru', 'wa', 'mafuta', ',', 'akiulaumu', 'kwa', 'kuchangia', 'kwa', 'kiasi', 'kikubwa', 'kupanda', 'kwa', 'bei', '.', '``', 'Jambo', 'la', 'kwanza', 'tunalohitaji', 'kufanya', 'ni', 'kuangalia', 'ushuru', 'kwa', 'sababu', 'karibu', '50', '%', 'ya', 'gharama', 'ya', 'mafuta', 'nchini', 'Kenya', 'ni', 'ushuru', ',', \"''\", 'alisema', ',', 'akiongeza', 'kuwa', 'kuna', 'ushuru', 'aina', '15', 'tofauti', 'wa', 'mafuta', '.', 'Lakini', 'data', 'kutoka', 'kwa', 'Mamlaka', 'ya', 'Udhibiti', 'wa', 'Nishati', 'na', 'Petroli', '(', 'EPRA', ')', 'inaonyesha', 'ushuru', 'na', 'tozo', 'unajumuisha', 'takriban', '40', '%', 'ya', 'gharama', 'ya', 'jumla', 'ya', 'mafuta', '.', 'Katika', 'mapitio', 'ya', 'hivi', 'majuzi', 'zaidi', 'ya', 'bei', 'ya', 'petroli', ',', 'kati', 'ya', 'shilingi', '159.12', 'za', 'Kenya', 'kwa', 'lita', 'moja', 'ya', 'petroli', ',', '64.06', 'kati', 'ya', 'hizo', 'huenda', 'kwa', 'serikali', 'kama', 'kodi', '.', 'Na', 'kodi', 'na', 'ushuru', 'ni', 'asilimia', 'tisa', '-', 'si', '15', '.', 'Zinajumuisha', 'ushuru', 'wa', 'bidhaa', ',', 'ushuru', 'wa', 'matengenezo', 'ya', 'barabara', ',', 'ushuru', 'wa', 'usafirishaji', 'wa', 'mfanyabiashara', 'na', 'Kodi', 'ya', 'Ongezeko', 'la', 'Thamani', '(', 'VAT', ')', '.']\n",
      "\n",
      " Number of Words:  1395\n"
     ]
    }
   ],
   "source": [
    "file=\"22July27_3.txt\"\n",
    "\n",
    "# calling the function and storing the contents in a text variable \n",
    "text = get_document(\"https://www.bbc.com/swahili/habari-62321821\")\n",
    "\n",
    "# calling the store_ document function \n",
    "store_document(doc=text,name=file)\n",
    "\n",
    "#add the words in this file to the total_corpus_words, to keep count of the number of words in the corpus\n",
    "total_corpus_words+=total_words(file)"
   ]
  },
  {
   "cell_type": "code",
   "execution_count": 171,
   "metadata": {},
   "outputs": [
    {
     "data": {
      "text/plain": [
       "456820"
      ]
     },
     "execution_count": 171,
     "metadata": {},
     "output_type": "execute_result"
    }
   ],
   "source": [
    "total_corpus_words"
   ]
  },
  {
   "cell_type": "code",
   "execution_count": null,
   "metadata": {},
   "outputs": [],
   "source": []
  },
  {
   "cell_type": "code",
   "execution_count": null,
   "metadata": {},
   "outputs": [],
   "source": []
  },
  {
   "cell_type": "code",
   "execution_count": null,
   "metadata": {},
   "outputs": [],
   "source": []
  },
  {
   "cell_type": "code",
   "execution_count": null,
   "metadata": {},
   "outputs": [],
   "source": []
  },
  {
   "cell_type": "code",
   "execution_count": null,
   "metadata": {},
   "outputs": [],
   "source": []
  }
 ],
 "metadata": {
  "kernelspec": {
   "display_name": "Python 3",
   "language": "python",
   "name": "python3"
  },
  "language_info": {
   "codemirror_mode": {
    "name": "ipython",
    "version": 3
   },
   "file_extension": ".py",
   "mimetype": "text/x-python",
   "name": "python",
   "nbconvert_exporter": "python",
   "pygments_lexer": "ipython3",
   "version": "3.8.3"
  }
 },
 "nbformat": 4,
 "nbformat_minor": 4
}
