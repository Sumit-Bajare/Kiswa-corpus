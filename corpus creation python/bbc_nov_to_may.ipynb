{
 "cells": [
  {
   "cell_type": "code",
   "execution_count": null,
   "metadata": {},
   "outputs": [],
   "source": [
    "# nov 2021 to may 2020"
   ]
  },
  {
   "cell_type": "code",
   "execution_count": 1,
   "metadata": {},
   "outputs": [],
   "source": [
    "import justext\n",
    "import requests\n",
    "import nltk"
   ]
  },
  {
   "cell_type": "code",
   "execution_count": 2,
   "metadata": {},
   "outputs": [
    {
     "data": {
      "text/plain": [
       "'/Users/sumitbajare/Documents/Sussex/Project'"
      ]
     },
     "execution_count": 2,
     "metadata": {},
     "output_type": "execute_result"
    }
   ],
   "source": [
    "import os\n",
    "os.getcwd()"
   ]
  },
  {
   "cell_type": "code",
   "execution_count": 3,
   "metadata": {},
   "outputs": [],
   "source": [
    "def get_document(url):\n",
    "    \n",
    "    '''\n",
    "        \n",
    "        This function will check if the url is valid and then\n",
    "        proceed to parse it to produce a clean text (no html) which\n",
    "        can be used as input to a recommendation engine.\n",
    "\n",
    "    Arguments: url  -- input url that needs to be checked and parsed\n",
    "    Return: text_only -- the text extracted after removing boilerplate content\n",
    "    '''\n",
    "    \n",
    "    try:\n",
    "        r = requests.head(url, allow_redirects = True)\n",
    "        \n",
    "    except requests.exceptions.ConnectionError as e:\n",
    "        raise URLRetrievalError(url, 'Could not connect', e)\n",
    "        \n",
    "    if r.status_code != requests.codes.ok:\n",
    "        raise URLRetrievalError(url, 'Invalid response code from remote server: {}'\n",
    "                                .format(r.status_code))\n",
    "        \n",
    "    if r.headers[\"content-type\"].split(';')[0] not in [\"text/html\",\n",
    "                                                       \"text/plain\"]:\n",
    "        raise URLRetrievalError(url, 'Document has invalid MIME type: {}'\n",
    "                                .format(r.headers[\"content-type\"]))\n",
    "    \n",
    "    response = requests.get(url)\n",
    "    paragraphs = justext.justext(response.content, justext.get_stoplist(\"Swahili\"))\n",
    "    text_only = ''\n",
    "    \n",
    "    for paragraph in paragraphs:\n",
    "        if not paragraph.is_boilerplate:\n",
    "            text_only += ' ' + paragraph.text\n",
    "            \n",
    "    if len(text_only) == 0:\n",
    "        raise DocumentParsingError('Length of document is zero')\n",
    "        \n",
    "    return text_only"
   ]
  },
  {
   "cell_type": "code",
   "execution_count": 4,
   "metadata": {},
   "outputs": [],
   "source": [
    "# Changing the current working directory to store the documents in the desired file\n",
    "os.chdir('/Users/sumitbajare/Documents/Sussex/Project/swa_corpus')"
   ]
  },
  {
   "cell_type": "code",
   "execution_count": 5,
   "metadata": {},
   "outputs": [],
   "source": [
    "def store_document(doc,name):\n",
    "    \n",
    "    '''\n",
    "        This function will store the contents of the url in a text file.\n",
    "        \n",
    "        Argumnets: doc -- the Document to store in a text file \n",
    "        Return: nan\n",
    "    '''\n",
    "    \n",
    "    # Open function to open the file in the same directory in append mode\n",
    "    file = open(name,\"a\")\n",
    "    # writing each string in the file\n",
    "    file.writelines(doc)\n",
    "    # closing the file\n",
    "    file.close()"
   ]
  },
  {
   "cell_type": "code",
   "execution_count": 6,
   "metadata": {},
   "outputs": [],
   "source": [
    "def total_words(file_name):\n",
    "    filename = file_name\n",
    "\n",
    "    with open(filename, 'r') as file:\n",
    "        lines_in_file = file.read()\n",
    "\n",
    "        nltk_tokens = nltk.word_tokenize(lines_in_file)\n",
    "        print (nltk_tokens)\n",
    "        print (\"\\n Number of Words: \" , len(nltk_tokens))\n",
    "        return len(nltk_tokens)"
   ]
  },
  {
   "cell_type": "code",
   "execution_count": 7,
   "metadata": {},
   "outputs": [],
   "source": [
    "# these were the total number of words from may to october of BBC Swahili \n",
    "# we will resume the count from 70,265\n",
    "total_corpus_words=70265"
   ]
  },
  {
   "cell_type": "code",
   "execution_count": null,
   "metadata": {},
   "outputs": [],
   "source": []
  },
  {
   "cell_type": "code",
   "execution_count": 8,
   "metadata": {},
   "outputs": [
    {
     "name": "stdout",
     "output_type": "stream",
     "text": [
      "['Mpaka', 'hapo', 'ni', 'tamati', 'ya', 'habari', 'zetu', 'za', 'moja', 'kwa', 'moja', 'kwa', 'leo', ',', 'tafadhali', 'tukutane', 'kesho', 'majaliwa', 'Watatu', 'washikiliwa', 'Tanzania', 'kwa', 'kufukua', 'kaburi', 'la', 'mtu', 'mwenye', \"'Ualbino\", \"'\", 'BBCCopyright', ':', 'BBC', 'Jeshi', 'la', 'polisi', 'nchini', 'Tanzania', 'linawashikilia', 'watu', 'wa', 'tatu', 'wa', 'familia', 'moja', 'kwa', 'madai', 'ya', 'kufukua', 'mwili', 'wa', 'kijana', 'mwenye', 'ualbino', 'ambaye', 'alizikwa', 'mwezi', 'Julai', 'mwaka', '2020', '.', 'Kwa', 'mujibu', 'wa', 'kamanda', 'wa', 'polisi', 'mkoani', 'Tanga', 'Safia', 'Jongo', 'Jeshi', 'hilo', 'bado', 'linaendelea', 'na', 'upelelezi', 'na', 'taarifa', 'za', 'awali', 'zinaonesha', 'sababu', 'za', 'tukio', 'hilo', 'ni', 'Imani', 'za', 'kishirikina', '.', 'Familia', 'ya', 'marehemu', 'iligundua', 'kutitia', 'kwa', 'kaburu', 'la', 'ndugu', 'yao', 'ambaye', 'alizikwa', 'toka', 'mwezi', 'Julai', 'mwaka', 'jana', 'na', 'kutoa', 'ripoti', 'kwa', 'polisi', 'na', 'baada', 'ya', 'polisi', 'kufukua', 'kaburi', 'hilo', 'walibani', 'mkono', 'mmoja', 'haukuwepo', '.', 'Baada', 'ya', 'upelelezi', 'mtuhumiwa', 'mmoja', 'kati', 'ya', 'watatu', 'ambao', 'tayari', 'wamekamatwa', 'alionesha', 'wapi', 'waliuficha', '.', 'Kituo', 'cha', 'Sheria', 'na', 'Haki', 'za', 'Binadamu', 'nchini', 'Tanzania', '(', 'LHRC', ')', ',', 'kimekemea', 'vikali', 'tukio', 'hilo', 'na', 'kuwataka', 'polisi', 'kuharakisha', 'upelelezi', 'na', 'washitakiwa', 'wafikishwe', 'kwenye', 'vyombo', 'vya', 'sheria', 'haraka', 'iwezekanavyo', '.', 'Mkurugenzi', 'wa', 'kituo', 'hicho', 'Bi', '.', 'Anna', 'Henga', 'amesema', 'tukio', 'hilo', 'ni', 'la', 'pili', 'la', 'kikatili', 'kutokea', 'dhidi', 'ya', 'watu', 'wenye', 'ualbino', 'kwa', 'mwaka', 'huu', 'nchini', 'Tanzania', '.', 'Kampeni', 'ya', 'kutetea', 'vazi', 'la', 'hijabu', 'Ulaya', 'yasitishwa', 'Mashirika', 'makubwa', 'ya', 'kutetea', 'haki', 'za', 'binadamu', 'barani', 'Ulaya', 'yametoa', 'machapisho', 'yao', 'ya', 'kampeni', 'iliyohimiza', 'heshima', 'kwa', 'wanawake', 'wa', 'Kiislamu', 'walioamua', 'kuvaa', 'hijabu', 'baada', 'ya', 'kupata', 'upinzani', 'nchini', 'Ufaransa', '.', 'Baraza', 'la', 'Ulaya', 'lilitoa', 'picha', 'hizo', 'wiki', 'iliyopita', 'kwa', 'ajili', 'ya', 'kampeni', 'kupinga', 'ubaguzi', 'dhidi', 'ya', 'Waislamu', '.', 'Kauli', 'mbiu', 'kwenye', 'tangazo', 'ama', 'chapisho', 'moja', 'ilisomeka', ':', '``', 'Urembo', 'uko', 'katika', 'utofauti', 'kama', 'vile', 'uhuru', 'uko', 'kwenye', 'hijabu', \"''\", '.', 'Wanasiasa', 'kadhaa', 'mashuhuri', 'wa', 'Ufaransa', 'walilaani', 'ujumbe', 'huo', 'na', 'kusema', 'kwamba', 'hijabu', 'haiwakilishi', 'uhuru', '.', 'Lakini', 'baadhi', 'ya', 'wanawake', 'wa', 'Kiislamu', 'ambao', 'huvaa', 'hijabu', 'walisema', 'kwamba', 'hatua', 'hiyo', 'ilionyesha', 'kutoheshimu', 'utofauti', 'na', 'haki', 'ya', 'kuchagua', 'cha', 'kuvaa', 'nchini', 'Ufaransa', '.', 'Waziri', 'wa', 'vijana', 'wa', 'Ufaransa', ',', 'Sarah', 'El', 'Haïry', ',', 'alisema', 'alishtushwa', 'na', 'bango', 'moja', ',', 'ambalo', 'lilionyesha', 'picha', 'iliyopasuliwa', 'ya', 'mwanamke', 'mmoja', 'aliyevaa', 'hijabu', ',', 'na', 'mmoja', 'asiyevaa', '.', 'COUNCIL', 'OF', 'EUROPECopyright', ':', 'COUNCIL', 'OF', 'EUROPE', 'Rais', 'wa', 'Femyso', ',', 'Hande', 'Taner', ',', 'alitetea', 'kampeni', 'hiyo', 'siku', 'ya', 'Jumatano', 'katika', 'mahojiano', 'yake', 'na', 'BBC', '.', 'Alisema', '``', 'kampeni', 'yenyewe', 'bado', 'inaendelea', \"''\", 'lakini', 'akaongeza', ':', '``', 'Kuhusu', 'kwa', 'nini', 'tweet', 'ilifutwa', ',', 'siwezi', 'kuzungumza', 'kwa', 'niaba', 'ya', 'Baraza', 'la', 'Ulaya', '.', \"''\", 'Bi', 'Taner', 'alisema', '``', 'inasikitisha', 'sana', 'kwamba', 'juhudi', 'za', 'vijana', 'walio', 'wachache', 'zinashambuliwa', 'na', 'kuhujumiwa', \"''\", 'na', 'wanasiasa', '.', 'Habari', 'za', 'hivi', 'pundeMwanamuziki', 'wa', 'Tanzania', 'Vitali', 'Maembe', 'aachiliwa', 'kwa', 'dhamana', 'Hatimaye', 'mwanamuziki', 'wa', 'Tanzania', 'Vitali', 'Maembe', 'ameachiliwa', 'na', 'polisi', 'kwa', 'dhamana', 'siku', 'moja', 'tu', 'baada', 'ya', 'kukamatwa', '.', 'Kulingana', 'na', 'taarifa', 'iliotiwa', 'saini', 'na', 'katibu', 'wa', 'idara', 'ya', 'haki', 'za', 'binadamu', 'katika', 'chama', 'cha', 'ACT', 'Wazalendo', ',', 'Mbarala', 'Maharagande', ',', 'bwana', 'Maembe', 'alikamatwa', 'na', 'polisi', 'katika', 'eneo', 'la', 'Bagamoyo', 'siku', 'ya', 'Jumanne', 'na', 'baadaye', 'kuhamishwa', 'hadi', 'kituo', 'cha', 'polisi', 'cha', 'Kibaha', '.', 'Kwa', 'mujibu', 'wa', 'katibu', 'huyo', 'mwanamuziki', 'huyo', 'hatahivyo', 'ametakiwa', 'kuripoti', 'katika', 'kituo', 'cha', 'polisi', 'mapema', 'hapo', 'kesho', 'siku', 'ya', 'Alhamisi', '.', 'Jeshi', 'la', 'polisi', 'linadaiwa', 'kumtuhumu', 'kwa', 'kutumia', 'wimbo', 'wake', 'Kaizari', 'kuwashutumu', 'viongozi', 'Mwanamuziki', 'huyo', 'anadaiwa', 'kuwania', 'kiti', 'cha', 'eneo', 'bunge', 'la', 'Bagamoyo', 'kwa', 'tiketi', 'ya', 'chama', 'cha', 'ACT', 'mwaka', '2020', '.', 'Britney', 'Spears', 'amlaumu', 'mamake', 'kwa', 'kumdhibiti', 'Mwanamuziki', 'wa', 'Marekani', 'Britney', 'Spears', 'amemlaumu', 'mamake', 'kwa', 'malezi', 'ya', 'kihafidhina', 'ambayo', 'yamedhibiti', 'maisha', 'yake', 'kwa', 'takriban', 'miaka', '13', '.', 'Babake', 'nyota', 'huyo', 'Jamie', 'ndiye', 'mtu', 'ambaye', 'amekuwa', 'akisimamia', 'mipango', 'ya', 'kisheria', 'ambayo', 'nyota', 'huyo', 'hatakuwa', 'na', 'usemi', 'kuhusu', 'masuala', 'yake', 'ya', 'kibinfasi', 'na', 'yale', 'ya', 'kifedha', '.', 'Lakini', 'akiandika', 'katika', 'mtandao', ',', 'msanii', 'huyo', 'amesema', 'lilikuwa', 'wazo', 'la', 'mamake', '.', \"''Kile\", 'ambacho', 'watu', 'hawajui', 'ni', 'kwamba', 'mamungu', 'ndiye', 'aliyempatia', 'wazo', 'hilo', \"''\", ',', 'alisema', '.', 'Sitaweza', 'kupata', 'miaka', 'hiyo', 'iliopotea', '…aliharibu', 'maisha', 'yangu', 'kisiri', '.', 'Guardiola', ':', 'Mechi', 'hii', 'ni', 'muhimu', 'kuliko', 'ya', 'Manchester', 'United', 'Mkufunzi', 'klabu', 'ya', 'Manchester', 'City', 'Pep', 'Guardiola', 'amesema', 'kwamba', 'Manchester', 'City', 'wana', 'fursa', 'ya', 'kupiga', 'hatua', 'muhimu', 'katika', 'awamu', 'ya', 'timu', '16', 'bora', 'katika', 'kombe', 'la', 'klabu', 'bingwa', 'Ulaya', 'wakati', 'watakapokutana', 'na', 'Club', 'Bruggeskatika', 'uwanja', 'wa', 'Etihad', 'jioni', 'ya', 'leo', '.', 'Ni', 'mechi', 'ambayo', 'raia', 'huyo', 'wa', 'Uhispania', 'anasema', 'ni', 'muhimu', 'zaidi', 'ya', 'mechi', 'ya', 'Jumamosi', 'kati', 'ya', 'timu', 'hiyo', 'na', 'Manchester', 'United', '.', 'City', 'ipo', 'katika', 'nafasi', 'ya', 'pili', 'katika', 'kundi', 'A', 'na', 'pointi', 'moja', 'nyuma', 'ya', 'viongozi', 'wa', 'kundi', 'hilo', 'PSG', '.', 'Ushindi', 'wowote', 'utaiweka', 'timu', 'hiyo', 'pointi', 'tano', 'juu', 'ya', 'timu', 'iliopo', 'katika', 'nafasi', 'ya', 'tatu', 'Club', 'Brugesambayo', 'waliishinda', '5-1', 'mwezi', 'uliopita', '–', 'huku', 'ikiwa', 'imesalia', 'mechi', 'mbili', '.', '‘', '’', 'Lazima', 'tuwajibike', 'zaidi', 'ili', 'kuweza', 'kupata', 'matokeo', 'bora', '.', 'Mechi', 'hii', 'itatupatia', 'fursa', 'nzuri', 'ya', 'kufuzu', 'katika', 'awamu', 'ya', 'timu', '16', 'bora', '’', '’', ',', 'alisema', 'Guardiola', '.', '‘', '’', 'Hii', 'ni', 'muhimu', 'zaidi', 'ya', 'mechi', 'ya', 'Manchester', 'United', '.', 'Katika', 'ligi', 'ya', 'premia', 'kuna', 'mechi', 'nyingi', 'hapa', ',', 'ni', 'mechi', 'sita', 'pekeena', 'tumesalia', 'na', 'tatu', '.', 'Mechi', 'hizi', 'ni', 'muhimu', 'sana', '’', '’', '.', 'Baba', 'yake', 'aliuawa', 'kikatili', 'na', 'mwili', 'wake', 'kukatwakatwa', 'wakati', 'wa', 'mapinduzi', 'ya', 'kijeshi', 'yaliyoongozwa', 'na', 'Samuel', 'Doe', 'ambayo', 'yalipindua', 'utawala', 'wake', 'wa', 'miaka', 'tisa', 'tarehe', '12', 'Aprili', '1980', '.', 'Na', 'kama', 'marehemu', 'baba', 'yake', ',', 'Mchungaji', 'Tolbert', 'alikuwa', 'mhubiri', 'na', 'balozi', 'wa', 'amani', 'wa', 'Liberia', '.', 'Kifo', 'chake', 'kimetokea', 'siku', 'moja', 'baada', 'ya', 'mwili', 'wa', 'afisa', 'wa', 'uhamiaji', 'wa', 'kike', ',', 'Maude', 'Elliott', ',', 'kupatikana', 'ukiwa', 'na', 'majeraha', 'makubwa', 'na', 'michubuko', 'katika', 'maeneo', 'ya', 'nyumbani', 'kwake', 'huko', 'Monrovia', 'magharibi', 'mwa', 'Brewerville', '.', 'Mwezi', 'Septemba', ',', 'John', 'Tubman', ',', 'mtoto', 'wa', 'aliyekuwa', 'rais', 'pia', 'William', 'Tubman', ',', 'aliuawa', 'na', 'mwili', 'wake', 'kupatikana', 'nyumbani', 'kwake', '.', 'Mapema', 'mwaka', 'huu', 'rais', 'George', 'Weah', 'amekosolewa', 'vikali', 'na', 'umma', 'alipowataka', 'kuweka', 'kamera', 'katika', 'nyumba', 'zao', 'ili', 'kujilinda', '.', 'Mwanamuziki', 'wa', 'Tanzania', \"'Vitali\", 'Maembe', \"'\", 'adaiwa', 'kukamatwa', 'Wakati', 'taarifa', 'za', 'kukamatwa', 'kwa', 'msanii', 'Vitali', 'Maembe', 'zikiendelea', 'kusambaa', ',', 'Jeshi', 'la', 'Polisi', 'linaonekana', 'kuwa', 'kimya', 'huku', 'likisema', 'linafuatilia', 'taarifa', 'hizo', '.', 'Katika', 'jitihada', 'za', 'kupata', 'uthibitisho', 'wa', 'kukamatwa', 'kwa', 'msanii', 'huyo', ',', 'BBC', 'imewasiliana', 'na', 'Kamanda', 'wa', 'Polisi', 'Mkoa', 'wa', 'Pwani', '.', 'Hata', 'hivyo', ',', 'jitihada', 'za', 'kupata', 'uthibitisho', 'hazikuzaa', 'matunda', '.', '”', 'Asante', 'kwa', 'taarifa', ',', 'tunazifuatilia', '”', 'amejibu', 'aliyepokea', 'simu', 'ya', 'RPC', 'na', 'kusema', 'RPC', 'yuko', 'kwenye', 'kikao', 'hivyo', 'ameacha', 'simu', 'yake', 'ofisini', '.', 'Kwa', 'upande', 'wake', ',', 'akinukuliwa', 'na', 'baadhi', 'ya', 'vyombo', 'vya', 'habari', 'vya', 'ndani', 'hii', 'leo', ',', 'Kamanda', 'wa', 'Polisi', 'wa', 'mkoa', 'huo', ',', 'Wanko', 'Nyigesa', 'amesema', 'ameyasikia', 'madai', 'ya', 'kukamatwa', 'kwa', 'msanii', 'huyo', 'hivyo', 'anafuatilia', 'ili', 'kupata', 'ukweli', 'na', 'kulitolea', 'majibu', '.', 'Wakati', 'huo', 'huo', ',', 'Zitto', 'Kabwe', 'ambae', 'ni', 'Kiongozi', 'wa', 'Chama', 'cha', 'Kisiasa', 'ACT', 'Wazalendo', ',', 'kupitia', 'ukurasa', 'wake', 'wa', 'Twitter', ',', 'amelitaka', 'Jeshi', 'la', 'Polisi', 'kumuachia', 'msanii', 'huyo', '.', 'Nawataka', 'Jeshi', 'la', 'Polisi', 'Tanzania', 'kumwachia', 'huru', 'mara', 'moja', 'ndugu', 'Vitalis', 'Maembe', '.', 'Haivumiliki', 'na', 'tunataka', 'Vitalis', 'aachiwe', 'huru', 'sasa', 'hivi', ',', '”', 'ameandika', 'Zitto', '.', 'Ikumbukwe', 'kwamba', 'Vitalis', 'Maembe', 'hutumia', 'mziki', 'wake', ',', 'kueleza', 'madhila', 'wanayoyapata', 'watu', 'wa', 'kawaida', ',', 'huku', 'akijichukua', 'yeye', 'kuwa', 'sauti', 'yao', 'na', 'kuwasilisha', 'hoja', 'hizo', '.', 'Ingawa', 'kazi', 'yake', ',', 'imekuwa', 'ikinasibishwa', 'na', 'uanaharakati', '.', 'Vile', 'vile', 'Vitalis', 'Maembe', 'ni', 'miongoni', 'mwa', 'wasanii', 'waliohitimu', 'katika', 'wa', 'Chuo', 'cha', 'Sanaa', 'Bagamoyo', 'na', 'kufanikiwa', 'kupenyeza', 'kazi', 'zake', 'za', 'sanaa', 'ndani', 'na', 'nje', 'ya', 'Tanzania', '.', 'Taliban', 'yapiga', 'marufuku', 'matumizi', 'ya', 'fedha', 'za', 'kigeni', 'Afghanistan', 'Taliban', 'imepiga', 'marufuku', 'matumizi', 'ya', 'fedha', 'za', 'kigeni', 'nchini', 'Afghanistan', ',', 'hatua', 'ambayo', 'itaathiri', 'zaidi', 'uchumi', 'ambao', 'unaporomoka', '.', '``', 'Hali', 'ya', 'ya', 'uchumi', 'na', 'matakwa', 'ya', 'taifa', 'katika', 'nchi', 'yanahitaji', 'raia', 'wote', 'wa', 'Afghans', 'kutumia', 'fedha', 'za', 'Afghani', 'katika', 'biashara', 'zao', ',', \"''\", 'Taliban', 'ilisema', '.', 'Hali', 'ya', 'kiuchumi', 'bado', 'haijatengamaa', 'kutokana', 'na', 'kujiondoa', 'kwa', 'msaada', 'wa', 'kifedha', 'wa', 'kimataifa', 'mara', 'baada', 'ya', 'Taliban', 'kuingia', 'madarakani', '.', 'Dola', 'ya', 'Marekani', 'ilikuwa', 'ikitumka', 'zaidi', 'katika', 'masoko', 'ya', 'Afghanistan', '.', 'Dola', 'pia', 'zimekuwa', 'zikitumika', 'mara', 'nyingi', 'katika', 'biashara', 'za', 'maeneo', 'ya', 'mpakani', 'mwa', 'Afghanistan', 'kama', 'Pakistan', '.', '``', 'Yeyote', 'atakayekiuka', 'sheria', 'hii', 'atakabiliwa', 'na', 'hatua', 'za', 'kisheria', ',', \"''\", 'taarifa', 'zinasema', '.', 'Baada', 'ya', 'Taliban', 'kudhibiti', 'taifa', 'hilo', 'mwezi', 'Agosti', ',', 'mabilioni', 'ya', 'dola', 'yaliyokuwa', 'nje', 'ya', 'nchi', 'yalitaifishwa', 'na', 'Marekani', '.', '``', 'Tunaamini', 'kuwa', 'ni', 'muhimu', 'kuendeleza', 'vikwazo', 'tulivyoviweka', 'dhidi', 'ya', 'Taliban', 'lakini', 'wakati', 'huo', 'huo', 'kutafuta', 'namna', 'ambayo', 'tutaweza', 'kutoa', 'usaidizi', 'wa', 'kibinadamu', 'wa', 'raia', 'wa', 'Afghan', '.', 'Na', 'hicho', 'ndicho', 'tunachokifanya', ',', \"''\", 'Naibu', 'waziri', 'wa', 'fedha', 'Wally', 'Adeyemo', 'aliiambia', 'kamati', 'ya', 'benki', 'ya', 'seneti', 'nchini', 'Marekani', '.', 'Blatter', 'na', 'Platini', 'washtakiwa', 'kwa', 'ufisadi', 'katika', 'soka', 'Mamlaka', 'ya', 'Uswizi', 'imewafungulia', 'mashtaka', 'maofisa', 'wa', 'zamani', 'wa', 'FIFA', 'Sepp', 'Blatter', 'na', 'Michel', '.', 'Platin', 'anashtakiwa', 'kwa', 'ulaghai', 'na', 'mwingine', 'uhalifu', 'unaohusisha', 'rushwa', 'katika', 'soka.Mwendesha', 'mashtaka', 'wa', 'Uswizi', 'anasema', 'Blatter', ',', 'rais', 'wa', 'zamani', 'wa', 'FIFA', ',', 'alihusika', 'katika', 'mchakato', 'ambao', 'ni', 'kinyume', 'na', 'sheria', 'kwa', 'kutuma', 'dola', 'milioni', '2.19', 'kwa', 'Platini', ',', 'ambaye', 'alikuwa', 'rais', 'wa', 'Umoja', 'wa', 'Ulaya', 'mwaka', '2011', '.', 'Waendesha', 'mashtaka', 'wanasema', 'kiasi', 'hicho', '``', 'kiliharibu', 'rasilimali', 'za', 'FIFA', 'na', 'kumtajirisha', 'Platin', 'kinyume', 'na', 'sheria', '.', 'Blatter', 'na', 'Platini', 'wanakabiliwa', 'na', 'mashitaka', 'hayo', 'katika', 'mahakama', 'ya', 'Bellinzona', '.', 'Kama', 'wakikutwa', 'na', 'hatia', 'dhidi', 'ya', 'mashtaka', 'yanayowakabili', ',', 'watapewa', 'hukumu', 'ya', 'kifungo', 'cha', 'miaka', 'kadhaa', 'au', 'faini', '.', 'Kesi', 'hii', 'ilifunguliwa', 'mwezi', 'Septemba', '2015', 'baada', 'ya', 'shirikisho', 'la', 'soka', 'la', 'FIFA', ',', 'lilipokabiliwa', 'na', 'tuhuma', 'za', 'ufisadi', '.', 'Hujambo', 'na', 'karibu', 'kwa', 'matangazo', 'yetu', 'ya', 'moja', 'kwa', 'moja', 'hii', 'leo', 'Jumatano', 'tarehe', '3', 'Novemba', '2021', 'Maelezo', 'zaidi', 'kuhusu', 'taarifa', 'hii', 'Rosemary', 'Kashaga', 'ni', 'mwanamke', 'ambaye', 'alizaliwa', 'kawaida', 'kama', 'walivyo', 'watoto', 'wengine', 'wa', 'kike', ',', 'na', 'kulelewa', 'maisha', 'ya', 'kawaida', 'nchini', 'Tanzania', '.', 'Ila', 'maisha', 'yake', 'yalichukua', 'mkondo', 'tofauti', 'alipofikisha', 'umri', 'wa', 'miaka', 'miwili', 'na', 'nusu', '.', 'Katika', 'mji', 'huu', 'katika', 'jimbo', 'la', 'Campeche', 'kusini', 'mashariki', 'mwa', 'Mexico', ',', 'Kila', 'mwaka', 'kabla', 'ya', 'siku', 'ya', 'wafu', ',', 'hufanyika', 'utamaduni', 'unaowavutia', 'mamia', 'ya', 'watalii', ',', 'utamaduni', 'wa', 'kusafisha', 'mifupa', 'ya', 'jamaa', 'zao', 'waliofarki', '.']\n",
      "\n",
      " Number of Words:  1618\n"
     ]
    }
   ],
   "source": [
    "file=\"nov3.txt\"\n",
    "\n",
    "# calling the function and storing the contents in a text variable \n",
    "text = get_document(\"https://www.bbc.com/swahili/live/habari-59144728\")\n",
    "\n",
    "# calling the store_ document function \n",
    "store_document(doc=text,name=file)\n",
    "\n",
    "#add the words in this file to the total_corpus_words, to keep count of the number of words in the corpus\n",
    "total_corpus_words+=total_words(file)"
   ]
  },
  {
   "cell_type": "code",
   "execution_count": 9,
   "metadata": {},
   "outputs": [
    {
     "data": {
      "text/plain": [
       "71883"
      ]
     },
     "execution_count": 9,
     "metadata": {},
     "output_type": "execute_result"
    }
   ],
   "source": [
    "total_corpus_words"
   ]
  },
  {
   "cell_type": "code",
   "execution_count": 13,
   "metadata": {},
   "outputs": [
    {
     "name": "stdout",
     "output_type": "stream",
     "text": [
      "['Kate', 'Mitchell', ':', 'Polisi', 'wanachunguza', 'kifo', 'cha', 'mfanyakazi', 'wa', 'BBC', 'Nairobi', 'Maafisa', 'wa', 'polisi', 'jijini', 'Nairobi', 'wameanzisha', 'uchunguzi', 'baada', 'ya', 'mfanyakazi', 'wa', 'BBC', 'kupatikana', 'amefariki', 'jijini', 'humo', '.', 'Kate', 'Mitchell', ',', 'raia', 'wa', 'Uingereza', 'ambaye', 'alikua', 'akiifanyia', 'kazi', 'katika', 'kitengo', 'cha', 'shirika', 'la', 'BBC', 'Media', 'Action', 'katika', 'baadhi', 'ya', 'mataifa', 'ya', 'Afrika', 'alifariki', 'siku', 'ya', 'Ijumaa', '.', 'Kitengo', 'cha', 'BBC', 'Media', 'Action', 'ndio', 'kinachohusika', 'na', 'uhisani', 'wa', 'idhaa', 'hiyo', 'na', 'hutumia', 'vyombo', 'vya', 'habari', 'na', 'mawasiliano', 'kuangazia', 'suala', 'la', 'ukosefu', 'wa', 'usawa', 'duniani', '.', 'Haijulikani', 'iwapo', 'kifo', 'cha', 'bi', 'Mitchell', 'katika', 'hoteli', 'ambayo', 'alikuwa', 'akilala', 'kina', 'uhusiano', 'na', 'kazi', 'yake', 'katika', 'shirika', 'hilo', 'la', 'habari', '.', 'Na', 'huku', 'chanzo', 'cha', 'kifo', 'chake', 'kikiwa', 'hakijulikani', ',', 'maafisa', 'wa', 'polisi', 'waliambia', 'vyombo', 'vya', 'habari', 'walikua', 'wanakichunguza', 'kama', 'mauaji', 'na', 'kutafuta', 'sababu', 'zake', '.', \"''Mtu\", 'anayeshukiwa', 'kuhusika', 'na', 'mauaji', 'yake', '..', 'aliruka', 'kutoka', 'ghorofa', 'ya', 'nane', 'ya', 'hoteli', 'hiyo', 'kupitia', 'dirishani', 'baada', 'ya', 'kubaini', 'kwamba', 'walinzi', 'wa', 'hoteli', 'hiyo', 'walikuwa', 'wanamfuata', \"''\", ',', 'alisema', 'kamanda', 'wa', 'jimbo', 'la', 'Nairobi', 'Augustine', 'Nthumbi', 'akizungumza', 'na', 'wanahabari', '.', 'Bi', 'Mitchel', 'hivi', 'karibuni', 'aliifanyia', 'kazi', 'BBCMedia', 'Action', 'katika', 'mji', 'mkuu', 'wa', 'Ethiopia', 'Addis', 'Ababa', '.', \"''Sote\", 'tumeshangazwa', 'na', 'kutishwa', 'na', 'habari', 'hizi', 'mbaya', \"''\", ',', 'alisema', 'afisa', 'mkuu', 'mtendaji', 'wa', 'BBC', 'Media', 'Action', 'Caroline', 'Nursery', 'katika', 'taarifa', '.', '``', 'Kate', 'alikuwa', 'mfanyakazi', 'aliyependwa', 'sana', 'ambaye', 'alifanya', 'kazi', 'kama', 'meneja', 'mwandamizi', 'wa', 'miradi', 'na', 'amekuwa', 'nasi', 'kwa', 'miaka', '14', '.', 'Alikuwa', 'anajulikana', 'sana', 'katika', 'shirika', 'hili', ',', 'hususana', 'na', 'wafanyakazi', 'wetu', 'Ethiopia', ',', 'Sudan', 'Kjusini', ',', 'Zambia', 'na', 'London', '.', '``', 'Tunatuma', 'rambirambi', 'kwa', 'familia', 'yake', 'na', 'marafiki', 'wake', 'wengi', 'duniani', \"''\", ',', 'aliongezea', '.']\n",
      "\n",
      " Number of Words:  267\n"
     ]
    }
   ],
   "source": [
    "file=\"nov22.txt\"\n",
    "\n",
    "# calling the function and storing the contents in a text variable \n",
    "text = get_document(\"https://www.bbc.com/swahili/michezo-59370473\")\n",
    "\n",
    "# calling the store_ document function \n",
    "store_document(doc=text,name=file)\n",
    "\n",
    "#add the words in this file to the total_corpus_words, to keep count of the number of words in the corpus\n",
    "total_corpus_words+=total_words(file)"
   ]
  },
  {
   "cell_type": "code",
   "execution_count": 14,
   "metadata": {},
   "outputs": [
    {
     "data": {
      "text/plain": [
       "72150"
      ]
     },
     "execution_count": 14,
     "metadata": {},
     "output_type": "execute_result"
    }
   ],
   "source": [
    "total_corpus_words"
   ]
  },
  {
   "cell_type": "code",
   "execution_count": 15,
   "metadata": {},
   "outputs": [
    {
     "name": "stdout",
     "output_type": "stream",
     "text": [
      "['Boti', 'iliyozama', 'Ufaransa', 'yaua', '27', 'wakiwemo', 'watoto', 'Takriban', 'watu', '27', ',', 'akiwemo', 'binti', 'mdogo', ',', 'wamefariki', 'baada', 'ya', 'boti', 'waliokuwa', 'wakisafiri', 'kuzama', 'maji', '.', 'Boti', 'hiyo', 'ilikuwa', 'ikielekea', 'Uingereza', 'ilipozama', 'muda', 'mfupi', 'baada', 'ya', 'kuondoka', 'kwenye', 'bandari', 'ya', 'Ufaransa', 'ya', 'Calais', '.', 'Mashua', 'zinazotumiwa', 'kufanya', 'safari', 'kama', 'hizo', 'kupitia', 'Idhaa', 'ya', 'Kiingereza', 'mara', 'nyingi', 'ni', 'ndogo', 'na', 'zinajaza', 'watu', 'kupita', 'kiasi', ',', 'na', 'hivyo', 'kkuhatarisha', 'maisha', 'ya', 'watu', '.', 'Mwendesha', 'mashtaka', 'wa', 'eneo', 'hilo', 'anasema', 'wanawake', 'saba', 'na', 'watoto', 'watatu', 'ni', 'miongoni', 'mwa', 'waliofariki', '-', 'huku', 'watu', 'wawili', 'wakiokolewa', '.', 'Hakuna', 'linalofahamika', 'zaidi', 'kuhusu', 'waliokufa', ',', 'uraia', 'wao', 'au', 'kilichosababisha', 'boti', 'hiyo', 'kuzama', '.', 'Tayari', 'Polisi', 'wa', 'Ufaransa', 'wamewakamata', 'watu', 'watano', 'kuhusiana', 'na', 'tukio', 'hilo', '.', 'Waziri', 'Mkuu', 'wa', 'Uingereza', 'Boris', 'Johnson', 'na', 'Rais', 'wa', 'Ufaransa', 'Emmanuel', 'Macron', 'wamekubaliana', '``', 'kufanya', 'kila', 'linalowezekana', 'kukomesha', 'magenge', 'yanayohusika', \"''\", ',', 'lakini', 'Johnson', 'anasema', 'Ufaransa', 'inapaswa', 'kufanya', 'zaidi', 'kuwazuia', 'wahamiaji', 'kuvuka', ',', 'huku', 'Macron', 'akisema', 'Uingereza', 'inapaswa', 'kuacha', 'kuweka', 'siasa', 'katika', 'suala', 'hilo', '.', 'Inaelezwa', 'waliokufa', 'walikuwa', 'wakimbizi', 'wanaotaka', 'kuelekea', 'Uingereza', '.', 'Waziri', 'wa', 'Mambo', 'ya', 'Ndani', 'wa', 'Uingereza', 'Priti', 'Patel', 'amewaambia', 'wabunge', 'wa', 'Uingereza', 'kwamba', 'ametoa', 'ofa', 'mpya', 'kutoka', 'Uingereza', 'kuanza', 'doria', 'ya', 'pamoja', 'na', 'Ufaransa', '.', 'Kesi', 'ya', 'Rais', 'wa', 'Shirikisho', 'la', 'soka', 'Kenya', '(', 'FKF', ')', ',', 'Mwenda', 'imetupiliwa', 'mbali', 'Getty', 'ImagesCopyright', ':', 'Getty', 'Images', 'Kesi', 'ya', 'kisheria', 'dhidi', 'ya', 'rais', 'wa', 'Shirikisho', 'la', 'Soka', 'nchini', '(', 'FKF', ')', ',', 'Nick', 'Mwendwa', ',', 'imetupiliwa', 'mbali', '.', '``', 'Shirikisho', 'la', 'Soka', 'la', 'Kenya', 'linapenda', 'kuwafahamisha', 'wanachama', 'wa', 'FKF', 'na', 'umma', 'kwa', 'ujumla', 'kwamba', 'mahakama', 'leo', ',', '25', 'Novemba', '2021', ',', 'imeifunga', 'kesi', 'dhidi', 'ya', 'Nick', 'Mwendwa', 'kufuatia', 'serikali', 'kushindwa', 'kupendelea', 'mashtaka', 'dhidi', 'yake', ',', \"''\", 'FKF', 'ilisema', 'katika', 'taarifa', 'rahisi', '.', '``', 'Rais', 'wa', 'FKF', 'anashukuru', 'na', 'ataendelea', 'kufanya', 'kazi', 'ili', 'kuhakikisha', 'kuwa', 'soka', 'la', 'Kenya', 'linarejea', 'katika', 'hali', 'yake', 'ya', 'kawaida', '.', \"''\", 'Mwendwa', 'alikamatwa', 'tarehe', '12', 'Novemba', 'na', 'kukaa', 'gerezani', 'mwishoni', 'mwa', 'juma', ',', 'kabla', 'ya', 'kuachiliwa', 'kwa', 'dhamana', 'ya', 'Kshs4', 'milioni', '(', 'takriban', 'dola', '36,000', ')', 'huku', 'uchunguzi', 'zaidi', 'ukifanywa', '.', 'Mwenda', 'alikanusha', 'makosa', 'yote', 'anayotuhumiwa', 'nayo', '.', 'Alipokamatwa', 'kwa', 'mara', 'ya', 'kwanza', ',', 'msemaji', 'wa', 'FKF', 'alisema', ':', '``', 'Hakuelezwa', 'sababu', 'zozote', 'za', 'kukamatwa', 'kwake', ',', 'kwa', 'hivyo', 'bado', 'tunajaribu', 'kufuatilia', '.', \"''\", 'Kukamatwa', 'kwake', 'na', 'uchunguzi', 'uliofuata', 'ulikuja', 'baada', 'ya', 'ripoti', 'ya', 'mapema', 'mwaka', 'huu', 'chini', 'ya', 'Wizara', 'ya', 'Michezo', 'ya', 'Kenya', ',', 'ambayo', 'ilipendekeza', 'kwamba', 'mamlaka', 'inapaswa', 'kulitupia', 'jocho', 'FKF', '.', 'Ripoti', 'hiyo', 'ililenga', 'kubainisha', 'masuala', 'ya', 'ufujaji', 'wa', 'fedha', '.', 'Maafisa', 'wa', 'Fifa', 'hivi', 'majuzi', 'walikuwa', 'Nairobi', 'kufanya', 'uchunguzi', 'wao', 'katika', 'shirikisho', 'hilo', 'la', 'FKF', ',', 'ambalo', 'Mwendwa', 'ameliiongoza', 'tangu', '2016', '.', 'Wanaharakati', 'wa', 'haki', 'za', 'wanawake', 'Rwanda', 'wasitisha', 'tamasha', 'la', 'Koffi', 'Olomide', 'Samba', 'Cyuzuzo', 'BBC', 'Great', 'Lakes', 'Getty', 'ImagesCopyright', ':', 'Getty', 'Images', 'Wanaharakati', 'wa', 'haki', 'za', 'wanawake', 'nchini', 'Rwanda', 'wamesitisha', 'tamasha', 'la', 'nyota', 'wa', 'muziki', 'wa', 'Congo', 'Koffi', 'Olomide', 'kwa', 'tuhuma', 'za', 'ubakaji', 'na', 'unyanyasaji', 'wa', 'kingono', 'anazokabiliwa', 'nazo', 'katika', 'mahakama', 'za', 'Ufaransa', '.', 'Mwezi', 'Desemba', ',', 'mahakama', 'ya', 'Paris', 'itatoa', 'uamuzi', 'wa', 'rufaa', 'iliyoombwa', 'kwa', 'mashtaka', 'dhidi', 'ya', 'nyota', 'huyo', ',', 'ambaye', 'alikuwa', 'amepatikana', 'na', 'hatia', 'hapo', 'awali', ',', 'lakini', 'amekuwa', 'akikanusha', 'madai', 'ya', 'wachezaji', 'wake', 'wanne', 'wa', 'zamani', '.', 'Serikali', 'ya', 'Tanzania', 'yaagiza', 'kuanzishwa', 'madawati', 'kijinsia', 'katika', 'shule', 'za', 'msingi', 'na', 'Sekondari', 'Waziri', 'Mkuu', 'wa', 'Tanzania', 'Kassim', 'Majaliwa', 'amesema', 'serikali', 'itaendeleza', 'mapambano', 'dhidi', 'ya', 'ukatili', 'wa', 'kijinsia', 'na', 'haitavumilia', 'aina', 'yoyote', 'ya', 'ukatili', 'wa', 'kijinsia', 'utakaofanywa', 'na', 'yeyote', '.', 'Waziri', 'Mkuu', 'Majaliwa', 'ameyasema', 'hayo', 'alipokuwa', 'akizungumza', 'wakati', 'wa', 'uzinduzi', 'wa', 'kampeni', 'ya', 'siku', '16', 'za', 'kupinga', 'ukatili', 'wa', 'kijinsia', '.', 'Majaliwa', 'amesema', 'nguvu', 'kubwa', 'inatakiwa', 'kuongezwa', 'katika', 'kukabiliana', 'na', 'tatizo', 'hilo', 'linaloathiri', 'vijana', 'wengi', 'wa', 'kike', '.', '“', 'Lazima', 'jamii', 'yetu', 'ijenge', 'msukumo', 'wa', 'kuhakikisha', 'kuwa', 'kila', 'mtu', 'katika', 'nafasi', 'yake', 'anapaza', 'sauti', 'na', 'kuchukua', 'hatua', 'ya', 'kuzuia', 'na', 'kutokomeza', 'vitendo', 'vya', 'ukatili', 'wa', 'kijinsia', 'hususani', 'ukatili', 'wa', 'kingono', 'kama', 'vile', 'rushwa', 'ya', 'ngono', ',', 'ukatili', 'baina', 'ya', 'wenza', ',', 'ubakaji', ',', 'mimba', 'na', 'ndoa', 'za', 'utotoni', '”', '.', 'Majaliwa', 'ameiagiza', 'Wizara', 'ya', 'Afya', 'Maendeleo', 'ya', 'Jamii', 'Jinsia', 'Wazee', 'na', 'Watoto', ',', 'Kufanya', 'tathmini', 'ya', 'utekelezaji', 'wa', 'Mpango', 'Kazi', 'wa', 'Taifa', 'wa', 'kutokomeza', 'ukatili', 'dhidi', 'ya', 'wanawake', 'na', 'watoto', 'na', 'kuandaa', 'mpango', 'mpya', ';', 'Kuimarisha', 'mifumo', 'ya', 'utoaji', 'wa', 'taarifa', 'za', 'ukatili', 'katika', 'ngazi', 'zote', ';', 'kusimamia', 'utekelezaji', 'wa', 'sera', 'na', 'sheria', 'hususan', 'Sheria', 'ya', 'Ajira', 'na', 'Mahusiano', 'Kazini', 'ya', 'mwaka', '2004', ',', 'pamoja', 'na', 'kusimamia', 'uendeshaji', 'wa', 'usimamizi', 'wa', 'Mahakama', 'ya', 'Familia', 'ili', 'kuimarisha', 'ushughulikiaji', 'wa', 'migogoro', 'ya', 'ndoa', 'na', 'familia', '.', 'Kanye', 'West', 'alilia', 'ndoa', 'yake', 'na', 'Kim', 'Kardashian', 'Mwanamuziki', 'wa', 'miondoko', 'ya', 'kufoka', 'foka', 'nchini', 'Marekani', 'Kanye', 'West', 'amekiri', 'kuwa', 'alifanya', 'makosa', 'katika', 'ndoa', 'yake', 'na', 'Kim', 'Kardashian', 'Amesema', 'kuwa', 'ni', 'mpango', 'wa', 'Mungu', 'yeye', 'na', 'mke', 'wake', 'Kim', 'Kardashian', 'kurudiana', 'na', 'kutengeneza', 'maisha', 'kwenye', 'nyumba', 'pamoja', 'na', 'watoto', 'wao', '.', 'Akiwa', 'mjini', 'Los', 'Angeles', 'kwenye', 'sherehe', 'za', 'shukrani', ',', 'Kanye', 'west', ',', '44', 'alisema', 'anaamini', 'kuwa', 'atarudiana', 'tena', 'na', 'mke', 'wake', 'Kim', 'Kardashian', 'licha', 'ya', 'mwanamitindo', 'huyo', 'na', 'nyota', 'wa', 'kipindi', 'cha', \"'Keep\", 'up', 'with', 'the', 'kardashians', \"'\", 'kuwa', 'katika', 'mahusiano', 'na', 'muigizaji', 'Pete', 'Davidson', '“', 'lakini', 'sasa', 'kwa', 'sababu', 'yoyote', 'ile', 'sikujua', 'nitakuwa', 'mbele', 'ya', 'kipaza', 'sauti', 'hiki', ',', 'lakini', 'nipo', 'sasa', 'kubadilisha', 'kauli', 'zangu', '”', 'alikiri', 'Kanye', '.', 'Akizungumza', 'kuhusu', 'mpenzi', 'mpya', 'wa', 'Kim', 'na', 'nyota', 'wa', 'kipindi', 'cha', 'SNL', ',', 'Kanye', 'alisema', 'hatoruhusu', 'televisheni', 'ya', 'E', 'kuandika', 'simulizi', 'juu', 'ya', 'familia', 'yake', ',', '“', 'sitaruhusu', 'Hulu', 'iandike', 'simulizi', 'ya', 'familia', 'yangu…', 'mimi', 'ni', 'mchungaji', 'katika', 'nyumba', 'yangu.', '”', 'Aliongeza', 'Kanye', 'Aliendelea', 'kueleza', 'kuwa', 'ana', 'imani', 'na', 'Mungu', 'kuwa', 'ataungana', 'tena', 'na', 'mke', 'wake', 'na', 'watoto', 'nyumbani', ',', 'na', 'kuanza', 'kusambaratisha', 'matendo', 'ya', 'shetani', '.', '“', 'Kama', 'kuna', 'adui', 'anaweza', 'kutenganisha', 'KIMYE', ',', 'basi', 'kutakuwa', 'kuna', 'mamia', 'ya', 'familia', 'ambazo', 'zinahisi', 'kuwa', 'kutengana', 'ni', 'sawa', '”', 'anasema', 'Kanye', '.', 'Anasema', '“', 'lakini', 'wakati', 'Mungu', 'analeta', 'KIMYE', 'pamoja', ',', 'kuna', 'mamia', 'ya', 'familia', 'ambazo', 'zinashawishika', 'kuona', 'tumeweza', 'kushinda', 'utengano', 'huu', ',', 'vurugu', 'za', 'shetani', 'ambazo', 'zinatumia', 'mtaji', 'kuweka', 'watu', 'katika', 'taabu', '.', 'Watoto', 'wachanga', 'walizaliwa', 'na', 'aina', 'ya', 'HIV', 'sugu', 'kwa', 'dawa', 'kabla', 'ya', 'matibabu-WHO', 'Rhoda', 'Odhiambo', 'BBC', 'health', 'reporter', ',', 'Nairobi', 'SPLCopyright', ':', 'SPL', 'Shirika', 'la', 'Afya', 'Ulimwenguni', 'limesema', 'kuwa', 'karibu', 'nusu', '(', 'asilimia', '45', ')', 'ya', 'watoto', 'wachanga', 'waliozaliwa', 'katika', 'nchi', 'kumi', 'za', 'Afrika', 'walizaliwa', 'na', 'aina', 'ya', 'HIV', 'ambayo', 'ni', 'sugu', 'kwa', 'dawa', 'inayotumika', 'hata', 'kabla', 'ya', 'kuanza', 'matibabu', '.', 'Wataalam', 'wana', 'wasiwasi', 'kuwa', 'takwimu', 'zinaweza', 'kuwa', 'za', 'juu', 'zaidi', '.', 'WHO', 'inasema', 'watu', 'milioni', '25.4', 'wanaishi', 'na', 'virusi', 'vya', 'ukimwi', 'barani', 'Afrika', '.', 'Ni', 'Nigeria', ',', 'Cameroon', ',', 'Togo', ',', 'Afrika', 'Kusini', ',', 'Uganda', ',', 'Kenya', ',', 'Malawi', ',', 'Msumbiji', ',', 'Zimbabwe', 'na', 'Eswatini', 'pekee', 'ndizo', 'zimefanya', 'tafiti', 'zinazoangalia', 'ukinzani', 'wa', 'dawa', 'za', 'HIV', 'kabla', 'ya', 'matibabu', '.', 'Hii', 'hugunduliwa', 'kwa', 'watu', 'ambao', 'hawana', 'historia', 'ya', 'kutumia', 'dawa', 'za', 'HIV', 'kabisa', '.', 'Nchi', 'nyingine', 'za', 'Kiafrika', 'hazijaweza', 'kufanya', 'tafiti', 'za', 'kina', 'kuhusu', 'hili', '.', 'WHO', 'inasema', 'watoto', 'wanaozaliwa', 'na', 'virusi', 'vya', 'ukimwi', 'wanaweza', 'kuwa', 'ni', 'matokeo', 'ya', 'wanawake', 'wajawazito', 'kutopimwa', 'mara', 'kwa', 'mara', 'na', 'wengine', 'kutokunywa', 'dawa', 'zao', 'mara', 'kwa', 'mara', '.', 'Dk', 'Fausta', 'Moesha', 'kutoka', 'ofisi', 'ya', 'WHO', 'kanda', 'ya', 'Afrika', 'anasema', 'matokeo', 'haya', 'yanaangazia', 'haja', 'ya', 'nchi', 'kununua', 'na', 'kuwapa', 'watoto', 'dawa', 'inayojulikana', 'kama', 'Dolutegravir', '.', 'Matibabu', 'haya', 'yametajwa', 'kuwa', 'ya', 'mabadiliko', 'kutokana', 'na', 'ufanisi', 'wake', 'na', 'ni', 'rahisi', 'kwa', 'matumizi', '.', 'Ni', 'nchi', 'chache', 'tu', 'barani', 'Afrika', 'ambazo', 'zimesambaza', 'dawa', 'hii', 'hadi', 'sasa', '.', 'Mume', 'na', 'mke', 'wake', 'wakamatwa', 'kwa', 'kuwauza', 'watoto', 'wao', 'Vikosi', 'vya', 'usalama', 'vya', 'vya', 'ulinzi', 'wa', 'raia', 'nchini', 'Nigeria', 'vimemkamata', 'mwanaume', 'mmoja', 'kwa', 'jina', ',', 'Elisha', 'Effiong', ',', 'kwa', 'madai', 'ya', 'kupanga', 'njama', 'na', 'mke', 'wake', 'ya', 'kuwauza', 'watoto', 'wao', 'wawili', 'pesa', 'za', 'Nigeria', '-', 'N700,000', '(', 'dola', '1707', ')', 'katika', 'jimbo', 'la', 'kusini', 'mwa', 'nchi', 'hiyo', 'laAkwa', 'Ibom', '.', 'Gazeti', 'la', 'Vanguard', 'limechapisha', 'taarifa', 'ya', 'msemaji', 'wa', 'kamishna', 'wa', 'polisi', 'Umana', 'Ukeme', 'Jumatano', ',', 'akisema', 'kuwa', 'binti', 'zao', 'waliotaka', 'kuwauza', 'walikuwa', 'na', 'umri', 'wa', 'miaka', 'sita', 'na', 'miaka', 'minne', '.', 'Kulingana', 'naye', ',', 'Effiong', ',', 'ambaye', 'anaishi', 'nchini', 'Cameroon', 'na', 'mke', 'wake', 'walikamatwa', 'katika', 'eneo', 'la', 'Uyo', 'tarehe', '15', ',', '2021', ',', 'kufuatia', 'taarifa', 'iliyotolewa', 'kwa', 'siri', 'huku', 'wakijaribu', 'kuwauza', 'watoto', 'wao', 'Abasifreke', 'Edet', 'na', 'Rachael', 'Edet', '.', 'Taarifa', 'hiyo', 'imemnukuu', 'mshukiwa', 'akisema', 'alitaka', 'kuwauza', 'watoto', 'wake', 'kwasababu', 'ya', 'umasikini', 'mkubwa', 'alionao', '.', 'Saif', 'Gaddafi', 'azuiwa', 'kugombea', 'urais', 'Libya', 'Saif', 'al-Islam', 'Gaddafi', 'anatafutwa', 'na', 'Mahakama', 'ya', 'kimataifa', 'ya', 'uhalifu', 'wa', 'kivita', 'na', 'huonekana', 'nadra', 'hadharani', '(', 'picha', 'kutoka', 'maktaba', ')', 'Image', 'caption', ':', 'Saif', 'al-Islam', 'Gaddafi', 'anatafutwa', 'na', 'Mahakama', 'ya', 'kimataifa', 'ya', 'uhalifu', 'wa', 'kivita', 'na', 'huonekana', 'nadra', 'hadharani', '(', 'picha', 'kutoka', 'maktaba', ')', 'Mwana', 'wa', 'kiume', 'wa', 'aliyekuwa', 'kiongozi', 'wa', 'Libya', 'hayati', 'Muammar', 'Gaddafi', 'ameenguliwa', 'katika', 'kinyang', '’', 'anyiro', 'cha', 'kuwania', 'uchaguzi', 'wa', 'tarehe', '24', 'Disemba', '.', 'Tume', 'ya', 'uchaguzi', 'ilikataa', 'maombi', 'kadhaa', 'ya', 'kugombea', 'kiti', 'hicho', 'yakiwemo', 'ya', 'Saif', 'al-Islam', 'Gaddafi', ',', 'ikitaja', '``', 'sababu', 'za', 'kisheria', \"''\", ',', 'vyombo', 'vya', 'habari', 'viliripoti', '.', 'Bw', 'Gaddafi', 'aliibua', 'utata', 'baada', 'ya', 'kutangaza', 'kwamba', 'atagombea', 'urais', '.', 'Anasakwa', 'na', 'mahakama', 'ya', 'kimataifa', 'ya', 'uhalifu', 'kwa', 'madai', 'ya', 'uhalifu', 'wa', 'kivita', 'na', 'mauaji', 'wakati', 'baba', 'yake', 'alipoongoza', 'taifa', 'hilo', 'la', 'kaskazini', 'mwa', 'Afrika', '.', 'Maombi', 'ya', 'kuwania', 'urais', 'ya', 'mwanasiasa', 'mwenye', 'ushawishi', 'Khalfa', 'Haftar', 'pia', 'yalisababisha', 'wasiwasi', 'katika', 'nchi', 'hiyo', ',', 'kwani', 'anakabiliwa', 'na', 'mashitaka', 'katika', 'mahakama', 'za', 'Marekani', ',', 'lakini', 'haijawa', 'wazi', 'iwapo', 'yuko', 'miongoni', 'mwa', 'wale', 'ambao', 'wamekataliwa', '.', 'Waendesha', 'mashitaka', 'wa', 'kijeshi', 'wa', 'Libya', 'walikuwa', 'wameiomba', 'tume', 'ya', 'uchaguzi', 'kuzuwia', 'mchakato', 'wa', 'makaratasi', 'ya', 'kugombea', 'ya', 'Bw', 'Gaddafi', 'na', 'Bw', 'Haftar', 'hadi', 'watakapojibu', 'maswali', 'juu', 'ya', 'shutuma', 'dhidi', 'yao', '.', 'Watu', 'sitini', 'waliwasilisha', 'maombi', 'ya', 'kugombea', 'urais', 'wa', 'Libya', 'kufikia', 'Jumatatu', '.', 'Mwanaharakati', 'wa', 'haki', 'za', 'wanawake', 'Leila', 'Ben', 'Khalifa', ',', '46', ',', 'ni', 'mwanamke', 'pekee', 'anayegombe', 'kiti', 'hicho', '.', 'Hujambo', 'na', 'karibu', 'kwa', 'matangazo', 'yetu', 'mubashara', 'leo', 'Alhamisi', 'tarehe', '25.11.2020', 'Maelezo', 'zaidi', 'kuhusu', 'taarifa', 'hii', 'Gharama', 'ya', 'maisha', 'imekuwa', 'ikiongezeka', 'katika', 'miezi', 'ya', 'hivi', 'karibuni', 'katika', 'mataifa', 'ya', 'eneo', 'la', 'Afrika', 'Mashariki', 'ya', 'Kenya', ',', 'Tanzania', 'na', 'Uganda', '.', 'Hizi', 'ni', 'baadhi', 'ya', 'bidhaa', 'ambazo', 'zimeonekana', 'kuongezeka', 'bei', 'katika', 'nchi', 'hizo', 'tatu', 'Juni', '2017', 'hayati', 'Rais', 'Magufuli', 'alipiga', 'marufuku', 'wanafunzi', 'wanaopata', 'mimba', 'kuendelea', 'na', 'masomo', 'ya', 'shule', 'ya', 'msingi', 'na', 'sekondari', 'akisema', 'ndani', 'ya', 'utawala', 'wake', 'hakuna', 'mwanafunzi', 'atakayepata', 'mimba', 'na', 'kuruhusiwa', 'kurudi', 'shuleni', '.', 'Mshambuliaji', 'wa', 'Paris', 'St-Germain', 'na', 'France', 'Kylian', 'Mbappe', ',', '22', ',', 'anatarajiwa', 'kuondoka', 'katika', 'klabu', 'hiyo', 'wakati', 'kandarasi', 'yake', 'itakapokwisha', 'msimu', 'wa', 'ujao', ',', 'huku', 'Newcastle', 'united', 'ikiwa', 'miongoni', 'mwa', 'klabu', 'ambayo', 'inawaza', 'kumuwania', 'mchezaji', 'huyo', 'mshindi', 'wa', 'kombe', 'la', 'dunia', '.', '(', 'Express', ')']\n",
      "\n",
      " Number of Words:  1719\n"
     ]
    }
   ],
   "source": [
    "file=\"nov25.txt\"\n",
    "\n",
    "# calling the function and storing the contents in a text variable \n",
    "text = get_document(\"https://www.bbc.com/swahili/live/habari-59412474\")\n",
    "\n",
    "# calling the store_ document function \n",
    "store_document(doc=text,name=file)\n",
    "\n",
    "#add the words in this file to the total_corpus_words, to keep count of the number of words in the corpus\n",
    "total_corpus_words+=total_words(file)"
   ]
  },
  {
   "cell_type": "code",
   "execution_count": 16,
   "metadata": {},
   "outputs": [
    {
     "data": {
      "text/plain": [
       "73869"
      ]
     },
     "execution_count": 16,
     "metadata": {},
     "output_type": "execute_result"
    }
   ],
   "source": [
    "total_corpus_words"
   ]
  },
  {
   "cell_type": "code",
   "execution_count": 19,
   "metadata": {},
   "outputs": [
    {
     "name": "stdout",
     "output_type": "stream",
     "text": [
      "['Kenya', ':', 'Mahakama', 'Kuu', 'yaamua', 'kazi', 'za', 'nyumbani', 'ni', 'kazi', 'Suluhu', 'ya', 'talaka', 'ya', 'Mary', 'Wambui', 'imekuwa', 'mfano', 'nchini', 'Kenya', ',', 'baada', 'ya', 'Jaji', 'mwandamizi', 'kukiri', 'kwamba', 'kazi', 'za', 'nyumbani', 'ni', 'kazi', 'katika', 'uamuzi', 'wa', 'kesi', 'ya', 'ndoa', '.', 'Huu', 'ni', 'utekelezaji', 'wa', 'kwanza', 'wa', 'Sheria', 'ya', 'Mali', 'ya', 'Ndoa', 'ya', 'mwaka', '2013', '.', 'Hili', 'ni', 'tamko', 'la', 'kihistoria', 'kwa', 'wanawake', 'kote', 'barani', 'Afrika', 'na', 'sasa', 'linaweza', 'kutumiwa', 'na', 'majaji', 'wengine', 'katika', 'kuamua', 'kesi', 'ambapo', 'akina', 'mama', 'wa', 'nyumbani', 'wanahusika', 'na', 'hivyo', 'kuwapa', 'fidia', 'ya', 'pesa', 'inayohitajika', '.']\n",
      "\n",
      " Number of Words:  88\n"
     ]
    }
   ],
   "source": [
    "file=\"dec8.txt\"\n",
    "\n",
    "# calling the function and storing the contents in a text variable \n",
    "text = get_document(\"https://www.bbc.com/swahili/habari-59579396\")\n",
    "\n",
    "# calling the store_ document function \n",
    "store_document(doc=text,name=file)\n",
    "\n",
    "#add the words in this file to the total_corpus_words, to keep count of the number of words in the corpus\n",
    "total_corpus_words+=total_words(file)"
   ]
  },
  {
   "cell_type": "code",
   "execution_count": 20,
   "metadata": {},
   "outputs": [
    {
     "data": {
      "text/plain": [
       "73957"
      ]
     },
     "execution_count": 20,
     "metadata": {},
     "output_type": "execute_result"
    }
   ],
   "source": [
    "total_corpus_words"
   ]
  },
  {
   "cell_type": "code",
   "execution_count": 21,
   "metadata": {},
   "outputs": [
    {
     "name": "stdout",
     "output_type": "stream",
     "text": [
      "['Je', 'ni', 'kweli', 'kwamba', 'Afrika', 'inahitaji', 'China', 'na', 'Marekani', 'kushirikiana', '?', 'Nchi', '17', 'za', 'Afrika', 'zinashiriki', 'katika', 'mkutano', 'wa', 'siku', 'mbili', 'wa', 'Demokrasia', 'ulioandaliwa', 'na', 'Rais', 'wa', 'Marekani', 'Joe', 'Biden', ',', 'unaotangazwa', 'kama', 'tukio', 'la', 'kujadili', 'njia', 'za', 'kujilinda', 'dhidi', 'ya', 'kuongezeka', 'kwa', 'utawala', 'wa', 'kimabavu', '.', 'Waangalizi', 'wanasema', 'inaangazia', 'vipaumbele', 'tofauti', 'vya', 'Marekani', 'na', 'China', 'katika', 'bara', '.', 'Mkutano', 'huo', 'unakuja', 'ikiwa', 'ni', 'wiki', 'moja', 'tu', 'baada', 'ya', 'Kongamano', 'la', 'miaka', 'mitatu', 'la', 'Ushirikiano', 'kati', 'ya', 'China', 'na', 'Afrika', '(', 'Focac', ')', 'kufanyika', 'katika', 'mji', 'mkuu', 'wa', 'Senegal', ',', 'Dakar', ',', 'ambao', 'umekua', 'na', 'umuhimu', 'huku', 'China', 'ikiwa', 'mshirika', 'mkubwa', 'wa', 'kibiashara', 'wa', 'bara', 'hilo', '.', 'Rais', 'wa', 'China', 'Xi', 'Jinping', 'alitangaza', 'uwekezaji', 'wa', 'angalau', '$', '40bn', '(', '£30bn', ')', 'katika', 'miradi', 'inayohusisha', 'kilimo', ',', 'uchumi', 'wa', 'kidijitali', ',', 'mabadiliko', 'ya', 'hali', 'ya', 'hewa', ',', 'ukuzaji', 'wa', 'viwanda', ',', 'pamoja', 'na', 'dozi', 'bilioni', 'moja', 'za', 'chanjo', 'ya', 'Covid-19', 'katika', 'uchangiaji', 'na', 'utengenezaji', 'wa', 'pamoja', '.', '``', 'Inaonekana', 'kuwa', 'kinyume', ',', 'lakini', 'jinsi', 'nchi', 'inavyokuwa', 'na', 'demokrasia', 'zaidi', ',', 'ndivyo', 'wanavyokaribia', 'China', ',', \"''\", 'alisema', 'W', 'Gyude', 'Moore', ',', 'mshiriki', 'mkuu', 'wa', 'sera', 'katika', 'Kituo', 'cha', 'Maendeleo', 'ya', 'Dunia', '.', '``', 'Hitaji', 'kubwa', 'zaidi', 'barani', 'Afrika', 'ni', 'miundombinu', ',', 'na', 'mfadhili', 'wa', 'kurejea', 'katika', 'miaka', '20', 'iliyopita', 'amekuwa', 'China', ',', \"''\", 'aliongeza', '.', 'Miundombinu', 'ya', 'uchaguzi', 'Katika', 'hafla', 'ya', 'Focac', ',', 'picha', 'ya', 'Waziri', 'wa', 'Mambo', 'ya', 'Nje', 'wa', 'Sierra', 'Leone', 'David', 'John', 'Francis', 'akikabidhi', 'picha', 'ya', 'msanii', 'kuhusu', 'daraja', 'ambalo', 'bado', 'halijajengwa', 'lenye', 'urefu', 'wa', 'kilomita', '7', 'kwa', 'mwenzake', 'wa', 'China', 'Wang', 'Yi', 'ilionesha', 'jukumu', 'muhimu', 'la', 'China', 'barani', 'Afrika', '.', 'Kiwango', 'cha', 'wastani', 'cha', '$', '1.2bn', '(', '£900m', ')', 'Daraja', 'la', 'Lungi', 'linalounganisha', 'mji', 'mkuu', 'wa', 'peninsula', ',', 'Freetown', 'na', 'uwanja', 'wa', 'ndege', 'mkuu', 'litatoa', 'njia', 'mbadala', 'ya', 'haraka', 'kwa', 'feri', 'ambayo', 'huchukua', 'saa', 'nyingi', 'na', 'inaweza', 'kuwa', 'isiyotegemewa', '.', 'Baadhi', 'ya', 'waangalizi', 'wa', 'mambo', 'wanasema', 'Rais', 'Julius', 'Maada', 'Bio', 'anaona', 'mradi', 'wa', 'daraja', 'kama', 'ufunguo', 'wa', 'kampeni', 'yake', 'ya', 'kuchaguliwa', 'tena', '2023', ',', 'ingawa', 'wengine', 'wanasema', 'hakuna', 'uhalali', 'wa', 'kiuchumi', ',', 'wakisema', 'kwamba', 'pesa', 'hizo', 'zinaweza', 'kutumika', 'vyema', 'kushughulikia', 'changamoto', 'za', 'kijamii', 'kama', 'kwenye', 'elimu', 'na', 'kuzuia', 'vifo', 'vya', 'mama', 'na', 'mtoto', 'wakati', '.', 'Chanzo', 'cha', 'picha', ',', 'Twitter/Nairobi', 'Expressway', 'Maelezo', 'ya', 'picha', ',', 'Barabara', 'kuu', 'ya', 'kilomita', '27', 'inayofadhiliwa', 'na', 'kujengwa', 'na', 'China', 'inabadilisha', 'mji', 'mkuu', 'wa', 'Kenya', ',', 'Nairobi', 'Nchini', 'Gambia', ',', 'Rais', 'Adama', 'Barrow', 'hivi', 'karibuni', 'alishinda', 'tena', 'uchaguzi', 'baada', 'ya', 'kupigia', 'debe', 'madaraja', 'yaliyojengwa', 'na', 'China', 'ambayo', 'yamekuza', 'biashara', 'na', 'taifa', 'jirani', 'la', 'Senegal', ',', 'na', 'pia', 'kuahidi', 'kutoa', 'mradi', 'wa', 'barabara', 'unaoungwa', 'mkono', 'na', 'China', '.', 'Folashade', 'Soule-Kohndou', ',', 'mshirika', 'mkuu', 'wa', 'utafiti', 'katika', 'Chuo', 'Kikuu', 'cha', 'Oxford', ',', 'anasema', 'wanasiasa', 'wa', 'Afrika', 'mara', 'nyingi', 'wanahitaji', 'ufadhili', 'wa', 'miundombinu', 'ya', 'China', 'ili', 'kutekeleza', 'ahadi', 'zao', 'za', 'uchaguzi', '.', 'Kwa', 'mujibu', 'wa', 'Benki', 'ya', 'Maendeleo', 'ya', 'Afrika', ',', 'bara', 'linahitaji', '$', '130-170bn', 'kwa', 'mwaka', 'ili', 'kukidhi', 'mahitaji', 'yake', 'ya', 'miundombinu', ',', 'lakini', 'kwa', 'sasa', 'kuna', 'upungufu', 'mkubwa', 'wa', 'kati', 'ya', '$', '68-108bn', '.', 'Pengo', 'hilo', 'linaweza', 'kujazwa', 'na', 'mpango', 'mpya', 'wa', 'miundombinu', 'wa', 'Umoja', 'wa', 'Ulaya', 'wa', '$', '340bn', ',', 'Global', 'Gateway', ',', 'pamoja', 'na', 'mpango', 'wa', 'Marekani', 'wa', 'Build', 'Back', 'Better', '(', 'B3W', ')', ',', 'ambao', 'wote', 'wanakuzwa', 'kama', 'njia', 'mbadala', 'za', 'Mpango', 'wa', 'Barabara', 'wa', 'China', '(', 'BRI', ')', '.', 'Lakini', 'kwa', 'sasa', ',', 'miradi', 'hii', 'miwili', 'ina', 'maelezo', 'mafupi', 'ukilinganisha', 'na', 'BRI', 'ambayo', 'tayari', 'imejenga', 'barabara', ',', 'reli', 'na', 'bandari', 'duniani', 'kote', '.', 'China-Marekani', 'kuungana', 'Mtaalamu', 'wa', 'biashara', 'Francis', 'Mangeni', 'anasema', 'itakuwa', 'bora', 'kwa', 'Afrika', 'ikiwa', 'mipango', 'mbalimbali', 'itazingatia', 'harambee', 'sio', 'ushindani', '.', '``', 'Badala', 'ya', 'kuona', 'ushawishi', 'wa', 'China', 'barani', 'Afrika', 'kama', 'hasi', 'na', 'kujibu', 'kwa', 'ushindani', 'na', 'uadui', 'au', 'kuzuia', ',', 'nadhani', 'mamlaka', 'nyingine', 'zinapaswa', 'kuongezea', ',', \"''\", 'alisema', '.', 'Lakini', 'anaongeza', 'kuwa', 'ni', 'juu', 'ya', 'nchi', 'za', 'Kiafrika', 'kusisitiza', 'ushawishi', 'wao', 'wa', 'pamoja', 'ili', 'kuhakikisha', 'kuwa', 'hii', 'inafanyika', '.', 'Hata', 'hivyo', ',', 'Global', 'Gateway', 'na', 'B3W', 'zinaweza', 'kuwa', 'na', 'manufaa', 'zaidi', 'ya', 'mpango', 'wa', 'China', 'ikiwa', 'zitazingatia', 'zaidi', 'uhamishaji', 'wa', 'teknolojia', ',', 'utoaji', 'wa', 'haraka', 'wa', 'miradi', ',', 'na', 'uwekezaji', 'ambao', 'haulengi', 'deni', ',', 'Bi', 'Soule-Kohndou', 'alisema', '.', 'Bw', 'Moore', 'anakubali', ',', 'akisema', 'kuwa', '``', 'Afrika', 'inahitaji', 'kubadilisha', 'ufadhili', 'wake', 'wa', 'miundombinu', ',', 'kwa', 'hivyo', 'hili', 'ni', 'tatizo', 'zuri', 'kuwa', 'nalo', \"''\", '.', 'Lakini', 'anaongeza', 'kuwa', 'China', 'limejenga', 'miundombinu', 'yenye', 'ushindani', 'wa', 'gharama', 'katika', 'bara', 'hilo', 'na', 'hivyo', 'itakuwa', 'vigumu', ',', 'hasa', 'kwa', 'makampuni', 'ya', 'ujenzi', 'ya', 'Marekani', ',', 'kushindana', '.', 'Alipendekeza', 'kuwa', 'Marekani', 'na', 'China', 'zina', 'nguvu', 'tofauti', 'ambazo', 'zinaweza', 'kusaidiana', 'katika', 'kukidhi', 'mahitaji', 'ya', 'miundombinu', ',', 'afya', ',', 'elimu', 'na', 'usalama', 'barani', 'Afrika', '.', '``', 'Marekani', 'ina', 'nguvu', 'kubwa', 'katika', 'uwekezaji', 'wa', 'mitaji', 'ya', 'rasilimali', 'watu', '.', 'Vyuo', 'vikuu', 'vyake', 'ni', 'bora', 'zaidi', 'duniani', ',', 'vivyo', 'hivyo', 'mifumo', 'yake', 'ya', 'afya', '.', 'China', 'inaweza', 'kujenga', 'hospitali', 'na', 'Marekani', 'inaweza', 'kutoa', 'mafunzo', 'kwa', 'madaktari', ',', \"''\", 'Bw', 'Moore', 'alisema', '.', 'Huku', 'idadi', 'ya', 'watu', 'barani', 'humo', 'ikitarajiwa', 'kuongezeka', 'maradufu', 'hadi', 'watu', 'bilioni', '2.5', 'ifikapo', 'mwaka', '2050', ',', 'kuzingatia', 'maendeleo', 'ya', 'kiuchumi', ',', 'kijamii', 'na', 'kisiasa', 'ni', 'muhimu', '.', 'Chanzo', 'cha', 'picha', ',', 'Getty', 'Images', 'Maelezo', 'ya', 'picha', ',', 'Rais', 'Xi', 'Jinping', 'akihutubia', 'mkutano', 'wa', 'Focac', 'kw', 'njia', 'ya', 'video', 'Makubaliano', 'ya', 'Biashara', 'Huria', 'ya', 'Bara', 'la', 'Afrika', '(', 'AfCTA', ')', ',', 'mpango', 'uliozinduliwa', 'Januari', 'ili', 'kuongeza', 'biashara', 'ya', 'ndani', 'ya', 'Afrika', 'kutoka', 'viwango', 'vyake', 'vya', 'chini', 'sana', ',', 'unaonekana', 'kuwa', 'njia', 'muhimu', 'ya', 'kufikia', 'malengo', 'haya', '.', 'Bw', 'Mangeni', 'anasema', 'pendekezo', 'la', 'China', 'la', 'kuunganisha', 'BRI', 'na', 'AfCTA', '``', 'litakuza', 'biashara', 'kwa', 'kiasi', 'kikubwa', 'barani', 'humo', 'na', 'kwingineko', \"''\", '.', '``', 'Gharama', 'ya', 'biashara', 'barani', 'Afrika', 'iko', 'juu', 'zaidi', 'duniani', 'ambapo', 'usafirishaji', 'wa', 'bidhaa', 'unafikia', 'asilimia', '90', 'ya', 'gharama', ',', \"''\", 'alisema', 'na', 'kuongeza', 'kuwa', '``', 'baadhi', 'ya', 'watu', 'hawa', 'wanaoikosoa', 'China', 'hawakuingilia', 'kati', 'kuwekeza', 'katika', 'miundombinu', \"''\", '.', 'Rais', 'wa', 'Uganda', 'Yoweri', 'Museveni', ',', 'ambaye', 'hakualikwa', 'kwenye', 'mkutano', 'wa', 'Demokrasia', 'ya', 'Marekani', '-', 'uamuzi', 'ambao', 'wizara', 'yake', 'ya', 'mambo', 'ya', 'nje', 'iliuita', 'kuwa', '``', 'kosa', 'kubwa', \"''\", '-', 'alikaribisha', 'ushirikiano', 'wa', 'sekta', 'ya', 'kibinafsi', 'ya', 'China', ',', 'akisema', 'wawekezaji', 'binafsi', 'wa', 'Magharibi', 'wanapunguza', 'kasi', 'ya', 'kupenda', 'kuwekeza', 'nchini', 'humo', '.', 'Bw', 'Museveni', 'amekuwa', 'miongoni', 'mwa', 'kundi', 'la', 'viongozi', 'wanaoshinikiza', 'kuongezwa', 'kwa', 'bidhaa', 'za', 'Afrika', 'katika', 'soko', 'la', 'China', '.', 'Hivi', 'majuzi', 'alikanusha', 'taarifa', 'kwamba', 'uwanja', 'mkuu', 'wa', 'ndege', 'wa', 'nchi', 'hiyo', 'uko', 'hatarini', 'kuchukuliwa', 'kama', 'mfano', 'wa', 'shutuma', 'zinazoripotiwa', 'na', 'watu', 'wengi', 'ambazo', 'hazijathibitishwa', 'kuwa', 'China', 'inatumia', 'madeni', 'kuzipata', 'nchi', 'za', 'Afrika', '.', 'Lakini', 'mara', 'nyingi', 'miradi', 'hii', 'imegubikwa', 'na', 'ufisadi', ',', 'kurubuniwa', ',', 'na', 'kukosa', 'uwazi-hali', 'ambayo', 'imechangia', 'baadhi', 'ya', 'nchi', 'za', 'Afrika', 'kuhangaika', 'kulipa', 'deni', 'lao', '.', 'Ni', 'kwenda', 'mbele', 'na', 'wala', 'sio', 'Mashariki', 'wala', 'Magharibi', 'Wataalamu', 'wengine', 'pia', 'wana', 'wasiwasi', 'kwamba', 'ukosefu', 'wa', 'sera', 'ya', 'pamoja', 'kwa', 'bara', 'dhidi', 'ya', 'China', 'kunadhoofisha', 'mipango', 'yake', 'ya', 'kimkakati', '.', '``', 'Kwa', 'ujumla', ',', 'China', 'ina', 'jukumu', 'muhimu', 'kama', 'mshirika', 'wa', 'maendeleo', 'wa', 'Afrika', ',', 'lakini', 'Afrika', 'lazima', 'iwe', 'makini', 'zaidi', 'na', 'kuratibiwa', 'katika', 'uhusiano', 'wake', 'na', 'China', ',', \"''\", 'aliandika', 'Davice', 'Monyae', 'kutoka', 'Kituo', 'cha', 'Mafunzo', 'ya', 'Afrika', 'na', 'China', 'katika', 'Chuo', 'Kikuu', 'cha', 'Johannesburg', '.', '``', 'China', 'imetoa', 'karatasi', 'tatu', 'za', 'sera', 'za', 'Afrika', 'tangu', 'mwaka', '2006', 'lakini', 'Afrika', 'bado', 'haijatayarisha', 'sera', 'kuhusu', 'China', ',', \"''\", 'aliongeza', '.', 'Chanzo', 'cha', 'picha', ',', 'Getty', 'Images', 'Maelezo', 'ya', 'picha', ',', 'Agoa', 'imewapa', 'fursa', 'wafanyabiashara', 'wa', 'Afrika', 'kupata', 'soko', 'Marekani', 'Katika', 'kitabu', 'chake', \"'China\", \"'s\", 'Second', 'Continent', \"'\", ',', 'Howard', 'French', 'alisimulia', 'mazungumzo', 'na', 'balozi', 'wa', 'zamani', 'wa', 'China', 'nchini', 'Zambia', 'ambaye', 'alikejeli', 'sera', 'ya', 'Marekani', 'barani', 'Afrika', '.', '``', 'Nyinyi', '[', 'Marekani', ']', 'huajiri', 'watu', 'wa', 'ndani', 'na', 'kuwaweka', 'kama', 'waangalizi', 'katika', 'kila', 'kituo', 'cha', 'kupigia', 'kura', '...', 'nini', 'kingine', '?', 'Sijaona', 'barabara', 'yoyote', 'inayojengwa', 'na', 'shule', 'yoyote', ',', 'hospitali', 'yoyote', 'ambayo', 'inagusa', 'watu', 'kweli', ',', 'ambayo', 'inaweza', 'kudumu', ',', 'ambayo', 'inaweza', 'kuhudumia', 'jamii', 'kwa', 'muda', 'mrefu', '.', 'Labda', 'kutoa', 'mafunzo', 'kwa', 'watu', 'wa', 'uchaguzi', 'ni', 'mchango', 'wako', 'mkubwa', ',', \"''\", 'alisema', 'Zhou', 'Yuxiao', 'wakati', 'huo', 'balozi', 'nchini', 'Zambia', '.', 'Kifaransa', 'aliandika', 'kwamba', 'alijibu', 'kwa', 'kutaja', 'Mpango', 'wa', 'dharura', 'wa', 'Marekani', 'wa', 'Msaada', 'wa', 'Ukimwi', '(', 'Pepfar', ')', ',', 'ambao', 'umetoa', 'dawa', 'za', 'kuokoa', 'maisha', 'kwa', 'mamilioni', 'ya', 'watu', 'katika', 'bara', 'hilo', 'tangu', 'kuzinduliwa', 'kwake', 'mwaka', 'wa', '2003', '.', 'Alisimulia', 'kwamba', 'jibu', 'lote', 'la', 'Bw', 'Zhou', 'lilikuwa', 'la', 'kutikisa', 'kichwa', '.', 'Ushiriki', 'wa', 'Marekani', 'barani', 'Afrika', 'ni', 'mkubwa', 'hasa', 'katika', 'huduma', 'za', 'usalama', 'na', 'afya', '.', 'Ni', 'Sheria', 'ya', 'Ukuaji', 'na', 'Fursa', 'ya', 'Kiafrika', '(', 'Agoa', ')', 'pia', 'inawapa', 'wafanyabiashara', 'wa', 'Kiafrika', 'ufikiaji', 'wa', 'soko', 'la', 'faida', 'la', 'Marekani', '.', 'Lakini', 'Afrika', '-', 'kama', 'kitengo', '-', 'inapaswa', 'kupanga', 'njia', 'yake', 'yenyewe', ',', 'kama', 'vile', 'kiongozi', 'wa', 'uhuru', 'wa', 'Ghana', 'Kwame', 'Nkrumah', 'alilihimiza', 'bara', 'hilo', '``', 'kutazama', 'si', 'mashariki', 'au', 'magharibi', \"''\", 'lakini', 'kuendelea', '.', 'Kulingana', 'na', 'tafiti', ',', 'Waafrika', 'wengi', 'wanataka', 'kuishi', 'katika', 'nchi', 'huru', 'za', 'kidemokrasia', ',', 'lakini', 'pia', 'wanataka', 'serikali', 'zinazotoa', 'barabara', 'nzuri', ',', 'elimu', 'bora', ',', 'usalama', ',', 'huduma', 'za', 'afya', 'na', 'mengine', 'mengi', '.', 'Ili', 'kufikia', 'matarajio', 'haya', ',', 'viongozi', 'wa', 'Kiafrika', 'wanapaswa', 'kujihusisha', 'kwa', 'ubinafsi', 'na', 'mipango', 'tofauti', 'inayotolewa', ',', 'badala', 'ya', 'kuwa', 'vigogo', 'katika', 'mashindano', 'ya', 'kimataifa', 'ya', 'ushawishi', ',', 'wachambuzi', 'wanasema', '.']\n",
      "\n",
      " Number of Words:  1484\n"
     ]
    }
   ],
   "source": [
    "file=\"dec9_1.txt\"\n",
    "\n",
    "# calling the function and storing the contents in a text variable \n",
    "text = get_document(\"https://www.bbc.com/swahili/habari-59589646\")\n",
    "\n",
    "# calling the store_ document function \n",
    "store_document(doc=text,name=file)\n",
    "\n",
    "#add the words in this file to the total_corpus_words, to keep count of the number of words in the corpus\n",
    "total_corpus_words+=total_words(file)"
   ]
  },
  {
   "cell_type": "code",
   "execution_count": 22,
   "metadata": {},
   "outputs": [
    {
     "data": {
      "text/plain": [
       "75441"
      ]
     },
     "execution_count": 22,
     "metadata": {},
     "output_type": "execute_result"
    }
   ],
   "source": [
    "total_corpus_words"
   ]
  },
  {
   "cell_type": "code",
   "execution_count": 23,
   "metadata": {},
   "outputs": [
    {
     "name": "stdout",
     "output_type": "stream",
     "text": [
      "['Nusu', 'ya', 'maambukizi', 'ya', 'Omicron', 'yaripotiwa', 'barani', 'Afrika-WHO', 'Nchi', 'kumi', 'za', 'Kiafrika', 'zinachangia', '46', '%', 'ya', 'kesi', 'za', 'Omicron', 'zilizoripotiwa', 'ulimwenguni', ',', 'kulingana', 'na', 'Shirika', 'la', 'Afya', 'Duniani', '.', 'Inasema', 'nchi', 'nyingi', 'kati', 'ya', 'hizi', 'ziko', 'kusini', 'mwa', 'Afrika', ',', 'ambapo', 'wanasayansi', 'wanakuwa', 'waangalifu', 'zaidi', 'kwa', 'kesi', 'zingine', 'na', 'wanachunguza', 'sampuli', 'ili', 'kuangalia', 'mabadiliko', 'ya', 'virusi', '.', 'Linasema', 'nchi', 'nyingi', 'kati', 'ya', 'hizi', 'ziko', 'kusini', 'mwa', 'Afrika', ',', 'ambapo', 'wanasayansi', 'wanakuwa', 'waangalifu', 'zaidi', 'kwa', 'visa', 'vingine', 'na', 'wanachunguza', 'sampuli', 'ili', 'kuangalia', 'mabadiliko', 'ya', 'virusi', '.', 'Viwango', 'vya', 'kulazwa', 'hospitalini', 'na', 'visa', 'vya', 'maambukizi', 'makali', 'yanasalia', 'chini', 'nchini', 'Afrika', 'Kusini', ',', 'data', 'ya', 'ndani', 'inaonyesha', '.', 'Lakini', 'utafiti', 'bado', 'unaendelea', ',', 'WHO', 'inasema', '.', 'Hakuna', 'vifo', 'vya', 'coronavirus', 'vilivyohusishwa', 'na', 'kirusi', 'kipya', 'cha', 'Omicron', 'na', 'marufuku', 'ya', 'usafiri', 'haitazuia', 'kusambaa', 'kwake', ',', 'shirika', 'hili', 'la', 'kitaifa', 'la', 'duniani', 'liliongeza', '.', 'Kupata', 'chanjo', 'mikononi', 'mwa', 'watu', 'kutazuia', 'virusi', 'hivyo', 'kubadilika', 'zaidi', ',', 'inasema', 'WHO', ',', 'lakini', 'barani', 'Afrika', ',', 'ni', 'Mauritius', ',', 'Morocco', ',', 'Tunisia', ',', 'Ushelisheli', ',', 'Cape', 'Verde', 'na', 'Botswana', 'pekee', 'ndio', 'wamefikia', 'lengo', 'la', 'kimataifa', 'la', 'kuchanja', 'asilimia', '4', 'ya', 'watu', 'wao', 'kufikia', 'mwisho', 'wa', 'mwaka', 'huu', '.', 'Nchi', 'nyingi', 'za', 'Kiafrika', 'bado', 'hazijatoa', 'dawa', 'kwa', 'sababu', 'za', 'vifaa', ',', 'wakati', 'mashaka', 'ya', 'umma', 'kuhusu', 'kupata', 'chanjo', 'hiyo', 'bado', 'ni', 'kikwazo', '.', 'Somalia', 'inajiandaa', 'kwa', 'wanajeshi', 'wa', 'AU', 'kuondoka', 'Somalia', 'imeunda', 'kamati', 'ya', 'uongozi', 'ya', 'makamanda', 'kutoka', 'vyombo', 'mbalimbali', 'vya', 'usalama', 'ili', 'kujadili', 'kukaribia', 'kutwaa', 'majukumu', 'ya', 'usalama', 'wa', 'taifa', 'kutoka', 'vikosi', 'vya', 'kulinda', 'amani', 'vya', 'Afrika', '(', 'Amisom', ')', '.', 'Amisom', 'iliundwa', 'mwaka', '2007', 'kusaidia', 'serikali', 'inayotambulika', 'kimataifa', 'mjini', 'Mogadishu', 'kurejesha', 'udhibiti', 'wa', 'nchi', 'na', 'kupambana', 'na', 'al-Shabab', '.', 'Nchi', 'zinazochangia', 'wanajeshi', 'katika', 'ujumbe', 'huo', 'ni', 'pamoja', 'na', 'Kenya', ',', 'Uganda', ',', 'Burundi', 'na', 'Ethiopia', '.', 'Majukumu', 'ya', 'ujumbe', 'wa', 'AU', 'yanatazamiwa', 'kumalizika', 'rasmi', 'ifikapo', 'tarehe', '31', 'Disemba', ',', 'lakini', 'Baraza', 'la', 'Usalama', 'la', 'Umoja', 'wa', 'Mataifa', 'linaweza', 'kuliongezea', 'muda', '.', 'Kuna', 'hofu', 'kwamba', 'vikosi', 'vya', 'usalama', 'vya', 'nchi', 'hiyo', 'haviko', 'tayari', 'kutokana', 'na', 'mashambulizi', 'ya', 'mara', 'kwa', 'mara', 'na', 'mabaya', 'yanayofanywa', 'na', 'kundi', 'la', 'wanamgambo', 'wa', 'al-Shabab', '.', 'Viongozi', 'wa', 'serikali', 'wakiwemo', 'mawaziri', 'na', 'makamanda', 'wa', 'usalama', 'walihudhuria', 'mkutano', 'huo', 'uliolenga', 'kutathmini', 'maendeleo', 'ya', 'usalama', '.', 'Kulingana', 'na', 'wizara', ',', 'mkutano', 'huo', 'unalenga', 'kutekeleza', '``', 'maono', 'ya', 'umoja', 'wa', 'kitaifa', 'ya', 'kimkakati', 'na', 'kisiasa', \"''\", 'ili', 'kuhakikisha', 'uhamishaji', 'wa', 'majukumu', 'yote', 'ya', 'usalama', 'kutoka', 'kwa', 'Amisom', 'hadi', 'kwa', 'Vikosi', 'vya', 'Usalama', 'vya', 'Somalia', '.', 'Serikali', 'imekuwa', 'ikifanya', 'mikutano', 'na', 'maafisa', 'wa', 'AU', 'na', 'Umoja', 'wa', 'Mataifa', 'kuhusu', 'suala', 'hilo', '.', 'Mwezi', 'Oktoba', ',', 'Baraza', 'la', 'Amani', 'na', 'Usalama', 'la', 'Umoja', 'wa', 'Afrika', 'lilipendekeza', 'mpango', 'wa', 'kuanzisha', 'ujumbe', 'wa', 'mseto', 'wa', 'UN-AU', 'nchini', 'Somalia', 'kuchukua', 'nafasi', 'ya', 'Amisom', ',', 'lakini', 'hili', 'lilikataliwa', 'na', 'serikali', 'ya', 'Somalia', '.', 'Mwimbaji', 'maarufu', 'wa', 'muziki', 'wa', 'pop', 'nchini', 'Kenya', 'ajitokeza', 'kama', 'mpenzi', 'wa', 'jinsia', 'moja', 'Mwanachama', 'wa', 'bendi', 'ya', 'afro-pop', 'nchini', 'Kenya', 'Sauti', 'Sol', 'amejitokeza', 'kama', 'mpenzi', 'wa', 'jinsia', 'moja', '.', 'Tamko', 'la', 'hadharani', 'la', 'Chimano', 'lilikuja', 'alipokuwa', 'akielezea', 'wazo', 'la', 'wimbo', 'wake', 'mpya', ',', 'Friday', 'Feeling', ',', 'ambapo', 'aliwashirikisha', 'wanajamii', 'wa', 'LGBT', '.', '``', 'Hakuna', 'kujificha', 'tena', ',', \"''\", 'aliambia', 'vyombo', 'vya', 'habari', 'vya', 'ndani', '.', 'Alisema', 'kwa', 'sasa', 'anaishi', 'ukweli', 'wake', 'na', 'atatumia', 'muziki', 'wake', 'kupinga', 'taasubi', 'za', 'kiume', 'zenye', 'sumu', ',', 'chuki', 'na', 'unafiki', '.', 'Chimano', 'hajawahi', 'kujitokeza', 'hadharani', 'kama', 'mpenzi', 'wa', 'jinsia', 'moja', 'ingawa', 'hapo', 'awali', 'aliwahi', 'kuonekana', 'na', 'wapenzi', 'wa', 'kiume', '.', 'Tamko', 'hilo', 'la', 'hadharani', 'linaweza', 'kuwa', 'kupiga', 'jeki', 'juhudi', 'za', 'kupigania', 'haki', 'za', 'watu', 'wa', 'jamii', 'ya', 'LGBT', 'nchini', 'Kenya', ',', 'ambapo', 'mapenzi', 'ya', 'jinsia', 'moja', 'yameharamishwa', 'na', 'yanaweza', 'kuadhibiwa', 'kwa', 'hadi', 'miaka', '14', 'jela', '.', 'Tanzania', 'yasheherekea', 'miaka', '60', 'ya', 'uhuru', 'Maafisa', 'wa', 'serikali', 'Tanzania', 'katika', 'uwanja', 'wa', 'taifa', 'Dar', 'es', 'Salaam', 'kusherehekea', 'miaka', '60', 'ya', 'uhuruImage', 'caption', ':', 'Maafisa', 'wa', 'serikali', 'Tanzania', 'katika', 'uwanja', 'wa', 'taifa', 'Dar', 'es', 'Salaam', 'kusherehekea', 'miaka', '60', 'ya', 'uhuru', 'Rais', 'Samia', 'leo', 'analiongoza', 'taifa', 'lake', 'katika', 'kuadhimisha', 'miaka', '60', 'ya', 'uhuru', '.', 'Rais', 'wa', 'Kenya', 'Uhuru', 'Kenyatta', 'ndiye', 'atayekuwa', 'mgeni', 'rasmi', 'katika', 'sherehe', 'hiyo', 'inayofanyika', 'katika', 'uwanja', 'wa', 'taifa', 'mjini', 'Dar', 'es', 'Salaam', '.', 'Wageni', 'wakuu', 'wanaohudhuria', 'sherehe', 'hiyo', 'ni', 'pamoja', 'na', 'Rais', 'Paul', 'Kagame', 'wa', 'Rwanda', ',', 'Filipe', 'Nyusi', 'wa', 'Msumbiji', ',', 'Mwenyekiti', 'wa', 'AU', ',', 'Rais', 'wa', 'DRC', 'Felix', 'Tshisekedi', 'na', 'Rais', 'wa', 'zamani', 'wa', 'Malawi', 'Joyce', 'Banda', '.', 'Wengine', 'ni', 'wawakilishi', 'waliotumwa', 'na', 'mataifa', 'yao', '.', 'Mkesha', 'wa', 'kuamkia', 'sherehe', 'hiyo', 'ya', 'kitaifa', ',', 'Rais', 'Samia', 'alihutubia', 'taifa', 'ambapo', 'alitaja', 'mafanikio', 'mbalimbali', 'yaliyopatikana', 'tangu', 'Tanzania', 'ilipopata', 'uhuru', 'na', 'kueleza', 'matumaini', 'yake', 'kwa', 'zaidi', ',', 'miaka', 'ijayo', '.', 'Akilinganisha', 'mahali', 'nchi', 'ilipo', 'kwa', 'sasa', ',', 'alisema', 'Tanzania', 'ina', 'mafanikio', 'katika', 'miundombinu', ',', 'kwa', 'mifano', 'ya', 'maendeleo', 'katika', 'usafiri', 'wa', 'anga', 'na', 'reli', ',', 'na', 'kuhainisha', 'mabadiliko', 'makubwa', 'katika', 'huduma', 'za', 'kijamii', 'kama', 'elimu', 'na', 'afya', '.', 'BBCCopyright', ':', 'BBC', 'Wananchi', 'walivyojaa', 'katika', 'uwanja', 'wa', 'Dar', 'es', 'Salaam', 'kwa', 'sherehe', 'za', 'miaka', '60', 'ya', 'Uhuru', 'wa', 'TanzaniaImage', 'caption', ':', 'Wananchi', 'walivyojaa', 'katika', 'uwanja', 'wa', 'Dar', 'es', 'Salaam', 'kwa', 'sherehe', 'za', 'miaka', '60', 'ya', 'Uhuru', 'wa', 'Tanzania', 'Baadhi', 'ya', 'mafanikio', 'ya', 'Tanzania', 'kwa', 'kipindi', 'cha', 'miaka', '60', 'Kuulinda', 'uhuru', 'na', 'mipaka', 'yetu', 'Amani', 'Kuimiraisha', 'uchumi', '-', 'uchumi', 'wa', 'kati', 'Kuboresha', 'huduma', 'za', 'kujamii', 'Kuimarisha', 'demokrasia', '-Hatujapoteza', 'hata', 'sentimita', 'moja', 'ya', 'ardhi', 'yetu', 'Ni', 'fahari', 'kuwa', 'na', 'jeshi', 'imara', 'na', 'lenye', 'weledi', 'na', 'nidhamu', 'ya', 'hali', 'ya', 'juu', 'Licha', 'ya', 'kuwa', 'na', 'kuwa', 'na', 'makabila', '120', 'bara', 'na', 'pwani', 'tumeunganishwa', 'na', 'kuwa', 'taifa', 'moja', 'na', 'yeyote', 'anaweza', 'ishi', 'popote', 'na', 'kufanya', 'kazi', 'Kiswahili', 'hakikuzungumzwa', 'wakato', 'wa', 'uhuru', 'ila', 'baada', 'ya', 'uhuru', 'tunajjivunia', 'mendeleo', 'yake', 'siku', 'ya', 'lugha', 'ya', 'kiswahili', '7', 'July', 'kila', 'mwaka', '(', 'Unesco', ')', 'Mafanikio', 'tuliyopata', 'ni', 'matokeo', 'ya', 'demokrasia', 'imara', 'na', 'haki', 'ya', 'kuchagua', 'viongozi', 'wanaowataka', 'wakati', 'tunapata', 'uhuru', 'tulikuwa', 'na', 'wabunge', '80', 'sasa', 'tuna', 'wabunge', 'zaidi', 'ya', '350', 'Vyombo', 'vya', 'habari', 'vimeendelea', 'kuwa', 'huru', 'ukilinganisha', 'na', 'wakati', 'wa', 'chombo', 'kimoja', 'cha', 'habari', 'wakati', 'tunapata', 'uhuru', 'Marekani', 'yaiweka', 'Tanzania', 'katika', 'orodha', 'ya', 'nchi', 'hatari', 'kusafiri', 'Marekani', 'imeweka', 'Tanzania', 'katika', 'orodha', 'yake', 'ya', 'nchi', 'hatari', 'kusafiri', ',', 'ikitoa', 'ushauri', 'kwa', 'raia', 'wake', 'kutosafiri', 'katika', 'taifa', 'hilo', '.', 'Kituo', 'cha', 'kudhibiti', 'magonjwa', 'nchini', 'Marekani', '(', 'CDC', ')', 'imeweka', 'Tanzania', 'katika', 'orodha', 'ya', 'nchi', 'hatari', 'kusafiri', '.', 'Kituo', 'hicho', 'kimesema', 'ni', 'vyema', 'kutosafiri', 'katika', 'taifa', 'hilo', 'na', 'kama', 'kuna', 'ulazima', 'basi', 'mtu', 'amepata', 'chanjo', 'kamili', 'dhidi', 'ya', 'corona', '.', 'BBCCopyright', ':', 'BBC', 'Aidha', 'wamesema', ',', '``', 'hali', 'ya', 'sasa', 'nchini', 'Tanzania', ',', 'hata', 'wasafiri', 'walio', 'na', 'chanjo', 'kamili', 'wanaweza', 'kuwa', 'katika', 'hatari', 'ya', 'kupata', 'na', 'kueneza', 'virusi', 'vipya', 'vya', 'corona', \"''\", 'CDC', 'imesema', '.', 'Siku', 'ya', 'Jumapili', ',', 'taarifa', 'zilienea', 'mitandaoni', 'kuwa', 'msafiri', 'kutoka', 'Tanzania', 'alipimwa', 'na', 'kukutwa', 'na', 'aina', 'mpya', 'ya', 'virusi', 'vya', 'corona-', 'Omicron', 'huko', 'New', 'Delhi', ',', 'India', ',', 'na', 'kusababisha', 'mamlaka', \"'kuanza\", 'uchunguzi', \"'\", '.', 'Licha', 'ya', 'tahadhari', 'za', 'mara', 'kwa', 'mara', 'kutoka', 'kwa', 'Wizara', 'ya', 'Afya', 'ya', 'Tanzania', ',', 'uzingatiaji', 'wa', 'umma', 'kwa', 'hatua', 'za', 'kuzuia', 'Covid-19', 'bado', 'ukochini', ',', 'Ubalozi', 'wa', 'Marekani', 'umesema', '.', 'Habari', '...', 'karibu', 'katika', 'matangazo', 'ya', 'moja', 'kwa', 'moja', 'ya', 'BBC', 'Swahili', 'leo', 'ikiwa', '09/12/2021', 'Maelezo', 'zaidi', 'kuhusu', 'taarifa', 'hii', 'Monica', 'Paulus', 'alitoroka', 'nyumbani', 'kwake', 'huko', 'Papua', 'New', 'Guinea', 'baada', 'ya', 'kaka', 'yake', 'kumshutumu', 'kwa', 'kusababisha', 'kifo', 'cha', 'baba', 'yao', 'kwa', 'uchawi', '.', 'Ameweka', 'maisha', 'yake', 'hatarini', 'kulinda', 'watu', 'dhidi', 'ya', 'uwindaji', 'wa', 'wachawi', 'na', 'anashinikiza', 'mabadiliko', 'ya', 'sheria', 'za', 'nchi', '.', 'Beki', 'wa', 'kushoto', 'wa', 'Real', 'Madrid', 'Marcelo', ',', '33', ',', 'anatarajiwa', 'kukamilisha', 'kandarasi', 'yake', 'baada', 'ya', 'kuichezea', 'klabu', 'hiyo', 'kwa', 'miaka', '15', 'wakati', 'itakapokamilika', 'mwaka', 'ujao', 'na', 'kujiunga', 'na', 'klabu', 'ya', 'Fluminense', 'nchini', 'Brazil', '.', '(', 'Mirror', ')', 'Nchi', 'ya', 'Tanzania', 'ni', 'mojawapo', 'ya', \"'uumbaji\", \"'\", 'uliofanywa', 'na', 'mwanadamu', '.', 'Miaka', '100', 'iliyopita', ',', 'eneo', 'ambalo', 'leo', 'nchi', 'hiyo', 'ipo', 'lilikuwepo', 'lakini', 'jina', 'hilo', 'halikuwepo', '.', 'Wakati', 'Watanzania', 'wakijiandaa', 'kutimiza', 'miaka', '60', 'ya', 'Uhuru', 'wa', 'Tanganyika', 'Desemba', '9', 'mwaka', 'huu', '-ni', 'wakati', 'mzuri', 'sasa', 'kutazama', 'ni', 'mambo', 'ambayo', 'yameifanya', 'Tanzania', 'kuwa', 'hivi', 'ilivyo', 'leo', '.']\n",
      "\n",
      " Number of Words:  1288\n"
     ]
    }
   ],
   "source": [
    "file=\"dec9_2.txt\"\n",
    "\n",
    "# calling the function and storing the contents in a text variable \n",
    "text = get_document(\"https://www.bbc.com/swahili/live/59589650\")\n",
    "\n",
    "# calling the store_ document function \n",
    "store_document(doc=text,name=file)\n",
    "\n",
    "#add the words in this file to the total_corpus_words, to keep count of the number of words in the corpus\n",
    "total_corpus_words+=total_words(file)"
   ]
  },
  {
   "cell_type": "code",
   "execution_count": 24,
   "metadata": {},
   "outputs": [
    {
     "data": {
      "text/plain": [
       "76729"
      ]
     },
     "execution_count": 24,
     "metadata": {},
     "output_type": "execute_result"
    }
   ],
   "source": [
    "total_corpus_words"
   ]
  },
  {
   "cell_type": "code",
   "execution_count": 25,
   "metadata": {},
   "outputs": [
    {
     "name": "stdout",
     "output_type": "stream",
     "text": [
      "['Wakenya', 'wapata', 'faraja', 'mashambani', 'baada', 'ya', 'corona', 'kuwatimua', 'mjini', 'Geoffrey', 'Barasa', 'sasa', 'anafanya', 'shughuli', 'za', 'kilimo', 'magharibi', 'mwa', 'Kenya', 'baada', 'ya', 'kupoteza', 'kazi', 'mara', 'mbili', 'Kama', 'janga', 'la', 'Corona', 'halikuwa', 'limetokea', ',', 'kuna', 'uwezekano', 'Jack', 'Onyango', 'angekuwa', 'bado', 'anaishi', 'peke', 'yake', ',', 'akifanya', 'kazi', 'katika', 'mji', 'mkuu', 'wa', 'Kenya', 'na', 'kutuma', 'pesa', 'kwa', 'mke', 'wake', 'na', 'watoto', 'wanaoishi', 'mbali', 'kijijini', '.', 'Sawa', 'na', 'Wakenya', 'wengi', ',', 'alihamia', 'Nairobi', 'akiwa', 'kijana', ',', 'akiamini', 'kwamba', 'huko', 'ndiko', 'kunakopatikana', 'fursa', 'za', 'kiuchumi', '.', 'Lakini', 'maisha', 'katika', 'mji', 'mkuu', 'hayakuwa', 'rahisi', '.', 'Bw', '.', 'Onyango', 'aliweza', 'tu', 'kusafiri', 'nyumbani', 'kujumuika', 'na', 'familia', 'yake', 'mjini', 'Kisumu', ',', 'magharibi', 'mwa', 'Kenya', 'mara', 'moja', 'kwa', 'mwaka', '.', 'Alisafiri', 'msimu', 'wa', 'Krismasi', 'kwa', 'kulipa', 'nauli', 'ya', 'shilingi', '2,000', 'za', 'Kenya', 'sawa', 'na', '(', '$', '18', ';', '£13', ')', '-', 'na', 'pia', 'alitarajiwa', 'kununua', 'walau', 'sukari', 'akifika', 'nyumbani', 'awe', 'na', 'kitu', 'cha', 'kupokelewa', '.', 'Wakati', 'janga', 'la', 'Corona', 'lilipotokea', 'mwaka', '2020', ',', 'mamlaka', 'ziliweka', 'masharti', 'makali', 'kama', 'vile', 'kudhibiti', 'usafiri', 'na', 'mengine', 'mengi', ',', 'Bw', 'Onyango', 'alijipata', 'hana', 'ajira', '.', 'Wakati', 'serikali', 'katika', 'sehemu', 'zingine', 'za', 'ulimwengu', 'zililipa', 'mishahara', 'nusu', 'kwa', 'wale', 'waliopoteza', 'kazi', 'wakati', 'wa', 'janga', 'hili', ',', 'nchini', 'Kenya', 'hakukuwa', 'na', 'msaada', 'kama', 'huo', '.', 'Chanzo', 'cha', 'picha', ',', 'Jack', 'Onyango', 'Maelezo', 'ya', 'picha', ',', 'Jack', 'Onyango', 'aliweza', 'kutembelea', 'familia', 'yake', 'katika', 'kijiji', 'cha', 'Nyakach', 'mara', 'moja', 'tu', 'kwa', 'mwaka', '``', 'Hakukuwa', 'na', 'mahali', 'pa', 'kupata', 'pesa', 'za', 'kulipa', 'karo', 'na', 'kulisha', 'familia', 'yangu', 'changa', ',', \"''\", 'asema', '.', 'Kwa', 'kuwa', 'hakuwa', 'na', 'uwezo', 'wa', 'kuishi', 'jijini', ',', 'aliamua', 'kurejea', 'kijijini', 'kwao', 'Julai', 'mwaka', 'huo', '.', '``', 'Nilikuwa', 'na', 'wasiwasi', 'lakini', 'nilipiga', 'moyo', 'konde', ',', \"''\", 'Bw', '.', 'Onyango', 'anasema', '.', '``', 'Nyumbani', 'hakuwa', 'na', 'gharama', 'ya', 'kulipa', 'kodi', ',', 'bili', 'ya', 'umeme', 'na', 'maji', 'ukilinganisha', 'na', 'jijini', 'Nairobi', 'ambako', 'kila', 'kitu', 'kinagharimu', 'pesa', '.', \"''\", 'Alianza', 'kulima', 'tomato', 'na', 'mboga', 'za', 'kienyeji', 'katika', 'shamba', 'la', 'hekari', '1.5', 'ambalo', 'wakati', 'mmoja', 'lilikuwa', 'likimilikiwa', 'na', 'babu', 'yake', '.', 'Aliuza', 'mazao', 'yake', 'kwa', 'majirani', 'na', 'wafanyabiashara', ',', 'ambao', 'walipeleka', 'sokoni', 'kuuzia', 'watu', 'wengine', '.', '``', 'Pesa', 'ninazopata', 'kutokana', 'na', 'kile', 'ninachofanya', 'sasa', 'ni', 'nyingi', 'zaidi', 'ikilinganishwa', 'na', 'nilizokuwa', 'nikipata', 'kufanya', 'kazi', 'Nairobi', '.', '``', 'Binti', 'yangu', 'mkubwa', 'ana', 'umri', 'wa', 'miaka', '16', '.', 'Nilikuwa', 'nawaona', 'mara', 'moja', 'kwa', 'mwaka', '.', 'Kwa', 'kweli', ',', 'corona', 'imekuwa', 'baraka', 'kwangu', '.', \"''\", 'Maisha', 'ya', 'vijijini', 'yamekuwa', 'faraja', 'World', 'Neighbors', ',', 'Shirika', 'la', 'kimataifa', 'la', 'maendeleo', 'linasema', 'alichofanya', 'Onyango', 'ni', 'sehemu', 'ya', 'mwelekeo', 'wa', 'uhamaji', 'usiokuwa', 'wa', 'kawaida', ',', 'uloisababishwa', 'na', 'janga', 'la', 'corona', '``', 'Covid-19', 'ilimpata', 'kila', 'mtu', 'ghafla', ',', \"''\", 'anasema', 'Chris', 'Macoloo', ',', 'Mkurugenzi', 'wa', 'Afrika', 'wa', 'shirika', 'hilo', '.', '``', 'Baadhi', 'ya', 'watu', 'walipoteza', 'ajira', ',', 'kwa', 'sababu', 'wanaishi', 'kwa', 'vibarua', 'vya', 'kila', 'siku', 'kwa', 'mwezi', ',', 'hawakuwa', 'na', 'uwezo', 'wa', 'kijilisha', ',', 'kulipa', 'kodi', 'ya', 'nyumba', 'au', 'kutuma', 'pesa', 'za', 'kusaidia', 'familia', 'zao', 'nyumbani', '.', 'Kutokana', 'na', 'hilo', 'wengi', 'wao', 'walihamia', 'maeneo', 'ya', 'vijijini', '.', \"''\", 'Anasema', 'maisha', 'vijijini', 'yaliwapa', 'faraja', 'watu', 'wengi', '.', '``', 'Barani', 'Afrika', 'sisi', 'ni', 'watoto', 'wa', 'dunia', 'mbili', '.', 'Tuna', 'mguu', 'mmoja', 'mjini', 'na', 'mwingine', 'mashambani', '.', 'Ilisaidia', 'kwa', 'sababu', 'tusingekuwa', 'na', 'hayo', ',', 'wangekuwa', 'kwenye', 'matatizo', 'makubwa', '.', \"''\", 'Takriban', 'ajira', '750,000', 'zilipotea', 'kote', 'nchini', 'Kenya', 'mwaka', 'wa', '2020', ',', 'kulingana', 'na', 'Ofisi', 'ya', 'Kitaifa', 'ya', 'Takwimu', 'ya', 'Kenya', '.', 'Ripoti', 'ya', 'hivi', 'karibuni', 'ya', 'shirika', 'hilo', 'ilisema', 'sekta', 'mbalimbali', 'za', 'uchumi', 'zimeathiriwa', 'vibaya', 'na', 'hatua', 'za', 'kudhibiti', 'Covid', ',', 'na', 'jumla', 'ya', 'ajira', ',', 'ukiondoa', 'shughuli', 'ndogo', 'za', 'kilimo', 'na', 'ufugaji', ',', 'zilizopunguzwa', 'kwa', 'asilimia', '4.1', 'hadi', 'milioni', '17.4', '.', 'Chanzo', 'cha', 'picha', ',', 'Getty', 'Images', 'Maelezo', 'ya', 'picha', ',', 'Ukulima', 'mdogo', 'unasaidia', 'jamii', 'nyingi', 'kukabiliana', 'na', 'janga', 'hili', 'Mwanzoni', 'masharti', 'ya', 'kudhibiti', 'virusi', 'vya', 'corona', 'yalipowekwa', ',', 'serikali', 'ya', 'Kenya', 'ilipiga', 'marufuku', 'usafiri', 'baina', 'ya', 'miji', 'mikuu', ',', 'na', 'kuibua', 'wasiwasi', 'kuhusu', 'usalama', 'wa', 'chakula', 'wa', 'kikanda', 'katika', 'maeneo', 'ambayo', 'hayazalishi', 'mazao', 'mengi', 'ya', 'ndani', '.', 'Matokeo', 'yake', ',', 'wengi', 'wa', 'wahamiaji', 'wa', 'ndani', 'ambao', 'walirudi', 'nyumbani', 'vijijini', 'waligeukia', 'kulima', 'mboga', 'wenyewe', '.', 'Jambo', 'la', 'fahari', 'Geoffrey', 'Barasa', 'ni', 'Mkenya', 'mwingine', 'aliyeacha', 'maisha', 'ya', 'mjini', '.', 'Mtu', 'huyo', 'mwenye', 'umri', 'wa', 'miaka', '46', 'aliwahi', 'kushikilia', 'kazi', 'Chanzo', 'cha', 'picha', ',', 'Geoffrey', 'Barasa', 'Maelezo', 'ya', 'picha', ',', 'Geoffrey', 'Barasa', 'anafanya', 'kilimo', 'cha', 'ufugaji', 'Aliajiriwa', 'kama', 'mfanyakazi', 'wa', 'kibarua', 'katika', 'eneo', 'la', 'viwanda', 'la', 'jiji', 'na', 'pia', 'alifanya', 'biashara', 'ndogo', 'ya', 'kununua', 'vipande', 'vya', 'kuku', 'sokoni', 'na', 'kuziuza', 'kwa', 'faida', 'katika', 'duka', 'lake', 'la', 'ndani', '.', 'Alihamia', 'mjini', 'akiwa', 'kijana', 'baada', 'ya', 'kuhitimu', 'chuo', 'kikuu', ',', 'akisema', '``', 'ilikuwa', '[', 'jambo', 'la', ']', 'fahari', 'kufanya', 'kazi', 'mjini', 'wakati', 'huo', \"''\", '.', 'Bw', '.', 'Barasa', 'alioa', 'na', 'kuishi', 'mjini', 'Nairobi', 'na', 'mke', 'wake', 'na', 'watoto', 'wanne', ',', '.', 'Lakini', 'mara', 'baada', 'ya', 'ugonjwa', 'wa', 'corona', 'kuripotiwa', 'nchini', 'Kenya', ',', 'kila', 'kitu', 'kiliharibika', '.', 'Alipoteza', 'kazi', 'yake', 'ya', 'kawaida', 'na', 'akalazimika', 'kufunga', 'biashara', 'yake', 'ya', 'kuku', '.', '``', 'Wakati', 'huo', 'watu', 'walikuwa', 'hawatangamani', ',', 'kwa', 'hivyo', 'sikuwa', 'na', 'wateja', 'wa', 'kununua', 'bidhaa', 'zangu', '.', 'Nililazimika', 'kufunga', 'biashara', 'yangu', 'na', 'kurudi', 'vijijini', ',', \"''\", 'anasema', 'Bw', '.', 'Barasa', '.', '``', 'Wakati', 'huo', 'nilikabiliwa', 'na', 'hali', 'ngumu', 'sana', '.', \"''\", 'Mnamo', 'September', '2020', ',', 'aliamua', 'kupeleka', 'familia', 'yake', 'kijijini', 'kwao', 'katika', 'jimbo', 'la', 'Busia', 'magharibi', 'mwa', 'Kenya', ',', 'sio', 'mbali', 'sana', 'na', 'ukingo', 'wa', 'Ziwa', 'Victoria', '.', 'Alianza', 'kilimo', 'cha', 'malenge', ',', 'mtama', ',', 'tomato', 'na', 'sukuma', 'wiki', '-', 'na', 'sasa', 'anauza', 'bidhaa', 'zake', 'katika', 'soko', 'la', 'nyumbani', '.', 'Leo', 'hii', 'anafuga', 'nguruwe', 'na', 'kuku', 'pia', '.', '``', 'Mwanzoni', 'nilikuwa', 'na', 'wasiwasi', 'maisha', 'yatakuwaje', 'vijijini', ',', 'lakini', 'sasa', 'nimezoea', '.', 'Naishi', 'vizuri', 'kuliko', 'wakati', 'nilipokwa', 'Nairobi', '.', 'Nafurahia', 'maisha', 'ya', 'mashambani', '.', \"''\", 'Bw', 'Barasa', 'anawasihi', 'wengine', 'waliorejea', 'nyumbani', 'wakati', 'wa', 'janga', 'hili', 'kufanya', 'hatua', 'ya', 'kudumu', ':', '``', 'Siwezi', 'kuwashauri', 'warudi', 'mjini', '.', \"''\"]\n",
      "\n",
      " Number of Words:  939\n"
     ]
    }
   ],
   "source": [
    "file=\"dec16.txt\"\n",
    "\n",
    "# calling the function and storing the contents in a text variable \n",
    "text = get_document(\"https://www.bbc.com/swahili/habari-59678736\")\n",
    "\n",
    "# calling the store_ document function \n",
    "store_document(doc=text,name=file)\n",
    "\n",
    "#add the words in this file to the total_corpus_words, to keep count of the number of words in the corpus\n",
    "total_corpus_words+=total_words(file)"
   ]
  },
  {
   "cell_type": "code",
   "execution_count": 26,
   "metadata": {},
   "outputs": [
    {
     "data": {
      "text/plain": [
       "77668"
      ]
     },
     "execution_count": 26,
     "metadata": {},
     "output_type": "execute_result"
    }
   ],
   "source": [
    "total_corpus_words"
   ]
  },
  {
   "cell_type": "code",
   "execution_count": 27,
   "metadata": {},
   "outputs": [
    {
     "name": "stdout",
     "output_type": "stream",
     "text": [
      "['Faith', 'Kipyegon', ':', 'Jinsi', 'Kipyegon', 'alivyofanikiwa', 'akiwa', 'mama', 'jijini', 'Tokyo', 'Faith', 'Kipyegon', 'aliposhinda', 'medali', 'ya', 'dhahabu', 'ya', 'mita', '1500', 'mjini', 'Tokyo', 'mwezi', 'Agosti', ',', 'ushindi', 'huo', 'ulikuwa', 'na', 'mvuto', 'zaidi', 'kwani', 'akawa', 'mwanariadha', 'wa', 'tatu', 'pekee', 'kuhifadhi', 'taji', 'la', 'Olimpiki', 'baada', 'ya', 'kuwa', 'mama', 'katikati', 'ya', 'Michezo', '.', 'Kufuatia', 'kuzaliwa', 'kwa', 'mtoto', 'wake', 'wa', 'kwanza', ',', 'Alyn', ',', 'mwaka', 'wa', '2018', ',', 'Mkenya', 'huyo', 'alichukua', 'mapumziko', 'ya', 'miezi', '21', 'kabla', 'ya', 'kurejea', 'katika', 'mchezo', 'huo', 'akiwa', 'na', 'motisha', 'mpya', '.', 'Akiwa', 'Tokyo', '2020', ',', 'alijiunga', 'na', 'Shirley', 'Strickland', 'wa', 'Australia', 'na', 'mwanariadha', 'wa', 'kuruka', 'wa', 'Cameroon', 'Francoise', 'Mbango', 'Etone', 'katika', 'kufanikisha', 'mafanikio', 'hayo', 'adimu', '.', 'Kipyegon', 'anasherehekea', 'umama', 'wake', ',', 'kiasi', 'kwamba', 'yuko', 'tayari', 'kukabiliana', 'na', 'eneo', 'ambalo', 'wanamichezo', 'wachache', 'wamewahi', 'kuinua', 'kwa', 'kushindwa', 'kuficha', 'alama', 'zake', 'za', 'kunyoosha', 'wakati', 'wa', 'mashindano', '.', '``', 'Najivunia', 'kuwa', 'mama', ',', 'kuwa', 'mwanamke', '.', 'Najivunia', 'mtoto', 'wangu', '.', 'Alama', 'za', 'michirizi', 'ni', 'kitu', 'ambacho', 'huja', 'na', 'huwezi', 'kuficha', '.', 'Jivunie', 'tu', ',', 'kuwa', 'vile', 'wewe', 'ulivyo', '.', \"''\", \"'Mwanariadha\", 'adimu', \"'\", 'Licha', 'ya', 'historia', 'ya', 'taifa', 'lake', \"kung'aa\", 'katika', 'riadha', ',', 'ambayo', 'kwa', 'muda', 'mrefu', 'imekuwa', 'imejaa', 'mataji', 'ya', 'Olimpiki', 'na', 'dunia', ',', 'Kipyegon', 'ndiye', 'mwanamke', 'pekee', 'wa', 'Kenya', 'aliyewahi', 'kushinda', 'medali', 'ya', 'dhahabu', 'mfululizo', 'ya', 'Olimpiki', '.', '``', 'Anapoingia', 'kwenye', 'kundi', 'la', 'watu', ',', 'hata', 'mazingira', 'yakiwa', 'ya', 'kiza', ',', 'ndani', 'ya', 'muda', 'mfupi', 'unaona', 'watu', 'wanacheka', '.', 'Amejaliwa', 'mambo', 'mengi', 'na', 'ni', 'mwanamichezo', 'adimu', 'katika', 'ulimwengu', 'wa', 'sasa', '.', \"''\", 'Kocha', 'wake', 'kwa', 'miaka', 'mitatu', 'iliyopita', ',', 'Sang', 'anaona', 'uwiano', 'kati', 'ya', 'Kipyegon', 'na', 'mwanariadha', 'wa', 'mbio', 'za', 'marathon', 'Eliud', 'Kipchoge', ',', 'akisema', 'wote', 'hawaogopi', 'kufanya', 'kazi', 'kwa', 'bidii', '.', 'Kurudi', 'kwake', 'kwenye', 'riadha', 'ni', 'kwa', 'kuvutia', 'kama', 'mwenzake', ',', 'huku', 'msichana', 'wa', 'dhahabu', 'wa', 'Kenya', 'akiwa', 'ameshinda', 'kila', 'taji', 'la', 'dunia', 'katika', 'mita', '1500', ';', 'michuano', 'ya', 'jumuia', 'ya', 'madola', 'kwa', 'vijana', 'wa', 'dunia', ',', 'Mashindano', 'ya', 'Dunia', 'na', 'Olimpiki', '-', 'sasa', 'mara', 'mbili', '.', 'Anapenda', 'umbali', 'huo', 'kwa', 'sababu', 'ya', '``', 'mchanganyiko', 'wake', 'wa', 'mwendo', 'kasi', '``', ',', 'aliouonesha', 'wakati', 'akiweka', 'rekodi', 'mpya', 'ya', 'Olimpiki', 'ya', '3:53.11', 'mjini', 'Tokyo', '-', 'ambayo', 'anasema', 'ilimshangaza', 'kama', 'vile', 'dhahabu', 'yenyewe', '.', '``', 'Nilijua', 'wanariadha', 'wote', 'walikuwa', 'na', 'nguvu', 'sana', ',', \"''\", 'alisema', '.', '``', 'Ilikuwa', 'ngumu', '.', 'Unapiga', 'hatua', 'huko', 'kama', 'mama', ',', 'unakimbia', 'na', 'wanariadha', 'ambao', 'bado', 'wachanga', 'lakini', 'binti', 'yako', 'anakutazama', 'nyumbani', '.', 'Unafikiria', 'mambo', 'mengi', 'tu', '.', \"''\", 'Chanzo', 'cha', 'picha', ',', 'Global', 'Sports', 'Communication', 'Mafanikio', 'ya', 'Kipyegon', 'ni', 'hitimisho', 'la', 'safari', 'ambayo', 'ilianza', 'kama', 'mtoto', ',', 'alipoanza', 'kucheza', 'soka', 'katika', 'shule', 'ya', 'msingi', 'kabla', 'ya', 'kubadili', 'na', 'kuanza', 'kukimbia', '.', 'Akiwa', 'katika', 'shule', 'ya', 'sekondari', ',', 'alichanganya', 'riadha', 'na', 'masomo', ',', 'akibeba', 'vitabu', 'hadi', 'kwenye', 'mashindano', 'ambapo', 'alijitangaza', 'kuwa', 'mmoja', 'wa', 'wanariadha', 'bora', 'wajao', 'kwa', 'kuwa', 'bingwa', 'wa', 'ulimwengu', 'wa', 'ngazi', 'ya', 'nchi', '-', 'mara', 'mbili', '-', 'na', 'kushinda', 'mataji', 'ya', 'kimataifa', 'ya', 'vijana', '.', '``', 'Siyo', 'rahisi', ',', \"''\", 'alisema', '.', '``', 'Ni', 'suala', 'la', 'kuwa', 'na', 'nidhamu', 'na', 'kufanyia', 'kazi', 'taaluma', 'yako', '-', 'na', 'nilitaka', 'kuwa', 'mwanariadha', 'aliyefanikiwa', '.', \"''\", 'Sang', ',', 'wakati', 'huo', 'huo', ',', 'anatarajia', 'Kipyegon', 'kusalia', 'katika', 'ngazi', 'ya', 'wasomi', 'kwa', 'muongo', 'mwingine', '.', '``', 'Katika', 'miaka', 'hiyo', '10', ',', 'utaona', 'matokeo', 'mazuri', 'kutoka', 'kwake', ',', \"''\", 'anasema', 'kwa', 'ufahari', '.', '``', 'Hata', 'hajaanza', 'kutumia', 'talanta', 'yake', 'hata', 'kidogo', '.', \"''\", 'Rekodi', 'ya', 'dunia', 'Kipyegon', 'ni', 'mkimbiaji', 'adimu', 'na', 'licha', 'ya', 'kuchukua', 'wapinzani', 'wachanga', 'zaidi', '-', 'na', 'wasio', 'na', 'watoto', '-', 'alithibitisha', 'tena', 'mwaka', 'huu', 'kwa', 'nini', 'yeye', 'ni', 'mkimbiaji', 'bora', 'zaidi', 'duniani', '.', 'Kati', 'ya', 'mbio', '10', 'alizowania', ',', 'alipoteza', 'moja', 'pekee', '-', 'kwa', 'Sifan', 'Hassan', 'kwenye', 'Ligi', 'ya', 'Diamond', 'huko', 'Florence', '.', '``', 'Ninapovaa', 'viatu', 'vyangu', 'vya', 'michezo', ',', 'ninahisi', 'kitu', 'kizuri', ',', \"''\", 'alisema', '.', '``', 'Kukimbia', 'kunamaanisha', 'mengi', 'kwangu', '.', 'Ilikuwa', 'ni', 'mapenzi', 'yangu', 'tangu', 'nikiwa', 'mdogo', ',', 'imebadilisha', 'maisha', 'yangu', 'na', 'hadhi', 'yangu', '.', '``', 'Imekuwa', 'vyema', 'kuwa', 'bingwa', '.', 'Lazima', 'ukae', 'katika', 'kiwango', 'ambacho', 'utakuwa', 'bingwa', '.', 'Yote', 'huanza', 'na', 'nidhamu', '.', \"''\"]\n",
      "\n",
      " Number of Words:  646\n"
     ]
    }
   ],
   "source": [
    "file=\"dec18.txt\"\n",
    "\n",
    "# calling the function and storing the contents in a text variable \n",
    "text = get_document(\"https://www.bbc.com/swahili/habari-59693882\")\n",
    "\n",
    "# calling the store_ document function \n",
    "store_document(doc=text,name=file)\n",
    "\n",
    "#add the words in this file to the total_corpus_words, to keep count of the number of words in the corpus\n",
    "total_corpus_words+=total_words(file)"
   ]
  },
  {
   "cell_type": "code",
   "execution_count": 28,
   "metadata": {},
   "outputs": [
    {
     "data": {
      "text/plain": [
       "78314"
      ]
     },
     "execution_count": 28,
     "metadata": {},
     "output_type": "execute_result"
    }
   ],
   "source": [
    "total_corpus_words"
   ]
  },
  {
   "cell_type": "code",
   "execution_count": 29,
   "metadata": {},
   "outputs": [
    {
     "name": "stdout",
     "output_type": "stream",
     "text": [
      "['Dalili', 'za', 'Omicron', ':', 'Je', 'mafua', 'ni', 'dalili', 'ya', 'virusi', 'vya', 'corona', '?', 'Aina', 'mpya', 'ya', 'virusi', 'vya', 'corona', 'vya', 'Omicron', 'vinaenea', 'kwa', 'kasi', 'duniani', 'kote', '.', 'Je', 'ni', 'dalili', 'gani', 'watu', 'wakipata', 'wanapaswa', 'kuchukua', 'hatua', '?', 'Shirika', 'la', 'Afya', 'Duniani', '(', 'WHO', ')', 'linasema', 'watu', 'bado', 'wanapaswa', 'kuangalia', 'dalili', 'za', 'kawaida', 'za', 'Covid', ':', 'aina', 'mpya', 'ya', 'kikohozi', 'kinachoendelea', 'homa/joto', 'la', 'juu', 'kupoteza', 'au', 'kubadilika', 'kwa', 'harufu', 'au', 'ladha', 'Mpaka', 'sasa', 'kwa', 'mujibu', 'wa', 'baadhi', 'ya', 'data', 'za', 'Uingreza', ',', 'dalili', 'tano', 'za', 'virusi', 'vya', 'corona', 'vya', 'Omicron', 'ni', 'hizi', ':', 'Mafua', 'mepesi', 'kichwa', 'kuuma', 'uchovu', 'kupiga', 'chafya', 'kikohozi', 'Kama', 'unadhani', 'kuwa', 'una', 'corona', ',', 'ni', 'muhimu', 'kufanya', 'vipimo', '.', 'Hata', 'watu', 'ambao', 'hawajisikii', 'vizuri', 'wanaweza', 'kuwaweka', 'wengine', 'katika', 'hatari', 'ya', 'kuumwa', '.Lakini', 'watafiti', 'wanasema', ',', 'kuwa', 'na', 'uviko', '19', 'kunaweza', 'kukufanya', 'mtu', 'ujisikie', 'kama', 'una', 'mafua', 'makali', 'au', 'baridi', '.', 'Je', 'nikipata', 'homa', ',', 'ina', 'maana', 'nina', 'virusi', 'vya', 'corona', '?', 'Kiwango', 'cha', 'juu', 'cha', 'joto', 'cha', '37.8C', 'au', 'kuendelea', '.', 'Homa', 'kama', 'hii', 'inaweza', 'kuja', 'wakati', 'mwili', 'ukiwa', 'unapambana', 'na', 'maambukizi', 'na', 'sio', 'virusi', 'vya', 'corona', 'tu', '.', 'Ni', 'bora', 'kutumia', 'kipima', 'joto-thermometer', '.', 'Lakini', 'ikiwa', 'huna', ',', 'angalia', 'ikiwa', 'wewe', ',', 'au', 'mtu', 'ambaye', 'una', 'wasiwasi', 'naye', ',', 'anahisi', 'joto', 'kwa', 'kuguswa', 'kwenye', 'kifua', 'au', 'mgongo', '.', 'Joto', 'kali', 'hali', 'na', 'baridi', 'hivi', ',', 'Ikiwa', 'una', 'homa', ',', 'panga', 'kufanya', 'vipimo', 'vya', 'coronavirus', '.', 'Vipi', 'kuhusu', 'kikohozi', '?', 'Ikiwa', 'una', 'homa', 'au', 'mafua', 'unaweza', 'kuwa', 'na', 'kikohozi', ',', 'pamoja', 'na', 'dalili', 'nyingine', '.', 'Mafua', 'kwa', 'kawaida', 'huja', 'ghafla', 'na', 'wagonjwa', 'mara', 'nyingi', 'watapata', 'maumivu', 'ya', 'misuli', ',', 'baridi', ',', 'maumivu', 'ya', 'kichwa', ',', 'uchovu', ',', 'koo', 'kuwasha', 'na', 'mafua', 'kutiririka', 'au', 'kujaa', 'puani', ',', 'pamoja', 'na', 'kikohozi', '.', 'Unaweza', 'kujihisi', 'vibaya', 'zaidi', 'kuliko', 'baridi', 'kali', '.']\n",
      "\n",
      " Number of Words:  290\n"
     ]
    }
   ],
   "source": [
    "file=\"dec20.txt\"\n",
    "\n",
    "# calling the function and storing the contents in a text variable \n",
    "text = get_document(\"https://www.bbc.com/swahili/59723587\")\n",
    "\n",
    "# calling the store_ document function \n",
    "store_document(doc=text,name=file)\n",
    "\n",
    "#add the words in this file to the total_corpus_words, to keep count of the number of words in the corpus\n",
    "total_corpus_words+=total_words(file)"
   ]
  },
  {
   "cell_type": "code",
   "execution_count": 30,
   "metadata": {},
   "outputs": [
    {
     "data": {
      "text/plain": [
       "78604"
      ]
     },
     "execution_count": 30,
     "metadata": {},
     "output_type": "execute_result"
    }
   ],
   "source": [
    "total_corpus_words"
   ]
  },
  {
   "cell_type": "code",
   "execution_count": 31,
   "metadata": {},
   "outputs": [
    {
     "name": "stdout",
     "output_type": "stream",
     "text": [
      "['DRC', 'ndani', 'ya', 'EAC', ':', 'Nini', 'maana', 'yake', '?', 'Wakuu', 'wa', 'nchi', 'za', 'Jumuiya', 'ya', 'Afrika', 'Mashariki', '(', 'EAC', ')', 'leo', 'wamekutana', 'na', 'kujadili', 'ajenda', 'ya', 'kuiruhusu', 'Jamhuri', 'ya', 'Kidemokrasia', 'ya', 'Congo', '(', 'DRC', ')', 'kuwa', 'mwanachama', 'wake', 'wa', 'saba', 'katika', 'mojawapo', 'ya', 'matukio', 'yenye', 'maana', 'kubwa', 'kiuchumi', ',', 'kisiasa', 'na', 'kijamii', 'katika', 'eneo', 'la', 'Maziwa', 'Makuu', '.', 'Wakuu', 'waJumuiya', 'hiyo', 'leo', 'wamepokea', 'ripoti', 'ya', 'uhakiki', 'wa', 'utayari', 'wa', 'DRC', 'kujiunga', 'na', 'EAC', 'na', 'kuwataka', 'mawaziri', 'wa', 'Jumuiya', 'ya', 'Afrika', 'mashariki', 'kuharakisha', 'mchakato', 'wa', 'majadiliano', 'ya', 'mkataba', 'ili', 'kuiwezesha', 'DRC', 'kuwa', 'mwanachama', 'na', 'kuiwasilisha', 'mapema', 'mwaka', 'wa', '2022', 'wakati', 'wa', 'mkutano', 'wa', 'kawaida', 'wa', 'wakuu', 'wa', 'nchi', 'wanachama', 'wa', 'jumuiya', 'hiyo', '.', 'DRC', '-', 'ikiwa', 'na', 'watu', 'takribani', 'milioni', '92', ',', 'litakuwa', 'ndiyo', 'taifa', 'lenye', 'watu', 'wengi', 'zaidi', 'miongoni', 'mwa', 'nchi', 'wanachama', 'na', 'kutaifanya', 'EAC', 'sasa', 'kuwa', 'jumuiya', 'yenye', 'soko', 'la', 'takribani', 'watu', 'milioni', '260', '.', 'DRC', 'ni', 'kubwa', 'kieneo', 'na', 'inapakana', 'na', 'takribani', 'nchi', 'tano', 'wanachama', 'wa', 'jumuiya', 'hiyo', '-', 'kwa', 'maana', 'ya', 'nchi', 'zote', 'kuondoa', 'Kenya', '.', 'Nchi', 'wanachama', 'wa', 'EAC', 'ni', 'Tanzania', ',', 'Kenya', ',', 'Uganda', ',', 'Rwanda', ',', 'Burundi', 'na', 'Sudan', 'ya', 'Kusini', '.', 'Hatua', 'hiyo', 'ya', 'wakuu', 'wa', 'EAC', 'kupitia', 'mkutano', 'wao', 'uliofanyika', 'kwa', 'njia', 'ya', 'mtandao', 'leo', ',', 'ni', 'shemu', 'ya', 'safari', 'ya', 'takribani', 'miaka', '10', '-', 'iliyoanza', 'wakati', 'wa', 'utawala', 'wa', 'Rais', 'Joseph', 'Kabila', 'na', 'kuhitimishwa', 'kwa', 'zoezi', 'la', 'uhakiki', 'lililoongozwa', 'na', 'Katibu', 'Mkuu', 'wa', 'EAC', ',', 'Dk', '.', 'Peter', 'Mathuki', ',', 'kati', 'ya', 'Juni', 'na', 'Julai', 'mwaka', 'huu', '.', 'Rais', 'Felix', 'Tshisekedi', 'wa', 'DRC', 'ameonyesha', 'hamu', 'kubwa', 'ya', 'taifa', 'lake', 'kujiunga', 'na', 'jumuiya', 'hiyo', 'na', 'alitumia', 'sehemu', 'kubwa', 'ya', 'maadhimisho', 'ya', 'Siku', 'ya', 'Uhuru', 'wa', 'taifa', 'lake', 'mwaka', 'huu', 'kueleza', 'namna', 'taifa', 'lake', 'lilivyokuwa', 'tayari', 'kuwa', 'mwanachama', 'mpya', 'wa', 'EAC', '.', 'Kwanini', 'Tshisekedi', 'na', 'Wakongomani', 'wana', 'hamu', 'ya', 'kujiunga', 'muungano', 'huu', '?', 'Jiografia', 'Kijiografia', ',', 'hakuna', 'nchi', 'nyingine', 'yenye', 'sifa', 'ya', 'kuwa', 'mwanachama', 'wa', 'EAC', 'kuizidi', 'DRC', '.', 'Mojawapo', 'ya', 'masharti', 'ya', 'mwanzo', 'ya', 'kuwa', 'mwanachama', 'wa', 'jumuiya', 'hiyo', 'yalikuwa', 'kwamba', 'nchi', 'ni', 'lazima', 'iwe', 'inapakana', 'na', 'mojawapo', 'ya', 'nchi', 'wanachama', 'lakini', 'taifa', 'hili', 'mashuhuri', 'duniani', 'linapakana', 'na', 'nchi', 'zote', 'wanachama', '.', 'Chanzo', 'cha', 'picha', ',', 'EAC', 'Kuondoa', 'ujirani', 'mwema', 'huo', ',', 'Wakongomani', 'ni', 'kama', 'vile', 'walikuwa', 'wanachama', 'wa', 'EAC', 'hata', 'kabla', 'ya', 'nchi', 'yao', 'kuwa', 'mwanachama', 'rasmi', 'wa', 'jumuiya', '.', 'Kwa', 'mfano', ',', 'kwa', 'muda', 'mrefu', ',', 'DRC', 'ilikuwa', 'inaongoza', 'kwa', 'kutumia', 'bandari', 'ya', 'Dar', 'es', 'Salaam', 'kupitishia', 'mizigo', 'yake', 'kuliko', 'nchi', 'wanachama', ',', 'muziki', 'wenye', 'asili', 'ya', 'taifa', 'hilo', 'ukiwa', 'mashuhuri', 'katika', 'nchi', 'zote', 'za', 'Afrika', 'Mashariki', 'na', 'watu', 'wake', 'mbalimbali', 'wakiweka', 'makazi', 'yao', 'ya', 'kudumu', 'katika', 'nchi', 'tofauti', 'inazopakana', 'nazo', '.', 'Miongoni', 'mwa', 'nchi', 'wanachama', 'wa', 'EAC', ',', 'pengine', 'hakuna', 'taifa', 'ambalo', 'watu', 'wake', 'wametapakaa', 'katika', 'nchi', 'zote', 'za', 'jumuiya', 'hiyo', '-', 'Wakongomani', 'wakijulikana', 'kwa', 'tabia', 'yao', 'ya', 'kutoogopa', 'kutafuta', 'riziki', 'popote', 'nje', 'ya', 'taifa', 'lao', '-', 'tofauti', 'na', 'wananchi', 'wa', 'baadhi', 'ya', 'nchi', 'wanachama', 'wengine', 'ambao', 'si', 'watu', 'wa', 'kuhangaika', 'duniani', 'kutafuta', 'maisha', '.', 'Kwa', 'sababu', 'hiyo', ',', 'kijiografia', 'na', 'kiutamaduni', ',', 'DRC', 'ilikuwa', 'mwanachama', 'wa', 'EAC', 'miaka', 'mingi', 'kabla', 'hata', 'haijapata', 'fursa', 'hii', 'ya', 'kukaribishwa', 'rasmi', 'kuwa', 'mwanachama', 'wa', 'sita', '.', 'Wakati', 'jumuiya', 'ikionekana', 'kuzidi', 'kutanuka', ',', 'ni', 'vigumu', 'kuona', 'taifa', 'lingine', 'litakalokuwa', 'na', '``', 'wenyeji', 'wengi', 'walio', 'wageni', '``', 'kuzidi', 'ujio', 'huu', 'wa', 'taifa', 'lililokuwa', 'likijulikana', 'kama', 'Zaire', 'wakati', 'wa', 'utawala', 'wa', 'Mobutu', 'Sesesseko', '.', 'Uchumi', 'Kwa', 'sasa', ',', 'Pato', 'la', 'Nchi', 'Wanachama', 'wa', 'EAC', 'linafikia', 'kiasi', 'cha', 'dola', 'bilioni', '193', 'na', 'ujio', 'wa', 'DRC', 'utaongeza', 'pato', 'hilo', 'kwa', 'dola', 'bilioni', '50', 'zaidi', 'kufikia', 'dola', '240', '.', 'Hiki', 'ni', 'kiwango', 'kikubwa', 'kuongezwa', 'na', 'nchi', 'moja', 'katika', 'eneo', 'la', 'dunia', 'linalofahamika', 'kwa', 'umasikini', 'mkubwa', '.', 'Lakini', 'siri', 'kubwa', 'iko', 'katika', 'soko', '.', 'Kwa', 'sababu', 'ya', 'matatizo', 'mbalimbali', 'ya', 'kijamii', ',', 'kisiasa', 'na', 'kiuchumi', ',', 'DRC', 'inaonekana', 'kama', 'nchi', 'ambayo', 'bado', 'fursa', 'zake', 'hazijatumiwa', 'ipasavyo', 'na', 'wananchi', 'wake', 'lakini', 'pia', 'na', 'nchi', 'Jirani', '.', 'Hata', 'kabla', 'ya', 'kuiruhusu', 'DRC', 'kuingia', 'EAC', ',', 'viongozi', 'wa', 'juu', 'wa', 'nchi', 'wanachama', 'kama', 'vile', 'Uhuru', 'Kenyatta', ',', 'Paul', 'Kagame', 'na', 'Yoweri', 'Museveni', 'wameonekana', 'kujisogeza', 'karibu', 'na', 'Tshisekedi', '.', 'Kuna', 'mpango', 'wa', 'Afrika', 'wa', 'kuunganisha', 'upande', 'wa', 'Mashariki', 'na', 'Magharibi', '-', 'kutoka', 'Bahari', 'ya', 'Hindi', 'hadi', 'Atlantic', 'na', 'DRC', 'ni', 'mojawapo', 'ya', 'nguzo', 'muhimu', 'kwenye', 'jambo', 'hilo', 'kubwa', '.', 'Kuna', 'mpango', 'wa', 'kujenga', 'barabara', 'kupitia', 'mradi', 'wa', 'TAH8', 'unaounganisha', 'bandari', 'ya', 'Mombasa', ',', 'Kenya', 'kwenda', 'katika', 'jiji', 'la', 'Younde', ',', 'Cameroon', 'na', 'kisha', 'Atlantic', '.', 'Hizi', 'ni', 'mojawapo', 'ya', 'miradi', 'mikubwa', 'ya', 'miundombinu', 'barani', 'Afrika', 'inayotazamwa', 'kwa', 'jicho', 'la', 'kipekee', 'na', 'Umoja', 'wa', 'Afrika', '.', 'Rais', 'Museveni', 'amewahi', 'kuzungumza', 'huko', 'nyuma', 'kwamba', 'tatizo', 'kubwa', 'la', 'Afrika', 'ni', 'ukosefu', 'wa', 'masoko', 'kwa', 'ajili', 'ya', 'bidhaa', 'zinazozalishwa', 'ndani', 'ya', 'nchi', 'na', 'ujio', 'wa', 'taifa', 'lenye', 'watu', 'milioni', '92', 'unamaanisha', 'soko', 'kubwa', 'kwa', 'bidhaa', 'za', 'nchi', 'wanachama', 'wa', 'EAC', '.', 'Usalama', 'Mara', 'zote', 'ukubwa', 'wa', 'DRC', 'umekuwa', 'na', 'changamoto', 'za', 'kiusalama', 'kwa', 'nchi', 'wanachama', '.', 'Rwanda', 'na', 'Uganda', 'zimekuwa', 'zikisumbuliwa', 'na', 'makundi', 'ya', 'waasi', 'yanayojificha', 'katika', 'misitu', 'minene', 'ya', 'DRC', '.', 'Lakini', 'pia', 'nchi', 'hizo', 'mbili', 'zimewahi', 'kupigana', 'zenyewe', 'ndani', 'ya', 'taifa', 'hilo', 'kwa', 'sababu', 'ya', 'kuwania', 'kuwa', 'na', 'ushawishi', 'kwa', 'viongozi', 'wa', 'DRC', '.', 'Ni', 'matarajio', 'ya', 'viongozi', 'wa', 'EAC', 'kwamba', 'kuwa', 'na', 'DRC', 'ndani', 'yao', 'kutasaidia', 'kujenga', 'mipango', 'itakayowezesha', 'urahisi', 'wa', 'kudhibiti', 'vikundi', 'vya', 'waasi', 'na', 'ugaidi', 'lakini', 'pia', 'kufanya', 'biashara', 'kwa', 'Pamoja', 'badala', 'ya', 'kudhulumiana', '.', 'Kuna', 'dhana', 'kutoka', 'katika', 'baadhi', 'ya', 'jamii', 'ya', 'Wakongomani', 'kwamba', 'Rwanda', 'na', 'Uganda', 'wamekuwa', 'wakitumia', 'utajiri', 'wa', 'taifa', 'lao', 'kwa', 'faida', 'yao', 'kwa', 'kutumia', 'visingizio', 'vya', 'kiusalama', '.', 'Amani', 'ya', 'kudumu', 'katika', 'eneo', 'la', 'maziwa', 'makuu', 'itasababisha', 'viongozi', 'wa', 'nchi', 'husika', 'sasa', 'kutumia', 'nguvu', 'zaidi', 'katika', 'kujenga', 'uchumi', 'na', 'ushirikiano', 'badala', 'ya', 'kupanga', 'namna', 'ya', 'kufanya', 'uvamizi', 'au', 'kutumia', 'kisingizio', 'cha', 'kupambana', 'na', 'ugaidi', 'au', 'uasi', 'kupora', 'mali', 'za', 'DRC', '.', 'Ndoto', 'ya', 'Waasisi', 'Hatua', 'ya', 'DRC', 'kuingia', 'EAC', 'inachukuliwa', 'pia', 'kama', 'kutimia', 'kwa', 'ndoto', 'za', 'waasisi', 'wa', 'siasa', 'za', 'Umajumui', 'wa', 'Afrika', 'walioamini', 'kwamba', 'namna', 'pekee', 'kwa', 'Afrika', 'kusonga', 'mbele', 'ni', 'kwa', 'kuwa', 'na', 'umoja', 'wa', 'kisiasa', 'na', 'kiuchumi', 'miongoni', 'mwao', '.', 'Chanzo', 'cha', 'picha', ',', 'Getty', 'Images', 'Wakati', 'Tshisekedi', 'akitaka', 'DRC', 'iingie', 'EAC', ',', 'alikuwa', 'anatimiza', 'ndoto', 'za', 'Patrice', 'Lumumba', ',', 'Julius', 'Nyerere', ',', 'Milton', 'Obote', 'na', 'Jomo', 'Kenyatta', '.', 'Ni', 'matarajio', 'ya', 'wachambuzi', 'wa', 'masuala', 'ya', 'ushirikiano', 'kwamba', 'muda', 'si', 'mrefu', 'nchi', 'kama', 'Somalia', ',', 'Congo', 'Brazaville', 'na', 'Ethiopia', 'nazo', 'zinaweza', 'kutaka', 'kujiunga', 'na', 'jumuiya', 'hiyo', '.', 'Kwa', 'kufanya', 'hivyo', ',', 'nchi', 'wanachama', 'wa', 'EAC', 'wanaweza', 'kuwa', 'na', 'uwezekano', 'wa', 'kuwa', 'na', 'kura', 'moja', 'kwenye', 'masuala', 'muhimu', 'yanayohusu', 'mustakabali', 'wa', 'eneo', 'la', 'Maziwa', 'Makuu', 'na', 'Afrika', 'kwa', 'ujumla', '-', 'bila', 'kuzingatia', 'tofauti', 'za', 'lugha', 'wanazozungumza', '.', 'Ni', 'jambo', 'zuri', 'kwamba', 'Museveni', 'ambaye', 'ndiye', 'kiongozi', 'mwenye', 'ari', 'zaidi', 'ya', 'mtangamano', 'wa', 'Afrika', 'yuko', 'madarakani', 'bado', 'na', 'jambo', 'hili', 'linaendana', 'na', 'ndoto', 'zake', 'za', 'muda', 'mrefu', 'za', 'kuunganisha', 'Afrika', 'kwa', 'mafungu', '.', 'Changamoto', 'Takribani', 'miaka', '10', 'iliyopita', ',', 'Sudan', 'Kusini', 'iliingia', 'EAC', 'kwa', 'mbwembwe', 'na', 'furaha', 'kubwa', '.', 'Wengi', 'walitaraji', 'makubwa', 'kutoka', 'katika', 'taifa', 'hilo', '.', 'Hata', 'hivyo', ',', 'kuwepo', 'kwake', 'kwenye', 'jumuiya', 'hakuonekani', 'kupunguza', 'chochote', 'kwenye', 'migogoro', 'na', 'sintofahamu', 'miongoni', 'mwa', 'vinara', 'wakuu', 'wa', 'taifa', 'hilo', '.', 'Kimsingi', ',', 'hakuna', 'mijadala', 'inayofanyika', 'au', 'jitihada', 'za', 'makusudi', 'zinazofanywa', 'na', 'EAC', 'kuhakikisha', 'nchi', 'hiyo', 'mwanachama', 'inakuwa', 'na', 'amani', 'ya', 'kudumu', '.', 'Kwa', 'maneno', 'mengine', ',', 'kuwa', 'kwake', 'mwanachama', 'wa', 'jumuiya', 'hakujaondoa', 'tofauti', 'zake', 'za', 'ndani', 'na', 'hakujaongeza', 'uwezekano', 'wa', 'nchi', 'wanachama', 'kusaidia', 'kuondoa', 'matatizo', 'yake', '.', 'Chanzo', 'cha', 'picha', ',', 'AFP', 'Maelezo', 'ya', 'picha', ',', 'Rais', 'wa', 'Sudan', 'Kusini', 'Salva', 'Kiir', 'Hili', 'ndilo', 'swali', 'ambalo', 'wachambuzi', 'wanajiuliza', 'sasa', 'kwamba', 'kama', 'DRC', 'itakuwa', 'tofauti', 'na', 'italeta', 'kinachotarajiwa', 'na', 'wengi', 'baada', 'ya', 'kujiunga', 'kwake', 'na', 'EAC', '.', 'Kama', 'ilivyokuwa', 'kwa', 'akina', 'Salva', 'Kiir', 'na', 'Riek', 'Machar', 'huko', 'nyuma', ',', 'Tshisekedi', 'anaonekana', 'kuwa', 'na', 'nia', 'na', 'ari', 'kubwa', '-', 'tatizo', 'ni', 'kwamba', 'haijulikana', 'EAC', 'iko', 'tayari', 'kiasi', 'kuisaidia', 'DRC', 'kusimama', 'vizuri', '.', 'Changamoto', 'nyingine', 'kubwa', 'kuhusu', 'DRC', 'inahusu', 'dhamiri', 'za', 'ndani', 'za', 'baadhi', 'ya', 'viongozi', 'wa', 'EAC', 'kuhusu', 'kuwa', 'na', 'taifa', 'hilo', 'jipya', 'kama', 'mwanachama', '.', 'Kuna', 'nchi', 'zinaitazama', 'Kongo', 'kama', 'taifa', 'la', 'kuibiwa', '-', 'shamba', 'la', 'bibi', ',', 'na', 'haijulikani', 'kama', 'tabia', 'hiyo', 'itaondoka', 'au', 'itamea', 'zaidi', 'kupitia', 'muungano', 'huu', '.', 'Tayari', 'baadhi', 'ya', 'viongozi', 'wa', 'nchi', 'za', 'EAC', 'wamefanya', 'ziara', 'kwa', 'Tshisekedi', 'kufanya', 'dili', 'kwa', 'ajili', 'ya', 'nchi', 'zao', 'hata', 'kama', 'ya', 'tukio', 'la', 'leo', '.', 'Ipo', 'hatari', 'ya', 'uhakika', 'kwamba', 'huenda', 'maslahi', 'ya', 'baadhi', 'ya', 'nchi', 'yakagongana', 'huko', 'mbele', 'ya', 'safari', 'na', 'hatimaye', 'nchi', 'zikajikuta', 'zinarudi', 'palepale', 'zilipokuwa', 'awali', '.']\n",
      "\n",
      " Number of Words:  1383\n"
     ]
    }
   ],
   "source": [
    "file=\"dec22.txt\"\n",
    "\n",
    "# calling the function and storing the contents in a text variable \n",
    "text = get_document(\"https://www.bbc.com/swahili/59751977\")\n",
    "\n",
    "# calling the store_ document function \n",
    "store_document(doc=text,name=file)\n",
    "\n",
    "#add the words in this file to the total_corpus_words, to keep count of the number of words in the corpus\n",
    "total_corpus_words+=total_words(file)"
   ]
  },
  {
   "cell_type": "code",
   "execution_count": 32,
   "metadata": {},
   "outputs": [
    {
     "data": {
      "text/plain": [
       "79987"
      ]
     },
     "execution_count": 32,
     "metadata": {},
     "output_type": "execute_result"
    }
   ],
   "source": [
    "total_corpus_words"
   ]
  },
  {
   "cell_type": "code",
   "execution_count": 33,
   "metadata": {},
   "outputs": [
    {
     "name": "stdout",
     "output_type": "stream",
     "text": [
      "['Utafiti', ':', 'Omicron', 'inaonekana', 'kuwa', 'dhaifu', 'lakini', 'wasiwasi', 'bado', 'upo', 'Kwa', 'mujibu', 'wa', 'tafiti', 'za', 'awali', 'zilizochapishwa', 'nchini', 'Uingereza', 'na', 'Afrka', 'ya', 'kusini', 'zinaonesha', 'kuwa', 'wimbi', 'la', 'kirusi', 'cha', 'corona', 'aina', 'ya', 'Omicroni', 'si', 'kali', 'kulinganisha', 'na', 'aina', 'nyingine', 'ya', 'virusi', 'vilivyopita', '.', 'Ushahidi', 'wa', 'awali', 'unaonesha', 'kuwa', 'watu', 'wachache', 'wanahitaji', 'matibabu', 'ya', 'hospitali', 'kuliko', 'aina', 'zingine', 'ambapo', 'makadirio', 'yamepungua', 'kati', 'ya', 'asilimia', '30', 'hadi', 'asilimia', '70', '.', 'Lakini', 'wasiwasi', 'unabaki', 'palepale', 'hata', 'kama', 'wimbi', 'hili', 'si', 'kali', 'kwani', 'hospitali', 'zinaweza', 'kuzidiwa', 'na', 'idadi', 'kubwa', 'ya', 'watu', 'wenye', 'kesi', 'za', 'omicroni', '.', 'Kwa', 'mara', 'kwanza', ',', 'zaidi', 'ya', 'kesi', '100,000', 'zimeripotiwa', 'nchini', 'Uingereza', 'ndani', 'ya', 'siku', 'moja', '.', 'Chanzo', 'cha', 'picha', ',', 'Getty', 'Images', 'Uelewa', 'wa', 'kina', 'juu', 'ya', 'makali', 'ya', 'omicron', ',', 'kutasaidia', 'nchi', 'kuamua', 'namna', 'ya', 'kukabiliana', 'na', 'virusi', 'hivyo', '.', 'Utafiti', 'unasema', 'kuwa', 'endapo', 'Omicron', 'ingekuwa', 'na', 'tabia', 'kama', 'za', 'Delta', ',', 'wangetarajia', 'takribani', 'watu', '47', 'wawe', 'wamelazwa', 'hospitalini', 'tayari', '.', 'Kwa', 'sasa', 'ni', 'watu', '15', 'tu', 'waliolazwa', '.', 'Watafiti', 'wanasema', 'wanaona', 'kupungua', 'kwa', 'takriban', 'theluthi', 'mbili', 'kwa', 'idadi', 'inayohitaji', 'huduma', 'za', 'hospitali', ',', 'lakini', 'katika', 'utafiti', 'huo', 'kulikuwa', 'na', 'visa', 'vichache', 'na', 'wazee', 'wachache', 'walio', 'hatarini', '.', 'Mkurugenzi', 'mkuu', 'anayehusika', 'na', 'covid', '19', 'katika', 'hospitali', 'ya', 'umma', 'nchini', 'Scotland', 'ameelezea', 'hali', 'hiyo', 'kuwa', 'ni', 'habari', 'nzuri', 'iliyothibitishwa', '.', 'Kirusi', 'aina', 'ya', 'Omicron', 'kinasambaa', 'kwa', 'haraka', 'sana', 'na', 'idadi', 'kubwa', 'ya', 'kesi', 'inaweza', 'kufuta', 'faida', 'yoyote', 'ya', 'kuwa', 'ni', 'dhaifu', '.', 'Profesa', 'Mark', 'Woolhouse', ',', 'kutoka', 'Chuo', 'Kikuu', 'cha', 'Edinburgh', ',', 'anasema', '``', 'Maambukizi', 'ya', 'mtu', 'binafsi', 'yanaweza', 'kuwa', 'si', 'makali', 'kwa', 'watu', 'wengi', ',', 'lakini', 'uwezekano', 'wa', 'maambukizo', 'haya', 'yote', 'kuja', 'mara', 'moja', 'na', 'kuleta', 'mzigo', 'mkubwa', 'katika', 'huduma', 'za', 'afya', 'kitaifa', 'bado', 'upo', '.', 'Wakati', 'huo', 'huo', ',', 'utafiti', 'mwingine', 'nchini', 'Afrika', 'Kusini', 'pia', 'unaonyesha', 'kuwa', 'wimbi', 'la', 'Omicron', 'ni', 'dhaifu', 'zaidi', '.', 'Unaonesha', 'kuwa', 'kulikuwa', 'na', 'uwezekano', 'mdogo', 'wa', 'watu', 'kuhitaji', 'matibabu', 'ya', 'hospitali', 'kwa', 'asilimia', '70', 'mpaka', '80', 'ukilinganisha', 'na', 'mawimbi', 'ya', 'awali', 'au', 'aina', 'nyingine', 'za', 'virusi', 'vya', 'corona', '.', 'Hata', 'hivyo', ',', 'inapendekeza', 'hakukuwa', 'na', 'tofauti', 'katika', 'matokeo', 'kwa', 'wagonjwa', 'wachache', 'ambao', 'waliishia', 'hospitalini', 'na', 'Omicron', '.', '``', 'Lakini', ',', 'kwa', 'pamoja', 'data', 'zetu', 'zinapendekeza', 'habari', 'chanya', 'juu', 'ya', 'kupungua', 'kwa', 'ukali', 'wa', 'Omicron', 'ikilinganishwa', 'na', 'aina', 'nyingine', ',', \"''\", 'alisema', 'Prof', 'Cheryl', 'Cohen', 'wa', 'Taasisi', 'ya', 'Kitaifa', 'ya', 'Magonjwa', 'ya', 'Kuambukiza', ',', 'nchini', 'Afrika', 'Kusini', '.', 'Kwanini', 'Dhaifu', 'Kupungua', 'kwa', 'ukali', 'kunadhaniwa', 'kuwa', 'ni', 'mchanganyiko', 'wa', 'sifa', 'za', 'msingi', 'za', 'Omicron', 'pamoja', 'na', 'viwango', 'vya', 'juu', 'vya', 'kinga', 'dhidi', 'ya', 'chanjo', 'na', 'maambukizi', 'ya', 'awali', '.', 'Uchambuzi', 'wa', 'Omicron', 'uliofanywa', 'na', 'chuo', 'cha', 'Imperial', 'College', 'mjini', 'London', 'unapendekeza', 'mabadiliko', 'ya', 'Omicron', 'yameifanya', 'kuwa', 'virusi', 'hafifu', 'kuliko', 'Delta', '.', 'Watafiti', 'wanasema', 'uwezekano', 'wa', 'wagonjwa', 'katika', 'idara', 'ya', 'dharula', 'imeshuka', 'kwa', '11', '%', 'kwa', 'upande', 'wa', 'Omicron', 'kuliko', 'Delta', 'ikiwa', 'huna', 'kinga', 'ya', 'hapo', 'awali', '.', 'Hata', 'hivyo', ',', 'kwa', 'sasa', 'inatumika', 'kwa', 'watu', 'wachache', 'nchini', 'Uingereza', 'kutokana', 'na', 'viwango', 'vya', 'juu', 'vya', 'chanjo', 'na', 'maambukizi', '.', 'Mmoja', 'wa', 'watafiti', 'Profesa', 'Neil', 'Ferguson', ',', 'alisema', ':', '``', 'Ni', 'wazi', 'kuwa', 'ni', 'habari', 'njema', ',', 'kwa', 'kiwango', 'fulani', '.', \"''\", 'Lakini', 'alionya', 'kupungua', 'hakutoshi', 'kubadilisha', 'muundo', 'na', 'kasi', 'ambayo', 'Omicron', 'inaeneza', 'akimaanisha', 'kuna', 'uwezekano', 'wa', 'kulazwa', 'hospitalini', 'kwa', 'idadi', 'ambayo', 'inaweza', 'kuziweka', 'huduma', 'za', 'hospitali', 'katika', 'hali', 'ngumu', \"''\", '.', 'Mtaalam', 'wa', 'chanjo', 'wa', 'Chuo', 'cha', 'Imperial', 'profes', 'Peter', 'Openshaw', 'ambaye', 'hakuwa', 'mmoja', 'wa', 'waandishi', 'wa', 'utafiti', 'huo', 'alisema', 'dalili', 'za', 'mapema', '.', 'Zilionyesha', 'kuwa', 'hali', 'inaweza', 'kuwa', 'mbaya', 'zaidi', 'lakini', 'akasema', 'kuwa', 'tafiti', 'hizo', 'zinaonyesha', 'imebadilika', 'na', 'kuwa', 'homa', 'ya', 'kawaida', '.', 'Uchunguzi', 'wa', 'maabara', 'umeelezea', 'sababu', 'zinazofanya', 'Omicron', 'kuwa', 'dhaifu', '.', 'Chuo', 'Kikuu', 'cha', 'Hong', 'Kong', 'kiligundua', 'kuwa', 'Omicron', 'alikuwa', 'bora', 'zaidi', 'katika', 'kuambukiza', 'njia', 'za', 'hewa', ',', 'lakini', 'mbaya', 'zaidi', 'katika', 'kuingia', 'kwenye', 'tishu', 'za', 'kina', 'za', 'mapafu', ',', 'ambapo', 'inaweza', 'kufanya', 'uharibifu', 'zaidi', '.']\n",
      "\n",
      " Number of Words:  625\n"
     ]
    }
   ],
   "source": [
    "file=\"dec23.txt\"\n",
    "\n",
    "# calling the function and storing the contents in a text variable \n",
    "text = get_document(\"https://www.bbc.com/swahili/59765483\")\n",
    "\n",
    "# calling the store_ document function \n",
    "store_document(doc=text,name=file)\n",
    "\n",
    "#add the words in this file to the total_corpus_words, to keep count of the number of words in the corpus\n",
    "total_corpus_words+=total_words(file)"
   ]
  },
  {
   "cell_type": "code",
   "execution_count": 34,
   "metadata": {},
   "outputs": [
    {
     "data": {
      "text/plain": [
       "80612"
      ]
     },
     "execution_count": 34,
     "metadata": {},
     "output_type": "execute_result"
    }
   ],
   "source": [
    "total_corpus_words"
   ]
  },
  {
   "cell_type": "code",
   "execution_count": 35,
   "metadata": {},
   "outputs": [
    {
     "name": "stdout",
     "output_type": "stream",
     "text": [
      "['Virusi', 'vya', 'Corina', ':', 'UAE', 'yasitisha', 'safari', 'za', 'ndege', 'kutoka', 'Kenya', ',', 'Tanzania', ',', 'Ethiopia', 'na', 'Nigeria', '24', 'Disemba', '2021', 'Chanzo', 'cha', 'picha', ',', 'Emiratest', 'Umoja', 'wa', 'Falme', 'za', 'Kiarabu', ',', 'UAE', 'umetangaza', 'kutasitisha', 'safari', 'za', 'ndege', 'kwa', 'abiria', 'kutoka', 'Tanzania', 'Kenya', ',', 'Ethiopia', ',', 'na', 'Nigeria', 'na', 'kuongeza', 'vikwazo', 'vya', 'usafiri', 'kwa', 'ndege', 'za', 'Uganda', 'na', 'Ghana', ',', 'kuanzia', 'Desemba', '25', '.', 'Mamlaka', 'ya', 'Kitaifa', 'ya', 'Kudhibiti', 'Dharura', 'na', 'Majanga', '(', 'NCEMA', ')', 'na', 'Mamlaka', 'ya', 'Usafiri', 'wa', 'Anga', '(', 'GCAA', ')', 'wa', 'nchi', 'hiyo', 'zimesema', 'hatua', 'hizo', 'mpya', 'zitaanza', 'kutekelezwa', 'kwanzia', 'saa', 'moja', 'na', 'nusu', 'usiku', 'wa', 'Jumamosi', '.', 'Hatua', 'hiyo', 'inajumuisha', 'kusimamisha', 'kuingia', 'nchini', 'humo', 'kwa', 'wasafiri', 'waliokuwa', 'katika', 'nchi', 'hizo', 'nne', 'siku', '14', 'kabla', 'ya', 'kusairi', 'UAE', '.', 'Hata', 'hivyo', 'safari', 'za', 'ndege', 'kutoka', 'UAE', 'hadi', 'nchi', 'hizo', 'zinaendelea', 'kama', 'zilivyoratibiwa', '.', 'Nchi', 'hiyo', 'pia', 'imeweka', 'masharti', 'mapya', 'ya', 'usafiri', 'kwa', 'abiria', 'wanaokuja', 'kwa', 'ndege', 'za', 'moja', 'kwa', 'moja', 'kutoka', 'Uganda', 'na', 'Ghana', '.', 'Masharti', 'hayo', 'ni', 'pamoja', 'na', 'kufanyiwa', 'vipimo', 'vya', 'cha', 'COVID-19', 'ndani', 'ya', 'saa', '48', 'na', 'na', 'kufanyiwa', 'vipimo', 'vya-PCR', 'kwenye', 'uwanja', 'wa', 'ndege', 'ndani', 'ya', 'saa', 'sita', 'kabla', 'ya', 'kuanza', 'safari', '.', 'Chanzo', 'cha', 'picha', ',', 'WIZARA', 'YA', 'AFYA', 'Raia', 'wa', 'UAE', 'wamezuiwa', 'kusafiri', 'kwenda', 'nchi', 'hizo', 'nne', 'za', 'Kiafrika', 'isipokuwa', 'kwa', 'matibabu', 'ya', 'dharura', ',', 'ujumbe', 'rasmi', 'na', 'ufadhili', 'wa', 'masomo', '.', 'Wale', 'walioondolewa', 'kwenye', 'marufuku', 'ya', 'usafiri', 'lazima', 'wawasilishe', 'vipimo', 'hasi', 'vya', 'PCR', 'ndani', 'ya', 'saa', '48', 'baada', 'ya', 'muda', 'wao', 'wa', 'kuondoka', ',', 'wakapime', 'haraka', 'PCR', 'kwenye', 'uwanja', 'wa', 'ndege', 'saa', 'sita', 'kabla', 'ya', 'kuondoka', ',', 'na', 'mwafanyiwe', 'tena', 'vipimo', 'watakapowasili', 'UAE', '.', 'Hivi', 'karibu', 'Tanzania', 'ilizindua', 'mashine', 'nyingine', 'kubwa', 'na', 'ya', 'kisasa', 'kwa', 'ajili', 'ya', 'kupima', 'kipimo', 'cha', 'haraka', 'cha', 'Covid', '-19', 'kwa', 'wasafiri', 'wanaoenda', 'nchi', 'za', 'Falme', 'za', 'Kiarabu', ',', 'baada', 'ya', 'nchi', 'hiyo', 'kuwataka', 'wasafiri', 'wanaotokea', 'Tanzania', 'kwenda', 'Dubai', ',', 'kupata', 'vipimo', 'vya', 'masaa', '48', 'na', 'kisha', 'kumalizia', 'na', 'kipimo', 'cha', 'saa', 'sita', 'kabla', 'ya', 'safari', '.']\n",
      "\n",
      " Number of Words:  321\n"
     ]
    }
   ],
   "source": [
    "file=\"dec24.txt\"\n",
    "\n",
    "# calling the function and storing the contents in a text variable \n",
    "text = get_document(\"https://www.bbc.com/swahili/habari-59778393\")\n",
    "\n",
    "# calling the store_ document function \n",
    "store_document(doc=text,name=file)\n",
    "\n",
    "#add the words in this file to the total_corpus_words, to keep count of the number of words in the corpus\n",
    "total_corpus_words+=total_words(file)"
   ]
  },
  {
   "cell_type": "code",
   "execution_count": 36,
   "metadata": {},
   "outputs": [
    {
     "data": {
      "text/plain": [
       "80933"
      ]
     },
     "execution_count": 36,
     "metadata": {},
     "output_type": "execute_result"
    }
   ],
   "source": [
    "total_corpus_words"
   ]
  },
  {
   "cell_type": "code",
   "execution_count": 37,
   "metadata": {},
   "outputs": [
    {
     "name": "stdout",
     "output_type": "stream",
     "text": [
      "['Wafahamu', 'watu', 'mashuhuri', 'waliofariki', 'Afrika', '2021', 'Wakati', 'mwaka', '2021', 'unaelekea', 'ukingoni', 'tunakumbuka', 'vifo', 'vya', 'waanzilishi', ',', 'wenye', 'ushawishi', 'mkubwa', 'na', 'utata', 'waliofariki', 'mwaka', 'huu', '.', 'Hawa', 'ni', 'miongoni', 'viongozi', '10', 'ambao', 'tuliwaaga', '1.BABA', 'WA', 'TAIFA', 'Kenneth', 'Kaunda', ',', '97', 'Kiongozi', 'wa', 'uhuru', 'wa', 'Zambia', ',', 'ambaye', 'alifariki', 'mwezi', 'Juni', ',', 'alikuwa', 'mmoja', 'wa', 'viongozi', 'wa', 'mwisho', 'wa', 'kizazi', 'cha', 'Afrika', 'ambao', 'walipigana', 'na', 'ukoloni', '.', 'Chanzo', 'cha', 'picha', ',', 'Getty', 'Images', 'Alisema', 'ndoto', 'yake', 'ni', 'kuona', 'Wazambia', 'wana', 'maisha', 'mazuri', 'ikiwemo', 'kila', 'Mzambia', 'kumiliki', 'jozi', 'ya', 'viatu', '.', 'Maarufu', 'kwa', 'jina', 'la', 'KK', ',', 'alipenda', 'sana', 'kupiga', 'gitaa', 'na', 'alikuwa', 'mwalimu', 'wa', 'shule', 'kabla', 'ya', 'kujiunga', 'na', 'mapambano', 'ya', 'uhuru', 'na', 'kuwa', 'mfuasi', 'mkubwa', 'wa', 'juhudi', 'za', 'kukomesha', 'ubaguzi', 'wa', 'rangi', 'nchini', 'Afrika', 'Kusini', ',', 'pia', 'aliunga', 'mkono', 'harakati', 'za', 'ukombozi', 'nchini', 'Msumbiji', 'na', 'nchi', 'ambayo', 'sasa', 'ni', 'Zimbabwe', '.', 'Pia', 'tuliwapoteza', ':', 'Sultan', 'El-Hadj', 'Ibrahim', 'wa', 'Cameroon', ',', 'Mbombo', 'Njoya', ',', 'mfalme', 'wa', 'Wapedi', 'wa', 'Afrika', 'Kusini', ',', 'Victor', 'Thulare', 'III', 'na', 'Kefa', 'Sagbadjou', 'Glele', ',', 'mfalme', 'wa', 'ufalme', 'wa', 'Abomey', 'wa', 'Benin', '.', '2.MUHUBIRI', 'MAARUFU', 'TB', 'Joshua', ',', '57', 'Chapisho', 'kwenye', 'ukurasa', 'wa', 'Facebook', 'wa', 'mchungaji', 'wa', 'Nigeria', 'mwezi', 'Juni', 'lilisema', 'tu', ':', '``', 'Mungu', 'amemchukua', 'mtumishi', 'wake', \"''\", '.', 'Ilianzisha', 'wimbi', 'la', 'maombolezo', 'kati', 'ya', 'mamilioni', 'ya', 'wafuasi', 'wa', 'Kanisa', 'lake', 'ulimwenguni', 'kote', '.', 'Pia', 'tulimpoteza', ':', 'Kadinali', 'Christian', 'Tumi', 'wa', 'Cameroon', ',', 'ambaye', 'kifo', 'chake', 'kiliunganisha', 'taifa', 'hilo', 'lenye', 'migogoro', 'kupitia', 'maombelezo', '.', 'Alexandre', 'José', 'Maria', 'dos', 'Santos', ',', 'kasisi', 'na', 'kadinali', 'wa', 'kwanza', 'mweusi', 'wa', 'Msumbiji', ',', 'msomi', 'mashuhuri', 'wa', 'Kiislamu', 'wa', 'Tunisia', 'Hichem', 'Djait', 'na', 'Askofu', 'Mkuu', 'wa', 'Kanisa', 'Katoliki', 'Sudan', 'Kusini', 'Paulino', 'Lukudu', 'Loro', '.', 'Pia', 'tumewapoteza', 'Profesa', 'wa', 'Nigeria', 'na', 'mtafiti', 'wa', 'masuala', 'ya', 'virusi', 'David', 'Olufemi', 'Olaleye', 'na', 'John', 'Baptist', 'Mukasa', ',', 'moja', 'Kati', 'ya', 'madaktari', 'wachache', 'wa', 'upasuaji', 'wa', 'Neva', 'ambaye', 'alijitolea', 'kuelimisha', 'Kizazi', 'kijacho', 'cha', 'madaktari', '.', '3', '.', 'Rais', 'John', 'Magufuli', ',', '61', 'Kifo', 'cha', 'rais', 'huyo', 'wa', 'Tanzania', 'kilitangazwa', 'mwezi', 'Machi', 'baada', 'ya', 'kutoonekana', 'hadharani', 'kwa', 'zaidi', 'ya', 'wiki', 'mbili', '.', 'Chanzo', 'cha', 'picha', ',', 'AFP', 'Serikali', 'ilisema', 'alifariki', 'kutokana', 'na', 'shida', 'za', 'moyo', ',', 'lakini', 'wanasiasa', 'wengine', 'wa', 'upinzani', 'walidai', 'alikuwa', 'ameambukizwa', 'Covid-19', '.', 'Mtoto', 'wa', 'mkulima', 'mdogo', ',', 'aliibuka', 'na', 'kuwa', 'rais', 'mwaka', '2015', 'na', 'akasifiwa', 'kwa', 'mtazamo', 'wake', 'huo', '.', 'Anayejulikana', 'kama', 'The', 'Bulldozer', ',', 'wakosoaji', 'walimshtumu', 'kwa', 'kuwa', 'mtu', 'wa', 'mabavu', 'ambaye', 'alijaribu', 'kubana', 'uhuru', 'wa', 'waandishi', 'wa', 'habari', ',', 'kutishia', 'upinzani', 'na', 'kusababisha', 'maelfu', 'ya', 'vifo', 'kwa', 'kudhoofisha', 'mapambano', 'dhidi', 'ya', 'virusi', 'vya', 'corona', '.', 'Pia', 'tuliwapoteza', ':', 'Rais', 'wa', 'Chad', 'Idriss', 'Déby', ',', 'ambaye', 'aliuawa', 'kwenye', 'uwanja', 'wa', 'vita', ',', 'na', 'Waziri', 'Mkuu', 'wa', 'Ivory', 'Coast', 'Hamed', 'Bakayoko', ',', 'ambaye', 'alikuwa', 'na', 'saratani', '.', 'Makamu', 'wa', 'Rais', 'wa', 'Zanzibar', 'Seif', 'Sharif', 'Hamad', ',', 'Waziri', 'wa', 'Mambo', 'ya', 'Nje', 'wa', 'Zimbabwe', 'Sibusiso', 'Moyo', 'na', 'Waziri', 'wa', 'Uchukuzi', 'Joel', 'Biggie', 'Matiza', 'wote', 'walifariki', 'dunia', 'baada', 'ya', 'kuambukizwa', 'Covid-19', '.', '4', '.', 'Mshindi', 'wa', 'Tuzo', 'ya', 'Nobel', 'Desmond', 'Tutu', 'Alizaliwa', 'kipindi', 'cha', 'ubaguzi', 'wa', 'rangi', 'Afrika', 'Kusini', '.', 'Alijiunga', 'na', 'Kanisa', 'la', 'Anglican', 'na', 'kuwa', 'Askofu', 'Mkuu', 'wa', 'Kwanza', 'Mweusi', 'katika', 'mji', 'wa', 'Cape', 'Town', 'mwaka', '1986', ',', 'miaka', 'miwili', 'baadae', 'alitunukiwa', 'tuzo', 'ya', 'Amani', 'ya', 'Nobel', 'kwa', 'kazi', 'yake', 'ya', 'kupambana', 'kumaliza', 'utawala', 'wa', 'wazungu', '.', 'Chanzo', 'cha', 'picha', ',', 'Getty', 'Images', 'Alijulikana', 'kwa', 'upendo', ',', 'alikuwa', 'mwenyekiti', 'wa', 'Tume', 'ya', 'Maridhiano', 'ya', 'nchi', 'hiyo', 'baada', 'ya', 'Nelson', 'Mandela', 'kushinda', 'uchaguzi', 'wa', 'kwanza', 'ulio', 'huru', 'na', 'wa', 'haki', 'mwaka', '1994', 'akichukuliwa', 'Kama', 'kiongozi', 'wa', 'maadili', 'Afrika', 'Kusini', ',', 'Tutu', 'wakati', 'fulani', 'pia', 'alikuwa', 'mkosoaji', 'mkubwa', 'wa', 'serikali', 'iliyofuata', 'juu', 'ya', 'ubaguzi', 'wa', 'rangi', 'Pia', 'tulimpoteza', ':', 'FW', 'de', 'Klerk', ',', 'rais', 'wa', 'mwisho', 'wa', 'ubaguzi', 'wa', 'rangi', 'wa', 'Afrika', 'Kusini', ',', 'ambaye', 'alishiriki', 'Tuzo', 'ya', 'Amani', 'ya', 'Nobel', 'mwaka', '1993', '.', '5', '.', 'MWANARIADHA', 'Agnes', 'Tirop', ',', '25', 'Wanariadha', 'wa', 'Kenya', 'walipatwa', 'na', 'mshtuko', 'baada', 'ya', 'kujua', 'kwamba', 'rafiki', 'yao', 'na', 'anayeshikilia', 'rekodi', 'ya', 'dunia', 'aliuawa', 'kwa', 'kuchomwa', 'kisu', 'mwezi', 'Oktoba', '.', 'Chanzo', 'cha', 'picha', ',', 'Getty', 'Images', 'Mumewe', ',', 'Ibrahim', 'Rotich', ',', 'amekana', 'mashtaka', 'ya', 'mauaji', 'yake', '.', 'Tirop', 'alikuwa', 'mkimbiaji', 'wa', 'mbio', 'ndefu', 'ambaye', 'alivunja', 'rekodi', 'ya', 'dunia', 'ya', 'kilomita', '10', 'mwezi', 'Septemba', 'na', 'pia', 'alionekana', 'kwenye', 'Michezo', 'ya', 'Olimpiki', 'ya', 'Tokyo', '.', 'Pia', 'tuliwapoteza', ':', 'Mwendesha', 'baiskeli', 'wa', 'Eritrea', 'Desiet', 'Kidane', ',', 'aliyefariki', 'baada', 'ya', 'kugongwa', 'na', 'gari', 'alipokuwa', 'kwenye', 'mazoezi', ',', 'kutoka', 'Senegal', 'aliyekuwa', 'mkuu', 'wa', 'shirikisho', 'la', 'riadha', 'duniani', 'Lamine', 'Diack', ',', 'Mwanasoka', 'wa', 'Afrika', 'Kusini', 'Ryder', 'Mofokeng', 'ambaye', 'alikuwa', 'nahodha', 'wa', 'Kaizer', 'Chiefs', 'kwa', 'miaka', '11', 'na', 'mchezaji', 'kandanda', 'wa', 'Nigeria', 'Yisa', 'Sofoluwe', '.', '6.Sarah', 'Obama', ',', '99', 'Mama', 'Sarah', ',', 'kama', 'alivyojulikana', ',', 'alipata', 'umaarufu', 'duniani', 'wakati', 'mjukuu', 'wake', 'wa', 'kambo', 'Barack', 'Obama', 'alipokuwa', 'rais', 'wa', 'Marekani', 'mwaka', 'wa', '2009', ',', 'lakini', 'tayari', 'alikuwa', 'anajulikana', 'sana', 'nyumbani', 'kwao', 'magharibi', 'mwa', 'Kenya', 'ambako', 'alikuwa', 'ameolewa', 'na', 'mwanamume', 'mzee', 'zaidi', 'alipokuwa', 'kijana', '.', 'Chanzo', 'cha', 'picha', ',', 'Getty', 'Images', 'Kwa', 'miongo', 'kadhaa', ',', 'aliendesha', 'taasisi', 'ya', 'kusaidia', 'kusomesha', 'watoto', 'yatima', 'na', 'wasichana', ',', 'jambo', 'ambalo', 'alilifanya', 'kwa', 'nguvu', 'kwani', 'yeye', 'hakuweza', 'kujisomea', '.', 'Mwaka', '2014', 'alipata', 'tuzo', 'ya', 'muanzilishi', 'wa', 'elimu', 'ya', 'UN', 'kwa', 'kazi', 'yake', '.', 'Barack', 'Obama', 'alisema', 'kujitolea', 'kwake', 'katika', 'elimu', 'kulianza', 'na', 'watoto', 'wake', ',', \"''\", 'Ingawa', 'sio', 'mama', 'yake', 'mzazi', ',', 'Bibi', 'aliweza', 'kumlea', 'baba', 'yangu', 'kama', 'mtoto', 'wake', ',', 'na', 'ilikuwa', 'ni', 'shukrani', 'kwa', 'upendo', 'wake', 'na', 'kutiwa', 'moyo', 'kwamba', 'aliweza', 'kupinga', 'tabia', 'mbaya', 'na', 'kufanya', 'vizuri', 'kwa', 'kupata', 'ufadhili', 'wa', 'kuhudhuria', 'chuo', 'kikuu', 'cha', 'Marekani', '.', \"''\", '7.MFALME', 'Goodwill', 'Zwelithini', ',', '72', 'Kiongozi', 'wa', 'jamii', 'ya', 'Wazulu', 'nchini', 'Afrika', 'Kusini', ',', 'alikuwa', 'mtetezi', 'mkubwa', 'wa', 'kulinda', 'utambulisho', 'wa', 'kitamaduni', 'katika', 'kipindi', 'chote', 'cha', 'utawala', 'wake', 'wa', 'miaka', '50', '.', 'Chanzo', 'cha', 'picha', ',', 'AFP', 'Alitokana', 'na', 'kizazi', 'cha', 'Mfalme', 'Cetshwayo', ',', 'ambaye', 'aliwaongoza', 'Wazulu', 'katika', 'vita', 'na', 'jeshi', 'la', 'Uingereza', 'mwaka', 'wa', '1879', '.', 'Ingawa', 'baba', 'huyu', 'wa', 'watoto', '28', 'kutoka', 'na', 'wake', 'sita', 'hakuwa', 'na', 'mamlaka', 'rasmi', 'ya', 'kisiasa', ',', 'aliwasilisha', 'wazo', 'kwamba', 'licha', 'ya', 'Afrika', 'Kusini', 'kuwa', 'ya', 'kisasa', 'haija', 'acha', 'asili', 'yake', '.', 'Mmoja', 'wa', 'wake', 'zake', ',', 'Malkia', 'Mantfombi', 'Dlamini-Zulu', ',', 'alichukua', 'nafasi', 'hiyo', 'mwezi', 'Machi', ',', 'lakini', 'alifariki', 'mwezi', 'mmoja', 'baadaye', '.', '8', '.', 'MCHEKESHAJI', 'Soheir', 'El-Bably', ',', '86', 'Taaluma', 'ya', 'mwigizaji', 'huyo', 'wa', 'Kimisri', 'iliyodumu', 'kwa', 'miaka', '50', 'ilimwezesha', 'kushiki', 'kwenye', 'filamu', ',', 'uchekeshaji', 'jukwaani', 'na', 'katika', 'televisheni', '.', 'Alicheza', 'majukumu', 'makubwa', 'lakini', 'labda', 'alijulikana', 'zaidi', 'na', 'kupendwa', 'kwa', 'ustadi', 'wake', 'wa', 'kuchekesha', '.', 'Chanzo', 'cha', 'picha', ',', 'AFP', 'Alipata', 'mafanikio', 'makubwa', 'kwenye', 'televisheni', 'akicheza', 'nafasi', 'za', 'uongozi', 'katika', 'baadhi', 'ya', 'mfululizo', 'maarufu', 'ambao', 'ni', 'msingi', 'wa', 'maisha', 'ya', 'familia', 'kila', 'Ramadhani', '.', 'Pia', 'tuliwapoteza', ':', 'Mchekeshaji', 'wa', 'Kisomali', 'Ibrahim', 'Ismail', ',', 'anayejulikana', 'zaidi', 'kwa', 'jina', 'lake', 'la', 'utani', 'la', 'Soran', 'na', 'mwigizaji', 'na', 'mchekeshaji', 'mwingine', 'wa', 'Kisomali', 'Abdi', 'Muridi', 'Dhere', ',', 'Mmoja', 'wa', 'wachekeshaji', 'maarufu', 'zaidi', 'wa', 'Nigeria', 'Baba', 'Suwe', 'pia', 'aliaga', 'dunia', '.', '9.Daktari', 'wa', 'upasuaji', 'Matolase', 'Mtonga', ',', '34', 'Mmoja', 'wa', 'madaktari', 'wachache', 'wa', 'upasuaji', 'wa', 'kurekebisha', 'sehemu', 'za', 'mwili', 'wa', 'Zambia', ',', 'Mtonga', 'alipata', 'wito', 'wa', 'kazi', 'hiyo', 'wakati', 'akiwahudumia', 'wagonjwa', 'walioungua', 'kama', 'mwanafunzi', 'wa', 'udaktari', '.', 'Chanzo', 'cha', 'picha', ',', 'ReSurge', 'Mtonga', 'alifariki', 'mwezi', 'Desemba', 'muda', 'mfupi', 'baada', 'ya', 'kurudi', 'kutoka', 'Katika', 'mkutano', 'wa', 'upasuaji', 'wa', 'kurekebisha', 'sehemu', 'za', 'mwili', 'nchini', 'Marekani', '.', 'Moja', 'ya', 'ujumbe', 'wa', 'pole', 'iliandikwa', 'kupitia', 'Facebook', 'kutoka', 'kwa', 'mtu', 'ambaye', 'mke', 'wake', 'alitibiwa', 'na', 'Mtonga', 'miaka', 'michache', 'iliyopita', ':', '``', 'Dr', 'Mtonga', 'alikwenda', 'mbali', 'zaidi', 'na', 'kutumia', 'fedha', 'zake', 'kununua', 'kile', 'kilichohitajika', 'kutumia', 'kwenye', 'matibabu', 'ya', 'mke', 'wangu', 'ili', 'kuhakikisha', 'kuwa', 'mkono', 'wa', 'mke', 'wangu', 'wa', 'kulia', 'na', 'vidole', 'vinapona', '.', '10.Mwanamuziki', 'Alemayehu', 'Eshete', ',', '80', 'Anajulikana', 'Kama', 'Elvis', 'wa', 'Ethiopia', ',', 'Alemayehu', 'alikua', 'mwanamuziki', 'mashuhuri', 'katika', 'tasnia', 'ya', 'muziki', 'wa', 'aina', 'ya', 'jazz', 'ya', 'Ethiopia', 'kuanzia', 'miaka', 'ya', '1960', 'na', 'amekuwa', 'akiimba', 'hadi', 'miaka', 'yake', 'ya', 'mwisho', '.', 'Tangu', 'siku', 'zake', 'za', 'ujana', ',', 'alijulikana', 'kwa', 'kuimba', 'nyimbo', 'za', 'Elvis', 'Presley', 'na', 'aliwahi', 'kuliambia', 'gazeti', 'la', 'the', 'Guardian', 'mwaka', '2008', 'kwamba', 'James', 'Brown', 'ndie', 'alikuwa', 'mshawishi', 'wale', 'mkubwa', 'Chanzo', 'cha', 'picha', ',', 'Getty', 'Images', '``', 'Nilivaa', 'kama', 'Mmarekani', ',', 'nikakuza', 'nywele', 'zangu', ',', 'nikaimba', 'Jailhouse', 'Rock', 'na', 'Teddy', 'Bear', ',', 'wakati', 'mwingine', 'tulifanya', '``', 'Strangers', 'in', 'the', 'Night', \"''\", '.', 'Lakini', 'wakati', 'nilipoanza', 'kuimba', 'nyimbo', 'za', 'Kiamhari', 'umaarufu', 'wangu', 'uliongezeka', ',', \"''\", 'alisema', '.', 'Pia', 'tuliwapoteza', ':', 'Mwimbaji', 'wa', 'Afrika', 'Kusini', 'Sibongile', 'Khumalo', ',', 'ambaye', 'mtindo', 'wake', 'ulianzia', 'na', 'uimbaji', 'wa', 'opera', 'hadi', 'jazz', 'hadi', 'nyimbo', 'za', 'kitamaduni', ';', 'mwimbaji', 'wa', 'jazz', 'wa', 'Afrika', 'Kusini', 'Jonas', 'Gwangwa', ',', 'msanii', 'wa', 'nyimbo', 'za', 'injili', 'na', 'jazz', 'kutoka', 'Malawi', 'Wambali', 'Mkandawire', ',', 'mmoja', 'wa', 'waimbaji', 'maarufu', 'wa', 'Senegal', 'Thione', 'Seck', ',', 'mwimbaji', 'wa', 'Cameroon', 'Wes', 'Madiko', 'na', 'Rapa', 'wa', 'Rwanda', 'Jay', 'Polly', ',', 'ambaye', 'alikuwa', 'amezuiliwa', 'kwa', 'tuhuma', 'za', 'dawa', 'za', 'kulevya', 'pia', 'mwanzilishi', 'kwenye', 'tasnia', 'ya', 'hip-hop', 'ya', 'Namibia', 'Kanibal', 'na', 'mmoja', 'wa', 'waimbaji', 'wanaopendwa', 'zaidi', 'wa', 'Algeria', 'Rabah', 'Deriassa']\n",
      "\n",
      " Number of Words:  1445\n"
     ]
    }
   ],
   "source": [
    "file=\"dec30_1.txt\"\n",
    "\n",
    "# calling the function and storing the contents in a text variable \n",
    "text = get_document(\"https://www.bbc.com/swahili/habari-59827280\")\n",
    "\n",
    "# calling the store_ document function \n",
    "store_document(doc=text,name=file)\n",
    "\n",
    "#add the words in this file to the total_corpus_words, to keep count of the number of words in the corpus\n",
    "total_corpus_words+=total_words(file)"
   ]
  },
  {
   "cell_type": "code",
   "execution_count": 38,
   "metadata": {},
   "outputs": [
    {
     "data": {
      "text/plain": [
       "82378"
      ]
     },
     "execution_count": 38,
     "metadata": {},
     "output_type": "execute_result"
    }
   ],
   "source": [
    "total_corpus_words"
   ]
  },
  {
   "cell_type": "code",
   "execution_count": 40,
   "metadata": {},
   "outputs": [
    {
     "name": "stdout",
     "output_type": "stream",
     "text": [
      "['Uchaguzi', 'Kenya', '2022', ':', 'Je', 'Kenya', 'iko', 'tayari', 'kwa', 'uchaguzi', 'mkuu', '?', 'Uchaguzi', 'mkuu', 'wa', 'Kenya', 'unaotarajiwa', 'mwezi', 'Agosti', '2022', ',', 'utakuwa', 'ukurasa', 'wa', 'kupisha', 'uongozi', 'mpya', 'utakaochukua', 'usukani', 'kutoka', 'kwa', 'utawala', 'wa', 'Rais', 'Uhuru', 'Kenyatta', 'ambaye', 'ameiongoza', 'Kenya', 'tangu', 'mwaka', '2013', 'kwa', 'kipindi', 'cha', 'mihula', 'miwili', 'madarakani', 'kupitia', 'chama', 'cha', 'Jubilee', '.', 'Viongozi', 'kadhaa', 'wameonesha', 'nia', 'ya', 'kutaka', 'kuwania', 'urais', 'akiwemo', 'naibu', 'wa', 'rais', 'William', 'Ruto', 'ambaye', 'anatarajiwa', 'kuwania', 'wadhifa', 'huo', 'sio', 'kupitia', 'chama', 'kilichomuingiza', 'madarakani', 'cha', 'Jubilee', 'bali', 'chama', 'kipya', 'cha', 'United', 'Democratic', 'Alliance', 'UDA', 'kinachonadi', 'sera', 'zake', 'kama', 'chama', 'kinachojali', 'maslahi', 'ya', 'Wakenya', 'wa', 'tabaka', 'la', 'chini', ',', 'wanaohangaika', 'kila', 'siku', 'kusaka', 'tonge', 'ili', 'angalau', 'wapeleke', 'mkono', 'kinywani', '.', \"'Wahusika\", 'wakuu', \"'\", 'Bwana', 'Ruto', 'aneyejiita', \"'Hustler\", \"'\", 'ni', 'naibu', 'rais', 'wa', 'Kenya', 'tangu', 'mwaka', '2013', 'mpaka', 'sasa', 'katika', 'serikali', 'ya', 'Rais', 'Uhuru', 'Kenyatta', 'chini', 'ya', 'chama', 'tawala', 'cha', 'Jubilee', '.', 'Uhusiano', 'kati', 'yake', 'na', 'Rais', 'umedorora', 'na', 'umezidi', 'kuwa', 'mbaya', 'kila', 'uchao', ',', 'chanzo', 'cha', 'mkwaruzano', 'huo', 'hakijulikani', 'wazi', 'lakini', 'inakumbukwa', 'maji', 'yalianza', 'kuzidi', 'unga', 'punde', 'baada', 'ya', 'Rais', 'Uhuru', 'Kenyatta', 'kuafikia', 'makubaliano', 'ya', 'kuleta', 'maridhiano', 'ya', 'kitaifa', 'na', 'kiongozi', 'wa', 'upinzani', 'Raila', 'Odinga', 'lengo', 'likiwa', 'kutuliza', 'uhasama', 'wa', 'kisiasa', 'nchini', '.', 'Chanzo', 'cha', 'picha', ',', 'AFP', 'Mwingine', 'anayetafuta', 'kuliongoza', 'taifa', 'la', 'Kenya', 'ni', 'kiongozi', 'huyo', 'wa', 'muda', 'mrefu', 'wa', 'upinzani', 'Raila', 'Odinga', 'wa', 'chama', 'cha', 'Orange', 'Democratioc', 'Movement', 'ODM', 'ambaye', 'hivi', 'karibuni', 'amezindua', 'rasmi', 'azma', 'yake', 'ya', 'kuwania', 'urais', 'kwa', 'mara', 'ya', 'tano', '.', 'Katika', 'miaka', 'ya', 'hivi', 'karibuni', ',', 'Bwana', 'Raila', 'Odinga', 'almaarufu', \"'Baba\", \"'\", 'kama', 'anavyoitwa', 'na', 'wafuasi', 'wake', ',', 'amekuwa', 'na', 'uhusiano', 'wa', 'karibu', 'kisiasa', 'na', 'Rais', 'Uhuru', 'Kenyatta', 'ambaye', 'zaidi', 'ya', 'mara', 'moja', 'amedokeza', 'hadharani', 'ni', 'upande', 'gani', 'kisiasa', 'anaegemea', 'kati', 'ya', 'Raila', 'Odinga', 'na', 'naibu', 'wake', 'William', 'Ruto', 'bila', 'ya', 'kutaja', 'jina', 'la', 'yeyote', '.', 'Mshirika', 'wa', 'Bwana', 'Odinga', 'kisiasa', 'katika', 'uchaguzi', 'uliopita', 'Musalia', 'Mudavadi', 'wa', 'chama', 'cha', 'Amani', 'National', 'Congress', 'ANC', 'pia', 'ashadokeza', 'mapema', 'nia', 'ya', 'kuwa', 'rais', 'wa', 'tano', 'wa', 'Kenya', 'katika', 'uchaguzi', 'huo', 'wa', 'Agosti', '2022', '.', 'Chanzo', 'cha', 'picha', ',', 'Getty', 'Images', 'Si', 'hao', 'tu', 'kuna', 'gavana', 'wa', 'Makueni', 'Profesa', 'Kivutha', 'Kibwana', ',', 'Makamu', 'wa', 'rais', 'wa', 'zamani', 'Kalonzo', 'Musyoka', ',', 'mwimbaji', 'wa', 'miziki', 'ya', 'injili', 'Reuben', 'Kigame', 'miongoni', 'mwa', 'wengine', 'wengi', '.', 'Hiyo', 'ni', 'katika', 'ngazi', 'ya', 'urais', ',', 'lakini', 'uchaguzi', 'huo', 'utakuwa', 'pia', 'wa', 'kuchagua', 'viongozi', 'wa', 'nyadhifa', 'nyingine', 'ambazo', 'ni', 'Ugavana', 'wa', 'kaunti', 'zote', '47', ',', 'maseneta', ',', 'wabunge', ',', 'wawakilishi', 'wa', 'wanawake', 'na', 'wawakilishi', 'wa', 'wodi', '.', 'Lakini', 'huku', 'macho', 'yakielekezwa', 'kwa', 'uchaguzi', 'huo', ',', 'maswali', 'ni', 'mengi', 'hasa', 'kuhusiana', 'na', 'maandalizi', 'na', 'mazingira', 'ya', 'kuandaliwa', 'kwake', '.', 'Sauti', 'za', 'washikadau', 'Je', 'washikadau', 'mbali', 'mbali', 'wako', 'tayari', 'kuhakikisha', 'uchaguzi', 'mkuu', 'wa', 'Kenya', 'utakuwa', 'sio', 'tu', 'wa', 'huru', 'na', 'haki', 'bali', 'wa', 'amani', ',', 'jumuishi', 'na', 'wa', 'wazi', '?', 'Kuna', 'muda', 'wa', 'kutosha', 'kuhakikisha', 'mfumo', 'mzima', 'unaendeshwa', 'kwa', 'njia', 'inayostahili', '?', 'Hasa', 'ikizingatiwa', 'kuwa', 'taifa', 'hilio', 'la', 'Afrika', 'Mashariki', 'limeshuhudia', 'machafuko', 'na', 'ghasia', 'katika', 'baadhi', 'ya', 'chaguzi', 'zilizopita', '?', 'Mchambuzi', 'wa', 'siasa', 'za', 'Kenya', 'Dr', 'Alutalala', 'Mukhwana', 'anasema', 'imekuwa', 'desturi', 'sio', 'tu', 'kwa', 'Kenya', 'bali', 'mataifa', 'mengi', 'ya', 'Afrika', 'kufanya', 'uchaguzi', 'kama', 'ambao', 'wameshitukizwa', '.', 'Naye', 'mtaalam', 'wa', 'masuala', 'ya', 'utawala', 'bora', 'Stella', 'Agara', 'anahisi', 'bado', 'tume', 'ya', 'uchaguzi', 'IEBC', 'bado', 'haijajiandaa', 'ipasavyo', 'lakini', 'ana', 'matumaini', 'bado', 'wana', 'muda', 'wa', 'kutosha', 'kugeuza', 'hali', 'kabla', 'ya', 'uchaguzi', 'huo', '.', 'Tangu', 'kuanzishwa', 'kwa', 'siasa', 'za', 'vyama', 'vingi', 'nchini', 'Kenya', 'mnamo', 'mwaka', '1992', ',', 'vyama', 'chungu', 'nzima', 'vimejitokeza', 'kushiriki', 'katika', 'uchaguzi', 'unaofanyika', 'kila', 'baada', 'ya', 'miaka', 'mitano', 'kwa', 'ngazi', 'zote', 'toka', 'urais', 'hadi', 'udiwani', '.', 'Vingi', 'ya', 'vyama', 'hivi', 'vinaegemea', 'katika', 'misingi', 'ya', 'kikabila', 'au', 'kikanda', 'na', 'ni', 'vichache', 'mno', 'ambavyo', 'vimedumu', 'zaidi', 'ya', 'miaka', 'kumi', 'bila', 'ya', 'kumezwa', 'na', 'vyama', 'vikubwa', 'au', 'hata', 'kupooza', 'kwa', 'kutoshiriki', 'katika', 'siasa', 'za', 'siku', 'baada', 'ya', 'siku', '.', 'Ili', 'siasa', 'ziwe', 'siasa', 'sharti', 'kuwe', 'na', 'asasi', 'nyingine', 'zinazoshiriki', 'au', 'kushirikishwa', 'kwa', 'mchakato', 'mzima', 'kuanzia', 'usajili', 'wa', 'vyama', ',', 'uangalizi', 'wa', 'kampeini', 'na', 'uchaguzi', ',', 'kuripotiwa', 'kwa', 'matukio', 'yenyewe', 'na', 'wanaotwishwa', 'jukumu', 'la', 'kusimamia', ',', 'kuhesabu', 'na', 'kutangaza', 'matokeo', '.', 'Lakini', 'je', 'uchaguzi', 'Kenya', 'unatizamwa', 'kwa', 'jicho', 'lipi', 'kama', 'mfumo', 'endelevu', 'au', 'tukio', 'la', 'kukumbukwa', 'tu', 'baada', 'ya', 'miaka', 'mitano', '.', 'Matayarisho', 'yamekamilika', 'au', 'muda', 'umepita', '?', 'Kuna', 'muda', 'wa', 'kutosha', 'kuhakikisha', 'mchakato', 'mzima', 'unazingatia', 'uwazi', ',', 'uwajibikaji', 'ujumuisha', 'na', 'uadilifu', 'kuanzia', 'uchaguzi', 'mmoja', 'unapokwisha', 'hadi', 'mwingine', '?', 'Na', 'je', 'nini', 'mchango', 'wa', 'asasi', 'za', 'kiraia', 'katika', 'kuboresha', 'demokrasia', '?', 'Mule', 'Musau', 'mratibu', 'wa', 'kitaifa', 'Wa', 'muungano', 'wa', 'waangalizi', 'wa', 'uchaguzi', 'kutoka', 'asasi', 'za', 'kiraia', 'ELOG', 'anasisitiza', 'kuwa', 'kuna', 'haja', 'kubwa', 'ya', 'kuweka', 'mambo', 'sawa', 'ikiwemo', 'kuainisha', 'mchango', 'wa', 'asasi', 'za', 'kiraia', 'katika', 'utoaji', 'wa', 'hamasisho', 'kwa', 'umma', ',', 'kupitishwa', 'kwa', 'sheria', 'kwa', 'wakati', 'ufaao', 'kuhusu', 'ufadhili', 'wa', 'kampeini', 'na', 'hata', 'kuheshimiwa', 'kwa', 'kipindi', 'rasmi', 'cha', 'kuanza', 'na', 'kumalizika', 'kwa', 'kampeini', 'Chanzo', 'cha', 'picha', ',', 'AFP', 'Mbali', 'na', 'mchango', 'wa', 'asasi', 'za', 'kiraia', 'katika', 'kuhakikisha', 'uchaguzi', 'unaendeshwa', 'ipasavyo', 'mchangiaji', 'mwingine', 'mkuu', 'katika', 'uchaguzi', 'wowote', 'ule', 'ni', 'vyombo', 'vya', 'habari', '.', 'Ripoti', ',', 'taarifa', ',', 'na', 'chambuzi', 'katika', 'mchakato', 'mzima', 'husaidia', 'wapiga', 'kura', 'kuelewa', ',', 'kufuatilia', ',', 'na', 'hata', 'kufanya', 'maamuzi', 'kutokana', 'na', 'wanachokisikia', ',', 'kukisoma', 'au', 'kukiona', 'katika', 'vyombo', 'hivyo', '.', 'Kwa', 'hivyo', 'swali', 'bila', 'shaka', 'vyombo', 'hivyo', 'vinautizama', 'vipi', 'mchakato', 'wa', 'kisias', 'Kenya', '.', 'Mkurugenzi', 'mkuu', 'mtendaji', 'wa', 'baraza', 'la', 'vyombo', 'vya', 'habari', 'David', 'Omwoyo', 'ana', 'imani', 'na', 'jinsi', 'vingi', 'ya', 'vyombo', 'vya', 'habari', 'vilivyojiandaa', 'kuuangazia', 'uchaguzi', 'huo', 'na', 'kusema', 'wameshatoa', 'muongozo', 'wa', 'jinsi', 'wanahabari', 'wanapaswa', 'kujiendesha', 'katika', 'kipindi', 'hiki', 'huku', 'wakiwa', 'na', 'mipango', 'ya', 'kuwapa', 'mafunzo', 'hasa', 'waandishi', 'habari', 'chipukizi', 'ambao', 'wengi', 'wao', 'hawakushiriki', 'katika', 'uchaguzi', 'uliopita', 'wa', '2017', '.', 'Bwana', 'Omwoyo', 'anasema', 'mojawapo', 'ya', 'changamoto', 'wanazokumbana', 'nazo', 'hivi', 'sasa', 'ni', 'kuwafuatilia', 'waandishi', 'wa', 'habari', 'amabo', 'wametangaza', 'azma', 'ya', 'kuwania', 'nyadhifa', 'mbali', 'mbali', 'katika', 'uchaguzi', 'wa', '2022', 'wakati', 'mpaka', 'sasa', 'hawajajiuzulu', '.', 'Makundi', 'muhimu', 'ya', 'wapiga', 'kura', 'Ikiwa', 'imesalia', 'miezi', 'minane', 'kuelekea', 'uchaguzi', 'wa', 'Kenya', ',', 'jambo', 'moja', 'ambalo', 'bado', 'halitafutiwa', 'ufumbuzi', 'mpaka', 'sasa', 'licha', 'ya', 'kuwepo', 'juhudi', 'nyingi', 'iwe', 'za', 'kisheria', ',', 'kibunge', 'na', 'hata', 'muhimili', 'wa', 'rais', 'katika', 'kulishughulikia', 'ni', 'utekelezaji', 'wa', 'usawa', 'wa', 'kijinsia', 'ambapo', 'kuambatana', 'na', 'katiba', 'ya', 'Kenya', 'iliyopitishwa', 'mwaka', '2010', ',', 'uwakilishi', 'wa', 'kijinsia', 'unapaswa', 'kuwa', 'thuluthi', 'moja', '.', 'Chanzo', 'cha', 'picha', ',', 'Getty', 'Images', 'Kuna', 'muongozo', 'bayana', 'wa', 'kuhakikisha', 'kuwa', 'bunge', 'lijalo', 'litafikia', 'hilo', ',', 'lakini', 'pia', 'je', 'wanawake', 'wenyewe', 'wamejitokeza', 'kimasomaso', 'kuonesha', 'azma', 'ya', 'kuwania', 'nyadhifa', 'za', 'juu', 'kisiasa', 'na', 'iwapo', 'sivyo', 'kwanini', '?', 'Bi', 'Charity', 'Ngilu', 'mwanasiasa', 'mkongwe', 'aliyewahi', 'kuwania', 'uraia', 'hivi', 'sasa', 'ni', 'gavana', 'wa', 'kaunti', 'ya', 'Kitui', 'anaelezea', 'nafasi', 'ya', 'mwanamke', 'katika', 'siasa', 'za', 'Kenya', 'kwa', 'kusema', 'kizingiti', 'kikubwa', 'kinachowakabili', 'wanawake', 'ni', 'kukosa', 'nguvu', 'ya', 'kifedha', 'kufanya', 'kampeini', 'kote', 'nchini', '.', 'Lakini', 'anasema', 'kuanzia', 'mwaka', '1992', ',', 'wamepiga', 'hatua', 'kubwa', 'ya', 'kuwa', 'na', 'uwakilishi', 'katika', 'bunge', 'na', 'kwingineko', '.', 'Mojawapo', 'pia', 'ya', 'makundi', 'muhimu', 'yatayaoamua', 'mustakabali', 'wa', 'uchaguzi', 'ujao', 'ni', 'nafasi', 'ya', 'vijana', 'katika', 'siasa', 'za', 'Kenya', '.', 'Tume', 'ya', 'uchaguzi', 'IEBC', 'ilinuia', 'kusajili', 'zaidi', 'ya', 'wapiga', 'kura', 'wapya', 'milioni', 'sita', 'ambao', 'watashiriki', 'kwa', 'mara', 'ya', 'kwanza', 'uchaguzi', '.', 'Kundi', 'hili', 'ni', 'vijana', 'wa', 'kati', 'ya', 'umri', 'wa', 'miaka', '18', 'hadi', '35', '.', 'Wanasiasa', 'bila', 'shaka', 'wanategemea', 'kupata', 'uungwaji', 'mkono', 'kutoka', 'kwa', 'vijana', 'hawa', 'ili', 'kujihakikishia', 'idadi', 'ya', 'kutosha', 'ya', 'kura', 'kuwapa', 'ushindi', '.', 'Licha', 'ya', 'hilo', 'kuna', 'wasiwasi', 'kuwa', 'wengi', 'wao', 'hawana', 'msukumo', 'wa', 'kushiriki', 'katika', 'uchaguzi', 'kwa', 'kuzingatia', ',', 'zoezi', 'la', 'hivi', 'karibuni', 'na', 'kuwasajili', 'wapiga', 'kura', 'wapya', ',', 'ni', 'milioni', 'moja', 'na', 'laki', 'tano', 'tu', 'waliojitokeza', 'kati', 'ya', 'zaidi', 'ya', 'milioni', 'sita', 'waliotarajiwa', '.', 'Na', 'hili', 'bila', 'shaka', 'linazua', 'wasiwasi', '.', 'Vijana', 'wengi', 'wanasema', 'wanahisi', 'kwa', 'miaka', 'mingi', 'kuelekea', 'uchaguzi', 'masuala', 'yao', 'hasa', 'kubwa', 'ukosefu', 'wa', 'ajira', 'limepuuzwa', 'na', 'wanasiasa', 'na', 'wanahisi', 'wanatumika', 'tu', 'kuendeleza', 'ajenda', 'binafsi', 'za', 'viongozi', '.', 'Bila', 'shaka', 'kuna', 'masuala', 'mengi', 'na', 'wachangiaji', 'chungu', 'nzima', 'katika', 'kuhakikisha', 'uchaguzi', 'wa', '2022', 'una', 'utofauti', 'ikilinganishwa', 'na', 'uliopita', 'kwa', 'misingi', 'ya', 'kudumisha', 'amani', ',', 'ujumuishi', ',', 'uadilifu', ',', 'uwazi', ',', 'haki', 'na', 'uhuru', '.', 'Huku', 'macho', 'yote', 'yakielekezwa', 'kwa', 'miezi', 'michache', 'ijayo', ',', 'jinsi', 'Kenya', 'itakavyojiendesha', ',', 'matumaini', 'ya', 'wengi', 'ni', 'kuwa', 'ukomavu', 'wa', 'demokrasia', 'na', 'kuheshimu', 'utawala', 'wa', 'sheria', 'vitatamalaki', 'katika', 'siasa', 'za', 'taifa', 'hilo', 'la', 'Afrika', 'Mashariki', 'linalotizamwa', 'kama', 'kielelezo', 'katika', 'nyanja', 'nyingi', '.', 'Je', 'Kenya', 'iko', 'tayari', 'kwa', 'uchaguzi', 'wa', '2022', '?', 'Hilo', 'ni', 'swali', 'lisilohitaji', 'mate', 'bali', 'wino', 'kulijibu', '.']\n",
      "\n",
      " Number of Words:  1350\n"
     ]
    }
   ],
   "source": [
    "file=\"dec31_1.txt\"\n",
    "\n",
    "# calling the function and storing the contents in a text variable \n",
    "text = get_document(\"https://www.bbc.com/swahili/habari-59835601\")\n",
    "\n",
    "# calling the store_ document function \n",
    "store_document(doc=text,name=file)\n",
    "\n",
    "#add the words in this file to the total_corpus_words, to keep count of the number of words in the corpus\n",
    "total_corpus_words+=total_words(file)"
   ]
  },
  {
   "cell_type": "code",
   "execution_count": 41,
   "metadata": {},
   "outputs": [
    {
     "data": {
      "text/plain": [
       "83728"
      ]
     },
     "execution_count": 41,
     "metadata": {},
     "output_type": "execute_result"
    }
   ],
   "source": [
    "total_corpus_words"
   ]
  },
  {
   "cell_type": "code",
   "execution_count": 42,
   "metadata": {},
   "outputs": [
    {
     "name": "stdout",
     "output_type": "stream",
     "text": [
      "['Uchaguzi', 'Kenya', '2022', ':', 'Je', 'Kenya', 'iko', 'tayari', 'kwa', 'uchaguzi', 'mkuu', '?', 'Uchaguzi', 'mkuu', 'wa', 'Kenya', 'unaotarajiwa', 'mwezi', 'Agosti', '2022', ',', 'utakuwa', 'ukurasa', 'wa', 'kupisha', 'uongozi', 'mpya', 'utakaochukua', 'usukani', 'kutoka', 'kwa', 'utawala', 'wa', 'Rais', 'Uhuru', 'Kenyatta', 'ambaye', 'ameiongoza', 'Kenya', 'tangu', 'mwaka', '2013', 'kwa', 'kipindi', 'cha', 'mihula', 'miwili', 'madarakani', 'kupitia', 'chama', 'cha', 'Jubilee', '.', 'Viongozi', 'kadhaa', 'wameonesha', 'nia', 'ya', 'kutaka', 'kuwania', 'urais', 'akiwemo', 'naibu', 'wa', 'rais', 'William', 'Ruto', 'ambaye', 'anatarajiwa', 'kuwania', 'wadhifa', 'huo', 'sio', 'kupitia', 'chama', 'kilichomuingiza', 'madarakani', 'cha', 'Jubilee', 'bali', 'chama', 'kipya', 'cha', 'United', 'Democratic', 'Alliance', 'UDA', 'kinachonadi', 'sera', 'zake', 'kama', 'chama', 'kinachojali', 'maslahi', 'ya', 'Wakenya', 'wa', 'tabaka', 'la', 'chini', ',', 'wanaohangaika', 'kila', 'siku', 'kusaka', 'tonge', 'ili', 'angalau', 'wapeleke', 'mkono', 'kinywani', '.', \"'Wahusika\", 'wakuu', \"'\", 'Bwana', 'Ruto', 'aneyejiita', \"'Hustler\", \"'\", 'ni', 'naibu', 'rais', 'wa', 'Kenya', 'tangu', 'mwaka', '2013', 'mpaka', 'sasa', 'katika', 'serikali', 'ya', 'Rais', 'Uhuru', 'Kenyatta', 'chini', 'ya', 'chama', 'tawala', 'cha', 'Jubilee', '.', 'Uhusiano', 'kati', 'yake', 'na', 'Rais', 'umedorora', 'na', 'umezidi', 'kuwa', 'mbaya', 'kila', 'uchao', ',', 'chanzo', 'cha', 'mkwaruzano', 'huo', 'hakijulikani', 'wazi', 'lakini', 'inakumbukwa', 'maji', 'yalianza', 'kuzidi', 'unga', 'punde', 'baada', 'ya', 'Rais', 'Uhuru', 'Kenyatta', 'kuafikia', 'makubaliano', 'ya', 'kuleta', 'maridhiano', 'ya', 'kitaifa', 'na', 'kiongozi', 'wa', 'upinzani', 'Raila', 'Odinga', 'lengo', 'likiwa', 'kutuliza', 'uhasama', 'wa', 'kisiasa', 'nchini', '.', 'Chanzo', 'cha', 'picha', ',', 'AFP', 'Mwingine', 'anayetafuta', 'kuliongoza', 'taifa', 'la', 'Kenya', 'ni', 'kiongozi', 'huyo', 'wa', 'muda', 'mrefu', 'wa', 'upinzani', 'Raila', 'Odinga', 'wa', 'chama', 'cha', 'Orange', 'Democratioc', 'Movement', 'ODM', 'ambaye', 'hivi', 'karibuni', 'amezindua', 'rasmi', 'azma', 'yake', 'ya', 'kuwania', 'urais', 'kwa', 'mara', 'ya', 'tano', '.', 'Katika', 'miaka', 'ya', 'hivi', 'karibuni', ',', 'Bwana', 'Raila', 'Odinga', 'almaarufu', \"'Baba\", \"'\", 'kama', 'anavyoitwa', 'na', 'wafuasi', 'wake', ',', 'amekuwa', 'na', 'uhusiano', 'wa', 'karibu', 'kisiasa', 'na', 'Rais', 'Uhuru', 'Kenyatta', 'ambaye', 'zaidi', 'ya', 'mara', 'moja', 'amedokeza', 'hadharani', 'ni', 'upande', 'gani', 'kisiasa', 'anaegemea', 'kati', 'ya', 'Raila', 'Odinga', 'na', 'naibu', 'wake', 'William', 'Ruto', 'bila', 'ya', 'kutaja', 'jina', 'la', 'yeyote', '.', 'Mshirika', 'wa', 'Bwana', 'Odinga', 'kisiasa', 'katika', 'uchaguzi', 'uliopita', 'Musalia', 'Mudavadi', 'wa', 'chama', 'cha', 'Amani', 'National', 'Congress', 'ANC', 'pia', 'ashadokeza', 'mapema', 'nia', 'ya', 'kuwa', 'rais', 'wa', 'tano', 'wa', 'Kenya', 'katika', 'uchaguzi', 'huo', 'wa', 'Agosti', '2022', '.', 'Chanzo', 'cha', 'picha', ',', 'Getty', 'Images', 'Si', 'hao', 'tu', 'kuna', 'gavana', 'wa', 'Makueni', 'Profesa', 'Kivutha', 'Kibwana', ',', 'Makamu', 'wa', 'rais', 'wa', 'zamani', 'Kalonzo', 'Musyoka', ',', 'mwimbaji', 'wa', 'miziki', 'ya', 'injili', 'Reuben', 'Kigame', 'miongoni', 'mwa', 'wengine', 'wengi', '.', 'Hiyo', 'ni', 'katika', 'ngazi', 'ya', 'urais', ',', 'lakini', 'uchaguzi', 'huo', 'utakuwa', 'pia', 'wa', 'kuchagua', 'viongozi', 'wa', 'nyadhifa', 'nyingine', 'ambazo', 'ni', 'Ugavana', 'wa', 'kaunti', 'zote', '47', ',', 'maseneta', ',', 'wabunge', ',', 'wawakilishi', 'wa', 'wanawake', 'na', 'wawakilishi', 'wa', 'wodi', '.', 'Lakini', 'huku', 'macho', 'yakielekezwa', 'kwa', 'uchaguzi', 'huo', ',', 'maswali', 'ni', 'mengi', 'hasa', 'kuhusiana', 'na', 'maandalizi', 'na', 'mazingira', 'ya', 'kuandaliwa', 'kwake', '.', 'Sauti', 'za', 'washikadau', 'Je', 'washikadau', 'mbali', 'mbali', 'wako', 'tayari', 'kuhakikisha', 'uchaguzi', 'mkuu', 'wa', 'Kenya', 'utakuwa', 'sio', 'tu', 'wa', 'huru', 'na', 'haki', 'bali', 'wa', 'amani', ',', 'jumuishi', 'na', 'wa', 'wazi', '?', 'Kuna', 'muda', 'wa', 'kutosha', 'kuhakikisha', 'mfumo', 'mzima', 'unaendeshwa', 'kwa', 'njia', 'inayostahili', '?', 'Hasa', 'ikizingatiwa', 'kuwa', 'taifa', 'hilio', 'la', 'Afrika', 'Mashariki', 'limeshuhudia', 'machafuko', 'na', 'ghasia', 'katika', 'baadhi', 'ya', 'chaguzi', 'zilizopita', '?', 'Mchambuzi', 'wa', 'siasa', 'za', 'Kenya', 'Dr', 'Alutalala', 'Mukhwana', 'anasema', 'imekuwa', 'desturi', 'sio', 'tu', 'kwa', 'Kenya', 'bali', 'mataifa', 'mengi', 'ya', 'Afrika', 'kufanya', 'uchaguzi', 'kama', 'ambao', 'wameshitukizwa', '.', 'Naye', 'mtaalam', 'wa', 'masuala', 'ya', 'utawala', 'bora', 'Stella', 'Agara', 'anahisi', 'bado', 'tume', 'ya', 'uchaguzi', 'IEBC', 'bado', 'haijajiandaa', 'ipasavyo', 'lakini', 'ana', 'matumaini', 'bado', 'wana', 'muda', 'wa', 'kutosha', 'kugeuza', 'hali', 'kabla', 'ya', 'uchaguzi', 'huo', '.', 'Tangu', 'kuanzishwa', 'kwa', 'siasa', 'za', 'vyama', 'vingi', 'nchini', 'Kenya', 'mnamo', 'mwaka', '1992', ',', 'vyama', 'chungu', 'nzima', 'vimejitokeza', 'kushiriki', 'katika', 'uchaguzi', 'unaofanyika', 'kila', 'baada', 'ya', 'miaka', 'mitano', 'kwa', 'ngazi', 'zote', 'toka', 'urais', 'hadi', 'udiwani', '.', 'Vingi', 'ya', 'vyama', 'hivi', 'vinaegemea', 'katika', 'misingi', 'ya', 'kikabila', 'au', 'kikanda', 'na', 'ni', 'vichache', 'mno', 'ambavyo', 'vimedumu', 'zaidi', 'ya', 'miaka', 'kumi', 'bila', 'ya', 'kumezwa', 'na', 'vyama', 'vikubwa', 'au', 'hata', 'kupooza', 'kwa', 'kutoshiriki', 'katika', 'siasa', 'za', 'siku', 'baada', 'ya', 'siku', '.', 'Ili', 'siasa', 'ziwe', 'siasa', 'sharti', 'kuwe', 'na', 'asasi', 'nyingine', 'zinazoshiriki', 'au', 'kushirikishwa', 'kwa', 'mchakato', 'mzima', 'kuanzia', 'usajili', 'wa', 'vyama', ',', 'uangalizi', 'wa', 'kampeini', 'na', 'uchaguzi', ',', 'kuripotiwa', 'kwa', 'matukio', 'yenyewe', 'na', 'wanaotwishwa', 'jukumu', 'la', 'kusimamia', ',', 'kuhesabu', 'na', 'kutangaza', 'matokeo', '.', 'Lakini', 'je', 'uchaguzi', 'Kenya', 'unatizamwa', 'kwa', 'jicho', 'lipi', 'kama', 'mfumo', 'endelevu', 'au', 'tukio', 'la', 'kukumbukwa', 'tu', 'baada', 'ya', 'miaka', 'mitano', '.', 'Matayarisho', 'yamekamilika', 'au', 'muda', 'umepita', '?', 'Kuna', 'muda', 'wa', 'kutosha', 'kuhakikisha', 'mchakato', 'mzima', 'unazingatia', 'uwazi', ',', 'uwajibikaji', 'ujumuisha', 'na', 'uadilifu', 'kuanzia', 'uchaguzi', 'mmoja', 'unapokwisha', 'hadi', 'mwingine', '?', 'Na', 'je', 'nini', 'mchango', 'wa', 'asasi', 'za', 'kiraia', 'katika', 'kuboresha', 'demokrasia', '?', 'Mule', 'Musau', 'mratibu', 'wa', 'kitaifa', 'Wa', 'muungano', 'wa', 'waangalizi', 'wa', 'uchaguzi', 'kutoka', 'asasi', 'za', 'kiraia', 'ELOG', 'anasisitiza', 'kuwa', 'kuna', 'haja', 'kubwa', 'ya', 'kuweka', 'mambo', 'sawa', 'ikiwemo', 'kuainisha', 'mchango', 'wa', 'asasi', 'za', 'kiraia', 'katika', 'utoaji', 'wa', 'hamasisho', 'kwa', 'umma', ',', 'kupitishwa', 'kwa', 'sheria', 'kwa', 'wakati', 'ufaao', 'kuhusu', 'ufadhili', 'wa', 'kampeini', 'na', 'hata', 'kuheshimiwa', 'kwa', 'kipindi', 'rasmi', 'cha', 'kuanza', 'na', 'kumalizika', 'kwa', 'kampeini', 'Chanzo', 'cha', 'picha', ',', 'AFP', 'Mbali', 'na', 'mchango', 'wa', 'asasi', 'za', 'kiraia', 'katika', 'kuhakikisha', 'uchaguzi', 'unaendeshwa', 'ipasavyo', 'mchangiaji', 'mwingine', 'mkuu', 'katika', 'uchaguzi', 'wowote', 'ule', 'ni', 'vyombo', 'vya', 'habari', '.', 'Ripoti', ',', 'taarifa', ',', 'na', 'chambuzi', 'katika', 'mchakato', 'mzima', 'husaidia', 'wapiga', 'kura', 'kuelewa', ',', 'kufuatilia', ',', 'na', 'hata', 'kufanya', 'maamuzi', 'kutokana', 'na', 'wanachokisikia', ',', 'kukisoma', 'au', 'kukiona', 'katika', 'vyombo', 'hivyo', '.', 'Kwa', 'hivyo', 'swali', 'bila', 'shaka', 'vyombo', 'hivyo', 'vinautizama', 'vipi', 'mchakato', 'wa', 'kisias', 'Kenya', '.', 'Mkurugenzi', 'mkuu', 'mtendaji', 'wa', 'baraza', 'la', 'vyombo', 'vya', 'habari', 'David', 'Omwoyo', 'ana', 'imani', 'na', 'jinsi', 'vingi', 'ya', 'vyombo', 'vya', 'habari', 'vilivyojiandaa', 'kuuangazia', 'uchaguzi', 'huo', 'na', 'kusema', 'wameshatoa', 'muongozo', 'wa', 'jinsi', 'wanahabari', 'wanapaswa', 'kujiendesha', 'katika', 'kipindi', 'hiki', 'huku', 'wakiwa', 'na', 'mipango', 'ya', 'kuwapa', 'mafunzo', 'hasa', 'waandishi', 'habari', 'chipukizi', 'ambao', 'wengi', 'wao', 'hawakushiriki', 'katika', 'uchaguzi', 'uliopita', 'wa', '2017', '.', 'Bwana', 'Omwoyo', 'anasema', 'mojawapo', 'ya', 'changamoto', 'wanazokumbana', 'nazo', 'hivi', 'sasa', 'ni', 'kuwafuatilia', 'waandishi', 'wa', 'habari', 'amabo', 'wametangaza', 'azma', 'ya', 'kuwania', 'nyadhifa', 'mbali', 'mbali', 'katika', 'uchaguzi', 'wa', '2022', 'wakati', 'mpaka', 'sasa', 'hawajajiuzulu', '.', 'Makundi', 'muhimu', 'ya', 'wapiga', 'kura', 'Ikiwa', 'imesalia', 'miezi', 'minane', 'kuelekea', 'uchaguzi', 'wa', 'Kenya', ',', 'jambo', 'moja', 'ambalo', 'bado', 'halitafutiwa', 'ufumbuzi', 'mpaka', 'sasa', 'licha', 'ya', 'kuwepo', 'juhudi', 'nyingi', 'iwe', 'za', 'kisheria', ',', 'kibunge', 'na', 'hata', 'muhimili', 'wa', 'rais', 'katika', 'kulishughulikia', 'ni', 'utekelezaji', 'wa', 'usawa', 'wa', 'kijinsia', 'ambapo', 'kuambatana', 'na', 'katiba', 'ya', 'Kenya', 'iliyopitishwa', 'mwaka', '2010', ',', 'uwakilishi', 'wa', 'kijinsia', 'unapaswa', 'kuwa', 'thuluthi', 'moja', '.', 'Chanzo', 'cha', 'picha', ',', 'Getty', 'Images', 'Kuna', 'muongozo', 'bayana', 'wa', 'kuhakikisha', 'kuwa', 'bunge', 'lijalo', 'litafikia', 'hilo', ',', 'lakini', 'pia', 'je', 'wanawake', 'wenyewe', 'wamejitokeza', 'kimasomaso', 'kuonesha', 'azma', 'ya', 'kuwania', 'nyadhifa', 'za', 'juu', 'kisiasa', 'na', 'iwapo', 'sivyo', 'kwanini', '?', 'Bi', 'Charity', 'Ngilu', 'mwanasiasa', 'mkongwe', 'aliyewahi', 'kuwania', 'uraia', 'hivi', 'sasa', 'ni', 'gavana', 'wa', 'kaunti', 'ya', 'Kitui', 'anaelezea', 'nafasi', 'ya', 'mwanamke', 'katika', 'siasa', 'za', 'Kenya', 'kwa', 'kusema', 'kizingiti', 'kikubwa', 'kinachowakabili', 'wanawake', 'ni', 'kukosa', 'nguvu', 'ya', 'kifedha', 'kufanya', 'kampeini', 'kote', 'nchini', '.', 'Lakini', 'anasema', 'kuanzia', 'mwaka', '1992', ',', 'wamepiga', 'hatua', 'kubwa', 'ya', 'kuwa', 'na', 'uwakilishi', 'katika', 'bunge', 'na', 'kwingineko', '.', 'Mojawapo', 'pia', 'ya', 'makundi', 'muhimu', 'yatayaoamua', 'mustakabali', 'wa', 'uchaguzi', 'ujao', 'ni', 'nafasi', 'ya', 'vijana', 'katika', 'siasa', 'za', 'Kenya', '.', 'Tume', 'ya', 'uchaguzi', 'IEBC', 'ilinuia', 'kusajili', 'zaidi', 'ya', 'wapiga', 'kura', 'wapya', 'milioni', 'sita', 'ambao', 'watashiriki', 'kwa', 'mara', 'ya', 'kwanza', 'uchaguzi', '.', 'Kundi', 'hili', 'ni', 'vijana', 'wa', 'kati', 'ya', 'umri', 'wa', 'miaka', '18', 'hadi', '35', '.', 'Wanasiasa', 'bila', 'shaka', 'wanategemea', 'kupata', 'uungwaji', 'mkono', 'kutoka', 'kwa', 'vijana', 'hawa', 'ili', 'kujihakikishia', 'idadi', 'ya', 'kutosha', 'ya', 'kura', 'kuwapa', 'ushindi', '.', 'Licha', 'ya', 'hilo', 'kuna', 'wasiwasi', 'kuwa', 'wengi', 'wao', 'hawana', 'msukumo', 'wa', 'kushiriki', 'katika', 'uchaguzi', 'kwa', 'kuzingatia', ',', 'zoezi', 'la', 'hivi', 'karibuni', 'na', 'kuwasajili', 'wapiga', 'kura', 'wapya', ',', 'ni', 'milioni', 'moja', 'na', 'laki', 'tano', 'tu', 'waliojitokeza', 'kati', 'ya', 'zaidi', 'ya', 'milioni', 'sita', 'waliotarajiwa', '.', 'Na', 'hili', 'bila', 'shaka', 'linazua', 'wasiwasi', '.', 'Vijana', 'wengi', 'wanasema', 'wanahisi', 'kwa', 'miaka', 'mingi', 'kuelekea', 'uchaguzi', 'masuala', 'yao', 'hasa', 'kubwa', 'ukosefu', 'wa', 'ajira', 'limepuuzwa', 'na', 'wanasiasa', 'na', 'wanahisi', 'wanatumika', 'tu', 'kuendeleza', 'ajenda', 'binafsi', 'za', 'viongozi', '.', 'Bila', 'shaka', 'kuna', 'masuala', 'mengi', 'na', 'wachangiaji', 'chungu', 'nzima', 'katika', 'kuhakikisha', 'uchaguzi', 'wa', '2022', 'una', 'utofauti', 'ikilinganishwa', 'na', 'uliopita', 'kwa', 'misingi', 'ya', 'kudumisha', 'amani', ',', 'ujumuishi', ',', 'uadilifu', ',', 'uwazi', ',', 'haki', 'na', 'uhuru', '.', 'Huku', 'macho', 'yote', 'yakielekezwa', 'kwa', 'miezi', 'michache', 'ijayo', ',', 'jinsi', 'Kenya', 'itakavyojiendesha', ',', 'matumaini', 'ya', 'wengi', 'ni', 'kuwa', 'ukomavu', 'wa', 'demokrasia', 'na', 'kuheshimu', 'utawala', 'wa', 'sheria', 'vitatamalaki', 'katika', 'siasa', 'za', 'taifa', 'hilo', 'la', 'Afrika', 'Mashariki', 'linalotizamwa', 'kama', 'kielelezo', 'katika', 'nyanja', 'nyingi', '.', 'Je', 'Kenya', 'iko', 'tayari', 'kwa', 'uchaguzi', 'wa', '2022', '?', 'Hilo', 'ni', 'swali', 'lisilohitaji', 'mate', 'bali', 'wino', 'kulijibu', '.', 'Wanafunzi', 'ambao', 'ni', 'wapenzi', 'wa', 'jinsia', 'moja', 'Kenya', 'kuzuiwa', 'kwenda', 'shule', 'za', 'mabweni-Waziri', 'wa', 'elimu', '31', 'Disemba', '2021', 'Chanzo', 'cha', 'picha', ',', 'EduMinKenya/TWITTER', 'Waziri', 'wa', 'elimu', 'nchini', 'Kenya', 'George', 'Magoha', 'anasema', 'wanafunzi', 'wote', 'ambao', 'ni', 'wapenzi', 'wa', 'jinsia', 'moja', 'wanapaswa', 'kuzuiwa', 'kuhudhuria', 'shule', 'za', 'bweni', 'ili', 'wasiwashawishi', 'wanafunzi', 'wengine', '.', 'Badala', 'yake', 'alisema', 'wanapaswa', 'kuhudhuria', 'shule', 'za', 'kutwa', 'karibu', 'na', 'makazi', 'yao', '.', 'Wale', 'ambao', 'tayari', 'wako', 'katika', 'shule', 'za', 'bweni', 'wanapaswa', 'kuhamishwa', 'aliongeza', '.', 'Aliwataka', 'walimu', 'wakuu', 'kuchukua', 'hatua', 'kwa', 'manufaa', 'ya', 'wengi', 'kuliko', 'watu', 'wachache', '.', 'Mashirika', 'ya', 'kutetea', 'haki', 'za', 'binadamu', 'tayari', 'yamesema', 'yatapinga', 'mahakamani', ',', 'utekelezaji', 'wa', 'agizo', 'hilo', 'ambalo', 'wanasema', 'linazuia', 'haki', 'za', 'wanafunzi', '.', 'Mapenzi', 'ya', 'jinsia', 'moja', 'nchini', 'Kenya', 'yanaweza', 'kuadhibiwa', 'kwa', 'hadi', 'miaka', '14', 'jela', '-', 'pingamizi', 'kwa', 'sheria', 'hii', 'ilikataliwa', 'mwaka', 'wa', '2019', '.', 'Bw', 'Magoha', 'pia', 'ameunga', 'mkono', 'wito', 'wa', 'kuwa', 'na', 'vipimo', 'vya', 'lazima', 'vya', 'dawa', 'za', 'kulevya', 'kwa', 'wanafunzi', 'shule', 'zitakapofunguliwa', 'mwaka', 'mpya', 'akisema', 'itasaidia', 'kupunguza', 'visa', 'vya', 'utumizi', 'wa', 'dawa', 'za', 'kulevya', ',', 'ambao', 'alitaja', 'kuwa', 'umekithiri', 'kote', 'nchini', '.', 'Kauli', 'zake', 'zinakuja', 'kufuatia', 'wimbi', 'la', 'hivi', 'majuzi', 'la', 'uchomaji', 'moto', 'wa', 'mabweni', 'na', 'madarasa', 'ya', 'shule', 'mwezi', 'uliopita', 'ambapo', 'taasisi', 'kadhaa', 'zilifungwa', 'kwa', 'muda', 'kabla', 'ya', 'muhula', 'kukamilika', '.', 'Maoni', 'hayo', 'yamezua', 'hisia', 'kali', 'miongoni', 'mwa', 'Wakenya', 'ambao', 'wanamshutumu', 'waziri', 'kwa', 'kutoa', 'maoni', 'ya', 'kibaguzi', 'dhidi', 'ya', 'wanafunzi', 'wa', 'LGBT', '.', 'Waziri', 'huyo', 'anayefahamika', 'kwa', 'kauli', 'zake', 'kali', 'sio', 'mgeni', 'katika', 'mabishano', 'na', 'ameleta', 'mabadiliko', 'kadhaa', 'makubwa', ',', 'ikiwa', 'ni', 'pamoja', 'na', 'kuanzishwa', 'kwa', 'mtaala', 'mpya', 'wenye', 'utata', 'ambao', 'ulibadilisha', 'kabisa', 'sekta', 'ya', 'elimu', 'nchini', 'Kenya']\n",
      "\n",
      " Number of Words:  1610\n"
     ]
    }
   ],
   "source": [
    "file=\"dec31_1.txt\"\n",
    "\n",
    "# calling the function and storing the contents in a text variable \n",
    "text = get_document(\"https://www.bbc.com/swahili/habari-59835609\")\n",
    "\n",
    "# calling the store_ document function \n",
    "store_document(doc=text,name=file)\n",
    "\n",
    "#add the words in this file to the total_corpus_words, to keep count of the number of words in the corpus\n",
    "total_corpus_words+=total_words(file)"
   ]
  },
  {
   "cell_type": "code",
   "execution_count": 43,
   "metadata": {},
   "outputs": [
    {
     "data": {
      "text/plain": [
       "85338"
      ]
     },
     "execution_count": 43,
     "metadata": {},
     "output_type": "execute_result"
    }
   ],
   "source": [
    "total_corpus_words"
   ]
  },
  {
   "cell_type": "code",
   "execution_count": null,
   "metadata": {},
   "outputs": [],
   "source": []
  },
  {
   "cell_type": "markdown",
   "metadata": {},
   "source": [
    "## the year 2022"
   ]
  },
  {
   "cell_type": "code",
   "execution_count": 44,
   "metadata": {},
   "outputs": [
    {
     "name": "stdout",
     "output_type": "stream",
     "text": [
      "['``', 'Ni', 'kwa', 'masikitiko', 'makubwa', 'kwamba', 'asubuhi', 'ya', 'leo', ',', 'Jumapili', 'tarehe', '2', 'Januari', '2022', ',', 'nimepokea', 'taarifa', 'za', 'kuhuzunisha', 'na', 'za', 'kufariki', 'kwa', 'Charles', 'Mugane', 'Njonjo', ',', \"''\", 'Rais', 'Kenyatta', 'amenukuliwa', 'na', 'magazeti', 'ya', 'Kenya', '.', 'Njonjo', ',', 'alikuwa', 'mjumbe', 'pekee', 'aliyebaki', 'katika', 'Baraza', 'la', 'Mawaziri', 'la', 'uhuru', 'wa', 'Kenya', '.', 'Kufariki', 'kwa', 'Mhe', '.', 'Njonjo', 'ni', 'pigo', 'kubwa', 'sio', 'tu', 'kwa', 'familia', 'yake', 'bali', 'kwa', 'Wakenya', 'wote', 'na', 'kwa', 'hakika', ',', 'bara', 'zima', 'la', 'Afrika', 'kwa', 'sababu', 'ya', 'jukumu', 'lake', 'kuu', 'katika', 'kuanzishwa', 'kwa', 'taifa', 'la', 'Kenya', 'wakati', 'wa', 'uhuru', ',', \"''\", 'Rais', 'alisema', '.', 'Chanzo', 'cha', 'picha', ',', 'Kenya', 'state', 'Taarifa', 'kutoka', 'kwa', 'familia', 'zinasema', ',', 'maiti', 'ya', 'aliyekuwa', 'Mwanasheria', 'Mkuu', 'Charles', 'Njonjo', 'tayari', 'imechomwa', 'katika', 'mji', 'wa', 'Kariokor', 'jijini', 'Nairobi', '.', 'Charles', 'Njonjo', 'ni', 'nani', '?', 'Charles', 'Mugane', 'Njonjo', 'alikuwa', 'Mwanasheria', 'Mkuu', 'wa', 'kwanza', 'mzaliwa', 'wa', 'Kenya', 'kati', 'ya', '1963', 'na', '1979', '.', 'Alistaafu', 'kama', 'mwanasheria', 'mkuu', 'akiwa', 'na', 'umri', 'wa', 'miaka', '60', '.', 'Baadaye', 'Njonjo', 'alichaguliwa', 'bila', 'kupingwa', 'katika', 'Bunge', 'la', 'Kitaifa', 'Aprili', '1980', 'kama', 'Mbunge', 'wa', 'Jimbo', 'la', 'Kikuyu', '.', 'Aliyekuwa', 'rais', 'Hayati', 'Daniel', 'Moi', 'alimteua', 'katika', 'Baraza', 'la', 'Mawaziri', 'mnamo', 'Juni', '1980', 'kuhudumu', 'kama', 'Waziri', 'wa', 'masuala', 'ya', 'ndani', 'na', 'Kikatiba', '.']\n",
      "\n",
      " Number of Words:  199\n"
     ]
    }
   ],
   "source": [
    "file=\"jan2.txt\"\n",
    "\n",
    "# calling the function and storing the contents in a text variable \n",
    "text = get_document(\"https://www.bbc.com/swahili/59830848\")\n",
    "\n",
    "# calling the store_ document function \n",
    "store_document(doc=text,name=file)\n",
    "\n",
    "#add the words in this file to the total_corpus_words, to keep count of the number of words in the corpus\n",
    "total_corpus_words+=total_words(file)"
   ]
  },
  {
   "cell_type": "code",
   "execution_count": 45,
   "metadata": {},
   "outputs": [
    {
     "data": {
      "text/plain": [
       "85537"
      ]
     },
     "execution_count": 45,
     "metadata": {},
     "output_type": "execute_result"
    }
   ],
   "source": [
    "total_corpus_words"
   ]
  },
  {
   "cell_type": "code",
   "execution_count": 46,
   "metadata": {},
   "outputs": [
    {
     "name": "stdout",
     "output_type": "stream",
     "text": [
      "['Job', 'Ndugai', ':', 'Maoni', 'mseto', 'yatolewa', 'kuhusu', 'kujizulu', 'kwake', 'kama', 'spika', 'Hatua', 'ya', 'Job', 'Ndugai', 'kujizulu', 'imevutia', 'mesto', 'wa', 'maoni', 'kutoka', 'kwa', 'viongozi', 'na', 'Watanzania', 'kupitia', 'mitandao', 'ya', 'kijamii', 'Huku', 'wengine', 'wakimsifu', 'kwa', 'uamuzi', 'huo', 'ikizingatiwa', 'kwamba', 'tayari', 'alikuwa', 'chini', 'ya', 'shinikizo', ',', 'kunao', 'waliokaribisha', 'uamuzi', 'wake', 'wakionekana', 'kufurahia', 'alichokifanya', 'Ndugai', '.', 'Sauti', 'zilizosikika', 'sana', 'ni', 'kutoka', 'kwa', 'viongozi', 'wa', 'vyama', 'vya', 'upinzani', 'ambao', 'walitoa', 'maoni', 'yao', 'katika', 'mitandao', 'ya', 'kijamii', '.Tundu', 'Lissu', 'wa', 'Chadema', 'amesema', 'kwamba', 'kujiuzulu', 'kwa', 'Ndugai', 'kunaonyesha', 'kwamba', 'kuna', 'mhimili', 'mmoja', 'tu', 'wenye', 'wa', 'dola', '’', 'usihojiwa', 'wala', 'kudhibitiwa', '’', '.', 'Hata', 'hivyo', 'mbunge', 'John', 'Heche', 'wa', 'Chadema', 'alisema', 'haikufaa', 'kufurahiwa', 'kwamba', 'Ndugai', 'amejiuzulu', 'kwa', 'sababu', 'ni', 'hatua', 'iliyosababishwa', 'na', 'mhimili', 'mwingine', 'kwa', 'kiongozi', 'wa', 'bunge', '.', 'Kwa', 'mujibu', 'wa', 'barua', 'aliyomuandikia', 'Katibu', 'Mkuu', 'wa', 'Chama', 'Cha', 'Mapinduzi', '(', 'CCM', ')', 'amesema', 'uamuzi', 'huo', 'wa', 'kuachia', 'nafasi', 'hiyo', 'ameufanya', 'kwa', 'hiari', '.', '``', 'Naomba', 'kutoa', 'taarifa', 'kwa', 'umma', 'wa', 'Watanzania', 'kuwa', 'leo', 'Tarehe', '06', 'Januari', '2022', 'nimeandika', 'barua', 'kwenda', 'kwa', 'Katibu', 'Mkuu', 'wa', 'Chama', 'Cha', 'Mapinduzi', '(', 'CCM', ')', 'kujiuzulu', 'nafasi', 'ya', 'Spika', 'wa', 'bunge', 'la', 'Jamhuri', '..', \"''\", 'imesema', 'sehemu', 'ya', 'taarifa', 'hiyo', 'nakuongeza', ';', '``', 'Pia', 'nakala', 'yangu', 'hiyo', 'ya', 'kujiuzulu', 'nimewasilisha', 'kwa', 'katibu', 'wa', 'Bunge', 'kwa', 'ajili', 'ya', 'hatua', 'stahiki', 'kwa', 'mujibu', 'wa', 'katiba', 'ya', 'nchi', 'na', 'sheria', 'nyingine', \"''\", 'amesema', 'Ndugai', 'kwenye', 'taarifa', 'yake', 'kwa', 'umma', '.', 'China', 'kumteua', 'mjumbe', 'maalum', 'katika', 'Upembe', 'wa', 'Afrika', 'China', 'itamteua', 'mjumbe', 'maalum', 'wa', 'Pembe', 'ya', 'Afrika', 'kusaidia', 'kukabiliana', 'na', 'changamoto', 'za', 'usalama', 'katika', 'eneo', 'hilo', '.', 'Waziri', 'wa', 'mambo', 'ya', 'nje', 'wa', 'China', 'Wang', 'Yi', 'alitoa', 'tangazo', 'hilo', 'siku', 'ya', 'Alhamisi', 'wakati', 'wa', 'mkutano', 'na', 'waandishi', 'wa', 'habari', 'katika', 'mji', 'wa', 'Mombasa', 'nchini', 'Kenya', '.', '``', 'Tutaendelea', 'kutekeleza', 'jukumu', 'kubwa', 'zaidi', 'kwa', 'amani', 'na', 'utulivu', 'katika', 'eneo', 'hili', ',', \"''\", 'Bw', 'Wang', 'alisema', '.', 'Waziri', 'huyo', 'yuko', 'katika', 'ziara', 'ya', 'kutembelea', 'nchi', 'tatu', 'za', 'Afrika', 'mashariki', 'iliyoanzia', 'Eritrea', 'na', 'kuhitimishwa', 'katika', 'kisiwa', 'cha', 'Comoro', 'kilicho', 'katika', 'Bahari', 'ya', 'Hindi', '.', 'Siku', 'ya', 'Jumatano', ',', 'alilaani', 'vikwazo', 'vilivyowekwa', 'dhidi', 'ya', 'Eritrea', ',', 'ambayo', 'kwa', 'muda', 'mrefu', 'imekuwa', 'ikichukuliwa', 'kuwa', 'nchi', 'iliyofeli', 'na', 'mataifa', 'ya', 'Magharibi', '.', 'Marekani', 'iliiwekea', 'Eritrea', 'vikwazo', 'mwaka', 'jana', 'kutokana', 'na', 'kuhusika', 'katika', 'mzozo', 'wa', 'Ethiopia', '.', 'Ziara', 'ya', 'waziri', 'wa', 'China', 'katika', 'eneo', 'hilo', 'inasadifiana', 'na', 'ziara', 'ya', 'mjumbe', 'maalum', 'wa', 'Marekani', 'katika', 'Pembe', 'ya', 'Afrika', ',', 'Jeffrey', 'Feltman', ',', 'ambaye', 'anatatarajiwa', 'kuwasili', 'nchini', 'Ethiopia', 'siku', 'ya', 'Alhamisi', 'kuzungumzia', 'vita', 'vya', 'wenyewe', 'kwa', 'wenyewe', 'vilivyodumu', 'kwa', 'miezi', '14', 'katika', 'eneo', 'la', 'kaskazini', 'mwa', 'nchi', 'hiyo', '.', 'Wanajeshi', '12', 'wa', 'vikosi', 'vya', 'usalama', 'wameuawa', 'na', 'wengine', '353', 'kujeruhiwa', 'katika', 'machafuko', 'hayo', ',', 'yaliyosababishwa', 'na', 'kuongezeka', 'maradufu', 'kwa', 'gharama', 'ya', 'gesi', 'ya', 'kupikia', '(', 'LPG', ')', '.', 'Urusi', 'inatuma', 'wanajeshi', 'kwa', 'ombi', 'la', 'rais', 'wa', 'Kazakhstan', '.', 'Watatumwa', 'kusaidia', '``', 'kuweka', 'utulivu', \"''\", 'nchi', ',', 'ambayo', 'ni', 'mwanachama', 'wa', 'Shirika', 'la', 'Mkataba', 'wa', 'Usalama', 'wa', 'Pamoja', '(', 'CSTO', ')', 'na', 'Urusi', ',', 'Belarus', ',', 'Tajikistan', ',', 'Kyrgyzstan', 'na', 'Armenia', '.', 'CSTO', 'ilithibitisha', 'askari', 'wa', 'miamvuli', 'wa', 'Urusi', 'walikuwa', 'wakitumwa', 'kama', 'walinzi', 'wa', 'amani', ',', 'na', 'vitengo', 'vya', 'mapema', 'tayari', 'vimetumwa', ',', 'na', 'picha', 'zilizotolewa', 'na', 'vyombo', 'vya', 'habari', 'vya', 'Urusi', 'zilionyesha', 'askari', 'wakipanda', 'ndege', 'ya', 'usafirishaji', 'ya', 'kijeshi', '.', 'Maandamano', 'yalianza', 'siku', 'ya', 'Jumapili', 'wakati', 'serikali', 'ilipoondoa', 'bei', 'yake', 'ya', 'kikomo', 'ya', 'LPG', ',', 'ambayo', 'watu', 'wengi', 'hutumia', 'mafuta', 'ya', 'magari', 'yao', ',', 'lakini', 'machafuko', 'hayo', 'yameenea', 'na', 'kujumuisha', 'malalamiko', 'ya', 'kisiasa', '.', 'Zoezi', 'la', 'uokoaji', 'Pemba', 'limesitishwa', 'Uamuzi', 'huo', 'umekuja', 'baada', 'ya', 'kiongozi', 'wa', 'timu', 'ya', 'kikosi', 'cha', 'wapiga', 'mbizi', 'KMKM', 'Kasim', 'Khalfan', 'kuthibitisha', 'kuwa', 'taarifa', 'za', 'sasa', 'hazioneshi', 'ushahidi', 'wa', 'watu', 'waliopotea', 'majini', '.', 'Usiku', 'wa', 'kwanza', 'miili', 'kumi', 'ilipatikana', 'na', 'watu', 'kumi', 'waliokolewa', '.', 'Hata', 'hivyo', 'siku', 'ya', 'pili', 'timu', 'ya', 'uokoaji', 'haikumpata', 'mtu', 'mwingine', 'yeyote', '.', 'Mamlaka', 'za', 'eneo', 'hilo', 'ziliulizwa', 'kuripoti', 'ikiwa', 'kuna', 'watu', 'wengine', 'zaidi', 'waliopotea', 'na', 'hakuna', 'yeyote', 'mpaka', 'sasa', '.', 'BBCCopyright', ':', 'BBC', 'Familia', 'zilizopoteza', 'wapendwa', 'wao', 'bado', 'zinaendelea', 'kuomboleza', 'na', 'miili', 'yote', 'kumi', 'imezikwa', 'tayari', '.', 'Kwa', 'mujibu', 'wa', 'walionusurika', 'wanasema', 'injini', 'ilizima', 'mara', 'mbili', 'kisha', 'boti', 'ikaanza', 'kuzama', '.', 'Amour', 'Nassor', 'alikuwa', 'kwenye', 'boti', 'hiyo', 'na', 'anasema', 'alimuona', 'mpwa', 'wake', 'akiomba', 'msaada', 'kabla', 'hajafariki', '.', 'Wananchi', 'wa', 'eneo', 'hilo', 'hawajafurahishwa', 'na', 'kitengo', 'cha', 'uokoaji', 'cha', 'KMKM', 'kwa', 'kuwa', 'walichelewa', 'kufika', 'licha', 'ya', 'kituo', 'chao', 'kuwa', 'karibu', 'na', 'watu', 'wengi', 'waliokolewa', 'na', 'wanakijiji', 'wanaojua', 'kuogelea', 'katika', 'eneo', 'hilo', '.', 'Papa', 'Francis', 'alisema', 'kwamba', 'watu', 'ambao', 'hawawezi', 'kupata', 'watoto', 'kwa', 'sababu', 'za', 'kibaiolojia', 'wanapaswa', 'kuzingatia', 'kuasili', ',', 'na', 'kuwataka', 'watu', '``', 'wasiogope', \"''\", 'kuwa', 'wazazi', '.', 'Pia', 'alizungumza', 'juu', 'ya', '``', 'msimu', 'wa', 'baridi', 'huku', 'idadi', 'ya', 'watu', 'isiyotaka', 'kupata', 'watoto', 'ikiongezeka', '-', '``', 'tunaona', 'kwamba', 'watu', 'hawataki', 'kupata', 'watoto', 'zaidi', 'na', 'zaidi.', \"''\", '.', 'Si', 'mara', 'ya', 'kwanza', 'kwa', 'Papa', 'Francis', 'kulenga', 'watu', 'wanaochagua', 'kuwapenda', 'wanyama', 'badala', 'ya', 'watoto', '.', 'Mnamo', 'mwaka', 'wa', '2014', ',', 'alisema', 'kuwa', 'na', 'mapenzi', 'na', 'wanyama', 'badala', 'ya', 'watoto', 'lilikuwa', '``', 'jambo', 'jingine', 'la', 'uharibifu', 'wa', 'kitamaduni', \"''\", ',', 'na', 'kwamba', 'uhusiano', 'wa', 'kihisia', 'na', 'wanyama', 'ulikuwa', '``', 'rahisi', \"''\", 'kuliko', 'uhusiano', 'kati', 'ya', 'wazazi', 'na', 'watoto', 'Magereza', 'ya', 'Liberia', 'yaishiwa', 'na', 'chakula', 'cha', 'wafungwa', 'Magereza', 'yote', '15', 'nchini', 'Liberia', 'wiki', 'hii', 'yameishiwa', 'na', 'chakula', 'cha', 'wafungwa', '.', 'Hii', 'imesababisha', 'magereza', 'mawili', ',', 'ikiwa', 'ni', 'pamoja', 'na', 'Gereza', 'Kuu', 'la', 'Monrovia', ',', 'kusitisha', 'kwa', 'muda', 'kuwapokea', 'wafungwa', 'wapya', 'muda', ',', 'maafisa', 'wa', 'magereza', 'wamesema', '.', 'Hali', 'hiyo', 'imechangiwa', 'na', 'masuala', 'kadahaa', 'ikiwemo', 'kucheleweshwa', 'kwa', 'fedha', 'za', 'chakula', 'na', 'usimamizi', 'wa', 'magereza', '.', 'Lakini', 'mkurugenzi', 'wa', 'magereza', ',', 'Sainleseh', 'Kwaidah', ',', 'ameambia', 'BBC', 'siku', 'ya', 'Jumatatu', 'kwamba', 'serikali', 'ilikuwa', 'inafanya', 'kila', 'iwezekanavyo', 'kushughulikia', 'suala', 'hilo', '.', 'Alisema', 'baada', 'ya', 'hatua', 'kuchukuliwa', 'magereza', 'mawili', 'ambayo', 'yalikuwa', 'yamesitisha', 'kuwapokea', 'wafungwa', 'yalifunguliwa', 'na', 'vyakula', 'vinapelekwa', 'katika', 'magereza', 'mengine', 'yaliyosalia', '.', 'Askari', 'magereza', 'aliiambia', 'BBC', 'kuwa', 'magereza', 'yamefunga', 'milango', 'ili', 'kuzuia', 'kuwaweka', 'watu', 'zaidi', 'hatarini', 'kwa', 'sababu', 'ya', 'uhaba', 'wa', 'chakula', '.', 'Alisema', 'pia', 'kuna', 'uwezekano', 'kwamba', 'wafungwa', 'wenye', 'hasira', 'wanaweza', 'kupanga', 'njama', 'ya', 'kutoroka', 'jela', 'Maafisa', 'wa', 'magereza', 'katika', 'siku', 'za', 'hivi', 'majuzi', 'wamekosoa', 'jinsi', 'serikali', 'inavyoshughulikia', 'masuala', 'ya', 'vituo', 'hivyo', 'vya', 'kurekebisha', 'tabia', 'vilivyojaa', 'watu', '.', 'Habari', '...', 'karibu', 'katika', 'matangazo', 'ya', 'moja', 'ya', 'ukurasa', 'wa', 'BBC', 'Swahili', 'leo', 'ikiwa', 'Alhamisi', '06/01/2022', 'Maelezo', 'zaidi', 'kuhusu', 'taarifa', 'hii', 'Tanzania', 'bado', 'ipo', 'katika', 'mjadala', 'mkali', 'kufuatia', 'matamshi', 'ya', 'Rais', 'wa', 'nchi', 'hiyo', ',', 'Samia', 'Suluhu', 'Hassan', 'kuwa', 'anakusudia', 'kufanya', 'mabadiliko', 'ya', 'baraza', 'la', 'mawaziri', 'hivi', 'karibuni', ',', 'ili', 'kuwaondoa', 'wale', 'wote', 'wanaojishughulisha', 'zaidi', 'na', 'siasa', 'za', 'uchaguzi', 'wa', '2025', 'hivyo', 'kudumaza', 'utendaji', 'wa', 'serikali', 'yake', '.', 'Utajiri', 'wa', 'pamoja', 'wa', '``', 'matajiri', 'wa', 'kupindukia', \"''\", 'ulifikia', 'rekodi', 'ya', 'kihistoria', 'ya', 'dola', 'za', 'Marekani', 'trilioni', '8.4', ',', 'kiasi', 'kikubwa', 'zaidi', 'kuliko', 'ukubwa', 'wa', 'uchumi', 'wa', 'mataifa', 'makubwa', 'kama', 'vile', 'Japan', ',', 'Ujerumani', 'au', 'Uingereza', ',', 'na', 'Pato', 'la', 'Taifa', 'kwa', 'pamoja', '.']\n",
      "\n",
      " Number of Words:  1106\n"
     ]
    }
   ],
   "source": [
    "file=\"jan6.txt\"\n",
    "\n",
    "# calling the function and storing the contents in a text variable \n",
    "text = get_document(\"https://www.bbc.com/swahili/live/59890904\")\n",
    "\n",
    "# calling the store_ document function \n",
    "store_document(doc=text,name=file)\n",
    "\n",
    "#add the words in this file to the total_corpus_words, to keep count of the number of words in the corpus\n",
    "total_corpus_words+=total_words(file)"
   ]
  },
  {
   "cell_type": "code",
   "execution_count": 47,
   "metadata": {},
   "outputs": [
    {
     "data": {
      "text/plain": [
       "86643"
      ]
     },
     "execution_count": 47,
     "metadata": {},
     "output_type": "execute_result"
    }
   ],
   "source": [
    "total_corpus_words"
   ]
  },
  {
   "cell_type": "code",
   "execution_count": 48,
   "metadata": {},
   "outputs": [
    {
     "name": "stdout",
     "output_type": "stream",
     "text": [
      "['Barua', 'kutoka', 'Afrika', ':', 'Jinsi', 'KFC', 'nchini', 'Kenya', 'ilivyokaangwa', 'kuhusu', 'uhaba', 'wa', 'chipsi', '8', 'Januari', '2022', 'Maelezo', 'ya', 'picha', ',', 'KFC', 'ilifunguliwa', 'Kenya', 'mwaka', 'wa', '2011', 'Katika', 'mfululizo', 'wetu', 'wa', 'barua', 'kutoka', 'kwa', 'wanahabari', 'wa', 'Kiafrika', ',', 'mtangazaji', 'wa', 'Kenya', 'Waihiga', 'Mwaura', 'anaandika', 'kuhusu', 'kile', 'ambacho', 'mzozo', 'wa', 'hivi', 'majuzi', 'kuhusu', 'uhaba', 'wa', 'chipsi', 'za', 'KFC', 'unasema', 'kuhusu', 'kilimo', 'nchini', 'mwake', '.', 'Ninapohitaji', 'kujiongezea', 'kalori', 'za', 'haraka', 'ninapopata', 'muda', 'katika', 'ratiba', 'yangu', 'ya', 'shughuli', 'nyingi', 'unaweza', 'kunipata', 'mara', 'kwa', 'mara', 'nikibugia', 'mlo', 'wa', 'KFC', '.', 'Kula', 'chipsi', 'hizi', 'kunaweza', 'kuibua', 'hisia', 'ambazo', 'hata', 'wewe', 'mwenyewe', 'huzijui', 'kwa', 'sababu', 'ya', 'miaka', 'mingi', 'ya', 'matangazo', 'ya', 'kampuni', 'za', 'kimataifa', '.', 'Lakini', 'kamwe', 'sijawahi', 'kufikiria', 'kitendo', 'hicho', 'kama', 'kauli', 'ya', 'kisiasa', 'au', 'kiuchumi', 'kuhusu', 'biashara', 'ya', 'kilimo', 'duniani', 'na', 'nafasi', 'ya', 'Kenya', 'ndani', 'yake', '.', 'Wiki', 'hii', 'hata', 'hivyo', ',', 'manunuzi', 'ya', 'bidhaa', 'kutoka', 'masoko', 'ya', 'kimataifa', 'hadi', 'humu', 'nchini', 'imekuwa', 'mada', 'kuu', 'hapa', 'kwani', 'KFC', 'ilisema', 'haikuweza', 'kutoa', 'chipisi', 'kwa', 'vile', 'haikuweza', 'kuagiza', 'viazi', 'vyake', 'kutoka', 'Misri', '.', 'Badala', 'yake', ',', 'wateja', 'walikuwa', 'wakipewa', 'vyakula', 'mbadala', 'kama', 'vile', 'ugali', '-', 'Chakula', 'ambachp', 'watu', 'wengi', 'hawaendi', 'KFC', 'kukila', '.', 'Kampuni', 'hiyo', 'haitoi', 'viazi', 'ndani', 'ya', 'nchi', ',', 'licha', 'ya', 'kwamba', 'vinakuzwa', 'kwa', 'wingi', 'na', 'wakulima', 'kulazimika', 'kuviuza', 'kwa', 'bei', 'ya', 'chini', '.', 'Viazi', 'ambavyo', 'ni', 'salama', 'kula', 'Viazi', ',', 'kwa', 'hakika', ',', 'ni', 'zao', 'la', 'pili', 'kwa', 'kuliwa', 'nchini', 'Kenya', 'baada', 'ya', 'mahindi', ',', 'na', 'hulimwa', 'zaidi', 'na', 'wakulima', 'wadogo', '.', 'Tatizo', ',', 'inaonekana', ',', 'lilikuwa', 'kwamba', 'wasambazaji', 'wa', 'ndani', 'watarajiwa', 'hawakupitia', 'mchakato', 'wa', 'uhakikisho', 'wa', 'ubora', 'wa', 'KFC', 'ambao', 'unahakikisha', '``', 'chakula', 'chetu', 'ni', 'salama', 'kwa', 'matumizi', 'ya', 'wateja', 'wetu', \"''\", ',', 'afisa', 'mkuu', 'mtendaji', 'wa', 'kampuni', 'hiyo', 'Afrika', 'Mashariki', 'Jacques', 'Theunissen', 'aliambia', 'gazeti', 'la', 'Standard', '.', 'Chanzo', 'cha', 'picha', ',', 'Getty', 'Images', 'Maelezo', 'ya', 'picha', ',', 'Wakenya', 'wanapenda', 'chips', 'zao', 'lakini', 'huenda', 'hawapendi', 'kulima', 'viazi', 'Hata', 'hivyo', 'alisema', 'kwamba', 'viungo', 'vingine', '-', 'hulinunuliwa', 'kwenye', 'soko', 'la', 'Kenya', 'na', 'kampuni', 'hiyo', 'imesema', 'imejitolea', 'kutetea', 'bidhaa', 'za', 'humu', 'nchini', '.', 'Ongeza', 'hasira', 'katika', 'mitandao', 'ya', 'kijamii', ',', 'wito', 'wa', 'kususia', 'kampuni', 'hiyo', 'na', 'hatimaye', 'kuahidi', 'kuwa', 'itatafuta', 'msambazaji', 'anayefaa', 'kutoka', 'Kenya', 'kuiletea', 'viazi', '.', 'Hata', 'hivyo', ',', 'wapinzani', 'walikuwa', 'wepesi', 'kutumia', 'fursa', 'hiyo', '.', 'Chicken', 'Inn', 'ilitoa', 'tangazo', 'na', 'mwanamume', 'anayetabasamu', 'akibugia', 'kifurushi', 'cha', 'chipsi', '-', 'zote', 'kutoka', 'viazi', 'vya', 'humu', 'nchini', 'bila', 'shaka', '.', 'Burger', 'King', 'pia', 'ilisema', 'ilikuwa', 'na', 'chipsi', 'za', 'kutosha', '.', 'Ingawa', 'kampuni', 'hizi', 'zingine', 'zinaweza', 'kupata', 'vyanzo', 'mbadala', 'vya', 'viazi', ',', 'haijabainika', 'haswa', 'kwa', 'nini', 'baada', 'ya', 'miaka', '11', 'ya', 'kuwa', 'nchini', ',', 'KFC', 'haijapata', 'msambazaji', 'anayekidhi', 'viwango', 'vyake', '.', 'Wataalamu', 'wanasema', 'kuwa', 'gharama', 'za', 'leba', 'na', 'nyinginezo', 'za', 'kilimo', 'ni', 'nafuu', 'nchini', 'Uganda', ',', 'na', 'hivyo', 'kufanya', 'bidhaa', 'kuwa', 'nafuu', 'zaidi', 'kuliko', 'inayozalishwa', 'hapa', '.', 'Lakini', 'pia', 'inaweza', 'kuwa', 'suala', 'la', 'mtazamo', '.', 'Nchini', 'Uganda', 'nimegundua', 'kuwa', 'kilimo', 'kinakubaliwa', 'na', 'watu', 'wote', ',', 'ilhali', 'nchini', 'Kenya', 'watu', 'wengi', 'wanaonekana', 'kutaka', 'kazi', 'za', 'ofisi', '.', 'Nilipokuwa', 'nikishughulikia', 'uchaguzi', 'wa', 'mwaka', 'jana', 'nchini', 'Uganda', 'nilihoji', 'watu', 'wengi', 'mashuhuri', 'ambao', 'wote', 'waliishi', 'nje', 'ya', 'mji', 'mkuu', ',', 'Kampala', ',', 'kwenye', 'maeneo', 'makubwa', 'ya', 'ardhi', 'ambako', 'walilima', 'chakula', 'chao', 'wenyewe', '.', 'Iwapo', 'viongozi', 'hao', 'hao', 'wangeishi', 'Kenya', ',', 'pengine', 'wangeishi', 'katika', 'mashamba', 'yenye', 'lango', 'na', 'kilimo', 'kidogo', 'kwenye', 'sehemu', 'hizo', 'Ni', 'hali', 'hiyo', 'hiyo', 'ukiangalia', 'biashara', 'ya', 'Kenya', 'na', 'Tanzania', '-', 'jirani', 'yetu', 'upande', 'wa', 'kusini', '.', 'Mtazamo', 'hasi', 'kuhusu', 'kilimo', 'pamoja', 'na', 'sekta', 'iliyojaa', 'rushwa', 'inamaanisha', 'kwamba', 'hakuna', 'mtu', 'anayeshangaa', 'samaki', 'wanapoagizwa', 'kutoka', 'China', ',', 'sukari', 'kutoka', 'Brazili', 'au', 'tumbaku', 'kutoka', 'Uturuki', '.', 'Huenda', 'Kenya', 'isiweze', 'kushindana', 'kwa', 'muda', 'mfupi', 'linapokuja', 'suala', 'la', 'gharama', 'za', 'uzalishaji', '.', 'Lakini', 'kuna', 'fursa', 'kwa', 'Kenya', 'kuwa', 'kituo', 'cha', 'kikanda', 'cha', 'usindikaji', 'wa', 'chakula', ',', 'na', 'hivyo', 'kuongeza', 'thamani', 'ya', 'bidhaa', '.', 'Kuweza', 'kusambaza', 'viazi', 'vilivyochongwa', 'kwa', 'KFC', 'ni', 'mfano', 'mmoja', 'wa', 'kile', 'kinachoweza', 'kutolewa', 'ili', 'kukuza', 'soko', 'la', 'ndani', '.', 'Kwa', 'bahati', 'mbaya', ',', 'shughuli', 'nyingi', 'zinazofanyika', 'nchini', 'Kenya', 'kuhusu', 'usindikaji', 'zinafanywa', 'na', 'makampuni', 'ya', 'kigeni', 'yanayofadhiliwa', 'na', 'mtaji', '.', 'Faida', 'huishia', 'kuondoka', 'nchini', '.', 'Huku', 'uchaguzi', 'ukikaribia', 'mwezi', 'wa', 'Agosti', ',', 'wagombeaji', 'wamekuwa', 'wakitoa', 'ahadi', 'za', 'ajira', ',', 'lakini', 'hatujasikia', 'mengi', 'kuhusu', 'jinsi', 'ya', 'kufufua', 'sekta', 'hii', 'ya', 'biashara', 'ya', 'kilimo', '.', 'Na', 'wachache', 'wa', 'wabunge', 'wetu', 'watarajiwa', 'wanaweza', 'kuwa', 'hawako', 'tayari', 'kukabiliana', 'na', 'makundi', 'maslahi', 'na', 'utepetevu', 'katika', 'sekta', 'ambayo', 'hapo', 'awali', 'ililisha', 'nchi', '.', 'Mabadiliko', 'yanaweza', 'kuwa', 'polepole', '-', 'na', 'wakati', 'huo', 'huo', ',', 'ninapozila', 'chipsi', 'za', 'KFC', 'sasa', 'nitakengeushwa', 'na', 'mawazo', 'kuhusu', 'biashara', 'ya', 'kimataifa', '.']\n",
      "\n",
      " Number of Words:  727\n"
     ]
    }
   ],
   "source": [
    "file=\"jan8.txt\"\n",
    "\n",
    "# calling the function and storing the contents in a text variable \n",
    "text = get_document(\"https://www.bbc.com/swahili/habari-59919489\")\n",
    "\n",
    "# calling the store_ document function \n",
    "store_document(doc=text,name=file)\n",
    "\n",
    "#add the words in this file to the total_corpus_words, to keep count of the number of words in the corpus\n",
    "total_corpus_words+=total_words(file)"
   ]
  },
  {
   "cell_type": "code",
   "execution_count": 49,
   "metadata": {},
   "outputs": [
    {
     "data": {
      "text/plain": [
       "87370"
      ]
     },
     "execution_count": 49,
     "metadata": {},
     "output_type": "execute_result"
    }
   ],
   "source": [
    "total_corpus_words"
   ]
  },
  {
   "cell_type": "code",
   "execution_count": 50,
   "metadata": {},
   "outputs": [
    {
     "name": "stdout",
     "output_type": "stream",
     "text": [
      "['Kwanini', 'ukosefu', 'wa', 'hivi', 'karibuni', 'wa', 'umeme', 'Kenya', 'umeibua', 'maswali', 'zaidi', '?', '13', 'Januari', '2022', 'Maelezo', 'ya', 'picha', ',', 'Mtambo', 'wa', 'umeme', 'Jumanne', 'Kenya', 'ilikumbwa', 'na', 'ukosefu', 'wa', 'umeme', 'kote', 'nchini', ',', 'ambao', 'ni', 'mbaya', 'zaidi', 'kuwahi', 'kushudia', 'katika', 'miaka', 'ya', 'hivi', 'karibuni', 'ambao', 'uliliacha', 'taifa', 'gizani', '.', 'Ni', 'ni', 'mara', 'ya', 'tatu', 'kwa', 'taifa', 'hilo', 'kukosa', 'umeme', 'katika', 'kipindi', 'cha', 'miaka', 'minne', ',', 'na', 'suala', 'hili', 'limeibua', 'maswali', 'kuhusu', 'uwezo', 'wa', 'ukiritimba', 'wa', 'msambazaji', 'pekee', 'wa', 'umeme', 'katika', 'taifa', 'hilo', 'wa', 'kampuni', 'Kenya-Kenya', 'Power', 'and', 'Lighting', 'company', 'wa', 'kusambaza', 'nishati', 'hiyo', 'katika', 'taifa', 'hilo', 'bila', 'kuyumba', '.', 'Taarifa', 'iliyotolewa', 'na', 'kampuni', 'hiyo', 'Jumanne', ',', 'ililaumu', 'ukosefu', 'wa', 'umeme', '(', 'stima', ')', 'kwa', 'kuporomoka', 'kwa', 'nguzi', 'za', 'PYLONS', 'zinazosaidia', 'mfumo', 'wa', 'kiwango', 'cha', 'juu', 'cha', 'umeme', 'unaounganisha', 'mji', 'wa', 'Nairobi', 'na', 'bwawa', 'la', 'umeme', 'la', 'Kiambere', 'lililopo', 'Kati', 'kati', 'mwa', 'Kenya', '.', 'Ukiritimba', 'haukufichua', 'kwa', 'umma', 'ni', 'nini', 'kilichosababisha', 'kuanguka', 'kwa', 'minara', 'hiyo', 'ya', 'umeme', ',', 'lakini', 'duru', 'za', 'ndani', 'ya', 'kampuni', 'hiyo', 'zilisema', 'kuwa', 'viashiria', 'vya', 'kwanza', 'vilioonyesha', 'uwezekano', 'wa', 'wizi', 'wa', 'miundo', 'mbinu', 'ya', 'usambazaji', 'wa', 'umeme', 'mjini', 'Nairobi', '.', 'Hujuma', 'au', 'kushindwa', '?', 'Ukosefu', 'wa', 'umeme', 'unakuja', 'huku', 'kukiwa', 'na', 'mabadiliko', 'makubwa', 'katika', 'wizara', 'ya', 'nishati', '.', 'Mwezi', 'Septemba', '2021', ',', 'Rais', 'uhuru', 'Kenyatta', 'aliwahamisha', 'mawaziri', 'wote', 'Charles', 'Keter', 'na', 'naibu', 'wake', 'Mhandisi', 'Joseph', 'Njoroge', 'katika', 'wizara', 'ya', 'nishati', 'na', 'kuwapeleka', 'katika', 'wizara', 'nyingine', 'katika', 'mabadiliko', 'ya', 'baraza', 'la', 'mawaziri', 'ambayo', 'yalionekana', 'kama', 'jibu', 'la', 'changamoto', 'ndani', 'ya', 'sekta', 'hiyo', 'ya', 'nishati', '.', 'Maafisa', 'wapya', 'waliochukua', 'uongozi', 'wakiongozwa', 'na', 'Waziri', 'Monica', 'Juma', 'na', 'msaidizi', 'wake', 'Gordon', 'Kihalangwa', ',', 'wanaangaliwa', 'na', 'wengi', 'kuwa', 'watu', 'wa', 'Rais', 'waliopewa', 'Jukumu', 'na', 'Bw', 'Uhuru', 'Kenyatta', 'kutekeleza', 'mageuzi', 'makali', 'katika', 'sekta', 'hiyo', ',', 'miongoni', 'mwa', 'mambo', 'mengine', ',', 'ikiwa', 'ni', 'pamoja', 'na', 'kupunguza', 'garama', 'ya', 'umeme', 'kwa', 'asilimia', '15', 'katika', 'kipindi', 'cha', 'miezi', 'mitatu', '.', 'Akiwa', 'mbele', 'ya', 'tume', 'ya', 'bunge', 'ya', 'masuala', 'ya', 'umma', ',', 'katibu', 'mkuu', 'wa', 'wizara', 'ya', 'nishati', 'Gordon', 'Kihalangwa', 'alionya', 'kwamba', 'kutakuwa', 'na', 'mabadiliko', 'katika', 'kampuni', 'ya', 'umeme', 'ya', 'Kenya', 'ili', 'kutoa', 'fursa', 'ya', 'mageuzi', '.', 'Kihalangwa', 'alisema', 'kuwa', 'hatua', 'hiyo', 'inaashiria', 'kwamba', 'uhalifu', 'ulifanyika', 'wakati', 'makubaliano', 'ya', 'ununuzi', 'wa', 'nishati', 'yalipoandaliwa', '.', 'Chanzo', 'cha', 'picha', ',', 'KENGEN', 'KENYA', 'Vyanzo', 'katika', 'ndani', 'ya', 'wizara', 'vinaashiria', 'kuwa', 'wakuu', 'wa', 'idara', 'mbali', 'mbali', 'wamekuwa', 'wakilazimishwa', 'kujiuzulu', 'huku', 'wengine', 'wakichagua', 'kustaafu', 'mapema', 'ili', 'kukwepa', 'wimbi', 'la', 'mageuzi', 'katika', 'wizara', 'hiyo', 'linaloweza', 'kuwatupa', 'nje', '.', 'Kikosi', 'kazi', 'cha', 'Rais', 'juu', 'ya', 'mapatano', 'ya', 'ununuzi', 'wa', 'nishati', 'kilipendekeza', 'IPP', 'ipunguze', 'ushuru', 'wao', 'uliolipwa', 'na', 'Mmalaka', 'ya', 'umeme', 'ya', 'Kenya', '-Kenya', 'Power', 'kwa', 'kiwango', 'cha', 'nusu', 'ili', 'kuambatana', 'na', 'viwango', 'vya', 'bei', 'za', 'kampuni', 'ya', 'KenGen', '.', 'Katika', 'hatua', 'ambazo', 'zitaokoa', 'mabilioni', 'ya', 'shilingi', 'ya', 'wanunuzi', ',', 'kikosi', 'kazi', 'pia', 'kitashauri', 'kwamba', 'mapatano', 'yote', 'ya', 'ununuzi', 'wa', 'umeme', 'ambayo', 'kwa', 'sasa', 'yanasubiri', 'kusainiwa', 'yaahirishwe', '.', 'Katika', 'taarifa', 'iliyotolewa', 'kwenye', 'gazeti', 'la', 'serikali', 'ya', 'tarehe', '7', 'Januari', ',', '2022', ',', 'Wizara', 'ya', 'nishati', 'ilithibitisha', 'kwamba', 'ilikwisha', 'tekeleza', 'punguzo', 'la', '15', '%', 'la', 'ushuru', 'wa', 'nishati', 'ya', 'umeme', '(', 'stima', ')', '.', 'Kupunguzwa', 'kwa', 'nishati', 'na', 'kuangaliwa', 'upya', 'kwa', 'makubaliano', 'ya', 'ununuzi', 'wa', 'umeme', 'huenda', 'kulikata', 'mbawa', 'za', 'baadhi', 'ya', 'watu', 'katika', 'wizara', 'ambao', 'hawajafurahia', 'sana', 'kuona', 'mabadiliko', 'hayo', '.', 'Ukiritimba', 'unaohangaika', 'Kuanzia', 'ukosefu', 'wa', 'mara', 'kwa', 'mara', 'wa', 'umeme', 'na', 'kucheleweshwa', 'kwa', 'juhusi', 'za', 'kurejeshwa', 'kwa', 'umeme', ',', 'kuongezeka', 'kwa', 'garama', 'za', 'umeme', 'na', 'muda', 'mrefu', 'wa', 'kuwaunganisha', 'wateja', 'wapya', 'katika', 'mfumo', 'wa', 'umeme', 'wa', 'taifa', '.', 'Kenya', 'Power', 'imekuwa', 'ikionyesha', 'kuzorota', 'katika', 'utekelezaji', 'wa', 'majukumu', 'yake', '.', 'Wakenya', 'hawaridhishwi', 'tena', 'na', 'malalamiko', 'tu', 'bali', 'weamekuwa', 'wakiipatia', 'kampuni', 'hiyo', 'majina', 'ya', 'kejeli', 'kama', 'vile', '``', 'Kenya', 'Paraffin', 'and', 'Candles', 'Limited', \"''\", 'au', 'kuikejeli', 'kwa', 'majina', 'kama', \"'Mpango\", 'Wa', 'Candle', \"'\", 'wakati', 'umeme', 'unapotoweka', '.', 'Kampuni', 'hiyo', 'imekuwa', 'ikitumbukia', 'katika', 'shio', 'la', 'madeni', '.', 'Imejikuta', 'ikiwa', 'na', 'madeni', 'kutoka', 'katika', 'taasisi', 'za', 'kimataifa', 'kama', '-', 'Shirika', 'la', 'kimataifa', 'la', 'maendeleo', '(', 'IDA', ')', ',', 'Benki', 'ya', 'uchina', 'Exim', 'Bank', ',', 'na', 'benki', 'ya', 'maendeleo', 'ya', 'Japan', ',', 'yaliyodhaminiwa', 'na', 'serikali', 'na', 'kwahiyo', 'kulipwa', 'na', 'serikali', '.', 'Taarifa', 'kutoka', 'ndani', 'ya', 'Kenya', 'Power', 'zinaonyesha', 'kuwa', 'kwa', 'mikopo', 'wa', 'upangaji', 'inachukua', 'asilimia', '48.4', 'ya', 'Shilingi', 'bilioni', '109.96', 'za', 'madeni', 'iliyyokuwa', 'nayo', 'kufikia', 'mwishoni', 'mwa', 'mwezi', 'Juni', 'mwaka', 'jana', ',', 'hii', 'ikionyesha', 'utegemezi', 'wake', 'wa', 'deni', 'katika', 'kuendesha', 'shuguli', 'zake', '.', 'Makampuni', 'husika', 'yamekuwa', 'katika', 'sakata', 'za', 'kifedha', 'zinazohusisha', 'ununuzi', '.', 'Ripoti', 'ya', 'awali', 'ya', 'ukaguzi', ',', 'kwa', 'mfano', 'inaonyesha', 'kuwa', 'Kenya', 'Power', 'ilishikilia', 'karibu', 'vifaa', 'vya', 'thamani', 'ya', 'shilingi', 'bilioni', '9.8', ',', 'ikiwa', 'ni', 'pamoja', 'na', 'nyaya', 'za', 'umeme', ',', 'mita', ',', 'na', 'transfoma', 'ambazo', 'zimekuwa', 'katika', 'hifadhi', 'kwa', 'zaidi', 'ya', 'miaka', 'mitano', ',', 'bila', 'kutumika', '.', 'Kuhesabu', 'hasara', 'Ukosefu', 'wa', 'umeme', 'ulikuja', 'baada', 'ya', 'Mamlaka', 'ya', 'usimamizi', 'wa', 'nishati', 'na', 'petroli', '(', 'Epra', ')', 'inataka', 'kuwalipa', 'wanunuzi', 'kwa', 'hasara', 'ya', 'fedha', ',', 'uharibifu', 'wa', 'vifaa', ',', 'kuumia', 'mwili', ',', 'na', 'kifo', 'kutokana', 'na', 'ukosefu', 'wa', 'umeme', '.', 'Kwa', 'sasa', ',', 'Kenya', 'Power', 'inalipa', 'fidia', 'kwa', 'majeruhi', 'na', 'uharibifu', 'wa', 'vifaa', 'vya', 'umeme', ',', 'lakini', 'hailipi', 'hasara', 'za', 'kifedha', 'kwasababu', 'ya', 'kukata', 'mawasiliano', 'ya', 'umeme', '.', 'Mapendezo', 'ya', 'sheria', 'yataiwezesha', 'Kenya', 'ktumia', 'mfumo', 'unaotumiwa', 'na', 'nchi', 'nyingi', 'za', 'Ulaya', 'ambazo', 'zinahitaji', 'fidia', 'za', 'kukatwa', 'kwa', 'umeme', 'kwa', 'muda', 'mrefu', 'iwapo', 'yatakuwa', 'sheria', '.', 'Ingawa', 'hasara', 'ilitokea', 'kutokana', 'ukosefu', 'wa', 'umeme', 'haijathamanishwa', ',', 'biashara', 'nyingi', 'zinazotegemea', 'umeme', ',', 'vikiwemo', 'viwanda', 'na', 'hata', 'biashara', 'ndogo', 'kama', 'vile', 'maduka', 'ya', 'vifaa', 'vya', 'ujenzi', 'na', 'saluni', 'zote', 'zilihesabu', 'hasara', '.', 'Mfanyabiasha', ',', 'Sellah', 'Anyango', ',', 'anayefanya', 'kazi', 'katika', 'saluni', 'katika', 'mji', 'mkuu', 'wa', 'Nairobi', 'aliimbia', 'BBC', 'matatizo', 'yake', '.', \"''Biashara\", 'yangu', 'inategemea', 'kwa', 'kiasi', 'kikubwa', 'umeme', '.', 'Nilikuwa', 'na', 'wateja', 'wakija', 'na', 'kuondoka', 'kwasababu', 'hakukuwa', 'na', 'umeme', '.', 'Biashara', 'ilikuwa', 'bado', 'ilikuwa', 'inazorota', 'kutokana', 'na', 'janga', 'la', 'corona', '.', 'Halafu', 'hili', '?', 'Tutalipaje', 'kodi', 'ya', 'nyumba', '?', 'Na', 'mishahara', 'kwa', 'ukosefu', 'huu', 'wa', 'umeme', '?', 'Haikubaliki', 'kabisa', '.', \"''\", 'Hatua', 'ya', 'kuelekea', 'nishati', 'ya', 'jua', 'Makampuni', 'makubwa', 'vikiwemo', 'viwanda', 'vikubwa', 'yanahamia', 'katika', 'mfumo', 'wa', 'nishati', 'ya', 'jua', 'kwa', 'kutafuta', 'umeme', 'wa', 'kuaminika', 'na', 'wa', 'bei', 'nafuu', 'pia', 'yamelalamikia', 'utendaji', 'wa', 'kampuni', 'ya', 'ugawaji', 'umeme', 'Kenya', 'Power', '.']\n",
      "\n",
      " Number of Words:  996\n"
     ]
    }
   ],
   "source": [
    "file=\"jan13.txt\"\n",
    "\n",
    "# calling the function and storing the contents in a text variable \n",
    "text = get_document(\"https://www.bbc.com/swahili/habari-59975938\")\n",
    "\n",
    "# calling the store_ document function \n",
    "store_document(doc=text,name=file)\n",
    "\n",
    "#add the words in this file to the total_corpus_words, to keep count of the number of words in the corpus\n",
    "total_corpus_words+=total_words(file)"
   ]
  },
  {
   "cell_type": "code",
   "execution_count": 51,
   "metadata": {},
   "outputs": [
    {
     "data": {
      "text/plain": [
       "88366"
      ]
     },
     "execution_count": 51,
     "metadata": {},
     "output_type": "execute_result"
    }
   ],
   "source": [
    "total_corpus_words"
   ]
  },
  {
   "cell_type": "code",
   "execution_count": 52,
   "metadata": {},
   "outputs": [
    {
     "name": "stdout",
     "output_type": "stream",
     "text": [
      "['Kukulia', 'gerezani', ':', 'Watoto', 'wanaamini', 'gereza', 'ni', 'nyumbani', 'Nchi', 'nyingi', 'kote', 'duniani', 'huwaruhusu', 'watoto', 'kuishi', 'na', 'mama', 'zao', 'waliofungwa', 'gerezani', '.', 'Hatahivyo', ',', 'suala', 'hilo', 'ni', 'tata', ',', 'huku', 'baadhi', 'ya', 'watu', 'wakidai', 'kuwa', 'gereza', 'sio', 'mazingira', 'mazuri', 'ya', 'malezi', 'kwa', 'mtoto', '.', 'Nchini', 'Kenya', 'watoto', 'wapatao', '200', 'kwa', 'sasa', 'wanaishi', 'magereza', 'ambako', 'mama', 'zao', 'wanatumikia', 'kifungo', 'na', 'suala', 'hili', 'limeibua', 'mjadala', 'nchini', 'humo', 'juu', 'ya', 'ni', 'hatua', 'gani', 'zinazofaa', 'kuchukuliwa', 'kuwasaidia', 'watoto', 'hao', '.', 'Mwandishi', 'wa', 'BBC', 'Agnes', 'Penda', 'ana', 'taarifa', 'zaidi', '.']\n",
      "\n",
      " Number of Words:  84\n"
     ]
    }
   ],
   "source": [
    "file=\"jan14.txt\"\n",
    "\n",
    "# calling the function and storing the contents in a text variable \n",
    "text = get_document(\"https://www.bbc.com/swahili/habari-59991051\")\n",
    "\n",
    "# calling the store_ document function \n",
    "store_document(doc=text,name=file)\n",
    "\n",
    "#add the words in this file to the total_corpus_words, to keep count of the number of words in the corpus\n",
    "total_corpus_words+=total_words(file)"
   ]
  },
  {
   "cell_type": "code",
   "execution_count": 53,
   "metadata": {},
   "outputs": [
    {
     "data": {
      "text/plain": [
       "88450"
      ]
     },
     "execution_count": 53,
     "metadata": {},
     "output_type": "execute_result"
    }
   ],
   "source": [
    "total_corpus_words"
   ]
  },
  {
   "cell_type": "code",
   "execution_count": 54,
   "metadata": {},
   "outputs": [
    {
     "name": "stdout",
     "output_type": "stream",
     "text": [
      "['Miili', 'iliyoopolewa', 'katika', 'Mto', 'Yala', 'Kenya', ':', 'Je', 'ni', 'nini', 'tunachokijua', 'kufikia', 'sasa', '?', '19', 'Januari', '2022', 'Chanzo', 'cha', 'picha', ',', 'Twitter', 'Maelezo', 'ya', 'picha', ',', 'Chumba', 'cha', 'kuhifadhia', 'maiti', 'cha', 'hospitali', 'ya', 'Yala', 'Wasimamizi', 'wa', 'hospitali', 'katika', 'eneo', 'la', 'magharibi', 'mwa', 'Kenya', 'wamethibitisha', 'kwa', 'BBC', 'kuhusu', 'uwepo', 'wa', 'miili', 'isiyopungua', '20', 'iliooza', 'katika', 'chumba', 'kimoja', 'cha', 'kuhifadhia', 'maiti', 'karibu', 'na', 'mto', 'ambapo', 'miili', 'hiyo', 'inadaiwa', 'kuopolewa', 'katika', 'wiki', 'za', 'hivi', 'karibuni', '.', 'Je', 'mashirika', 'ya', 'haki', 'za', 'kibinadamu', 'yanasemaje', '?', 'Kufuatia', 'malalamishi', 'ya', 'Wakenya', 'katika', 'mitandao', 'ya', 'kijamii', ',', 'shirika', 'la', 'haki', 'za', 'kibinadamu', 'la', 'Haki', 'Afrika', 'lilielekea', 'katika', 'kaunti', 'ya', 'siaya', 'ili', 'kufuatilia', 'tukio', 'hilo', '.', 'Linasema', 'kwamba', 'liligundua', 'miili', '21', 'katika', 'chumba', 'cha', 'kuhifadhia', 'maiti', 'cha', 'hospitali', 'ya', 'kaunti', ',', 'ambapo', 'miili', 'mingi', 'ilikuwa', 'imefungwa', 'kamba', 'na', 'mingine', 'kupatikana', 'katika', 'magunia', ',', 'mingine', 'ikiwa', 'na', 'alama', 'za', 'kukatwa', 'na', 'mingine', 'ikiwa', 'imefungwa', 'na', 'nailoni', 'katika', 'vichwa', '.', 'Shirika', 'hilo', 'linasema', 'kwamba', 'lilithibitisha', 'na', 'kituo', 'hicho', 'cha', 'kuhifadhia', 'maiti', 'kwamba', 'mnamo', 'mwezi', 'Oktoba', 'kilizika', 'miili', 'tisa', 'katika', 'kaburi', 'la', 'pamoja', '.', 'Katika', 'mto', 'Yala', ',', 'Haki', 'Afrika', 'imesema', 'kwamba', 'muogeleaji', 'ambaye', 'amekuwa', 'akiopoa', 'miili', 'hiyo', 'amesema', 'kwamba', 'tangu', 'mwezi', 'Julai', '2021', ',', 'aliopoa', 'miili', '31', '-', 'miili', 'kumi', 'ikiwa', 'ndani', 'ya', 'gunia', '.', 'Katika', 'mto', 'huo', 'wanaharakati', 'hao', 'walithibitisha', 'miili', 'miwili', 'iliokuwa', 'ikiolea', 'katika', 'maji', 'ya', 'mto', 'huo', 'ambayo', 'pia', 'hutumika', 'kwa', 'matumizi', 'ya', 'nyumbani', 'na', 'jamii', 'za', 'eneo', 'hilo', '.', 'Shirika', 'hilo', 'la', 'haki', 'za', 'kibinadamu', 'hivi', 'sasa', 'limetoa', 'wito', 'wa', 'kutaka', 'kubaini', 'miili', 'hiyop', '.', 'Vievile', 'limeitaka', 'serikali', 'kufichua', 'ni', 'nani', 'anayehusika', 'na', 'mauaji', 'hayo', 'na', 'kutupwa', 'kwa', 'miili', 'hiyo', 'katika', 'mto', 'huo', 'ili', 'kuchukuliwa', 'hatua', 'kali', '.', 'Je', 'waakazi', 'wanasemaje', '?', 'Muogeleaji', 'mmoja', 'ambaye', 'amekuwa', 'akihusika', 'katika', 'kuiopoa', 'miili', 'hiyo', 'amesema', 'kwamba', 'baadhi', 'ya', 'miili', 'ilikuwa', 'imekatwakatwa', ',', 'imefungwa', 'kwa', 'kutumia', 'Kamba', 'na', 'kutiwa', 'katika', ',', 'magunia', '.', 'Muogeleaji', 'huyo', 'ameaongezea', 'kwamba', 'tangu', 'katikati', 'ya', 'mwaka', 'uliopita', 'amekuwa', 'akiiopoa', 'miili', 'na', 'anaamini', 'kwamba', 'huenda', 'kuna', 'miili', 'zaidi', 'inayooza', 'katika', 'mto', 'huo', '.', \"'Maji\", 'hayo', 'hutumika', 'kwa', 'matumizi', 'ya', 'binadamu', \"'\", 'Maji', 'ya', 'mto', 'huo', 'yamekuwa', 'yakitumiwa', 'na', 'Wakenya', 'katika', 'eneo', 'hilo', 'kwa', 'matumizi', 'ya', 'nyumbani', 'Tayari', 'mkuu', 'wa', 'hospitali', 'ya', 'kaunti', 'ya', 'Yala', 'iliopo', 'kilomita', '40', 'kaskazini', 'magharibi', 'mwa', 'mji', 'wa', 'Kisumu', ',', 'amethibitishia', 'BBC', 'kwamba', 'chumba', 'cha', 'kuhifadhia', 'maiti', 'katika', 'hopsitali', 'hiyo', 'kinamiliki', 'miili', '21', 'ambayo', 'haijapata', 'wenyewe', '.', 'Kufikia', 'sasa', 'haijulikani', 'ni', 'nani', 'anayehusika', 'na', 'mauaji', 'hayo', 'ama', 'miili', 'hiyo', 'inatoka', 'wapi', '.', 'Je', 'maafisa', 'wa', 'polisi', 'wamesema', 'nini', 'kufikia', 'sasa', 'Polisi', 'walisema', 'kuwa', 'timu', 'ya', 'maafisa', 'kutoka', 'Idara', 'ya', 'Upelelezi', 'wa', 'Makosa', 'ya', 'Jinai', '(', 'DCI', ')', 'imeanza', 'uchunguzi', 'wao', 'na', 'itafumbua', 'kitendawili', 'cha', 'idadi', 'kubwa', 'ya', 'miili', 'hiyo', '.', '``', 'Kikosi', 'kutoka', 'afisi', 'ya', 'mKurugenzi', 'wa', 'Upelelezi', 'wa', 'Makosa', 'ya', 'Jinai', 'kiliteuliwa', 'na', 'kupewa', 'jukumu', 'la', 'uchunguzi', 'ambao', 'umekuwa', 'ukiendelea', 'kuhusu', 'matukio', 'hayo', ',', \"''\", 'ilisema', 'taarifa', 'hiyo', '.', 'Zaidi', 'ya', 'hayo', ',', 'Idara', 'ya', 'polisi', 'ilisema', 'kuwa', 'timu', 'nyingine', 'ya', 'wataalam', 'wa', 'uchunguzi', 'walikuwa', 'wametumwa', 'katika', 'eneo', 'hilo', 'kusaidia', 'katika', 'uchunguzi', '.', 'Shioso', 'alisema', 'kuwa', 'kikosi', 'hicho', 'kitasaidia', 'katika', 'utambuzi', 'wa', 'miili', 'ambayo', 'haijadaiwa', 'na', 'kuhifadhiwa', 'katika', 'chumba', 'cha', 'kuhifadhia', 'maiti', 'cha', 'hospitali', 'ya', 'Yala', 'Sub', 'County', 'Level', 'IV', '.', '``', 'Ili', 'kuharakisha', 'utambuzi', 'wa', 'waathiriwa', 'na', 'uchunguzi', 'mwingine', 'wa', 'kisayansi', ',', 'timu', 'maalum', 'ya', 'uchunguzi', 'wa', 'kisayansi', 'kutoka', 'makao', 'makuu', 'ya', 'DCI', 'imetumwa', 'katika', 'eneo', 'la', 'tukio', 'huko', 'River', 'Yala', 'na', 'hospitali', 'ya', 'Tala', 'Sub', 'County', 'Level', 'IV', 'kusaidia', 'uchunguzi', 'zaidi', ',', \"''\", 'ilisema', 'taarifa', 'hiyo', '.']\n",
      "\n",
      " Number of Words:  568\n"
     ]
    }
   ],
   "source": [
    "file=\"jan19.txt\"\n",
    "\n",
    "# calling the function and storing the contents in a text variable \n",
    "text = get_document(\"https://www.bbc.com/swahili/habari-60049731\")\n",
    "\n",
    "# calling the store_ document function \n",
    "store_document(doc=text,name=file)\n",
    "\n",
    "#add the words in this file to the total_corpus_words, to keep count of the number of words in the corpus\n",
    "total_corpus_words+=total_words(file)"
   ]
  },
  {
   "cell_type": "code",
   "execution_count": 55,
   "metadata": {},
   "outputs": [
    {
     "data": {
      "text/plain": [
       "89018"
      ]
     },
     "execution_count": 55,
     "metadata": {},
     "output_type": "execute_result"
    }
   ],
   "source": [
    "total_corpus_words"
   ]
  },
  {
   "cell_type": "code",
   "execution_count": 56,
   "metadata": {},
   "outputs": [
    {
     "name": "stdout",
     "output_type": "stream",
     "text": [
      "['Ndovu', 'azaa', 'mapacha', 'katika', 'tukio', 'nadra', 'Kenya', 'Mapacha', 'wawili', 'wa', 'ndovu', 'wamezaliwa', 'wiki', 'hii', 'katika', 'tukio', 'la', 'nadra', 'lililotokea', 'katika', 'hifadhi', 'ya', 'kitaifa', 'iliyopo', 'kaskazini', 'mwa', 'Kenya', '.', 'Mapacha', 'hao', 'wa', 'kike', 'na', 'wa', 'kiume', 'waligunduliwa', 'kwa', 'mara', 'ya', 'kwanza', 'na', 'muongozaji', 'wa', 'watalii', 'aliyekuwa', 'akisafiri', 'katika', 'hifadhi', 'ya', 'wanyamapori', 'ya', 'Samburu', 'mwishoni', 'mwa', 'juma', '.', 'Mapacha', 'hao', 'ni', 'mapacha', 'wa', 'pili', 'wa', 'ndovu', 'kuwahi', 'kugunduliwa', 'na', 'shirika', 'la', 'uhifadhi', 'wa', 'wanyamapori', 'linalotoa', 'msaada', 'kuhifadhi', 'ndovu', 'nchini', 'Kenya', 'la', 'Save', 'the', 'Elephants', '.', 'Shirika', 'hilo', 'linasema', 'idadi', 'ya', 'ndovu', 'mapacha', 'ni', '1', '%', 'tu', 'ya', 'ndovu', 'wanaozaliwa', ',', 'huku', 'tukio', 'la', 'mwisho', 'la', 'uzazi', 'wa', 'mwisho', 'wa', 'mapacha', 'unaofahamika', 'ukirekodiwa', 'mwaka', '2006', '.', 'Akizungumza', 'na', 'Shirika', 'la', 'habari', 'la', 'Reuters', ',', 'muasisi', 'wa', 'shirika', 'hilo', 'Dkt', 'Iain', 'Douglas-Hamilton', 'alisema', 'ni', 'kipindi', 'kigumu', 'kwa', 'watoto', 'hao', 'wa', 'ndovu', 'kwani', 'mapacha', 'wa', 'mwisho', 'walizaliwa', 'miaka', '15', 'iliyopita', 'hawakuweza', 'kuishi', 'muda', 'mrefu', 'baada', 'ya', 'kuzaliwa', '.', 'Mara', 'nyingi', 'mama', 'huwa', 'hana', 'maziwa', 'ya', 'kutosha', 'kuwalisha', 'mapacha', 'wote', 'wawili', ',', 'aliongeza', ',', 'akisema', 'kuwa', 'kila', 'mtu', '``', 'amekuwa', 'akiwaotakia', 'kunusurika', \"''\", '.', 'Chanzo', 'cha', 'picha', ',', 'AFP', 'Maelezo', 'ya', 'picha', ',', 'Mama', 'Bora', 'na', 'watoto', 'wake', 'mapacha', 'waliozaliwa', 'Ndovu', 'wa', 'Afrika', 'wana', 'kipindi', 'huwa', 'na', 'kipindi', 'kirefu', 'cha', 'ujauzito', 'kuliko', 'mnyama', 'mwingine', 'yoyote', 'yule', '.', 'Hubeba', 'mimba', 'kwa', 'karibu', 'miezi', '22', ',', 'na', 'huzaa', 'kila', 'baada', 'ya', 'takriban', 'miaka', 'minne', '.', 'Bishara', 'ya', 'pembe', 'za', 'ndovu', 'na', 'kupotea', 'kwa', 'mazi', 'muhimu', 'kumesababisha', 'kuwekwa', 'kwa', 'ndovu', 'katika', 'orodha', 'nyekundu', 'ya', 'Muungano', 'wa', 'kimataifa', 'uhifadhi', 'wa', 'viumbe', 'asilia-', '(', 'International', 'Union', 'for', 'the', 'Conservation', 'of', 'Nature', ')', 'ya', 'spishi', 'waliomo', 'hatarini', '.']\n",
      "\n",
      " Number of Words:  266\n"
     ]
    }
   ],
   "source": [
    "file=\"jan21.txt\"\n",
    "\n",
    "# calling the function and storing the contents in a text variable \n",
    "text = get_document(\"https://www.bbc.com/swahili/habari-60083415\")\n",
    "\n",
    "# calling the store_ document function \n",
    "store_document(doc=text,name=file)\n",
    "\n",
    "#add the words in this file to the total_corpus_words, to keep count of the number of words in the corpus\n",
    "total_corpus_words+=total_words(file)"
   ]
  },
  {
   "cell_type": "code",
   "execution_count": 57,
   "metadata": {},
   "outputs": [
    {
     "data": {
      "text/plain": [
       "89284"
      ]
     },
     "execution_count": 57,
     "metadata": {},
     "output_type": "execute_result"
    }
   ],
   "source": [
    "total_corpus_words"
   ]
  },
  {
   "cell_type": "code",
   "execution_count": 59,
   "metadata": {},
   "outputs": [
    {
     "name": "stdout",
     "output_type": "stream",
     "text": [
      "['Irene', 'Waheto', 'aliyefadhaika', 'alisema', 'mara', 'baada', 'ya', 'kutoka', 'katika', 'chumba', 'cha', 'kuhifadhi', 'maiti', 'cha', 'hospitali', 'huko', 'Yala', ',', 'magharibi', 'mwa', 'Kenya', '.', 'Takriban', 'miili', '19', 'ambayo', 'haijadaiwa', 'imekuwa', 'ikisubiri', 'kutambuliwa', '.', 'Ziliopolewa', 'Mto', 'Yala', 'katika', 'kipindi', 'cha', 'miaka', 'miwili', 'iliyopita', 'zikiwa', 'katika', 'hatua', 'tofauti', 'za', 'kuoza', '.', 'Bi', 'Waheto', 'anapiga', 'simu', 'kwa', 'familia', 'yake', 'huko', 'Nyeri', ',', 'mji', 'ulio', 'karibu', 'kilomita', '300', 'eneo', 'la', 'kati', 'ya', 'Kenya', '.', '``', 'Ni', 'Ndirangu', ',', 'Nina', 'uhakika', 'ni', 'yeye', ',', \"''\", 'huku', 'akilia', '.', 'Lakini', 'jinsi', 'mwili', 'wake', 'ulivyoishia', 'kupatikana', 'katika', 'mto', 'huo', 'ulio', 'mbali', 'na', 'kwao', 'mpaka', 'sasa', 'haijabainika', '.', 'Bi', 'Waheto', 'ananiambia', 'kakake', 'alitoweka', 'Novemba', 'mwaka', 'jana', 'alipokuwa', 'akisafiri', 'kutoka', 'mji', 'mkuu', ',', 'Nairobi', ',', 'kwenda', 'Nakuru', '-', 'lakini', 'hiyo', 'ni', 'takriban', 'kilomita', '200', 'kutoka', 'mahali', 'ambapo', 'mwili', 'wake', 'ulipatikana', '.', 'Tangu', 'wakati', 'huo', 'familia', 'yake', 'imekuwa', 'ikipekua', 'vituo', 'vya', 'polisi', 'na', 'vyumba', 'vya', 'kuhifadhia', 'maiti', 'karibu', 'na', 'miji', 'hiyo', 'miwili', '-', 'lakini', 'si', 'katika', 'sehemu', 'hii', 'ya', 'mbali', 'zaidi', 'ya', 'magharibi', 'mwa', 'Kenya', '.', 'Wazo', 'la', 'kuangalia', 'hapa', 'lilikuja', 'wakati', ',', 'Jumatatu', ',', 'wanaharakati', 'wawili', 'wa', 'haki', 'za', 'binadamu', 'kusema', 'kwamba', 'miili', 'ambayo', 'ilikuwa', 'imepatikana', 'katika', 'Mto', 'Yala', 'katika', 'miezi', 'ya', 'hivi', 'karibuni', 'ilikuwa', 'bado', 'katika', 'chumba', 'cha', 'kuhifadhia', 'maiti', '.', 'Bi', 'Waheto', ',', 'ambaye', 'alikuwa', 'akiishi', 'karibu', 'na', 'hapo', 'tangu', 'aolewe', 'zaidi', 'ya', 'muongo', 'mmoja', 'uliopita', ',', 'aliambiwa', 'aende', 'katika', 'chumba', 'cha', 'kuhifadhia', 'maiti', 'cha', 'Yala', 'ili', 'kuangalia', '.', 'Lakini', 'ilionekana', 'kutowezekana', 'kwamba', 'kaka', 'yake', 'angekuwa', 'hapa', ',', 'maili', 'nyingi', 'kutoka', 'mahali', 'alipoonekana', 'mara', 'ya', 'mwisho', '.', 'Lakini', 'ukweli', 'wa', 'mambo', 'ni', 'kuwa', 'alipatikana', 'hapo', '.', 'Maelezo', 'ya', 'picha', ',', 'Maiti', 'ambazo', 'hazijatambuliwa', 'na', 'ambazo', 'zilizoopolewa', 'mtoni', 'bado', 'ziko', 'katika', 'chumba', 'cha', 'kuhifadhia', 'maiti', 'Bi', 'Waheto', 'anakaa', 'kwenye', 'nyasi', 'na', 'kuanza', 'kulia', ',', 'akitoa', 'sauti', 'ambayo', 'hupelekea', 'kila', 'mtu', 'karibu', 'naye', 'kujawa', 'na', 'hisia', '.', 'Sio', 'yeye', 'pekee', 'anayemtafuta', 'jamaa', 'aliyepotea', 'na', 'sio', 'yeye', 'pekee', 'anayeshangazwa', 'na', 'jinsi', 'maiti', 'ilivyoishia', 'kwenye', 'Mto', 'Yala', '.', 'Ben', 'Chepkwony', 'alisafiri', 'zaidi', 'ya', 'kilomita', '100', 'kumtafuta', 'kakake', ',', 'Philemon', ',', 'ambaye', 'anasema', 'alipotea', 'mwezi', 'uliopita', 'kwenye', 'barabara', 'kati', 'ya', 'Nairobi', 'na', 'Nakuru', '..', 'Mabaki', 'yake', 'pia', 'yaligunduliwa', 'miongoni', 'mwa', 'miili', 'iliyoopolewa', 'kutoka', 'Mto', 'Yala', ',', 'na', 'Bw', 'Chepkwony', 'ameshindwa', 'kuhimili', 'majonzi', '.', '``', 'Sijui', 'ni', 'nani', 'anayewaua', 'watu', 'hawa', 'na', 'kuwaacha', '[', 'hapa', ']', ',', \"''\", 'anasema', 'na', 'kunyamaza', 'kwa', 'muda', 'mrefu', 'na', 'kupumua', 'kwa', 'kina', 'kati', 'ya', 'sentensi', '.', '``', 'Hii', 'si', 'Kenya', 'ya', 'kidemokrasia', 'tunayotamani', 'kuishi', '.', 'Nimechanganyikiwa', 'sana', 'na', 'nchi', 'hii', '.', 'Na', 'sitaikubali', 'hata', 'kidogo', '.', \"''\", 'Maelezo', 'ya', 'picha', ',', 'Polisi', 'wanasema', 'kuwa', 'miili', 'hiyo', 'imekuwa', 'ikipatikana', 'mtoni', 'kwa', 'muda', 'wa', 'miaka', 'miwili', 'iliyopita', 'Bw', 'Chepkwony', 'hafafanui', 'anachokataa', 'kukubali', '-', 'kifo', 'cha', 'kaka', 'yake', 'au', 'kuishi', 'katika', 'nchi', 'ambayo', 'kutoweka', 'na', 'vifo', 'visivyoelezeka', 'imekuwa', 'kawaida', '.', 'Polisi', 'wanatuhumiwa', 'kuhusika', 'na', 'vifo', 'hivyo', 'na', 'baadhi', 'yao', 'wamekuwa', 'wakianziwa', 'na', 'wanaharakati', 'wa', 'haki', 'juu', 'ya', 'miili', 'iliyopatikana', 'huko', 'Yala', '.', 'Boniface', 'Mwangi', ',', 'mmoja', 'wa', 'wanaharakati', 'wawili', 'waliogundua', 'kuwepo', 'kwa', 'miili', 'hiyo', 'kwa', 'mara', 'ya', 'kwanza', ',', 'alisema', 'katika', 'mjadala', 'wa', 'Twitter', 'kwamba', 'hakuna', 'Mkenya', 'wa', 'kawaida', 'aliye', 'na', 'uwezo', 'wa', 'kuua', 'mtu', 'na', 'kusafirisha', 'mwili', 'huo', 'umbali', 'wa', 'kilomita', '200', 'kwenda', 'kuutupa', 'mtoni', '.', \"'Vifo\", 'na', 'kutoweka', \"'\", 'Mwanaharakati', 'mwingine', ',', 'Khalid', 'Hussein', ',', 'kutoka', 'shirika', 'linaloitwa', 'Haki', 'Africa', ',', 'alisema', 'jukumu', 'la', 'kufanya', 'jambo', 'fulani', 'liko', 'kwa', 'polisi', ':', 'ama', 'wanapaswa', 'kujieleza', 'au', 'kujua', 'ni', 'nani', 'anahusika', 'na', 'mauaji', 'haya', '.', 'Nchini', 'Kenya', ',', 'vikosi', 'vya', 'usalama', 'kwa', 'kawaida', 'huwa', 'miongoni', 'mwa', 'washukiwa', 'wa', 'kwanza', 'wakati', 'vifo', 'vinavyotiliwa', 'shaka', 'na', 'kutoweka', 'vinapotokea', '-', 'kwa', 'sababu', 'za', 'msingi', '.', 'Mashirika', 'ya', 'haki', 'za', 'binadamu', 'yamenakili', 'visa', 'kadhaa', 'vya', 'mauaji', 'yanayohusishwa', 'moja', 'kwa', 'moja', 'na', 'maafisa', 'wa', 'usalama', '.', 'Mnamo', '2019', ',', 'Human', 'Rights', 'Watch', 'iliripoti', 'kwamba', 'polisi', 'waliwaua', 'zaidi', 'ya', 'wanaume', 'na', 'wavulana', '21', 'katika', 'maeneo', 'ya', 'watu', 'wa', 'kipato', 'cha', 'chini', 'jijini', 'Nairobi', '``', 'bila', 'uhalali', ',', 'wakidai', 'kuwa', 'walikuwa', 'wahalifu', \"''\", '.', 'Missing', 'Voices', ',', 'kundi', 'la', 'mashirika', 'yanayorekodi', 'mauaji', 'ya', 'nje', 'ya', 'mahakama', 'nchini', 'Kenya', ',', 'linasema', 'Wakenya', '167', 'waliuawa', 'au', 'kutoweka', 'wakiwa', 'mikononi', 'mwa', 'polisi', 'mwaka', 'wa', '2020', '.', 'Hali', 'ambayo', 'baadhi', 'ya', 'miili', 'hiyo', 'iliyoopolewa', 'mtoni', 'pia', 'inazua', 'maswali', '.', 'Kulingana', 'na', 'mzamiaji', 'aliyewatoa', ',', 'wengine', 'walikuwa', 'wamewekwa', 'kwenye', 'magunia', ',', 'ambayo', 'yalikuwa', 'yameshonwa', '.', 'Wengine', 'walikuwa', 'na', 'mifuko', 'ya', 'plastiki', 'juu', 'ya', 'vichwa', 'vyao', '-', 'yote', 'ikiwa', 'ni', 'dalili', 'za', 'mateso', 'na', 'mauaji', ',', 'kulingana', 'na', 'Haki', 'Africa', '.', '``', 'Serikali', 'ina', 'jukumu', 'la', 'kueleza', 'umma', 'kile', 'kinachoendelea', ',', \"''\", 'mwanaharakati', 'wa', 'haki', 'za', 'mitaa', 'Fred', 'Ojiro', 'anasema', '.', '``', 'Miili', 'iliyopatikana', 'Yala', 'sio', 'ya', 'wakazi', 'wa', 'hapa', ',', 'ni', 'ya', 'watu', 'wa', 'mbali', 'sana', '.', 'Kwa', 'hiyo', 'hivi', 'sio', 'vifo', 'vya', 'kawaida', '.', 'Ni', 'lazima', 'serikali', 'ijitokeze', 'na', 'ieleze', 'ni', 'kwa', 'nini', 'miili', 'mingi', 'imetanda', 'hapa', '.', \"''\", 'Licha', 'ya', 'mashaka', 'hayo', 'hakuna', 'ushahidi', 'kuwa', 'vikosi', 'vya', 'usalama', 'vilikuwa', 'na', 'uhusiano', 'wowote', 'na', 'miili', 'iliyoipolewa', 'katika', 'Mto', 'Yala', '.', 'Polisi', 'wanasema', 'baadhi', 'ya', 'watu', 'hao', 'huenda', 'walikufa', 'maji', 'au', 'ni', 'wahasiriwa', 'wa', 'wahalifu', 'na', 'wameanzisha', 'uchunguzi', '.', 'Wataalamu', 'wa', 'uchunguzi', 'wanatarajiwa', 'kusaidia', 'kutambua', 'miili', 'hiyo', '.', 'Kamanda', 'wa', 'polisi', 'wa', 'eneo', 'hilo', 'Michael', 'Muchiri', ',', 'anasema', 'huenda', 'mchakato', 'huo', 'ukawa', 'mgumu', 'kutokana', 'na', 'hali', 'ya', 'miili', 'hiyo', 'na', 'umbali', 'ambao', 'iliyopelekwa', 'na', 'mto', 'huo', 'kuelekea', 'nyanda', 'za', 'chini', '.', '``', 'Kwa', 'kawaida', 'tunategemea', 'alama', 'za', 'vidole', ',', 'ambazo', 'tunatuma', 'kwa', 'hifadhidata', 'zetu', 'za', 'kitaifa', 'huko', 'Nairobi', ',', 'lakini', 'alama', 'za', 'vidole', 'zinapokuwa', 'hazipo', ',', 'kazi', 'inakuwa', 'kubwa', 'sana', ',', \"''\", 'anasema', '.', 'Afisa', 'mkuu', 'mwingine', 'wa', 'eneo', 'hilo', ',', 'Charles', 'Chacha', ',', 'aliambia', 'BBC', 'kwamba', 'anasiikitishwa', 'kwamba', 'kila', 'visa', 'vya', 'kutoweka', 'kwa', 'watu', 'vinahusishwa', 'na', 'vikosi', 'vya', 'usalama', '.', 'Mada', 'zinazohusiana', 'Maelezo', 'zaidi', 'kuhusu', 'taarifa', 'hii', 'Wasimamizi', 'wa', 'hospitali', 'katika', 'eneo', 'la', 'magharibi', 'mwa', 'Kenya', 'wamethibitisha', 'kwa', 'BBC', 'kuhusu', 'uwepo', 'wa', 'miili', 'isiyopungua', '20', 'iliooza', 'katika', 'chumba', 'kimoja', 'cha', 'kuhifadhia', 'maiti', 'karibu', 'na', 'mto', 'ambapo', 'miili', 'hiyo', 'inadaiwa', 'kuopolewa', 'katika', 'wiki', 'za', 'hivi', 'karibuni', '.']\n",
      "\n",
      " Number of Words:  963\n"
     ]
    }
   ],
   "source": [
    "file=\"jan22.txt\"\n",
    "\n",
    "# calling the function and storing the contents in a text variable \n",
    "text = get_document(\"https://www.bbc.com/swahili/habari-60094908\")\n",
    "\n",
    "# calling the store_ document function \n",
    "store_document(doc=text,name=file)\n",
    "\n",
    "#add the words in this file to the total_corpus_words, to keep count of the number of words in the corpus\n",
    "total_corpus_words+=total_words(file)"
   ]
  },
  {
   "cell_type": "code",
   "execution_count": 60,
   "metadata": {},
   "outputs": [
    {
     "data": {
      "text/plain": [
       "90247"
      ]
     },
     "execution_count": 60,
     "metadata": {},
     "output_type": "execute_result"
    }
   ],
   "source": [
    "total_corpus_words"
   ]
  },
  {
   "cell_type": "code",
   "execution_count": 61,
   "metadata": {},
   "outputs": [
    {
     "name": "stdout",
     "output_type": "stream",
     "text": [
      "['Africa', 'Eye', ':', 'Unyanyasaji', 'majumbani', 'wakati', 'wa', 'janga', 'la', 'corona', 'Kenya', 'Wakati', 'janga', 'la', 'Covid-19', 'lilipotokea', ',', 'ripoti', 'za', 'unyanyasaji', 'wa', 'nyumbani', 'zilienea', 'ulimwenguni', 'kote', '.', 'Nchini', 'Kenya', ',', 'kumekuwa', 'na', 'ongezeko', 'kubwa', 'la', 'vitendo', 'hivyo', '-', 'na', 'wanaharakati', 'wanasema', 'wengi', 'hawaripotiwi', 'kamwe', '.', 'Tom', 'Odula', 'anaripoti', 'kutoka', 'Nairobi', ',', 'kwa', 'timu', 'ya', 'BBC', 'ya', 'uchunguzi', 'wa', 'Africa', 'Eye…', 'na', 'onyo', ',', 'baadhi', 'ya', 'watazamaji', 'wanaweza', 'kupata', 'ripoti', 'yake', 'kuwa', 'ya', 'kufadhaisha', '.']\n",
      "\n",
      " Number of Words:  73\n"
     ]
    }
   ],
   "source": [
    "file=\"jan24.txt\"\n",
    "\n",
    "# calling the function and storing the contents in a text variable \n",
    "text = get_document(\"https://www.bbc.com/swahili/michezo-60107261\")\n",
    "\n",
    "# calling the store_ document function \n",
    "store_document(doc=text,name=file)\n",
    "\n",
    "#add the words in this file to the total_corpus_words, to keep count of the number of words in the corpus\n",
    "total_corpus_words+=total_words(file)"
   ]
  },
  {
   "cell_type": "code",
   "execution_count": 62,
   "metadata": {},
   "outputs": [
    {
     "data": {
      "text/plain": [
       "90320"
      ]
     },
     "execution_count": 62,
     "metadata": {},
     "output_type": "execute_result"
    }
   ],
   "source": [
    "total_corpus_words"
   ]
  },
  {
   "cell_type": "code",
   "execution_count": 63,
   "metadata": {},
   "outputs": [
    {
     "name": "stdout",
     "output_type": "stream",
     "text": [
      "['DCI', 'yamkamata', 'mshukiwa', 'mkuu', 'wa', 'mauaji', 'ya', 'shabiki', 'maarufu', 'wa', 'soka', 'Kenya', 'Maafisa', 'waIdara', 'ya', 'upelelezi', 'wa', 'makosa', 'ya', 'jinai', '(', 'DCI', ')', 'nchini', 'Kenya', 'wamemkamata', 'mshukiwa', 'mkuu', 'wa', 'anayetuhumiwa', 'kuhusika', 'na', 'mauaji', 'ya', 'shabiki', 'maarufu', 'wa', 'kandanda', 'Isaac', 'Juma', 'huko', 'Mumias', ',', 'magharibi', 'mwa', 'nchi', 'hiyo', ',', 'kulingana', 'na', 'taarifa', 'za', 'gazeti', 'la', 'Daily', 'Nation', 'mtandoni', '.', 'DCI', 'imenukuliwa', 'ikisema', ':', 'mshukiwa', 'huyo', 'mwenye', 'umri', 'wa', 'miaka', '27', 'alikamatwa', 'nyumbani', 'kwake', 'Mumias', 'na', 'makachero', 'wao', 'baada', 'ya', 'uchunguzi', 'wa', 'awali', 'kumhusisha', 'na', 'mauaji', 'hayo', '.', 'Isaac', 'Juma', 'alidungwa', 'kisu', 'nyumbani', 'kwao', 'katika', 'eneo', 'la', 'magharibi', 'mwa', 'Kenya', 'Jumatano', 'usiku', ',', 'kulingana', 'na', 'vyombo', 'vya', 'habari', '.', 'Bw', 'Juma', 'alifahamika', 'sana', 'kwa', 'kutumia', 'mwili', 'wake', 'kama', 'sanamu', 'wakati', 'wa', 'mechi', 'nchini', 'kenya', '.', 'Aliwahi', 'kusafiri', 'nje', 'ya', 'nchi', 'na', 'timu', 'ya', 'taifa', '.', 'Katika', 'mahojiano', 'na', 'televisheni', 'ya', 'Citizen', 'nchini', 'humo', 'mwaka', '2018', ',', 'alisema', 'ana', 'matumaini', 'kwamba', 'timu', 'ya', 'Kenya', 'itafuzu', 'kwa', 'mechi', 'za', 'Afcon', 'ambazo', 'kwa', 'sasa', 'zinaendelea', 'nchini', 'Cameroon', '.', 'Rais', 'wa', 'Burkina', 'Faso', 'aliyeondolewa', 'madarakani', \"'anaendelea\", 'vizuri', \"'\", 'Rais', 'wa', 'Burkina', 'Faso', 'aliyeondolewa', 'madarakani', 'Roch', 'Kaboré', 'anaendelea', 'vyema', ',', 'afisa', 'wa', 'ngazi', 'ya', 'juu', 'wa', 'chama', 'chake', 'amesema', '.', 'Haya', 'yanajiri', 'siku', 'kadhaa', 'baada', 'ya', 'mapinduzi', 'ya', 'kijeshi', 'ambayo', 'yamelaaniwa', 'vikali', 'na', 'jamii', 'ya', 'kimataifa', '.', 'Bw', 'Kaboré', 'anazuiliwa', 'katika', 'jumba', 'la', 'kifahari', 'la', 'rais', 'chini', 'ya', 'kizuizi', 'cha', 'nyumbani', ',', 'yuko', 'katika', 'hali', 'nzuri', 'kimwili', 'na', 'ana', 'daktari', 'anayeweza', 'kumsaidia', ',', 'kulingana', 'na', 'mwanachama', 'mkuu', 'wa', 'chama', 'chake', ',', 'People', \"'s\", 'Movement', 'for', 'Progress', '(', 'MPP', ')', '.', 'Kwa', 'saa', 'kadhaa', 'siku', 'ya', 'Jumatatu', ',', 'hatima', 'ya', 'rais', 'huyo', 'aliyeondolewa', 'madarakani', 'haikufahamika', ',', 'huku', 'habari', 'zinazokinzana', 'zikisambaa', 'kuhusu', 'kukamatwa', ',', 'kufukuzwa', 'nje', 'au', 'hata', 'jaribio', 'la', 'mauaji', '.', 'Mkutano', 'wa', 'kilele', 'wa', 'kanda', 'ya', 'Afrika', 'Magharibi', 'Ecowas', 'utafanyika', 'Ijumaa', 'kujadili', 'hali', 'ya', 'Burkina', 'Faso', 'baada', 'ya', 'Bw', 'Kaboré', 'kupinduliwa', ',', 'na', 'uwezekano', 'wa', 'vikwazo', 'dhidi', 'ya', 'jeshi', '.', 'Rais', 'wa', 'Zambia', 'akosolewa', 'kwa', 'safari', 'za', 'nje', 'za', \"'mara\", 'kwa', 'mara', \"'\", 'Rais', 'wa', 'Zambia', 'Hakainde', 'Hichilema', 'ameshambuliwa', 'na', 'upinzani', 'kutokana', 'na', 'safari', 'zake', 'za', 'mara', 'kwa', 'mara', 'nje', 'ya', 'nchi', '.', 'Bw', 'Hichilema', 'Jumatano', 'alifanya', 'safari', 'yake', 'ya', 'tisa', 'nje', 'ya', 'nchi', 'tangu', 'achukue', 'wadhifa', 'huo', 'mwezi', 'Agosti', '.', 'Safari', 'yake', 'ya', 'hivi', 'punde', 'zaidi', 'ni', 'ziara', 'ya', 'siku', 'mbili', 'nchini', 'Afrika', 'Kusini', 'kwa', 'mazungumzo', 'na', 'mwenzake', 'Cyril', 'Ramaphosa', 'pamoja', 'na', 'kuhudhuria', 'uzinduzi', 'wa', 'kitabu', '.', 'Lakini', 'chama', 'cha', 'upinzani', 'cha', 'Kisoshalisti', 'kimetilia', 'shaka', 'safari', 'hiyo', 'baada', 'ya', 'mkutano', 'wake', 'na', 'Bw', 'Ramaphosa', 'kutajwa', 'kuwa', 'wa', 'kawaida', '.', '``', 'Kwa', 'hiyo', ',', 'ni', 'nini', 'hasa', 'madhumuni', 'ya', 'safari', 'ya', 'Rais', 'Hichilema', 'nchini', 'Afrika', 'Kusini', 'ikiwa', 'mkutano', 'na', 'Rais', 'Ramaphosa', 'ni', 'wa', 'kawaida', 'tu', '?', 'Je', ',', 'mkutano', 'na', 'Rais', 'Ramaphosa', 'ni', 'kificho', 'tu', 'cha', 'shughuli', 'zake', 'binafsi', '?', \"''\", 'Rais', 'wa', 'Chama', 'cha', 'Kisoshalisti', 'Fred', 'M', '’', 'membe', 'aliandika', 'kwenye', 'ukurasa', 'wake', 'wa', 'Facebook', '.', 'Hata', 'hivyo', ',', 'Bw', 'Hichilema', 'alielezea', 'safari', 'yake', 'katika', 'msururu', 'wa', 'machapisho', 'kwenye', 'mtandao', 'wa', 'Facebook', '.', 'Alithibitisha', 'kufanya', 'mazungumzo', 'baina', 'ya', 'nchi', 'hizo', 'mbili', 'na', 'Bw', 'Ramaphosa', 'ambayo', 'yalilenga', '``', 'maendeleo', ',', 'amani', 'na', 'usalama', 'wa', 'kikanda', 'na', 'kuimarisha', 'uhusiano', 'wetu', 'wa', 'kiuchumi', 'na', 'baina', 'ya', 'nchi', 'mbili', \"''\", '.', 'Pia', 'alithibitisha', 'kushiriki', 'katika', 'uzinduzi', 'wa', 'kitabu', 'kilichoandikwa', 'na', 'Greg', 'Mills', ',', 'kiitwacho', 'Expensive', 'Poverty', ',', 'Why', 'Aid', 'Fails', 'And', 'And', 'How', 'It', 'Can', 'Work', '.', 'Akiwa', 'katika', 'upinzani', ',', 'Bw', 'Hichilema', 'mara', 'nyingi', 'alikosoa', 'safari', 'za', 'nje', 'zinazofanywa', 'na', 'mtangulizi', 'wake', 'Edgar', 'Lungu', '.', 'Roketi', 'ya', 'Elon', 'Musk', 'SpaceX', 'inaelekea', 'kugongana', 'na', 'mwezi', 'Roketi', 'iliyorushwa', 'na', 'kampuni', 'ya', 'uvumbuzi', 'wa', 'anga', 'za', 'juu', 'ya', 'bilionea', 'Elon', 'Musk', 'inakaribia', 'kugonga', 'ndani', 'ya', 'mwezi', 'na', 'kulipuka', '.', 'Chombo', 'kinachosaidia', 'roketi', 'kulipuka', 'kwa', 'Falcon', '9', 'kilikwenda', 'katika', 'anga', 'za', 'juu', 'mwaka', '2015', ',', 'lakini', 'baada', 'ya', 'kukamilisha', 'safari', 'yake', ',', 'hakikuwa', 'na', 'mafuta', 'ya', 'kutosha', 'ya', 'kukirejesha', 'duniania', 'na', 'badala', 'yake', 'kilibakia', 'katika', 'anga', 'za', 'juu', '.', 'Mtaalamu', 'wa', 'masuala', 'ya', 'anga', 'za', 'juu', 'Jonathan', 'McDowell', 'ameiambia', 'BBC', 'News', 'kuwa', 'itakuwa', 'mara', 'ya', 'kwanza', 'kwa', 'roketi', 'isiyoongozwa', 'kugongana', 'na', 'mwezi', '.', 'Lakini', 'anasema', 'athari', 'yake', 'itakuwa', 'ndogo', '.', 'Roketi', 'hiyo', 'iliachwa', 'katika', 'obit', 'ya', 'juu', 'miaka', 'saba', 'iliyopita', 'baada', 'ya', 'kukamilisha', 'kazi', 'ya', 'kutuma', 'setilaiti', 'ya', 'hali', 'ya', 'hewa', 'katika', 'safari', 'ya', 'maili', 'milioni', '.', 'Ilikuwa', 'ni', 'sehemu', 'ya', 'mpango', 'wa', 'uvumbuzi', 'wa', 'anga', 'za', 'juu', 'wa', 'Bw', 'Musk', '-', 'SpaceX', ',', 'ambayo', 'ni', 'kampuni', 'ya', 'kibinafsi', 'ambayo', 'lengo', 'lake', 'kuu', 'ni', 'kuwawezesha', 'binadamu', 'kuishi', 'katika', 'sayari', 'nyingine', '.', 'Haijawahi', 'kutokea', 'katika', 'siasa', 'ya', 'Kenya', 'watu', 'kusubiri', 'tangazo', 'la', 'kisiasa', 'kama', 'lile', 'lililoahidiwa', 'na', 'kiongozi', 'wa', 'chama', 'cha', 'ANC', 'Musalia', 'Mudavadi', 'katika', 'mkutano', 'wa', 'wajumbe', 'wa', 'chama', 'hicho', 'siku', 'ya', 'Jumapili', 'tarehe', '23', 'Januari', '2021', '.', 'Wakati', 'chama', 'cha', 'upinzani', 'nchini', 'Tanzania', 'cha', 'ACT', 'Wazalendo', 'kikijiandaa', 'kufanya', 'Mkutano', 'Mkuu', 'maalumu', 'jijini', 'Dar', 'es', 'Salaam', 'Januari', '29', 'mwaka', 'huu', ',', 'swali', 'moja', 'kubwa', 'ambalo', 'wachambuzi', 'wa', 'masuala', 'ya', 'kisiasa', 'wanajiuliza', 'ni', 'iwapo', 'chama', 'hicho', 'kinaweza', 'kuja', 'kuwa', 'chama', 'kikuu', 'cha', 'upinzani', 'katika', 'miaka', 'michache', 'ijayo', '.']\n",
      "\n",
      " Number of Words:  814\n"
     ]
    }
   ],
   "source": [
    "file=\"jan27.txt\"\n",
    "\n",
    "# calling the function and storing the contents in a text variable \n",
    "text = get_document(\"https://www.bbc.com/swahili/live/habari-60150998\")\n",
    "\n",
    "# calling the store_ document function \n",
    "store_document(doc=text,name=file)\n",
    "\n",
    "#add the words in this file to the total_corpus_words, to keep count of the number of words in the corpus\n",
    "total_corpus_words+=total_words(file)"
   ]
  },
  {
   "cell_type": "code",
   "execution_count": 64,
   "metadata": {},
   "outputs": [
    {
     "data": {
      "text/plain": [
       "91134"
      ]
     },
     "execution_count": 64,
     "metadata": {},
     "output_type": "execute_result"
    }
   ],
   "source": [
    "total_corpus_words"
   ]
  },
  {
   "cell_type": "code",
   "execution_count": 65,
   "metadata": {},
   "outputs": [
    {
     "name": "stdout",
     "output_type": "stream",
     "text": [
      "['Kwa', 'nini', 'mwanasheria', 'wa', 'Kenya', 'anataka', 'Bibilia', 'ifanyiwe', 'marekebisho', '?', 'Huenda', 'ukajipata', 'unasoma', 'Biblia', 'ukiwa', 'na', 'kalamu', 'na', 'kifutio', 'baada', 'ya', 'kukutana', 'na', 'mwanasheria', 'kutoka', 'Kenya', 'anayedai', 'kuwa', '``', 'ameagizwa', \"''\", 'kutafsiri', 'baadhi', 'ya', 'nambari', 'ndani', 'ya', 'Biblia', 'kwa', 'njia', 'ambayo', 'hakuna', 'mtu', 'amefanya', 'hapo', 'awali', '.', 'Wakili', 'Joseph', 'Hannington', ',', 'ambaye', 'amekuwa', 'mwanasheria', 'kwa', 'zaidi', 'ya', 'miaka', '20', ',', 'anahoji', 'kwamba', 'nambari', 'za', 'sura', 'na', 'aya', 'za', 'Biblia', '-', 'ambazo', 'ziliingizwa', 'miaka', 'kadhaa', 'baada', 'ya', 'kuandikwa', 'kwa', 'Biblia', '-', 'si', 'tarakimu', 'tu', ';', 'lakini', 'zina', 'maana', 'fulani', '.', 'Na', 'kama', 'ilivyokuwa', 'na', 'kitabu', \"'The\", 'Da', 'Vinci', 'Code', \"'\", '-', 'kitabu', 'ambacho', 'kilichochea', 'jumuiya', 'ya', 'Kikristo', 'kwa', 'tafsiri', 'ya', 'kubuniwa', 'ya', 'maisha', 'na', 'nyakati', 'za', 'Yesu', '-', 'hoja', 'ya', 'Mkenya', 'huyu', 'bila', 'shaka', 'itazua', 'mabishano', 'si', 'haba', 'kwa', 'sababu', 'mwanasheria', 'huyo', 'anataka', 'wamiliki', 'wa', 'Biblia', 'kurekebisha', 'baadhi', 'ya', 'mistari', 'anayofikiri', 'ilitafsiriwa', 'vibaya', 'na', 'baadhi', 'ya', 'watafsiri', 'wa', 'Biblia', '.', \"'Nambari\", 'za', 'Biblia', 'hazipo', 'kwa', 'bahati', 'mbaya', 'lakini', 'zimewekwa', 'kimakusudi', 'kama', 'funguo', 'za', 'siri', 'za', 'Biblia', '.', 'Hii', 'ni', 'sababu', 'mojawapo', 'kwa', 'nini', 'tunapaswa', 'kuitazama', 'tena', 'Biblia', 'kwa', 'kuzingatia', 'nafasi', 'ya', 'mistari', 'hii', ',', 'uhusiano', 'wao', 'na', 'hivyo', 'kupata', 'muktadha', 'mpya', 'katika', 'tafsiri', 'yetu', ',', \"'\", 'anahoji', 'Bwana', 'Hannington', '.', 'Ni', 'kutokana', 'na', 'mtazamo', 'huo', 'mpya', ',', 'ambapo', 'Hannington', 'amedhamiria', 'kuwaelekeza', 'wamiliki', 'wa', 'Biblia', 'kuhariri', 'na', 'kurekebisha', 'baadhi', 'ya', 'aya', 'kwa', 'sababu', 'zilitafsiriwa', 'vibaya', 'na', 'baadhi', 'ya', 'watafsiri', 'ambao', 'walipuuza', 'kanuni', 'za', 'kipekee', 'anazozichambua', '.', 'Mifano', 'ya', 'mistari', 'ya', 'Bibilia', 'iliyotafsiriwa', 'kimakosa', 'Mwanasheria', 'huyo', 'ameandika', 'kitabu', 'chake', \"'The\", 'Cephas', 'Code', 'of', 'Christ', \"'\", 'ambapo', 'ametoa', 'mifano', 'ya', 'mistari', 'ambayo', 'anahisi', 'imetafsiriwa', 'kimakosa', 'katika', 'tafsiri', 'za', 'hivi', 'karibuni', 'za', 'Biblia', '.', 'Hannington', 'anasisitiza', 'kuwa', 'kitabu', 'chake', \"'The\", 'Cephas', 'Code', 'of', 'Christ', \"'\", 'kina', 'msingi', 'wa', 'Biblia', 'na', 'inachofanya', 'kwa', 'urahisi', 'ni', 'kuangalia', 'tena', 'aya', 'na', 'nambari', 'za', 'sura', 'na', 'kuonyesha', 'kuwa', 'sio', 'za', 'kimungu', 'tu', ',', 'bali', 'zimeundwa', 'kutoka', 'mbinguni', '.', 'Wakili', 'huyo', 'anawataka', 'wasomi', 'wa', 'dini', ',', 'pamoja', 'na', 'viongozi', 'wa', 'kanisa', 'kutumia', 'tafrisi', 'ya', 'mwaka', '1611', 'ya', 'toleo', 'la', 'King', 'James', 'Version', 'ambayo', 'anadai', 'ndiyo', 'tafsiri', 'pekee', 'ya', 'Biblia', 'iliyo', 'sahihi', '.', 'Hannington', 'ambaye', 'anajitambulisha', 'kama', 'mfuasi', 'wa', 'Kristo', 'badala', 'ya', 'kuwa', 'Mkristo', ',', 'anasema', 'mistari', 'hiyo', 'anayodai', 'kuwa', 'iliongezwa', 'ni', 'ya', 'ishara', 'na', 'hivyo', 'kutia', 'mkazo', 'maoni', 'yake', 'mapya', 'katika', 'kufasiri', 'kanuni', 'zinazoundwa', 'na', 'mistari', 'hii', '.', \"'Kwa\", 'sasa', 'kuna', 'zaidi', 'ya', 'nakala', 'tofauti', 'tofauti', '3,415', 'za', 'Biblia', '.', 'Lakini', 'ukiangalia', 'hizo', 'zote', 'utapata', 'zina', 'makosa', 'katika', 'kutafsiri', 'na', 'kuficha', 'baadhi', 'ya', 'siri', 'takatifu', 'za', 'neno', 'la', 'Mungu', ',', \"'\", 'anadai', 'Bwana', 'Hannington', '.', 'Makasisi', 'na', 'viongozi', 'wa', 'dini', 'ya', 'Kikristo', 'kwa', 'upande', 'mwingine', 'wamepinga', 'hoja', 'ya', 'Hannington', 'kuwa', 'ni', 'ya', 'kiholela', 'wakisema', 'sura', 'na', 'aya', 'za', 'Biblia', 'zilipitishwa', 'ili', 'kufanya', 'usomaji', 'uwe', 'wa', 'mpangilio', 'na', 'rahisi', 'ikizingatiwa', 'kuwa', 'kitabu', 'hicho', 'kiliandikwa', 'kwa', 'lugha', 'tofauti', '.', 'Chanzo', 'cha', 'picha', ',', 'Ron', 'Swai', 'Maelezo', 'ya', 'picha', ',', 'Mchungaji', 'Ron', 'Swai', ',', 'kiongozi', 'wa', 'Kanisa', 'la', 'Assemblies', 'of', 'God', 'kutoka', 'Tanzania', '.', \"'Wazo\", 'lake', 'hilo', 'halina', 'msingi', 'wowote', 'wa', 'kimaandiko', '.', 'Ni', 'kitu', 'ambacho', 'ameibua', 'tu', ',', \"'\", 'anaelezea', 'Mchungaji', 'Ron', 'Swai', ',', 'kiongozi', 'wa', 'Kanisa', 'la', 'Assemblies', 'of', 'God', 'kutoka', 'Tanzania', '.', 'Mchungaji', 'Swai', 'anasema', 'Biblia', 'iliandikwa', 'na', 'watu', 'ambao', 'waliongozwa', 'na', 'roho', 'takatifu', 'ya', 'Mungu', ',', 'na', 'tafsiri', 'mbali', 'mbali', 'zimedumisha', 'mawazo', 'yale', 'yale', ',', 'japo', 'lugha', 'inatofautiana', '.', \"'Viongozi\", 'wa', 'dini', 'tunaenda', 'kwa', 'madarasa', 'ya', 'Theolojia', 'ili', 'kujifunza', 'na', 'kuielewa', 'Biblia', '.', 'Na', 'tunajua', 'kwamba', 'tafsiri', 'zote', 'tofauti', 'za', 'Biblia', 'zinatafsiri', 'lugha', 'tu', ',', 'lakini', 'maana', 'inasalia', 'kuwa', 'ile', 'ile', 'kwa', 'sababu', 'hayo', 'ni', 'mawazo', 'ya', 'Mungu', 'si', 'ya', 'mwanadamu', ',', \"'\", 'anasisitiza', 'Mchungaji', 'Swai', '.', 'Kiongozi', 'huyo', 'wa', 'Kanisa', 'la', 'Assemblies', 'of', 'God', 'nchini', 'Tanzania', 'amewataka', 'waumini', 'kutohadaiwa', 'na', 'watu', ',', 'ambao', 'anasema', 'wanaweza', 'kuipotosha', 'imani', '.', 'Lakini', 'mwanasheria', 'huyo', 'anatofautiana', 'vikali', 'na', 'msimamo', 'wa', 'viongozi', 'wa', 'dini', '.', \"'Hakuna\", 'uzushi', 'kuhusu', 'hili', '.', 'Haya', 'yalikuwa', 'mambo', 'ambayo', 'yaliahidiwa', 'na', 'Yesu', 'mwenyewe', '.', 'Yalisemwa', 'na', 'Yesu', 'mwenyewe', ';', 'yameandikwa', 'na', 'Yohana', '(', 'mwanafunzi', 'wake', ')', 'mwenyewe', '.', 'Kwa', 'kweli', ',', 'Biblia', 'inatuambia', 'kwamba', 'katika', 'siku', 'za', 'mwisho', ',', 'itatubidi', 'kuitazama', 'tena', 'Biblia', 'nzima', 'ili', 'kuielewa', '.', \"'\", 'Sasa', 'kuhusu', 'madai', 'ya', 'mwanasheria', 'Joseph', 'Hannington', ',', 'je', ',', 'kuna', 'nuru', 'gizani', '?', 'Au', 'je', ',', 'hii', 'ni', 'kujaribu', 'kuziba', 'mwanya', 'ukifikiri', 'ni', 'pengo', '?', 'Jibu', 'ni', 'la', 'mtu', 'binafsi', ',', 'kwani', 'waSwahili', 'wanasema', 'jino', 'la', 'pembe', 'si', 'dawa', 'ya', 'pengo', '.']\n",
      "\n",
      " Number of Words:  713\n"
     ]
    }
   ],
   "source": [
    "file=\"jan28.txt\"\n",
    "\n",
    "# calling the function and storing the contents in a text variable \n",
    "text = get_document(\"https://www.bbc.com/swahili/habari-60161184\")\n",
    "\n",
    "# calling the store_ document function \n",
    "store_document(doc=text,name=file)\n",
    "\n",
    "#add the words in this file to the total_corpus_words, to keep count of the number of words in the corpus\n",
    "total_corpus_words+=total_words(file)"
   ]
  },
  {
   "cell_type": "code",
   "execution_count": 66,
   "metadata": {},
   "outputs": [
    {
     "data": {
      "text/plain": [
       "91847"
      ]
     },
     "execution_count": 66,
     "metadata": {},
     "output_type": "execute_result"
    }
   ],
   "source": [
    "total_corpus_words"
   ]
  },
  {
   "cell_type": "code",
   "execution_count": 67,
   "metadata": {},
   "outputs": [
    {
     "name": "stdout",
     "output_type": "stream",
     "text": [
      "['Salim', 'Rashid', 'Mohammed', ':', 'Tunachojua', 'kufikia', 'sasa', 'kuhusu', 'mtuhumiwa', 'wa', 'ugaidi', 'wa', 'Kenya', 'aliyekamatwa', 'DRC', '31', 'Januari', '2022', 'Chanzo', 'cha', 'picha', ',', 'Nation', 'Media', 'Group', 'Kenya', 'itawasilisha', 'ombi', 'kwa', 'serikali', 'ya', 'DRC', 'kumrudisha', 'mtu', 'mmoja', 'aliyekamatwa', 'katika', 'taifa', 'hilo', 'kuhusiana', 'na', 'tuhuma', 'za', 'ugaidi', ',', 'vyanzo', 'vya', 'usalama', 'vimesema', '.', 'Salim', 'Rashid', 'Mohammed', 'alias', 'Chotara', 'au', 'Turki', 'Salim', 'alikamatwa', 'na', 'jeshi', 'la', 'DR', 'Congo', 'kwa', 'tuhuma', 'kwamba', 'ni', 'mmoja', 'wa', 'waasi', 'wa', 'kundi', 'la', 'ADF', 'ambalo', 'limekuwa', 'likitekeleza', 'mashambulizi', 'kaskazini', 'mwa', 'DRC', 'na', 'karibu', 'na', 'mpaka', 'wa', 'Uganda', '.', 'Mohamed', 'ni', 'mkaazi', 'wa', 'Mombasa', 'na', 'mshukiwa', 'wa', 'ugaidi', 'ambaye', 'Kenya', 'ilikuwa', 'imetoa', '$', '100,000', 'kwa', 'yeyote', 'yule', 'ambaye', 'angetoa', 'habari', 'kumuhusu', '.', 'Lakini', 'ni', 'nini', 'haswa', 'tunachokijua', 'kufikia', 'sasa', 'kuhusu', 'Salim', 'Rashid', '?', 'Salim', 'alikamatwa', 'Ijumaa', 'iliopita', 'katika', 'mji', 'wa', 'Beni', 'uliopo', 'mashariki', 'mwa', 'Jamhuri', 'ya', 'kidemokrasia', 'ya', 'Congo', 'Kukamatwa', 'kwake', 'kunatokana', 'na', 'tuhuma', 'za', 'kuwa', 'mwanachama', 'wa', 'kundi', 'la', 'ADF', ',', 'kundi', 'la', 'wapiganaji', 'wa', 'Kiislamu', 'linalofanya', 'operesheni', 'zake', 'katika', 'mpaka', 'wa', 'Uganda', 'na', 'DRC', '.', 'Katika', 'kanda', 'ya', 'video', 'ambayo', 'imekuwa', 'ikisambaa', 'katika', 'mitandao', 'kijana', 'huyo', 'kutoka', 'eneo', 'la', 'Mombasa', 'nchini', 'Kenya', 'anadai', 'kwamba', 'alihusika', 'katika', 'mauaji', 'ya', 'mwanajeshi', 'mmoja', 'wa', 'FARDC', 'aliyetekwa', 'nyara', 'na', 'wapiganaji', 'hao', 'wa', 'kiislamu', 'wa', 'ADF', '.', 'Chombo', 'cha', 'redio', 'nchini', 'DR', 'Congo', 'RTGB', 'kinadai', 'kwamba', 'kijana', 'huyo', 'alikamatwa', 'baada', 'ya', 'kuondoka', 'katika', 'kambi', 'ya', 'ADF', 'iliopo', 'mashariki', 'mwa', 'DRC', ',', 'katika', 'mkoa', 'wa', 'Kivu', '.', 'Chombo', 'hicho', 'kimeongezea', 'kwamba', 'Mohamed', ',', '28', ',', 'alikuwa', 'akisimamia', 'propaganda', 'za', 'kundi', 'hilo', ',', 'ambazo', 'zilishirikisha', 'kusambaza', 'kanda', 'za', 'video', 'za', 'mashambulizi', 'yanayotekelezwa', 'katika', 'mikoa', 'ya', 'Kivu', 'na', 'Ituri', '..', 'Alikataa', 'kujiunga', 'na', 'chuo', 'kikuu', 'kusomea', 'uhandisi', 'Kenya', 'Vyombo', 'vya', 'habari', 'nchini', 'Kenya', 'vinasema', 'kwamba', 'operesheni', 'za', 'kigaidi', 'za', 'Mohammed', 'zilianza', '2015', ',', 'kabla', 'ya', 'kuondoka', 'nyumbani', 'kwao', 'katika', 'mji', 'wa', 'pwani', 'wa', 'Mombasa', '2016', 'ili', 'kusomea', 'somo', 'la', 'uhandisi', 'wa', 'tarakilishi', 'nchini', 'Uturuki', '.', 'Alikuwa', 'amekataa', 'kujiunga', 'na', 'chuo', 'kimoja', 'kikuu', 'nchini', 'Kenya', 'ili', 'kusomea', 'Uhandisi', 'na', 'akawacha', 'kusoma', 'baada', 'ya', 'mwaka', 'mmoja', '.', 'Chanzo', 'cha', 'picha', ',', 'DCI/KENYA', 'TWITTER', 'Maelezo', 'ya', 'picha', ',', 'Mamlaka', 'nchini', 'Kenya', 'ilimshtaki', 'Muhammed', 'kwa', 'kuwa', 'mpiganaji', 'wa', 'Islamic', 'State', 'Baadaye', 'aliishi', 'Uturuki', 'kwa', 'muda', 'mfupi', ',', 'na', 'akarudishwa', 'nyumbani', 'baada', 'ya', 'kupatikana', 'katika', 'mpaka', 'wa', 'Syria', ',', 'kulingana', 'na', 'chombo', 'cha', 'Habari', 'cha', 'Nation.co.ke', 'Mamlaka', 'nchini', 'Kenya', 'ilimshtaki', 'Muhammed', 'kwa', 'kuwa', 'mpiganaji', 'wa', 'Islamic', 'State', 'lakini', 'akawachiliwa', 'kwa', 'ukosefu', 'wa', 'ushahidi', '.', 'Alikamatwa', 'katika', 'uwanja', 'wa', 'ndege', 'Mombasa', 'Kijana', 'huyo', 'hatahivyo', 'haikuchukua', 'muda', 'kwani', 'alikamatwa', 'tena', 'katika', 'uwanja', 'wa', 'ndege', 'wa', 'Mombasa', '2019', 'na', 'kushtakiwa', 'kuwa', 'mwanachama', 'wa', 'kundi', 'la', 'wapiganaji', 'wa', 'al-shabab', 'nchini', 'Somalia', 'mbali', 'na', 'kumiliki', 'vilipuzi', '.', 'Chombo', 'cha', 'Habari', 'cha', 'Citizen', 'kiliripoti', 'tarehe', '30', 'mwezi', 'Januari', 'kwamba', 'Muhammed', 'alikuwa', 'anaelekea', 'nchini', 'Sudan', 'wakati', 'alipokamatwa', 'katika', 'uwanja', 'huo', 'wa', 'ndege', '.', 'Aliachiliwa', 'kwa', 'dhamana', 'lakini', 'akatoweka', 'tena', 'tarehe', '5', 'mwezi', 'Disemba', '2020', '.', 'Tarehe', '9', 'Novemba', '2021', ',', 'mamlaka', 'nchini', 'Kenya', 'ilitangaza', '$', '90,400', 'kwa', 'mtu', 'yeyote', 'ambaye', 'alikuwa', 'na', 'habari', 'za', 'Muhammed', 'kulingana', 'na', 'chombo', 'cha', 'habari', 'cha', 'the', 'Standard', 'nchini', 'Kenya', '.', 'Wapiganaji', 'wa', 'IS', 'baadaye', 'walilichukua', 'kundi', 'la', 'ADF', '2019', 'chini', 'ya', '``', 'Central', 'Africa', 'Province', \"''\", '(', 'ISCAP', ')', 'kundi', 'ambalo', 'limedai', 'kutekeleza', 'mashambulizi', 'nchini', 'Msumbiji', 'katika', 'mkoa', 'wa', 'kaskazini', 'wa', 'cabo', 'Delgado', 'na', 'kusini', 'mwa', 'Tanzania', '.', 'Kundi', 'la', 'ADF', 'limehusishwa', 'na', 'mashambulizi', 'hatari', 'katika', 'mji', 'mkuu', 'wa', 'Kampala', ',', 'mashambulizi', 'mengi', 'ya', 'Kampala', 'yamedaiwa', 'kutekelezwa', 'na', 'IS', '.']\n",
      "\n",
      " Number of Words:  558\n"
     ]
    }
   ],
   "source": [
    "file=\"jan31.txt\"\n",
    "\n",
    "# calling the function and storing the contents in a text variable \n",
    "text = get_document(\"https://www.bbc.com/swahili/habari-60196246\")\n",
    "\n",
    "# calling the store_ document function \n",
    "store_document(doc=text,name=file)\n",
    "\n",
    "#add the words in this file to the total_corpus_words, to keep count of the number of words in the corpus\n",
    "total_corpus_words+=total_words(file)"
   ]
  },
  {
   "cell_type": "code",
   "execution_count": 68,
   "metadata": {},
   "outputs": [
    {
     "data": {
      "text/plain": [
       "92405"
      ]
     },
     "execution_count": 68,
     "metadata": {},
     "output_type": "execute_result"
    }
   ],
   "source": [
    "total_corpus_words"
   ]
  },
  {
   "cell_type": "code",
   "execution_count": 69,
   "metadata": {},
   "outputs": [
    {
     "name": "stdout",
     "output_type": "stream",
     "text": [
      "['Waridi', 'wa', 'BBC', ':', 'Lucy', 'Nyawira', ',', 'mchungaji', 'aliyemficha', 'mumewe', 'kuwa', 'ana', 'maambukizi', 'ya', 'HIV', 'kwa', 'miaka', 'saba', 'Anne', 'Ngugi', 'BBC', 'Swahili', '2', 'Februari', '2022', 'Chanzo', 'cha', 'picha', ',', 'MchungajI', 'Lucy', 'Nyawira', 'Mchungaji', 'Lucy', 'Nyawira', 'Thuo', 'kutoka', 'nchini', 'Kenya', ',', 'amewashangaza', 'wengi', 'kwa', 'ukakamavu', 'wake', 'wa', 'kuzungumzia', 'hali', 'yake', 'ya', 'HIV', 'hadharani', 'na', 'hata', 'makanisani', '.', 'Hii', 'ni', 'hali', 'ambayo', 'mama', 'huyu', 'anaiona', 'kama', 'sehemu', 'ya', 'wito', 'wake', 'wa', 'maisha', 'kwamba', 'atoe', 'nasaha', 'na', 'awe', 'kielelezo', 'cha', 'kuishi', 'na', 'virusi', 'vya', 'HIV', 'kwa', 'miaka', 'mingi', 'na', 'kwamba', 'ni', 'kitu', 'ambacho', 'kinawezekana', '.', '``', 'Ni', 'miaka', 'miwili', 'sasa', 'tangu', 'nilipoanza', 'kuzungumza', 'hadharani', 'kuhusu', 'hali', 'yangu', ',', 'mimi', 'kama', 'mwanamke', 'anayekuwa', 'kwenye', 'maombi', 'kila', 'wakati', 'nilifahamu', 'kwamba', 'Mwenyezi', 'Mungu', 'alikuwa', 'ananiita', 'kwa', 'watu', 'ambao', 'wanaishi', 'na', 'HIV', ',', 'na', 'huenda', 'hawaoni', 'mwanga', 'wa', 'maisha', 'tena', ',', 'Sasa', 'mimi', 'ninakuwa', 'mwandani', 'wa', 'karibu', 'wa', 'makundi', 'Haya', 'ya', 'watu', 'hasa', 'maeneo', 'ninayoishi', 'na', 'sehemu', 'ninayofanya', 'ibada', '.', \"''\", 'Anasema', 'Lucy', 'Mchungaji', 'Lucy', 'Thuo', 'ni', 'mama', 'wa', 'umri', 'wa', 'makamo', ',', 'amekuwa', 'kwenye', 'ndoa', 'kwa', 'zaidi', 'ya', 'miaka', 'ishirini', 'na', 'moja', 'pia', 'ni', 'mama', 'wa', 'watoto', 'wawili', 'na', 'bibi', 'wa', 'mjukuu', 'mmoja', '.', 'Ila', 'pia', 'simulizi', 'ya', 'kuambukizwa', 'HIV', 'na', 'hatimaye', 'mume', 'wake', 'kuifahamu', 'siri', 'hilo', 'ni', 'jambo', 'ambalo', 'mama', 'huyu', 'hatolisahau', 'katika', 'maisha', 'yake', '.', 'Lucy', 'alizaliwa', 'Kaunti', 'ya', 'Nakuru', ',', 'na', 'anaelezea', 'maisha', 'ya', 'mahangaiko', 'yaliokabili', 'jamii', 'yao', ',', 'alipewa', 'malezi', 'ya', 'kwanza', 'na', 'mama', 'kama', 'mlezi', 'wa', 'kipekee', ',', 'ila', 'mama', 'yake', 'Lucy', 'aliugua', 'na', 'kufariki', 'angali', 'binti', ',', 'Lucy', 'anasema', 'kwamba', 'wakati', 'huo', 'alielezwa', 'kwamba', 'mama', 'alifariki', 'kutokana', 'na', 'vidonda', 'vya', 'tumbo', ',', 'japo', 'baadaye', 'alielezwa', 'kwamba', 'mama', 'alifariki', 'kutokana', 'na', 'ugonjwa', 'wa', 'ukimwi', '.', 'Baada', 'ya', 'kifo', 'cha', 'mama', ',', 'Lucy', 'hakumaliza', 'shule', 'aliamua', 'kuhamia', 'mji', 'Mkuu', 'Nairobi', 'ambapo', 'anakiri', 'kwamba', 'akiwa', 'na', 'umri', 'wa', 'miaka', '17', 'alianza', 'maisha', 'ya', 'ndoa', 'na', 'mwanaume', 'wa', 'miaka', '30', ',', 'ndoa', 'ambayo', 'haikushika', 'kasi', 'na', 'iliisha', 'baada', 'ya', 'mwaka', 'mmoja', 'pekee', '.', 'Na', 'Kwa', 'hiyo', 'Lucy', 'alijaribu', 'ndoa', 'baada', 'ya', 'nyengine', 'karibia', 'mara', 'nne', 'hata', 'moja', 'isifaulu', 'ila', 'alishika', 'mimba', 'na', 'kujifungua', 'mwanaye', 'ambaye', 'alianza', 'kuona', 'malezi', 'kama', 'mzazi', 'wa', 'kipekee', 'pia', ',', 'majukumu', 'ya', 'kumlea', 'mwanae', 'na', 'dada', 'yake', 'mdogo', 'alimwachia', 'bibi', ',', 'huku', 'Lucy', 'akipambana', 'na', 'maisha', 'mjini', '.', 'Lucy', 'anasema', 'kwamba', 'alikuwa', 'mhudumu', 'wa', 'bar', '.', 'Katika', 'pula', 'pilka', 'hizo', 'anakiri', 'kujihusisha', 'na', 'mahusiano', 'ya', 'muda', 'mfupi', 'hapa', 'na', 'pale', '``', 'Unafahamu', 'kwamba', 'zamani', 'kuwa', 'mhudumu', 'wa', 'bar', 'wa', 'kike', 'kulikuwa', 'na', 'changamoto', 'mno', ',', 'kwanza', 'mshahara', 'ulikuwa', 'chini', 'ya', 'dola', 'ishirini', ',', 'wakati', 'mwingi', 'hata', 'sikupokea', 'mshahara', 'huo', 'hasa', 'kama', 'nilivunja', 'bilauri', 'au', 'mteja', 'kupotea', 'bila', 'malipo', '.', 'Tungekatwa', 'pesa', 'zetu', 'kwa', 'hasara', 'hiyo', '.', 'Kwa', 'hiyo', 'ilibidi', 'niwe', 'na', 'mahusiano', 'ya', 'kimapenzi', 'na', 'wanaume', 'tofauti', 'ili', 'kupata', 'riziki', 'japo', 'sio', 'kitu', 'nilichokipenda', '``', 'Lucy', 'anasema', '.', 'Mwanadada', 'huyu', 'anakiri', 'kwamba', 'wakati', 'mmoja', 'alikuwa', 'na', 'marafiki', 'wa', 'kiume', 'kama', 'watatu', 'kwa', 'wakati', 'mmoja', ',', 'kila', 'wakati', 'akitafuta', 'mwenye', 'hela', 'zaidi', '.', 'Baada', 'ya', 'muda', 'Lucy', 'alikumbana', 'na', 'mtu', 'ambaye', 'angekuwa', 'mume', 'wake', 'hadi', 'leo', ',', 'aidha', 'mwanadada', 'huyu', 'anasema', 'kwamba', 'mwanzoni', 'mwa', 'mahusiano', 'Yao', 'ulikuwa', 'tuu', 'rafiki', ',', 'ni', 'urafiki', 'uliokuwa', 'kwa', 'kasi', 'mno', 'na', 'baada', 'ya', 'miezi', 'saba', 'Waliamua', 'kuishi', 'kama', 'mume', 'na', 'mke', '.', 'Kukutwa', 'na', 'Virusi', 'vya', 'Ukimwi', 'Mwaka', 'wa', '2002', 'alishika', 'mimba', ',', 'na', 'kama', 'Ada', 'ya', 'hospitali', 'ilimbidi', 'afanyiwe', 'vipimo', 'katika', 'kliniki', 'ikiwemo', 'ya', 'HIV', ',', 'katika', 'shughuli', 'hio', 'Lucy', 'alielezwa', 'kwamba', 'alikuwa', 'mama', 'mjauzito', 'mwenye', 'HIV', ',', 'Lucy', 'alishtuliwa', 'mno', 'na', 'taarifa', 'hio', 'na', 'alipofika', 'nyumbani', 'hakumweleza', 'mume', 'wake', 'kuhusu', 'hali', 'yake', '.', '``', 'Nilipofika', 'nyumbani', 'Nilikuwa', 'na', 'uoga', 'wa', 'kufa', ',', 'niliwazia', 'mtoto', 'aliyekuwa', 'Tumboni', 'na', 'hata', 'maisha', 'ya', 'mume', 'wangu', ',', 'ila', 'si', 'kuwa', 'tayari', 'kupasua', 'mbarika', 'kuhusu', 'hali', 'yangu', ',', 'nilijieleza', 'kimoyomoyo', 'kwamba', 'ikiwa', 'mume', 'wangu', 'atafahanu', 'kuhusu', 'hali', 'yake', 'ya', 'HIV', 'sio', 'kutoka', 'kwangu', '``', 'Lucy', 'anasema', 'Lucy', 'anasema', 'kwamba', 'mume', 'wake', 'alikuwa', 'na', 'mashaka', 'baada', 'ya', 'yeye', 'kutoka', 'kliniki', 'wakati', 'alipopewa', 'matokeo', 'ya', 'hali', 'yake', 'ya', 'HIV', ',', 'kwani', 'aliporejea', 'nyumbani', 'na', 'kwa', 'siku', 'kadhaa', 'zilizofwata', 'alikuwa', 'Ana', 'sikiliza', 'nyimbo', 'za', 'mazishi', ',', 'mama', 'huyu', 'anasema', 'alikuwa', 'anahisi', 'kifo', 'tu', '.', 'Chanzo', 'cha', 'picha', ',', 'LUCY', 'Mtoto', 'alipozaliwa', ',', 'Hospitalini', 'Lucy', 'alikuwa', 'alielezwa', 'asimyonyeshe', 'mtoto', 'lakini', 'kwa', 'hofu', 'ya', 'mumewe', 'asiju', ',', 'yeye', 'hakusikiliza', 'madaktari', ',', 'na', 'aliendelea', 'kumyonyesha', 'mwanaye', '.', 'Ila', 'miaka', '7', 'baadaye', 'mwanaye', 'aliugua', 'vibaya', 'na', 'ikabidi', 'wote', 'waende', 'hospitali', 'wote', 'kwa', 'ajili', 'ya', 'vipimo', '.', 'Ilikuwa', 'mwaka', 'wa', '2008', 'walifanyiwa', 'vipimo', 'vya', 'HIV', ',', 'yeye', 'mumewe', 'na', 'Mwana', 'Wao', '.', 'Kati', 'ya', 'hao', 'ni', 'Lucy', 'pekee', 'aliyepatikana', 'na', 'HIV', '.', 'Ilikuwa', 'ni', 'siku', 'ya', 'aina', 'yake', ',', 'upande', 'mmoja', 'Lucy', 'alikuwa', 'na', 'afueni', 'kwamba', 'hajawaambukiza', 'mtoto', 'na', 'baba', ',', 'upande', 'mwengine', 'alikuwa', 'na', 'maswali', 'mengi', 'kuhusu', 'hatma', 'ya', 'ndoa', 'yake', 'na', 'mume', 'wake', 'Kwani', 'alikuwa', 'hana', 'virusi', 'vya', 'HIV', '.', 'Mwanadada', 'huyu', 'anasema', 'kwamba', 'baada', 'kufunga', 'ndoa', 'na', 'mumewe', 'yeye', 'alianza', 'maisha', 'ya', 'Kumcha', 'Mungu', 'kibinafsi', ',', 'kwa', 'lengo', 'la', 'kuelewa', 'maisha', 'yake', 'yalikuwa', 'yanaelekea', 'wapi', 'na', 'pia', 'kufuata', 'masomo', 'ya', 'kidini', 'kwa', 'lengo', 'la', 'kuwa', 'mchungaji', ',', 'amekuwa', 'akiongoza', 'mikutano', 'na', 'nasaha', 'kwa', 'wenye', 'kuishi', 'na', 'HIV', ',', 'Mwanamke', 'huyu', 'anasema', 'kuwa', 'ni', 'nadra', 'kuwapata', 'viongozi', 'wa', 'kidini', 'wakijitokeza', 'kuzungumzia', 'hali', 'Yao', 'ya', 'HIV', 'ila', 'yeye', 'anasema', 'imesaidia', 'kuwapa', 'matumaini', 'hasa', 'wanawake', 'walioko', 'maeneo', 'ya', 'kidini', ',', 'na', 'ni', 'waathiriwa', 'wa', 'HIV', '.', 'Lucy', 'amekataa', 'dhana', 'iliyokuwepo', 'katika', 'jamii', 'yake', 'kwamba', 'huenda', 'kulikuwa', 'na', 'laana', 'kwa', 'kuwa', 'Mama', 'yake', 'mzazi', ',', 'shangazi', 'wale', 'wawili', 'na', 'mjomba', 'mmoja', 'walifariki', 'na', 'HIV', ',', 'na', 'huenda', 'ilimwandama', 'pia', ',', 'ila', 'yeye', 'mwenyewe', 'anamini', 'kuwa', 'wakati', 'huo', 'tabia', 'yake', 'haikuwa', 'Sawa', 'na', 'tayari', 'amerekebisha', 'hilo', '.', '``', 'Mimi', 'nimebadilika', 'na', 'kuwa', 'kiumbe', 'kipya', 'kabisa', ',', 'yakale', 'yamepita', 'na', 'hivi', 'Sasa', 'ninaishi', 'kwa', 'kuzingatia', 'nidhamu', 'katika', 'maisha', 'yangu', '``', 'anasema', 'Lucy']\n",
      "\n",
      " Number of Words:  943\n"
     ]
    }
   ],
   "source": [
    "file=\"feb2.txt\"\n",
    "\n",
    "# calling the function and storing the contents in a text variable \n",
    "text = get_document(\"https://www.bbc.com/swahili/habari-60221273\")\n",
    "\n",
    "# calling the store_ document function \n",
    "store_document(doc=text,name=file)\n",
    "\n",
    "#add the words in this file to the total_corpus_words, to keep count of the number of words in the corpus\n",
    "total_corpus_words+=total_words(file)"
   ]
  },
  {
   "cell_type": "code",
   "execution_count": 70,
   "metadata": {},
   "outputs": [
    {
     "data": {
      "text/plain": [
       "93348"
      ]
     },
     "execution_count": 70,
     "metadata": {},
     "output_type": "execute_result"
    }
   ],
   "source": [
    "total_corpus_words"
   ]
  },
  {
   "cell_type": "code",
   "execution_count": 71,
   "metadata": {},
   "outputs": [
    {
     "name": "stdout",
     "output_type": "stream",
     "text": [
      "['Collins', 'Kibet', ':', 'Mjukuu', 'wa', 'Rais', 'Moi', 'atimuliwa', 'katika', 'nyumba', 'anayoishi', 'Kenya', '8', 'Februari', '2022', 'Chanzo', 'cha', 'picha', ',', 'Getty', 'Images', 'Maelezo', 'ya', 'picha', ',', 'Familia', 'ya', 'mzee', 'Moi', 'inapigania', 'usimamizi', 'wa', 'mali', 'yake', 'Mjukuu', 'wa', 'rais', 'wa', 'zamani', 'wa', 'Kenya', 'Daniel', 'arap', 'Moi', ',', 'ambaye', 'alifariki', 'miaka', 'miwili', 'iliopita', ',', 'amefurushwa', 'kutoka', 'katika', 'nyumba', 'yake', 'kutokana', 'na', 'kukosa', 'kulipa', 'malimbikizi', 'ya', 'kodi', 'ya', 'nyumba', 'ya', 'zaidi', 'ya', '$', '2,100', '(', '£1,550', ')', 'ya', 'miezi', 'sita', '.', 'Hatua', 'hiyo', 'inajiri', 'huku', 'kukiwa', 'na', 'kesi', 'mahakamani', 'ambapo', 'familia', 'hiyo', 'inapigamia', 'usimamizi', 'wa', 'mali', 'yake', '.', 'Collins', 'Kibet', ',', 'mwenye', 'umri', 'wa', 'miaka', '45', ',', 'aliambia', 'mahakama', 'kwamba', 'alikuwa', 'hana', 'fedha', 'za', 'kulipia', 'kodi', 'yake', 'ya', 'nyumba', 'na', 'hata', 'kuiangalia', 'familia', 'yake', '-', 'akiongezea', 'kwamba', 'alifurushwa', 'wiki', 'iliopita', '.', 'Aliwashutumu', 'ndugu', 'zake', 'akiwemo', 'mamake', 'wa', 'kambo', '-', 'ambao', 'ndio', 'wasimamizi', 'wa', 'mali', 'hiyo', '-', 'kwa', 'kutomuhusisha', 'kurithi', 'mali', 'ya', 'babu', 'yake', '.']\n",
      "\n",
      " Number of Words:  150\n"
     ]
    }
   ],
   "source": [
    "file=\"feb8_1.txt\"\n",
    "\n",
    "# calling the function and storing the contents in a text variable \n",
    "text = get_document(\"https://www.bbc.com/swahili/michezo-60303744\")\n",
    "\n",
    "# calling the store_ document function \n",
    "store_document(doc=text,name=file)\n",
    "\n",
    "#add the words in this file to the total_corpus_words, to keep count of the number of words in the corpus\n",
    "total_corpus_words+=total_words(file)"
   ]
  },
  {
   "cell_type": "code",
   "execution_count": 72,
   "metadata": {},
   "outputs": [
    {
     "data": {
      "text/plain": [
       "93498"
      ]
     },
     "execution_count": 72,
     "metadata": {},
     "output_type": "execute_result"
    }
   ],
   "source": [
    "total_corpus_words"
   ]
  },
  {
   "cell_type": "code",
   "execution_count": 73,
   "metadata": {},
   "outputs": [
    {
     "name": "stdout",
     "output_type": "stream",
     "text": [
      "['Uchaguzi', 'wa', 'Kenya', '2022', ':', 'Rais', 'Kenyatta', 'na', 'naibu', 'wake', 'Ruto', 'warushiana', 'cheche', 'hadharani', 'Huwezi', 'kusikiliza', 'tena', 'Uchaguzi', 'wa', 'Kenya', '2022', ':', 'Rais', 'Kenyatta', 'na', 'naibu', 'wake', 'Ruto', 'warushiana', 'cheche', 'hadharani', '8', 'Februari', '2022', 'Siku', 'moja', 'tu', 'baada', 'ya', 'Rais', 'Kenyatta', 'kuonekana', 'kumkosoa', 'Bwana', 'Ruto', 'kwa', 'kile', 'anachodai', 'ni', 'kupoteza', 'muda', 'mwingi', 'kwenye', 'mikutano', 'ya', 'kisiasa', 'akifanya', 'kampeni', 'za', 'urais', 'badala', 'ya', 'kuwahudumia', 'wananchi', ',', 'leo', 'naibu', 'rais', 'akiwa', 'katika', 'mkutano', 'mwengine', 'wa', 'kisiasa', 'amemjibu', 'bosi', 'wake', '.', 'Na', 'wakati', 'huo', 'huo', 'wafuasi', 'wa', 'naibu', 'rais', 'pamoja', 'na', 'Wakenya', 'mbali', 'mbali', 'wakiwemo', 'madaktari', 'na', 'wauguzi', 'wamemkemea', 'katibu', 'mkuu', 'wa', 'chama', 'cha', 'wafanya', 'kazi', 'nchini', 'Kenya', 'Francis', 'Atwoli', 'kwa', 'kudai', 'kuwa', 'Ruto', 'huenda', 'atajinyonga', 'baada', 'ya', 'kushindwa', 'katika', 'uchaguzi', 'mkuu', 'wa', 'mwaka', '2022', '.']\n",
      "\n",
      " Number of Words:  123\n"
     ]
    }
   ],
   "source": [
    "file=\"feb8_2.txt\"\n",
    "\n",
    "# calling the function and storing the contents in a text variable \n",
    "text = get_document(\"https://www.bbc.com/swahili/habari-60303745\")\n",
    "\n",
    "# calling the store_ document function \n",
    "store_document(doc=text,name=file)\n",
    "\n",
    "#add the words in this file to the total_corpus_words, to keep count of the number of words in the corpus\n",
    "total_corpus_words+=total_words(file)"
   ]
  },
  {
   "cell_type": "code",
   "execution_count": 74,
   "metadata": {},
   "outputs": [
    {
     "data": {
      "text/plain": [
       "93621"
      ]
     },
     "execution_count": 74,
     "metadata": {},
     "output_type": "execute_result"
    }
   ],
   "source": [
    "total_corpus_words"
   ]
  },
  {
   "cell_type": "code",
   "execution_count": 75,
   "metadata": {},
   "outputs": [
    {
     "name": "stdout",
     "output_type": "stream",
     "text": [
      "['Uchaguzi', 'Kenya', '2022', ':', 'Je', 'Naibu', 'wa', 'rais', 'wa', 'Kenya', 'William', 'Ruto', 'anakabiliwa', 'na', 'changamoto', 'gani', 'katika', 'kumteua', 'naibu', 'wake', 'wa', 'rais', '?', 'Joseph', 'Kioko', 'Mchambuzi', 'Kenya', '9', 'Februari', '2022', 'Chanzo', 'cha', 'picha', ',', 'AFP', 'Maelezo', 'ya', 'picha', ',', 'Naibu', 'wa', 'rais', 'wa', 'Kenya', 'William', 'Ruto', 'Utangulizi', 'wa', 'kikao', 'moto', 'cha', 'kisiasa', 'hatimaye', 'umefika', '!', '!', '!', '!', 'Kenya', 'kwa', 'sasa', 'imesalia', 'na', 'miezi', '6', 'kabla', 'ya', 'uchaguzi', 'Mkuu', 'wa', 'Agosti', '9', '2022', '.', 'Kulingana', 'na', 'Tume', 'Huru', 'ya', 'Uchaguzi', 'na', 'Mipaka', '(', 'IEBC', ')', ',', 'vyama', 'vya', 'kisiasa', 'au', 'muungano', 'wa', 'vyama', 'vya', 'kisiasa', 'vinaweza', 'kushiriki', 'uteuzi', 'wa', 'kuwachagua', 'moja', 'kwa', 'moja', 'wa', 'wagombea', 'urais/naibu', 'rais', 'au', 'kushiriki', 'mchujo', 'wa', 'vyama', '.', 'Muda', 'wa', 'kuendesha', 'kura', 'za', 'mchujo', 'za', 'vyama', 'au', 'kupitisha', 'uteuzi', 'wa', 'moja', 'kwa', 'moja', 'ni', 'tarehe', '22', 'na', '28', 'Aprili', '2022', 'mtawalia', '.', 'Kwa', 'hivyo', ',', 'hii', 'ina', 'maana', 'kwamba', 'michakato', 'yote', 'ya', 'uteuzi', 'wa', 'wagombea', 'kwa', 'njia', 'yoyote', 'ile', 'inabidi', 'ikamilishwe', 'kwa', 'muda', 'uliowekwa', '.', 'Huu', 'ukiwa', 'ni', 'uchaguzi', 'wa', 'kwanza', 'ambapo', 'viongozi', 'waliopo', 'madarakani', 'wa', 'Ofisi', 'ya', 'Utendaji', 'ya', 'Urais', '(', 'akiwemo', 'Naibu', 'Rais', ')', ',', 'watakuwa', 'wametumikia', 'vipindi', 'viwili', 'vilivyoainishwa', 'kikatiba', '.', 'Kwa', 'hivyo', 'hii', 'inamaanisha', 'kuwa', 'uchaguzi', 'Mkuu', 'wa', 'Agosti', '9', 'utaleta', 'Rais', 'mpya', 'na', 'Naibu', 'Rais', 'mpya', 'wa', 'jamhuri', 'ya', 'Kenya', '.', 'Nafasi', 'ya', 'Naibu', 'Rais', 'kuhusu', 'uteuzi', ',', 'uchaguzi', ',', 'kazi', ',', 'majukumu', 'na', 'wajibu', ',', 'utaratibu', 'wa', 'kuondolewa', 'upo', 'katika', 'katiba', 'ya', 'mwaka', '2010', 'ambayo', 'lengo', 'lake', 'kuu', 'lilikuwa', 'kulinda', 'na', 'kuepusha', 'nafasi', 'hiyo', 'dhidi', 'ya', 'machafuko', 'ya', 'kisiasa', 'yaliyoshuhudiwa', 'wakati', 'wa', 'uchaguzi', '.', 'Urais', 'wa', 'Mzee', 'Jomo', 'Kenyatta', 'na', 'Mzee', 'Daniel', 'Moi', '.', 'Nafasi', 'ya', 'Naibu', 'Rais', 'Kikatiba', 'Kuegemea', 'kikatiba', 'kwa', 'nafasi', 'ya', 'Naibu', 'Rais', 'kumeleta', 'tofauti', 'kubwa', 'ikilinganishwa', 'na', 'nafasi', 'ya', 'awali', 'ya', 'Makamu', 'wa', 'Rais', ',', 'ambapo', 'Rais', 'alikuwa', 'akimteua', 'makamu', 'wake', 'na', 'hivyo', 'kuhudumu', '``', 'kwa', 'radhi', 'ya', 'Mamlaka', 'ya', 'uteuzi', \"''\", ',', 'lakini', 'katika', 'katiba', 'mpya', ',', 'Naibu', 'wa', 'rais', 'huchaguliwa', 'pamoja', 'na', 'mgombea', 'urais', 'aliyeshinda', 'na', 'utaratibu', 'wa', 'kuondolewa', 'umetolewa', 'wazi', 'na', 'katiba', 'chini', 'ya', 'Kifungu', 'cha', '150', ';', 'tofauti', 'nyingine', 'kati', 'ya', 'nafasi', 'ya', 'Makamu', 'wa', 'Rais', 'kwa', 'mujibu', 'wa', 'Katiba', 'ya', 'zamani', 'na', 'Naibu', 'Rais', 'kama', 'ilivyoelezwa', 'katika', 'Katiba', 'Mpya', 'ni', 'kuhusu', 'usimamizi', 'wa', 'nafasi', 'iliyo', 'wazi', 'katika', 'nafasi', 'ya', 'Rais', ';', 'wakati', 'ule', 'wa', 'kwanza', 'ulitoa', 'nafasi', 'ya', 'Makamu', 'wa', 'Rais', 'kufanyiwa', 'uchaguzi', 'mkuu', 'siku', '90', 'baada', 'ya', 'nafasi', 'hiyo', 'kutokea', ',', 'wa', 'pili', 'chini', 'ya', 'Ibara', 'ya', '146', 'inatoa', 'nafasi', 'kwa', 'Naibu', 'Rais', 'kushika', 'madaraka', 'ya', 'rais', 'kwa', 'ukumbusho', 'wa', 'muda', 'ambao', 'nafasi', 'imetokea', '(', 'Hakuna', 'uchaguzi', 'unaotarajiwa', ')', 'Ni', 'masuala', 'haya', 'muhimu', 'miongoni', 'mwa', 'mengine', 'ambayo', 'yameifanya', 'nafasi', 'ya', 'naibu', 'rais', 'kuwa', 'suala', 'muhimu', 'tunapoelekea', 'uchaguzi', 'mkuu', 'wa', 'Agosti', '9', ',', '2022', '.', 'Siasa', 'za', 'Kenya', 'kwa', 'kiasi', 'kikubwa', 'zimepangwa', 'kwa', 'kuzingatia', 'maslahi', 'ya', 'kikanda/jamii', 'na', 'hivyo', 'wagombea', 'wengi', 'wa', 'Urais', 'hutumia', 'nafasi', 'ya', 'Naibu', 'Rais', 'kama', 'chambo', 'cha', 'mazungumzo', 'ili', 'kuvutia', 'wafuasi/wafuasi', 'zaidi', 'kwa', 'kuzingatia', '``', 'faida', 'za', 'kikanda/jamii', \"''\", 'kwa', 'mtu', 'aliyeahidiwa', 'nafasi', 'hiyo', '.', 'Jinsi', 'wadhfa', 'huo', 'ulivyotumika', 'kama', 'chambo', 'kisiasa', 'Katika', 'uchaguzi', 'Mkuu', 'wa', '2002', ',', 'Nafasi', 'ya', 'Makamu', 'wa', 'rais', 'ilikabidhiwa', 'watu', 'wa', 'mkoa', 'wa', 'Magharibi', 'na', 'Mgombea', 'wa', 'urais', 'wa', 'NARC', 'wa', 'wakati', 'huo', ',', 'ambaye', 'hatimaye', 'alikuja', 'kuwa', 'Rais', 'wa', '3', 'wa', 'Kenya', '.', 'Katika', 'Serikali', 'ya', 'Umoja', 'wa', 'Kitaifa', 'ya', '2007', ',', 'nafasi', 'ya', 'Makamu', 'wa', 'rais', 'ilitolewa', 'kwa', 'mgombeaji', 'wa', 'chama', 'cha', 'Wiper', '(', 'Mhe', '.', 'Stephen', 'Kalonzo', 'Musyoka', ')', 'kama', 'njia', 'ya', 'kuwavutia', 'wafuasi', 'wake', 'wanaotoka', 'katika', 'eneo', 'la', 'mashariki', 'mwa', 'Kenya', '.', 'Katika', 'uchaguzi', 'wa', '2013', 'ambao', 'ulifanyika', 'chini', 'ya', 'Katiba', 'mpya', 'ya', '2010', ',', 'nafasi', 'ya', 'mgombea', 'mwenza', 'ilitolewa', 'kwa', 'United', 'Republican', 'Party', '(', 'URP', ')', 'ambayo', 'ilikuwa', 'imekusanya', 'wanachama', 'na', 'wafuasi', 'wake', 'wengi', 'kutoka', 'mkoa', 'wa', 'bonde', 'la', 'ufa', '.', 'Katika', 'uchaguzi', 'wa', '2017', ',', 'vyama', 'viwili', 'vya', 'kisiasa', 'vya', 'The', 'National', 'Party', 'of', 'Kenya', '(', 'TNA', ')', 'na', 'United', 'Republican', 'Party', '(', 'URP', ')', ',', 'pamoja', 'na', 'vyama', 'vingi', 'vya', 'kikanda', 'viliunganishwa', 'na', 'kuunda', 'chama', 'tawala', 'cha', 'sasa', 'kinachoitwa', 'Jubilee', '.', 'Na', 'kama', 'ilivyokuwa', 'awali', ',', 'nafasi', 'ya', 'Naibu', 'rais', 'ilitumika', 'kama', 'njia', 'ya', 'kuhamasisha', 'jamii', 'kubwa', 'ya', 'pili', 'kuunga', 'mkono', 'urais', 'wa', 'Rais', 'Uhuru', 'Kenya', '.', 'Kwa', 'hivyo', 'hali', 'hii', 'haitarajiwi', 'kubadilika', 'katika', 'Uchaguzi', 'Mkuu', 'ujao', 'wa', 'Agosti', '9', '.', 'Kama', 'ilivyo', 'katika', 'chaguzi', 'zote', ',', 'wahusika', 'wakuu', 'wa', 'kisiasa', 'wanakabiliwa', 'na', 'changamoto', 'ya', 'kumchagua', 'mgombea', 'mwenza', 'katika', 'uchaguzi', 'ujao', 'Muungano', 'wa', 'Azimio', 'ambao', 'unaongozwa', 'na', 'Waziri', 'Mkuu', 'wa', 'zamani', 'Raila', 'Odinga', 'na', 'muungano', 'mpya', 'wa', 'Kenya', 'Kwanza', 'unaoongozwa', 'na', 'Naibu', 'Rais', 'William', 'Ruto', 'wanakabiliwa', 'na', 'changamoto', 'ya', 'kumtafuta', 'mgombea', 'mwenza', 'na', 'athari', 'ya', 'kisiasa', 'ambayo', 'itasababisha', 'uamuzi', 'uliochukuliwa', '.', 'Uchaguzi', 'wa', '2013', 'na', '2017', 'ulileta', 'mtindo', 'mpya', 'katika', 'msamiati', 'wa', 'kisiasa', 'wa', 'Kenya', ',', '``', 'ubabe', 'wa', 'idadi', \"''\", ';', 'ambao', 'ulitumiwa', 'ipasavyo', 'na', 'muungano', 'wa', 'makabila', 'mawili', 'makubwa', 'ya', 'Mlima', 'Kenya', 'na', 'Wenyeji', 'wa', 'Bonde', 'la', 'Ufa', 'Ambapo', 'kabila', 'moja', 'lingewasilisha', 'Rais', '(', 'Uhuru', 'Kenyatta', ')', 'huku', 'kabila', 'lingine', 'likitoa', 'Naibu', 'Rais', '(', 'William', 'Ruto', ')', '.', 'Ingawa', 'mtindo', 'huo', 'ulifanya', 'kazi', 'kwa', 'wakati', 'uliokusudiwa', ',', 'uwepo', 'wake', 'katika', 'uchaguzi', 'wa', '2022', 'unaweza', 'kuzua', 'mjadala', 'na', 'kupingwa', ',', 'kwa', 'sababu', 'ya', 'hitaji', 'la', 'kujumuishwa', 'kwa', 'makabila', 'mengine', 'katika', 'usimamizi', 'wa', 'masuala', 'ya', 'nchi', '.', 'Tamaa', 'hii', 'ya', 'ushirikishwaji', 'ilitajwa', 'ipasavyo', 'na', 'Rais', 'Uhuru', 'Kenyatta', 'alipokuwa', 'akihudhuria', 'mazishi', 'katika', 'eneo', 'la', 'Magharibi', 'mwa', 'Kenya', 'ambapo', 'alisema', 'kwamba', '``', 'uongozi', 'hauwezi', 'kuwa', 'hifadhi', 'ya', 'jamii', 'mbili', 'pekee', \"''\", '(', 'akirejelea', 'Watu', 'wa', 'mkoa', 'wa', 'kati', 'na', 'wenzao', 'wa', 'mkoa', 'wa', 'bonde', 'la', 'Ufa', 'walioongoza', 'tangu', 'uhuru', ')', '.', 'Utata', 'unaomkabili', 'William', 'Ruto', 'Huu', 'ndio', 'utata', 'wa', 'kisiasa', 'ambao', 'Naibu', 'Rais', 'Ruto', 'anakumbana', 'nao', 'anapoelekea', 'kwenye', 'uchaguzi', 'wa', 'Agosti', '9', '2022', ';', 'hitaji', 'la', 'kusawazisha', 'masilahi', 'ya', 'kikanda/jamii', 'katika', 'maeneo', 'ambayo', 'yamekuwa', 'yakiunga', 'mkono', 'azma', 'yake', 'ya', 'urais', ',', 'kupitia', 'nafasi', 'ya', 'naibu', 'rais', 'mbali', 'na', 'kujaribu', 'kuwatia', 'moyo', 'washiriki', 'wapya', '(', 'Mudavadi/Wetangula', ')', 'ambao', 'wametoa', 'msukumo', 'mpya', 'kupitia', 'muungano', 'wa', 'Kenya', 'Kwanza', '.', 'Kwa', 'upande', 'wa', 'muungano', 'mpya', 'wa', 'Kenya', 'Kwanza', 'ambao', 'unawaleta', 'pamoja', 'waliokuwa', 'vinara', 'wakuu', 'wa', 'muungano', 'wa', 'NASA', '2017', '(', 'Mhe', '.', 'Mudavadi', 'na', 'Mhe', '.', 'Wetangula', ')', 'na', 'Naibu', 'Rais', 'Ruto', ',', 'swali', 'la', 'nani', 'anapata', 'nini', '(', 'nafasi', 'ya', 'naibu', 'wa', 'rais', 'linajitokeza', 'mbele', '.', 'Ni', 'lazima', 'tukumbuke', 'kwamba', ',', 'Naibu', 'Rais', 'Ruto', 'ameshikilia', 'daima', 'kwamba', 'wahusika', 'wote', 'wa', 'kisiasa', 'wanaofuata', 'imani', 'yake', 'walihitaji', 'kujiunga', 'na', 'chama', 'chake', 'cha', 'kisiasa', ',', 'yaani', 'United', 'democratic', 'Alliance', 'Party', '(', 'UDA', ')', 'na', 'hivyo', 'kuingia', 'kwa', 'vinara', 'hawa', 'wawili', 'wa', 'zamani', 'wa', 'NASA', 'wakiwa', 'na', 'vyama', 'vyao', 'vya', 'kisiasa', 'kunafufua', 'mjadala', 'tofauti', 'wa', 'kisiasa', '.', 'Swali', 'ambalo', 'wengi', 'wanatafakari', 'ni', 'nini', 'kiliahidiwa', 'mabwana', 'hao', 'wawili', 'kutoka', 'eneo', 'la', 'magharibi', 'mwa', 'Kenya', '?', 'Je', ',', 'naibu', 'wa', 'rais', 'William', 'Ruto', 'atashughulikia', 'vipi', 'suala', 'tata', 'la', 'kumchagua', 'mgombea', 'mwenza', 'wa', 'Rais', 'kufikia', 'tarehe', '28', 'Aprili', '2022', '?']\n",
      "\n",
      " Number of Words:  1114\n"
     ]
    }
   ],
   "source": [
    "file=\"feb9.txt\"\n",
    "\n",
    "# calling the function and storing the contents in a text variable \n",
    "text = get_document(\"https://www.bbc.com/swahili/habari-60303748\")\n",
    "\n",
    "# calling the store_ document function \n",
    "store_document(doc=text,name=file)\n",
    "\n",
    "#add the words in this file to the total_corpus_words, to keep count of the number of words in the corpus\n",
    "total_corpus_words+=total_words(file)"
   ]
  },
  {
   "cell_type": "code",
   "execution_count": 76,
   "metadata": {},
   "outputs": [
    {
     "data": {
      "text/plain": [
       "94735"
      ]
     },
     "execution_count": 76,
     "metadata": {},
     "output_type": "execute_result"
    }
   ],
   "source": [
    "total_corpus_words"
   ]
  },
  {
   "cell_type": "code",
   "execution_count": 77,
   "metadata": {},
   "outputs": [
    {
     "name": "stdout",
     "output_type": "stream",
     "text": [
      "['Kwa', 'nini', 'gharama', 'za', 'Barabara', 'kuu', 'ya', 'Nairobi', 'Expressway', 'zimeendelea', 'kupanda', '?', '21', 'Februari', '2022', 'Chanzo', 'cha', 'picha', ',', 'KENHA', 'Gharama', 'ya', 'ujenzi', 'wa', 'Barabara', 'ya', 'Nairobi', 'Expressway', 'ya', 'kilomita', '27.1', 'iliyoanza', 'mwishoni', 'mwa', '2020', 'imepanda', 'hadi', 'takriban', '$', '777.8', 'milioni', ',', 'kutoka', 'makadirio', 'ya', 'awali', 'ya', 'bajeti', 'ya', '$', '576.9', 'milioni', 'yaliyotolewa', 'na', 'Mamlaka', 'ya', 'Kitaifa', 'ya', 'Barabara', 'Kuu', 'ya', 'Kenya', '(', 'Kenha', ')', '.', 'Kwa', 'gharama', 'ya', '$', '32.4', 'milioni', 'kwa', 'kilomita', ',', 'mradi', 'wa', 'Nairobi', 'Express', 'way', 'huneda', 'ndio', 'mradi', 'wa', 'gharama', 'ya', 'juu', 'zaidi', 'wa', 'barabara', 'Kenya', 'na', 'katika', 'eneo', 'hilo', 'na', 'gharama', 'zinaendelea', 'kupanda', '.', 'Zingatia', 'hili', ',', 'gharama', 'ya', 'ujenzi', 'wa', 'Barabara', 'ya', 'Expressway', 'iliyoanza', 'mwishoni', 'mwa', '2020', 'imepanda', 'hadi', 'Sh87.9', 'bilioni', 'au', 'takriban', '$', '777.8', 'milioni', ',', 'kutoka', 'kwa', 'makadirio', 'ya', 'awali', 'ya', 'bajeti', 'ya', 'Sh65.2', 'au', '$', '576.9', 'milioni', 'iliyotolewa', 'na', 'Mamlaka', 'ya', 'Kitaifa', 'ya', 'Barabara', 'Kuu', 'ya', 'Kenya', '(', 'Kenha', ')', '.', 'Hii', 'yenyewe', 'ilikuwa', 'juu', 'kutoka', 'kwa', 'jumla', 'ya', 'gharama', 'iliyopendekezwa', 'ya', 'shilingi', 'bilioni', '55', 'sawa', 'na', 'takriban', 'dola', 'milioni', '550', 'wakati', 'mradi', 'ulipoanzishwa', 'kwa', 'mara', 'ya', 'kwanza', '.', 'Kwa', 'hivyo', 'kwa', 'nini', 'gharama', 'hii', 'inazidi', 'kupanda', 'kwa', 'kasi', '?', 'Wataalamu', 'wanahusisha', 'kupanda', 'kwa', 'gharama', ',', 'ambazo', 'kwa', 'sasa', 'zimeongezeka', 'kwa', 'takriban', '34', '%', 'kwa', 'mbali', 'mbali', '.', 'Kwanza', ',', 'ni', 'kushuka', 'kwa', 'thamani', 'ya', 'shilingi', 'ya', 'Kenya', 'dhidi', 'ya', 'dola', '.', 'Mnamo', 'mwaka', 'wa', '2020', 'wakati', 'mradi', 'huo', 'ulipoanza', ',', 'Dola', 'ya', 'Kimarekani', 'ambayo', 'ufadhili', 'wa', 'mradi', 'huo', 'ulitolewa', 'ilinukuliwa', 'kuwa', 'shilingi', '106.39', 'kabla', 'ya', 'kushuka', 'hadi', 'takriban', '113.50', 'mapema', '2022', '.', 'Chanzo', 'cha', 'picha', ',', 'KENHA', 'David', 'Nashon', 'ni', 'mchumi', 'wa', 'uchukuzi', 'jijini', 'Nairobi', ',', 'anabainisha', 'kuwa', 'kushuka', 'kwa', 'kiwango', 'chochote', 'cha', 'ubadilishaji', 'wa', 'dola', 'huathiri', 'gharama', 'za', 'mradi', 'moja', 'kwa', 'moja', '.', \"'Vitu\", 'kama', 'vile', 'mafuta', ',', 'saruji', 'na', 'chuma', 'vyote', 'vinaletwa', 'sokoni', 'kwa', 'thamani', 'ya', 'dola', ',', 'mabadiliko', 'yoyote', 'yatakuwa', 'na', 'athari', 'ya', 'moja', 'kwa', 'moja', '.', \"'\", 'Anasema', '.', 'Gharama', 'zingine', 'zisizoonekana', 'pia', 'zinaweza', 'kuchangia', ',', 'huku', 'bei', 'za', 'chuma', 'na', 'saruji', 'zikipanda', 'kwa', 'kasi', 'katika', 'muda', 'wa', 'miezi', '24', 'iliyopita', 'kutokana', 'na', 'uhaba', 'wa', 'usambazaji', 'na', 'usafirishaji', 'wa', 'meli', 'ulioletwa', 'na', 'janga', 'la', 'Covid', '19', '.', 'Chanzo', 'cha', 'picha', ',', 'KENHA', \"'Gharama\", 'za', 'usafirishaji', 'wa', 'meli', 'zimeongezeka', 'kote', 'ulimwenguni', '.', 'Zimeongezeka', 'kweli', '.', 'Ukiangalia', 'nyenzo', 'nyingi', 'zinazotumiwa', ',', 'mara', 'nyingi', 'huagizwa', 'kutoka', 'nje', '.', 'Huingia', 'kupitia', 'bandari', 'ya', 'Mombasa', ',', 'na', 'hivyo', 'kuathiri', 'gharama', ',', \"'\", 'Nashon', 'anaongeza', '.', 'Data', 'kutoka', 'Marketwatch', 'inathibitisha', 'madai', 'yake', ',', 'ikionyesha', 'kuwa', 'Tangu', 'Machi', '2020', ',', 'bei', 'za', 'chuma', 'zimepanda', 'kwa', '215', '%', 'duniani', 'kote', '.', 'Katika', 'hali', 'nyingi', 'gharama', 'hizi', 'hupitishwa', 'kwa', 'watumiaji', 'kama', 'inavyowezekana', 'katika', 'mfano', 'wa', 'Kenya', '.']\n",
      "\n",
      " Number of Words:  433\n"
     ]
    }
   ],
   "source": [
    "file=\"feb21.txt\"\n",
    "\n",
    "# calling the function and storing the contents in a text variable \n",
    "text = get_document(\"https://www.bbc.com/swahili/habari-60458847\")\n",
    "\n",
    "# calling the store_ document function \n",
    "store_document(doc=text,name=file)\n",
    "\n",
    "#add the words in this file to the total_corpus_words, to keep count of the number of words in the corpus\n",
    "total_corpus_words+=total_words(file)"
   ]
  },
  {
   "cell_type": "code",
   "execution_count": 78,
   "metadata": {},
   "outputs": [
    {
     "data": {
      "text/plain": [
       "95168"
      ]
     },
     "execution_count": 78,
     "metadata": {},
     "output_type": "execute_result"
    }
   ],
   "source": [
    "total_corpus_words"
   ]
  },
  {
   "cell_type": "code",
   "execution_count": 79,
   "metadata": {},
   "outputs": [
    {
     "name": "stdout",
     "output_type": "stream",
     "text": [
      "['Jinsi', 'Kenya', 'ilivyoikabili', 'Urusi', 'kupitia', 'hotuba', 'ya', 'balozi', 'wake', 'Martin', 'Kimani', 'katika', 'mkutano', 'wa', 'baraza', 'la', 'usalama', 'la', 'Umoja', 'wa', 'Mataifa', '22', 'Februari', '2022', 'Chanzo', 'cha', 'picha', ',', 'UNSC', 'Baraza', 'la', 'Usalama', 'la', 'Umoja', 'wa', 'Mataifa', 'lilifanya', 'mkutano', 'wa', 'dharura', 'baada', 'ya', 'Rais', 'wa', 'Urusi', 'Vladimir', 'Putin', 'kusema', 'kwamba', 'sasa', 'anatambua', 'sehemu', 'ya', 'Ukraine', 'kama', 'Urusi', 'na', 'atatuma', 'wanajeshi', 'wake', 'kuwa', 'walinzi', 'wa', 'amani', 'katika', 'majimbo', 'hayo', 'mawili', '.', 'Uingereza', 'ilichukua', 'hatua', 'ya', 'haraka', 'kutangaza', 'vikwazo', '.', 'Urusi', 'ilikemewa', 'na', 'nchi', 'nyingi', 'zikiwemo', 'Mexico', ',', 'Ireland', ',', 'Norway', ',', 'Ghana', ',', 'na', 'nyinginezo', '.', 'Lakini', 'ni', 'Kenya', 'ndio', 'iliyojitokeza', 'kwa', 'makali', 'yake', 'kwa', 'jinsi', 'ilivyojibu', 'hatua', 'hiyo', 'ya', 'Urusi', '.', 'Balozi', 'wake', 'kwa', 'Umoja', 'wa', 'Mataifa', 'Martin', 'Kimani', 'alitoa', 'hotuba', 'ambayo', 'wengi', 'wamejitokeza', 'kuisifia', 'kama', 'iliyoeleza', 'kwa', 'urahisi', 'na', 'ukali', 'unaostahiki', 'ukiukwaji', 'mkubwa', 'wa', 'sheria', 'za', 'kimataifa', 'ambao', 'urusi', 'imetekeleza', '.', '``', 'Uhuru', 'wa', 'eneo', 'na', 'mamlaka', 'ya', 'Ukraine', 'yamevunjwa', ',', \"''\", 'alisema', 'Balozi', 'Martin', 'Kimani', '``', 'Mkataba', 'wa', 'Umoja', 'wa', 'Mataifa', 'unaendelea', 'kudhoofika', 'chini', 'ya', 'shambulio', 'hilo', 'lisilo', 'na', 'huruma', '.', 'Kwa', 'wakati', 'mmoja', 'unatolewa', 'kwa', 'heshima', 'na', 'nchi', 'zile', 'zile', 'ambazo', 'kisha', 'zikaupa', 'kisogo', 'katika', 'kutekeleza', 'malengo', 'yanayopinga', 'amani', 'na', 'usalama', '....', 'Kenya', 'inasikitishwa', 'sana', 'na', 'tangazo', 'lililotolewa', 'na', 'Urusi', 'la', 'kutambua', 'maeneo', 'ya', 'Ukraine', 'kama', 'mataifa', 'huru', \"'\", 'Aliendelea', 'kusema', 'kuwa', 'Kenya', 'ina', 'wasiwasi', 'mkubwa', 'juu', 'ya', 'athari', 'ambayo', 'Urusi', 'inaweza', 'kuwa', 'nayo', 'ikiwa', 'itaruhusiwa', 'na', 'UN', 'kushambulia', 'na', 'kunyakua', 'nchi', 'zingine', '.', 'Mfano', 'wake', 'ni', 'kwamba', 'mipaka', 'ya', 'Afrika', 'ilikubaliwa', 'na', 'nchi', 'zote', 'za', 'huko', ',', 'licha', 'ya', 'mipaka', 'hiyo', 'kulazimishwa', 'na', 'wakoloni', '.', 'Alieleza', 'kuwa', 'mataifa', 'ya', 'Afrika', 'yalifanya', 'uamuzi', 'huo', 'badala', 'ya', 'kuwa', 'na', 'vita', 'visivyoisha', '.', '``', 'Tulikataa', 'upanuzi', 'kwa', 'misingi', 'yoyote', ',', 'ikiwa', 'ni', 'pamoja', 'na', 'rangi', ',', 'kabila', ',', 'au', 'kitamaduni', ',', \"''\", 'Kimani', 'alisema.', '``', 'Baada', 'ya', 'hotuba', 'yake', 'hiyo', ',', 'maoni', 'yalianza', 'kutolewa', 'huku', 'akisifiwa', 'kwa', 'hotuba', 'yake', 'hiyo', '.Watumiaji', 'wa', 'mitandao', 'ya', 'kijamii', 'walituma', 'jumbe', 'za', 'kuonyesha', \"'makali\", \"'\", 'ya', 'ujumbe', 'wake', 'na', 'jinsi', 'Kimani', 'alivyojieleza', 'na', 'kuwakilisha', 'msimamo', 'wa', 'kenya', 'kuhusu', 'hatua', 'ya', 'Urusi', ';', 'Balozi', 'Martin', 'Kimani', 'ni', 'nani', '?', 'Balozi', 'kimani', 'aliteuliwa', 'kuwa', 'mwakilishi', 'wa', 'Kudumu', 'wa', 'Kenya', 'katika', 'Umoja', 'wa', 'mataifa', 'mwaka', 'wa', '2020', '.', 'Kabla', 'ya', 'uteuzi', 'wake', 'wa', 'hivi', 'punde', 'zaidi', ',', 'Bw', '.', 'Kimani', 'alikuwa', 'Mjumbe', 'Maalumu', 'wa', 'Rais', 'wa', 'Kukabiliana', 'na', 'Itikadi', 'kali', 'na', 'Mkurugenzi', 'wa', 'Kituo', 'cha', 'Kitaifa', 'cha', 'Kupambana', 'na', 'Ugaidi', 'nchini', 'Kenya', 'kuanzia', 'Septemba', '2015', '.', 'Pia', 'aliwahi', 'kuwa', 'Katibu', 'wa', 'Mikakati', 'katika', 'Ofisi', 'ya', 'Mtendaji', 'wa', 'Rais', 'kuanzia', 'Disemba', '2018', '.', 'Bw', '.', 'Kimani', 'alikuwa', 'Mwakilishi', 'wa', 'Kudumu', 'wa', 'Kenya', 'katika', 'Umoja', 'wa', 'Mataifa', 'huko', 'Nairobi', ',', 'Mpango', 'wa', 'Mazingira', 'wa', 'Umoja', 'wa', 'Mataifa', '(', 'UNEP', ')', 'na', 'Mpango', 'wa', 'Umoja', 'wa', 'Mataifa', 'wa', 'Makazi', '(', 'UN-Habitat', ')', 'kati', 'ya', 'Desemba', '2012', 'na', 'Septemba', '2015', '.', 'Mapema', 'katika', 'taaluma', 'yake', ',', 'Bw', '.', 'Kimani', 'alikuwa', 'Mkurugenzi', 'katika', 'Mamlaka', 'ya', 'Kiserikali', 'juu', 'ya', 'Maendeleo', '(', 'IGAD', ')', 'nchini', 'Ethiopia', ',', 'kuanzia', 'Aprili', '2011', 'hadi', 'Disemba', '2012', '.', 'Bw', '.', 'Kimani', 'alipata', 'PhD', 'na', 'shahada', 'ya', 'uzamili', 'katika', 'masomo', 'ya', 'vita', 'katika', 'Chuo', 'cha', 'King', \"'s\", 'College', ',', 'Chuo', 'Kikuu', 'cha', 'London', ',', 'mwaka', 'wa', '2010', 'na', '2003', ',', 'mtawalia', ',', 'na', 'pia', 'shahada', 'ya', 'kwanza', 'katika', 'Chuo', 'Kikuu', 'cha', 'New', 'Hampshire', 'mwaka', 'wa', '1996', '.']\n",
      "\n",
      " Number of Words:  538\n"
     ]
    }
   ],
   "source": [
    "file=\"feb22.txt\"\n",
    "\n",
    "# calling the function and storing the contents in a text variable \n",
    "text = get_document(\"https://www.bbc.com/swahili/habari-60474486\")\n",
    "\n",
    "# calling the store_ document function \n",
    "store_document(doc=text,name=file)\n",
    "\n",
    "#add the words in this file to the total_corpus_words, to keep count of the number of words in the corpus\n",
    "total_corpus_words+=total_words(file)"
   ]
  },
  {
   "cell_type": "code",
   "execution_count": 80,
   "metadata": {},
   "outputs": [
    {
     "data": {
      "text/plain": [
       "95706"
      ]
     },
     "execution_count": 80,
     "metadata": {},
     "output_type": "execute_result"
    }
   ],
   "source": [
    "total_corpus_words"
   ]
  },
  {
   "cell_type": "code",
   "execution_count": 81,
   "metadata": {},
   "outputs": [
    {
     "name": "stdout",
     "output_type": "stream",
     "text": [
      "['Waridi', 'wa', 'BBC', ':', 'Jinsi', '‘', 'ushamba', '’', 'ulivyomponza', 'msaidizi', 'wa', 'nyumbani', 'ambaye', 'hakukata', 'tamaa', 'ya', 'maisha', 'licha', 'ya', 'changamoto', 'Anne', 'Ngugi', 'BBC', 'Swahili', '23', 'Februari', '2022', 'Chanzo', 'cha', 'picha', ',', 'Esther', 'Nyokabi', 'Esther', 'Nyokabi', 'hataisahau', 'siku', 'ya', 'kwanza', 'alipotafuta', 'kazi', 'ya', 'ajira', 'kama', 'mfanyakazi', 'wa', 'nyumbani', ',', 'kwani', 'anasema', 'haikuwa', 'rahisikwa', 'sababu', 'hakuna', 'yeyote', 'aliyemtafutia', 'kazi', 'bali', 'alichukua', 'mkoba', 'wake', 'na', 'kutembea', 'kwenda', 'nyumba', 'hadi', 'nyumba', 'na', 'kubisha', 'huku', 'akiuliza', 'iwapo', 'kulikuwa', 'na', 'hitaji', 'la', 'msichana', 'wa', 'kazi', '.', \"''Nilitembea\", 'sana', 'siku', 'ile', \"''\", ',', 'aliniambia', 'katika', 'mahojiano', 'haya', '.', 'Akiwa', 'na', 'umri', 'wa', 'miaka', '36', ',', 'Bi', 'Esther', 'ni', 'mama', 'wa', 'mtoto', 'mmoja', 'na', 'ni', 'mama', 'wa', 'kambo', 'wa', 'watoto', 'wawili', '.', 'Ameolewa', 'na', 'mjasiriamali', 'ambaye', 'maisha', 'yake', 'ya', 'hapo', 'awali', 'anayatumia', 'kama', 'daraja', 'la', 'mafunzo', 'nchini', 'Kenya', '.', 'Hii', 'inahusu', 'hasa', 'maisha', 'yake', 'alipokuwa', 'mfanyikazi', 'wa', 'nyumbani', '.', \"'Maisha\", 'ya', 'kuwa', 'mfanyakazi', 'za', 'nyumbani', \"'\", 'Anasema', 'chaguo', 'lake', 'la', 'kuwa', 'mfanyakazi', 'wa', 'nyumbani', 'lilitokana', 'na', 'maisha', 'yake', 'yaliyojaa', 'masaibu', 'tangu', 'alipokuwa', 'na', 'umri', 'mdogo', 'wa', 'miaka', '25', '.', 'Hatua', 'yake', 'ya', 'kukatiza', 'masomo', 'ilikuwa', 'ndio', 'chanzo', 'cha', 'mahangaiko', 'makubwa', 'ya', 'kuajiriwa', 'kama', 'yaya', 'kutoka', 'nyumba', 'moja', 'hadi', 'nyingine', '.', 'Anasema', 'amekuwa', 'kwenye', 'kazi', 'hiyo', 'katika', 'familia', 'zisizopungua', 'ishirini', '.', '``', 'Unajua', 'unapokuwa', 'hauna', 'masomo', 'yoyote', ',', 'huna', 'budi', 'kukubali', 'kufanya', 'kazi', 'kazi', 'yoyote', 'ya', 'mikono', 'kwa', 'mfano', 'kufua', ',', 'kupika', 'kulea', 'watoto', ',', 'ujenzi', 'na', 'kadhalika', ',', 'ndio', 'yalikuwa', 'maisha', 'yangu', 'hapo', 'awali', ',', 'sikuwa', 'na', 'chaguo', 'ila', 'kukubali', 'kazi', 'za', 'nyumba', 'kama', 'njia', 'ya', 'kukidhi', 'mahitaji', 'yangu', \"''\", ',', 'anasema', 'Esther', '.', 'Esther', 'anakiri', 'kuwa', 'wakati', 'anaajiriwa', 'kama', 'mfanyakazi', 'wa', 'nyumbani', ',', 'alikuwa', 'hana', 'vyeti', 'vyovyote', 'au', 'ujuzi', 'wowote', 'wa', 'kitaaluma', 'kilichoingia', 'akili', 'mwake', 'ni', 'wepesi', 'wa', 'kuwa', 'msaidizi', 'wa', 'nyumbani', 'kwani', 'angeimudu', 'kwasababu', 'ni', 'kazi', 'aliyokuwa', 'akifanya', 'akiwa', 'nyumbani', 'kwao', '``', 'Nakumbuka', 'kwamba', 'nilizunguka', 'mno', 'huku', 'na', 'kule', 'nikibisha', 'hodi', 'kwenye', 'milango', 'ya', 'watu', ',', 'nikiomba', 'kazi', 'na', 'kwa', 'kweli', 'nilifanikiwa', '.', 'Kitu', 'nilichokigundua', 'ni', 'kwamba', 'kila', 'nyumba', 'ina', 'sheria', 'zinazotolewa', 'kwa', 'wasaidizi', 'wa', 'nyumbani', 'na', 'nilipokea', 'yote', 'kama', 'sehemu', 'ya', 'kazi', '``', ',', 'anasema', 'Esther', '.', \"'Ushamba\", 'mwingi', 'ulimponza', \"'\", 'Chanzo', 'cha', 'picha', ',', 'Esther', 'Nyokabi', 'Maelezo', 'ya', 'picha', ',', 'Bi', 'Esther', 'hawezi', 'kusahau', 'siku', 'alipopigwa', 'na', 'mwajiri', 'wake', 'Wakati', 'alipoanza', 'kazi', 'hiyo', ',', 'hakujua', 'kwamba', 'maisha', 'ya', 'vijijini', 'ni', 'tofauti', 'na', 'ya', 'mijini', ',', 'kwa', 'hiyo', 'alipoanza', 'kazi', 'alijipata', 'akiwa', 'katika', 'hali', 'ya', 'kutoelewa', 'mtindo', 'wa', 'maisha', 'katika', 'nyumba', 'za', 'mijini', ',', 'akisema', 'alijiona', 'mwenye', \"'ushamba\", \"'\", 'mwingi', 'katika', 'mazingira', 'ambayo', 'hakuwa', 'ameyazoea', '.', 'Makosa', 'madogo', 'madogo', 'kutokana', 'na', 'kutojua', 'jinsi', 'ya', 'kutumia', 'hasa', 'vyombo', 'vya', 'kisasa', 'vya', 'umeme', 'vilimuweka', 'kwenye', 'matatizo', 'na', 'waajiri', 'wake', ',', 'alisema', '.', 'Huku', 'akiangua', 'kicheko', ',', 'mwanamke', 'huyu', 'anakumbuka', 'siku', 'ya', 'kwanza', 'alipopigwa', 'na', 'mwajiri', 'wake', 'aliposhindwa', 'kutumia', 'kifaa', 'cha', 'kupasha', 'chakula', 'moto', 'almaarufu', 'microwave', ',', 'na', 'licha', 'ya', 'kupokea', 'kichapo', 'Esther', 'anasema', 'kwamba', 'aliendelea', 'kufanya', 'kazi', 'zake', 'katika', 'nyumba', 'ile', '.', 'Wakati', 'huo', 'anakiri', 'kwamba', 'hakuelewa', 'haki', 'zake', 'kama', 'msaidizi', 'wa', 'nyumbani', 'na', 'hivyo', 'alipiga', 'moyo', 'konde', 'na', 'kuendelea', 'kuvumilia', 'unyanyasaji', 'yakiwemo', 'matusi', 'asijue', 'ni', 'wapi', 'anaweza', 'kupata', 'usaidizi', '.', 'Bi', 'Nyokabi', 'anasema', 'baadhi', 'ya', 'wanaume', 'walikuwa', 'na', 'tabia', 'ya', 'kuwatongoza', 'wafanyikazi', 'wa', 'nyumba', ',', 'uzoefu', 'ambao', 'binafsi', 'aliupitia', '.', 'Mwanadada', 'huyu', 'anasimulia', 'safari', 'ya', 'kutoka', 'nyumba', 'moja', 'hadi', 'nyengine', 'na', 'wakati', 'mwingine', 'hali', 'na', 'mazingira', 'ya', 'kazi', 'za', 'nyumbani', 'haikuwa', 'rafiki', '.', 'Anadai', 'baadhi', 'ya', 'wanaume', 'walikuwa', 'na', 'tabia', 'ya', 'kutongoza', 'wafanyikazi', 'wa', 'nyumba', ',', 'jambo', 'analosema', 'alilipitia', '.', '``', 'Kwa', 'kusema', 'ukweli', 'mimi', 'nimefanya', 'kazi', 'za', 'nyumba', ',', 'kwa', 'zaidi', 'ya', 'miaka', 'mitano', ',', 'katika', 'muda', 'huo', 'nimekuwa', 'ndani', 'ya', 'nyumba', 'zaidi', 'ya', 'ishirini', 'nchini', 'Kenya', ',', 'nimekumbana', 'na', 'watu', 'wazuri', 'sana', 'na', 'watu', 'ambao', 'wanawadharau', 'wafanyikazi', 'wanyumbani', 'na', 'wengine', 'pia', 'wana', 'nia', 'mbaya', 'ya', 'kuwatumia', 'wafanyakazi', 'ambao', 'hawajielewi', 'au', 'kufahamu', 'haki', 'zao', '``', ',', 'anasema', 'Esther', '.', 'Mwanadada', 'huyu', 'anatoa', 'taswira', 'ya', 'baadhi', 'ya', 'nyumba', 'alizofanyia', 'kazi', 'na', 'maisha', 'yake', 'yakawa', 'na', 'sonona', ',', 'kwa', 'mfano', 'anasema', 'kwamba', 'wakati', 'anafanya', 'kazi', 'alikumbana', 'na', 'wenye', 'nyumba', 'wanaume', 'ambao', 'walikuwa', 'na', 'tabia', 'ya', 'kumsumbua', 'sumbua', 'kwa', 'kutaka', 'mahusiano', 'ya', 'kimapenzi', 'ya', 'siri', 'au', 'kama', 'alivyosema', 'awe', \"'mpango\", 'wa', 'kando', \"'\", '.', 'Esther', 'anasema', 'kwamba', 'hali', 'kama', 'hiyo', 'imemtokea', 'mara', 'nyingi', 'tu', '.', '``', 'Haya', 'mambo', 'nimeyapitia', 'katika', 'baadhi', 'ya', 'nyumba', 'nilizofanyia', 'kazi', ',', 'na', 'ilikuwa', 'ni', 'changamoto', 'kwa', 'sababu', 'mimi', 'sikuwa', 'tayari', 'kwa', 'mahusiano', 'ya', 'kando', ',', 'kuwazia', 'tu', 'kwamba', 'ningeshiriki', 'mapenzi', 'ndani', 'ya', 'nyumba', 'ambayo', 'mimi', 'ni', 'mfanyakazi', 'ilinitatiza', 'mno', 'na', 'kwa', 'hiyo', 'nilijipata', 'katika', 'njia', 'panda', 'na', 'kujipata', 'bila', 'ajira', '``', 'anakumbuka', 'Esther', '.', 'Anakumbuka', 'kisa', 'kimoja', 'ambapo', 'anakiri', 'nusura', 'aingie', 'kwenye', 'mtego', 'wa', 'mahusiano', 'kama', 'hayo', 'ambapo', 'mume', 'wa', 'mwajiri', 'wake', 'alikuwa', 'amemuahidi', 'makubwa', ',', 'kwa', 'mfano', 'anasema', 'kwamba', 'alikuwa', 'ameahidiwa', 'kurejeshwa', 'chuoni', ',', 'kupangiwa', 'nyumba', 'pamoja', 'na', 'maisha', 'ya', 'juu', '.', 'Esther', 'anasema', 'kwamba', 'kishawishi', 'kikuu', 'kilikuwa', 'kwamba', 'alikuwa', 'kwenye', 'umasikini', 'mkuu', 'na', 'alitamani', 'maisha', 'ya', 'juu', ',', 'ila', 'alijitoa', 'kabla', 'ya', 'hatari', 'kuingia', '.', 'Anasema', ':', \"''\", 'Kama', 'mwanamke', 'nilihisi', 'iwapo', 'ningejihusisha', 'na', 'mahusiano', 'ya', 'kando', 'katika', 'nyumba', 'ya', 'mwajiri', 'wangu', ',', 'ningeharibu', 'familia', 'na', 'kutenganisha', 'watu', 'katika', 'ndoa', ',', 'nilikuwa', 'nawaza', 'kwamba', 'siku', 'za', 'usoni', 'pia', 'mimi', 'nilitamani', 'ndoa', 'na', 'sikutaka', 'nijiharibie', 'kwa', 'kuharibu', 'familia', 'za', 'watu', '``', 'anasema', 'Esther', '.', 'Ushauri', 'kwa', 'wasaidizi', 'wengine', 'wa', 'nyumbani', 'na', 'jamii', 'Chanzo', 'cha', 'picha', ',', 'Esther', 'Nyokabi', 'Maelezo', 'ya', 'picha', ',', 'Esther', 'anajiona', 'kama', 'kielelezo', 'chema', 'katika', 'jamii', 'Ni', 'matukio', 'kama', 'haya', 'ambayo', 'yalimsukuma', 'mwanadada', 'huyu', 'kuzungumzia', 'hadharani', 'changamoto', 'na', 'masaibu', 'yaliompata', 'kama', 'mfanyikazi', 'wa', 'nyumbani', '.', 'Esther', 'anasema', 'kwamba', 'miaka', 'aliyohudumu', 'kama', 'msaidizi', 'wa', 'nyumbani', 'ilimfunza', 'mengi', 'kuhusiana', 'na', 'jamii', 'inavyowatazama', 'wahudumu', 'kama', 'yeye', '.', 'Esther', 'aliamua', 'kuacha', 'kazi', 'ya', 'nyumba', 'na', 'kuanza', 'masomo', 'maalum', 'yanayohusu', 'ushauri', 'kwa', 'wanaoishi', 'na', 'virusi', 'vya', 'HIV', '(', 'VVU', ')', ',', 'alihitimu', 'na', 'kuanza', 'kufanya', 'kazi', 'katika', 'taasisi', 'mbali', 'mbali', '.', 'Esther', 'anajiona', 'kama', 'kielelezo', 'chema', 'katika', 'jamii', ',', 'na', 'anatoa', 'ushauri', 'kwa', 'wafanyikazi', 'wa', 'nyumbani', 'kwamba', 'inawezekana', 'ukaanza', 'kwa', 'kazi', 'hiyo', 'na', 'baadaye', 'maisha', 'yakaboreka']\n",
      "\n",
      " Number of Words:  972\n"
     ]
    }
   ],
   "source": [
    "file=\"feb23.txt\"\n",
    "\n",
    "# calling the function and storing the contents in a text variable \n",
    "text = get_document(\"https://www.bbc.com/swahili/habari-60479849\")\n",
    "\n",
    "# calling the store_ document function \n",
    "store_document(doc=text,name=file)\n",
    "\n",
    "#add the words in this file to the total_corpus_words, to keep count of the number of words in the corpus\n",
    "total_corpus_words+=total_words(file)"
   ]
  },
  {
   "cell_type": "code",
   "execution_count": 82,
   "metadata": {},
   "outputs": [
    {
     "data": {
      "text/plain": [
       "96678"
      ]
     },
     "execution_count": 82,
     "metadata": {},
     "output_type": "execute_result"
    }
   ],
   "source": [
    "total_corpus_words"
   ]
  },
  {
   "cell_type": "code",
   "execution_count": 83,
   "metadata": {},
   "outputs": [
    {
     "name": "stdout",
     "output_type": "stream",
     "text": [
      "['Wabunge', 'waidhinisha', 'mtu', 'wa', 'kwanza', 'wa', 'jinsia', 'mbili', 'kufanya', 'kazi', 'ya', 'serikali', 'Kenya', ',', 'hii', 'inatuma', 'ujumbe', 'gani', '?', '24', 'Februari', '2022', 'Chanzo', 'cha', 'picha', ',', 'Star', 'media', 'Maelezo', 'ya', 'picha', ',', 'Dkt.Dennis', 'Nyongesa', 'Bunge', 'la', 'Kenya', 'siku', 'ya', 'Jumanne', 'liliweka', 'historia', 'kwa', 'kumuidhinisha', 'mtu', 'wa', 'kwanza', 'mwenye', 'jinsia', 'tofauti', 'kushika', 'nafasi', 'ya', 'juu', 'katika', 'Tume', 'ya', 'Kitaifa', 'ya', 'Haki', 'za', 'Kibinadamu', 'nchini', 'humo', '.', 'Dkt', 'Dennis', 'Nyongesa', 'Wamalwa', 'alikiri', 'kuwa', 'na', 'jinsia', 'tofauti', 'aliidhinishwa', 'na', 'wabunge', 'na', 'kumfanya', 'kuwa', 'mtu', 'wa', 'kwanza', 'wa', 'jinsia', 'ya', 'tatu', 'kushika', 'wadhifa', 'wa', 'juu', 'wa', 'umma', '.', 'Idhini', 'yake', 'pia', 'inatuma', 'ujumbe', 'wa', 'azimio', 'la', 'nchi', 'kutambua', 'watu', 'wa', 'jinsia', 'ya', 'tatu', '.', 'Mhadhiri', 'huyo', 'wa', 'chuo', 'kikuu', 'aliisimulia', 'kamati', 'ya', 'uchunguzi', 'inayoongozwa', 'na', 'Mbunge', 'wa', 'Kangema', 'Muturi', 'Kigano', 'jinsi', 'ambavyo', 'amekabiliwa', 'na', 'ukiukaji', 'wa', 'haki', 'za', 'binadamu', 'kutokana', 'na', 'jinsia', 'yake', '.', 'Watu', 'wenye', 'jinsia', 'tofauti', 'ni', 'watu', 'waliozaliwa', 'wakiwa', 'na', 'jinsi', 'zote', 'mbili', 'yaani', 'ya', 'kiume', 'na', 'kike', '.', 'Kulingana', 'na', 'sensa', 'ya', 'watu', 'ya', 'mwaka', '2019', ',', 'kuna', 'watu', 'wa', 'jinsia', 'mbili', '1,524', 'wanaotafsiri', 'kuwa', 'asilimia', '0.003', 'ya', 'idadi', 'ya', 'watu', '.', '``', 'Mteule', 'alisema', 'kuwa', 'maono', 'yake', 'ni', 'kuendeleza', 'utamaduni', 'wa', 'kuheshimu', 'haki', 'za', 'binadamu', 'kwa', 'watu', 'wote', 'na', 'kwamba', 'atafanya', 'kazi', 'ili', 'kutekeleza', 'mapendekezo', 'ya', 'kikosi', 'kazi', 'juu', 'ya', 'watu', 'wa', 'jinsia', 'tofauti', 'na', 'ujumuishaji', 'katika', 'mtaala', 'ili', 'kujenga', 'uelewa', ',', \"''\", 'ikisoma', 'sehemu', 'ya', 'Sheria', 'na', 'Haki', ',', 'Ripoti', 'ya', 'Kamati', 'ya', 'Masuala', 'ya', 'Kisheria', '.']\n",
      "\n",
      " Number of Words:  239\n"
     ]
    }
   ],
   "source": [
    "file=\"feb24.txt\"\n",
    "\n",
    "# calling the function and storing the contents in a text variable \n",
    "text = get_document(\"https://www.bbc.com/swahili/60502817\")\n",
    "\n",
    "# calling the store_ document function \n",
    "store_document(doc=text,name=file)\n",
    "\n",
    "#add the words in this file to the total_corpus_words, to keep count of the number of words in the corpus\n",
    "total_corpus_words+=total_words(file)"
   ]
  },
  {
   "cell_type": "code",
   "execution_count": 84,
   "metadata": {},
   "outputs": [
    {
     "data": {
      "text/plain": [
       "96917"
      ]
     },
     "execution_count": 84,
     "metadata": {},
     "output_type": "execute_result"
    }
   ],
   "source": [
    "total_corpus_words"
   ]
  },
  {
   "cell_type": "code",
   "execution_count": 85,
   "metadata": {},
   "outputs": [
    {
     "name": "stdout",
     "output_type": "stream",
     "text": [
      "['Urusi', 'na', 'Ukraine', ':', 'Baadhi', 'ya', 'raia', 'wa', 'Afrika', 'Mashariki', 'walioko', 'Ukraine', 'na', 'wazazi', 'waelezea', 'hisia', 'zao', 'Huwezi', 'kusikiliza', 'tena', 'Urusi', 'na', 'Ukraine', ':', 'Baadhi', 'ya', 'raia', 'wa', 'Afrika', 'Mashariki', 'walioko', 'Ukraine', 'na', 'wazazi', 'waelezea', 'hisia', 'zao', '25', 'Februari', '2022', 'Milipuko', 'mikubwa', 'na', 'mashambulizi', 'ya', 'anga', 'imeshuhudiwa', 'kote', 'mjini', 'Kyiv', 'wakati', 'vita', 'vya', 'Urusi', 'dhidi', 'ya', 'Ukraine', 'vikiingia', 'siku', 'yake', 'ya', 'pili', '.', 'Maafisa', 'wa', 'Ukraine', 'wamesema', 'Urusi', 'imefanya', 'mashambulizi', 'zaidi', 'ya', 'makombora', 'kuzunguka', 'mji', 'mkuu', '.', 'Picha', 'za', 'video', 'zimeonyesha', 'kitu', 'kikubwa', '--', 'ama', 'ndege', 'au', 'kombora', '--', 'kikianguka', 'kutoka', 'angani', 'baada', 'ya', 'kupigwa', 'risasi', '.', 'Maelfu', 'ya', 'watu', 'mjini', 'Kyiv', 'wamekaa', 'usiku', 'kucha', 'katika', 'kituo', 'cha', 'gari', 'moshi', 'ili', 'kujikinga', 'na', 'tishio', 'la', 'mashambulizi', 'ya', 'anga', '.', 'Baadhi', 'ya', 'raia', 'wa', 'kutoka', 'Afrika', 'mashariki', 'wanaelezea', 'hisia', 'zao', 'kufuatia', 'vita', 'vya', 'Urusi', 'dhidi', 'ya', 'Ukraine', 'kuingia', 'siku', 'yake', 'ya', 'pili', '.', 'Mwandishi', 'wa', 'BBC', 'Martha', 'Saranga', 'amezungumza', 'na', 'wanafunzi', 'Watanzania', 'ambao', 'wapo', 'masomoni', 'nchini', 'Ukraine', 'na', 'pamoja', 'na', 'wazazi', 'wa', 'baadhi', 'ya', 'wanafunzi', 'ambao', 'ni', 'raia', 'wa', 'Kenya', '.']\n",
      "\n",
      " Number of Words:  170\n"
     ]
    }
   ],
   "source": [
    "file=\"feb25.txt\"\n",
    "\n",
    "# calling the function and storing the contents in a text variable \n",
    "text = get_document(\"https://www.bbc.com/swahili/habari-60525211\")\n",
    "\n",
    "# calling the store_ document function \n",
    "store_document(doc=text,name=file)\n",
    "\n",
    "#add the words in this file to the total_corpus_words, to keep count of the number of words in the corpus\n",
    "total_corpus_words+=total_words(file)"
   ]
  },
  {
   "cell_type": "code",
   "execution_count": 86,
   "metadata": {},
   "outputs": [
    {
     "data": {
      "text/plain": [
       "97087"
      ]
     },
     "execution_count": 86,
     "metadata": {},
     "output_type": "execute_result"
    }
   ],
   "source": [
    "total_corpus_words"
   ]
  },
  {
   "cell_type": "code",
   "execution_count": 87,
   "metadata": {},
   "outputs": [
    {
     "name": "stdout",
     "output_type": "stream",
     "text": [
      "['Urusi', 'na', 'Ukraine', ':', 'Zanzibar', 'inashirikiana', 'na', 'ubalozi', 'wa', 'Ukraine', 'kuwasafirisha', 'watalii', 'wake', 'Huwezi', 'kusikiliza', 'tena', 'Urusi', 'na', 'Ukraine', ':', 'Zanzibar', 'inashirikiana', 'na', 'ubalozi', 'wa', 'Ukraine', 'kuwasafirisha', 'watalii', 'wake', '28', 'Februari', '2022', 'Serikali', 'ya', 'Zanzibar', 'imesema', 'inashirikiana', 'kwa', 'karibu', 'na', 'ubalozi', 'wa', 'Ukraine', 'uliopo', 'nchini', 'Kenya', 'kuangalia', 'ni', 'namna', 'gani', 'itawasafirisha', 'watalii', 'wa', 'Ukraine', 'wapatao', 'elfu', 'moja', 'ambao', 'hivi', 'sasa', 'wamekwama', 'kisiwani', 'humo', 'baada', 'ya', 'kuzuka', 'kwa', 'vita', 'kati', 'ya', 'Urusi', 'na', 'Ukraine', '.', 'Waziri', 'wa', 'Utalii', 'wa', 'Zanzibar', 'Leila', 'Mohammed', 'Musa', 'amemwambia', 'mwandishi', 'wa', 'BBC', 'Aboubakar', 'Famau', 'kwamba', ',', 'watalii', 'hao', ',', 'tayari', 'wanaendelea', 'kupewa', 'huduma', 'za', 'kibinadamu', 'licha', 'ya', 'wengine', 'kuwa', 'wamemaliza', 'siku', 'zao', 'za', 'kutalii', '.']\n",
      "\n",
      " Number of Words:  109\n"
     ]
    }
   ],
   "source": [
    "file=\"feb28.txt\"\n",
    "\n",
    "# calling the function and storing the contents in a text variable \n",
    "text = get_document(\"https://www.bbc.com/swahili/habari-60553536\")\n",
    "\n",
    "# calling the store_ document function \n",
    "store_document(doc=text,name=file)\n",
    "\n",
    "#add the words in this file to the total_corpus_words, to keep count of the number of words in the corpus\n",
    "total_corpus_words+=total_words(file)"
   ]
  },
  {
   "cell_type": "code",
   "execution_count": 88,
   "metadata": {},
   "outputs": [
    {
     "data": {
      "text/plain": [
       "97196"
      ]
     },
     "execution_count": 88,
     "metadata": {},
     "output_type": "execute_result"
    }
   ],
   "source": [
    "total_corpus_words"
   ]
  },
  {
   "cell_type": "code",
   "execution_count": 89,
   "metadata": {},
   "outputs": [
    {
     "name": "stdout",
     "output_type": "stream",
     "text": [
      "['Urusi', 'na', 'Ukraine', ':', 'Mwanafunzi', 'wa', 'Kenya', 'alivyoshuhudia', 'ubaguzi', 'na', 'mateso', 'kwenye', 'mpaka', 'wa', 'Ukraine', 'na', 'Poland', '1', 'Machi', '2022', 'Chanzo', 'cha', 'picha', ',', 'Getty', 'Images', 'Fatma', 'Abou', 'ni', 'mwanafunzi', 'anayesomea', 'udaktari', 'nchini', 'Ukraine', '.', 'Huu', 'ulikuwa', 'mwaka', 'wake', 'wa', 'sita', 'na', 'wa', 'mwisho', 'kabla', 'kumaliza', 'masomo', 'na', 'kuhitimu', 'kama', 'dakitari', '.', 'Lakini', 'mashambulizi', 'nchini', 'humo', 'yalisababisha', 'yeye', 'na', 'wanafunzi', 'wengine', 'wengi', 'raia', 'wa', 'Kenya', 'kutorokea', 'Poland', '.', 'Ameiambia', 'BBC', 'masaibu', 'yao', 'siku', 'ya', 'pili', 'baada', 'ya', 'vita', 'kuzuka', 'baina', 'ya', 'wanajeshi', 'wa', 'Ukraine', 'na', 'Urusi', '.', 'Walitoroka', 'kuelekea', 'Poland', 'ambapo', 'walikumbana', 'na', 'changamoto', 'nyingi', '.', 'Alielezea', 'kilichotokea', 'siku', 'ya', 'kwanza', 'ya', 'mashambulio', 'ambapo', 'alisema', 'aliamshwa', 'na', 'simu', 'ya', 'mama', 'yake', 'ambaye', 'alimuuliza', 'iwapo', 'alikuwa', 'salama', 'na', 'kumfahamisha', 'kuwa', 'mji', 'mkuu', 'Kiev', 'umeshambuliwa', '.', 'Hata', 'hivyo', 'alimfahamisha', 'mama', 'yake', 'kuwa', 'alikuwa', 'umbali', 'was', 'aa', 'mbili', 'kutoka', 'Kyiv', '.', 'Alipoamka', 'siku', 'ile', 'kulikuwa', 'na', 'milio', 'ya', \"ving'ora\", 'vya', 'tahadhari', 'ya', 'mashambulio', 'ambavyo', 'vilisikika', 'kila', 'mara', ',', 'hali', 'ambayo', 'anasema', 'ilitisha', 'na', 'baadaye', 'katika', 'kundi', 'la', 'wanafunzi', 'la', 'WhatsApp', 'walifahamishwa', 'kuwa', 'ni', 'wakat', 'iwa', 'kutoroka', 'kufuatia', 'mapigano', '.', \"''Baada\", 'ya', 'hapo', 'tuliondoka', 'kuelekea', 'boda', 'na', 'kusema', 'kweli', 'njiani', 'kote', 'hatukushuhudia', 'ubaguzi', 'wowote', 'ndani', 'ya', 'Ukraine', ',', 'ila', 'njiani', 'kulikuwa', 'na', 'vituo', 'vingi', 'vya', 'ukaguzi', 'wa', 'jeshi…ndani', 'ya', 'Ukraine', 'hakukua', 'na', 'ubaguzi', ',', 'ubaguzi', 'ulikuwa', 'kwenye', 'boda', \"''\", ',', 'anasema', '.', 'Yeye', 'na', 'wakenya', 'wenzake', 'walilazimika', 'kutembea', 'kilomita', 'thelathini', 'kufika', 'mpaka', 'wa', 'Poland', '.', 'Na', 'walipowasili', 'wanasema', 'walikumbana', 'na', 'ubaguzi', 'wa', 'rangi', '.', \"''Maafisa\", 'upande', 'wa', 'mpaka', 'wa', 'Ukraine', 'walitoa', 'nafasi', 'kwa', 'wanawake', 'na', 'watoto', 'wa', 'Ukraine', 'kuvuka', 'mpaka', 'kwanza', 'huku', 'wanafunzi', 'kutoka', 'nchi', 'za', 'Afrika', ',', 'waarabu', 'na', 'wahindi', 'wakiwekwa', 'kando', \"''\", '.', 'Fatma', 'Abou', 'anaeleza', 'ilikuwa', 'hali', 'ya', 'mshike', 'mshike', 'kusukumana', 'kuvuka', 'mpaka', 'huo', '.', \"'\", \"'Kupita\", 'kwa', 'boda', 'laini', 'ilikuwa', 'ndefu', 'sana…sasa', 'unajua', 'kila', 'mtu', 'alikuwa', 'kwa', 'laini', 'kama', 'ulikuwa', 'mwanamke', 'hata', 'mwanaume', 'alikuwa', 'anaweza', 'kukugusa', ',', 'kuna', 'mtu', 'alinivuta', 'nywele', 'sijui', 'hata', 'nani', 'alinivuta', 'wallah', '!', '!', \"''\", ',', 'anasema', 'Bi', 'fatma', 'huku', 'akicheka', ',', 'na', 'kuongeza', 'kuwa', ':', '``', 'Baadaye', 'tulitenganishwa', 'White', 'people', 'and', 'black', 'people', '(', 'watu', 'weupe', 'na', 'watu', 'wetu', 'weusi', ')', \"''…Ni\", 'watu', 'wao', ',', 'walikuwa', 'wanaokoa', 'watu', 'wao', '.', 'Kusema', 'kweli', 'sio', 'Waafrika', 'tu', 'kulikwa', 'na', 'Waarabu', ',', 'Walatino', ',', 'watu', 'ni', 'wengi', 'sana', 'kulikuwa', 'pia', 'na', 'Wahindi', 'pia', \"''\", ',', 'anaeleza', '..', 'Bi', 'Fatma', 'ambaye', 'kwa', 'sasa', 'amefanikiwa', 'kuvuka', 'na', 'kuingia', 'Poland', 'anasema', 'wenzake', 'Wakenya', 'hasa', 'wanaume', 'hajawaona', 'tena', '.', 'Wanaume', 'waliwekwa', 'kando', 'katika', 'upande', 'wa', 'Ukraine', 'wasijue', 'ikiwa', 'wataingia', 'Poland', 'au', 'la', '.', 'Walilazimika', 'kulala', 'nje', 'licha', 'ya', 'barifi', 'kali', 'iliyowapiga', '.', 'Maelezo', 'ya', 'picha', ',', 'Ghana', 'imekuwa', 'nchi', 'ya', 'kwanza', 'ya', 'kiafrika', 'kuwaokoa', 'raia', 'wake', 'wanaokimbia', 'mzozo', 'nchini', 'Ukraine', 'kufuatia', 'uvamizi', 'wa', 'Urusi', 'Chanzo', 'cha', 'picha', ',', 'AFP', 'Maelezo', 'ya', 'picha', ',', 'Nigeria', 'imelaani', 'jinsi', 'Waafrika', 'taarifa', 'kwamba', 'raia', 'wa', 'nchi', 'za', 'Afrika', 'wanaotoroka', 'mapigano', 'Ukraine', 'wanazuiwa', 'kuingia', 'Poland', 'Kwa', 'sasa', 'Fatma', 'na', 'wanafunzi', 'wenzake', 'wasichana', 'wamepewa', 'malazi', ',', 'dawa', 'na', 'chakula', 'na', 'maafisa', 'wa', 'huduma', 'ya', 'kwanza', 'wa', 'Poland', '.', 'Hawajui', 'hatua', 'itakayofuata', 'kwasababu', 'hakuna', 'wawakilishi', 'wa', 'serikali', 'za', 'nchi', 'zao', 'upande', 'wa', 'Poland', 'katika', 'kambi', 'hizo', 'za', 'wakimbizi', '.', 'Fatma', 'anasema', 'ikiwa', 'Kenya', 'haitawasaidia', 'kurudi', 'nyumbani', 'Nairobi', ',', 'watalazimika', 'kutegemea', 'familia', 'zao', 'kuchanga', 'fedha', 'ili', 'wapate', 'nauli', 'ya', 'ndege', 'kusafiri', 'hadi', 'Kenya', '.']\n",
      "\n",
      " Number of Words:  534\n"
     ]
    }
   ],
   "source": [
    "file=\"march1.txt\"\n",
    "\n",
    "# calling the function and storing the contents in a text variable \n",
    "text = get_document(\"https://www.bbc.com/swahili/habari-60568335\")\n",
    "\n",
    "# calling the store_ document function \n",
    "store_document(doc=text,name=file)\n",
    "\n",
    "#add the words in this file to the total_corpus_words, to keep count of the number of words in the corpus\n",
    "total_corpus_words+=total_words(file)"
   ]
  },
  {
   "cell_type": "code",
   "execution_count": 90,
   "metadata": {},
   "outputs": [
    {
     "data": {
      "text/plain": [
       "97730"
      ]
     },
     "execution_count": 90,
     "metadata": {},
     "output_type": "execute_result"
    }
   ],
   "source": [
    "total_corpus_words"
   ]
  },
  {
   "cell_type": "code",
   "execution_count": 91,
   "metadata": {},
   "outputs": [
    {
     "name": "stdout",
     "output_type": "stream",
     "text": [
      "['Mfahamu', 'Msichana', 'mwenye', 'kiwanda', 'cha', 'ushonaji', 'maarufu', 'Kenya', 'Katika', 'makala', 'ya', 'vijana', 'wenye', 'chini', 'ya', 'miaka', '30', 'wiki', 'hii', 'tunamuangazia', 'msichana', 'mwenye', 'umri', 'wa', 'miaka', '23', 'Brightstar', 'Musyoka', 'kutoka', 'nchini', 'Kenya', 'alilewa', 'na', 'bibi', 'na', 'babu', 'yake', 'baada', 'ya', 'kutelekezwa', 'na', 'mama', 'yake', '.', 'Amemwambia', 'mwanahabari', 'Paula', 'Odek', 'hajui', 'sababu', 'halisi', 'ya', 'mama', 'yake', 'kumtelekeza', 'akiwa', 'na', 'wa', 'miaka', 'miwili', 'lakini', 'kwa', 'hivi', 'sasa', 'ana', 'kampuni', 'ya', 'ushonaji', 'wa', 'nguo', 'maarufu', 'na', 'hata', 'ameweza', 'kuwaajiri', 'vijana', 'wenzake', '.']\n",
      "\n",
      " Number of Words:  78\n"
     ]
    }
   ],
   "source": [
    "file=\"march3.txt\"\n",
    "\n",
    "# calling the function and storing the contents in a text variable \n",
    "text = get_document(\"https://www.bbc.com/swahili/habari-60606487\")\n",
    "\n",
    "# calling the store_ document function \n",
    "store_document(doc=text,name=file)\n",
    "\n",
    "#add the words in this file to the total_corpus_words, to keep count of the number of words in the corpus\n",
    "total_corpus_words+=total_words(file)"
   ]
  },
  {
   "cell_type": "code",
   "execution_count": 92,
   "metadata": {},
   "outputs": [
    {
     "data": {
      "text/plain": [
       "97808"
      ]
     },
     "execution_count": 92,
     "metadata": {},
     "output_type": "execute_result"
    }
   ],
   "source": [
    "total_corpus_words"
   ]
  },
  {
   "cell_type": "code",
   "execution_count": 93,
   "metadata": {},
   "outputs": [
    {
     "name": "stdout",
     "output_type": "stream",
     "text": [
      "['Uchaguzi', 'Kenya', '2022', ':', 'Kwa', 'nini', 'uchaguzi', 'wa', 'Kenya', 'mwaka', 'huu', 'ni', 'muhimu', '?', 'Kenya', 'inajitayarisha', 'kwa', 'uchaguzi', 'wake', 'mkuu', 'wa', 'Agosi', 'tarehe', '9', 'mwaka', 'huu', 'huku', 'hamu', 'ya', 'wengi', 'ikiangazia', 'matokeo', 'ya', 'kinachoonekana', 'kama', 'kitakachokuwa', \"kinyang'anyiro\", 'kikali', 'kati', 'ya', 'ya', 'aliyekuwa', 'Waziri', 'Mkuu', 'Raila', 'Odinga', 'na', 'naibu', 'wa', 'rais', 'William', 'Ruto', '.', 'Kikubwa', 'hata', 'hivyo', 'ambacho', 'kinaufanya', 'uchaguzi', 'huu', 'kuwa', 'wa', 'kipekee', 'Kenya', 'ni', 'kuvunjika', 'kwa', 'uhusiano', 'wa', 'kisiasa', 'kati', 'ya', 'rais', 'Uhuru', 'Kenyatta', 'na', 'naibu', 'wake', 'William', 'Ruto', '.Kilichoanza', 'kama', \"'ndoa\", \"'\", 'thabiti', 'iliyojaa', 'matumaini', 'na', 'mpango', 'ulioonekana', 'wa', 'kudumu', 'wa', 'kupokezana', 'madaraka', 'baada', 'ya', 'miaka', 'kumi', 'ya', 'hatamu', 'ya', 'rais', 'Kenyatta', '-sasa', 'kimegeuka', 'kuwa', 'talaka', 'yenye', 'vishindo', ',', 'lalama', ',', 'madai', 'ya', 'usaliti', 'na', 'uhasama', 'wa', 'kiasa', 'ambao', 'kwa', 'mujibu', 'wa', 'kauli', 'zinaztolewa', 'na', 'viongozi', 'wa', 'marengo', 'hiyo', 'miwili', ',', 'imeleta', 'mgawanyiko', 'nchini', 'humo', '.', 'Rais', 'Kenyatta', 'alianza', 'ushirikiano', 'wake', 'na', 'Bw', 'Odinga', 'kupitia', 'mchakato', 'wa', 'handshake-maridhiano', 'kati', 'yao', 'ambayo', 'yalifaa', 'kuleta', 'utulivu', 'nchini', 'na', 'baadaye', 'yakazaa', 'mapendekezo', 'ya', 'BBI', 'yaliyokuwa', 'na', 'dhamira', 'ya', 'kubadilisha', 'katiba', '.', 'Hilo', 'lilifichua', 'mpasuko', 'mkubwa', 'kati', 'ya', 'rais', 'na', 'naibu', 'wake', 'ingawaje', 'palikuwepo', 'na', \"minong'ono\", 'kwamba', 'uhusiano', 'kati', 'yao', 'tayari', 'ulikuwa', 'umeanza', 'kushuhudia', 'changamoto', '.', 'Rais', 'na', 'washirika', 'wake', 'pia', 'kupitia', 'chama', 'cha', 'Jubilee', 'ambacho', 'waliunda', 'na', 'Ruto', 'wameonyesha', 'ishara', 'kwamba', 'watakuwa', 'nyuma', 'Bw.Odinga', 'katika', 'uchaguzi', 'huu', 'ambao', 'huenda', 'ni', 'wake', 'wa', 'mwisho', 'kuwania', '-ambao', 'utakuwa', 'wa', 'tano', 'sasa', '.', 'Wameunda', 'muungano', '-Azimio', 'la', 'Umoja', 'ili', 'kumenyana', 'na', 'Ruto', 'ambaye', 'alikihama', 'chama', 'tawala', 'na', 'kuunda', 'chama', 'United', 'Democratic', 'Alliance', 'ambacho', 'sasa', 'kipo', 'katika', 'mrengo', 'wa', 'Kenya', 'Kwanza', 'baada', 'ya', 'kuungana', 'na', 'chama', 'cha', 'ANC', 'cha', 'Musalia', 'Mudavadi', 'na', 'Ford-Kenya', 'cha', 'Moses', 'Wetangula', 'Kipute', 'kikali', 'cha', 'uchaguzi', 'ambao', 'rais', 'aliye', 'madarakani', 'hayupo', 'mbioni', 'lakini', 'ameonyesha', 'wazi', 'kwamba', 'anataka', 'kuwa', 'na', 'jukumu', 'kubwa', 'la', 'kuamua', 'mrithi', 'wake', 'dhidi', 'ya', 'mshirika', 'wake', 'wa', 'zamani', 'kisiasa', 'na', 'ambaye', 'ameweza', 'kumega', 'idadi', 'kubw', 'aya', 'wabunge', 'na', 'viongozi', 'kutoka', 'ngome', 'yar', 'ais', ',', 'ni', 'jambo', 'moja', 'zito', 'ambalo', 'linaufanya', 'uchaguzi', 'wa', 'Kenya', 'kuwa', 'wa', 'kipekee', 'mwaka', 'huu', '.', 'Wadadisi', 'wa', 'masuala', 'ya', 'kisiasa', 'nchini', 'Kenya', 'wana', 'mengi', 'ya', 'kusema', 'kuhusu', 'kitakachofanyika', 'na', 'maswali', 'yapo', '.', 'Je', ',', 'rais', 'atafaulu', 'kutumia', 'ushawishi', 'wake', 'kama', 'kiongozi', 'aliye', 'madarakani', 'kumpa', 'ushindi', 'mgombeaji', 'ambaye', 'anataka', 'awe', 'mrithi', 'wake', '?', 'Je', ',', 'kutakuwa', 'na', 'athari', 'gani', 'au', 'matokeo', 'yake', 'iwapo', 'rais', 'aliye', 'madarakani', 'Kenya', 'atabwagwa', 'na', 'mrengo', 'wa', 'naibu', 'wake', '?', 'Uzito', 'na', 'umuhimu', 'wa', 'uchaguzi', 'wa', 'mwaka', 'huu', 'Kenya', 'unachochewa', 'na', 'masuala', 'mengi', 'lakini', 'haya', ',', 'yanajitokeza', 'bayana', 'kuupa', 'uchaguzi', 'huu', 'umuhimu', 'wa', 'kipekee', 'kuliko', 'chaguzi', 'za', 'hapo', 'awali', 'nchini', 'Kenya', 'tangu', 'siasa', 'za', 'mfumo', 'wa', 'vyama', 'vingi', '.', 'Rais', 'hatetei', 'kiti', 'chake', 'lakini', 'ameshafanya', 'chaguo', 'lake', 'Rais', 'Uhuru', 'Kenyatta', 'sio', 'mgeni', 'wa', 'siasa', 'za', 'Kenya', 'na', 'kinachojirudia', 'mwaka', 'huu', 'ni', 'kile', 'ambacho', 'amewahi', 'kukipitia', 'ingawaje', 'wakati', 'huo', 'mwaka', 'wa', '2002', ',', 'yeye', 'alikuwa', 'mgombeaji', 'aliyeonekana', 'kama', 'mradi', 'wa', 'serikali', 'ya', 'wkati', 'huo', 'ya', 'rais', 'wa', 'zamani', 'hayati', 'Daniel', 'Moi', '.', 'Kama', 'uchaguzi', 'wa', 'mwaka', 'huo', ',', 'uchaguzi', 'wa', 'mwakaa', 'huu', 'utawahusisha', 'wagombeaji', 'ambao', 'hawashikilii', 'nafasi', 'ya', 'urais.Kenyatta', 'hakitetei', 'kiti', 'chake', 'na', 'kwa', 'hivyo', 'ni', 'kura', 'ya', 'kumpokeza', 'madara', 'kiongozi', 'mwingine', '.', 'Chanzo', 'cha', 'picha', ',', 'Reuters', 'Hilo', 'pekee', 'kwamba', 'utawala', 'wan', 'chi', 'utabadilika', ',', 'ni', 'jambo', 'zito', 'kwa', 'Kenya', 'kwani', 'imefanyika', 'tu', 'mara', 'mbili-baada', 'ya', 'uchaguzi', 'wa', '2002', 'ambapo', 'rais', 'Moi', 'alimkabidhi', 'madaraka', 'mshindi', 'wa', 'uchaguzi', 'huo', 'rais', 'mstaafu', 'Mwai', 'Kibaki', 'aliyemshinda', 'Uhuru', 'Kenyatta', 'na', 'baada', 'ya', 'uchaguzi', 'wa', '2013', 'wakati', 'Kibaki', 'alipompokeza', 'madaraka', 'rais', 'Kenyatta', '.', 'Makabidhiano', 'mengine', 'ambayo', 'yalitokea', 'ingawaje', 'kwa', 'hali', 'tofauti', 'ni', 'mwaka', 'wa', '1978', 'wakatoi', 'Moi', 'alipoapishwa', 'kuchukua', 'usukani', 'baada', 'ya', 'kifo', 'cha', 'rais', 'wa', 'kwanza', 'wa', 'Kenya', 'hayati', 'Mzee', 'Jomo', 'Kenyatta', '.', 'Rais', 'Kenyatta', 'anajua', 'fika', 'umuhimu', 'na', 'mchango', 'wake', 'katika', 'siku', 'za', 'baada', 'ya', 'uongozi', 'wake.ameeleza', 'wazi', 'kupitia', 'kauli', 'zake', 'za', 'hivi', 'punde', 'kwamba', 'lengo', 'lake', 'ni', 'kuliunganisha', 'taifa', 'na', 'anaamini', 'ataafikia', 'hilo', 'kwa', 'kumuunga', 'mkono', 'Bw.Odinga', '.', 'Matumaini', 'ni', 'kwamba', 'ataweza', 'kutumia', 'ushawishi', 'wake', 'kisiasa', 'kuzileta', 'kura', 'za', 'ngome', 'yake', 'yae', 'neo', 'la', 'kati', 'mwa', 'Kenya', '(', 'Mlima', 'Kenya', ')', 'katika', 'kapu', 'la', 'Odinga', '.', 'Lakini', 'wadadisi', 'wanasema', 'hatua', 'hiyo', 'ina', 'hatari.Tayari', 'mrengo', 'wa', 'naibu', 'war', 'ais', 'umedai', 'kwamba', 'Odinga', 'ni', 'mradi', 'wa', 'serikali', 'na', 'ameshawekwa', 'kapuni', 'na', 'matajiri', 'ambao', 'wanataka', 'ayalinde', 'maslahi', 'yao', '.', 'Ruto', 'na', 'kundi', 'lake', 'wametumia', 'hilo', 'kama', 'kigezo', 'cha', 'kutawaka', 'wapiga', 'kura', 'kumtompa', 'nafasi', 'ya', 'urais', 'Bw.odinga', 'wao', 'wakijinadi', 'kama', \"'watetezi\", 'wwa', \"wanyonge'.Wakiahidi\", 'kuboresha', 'uchumi', 'wa', 'kuanzia', 'chini', ',', 'mashinani', 'hadi', 'juu', 'kupitia', 'wanachokiuza', 'kama', \"'Bottom-up\", \"'\", '.', 'Rais', 'Kenyatta', 'mwenyewe', 'anafahamu', 'vyema', 'jinsi', 'alivyotajwa', 'kama', 'mradi', 'wa', 'serikali', 'wakati', 'rais', 'Moi', 'alipomuunga', 'mkono', 'kuwania', 'urais', 'kwa', 'mara', 'ya', 'kwanza', 'mwaka', 'wa', '2002', '.', 'Kinaya', 'ni', 'kwamba', 'wakati', 'huo', 'Odinga', 'alikuwa', 'miongoni', 'mwa', 'waliompinga', 'rais', 'Kenyatta', 'na', 'Bw.Ruto', 'alikuwa', 'upande', 'wa', 'rais', 'Kenyatta.Siasa', 'kwa', 'kweli', 'hazina', 'uadui', 'wala', 'urafiki', 'wa', 'kudumu', '.', 'Kupima', 'mipaka', 'ya', 'kinachowezekana', 'na', 'kisichowezekana', 'katika', 'siasa', 'Uchaguzi', 'wa', 'Kenya', 'mwaka', 'huu', 'pia', 'huenda', 'ukaandikisha', 'historia', 'kwa', 'mengi', 'mengi', 'katika', 'demokrasia', 'ya', 'ndani.Kando', 'na', 'kwamba', 'naibu', 'wa', 'rais', 'William', 'Ruto', 'anataka', 'kudhihirisha', 'uwezo', 'wake', 'wa', 'kumshinda', 'bosi', 'wake', 'bila', 'usaidizi', 'wake', ',', 'hatua', 'yake', 'hiyo', 'pia', 'imewafanya', 'wengi', 'kutaka', 'kushuhudia', 'mambo', 'ambayo', 'yanaweza', 'kufanyika', 'na', 'yasioweza', 'kufanyika', 'katika', 'siasa', '.', 'Marais', 'wamewahi', 'kushindwa', 'katika', 'chaguzi', 'Afrika', ',', 'lakini', 'wengi', 'huwa', 'hawaamini', 'kwamba', 'matamanio', 'yao', 'yanaweza', 'kushindwa', 'pia', 'kupitia', 'kura', '.', 'Huwezi', 'kusikiliza', 'tena', 'Maelezo', 'ya', 'sauti', ',', 'Uchaguzi', 'wa', 'kenya', '2022', ':', 'Rais', 'Kenyatta', 'na', 'naibu', 'wake', 'Ruto', 'warushiana', 'cheche', 'hadharani', 'Ni', 'wachache', 'wanaoweza', 'kuelewa', 'kinachofanyika', 'kwa', 'sababu', 'pia', 'marais', 'wengi', 'wamefaulu', 'kushinda', 'ama', 'kuwapa', 'ushindi', 'wagombeaji', 'ambao', 'wanawapendelea', 'kuwa', 'warithi', 'wao.Uchaguzi', 'huu', 'wa', 'Kenya', 'utazaa', 'moja', 'ya', 'hilo', '.', 'Yaani', 'huenda', 'mgombeaji', 'anayeungwa', 'mkono', 'na', 'rais', 'akashinda', 'uchaguzi', 'kuwa', 'mrithi', 'wake', 'ama', 'akashindwa', 'kama', 'ilivyofanyika', 'mwaka', 'wa', '2002', 'kenya', 'wakati', 'Kenyatta', 'mwenyewe', 'alipokuwa', 'akiungwa', 'mkono', 'na', 'Moi', 'na', 'kushindwa', '.', 'Historia', 'pia', 'itaandikishwa', 'katika', 'maeneo', 'yan', 'chi', 'na', 'jinsi', 'wapiga', 'kura', 'watakavyofanya', 'maamuzi', 'yao', '.', 'Kura', 'nchini', 'Kenya', 'kwa', 'kiasi', 'kikubwa', 'hupigwa', 'kwa', 'misingi', 'ya', 'kikabila', '.', 'Hesabu', 'hizo', 'na', 'historia', 'ya', 'zamani', 'pia', 'zitawekwa', 'kwenye', 'mizani', 'mwaka', 'huu.Itawezekana', 'kwa', 'rais', 'Uhuru', 'kwa', 'mfano', 'kulishawishi', 'eneo', 'la', 'Mlima', 'Kenya', 'kumpa', 'kura', 'nyingi', 'Bw.Odinga', '?', 'Iwapo', 'hilo', 'halitafanyika', 'na', 'Ruto', 'afaulu', 'kuzipata', 'kura', 'nyingi', ',', 'litakuwa', 'jambo', 'zito.Litakuwa', 'na', 'ujumbe', 'mkubwa', 'kuhusu', 'ushawishi', 'wa', 'rais', 'Kenyatta', 'kwa', 'ngome', 'yake', '.', 'Mapambano', 'ya', 'uongozi', 'katika', 'maeneo', 'ya', 'mashinani', ',', 'ugatuzi', 'na', 'raslimali', 'Kando', 'na', 'kura', 'ya', 'kumchagua', 'rais', ',', 'uchaguzi', 'wa', 'mwaka', 'huu', 'huenda', 'utakuwa', 'wenye', 'wagombeaji', 'wengi', 'zaidi', 'kuwahi', 'kujitokeza', 'kuwania', 'viti', 'mbali', 'mbali', '.', 'Tangu', 'kupitishwa', 'kwa', 'katiba', 'mpya', 'inayoruhusu', 'mgombeaji', 'kuwania', 'kiti', 'chochote', 'kama', 'mgombea', 'huru', 'bila', 'haswa', 'kufadhiliwa', 'na', 'chama', 'cha', 'siasa', ',', 'idadi', 'ya', 'wagombeaji', 'wa', 'nyadhifa', 'za', 'kisiasa', 'imekuwa', 'ikiongezeka', 'na', 'hilo', 'litadhihirika', 'pia', 'katika', 'kura', 'yam', 'waka', 'huu', '.', 'Chanzo', 'cha', 'picha', ',', 'AFP', 'Tayari', 'serikali', 'na', 'utumishi', 'wa', 'umma', 'imekuwa', 'mwathiriwa', 'wa', 'hilo', 'kwa', 'idadi', 'ya', 'wajuu', 'ya', 'watumishi', 'wa', 'umma', 'kuanzia', 'ngazi', 'na', 'uwazi', 'ambao', 'wameacha', 'kazi', 'ili', 'kujiingiza', 'katika', 'siasa', '.', 'Hilo', 'limechochewa', 'na', 'ugunduzi', 'mkubwa', 'kwamba', 'ugatuzi', 'umesababisha', 'raslimali', 'kupelekwa', 'mashindano', 'karibu', 'na', 'wananchi', '.', 'Nyadhifa', 'kama', 'ugavana', 'ambazo', 'awali', 'wengi', 'hawakujua', 'nguvu', 'na', 'ushawishi', 'wake', 'zimewavutia', 'wagombeaji', 'wengi', 'kuliko', 'ilivyowahi', 'kutokea', 'katika', 'chaguzi', 'zilizopita', '.', 'Nafasi', 'za', 'uakilishi', 'wadi', ',', 'ubunge', ',', 'useneta', 'na', 'mwakilishi', 'wa', 'akina', 'mama', 'zimewavutia', 'wagombeaji', 'wengi', 'katika', 'uchaguzi', 'wa', 'mwaka', 'huu', 'hatua', 'inayoashiria', 'ushindani', 'mkali', 'unaotarajiwa', 'katika', 'kura', 'za', 'mwaka', 'huu', '.', 'Hilo', 'pia', 'linakupa', 'taswira', 'ya', 'kiasi', 'cha', 'fedha', 'na', 'raslimali', 'zitakazotumiwa', 'na', 'wagombeaji', 'kuwashawishi', 'wapiga', 'kura', 'kuwapa', 'dhamana', 'ya', 'uongozi', '.', 'Wanaoshikilia', 'madaraka', 'katika', 'ngazi', 'hizo', 'za', 'chini', 'wana', 'mchango', 'mkiubwa', 'wa', 'maendeleo', 'ya', 'sehemu', 'hizo', 'nan', 'chi', 'kwa', 'jumla', '.', 'Uwanja', 'wa', 'siasa', 'hizo', 'za', 'mashinani', 'umefungua', 'fursa', 'kwa', 'wagombeaji', 'wengi', 'na', 'kuzidisha', 'uzito', 'ambao', 'kura', 'yam', 'waka', 'huu', 'itebeba', '.', 'Wapiga', 'kura', 'nao', 'wamegundua', 'umuhimu', 'wa', 'kuwa', 'na', 'usemi', 'kuhusu', 'watendakazi', 'wa', 'kisiasa', 'wanaowaakilisha', 'kitaifa', 'na', 'hivyo', 'wanalipa', 'uzito', 'mkubwa', 'sana', 'zoezi', 'la', 'kuamua', 'ni', 'viongozi', 'wa', 'aina', 'gani', 'wanapewa', 'dhamana', 'kuchukua', 'uongozi', '.', 'Usalama', 'wa', 'Kanda', 'na', 'Biashara', 'Kenya', 'ni', 'taifa', 'lenye', 'umuhimu', 'wa', 'kipekee', 'katika', 'kandaaya', 'Afrika', 'mashariki', 'na', 'kati', 'na', 'upembe', 'wa', 'Afrika.Kinachofanyika', 'nchini', 'Kenya', 'huwa', 'na', 'athari', 'kwa', 'nchi', 'Jirani', 'na', 'uchaguzi', 'wa', 'mwaka', 'huu', 'nchini', 'humo', 'umezua', 'maskio', 'kwa', 'nchi', 'hizo', 'kufahamu', 'kinacheoendelea', 'kisiasa', '.', 'Wakati', 'wa', 'ghasia', 'za', 'baada', 'ya', 'uchaguzi', 'wa', 'mwaka', 'wa', '2007/08', 'Nchi', 'kama', 'Uganda', ',', 'Rwanda', 'na', 'DRC', 'ziliathirika', 'sana', 'kibiashara', 'wakati', 'usafiri', 'ulipokatizwa', 'na', 'mpaka', 'kufungwa', 'Kenya', 'ilipokuwa', 'katika', 'msukosuko', 'huo', 'wa', 'kisiasa', '.', 'Umuhimu', 'wake', 'pia', 'umedhihirika', 'wakati', 'inapotokea', 'kwa', 'rais', 'wa', 'taifa', 'Jirani', 'la', 'Uganda', 'kujitokeza', 'na', 'kusema', 'kwamba', 'haungi', 'mkono', 'mgonbeaji', 'yeyote', 'katika', 'uchaguzi', 'wa', 'Kenya', '.', 'Museveni', 'aliaminika', 'kuwa', 'mshirika', 'wa', 'karibu', 'wa', 'naibu', 'wa', 'rais', 'William', 'Ruto', 'ambaye', 'Pamoja', 'na', 'ujumbe', 'wake', 'wamekuwa', 'wakifanya', 'ziara', 'za', 'kibinafisi', 'kwenda', 'Uganda', 'na', 'hata', 'Ruto', 'aliwahi', 'kumfanyia', 'kampeni', 'rais', 'Museveni', 'katika', 'eneo', 'la', 'Sebei', 'ambalo', 'lina', 'watu', 'wenye', 'uhusiano', 'wa', 'karibu', 'na', 'jamii', 'ya', 'Wakalenjin', 'nchini', 'Kenya', '.', 'Uhusiano', 'huo', 'ulisababisha', 'pawepo', 'na', 'uvumi', 'kwamba', 'huenda', 'Museveni', 'alikuwa', 'akiegemea', 'upande', 'wa', 'Ruto', 'lakini', 'rais', 'huyo', 'alilazimika', 'kutoa', 'tamko', 'kwamba', 'Uganda', 'iko', 'tayari', 'kufanya', 'kazi', 'na', 'mgombeaji', 'yeyote', 'atakayeshinda', 'uchaguzi', 'wa', 'Kenya', '.', 'Kenya', 'pia', 'ina', 'wanajeshi', 'wake', 'katika', 'kundi', 'la', 'Amisom', 'nchini', 'somali', 'linalolinda', 'amani', 'na', 'uchaguzi', 'wa', 'mwaka', 'huu', 'unaangaliwa', 'kwa', 'makini', 'na', 'wadau', 'wanaofanikisha', 'mipango', 'kama', 'hiyo', 'ili', 'pasiwe', 'na', 'athari', 'kwa', 'misheni', 'kama', 'hiyo', 'ya', 'nchini', 'Somalia', '.', 'Umuhimu', 'wa', 'uchaguzi', 'wa', 'Kenya', 'mwaka', 'huu', 'pia', 'umedhihirika', 'wakati', 'mabalozi', 'wa', 'nchi', 'za', 'ulaya', 'na', 'Marekani', 'walipotaka', 'hakikisho', 'kutoka', 'kwa', 'serikali', 'kwamba', 'uchaguzi', 'utafanywa', 'kwa', 'njia', 'ya', 'amani', 'na', 'utakuwa', 'wa', 'haki', 'na', 'uwazi', '.', 'Mawaziri', 'wakiongozi', 'na', 'waziri', 'wa', 'Usalama', 'wa', 'ndani', 'Fred', 'Matiang', \"'\", 'i', 'walilazimika', 'kuwahakikishia', 'mabalozi', 'hao', 'na', 'wajumbe', 'kutoka', 'UN', 'kwamba', 'usalama', 'utadumishwa', 'kuhakikisha', 'uchaguzi', 'unafanywa', 'kwa', 'njia', 'shwari', 'na', 'demokrasia', 'inatekelezwa', '.', 'Mabalozi', 'hao', 'pia', 'walitaka', 'hakikisho', 'la', 'kulindwa', 'kwa', 'maslahi', 'yan', 'chi', 'zao', 'kama', 'vile', 'uwekezaji', 'na', 'miradi', 'inayoendeshwa', 'Pamoja', 'na', 'serikali', 'zao', '.', 'Ahadi', 'za', 'kampeni', 'zinazotolewa', 'na', 'wagombeaji', '.', 'Kila', 'kipindi', 'cha', 'uchaguzi', 'huambatana', 'na', 'vifurushi', 'vya', 'ahadi', 'kutoka', 'kwa', 'wagombeaji', 'wakuu', 'wa', 'siasa', 'na', 'mwaka', 'huu', 'sio', 'tofauti', '.uzito', 'wa', 'baadhi', 'ya', 'ahadi', 'hizo', 'kwa', 'taifa', 'na', 'kwa', 'Maisha', 'ya', 'wananchi', 'zinaufanya', 'uchaguzi', 'wa', 'mwaka', 'huu', 'kuwa', 'wa', 'umuhimu', 'mkubwa', '.', 'Ingawaje', 'miungano', 'mikubwa', 'miwili', 'haijatoa', 'rasmi', 'manifesto', 'kwa', 'wapiga', 'kura', ',', 'matamshi', 'ya', 'ahadi', 'zinazotolewa', 'yanatoa', 'taswira', 'ya', 'kila', 'wanachosimamia', 'na', 'wanacholenga', 'kutekeleza', 'ingawaje', 'nutekelezaji', 'wa', 'ahadi', 'za', 'kisiasa', 'ni', 'kitu', 'tofauti', 'sana', 'Kenya', '.', 'Kando', 'na', 'ahadi', 'inayokumbukwa', 'na', 'wqengi', 'sana', 'katika', 'uchaguzi', 'wa', '2002', 'ya', 'rais', 'mstaafu', 'Mwai', 'Kibaki', 'kuanzisha', 'masomo', 'ya', 'bila', 'malipo', 'klatika', 'shule', 'za', 'umma', '.', 'Ahadi', 'nyingi', 'za', 'wanasiasa', 'husalia', 'kuwa', 'maneno.Chama', 'cha', 'Jubilee', 'kiliahidi', 'viwanja', 'kadhaa', 'vikubwa', 'vya', 'michezo', 'na', 'kompyuta', 'bebe', 'kwa', 'Watoto', 'wa', 'shule', 'za', 'msingi', 'wakati', 'wa', 'kampeni', 'kabla', 'ya', 'kuingia', 'madarakani-lakini', 'ahadi', 'hizo', 'hazijawahi', 'kutekelezwa', '.', 'Raila', 'ameahidi', 'mabilioni', 'ya', 'pesa', 'kwa', 'tabaka', 'la', 'chini', 'kabisa', 'la', 'jamii', 'huku', 'akitaka', 'kumgeuzia', 'macho', 'Ruto', 'ambaye', 'kwa', 'muda', 'mrefu', 'amekuwa', 'akijionyesha', 'kuwa', 'mwokozi', 'wa', 'masikini', 'nchini', '.', 'Huku', 'Ruto', 'pia', 'akiahidi', 'kutenga', 'Shilingi', '100', 'milioni', 'kwa', 'kila', 'eneo', 'bunge', 'kati', 'ya', '290', 'kusaidia', 'biashara', 'ndogo', 'na', 'za', 'kati', 'ili', 'kuchochea', 'ukuaji', 'na', 'kubuni', 'nafasi', 'za', 'kazi', ',', 'Raila', 'anataka', 'kutoa', 'pesa', 'taslimu', 'kwa', 'familia', 'zilizo', 'fukara', '.', 'Raila', 'pia', 'amewaahidi', 'vijana', 'angalau', 'nafasi', 'nne', 'za', 'baraza', 'la', 'mawaziri', 'kama', 'sehemu', 'ya', 'ahadi', 'zake', 'za', '2022', '.', 'Kiongozi', 'huyo', 'wa', 'ODM', 'anasema', 'atatoa', 'Shilingi', '6,000', 'kwa', 'familia', 'maskini', ',', 'ikiwa', 'atachaguliwa', 'kuwa', 'rais', 'mwaka', 'huu', ',', 'akisema', 'mara', 'tu', 'atakapoziba', 'mianya', 'yote', 'ya', 'ufisadi', 'ambayo', 'hupora', 'Shilingi', '2', 'bilioni', 'kila', 'siku', ',', 'kutakuwa', 'na', 'rasilimali', 'za', 'kutosha', 'kufadhili', 'mpango', 'huo', '.', 'Kwa', 'mara', 'ya', 'kwanza', ',', 'kipute', 'cha', 'kuwania', 'urais', 'nchini', 'Kenya', 'kinaonekana', 'kufika', 'hadi', 'kwenye', 'mijadala', 'ya', 'mustakabali', 'wa', 'uchumi', ',', 'huku', 'Raila', 'na', 'Ruto', 'wakijitokeza', 'kunadi', 'mikakati', 'yao', 'kukwamua', 'uchumi', '.', 'Ruto', 'amejitangaza', 'kama', 'mfuasi', 'wa', 'Kibaki', 'kiuchumi', 'na', 'kwamba', 'anafahamu', 'vyema', 'matatizo', 'yanayosumbua', 'kila', 'eneo', '.', 'Ili', 'kueneza', 'mtindo', 'wake', 'wa', 'uchumi', 'wa', 'chini', 'kwenda', 'juu', '(', 'Bottom-Up', ')', 'Ruto', 'amekuwa', 'akifanya', 'mijadala', 'ya', 'kiuchumi', 'kuwaruhusu', 'Wakenya', 'wa', 'kawaida', 'kutaja', 'vipaumbele', 'vyao', 'ambavyo', 'vitatoa', 'mwongozo', 'wa', 'sera', 'zake', '.', 'Kwa', 'kuzingatia', 'idadi', 'kubwa', 'ya', 'wapiga', 'kura', 'ni', 'vijana', ',', 'ameanzisha', 'mpango', 'unaolenga', 'wajasiriamali', 'wadogo', 'na', 'kuwapa', 'michango', 'ili', 'kuboresha', 'maisha', 'yao', 'na', 'kuwalinda', 'dhidi', 'ya', 'athari', 'za', 'janga', 'la', 'Covid-19', '.', 'Miongoni', 'mwa', 'ahadi', 'alizotoa', 'Ruto', 'kwa', 'wapiga', 'kura', 'ni', 'kutenga', 'Shilingi', 'bilioni', '100', 'ili', 'kuunda', 'ajira', 'kwa', 'vijana', 'ikiwa', 'atachaguliwa', 'kuwa', 'Rais', '.', 'Vijana', 'walio', 'na', 'idadi', 'kubwa', 'ya', 'kura', 'na', 'yaonekana', 'katika', 'uchaguzi', 'huu', 'wengi', 'wamejitosa', 'mbioni', 'kuwania', 'viti', 'mbali', 'mbali', '.', 'Kampeni', 'zinapoendelea', 'itabainika', 'wazi', 'kila', 'mrengo', 'una', 'yapi', 'kwa', 'makundi', 'hayo', 'na', 'hasa', 'wanawake', 'ambao', 'bado', 'uakilishi', 'wao', 'ni', 'adimu', 'sana', 'licha', 'ya', 'kuwepo', 'sheria', 'inayotaka', 'pawepo', 'usawa', 'wa', 'kijinsia', 'katika', 'uakilishi', 'wa', 'nafasi', 'za', 'uongozi', '.']\n",
      "\n",
      " Number of Words:  2094\n"
     ]
    }
   ],
   "source": [
    "file=\"march4.txt\"\n",
    "\n",
    "# calling the function and storing the contents in a text variable \n",
    "text = get_document(\"https://www.bbc.com/swahili/habari-60428930\")\n",
    "\n",
    "# calling the store_ document function \n",
    "store_document(doc=text,name=file)\n",
    "\n",
    "#add the words in this file to the total_corpus_words, to keep count of the number of words in the corpus\n",
    "total_corpus_words+=total_words(file)"
   ]
  },
  {
   "cell_type": "code",
   "execution_count": 94,
   "metadata": {},
   "outputs": [
    {
     "data": {
      "text/plain": [
       "99902"
      ]
     },
     "execution_count": 94,
     "metadata": {},
     "output_type": "execute_result"
    }
   ],
   "source": [
    "total_corpus_words"
   ]
  },
  {
   "cell_type": "code",
   "execution_count": 95,
   "metadata": {},
   "outputs": [
    {
     "name": "stdout",
     "output_type": "stream",
     "text": [
      "['Uchaguzi', 'Kenya', '2022', ':', 'Maeneo', 'muhimu', 'yatakayoamua', 'mshindi', 'wa', 'uchaguzi', 'wa', 'urais', 'Kenya', 'Yusuf', 'Jumah', 'BBC', 'Swahili', '7', 'Machi', '2022', 'Chanzo', 'cha', 'picha', ',', 'Reuters', 'Huku', 'ikisalia', 'chini', 'ya', 'miezi', 'sita', 'kabla', 'ya', 'uchaguzi', 'wa', 'Agosti', '9', 'nchini', 'Kenya', ',', 'ramani', 'ya', 'uchaguzi', 'nchini', 'humo', 'inazidi', 'kuwa', 'wazi', 'huku', 'baadhi', 'ya', 'maeneo', 'yakijitokeza', 'kama', 'maeneo', 'muhimu', 'ambayo', 'huenda', 'yataamua', 'ni', 'nani', 'atakayechaguliwa', 'kuwa', 'rais', 'wa', 'taifa', 'hilo', 'kumrithi', 'rais', 'Uhuru', 'Kenyatta', 'muhula', 'wake', 'utakapotamatika', '.', 'Miungano', 'inayoendelea', 'kuundwa', 'kati', 'ya', 'wanasiasa', 'mbali', 'mbali', 'na', 'vyama', 'vyao', 'hadi', 'sasa', 'imezaa', 'taswira', 'ya', 'miungano', 'ambayo', 'huenda', 'ikapambana', 'uchaguzini', '.', 'Hadi', 'sasa', 'kuna', 'Muungano', 'wa', 'Kenya', 'Kwanza', 'unaoongozwa', 'na', 'Naibu', 'wa', 'rais', 'William', 'Ruto', 'ambaye', 'alipigwa', 'jeki', 'na', 'kuwasili', 'upande', 'wake', 'kwa', 'Musalia', 'Mudavadi', 'wa', 'ANC', 'na', 'Moses', 'Wetangula', 'wa', 'Ford', 'Kenya', ',', 'Muungano', 'wa', 'Azimio', 'la', 'Umoja', 'unaoungwa', 'mkono', 'na', 'rais', 'Uhuru', 'Kenyatta', 'na', 'kiongozi', 'wa', 'ODM', 'Raila', 'Odinga', 'na', 'One', 'Kenya', 'Alliance', 'unaoongozwa', 'na', 'Kalonzo', 'Musyoka', 'paoja', 'na', 'vinara', 'wa', 'vyama', 'mbali', 'mbali', '.Hata', 'hivyo', 'muungano', 'wa', 'OKA', 'unaripotiwa', 'kuwa', 'katika', 'mazungumzo', 'ya', 'kujiunga', 'na', 'Azimio', 'la', 'Umoja', 'ingawaje', 'mazungumzo', 'hayo', 'yamepunguzwa', 'kasi', 'baada', 'ya', 'Kalonzo', 'kudai', 'kwamba', 'kuna', 'mkataba', 'aliosaini', 'na', 'kinara', 'wa', 'ODM', 'kwamba', 'angemuunga', 'mkono', 'katika', 'uchaguzi', 'wa', 'mwaka', 'huu', '.', 'Maeneo', 'yatakayokuwa', 'na', \"'usemi\", \"'\", 'mkubwa', 'uchaguzini', 'Kaunti', 'za', 'Magharibi', ',', 'Kati', 'mwa', 'Kenya', ',', 'Kaskazini', 'Mashariki', ',', 'Ukambani', ',', 'Maa', ',', 'Turkana', ',', 'Meru', ',', 'Nairobi', 'na', 'Pwani', 'zinaibuka', 'kuwa', 'viwanja', 'kuu', 'vya', 'makabiliano', 'ya', 'kisiasa', 'kati', 'ya', 'Naibu', 'Rais', 'William', 'Ruto', 'na', 'Raila', ',', 'kulingana', 'na', 'kura', 'za', 'maoni', 'za', 'hivi', 'punde', '.', 'Timu', 'za', 'Ruto', 'na', 'Raila', 'zimekuwa', 'zikifanya', 'safari', 'za', 'mara', 'kwa', 'mara', 'katika', 'maeneo', 'hayo', 'muhimu', 'kwa', 'kura', 'za', 'urais', 'kwenye', 'misheni', 'za', 'kusaka', 'kura', 'huku', 'Rais', 'akisemekana', 'kupanga', 'mashambulizi', 'makali', 'katika', 'eneo', 'la', 'Mlima', 'Kenya', 'ambalo', 'limekuwa', 'likimegemea', 'upande', 'wa', 'Ruto', ',', 'katika', 'juhudi', 'za', 'kumgeuzia', 'makali', 'naibu', 'wake', '.', 'Seneta', 'wa', 'Murang', \"'\", 'a', ',', 'Irung', \"'\", 'u', \"Kang'ata\", ',', 'ambaye', 'ni', 'mshirika', 'wa', 'Ruto', ',', 'anasema', 'mkakati', 'wao', 'ni', 'kuepuka', 'makabiliano', 'dhidi', 'Rais', ',', 'badala', 'yake', 'wakichagua', 'kuwafikia', 'na', 'kuzungumza', 'moja', 'kwa', 'moja', 'na', 'wapiga', 'kura', '.', 'Ruto', 'alitanguliwa', 'kusonga', 'karibu', 'na', 'wapiga', 'kura', 'wa', 'Mlima', 'Kenya', 'wakati', 'wa', 'kampeni', 'zake', 'kwa', 'Uhuru', 'kabla', 'ya', 'mzozo', 'kuibuka', 'kati', 'yao', 'na', 'amekuwa', 'akifanya', 'safari', 'nyingi', 'katika', 'eneo', 'hilo', 'ambapo', 'anaendelea', 'kuungwa', 'mkono', 'na', 'idadi', 'kubwa', 'ya', 'wabunge', '.', 'Kaunti', 'tano', 'za', 'eneo', 'la', 'Kati', 'za', 'Nyandarua', ',', 'Nyeri', ',', 'Kiambu', ',', 'Murang', \"'\", 'a', 'na', 'Kirinyaga', 'zinakisiwa', 'kuwa', 'na', 'jumla', 'ya', 'kura', 'milioni', '3.1', '.', 'Iwapo', 'rais', 'atafaulu', 'kukitia', 'makali', 'chama', 'chake', 'cha', 'Jubilee', 'ili', 'kumsakia', 'Odinga', 'kura', 'katika', 'eneo', 'hilo', 'huenda', 'likawa', 'muhimu', 'sana', 'katika', 'mapambano', 'ya', 'kuamua', 'rais', 'ajaye', 'wa', 'Kenya', '.', 'Sintofahamu', 'ya', 'kiongozi', 'wa', 'Chama', 'cha', 'Wiper', 'Kalonzo', 'Musyoka', 'kuhusu', 'iwapo', 'atajiunga', 'na', 'Azimio', 'au', 'kuzindua', 'kampeni', 'yake', 'ya', 'urais', 'chini', 'ya', 'Muungano', 'wa', 'One', 'Kenya', 'Alliance', 'imezifanya', 'kaunti', 'za', 'Ukambani', 'za', 'katika', 'eneo', 'la', 'Mashariki', 'za', 'Machakos', ',', 'Makueni', 'na', 'Kitui', 'kuwa', 'katika', 'hali', 'ya', 'kutojua', 'zitaegemea', 'wapi', 'wakati', 'wa', 'kura', 'Kalonzo', 'azifanya', 'kaunti', 'za', 'Ukambani', 'kubeba', 'kura', \"'muhimu\", \"'\", 'Utulivu', 'haupo', 'katika', 'eneo', 'la', 'Ukambani', 'na', 'wengi', 'watangoja', 'ishara', 'kutoka', 'kwa', 'Kalonzo', 'ingawa', 'magavana', 'wa', 'kaunti', 'hizo', 'wameafikiana', 'kuunga', 'mkono', 'Azimio', '.', 'Jukumu', 'la', 'Kalonzo', 'katika', 'kutoa', 'mwelekeo', 'wa', 'jamii', 'litakuwa', 'na', 'mabadiliko', 'fulani', 'katika', 'kipute', 'cha', 'urais', '.', 'Inaonekana', 'ana', 'nia', 'ya', 'kumsukuma', 'Raila', 'ukutani', 'ili', 'kuweza', 'kutia', 'kibindoni', 'donge', 'zito', 'kabla', 'ya', 'kukubali', 'kuwa', 'upande', 'wake', '.', 'Ikiwa', 'atajiunga', 'na', 'Azimio', \"kinyang'anyiro\", 'hicho', 'huenda', 'kikapungua', 'uzito', 'kumpa', 'afueni', 'kiongozi', 'wa', 'ODM', 'kwani', 'atakuwa', 'na', 'hakikisho', 'la', 'kujizolea', 'kura', 'nyingi', 'kutoka', 'kaunti', 'za', 'Ukambani', 'dhidi', 'ya', 'Ruto', '.', 'Chanzo', 'cha', 'picha', ',', 'KALONZO', 'MUSYOKA/FACEBOOK', 'Hata', 'hivyo', 'endapo', 'ataamua', 'kuendelea', 'na', 'kampeni', 'zake', 'kuwania', 'kiti', 'cha', 'urais', 'huenda', 'mambo', 'yakawa', 'mazito', 'na', 'wadadisi', 'wanasema', 'hilo', 'ni', 'mojawapo', 'ya', 'chaguo', 'lake', 'iwapo', 'hatojiunga', 'na', 'mojawapo', 'ya', 'miungano', 'miwili', 'mikubwa', 'katika', 'uchaguzi', 'wa', 'mwaka', 'huu', '.', 'Ruto', 'anaungwa', 'mkono', 'na', 'wengi', 'katika', 'maeneo', 'ya', 'Meru', ',', 'Tharaka', 'Nithi', 'na', 'Embu', 'kwa', 'mujibu', 'wa', 'kura', 'za', 'hivi', 'maajuzi', 'za', 'maoni', 'lakini', 'uamuzi', 'wa', 'Waziri', 'wa', 'Kilimo', 'Peter', 'Munya', 'wa', 'kutogombea', 'dhidi', 'ya', 'Gavana', 'wa', 'Meru', 'Kiraitu', 'Murungi', 'unaweza', 'kubadilisha', 'hali', 'hiyo', 'kwa', 'Azimio', '.', 'Marsabit', 'na', 'Isiolo', 'pia', 'zipo', 'kwenye', 'darubini', 'na', 'huenda', 'zikawa', 'muhimu', 'sana', 'katika', 'kuamua', 'mshindi', 'wa', 'uchaguzi', 'wa', 'urais', '.', 'Rais', 'Uhuru', 'amekuwa', 'akikutana', 'na', 'viongozi', 'kutoka', 'kaunti', 'kadhaa', 'za', 'Kaskazini', 'Mashariki', 'na', 'amekuwa', 'akiwarai', 'viongozi', 'wa', 'kaunti', 'hizo', 'kujiunga', 'na', 'Azimio', '.', 'Ingawaje', 'kaunti', 'za', 'Kakamega', 'na', 'Vihiga', 'magharibi', 'mwa', 'Kenya', 'zilikuwa', 'katika', 'kapu', 'la', 'Raila', 'katika', 'uchaguzi', 'uliopita', ',', 'kujiunga', 'kwa', 'kiongozi', 'wa', 'ANC', 'Musalia', 'Mudavadi', 'na', 'mwenzake', 'wa', 'Ford', 'Kenya', 'Moses', \"Wetang'ula\", 'na', 'upande', 'wa', 'Ruto', 'katika', 'Kenya', 'Kwanza', 'kunaweza', 'kufanya', 'kaunti', 'hizo', 'mbili', 'kuwa', 'uwanja', 'mkubwa', 'wa', 'makabiliano', 'ya', 'kura', 'huku', 'Bungoma', 'ikielekea', 'Kenya', 'Kwanza', '.', 'Katika', 'Bonde', 'la', 'Ufa', ',', 'Ruto', 'anatarajiwa', 'kupata', 'asilimia', 'kubwa', 'ya', 'kura', 'katika', 'kaunti', 'za', 'Bomet', ',', 'Kericho', ',', 'Baringo', ',', 'Uasin', 'Gishu', ',', 'Nandi', ',', 'Pokot', 'Magharibi', ',', 'Samburu', 'na', 'Elgeyo-Marakwet', '.', 'Hata', 'hivyo', ',', 'atalazimika', 'kujitahidi', 'sana', 'katika', 'kaunti', 'za', 'Nakuru', 'na', 'Laikipia', 'ili', 'kukabiliana', 'na', 'changamoto', 'kutoka', 'kwa', 'magavana', 'wa', 'maeneo', 'hayo', 'Lee', 'Kinyanjui', 'na', 'Ndiritu', 'Muriithi', 'ambao', 'ni', 'vigogo', 'katika', 'vuguvugu', 'la', 'Raila', '.', 'Huko', 'Narok', 'na', 'Kajiado', ',', 'wachanganuzi', 'wanasema', 'picha', 'hiyo', 'imefifia', 'kwa', 'sasa', ',', 'wakiongeza', 'kuwa', 'bado', 'ni', 'jambo', 'la', 'kusubiri', 'japo', 'walibaini', 'kuwa', 'Narok', 'ilikuwa', 'akihama', 'polepole', 'kumuunga', 'mkono', 'Raila', 'licha', 'ya', 'Jubilee', 'kuvuna', 'pakubwa', 'katika', 'uchaguzi', 'uliopita', '.', 'Ruto', 'amekuwa', 'akitumia', 'mbinu', 'ya', 'kuwaunganisha', 'wagombeaji', 'wa', 'viti', 'mbali', 'mbali', 'waafikiane', 'kupitia', 'demokrasia', 'ya', 'majadiliano', 'ili', 'kuzuia', 'kugawanyika', 'kwa', 'kura', 'za', 'wafuasi', 'katika', 'mrengo', 'wake', '.', 'Kaunti', 'ya', 'Turkana', ',', 'inasalia', 'kuwa', 'mtihani', 'kwa', 'mirengo', 'yote', 'kwani', 'wagombeaji', 'wakuu', 'kutoka', 'eneo', 'hilo', 'wako', 'kwenye', 'kambi', 'zinazoshindana', '.', 'Gavana', 'anayeondoka', 'wa', 'Turkana', 'Josphat', 'Nanok', 'anaongoza', 'kampeni', 'za', 'Ruto', 'kitaifa', 'huku', 'mpinzani', 'wake', ',', 'aliyekuwa', 'Waziri', 'wa', 'Mafuta', 'John', 'Munyes', ',', 'akitwikwa', 'jukumu', 'la', 'kuleta', 'kura', 'za', 'eneo', 'hilo', 'kwa', 'kapu', 'la', 'Raila', '.', 'Huko', 'Trans', 'Nzoia', ',', 'kuundwa', 'kwa', 'chama', 'cha', 'Democratic', 'Action', 'Party', 'kinachoongozwa', 'na', 'Waziri', 'wa', 'Ulinzi', 'Eugene', 'Wamalwa', 'bado', 'kunaweza', 'kutatiza', 'mambo', 'kwa', 'Ruto', '.', 'Eneo', 'la', 'Kaskazini', 'Mashariki', 'linajivunia', 'kura', '600,000', 'na', 'litakuwa', 'na', 'umuhimu', 'mkubwa', 'katika', 'uchaguzi', 'wa', 'mwezi', 'Agosti', '.', 'Wanasiasa', 'kadhaa', 'kutoka', 'eneo', 'hilo', 'walihamia', 'Azimio', 'na', 'kuacha', 'kambi', 'ya', 'Ruto', 'katika', 'eneo', 'hilo', 'kubwa', '.', 'Jijini', 'Nairobi', ',', 'kura', 'za', 'maoni', 'za', 'hivi', 'punde', 'zinampa', 'Raila', 'uongozi', 'muhimu', '.', 'Ushawishi', 'wa', 'Uhuru', 'kwa', 'wakaazi', 'wa', 'jiji', ',', 'haswa', 'athari', 'za', 'Mamlaka', 'Jiji', 'la', 'Nairobi', ',', 'unaweza', 'kuwa', 'muhimu', 'katika', 'kuamua', 'wakaazi', 'watampa', 'nani', 'kura', 'zao', '.']\n",
      "\n",
      " Number of Words:  1078\n"
     ]
    }
   ],
   "source": [
    "file=\"march7_1.txt\"\n",
    "\n",
    "# calling the function and storing the contents in a text variable \n",
    "text = get_document(\"https://www.bbc.com/swahili/habari-60640770\")\n",
    "\n",
    "# calling the store_ document function \n",
    "store_document(doc=text,name=file)\n",
    "\n",
    "#add the words in this file to the total_corpus_words, to keep count of the number of words in the corpus\n",
    "total_corpus_words+=total_words(file)"
   ]
  },
  {
   "cell_type": "code",
   "execution_count": 96,
   "metadata": {},
   "outputs": [
    {
     "data": {
      "text/plain": [
       "100980"
      ]
     },
     "execution_count": 96,
     "metadata": {},
     "output_type": "execute_result"
    }
   ],
   "source": [
    "total_corpus_words"
   ]
  },
  {
   "cell_type": "code",
   "execution_count": 97,
   "metadata": {},
   "outputs": [
    {
     "name": "stdout",
     "output_type": "stream",
     "text": [
      "['Hivi', 'majuzi', 'katika', 'mkutano', 'wa', 'eneo', 'la', 'Sagana', ',', 'a', 'Rais', 'Uhuru', 'Kenyatta', 'ambaye', 'alikuwa', 'akikutana', 'na', 'watu', 'wa', 'jamii', 'yake', 'kutoka', 'mlima', 'Kenya', 'alisema', 'kwamba', 'alimfahamisha', 'bwana', 'Ruto', 'yote', 'yaliokuwa', 'yakiendelea', 'kabla', 'ya', 'Handshake', 'yake', 'na', 'Raila', 'Odinga', 'licha', 'ya', 'naibu', 'huyo', 'kudai', 'kwamba', 'hakaufahamu', 'kilichokuwa', 'kikiendelea', '.', 'Rais', 'Uhuru', 'Kenyatta', 'ameamua', 'kumuunga', 'mkono', 'mpinzani', 'wake', 'wa', 'siku', 'nyingi', 'Raila', 'Odinga', 'badala', 'ya', 'naibu', 'wake', 'William', 'Ruto', 'katika', 'uchaguzi', 'mkuu', 'wa', 'mwaka', 'huu', '.', 'Bwana', 'Ruto', 'ambaye', 'anawania', 'Urais', 'katika', 'uchagzi', 'wa', 'mwaka', 'huu', 'anasema', 'kwamba', 'anataka', 'kuiongoza', 'katika', 'mwelekeo', 'mzuri', '.', 'Aalikuwa', 'akizungumza', 'na', 'mwandishi', 'wa', 'BBC', 'Salim', 'Kikekke']\n",
      "\n",
      " Number of Words:  101\n"
     ]
    }
   ],
   "source": [
    "file=\"march7_2.txt\"\n",
    "\n",
    "# calling the function and storing the contents in a text variable \n",
    "text = get_document(\"https://www.bbc.com/swahili/michezo-60655059\")\n",
    "\n",
    "# calling the store_ document function \n",
    "store_document(doc=text,name=file)\n",
    "\n",
    "#add the words in this file to the total_corpus_words, to keep count of the number of words in the corpus\n",
    "total_corpus_words+=total_words(file)"
   ]
  },
  {
   "cell_type": "code",
   "execution_count": 98,
   "metadata": {},
   "outputs": [
    {
     "data": {
      "text/plain": [
       "101081"
      ]
     },
     "execution_count": 98,
     "metadata": {},
     "output_type": "execute_result"
    }
   ],
   "source": [
    "total_corpus_words"
   ]
  },
  {
   "cell_type": "code",
   "execution_count": 99,
   "metadata": {},
   "outputs": [
    {
     "name": "stdout",
     "output_type": "stream",
     "text": [
      "['Siku', 'ya', 'Wanawake', 'Duniani', ':', 'Ina', 'maana', 'gani', 'Afrika', '?', 'Kila', 'mwaka', 'Machi', '08', ',', 'Umoja', 'wa', 'Mataifa', 'husheherekea', 'haki', 'zilizopatikana', 'kwa', 'bidii', 'za', 'wanawake-', 'na', 'kuangazia', 'changamoto', 'ambazo', 'bado', 'ziko', 'mbele', 'katika', 'kukomesha', 'ubaguzi', 'wa', 'kijinsia', 'katika', 'karibu', 'nyanja', 'zote', 'za', 'maisha', '.', '``', 'Usawa', 'wa', 'kijinsia', 'wa', 'leo', ',', 'kesho', 'na', 'endelevu', \"''\", 'ndio', 'kauli', 'mbiu', 'ambayo', 'Umoja', 'wa', 'Mataifa', 'umeichagua', 'mwaka', 'huu', 'kuadhimisha', 'kile', 'kinachojulikana', 'rasmi', 'kama', 'Siku', 'ya', 'Kimataifa', 'ya', 'Wanawake', '.', 'Kwa', 'nini', 'imechagua', 'mada', 'hii', '?', 'Dkt', 'Maxime', 'Houinato', ',', 'mkurugenzi', 'wa', 'Umoja', 'wa', 'Mataifa', 'wa', 'Wanawake', 'katika', 'kanda', 'ya', 'Afrika', 'Mashariki', 'na', 'Kusini', ',', 'aliiambia', 'BBC', 'kwamba', '``', 'kukuza', 'usawa', 'wa', 'kijinsia', 'katika', 'mazingira', 'ya', 'mzozo', 'wa', 'mabadiliko', 'ya', 'tabia', 'nchi', 'na', 'upunguzaji', 'wa', 'hatari', 'ya', 'majanga', 'ni', 'mojawapo', 'ya', 'changamoto', 'kubwa', 'duniani', 'kwa', 'karne', 'ya', '21', \"''\", '.', '``', 'Wanawake', 'na', 'wasichana', 'wanapitia', 'athari', 'kubwa', 'zaidi', 'za', 'mabadiliko', 'ya', 'tabia', 'nchi', ',', \"''\", 'aliongeza', '.', 'Kwa', 'kweli', ',', 'utafiti', 'wa', 'Umoja', 'wa', 'Mataifa', 'unaonesha', 'kuwa', 'wanawake', 'na', 'wasichana', 'hufa', 'kwa', 'idadi', 'kubwa', 'katika', 'majanga', 'ya', 'asili', '.', '``', 'Kwa', 'mfano', ',', 'asilimia', '95', 'ya', 'waliofariki', 'katika', 'mafuriko', 'ya', 'visiwa', 'vya', 'Solomon', '2014', 'walikuwa', 'wanawake', ',', '55', '%', 'ya', 'waliofariki', 'katika', 'tetemeko', 'la', 'ardhi', 'la', '2015', 'nchini', 'Nepal', 'walikuwa', 'wanawake', 'na', '59', '%', 'ya', 'waliokimbia', 'makazi', 'yao', 'kufuatia', 'Kimbunga', 'Idai', 'mwaka', '2019', 'nchini', 'Malawi', 'walikuwa', 'wanawake', ',', \"''\", 'UN', 'Women', 'imesema', 'kwenye', 'tovuti', 'yake', 'Chanzo', 'cha', 'picha', ',', 'Getty', 'Images', 'Maelezo', 'ya', 'picha', ',', 'Vimbunga', 'vimesababisha', 'athari', 'kubwa', 'kusini', 'mwa', 'Afrika', 'Zaidi', 'ya', 'hayo', ',', 'majanga', 'yanayohusiana', 'na', 'hali', 'ya', 'hewa', 'yamezidisha', 'matatizo', 'ya', 'kijamii', 'na', 'kiuchumi', '.', '``', 'Nchini', 'Uganda', ',', 'kwa', 'mfano', ',', 'upotevu', 'wa', 'mifugo', ',', 'upungufu', 'wa', 'mazao', ',', 'na', 'ukosefu', 'wa', 'chakula', 'kutokana', 'na', 'ukame', 'uliokithiri', ',', 'na', 'uvamizi', 'wa', 'nzige', 'ulibainika', 'kuongeza', 'idadi', 'ya', 'wanafunzi', 'walioacha', 'shule', ',', 'kulazimisha', 'wasichana', 'kufanya', 'kazi', 'zaidi', ',', 'na', 'kuongeza', 'matukio', 'ya', 'ndoa', 'za', 'utotoni', 'kwa', 'kubadilishana', 'kwa', 'chakula', ',', \"''\", 'makala', 'katika', 'wakala', 'wa', 'habari', 'unaolenga', 'maendeleo', ',', 'Inter', 'Press', 'Service', ',', 'inaeleza', '.', 'Siku', 'ya', 'Kimataifa', 'ya', 'Wanawake', 'ilianzaje', '?', 'Siku', 'ya', 'wanawake', 'ilikuja', 'kutokana', 'na', 'vuguvugu', 'la', 'wafanyakazi', 'mnamo', 'mwaka', '1908', ',', 'na', 'ikatambuliwa', 'rasmi', 'kama', 'hafla', 'ya', 'kila', 'mwaka', 'na', 'miongo', 'kadhaa', 'baadaye', ',', 'mnamo', '1975', '.', 'Mnamo', 'mwaka', '1908', ',', 'zaidi', 'ya', 'wanawake', '15,000', 'waliandamana', 'katika', 'jiji', 'la', 'New', 'York', 'kudai', 'muda', 'mfupi', 'wa', 'kufanya', 'kazi', ',', 'malipo', 'bora', 'na', 'haki', 'ya', 'kupiga', 'kura', '.', 'Chama', 'cha', 'Kisoshalisti', 'cha', 'Marekani', 'kilitangaza', 'Siku', 'ya', 'Kitaifa', 'ya', 'Wanawake', 'ya', 'kwanza', 'nchini', 'Marekani', 'mwaka', 'mmoja', 'baadaye', '.', 'Mjerumani', 'Marxist', 'na', 'mwanaharakati', 'Clara', 'Zetkin', 'alikuwa', 'mmoja', 'wa', 'waasisi', 'wa', 'utambuzi', 'wa', 'toleo', 'la', 'kimataifa', 'la', 'Siku', 'ya', 'Kitaifa', 'ya', 'Wanawake', 'ya', 'Marekani', '.', 'Chanzo', 'cha', 'picha', ',', 'Harlingue', 'Maelezo', 'ya', 'picha', ',', 'Clara', 'Zetkin', 'alikuwa', 'anaongoza', 'mapambano', 'ya', 'haki', 'za', 'wanawake', 'Zetkin', 'alijumuika', 'na', 'wanawake', '100', 'kutoka', 'nchi', '17', 'katika', 'Kongamano', 'la', 'Kimataifa', 'la', 'Wanawake', 'Wanaofanya', 'Kazi', 'katika', 'mji', 'mkuu', 'wa', 'Denmark', 'Copenhagen', 'mwaka', '1910', '.', 'Mkutano', 'huo', 'kwa', 'kauli', 'moja', 'ulikubaliana', 'na', 'pendekezo', 'la', 'Zetkin', 'kwamba', 'kuanzia', 'mwaka', 'unaofuata', 'Siku', 'ya', 'Wanawake', 'itaadhimishwa', 'nchini', 'Austria', ',', 'Denmark', ',', 'Ujerumani', 'na', 'Uswizi', '.', 'Wazo', 'la', 'Zetkin', 'la', 'Siku', 'ya', 'Kimataifa', 'ya', 'Wanawake', 'halikuwa', 'na', 'tarehe', 'maalum', '.', 'Ilirasimishwa', 'baada', 'ya', 'mgomo', 'wa', 'baada', 'ya', 'vita', ',', 'wanawake', 'nchini', 'Urusi', 'mwaka', '1917', '.', 'Wanawake', 'walidai', '``', 'mkate', 'na', 'amani', \"''\", '-', 'na', 'siku', 'nne', 'za', 'mgomo', 'wa', 'wanawake', ',', 'Tsar', 'alilazimika', 'kujiuzulu', 'na', 'serikali', 'ya', 'muda', 'hiyo', 'iliwapa', 'wanawake', 'haki', 'ya', 'kupiga', 'kura', '.', 'Tarehe', 'ambayo', 'mgomo', 'wa', 'wanawake', 'ulianza', 'kwa', 'kalenda', 'ya', 'Juliana', ',', 'ambayo', 'wakati', 'huo', 'ilikuwa', 'ikitumika', 'nchini', 'Urusi', ',', 'ilikuwa', 'Jumapili', 'Februari', ',', '23', '.', 'Siku', 'hii', 'katika', 'kalenda', 'ya', 'Gregori', 'ilikuwa', 'Machi', '8', '.', 'Huu', 'ndio', 'wakati', 'ambapo', 'sasa', 'inaadhimishwa', 'kama', 'siku', 'ya', 'mapumziko', 'nchini', 'Urusi', 'na', 'nchi', 'zingine', 'takribani', 'dazeni', 'mbili', '.', 'Vipi', 'kuhusu', 'Afrika', '?', 'Siku', 'ya', 'wanawake', 'duniani', 'inaadhimishwa', 'kama', 'sikukuu', 'ya', 'umma', 'katika', 'nchi', 'saba', 'za', 'Afrika', '.', 'Hii', 'ni', 'pamoja', 'na', 'Eritrea', ',', 'katika', 'kutambua', 'mchango', 'mkubwa', 'ambao', 'wanawake', 'na', 'wasichana', 'walitoa', '-', 'kama', 'wapiganaji', '-', 'katika', 'mapambano', 'ya', 'muongo', 'mzima', 'ya', 'uhuru', 'wa', 'nchi', 'hiyo', '.', 'Chanzo', 'cha', 'picha', ',', 'Getty', 'Images', 'Maelezo', 'ya', 'picha', ',', 'Wanawake', 'walipigana', 'sawa', 'na', 'wanaume', 'nchini', 'Eritrea', ',', 'wakati', 'wa', 'mapambano', 'ya', 'kupata', 'uhuru', 'Mataifa', 'mengine', 'ya', 'Afrika', 'ambayo', 'yametangaza', 'tarehe', '8', 'Machi', 'kuwa', 'siku', 'ya', 'mapumziko', 'ni', 'Angola', ',', 'Burkina', 'Faso', ',', 'Guinea-Bissau', ',', 'Sierra', 'Leone', ',', 'Uganda', 'na', 'Zambia', '.', 'Huko', 'Madagascar', ',', 'ni', 'siku', 'ya', 'mapumziko', 'kwa', 'kwa', 'wanawake', 'pekee', '.', 'Baadhi', 'ya', 'nchi', 'za', 'Kiafrika', 'zina', 'Siku', 'yao', 'ya', 'Wanawake', '-', 'Afrika', 'Kusini', 'inaadhimisha', 'kama', 'siku', 'ya', 'mapumziko', 'tarehe', '9', 'Agosti', 'kwa', 'heshima', 'ya', 'wanawake', '20,000', 'walioandamana', 'siku', 'hiyo', 'mwaka', '1956', 'kupinga', 'sera', 'za', 'kibaguzi', 'ya', 'utawala', 'wa', 'wazungu', 'wachache', 'uliokuwa', 'madarakani', 'kwa', 'wakati', 'huo', '.', '``', 'Unampambana', 'na', 'mwanamke', ',', 'unagonga', 'mwamba', ',', \"''\", 'wanawake', 'hao', 'waliimba', 'huku', 'wakielekea', 'kwenye', 'kiti', 'cha', 'mamlaka', 'ya', 'serikali', 'katika', 'mji', 'mkuu', 'wa', 'Pretoria', '.', 'Mbali', 'na', 'hayo', ',', 'Umoja', 'wa', 'Afrika', 'umetangaza', 'tarehe', '31', 'Julai', 'kuwa', 'Siku', 'ya', 'Wanawake', 'wa', 'Afrika', '.', 'AU', 'inasema', 'siku', 'hiyo', 'inalenga', '``', 'kutambua', 'na', 'kuthibitisha', \"''\", 'nafasi', 'ya', 'wanawake', 'katika', '``', 'kufikia', 'uhuru', 'wa', 'kisiasa', 'wa', 'Afrika', 'na', 'kuendeleza', 'hali', 'ya', 'kijamii', 'na', 'kiuchumi', 'ya', 'wanawake', 'katika', 'bara', 'hilo', \"''\", '.', 'Ingawa', 'bado', 'kuna', 'mengi', 'yanahitajika', 'kufanywa', 'ili', 'kufikia', 'usawa', 'wa', 'kijinsia', '.', 'Wanawake', 'barani', 'Afrika', 'wamepata', 'mafanikio', 'makubwa', 'ambapo', 'takwimu', 'za', 'Umoja', 'wa', 'Mataifa', 'za', 'mwaka', '2021', 'zinaonesha', 'kuwa', 'Rwanda', 'ina', 'idadi', 'kubwa', 'ya', 'wanawake', 'bungeni', '-', '61', '%', ',', 'ikifuatiwa', 'na', 'Cuba', 'na', 'Bolivia', 'zenye', '53', '%', 'kila', 'moja', 'na', 'Umoja', 'wa', 'Falme', 'za', 'Kiarabu', 'kwa', '50', '%', '.', 'Afrika', 'Mashariki', 'na', 'Kusini', 'ndizo', 'zenye', 'uwakilishi', 'mkubwa', 'zaidi', 'wa', 'wanawake', 'bungeni', 'katika', 'Afrika', 'Kusini', 'mwa', 'Jangwa', 'la', 'Sahara', '-', '32', '%', 'kufikia', 'Disemba', '2020', ',', 'ikilinganishwa', 'na', 'wastani', 'wa', 'kimataifa', 'wa', '24.5', '%', '.']\n",
      "\n",
      " Number of Words:  960\n"
     ]
    }
   ],
   "source": [
    "file=\"march8_1.txt\"\n",
    "\n",
    "# calling the function and storing the contents in a text variable \n",
    "text = get_document(\"https://www.bbc.com/swahili/60643498\")\n",
    "\n",
    "# calling the store_ document function \n",
    "store_document(doc=text,name=file)\n",
    "\n",
    "#add the words in this file to the total_corpus_words, to keep count of the number of words in the corpus\n",
    "total_corpus_words+=total_words(file)"
   ]
  },
  {
   "cell_type": "code",
   "execution_count": 100,
   "metadata": {},
   "outputs": [
    {
     "data": {
      "text/plain": [
       "102041"
      ]
     },
     "execution_count": 100,
     "metadata": {},
     "output_type": "execute_result"
    }
   ],
   "source": [
    "total_corpus_words"
   ]
  },
  {
   "cell_type": "code",
   "execution_count": 101,
   "metadata": {},
   "outputs": [
    {
     "name": "stdout",
     "output_type": "stream",
     "text": [
      "['Marekani', 'yampiga', 'marufuku', 'aliyekuwa', 'gavana', 'wa', 'jiji', 'la', 'Nairobi', 'Mike', 'Mbuvi', 'Sonko', 'na', 'famila', 'yake', 'kuingia', 'nchini', 'humo', '8', 'Machi', '2022', 'Chanzo', 'cha', 'picha', ',', 'AFP', 'Maelezo', 'ya', 'picha', ',', 'Aliyekuwa', 'gavana', 'wa', 'mji', 'wa', 'Nairobi', 'Mike', 'Mbuvi', 'Sonko', 'Aliyekuwa', 'Gavana', 'wa', 'Nairobi', 'nchini', 'Kenya', ',', 'Mike', 'Mbuvi', 'Sonko', 'na', 'familia', 'yake', 'wamepigwa', 'marufuku', 'kuingia', 'Marekani', 'kutokana', 'na', 'tuhuma', 'za', 'rushwa', 'zinazohusiana', 'na', 'matumizi', 'mabaya', 'ya', 'ofisi', '.', 'Kwa', 'mujibu', 'wa', 'tangazo', 'lililotolewa', 'leo', 'Jumanne', 'na', 'Mshauri', 'wa', 'Masuala', 'ya', 'Umma', 'Eric', 'Watnik', 'katika', 'Ubalozi', 'wa', 'Marekani', 'jijini', 'Nairobi', ',', 'marufuku', 'hiyo', 'ya', 'Marekani', 'dhidi', 'ya', 'Sonko', 'imetokana', 'na', '``', 'kujihusisha', 'na', 'ufisadi', 'mkubwa', \"''\", 'wakati', 'akiwa', 'madarakani', '.', 'Watnik', 'amesema', 'Wizara', 'ya', 'Mambo', 'ya', 'Nje', 'ya', 'Markeani', 'imemtangaza', 'Sonko', ',', 'mkewe', 'binti', 'zake', 'na', 'mtoto', 'wake', 'wa', 'kiume', 'hawaruhusiwi', 'kuingia', 'Marekani', '.', 'Hatua', 'hiyo', 'inamaanisha', 'kwamba', 'pia', 'wamepigwa', 'marufuku', 'kufanya', 'biashara', 'yoyote', 'na', 'Marekani', '.', '``', 'Ufisadi', 'wake', '(', 'Sonko', ')', 'umeripotiwa', 'sana', 'katika', 'vyombo', 'vya', 'habari', 'vya', 'ndani', 'na', 'vya', 'kimataifa', '.', 'Kwa', 'hatua', 'hii', 'idara', 'inathibitisha', 'kuwepo', 'kwa', 'haja', 'ya', 'uwajibikaji', ',', 'uwazi', 'na', 'kuheshimu', 'utawala', 'wa', 'sheria', 'katika', 'taasisi', 'za', 'kidemokrasia', 'za', 'Kenya', ',', 'michakato', 'ya', 'serikali', 'na', 'shughuli', 'za', 'maafisa', 'wa', 'umma', ',', '``', 'alisema', 'Watnik', '.', 'Aliongeza', 'kuwa', ':', '``', 'Marekani', 'itaendelea', 'kutumia', 'zana', 'zote', 'zilizopo', 'kupambana', 'na', 'rushwa', 'na', 'kukuza', 'heshima', 'dhidi', 'ya', 'haki', 'za', 'binadamu', 'duniani', 'kote', '.', \"''\", 'Amesema', 'hayo', 'kwa', 'niaba', 'ya', 'Waziri', 'wa', 'Mambo', 'ya', 'Nje', 'wa', 'Marekani', 'Antony', 'Blinken', '.', 'Rushwa', 'na', 'hongo', 'Mshauri', 'huyo', 'alifichua', 'kwamba', 'Idara', 'hiyo', 'ina', 'taarifa', 'za', 'kuaminika', 'kwamba', 'Sonko', 'alipokea', 'hongo', 'kutoka', 'kwa', 'washirika', 'wake', 'ili', 'kutoa', 'zabuni', 'za', 'mamilioni', 'ya', 'shilingi', '.', '``', 'Idara', 'ina', 'taarifa', 'za', 'kuaminika', 'kwamba', 'gavana', 'huyo', 'wa', 'zamani', 'alihusika', 'katika', 'ufisadi', 'mkubwa', 'wakati', 'akihudumu', 'kama', 'gavana', 'wa', 'Nairobi', '.', 'Chanzo', 'cha', 'picha', ',', 'Mike', 'Sonko/Facebook', 'Kwa', 'mujibu', 'wa', 'mwanadiplomasia', 'huyo', ',', 'vitendo', 'vya', 'ufisadi', 'vya', 'Sonko', 'vinadhoofisha', 'utawala', 'wa', 'sheria', ',', 'umma', 'wa', 'Kenya', ',', 'taratibu', 'za', 'serikali', 'na', 'maafisa', 'wa', 'umma', '.', 'Hata', 'hivyo', ',', 'hakutaja', 'washirika', 'hao', ',', 'mataifa', 'yao', 'wala', 'kufichua', 'iwapo', 'wao', 'pia', 'wamepigwa', 'marufuku', 'kuingia', 'Marekani', '.', 'Ingawa', 'alisema', 'serikali', 'yake', 'haina', 'kiwango', 'halisi', 'cha', 'fedha', 'za', 'hongo', 'na', 'rushwa', ',', 'katika', 'moja', 'ya', 'kesi', 'zinazomkabili', 'Sonko', 'anadaiwa', 'kupokea', 'hongo', 'ya', 'shilingi', 'milioni', '8.4', 'za', 'Kenya', 'kutoka', 'kwa', 'kampuni', 'ya', 'ROG', 'Security', 'Ltd', 'kupitia', 'Anthony', 'Otieno', 'kati', 'ya', 'Desemba', '27', 'na', '28', ',', '2018', '.', 'Fedha', 'hizo', 'zilionekana', 'kumnufaisha', 'mtu', 'huyo', 'kupata', 'mkataba', 'na', 'serikali', 'ya', 'kaunti', 'ya', 'jiji', 'kwa', 'kukodisha', 'vifaa', 'vizito', '.', 'Sonko', 'anakuwa', 'Mkenya', 'wa', 'pili', 'kupigwa', 'marufuku', 'kuingia', 'Marekani', 'wakati', 'wa', 'serikali', 'ya', 'Rais', 'Uhuru', 'Kenyatta', 'kutokana', 'na', 'madai', 'ya', 'ufisadi', '.', 'Chanzo', 'cha', 'picha', ',', 'Mike', 'Sonko/facebook', 'Mwaka', '2019', ',', 'Seneta', 'wa', 'Busia', 'Amos', 'Wako', '(', 'aliyekuwa', 'Mwanasheria', 'Mkuu', 'wa', 'Serikali', ')', ',', 'mkewe', 'na', 'mtoto', 'wake', 'wa', 'kiume', 'walipigwa', 'marufuku', 'kuingia', 'Marekani', 'kutokana', 'na', 'madai', 'kama', 'hayo', '.']\n",
      "\n",
      " Number of Words:  473\n"
     ]
    }
   ],
   "source": [
    "file=\"march8_2.txt\"\n",
    "\n",
    "# calling the function and storing the contents in a text variable \n",
    "text = get_document(\"https://www.bbc.com/swahili/habari-60661679\")\n",
    "\n",
    "# calling the store_ document function \n",
    "store_document(doc=text,name=file)\n",
    "\n",
    "#add the words in this file to the total_corpus_words, to keep count of the number of words in the corpus\n",
    "total_corpus_words+=total_words(file)"
   ]
  },
  {
   "cell_type": "code",
   "execution_count": 102,
   "metadata": {},
   "outputs": [
    {
     "data": {
      "text/plain": [
       "102514"
      ]
     },
     "execution_count": 102,
     "metadata": {},
     "output_type": "execute_result"
    }
   ],
   "source": [
    "total_corpus_words"
   ]
  },
  {
   "cell_type": "code",
   "execution_count": 103,
   "metadata": {},
   "outputs": [
    {
     "name": "stdout",
     "output_type": "stream",
     "text": [
      "['Boda-Boda', ':', 'Tishio', 'la', 'kudumu', 'la', 'teksi', 'za', 'pikipiki', ',', 'boda', 'boda', 'nchini', 'Kenya', '10', 'Machi', '2022', 'Chanzo', 'cha', 'picha', ',', 'Getty', 'Images', 'Maelezo', 'ya', 'picha', ',', 'Kwa', 'wakenya', 'wengi', 'boda', 'boda', 'bi', 'njia', 'rahisi', 'ya', 'usafiri', 'wa', 'haraka', 'kwende', 'popote', 'Katika', 'mfululizo', 'wetu', 'wa', 'barua', 'kutoka', 'kwa', 'waandishi', 'wa', 'Kiafrika', ',', 'mtangazaji', 'wa', 'Kenya', 'Waihiga', 'Mwaura', 'anaangazia', 'ghadhabu', 'ya', 'hivi', 'punde', 'inayoelekezwa', 'kwa', 'waendeshaji', 'wa', 'pikipiki', 'na', 'anauliza', 'kwa', 'nini', 'inaonekana', 'kuwa', 'ni', 'vigumu', 'kuwachukulia', 'hatua', '.', 'Mtu', 'yeyote', 'anayeendesha', 'gari', 'katika', 'jiji', 'kuu', 'la', 'Kenya', 'anajua', 'anapaswa', 'kuwa', 'makini', 'na', 'pikipiki', '-', 'zinzojulikana', 'kama', 'boda-boda', '.', 'Rais', 'Uhuru', 'Kenyatta', 'ameagiza', 'msako', 'mkali', 'dhidi', 'ya', 'waendeshaji', 'boda-boda', 'kote', 'nchini', '.', 'Naye', 'Waziri', 'wa', 'Mambo', 'ya', 'Ndani', 'Fred', 'Matiang', \"'\", 'i', 'alitangaza', 'kwamba', '``', 'lazima', 'tulinde', 'barabara', 'zetu', 'dhidi', 'ya', 'vitendo', 'hivyo', 'viovu', 'na', 'vya', 'kudhalilisha', \"''\", '.', 'Chanzo', 'cha', 'picha', ',', 'AFP', 'Maelezo', 'ya', 'picha', ',', 'Boda-bodas', 'hazitumiki', 'kusafirisha', 'watu', 'pekee', 'Lakini', 'miaka', 'miwili', 'iliyopita', 'alipata', 'ripoti', 'kutoka', 'kwa', 'jopo', 'kazi', 'lililoundwa', 'kuchunguza', 'na', 'kutoa', 'mapendekezo', 'ya', 'jinsi', 'ya', 'kudhibiti', 'sekta', 'hiyo', 'na', 'aliahidi', 'kuchukua', 'hatua', '.', 'Mnamo', 'Agosti', '2020', 'alianzisha', 'mfumo', 'wa', 'usimamizi', 'wa', 'taarifa', 'za', 'boda-boda', 'ambao', 'ulikusudiwa', 'kuweka', 'kumbukumbu', 'ya', 'waendeshaji', 'wote', 'nchini', 'na', 'hivyo', 'kuleta', 'nidhamu', 'katika', 'tasnia', 'hiyo', '.', 'Nini', 'kimetokea', 'kwa', 'hilo', '?', 'Na', 'sasa', 'inaonekana', 'huenda', 'jopokazi', 'lingine', 'likaundwa', 'ili', 'kutafuta', 'ufumbuzi', 'kwa', 'mara', 'nyingine', 'tena', '.', 'Mojawapo', 'ya', 'changamoto', 'ni', 'kwamba', ',', 'kwa', 'wengi', ',', 'boda-boda', 'ni', 'njia', 'rahisi', ',', 'ya', 'haraka', 'na', 'ya', 'bei', 'nafuu', 'ya', 'usafiri', '.', 'Zinatoa', 'huduma', 'muhimu', 'kwa', 'wateja', 'na', 'vile', 'vile', 'ajira', 'kwa', 'maelfu', 'ya', 'vijana', 'wa', 'kiume', '.', 'Hata', 'hivyo', ',', 'kama', 'ilivyobaini', 'Kituo', 'cha', 'Kitaifa', 'cha', 'Utafiti', 'wa', 'Uhalifu', 'mwezi', 'uliopita', ',', 'boda-', 'boda', 'pia', 'ni', 'hatari', 'kubwa', 'barabarani', 'na', 'baadhi', 'ya', 'waendeshaji', 'wanahusika', 'katika', 'ujambazi', 'na', 'vurugu', ',', 'ulanguzi', 'wa', 'dawa', 'za', 'kulevya', 'na', 'hata', 'mauaji', '.', 'Pamoja', 'na', 'hifadhidata', 'ya', 'nchi', 'nzima', ',', 'ripoti', 'yake', 'ilipendekeza', 'mafunzo', 'ya', 'msingi', 'na', 'mtihani', 'kwa', 'madereva', '.', 'Pia', 'kuna', 'utaratibu', 'ambao', 'umewekwa', 'na', 'nchi', 'jirani', 'ya', 'Rwanda', ',', 'ambapo', 'kila', 'dereva', 'aliye', 'na', 'leseni', 'anapewa', 'kifaa', 'kinachotumiwa', 'kuduatilia', 'kidijitali', 'kila', 'pikipiki', 'kupitia', 'mfumo', 'wa', 'GPS', '.', 'Na', 'bado', 'tuko', 'katika', 'hali', 'hii', '.', 'Tatizo', 'la', 'ukatili', 'dhidi', 'ya', 'wanawake', 'na', 'tatizo', 'lnalokumba', 'uchukuzi', 'pikipiki', 'linajulikana', '.', 'Sasa', 'muda', 'wa', 'kujadili', 'mienendo', 'ya', 'waendesha', 'boda', '-boda', 'umeisha', 'sasa', 'ni', 'wakati', 'wa', 'kuchukua', 'hatua', '.', 'Lakini', 'nihofia', 'kwamba', 'itabidi', 'tusubiri', '.', 'Kwa', 'sasa', 'ninatumai', 'kuwa', 'mwanamke', 'aliyeshambuliwa', 'anaungwa', 'mkono', 'na', 'watu', 'wanaompenda', 'na', 'wanaweza', 'kumsaidia', 'katika', 'kipindi', 'ambacho', 'lazima', 'kiwe', 'kigumu', 'sana', '.']\n",
      "\n",
      " Number of Words:  417\n"
     ]
    }
   ],
   "source": [
    "file=\"march10.txt\"\n",
    "\n",
    "# calling the function and storing the contents in a text variable \n",
    "text = get_document(\"https://www.bbc.com/swahili/habari-60687055\")\n",
    "\n",
    "# calling the store_ document function \n",
    "store_document(doc=text,name=file)\n",
    "\n",
    "#add the words in this file to the total_corpus_words, to keep count of the number of words in the corpus\n",
    "total_corpus_words+=total_words(file)"
   ]
  },
  {
   "cell_type": "code",
   "execution_count": 104,
   "metadata": {},
   "outputs": [
    {
     "data": {
      "text/plain": [
       "102931"
      ]
     },
     "execution_count": 104,
     "metadata": {},
     "output_type": "execute_result"
    }
   ],
   "source": [
    "total_corpus_words"
   ]
  },
  {
   "cell_type": "code",
   "execution_count": 105,
   "metadata": {},
   "outputs": [
    {
     "name": "stdout",
     "output_type": "stream",
     "text": [
      "['Uchaguzi', 'Kenya', '2022', ':', 'Je', 'ni', 'masuala', 'gani', 'muhimu', 'yanayotawala', 'uchaguzi', 'wa', '2022', 'nchini', 'Kenya', '?', 'Calvin', 'Muga', 'Mchambuzi', '11', 'Machi', '2022', 'Chanzo', 'cha', 'picha', ',', 'AFP', 'Kenya', 'inaelekea', 'uchaguzi', 'mkuu', 'tarehe', '9', 'Agosti', 'mwaka', 'huu', 'na', 'masuala', 'makubwa', 'katika', 'uchaguzi', 'huu', 'ni', 'ukosefu', 'wa', 'ajira', ',', 'umaskini', ',', 'gharama', 'ya', 'juu', 'ya', 'maisha', ',', 'ufisadi', ',', 'ukosefu', 'wa', 'usalama', 'na', 'afya', '.', 'Lakini', 'shina', 'kubwa', 'linalounganisha', 'masuala', 'yote', 'haya', 'yote', 'ni', 'uchumi', '.', 'Licha', 'ya', 'serikali', 'kutoa', 'takwimu', 'zinazoonyesha', 'kwamba', 'hali', 'ya', 'uchumi', 'nchini', 'imeboreka', 'ikilinganishwa', 'na', 'ilivyokuwa', 'miaka', 'ya', 'nyuma', ',', 'manufaa', 'haya', 'ama', 'Ushahidi', 'wa', 'hilo', 'haupo', 'katika', 'Maisha', 'ya', 'kila', 'siku', 'ya', 'raia', 'wengi', 'wa', 'kawaida', '.', 'Pindi', 'hali', 'ilipoanza', 'kuboreka', 'na', 'baadhi', 'ya', 'sekta', 'kuanza', 'kujikwamua', ',', 'vita', 'vikazuka', 'Ukraine', 'na', 'kusababisha', 'hali', 'iliyokuwa', 'mbaya', 'kuzorota', 'na', 'kuwa', 'ngumu', 'zaidi', 'baada', 'ya', 'bei', 'ya', 'mafuta', ',', 'gesi', 'na', 'vyakula', 'kupanda', '.', 'Uchaguzi', 'wa', 'Kenya', 'utafanyika', 'chini', 'ya', 'mazingira', 'hayo', 'magumu', 'kiuchumi', 'na', 'ndio', 'mwanzo', 'wa', 'tathmini', 'hii', 'kuhusu', 'mambo', 'yanayotawala', 'ndimi', 'za', 'wengi', 'kuhusu', 'uchaguzi', 'wa', 'Kenya', 'mwaka', 'huu', '.', 'Uchumi', 'Uchumi', 'wa', 'Kenya', 'umeathirika', 'sana', 'kwa', 'sababu', 'ya', 'mfumuko', 'wa', 'bei', 'ya', 'bidhaa', '.', 'Hali', 'ilizidishwa', 'kuwa', 'mbaya', 'zaidi', 'na', 'janga', 'la', 'Covid-19', 'ambalo', 'nusura', 'lisitishe', 'kila', 'shughuli', 'ya', 'kuleta', 'pato', '.', 'Wakati', 'wa', 'muhula', 'wa', 'kwanza', 'wa', 'Rais', 'mstaafu', 'Mwai', 'Kibaki', ',', 'uchumi', 'ulikua', 'kwa', '7', '%', ',', 'hili', 'hata', 'hivyo', 'lilishuka', 'kutokana', 'na', 'ghasia', 'za', 'baada', 'ya', 'uchaguzi', 'wa', '2007', 'na', '2008', 'pamoja', 'na', 'mfumuko', 'wa', 'bei', ',', 'ufisadi', 'na', 'Covid-19', 'ambayo', 'ilifanya', 'hali', 'kuwa', 'mbaya', 'zaidi', 'na', 'kushuka', 'hadi', '1', '%', 'mnamo', '2020', '.', 'Wagombeaji', 'wawili', 'wakuu', 'wa', 'kiti', 'cha', 'urais', 'Raila', 'Odinga', 'na', 'William', 'Ruto', 'wakiwa', 'katika', 'kampeni', 'zao', 'wameendelea', 'kueleza', 'Wakenya', 'wanachonuia', 'kufanya', 'ili', 'kujenga', 'uchumi', 'ambao', 'umeathiriwa', 'na', 'mambo', 'yaliyotajwa', 'hapo', 'juu', '.', 'Ruto', 'ameelezea', 'nia', 'yake', 'ya', 'kuuboresha', 'uchumi', 'kutumia', 'mfumo', 'anaotumia', 'katika', 'kampeni', 'wa', \"'Bottom\", 'up', \"'\", '-unaolenga', 'kuwahamasiaha', 'wafanyibiashara', 'wadogo', 'wadogo', 'na', 'ili', 'wajiboreshe', 'kuanzia', 'chini', 'na', 'kuchangia', 'muimariko', 'utakaopanda', 'hadi', 'juu', '.', 'Inasuburiwa', 'kwa', 'hamu', 'na', 'wengi', 'kufahamu', 'kwa', 'kina', 'jinsi', 'wagombeaji', 'hao', 'wanavyolenga', 'kuboresha', 'uchumi', 'kwa', 'namna', 'itakayowafaa', 'pia', 'raia', 'wa', 'kawaida', '.', 'Ufisadi', 'Kulingana', 'na', 'Tume', 'ya', 'Maadili', 'na', 'Kupambana', 'na', 'Ufisadi', '(', 'EACC', ')', ',', 'Kenya', 'hupoteza', 'wastani', 'wa', 'Kshs', '608', 'bilioni', 'kila', 'mwaka', 'kutokana', 'na', 'ufisadi', 'ambao', 'unamaanisha', '7.8', '%', 'ya', 'jumla', 'ya', 'bajeti', '.', 'Ili', 'Kenya', 'kutimiza', 'ajenda', 'yake', 'ya', 'maendeleo', 'na', 'kufikia', 'Pato', 'la', 'Taifa', '(', 'GDP', ')', 'inayotarajiwa', 'ya', '5', '%', 'kama', 'inavyokisiwa', 'na', 'Fitch', 'Solutions', ',', 'viongozi', 'wetu', 'wanapaswa', 'kuwa', 'nia', 'halisi', 'ya', 'kupambana', 'na', 'ufisadi', '.', 'Mmoja', 'wa', 'wagombea', 'urais', 'Raila', 'Odinga', 'kwa', 'nyakati', 'tofauti', 'ameangazia', 'jinsi', 'anavyonuia', 'kukabiliana', 'na', 'ufisadi', 'ikiwa', 'ni', 'pamoja', 'na', 'kuziba', 'mianya', 'ya', 'ufisadi', 'na', 'kuwachukulia', 'hatua', 'wanaohusika', 'na', 'ufisadi', 'akiangalia', 'kiwango', 'kinachopotea', 'kila', 'mwaka', '.', 'Haya', 'ni', 'mazungumzo', 'makubwa', 'zaidi', 'katika', 'uchaguzi', 'wa', '2022', 'nchini', 'Kenya', '.', 'Naibu', 'wa', 'rais', 'William', 'Ruto', 'kwa', 'upande', 'wake', 'amesema', 'njia', 'inayotegemeka', 'ya', 'kukabiliana', 'na', 'tatizo', 'hilo', 'ni', 'kuboresha', 'mifumo', 'ya', 'haki', 'na', 'mahakama', 'ili', 'pasiwe', 'na', 'muingilio', 'wa', 'kisiasa', 'anaosema', 'mara', 'nyingi', 'hulemaza', 'viuta', 'dhidi', 'ya', 'rushwa', '.', 'Nani', 'yuko', 'kwenye', \"kinyang'anyiro\", 'cha', 'kuiongoza', 'Kenya', '?', 'Fahamu', 'zaidi', 'kuwahusu', 'wagombea', 'urais', 'wa', 'Kenya', 'Chagua', 'mgombea', 'ili', 'kutazama', 'wasifu', 'wake', 'Raila', 'Odinga', 'William', 'Ruto', 'George', 'Wajackoyah', 'David', 'Mwaure', 'Raila', 'Amollo', 'Odinga', 'Muungano', 'wa', 'Azimio', 'la', 'Umoja', 'Maelezo', 'ya', 'Msingi', 'Mgombea', 'huyo', 'mwenye', 'umri', 'wa', 'miaka', '77', 'ni', 'mhandisi', 'aliyesomea', 'Chuo', 'Kikuu', 'cha', 'Ufundi', 'cha', 'Magdeburg', '(', 'sasa', 'kinajulikana', 'kama', 'Chuo', 'Kikuu', 'cha', 'Otto-von-Guericke', 'Magdeburg', ')', 'nchini', 'Ujerumani', '.', 'Anawania', 'kiti', 'cha', 'urais', 'kwa', 'tikiti', 'ya', 'Azimio', 'la', 'Umoja', 'One', 'Kenya', 'Coalition', 'Party', '.', 'Hili', 'litakuwa', 'jaribio', 'lake', 'la', 'tano', 'baada', 'ya', 'kugombea', 'katika', ':', '1997', ',', '2007', ',', '2013', 'na', '2017', '.', 'Mafanikio', 'Muhimu', 'Bw', 'Odinga', 'alikuwa', 'mmoja', 'wa', 'wapiganiaji', 'wa', 'demokrasia', 'ya', 'vyama', 'vingi', 'nchini', 'Kenya', '.', 'Alikamatwa', ',', 'akafungwa', 'na', 'wakati', 'fulani', 'akaenda', 'uhamishoni', 'kwa', 'sababu', 'ya', 'kupigania', 'haki', 'hiyo', 'Aliwahi', 'kuwa', 'Waziri', 'Mkuu', ',', 'kuanzia', '2008-2013', '.', 'Odinga', 'alihusika', 'kufanikisha', 'miradi', 'mikubwa', 'iliyotekelezwa', 'na', 'serikali', 'ya', 'Kibaki', ',', 'kama', 'vile', 'miradi', 'ya', 'umeme', 'vijijini', 'na', 'barabara', '.', 'Ahadi', 'Muhimu', 'Kuafikia', 'ukuaji', 'wa', 'uchumi', 'wa', 'tarakimu', 'mbili', 'kupitia', 'uwekezaji', 'katika', 'biashara', 'ndogo', 'ndogo', 'na', 'sekta', 'ya', 'viwanda', '.', 'Utoaji', 'wa', 'huduma', 'bora', 'za', 'afya', 'kwa', 'wote', '.', 'Utoaji', 'wa', 'vifaa', 'vya', 'michezo', 'na', 'burudani', 'kwa', 'ukuaji', 'wa', 'kimwili', ',', 'kiakili', ',', 'kijamii', ',', 'kimaadili', 'na', 'maendeleo', 'ya', 'watu', '.', 'Kashfa/Sakata', 'Kufuatia', 'jaribio', 'la', 'mapinduzi', 'ya', 'Agosti', '1', ',', '1982', ',', 'Raila', 'Odinga', 'alikamatwa', 'na', 'kukabiliwa', 'na', 'mashtaka', 'kadhaa', ',', 'yakiwemo', 'ya', 'uhaini', 'ambayo', 'alizuiliwa', 'bila', 'kufunguliwa', 'mashtaka', '.', 'Tume', 'ya', 'Ukweli', 'ya', 'Haki', 'na', 'Maridhiano', 'iliambiwa', 'mwaka', '2011', 'kwamba', 'Odinga', 'alikuwa', 'na', 'mawasiliano', 'na', 'mpangaji', 'mkuu', 'wa', 'mapinduzi', 'hayo', '.', 'Odinga', 'amekana', 'kuhusika', 'kila', 'mara', '.', '-', 'Makavazi', 'ya', 'Kitaifa', 'ya', 'Kenya', '.', 'William', 'Samoei', 'Ruto', 'Muungano', 'wa', 'Kenya', 'Kwanza', 'Maelezo', 'ya', 'Msingi', 'Mgombea', 'huyu', 'mwenye', 'umri', 'wa', 'miaka', '55', 'ana', 'Shahada', 'ya', 'Uzamifu/PhD', 'katika', 'Ikolojia', 'ya', 'Mimea', 'na', 'BSc', 'katika', 'Botany', 'na', 'Zoology', 'kutoka', 'Chuo', 'Kikuu', 'cha', 'Nairobi', '.', 'Anawania', 'kiti', 'cha', 'urais', 'kwa', 'tikiti', 'ya', 'chama', 'cha', 'United', 'Democratic', 'Alliance', '(', 'chenye', 'mafungamano', 'na', 'Kenya', 'Kwanza', ')', '.', 'Aliongoza', 'Vuguvugu', 'la', 'vijana', 'la', 'Youth', 'for', 'Kanu', \"'92\", '(', 'YK', \"'\", '(', '92', ')', '.', 'Mafanikio', 'Muhimu', 'Wizara', 'yake', 'iliorodheshwa', 'kama', 'inayofanya', 'bora', 'zaidi', 'serikalini', 'alipokuwa', 'Waziri', 'wa', 'Kilimo', '.', 'Alihudumu', 'kama', 'Naibu', 'Rais', 'wa', 'kwanza', 'wa', 'Kenya', 'chini', 'ya', 'katiba', 'mpya', 'ya', '2010', '.', 'Alihudumu', 'kama', 'mbunge', 'wa', 'eneo', 'bunge', 'la', 'Eldoret', 'Kaskazini', 'kuanzia', '1997-2007', '.', 'Ahadi', 'Muhimu', 'Kutenga', '$', '424', 'milioni', 'kila', 'mwaka', 'kwa', 'biashara', 'ndogo', 'ndogo', 'za', 'kati', '.', 'Kuanzisha', 'mfuko', 'wa', 'elimu', 'wa', 'kitaifa', 'ili', 'kukidhi', 'gharama', 'zisizo', 'za', 'masomo', '.', 'Tekeleza', 'kikamilifu', 'sheria', 'ya', 'usawa', 'wa', 'kijinsia', 'ya', 'thuluthi', 'mbili', 'katika', 'uteuzi', 'wa', 'kisiasa', 'na', 'kutenga', 'nusu', 'ya', 'baraza', 'lake', 'la', 'mawaziri', 'kwa', 'wanawake', '.', 'Kashfa/Sakata', 'Mnamo', '2008', ',', 'Mahakama', 'Kuu', 'ya', 'Kenya', 'iliamuru', 'Naibu', 'Rais', 'William', 'Ruto', 'kusalimisha', 'shamba', 'la', 'ekari', '100', 'na', 'kulipa', '$', '62,500', 'kwa', 'Adrian', 'Muteshi', ',', 'mkulima', 'ambaye', 'alimshtaki', 'kwa', 'kuchukua', 'mali', 'hiyo', 'baada', 'ya', 'uchaguzi', 'wa', '2007', '.', '-', 'Kenya', 'Law', 'Mnamo', '2011', ',', 'Bw', 'Ruto', 'alikabiliwa', 'na', 'kesi', 'kwa', 'makosa', 'matatu', 'dhidi', 'ya', 'binadamu', ':', 'Mauaji', ',', 'uhamisho', 'wa', 'watu', 'kwa', 'lazima', 'na', 'mateso', 'ya', 'watu', 'katika', 'Mahakama', 'ya', 'Kimataifa', 'ya', 'Uhalifu', '.', 'Miaka', 'mitano', 'baadaye', 'mahakama', 'ilisitisha', 'kesi', 'hiyo', 'kwa', 'msingi', 'kwamba', '-', 'ushahidi', 'wa', 'upande', 'wa', 'mashtaka', 'ulikuwa', 'dhaifu', '.', '-ICC', 'George', 'Wajackoyah', 'Chama', 'cha', 'Roots', 'Maelezo', 'ya', 'Msingi', 'Profesa', 'huyo', 'mwenye', 'umri', 'wa', 'miaka', '61', 'ana', 'shahada', 'ya', 'uzamili', 'katika', 'sheria', 'kuhusu', 'maendeleo', 'kutoka', 'Chuo', 'Kikuu', 'cha', 'Warwick', 'na', 'shahada', 'ya', 'uzamili', ',', 'sheria', '(', 'sheria', 'za', 'Marekani', 'kutoka', 'Chuo', 'Kikuu', 'cha', 'Baltimore', '.', 'Bw', 'Wajackoyah', 'anawania', 'kiti', 'cha', 'urais', 'kwa', 'tiketi', 'ya', 'Chama', 'cha', 'Roots', 'Party', '.', 'Mafanikio', 'Muhimu', 'Alihudumu', 'kama', 'Inspekta', 'katika', 'idara', 'ya', 'usalama', 'ya', 'Special', 'branch', 'wakati', 'wa', 'utawala', 'wa', 'marehemu', 'Rais', 'Daniel', 'Moi', 'kabla', 'ya', 'kulazimika', 'kutorokea', \"ng'ambo\", 'ili', 'kuepuka', 'kufunguliwa', 'mashtaka', 'na', 'mamlaka', '.', 'Yeye', 'ni', 'mshirika', 'katika', 'kampuni', 'ya', 'mawakili', 'aliyoianzisha', 'mwaka', 'wa', '2018', '.', 'Alifunnza', 'somo', 'la', 'sheria', 'na', 'uchumi', 'katika', 'vyuo', 'vikuu', 'vya', 'Marekani', ',', 'Uingereza', 'na', 'Kenya', '.', 'Ahadi', 'Muhimu', 'Kuhalalisha', 'matumizi', 'ya', 'kiviwanda', 'ya', 'bangi', 'Badilisha', 'siku', 'za', 'kazi', 'hadi', 'Jumatatu', 'hadi', 'Alhamisi', '.', 'Huduma', 'ya', 'afya', 'ya', 'bure', 'na', 'msaada', 'kwa', 'wazee', ',', 'walio', 'hatarini', 'na', 'wajawazito', 'David', 'Mwaure', 'Waihiga', 'Chama', 'cha', 'Agano', 'Maelezo', 'ya', 'Msingi', 'David', 'Mwaure', 'anawania', 'kiti', 'cha', 'urais', 'kwa', 'tiketi', 'ya', 'Chama', 'cha', 'Agano', '.', 'Ni', 'kiongozi', 'wa', 'Chama', 'cha', 'Agano', '.', 'Alihitimu', 'na', 'shahada', 'ya', 'sheria', 'kutoka', 'Chuo', 'Kikuu', 'cha', 'Nairobi', 'na', 'ana', 'Shahada', 'ya', 'Uzamili', 'katika', 'masomo', 'ya', 'uongozi', '.', 'Mafanikio', 'Muhimu', 'Yeye', 'ni', 'wakili', 'mkuu', 'na', 'amehudumu', 'kama', 'mwanasheria', 'kwa', 'zaidi', 'ya', 'miongo', 'mitatu', '.', 'Ahadi', 'Muhimu', 'Katika', 'hotuba', 'yake', 'moja', 'akiwa', 'London', ',', 'Ruto', 'aliahidi', 'kuhakikisha', 'kwamba', 'idara', 'ya', 'mahakama', 'na', 'asasi', 'nyingine', 'husika', 'zinapata', 'uhuru', 'wa', 'kweli', 'na', 'hata', 'wa', 'kifedha', 'ili', 'kuweza', 'kutekeleza', 'shughuli', 'zao', 'bila', 'muingilio', 'wa', 'serikali', '.', 'Gharama', 'ya', 'Juu', 'ya', 'Maisha', 'Leo', 'hii', 'asilimia', '16', 'ya', 'wakazi', 'wa', 'Kenya', 'wanaishi', 'chini', 'ya', 'dola', '1.9', 'kwa', 'siku', ',', 'kwa', 'hivyo', 'hii', 'ina', 'maana', 'kwamba', 'wengi', 'hawawezi', 'kupata', 'mambo', 'ya', 'kimsingi', 'kumudu', 'maisha', 'yao', '.', 'Gharama', 'ya', 'bidhaa', 'imepanda', 'sana', 'kwa', 'takriban', 'mara', 'dufu', ',', 'kwa', 'mfano', ',', 'mwaka', 'wa', '2010', 'pakiti', 'ya', 'kilo', 'mbili', 'ya', 'unga', 'wa', 'mahindi', 'ilikuwa', 'ikiuzwa', 'kati', 'ya', 'Kshs', '60', 'hadi', 'Kshs', '70', ',', 'leo', 'inauzwa', 'inauzwa', 'kati', 'ya', 'Kshs', '120', 'hadi', 'Kshs', '140', ',', 'na', 'ongezeko', 'hilo', 'bado', 'linaendelea', 'kupanda', '.Hali', 'ni', 'vivyo', 'hivyo', 'kwa', 'msururu', 'wa', 'bidhaa', 'nyingi', 'za', 'matumizi', 'ya', 'kila', 'siku', '.', 'Wagombea', 'wawili', 'wakuu', 'wa', 'urais', 'Raila', 'Odinga', 'na', 'William', 'Ruto', 'wameendelea', 'kuwafafanulia', 'Wakenya', 'wakati', 'wa', 'kampeni', 'zao', 'kuhusu', 'jinsi', 'wanavyonuia', 'kushughulikia', 'suala', 'hili', 'wakibainisha', 'kuwa', 'linagusa', 'sehemu', 'kubwa', 'ya', 'wakazi', '.', 'Ushuru', 'wa', 'Juu', 'Kenya', 'ni', 'mojawapo', 'ya', 'nchi', 'zinazotoza', 'ushuru', 'wa', 'juu', 'kwa', 'raia', 'wake', 'katika', 'ukanda', 'wa', 'Afrika', '.', 'Ushuru', 'huu', 'hutoka', 'kutoka', 'kwa', 'Pay', 'As', 'You', 'Earn', ',', '(', 'kwa', 'walio', 'katika', 'ajira', 'rasmi', ')', 'hadi', 'VAT', '(', 'unaotozwa', 'bidhaa', ')', ',', 'ushuru', 'wa', 'simu', ',', 'ushuru', 'wa', 'biashara', 'na', 'hili', 'limesababishwa', 'na', 'ongezeko', 'kiwango', 'cha', 'kikomo', 'cha', 'bajeti', 'ambacho', 'kimeendelea', 'kukua', 'kila', 'mwaka', '.', 'Katika', 'mwaka', 'wa', 'kifedha', 'wa', '2021-2022', ',', 'hazina', 'ya', 'kitaifa', 'iliwasilisha', 'bajeti', 'ya', 'Kshs', '3.66', 'trilioni', 'ikilinganishwa', 'na', 'miaka', '10', 'iliyopita', '2012-2013', 'ambapo', 'bajeti', 'ilikuwa', 'Kshs', '1.45', 'trilioni', '.', 'Hili', 'limeathiri', 'Wakenya', 'pakubwa', '.', 'Utozaji', 'ushuru', 'huu', 'unaolalamikiwa', 'kuwa', 'wa', 'juu', 'haujaepuka', 'fikra', 'za', 'wagombeaji', 'wawili', 'wakuu', 'wa', 'urais', 'huku', 'Raila', 'Odinga', 'akieleza', 'jinsi', 'katika', 'serikali', 'yake', 'vijana', 'watapata', 'afueni', 'kwa', 'msamaha', 'wa', 'kulipa', 'ushuru', 'kwa', 'miaka', '7', '.', 'Hili', 'ni', 'suala', 'zito', 'la', 'kampeni', 'katika', 'uchaguzi', 'huu', 'wa', '2022', '.', 'Ukosefu', 'wa', 'ajira', 'kwa', 'vijana', 'Kulingana', 'na', 'sensa', 'ya', '2019', ',', 'vijana', 'walio', 'chini', 'ya', 'umri', 'wa', 'miaka', '35', 'wanasheheni', '75', '%', 'ya', 'jumla', 'ya', 'watu', 'Milioni', '47.6', '.', 'Vyuo', 'Vikuu', 'na', 'na', 'vingine', 'vya', 'mafunzo', 'huwa', 'na', 'wanafunzi', 'kati', 'ya', '15,000', 'hadi', '30,000', 'kila', 'mwaka', 'kulingana', 'na', 'data', 'ya', '2019', 'ya', 'Wizara', 'ya', 'Elimu', '.', 'Hali', 'hii', 'imefanywa', 'kuwa', 'mbaya', 'zaidi', 'na', 'Covid-19', 'ambayo', 'imeacha', 'watu', 'kadhaa', 'bila', 'ajira', 'katika', 'uchumi', 'ambao', 'haujaendelea', 'sana', 'kiviwanda', '.', 'Hili', 'limewaacha', 'zaidi', 'idadi', 'kubwa', 'ya', 'vijana', 'wasio', 'na', 'ajira', 'wakipigania', 'fursa', 'ndogo', 'zilizopo', 'jambo', 'ambalo', 'limewafanya', 'kuwa', 'hatarini', 'zaidi', 'kwa', 'ghilba', 'za', 'kisiasa', 'kama', 'vile', 'vurugu', 'za', 'uchaguzi', '.', 'Katika', 'duru', 'mbili', 'za', 'uandikishaji', 'wapiga', 'kura', 'tuliona', 'wagombeaji', 'wawili', 'wakuu', 'wa', 'urais', 'Raila', 'Odinga', 'na', 'William', 'Ruto', 'wakiwaasa', 'vijana', 'ili', 'wajiandikishe', 'kuwa', 'wapiga', 'kura', 'na', 'kushiriki', 'uchaguzi', 'mkuu', 'ujao', 'tarehe', '9', 'Agosti', '2022', 'huku', 'kila', 'mgombea', 'akiahidi', 'kushughulikia', 'masuala', 'yanayowahusu', '.', 'Odinga', 'amahidi', 'msamaha', 'wa', 'ushuru', 'wa', 'miaka', '7', 'kwa', 'vijana', 'iwapo', 'atachaguliwa', 'kuwa', 'rais', 'huku', 'William', 'Ruto', 'akiahidi', 'kuwainua', 'vijana', 'kupitia', 'usaidizi', 'wa', 'kifedha', 'na', 'uhamasisho', 'wa', 'kujitegemea', 'kupitia', 'mikopo', 'kwa', 'biashara', 'zao', '.']\n",
      "\n",
      " Number of Words:  1762\n"
     ]
    }
   ],
   "source": [
    "file=\"march11_1.txt\"\n",
    "\n",
    "# calling the function and storing the contents in a text variable \n",
    "text = get_document(\"https://www.bbc.com/swahili/habari-60692525\")\n",
    "\n",
    "# calling the store_ document function \n",
    "store_document(doc=text,name=file)\n",
    "\n",
    "#add the words in this file to the total_corpus_words, to keep count of the number of words in the corpus\n",
    "total_corpus_words+=total_words(file)"
   ]
  },
  {
   "cell_type": "code",
   "execution_count": 106,
   "metadata": {},
   "outputs": [
    {
     "data": {
      "text/plain": [
       "104693"
      ]
     },
     "execution_count": 106,
     "metadata": {},
     "output_type": "execute_result"
    }
   ],
   "source": [
    "total_corpus_words"
   ]
  },
  {
   "cell_type": "code",
   "execution_count": 107,
   "metadata": {},
   "outputs": [
    {
     "name": "stdout",
     "output_type": "stream",
     "text": [
      "['David', 'Muchiri', ',', 'almaarufu', 'kama', 'Moya', 'David1', 'amepata', 'umaruufu', 'kupitia', 'michezo', 'yake', 'ya', 'uchokozi', 'na', 'pia', 'kutumbuiza', 'jamii', 'na', 'kuwapa', 'maua', 'na', 'chokolet', 'na', 'hata', 'pesai', ',', 'lengo', 'lake', 'anasema', 'ni', '“', 'kuponya', 'mioyo', 'ya', 'watu', '”', '.', 'Huku', 'akiwa', 'na', 'karibu', 'na', 'wafuasi', 'milioni', 'moja', 'wanaomfuata', 'katika', 'mtandao', 'wa', 'TikTok', 'na', 'michezo', 'yake', 'kupendwa', 'na', 'zaidi', 'ya', 'watu', 'milioni', '10', ',', 'Moyes', 'amekuwa', 'jina', 'tajika', 'katika', 'mitandao', 'ya', 'kijamii', '.', 'Mwanahabari', 'wetu', '@', 'judith_wambare', 'alikutana', 'naye', ',', 'na', 'kufahamu', 'zaidi', 'kuhusu', 'maisha', 'ya', 'Moyes', 'na', 'changamoto', 'anazopitia', 'ili', 'kuweka', 'tabasamu', 'katika', 'nyuso', 'za', 'watu', '.']\n",
      "\n",
      " Number of Words:  96\n"
     ]
    }
   ],
   "source": [
    "file=\"march11_2.txt\"\n",
    "\n",
    "# calling the function and storing the contents in a text variable \n",
    "text = get_document(\"https://www.bbc.com/swahili/habari-60704250\")\n",
    "\n",
    "# calling the store_ document function \n",
    "store_document(doc=text,name=file)\n",
    "\n",
    "#add the words in this file to the total_corpus_words, to keep count of the number of words in the corpus\n",
    "total_corpus_words+=total_words(file)"
   ]
  },
  {
   "cell_type": "code",
   "execution_count": 108,
   "metadata": {},
   "outputs": [
    {
     "data": {
      "text/plain": [
       "104789"
      ]
     },
     "execution_count": 108,
     "metadata": {},
     "output_type": "execute_result"
    }
   ],
   "source": [
    "total_corpus_words"
   ]
  },
  {
   "cell_type": "code",
   "execution_count": 111,
   "metadata": {},
   "outputs": [
    {
     "name": "stdout",
     "output_type": "stream",
     "text": [
      "['Mzozo', 'Ukraine', ':', 'Siwezi', 'kurudi', 'nyumbani', 'kwa', 'sasa', 'Wakati', 'vita', 'vya', 'Urusi', 'na', 'Ukraine', 'vinaingia', 'siku', 'ya', '20', 'watu', 'wanazidi', 'kuihama', 'Ukraine', 'na', 'hata', 'Urusi', 'kwenda', 'nchi', 'na', 'maeneo', 'salama', '.', 'Lakini', 'kuna', 'baadhi', 'ya', 'wanafunzi', 'wa', 'mataifa', 'ya', 'Afrika', 'Mashariki', 'walioko', 'Urusi', 'na', 'Ukraine', 'ambao', 'wamekataa', 'kurudi', 'nyumbani', '.', 'Talo', 'Harison', 'mwanafunzi', 'kutoka', 'Kenya', 'anasema', 'ingawa', 'maisha', 'ni', 'magumu', 'lakini', 'hataki', 'kurudi', '.', 'Mwanahabari', 'wetu', 'Scolar', 'Kisanga', 'amezungumza', 'naye', 'na', 'hizi', 'ndizo', 'sababu', 'zake', 'za', 'kukataa', 'kurudi', 'nyumbani', '.', 'Talo', 'Harison', 'anasema', 'yeye', 'ni', 'rais', 'wa', 'wanafunzi', 'mjini', 'Moscow', 'hivyo', 'jukumu', 'lake', 'kubwa', 'ni', 'kuwasimamia', 'wanafunzi', 'wa', 'Afrika', '.', 'Anasema', 'kwa', 'sasa', 'hivi', ',', 'hofu', 'ndio', 'iliyopo', 'mjini', 'Moscow', 'kwa', 'kuwa', 'hawajui', 'ni', 'nini', 'kitafanyika', 'kesho', ',', 'kwa', 'sasa', 'kuna', 'ugumu', 'wa', 'kupata', 'pesa', 'za', 'matumizi', 'au', 'chakula', 'kwa', 'mfano', 'kutumiwa', 'pesa', 'kutoka', 'kwa', 'wazazi', 'imekuwa', 'si', 'jambo', 'rahisi', 'na', 'hata', 'wale', 'waliokuwa', 'wanafanya', 'kazi', ',', 'kampuni', 'nyingi', 'za', 'kigeni', 'zimefungwa', '.', 'Hivyo', 'hofu', 'kubwa', 'ni', 'pesa', 'zikiisha', ',', 'ni', 'nini', 'kitatokea', 'baada', 'ya', 'hapo', ',', 'ndio', 'maana', 'wengi', 'wanaishi', 'nayo', '.', 'Yeye', 'mwenyewe', 'binafsi', 'anasema', 'ana', 'hofu', 'lakini', 'hataki', 'kurudi', 'nyumbani', 'kwa', 'kuwa', 'masomo', 'yanaendelea', 'Urusi', 'kama', 'kawaida', '.', 'Talo', 'amesisitiza', 'kuwa', 'masomo', 'yanaendelea', 'kama', 'kawaida', 'licha', 'ya', 'hofu', 'iliyopo', ',', 'mtu', 'kama', 'amesoma', 'udaktari', 'miaka', 'mitano', 'na', 'akindoka', 'sasa', 'atakuwa', 'amepoteza', 'maana', 'hawajui', 'nini', 'kitafanyika', 'kesho', '.', 'Aidha', 'Talo', 'amesema', ',', 'wametoka', 'katika', 'janga', 'la', 'corona', 'ambalo', 'liliwaathiri', 'sana', 'na', 'kama', 'uko', 'mbali', 'na', 'wazazi', 'iliathiri', 'sana', 'na', 'sasa', 'vita', 'imekuja', 'na', 'inawaathiri', 'ila', 'wanaomba', 'kila', 'kitu', 'kiwe', 'sawa', 'mpaka', 'watakaporudi', 'nyumbani', '.', 'Talo', 'anaelewa', 'kuwa', 'Urusi', 'iko', 'hatarini', 'zaidi', 'kupata', 'athari', 'za', 'vita', 'licha', 'ya', 'kwamba', 'dunia', 'nzima', 'inaweza', 'kuathirika', 'kutokana', 'na', 'vita', 'hii', 'lakini', 'bado', 'ni', 'muhimu', 'kwa', 'yeye', 'kumaliza', 'masomo', 'yake', 'na', 'hali', 'ikiwa', 'mbaya', 'zaidi', 'atarudi', 'nyumbani', '.']\n",
      "\n",
      " Number of Words:  295\n"
     ]
    }
   ],
   "source": [
    "file=\"march15.txt\"\n",
    "\n",
    "# calling the function and storing the contents in a text variable \n",
    "text = get_document(\"https://www.bbc.com/swahili/habari-60749989\")\n",
    "\n",
    "# calling the store_ document function \n",
    "store_document(doc=text,name=file)\n",
    "\n",
    "#add the words in this file to the total_corpus_words, to keep count of the number of words in the corpus\n",
    "total_corpus_words+=total_words(file)"
   ]
  },
  {
   "cell_type": "code",
   "execution_count": 112,
   "metadata": {},
   "outputs": [
    {
     "data": {
      "text/plain": [
       "105084"
      ]
     },
     "execution_count": 112,
     "metadata": {},
     "output_type": "execute_result"
    }
   ],
   "source": [
    "total_corpus_words"
   ]
  },
  {
   "cell_type": "code",
   "execution_count": 113,
   "metadata": {},
   "outputs": [
    {
     "name": "stdout",
     "output_type": "stream",
     "text": [
      "['Kenya', ':', 'Barabara', 'za', 'maafa', 'nchini', 'Kenya', 'Je', ',', 'mtandao', 'wa', 'barabara', 'zinazovuka', 'kote', 'Kenya', 'umekuwa', 'mitego', 'ya', 'vifo', '?', 'Kati', 'ya', '2020', 'na', '2021', 'vifo', 'vya', 'ajali', 'za', 'barabarani', 'nchini', 'Kenya', 'viliongezeka', 'zaidi', 'ya', 'asilimia', '20', '.', 'Mwaka', 'jana', ',', 'zaidi', 'ya', '4500', 'waliuawa', 'na', 'zaidi', 'ya', '16,000', 'kujeruhiwa', '.', 'Serikali', 'ya', 'Kenya', 'inasema', 'watu', 'kuendesha', 'magari', 'wakiwa', 'walevi', ',', 'kupakia', 'mizigo', 'kupita', 'kiasi', ',', 'na', 'mwendo', 'kasi', 'ni', 'miongoni', 'mwa', 'sababu', 'kuu', 'za', 'mauaji', 'hayo', '.', 'Lakini', 'je', ',', 'rushwa', 'nayo', 'ni', 'sababu', '?', 'Mwandishi', 'wa', 'habari', 'Richard', 'Chacha', ',', 'aliyepooza', 'katika', 'ajali', 'ya', 'barabarani', 'miaka', 'kumi', 'iliyopita', ',', 'anaungana', 'na', 'Africa', 'Eye', 'kuwafichua', 'wafanyikazi', 'wa', 'shule', 'ya', 'udereva', 'ambaohuwawezesha', 'madereva', 'ambao', 'hawajahitimu', 'kuendesha', 'magari', 'bila', 'kulazimika', 'kufanya', 'mtihani', 'wa', 'udereva', '.', 'Africa', 'Eye', 'pia', 'inafichua', 'jinsi', 'madalali', 'wanavyochukua', 'pesa', 'kuupiku', 'mfumo', 'wa', 'kupima', 'usalama', 'wa', 'magari', ',', 'kuwezesha', 'teksi', 'zinazofaa', 'kwa', 'rundo', 'la', 'vyuma', 'chakavu', 'kuendeshwa', 'kwenye', 'barabara', 'za', 'Kenya…na', 'kubeba', 'abiria', '.']\n",
      "\n",
      " Number of Words:  156\n"
     ]
    }
   ],
   "source": [
    "file=\"march21.txt\"\n",
    "\n",
    "# calling the function and storing the contents in a text variable \n",
    "text = get_document(\"https://www.bbc.com/swahili/habari-60815761\")\n",
    "\n",
    "# calling the store_ document function \n",
    "store_document(doc=text,name=file)\n",
    "\n",
    "#add the words in this file to the total_corpus_words, to keep count of the number of words in the corpus\n",
    "total_corpus_words+=total_words(file)"
   ]
  },
  {
   "cell_type": "code",
   "execution_count": 114,
   "metadata": {},
   "outputs": [
    {
     "data": {
      "text/plain": [
       "105240"
      ]
     },
     "execution_count": 114,
     "metadata": {},
     "output_type": "execute_result"
    }
   ],
   "source": [
    "total_corpus_words"
   ]
  },
  {
   "cell_type": "code",
   "execution_count": 115,
   "metadata": {},
   "outputs": [
    {
     "name": "stdout",
     "output_type": "stream",
     "text": [
      "['Wanajeshi', 'wa', 'Kenya', 'wauawa', 'Somalia', ':', 'Usiri', 'unaozunguka', 'vifo', 'hivyo', 'Mjane', 'wa', 'Johnson', 'ole', 'Kiyaipi', 'alishindwa', 'kuhimili', 'majonzi', 'wakati', 'wa', 'ibada', 'ya', 'mazishi', 'yake', 'Johnson', 'ole', 'Kiyaipi', 'alizikwa', 'kwa', 'heshima', 'kamili', 'ya', 'kijeshi', 'nyumbani', 'kwake', 'Kenya', 'baada', 'ya', 'kuuawa', 'na', 'bomu', 'lililotegwa', 'kando', 'ya', 'barabara', 'nchini', 'Somalia', ',', 'ingawa', 'jeshi', 'wala', 'serikali', 'haijakiri', 'hadharani', 'kifo', 'chake', '.', 'Mauaji', 'ya', 'kijana', 'huyo', 'wa', 'miaka', '35', 'na', 'wenzake', 'tisa', 'wiki', 'iliyopita', ',', 'yanayodaiwa', 'kutekelezwa', 'na', 'wanamgambo', 'wa', 'al-Shabab', ',', 'yamechochea', 'wito', 'wa', 'Kenya', 'kuondoa', 'wanajeshi', 'wake', 'kutoka', 'Somalia', ',', 'ambako', 'wamekuwa', 'wakipambana', 'na', 'kundi', 'hilo', 'la', 'wanamgambo', 'tangu', 'mwaka', '2011', '.', 'Ukimya', 'huo', 'rasmi', 'umezidisha', 'hali', 'ya', 'kufadhaika', 'kwa', 'familia', 'ya', 'Bw', 'Kiyaipi', 'huko', 'Kilgoris', ',', 'kusini-magharibi', 'mwa', 'Kenya', '.', '``', 'Tutawapoteza', 'vijana', 'wengine', 'wangapi', 'kabla', 'vijana', 'wetu', 'warudishwe', 'nyumbani', '?', 'Bi', 'familia', 'zingine', 'ngapi', 'zitakabiliwa', 'na', 'machungu', 'ya', 'vita', 'vinavyopiganwa', 'katika', 'nchi', 'nyingine', '?', \"''\", 'aliuliza', 'kaka', 'yake', 'mkubwa', ',', 'Dkt', 'Joel', 'ole', 'Kiyiapi', '.', '``', 'Tuna', 'uchungu', 'kwa', 'kupoteza', 'vijana', 'Somalia', '.', 'Wakati', 'umewadia', 'wa', 'wao', 'wa', 'kurejea', 'nyumbani', 'na', 'kulinda', 'mipaka', 'yetu', ',', \"''\", 'Joseph', 'Tasur', 'aliendelea', '.', 'Chanzo', 'cha', 'picha', ',', 'AFP', 'Maelezo', 'ya', 'picha', ',', 'Mkesha', 'huu', 'wa', '2015', 'ni', 'kumbukumbu', 'ya', 'wanajeshi', 'wa', 'Kenya', 'waliouawa', 'katika', 'kambi', 'ya', 'Umoja', 'wa', 'Afrika', 'kusini-magharibi', 'mwa', 'Somalia', '.', 'Familia', 'za', 'wanajeshi', 'hao', 'zimekasirishwa', 'na', 'hatua', 'ya', 'serikali', 'kusalia', 'kimya', 'wanajeshi', 'wa', 'Kenya', 'wanapouawa', 'vitani', '.', 'Wanasema', 'ukimya', 'huo', 'na', 'kutokiri', 'hadaharani', 'mauaji', 'hayo', 'ni', 'ishara', 'ya', 'kutowaheshimu', '.', 'Mamlaka', 'hazijaelezea', 'kwanini', 'zinasalia', 'kimya', 'kuhusu', 'vifo', 'vya', 'wanajeshi', '.', 'Makadirio', 'ya', 'sasa', 'yanaonyesha', 'kuwa', 'mamia', 'ya', 'wanajeshi', 'wa', 'Kenya', 'wamekufa', 'nchini', 'Somalia', ',', 'huku', 'shambulio', 'la', 'El', 'Adde', 'la', '2016', 'lililofanywa', 'na', 'wanamgambo', 'wa', 'Kijihadi', 'lilisababisha', 'vifo', 'vya', 'takriban', '200', '.', 'Jeshi', 'lilisema', 'litafanya', 'uchunguzi', 'na', 'kutoa', 'maelezo', 'ya', 'wanajeshi', 'waliofariki', 'katika', 'shambulizi', 'hilo', 'miaka', 'sita', 'iliyopita', ',', 'lakini', 'hadi', 'sasa', 'hili', 'halijafanyika', '.', \"'Serikali\", 'lazima', 'iwe', 'wazi', \"'\", 'Prof', 'Kiyaipi', 'alisema', 'alishangazwa', 'kuwa', 'hakuna', 'mjadala', 'kati', 'ya', 'wabunge', 'au', 'umma', 'kuhusu', 'lengo', 'la', 'vikosi', 'vya', 'Kenya', 'nchini', 'Somalia', '.', '``', 'Tunahitaji', 'kutafakari', 'upya', 'mkakati', 'wetu', 'na', 'kuwa', 'na', 'tarehe', 'ya', 'mwisho', 'iliyo', 'wazi', 'kwa', 'wanajeshi', 'wetu', 'huko', '.', 'Haiwezi', 'kuwa', 'oparesheniisiyo', 'na', 'kikomo', 'na', 'tuna', 'hakika', 'hatuwezi', 'kumudu', 'kuendelea', 'kupoteza', 'vijana', 'wetu', 'katika', 'vita', 'hivi', ',', \"''\", 'aliiambia', 'BBC', '.', 'Kuna', 'makaburi', 'ya', 'kijeshi', 'ambayo', 'yana', 'majina', 'ya', 'askari', 'walioanguka', ',', 'hata', 'hivyo', 'hayako', 'wazi', 'kwa', 'umma', 'Kulikuwa', 'na', 'ghadhabu', 'zaidi', 'mtandaoni', 'nchini', 'Kenya', 'wiki', 'iliyopita', 'wakati', 'jeshi', 'la', 'Marekani', 'lilipowatunuku', 'wanajeshi', 'watatu', 'wa', 'Kenya', 'kwa', 'ushujaa', 'wao', 'wakati', 'wa', 'shambulio', 'la', 'kambi', 'ya', 'Manda', 'mnamo', 'Januari', '2020', ',', 'huku', 'serikali', 'ya', 'Kenya', 'na', 'vikosi', 'vya', 'jeshi', 'vikisalia', 'kimya', 'kuhusiana', 'na', 'suala', 'hilo', '.', 'Utambulisho', 'rasmi', 'pekee', 'wa', 'Wakenya', 'ambao', 'wameuawa', 'wakiwa', 'kazini', 'ni', 'makaburi', 'ambayo', 'yamezinduliwa', 'na', 'Rais', 'Uhuru', 'Kenyatta', 'wakati', 'wa', 'siku', 'ya', 'kila', 'mwaka', 'ya', 'Majeshi', 'ya', 'Ulinzi', 'ya', 'Kenya', '-', 'utamaduni', 'ulionzishwa', 'baada', 'ya', 'jeshi', 'kwenda', 'Somalia', '.', 'Pia', 'yana', 'majina', 'ya', 'waliouawa', 'wakipigana', 'na', 'al-Shabab', ',', 'hivyo', 'jina', 'la', 'Johnson', 'ole', 'Kiyaipi', 'linatarajiwa', 'kuongezwa', '.', 'Lakini', ',', 'kambi', 'hizi', 'za', 'kijeshi', 'na', 'makaburi', 'ndani', 'yake', 'hayafunguliwi', 'kwa', 'umma', '.']\n",
      "\n",
      " Number of Words:  505\n"
     ]
    }
   ],
   "source": [
    "file=\"march22.txt\"\n",
    "\n",
    "# calling the function and storing the contents in a text variable \n",
    "text = get_document(\"https://www.bbc.com/swahili/habari-60830764\")\n",
    "\n",
    "# calling the store_ document function \n",
    "store_document(doc=text,name=file)\n",
    "\n",
    "#add the words in this file to the total_corpus_words, to keep count of the number of words in the corpus\n",
    "total_corpus_words+=total_words(file)"
   ]
  },
  {
   "cell_type": "code",
   "execution_count": 116,
   "metadata": {},
   "outputs": [
    {
     "data": {
      "text/plain": [
       "105745"
      ]
     },
     "execution_count": 116,
     "metadata": {},
     "output_type": "execute_result"
    }
   ],
   "source": [
    "total_corpus_words"
   ]
  },
  {
   "cell_type": "code",
   "execution_count": 117,
   "metadata": {},
   "outputs": [
    {
     "name": "stdout",
     "output_type": "stream",
     "text": [
      "['Martha', 'Saipan', 'ni', 'mama', 'wa', 'mtoto', 'mmoja', ',', 'yeye', 'ni', 'Mkenya', 'anayeishi', 'na', 'kufanya', 'shughuli', 'zake', 'za', 'kibiashara', 'jijini', 'Nairobi', '.', 'Akiwa', 'na', 'umri', 'wa', 'miaka', '37', 'sasa', 'anazungumzia', 'maisha', 'yake', 'hasa', 'katika', 'ulimwengu', 'wa', 'kimapenzi', 'kama', 'sehemu', 'ya', 'maisha', 'ambayo', 'imempa', 'machozi', 'mengi', 'sana', '.', 'Kisa', 'na', 'maana', 'ni', 'kando', 'na', 'kupitia', 'ndoa', 'iliyojawa', 'na', 'vuta', 'ni', 'kuvute', 'ukweli', 'wa', 'mambo', 'haukosi', 'kumjia', 'kwamba', 'mama', 'yake', 'mzazi', 'na', 'aliyekuwa', 'mumewe', 'wamekuwa', 'na', 'urafiki', 'wa', 'kimapenzi', '.', '``', 'Mimi', 'na', 'aliyekuwa', 'mume', 'wangu', ',', 'tulikuwa', 'hatujafunga', 'ndoa', 'rasmi', 'ila', 'tulianza', 'kuishi', 'pamoja', 'kama', 'wanandoa', ',', 'siku', 'zilivyosonga', 'iliendelea', 'kuwa', 'vigumu', 'kuwa', 'katika', 'ndoa', 'kutokana', 'na', 'ugomvi', 'na', 'kichapo', 'cha', 'kila', 'mara.Niliamua', 'kutoka', 'kwenye', 'ndoa', 'ile', 'ila', 'niligundua', 'kwamba', 'nilikuwa', 'na', 'ujauzito', 'tayari', '``', 'anakumbuka', 'Martha', '.', 'Martha', 'anasema', 'kwamba', 'ndoa', 'yake', 'na', 'mumewe', 'haikuwa', 'ya', 'miaka', 'mingi', 'waliishi', 'pamoja', 'kwa', 'miaka', 'miwili', 'pekee', ',', 'lakini', 'ikawa', 'somo', 'kwake', '.', 'Mwanamke', 'huyu', 'anasema', 'kwamba', 'alichukua', 'uamuzi', 'wa', 'kuanza', 'kuishi', 'na', 'mama', 'yake', 'mzazi', 'kutokana', 'na', 'ujauzito', 'wake', ',', 'baada', 'ya', 'kuacha', 'maisha', 'ya', 'ndoa', '.', 'Chanzo', 'cha', 'picha', ',', 'Martha', 'Soipai', 'Mwaka', 'wa', '2007', 'alipojifungua', 'mtoto', 'aliaga', 'dunia', ',', 'kikawa', 'kipindi', 'chenye', 'uchungu', 'mwingi', 'na', 'sonona', 'kwake', ',', 'yeye', 'aliendelea', 'kuishi', 'na', 'mama', 'yake', 'hadi', 'mwaka', 'wa', '2013', 'alipoamua', 'kwamba', 'aanze', 'maisha', 'yake', 'mapya', ',', 'kwa', 'hiyo', 'alipanga', 'nyumba', 'na', 'pia', 'kutafuta', 'kazi', 'ili', 'kuendelea', 'na', 'maisha', 'yake', '.', 'Ni', 'hadi', 'mwaka', 'wa', '2020', 'anasema', 'kwamba', 'alipokea', 'simu', 'ya', 'dharura', 'kutoka', 'kwa', 'mama', 'yake', 'akimsihi', 'amuokoe', 'kutoka', 'kwa', 'kipigo', 'alichokuwa', 'anakipata', ',', 'alipofuatilia', 'mama', 'alimweleza', 'ni', 'kutoka', 'kwa', 'aliyekuwa', 'mumewe', '.', 'Ilikuwa', 'ni', 'siku', 'ambayo', 'mwanamke', 'huyu', 'anasema', 'hatawahi', 'kuisahau', ',', 'kwani', 'akiwa', 'pale', 'aligundua', 'kwamba', 'uhusiano', 'wa', 'mama', 'na', 'aliyekuwa', 'mume', 'wake', 'ulikuwa', 'umeanza', 'zamani', 'karibu', 'miaka', '15', ',', 'na', 'kulingana', 'na', 'mwanadada', 'huyu', 'hicho', 'ni', 'kipindi', 'walichokuwa', 'wanaishi', 'na', 'aliyekuwa', 'mumewe', '.', 'Ila', 'anahoji', 'ni', 'vipi', 'angemkabili', 'mama', 'yake', 'mzazi', 'na', 'ukweli', 'wote', 'ulikuwa', 'umejitokeza', '?', 'Martha', 'anasema', 'kwamba', 'imekuwa', 'ni', 'safari', 'kuanza', 'maisha', 'ya', 'kukubali', 'kwamba', 'mama', 'mzazi', 'alianza', 'uhusiano', 'na', 'mtu', 'aliyemtambua', 'kama', 'Mume', 'na', 'baba', 'ya', 'mtoto', 'wake', 'japo', 'aliaga', 'dunia', 'akiwa', 'mtoto', 'mchanga', ',', 'aidha', 'anasema', 'kwamba', 'anapokumbuka', 'siku', 'za', 'ndoa', 'yake', 'japo', 'fupi', ',', 'kila', 'mara', 'kulipokuwa', 'na', 'ugomvi', 'kati', 'yake', 'na', 'huyo', 'mume', 'wake', 'mama', 'alikuwa', 'hafiki', 'kusaidia', 'kusuluhisha', 'masaibu', 'yao', '.', '``', 'Kila', 'kitu', 'kilianza', 'kujiweka', 'sehemu', 'yake', ',', 'taswira', 'kamili', 'ya', 'uhusiano', 'wangu', 'na', 'mama', 'wakati', 'wa', 'ndoa', 'yangu', 'ilinijia', ',', 'kwamba', 'mama', 'alikuwa', 'hataki', 'kuhusika', 'na', 'vita', 'wala', 'kesi', 'za', 'dhuluma', 'nilizokuwa', 'nimewasilisha', 'katika', 'kituo', 'cha', 'polisi', 'dhidi', 'ya', 'vichapo', 'vya', 'kila', 'mara', 'kutoka', 'kwa', 'mume', \"huyo'.Anakumbuka\", 'Martha', 'Mwanamke', 'huyu', 'anasema', 'kwamba', 'kutengana', 'na', 'mume', 'wake', 'mwaka', '2006', 'kulisababishwa', 'na', 'mambo', 'tofauti', 'sana', 'na', 'hayakuwa', 'na', 'uhusiano', 'wowote', 'na', 'alichokuja', 'kugundua', 'baadaye', 'kati', 'ya', 'mama', 'yake', 'na', 'mume', 'wake', 'wa', 'zamani', '.', 'Chanzo', 'cha', 'picha', ',', 'Martha', 'Soipai', 'Anasema', 'kwamba', 'hakufikiria', 'mama', 'yake', 'mzazi', 'angemsaliti', ',', 'ila', 'anavyosema', 'ni', 'kuwa', 'wote', 'ni', 'watu', 'wazima', 'ambao', 'wamechagua', 'kuwa', 'wapenzi', 'bila', 'kufikiria', 'gharama', 'ya', 'uhusiano', 'wao', 'kwake', 'kama', 'mtoto', 'wa', 'kipekee', 'wa', 'mama', 'yake', '.', 'Uhusiano', 'wake', 'na', 'mama', 'umekuwa', 'vipi', 'tangu', 'zamani', '?', 'Alipozaliwa', 'Martha', 'Soipan', ',', 'miaka', 'ya', 'themanini', ',', 'alijikuta', 'akiwa', 'chini', 'ya', 'malezi', 'ya', 'mama', 'wakiwa', 'wanaishi', 'na', 'bibi', '.Ila', 'ilibidi', 'mama', 'asafiri', 'nje', 'ya', 'nchi', 'kwa', 'ajili', 'ya', 'ajira', 'katika', 'nchi', 'za', 'mashariki', 'ya', 'Kati', ',', 'huku', 'mwanadada', 'huyu', 'akiachwa', 'chini', 'ya', 'malezi', 'ya', 'dada', 'wa', 'mama', '.', 'Wakati', 'huo', 'alikuwa', 'na', 'miaka', 'miwili', 'na', 'alipotimu', 'miaka', '10', 'mama', 'alirejea', 'na', 'kuchukua', 'hatua', 'ya', 'kumuondoa', 'mikononi', 'mwa', 'dada', 'yake', 'hadi', 'shule', 'ya', 'bweni', '.', 'Ni', 'kipindi', 'kilichokuwa', 'na', 'kiza', 'kikuu', 'kwani', 'mwanadada', 'huyu', 'alikuwa', 'mpweke', 'hasa', 'akiwa', 'shule', 'ya', 'sekondari', '.', 'Chanzo', 'cha', 'picha', ',', 'Martha', 'Soipai', 'Mama', 'alirejea', 'kwa', 'mara', 'ya', 'pili', 'kutoka', 'mashariki', 'ya', 'Kati', 'kulingana', 'na', 'Martha', ',', 'wakati', 'yeye', 'akiwa', 'kama', 'yatima', 'na', 'mara', 'nyingi', 'alijipata', 'akiishi', 'katika', 'makao', 'ya', 'mwalimu', 'mkuu', 'hata', 'baada', 'ya', 'shule', 'kufungwa', 'hasa', 'akiwa', 'sekondari', '.', 'Hayo', 'hayakumkatisha', 'tamaa', 'na', 'ari', 'ya', 'kuwa', 'na', 'maisha', 'mazuri', 'baada', 'ya', 'kukamilisha', 'masomo', 'yake', '.', 'Japo', 'anasema', 'kwamba', 'maisha', 'yao', 'yalikuwa', 'ya', 'kuhangaika', 'na', 'ilibidi', 'mama', 'na', 'mwana', 'wapige', 'moyo', 'konde', 'kutafuta', 'riziki', '.', 'Martha', 'anasema', 'kwamba', 'licha', 'ya', 'matukio', 'ya', 'kwamba', 'mama', 'yake', 'alianza', 'kuwa', 'na', 'mahusiano', 'na', 'mtu', 'aliyekuwa', 'mume', 'wake', ',', 'aliwasamehe', ',', 'ila', 'uhusiano', 'wao', 'na', 'ukaribu', 'wao', 'ulivunjika', 'kabisa', ',', 'na', 'kwa', 'sasa', 'hawana', 'mawasiliano', 'yeyote', '.']\n",
      "\n",
      " Number of Words:  721\n"
     ]
    }
   ],
   "source": [
    "file=\"march23.txt\"\n",
    "\n",
    "# calling the function and storing the contents in a text variable \n",
    "text = get_document(\"https://www.bbc.com/swahili/habari-60833928\")\n",
    "\n",
    "# calling the store_ document function \n",
    "store_document(doc=text,name=file)\n",
    "\n",
    "#add the words in this file to the total_corpus_words, to keep count of the number of words in the corpus\n",
    "total_corpus_words+=total_words(file)"
   ]
  },
  {
   "cell_type": "code",
   "execution_count": 118,
   "metadata": {},
   "outputs": [
    {
     "data": {
      "text/plain": [
       "106466"
      ]
     },
     "execution_count": 118,
     "metadata": {},
     "output_type": "execute_result"
    }
   ],
   "source": [
    "total_corpus_words"
   ]
  },
  {
   "cell_type": "code",
   "execution_count": 119,
   "metadata": {},
   "outputs": [
    {
     "name": "stdout",
     "output_type": "stream",
     "text": [
      "['Uchaguzi', 'Kenya', '2022', ':', 'Je', 'gharama', 'kubwa', 'ya', 'kuendesha', 'uchaguzi', 'Kenya', 'ni', 'ya', 'haki', '?', '.....', 'Joseph', 'Kioko', 'Mchambuzi', 'wa', 'Siasa', '28', 'Machi', '2022', 'Chanzo', 'cha', 'picha', ',', 'Reuters', 'Maelezo', 'ya', 'picha', ',', 'Mwenyekiti', 'wa', 'tume', 'ya', 'uchaguzi', 'Kenya', 'Wafula', 'Chebukati', 'Mazingira', 'ya', 'uchaguzi', 'nchini', 'Kenya', 'yamebadilika', 'sana', 'kutoka', 'kwa', 'njia', 'ya', 'upigaji', 'kura', 'ya', 'foleni', 'ambayo', 'ilipitishwa', 'katika', 'uchaguzi', 'mkuu', 'wa', '1988', 'hadi', 'hali', 'ya', 'sasa', 'ambapo', 'kituo', 'cha', 'kupigia', 'kura', 'ndicho', 'kitovu', 'cha', 'uchaguzi', '.', 'Katika', 'chaguzi', 'zilizopita', '(', '1992/1997/2002/2007', ')', 'kituo', 'kikuu', 'cha', 'kupigia', 'ndicho', 'ambacho', 'masanduku', 'yote', 'ya', 'majimbo', 'yangesafirishwa', ',', 'kuhesabiwa', 'na', 'kutangazwa', 'kwa', 'matokeo', '.', 'Mchakato', 'huu', 'ulikumbwa', 'na', 'matukio', 'mengi', 'ya', 'udanganyifu', ',', 'kwa', 'mfano', 'kujazwa', 'kwa', 'masanduku', 'ya', 'kupigia', 'kura', ',', 'kutoweka', 'kwa', 'kura', 'hali', 'imayofanya', 'matokeo', 'ya', 'uchaguzi', 'kukosa', 'uaminifu', '.', 'Kwa', 'upande', 'wa', 'urais', ',', 'baada', 'ya', 'kura', 'kuhesabiwa', 'katika', 'kituo', 'kikuu', 'cha', 'kijimbo', ',', 'matokeo', 'yangesafirishwa', 'hadi', 'kwenye', 'kituo', 'cha', 'kitaifa', 'cha', 'kuhesabia', 'kura', ',', 'ambapo', 'Mwenyekiti', 'wa', 'tume', 'ya', 'uchaguzi', 'ingetangaza', 'matokeo', '.', 'Utaratibu', 'huu', 'ulikuwa', 'mrefu', 'na', 'usio', 'wazi', 'na', 'kukabiliwa', 'na', 'udanganyifu', '.', '1.Je', 'Katiba', 'ya', 'kenya', 'inasemaje', 'kuhusu', 'uchaguzi', '?', 'Kupatikana', 'kwa', 'Katiba', 'Mpya', ',', 'kulifungua', 'njia', 'ya', 'kupitishwa', 'kwa', 'mageuzi', 'ya', 'kimaendeleo', 'ya', 'uchaguzi', ',', 'ambayo', 'yalihusu', 'uhuru', 'wa', 'raia', 'kutumia', 'haki', 'zao', 'za', 'kisiasa', 'bila', 'woga', 'wala', 'vitisho', ',', 'usawa', 'wa', 'kura', ',', 'uchaguzi', 'huru', 'na', 'wa', 'haki', ',', 'ambao', 'unafanywa', 'kwa', 'kura', 'ya', 'siri', 'katika', 'njia', 'ya', 'uwazi', ',', 'isiyopendelea', 'upande', 'wowote', ',', 'yenye', 'ufanisi', ',', 'sahihi', 'na', 'ya', 'uwajibikaji', '.', 'Katiba', 'inasema', 'kwamba', 'uchaguzi', 'mkuu', 'wa', 'Rais', ',', 'Wabunge', 'wa', 'Bunge', 'la', 'Kitaifa', 'na', 'lile', 'la', 'Seneti', ',', 'Mwanachama', 'wa', 'Bunge', 'la', 'Kaunti', ',', 'Gavana', 'na', 'mwakilishi', 'wa', 'wanawake', 'wa', 'Kaunti', 'utafanywa', 'siku', 'moja', 'ambayo', 'ni', 'Jumanne', 'ya', 'pili', 'ya', 'mwezi', 'Agosti', 'katika', 'kila', 'mwaka', 'wa', 'tano', '.', 'Ingawa', 'rais', 'anachaguliwa', 'moja', 'kwa', 'moja', 'na', 'wapiga', 'kura', 'wote', 'waliosajiliwa', 'nchini', ',', 'gavana', 'wa', 'kaunti', ',', 'Seneta', 'na', 'mwakilishi', 'wa', 'wanawake', 'wa', 'Kaunti', 'watachaguliwa', 'na', 'wapiga', 'kura', 'waliosajiliwa', 'katika', 'kaunti', 'mahususi', '.', 'Chanzo', 'cha', 'picha', ',', 'AFP', 'Kwa', 'hivyo', 'nafasi', 'sita', 'zinazogombaniwa', 'wakati', 'wa', 'Uchaguzi', 'Mkuu', 'ni', 'ile', 'ya', 'Urais', '(', '1', ')', ',', 'Gavana', '(', '47', ')', ',', 'Seneta', '(', '47', ')', ',', 'Mjumbe', 'wa', 'Bunge', 'la', 'Kitaifa', '(', '290', ')', ',', 'mwakilishi', 'wa', 'Wanawake', 'wa', 'Kaunti', '(', '47', ')', ',', 'na', 'Mjumbe', 'wa', 'Bunge', 'la', 'kaunti', '(', '1450', ')', '.', 'Kwa', 'hivyo', 'katika', 'kila', 'uchaguzi', ',', 'Tume', 'Huru', 'ya', 'Uchaguzi', 'na', 'Mipaka', '(', 'IEBC', ')', 'ina', 'jukumu', 'la', 'kuhakikisha', 'kuwa', 'njia', 'yoyote', 'ya', 'upigaji', 'kura', 'inayotumiwa', ',', 'ni', 'rahisi', ',', 'sahihi', ',', 'inayoweza', 'kuthibitishwa', ',', 'salama', ',', 'ilio', 'na', 'uwajibikaji', 'na', 'wazi', '.', 'Kura', 'zilizopigwa', 'uhesabiwa', ',', 'kuorodheshwa', 'na', 'matokeo', 'kutangazwa', 'mara', 'moja', 'na', 'msimamizi', 'katika', 'kila', 'kituo', 'cha', 'kupigia', 'kura', ';', 'matokeo', 'kutoka', 'kwa', 'vituo', 'vya', 'kupigia', 'kura', 'yanakusanywa', 'kwa', 'uwazi', 'na', 'kwa', 'usahihi', 'na', 'kutangazwa', 'mara', 'moja', 'na', 'msimamizi', 'wa', 'uchaguzi', ';', 'na', 'miundo', 'na', 'mifumo', 'ifaayo', 'ya', 'kuondoa', 'dosari', 'katika', 'uchaguzi', 'imewekwa', ',', 'ikijumuisha', 'uhifadhi', 'salama', 'wa', 'nyenzo', 'za', 'uchaguzi', '.', '2.Gharama', 'ya', 'uchaguzi', 'Kenya', 'Katika', 'maandalizi', 'ya', 'Uchaguzi', 'Mkuu', 'wa', '2022', ',', 'Mwenyekiti', 'wa', 'Tume', 'Huru', 'ya', 'Uchaguzi', 'na', 'Mipaka', '(', 'IEBC', ')', 'Wafula', 'Chebukati', 'alisema', 'kwamba', 'watahitaji', 'Sh40.329', 'bilioni', 'ili', 'kuendesha', 'Uchaguzi', 'Mkuu', 'wa', '2022', 'ipasavyo', 'pamoja', 'na', 'Sh588', 'milioni', 'za', 'ziada', 'ili', 'kupata', 'vifaa', 'muhimu', 'za', 'kukabiliana', 'na', 'maradhi', 'ya', 'Covid-19', '.', 'Vifaa', 'hivi', 'ni', 'pamoja', 'na', 'bunduki', 'za', 'kupima', 'joto', ',', 'sanitizer', ',', 'sabuni', 'na', 'sehemu', 'za', 'kunawia', '.', 'Chanzo', 'cha', 'picha', ',', 'AFP', 'Hii', 'inafanya', 'jumla', 'ya', 'mahitaji', 'ya', 'Uchaguzi', 'Mkuu', 'kufikia', 'bilioni', '40.917', '.', 'Gharama', 'kwa', 'kila', 'mpiga', 'kura', 'katika', 'uchaguzi', 'ujao', 'kutokana', 'na', 'bajeti', 'iliyopendekezwa', 'na', 'wapiga', 'kura', 'waliojiandikisha', 'inafikia', 'dola', '17', 'za', 'Marekani', ',', 'ikiwa', 'ni', 'gharama', 'kubwa', 'sana', '.', 'Kazi', 'muhimu', 'ya', 'IEBC', 'ni', 'pamoja', 'na', 'kuajiri', 'wafanyikazi', ',', 'kununua', 'vifaa', 'vya', 'uchaguzi', ',', 'kuendesha', 'elimu', 'ya', 'wapigakura', 'na', 'mazoezi', 'ya', 'usajili', ',', 'kando', 'na', 'kukusanya', 'na', 'kuwasilisha', 'matokeo', '.', 'Ili', 'uchaguzi', 'uwe', 'huru', ',', 'wa', 'haki', ',', 'uliothibitishwa', 'na', 'wa', 'uwazi', 'inavyotakiwa', 'kisheria', ',', 'IEBC', 'inabidi', 'iwe', 'na', 'wafanyikazi', 'waliofunzwa', 'vilivyo', 'kutoka', 'kaunti', '47', 'na', 'maeneo', 'bunge', '290', 'ambao', 'watakuwa', 'waratibu', 'wa', 'uchaguzi', 'na', 'hatimaye', 'maafisa', 'wasimamizi', 'wakati', 'wa', 'uchaguzi', '.', 'Mchakato', 'na', 'gharama', 'ya', 'kuajiri', ',', 'mafunzo', 'na', 'kujenga', 'uwezo', 'wa', 'maafisa', 'hawa', 'ni', 'kitu', 'muhimu', 'lakini', 'chenye', 'gharama', 'kubwa', '.', 'Hii', 'ni', 'mojawapo', 'ya', 'sababu', 'nyingi', 'zinazoweza', 'kuelezea', 'gharama', 'ya', 'juu', 'ya', 'kuendesha', 'uchaguzi', 'nchini', 'Kenya', '.', 'Matumizi', 'ya', 'teknolojia', 'katika', 'mchakato', 'mzima', 'wa', 'uchaguzi', 'kutoka', 'usajili', 'wa', 'wapigakura', ',', 'upigaji', 'kura', 'kwa', 'kutumia', 'bayometriki', ',', 'utumiaji', 'wa', 'kielektroniki', 'wa', 'kujumlisha', 'matokeo', 'ni', 'kipengele', 'kingine', 'kikuu', 'cha', 'matumizi', 'ya', 'juu', '.', '3', '.', 'Gharama', 'ya', 'uchaguzi', 'wa', 'Kenya', 'ikilinganishwa', 'na', 'mataifa', 'mengine', 'ya', 'Afrika', 'Kihistoria', ',', 'chaguzi', 'za', 'Kenya', 'mara', 'zote', 'zimekuwa', 'zikigharimu', 'walipa', 'kodi', 'pesa', 'nyingi', 'ikilinganishwa', 'na', 'nchi', 'zingine', 'za', 'Kiafrika', '.', 'Wakati', 'wa', 'uchaguzi', 'mkuu', 'wa', 'Kenya', 'wa', '2017', 'ambapo', 'kulikuwa', 'na', 'wapiga', 'kura', 'milioni', '19.6', 'waliojiandikisha', 'kuliigharimu', 'serikali', '$', '25.40', 'kwa', 'kila', 'mpiga', 'kura', ',', 'huku', ',', 'Rwanda', 'yenye', 'wapiga', 'kura', 'milioni', '6.8', 'waliojiandikisha', 'ikitumia', 'dola', 'milioni', '6.5', '(', 'chini', 'ya', 'dola', 'moja', 'kwa', 'kila', 'mpiga', 'kura', ')', 'kufanya', 'uchaguzi', 'wake', 'wa', 'tatu', 'wa', 'vyama', 'vingi', '.', 'Uchaguzi', 'wa', '2016', 'nchini', 'Ghana', ',', 'ambapo', 'watu', 'milioni', '15.7', 'walisajiliwa', ',', 'uligharimu', 'serikali', 'dola', '12', 'kwa', 'kila', 'mpiga', 'kura', ',', 'huku', 'Tanzania', ',', 'nchi', 'yenye', 'watu', 'wengi', 'na', 'wapiga', 'kura', 'wengi', 'kuliko', 'Kenya', ',', 'ilitumia', 'dola', 'milioni', '300', 'chini', 'ya', 'Kenya', 'katika', 'uchaguzi', 'wake', 'wa', '2015', '.', 'Kama', 'eneo', 'lenye', 'nguvu', 'kubwa', 'ya', 'kiuchumi', 'na', 'demokrasia', 'iliyo', 'wazi', 'kiasi', ',', 'uchaguzi', 'wa', 'Kenya', 'unavutia', 'umakini', 'nje', 'ya', 'mipaka', 'yake', '.', 'Mwaka', 'huu', 'uchaguzi', 'wa', 'urais', 'unaonekana', 'kuwa', 'mchuano', 'wa', 'Muungano', 'wa', 'farasi', 'wawili', 'kati', 'ya', 'Kenya', 'Kwanza', 'wa', 'Naibu', 'Rais', 'William', 'Ruto', 'na', 'Muungano', 'wa', 'Azimio', 'wa', 'Waziri', 'Mkuu', 'wa', 'zamani', 'Raila', 'Odinga', '.', 'Hata', 'hivyo', 'licha', 'ya', 'kupitishwa', 'katiba', 'endelevu', 'na', 'kupiga', 'hatua', 'katika', 'demokrasia', ',', 'gharama', 'ya', 'kuendesha', 'uchaguzi', 'mkuu', 'imesalia', 'juu', 'sana', 'nchini', 'Kenya', 'ikilinganishwa', 'na', 'mataifa', 'mengine', 'ndani', 'ya', 'eneo', 'hilo', '.']\n",
      "\n",
      " Number of Words:  983\n"
     ]
    }
   ],
   "source": [
    "file=\"march28_1.txt\"\n",
    "\n",
    "# calling the function and storing the contents in a text variable \n",
    "text = get_document(\"https://www.bbc.com/swahili/habari-60897034\")\n",
    "\n",
    "# calling the store_ document function \n",
    "store_document(doc=text,name=file)\n",
    "\n",
    "#add the words in this file to the total_corpus_words, to keep count of the number of words in the corpus\n",
    "total_corpus_words+=total_words(file)"
   ]
  },
  {
   "cell_type": "code",
   "execution_count": 120,
   "metadata": {},
   "outputs": [
    {
     "data": {
      "text/plain": [
       "107449"
      ]
     },
     "execution_count": 120,
     "metadata": {},
     "output_type": "execute_result"
    }
   ],
   "source": [
    "total_corpus_words"
   ]
  },
  {
   "cell_type": "code",
   "execution_count": 121,
   "metadata": {},
   "outputs": [
    {
     "name": "stdout",
     "output_type": "stream",
     "text": [
      "['Alidai', 'baadhi', 'ya', 'mali', 'za', 'mumewe', 'zilikuwa', 'zimefichwa', 'ili', 'zisisikilizwe', 'na', ',', 'kortini', ',', 'aliorodhesha', 'maelezo', 'ya', 'akaunti', 'alizodai', 'kuwa', 'ni', 'za', 'Bw', 'Gichuru', 'huko', 'Jersey', ',', 'ambayo', 'mara', 'nyingi', 'huhusishwa', 'na', 'akaunti', 'za', 'siri', 'za', 'nje', 'ya', 'nchi', 'na', 'mazingira', 'ya', 'ushuru', 'mdogo', '.', 'Hilo', 'lilizua', 'uchunguzi', 'wa', 'miaka', 'tisa', 'na', 'mamlaka', 'ya', 'Jersey', 'katika', 'maeneo', '12', 'ya', 'mamlaka', '.', 'Kama', 'sehemu', 'ya', 'uchunguzi', 'huo', ',', 'mwaka', 'wa', '2011', ',', 'walimshutumu', 'Bw', 'Gichuru', 'na', 'aliyekuwa', 'Waziri', 'wa', 'Fedha', 'Chris', 'Okemo', 'kwa', 'kuchukua', 'pesa', 'kutoka', 'kwa', 'mashirika', 'ya', 'kimataifa', 'ambayo', 'yalitumwa', 'kwa', 'kampuni', 'iliyosajiliwa', 'Jersey', '.', 'Mamlaka', 'ya', 'Jersey', 'ilitoa', 'vibali', 'vya', 'kukamatwa', 'kwa', 'wanaume', 'wote', 'wawili', 'na', 'wamekuwa', 'wakisubiri', 'kurejeshwa', 'Kenya', 'tangu', 'wakati', 'huo', '.', 'Uhalifu', 'wa', 'kiuchumi', 'waliotuhumiwa', 'nao', 'ni', 'pamoja', 'na', 'makubaliano', 'na', 'kampuni', 'ya', 'Kifini', 'ya', 'kujenga', 'kituo', 'cha', 'umeme', 'karibu', 'na', 'Mombasa', ',', 'jiji', 'la', 'pili', 'kwa', 'ukubwa', 'nchini', 'Kenya', ',', 'na', 'kuchukua', 'mamilioni', 'ya', 'pauni', 'kama', 'rushwa', 'kutoka', 'kwa', 'makampuni', 'ya', 'uhandisi', 'ya', 'Uingereza', ',', 'Norway', 'na', 'Ujerumani', ',', 'pamoja', 'na', 'kampuni', 'kubwa', 'ya', 'mawasiliano', 'ya', 'Marekani', '.', '.', 'Licha', 'ya', 'BBC', 'kujaribu', 'mara', 'kwa', 'marakuwasiliana', 'nao', ',', 'matajiri', 'hao', 'na', 'mawakili', 'wao', 'hawakutoa', 'maoni', 'yoyote', 'kuhusu', 'tuhuma', 'zinazotolewa', 'dhidi', 'yao', '.', 'Hata', 'hivyo', 'mwaka', '2016', ',', 'kampuni', 'iliyosajiliwa', 'huko', 'Jersey', 'ya', 'Windward', 'Trading', 'Limited', 'ilikubali', 'mashtaka', 'manne', 'ya', 'utakatishaji', 'fedha', 'haramu', 'katika', 'mahakama', 'ya', 'Jersey', '.', 'Mahakama', 'iliamua', 'kwamba', 'kampuni', 'hiyo', ',', 'ambayo', 'mmiliki', 'wake', 'mkuu', 'alikuwa', 'Bw', 'Gichuru', ',', 'inapaswa', \"kunyang'anywa\", 'zaidi', 'ya', 'dola', 'milioni', '4.9m', '(', '£3.6m', ')', 'za', 'mali', 'kwa', 'utakatishaji', 'wa', 'pesa', '.', 'Pesa', 'hizo', 'nyingi', 'ndizo', 'zinazodaiwa', 'kutokana', 'na', 'ufisadi', 'nchini', 'Kenya', 'kati', 'ya', 'mwaka', '1999', 'na', '2002', 'ambazo', 'sasa', 'zinarejeshwa', 'nchini', '.', 'Chanzo', 'cha', 'picha', ',', 'AFP', 'Maelezo', 'ya', 'picha', ',', 'Kama', 'sehemu', 'ya', 'ziara', 'yake', 'ya', '2018', 'nchini', 'Kenya', ',', 'Waziri', 'Mkuu', 'wa', 'Uingereza', 'wa', 'wakati', 'huo', 'Theresa', 'May', 'alitia', 'saini', 'mkataba', 'na', 'Rais', 'Uhuru', 'Kenyatta', 'ambao', 'ulipelekea', 'kurejeshwa', 'kwa', 'fedha', 'hizo', '.', 'Hilo', 'liliwezeshwa', 'katika', 'makubaliano', 'ya', '2018', 'yaliyotiwa', 'saini', 'nchini', 'Kenya', 'na', 'Waziri', 'Mkuu', 'wa', 'Uingereza', 'wakati', 'huo', 'Theresa', 'May', ',', 'Rais', 'wa', 'Kenya', 'Uhuru', 'Kenyatta', 'na', 'serikali', 'za', 'Uswizi', 'na', 'Jersey', '.', 'Katika', 'mpango', 'huo', ',', 'ilibainika', 'kuwa', 'mali', 'zinazodaiwa', 'kuibiwa', 'zinaweza', 'kurejeshwa', 'nchini', 'Kenya', ',', 'mradi', 'tu', 'zitumike', 'kwa', 'miradi', 'ya', 'maendeleo', 'pekee', '.', 'Mpango', 'huu', ',', 'unaojulikana', 'kama', 'Mfumo', 'wa', 'Kurudisha', 'Mali', 'zilizotokana', 'na', 'Ufisadi', 'na', 'Uhalifu', 'hadi', 'Kenya', '(', 'Fracck', ')', ',', 'ulisifiwa', 'na', 'Umoja', 'wa', 'Mataifa', 'kwa', \"''\", 'ubunifu', \"''\", 'Inaipa', 'Jersey', 'mamlaka', 'ya', 'kutoa', 'leseni', 'ya', 'kufungia', 'pesa', 'ambazo', 'wanaamini', 'ziliibwa', 'na', 'kuzirudisha', 'kabla', 'ya', 'wale', 'wanaoshutumiwa', 'kuziiba', 'kusomewa', 'mashtaka', '.', '``', 'Swali', 'kwetu', '[', 'kwaJersey', ']', 'lilikuwa', ':', 'je', ',', 'tungojee', 'mchakato', 'wa', 'kimahakama', 'uliovurugika', 'kulingana', 'na', 'vitendo', 'vya', 'watu', 'wawili', ',', 'ambao', '...', 'wameonekana', 'kuwa', 'kinyume', 'cha', 'sheria', 'katika', 'mahakama', 'ya', 'Jersey', '?', 'Au', 'turuhusu', 'pesa', 'zirudishwe', 'kwa', 'ajili', 'ya', 'manufaa', 'ya', 'raia', 'wa', 'Kenya', '?', \"''\", 'Seneta', 'Ian', 'Gorst', ',', 'Waziri', 'wa', 'Mambo', 'ya', 'Nje', 'wa', 'Jersey', ',', 'alieleza', '.', 'Kukabidhiwa', 'kwa', 'mamilioni', 'ya', 'pesa', 'za', 'Bw', 'Gichuru', 'zinazodaiwa', 'kuibwa', 'na', 'kuwarudishia', 'Wakenya', 'wa', 'kawaida', 'ni', 'mtihani', 'wa', 'kwanza', 'wa', 'Fracck', '.', 'Kuitumia', 'kwa', 'uwazi', 'na', 'uwajibikaji', 'ni', 'kazi', 'kampuni', 'ya', 'Crown', 'Agents', ',', 'Kampuni', 'ya', 'isiyo', 'ya', 'kibiashara', 'ya', 'maendeleo', 'ya', 'kimataifa', 'Bosi', 'wake', 'Fergus', 'Drake', 'aliambia', 'BBC', 'kwamba', 'alikuwa', 'akiwasiliana', 'na', 'wizara', 'ya', 'afya', 'ya', 'Kenya', 'ili', 'kutathmini', 'kile', 'kinachohitajika', 'katika', 'vita', 'dhidi', 'ya', 'Covid-19', '.', 'Baadhi', 'ya', 'fedha', 'hizo', 'zitatumiwa', 'kwa', 'umnunuzi', 'wa', 'vifaa', 'vya', 'kupima', 'corona', 'Bw', 'Drake', 'alikiri', 'kwamba', 'jumla', 'ya', 'pesa', 'anazotoa', '-', '$', '3.5m', '-', 'hazitafika', 'mbali', 'katika', 'suala', 'la', 'mwitikio', 'wa', 'nchi', 'kupambana', 'na', 'Covid-19', ',', 'lakini', 'anatumai', 'aina', 'hii', 'ya', 'msaada', 'uliolengwa', 'utakuwa', 'na', '``', 'athari', 'kubwa', '.', \"''\", 'dhidi', 'ya', 'virusi', '.', 'Wanaharakati', 'wanaamini', 'kuwa', 'Fracck', 'ni', 'kielelezo', 'cha', 'njia', 'mpya', 'ambayo', 'faida', 'zilizopatikana', 'kwa', 'njia', 'isiyohalali', 'zinaweza', 'kurejeshwa', '.', 'Uingereza', 'pia', 'imetia', 'saini', 'makubaliano', 'mengine', '-', 'Mkataba', 'wa', 'Umoja', 'wa', 'Mataifa', 'dhidi', 'ya', 'Ufisadi', '-', 'hivyo', 'inalazimika', 'kurejesha', 'fedha', 'za', 'uhalifu', 'pale', 'ambapo', 'masharti', 'ya', 'kufanya', 'hivyo', 'yanatimizwa', '.', 'Lakini', 'kulingana', 'na', 'mkuu', 'wa', 'utafiti', 'na', 'uchunguzi', 'wa', 'Transparency', 'International', '(', 'TI', ')', 'Uingereza', ',', 'Steve', 'Goodrich', ',', 'mapato', 'kutoka', 'Uingereza', 'mara', 'nyingi', 'hayaendi', 'moja', 'kwa', 'moja', 'kwenye', 'miradi', 'ya', 'maendeleo', '.', 'Alitaja', 'kurejeshwa', 'kwa', 'pesa', 'zilizoibiwa', 'na', 'Gavana', 'wa', 'zamani', 'wa', 'jimbo', 'la', 'Delta', 'la', 'Nigeria', 'James', 'Ibori', 'mwaka', 'wa', '2012', 'ambazo', 'zilitolewa', 'kwa', 'serikali', 'ya', 'shirikisho', 'wa', 'nchi', 'hiyo', 'ambapo', 'kulikuwa', 'na', 'wasiwasi', 'kwamba', 'fedha', 'zilizorudishwa', 'zinaweza', 'kupotea', 'kwa', 'rushwa', '.', 'Kwa', 'hivyo', 'Bw', 'Goodrich', 'alisema', 'kesi', 'hii', 'ilikuwa', '``', 'ilikuwa', 'katika', 'mwelekeo', 'sahihi', \"''\", '.', 'Lakini', ',', 'aliongeza', ',', 'kuwa', 'na', '``', 'kizuizi', 'cha', 'kuaminika', \"''\", 'dhidi', 'ya', 'wale', 'wanaotaka', 'kuficha', 'pesa', 'zao', 'zilizoibiwa', 'nchini', 'Uingereza', ',', 'alisema', 'serikali', '``', 'inahitaji', 'sana', 'kuongeza', 'nguvu', \"''\", 'juu', 'ya', 'kurejesha', 'mali', '.', 'Kwa', 'mfano', ',', 'alisema', 'Uingereza', 'inapaswa', 'kuanza', 'kwa', 'kuangalia', 'kile', 'alichoamini', 'ni', '``', 'zaidi', 'ya', 'Pauni', 'Bilioni', '5-thamani', 'ya', 'mali', 'ya', 'Uingereza', 'iliyonunuliwa', 'kwa', 'fedha', 'zinazoshukiwa', \"''\", '.', 'Kipindi', 'hiki', 'pia', 'kinaangazia', 'vita', 'vya', 'Kenya', 'dhidi', 'ya', 'ufisadi', 'nyumbani', '.', 'Nchi', 'hiyo', 'imeorodheshwa', 'ya', '128', 'duniani', 'katika', 'mitazamo', 'ya', 'TI', 'ya', 'ripoti', 'ya', 'ufisadi', ',', 'huku', 'maafisa', 'wa', 'umma', 'na', 'wafanyabiashara', 'wakidawa', 'kuwa', 'tayari', 'kwa', 'kupokea', 'hongo', '.', 'Imesalia', 'miezi', 'michache', 'kabla', 'ya', 'Rais', 'Kenyatta', 'kumaliza', 'muda', 'wake', 'madarakani', ',', 'baada', 'ya', 'kuahidi', 'vita', 'dhidi', 'ya', 'ufisadi', 'kuwa', 'sehemu', 'ya', 'urithi', 'wake', 'atakaoacha', '.', 'Kama', 'sehemu', 'ya', 'hayo', ',', 'wanasiasa', 'na', 'viongozi', 'wa', 'umma', 'kwa', 'sasa', 'wanaombwa', 'kutangaza', 'utajiri', 'wao', ',', 'huku', 'kukiwa', 'na', 'ukaguzi', 'wa', 'kupambana', 'na', 'ufisadi', '.', 'Balozi', 'wa', 'Kenya', 'Kenya', 'nchini', 'Uingereza', ',', 'Bw', 'Esipisu', ',', 'ambaye', 'wakati', 'mmoja', 'alikuwa', 'msemaji', 'wa', 'rais', ',', 'aliambia', 'BBC', 'kwamba', 'makubaliano', 'ya', 'Fracck', 'yalikuwa', 'na', '``', 'mchango', 'mkubwa', \"''\", 'katika', 'ajenda', 'ya', 'rais', 'kwani', 'yalitoa', 'ishara', 'kwamba', '``', 'wanaofamya', 'Ufisadi', 'hawatakuwa', 'salama', 'kisa', 'wanaficha', 'pesa', 'zao', 'nje', 'ya', 'nchi', '.', '``', '.', 'Aliongeza', 'kwa', 'kwamba', '``', 'hizi', 'ni', 'fedha', 'zilizoibiwa', 'kutoka', 'kwa', 'Wakenya', ',', 'zilizoporwa', 'kutoka', 'kwa', 'Wakenya', ',', 'na', 'kwa', 'makubaliano', 'haya', ',', 'fedha', 'hizi', 'zinarudishwa', 'kusaidia', 'watu', 'wa', 'Kenya', 'ambao', 'walikusudiwa', 'mara', 'ya', 'kwanza', '.', 'Kwa', 'hiyo', 'huu', 'ni', 'ushindi', 'kwa', 'watu', 'wa', 'Kenya', '.', \"''\", 'Huku', 'fedha', 'hizo', 'zikiwa', 'njiani', 'kutoka', 'Jersey', 'hadi', 'Kenya', ',', 'mtazamo', 'pia', 'unageukia', 'kama', 'kuna', 'uwezekano', 'wa', 'kuwarejesha', 'kutoka', 'Kenya', 'hadi', 'Jersey', 'washukiwa', 'hao', 'wawili', '.', 'Mwanzoni', 'mwa', 'Februari', ',', 'kesi', 'ya', 'kuwarejesha', 'nyumbani', 'hatimaye', 'ilianza', 'katika', 'Mahakama', 'ya', 'Jiji', 'la', 'Nairobi', ',', 'baada', 'ya', 'mzozo', 'wa', 'miaka', '10', 'kuhusu', 'iwapo', 'afisa', 'mkuu', 'wa', 'sheria', 'wa', 'serikali', 'au', 'mwendesha', 'mashtaka', 'wa', 'umma', 'anafaa', 'kuongoza', 'kesi', 'hiyo', '.', 'Idara', 'ya', 'mashtaka', 'ya', 'umma', 'nchini', 'Kenya', 'sasa', 'ndiyo', 'inasimamia', 'mchakato', 'huo', 'na', 'Naibu', 'Mkurugenzi', 'wake', 'Victor', 'Mule', 'alisema', 'kusikilizwa', 'tena', 'kunatarajiwa', 'kufanyika', 'mwezi', 'Mei', '.']\n",
      "\n",
      " Number of Words:  1091\n"
     ]
    }
   ],
   "source": [
    "file=\"march28_2.txt\"\n",
    "\n",
    "# calling the function and storing the contents in a text variable \n",
    "text = get_document(\"https://www.bbc.com/swahili/habari-60898072\")\n",
    "\n",
    "# calling the store_ document function \n",
    "store_document(doc=text,name=file)\n",
    "\n",
    "#add the words in this file to the total_corpus_words, to keep count of the number of words in the corpus\n",
    "total_corpus_words+=total_words(file)"
   ]
  },
  {
   "cell_type": "code",
   "execution_count": null,
   "metadata": {},
   "outputs": [],
   "source": [
    "total_corpus_words"
   ]
  },
  {
   "cell_type": "code",
   "execution_count": 122,
   "metadata": {},
   "outputs": [
    {
     "name": "stdout",
     "output_type": "stream",
     "text": [
      "['BBI', ':', 'Mahakama', 'ya', 'Juu', 'zaidi', 'nchini', 'Kenya', 'yakataa', 'rufaa', 'ya', 'Rais', 'Kenyatta', 'ya', 'kubadilisha', 'katiba', '31', 'Machi', '2022', 'Chanzo', 'cha', 'picha', ',', 'AFP', 'Mahakama', 'ya', 'Juu', 'zaidi', 'nchini', 'Kenya', 'imeamua', 'kuwa', 'Rais', 'Uhuru', 'Kenyatta', 'alitenda', 'kinyume', 'cha', 'sheria', 'alipoanzisha', 'mchakato', 'wa', 'kufanya', 'mabadiliko', 'mapana', 'ya', 'katiba', '.', 'Majaji', 'wa', 'mahakama', 'hiyo', 'ya', 'upeo', 'walikataa', 'rufaa', 'ya', 'serikali', 'iliyotaka', 'kubatilisha', 'maamuzi', 'ya', 'Mahakama', 'Kuu', 'na', 'Mahakama', 'ya', 'Rufaa', 'ambazo', 'zilisema', 'marekebisho', 'ya', 'sheria', 'yalipaswa', 'kuongozwa', 'na', 'raia', 'badala', 'ya', 'kufadhiliwa', 'na', 'mkuu', 'wa', 'nchi', 'aliye', 'madarakani', '.', 'Majaji', 'hao', 'pia', 'walisema', 'mapendekezo', 'hayo', 'yamevunja', 'katiba', 'kwa', 'kuunda', 'maeneo', 'bunge', 'mapya', 'bila', 'ushirikishwaji', 'wa', 'wananchi', 'Serikali', 'hata', 'hivyo', 'iliruhusiwa', 'kukata', 'rufaa', 'kwa', 'masuala', 'mengine', 'matano', 'ambayo', 'yalikuwa', 'yakizingatiwa', 'na', 'mahakama', '.', 'Hukumu', 'ya', 'mwisho', 'itasomwa', 'Jumanne', 'wiki', 'ijayo', '.', 'Rais', 'Kenyatta', 'pia', 'alipata', 'ahueni', 'huku', 'Mahakama', 'ya', 'Juu', 'ikitupilia', 'mbali', 'uamuzi', 'wa', 'mahakama', 'za', 'chini', 'ambao', 'ulikuwa', 'umeamua', 'kwamba', 'anaweza', 'kushtakiwa', 'kama', 'mtu', 'binafsi', '.', 'Chanzo', 'cha', 'picha', ',', 'AFP', 'Sheria', 'iliyopendekezwa', 'ambayo', 'inajulikana', 'kama', 'Building', 'Bridges', 'Initiative', 'ililenga', 'kupanua', 'serikali', 'kwa', 'kuleta', 'nafasi', 'za', 'Waziri', 'Mkuu', 'na', 'manaibu', 'wake', 'wawili', '.', 'Bunge', 'pia', 'lingepata', 'zaidi', 'ya', 'wabunge', 'wengine', '70', 'hatua', 'ambayo', 'mahakama', 'ilisema', 'ni', 'kinyume', 'cha', 'katiba', '.', 'Mjadala', 'kuhusu', 'mpango', 'huo', 'unahusishwa', 'kwa', 'karibu', 'na', 'vita', 'vya', 'kumrithi', 'Rais', 'Uhuru', 'Kenyatta', ',', 'ambaye', 'anatazamiwa', 'kuachia', 'ngazi', 'Agosti', 'baada', 'ya', 'kuhudumu', 'kwa', 'mihula', 'miwili', '.', 'Wakosoaji', 'wanaona', 'pendekezo', 'la', 'kupanua', 'wigo', 'wa', 'serikali', 'kuu', 'kama', 'njia', 'ya', 'kuwazawadia', 'wanasiasa.Uamuzi', 'huo', 'sasa', 'utapokelewa', 'kama', 'ushindi', 'na', 'mrengo', 'wa', 'Kenya', 'Kwanza', 'unaoongoza', 'na', 'naibu', 'wa', 'rais', 'William', 'Ruto', 'ambaye', 'amepinga', 'mchakato', 'mzima', 'wa', 'BBI', 'tangia', 'mwanzo', 'ilhali', 'aliyekuwa', 'waziri', 'Mkuu', 'Raila', 'Odinga', 'na', 'rais', 'Kenyattawamekuwa', 'wakiunga', 'mkono', 'mchakato', 'mzima', '.', 'Uamuzi', 'wa', 'leo', 'wa', 'mahakama', 'hiyo', 'huenda', 'utakuwa', 'pia', 'na', 'athari', 'kwa', 'kampeni', 'zinazoendelea', 'za', 'uchaguzi', 'wa', 'mwezi', 'Agosti', 'kwani', 'upande', 'mmoja', 'utaonekana', 'kupata', 'ahueni', 'ilhali', 'upande', 'uliokuwa', 'ukiunga', 'mkono', 'utaonekana', 'kushindwa', 'katika', 'jitihada', 'za', 'kurekebisha', 'katia', 'ya', 'nchi', 'hiyo']\n",
      "\n",
      " Number of Words:  318\n"
     ]
    }
   ],
   "source": [
    "file=\"march31.txt\"\n",
    "\n",
    "# calling the function and storing the contents in a text variable \n",
    "text = get_document(\"https://www.bbc.com/swahili/habari-60945098\")\n",
    "\n",
    "# calling the store_ document function \n",
    "store_document(doc=text,name=file)\n",
    "\n",
    "#add the words in this file to the total_corpus_words, to keep count of the number of words in the corpus\n",
    "total_corpus_words+=total_words(file)"
   ]
  },
  {
   "cell_type": "code",
   "execution_count": 123,
   "metadata": {},
   "outputs": [
    {
     "data": {
      "text/plain": [
       "108858"
      ]
     },
     "execution_count": 123,
     "metadata": {},
     "output_type": "execute_result"
    }
   ],
   "source": [
    "total_corpus_words"
   ]
  },
  {
   "cell_type": "code",
   "execution_count": 124,
   "metadata": {},
   "outputs": [
    {
     "name": "stdout",
     "output_type": "stream",
     "text": [
      "['Uchaguzia', 'Kenya', '2022', ':', 'Shauku', 'ya', 'wapiga', 'kura', ',', 'nia', 'ya', 'kufungua', 'ukurasa', 'mpya', 'na', 'ushawishi', 'kwa', 'majirani', 'Mohammed', 'Abdulrahman', 'Mchambuzi', '1', 'Aprili', '2022', 'Chanzo', 'cha', 'picha', ',', 'AFP', 'Kenya', 'itakuwa', 'na', 'uchaguzi', 'wake', 'mkuu', 'Agosti', '9', 'mwaka', 'huu', ',', 'uchaguzi', 'ambao', 'unafuatiliwa', 'kwa', 'karibu', 'na', 'majirani', 'zake', '.', 'Uchaguzi', 'huu', 'utakuwa', 'wa', 'aina', 'yake', 'kwa', 'sababu', 'moja', 'kubwa', '.', 'Kwa', 'mtazamo', 'wa', 'misukosuko', 'ya', 'ilionza', 'miaka', '3', 'baada', 'ya', 'uhuru', 'na', 'kuendelea', 'takriban', 'miongo', 'minne', 'chini', 'ya', 'utawala', 'wa', 'chama', 'cha', 'Kenya', 'African', 'National', 'Union', '(', 'KANU', ')', 'uchaguzi', 'wa', 'Agosti', 'utakuwa', 'kipimo', 'cha', 'kukomaa', 'kwa', 'demokrasia', ',', 'kujaribu', 'kuondokana', 'na', 'siasa', 'za', 'ukabila', 'na', 'hivyo', 'kufungua', 'ukurasa', 'mpya', '.', 'Vuguvugu', 'la', 'kudai', 'demokrasia', 'lilivyoanza', 'Hatua', 'ya', 'kwanza', 'ya', 'mabadiliko', 'ilikuwa', 'ni', 'ile', 'ya', '1991', ',', 'wakati', 'vuguvugu', 'la', 'kudai', 'kurejeshwa', 'kwa', 'mfumo', 'wa', 'vyama', 'vingi', 'lililoongozwa', 'na', 'wanasiasa', 'kadhaa', 'maarufu', 'lilipoilazimisha', 'serikali', 'ya', 'Rais', 'Daniel', 'Arap', 'Moi', 'kubadili', 'kifungu', 'cha', 'katiba', 'na', 'kuachana', 'na', 'mfumo', 'wa', 'utawala', 'wa', 'chama', 'kimoja', 'cha', 'KANU', '.', 'Miongoni', 'mwa', 'walioongoza', 'vuguvugu', 'hilo', 'ni', 'pamoja', 'na', 'wale', 'waliopigania', 'uhuru', 'Jaramogi', 'Oginga', 'Odinga', 'na', 'Martin', 'Shikuku', '(', 'kwa', 'kuwataja', 'wachache', ')', '.', 'Moi', 'ndiye', 'aliyemridhi', 'Rais', 'wa', 'kwanza', 'Mzee', 'Jomo', 'Kenyatta', 'aliyefariki', 'dunia', '1978', '.', 'Uchaguzi', 'wa', 'kwanza', '1992', 'ulioitishwa', 'na', 'Moi', 'baada', 'ya', 'kutumia', 'mbinu', 'kulivunja', 'bunge', 'ulimpa', 'ushindi', '.', 'Sababu', 'ilikuwa', 'ni', 'uchanga', 'wa', 'upinzani', '.', 'Moi', 'akashinda', 'tena', '1997', 'kutokana', 'na', 'kugawika', 'kwa', 'wapinzani', '.', 'Rais', 'huyo', 'wa', 'pili', 'wa', 'Jamhuri', 'ya', 'Kenya', 'alipoamua', 'kustaafu', '2002', 'ikiwa', 'hatua', 'ya', 'pili', 'ya', 'ukurasa', 'wa', 'mabadiliko', 'pale', 'wapinzani', 'walipoweza', 'kuungana', 'na', 'kuwa', 'na', 'mgombea', 'mmoja', 'wa', 'kiti', 'cha', 'Urais', '.', 'Walimteuwa', 'Mwai', 'Kibaki', 'wa', 'chama', 'cha', 'Democratic', '(', 'DP', ')', 'baada', 'ya', 'mvutano', 'baina', 'yao', 'hatimaye', 'kuzimwa', 'kwa', 'ushawishi', 'wa', 'Raila', 'Odinga', 'kwa', 'usemi', 'wake', 'maarufu', '``', 'Kibaki', 'Rosha', '.', \"''\", 'Ushindi', 'wa', 'kumpa', 'muhula', 'wa', 'pili', 'Uhuru', 'Kenyatta', 'ukacheleweshwa', 'kutokana', 'na', 'uamuzi', 'wa', 'mahakama', 'kwamba', 'uchaguzi', 'ulikuwa', 'na', 'dosari', '.', 'Uhuru', 'uchaguzi', 'wa', 'marudio', 'uliosusiwa', 'na', 'upinzani', 'na', 'sasa', 'anamaliza', 'muhula', 'wa', 'pili', 'na', 'wa', 'mwisho', '.', 'Uhuru', 'ameigeuza', 'karata', 'katika', 'uchaguzi', 'huu', '.', 'Chama', 'chake', 'cha', 'Jubilee', 'kimempitisha', 'kiongozi', 'wa', 'ODM', 'Raila', 'Odinga', 'kuwa', 'mgombea', 'wake', 'chini', 'ya', 'jukwaa', 'la', 'Azimio', 'la', 'Umoja', '.', 'Wanasiasa', 'hao', 'waliamua', 'kuondoa', 'tafauti', 'zao', 'kwa', 'kile', 'walichosema', 'ni', 'kwa', 'maslahi', 'ya', 'taifa', 'ili', 'kuleta', 'Umoja', '.', 'Lengo', 'lao', 'wanasema', 'ni', 'kuondoa', 'tafauti', 'za', 'kikabila', 'zilizoikumba', 'Kenya', 'tokea', 'uhuru', 'wake', 'kutoka', 'kwa', 'Uingereza', '.', 'Pia', 'kuondoa', 'utamaduni', 'uliojengeka', 'wa', 'kwamba', 'nchi', 'hiyo', 'itawaliwe', 'na', 'watu', 'wa', 'makabila', 'mawili', 'tu', 'Kikuyu', 'na', 'Kalenjin.Uhuru', 'ni', 'mkikuyu', 'kabila', 'la', 'Mzee', 'Kenyatta', 'na', 'Kibaki', 'Rais', 'watatu', ',', 'Ruto', 'ni', 'Mkalenjin', 'sawa', 'na', 'Moi', 'aliyemrithi', 'Mzee', 'Kenyatta', '.', 'Nani', 'yuko', 'kwenye', \"kinyang'anyiro\", 'cha', 'kuiongoza', 'Kenya', '?', 'Fahamu', 'zaidi', 'kuwahusu', 'wagombea', 'urais', 'wa', 'Kenya', 'Chagua', 'mgombea', 'ili', 'kutazama', 'wasifu', 'wake', 'Raila', 'Odinga', 'William', 'Ruto', 'George', 'Wajackoyah', 'David', 'Mwaure', 'Raila', 'Amollo', 'Odinga', 'Muungano', 'wa', 'Azimio', 'la', 'Umoja', 'Maelezo', 'ya', 'Msingi', 'Mgombea', 'huyo', 'mwenye', 'umri', 'wa', 'miaka', '77', 'ni', 'mhandisi', 'aliyesomea', 'Chuo', 'Kikuu', 'cha', 'Ufundi', 'cha', 'Magdeburg', '(', 'sasa', 'kinajulikana', 'kama', 'Chuo', 'Kikuu', 'cha', 'Otto-von-Guericke', 'Magdeburg', ')', 'nchini', 'Ujerumani', '.', 'Anawania', 'kiti', 'cha', 'urais', 'kwa', 'tikiti', 'ya', 'Azimio', 'la', 'Umoja', 'One', 'Kenya', 'Coalition', 'Party', '.', 'Hili', 'litakuwa', 'jaribio', 'lake', 'la', 'tano', 'baada', 'ya', 'kugombea', 'katika', ':', '1997', ',', '2007', ',', '2013', 'na', '2017', '.', 'Mafanikio', 'Muhimu', 'Bw', 'Odinga', 'alikuwa', 'mmoja', 'wa', 'wapiganiaji', 'wa', 'demokrasia', 'ya', 'vyama', 'vingi', 'nchini', 'Kenya', '.', 'Alikamatwa', ',', 'akafungwa', 'na', 'wakati', 'fulani', 'akaenda', 'uhamishoni', 'kwa', 'sababu', 'ya', 'kupigania', 'haki', 'hiyo', 'Aliwahi', 'kuwa', 'Waziri', 'Mkuu', ',', 'kuanzia', '2008-2013', '.', 'Odinga', 'alihusika', 'kufanikisha', 'miradi', 'mikubwa', 'iliyotekelezwa', 'na', 'serikali', 'ya', 'Kibaki', ',', 'kama', 'vile', 'miradi', 'ya', 'umeme', 'vijijini', 'na', 'barabara', '.', 'Ahadi', 'Muhimu', 'Kuafikia', 'ukuaji', 'wa', 'uchumi', 'wa', 'tarakimu', 'mbili', 'kupitia', 'uwekezaji', 'katika', 'biashara', 'ndogo', 'ndogo', 'na', 'sekta', 'ya', 'viwanda', '.', 'Utoaji', 'wa', 'huduma', 'bora', 'za', 'afya', 'kwa', 'wote', '.', 'Utoaji', 'wa', 'vifaa', 'vya', 'michezo', 'na', 'burudani', 'kwa', 'ukuaji', 'wa', 'kimwili', ',', 'kiakili', ',', 'kijamii', ',', 'kimaadili', 'na', 'maendeleo', 'ya', 'watu', '.', 'Kashfa/Sakata', 'Kufuatia', 'jaribio', 'la', 'mapinduzi', 'ya', 'Agosti', '1', ',', '1982', ',', 'Raila', 'Odinga', 'alikamatwa', 'na', 'kukabiliwa', 'na', 'mashtaka', 'kadhaa', ',', 'yakiwemo', 'ya', 'uhaini', 'ambayo', 'alizuiliwa', 'bila', 'kufunguliwa', 'mashtaka', '.', 'Tume', 'ya', 'Ukweli', 'ya', 'Haki', 'na', 'Maridhiano', 'iliambiwa', 'mwaka', '2011', 'kwamba', 'Odinga', 'alikuwa', 'na', 'mawasiliano', 'na', 'mpangaji', 'mkuu', 'wa', 'mapinduzi', 'hayo', '.', 'Odinga', 'amekana', 'kuhusika', 'kila', 'mara', '.', '-', 'Makavazi', 'ya', 'Kitaifa', 'ya', 'Kenya', '.', 'William', 'Samoei', 'Ruto', 'Muungano', 'wa', 'Kenya', 'Kwanza', 'Maelezo', 'ya', 'Msingi', 'Mgombea', 'huyu', 'mwenye', 'umri', 'wa', 'miaka', '55', 'ana', 'Shahada', 'ya', 'Uzamifu/PhD', 'katika', 'Ikolojia', 'ya', 'Mimea', 'na', 'BSc', 'katika', 'Botany', 'na', 'Zoology', 'kutoka', 'Chuo', 'Kikuu', 'cha', 'Nairobi', '.', 'Anawania', 'kiti', 'cha', 'urais', 'kwa', 'tikiti', 'ya', 'chama', 'cha', 'United', 'Democratic', 'Alliance', '(', 'chenye', 'mafungamano', 'na', 'Kenya', 'Kwanza', ')', '.', 'Aliongoza', 'Vuguvugu', 'la', 'vijana', 'la', 'Youth', 'for', 'Kanu', \"'92\", '(', 'YK', \"'\", '(', '92', ')', '.', 'Mafanikio', 'Muhimu', 'Wizara', 'yake', 'iliorodheshwa', 'kama', 'inayofanya', 'bora', 'zaidi', 'serikalini', 'alipokuwa', 'Waziri', 'wa', 'Kilimo', '.', 'Alihudumu', 'kama', 'Naibu', 'Rais', 'wa', 'kwanza', 'wa', 'Kenya', 'chini', 'ya', 'katiba', 'mpya', 'ya', '2010', '.', 'Alihudumu', 'kama', 'mbunge', 'wa', 'eneo', 'bunge', 'la', 'Eldoret', 'Kaskazini', 'kuanzia', '1997-2007', '.', 'Ahadi', 'Muhimu', 'Kutenga', '$', '424', 'milioni', 'kila', 'mwaka', 'kwa', 'biashara', 'ndogo', 'ndogo', 'za', 'kati', '.', 'Kuanzisha', 'mfuko', 'wa', 'elimu', 'wa', 'kitaifa', 'ili', 'kukidhi', 'gharama', 'zisizo', 'za', 'masomo', '.', 'Tekeleza', 'kikamilifu', 'sheria', 'ya', 'usawa', 'wa', 'kijinsia', 'ya', 'thuluthi', 'mbili', 'katika', 'uteuzi', 'wa', 'kisiasa', 'na', 'kutenga', 'nusu', 'ya', 'baraza', 'lake', 'la', 'mawaziri', 'kwa', 'wanawake', '.', 'Kashfa/Sakata', 'Mnamo', '2008', ',', 'Mahakama', 'Kuu', 'ya', 'Kenya', 'iliamuru', 'Naibu', 'Rais', 'William', 'Ruto', 'kusalimisha', 'shamba', 'la', 'ekari', '100', 'na', 'kulipa', '$', '62,500', 'kwa', 'Adrian', 'Muteshi', ',', 'mkulima', 'ambaye', 'alimshtaki', 'kwa', 'kuchukua', 'mali', 'hiyo', 'baada', 'ya', 'uchaguzi', 'wa', '2007', '.', '-', 'Kenya', 'Law', 'Mnamo', '2011', ',', 'Bw', 'Ruto', 'alikabiliwa', 'na', 'kesi', 'kwa', 'makosa', 'matatu', 'dhidi', 'ya', 'binadamu', ':', 'Mauaji', ',', 'uhamisho', 'wa', 'watu', 'kwa', 'lazima', 'na', 'mateso', 'ya', 'watu', 'katika', 'Mahakama', 'ya', 'Kimataifa', 'ya', 'Uhalifu', '.', 'Miaka', 'mitano', 'baadaye', 'mahakama', 'ilisitisha', 'kesi', 'hiyo', 'kwa', 'msingi', 'kwamba', '-', 'ushahidi', 'wa', 'upande', 'wa', 'mashtaka', 'ulikuwa', 'dhaifu', '.', '-ICC', 'George', 'Wajackoyah', 'Chama', 'cha', 'Roots', 'Maelezo', 'ya', 'Msingi', 'Profesa', 'huyo', 'mwenye', 'umri', 'wa', 'miaka', '61', 'ana', 'shahada', 'ya', 'uzamili', 'katika', 'sheria', 'kuhusu', 'maendeleo', 'kutoka', 'Chuo', 'Kikuu', 'cha', 'Warwick', 'na', 'shahada', 'ya', 'uzamili', ',', 'sheria', '(', 'sheria', 'za', 'Marekani', 'kutoka', 'Chuo', 'Kikuu', 'cha', 'Baltimore', '.', 'Bw', 'Wajackoyah', 'anawania', 'kiti', 'cha', 'urais', 'kwa', 'tiketi', 'ya', 'Chama', 'cha', 'Roots', 'Party', '.', 'Mafanikio', 'Muhimu', 'Alihudumu', 'kama', 'Inspekta', 'katika', 'idara', 'ya', 'usalama', 'ya', 'Special', 'branch', 'wakati', 'wa', 'utawala', 'wa', 'marehemu', 'Rais', 'Daniel', 'Moi', 'kabla', 'ya', 'kulazimika', 'kutorokea', \"ng'ambo\", 'ili', 'kuepuka', 'kufunguliwa', 'mashtaka', 'na', 'mamlaka', '.', 'Yeye', 'ni', 'mshirika', 'katika', 'kampuni', 'ya', 'mawakili', 'aliyoianzisha', 'mwaka', 'wa', '2018', '.', 'Alifunnza', 'somo', 'la', 'sheria', 'na', 'uchumi', 'katika', 'vyuo', 'vikuu', 'vya', 'Marekani', ',', 'Uingereza', 'na', 'Kenya', '.', 'Ahadi', 'Muhimu', 'Kuhalalisha', 'matumizi', 'ya', 'kiviwanda', 'ya', 'bangi', 'Badilisha', 'siku', 'za', 'kazi', 'hadi', 'Jumatatu', 'hadi', 'Alhamisi', '.', 'Huduma', 'ya', 'afya', 'ya', 'bure', 'na', 'msaada', 'kwa', 'wazee', ',', 'walio', 'hatarini', 'na', 'wajawazito', 'David', 'Mwaure', 'Waihiga', 'Chama', 'cha', 'Agano', 'Maelezo', 'ya', 'Msingi', 'David', 'Mwaure', 'anawania', 'kiti', 'cha', 'urais', 'kwa', 'tiketi', 'ya', 'Chama', 'cha', 'Agano', '.', 'Ni', 'kiongozi', 'wa', 'Chama', 'cha', 'Agano', '.', 'Alihitimu', 'na', 'shahada', 'ya', 'sheria', 'kutoka', 'Chuo', 'Kikuu', 'cha', 'Nairobi', 'na', 'ana', 'Shahada', 'ya', 'Uzamili', 'katika', 'masomo', 'ya', 'uongozi', '.', 'Mafanikio', 'Muhimu', 'Yeye', 'ni', 'wakili', 'mkuu', 'na', 'amehudumu', 'kama', 'mwanasheria', 'kwa', 'zaidi', 'ya', 'miongo', 'mitatu', '.', 'Ahadi', 'Muhimu', 'Azimio', 'la', 'Umoja', ',', 'muungano', 'ulioundwa', 'na', 'Uhuru', 'na', 'Raila', 'ambaye', 'ni', 'kutoka', 'kabila', 'la', 'Luo', 'limeungwa', 'mkono', 'na', 'vigogo', 'wengine', 'wakiwemo', 'Makamu', 'wa', 'zamani', 'wa', 'rais', 'Kalonzo', 'Musyoka', 'na', 'Martha', 'Karua', '.', 'Kampeni', 'za', 'uchaguzi', 'zimepamba', 'moto', '.', 'Lakin', 'bado', 'kuna', 'umuhimu', 'wa', 'kuchukuliwa', 'hatua', 'za', 'tahadhari', 'kutokana', 'na', 'lugha', 'inayotumiwa', 'na', 'wanasiasa', '.', 'Kauli', 'za', 'Chuki', 'zilichangia', 'vurugu', 'za', '2007/2008', '.', 'Safari', 'ni', 'kauli', 'za', 'mashambulizi', 'ya', 'binafsi', 'na', 'hata', 'matusi', '.', 'Ushawishi', 'wa', 'siasa', 'za', 'Kenya', 'kwa', 'majirani', 'Chanzo', 'cha', 'picha', ',', 'AFP', 'Kwa', 'upande', 'mwengine', ',', 'kinachofurahisha', 'na', 'kuelekea', 'kuwasisimua', 'walioko', 'nchi', 'za', 'jirani', 'na', 'hasa', 'Tanzania', ',', 'ni', 'kiwango', 'cha', 'uhuru', 'wa', 'vyombo', 'vya', 'habari', 'na', 'kutoa', 'maoni', ',', 'ambapo', 'hali', 'katika', 'mataifa', 'hayo', 'mawili', 'imeendelea', 'kuwa', 'isiyofurahisha', 'kwasababu', 'ya', 'vikwazo', 'mbali', 'mbali', 'vya', 'dola', '.', 'Pia', 'katika', 'jicho', 'la', 'demokrasia', ',', 'Kenya', 'inaangaliwa', 'iliopiga', 'hatua', 'fulani', 'panapohusika', 'naUhuru', 'wa', 'mahakama', 'na', 'pia', 'kuheshimiwa', 'kwa', 'Katiba', ',', 'sababu', 'ikiwa', 'ni', 'mahakama', 'kutoingiliwa', 'na', 'mkono', 'wa', 'dola', '.', 'Kilio', 'kikubwa', 'hivi', 'sasa', 'nchini', 'Tanzania', 'ni', 'Katiba', 'mpya', 'na', 'Tume', 'huru', ',', 'licha', 'ya', 'kwamba', 'vyama', 'vya', 'upinzani', 'vinatafautiana', 'kipi', 'ni', 'muhimu', 'kwanza', '.', 'Wakati', 'chama', 'kikuu', 'cha', 'upinzani', 'Chadema', 'kinasema', 'Katiba', 'mpya', 'ndiyo', 'itakayozaa', 'Tume', 'huru', 'ya', 'uchaguzi', ',', 'ACT-Wazalendo', 'kinataka', 'Tume', 'huru', 'kabla', 'ya', 'uchaguzi', 'ujao', '2005', ',', 'Chama', 'tawala', 'cha', 'mapinduzi', 'CCM', 'kinaendelea', 'kulipiga', 'chenga', 'suala', 'la', 'katiba', 'mpya', 'na', 'Tume', 'huru', 'ya', 'uchaguzi', '.', 'Wao', 'wanasema', 'kwanza', 'ni', 'ujenzi', 'wa', 'taifa', 'kwa', 'maana', 'ya', 'maendeleo', '.', 'Bila', 'shaka', 'kwa', 'wapinzani', 'Tanzania', 'Kenya', 'inaweza', 'kuwa', 'chachu', 'ya', 'mabadiliko', 'ya', 'kisiasa', 'nchini', 'Tanzania', '.', 'Nchini', 'Uganda', 'bado', 'Rais', 'Yoweri', 'Museveni', 'anashikilia', 'madaraka', 'kwa', 'staili', 'ya', 'kuvikandamiza', 'vyama', 'vya', 'upinzani', '.', 'Akiwa', 'anatawala', 'kwa', 'miaka', '36', 'sasa', ',', 'kuna', 'hata', 'tetesi', 'kuwa', 'anamuandaa', 'mwanawe', 'Luteni', 'Jenerali', 'Muhoozi', 'Kainerugaba', 'mwenye', 'umri', 'wa', 'miaka', '47', ',', 'kuwa', 'mrithi', 'wake', '.', 'Itakumbukwa', 'alipochukuwa', 'madaraka', '1986', ',', 'Museveni', 'alisema', 'kinyume', 'na', 'viongozi', 'waliotangulia', ',', 'wao', 'hawakuingia', 'madarakani', 'kubakia', 'na', 'wangeondoka', 'mara', 'tu', 'baada', 'ya', 'kuyaweka', 'mambo', 'sawa', '.', 'Jitihada', 'ya', 'kufunika', 'maovu', 'yaliopita', 'Kukisalia', 'miezi', 'minne', 'kabla', 'ya', 'Uchaguzi', 'mkuu', 'Wakenya', 'watakuwa', 'wanausubiri', 'matokeo', 'ya', 'Agosti', '9', 'wakitumai', 'zoezi', 'hilo', 'litakuwa', 'la', 'amani', 'na', 'kufunika', 'historia', 'mbaya', 'ya', 'kisiasa', 'katika', 'taifa', 'hilo', '.', 'Utawala', 'wa', 'Mzee', 'Kenyatta', 'ulikuwa', 'wa', 'mkono', 'wa', 'chuma', 'na', 'hakuvumilia', 'upinzani', ',', 'Katika', 'kadhia', 'ambazo', 'hadi', 'leo', 'hazijapata', 'jibu', 'na', 'sababu', 'gani', 'yakatokea', ',', 'ni', 'kupotea', 'kwa', 'wanasiasa', 'kadhaa', 'walioonekana', 'kitisho', 'kwa', 'Mzee', 'Kenyatta', ',', 'utawala', 'wake', 'au', 'hata', 'kwa', 'wanasiasa', 'na', 'wapambe', 'waliomzunguka', 'Kenyatta', '.', 'Mwanasiasa', 'wa', 'kwanza', 'kuuwawa', 'alikuwa', 'mweyne', 'asili', 'ya', 'Kigoa', 'Pio', 'Gama', 'Pinto', '1965', ',', 'miaka', 'miwili', 'tu', 'baada', 'ya', 'uhuru', '.', 'Kadhia', 'za', 'mauaji', 'zikaendekea', 'dhidi', 'ya', 'wanasiasa', 'wengine', 'maarufu', '.', 'aliyekuwa', 'Waziri', 'wa', 'mipango', 'wa', 'uchumi', 'na', 'maendeleo', 'Tom', 'Joseph', 'Mboya', '(', 'Mluo', ')', ',', 'Josiah', 'Mwangi', 'Kariuki', '(', 'Mkikuyu', ')', 'na', 'aliyekuwa', 'waziri', 'wa', 'mambo', 'ya', 'nchi', 'za', 'nje', 'Robert', 'Ouko', '(', 'Mluo', ')', 'aliyeuwawa', 'wakati', 'wa', 'utawala', 'wa', 'Moi', '.', 'Vifo', 'vyao', 'hadi', 'leo', 'vimefunikwa', '.', 'Kenya', 'sasa', 'inahitaji', 'amani', ',', 'umoja', 'na', 'kusonga', 'mbele', 'na', 'kuufungua', 'ukurasa', 'huo', 'wa', 'yote', 'yaliopita', ',', 'ambayo', 'msingi', 'wake', 'ni', 'kuwania', 'madaraka', 'na', 'ukabila', '.']\n",
      "\n",
      " Number of Words:  1707\n"
     ]
    }
   ],
   "source": [
    "file=\"april1.txt\"\n",
    "\n",
    "# calling the function and storing the contents in a text variable \n",
    "text = get_document(\"https://www.bbc.com/swahili/habari-60950755\")\n",
    "\n",
    "# calling the store_ document function \n",
    "store_document(doc=text,name=file)\n",
    "\n",
    "#add the words in this file to the total_corpus_words, to keep count of the number of words in the corpus\n",
    "total_corpus_words+=total_words(file)"
   ]
  },
  {
   "cell_type": "code",
   "execution_count": 125,
   "metadata": {},
   "outputs": [
    {
     "data": {
      "text/plain": [
       "110565"
      ]
     },
     "execution_count": 125,
     "metadata": {},
     "output_type": "execute_result"
    }
   ],
   "source": [
    "total_corpus_words"
   ]
  },
  {
   "cell_type": "code",
   "execution_count": 127,
   "metadata": {},
   "outputs": [
    {
     "name": "stdout",
     "output_type": "stream",
     "text": [
      "['Bei', 'ya', 'Mafuta', 'ya', 'kula', 'Afrika', 'Mashariki', ':', 'Je', 'ni', 'wakati', 'wa', 'kula', 'chukuchuku', '?', '5', 'Aprili', '2022', \"'Naomba\", 'chipsi', 'mayai', ',', 'nikaangie', 'kuku', 'au', 'leo', 'tutakula', 'ndizi', 'za', 'kukaanga', 'ama', 'samaki', 'wa', 'kukaanga', 'na', 'ugali', \"'\", ',', 'haya', 'ndiyo', 'maisha', 'ya', 'wananchi', 'wengi', 'wa', 'Afrika', 'Mashariki', 'yanayohusu', 'vyakula', '.', 'Vyakula', 'vingi', 'wanavyopika', 'na', 'kula', 'vinatumia', 'matufa', 'ya', 'kula', 'kuanzia', 'asubuhi', 'kwenye', 'maandazi', ',', 'chapati', ',', 'vitumbua', ',', 'bagia', ',', 'kababu', 'mpaka', 'jioni', 'kwenye', 'chipsi', 'mayai', ',', 'wali', 'au', 'ugali', 'na', 'samaki', 'au', 'nyama', '.', 'Mahitaji', 'ya', 'mafuta', 'ya', 'kula', 'Afrika', 'Mashariki', 'yanafikia', 'mpaka', 'tani', '2.5', 'milioni', 'kwa', 'mwaka', '.', 'Kwa', 'Tanzania', 'mahitaji', 'ni', 'wastani', 'wa', 'tani', '650,000', 'licha', 'ya', 'uzalishaji', 'wa', 'ndani', 'ni', 'wastani', 'wa', 'tani', '290,000', '.', 'Uganda', 'mahitaji', 'kwa', 'mwaka', 'ni', 'wastani', 'wa', 'tani', '120,000', 'ingawa', 'yenyewe', 'inazalisha', 'tani', '40,000', 'tu', '.', 'Kenya', 'wanahitaji', 'wastani', 'wa', 'tani', 'za', 'mafuta', 'ya', 'kula', '400,000', 'mpaka', '500,000', 'kwa', 'mwaka', 'lakini', 'wanachozalisha', 'ni', 'robo', 'tatu', 'ya', 'mahitaji', '.', 'Kwa', 'upungufu', 'huo', 'nchi', 'hizo', 'zimekuwa', 'zikitumia', 'mamilioni', 'ya', 'dola', 'kuagiza', 'mafuta', 'ya', 'kula', 'kutoka', 'nje', 'hasa', 'katika', 'nchi', 'kama', 'Malaysia', ',', 'India', ',', 'Singapore', 'na', 'Indonesia', 'Ukraine', ',', 'Poland', 'na', 'Belarus', '.', 'Mfano', 'Rwanda', 'yenyewe', 'ilitumia', 'mpaka', 'dola', 'milioni', '1', 'kuagiza', 'bidhaa', 'hiyo', 'nje', '.', 'Tanzania', 'kwa', 'mwaka', 'yenyewe', 'inatumia', 'mpaka', 'dola', '204.7', '$', 'milioni', 'kuagiza', 'mafuta', 'ya', 'kula', 'toka', 'nje', '.', 'Hizi', 'ni', 'gharama', 'kubwa', '.', 'Sasa', 'pamoja', 'na', 'mahitaji', 'makubwa', 'na', 'kupendwa', 'sana', 'kwenye', 'mapishi', 'ya', 'Afrika', 'Mashariki', ',', 'mafuta', 'ya', 'kula', 'sasa', ',', 'yamekuwa', \"'kaa\", 'la', 'moto', \"'\", 'kwa', 'watumiaji', 'wake', ',', 'kutokana', 'na', 'bei', 'yake', 'kupaa', 'kila', 'uchwao', '.', 'Kupanda', 'huku', 'kwa', 'bei', ',', 'kumeleta', 'vilio', 'karibu', 'katika', 'nchi', 'zote', 'za', 'Afrika', 'Mashariki', 'zikiwemo', 'Tanzania', ',', 'Kenya', ',', 'DRC', 'na', 'Uganda', 'na', 'kuibua', 'mjadala', 'mkubwa', 'kuhusu', 'njia', 'gani', 'mbadala', 'na', 'za', 'muda', 'mrefu', 'za', 'kushughulikia', 'suala', 'hili', 'la', 'mafuta', 'ya', 'kula', '?', 'Ili', 'kuondoa', 'maumivu', 'ya', 'gharama', 'za', 'kuagiza', 'nje', 'na', 'unafuu', 'wa', 'bei', 'kwa', 'watumiaji', '.', 'Bei', 'ya', 'mafuta', 'zikoje', 'Afrika', 'Mashariki', '?', 'Miaka', 'miwili', 'iliyopita', 'katika', 'nchi', 'za', 'Afrika', 'Mashariki', ',', 'uliweza', 'kupata', 'mafuta', 'ya', 'kula', 'kwenye', 'dumu', 'la', 'ujazo', 'wa', 'lita', '20', 'mpaka', 'kwa', 'dola', '22', '$', ',', 'lakini', 'kwa', 'sasa', 'bei', 'ya', 'mafuta', 'ya', 'kula', 'kwa', 'ujazo', 'huo', 'imepaa', 'mpaka', 'mpaka', 'dola', '60', '$', 'katika', 'baadhi', 'ya', 'maeneo', '.', 'Nchini', 'Tanzania', 'katika', 'kipindi', 'cha', 'mwaka', 'mmoja', 'uliopita', ',', 'bei', 'ya', 'mafuta', 'ya', 'kula', 'kwa', 'dumu', 'la', 'lita', '20', ',', 'imepanda', 'mpaka', 'wastani', 'wa', 'kati', 'ya', 'dola', '40', '$', 'mpaka', 'dola', '55', '$', '(', 'kama', 'tsh', '130,000', ')', 'kutoka', 'wastani', 'wa', 'dola', 'kati', 'ya', '25', '$', 'na', '34', '$', '(', 'kama', 'tsh', '75,000', ')', '.', 'Kwa', 'bei', 'ya', 'reja', 'reja', 'kwa', 'lita', 'moja', 'katika', 'baadhi', 'ya', 'maeneo', 'mafuta', 'yanauzwa', 'kati', 'ya', 'dola', '2.8', '%', 'mpaka', 'dola', '3.2', '$', '(', '6,500tsh', 'mpaka', '7,500tsh', ')', '.', 'Nchini', 'Kenya', 'hasa', 'katika', 'jiji', 'la', 'Nairobi', 'bei', 'ya', 'mafuta', 'inakwenda', 'mpaka', 'dola', 'kati', 'ya', '50', '$', 'na', '60', '$', 'kutoka', 'wastani', 'wa', 'dola', '28', '$', 'na', '50', '$', 'kwa', 'ujazo', 'wa', 'dumu', 'la', 'lita', '20', '.', 'Ni', 'Februari', 'mwaka', '2021', 'tu', 'lita', 'moja', 'moja', 'ya', 'mafuta', 'ya', 'kula', 'Kenya', 'iliuzwa', 'Ksh236', 'sawa', 'na', 'dola', '2.05', '$', 'lakini', 'kufikia', 'Februari', '2022', ',', 'ilipanda', 'mpaka', 'Ktsh', '312', 'sawa', 'na', 'dola', '2.71', '$', '.', 'Hali', 'ya', 'bei', 'haitamalaki', 'kwa', 'uzuri', 'pia', 'katika', 'nchi', 'zingine', 'za', 'Afrika', 'Mashariki', '.', 'Kwa', 'mujibu', 'wa', 'wa', 'mtandao', 'wa', 'taarifa', 'za', 'bei', 'za', 'bidhaa', 'duniani', 'wa', 'globalproductprices', ',', 'lita', 'moja', 'ya', 'mafuta', 'ya', 'kula', 'nchini', 'Uganda', 'inauzwa', 'mpaka', 'dola', '3.45', '$', 'kutoka', 'wastani', 'wa', 'dola', '2.5', '$', 'mpaka', '3', '$', '.', 'Rwanda', 'mafuta', 'yaliuzwa', 'dola', '22', '$', 'mpaka', '35', '$', 'kwa', 'lita', '20', 'sasa', 'imefika', 'dola', '70', '$', '.', 'Kwa', 'ujumla', 'ukilinganisha', 'na', 'bei', 'ya', 'soko', 'la', 'dunia', 'inayofikia', 'dola', '2.88', '$', 'kwa', 'lita', 'wastani', 'wa', 'bei', 'kwa', 'nchi', 'za', 'Afrika', 'Mashariki', 'zinaendelea', 'kuwa', 'mwiba', '.', 'Kwa', 'nini', 'bei', 'ya', 'mafuta', 'ya', 'kula', 'imezidi', 'kuwa', 'mwiba', 'Afrika', 'Mashariki', '?', 'Nchi', 'za', 'Afrika', 'Mashariki', 'zinahitaji', 'angalau', 'wastani', 'wa', 'tani', '2.5milioni', 'za', 'mafuta', 'ya', 'kula', 'kwa', 'mwaka', 'kutosheleza', 'mahitaji', 'ya', 'wananchi', 'wake', 'wanaokadiriwa', 'kufikia', 'milioni', '300', 'hasa', 'baada', 'ya', 'DRC', 'kujiunga', 'kwenye', 'ukanda', 'huo', 'wa', 'Afrika', 'Mashariki', '.', 'Pamoja', 'na', 'mahitaji', 'hayo', 'makubwa', ',', 'uzalishaji', 'wa', 'ndani', 'wa', 'mafuta', 'ya', 'kula', 'haukidhi', 'mahitaji', 'hivyo', 'kulazimika', 'kuagiza', 'mafuta', 'kutoka', 'katika', 'mataifa', 'ya', 'nje', '.', 'Hata', 'hivyo', 'taifa', 'kama', 'Ukraine', 'ambalo', 'ni', 'msambazaji', 'mkubwa', 'wa', 'mafuta', 'ya', 'alizeti', 'duniani', 'imesimamisha', 'shughuli', 'na', 'usafirishaji', 'wa', 'bidhaa', 'hiyo', 'kutokana', 'na', 'vita', 'inayoendelea', 'sasa', 'nchini', 'humo', '.', '``', 'Hapa', 'kwetu', ',', 'mambo', 'ya', 'Covid', 'yalikuwa', 'tayari', 'yamesababisha', 'bei', 'ya', 'mafuta', 'kupanda', 'kutoka', '2,200Ksh', 'mpaka', '4,500Ksh', 'ndani', 'ya', 'miaka', 'miwili', '.', 'Baada', 'ya', 'uvamizi', '(', 'wa', 'Ukraine', ')', 'bei', 'imepanda', 'mpaka', '5,100Ksh', '(', 'dola', '44', '$', ')', 'ndani', 'ya', 'wiki', 'moja', \"''\", ',', 'alinukuliwa', 'na', 'chombo', 'cha', 'habari', 'cha', 'Busness', 'Daily', 'cha', 'Kenya', ',', 'Mmoja', 'wa', 'viongozi', 'wa', 'sekta', 'hiyo', 'ya', 'mafuta', 'Abdulghani', 'Alwojih', '.', 'Ukiacha', 'vita', 'vya', 'Ukraine', 'na', 'sababu', 'zingine', 'za', 'kiusalama', 'pamoja', 'na', 'zile', 'za', 'kiuchumi', 'na', 'kisera', ',', 'zipo', 'sababu', 'zingine', 'kubwa', 'mbili', 'zinazotajwa', 'wazi', 'kuwa', 'na', 'mkono', 'wake', 'kwenye', 'hili', 'la', 'kupanda', 'kwa', 'bei', 'ya', 'mafuta', 'ya', 'kula', 'katika', 'ukanda', 'huu', ';', 'mabadiliko', 'ya', 'hali', 'ya', 'hewa', 'katika', 'baadhi', 'ya', 'maeneo', 'yanayozalisha', 'malighafi', 'ya', 'mafuta', 'ya', 'kula', 'pamoja', 'na', 'uwepo', 'wa', 'janga', 'la', 'Corona', '.', 'Kutokana', 'na', 'Covid-19', 'Malaysia', 'pia', 'ilipunguza', 'uzalishaji', 'wake', 'kama', 'ilivyo', 'kwa', 'Indonesia', '.', 'Hilo', 'limeongeza', 'kuni', 'za', 'kupanda', 'kwa', \"'moto\", \"'\", 'wa', 'bei', 'kutokana', 'na', 'uzalishaji', 'wake', 'kwenye', 'soko', 'la', 'mafuta', 'hayo', '.', 'Aghalabu', 'kukuta', 'sababu', 'zote', 'zinasadifu', 'ukweli', 'wa', 'hali', 'halisi', 'ulivyo', ',', 'wapo', 'wanaotumia', 'mwanya', 'huo', 'huo', 'kwa', 'manufaa', 'binafsi', 'kama', 'anavyoeleza', 'mtaalam', 'wa', 'masuala', 'ya', 'biashara', 'kutoka', 'chuo', 'kikuu', 'cha', 'Ushirika', ',', 'Moshi', ',', 'Daktari', 'Izack', 'Kazungu', ';', '``', 'Corona', 'sawa', ',', 'hali', 'ya', 'hewa', 'sawa', 'na', 'vita', 'ya', 'Ukraine', 'ni', 'kweli', 'imeendelea', 'kuleta', 'athari', 'nyingi', ',', 'lakini', 'wapo', 'wafanyabiashara', 'wasio', 'waaminifu', 'wamekuwa', 'wakitumia', 'mwanya', 'huo', 'kuongeza', 'bei', 'kiholela', \"''\", '.', 'Kwa', 'nini', 'ni', 'muhimu', 'kushughulika', 'na', 'mafuta', 'ya', 'kula', 'sasa', '?', 'Wiki', 'iliyopita', 'Rais', 'wa', 'Tanzania', ',', 'alimtaka', 'waziri', 'wake', 'wa', 'fedha', ',', 'Mwigulu', 'Nchemba', 'kushughulikia', 'suala', 'la', 'mafuta', 'ya', 'kula', '.', 'Mara', 'kadhaa', 'pia', 'viongozi', 'wa', 'nchi', 'zingine', 'kama', 'Uhuru', 'Kenyatta', 'wa', 'Kenya', 'na', 'Paul', 'Kagame', 'wa', 'Rwanda', 'wamewahi', 'kusikika', 'wakizungumzia', 'kupanda', 'kwa', 'bei', 'ya', 'bidhaa', 'hiyo', 'na', 'bidhaa', 'zingine', 'za', 'vyakula', '.', '``', 'Serikali', 'za', 'Afrika', 'Mashariki', ',', 'hazina', 'namna', 'ya', 'kukwepa', 'kulivaa', 'hili', ',', 'kwa', 'manufaa', 'ya', 'muda', 'mrefu', ',', 'hata', 'kama', 'litawakosesha', 'mapato', 'ama', 'kuwafanya', 'kuingia', 'gharama', 'kubwa', ',', 'hakuna', 'njia', 'ya', 'mkato', \"''\", ',', 'anasema', 'Dr.', 'Izack', 'Kazungu', '.', 'Wataalam', 'wanataja', 'mambo', 'matano', 'makubwa', 'yanayoweza', 'kusaidia', 'kuleta', 'suluhu', 'ya', 'muda', 'mrefu', 'na', 'kuboresha', 'sekta', 'ya', 'mafuta', 'ya', 'kula', ';', 'kuwekeza', 'katika', 'uzalishaji', 'wa', 'mafuta', 'kupitia', 'kilimo', 'cha', 'kisasa', 'cha', 'mazao', 'ya', 'mafuta', 'kama', 'alizeti', ',', 'pamba', ',', 'nazi', ',', 'mawese', ',', 'karanga', ',', 'korosho', 'na', 'ufuta', '.', 'P', 'ili', 'kuboresha', 'sekta', 'ya', 'mifugo', 'na', 'uvuvi', 'kwa', 'ajili', 'ya', 'kupata', 'kwa', 'wingi', 'mafuta', 'yatokanayo', 'na', 'wanyama', 'na', 'samaki', '.', 'Suala', 'lingine', 'ni', 'kuondoa', 'tozo', 'ama', 'kodi', 'zinazoongeza', 'mzigo', 'kwenye', 'biashara', 'ya', 'mafuta', 'ama', 'shughuli', 'za', 'sekta', 'ya', 'mafuta', 'ya', 'kula', 'wakati', 'la', 'nne', 'ni', 'kuhakikisha', 'upatikanaji', 'wa', 'nishati', 'ya', 'umeme', 'na', 'tano', 'ni', 'unafuu', 'wa', 'mafuta', 'ya', 'petroli', 'na', 'dizeli', 'na', 'kuboresha', 'miundo', 'mbinu', 'ya', 'usafirishaji', '.', '``', 'bado', 'kuna', 'mambo', 'mengi', 'ya', 'kufanya', 'hasa', 'kwa', 'upande', 'wa', 'serikali', '(', 'Kenya', ')', 'kwa', 'mfano', ',', 'kwa', 'kupunguza', '3', '%', 'ya', 'tozo', 'ya', 'RDL', 'na', 'IDF', ',', 'kupitia', 'gharama', 'za', 'mafuta', '(', 'Petrol', 'na', 'Dizeli', ')', 'na', 'nishati', 'ya', 'umeme', 'kama', 'hatua', 'zinazoweza', 'kuchukuliwa', \"'\", ',', 'alisema', 'Alwojih', '.', 'Kwa', 'upande', 'wa', 'Tanzania', ',', 'Juhudi', 'za', 'kupunguza', 'pengo', 'la', 'mahitaji', 'ya', 'mafuta', 'ya', 'kula', 'lilishaanza', 'kwa', 'msukumo', 'wa', 'waziri', 'mkuu', ',', 'Kassimu', 'Majaliwa', '.', 'Pamoja', 'na', 'zao', 'la', 'alizeti', 'linalotiliwa', 'mkazo', ',', 'nchi', 'hiyo', 'imeanza', 'kutekeleza', 'mikakati', 'ya', 'kuendeleza', 'zao', 'la', 'michikichi', 'kwa', 'kuanzisha', 'Kituo', 'Maalum', 'cha', 'Utafiti', 'wa', 'Mchikichi', 'cha', 'Kihinga', '.', 'Waziri', 'mkuu', 'huyo', 'alisema', 'kuwa', 'hadi', 'kufikia', 'Mei', ',', '2021', 'jumla', 'ya', 'mbegu', '5,630,376', 'za', 'chikichi', 'na', 'miche', 'milioni', '1.5', 'imezalishwa', 'na', 'kusambazwa', 'katika', 'Mikoa', 'ya', 'Kigoma', ',', 'Katavi', ',', 'Kagera', ',', 'Rukwa', ',', 'Mbeya', ',', 'Pwani', 'na', 'Ruvuma', '.', 'Wakati', 'hatua', 'zinazofanana', 'na', 'hizi', 'za', 'Serikali', 'za', 'Afrika', 'Mashariki', 'zikendelea', 'kuchukuliwa', 'na', 'kusubiriwa', 'matokeo', 'yake', ',', 'je', 'kwa', 'sasa', 'wananchi', 'takribani', '300', 'milioni', 'wa', 'ukanda', 'huu', 'waanze', 'kufikiria', 'kula', \"'vyakula\", 'vya', 'chuku', 'chuku', \"''\", 'kwa', 'maana', 'ya', 'visivyoungwa', 'na', 'mafuta', 'na', 'waendelee', 'kuumia', 'kwa', 'bei', 'za', 'mwiba', '?', 'Pengine', 'vyakula', 'vya', 'kuchemsha', 'tu', ',', 'kuoka', ',', 'kuchoma', 'ama', 'vinavyotengeneza', 'mafuta', 'yake', 'wakati', 'wa', 'kupika', 'vinaweza', 'kuwa', 'mbadala', 'kwa', 'wakati', 'huu', '.', 'Ingawa', 'matumizi', 'ya', 'karanga', 'za', 'kusaga', ',', 'korosho', 'au', 'nazi', 'hayawezi', 'kupuuzwa', '.']\n",
      "\n",
      " Number of Words:  1419\n"
     ]
    }
   ],
   "source": [
    "file=\"april5.txt\"\n",
    "\n",
    "# calling the function and storing the contents in a text variable \n",
    "text = get_document(\"https://www.bbc.com/swahili/60992253\")\n",
    "\n",
    "# calling the store_ document function \n",
    "store_document(doc=text,name=file)\n",
    "\n",
    "#add the words in this file to the total_corpus_words, to keep count of the number of words in the corpus\n",
    "total_corpus_words+=total_words(file)"
   ]
  },
  {
   "cell_type": "code",
   "execution_count": 128,
   "metadata": {},
   "outputs": [
    {
     "data": {
      "text/plain": [
       "111984"
      ]
     },
     "execution_count": 128,
     "metadata": {},
     "output_type": "execute_result"
    }
   ],
   "source": [
    "total_corpus_words"
   ]
  },
  {
   "cell_type": "code",
   "execution_count": 129,
   "metadata": {},
   "outputs": [
    {
     "name": "stdout",
     "output_type": "stream",
     "text": [
      "['Wanaume', 'kutoka', 'jamii', 'ya', 'Warundi', 'waliamua', 'kuoa', 'wanawake', 'waliokuwa', 'wakiishi', 'nao', 'ili', 'mradi', 'tu', 'watoto', 'wao', 'watambulike', 'na', 'waweze', 'kufaidika', 'na', 'misaada', 'inayotolewa', 'na', 'serikali', '.', 'Lakini', 'hawakujua', 'kinachowasubiri', 'katika', 'siku', 'zijazo', '.', 'Madhila', 'ya', 'kuoa', 'kwa', 'ajali', 'ya', 'utambulisho', '.', 'Wanaume', 'wa', 'jamii', 'ya', 'Warundi', 'waliamua', 'kuoa', 'wake', 'wa', 'makabila', 'tofauti', 'ambao', 'ni', 'raia', 'wa', 'Kenya', 'ili', 'mradi', 'tu', 'wajihisi', 'wako', 'nyumbani', 'na', 'pia', 'waweze', 'kutambuliwa', 'na', 'hata', 'kulinda', 'rasimali', 'zao', 'walizokuwa', 'wamezirithi', 'kutoka', 'kwa', 'mababu', 'zao', 'lakini', 'mambo', 'yakawa', 'tofauti', '.', 'Mzee', 'Simon', ',', 'alioa', 'mke', 'na', 'wakajaliwa', 'watoto', 'wawili', 'lakini', 'sasa', 'mke', 'wake', 'amebadilisha', 'majina', 'ya', 'watoto', 'wake', 'na', 'kuwapatia', 'jina', 'la', 'mume', 'wa', 'zamani', 'wa', 'mke', 'wake', 'aliyefariki', 'miaka', '20', 'iliyopita', '.', 'Simon', 'anadai', 'kuwa', 'angekuwa', 'na', 'kitambulisho', 'basi', 'angeenda', 'kuwatafutia', 'vyeti', 'vya', 'kuzaliwa', 'watoto', 'wake', 'mwenyewe', '.', \"''Sasa\", 'hata', 'sijui', 'kwanini', 'hakuniandika', 'kama', 'baba', 'ya', 'watoto', 'wangu', 'na', 'kuandika', 'jina', 'la', 'mtu', 'aliyekufa', 'miaka', 'mingi', 'iliyopita', '.', \"''\", 'Lakini', 'Simon', 'anasema', 'mama', 'ya', 'watoto', 'wake', 'alimueleza', 'baada', 'ya', 'muda', 'kuwa', 'alitaka', 'watoto', 'wake', 'wasijulikane', 'kama', 'ni', 'Warundi', '.', \"''Kwa\", 'vile', 'sina', 'kitambulisho', 'sina', 'njia', 'yoyote', 'ile', 'ya', 'kutafuta', 'haki', '.', \"''\", 'Naye', 'Mzee', 'Yusuf', 'alimuoa', 'mwanamke', 'raia', 'wa', 'Kenya', 'na', 'kwa', 'kiasi', 'fulani', 'alibahatika', 'kwani', 'aliweza', 'kupata', 'angalau', 'kipande', 'kidogo', 'cha', 'shamba', '.', 'Lakini', 'baadaye', 'alipokonywa', '.', 'Lakini', 'uchungu', 'ni', 'kwamba', 'hana', 'uwezo', 'wa', 'kufuatilia', 'kesi', 'hiyo', 'ya', 'shamba', 'kwa', 'sababu', 'anadai', 'hali', 'yake', 'kiafya', 'si', 'njema', 'na', 'hana', 'fedha', 'wala', 'kitambulisho', 'cha', 'kuwasilisha', 'kesi', 'yake', 'katika', 'mahakama', 'nchini', 'Kenya', '.', 'Cha', 'kusikitisha', 'zaidi', 'namba', 'yangu', 'ya', 'simu', 'ya', 'kuhifadhi', 'pesa', 'iko', 'chini', 'ya', 'jina', 'la', 'mke', 'wangu.Nikienda', 'kutoa', 'pesa', 'muhudumu', 'huniuliza', 'mbona', 'wewe', 'ni', 'mwanamume', 'na', 'jina', 'hapa', 'ni', 'la', 'mwanamke', '?', 'Wanawake', 'ambao', 'wazazi', 'wao', 'wa', 'kiume', 'ni', 'Warundi', 'pia', 'wanapitia', 'changamoto', 'tofauti', '.', 'Bi', 'Mwanakombo', 'Yohannes', 'licha', 'ya', 'yeye', 'kuwa', 'Mrundi', 'ameamua', 'kujifunza', 'zaidi', 'lugha', 'ya', 'mama', 'yake', 'ya', 'Kidigo', 'angalau', 'aweze', 'kujihisi', 'mmoja', 'wao', '.', 'Mwanakombo', 'anasema', 'amesoma', 'lakini', 'kupata', 'kazi', 'imekuwa', 'changamoto', 'kubwa', 'katika', 'maisha', 'yake', '.', \"''Hata\", 'kufagia', 'nyumba', 'ya', 'mtu', 'lazima', 'uwe', 'na', 'kitambulisho', '.', \"''\", 'Mtu', 'anawezaje', 'kupata', 'uraia', 'Kenya', '?', 'Mtu', 'anaweza', 'kupata', 'uraia', 'iwapo', 'mmoja', 'ya', 'wazazi', 'wake', 'ni', 'raia', 'wa', 'Kenya', '.', 'Mfano', 'watoto', 'wanaozaliwa', 'kutokana', 'na', 'ndoa', 'kati', 'ya', 'watu', 'wa', 'asili', 'ya', 'Burundi', 'na', 'Wakenya', 'wanapata', 'uraia', 'kutoka', 'kwa', 'mzazi', 'huyo', 'wa', 'Kenya', '.', 'Njia', 'nyingine', 'ni', 'kwa', 'njia', 'ya', 'kujiandikisha', ',', 'ambapo', 'mtu', 'akiingia', 'kihalali', 'nchini', 'Kenya', 'na', 'kuishi', 'kwa', 'zaidi', 'ya', 'miaka', 'saba', 'bila', 'kuwa', 'na', 'hatia', 'yoyote', 'basi', 'anaweza', 'kuomba', 'uraia', '.', 'Njia', 'hiyo', 'pia', 'inaweza', 'kutumika', 'na', 'raia', 'wa', 'kigeni', 'ambao', 'wameolewa', 'au', 'kuoa', 'raia', 'wa', 'Kenya', 'na', 'wamekaa', 'pamoja', 'kwa', 'miaka', 'saba', '.', 'Kulingana', 'na', 'afisa', 'wa', 'shirika', 'la', 'kibinafsi', 'linaloshugulikia', 'haki', 'za', 'kibinadamu', 'la', 'Haki', 'Centre', 'Amos', 'Mwatata', ',', 'changamoto', 'ambayo', 'watu', 'waliotoka', 'mataifa', 'mengine', 'wanakumbana', 'nayo', 'ni', 'ukosefu', 'wa', 'vyeti', 'vya', 'kuonyesha', 'waliingia', 'Kenya', 'kihalali', '.', 'Kwa', 'hivyo', 'hawawezi', 'kupata', 'cheti', 'za', 'maadili', 'mema', 'kuonyesha', 'wameishi', 'Kenya', 'bila', 'kufanya', 'makosa', '.']\n",
      "\n",
      " Number of Words:  486\n"
     ]
    }
   ],
   "source": [
    "file=\"april12.txt\"\n",
    "\n",
    "# calling the function and storing the contents in a text variable \n",
    "text = get_document(\"https://www.bbc.com/swahili/habari-61076409\")\n",
    "\n",
    "# calling the store_ document function \n",
    "store_document(doc=text,name=file)\n",
    "\n",
    "#add the words in this file to the total_corpus_words, to keep count of the number of words in the corpus\n",
    "total_corpus_words+=total_words(file)"
   ]
  },
  {
   "cell_type": "code",
   "execution_count": 130,
   "metadata": {},
   "outputs": [
    {
     "data": {
      "text/plain": [
       "112470"
      ]
     },
     "execution_count": 130,
     "metadata": {},
     "output_type": "execute_result"
    }
   ],
   "source": [
    "total_corpus_words"
   ]
  },
  {
   "cell_type": "code",
   "execution_count": 131,
   "metadata": {},
   "outputs": [
    {
     "name": "stdout",
     "output_type": "stream",
     "text": [
      "['Waridi', 'wa', 'BBC', ':', 'Claudette', 'ambaye', 'anakadiria', 'kuwa', 'na', 'zaidi', 'ya', 'kilo', '200', 'anaishi', 'kwa', 'huzuni', 'kwa', 'sababu', 'ya', 'unene', 'Anne', 'Ngugi', 'BBC', 'Swahili', '13', 'Aprili', '2022', 'Maelezo', 'ya', 'picha', ',', 'Claudette', 'anasema', 'uzito', 'umekua', 'kero', 'kwenye', 'maisha', 'yake', '.', 'Maisha', 'ya', 'kawaida', 'kwa', 'mtazamo', 'wake', 'Claudette', 'Nyirangendo', 'anasema', 'ni', 'kama', 'kukwea', 'mlima', 'kila', 'siku', ',', 'hii', 'inatokana', 'na', 'unene', 'wa', 'mwili', 'wake', 'ambao', 'kwa', 'sasa', 'umelemaza', 'shughuli', 'ambazo', 'zinaweza', 'kuonekana', 'za', 'kawaida', 'ila', 'kwake', 'ni', 'mahangaiko', 'kweli', '.Hajapima', 'uzito', 'wake', 'hivi', 'karibuni', 'lakini', 'kwa', 'sasa', 'anakadiria', 'kuwa', 'na', 'zaidi', 'ya', '200', 'akiwa', 'na', 'miaka', '43', 'mama', 'huyu', 'anaishi', 'na', 'huzuni', 'huku', 'akisema', 'kwamba', 'anatamani', 'sana', 'kupunguza', 'uzito', 'wa', 'mwili', '.', '``', 'Maisha', 'yanakuwa', 'magumu', 'sana', 'kwangu', ',', 'wakati', 'mwengine', 'inaweza', 'kuchukua', 'siku', 'mbili', 'au', 'tatu', 'sijatoka', 'kitandani', ',', 'hii', 'inatokana', 'na', 'ugumu', 'wa', 'kutembea', 'kutokana', 'na', 'uzito', 'wa', 'mwili', 'wangu', '``', 'anasema', 'Claudette', 'Claudette', 'ambaye', 'ni', 'mzaliwa', 'wa', 'Rwanda', 'anazungumza', 'kuhusu', 'maisha', 'ya', 'utotoni', 'na', 'pia', 'katika', 'usichana', 'wake', 'kama', 'yalikuwa', 'mazuri', ',', 'anakumbuka', 'wakati', 'huo', 'hakuwa', 'na', 'unene', 'wa', 'mwili', 'alionao', 'sasa', '.', 'Licha', 'ya', 'kwamba', 'anasema', 'anakula', 'chakula', 'asilia', 'kutoka', 'nchini', 'mwake', 'ambacho', 'kinaliwa', 'na', 'watu', 'wengine', 'kwa', 'mfano', 'ndizi', 'na', 'mboga', 'haelewi', 'ni', 'vipi', 'mwili', 'wake', 'umezidi', 'kunenepa', 'hasa', 'katika', 'kipindi', 'cha', 'miaka', '6', 'iliyopita', '.', 'Unene', 'huu', 'umemsababishia', 'karaha', 'mno', 'hasa', 'anapokumbuka', 'kwamba', 'mojawapo', 'ya', 'sababu', 'za', 'ndoa', 'yake', 'kufika', 'ukingoni', 'inahusiana', 'na', 'uzito', 'wake', '.', 'Kulingana', 'na', 'mama', 'huyu', 'anadhani', 'kwamba', 'mume', 'wake', 'alichoka', 'kuishi', 'na', 'yeye', 'kutokana', 'na', 'uzito', 'wake', 'kwani', 'anasema', 'kwamba', 'ni', 'jambo', 'alilokuwa', 'analizungumzia', 'kila', 'wakati', 'wakiwa', 'kwenye', 'ndoa', 'hio', '``', 'Mimi', 'nilikuwa', 'mama', 'na', 'mke', 'mwema', ',', 'ila', 'ndhani', 'kwamba', 'unene', 'wangu', 'ulikuwa', 'ni', 'kero', 'kwa', 'mume', 'wangu', ',', 'aliishia', 'kuniacha', 'na', 'kuendelea', 'na', 'maisha', 'yake', '.', 'Sasa', 'maisha', 'ni', 'mimi', 'binti', 'yangu', 'ambaye', 'ananisaidia', 'kwa', 'kila', 'jambo', 'hasa', 'kwa', 'kuwa', 'sina', 'uwezo', 'wa', 'kuinama', \"''\", 'anasema', 'Claudette', '.', 'Mwanamke', 'huyu', 'anasema', 'kwamba', 'alikuwa', 'kwenye', 'ndoa', 'ya', 'kwanza', 'kwa', 'miaka', 'mingi', 'lakini', 'mume', 'wake', 'alifariki', 'na', 'akabaki', 'mjane', 'akiwa', 'na', 'watoto', 'wanne', '.', 'Baada', 'ya', 'hapo', 'aliingia', 'kwenye', 'mahusiano', 'mengine', 'yaliYoishia', 'kwenye', 'ndoa', 'mpya', ',', 'walijaaliwa', 'mtoto', 'mmoja', 'kabla', 'ya', 'mume', 'wake', 'wa', 'pili', 'kumpa', 'talaka', '.', 'Alipo', 'sasa', 'anaishi', 'na', 'mwanae', 'na', 'anasema', 'kwamba', 'maisha', 'yamekuwa', 'magumu', 'kwake', '.', 'Changamoto', 'nyengine', 'inatokana', 'na', 'kwamba', 'anatembea', 'kwa', 'shida', 'sana', '.', 'Eneo', 'analoishi', 'vyumba', 'vya', 'kujisaidia', 'viko', 'nje', 'ya', 'nyumba', 'yake', 'na', 'ni', 'vidogo', 'kwake', 'kuingia', 'kutokana', 'na', 'unene', 'wake', ',', 'hali', 'kadhalika', 'hana', 'uwezo', 'wa', 'kuinama', '.', \"''Inanipa\", 'huzuni', 'sana', 'kuona', 'kwamba', 'uzito', 'wangu', 'umenifikisha', 'katika', 'hali', 'ya', 'kwamba', 'hata', 'mambo', 'ambayo', 'ni', 'ya', 'kibinafsi', 'sana', ',', 'kwenye', 'haja', 'zangu', 'nahitaji', 'usaidizi', 'wa', 'mtu', 'hapa', 'namaanisha', 'binti', 'yangu', 'ambaye', 'huniaidia', 'sana', 'kwani', 'siewezi', 'kufika', 'pale', 'chooni', ',', 'siwezi', 'kutosha', 'mlangoni', 'na', 'pia', 'uzito', 'wangu', 'hauniruhusu', 'kuinama', '``', 'anasema', 'Claudette', 'Maelezo', 'ya', 'picha', ',', 'Claudette', 'anasema', 'hata', 'kujisaidia', 'masuala', 'binafsi', 'anashindwa', 'juu', 'ya', 'unene', 'huu', '.', 'Mbali', 'na', 'hayo', 'pia', 'mwanamke', 'huyu', 'anasema', 'kwamba', 'usafi', 'wa', 'mwili', 'wake', 'wakati', 'mwengine', 'unakuwa', 'na', 'changamoto', '.', 'Kuna', 'wakati', 'hawezi', 'kwenda', 'bafuni', 'mara', 'nyingi', 'huoga', 'kwa', 'kujifuta', '.', 'Kwasasa', 'anatafuta', 'mbinu', 'mbali', 'mbali', 'za', 'kuanza', 'kukata', 'uzito', 'wa', 'mwili', 'wake', '.', 'Anasema', 'kwamba', 'shughuli', 'zake', 'nyingi', 'ambazo', 'zinahitaji', 'awe', 'nje', 'ya', 'nyumba', 'yake', 'zimekwama', 'na', 'hajui', 'afanye', 'nini', '.', 'Sonona', 'imekuwa', 'sehemu', 'kubwa', 'ya', 'maisha', 'yake', 'kwa', 'kuwa', 'na', 'mawazo', 'mengi', 'ya', 'unene', 'wake', 'hali', 'kadhalika', 'upweke', 'wa', 'kukaa', 'nyumbani', 'siku', 'baada', 'ya', 'nyingine', 'akiwa', 'hawezi', 'kutembea', 'au', 'kusimama', 'kwa', 'muda', 'mrefu', '.', 'Claudette', 'anatumai', 'kwamba', 'atapata', 'suluhu', 'ya', 'jinsi', 'ya', 'kupunguza', 'unene', 'wa', 'mwili', 'wa', 'mwili', 'wake', '.', 'Je', 'Unene', 'wa', 'mwili', 'husababishwa', 'na', 'nini', '?', 'Kwa', 'mujibu', 'wa', 'shirika', 'la', 'afya', 'duniani', 'na', 'mitandao', 'ya', 'afya', ',', 'Unene', 'wa', 'kupindukia', '(', 'kwa', 'Kiingereza', '``', 'obesity', \"''\", 'hutokana', 'na', 'neno', 'la', 'Kilatini', 'obesitas', ',', 'linalomaanisha', '``', 'gumu', ',', 'nono', 'au', 'nene', \"''\", 'Hii', 'ni', 'hali', 'ambapo', 'mafuta', 'ya', 'ziada', 'ya', 'mwili', 'hulimbikizana', 'hadi', 'kiwango', 'kinachoweza', 'kuathiri', 'afya', 'kwa', 'kiwango', 'kikubwa', 'Kipimo', 'cha', 'mwili', 'kuwa', 'mnene', 'na', 'mzito', 'mno', 'ni', 'uwiano', 'kati', 'ya', 'urefu', 'wa', 'mtu', 'na', 'uzito', 'wake', '.', 'Watalam', 'wa', 'afya', 'wanasema', 'kuwa', 'unene', 'uliopitiliza', 'ni', 'hatari', 'kwa', 'afya', 'na', 'husababisha', 'au', 'kuongeza', 'uwezekano', 'wa', 'magonjwa', 'tofauti', 'yakiwemo', 'Shinikizo', 'la', 'juu', 'la', 'damu', ',', 'Maradhi', 'ya', 'moyo', 'na', 'matatizo', 'ya', 'kupumua', '.', 'Unene', 'wa', 'kupindukia', 'mara', 'nyingi', 'husababishwa', 'na', 'sababu', 'mbalimbali', 'ikiwemo', 'kula', 'chakula', 'kilicho', 'na', 'wanga', 'nyingi', ',', 'Ukosefu', 'wa', 'mazoezi', 'ya', 'mwili', ',', 'na', 'urithi', 'wa', 'jini', 'maalumu', ',', 'ingawa', 'visa', 'vichache', 'vina', 'msingi', 'wa', 'jini', 'pamoja', 'na', 'matatizo', 'ya', 'homoni', '.', 'Chakula', 'bora', 'na', 'mazoezi', 'ya', 'mwili', 'ndiyo', 'njia', 'kuu', 'za', 'kutibu', 'unene', 'wa', 'kupindukia', '.']\n",
      "\n",
      " Number of Words:  758\n"
     ]
    }
   ],
   "source": [
    "file=\"april13.txt\"\n",
    "\n",
    "# calling the function and storing the contents in a text variable \n",
    "text = get_document(\"https://www.bbc.com/swahili/habari-61082501\")\n",
    "\n",
    "# calling the store_ document function \n",
    "store_document(doc=text,name=file)\n",
    "\n",
    "#add the words in this file to the total_corpus_words, to keep count of the number of words in the corpus\n",
    "total_corpus_words+=total_words(file)"
   ]
  },
  {
   "cell_type": "code",
   "execution_count": 132,
   "metadata": {},
   "outputs": [
    {
     "data": {
      "text/plain": [
       "113228"
      ]
     },
     "execution_count": 132,
     "metadata": {},
     "output_type": "execute_result"
    }
   ],
   "source": [
    "total_corpus_words"
   ]
  },
  {
   "cell_type": "code",
   "execution_count": 133,
   "metadata": {},
   "outputs": [
    {
     "name": "stdout",
     "output_type": "stream",
     "text": [
      "['Waridi', 'wa', 'BBC', ':', \"'Picha\", 'zangu', 'za', 'utupu', 'zilivyosambazwa', 'mitandaoni', \"'\", 'Alipoanza', 'mahusiano', 'ya', 'kimapenzi', 'na', 'aliyekuwa', 'barafu', 'ya', 'moyo', 'wake', 'Queenter', 'Wambulwa', 'hakuona', 'dalili', 'za', 'makovu', 'makubwa', 'ya', 'baadaye', 'ambayo', 'mahusiano', 'hayo', 'yangeacha', 'baada', 'ya', 'mapenzi', 'hayo', 'kufika', 'mwisho', 'wake', '.', 'Quenteer', 'ambaye', 'ni', 'mkazi', 'wa', 'jiji', 'la', 'Mombasa', 'nchini', 'Kenya', ',', 'amekuwa', 'kwenye', 'vyombo', 'vya', 'habari', 'nchini', 'Kenya', 'akizungumza', 'kuhusiana', 'na', 'jinsi', 'aliyekuwa', 'mpenzi', 'wake', 'alimgeuka', 'na', 'kuweka', 'picha', 'za', 'utupu', 'wake', 'alizokuwa', 'akimtumia', 'wakati', 'wako', 'kwenye', 'mahusiano', '.', 'Ni', 'sehemu', 'moja', 'ya', 'maisha', 'yake', 'iliyomvuta', 'chini', 'sana', 'lakini', 'pia', 'alitumia', 'uchungu', 'wake', 'katika', 'kuwa', 'mstari', 'wa', 'mbele', 'kuzungumzia', 'kuhusiana', 'na', 'magonjwa', 'ya', 'kiakili', 'na', 'jinsi', 'ambavyo', 'huathiri', 'watu', 'kutokana', 'na', 'sababu', 'moja', 'au', 'nyengine', '.', 'Mahangaiko', 'yalianzaje', 'Alipokuwa', 'Chuo', 'kikuu', ',', 'uhusiano', 'huo', 'wa', 'kimapenzi', 'ulipofika', 'kikomo', ',', 'Quenteer', 'allikiwa', 'bado', 'anapitia', 'maumivu', 'ya', 'kuachwa', 'na', 'pia', 'msongo', 'wa', 'kiakili', '.', '``', 'Wakati', 'huo', 'nilikuwa', 'ninaishi', 'na', 'shangazi', 'yangu', ',', 'nilikuwa', 'naendelea', 'kupona', 'katika', 'maumivu', 'ya', 'Moyo', ',', 'na', 'pia', 'kujikakamua', 'kufanya', 'kazi', 'kwa', 'bidii', 'angalao', 'kujenga', 'jina', 'langu', '``', 'anasema', 'Quenteer', 'Kwa', 'hiyo', 'alikuwa', 'ameanza', 'kujitokeza', 'hadharani', 'kuzungumzia', 'umuhimu', 'wa', 'kuwa', 'mwangalifu', 'na', 'afya', 'ya', 'kiakili', 'hapo', 'hapo', 'chuo', 'kikuu', '.Wakati', 'huo', 'alikuwa', 'hata', 'ameangaziwa', 'kwenye', 'gazeti', 'moja', 'nchini', 'Kenya', 'ambapo', 'alizungumzia', 'athari', 'za', 'afya', 'ya', 'kiakili', ',', 'na', 'harakati', 'zake', 'kama', 'mwanamke', 'kijana', 'chuo', 'kikuu', '.', 'Chanzo', 'cha', 'picha', ',', 'Queenter', 'Wambulwa', 'Kwa', 'hiyo', 'baada', 'ya', 'kuangaziwa', 'kwenye', 'vyombo', 'ya', 'habari', ',', 'haikuchukua', 'muda', 'kwa', 'maoni', 'mengi', 'kuanza', 'kujitokeza', ',', 'Quenteer', 'anakumbuka', 'alikuwa', 'na', 'simu', 'ndogo', 'tu', 'ila', 'alichambua', 'hisia', 'kutoka', 'kwa', 'simu', 'hio', '.', 'moja', 'kati', 'ya', 'jumbe', 'hizo', 'nusura', 'impe', 'mshtuko', 'wa', 'moyo', ',', 'pamoja', 'na', 'kwamba', 'alipokea', 'simu', 'nyingi', 'watu', 'wakimuuliza', 'kuhusu', 'picha', 'za', 'utupu', 'hakuelewa', 'hadi', 'alipoyashuhudia', ',', 'yalimpa', 'tumbojoto', 'alipoziona', 'picha', 'na', 'Video', 'zake', 'akiwa', 'uchi', 'zikiwa', 'katika', 'mitandao', 'tofauti', '.', 'Picha', 'za', 'utupu', 'zasambaa', '``', 'Wakati', 'nilipoangaziwa', 'kwenye', 'gazeti', 'moja', 'mnamo', 'Novemba', '2018', ',', 'yule', 'mpenzi', 'wangu', 'wa', 'zamani', 'alitoa', 'video', 'pamoja', 'na', 'Picha', 'za', 'maumbile', 'yangu', '.', 'Alizituma', 'kwa', 'wazazi', 'wangu', ',', 'kwa', 'wenzangu', 'na', 'kikundi', 'cha', 'WhatsApp', 'cha', 'kanisa', 'ambalo', 'baba', 'yangu', 'alihudumu', 'kama', 'mzee', 'wa', 'kanisa', '.', 'Baba', 'yangu', 'pia', 'ni', 'mkuu', 'wa', 'shule', 'ya', 'upili', '.', 'Mama', 'yangu', 'ni', 'mwanasiasa', '.', 'Kwa', 'hivyo', 'tunatoka', 'katika', 'familia', 'inayoheshimika', 'sana', 'na', 'kuwa', 'mzaliwa', 'wa', 'kwanza', 'na', 'binti', 'pekee', ',', 'ilisababisha', 'vurumai', 'kuu', ',', \"''\", 'Queentah', 'anasema', '.', 'Mwanamke', 'huyu', 'anasema', 'kwamba', 'picha', 'za', 'utupu', 'mikononi', 'mwa', 'aliyekuwa', 'mpenzi', 'wake', ',', 'ni', 'zile', 'alikuwa', 'anamtumia', ',', 'kama', 'njia', 'ya', 'kukoleza', 'mahusiano', ',', 'kando', 'na', 'hayo', 'anasema', 'kwamba', 'walikuwa', 'na', 'mahusiano', 'ya', 'mbali', '.', 'Chanzo', 'cha', 'picha', ',', 'Queenter', 'Wambulwa', 'Kukubaliana', 'na', 'hali', 'Anaeleza', 'kwamba', 'uvujaji', 'wa', 'picha', 'hizo', 'za', 'utupu', 'wake', 'zilimrejesha', 'tena', 'kwenye', 'shimo', 'lenye', 'giza', ',', 'na', 'kumpa', 'mawazo', 'ya', 'kujiua', '.', 'Alilia', 'kwa', 'uchungu', 'asijue', 'cha', 'kufanya', ',', 'aligundua', 'kwamba', 'picha', 'hizo', 'hizo', 'zilikuwa', 'zimevuja', 'hadi', 'kwenye', 'mitandao', 'ya', 'Facebook', '.', 'Katika', 'mtandao', 'huo', 'kulikuwa', 'na', 'eneo', 'ambalo', 'wengi', 'wa', 'watu', 'kutoka', 'kijiji', 'chao', 'walikuwa', 'washirika', ',', 'kumaanisha', 'kwamba', 'watu', 'wengi', 'walizitazama', '.', '``', 'Nilifahamu', 'kwamba', 'wengi', 'katika', 'kijiji', 'changu', 'walikuwa', 'wameona', 'picha', 'hizo', ',', 'wasiwasi', 'wangu', 'ulikuwa', 'Je', 'wazazi', 'wangu', 'wangesema', 'nini', '?', 'Wangenifanyia', 'nini', 'kutokana', 'na', 'aibu', 'hii', \"''\", 'aliwaza', 'Quenteer', 'Mrembo', 'huyu', 'alisema', 'kwamba', ',', 'hisia', 'baada', 'ya', 'picha', 'hizo', 'kusambaa', 'hasa', 'kutoka', 'kwa', 'wazazi', 'wake', 'ziliwapa', 'hofu', ',', 'yaani', 'anasema', 'kwamba', 'hakuamini', 'kwamba', 'angewahi', 'kuwa', 'na', 'mdahalo', 'kuhusu', 'utupu', 'wake', ',', 'na', 'hasa', 'jinsi', 'picha', 'hizo', 'zilipigwa', 'na', 'kuwa', 'mikononi', 'mwa', 'mwanamume', '.', 'ila', 'alijikakamua', 'na', 'kueleza', 'wazazi', 'ukweli', 'wote', '.', '``', 'Kwangu', 'nilihisi', 'kama', 'nimewakosea', 'sana', ',', 'na', 'kwamba', 'hawastahili', 'aibu', 'niliyoizua', '.', 'Ulikuwa', 'wakati', 'mgumu', 'sana', 'kwa', 'Kweli', '.', \"''\", 'Walimpa', 'nafasi', 'ya', 'kujieleza', 'japo', 'ilikuwa', 'ni', 'hali', 'ya', 'aibu', 'walivyomuoelewa', '.', 'Chanzo', 'cha', 'picha', ',', 'Queenter', 'Wambulwa', '``', 'Ilifedhehesha', 'sana', 'na', 'pia', 'iliniathiri', 'kisaikolojia', 'kwa', 'sababu', 'hatuwezi', 'kamwe', 'kurudisha', 'video', 'na', 'picha', 'Kwa', 'hio', 'na', 'lazima', 'niishi', 'na', 'ukweli', 'huo', '.', 'Kwa', 'upande', 'wa', 'wazazi', 'wangu', 'waliniunga', 'mkono', 'na', 'kunilinda', ',', 'wakanirudisha', 'kwa', 'matibabu', ',', 'na', 'kunishawishi', 'nizingatie', 'masomo', 'yangu', '.', ',', \"''\", 'anasema', 'Queentah', '.', 'Quenteer', 'alilelewa', 'katika', 'familia', 'iliyompenda', 'sana', ',', 'kando', 'na', 'kwamba', 'wazazi', 'walihimiza', 'nidhamu', 'na', 'maswala', 'ya', 'kanisa', 'ndio', 'yalipewa', 'kipaumbele', '.', 'Anasema', 'kwamba', 'hata', 'yeye', 'na', 'kaka', 'zake', 'hawakuwa', 'na', 'ruhusa', 'ya', 'kusikiliza', 'au', 'kuzitizama', 'nyimbo', 'za', 'kimapenzi', 'au', 'zenye', 'maadili', 'ya', 'dunia', '.', 'Queenter', 'anaongeza', 'kwamba', 'walikuwa', \"'watoto\", 'washamba', \"'\", 'kwani', 'hawakuwa', 'na', 'hata', 'televisheni', 'nyumbani', 'na', 'basi', 'ulimwengu', 'kwao', 'ulikuwa', 'mdogo', 'sana', 'na', 'hawakuelewa', 'kuhusiana', 'na', 'uovu', 'mwingi', 'uliopo', '.', 'Kutokana', 'na', 'hayo', 'anasema', 'ilikuwa', 'rahisi', 'kutekwa', 'kimapenzi', ',', 'kwani', 'alikutana', 'na', 'mwanamume', 'ambaye', 'alimnunulia', 'chochote', 'alichokitamani', ',', 'na', 'hata', 'simu', 'ya', 'mkononi', ',', 'kifaa', 'ambacho', 'kwao', 'kilikuwa', 'marufuku', '.', 'Kwa', 'hio', 'anaona', 'uhuru', 'alioupata', 'ulilegeza', 'maadili', 'ya', 'nyumbani', '``', 'Wajua', 'Baba', 'hakukubali', 'niwe', 'na', 'simu', '.', 'au', 'hata', 'kutembea', 'nje', '?', 'Kwa', 'hio', 'nilipokutana', 'na', 'jamaa', 'huyu', 'alinionyesha', 'ulimwengu', ',', 'alikuwa', 'ananipeleka', 'sehemu', 'zilizonipumbaza', ',', 'hata', 'alikuwa', 'wa', 'kwanza', 'kunipeleka', 'maduka', 'makubwa', 'makubwa', '(', 'supermarket', ')', '.', '``', 'Quenteer', 'anasema', '.', 'Chanzo', 'cha', 'picha', ',', 'Queenter', 'Wambulwa', 'Ila', 'anasema', 'kwamba', 'licha', 'ya', 'kuwa', 'na', 'mpenzi', 'aliyependa', ',', 'bado', 'alikuwa', 'ameona', 'bendera', 'nyekundu', 'za', 'mpenzi', 'aliyekuwa', 'na', 'wapenzi', 'wengine.na', 'hatimaye', 'mapenzi', 'yao', 'yalifika', 'kikomo', 'baada', 'ya', 'kumfumania', '.', 'Baada', 'ya', 'mahusiano', 'kuisha', 'ndipo', 'msongo', 'wa', 'mawazo', 'ulipoanza', 'na', 'akawa', 'anapambana', 'na', 'magonjwa', 'ya', 'kiakili', '.', 'Nyumbani', 'changamoto', 'zilikuweko', ',', 'baba', 'na', 'mama', 'pia', 'walikabiliana', 'na', 'watu', 'waliowahukumu', 'kutokana', 'na', 'kusambaa', 'kwa', 'picha', 'za', 'binti', 'wao', '.', 'Kuna', 'wale', 'waliohoji', 'ni', 'wazazi', 'ambao', 'wanamlea', 'mwana', 'kwa', 'njia', 'zisizofaa', '.', 'Kwa', 'mwanadada', 'huyu', 'anasema', 'kwamba', 'kosa', 'lake', 'ilikuwa', 'kuamini', 'mpenzi', 'wake', 'hadi', 'kiwango', 'cha', 'kumtumia', 'picha', 'za', 'utupu', 'wake', '.', 'Anasema', 'kwamba', 'alihisi', 'kusalitiwa', '.', '``', 'Licha', 'ya', 'kwamba', 'nilimsamehe', ',', 'sijasahau', 'na', 'kwa', 'hio', 'natumia', 'kila', 'nafasi', 'kuzungumzia', 'hali', 'hii', 'kama', 'njia', 'ya', 'kuelimisha', 'umma', ',', 'ilikuwa', 'salama', 'mtu', 'asitumie', 'yeyote', 'picha', 'za', 'ndani', 'huenda', 'siku', 'moja', 'zikavuja', 'hata', 'kwa', 'bahati', 'mbaya', ',', 'ni', 'muhimu', 'kuwa', 'na', 'uangalifu', '``', 'Quenteer', 'alisema', 'Alirudi', 'shuleni', 'kusomea', 'saikolojia', 'na', 'ushauri', 'nasaha', 'na', 'alihitimu', 'mwaka', 'jana', 'kama', 'mwanasaikolojia', 'aliyeidhinishwa', 'kutoa', 'huduma', 'hasa', 'kwa', 'maswala', 'yanayohusu', 'afya', 'ya', 'kiakili', ',', 'msongo', 'wa', 'mawazo', 'na', 'kadhalika', '.', 'Quenteer', 'ni', 'mwandishi', 'wa', 'vitabu', 'viwiili', ',', 'kitabu', 'kimoja', 'kinaangazia', 'simulizi', 'za', 'jinsi', 'ya', 'kusambazwa', 'kwa', 'picha', 'za', 'utupu', 'wake', 'zilimpa', 'aibu', 'na', 'kupelekea', 'afya', 'yake', 'ya', 'kiakili', 'kuathirika', ',', 'na', 'pia', 'jinsi', 'alivyojinasua', '.', 'Kitabu', 'Cha', 'pili', 'kinaangazia', 'afya', 'ya', 'kiakili', 'na', 'jinsi', 'ya', 'kukabiliana', 'na', 'hali', 'hio', '.', 'Sheria', 'inasema', 'nini', 'kuhusu', 'usambazaji', 'wa', 'picha', 'za', 'aibu', '?', 'Sheria', 'ya', 'matumizi', 'mabaya', 'ya', 'utandawazi', 'na', 'makosa', 'ya', 'mtandao', 'ya', 'mwaka', '2018', 'nchini', 'Kenya', ',', 'inasema', 'lengo', 'kuu', 'la', 'Sheria', 'hiyo', 'ni', 'kuweka', 'masharti', 'ya', 'makosa', 'yanayohusiana', 'na', 'mifumo', 'ya', 'kompyuta', ';', 'kuwezesha', 'ugunduzi', ',', 'upigaji', 'marufuku', ',', 'uzuiaji', 'kwa', 'wakati', 'unaofaa', '.', 'Sheria', 'hiyo', 'imefanya', 'kuwa', 'hatia', 'kutuma', 'picha', 'fulani', 'kwenye', 'mtandao', 'bila', 'idhini', 'inayokusudiwa', 'kusababisha', 'mfadhaiko', 'wa', 'kihisia', 'unaojulikana', 'kama', \"'Kisasi\", 'cha', 'ponografia', \"'\", '.', 'Huu', 'ni', 'ushiriki', 'wa', 'nyenzo', 'za', 'kibinafsi', ',', 'za', 'ngono', ',', 'ama', 'picha', 'au', 'video', ',', 'za', 'mtu', 'mwingine', 'bila', 'ridhaa', 'yake', 'na', 'kwa', 'madhumuni', 'ya', 'kusababisha', 'aibu', 'au', 'dhiki', '.', 'Picha', 'hizo', 'wakati', 'mwingine', 'huambatanishwa', 'na', 'maelezo', 'ya', 'binafsi', 'kuhusu', 'mhusika', ',', 'ikijumuisha', 'jina', 'lao', 'kamili', ',', 'anwani', 'na', 'viungo', 'vya', 'wasifu', 'wao', 'wa', 'mitandao', 'ya', 'kijamii', '.', 'Sheria', 'chini', 'ya', 'kifungu', 'cha', '37', 'ambacho', 'kinaunda', 'kosa', 'kinaeleza', 'mengi', 'kuhusu', 'mtu', 'akipatikana', 'na', 'hatia', 'Vile', 'vile', 'Ulimwenguni', 'nchi', 'mbali', 'mbali', 'kimataifa', 'zina', 'sheria', 'kali', 'kuhusiana', 'na', 'wahalifu', 'wanaosambaza', 'picha', 'za', 'utupu', 'za', 'watu', 'bila', 'idhini', 'yao', ',', 'hali', 'kadhalika', 'mikakati', 'ya', 'jinsi', 'ya', 'kuwasaidia', 'waathiriwa', 'wanaojipata', 'wakiwa', 'kwenye', 'mitandao', 'hasa', 'afya', 'yao', 'ya', 'kiakili', '.']\n",
      "\n",
      " Number of Words:  1254\n"
     ]
    }
   ],
   "source": [
    "file=\"april21.txt\"\n",
    "\n",
    "# calling the function and storing the contents in a text variable \n",
    "text = get_document(\"https://www.bbc.com/swahili/habari-61167231\")\n",
    "\n",
    "# calling the store_ document function \n",
    "store_document(doc=text,name=file)\n",
    "\n",
    "#add the words in this file to the total_corpus_words, to keep count of the number of words in the corpus\n",
    "total_corpus_words+=total_words(file)"
   ]
  },
  {
   "cell_type": "code",
   "execution_count": 134,
   "metadata": {},
   "outputs": [
    {
     "data": {
      "text/plain": [
       "114482"
      ]
     },
     "execution_count": 134,
     "metadata": {},
     "output_type": "execute_result"
    }
   ],
   "source": [
    "total_corpus_words"
   ]
  },
  {
   "cell_type": "code",
   "execution_count": 135,
   "metadata": {},
   "outputs": [
    {
     "name": "stdout",
     "output_type": "stream",
     "text": [
      "['Kenya', 'ilikuwa', 'imetawaliwa', 'na', 'chama', 'tawala', 'cha', 'KANU', 'tangu', 'ilipojipatia', 'uhuru', 'wake', '1963', '.', 'Rais', 'Mwai', 'Kibaki', 'alianzisha', 'chama', 'chake', 'cha', 'Democratic', 'Pary', 'DP', 'baada', 'ya', 'kutofautiana', 'kisiasa', 'na', 'aliyekuwa', 'rais', 'Daniel', 'Toroitich', 'Arap', 'Moi', 'kabla', 'ya', 'kuanza', 'safari', 'yake', 'ya', 'kutaka', 'kuwa', 'rais', 'wa', 'Kenya', '.', 'Baada', 'ya', 'kuchukua', 'madaraka', 'wakati', 'muhimu', 'wa', 'taifa', 'hilo', 'ambapo', 'ilionekana', 'kama', 'mabadiliko', 'mapya', 'nchini', 'humo', ',', 'akiwa', 'kiongozi', 'aliyechaguliwa', 'kidemokrasia', 'akiungwa', 'mkono', 'kitaifa', 'na', 'kimataifa', '.', 'Huku', 'utawala', 'wake', 'ukizongwa', 'na', 'masuala', 'ya', 'ufisadi', ',', 'Kibaki', 'alianzisha', 'mabadiliko', 'ya', 'kikatiba', ',', 'kuleta', 'elimu', 'ya', 'msingi', 'ya', 'bila', 'malipo', 'na', 'kufanya', 'juhudi', 'kuinua', 'sekta', 'ya', 'afya', 'iliyozorota', '.', 'Chanzo', 'cha', 'picha', ',', 'Getty', 'Images', 'Maisha', 'yake', 'ya', 'utotoni', 'Akizaliwa', 'tarehe', '15', 'mwezi', 'Novemba', '1931', ',', 'Mwai', 'Kibaki', 'alikuwa', 'kitinda', 'mimba', 'cha', 'familia', 'ya', 'watoto', 'wanane', 'kutoka', 'kwa', 'mkulima', 'kwa', 'jina', 'Kibaki', 'Githinji', 'na', 'mkewe', 'Teresia', 'Wanjiku', '.', 'Akiwa', 'mzaliwa', 'kutoka', 'kabila', 'kubwa', 'la', 'Wakikuyu', ',', 'aliishi', 'katika', 'kijiji', 'kwa', 'jina', 'Gatuyaini', 'katika', 'kaunti', 'ya', 'Nyeri', '.', 'Alionyesha', 'uwezo', 'wa', 'kipekee', 'wa', 'kusoma', 'wakati', 'wa', 'miaka', 'ya', 'shule', 'ya', 'msingi', 'na', 'alitumwa', 'kujiunga', 'na', 'Shule', 'ya', 'Upili', 'ya', \"Man'gu\", ',', 'moja', 'ya', 'shule', 'bora', 'za', 'upili', 'nchini', 'Kenya', '.', 'Kibaki', 'alisomea', 'katika', 'shule', 'hiyo', 'kati', 'ya', 'mwaka', '1947', 'na', '1950', '.', 'Matokeo', 'mazuri', 'yalimsaidia', 'kupata', 'ufadhili', 'wa', 'masomo', 'ambapo', 'alijiunga', 'na', 'chuo', 'kikuu', 'cha', 'Makerere', 'nchini', 'Uganda', 'ambapo', 'alisomea', 'Uchumi', ',', 'sayansi', 'ya', 'kisiasa', 'na', 'historia', '.', 'Uongozi', 'wake', 'ulionekana', 'alipokuwa', 'mwenyekiti', 'wa', 'muungano', 'wa', 'wanafunzi', 'katika', 'chuo', 'kikuu', 'cha', 'Makerere', 'kabla', 'ya', 'kuhitimu', 'na', 'shahada', '1955', '.', 'Baada', 'ya', 'kuhudumu', 'kama', 'naibu', 'meneja', 'wa', 'kampuni', 'ya', 'mafuta', 'ya', 'Shell', 'nchini', 'Uganda', ',', 'Mwai', 'Kibaki', 'alipata', 'ufadhili', 'wa', 'kusoma', 'katika', 'chuo', 'cha', 'uchumi', 'cha', 'London', '.', 'Alihitimu', 'na', 'shahada', 'ya', 'Uchumi', 'na', 'ufadhili', 'wa', 'umma', '{', 'Public', 'Finance', '}', ',', 'na', 'alitarajiwa', 'kutumia', 'maarifa', 'yake', 'nchini', 'mwake', 'aliporudi', '1958', '.', 'Safari', 'yake', 'ya', 'kisiasa', 'Mwai', 'Kibaki', 'alikubali', 'wadhfa', 'wa', 'mhadhiri', 'msaidizi', 'katika', 'somo', 'la', 'uchumi', 'katika', 'chuo', 'kikuu', 'cha', 'Makerere', '.', 'Mwaka', '1960', ',', 'alijiuzulu', 'wadhfa', 'wake', 'na', 'kujiunga', 'na', 'chama', 'cha', 'KANU', '{', 'Kenyan', 'African', 'National', 'Union', '}', 'chama', 'tawala', 'nchini', 'Kenya', 'wakati', 'huo', '.', 'Mabadiliko', 'kadhaa', 'miaka', 'michache', 'iliofuata', 'yaliisaidia', 'Kenya', 'kujipatia', 'Uhuru', 'wake', 'kutoka', 'kwa', 'Uingereza', 'na', 'miaka', 'mitatu', 'baadaye', 'Mwai', 'Kibaki', 'alikumbatia', 'dunia', 'ya', 'uanasiasa', '.', 'Mwaka', '1963', ',', 'alichaguliwa', 'katika', 'bunge', 'la', 'Kenya', 'na', 'kuendelea', 'kuhudumu', 'katika', 'nyadhfa', 'tofauti', 'hadi', 'alipoteuliwa', 'kuwa', 'waziri', 'wa', 'fedha', 'na', 'mipango', 'ya', 'kiuchumi', 'na', 'mwanzilishi', 'wa', 'taifa', 'la', 'Kenya', 'marehemu', 'mzee', 'Jomo', 'Kenyatta', 'mwaka', '1969', '.', 'Baada', 'ya', 'kujipatia', 'uzoefu', 'na', 'kujiwekea', 'sifa', 'nzuri', 'katika', 'miaka', 'yake', 'ya', 'kwanza', 'katika', 'siasa', 'na', 'serikali', ',', 'Mwai', 'Kibaki', 'aliteuliwa', 'kama', 'Makamu', 'wa', 'Rais', 'chini', 'ya', 'uongozi', 'wa', 'rais', 'Katika', 'baraza', 'la', 'mawaziri', 'la', 'rais', 'Moi', ',', 'Kibaki', 'alikabidhiwa', 'wadhfa', 'wa', 'Fedha', '.', 'Chanzo', 'cha', 'picha', ',', 'Getty', 'Images', 'Kama', 'waziri', 'wa', 'fedha', 'Kibaki', 'alianzisha', 'mikakati', 'na', 'mabadiliko', 'ambayo', 'yaliiletea', 'Kenya', 'maendeleo', '.', 'Mwaka', '1982', 'alikabidhiwa', 'wadhfa', 'wa', 'waziri', 'wa', 'Masuala', 'ya', 'ndani', '.', 'Mfumo', 'wa', 'Moi', 'wa', 'Kuongoza', 'uliendelea', 'kuwa', 'ule', 'wa', 'ukandamizaji', 'na', 'alibadilisha', 'kifungu', 'cha', 'katiba', 'na', 'kukifanya', 'chama', 'tawala', 'cha', 'KANU', 'kuwa', 'chama', 'pekee', 'cha', 'kisiasa', '.', 'Moi', 'alichukua', 'madaraka', 'yote', ',', 'na', 'kumuondoa', 'Kibaki', 'kama', 'makamu', 'wa', 'rais', 'kabla', 'ya', 'kumpeleka', 'katika', 'wadhfa', 'wa', 'waziri', 'wa', 'Afya', '1988', 'hatua', 'ilioonekana', 'na', 'wengi', 'kama', 'kumshusha', 'madaraka', '.', 'Tofauti', 'ya', 'kimawazo', 'kati', 'ya', 'Moi', 'na', 'Kibaki', 'ilipelekea', 'msomi', 'huyo', 'wa', 'chuo', 'kikuu', 'cha', 'Makerere', 'kujiuzulu', 'kutoka', 'KANU', '1991', '.', 'Wakati', 'huo', 'raia', 'walianza', 'kulalamika', 'kuhusu', 'ukandamizaji', 'uliokuwepo', 'hatua', 'iliozaa', 'upinzani', 'mkali', 'dhidi', 'ya', 'rais', 'Moi', 'na', 'kumfanya', 'kubadili', 'kifungu', 'cha', 'sheria', 'ambayo', 'ilikuwa', 'imekihalalisha', 'chama', 'cha', 'KANU', 'kama', 'chama', 'cha', 'pekee', '.', 'Kibaki', 'alijiuzulu', 'na', 'kuunda', 'chama', 'chake', 'cha', 'Democratic', 'Party', 'DP', '.', 'Hatahivyo', 'utawala', 'wa', 'Moi', 'uliendelea', 'kuwa', 'thabiti', 'licha', 'ya', 'taifa', 'kuonekana', 'kutoa', 'upinzani', 'mkali', 'dhidi', 'ya', 'uongozi', 'wake', '.', 'Alidaiwa', 'kutumia', 'mbinu', 'za', 'kikabila', 'na', 'ghasia', 'kusalia', 'madarakani', 'katika', 'chaguzi', 'mbili', 'zilizofuata', '.', 'Huku', 'Wakenya', 'wakitafuta', 'mtu', 'ambaye', 'angewaunganisha', 'ili', 'kumuondoa', 'Moi', 'madarakani', ',', 'Kibaki', 'alijiunga', 'na', 'viongozi', 'wengine', 'waliokuwa', 'upinzani', 'kama', 'vile', 'Raila', 'Odinga', ',', 'Michael', 'Kijana', 'Wamalwa', 'na', 'Charity', 'Ngilu', 'ili', 'kuunda', 'muungano', 'wa', 'upinzani', 'kwa', 'jina', 'National', 'Rainbow', 'Coalition', 'NARC', '.', 'Kibaki', 'alichaguliwa', 'kuwa', 'mgombea', 'wa', 'urais', 'wa', 'Muungano', 'huo', 'na', 'mwaka', '2002', ',', 'alishinda', 'uchaguzi', 'wa', 'urais', 'baada', 'ya', 'viongozi', 'kadhaa', 'kuondoka', 'KANU', 'na', 'kuhamia', 'katika', 'chama', 'hicho', 'cha', 'upinzani', '.', 'Ushindi', 'wake', 'ulikaribishwa', 'kwa', 'nderemo', 'na', 'vigelegele', 'na', 'matumaini', 'makubwa', 'ya', 'kuboreka', 'kwa', 'maisha', 'ya', 'usoni', 'yalionekana', '.', 'Alifanya', 'mabadiliko', 'muhimu', 'ya', 'kiuchumi', 'wakati', 'wa', 'muhula', 'wake', 'wa', 'kwanza', 'kama', 'rais', '.', 'Hatahivyo', 'jinamizi', 'la', 'ufisadi', 'ambalo', 'Kibaki', 'alikuwa', 'ameahidi', 'kukabiliana', 'nalo', 'wakati', 'wa', 'kampeni', 'zake', 'za', 'uchaguzi', 'lilisalia', 'kumwinda', '.', 'Baadhi', 'ya', 'viongozi', 'wa', 'upinzani', 'ambao', 'waliungana', 'naye', 'walidai', 'kwamba', 'Kibaki', 'alienda', 'kinyume', 'na', 'makubaliano', 'yao', '.', 'Wakiongozwa', 'na', 'Raila', 'Odinga', 'viongozi', 'hao', 'walibadilika', 'na', 'kuwa', 'mwiba', 'katika', 'serikali', 'ya', 'Kibaki', 'na', 'kumfanya', 'rais', 'huyo', 'kuwafuta', 'kazi', '.', 'Hatua', 'yake', 'ilipelekea', 'kuundwa', 'kwa', 'upinzani', 'ambao', 'ulimtoa', 'kijasho', 'katika', 'uchaguzi', 'wa', 'urais', 'wa', 'mwaka', '2007', 'uliokumbwa', 'na', 'utata', 'na', 'ghasia', 'za', 'baada', 'ya', 'uchaguzi', '.', 'Takriban', 'raia', '1000', 'walidaiwa', 'kuuawa', 'katika', 'ghasia', 'za', 'baada', 'ya', 'uchaguzi', 'huo', 'ambao', 'upinzani', 'ukiongozwa', 'na', 'Raila', 'Odinga', 'uliandamana', 'kupinga', 'matokeo', 'yake', '.', 'Na', 'kufuatia', 'ghasia', 'hizo', 'jamii', 'ya', 'kimataifa', 'ikiongozwa', 'na', 'mpatanishi', 'mkuu', 'Koffi', 'Annan', 'aliyeshirikiana', 'na', 'waliokuwa', 'marais', 'wa', 'Tanzania', 'Marehemu', 'Benjamin', 'Mkapa', 'na', 'Jakaya', 'Kikwete', 'waliingilia', 'kati', 'na', 'hatimaye', 'wakabuni', 'serikali', 'ya', 'muungano', 'ambapo', 'huku', 'rais', 'Kibaki', 'akisalia', 'kuwa', 'kiongozi', 'wa', 'taifa', ',', 'Raila', 'Odingwa', 'alipatiwa', 'wadhfa', 'wa', 'waziri', 'mkuu', '.', 'Na', 'baada', 'ya', 'muhula', 'wake', 'kukamilika', '2013', 'alimpatia', 'madaraka', 'mrithi', 'wake', 'Uhuru', 'Kenyatta', 'aliyeibuka', 'mshindi', 'wa', 'uchaguzi', 'mkuu', 'wa', 'urais', 'mwaka', 'huo', '.']\n",
      "\n",
      " Number of Words:  927\n"
     ]
    }
   ],
   "source": [
    "file=\"april22_1.txt\"\n",
    "\n",
    "# calling the function and storing the contents in a text variable \n",
    "text = get_document(\"https://www.bbc.com/swahili/habari-56455340\")\n",
    "\n",
    "# calling the store_ document function \n",
    "store_document(doc=text,name=file)\n",
    "\n",
    "#add the words in this file to the total_corpus_words, to keep count of the number of words in the corpus\n",
    "total_corpus_words+=total_words(file)"
   ]
  },
  {
   "cell_type": "code",
   "execution_count": 136,
   "metadata": {},
   "outputs": [
    {
     "data": {
      "text/plain": [
       "115409"
      ]
     },
     "execution_count": 136,
     "metadata": {},
     "output_type": "execute_result"
    }
   ],
   "source": [
    "total_corpus_words"
   ]
  },
  {
   "cell_type": "code",
   "execution_count": 137,
   "metadata": {},
   "outputs": [
    {
     "name": "stdout",
     "output_type": "stream",
     "text": [
      "['Uhuru', 'anamuomboleza', 'mtangulizi', 'wake', 'kama', 'kiongozi', 'ambaye', 'alileta', 'ukuaji', 'wa', 'kiuchumi', ',', 'demokrasia', 'na', 'kuimarisha', 'hali', 'ya', 'uchumi', 'ya', 'Wakenya', '.', 'Uhuru', 'anamkumbuka', 'kwa', 'jukumu', 'lake', 'la', 'kupatikana', 'kwa', 'katiba', 'mpya', 'ya', 'mwaka', '2010', 'na', 'kuongoza', 'uidhinishaji', 'wake', '.', 'Amesema', 'kwamba', 'bender', 'azote', 'katika', 'majumba', 'ya', 'umma', ',', 'wizara', 'na', 'balozi', 'zote', 'duniani', 'zitasalia', 'nusu', 'mlingoti', 'hadi', 'pale', 'atakapozikwa', '.', 'Chanzo', 'cha', 'picha', ',', 'Getty', 'Images', 'Na', 'kufuatia', 'tangazo', 'la', 'kifo', 'chake', 'viongozi', 'mbali', 'mbali', 'nchini', 'Kenya', 'wameanza', 'kutuma', 'risala', 'za', 'rambirambi', 'kwa', 'famili', 'ya', 'Mwai', 'Kibaki', '.', 'Kiongozi', 'wa', 'upinzani', 'nchini', 'Kenya', 'Raila', 'Odinga', 'amesema', 'kwamba', \"'alipata\", 'fursa', 'ya', 'kufanya', 'kazi', 'naye', 'kama', 'mbunge', 'akiwa', 'katika', 'upande', 'wa', 'upinzani', ',', 'kama', 'waziri', 'wa', 'nguvu', 'kazi', 'na', 'barabara', 'katika', 'serikali', 'yake', 'na', 'baadaye', 'kama', 'waziri', 'mkuu', 'katika', 'serikali', 'ya', 'muungano', '.', 'Raila', 'Odinga', ':', '``', 'Asubuhi', 'hii', 'tumempoteza', 'rais', 'wa', 'tatu', 'wa', 'Kenya', ',', 'alikua', 'mmoja', 'wa', 'wapigania', 'uhuru', 'wa', 'nchi', 'hii', ',', 'ametumikia', 'nchi', 'hii', 'kwa', 'miaka', 'mingi', ',', 'kwa', 'uwazi', 'na', 'utendaji', 'kazi', 'mzuri', '.', 'Nilipata', 'nafasi', 'ya', 'kufanya', 'kazi', 'na', 'Mwai', 'Kibaki', ',', 'kwanza', 'kama', 'mbunge', 'wa', 'upinzani', ',', 'pia', 'kama', 'mmoja', 'wa', 'mawaziri', 'wake', ',', 'na', 'baadae', 'kama', 'waziri', 'mkuu', '.', \"''\", 'Aliyekuwa', 'wakati', 'mmoja', 'waziri', 'wa', 'fedha', 'Musalia', 'Mudavadi', 'alichapisha', 'ujumbe', 'wake', 'maombolezi', 'katika', 'twitter', '.', 'Balozi', 'wa', 'Marekani', 'nchini', 'Kenya', 'Eric', 'Kneedler', 'alihuzunishwa', 'na', 'kifo', 'cha', 'ghafla', 'cha', 'rais', 'Mwai', 'Kibaki', '.', 'Alituma', 'risala', 'za', 'rambirambi', 'kwa', 'jamii', ',', 'Wakenya', 'na', 'rafiki', 'wa', 'mzee', 'Kibaki', 'wakati', 'huu', 'mgumu', '.']\n",
      "\n",
      " Number of Words:  245\n"
     ]
    }
   ],
   "source": [
    "file=\"april22_2.txt\"\n",
    "\n",
    "# calling the function and storing the contents in a text variable \n",
    "text = get_document(\"https://www.bbc.com/swahili/habari-61185553\")\n",
    "\n",
    "# calling the store_ document function \n",
    "store_document(doc=text,name=file)\n",
    "\n",
    "#add the words in this file to the total_corpus_words, to keep count of the number of words in the corpus\n",
    "total_corpus_words+=total_words(file)"
   ]
  },
  {
   "cell_type": "code",
   "execution_count": 138,
   "metadata": {},
   "outputs": [
    {
     "data": {
      "text/plain": [
       "115654"
      ]
     },
     "execution_count": 138,
     "metadata": {},
     "output_type": "execute_result"
    }
   ],
   "source": [
    "total_corpus_words"
   ]
  },
  {
   "cell_type": "code",
   "execution_count": 139,
   "metadata": {},
   "outputs": [
    {
     "name": "stdout",
     "output_type": "stream",
     "text": [
      "['Mwai', 'Kibaki', ':', 'Alivyowapa', 'matumaini', 'na', 'kuwakatisha', 'tamaa', 'Wakenya', 'Mwai', 'Kibaki', ',', 'rais', 'wa', 'tatu', 'wa', 'Kenya', ',', 'ambaye', 'amefariki', 'dunia', 'akiwa', 'na', 'umri', 'wa', 'miaka', '90', ',', 'atakumbukwa', 'kwa', 'kukomesha', 'uongozi', 'wa', 'chama', 'tawala', 'cha', 'zamani', ',', 'lakini', 'urithi', 'wake', 'umegubikwa', 'na', 'ghasia', 'zilizofuatia', 'uchaguzi', 'wa', '2007', 'ambapo', 'zaidi', 'ya', 'watu', '1,200', 'walifariki', '.', 'Akiwa', 'amefunzwa', 'kuwa', 'mwanauchumi', ',', 'Kibaki', 'alianzisha', 'mapinduzi', 'alipoingia', 'madarakani', 'kwa', 'mara', 'ya', 'kwanza', 'mwaka', '2002', 'akiwa', 'mkuu', 'wa', 'muungano', 'mkuu', 'wa', 'vyama', 'vya', 'upinzani', '.', 'Urais', 'wake', 'uliashiria', 'mwisho', 'wa', 'takriban', 'miongo', 'minne', 'ya', 'kutawaliwa', 'na', 'chama', 'cha', 'Kanu', '-', 'ambacho', 'alikuwa', 'miongoni', 'mwa', 'viongozi', 'wake', 'kwa', 'takriban', 'miaka', '30', '.', 'Kibaki', 'alichukua', 'hatua', 'za', 'kuukomboa', 'uchumi', ',', 'na', 'hivyo', 'kuchochea', 'ukuaji', 'wa', 'haraka', 'wa', 'uchumi', 'katika', 'muhula', 'wake', 'wa', 'kwanza', 'madarakani', '.', 'Hali', 'mpya', 'ya', 'kujivunia', 'na', 'kuhusishwa', 'iliipa', 'nchi', 'msukumo', 'na', 'Wakenya', 'wenye', 'bidii', 'walianzisha', 'biashara', 'kote', 'nchini', 'huku', 'miundomsingi', 'iliyoboreshwa', 'ikifungua', 'masoko', 'mapya', '.', 'Kibaki', 'pia', 'alianzisha', 'elimu', 'ya', 'bure', 'ya', 'shule', 'ya', 'msingi', ',', 'na', 'kubadilisha', 'maisha', 'ya', 'takriban', 'watoto', 'milioni', 'moja', 'ambao', 'hawangeenda', 'shule', '.', 'Ushindi', 'wake', 'mkubwa', 'dhidi', 'ya', 'mgombea', 'wa', 'Kanu', 'Uhuru', 'Kenyatta', ',', 'ambaye', 'sasa', 'ni', 'rais', 'wa', 'Kenya', ',', 'uliwakilisha', 'mwanzo', 'mpya', 'kwa', 'nchi', 'hiyo', '.', 'Miaka', 'ya', 'utawala', 'wa', 'Kanu', 'iliambatana', 'na', 'vitisho', 'vya', 'wapinzani', ',', 'kuvurugwa', 'kwa', 'taasisi', 'kulimaanisha', 'kuiweka', 'serikali', 'katika', 'udhibiti', 'na', 'ufisadi', 'uliokithiri', '.', '``', 'Ninaamini', 'kuwa', 'serikali', 'ipo', 'kwa', 'ajili', 'ya', 'kuwatumikia', 'watu', ',', 'si', 'watu', 'wanaotumikia', 'serikali', ',', \"''\", 'Kibaki', 'aliuambia', 'umati', 'uliokuwa', 'na', 'furaha', 'wakati', 'wa', 'kuapishwa', 'kwake', 'mwaka', '2002', '.', 'Chanzo', 'cha', 'picha', ',', 'AFP', 'Maelezo', 'ya', 'picha', ',', 'akriban', 'watu', '1,200', 'waliuawa', 'wakati', 'wa', 'machafuko', 'ya', 'uchaguzi', 'wa', 'mwaka', '2007', '.', 'Kusonga', 'mbele', 'miaka', 'mitano', 'baadaye', 'na', 'kuapishwa', 'kwake', 'haraka', 'baada', 'ya', 'kura', 'ya', 'maoni', 'yenye', 'utata', 'huku', 'mapigano', 'yakizuka', 'kote', 'nchini', 'yakiashiria', 'kuporomoka', 'kwa', 'matumaini', 'hayo', 'ya', 'awali', '.', 'Katika', 'muhula', 'wake', 'wa', 'kwanza', ',', 'Kibaki', 'kama', 'mkuu', 'wa', 'muungano', 'wa', 'makabila', 'mbalimbali', 'alipata', 'nafasi', 'ya', 'kuponya', 'migawanyiko', 'nchini', 'humo', ',', 'lakini', 'ghasia', 'zilizofuatia', 'uchaguzi', 'wa', 'Desemba', '2007', 'zilifichua', 'mpasuko', 'unaoendelea', '.', 'Takriban', 'watu', '1,200', 'waliuawa', 'na', 'karibu', '600,000', 'walikimbia', 'makazi', 'yao', 'huku', 'watu', 'wakilengwa', 'kwa', 'makabila', 'yao', '.', 'Washirika', 'wa', 'Kibaki', 'walishutumiwa', 'kwa', 'kuiba', 'kura', 'hiyo', 'ambayo', ',', 'kulingana', 'na', 'hesabu', 'rasmi', ',', 'alimshinda', 'Raila', 'Odinga', 'kwa', 'kura', 'chache', '.', 'Uchunguzi', 'huru', 'baadaye', 'uligundua', 'kuwa', 'pande', 'zote', 'mbili', 'zilishiriki', 'katika', 'makosa', 'ya', 'uchaguzi', 'na', 'kusema', 'kuwa', 'haiwezekani', 'kubaini', 'ni', 'nani', 'aliyeshinda', 'kweli', '.', 'Akitangaza', 'kifo', 'cha', 'mtangulizi', 'wake', ',', 'Rais', 'Kenyatta', 'alieleza', 'Kibaki', '``', 'kama', 'muungwana', 'katika', 'siasa', 'za', 'Kenya', '.', 'Mzungumzaji', 'mahiri', 'ambaye', 'ufasaha', 'wake', ',', 'akili', 'na', 'haiba', 'yake', 'alishinda', 'siku', 'mara', 'kwa', 'mara', '.', \"''\", 'Lakini', 'pia', 'alijulikana', 'kwa', 'tabia', 'yake', 'ya', 'kutoamua', 'jambo', 'ambalo', 'lilimzuia', 'kufanya', 'maamuzi', 'ya', 'kijasiri', 'ambayo', 'yangeitumikia', 'nchi', 'vizuri', 'zaidi', '.', 'Muhula', 'wake', 'wa', 'kwanza', 'ulitaka', 'azma', 'ya', 'dhati', 'ya', 'kuzishinda', 'nguvu', 'zinazomzunguka', ',', 'pamoja', 'na', 'kukomesha', 'ufisadi', 'nchini', '.', 'Badala', 'yake', 'alionekana', 'kwenda', 'pamoja', 'nao', '.', 'Chanzo', 'cha', 'picha', ',', 'EPA', 'Maelezo', 'ya', 'picha', ',', 'Mwai', 'Kibaki', 'na', 'mkewe', 'Lucy', 'Kibaki', 'Kulikuwa', 'na', 'hisia', 'ya', 'kukosa', 'fursa', 'kwani', 'Wakenya', 'walikuwa', 'tayari', 'kuunga', 'mkono', 'vita', 'dhidi', 'ya', 'ufisadi', '.', 'Moja', 'ya', 'hadithi', 'maarufu', 'za', 'wakati', 'huo', 'ilikuwa', 'ya', 'raia', 'kuwakamata', 'maafisa', 'wa', 'polisi', 'wa', 'trafiki', 'ambao', 'walikuwa', 'wameomba', 'rushwa', 'licha', 'ya', 'serikali', 'kutangaza', 'vyema', 'vita', 'rasmi', 'dhidi', 'ya', 'ufisadi', '.', 'Ilikuwa', 'kubwa', 'kwa', 'maneno', 'lakini', 'nyepesi', 'kwa', 'vitendo', '.', 'Kibaki', 'alikuwa', 'amejulikana', 'kwa', 'muda', 'mrefu', 'kama', 'mpanga', 'uzio', ',', 'lakini', 'wengine', 'walihusisha', 'udhaifu', 'wake', 'katika', 'urais', 'na', 'afya', 'mbaya', 'ambayo', 'ilimfanya', 'aongozwe', 'kwa', 'urahisi', 'na', 'wale', 'waliomzunguka', '.', 'Chanzo', 'cha', 'picha', ',', 'Getty', 'Images', 'Wakati', 'wa', 'kampeni', 'za', 'uchaguzi', 'wa', '2002', 'alihusika', 'katika', 'ajali', 'ya', 'barabarani', '-', 'alikuwa', 'kwenye', 'kiti', 'cha', 'magurudumu', 'alipoapishwa', ',', 'mguu', 'wake', 'ukiwa', 'bado', 'kwenye', 'plasta', '.', 'Inaaminika', 'alipata', 'kiharusi', 'muda', 'mfupi', 'baadaye', 'na', 'kutoka', 'hospitalini', 'akiwa', 'ameathirika', '.', 'Machafuko', 'na', 'hasira', 'zilizofuata', 'kura', 'ya', '2007', 'ziliishia', 'na', 'kuingilia', 'kati', 'kwa', 'Katibu', 'Mkuu', 'wa', 'zamani', 'wa', 'Umoja', 'wa', 'Mataifa', 'Kofi', 'Annan', 'ambaye', 'alianzisha', 'mpango', 'wa', 'kugawana', 'madaraka', '.', 'Kibaki', 'alisalia', 'kuwa', 'rais', ',', 'huku', 'Bw', 'Odinga', 'akishikilia', 'wadhifa', 'mpya', 'wa', 'waziri', 'mkuu', '.', 'Alistaafu', 'mwaka', 'wa', '2013', 'baada', 'ya', 'kufikia', 'kikomo', 'cha', 'kikatiba', 'cha', 'mihula', 'miwili', ',', 'na', 'alistaafu', 'kutoka', 'kwa', 'zaidi', 'ya', 'miongo', 'mitano', 'katika', 'utumishi', 'wa', 'umma', '.', 'Alizaliwa', 'mwaka', 'wa', '1931', ',', 'wakati', 'Kenya', 'ikiwa', 'bado', 'chini', 'ya', 'Waingereza', ',', 'katika', 'kijiji', 'kimoja', 'katika', 'Mkoa', 'wa', 'Kati', 'nchini', 'humo', '.', 'Aliendelea', 'na', 'masomo', 'ya', 'uchumi', 'katika', 'Chuo', 'Kikuu', 'maarufu', 'cha', 'Makerere', 'nchini', 'Uganda', 'na', 'kisha', 'akashinda', 'udhamini', 'wa', 'Jumuiya', 'ya', 'Madola', 'kusomea', 'masuala', 'ya', 'fedha', 'za', 'umma', 'katika', 'Shule', 'ya', 'London', 'ya', 'Uchumi', '.', 'Mwishoni', 'mwa', 'miaka', 'ya', '1950', 'alikuwa', 'akifundisha', 'uchumi', 'huko', 'Makerere', ',', 'lakini', 'aliamua', 'kujihusisha', 'na', 'siasa', 'za', 'Kenya', 'na', 'kuwa', 'mbunge', 'mnamo', '1963', '.', 'Alikuwa', 'sehemu', 'muhimu', 'ya', 'tawala', 'za', 'Kanu', ',', 'kwanza', 'kama', 'waziri', 'wa', 'fedha', ',', 'chini', 'ya', 'rais', 'wa', 'kwanza', 'wa', 'nchi', ',', 'Jomo', 'Kenyatta', ',', 'na', 'baadaye', 'kama', 'makamu', 'wa', 'rais', ',', 'akichukua', 'nafasi', 'ya', 'Daniel', 'arap', 'Moi', '.', 'Chanzo', 'cha', 'picha', ',', 'AFP', 'Maelezo', 'ya', 'picha', ',', 'Wafuasi', 'wa', 'Kibaki', 'Lakini', 'mara', 'tu', 'mfumo', 'wa', 'vyama', 'vingi', 'ulipoanzishwa', 'mwaka', 'wa', '1991', '-', 'hatua', 'ambayo', 'awali', 'alipinga', '-', 'Kibaki', 'alibadilisha', 'mondo', 'na', 'kuwa', 'kiongozi', 'wa', 'upinzani', ',', 'akigombea', 'urais', 'mara', 'mbili', 'bila', 'mafanikio', '.', 'Alijulikana', 'kwa', 'kuweka', 'serikali', 'katika', 'udhibiti', 'mkali', ',', 'na', 'baraza', 'la', 'mawaziri', 'kivuli', 'ambalo', 'liliwasilisha', 'bajeti', 'mbadala', '.', 'Kuchaguliwa', 'kwake', 'mwaka', '2002', 'kulianzisha', 'mojawapo', 'ya', 'nyakati', 'nzuri', 'zaidi', 'nchini', 'Kenya', ',', 'lakini', 'ukosefu', 'wake', 'wa', 'ujasiri', ',', 'na', 'wakati', 'mwingine', 'busara', ',', 'kunamaanisha', 'kwamba', 'fursa', 'zilipotea']\n",
      "\n",
      " Number of Words:  910\n"
     ]
    }
   ],
   "source": [
    "file=\"april23.txt\"\n",
    "\n",
    "# calling the function and storing the contents in a text variable \n",
    "text = get_document(\"https://www.bbc.com/swahili/habari-61193018\")\n",
    "\n",
    "# calling the store_ document function \n",
    "store_document(doc=text,name=file)\n",
    "\n",
    "#add the words in this file to the total_corpus_words, to keep count of the number of words in the corpus\n",
    "total_corpus_words+=total_words(file)"
   ]
  },
  {
   "cell_type": "code",
   "execution_count": 140,
   "metadata": {},
   "outputs": [
    {
     "data": {
      "text/plain": [
       "116564"
      ]
     },
     "execution_count": 140,
     "metadata": {},
     "output_type": "execute_result"
    }
   ],
   "source": [
    "total_corpus_words"
   ]
  },
  {
   "cell_type": "code",
   "execution_count": 141,
   "metadata": {},
   "outputs": [
    {
     "name": "stdout",
     "output_type": "stream",
     "text": [
      "['Mwai', 'Kibaki', ':', 'Fahamu', 'mambo', 'matano', 'usiyoyajua', 'kuhusu', 'Mwai', 'Kibaki', 'Aliyekuwa', 'rais', 'wa', 'Kenya', 'Mwai', 'Kibaki', 'amefariki', 'siku', 'ya', 'ijumaa', 'akiwa', 'na', 'umri', 'wa', 'miaka', '90', '.', 'Rais', 'Uhuru', 'Kenyata', 'alitangaza', 'kupitia', 'runinga', 'mbalimbali', 'nchini', 'Kenya', '.', 'Lakini', 'mbali', 'na', 'umaarufu', 'wa', 'rais', 'huyu', ',', 'kuna', 'mambo', 'kadhaa', 'ambayo', 'si', 'wengi', 'wanayafahamu', '.', 'Alikua', 'hapendi', 'jina', 'Emilio', 'Kibaki', 'alizaliwa', 'na', 'Kibaki', 'Githinji', 'na', 'Teresia', 'Wanjiku', 'katika', 'Kijiji', 'cha', 'Thunguri', ',', 'Othaya', ',', 'huko', 'Nyeri', '.', 'Wamishonari', 'Waitalia', 'walimbatiza', 'jina', 'Emilio', ',', 'lakini', 'inaonekana', 'hakupendezwa', 'na', 'jina', 'hilo', '.', 'Kwa', 'hiyo', ',', 'alikuwa', 'Mwai', 'Kibaki', 'kwa', 'maisha', 'yake', 'yote', '.', '``', 'Emilio', \"''\", 'ingejitokeza', 'katika', 'karatasi', 'za', 'kupigia', 'kura', ',', 'malalamiko', 'ya', 'uchaguzi', 'na', 'hati', 'za', 'kuapishwa', '.', 'Chanzo', 'cha', 'picha', ',', 'Getty', 'Images', 'Maelezo', 'ya', 'picha', ',', 'Mwai', 'Kibaki', 'Alikua', 'kondakta', 'wa', 'basi', 'Wakati', 'wa', 'kipindi', 'cha', 'likizo', 'alifanya', 'kazi', 'katika', 'kampuni', 'ya', 'magari', 'ya', 'Othaya', 'African', 'Bus', 'Union', '.', 'Alikua', 'Mwanafunzi', 'mahiri', ',', 'alifuzu', 'kwa', 'Shule', 'ya', 'Sekondari', 'ya', 'Mang', \"'\", 'u', 'ambapo', 'alikuwa', 'mwanafunzi', 'wa', 'kwanza', \"''\", 'A', \"''\", ',', 'kati', 'ya', '1947', 'na', '1950', 'alipata', 'ufaulu', 'wa', 'pointi', 'sita', 'katika', 'mitihani', 'yake', 'kidato', 'cha', 'nne', '.', 'Alitaka', 'kujiunga', 'na', 'jeshi', 'Inawezekana', 'kwamba', 'Kibaki', 'angeishia', 'kuwa', 'Jenerali', 'Kibaki', 'lakini', 'mamlaka', 'za', 'kikoloni', 'hazikuwa', 'na', 'nia', 'ya', 'kuwa', 'na', 'wanajeshi', 'kutoka', 'katikati', 'mwa', 'Kenya', ',', 'nyumbani', 'mwa', 'kundi', 'la', 'Mau-Mau', '.', 'Ndoto', 'yake', 'ya', 'taaluma', 'ya', 'kijeshi', ',', 'iliyochochewa', 'na', 'maveterani', 'waliorejea', 'katika', 'Vita', 'vya', 'Pili', 'vya', 'Dunia', ',', 'lakini', 'iliyeyuka', 'alipojiunga', 'na', 'Chuo', 'Kikuu', 'cha', 'Makerere', ',', 'Uganda', ',', 'ambako', 'alisoma', 'Uchumi', ',', 'Historia', 'na', 'Sayansi', 'ya', 'Siasa', 'akihitimu', 'mwaka', 'wa', '1955', 'na', 'Shahada', 'ya', 'Kwanza', 'ya', 'Heshima', 'B.A', '.', 'katika', 'Uchumi', '.', 'Siku', 'hizo', 'kulikuwa', 'na', 'kazi', 'nyingi', 'kuliko', 'watafutaji', 'wake', '.', 'Akiwa', 'na', 'sifa', 'hizo', 'za', 'hali', 'ya', 'juu', ',', 'alipata', 'kazi', 'katika', 'kampuni', 'kubwa', 'ya', 'mafuta', 'ya', 'Shell', 'kama', 'meneja', 'msaidizi', 'wa', 'mauzo', 'katika', 'Kitengo', 'chake', 'cha', 'Uganda', '.', 'Baadaye', ',', 'alijiunga', 'na', 'Shule', 'ya', 'Uchumi', 'ya', 'London', 'kwa', 'shahada', 'ya', 'Fedha', 'ya', 'Umma', 'na', 'kuhitimu', 'kwa', 'kishindo', 'na', 'kurudi', 'Makerere', 'kama', 'mhadhiri', 'mwaka', 'wa', '1958', '.', 'Chanzo', 'cha', 'picha', ',', 'AFP', 'Maelezo', 'ya', 'picha', ',', 'Kibaki', 'alikua', 'rais', 'wa', 'Kenya', 'mwaka', '2002', 'hadi', 'mwaka', '2013', 'Atajwa', 'na', 'jarida', 'la', 'Times', 'mwaka', '1974', 'kama', \"'mwenye\", 'uwezo', 'wa', 'kuongoza', \"'\", '1974', ',', 'alikubaliwa', 'na', 'vita', 'vikubwa', 'vya', 'kugombea', 'kiti', 'cha', 'Donholm', 'kutoka', 'kwa', 'Jael', 'Mbogo', 'ambaye', 'alikua', 'karibu', 'amvue', 'madaraka', '1969', ',', 'na', 'kuhamishia', 'kituo', 'chake', 'cha', 'kisiasa', 'hadi', 'Othaya', 'Gazeti', 'la', 'TIME', 'lilimtaja', 'kuwa', 'miongoni', 'mwa', 'watu', '100', 'duniani', 'waliokuwa', 'na', 'uwezo', 'wa', 'kuongoza', '.', 'Na', 'hawakukosea', 'Kibaki', 'angekuwa', 'mbunge', 'wa', 'Othaya', 'hadi', '2007', 'na', 'Rais', 'wa', 'Kenya', 'wa', 'mihula', 'miwili', '.', 'Lakini', 'Mwaka', '1978', 'Moi', 'alimtaja', 'kuwa', 'Makamu', 'wa', 'Rais', 'na', 'Waziri', 'wa', 'Mambo', 'ya', 'Ndani', '.', 'Alikua', 'anapenda', 'mchezo', 'wa', 'gofu', 'Kibaki', 'alipenda', 'sana', 'kucheza', 'mchezo', 'wa', 'gofu', 'na', 'alikua', 'mlezi', 'wa', 'klabu', 'ya', 'gofu', 'ya', 'Kenya', 'kwa', 'zaidi', 'ya', 'miaka', '30', '.', 'Aliamini', 'kwamba', 'kwa', 'kutumia', 'mchezo', 'wa', 'dou', ',', 'ajira', 'nyingi', 'zinaweza', 'kupatikana', 'kwa', 'Wakenya', '.', 'Huwezi', 'kusikiliza', 'tena', 'Maelezo', 'ya', 'video', ',', 'Aliyekuwa', 'rais', 'wa', 'Kenya', 'Mwai', 'Kibaki', 'amefariki', 'akiwa', 'na', 'umri', 'wa', 'miaka', '90', '.']\n",
      "\n",
      " Number of Words:  516\n"
     ]
    }
   ],
   "source": [
    "file=\"april24.txt\"\n",
    "\n",
    "# calling the function and storing the contents in a text variable \n",
    "text = get_document(\"https://www.bbc.com/swahili/habari-61193017\")\n",
    "\n",
    "# calling the store_ document function \n",
    "store_document(doc=text,name=file)\n",
    "\n",
    "#add the words in this file to the total_corpus_words, to keep count of the number of words in the corpus\n",
    "total_corpus_words+=total_words(file)"
   ]
  },
  {
   "cell_type": "code",
   "execution_count": 142,
   "metadata": {},
   "outputs": [
    {
     "data": {
      "text/plain": [
       "117080"
      ]
     },
     "execution_count": 142,
     "metadata": {},
     "output_type": "execute_result"
    }
   ],
   "source": [
    "total_corpus_words"
   ]
  },
  {
   "cell_type": "code",
   "execution_count": 143,
   "metadata": {},
   "outputs": [
    {
     "name": "stdout",
     "output_type": "stream",
     "text": [
      "['Mbio', 'za', 'mwisho', 'za', 'Damaris', 'Muthee', 'Mutua', 'zilikuwa', 'mjini', 'Luanda', ',', 'Angola', ',', 'tarehe', '3', 'Aprili', 'Mji', 'wa', 'Iten', 'nchini', 'Kenya', 'umekumbwa', 'na', 'mauaji', 'kwa', 'mara', 'ya', 'pili', 'ya', 'mwanariadha', 'wa', 'kike', 'katika', 'muda', 'wa', 'miezi', 'sita', '.', 'Mauaji', 'ya', 'Damaris', 'Muthee', 'Mutua', ',', '28', ',', 'ambayo', 'yaliripotiwa', 'wiki', 'hii', 'yalijiri', 'baada', 'ya', 'mshindi', 'wa', 'medali', 'ya', 'shaba', 'mara', 'mbili', 'wa', 'Riadha', 'za', 'Dunia', 'Agnes', 'Tirop', 'kupatikana', 'akiwa', 'amedungwa', 'kisu', 'hadi', 'kufa', 'Oktoba', 'mwaka', 'jana', '.', 'Mutua', ',', 'mama', 'wa', 'mtoto', 'mmoja', ',', 'hakuwa', 'na', 'wasifu', 'wa', 'Tirop', 'lakini', 'kifo', 'chake', 'kimezidisha', 'wasiwasi', 'kuhusu', 'mauaji', 'ya', 'wanawake', 'na', 'usalama', 'wa', 'wanariadha', 'wa', 'kike', 'katika', 'nchi', 'hiyo', 'ya', 'Afrika', 'mashariki', '.', 'Mutua', 'alizaliwa', 'nchini', 'Kenya', 'na', 'akabadili', 'kuwania', 'ushindi', 'kupitia', 'nchini', 'ya', 'Bahrain', ',', 'lakini', 'alipata', 'mafunzo', 'huko', 'Kapsabet', ',', 'mji', 'ulio', 'kati', 'ya', 'Iten', 'na', 'Eldoret', ',', 'na', 'ulioko', 'katika', 'eneo', 'la', 'Kenya', 'maarufu', 'kwa', 'kuzalisha', 'na', 'kulea', 'wakimbiaji', 'wa', 'mbio', 'ndefu', '.', 'Siku', 'ya', 'Alhamisi', ',', 'polisi', 'wa', 'Kenya', 'walisema', 'kuwa', 'uchunguzi', 'wa', 'maiti', 'yake', 'ulibaini', 'kuwa', 'kifo', 'chake', 'kilitokana', 'na', 'kunyongwa', 'koo', ',', 'huku', 'uchunguzi', 'wa', 'sampuli', 'za', 'tumbo', 'pia', 'ukichukuliwa', 'ili', 'kubaini', 'kama', 'kulikuwa', 'na', 'mchezo', 'mchafu', 'zaidi', '.', 'Mnamo', 'mwaka', '2010', ',', 'Mutua', 'alishinda', 'shaba', 'kwa', 'nchi', 'yake', 'ya', 'Kenya', 'katika', 'mbio', 'za', 'mita', '1,000', 'katika', 'Michezo', 'ya', 'Olimpiki', 'ya', 'Vijana', 'nchini', 'Singapore', '.', 'Msimu', 'wake', 'bora', 'zaidi', 'ulikuja', 'mnamo', '2018', 'alipokimbia', 'mbio-bora', 'kwa', 'kilomita', '20', '(', 'saa', 'moja', ',', 'dakika', 'nane', 'na', 'sekunde', '28', '-', 'wakati', 'bora', 'zaidi', 'wa', 'mwaka', ')', 'aliposhinda', 'mbio', 'huko', 'Marrakesh', ',', 'na', 'vile', 'vile', 'nusu-marathon', '(', '1', ':', '11:51', ')', ',', 'akimaliza', 'wa', 'pili', 'katika', 'hafla', 'moja', 'huko', 'Msumbiji', '.', 'Alikuwa', 'amefurahia', 'mwanzo', 'mzuri', 'wa', 'mwaka', '2022', ',', 'akichukua', 'nafasi', 'ya', 'pili', 'katika', 'Mashindano', 'ya', 'Nchi', 'za', 'Kiarabu', 'ya', 'mbio', 'za', 'cross', 'country', 'nchini', 'Bahrain', 'mwezi', 'Februari', 'kabla', 'ya', 'kushika', 'nafasi', 'ya', 'tatu', 'kwenye', 'nusu-marathon', 'ya', 'Luanda', 'nchini', 'Angola', 'mapema', 'Aprili', '.', \"''Alikuwa\", 'mkimbiaji', 'mzuri', 'anayecipuza', '.', 'Watu', 'wangemtaja', 'kama', 'mtu', 'mwenye', 'nidhamu', 'nzuri', ',', \"''\", 'Elias', 'Makori', ',', 'mhariri', 'mkuu', 'wa', 'michezo', 'katika', 'televisheni', 'ya', 'Nation', 'Media', 'Group', ',', 'aliiambia', 'BBC', 'Sport', '.', \"''Mapema\", 'mwezi', 'huu', ',', 'alikuwa', 'wa', 'tatu', 'katika', 'mbio', 'ngumu', 'sana', 'za', 'nusu', 'marathon', 'nchini', 'Angola', '.', 'Alipatikana', 'akiwa', 'amefariki', 'dunia', 'wakati', 'taaluma', 'yake', 'ndio', 'imeshika', 'kasi', '.', \"''\", 'Chanzo', 'cha', 'picha', ',', 'Christine', 'Kambua', 'Maelezo', 'ya', 'picha', ',', 'Mutua', 'alishinda', 'medali', 'ya', 'shaba', 'katika', 'Michezo', 'ya', 'Olimpiki', 'ya', 'Vijana', 'mnamo', '2010', \"'Maisha\", 'yake', 'yamekatizwa', \"'\", 'Msako', 'unaendelea', 'wa', 'kumtafuta', 'mwanamume', 'aliyekuwa', 'mpenzi', 'wa', 'Mutua', 'kutoka', 'Ethiopia', ',', 'ambaye', 'alifanya', 'mazoezi', 'katika', 'kituo', 'kimoja', 'cha', 'mwinuko', ',', 'huku', 'mwanariadha', 'huyo', 'ambaye', 'pia', 'ni', 'marehemu', 'akiwa', 'na', 'mtoto', 'wa', 'kiume', 'kutoka', 'kwa', 'ndoa', 'yake', 'na', 'Mkenya', 'Felix', 'Ngila', '.', \"''Naiomba\", 'Serikali', 'ifanye', 'kazi', 'yake', 'vizuri', 'na', 'kujua', 'mhusika', 'yuko', 'wapi', '.', 'Hatuwezi', 'kupata', 'kitambulisho', 'chake', 'wala', 'hati', 'zake', 'za', 'benki', ',', 'zote', 'zilikuwa', 'ndani', 'ya', 'nyumba', '.', 'Nani', 'amezichukua', '?', \"''\", 'Aliuliza', '.', 'Riadha', 'Kenya', 'ilisema', '``', 'imehuzunishwa', 'sana', \"''\", 'na', 'kifo', 'chake', '.', \"''Ni\", 'kisa', 'kingine', 'cha', 'kukatizwa', 'kwa', 'maisha', 'na', 'talanta', 'ikaharibiwa', 'kwa', 'kuzingatia', 'mafanikio', 'ambayo', 'Damaris', 'alikuwa', 'amepata', 'katika', 'taaluma', 'yake', ',', \"''\", 'taarifa', 'kutoka', 'kwa', 'bodi', 'iliongeza', '.', \"''Ingawa\", 'alikuwa', 'amebadili', 'utiifu', ',', 'Damaris', 'alikuwa', 'Mkenya', 'kwa', 'damu', '.', 'Kufariki', 'kwake', 'ni', 'uchungu', 'zaidi', 'ikizingatiwa', 'hii', 'si', 'mara', 'ya', 'kwanza', 'kwa', 'mustakabali', 'mzuri', 'kukatizwa', 'na', 'unyanyasaji', 'wa', 'nyumbani', '.', \"''\", 'Riadha', 'Kenya', 'imekumbwa', 'tena', 'na', 'masuala', 'yanayokumba', 'baadhi', 'ya', 'wanariadha', 'wa', 'kike', ',', 'ambao', 'wana', 'wasiwasi', 'kuhusu', 'unyanyasaji', 'wa', 'nyumbani', ',', 'masuala', 'mengine', 'ya', 'ndoa', ',', 'na', 'jukumu', 'la', 'makocha', 'wa', 'kiume', 'kuwanyanyasa', 'wanariadha', '.', \"''Ni\", '[', 'kifo', 'cha', 'Mutua', ']', 'kinakuja', 'baada', 'ya', 'mfululizo', 'wa', 'kliniki', 'za', 'uhamasishaji', 'kufanywa', 'kote', 'nchini', 'ili', 'kuwapa', 'wanariadha', 'usaidizi', 'wa', 'kimaadili', 'na', 'kuangalia', 'afya', 'yao', 'ya', 'akili', ',', 'ambalo', 'ni', 'suala', 'linalotia', 'wasiwasi', 'mkubwa', ',', \"''\", 'Makori', 'alisema', '.', \"''Tulipofikiria\", 'kuwa', 'mambo', 'yangebadilika', 'kuwa', 'bora', ',', 'hili', 'likafanyika', '.', \"''\"]\n",
      "\n",
      " Number of Words:  634\n"
     ]
    }
   ],
   "source": [
    "file=\"april25.txt\"\n",
    "\n",
    "# calling the function and storing the contents in a text variable \n",
    "text = get_document(\"https://www.bbc.com/swahili/habari-61192066\")\n",
    "\n",
    "# calling the store_ document function \n",
    "store_document(doc=text,name=file)\n",
    "\n",
    "#add the words in this file to the total_corpus_words, to keep count of the number of words in the corpus\n",
    "total_corpus_words+=total_words(file)"
   ]
  },
  {
   "cell_type": "code",
   "execution_count": 144,
   "metadata": {},
   "outputs": [
    {
     "data": {
      "text/plain": [
       "117714"
      ]
     },
     "execution_count": 144,
     "metadata": {},
     "output_type": "execute_result"
    }
   ],
   "source": [
    "total_corpus_words"
   ]
  },
  {
   "cell_type": "code",
   "execution_count": 145,
   "metadata": {},
   "outputs": [
    {
     "name": "stdout",
     "output_type": "stream",
     "text": [
      "['Mwai', 'Kibaki', ':', 'Fahamu', 'mchango', 'wa', 'Rais', 'Kibaki', 'katika', 'siasa', 'za', '2022', 'Mazishi', 'ya', 'kitaifa', 'ya', 'aliyekuwa', 'rais', 'wa', 'Kenya', 'Mwai', 'Kibaki', 'yanafanyika', 'leo', 'katika', 'mojawapo', 'ya', 'shughuli', 'za', 'mwisho', 'za', 'kumpa', 'safari', 'ya', 'mwisho', 'kiongozi', 'huyo', 'aliyeongoza', 'Kenya', 'kwa', 'miaka', '10', '.', 'Siku', 'ya', 'Ijumaa', ',', 'Aprili', '22', ',', '2022', 'itaishia', 'kuwa', 'moja', 'ya', 'siku', 'za', 'giza', ',', 'huzuni', 'kubwa', 'maishani', 'mwetu', 'kama', 'Wakenya', '.', 'Kifo', 'cha', 'Rais', 'wa', 'awamu', 'ya', '3', 'Jamhuri', 'ya', 'Kenya', ',', 'Mhe', '.', 'Emilio', 'Mwai', 'Kibaki', 'kilishangaza', 'taifa', 'ilipotangazwa', 'na', 'rais', 'wa', '4', 'wa', 'jamhuri', 'ya', 'Kenya', ',', 'Mhe', '.', 'Uhuru', 'Muigai', 'Kenyatta', 'katika', 'ikulu', 'ya', 'Nairobi', '.', 'Kibaki', 'aliaga', 'dunia', 'akiwa', 'na', 'umri', 'wa', 'miaka', '90', '.', 'Jinsi', 'alivyonza', 'siasa', 'nchini', 'Kenya', 'Rais', 'Kibaki', 'binafsi', ',', 'amekuwepo', 'katika', 'enzi', 'zote', 'za', 'kisiasa', 'ambazo', 'zimefafanua', 'mwelekeo', 'wa', 'demokrasia', 'ya', 'nchi', 'yetu', '.', 'Akiwa', 'mhadhiri', 'mchanga', 'katika', 'Chuo', 'Kikuu', 'cha', 'Makerere', 'wakati', 'wa', 'enzi', 'za', 'kabla', 'ya', 'kupatikana', 'kwa', 'uhuru', ',', 'Mwai', 'Kibaki', '``', 'alichukuliwa', '``', 'na', 'marehemu', 'Tom', 'Mboya', 'ili', 'kuja', 'kuongoza', 'chama', 'kipya', 'kilichoanzishwa', 'cha', 'Kenya', 'African', 'National', 'Union', '(', 'KANU', ')', 'kama', 'Mkurugenzi', 'Mtendaji', 'wake', 'wa', 'kwanza', 'na', 'pia', 'kusaidia', 'katika', 'uandishi', 'wa', 'katiba', 'ya', 'kwanza', 'ya', 'uhuru', 'huko', 'Lancaster', 'Uingereza', '.', 'Chanzo', 'cha', 'picha', ',', 'Getty', 'Images', 'Maelezo', 'ya', 'picha', ',', 'Aliyekua', 'rais', 'wa', 'tatu', 'wa', 'Kenya', 'Mwai', 'Kibaki', 'Kazi', 'ya', 'kisiasa', 'ya', 'Kibaki', 'ilianza', 'mwaka', 'wa', '1963', 'kama', 'Mbunge', 'wa', 'Donholm', 'wakati', 'huo', '(', 'sasa', 'Makadara', 'jijini', 'Nairobi', ')', 'kabla', 'ya', 'kuhama', 'katika', 'uchaguzi', 'uliofuata', 'hadi', 'eneo', 'bunge', 'la', 'sasa', 'la', 'Othaya', ',', 'ambako', 'alihudumu', 'kama', 'Mbunge', 'hadi', '2001', '.', 'Wakati', 'wa', 'baraza', 'la', 'mawaziri', 'la', 'kwanza', 'baada', 'ya', 'uhuru', 'chini', 'ya', 'uongozi', 'wa', 'Rais', 'Jomo', 'Kenyatta', ',', 'Kibaki', 'aliwahi', 'kuwa', 'Waziri', 'Msaidizi', 'kabla', 'ya', 'kuteuliwa', 'kuwa', 'Waziri', 'wa', 'Fedha', 'kuanzia', '1969', 'hadi', '1982', '.', 'Ni', 'katika', 'kipindi', 'chake', 'kama', 'Waziri', 'wa', 'Fedha', ',', 'ambapo', 'gazeti', 'la', 'Times', 'lilimtaja', 'kuwa', 'miongoni', 'mwa', 'watu', '100', 'wakuu', 'duniani', 'waliokuwa', 'na', 'uwezo', 'wa', 'kuongoza', '.', 'Kifo', 'cha', 'rais', 'Jomo', 'Kenyatta', 'Wakati', 'wa', 'mabadiliko', 'ya', 'kwanza', 'ya', 'kisiasa/uongozi', 'katika', 'ngazi', 'ya', 'ofisi', 'ya', 'Rais', 'yalipotokea', 'kwa', 'sababu', 'ya', 'kifo', 'cha', 'Rais', 'Jomo', 'Kenyatta', 'na', 'hatimaye', 'Rais', 'Moi', 'kuwa', 'Rais', 'wa', '2', 'wa', 'Kenya', 'mwaka', '1978', ',', 'Kibaki', 'alipandishwa', 'cheo', 'hadi', 'Makamu', 'wa', 'Rais', 'akiwa', 'bado', 'anashikilia', 'wadhifa', 'wa', 'Fedha', ',', 'hadi', 'wadhfa', 'huo', 'ulipobadilisha', 'hadi', 'ule', 'wa', 'Mambo', 'ya', 'Ndani', 'mwaka', 'wa', '1982', '.', 'Kibaki', 'alihudumu', 'kama', 'Makamu', 'wa', 'Rais', 'wa', 'Moi', 'kuanzia', '1978-1988', '.', 'Wakati', 'wa', 'msukosuko', 'wa', 'kuanzishwa', 'kwa', 'siasa', 'za', 'vyama', 'vingi', 'nchini', ',', 'Kibaki', 'aliendelea', 'kuwa', 'mtetezi', 'mwaminifu', 'wa', 'KANU', 'hadi', 'alipomshangaza', 'kila', 'mtu', 'mnamo', 'Desemba', '1991', 'kwa', 'kujiuzulu', 'kutoka', 'kwa', 'serikali', 'ya', 'KANU', 'na', 'kuunda', 'chama', 'cha', 'upinzani', 'kilichoitwa', 'Democratic', 'Party', '.', 'Chanzo', 'cha', 'picha', ',', 'Getty', 'Images', 'Kwa', 'kutumia', 'chama', 'hiki', ',', 'Kibaki', 'aligombea', 'na', 'kushindwa', 'katika', 'chaguzi', 'zote', 'mbili', 'za', 'urais', 'za', '1992', 'na', '1997', 'na', 'Rais', 'aliyekuwa', 'madarakani', 'Moi', ',', 'hata', 'hivyo', 'aliweza', 'kuimarisha', 'sifa', 'yake', 'ya', 'kidemokrasia', 'kama', 'mshiriki', 'aliyekuwa', 'mbele', 'katika', \"kinyang'anyiro\", 'cha', 'uchaguzi', 'wa', '2002', '.', 'Moja', 'ya', 'mafunzo', 'muhimu', 'yaliyopatikana', 'katika', 'uchaguzi', 'wa', '1992', 'na', '1997', 'ni', 'kwamba', 'upinzani', 'uliogawanyika', 'haungeweza', 'kamwe', 'kushinda', 'dhidi', 'ya', 'chama', 'cha', 'KANU', 'na', 'mgombea', 'wake', 'ambaye', 'angeungwa', 'mkono', 'na', 'Rais', 'aliyekuwa', 'w', 'madarakani', 'wakati', 'huo', 'Daniel', 'Moi', '.', 'Uchaguzi', 'wa', '2002', 'Utambuzi', 'huo', 'ndio', 'uliozaa', 'Muungano', 'wa', 'Kitaifa', 'wa', 'Upinde', 'wa', 'mvua', '(', 'NARC', ')', 'uliowaleta', 'pamoja', 'viongozi', 'wa', 'zamani', 'wa', 'upinzani', 'na', 'wanachama', 'wa', 'ngazi', 'za', 'juu', 'waliochukizwa', 'na', 'chama', 'tawala', 'cha', 'KANU', 'ulioongozwa', 'na', 'Raila', 'Odinga', 'na', 'marehemu', 'George', 'Saitoti', 'miongoni', 'mwa', 'vinara', 'wengine', 'wa', 'KANU', '.', 'Muungano', 'huu', 'ndio', 'uliomsukuma', 'Mwai', 'Kibaki', 'kuwa', 'Rais', 'wa', '3', 'wa', 'Jamhuri', 'ya', 'Kenya', '.', 'Ushindi', 'huu', 'uliimarisha', 'umuhimu', 'wa', 'ujenzi', 'wa', 'miungano', 'katika', 'mjadala', 'wa', 'kisiasa', 'wa', 'taifa', 'letu', ',', 'yaani', ',', 'hakuna', 'mtu', 'hata', 'mmoja', 'angeweza', 'kuwa', 'na', 'njia', 'ya', 'kuingia', 'madarakani', 'bila', 'kuingia', 'katika', 'miungano', 'ya', 'kisiasa/na', 'watu', 'wengine', 'wenye', 'nia', 'kama', 'yake', '.', 'Wahusika', 'wa', 'kisiasa', 'nchini', 'Kenya', 'Uchaguzi', 'wa', '2002', 'wa', 'Kibaki', 'kama', 'rais', 'ulileta', 'kipindi', 'cha', 'matumaini', 'katika', 'mfumo', 'wa', 'kitaifa', 'wa', 'siasa', 'zetu', '.', 'Nchi', 'iliamini', 'kuwa', 'utawala', 'mpya', 'wa', 'NARC', 'ungeondoa', 'mtindo', 'mbaya', 'wa', 'KANU', 'wa', 'kuendesha', 'shughuli', 'za', 'serikali', '.', 'Katika', 'nyanja', 'ya', 'kisiasa', ',', 'istilahi', 'mpya', 'ilikuwa', 'imeanzishwa', 'kwa', 'jina', 'la', \"'Mkataba\", 'wa', 'Maelewano', \"'\", '(', 'MoU', ')', 'ambayo', 'ilifafanua', 'jinsi', 'washirika', 'wa', 'muungano', 'wangepaswa', 'kufanya', 'mara', 'tu', 'wanaposhika', 'mamlaka', '.', 'Chanzo', 'cha', 'picha', ',', 'AFP', 'Kuheshimiwa', 'kwa', 'MoU', 'kati', 'ya', 'mrengo', 'wa', 'Rais', 'Kibaki', 'wa', 'muungano', 'wa', 'NARC', 'na', 'mrengo', 'wa', 'Raila', 'Odinga', 'lilikuwa', 'jambo', 'la', 'wasiwasi', 'mkubwa', 'ambalo', 'lilitishia', 'na', 'hatimaye', 'kufanikiwa', 'kuisambaratisha', 'serikali', 'ya', 'NARC', 'katikati', '.', 'Rais', 'Kibaki', 'alishutumiwa', 'kwa', 'kupuuza', 'ahadi', 'zilizotolewa', 'katika', 'MoU', ',', 'muhimu', 'miongoni', 'mwao', 'ilikuwa', 'ni', 'kuanzishwa', 'kwa', 'ofisi', 'ya', 'Waziri', 'Mkuu', 'na', 'pia', 'kupitishwa', 'kwa', 'katiba', 'mpya', 'miongoni', 'mwa', 'masuala', 'mengine', '.', 'Mgogoro', 'huu', 'uliibua', 'swali', 'la', 'uwezekano', 'na', 'utekelezwaji', 'wa', 'mikataba', 'ya', 'kabla', 'ya', 'uchaguzi', 'mara', 'tu', 'vyama/mtu', 'binafsi', 'anaposhinda', 'chaguzi', '.', 'Katika', 'masuala', 'ya', 'kiuchumi', ',', 'Rais', 'Kibaki', 'hakulaumiwa', 'kwani', 'maono', 'yake', 'yalikuwa', 'hayajawahi', 'kuonekana', 'awali', 'nchini', 'Kenya', ';', 'urithi', 'wa', 'kidemokrasia', 'wa', 'Kibaki', 'hata', 'hivyo', 'ulitiliwa', 'shaka', 'kutokana', 'na', 'masuala', 'pacha', 'ya', 'uaminifu', 'wa', 'kisiasa', 'kama', 'inavyofafanuliwa', 'na', 'MoU', 'katika', 'uwanja', 'wa', 'kisiasa', 'na', 'uwasilishaji', 'wa', 'katiba', 'mpya', 'na', 'faida', 'zake', 'kwa', 'kenya', 'mpya', '.', 'Siasa', 'ni', 'kama', 'mtiririko', 'wa', 'maji', 'kwa', 'asili', 'yake', ';', 'mambo', 'yanayozua', 'ugomvi', 'leo', 'labda', 'huenda', 'yakakubalika', 'kesho', 'na', 'yanayokubalika', 'leo', 'labda', 'kesho', 'huenda', 'yakazua', 'ugomvi', '.', 'Hali', 'kama', 'hiyo', 'ilijiri', 'wakati', 'wa', 'kutekelezwa', 'kwa', 'MoU', 'ya', '2002', 'kati', 'ya', 'washirika', 'wa', 'muungano', 'wa', 'NARC', '.', 'Wakati', 'wa', 'mazungumzo', ',', 'wahusika', 'wote', 'walijiendesha', 'kwa', 'njia', 'ya', 'heshima', ',', 'kulikuwa', 'na', 'imani', 'ya', 'kweli', 'kwamba', 'MoU', 'ingeheshimiwa', ',', 'hata', 'hivyo', 'mara', 'tu', 'mgombea', 'wa', 'NARC', 'Kibaki', 'alipokuwa', 'Rais', 'wa', 'Jamhuri', 'ya', 'Kenya', ',', 'uwezo', 'wa', 'kutekeleza', 'MoU', 'uligonga', 'mwamba', '.', 'Huwezi', 'kusikiliza', 'tena', 'Maelezo', 'ya', 'video', ',', 'Aliyekuwa', 'rais', 'wa', 'Kenya', 'Mwai', 'Kibaki', 'amefariki', 'akiwa', 'na', 'umri', 'wa', 'miaka', '90', '.', 'MoU', 'haikuwa', 'na', 'nguvu', 'ya', 'sheria', 'lakini', 'ilitegemea', 'nia', 'njema', 'kutoka', 'kwa', 'Rais', 'Kibaki', 'na', 'wenzake', '.', 'Tangu', 'wakati', 'huo', 'hali', 'hii', 'imejirudia', 'kwa', 'miaka', 'mingi', 'na', 'viongozi', 'mbalimbali', 'wa', 'kisiasa', ',', 'hivi', 'majuzi', 'wakati', 'wa', 'kampeni', 'za', 'uchaguzi', 'mkuu', 'wa', '2017', ',', 'Rais', 'Uhuru', 'alikuwa', 'ametangaza', 'hadharani', 'kwamba', '``', 'kumi', 'yangu', ',', 'kumi', 'ya', 'Ruto', \"''\", ';', 'hata', 'hivyo', 'Kenya', 'inapokaribia', 'uchaguzi', 'wa', '2022', ',', 'Rais', 'Uhuru', 'ametangaza', 'waziwazi', 'kumuunga', 'mkono', 'Raila', 'Odinga', 'na', 'kuamua', 'kupuuza', 'barua', 'ya', 'ahadi', 'aliompatia', 'naibu', 'wake', 'William', 'Ruto', '.', 'Kwa', 'upande', 'mwingine', 'wa', 'muungano', 'wa', 'NASA', 'wa', '2017', ',', 'chama', 'cha', 'ODM', 'kiliamua', 'kwa', 'upande', 'mmoja', 'kuwanyima', 'washirika', 'wengine', 'wa', 'muungano', 'huo', 'sehemu', 'yao', 'ya', 'haki', 'kutoka', 'kwa', 'hazina', 'ya', 'vyama', 'vya', 'kisiasa', 'kwa', 'msingi', 'kwamba', 'uchaguzi', 'wa', '2017', 'ulibatilishwa', '.', 'Kwa', 'hivyo', 'kile', 'kilichoanza', 'kama', 'ukiukaji', 'mdogo', 'kati', 'ya', 'washirika', 'wa', 'muungano', 'ndani', 'ya', 'muungano', 'wa', 'Rais', 'Kibaki', 'wa', 'NARC', 'umezua', 'tabia', 'mbaya', 'ya', 'kisiasa', ',', 'ambayo', 'baadaye', 'ililazimu', 'kupitishwa', 'kwa', 'Sheria', 'ya', 'vyama', 'vya', 'kisiasa', 'iliyorekebishwa', 'ya', '2022', ',', 'kufafanua', 'na', 'kutunga', 'sheria', 'jinsi', 'miungano', 'ya', 'kabla', 'na', 'baada', 'ya', 'uchaguzi', 'inapaswa', 'kusimamiwa', '.', 'Katiba', 'Mpya', 'Mtu', 'hawezi', 'kutenganisha', 'msukumo', 'wa', 'kutaka', 'katiba', 'mpya', 'na', 'urithi', 'wa', 'kidemokrasia', 'wa', 'Rais', 'Kibaki', '.', 'Tangu', 'mwanzoni', 'mwa', 'miaka', 'ya', '90', ',', 'Wakenya', 'walikuwa', 'wakipigania', 'kupitishwa', 'kwa', 'katiba', 'mpya', 'ambayo', 'ilikuwa', 'na', 'msukumo', 'wa', 'raia', 'na', 'isiyo', 'na', 'marekebisho', 'kidogo', '.', 'Pamoja', 'na', 'uchaguzi', 'wa', '2002', 'wa', 'Rais', 'Kibaki', ',', 'Wakenya', 'wengi', 'waliamini', 'kuwa', 'katiba', 'mpya', 'inaweza', 'kupatikana', '.', 'Hata', 'hivyo', 'utumizi', 'mbaya', 'wa', 'MoU', 'ya', 'kisiasa', 'ndani', 'ya', 'NARC', 'ya', 'Rais', 'Kibaki', 'ulikuwa', 'umeunda', 'mazingira', 'ya', 'sumu', 'ambayo', 'hayakuwa', 'na', 'uaminifu', 'na', 'hivyo', 'basi', 'kile', 'ambacho', 'kingekuwa', 'zoezi', 'la', 'kupendeza', 'katika', 'uundaji', 'wa', 'katiba', 'kiligeuka', 'kuwa', 'jaribio', 'la', 'kuchukiza', 'na', 'la', 'kuleta', 'migawanyiko', 'katika', 'uundaji', 'wa', 'katiba', '.', 'Mgawanyiko', 'kubwa', 'katika', 'serikali', 'ya', 'NARC', 'ulidhihirika', 'katika', 'kampeni', 'ya', 'kura', 'ya', 'maoni', 'ya', 'katiba', 'ya', '2005', ',', 'ambapo', 'nusu', 'ya', 'upande', 'wa', 'serikali', 'iliunga', 'mkono', 'rasimu', 'ya', 'katiba', 'huku', 'nusu', 'nyingine', 'ya', 'serikali', 'inayoongozwa', 'na', 'Raila', 'Odinga', 'ikipinga', 'rasimu', 'ya', 'katiba', '.', 'Rasimu', 'ya', 'katiba', 'hatimaye', 'ilishindwa', ',', 'nusu', 'ya', 'baraza', 'la', 'mawaziri', 'lililopinga', 'rasimu', 'hiyo', 'likafutwa', 'kazi', 'na', 'Rais', 'Kibaki', ',', 'na', 'chama', 'kipya', 'cha', 'kisiasa', 'kilichoitwa', 'Orange', 'Democratic', 'Movement', '(', 'ODM', ')', 'kikaundwa', ',', 'kikiongozwa', 'na', 'Raila', 'Odinga', '.', 'Msukumo', 'wa', 'kisiasa', 'ambao', 'ulitokana', 'na', 'kushindwa', 'kwa', 'rasimu', 'ya', 'katiba', 'ya', 'serikali', 'ya', 'Rais', 'Kibaki', 'uliendelezwa', 'hadi', 'kwenye', 'Uchaguzi', 'Mkuu', 'wa', '2007', ',', 'huku', 'chama', 'cha', 'ODM', 'kinachoongozwa', 'na', 'Raila', 'Odinga', 'kikiwa', 'kifua', 'mbele', '.', 'Ingawa', 'Tume', 'ya', 'Uchaguzi', 'ya', 'Kenya', '(', 'ECK', ')', 'ilimtangaza', 'Mwai', 'Kibaki', 'kuwa', 'mshindi', 'wa', 'uchaguzi', 'uliokuwa', 'na', 'ushindani', 'mkali', 'wa', '2007', ',', 'matokeo', 'yake', 'yalipingwa', 'na', 'chama', 'cha', 'ODM', ',', 'hatua', 'iliozidisha', 'maandamano', 'ya', 'Wakenya', 'wengi', 'ambao', 'walihisi', 'kuwa', 'Kibaki', 'hakushinda', 'uchaguzi', '.', 'Hili', 'ndilo', 'lililosababisha', 'ghasia', 'za', 'baada', 'ya', 'uchaguzi', 'ambazo', 'zilishuhudiwa', 'mwaka', 'wa', '2007', '.', 'Katika', 'juhudi', 'za', 'kuhakikisha', 'amani', 'na', 'utulivu', ',', 'serikali', 'ya', 'umoja', 'wa', 'kitaifa', 'iliundwa', 'huku', 'Kibaki', 'akiwa', 'bado', 'amebakia', 'kama', 'Rais', 'na', 'Raila', 'kama', 'Waziri', 'Mkuu', ',', 'na', 'kwa', 'ushirikiano', 'wa', 'pamoja', 'wakiwa', 'na', 'dhamira', 'ya', 'kuuundwa', 'na', 'hatimaye', 'kuidhinishwa', 'kuwa', 'katiba', 'mpya', '.', 'Huku', 'wahusika', 'wote', 'wakuu', 'wa', 'kisiasa', 'wakikubaliana', ',', 'Kenya', 'iliweza', 'kupata', 'na', 'kutunga', 'katiba', 'mpya', 'mwaka', 'wa', '2010', 'na', 'hivyo', 'kumaliza', 'kelele', 'na', 'hamu', 'ya', 'katiba', 'mpya', 'nchini', 'Kenya', '.', 'Hivyo', 'Rais', 'Kibaki', 'hatimaye', 'aliweza', 'kuwapa', 'Wakenya', 'katiba', 'mpya', '.', 'Huwezi', 'kusikiliza', 'tena', 'Maelezo', 'ya', 'video', ',', 'Aliyekuwa', 'rais', 'wa', 'Kenya', 'Mwai', 'Kibaki', 'amefariki', 'akiwa', 'na', 'umri', 'wa', 'miaka', '90', '.', 'Viongozi', 'aliowaacha', 'katika', 'ulingo', 'wa', 'kisiasa', 'Kuanzishwa', 'kwa', 'Serikali', 'ya', 'Umoja', 'wa', 'Kitaifa', '(', '2007-2013', ')', ',', 'ndiko', 'kulikozaa', 'kwa', 'namna', 'nyingi', 'zao', 'la', 'viongozi', 'wa', 'sasa', ';', 'huku', 'Raila', 'Odinga', 'akiteuliwa', 'kuwa', 'Waziri', 'Mkuu', ',', 'Uhuru', 'Kenyatta', 'na', 'Musalia', 'Mudavadi', 'waliteuliwa', 'kuwa', 'manaibu', 'waziri', 'Mkuu', ',', 'Kalonzo', 'Musyoka', 'aliteuliwa', 'kuwa', 'Makamu', 'wa', 'Rais', 'na', 'William', 'Ruto', 'aliteuliwa', 'kuwa', 'Waziri', 'wa', 'Kilimo', ';', 'watu', 'hawa', 'watano', 'wameendelea', 'kutawala', 'siasa', 'nchini', 'Kenya', 'hata', 'baada', 'ya', 'Rais', 'Mwai', 'Kibaki', 'kustaafu', 'mwaka', '2013', '.', 'Uchaguzi', 'mkuu', 'wa', '2013', 'ulikuwa', 'mchuano', 'kati', 'ya', 'muungano', 'wa', 'Waziri', 'Mkuu', 'Raila', 'Odinga', 'na', 'Makamu', 'wa', 'Rais', 'Kalonzo', 'Musyoka', '(', 'CORD', ')', 'dhidi', 'ya', 'muungano', 'wa', 'Naibu', 'Waziri', 'Mkuu', 'Uhuru', 'Kenyatta', 'na', 'Waziri', 'William', 'Ruto', '(', 'TNA/URP', ')', '.', 'Naibu', 'Waziri', 'Mkuu', 'Musalia', 'Mudavadi', 'pia', 'aliwania', 'wadhifa', 'huo', 'katika', 'uchaguzi', 'huo', '.', 'Wakati', 'wa', 'kampeni', 'za', '2013', 'nambazo', 'zilikuwa', 'tofauti', 'kabisa', 'na', 'kipindi', 'cha', 'mpito', 'cha', 'kisiasa', 'cha', '2002', 'kilichosimamiwa', 'na', 'mtangulizi', 'wake', ',', 'Rais', 'Mwai', 'Kibaki', 'alichagua', 'kuchukua', 'msimamo', 'wa', 'kutoegemea', 'upande', 'wowote', 'na', 'kwa', 'msisitizo', 'mkubwa', 'katika', 'kuhakikisha', 'kuna', 'mpito', 'wa', 'amani', 'kwa', 'yeyote', 'atakayeshinda', '.', 'Na', 'kwa', 'hili', ',', 'uchaguzi', 'wa', '2013', 'ulikuwa', 'wa', 'amani', 'kwa', 'kiasi', 'kikubwa', ',', 'wale', 'ambao', 'walisikitishwa', 'na', 'matokeo', 'ambapo', 'walihimizwa', 'kupinga', 'matokeo', 'kupitia', 'mahakama', 'kuu', 'mpya', 'iliyoanzishwa', 'kama', 'ilivyoainishwa', 'katika', 'katiba', 'na', 'hivyo', 'mabadiliko', 'ya', 'amani', 'yalifanyika', '.', 'Siasa', 'katika', 'maisha', 'ina', 'changamoto', 'nyingi', ',', 'kupanda', 'na', 'kushuka', ',', 'ushindi', 'na', 'hasara', ',', 'furaha', 'na', 'huzuni', ';', 'Rais', 'Mwai', 'Kibaki', ',', 'kama', 'mwanasiasa', 'kwa', 'ubora', 'alipitia', 'yote', 'haya', '.', 'Pamoja', 'na', 'mafanikio', 'yake', 'mengi', 'pia', 'alikuwa', 'na', 'mapungufu', 'yake', ',', 'lakini', 'yote', 'kumi', ',', 'Kenya', 'ilipata', 'mojawapo', 'ya', 'nyakati', 'zake', 'bora', 'za', 'ukuaji', 'wa', 'uchumi', 'wakati', 'wa', 'uongozi', 'wa', 'Rais', 'wa', '3', 'wa', 'Jamhuri', 'ya', 'Kenya', ';', 'huku', 'pia', 'ikipitia', 'kipindi', 'kigumu', 'cha', 'msukukosuko', 'wa', 'kisiasa', 'uliotokana', 'na', 'ghasia', 'za', 'baada', 'ya', 'uchaguzi', 'wa', 'mwaka', 'wa', '2007', '.']\n",
      "\n",
      " Number of Words:  1856\n"
     ]
    }
   ],
   "source": [
    "file=\"april29.txt\"\n",
    "\n",
    "# calling the function and storing the contents in a text variable \n",
    "text = get_document(\"https://www.bbc.com/swahili/habari-61271656\")\n",
    "\n",
    "# calling the store_ document function \n",
    "store_document(doc=text,name=file)\n",
    "\n",
    "#add the words in this file to the total_corpus_words, to keep count of the number of words in the corpus\n",
    "total_corpus_words+=total_words(file)"
   ]
  },
  {
   "cell_type": "code",
   "execution_count": 146,
   "metadata": {},
   "outputs": [
    {
     "data": {
      "text/plain": [
       "119570"
      ]
     },
     "execution_count": 146,
     "metadata": {},
     "output_type": "execute_result"
    }
   ],
   "source": [
    "total_corpus_words"
   ]
  },
  {
   "cell_type": "code",
   "execution_count": 147,
   "metadata": {},
   "outputs": [
    {
     "name": "stdout",
     "output_type": "stream",
     "text": [
      "['Mwili', 'wa', 'aliyekuwa', 'Rais', 'wa', 'Kenya', 'Emilio', 'Mwai', 'Kibaki', 'ukiwasili', 'nyumbani', 'kwake', 'Munyange', 'nje', 'kidogo', 'ya', 'mji', 'wa', 'Othaya', 'kwa', 'ajili', 'ya', 'maombi', 'ya', 'mwishoImage', 'caption', ':', 'Mwili', 'wa', 'aliyekuwa', 'Rais', 'wa', 'Kenya', 'Emilio', 'Mwai', 'Kibaki', 'ukiwasili', 'nyumbani', 'kwake', 'Munyange', 'nje', 'kidogo', 'ya', 'mji', 'wa', 'Othaya', 'kwa', 'ajili', 'ya', 'maombi', 'ya', 'mwisho', 'Rais', 'wa', 'Kenya', 'Uhuru', 'Kenyatta', 'ameongoza', 'taifa', 'katika', 'mazishi', 'ya', 'mtangulizi', 'wake', 'Hayati', 'Mwai', 'Kibaki', 'huko', 'Othaya', 'Kaunti', 'ya', 'Nyeri', '.', 'Mwili', 'wa', 'Rais', 'huyo', 'wa', 'zamani', 'ulishushwa', 'kaburini', 'na', 'Wanajeshi', 'wa', 'Ulinzi', 'wa', 'Kenya', 'muda', 'mfupi', 'baada', 'ya', 'saa', 'kumi', 'na', 'moja', 'jioni', 'mbele', 'ya', 'familia', 'yake', ',', 'Rais', 'Uhuru', 'Kenyatta', ',', 'Mke', 'wa', 'Rais', 'Margaret', 'Kenyatta', 'na', 'viongozi', 'kadhaa', 'wa', 'kitaifa', 'miongoni', 'mwao', 'DP', 'William', 'Ruto', 'na', 'Waziri', 'Mkuu', 'wa', 'zamani', 'Raila', 'Odinga', '.', 'IKULU', 'KENYACopyright', ':', 'IKULU', 'KENYA', 'IKULU', 'KENYACopyright', ':', 'IKULU', 'KENYA', 'IKULU', 'KENYACopyright', ':', 'IKULU', 'KENYA', 'Watoto', 'wa', 'marehemu', 'Rais', 'Mstaafu', 'wa', 'Kenya', 'Mwai', 'KibakiImage', 'caption', ':', 'Watoto', 'wa', 'marehemu', 'Rais', 'Mstaafu', 'wa', 'Kenya', 'Mwai', 'Kibaki', 'Wanajeshi', 'wa', 'majini', 'wa', 'Kenya', 'walifyatua', 'mizinga', '19', 'kwa', 'heshima', 'ya', 'Hayati', 'Rais', 'wa', 'tatu', 'wa', 'Kenya', 'Mwai', 'Kenya', 'wakati', 'mwili', 'wake', 'uliposhushwa', 'kaburini.Image', 'caption', ':', 'Wanajeshi', 'wa', 'majini', 'wa', 'Kenya', 'walifyatua', 'mizinga', '19', 'kwa', 'heshima', 'ya', 'Hayati', 'Rais', 'wa', 'tatu', 'wa', 'Kenya', 'Mwai', 'Kenya', 'wakati', 'mwili', 'wake', 'uliposhushwa', 'kaburini', '.', 'IKULU', 'KENYACopyright', ':', 'IKULU', 'KENYA', 'Rais', 'Kenyatta', 'na', 'mke', 'wake', 'Margaret', 'Kenyatta', 'wakiweka', 'shada', 'la', 'mau', 'akatika', 'kaburi', 'la', 'Kibaki.Image', 'caption', ':', 'Rais', 'Kenyatta', 'na', 'mke', 'wake', 'Margaret', 'Kenyatta', 'wakiweka', 'shada', 'la', 'mau', 'akatika', 'kaburi', 'la', 'Kibaki', '.', 'Habari', 'za', 'hivi', 'pundeMino', 'Raiola', ':', 'Wakala', 'wa', 'soka', 'afariki', 'akiwa', 'na', 'umri', 'wa', 'miaka', '54', 'Getty', 'ImagesCopyright', ':', 'Getty', 'Images', 'Wateja', 'wa', 'Mino', 'Raiola', 'ni', 'pamoja', 'na', 'mshambuliaji', 'wa', 'Sweden', 'na', 'AC', 'Milan', 'Zlatan', 'IbrahimovicImage', 'caption', ':', 'Wateja', 'wa', 'Mino', 'Raiola', 'ni', 'pamoja', 'na', 'mshambuliaji', 'wa', 'Sweden', 'na', 'AC', 'Milan', 'Zlatan', 'Ibrahimovic', 'Mino', 'Raiola', ',', 'wakala', 'aliyewakilisha', 'baadhi', 'ya', 'wachezaji', 'mashuhuri', 'wa', 'kandanda', ',', 'amefariki', 'akiwa', 'na', 'umri', 'wa', 'miaka', '54', '.', 'Raiola', 'alikuwa', 'wakala', 'wa', 'mshambuliaji', 'wa', 'Borussia', 'Dortmund', 'Erling', 'Haaland', ',', 'kiungo', 'wa', 'kati', 'wa', 'Manchester', 'United', 'Paul', 'Pogba', 'na', 'wa', 'AC', 'Milan', 'Zlatan', 'Ibrahimovic', '.', 'Raiola', 'pia', 'alikuwa', 'rais', 'wa', 'Jukwaa', 'la', 'Soka', ',', 'ambalo', 'liliwakilisha', 'mawakala', 'wakuu', 'na', 'wachezaji', 'wao', '.', '``', 'Uwepo', 'wake', 'utakosekana', 'milele', ',', \"''\", 'familia', 'ya', 'Raiola', 'ilisema', 'kwenye', 'taarifa', '.', 'Iliema', '``', 'Kwa', 'huzuni', 'isiyo', 'na', 'kikomo', ',', 'tunashiriki', 'kifo', 'cha', 'wakala', 'anayejali', 'na', 'wa', 'kushangaza', 'wa', 'mpira', 'wa', 'miguu', 'kuwahi', 'kutokea', '.', '``', 'Mino', 'alipambana', 'hadi', 'mwisho', 'kwa', 'nguvu', 'zile', 'zile', 'alizoziweka', 'kwenye', 'meza', 'za', 'mazungumzo', 'kuwatetea', 'wachezaji', 'wetu', '.', 'Kama', 'kawaida', ',', 'Mino', 'alitufanya', 'tujivunie', 'na', 'kamwe', 'hakutambua', '.', 'Raiola', ',', 'ambaye', 'pia', 'alimwakilisha', 'mshambuliaji', 'wa', 'Ubelgiji', 'Romelu', 'Lukaku', ',', 'fowadi', 'wa', 'Italia', 'Mario', 'Balotelli', 'na', 'beki', 'wa', 'kati', 'wa', 'Uholanzi', 'Matthijs', 'de', 'Ligt', ',', 'alikuwa', 'mtu', 'mwenye', 'utata', 'na', 'ushawishi', 'mkubwa', 'katika', 'soka', 'la', 'dunia', '.', 'Urusi', 'yaizuia', 'ndege', 'ya', 'Ukraine', 'kuingia', 'katika', 'anga', 'yake', 'Makombora', 'mawili', 'yaligonga', 'kiwanda', 'cha', 'kusafisha', 'mafuta', 'katika', 'eneo', 'linalopakana', 'na', 'Ukraine', 'wakati', 'vitengo', 'vya', 'ulinzi', 'wa', 'anga', 'vya', 'Urusi', 'vilipoizuia', 'ndege', 'ya', 'kivita', 'ya', 'Ukraine', 'iliyokuwa', 'ikijaribu', 'kuingia', 'anga', 'ya', 'Urusi', ',', 'gavana', 'wa', 'eneo', 'la', 'Bryansk', 'amesema', '.', 'Alexander', 'Bogomaz', 'alisema', 'wimbi', 'la', 'mlipuko', 'kutoka', 'kwa', 'tukio', 'hilo', 'liliharibu', 'sehemu', 'za', 'kituo', 'cha', 'mafuta', 'lakini', 'hakukuwa', 'na', 'majeruhi', '.', 'Urusi', 'haijabainisha', 'katika', 'chapisho', 'lake', 'kwenye', 'Telegram', 'ikiwa', 'milipuko', 'hiyo', 'ilitokana', 'na', 'moto', 'wa', 'ulinzi', 'wa', 'anga', 'wa', 'Urusi', 'au', 'ilitokana', 'na', 'makombora', 'yaliyorushwa', 'kutoka', 'kwa', 'ndege', 'ya', 'kijeshi', 'ya', 'Ukraine', '.', 'Mapema', 'wiki', 'hii', ',', 'magavana', 'wa', 'Bryansk', 'na', 'eneo', 'jirani', 'la', 'Kursk', 'walisema', 'kwamba', 'vituo', 'viwili', 'vya', 'ukaguzi', 'vya', 'mpaka', 'viligongwa', 'na', 'makombora', '``', 'kutoka', 'Ukraine', \"''\", '.', 'Ufaransa', 'yaahidi', 'kuongeza', 'msaada', 'wa', 'kijeshi', 'na', 'kibinadamu', 'kwa', 'Ukraine', 'Rais', 'Emmanuel', 'Macron', 'anasema', 'Ufaransa', 'itaongeza', 'msaada', 'wa', 'kijeshi', 'na', 'wa', 'kibinadamu', 'kwa', 'Ukraine', ',', 'kufuatia', 'mazungumzo', 'na', 'Volodymyr', 'Zelensky', '.', 'Macron', 'pia', 'alisisitiza', '``', 'wasiwasi', 'wake', 'mkubwa', \"''\", 'juu', 'ya', 'mashambulizi', 'ya', 'Urusi', 'katika', 'miji', 'ya', 'Ukraine', 'na', '``', 'hali', 'isiyoweza', 'kufumbiwa', 'macho', \"''\", 'katika', 'mji', 'wa', 'bandari', 'wa', 'kusini', 'wa', 'Mariupol', '.', 'Marekani', ',', 'Ufaransa', 'na', 'washirika', 'wengine', 'wameipatia', 'Kyiv', 'mamia', 'ya', 'silaha', 'za', 'masafa', 'marefu', 'ili', 'kuisaidia', 'kukabiliana', 'na', 'mashambulizi', 'ya', 'Moscow', 'katika', 'eneo', 'la', 'Donbas', 'mashariki', 'mwa', 'Ukraine', '.', 'Ofisi', 'ya', 'rais', 'wa', 'Ufaransa', 'pia', 'inasema', 'msaada', 'kwa', 'Ukraine', 'ni', 'sawa', 'na', '``', 'zaidi', 'ya', 'tani', '615', 'za', 'vifaa', ',', 'ikiwa', 'ni', 'pamoja', 'na', 'vifaa', 'vya', 'matibabu', ',', 'jenereta', 'kwa', 'hospitali', ',', 'chakula', 'cha', 'msaada', ',', 'malazi', 'na', 'magari', 'ya', 'dharura', \"''\", '.', 'Ukraine', 'yaishutumu', 'Urusi', 'kwa', 'kuiba', 'nafaka', 'Naibu', 'waziri', 'wa', 'kilimo', 'wa', 'Ukraine', 'ameishutumu', 'Urusi', 'kwa', 'kuiba', 'tani', 'laki', 'kadhaa', 'za', 'nafaka', 'kutoka', 'katika', 'eneo', 'linalokaliwa', 'na', 'vikosi', 'vyake', '.', 'Akizungumza', 'kwenye', 'televisheni', 'ya', 'taifa', 'ya', 'Ukraine', 'Taras', 'Vysotskyi', ',', 'alisema', 'anahofia', 'kwamba', 'Urusi', 'inaweza', 'kuiba', 'tani', 'nyingi', 'za', 'tani', 'milioni', '1.5', 'za', 'nafaka', 'katika', 'maeneo', 'ambayo', 'sasa', 'inadhibitiwa', '.', 'Urusi', 'haijazungumzia', 'madai', 'hayo', ',', 'lakini', 'jeshi', 'lake', 'limekumbwa', 'na', 'hasara', 'kubwa', 'kiuchumi', '.', 'Mashambulio', 'ya', 'makombora', 'ya', 'Urusi', 'na', 'hatua', 'yake', 'ya', 'kuziba', 'bandari', 'ya', 'Bahari', 'Nyeusi', 'ya', 'upande', 'wa', 'Ukraine', 'yametatiza', 'uzalishaji', 'wa', 'nafaka', ',', 'na', 'kuzua', 'wasiwasi', 'wa', 'kimataifa', 'juu', 'ya', 'kupanda', 'kwa', 'bei', 'ya', 'vyakula', '.', 'Ukraine', 'ni', 'mojawapo', 'ya', 'wauzaji', 'wa', 'juu', 'wa', 'mafuta', 'ya', 'nafaka', 'na', 'mboga', 'duniani', '.', 'Imepewa', 'jina', 'la', 'utani', '``', 'ghala', 'la', 'mkate', \"''\", 'la', 'Uropa', '.', 'Vysotskyi', 'amewahakikishia', 'wananchi', 'wa', 'Ukraine', 'kwamba', 'hawatakabiliwa', 'na', 'uhaba', 'wa', 'chakula', 'kwa', 'sababu', 'ya', 'usumbufu', 'huo', '.', 'Meli', 'ya', 'mizigo', 'iliyobeba', 'zaidi', 'ya', 'tani', '71,000', 'za', 'mahindi', 'ya', 'Ukraine', 'iliondoka', 'kwenye', 'bandari', 'ya', 'Romania', 'ya', 'Constanta', 'siku', 'ya', 'Alhamisi', '-', 'ya', 'kwanza', 'tangu', 'Urusi', 'ilipoivamia', 'Ukraine', 'tarehe', '24', 'Februari', '.', 'Constanta', 'inashughulikia', 'mauzo', 'ya', 'nje', 'ya', 'Ukraine', 'kwa', 'ushirikiano', 'wa', 'Romania', 'ya', 'mshikamano', ',', 'kwani', 'jeshi', 'la', 'wanamaji', 'la', 'Urusi', 'inashikilia', 'bandari', 'Odesa', ',', 'kitovu', 'kikuu', 'cha', 'usafirishaji', 'wa', 'Ukraine', '.', 'Nafaka', 'ni', 'suala', 'nyeti', 'sana', 'nchini', 'Ukraine', ',', 'na', 'familia', 'nyingi', 'zina', 'kumbukumbu', 'za', 'njaa', 'ya', 'miaka', 'ya', '1930', '(', '``', 'Holodomor', \"''\", ')', ',', 'iliyosababishwa', 'na', 'uhamisho', 'wa', 'Sovieti', 'wa', 'wakulima', 'matajiri', '(', '``', 'kulaks', \"''\", ')', 'na', 'unyakuzi', 'wa', 'mashamba', '.', 'Ibada', 'ya', 'mazishi', 'ya', 'Mwai', 'Kibaki', 'inaendelea', 'muda', 'huu', 'Ibada', 'ya', 'mazishi', 'ya', 'Rais', 'wa', 'zamani', 'wa', 'Kenya', 'Mwai', 'Kibaki', 'anaendelea', 'huko', 'Othaya', ',', 'Nyeri', '.', 'Ibada', 'hiyo', 'inaongozwa', 'na', 'Kanisa', 'Katoliki', 'ambalo', 'marehemu', 'alikuwa', 'mshirika', '.', 'Rais', 'Uhuru', 'Kenyatta', 'na', 'viongozi', 'wengine', 'nchini', 'Kenya', 'wanahudhudia', 'ibada', 'hiyo', '.', 'IKULU', 'KENYACopyright', ':', 'IKULU', 'KENYA', 'Picha', 'zinazonesha', 'Kibaki', 'akiwa', 'Mbunge', 'MP', ',', 'Naibu', 'Waziri', ',', 'Makamu', 'wa', 'Rais', ',', 'na', 'Kiongozi', 'wa', 'Upinzani', 'kabla', 'ya', 'kuwa', 'Rais', 'wa', 'tatu', 'wa', 'Kenya', 'mwaka', '2002Image', 'caption', ':', 'Picha', 'zinazonesha', 'Kibaki', 'akiwa', 'Mbunge', 'MP', ',', 'Naibu', 'Waziri', ',', 'Makamu', 'wa', 'Rais', ',', 'na', 'Kiongozi', 'wa', 'Upinzani', 'kabla', 'ya', 'kuwa', 'Rais', 'wa', 'tatu', 'wa', 'Kenya', 'mwaka', '2002', 'IKULU', 'YA', 'KENYACopyright', ':', 'IKULU', 'YA', 'KENYA', 'Rais', 'wa', 'Kenya', 'Uhuru', 'Kenyatta', 'akiwasalimia', 'viongozi', 'wa', 'kidini', 'alipowasili', 'mjini', 'OthayaImage', 'caption', ':', 'Rais', 'wa', 'Kenya', 'Uhuru', 'Kenyatta', 'akiwasalimia', 'viongozi', 'wa', 'kidini', 'alipowasili', 'mjini', 'Othaya', 'Rais', 'Mstaafu', 'wa', 'Kenya', 'Hayati', 'Mwai', 'Kibaki', 'kuzikwa', 'leo', 'Mwili', 'wa', 'Rais', 'huyo', 'wa', 'Tatu', 'wa', 'Kenya', 'utapitia', 'Kaunti', 'za', 'Kiambu', ',', 'Murang', \"'\", 'a', ',', 'Kirinyaga', 'na', 'Nyeri', 'ili', 'kuwapa', 'wakazi', 'wa', 'eneo', 'la', 'Kati', 'mwa', 'Kenya', 'fursa', 'ya', 'kumuaga', 'kiongozi', 'wao', 'mpendwa', 'na', 'aliyehudumu', 'kwa', 'muda', 'mrefu', '.', 'Mara', 'baada', 'ya', 'Ibada', 'ya', 'Mazishi', 'ya', 'Kiserikali', 'katika', 'Uwanja', 'wa', 'Shule', 'ya', 'Othaya', ',', 'mwili', 'wa', 'hayati', 'Mwai', 'Kibaki', ',', 'aliyefariki', 'Ijumaa', 'wiki', 'iliyopita', 'akiwa', 'na', 'umri', 'wa', 'miaka', '90', ',', 'utazikwa', 'nyumbani', 'kwake', 'Munyange', 'viungani', 'mwa', 'mji', 'wa', 'Othaya', '.']\n",
      "\n",
      " Number of Words:  1235\n"
     ]
    }
   ],
   "source": [
    "file=\"april30.txt\"\n",
    "\n",
    "# calling the function and storing the contents in a text variable \n",
    "text = get_document(\"https://www.bbc.com/swahili/live/habari-61282417\")\n",
    "\n",
    "# calling the store_ document function \n",
    "store_document(doc=text,name=file)\n",
    "\n",
    "#add the words in this file to the total_corpus_words, to keep count of the number of words in the corpus\n",
    "total_corpus_words+=total_words(file)"
   ]
  },
  {
   "cell_type": "code",
   "execution_count": 148,
   "metadata": {},
   "outputs": [
    {
     "data": {
      "text/plain": [
       "120805"
      ]
     },
     "execution_count": 148,
     "metadata": {},
     "output_type": "execute_result"
    }
   ],
   "source": [
    "total_corpus_words"
   ]
  },
  {
   "cell_type": "code",
   "execution_count": 149,
   "metadata": {},
   "outputs": [
    {
     "name": "stdout",
     "output_type": "stream",
     "text": [
      "['Siku', 'ya', 'wafanyakazi', ':', 'Fahamu', 'matarajio', 'ya', 'Wafanyakazi', 'wa', 'Tanzania', 'Wafanyakazi', 'wengi', 'Tanzania', 'inapofika', 'siku', 'ya', 'Mei', 'Mosi', 'huwa', 'wanaitizima', 'serikali', 'kwa', 'jicho', 'la', 'namna', 'ya', 'tofauti', '.', 'Siku', 'hii', 'imekuwa', 'ni', 'siku', 'muhimu', 'sana', 'kwao', 'kwani', 'ndio', 'siku', 'wanapata', 'wasaha', 'wa', 'kuweza', 'kuelezea', 'kero', 'zao', 'kwa', 'Rais', 'wa', 'Jamhuri', 'ya', 'Muungano', 'wa', 'Tanzania', 'na', 'kupewa', 'majibu', '.', 'Mei', 'mosi', 'ilikuwa', 'imezoeleka', 'kama', 'siku', 'ambayo', 'wafanyakazi', 'walikuwa', 'wakiongezewa', 'mishahara', 'lakini', 'hali', 'hiyo', 'imebadilika', 'kwani', 'kwa', 'zaidi', 'ya', 'miaka', 'mitano', '(', '5', ')', 'hivi', 'sasa', 'tokea', 'Dkt', '.', 'Jakaya', 'Mrisho', 'Kikwete', 'aondoke', 'madarakani', '2015', 'wafanyakazi', 'wa', 'Tanzania', 'hawajapata', 'kupandishiwa', 'mishahara', '.', 'Athari', 'za', 'kutoongezwa', 'kwa', 'mishahara', 'Kutoongezwa', 'kwa', 'mishahara', 'ya', 'wafanyakazi', 'kumesababisha', 'athari', 'mbalimbali', 'katika', 'sekta', 'tofuti', 'nchini', '.', 'Mfano', 'imepelekea', 'kushuka', 'kwa', 'morali', 'ya', 'wafanyakazi', 'kufanya', 'kazi', 'kwa', 'bidii', '.', 'Imewafanya', 'baadhi', 'ya', 'watendaji', 'wa', 'serikali', 'kuacha', 'kazi', 'kutokana', 'na', 'ujira', 'hafifu', '.', 'Imesababisha', 'kiwango', 'cha', 'ubunifu', 'katika', 'utendaji', 'wa', 'shughuli', 'za', 'kiserikali', 'kushuka', 'kwa', 'kasi', 'kubwa', '.', 'Imeshusha', 'ufanisi', 'wa', 'utendaji', 'wa', 'wafanyakazi', 'ndani', 'ya', 'Serikali', 'kuwa', 'ni', 'wa', 'kusuasua', 'sana', 'kiasi', 'kwamba', 'matokeo', 'ya', 'utendaji', 'wao', 'ndani', 'ya', 'Serikali', 'kuonekana', 'siyo', 'wa', 'kuridhisha', 'kabisa', '.', 'Katika', 'kuboresha', 'utendaji', 'wa', 'Serikali', 'ni', 'muhimu', 'maslahi', 'ya', 'watendaji', 'wa', 'Serikali', 'yaani', 'mishahara', 'kuboreshwa', 'kama', 'maadai', 'yao', 'yanavyoainisha', 'na', 'vyama', 'vyao', 'vya', 'wafanyakazi', 'kama', 'vile', ';', 'TUCTA', ',', 'RAAWU', ',', 'CWT', ',', 'CHODAWU', ',', 'TUICO', ',', 'JT', ',', 'TAMICO', ',', 'TALGWU', 'na', 'TUGHE', ',', 'kwani', 'kwa', 'kutokufanya', 'hivyo', 'kunapelekea', 'baadhi', 'ya', 'mambo', 'ya', 'kiserikali', 'kufanyika', 'katika', 'viwango', 'hafifu', 'na', 'visivyo', 'vya', 'kuridhisha', 'hata', 'kidogo', '.', 'Mei', 'Mosi', 'nchini', 'Kenya', 'Mwaka', '2017', ',', 'Rais', 'wa', 'Kenya', 'Uhuru', 'Kenyatta', 'alitangaza', 'nyongeza', 'ya', 'mshahara', 'wa', 'chini', 'zaidi', 'ambapo', 'alisema', 'mfanyakazi', 'anastahili', 'kulipwa', 'kwa', 'asilimia', '18', '(', '18', '%', ')', 'na', 'hayo', 'aliyatangaza', 'kwenye', 'siku', 'ya', 'wafanyakazi', 'duniani', '1', 'Mei', ',', '2017', '.', 'Hakuishia', 'hapo', 'tu', 'bali', 'alisema', 'mshahara', 'ulio', 'chini', 'ya', 'shilingi', '13,475', 'hautotozwa', 'kodi', '.', 'Hata', 'hivyo', 'bado', 'wafanyakazi', 'wa', 'Kenya', 'wanahitaji', 'kuongozewa', 'mishahara', 'kwani', 'hali', 'ya', 'kiuchumi', 'imebadilika', 'na', 'hivyo', 'wanahitaji', 'maboresho', 'pia', 'katika', 'mishahara', 'yao', '.', 'Donge', 'nono', 'la', 'wanasiasa', 'Wanasiasa', 'wameonekana', 'kuwa', 'na', 'misharahara', 'mikubwa', 'kwa', 'nchi', 'za', 'Afrika', 'hasa', 'Afrika', 'ya', 'Mashariki', 'lakini', 'watendaji', 'wengi', 'wa', 'serikalini', 'kama', 'vile', 'walimu', ',', 'wauguzi', ',', 'madaktari', 'na', 'wengine', 'wakiwa', 'na', 'mishahara', 'ya', 'tia', 'maji', 'tia', 'maji', 'huku', 'watu', 'kama', 'wabunge', 'na', 'mawaziri', 'wakiwa', 'na', 'mishahara', 'mikubwa', ',', 'posho', 'kubwa', 'na', 'viinua', 'mgongo', 'vikubwa', 'jambo', 'ambalo', 'limetengeneza', 'tabaka', 'na', 'wivu', 'mkubwa', 'sana', 'katika', 'viwango', 'vya', 'mishahara', 'huku', 'watu', 'wengi', 'wakitamani', 'kuingia', 'kwenye', 'siasa', 'kuliko', 'kuwa', 'mfanyakazi', 'katika', 'ofisi', 'za', 'umma', '.', 'Kumekuwa', 'na', 'tatizo', 'la', 'mishahara', 'duni', 'katika', 'nchi', 'za', 'Afrika', 'kiasi', 'kwamba', 'watu', 'wanakimbia', 'kufanya', 'kazi', 'kutoka', 'serikalini', 'na', 'kwenda', 'sekta', 'binafsi', 'na', 'hata', 'kuingia', 'kwenye', 'siasa', '.', 'Mwaka', '2017', 'nchini', 'Uganda', 'madaktari', 'wa', 'hospitali', 'za', 'umma', 'nchini', 'waligoma', 'kupinga', 'mishahara', 'duni', 'na', 'uhaba', 'wa', 'vitendea', 'kazi', ',', 'hali', 'iliyopelekea', 'baadhi', 'ya', 'wagonjwa', 'kufariki', ',', 'hali', 'iliyopelekea', 'hasira', 'nyingi', 'za', 'wananchi', 'dhidi', 'ya', 'Serikali', '.', 'Jambo', 'hili', 'lilidhihirika', 'pia', 'Tanzania', 'siku', 'za', 'karibuni', 'pale', 'madaktari', 'na', 'wauguzi', 'walipochaguliwa', 'na', 'Serikali', 'kwenda', 'kufanya', 'kazi', 'katika', 'hospitali', 'za', 'umma', 'kuziacha', 'kazi', 'hizo', 'na', 'kwenda', 'hospitali', 'binafsi', 'ambapo', 'Raisi', 'wa', 'wakati', 'ule', 'Dkt', '.', 'John', 'Magufuli', 'alitishia', 'kuwafutia', 'leseni', 'zao', 'za', 'udaktari', '.', 'Virusi', 'vya', 'Corona', 'Hivi', 'sasa', 'dunia', 'inapita', 'kwenye', 'wimbi', 'zito', 'la', 'ugonjwa', 'wa', 'Corona', '(', 'COVID-19', ')', 'jambo', 'ambalo', 'limesababisha', 'mataifa', 'mengi', 'duniani', 'kuyumba', 'kiuchumi', '.', 'Hali', 'za', 'wafanyakazi', 'kwa', 'ujumla', 'siyo', 'njema', 'hata', 'kidogo', 'kwani', 'gharama', 'za', 'maisha', 'zimeongezeka', 'huku', 'mishahara', 'yao', 'ikibaki', 'kuwa', 'ile', 'ile', 'jambo', 'linalowapelekea', 'kushindwa', 'kumudu', 'gharama', 'za', 'maisha', 'na', 'kufanya', 'maisha', 'yao', 'kuwa', 'magumu', '.', '•Je', ',', 'suala', 'la', 'kupandishwa', 'madaraja', 'kwa', 'watumishi', 'wa', 'umma', 'atalisemea', 'vipi', 'au', 'mtaji', 'wa', 'maskini', 'utasalia', 'kuwa', 'nguvu', 'zake', 'mwenyewe', '?', '•Je', ',', 'Mazingira', 'ya', 'ufanyajikazi', 'wa', 'watumishi', 'wa', 'Serikali', 'atayatizama', 'upya', 'hususani', 'vitisho', 'vinavyotolewa', 'na', 'viongozi', 'wa', 'kiserikali', 'dhidi', 'ya', 'watendaji', 'wa', 'serikali', 'na', 'ofisi', 'nyingine', 'za', 'umma', '?', 'Haya', 'ni', 'baadhi', 'ya', 'machache', 'wafanyakzi', 'wanajiuliza', 'juu', 'ya', 'siku', 'ya', 'wafanyakazi', 'duniani', '1', 'Mei', ',', '2021', 'chini', 'ya', 'uongozi', 'mpya', 'wa', 'Mheshimiwa', 'Samia', 'Suluhu', 'Hassan', '.', 'Wafanyakazi', 'wa', 'Afrika', 'mashariki', 'Chanzo', 'cha', 'picha', ',', 'Getty', 'Images', 'Maelezo', 'ya', 'picha', ',', 'Wafanyakazi', 'wa', 'kiwanda', 'cha', 'korosha', 'Mtwara', 'Mataifa', 'mengi', 'hivi', 'sasa', 'duniani', 'kama', 'vile', 'Marekani', ',', 'Uingereza', ',', 'Rwanda', ',', 'Ujerumani', ',', 'Ufaransa', 'na', 'nyingineza', 'yameweza', 'kuandaa', 'mikakati', 'ya', 'kuweza', 'kuwasaidia', 'wafanyakzi', 'wao', '.', 'Lakini', 'unaweza', 'kuona', 'kwa', 'nchi', 'kama', 'Tanzania', ',', 'Kenya', ',', 'Uganda', 'na', 'nchi', 'nyingine', 'za', 'kiafrika', 'hazijaweka', 'bayana', 'namna', 'zililivyojipanga', 'kuboresha', 'maslahi', 'ya', 'wafanyakazi', '.', 'Ni', 'vyema', 'kufanya', 'hivyo', 'hivi', 'sasa', 'kwani', 'gharama', 'za', 'maisha', 'zimeongezeka', 'na', 'hivyo', 'kupelekea', 'hali', 'ngumu', 'ya', 'kimaisha', 'kwa', 'watumishi', 'wengi', 'wa', 'umma', '.', 'Wafanyakazi', 'ni', 'nyenzo', 'muhimu', 'sana', 'katika', 'taifa', 'lolote', 'lile', 'kuweza', 'kupiga', 'hatua', 'za', 'kimaendeleo', ',', 'kwa', 'namna', 'hiyo', 'ni', 'vyema', 'mataifa', 'yote', 'kama', 'vile', 'Tanzania', ',', 'Kenya', ',', 'Uganda', 'na', 'nchi', 'nyingine', 'kuona', 'namna', 'ya', 'kuboresha', 'maslahi', 'au', 'mishahara', 'ya', 'wafanyakazi', 'wao', 'serikalini', 'kwani', 'kutasidia', 'kuongeza', 'ufanisi', 'katika', 'maeneo', 'yao', 'ya', 'kazi', '.', 'Kama', 'maslahi', 'ya', 'wanasiasa', 'yalivyoboreshwa', 'ni', 'vyema', 'na', 'maslahi', 'ya', 'wafanyakazi', 'wa', 'umma', 'nayo', 'yakaboreshwa', 'ili', 'kuwewza', 'kuendana', 'na', 'hali', 'za', 'kiuchumi', 'zilizopo', 'hivi', 'sasa', '.', 'Habari', 'za', 'moja', 'kwa', 'moja', 'Fahamu', 'mkasa', 'wa', 'mwanamuziki', 'Harmonize', 'nchini', 'Kenya', 'Mwanamuziki', 'kutoka', 'Tanzania', 'Rajab', 'Abdul', 'maarufu', 'kama', 'Harmonize', ',', 'alikamatwa', 'na', 'polisi', 'kisha', 'kuachiwa', 'huru', 'Nairobi', 'nchini', 'Kenya', 'kwa', 'madai', 'ya', 'kulipwa', 'bila', 'kutokea', 'katika', 'baadhi', 'ya', 'kumbi', 'za', 'starehe', 'kwa', 'ajili', 'ya', 'kutumbuiza', '.', 'Kwa', 'mujibu', 'wa', 'vyombo', 'vya', 'Habari', 'nchini', 'Kenya', 'Harmonize', 'kwa', 'ushirikiano', 'na', 'mwenyeji', 'wake', 'msanii', 'wa', 'Vichekesho', 'Erick', 'Omondi', 'wa', 'nchini', 'Kenya', ',', 'walitoa', 'ahadi', 'ya', 'kutumbuiza', 'lakini', 'jambo', 'hilo', 'halikufanyika', '.', 'Baada', 'ya', 'madai', 'hayo', ',', 'aliyekua', 'gavana', 'wa', 'Nairobi', 'Mike', 'Sonko', 'ambaye', 'alimualika', 'pia', 'Harmonize', 'kutumbuiza', 'mjini', 'Mombasa', 'alisema', 'kuwa', 'Harmonize', 'ameachiwa', ',', 'na', 'sasa', 'anaelekea', 'Mombasa', '.', '‘', '’', 'kuna', 'klabu', 'alitakiwa', 'kutumbuiza', 'lakini', 'hakwenda', ',', 'sio', 'yeye', 'aliosaini', 'mkataba', 'bali', 'ni', 'madalali', ',', 'na', 'sasa', 'yupo', 'huru', 'na', 'anelekea', 'Mombasa', 'kutumbuiza', 'mashabiki', 'wa', 'Mombasa', '’', '’', 'anasema', 'Sonko', 'Katika', 'ukurasa', 'wa', 'mchekeshaji', 'Erick', 'Omondi', ',', 'anadai', 'kuwa', 'alifika', 'mapema', 'leo', 'katika', 'kituo', 'cha', 'polisi', 'cha', 'Kileleshwa', 'jijini', 'Nairobi', 'ili', 'kumuwekea', 'dhamana', 'Harmonize', 'lakini', 'aliishia', 'kupigwa', 'ngumi', 'ya', 'uso', 'na', 'msanii', 'huyo', '.', 'Kwa', 'madai', 'ya', 'Omondi', 'alimshauri', 'Harmonize', 'arudishe', 'pesa', 'kwa', 'wamiliki', 'wa', 'kumbi', 'za', 'starehe', 'lakini', 'Harmonize', 'alikataa', '.', 'Baadhi', 'ya', 'wamiliki', 'wa', 'kumbi', 'za', 'starehe', 'wanatupa', 'lawama', 'kwa', 'Harmonize', 'pamoja', 'na', 'Erick', 'Omondi', '.', '‘', '’', 'timu', 'yote', 'wanatakiwa', 'kulaumiwa', ',', 'Harmonize', 'na', 'Omondi', ',', 'tumelipia', 'pesa', 'lakini', 'hatujapata', 'huduma', ',', 'mimi', 'Pamoja', 'na', 'mashabiki', ',', 'na', 'mkataba', 'unasema', 'anatakiwa', 'kutumbuiza', 'kwa', 'saa', 'moja', 'na', 'nusu', ',', 'lakini', 'hilo', 'halikutokea', '’', '’', 'anasema', 'mkurugenzi', 'wa', 'kumbi', 'ya', 'starehe', 'ya', 'Captain', 'Lounge', '.', 'Kwa', 'upande', 'wa', 'meneja', 'wa', 'Harmonize', 'anayejulikana', 'kama', 'Mchopa', ',', 'anasema', 'hajapata', 'taarifa', 'za', 'kukamatwa', 'kwake', 'ila', 'anawatafuta', 'Harmonize', 'na', 'timu', 'yake', 'walioko', 'nchini', 'Kenya', 'lakini', 'hawapatikani', '’', '’', '‘', '’', 'Inawezekana', 'wapo', 'kwenye', 'ndege', 'ndio', 'mana', 'hawapatikani', '’', '’', 'anasema', 'Mchopa', '.', 'Spika', 'wa', 'Marekani', 'Pelosi', 'akutana', 'na', 'Zelensky', 'mjini', 'Kyiv', 'Spika', 'wa', 'Baraza', 'la', 'Wawakilishi', 'la', 'Marekani', 'Nancy', 'Pelosi', 'amefanya', 'ziara', 'ya', 'ghafla', 'mjini', 'Kyiv', 'na', 'kukutana', 'na', 'Rais', 'wa', 'Ukraine', 'Volodymyr', 'Zelensky', '.', 'Katika', 'ujumbe', 'wa', 'tweet', 'iliyo', 'na', 'video', 'fupi', 'inamuonesha', 'Pelosi', 'katika', 'mitaa', 'ya', 'mji', 'mkuu', 'wa', 'Ukraine', ',', 'Rais', 'Zelensky', 'alisema', '``', 'Marekani', 'ndio', 'inayoongoza', 'kwa', 'kuunga', 'mkono', 'vita', 'vya', 'Ukraine', 'dhidi', 'ya', 'uvamizi', 'wa', 'Urusi', \"''\", '.', '``', 'Asante', 'kwa', 'kusaidia', 'kulinda', 'mamlaka', 'na', 'uadilifu', 'wa', 'eneo', 'la', 'jimbo', 'letu', '!', \"''\", 'Rais', 'wa', 'Ukraine', 'Volodymyr', 'Zelensky', 'amesema', 'Urusi', 'inajaribu', 'kuongeza', 'shinikizo', 'kwa', 'vikosi', 'vya', 'Ukraine', 'katika', 'eneo', 'la', 'Donbas', 'mashariki', '.', 'Katika', 'hotuba', 'yake', 'ya', 'njia', 'ya', 'video', 'ya', 'usiku', 'wa', 'Jumamosi', 'alisema', '``', 'wanakusanya', 'vikosi', 'vya', 'ziada', 'kwa', 'mashambulizi', 'mapya', 'huko', \"''\", 'lakini', 'alikuwa', 'na', 'ujumbe', 'wa', 'dharau', 'ambao', 'aliuelekeza', 'moja', 'kwa', 'moja', 'kwa', 'wanajeshi', 'wa', 'Urusi', '.', '``', 'Ni', 'bora', 'mkaishi', 'kwenu', 'Urusi', 'kuliko', 'kuangamia', 'kwenye', 'ardhi', 'yetu', ',', \"''\", 'alisema', '.', '``', 'Tunajua', 'kuwa', 'jeshi', 'la', 'Urusi', 'linajiandaa', 'kwa', 'hasara', 'kubwa', 'mpya', '.', 'Katika', 'vitengo', 'hivyo', ',', 'ambavyo', 'wafanyakazi', 'wake', 'walidhoofishwa', 'mnamo', 'Machi-Aprili', ',', 'askari', 'wapya', 'wanaajiriwa', 'na', 'motisha', 'kidogo', ',', 'uzoefu', 'mdogo', 'wa', 'mapigano', ',', '``', 'alisema', '.', '``', 'Kila', 'askari', 'wa', 'Urusi', 'anaweza', 'kuokoa', 'maisha', 'yake', 'mwenyewe', ',', \"''\", 'alisema', '.', 'Zelensky', 'alisema', 'Ukraine', 'ilikuwa', 'inafanya', '``', 'kila', 'kitu', \"''\", 'kuhakikisha', 'kazi', 'inafanywa', 'kuwaondoa', 'mamia', 'ya', 'raia', 'na', 'wapiganaji', 'waliokwama', 'kutoka', 'mji', 'wa', 'kusini', 'wa', 'Mariupol', '.', 'Aidha', 'aliongeza', 'kuwa', 'Ukraine', 'inafanya', 'kazi', 'na', 'washirika', 'kuongeza', 'vikwazo', 'dhidi', 'ya', 'Moscow', 'na', 'anatarajia', 'kuona', 'uamuzi', 'juu', 'ya', 'vikwazo', 'zaidi', 'vya', 'mafuta', '``', 'katika', 'siku', 'za', 'usoni', \"''\", '.', 'Alisema', 'njia', 'ya', 'iliyoharibiwa', 'katika', 'uwanja', 'wa', 'ndege', 'wa', 'Odesa', 'itajengwa', 'upya', 'na', 'kuahidi', 'kuwa', 'miji', 'inayokaliwa', 'na', 'Urusi', ',', 'ikiwemo', 'Kherson', ',', 'Melitopol', 'na', 'Berdyansk', 'itakombolewa', '.', 'Sikukuu', 'ya', 'wafanyakazi', ':', 'Morocco', 'yaongeza', 'mshahara', 'kwa', '16', '%', ',', 'Kenya', '12', '%', 'Serikali', 'ya', 'Morocco', 'imetangaza', 'mipango', 'ya', 'kuongeza', 'kima', 'cha', 'chini', 'cha', 'mishahara', 'ya', 'watumishi', 'wa', 'umma', 'kwa', '16', '%', 'na', 'kile', 'cha', 'wafanyakazi', 'wengine', 'kwa', '10', '%', '.', 'Ongezeko', 'la', '10', '%', 'litapunguzwa', 'kwa', 'muda', 'wa', 'miaka', 'miwili', ',', 'ikishuhudia', 'ongezeko', 'la', '5', '%', 'mnamo', 'Septemba', '2022', 'na', 'lingine', '5', '%', 'kuruka', 'mwaka', 'mmoja', 'baadaye', ',', 'kwa', 'mujibu', 'wa', 'Morocco', 'World', 'News', '.', 'Ongezeko', 'hilo', 'lililopendekezwa', 'lilikuwa', 'sehemu', 'ya', 'makubaliano', 'kati', 'ya', 'serikali', ',', 'vyama', 'vya', 'wafanyakazi', 'na', 'shirikisho', 'la', 'waajiri', ',', 'kulingana', 'na', 'shirika', 'la', 'habari', 'la', 'Reuters', '.', 'Serikali', 'inataka', 'kuboresha', 'hali', 'ya', 'watu', 'wanaofanya', 'kazi', ',', 'Morocco', 'World', 'News', 'inasema', '.', 'Wananchi', 'pia', 'wataona', 'ongezeko', 'la', 'posho', 'za', 'familia', 'kwa', 'wale', 'wenye', 'watoto', 'zaidi', 'ya', 'watatu', 'Wakati', 'huo', 'huo', 'Rais', 'Uhuru', 'Kenyatta', 'wa', 'Kenya', 'ameongeza', 'kima', 'cha', 'chini', 'cha', 'mshahara', 'wa', 'wafanyakazi', 'kwa', 'asilimia', '12', ',', 'kuanzia', 'Mei', '2022', '.', 'Rais', 'Uhuru', 'alitoa', 'tangazo', 'hilo', 'Jumapili', ',', 'Mei', ',', 'alipoongoza', 'Wakenya', 'kusherehekea', 'Siku', 'ya', 'Wafanyakazi', 'mwaka', 'huu', 'katika', 'uwanja', 'wa', 'Nyayo', 'jijini', 'Nairobi', ',', 'ambapo', 'maafisa', 'wa', 'muungano', 'walimtaka', 'azingatie', 'maslahi', 'ya', 'wafanyakazi', '.', 'Rais', 'Kenyatta', 'alisema', 'uamuzi', 'huo', 'unalenga', 'kuongeza', 'nguvu', 'kazi', 'ya', 'nchi', 'dhidi', 'ya', 'kupanda', 'kwa', 'gharama', 'ya', 'maisha', 'kunakosababishwa', 'na', 'sababu', 'kadhaa', 'za', 'kiuchumi', 'za', 'nje', '.', 'Wakazi', 'wa', 'Mji', 'wa', 'Kherson', 'wagoma', 'kutumia', 'fedha', 'ya', 'Urusi', '(', 'Rubles', ')', 'Ruble', 'ya', 'Urusi', 'itatumika', 'Kherson', 'kuanzia', 'Jumapili', ',', 'kulingana', 'na', 'vikosi', 'vinavyoungwa', 'mkono', 'na', 'Urusi', 'ambavyo', 'vimechukua', 'udhibiti', 'wa', 'mji', 'wa', 'kusini', 'mwa', 'Ukraine', '.', 'Hata', 'hivyo', ',', 'meya', 'wa', 'Kherson', 'wa', 'Ukraine', ',', 'Ihor', 'Kolykhaiev', ',', 'ambaye', 'sasa', 'amepinduliwa', 'na', 'mamlaka', 'ya', 'Urusi', ',', 'amesema', 'kuwa', 'haamini', 'kuwa', 'hilo', 'litawezekana', 'ilhali', 'mfumo', 'pekee', 'wa', 'benki', 'unaofanya', 'kazi', 'katika', 'eneo', 'hilo', 'ni', 'wa', 'Ukraine', ',', 'sio', 'Kirusi', '.', 'Licha', 'ya', 'kukaliwa', 'kwa', 'muda', 'wa', 'siku', '60', ',', 'wakazi', 'wengi', 'wanajaribu', 'kutafuta', 'njia', 'ndogo', 'za', 'kukaidi', 'majeshi', 'ya', 'Urusi', '-', 'kama', 'kubadilisha', 'rubles', 'wanazopokea', 'kurudi', 'kwenye', 'sarafu', 'ya', 'Ukraine', ',', 'hryvnia', '.', 'Lakini', 'kuna', 'njia', 'chache', 'sana', 'za', 'kulipuuza', 'jeshi', 'la', 'Urusi', 'kwa', 'usalama', 'linapochukua', 'mitaa', 'yako', '.', 'Ishara', 'za', 'Z', '-', 'ishara', 'ya', 'kuunga', 'mkono-vita', 'ya', 'Kirusi', '-', 'zimeonekana', 'karibu', 'na', 'jiji', '.', 'Bendera', 'za', 'Urusi', \"zinaning'inia\", 'juu', 'ya', 'majengo', 'ya', 'serikali', 'ya', 'Kherson', '.', 'Runinga', 'ya', 'Kiukreni', 'imekatishwa', 'zaidi', ',', 'ikabadilishwa', 'kuwa', 'habari', 'ya', 'Urusi', '.', 'Wanajeshi', 'wa', 'Urusi', 'wanaendesha', 'magari', 'ya', 'kivita', 'katikati', 'mwa', 'jiji', ',', 'kati', 'ya', 'mtandao', 'wa', 'vituo', 'vya', 'ukaguzi', '.', 'Sasa', ',', 'kubadilisha', 'fedha', 'za', 'eneo', 'hilo', 'bado', 'ni', 'jitihada', 'nyingine', 'ya', 'kufuta', 'utambulisho', 'wa', 'Kiukreni', 'kutoka', 'kwa', 'jiji', 'hilo', '.', '``', 'Nadhani', 'watu', 'wengi', 'wataondoka', 'hapa', 'ikiwa', 'ruble', 'itaanzishwa', ',', \"''\", 'Olga', ',', 'ambaye', 'hakutaka', 'kutumia', 'jina', 'lake', 'halisi', ',', 'aliiambia', 'BBC', 'kutoka', 'ndani', 'ya', 'Kherson', '.', '``', 'Kwa', 'sasa', 'bado', 'kuna', 'ubadilishaji', 'wa', 'fedha', 'mjini', '.', 'Nikilipwa', 'kwa', 'rubles', ',', 'nadhani', 'nitaenda', 'tu', 'kubadilisha', 'hryvnia', ',', 'nadhani', 'wengine', 'pia', 'watafanya', 'hivyo', '.', 'Ni', 'kitendo', 'kidogo', 'tu', 'cha', 'kupinga', '.', \"''\", 'Olga', 'sio', 'pekee', 'aliye', 'na', 'mpango', 'huu', '.', 'Ripoti', 'za', 'habari', 'za', 'Kiukreni', 'zimesema', 'kwamba', 'baadhi', 'ya', 'pensheni', 'zimetolewa', 'kwa', 'rubles', 'karibu', 'na', 'Kherson', ',', 'lakini', 'kwamba', 'watu', 'tayari', 'wameibadilisha', 'kuwa', 'hryvnia', 'ya', 'Ukrain', '.', 'Maisha', 'ya', 'Kherson', 'yamezidi', 'kuwa', 'magumu', '.', 'Wengi', 'sasa', 'wanahisi', 'woga', 'hata', 'kuzungumza', 'na', 'mwandishi', 'wa', 'habari', '.', 'Tunapomfikia', 'Olga', 'na', 'kumuuliza', 'anahisije', ',', 'anapumua', '.', 'Urusi', 'kuanzisha', 'mashambulizi', 'mapya', 'Mashariki', 'mwa', 'Ukraine', 'Urusi', 'inaripotiwa', 'kuzidisha', 'mashambulizi', 'yake', 'kabla', 'ya', 'uwezekano', 'wa', 'kuanza', 'kwa', 'mashambulizi', 'mapya', 'mashariki', 'mwa', 'Ukraine', ',', 'siku', '66', 'baada', 'ya', 'vita', '.', '``', 'Wanajeshi', 'wa', 'Urusi', 'wanaongeza', 'hatua', 'kwa', 'hatua', 'kasi', 'ya', 'mashambulizi', 'yao', 'mashariki', 'mwa', 'Ukraine', ',', \"''\", 'msemaji', 'wa', 'wizara', 'ya', 'ulinzi', 'ya', 'Ukraine', 'Oleksandr', 'Motuzyanyk', 'alionya', '.', '``', 'Kuna', 'ishara', 'kwamba', 'Urusi', 'anajiandaa', 'kwa', 'uanzishaji', 'mkubwa', 'zaidi', 'wa', 'vitendo', 'vya', 'kijeshi', '.', \"''\", 'Onyo', 'hilo', 'linakuja', 'huku', 'maafisa', 'wa', 'nchi', 'za', 'Magharibi', 'wakichora', 'taswira', 'ya', 'wanajeshi', 'hao', 'wavamizi', 'wanaokabiliwa', 'na', 'matatizo', 'makubwa', '.', 'Wizara', 'ya', 'Ulinzi', 'ya', 'Uingereza', 'ilisema', 'Jumamosi', 'kwamba', 'Urusi', 'imelazimishwa', 'kuunganisha', 'na', 'kupeleka', 'tena', '``', 'vitengo', 'vilivyopungua', 'na', 'vilivyotofautiana', \"''\", 'kutokana', 'na', 'jaribio', 'lake', 'lisilofanikiwa', 'la', 'kuteka', 'eneo', 'la', 'kaskazini-mashariki', 'mwa', 'Ukraine', ',', 'na', 'kuvichanganya', 'katika', 'mwelekeo', 'wake', 'mpya', 'wa', 'mashariki', 'mwa', 'nchi', '.', 'Lakini', 'kile', 'Urusi', 'inachokiita', '``', 'operesheni', 'maalum', 'ya', 'kijeshi', \"''\", 'ni', \"''\", 'inaendelea', 'kulingana', 'na', 'mipango', \"''\", ',', 'kulingana', 'na', 'Kremlin', '.', 'Wakati', 'huo', 'huo', ',', 'takriban', 'raia', 'ishirini', 'wameondoka', 'kwenye', 'jengo', 'la', 'viwanda', 'la', 'Azovstal', 'lililozingirwa', 'huko', 'Mariupol', '-', 'kuachiliwa', 'kwa', 'kwanza', 'kama', 'hiyo', 'tangu', 'Rais', 'wa', 'Urusi', 'Vladimir', 'Putin', 'kutangaza', 'kuwa', 'alikuwa', 'akifunga', 'ngome', 'ya', 'mwisho', 'ya', 'Ukrain', 'katika', 'mji', 'huo', '.']\n",
      "\n",
      " Number of Words:  2187\n"
     ]
    }
   ],
   "source": [
    "file=\"may1.txt\"\n",
    "\n",
    "# calling the function and storing the contents in a text variable \n",
    "text = get_document(\"https://www.bbc.com/swahili/live/habari-61289783\")\n",
    "\n",
    "# calling the store_ document function \n",
    "store_document(doc=text,name=file)\n",
    "\n",
    "#add the words in this file to the total_corpus_words, to keep count of the number of words in the corpus\n",
    "total_corpus_words+=total_words(file)"
   ]
  },
  {
   "cell_type": "code",
   "execution_count": 150,
   "metadata": {},
   "outputs": [
    {
     "data": {
      "text/plain": [
       "122992"
      ]
     },
     "execution_count": 150,
     "metadata": {},
     "output_type": "execute_result"
    }
   ],
   "source": [
    "total_corpus_words"
   ]
  },
  {
   "cell_type": "code",
   "execution_count": 151,
   "metadata": {},
   "outputs": [
    {
     "name": "stdout",
     "output_type": "stream",
     "text": [
      "['Waridi', 'wa', 'BBC', ':', \"'Mama\", 'wa', 'kambo', 'si', 'adui', \"'\", 'Jackie', 'Keya', 'ni', 'mama', 'ya', 'kambo', 'katika', 'familia', 'ya', 'watoto', 'wanne', 'alijipata', 'katika', 'hali', 'hii', 'baada', 'ya', 'kuingia', 'kwenye', 'ndoa', 'na', 'mume', 'wake', 'zaidi', 'ya', 'miaka', '20', 'iliyopita', ',', 'wakati', 'walipokutana', ',', 'tayari', 'mume', 'wake', 'alikuwa', 'na', 'watoto', 'wawili', 'kutoka', 'kwenye', 'uhusiano', 'wa', 'awali', 'uliogonga', 'mwamba', '.', 'Mama', 'huyu', 'anasema', 'kwamba', 'aliogopa', 'kuingia', 'kwenye', 'ndoa', 'hiyo', 'Ila', 'miaka', 'ya', 'kuchumbiwa', 'na', 'mume', 'wake', 'ilimpa', 'ujasiri', 'wa', 'kuingia', 'kwenye', 'ndoa', 'hii', ',', 'binafsi', 'hakuwa', 'na', 'watoto', 'Ila', 'Jackie', 'alipiga', 'moyo', 'konde', 'na', 'kukubali', 'ndoa', 'akifahamu', 'fika', 'kwamba', 'ndoa', 'yao', 'ilikuwa', 'tofauti', 'kwani', 'alikuwa', 'aanze', 'sio', 'kwa', 'kuwa', 'mke', 'tu', 'bali', 'mama', 'wa', 'kambo', '.', '``', 'Mama', 'wa', 'kambo', 'katika', 'Jamii', 'zetu', 'wanatazamwa', 'kama', 'wanawake', 'wa', 'roho', 'mbaya', 'na', 'wanawake', 'wasiojali', 'au', 'kuwa', 'na', 'upendo', 'wa', 'dhati', 'kwa', 'watoto', 'wanaowapata', ',', 'na', 'hilo', 'ni', 'jambo', 'ambalo', 'linajitokeza', 'hata', 'kwenye', 'tamthilia', 'zinazozalishwa', 'au', 'vitabu', 'vinavyoandikwa', 'kuhusu', 'mseto', 'wa', 'kifamilia', '.Ila', 'ninaamini', 'kwamba', 'sio', 'mama', 'wote', 'wa', 'kambo', 'wana', 'roho', 'mbaya', '``', 'Jackie', 'anasema', '.', 'Ulimwengu', 'umeadhimisha', 'siku', 'ya', 'Mama', 'duniani', 'na', 'kwa', 'Jackie', 'anatazama', 'siku', 'hii', 'kwa', 'umuhimu', 'mkubwa', 'hasa', 'linapowadia', 'kuwashabikia', 'mama', 'wa', 'kambo', 'duniani', '.', 'Jackie', 'anasema', 'kwamba', 'kikundi', 'cha', 'kina', 'mama', 'hawa', 'wamesahaulika', 'na', 'kupitia', 'unyanyapaa', 'mwingi', '.Kwa', 'hivyo', 'mwaka', 'huyu', 'dunia', 'ilipoadhimisha', 'siku', 'ya', 'mama', ',', 'yeye', 'na', 'wanawake', 'wengine', 'walioko', 'kwenye', 'kikundi', 'alichokianzisha', 'kijulikanacho', 'kama', 'Blended', 'family', 'network', ',', 'walikuwa', 'na', 'kila', 'sababu', 'ya', 'kusherehekea', 'kwa', 'kukumbushia', 'kila', 'mama', 'wa', 'kambo', 'anayejitahidi', 'kulea', 'watoto', 'aliowakuta', 'alikoolewa', 'pamoja', 'na', 'watoto', 'anaozaa', 'yeye', 'binafsi', '.', 'Mwanadada', 'huyu', 'anasema', 'kwamba', 'anatazamia', 'siku', 'ambayo', 'mama', 'wa', 'kambo', 'hatatazamwa', 'shingo', 'upande', 'akitumia', 'methali', ',', \"'Kichapo\", 'kibaya', 'Kama', 'cha', 'mama', 'wa', 'kambo', 'ni', 'sehemu', 'Moja', 'ambayo', 'mama', 'wa', 'kambo', 'husikia', 'au', 'kuhisi', 'unyanyapaa', 'katika', 'Jamii', 'ambao', 'wameolewa', '.', 'Chanzo', 'cha', 'picha', ',', 'Jackie', 'Keya', '``', 'Kuwa', 'mama', 'wa', 'kambo', 'mara', 'nyingi', 'huzua', 'Kiza', 'kikuu', ',', 'kwa', 'uhusiano', 'wa', 'kifamilia', 'lakini', 'sio', 'kwangu', '.', 'Ninafurahia', 'pingu', 'za', 'ndoa', 'Kabisa', ',', 'Mimi', 'ni', 'mwanasaikolojia', 'na', 'mwanzilishi', 'wa', 'shirika', 'la', 'Blended', 'Family', 'Network', '.', 'Siku', 'zote', 'nasema', 'mimi', 'ni', 'mama', 'wa', 'vivuli', 'tofauti', '.', 'nina', 'watoto', 'watano', ';', 'Mimi', 'ni', 'mama', 'wa', 'kambo', 'wa', 'watoto', 'wawili', ',', 'mlezi', 'wa', 'mpwa', 'wangu', 'yatima', ',', 'na', 'mama', 'mzazi', 'wa', 'watoto', 'wawili', '.', '``', 'anasema', 'Jackie', '.', 'Kama', 'mama', 'wa', 'kambo', ',', 'Jackie', 'anasema', 'kwamba', 'anaweza', 'kuthibitisha', 'kwamba', 'wao', 'si', 'waovu', 'akiwa', 'ameshikilia', 'nafasi', 'hiyo', 'kwa', 'zaidi', 'ya', 'miongo', 'miwili', 'iliyopita', '.', 'Anakubali', 'kuwa', 'huenda', 'kuna', 'sehemu', 'ndogo', 'ya', 'mama', 'wa', 'kambo', 'ambao', 'ni', 'tofuati', 'na', 'pengine', 'wenye', 'roho', 'mbaya', 'lakini', 'sio', 'wote', '.', 'Anaongeza', 'kwamba', 'wakati', 'anaingia', 'kwenye', 'ndoa', ',', 'hakuwa', 'na', 'ujuzi', 'wa', 'ndoa', 'iliyo', 'na', 'mchanganyiko', 'ilibidi', 'ajifunze', 'haraka', 'huku', 'akijitolea', 'sana', 'kuelewa', 'jamii', 'na', 'kwa', 'kina', 'mume', 'wake', 'na', 'watoto', 'aliowakuta', '.', '``', 'Tofauti', 'na', 'watoto', 'wako', 'wa', 'kibaolojia', 'ambao', 'uhusiano', 'wetu', 'ni', 'wa', 'kuzaliwa', ',', 'kwa', 'watoto', 'wako', 'wa', 'kambo', 'unapaswa', 'kuukuza', '.', 'Hata', 'mwenzako', 'anapokupenda', ',', 'sio', 'moja', 'kwa', 'moja', 'kwamba', 'watoto', 'wake', 'watahisi', 'hivyo', '.', 'Lazima', 'uwe', 'na', 'nia', 'ya', 'kuunganisha', 'huku', 'ukikumbuka', 'kuwa', 'wewe', 'si', 'mama', 'mbadala', ',', 'na', 'wala', 'sio', 'mama', 'yao', 'halisi', \"''\", 'anasema', 'Jackie', '.', 'Chanzo', 'cha', 'picha', ',', 'Jackie', 'Keya', 'Mama', 'huyu', 'anasema', 'kwamba', 'kituo', 'kilichosaidia', 'katika', 'kujenga', 'uhusiano', 'wao', 'pia', 'in', 'kwasababu', 'watoto', 'walikuwa', 'chini', 'ya', 'miaka', 'mitano', 'alipoolewa', 'mara', 'ya', 'kwanza', 'na', 'kwa', 'sasa', 'wako', 'katika', 'miaka', 'ya', '20', '.', 'Kingine', 'anasema', 'kwamba', 'walikuwa', 'na', 'bahati', 'kwamba', 'wanafamilia', 'waliwaunga', 'mkono', 'sana.ila', 'kitu', 'ambacho', 'alizidi', 'kujikumbusha', 'kila', 'siku', 'ni', 'kwamba', 'yeye', 'hakuwa', 'mama', 'halisi', 'wa', 'watoto', 'aliowakuta', 'kwa', 'mume', 'wake', ',', 'kwa', 'hiyo', 'alitafuta', 'maarifa', 'ya', 'jinsi', 'ya', 'kuwalea', 'hawa', 'wana', 'wawili', 'wa', 'kambo', 'akifahamu', 'fika', 'kwamba', 'walikuwa', 'wakitamani', 'kuwa', 'na', 'mama', 'yao', 'mzazi', ',', 'na', 'alihakikisha', 'anaingia', 'kwenye', 'nafasi', 'hiyo', '.', 'Ila', 'Jackie', 'anasema', 'kwamba', 'Changamoto', 'kubwa', 'ni', 'ile', 'dhana', 'mbaya', 'iliyonayo', 'jamii', 'kuhusu', 'mama', 'wa', 'kambo', 'na', 'unyanyapaa', 'unaowakabili', '.', 'Pia', 'kuna', 'mifumo', 'michache', 'sana', 'ya', 'kusaidia', 'akina', 'mama', 'wa', 'kambo', '.', 'Ndiyo', 'maana', 'aliona', 'haja', 'ya', 'kuanzisha', 'mtandao', 'wa', 'familia', 'Iliyochanganywa', 'ili', 'kutoa', 'nafasi', 'salama', 'kwa', 'akina', 'mama', 'wa', 'kambo', 'na', 'familia', 'zao', 'kuzungumza', 'kwa', 'uhuru', 'kuhusu', 'changamoto', 'zao', '.', 'Mama', 'huyu', 'anasema', 'kwamba', 'ni', 'wakati', 'dunia', 'ikubali', 'utofauti', 'unaotokana', 'na', 'maisha', ',', 'kwamba', 'sio', 'kila', 'mtu', 'atakuwa', 'na', 'mawazo', 'au', 'kufuata', 'njia', 'sawa', 'na', 'mwenzake', 'na', 'panapotokea', 'kuwa', 'wengine', 'wanaingia', 'kwenye', 'ndoa', 'ya', 'kwanza', 'ya', 'pili', ',', 'au', 'hata', 'ya', 'tatu', ',', 'watu', 'wasiwe', 'wa', 'haraka', 'kuhukumu', 'watu', 'kabla', 'ya', 'kuelewa', 'safari', 'yao', 'ya', 'maisha', '.', 'Chanzo', 'cha', 'picha', ',', 'Jackie', 'Keya', 'Jackie', 'anatumia', 'mfano', 'wa', 'maisha', 'yake', 'kama', 'jinsi', 'maisha', 'hubadilika', 'kwa', 'misimu', 'na', 'pia', 'kutokana', 'na', 'matukio', 'ya', 'maisha', '.', 'Ndoto', 'yake', 'ya', 'kuafiki', 'cheo', 'cha', 'mwanasaikolojia', 'na', 'mtoa', 'nasaha', 'katika', 'Jamii', 'Ilianza', 'baada', 'ya', 'kupoteza', 'kazi', 'kama', 'karani', 'katika', 'ofisi', 'moja', ',', 'kwa', 'miaka', 'sita', 'alikuwa', 'mama', 'wa', 'nyumbani', 'hali', 'alipojiunga', 'na', 'chuo', 'kikuu', 'kusomea', 'taaluma', 'ya', 'uanasaikolojia', 'na', 'mtoa', 'nasaha', ',', 'baada', 'ya', 'hapo', 'aliona', 'mwanya', 'wa', 'kuhudumu', 'katika', 'familia', ',', 'kwa', 'mfano', ',', 'jinsi', 'ya', 'kutangamana', 'kwa', 'watoto', 'na', 'mama', 'wa', 'kambo', 'au', 'watoto', 'kwa', 'baba', 'wa', 'kambo', '.', '``', 'Suala', 'jingine', 'ambalo', 'nililisoma', 'hapo', 'awali', 'ni', 'kupata', 'usawa', 'wakati', 'wa', 'kuwalea', 'watoto', 'ndani', 'ya', 'jamii', 'ya', 'kambo', '.', 'Uhusiano', 'wenye', 'nguvu', 'na', 'watoto', 'wako', 'wa', 'kambo', 'ni', 'muhimu', 'ili', 'uweze', 'kufanya', 'kazi', 'kama', 'kikundi', 'chenye', 'uhusiano', 'mwema', 'na', 'afya', 'bora', 'badala', 'ya', 'kuwa', 'na', 'vikundi', 'katika', 'familia', 'moja', '.', 'Ninajaribu', 'sana', 'kuhakikisha', 'nina', 'matarajio', 'sawa', 'kwa', 'watoto', 'wangu', 'wote', 'na', 'ninawatendea', 'kwa', 'usawa', '.', 'Sikuzote', 'mimi', 'huwajulisha', 'watoto', 'wangu', 'wa', 'kambo', 'kwamba', 'wanaruhusiwa', 'kumpenda', 'na', 'kubaki', 'kuwasiliana', 'na', 'mama', 'yao', 'mzazi', 'kwa', 'sababu', 'yeye', 'ni', 'wa', 'maana', '.', \"''\", 'anasema', 'Jackie', '.', 'Yote', 'tisa', 'kumi', 'Jackie', 'anasema', 'kwamba', 'kuwa', 'mama', 'wa', 'kambo', 'sio', 'kikombe', 'cha', 'chai', 'kwa', 'kila', 'mtu', 'kunywa', 'anashauri', 'kwamba', 'kwa', 'wale', 'wanaotamani', 'kuingia', 'kwenye', 'familia', 'za', 'kambo', 'wawe', 'tayari', 'kukabiliana', 'na', 'changamoto', 'ambazo', 'zinajitokeza', ',', 'la', 'sivyo', 'ndoa', 'kama', 'hizo', 'si', 'lele', 'mama', '.']\n",
      "\n",
      " Number of Words:  970\n"
     ]
    }
   ],
   "source": [
    "file=\"may10.txt\"\n",
    "\n",
    "# calling the function and storing the contents in a text variable \n",
    "text = get_document(\"https://www.bbc.com/swahili/habari-61394135\")\n",
    "\n",
    "# calling the store_ document function \n",
    "store_document(doc=text,name=file)\n",
    "\n",
    "#add the words in this file to the total_corpus_words, to keep count of the number of words in the corpus\n",
    "total_corpus_words+=total_words(file)"
   ]
  },
  {
   "cell_type": "code",
   "execution_count": 152,
   "metadata": {},
   "outputs": [
    {
     "data": {
      "text/plain": [
       "123962"
      ]
     },
     "execution_count": 152,
     "metadata": {},
     "output_type": "execute_result"
    }
   ],
   "source": [
    "total_corpus_words"
   ]
  },
  {
   "cell_type": "code",
   "execution_count": 153,
   "metadata": {},
   "outputs": [
    {
     "name": "stdout",
     "output_type": "stream",
     "text": [
      "['Freshley', 'Mwamburi', ':', 'Stella', 'alikuwa', 'mtu', 'halisi', 'na', 'aliolewa', 'na', 'Mjapani', 'Wakenya', 'katika', 'mitandao', 'ya', 'kijamii', 'wamechangamkia', 'sana', 'wimbo', 'wa', 'Stella', 'Wangu', 'wa', 'mwanamziki', 'mashuhuri', 'wa', 'humu', 'nchini', 'Freshley', 'Mwamburi', '.', 'Wamechangamkia', 'wimbo', 'huo', 'wakikumbuka', 'leo', 'hii', 'ni', 'tarehe', '17', 'mwezi', 'wa', 'tano', 'mwaka', 'wa', '1992', 'mpenzi', 'wake', 'wa', 'Kenya', ',', 'Stella', ',', 'aliposhuka', 'kutoka', 'kwa', 'ndege', 'na', 'mchumba', 'wake', 'wa', 'urefu', 'wa', 'futi', 'nne', 'Mjapani', 'huku', 'amebeba', 'mtoto', 'mkononi', '.']\n",
      "\n",
      " Number of Words:  71\n"
     ]
    }
   ],
   "source": [
    "file=\"may17_1.txt\"\n",
    "\n",
    "# calling the function and storing the contents in a text variable \n",
    "text = get_document(\"https://www.bbc.com/swahili/habari-39949465\")\n",
    "\n",
    "# calling the store_ document function \n",
    "store_document(doc=text,name=file)\n",
    "\n",
    "#add the words in this file to the total_corpus_words, to keep count of the number of words in the corpus\n",
    "total_corpus_words+=total_words(file)"
   ]
  },
  {
   "cell_type": "code",
   "execution_count": 154,
   "metadata": {},
   "outputs": [
    {
     "data": {
      "text/plain": [
       "124033"
      ]
     },
     "execution_count": 154,
     "metadata": {},
     "output_type": "execute_result"
    }
   ],
   "source": [
    "total_corpus_words"
   ]
  },
  {
   "cell_type": "code",
   "execution_count": 155,
   "metadata": {},
   "outputs": [
    {
     "name": "stdout",
     "output_type": "stream",
     "text": [
      "['Uchaguzi', 'wa', 'Kenya', '2022', ':', 'Kwanini', 'kura', 'za', 'Wakikuyu', 'zinapiganiwa', 'katika', 'uchaguzi', '?', 'Wagombea', 'wawili', 'wakuu', 'katika', 'uchaguzi', 'wa', 'urais', 'nchini', 'Kenya', 'wamechagua', 'wagombea', 'wenza', 'kutoka', 'kabila', 'la', 'Wakikuyu', 'ambalo', 'lina', 'kura', 'nyingi', 'ili', 'kuongeza', 'nafasi', 'yao', 'ya', 'kushinda', 'katika', 'uchaguzi', 'wa', 'mwezi', 'Agosti', 'unaosubiriwa', 'kwa', 'hamu', '.', 'Naibu', 'wa', 'Rais', 'William', 'Ruto', 'amemteua', 'mfanyabiashara', 'na', 'mbunge', 'Rigathi', 'Gachagua', 'huku', 'Waziri', 'Mkuu', 'wa', 'zamani', 'Raila', 'Odinga', 'akimteua', 'Waziri', 'wa', 'zamani', 'wa', 'Sheria', 'Martha', 'Karua', '.', 'Bw', '.', 'Gachagua', 'ni', 'mhamasishaji', 'hodari', 'na', 'ana', 'ushawishi', 'mkubwa', 'miongoni', 'mwa', 'Wakikuyu', 'wanaohangaika', ',', 'ambao', 'wamekuwa', 'wakimuunga', 'mkono', 'Bw', 'Ruto', 'kuhusu', 'mipango', 'yake', 'ya', 'kushughulikia', 'malalamishi', 'ya', 'kiuchumi', '.', 'Bi', 'Karua', 'ni', 'gwiji', 'wa', 'kisiasa', 'anayetambuliwa', 'nje', 'ya', 'jamii', 'ya', 'Wakikuyu', '-', 'na', 'anajulikana', 'kwa', 'shauku', 'yake', 'ya', 'mageuzi', 'ya', 'mahakama', 'na', 'kampeni', 'dhidi', 'ya', 'ufisadi', '.', 'Wachambuzi', 'wanasema', 'kwamba', 'wakati', 'wasomi', 'wanaweza', 'kumuunga', 'mkono', 'mwanaharakati', 'wa', 'kupinga', 'ufisadi', ',', 'uchaguzi', 'huu', 'zaidi', 'unahusu', 'mageuzi', 'ya', 'kiuchumi', '.', '``', 'Pande', 'zote', 'mbili', 'zimegubikwa', 'na', 'tuhuma', 'za', 'ufisadi', 'na', 'ndiyo', 'maana', 'hakuna', 'anayenyooshewa', 'vidole', '.', 'Ufisadi', 'si', 'suala', 'la', 'msingi', 'tena', '.', 'Inaonekana', 'kuwa', 'mtindo', 'wetu', 'wa', 'maisha', 'na', 'imekuwa', 'vigumu', 'kuonyesha', 'kiongozi', 'shupavu', 'ambaye', 'hajachafuliwa', 'na', 'ufisadi', ',', \"''\", 'mchambuzi', 'Bobby', 'Mkangi', 'aliambia', 'BBC', '.', 'Bw', '.', 'Gachagua', 'anakabiliwa', 'na', 'mashtaka', 'ya', 'ufisadi', 'na', 'utakatishaji', 'fedha', 'za', 'thamani', 'ya', 'dola', 'milioni', '65', '(', '£53m', ')', '.', 'Amepinga', 'mashataka', ',', 'na', 'kusema', 'kuwa', 'anateswa', 'na', 'serikali', 'kwa', 'kumuunga', 'mkono', 'Naibu', 'wa', 'Rais', 'William', 'Ruto', '.', 'Rais', 'anayeondoka', 'madarakani', 'Uhuru', 'Kenyatta', 'anamuunga', 'mkono', 'Bw', '.', 'Odinga', ',', 'ambaye', 'alisalimiana', 'naye', '2018', 'katika', 'kile', 'kilichofahamika', 'kama', '``', 'Hand', 'Shake', \"''\", 'kuashiria', 'maridhiano', 'kati', 'yao', 'baada', 'ya', 'uhasama', 'wa', 'kisiasa', 'wa', 'miaka', 'kadhaa', '.', 'Wachambuzi', 'wanasema', 'kuanzia', 'wakati', 'huo', ',', 'Bw', '.', 'Odinga', ',', 'kiongozi', 'mkongwe', 'wa', 'upinzani', 'ambaye', 'amejaribu', 'mara', 'nne', 'kugombea', 'urais', 'wa', 'Kenya', 'na', 'kushindwa', ',', 'kwa', 'kiasi', 'kikubwa', 'amepuuza', 'uozo', 'wote', 'serikalini', '.', 'Uamuzi', 'wake', 'wakumteua', 'Bi', 'Karua', 'kama', 'mgombea', 'mwenza', 'pia', 'ni', 'jaribio', 'la', 'kuvutia', 'kura', 'ya', 'wanawake', ',', 'lakini', 'Bw', '.', 'Bigambo', 'hana', 'uhakika', 'atapata', 'ufanisi', 'kiasi', 'gani', '.', '``', 'Anawavutia', 'wananawake', 'kielimu', 'sio', 'kivitendo', '.', 'Anavutia', 'sehemu', 'ya', 'tabaka', 'la', 'kati', 'na', 'jumuiya', 'ya', 'mashirika', 'yasiyo', 'ya', 'kiserikali', 'ambayo', 'hayana', 'mchango', 'mkubwa', 'katika', 'matokeo', 'ya', 'uchaguzi', ',', \"''\", 'Bw', 'Bigambo', 'anasema', '.', 'Nani', 'yuko', 'kwenye', \"kinyang'anyiro\", 'cha', 'kuiongoza', 'Kenya', '?', 'Fahamu', 'zaidi', 'kuwahusu', 'wagombea', 'urais', 'wa', 'Kenya', 'Chagua', 'mgombea', 'ili', 'kutazama', 'wasifu', 'wake', 'Raila', 'Odinga', 'William', 'Ruto', 'George', 'Wajackoyah', 'David', 'Mwaure', 'Raila', 'Amollo', 'Odinga', 'Muungano', 'wa', 'Azimio', 'la', 'Umoja', 'Maelezo', 'ya', 'Msingi', 'Mgombea', 'huyo', 'mwenye', 'umri', 'wa', 'miaka', '77', 'ni', 'mhandisi', 'aliyesomea', 'Chuo', 'Kikuu', 'cha', 'Ufundi', 'cha', 'Magdeburg', '(', 'sasa', 'kinajulikana', 'kama', 'Chuo', 'Kikuu', 'cha', 'Otto-von-Guericke', 'Magdeburg', ')', 'nchini', 'Ujerumani', '.', 'Anawania', 'kiti', 'cha', 'urais', 'kwa', 'tikiti', 'ya', 'Azimio', 'la', 'Umoja', 'One', 'Kenya', 'Coalition', 'Party', '.', 'Hili', 'litakuwa', 'jaribio', 'lake', 'la', 'tano', 'baada', 'ya', 'kugombea', 'katika', ':', '1997', ',', '2007', ',', '2013', 'na', '2017', '.', 'Mafanikio', 'Muhimu', 'Bw', 'Odinga', 'alikuwa', 'mmoja', 'wa', 'wapiganiaji', 'wa', 'demokrasia', 'ya', 'vyama', 'vingi', 'nchini', 'Kenya', '.', 'Alikamatwa', ',', 'akafungwa', 'na', 'wakati', 'fulani', 'akaenda', 'uhamishoni', 'kwa', 'sababu', 'ya', 'kupigania', 'haki', 'hiyo', 'Aliwahi', 'kuwa', 'Waziri', 'Mkuu', ',', 'kuanzia', '2008-2013', '.', 'Odinga', 'alihusika', 'kufanikisha', 'miradi', 'mikubwa', 'iliyotekelezwa', 'na', 'serikali', 'ya', 'Kibaki', ',', 'kama', 'vile', 'miradi', 'ya', 'umeme', 'vijijini', 'na', 'barabara', '.', 'Ahadi', 'Muhimu', 'Kuafikia', 'ukuaji', 'wa', 'uchumi', 'wa', 'tarakimu', 'mbili', 'kupitia', 'uwekezaji', 'katika', 'biashara', 'ndogo', 'ndogo', 'na', 'sekta', 'ya', 'viwanda', '.', 'Utoaji', 'wa', 'huduma', 'bora', 'za', 'afya', 'kwa', 'wote', '.', 'Utoaji', 'wa', 'vifaa', 'vya', 'michezo', 'na', 'burudani', 'kwa', 'ukuaji', 'wa', 'kimwili', ',', 'kiakili', ',', 'kijamii', ',', 'kimaadili', 'na', 'maendeleo', 'ya', 'watu', '.', 'Kashfa/Sakata', 'Kufuatia', 'jaribio', 'la', 'mapinduzi', 'ya', 'Agosti', '1', ',', '1982', ',', 'Raila', 'Odinga', 'alikamatwa', 'na', 'kukabiliwa', 'na', 'mashtaka', 'kadhaa', ',', 'yakiwemo', 'ya', 'uhaini', 'ambayo', 'alizuiliwa', 'bila', 'kufunguliwa', 'mashtaka', '.', 'Tume', 'ya', 'Ukweli', 'ya', 'Haki', 'na', 'Maridhiano', 'iliambiwa', 'mwaka', '2011', 'kwamba', 'Odinga', 'alikuwa', 'na', 'mawasiliano', 'na', 'mpangaji', 'mkuu', 'wa', 'mapinduzi', 'hayo', '.', 'Odinga', 'amekana', 'kuhusika', 'kila', 'mara', '.', '-', 'Makavazi', 'ya', 'Kitaifa', 'ya', 'Kenya', '.', 'William', 'Samoei', 'Ruto', 'Muungano', 'wa', 'Kenya', 'Kwanza', 'Maelezo', 'ya', 'Msingi', 'Mgombea', 'huyu', 'mwenye', 'umri', 'wa', 'miaka', '55', 'ana', 'Shahada', 'ya', 'Uzamifu/PhD', 'katika', 'Ikolojia', 'ya', 'Mimea', 'na', 'BSc', 'katika', 'Botany', 'na', 'Zoology', 'kutoka', 'Chuo', 'Kikuu', 'cha', 'Nairobi', '.', 'Anawania', 'kiti', 'cha', 'urais', 'kwa', 'tikiti', 'ya', 'chama', 'cha', 'United', 'Democratic', 'Alliance', '(', 'chenye', 'mafungamano', 'na', 'Kenya', 'Kwanza', ')', '.', 'Aliongoza', 'Vuguvugu', 'la', 'vijana', 'la', 'Youth', 'for', 'Kanu', \"'92\", '(', 'YK', \"'\", '(', '92', ')', '.', 'Mafanikio', 'Muhimu', 'Wizara', 'yake', 'iliorodheshwa', 'kama', 'inayofanya', 'bora', 'zaidi', 'serikalini', 'alipokuwa', 'Waziri', 'wa', 'Kilimo', '.', 'Alihudumu', 'kama', 'Naibu', 'Rais', 'wa', 'kwanza', 'wa', 'Kenya', 'chini', 'ya', 'katiba', 'mpya', 'ya', '2010', '.', 'Alihudumu', 'kama', 'mbunge', 'wa', 'eneo', 'bunge', 'la', 'Eldoret', 'Kaskazini', 'kuanzia', '1997-2007', '.', 'Ahadi', 'Muhimu', 'Kutenga', '$', '424', 'milioni', 'kila', 'mwaka', 'kwa', 'biashara', 'ndogo', 'ndogo', 'za', 'kati', '.', 'Kuanzisha', 'mfuko', 'wa', 'elimu', 'wa', 'kitaifa', 'ili', 'kukidhi', 'gharama', 'zisizo', 'za', 'masomo', '.', 'Tekeleza', 'kikamilifu', 'sheria', 'ya', 'usawa', 'wa', 'kijinsia', 'ya', 'thuluthi', 'mbili', 'katika', 'uteuzi', 'wa', 'kisiasa', 'na', 'kutenga', 'nusu', 'ya', 'baraza', 'lake', 'la', 'mawaziri', 'kwa', 'wanawake', '.', 'Kashfa/Sakata', 'Mnamo', '2008', ',', 'Mahakama', 'Kuu', 'ya', 'Kenya', 'iliamuru', 'Naibu', 'Rais', 'William', 'Ruto', 'kusalimisha', 'shamba', 'la', 'ekari', '100', 'na', 'kulipa', '$', '62,500', 'kwa', 'Adrian', 'Muteshi', ',', 'mkulima', 'ambaye', 'alimshtaki', 'kwa', 'kuchukua', 'mali', 'hiyo', 'baada', 'ya', 'uchaguzi', 'wa', '2007', '.', '-', 'Kenya', 'Law', 'Mnamo', '2011', ',', 'Bw', 'Ruto', 'alikabiliwa', 'na', 'kesi', 'kwa', 'makosa', 'matatu', 'dhidi', 'ya', 'binadamu', ':', 'Mauaji', ',', 'uhamisho', 'wa', 'watu', 'kwa', 'lazima', 'na', 'mateso', 'ya', 'watu', 'katika', 'Mahakama', 'ya', 'Kimataifa', 'ya', 'Uhalifu', '.', 'Miaka', 'mitano', 'baadaye', 'mahakama', 'ilisitisha', 'kesi', 'hiyo', 'kwa', 'msingi', 'kwamba', '-', 'ushahidi', 'wa', 'upande', 'wa', 'mashtaka', 'ulikuwa', 'dhaifu', '.', '-ICC', 'George', 'Wajackoyah', 'Chama', 'cha', 'Roots', 'Maelezo', 'ya', 'Msingi', 'Profesa', 'huyo', 'mwenye', 'umri', 'wa', 'miaka', '61', 'ana', 'shahada', 'ya', 'uzamili', 'katika', 'sheria', 'kuhusu', 'maendeleo', 'kutoka', 'Chuo', 'Kikuu', 'cha', 'Warwick', 'na', 'shahada', 'ya', 'uzamili', ',', 'sheria', '(', 'sheria', 'za', 'Marekani', 'kutoka', 'Chuo', 'Kikuu', 'cha', 'Baltimore', '.', 'Bw', 'Wajackoyah', 'anawania', 'kiti', 'cha', 'urais', 'kwa', 'tiketi', 'ya', 'Chama', 'cha', 'Roots', 'Party', '.', 'Mafanikio', 'Muhimu', 'Alihudumu', 'kama', 'Inspekta', 'katika', 'idara', 'ya', 'usalama', 'ya', 'Special', 'branch', 'wakati', 'wa', 'utawala', 'wa', 'marehemu', 'Rais', 'Daniel', 'Moi', 'kabla', 'ya', 'kulazimika', 'kutorokea', \"ng'ambo\", 'ili', 'kuepuka', 'kufunguliwa', 'mashtaka', 'na', 'mamlaka', '.', 'Yeye', 'ni', 'mshirika', 'katika', 'kampuni', 'ya', 'mawakili', 'aliyoianzisha', 'mwaka', 'wa', '2018', '.', 'Alifunnza', 'somo', 'la', 'sheria', 'na', 'uchumi', 'katika', 'vyuo', 'vikuu', 'vya', 'Marekani', ',', 'Uingereza', 'na', 'Kenya', '.', 'Ahadi', 'Muhimu', 'Kuhalalisha', 'matumizi', 'ya', 'kiviwanda', 'ya', 'bangi', 'Badilisha', 'siku', 'za', 'kazi', 'hadi', 'Jumatatu', 'hadi', 'Alhamisi', '.', 'Huduma', 'ya', 'afya', 'ya', 'bure', 'na', 'msaada', 'kwa', 'wazee', ',', 'walio', 'hatarini', 'na', 'wajawazito', 'David', 'Mwaure', 'Waihiga', 'Chama', 'cha', 'Agano', 'Maelezo', 'ya', 'Msingi', 'David', 'Mwaure', 'anawania', 'kiti', 'cha', 'urais', 'kwa', 'tiketi', 'ya', 'Chama', 'cha', 'Agano', '.', 'Ni', 'kiongozi', 'wa', 'Chama', 'cha', 'Agano', '.', 'Alihitimu', 'na', 'shahada', 'ya', 'sheria', 'kutoka', 'Chuo', 'Kikuu', 'cha', 'Nairobi', 'na', 'ana', 'Shahada', 'ya', 'Uzamili', 'katika', 'masomo', 'ya', 'uongozi', '.', 'Mafanikio', 'Muhimu', 'Yeye', 'ni', 'wakili', 'mkuu', 'na', 'amehudumu', 'kama', 'mwanasheria', 'kwa', 'zaidi', 'ya', 'miongo', 'mitatu', '.', 'Bi', 'Karua', 'aligombea', 'urais', 'mwaka', 'wa', '2013', 'na', 'kupata', 'kura', '43,881', '-', 'au', '0.36', '%', 'ya', 'jumla', 'ya', 'kura', 'ziliyopigwa', '.', 'Lakini', 'anafahamika', 'kwa', 'kuwa', 'jasiri', 'na', 'mpigania', 'demokrasia', 'ya', 'vyama', 'vingi', '.', 'Ametofautiana', 'na', 'marais', 'wawili', 'wa', 'zamani', 'kiasi', 'cha', 'kuondoka', 'kwa', 'hasira', 'katika', 'mikutano', 'yao', '.', 'Mwaka', '2001', 'aliondoka', 'katika', 'mkutano', 'uliokuwa', 'ukuhudhuriwa', 'na', 'rais', 'wa', 'wakati', 'huo', 'hayati', 'Daniel', 'arap', 'Moi', ',', 'kupinga', 'kauli', 'iliyotolewa', 'dhidi', 'ya', 'aliyekuwa', 'mkuu', 'wa', 'chama', 'chake', 'wakati', 'huo', 'Mwai', 'Kibaki', '.', 'Bi', 'Karua', 'alijiuzulu', 'wadhifa', 'wa', 'waziri', 'wa', 'sheria', 'mwaka', 'wa', '2009', 'akitaja', 'hali', 'ya', 'kufadhaika', 'baada', 'ya', 'Bw', 'Kibaki', ',', 'rais', 'wakati', 'huo', 'kuwateua', 'majaji', 'bila', 'yeye', 'kujua', '.', '``', 'Swali', 'kuu', 'ni', 'iwapo', 'ana', 'uwezo', 'wa', \"kung'atuka\", 'kama', 'kinara', 'wa', 'Mlima', 'Kenya', 'kwa', 'sasa', 'Rais', 'Uhuru', 'anapostaafu', '.', 'Je', ',', 'atakumbatiwa', 'kikamilifu', 'miongoni', 'mwa', 'nyadhifa', 'za', 'chini', 'za', 'Mlima', 'Kenya', '?', \"''\", 'Bwana', 'Bigambo', 'anauliza', '.', 'Chanzo', 'cha', 'picha', ',', 'Getty', 'Images', 'Maelezo', 'ya', 'picha', ',', 'Uhuru', 'Kenyatta', 'anaondoka', 'madarakani', 'baada', 'ya', 'kuhudumu', 'kwa', 'mihula', 'miwili', 'Bw', 'Gachagua', 'kwa', 'upande', 'mwingine', 'amesifiwa', 'na', 'wachanganuzi', 'kwa', 'uwezo', 'wake', 'wa', 'kuingia', 'katika', 'mtandao', 'wa', 'kisiasa', 'aliokuwa', 'sehemu', 'yake', 'alipokuwa', 'akifanya', 'kazi', 'kama', 'msaidizi', 'wa', 'kibinafsi', 'wa', 'Rais', 'Kenyatta', 'na', 'afisa', 'wa', 'wilaya', 'katika', 'maeneo', 'tofauti', '.', '``', 'Uwezo', 'wake', 'wa', 'kutumia', 'fursa', 'aliyopata', 'kufikia', 'wadhifa', 'huu', 'ukizingatia', 'majina', 'ya', 'watu', 'wengine', 'walijulikana', 'kitaifa', 'ni', 'kitu', 'cha', 'ajabu', ',', \"''\", 'Bw', 'Mkangi', 'anasema', '.', 'Bw', '.', 'Gachagua', 'ni', 'Mbunge', 'wa', 'eneo', 'bunge', 'la', 'Mathira', 'kati', 'kati', 'mwa', 'Kenya', ',', 'ambalo', 'linajivunia', 'kutoa', 'Marais', 'watatu', 'wa', 'Kenya', '-', 'Jomo', 'Kenyatta', ',', 'Mwai', 'Kibaki', 'na', 'Uhuru', 'Kenyatta', '.', 'Ni', 'mfanyabiashara', 'ambaye', 'hotuba', 'zake', 'katika', 'majukwaa', 'ya', 'kampeni', 'zinaashiria', 'anaelewa', 'masuala', 'yanayowaathiri', 'Wakikuyu', '.', '``', 'Ni', 'mbwa', 'mwitu', 'wa', 'kisiasa', 'anayeogopwa', 'ambaye', 'Ruto', 'alihitaji', 'ili', 'kuweza', 'kukabiliana', 'na', 'Rais', 'Uhuru', 'katika', 'eneo', 'la', 'kati', ',', \"''\", 'Bw', 'Bigambo', 'anasema', '.', 'Licha', 'ya', 'masuala', 'ya', 'kiuchumi', 'kujitokeza', 'katika', 'uchaguzi', 'huu', 'kama', 'kigezo', 'kinachowezekana', 'cha', 'jinsi', 'watu', 'watakavyopiga', 'kura', ',', 'ukabila', 'bado', 'una', 'ushawishi', 'mkubwa', 'kwa', 'wapiga', 'kura', '.', 'Hii', 'ni', 'mara', 'ya', 'kwanza', 'tangu', 'Kenya', 'ipate', 'uhuru', 'ambapo', 'Mkikuyu', 'hajajitokeza', 'kuwa', 'mgombeaji', 'mkuu', 'wa', 'urais', '-', 'Bw', 'Ruto', 'ni', 'Mkalenjin', ',', 'kabila', 'la', 'tatu', 'kwa', 'ukubwa', ',', 'na', 'Bw', 'Odinga', 'ni', 'Mjaluo', ',', 'kabila', 'la', 'nne', 'kwa', 'ukubwa', '.', 'Kwa', 'hivyo', 'wawili', 'hao', 'wamependekeza', 'Wakikuyu', '-', 'kabila', 'kubwa', 'zaidi', '-', 'kama', 'wagombea', 'wenza', 'katika', 'uchaguzi', 'wa', 'Agosti', '9', ',', 'uamuzi', 'ambao', 'unaweza', 'kuimarisha', 'au', 'kuvunja', 'kampeni', 'zao', 'za', 'urais', '.', '``', 'Chaguo', 'la', 'wagombea', 'wenza', 'kutoka', 'jamii', 'ya', 'Wakikuyu', 'ndiyo', 'ilikuwa', 'njia', 'pekee', 'ya', 'kuhamasisha', 'jamii', 'hiyo', 'kujitokeza', 'kupiga', 'kura', ',', \"''\", 'Bw', 'Mkangi', 'anasema', '.']\n",
      "\n",
      " Number of Words:  1554\n"
     ]
    }
   ],
   "source": [
    "file=\"may17_2.txt\"\n",
    "\n",
    "# calling the function and storing the contents in a text variable \n",
    "text = get_document(\"https://www.bbc.com/swahili/habari-61480834\")\n",
    "\n",
    "# calling the store_ document function \n",
    "store_document(doc=text,name=file)\n",
    "\n",
    "#add the words in this file to the total_corpus_words, to keep count of the number of words in the corpus\n",
    "total_corpus_words+=total_words(file)"
   ]
  },
  {
   "cell_type": "code",
   "execution_count": 156,
   "metadata": {},
   "outputs": [
    {
     "data": {
      "text/plain": [
       "125587"
      ]
     },
     "execution_count": 156,
     "metadata": {},
     "output_type": "execute_result"
    }
   ],
   "source": [
    "total_corpus_words"
   ]
  },
  {
   "cell_type": "code",
   "execution_count": 157,
   "metadata": {},
   "outputs": [
    {
     "name": "stdout",
     "output_type": "stream",
     "text": [
      "['Waridi', 'wa', 'BBC', ':', \"'Wanakijiji\", 'Walitamani', 'nife', 'kwa', 'kuwa', 'mlemavu', \"'\", 'Anne', 'Wafula', 'Strike', ',', 'anatoa', 'mfano', 'wa', 'ujasiri', ',', 'kujitolea', 'na', 'dhamira', 'ambayo', 'ni', 'imara', 'na', 'ambayo', 'imekataa', 'kuishi', 'na', 'maoni', 'potofu', 'kuhusu', 'hali', 'yake', 'ya', 'ulemavu', 'wa', 'kutoka', 'kiuno', 'chake', 'hadi', 'miguuni', '.', 'Anne', 'ni', 'mama', ',', 'mwanariadha', ',', 'mwandishi', ',', 'na', 'balozi', 'wa', 'michezo', 'ya', 'magurudumu', '.', 'Anne', 'anahimiza', 'mafanikio', 'na', 'ubora', 'katika', 'anuwai', 'ya', 'hali', 'ya', 'maisha', 'kupitia', 'mazungumzo', 'ya', 'kutia', 'moyo', 'na', 'kutetea', 'haki', 'za', 'walemavu', 'anahimiza', 'wengine', 'wanaoishi', 'na', 'ulemavu', 'pia', 'kuwa', 'bora', 'zaidi', 'kuliko', 'wanavyoonekana', '.', 'Anne', 'strike', 'Wafula', 'alizaliwa', 'mnamo', 'Mei', '8', ',', '1969', 'katika', 'kijiji', 'kidogo', 'kinachoitwa', 'Mihuu', 'Magharibi', 'mwa', 'Kenya', '.', 'Alikuwa', 'mtoto', 'mwenye', 'nguvu', 'ambaye', 'aliishi', 'kulingana', 'na', 'jina', 'lake', 'la', 'katikati', '(', 'strike', ')', 'lenye', 'kumanisha', 'nguvu', 'lakini', 'akiwa', 'na', 'umri', 'wa', 'miaka', 'miwili', 'tu', ',', 'alikuwa', 'tayari', 'amepata', 'pigo', 'la', 'ugonjwa', 'wa', 'kupooza', 'wa', 'polio', '.', 'Huwezi', 'kusikiliza', 'tena', 'Maelezo', 'ya', 'video', ',', 'Waridi', 'wa', 'BBC', ':', 'Je', 'Anne', 'Strike', 'ni', 'nani', '?', 'Alikua', 'amepooza', 'kutoka', 'kiunoni', 'kwenda', 'chini', 'hadi', 'miguuni', 'mwake', '.', 'wengi', 'ni', 'wale', 'katika', 'kijiji', 'chake', 'ambao', 'hawakuelewa', 'ugonjwa', 'huo', 'na', 'kulingana', 'na', 'mwanadada', 'huyu', 'wengi', 'walidhania', 'kuwa', 'alikuwa', 'muathiriwa', 'wa', 'ushirikina', 'na', 'uchawi', '.', '``', 'Unajua', 'kila', 'mara', 'watu', 'wanakosa', 'kuelewa', 'jambo', ',', 'huwa', 'wanaanza', 'kuweka', 'fikira', 'yao', 'ambayo', 'wakati', 'mwengine', 'sio', 'chanya', ',', 'kwa', 'hio', 'nilipoanza', 'kuugua', 'na', 'nikawa', 'kilema', ',', 'baadhi', 'ya', 'wanakijiji', 'walizungumza', 'mengi', 'mabaya', 'kuhusu', 'hali', 'yangu', ',', 'kunyanyapaliwa', 'kwangu', 'kulianza', 'ningali', 'mdogo', \"''\", 'anasema', 'Anne', 'Aidha', 'mwanamke', 'huyu', 'anasema', 'kwamba', 'wanakijiji', 'walimtaja', 'kama', 'mtoto', 'aliye', 'laaniwa', 'na', 'kumtaja', 'kama', '``', 'nyoka', '``', '-', 'hii', 'ni', 'kutokana', 'na', 'kuwa', 'alikuwa', 'anatambaa', 'kwa', 'tumbo', 'alipokuwa', 'anahitaji', 'kusonga', 'eneo', 'moja', 'hadi', 'nyengine', 'wengi', 'walikuwa', 'wanaona', 'afadhali', 'afe', '.', 'Familia', 'yake', 'ililazimika', 'kukimbia', 'kutoka', 'kijijini', 'walichokuwa', 'wanaishi', 'kwa', 'usalama', 'wa', 'binti', 'yao', '.', 'Kuanzia', 'hapo', 'Anne', 'alipelekwa', 'shule', 'maalum', 'ya', 'walemavu', 'iliyokuwa', 'mbali', 'na', 'nyumbani', 'kwao', '.', 'Tukio', 'la', 'huzuni', 'lilifanyika', ',', 'wakati', 'tu', 'Anne', 'alihitaji', 'sana', ',', 'mama', 'yake', ',', 'mama', 'alifariki', 'dunia', 'ghafla', 'akimuacha', 'baba', 'yake', 'atunze', 'watoto', 'nane', 'peke', 'yake', '.', 'Chanzo', 'cha', 'picha', ',', 'ANNE', 'WAFULA', 'Maelezo', 'ya', 'picha', ',', 'Anne', 'akiwa', 'na', 'baba', 'yake', 'mzazi', '``', 'Mtu', 'ambaye', 'sitawahi', 'kumsahau', 'maishani', 'mangu', 'na', 'ambaye', 'nina', 'muenzi', 'sana', 'ni', 'baba', 'yangu', 'mzazi', ',', 'alipambana', 'sana', 'na', 'mimi', 'wakati', 'ambapo', 'baadhi', 'ya', 'watu', 'walikuwa', 'wananiona', 'sifai', 'kuishi', '.', 'Walakini', ',', 'licha', 'ya', 'kuachwa', 'na', 'kutengwa', 'na', 'wengi', ',', 'Anne', 'aliendelea', 'kupata', 'matokeo', 'mazuri', 'ya', 'masomo', '.', 'Mwanadada', 'huyu', 'alikuwa', 'mtoto', 'wa', 'kwanza', 'wa', 'familia', 'yake', 'kwenda', 'Chuo', 'Kikuu', 'ambapo', 'alisomea', 'taaluma', 'ya', 'ualimu', '.', 'Alifanikiwa', 'kuwa', 'mwalimu', 'na', 'ni', 'wakati', 'huo', 'alikutana', 'na', 'barafu', 'yake', 'ya', 'moyo', 'mwanamume', 'mwenye', 'asili', 'ya', 'uingereza', '.', 'walifunga', 'ndoa', 'na', 'Anne', 'kuanza', 'maisha', 'mapya', 'nchini', 'Uingereza', 'Maisha', 'nchini', 'Uingereza', 'Huko', 'England', ',', 'Anne', 'alikaidi', 'kile', 'wataalam', 'wa', 'matibabu', 'walikuwa', 'wamesema', 'hakiwezekani', 'kwake', 'kujifungua', 'kama', 'wanawake', 'wengine', 'kutokana', 'na', 'ulemavu', 'wake', '.', 'lakini', 'Anne', 'kwa', 'ukaidi', 'wake', 'wa', 'moyo', 'alishika', 'mimba', 'na', 'kujaaliwa', 'mtoto', 'wa', 'kiume', 'licha', 'ya', 'hali', 'yake', 'ya', 'ulemavu', '.', 'baada', 'ya', 'kujifungua', ',', 'alihisi', 'kana', 'kwamba', 'kuna', 'mengi', 'ambayo', 'anaweza', 'kuyafanya', 'maishani', 'licha', 'ya', 'kuwa', 'mke', 'na', 'mama', '.', 'Alifahamu', 'kuwa', 'angeyaweza', 'mengi', 'kuyafanya', 'maisha', 'yake', 'kuwa', 'bora', 'zaidi', '.', 'ni', 'wakati', 'huo', 'baada', 'ya', 'kumlea', 'mtoto', 'Anne', 'alitafuta', 'njia', 'ya', 'kupoteza', 'uzito', 'wa', 'mwili', 'na', 'kujikwaa', 'Kenya', 'mbio', 'za', 'magurudumu', 'ya', 'watu', 'wenye', 'ulemavu', '.', 'Alibadilika', 'na', 'kuwa', 'gwiji', 'katika', 'mchezo', 'huo', 'na', 'muda', 'mfupi', 'baada', 'ya', 'kuuchukua', ',', 'alishindania', 'mchezo', 'wa', 'magurudumu', 'wa', 'walemavu', 'Athene', '2004', 'na', 'kuwa', 'mwanariadha', 'wa', 'kwanza', 'wa', 'magurudumu', 'kutoka', 'Afrika', 'Mashariki', 'kushindana', 'kwenye', 'mchezo', 'wa', 'Paralympics', '.', 'Chanzo', 'cha', 'picha', ',', 'ANNE', 'WAFULA', 'Kuanzia', 'hapo', 'Anne', '-', 'aliendelea', 'kushinda', 'medali', 'ya', 'shaba', 'kwenye', 'Kombe', 'la', 'Dunia', 'la', 'Paralympic', 'la', '2007', 'BT', 'huko', 'Manchester', 'Uingereza', '.', 'Ushindi', 'wake', 'katika', 'mchezo', 'huo', 'ulimuwania', 'safari', 'ya', 'kwenda', 'kasri', 'ya', 'Buckingham', 'kukutana', 'na', 'Malkia', 'Elizabeth', 'na', 'katika', 'kile', 'kinachoonekana', 'kuwa', 'hatua', 'ya', 'kwanza', 'tu', 'katika', 'nyota', 'yake', \"kung'aa\", '.', 'Anne', 'alianza', 'kuwakilisha', 'uingereza', 'katika', 'michezo', 'mbali', 'mbali', 'ya', 'magurudumu', '.', 'Na', 'je', 'anazungumziaje', 'hatua', 'yake', 'ya', 'kuwakilisha', 'uingereza', 'badala', 'ya', 'nchi', 'yake', 'Kenya', '?', '``', 'Lakini', 'uamuzi', 'wa', 'kutoka', 'Kenya', 'kwenda', 'Uingereza', 'haukuwa', 'rahisi', '.', 'Mwishowe', ',', 'nilifanya', 'hivyo', 'ili', 'niweze', 'kukaa', 'na', 'familia', 'yangu', 'huko', 'uingereza', '.', 'Ninampenda', 'sana', 'mume', 'wangu', 'na', 'mtoto', 'wangu', 'na', 'wananipenda', 'sana', '.', 'Kwangu', 'kuwa', 'uingereza', 'kunaniruhusu', 'kuwa', 'karibu', 'nao', 'kila', 'wakati', '.', 'Kenya', 'ilielewa', 'kuwa', 'kuhama', 'kwangu', 'kulikuwa', 'kwa', 'sababu', 'za', 'kifamilia', 'na', 'waliiunga', 'mkono', 'hilo', '.', 'Ninaikumbuka', 'familia', 'yangu', 'ya', 'Kenya', 'na', 'baba', 'yangu', 'lakini', 'najua', 'kuwa', 'wanajivunia', 'nilipoafikia', 'sasa', 'na', 'Nimefurahi', 'sana', 'kuwakilisha', 'Uingereza', \"''\", '.', 'Anne', 'alisema', 'Kisa', 'cha', 'kutamausha', '``', 'Mwanamichezo', 'mwenye', 'ulemavu', 'wa', 'miguu', 'amelipwa', 'fidia', 'baada', 'ya', 'kujiendea', 'haja', 'ndogo', 'kwenye', 'gari', 'moshi', 'wakati', 'choo', 'cha', 'walemavu', 'kilikuwa', 'hakifanyi', 'kazi', \"''\", '.', 'Hii', 'ni', 'baadhi', 'ya', 'nukuu', 'mmoja', 'katika', 'vyombo', 'vya', 'habari', 'vilivyoangazia', 'tukio', 'hilo', 'na', 'kulichapisha', 'kwenye', 'baadhi', 'yamajarida', 'uingereza', '.', 'Hii', 'ni', 'kuhusu', 'mwanamke', 'huyu', 'mshupavu', '-', 'Anne', 'Wafula-Strike', ',', 'wakati', 'huo', 'alikuwa', 'kwenye', 'treni', 'ya', 'mida', 'ya', 'saa', 'tatu', 'kutoka', 'mji', 'wa', 'Nuneaton', 'hadi', 'Stansted', 'Uingereza', ',', 'ni', 'wakati', 'akiwa', 'kwenye', 'treni', 'aligundua', 'kuwa', 'choo', 'cha', 'walemavu', 'kilikuwa', 'hakifanyikazi', ',', 'na', 'hapo', 'hakuwa', 'na', 'budi', 'ila', 'kujiendea', 'haja', 'ndogo', '.', 'Ni', 'kisa', 'ambacho', 'shirika', 'hilo', 'la', 'mashindano', 'kilichokuwa', 'kinahusika', 'na', 'usafiri', 'wa', 'treni', 'hio', 'walikubali', 'na', 'kumfidia', 'kwa', 'kosa', 'katika', 'upande', 'wao', '.', 'Ni', 'visa', 'kama', 'hivi', 'ambavyo', 'Anne', 'anadokeza', 'kuwa', 'humfanya', 'kusukuma', 'haki', 'za', 'walemavu', '.', 'Anne', 'strike', 'alitaja', 'kisa', 'hicho', 'kama', '``', 'kilichomdhalilisha', 'mno', '``', 'Japo', 'ni', 'tukio', 'lililoshughulikiwa', 'hadharani', 'ana', 'amini', 'matukio', 'kama', 'haya', 'yanafanya', 'watu', 'wenye', 'maumbile', 'ya', 'kawaida', 'kuheshimu', 'na', 'kufikiria', 'zaidi', 'kuhusu', 'shida', 'na', 'changamoo', 'za', 'walemavu', 'kijumla', '.', 'Kwa', 'hio', 'kutengeneza', 'miundo', 'mbinu', 'ambayo', 'itarahisisha', 'maisha', 'ya', 'walemavu', 'sehemu', 'yoyote', 'walipo', 'Chanzo', 'cha', 'picha', ',', 'ANNE', 'WAFULA', 'Uandishi', 'wa', 'kitabu', 'chake', 'Kitabu', 'chake', 'kwa', 'jina', '``', 'In', 'My', 'Dreams', 'Ni', 'kitabu', 'ambacho', 'mwanamke', 'huyu', 'aliandika', 'akiwa', 'anadhamiria', 'kuzungumzia', 'safari', 'ya', 'maisha', 'yake', 'tangu', 'alipozaliwa', ',', 'ili', 'kutoa', 'mwanga', 'na', 'matumaini', 'hasa', 'kwa', 'watu', 'wanaoishi', 'na', 'ulemavu', 'mmoja', 'au', 'mwengine', '.', '``', 'Ni', 'kweli', 'kitabu', 'hiki', 'kinasimulia', 'juu', 'ya', 'maisha', 'yangu', ',', 'ni', 'kitabu', 'ambacho', 'kinaibua', 'hisia', 'tofauti', 'za', 'huzuni', 'za', 'kero', 'na', 'hatimaye', 'za', 'ushindi', \"''\", 'anasema', 'Anne', '.', 'Mwanamke', 'huyu', 'anasema', 'kuwa', 'kitabu', 'hiki', 'ni', 'zawadi', 'yake', 'kwa', 'ulimwengu', 'na', 'kwa', 'vizazi', 'vijavyo', 'kufahamu', 'kuwa', 'wakati', 'mwengine', 'huchagui', 'matukio', 'ya', 'maisha', 'lakini', 'unachagua', 'jinsi', 'ya', 'kukabiliana', 'na', 'matukio', 'hayo', '.']\n",
      "\n",
      " Number of Words:  1057\n"
     ]
    }
   ],
   "source": [
    "file=\"may18.txt\"\n",
    "\n",
    "# calling the function and storing the contents in a text variable \n",
    "text = get_document(\"https://www.bbc.com/swahili/habari-61484162\")\n",
    "\n",
    "# calling the store_ document function \n",
    "store_document(doc=text,name=file)\n",
    "\n",
    "#add the words in this file to the total_corpus_words, to keep count of the number of words in the corpus\n",
    "total_corpus_words+=total_words(file)"
   ]
  },
  {
   "cell_type": "code",
   "execution_count": 158,
   "metadata": {},
   "outputs": [
    {
     "data": {
      "text/plain": [
       "126644"
      ]
     },
     "execution_count": 158,
     "metadata": {},
     "output_type": "execute_result"
    }
   ],
   "source": [
    "total_corpus_words"
   ]
  },
  {
   "cell_type": "code",
   "execution_count": 159,
   "metadata": {},
   "outputs": [
    {
     "name": "stdout",
     "output_type": "stream",
     "text": [
      "['Uchaguzi', 'Kenya', '2020', ':', 'Je', ',', 'chaguzi', 'na', 'siasa', 'za', 'Kenya', 'ni', 'somo', 'kwa', 'nchi', 'nyingine', 'za', 'Afrika', 'Mashariki', '?', 'Rashid', 'Abdallah', 'BBC', 'Swahili', '20', 'Mei', '2022', 'Ifikapo', 'Agosti', '9', ',', '2022', ',', 'Wakenya', 'watashuka', 'vituoni', 'kwenda', 'kuchagua', 'wawakilishi', 'wa', 'nafasi', 'mbali', 'mbali', ',', 'ikiwemo', 'Wabunge', ',', 'Maseneta', ',', 'Magavana', 'na', 'kubwa', 'zaidi', 'ni', 'kumchagua', 'mrithi', 'wa', 'kukikalia', 'kiti', 'cha', 'Rais', 'wa', 'sasa', ',', 'Uhuru', 'Kenyatta', '.', 'Atakaechaguliwa', 'atakuwa', 'rais', 'wa', 'tano', 'wa', 'taifa', 'hilo', 'tangu', 'kupata', 'uhuru', 'Disemba', '1963', '.', 'Aliyekuwa', 'Waziri', 'Mkuu', ',', 'Raila', 'Odinga', 'na', 'Naibu', 'wa', 'Rais', 'katika', 'serikali', 'ya', 'Kenyatta', ',', 'bwana', 'William', 'Ruto', ',', 'ndio', 'wanaonekana', 'kuchuana', 'zaidi', 'katika', 'mbio', 'za', 'uraisi', '.', 'Hivi', 'karibuni', 'Ruto', ',', 'kutoka', 'chama', 'cha', 'United', 'Democratic', 'Alliance', '(', 'UDA', ')', ',', 'alitangaza', 'atakubaliana', 'na', 'matokeo', 'yatakayo', 'tangazwa', 'na', 'tume', 'ya', 'uchaguzi', '.', 'Chama', 'hicho', 'pia', 'kikamtaka', 'Odinga', 'wa', 'Orange', 'Democratic', 'Movement', '(', 'ODM', ')', 'kuja', 'na', 'tangazo', 'kama', 'hilo', '.', 'Ni', 'dalili', 'kwamba', 'mambo', 'yanazidi', 'kuiva', 'kuelekea', 'Agosti', '.', 'Ila', 'ni', 'muhimu', 'kwanza', 'kuzidurusu', 'siasa', 'za', 'Kenya', ',', 'kwani', 'mgombea', 'kukubali', 'kushindwa', 'au', 'kutokubali', ',', 'historia', 'inaonesha', 'ndipo', 'mzizi', 'wa', 'utulivu', 'au', 'vurugu', 'katika', 'siasa', 'huanzia', '.', 'Siasa', 'za', 'mwongo', 'mmoja', 'na', 'nusu', ':', 'Historia', 'ya', 'siasa', 'za', 'Kenya', 'tangu', 'kupata', 'uhuru', ',', 'hazijanusurika', 'na', 'matukio', 'ya', 'kutia', 'doa', 'demokrasia', 'na', 'uhuru', 'wa', 'kisiasa', '.', 'Zipo', 'nyakati', 'za', 'utawala', 'wa', 'mkono', 'wa', 'chuma', ',', 'utawala', 'wa', 'chama', 'kimoja', 'na', 'nyakati', 'za', 'vurugu', 'na', 'mauaji', '.', 'Miaka', '15', 'nyuma', ',', 'mauaji', 'makubwa', 'yalitokea', 'katika', 'uchaguzi', 'wa', '2007', '.', 'Zaidi', 'ya', 'watu', '1,000', 'waliuwawa', 'na', 'maelfu', 'waliyakimbia', 'makaazi', 'yao', '.', 'Yalikuwa', 'ni', 'mauwaji', 'mabaya', 'zaidi', 'kupata', 'kutokea', 'katika', 'chaguzi', 'za', 'Kenya', 'huru', '.', 'Licha', 'ya', 'mwendazake', 'Mwai', 'Kibaki', ',', 'aliyekuwa', 'Rais', 'kutoka', '2002', 'hadi', '2013', 'kumiminiwa', 'sifa', 'kedekede', 'juu', 'ya', 'kukuwa', 'kwa', 'uchumi', 'wa', 'Kenya', ',', 'ila', 'vurugu', 'za', '2007/8', 'zimebaki', 'kuwa', 'kasoro', 'kubwa', 'katika', 'uongozi', 'wake', '.', 'Ulipofanyika', 'uchaguzi', 'mkuu', 'mwaka', '2013', ',', 'haukuwa', 'wa', 'umwagaji', 'damu', '.', 'Utulivu', 'na', 'usalama', 'ulitamalaki', '.', 'Malalamiko', 'makubwa', 'yalitoka', 'kwa', 'kiongozi', 'wa', 'upinzani', ',', 'Raila', 'Odinga', 'ambaye', 'hakuridhishwa', 'na', 'matokeo', 'ya', 'uchaguzi', ',', 'lakini', 'nchi', 'ikabaki', 'kuwa', 'salama', '.', 'Chanzo', 'cha', 'picha', ',', 'AFP', 'Maelezo', 'ya', 'picha', ',', 'Martha', 'Karua', 'na', 'Roigathi', 'Gachagua', 'Patashika', 'ya', 'kisiasa', 'ilirudi', 'tena', 'katika', 'uchaguzi', 'wa', '2017', '.', 'Ripoti', 'ya', 'Tume', 'ya', 'Taifa', 'ya', 'Kutetea', 'Haki', 'za', 'Binaadamu', 'nchini', 'Kenya', '(', 'KNCHR', ')', ',', 'ilieleza', 'kutokea', 'uvunjifu', 'wa', 'haki', 'za', 'binaadamu', ',', 'ripoti', 'pia', 'ikabainisha', 'jumla', 'ya', 'watu', '37', 'waliuwawa', 'katika', 'vurugu', 'za', 'uchaguzi', '.', 'Vuta', 'nikuvute', 'katika', 'chaguzi', 'za', 'nchi', 'jirani', ':', 'Kwa', 'hakika', 'nchi', 'nyingi', 'za', 'Afrika', 'Mashariki', 'hazina', 'historia', 'nzuri', 'katika', 'chaguzi', 'zake', '.', 'Kabla', 'ya', 'Kenya', 'kwenda', 'kwenye', 'uchaguzi', ',', 'Tanzania', 'ilifanya', 'uchaguzi', 'mkuu', 'Oktoba', '2020', '.', 'Ripoti', 'ya', 'Shirika', 'la', 'kuteta', 'Haki', 'za', 'Binaadamu', '(', 'HRW', ')', ',', 'inaeleza', 'juu', 'mauaji', 'ya', 'watu', '14', 'visiwani', 'Zanzibar', 'na', 'vikosi', 'vya', 'usalama', 'viki-elekezewa', 'kidole', 'kuhusika', 'katika', 'kadhia', 'hiyo', '.', 'Kando', 'ya', 'hilo', ',', 'Tanzania', 'pia', 'iliamua', 'kuzima', 'mitandao', 'ya', 'kijamii', 'wakati', 'wa', 'uchaguzi', ',', 'Jambo', 'lililotatiza', 'pakubwa', 'uhuru', 'wa', 'watu', 'kutoa', 'maoni', 'na', 'kupata', 'taarifa', '.', 'Hili', 'lilifanywa', 'kwa', 'hoja', 'ya', 'kuinusuru', 'nchi', 'na', 'taarifa', 'za', 'uongo', 'wakati', 'uchaguzi', 'ukiendelea', '.', 'Nchi', 'ya', 'Uganda', 'ilifanya', 'uchaguzi', 'mkuu', 'Januari', '2021', '.', 'Mwezi', 'Novemba', '2020', ',', 'miezi', 'michache', 'kabla', 'ya', 'uchaguzi', 'huo', 'vikosi', 'vya', 'usalama', 'vilitekeleza', 'mauaji', 'ya', 'makumi', 'ya', 'wafuasi', 'wa', 'upinzani', 'walioandamana', 'katika', 'jiji', 'la', 'Kampala', ',', 'baada', 'ya', 'kiongozi', 'wao', 'Bobi', 'Wine', 'kukamatwa', '.', 'Chanzo', 'cha', 'picha', ',', 'AFP', 'Maelezo', 'ya', 'picha', ',', 'Uhuru', 'Kenyatta', 'na', 'naibu', 'wake', 'William', 'Ruto', '2013', 'Pia', ',', 'Uganda', 'ilishuhudia', 'kuzimwa', 'kwa', 'huduma', 'ya', 'intaneti', 'na', 'mitandao', 'ya', 'kijamii', '.', 'Vilevile', ',', 'kulikuwa', 'na', 'ripoti', 'za', 'watu', 'kukamatwa', 'kiholela', 'na', 'kutoweka', '.', 'Ripoti', 'ya', 'mwandishi', 'wa', 'BBC', ',', 'Patience', 'Atuhaire', 'ya', 'Machi', '2021', ',', 'ilieleza', ',', 'mamia', 'ya', 'watu', 'hawajulikani', 'walipo', '.', 'Kipi', 'kinatia', 'moyo', 'juu', 'ya', 'Kenya', '?', 'Kuna', 'tofauti', 'kubwa', 'kati', 'ya', 'nchi', 'ambayo', 'hutafuta', 'miafaka', 'kila', 'pakitokea', 'vurugu', 'za', 'kisiasa', ',', 'mfano', 'nchi', 'ya', 'Kenya', ';', 'na', 'nchi', 'ambayo', 'hata', 'zikitokea', 'vurugu', 'na', 'mauaji', 'hakuna', 'meza', 'ya', 'mazungumzo', 'kujadili', 'namna', 'ya', 'kuboresha', 'hali', 'ya', 'mambo', ',', 'mfano', 'Uganda', '.', 'Mauaji', 'ya', '2007', 'nchini', 'Kenya', ',', 'yalikuwa', 'chachu', 'kwa', 'taifa', 'hilo', 'kutafuta', 'katiba', 'mpya', 'ili', 'kuondoa', 'matatizo', 'ya', 'kisiasa', '.', 'Katiba', 'hiyo', 'iliyoanza', 'kufanya', 'kazi', '2010', ',', 'imebaki', 'kuwa', 'msingi', 'muhimu', 'kwa', 'maendeleo', 'ya', 'demokrasia', 'nchini', 'humo', '.', 'Baada', 'ya', 'vurugu', 'za', 'uchaguzi', 'wa', '2017', ',', 'Rais', 'Kenyatta', 'na', 'mpinzani', 'wake', 'Raila', 'Odinga', ',', 'walikaa', 'meza', 'moja', 'kutafuta', 'maelewano', 'mwaka', '2018', '.', 'Ndipo', 'hapo', ',', 'ukapatikana', 'ule', 'msamiati', 'maarufu', 'nchini', 'Kenya', ',', '``', 'hand-shake', '.', \"''\", 'Hayo', 'yote', 'yanaleta', 'matumaini', 'juu', 'ya', 'siasa', 'za', 'Kenya', '.', 'Na', 'ni', 'somo', 'kubwa', 'kwa', 'nchi', 'jirani', ';', 'kwamba', 'milango', 'ya', 'mazungumzo', 'ya', 'kisiasa', 'ni', 'lazima', 'kila', 'wakati', 'iwe', 'wazi', ',', 'ili', 'kurekebisha', 'na', 'kusuluhisha', 'mambo', 'yaendapo', 'kombo', '.', 'Ni', 'vugumu', 'kutabiri', 'kipi', 'kitatokea', 'katika', 'uchaguzi', 'ujao', ',', 'kwa', 'kuzingatia', 'historia', 'ya', 'vurugu', 'zinazokuja', 'na', 'kuondoka', ';', 'ila', 'ni', 'rahisi', 'kusema', 'kwamba', 'lolote', 'litakalotokea', 'wanasiasa', 'wa', 'Kenya', 'wameonesha', 'historia', 'nzuri', 'ya', 'kuwa', 'tayari', 'kukaa', 'pamoja', 'kutatua', 'sintofahamu', 'zao', 'kwa', 'manufaa', 'ya', 'Kenya', 'na', 'Wakenya', '.', 'Chanzo', 'cha', 'picha', ',', 'Getty', 'Images', 'Maelezo', 'ya', 'picha', ',', 'Rais', 'Uhuru', 'Kenyatta', 'na', 'Kiongozi', 'wa', 'upinzani', 'Raila', 'Odinga', 'Tangu', 'uchaguzi', 'wa', 'Uganda', 'umalizike', 'na', 'vurugu', 'zitokee', ',', 'hakuna', 'kikao', 'kati', 'ya', 'upinzani', 'na', 'utawala', 'ili', 'kujaribu', 'kuweka', 'mambo', 'sawa', 'kwa', 'faida', 'ya', 'chaguzi', 'zijazo', '.', 'Bado', 'mivutano', 'inaendelea', ',', 'na', 'huenda', 'ikaendelea', 'hadi', 'uchaguzi', 'mwingine', 'utakapofika', '.', 'Nchini', 'Tanzania', ',', 'Rais', 'Samia', 'Suluhu', 'Hassan', ',', 'anaonekana', 'kujaribu', 'mazungumzo', 'na', 'upinzani', 'ili', 'kuponya', 'vidonda', '.', 'Na', 'pia', ',', 'ameonesha', 'dhamira', 'ya', 'kuboresha', 'mifumo', 'inayosimamia', 'siasa', 'za', 'nchi', 'hiyo', '.', 'Ingawa', 'mtangulizi', 'wake', 'hakuwa', 'muumini', 'wa', 'mazungumzo', 'ya', 'kisiasa', 'wala', 'maboresho', '.', 'Rais', 'anayeondoka', 'madarakani', ',', 'Uhuru', 'Kenyatta', ',', 'amedhihirisha', 'uwezo', 'mkubwa', 'wa', 'kuheshimu', 'uhuru', 'wa', 'kisiasa', 'nchini', 'Kenya', ',', 'serikali', 'yake', 'haijaendesha', 'kampeni', 'za', 'kuandama', 'upinzani', 'au', 'wale', 'wanaomkosoa', 'katika', 'mitandao', 'na', 'vyombo', 'vya', 'habari', '.', 'Ni', 'matumaini', 'ya', 'wengi', ';', 'aina', 'hiyo', 'ya', 'uongozi', 'itadumu', 'hadi', 'siku', 'za', 'mwisho', 'za', 'uongozi', 'wake', ',', 'wakati', 'Wakenya', 'wakipiga', 'kura', '.', 'Kwa', 'maneno', 'mengine', ',', 'wanasiasa', 'na', 'wafuasi', 'wao', 'watafanya', 'shughuli', 'za', 'kisiasa', 'bila', 'kuingiliwa', 'na', 'dola', '.']\n",
      "\n",
      " Number of Words:  1011\n"
     ]
    }
   ],
   "source": [
    "file=\"may20.txt\"\n",
    "\n",
    "# calling the function and storing the contents in a text variable \n",
    "text = get_document(\"https://www.bbc.com/swahili/habari-61518417\")\n",
    "\n",
    "# calling the store_ document function \n",
    "store_document(doc=text,name=file)\n",
    "\n",
    "#add the words in this file to the total_corpus_words, to keep count of the number of words in the corpus\n",
    "total_corpus_words+=total_words(file)"
   ]
  },
  {
   "cell_type": "code",
   "execution_count": 160,
   "metadata": {},
   "outputs": [
    {
     "data": {
      "text/plain": [
       "127655"
      ]
     },
     "execution_count": 160,
     "metadata": {},
     "output_type": "execute_result"
    }
   ],
   "source": [
    "total_corpus_words"
   ]
  },
  {
   "cell_type": "code",
   "execution_count": 161,
   "metadata": {},
   "outputs": [
    {
     "name": "stdout",
     "output_type": "stream",
     "text": [
      "['Jina', 'lake', 'Everlyne', 'Wanjiru', 'Agundabweni', 'ni', 'maarufu', 'sana', 'katika', 'ulingo', 'wa', 'nyimbo', 'za', 'injili', 'hapa', 'Afrika', 'ya', 'mashariki', '.', 'Kwa', 'miaka', 'mingi', 'Wakenya', 'pamoja', 'na', 'wakaazi', 'wa', 'kanda', 'hii', 'ya', 'Afrika', 'Mashariki', 'na', 'kati', 'wameshabikia', 'nyimbo', 'zake', 'hasa', 'sauti', 'yake', 'nyororo', 'kila', 'wakati', 'anapokuwa', 'katika', 'majukwaa', 'mbali', 'mbali', '.', 'Ila', 'Everlyne', 'ni', 'mwanamke', 'ambaye', 'aliishi', 'na', 'machungu', 'mengi', 'kisiri', 'kutokana', 'na', 'mahangaiko', 'ya', 'kutopata', 'ujauzito', 'kuanzia', 'mwaka', 'wa', 'kwanza', 'wa', 'ndoa', 'hadi', 'mwaka', 'wa', 'tisa', '.', 'Lakini', 'kama', 'msemo', 'unavyosema', ',', 'Mungu', 'hamsahau', 'mja', 'wake', ',', 'alibahatika', 'kupata', 'ujauzito', 'mwaka', 'huu', 'wa', '2022', ',', 'ambao', 'ni', 'mwaka', 'wa', 'kumi', 'na', 'kufanikiuwa', 'kujifungua', 'mtoto', 'wa', 'kiume', '.', '``', 'Kwanza', 'kabisa', 'nataka', 'kutoa', 'shukrani', 'zangu', 'kwa', 'Mwenyezi', 'Mungu', 'kwa', 'kunitoa', 'aibu', 'na', 'kutupangusa', 'machozi', 'ya', 'miaka', 'mingi', 'mimi', 'na', 'mume', 'wangu', '.', 'Tulihangaika', 'kwa', 'siri', 'tukitafuta', 'njia', 'ambayo', 'ingenihakikishia', 'kushika', 'mimba', '.', 'Na', 'mwaka', 'wa', 'kumi', 'wa', 'ndoa', 'yetu', 'siamini', 'kwamba', 'ninampakata', 'mtoto', 'wangu', 'mikononi', '-', 'huu', 'ni', 'muujiza', '``', 'Everlyne', 'alisema', 'Mahangaiko', 'ya', 'kujaliwa', 'mtoto', 'Mwanadada', 'huyu', 'anasema', 'kwamba', 'kuwa', 'katika', 'ndoa', 'kwa', 'miaka', 'hio', 'kumi', 'bila', 'kujaaliwa', 'mtoto', 'kulimpa', 'wasiwasi', 'hasa', 'alipokuwa', 'anawaza', 'kwamba', 'yeye', 'ni', 'msanii', 'wa', 'nyimbo', 'za', 'injili', '.Nyimbo', 'ambazo', 'anapoziandika', 'zinakuwa', 'na', 'lengo', 'la', 'kutoa', 'matumaini', 'kwa', 'watu', 'katika', 'maisha', 'yao', '.', 'Chanzo', 'cha', 'picha', ',', 'Everlyne', 'Wanjiru', 'Agundabweni', 'Maelezo', 'ya', 'picha', ',', 'Everlyne', 'Wanjiru', 'Agundabweni', 'Kwa', 'mfano', 'anasema', 'kuwa', 'mojawapo', 'wa', 'wimbo', 'wake', 'maarufu', '``', 'Waweza', \"''\", 'ulionekana', 'kana', 'kwamba', 'ni', 'kejeli', 'kuu', 'katika', 'maisha', 'yake', ',', 'wakati', 'anaimba', 'kwamba', 'Mwenyezi', 'Mungu', 'anaweza', 'yote', 'ilhali', 'mtu', 'angeuliza', 'yeye', 'anaimba', 'kuhusu', 'hayo', 'mbona', 'yeye', 'hajawezeshwa', 'kupata', 'mtoto', '?', 'Ndio', 'changamoto', 'kubwa', 'ambayo', 'Everlyne', 'na', 'mume', 'wake', 'walipitia', 'miaka', 'hio', 'akisubiri', 'kujaaliwa', 'mtoto', '.', '``', 'Kwenye', 'maisha', 'haya', 'tunayoishi', 'hasa', 'mila', 'za', 'Kiafrika', 'jamii', 'inatizama', 'kila', 'wakati', 'panapokosekana', 'mtoto', 'huwa', 'mwanamke', 'ndio', 'anashida', ',', 'kwa', 'hio', 'mara', 'tu', 'unapoolewa', 'hata', 'bado', 'mko', 'kwenye', 'fungate', 'wameanza', 'uliza', 'vipi', 'mtoto', '?', 'Kwa', 'hio', 'imekuwa', 'safari', 'ngumu', 'lakini', 'pia', 'safari', 'ya', 'kutia', 'moyo', 'kila', 'siku', 'kwa', 'ndoa', 'yangu', 'nilikuwa', 'najipa', 'moyo', 'kwamba', 'siku', 'moja', 'Mungu', 'atanitendea', '``', 'anasema', 'Evelyne', 'Ila', 'mwanamke', 'huyu', 'anasema', 'kwamba', 'nyuma', 'ya', 'kujitia', 'moyo', 'na', 'kuamini', 'kwamba', 'siku', 'moja', 'angekuwa', 'na', 'mtoto', 'mikononi', 'mwake', 'haikuwa', 'barabara', 'rahisi', ',', 'hasa', 'kwa', 'kuwa', 'baadhi', 'ya', 'watu', 'walikuwa', 'wanamsimanga', '.', 'Chanzo', 'cha', 'picha', ',', 'Everlyne', 'Wanjiru', 'Agundabweni', 'Maelezo', 'ya', 'picha', ',', 'Haikuwa', 'barabara', 'rahisi', ',', 'hasa', 'kwa', 'kuwa', 'baadhi', 'ya', 'watu', 'walikuwa', 'wanamsimanga', '.', 'Akiwa', 'msanii', 'wa', 'nyimbo', 'za', 'injili', 'na', 'kwamba', 'anatumia', 'mitandao', 'ya', 'kijamii', 'katika', 'kueneza', 'nyimbo', 'zake', ',', 'alikuwa', 'anakutana', 'na', 'maoni', 'ya', 'baadhi', 'ya', 'watu', 'ambayo', 'yangemshusha', 'kwa', 'mfano', 'maneno', 'haya', 'ambayo', 'hajayasahau', '-', '``', 'Wewe', 'bure', 'sana', 'nenda', 'ukazae', 'kwanza', '``', 'mmoja', 'w', 'wafuasi', 'wake', 'waliandika', 'katika', 'mtandao', 'wake', 'wa', 'youtube', 'Wasiwasi', 'wa', 'kumpoteza', 'mume', 'wake', 'Licha', 'ya', 'changamoto', 'za', 'nje', 'alizopata', ',', 'ndani', 'yake', 'anakiri', 'kwamba', 'kila', 'kuchao', 'na', 'kila', 'miezi', 'na', 'miaka', 'ilivyosonga', 'alikuwa', 'na', 'wasiwasi', 'sana', 'kuhusu', 'hatma', 'ya', 'ndoa', 'yake', 'na', 'pia', 'hali', 'ya', 'mume', 'wake', '.', 'Alikuwa', 'anajiuliza', '``', 'Je', ',', 'huyu', 'mume', 'wangu', 'kipenzi', 'changu', 'atasubiri', 'hadi', 'lini', \"''\", '?', 'Mama', 'huyu', 'anasema', 'kwamba', 'mawazo', 'haya', 'yalimjia', 'kwa', 'kuona', 'miaka', 'ya', 'mume', 'wake', 'inasonga', 'kwa', 'kasi', 'na', 'huku', 'hajajaliwa', 'mtoto', ',', 'pia', 'alikuwa', 'na', 'wasiwasi', 'na', 'hofu', 'moyoni', 'kwa', 'ufahamu', 'kwamba', 'anaishi', 'katika', 'mazingira', 'yenye', 'tamaduni', 'za', 'Kiafrika', 'ambazo', 'nyingi', 'zinaamini', 'kuwa', 'mwanamume', 'aliyeoa', 'ni', 'sharti', 'apate', 'watoto', 'wengi', '.', 'Chanzo', 'cha', 'picha', ',', 'Everlyne', 'Wanjiru', 'Agundabweni', 'Maelezo', 'ya', 'picha', ',', 'Everlyn', 'na', 'mumewe', '``', 'Ninafurahia', 'na', 'ninafahamu', 'kwamba', 'mume', 'wangu', 'alinipenda', 'na', 'alikua', 'amesimama', 'na', 'mimi', 'katika', 'harakati', 'za', 'kutafuta', 'kila', 'njia', 'ya', 'kupata', 'ujauzito', ',', 'ila', 'nilikuwa', 'na', 'wasiwasi', 'kwamba', 'ninaweza', 'kumpoteza', '!', 'unajua', 'mila', 'zetu', 'zilivyo', 'haswa', 'kwa', 'upande', 'wa', 'wanaume', 'walioko', 'kwenye', 'ndoa', 'kwamba', 'wake', 'wao', 'wawe', 'na', 'uwezo', 'wa', 'kuwapa', 'watoto', '.Sasa', 'mimi', 'nilikuwa', 'na', 'uliza', 'Mungu', 'itakuwaje', 'sasa', 'miaka', 'ndio', 'hii', 'inasonga', 'bila', 'mafanikio', 'yoyote', '``', 'anakumbuka', 'Everlyne', 'Harakati', 'za', 'kupata', 'ujauzito', 'Wakati', 'muda', 'ulipokuwa', 'ukiyoyoma', 'na', 'kufikia', 'mwaka', 'wa', 'saba', 'katika', 'ndoa', ',', 'mwanamke', 'huyu', 'na', 'mume', 'wake', 'waliamua', 'waanze', 'kutafuta', 'matibabu', 'na', 'pengine', 'ushauri', 'kutoka', 'kwa', 'wahudumu', 'wa', 'afya', 'ya', 'uzazi', 'kuhusiana', 'na', 'ni', 'kwanini', 'alikuwa', 'hajashika', 'mimba', '.', 'Anapotupa', 'macho', 'nyuma', 'na', 'kuwazia', 'miaka', 'ya', 'mwanzo', 'ya', 'ndoa', 'yake', 'anakumbuka', 'miezi', 'kadhaa', 'ingepita', 'bila', 'kupitia', 'siku', 'za', 'mwezi', '(', 'hedhi', ')', 'ila', 'aliendelea', 'kupuuza', 'kama', 'kitu', 'cha', 'kawaida', 'kwa', 'wanawake', '.', 'Anaongezea', 'kwamba', 'hakufahamu', 'kwamba', 'viashiria', 'hivyo', 'vilikuwa', 'ishara', 'kwamba', 'yote', 'hayakuwa', 'sawa', 'katika', 'viungo', 'vyake', 'vya', 'uzazi', '.', 'Chanzo', 'cha', 'picha', ',', 'Everlyne', 'Wanjiru', 'Agundabweni', 'Maelezo', 'ya', 'picha', ',', 'Mwanamke', 'huyu', 'na', 'mume', 'wake', 'waliamua', 'waanze', 'kutafuta', 'matibabu', 'na', 'pengine', 'ushauri', 'kutoka', 'kwa', 'wahudumu', 'wa', 'afya', '``', 'Kwanza', 'kabisa', 'ningependa', 'kusema', 'kwa', 'mwanamke', 'yeyote', ',', 'asipuuze', 'mabadiliko', 'katika', 'mwili', 'wake', 'hasa', 'siku', 'za', 'hedhi', ',', 'miaka', 'miwili', 'ya', 'kwanza', 'ya', 'ndoa', 'hedhi', 'ilikuwa', 'inatoka', 'kama', 'kawaida', ',', 'mwaka', 'wa', 'nne', 'na', 'watano', 'nilikuwa', 'nagundua', 'kwamba', 'hedhi', 'haijatoka', 'hata', 'kwa', 'miezi', 'mitano', 'mfululizo', 'ila', 'nilikuwa', 'napuuza', 'nisijue', 'kwamba', 'kule', 'kupuuza', 'kwangu', 'kungenigharimu', 'sana', '``', 'anasema', 'Everlyne', 'Wakati', 'yeye', 'na', 'mume', 'wake', 'walikwenda', 'hospitalini', ',', 'daktari', 'alimfahamisha', 'kwamba', 'alikuwa', 'na', 'matatizo', 'ya', 'kutokuwa', 'na', 'usawa', 'katika', 'homoni', 'zake', ',', 'na', 'kwa', 'hio', 'homoni', 'zake', 'zilikuwa', 'zinatuma', 'ujumbe', 'tofauti', 'katika', 'viungo', 'vyake', 'vya', 'uzazi', '.Ni', 'wakati', 'huo', 'ambapo', 'alianzishwa', 'matibabu', 'mbalimbali', 'na', 'akapewa', 'dawa', 'za', 'kumsaidia', 'za', 'uzazi', 'na', 'kwa', 'miaka', 'miwili', 'hivi', 'alikuwa', 'anazitumia', 'taratibu', 'hadi', 'mwaka', 'jana', '2021', 'alipogundua', 'kwamba', 'ana', 'ujauzito', '``', 'Nilikuwa', 'ziarani', 'Marekani', ',', 'niligundua', 'kwamba', 'kuna', 'baadhi', 'ya', 'harufu', 'zilikuwa', 'zinanipa', 'kisunzi', ',', 'wakati', 'huo', 'huo', 'pia', 'nilianza', 'kutamani', 'vyakula', 'vya', 'ajabu', 'sana', ',', 'hadi', 'nilikuwa', 'nakula', 'barafu', ',', 'ni', 'kitu', 'kilichonishangaza', 'sana', ',', 'hadi', 'nilipofanya', 'vipimo', 'naikadhibitishwa', 'mimi', 'nimjamzito', \"''\", 'anakumbuka', 'Evelyne', 'Chanzo', 'cha', 'picha', ',', 'Everlyn', 'wanjiru', 'Maelezo', 'ya', 'picha', ',', '.', 'Siku', 'zilizofuata', 'zilikuwa', 'za', 'furaha', 'na', 'kutoa', 'shukrani', 'kwa', 'mwenyezi', 'Mungu', 'hadi', 'Aprili', 'tarehe', '6', 'mwaka', 'huu', 'alipojifungua', 'mtoto', 'wa', 'kiume', 'ambaye', 'wamempa', 'jina', 'Mshindi', ',', 'hali', 'ambayo', 'imempatia', 'fahari', 'kuu', 'hususana', 'miongoni', 'mwa', 'jamii', 'yake', '.', 'Wito', 'wake', 'mkuu', 'umekuwa', 'subira', 'huvuta', 'heri', 'maishani', 'na', 'kwamba', 'wakati', 'ambapo', 'walimwengu', \"wanang'ang'ana\", 'kutafuta', 'mali', ',', 'Watoto', 'au', 'chochote', 'wasiwe', 'na', 'haraka', 'au', 'kukata', 'tamaa', '.']\n",
      "\n",
      " Number of Words:  1003\n"
     ]
    }
   ],
   "source": [
    "file=\"may25.txt\"\n",
    "\n",
    "# calling the function and storing the contents in a text variable \n",
    "text = get_document(\"https://www.bbc.com/swahili/habari-61568212\")\n",
    "\n",
    "# calling the store_ document function \n",
    "store_document(doc=text,name=file)\n",
    "\n",
    "#add the words in this file to the total_corpus_words, to keep count of the number of words in the corpus\n",
    "total_corpus_words+=total_words(file)"
   ]
  },
  {
   "cell_type": "code",
   "execution_count": 162,
   "metadata": {},
   "outputs": [
    {
     "data": {
      "text/plain": [
       "128658"
      ]
     },
     "execution_count": 162,
     "metadata": {},
     "output_type": "execute_result"
    }
   ],
   "source": [
    "total_corpus_words"
   ]
  },
  {
   "cell_type": "code",
   "execution_count": 163,
   "metadata": {},
   "outputs": [
    {
     "name": "stdout",
     "output_type": "stream",
     "text": [
      "['Uchaguzi', 'wa', 'Kenya', '2022', ':', 'Je', 'ahadi', 'za', 'serikali', 'ya', 'Jubilee', 'kwa', 'Wakenya', 'zimetimizwa', '?', 'Alutalala', 'Mukhwana', 'Mchambuzi', 'Kenya', '27', 'Mei', '2022', 'Maelezo', 'ya', 'picha', ',', 'William', 'Ruto', 'na', 'Uhuru', 'kenyatta', 'wakati', 'wa', 'kampeni', 'za', 'uchaguzi', 'wa', '2013', 'Mwaka', 'wa', '2013', ',', 'tarehe', '4', 'mwezi', 'Machi', ',', 'serikali', 'mpya', 'ya', 'Jubilee', ',', 'maarufu', '``', 'Uhuruto', '``', ',', 'ilichukua', 'mamlaka', 'baada', 'ya', 'uchaguzi', 'mkuu', '.', 'Utawala', 'huo', 'mpya', 'Uhuru', 'Kenyatta', 'pamoja', 'naye', 'Naibu', 'Rais', 'William', 'Ruto', ',', 'uliwapa', 'matumaini', 'chungu', 'nzima', 'wafuasi', 'wao', 'kwamba', 'maisha', 'ya', 'Wakenya', 'yangebadilika', 'kuwa', 'bora', 'zaidi', '.', 'Wao', 'Uhuru', 'na', 'mwenzake', 'Wiilliam', 'Ruto', 'walionyesha', 'ukuruba', 'mkubwa', 'hadharani', 'na', 'hilo', 'likatia', 'shani', 'uhusiano', 'wao', 'na', 'kuwaongezea', 'matumaini', 'maradufu', 'Wakenya', 'kuwa', 'maisha', 'yao', 'yangelikuwa', 'bora', 'zaidi', '.', 'Nani', 'yuko', 'kwenye', \"kinyang'anyiro\", 'cha', 'kuiongoza', 'Kenya', '?', 'Fahamu', 'zaidi', 'kuwahusu', 'wagombea', 'urais', 'wa', 'Kenya', 'Chagua', 'mgombea', 'ili', 'kutazama', 'wasifu', 'wake', 'Raila', 'Odinga', 'William', 'Ruto', 'George', 'Wajackoyah', 'David', 'Mwaure', 'Raila', 'Amollo', 'Odinga', 'Muungano', 'wa', 'Azimio', 'la', 'Umoja', 'Maelezo', 'ya', 'Msingi', 'Mgombea', 'huyo', 'mwenye', 'umri', 'wa', 'miaka', '77', 'ni', 'mhandisi', 'aliyesomea', 'Chuo', 'Kikuu', 'cha', 'Ufundi', 'cha', 'Magdeburg', '(', 'sasa', 'kinajulikana', 'kama', 'Chuo', 'Kikuu', 'cha', 'Otto-von-Guericke', 'Magdeburg', ')', 'nchini', 'Ujerumani', '.', 'Anawania', 'kiti', 'cha', 'urais', 'kwa', 'tikiti', 'ya', 'Azimio', 'la', 'Umoja', 'One', 'Kenya', 'Coalition', 'Party', '.', 'Hili', 'litakuwa', 'jaribio', 'lake', 'la', 'tano', 'baada', 'ya', 'kugombea', 'katika', ':', '1997', ',', '2007', ',', '2013', 'na', '2017', '.', 'Mafanikio', 'Muhimu', 'Bw', 'Odinga', 'alikuwa', 'mmoja', 'wa', 'wapiganiaji', 'wa', 'demokrasia', 'ya', 'vyama', 'vingi', 'nchini', 'Kenya', '.', 'Alikamatwa', ',', 'akafungwa', 'na', 'wakati', 'fulani', 'akaenda', 'uhamishoni', 'kwa', 'sababu', 'ya', 'kupigania', 'haki', 'hiyo', 'Aliwahi', 'kuwa', 'Waziri', 'Mkuu', ',', 'kuanzia', '2008-2013', '.', 'Odinga', 'alihusika', 'kufanikisha', 'miradi', 'mikubwa', 'iliyotekelezwa', 'na', 'serikali', 'ya', 'Kibaki', ',', 'kama', 'vile', 'miradi', 'ya', 'umeme', 'vijijini', 'na', 'barabara', '.', 'Ahadi', 'Muhimu', 'Kuafikia', 'ukuaji', 'wa', 'uchumi', 'wa', 'tarakimu', 'mbili', 'kupitia', 'uwekezaji', 'katika', 'biashara', 'ndogo', 'ndogo', 'na', 'sekta', 'ya', 'viwanda', '.', 'Utoaji', 'wa', 'huduma', 'bora', 'za', 'afya', 'kwa', 'wote', '.', 'Utoaji', 'wa', 'vifaa', 'vya', 'michezo', 'na', 'burudani', 'kwa', 'ukuaji', 'wa', 'kimwili', ',', 'kiakili', ',', 'kijamii', ',', 'kimaadili', 'na', 'maendeleo', 'ya', 'watu', '.', 'Kashfa/Sakata', 'Kufuatia', 'jaribio', 'la', 'mapinduzi', 'ya', 'Agosti', '1', ',', '1982', ',', 'Raila', 'Odinga', 'alikamatwa', 'na', 'kukabiliwa', 'na', 'mashtaka', 'kadhaa', ',', 'yakiwemo', 'ya', 'uhaini', 'ambayo', 'alizuiliwa', 'bila', 'kufunguliwa', 'mashtaka', '.', 'Tume', 'ya', 'Ukweli', 'ya', 'Haki', 'na', 'Maridhiano', 'iliambiwa', 'mwaka', '2011', 'kwamba', 'Odinga', 'alikuwa', 'na', 'mawasiliano', 'na', 'mpangaji', 'mkuu', 'wa', 'mapinduzi', 'hayo', '.', 'Odinga', 'amekana', 'kuhusika', 'kila', 'mara', '.', '-', 'Makavazi', 'ya', 'Kitaifa', 'ya', 'Kenya', '.', 'William', 'Samoei', 'Ruto', 'Muungano', 'wa', 'Kenya', 'Kwanza', 'Maelezo', 'ya', 'Msingi', 'Mgombea', 'huyu', 'mwenye', 'umri', 'wa', 'miaka', '55', 'ana', 'Shahada', 'ya', 'Uzamifu/PhD', 'katika', 'Ikolojia', 'ya', 'Mimea', 'na', 'BSc', 'katika', 'Botany', 'na', 'Zoology', 'kutoka', 'Chuo', 'Kikuu', 'cha', 'Nairobi', '.', 'Anawania', 'kiti', 'cha', 'urais', 'kwa', 'tikiti', 'ya', 'chama', 'cha', 'United', 'Democratic', 'Alliance', '(', 'chenye', 'mafungamano', 'na', 'Kenya', 'Kwanza', ')', '.', 'Aliongoza', 'Vuguvugu', 'la', 'vijana', 'la', 'Youth', 'for', 'Kanu', \"'92\", '(', 'YK', \"'\", '(', '92', ')', '.', 'Mafanikio', 'Muhimu', 'Wizara', 'yake', 'iliorodheshwa', 'kama', 'inayofanya', 'bora', 'zaidi', 'serikalini', 'alipokuwa', 'Waziri', 'wa', 'Kilimo', '.', 'Alihudumu', 'kama', 'Naibu', 'Rais', 'wa', 'kwanza', 'wa', 'Kenya', 'chini', 'ya', 'katiba', 'mpya', 'ya', '2010', '.', 'Alihudumu', 'kama', 'mbunge', 'wa', 'eneo', 'bunge', 'la', 'Eldoret', 'Kaskazini', 'kuanzia', '1997-2007', '.', 'Ahadi', 'Muhimu', 'Kutenga', '$', '424', 'milioni', 'kila', 'mwaka', 'kwa', 'biashara', 'ndogo', 'ndogo', 'za', 'kati', '.', 'Kuanzisha', 'mfuko', 'wa', 'elimu', 'wa', 'kitaifa', 'ili', 'kukidhi', 'gharama', 'zisizo', 'za', 'masomo', '.', 'Tekeleza', 'kikamilifu', 'sheria', 'ya', 'usawa', 'wa', 'kijinsia', 'ya', 'thuluthi', 'mbili', 'katika', 'uteuzi', 'wa', 'kisiasa', 'na', 'kutenga', 'nusu', 'ya', 'baraza', 'lake', 'la', 'mawaziri', 'kwa', 'wanawake', '.', 'Kashfa/Sakata', 'Mnamo', '2008', ',', 'Mahakama', 'Kuu', 'ya', 'Kenya', 'iliamuru', 'Naibu', 'Rais', 'William', 'Ruto', 'kusalimisha', 'shamba', 'la', 'ekari', '100', 'na', 'kulipa', '$', '62,500', 'kwa', 'Adrian', 'Muteshi', ',', 'mkulima', 'ambaye', 'alimshtaki', 'kwa', 'kuchukua', 'mali', 'hiyo', 'baada', 'ya', 'uchaguzi', 'wa', '2007', '.', '-', 'Kenya', 'Law', 'Mnamo', '2011', ',', 'Bw', 'Ruto', 'alikabiliwa', 'na', 'kesi', 'kwa', 'makosa', 'matatu', 'dhidi', 'ya', 'binadamu', ':', 'Mauaji', ',', 'uhamisho', 'wa', 'watu', 'kwa', 'lazima', 'na', 'mateso', 'ya', 'watu', 'katika', 'Mahakama', 'ya', 'Kimataifa', 'ya', 'Uhalifu', '.', 'Miaka', 'mitano', 'baadaye', 'mahakama', 'ilisitisha', 'kesi', 'hiyo', 'kwa', 'msingi', 'kwamba', '-', 'ushahidi', 'wa', 'upande', 'wa', 'mashtaka', 'ulikuwa', 'dhaifu', '.', '-ICC', 'George', 'Wajackoyah', 'Chama', 'cha', 'Roots', 'Maelezo', 'ya', 'Msingi', 'Profesa', 'huyo', 'mwenye', 'umri', 'wa', 'miaka', '61', 'ana', 'shahada', 'ya', 'uzamili', 'katika', 'sheria', 'kuhusu', 'maendeleo', 'kutoka', 'Chuo', 'Kikuu', 'cha', 'Warwick', 'na', 'shahada', 'ya', 'uzamili', ',', 'sheria', '(', 'sheria', 'za', 'Marekani', 'kutoka', 'Chuo', 'Kikuu', 'cha', 'Baltimore', '.', 'Bw', 'Wajackoyah', 'anawania', 'kiti', 'cha', 'urais', 'kwa', 'tiketi', 'ya', 'Chama', 'cha', 'Roots', 'Party', '.', 'Mafanikio', 'Muhimu', 'Alihudumu', 'kama', 'Inspekta', 'katika', 'idara', 'ya', 'usalama', 'ya', 'Special', 'branch', 'wakati', 'wa', 'utawala', 'wa', 'marehemu', 'Rais', 'Daniel', 'Moi', 'kabla', 'ya', 'kulazimika', 'kutorokea', \"ng'ambo\", 'ili', 'kuepuka', 'kufunguliwa', 'mashtaka', 'na', 'mamlaka', '.', 'Yeye', 'ni', 'mshirika', 'katika', 'kampuni', 'ya', 'mawakili', 'aliyoianzisha', 'mwaka', 'wa', '2018', '.', 'Alifunnza', 'somo', 'la', 'sheria', 'na', 'uchumi', 'katika', 'vyuo', 'vikuu', 'vya', 'Marekani', ',', 'Uingereza', 'na', 'Kenya', '.', 'Ahadi', 'Muhimu', 'Kuhalalisha', 'matumizi', 'ya', 'kiviwanda', 'ya', 'bangi', 'Badilisha', 'siku', 'za', 'kazi', 'hadi', 'Jumatatu', 'hadi', 'Alhamisi', '.', 'Huduma', 'ya', 'afya', 'ya', 'bure', 'na', 'msaada', 'kwa', 'wazee', ',', 'walio', 'hatarini', 'na', 'wajawazito', 'David', 'Mwaure', 'Waihiga', 'Chama', 'cha', 'Agano', 'Maelezo', 'ya', 'Msingi', 'David', 'Mwaure', 'anawania', 'kiti', 'cha', 'urais', 'kwa', 'tiketi', 'ya', 'Chama', 'cha', 'Agano', '.', 'Ni', 'kiongozi', 'wa', 'Chama', 'cha', 'Agano', '.', 'Alihitimu', 'na', 'shahada', 'ya', 'sheria', 'kutoka', 'Chuo', 'Kikuu', 'cha', 'Nairobi', 'na', 'ana', 'Shahada', 'ya', 'Uzamili', 'katika', 'masomo', 'ya', 'uongozi', '.', 'Mafanikio', 'Muhimu', 'Yeye', 'ni', 'wakili', 'mkuu', 'na', 'amehudumu', 'kama', 'mwanasheria', 'kwa', 'zaidi', 'ya', 'miongo', 'mitatu', '.', 'Ahadi', 'Muhimu', 'Kabla', 'ya', 'mwaka', 'huo', ',', 'kwa', 'miaka', 'mitatu', 'mtawalia', 'iliyotangulia', ',', 'uchumi', 'wa', 'Kenya', 'ulikua', 'kwa', 'viwango', 'vya', 'asilima', '5.8,4.4', 'na', '4.5', '.', 'Ahadi', 'za', 'serikali', 'ya', 'Jubille', 'kwa', 'Wakenya', 'Rais', 'Kenyatta', 'akihutubia', 'wabunge', 'Aprili', '16', 'mwaka', 'wa', '2013', ',', 'alianisha', ',', 'ahadi', 'za', 'serikali', 'yake', 'ifuatavyo', ':', 'Uongozi', 'ulio', 'wa', 'haki', ',', 'ukweli', 'na', 'uwazi', ',', 'kulinda', 'na', 'kutetea', 'haki', 'na', 'uhuru', 'wa', 'raia', ',', 'kupambana', 'na', 'kumaliza', 'ufisadi', ',', 'kutekeleza', 'na', 'kufanikisha', 'ugatuzi', 'ili', 'kutimiza', 'katiba', 'mpya', ',', 'kazi', 'milioni', 'moja', 'kwa', 'vijana', 'kila', 'mwaka', ',', 'uwajibikaji', 'katika', 'utendakazi', 'kwa', 'umma', ',', 'barabara', 'za', 'lami', 'pamoja', 'na', 'kusambaza', 'nguvu', 'za', 'umeme', 'na', 'huduma', 'za', 'maji', 'kwa', 'raia', 'wote', '.', 'Idadi', 'kubwa', 'ya', 'raia', 'wa', 'Kenya', 'ni', 'vijana', 'walio', 'chini', 'ya', 'umri', 'wa', 'miaka', 'thelathini', 'na', 'mitano', ',', 'nao', 'waliahidiwa', 'viwanja', 'kumi', 'na', 'sita', 'kote', 'nchini', 'katika', 'nyanja', 'ya', 'michezo', ',', 'kando', 'na', 'nafasi', 'za', 'kazi', 'milioni', 'moja', 'kila', 'mwaka', '.', 'Je', 'serikali', 'ilifanikiwa', 'kutekeleza', 'ahadi', 'zake', 'kwa', 'Wakenya', '?', 'Chambilecho', 'wahenga', ',', 'ahadi', 'ni', 'deni', ',', 'na', 'dawa', 'yake', 'ni', 'kulilipa', '.', 'Je', ',', 'serikakali', 'ya', 'Jubilee', ',', 'kwa', 'hatamu', 'zote', 'mbili', 'sasa', ',', 'imelipia', 'ahadi', 'zake', '?', 'Je', ',', 'kupigwa', 'kumbo', 'Naibu', 'Rais', 'William', 'Ruto', ',', 'kumeadhiri', 'vipi', 'kulipwa', 'au', 'kulipwa', 'deni', 'hili.', '?', 'Baada', 'ya', 'hatamu', 'ya', 'kwanza', ',', 'mwaka', 'wa', '2017', 'serikali', 'ya', 'Jubilee', 'ilirejeshwa', 'mamlakani', 'kwa', 'awamu', 'ya', 'pili', '.', 'Mara', 'hii', ',', 'serikali', 'ikaahidi', 'kwamba', 'sasa', 'ajenda', 'zake', 'zingekuwa', 'nne', ':', 'Chakula', 'tosha', 'kwa', 'raia', 'wake', ',', 'nyumba', 'na', 'makazi', 'kwa', 'bei', 'nafuu', ',', 'viwanda', 'na', 'mwisho', 'matibabu', 'kwa', 'wote', 'kwa', 'bei', 'nafuu', '.', 'Maelezo', 'ya', 'picha', ',', 'William', 'Ruto', 'na', 'Uhuru', 'kenyatta', 'wakati', 'wa', 'kampeni', 'za', 'uchaguzi', 'wa', '2013', 'Kwa', 'kupunguza', 'ajenda', 'yake', ',', 'ni', 'ishara', 'tosha', 'kwamba', 'serikali', 'ilikuwa', 'imeshindwa', 'kutimiza', 'ahadi', 'za', 'mwaka', '2013', '?', 'Mathalan', ':', 'Nafasi', 'za', 'kazi', 'milioni', 'moja', 'hazikupatikana', ',', 'madai', 'ya', 'visa', 'vya', 'ufisadi', 'bado', 'yaliripotiwa', 'hata', 'kwa', 'viwango', 'vikubwa', 'zaidi', 'kama', 'vile', 'Eurobond', ',', 'sakata', 'ya', 'Afya', 'House', ',', 'na', 'kadhalika', '.', 'Viwango', 'vya', 'riba', 'viliruka', 'juu', 'zaidi', 'hivi', 'kwamba', 'raia', 'wamekuwa', 'wakitatizika', 'kukopa', 'mikopo', 'ya', 'kujiendeleza', 'kibiashara', '.', 'Deni', 'la', 'umma', 'hivi', 'sasa', 'limeruka', 'hadi', 'trilioni', '8.02', 'ikilinganishwa', 'na', 'trilioni', '6.7', 'mwezi', 'Juni', '2013', 'miezi', 'mitatu', 'tu', 'baada', 'ya', 'Jubilee', 'kuchukua', 'usukani', '.', 'Ukiukaji', 'wa', 'sheria', 'Rais', 'wa', 'taifa', 'amelaumiwa', 'kwa', 'kukiuka', 'amri', 'za', 'mahakama', 'bila', 'kujali', 'athari', 'zake', 'kwa', 'umma', 'na', 'swala', 'zima', 'la', 'utiifu', 'wa', 'raia', 'kwa', 'sheria', 'za', 'nchi', 'kwa', 'mfano', ',', 'licha', 'ya', 'mahakama', 'kuamuru', 'zaidi', 'ya', 'mara', 'kumi', 'kwamba', 'Wakili', 'Dkt', '.', 'Miguna', 'Miguna', 'ni', 'raia', 'wa', 'Kenya', 'na', 'kwamba', 'angepaswa', 'kurejeshewa', 'cheti', 'chake', 'cha', 'uraia', 'wa', 'Kenya', 'na', 'aruhusiwe', 'kurejea', 'Kenya', ',', 'hilo', 'limepuziliwa', 'mbali', 'hadi', 'leo', ',', 'kadhalika', ',', 'rais', 'na', 'serikali', 'yake', 'alikataa', 'kuwateua', 'majaji', 'fulani', 'licha', 'ya', 'kwamba', 'kisheria', ',', 'huo', 'uwezo', 'haukuwa', 'wake', 'bali', 'wa', 'tume', 'ya', 'kuwaajiri', 'majaji', 'yaani', '``', 'Judicial', 'Service', 'Commission', \"''\", '.', 'Kuhusu', 'ugatuzi', ',', '-', 'licha', 'ya', 'kwamba', 'huduma', 'ya', 'afya', 'imeamriwa', 'na', 'katiba', 'kuwa', 'huduma', 'ya', 'serikali', 'gatuzi', ',', 'Rais', 'and', 'serikali', 'amekatalia', 'huduma', 'hii', 'na', 'kukwamilia', 'bajeti', 'nzima', 'ya', 'Wizara', 'ya', 'afya', 'Nairobi', '.', 'Hii', 'ni', 'mifano', 'michache', 'tu', 'inayoonyesha', 'kwamba', ',', 'kwa', 'ujumla', ',', 'safari', 'ya', 'serikali', 'hii', 'kutimiza', 'ahadi', 'zake', 'kwa', 'raia', 'wa', 'Kenya', 'imekuwa', 'na', 'changamoto', 'si', 'haba', '.', 'Hata', 'hivyo', ',', 'mgalla', 'muue', 'lakini', 'haki', 'yake', 'mpe', '!', 'Serikali', 'hii', 'ilijizatiti', 'kujenga', 'barabara', 'za', 'lami', 'kilomita', 'elfu', 'kumi', 'nchini', ',', 'japo', 'maeneo', 'fulani', 'ya', 'taifa', 'yamefaidika', 'mno', 'kuliko', 'mengine', 'katika', 'nyanja', 'hii', '.', 'Barabara', 'tajika', 'mno', 'ni', 'ile', 'inayotoka', 'karibu', 'na', 'uwanja', 'wa', 'ndege', 'wa', 'Jomo', 'Kenyatta', 'hadi', 'mtaa', 'wa', 'Westlands', '(', 'Expressway', ')', '.', 'Pili', ',', 'katika', 'hospitali', 'za', 'serikali', 'za', 'Ugatuzi', ',', 'hospitali', 'hizo', 'zimeimarishwa', 'na', 'kupewa', 'mitambo', 'ya', 'kisasa', ',', 'ikiwemo', 'mashine', 'za', 'kutibu', 'saratani', '.', 'Vile', 'vile', ',', 'kupitia', 'kwa', 'mama', 'taifa', ',', 'Margaret', 'Kenyatta', ',', 'mpango', 'wa', 'kuwafikishia', 'kina', 'mama', 'wajawazito', 'huduma', 'za', 'matibabu', 'umefanya', 'makubwa', 'katika', 'kuokoa', 'akina', 'mama', 'wanaojifungua', '.', 'Mpango', 'huu', 'uliitwa', '``', 'Beyond', 'Zero', 'Campaign', ',', 'ukiwa', 'na', 'lengo', 'la', 'kuhakikisha', 'kwamba', 'hakuna', 'hata', 'mama', 'mmoja', 'mjamzito', 'atakayeaga', 'dunia', 'kwasababu', 'ya', 'ukosefu', 'wa', 'matibabu', 'ya', 'kujifungua', '.', 'Huduma', 'hizi', 'ambazo', 'ni', 'za', 'bure', 'kujifungua', 'kina', 'mama', 'zimewafikia', 'kina', 'mama', 'wengi', 'na', 'hili', 'limeimarisha', 'hali', 'nzima', 'ya', 'afya', 'ya', 'kina', 'mama', ',', 'japo', 'kwa', 'viwango', 'vidogo', '.', 'Katika', 'usafiri', ',', 'reli', 'ya', 'kisasa', ',', 'maarufu', '``', 'SGR', \"''\", 'imejengwa', 'kutoka', 'Mombasa', 'hadi', 'Nairobi', 'na', 'kurahisisha', ',', 'pakubwa', ',', 'usafirishaji', 'watu', 'na', 'mizigo', '.', 'Serikali', \"imeng'ang'ana\", 'katika', 'usafishaji', 'wa', 'mitaa', 'ya', 'mabanda', 'duni', 'katika', 'miji', 'mikuu', 'ya', 'taifa', ',', 'hususan', 'Nairobi', 'katika', 'mitaa', 'ya', 'Kibra', ',', 'Korogocho', ',', 'Mathare', 'na', 'Nyalenda', 'kule', 'Kisumu', '.', 'Katika', 'mitaa', 'hiyo', ',', 'taa', 'zimewekwa', ',', 'barabara', 'kupanuliwa', 'na', 'mitaro', 'ya', 'maji', 'machafu', 'pamoja', 'na', 'uzoaji', 'taka', 'kuimarsihwa', '.', 'Hili', 'limeleta', 'hali', 'bora', 'ya', 'usalama', 'na', 'maisha', 'afadhali', 'katika', 'mabanda', 'hayo', '.', 'Aidha', ',', 'katika', 'mitaa', 'kadhaa', ',', 'ujenzi', 'wa', 'nyumba', 'za', 'bei', 'nafuu', 'umefanyika', 'japo', 'kwa', 'mwendo', 'wa', 'aste', 'aste', ',', 'kwa', 'mfano', 'katika', 'mtaa', 'mdogo', 'wa', 'Soweto', ',', 'mtaani', 'Kibra', ',', 'nyumba', 'mia', 'nane', 'kumi', 'na', 'mbili', 'zimejengwa', 'na', 'kupewa', 'wakaaji', 'wa', 'mtaa', 'huo', ',', 'kwa', 'malipo', 'ya', 'pole', 'na', 'madogo', 'madogo', '.', 'Marekebisho', 'na', 'uimarishaji', 'wa', 'uwanja', 'wa', 'ndege', 'wa', 'Jomo', 'Kenyatta', 'umefanywa', 'kwa', 'kiwango', 'kikubwa', '.', 'Marekebisho', 'haya', 'sasa', 'yanawezesha', 'uwanja', 'huu', 'kupokea', 'wasafiri', 'milioni', '7.5', 'kutoka', 'kwa', 'kiwango', 'cha', 'awali', 'cha', 'wasafiri', 'milioni', '2.5', '.', 'Hili', 'limewezesha', 'uwanja', 'huu', 'kuimarisha', 'utalii', 'na', 'biashara', 'zinginezo', 'nchini', 'Kenya', 'na', 'kwa', 'hivyo', 'kuimarisha', 'uchumi', 'wa', 'Kenya', 'kwa', 'kiwango', 'fulani', '.', 'Kuanzishwa', 'kwa', 'vituo', 'vya', 'kupeleka', 'huduma', 'za', 'serikali', 'karibu', 'na', 'raia', 'maarufu', '``', 'Huduma', 'Centres', \"''\", 'kumesaidia', 'serikali', 'kufikisha', 'huduma', 'zake', 'karibu', 'na', 'raia', '.', 'Hili', 'limewapunguzia', 'dhiki', 'wanananchi', 'katika', 'kutafuta', 'huduma', 'muhimu', 'za', 'serikali', '.', 'Viwango', 'vya', 'stima', 'nchini', 'vimeimarishwa', 'kupitia', 'mradi', 'wa', 'kufikisha', 'stima', 'katika', 'kila', 'nyumba', 'ya', 'mkenya', 'kwa', 'jina', '``', 'last', 'mile', 'connectivity', \"''\", '.', 'Kiwango', 'cha', 'stima', 'cha', '``', '325', 'megawatts', \"''\", 'kimeongezwa', 'katika', 'nyaya', 'za', 'stima', 'Kenya', 'kutoka', 'kituo', 'cha', 'Olkaria', '1', 'na', '2', 'na', '20MW', 'kutoka', 'vilima', 'vya', 'Ngong', 'Maelezo', 'ya', 'picha', ',', 'Uhuru', 'kenyatta', 'na', 'Raila', 'Odinga', 'Kuvunjika', 'kwa', 'uhusiano', 'wa', 'rais', 'na', 'naibu', 'wake', 'Kwa', 'ujumla', ',', 'ni', 'vigumu', 'kutoa', 'uamuzi', 'fika', 'iwapo', 'kupigwa', 'kumbo', 'Naibu', 'Rais', 'William', 'Ruto', 'kumechangia', 'kudhibiti', 'au', 'kudhoofisha', 'uwezo', 'wa', 'serikali', 'ya', 'Jubilee', 'kutimiza', 'au', 'kutotimiza', 'ahadi', 'zake', '.', 'Hata', 'hivyo', ',', 'Dkt', '.', 'Ruto', 'mwenyewe', 'amenukuliwa', 'mara', 'si', 'moja', 'akidai', 'kuwa', 'asingelisukumwa', 'kando', 'ya', 'serikali', 'aliyoibuni', 'kwa', 'mikono', 'yake', ',', 'ahadi', 'zote', 'zingetimizwa', '.', 'Amemlaumu', 'rais', 'Kenyatta', 'pamoja', 'na', 'aliyekuwa', 'Waziri', 'mkuu', 'Kenya', ',', 'Bwana', 'Odinga', 'kwa', 'kile', 'anachokiona', 'kisirani', 'cha', \"'handisheki\", 'na', 'mzaliwa', 'wake', 'BBI', \"'\", '.', 'Kwake', 'yeye', 'Dkt', '.', 'Ruto', ',', 'laiti', 'wangesalia', 'pamoja', 'kama', 'Uhuruto', ',', 'serikali', 'ingelitimza', 'hata', 'yale', 'ambayo', 'haikuweza', 'kutimiza', 'katika', 'hatamu', 'yao', 'ya', 'kwanza', '(', '2013-2017', ')', 'Yote', 'tisa', ',', 'la', 'kumi', 'ni', 'kwamba', ',', 'Serikali', 'ya', 'Jubilee', ',', 'japo', 'ilijaribu', 'kutimiza', 'ahadi', 'zake', ',', 'kwa', 'sasa', 'uchumi', 'umedorora', 'na', 'hali', 'si', 'hali', 'tena', '-gharama', 'ya', 'maisha', 'imewazonga', 'raia', 'wa', 'kawaida', '.']\n",
      "\n",
      " Number of Words:  2021\n"
     ]
    }
   ],
   "source": [
    "file=\"may27.txt\"\n",
    "\n",
    "# calling the function and storing the contents in a text variable \n",
    "text = get_document(\"https://www.bbc.com/swahili/habari-61593765\")\n",
    "\n",
    "# calling the store_ document function \n",
    "store_document(doc=text,name=file)\n",
    "\n",
    "#add the words in this file to the total_corpus_words, to keep count of the number of words in the corpus\n",
    "total_corpus_words+=total_words(file)"
   ]
  },
  {
   "cell_type": "code",
   "execution_count": 164,
   "metadata": {},
   "outputs": [
    {
     "data": {
      "text/plain": [
       "130679"
      ]
     },
     "execution_count": 164,
     "metadata": {},
     "output_type": "execute_result"
    }
   ],
   "source": [
    "total_corpus_words"
   ]
  },
  {
   "cell_type": "code",
   "execution_count": 165,
   "metadata": {},
   "outputs": [
    {
     "name": "stdout",
     "output_type": "stream",
     "text": [
      "['Video', 'hiyo', 'hata', 'hivyo', 'imebadilishwa', 'na', 'haina', 'uhusiano', 'wowote', 'na', 'uchaguzi', 'wa', 'Kenya', '-', 'Bw', 'Obama', 'hajaidhinisha', 'mgombea', 'yeyote', '.', 'Video', 'hiyo', 'iliyoshirikiwa', 'na', 'watu', 'wengi', 'imetayarishwa', 'ili', 'kumwonyesha', 'Bw', 'Obama', 'akionyesha', 'picha', 'kubwa', 'ya', 'mgombeaji', 'wake', 'mteule', ',', 'ikiwa', 'na', 'mabango', 'ya', 'uwongo', 'kwenye', 'skrini', 'yanayoonyesha', 'kuwa', 'ni', 'habari', 'ya', 'Habari', 'za', 'BBC', ',', 'na', 'ilichapishwa', 'kwenye', 'akaunti', 'ya', 'TikTok', '.', 'Maandishi', 'yana', 'hitilafu', 'ya', 'kisarufi', 'na', 'rangi', 'za', 'mabango', 'hazilingani', '.', 'Video', 'hiyo', 'ya', 'kweli', ',', 'iliyotumika', 'kama', 'msingi', 'wa', 'hizo', 'ghushi', ',', 'ilirekodiwa', 'katika', 'Taasisi', 'ya', 'Smithsonian', 'huko', 'Washington', 'mnamo', '2018', ',', 'ambapo', 'Bw', 'Obama', 'alikuwa', 'akionyesha', 'picha', 'yake', 'mwenyewe', '.', 'Hakuna', 'mipango', 'ya', 'kuvunja', 'biashara', 'kubwa', 'Wafuasi', 'wa', 'Raila', 'Odinga', ',', 'mgombeaji', 'mwingine', 'mkuu', 'wa', 'urais', ',', 'wamekuwa', 'wakishiriki', 'video', 'ambayo', 'wanadai', 'inamuonyesha', 'mgombea', 'mwenza', 'wa', 'Bw', 'Ruto', ',', 'Rigathi', 'Gachagua', ',', 'akisema', 'muungano', 'wake', ',', 'Kenya', 'Kwanza', ',', '-', 'ukichaguliwa', '-', 'utasambaratisha', 'kampuni', 'kubwa', 'zaidi', 'ya', 'mawasiliano', 'nchini', 'Kenya', ',', 'Safaricom', '.', 'Mahojiano', 'ya', 'kweli', ',', 'yaliyotolewa', 'na', 'Bw', 'Gachagua', 'kwa', 'kituo', 'kimoja', 'cha', 'redio', 'nchini', ',', 'yalichapishwa', 'mtandaoni', 'kwa', 'tafsiri', 'ndogo', 'ya', 'Kiingereza', 'iliyosomeka', ':', '``', 'Tutaiua', '[', 'Safaricom', ']', 'na', 'kuwapa', 'watu', 'pesa', 'hizo', 'kama', 'takrima', '.', \"''\", 'Lakini', 'akizungumza', 'kwa', 'lugha', 'ya', 'Kikuyu', ',', 'Bw', 'Gachagua', 'hakusema', 'haya', '.', 'Alichosema', 'hasa', 'ni', ':', '``', 'Badala', 'ya', 'kuwa', 'na', 'kampuni', 'moja', 'kubwa', 'iitwayo', 'Safaricom', 'inalipa', 'ushuru', ',', 'ukichukua', 'pesa', 'kutoka', 'kwa', 'kampuni', 'kubwa', 'na', 'kuwapa', 'watu', 'wengi', '...', 'ushuru', 'kutoka', 'kwa', 'wengi', 'ukijumlishwa', 'itakuwa', 'kubwa', 'mara', '30', 'kuliko', 'ya', 'kampuni', 'kubwa', '.', \"''\", 'Lilikuwa', 'ni', 'pendekezo', 'la', 'kugawa', 'upya', 'faida', 'ili', 'kusaidia', 'biashara', 'ndogo', 'ndogo', ',', 'na', 'kwa', 'wazi', 'sio', 'moja', 'ya', '``', 'kuua', \"''\", 'biashara', 'ya', 'ushirika', '.', 'Katika', 'hali', 'ya', 'kushangaza', 'ya', 'tukio', 'hili', ',', 'taarifa', 'kwa', 'vyombo', 'vya', 'habari', 'ilionekana', 'mtandaoni', 'muda', 'mfupi', 'baada', 'ya', 'video', 'hiyo', ',', 'inayodaiwa', 'kutoka', 'Safaricom', ',', 'ikilaani', 'hisia', 'zilizotolewa', 'kwenye', 'mahojiano', 'hayo', ',', 'ambayo', 'yalifikia', ',', 'ilisema', 'waraka', 'huo', ',', '``', 'kuzima', '[', 'Safaricom', ']', 'na', 'makampuni', 'mengine', 'makubwa', 'ya', 'kibiashara', \"''\", '.', 'Nani', 'yuko', 'kwenye', \"kinyang'anyiro\", 'cha', 'kuiongoza', 'Kenya', '?', 'Raila', 'Amollo', 'Odinga', 'Maelezo', 'ya', 'Msingi', 'Mgombea', 'huyo', 'mwenye', 'umri', 'wa', 'miaka', '77', 'ni', 'mhandisi', 'aliyesomea', 'Chuo', 'Kikuu', 'cha', 'Ufundi', 'cha', 'Magdeburg', '(', 'sasa', 'kinajulikana', 'kama', 'Chuo', 'Kikuu', 'cha', 'Otto-von-Guericke', 'Magdeburg', ')', 'nchini', 'Ujerumani', '.', 'Anawania', 'kiti', 'cha', 'urais', 'kwa', 'tikiti', 'ya', 'Azimio', 'la', 'Umoja', 'One', 'Kenya', 'Coalition', 'Party', '.', 'Hili', 'litakuwa', 'jaribio', 'lake', 'la', 'tano', 'baada', 'ya', 'kugombea', 'katika', ':', '1997', ',', '2007', ',', '2013', 'na', '2017', '.', 'Mafanikio', 'Muhimu', 'Bw', 'Odinga', 'alikuwa', 'mmoja', 'wa', 'wapiganiaji', 'wa', 'demokrasia', 'ya', 'vyama', 'vingi', 'nchini', 'Kenya', '.', 'Alikamatwa', ',', 'akafungwa', 'na', 'wakati', 'fulani', 'akaenda', 'uhamishoni', 'kwa', 'sababu', 'ya', 'kupigania', 'haki', 'hiyo', 'Aliwahi', 'kuwa', 'Waziri', 'Mkuu', ',', 'kuanzia', '2008-2013', '.', 'Odinga', 'alihusika', 'kufanikisha', 'miradi', 'mikubwa', 'iliyotekelezwa', 'na', 'serikali', 'ya', 'Kibaki', ',', 'kama', 'vile', 'miradi', 'ya', 'umeme', 'vijijini', 'na', 'barabara', '.', 'Ahadi', 'Muhimu', 'Kuafikia', 'ukuaji', 'wa', 'uchumi', 'wa', 'tarakimu', 'mbili', 'kupitia', 'uwekezaji', 'katika', 'biashara', 'ndogo', 'ndogo', 'na', 'sekta', 'ya', 'viwanda', '.', 'Utoaji', 'wa', 'huduma', 'bora', 'za', 'afya', 'kwa', 'wote', '.', 'Utoaji', 'wa', 'vifaa', 'vya', 'michezo', 'na', 'burudani', 'kwa', 'ukuaji', 'wa', 'kimwili', ',', 'kiakili', ',', 'kijamii', ',', 'kimaadili', 'na', 'maendeleo', 'ya', 'watu', '.', 'Kashfa/Sakata', 'Kufuatia', 'jaribio', 'la', 'mapinduzi', 'ya', 'Agosti', '1', ',', '1982', ',', 'Raila', 'Odinga', 'alikamatwa', 'na', 'kukabiliwa', 'na', 'mashtaka', 'kadhaa', ',', 'yakiwemo', 'ya', 'uhaini', 'ambayo', 'alizuiliwa', 'bila', 'kufunguliwa', 'mashtaka', '.', 'Tume', 'ya', 'Ukweli', 'ya', 'Haki', 'na', 'Maridhiano', 'iliambiwa', 'mwaka', '2011', 'kwamba', 'Odinga', 'alikuwa', 'na', 'mawasiliano', 'na', 'mpangaji', 'mkuu', 'wa', 'mapinduzi', 'hayo', '.', 'Odinga', 'amekana', 'kuhusika', 'kila', 'mara', '.', '-', 'Makavazi', 'ya', 'Kitaifa', 'ya', 'Kenya', '.', 'William', 'Samoei', 'Ruto', 'Muungano', 'wa', 'Kenya', 'Kwanza', 'Maelezo', 'ya', 'Msingi', 'Mgombea', 'huyu', 'mwenye', 'umri', 'wa', 'miaka', '55', 'ana', 'Shahada', 'ya', 'Uzamifu/PhD', 'katika', 'Ikolojia', 'ya', 'Mimea', 'na', 'BSc', 'katika', 'Botany', 'na', 'Zoology', 'kutoka', 'Chuo', 'Kikuu', 'cha', 'Nairobi', '.', 'Anawania', 'kiti', 'cha', 'urais', 'kwa', 'tikiti', 'ya', 'chama', 'cha', 'United', 'Democratic', 'Alliance', '(', 'chenye', 'mafungamano', 'na', 'Kenya', 'Kwanza', ')', '.', 'Aliongoza', 'Vuguvugu', 'la', 'vijana', 'la', 'Youth', 'for', 'Kanu', \"'92\", '(', 'YK', \"'\", '(', '92', ')', '.', 'Mafanikio', 'Muhimu', 'Wizara', 'yake', 'iliorodheshwa', 'kama', 'inayofanya', 'bora', 'zaidi', 'serikalini', 'alipokuwa', 'Waziri', 'wa', 'Kilimo', '.', 'Alihudumu', 'kama', 'Naibu', 'Rais', 'wa', 'kwanza', 'wa', 'Kenya', 'chini', 'ya', 'katiba', 'mpya', 'ya', '2010', '.', 'Alihudumu', 'kama', 'mbunge', 'wa', 'eneo', 'bunge', 'la', 'Eldoret', 'Kaskazini', 'kuanzia', '1997-2007', '.', 'Ahadi', 'Muhimu', 'Kutenga', '$', '424', 'milioni', 'kila', 'mwaka', 'kwa', 'biashara', 'ndogo', 'ndogo', 'za', 'kati', '.', 'Kuanzisha', 'mfuko', 'wa', 'elimu', 'wa', 'kitaifa', 'ili', 'kukidhi', 'gharama', 'zisizo', 'za', 'masomo', '.', 'Tekeleza', 'kikamilifu', 'sheria', 'ya', 'usawa', 'wa', 'kijinsia', 'ya', 'thuluthi', 'mbili', 'katika', 'uteuzi', 'wa', 'kisiasa', 'na', 'kutenga', 'nusu', 'ya', 'baraza', 'lake', 'la', 'mawaziri', 'kwa', 'wanawake', '.', 'Kashfa/Sakata', 'Mnamo', '2008', ',', 'Mahakama', 'Kuu', 'ya', 'Kenya', 'iliamuru', 'Naibu', 'Rais', 'William', 'Ruto', 'kusalimisha', 'shamba', 'la', 'ekari', '100', 'na', 'kulipa', '$', '62,500', 'kwa', 'Adrian', 'Muteshi', ',', 'mkulima', 'ambaye', 'alimshtaki', 'kwa', 'kuchukua', 'mali', 'hiyo', 'baada', 'ya', 'uchaguzi', 'wa', '2007', '.', '-', 'Kenya', 'Law', 'Mnamo', '2011', ',', 'Bw', 'Ruto', 'alikabiliwa', 'na', 'kesi', 'kwa', 'makosa', 'matatu', 'dhidi', 'ya', 'binadamu', ':', 'Mauaji', ',', 'uhamisho', 'wa', 'watu', 'kwa', 'lazima', 'na', 'mateso', 'ya', 'watu', 'katika', 'Mahakama', 'ya', 'Kimataifa', 'ya', 'Uhalifu', '.', 'Miaka', 'mitano', 'baadaye', 'mahakama', 'ilisitisha', 'kesi', 'hiyo', 'kwa', 'msingi', 'kwamba', '-', 'ushahidi', 'wa', 'upande', 'wa', 'mashtaka', 'ulikuwa', 'dhaifu', '.', '-ICC', 'George', 'Wajackoyah', 'Chama', 'cha', 'Roots', 'Maelezo', 'ya', 'Msingi', 'Profesa', 'huyo', 'mwenye', 'umri', 'wa', 'miaka', '61', 'ana', 'shahada', 'ya', 'uzamili', 'katika', 'sheria', 'kuhusu', 'maendeleo', 'kutoka', 'Chuo', 'Kikuu', 'cha', 'Warwick', 'na', 'shahada', 'ya', 'uzamili', ',', 'sheria', '(', 'sheria', 'za', 'Marekani', 'kutoka', 'Chuo', 'Kikuu', 'cha', 'Baltimore', '.', 'Bw', 'Wajackoyah', 'anawania', 'kiti', 'cha', 'urais', 'kwa', 'tiketi', 'ya', 'Chama', 'cha', 'Roots', 'Party', '.', 'Mafanikio', 'Muhimu', 'Alihudumu', 'kama', 'Inspekta', 'katika', 'idara', 'ya', 'usalama', 'ya', 'Special', 'branch', 'wakati', 'wa', 'utawala', 'wa', 'marehemu', 'Rais', 'Daniel', 'Moi', 'kabla', 'ya', 'kulazimika', 'kutorokea', \"ng'ambo\", 'ili', 'kuepuka', 'kufunguliwa', 'mashtaka', 'na', 'mamlaka', '.', 'Yeye', 'ni', 'mshirika', 'katika', 'kampuni', 'ya', 'mawakili', 'aliyoianzisha', 'mwaka', 'wa', '2018', '.', 'Alifunnza', 'somo', 'la', 'sheria', 'na', 'uchumi', 'katika', 'vyuo', 'vikuu', 'vya', 'Marekani', ',', 'Uingereza', 'na', 'Kenya', '.', 'Ahadi', 'Muhimu', 'Kuhalalisha', 'matumizi', 'ya', 'kiviwanda', 'ya', 'bangi', 'Badilisha', 'siku', 'za', 'kazi', 'hadi', 'Jumatatu', 'hadi', 'Alhamisi', '.', 'Huduma', 'ya', 'afya', 'ya', 'bure', 'na', 'msaada', 'kwa', 'wazee', ',', 'walio', 'hatarini', 'na', 'wajawazito', 'David', 'Mwaure', 'Waihiga', 'Chama', 'cha', 'Agano', 'Maelezo', 'ya', 'Msingi', 'David', 'Mwaure', 'anawania', 'kiti', 'cha', 'urais', 'kwa', 'tiketi', 'ya', 'Chama', 'cha', 'Agano', '.', 'Ni', 'kiongozi', 'wa', 'Chama', 'cha', 'Agano', '.', 'Alihitimu', 'na', 'shahada', 'ya', 'sheria', 'kutoka', 'Chuo', 'Kikuu', 'cha', 'Nairobi', 'na', 'ana', 'Shahada', 'ya', 'Uzamili', 'katika', 'masomo', 'ya', 'uongozi', '.', 'Mafanikio', 'Muhimu', 'Yeye', 'ni', 'wakili', 'mkuu', 'na', 'amehudumu', 'kama', 'mwanasheria', 'kwa', 'zaidi', 'ya', 'miongo', 'mitatu', '.', 'Ahadi', 'Muhimu', 'Hata', 'hivyo', ',', 'taarifa', 'hiyo', 'kwa', 'vyombo', 'vya', 'habari', 'ilikuwa', 'ya', 'uwongo', 'na', 'Safaricom', 'ilitoa', 'taarifa', 'yake', 'ya', 'kweli', 'kwenye', 'Twitter', 'kuthibitisha', 'hili', '.', 'Uidhinishaji', 'mwingine', 'wa', 'uwongo', 'Wagombea', 'wote', 'wawili', 'wakuu', 'wa', 'urais', 'wanatafuta', 'uungwaji', 'mkono', 'kutoka', 'kwa', 'kabila', 'la', 'Wakikuyu', 'lenye', 'utajiri', 'wa', 'kura', '.', '(', 'Ruto', 'anatoka', 'jamii', 'ya', 'Wakalenjin', 'na', 'Odinga', 'ni', 'Mjaluo', ')', '.', 'Kwa', 'hivyo', ',', 'kuidhinishwa', 'na', 'mtoto', 'wa', 'Rais', 'wa', 'zamani', 'wa', 'Kenya', 'Mwai', 'Kibaki', '-', 'Mkikuyu', '-', 'itakuwa', 'tuzo', 'inayotamaniwa', 'sana', '.', 'Akaunti', 'ghushi', 'ya', 'Twitter', 'imeonekana', ',', 'inayodaiwa', 'kumilikiwa', 'na', 'Jimmy', 'Kibaki', ',', 'mtoto', 'mkubwa', 'wa', 'rais', 'wa', 'zamani', '.', 'Akaunti', 'hiyo', 'ambayo', 'imebadilishwa', 'jina', 'tangu', 'hapo', ',', 'iliundwa', 'mwezi', 'Februari', 'na', 'hivi', 'majuzi', 'ilituma', 'ujumbe', 'kwenye', 'Twitter', 'kwamba', 'ikimuunga', 'mkono', 'William', 'Ruto', 'kuwania', 'urais', '.', 'Akaunti', 'hii', 'ni', 'moja', 'tu', 'kati', 'ya', 'akaunti', 'nyingi', 'ghushi', 'zinazotumia', 'jina', 'la', 'Jimmy', 'Kibaki', ',', 'na', 'ametoa', 'taarifa', 'akiwataka', 'Wakenya', 'kuzipuuza', '.']\n",
      "\n",
      " Number of Words:  1207\n"
     ]
    }
   ],
   "source": [
    "file=\"may30.txt\"\n",
    "\n",
    "# calling the function and storing the contents in a text variable \n",
    "text = get_document(\"https://www.bbc.com/swahili/habari-61629207\")\n",
    "\n",
    "# calling the store_ document function \n",
    "store_document(doc=text,name=file)\n",
    "\n",
    "#add the words in this file to the total_corpus_words, to keep count of the number of words in the corpus\n",
    "total_corpus_words+=total_words(file)"
   ]
  },
  {
   "cell_type": "code",
   "execution_count": 166,
   "metadata": {},
   "outputs": [
    {
     "data": {
      "text/plain": [
       "131886"
      ]
     },
     "execution_count": 166,
     "metadata": {},
     "output_type": "execute_result"
    }
   ],
   "source": [
    "total_corpus_words"
   ]
  },
  {
   "cell_type": "code",
   "execution_count": null,
   "metadata": {},
   "outputs": [],
   "source": []
  }
 ],
 "metadata": {
  "kernelspec": {
   "display_name": "Python 3",
   "language": "python",
   "name": "python3"
  },
  "language_info": {
   "codemirror_mode": {
    "name": "ipython",
    "version": 3
   },
   "file_extension": ".py",
   "mimetype": "text/x-python",
   "name": "python",
   "nbconvert_exporter": "python",
   "pygments_lexer": "ipython3",
   "version": "3.8.3"
  }
 },
 "nbformat": 4,
 "nbformat_minor": 4
}
