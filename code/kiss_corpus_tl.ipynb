{
 "cells": [
  {
   "cell_type": "code",
   "execution_count": 5,
   "metadata": {},
   "outputs": [],
   "source": [
    "# Importing the required Libraries and packages\n",
    "import pandas as pd \n",
    "import numpy as np\n",
    "import seaborn as sns\n",
    "import matplotlib.pyplot as plt\n",
    "import os\n",
    "from nltk import word_tokenize\n",
    "import string\n",
    "import re\n",
    "import nltk"
   ]
  },
  {
   "cell_type": "code",
   "execution_count": 6,
   "metadata": {},
   "outputs": [],
   "source": [
    "from nltk.tokenize import sent_tokenize, word_tokenize"
   ]
  },
  {
   "cell_type": "code",
   "execution_count": 3,
   "metadata": {},
   "outputs": [
    {
     "name": "stderr",
     "output_type": "stream",
     "text": [
      "[nltk_data] Downloading package punkt to\n",
      "[nltk_data]     /Users/sumitbajare/nltk_data...\n",
      "[nltk_data]   Package punkt is already up-to-date!\n"
     ]
    },
    {
     "data": {
      "text/plain": [
       "True"
      ]
     },
     "execution_count": 3,
     "metadata": {},
     "output_type": "execute_result"
    }
   ],
   "source": [
    "nltk.download('punkt')"
   ]
  },
  {
   "cell_type": "code",
   "execution_count": 8,
   "metadata": {},
   "outputs": [
    {
     "data": {
      "text/plain": [
       "'/Users/sumitbajare/Documents/Sussex/Project/model'"
      ]
     },
     "execution_count": 8,
     "metadata": {},
     "output_type": "execute_result"
    }
   ],
   "source": [
    "os.getcwd()"
   ]
  },
  {
   "cell_type": "code",
   "execution_count": 9,
   "metadata": {},
   "outputs": [],
   "source": [
    "os.chdir('/Users/sumitbajare/Documents/Sussex/Project/')"
   ]
  },
  {
   "cell_type": "code",
   "execution_count": 10,
   "metadata": {},
   "outputs": [
    {
     "data": {
      "text/html": [
       "<div>\n",
       "<style scoped>\n",
       "    .dataframe tbody tr th:only-of-type {\n",
       "        vertical-align: middle;\n",
       "    }\n",
       "\n",
       "    .dataframe tbody tr th {\n",
       "        vertical-align: top;\n",
       "    }\n",
       "\n",
       "    .dataframe thead th {\n",
       "        text-align: right;\n",
       "    }\n",
       "</style>\n",
       "<table border=\"1\" class=\"dataframe\">\n",
       "  <thead>\n",
       "    <tr style=\"text-align: right;\">\n",
       "      <th></th>\n",
       "      <th>date</th>\n",
       "      <th>id</th>\n",
       "      <th>news_heading_eng</th>\n",
       "      <th>news_heading_swa</th>\n",
       "      <th>News type</th>\n",
       "    </tr>\n",
       "  </thead>\n",
       "  <tbody>\n",
       "    <tr>\n",
       "      <th>0</th>\n",
       "      <td>2022-02-04</td>\n",
       "      <td>tl18</td>\n",
       "      <td>kuppet wants teachers to be given cbc training</td>\n",
       "      <td>kuppet ataka walimu wapewe mafunzo ya cbc</td>\n",
       "      <td>Local News</td>\n",
       "    </tr>\n",
       "    <tr>\n",
       "      <th>1</th>\n",
       "      <td>2021-03-29</td>\n",
       "      <td>tl1806</td>\n",
       "      <td>sossion called on the government to open schoo...</td>\n",
       "      <td>sossion alitoa wito kwa serikali kufungua shul...</td>\n",
       "      <td>Local News</td>\n",
       "    </tr>\n",
       "    <tr>\n",
       "      <th>2</th>\n",
       "      <td>2022-05-19</td>\n",
       "      <td>tl79</td>\n",
       "      <td>slaughter and chicken meat processing center t...</td>\n",
       "      <td>kituo cha uchinjaji na usindikaji wa nyama ya ...</td>\n",
       "      <td>Local News</td>\n",
       "    </tr>\n",
       "    <tr>\n",
       "      <th>3</th>\n",
       "      <td>2021-03-13</td>\n",
       "      <td>tl1707</td>\n",
       "      <td>the situation in kenya one year of the covid-1...</td>\n",
       "      <td>hali nchini kenya mwaka mmoja wa janga la covi...</td>\n",
       "      <td>Local News</td>\n",
       "    </tr>\n",
       "    <tr>\n",
       "      <th>4</th>\n",
       "      <td>2021-10-11</td>\n",
       "      <td>tl1027</td>\n",
       "      <td>the culture day was a special celebration</td>\n",
       "      <td>siku ya utamaduni ilikuwa sherehe maalumu</td>\n",
       "      <td>Local News</td>\n",
       "    </tr>\n",
       "  </tbody>\n",
       "</table>\n",
       "</div>"
      ],
      "text/plain": [
       "         date      id                                   news_heading_eng  \\\n",
       "0  2022-02-04    tl18     kuppet wants teachers to be given cbc training   \n",
       "1  2021-03-29  tl1806  sossion called on the government to open schoo...   \n",
       "2  2022-05-19    tl79  slaughter and chicken meat processing center t...   \n",
       "3  2021-03-13  tl1707  the situation in kenya one year of the covid-1...   \n",
       "4  2021-10-11  tl1027          the culture day was a special celebration   \n",
       "\n",
       "                                    news_heading_swa   News type  \n",
       "0          kuppet ataka walimu wapewe mafunzo ya cbc  Local News  \n",
       "1  sossion alitoa wito kwa serikali kufungua shul...  Local News  \n",
       "2  kituo cha uchinjaji na usindikaji wa nyama ya ...  Local News  \n",
       "3  hali nchini kenya mwaka mmoja wa janga la covi...  Local News  \n",
       "4          siku ya utamaduni ilikuwa sherehe maalumu  Local News  "
      ]
     },
     "execution_count": 10,
     "metadata": {},
     "output_type": "execute_result"
    }
   ],
   "source": [
    "# Loading the BBC Train dataset for processing\n",
    "data = pd.read_csv(\"data/tl_train.csv\")\n",
    "# preview the top 5 rows of the dataset\n",
    "data.head()"
   ]
  },
  {
   "cell_type": "code",
   "execution_count": 11,
   "metadata": {},
   "outputs": [],
   "source": [
    "data.rename(columns={'News type':'news_type'},inplace=True)"
   ]
  },
  {
   "cell_type": "code",
   "execution_count": 12,
   "metadata": {},
   "outputs": [
    {
     "data": {
      "text/html": [
       "<div>\n",
       "<style scoped>\n",
       "    .dataframe tbody tr th:only-of-type {\n",
       "        vertical-align: middle;\n",
       "    }\n",
       "\n",
       "    .dataframe tbody tr th {\n",
       "        vertical-align: top;\n",
       "    }\n",
       "\n",
       "    .dataframe thead th {\n",
       "        text-align: right;\n",
       "    }\n",
       "</style>\n",
       "<table border=\"1\" class=\"dataframe\">\n",
       "  <thead>\n",
       "    <tr style=\"text-align: right;\">\n",
       "      <th></th>\n",
       "      <th>date</th>\n",
       "      <th>id</th>\n",
       "      <th>news_heading_eng</th>\n",
       "      <th>news_heading_swa</th>\n",
       "      <th>news_type</th>\n",
       "    </tr>\n",
       "  </thead>\n",
       "  <tbody>\n",
       "    <tr>\n",
       "      <th>0</th>\n",
       "      <td>2022-02-04</td>\n",
       "      <td>tl18</td>\n",
       "      <td>kuppet wants teachers to be given cbc training</td>\n",
       "      <td>kuppet ataka walimu wapewe mafunzo ya cbc</td>\n",
       "      <td>Local News</td>\n",
       "    </tr>\n",
       "    <tr>\n",
       "      <th>1</th>\n",
       "      <td>2021-03-29</td>\n",
       "      <td>tl1806</td>\n",
       "      <td>sossion called on the government to open schoo...</td>\n",
       "      <td>sossion alitoa wito kwa serikali kufungua shul...</td>\n",
       "      <td>Local News</td>\n",
       "    </tr>\n",
       "    <tr>\n",
       "      <th>2</th>\n",
       "      <td>2022-05-19</td>\n",
       "      <td>tl79</td>\n",
       "      <td>slaughter and chicken meat processing center t...</td>\n",
       "      <td>kituo cha uchinjaji na usindikaji wa nyama ya ...</td>\n",
       "      <td>Local News</td>\n",
       "    </tr>\n",
       "    <tr>\n",
       "      <th>3</th>\n",
       "      <td>2021-03-13</td>\n",
       "      <td>tl1707</td>\n",
       "      <td>the situation in kenya one year of the covid-1...</td>\n",
       "      <td>hali nchini kenya mwaka mmoja wa janga la covi...</td>\n",
       "      <td>Local News</td>\n",
       "    </tr>\n",
       "    <tr>\n",
       "      <th>4</th>\n",
       "      <td>2021-10-11</td>\n",
       "      <td>tl1027</td>\n",
       "      <td>the culture day was a special celebration</td>\n",
       "      <td>siku ya utamaduni ilikuwa sherehe maalumu</td>\n",
       "      <td>Local News</td>\n",
       "    </tr>\n",
       "  </tbody>\n",
       "</table>\n",
       "</div>"
      ],
      "text/plain": [
       "         date      id                                   news_heading_eng  \\\n",
       "0  2022-02-04    tl18     kuppet wants teachers to be given cbc training   \n",
       "1  2021-03-29  tl1806  sossion called on the government to open schoo...   \n",
       "2  2022-05-19    tl79  slaughter and chicken meat processing center t...   \n",
       "3  2021-03-13  tl1707  the situation in kenya one year of the covid-1...   \n",
       "4  2021-10-11  tl1027          the culture day was a special celebration   \n",
       "\n",
       "                                    news_heading_swa   news_type  \n",
       "0          kuppet ataka walimu wapewe mafunzo ya cbc  Local News  \n",
       "1  sossion alitoa wito kwa serikali kufungua shul...  Local News  \n",
       "2  kituo cha uchinjaji na usindikaji wa nyama ya ...  Local News  \n",
       "3  hali nchini kenya mwaka mmoja wa janga la covi...  Local News  \n",
       "4          siku ya utamaduni ilikuwa sherehe maalumu  Local News  "
      ]
     },
     "execution_count": 12,
     "metadata": {},
     "output_type": "execute_result"
    }
   ],
   "source": [
    "data.head()"
   ]
  },
  {
   "cell_type": "code",
   "execution_count": 13,
   "metadata": {},
   "outputs": [
    {
     "name": "stdout",
     "output_type": "stream",
     "text": [
      "<class 'pandas.core.frame.DataFrame'>\n",
      "RangeIndex: 1638 entries, 0 to 1637\n",
      "Data columns (total 5 columns):\n",
      " #   Column            Non-Null Count  Dtype \n",
      "---  ------            --------------  ----- \n",
      " 0   date              1638 non-null   object\n",
      " 1   id                1638 non-null   object\n",
      " 2   news_heading_eng  1638 non-null   object\n",
      " 3   news_heading_swa  1638 non-null   object\n",
      " 4   news_type         1638 non-null   object\n",
      "dtypes: object(5)\n",
      "memory usage: 64.1+ KB\n"
     ]
    }
   ],
   "source": [
    "data.info()"
   ]
  },
  {
   "cell_type": "code",
   "execution_count": 14,
   "metadata": {},
   "outputs": [
    {
     "data": {
      "text/plain": [
       "(1638, 5)"
      ]
     },
     "execution_count": 14,
     "metadata": {},
     "output_type": "execute_result"
    }
   ],
   "source": [
    "data.shape"
   ]
  },
  {
   "cell_type": "code",
   "execution_count": 15,
   "metadata": {},
   "outputs": [
    {
     "data": {
      "text/plain": [
       "1456.0"
      ]
     },
     "execution_count": 15,
     "metadata": {},
     "output_type": "execute_result"
    }
   ],
   "source": [
    "1820*0.8"
   ]
  },
  {
   "cell_type": "code",
   "execution_count": 16,
   "metadata": {},
   "outputs": [
    {
     "data": {
      "text/plain": [
       "(1458, 180)"
      ]
     },
     "execution_count": 16,
     "metadata": {},
     "output_type": "execute_result"
    }
   ],
   "source": [
    "df = data[['news_type', 'news_heading_swa']] \n",
    "SEED = 2020\n",
    "df_train = df.sample(frac=0.89, random_state=SEED)\n",
    "df_test = df.drop(df_train.index)\n",
    "len(df_train), len(df_test)"
   ]
  },
  {
   "cell_type": "code",
   "execution_count": 24,
   "metadata": {},
   "outputs": [
    {
     "name": "stdout",
     "output_type": "stream",
     "text": [
      "preprocessing train...\n",
      "language: sw\n",
      "train sequence lengths:\n",
      "\tmean : 9\n",
      "\t95percentile : 14\n",
      "\t99percentile : 18\n"
     ]
    },
    {
     "data": {
      "text/html": [
       "\n",
       "<style>\n",
       "    /* Turns off some styling */\n",
       "    progress {\n",
       "        /* gets rid of default border in Firefox and Opera. */\n",
       "        border: none;\n",
       "        /* Needs to be in here for Safari polyfill so background images work as expected. */\n",
       "        background-size: auto;\n",
       "    }\n",
       "    progress:not([value]), progress:not([value])::-webkit-progress-bar {\n",
       "        background: repeating-linear-gradient(45deg, #7e7e7e, #7e7e7e 10px, #5c5c5c 10px, #5c5c5c 20px);\n",
       "    }\n",
       "    .progress-bar-interrupted, .progress-bar-interrupted::-webkit-progress-bar {\n",
       "        background: #F44336;\n",
       "    }\n",
       "</style>\n"
      ],
      "text/plain": [
       "<IPython.core.display.HTML object>"
      ]
     },
     "metadata": {},
     "output_type": "display_data"
    },
    {
     "data": {
      "text/html": [],
      "text/plain": [
       "<IPython.core.display.HTML object>"
      ]
     },
     "metadata": {},
     "output_type": "display_data"
    },
    {
     "name": "stdout",
     "output_type": "stream",
     "text": [
      "Is Multi-Label? False\n",
      "preprocessing test...\n",
      "language: sw\n",
      "test sequence lengths:\n",
      "\tmean : 9\n",
      "\t95percentile : 14\n",
      "\t99percentile : 16\n"
     ]
    },
    {
     "data": {
      "text/html": [
       "\n",
       "<style>\n",
       "    /* Turns off some styling */\n",
       "    progress {\n",
       "        /* gets rid of default border in Firefox and Opera. */\n",
       "        border: none;\n",
       "        /* Needs to be in here for Safari polyfill so background images work as expected. */\n",
       "        background-size: auto;\n",
       "    }\n",
       "    progress:not([value]), progress:not([value])::-webkit-progress-bar {\n",
       "        background: repeating-linear-gradient(45deg, #7e7e7e, #7e7e7e 10px, #5c5c5c 10px, #5c5c5c 20px);\n",
       "    }\n",
       "    .progress-bar-interrupted, .progress-bar-interrupted::-webkit-progress-bar {\n",
       "        background: #F44336;\n",
       "    }\n",
       "</style>\n"
      ],
      "text/plain": [
       "<IPython.core.display.HTML object>"
      ]
     },
     "metadata": {},
     "output_type": "display_data"
    },
    {
     "data": {
      "text/html": [],
      "text/plain": [
       "<IPython.core.display.HTML object>"
      ]
     },
     "metadata": {},
     "output_type": "display_data"
    },
    {
     "name": "stdout",
     "output_type": "stream",
     "text": [
      "Epoch 1/3\n",
      "46/46 [==============================] - 588s 12s/step - loss: 0.7288 - accuracy: 0.8388 - val_loss: 0.5750 - val_accuracy: 0.8556\n",
      "Epoch 2/3\n",
      "46/46 [==============================] - 494s 11s/step - loss: 0.5953 - accuracy: 0.8573 - val_loss: 0.5652 - val_accuracy: 0.8556\n",
      "Epoch 3/3\n",
      "46/46 [==============================] - 500s 11s/step - loss: 0.5519 - accuracy: 0.8567 - val_loss: 0.5066 - val_accuracy: 0.8611\n"
     ]
    },
    {
     "data": {
      "text/plain": [
       "<keras.callbacks.History at 0x7fb22fffd820>"
      ]
     },
     "execution_count": 24,
     "metadata": {},
     "output_type": "execute_result"
    }
   ],
   "source": [
    "import ktrain\n",
    "from ktrain import text\n",
    "\n",
    "# %selecting transformer to use\n",
    "MODEL_NAME = 'bert-base-multilingual-uncased'\n",
    "\n",
    "# %Common parameters\n",
    "MAXLEN  = 136 # Only consider the first 136 words of each news content\n",
    "batch_size = 32 #  the number of training examples utilised in one iteration.\n",
    "learning_rate = 5e-5 # the amount that the weights are updated during training\n",
    "epochs = 3 # the number of passes of the entire training dataset the algorithm has completed\n",
    "t = text.Transformer(MODEL_NAME, maxlen = MAXLEN)\n",
    "trn = t.preprocess_train(df_train.news_heading_swa.values, df_train.news_type.values)\n",
    "val = t.preprocess_test(df_test.news_heading_swa.values, df_test.news_type.values)\n",
    "model = t.get_classifier()\n",
    "learner = ktrain.get_learner(model, train_data=trn, val_data=val, batch_size=batch_size)\n",
    "learner.fit(learning_rate, epochs)"
   ]
  },
  {
   "cell_type": "code",
   "execution_count": 25,
   "metadata": {},
   "outputs": [
    {
     "name": "stdout",
     "output_type": "stream",
     "text": [
      "preprocessing train...\n",
      "language: sw\n",
      "train sequence lengths:\n",
      "\tmean : 9\n",
      "\t95percentile : 14\n",
      "\t99percentile : 18\n"
     ]
    },
    {
     "data": {
      "text/html": [
       "\n",
       "<style>\n",
       "    /* Turns off some styling */\n",
       "    progress {\n",
       "        /* gets rid of default border in Firefox and Opera. */\n",
       "        border: none;\n",
       "        /* Needs to be in here for Safari polyfill so background images work as expected. */\n",
       "        background-size: auto;\n",
       "    }\n",
       "    progress:not([value]), progress:not([value])::-webkit-progress-bar {\n",
       "        background: repeating-linear-gradient(45deg, #7e7e7e, #7e7e7e 10px, #5c5c5c 10px, #5c5c5c 20px);\n",
       "    }\n",
       "    .progress-bar-interrupted, .progress-bar-interrupted::-webkit-progress-bar {\n",
       "        background: #F44336;\n",
       "    }\n",
       "</style>\n"
      ],
      "text/plain": [
       "<IPython.core.display.HTML object>"
      ]
     },
     "metadata": {},
     "output_type": "display_data"
    },
    {
     "data": {
      "text/html": [],
      "text/plain": [
       "<IPython.core.display.HTML object>"
      ]
     },
     "metadata": {},
     "output_type": "display_data"
    },
    {
     "name": "stdout",
     "output_type": "stream",
     "text": [
      "Is Multi-Label? False\n",
      "preprocessing test...\n",
      "language: sw\n",
      "test sequence lengths:\n",
      "\tmean : 9\n",
      "\t95percentile : 14\n",
      "\t99percentile : 16\n"
     ]
    },
    {
     "data": {
      "text/html": [
       "\n",
       "<style>\n",
       "    /* Turns off some styling */\n",
       "    progress {\n",
       "        /* gets rid of default border in Firefox and Opera. */\n",
       "        border: none;\n",
       "        /* Needs to be in here for Safari polyfill so background images work as expected. */\n",
       "        background-size: auto;\n",
       "    }\n",
       "    progress:not([value]), progress:not([value])::-webkit-progress-bar {\n",
       "        background: repeating-linear-gradient(45deg, #7e7e7e, #7e7e7e 10px, #5c5c5c 10px, #5c5c5c 20px);\n",
       "    }\n",
       "    .progress-bar-interrupted, .progress-bar-interrupted::-webkit-progress-bar {\n",
       "        background: #F44336;\n",
       "    }\n",
       "</style>\n"
      ],
      "text/plain": [
       "<IPython.core.display.HTML object>"
      ]
     },
     "metadata": {},
     "output_type": "display_data"
    },
    {
     "data": {
      "text/html": [],
      "text/plain": [
       "<IPython.core.display.HTML object>"
      ]
     },
     "metadata": {},
     "output_type": "display_data"
    },
    {
     "name": "stdout",
     "output_type": "stream",
     "text": [
      "Epoch 1/3\n",
      "23/23 [==============================] - 656s 28s/step - loss: 0.8781 - accuracy: 0.8004 - val_loss: 0.6716 - val_accuracy: 0.8389\n",
      "Epoch 2/3\n",
      "23/23 [==============================] - 1183s 53s/step - loss: 0.6308 - accuracy: 0.8409 - val_loss: 0.6460 - val_accuracy: 0.8278\n",
      "Epoch 3/3\n",
      "23/23 [==============================] - 797s 35s/step - loss: 0.5396 - accuracy: 0.8560 - val_loss: 0.6090 - val_accuracy: 0.8333\n"
     ]
    },
    {
     "data": {
      "text/plain": [
       "<keras.callbacks.History at 0x7fb2a67abd30>"
      ]
     },
     "execution_count": 25,
     "metadata": {},
     "output_type": "execute_result"
    }
   ],
   "source": [
    "import ktrain\n",
    "from ktrain import text\n",
    "\n",
    "# %selecting transformer to use\n",
    "MODEL_NAME = 'bert-base-multilingual-uncased'\n",
    "\n",
    "# %Common parameters\n",
    "MAXLEN  = 136 # Only consider the first 136 words of each news content\n",
    "batch_size = 64 #  the number of training examples utilised in one iteration.\n",
    "learning_rate = 5e-5 # the amount that the weights are updated during training\n",
    "epochs = 3 # the number of passes of the entire training dataset the algorithm has completed\n",
    "t = text.Transformer(MODEL_NAME, maxlen = MAXLEN)\n",
    "trn = t.preprocess_train(df_train.news_heading_swa.values, df_train.news_type.values)\n",
    "val = t.preprocess_test(df_test.news_heading_swa.values, df_test.news_type.values)\n",
    "model = t.get_classifier()\n",
    "learner = ktrain.get_learner(model, train_data=trn, val_data=val, batch_size=batch_size)\n",
    "learner.fit(learning_rate, epochs)"
   ]
  },
  {
   "cell_type": "code",
   "execution_count": 26,
   "metadata": {},
   "outputs": [
    {
     "name": "stdout",
     "output_type": "stream",
     "text": [
      "preprocessing train...\n",
      "language: sw\n",
      "train sequence lengths:\n",
      "\tmean : 9\n",
      "\t95percentile : 14\n",
      "\t99percentile : 18\n"
     ]
    },
    {
     "data": {
      "text/html": [
       "\n",
       "<style>\n",
       "    /* Turns off some styling */\n",
       "    progress {\n",
       "        /* gets rid of default border in Firefox and Opera. */\n",
       "        border: none;\n",
       "        /* Needs to be in here for Safari polyfill so background images work as expected. */\n",
       "        background-size: auto;\n",
       "    }\n",
       "    progress:not([value]), progress:not([value])::-webkit-progress-bar {\n",
       "        background: repeating-linear-gradient(45deg, #7e7e7e, #7e7e7e 10px, #5c5c5c 10px, #5c5c5c 20px);\n",
       "    }\n",
       "    .progress-bar-interrupted, .progress-bar-interrupted::-webkit-progress-bar {\n",
       "        background: #F44336;\n",
       "    }\n",
       "</style>\n"
      ],
      "text/plain": [
       "<IPython.core.display.HTML object>"
      ]
     },
     "metadata": {},
     "output_type": "display_data"
    },
    {
     "data": {
      "text/html": [],
      "text/plain": [
       "<IPython.core.display.HTML object>"
      ]
     },
     "metadata": {},
     "output_type": "display_data"
    },
    {
     "name": "stdout",
     "output_type": "stream",
     "text": [
      "Is Multi-Label? False\n",
      "preprocessing test...\n",
      "language: sw\n",
      "test sequence lengths:\n",
      "\tmean : 9\n",
      "\t95percentile : 14\n",
      "\t99percentile : 16\n"
     ]
    },
    {
     "data": {
      "text/html": [
       "\n",
       "<style>\n",
       "    /* Turns off some styling */\n",
       "    progress {\n",
       "        /* gets rid of default border in Firefox and Opera. */\n",
       "        border: none;\n",
       "        /* Needs to be in here for Safari polyfill so background images work as expected. */\n",
       "        background-size: auto;\n",
       "    }\n",
       "    progress:not([value]), progress:not([value])::-webkit-progress-bar {\n",
       "        background: repeating-linear-gradient(45deg, #7e7e7e, #7e7e7e 10px, #5c5c5c 10px, #5c5c5c 20px);\n",
       "    }\n",
       "    .progress-bar-interrupted, .progress-bar-interrupted::-webkit-progress-bar {\n",
       "        background: #F44336;\n",
       "    }\n",
       "</style>\n"
      ],
      "text/plain": [
       "<IPython.core.display.HTML object>"
      ]
     },
     "metadata": {},
     "output_type": "display_data"
    },
    {
     "data": {
      "text/html": [],
      "text/plain": [
       "<IPython.core.display.HTML object>"
      ]
     },
     "metadata": {},
     "output_type": "display_data"
    },
    {
     "name": "stdout",
     "output_type": "stream",
     "text": [
      "Epoch 1/7\n",
      "23/23 [==============================] - 648s 28s/step - loss: 0.9104 - accuracy: 0.7942 - val_loss: 0.6723 - val_accuracy: 0.8389\n",
      "Epoch 2/7\n",
      "23/23 [==============================] - 618s 27s/step - loss: 0.6541 - accuracy: 0.8374 - val_loss: 0.6043 - val_accuracy: 0.8444\n",
      "Epoch 3/7\n",
      "23/23 [==============================] - 846s 37s/step - loss: 0.5601 - accuracy: 0.8471 - val_loss: 0.5475 - val_accuracy: 0.8500\n",
      "Epoch 4/7\n",
      "23/23 [==============================] - 687s 30s/step - loss: 0.4801 - accuracy: 0.8711 - val_loss: 0.5326 - val_accuracy: 0.8722\n",
      "Epoch 5/7\n",
      "23/23 [==============================] - 670s 29s/step - loss: 0.3939 - accuracy: 0.8951 - val_loss: 0.8565 - val_accuracy: 0.7333\n",
      "Epoch 6/7\n",
      "23/23 [==============================] - 680s 30s/step - loss: 0.4076 - accuracy: 0.8807 - val_loss: 0.5386 - val_accuracy: 0.8500\n",
      "Epoch 7/7\n",
      "23/23 [==============================] - 627s 27s/step - loss: 0.3176 - accuracy: 0.9204 - val_loss: 0.6002 - val_accuracy: 0.8333\n"
     ]
    },
    {
     "data": {
      "text/plain": [
       "<keras.callbacks.History at 0x7fae9eb938b0>"
      ]
     },
     "execution_count": 26,
     "metadata": {},
     "output_type": "execute_result"
    }
   ],
   "source": [
    "import ktrain\n",
    "from ktrain import text\n",
    "\n",
    "# %selecting transformer to use\n",
    "MODEL_NAME = 'bert-base-multilingual-uncased'\n",
    "\n",
    "# %Common parameters\n",
    "MAXLEN  = 136 # Only consider the first 136 words of each news content\n",
    "batch_size = 64 #  the number of training examples utilised in one iteration.\n",
    "learning_rate = 5e-5 # the amount that the weights are updated during training\n",
    "epochs = 7 # the number of passes of the entire training dataset the algorithm has completed\n",
    "t = text.Transformer(MODEL_NAME, maxlen = MAXLEN)\n",
    "trn = t.preprocess_train(df_train.news_heading_swa.values, df_train.news_type.values)\n",
    "val = t.preprocess_test(df_test.news_heading_swa.values, df_test.news_type.values)\n",
    "model = t.get_classifier()\n",
    "learner = ktrain.get_learner(model, train_data=trn, val_data=val, batch_size=batch_size)\n",
    "learner.fit(learning_rate, epochs)"
   ]
  },
  {
   "cell_type": "code",
   "execution_count": 10,
   "metadata": {},
   "outputs": [
    {
     "name": "stdout",
     "output_type": "stream",
     "text": [
      "preprocessing train...\n",
      "language: sw\n",
      "train sequence lengths:\n",
      "\tmean : 9\n",
      "\t95percentile : 14\n",
      "\t99percentile : 18\n"
     ]
    },
    {
     "data": {
      "text/html": [
       "\n",
       "<style>\n",
       "    /* Turns off some styling */\n",
       "    progress {\n",
       "        /* gets rid of default border in Firefox and Opera. */\n",
       "        border: none;\n",
       "        /* Needs to be in here for Safari polyfill so background images work as expected. */\n",
       "        background-size: auto;\n",
       "    }\n",
       "    progress:not([value]), progress:not([value])::-webkit-progress-bar {\n",
       "        background: repeating-linear-gradient(45deg, #7e7e7e, #7e7e7e 10px, #5c5c5c 10px, #5c5c5c 20px);\n",
       "    }\n",
       "    .progress-bar-interrupted, .progress-bar-interrupted::-webkit-progress-bar {\n",
       "        background: #F44336;\n",
       "    }\n",
       "</style>\n"
      ],
      "text/plain": [
       "<IPython.core.display.HTML object>"
      ]
     },
     "metadata": {},
     "output_type": "display_data"
    },
    {
     "data": {
      "text/html": [],
      "text/plain": [
       "<IPython.core.display.HTML object>"
      ]
     },
     "metadata": {},
     "output_type": "display_data"
    },
    {
     "name": "stdout",
     "output_type": "stream",
     "text": [
      "Is Multi-Label? False\n",
      "preprocessing test...\n",
      "language: sw\n",
      "test sequence lengths:\n",
      "\tmean : 9\n",
      "\t95percentile : 14\n",
      "\t99percentile : 16\n"
     ]
    },
    {
     "data": {
      "text/html": [
       "\n",
       "<style>\n",
       "    /* Turns off some styling */\n",
       "    progress {\n",
       "        /* gets rid of default border in Firefox and Opera. */\n",
       "        border: none;\n",
       "        /* Needs to be in here for Safari polyfill so background images work as expected. */\n",
       "        background-size: auto;\n",
       "    }\n",
       "    progress:not([value]), progress:not([value])::-webkit-progress-bar {\n",
       "        background: repeating-linear-gradient(45deg, #7e7e7e, #7e7e7e 10px, #5c5c5c 10px, #5c5c5c 20px);\n",
       "    }\n",
       "    .progress-bar-interrupted, .progress-bar-interrupted::-webkit-progress-bar {\n",
       "        background: #F44336;\n",
       "    }\n",
       "</style>\n"
      ],
      "text/plain": [
       "<IPython.core.display.HTML object>"
      ]
     },
     "metadata": {},
     "output_type": "display_data"
    },
    {
     "data": {
      "text/html": [],
      "text/plain": [
       "<IPython.core.display.HTML object>"
      ]
     },
     "metadata": {},
     "output_type": "display_data"
    },
    {
     "name": "stdout",
     "output_type": "stream",
     "text": [
      "Epoch 1/7\n",
      "12/12 [==============================] - 770s 63s/step - loss: 1.0476 - accuracy: 0.7702 - val_loss: 0.6955 - val_accuracy: 0.8389\n",
      "Epoch 2/7\n",
      "12/12 [==============================] - 739s 61s/step - loss: 0.6984 - accuracy: 0.8333 - val_loss: 0.7140 - val_accuracy: 0.8389\n",
      "Epoch 3/7\n",
      "12/12 [==============================] - 733s 61s/step - loss: 0.6296 - accuracy: 0.8381 - val_loss: 0.6275 - val_accuracy: 0.8333\n",
      "Epoch 4/7\n",
      "12/12 [==============================] - 762s 63s/step - loss: 0.5740 - accuracy: 0.8553 - val_loss: 0.5794 - val_accuracy: 0.8667\n",
      "Epoch 5/7\n",
      "12/12 [==============================] - 715s 59s/step - loss: 0.5087 - accuracy: 0.8779 - val_loss: 0.5561 - val_accuracy: 0.8500\n",
      "Epoch 6/7\n",
      "12/12 [==============================] - 690s 57s/step - loss: 0.4559 - accuracy: 0.8752 - val_loss: 0.5467 - val_accuracy: 0.8556\n",
      "Epoch 7/7\n",
      "12/12 [==============================] - 728s 61s/step - loss: 0.3860 - accuracy: 0.8964 - val_loss: 0.5438 - val_accuracy: 0.8556\n"
     ]
    },
    {
     "data": {
      "text/plain": [
       "<keras.callbacks.History at 0x7f7b037f7850>"
      ]
     },
     "execution_count": 10,
     "metadata": {},
     "output_type": "execute_result"
    }
   ],
   "source": [
    "import ktrain\n",
    "from ktrain import text\n",
    "\n",
    "# %selecting transformer to use\n",
    "MODEL_NAME = 'bert-base-multilingual-uncased'\n",
    "\n",
    "# %Common parameters\n",
    "MAXLEN  = 136 # Only consider the first 136 words of each news content\n",
    "batch_size = 128 #  the number of training examples utilised in one iteration.\n",
    "learning_rate = 5e-5 # the amount that the weights are updated during training\n",
    "epochs = 7 # the number of passes of the entire training dataset the algorithm has completed\n",
    "t = text.Transformer(MODEL_NAME, maxlen = MAXLEN)\n",
    "trn = t.preprocess_train(df_train.news_heading_swa.values, df_train.news_type.values)\n",
    "val = t.preprocess_test(df_test.news_heading_swa.values, df_test.news_type.values)\n",
    "model = t.get_classifier()\n",
    "learner = ktrain.get_learner(model, train_data=trn, val_data=val, batch_size=batch_size)\n",
    "learner.fit(learning_rate, epochs)"
   ]
  },
  {
   "cell_type": "code",
   "execution_count": 10,
   "metadata": {},
   "outputs": [
    {
     "name": "stdout",
     "output_type": "stream",
     "text": [
      "preprocessing train...\n",
      "language: sw\n",
      "train sequence lengths:\n",
      "\tmean : 9\n",
      "\t95percentile : 14\n",
      "\t99percentile : 18\n"
     ]
    },
    {
     "data": {
      "text/html": [
       "\n",
       "<style>\n",
       "    /* Turns off some styling */\n",
       "    progress {\n",
       "        /* gets rid of default border in Firefox and Opera. */\n",
       "        border: none;\n",
       "        /* Needs to be in here for Safari polyfill so background images work as expected. */\n",
       "        background-size: auto;\n",
       "    }\n",
       "    progress:not([value]), progress:not([value])::-webkit-progress-bar {\n",
       "        background: repeating-linear-gradient(45deg, #7e7e7e, #7e7e7e 10px, #5c5c5c 10px, #5c5c5c 20px);\n",
       "    }\n",
       "    .progress-bar-interrupted, .progress-bar-interrupted::-webkit-progress-bar {\n",
       "        background: #F44336;\n",
       "    }\n",
       "</style>\n"
      ],
      "text/plain": [
       "<IPython.core.display.HTML object>"
      ]
     },
     "metadata": {},
     "output_type": "display_data"
    },
    {
     "data": {
      "text/html": [],
      "text/plain": [
       "<IPython.core.display.HTML object>"
      ]
     },
     "metadata": {},
     "output_type": "display_data"
    },
    {
     "name": "stdout",
     "output_type": "stream",
     "text": [
      "Is Multi-Label? False\n",
      "preprocessing test...\n",
      "language: sw\n",
      "test sequence lengths:\n",
      "\tmean : 9\n",
      "\t95percentile : 14\n",
      "\t99percentile : 16\n"
     ]
    },
    {
     "data": {
      "text/html": [
       "\n",
       "<style>\n",
       "    /* Turns off some styling */\n",
       "    progress {\n",
       "        /* gets rid of default border in Firefox and Opera. */\n",
       "        border: none;\n",
       "        /* Needs to be in here for Safari polyfill so background images work as expected. */\n",
       "        background-size: auto;\n",
       "    }\n",
       "    progress:not([value]), progress:not([value])::-webkit-progress-bar {\n",
       "        background: repeating-linear-gradient(45deg, #7e7e7e, #7e7e7e 10px, #5c5c5c 10px, #5c5c5c 20px);\n",
       "    }\n",
       "    .progress-bar-interrupted, .progress-bar-interrupted::-webkit-progress-bar {\n",
       "        background: #F44336;\n",
       "    }\n",
       "</style>\n"
      ],
      "text/plain": [
       "<IPython.core.display.HTML object>"
      ]
     },
     "metadata": {},
     "output_type": "display_data"
    },
    {
     "data": {
      "text/html": [],
      "text/plain": [
       "<IPython.core.display.HTML object>"
      ]
     },
     "metadata": {},
     "output_type": "display_data"
    },
    {
     "name": "stdout",
     "output_type": "stream",
     "text": [
      "Epoch 1/7\n",
      "23/23 [==============================] - 649s 27s/step - loss: 1.4785 - accuracy: 0.5940 - val_loss: 0.9781 - val_accuracy: 0.8389\n",
      "Epoch 2/7\n",
      "23/23 [==============================] - 4581s 137s/step - loss: 0.8500 - accuracy: 0.8333 - val_loss: 0.7113 - val_accuracy: 0.8389\n",
      "Epoch 3/7\n",
      "23/23 [==============================] - 541s 23s/step - loss: 0.7135 - accuracy: 0.8333 - val_loss: 0.6797 - val_accuracy: 0.8389\n",
      "Epoch 4/7\n",
      "23/23 [==============================] - 562s 24s/step - loss: 0.6725 - accuracy: 0.8333 - val_loss: 0.6516 - val_accuracy: 0.8389\n",
      "Epoch 5/7\n",
      "23/23 [==============================] - 640s 28s/step - loss: 0.6317 - accuracy: 0.8388 - val_loss: 0.6181 - val_accuracy: 0.8556\n",
      "Epoch 6/7\n",
      "23/23 [==============================] - 646s 28s/step - loss: 0.5899 - accuracy: 0.8642 - val_loss: 0.6022 - val_accuracy: 0.8556\n",
      "Epoch 7/7\n",
      "23/23 [==============================] - 632s 27s/step - loss: 0.5600 - accuracy: 0.8656 - val_loss: 0.5921 - val_accuracy: 0.8667\n"
     ]
    },
    {
     "data": {
      "text/plain": [
       "<keras.callbacks.History at 0x7fcf927f87f0>"
      ]
     },
     "execution_count": 10,
     "metadata": {},
     "output_type": "execute_result"
    }
   ],
   "source": [
    "import ktrain\n",
    "from ktrain import text\n",
    "\n",
    "# %selecting transformer to use\n",
    "MODEL_NAME = 'bert-base-multilingual-uncased'\n",
    "\n",
    "# %Common parameters\n",
    "MAXLEN  = 136 # Only consider the first 136 words of each news content\n",
    "batch_size = 64 #  the number of training examples utilised in one iteration.\n",
    "learning_rate = 5e-6 # the amount that the weights are updated during training\n",
    "epochs = 7 # the number of passes of the entire training dataset the algorithm has completed\n",
    "t = text.Transformer(MODEL_NAME, maxlen = MAXLEN)\n",
    "trn = t.preprocess_train(df_train.news_heading_swa.values, df_train.news_type.values)\n",
    "val = t.preprocess_test(df_test.news_heading_swa.values, df_test.news_type.values)\n",
    "model = t.get_classifier()\n",
    "learner = ktrain.get_learner(model, train_data=trn, val_data=val, batch_size=batch_size)\n",
    "learner.fit(learning_rate, epochs)"
   ]
  },
  {
   "cell_type": "code",
   "execution_count": 10,
   "metadata": {},
   "outputs": [
    {
     "name": "stdout",
     "output_type": "stream",
     "text": [
      "preprocessing train...\n",
      "language: sw\n",
      "train sequence lengths:\n",
      "\tmean : 9\n",
      "\t95percentile : 14\n",
      "\t99percentile : 18\n"
     ]
    },
    {
     "data": {
      "text/html": [
       "\n",
       "<style>\n",
       "    /* Turns off some styling */\n",
       "    progress {\n",
       "        /* gets rid of default border in Firefox and Opera. */\n",
       "        border: none;\n",
       "        /* Needs to be in here for Safari polyfill so background images work as expected. */\n",
       "        background-size: auto;\n",
       "    }\n",
       "    progress:not([value]), progress:not([value])::-webkit-progress-bar {\n",
       "        background: repeating-linear-gradient(45deg, #7e7e7e, #7e7e7e 10px, #5c5c5c 10px, #5c5c5c 20px);\n",
       "    }\n",
       "    .progress-bar-interrupted, .progress-bar-interrupted::-webkit-progress-bar {\n",
       "        background: #F44336;\n",
       "    }\n",
       "</style>\n"
      ],
      "text/plain": [
       "<IPython.core.display.HTML object>"
      ]
     },
     "metadata": {},
     "output_type": "display_data"
    },
    {
     "data": {
      "text/html": [],
      "text/plain": [
       "<IPython.core.display.HTML object>"
      ]
     },
     "metadata": {},
     "output_type": "display_data"
    },
    {
     "name": "stdout",
     "output_type": "stream",
     "text": [
      "Is Multi-Label? False\n",
      "preprocessing test...\n",
      "language: sw\n",
      "test sequence lengths:\n",
      "\tmean : 9\n",
      "\t95percentile : 14\n",
      "\t99percentile : 16\n"
     ]
    },
    {
     "data": {
      "text/html": [
       "\n",
       "<style>\n",
       "    /* Turns off some styling */\n",
       "    progress {\n",
       "        /* gets rid of default border in Firefox and Opera. */\n",
       "        border: none;\n",
       "        /* Needs to be in here for Safari polyfill so background images work as expected. */\n",
       "        background-size: auto;\n",
       "    }\n",
       "    progress:not([value]), progress:not([value])::-webkit-progress-bar {\n",
       "        background: repeating-linear-gradient(45deg, #7e7e7e, #7e7e7e 10px, #5c5c5c 10px, #5c5c5c 20px);\n",
       "    }\n",
       "    .progress-bar-interrupted, .progress-bar-interrupted::-webkit-progress-bar {\n",
       "        background: #F44336;\n",
       "    }\n",
       "</style>\n"
      ],
      "text/plain": [
       "<IPython.core.display.HTML object>"
      ]
     },
     "metadata": {},
     "output_type": "display_data"
    },
    {
     "data": {
      "text/html": [],
      "text/plain": [
       "<IPython.core.display.HTML object>"
      ]
     },
     "metadata": {},
     "output_type": "display_data"
    },
    {
     "name": "stdout",
     "output_type": "stream",
     "text": [
      "Epoch 1/7\n",
      "23/23 [==============================] - 667s 28s/step - loss: 0.8735 - accuracy: 0.7709 - val_loss: 0.6515 - val_accuracy: 0.8500\n",
      "Epoch 2/7\n",
      "23/23 [==============================] - 685s 30s/step - loss: 0.6160 - accuracy: 0.8477 - val_loss: 0.6616 - val_accuracy: 0.8389\n",
      "Epoch 3/7\n",
      "23/23 [==============================] - 730s 32s/step - loss: 0.5579 - accuracy: 0.8621 - val_loss: 0.5266 - val_accuracy: 0.8667\n",
      "Epoch 4/7\n",
      "23/23 [==============================] - 740s 32s/step - loss: 0.4611 - accuracy: 0.8827 - val_loss: 0.5095 - val_accuracy: 0.8667\n",
      "Epoch 5/7\n",
      "23/23 [==============================] - 751s 33s/step - loss: 0.3949 - accuracy: 0.8999 - val_loss: 0.4603 - val_accuracy: 0.8722\n",
      "Epoch 6/7\n",
      "23/23 [==============================] - 752s 33s/step - loss: 0.2995 - accuracy: 0.9218 - val_loss: 0.5650 - val_accuracy: 0.8667\n",
      "Epoch 7/7\n",
      "23/23 [==============================] - 774s 34s/step - loss: 0.2507 - accuracy: 0.9355 - val_loss: 0.4395 - val_accuracy: 0.8778\n"
     ]
    },
    {
     "data": {
      "text/plain": [
       "<keras.callbacks.History at 0x7ff082ff88b0>"
      ]
     },
     "execution_count": 10,
     "metadata": {},
     "output_type": "execute_result"
    }
   ],
   "source": [
    "import ktrain\n",
    "from ktrain import text\n",
    "\n",
    "# %selecting transformer to use\n",
    "MODEL_NAME = 'bert-base-multilingual-uncased'\n",
    "\n",
    "# %Common parameters\n",
    "MAXLEN  = 136 # Only consider the first 136 words of each news content\n",
    "batch_size = 64 #  the number of training examples utilised in one iteration.\n",
    "learning_rate = 4e-5 # the amount that the weights are updated during training\n",
    "epochs = 7 # the number of passes of the entire training dataset the algorithm has completed\n",
    "t = text.Transformer(MODEL_NAME, maxlen = MAXLEN)\n",
    "trn = t.preprocess_train(df_train.news_heading_swa.values, df_train.news_type.values)\n",
    "val = t.preprocess_test(df_test.news_heading_swa.values, df_test.news_type.values)\n",
    "model = t.get_classifier()\n",
    "learner = ktrain.get_learner(model, train_data=trn, val_data=val, batch_size=batch_size)\n",
    "learner.fit(learning_rate, epochs)"
   ]
  },
  {
   "cell_type": "code",
   "execution_count": 11,
   "metadata": {},
   "outputs": [
    {
     "name": "stdout",
     "output_type": "stream",
     "text": [
      "preprocessing train...\n",
      "language: sw\n",
      "train sequence lengths:\n",
      "\tmean : 9\n",
      "\t95percentile : 14\n",
      "\t99percentile : 18\n"
     ]
    },
    {
     "data": {
      "text/html": [
       "\n",
       "<style>\n",
       "    /* Turns off some styling */\n",
       "    progress {\n",
       "        /* gets rid of default border in Firefox and Opera. */\n",
       "        border: none;\n",
       "        /* Needs to be in here for Safari polyfill so background images work as expected. */\n",
       "        background-size: auto;\n",
       "    }\n",
       "    progress:not([value]), progress:not([value])::-webkit-progress-bar {\n",
       "        background: repeating-linear-gradient(45deg, #7e7e7e, #7e7e7e 10px, #5c5c5c 10px, #5c5c5c 20px);\n",
       "    }\n",
       "    .progress-bar-interrupted, .progress-bar-interrupted::-webkit-progress-bar {\n",
       "        background: #F44336;\n",
       "    }\n",
       "</style>\n"
      ],
      "text/plain": [
       "<IPython.core.display.HTML object>"
      ]
     },
     "metadata": {},
     "output_type": "display_data"
    },
    {
     "data": {
      "text/html": [],
      "text/plain": [
       "<IPython.core.display.HTML object>"
      ]
     },
     "metadata": {},
     "output_type": "display_data"
    },
    {
     "name": "stdout",
     "output_type": "stream",
     "text": [
      "Is Multi-Label? False\n",
      "preprocessing test...\n",
      "language: sw\n",
      "test sequence lengths:\n",
      "\tmean : 9\n",
      "\t95percentile : 14\n",
      "\t99percentile : 16\n"
     ]
    },
    {
     "data": {
      "text/html": [
       "\n",
       "<style>\n",
       "    /* Turns off some styling */\n",
       "    progress {\n",
       "        /* gets rid of default border in Firefox and Opera. */\n",
       "        border: none;\n",
       "        /* Needs to be in here for Safari polyfill so background images work as expected. */\n",
       "        background-size: auto;\n",
       "    }\n",
       "    progress:not([value]), progress:not([value])::-webkit-progress-bar {\n",
       "        background: repeating-linear-gradient(45deg, #7e7e7e, #7e7e7e 10px, #5c5c5c 10px, #5c5c5c 20px);\n",
       "    }\n",
       "    .progress-bar-interrupted, .progress-bar-interrupted::-webkit-progress-bar {\n",
       "        background: #F44336;\n",
       "    }\n",
       "</style>\n"
      ],
      "text/plain": [
       "<IPython.core.display.HTML object>"
      ]
     },
     "metadata": {},
     "output_type": "display_data"
    },
    {
     "data": {
      "text/html": [],
      "text/plain": [
       "<IPython.core.display.HTML object>"
      ]
     },
     "metadata": {},
     "output_type": "display_data"
    },
    {
     "name": "stdout",
     "output_type": "stream",
     "text": [
      "Epoch 1/7\n",
      "46/46 [==============================] - 567s 12s/step - loss: 0.8408 - accuracy: 0.7997 - val_loss: 0.6606 - val_accuracy: 0.8389\n",
      "Epoch 2/7\n",
      "46/46 [==============================] - 525s 11s/step - loss: 0.6424 - accuracy: 0.8409 - val_loss: 0.6619 - val_accuracy: 0.7944\n",
      "Epoch 3/7\n",
      "46/46 [==============================] - 520s 11s/step - loss: 0.5466 - accuracy: 0.8539 - val_loss: 0.5752 - val_accuracy: 0.8556\n",
      "Epoch 4/7\n",
      "46/46 [==============================] - 560s 12s/step - loss: 0.4858 - accuracy: 0.8779 - val_loss: 0.5747 - val_accuracy: 0.8611\n",
      "Epoch 5/7\n",
      "46/46 [==============================] - 584s 13s/step - loss: 0.4490 - accuracy: 0.8841 - val_loss: 0.5855 - val_accuracy: 0.8444\n",
      "Epoch 6/7\n",
      "46/46 [==============================] - 536s 12s/step - loss: 0.3585 - accuracy: 0.8999 - val_loss: 0.5986 - val_accuracy: 0.8167\n",
      "Epoch 7/7\n",
      "46/46 [==============================] - 541s 12s/step - loss: 0.2861 - accuracy: 0.9163 - val_loss: 0.5525 - val_accuracy: 0.8444\n"
     ]
    },
    {
     "data": {
      "text/plain": [
       "<keras.callbacks.History at 0x7fed7642b8b0>"
      ]
     },
     "execution_count": 11,
     "metadata": {},
     "output_type": "execute_result"
    }
   ],
   "source": [
    "import ktrain\n",
    "from ktrain import text\n",
    "\n",
    "# %selecting transformer to use\n",
    "MODEL_NAME = 'bert-base-multilingual-uncased'\n",
    "\n",
    "# %Common parameters\n",
    "MAXLEN  = 136 # Only consider the first 136 words of each news content\n",
    "batch_size = 32 #  the number of training examples utilised in one iteration.\n",
    "learning_rate = 4e-5 # the amount that the weights are updated during training\n",
    "epochs = 7 # the number of passes of the entire training dataset the algorithm has completed\n",
    "t = text.Transformer(MODEL_NAME, maxlen = MAXLEN)\n",
    "trn = t.preprocess_train(df_train.news_heading_swa.values, df_train.news_type.values)\n",
    "val = t.preprocess_test(df_test.news_heading_swa.values, df_test.news_type.values)\n",
    "model = t.get_classifier()\n",
    "learner = ktrain.get_learner(model, train_data=trn, val_data=val, batch_size=batch_size)\n",
    "learner.fit(learning_rate, epochs)"
   ]
  },
  {
   "cell_type": "code",
   "execution_count": 12,
   "metadata": {},
   "outputs": [
    {
     "name": "stdout",
     "output_type": "stream",
     "text": [
      "preprocessing train...\n",
      "language: sw\n",
      "train sequence lengths:\n",
      "\tmean : 9\n",
      "\t95percentile : 14\n",
      "\t99percentile : 18\n"
     ]
    },
    {
     "data": {
      "text/html": [
       "\n",
       "<style>\n",
       "    /* Turns off some styling */\n",
       "    progress {\n",
       "        /* gets rid of default border in Firefox and Opera. */\n",
       "        border: none;\n",
       "        /* Needs to be in here for Safari polyfill so background images work as expected. */\n",
       "        background-size: auto;\n",
       "    }\n",
       "    progress:not([value]), progress:not([value])::-webkit-progress-bar {\n",
       "        background: repeating-linear-gradient(45deg, #7e7e7e, #7e7e7e 10px, #5c5c5c 10px, #5c5c5c 20px);\n",
       "    }\n",
       "    .progress-bar-interrupted, .progress-bar-interrupted::-webkit-progress-bar {\n",
       "        background: #F44336;\n",
       "    }\n",
       "</style>\n"
      ],
      "text/plain": [
       "<IPython.core.display.HTML object>"
      ]
     },
     "metadata": {},
     "output_type": "display_data"
    },
    {
     "data": {
      "text/html": [],
      "text/plain": [
       "<IPython.core.display.HTML object>"
      ]
     },
     "metadata": {},
     "output_type": "display_data"
    },
    {
     "name": "stdout",
     "output_type": "stream",
     "text": [
      "Is Multi-Label? False\n",
      "preprocessing test...\n",
      "language: sw\n",
      "test sequence lengths:\n",
      "\tmean : 9\n",
      "\t95percentile : 14\n",
      "\t99percentile : 16\n"
     ]
    },
    {
     "data": {
      "text/html": [
       "\n",
       "<style>\n",
       "    /* Turns off some styling */\n",
       "    progress {\n",
       "        /* gets rid of default border in Firefox and Opera. */\n",
       "        border: none;\n",
       "        /* Needs to be in here for Safari polyfill so background images work as expected. */\n",
       "        background-size: auto;\n",
       "    }\n",
       "    progress:not([value]), progress:not([value])::-webkit-progress-bar {\n",
       "        background: repeating-linear-gradient(45deg, #7e7e7e, #7e7e7e 10px, #5c5c5c 10px, #5c5c5c 20px);\n",
       "    }\n",
       "    .progress-bar-interrupted, .progress-bar-interrupted::-webkit-progress-bar {\n",
       "        background: #F44336;\n",
       "    }\n",
       "</style>\n"
      ],
      "text/plain": [
       "<IPython.core.display.HTML object>"
      ]
     },
     "metadata": {},
     "output_type": "display_data"
    },
    {
     "data": {
      "text/html": [],
      "text/plain": [
       "<IPython.core.display.HTML object>"
      ]
     },
     "metadata": {},
     "output_type": "display_data"
    },
    {
     "name": "stdout",
     "output_type": "stream",
     "text": [
      "Epoch 1/10\n",
      "23/23 [==============================] - 689s 29s/step - loss: 0.8318 - accuracy: 0.7942 - val_loss: 0.6277 - val_accuracy: 0.8389\n",
      "Epoch 2/10\n",
      "23/23 [==============================] - 722s 31s/step - loss: 0.6118 - accuracy: 0.8457 - val_loss: 0.5855 - val_accuracy: 0.8500\n",
      "Epoch 3/10\n",
      "23/23 [==============================] - 716s 31s/step - loss: 0.5529 - accuracy: 0.8608 - val_loss: 0.5584 - val_accuracy: 0.8500\n",
      "Epoch 4/10\n",
      "23/23 [==============================] - 741s 32s/step - loss: 0.4594 - accuracy: 0.8711 - val_loss: 0.5589 - val_accuracy: 0.8556\n",
      "Epoch 5/10\n",
      "23/23 [==============================] - 743s 32s/step - loss: 0.4062 - accuracy: 0.8964 - val_loss: 0.5522 - val_accuracy: 0.8444\n",
      "Epoch 6/10\n",
      "23/23 [==============================] - 803s 35s/step - loss: 0.3858 - accuracy: 0.8992 - val_loss: 0.5381 - val_accuracy: 0.8556\n",
      "Epoch 7/10\n",
      "23/23 [==============================] - 759s 33s/step - loss: 0.3113 - accuracy: 0.9259 - val_loss: 0.4914 - val_accuracy: 0.8722\n",
      "Epoch 8/10\n",
      "23/23 [==============================] - 741s 32s/step - loss: 0.2610 - accuracy: 0.9335 - val_loss: 0.5270 - val_accuracy: 0.8667\n",
      "Epoch 9/10\n",
      "23/23 [==============================] - 789s 34s/step - loss: 0.2199 - accuracy: 0.9438 - val_loss: 0.6069 - val_accuracy: 0.8222\n",
      "Epoch 10/10\n",
      "23/23 [==============================] - 783s 34s/step - loss: 0.1619 - accuracy: 0.9616 - val_loss: 0.4840 - val_accuracy: 0.8833\n"
     ]
    },
    {
     "data": {
      "text/plain": [
       "<keras.callbacks.History at 0x7fed896658e0>"
      ]
     },
     "execution_count": 12,
     "metadata": {},
     "output_type": "execute_result"
    }
   ],
   "source": [
    "import ktrain\n",
    "from ktrain import text\n",
    "\n",
    "# %selecting transformer to use\n",
    "MODEL_NAME = 'bert-base-multilingual-uncased'\n",
    "\n",
    "# %Common parameters\n",
    "MAXLEN  = 136 # Only consider the first 136 words of each news content\n",
    "batch_size = 64 #  the number of training examples utilised in one iteration.\n",
    "learning_rate = 4e-5 # the amount that the weights are updated during training\n",
    "epochs = 10 # the number of passes of the entire training dataset the algorithm has completed\n",
    "t = text.Transformer(MODEL_NAME, maxlen = MAXLEN)\n",
    "trn = t.preprocess_train(df_train.news_heading_swa.values, df_train.news_type.values)\n",
    "val = t.preprocess_test(df_test.news_heading_swa.values, df_test.news_type.values)\n",
    "model = t.get_classifier()\n",
    "learner = ktrain.get_learner(model, train_data=trn, val_data=val, batch_size=batch_size)\n",
    "learner.fit(learning_rate, epochs)"
   ]
  },
  {
   "cell_type": "code",
   "execution_count": 13,
   "metadata": {},
   "outputs": [
    {
     "name": "stdout",
     "output_type": "stream",
     "text": [
      "preprocessing train...\n",
      "language: sw\n",
      "train sequence lengths:\n",
      "\tmean : 9\n",
      "\t95percentile : 14\n",
      "\t99percentile : 18\n"
     ]
    },
    {
     "data": {
      "text/html": [
       "\n",
       "<style>\n",
       "    /* Turns off some styling */\n",
       "    progress {\n",
       "        /* gets rid of default border in Firefox and Opera. */\n",
       "        border: none;\n",
       "        /* Needs to be in here for Safari polyfill so background images work as expected. */\n",
       "        background-size: auto;\n",
       "    }\n",
       "    progress:not([value]), progress:not([value])::-webkit-progress-bar {\n",
       "        background: repeating-linear-gradient(45deg, #7e7e7e, #7e7e7e 10px, #5c5c5c 10px, #5c5c5c 20px);\n",
       "    }\n",
       "    .progress-bar-interrupted, .progress-bar-interrupted::-webkit-progress-bar {\n",
       "        background: #F44336;\n",
       "    }\n",
       "</style>\n"
      ],
      "text/plain": [
       "<IPython.core.display.HTML object>"
      ]
     },
     "metadata": {},
     "output_type": "display_data"
    },
    {
     "data": {
      "text/html": [],
      "text/plain": [
       "<IPython.core.display.HTML object>"
      ]
     },
     "metadata": {},
     "output_type": "display_data"
    },
    {
     "name": "stdout",
     "output_type": "stream",
     "text": [
      "Is Multi-Label? False\n",
      "preprocessing test...\n",
      "language: sw\n",
      "test sequence lengths:\n",
      "\tmean : 9\n",
      "\t95percentile : 14\n",
      "\t99percentile : 16\n"
     ]
    },
    {
     "data": {
      "text/html": [
       "\n",
       "<style>\n",
       "    /* Turns off some styling */\n",
       "    progress {\n",
       "        /* gets rid of default border in Firefox and Opera. */\n",
       "        border: none;\n",
       "        /* Needs to be in here for Safari polyfill so background images work as expected. */\n",
       "        background-size: auto;\n",
       "    }\n",
       "    progress:not([value]), progress:not([value])::-webkit-progress-bar {\n",
       "        background: repeating-linear-gradient(45deg, #7e7e7e, #7e7e7e 10px, #5c5c5c 10px, #5c5c5c 20px);\n",
       "    }\n",
       "    .progress-bar-interrupted, .progress-bar-interrupted::-webkit-progress-bar {\n",
       "        background: #F44336;\n",
       "    }\n",
       "</style>\n"
      ],
      "text/plain": [
       "<IPython.core.display.HTML object>"
      ]
     },
     "metadata": {},
     "output_type": "display_data"
    },
    {
     "data": {
      "text/html": [],
      "text/plain": [
       "<IPython.core.display.HTML object>"
      ]
     },
     "metadata": {},
     "output_type": "display_data"
    },
    {
     "name": "stdout",
     "output_type": "stream",
     "text": [
      "Epoch 1/10\n",
      "23/23 [==============================] - 637s 27s/step - loss: 0.8447 - accuracy: 0.7833 - val_loss: 0.6913 - val_accuracy: 0.8389\n",
      "Epoch 2/10\n",
      "23/23 [==============================] - 875s 38s/step - loss: 0.6437 - accuracy: 0.8422 - val_loss: 0.6828 - val_accuracy: 0.8389\n",
      "Epoch 3/10\n",
      "23/23 [==============================] - 641s 28s/step - loss: 0.5691 - accuracy: 0.8532 - val_loss: 0.5572 - val_accuracy: 0.8667\n",
      "Epoch 4/10\n",
      "23/23 [==============================] - 656s 28s/step - loss: 0.4513 - accuracy: 0.8793 - val_loss: 0.5300 - val_accuracy: 0.8722\n",
      "Epoch 5/10\n",
      "23/23 [==============================] - 659s 29s/step - loss: 0.3944 - accuracy: 0.8978 - val_loss: 0.5233 - val_accuracy: 0.8667\n",
      "Epoch 6/10\n",
      "23/23 [==============================] - 671s 29s/step - loss: 0.3345 - accuracy: 0.9122 - val_loss: 0.5648 - val_accuracy: 0.8667\n",
      "Epoch 7/10\n",
      "23/23 [==============================] - 706s 31s/step - loss: 0.2725 - accuracy: 0.9314 - val_loss: 0.5489 - val_accuracy: 0.8611\n",
      "Epoch 8/10\n",
      "23/23 [==============================] - 703s 31s/step - loss: 0.2375 - accuracy: 0.9369 - val_loss: 0.5404 - val_accuracy: 0.8833\n",
      "Epoch 9/10\n",
      "23/23 [==============================] - 705s 31s/step - loss: 0.1711 - accuracy: 0.9616 - val_loss: 0.5214 - val_accuracy: 0.8833\n",
      "Epoch 10/10\n",
      "23/23 [==============================] - 770s 34s/step - loss: 0.1549 - accuracy: 0.9602 - val_loss: 0.5441 - val_accuracy: 0.8611\n"
     ]
    },
    {
     "data": {
      "text/plain": [
       "<keras.callbacks.History at 0x7fec7236d910>"
      ]
     },
     "execution_count": 13,
     "metadata": {},
     "output_type": "execute_result"
    }
   ],
   "source": [
    "import ktrain\n",
    "from ktrain import text\n",
    "\n",
    "# %selecting transformer to use\n",
    "MODEL_NAME = 'bert-base-multilingual-uncased'\n",
    "\n",
    "# %Common parameters\n",
    "MAXLEN  = 136 # Only consider the first 136 words of each news content\n",
    "batch_size = 64 #  the number of training examples utilised in one iteration.\n",
    "learning_rate = 5e-5 # the amount that the weights are updated during training\n",
    "epochs = 10 # the number of passes of the entire training dataset the algorithm has completed\n",
    "t = text.Transformer(MODEL_NAME, maxlen = MAXLEN)\n",
    "trn = t.preprocess_train(df_train.news_heading_swa.values, df_train.news_type.values)\n",
    "val = t.preprocess_test(df_test.news_heading_swa.values, df_test.news_type.values)\n",
    "model = t.get_classifier()\n",
    "learner = ktrain.get_learner(model, train_data=trn, val_data=val, batch_size=batch_size)\n",
    "learner.fit(learning_rate, epochs)"
   ]
  },
  {
   "cell_type": "code",
   "execution_count": 11,
   "metadata": {},
   "outputs": [
    {
     "name": "stdout",
     "output_type": "stream",
     "text": [
      "preprocessing train...\n",
      "language: sw\n",
      "train sequence lengths:\n",
      "\tmean : 9\n",
      "\t95percentile : 14\n",
      "\t99percentile : 18\n"
     ]
    },
    {
     "data": {
      "text/html": [
       "\n",
       "<style>\n",
       "    /* Turns off some styling */\n",
       "    progress {\n",
       "        /* gets rid of default border in Firefox and Opera. */\n",
       "        border: none;\n",
       "        /* Needs to be in here for Safari polyfill so background images work as expected. */\n",
       "        background-size: auto;\n",
       "    }\n",
       "    progress:not([value]), progress:not([value])::-webkit-progress-bar {\n",
       "        background: repeating-linear-gradient(45deg, #7e7e7e, #7e7e7e 10px, #5c5c5c 10px, #5c5c5c 20px);\n",
       "    }\n",
       "    .progress-bar-interrupted, .progress-bar-interrupted::-webkit-progress-bar {\n",
       "        background: #F44336;\n",
       "    }\n",
       "</style>\n"
      ],
      "text/plain": [
       "<IPython.core.display.HTML object>"
      ]
     },
     "metadata": {},
     "output_type": "display_data"
    },
    {
     "data": {
      "text/html": [],
      "text/plain": [
       "<IPython.core.display.HTML object>"
      ]
     },
     "metadata": {},
     "output_type": "display_data"
    },
    {
     "name": "stdout",
     "output_type": "stream",
     "text": [
      "Is Multi-Label? False\n",
      "preprocessing test...\n",
      "language: sw\n",
      "test sequence lengths:\n",
      "\tmean : 9\n",
      "\t95percentile : 14\n",
      "\t99percentile : 16\n"
     ]
    },
    {
     "data": {
      "text/html": [
       "\n",
       "<style>\n",
       "    /* Turns off some styling */\n",
       "    progress {\n",
       "        /* gets rid of default border in Firefox and Opera. */\n",
       "        border: none;\n",
       "        /* Needs to be in here for Safari polyfill so background images work as expected. */\n",
       "        background-size: auto;\n",
       "    }\n",
       "    progress:not([value]), progress:not([value])::-webkit-progress-bar {\n",
       "        background: repeating-linear-gradient(45deg, #7e7e7e, #7e7e7e 10px, #5c5c5c 10px, #5c5c5c 20px);\n",
       "    }\n",
       "    .progress-bar-interrupted, .progress-bar-interrupted::-webkit-progress-bar {\n",
       "        background: #F44336;\n",
       "    }\n",
       "</style>\n"
      ],
      "text/plain": [
       "<IPython.core.display.HTML object>"
      ]
     },
     "metadata": {},
     "output_type": "display_data"
    },
    {
     "data": {
      "text/html": [],
      "text/plain": [
       "<IPython.core.display.HTML object>"
      ]
     },
     "metadata": {},
     "output_type": "display_data"
    },
    {
     "name": "stdout",
     "output_type": "stream",
     "text": [
      "Epoch 1/10\n",
      "12/12 [==============================] - 834s 69s/step - loss: 1.1021 - accuracy: 0.6955 - val_loss: 0.6980 - val_accuracy: 0.8389\n",
      "Epoch 2/10\n",
      "12/12 [==============================] - 1046s 87s/step - loss: 0.7141 - accuracy: 0.8333 - val_loss: 0.6814 - val_accuracy: 0.8389\n",
      "Epoch 3/10\n",
      "12/12 [==============================] - 1002s 84s/step - loss: 0.6670 - accuracy: 0.8333 - val_loss: 0.6417 - val_accuracy: 0.8389\n",
      "Epoch 4/10\n",
      "12/12 [==============================] - 1039s 86s/step - loss: 0.5785 - accuracy: 0.8505 - val_loss: 0.6091 - val_accuracy: 0.8222\n",
      "Epoch 5/10\n",
      "12/12 [==============================] - 993s 82s/step - loss: 0.5111 - accuracy: 0.8601 - val_loss: 0.5331 - val_accuracy: 0.8667\n",
      "Epoch 6/10\n",
      "12/12 [==============================] - 1009s 83s/step - loss: 0.4307 - accuracy: 0.8882 - val_loss: 0.5577 - val_accuracy: 0.8500\n",
      "Epoch 7/10\n",
      "12/12 [==============================] - 996s 82s/step - loss: 0.3910 - accuracy: 0.9108 - val_loss: 0.7032 - val_accuracy: 0.7889\n",
      "Epoch 8/10\n",
      "12/12 [==============================] - 995s 83s/step - loss: 0.4015 - accuracy: 0.8944 - val_loss: 0.5347 - val_accuracy: 0.8611\n",
      "Epoch 9/10\n",
      "12/12 [==============================] - 965s 80s/step - loss: 0.3316 - accuracy: 0.9150 - val_loss: 0.5114 - val_accuracy: 0.8778\n",
      "Epoch 10/10\n",
      "12/12 [==============================] - 842s 70s/step - loss: 0.2525 - accuracy: 0.9403 - val_loss: 0.5573 - val_accuracy: 0.8500\n"
     ]
    },
    {
     "data": {
      "text/plain": [
       "<keras.callbacks.History at 0x7fc48b0c3940>"
      ]
     },
     "execution_count": 11,
     "metadata": {},
     "output_type": "execute_result"
    }
   ],
   "source": [
    "import ktrain\n",
    "from ktrain import text\n",
    "\n",
    "# %selecting transformer to use\n",
    "MODEL_NAME = 'bert-base-multilingual-uncased'\n",
    "\n",
    "# %Common parameters\n",
    "MAXLEN  = 136 # Only consider the first 136 words of each news content\n",
    "batch_size = 128 #  the number of training examples utilised in one iteration.\n",
    "learning_rate = 4e-5 # the amount that the weights are updated during training\n",
    "epochs = 10 # the number of passes of the entire training dataset the algorithm has completed\n",
    "t = text.Transformer(MODEL_NAME, maxlen = MAXLEN)\n",
    "trn = t.preprocess_train(df_train.news_heading_swa.values, df_train.news_type.values)\n",
    "val = t.preprocess_test(df_test.news_heading_swa.values, df_test.news_type.values)\n",
    "model = t.get_classifier()\n",
    "learner = ktrain.get_learner(model, train_data=trn, val_data=val, batch_size=batch_size)\n",
    "learner.fit(learning_rate, epochs)"
   ]
  },
  {
   "cell_type": "markdown",
   "metadata": {},
   "source": [
    "# Selecting the best model "
   ]
  },
  {
   "cell_type": "code",
   "execution_count": 18,
   "metadata": {},
   "outputs": [
    {
     "name": "stdout",
     "output_type": "stream",
     "text": [
      "preprocessing train...\n",
      "language: sw\n",
      "train sequence lengths:\n",
      "\tmean : 9\n",
      "\t95percentile : 14\n",
      "\t99percentile : 18\n"
     ]
    },
    {
     "data": {
      "text/html": [
       "\n",
       "<style>\n",
       "    /* Turns off some styling */\n",
       "    progress {\n",
       "        /* gets rid of default border in Firefox and Opera. */\n",
       "        border: none;\n",
       "        /* Needs to be in here for Safari polyfill so background images work as expected. */\n",
       "        background-size: auto;\n",
       "    }\n",
       "    progress:not([value]), progress:not([value])::-webkit-progress-bar {\n",
       "        background: repeating-linear-gradient(45deg, #7e7e7e, #7e7e7e 10px, #5c5c5c 10px, #5c5c5c 20px);\n",
       "    }\n",
       "    .progress-bar-interrupted, .progress-bar-interrupted::-webkit-progress-bar {\n",
       "        background: #F44336;\n",
       "    }\n",
       "</style>\n"
      ],
      "text/plain": [
       "<IPython.core.display.HTML object>"
      ]
     },
     "metadata": {},
     "output_type": "display_data"
    },
    {
     "data": {
      "text/html": [],
      "text/plain": [
       "<IPython.core.display.HTML object>"
      ]
     },
     "metadata": {},
     "output_type": "display_data"
    },
    {
     "name": "stdout",
     "output_type": "stream",
     "text": [
      "Is Multi-Label? False\n",
      "preprocessing test...\n",
      "language: sw\n",
      "test sequence lengths:\n",
      "\tmean : 9\n",
      "\t95percentile : 14\n",
      "\t99percentile : 16\n"
     ]
    },
    {
     "data": {
      "text/html": [
       "\n",
       "<style>\n",
       "    /* Turns off some styling */\n",
       "    progress {\n",
       "        /* gets rid of default border in Firefox and Opera. */\n",
       "        border: none;\n",
       "        /* Needs to be in here for Safari polyfill so background images work as expected. */\n",
       "        background-size: auto;\n",
       "    }\n",
       "    progress:not([value]), progress:not([value])::-webkit-progress-bar {\n",
       "        background: repeating-linear-gradient(45deg, #7e7e7e, #7e7e7e 10px, #5c5c5c 10px, #5c5c5c 20px);\n",
       "    }\n",
       "    .progress-bar-interrupted, .progress-bar-interrupted::-webkit-progress-bar {\n",
       "        background: #F44336;\n",
       "    }\n",
       "</style>\n"
      ],
      "text/plain": [
       "<IPython.core.display.HTML object>"
      ]
     },
     "metadata": {},
     "output_type": "display_data"
    },
    {
     "data": {
      "text/html": [],
      "text/plain": [
       "<IPython.core.display.HTML object>"
      ]
     },
     "metadata": {},
     "output_type": "display_data"
    },
    {
     "name": "stdout",
     "output_type": "stream",
     "text": [
      "Epoch 1/10\n",
      "23/23 [==============================] - 652s 28s/step - loss: 0.8961 - accuracy: 0.7497 - val_loss: 0.6750 - val_accuracy: 0.8389\n",
      "Epoch 2/10\n",
      "23/23 [==============================] - 605s 26s/step - loss: 0.6366 - accuracy: 0.8429 - val_loss: 0.5771 - val_accuracy: 0.8444\n",
      "Epoch 3/10\n",
      "23/23 [==============================] - 606s 26s/step - loss: 0.5489 - accuracy: 0.8628 - val_loss: 0.5906 - val_accuracy: 0.8444\n",
      "Epoch 4/10\n",
      "23/23 [==============================] - 660s 29s/step - loss: 0.4840 - accuracy: 0.8690 - val_loss: 0.5350 - val_accuracy: 0.8722\n",
      "Epoch 5/10\n",
      "23/23 [==============================] - 676s 29s/step - loss: 0.3895 - accuracy: 0.8978 - val_loss: 0.5996 - val_accuracy: 0.8333\n",
      "Epoch 6/10\n",
      "23/23 [==============================] - 670s 29s/step - loss: 0.3448 - accuracy: 0.9163 - val_loss: 0.4913 - val_accuracy: 0.8611\n",
      "Epoch 7/10\n",
      "23/23 [==============================] - 643s 28s/step - loss: 0.2753 - accuracy: 0.9362 - val_loss: 0.6006 - val_accuracy: 0.8222\n",
      "Epoch 8/10\n",
      "23/23 [==============================] - 671s 29s/step - loss: 0.2185 - accuracy: 0.9527 - val_loss: 0.5774 - val_accuracy: 0.8389\n",
      "Epoch 9/10\n",
      "23/23 [==============================] - 642s 28s/step - loss: 0.1585 - accuracy: 0.9691 - val_loss: 0.5605 - val_accuracy: 0.8556\n",
      "Epoch 10/10\n",
      "23/23 [==============================] - 658s 29s/step - loss: 0.1353 - accuracy: 0.9684 - val_loss: 0.5395 - val_accuracy: 0.8833\n"
     ]
    },
    {
     "data": {
      "text/plain": [
       "<keras.callbacks.History at 0x7f9ed788d910>"
      ]
     },
     "execution_count": 18,
     "metadata": {},
     "output_type": "execute_result"
    }
   ],
   "source": [
    "import ktrain\n",
    "from ktrain import text\n",
    "\n",
    "# selecting transformer to use\n",
    "MODEL_NAME = 'bert-base-multilingual-uncased'\n",
    "\n",
    "# Common hyper-parameters\n",
    "MAXLEN  = 136 # Only consider the first 136 words of each news content\n",
    "batch_size = 64 #  the number of training examples utilised in one iteration.\n",
    "learning_rate = 4e-5 # the amount that the weights are updated during training\n",
    "epochs = 10 # the number of passes of the entire training dataset the algorithm has completed\n",
    "t = text.Transformer(MODEL_NAME, maxlen = MAXLEN)\n",
    "trn = t.preprocess_train(df_train.news_heading_swa.values, df_train.news_type.values)\n",
    "val = t.preprocess_test(df_test.news_heading_swa.values, df_test.news_type.values)\n",
    "model = t.get_classifier()\n",
    "learner = ktrain.get_learner(model, train_data=trn, val_data=val, batch_size=batch_size)\n",
    "learner.fit(learning_rate, epochs)"
   ]
  },
  {
   "cell_type": "markdown",
   "metadata": {},
   "source": [
    "# Testing the model and Saving the classifier"
   ]
  },
  {
   "cell_type": "code",
   "execution_count": 20,
   "metadata": {},
   "outputs": [],
   "source": [
    "tl_classifier = ktrain.get_predictor(learner.model,t)"
   ]
  },
  {
   "cell_type": "code",
   "execution_count": 21,
   "metadata": {},
   "outputs": [
    {
     "data": {
      "text/plain": [
       "'/Users/sumitbajare/Documents/Sussex/Project'"
      ]
     },
     "execution_count": 21,
     "metadata": {},
     "output_type": "execute_result"
    }
   ],
   "source": [
    "# Fecthing the current directory\n",
    "os.getcwd()"
   ]
  },
  {
   "cell_type": "code",
   "execution_count": 22,
   "metadata": {},
   "outputs": [],
   "source": [
    "# Changing the directory\n",
    "os.chdir('/Users/sumitbajare/Documents/Sussex/Project/data/')"
   ]
  },
  {
   "cell_type": "code",
   "execution_count": 23,
   "metadata": {},
   "outputs": [],
   "source": [
    "def test(file):\n",
    "    '''\n",
    "        This function will read the contents of a part of corpus and \n",
    "        print the new type of the content.\n",
    "        \n",
    "        Parameter: file- the file where the contents are stored\n",
    "        Return: contents, news_type\n",
    "    '''\n",
    "    \n",
    "    # extracting a specific news from the kiswa corpus \n",
    "    test_file=open(file,'r')\n",
    "    # reading the whole file in a string\n",
    "    content=test_file.read()\n",
    "    # closing the file\n",
    "    test_file.close()\n",
    "    # prdicting the type of the news\n",
    "    news_type=kiswa_classifier.predict(clean_text(content))\n",
    "    return content,news_type"
   ]
  },
  {
   "cell_type": "code",
   "execution_count": 25,
   "metadata": {},
   "outputs": [
    {
     "data": {
      "text/html": [
       "<div>\n",
       "<style scoped>\n",
       "    .dataframe tbody tr th:only-of-type {\n",
       "        vertical-align: middle;\n",
       "    }\n",
       "\n",
       "    .dataframe tbody tr th {\n",
       "        vertical-align: top;\n",
       "    }\n",
       "\n",
       "    .dataframe thead th {\n",
       "        text-align: right;\n",
       "    }\n",
       "</style>\n",
       "<table border=\"1\" class=\"dataframe\">\n",
       "  <thead>\n",
       "    <tr style=\"text-align: right;\">\n",
       "      <th></th>\n",
       "      <th>date</th>\n",
       "      <th>id</th>\n",
       "      <th>news_heading_eng</th>\n",
       "      <th>news_heading_swa</th>\n",
       "      <th>News type</th>\n",
       "    </tr>\n",
       "  </thead>\n",
       "  <tbody>\n",
       "    <tr>\n",
       "      <th>0</th>\n",
       "      <td>2022-01-11</td>\n",
       "      <td>tl8</td>\n",
       "      <td>member of parliament richard onyonka surrender...</td>\n",
       "      <td>mbunge richard onyonka ajisalimisha kwa dci kisii</td>\n",
       "      <td>Local News</td>\n",
       "    </tr>\n",
       "    <tr>\n",
       "      <th>1</th>\n",
       "      <td>2022-02-22</td>\n",
       "      <td>tl25</td>\n",
       "      <td>citizens are afraid as police continue to kill...</td>\n",
       "      <td>wananchi waogopa huku polisi wakiendelea kujiua</td>\n",
       "      <td>Local News</td>\n",
       "    </tr>\n",
       "    <tr>\n",
       "      <th>2</th>\n",
       "      <td>2022-03-04</td>\n",
       "      <td>tl30</td>\n",
       "      <td>those who fail in the qualifiers find a way to...</td>\n",
       "      <td>wale wanaoshindwa katika mechi za kufuzu wataf...</td>\n",
       "      <td>Local News</td>\n",
       "    </tr>\n",
       "    <tr>\n",
       "      <th>3</th>\n",
       "      <td>2022-03-11</td>\n",
       "      <td>tl34</td>\n",
       "      <td>manhunt : police tasting bodaboda hooliganism</td>\n",
       "      <td>msako : polisi kuonja uhuni wa bodaboda</td>\n",
       "      <td>Local News</td>\n",
       "    </tr>\n",
       "    <tr>\n",
       "      <th>4</th>\n",
       "      <td>2022-03-22</td>\n",
       "      <td>tl38</td>\n",
       "      <td>hundreds of kerio migrants as attacks increase</td>\n",
       "      <td>mamia ya wahamiaji wa kerio huku mashambulizi ...</td>\n",
       "      <td>Local News</td>\n",
       "    </tr>\n",
       "  </tbody>\n",
       "</table>\n",
       "</div>"
      ],
      "text/plain": [
       "         date    id                                   news_heading_eng  \\\n",
       "0  2022-01-11   tl8  member of parliament richard onyonka surrender...   \n",
       "1  2022-02-22  tl25  citizens are afraid as police continue to kill...   \n",
       "2  2022-03-04  tl30  those who fail in the qualifiers find a way to...   \n",
       "3  2022-03-11  tl34      manhunt : police tasting bodaboda hooliganism   \n",
       "4  2022-03-22  tl38     hundreds of kerio migrants as attacks increase   \n",
       "\n",
       "                                    news_heading_swa   News type  \n",
       "0  mbunge richard onyonka ajisalimisha kwa dci kisii  Local News  \n",
       "1    wananchi waogopa huku polisi wakiendelea kujiua  Local News  \n",
       "2  wale wanaoshindwa katika mechi za kufuzu wataf...  Local News  \n",
       "3            msako : polisi kuonja uhuni wa bodaboda  Local News  \n",
       "4  mamia ya wahamiaji wa kerio huku mashambulizi ...  Local News  "
      ]
     },
     "execution_count": 25,
     "metadata": {},
     "output_type": "execute_result"
    }
   ],
   "source": [
    "# Loading the Kiswa corpus Training dataset for processing\n",
    "data = pd.read_csv(\"tl_test.csv\")\n",
    "# preview the top 5 rows of the dataset\n",
    "data.head()"
   ]
  },
  {
   "cell_type": "code",
   "execution_count": 26,
   "metadata": {},
   "outputs": [
    {
     "data": {
      "text/html": [
       "<div>\n",
       "<style scoped>\n",
       "    .dataframe tbody tr th:only-of-type {\n",
       "        vertical-align: middle;\n",
       "    }\n",
       "\n",
       "    .dataframe tbody tr th {\n",
       "        vertical-align: top;\n",
       "    }\n",
       "\n",
       "    .dataframe thead th {\n",
       "        text-align: right;\n",
       "    }\n",
       "</style>\n",
       "<table border=\"1\" class=\"dataframe\">\n",
       "  <thead>\n",
       "    <tr style=\"text-align: right;\">\n",
       "      <th></th>\n",
       "      <th>date</th>\n",
       "      <th>id</th>\n",
       "      <th>news_heading_eng</th>\n",
       "      <th>news_heading_swa</th>\n",
       "      <th>News type</th>\n",
       "    </tr>\n",
       "  </thead>\n",
       "  <tbody>\n",
       "    <tr>\n",
       "      <th>91</th>\n",
       "      <td>2021-09-16</td>\n",
       "      <td>tl871</td>\n",
       "      <td>how the farmer faces the trouble of fresh farm...</td>\n",
       "      <td>jinsi mkulima anavyokabiliwa na shida ya mazao...</td>\n",
       "      <td>Local News</td>\n",
       "    </tr>\n",
       "    <tr>\n",
       "      <th>83</th>\n",
       "      <td>2021-09-07</td>\n",
       "      <td>tl814</td>\n",
       "      <td>hope factory receives sh30m</td>\n",
       "      <td>kiwanda cha matumaini chapokea sh30m</td>\n",
       "      <td>Local News</td>\n",
       "    </tr>\n",
       "    <tr>\n",
       "      <th>10</th>\n",
       "      <td>2022-06-06</td>\n",
       "      <td>tl92</td>\n",
       "      <td>mombasa : wiper has until june 9</td>\n",
       "      <td>mombasa : wiper ina hadi juni 9</td>\n",
       "      <td>Local News</td>\n",
       "    </tr>\n",
       "    <tr>\n",
       "      <th>142</th>\n",
       "      <td>2021-05-22</td>\n",
       "      <td>tl1441</td>\n",
       "      <td>gicheru compares bensouda 's office with a pow...</td>\n",
       "      <td>gicheru alinganisha ofisi ya bensouda na mchaw...</td>\n",
       "      <td>Local News</td>\n",
       "    </tr>\n",
       "    <tr>\n",
       "      <th>114</th>\n",
       "      <td>2021-12-17</td>\n",
       "      <td>tl1148</td>\n",
       "      <td>corn milling companies suspend their activities</td>\n",
       "      <td>kampuni za kusaga mahindi zasitisha shughuli zake</td>\n",
       "      <td>Local News</td>\n",
       "    </tr>\n",
       "  </tbody>\n",
       "</table>\n",
       "</div>"
      ],
      "text/plain": [
       "           date      id                                   news_heading_eng  \\\n",
       "91   2021-09-16   tl871  how the farmer faces the trouble of fresh farm...   \n",
       "83   2021-09-07   tl814                        hope factory receives sh30m   \n",
       "10   2022-06-06    tl92                   mombasa : wiper has until june 9   \n",
       "142  2021-05-22  tl1441  gicheru compares bensouda 's office with a pow...   \n",
       "114  2021-12-17  tl1148    corn milling companies suspend their activities   \n",
       "\n",
       "                                      news_heading_swa   News type  \n",
       "91   jinsi mkulima anavyokabiliwa na shida ya mazao...  Local News  \n",
       "83                kiwanda cha matumaini chapokea sh30m  Local News  \n",
       "10                     mombasa : wiper ina hadi juni 9  Local News  \n",
       "142  gicheru alinganisha ofisi ya bensouda na mchaw...  Local News  \n",
       "114  kampuni za kusaga mahindi zasitisha shughuli zake  Local News  "
      ]
     },
     "execution_count": 26,
     "metadata": {},
     "output_type": "execute_result"
    }
   ],
   "source": [
    "# testing on this sample data\n",
    "data.sample(n=5)"
   ]
  },
  {
   "cell_type": "code",
   "execution_count": null,
   "metadata": {},
   "outputs": [],
   "source": []
  },
  {
   "cell_type": "code",
   "execution_count": 27,
   "metadata": {},
   "outputs": [
    {
     "data": {
      "text/plain": [
       "'/Users/sumitbajare/Documents/Sussex/Project/data'"
      ]
     },
     "execution_count": 27,
     "metadata": {},
     "output_type": "execute_result"
    }
   ],
   "source": [
    "# Fetching the current directory\n",
    "import os\n",
    "os.getcwd()"
   ]
  },
  {
   "cell_type": "code",
   "execution_count": 28,
   "metadata": {},
   "outputs": [],
   "source": [
    "# Chaging the directory \n",
    "os.chdir('/Users/sumitbajare/Documents/Sussex/Project/model')"
   ]
  },
  {
   "cell_type": "code",
   "execution_count": 30,
   "metadata": {},
   "outputs": [],
   "source": [
    "# Saving the classifier\n",
    "tl_classifier.save('tl_corpus_classifier')"
   ]
  },
  {
   "cell_type": "code",
   "execution_count": 55,
   "metadata": {},
   "outputs": [],
   "source": [
    "# Loading the classifier\n",
    "import ktrain\n",
    "predictor = ktrain.load_predictor('tl_corpus_classifier')"
   ]
  },
  {
   "cell_type": "code",
   "execution_count": 34,
   "metadata": {},
   "outputs": [
    {
     "data": {
      "text/html": [
       "<div>\n",
       "<style scoped>\n",
       "    .dataframe tbody tr th:only-of-type {\n",
       "        vertical-align: middle;\n",
       "    }\n",
       "\n",
       "    .dataframe tbody tr th {\n",
       "        vertical-align: top;\n",
       "    }\n",
       "\n",
       "    .dataframe thead th {\n",
       "        text-align: right;\n",
       "    }\n",
       "</style>\n",
       "<table border=\"1\" class=\"dataframe\">\n",
       "  <thead>\n",
       "    <tr style=\"text-align: right;\">\n",
       "      <th></th>\n",
       "      <th>date</th>\n",
       "      <th>id</th>\n",
       "      <th>news_heading_eng</th>\n",
       "      <th>news_heading_swa</th>\n",
       "      <th>News type</th>\n",
       "    </tr>\n",
       "  </thead>\n",
       "  <tbody>\n",
       "    <tr>\n",
       "      <th>0</th>\n",
       "      <td>2022-01-11</td>\n",
       "      <td>tl8</td>\n",
       "      <td>member of parliament richard onyonka surrender...</td>\n",
       "      <td>mbunge richard onyonka ajisalimisha kwa dci kisii</td>\n",
       "      <td>Local News</td>\n",
       "    </tr>\n",
       "    <tr>\n",
       "      <th>1</th>\n",
       "      <td>2022-02-22</td>\n",
       "      <td>tl25</td>\n",
       "      <td>citizens are afraid as police continue to kill...</td>\n",
       "      <td>wananchi waogopa huku polisi wakiendelea kujiua</td>\n",
       "      <td>Local News</td>\n",
       "    </tr>\n",
       "    <tr>\n",
       "      <th>2</th>\n",
       "      <td>2022-03-04</td>\n",
       "      <td>tl30</td>\n",
       "      <td>those who fail in the qualifiers find a way to...</td>\n",
       "      <td>wale wanaoshindwa katika mechi za kufuzu wataf...</td>\n",
       "      <td>Local News</td>\n",
       "    </tr>\n",
       "    <tr>\n",
       "      <th>3</th>\n",
       "      <td>2022-03-11</td>\n",
       "      <td>tl34</td>\n",
       "      <td>manhunt : police tasting bodaboda hooliganism</td>\n",
       "      <td>msako : polisi kuonja uhuni wa bodaboda</td>\n",
       "      <td>Local News</td>\n",
       "    </tr>\n",
       "    <tr>\n",
       "      <th>4</th>\n",
       "      <td>2022-03-22</td>\n",
       "      <td>tl38</td>\n",
       "      <td>hundreds of kerio migrants as attacks increase</td>\n",
       "      <td>mamia ya wahamiaji wa kerio huku mashambulizi ...</td>\n",
       "      <td>Local News</td>\n",
       "    </tr>\n",
       "  </tbody>\n",
       "</table>\n",
       "</div>"
      ],
      "text/plain": [
       "         date    id                                   news_heading_eng  \\\n",
       "0  2022-01-11   tl8  member of parliament richard onyonka surrender...   \n",
       "1  2022-02-22  tl25  citizens are afraid as police continue to kill...   \n",
       "2  2022-03-04  tl30  those who fail in the qualifiers find a way to...   \n",
       "3  2022-03-11  tl34      manhunt : police tasting bodaboda hooliganism   \n",
       "4  2022-03-22  tl38     hundreds of kerio migrants as attacks increase   \n",
       "\n",
       "                                    news_heading_swa   News type  \n",
       "0  mbunge richard onyonka ajisalimisha kwa dci kisii  Local News  \n",
       "1    wananchi waogopa huku polisi wakiendelea kujiua  Local News  \n",
       "2  wale wanaoshindwa katika mechi za kufuzu wataf...  Local News  \n",
       "3            msako : polisi kuonja uhuni wa bodaboda  Local News  \n",
       "4  mamia ya wahamiaji wa kerio huku mashambulizi ...  Local News  "
      ]
     },
     "execution_count": 34,
     "metadata": {},
     "output_type": "execute_result"
    }
   ],
   "source": [
    "data.head()"
   ]
  },
  {
   "cell_type": "code",
   "execution_count": 53,
   "metadata": {},
   "outputs": [
    {
     "data": {
      "text/html": [
       "<div>\n",
       "<style scoped>\n",
       "    .dataframe tbody tr th:only-of-type {\n",
       "        vertical-align: middle;\n",
       "    }\n",
       "\n",
       "    .dataframe tbody tr th {\n",
       "        vertical-align: top;\n",
       "    }\n",
       "\n",
       "    .dataframe thead th {\n",
       "        text-align: right;\n",
       "    }\n",
       "</style>\n",
       "<table border=\"1\" class=\"dataframe\">\n",
       "  <thead>\n",
       "    <tr style=\"text-align: right;\">\n",
       "      <th></th>\n",
       "      <th>date</th>\n",
       "      <th>id</th>\n",
       "      <th>news_heading_eng</th>\n",
       "      <th>news_heading_swa</th>\n",
       "      <th>News type</th>\n",
       "    </tr>\n",
       "  </thead>\n",
       "  <tbody>\n",
       "    <tr>\n",
       "      <th>82</th>\n",
       "      <td>2021-09-04</td>\n",
       "      <td>tl806</td>\n",
       "      <td>lawmakers reject the proposal to reduce the in...</td>\n",
       "      <td>wabunge wakataa pendekezo la kupunguza riba ya...</td>\n",
       "      <td>Financial news</td>\n",
       "    </tr>\n",
       "    <tr>\n",
       "      <th>38</th>\n",
       "      <td>2021-06-23</td>\n",
       "      <td>tl355</td>\n",
       "      <td>zalia counties delayed allocation of national ...</td>\n",
       "      <td>kaunti za zalia zachelewesha ugawaji wa fedha ...</td>\n",
       "      <td>Financial news</td>\n",
       "    </tr>\n",
       "    <tr>\n",
       "      <th>161</th>\n",
       "      <td>2021-02-26</td>\n",
       "      <td>tl1617</td>\n",
       "      <td>member of parliament encourages young people a...</td>\n",
       "      <td>mbunge ahimiza vijana na wafanyabiashara wa ru...</td>\n",
       "      <td>Financial news</td>\n",
       "    </tr>\n",
       "  </tbody>\n",
       "</table>\n",
       "</div>"
      ],
      "text/plain": [
       "           date      id                                   news_heading_eng  \\\n",
       "82   2021-09-04   tl806  lawmakers reject the proposal to reduce the in...   \n",
       "38   2021-06-23   tl355  zalia counties delayed allocation of national ...   \n",
       "161  2021-02-26  tl1617  member of parliament encourages young people a...   \n",
       "\n",
       "                                      news_heading_swa       News type  \n",
       "82   wabunge wakataa pendekezo la kupunguza riba ya...  Financial news  \n",
       "38   kaunti za zalia zachelewesha ugawaji wa fedha ...  Financial news  \n",
       "161  mbunge ahimiza vijana na wafanyabiashara wa ru...  Financial news  "
      ]
     },
     "execution_count": 53,
     "metadata": {},
     "output_type": "execute_result"
    }
   ],
   "source": [
    "# Checking for Financial news\n",
    "data[data['News type']=='Financial news'].sample(n=3)"
   ]
  },
  {
   "cell_type": "code",
   "execution_count": 54,
   "metadata": {},
   "outputs": [
    {
     "data": {
      "text/plain": [
       "'Entertainment news'"
      ]
     },
     "execution_count": 54,
     "metadata": {},
     "output_type": "execute_result"
    }
   ],
   "source": [
    "# predicting for id-tl806\n",
    "predictor.predict('21sep04')"
   ]
  },
  {
   "cell_type": "code",
   "execution_count": 68,
   "metadata": {},
   "outputs": [
    {
     "data": {
      "text/plain": [
       "'Local News'"
      ]
     },
     "execution_count": 68,
     "metadata": {},
     "output_type": "execute_result"
    }
   ],
   "source": [
    "# predicting for id-tl355\n",
    "predictor.predict('21jun23')"
   ]
  },
  {
   "cell_type": "code",
   "execution_count": 69,
   "metadata": {},
   "outputs": [
    {
     "data": {
      "text/plain": [
       "'Local News'"
      ]
     },
     "execution_count": 69,
     "metadata": {},
     "output_type": "execute_result"
    }
   ],
   "source": [
    "# predicting for id-tl1617\n",
    "predictor.predict('21feb26')"
   ]
  },
  {
   "cell_type": "code",
   "execution_count": 73,
   "metadata": {},
   "outputs": [
    {
     "data": {
      "text/html": [
       "<div>\n",
       "<style scoped>\n",
       "    .dataframe tbody tr th:only-of-type {\n",
       "        vertical-align: middle;\n",
       "    }\n",
       "\n",
       "    .dataframe tbody tr th {\n",
       "        vertical-align: top;\n",
       "    }\n",
       "\n",
       "    .dataframe thead th {\n",
       "        text-align: right;\n",
       "    }\n",
       "</style>\n",
       "<table border=\"1\" class=\"dataframe\">\n",
       "  <thead>\n",
       "    <tr style=\"text-align: right;\">\n",
       "      <th></th>\n",
       "      <th>date</th>\n",
       "      <th>id</th>\n",
       "      <th>news_heading_eng</th>\n",
       "      <th>news_heading_swa</th>\n",
       "      <th>News type</th>\n",
       "    </tr>\n",
       "  </thead>\n",
       "  <tbody>\n",
       "    <tr>\n",
       "      <th>150</th>\n",
       "      <td>2021-02-14</td>\n",
       "      <td>tl1543</td>\n",
       "      <td>epra : atwoli wants relevant ministries to sta...</td>\n",
       "      <td>epra : atwoli ataka wizara husika kusimamia wa...</td>\n",
       "      <td>Local News</td>\n",
       "    </tr>\n",
       "  </tbody>\n",
       "</table>\n",
       "</div>"
      ],
      "text/plain": [
       "           date      id                                   news_heading_eng  \\\n",
       "150  2021-02-14  tl1543  epra : atwoli wants relevant ministries to sta...   \n",
       "\n",
       "                                      news_heading_swa   News type  \n",
       "150  epra : atwoli ataka wizara husika kusimamia wa...  Local News  "
      ]
     },
     "execution_count": 73,
     "metadata": {},
     "output_type": "execute_result"
    }
   ],
   "source": [
    "# Checking for Local news\n",
    "data[data['News type']=='Local News'].sample()"
   ]
  },
  {
   "cell_type": "code",
   "execution_count": 74,
   "metadata": {},
   "outputs": [
    {
     "data": {
      "text/plain": [
       "'Local News'"
      ]
     },
     "execution_count": 74,
     "metadata": {},
     "output_type": "execute_result"
    }
   ],
   "source": [
    "# predicting for id-tl1543\n",
    "predictor.predict('21feb14')"
   ]
  },
  {
   "cell_type": "code",
   "execution_count": 82,
   "metadata": {},
   "outputs": [
    {
     "data": {
      "text/html": [
       "<div>\n",
       "<style scoped>\n",
       "    .dataframe tbody tr th:only-of-type {\n",
       "        vertical-align: middle;\n",
       "    }\n",
       "\n",
       "    .dataframe tbody tr th {\n",
       "        vertical-align: top;\n",
       "    }\n",
       "\n",
       "    .dataframe thead th {\n",
       "        text-align: right;\n",
       "    }\n",
       "</style>\n",
       "<table border=\"1\" class=\"dataframe\">\n",
       "  <thead>\n",
       "    <tr style=\"text-align: right;\">\n",
       "      <th></th>\n",
       "      <th>date</th>\n",
       "      <th>id</th>\n",
       "      <th>news_heading_eng</th>\n",
       "      <th>news_heading_swa</th>\n",
       "      <th>News type</th>\n",
       "    </tr>\n",
       "  </thead>\n",
       "  <tbody>\n",
       "    <tr>\n",
       "      <th>22</th>\n",
       "      <td>2021-06-08</td>\n",
       "      <td>tl211</td>\n",
       "      <td>nakuru street players receive funding to jack ...</td>\n",
       "      <td>wachezaji wa mtaa wa nakuru wapokea ufadhili k...</td>\n",
       "      <td>Sports news</td>\n",
       "    </tr>\n",
       "    <tr>\n",
       "      <th>32</th>\n",
       "      <td>2021-06-22</td>\n",
       "      <td>tl326</td>\n",
       "      <td>argentina defeated paraguay while chile came o...</td>\n",
       "      <td>argentina iliishinda paraguay huku chile ikito...</td>\n",
       "      <td>Sports news</td>\n",
       "    </tr>\n",
       "    <tr>\n",
       "      <th>42</th>\n",
       "      <td>2021-06-24</td>\n",
       "      <td>tl377</td>\n",
       "      <td>find out who will meet who in a tough euro rou...</td>\n",
       "      <td>tafuta nani atakutana na nani katika raundi ng...</td>\n",
       "      <td>Sports news</td>\n",
       "    </tr>\n",
       "    <tr>\n",
       "      <th>181</th>\n",
       "      <td>2021-03-30</td>\n",
       "      <td>tl1810</td>\n",
       "      <td>nike comes to court to sue the company about '...</td>\n",
       "      <td>nike yaja mahakamani kuishtaki kampuni kuhusu ...</td>\n",
       "      <td>Sports news</td>\n",
       "    </tr>\n",
       "  </tbody>\n",
       "</table>\n",
       "</div>"
      ],
      "text/plain": [
       "           date      id                                   news_heading_eng  \\\n",
       "22   2021-06-08   tl211  nakuru street players receive funding to jack ...   \n",
       "32   2021-06-22   tl326  argentina defeated paraguay while chile came o...   \n",
       "42   2021-06-24   tl377  find out who will meet who in a tough euro rou...   \n",
       "181  2021-03-30  tl1810  nike comes to court to sue the company about '...   \n",
       "\n",
       "                                      news_heading_swa    News type  \n",
       "22   wachezaji wa mtaa wa nakuru wapokea ufadhili k...  Sports news  \n",
       "32   argentina iliishinda paraguay huku chile ikito...  Sports news  \n",
       "42   tafuta nani atakutana na nani katika raundi ng...  Sports news  \n",
       "181  nike yaja mahakamani kuishtaki kampuni kuhusu ...  Sports news  "
      ]
     },
     "execution_count": 82,
     "metadata": {},
     "output_type": "execute_result"
    }
   ],
   "source": [
    "# Checking for Sports news\n",
    "data[data['News type']=='Sports news']"
   ]
  },
  {
   "cell_type": "code",
   "execution_count": 81,
   "metadata": {},
   "outputs": [
    {
     "data": {
      "text/plain": [
       "'Local News'"
      ]
     },
     "execution_count": 81,
     "metadata": {},
     "output_type": "execute_result"
    }
   ],
   "source": [
    "# predicting for id-tl1543\n",
    "predictor.predict('21jun22')"
   ]
  }
 ],
 "metadata": {
  "kernelspec": {
   "display_name": "Python 3",
   "language": "python",
   "name": "python3"
  }
 },
 "nbformat": 4,
 "nbformat_minor": 4
}
